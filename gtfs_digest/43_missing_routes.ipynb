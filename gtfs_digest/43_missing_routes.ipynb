{
 "cells": [
  {
   "cell_type": "markdown",
   "id": "60576aa4-84aa-4c2f-9b2d-e656af3e3c12",
   "metadata": {},
   "source": [
    "## Find Missing Routes: 2 operators. \n",
    "* [Issue](https://github.com/cal-itp/data-analyses/issues/1312): Capital Corridor doesn't have any rail routes. \n",
    "* [Most of Santa Maria's routes not showing up in GTFS Digest](https://github.com/cal-itp/data-analyses/issues/1313)\n",
    "* `cd data-analyses/rt_segment_speeds && pip install -r requirements.txt && cd ../_shared_utils && make setup_env && cd ../gtfs_digest`\n",
    "* 1/7: the routes are appearing in `the longest shape` but not appearing in `route_typologies`"
   ]
  },
  {
   "cell_type": "code",
   "execution_count": 164,
   "id": "c1ae0965-8810-409c-b0f1-a15d4bf18199",
   "metadata": {},
   "outputs": [],
   "source": [
    "import geopandas as gpd\n",
    "import merge_data\n",
    "import numpy as np\n",
    "import pandas as pd\n",
    "from segment_speed_utils import (\n",
    "    gtfs_schedule_wrangling,\n",
    "    helpers,\n",
    "    metrics,\n",
    "    segment_calcs,\n",
    "    time_series_utils,\n",
    ")\n",
    "from shared_utils import (\n",
    "    catalog_utils,\n",
    "    portfolio_utils,\n",
    "    rt_dates,\n",
    "    rt_utils,\n",
    "    time_helpers,\n",
    ")\n",
    "from update_vars import GTFS_DATA_DICT, RT_SCHED_GCS, SCHED_GCS, SEGMENT_GCS"
   ]
  },
  {
   "cell_type": "code",
   "execution_count": 2,
   "id": "74eaf3a5-711d-447d-a945-93cc24dd6f14",
   "metadata": {},
   "outputs": [],
   "source": [
    "pd.options.display.max_columns = 100\n",
    "pd.options.display.float_format = \"{:.2f}\".format\n",
    "pd.set_option(\"display.max_rows\", None)\n",
    "pd.set_option(\"display.max_colwidth\", None)"
   ]
  },
  {
   "cell_type": "code",
   "execution_count": 3,
   "id": "1da55301-1cb1-4187-a90c-9ed3d1c39706",
   "metadata": {},
   "outputs": [],
   "source": [
    "org_name_lists = [\"Capitol Corridor Joint Powers Authority\", \"City of Santa Maria\"]"
   ]
  },
  {
   "cell_type": "code",
   "execution_count": 4,
   "id": "370e6e0d-edb8-40ab-8a27-b299ea9c279e",
   "metadata": {},
   "outputs": [],
   "source": [
    "analysis_date_list = rt_dates.y2024_dates"
   ]
  },
  {
   "cell_type": "code",
   "execution_count": 5,
   "id": "05bd6fee-c007-4d01-a29e-05c30c478fcb",
   "metadata": {},
   "outputs": [],
   "source": [
    "one_analysis_date = \"2024-11-13\""
   ]
  },
  {
   "cell_type": "code",
   "execution_count": 6,
   "id": "29688d1c-3239-4bc0-935d-8947a426d02d",
   "metadata": {},
   "outputs": [],
   "source": [
    "schd_keys = [\n",
    "    \"5a8721fe96786fcd25fba1f8a0ee6358\",\n",
    "    \"73105f2d1cabc8170ab066d96863c5d5\",\n",
    "    \"f5a749dd65924e025b1293c58f95f8d6\",\n",
    "]"
   ]
  },
  {
   "cell_type": "code",
   "execution_count": 7,
   "id": "b4a5fd8f-b4ed-42b4-ab3a-199e0ce779ae",
   "metadata": {},
   "outputs": [],
   "source": [
    "import sys\n",
    "\n",
    "sys.path.append(\"../gtfs_funnel/\")\n",
    "import operator_scheduled_stats\n",
    "import schedule_stats_by_route_direction"
   ]
  },
  {
   "cell_type": "code",
   "execution_count": 62,
   "id": "62b562a2-9422-4d56-8baf-9d0a87d0b5da",
   "metadata": {},
   "outputs": [],
   "source": [
    "def preview(df):\n",
    "    df2 = df[\n",
    "        [\"schedule_gtfs_dataset_key\", \"route_id\", \"direction_id\"]\n",
    "    ].drop_duplicates()\n",
    "    display(df2)"
   ]
  },
  {
   "cell_type": "markdown",
   "id": "1739c2de-8d1c-4ec2-8bbf-a05838fb803e",
   "metadata": {},
   "source": [
    "### Fix `schd_vp_url`"
   ]
  },
  {
   "cell_type": "code",
   "execution_count": 8,
   "id": "38069e57-1172-4261-9312-c9e7da14619f",
   "metadata": {},
   "outputs": [],
   "source": [
    "schd_vp_url = f\"{GTFS_DATA_DICT.digest_tables.dir}{GTFS_DATA_DICT.digest_tables.route_schedule_vp}.parquet\""
   ]
  },
  {
   "cell_type": "code",
   "execution_count": 15,
   "id": "7b60298d-23a9-4a9a-8086-153f0dc8a0e9",
   "metadata": {},
   "outputs": [],
   "source": [
    "schd_vp_df = pd.read_parquet(schd_vp_url)"
   ]
  },
  {
   "cell_type": "code",
   "execution_count": 16,
   "id": "36152890-03ba-47a6-9bdf-89489be23410",
   "metadata": {},
   "outputs": [],
   "source": [
    "schd_vp_df2 = schd_vp_df.loc[schd_vp_df.organization_name.isin(org_name_lists)]"
   ]
  },
  {
   "cell_type": "code",
   "execution_count": 17,
   "id": "a674a033-5a27-4a34-98ed-ad86c37e6416",
   "metadata": {},
   "outputs": [
    {
     "data": {
      "text/plain": [
       "array(['b3848f93-d26b-48a9-b6a6-5de22a4eab47', '5', 'Shuttle', 'CC'],\n",
       "      dtype=object)"
      ]
     },
     "execution_count": 17,
     "metadata": {},
     "output_type": "execute_result"
    }
   ],
   "source": [
    "schd_vp_df2.route_id.unique()"
   ]
  },
  {
   "cell_type": "markdown",
   "id": "00214565-1faa-44c2-8b8e-f95aeff43e0c",
   "metadata": {},
   "source": [
    "###  Check out `rt_segment_speeds/segment_speed_utils/gtfs_schedule_wrangling`\n",
    "* https://github.com/cal-itp/data-analyses/blob/4dc340343a60b45ad94217c3efd91f807b03ebc2/rt_segment_speeds/segment_speed_utils/gtfs_schedule_wrangling.py \n",
    "* Tiffany: <i>Can you try specifying the dropna argument inside pandas groupby? Our pandas version has gone through upgrades, from 0.25 to now 1.5 ), and this argument was introduced in 1.1 and since it's dropna=True, that's probably what's driving the the row behavior.</i>\n",
    "* It worked! Now time to rerun stuff further down the pipeline and see what happens."
   ]
  },
  {
   "cell_type": "code",
   "execution_count": 20,
   "id": "13ccc181-e291-42be-b195-4ad7bb00bfa4",
   "metadata": {},
   "outputs": [],
   "source": [
    "def most_common_shape_by_route_direction(analysis_date: str) -> gpd.GeoDataFrame:\n",
    "    \"\"\"\n",
    "    Find shape_id with most trips for that route-direction.\n",
    "    Merge in shape geometry.\n",
    "    \"\"\"\n",
    "    route_dir_cols = [\"gtfs_dataset_key\", \"route_id\", \"direction_id\"]\n",
    "\n",
    "    keep_trip_cols = route_dir_cols + [\n",
    "        \"trip_instance_key\",\n",
    "        \"shape_id\",\n",
    "        \"shape_array_key\",\n",
    "    ]\n",
    "\n",
    "    trips = helpers.import_scheduled_trips(\n",
    "        analysis_date, columns=keep_trip_cols, get_pandas=True\n",
    "    ).rename(columns={\"schedule_gtfs_dataset_key\": \"gtfs_dataset_key\"})\n",
    "    sorting_order = [True for i in route_dir_cols]\n",
    "\n",
    "    most_common_shape = (\n",
    "        trips.groupby(\n",
    "            route_dir_cols + [\"shape_id\", \"shape_array_key\"],\n",
    "            observed=True,\n",
    "            group_keys=False,\n",
    "            dropna=False,\n",
    "        )\n",
    "        .agg({\"trip_instance_key\": \"count\"})\n",
    "        .reset_index()\n",
    "        .sort_values(\n",
    "            route_dir_cols + [\"trip_instance_key\"], ascending=sorting_order + [False]\n",
    "        )\n",
    "        .drop_duplicates(subset=route_dir_cols)\n",
    "        .reset_index(drop=True)[route_dir_cols + [\"shape_id\", \"shape_array_key\"]]\n",
    "    ).rename(\n",
    "        columns={\n",
    "            \"gtfs_dataset_key\": \"schedule_gtfs_dataset_key\",\n",
    "            \"shape_id\": \"common_shape_id\",\n",
    "        }\n",
    "    )\n",
    "\n",
    "    shape_geom = helpers.import_scheduled_shapes(\n",
    "        analysis_date,\n",
    "        columns=[\"shape_array_key\", \"geometry\"],\n",
    "    )\n",
    "\n",
    "    common_shape_geom = pd.merge(\n",
    "        shape_geom, most_common_shape, on=\"shape_array_key\", how=\"inner\"\n",
    "    ).drop(columns=\"shape_array_key\")\n",
    "\n",
    "    route_info = (\n",
    "        helpers.import_scheduled_trips(\n",
    "            analysis_date,\n",
    "            columns=[\n",
    "                \"gtfs_dataset_key\",\n",
    "                \"route_id\",\n",
    "                \"route_long_name\",\n",
    "                \"route_short_name\",\n",
    "                \"route_desc\",\n",
    "            ],\n",
    "        )\n",
    "        .drop_duplicates()\n",
    "        .pipe(portfolio_utils.add_route_name)\n",
    "        .drop(columns=[\"route_long_name\", \"route_short_name\", \"route_desc\"])\n",
    "    )\n",
    "\n",
    "    del shape_geom, most_common_shape\n",
    "\n",
    "    common_shape_geom2 = pd.merge(\n",
    "        common_shape_geom,\n",
    "        route_info.rename(columns={\"route_name_used\": \"route_name\"}),\n",
    "        on=[\"schedule_gtfs_dataset_key\", \"route_id\"],\n",
    "    )\n",
    "\n",
    "    return common_shape_geom2"
   ]
  },
  {
   "cell_type": "code",
   "execution_count": 23,
   "id": "74a4ce67-82af-40cb-9a9e-02464ff0e512",
   "metadata": {},
   "outputs": [],
   "source": [
    "common_shape_test = most_common_shape_by_route_direction(one_analysis_date)"
   ]
  },
  {
   "cell_type": "code",
   "execution_count": 26,
   "id": "fbe965e4-3d95-4a84-a595-d523527538e3",
   "metadata": {},
   "outputs": [
    {
     "data": {
      "text/plain": [
       "Index(['geometry', 'schedule_gtfs_dataset_key', 'route_id', 'direction_id',\n",
       "       'common_shape_id', 'route_name'],\n",
       "      dtype='object')"
      ]
     },
     "execution_count": 26,
     "metadata": {},
     "output_type": "execute_result"
    }
   ],
   "source": [
    "common_shape_test.columns"
   ]
  },
  {
   "cell_type": "code",
   "execution_count": 27,
   "id": "d04f9154-4842-439b-8a24-f0e084a2e31a",
   "metadata": {},
   "outputs": [],
   "source": [
    "common_shape_test2 = common_shape_test.loc[\n",
    "    common_shape_test.schedule_gtfs_dataset_key.isin(schd_keys)\n",
    "]"
   ]
  },
  {
   "cell_type": "code",
   "execution_count": 28,
   "id": "c84d2bba-e499-4f4f-af7b-f77e2f2cf378",
   "metadata": {},
   "outputs": [
    {
     "data": {
      "text/plain": [
       "array(['7', '6', 'CC', '8', 'Mall', '12X', '13X', '11', '30', 'Shuttle',\n",
       "       '8a7c42f9-51e4-4848-bf88-30c210f149ad', '2', '3', '1B', '20', 'SF',\n",
       "       '5', '4', '9', '1'], dtype=object)"
      ]
     },
     "execution_count": 28,
     "metadata": {},
     "output_type": "execute_result"
    }
   ],
   "source": [
    "common_shape_test2.route_id.unique()"
   ]
  },
  {
   "cell_type": "code",
   "execution_count": 31,
   "id": "6a5068b1-c98b-4251-b6a6-517444724d8e",
   "metadata": {},
   "outputs": [
    {
     "data": {
      "text/plain": [
       "['2024-12-11', '2024-11-13']"
      ]
     },
     "execution_count": 31,
     "metadata": {},
     "output_type": "execute_result"
    }
   ],
   "source": [
    "[rt_dates.DATES[\"dec2024\"]] + [rt_dates.DATES[\"nov2024\"]]"
   ]
  },
  {
   "cell_type": "code",
   "execution_count": 32,
   "id": "73b526b7-3d56-4db8-8e44-fb79dbbd993c",
   "metadata": {},
   "outputs": [
    {
     "data": {
      "text/plain": [
       "'schedule_route_dir/schedule_route_direction_metrics'"
      ]
     },
     "execution_count": 32,
     "metadata": {},
     "output_type": "execute_result"
    }
   ],
   "source": [
    "GTFS_DATA_DICT.rt_vs_schedule_tables.sched_route_direction_metrics"
   ]
  },
  {
   "cell_type": "markdown",
   "id": "acd1679e-c5e0-4c75-aa0c-5ae2a5a5d5c5",
   "metadata": {},
   "source": [
    "### Breakdown `gtfs_digest/merge_data.`"
   ]
  },
  {
   "cell_type": "markdown",
   "id": "1bdcce76-6b7a-4bc6-9953-1ca8cceaca13",
   "metadata": {},
   "source": [
    "#### Line 294: `df_sched` is already missing a lot of the routes."
   ]
  },
  {
   "cell_type": "code",
   "execution_count": 9,
   "id": "b164eae4-f657-49e3-ada1-e059362e4689",
   "metadata": {},
   "outputs": [],
   "source": [
    "# Get cardinal direction for each route\n",
    "df_sched = merge_data.concatenate_schedule_by_route_direction(analysis_date_list)"
   ]
  },
  {
   "cell_type": "code",
   "execution_count": 10,
   "id": "b5c8be82-af6c-4255-a2c5-487acdb30e52",
   "metadata": {},
   "outputs": [],
   "source": [
    "df_sched2 = df_sched.loc[df_sched.schedule_gtfs_dataset_key.isin(schd_keys)]"
   ]
  },
  {
   "cell_type": "code",
   "execution_count": 11,
   "id": "5d50ad8e-7536-4187-812d-2591d3589d15",
   "metadata": {},
   "outputs": [
    {
     "data": {
      "text/plain": [
       "Shuttle                                 72\n",
       "5                                       27\n",
       "b3848f93-d26b-48a9-b6a6-5de22a4eab47     9\n",
       "Name: route_id, dtype: int64"
      ]
     },
     "execution_count": 11,
     "metadata": {},
     "output_type": "execute_result"
    }
   ],
   "source": [
    "df_sched2.route_id.value_counts()"
   ]
  },
  {
   "cell_type": "markdown",
   "id": "e9ece006-fc30-462c-b8f3-abdc3293075e",
   "metadata": {},
   "source": [
    "##### Go back to `gtfs_funnel/schedule_stats_by_route_direction`\n",
    "* https://github.com/cal-itp/data-analyses/blob/1ba0f544a01f99966a6e210dd11666b4fe4a146e/gtfs_funnel/schedule_stats_by_route_direction.py#L190\n",
    "* Test 1: Updated `gtfs_schedule_wrangling` but a lot of routes are still missing. "
   ]
  },
  {
   "cell_type": "code",
   "execution_count": 33,
   "id": "12dd19fe-d50a-4576-ad99-d0d3cd652fb5",
   "metadata": {},
   "outputs": [
    {
     "data": {
      "text/plain": [
       "'gs://calitp-analytics-data/data-analyses/rt_vs_schedule/'"
      ]
     },
     "execution_count": 33,
     "metadata": {},
     "output_type": "execute_result"
    }
   ],
   "source": [
    "RT_SCHED_GCS"
   ]
  },
  {
   "cell_type": "code",
   "execution_count": 12,
   "id": "04cf9fb1-7445-4e1f-b3fb-b6d779a82e29",
   "metadata": {},
   "outputs": [
    {
     "data": {
      "text/plain": [
       "'schedule_route_dir/schedule_route_direction_metrics'"
      ]
     },
     "execution_count": 12,
     "metadata": {},
     "output_type": "execute_result"
    }
   ],
   "source": [
    "GTFS_DATA_DICT.rt_vs_schedule_tables.sched_route_direction_metrics"
   ]
  },
  {
   "cell_type": "code",
   "execution_count": 37,
   "id": "9d7f73b2-92fd-4be3-96a6-26d57feba8ae",
   "metadata": {},
   "outputs": [],
   "source": [
    "nov_rt_sched = pd.read_parquet(\n",
    "    \"gs://calitp-analytics-data/data-analyses/rt_vs_schedule/AH_schedule_route_dir/schedule_route_direction_metrics_2024-12-11.parquet\"\n",
    ")"
   ]
  },
  {
   "cell_type": "code",
   "execution_count": 38,
   "id": "aa33e9a1-d8f2-4578-bbc7-36ac2ad30623",
   "metadata": {},
   "outputs": [],
   "source": [
    "nov_rt_sched2 = nov_rt_sched.loc[nov_rt_sched.schedule_gtfs_dataset_key.isin(schd_keys)]"
   ]
  },
  {
   "cell_type": "code",
   "execution_count": 39,
   "id": "ad626eea-67e7-44c5-bd12-b135f9837d84",
   "metadata": {},
   "outputs": [
    {
     "data": {
      "text/plain": [
       "array(['Shuttle', '5'], dtype=object)"
      ]
     },
     "execution_count": 39,
     "metadata": {},
     "output_type": "execute_result"
    }
   ],
   "source": [
    "nov_rt_sched2.route_id.unique()"
   ]
  },
  {
   "cell_type": "markdown",
   "id": "24845d09-e06a-4f89-a0e2-e2a40274708c",
   "metadata": {},
   "source": [
    "##### `assemble_scheduled_trip_metrics`: nothing is missing"
   ]
  },
  {
   "cell_type": "code",
   "execution_count": 13,
   "id": "6472c0ff-a1d8-4882-91fd-cb15c0dd3c48",
   "metadata": {},
   "outputs": [],
   "source": [
    "trip_metrics = schedule_stats_by_route_direction.assemble_scheduled_trip_metrics(\n",
    "    one_analysis_date, GTFS_DATA_DICT\n",
    ")"
   ]
  },
  {
   "cell_type": "code",
   "execution_count": 14,
   "id": "892a4479-3abf-47c7-8440-3a7074cd6095",
   "metadata": {},
   "outputs": [
    {
     "data": {
      "text/html": [
       "<div>\n",
       "<style scoped>\n",
       "    .dataframe tbody tr th:only-of-type {\n",
       "        vertical-align: middle;\n",
       "    }\n",
       "\n",
       "    .dataframe tbody tr th {\n",
       "        vertical-align: top;\n",
       "    }\n",
       "\n",
       "    .dataframe thead th {\n",
       "        text-align: right;\n",
       "    }\n",
       "</style>\n",
       "<table border=\"1\" class=\"dataframe\">\n",
       "  <thead>\n",
       "    <tr style=\"text-align: right;\">\n",
       "      <th></th>\n",
       "      <th>schedule_gtfs_dataset_key</th>\n",
       "      <th>trip_instance_key</th>\n",
       "      <th>median_stop_meters</th>\n",
       "      <th>time_of_day</th>\n",
       "      <th>scheduled_service_minutes</th>\n",
       "      <th>route_id</th>\n",
       "      <th>direction_id</th>\n",
       "    </tr>\n",
       "  </thead>\n",
       "  <tbody>\n",
       "    <tr>\n",
       "      <th>0</th>\n",
       "      <td>0139b1253130b33adcd4b3a4490530d2</td>\n",
       "      <td>014dd8051849e5252df704ca9c381fd9</td>\n",
       "      <td>559.44</td>\n",
       "      <td>PM Peak</td>\n",
       "      <td>23.00</td>\n",
       "      <td>D4</td>\n",
       "      <td>NaN</td>\n",
       "    </tr>\n",
       "  </tbody>\n",
       "</table>\n",
       "</div>"
      ],
      "text/plain": [
       "          schedule_gtfs_dataset_key                 trip_instance_key  \\\n",
       "0  0139b1253130b33adcd4b3a4490530d2  014dd8051849e5252df704ca9c381fd9   \n",
       "\n",
       "   median_stop_meters time_of_day  scheduled_service_minutes route_id  \\\n",
       "0              559.44     PM Peak                      23.00       D4   \n",
       "\n",
       "   direction_id  \n",
       "0           NaN  "
      ]
     },
     "execution_count": 14,
     "metadata": {},
     "output_type": "execute_result"
    }
   ],
   "source": [
    "trip_metrics.head(1)"
   ]
  },
  {
   "cell_type": "code",
   "execution_count": 18,
   "id": "da37674c-b332-456e-adcd-8af0fdf8fa94",
   "metadata": {},
   "outputs": [],
   "source": [
    "trip_metrics2 = trip_metrics.loc[trip_metrics.schedule_gtfs_dataset_key.isin(schd_keys)]"
   ]
  },
  {
   "cell_type": "code",
   "execution_count": 63,
   "id": "571f4ec3-966d-4412-8d05-9f50ea7c159d",
   "metadata": {},
   "outputs": [
    {
     "data": {
      "text/html": [
       "<div>\n",
       "<style scoped>\n",
       "    .dataframe tbody tr th:only-of-type {\n",
       "        vertical-align: middle;\n",
       "    }\n",
       "\n",
       "    .dataframe tbody tr th {\n",
       "        vertical-align: top;\n",
       "    }\n",
       "\n",
       "    .dataframe thead th {\n",
       "        text-align: right;\n",
       "    }\n",
       "</style>\n",
       "<table border=\"1\" class=\"dataframe\">\n",
       "  <thead>\n",
       "    <tr style=\"text-align: right;\">\n",
       "      <th></th>\n",
       "      <th>schedule_gtfs_dataset_key</th>\n",
       "      <th>route_id</th>\n",
       "      <th>direction_id</th>\n",
       "    </tr>\n",
       "  </thead>\n",
       "  <tbody>\n",
       "    <tr>\n",
       "      <th>49724</th>\n",
       "      <td>73105f2d1cabc8170ab066d96863c5d5</td>\n",
       "      <td>30</td>\n",
       "      <td>NaN</td>\n",
       "    </tr>\n",
       "    <tr>\n",
       "      <th>49725</th>\n",
       "      <td>73105f2d1cabc8170ab066d96863c5d5</td>\n",
       "      <td>3</td>\n",
       "      <td>NaN</td>\n",
       "    </tr>\n",
       "    <tr>\n",
       "      <th>49727</th>\n",
       "      <td>73105f2d1cabc8170ab066d96863c5d5</td>\n",
       "      <td>20</td>\n",
       "      <td>NaN</td>\n",
       "    </tr>\n",
       "    <tr>\n",
       "      <th>49728</th>\n",
       "      <td>73105f2d1cabc8170ab066d96863c5d5</td>\n",
       "      <td>4</td>\n",
       "      <td>NaN</td>\n",
       "    </tr>\n",
       "    <tr>\n",
       "      <th>49729</th>\n",
       "      <td>73105f2d1cabc8170ab066d96863c5d5</td>\n",
       "      <td>Mall</td>\n",
       "      <td>NaN</td>\n",
       "    </tr>\n",
       "    <tr>\n",
       "      <th>49730</th>\n",
       "      <td>73105f2d1cabc8170ab066d96863c5d5</td>\n",
       "      <td>5</td>\n",
       "      <td>0.00</td>\n",
       "    </tr>\n",
       "    <tr>\n",
       "      <th>49731</th>\n",
       "      <td>73105f2d1cabc8170ab066d96863c5d5</td>\n",
       "      <td>11</td>\n",
       "      <td>NaN</td>\n",
       "    </tr>\n",
       "    <tr>\n",
       "      <th>49732</th>\n",
       "      <td>73105f2d1cabc8170ab066d96863c5d5</td>\n",
       "      <td>7</td>\n",
       "      <td>NaN</td>\n",
       "    </tr>\n",
       "    <tr>\n",
       "      <th>49733</th>\n",
       "      <td>73105f2d1cabc8170ab066d96863c5d5</td>\n",
       "      <td>9</td>\n",
       "      <td>NaN</td>\n",
       "    </tr>\n",
       "    <tr>\n",
       "      <th>49735</th>\n",
       "      <td>73105f2d1cabc8170ab066d96863c5d5</td>\n",
       "      <td>1</td>\n",
       "      <td>NaN</td>\n",
       "    </tr>\n",
       "    <tr>\n",
       "      <th>49736</th>\n",
       "      <td>73105f2d1cabc8170ab066d96863c5d5</td>\n",
       "      <td>1B</td>\n",
       "      <td>NaN</td>\n",
       "    </tr>\n",
       "    <tr>\n",
       "      <th>49742</th>\n",
       "      <td>73105f2d1cabc8170ab066d96863c5d5</td>\n",
       "      <td>12X</td>\n",
       "      <td>NaN</td>\n",
       "    </tr>\n",
       "    <tr>\n",
       "      <th>49745</th>\n",
       "      <td>73105f2d1cabc8170ab066d96863c5d5</td>\n",
       "      <td>6</td>\n",
       "      <td>NaN</td>\n",
       "    </tr>\n",
       "    <tr>\n",
       "      <th>49751</th>\n",
       "      <td>73105f2d1cabc8170ab066d96863c5d5</td>\n",
       "      <td>2</td>\n",
       "      <td>NaN</td>\n",
       "    </tr>\n",
       "    <tr>\n",
       "      <th>49754</th>\n",
       "      <td>73105f2d1cabc8170ab066d96863c5d5</td>\n",
       "      <td>13X</td>\n",
       "      <td>NaN</td>\n",
       "    </tr>\n",
       "    <tr>\n",
       "      <th>49756</th>\n",
       "      <td>73105f2d1cabc8170ab066d96863c5d5</td>\n",
       "      <td>8</td>\n",
       "      <td>NaN</td>\n",
       "    </tr>\n",
       "    <tr>\n",
       "      <th>49799</th>\n",
       "      <td>73105f2d1cabc8170ab066d96863c5d5</td>\n",
       "      <td>8a7c42f9-51e4-4848-bf88-30c210f149ad</td>\n",
       "      <td>NaN</td>\n",
       "    </tr>\n",
       "    <tr>\n",
       "      <th>113284</th>\n",
       "      <td>f5a749dd65924e025b1293c58f95f8d6</td>\n",
       "      <td>Shuttle</td>\n",
       "      <td>0.00</td>\n",
       "    </tr>\n",
       "    <tr>\n",
       "      <th>113285</th>\n",
       "      <td>f5a749dd65924e025b1293c58f95f8d6</td>\n",
       "      <td>SF</td>\n",
       "      <td>1.00</td>\n",
       "    </tr>\n",
       "    <tr>\n",
       "      <th>113286</th>\n",
       "      <td>f5a749dd65924e025b1293c58f95f8d6</td>\n",
       "      <td>SF</td>\n",
       "      <td>0.00</td>\n",
       "    </tr>\n",
       "    <tr>\n",
       "      <th>113289</th>\n",
       "      <td>f5a749dd65924e025b1293c58f95f8d6</td>\n",
       "      <td>CC</td>\n",
       "      <td>1.00</td>\n",
       "    </tr>\n",
       "    <tr>\n",
       "      <th>113292</th>\n",
       "      <td>f5a749dd65924e025b1293c58f95f8d6</td>\n",
       "      <td>CC</td>\n",
       "      <td>0.00</td>\n",
       "    </tr>\n",
       "    <tr>\n",
       "      <th>113307</th>\n",
       "      <td>f5a749dd65924e025b1293c58f95f8d6</td>\n",
       "      <td>Shuttle</td>\n",
       "      <td>1.00</td>\n",
       "    </tr>\n",
       "  </tbody>\n",
       "</table>\n",
       "</div>"
      ],
      "text/plain": [
       "               schedule_gtfs_dataset_key  \\\n",
       "49724   73105f2d1cabc8170ab066d96863c5d5   \n",
       "49725   73105f2d1cabc8170ab066d96863c5d5   \n",
       "49727   73105f2d1cabc8170ab066d96863c5d5   \n",
       "49728   73105f2d1cabc8170ab066d96863c5d5   \n",
       "49729   73105f2d1cabc8170ab066d96863c5d5   \n",
       "49730   73105f2d1cabc8170ab066d96863c5d5   \n",
       "49731   73105f2d1cabc8170ab066d96863c5d5   \n",
       "49732   73105f2d1cabc8170ab066d96863c5d5   \n",
       "49733   73105f2d1cabc8170ab066d96863c5d5   \n",
       "49735   73105f2d1cabc8170ab066d96863c5d5   \n",
       "49736   73105f2d1cabc8170ab066d96863c5d5   \n",
       "49742   73105f2d1cabc8170ab066d96863c5d5   \n",
       "49745   73105f2d1cabc8170ab066d96863c5d5   \n",
       "49751   73105f2d1cabc8170ab066d96863c5d5   \n",
       "49754   73105f2d1cabc8170ab066d96863c5d5   \n",
       "49756   73105f2d1cabc8170ab066d96863c5d5   \n",
       "49799   73105f2d1cabc8170ab066d96863c5d5   \n",
       "113284  f5a749dd65924e025b1293c58f95f8d6   \n",
       "113285  f5a749dd65924e025b1293c58f95f8d6   \n",
       "113286  f5a749dd65924e025b1293c58f95f8d6   \n",
       "113289  f5a749dd65924e025b1293c58f95f8d6   \n",
       "113292  f5a749dd65924e025b1293c58f95f8d6   \n",
       "113307  f5a749dd65924e025b1293c58f95f8d6   \n",
       "\n",
       "                                    route_id  direction_id  \n",
       "49724                                     30           NaN  \n",
       "49725                                      3           NaN  \n",
       "49727                                     20           NaN  \n",
       "49728                                      4           NaN  \n",
       "49729                                   Mall           NaN  \n",
       "49730                                      5          0.00  \n",
       "49731                                     11           NaN  \n",
       "49732                                      7           NaN  \n",
       "49733                                      9           NaN  \n",
       "49735                                      1           NaN  \n",
       "49736                                     1B           NaN  \n",
       "49742                                    12X           NaN  \n",
       "49745                                      6           NaN  \n",
       "49751                                      2           NaN  \n",
       "49754                                    13X           NaN  \n",
       "49756                                      8           NaN  \n",
       "49799   8a7c42f9-51e4-4848-bf88-30c210f149ad           NaN  \n",
       "113284                               Shuttle          0.00  \n",
       "113285                                    SF          1.00  \n",
       "113286                                    SF          0.00  \n",
       "113289                                    CC          1.00  \n",
       "113292                                    CC          0.00  \n",
       "113307                               Shuttle          1.00  "
      ]
     },
     "metadata": {},
     "output_type": "display_data"
    }
   ],
   "source": [
    "preview(trip_metrics2)"
   ]
  },
  {
   "cell_type": "markdown",
   "id": "72613ac3-2ff9-4026-bf76-601b2b4ec0ca",
   "metadata": {},
   "source": [
    "##### `schedule_metrics_by_route_direction` \n",
    "* Something is causing routes to drop off in  even though I took out `direction_id`\n",
    "* Break it out even more."
   ]
  },
  {
   "cell_type": "code",
   "execution_count": 40,
   "id": "8391d0c3-f887-4aee-9088-f839186238a4",
   "metadata": {},
   "outputs": [],
   "source": [
    "route_group_merge_cols = [\"schedule_gtfs_dataset_key\", \"route_id\", \"direction_id\"]"
   ]
  },
  {
   "cell_type": "code",
   "execution_count": 41,
   "id": "7ca4378e-70db-4958-9b66-a8167374769d",
   "metadata": {},
   "outputs": [],
   "source": [
    "route_group_merge_cols_no_dir_id = [\n",
    "    \"schedule_gtfs_dataset_key\",\n",
    "    \"route_id\",\n",
    "]"
   ]
  },
  {
   "cell_type": "code",
   "execution_count": 42,
   "id": "a389a761-d6dd-42b9-a8aa-2e91bad1bc1f",
   "metadata": {},
   "outputs": [],
   "source": [
    "route_dir_metrics = (\n",
    "    schedule_stats_by_route_direction.schedule_metrics_by_route_direction(\n",
    "        trip_metrics2, one_analysis_date, route_group_merge_cols\n",
    "    )\n",
    ")"
   ]
  },
  {
   "cell_type": "code",
   "execution_count": 43,
   "id": "92987a62-ed3f-4110-a38e-30c067d42060",
   "metadata": {},
   "outputs": [
    {
     "data": {
      "text/html": [
       "<div>\n",
       "<style scoped>\n",
       "    .dataframe tbody tr th:only-of-type {\n",
       "        vertical-align: middle;\n",
       "    }\n",
       "\n",
       "    .dataframe tbody tr th {\n",
       "        vertical-align: top;\n",
       "    }\n",
       "\n",
       "    .dataframe thead th {\n",
       "        text-align: right;\n",
       "    }\n",
       "</style>\n",
       "<table border=\"1\" class=\"dataframe\">\n",
       "  <thead>\n",
       "    <tr style=\"text-align: right;\">\n",
       "      <th></th>\n",
       "      <th>schedule_gtfs_dataset_key</th>\n",
       "      <th>route_id</th>\n",
       "      <th>direction_id</th>\n",
       "    </tr>\n",
       "  </thead>\n",
       "  <tbody>\n",
       "    <tr>\n",
       "      <th>0</th>\n",
       "      <td>f5a749dd65924e025b1293c58f95f8d6</td>\n",
       "      <td>Shuttle</td>\n",
       "      <td>1.00</td>\n",
       "    </tr>\n",
       "    <tr>\n",
       "      <th>3</th>\n",
       "      <td>f5a749dd65924e025b1293c58f95f8d6</td>\n",
       "      <td>Shuttle</td>\n",
       "      <td>0.00</td>\n",
       "    </tr>\n",
       "    <tr>\n",
       "      <th>6</th>\n",
       "      <td>73105f2d1cabc8170ab066d96863c5d5</td>\n",
       "      <td>5</td>\n",
       "      <td>0.00</td>\n",
       "    </tr>\n",
       "  </tbody>\n",
       "</table>\n",
       "</div>"
      ],
      "text/plain": [
       "          schedule_gtfs_dataset_key route_id  direction_id\n",
       "0  f5a749dd65924e025b1293c58f95f8d6  Shuttle          1.00\n",
       "3  f5a749dd65924e025b1293c58f95f8d6  Shuttle          0.00\n",
       "6  73105f2d1cabc8170ab066d96863c5d5        5          0.00"
      ]
     },
     "execution_count": 43,
     "metadata": {},
     "output_type": "execute_result"
    }
   ],
   "source": [
    "route_dir_metrics[\n",
    "    [\"schedule_gtfs_dataset_key\", \"route_id\", \"direction_id\"]\n",
    "].drop_duplicates()"
   ]
  },
  {
   "cell_type": "code",
   "execution_count": 44,
   "id": "e7ac9f20-a637-4e73-b5bc-a7ee85a3b0ad",
   "metadata": {},
   "outputs": [],
   "source": [
    "route_dir_metrics_wo_dir_id = (\n",
    "    schedule_stats_by_route_direction.schedule_metrics_by_route_direction(\n",
    "        trip_metrics2, one_analysis_date, route_group_merge_cols_no_dir_id\n",
    "    )\n",
    ")"
   ]
  },
  {
   "cell_type": "code",
   "execution_count": 45,
   "id": "fb68f60e-a035-41b2-9523-48e972b227b0",
   "metadata": {},
   "outputs": [
    {
     "data": {
      "text/html": [
       "<div>\n",
       "<style scoped>\n",
       "    .dataframe tbody tr th:only-of-type {\n",
       "        vertical-align: middle;\n",
       "    }\n",
       "\n",
       "    .dataframe tbody tr th {\n",
       "        vertical-align: top;\n",
       "    }\n",
       "\n",
       "    .dataframe thead th {\n",
       "        text-align: right;\n",
       "    }\n",
       "</style>\n",
       "<table border=\"1\" class=\"dataframe\">\n",
       "  <thead>\n",
       "    <tr style=\"text-align: right;\">\n",
       "      <th></th>\n",
       "      <th>schedule_gtfs_dataset_key</th>\n",
       "      <th>route_id</th>\n",
       "      <th>direction_id</th>\n",
       "    </tr>\n",
       "  </thead>\n",
       "  <tbody>\n",
       "    <tr>\n",
       "      <th>0</th>\n",
       "      <td>f5a749dd65924e025b1293c58f95f8d6</td>\n",
       "      <td>Shuttle</td>\n",
       "      <td>1.00</td>\n",
       "    </tr>\n",
       "    <tr>\n",
       "      <th>3</th>\n",
       "      <td>f5a749dd65924e025b1293c58f95f8d6</td>\n",
       "      <td>Shuttle</td>\n",
       "      <td>0.00</td>\n",
       "    </tr>\n",
       "    <tr>\n",
       "      <th>6</th>\n",
       "      <td>73105f2d1cabc8170ab066d96863c5d5</td>\n",
       "      <td>5</td>\n",
       "      <td>0.00</td>\n",
       "    </tr>\n",
       "  </tbody>\n",
       "</table>\n",
       "</div>"
      ],
      "text/plain": [
       "          schedule_gtfs_dataset_key route_id  direction_id\n",
       "0  f5a749dd65924e025b1293c58f95f8d6  Shuttle          1.00\n",
       "3  f5a749dd65924e025b1293c58f95f8d6  Shuttle          0.00\n",
       "6  73105f2d1cabc8170ab066d96863c5d5        5          0.00"
      ]
     },
     "execution_count": 45,
     "metadata": {},
     "output_type": "execute_result"
    }
   ],
   "source": [
    "route_dir_metrics_wo_dir_id[\n",
    "    [\"schedule_gtfs_dataset_key\", \"route_id\", \"direction_id\"]\n",
    "].drop_duplicates()"
   ]
  },
  {
   "cell_type": "code",
   "execution_count": 46,
   "id": "d06e26bf-8137-4f9b-a0a3-12bbbf0eab1d",
   "metadata": {},
   "outputs": [],
   "source": [
    "route_group_merge_cols = [\"schedule_gtfs_dataset_key\", \"route_id\", \"direction_id\"]"
   ]
  },
  {
   "cell_type": "markdown",
   "id": "a5d3f8a9-6d28-4113-abc5-e3b5137188fa",
   "metadata": {},
   "source": [
    "##### `gtfs_schedule_wrangling.aggregate_time_of_day_to_peak_offpeak` is missing a lot of routes -> break it out."
   ]
  },
  {
   "cell_type": "code",
   "execution_count": 48,
   "id": "627e142c-254e-410c-b7cf-39ffc8342f8f",
   "metadata": {},
   "outputs": [],
   "source": [
    "service_freq_df = gtfs_schedule_wrangling.aggregate_time_of_day_to_peak_offpeak(\n",
    "    trip_metrics2, route_group_merge_cols, long_or_wide=\"long\"\n",
    ")"
   ]
  },
  {
   "cell_type": "code",
   "execution_count": 49,
   "id": "17425e68-f0bb-4ee8-bc5c-0415b40717af",
   "metadata": {},
   "outputs": [
    {
     "data": {
      "text/html": [
       "<div>\n",
       "<style scoped>\n",
       "    .dataframe tbody tr th:only-of-type {\n",
       "        vertical-align: middle;\n",
       "    }\n",
       "\n",
       "    .dataframe tbody tr th {\n",
       "        vertical-align: top;\n",
       "    }\n",
       "\n",
       "    .dataframe thead th {\n",
       "        text-align: right;\n",
       "    }\n",
       "</style>\n",
       "<table border=\"1\" class=\"dataframe\">\n",
       "  <thead>\n",
       "    <tr style=\"text-align: right;\">\n",
       "      <th></th>\n",
       "      <th>schedule_gtfs_dataset_key</th>\n",
       "      <th>route_id</th>\n",
       "      <th>direction_id</th>\n",
       "      <th>n_trips</th>\n",
       "      <th>time_period</th>\n",
       "      <th>peak_offpeak</th>\n",
       "      <th>frequency</th>\n",
       "    </tr>\n",
       "  </thead>\n",
       "  <tbody>\n",
       "    <tr>\n",
       "      <th>0</th>\n",
       "      <td>73105f2d1cabc8170ab066d96863c5d5</td>\n",
       "      <td>5</td>\n",
       "      <td>0.00</td>\n",
       "      <td>18</td>\n",
       "      <td>all_day</td>\n",
       "      <td>NaN</td>\n",
       "      <td>0.75</td>\n",
       "    </tr>\n",
       "    <tr>\n",
       "      <th>1</th>\n",
       "      <td>f5a749dd65924e025b1293c58f95f8d6</td>\n",
       "      <td>CC</td>\n",
       "      <td>0.00</td>\n",
       "      <td>12</td>\n",
       "      <td>all_day</td>\n",
       "      <td>NaN</td>\n",
       "      <td>0.50</td>\n",
       "    </tr>\n",
       "  </tbody>\n",
       "</table>\n",
       "</div>"
      ],
      "text/plain": [
       "          schedule_gtfs_dataset_key route_id  direction_id  n_trips  \\\n",
       "0  73105f2d1cabc8170ab066d96863c5d5        5          0.00       18   \n",
       "1  f5a749dd65924e025b1293c58f95f8d6       CC          0.00       12   \n",
       "\n",
       "  time_period peak_offpeak  frequency  \n",
       "0     all_day          NaN       0.75  \n",
       "1     all_day          NaN       0.50  "
      ]
     },
     "execution_count": 49,
     "metadata": {},
     "output_type": "execute_result"
    }
   ],
   "source": [
    "service_freq_df.head(2)"
   ]
  },
  {
   "cell_type": "code",
   "execution_count": 50,
   "id": "d6fb6549-5369-43b3-9210-cf152f0970b6",
   "metadata": {},
   "outputs": [
    {
     "data": {
      "text/plain": [
       "array(['5', 'CC', 'SF', 'Shuttle'], dtype=object)"
      ]
     },
     "execution_count": 50,
     "metadata": {},
     "output_type": "execute_result"
    }
   ],
   "source": [
    "service_freq_df.route_id.unique()"
   ]
  },
  {
   "cell_type": "markdown",
   "id": "689e66e2-bf0f-4f18-b8b6-793805692d9d",
   "metadata": {},
   "source": [
    "##### Changed `count_trips_by_group` to have argument `dropna=False` in `groupby`"
   ]
  },
  {
   "cell_type": "code",
   "execution_count": 51,
   "id": "d40a6ea6-8eac-4139-bc45-f0454e04dc3e",
   "metadata": {},
   "outputs": [],
   "source": [
    "def count_trips_by_group(df: pd.DataFrame, group_cols: list):\n",
    "    \"\"\"\n",
    "    Given a df with trip_instance_key and an arbitrary list of\n",
    "    group_cols, return trip counts by group.\n",
    "    \"\"\"\n",
    "    assert \"trip_instance_key\" in df.columns\n",
    "    df = (\n",
    "        df.groupby(group_cols, dropna=False)\n",
    "        .agg({\"trip_instance_key\": \"count\"})\n",
    "        .reset_index()\n",
    "    )\n",
    "    df = df.rename(columns={\"trip_instance_key\": \"n_trips\"})\n",
    "    return df"
   ]
  },
  {
   "cell_type": "code",
   "execution_count": 58,
   "id": "9d71f10e-3a9a-4e05-a08a-dfa83cde486c",
   "metadata": {},
   "outputs": [],
   "source": [
    "def add_peak_offpeak_column(df: pd.DataFrame) -> pd.DataFrame:\n",
    "    \"\"\"\n",
    "    Add a single peak_offpeak column based on the time-of-day column.\n",
    "    \"\"\"\n",
    "    df = df.assign(peak_offpeak=df.time_of_day.map(time_helpers.TIME_OF_DAY_DICT))\n",
    "\n",
    "    return df"
   ]
  },
  {
   "cell_type": "code",
   "execution_count": 54,
   "id": "0754fc83-68c9-4e3e-87e3-92b60e52f470",
   "metadata": {},
   "outputs": [],
   "source": [
    "def aggregate_time_of_day_to_peak_offpeak(\n",
    "    df: pd.DataFrame,\n",
    "    group_cols: list,\n",
    "    long_or_wide: str,\n",
    ") -> pd.DataFrame:\n",
    "    \"\"\"\n",
    "    Aggregate time-of-day bins into peak/offpeak periods.\n",
    "    Return n_trips and frequency for grouping of columns (route-direction, etc).\n",
    "    Allow wide or long df to be returned.\n",
    "    \"\"\"\n",
    "    peak_hours = sum(\n",
    "        v\n",
    "        for k, v in time_helpers.HOURS_BY_TIME_OF_DAY.items()\n",
    "        if k in time_helpers.PEAK_PERIODS\n",
    "    )\n",
    "\n",
    "    offpeak_hours = sum(\n",
    "        v\n",
    "        for k, v in time_helpers.HOURS_BY_TIME_OF_DAY.items()\n",
    "        if k not in time_helpers.PEAK_PERIODS\n",
    "    )\n",
    "\n",
    "    df = add_peak_offpeak_column(df)\n",
    "\n",
    "    all_day = count_trips_by_group(df, group_cols).assign(time_period=\"all_day\")\n",
    "    peak_offpeak = count_trips_by_group(df, group_cols + [\"peak_offpeak\"]).rename(\n",
    "        {\"peak_offpeak\": \"time_period\"}\n",
    "    )\n",
    "\n",
    "    df2 = pd.concat([all_day, peak_offpeak], axis=0, ignore_index=True)\n",
    "\n",
    "    # Add service frequency (trips per hour)\n",
    "    # there are different number of hours in peak and offpeak periods\n",
    "    df2 = df2.assign(\n",
    "        frequency=df2.apply(\n",
    "            lambda x: round(x.n_trips / peak_hours, 2)\n",
    "            if x.time_period == \"peak\"\n",
    "            else round(x.n_trips / offpeak_hours, 2)\n",
    "            if x.time_period == \"offpeak\"\n",
    "            else round(x.n_trips / (peak_hours + offpeak_hours), 2),\n",
    "            axis=1,\n",
    "        )\n",
    "    )\n",
    "\n",
    "    if long_or_wide == \"long\":\n",
    "        return df2\n",
    "\n",
    "    elif long_or_wide == \"wide\":\n",
    "        # Reshape from wide to long\n",
    "        # get rid of multiindex column names\n",
    "        df3 = df2.pivot(\n",
    "            index=group_cols, columns=\"time_period\", values=[\"n_trips\", \"frequency\"]\n",
    "        )\n",
    "\n",
    "        df3.columns = [f\"{b}_{a}\" for a, b in df3.columns]\n",
    "        df3 = df3.reset_index()\n",
    "\n",
    "        return df3"
   ]
  },
  {
   "cell_type": "code",
   "execution_count": 59,
   "id": "b8ad4806-78df-46ad-bf08-72ad128dbf7a",
   "metadata": {},
   "outputs": [],
   "source": [
    "service_freq_df_test1 = aggregate_time_of_day_to_peak_offpeak(\n",
    "    trip_metrics2, route_group_merge_cols, long_or_wide=\"long\"\n",
    ")"
   ]
  },
  {
   "cell_type": "code",
   "execution_count": 64,
   "id": "6e5c495f-0960-40bd-8072-ceb53ba44101",
   "metadata": {},
   "outputs": [
    {
     "data": {
      "text/html": [
       "<div>\n",
       "<style scoped>\n",
       "    .dataframe tbody tr th:only-of-type {\n",
       "        vertical-align: middle;\n",
       "    }\n",
       "\n",
       "    .dataframe tbody tr th {\n",
       "        vertical-align: top;\n",
       "    }\n",
       "\n",
       "    .dataframe thead th {\n",
       "        text-align: right;\n",
       "    }\n",
       "</style>\n",
       "<table border=\"1\" class=\"dataframe\">\n",
       "  <thead>\n",
       "    <tr style=\"text-align: right;\">\n",
       "      <th></th>\n",
       "      <th>schedule_gtfs_dataset_key</th>\n",
       "      <th>route_id</th>\n",
       "      <th>direction_id</th>\n",
       "    </tr>\n",
       "  </thead>\n",
       "  <tbody>\n",
       "    <tr>\n",
       "      <th>0</th>\n",
       "      <td>73105f2d1cabc8170ab066d96863c5d5</td>\n",
       "      <td>1</td>\n",
       "      <td>NaN</td>\n",
       "    </tr>\n",
       "    <tr>\n",
       "      <th>1</th>\n",
       "      <td>73105f2d1cabc8170ab066d96863c5d5</td>\n",
       "      <td>11</td>\n",
       "      <td>NaN</td>\n",
       "    </tr>\n",
       "    <tr>\n",
       "      <th>2</th>\n",
       "      <td>73105f2d1cabc8170ab066d96863c5d5</td>\n",
       "      <td>12X</td>\n",
       "      <td>NaN</td>\n",
       "    </tr>\n",
       "    <tr>\n",
       "      <th>3</th>\n",
       "      <td>73105f2d1cabc8170ab066d96863c5d5</td>\n",
       "      <td>13X</td>\n",
       "      <td>NaN</td>\n",
       "    </tr>\n",
       "    <tr>\n",
       "      <th>4</th>\n",
       "      <td>73105f2d1cabc8170ab066d96863c5d5</td>\n",
       "      <td>1B</td>\n",
       "      <td>NaN</td>\n",
       "    </tr>\n",
       "    <tr>\n",
       "      <th>5</th>\n",
       "      <td>73105f2d1cabc8170ab066d96863c5d5</td>\n",
       "      <td>2</td>\n",
       "      <td>NaN</td>\n",
       "    </tr>\n",
       "    <tr>\n",
       "      <th>6</th>\n",
       "      <td>73105f2d1cabc8170ab066d96863c5d5</td>\n",
       "      <td>20</td>\n",
       "      <td>NaN</td>\n",
       "    </tr>\n",
       "    <tr>\n",
       "      <th>7</th>\n",
       "      <td>73105f2d1cabc8170ab066d96863c5d5</td>\n",
       "      <td>3</td>\n",
       "      <td>NaN</td>\n",
       "    </tr>\n",
       "    <tr>\n",
       "      <th>8</th>\n",
       "      <td>73105f2d1cabc8170ab066d96863c5d5</td>\n",
       "      <td>30</td>\n",
       "      <td>NaN</td>\n",
       "    </tr>\n",
       "    <tr>\n",
       "      <th>9</th>\n",
       "      <td>73105f2d1cabc8170ab066d96863c5d5</td>\n",
       "      <td>4</td>\n",
       "      <td>NaN</td>\n",
       "    </tr>\n",
       "    <tr>\n",
       "      <th>10</th>\n",
       "      <td>73105f2d1cabc8170ab066d96863c5d5</td>\n",
       "      <td>5</td>\n",
       "      <td>0.00</td>\n",
       "    </tr>\n",
       "    <tr>\n",
       "      <th>11</th>\n",
       "      <td>73105f2d1cabc8170ab066d96863c5d5</td>\n",
       "      <td>6</td>\n",
       "      <td>NaN</td>\n",
       "    </tr>\n",
       "    <tr>\n",
       "      <th>12</th>\n",
       "      <td>73105f2d1cabc8170ab066d96863c5d5</td>\n",
       "      <td>7</td>\n",
       "      <td>NaN</td>\n",
       "    </tr>\n",
       "    <tr>\n",
       "      <th>13</th>\n",
       "      <td>73105f2d1cabc8170ab066d96863c5d5</td>\n",
       "      <td>8</td>\n",
       "      <td>NaN</td>\n",
       "    </tr>\n",
       "    <tr>\n",
       "      <th>14</th>\n",
       "      <td>73105f2d1cabc8170ab066d96863c5d5</td>\n",
       "      <td>8a7c42f9-51e4-4848-bf88-30c210f149ad</td>\n",
       "      <td>NaN</td>\n",
       "    </tr>\n",
       "    <tr>\n",
       "      <th>15</th>\n",
       "      <td>73105f2d1cabc8170ab066d96863c5d5</td>\n",
       "      <td>9</td>\n",
       "      <td>NaN</td>\n",
       "    </tr>\n",
       "    <tr>\n",
       "      <th>16</th>\n",
       "      <td>73105f2d1cabc8170ab066d96863c5d5</td>\n",
       "      <td>Mall</td>\n",
       "      <td>NaN</td>\n",
       "    </tr>\n",
       "    <tr>\n",
       "      <th>17</th>\n",
       "      <td>f5a749dd65924e025b1293c58f95f8d6</td>\n",
       "      <td>CC</td>\n",
       "      <td>0.00</td>\n",
       "    </tr>\n",
       "    <tr>\n",
       "      <th>18</th>\n",
       "      <td>f5a749dd65924e025b1293c58f95f8d6</td>\n",
       "      <td>CC</td>\n",
       "      <td>1.00</td>\n",
       "    </tr>\n",
       "    <tr>\n",
       "      <th>19</th>\n",
       "      <td>f5a749dd65924e025b1293c58f95f8d6</td>\n",
       "      <td>SF</td>\n",
       "      <td>0.00</td>\n",
       "    </tr>\n",
       "    <tr>\n",
       "      <th>20</th>\n",
       "      <td>f5a749dd65924e025b1293c58f95f8d6</td>\n",
       "      <td>SF</td>\n",
       "      <td>1.00</td>\n",
       "    </tr>\n",
       "    <tr>\n",
       "      <th>21</th>\n",
       "      <td>f5a749dd65924e025b1293c58f95f8d6</td>\n",
       "      <td>Shuttle</td>\n",
       "      <td>0.00</td>\n",
       "    </tr>\n",
       "    <tr>\n",
       "      <th>22</th>\n",
       "      <td>f5a749dd65924e025b1293c58f95f8d6</td>\n",
       "      <td>Shuttle</td>\n",
       "      <td>1.00</td>\n",
       "    </tr>\n",
       "  </tbody>\n",
       "</table>\n",
       "</div>"
      ],
      "text/plain": [
       "           schedule_gtfs_dataset_key                              route_id  \\\n",
       "0   73105f2d1cabc8170ab066d96863c5d5                                     1   \n",
       "1   73105f2d1cabc8170ab066d96863c5d5                                    11   \n",
       "2   73105f2d1cabc8170ab066d96863c5d5                                   12X   \n",
       "3   73105f2d1cabc8170ab066d96863c5d5                                   13X   \n",
       "4   73105f2d1cabc8170ab066d96863c5d5                                    1B   \n",
       "5   73105f2d1cabc8170ab066d96863c5d5                                     2   \n",
       "6   73105f2d1cabc8170ab066d96863c5d5                                    20   \n",
       "7   73105f2d1cabc8170ab066d96863c5d5                                     3   \n",
       "8   73105f2d1cabc8170ab066d96863c5d5                                    30   \n",
       "9   73105f2d1cabc8170ab066d96863c5d5                                     4   \n",
       "10  73105f2d1cabc8170ab066d96863c5d5                                     5   \n",
       "11  73105f2d1cabc8170ab066d96863c5d5                                     6   \n",
       "12  73105f2d1cabc8170ab066d96863c5d5                                     7   \n",
       "13  73105f2d1cabc8170ab066d96863c5d5                                     8   \n",
       "14  73105f2d1cabc8170ab066d96863c5d5  8a7c42f9-51e4-4848-bf88-30c210f149ad   \n",
       "15  73105f2d1cabc8170ab066d96863c5d5                                     9   \n",
       "16  73105f2d1cabc8170ab066d96863c5d5                                  Mall   \n",
       "17  f5a749dd65924e025b1293c58f95f8d6                                    CC   \n",
       "18  f5a749dd65924e025b1293c58f95f8d6                                    CC   \n",
       "19  f5a749dd65924e025b1293c58f95f8d6                                    SF   \n",
       "20  f5a749dd65924e025b1293c58f95f8d6                                    SF   \n",
       "21  f5a749dd65924e025b1293c58f95f8d6                               Shuttle   \n",
       "22  f5a749dd65924e025b1293c58f95f8d6                               Shuttle   \n",
       "\n",
       "    direction_id  \n",
       "0            NaN  \n",
       "1            NaN  \n",
       "2            NaN  \n",
       "3            NaN  \n",
       "4            NaN  \n",
       "5            NaN  \n",
       "6            NaN  \n",
       "7            NaN  \n",
       "8            NaN  \n",
       "9            NaN  \n",
       "10          0.00  \n",
       "11           NaN  \n",
       "12           NaN  \n",
       "13           NaN  \n",
       "14           NaN  \n",
       "15           NaN  \n",
       "16           NaN  \n",
       "17          0.00  \n",
       "18          1.00  \n",
       "19          0.00  \n",
       "20          1.00  \n",
       "21          0.00  \n",
       "22          1.00  "
      ]
     },
     "metadata": {},
     "output_type": "display_data"
    }
   ],
   "source": [
    "preview(service_freq_df_test1)"
   ]
  },
  {
   "cell_type": "code",
   "execution_count": 65,
   "id": "6e86cff7-4515-4a5b-bbd5-3e22ea521f8a",
   "metadata": {},
   "outputs": [
    {
     "data": {
      "text/html": [
       "<div>\n",
       "<style scoped>\n",
       "    .dataframe tbody tr th:only-of-type {\n",
       "        vertical-align: middle;\n",
       "    }\n",
       "\n",
       "    .dataframe tbody tr th {\n",
       "        vertical-align: top;\n",
       "    }\n",
       "\n",
       "    .dataframe thead th {\n",
       "        text-align: right;\n",
       "    }\n",
       "</style>\n",
       "<table border=\"1\" class=\"dataframe\">\n",
       "  <thead>\n",
       "    <tr style=\"text-align: right;\">\n",
       "      <th></th>\n",
       "      <th>schedule_gtfs_dataset_key</th>\n",
       "      <th>route_id</th>\n",
       "      <th>direction_id</th>\n",
       "      <th>n_trips</th>\n",
       "      <th>time_period</th>\n",
       "      <th>peak_offpeak</th>\n",
       "      <th>frequency</th>\n",
       "    </tr>\n",
       "  </thead>\n",
       "  <tbody>\n",
       "    <tr>\n",
       "      <th>0</th>\n",
       "      <td>73105f2d1cabc8170ab066d96863c5d5</td>\n",
       "      <td>1</td>\n",
       "      <td>NaN</td>\n",
       "      <td>19</td>\n",
       "      <td>all_day</td>\n",
       "      <td>NaN</td>\n",
       "      <td>0.79</td>\n",
       "    </tr>\n",
       "    <tr>\n",
       "      <th>1</th>\n",
       "      <td>73105f2d1cabc8170ab066d96863c5d5</td>\n",
       "      <td>11</td>\n",
       "      <td>NaN</td>\n",
       "      <td>22</td>\n",
       "      <td>all_day</td>\n",
       "      <td>NaN</td>\n",
       "      <td>0.92</td>\n",
       "    </tr>\n",
       "  </tbody>\n",
       "</table>\n",
       "</div>"
      ],
      "text/plain": [
       "          schedule_gtfs_dataset_key route_id  direction_id  n_trips  \\\n",
       "0  73105f2d1cabc8170ab066d96863c5d5        1           NaN       19   \n",
       "1  73105f2d1cabc8170ab066d96863c5d5       11           NaN       22   \n",
       "\n",
       "  time_period peak_offpeak  frequency  \n",
       "0     all_day          NaN       0.79  \n",
       "1     all_day          NaN       0.92  "
      ]
     },
     "execution_count": 65,
     "metadata": {},
     "output_type": "execute_result"
    }
   ],
   "source": [
    "service_freq_df_test1.head(2)"
   ]
  },
  {
   "cell_type": "code",
   "execution_count": 66,
   "id": "cf26c592-d3ab-407c-93f3-38bc7e76e0d8",
   "metadata": {},
   "outputs": [],
   "source": [
    "service_freq_df_test2 = aggregate_time_of_day_to_peak_offpeak(\n",
    "    trip_metrics, route_group_merge_cols, long_or_wide=\"long\"\n",
    ")"
   ]
  },
  {
   "cell_type": "code",
   "execution_count": 68,
   "id": "c1063fa3-4e05-463b-9a1e-b53eee6c3bcf",
   "metadata": {},
   "outputs": [
    {
     "data": {
      "text/plain": [
       "1825"
      ]
     },
     "execution_count": 68,
     "metadata": {},
     "output_type": "execute_result"
    }
   ],
   "source": [
    "service_freq_df_test2.route_id.nunique()"
   ]
  },
  {
   "cell_type": "code",
   "execution_count": 70,
   "id": "0f11a11e-34f7-46ec-95f0-8dc50bbd098b",
   "metadata": {},
   "outputs": [
    {
     "name": "stdout",
     "output_type": "stream",
     "text": [
      "<class 'pandas.core.frame.DataFrame'>\n",
      "RangeIndex: 13113 entries, 0 to 13112\n",
      "Data columns (total 7 columns):\n",
      " #   Column                     Non-Null Count  Dtype  \n",
      "---  ------                     --------------  -----  \n",
      " 0   schedule_gtfs_dataset_key  13113 non-null  object \n",
      " 1   route_id                   13113 non-null  object \n",
      " 2   direction_id               12610 non-null  float64\n",
      " 3   n_trips                    13113 non-null  int64  \n",
      " 4   time_period                4754 non-null   object \n",
      " 5   peak_offpeak               8359 non-null   object \n",
      " 6   frequency                  13113 non-null  float64\n",
      "dtypes: float64(2), int64(1), object(4)\n",
      "memory usage: 717.2+ KB\n"
     ]
    }
   ],
   "source": [
    "service_freq_df_test2.info()"
   ]
  },
  {
   "cell_type": "markdown",
   "id": "de6f2db5-b477-4552-a6e7-d9f73e7946ff",
   "metadata": {},
   "source": [
    "##### `metrics_df` portion of `gtfs_funnel.schedule_stas_by_route_direction.schedule_metrics_by_route_direction`\n",
    "* Did `dropna=False` to get all the routes. \n",
    "* Without `dropna=False`, all the routes disappear."
   ]
  },
  {
   "cell_type": "code",
   "execution_count": 112,
   "id": "9ea0480a-50e2-4707-bec6-5e774688da31",
   "metadata": {},
   "outputs": [],
   "source": [
    "route_dir_metrics = (\n",
    "    trip_metrics2.groupby(\n",
    "        route_group_merge_cols, observed=True, group_keys=False, dropna=False\n",
    "    )\n",
    "    .agg(\n",
    "        {\n",
    "            \"median_stop_meters\": \"mean\",\n",
    "            # take mean of the median stop spacing for trip\n",
    "            # does this make sense?\n",
    "            # median is the single boiled down metric at the trip-level\n",
    "            \"scheduled_service_minutes\": \"mean\",\n",
    "        }\n",
    "    )\n",
    "    .reset_index()\n",
    "    .rename(\n",
    "        columns={\n",
    "            \"median_stop_meters\": \"avg_stop_meters\",\n",
    "            \"scheduled_service_minutes\": \"avg_scheduled_service_minutes\",\n",
    "        }\n",
    "    )\n",
    ")"
   ]
  },
  {
   "cell_type": "code",
   "execution_count": 73,
   "id": "7b06e50e-976f-4bb4-bca2-4e0e69d9aac2",
   "metadata": {},
   "outputs": [
    {
     "data": {
      "text/html": [
       "<div>\n",
       "<style scoped>\n",
       "    .dataframe tbody tr th:only-of-type {\n",
       "        vertical-align: middle;\n",
       "    }\n",
       "\n",
       "    .dataframe tbody tr th {\n",
       "        vertical-align: top;\n",
       "    }\n",
       "\n",
       "    .dataframe thead th {\n",
       "        text-align: right;\n",
       "    }\n",
       "</style>\n",
       "<table border=\"1\" class=\"dataframe\">\n",
       "  <thead>\n",
       "    <tr style=\"text-align: right;\">\n",
       "      <th></th>\n",
       "      <th>schedule_gtfs_dataset_key</th>\n",
       "      <th>route_id</th>\n",
       "      <th>direction_id</th>\n",
       "    </tr>\n",
       "  </thead>\n",
       "  <tbody>\n",
       "    <tr>\n",
       "      <th>0</th>\n",
       "      <td>73105f2d1cabc8170ab066d96863c5d5</td>\n",
       "      <td>1</td>\n",
       "      <td>NaN</td>\n",
       "    </tr>\n",
       "    <tr>\n",
       "      <th>1</th>\n",
       "      <td>73105f2d1cabc8170ab066d96863c5d5</td>\n",
       "      <td>11</td>\n",
       "      <td>NaN</td>\n",
       "    </tr>\n",
       "    <tr>\n",
       "      <th>2</th>\n",
       "      <td>73105f2d1cabc8170ab066d96863c5d5</td>\n",
       "      <td>12X</td>\n",
       "      <td>NaN</td>\n",
       "    </tr>\n",
       "    <tr>\n",
       "      <th>3</th>\n",
       "      <td>73105f2d1cabc8170ab066d96863c5d5</td>\n",
       "      <td>13X</td>\n",
       "      <td>NaN</td>\n",
       "    </tr>\n",
       "    <tr>\n",
       "      <th>4</th>\n",
       "      <td>73105f2d1cabc8170ab066d96863c5d5</td>\n",
       "      <td>1B</td>\n",
       "      <td>NaN</td>\n",
       "    </tr>\n",
       "    <tr>\n",
       "      <th>5</th>\n",
       "      <td>73105f2d1cabc8170ab066d96863c5d5</td>\n",
       "      <td>2</td>\n",
       "      <td>NaN</td>\n",
       "    </tr>\n",
       "    <tr>\n",
       "      <th>6</th>\n",
       "      <td>73105f2d1cabc8170ab066d96863c5d5</td>\n",
       "      <td>20</td>\n",
       "      <td>NaN</td>\n",
       "    </tr>\n",
       "    <tr>\n",
       "      <th>7</th>\n",
       "      <td>73105f2d1cabc8170ab066d96863c5d5</td>\n",
       "      <td>3</td>\n",
       "      <td>NaN</td>\n",
       "    </tr>\n",
       "    <tr>\n",
       "      <th>8</th>\n",
       "      <td>73105f2d1cabc8170ab066d96863c5d5</td>\n",
       "      <td>30</td>\n",
       "      <td>NaN</td>\n",
       "    </tr>\n",
       "    <tr>\n",
       "      <th>9</th>\n",
       "      <td>73105f2d1cabc8170ab066d96863c5d5</td>\n",
       "      <td>4</td>\n",
       "      <td>NaN</td>\n",
       "    </tr>\n",
       "    <tr>\n",
       "      <th>10</th>\n",
       "      <td>73105f2d1cabc8170ab066d96863c5d5</td>\n",
       "      <td>5</td>\n",
       "      <td>0.00</td>\n",
       "    </tr>\n",
       "    <tr>\n",
       "      <th>11</th>\n",
       "      <td>73105f2d1cabc8170ab066d96863c5d5</td>\n",
       "      <td>6</td>\n",
       "      <td>NaN</td>\n",
       "    </tr>\n",
       "    <tr>\n",
       "      <th>12</th>\n",
       "      <td>73105f2d1cabc8170ab066d96863c5d5</td>\n",
       "      <td>7</td>\n",
       "      <td>NaN</td>\n",
       "    </tr>\n",
       "    <tr>\n",
       "      <th>13</th>\n",
       "      <td>73105f2d1cabc8170ab066d96863c5d5</td>\n",
       "      <td>8</td>\n",
       "      <td>NaN</td>\n",
       "    </tr>\n",
       "    <tr>\n",
       "      <th>14</th>\n",
       "      <td>73105f2d1cabc8170ab066d96863c5d5</td>\n",
       "      <td>8a7c42f9-51e4-4848-bf88-30c210f149ad</td>\n",
       "      <td>NaN</td>\n",
       "    </tr>\n",
       "    <tr>\n",
       "      <th>15</th>\n",
       "      <td>73105f2d1cabc8170ab066d96863c5d5</td>\n",
       "      <td>9</td>\n",
       "      <td>NaN</td>\n",
       "    </tr>\n",
       "    <tr>\n",
       "      <th>16</th>\n",
       "      <td>73105f2d1cabc8170ab066d96863c5d5</td>\n",
       "      <td>Mall</td>\n",
       "      <td>NaN</td>\n",
       "    </tr>\n",
       "    <tr>\n",
       "      <th>17</th>\n",
       "      <td>f5a749dd65924e025b1293c58f95f8d6</td>\n",
       "      <td>CC</td>\n",
       "      <td>0.00</td>\n",
       "    </tr>\n",
       "    <tr>\n",
       "      <th>18</th>\n",
       "      <td>f5a749dd65924e025b1293c58f95f8d6</td>\n",
       "      <td>CC</td>\n",
       "      <td>1.00</td>\n",
       "    </tr>\n",
       "    <tr>\n",
       "      <th>19</th>\n",
       "      <td>f5a749dd65924e025b1293c58f95f8d6</td>\n",
       "      <td>SF</td>\n",
       "      <td>0.00</td>\n",
       "    </tr>\n",
       "    <tr>\n",
       "      <th>20</th>\n",
       "      <td>f5a749dd65924e025b1293c58f95f8d6</td>\n",
       "      <td>SF</td>\n",
       "      <td>1.00</td>\n",
       "    </tr>\n",
       "    <tr>\n",
       "      <th>21</th>\n",
       "      <td>f5a749dd65924e025b1293c58f95f8d6</td>\n",
       "      <td>Shuttle</td>\n",
       "      <td>0.00</td>\n",
       "    </tr>\n",
       "    <tr>\n",
       "      <th>22</th>\n",
       "      <td>f5a749dd65924e025b1293c58f95f8d6</td>\n",
       "      <td>Shuttle</td>\n",
       "      <td>1.00</td>\n",
       "    </tr>\n",
       "  </tbody>\n",
       "</table>\n",
       "</div>"
      ],
      "text/plain": [
       "           schedule_gtfs_dataset_key                              route_id  \\\n",
       "0   73105f2d1cabc8170ab066d96863c5d5                                     1   \n",
       "1   73105f2d1cabc8170ab066d96863c5d5                                    11   \n",
       "2   73105f2d1cabc8170ab066d96863c5d5                                   12X   \n",
       "3   73105f2d1cabc8170ab066d96863c5d5                                   13X   \n",
       "4   73105f2d1cabc8170ab066d96863c5d5                                    1B   \n",
       "5   73105f2d1cabc8170ab066d96863c5d5                                     2   \n",
       "6   73105f2d1cabc8170ab066d96863c5d5                                    20   \n",
       "7   73105f2d1cabc8170ab066d96863c5d5                                     3   \n",
       "8   73105f2d1cabc8170ab066d96863c5d5                                    30   \n",
       "9   73105f2d1cabc8170ab066d96863c5d5                                     4   \n",
       "10  73105f2d1cabc8170ab066d96863c5d5                                     5   \n",
       "11  73105f2d1cabc8170ab066d96863c5d5                                     6   \n",
       "12  73105f2d1cabc8170ab066d96863c5d5                                     7   \n",
       "13  73105f2d1cabc8170ab066d96863c5d5                                     8   \n",
       "14  73105f2d1cabc8170ab066d96863c5d5  8a7c42f9-51e4-4848-bf88-30c210f149ad   \n",
       "15  73105f2d1cabc8170ab066d96863c5d5                                     9   \n",
       "16  73105f2d1cabc8170ab066d96863c5d5                                  Mall   \n",
       "17  f5a749dd65924e025b1293c58f95f8d6                                    CC   \n",
       "18  f5a749dd65924e025b1293c58f95f8d6                                    CC   \n",
       "19  f5a749dd65924e025b1293c58f95f8d6                                    SF   \n",
       "20  f5a749dd65924e025b1293c58f95f8d6                                    SF   \n",
       "21  f5a749dd65924e025b1293c58f95f8d6                               Shuttle   \n",
       "22  f5a749dd65924e025b1293c58f95f8d6                               Shuttle   \n",
       "\n",
       "    direction_id  \n",
       "0            NaN  \n",
       "1            NaN  \n",
       "2            NaN  \n",
       "3            NaN  \n",
       "4            NaN  \n",
       "5            NaN  \n",
       "6            NaN  \n",
       "7            NaN  \n",
       "8            NaN  \n",
       "9            NaN  \n",
       "10          0.00  \n",
       "11           NaN  \n",
       "12           NaN  \n",
       "13           NaN  \n",
       "14           NaN  \n",
       "15           NaN  \n",
       "16           NaN  \n",
       "17          0.00  \n",
       "18          1.00  \n",
       "19          0.00  \n",
       "20          1.00  \n",
       "21          0.00  \n",
       "22          1.00  "
      ]
     },
     "metadata": {},
     "output_type": "display_data"
    }
   ],
   "source": [
    "preview(metrics_df)"
   ]
  },
  {
   "cell_type": "code",
   "execution_count": 74,
   "id": "a6268272-be06-494b-b170-895e30358eab",
   "metadata": {},
   "outputs": [],
   "source": [
    "metrics_df2 = (\n",
    "    trip_metrics2.groupby(route_group_merge_cols, observed=True, group_keys=False)\n",
    "    .agg(\n",
    "        {\n",
    "            \"median_stop_meters\": \"mean\",\n",
    "            # take mean of the median stop spacing for trip\n",
    "            # does this make sense?\n",
    "            # median is the single boiled down metric at the trip-level\n",
    "            \"scheduled_service_minutes\": \"mean\",\n",
    "        }\n",
    "    )\n",
    "    .reset_index()\n",
    "    .rename(\n",
    "        columns={\n",
    "            \"median_stop_meters\": \"avg_stop_meters\",\n",
    "            \"scheduled_service_minutes\": \"avg_scheduled_service_minutes\",\n",
    "        }\n",
    "    )\n",
    ")"
   ]
  },
  {
   "cell_type": "code",
   "execution_count": 75,
   "id": "6c8626df-6efd-4920-80b6-06e70ba6060e",
   "metadata": {},
   "outputs": [
    {
     "data": {
      "text/html": [
       "<div>\n",
       "<style scoped>\n",
       "    .dataframe tbody tr th:only-of-type {\n",
       "        vertical-align: middle;\n",
       "    }\n",
       "\n",
       "    .dataframe tbody tr th {\n",
       "        vertical-align: top;\n",
       "    }\n",
       "\n",
       "    .dataframe thead th {\n",
       "        text-align: right;\n",
       "    }\n",
       "</style>\n",
       "<table border=\"1\" class=\"dataframe\">\n",
       "  <thead>\n",
       "    <tr style=\"text-align: right;\">\n",
       "      <th></th>\n",
       "      <th>schedule_gtfs_dataset_key</th>\n",
       "      <th>route_id</th>\n",
       "      <th>direction_id</th>\n",
       "    </tr>\n",
       "  </thead>\n",
       "  <tbody>\n",
       "    <tr>\n",
       "      <th>0</th>\n",
       "      <td>73105f2d1cabc8170ab066d96863c5d5</td>\n",
       "      <td>5</td>\n",
       "      <td>0.00</td>\n",
       "    </tr>\n",
       "    <tr>\n",
       "      <th>1</th>\n",
       "      <td>f5a749dd65924e025b1293c58f95f8d6</td>\n",
       "      <td>CC</td>\n",
       "      <td>0.00</td>\n",
       "    </tr>\n",
       "    <tr>\n",
       "      <th>2</th>\n",
       "      <td>f5a749dd65924e025b1293c58f95f8d6</td>\n",
       "      <td>CC</td>\n",
       "      <td>1.00</td>\n",
       "    </tr>\n",
       "    <tr>\n",
       "      <th>3</th>\n",
       "      <td>f5a749dd65924e025b1293c58f95f8d6</td>\n",
       "      <td>SF</td>\n",
       "      <td>0.00</td>\n",
       "    </tr>\n",
       "    <tr>\n",
       "      <th>4</th>\n",
       "      <td>f5a749dd65924e025b1293c58f95f8d6</td>\n",
       "      <td>SF</td>\n",
       "      <td>1.00</td>\n",
       "    </tr>\n",
       "    <tr>\n",
       "      <th>5</th>\n",
       "      <td>f5a749dd65924e025b1293c58f95f8d6</td>\n",
       "      <td>Shuttle</td>\n",
       "      <td>0.00</td>\n",
       "    </tr>\n",
       "    <tr>\n",
       "      <th>6</th>\n",
       "      <td>f5a749dd65924e025b1293c58f95f8d6</td>\n",
       "      <td>Shuttle</td>\n",
       "      <td>1.00</td>\n",
       "    </tr>\n",
       "  </tbody>\n",
       "</table>\n",
       "</div>"
      ],
      "text/plain": [
       "          schedule_gtfs_dataset_key route_id  direction_id\n",
       "0  73105f2d1cabc8170ab066d96863c5d5        5          0.00\n",
       "1  f5a749dd65924e025b1293c58f95f8d6       CC          0.00\n",
       "2  f5a749dd65924e025b1293c58f95f8d6       CC          1.00\n",
       "3  f5a749dd65924e025b1293c58f95f8d6       SF          0.00\n",
       "4  f5a749dd65924e025b1293c58f95f8d6       SF          1.00\n",
       "5  f5a749dd65924e025b1293c58f95f8d6  Shuttle          0.00\n",
       "6  f5a749dd65924e025b1293c58f95f8d6  Shuttle          1.00"
      ]
     },
     "metadata": {},
     "output_type": "display_data"
    }
   ],
   "source": [
    "preview(metrics_df2)"
   ]
  },
  {
   "cell_type": "code",
   "execution_count": 77,
   "id": "e4ec43ef-a292-40d1-856f-c60a6fa47cb1",
   "metadata": {},
   "outputs": [],
   "source": [
    "ROUTE_TYPOLOGIES = GTFS_DATA_DICT.schedule_tables.route_typologies"
   ]
  },
  {
   "cell_type": "code",
   "execution_count": 79,
   "id": "b906d052-a2a2-4ebc-9884-6ed9f4965487",
   "metadata": {},
   "outputs": [],
   "source": [
    "route_typologies = pd.read_parquet(\n",
    "    f\"{SCHED_GCS}{ROUTE_TYPOLOGIES}_{one_analysis_date}.parquet\",\n",
    "    columns=route_group_merge_cols\n",
    "    + [\n",
    "        \"is_coverage\",\n",
    "        \"is_downtown_local\",\n",
    "        \"is_local\",\n",
    "        \"is_rapid\",\n",
    "        \"is_express\",\n",
    "        \"is_rail\",\n",
    "    ],\n",
    ")"
   ]
  },
  {
   "cell_type": "code",
   "execution_count": 81,
   "id": "80b783b3-efb9-400e-a8b2-b23cccae6184",
   "metadata": {},
   "outputs": [],
   "source": [
    "cardinal_dir_df = (\n",
    "    schedule_stats_by_route_direction.cardinal_direction_for_route_direction(\n",
    "        one_analysis_date, GTFS_DATA_DICT\n",
    "    )\n",
    ")"
   ]
  },
  {
   "cell_type": "markdown",
   "id": "96a8aae2-ad7a-4183-9476-d1e7f7acfadc",
   "metadata": {},
   "source": [
    "##### `cardinal_dir_df` also gets rid of a lot of stuff."
   ]
  },
  {
   "cell_type": "code",
   "execution_count": 84,
   "id": "2f7d394e-8820-49b1-8464-a052a3150aaf",
   "metadata": {},
   "outputs": [],
   "source": [
    "cardinal_dir_df2 = cardinal_dir_df.loc[\n",
    "    cardinal_dir_df.schedule_gtfs_dataset_key.isin(schd_keys)\n",
    "]"
   ]
  },
  {
   "cell_type": "code",
   "execution_count": 85,
   "id": "d8f00606-b583-4518-a234-0f7f6dc121c1",
   "metadata": {},
   "outputs": [
    {
     "data": {
      "text/html": [
       "<div>\n",
       "<style scoped>\n",
       "    .dataframe tbody tr th:only-of-type {\n",
       "        vertical-align: middle;\n",
       "    }\n",
       "\n",
       "    .dataframe tbody tr th {\n",
       "        vertical-align: top;\n",
       "    }\n",
       "\n",
       "    .dataframe thead th {\n",
       "        text-align: right;\n",
       "    }\n",
       "</style>\n",
       "<table border=\"1\" class=\"dataframe\">\n",
       "  <thead>\n",
       "    <tr style=\"text-align: right;\">\n",
       "      <th></th>\n",
       "      <th>schedule_gtfs_dataset_key</th>\n",
       "      <th>route_id</th>\n",
       "      <th>direction_id</th>\n",
       "    </tr>\n",
       "  </thead>\n",
       "  <tbody>\n",
       "    <tr>\n",
       "      <th>2581</th>\n",
       "      <td>73105f2d1cabc8170ab066d96863c5d5</td>\n",
       "      <td>5</td>\n",
       "      <td>0.00</td>\n",
       "    </tr>\n",
       "    <tr>\n",
       "      <th>3947</th>\n",
       "      <td>f5a749dd65924e025b1293c58f95f8d6</td>\n",
       "      <td>CC</td>\n",
       "      <td>0.00</td>\n",
       "    </tr>\n",
       "    <tr>\n",
       "      <th>3948</th>\n",
       "      <td>f5a749dd65924e025b1293c58f95f8d6</td>\n",
       "      <td>CC</td>\n",
       "      <td>1.00</td>\n",
       "    </tr>\n",
       "    <tr>\n",
       "      <th>4225</th>\n",
       "      <td>f5a749dd65924e025b1293c58f95f8d6</td>\n",
       "      <td>SF</td>\n",
       "      <td>0.00</td>\n",
       "    </tr>\n",
       "    <tr>\n",
       "      <th>4226</th>\n",
       "      <td>f5a749dd65924e025b1293c58f95f8d6</td>\n",
       "      <td>SF</td>\n",
       "      <td>1.00</td>\n",
       "    </tr>\n",
       "    <tr>\n",
       "      <th>4254</th>\n",
       "      <td>f5a749dd65924e025b1293c58f95f8d6</td>\n",
       "      <td>Shuttle</td>\n",
       "      <td>0.00</td>\n",
       "    </tr>\n",
       "    <tr>\n",
       "      <th>4255</th>\n",
       "      <td>f5a749dd65924e025b1293c58f95f8d6</td>\n",
       "      <td>Shuttle</td>\n",
       "      <td>1.00</td>\n",
       "    </tr>\n",
       "  </tbody>\n",
       "</table>\n",
       "</div>"
      ],
      "text/plain": [
       "             schedule_gtfs_dataset_key route_id  direction_id\n",
       "2581  73105f2d1cabc8170ab066d96863c5d5        5          0.00\n",
       "3947  f5a749dd65924e025b1293c58f95f8d6       CC          0.00\n",
       "3948  f5a749dd65924e025b1293c58f95f8d6       CC          1.00\n",
       "4225  f5a749dd65924e025b1293c58f95f8d6       SF          0.00\n",
       "4226  f5a749dd65924e025b1293c58f95f8d6       SF          1.00\n",
       "4254  f5a749dd65924e025b1293c58f95f8d6  Shuttle          0.00\n",
       "4255  f5a749dd65924e025b1293c58f95f8d6  Shuttle          1.00"
      ]
     },
     "metadata": {},
     "output_type": "display_data"
    }
   ],
   "source": [
    "preview(cardinal_dir_df2)"
   ]
  },
  {
   "cell_type": "code",
   "execution_count": 88,
   "id": "59453366-e8a1-4758-813f-7feeedba18ed",
   "metadata": {},
   "outputs": [],
   "source": [
    "STOP_TIMES_FILE = GTFS_DATA_DICT.rt_vs_schedule_tables.stop_times_direction"
   ]
  },
  {
   "cell_type": "code",
   "execution_count": 89,
   "id": "d41745f4-38cb-4f7b-a0e2-f8eb68b2f89f",
   "metadata": {},
   "outputs": [
    {
     "data": {
      "text/plain": [
       "'stop_times_direction'"
      ]
     },
     "execution_count": 89,
     "metadata": {},
     "output_type": "execute_result"
    }
   ],
   "source": [
    "STOP_TIMES_FILE"
   ]
  },
  {
   "cell_type": "code",
   "execution_count": 91,
   "id": "872dda1a-c190-4dcf-8513-e0c2b52aee8c",
   "metadata": {},
   "outputs": [],
   "source": [
    "stop_times_df = pd.read_parquet(\n",
    "    f\"{RT_SCHED_GCS}{STOP_TIMES_FILE}_{one_analysis_date}.parquet\",\n",
    "    filters=[[(\"stop_primary_direction\", \"!=\", \"Unknown\")]],\n",
    ")"
   ]
  },
  {
   "cell_type": "code",
   "execution_count": 93,
   "id": "44138bdf-7749-4fc5-ad83-f63cf9ad686b",
   "metadata": {},
   "outputs": [
    {
     "data": {
      "text/html": [
       "<div>\n",
       "<style scoped>\n",
       "    .dataframe tbody tr th:only-of-type {\n",
       "        vertical-align: middle;\n",
       "    }\n",
       "\n",
       "    .dataframe tbody tr th {\n",
       "        vertical-align: top;\n",
       "    }\n",
       "\n",
       "    .dataframe thead th {\n",
       "        text-align: right;\n",
       "    }\n",
       "</style>\n",
       "<table border=\"1\" class=\"dataframe\">\n",
       "  <thead>\n",
       "    <tr style=\"text-align: right;\">\n",
       "      <th></th>\n",
       "      <th>feed_key</th>\n",
       "      <th>stop_id</th>\n",
       "      <th>stop_sequence</th>\n",
       "      <th>schedule_gtfs_dataset_key</th>\n",
       "      <th>trip_instance_key</th>\n",
       "      <th>shape_array_key</th>\n",
       "      <th>stop_name</th>\n",
       "      <th>geometry</th>\n",
       "      <th>prior_stop_sequence</th>\n",
       "      <th>subseq_stop_sequence</th>\n",
       "      <th>stop_pair</th>\n",
       "      <th>stop_pair_name</th>\n",
       "      <th>stop_primary_direction</th>\n",
       "      <th>stop_meters</th>\n",
       "    </tr>\n",
       "  </thead>\n",
       "  <tbody>\n",
       "    <tr>\n",
       "      <th>0</th>\n",
       "      <td>3b357b65167b3749dff376c9d3624f09</td>\n",
       "      <td>c24c75f6-8397-4d8c-a4e5-72444083a9c8</td>\n",
       "      <td>2</td>\n",
       "      <td>c4726e0acfbcbd26e1dc38b8bd046c03</td>\n",
       "      <td>000000c923cd55be781113b823ce9879</td>\n",
       "      <td>a8ebcf8a2e79025380807e9d58b26f52</td>\n",
       "      <td>Toy Story Bus Stop</td>\n",
       "      <td>b'\\x01\\x01\\x00\\x00\\x003\\xe2\\x8a}\\r\\x8a\\x07A\\x98H\\x01\\xc87e\\x1c\\xc1'</td>\n",
       "      <td>1</td>\n",
       "      <td>&lt;NA&gt;</td>\n",
       "      <td>c24c75f6-8397-4d8c-a4e5-72444083a9c8__</td>\n",
       "      <td>Toy Story Bus Stop__</td>\n",
       "      <td>Northbound</td>\n",
       "      <td>1127.76</td>\n",
       "    </tr>\n",
       "  </tbody>\n",
       "</table>\n",
       "</div>"
      ],
      "text/plain": [
       "                           feed_key                               stop_id  \\\n",
       "0  3b357b65167b3749dff376c9d3624f09  c24c75f6-8397-4d8c-a4e5-72444083a9c8   \n",
       "\n",
       "   stop_sequence         schedule_gtfs_dataset_key  \\\n",
       "0              2  c4726e0acfbcbd26e1dc38b8bd046c03   \n",
       "\n",
       "                  trip_instance_key                   shape_array_key  \\\n",
       "0  000000c923cd55be781113b823ce9879  a8ebcf8a2e79025380807e9d58b26f52   \n",
       "\n",
       "            stop_name  \\\n",
       "0  Toy Story Bus Stop   \n",
       "\n",
       "                                                              geometry  \\\n",
       "0  b'\\x01\\x01\\x00\\x00\\x003\\xe2\\x8a}\\r\\x8a\\x07A\\x98H\\x01\\xc87e\\x1c\\xc1'   \n",
       "\n",
       "   prior_stop_sequence  subseq_stop_sequence  \\\n",
       "0                    1                  <NA>   \n",
       "\n",
       "                                stop_pair        stop_pair_name  \\\n",
       "0  c24c75f6-8397-4d8c-a4e5-72444083a9c8__  Toy Story Bus Stop__   \n",
       "\n",
       "  stop_primary_direction  stop_meters  \n",
       "0             Northbound      1127.76  "
      ]
     },
     "execution_count": 93,
     "metadata": {},
     "output_type": "execute_result"
    }
   ],
   "source": [
    "stop_times_df.head(1)"
   ]
  },
  {
   "cell_type": "code",
   "execution_count": 94,
   "id": "80428679-11b3-4c9a-9a69-6fae3e376580",
   "metadata": {},
   "outputs": [],
   "source": [
    "stop_times_df2 = stop_times_df.loc[\n",
    "    stop_times_df.schedule_gtfs_dataset_key.isin(schd_keys)\n",
    "]"
   ]
  },
  {
   "cell_type": "code",
   "execution_count": 96,
   "id": "cd7a7bb5-8b69-445b-940f-1175c0c1a19c",
   "metadata": {},
   "outputs": [
    {
     "data": {
      "text/html": [
       "<div>\n",
       "<style scoped>\n",
       "    .dataframe tbody tr th:only-of-type {\n",
       "        vertical-align: middle;\n",
       "    }\n",
       "\n",
       "    .dataframe tbody tr th {\n",
       "        vertical-align: top;\n",
       "    }\n",
       "\n",
       "    .dataframe thead th {\n",
       "        text-align: right;\n",
       "    }\n",
       "</style>\n",
       "<table border=\"1\" class=\"dataframe\">\n",
       "  <thead>\n",
       "    <tr style=\"text-align: right;\">\n",
       "      <th></th>\n",
       "      <th>feed_key</th>\n",
       "      <th>stop_id</th>\n",
       "      <th>stop_sequence</th>\n",
       "      <th>schedule_gtfs_dataset_key</th>\n",
       "      <th>trip_instance_key</th>\n",
       "      <th>shape_array_key</th>\n",
       "      <th>stop_name</th>\n",
       "      <th>geometry</th>\n",
       "      <th>prior_stop_sequence</th>\n",
       "      <th>subseq_stop_sequence</th>\n",
       "      <th>stop_pair</th>\n",
       "      <th>stop_pair_name</th>\n",
       "      <th>stop_primary_direction</th>\n",
       "      <th>stop_meters</th>\n",
       "    </tr>\n",
       "  </thead>\n",
       "  <tbody>\n",
       "    <tr>\n",
       "      <th>6324</th>\n",
       "      <td>c86a471a1a4c36bb8cf7da9d6a20f202</td>\n",
       "      <td>f09af637-87de-4bdb-bf49-660539686c97</td>\n",
       "      <td>2</td>\n",
       "      <td>73105f2d1cabc8170ab066d96863c5d5</td>\n",
       "      <td>005bb393ed8b22ca4d8e7cc8d7895231</td>\n",
       "      <td>c6e9cda0db8bf76bc535f590ca1fccb5</td>\n",
       "      <td>Broadway at Stowell</td>\n",
       "      <td>b'\\x01\\x01\\x00\\x00\\x00\\x8b\\x1a\\xbc\\x0f\\x88q\\xe3\\xc0(q\\xf2\\xcfo\\xe3\\x14\\xc1'</td>\n",
       "      <td>1</td>\n",
       "      <td>3</td>\n",
       "      <td>f09af637-87de-4bdb-bf49-660539686c97__47def414-f158-496a-91cb-5f3fb0aa406c</td>\n",
       "      <td>Broadway at Stowell__Betteravia at Miller (Panda Express)</td>\n",
       "      <td>Southbound</td>\n",
       "      <td>1275.56</td>\n",
       "    </tr>\n",
       "    <tr>\n",
       "      <th>6325</th>\n",
       "      <td>c86a471a1a4c36bb8cf7da9d6a20f202</td>\n",
       "      <td>47def414-f158-496a-91cb-5f3fb0aa406c</td>\n",
       "      <td>3</td>\n",
       "      <td>73105f2d1cabc8170ab066d96863c5d5</td>\n",
       "      <td>005bb393ed8b22ca4d8e7cc8d7895231</td>\n",
       "      <td>c6e9cda0db8bf76bc535f590ca1fccb5</td>\n",
       "      <td>Betteravia at Miller (Panda Express)</td>\n",
       "      <td>b'\\x01\\x01\\x00\\x00\\x00.\\xacHd\"Q\\xe3\\xc0x\\x83P\\x05\\\\\\xfc\\x14\\xc1'</td>\n",
       "      <td>2</td>\n",
       "      <td>4</td>\n",
       "      <td>47def414-f158-496a-91cb-5f3fb0aa406c__a94160c1-bd99-4898-921f-941aa748ce6f</td>\n",
       "      <td>Betteravia at Miller (Panda Express)__McCoy at Broadway (Outbound)</td>\n",
       "      <td>Southbound</td>\n",
       "      <td>1615.97</td>\n",
       "    </tr>\n",
       "  </tbody>\n",
       "</table>\n",
       "</div>"
      ],
      "text/plain": [
       "                              feed_key                               stop_id  \\\n",
       "6324  c86a471a1a4c36bb8cf7da9d6a20f202  f09af637-87de-4bdb-bf49-660539686c97   \n",
       "6325  c86a471a1a4c36bb8cf7da9d6a20f202  47def414-f158-496a-91cb-5f3fb0aa406c   \n",
       "\n",
       "      stop_sequence         schedule_gtfs_dataset_key  \\\n",
       "6324              2  73105f2d1cabc8170ab066d96863c5d5   \n",
       "6325              3  73105f2d1cabc8170ab066d96863c5d5   \n",
       "\n",
       "                     trip_instance_key                   shape_array_key  \\\n",
       "6324  005bb393ed8b22ca4d8e7cc8d7895231  c6e9cda0db8bf76bc535f590ca1fccb5   \n",
       "6325  005bb393ed8b22ca4d8e7cc8d7895231  c6e9cda0db8bf76bc535f590ca1fccb5   \n",
       "\n",
       "                                 stop_name  \\\n",
       "6324                   Broadway at Stowell   \n",
       "6325  Betteravia at Miller (Panda Express)   \n",
       "\n",
       "                                                                         geometry  \\\n",
       "6324  b'\\x01\\x01\\x00\\x00\\x00\\x8b\\x1a\\xbc\\x0f\\x88q\\xe3\\xc0(q\\xf2\\xcfo\\xe3\\x14\\xc1'   \n",
       "6325             b'\\x01\\x01\\x00\\x00\\x00.\\xacHd\"Q\\xe3\\xc0x\\x83P\\x05\\\\\\xfc\\x14\\xc1'   \n",
       "\n",
       "      prior_stop_sequence  subseq_stop_sequence  \\\n",
       "6324                    1                     3   \n",
       "6325                    2                     4   \n",
       "\n",
       "                                                                       stop_pair  \\\n",
       "6324  f09af637-87de-4bdb-bf49-660539686c97__47def414-f158-496a-91cb-5f3fb0aa406c   \n",
       "6325  47def414-f158-496a-91cb-5f3fb0aa406c__a94160c1-bd99-4898-921f-941aa748ce6f   \n",
       "\n",
       "                                                          stop_pair_name  \\\n",
       "6324           Broadway at Stowell__Betteravia at Miller (Panda Express)   \n",
       "6325  Betteravia at Miller (Panda Express)__McCoy at Broadway (Outbound)   \n",
       "\n",
       "     stop_primary_direction  stop_meters  \n",
       "6324             Southbound      1275.56  \n",
       "6325             Southbound      1615.97  "
      ]
     },
     "execution_count": 96,
     "metadata": {},
     "output_type": "execute_result"
    }
   ],
   "source": [
    "stop_times_df2.head(2)"
   ]
  },
  {
   "cell_type": "code",
   "execution_count": 97,
   "id": "47cea347-de35-49cd-b5a7-8bdbe0c87a06",
   "metadata": {},
   "outputs": [],
   "source": [
    "trip_scheduled_col = [\n",
    "    \"route_id\",\n",
    "    \"trip_instance_key\",\n",
    "    \"gtfs_dataset_key\",\n",
    "    \"shape_array_key\",\n",
    "    \"direction_id\",\n",
    "    \"route_long_name\",\n",
    "    \"route_short_name\",\n",
    "    \"route_desc\",\n",
    "    \"name\",\n",
    "]\n",
    "\n",
    "trips_df = helpers.import_scheduled_trips(\n",
    "    one_analysis_date, columns=trip_scheduled_col, get_pandas=True\n",
    ")"
   ]
  },
  {
   "cell_type": "code",
   "execution_count": 99,
   "id": "b5aa4d89-791c-4a51-b538-27739a966e90",
   "metadata": {},
   "outputs": [],
   "source": [
    "merge_cols = [\"trip_instance_key\", \"schedule_gtfs_dataset_key\", \"shape_array_key\"]"
   ]
  },
  {
   "cell_type": "code",
   "execution_count": 100,
   "id": "9de81f13-d613-4c01-8e73-fecb92d957f6",
   "metadata": {},
   "outputs": [],
   "source": [
    "stop_times_with_trip = pd.merge(stop_times_df2, trips_df, on=merge_cols)"
   ]
  },
  {
   "cell_type": "code",
   "execution_count": 101,
   "id": "6fc89503-be55-4b09-9410-7617cfea649e",
   "metadata": {},
   "outputs": [
    {
     "data": {
      "text/html": [
       "<div>\n",
       "<style scoped>\n",
       "    .dataframe tbody tr th:only-of-type {\n",
       "        vertical-align: middle;\n",
       "    }\n",
       "\n",
       "    .dataframe tbody tr th {\n",
       "        vertical-align: top;\n",
       "    }\n",
       "\n",
       "    .dataframe thead th {\n",
       "        text-align: right;\n",
       "    }\n",
       "</style>\n",
       "<table border=\"1\" class=\"dataframe\">\n",
       "  <thead>\n",
       "    <tr style=\"text-align: right;\">\n",
       "      <th></th>\n",
       "      <th>schedule_gtfs_dataset_key</th>\n",
       "      <th>route_id</th>\n",
       "      <th>direction_id</th>\n",
       "    </tr>\n",
       "  </thead>\n",
       "  <tbody>\n",
       "    <tr>\n",
       "      <th>0</th>\n",
       "      <td>73105f2d1cabc8170ab066d96863c5d5</td>\n",
       "      <td>30</td>\n",
       "      <td>NaN</td>\n",
       "    </tr>\n",
       "    <tr>\n",
       "      <th>26</th>\n",
       "      <td>73105f2d1cabc8170ab066d96863c5d5</td>\n",
       "      <td>3</td>\n",
       "      <td>NaN</td>\n",
       "    </tr>\n",
       "    <tr>\n",
       "      <th>66</th>\n",
       "      <td>73105f2d1cabc8170ab066d96863c5d5</td>\n",
       "      <td>20</td>\n",
       "      <td>NaN</td>\n",
       "    </tr>\n",
       "    <tr>\n",
       "      <th>75</th>\n",
       "      <td>f5a749dd65924e025b1293c58f95f8d6</td>\n",
       "      <td>Shuttle</td>\n",
       "      <td>0.00</td>\n",
       "    </tr>\n",
       "    <tr>\n",
       "      <th>79</th>\n",
       "      <td>73105f2d1cabc8170ab066d96863c5d5</td>\n",
       "      <td>4</td>\n",
       "      <td>NaN</td>\n",
       "    </tr>\n",
       "    <tr>\n",
       "      <th>104</th>\n",
       "      <td>f5a749dd65924e025b1293c58f95f8d6</td>\n",
       "      <td>SF</td>\n",
       "      <td>1.00</td>\n",
       "    </tr>\n",
       "    <tr>\n",
       "      <th>105</th>\n",
       "      <td>73105f2d1cabc8170ab066d96863c5d5</td>\n",
       "      <td>Mall</td>\n",
       "      <td>NaN</td>\n",
       "    </tr>\n",
       "    <tr>\n",
       "      <th>111</th>\n",
       "      <td>73105f2d1cabc8170ab066d96863c5d5</td>\n",
       "      <td>5</td>\n",
       "      <td>0.00</td>\n",
       "    </tr>\n",
       "    <tr>\n",
       "      <th>147</th>\n",
       "      <td>73105f2d1cabc8170ab066d96863c5d5</td>\n",
       "      <td>11</td>\n",
       "      <td>NaN</td>\n",
       "    </tr>\n",
       "    <tr>\n",
       "      <th>168</th>\n",
       "      <td>73105f2d1cabc8170ab066d96863c5d5</td>\n",
       "      <td>7</td>\n",
       "      <td>NaN</td>\n",
       "    </tr>\n",
       "    <tr>\n",
       "      <th>184</th>\n",
       "      <td>73105f2d1cabc8170ab066d96863c5d5</td>\n",
       "      <td>9</td>\n",
       "      <td>NaN</td>\n",
       "    </tr>\n",
       "    <tr>\n",
       "      <th>217</th>\n",
       "      <td>73105f2d1cabc8170ab066d96863c5d5</td>\n",
       "      <td>1</td>\n",
       "      <td>NaN</td>\n",
       "    </tr>\n",
       "    <tr>\n",
       "      <th>242</th>\n",
       "      <td>73105f2d1cabc8170ab066d96863c5d5</td>\n",
       "      <td>1B</td>\n",
       "      <td>NaN</td>\n",
       "    </tr>\n",
       "    <tr>\n",
       "      <th>396</th>\n",
       "      <td>f5a749dd65924e025b1293c58f95f8d6</td>\n",
       "      <td>SF</td>\n",
       "      <td>0.00</td>\n",
       "    </tr>\n",
       "    <tr>\n",
       "      <th>397</th>\n",
       "      <td>73105f2d1cabc8170ab066d96863c5d5</td>\n",
       "      <td>12X</td>\n",
       "      <td>NaN</td>\n",
       "    </tr>\n",
       "    <tr>\n",
       "      <th>456</th>\n",
       "      <td>73105f2d1cabc8170ab066d96863c5d5</td>\n",
       "      <td>6</td>\n",
       "      <td>NaN</td>\n",
       "    </tr>\n",
       "    <tr>\n",
       "      <th>572</th>\n",
       "      <td>f5a749dd65924e025b1293c58f95f8d6</td>\n",
       "      <td>CC</td>\n",
       "      <td>1.00</td>\n",
       "    </tr>\n",
       "    <tr>\n",
       "      <th>592</th>\n",
       "      <td>73105f2d1cabc8170ab066d96863c5d5</td>\n",
       "      <td>2</td>\n",
       "      <td>NaN</td>\n",
       "    </tr>\n",
       "    <tr>\n",
       "      <th>674</th>\n",
       "      <td>73105f2d1cabc8170ab066d96863c5d5</td>\n",
       "      <td>13X</td>\n",
       "      <td>NaN</td>\n",
       "    </tr>\n",
       "    <tr>\n",
       "      <th>735</th>\n",
       "      <td>73105f2d1cabc8170ab066d96863c5d5</td>\n",
       "      <td>8</td>\n",
       "      <td>NaN</td>\n",
       "    </tr>\n",
       "    <tr>\n",
       "      <th>1244</th>\n",
       "      <td>f5a749dd65924e025b1293c58f95f8d6</td>\n",
       "      <td>CC</td>\n",
       "      <td>0.00</td>\n",
       "    </tr>\n",
       "    <tr>\n",
       "      <th>1757</th>\n",
       "      <td>73105f2d1cabc8170ab066d96863c5d5</td>\n",
       "      <td>8a7c42f9-51e4-4848-bf88-30c210f149ad</td>\n",
       "      <td>NaN</td>\n",
       "    </tr>\n",
       "    <tr>\n",
       "      <th>2851</th>\n",
       "      <td>f5a749dd65924e025b1293c58f95f8d6</td>\n",
       "      <td>Shuttle</td>\n",
       "      <td>1.00</td>\n",
       "    </tr>\n",
       "  </tbody>\n",
       "</table>\n",
       "</div>"
      ],
      "text/plain": [
       "             schedule_gtfs_dataset_key                              route_id  \\\n",
       "0     73105f2d1cabc8170ab066d96863c5d5                                    30   \n",
       "26    73105f2d1cabc8170ab066d96863c5d5                                     3   \n",
       "66    73105f2d1cabc8170ab066d96863c5d5                                    20   \n",
       "75    f5a749dd65924e025b1293c58f95f8d6                               Shuttle   \n",
       "79    73105f2d1cabc8170ab066d96863c5d5                                     4   \n",
       "104   f5a749dd65924e025b1293c58f95f8d6                                    SF   \n",
       "105   73105f2d1cabc8170ab066d96863c5d5                                  Mall   \n",
       "111   73105f2d1cabc8170ab066d96863c5d5                                     5   \n",
       "147   73105f2d1cabc8170ab066d96863c5d5                                    11   \n",
       "168   73105f2d1cabc8170ab066d96863c5d5                                     7   \n",
       "184   73105f2d1cabc8170ab066d96863c5d5                                     9   \n",
       "217   73105f2d1cabc8170ab066d96863c5d5                                     1   \n",
       "242   73105f2d1cabc8170ab066d96863c5d5                                    1B   \n",
       "396   f5a749dd65924e025b1293c58f95f8d6                                    SF   \n",
       "397   73105f2d1cabc8170ab066d96863c5d5                                   12X   \n",
       "456   73105f2d1cabc8170ab066d96863c5d5                                     6   \n",
       "572   f5a749dd65924e025b1293c58f95f8d6                                    CC   \n",
       "592   73105f2d1cabc8170ab066d96863c5d5                                     2   \n",
       "674   73105f2d1cabc8170ab066d96863c5d5                                   13X   \n",
       "735   73105f2d1cabc8170ab066d96863c5d5                                     8   \n",
       "1244  f5a749dd65924e025b1293c58f95f8d6                                    CC   \n",
       "1757  73105f2d1cabc8170ab066d96863c5d5  8a7c42f9-51e4-4848-bf88-30c210f149ad   \n",
       "2851  f5a749dd65924e025b1293c58f95f8d6                               Shuttle   \n",
       "\n",
       "      direction_id  \n",
       "0              NaN  \n",
       "26             NaN  \n",
       "66             NaN  \n",
       "75            0.00  \n",
       "79             NaN  \n",
       "104           1.00  \n",
       "105            NaN  \n",
       "111           0.00  \n",
       "147            NaN  \n",
       "168            NaN  \n",
       "184            NaN  \n",
       "217            NaN  \n",
       "242            NaN  \n",
       "396           0.00  \n",
       "397            NaN  \n",
       "456            NaN  \n",
       "572           1.00  \n",
       "592            NaN  \n",
       "674            NaN  \n",
       "735            NaN  \n",
       "1244          0.00  \n",
       "1757           NaN  \n",
       "2851          1.00  "
      ]
     },
     "metadata": {},
     "output_type": "display_data"
    }
   ],
   "source": [
    "preview(stop_times_with_trip)"
   ]
  },
  {
   "cell_type": "code",
   "execution_count": 102,
   "id": "a05fd233-fb33-4fc7-821f-1fe8ea14c049",
   "metadata": {},
   "outputs": [],
   "source": [
    "main_cols = [\"route_id\", \"schedule_gtfs_dataset_key\", \"direction_id\"]"
   ]
  },
  {
   "cell_type": "markdown",
   "id": "eb9a923e-ecb9-4163-ac7d-946ae8eab9c1",
   "metadata": {},
   "source": [
    "##### Changing dropna=False here too"
   ]
  },
  {
   "cell_type": "code",
   "execution_count": 103,
   "id": "6a79cf47-731a-470b-8639-59d3ceef9d2c",
   "metadata": {},
   "outputs": [],
   "source": [
    "agg1 = (\n",
    "    stop_times_with_trip.groupby(main_cols + [\"stop_primary_direction\"], dropna=False)\n",
    "    .agg({\"stop_sequence\": \"count\"})\n",
    "    .reset_index()\n",
    "    .rename(columns={\"stop_sequence\": \"total_stops\"})\n",
    ")"
   ]
  },
  {
   "cell_type": "code",
   "execution_count": 104,
   "id": "5fa611f9-26b9-4472-ba4e-5ad5b8c9d68d",
   "metadata": {},
   "outputs": [
    {
     "data": {
      "text/html": [
       "<div>\n",
       "<style scoped>\n",
       "    .dataframe tbody tr th:only-of-type {\n",
       "        vertical-align: middle;\n",
       "    }\n",
       "\n",
       "    .dataframe tbody tr th {\n",
       "        vertical-align: top;\n",
       "    }\n",
       "\n",
       "    .dataframe thead th {\n",
       "        text-align: right;\n",
       "    }\n",
       "</style>\n",
       "<table border=\"1\" class=\"dataframe\">\n",
       "  <thead>\n",
       "    <tr style=\"text-align: right;\">\n",
       "      <th></th>\n",
       "      <th>schedule_gtfs_dataset_key</th>\n",
       "      <th>route_id</th>\n",
       "      <th>direction_id</th>\n",
       "    </tr>\n",
       "  </thead>\n",
       "  <tbody>\n",
       "    <tr>\n",
       "      <th>0</th>\n",
       "      <td>73105f2d1cabc8170ab066d96863c5d5</td>\n",
       "      <td>1</td>\n",
       "      <td>NaN</td>\n",
       "    </tr>\n",
       "    <tr>\n",
       "      <th>4</th>\n",
       "      <td>73105f2d1cabc8170ab066d96863c5d5</td>\n",
       "      <td>11</td>\n",
       "      <td>NaN</td>\n",
       "    </tr>\n",
       "    <tr>\n",
       "      <th>8</th>\n",
       "      <td>73105f2d1cabc8170ab066d96863c5d5</td>\n",
       "      <td>12X</td>\n",
       "      <td>NaN</td>\n",
       "    </tr>\n",
       "    <tr>\n",
       "      <th>12</th>\n",
       "      <td>73105f2d1cabc8170ab066d96863c5d5</td>\n",
       "      <td>13X</td>\n",
       "      <td>NaN</td>\n",
       "    </tr>\n",
       "    <tr>\n",
       "      <th>16</th>\n",
       "      <td>73105f2d1cabc8170ab066d96863c5d5</td>\n",
       "      <td>1B</td>\n",
       "      <td>NaN</td>\n",
       "    </tr>\n",
       "    <tr>\n",
       "      <th>20</th>\n",
       "      <td>73105f2d1cabc8170ab066d96863c5d5</td>\n",
       "      <td>2</td>\n",
       "      <td>NaN</td>\n",
       "    </tr>\n",
       "    <tr>\n",
       "      <th>24</th>\n",
       "      <td>73105f2d1cabc8170ab066d96863c5d5</td>\n",
       "      <td>20</td>\n",
       "      <td>NaN</td>\n",
       "    </tr>\n",
       "    <tr>\n",
       "      <th>28</th>\n",
       "      <td>73105f2d1cabc8170ab066d96863c5d5</td>\n",
       "      <td>3</td>\n",
       "      <td>NaN</td>\n",
       "    </tr>\n",
       "    <tr>\n",
       "      <th>32</th>\n",
       "      <td>73105f2d1cabc8170ab066d96863c5d5</td>\n",
       "      <td>30</td>\n",
       "      <td>NaN</td>\n",
       "    </tr>\n",
       "    <tr>\n",
       "      <th>36</th>\n",
       "      <td>73105f2d1cabc8170ab066d96863c5d5</td>\n",
       "      <td>4</td>\n",
       "      <td>NaN</td>\n",
       "    </tr>\n",
       "    <tr>\n",
       "      <th>40</th>\n",
       "      <td>73105f2d1cabc8170ab066d96863c5d5</td>\n",
       "      <td>5</td>\n",
       "      <td>0.00</td>\n",
       "    </tr>\n",
       "    <tr>\n",
       "      <th>44</th>\n",
       "      <td>73105f2d1cabc8170ab066d96863c5d5</td>\n",
       "      <td>6</td>\n",
       "      <td>NaN</td>\n",
       "    </tr>\n",
       "    <tr>\n",
       "      <th>48</th>\n",
       "      <td>73105f2d1cabc8170ab066d96863c5d5</td>\n",
       "      <td>7</td>\n",
       "      <td>NaN</td>\n",
       "    </tr>\n",
       "    <tr>\n",
       "      <th>52</th>\n",
       "      <td>73105f2d1cabc8170ab066d96863c5d5</td>\n",
       "      <td>8</td>\n",
       "      <td>NaN</td>\n",
       "    </tr>\n",
       "    <tr>\n",
       "      <th>56</th>\n",
       "      <td>73105f2d1cabc8170ab066d96863c5d5</td>\n",
       "      <td>8a7c42f9-51e4-4848-bf88-30c210f149ad</td>\n",
       "      <td>NaN</td>\n",
       "    </tr>\n",
       "    <tr>\n",
       "      <th>60</th>\n",
       "      <td>73105f2d1cabc8170ab066d96863c5d5</td>\n",
       "      <td>9</td>\n",
       "      <td>NaN</td>\n",
       "    </tr>\n",
       "    <tr>\n",
       "      <th>64</th>\n",
       "      <td>f5a749dd65924e025b1293c58f95f8d6</td>\n",
       "      <td>CC</td>\n",
       "      <td>0.00</td>\n",
       "    </tr>\n",
       "    <tr>\n",
       "      <th>67</th>\n",
       "      <td>f5a749dd65924e025b1293c58f95f8d6</td>\n",
       "      <td>CC</td>\n",
       "      <td>1.00</td>\n",
       "    </tr>\n",
       "    <tr>\n",
       "      <th>70</th>\n",
       "      <td>73105f2d1cabc8170ab066d96863c5d5</td>\n",
       "      <td>Mall</td>\n",
       "      <td>NaN</td>\n",
       "    </tr>\n",
       "    <tr>\n",
       "      <th>74</th>\n",
       "      <td>f5a749dd65924e025b1293c58f95f8d6</td>\n",
       "      <td>SF</td>\n",
       "      <td>0.00</td>\n",
       "    </tr>\n",
       "    <tr>\n",
       "      <th>75</th>\n",
       "      <td>f5a749dd65924e025b1293c58f95f8d6</td>\n",
       "      <td>SF</td>\n",
       "      <td>1.00</td>\n",
       "    </tr>\n",
       "    <tr>\n",
       "      <th>76</th>\n",
       "      <td>f5a749dd65924e025b1293c58f95f8d6</td>\n",
       "      <td>Shuttle</td>\n",
       "      <td>0.00</td>\n",
       "    </tr>\n",
       "    <tr>\n",
       "      <th>78</th>\n",
       "      <td>f5a749dd65924e025b1293c58f95f8d6</td>\n",
       "      <td>Shuttle</td>\n",
       "      <td>1.00</td>\n",
       "    </tr>\n",
       "  </tbody>\n",
       "</table>\n",
       "</div>"
      ],
      "text/plain": [
       "           schedule_gtfs_dataset_key                              route_id  \\\n",
       "0   73105f2d1cabc8170ab066d96863c5d5                                     1   \n",
       "4   73105f2d1cabc8170ab066d96863c5d5                                    11   \n",
       "8   73105f2d1cabc8170ab066d96863c5d5                                   12X   \n",
       "12  73105f2d1cabc8170ab066d96863c5d5                                   13X   \n",
       "16  73105f2d1cabc8170ab066d96863c5d5                                    1B   \n",
       "20  73105f2d1cabc8170ab066d96863c5d5                                     2   \n",
       "24  73105f2d1cabc8170ab066d96863c5d5                                    20   \n",
       "28  73105f2d1cabc8170ab066d96863c5d5                                     3   \n",
       "32  73105f2d1cabc8170ab066d96863c5d5                                    30   \n",
       "36  73105f2d1cabc8170ab066d96863c5d5                                     4   \n",
       "40  73105f2d1cabc8170ab066d96863c5d5                                     5   \n",
       "44  73105f2d1cabc8170ab066d96863c5d5                                     6   \n",
       "48  73105f2d1cabc8170ab066d96863c5d5                                     7   \n",
       "52  73105f2d1cabc8170ab066d96863c5d5                                     8   \n",
       "56  73105f2d1cabc8170ab066d96863c5d5  8a7c42f9-51e4-4848-bf88-30c210f149ad   \n",
       "60  73105f2d1cabc8170ab066d96863c5d5                                     9   \n",
       "64  f5a749dd65924e025b1293c58f95f8d6                                    CC   \n",
       "67  f5a749dd65924e025b1293c58f95f8d6                                    CC   \n",
       "70  73105f2d1cabc8170ab066d96863c5d5                                  Mall   \n",
       "74  f5a749dd65924e025b1293c58f95f8d6                                    SF   \n",
       "75  f5a749dd65924e025b1293c58f95f8d6                                    SF   \n",
       "76  f5a749dd65924e025b1293c58f95f8d6                               Shuttle   \n",
       "78  f5a749dd65924e025b1293c58f95f8d6                               Shuttle   \n",
       "\n",
       "    direction_id  \n",
       "0            NaN  \n",
       "4            NaN  \n",
       "8            NaN  \n",
       "12           NaN  \n",
       "16           NaN  \n",
       "20           NaN  \n",
       "24           NaN  \n",
       "28           NaN  \n",
       "32           NaN  \n",
       "36           NaN  \n",
       "40          0.00  \n",
       "44           NaN  \n",
       "48           NaN  \n",
       "52           NaN  \n",
       "56           NaN  \n",
       "60           NaN  \n",
       "64          0.00  \n",
       "67          1.00  \n",
       "70           NaN  \n",
       "74          0.00  \n",
       "75          1.00  \n",
       "76          0.00  \n",
       "78          1.00  "
      ]
     },
     "metadata": {},
     "output_type": "display_data"
    }
   ],
   "source": [
    "preview(agg1)"
   ]
  },
  {
   "cell_type": "markdown",
   "id": "9a4a3146-699a-460f-8db0-9e4681c1fb5f",
   "metadata": {},
   "source": [
    "##### Making sure `dropna=False` really is the reason"
   ]
  },
  {
   "cell_type": "code",
   "execution_count": 105,
   "id": "ba4a50b1-f11a-4b97-81a5-723dcc358675",
   "metadata": {},
   "outputs": [],
   "source": [
    "agg_wo_dropna = (\n",
    "    stop_times_with_trip.groupby(\n",
    "        main_cols + [\"stop_primary_direction\"],\n",
    "    )\n",
    "    .agg({\"stop_sequence\": \"count\"})\n",
    "    .reset_index()\n",
    "    .rename(columns={\"stop_sequence\": \"total_stops\"})\n",
    ")"
   ]
  },
  {
   "cell_type": "code",
   "execution_count": 106,
   "id": "bf391fa9-7acc-444b-b936-0e93a48df521",
   "metadata": {},
   "outputs": [
    {
     "data": {
      "text/html": [
       "<div>\n",
       "<style scoped>\n",
       "    .dataframe tbody tr th:only-of-type {\n",
       "        vertical-align: middle;\n",
       "    }\n",
       "\n",
       "    .dataframe tbody tr th {\n",
       "        vertical-align: top;\n",
       "    }\n",
       "\n",
       "    .dataframe thead th {\n",
       "        text-align: right;\n",
       "    }\n",
       "</style>\n",
       "<table border=\"1\" class=\"dataframe\">\n",
       "  <thead>\n",
       "    <tr style=\"text-align: right;\">\n",
       "      <th></th>\n",
       "      <th>schedule_gtfs_dataset_key</th>\n",
       "      <th>route_id</th>\n",
       "      <th>direction_id</th>\n",
       "    </tr>\n",
       "  </thead>\n",
       "  <tbody>\n",
       "    <tr>\n",
       "      <th>0</th>\n",
       "      <td>73105f2d1cabc8170ab066d96863c5d5</td>\n",
       "      <td>5</td>\n",
       "      <td>0.00</td>\n",
       "    </tr>\n",
       "    <tr>\n",
       "      <th>4</th>\n",
       "      <td>f5a749dd65924e025b1293c58f95f8d6</td>\n",
       "      <td>CC</td>\n",
       "      <td>0.00</td>\n",
       "    </tr>\n",
       "    <tr>\n",
       "      <th>7</th>\n",
       "      <td>f5a749dd65924e025b1293c58f95f8d6</td>\n",
       "      <td>CC</td>\n",
       "      <td>1.00</td>\n",
       "    </tr>\n",
       "    <tr>\n",
       "      <th>10</th>\n",
       "      <td>f5a749dd65924e025b1293c58f95f8d6</td>\n",
       "      <td>SF</td>\n",
       "      <td>0.00</td>\n",
       "    </tr>\n",
       "    <tr>\n",
       "      <th>11</th>\n",
       "      <td>f5a749dd65924e025b1293c58f95f8d6</td>\n",
       "      <td>SF</td>\n",
       "      <td>1.00</td>\n",
       "    </tr>\n",
       "    <tr>\n",
       "      <th>12</th>\n",
       "      <td>f5a749dd65924e025b1293c58f95f8d6</td>\n",
       "      <td>Shuttle</td>\n",
       "      <td>0.00</td>\n",
       "    </tr>\n",
       "    <tr>\n",
       "      <th>14</th>\n",
       "      <td>f5a749dd65924e025b1293c58f95f8d6</td>\n",
       "      <td>Shuttle</td>\n",
       "      <td>1.00</td>\n",
       "    </tr>\n",
       "  </tbody>\n",
       "</table>\n",
       "</div>"
      ],
      "text/plain": [
       "           schedule_gtfs_dataset_key route_id  direction_id\n",
       "0   73105f2d1cabc8170ab066d96863c5d5        5          0.00\n",
       "4   f5a749dd65924e025b1293c58f95f8d6       CC          0.00\n",
       "7   f5a749dd65924e025b1293c58f95f8d6       CC          1.00\n",
       "10  f5a749dd65924e025b1293c58f95f8d6       SF          0.00\n",
       "11  f5a749dd65924e025b1293c58f95f8d6       SF          1.00\n",
       "12  f5a749dd65924e025b1293c58f95f8d6  Shuttle          0.00\n",
       "14  f5a749dd65924e025b1293c58f95f8d6  Shuttle          1.00"
      ]
     },
     "metadata": {},
     "output_type": "display_data"
    }
   ],
   "source": [
    "preview(agg_wo_dropna)"
   ]
  },
  {
   "cell_type": "code",
   "execution_count": 107,
   "id": "2d88f775-4ca9-4889-a03f-9e8a2518dbfd",
   "metadata": {},
   "outputs": [],
   "source": [
    "agg2 = agg1.sort_values(\n",
    "    by=main_cols + [\"total_stops\"],\n",
    "    ascending=[True, True, True, False],\n",
    ")"
   ]
  },
  {
   "cell_type": "code",
   "execution_count": 110,
   "id": "cd8096f3-35e9-4b45-8a28-13f66bb61991",
   "metadata": {},
   "outputs": [],
   "source": [
    "cardinal_dir_df = (\n",
    "    agg2.drop_duplicates(subset=main_cols)\n",
    "    .reset_index(drop=True)\n",
    "    .drop(columns=[\"total_stops\"])\n",
    "    .rename(columns={\"stop_primary_direction\": \"route_primary_direction\"})\n",
    ")"
   ]
  },
  {
   "cell_type": "code",
   "execution_count": 111,
   "id": "45fffd72-71bd-4582-8400-296b288da3a6",
   "metadata": {},
   "outputs": [
    {
     "data": {
      "text/html": [
       "<div>\n",
       "<style scoped>\n",
       "    .dataframe tbody tr th:only-of-type {\n",
       "        vertical-align: middle;\n",
       "    }\n",
       "\n",
       "    .dataframe tbody tr th {\n",
       "        vertical-align: top;\n",
       "    }\n",
       "\n",
       "    .dataframe thead th {\n",
       "        text-align: right;\n",
       "    }\n",
       "</style>\n",
       "<table border=\"1\" class=\"dataframe\">\n",
       "  <thead>\n",
       "    <tr style=\"text-align: right;\">\n",
       "      <th></th>\n",
       "      <th>schedule_gtfs_dataset_key</th>\n",
       "      <th>route_id</th>\n",
       "      <th>direction_id</th>\n",
       "    </tr>\n",
       "  </thead>\n",
       "  <tbody>\n",
       "    <tr>\n",
       "      <th>0</th>\n",
       "      <td>73105f2d1cabc8170ab066d96863c5d5</td>\n",
       "      <td>1</td>\n",
       "      <td>NaN</td>\n",
       "    </tr>\n",
       "    <tr>\n",
       "      <th>1</th>\n",
       "      <td>73105f2d1cabc8170ab066d96863c5d5</td>\n",
       "      <td>11</td>\n",
       "      <td>NaN</td>\n",
       "    </tr>\n",
       "    <tr>\n",
       "      <th>2</th>\n",
       "      <td>73105f2d1cabc8170ab066d96863c5d5</td>\n",
       "      <td>12X</td>\n",
       "      <td>NaN</td>\n",
       "    </tr>\n",
       "    <tr>\n",
       "      <th>3</th>\n",
       "      <td>73105f2d1cabc8170ab066d96863c5d5</td>\n",
       "      <td>13X</td>\n",
       "      <td>NaN</td>\n",
       "    </tr>\n",
       "    <tr>\n",
       "      <th>4</th>\n",
       "      <td>73105f2d1cabc8170ab066d96863c5d5</td>\n",
       "      <td>1B</td>\n",
       "      <td>NaN</td>\n",
       "    </tr>\n",
       "    <tr>\n",
       "      <th>5</th>\n",
       "      <td>73105f2d1cabc8170ab066d96863c5d5</td>\n",
       "      <td>2</td>\n",
       "      <td>NaN</td>\n",
       "    </tr>\n",
       "    <tr>\n",
       "      <th>6</th>\n",
       "      <td>73105f2d1cabc8170ab066d96863c5d5</td>\n",
       "      <td>20</td>\n",
       "      <td>NaN</td>\n",
       "    </tr>\n",
       "    <tr>\n",
       "      <th>7</th>\n",
       "      <td>73105f2d1cabc8170ab066d96863c5d5</td>\n",
       "      <td>3</td>\n",
       "      <td>NaN</td>\n",
       "    </tr>\n",
       "    <tr>\n",
       "      <th>8</th>\n",
       "      <td>73105f2d1cabc8170ab066d96863c5d5</td>\n",
       "      <td>30</td>\n",
       "      <td>NaN</td>\n",
       "    </tr>\n",
       "    <tr>\n",
       "      <th>9</th>\n",
       "      <td>73105f2d1cabc8170ab066d96863c5d5</td>\n",
       "      <td>4</td>\n",
       "      <td>NaN</td>\n",
       "    </tr>\n",
       "    <tr>\n",
       "      <th>10</th>\n",
       "      <td>73105f2d1cabc8170ab066d96863c5d5</td>\n",
       "      <td>5</td>\n",
       "      <td>0.00</td>\n",
       "    </tr>\n",
       "    <tr>\n",
       "      <th>11</th>\n",
       "      <td>73105f2d1cabc8170ab066d96863c5d5</td>\n",
       "      <td>6</td>\n",
       "      <td>NaN</td>\n",
       "    </tr>\n",
       "    <tr>\n",
       "      <th>12</th>\n",
       "      <td>73105f2d1cabc8170ab066d96863c5d5</td>\n",
       "      <td>7</td>\n",
       "      <td>NaN</td>\n",
       "    </tr>\n",
       "    <tr>\n",
       "      <th>13</th>\n",
       "      <td>73105f2d1cabc8170ab066d96863c5d5</td>\n",
       "      <td>8</td>\n",
       "      <td>NaN</td>\n",
       "    </tr>\n",
       "    <tr>\n",
       "      <th>14</th>\n",
       "      <td>73105f2d1cabc8170ab066d96863c5d5</td>\n",
       "      <td>8a7c42f9-51e4-4848-bf88-30c210f149ad</td>\n",
       "      <td>NaN</td>\n",
       "    </tr>\n",
       "    <tr>\n",
       "      <th>15</th>\n",
       "      <td>73105f2d1cabc8170ab066d96863c5d5</td>\n",
       "      <td>9</td>\n",
       "      <td>NaN</td>\n",
       "    </tr>\n",
       "    <tr>\n",
       "      <th>16</th>\n",
       "      <td>f5a749dd65924e025b1293c58f95f8d6</td>\n",
       "      <td>CC</td>\n",
       "      <td>0.00</td>\n",
       "    </tr>\n",
       "    <tr>\n",
       "      <th>17</th>\n",
       "      <td>f5a749dd65924e025b1293c58f95f8d6</td>\n",
       "      <td>CC</td>\n",
       "      <td>1.00</td>\n",
       "    </tr>\n",
       "    <tr>\n",
       "      <th>18</th>\n",
       "      <td>73105f2d1cabc8170ab066d96863c5d5</td>\n",
       "      <td>Mall</td>\n",
       "      <td>NaN</td>\n",
       "    </tr>\n",
       "    <tr>\n",
       "      <th>19</th>\n",
       "      <td>f5a749dd65924e025b1293c58f95f8d6</td>\n",
       "      <td>SF</td>\n",
       "      <td>0.00</td>\n",
       "    </tr>\n",
       "    <tr>\n",
       "      <th>20</th>\n",
       "      <td>f5a749dd65924e025b1293c58f95f8d6</td>\n",
       "      <td>SF</td>\n",
       "      <td>1.00</td>\n",
       "    </tr>\n",
       "    <tr>\n",
       "      <th>21</th>\n",
       "      <td>f5a749dd65924e025b1293c58f95f8d6</td>\n",
       "      <td>Shuttle</td>\n",
       "      <td>0.00</td>\n",
       "    </tr>\n",
       "    <tr>\n",
       "      <th>22</th>\n",
       "      <td>f5a749dd65924e025b1293c58f95f8d6</td>\n",
       "      <td>Shuttle</td>\n",
       "      <td>1.00</td>\n",
       "    </tr>\n",
       "  </tbody>\n",
       "</table>\n",
       "</div>"
      ],
      "text/plain": [
       "           schedule_gtfs_dataset_key                              route_id  \\\n",
       "0   73105f2d1cabc8170ab066d96863c5d5                                     1   \n",
       "1   73105f2d1cabc8170ab066d96863c5d5                                    11   \n",
       "2   73105f2d1cabc8170ab066d96863c5d5                                   12X   \n",
       "3   73105f2d1cabc8170ab066d96863c5d5                                   13X   \n",
       "4   73105f2d1cabc8170ab066d96863c5d5                                    1B   \n",
       "5   73105f2d1cabc8170ab066d96863c5d5                                     2   \n",
       "6   73105f2d1cabc8170ab066d96863c5d5                                    20   \n",
       "7   73105f2d1cabc8170ab066d96863c5d5                                     3   \n",
       "8   73105f2d1cabc8170ab066d96863c5d5                                    30   \n",
       "9   73105f2d1cabc8170ab066d96863c5d5                                     4   \n",
       "10  73105f2d1cabc8170ab066d96863c5d5                                     5   \n",
       "11  73105f2d1cabc8170ab066d96863c5d5                                     6   \n",
       "12  73105f2d1cabc8170ab066d96863c5d5                                     7   \n",
       "13  73105f2d1cabc8170ab066d96863c5d5                                     8   \n",
       "14  73105f2d1cabc8170ab066d96863c5d5  8a7c42f9-51e4-4848-bf88-30c210f149ad   \n",
       "15  73105f2d1cabc8170ab066d96863c5d5                                     9   \n",
       "16  f5a749dd65924e025b1293c58f95f8d6                                    CC   \n",
       "17  f5a749dd65924e025b1293c58f95f8d6                                    CC   \n",
       "18  73105f2d1cabc8170ab066d96863c5d5                                  Mall   \n",
       "19  f5a749dd65924e025b1293c58f95f8d6                                    SF   \n",
       "20  f5a749dd65924e025b1293c58f95f8d6                                    SF   \n",
       "21  f5a749dd65924e025b1293c58f95f8d6                               Shuttle   \n",
       "22  f5a749dd65924e025b1293c58f95f8d6                               Shuttle   \n",
       "\n",
       "    direction_id  \n",
       "0            NaN  \n",
       "1            NaN  \n",
       "2            NaN  \n",
       "3            NaN  \n",
       "4            NaN  \n",
       "5            NaN  \n",
       "6            NaN  \n",
       "7            NaN  \n",
       "8            NaN  \n",
       "9            NaN  \n",
       "10          0.00  \n",
       "11           NaN  \n",
       "12           NaN  \n",
       "13           NaN  \n",
       "14           NaN  \n",
       "15           NaN  \n",
       "16          0.00  \n",
       "17          1.00  \n",
       "18           NaN  \n",
       "19          0.00  \n",
       "20          1.00  \n",
       "21          0.00  \n",
       "22          1.00  "
      ]
     },
     "metadata": {},
     "output_type": "display_data"
    }
   ],
   "source": [
    "preview(cardinal_dir_df)"
   ]
  },
  {
   "cell_type": "code",
   "execution_count": 114,
   "id": "1e1136e9-c564-4c54-8ada-f4772aa76277",
   "metadata": {},
   "outputs": [],
   "source": [
    "# Merge cardinal direction & typology work\n",
    "route_dir_metrics2 = pd.merge(\n",
    "    route_dir_metrics, route_typologies, on=route_group_merge_cols, how=\"left\"\n",
    ").merge(cardinal_dir_df, on=route_group_merge_cols, how=\"left\")"
   ]
  },
  {
   "cell_type": "code",
   "execution_count": 115,
   "id": "58dc075e-61eb-457c-af0a-ef6861ef7db2",
   "metadata": {},
   "outputs": [
    {
     "data": {
      "text/html": [
       "<div>\n",
       "<style scoped>\n",
       "    .dataframe tbody tr th:only-of-type {\n",
       "        vertical-align: middle;\n",
       "    }\n",
       "\n",
       "    .dataframe tbody tr th {\n",
       "        vertical-align: top;\n",
       "    }\n",
       "\n",
       "    .dataframe thead th {\n",
       "        text-align: right;\n",
       "    }\n",
       "</style>\n",
       "<table border=\"1\" class=\"dataframe\">\n",
       "  <thead>\n",
       "    <tr style=\"text-align: right;\">\n",
       "      <th></th>\n",
       "      <th>schedule_gtfs_dataset_key</th>\n",
       "      <th>route_id</th>\n",
       "      <th>direction_id</th>\n",
       "    </tr>\n",
       "  </thead>\n",
       "  <tbody>\n",
       "    <tr>\n",
       "      <th>0</th>\n",
       "      <td>73105f2d1cabc8170ab066d96863c5d5</td>\n",
       "      <td>1</td>\n",
       "      <td>NaN</td>\n",
       "    </tr>\n",
       "    <tr>\n",
       "      <th>1</th>\n",
       "      <td>73105f2d1cabc8170ab066d96863c5d5</td>\n",
       "      <td>11</td>\n",
       "      <td>NaN</td>\n",
       "    </tr>\n",
       "    <tr>\n",
       "      <th>2</th>\n",
       "      <td>73105f2d1cabc8170ab066d96863c5d5</td>\n",
       "      <td>12X</td>\n",
       "      <td>NaN</td>\n",
       "    </tr>\n",
       "    <tr>\n",
       "      <th>3</th>\n",
       "      <td>73105f2d1cabc8170ab066d96863c5d5</td>\n",
       "      <td>13X</td>\n",
       "      <td>NaN</td>\n",
       "    </tr>\n",
       "    <tr>\n",
       "      <th>4</th>\n",
       "      <td>73105f2d1cabc8170ab066d96863c5d5</td>\n",
       "      <td>1B</td>\n",
       "      <td>NaN</td>\n",
       "    </tr>\n",
       "    <tr>\n",
       "      <th>5</th>\n",
       "      <td>73105f2d1cabc8170ab066d96863c5d5</td>\n",
       "      <td>2</td>\n",
       "      <td>NaN</td>\n",
       "    </tr>\n",
       "    <tr>\n",
       "      <th>6</th>\n",
       "      <td>73105f2d1cabc8170ab066d96863c5d5</td>\n",
       "      <td>20</td>\n",
       "      <td>NaN</td>\n",
       "    </tr>\n",
       "    <tr>\n",
       "      <th>7</th>\n",
       "      <td>73105f2d1cabc8170ab066d96863c5d5</td>\n",
       "      <td>3</td>\n",
       "      <td>NaN</td>\n",
       "    </tr>\n",
       "    <tr>\n",
       "      <th>8</th>\n",
       "      <td>73105f2d1cabc8170ab066d96863c5d5</td>\n",
       "      <td>30</td>\n",
       "      <td>NaN</td>\n",
       "    </tr>\n",
       "    <tr>\n",
       "      <th>9</th>\n",
       "      <td>73105f2d1cabc8170ab066d96863c5d5</td>\n",
       "      <td>4</td>\n",
       "      <td>NaN</td>\n",
       "    </tr>\n",
       "    <tr>\n",
       "      <th>10</th>\n",
       "      <td>73105f2d1cabc8170ab066d96863c5d5</td>\n",
       "      <td>5</td>\n",
       "      <td>0.00</td>\n",
       "    </tr>\n",
       "    <tr>\n",
       "      <th>11</th>\n",
       "      <td>73105f2d1cabc8170ab066d96863c5d5</td>\n",
       "      <td>6</td>\n",
       "      <td>NaN</td>\n",
       "    </tr>\n",
       "    <tr>\n",
       "      <th>12</th>\n",
       "      <td>73105f2d1cabc8170ab066d96863c5d5</td>\n",
       "      <td>7</td>\n",
       "      <td>NaN</td>\n",
       "    </tr>\n",
       "    <tr>\n",
       "      <th>13</th>\n",
       "      <td>73105f2d1cabc8170ab066d96863c5d5</td>\n",
       "      <td>8</td>\n",
       "      <td>NaN</td>\n",
       "    </tr>\n",
       "    <tr>\n",
       "      <th>14</th>\n",
       "      <td>73105f2d1cabc8170ab066d96863c5d5</td>\n",
       "      <td>8a7c42f9-51e4-4848-bf88-30c210f149ad</td>\n",
       "      <td>NaN</td>\n",
       "    </tr>\n",
       "    <tr>\n",
       "      <th>15</th>\n",
       "      <td>73105f2d1cabc8170ab066d96863c5d5</td>\n",
       "      <td>9</td>\n",
       "      <td>NaN</td>\n",
       "    </tr>\n",
       "    <tr>\n",
       "      <th>16</th>\n",
       "      <td>73105f2d1cabc8170ab066d96863c5d5</td>\n",
       "      <td>Mall</td>\n",
       "      <td>NaN</td>\n",
       "    </tr>\n",
       "    <tr>\n",
       "      <th>17</th>\n",
       "      <td>f5a749dd65924e025b1293c58f95f8d6</td>\n",
       "      <td>CC</td>\n",
       "      <td>0.00</td>\n",
       "    </tr>\n",
       "    <tr>\n",
       "      <th>18</th>\n",
       "      <td>f5a749dd65924e025b1293c58f95f8d6</td>\n",
       "      <td>CC</td>\n",
       "      <td>1.00</td>\n",
       "    </tr>\n",
       "    <tr>\n",
       "      <th>19</th>\n",
       "      <td>f5a749dd65924e025b1293c58f95f8d6</td>\n",
       "      <td>SF</td>\n",
       "      <td>0.00</td>\n",
       "    </tr>\n",
       "    <tr>\n",
       "      <th>20</th>\n",
       "      <td>f5a749dd65924e025b1293c58f95f8d6</td>\n",
       "      <td>SF</td>\n",
       "      <td>1.00</td>\n",
       "    </tr>\n",
       "    <tr>\n",
       "      <th>21</th>\n",
       "      <td>f5a749dd65924e025b1293c58f95f8d6</td>\n",
       "      <td>Shuttle</td>\n",
       "      <td>0.00</td>\n",
       "    </tr>\n",
       "    <tr>\n",
       "      <th>22</th>\n",
       "      <td>f5a749dd65924e025b1293c58f95f8d6</td>\n",
       "      <td>Shuttle</td>\n",
       "      <td>1.00</td>\n",
       "    </tr>\n",
       "  </tbody>\n",
       "</table>\n",
       "</div>"
      ],
      "text/plain": [
       "           schedule_gtfs_dataset_key                              route_id  \\\n",
       "0   73105f2d1cabc8170ab066d96863c5d5                                     1   \n",
       "1   73105f2d1cabc8170ab066d96863c5d5                                    11   \n",
       "2   73105f2d1cabc8170ab066d96863c5d5                                   12X   \n",
       "3   73105f2d1cabc8170ab066d96863c5d5                                   13X   \n",
       "4   73105f2d1cabc8170ab066d96863c5d5                                    1B   \n",
       "5   73105f2d1cabc8170ab066d96863c5d5                                     2   \n",
       "6   73105f2d1cabc8170ab066d96863c5d5                                    20   \n",
       "7   73105f2d1cabc8170ab066d96863c5d5                                     3   \n",
       "8   73105f2d1cabc8170ab066d96863c5d5                                    30   \n",
       "9   73105f2d1cabc8170ab066d96863c5d5                                     4   \n",
       "10  73105f2d1cabc8170ab066d96863c5d5                                     5   \n",
       "11  73105f2d1cabc8170ab066d96863c5d5                                     6   \n",
       "12  73105f2d1cabc8170ab066d96863c5d5                                     7   \n",
       "13  73105f2d1cabc8170ab066d96863c5d5                                     8   \n",
       "14  73105f2d1cabc8170ab066d96863c5d5  8a7c42f9-51e4-4848-bf88-30c210f149ad   \n",
       "15  73105f2d1cabc8170ab066d96863c5d5                                     9   \n",
       "16  73105f2d1cabc8170ab066d96863c5d5                                  Mall   \n",
       "17  f5a749dd65924e025b1293c58f95f8d6                                    CC   \n",
       "18  f5a749dd65924e025b1293c58f95f8d6                                    CC   \n",
       "19  f5a749dd65924e025b1293c58f95f8d6                                    SF   \n",
       "20  f5a749dd65924e025b1293c58f95f8d6                                    SF   \n",
       "21  f5a749dd65924e025b1293c58f95f8d6                               Shuttle   \n",
       "22  f5a749dd65924e025b1293c58f95f8d6                               Shuttle   \n",
       "\n",
       "    direction_id  \n",
       "0            NaN  \n",
       "1            NaN  \n",
       "2            NaN  \n",
       "3            NaN  \n",
       "4            NaN  \n",
       "5            NaN  \n",
       "6            NaN  \n",
       "7            NaN  \n",
       "8            NaN  \n",
       "9            NaN  \n",
       "10          0.00  \n",
       "11           NaN  \n",
       "12           NaN  \n",
       "13           NaN  \n",
       "14           NaN  \n",
       "15           NaN  \n",
       "16           NaN  \n",
       "17          0.00  \n",
       "18          1.00  \n",
       "19          0.00  \n",
       "20          1.00  \n",
       "21          0.00  \n",
       "22          1.00  "
      ]
     },
     "metadata": {},
     "output_type": "display_data"
    }
   ],
   "source": [
    "preview(route_dir_metrics2)"
   ]
  },
  {
   "cell_type": "markdown",
   "id": "995a5884-ee8c-4797-b664-0e09a94235ad",
   "metadata": {},
   "source": [
    "#### `gtfs_digest/merge_data` line 300 `df_avg_speeds` is also missing a lot of routes.\n",
    "* HELP: not sure which file creates this ? "
   ]
  },
  {
   "cell_type": "code",
   "execution_count": 116,
   "id": "02ec6683-6032-4097-87cd-905eac0443e0",
   "metadata": {},
   "outputs": [
    {
     "data": {
      "text/plain": [
       "'gs://calitp-analytics-data/data-analyses/rt_segment_speeds/'"
      ]
     },
     "execution_count": 116,
     "metadata": {},
     "output_type": "execute_result"
    }
   ],
   "source": [
    "SEGMENT_GCS"
   ]
  },
  {
   "cell_type": "code",
   "execution_count": 117,
   "id": "afc4a9bc-4bf2-4547-be3a-03bf4e0e1d8f",
   "metadata": {},
   "outputs": [
    {
     "data": {
      "text/plain": [
       "'rollup_singleday/speeds_route_dir'"
      ]
     },
     "execution_count": 117,
     "metadata": {},
     "output_type": "execute_result"
    }
   ],
   "source": [
    "GTFS_DATA_DICT.rt_stop_times.route_dir_single_summary"
   ]
  },
  {
   "cell_type": "code",
   "execution_count": 118,
   "id": "2f364b44-3fbd-4514-9f9c-74e3dd5d0903",
   "metadata": {},
   "outputs": [],
   "source": [
    "df_avg_speeds = merge_data.concatenate_speeds_by_route_direction(analysis_date_list)"
   ]
  },
  {
   "cell_type": "code",
   "execution_count": 119,
   "id": "762a40b1-a498-41c3-95ef-0b2527c9bc71",
   "metadata": {},
   "outputs": [],
   "source": [
    "df_avg_speeds2 = df_avg_speeds.loc[\n",
    "    df_avg_speeds.schedule_gtfs_dataset_key.isin(schd_keys)\n",
    "]"
   ]
  },
  {
   "cell_type": "code",
   "execution_count": 120,
   "id": "2c3dfd99-f530-4b0f-b7d6-2c87f47b3e7d",
   "metadata": {},
   "outputs": [
    {
     "data": {
      "text/plain": [
       "CC                                      43\n",
       "5                                       27\n",
       "b3848f93-d26b-48a9-b6a6-5de22a4eab47     9\n",
       "Name: route_id, dtype: int64"
      ]
     },
     "execution_count": 120,
     "metadata": {},
     "output_type": "execute_result"
    }
   ],
   "source": [
    "df_avg_speeds2.route_id.value_counts()"
   ]
  },
  {
   "cell_type": "code",
   "execution_count": 125,
   "id": "88468825-dfc6-4b4c-a7e6-d3aae010e4ce",
   "metadata": {},
   "outputs": [
    {
     "data": {
      "text/html": [
       "<div>\n",
       "<style scoped>\n",
       "    .dataframe tbody tr th:only-of-type {\n",
       "        vertical-align: middle;\n",
       "    }\n",
       "\n",
       "    .dataframe tbody tr th {\n",
       "        vertical-align: top;\n",
       "    }\n",
       "\n",
       "    .dataframe thead th {\n",
       "        text-align: right;\n",
       "    }\n",
       "</style>\n",
       "<table border=\"1\" class=\"dataframe\">\n",
       "  <thead>\n",
       "    <tr style=\"text-align: right;\">\n",
       "      <th></th>\n",
       "      <th>schedule_gtfs_dataset_key</th>\n",
       "      <th>route_id</th>\n",
       "      <th>direction_id</th>\n",
       "      <th>time_period</th>\n",
       "      <th>speed_mph</th>\n",
       "      <th>service_date</th>\n",
       "    </tr>\n",
       "  </thead>\n",
       "  <tbody>\n",
       "    <tr>\n",
       "      <th>52005</th>\n",
       "      <td>73105f2d1cabc8170ab066d96863c5d5</td>\n",
       "      <td>5</td>\n",
       "      <td>0.00</td>\n",
       "      <td>all_day</td>\n",
       "      <td>15.48</td>\n",
       "      <td>2024-04-17</td>\n",
       "    </tr>\n",
       "    <tr>\n",
       "      <th>52006</th>\n",
       "      <td>73105f2d1cabc8170ab066d96863c5d5</td>\n",
       "      <td>5</td>\n",
       "      <td>0.00</td>\n",
       "      <td>all_day</td>\n",
       "      <td>16.89</td>\n",
       "      <td>2024-05-22</td>\n",
       "    </tr>\n",
       "  </tbody>\n",
       "</table>\n",
       "</div>"
      ],
      "text/plain": [
       "              schedule_gtfs_dataset_key route_id  direction_id time_period  \\\n",
       "52005  73105f2d1cabc8170ab066d96863c5d5        5          0.00     all_day   \n",
       "52006  73105f2d1cabc8170ab066d96863c5d5        5          0.00     all_day   \n",
       "\n",
       "       speed_mph service_date  \n",
       "52005      15.48   2024-04-17  \n",
       "52006      16.89   2024-05-22  "
      ]
     },
     "execution_count": 125,
     "metadata": {},
     "output_type": "execute_result"
    }
   ],
   "source": [
    "df_avg_speeds2.head(2)"
   ]
  },
  {
   "cell_type": "markdown",
   "id": "e1cc04bc-1886-46e5-8be7-ac5a1a935820",
   "metadata": {},
   "source": [
    "##### Side note, there are actually all of the Dec values for all time_periods here for speed."
   ]
  },
  {
   "cell_type": "code",
   "execution_count": 128,
   "id": "cac6ad48-8eac-4fc5-8ee7-84d0350fdea9",
   "metadata": {},
   "outputs": [
    {
     "data": {
      "text/html": [
       "<div>\n",
       "<style scoped>\n",
       "    .dataframe tbody tr th:only-of-type {\n",
       "        vertical-align: middle;\n",
       "    }\n",
       "\n",
       "    .dataframe tbody tr th {\n",
       "        vertical-align: top;\n",
       "    }\n",
       "\n",
       "    .dataframe thead th {\n",
       "        text-align: right;\n",
       "    }\n",
       "</style>\n",
       "<table border=\"1\" class=\"dataframe\">\n",
       "  <thead>\n",
       "    <tr style=\"text-align: right;\">\n",
       "      <th></th>\n",
       "      <th>schedule_gtfs_dataset_key</th>\n",
       "      <th>route_id</th>\n",
       "      <th>direction_id</th>\n",
       "      <th>time_period</th>\n",
       "      <th>speed_mph</th>\n",
       "      <th>service_date</th>\n",
       "    </tr>\n",
       "  </thead>\n",
       "  <tbody>\n",
       "    <tr>\n",
       "      <th>52005</th>\n",
       "      <td>73105f2d1cabc8170ab066d96863c5d5</td>\n",
       "      <td>5</td>\n",
       "      <td>0.00</td>\n",
       "      <td>all_day</td>\n",
       "      <td>15.48</td>\n",
       "      <td>2024-04-17</td>\n",
       "    </tr>\n",
       "    <tr>\n",
       "      <th>52006</th>\n",
       "      <td>73105f2d1cabc8170ab066d96863c5d5</td>\n",
       "      <td>5</td>\n",
       "      <td>0.00</td>\n",
       "      <td>all_day</td>\n",
       "      <td>16.89</td>\n",
       "      <td>2024-05-22</td>\n",
       "    </tr>\n",
       "    <tr>\n",
       "      <th>52007</th>\n",
       "      <td>73105f2d1cabc8170ab066d96863c5d5</td>\n",
       "      <td>5</td>\n",
       "      <td>0.00</td>\n",
       "      <td>all_day</td>\n",
       "      <td>17.13</td>\n",
       "      <td>2024-06-12</td>\n",
       "    </tr>\n",
       "    <tr>\n",
       "      <th>52008</th>\n",
       "      <td>73105f2d1cabc8170ab066d96863c5d5</td>\n",
       "      <td>5</td>\n",
       "      <td>0.00</td>\n",
       "      <td>all_day</td>\n",
       "      <td>15.09</td>\n",
       "      <td>2024-07-17</td>\n",
       "    </tr>\n",
       "    <tr>\n",
       "      <th>52009</th>\n",
       "      <td>73105f2d1cabc8170ab066d96863c5d5</td>\n",
       "      <td>5</td>\n",
       "      <td>0.00</td>\n",
       "      <td>all_day</td>\n",
       "      <td>13.41</td>\n",
       "      <td>2024-08-14</td>\n",
       "    </tr>\n",
       "    <tr>\n",
       "      <th>52010</th>\n",
       "      <td>73105f2d1cabc8170ab066d96863c5d5</td>\n",
       "      <td>5</td>\n",
       "      <td>0.00</td>\n",
       "      <td>all_day</td>\n",
       "      <td>15.55</td>\n",
       "      <td>2024-09-18</td>\n",
       "    </tr>\n",
       "    <tr>\n",
       "      <th>52011</th>\n",
       "      <td>73105f2d1cabc8170ab066d96863c5d5</td>\n",
       "      <td>5</td>\n",
       "      <td>0.00</td>\n",
       "      <td>all_day</td>\n",
       "      <td>15.27</td>\n",
       "      <td>2024-10-16</td>\n",
       "    </tr>\n",
       "    <tr>\n",
       "      <th>52012</th>\n",
       "      <td>73105f2d1cabc8170ab066d96863c5d5</td>\n",
       "      <td>5</td>\n",
       "      <td>0.00</td>\n",
       "      <td>all_day</td>\n",
       "      <td>15.73</td>\n",
       "      <td>2024-11-13</td>\n",
       "    </tr>\n",
       "    <tr>\n",
       "      <th>52013</th>\n",
       "      <td>73105f2d1cabc8170ab066d96863c5d5</td>\n",
       "      <td>5</td>\n",
       "      <td>0.00</td>\n",
       "      <td>all_day</td>\n",
       "      <td>11.57</td>\n",
       "      <td>2024-12-11</td>\n",
       "    </tr>\n",
       "    <tr>\n",
       "      <th>52014</th>\n",
       "      <td>73105f2d1cabc8170ab066d96863c5d5</td>\n",
       "      <td>5</td>\n",
       "      <td>0.00</td>\n",
       "      <td>offpeak</td>\n",
       "      <td>13.36</td>\n",
       "      <td>2024-04-17</td>\n",
       "    </tr>\n",
       "    <tr>\n",
       "      <th>52015</th>\n",
       "      <td>73105f2d1cabc8170ab066d96863c5d5</td>\n",
       "      <td>5</td>\n",
       "      <td>0.00</td>\n",
       "      <td>offpeak</td>\n",
       "      <td>16.86</td>\n",
       "      <td>2024-05-22</td>\n",
       "    </tr>\n",
       "    <tr>\n",
       "      <th>52016</th>\n",
       "      <td>73105f2d1cabc8170ab066d96863c5d5</td>\n",
       "      <td>5</td>\n",
       "      <td>0.00</td>\n",
       "      <td>offpeak</td>\n",
       "      <td>16.71</td>\n",
       "      <td>2024-06-12</td>\n",
       "    </tr>\n",
       "    <tr>\n",
       "      <th>52017</th>\n",
       "      <td>73105f2d1cabc8170ab066d96863c5d5</td>\n",
       "      <td>5</td>\n",
       "      <td>0.00</td>\n",
       "      <td>offpeak</td>\n",
       "      <td>16.54</td>\n",
       "      <td>2024-07-17</td>\n",
       "    </tr>\n",
       "    <tr>\n",
       "      <th>52018</th>\n",
       "      <td>73105f2d1cabc8170ab066d96863c5d5</td>\n",
       "      <td>5</td>\n",
       "      <td>0.00</td>\n",
       "      <td>offpeak</td>\n",
       "      <td>12.92</td>\n",
       "      <td>2024-08-14</td>\n",
       "    </tr>\n",
       "    <tr>\n",
       "      <th>52019</th>\n",
       "      <td>73105f2d1cabc8170ab066d96863c5d5</td>\n",
       "      <td>5</td>\n",
       "      <td>0.00</td>\n",
       "      <td>offpeak</td>\n",
       "      <td>16.00</td>\n",
       "      <td>2024-09-18</td>\n",
       "    </tr>\n",
       "    <tr>\n",
       "      <th>52020</th>\n",
       "      <td>73105f2d1cabc8170ab066d96863c5d5</td>\n",
       "      <td>5</td>\n",
       "      <td>0.00</td>\n",
       "      <td>offpeak</td>\n",
       "      <td>15.82</td>\n",
       "      <td>2024-10-16</td>\n",
       "    </tr>\n",
       "    <tr>\n",
       "      <th>52021</th>\n",
       "      <td>73105f2d1cabc8170ab066d96863c5d5</td>\n",
       "      <td>5</td>\n",
       "      <td>0.00</td>\n",
       "      <td>offpeak</td>\n",
       "      <td>17.62</td>\n",
       "      <td>2024-11-13</td>\n",
       "    </tr>\n",
       "    <tr>\n",
       "      <th>52022</th>\n",
       "      <td>73105f2d1cabc8170ab066d96863c5d5</td>\n",
       "      <td>5</td>\n",
       "      <td>0.00</td>\n",
       "      <td>offpeak</td>\n",
       "      <td>10.97</td>\n",
       "      <td>2024-12-11</td>\n",
       "    </tr>\n",
       "    <tr>\n",
       "      <th>52023</th>\n",
       "      <td>73105f2d1cabc8170ab066d96863c5d5</td>\n",
       "      <td>5</td>\n",
       "      <td>0.00</td>\n",
       "      <td>peak</td>\n",
       "      <td>17.53</td>\n",
       "      <td>2024-04-17</td>\n",
       "    </tr>\n",
       "    <tr>\n",
       "      <th>52024</th>\n",
       "      <td>73105f2d1cabc8170ab066d96863c5d5</td>\n",
       "      <td>5</td>\n",
       "      <td>0.00</td>\n",
       "      <td>peak</td>\n",
       "      <td>16.91</td>\n",
       "      <td>2024-05-22</td>\n",
       "    </tr>\n",
       "    <tr>\n",
       "      <th>52025</th>\n",
       "      <td>73105f2d1cabc8170ab066d96863c5d5</td>\n",
       "      <td>5</td>\n",
       "      <td>0.00</td>\n",
       "      <td>peak</td>\n",
       "      <td>17.45</td>\n",
       "      <td>2024-06-12</td>\n",
       "    </tr>\n",
       "    <tr>\n",
       "      <th>52026</th>\n",
       "      <td>73105f2d1cabc8170ab066d96863c5d5</td>\n",
       "      <td>5</td>\n",
       "      <td>0.00</td>\n",
       "      <td>peak</td>\n",
       "      <td>14.20</td>\n",
       "      <td>2024-07-17</td>\n",
       "    </tr>\n",
       "    <tr>\n",
       "      <th>52027</th>\n",
       "      <td>73105f2d1cabc8170ab066d96863c5d5</td>\n",
       "      <td>5</td>\n",
       "      <td>0.00</td>\n",
       "      <td>peak</td>\n",
       "      <td>14.08</td>\n",
       "      <td>2024-08-14</td>\n",
       "    </tr>\n",
       "    <tr>\n",
       "      <th>52028</th>\n",
       "      <td>73105f2d1cabc8170ab066d96863c5d5</td>\n",
       "      <td>5</td>\n",
       "      <td>0.00</td>\n",
       "      <td>peak</td>\n",
       "      <td>15.31</td>\n",
       "      <td>2024-09-18</td>\n",
       "    </tr>\n",
       "    <tr>\n",
       "      <th>52029</th>\n",
       "      <td>73105f2d1cabc8170ab066d96863c5d5</td>\n",
       "      <td>5</td>\n",
       "      <td>0.00</td>\n",
       "      <td>peak</td>\n",
       "      <td>14.77</td>\n",
       "      <td>2024-10-16</td>\n",
       "    </tr>\n",
       "    <tr>\n",
       "      <th>52030</th>\n",
       "      <td>73105f2d1cabc8170ab066d96863c5d5</td>\n",
       "      <td>5</td>\n",
       "      <td>0.00</td>\n",
       "      <td>peak</td>\n",
       "      <td>14.35</td>\n",
       "      <td>2024-11-13</td>\n",
       "    </tr>\n",
       "    <tr>\n",
       "      <th>52031</th>\n",
       "      <td>73105f2d1cabc8170ab066d96863c5d5</td>\n",
       "      <td>5</td>\n",
       "      <td>0.00</td>\n",
       "      <td>peak</td>\n",
       "      <td>12.09</td>\n",
       "      <td>2024-12-11</td>\n",
       "    </tr>\n",
       "  </tbody>\n",
       "</table>\n",
       "</div>"
      ],
      "text/plain": [
       "              schedule_gtfs_dataset_key route_id  direction_id time_period  \\\n",
       "52005  73105f2d1cabc8170ab066d96863c5d5        5          0.00     all_day   \n",
       "52006  73105f2d1cabc8170ab066d96863c5d5        5          0.00     all_day   \n",
       "52007  73105f2d1cabc8170ab066d96863c5d5        5          0.00     all_day   \n",
       "52008  73105f2d1cabc8170ab066d96863c5d5        5          0.00     all_day   \n",
       "52009  73105f2d1cabc8170ab066d96863c5d5        5          0.00     all_day   \n",
       "52010  73105f2d1cabc8170ab066d96863c5d5        5          0.00     all_day   \n",
       "52011  73105f2d1cabc8170ab066d96863c5d5        5          0.00     all_day   \n",
       "52012  73105f2d1cabc8170ab066d96863c5d5        5          0.00     all_day   \n",
       "52013  73105f2d1cabc8170ab066d96863c5d5        5          0.00     all_day   \n",
       "52014  73105f2d1cabc8170ab066d96863c5d5        5          0.00     offpeak   \n",
       "52015  73105f2d1cabc8170ab066d96863c5d5        5          0.00     offpeak   \n",
       "52016  73105f2d1cabc8170ab066d96863c5d5        5          0.00     offpeak   \n",
       "52017  73105f2d1cabc8170ab066d96863c5d5        5          0.00     offpeak   \n",
       "52018  73105f2d1cabc8170ab066d96863c5d5        5          0.00     offpeak   \n",
       "52019  73105f2d1cabc8170ab066d96863c5d5        5          0.00     offpeak   \n",
       "52020  73105f2d1cabc8170ab066d96863c5d5        5          0.00     offpeak   \n",
       "52021  73105f2d1cabc8170ab066d96863c5d5        5          0.00     offpeak   \n",
       "52022  73105f2d1cabc8170ab066d96863c5d5        5          0.00     offpeak   \n",
       "52023  73105f2d1cabc8170ab066d96863c5d5        5          0.00        peak   \n",
       "52024  73105f2d1cabc8170ab066d96863c5d5        5          0.00        peak   \n",
       "52025  73105f2d1cabc8170ab066d96863c5d5        5          0.00        peak   \n",
       "52026  73105f2d1cabc8170ab066d96863c5d5        5          0.00        peak   \n",
       "52027  73105f2d1cabc8170ab066d96863c5d5        5          0.00        peak   \n",
       "52028  73105f2d1cabc8170ab066d96863c5d5        5          0.00        peak   \n",
       "52029  73105f2d1cabc8170ab066d96863c5d5        5          0.00        peak   \n",
       "52030  73105f2d1cabc8170ab066d96863c5d5        5          0.00        peak   \n",
       "52031  73105f2d1cabc8170ab066d96863c5d5        5          0.00        peak   \n",
       "\n",
       "       speed_mph service_date  \n",
       "52005      15.48   2024-04-17  \n",
       "52006      16.89   2024-05-22  \n",
       "52007      17.13   2024-06-12  \n",
       "52008      15.09   2024-07-17  \n",
       "52009      13.41   2024-08-14  \n",
       "52010      15.55   2024-09-18  \n",
       "52011      15.27   2024-10-16  \n",
       "52012      15.73   2024-11-13  \n",
       "52013      11.57   2024-12-11  \n",
       "52014      13.36   2024-04-17  \n",
       "52015      16.86   2024-05-22  \n",
       "52016      16.71   2024-06-12  \n",
       "52017      16.54   2024-07-17  \n",
       "52018      12.92   2024-08-14  \n",
       "52019      16.00   2024-09-18  \n",
       "52020      15.82   2024-10-16  \n",
       "52021      17.62   2024-11-13  \n",
       "52022      10.97   2024-12-11  \n",
       "52023      17.53   2024-04-17  \n",
       "52024      16.91   2024-05-22  \n",
       "52025      17.45   2024-06-12  \n",
       "52026      14.20   2024-07-17  \n",
       "52027      14.08   2024-08-14  \n",
       "52028      15.31   2024-09-18  \n",
       "52029      14.77   2024-10-16  \n",
       "52030      14.35   2024-11-13  \n",
       "52031      12.09   2024-12-11  "
      ]
     },
     "execution_count": 128,
     "metadata": {},
     "output_type": "execute_result"
    }
   ],
   "source": [
    "df_avg_speeds2.loc[df_avg_speeds2.route_id == \"5\"]"
   ]
  },
  {
   "cell_type": "markdown",
   "id": "6bc456bb-8f26-429e-acc9-0cf80b380f76",
   "metadata": {},
   "source": [
    "#### Dataframe in line 307 `df_rt_sched` in `gtfs_digest/merge_data`"
   ]
  },
  {
   "cell_type": "code",
   "execution_count": 130,
   "id": "17ac16fc-791a-4b6d-ade1-73bd278bfbe3",
   "metadata": {},
   "outputs": [],
   "source": [
    "df_rt_sched = merge_data.concatenate_rt_vs_schedule_by_route_direction(\n",
    "    analysis_date_list\n",
    ").astype({\"direction_id\": \"float\"})"
   ]
  },
  {
   "cell_type": "code",
   "execution_count": 131,
   "id": "00fa91ac-5933-47e8-9254-6e0200b51b23",
   "metadata": {},
   "outputs": [],
   "source": [
    "df_rt_sched2 = df_rt_sched.loc[df_rt_sched.schedule_gtfs_dataset_key.isin(schd_keys)]"
   ]
  },
  {
   "cell_type": "code",
   "execution_count": 132,
   "id": "ef91794e-3a0d-40d2-9b0b-45f86f9fc636",
   "metadata": {},
   "outputs": [
    {
     "data": {
      "text/html": [
       "<div>\n",
       "<style scoped>\n",
       "    .dataframe tbody tr th:only-of-type {\n",
       "        vertical-align: middle;\n",
       "    }\n",
       "\n",
       "    .dataframe tbody tr th {\n",
       "        vertical-align: top;\n",
       "    }\n",
       "\n",
       "    .dataframe thead th {\n",
       "        text-align: right;\n",
       "    }\n",
       "</style>\n",
       "<table border=\"1\" class=\"dataframe\">\n",
       "  <thead>\n",
       "    <tr style=\"text-align: right;\">\n",
       "      <th></th>\n",
       "      <th>schedule_gtfs_dataset_key</th>\n",
       "      <th>route_id</th>\n",
       "      <th>direction_id</th>\n",
       "    </tr>\n",
       "  </thead>\n",
       "  <tbody>\n",
       "    <tr>\n",
       "      <th>41032</th>\n",
       "      <td>73105f2d1cabc8170ab066d96863c5d5</td>\n",
       "      <td>5</td>\n",
       "      <td>0.00</td>\n",
       "    </tr>\n",
       "    <tr>\n",
       "      <th>41059</th>\n",
       "      <td>73105f2d1cabc8170ab066d96863c5d5</td>\n",
       "      <td>b3848f93-d26b-48a9-b6a6-5de22a4eab47</td>\n",
       "      <td>0.00</td>\n",
       "    </tr>\n",
       "    <tr>\n",
       "      <th>102289</th>\n",
       "      <td>f5a749dd65924e025b1293c58f95f8d6</td>\n",
       "      <td>CC</td>\n",
       "      <td>0.00</td>\n",
       "    </tr>\n",
       "    <tr>\n",
       "      <th>102325</th>\n",
       "      <td>f5a749dd65924e025b1293c58f95f8d6</td>\n",
       "      <td>CC</td>\n",
       "      <td>1.00</td>\n",
       "    </tr>\n",
       "  </tbody>\n",
       "</table>\n",
       "</div>"
      ],
      "text/plain": [
       "               schedule_gtfs_dataset_key  \\\n",
       "41032   73105f2d1cabc8170ab066d96863c5d5   \n",
       "41059   73105f2d1cabc8170ab066d96863c5d5   \n",
       "102289  f5a749dd65924e025b1293c58f95f8d6   \n",
       "102325  f5a749dd65924e025b1293c58f95f8d6   \n",
       "\n",
       "                                    route_id  direction_id  \n",
       "41032                                      5          0.00  \n",
       "41059   b3848f93-d26b-48a9-b6a6-5de22a4eab47          0.00  \n",
       "102289                                    CC          0.00  \n",
       "102325                                    CC          1.00  "
      ]
     },
     "metadata": {},
     "output_type": "display_data"
    }
   ],
   "source": [
    "preview(df_rt_sched2)"
   ]
  },
  {
   "cell_type": "code",
   "execution_count": 134,
   "id": "5fb3db36-9f49-4c0a-a725-b631f83ff1fd",
   "metadata": {},
   "outputs": [
    {
     "data": {
      "text/html": [
       "<div>\n",
       "<style scoped>\n",
       "    .dataframe tbody tr th:only-of-type {\n",
       "        vertical-align: middle;\n",
       "    }\n",
       "\n",
       "    .dataframe tbody tr th {\n",
       "        vertical-align: top;\n",
       "    }\n",
       "\n",
       "    .dataframe thead th {\n",
       "        text-align: right;\n",
       "    }\n",
       "</style>\n",
       "<table border=\"1\" class=\"dataframe\">\n",
       "  <thead>\n",
       "    <tr style=\"text-align: right;\">\n",
       "      <th></th>\n",
       "      <th>schedule_gtfs_dataset_key</th>\n",
       "      <th>route_id</th>\n",
       "      <th>direction_id</th>\n",
       "      <th>time_period</th>\n",
       "      <th>minutes_atleast1_vp</th>\n",
       "      <th>minutes_atleast2_vp</th>\n",
       "      <th>total_rt_service_minutes</th>\n",
       "      <th>total_scheduled_service_minutes</th>\n",
       "      <th>total_vp</th>\n",
       "      <th>vp_in_shape</th>\n",
       "      <th>is_early</th>\n",
       "      <th>is_ontime</th>\n",
       "      <th>is_late</th>\n",
       "      <th>n_vp_trips</th>\n",
       "      <th>vp_per_minute</th>\n",
       "      <th>pct_in_shape</th>\n",
       "      <th>pct_rt_journey_atleast1_vp</th>\n",
       "      <th>pct_rt_journey_atleast2_vp</th>\n",
       "      <th>pct_sched_journey_atleast1_vp</th>\n",
       "      <th>pct_sched_journey_atleast2_vp</th>\n",
       "      <th>rt_sched_journey_ratio</th>\n",
       "      <th>avg_rt_service_minutes</th>\n",
       "      <th>name</th>\n",
       "      <th>service_date</th>\n",
       "      <th>schedule_source_record_id</th>\n",
       "    </tr>\n",
       "  </thead>\n",
       "  <tbody>\n",
       "    <tr>\n",
       "      <th>41032</th>\n",
       "      <td>73105f2d1cabc8170ab066d96863c5d5</td>\n",
       "      <td>5</td>\n",
       "      <td>0.00</td>\n",
       "      <td>all_day</td>\n",
       "      <td>2278</td>\n",
       "      <td>2267</td>\n",
       "      <td>2746.35</td>\n",
       "      <td>714.00</td>\n",
       "      <td>6801</td>\n",
       "      <td>2812</td>\n",
       "      <td>2</td>\n",
       "      <td>6</td>\n",
       "      <td>9</td>\n",
       "      <td>17</td>\n",
       "      <td>2.48</td>\n",
       "      <td>0.41</td>\n",
       "      <td>0.83</td>\n",
       "      <td>0.82</td>\n",
       "      <td>1.00</td>\n",
       "      <td>1.00</td>\n",
       "      <td>3.85</td>\n",
       "      <td>161.55</td>\n",
       "      <td>Santa Maria Schedule</td>\n",
       "      <td>2024-04-17</td>\n",
       "      <td>NaN</td>\n",
       "    </tr>\n",
       "    <tr>\n",
       "      <th>41033</th>\n",
       "      <td>73105f2d1cabc8170ab066d96863c5d5</td>\n",
       "      <td>5</td>\n",
       "      <td>0.00</td>\n",
       "      <td>all_day</td>\n",
       "      <td>1218</td>\n",
       "      <td>1201</td>\n",
       "      <td>1197.93</td>\n",
       "      <td>756.00</td>\n",
       "      <td>3609</td>\n",
       "      <td>2223</td>\n",
       "      <td>0</td>\n",
       "      <td>12</td>\n",
       "      <td>6</td>\n",
       "      <td>18</td>\n",
       "      <td>3.01</td>\n",
       "      <td>0.62</td>\n",
       "      <td>1.00</td>\n",
       "      <td>1.00</td>\n",
       "      <td>1.00</td>\n",
       "      <td>1.00</td>\n",
       "      <td>1.58</td>\n",
       "      <td>66.55</td>\n",
       "      <td>Santa Maria Schedule</td>\n",
       "      <td>2024-05-22</td>\n",
       "      <td>NaN</td>\n",
       "    </tr>\n",
       "    <tr>\n",
       "      <th>41034</th>\n",
       "      <td>73105f2d1cabc8170ab066d96863c5d5</td>\n",
       "      <td>5</td>\n",
       "      <td>0.00</td>\n",
       "      <td>all_day</td>\n",
       "      <td>1198</td>\n",
       "      <td>1188</td>\n",
       "      <td>1604.10</td>\n",
       "      <td>756.00</td>\n",
       "      <td>3559</td>\n",
       "      <td>2163</td>\n",
       "      <td>1</td>\n",
       "      <td>11</td>\n",
       "      <td>6</td>\n",
       "      <td>18</td>\n",
       "      <td>2.22</td>\n",
       "      <td>0.61</td>\n",
       "      <td>0.75</td>\n",
       "      <td>0.74</td>\n",
       "      <td>1.00</td>\n",
       "      <td>1.00</td>\n",
       "      <td>2.12</td>\n",
       "      <td>89.12</td>\n",
       "      <td>Santa Maria Schedule</td>\n",
       "      <td>2024-06-12</td>\n",
       "      <td>NaN</td>\n",
       "    </tr>\n",
       "    <tr>\n",
       "      <th>41035</th>\n",
       "      <td>73105f2d1cabc8170ab066d96863c5d5</td>\n",
       "      <td>5</td>\n",
       "      <td>0.00</td>\n",
       "      <td>all_day</td>\n",
       "      <td>1205</td>\n",
       "      <td>1189</td>\n",
       "      <td>1185.66</td>\n",
       "      <td>714.00</td>\n",
       "      <td>3573</td>\n",
       "      <td>2218</td>\n",
       "      <td>1</td>\n",
       "      <td>11</td>\n",
       "      <td>5</td>\n",
       "      <td>17</td>\n",
       "      <td>3.01</td>\n",
       "      <td>0.62</td>\n",
       "      <td>1.00</td>\n",
       "      <td>1.00</td>\n",
       "      <td>1.00</td>\n",
       "      <td>1.00</td>\n",
       "      <td>1.66</td>\n",
       "      <td>69.74</td>\n",
       "      <td>Santa Maria Schedule</td>\n",
       "      <td>2024-07-17</td>\n",
       "      <td>recxPy2JOcDFGDo31</td>\n",
       "    </tr>\n",
       "    <tr>\n",
       "      <th>41036</th>\n",
       "      <td>73105f2d1cabc8170ab066d96863c5d5</td>\n",
       "      <td>5</td>\n",
       "      <td>0.00</td>\n",
       "      <td>all_day</td>\n",
       "      <td>1135</td>\n",
       "      <td>1123</td>\n",
       "      <td>1116.70</td>\n",
       "      <td>630.00</td>\n",
       "      <td>3365</td>\n",
       "      <td>2967</td>\n",
       "      <td>3</td>\n",
       "      <td>9</td>\n",
       "      <td>3</td>\n",
       "      <td>15</td>\n",
       "      <td>3.01</td>\n",
       "      <td>0.88</td>\n",
       "      <td>1.00</td>\n",
       "      <td>1.00</td>\n",
       "      <td>1.00</td>\n",
       "      <td>1.00</td>\n",
       "      <td>1.77</td>\n",
       "      <td>74.45</td>\n",
       "      <td>Santa Maria Schedule</td>\n",
       "      <td>2024-08-14</td>\n",
       "      <td>recxPy2JOcDFGDo31</td>\n",
       "    </tr>\n",
       "  </tbody>\n",
       "</table>\n",
       "</div>"
      ],
      "text/plain": [
       "              schedule_gtfs_dataset_key route_id  direction_id time_period  \\\n",
       "41032  73105f2d1cabc8170ab066d96863c5d5        5          0.00     all_day   \n",
       "41033  73105f2d1cabc8170ab066d96863c5d5        5          0.00     all_day   \n",
       "41034  73105f2d1cabc8170ab066d96863c5d5        5          0.00     all_day   \n",
       "41035  73105f2d1cabc8170ab066d96863c5d5        5          0.00     all_day   \n",
       "41036  73105f2d1cabc8170ab066d96863c5d5        5          0.00     all_day   \n",
       "\n",
       "       minutes_atleast1_vp  minutes_atleast2_vp  total_rt_service_minutes  \\\n",
       "41032                 2278                 2267                   2746.35   \n",
       "41033                 1218                 1201                   1197.93   \n",
       "41034                 1198                 1188                   1604.10   \n",
       "41035                 1205                 1189                   1185.66   \n",
       "41036                 1135                 1123                   1116.70   \n",
       "\n",
       "       total_scheduled_service_minutes  total_vp  vp_in_shape  is_early  \\\n",
       "41032                           714.00      6801         2812         2   \n",
       "41033                           756.00      3609         2223         0   \n",
       "41034                           756.00      3559         2163         1   \n",
       "41035                           714.00      3573         2218         1   \n",
       "41036                           630.00      3365         2967         3   \n",
       "\n",
       "       is_ontime  is_late  n_vp_trips  vp_per_minute  pct_in_shape  \\\n",
       "41032          6        9          17           2.48          0.41   \n",
       "41033         12        6          18           3.01          0.62   \n",
       "41034         11        6          18           2.22          0.61   \n",
       "41035         11        5          17           3.01          0.62   \n",
       "41036          9        3          15           3.01          0.88   \n",
       "\n",
       "       pct_rt_journey_atleast1_vp  pct_rt_journey_atleast2_vp  \\\n",
       "41032                        0.83                        0.82   \n",
       "41033                        1.00                        1.00   \n",
       "41034                        0.75                        0.74   \n",
       "41035                        1.00                        1.00   \n",
       "41036                        1.00                        1.00   \n",
       "\n",
       "       pct_sched_journey_atleast1_vp  pct_sched_journey_atleast2_vp  \\\n",
       "41032                           1.00                           1.00   \n",
       "41033                           1.00                           1.00   \n",
       "41034                           1.00                           1.00   \n",
       "41035                           1.00                           1.00   \n",
       "41036                           1.00                           1.00   \n",
       "\n",
       "       rt_sched_journey_ratio  avg_rt_service_minutes                  name  \\\n",
       "41032                    3.85                  161.55  Santa Maria Schedule   \n",
       "41033                    1.58                   66.55  Santa Maria Schedule   \n",
       "41034                    2.12                   89.12  Santa Maria Schedule   \n",
       "41035                    1.66                   69.74  Santa Maria Schedule   \n",
       "41036                    1.77                   74.45  Santa Maria Schedule   \n",
       "\n",
       "      service_date schedule_source_record_id  \n",
       "41032   2024-04-17                       NaN  \n",
       "41033   2024-05-22                       NaN  \n",
       "41034   2024-06-12                       NaN  \n",
       "41035   2024-07-17         recxPy2JOcDFGDo31  \n",
       "41036   2024-08-14         recxPy2JOcDFGDo31  "
      ]
     },
     "execution_count": 134,
     "metadata": {},
     "output_type": "execute_result"
    }
   ],
   "source": [
    "df_rt_sched2.head()"
   ]
  },
  {
   "cell_type": "markdown",
   "id": "37e4e50d-e658-4759-861d-32f123d7d7db",
   "metadata": {},
   "source": [
    "##### Go into file `rt_segment_speeds/segment_speed_utils/metrics.py`\n",
    "* I think this file is used [here](https://github.com/cal-itp/data-analyses/blob/main/rt_scheduled_v_ran/scripts/rt_v_scheduled_routes.py) -> `rt_scheduled_v_ran/scripts/rt_v_scheduled_routes`"
   ]
  },
  {
   "cell_type": "code",
   "execution_count": 135,
   "id": "8134248e-c1c4-42eb-b609-dd7cf266fc6c",
   "metadata": {},
   "outputs": [
    {
     "data": {
      "text/plain": [
       "['route_id', 'direction_id']"
      ]
     },
     "execution_count": 135,
     "metadata": {},
     "output_type": "execute_result"
    }
   ],
   "source": [
    "[*GTFS_DATA_DICT[\"stop_segments\"][\"route_dir_cols\"]]"
   ]
  },
  {
   "cell_type": "code",
   "execution_count": 136,
   "id": "9a8b3cc0-24c0-4a07-affc-797542ba6d03",
   "metadata": {},
   "outputs": [],
   "source": [
    "dict_inputs = GTFS_DATA_DICT.rt_vs_schedule_tables"
   ]
  },
  {
   "cell_type": "code",
   "execution_count": 144,
   "id": "f40d89aa-5b32-481d-a86c-eb18e0c94e63",
   "metadata": {},
   "outputs": [],
   "source": [
    "TRIP_EXPORT = dict_inputs.vp_trip_metrics"
   ]
  },
  {
   "cell_type": "code",
   "execution_count": 145,
   "id": "51a838ab-a94d-4885-8efb-c12d481411e1",
   "metadata": {},
   "outputs": [
    {
     "data": {
      "text/plain": [
       "'vp_trip/trip_metrics'"
      ]
     },
     "execution_count": 145,
     "metadata": {},
     "output_type": "execute_result"
    }
   ],
   "source": [
    "TRIP_EXPORT"
   ]
  },
  {
   "cell_type": "code",
   "execution_count": 141,
   "id": "cc3f6926-9979-43c6-a04e-abb4addb737a",
   "metadata": {},
   "outputs": [
    {
     "data": {
      "text/plain": [
       "'vp_route_dir/route_direction_metrics'"
      ]
     },
     "execution_count": 141,
     "metadata": {},
     "output_type": "execute_result"
    }
   ],
   "source": [
    "GTFS_DATA_DICT.rt_vs_schedule_tables.vp_route_direction_metrics"
   ]
  },
  {
   "cell_type": "code",
   "execution_count": 140,
   "id": "b936e27b-1e2b-4b64-aae7-17fe619901c4",
   "metadata": {},
   "outputs": [
    {
     "data": {
      "text/plain": [
       "'vp_route_dir/route_direction_metrics'"
      ]
     },
     "execution_count": 140,
     "metadata": {},
     "output_type": "execute_result"
    }
   ],
   "source": [
    "dict_inputs.vp_route_direction_metrics"
   ]
  },
  {
   "cell_type": "code",
   "execution_count": 142,
   "id": "117a707c-28c1-4f38-ab07-c331ae35c916",
   "metadata": {},
   "outputs": [],
   "source": [
    "ROUTE_EXPORT = dict_inputs.vp_route_direction_metrics"
   ]
  },
  {
   "cell_type": "code",
   "execution_count": 147,
   "id": "d2affb77-895f-406d-a6c9-b9c595347156",
   "metadata": {},
   "outputs": [],
   "source": [
    "trip_df = pd.read_parquet(f\"{RT_SCHED_GCS}{TRIP_EXPORT}_{one_analysis_date}.parquet\")"
   ]
  },
  {
   "cell_type": "code",
   "execution_count": 148,
   "id": "b3be7fa1-61aa-4325-921b-c05976be831a",
   "metadata": {},
   "outputs": [
    {
     "data": {
      "text/html": [
       "<div>\n",
       "<style scoped>\n",
       "    .dataframe tbody tr th:only-of-type {\n",
       "        vertical-align: middle;\n",
       "    }\n",
       "\n",
       "    .dataframe tbody tr th {\n",
       "        vertical-align: top;\n",
       "    }\n",
       "\n",
       "    .dataframe thead th {\n",
       "        text-align: right;\n",
       "    }\n",
       "</style>\n",
       "<table border=\"1\" class=\"dataframe\">\n",
       "  <thead>\n",
       "    <tr style=\"text-align: right;\">\n",
       "      <th></th>\n",
       "      <th>schedule_gtfs_dataset_key</th>\n",
       "      <th>trip_instance_key</th>\n",
       "      <th>route_id</th>\n",
       "      <th>direction_id</th>\n",
       "      <th>scheduled_service_minutes</th>\n",
       "      <th>total_vp</th>\n",
       "      <th>rt_service_minutes</th>\n",
       "      <th>minutes_atleast1_vp</th>\n",
       "      <th>minutes_atleast2_vp</th>\n",
       "      <th>vp_in_shape</th>\n",
       "      <th>route_short_name</th>\n",
       "      <th>sched_rt_category</th>\n",
       "      <th>time_of_day</th>\n",
       "      <th>peak_offpeak</th>\n",
       "      <th>vp_per_minute</th>\n",
       "      <th>pct_in_shape</th>\n",
       "      <th>pct_rt_journey_atleast1_vp</th>\n",
       "      <th>pct_rt_journey_atleast2_vp</th>\n",
       "      <th>pct_sched_journey_atleast1_vp</th>\n",
       "      <th>pct_sched_journey_atleast2_vp</th>\n",
       "      <th>rt_sched_journey_difference</th>\n",
       "      <th>is_early</th>\n",
       "      <th>is_ontime</th>\n",
       "      <th>is_late</th>\n",
       "    </tr>\n",
       "  </thead>\n",
       "  <tbody>\n",
       "    <tr>\n",
       "      <th>0</th>\n",
       "      <td>3c62ad6ee589d56eca915ce291a5df0a</td>\n",
       "      <td>0001aafdcc1443da02a93a3596e67f36</td>\n",
       "      <td>41</td>\n",
       "      <td>0.00</td>\n",
       "      <td>50.00</td>\n",
       "      <td>165</td>\n",
       "      <td>54.52</td>\n",
       "      <td>56</td>\n",
       "      <td>55</td>\n",
       "      <td>156</td>\n",
       "      <td>41</td>\n",
       "      <td>schedule_and_vp</td>\n",
       "      <td>Early AM</td>\n",
       "      <td>offpeak</td>\n",
       "      <td>3.03</td>\n",
       "      <td>0.94</td>\n",
       "      <td>1.00</td>\n",
       "      <td>1.00</td>\n",
       "      <td>1.00</td>\n",
       "      <td>1.00</td>\n",
       "      <td>4.52</td>\n",
       "      <td>0</td>\n",
       "      <td>1</td>\n",
       "      <td>0</td>\n",
       "    </tr>\n",
       "    <tr>\n",
       "      <th>1</th>\n",
       "      <td>1770249a5a2e770ca90628434d4934b1</td>\n",
       "      <td>0001e1cccb0466096f3faed959b2f27b</td>\n",
       "      <td>4133</td>\n",
       "      <td>0.00</td>\n",
       "      <td>107.00</td>\n",
       "      <td>323</td>\n",
       "      <td>107.98</td>\n",
       "      <td>109</td>\n",
       "      <td>107</td>\n",
       "      <td>323</td>\n",
       "      <td>77</td>\n",
       "      <td>schedule_and_vp</td>\n",
       "      <td>Midday</td>\n",
       "      <td>offpeak</td>\n",
       "      <td>2.99</td>\n",
       "      <td>1.00</td>\n",
       "      <td>1.00</td>\n",
       "      <td>0.99</td>\n",
       "      <td>1.00</td>\n",
       "      <td>1.00</td>\n",
       "      <td>0.98</td>\n",
       "      <td>0</td>\n",
       "      <td>1</td>\n",
       "      <td>0</td>\n",
       "    </tr>\n",
       "  </tbody>\n",
       "</table>\n",
       "</div>"
      ],
      "text/plain": [
       "          schedule_gtfs_dataset_key                 trip_instance_key  \\\n",
       "0  3c62ad6ee589d56eca915ce291a5df0a  0001aafdcc1443da02a93a3596e67f36   \n",
       "1  1770249a5a2e770ca90628434d4934b1  0001e1cccb0466096f3faed959b2f27b   \n",
       "\n",
       "  route_id  direction_id  scheduled_service_minutes  total_vp  \\\n",
       "0       41          0.00                      50.00       165   \n",
       "1     4133          0.00                     107.00       323   \n",
       "\n",
       "   rt_service_minutes  minutes_atleast1_vp  minutes_atleast2_vp  vp_in_shape  \\\n",
       "0               54.52                   56                   55          156   \n",
       "1              107.98                  109                  107          323   \n",
       "\n",
       "  route_short_name sched_rt_category time_of_day peak_offpeak  vp_per_minute  \\\n",
       "0               41   schedule_and_vp    Early AM      offpeak           3.03   \n",
       "1               77   schedule_and_vp      Midday      offpeak           2.99   \n",
       "\n",
       "   pct_in_shape  pct_rt_journey_atleast1_vp  pct_rt_journey_atleast2_vp  \\\n",
       "0          0.94                        1.00                        1.00   \n",
       "1          1.00                        1.00                        0.99   \n",
       "\n",
       "   pct_sched_journey_atleast1_vp  pct_sched_journey_atleast2_vp  \\\n",
       "0                           1.00                           1.00   \n",
       "1                           1.00                           1.00   \n",
       "\n",
       "   rt_sched_journey_difference  is_early  is_ontime  is_late  \n",
       "0                         4.52         0          1        0  \n",
       "1                         0.98         0          1        0  "
      ]
     },
     "execution_count": 148,
     "metadata": {},
     "output_type": "execute_result"
    }
   ],
   "source": [
    "trip_df.head(2)"
   ]
  },
  {
   "cell_type": "code",
   "execution_count": 149,
   "id": "dbbcd9b4-52b1-4860-9d67-d87b00087b4b",
   "metadata": {},
   "outputs": [],
   "source": [
    "trip_df2 = trip_df.loc[trip_df.schedule_gtfs_dataset_key.isin(schd_keys)]"
   ]
  },
  {
   "cell_type": "code",
   "execution_count": 150,
   "id": "2ecd6bbf-e6e4-4b52-8313-162c21be378d",
   "metadata": {},
   "outputs": [
    {
     "data": {
      "text/html": [
       "<div>\n",
       "<style scoped>\n",
       "    .dataframe tbody tr th:only-of-type {\n",
       "        vertical-align: middle;\n",
       "    }\n",
       "\n",
       "    .dataframe tbody tr th {\n",
       "        vertical-align: top;\n",
       "    }\n",
       "\n",
       "    .dataframe thead th {\n",
       "        text-align: right;\n",
       "    }\n",
       "</style>\n",
       "<table border=\"1\" class=\"dataframe\">\n",
       "  <thead>\n",
       "    <tr style=\"text-align: right;\">\n",
       "      <th></th>\n",
       "      <th>schedule_gtfs_dataset_key</th>\n",
       "      <th>route_id</th>\n",
       "      <th>direction_id</th>\n",
       "    </tr>\n",
       "  </thead>\n",
       "  <tbody>\n",
       "    <tr>\n",
       "      <th>127</th>\n",
       "      <td>73105f2d1cabc8170ab066d96863c5d5</td>\n",
       "      <td>30</td>\n",
       "      <td>NaN</td>\n",
       "    </tr>\n",
       "    <tr>\n",
       "      <th>407</th>\n",
       "      <td>73105f2d1cabc8170ab066d96863c5d5</td>\n",
       "      <td>3</td>\n",
       "      <td>NaN</td>\n",
       "    </tr>\n",
       "    <tr>\n",
       "      <th>1797</th>\n",
       "      <td>73105f2d1cabc8170ab066d96863c5d5</td>\n",
       "      <td>20</td>\n",
       "      <td>NaN</td>\n",
       "    </tr>\n",
       "    <tr>\n",
       "      <th>2622</th>\n",
       "      <td>73105f2d1cabc8170ab066d96863c5d5</td>\n",
       "      <td>4</td>\n",
       "      <td>NaN</td>\n",
       "    </tr>\n",
       "    <tr>\n",
       "      <th>3009</th>\n",
       "      <td>73105f2d1cabc8170ab066d96863c5d5</td>\n",
       "      <td>5</td>\n",
       "      <td>0.00</td>\n",
       "    </tr>\n",
       "    <tr>\n",
       "      <th>3096</th>\n",
       "      <td>73105f2d1cabc8170ab066d96863c5d5</td>\n",
       "      <td>11</td>\n",
       "      <td>NaN</td>\n",
       "    </tr>\n",
       "    <tr>\n",
       "      <th>3338</th>\n",
       "      <td>73105f2d1cabc8170ab066d96863c5d5</td>\n",
       "      <td>7</td>\n",
       "      <td>NaN</td>\n",
       "    </tr>\n",
       "    <tr>\n",
       "      <th>3512</th>\n",
       "      <td>73105f2d1cabc8170ab066d96863c5d5</td>\n",
       "      <td>9</td>\n",
       "      <td>NaN</td>\n",
       "    </tr>\n",
       "    <tr>\n",
       "      <th>4197</th>\n",
       "      <td>73105f2d1cabc8170ab066d96863c5d5</td>\n",
       "      <td>1</td>\n",
       "      <td>NaN</td>\n",
       "    </tr>\n",
       "    <tr>\n",
       "      <th>6708</th>\n",
       "      <td>73105f2d1cabc8170ab066d96863c5d5</td>\n",
       "      <td>12X</td>\n",
       "      <td>NaN</td>\n",
       "    </tr>\n",
       "    <tr>\n",
       "      <th>7614</th>\n",
       "      <td>73105f2d1cabc8170ab066d96863c5d5</td>\n",
       "      <td>6</td>\n",
       "      <td>NaN</td>\n",
       "    </tr>\n",
       "    <tr>\n",
       "      <th>9658</th>\n",
       "      <td>73105f2d1cabc8170ab066d96863c5d5</td>\n",
       "      <td>2</td>\n",
       "      <td>NaN</td>\n",
       "    </tr>\n",
       "    <tr>\n",
       "      <th>11567</th>\n",
       "      <td>73105f2d1cabc8170ab066d96863c5d5</td>\n",
       "      <td>8</td>\n",
       "      <td>NaN</td>\n",
       "    </tr>\n",
       "    <tr>\n",
       "      <th>12037</th>\n",
       "      <td>f5a749dd65924e025b1293c58f95f8d6</td>\n",
       "      <td>CC</td>\n",
       "      <td>1.00</td>\n",
       "    </tr>\n",
       "    <tr>\n",
       "      <th>17879</th>\n",
       "      <td>f5a749dd65924e025b1293c58f95f8d6</td>\n",
       "      <td>CC</td>\n",
       "      <td>0.00</td>\n",
       "    </tr>\n",
       "    <tr>\n",
       "      <th>23915</th>\n",
       "      <td>73105f2d1cabc8170ab066d96863c5d5</td>\n",
       "      <td>8a7c42f9-51e4-4848-bf88-30c210f149ad</td>\n",
       "      <td>NaN</td>\n",
       "    </tr>\n",
       "    <tr>\n",
       "      <th>66369</th>\n",
       "      <td>73105f2d1cabc8170ab066d96863c5d5</td>\n",
       "      <td>1B</td>\n",
       "      <td>NaN</td>\n",
       "    </tr>\n",
       "  </tbody>\n",
       "</table>\n",
       "</div>"
      ],
      "text/plain": [
       "              schedule_gtfs_dataset_key                              route_id  \\\n",
       "127    73105f2d1cabc8170ab066d96863c5d5                                    30   \n",
       "407    73105f2d1cabc8170ab066d96863c5d5                                     3   \n",
       "1797   73105f2d1cabc8170ab066d96863c5d5                                    20   \n",
       "2622   73105f2d1cabc8170ab066d96863c5d5                                     4   \n",
       "3009   73105f2d1cabc8170ab066d96863c5d5                                     5   \n",
       "3096   73105f2d1cabc8170ab066d96863c5d5                                    11   \n",
       "3338   73105f2d1cabc8170ab066d96863c5d5                                     7   \n",
       "3512   73105f2d1cabc8170ab066d96863c5d5                                     9   \n",
       "4197   73105f2d1cabc8170ab066d96863c5d5                                     1   \n",
       "6708   73105f2d1cabc8170ab066d96863c5d5                                   12X   \n",
       "7614   73105f2d1cabc8170ab066d96863c5d5                                     6   \n",
       "9658   73105f2d1cabc8170ab066d96863c5d5                                     2   \n",
       "11567  73105f2d1cabc8170ab066d96863c5d5                                     8   \n",
       "12037  f5a749dd65924e025b1293c58f95f8d6                                    CC   \n",
       "17879  f5a749dd65924e025b1293c58f95f8d6                                    CC   \n",
       "23915  73105f2d1cabc8170ab066d96863c5d5  8a7c42f9-51e4-4848-bf88-30c210f149ad   \n",
       "66369  73105f2d1cabc8170ab066d96863c5d5                                    1B   \n",
       "\n",
       "       direction_id  \n",
       "127             NaN  \n",
       "407             NaN  \n",
       "1797            NaN  \n",
       "2622            NaN  \n",
       "3009           0.00  \n",
       "3096            NaN  \n",
       "3338            NaN  \n",
       "3512            NaN  \n",
       "4197            NaN  \n",
       "6708            NaN  \n",
       "7614            NaN  \n",
       "9658            NaN  \n",
       "11567           NaN  \n",
       "12037          1.00  \n",
       "17879          0.00  \n",
       "23915           NaN  \n",
       "66369           NaN  "
      ]
     },
     "metadata": {},
     "output_type": "display_data"
    }
   ],
   "source": [
    "preview(trip_df2)"
   ]
  },
  {
   "cell_type": "code",
   "execution_count": 154,
   "id": "749f4347-3a7f-45a5-9d5b-5bb159c8baba",
   "metadata": {},
   "outputs": [],
   "source": [
    "import sys\n",
    "\n",
    "sys.path.append(\"../rt_scheduled_v_ran/scripts\")\n",
    "import rt_v_scheduled_routes"
   ]
  },
  {
   "cell_type": "code",
   "execution_count": 157,
   "id": "f4abfe0c-d6ac-4912-8452-c67f361930f0",
   "metadata": {},
   "outputs": [],
   "source": [
    "ROUTE_DIR_COLS = [*GTFS_DATA_DICT[\"stop_segments\"][\"route_dir_cols\"]]"
   ]
  },
  {
   "cell_type": "markdown",
   "id": "c78c9162-1afa-4d81-8b82-cf6474063ff0",
   "metadata": {},
   "source": [
    "##### Somewhere in `rt_scheduled_v_ran/rt_v_scheduled_routes`, routes go missing."
   ]
  },
  {
   "cell_type": "code",
   "execution_count": 158,
   "id": "69f01090-5c61-4b27-bfe5-99e953b3e450",
   "metadata": {},
   "outputs": [],
   "source": [
    "crosswalk_cols = [\n",
    "    \"schedule_gtfs_dataset_key\",\n",
    "    \"name\",\n",
    "    \"schedule_source_record_id\",\n",
    "    \"base64_url\",\n",
    "    \"organization_source_record_id\",\n",
    "    \"organization_name\",\n",
    "    \"caltrans_district\",\n",
    "]\n",
    "\n",
    "route_df = (\n",
    "    metrics.concatenate_peak_offpeak_allday_averages(\n",
    "        trip_df2,\n",
    "        group_cols=[\"schedule_gtfs_dataset_key\"] + ROUTE_DIR_COLS,\n",
    "        metric_type=\"rt_vs_schedule\",\n",
    "    )\n",
    "    .pipe(metrics.derive_rt_vs_schedule_metrics)\n",
    "    .pipe(rt_v_scheduled_routes.average_rt_trip_times)\n",
    ")"
   ]
  },
  {
   "cell_type": "code",
   "execution_count": 163,
   "id": "805ac735-490a-4f47-a67a-327792f670a9",
   "metadata": {},
   "outputs": [
    {
     "data": {
      "text/html": [
       "<div>\n",
       "<style scoped>\n",
       "    .dataframe tbody tr th:only-of-type {\n",
       "        vertical-align: middle;\n",
       "    }\n",
       "\n",
       "    .dataframe tbody tr th {\n",
       "        vertical-align: top;\n",
       "    }\n",
       "\n",
       "    .dataframe thead th {\n",
       "        text-align: right;\n",
       "    }\n",
       "</style>\n",
       "<table border=\"1\" class=\"dataframe\">\n",
       "  <thead>\n",
       "    <tr style=\"text-align: right;\">\n",
       "      <th></th>\n",
       "      <th>schedule_gtfs_dataset_key</th>\n",
       "      <th>route_id</th>\n",
       "      <th>direction_id</th>\n",
       "    </tr>\n",
       "  </thead>\n",
       "  <tbody>\n",
       "    <tr>\n",
       "      <th>0</th>\n",
       "      <td>73105f2d1cabc8170ab066d96863c5d5</td>\n",
       "      <td>5</td>\n",
       "      <td>0.00</td>\n",
       "    </tr>\n",
       "    <tr>\n",
       "      <th>2</th>\n",
       "      <td>f5a749dd65924e025b1293c58f95f8d6</td>\n",
       "      <td>CC</td>\n",
       "      <td>0.00</td>\n",
       "    </tr>\n",
       "    <tr>\n",
       "      <th>4</th>\n",
       "      <td>f5a749dd65924e025b1293c58f95f8d6</td>\n",
       "      <td>CC</td>\n",
       "      <td>1.00</td>\n",
       "    </tr>\n",
       "  </tbody>\n",
       "</table>\n",
       "</div>"
      ],
      "text/plain": [
       "          schedule_gtfs_dataset_key route_id  direction_id\n",
       "0  73105f2d1cabc8170ab066d96863c5d5        5          0.00\n",
       "2  f5a749dd65924e025b1293c58f95f8d6       CC          0.00\n",
       "4  f5a749dd65924e025b1293c58f95f8d6       CC          1.00"
      ]
     },
     "metadata": {},
     "output_type": "display_data"
    }
   ],
   "source": [
    "preview(route_df)"
   ]
  },
  {
   "cell_type": "code",
   "execution_count": 160,
   "id": "e5f25e05-e27c-4ca8-9f4f-798213b2a5d5",
   "metadata": {},
   "outputs": [],
   "source": [
    "route_df2 = metrics.concatenate_peak_offpeak_allday_averages(\n",
    "    trip_df2,\n",
    "    group_cols=[\"schedule_gtfs_dataset_key\"] + ROUTE_DIR_COLS,\n",
    "    metric_type=\"rt_vs_schedule\",\n",
    ")"
   ]
  },
  {
   "cell_type": "code",
   "execution_count": 162,
   "id": "00a8f37a-f087-4d6a-ae40-f77b1243bb19",
   "metadata": {},
   "outputs": [
    {
     "data": {
      "text/html": [
       "<div>\n",
       "<style scoped>\n",
       "    .dataframe tbody tr th:only-of-type {\n",
       "        vertical-align: middle;\n",
       "    }\n",
       "\n",
       "    .dataframe tbody tr th {\n",
       "        vertical-align: top;\n",
       "    }\n",
       "\n",
       "    .dataframe thead th {\n",
       "        text-align: right;\n",
       "    }\n",
       "</style>\n",
       "<table border=\"1\" class=\"dataframe\">\n",
       "  <thead>\n",
       "    <tr style=\"text-align: right;\">\n",
       "      <th></th>\n",
       "      <th>schedule_gtfs_dataset_key</th>\n",
       "      <th>route_id</th>\n",
       "      <th>direction_id</th>\n",
       "    </tr>\n",
       "  </thead>\n",
       "  <tbody>\n",
       "    <tr>\n",
       "      <th>0</th>\n",
       "      <td>73105f2d1cabc8170ab066d96863c5d5</td>\n",
       "      <td>5</td>\n",
       "      <td>0.00</td>\n",
       "    </tr>\n",
       "    <tr>\n",
       "      <th>2</th>\n",
       "      <td>f5a749dd65924e025b1293c58f95f8d6</td>\n",
       "      <td>CC</td>\n",
       "      <td>0.00</td>\n",
       "    </tr>\n",
       "    <tr>\n",
       "      <th>4</th>\n",
       "      <td>f5a749dd65924e025b1293c58f95f8d6</td>\n",
       "      <td>CC</td>\n",
       "      <td>1.00</td>\n",
       "    </tr>\n",
       "  </tbody>\n",
       "</table>\n",
       "</div>"
      ],
      "text/plain": [
       "          schedule_gtfs_dataset_key route_id  direction_id\n",
       "0  73105f2d1cabc8170ab066d96863c5d5        5          0.00\n",
       "2  f5a749dd65924e025b1293c58f95f8d6       CC          0.00\n",
       "4  f5a749dd65924e025b1293c58f95f8d6       CC          1.00"
      ]
     },
     "metadata": {},
     "output_type": "display_data"
    }
   ],
   "source": [
    "preview(route_df2)"
   ]
  },
  {
   "cell_type": "markdown",
   "id": "d00aa8e3-a0b5-4401-8995-e087871994b2",
   "metadata": {},
   "source": [
    "##### `metrics.concatenate_peak_offpeak_allday_averages` references to `segment_calcs.calculate_avg_speeds` which lives in `rt_segment_speeds/segment_speed_utils`"
   ]
  },
  {
   "cell_type": "code",
   "execution_count": 165,
   "id": "e177fe23-778a-4add-b5ba-48b70cd24a7f",
   "metadata": {},
   "outputs": [
    {
     "data": {
      "text/plain": [
       "['schedule_gtfs_dataset_key', 'route_id', 'direction_id']"
      ]
     },
     "execution_count": 165,
     "metadata": {},
     "output_type": "execute_result"
    }
   ],
   "source": [
    "[\"schedule_gtfs_dataset_key\"] + ROUTE_DIR_COLS"
   ]
  },
  {
   "cell_type": "markdown",
   "id": "77a3f68d-1244-4306-920c-27aed2f543bd",
   "metadata": {
    "tags": []
   },
   "source": [
    "### Fix Map: `gtfs_digest/merge_operator_data`"
   ]
  },
  {
   "cell_type": "code",
   "execution_count": null,
   "id": "cb99b4b5-7745-422c-a6c5-153f02ffc244",
   "metadata": {},
   "outputs": [],
   "source": [
    "OPERATOR_FILE = GTFS_DATA_DICT.digest_tables.operator_profiles\n",
    "OPERATOR_ROUTE = GTFS_DATA_DICT.digest_tables.operator_routes_map"
   ]
  },
  {
   "cell_type": "code",
   "execution_count": null,
   "id": "55faff71-f82c-46fc-a99d-dcc40205e100",
   "metadata": {},
   "outputs": [],
   "source": [
    "operator_route_gdf = gpd.read_parquet(\n",
    "    f\"{RT_SCHED_GCS}{OPERATOR_ROUTE}.parquet\",\n",
    ")"
   ]
  },
  {
   "cell_type": "code",
   "execution_count": null,
   "id": "9b2c852f-f053-406a-8274-8b4f015f10c9",
   "metadata": {},
   "outputs": [],
   "source": [
    "operator_route_gdf.columns"
   ]
  },
  {
   "cell_type": "code",
   "execution_count": null,
   "id": "89ccde0b-736c-4fc9-a294-8a12116823a8",
   "metadata": {},
   "outputs": [],
   "source": [
    "operator_route_gdf2.columns"
   ]
  },
  {
   "cell_type": "code",
   "execution_count": null,
   "id": "295aaf35-9ade-4f9e-bc4d-5b8ef95a1569",
   "metadata": {},
   "outputs": [],
   "source": [
    "len(operator_route_gdf2)"
   ]
  },
  {
   "cell_type": "code",
   "execution_count": null,
   "id": "5630aaaa-dc8b-4917-b9fa-ae0924999720",
   "metadata": {},
   "outputs": [],
   "source": [
    "operator_route_gdf2.is_rail.value_counts()"
   ]
  },
  {
   "cell_type": "code",
   "execution_count": null,
   "id": "3ecc56aa-63ce-402b-8136-a847fd5c0d11",
   "metadata": {},
   "outputs": [],
   "source": [
    "operator_route_gdf2.organization_name.value_counts()"
   ]
  },
  {
   "cell_type": "code",
   "execution_count": null,
   "id": "5798606e-2ea4-4ab0-a6d8-a5597a51e66f",
   "metadata": {},
   "outputs": [],
   "source": [
    "operator_route_gdf2.schedule_gtfs_dataset_key.unique()"
   ]
  },
  {
   "cell_type": "markdown",
   "id": "26d11950-fca8-4f5b-8d17-2b9fa0aa368c",
   "metadata": {},
   "source": [
    "### Why does City of Santa Maria have multiple schedule_gtfs_dataset_keys?"
   ]
  },
  {
   "cell_type": "code",
   "execution_count": null,
   "id": "81fbd586-cc2d-4a70-97a6-5b25228684b8",
   "metadata": {},
   "outputs": [],
   "source": [
    "operator_route_gdf2.groupby([\"organization_name\", \"schedule_gtfs_dataset_key\"]).agg(\n",
    "    {\"route_short_name\": \"nunique\"}\n",
    ")"
   ]
  },
  {
   "cell_type": "code",
   "execution_count": null,
   "id": "568e2a00-8f8c-451c-8b6d-ae331d18471c",
   "metadata": {},
   "outputs": [],
   "source": [
    "operator_route_gdf2.drop(columns=[\"service_date\"]).explore(\"organization_name\")"
   ]
  },
  {
   "cell_type": "code",
   "execution_count": null,
   "id": "bd466515-a3cd-473a-a01a-2e73f9507104",
   "metadata": {},
   "outputs": [],
   "source": [
    "# operator_route_gdf2.drop(columns = [\"service_date\"]).explore(\"shape_array_key\")"
   ]
  },
  {
   "cell_type": "markdown",
   "id": "b1ddfdee-292e-4d57-bb1e-17248e87fce8",
   "metadata": {},
   "source": [
    "### Starting from here [`gtfs_funnel/operator_scheduled_stats`](https://github.com/cal-itp/data-analyses/blob/4dc340343a60b45ad94217c3efd91f807b03ebc2/gtfs_funnel/operator_scheduled_stats.py#L148)"
   ]
  },
  {
   "cell_type": "code",
   "execution_count": null,
   "id": "d14199f0-63e5-466c-a122-51b2c2abaa75",
   "metadata": {},
   "outputs": [],
   "source": [
    "analysis_date = \"2024-11-13\""
   ]
  },
  {
   "cell_type": "code",
   "execution_count": null,
   "id": "7a908db1-ddaa-41f9-b0dd-41b0a6046ad6",
   "metadata": {},
   "outputs": [],
   "source": []
  },
  {
   "cell_type": "code",
   "execution_count": null,
   "id": "7c57add2-f72c-4c22-9ca6-e5efe879cab3",
   "metadata": {},
   "outputs": [],
   "source": [
    "schd_keys = list(operator_route_gdf2.schedule_gtfs_dataset_key.unique())"
   ]
  },
  {
   "cell_type": "code",
   "execution_count": null,
   "id": "7a76026d-88e6-49a3-83f8-b20836b70d7a",
   "metadata": {},
   "outputs": [],
   "source": []
  },
  {
   "cell_type": "markdown",
   "id": "a97faf62-2c23-428a-a2fa-23cb8fb7f11e",
   "metadata": {},
   "source": [
    "#### Longest shape does have all the routes..."
   ]
  },
  {
   "cell_type": "code",
   "execution_count": null,
   "id": "33484c6b-1422-42f8-918e-a7aa70531aa3",
   "metadata": {},
   "outputs": [],
   "source": [
    "longest_shape_gdf = operator_scheduled_stats.longest_shape_by_route(analysis_date)"
   ]
  },
  {
   "cell_type": "code",
   "execution_count": null,
   "id": "3bcb40ca-7e6a-432e-a70c-e1817f7eebe9",
   "metadata": {},
   "outputs": [],
   "source": [
    "longest_shape_gdf2 = longest_shape_gdf.loc[\n",
    "    longest_shape_gdf.schedule_gtfs_dataset_key.isin(schd_keys)\n",
    "]"
   ]
  },
  {
   "cell_type": "code",
   "execution_count": null,
   "id": "86963a9f-3456-48d5-a386-05c211fe93f4",
   "metadata": {},
   "outputs": [],
   "source": [
    "longest_shape_gdf2.columns"
   ]
  },
  {
   "cell_type": "code",
   "execution_count": null,
   "id": "b256ef9b-82c1-4832-ac54-19ca9319bdc4",
   "metadata": {},
   "outputs": [],
   "source": [
    "longest_shape_gdf2.info()"
   ]
  },
  {
   "cell_type": "code",
   "execution_count": null,
   "id": "6db42351-2a52-4e00-a265-33e5743cdea2",
   "metadata": {},
   "outputs": [],
   "source": [
    "longest_shape_gdf2.route_id.value_counts()"
   ]
  },
  {
   "cell_type": "code",
   "execution_count": null,
   "id": "ca9a6950-6b83-4ec7-bc55-cdc79f3a0843",
   "metadata": {},
   "outputs": [],
   "source": [
    "# longest_shape_gdf2.explore(\"schedule_gtfs_dataset_key\")"
   ]
  },
  {
   "cell_type": "code",
   "execution_count": null,
   "id": "6dfe2c94-098a-4816-8255-278b85a43f0b",
   "metadata": {},
   "outputs": [],
   "source": [
    "longest_shape_gdf2.groupby([\"schedule_gtfs_dataset_key\", \"route_id\"]).agg(\n",
    "    {\"route_length_miles\": \"max\"}\n",
    ")"
   ]
  },
  {
   "cell_type": "markdown",
   "id": "69d6cb38-2073-4119-bff6-bdb777038b43",
   "metadata": {},
   "source": [
    "#### Somewhere along the way the routes are cut...maybe b/c of `direction_id`"
   ]
  },
  {
   "cell_type": "code",
   "execution_count": null,
   "id": "859ad004-4b41-41d3-9da7-0c5524daa98e",
   "metadata": {},
   "outputs": [],
   "source": [
    "OPERATOR_EXPORT = GTFS_DATA_DICT.schedule_tables.operator_scheduled_stats"
   ]
  },
  {
   "cell_type": "code",
   "execution_count": null,
   "id": "c6e5a1f3-4aba-40ec-811b-7ea6c1e01655",
   "metadata": {},
   "outputs": [],
   "source": [
    "SCHED_GCS"
   ]
  },
  {
   "cell_type": "code",
   "execution_count": null,
   "id": "537949dd-a008-4643-bbd1-de0dc142026b",
   "metadata": {},
   "outputs": [],
   "source": [
    "GTFS_DATA_DICT.schedule_tables.operator_routes"
   ]
  },
  {
   "cell_type": "code",
   "execution_count": null,
   "id": "4ac524dc-d27e-43b5-94ad-e8390d5c7f0f",
   "metadata": {},
   "outputs": [],
   "source": [
    "dec_url = \"gs://calitp-analytics-data/data-analyses/gtfs_schedule/operator_profiles/operator_routes_2024-12-11.parquet\""
   ]
  },
  {
   "cell_type": "code",
   "execution_count": null,
   "id": "e8b5d8f7-f6cf-4b24-a77b-685bfd444966",
   "metadata": {},
   "outputs": [],
   "source": [
    "dec_df = gpd.read_parquet(dec_url)"
   ]
  },
  {
   "cell_type": "code",
   "execution_count": null,
   "id": "bb5c8db7-baa1-4b4a-a018-60c419e48343",
   "metadata": {},
   "outputs": [],
   "source": [
    "dec_df.organization_name.value_counts().head()"
   ]
  },
  {
   "cell_type": "code",
   "execution_count": null,
   "id": "e4037d38-d6f7-4471-875c-3471d0219bfe",
   "metadata": {},
   "outputs": [],
   "source": [
    "dec_df.loc[\n",
    "    dec_df.organization_name == \"Alameda-Contra Costa Transit District\"\n",
    "].head().drop(columns=[\"geometry\"]).T"
   ]
  },
  {
   "cell_type": "code",
   "execution_count": null,
   "id": "19012a85-7ef7-4188-870b-251eb600034f",
   "metadata": {},
   "outputs": [],
   "source": [
    "dec_df2 = dec_df.loc[dec_df.schedule_gtfs_dataset_key.isin(schd_keys)]"
   ]
  },
  {
   "cell_type": "code",
   "execution_count": null,
   "id": "1eae8307-2d99-41e4-b541-ca2fc1c68b02",
   "metadata": {},
   "outputs": [],
   "source": [
    "dec_df2.shape"
   ]
  },
  {
   "cell_type": "code",
   "execution_count": null,
   "id": "5c31f929-f77e-4fb3-a571-3b0577c6d3f5",
   "metadata": {},
   "outputs": [],
   "source": [
    "type(dec_df2)"
   ]
  },
  {
   "cell_type": "code",
   "execution_count": null,
   "id": "0751e612-789f-4dcc-b771-0b6af7960ff7",
   "metadata": {},
   "outputs": [],
   "source": [
    "dec_df2.drop(columns=[\"geometry\"]).T"
   ]
  },
  {
   "cell_type": "code",
   "execution_count": null,
   "id": "45eb690e-e5a8-4798-885a-a5a738bc8062",
   "metadata": {},
   "outputs": [],
   "source": [
    "# dec_df2.explore()"
   ]
  },
  {
   "cell_type": "markdown",
   "id": "ec619dd6-f042-492f-8b87-4adaf435241d",
   "metadata": {},
   "source": [
    "#### Find where in `gtfs_funnel` all the routes disappear"
   ]
  },
  {
   "cell_type": "code",
   "execution_count": null,
   "id": "b9e70fd7-3fa0-4d9f-899b-e1e3eea03151",
   "metadata": {},
   "outputs": [],
   "source": [
    "group_cols = [\"schedule_gtfs_dataset_key\"]"
   ]
  },
  {
   "cell_type": "code",
   "execution_count": null,
   "id": "1fbc60bb-62bc-4a66-956e-7a4c5ea22371",
   "metadata": {},
   "outputs": [],
   "source": [
    "longest_shape_gdf2.info()"
   ]
  },
  {
   "cell_type": "markdown",
   "id": "f2c71b31-c05c-40e2-a70b-d1f1276ecf99",
   "metadata": {},
   "source": [
    "### something is going on in `operator_scheduled_stats.schedule_stats_by_operator`"
   ]
  },
  {
   "cell_type": "code",
   "execution_count": null,
   "id": "6a006462-1cd0-4b9e-9209-e8658964adc7",
   "metadata": {},
   "outputs": [],
   "source": [
    "ROUTE_TYPOLOGY = GTFS_DATA_DICT.schedule_tables.route_typologies"
   ]
  },
  {
   "cell_type": "code",
   "execution_count": null,
   "id": "9a330bd8-450f-4a84-8a74-3e07bbffdcf1",
   "metadata": {},
   "outputs": [],
   "source": [
    "route_typology = pd.read_parquet(f\"{SCHED_GCS}{ROUTE_TYPOLOGY}_{analysis_date}.parquet\")"
   ]
  },
  {
   "cell_type": "code",
   "execution_count": null,
   "id": "2e334d8c-5377-4ec3-8f78-a28c112429c7",
   "metadata": {},
   "outputs": [],
   "source": [
    "from route_typologies import route_typologies"
   ]
  },
  {
   "cell_type": "code",
   "execution_count": null,
   "id": "d89002ae-c699-46df-8e1f-cd3eb74c3158",
   "metadata": {},
   "outputs": [],
   "source": [
    "route_typology_grouped = (\n",
    "    route_typology.groupby([\"schedule_gtfs_dataset_key\", \"route_id\"])\n",
    "    .agg({**{f\"is_{c}\": \"sum\" for c in route_typologies}})\n",
    "    .reset_index()\n",
    ")"
   ]
  },
  {
   "cell_type": "code",
   "execution_count": null,
   "id": "82df1d3d-3afa-4fc9-bb16-578d6580a351",
   "metadata": {},
   "outputs": [],
   "source": [
    "route_typology_grouped2 = route_typology_grouped.loc[\n",
    "    route_typology_grouped.schedule_gtfs_dataset_key.isin(schd_keys)\n",
    "]"
   ]
  },
  {
   "cell_type": "markdown",
   "id": "a63499cd-d3dc-4425-b62c-31fe43341f38",
   "metadata": {},
   "source": [
    "#### Routes are missing for Santa Maria and Capitol Corridor in `ROUTE_TYPOLOGY`"
   ]
  },
  {
   "cell_type": "code",
   "execution_count": null,
   "id": "de4c9c7f-0f3a-472b-b255-68518cbd6ddf",
   "metadata": {},
   "outputs": [],
   "source": [
    "route_typology_grouped2.T"
   ]
  },
  {
   "cell_type": "code",
   "execution_count": null,
   "id": "b8f73717-1c5d-4b6a-8498-cd908e6302f3",
   "metadata": {},
   "outputs": [],
   "source": [
    "route_gdf = longest_shape_gdf2.merge(\n",
    "    route_typology_grouped2, on=[\"schedule_gtfs_dataset_key\", \"route_id\"], how=\"outer\"\n",
    ")"
   ]
  },
  {
   "cell_type": "code",
   "execution_count": null,
   "id": "fe956bad-5a37-4f3c-9e93-0e3fc86b1927",
   "metadata": {},
   "outputs": [],
   "source": [
    "route_gdf.shape"
   ]
  },
  {
   "cell_type": "code",
   "execution_count": null,
   "id": "72db2ec7-427f-4cab-b2eb-e75a2b23d856",
   "metadata": {},
   "outputs": [],
   "source": [
    "route_gdf.drop(columns=[\"geometry\"])"
   ]
  },
  {
   "cell_type": "code",
   "execution_count": null,
   "id": "d5395dad-8d87-45aa-90fb-8d2da3a8c591",
   "metadata": {},
   "outputs": [],
   "source": [
    "# route_gdf2.explore(\"schedule_gtfs_dataset_key\")"
   ]
  },
  {
   "cell_type": "markdown",
   "id": "1798ab2b-8847-4111-bcd1-9421bbfc2a4a",
   "metadata": {},
   "source": [
    "### Change merge from `inner` to `left`"
   ]
  },
  {
   "cell_type": "code",
   "execution_count": null,
   "id": "e4224b34-f08c-4cc5-8853-1a588f6c59ef",
   "metadata": {},
   "outputs": [],
   "source": [
    "f\"{GTFS_DATA_DICT.digest_tables.dir}{GTFS_DATA_DICT.digest_tables.operator_routes_map}.parquet\""
   ]
  },
  {
   "cell_type": "code",
   "execution_count": null,
   "id": "5becb3cf-d295-4c85-9dc9-716c657ea19c",
   "metadata": {},
   "outputs": [],
   "source": [
    "SCHED_GCS"
   ]
  },
  {
   "cell_type": "code",
   "execution_count": null,
   "id": "6146956f-0745-4844-8a84-51ce772fb0e3",
   "metadata": {},
   "outputs": [],
   "source": [
    "GTFS_DATA_DICT.schedule_tables.operator_routes"
   ]
  },
  {
   "cell_type": "code",
   "execution_count": null,
   "id": "017c78bf-9bbf-4a99-a867-c606c6f55858",
   "metadata": {},
   "outputs": [],
   "source": [
    "my_test_url = \"gs://calitp-analytics-data/data-analyses/gtfs_schedule/operator_profiles/operator_routes_2024-12-11_AH.parquet\""
   ]
  },
  {
   "cell_type": "code",
   "execution_count": null,
   "id": "eea9fb55-53e1-4e83-8228-fdf9a5c2cfac",
   "metadata": {},
   "outputs": [],
   "source": [
    "f\"{GTFS_DATA_DICT.digest_tables.dir}{GTFS_DATA_DICT.digest_tables.operator_profiles}.parquet\""
   ]
  },
  {
   "cell_type": "code",
   "execution_count": null,
   "id": "3ce8f60a-d25c-4004-9c34-c7c86bd56079",
   "metadata": {},
   "outputs": [],
   "source": [
    "test_gdf = gpd.read_parquet(my_test_url)"
   ]
  },
  {
   "cell_type": "code",
   "execution_count": null,
   "id": "890fd31a-987f-45de-85e7-e1535d7c1cf2",
   "metadata": {},
   "outputs": [],
   "source": [
    "test_gdf2 = test_gdf.loc[test_gdf.schedule_gtfs_dataset_key.isin(schd_keys)]"
   ]
  },
  {
   "cell_type": "code",
   "execution_count": null,
   "id": "47514189-ff4a-43f7-9de6-85c1c1cb79a0",
   "metadata": {},
   "outputs": [],
   "source": [
    "test_gdf2.explore(\"route_id\")"
   ]
  },
  {
   "cell_type": "markdown",
   "id": "648e80d6-619d-424d-8615-23d2c11f8e01",
   "metadata": {},
   "source": [
    "#### Test with all the dates."
   ]
  },
  {
   "cell_type": "code",
   "execution_count": null,
   "id": "aeaa5d4c-f34d-4a56-895b-058940878dfa",
   "metadata": {},
   "outputs": [],
   "source": [
    "GTFS_DATA_DICT.schedule_tables.operator_routes"
   ]
  },
  {
   "cell_type": "code",
   "execution_count": null,
   "id": "a4d04121-1df4-4b78-8193-99d2843e6e89",
   "metadata": {},
   "outputs": [],
   "source": [
    "RT_SCHED_GCS"
   ]
  },
  {
   "cell_type": "code",
   "execution_count": null,
   "id": "59e431ef-d831-408f-8f94-93434438e3ad",
   "metadata": {},
   "outputs": [],
   "source": [
    "f\"{OPERATOR_ROUTE}_AH_test\""
   ]
  },
  {
   "cell_type": "code",
   "execution_count": null,
   "id": "7a562a65-a68c-4d3b-8b35-5039b4757e6f",
   "metadata": {},
   "outputs": [],
   "source": [
    "f\"{GTFS_DATA_DICT.digest_tables.dir}{GTFS_DATA_DICT.digest_tables.operator_routes_map}.parquet\""
   ]
  },
  {
   "cell_type": "code",
   "execution_count": null,
   "id": "a5a00166-be9e-46a1-bb35-ba233162ef5b",
   "metadata": {},
   "outputs": [],
   "source": [
    "test_df = gpd.read_parquet(\n",
    "    \"gs://calitp-analytics-data/data-analyses/rt_vs_schedule/digest/operator_routes_AH_test.parquet\"\n",
    ")"
   ]
  },
  {
   "cell_type": "code",
   "execution_count": null,
   "id": "62dc4282-1b72-4768-969d-48d3e8250a8a",
   "metadata": {},
   "outputs": [],
   "source": [
    "test_df.columns"
   ]
  },
  {
   "cell_type": "code",
   "execution_count": null,
   "id": "f83624e0-be98-44e7-9ede-895748bc0f96",
   "metadata": {},
   "outputs": [],
   "source": [
    "op_routes_gdf = test_df.loc[test_df.organization_name.isin(org_name_lists)]"
   ]
  },
  {
   "cell_type": "code",
   "execution_count": null,
   "id": "928454c5-0cf1-4887-97b0-bd1931366178",
   "metadata": {},
   "outputs": [],
   "source": [
    "# Find the most recent geography for each route.\n",
    "op_routes_gdf = op_routes_gdf.sort_values(by=[\"service_date\"], ascending=False)\n",
    "\n",
    "# Keep only the most recent row.\n",
    "op_routes_gdf = op_routes_gdf.drop_duplicates(\n",
    "    subset=[\"route_long_name\", \"route_short_name\", \"route_combined_name\"]\n",
    ")\n",
    "\n",
    "# Drop service_dates\n",
    "op_routes_gdf = op_routes_gdf.drop(columns=[\"service_date\"])"
   ]
  },
  {
   "cell_type": "code",
   "execution_count": null,
   "id": "fdec7a7e-8de9-4817-969d-dc867ed1605e",
   "metadata": {},
   "outputs": [],
   "source": [
    "op_routes_gdf.organization_name.value_counts()"
   ]
  },
  {
   "cell_type": "code",
   "execution_count": null,
   "id": "ec771a75-0095-4f0e-a2c0-0de5e886492d",
   "metadata": {},
   "outputs": [],
   "source": [
    "op_routes_gdf.loc[op_routes_gdf.organization_name == \"City of Santa Maria\"].explore(\n",
    "    \"route_long_name\"\n",
    ")"
   ]
  }
 ],
 "metadata": {
  "kernelspec": {
   "display_name": "Python 3 (ipykernel)",
   "language": "python",
   "name": "python3"
  },
  "language_info": {
   "codemirror_mode": {
    "name": "ipython",
    "version": 3
   },
   "file_extension": ".py",
   "mimetype": "text/x-python",
   "name": "python",
   "nbconvert_exporter": "python",
   "pygments_lexer": "ipython3",
   "version": "3.9.13"
  }
 },
 "nbformat": 4,
 "nbformat_minor": 5
}
