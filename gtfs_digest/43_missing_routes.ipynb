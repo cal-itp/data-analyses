{
 "cells": [
  {
   "cell_type": "markdown",
   "id": "60576aa4-84aa-4c2f-9b2d-e656af3e3c12",
   "metadata": {},
   "source": [
    "## Find Missing Routes: 2 operators. \n",
    "* [Issue](https://github.com/cal-itp/data-analyses/issues/1312): Capital Corridor doesn't have any rail routes. \n",
    "* [Most of Santa Maria's routes not showing up in GTFS Digest](https://github.com/cal-itp/data-analyses/issues/1313)\n",
    "* `cd data-analyses/rt_segment_speeds && pip install -r requirements.txt && cd ../_shared_utils && make setup_env && cd ../gtfs_digest`\n",
    "* 1/7: the routes are appearing in `the longest shape` but not appearing in `route_typologies`"
   ]
  },
  {
   "cell_type": "code",
   "execution_count": 1,
   "id": "c1ae0965-8810-409c-b0f1-a15d4bf18199",
   "metadata": {},
   "outputs": [],
   "source": [
    "import geopandas as gpd\n",
    "import merge_data\n",
    "import numpy as np\n",
    "import pandas as pd\n",
    "from segment_speed_utils import gtfs_schedule_wrangling, helpers, time_series_utils\n",
    "from shared_utils import catalog_utils, rt_dates, rt_utils\n",
    "from update_vars import GTFS_DATA_DICT, RT_SCHED_GCS, SCHED_GCS, SEGMENT_GCS"
   ]
  },
  {
   "cell_type": "code",
   "execution_count": 2,
   "id": "74eaf3a5-711d-447d-a945-93cc24dd6f14",
   "metadata": {},
   "outputs": [],
   "source": [
    "pd.options.display.max_columns = 100\n",
    "pd.options.display.float_format = \"{:.2f}\".format\n",
    "pd.set_option(\"display.max_rows\", None)\n",
    "pd.set_option(\"display.max_colwidth\", None)"
   ]
  },
  {
   "cell_type": "code",
   "execution_count": 3,
   "id": "1da55301-1cb1-4187-a90c-9ed3d1c39706",
   "metadata": {},
   "outputs": [],
   "source": [
    "org_name_lists = [\"Capitol Corridor Joint Powers Authority\", \"City of Santa Maria\"]"
   ]
  },
  {
   "cell_type": "code",
   "execution_count": 4,
   "id": "370e6e0d-edb8-40ab-8a27-b299ea9c279e",
   "metadata": {},
   "outputs": [],
   "source": [
    "analysis_date_list = rt_dates.y2024_dates"
   ]
  },
  {
   "cell_type": "code",
   "execution_count": 5,
   "id": "05bd6fee-c007-4d01-a29e-05c30c478fcb",
   "metadata": {},
   "outputs": [],
   "source": [
    "one_analysis_date = \"2024-11-13\""
   ]
  },
  {
   "cell_type": "code",
   "execution_count": 6,
   "id": "29688d1c-3239-4bc0-935d-8947a426d02d",
   "metadata": {},
   "outputs": [],
   "source": [
    "schd_keys = [\n",
    "    \"5a8721fe96786fcd25fba1f8a0ee6358\",\n",
    "    \"73105f2d1cabc8170ab066d96863c5d5\",\n",
    "    \"f5a749dd65924e025b1293c58f95f8d6\",\n",
    "]"
   ]
  },
  {
   "cell_type": "code",
   "execution_count": 7,
   "id": "b4a5fd8f-b4ed-42b4-ab3a-199e0ce779ae",
   "metadata": {},
   "outputs": [],
   "source": [
    "import sys\n",
    "\n",
    "sys.path.append(\"../gtfs_funnel/\")\n",
    "import operator_scheduled_stats\n",
    "import schedule_stats_by_route_direction"
   ]
  },
  {
   "cell_type": "markdown",
   "id": "1739c2de-8d1c-4ec2-8bbf-a05838fb803e",
   "metadata": {},
   "source": [
    "### Fix `schd_vp_url`"
   ]
  },
  {
   "cell_type": "code",
   "execution_count": 8,
   "id": "38069e57-1172-4261-9312-c9e7da14619f",
   "metadata": {},
   "outputs": [],
   "source": [
    "schd_vp_url = f\"{GTFS_DATA_DICT.digest_tables.dir}{GTFS_DATA_DICT.digest_tables.route_schedule_vp}.parquet\""
   ]
  },
  {
   "cell_type": "markdown",
   "id": "f7fa5786-f171-416a-9766-249fcc2a39a4",
   "metadata": {},
   "source": [
    "#### `df_sched` is already missing a lot of the routes."
   ]
  },
  {
   "cell_type": "code",
   "execution_count": 9,
   "id": "b164eae4-f657-49e3-ada1-e059362e4689",
   "metadata": {},
   "outputs": [],
   "source": [
    "# Get cardinal direction for each route\n",
    "df_sched = merge_data.concatenate_schedule_by_route_direction(analysis_date_list)"
   ]
  },
  {
   "cell_type": "code",
   "execution_count": 10,
   "id": "b5c8be82-af6c-4255-a2c5-487acdb30e52",
   "metadata": {},
   "outputs": [],
   "source": [
    "df_sched2 = df_sched.loc[df_sched.schedule_gtfs_dataset_key.isin(schd_keys)]"
   ]
  },
  {
   "cell_type": "code",
   "execution_count": 11,
   "id": "5d50ad8e-7536-4187-812d-2591d3589d15",
   "metadata": {},
   "outputs": [
    {
     "data": {
      "text/plain": [
       "Shuttle                                 72\n",
       "5                                       27\n",
       "b3848f93-d26b-48a9-b6a6-5de22a4eab47     9\n",
       "Name: route_id, dtype: int64"
      ]
     },
     "execution_count": 11,
     "metadata": {},
     "output_type": "execute_result"
    }
   ],
   "source": [
    "df_sched2.route_id.value_counts()"
   ]
  },
  {
   "cell_type": "markdown",
   "id": "e9ece006-fc30-462c-b8f3-abdc3293075e",
   "metadata": {},
   "source": [
    "#### Go back to `gtfs_funnel/schedule_stats_by_route_direction`\n",
    "* https://github.com/cal-itp/data-analyses/blob/1ba0f544a01f99966a6e210dd11666b4fe4a146e/gtfs_funnel/schedule_stats_by_route_direction.py#L190"
   ]
  },
  {
   "cell_type": "code",
   "execution_count": null,
   "id": "04cf9fb1-7445-4e1f-b3fb-b6d779a82e29",
   "metadata": {},
   "outputs": [],
   "source": [
    "GTFS_DATA_DICT.rt_vs_schedule_tables.sched_route_direction_metrics"
   ]
  },
  {
   "cell_type": "markdown",
   "id": "24845d09-e06a-4f89-a0e2-e2a40274708c",
   "metadata": {},
   "source": [
    "##### `trip_metrics`: nothing is missing"
   ]
  },
  {
   "cell_type": "code",
   "execution_count": null,
   "id": "6472c0ff-a1d8-4882-91fd-cb15c0dd3c48",
   "metadata": {},
   "outputs": [],
   "source": [
    "trip_metrics = schedule_stats_by_route_direction.assemble_scheduled_trip_metrics(\n",
    "    one_analysis_date, GTFS_DATA_DICT\n",
    ")"
   ]
  },
  {
   "cell_type": "code",
   "execution_count": null,
   "id": "892a4479-3abf-47c7-8440-3a7074cd6095",
   "metadata": {},
   "outputs": [],
   "source": [
    "trip_metrics.head(1)"
   ]
  },
  {
   "cell_type": "code",
   "execution_count": null,
   "id": "da37674c-b332-456e-adcd-8af0fdf8fa94",
   "metadata": {},
   "outputs": [],
   "source": [
    "trip_metrics2 = trip_metrics.loc[trip_metrics.schedule_gtfs_dataset_key.isin(schd_keys)]"
   ]
  },
  {
   "cell_type": "code",
   "execution_count": null,
   "id": "571f4ec3-966d-4412-8d05-9f50ea7c159d",
   "metadata": {},
   "outputs": [],
   "source": [
    "trip_metrics2[\n",
    "    [\"schedule_gtfs_dataset_key\", \"route_id\", \"direction_id\"]\n",
    "].drop_duplicates()"
   ]
  },
  {
   "cell_type": "markdown",
   "id": "72613ac3-2ff9-4026-bf76-601b2b4ec0ca",
   "metadata": {},
   "source": [
    "##### Something is causing routes to drop off in `schedule_metrics_by_route_direction` even though I took out `direction_id`"
   ]
  },
  {
   "cell_type": "code",
   "execution_count": null,
   "id": "8391d0c3-f887-4aee-9088-f839186238a4",
   "metadata": {},
   "outputs": [],
   "source": [
    "route_group_merge_cols = [\"schedule_gtfs_dataset_key\", \"route_id\", \"direction_id\"]"
   ]
  },
  {
   "cell_type": "code",
   "execution_count": null,
   "id": "7ca4378e-70db-4958-9b66-a8167374769d",
   "metadata": {},
   "outputs": [],
   "source": [
    "route_group_merge_cols_no_dir_id = [\n",
    "    \"schedule_gtfs_dataset_key\",\n",
    "    \"route_id\",\n",
    "]"
   ]
  },
  {
   "cell_type": "code",
   "execution_count": null,
   "id": "a389a761-d6dd-42b9-a8aa-2e91bad1bc1f",
   "metadata": {},
   "outputs": [],
   "source": [
    "route_dir_metrics = (\n",
    "    schedule_stats_by_route_direction.schedule_metrics_by_route_direction(\n",
    "        trip_metrics2, one_analysis_date, route_group_merge_cols\n",
    "    )\n",
    ")"
   ]
  },
  {
   "cell_type": "code",
   "execution_count": null,
   "id": "92987a62-ed3f-4110-a38e-30c067d42060",
   "metadata": {},
   "outputs": [],
   "source": [
    "route_dir_metrics[\n",
    "    [\"schedule_gtfs_dataset_key\", \"route_id\", \"direction_id\"]\n",
    "].drop_duplicates()"
   ]
  },
  {
   "cell_type": "code",
   "execution_count": null,
   "id": "5b6bcbaf-18e4-42e8-8a7e-fcd074cec776",
   "metadata": {},
   "outputs": [],
   "source": [
    "service_freq_df = schedule_stats_by_route_direction.gtfs_schedule_wrangling.aggregate_time_of_day_to_peak_offpeak(\n",
    "    trip_metrics2, route_group_merge_cols, long_or_wide=\"long\"\n",
    ")"
   ]
  },
  {
   "cell_type": "code",
   "execution_count": null,
   "id": "715bb608-bbe0-4c3c-bc21-00f05ef23e08",
   "metadata": {},
   "outputs": [],
   "source": [
    "service_freq_df2 = schedule_stats_by_route_direction.gtfs_schedule_wrangling.aggregate_time_of_day_to_peak_offpeak(\n",
    "    trip_metrics2, route_group_merge_cols_no_dir_id, long_or_wide=\"long\"\n",
    ")"
   ]
  },
  {
   "cell_type": "code",
   "execution_count": null,
   "id": "70982351-1b72-42e4-a1c8-1625767c082b",
   "metadata": {},
   "outputs": [],
   "source": [
    "service_freq_df.route_id.value_counts()"
   ]
  },
  {
   "cell_type": "code",
   "execution_count": null,
   "id": "43f0d2fe-17ed-4b96-a58d-367323f78000",
   "metadata": {},
   "outputs": [],
   "source": [
    "service_freq_df2.route_id.value_counts()"
   ]
  },
  {
   "cell_type": "code",
   "execution_count": null,
   "id": "324f29c5-63d3-4daf-b45c-ec5c0f5ad10f",
   "metadata": {},
   "outputs": [],
   "source": [
    "metrics_df = (\n",
    "    trip_metrics2.groupby(route_group_merge_cols, observed=True, group_keys=False)\n",
    "    .agg(\n",
    "        {\n",
    "            \"median_stop_meters\": \"mean\",\n",
    "            # take mean of the median stop spacing for trip\n",
    "            # does this make sense?\n",
    "            # median is the single boiled down metric at the trip-level\n",
    "            \"scheduled_service_minutes\": \"mean\",\n",
    "        }\n",
    "    )\n",
    "    .reset_index()\n",
    "    .rename(\n",
    "        columns={\n",
    "            \"median_stop_meters\": \"avg_stop_meters\",\n",
    "            \"scheduled_service_minutes\": \"avg_scheduled_service_minutes\",\n",
    "        }\n",
    "    )\n",
    ")"
   ]
  },
  {
   "cell_type": "code",
   "execution_count": null,
   "id": "1a7d73df-14cd-437f-8236-624878d20531",
   "metadata": {},
   "outputs": [],
   "source": [
    "metrics_df.route_id.value_counts()"
   ]
  },
  {
   "cell_type": "code",
   "execution_count": null,
   "id": "0b866740-a6a9-436f-8f51-47a1d1a51d32",
   "metadata": {},
   "outputs": [],
   "source": [
    "metrics_df2 = (\n",
    "    trip_metrics2.groupby(\n",
    "        route_group_merge_cols_no_dir_id, observed=True, group_keys=False\n",
    "    )\n",
    "    .agg(\n",
    "        {\n",
    "            \"median_stop_meters\": \"mean\",\n",
    "            # take mean of the median stop spacing for trip\n",
    "            # does this make sense?\n",
    "            # median is the single boiled down metric at the trip-level\n",
    "            \"scheduled_service_minutes\": \"mean\",\n",
    "        }\n",
    "    )\n",
    "    .reset_index()\n",
    "    .rename(\n",
    "        columns={\n",
    "            \"median_stop_meters\": \"avg_stop_meters\",\n",
    "            \"scheduled_service_minutes\": \"avg_scheduled_service_minutes\",\n",
    "        }\n",
    "    )\n",
    ")"
   ]
  },
  {
   "cell_type": "code",
   "execution_count": null,
   "id": "159acfce-52a6-48a1-9e8c-ab8bb841c219",
   "metadata": {},
   "outputs": [],
   "source": [
    "metrics_df2.route_id.value_counts()"
   ]
  },
  {
   "cell_type": "markdown",
   "id": "1f845a83-ce88-4506-ac5e-7419f7fb9543",
   "metadata": {},
   "source": [
    "##### `gtfs_schedule_wrangling.most_common_shape_by_route_direction` is missing a lot of routes.\n",
    "* Located in `rt_segment_speeds/segment_speed_utils`"
   ]
  },
  {
   "cell_type": "code",
   "execution_count": null,
   "id": "e0632d62-bb4d-47d4-9082-b8ab16619359",
   "metadata": {},
   "outputs": [],
   "source": [
    "common_shape = gtfs_schedule_wrangling.most_common_shape_by_route_direction(\n",
    "    one_analysis_date\n",
    ")"
   ]
  },
  {
   "cell_type": "code",
   "execution_count": null,
   "id": "f90be31b-ea8b-44c7-a580-f90dafabcce4",
   "metadata": {},
   "outputs": [],
   "source": [
    "common_shape2 = common_shape.loc[common_shape.schedule_gtfs_dataset_key.isin(schd_keys)]"
   ]
  },
  {
   "cell_type": "code",
   "execution_count": null,
   "id": "f927f86e-6965-4d1d-913a-a5d6fcd074c1",
   "metadata": {},
   "outputs": [],
   "source": [
    "common_shape2[[\"route_id\"]].drop_duplicates()"
   ]
  },
  {
   "cell_type": "code",
   "execution_count": null,
   "id": "16ff8e2f-2316-4eb6-bb1d-20113c37ecc5",
   "metadata": {},
   "outputs": [],
   "source": [
    "route_dir_cols = [\"gtfs_dataset_key\", \"route_id\", \"direction_id\"]\n",
    "\n",
    "keep_trip_cols = route_dir_cols + [\"trip_instance_key\", \"shape_id\", \"shape_array_key\"]\n",
    "\n",
    "trips = helpers.import_scheduled_trips(\n",
    "    one_analysis_date, columns=keep_trip_cols, get_pandas=True\n",
    ").rename(columns={\"schedule_gtfs_dataset_key\": \"gtfs_dataset_key\"})\n",
    "sorting_order = [True for i in route_dir_cols]"
   ]
  },
  {
   "cell_type": "code",
   "execution_count": null,
   "id": "e90a5a5f-d612-4c24-918e-ff179dd26714",
   "metadata": {},
   "outputs": [],
   "source": [
    "trips.head(2)"
   ]
  },
  {
   "cell_type": "code",
   "execution_count": null,
   "id": "84ee110e-f00e-4b9c-9e12-a15aa4182da8",
   "metadata": {},
   "outputs": [],
   "source": [
    "trips2 = trips.loc[trips.gtfs_dataset_key.isin(schd_keys)]"
   ]
  },
  {
   "cell_type": "code",
   "execution_count": null,
   "id": "85626d18-3243-42a1-9762-62f353220753",
   "metadata": {},
   "outputs": [],
   "source": [
    "trips2[[\"route_id\", \"direction_id\"]].drop_duplicates()"
   ]
  },
  {
   "cell_type": "code",
   "execution_count": null,
   "id": "97001d18-73e2-4f46-8f64-10fe96063d63",
   "metadata": {},
   "outputs": [],
   "source": [
    "route_dir_cols = [\"gtfs_dataset_key\", \"route_id\", \"direction_id\"]"
   ]
  },
  {
   "cell_type": "code",
   "execution_count": null,
   "id": "b6c52756-8eb3-4ba9-b126-ee568754e658",
   "metadata": {},
   "outputs": [],
   "source": [
    "most_common_shape = (\n",
    "        trips2.groupby(route_dir_cols + [\"shape_id\", \"shape_array_key\"], \n",
    "                      observed=True, group_keys = False)\n",
    "        .agg({\"trip_instance_key\": \"count\"})\n",
    "        .reset_index()\n",
    "        .sort_values(route_dir_cols + [\"trip_instance_key\"], \n",
    "                     ascending = sorting_order + [False])\n",
    "        .drop_duplicates(subset=route_dir_cols)\n",
    "        .reset_index(drop=True)\n",
    "        [route_dir_cols + [\"shape_id\", \"shape_array_key\"]]\n",
    "    ).rename(columns = {\n",
    "        \"gtfs_dataset_key\": \"schedule_gtfs_dataset_key\", \n",
    "        \"shape_id\": \"common_shape_id\"\n",
    "    })  "
   ]
  },
  {
   "cell_type": "code",
   "execution_count": null,
   "id": "75f1830d-786e-439e-91d0-179ad6808d90",
   "metadata": {},
   "outputs": [],
   "source": [
    "most_common_shape"
   ]
  },
  {
   "cell_type": "code",
   "execution_count": null,
   "id": "c28b98f7-6122-4e78-9938-e852bb75b290",
   "metadata": {},
   "outputs": [],
   "source": [
    "route_wo_dir_cols = [\"gtfs_dataset_key\", \"route_id\"]"
   ]
  },
  {
   "cell_type": "code",
   "execution_count": null,
   "id": "8102bfb4-6121-4ae0-805f-6ee89994ad49",
   "metadata": {},
   "outputs": [],
   "source": [
    "sorting_order"
   ]
  },
  {
   "cell_type": "code",
   "execution_count": null,
   "id": "c4ad80fd-6623-4025-991e-528b87bfd116",
   "metadata": {},
   "outputs": [],
   "source": [
    "sorting_order + [False]"
   ]
  },
  {
   "cell_type": "code",
   "execution_count": null,
   "id": "93e20652-6eb8-4f21-8552-08b04a31c3bb",
   "metadata": {},
   "outputs": [],
   "source": [
    "route_wo_dir_cols + [\"trip_instance_key\"]"
   ]
  },
  {
   "cell_type": "code",
   "execution_count": null,
   "id": "2862dbbc-250a-4c7e-aa01-1bc6e9dfb932",
   "metadata": {},
   "outputs": [],
   "source": [
    "most_common_shape = (\n",
    "        trips2.groupby(route_wo_dir_cols + [\"shape_id\", \"shape_array_key\"], \n",
    "                      observed=True, group_keys = False)\n",
    "        .agg({\"trip_instance_key\": \"count\"})\n",
    "        .reset_index()\n",
    "        .sort_values(route_wo_dir_cols + [\"trip_instance_key\"], \n",
    "                     ascending = sorting_order)\n",
    "        .drop_duplicates(subset=route_wo_dir_cols)\n",
    "        .reset_index(drop=True)\n",
    "        [route_wo_dir_cols + [\"shape_id\", \"shape_array_key\"]]\n",
    "    ).rename(columns = {\n",
    "        \"gtfs_dataset_key\": \"schedule_gtfs_dataset_key\", \n",
    "        \"shape_id\": \"common_shape_id\"\n",
    "    })  "
   ]
  },
  {
   "cell_type": "code",
   "execution_count": null,
   "id": "fdb4fecd-66ba-4f8f-ad61-8d36a6da11b1",
   "metadata": {},
   "outputs": [],
   "source": [
    "most_common_shape"
   ]
  },
  {
   "cell_type": "markdown",
   "id": "995a5884-ee8c-4797-b664-0e09a94235ad",
   "metadata": {},
   "source": [
    "#### `df_avg_speeds` is also missing a lot of routes."
   ]
  },
  {
   "cell_type": "code",
   "execution_count": null,
   "id": "02ec6683-6032-4097-87cd-905eac0443e0",
   "metadata": {},
   "outputs": [],
   "source": [
    "SEGMENT_GCS"
   ]
  },
  {
   "cell_type": "code",
   "execution_count": null,
   "id": "afc4a9bc-4bf2-4547-be3a-03bf4e0e1d8f",
   "metadata": {},
   "outputs": [],
   "source": [
    "GTFS_DATA_DICT.rt_stop_times.route_dir_single_summary"
   ]
  },
  {
   "cell_type": "code",
   "execution_count": null,
   "id": "2f364b44-3fbd-4514-9f9c-74e3dd5d0903",
   "metadata": {},
   "outputs": [],
   "source": [
    "df_avg_speeds = merge_data.concatenate_speeds_by_route_direction(analysis_date_list)"
   ]
  },
  {
   "cell_type": "code",
   "execution_count": null,
   "id": "762a40b1-a498-41c3-95ef-0b2527c9bc71",
   "metadata": {},
   "outputs": [],
   "source": [
    "df_avg_speeds2 = df_avg_speeds.loc[\n",
    "    df_avg_speeds.schedule_gtfs_dataset_key.isin(schd_keys)\n",
    "]"
   ]
  },
  {
   "cell_type": "code",
   "execution_count": null,
   "id": "2c3dfd99-f530-4b0f-b7d6-2c87f47b3e7d",
   "metadata": {},
   "outputs": [],
   "source": [
    "df_avg_speeds2.route_id.value_counts()"
   ]
  },
  {
   "cell_type": "code",
   "execution_count": null,
   "id": "d9f61231-3ed0-40dd-9df8-d9f5cdb8fe8c",
   "metadata": {},
   "outputs": [],
   "source": [
    "df_rt_sched = merge_data.concatenate_rt_vs_schedule_by_route_direction(analysis_date_list)"
   ]
  },
  {
   "cell_type": "code",
   "execution_count": null,
   "id": "5b80c9d2-13bb-479a-bc09-0ff4f9d56fc3",
   "metadata": {},
   "outputs": [],
   "source": [
    "df_rt_sched2 = df_rt_sched.loc[\n",
    "    df_rt_sched.schedule_gtfs_dataset_key.isin(schd_keys)\n",
    "]"
   ]
  },
  {
   "cell_type": "code",
   "execution_count": null,
   "id": "86a0301b-d660-4afc-8eed-34817b1d7447",
   "metadata": {},
   "outputs": [],
   "source": [
    "df_rt_sched2.route_id.value_counts()"
   ]
  },
  {
   "cell_type": "markdown",
   "id": "77a3f68d-1244-4306-920c-27aed2f543bd",
   "metadata": {
    "tags": []
   },
   "source": [
    "### Fix Map: `gtfs_digest/merge_operator_data`"
   ]
  },
  {
   "cell_type": "code",
   "execution_count": null,
   "id": "cb99b4b5-7745-422c-a6c5-153f02ffc244",
   "metadata": {},
   "outputs": [],
   "source": [
    "OPERATOR_FILE = GTFS_DATA_DICT.digest_tables.operator_profiles\n",
    "OPERATOR_ROUTE = GTFS_DATA_DICT.digest_tables.operator_routes_map"
   ]
  },
  {
   "cell_type": "code",
   "execution_count": null,
   "id": "55faff71-f82c-46fc-a99d-dcc40205e100",
   "metadata": {},
   "outputs": [],
   "source": [
    "operator_route_gdf = gpd.read_parquet(\n",
    "    f\"{RT_SCHED_GCS}{OPERATOR_ROUTE}.parquet\",\n",
    ")"
   ]
  },
  {
   "cell_type": "code",
   "execution_count": null,
   "id": "9b2c852f-f053-406a-8274-8b4f015f10c9",
   "metadata": {},
   "outputs": [],
   "source": [
    "operator_route_gdf.columns"
   ]
  },
  {
   "cell_type": "code",
   "execution_count": null,
   "id": "89ccde0b-736c-4fc9-a294-8a12116823a8",
   "metadata": {},
   "outputs": [],
   "source": [
    "operator_route_gdf2.columns"
   ]
  },
  {
   "cell_type": "code",
   "execution_count": null,
   "id": "295aaf35-9ade-4f9e-bc4d-5b8ef95a1569",
   "metadata": {},
   "outputs": [],
   "source": [
    "len(operator_route_gdf2)"
   ]
  },
  {
   "cell_type": "code",
   "execution_count": null,
   "id": "5630aaaa-dc8b-4917-b9fa-ae0924999720",
   "metadata": {},
   "outputs": [],
   "source": [
    "operator_route_gdf2.is_rail.value_counts()"
   ]
  },
  {
   "cell_type": "code",
   "execution_count": null,
   "id": "3ecc56aa-63ce-402b-8136-a847fd5c0d11",
   "metadata": {},
   "outputs": [],
   "source": [
    "operator_route_gdf2.organization_name.value_counts()"
   ]
  },
  {
   "cell_type": "code",
   "execution_count": null,
   "id": "5798606e-2ea4-4ab0-a6d8-a5597a51e66f",
   "metadata": {},
   "outputs": [],
   "source": [
    "operator_route_gdf2.schedule_gtfs_dataset_key.unique()"
   ]
  },
  {
   "cell_type": "markdown",
   "id": "26d11950-fca8-4f5b-8d17-2b9fa0aa368c",
   "metadata": {},
   "source": [
    "### Why does City of Santa Maria have multiple schedule_gtfs_dataset_keys?"
   ]
  },
  {
   "cell_type": "code",
   "execution_count": null,
   "id": "81fbd586-cc2d-4a70-97a6-5b25228684b8",
   "metadata": {},
   "outputs": [],
   "source": [
    "operator_route_gdf2.groupby([\"organization_name\", \"schedule_gtfs_dataset_key\"]).agg(\n",
    "    {\"route_short_name\": \"nunique\"}\n",
    ")"
   ]
  },
  {
   "cell_type": "code",
   "execution_count": null,
   "id": "568e2a00-8f8c-451c-8b6d-ae331d18471c",
   "metadata": {},
   "outputs": [],
   "source": [
    "operator_route_gdf2.drop(columns=[\"service_date\"]).explore(\"organization_name\")"
   ]
  },
  {
   "cell_type": "code",
   "execution_count": null,
   "id": "bd466515-a3cd-473a-a01a-2e73f9507104",
   "metadata": {},
   "outputs": [],
   "source": [
    "# operator_route_gdf2.drop(columns = [\"service_date\"]).explore(\"shape_array_key\")"
   ]
  },
  {
   "cell_type": "markdown",
   "id": "b1ddfdee-292e-4d57-bb1e-17248e87fce8",
   "metadata": {},
   "source": [
    "### Starting from here [`gtfs_funnel/operator_scheduled_stats`](https://github.com/cal-itp/data-analyses/blob/4dc340343a60b45ad94217c3efd91f807b03ebc2/gtfs_funnel/operator_scheduled_stats.py#L148)"
   ]
  },
  {
   "cell_type": "code",
   "execution_count": null,
   "id": "d14199f0-63e5-466c-a122-51b2c2abaa75",
   "metadata": {},
   "outputs": [],
   "source": [
    "analysis_date = \"2024-11-13\""
   ]
  },
  {
   "cell_type": "code",
   "execution_count": null,
   "id": "7a908db1-ddaa-41f9-b0dd-41b0a6046ad6",
   "metadata": {},
   "outputs": [],
   "source": []
  },
  {
   "cell_type": "code",
   "execution_count": null,
   "id": "7c57add2-f72c-4c22-9ca6-e5efe879cab3",
   "metadata": {},
   "outputs": [],
   "source": [
    "schd_keys = list(operator_route_gdf2.schedule_gtfs_dataset_key.unique())"
   ]
  },
  {
   "cell_type": "code",
   "execution_count": null,
   "id": "7a76026d-88e6-49a3-83f8-b20836b70d7a",
   "metadata": {},
   "outputs": [],
   "source": []
  },
  {
   "cell_type": "markdown",
   "id": "a97faf62-2c23-428a-a2fa-23cb8fb7f11e",
   "metadata": {},
   "source": [
    "#### Longest shape does have all the routes..."
   ]
  },
  {
   "cell_type": "code",
   "execution_count": null,
   "id": "33484c6b-1422-42f8-918e-a7aa70531aa3",
   "metadata": {},
   "outputs": [],
   "source": [
    "longest_shape_gdf = operator_scheduled_stats.longest_shape_by_route(analysis_date)"
   ]
  },
  {
   "cell_type": "code",
   "execution_count": null,
   "id": "3bcb40ca-7e6a-432e-a70c-e1817f7eebe9",
   "metadata": {},
   "outputs": [],
   "source": [
    "longest_shape_gdf2 = longest_shape_gdf.loc[\n",
    "    longest_shape_gdf.schedule_gtfs_dataset_key.isin(schd_keys)\n",
    "]"
   ]
  },
  {
   "cell_type": "code",
   "execution_count": null,
   "id": "86963a9f-3456-48d5-a386-05c211fe93f4",
   "metadata": {},
   "outputs": [],
   "source": [
    "longest_shape_gdf2.columns"
   ]
  },
  {
   "cell_type": "code",
   "execution_count": null,
   "id": "b256ef9b-82c1-4832-ac54-19ca9319bdc4",
   "metadata": {},
   "outputs": [],
   "source": [
    "longest_shape_gdf2.info()"
   ]
  },
  {
   "cell_type": "code",
   "execution_count": null,
   "id": "6db42351-2a52-4e00-a265-33e5743cdea2",
   "metadata": {},
   "outputs": [],
   "source": [
    "longest_shape_gdf2.route_id.value_counts()"
   ]
  },
  {
   "cell_type": "code",
   "execution_count": null,
   "id": "ca9a6950-6b83-4ec7-bc55-cdc79f3a0843",
   "metadata": {},
   "outputs": [],
   "source": [
    "# longest_shape_gdf2.explore(\"schedule_gtfs_dataset_key\")"
   ]
  },
  {
   "cell_type": "code",
   "execution_count": null,
   "id": "6dfe2c94-098a-4816-8255-278b85a43f0b",
   "metadata": {},
   "outputs": [],
   "source": [
    "longest_shape_gdf2.groupby([\"schedule_gtfs_dataset_key\", \"route_id\"]).agg(\n",
    "    {\"route_length_miles\": \"max\"}\n",
    ")"
   ]
  },
  {
   "cell_type": "markdown",
   "id": "69d6cb38-2073-4119-bff6-bdb777038b43",
   "metadata": {},
   "source": [
    "#### Somewhere along the way the routes are cut...maybe b/c of `direction_id`"
   ]
  },
  {
   "cell_type": "code",
   "execution_count": null,
   "id": "859ad004-4b41-41d3-9da7-0c5524daa98e",
   "metadata": {},
   "outputs": [],
   "source": [
    "OPERATOR_EXPORT = GTFS_DATA_DICT.schedule_tables.operator_scheduled_stats"
   ]
  },
  {
   "cell_type": "code",
   "execution_count": null,
   "id": "c6e5a1f3-4aba-40ec-811b-7ea6c1e01655",
   "metadata": {},
   "outputs": [],
   "source": [
    "SCHED_GCS"
   ]
  },
  {
   "cell_type": "code",
   "execution_count": null,
   "id": "537949dd-a008-4643-bbd1-de0dc142026b",
   "metadata": {},
   "outputs": [],
   "source": [
    "GTFS_DATA_DICT.schedule_tables.operator_routes"
   ]
  },
  {
   "cell_type": "code",
   "execution_count": null,
   "id": "4ac524dc-d27e-43b5-94ad-e8390d5c7f0f",
   "metadata": {},
   "outputs": [],
   "source": [
    "dec_url = \"gs://calitp-analytics-data/data-analyses/gtfs_schedule/operator_profiles/operator_routes_2024-12-11.parquet\""
   ]
  },
  {
   "cell_type": "code",
   "execution_count": null,
   "id": "e8b5d8f7-f6cf-4b24-a77b-685bfd444966",
   "metadata": {},
   "outputs": [],
   "source": [
    "dec_df = gpd.read_parquet(dec_url)"
   ]
  },
  {
   "cell_type": "code",
   "execution_count": null,
   "id": "bb5c8db7-baa1-4b4a-a018-60c419e48343",
   "metadata": {},
   "outputs": [],
   "source": [
    "dec_df.organization_name.value_counts().head()"
   ]
  },
  {
   "cell_type": "code",
   "execution_count": null,
   "id": "e4037d38-d6f7-4471-875c-3471d0219bfe",
   "metadata": {},
   "outputs": [],
   "source": [
    "dec_df.loc[\n",
    "    dec_df.organization_name == \"Alameda-Contra Costa Transit District\"\n",
    "].head().drop(columns=[\"geometry\"]).T"
   ]
  },
  {
   "cell_type": "code",
   "execution_count": null,
   "id": "19012a85-7ef7-4188-870b-251eb600034f",
   "metadata": {},
   "outputs": [],
   "source": [
    "dec_df2 = dec_df.loc[dec_df.schedule_gtfs_dataset_key.isin(schd_keys)]"
   ]
  },
  {
   "cell_type": "code",
   "execution_count": null,
   "id": "1eae8307-2d99-41e4-b541-ca2fc1c68b02",
   "metadata": {},
   "outputs": [],
   "source": [
    "dec_df2.shape"
   ]
  },
  {
   "cell_type": "code",
   "execution_count": null,
   "id": "5c31f929-f77e-4fb3-a571-3b0577c6d3f5",
   "metadata": {},
   "outputs": [],
   "source": [
    "type(dec_df2)"
   ]
  },
  {
   "cell_type": "code",
   "execution_count": null,
   "id": "0751e612-789f-4dcc-b771-0b6af7960ff7",
   "metadata": {},
   "outputs": [],
   "source": [
    "dec_df2.drop(columns=[\"geometry\"]).T"
   ]
  },
  {
   "cell_type": "code",
   "execution_count": null,
   "id": "45eb690e-e5a8-4798-885a-a5a738bc8062",
   "metadata": {},
   "outputs": [],
   "source": [
    "# dec_df2.explore()"
   ]
  },
  {
   "cell_type": "markdown",
   "id": "ec619dd6-f042-492f-8b87-4adaf435241d",
   "metadata": {},
   "source": [
    "#### Find where in `gtfs_funnel` all the routes disappear"
   ]
  },
  {
   "cell_type": "code",
   "execution_count": null,
   "id": "b9e70fd7-3fa0-4d9f-899b-e1e3eea03151",
   "metadata": {},
   "outputs": [],
   "source": [
    "group_cols = [\"schedule_gtfs_dataset_key\"]"
   ]
  },
  {
   "cell_type": "code",
   "execution_count": null,
   "id": "1fbc60bb-62bc-4a66-956e-7a4c5ea22371",
   "metadata": {},
   "outputs": [],
   "source": [
    "longest_shape_gdf2.info()"
   ]
  },
  {
   "cell_type": "markdown",
   "id": "f2c71b31-c05c-40e2-a70b-d1f1276ecf99",
   "metadata": {},
   "source": [
    "### something is going on in `operator_scheduled_stats.schedule_stats_by_operator`"
   ]
  },
  {
   "cell_type": "code",
   "execution_count": null,
   "id": "6a006462-1cd0-4b9e-9209-e8658964adc7",
   "metadata": {},
   "outputs": [],
   "source": [
    "ROUTE_TYPOLOGY = GTFS_DATA_DICT.schedule_tables.route_typologies"
   ]
  },
  {
   "cell_type": "code",
   "execution_count": null,
   "id": "9a330bd8-450f-4a84-8a74-3e07bbffdcf1",
   "metadata": {},
   "outputs": [],
   "source": [
    "route_typology = pd.read_parquet(f\"{SCHED_GCS}{ROUTE_TYPOLOGY}_{analysis_date}.parquet\")"
   ]
  },
  {
   "cell_type": "code",
   "execution_count": null,
   "id": "2e334d8c-5377-4ec3-8f78-a28c112429c7",
   "metadata": {},
   "outputs": [],
   "source": [
    "from route_typologies import route_typologies"
   ]
  },
  {
   "cell_type": "code",
   "execution_count": null,
   "id": "d89002ae-c699-46df-8e1f-cd3eb74c3158",
   "metadata": {},
   "outputs": [],
   "source": [
    "route_typology_grouped = (\n",
    "    route_typology.groupby([\"schedule_gtfs_dataset_key\", \"route_id\"])\n",
    "    .agg({**{f\"is_{c}\": \"sum\" for c in route_typologies}})\n",
    "    .reset_index()\n",
    ")"
   ]
  },
  {
   "cell_type": "code",
   "execution_count": null,
   "id": "82df1d3d-3afa-4fc9-bb16-578d6580a351",
   "metadata": {},
   "outputs": [],
   "source": [
    "route_typology_grouped2 = route_typology_grouped.loc[\n",
    "    route_typology_grouped.schedule_gtfs_dataset_key.isin(schd_keys)\n",
    "]"
   ]
  },
  {
   "cell_type": "markdown",
   "id": "a63499cd-d3dc-4425-b62c-31fe43341f38",
   "metadata": {},
   "source": [
    "#### Routes are missing for Santa Maria and Capitol Corridor in `ROUTE_TYPOLOGY`"
   ]
  },
  {
   "cell_type": "code",
   "execution_count": null,
   "id": "de4c9c7f-0f3a-472b-b255-68518cbd6ddf",
   "metadata": {},
   "outputs": [],
   "source": [
    "route_typology_grouped2.T"
   ]
  },
  {
   "cell_type": "code",
   "execution_count": null,
   "id": "b8f73717-1c5d-4b6a-8498-cd908e6302f3",
   "metadata": {},
   "outputs": [],
   "source": [
    "route_gdf = longest_shape_gdf2.merge(\n",
    "    route_typology_grouped2, on=[\"schedule_gtfs_dataset_key\", \"route_id\"], how=\"outer\"\n",
    ")"
   ]
  },
  {
   "cell_type": "code",
   "execution_count": null,
   "id": "fe956bad-5a37-4f3c-9e93-0e3fc86b1927",
   "metadata": {},
   "outputs": [],
   "source": [
    "route_gdf.shape"
   ]
  },
  {
   "cell_type": "code",
   "execution_count": null,
   "id": "72db2ec7-427f-4cab-b2eb-e75a2b23d856",
   "metadata": {},
   "outputs": [],
   "source": [
    "route_gdf.drop(columns=[\"geometry\"])"
   ]
  },
  {
   "cell_type": "code",
   "execution_count": null,
   "id": "d5395dad-8d87-45aa-90fb-8d2da3a8c591",
   "metadata": {},
   "outputs": [],
   "source": [
    "# route_gdf2.explore(\"schedule_gtfs_dataset_key\")"
   ]
  },
  {
   "cell_type": "markdown",
   "id": "1798ab2b-8847-4111-bcd1-9421bbfc2a4a",
   "metadata": {},
   "source": [
    "### Change merge from `inner` to `left`"
   ]
  },
  {
   "cell_type": "code",
   "execution_count": null,
   "id": "e4224b34-f08c-4cc5-8853-1a588f6c59ef",
   "metadata": {},
   "outputs": [],
   "source": [
    "f\"{GTFS_DATA_DICT.digest_tables.dir}{GTFS_DATA_DICT.digest_tables.operator_routes_map}.parquet\""
   ]
  },
  {
   "cell_type": "code",
   "execution_count": null,
   "id": "5becb3cf-d295-4c85-9dc9-716c657ea19c",
   "metadata": {},
   "outputs": [],
   "source": [
    "SCHED_GCS"
   ]
  },
  {
   "cell_type": "code",
   "execution_count": null,
   "id": "6146956f-0745-4844-8a84-51ce772fb0e3",
   "metadata": {},
   "outputs": [],
   "source": [
    "GTFS_DATA_DICT.schedule_tables.operator_routes"
   ]
  },
  {
   "cell_type": "code",
   "execution_count": null,
   "id": "017c78bf-9bbf-4a99-a867-c606c6f55858",
   "metadata": {},
   "outputs": [],
   "source": [
    "my_test_url = \"gs://calitp-analytics-data/data-analyses/gtfs_schedule/operator_profiles/operator_routes_2024-12-11_AH.parquet\""
   ]
  },
  {
   "cell_type": "code",
   "execution_count": null,
   "id": "eea9fb55-53e1-4e83-8228-fdf9a5c2cfac",
   "metadata": {},
   "outputs": [],
   "source": [
    "f\"{GTFS_DATA_DICT.digest_tables.dir}{GTFS_DATA_DICT.digest_tables.operator_profiles}.parquet\""
   ]
  },
  {
   "cell_type": "code",
   "execution_count": null,
   "id": "3ce8f60a-d25c-4004-9c34-c7c86bd56079",
   "metadata": {},
   "outputs": [],
   "source": [
    "test_gdf = gpd.read_parquet(my_test_url)"
   ]
  },
  {
   "cell_type": "code",
   "execution_count": null,
   "id": "890fd31a-987f-45de-85e7-e1535d7c1cf2",
   "metadata": {},
   "outputs": [],
   "source": [
    "test_gdf2 = test_gdf.loc[test_gdf.schedule_gtfs_dataset_key.isin(schd_keys)]"
   ]
  },
  {
   "cell_type": "code",
   "execution_count": null,
   "id": "47514189-ff4a-43f7-9de6-85c1c1cb79a0",
   "metadata": {},
   "outputs": [],
   "source": [
    "test_gdf2.explore(\"route_id\")"
   ]
  },
  {
   "cell_type": "markdown",
   "id": "648e80d6-619d-424d-8615-23d2c11f8e01",
   "metadata": {},
   "source": [
    "#### Test with all the dates."
   ]
  },
  {
   "cell_type": "code",
   "execution_count": null,
   "id": "aeaa5d4c-f34d-4a56-895b-058940878dfa",
   "metadata": {},
   "outputs": [],
   "source": [
    "GTFS_DATA_DICT.schedule_tables.operator_routes"
   ]
  },
  {
   "cell_type": "code",
   "execution_count": null,
   "id": "a4d04121-1df4-4b78-8193-99d2843e6e89",
   "metadata": {},
   "outputs": [],
   "source": [
    "RT_SCHED_GCS"
   ]
  },
  {
   "cell_type": "code",
   "execution_count": null,
   "id": "59e431ef-d831-408f-8f94-93434438e3ad",
   "metadata": {},
   "outputs": [],
   "source": [
    "f\"{OPERATOR_ROUTE}_AH_test\""
   ]
  },
  {
   "cell_type": "code",
   "execution_count": null,
   "id": "7a562a65-a68c-4d3b-8b35-5039b4757e6f",
   "metadata": {},
   "outputs": [],
   "source": [
    "f\"{GTFS_DATA_DICT.digest_tables.dir}{GTFS_DATA_DICT.digest_tables.operator_routes_map}.parquet\""
   ]
  },
  {
   "cell_type": "code",
   "execution_count": null,
   "id": "a5a00166-be9e-46a1-bb35-ba233162ef5b",
   "metadata": {},
   "outputs": [],
   "source": [
    "test_df = gpd.read_parquet(\n",
    "    \"gs://calitp-analytics-data/data-analyses/rt_vs_schedule/digest/operator_routes_AH_test.parquet\"\n",
    ")"
   ]
  },
  {
   "cell_type": "code",
   "execution_count": null,
   "id": "62dc4282-1b72-4768-969d-48d3e8250a8a",
   "metadata": {},
   "outputs": [],
   "source": [
    "test_df.columns"
   ]
  },
  {
   "cell_type": "code",
   "execution_count": null,
   "id": "f83624e0-be98-44e7-9ede-895748bc0f96",
   "metadata": {},
   "outputs": [],
   "source": [
    "op_routes_gdf = test_df.loc[test_df.organization_name.isin(org_name_lists)]"
   ]
  },
  {
   "cell_type": "code",
   "execution_count": null,
   "id": "928454c5-0cf1-4887-97b0-bd1931366178",
   "metadata": {},
   "outputs": [],
   "source": [
    "# Find the most recent geography for each route.\n",
    "op_routes_gdf = op_routes_gdf.sort_values(by=[\"service_date\"], ascending=False)\n",
    "\n",
    "# Keep only the most recent row.\n",
    "op_routes_gdf = op_routes_gdf.drop_duplicates(\n",
    "    subset=[\"route_long_name\", \"route_short_name\", \"route_combined_name\"]\n",
    ")\n",
    "\n",
    "# Drop service_dates\n",
    "op_routes_gdf = op_routes_gdf.drop(columns=[\"service_date\"])"
   ]
  },
  {
   "cell_type": "code",
   "execution_count": null,
   "id": "fdec7a7e-8de9-4817-969d-dc867ed1605e",
   "metadata": {},
   "outputs": [],
   "source": [
    "op_routes_gdf.organization_name.value_counts()"
   ]
  },
  {
   "cell_type": "code",
   "execution_count": null,
   "id": "ec771a75-0095-4f0e-a2c0-0de5e886492d",
   "metadata": {},
   "outputs": [],
   "source": [
    "op_routes_gdf.loc[op_routes_gdf.organization_name == \"City of Santa Maria\"].explore(\n",
    "    \"route_long_name\"\n",
    ")"
   ]
  }
 ],
 "metadata": {
  "kernelspec": {
   "display_name": "Python 3 (ipykernel)",
   "language": "python",
   "name": "python3"
  },
  "language_info": {
   "codemirror_mode": {
    "name": "ipython",
    "version": 3
   },
   "file_extension": ".py",
   "mimetype": "text/x-python",
   "name": "python",
   "nbconvert_exporter": "python",
   "pygments_lexer": "ipython3",
   "version": "3.9.13"
  }
 },
 "nbformat": 4,
 "nbformat_minor": 5
}
