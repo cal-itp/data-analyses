{
 "cells": [
  {
   "cell_type": "markdown",
   "id": "9faad02b-fae9-4a1a-99e4-d3c90ab29233",
   "metadata": {},
   "source": [
    "## Add NTD Data to Section 1"
   ]
  },
  {
   "cell_type": "code",
   "execution_count": 1,
   "id": "49145d5f-7a1d-4cc1-a7ea-5d5bc87eadb9",
   "metadata": {},
   "outputs": [],
   "source": [
    "import os\n",
    "\n",
    "import pandas as pd\n",
    "from calitp_data_analysis.sql import query_sql\n",
    "from calitp_data_analysis.tables import tbls\n",
    "from shared_utils import catalog_utils\n",
    "from siuba import *"
   ]
  },
  {
   "cell_type": "code",
   "execution_count": 2,
   "id": "70f760f8-0719-4237-ba21-d98a101fa5e5",
   "metadata": {},
   "outputs": [],
   "source": [
    "pd.options.display.max_columns = 100\n",
    "pd.options.display.float_format = \"{:.2f}\".format\n",
    "pd.set_option(\"display.max_rows\", None)\n",
    "pd.set_option(\"display.max_colwidth\", None)"
   ]
  },
  {
   "cell_type": "code",
   "execution_count": 3,
   "id": "0c8fb746-1822-42fe-afe5-51040a49f5f8",
   "metadata": {},
   "outputs": [],
   "source": [
    "import yaml\n",
    "\n",
    "GTFS_DATA_DICT = catalog_utils.get_catalog(\"gtfs_analytics_data\")\n",
    "# Readable Dictionary\n",
    "with open(\"readable.yml\") as f:\n",
    "    readable_dict = yaml.safe_load(f)"
   ]
  },
  {
   "cell_type": "markdown",
   "id": "871cd393-7b4c-4219-9fc2-b6d42871eb98",
   "metadata": {},
   "source": [
    "### Operator Profiles - Keep only those that have RT data. "
   ]
  },
  {
   "cell_type": "code",
   "execution_count": 4,
   "id": "d9dcd596-68f0-4a29-bb03-d2a37b76e45d",
   "metadata": {},
   "outputs": [],
   "source": [
    "op_profiles_url = f\"{GTFS_DATA_DICT.digest_tables.dir}{GTFS_DATA_DICT.digest_tables.operator_profiles}.parquet\"\n",
    "op_profiles_df = (\n",
    "    pd.read_parquet(op_profiles_url)\n",
    "    .sort_values(by=[\"service_date\"], ascending=False)\n",
    "    .drop_duplicates(subset=[\"organization_name\"])[\n",
    "        [\n",
    "            \"schedule_gtfs_dataset_key\",\n",
    "            \"organization_name\",\n",
    "            \"organization_source_record_id\",\n",
    "            \"name\",\n",
    "        ]\n",
    "    ]\n",
    ")"
   ]
  },
  {
   "cell_type": "code",
   "execution_count": 5,
   "id": "b84a9f75-6abc-43b4-9aec-d39d2e75814b",
   "metadata": {},
   "outputs": [],
   "source": [
    "schd_vp_url = f\"{GTFS_DATA_DICT.digest_tables.dir}{GTFS_DATA_DICT.digest_tables.route_schedule_vp}.parquet\"\n",
    "schd_vp_df = (\n",
    "    pd.read_parquet(schd_vp_url)\n",
    "    .sort_values(by=[\"service_date\"], ascending=False)\n",
    "    .drop_duplicates(subset=[\"organization_name\"])[[\"organization_name\"]]\n",
    ")"
   ]
  },
  {
   "cell_type": "code",
   "execution_count": 6,
   "id": "70f75ff1-7bb3-4de0-bcc9-03b935998d10",
   "metadata": {},
   "outputs": [],
   "source": [
    "op_profiles_df2 = pd.merge(schd_vp_df, op_profiles_df, on=\"organization_name\")"
   ]
  },
  {
   "cell_type": "code",
   "execution_count": 7,
   "id": "83864289-ede4-4583-8b88-3eb3c315888f",
   "metadata": {},
   "outputs": [
    {
     "data": {
      "text/plain": [
       "(171, 4)"
      ]
     },
     "execution_count": 7,
     "metadata": {},
     "output_type": "execute_result"
    }
   ],
   "source": [
    "op_profiles_df2.shape"
   ]
  },
  {
   "cell_type": "code",
   "execution_count": 8,
   "id": "f139c40c-45d4-401c-9395-d71a218fe6b8",
   "metadata": {},
   "outputs": [
    {
     "data": {
      "text/html": [
       "<div>\n",
       "<style scoped>\n",
       "    .dataframe tbody tr th:only-of-type {\n",
       "        vertical-align: middle;\n",
       "    }\n",
       "\n",
       "    .dataframe tbody tr th {\n",
       "        vertical-align: top;\n",
       "    }\n",
       "\n",
       "    .dataframe thead th {\n",
       "        text-align: right;\n",
       "    }\n",
       "</style>\n",
       "<table border=\"1\" class=\"dataframe\">\n",
       "  <thead>\n",
       "    <tr style=\"text-align: right;\">\n",
       "      <th></th>\n",
       "      <th>organization_name</th>\n",
       "      <th>schedule_gtfs_dataset_key</th>\n",
       "      <th>organization_source_record_id</th>\n",
       "      <th>name</th>\n",
       "    </tr>\n",
       "  </thead>\n",
       "  <tbody>\n",
       "    <tr>\n",
       "      <th>0</th>\n",
       "      <td>Orange County Transportation Authority</td>\n",
       "      <td>ecd018ad66f497fb8f188ed5a71b284b</td>\n",
       "      <td>recfma7GNR5lQTTTg</td>\n",
       "      <td>OCTA Schedule</td>\n",
       "    </tr>\n",
       "  </tbody>\n",
       "</table>\n",
       "</div>"
      ],
      "text/plain": [
       "                        organization_name         schedule_gtfs_dataset_key  \\\n",
       "0  Orange County Transportation Authority  ecd018ad66f497fb8f188ed5a71b284b   \n",
       "\n",
       "  organization_source_record_id           name  \n",
       "0             recfma7GNR5lQTTTg  OCTA Schedule  "
      ]
     },
     "execution_count": 8,
     "metadata": {},
     "output_type": "execute_result"
    }
   ],
   "source": [
    "op_profiles_df2.head(1)"
   ]
  },
  {
   "cell_type": "code",
   "execution_count": 9,
   "id": "fd45917f-98f6-457d-8812-ae60d11c21f3",
   "metadata": {},
   "outputs": [],
   "source": [
    "# op_profiles_df.sort_values(by = ['organization_name'])"
   ]
  },
  {
   "cell_type": "markdown",
   "id": "94d3efcd-7a50-4a6c-b37f-7b78d7b094eb",
   "metadata": {},
   "source": [
    "### NTD \n",
    "* https://dbt-docs.calitp.org/#!/model/model.calitp_warehouse.dim_annual_ntd_agency_information\n",
    "* https://www.transit.dot.gov/ntd/data-product/2022-annual-database-agency-information\n",
    "* "
   ]
  },
  {
   "cell_type": "code",
   "execution_count": 10,
   "id": "42a9a471-c033-4cf9-9a98-ea6c0b4d7398",
   "metadata": {
    "scrolled": true,
    "tags": []
   },
   "outputs": [],
   "source": [
    "annual_ntd = (\n",
    "    tbls.mart_ntd.dim_annual_ntd_agency_information()\n",
    "    >> filter(_.year == 2022, _.state == \"CA\", _._is_current == True)\n",
    "    >> select(\n",
    "        _.number_of_state_counties,\n",
    "        _.uza_name,\n",
    "        _.density,\n",
    "        _.number_of_counties_with_service,\n",
    "        _.state_admin_funds_expended,\n",
    "        _.service_area_sq_miles,\n",
    "        _.population,\n",
    "        _.service_area_pop,\n",
    "        _.subrecipient_type,\n",
    "        _.primary_uza,\n",
    "        _.reporter_type,\n",
    "        _.organization_type,\n",
    "        _.agency_name,\n",
    "        _.voms_pt,\n",
    "        _.voms_do,\n",
    "    )\n",
    "    >> collect()\n",
    ")"
   ]
  },
  {
   "cell_type": "code",
   "execution_count": 11,
   "id": "b285601e-c1e9-4fe6-955f-b5614573b86b",
   "metadata": {},
   "outputs": [
    {
     "data": {
      "text/plain": [
       "Humboldt Transit Authority                                   2\n",
       "Los Angeles County Metropolitan Transportation Authority     2\n",
       "San Luis Obispo Regional Transit Authority                   2\n",
       "Kern Regional Transit                                        2\n",
       "Metropolitan Transportation Commission                       2\n",
       "Name: agency_name, dtype: int64"
      ]
     },
     "execution_count": 11,
     "metadata": {},
     "output_type": "execute_result"
    }
   ],
   "source": [
    "annual_ntd.agency_name.value_counts().head()"
   ]
  },
  {
   "cell_type": "code",
   "execution_count": 12,
   "id": "12b33ef0-a31e-4675-bc34-4c8386dac187",
   "metadata": {},
   "outputs": [],
   "source": [
    "ntd_cols = list(annual_ntd.columns)"
   ]
  },
  {
   "cell_type": "code",
   "execution_count": 13,
   "id": "2cb34f2f-e8d9-4be2-9b7a-99bc1401624f",
   "metadata": {},
   "outputs": [],
   "source": [
    "annual_ntd2 = annual_ntd.sort_values(by=ntd_cols, na_position='last')"
   ]
  },
  {
   "cell_type": "code",
   "execution_count": 14,
   "id": "5857a544-6894-4f6d-a4db-a441e34e3677",
   "metadata": {},
   "outputs": [],
   "source": [
    "annual_ntd3 = annual_ntd2.groupby('agency_name').first().reset_index()\n"
   ]
  },
  {
   "cell_type": "code",
   "execution_count": 15,
   "id": "33e59677-dc00-4362-b3e6-6bd3cc7304ea",
   "metadata": {},
   "outputs": [
    {
     "data": {
      "text/plain": [
       "((234, 15), 229)"
      ]
     },
     "execution_count": 15,
     "metadata": {},
     "output_type": "execute_result"
    }
   ],
   "source": [
    "annual_ntd.shape, annual_ntd.agency_name.nunique()"
   ]
  },
  {
   "cell_type": "code",
   "execution_count": 16,
   "id": "fbfaa277-5762-470f-8359-da436d2947e2",
   "metadata": {},
   "outputs": [
    {
     "data": {
      "text/plain": [
       "((229, 15), 229)"
      ]
     },
     "execution_count": 16,
     "metadata": {},
     "output_type": "execute_result"
    }
   ],
   "source": [
    "annual_ntd3.shape, annual_ntd3.agency_name.nunique()"
   ]
  },
  {
   "cell_type": "code",
   "execution_count": 17,
   "id": "ca25fa4d-c3b7-4654-97b8-be5f0dfec1f3",
   "metadata": {},
   "outputs": [
    {
     "data": {
      "text/html": [
       "<div>\n",
       "<style scoped>\n",
       "    .dataframe tbody tr th:only-of-type {\n",
       "        vertical-align: middle;\n",
       "    }\n",
       "\n",
       "    .dataframe tbody tr th {\n",
       "        vertical-align: top;\n",
       "    }\n",
       "\n",
       "    .dataframe thead th {\n",
       "        text-align: right;\n",
       "    }\n",
       "</style>\n",
       "<table border=\"1\" class=\"dataframe\">\n",
       "  <thead>\n",
       "    <tr style=\"text-align: right;\">\n",
       "      <th></th>\n",
       "      <th>number_of_state_counties</th>\n",
       "      <th>uza_name</th>\n",
       "      <th>density</th>\n",
       "      <th>number_of_counties_with_service</th>\n",
       "      <th>state_admin_funds_expended</th>\n",
       "      <th>service_area_sq_miles</th>\n",
       "      <th>population</th>\n",
       "      <th>service_area_pop</th>\n",
       "      <th>subrecipient_type</th>\n",
       "      <th>primary_uza</th>\n",
       "      <th>reporter_type</th>\n",
       "      <th>organization_type</th>\n",
       "      <th>agency_name</th>\n",
       "      <th>voms_pt</th>\n",
       "      <th>voms_do</th>\n",
       "    </tr>\n",
       "  </thead>\n",
       "  <tbody>\n",
       "    <tr>\n",
       "      <th>38</th>\n",
       "      <td>NaN</td>\n",
       "      <td>None</td>\n",
       "      <td>NaN</td>\n",
       "      <td>NaN</td>\n",
       "      <td>NaN</td>\n",
       "      <td>NaN</td>\n",
       "      <td>NaN</td>\n",
       "      <td>NaN</td>\n",
       "      <td>None</td>\n",
       "      <td>None</td>\n",
       "      <td>Group Plan Sponsor</td>\n",
       "      <td>County or Local Government Unit or Department of Transportation</td>\n",
       "      <td>Kern Regional Transit</td>\n",
       "      <td>NaN</td>\n",
       "      <td>NaN</td>\n",
       "    </tr>\n",
       "    <tr>\n",
       "      <th>142</th>\n",
       "      <td>NaN</td>\n",
       "      <td>None</td>\n",
       "      <td>NaN</td>\n",
       "      <td>NaN</td>\n",
       "      <td>NaN</td>\n",
       "      <td>NaN</td>\n",
       "      <td>NaN</td>\n",
       "      <td>NaN</td>\n",
       "      <td>Rural General Public Transit</td>\n",
       "      <td>None</td>\n",
       "      <td>Rural Reporter</td>\n",
       "      <td>Public Agency or Authority of Transit Service</td>\n",
       "      <td>Kern Regional Transit</td>\n",
       "      <td>40.00</td>\n",
       "      <td>NaN</td>\n",
       "    </tr>\n",
       "  </tbody>\n",
       "</table>\n",
       "</div>"
      ],
      "text/plain": [
       "     number_of_state_counties uza_name  density  \\\n",
       "38                        NaN     None      NaN   \n",
       "142                       NaN     None      NaN   \n",
       "\n",
       "     number_of_counties_with_service  state_admin_funds_expended  \\\n",
       "38                               NaN                         NaN   \n",
       "142                              NaN                         NaN   \n",
       "\n",
       "     service_area_sq_miles  population  service_area_pop  \\\n",
       "38                     NaN         NaN               NaN   \n",
       "142                    NaN         NaN               NaN   \n",
       "\n",
       "                subrecipient_type primary_uza       reporter_type  \\\n",
       "38                           None        None  Group Plan Sponsor   \n",
       "142  Rural General Public Transit        None      Rural Reporter   \n",
       "\n",
       "                                                   organization_type  \\\n",
       "38   County or Local Government Unit or Department of Transportation   \n",
       "142                    Public Agency or Authority of Transit Service   \n",
       "\n",
       "               agency_name  voms_pt  voms_do  \n",
       "38   Kern Regional Transit      NaN      NaN  \n",
       "142  Kern Regional Transit    40.00      NaN  "
      ]
     },
     "execution_count": 17,
     "metadata": {},
     "output_type": "execute_result"
    }
   ],
   "source": [
    "annual_ntd.loc[annual_ntd.agency_name == \"Kern Regional Transit\"]"
   ]
  },
  {
   "cell_type": "code",
   "execution_count": 18,
   "id": "25aaf2ea-1340-4f77-81ca-cc2f6152cdbe",
   "metadata": {},
   "outputs": [
    {
     "data": {
      "text/html": [
       "<div>\n",
       "<style scoped>\n",
       "    .dataframe tbody tr th:only-of-type {\n",
       "        vertical-align: middle;\n",
       "    }\n",
       "\n",
       "    .dataframe tbody tr th {\n",
       "        vertical-align: top;\n",
       "    }\n",
       "\n",
       "    .dataframe thead th {\n",
       "        text-align: right;\n",
       "    }\n",
       "</style>\n",
       "<table border=\"1\" class=\"dataframe\">\n",
       "  <thead>\n",
       "    <tr style=\"text-align: right;\">\n",
       "      <th></th>\n",
       "      <th>agency_name</th>\n",
       "      <th>number_of_state_counties</th>\n",
       "      <th>uza_name</th>\n",
       "      <th>density</th>\n",
       "      <th>number_of_counties_with_service</th>\n",
       "      <th>state_admin_funds_expended</th>\n",
       "      <th>service_area_sq_miles</th>\n",
       "      <th>population</th>\n",
       "      <th>service_area_pop</th>\n",
       "      <th>subrecipient_type</th>\n",
       "      <th>primary_uza</th>\n",
       "      <th>reporter_type</th>\n",
       "      <th>organization_type</th>\n",
       "      <th>voms_pt</th>\n",
       "      <th>voms_do</th>\n",
       "    </tr>\n",
       "  </thead>\n",
       "  <tbody>\n",
       "    <tr>\n",
       "      <th>142</th>\n",
       "      <td>Kern Regional Transit</td>\n",
       "      <td>NaN</td>\n",
       "      <td>None</td>\n",
       "      <td>NaN</td>\n",
       "      <td>NaN</td>\n",
       "      <td>NaN</td>\n",
       "      <td>NaN</td>\n",
       "      <td>NaN</td>\n",
       "      <td>NaN</td>\n",
       "      <td>Rural General Public Transit</td>\n",
       "      <td>None</td>\n",
       "      <td>Rural Reporter</td>\n",
       "      <td>Public Agency or Authority of Transit Service</td>\n",
       "      <td>40.00</td>\n",
       "      <td>NaN</td>\n",
       "    </tr>\n",
       "  </tbody>\n",
       "</table>\n",
       "</div>"
      ],
      "text/plain": [
       "               agency_name  number_of_state_counties uza_name  density  \\\n",
       "142  Kern Regional Transit                       NaN     None      NaN   \n",
       "\n",
       "     number_of_counties_with_service  state_admin_funds_expended  \\\n",
       "142                              NaN                         NaN   \n",
       "\n",
       "     service_area_sq_miles  population  service_area_pop  \\\n",
       "142                    NaN         NaN               NaN   \n",
       "\n",
       "                subrecipient_type primary_uza   reporter_type  \\\n",
       "142  Rural General Public Transit        None  Rural Reporter   \n",
       "\n",
       "                                 organization_type  voms_pt  voms_do  \n",
       "142  Public Agency or Authority of Transit Service    40.00      NaN  "
      ]
     },
     "execution_count": 18,
     "metadata": {},
     "output_type": "execute_result"
    }
   ],
   "source": [
    "annual_ntd3.loc[annual_ntd3.agency_name == \"Kern Regional Transit\"]"
   ]
  },
  {
   "cell_type": "markdown",
   "id": "be6ddfca-7c68-4102-b559-0aeb778ad68a",
   "metadata": {},
   "source": [
    "###  Mobility Marketplace provider map\n",
    "* https://dbt-docs.calitp.org/#!/model/model.calitp_warehouse.dim_mobility_mart_providers"
   ]
  },
  {
   "cell_type": "code",
   "execution_count": 19,
   "id": "71f78423-9c23-4855-891f-8c8e61fd3255",
   "metadata": {},
   "outputs": [],
   "source": [
    "mobility_marketplace = (\n",
    "    tbls.mart_transit_database.dim_mobility_mart_providers()\n",
    "     >> select(\n",
    "        _.agency_name,\n",
    "        _.counties_served,\n",
    "        _.hq_city,\n",
    "        _.hq_county,\n",
    "        _.is_public_entity,\n",
    "        _.is_publicly_operating,\n",
    "        _.funding_sources,\n",
    "        _.on_demand_vehicles_at_max_service,\n",
    "        _.vehicles_at_max_service\n",
    "    )\n",
    "    >> collect()\n",
    ")"
   ]
  },
  {
   "cell_type": "code",
   "execution_count": 20,
   "id": "7819e53b-13cb-45c5-9e3a-9e719302f28f",
   "metadata": {},
   "outputs": [],
   "source": [
    "mobility_marketplace_cols = list(mobility_marketplace.columns)"
   ]
  },
  {
   "cell_type": "code",
   "execution_count": 21,
   "id": "5dd2a0f6-03ff-4a98-ad15-ef264201ac86",
   "metadata": {},
   "outputs": [],
   "source": [
    "mobility_marketplace2 = mobility_marketplace.sort_values(by=mobility_marketplace_cols, na_position='last')"
   ]
  },
  {
   "cell_type": "code",
   "execution_count": 22,
   "id": "c2fcbf86-9c6a-4db6-9c91-2f6c8622c120",
   "metadata": {},
   "outputs": [],
   "source": [
    "mobility_marketplace2 = mobility_marketplace.sort_values(by=[\"on_demand_vehicles_at_max_service\",\"vehicles_at_max_service\"], ascending = [False, False])"
   ]
  },
  {
   "cell_type": "code",
   "execution_count": 23,
   "id": "8da92b3b-ae6f-4736-b778-f563e9aec1fc",
   "metadata": {},
   "outputs": [],
   "source": [
    "mobility_marketplace3 = mobility_marketplace2.groupby('agency_name').first().reset_index()\n"
   ]
  },
  {
   "cell_type": "code",
   "execution_count": 24,
   "id": "8ed2dc42-b7af-4fa5-a23e-6ba97a74ab1a",
   "metadata": {},
   "outputs": [
    {
     "data": {
      "text/html": [
       "<div>\n",
       "<style scoped>\n",
       "    .dataframe tbody tr th:only-of-type {\n",
       "        vertical-align: middle;\n",
       "    }\n",
       "\n",
       "    .dataframe tbody tr th {\n",
       "        vertical-align: top;\n",
       "    }\n",
       "\n",
       "    .dataframe thead th {\n",
       "        text-align: right;\n",
       "    }\n",
       "</style>\n",
       "<table border=\"1\" class=\"dataframe\">\n",
       "  <thead>\n",
       "    <tr style=\"text-align: right;\">\n",
       "      <th></th>\n",
       "      <th>agency_name</th>\n",
       "      <th>counties_served</th>\n",
       "      <th>hq_city</th>\n",
       "      <th>hq_county</th>\n",
       "      <th>is_public_entity</th>\n",
       "      <th>is_publicly_operating</th>\n",
       "      <th>funding_sources</th>\n",
       "      <th>on_demand_vehicles_at_max_service</th>\n",
       "      <th>vehicles_at_max_service</th>\n",
       "    </tr>\n",
       "  </thead>\n",
       "  <tbody>\n",
       "    <tr>\n",
       "      <th>64</th>\n",
       "      <td>Kern Regional Transit</td>\n",
       "      <td>None</td>\n",
       "      <td>Bakersfield</td>\n",
       "      <td>None</td>\n",
       "      <td>None</td>\n",
       "      <td>None</td>\n",
       "      <td>None</td>\n",
       "      <td>NaN</td>\n",
       "      <td>40.00</td>\n",
       "    </tr>\n",
       "    <tr>\n",
       "      <th>7</th>\n",
       "      <td>Kern Regional Transit</td>\n",
       "      <td>None</td>\n",
       "      <td>Bakersfield</td>\n",
       "      <td>None</td>\n",
       "      <td>None</td>\n",
       "      <td>None</td>\n",
       "      <td>None</td>\n",
       "      <td>NaN</td>\n",
       "      <td>0.00</td>\n",
       "    </tr>\n",
       "  </tbody>\n",
       "</table>\n",
       "</div>"
      ],
      "text/plain": [
       "              agency_name counties_served      hq_city hq_county  \\\n",
       "64  Kern Regional Transit            None  Bakersfield      None   \n",
       "7   Kern Regional Transit            None  Bakersfield      None   \n",
       "\n",
       "   is_public_entity is_publicly_operating funding_sources  \\\n",
       "64             None                  None            None   \n",
       "7              None                  None            None   \n",
       "\n",
       "    on_demand_vehicles_at_max_service  vehicles_at_max_service  \n",
       "64                                NaN                    40.00  \n",
       "7                                 NaN                     0.00  "
      ]
     },
     "execution_count": 24,
     "metadata": {},
     "output_type": "execute_result"
    }
   ],
   "source": [
    "mobility_marketplace2.loc[mobility_marketplace2.agency_name == \"Kern Regional Transit\"]"
   ]
  },
  {
   "cell_type": "code",
   "execution_count": 25,
   "id": "31a9122e-49cc-4673-856f-b232684ad018",
   "metadata": {},
   "outputs": [
    {
     "data": {
      "text/html": [
       "<div>\n",
       "<style scoped>\n",
       "    .dataframe tbody tr th:only-of-type {\n",
       "        vertical-align: middle;\n",
       "    }\n",
       "\n",
       "    .dataframe tbody tr th {\n",
       "        vertical-align: top;\n",
       "    }\n",
       "\n",
       "    .dataframe thead th {\n",
       "        text-align: right;\n",
       "    }\n",
       "</style>\n",
       "<table border=\"1\" class=\"dataframe\">\n",
       "  <thead>\n",
       "    <tr style=\"text-align: right;\">\n",
       "      <th></th>\n",
       "      <th>agency_name</th>\n",
       "      <th>counties_served</th>\n",
       "      <th>hq_city</th>\n",
       "      <th>hq_county</th>\n",
       "      <th>is_public_entity</th>\n",
       "      <th>is_publicly_operating</th>\n",
       "      <th>funding_sources</th>\n",
       "      <th>on_demand_vehicles_at_max_service</th>\n",
       "      <th>vehicles_at_max_service</th>\n",
       "    </tr>\n",
       "  </thead>\n",
       "  <tbody>\n",
       "    <tr>\n",
       "      <th>142</th>\n",
       "      <td>Kern Regional Transit</td>\n",
       "      <td>None</td>\n",
       "      <td>Bakersfield</td>\n",
       "      <td>None</td>\n",
       "      <td>None</td>\n",
       "      <td>None</td>\n",
       "      <td>None</td>\n",
       "      <td>NaN</td>\n",
       "      <td>40.00</td>\n",
       "    </tr>\n",
       "  </tbody>\n",
       "</table>\n",
       "</div>"
      ],
      "text/plain": [
       "               agency_name counties_served      hq_city hq_county  \\\n",
       "142  Kern Regional Transit            None  Bakersfield      None   \n",
       "\n",
       "    is_public_entity is_publicly_operating funding_sources  \\\n",
       "142             None                  None            None   \n",
       "\n",
       "     on_demand_vehicles_at_max_service  vehicles_at_max_service  \n",
       "142                                NaN                    40.00  "
      ]
     },
     "execution_count": 25,
     "metadata": {},
     "output_type": "execute_result"
    }
   ],
   "source": [
    "mobility_marketplace3.loc[mobility_marketplace3.agency_name == \"Kern Regional Transit\"]"
   ]
  },
  {
   "cell_type": "code",
   "execution_count": 26,
   "id": "ac37525e-709a-4c33-a9e3-fa7277c05fa8",
   "metadata": {},
   "outputs": [
    {
     "data": {
      "text/plain": [
       "(234, 9)"
      ]
     },
     "execution_count": 26,
     "metadata": {},
     "output_type": "execute_result"
    }
   ],
   "source": [
    "mobility_marketplace.shape"
   ]
  },
  {
   "cell_type": "code",
   "execution_count": 27,
   "id": "ac4c194c-146f-4857-9a0f-8309e340e820",
   "metadata": {
    "scrolled": true,
    "tags": []
   },
   "outputs": [],
   "source": [
    "# mobility_marketplace[[\"agency_name\"]].sort_values(by=[\"agency_name\"])"
   ]
  },
  {
   "cell_type": "markdown",
   "id": "348bb5ea-d62b-4825-9cea-8db2b49b232d",
   "metadata": {},
   "source": [
    "#### Merge mobility w/ NTD"
   ]
  },
  {
   "cell_type": "code",
   "execution_count": 28,
   "id": "b1fd3c11-6ffc-4768-8716-31aa059bed08",
   "metadata": {},
   "outputs": [],
   "source": [
    "mobility_ntd = pd.merge(\n",
    "    mobility_marketplace3,\n",
    "    annual_ntd3,\n",
    "    how=\"outer\",\n",
    "    on=\"agency_name\",\n",
    ")"
   ]
  },
  {
   "cell_type": "code",
   "execution_count": 29,
   "id": "54fe9167-a87a-42d2-a0d4-c97f042d0547",
   "metadata": {},
   "outputs": [
    {
     "data": {
      "text/plain": [
       "Access Services                                                    1\n",
       "Lake Transit Authority                                             1\n",
       "Livermore / Amador Valley Transit Authority                        1\n",
       "Long Beach Transit                                                 1\n",
       "Los Angeles County Department of Public Works - Avocado Heights    1\n",
       "Name: agency_name, dtype: int64"
      ]
     },
     "execution_count": 29,
     "metadata": {},
     "output_type": "execute_result"
    }
   ],
   "source": [
    "mobility_ntd.agency_name.value_counts().head()"
   ]
  },
  {
   "cell_type": "code",
   "execution_count": 30,
   "id": "ccbb1577-f34e-475a-87d1-4e430ee8ea10",
   "metadata": {},
   "outputs": [
    {
     "data": {
      "text/plain": [
       "((229, 23), 229)"
      ]
     },
     "execution_count": 30,
     "metadata": {},
     "output_type": "execute_result"
    }
   ],
   "source": [
    "mobility_ntd.shape, mobility_ntd.agency_name.nunique()"
   ]
  },
  {
   "cell_type": "code",
   "execution_count": 39,
   "id": "f7cb80b7-f296-4ec2-81d5-df204a9dc37d",
   "metadata": {},
   "outputs": [],
   "source": [
    "mobility_ntd.agency_name = mobility_ntd.agency_name.str.strip()"
   ]
  },
  {
   "cell_type": "markdown",
   "id": "2aefabb4-4ff9-412a-8bce-87ec39329daf",
   "metadata": {},
   "source": [
    "#### Merge mobility w/ relevant operators"
   ]
  },
  {
   "cell_type": "code",
   "execution_count": 40,
   "id": "bd64ab81-6c80-4810-971b-8ac5881e8871",
   "metadata": {},
   "outputs": [],
   "source": [
    "m1 = pd.merge(\n",
    "    op_profiles_df2,\n",
    "    mobility_ntd,\n",
    "    how=\"left\",\n",
    "    left_on=\"organization_name\",\n",
    "    right_on=\"agency_name\",\n",
    "    indicator=True,\n",
    ")"
   ]
  },
  {
   "cell_type": "code",
   "execution_count": 32,
   "id": "f1fa301d-24fe-4e4a-ba00-1452bf0f1a80",
   "metadata": {},
   "outputs": [
    {
     "data": {
      "text/plain": [
       "((171, 4), 171)"
      ]
     },
     "execution_count": 32,
     "metadata": {},
     "output_type": "execute_result"
    }
   ],
   "source": [
    "op_profiles_df2.shape, op_profiles_df2.organization_name.nunique()"
   ]
  },
  {
   "cell_type": "code",
   "execution_count": 41,
   "id": "46a51c7f-9017-4f39-98be-fe16b1bfc291",
   "metadata": {},
   "outputs": [
    {
     "data": {
      "text/plain": [
       "both          122\n",
       "left_only      50\n",
       "right_only      0\n",
       "Name: _merge, dtype: int64"
      ]
     },
     "execution_count": 41,
     "metadata": {},
     "output_type": "execute_result"
    }
   ],
   "source": [
    "m1._merge.value_counts()"
   ]
  },
  {
   "cell_type": "code",
   "execution_count": 42,
   "id": "2a029d83-e8cc-40df-82d3-d8bc262c7b97",
   "metadata": {
    "scrolled": true,
    "tags": []
   },
   "outputs": [
    {
     "data": {
      "text/plain": [
       "['Access Services',\n",
       " 'Alameda-Contra Costa Transit District',\n",
       " 'Alpine County Local Transportation Commission',\n",
       " 'Altamont Corridor Express',\n",
       " 'Amador Regional Transit System',\n",
       " 'Anaheim Transportation Network',\n",
       " 'Antelope Valley Transit Authority',\n",
       " 'Bishop Paiute Tribe',\n",
       " 'Blue Lake Rancheria',\n",
       " 'Bob Hope Airport',\n",
       " 'Butte County Association of Governments',\n",
       " 'Calaveras Transit Agency',\n",
       " 'California Department of Transportation',\n",
       " 'California Vanpool Authority',\n",
       " 'Central Contra Costa Transit Authority',\n",
       " 'Chemehuevi Indian Tribe',\n",
       " 'City and County of San Francisco',\n",
       " 'City of Agoura Hills',\n",
       " 'City of Alhambra',\n",
       " 'City of Arcadia',\n",
       " 'City of Arcata',\n",
       " 'City of Artesia',\n",
       " 'City of Arvin',\n",
       " 'City of Atascadero',\n",
       " 'City of Auburn',\n",
       " 'City of Avalon',\n",
       " 'City of Azusa',\n",
       " 'City of Baldwin Park',\n",
       " 'City of Bell',\n",
       " 'City of Bell Gardens',\n",
       " 'City of Bellflower',\n",
       " 'City of Beverly Hills',\n",
       " 'City of Burbank',\n",
       " 'City of Calabasas',\n",
       " 'City of California City',\n",
       " 'City of Camarillo',\n",
       " 'City of Carson',\n",
       " 'City of Cerritos',\n",
       " 'City of Chowchilla',\n",
       " 'City of Claremont',\n",
       " 'City of Commerce',\n",
       " 'City of Compton',\n",
       " 'City of Corcoran',\n",
       " 'City of Corona',\n",
       " 'City of Covina',\n",
       " 'City of Cudahy',\n",
       " 'City of Culver City',\n",
       " 'City of Davis',\n",
       " 'City of Delano',\n",
       " 'City of Dixon',\n",
       " 'City of Downey',\n",
       " 'City of El Monte',\n",
       " 'City of El Segundo',\n",
       " 'City of Escalon',\n",
       " 'City of Eureka',\n",
       " 'City of Fairfield, California',\n",
       " 'City of Fresno',\n",
       " 'City of Gardena',\n",
       " 'City of Glendale',\n",
       " 'City of Glendora',\n",
       " 'City of Guadalupe',\n",
       " 'City of Hawaiian Gardens',\n",
       " 'City of Huntington Park',\n",
       " 'City of Inglewood',\n",
       " 'City of La Habra Heights',\n",
       " 'City of La Mirada',\n",
       " 'City of Laguna Beach',\n",
       " 'City of Lakewood',\n",
       " 'City of Lincoln',\n",
       " 'City of Lodi',\n",
       " 'City of Lompoc',\n",
       " 'City of Los Angeles',\n",
       " 'City of Lynwood',\n",
       " 'City of Madera',\n",
       " 'City of Malibu',\n",
       " 'City of Manhattan Beach',\n",
       " 'City of Manteca',\n",
       " 'City of Maywood',\n",
       " 'City of McFarland',\n",
       " 'City of Monrovia',\n",
       " 'City of Montebello',\n",
       " 'City of Monterey Park',\n",
       " 'City of Moorpark',\n",
       " 'City of Needles',\n",
       " 'City of Norwalk',\n",
       " 'City of Ojai',\n",
       " 'City of Palmdale',\n",
       " 'City of Pasadena',\n",
       " 'City of Petaluma',\n",
       " 'City of Pico Rivera',\n",
       " 'City of Porterville',\n",
       " 'City of Redondo Beach',\n",
       " 'City of Ridgecrest',\n",
       " 'City of Rio Vista',\n",
       " 'City of Riverside',\n",
       " 'City of Rosemead',\n",
       " 'City of Roseville',\n",
       " 'City of San Fernando',\n",
       " 'City of San Luis Obispo',\n",
       " 'City of Santa Clarita',\n",
       " 'City of Santa Fe Springs',\n",
       " 'City of Santa Maria',\n",
       " 'City of Santa Monica',\n",
       " 'City of Santa Rosa',\n",
       " 'City of Shafter',\n",
       " 'City of Sierra Madre',\n",
       " 'City of Simi Valley',\n",
       " 'City of Solvang',\n",
       " 'City of South El Monte',\n",
       " 'City of South Gate',\n",
       " 'City of South Pasadena',\n",
       " 'City of Taft',\n",
       " 'City of Tehachapi',\n",
       " 'City of Thousand Oaks',\n",
       " 'City of Torrance',\n",
       " 'City of Tracy',\n",
       " 'City of Turlock',\n",
       " 'City of Union City',\n",
       " 'City of Vacaville',\n",
       " 'City of Visalia',\n",
       " 'City of West Covina',\n",
       " 'City of West Hollywood',\n",
       " 'City of Whittier',\n",
       " 'Colusa County Transit Agency',\n",
       " 'County of Placer',\n",
       " 'County of Sacramento Municipal Services Agency Department of Transportation',\n",
       " 'County of Shasta Department of Public Works',\n",
       " 'County of Siskiyou',\n",
       " 'County of Sonoma',\n",
       " 'County of Ventura',\n",
       " 'Eastern Sierra Transit Authority',\n",
       " 'Easy Lift Transportation',\n",
       " 'El Dorado County Transit Authority',\n",
       " 'Elk Valley Rancheria',\n",
       " 'Foothill Transit',\n",
       " 'Fresno County Rural Transit Agency',\n",
       " 'Glenn Transit Service',\n",
       " 'Gold Coast Transit District',\n",
       " 'Golden Empire Transit District',\n",
       " 'Golden Gate Bridge, Highway and Transportation District',\n",
       " 'Humboldt Transit Authority',\n",
       " 'Imperial County Transportation Commission',\n",
       " 'Kern Regional Transit',\n",
       " 'Kings County Area Public Transit Agency',\n",
       " 'Lake Transit Authority',\n",
       " 'Lassen Transit Service Agency',\n",
       " 'Livermore / Amador Valley Transit Authority',\n",
       " 'Long Beach Transit',\n",
       " 'Los Angeles County Department of Public Works - Avocado Heights',\n",
       " 'Los Angeles County Department of Public Works - East L.A.',\n",
       " 'Los Angeles County Department of Public Works - East Valinda',\n",
       " 'Los Angeles County Department of Public Works - South Whittier',\n",
       " 'Los Angeles County Department of Public Works - Whittier',\n",
       " 'Los Angeles County Dept. of Public Works - Athens Shuttle Service',\n",
       " 'Los Angeles County Dept. of Public Works - Florence-Firestone',\n",
       " 'Los Angeles County Dept. of Public Works - King Medical Center Shuttle Service',\n",
       " 'Los Angeles County Dept. of Public Works - Lennox Shuttle',\n",
       " 'Los Angeles County Dept. of Public Works - Willowbrook Shuttle',\n",
       " 'Los Angeles County Dept. of Public Works - Willowbrook et al.',\n",
       " 'Los Angeles County Metropolitan Transportation Authority',\n",
       " 'Madera County',\n",
       " 'Marin County Transit District',\n",
       " 'Mariposa County Transit',\n",
       " 'Mendocino Transit Authority',\n",
       " 'Metropolitan Transportation Commission',\n",
       " 'Modoc Transportation Agency',\n",
       " 'Monterey-Salinas Transit',\n",
       " 'Morongo Band of Mission Indians',\n",
       " 'Morongo Basin Transit Authority',\n",
       " 'Mountain Area Regional Transit Authority',\n",
       " 'Napa Valley Transportation Authority',\n",
       " 'Nevada County Transit Services',\n",
       " 'North County Transit District',\n",
       " 'North Fork Rancheria of Mono Indians of California',\n",
       " 'Omnitrans',\n",
       " 'Orange County Transportation Authority',\n",
       " 'Palo Verde Valley Transit Agency',\n",
       " 'Palos Verdes Peninsula Transit Authority',\n",
       " 'Paratransit, Inc.',\n",
       " 'Peninsula Corridor Joint Powers Board',\n",
       " 'Plumas County Transportation Commission',\n",
       " 'Pomona Valley Transportation Authority',\n",
       " 'Quechan Indian Tribe',\n",
       " 'Redding Area Bus Authority',\n",
       " 'Redwood Coast Transit Authority',\n",
       " 'Riverfront Joint Powers Authority',\n",
       " 'Riverside County Transportation Commission',\n",
       " 'Riverside Transit Agency',\n",
       " 'SACRAMENTO AREA COUNCIL OF GOVERNMENTS FINANCING CORPORATION',\n",
       " 'Sacramento Regional Transit District',\n",
       " 'San Benito County LTA',\n",
       " 'San Bernardino County Transportation Authority',\n",
       " 'San Diego Association of Governments',\n",
       " 'San Diego Metropolitan Transit System',\n",
       " 'San Francisco Bay Area Rapid Transit District',\n",
       " 'San Francisco Bay Area Water Emergency Transportation Authority',\n",
       " 'San Joaquin Council',\n",
       " 'San Joaquin Regional Transit District',\n",
       " 'San Luis Obispo Regional Transit Authority',\n",
       " 'San Mateo County Transit District',\n",
       " 'Santa Barbara County Association of Governments',\n",
       " 'Santa Barbara Metropolitan Transit District',\n",
       " 'Santa Clara Valley Transportation Authority',\n",
       " 'Santa Cruz Metropolitan Transit District',\n",
       " 'Sierra County Transportation Commission',\n",
       " 'Solano County Transit',\n",
       " 'Sonoma-Marin Area Rail Transit District',\n",
       " 'Southern California Regional Rail Authority',\n",
       " 'Stanislaus Regional Transit Authority',\n",
       " 'SunLine Transit Agency',\n",
       " 'Tehama County',\n",
       " 'The Eastern Contra Costa Transit Authority',\n",
       " 'Town of Truckee',\n",
       " 'Transit Joint Powers Authority for Merced County',\n",
       " 'Trinity County',\n",
       " 'Tulare County Area Transit',\n",
       " 'Tulare County Regional Transit Agency',\n",
       " 'Tuolumne County Transit',\n",
       " 'University of California, Davis',\n",
       " 'Ventura County Transportation Commission',\n",
       " 'Ventura Intercity Service Transit Authority',\n",
       " 'Victor Valley Transit Authority',\n",
       " 'Wasco, City of',\n",
       " 'Western Contra Costa Transit Authority',\n",
       " 'Yolo County Transportation District',\n",
       " 'Yosemite Area Regional Transportation System',\n",
       " 'Yuba-Sutter Transit Authority',\n",
       " 'Yurok Tribe']"
      ]
     },
     "execution_count": 42,
     "metadata": {},
     "output_type": "execute_result"
    }
   ],
   "source": [
    "sorted(list(mobility_ntd.agency_name.unique()))"
   ]
  },
  {
   "cell_type": "markdown",
   "id": "915c13d3-29f7-426f-b36a-eab418603ec0",
   "metadata": {},
   "source": [
    "#### Manually change some names in mobility?\n",
    "* Why are there repeated operators? \n",
    "* City of Fairfield, California -> change to City of Fairfield\n",
    "* Glenn Transit Service -> Glenn County?\n",
    "* Kern Regional Transit -> change to Kern County?\n",
    "* Livermore / Amador Valley Transit Authority -> Livermore-Amador Valley Transit Authority\n",
    "* Los Angeles County Metropolitan Transportation Authority -> change to Los Angeles County\n",
    "* Nevada County Transit Services -> change to Nevada County\n",
    "* 'Mountain Area Regional Transit Authority' -> change to Mountain View Transportation Management Association\n",
    "* Sacramento Regional Transit District -> Sacramento County\n",
    "* Omnitrans -> change to OmniTrans\n",
    "* San Benito County LTA -> San Benito County Local Transportation Authority\n",
    "* Solano County Transit -> Solano Transportation Authority\n",
    "* "
   ]
  },
  {
   "cell_type": "code",
   "execution_count": 43,
   "id": "f7ba45b5-306a-4303-a8ad-73917f44a3cc",
   "metadata": {
    "scrolled": true,
    "tags": []
   },
   "outputs": [
    {
     "data": {
      "text/html": [
       "<div>\n",
       "<style scoped>\n",
       "    .dataframe tbody tr th:only-of-type {\n",
       "        vertical-align: middle;\n",
       "    }\n",
       "\n",
       "    .dataframe tbody tr th {\n",
       "        vertical-align: top;\n",
       "    }\n",
       "\n",
       "    .dataframe thead th {\n",
       "        text-align: right;\n",
       "    }\n",
       "</style>\n",
       "<table border=\"1\" class=\"dataframe\">\n",
       "  <thead>\n",
       "    <tr style=\"text-align: right;\">\n",
       "      <th></th>\n",
       "      <th>organization_name</th>\n",
       "    </tr>\n",
       "  </thead>\n",
       "  <tbody>\n",
       "    <tr>\n",
       "      <th>14</th>\n",
       "      <td>Basin Transit</td>\n",
       "    </tr>\n",
       "    <tr>\n",
       "      <th>108</th>\n",
       "      <td>Capitol Corridor Joint Powers Authority</td>\n",
       "    </tr>\n",
       "    <tr>\n",
       "      <th>137</th>\n",
       "      <td>City of Banning</td>\n",
       "    </tr>\n",
       "    <tr>\n",
       "      <th>97</th>\n",
       "      <td>City of Beaumont</td>\n",
       "    </tr>\n",
       "    <tr>\n",
       "      <th>35</th>\n",
       "      <td>City of Clovis</td>\n",
       "    </tr>\n",
       "    <tr>\n",
       "      <th>1</th>\n",
       "      <td>City of Duarte</td>\n",
       "    </tr>\n",
       "    <tr>\n",
       "      <th>56</th>\n",
       "      <td>City of Elk Grove</td>\n",
       "    </tr>\n",
       "    <tr>\n",
       "      <th>131</th>\n",
       "      <td>City of Fairfield</td>\n",
       "    </tr>\n",
       "    <tr>\n",
       "      <th>79</th>\n",
       "      <td>City of La Puente</td>\n",
       "    </tr>\n",
       "    <tr>\n",
       "      <th>84</th>\n",
       "      <td>City of Lawndale</td>\n",
       "    </tr>\n",
       "    <tr>\n",
       "      <th>57</th>\n",
       "      <td>City of Menlo Park</td>\n",
       "    </tr>\n",
       "    <tr>\n",
       "      <th>2</th>\n",
       "      <td>City of Rancho Cordova</td>\n",
       "    </tr>\n",
       "    <tr>\n",
       "      <th>166</th>\n",
       "      <td>City of Ripon</td>\n",
       "    </tr>\n",
       "    <tr>\n",
       "      <th>50</th>\n",
       "      <td>City of South San Francisco</td>\n",
       "    </tr>\n",
       "    <tr>\n",
       "      <th>83</th>\n",
       "      <td>Cloverdale Transit</td>\n",
       "    </tr>\n",
       "    <tr>\n",
       "      <th>141</th>\n",
       "      <td>Commute.org</td>\n",
       "    </tr>\n",
       "    <tr>\n",
       "      <th>134</th>\n",
       "      <td>Dumbarton Bridge Regional Operations Consortium</td>\n",
       "    </tr>\n",
       "    <tr>\n",
       "      <th>16</th>\n",
       "      <td>Eastern Contra Costa Transit Authority</td>\n",
       "    </tr>\n",
       "    <tr>\n",
       "      <th>129</th>\n",
       "      <td>Emeryville Transportation Management Agency</td>\n",
       "    </tr>\n",
       "    <tr>\n",
       "      <th>22</th>\n",
       "      <td>Flagship Cruises and Events Inc.</td>\n",
       "    </tr>\n",
       "    <tr>\n",
       "      <th>128</th>\n",
       "      <td>Glenn County</td>\n",
       "    </tr>\n",
       "    <tr>\n",
       "      <th>28</th>\n",
       "      <td>Greyhound</td>\n",
       "    </tr>\n",
       "    <tr>\n",
       "      <th>82</th>\n",
       "      <td>Kern County</td>\n",
       "    </tr>\n",
       "    <tr>\n",
       "      <th>60</th>\n",
       "      <td>Livermore-Amador Valley Transit Authority</td>\n",
       "    </tr>\n",
       "    <tr>\n",
       "      <th>65</th>\n",
       "      <td>Los Angeles County</td>\n",
       "    </tr>\n",
       "    <tr>\n",
       "      <th>149</th>\n",
       "      <td>Los Angeles World Airports</td>\n",
       "    </tr>\n",
       "    <tr>\n",
       "      <th>155</th>\n",
       "      <td>Menlo Park Shuttles</td>\n",
       "    </tr>\n",
       "    <tr>\n",
       "      <th>59</th>\n",
       "      <td>Mission Bay Transportation Management Agency</td>\n",
       "    </tr>\n",
       "    <tr>\n",
       "      <th>81</th>\n",
       "      <td>Mountain View Transportation Management Association</td>\n",
       "    </tr>\n",
       "    <tr>\n",
       "      <th>76</th>\n",
       "      <td>Nevada County</td>\n",
       "    </tr>\n",
       "    <tr>\n",
       "      <th>67</th>\n",
       "      <td>North Lake Tahoe Express</td>\n",
       "    </tr>\n",
       "    <tr>\n",
       "      <th>25</th>\n",
       "      <td>OmniTrans</td>\n",
       "    </tr>\n",
       "    <tr>\n",
       "      <th>41</th>\n",
       "      <td>Placer County</td>\n",
       "    </tr>\n",
       "    <tr>\n",
       "      <th>58</th>\n",
       "      <td>Plumas Transit Systems</td>\n",
       "    </tr>\n",
       "    <tr>\n",
       "      <th>73</th>\n",
       "      <td>Presidio Trust</td>\n",
       "    </tr>\n",
       "    <tr>\n",
       "      <th>71</th>\n",
       "      <td>Sacramento County</td>\n",
       "    </tr>\n",
       "    <tr>\n",
       "      <th>38</th>\n",
       "      <td>San Benito County Local Transportation Authority</td>\n",
       "    </tr>\n",
       "    <tr>\n",
       "      <th>165</th>\n",
       "      <td>San Diego International Airport</td>\n",
       "    </tr>\n",
       "    <tr>\n",
       "      <th>3</th>\n",
       "      <td>Shasta County</td>\n",
       "    </tr>\n",
       "    <tr>\n",
       "      <th>40</th>\n",
       "      <td>Siskiyou County</td>\n",
       "    </tr>\n",
       "    <tr>\n",
       "      <th>154</th>\n",
       "      <td>Solano Transportation Authority</td>\n",
       "    </tr>\n",
       "    <tr>\n",
       "      <th>150</th>\n",
       "      <td>Sonoma County</td>\n",
       "    </tr>\n",
       "    <tr>\n",
       "      <th>85</th>\n",
       "      <td>Stanford University</td>\n",
       "    </tr>\n",
       "    <tr>\n",
       "      <th>26</th>\n",
       "      <td>Susanville Indian Rancheria</td>\n",
       "    </tr>\n",
       "    <tr>\n",
       "      <th>52</th>\n",
       "      <td>Tahoe Transportation District</td>\n",
       "    </tr>\n",
       "    <tr>\n",
       "      <th>171</th>\n",
       "      <td>Tahoe Truckee Area Regional Transportation</td>\n",
       "    </tr>\n",
       "    <tr>\n",
       "      <th>68</th>\n",
       "      <td>University of California, Berkeley</td>\n",
       "    </tr>\n",
       "    <tr>\n",
       "      <th>102</th>\n",
       "      <td>University of California, Los Angeles</td>\n",
       "    </tr>\n",
       "    <tr>\n",
       "      <th>72</th>\n",
       "      <td>University of California, Santa Cruz</td>\n",
       "    </tr>\n",
       "    <tr>\n",
       "      <th>77</th>\n",
       "      <td>Yuma County Intergovernmental Public Transportation Authority</td>\n",
       "    </tr>\n",
       "  </tbody>\n",
       "</table>\n",
       "</div>"
      ],
      "text/plain": [
       "                                                 organization_name\n",
       "14                                                   Basin Transit\n",
       "108                        Capitol Corridor Joint Powers Authority\n",
       "137                                                City of Banning\n",
       "97                                                City of Beaumont\n",
       "35                                                  City of Clovis\n",
       "1                                                   City of Duarte\n",
       "56                                               City of Elk Grove\n",
       "131                                              City of Fairfield\n",
       "79                                               City of La Puente\n",
       "84                                                City of Lawndale\n",
       "57                                              City of Menlo Park\n",
       "2                                           City of Rancho Cordova\n",
       "166                                                  City of Ripon\n",
       "50                                     City of South San Francisco\n",
       "83                                              Cloverdale Transit\n",
       "141                                                    Commute.org\n",
       "134                Dumbarton Bridge Regional Operations Consortium\n",
       "16                          Eastern Contra Costa Transit Authority\n",
       "129                    Emeryville Transportation Management Agency\n",
       "22                                Flagship Cruises and Events Inc.\n",
       "128                                                   Glenn County\n",
       "28                                                       Greyhound\n",
       "82                                                     Kern County\n",
       "60                       Livermore-Amador Valley Transit Authority\n",
       "65                                              Los Angeles County\n",
       "149                                     Los Angeles World Airports\n",
       "155                                            Menlo Park Shuttles\n",
       "59                    Mission Bay Transportation Management Agency\n",
       "81             Mountain View Transportation Management Association\n",
       "76                                                   Nevada County\n",
       "67                                        North Lake Tahoe Express\n",
       "25                                                       OmniTrans\n",
       "41                                                   Placer County\n",
       "58                                          Plumas Transit Systems\n",
       "73                                                  Presidio Trust\n",
       "71                                               Sacramento County\n",
       "38                San Benito County Local Transportation Authority\n",
       "165                                San Diego International Airport\n",
       "3                                                    Shasta County\n",
       "40                                                 Siskiyou County\n",
       "154                                Solano Transportation Authority\n",
       "150                                                  Sonoma County\n",
       "85                                             Stanford University\n",
       "26                                     Susanville Indian Rancheria\n",
       "52                                   Tahoe Transportation District\n",
       "171                     Tahoe Truckee Area Regional Transportation\n",
       "68                              University of California, Berkeley\n",
       "102                          University of California, Los Angeles\n",
       "72                            University of California, Santa Cruz\n",
       "77   Yuma County Intergovernmental Public Transportation Authority"
      ]
     },
     "execution_count": 43,
     "metadata": {},
     "output_type": "execute_result"
    }
   ],
   "source": [
    "m1.loc[m1._merge == \"left_only\"][[\"organization_name\"]].sort_values(\n",
    "by=[\"organization_name\"])"
   ]
  },
  {
   "cell_type": "markdown",
   "id": "e2be6ef7-fff6-4e54-85c3-7f890d6e36c0",
   "metadata": {},
   "source": [
    "### Dim Organizations\n",
    "* https://dbt-docs.calitp.org/#!/model/model.calitp_warehouse.dim_organizations"
   ]
  },
  {
   "cell_type": "code",
   "execution_count": null,
   "id": "b3c15b25-c73b-46ab-90b4-6093caed6d10",
   "metadata": {},
   "outputs": [],
   "source": [
    "#rganizations = tbls.mart_transit_database.dim_organizations() >> collect()"
   ]
  },
  {
   "cell_type": "code",
   "execution_count": null,
   "id": "a37f4556-478e-4423-9605-16e9769a55ae",
   "metadata": {},
   "outputs": [],
   "source": [
    "#organizations.head(2)"
   ]
  }
 ],
 "metadata": {
  "kernelspec": {
   "display_name": "Python 3 (ipykernel)",
   "language": "python",
   "name": "python3"
  },
  "language_info": {
   "codemirror_mode": {
    "name": "ipython",
    "version": 3
   },
   "file_extension": ".py",
   "mimetype": "text/x-python",
   "name": "python",
   "nbconvert_exporter": "python",
   "pygments_lexer": "ipython3",
   "version": "3.9.13"
  }
 },
 "nbformat": 4,
 "nbformat_minor": 5
}
