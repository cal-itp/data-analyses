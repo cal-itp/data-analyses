{
 "cells": [
  {
   "cell_type": "markdown",
   "id": "9faad02b-fae9-4a1a-99e4-d3c90ab29233",
   "metadata": {},
   "source": [
    "## Add NTD Data to Section 1"
   ]
  },
  {
   "cell_type": "code",
   "execution_count": 1,
   "id": "49145d5f-7a1d-4cc1-a7ea-5d5bc87eadb9",
   "metadata": {},
   "outputs": [],
   "source": [
    "import _operators_prep as op_prep\n",
    "import pandas as pd\n",
    "import _section1_utils"
   ]
  },
  {
   "cell_type": "code",
   "execution_count": 2,
   "id": "70f760f8-0719-4237-ba21-d98a101fa5e5",
   "metadata": {},
   "outputs": [],
   "source": [
    "pd.options.display.max_columns = 100\n",
    "pd.options.display.float_format = \"{:.2f}\".format\n",
    "pd.set_option(\"display.max_rows\", None)\n",
    "pd.set_option(\"display.max_colwidth\", None)"
   ]
  },
  {
   "cell_type": "code",
   "execution_count": 3,
   "id": "d621f31f-c6de-481c-9ed1-4ec86d6459de",
   "metadata": {},
   "outputs": [],
   "source": [
    "import os\n",
    "from calitp_data_analysis.sql import query_sql\n",
    "from calitp_data_analysis.tables import tbls\n",
    "from siuba import *"
   ]
  },
  {
   "cell_type": "markdown",
   "id": "94d3efcd-7a50-4a6c-b37f-7b78d7b094eb",
   "metadata": {},
   "source": [
    "### NTD \n",
    "* https://dbt-docs.calitp.org/#!/model/model.calitp_warehouse.dim_annual_ntd_agency_information\n",
    "* https://www.transit.dot.gov/ntd/data-product/2022-annual-database-agency-information\n",
    "* "
   ]
  },
  {
   "cell_type": "code",
   "execution_count": 4,
   "id": "1aa64f74-dccb-4f6a-a05c-979bf6413fa0",
   "metadata": {},
   "outputs": [],
   "source": [
    "def load_ntd(year: int) -> pd.DataFrame:\n",
    "    df = (\n",
    "        tbls.mart_ntd.dim_annual_ntd_agency_information()\n",
    "        >> filter(_.year == year, _.state == \"CA\", _._is_current == True)\n",
    "        >> select(\n",
    "            _.number_of_state_counties,\n",
    "            _.uza_name,\n",
    "            _.density,\n",
    "            _.number_of_counties_with_service,\n",
    "            _.state_admin_funds_expended,\n",
    "            _.service_area_sq_miles,\n",
    "            _.population,\n",
    "            _.service_area_pop,\n",
    "            _.subrecipient_type,\n",
    "            _.primary_uza,\n",
    "            _.reporter_type,\n",
    "            _.organization_type,\n",
    "            _.agency_name,\n",
    "            _.voms_pt,\n",
    "            _.voms_do,\n",
    "            _.ntd_id\n",
    "        )\n",
    "        >> collect()\n",
    "    )\n",
    "\n",
    "    cols = list(df.columns)\n",
    "    df2 = df.sort_values(by=cols, na_position=\"last\")\n",
    "    df3 = df2.groupby(\"agency_name\").first().reset_index()\n",
    "\n",
    "    return df3"
   ]
  },
  {
   "cell_type": "code",
   "execution_count": 5,
   "id": "c1278a49-629b-4147-a723-ef142951b34a",
   "metadata": {},
   "outputs": [],
   "source": [
    "ntd_df = load_ntd(2022)"
   ]
  },
  {
   "cell_type": "code",
   "execution_count": 6,
   "id": "6b64785b-075d-47a5-a4c8-d0e5e661e634",
   "metadata": {},
   "outputs": [
    {
     "data": {
      "text/html": [
       "<div>\n",
       "<style scoped>\n",
       "    .dataframe tbody tr th:only-of-type {\n",
       "        vertical-align: middle;\n",
       "    }\n",
       "\n",
       "    .dataframe tbody tr th {\n",
       "        vertical-align: top;\n",
       "    }\n",
       "\n",
       "    .dataframe thead th {\n",
       "        text-align: right;\n",
       "    }\n",
       "</style>\n",
       "<table border=\"1\" class=\"dataframe\">\n",
       "  <thead>\n",
       "    <tr style=\"text-align: right;\">\n",
       "      <th></th>\n",
       "      <th>agency_name</th>\n",
       "      <th>number_of_state_counties</th>\n",
       "      <th>uza_name</th>\n",
       "      <th>density</th>\n",
       "      <th>number_of_counties_with_service</th>\n",
       "      <th>state_admin_funds_expended</th>\n",
       "      <th>service_area_sq_miles</th>\n",
       "      <th>population</th>\n",
       "      <th>service_area_pop</th>\n",
       "      <th>subrecipient_type</th>\n",
       "      <th>primary_uza</th>\n",
       "      <th>reporter_type</th>\n",
       "      <th>organization_type</th>\n",
       "      <th>voms_pt</th>\n",
       "      <th>voms_do</th>\n",
       "      <th>ntd_id</th>\n",
       "    </tr>\n",
       "  </thead>\n",
       "  <tbody>\n",
       "    <tr>\n",
       "      <th>0</th>\n",
       "      <td>Access Services</td>\n",
       "      <td>NaN</td>\n",
       "      <td>Los Angeles--Long Beach--Anaheim, CA</td>\n",
       "      <td>7476.00</td>\n",
       "      <td>NaN</td>\n",
       "      <td>NaN</td>\n",
       "      <td>1621.00</td>\n",
       "      <td>12237376.00</td>\n",
       "      <td>11638106.00</td>\n",
       "      <td>None</td>\n",
       "      <td>None</td>\n",
       "      <td>Full Reporter</td>\n",
       "      <td>Public Agency or Authority of Transit Service</td>\n",
       "      <td>719.00</td>\n",
       "      <td>NaN</td>\n",
       "      <td>90157</td>\n",
       "    </tr>\n",
       "    <tr>\n",
       "      <th>1</th>\n",
       "      <td>Alameda-Contra Costa Transit District</td>\n",
       "      <td>NaN</td>\n",
       "      <td>San Francisco--Oakland, CA</td>\n",
       "      <td>6943.00</td>\n",
       "      <td>NaN</td>\n",
       "      <td>NaN</td>\n",
       "      <td>364.00</td>\n",
       "      <td>3515933.00</td>\n",
       "      <td>1586454.00</td>\n",
       "      <td>None</td>\n",
       "      <td>None</td>\n",
       "      <td>Full Reporter</td>\n",
       "      <td>Public Agency or Authority of Transit Service</td>\n",
       "      <td>147.00</td>\n",
       "      <td>399.00</td>\n",
       "      <td>90014</td>\n",
       "    </tr>\n",
       "  </tbody>\n",
       "</table>\n",
       "</div>"
      ],
      "text/plain": [
       "                             agency_name  number_of_state_counties  \\\n",
       "0                      Access Services                         NaN   \n",
       "1  Alameda-Contra Costa Transit District                       NaN   \n",
       "\n",
       "                               uza_name  density  \\\n",
       "0  Los Angeles--Long Beach--Anaheim, CA  7476.00   \n",
       "1            San Francisco--Oakland, CA  6943.00   \n",
       "\n",
       "   number_of_counties_with_service  state_admin_funds_expended  \\\n",
       "0                              NaN                         NaN   \n",
       "1                              NaN                         NaN   \n",
       "\n",
       "   service_area_sq_miles  population  service_area_pop subrecipient_type  \\\n",
       "0                1621.00 12237376.00       11638106.00              None   \n",
       "1                 364.00  3515933.00        1586454.00              None   \n",
       "\n",
       "  primary_uza  reporter_type                              organization_type  \\\n",
       "0        None  Full Reporter  Public Agency or Authority of Transit Service   \n",
       "1        None  Full Reporter  Public Agency or Authority of Transit Service   \n",
       "\n",
       "   voms_pt  voms_do ntd_id  \n",
       "0   719.00      NaN  90157  \n",
       "1   147.00   399.00  90014  "
      ]
     },
     "execution_count": 6,
     "metadata": {},
     "output_type": "execute_result"
    }
   ],
   "source": [
    "ntd_df.head(2)"
   ]
  },
  {
   "cell_type": "code",
   "execution_count": 7,
   "id": "abdc55a4-3004-411c-9e71-fd4fd97cae8d",
   "metadata": {},
   "outputs": [],
   "source": [
    "org_name = \"City of Fairfield\""
   ]
  },
  {
   "cell_type": "code",
   "execution_count": 9,
   "id": "5476984e-6f88-4af5-90df-74b07be36c72",
   "metadata": {},
   "outputs": [],
   "source": [
    "op_df = _section1_utils.load_operator_profiles(org_name)"
   ]
  },
  {
   "cell_type": "code",
   "execution_count": 10,
   "id": "5941ca97-d1a2-43cb-a2d6-c02161bb0614",
   "metadata": {},
   "outputs": [
    {
     "data": {
      "text/html": [
       "<div>\n",
       "<style scoped>\n",
       "    .dataframe tbody tr th:only-of-type {\n",
       "        vertical-align: middle;\n",
       "    }\n",
       "\n",
       "    .dataframe tbody tr th {\n",
       "        vertical-align: top;\n",
       "    }\n",
       "\n",
       "    .dataframe thead th {\n",
       "        text-align: right;\n",
       "    }\n",
       "</style>\n",
       "<table border=\"1\" class=\"dataframe\">\n",
       "  <thead>\n",
       "    <tr style=\"text-align: right;\">\n",
       "      <th></th>\n",
       "      <th>schedule_gtfs_dataset_key</th>\n",
       "      <th># Routes</th>\n",
       "      <th># Trips</th>\n",
       "      <th># Shapes</th>\n",
       "      <th># Stops</th>\n",
       "      <th># Arrivals</th>\n",
       "      <th>Operator Service Miles</th>\n",
       "      <th>Avg Arrivals per Stop</th>\n",
       "      <th># Downtown Local Route Types</th>\n",
       "      <th># Local Route Types</th>\n",
       "      <th># Coverage Route Types</th>\n",
       "      <th># Rapid Route Types</th>\n",
       "      <th># Express Route Types</th>\n",
       "      <th># Rail Route Types</th>\n",
       "      <th>Transit Operator</th>\n",
       "      <th>Organization ID</th>\n",
       "      <th>Organization</th>\n",
       "      <th>Date</th>\n",
       "    </tr>\n",
       "  </thead>\n",
       "  <tbody>\n",
       "    <tr>\n",
       "      <th>13</th>\n",
       "      <td>0f5e1b251db53223200c5bfc365d33f2</td>\n",
       "      <td>5</td>\n",
       "      <td>185</td>\n",
       "      <td>11</td>\n",
       "      <td>124</td>\n",
       "      <td>2948</td>\n",
       "      <td>41.73</td>\n",
       "      <td>23.77</td>\n",
       "      <td>0</td>\n",
       "      <td>2</td>\n",
       "      <td>8</td>\n",
       "      <td>9</td>\n",
       "      <td>0</td>\n",
       "      <td>0</td>\n",
       "      <td>Bay Area 511 Fairfield and Suisun Transit Schedule</td>\n",
       "      <td>recot6qBamlOoLcrM</td>\n",
       "      <td>City of Fairfield</td>\n",
       "      <td>2024-04-17</td>\n",
       "    </tr>\n",
       "  </tbody>\n",
       "</table>\n",
       "</div>"
      ],
      "text/plain": [
       "           schedule_gtfs_dataset_key  # Routes  # Trips  # Shapes  # Stops  \\\n",
       "13  0f5e1b251db53223200c5bfc365d33f2         5      185        11      124   \n",
       "\n",
       "    # Arrivals  Operator Service Miles  Avg Arrivals per Stop  \\\n",
       "13        2948                   41.73                  23.77   \n",
       "\n",
       "    # Downtown Local Route Types  # Local Route Types  # Coverage Route Types  \\\n",
       "13                             0                    2                       8   \n",
       "\n",
       "    # Rapid Route Types  # Express Route Types  # Rail Route Types  \\\n",
       "13                    9                      0                   0   \n",
       "\n",
       "                                      Transit Operator    Organization ID  \\\n",
       "13  Bay Area 511 Fairfield and Suisun Transit Schedule  recot6qBamlOoLcrM   \n",
       "\n",
       "         Organization       Date  \n",
       "13  City of Fairfield 2024-04-17  "
      ]
     },
     "execution_count": 10,
     "metadata": {},
     "output_type": "execute_result"
    }
   ],
   "source": [
    "op_df.head(2)"
   ]
  },
  {
   "cell_type": "markdown",
   "id": "be6ddfca-7c68-4102-b559-0aeb778ad68a",
   "metadata": {},
   "source": [
    "###  Mobility Marketplace provider map\n",
    "* https://dbt-docs.calitp.org/#!/model/model.calitp_warehouse.dim_mobility_mart_providers"
   ]
  },
  {
   "cell_type": "code",
   "execution_count": null,
   "id": "71f78423-9c23-4855-891f-8c8e61fd3255",
   "metadata": {},
   "outputs": [],
   "source": [
    "def load_mobility()->pd.DataFrame:\n",
    "    df = (\n",
    "    tbls.mart_transit_database.dim_mobility_mart_providers()\n",
    "     >> select(\n",
    "        _.agency_name,\n",
    "        _.counties_served,\n",
    "        _.hq_city,\n",
    "        _.hq_county,\n",
    "        _.is_public_entity,\n",
    "        _.is_publicly_operating,\n",
    "        _.funding_sources,\n",
    "        _.on_demand_vehicles_at_max_service,\n",
    "        _.vehicles_at_max_service\n",
    "    )\n",
    "    >> collect()\n",
    "    )\n",
    "    \n",
    "    cols = list(df.columns)\n",
    "    df2 = df.sort_values(by=cols, na_position='last')\n",
    "    df2 = df2.sort_values(by=[\"on_demand_vehicles_at_max_service\",\"vehicles_at_max_service\"], ascending = [False, False])\n",
    "    df3 = df2.groupby('agency_name').first().reset_index()\n",
    "    return df3"
   ]
  },
  {
   "cell_type": "markdown",
   "id": "348bb5ea-d62b-4825-9cea-8db2b49b232d",
   "metadata": {},
   "source": [
    "#### Merge mobility w/ NTD"
   ]
  },
  {
   "cell_type": "code",
   "execution_count": null,
   "id": "516b4fd9-08be-49c2-b84a-9a11c28e6b5a",
   "metadata": {},
   "outputs": [],
   "source": [
    "def merge_ntd_mobility(year:int)->pd.DataFrame:\n",
    "    ntd = load_ntd(year)\n",
    "    mobility = load_mobility()\n",
    "    m1 = pd.merge(\n",
    "    mobility,\n",
    "    ntd,\n",
    "    how=\"inner\",\n",
    "    on=\"agency_name\")\n",
    "    agency_dict = {\n",
    "    \"City of Fairfield, California\": \"City of Fairfield\",\n",
    "    \"Livermore / Amador Valley Transit Authority\": \"Livermore-Amador Valley Transit Authority\",\n",
    "    \"Nevada County Transit Services\": \"Nevada County\",\n",
    "    \"Omnitrans\": \"OmniTrans\"}\n",
    "    \n",
    "    m1.agency_name = m1.agency_name.replace(agency_dict)\n",
    "    m1.agency_name = m1.\n",
    "    return m1"
   ]
  },
  {
   "cell_type": "code",
   "execution_count": null,
   "id": "5c89030f-35bc-4526-98b4-4567abace626",
   "metadata": {},
   "outputs": [],
   "source": [
    "op_profiles = op_prep.operators_with_rt()[['organization_name']]"
   ]
  },
  {
   "cell_type": "code",
   "execution_count": null,
   "id": "8a527ad5-22af-4646-b71f-2e3f0e2ed1cd",
   "metadata": {
    "scrolled": true,
    "tags": []
   },
   "outputs": [],
   "source": [
    "op_profiles.organization_name.unique()"
   ]
  },
  {
   "cell_type": "code",
   "execution_count": null,
   "id": "bbe94af0-bd9b-4181-a6ed-fb29fcd83337",
   "metadata": {},
   "outputs": [],
   "source": [
    "ntd_mobility_df = merge_ntd_mobility(2022)"
   ]
  },
  {
   "cell_type": "code",
   "execution_count": null,
   "id": "679cca90-3ef3-4731-8911-46c47ed6fc0b",
   "metadata": {
    "scrolled": true,
    "tags": []
   },
   "outputs": [],
   "source": [
    "ntd_mobility_df.loc[ntd_mobility_df.agency_name.str.contains(\"Los Angeles\")].agency_name.unique()"
   ]
  },
  {
   "cell_type": "markdown",
   "id": "2aefabb4-4ff9-412a-8bce-87ec39329daf",
   "metadata": {},
   "source": [
    "#### Merge mobility w/ relevant operators"
   ]
  },
  {
   "cell_type": "code",
   "execution_count": null,
   "id": "bd64ab81-6c80-4810-971b-8ac5881e8871",
   "metadata": {},
   "outputs": [],
   "source": [
    "def ntd_operator_info(year:int)->pd.DataFrame:\n",
    "    ntd_mobility_df = merge_ntd_mobility(year)\n",
    "    op_profiles = op_prep.operators_with_rt()[['organization_name']]\n",
    "    m1 = pd.merge(op_profiles, ntd_mobility_df,\n",
    "                 how = \"inner\", left_on = [\"organization_name\"],\n",
    "                 right_on = [\"agency_name\"])\n",
    "    return m1"
   ]
  },
  {
   "cell_type": "code",
   "execution_count": null,
   "id": "f7ba45b5-306a-4303-a8ad-73917f44a3cc",
   "metadata": {
    "scrolled": true,
    "tags": []
   },
   "outputs": [],
   "source": [
    "ntd_operator_info(2022)"
   ]
  },
  {
   "cell_type": "markdown",
   "id": "e2be6ef7-fff6-4e54-85c3-7f890d6e36c0",
   "metadata": {},
   "source": [
    "### Dim Organizations\n",
    "* https://dbt-docs.calitp.org/#!/model/model.calitp_warehouse.dim_organizations"
   ]
  },
  {
   "cell_type": "code",
   "execution_count": null,
   "id": "b3c15b25-c73b-46ab-90b4-6093caed6d10",
   "metadata": {},
   "outputs": [],
   "source": [
    "# rganizations = tbls.mart_transit_database.dim_organizations() >> collect()"
   ]
  },
  {
   "cell_type": "code",
   "execution_count": null,
   "id": "a37f4556-478e-4423-9605-16e9769a55ae",
   "metadata": {},
   "outputs": [],
   "source": [
    "# organizations.head(2)"
   ]
  }
 ],
 "metadata": {
  "kernelspec": {
   "display_name": "Python 3 (ipykernel)",
   "language": "python",
   "name": "python3"
  },
  "language_info": {
   "codemirror_mode": {
    "name": "ipython",
    "version": 3
   },
   "file_extension": ".py",
   "mimetype": "text/x-python",
   "name": "python",
   "nbconvert_exporter": "python",
   "pygments_lexer": "ipython3",
   "version": "3.9.13"
  }
 },
 "nbformat": 4,
 "nbformat_minor": 5
}
