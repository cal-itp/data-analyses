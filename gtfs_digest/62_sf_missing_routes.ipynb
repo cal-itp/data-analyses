{
 "cells": [
  {
   "cell_type": "markdown",
   "id": "1d316258-5e13-45c1-b01e-8e3b4ca5ee9c",
   "metadata": {},
   "source": [
    "# Map of Routes & Service Hours missing for San Francisco"
   ]
  },
  {
   "cell_type": "code",
   "execution_count": 20,
   "id": "86ad68a0-82d9-40a8-aff5-3cb186f8a6a8",
   "metadata": {},
   "outputs": [],
   "source": [
    "import _report_utils\n",
    "import _section1_utils as section1\n",
    "import geopandas as gpd\n",
    "import merge_data\n",
    "import merge_operator_data \n",
    "import numpy as np\n",
    "import pandas as pd\n",
    "from segment_speed_utils import gtfs_schedule_wrangling, helpers, segment_calcs\n",
    "from segment_speed_utils.project_vars import COMPILED_CACHED_VIEWS, PROJECT_CRS\n",
    "from shared_utils import (\n",
    "    catalog_utils,\n",
    "    portfolio_utils,\n",
    "    rt_dates,\n",
    "    rt_utils,\n",
    "    time_helpers,\n",
    ")\n",
    "from update_vars import GTFS_DATA_DICT, RT_SCHED_GCS, SCHED_GCS, SEGMENT_GCS\n",
    "\n",
    "# Data Dictionary\n",
    "GTFS_DATA_DICT = catalog_utils.get_catalog(\"gtfs_analytics_data\")"
   ]
  },
  {
   "cell_type": "code",
   "execution_count": 2,
   "id": "781f6f6e-e829-40b9-a8a2-c70cb89e3a71",
   "metadata": {
    "tags": []
   },
   "outputs": [],
   "source": [
    "pd.options.display.max_columns = 100\n",
    "pd.options.display.float_format = \"{:.2f}\".format\n",
    "pd.set_option(\"display.max_rows\", None)\n",
    "pd.set_option(\"display.max_colwidth\", None)"
   ]
  },
  {
   "cell_type": "code",
   "execution_count": 3,
   "id": "dafb6216-3351-467a-a702-59c81439c997",
   "metadata": {
    "tags": []
   },
   "outputs": [],
   "source": [
    "organization_name = \"City and County of San Francisco\""
   ]
  },
  {
   "cell_type": "code",
   "execution_count": 6,
   "id": "9be0acba-3c4d-4b21-bdb6-aaaf5cf70b68",
   "metadata": {
    "tags": []
   },
   "outputs": [],
   "source": [
    "name = section1.organization_name_crosswalk(organization_name)"
   ]
  },
  {
   "cell_type": "markdown",
   "id": "1e709891-630d-4c37-abe9-ea923a0d06d5",
   "metadata": {},
   "source": [
    "## Loading operator map: only one row in the original dataframe! "
   ]
  },
  {
   "cell_type": "code",
   "execution_count": 7,
   "id": "8a430566-cc91-48fc-842e-4f1153504aa7",
   "metadata": {
    "tags": []
   },
   "outputs": [],
   "source": [
    "operator_route_map = section1.load_operator_map(name)"
   ]
  },
  {
   "cell_type": "code",
   "execution_count": 8,
   "id": "d5d5e504-56dd-44af-835d-4406804ea344",
   "metadata": {
    "tags": []
   },
   "outputs": [
    {
     "data": {
      "text/plain": [
       "1"
      ]
     },
     "execution_count": 8,
     "metadata": {},
     "output_type": "execute_result"
    }
   ],
   "source": [
    "len(operator_route_map)"
   ]
  },
  {
   "cell_type": "code",
   "execution_count": 11,
   "id": "39979018-721d-4bcf-922c-3d514a734e1a",
   "metadata": {
    "tags": []
   },
   "outputs": [
    {
     "data": {
      "text/plain": [
       "Index(['shape_array_key', 'geometry', 'feed_key', 'schedule_gtfs_dataset_key',\n",
       "       'dir_0_1', 'route_key', 'Service meters', 'Service Miles',\n",
       "       'is_downtown_local', 'is_local', 'is_coverage', 'is_rapid',\n",
       "       'is_express', 'is_rail', 'Organization ID', 'Organization',\n",
       "       'Transit Operator', 'route_long_name', 'route_short_name', 'Route',\n",
       "       'Route ID'],\n",
       "      dtype='object')"
      ]
     },
     "execution_count": 11,
     "metadata": {},
     "output_type": "execute_result"
    }
   ],
   "source": [
    "operator_route_map.columns"
   ]
  },
  {
   "cell_type": "code",
   "execution_count": 21,
   "id": "9d45d664-9e20-4dcc-8886-dd6926965edc",
   "metadata": {
    "tags": []
   },
   "outputs": [
    {
     "data": {
      "text/plain": [
       "'digest/operator_routes'"
      ]
     },
     "execution_count": 21,
     "metadata": {},
     "output_type": "execute_result"
    }
   ],
   "source": [
    "GTFS_DATA_DICT.digest_tables.operator_routes_map"
   ]
  },
  {
   "cell_type": "code",
   "execution_count": 16,
   "id": "2598ae3b-5977-4737-bb87-c50211ef9407",
   "metadata": {
    "tags": []
   },
   "outputs": [],
   "source": [
    "op_routes_url = f\"{GTFS_DATA_DICT.digest_tables.dir}{GTFS_DATA_DICT.digest_tables.operator_routes_map}.parquet\"\n",
    "op_routes_gdf = gpd.read_parquet(\n",
    "    op_routes_url,\n",
    "    filters=[[(\"name\", \"==\", name)]])"
   ]
  },
  {
   "cell_type": "code",
   "execution_count": 17,
   "id": "a56b4900-2339-4b34-abe7-e71203d0d405",
   "metadata": {
    "tags": []
   },
   "outputs": [
    {
     "data": {
      "text/plain": [
       "1"
      ]
     },
     "execution_count": 17,
     "metadata": {},
     "output_type": "execute_result"
    }
   ],
   "source": [
    "len(op_routes_gdf)"
   ]
  },
  {
   "cell_type": "code",
   "execution_count": 12,
   "id": "28fa7119-f4b8-44d1-83e3-715b6ec129ea",
   "metadata": {
    "tags": []
   },
   "outputs": [],
   "source": [
    "# Find the most recent geography for each route.\n",
    "op_routes_gdf = op_routes_gdf.sort_values(by = [\"service_date\"], ascending = False)\n",
    "    "
   ]
  },
  {
   "cell_type": "code",
   "execution_count": 14,
   "id": "90a1214b-035a-4a61-a211-715ac7866e88",
   "metadata": {
    "tags": []
   },
   "outputs": [
    {
     "data": {
      "text/plain": [
       "Index(['shape_array_key', 'geometry', 'feed_key', 'schedule_gtfs_dataset_key',\n",
       "       'direction_id', 'route_key', 'route_length', 'route_length_miles',\n",
       "       'is_downtown_local', 'is_local', 'is_coverage', 'is_rapid',\n",
       "       'is_express', 'is_rail', 'organization_source_record_id',\n",
       "       'organization_name', 'service_date', 'name', 'route_long_name',\n",
       "       'route_short_name', 'route_combined_name', 'route_id'],\n",
       "      dtype='object')"
      ]
     },
     "execution_count": 14,
     "metadata": {},
     "output_type": "execute_result"
    }
   ],
   "source": [
    "op_routes_gdf.columns"
   ]
  },
  {
   "cell_type": "code",
   "execution_count": 15,
   "id": "d6a8d64e-aa3f-4e2d-b0c9-a6b19a03fd1d",
   "metadata": {
    "tags": []
   },
   "outputs": [
    {
     "data": {
      "text/html": [
       "<div>\n",
       "<style scoped>\n",
       "    .dataframe tbody tr th:only-of-type {\n",
       "        vertical-align: middle;\n",
       "    }\n",
       "\n",
       "    .dataframe tbody tr th {\n",
       "        vertical-align: top;\n",
       "    }\n",
       "\n",
       "    .dataframe thead th {\n",
       "        text-align: right;\n",
       "    }\n",
       "</style>\n",
       "<table border=\"1\" class=\"dataframe\">\n",
       "  <thead>\n",
       "    <tr style=\"text-align: right;\">\n",
       "      <th></th>\n",
       "      <th>route_combined_name</th>\n",
       "    </tr>\n",
       "    <tr>\n",
       "      <th>service_date</th>\n",
       "      <th></th>\n",
       "    </tr>\n",
       "  </thead>\n",
       "  <tbody>\n",
       "    <tr>\n",
       "      <th>2025-02-12</th>\n",
       "      <td>1</td>\n",
       "    </tr>\n",
       "  </tbody>\n",
       "</table>\n",
       "</div>"
      ],
      "text/plain": [
       "              route_combined_name\n",
       "service_date                     \n",
       "2025-02-12                      1"
      ]
     },
     "execution_count": 15,
     "metadata": {},
     "output_type": "execute_result"
    }
   ],
   "source": [
    "op_routes_gdf.groupby([\"service_date\"]).agg({\"route_combined_name\":\"nunique\"})"
   ]
  },
  {
   "cell_type": "markdown",
   "id": "51daab6c-e969-4d76-845f-d88801b5a376",
   "metadata": {},
   "source": [
    "## Sentence says SF only runs one route."
   ]
  },
  {
   "cell_type": "code",
   "execution_count": 18,
   "id": "3ba7857a-23c4-49d8-b4c5-52344bb97c36",
   "metadata": {
    "tags": []
   },
   "outputs": [],
   "source": [
    "operator_profiles = section1.load_operator_ntd_profile(organization_name)"
   ]
  },
  {
   "cell_type": "code",
   "execution_count": 19,
   "id": "bff91300-f907-4ab3-847e-c5579fcdc96e",
   "metadata": {
    "tags": []
   },
   "outputs": [
    {
     "data": {
      "text/html": [
       "<div>\n",
       "<style scoped>\n",
       "    .dataframe tbody tr th:only-of-type {\n",
       "        vertical-align: middle;\n",
       "    }\n",
       "\n",
       "    .dataframe tbody tr th {\n",
       "        vertical-align: top;\n",
       "    }\n",
       "\n",
       "    .dataframe thead th {\n",
       "        text-align: right;\n",
       "    }\n",
       "</style>\n",
       "<table border=\"1\" class=\"dataframe\">\n",
       "  <thead>\n",
       "    <tr style=\"text-align: right;\">\n",
       "      <th></th>\n",
       "      <th>schedule_gtfs_dataset_key</th>\n",
       "      <th>VP per Minute (All Routes)</th>\n",
       "      <th>Spatial Accuracy (All Routes)</th>\n",
       "      <th>Date</th>\n",
       "      <th># Routes</th>\n",
       "      <th># Trips</th>\n",
       "      <th># Shapes</th>\n",
       "      <th># Stops</th>\n",
       "      <th># Arrivals</th>\n",
       "      <th>Operator Service Miles</th>\n",
       "      <th>Avg Arrivals per Stop</th>\n",
       "      <th># Downtown Local Route Types</th>\n",
       "      <th># Local Route Types</th>\n",
       "      <th># Coverage Route Types</th>\n",
       "      <th># Rapid Route Types</th>\n",
       "      <th># Express Route Types</th>\n",
       "      <th># Rail Route Types</th>\n",
       "      <th>Transit Operator</th>\n",
       "      <th>Organization ID</th>\n",
       "      <th>Organization</th>\n",
       "      <th>District</th>\n",
       "      <th>counties_served</th>\n",
       "      <th>service_area_sq_miles</th>\n",
       "      <th>hq_city</th>\n",
       "      <th>service_area_pop</th>\n",
       "      <th>organization_type</th>\n",
       "      <th>primary_uza_name</th>\n",
       "      <th>reporter_type</th>\n",
       "    </tr>\n",
       "  </thead>\n",
       "  <tbody>\n",
       "    <tr>\n",
       "      <th>23</th>\n",
       "      <td>e6230c3c190508921b7f350020e82ed5</td>\n",
       "      <td>NaN</td>\n",
       "      <td>NaN</td>\n",
       "      <td>2025-02-12</td>\n",
       "      <td>1.00</td>\n",
       "      <td>32.00</td>\n",
       "      <td>2.00</td>\n",
       "      <td>18.00</td>\n",
       "      <td>320.00</td>\n",
       "      <td>2.39</td>\n",
       "      <td>17.78</td>\n",
       "      <td>2.00</td>\n",
       "      <td>0.00</td>\n",
       "      <td>0.00</td>\n",
       "      <td>1.00</td>\n",
       "      <td>0.00</td>\n",
       "      <td>0.00</td>\n",
       "      <td>Bay Area 511 Golden Gate Park Shuttle Schedule</td>\n",
       "      <td>rechaapWbeffO33OX</td>\n",
       "      <td>City and County of San Francisco</td>\n",
       "      <td>04 - Oakland</td>\n",
       "      <td>San Francisco</td>\n",
       "      <td>49</td>\n",
       "      <td>San Francisco</td>\n",
       "      <td>842754</td>\n",
       "      <td>City, County or Local Government Unit or Department of Transportation</td>\n",
       "      <td>San Francisco--Oakland, CA</td>\n",
       "      <td>Full Reporter</td>\n",
       "    </tr>\n",
       "  </tbody>\n",
       "</table>\n",
       "</div>"
      ],
      "text/plain": [
       "           schedule_gtfs_dataset_key  VP per Minute (All Routes)  \\\n",
       "23  e6230c3c190508921b7f350020e82ed5                         NaN   \n",
       "\n",
       "    Spatial Accuracy (All Routes)       Date  # Routes  # Trips  # Shapes  \\\n",
       "23                            NaN 2025-02-12      1.00    32.00      2.00   \n",
       "\n",
       "    # Stops  # Arrivals  Operator Service Miles  Avg Arrivals per Stop  \\\n",
       "23    18.00      320.00                    2.39                  17.78   \n",
       "\n",
       "    # Downtown Local Route Types  # Local Route Types  # Coverage Route Types  \\\n",
       "23                          2.00                 0.00                    0.00   \n",
       "\n",
       "    # Rapid Route Types  # Express Route Types  # Rail Route Types  \\\n",
       "23                 1.00                   0.00                0.00   \n",
       "\n",
       "                                  Transit Operator    Organization ID  \\\n",
       "23  Bay Area 511 Golden Gate Park Shuttle Schedule  rechaapWbeffO33OX   \n",
       "\n",
       "                        Organization      District counties_served  \\\n",
       "23  City and County of San Francisco  04 - Oakland   San Francisco   \n",
       "\n",
       "    service_area_sq_miles        hq_city  service_area_pop  \\\n",
       "23                     49  San Francisco            842754   \n",
       "\n",
       "                                                        organization_type  \\\n",
       "23  City, County or Local Government Unit or Department of Transportation   \n",
       "\n",
       "              primary_uza_name  reporter_type  \n",
       "23  San Francisco--Oakland, CA  Full Reporter  "
      ]
     },
     "execution_count": 19,
     "metadata": {},
     "output_type": "execute_result"
    }
   ],
   "source": [
    "operator_profiles"
   ]
  },
  {
   "cell_type": "markdown",
   "id": "71481d8f-6ac0-43bd-9f44-ef6209c8cdc4",
   "metadata": {},
   "source": [
    "## Check `operator_profiles`"
   ]
  },
  {
   "cell_type": "code",
   "execution_count": 22,
   "id": "9d49dbcd-c276-4363-aa74-b8d955f6e7f1",
   "metadata": {},
   "outputs": [],
   "source": [
    "import sys\n",
    "\n",
    "sys.path.append(\"../gtfs_funnel\")\n",
    "import crosswalk_gtfs_dataset_key_to_organization"
   ]
  },
  {
   "cell_type": "code",
   "execution_count": null,
   "id": "70d01e24-b6a7-4aae-8c2d-2df91849f478",
   "metadata": {},
   "outputs": [],
   "source": []
  }
 ],
 "metadata": {
  "kernelspec": {
   "display_name": "Python 3 (ipykernel)",
   "language": "python",
   "name": "python3"
  },
  "language_info": {
   "codemirror_mode": {
    "name": "ipython",
    "version": 3
   },
   "file_extension": ".py",
   "mimetype": "text/x-python",
   "name": "python",
   "nbconvert_exporter": "python",
   "pygments_lexer": "ipython3",
   "version": "3.11.10"
  }
 },
 "nbformat": 4,
 "nbformat_minor": 5
}
