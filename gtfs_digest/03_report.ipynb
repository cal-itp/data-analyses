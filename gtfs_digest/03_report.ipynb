{
 "cells": [
  {
   "cell_type": "code",
   "execution_count": 1,
   "id": "936e2c22-24ba-4f20-99d8-846cfe0a4e27",
   "metadata": {},
   "outputs": [],
   "source": [
    "%%capture\n",
    "\n",
    "import warnings\n",
    "\n",
    "warnings.filterwarnings(\"ignore\")\n",
    "import calitp_data_analysis.magics\n",
    "\n",
    "import _section1_utils as section1\n",
    "import _section2_utils as section2\n",
    "import altair as alt\n",
    "\n",
    "import pandas as pd\n",
    "import yaml\n",
    "from IPython.display import HTML, Image, Markdown, display, display_html\n",
    "from shared_utils import catalog_utils, rt_dates, rt_utils\n",
    "\n",
    "with open(\"readable.yml\") as f:\n",
    "    readable_dict = yaml.safe_load(f)"
   ]
  },
  {
   "cell_type": "code",
   "execution_count": 2,
   "id": "b89867bd-a089-4033-97d7-d6d1ae50b697",
   "metadata": {},
   "outputs": [],
   "source": [
    "pd.options.display.max_columns = 100\n",
    "pd.options.display.float_format = \"{:.2f}\".format\n",
    "pd.set_option(\"display.max_rows\", None)\n",
    "pd.set_option(\"display.max_colwidth\", None)"
   ]
  },
  {
   "cell_type": "code",
   "execution_count": 3,
   "id": "6bd20d9d-a3af-430e-8c19-c90fb8ef9e62",
   "metadata": {
    "tags": [
     "parameters"
    ]
   },
   "outputs": [],
   "source": [
    "# Comment out and leave this cell right below pandas\n",
    "# organization_name = \"Marin County Transit District\"\n",
    "# organization_name = \"Monterey-Salinas Transit\"\n",
    "# organization_name = \"City of Santa Maria\"\n",
    "organization_name = \"Capitol Corridor Joint Powers Authority\""
   ]
  },
  {
   "cell_type": "code",
   "execution_count": 4,
   "id": "d870c492-ef2c-45f6-ab47-8d46eda7f344",
   "metadata": {
    "tags": []
   },
   "outputs": [],
   "source": [
    "# %%capture_parameters\n",
    "# organization_name"
   ]
  },
  {
   "cell_type": "code",
   "execution_count": 5,
   "id": "b8e11fd2-041f-4e1d-a00f-6e000269c1a7",
   "metadata": {},
   "outputs": [],
   "source": [
    "# Load first dataset\n",
    "operator_profiles = section1.load_operator_ntd_profile(organization_name)"
   ]
  },
  {
   "cell_type": "code",
   "execution_count": 6,
   "id": "8e840f91-2e1a-4235-bf6b-0c049a569b4a",
   "metadata": {},
   "outputs": [],
   "source": [
    "# Need to load \"name\" using this function rather than taking it from\n",
    "# operator profiles above because \"name\" and \"organization_name\" differ.\n",
    "name = section1.organization_name_crosswalk(organization_name)"
   ]
  },
  {
   "cell_type": "code",
   "execution_count": 7,
   "id": "517702ae-a7ac-4cc4-a2d4-158fdc8d6919",
   "metadata": {},
   "outputs": [],
   "source": [
    "operator_route_map = section1.load_operator_map(name)"
   ]
  },
  {
   "cell_type": "code",
   "execution_count": 8,
   "id": "dd8b7a4c-7682-4949-9e9b-990ce6867627",
   "metadata": {},
   "outputs": [],
   "source": [
    "scheduled_service = section1.load_operator_service_hours(name)"
   ]
  },
  {
   "cell_type": "code",
   "execution_count": 9,
   "id": "72641974-01d5-47cf-b963-baf546e9e958",
   "metadata": {},
   "outputs": [],
   "source": [
    "# Dataset with agency metrics\n",
    "try:\n",
    "    agency_metrics_df = section2.load_operator_metrics(organization_name)\n",
    "except:\n",
    "    pass"
   ]
  },
  {
   "cell_type": "code",
   "execution_count": 10,
   "id": "f07ccefc-0d71-4ad0-8435-9e2941aba9b2",
   "metadata": {},
   "outputs": [],
   "source": [
    "# Dataset for Section 2: because not every operator has realtime data,\n",
    "# we need a try-except clause. \n",
    "try:\n",
    "    sched_vp_df = section2.load_schedule_vp_metrics(organization_name)\n",
    "except:\n",
    "    pass"
   ]
  },
  {
   "cell_type": "code",
   "execution_count": 11,
   "id": "67a74771-f5c1-4757-9f79-bc5e87fba09e",
   "metadata": {},
   "outputs": [
    {
     "data": {
      "text/html": [
       "\n",
       "<style>\n",
       "form.vega-bindings {\n",
       "  position: absolute;\n",
       "  right: 0px;\n",
       "  top: 0px;\n",
       "}\n",
       "</style>\n"
      ],
      "text/plain": [
       "<IPython.core.display.HTML object>"
      ]
     },
     "metadata": {},
     "output_type": "display_data"
    }
   ],
   "source": [
    "# Set drop down menu to be on the upper right for the charts\n",
    "display(\n",
    "    HTML(\n",
    "        \"\"\"\n",
    "<style>\n",
    "form.vega-bindings {\n",
    "  position: absolute;\n",
    "  right: 0px;\n",
    "  top: 0px;\n",
    "}\n",
    "</style>\n",
    "\"\"\"\n",
    "    )\n",
    ")"
   ]
  },
  {
   "cell_type": "markdown",
   "id": "38103db9-fd56-4cbf-9fa7-336da58fd3f6",
   "metadata": {
    "tags": [
     "parameters"
    ]
   },
   "source": [
    "# {organization_name}"
   ]
  },
  {
   "cell_type": "markdown",
   "id": "fd3a4d8d-b16a-4659-b036-f7710f423239",
   "metadata": {},
   "source": [
    "## Operator Overview"
   ]
  },
  {
   "cell_type": "code",
   "execution_count": 12,
   "id": "65e5efa4-e731-4429-ae8c-31f90dc4fbf0",
   "metadata": {},
   "outputs": [],
   "source": [
    "try:\n",
    "    date = operator_profiles[\"Date\"].dt.to_pydatetime()[0]\n",
    "except:\n",
    "    pass"
   ]
  },
  {
   "cell_type": "code",
   "execution_count": 13,
   "id": "c2bb8f59-af0f-4ab1-9b33-e9306ff5b92f",
   "metadata": {},
   "outputs": [],
   "source": [
    "try:\n",
    "    service_area = int(operator_profiles.service_area_sq_miles.values[0])\n",
    "    service_area = \"{:,}\".format(service_area)\n",
    "    service_pop = int(operator_profiles.service_area_pop.values[0])\n",
    "    service_pop = \"{:,}\".format(service_pop)\n",
    "    display(\n",
    "        Markdown(\n",
    "            f\"\"\"{organization_name} is headquartered in <b>{operator_profiles.hq_city.values[0]}</b> in the Urbanized Area of <b>{operator_profiles.primary_uza_name.values[0]}</b>.<br>\n",
    "            This operator provides <b>{service_area}</b> square miles of public transit service, which has a service population of <b>{service_pop}</b>.<br>\n",
    "            This organization is a {operator_profiles.organization_type.values[0]}.<br>\n",
    "            <b>Data Source</b>: <a href=\"https://www.transit.dot.gov/ntd/data-product/2022-annual-database-agency-information\">National Transit Database</a> Annual Agency Information.\n",
    "            \"\"\"\n",
    "        )\n",
    "    )\n",
    "except:\n",
    "    pass"
   ]
  },
  {
   "cell_type": "markdown",
   "id": "8b32e77d-e7da-4c22-a8bb-520063a61f9f",
   "metadata": {},
   "source": [
    "### Route Typologies"
   ]
  },
  {
   "cell_type": "code",
   "execution_count": 14,
   "id": "41803ddf-26e2-457a-aa58-c87379e755d8",
   "metadata": {},
   "outputs": [
    {
     "data": {
      "text/markdown": [
       "The following data presents an overview of GTFS characteristics using data from the most recent date of\n",
       "      <b>December 2024</b>."
      ],
      "text/plain": [
       "<IPython.core.display.Markdown object>"
      ]
     },
     "metadata": {},
     "output_type": "display_data"
    }
   ],
   "source": [
    "try:\n",
    "    display(\n",
    "        Markdown(\n",
    "            f\"\"\"The following data presents an overview of GTFS characteristics using data from the most recent date of\n",
    "      <b>{date.strftime(\"%B\")} {date.year}</b>.\"\"\"\n",
    "        )\n",
    "    )\n",
    "except:\n",
    "    pass"
   ]
  },
  {
   "cell_type": "code",
   "execution_count": 15,
   "id": "232e2002-d043-43c1-80d2-22c1183c66a1",
   "metadata": {},
   "outputs": [
    {
     "data": {
      "text/markdown": [
       "Capitol Corridor Joint Powers Authority runs <b>3.0</b> unique routes. Below is the breakdown of the routes and routes can belong to one or more categories.<p>\n",
       "            Route categories are determined using a approach that looks at GTFS trips data\n",
       "        alongside National Association of City Transportation Officials (NACTO)'s\n",
       "        <a href=\"https://nacto.org/publication/transit-street-design-guide/introduction/service-context/transit-route-types/\">Transit Route Types</a> \n",
       "        and <a href= \"https://nacto.org/publication/transit-street-design-guide/introduction/service-context/transit-frequency-volume/\">Frequency and Volume</a>\n",
       "        guides. Please see the <a href=\"https://github.com/cal-itp/data-analyses/blob/main/gtfs_digest/methodology.md\">methodology docs</a> for more details on this approach.\n",
       "        "
      ],
      "text/plain": [
       "<IPython.core.display.Markdown object>"
      ]
     },
     "metadata": {},
     "output_type": "display_data"
    }
   ],
   "source": [
    "try:\n",
    "    n_routes = operator_profiles[\"# Routes\"].values[0]\n",
    "    n_routes = \"{:,}\".format(n_routes)\n",
    "    display(\n",
    "        Markdown(\n",
    "            f\"\"\"{organization_name} runs <b>{n_routes}</b> unique routes. Below is the breakdown of the routes and routes can belong to one or more categories.<p>\n",
    "            Route categories are determined using a approach that looks at GTFS trips data\n",
    "        alongside National Association of City Transportation Officials (NACTO)'s\n",
    "        <a href=\"https://nacto.org/publication/transit-street-design-guide/introduction/service-context/transit-route-types/\">Transit Route Types</a> \n",
    "        and <a href= \"https://nacto.org/publication/transit-street-design-guide/introduction/service-context/transit-frequency-volume/\">Frequency and Volume</a>\n",
    "        guides. Please see the <a href=\"https://github.com/cal-itp/data-analyses/blob/main/gtfs_digest/methodology.md\">methodology docs</a> for more details on this approach.\n",
    "        \"\"\"\n",
    "        )\n",
    "    )\n",
    "except:\n",
    "    display(Markdown(f\"\"\"{organization_name} doesn't have an operator profile.\"\"\"))"
   ]
  },
  {
   "cell_type": "code",
   "execution_count": 16,
   "id": "c96d1998-9da6-4c28-aec6-c27ffd1edd88",
   "metadata": {},
   "outputs": [
    {
     "data": {
      "text/html": [
       "\n",
       "<style>\n",
       "  #altair-viz-e78def63a0d74ec0a13b6583e427c6a1.vega-embed {\n",
       "    width: 100%;\n",
       "    display: flex;\n",
       "  }\n",
       "\n",
       "  #altair-viz-e78def63a0d74ec0a13b6583e427c6a1.vega-embed details,\n",
       "  #altair-viz-e78def63a0d74ec0a13b6583e427c6a1.vega-embed details summary {\n",
       "    position: relative;\n",
       "  }\n",
       "</style>\n",
       "<div id=\"altair-viz-e78def63a0d74ec0a13b6583e427c6a1\"></div>\n",
       "<script type=\"text/javascript\">\n",
       "  var VEGA_DEBUG = (typeof VEGA_DEBUG == \"undefined\") ? {} : VEGA_DEBUG;\n",
       "  (function(spec, embedOpt){\n",
       "    let outputDiv = document.currentScript.previousElementSibling;\n",
       "    if (outputDiv.id !== \"altair-viz-e78def63a0d74ec0a13b6583e427c6a1\") {\n",
       "      outputDiv = document.getElementById(\"altair-viz-e78def63a0d74ec0a13b6583e427c6a1\");\n",
       "    }\n",
       "    const paths = {\n",
       "      \"vega\": \"https://cdn.jsdelivr.net/npm/vega@5?noext\",\n",
       "      \"vega-lib\": \"https://cdn.jsdelivr.net/npm/vega-lib?noext\",\n",
       "      \"vega-lite\": \"https://cdn.jsdelivr.net/npm/vega-lite@5.17.0?noext\",\n",
       "      \"vega-embed\": \"https://cdn.jsdelivr.net/npm/vega-embed@6?noext\",\n",
       "    };\n",
       "\n",
       "    function maybeLoadScript(lib, version) {\n",
       "      var key = `${lib.replace(\"-\", \"\")}_version`;\n",
       "      return (VEGA_DEBUG[key] == version) ?\n",
       "        Promise.resolve(paths[lib]) :\n",
       "        new Promise(function(resolve, reject) {\n",
       "          var s = document.createElement('script');\n",
       "          document.getElementsByTagName(\"head\")[0].appendChild(s);\n",
       "          s.async = true;\n",
       "          s.onload = () => {\n",
       "            VEGA_DEBUG[key] = version;\n",
       "            return resolve(paths[lib]);\n",
       "          };\n",
       "          s.onerror = () => reject(`Error loading script: ${paths[lib]}`);\n",
       "          s.src = paths[lib];\n",
       "        });\n",
       "    }\n",
       "\n",
       "    function showError(err) {\n",
       "      outputDiv.innerHTML = `<div class=\"error\" style=\"color:red;\">${err}</div>`;\n",
       "      throw err;\n",
       "    }\n",
       "\n",
       "    function displayChart(vegaEmbed) {\n",
       "      vegaEmbed(outputDiv, spec, embedOpt)\n",
       "        .catch(err => showError(`Javascript Error: ${err.message}<br>This usually means there's a typo in your chart specification. See the javascript console for the full traceback.`));\n",
       "    }\n",
       "\n",
       "    if(typeof define === \"function\" && define.amd) {\n",
       "      requirejs.config({paths});\n",
       "      require([\"vega-embed\"], displayChart, err => showError(`Error loading script: ${err.message}`));\n",
       "    } else {\n",
       "      maybeLoadScript(\"vega\", \"5\")\n",
       "        .then(() => maybeLoadScript(\"vega-lite\", \"5.17.0\"))\n",
       "        .then(() => maybeLoadScript(\"vega-embed\", \"6\"))\n",
       "        .catch(showError)\n",
       "        .then(() => displayChart(vegaEmbed));\n",
       "    }\n",
       "  })({\"config\": {\"view\": {\"continuousWidth\": 300, \"continuousHeight\": 300}}, \"data\": {\"name\": \"data-12b3fae1e23405ef82ce3737d2f9cf0e\"}, \"mark\": {\"type\": \"arc\"}, \"encoding\": {\"color\": {\"field\": \"route_type\", \"scale\": {\"range\": [\"#5b8efd\", \"#765fec\", \"#fcb40e\", \"#fc5c04\", \"#dd217d\", \"#ccbb44\"]}, \"title\": \"Route Type\", \"type\": \"nominal\"}, \"theta\": {\"field\": \"total_routes\", \"type\": \"quantitative\"}, \"tooltip\": [{\"field\": \"route_type\", \"type\": \"nominal\"}, {\"field\": \"total_routes\", \"type\": \"quantitative\"}]}, \"height\": 250, \"title\": {\"text\": [\"Total Routes by Typology\"], \"subtitle\": [\"\"]}, \"width\": 400, \"$schema\": \"https://vega.github.io/schema/vega-lite/v5.17.0.json\", \"datasets\": {\"data-12b3fae1e23405ef82ce3737d2f9cf0e\": [{\"route_type\": \"# Downtown Local Route Types\", \"total_routes\": 0.0}, {\"route_type\": \"# Local Route Types\", \"total_routes\": 0.0}, {\"route_type\": \"# Coverage Route Types\", \"total_routes\": 1.0}, {\"route_type\": \"# Rapid Route Types\", \"total_routes\": 0.0}, {\"route_type\": \"# Express Route Types\", \"total_routes\": 0.0}, {\"route_type\": \"# Rail Route Types\", \"total_routes\": 0.0}]}}, {\"mode\": \"vega-lite\"});\n",
       "</script>"
      ],
      "text/plain": [
       "alt.Chart(...)"
      ]
     },
     "metadata": {},
     "output_type": "display_data"
    }
   ],
   "source": [
    "try:\n",
    "    route_typology_df = section1.route_typology(operator_profiles)\n",
    "    display(\n",
    "        section1.basic_pie_chart(\n",
    "            route_typology_df,\n",
    "            \"route_type\",\n",
    "            \"total_routes\",\n",
    "            readable_dict[\"route_typology\"][\"title\"],\n",
    "            readable_dict[\"route_typology\"][\"subtitle\"],\n",
    "        )\n",
    "    )\n",
    "\n",
    "except:\n",
    "    display(\n",
    "        Markdown(f\"\"\"{organization_name} doesn't have route typology data available.\"\"\")\n",
    "    )"
   ]
  },
  {
   "cell_type": "markdown",
   "id": "cd6424cf-63ab-4c1f-982b-afbd1b8ed357",
   "metadata": {},
   "source": [
    "### Service Area"
   ]
  },
  {
   "cell_type": "code",
   "execution_count": 17,
   "id": "f7f617f8-338d-4ea0-99e7-25c1bfe62e06",
   "metadata": {},
   "outputs": [
    {
     "data": {
      "text/markdown": [
       "Capitol Corridor Joint Powers Authority provides <b>233</b> miles of public transit.\n",
       "        The average length of a route is <b>77</b> miles.\n",
       "        "
      ],
      "text/plain": [
       "<IPython.core.display.Markdown object>"
      ]
     },
     "metadata": {},
     "output_type": "display_data"
    }
   ],
   "source": [
    "try:\n",
    "    n_service_miles = int(operator_profiles[\"Operator Service Miles\"].values[0])\n",
    "    n_service_miles = \"{:,}\".format(n_service_miles)\n",
    "\n",
    "    avg_service_miles = int(operator_route_map[\"Service Miles\"].mean())\n",
    "    avg_service_miles = \"{:,}\".format(avg_service_miles)\n",
    "    display(\n",
    "        Markdown(\n",
    "            f\"\"\"{organization_name} provides <b>{n_service_miles}</b> miles of public transit.\n",
    "        The average length of a route is <b>{avg_service_miles}</b> miles.\n",
    "        \"\"\"\n",
    "        )\n",
    "    )\n",
    "except:\n",
    "    pass"
   ]
  },
  {
   "cell_type": "code",
   "execution_count": 18,
   "id": "0b240e52-b3c5-439e-8c34-ede92c1e45cb",
   "metadata": {},
   "outputs": [
    {
     "data": {
      "text/html": [
       "\n",
       "<style>\n",
       "  #altair-viz-2277e032877942a1bdb6e6d87bdd608b.vega-embed {\n",
       "    width: 100%;\n",
       "    display: flex;\n",
       "  }\n",
       "\n",
       "  #altair-viz-2277e032877942a1bdb6e6d87bdd608b.vega-embed details,\n",
       "  #altair-viz-2277e032877942a1bdb6e6d87bdd608b.vega-embed details summary {\n",
       "    position: relative;\n",
       "  }\n",
       "</style>\n",
       "<div id=\"altair-viz-2277e032877942a1bdb6e6d87bdd608b\"></div>\n",
       "<script type=\"text/javascript\">\n",
       "  var VEGA_DEBUG = (typeof VEGA_DEBUG == \"undefined\") ? {} : VEGA_DEBUG;\n",
       "  (function(spec, embedOpt){\n",
       "    let outputDiv = document.currentScript.previousElementSibling;\n",
       "    if (outputDiv.id !== \"altair-viz-2277e032877942a1bdb6e6d87bdd608b\") {\n",
       "      outputDiv = document.getElementById(\"altair-viz-2277e032877942a1bdb6e6d87bdd608b\");\n",
       "    }\n",
       "    const paths = {\n",
       "      \"vega\": \"https://cdn.jsdelivr.net/npm/vega@5?noext\",\n",
       "      \"vega-lib\": \"https://cdn.jsdelivr.net/npm/vega-lib?noext\",\n",
       "      \"vega-lite\": \"https://cdn.jsdelivr.net/npm/vega-lite@5.17.0?noext\",\n",
       "      \"vega-embed\": \"https://cdn.jsdelivr.net/npm/vega-embed@6?noext\",\n",
       "    };\n",
       "\n",
       "    function maybeLoadScript(lib, version) {\n",
       "      var key = `${lib.replace(\"-\", \"\")}_version`;\n",
       "      return (VEGA_DEBUG[key] == version) ?\n",
       "        Promise.resolve(paths[lib]) :\n",
       "        new Promise(function(resolve, reject) {\n",
       "          var s = document.createElement('script');\n",
       "          document.getElementsByTagName(\"head\")[0].appendChild(s);\n",
       "          s.async = true;\n",
       "          s.onload = () => {\n",
       "            VEGA_DEBUG[key] = version;\n",
       "            return resolve(paths[lib]);\n",
       "          };\n",
       "          s.onerror = () => reject(`Error loading script: ${paths[lib]}`);\n",
       "          s.src = paths[lib];\n",
       "        });\n",
       "    }\n",
       "\n",
       "    function showError(err) {\n",
       "      outputDiv.innerHTML = `<div class=\"error\" style=\"color:red;\">${err}</div>`;\n",
       "      throw err;\n",
       "    }\n",
       "\n",
       "    function displayChart(vegaEmbed) {\n",
       "      vegaEmbed(outputDiv, spec, embedOpt)\n",
       "        .catch(err => showError(`Javascript Error: ${err.message}<br>This usually means there's a typo in your chart specification. See the javascript console for the full traceback.`));\n",
       "    }\n",
       "\n",
       "    if(typeof define === \"function\" && define.amd) {\n",
       "      requirejs.config({paths});\n",
       "      require([\"vega-embed\"], displayChart, err => showError(`Error loading script: ${err.message}`));\n",
       "    } else {\n",
       "      maybeLoadScript(\"vega\", \"5\")\n",
       "        .then(() => maybeLoadScript(\"vega-lite\", \"5.17.0\"))\n",
       "        .then(() => maybeLoadScript(\"vega-embed\", \"6\"))\n",
       "        .catch(showError)\n",
       "        .then(() => displayChart(vegaEmbed));\n",
       "    }\n",
       "  })({\"config\": {\"view\": {\"continuousWidth\": 300, \"continuousHeight\": 300}}, \"data\": {\"name\": \"data-b520069bd0da57b583df38395cd1521a\"}, \"mark\": {\"type\": \"bar\"}, \"encoding\": {\"color\": {\"field\": \"Route\", \"legend\": null, \"scale\": {\"range\": [\"#ccbb44\", \"#5b8efd\", \"#dd217d\"]}, \"title\": \"Route\", \"type\": \"nominal\"}, \"tooltip\": [{\"field\": \"Service Miles\", \"type\": \"quantitative\"}, {\"field\": \"Route\", \"type\": \"nominal\"}], \"x\": {\"field\": \"Service Miles\", \"title\": \"Service Miles\", \"type\": \"quantitative\"}, \"y\": {\"field\": \"Route\", \"title\": \"Route\", \"type\": \"nominal\"}}, \"title\": {\"text\": [\"Longest and Shortest Route\"], \"subtitle\": [\"In miles.\"]}, \"width\": 400, \"$schema\": \"https://vega.github.io/schema/vega-lite/v5.17.0.json\", \"datasets\": {\"data-b520069bd0da57b583df38395cd1521a\": [{\"Route\": \"SF Shuttle_SF\", \"Service Miles\": 8.63}, {\"Route\": \"CC Capitol Corridor\", \"Service Miles\": 168.75}]}}, {\"mode\": \"vega-lite\"});\n",
       "</script>"
      ],
      "text/plain": [
       "alt.Chart(...)"
      ]
     },
     "metadata": {},
     "output_type": "display_data"
    }
   ],
   "source": [
    "try:\n",
    "    longest_shortest_df = section1.shortest_longest_route(operator_route_map)\n",
    "    display(\n",
    "        section1.basic_bar_chart(\n",
    "            longest_shortest_df,\n",
    "            \"Service Miles\",\n",
    "            \"Route\",\n",
    "            readable_dict[\"longest_shortest_route\"][\"title\"],\n",
    "            readable_dict[\"longest_shortest_route\"][\"subtitle\"],\n",
    "        )\n",
    "    )\n",
    "except:\n",
    "    pass"
   ]
  },
  {
   "cell_type": "code",
   "execution_count": 19,
   "id": "daaf9009-6a25-441e-a58d-66b60d04d35c",
   "metadata": {},
   "outputs": [
    {
     "data": {
      "text/markdown": [
       "Capitol Corridor Joint Powers Authority stops at <b>20</b> unique stops, \n",
       "            totaling to <b>378</b> arrivals. The average arrivals per stop \n",
       "            is <b>18</b>.\n",
       "        "
      ],
      "text/plain": [
       "<IPython.core.display.Markdown object>"
      ]
     },
     "metadata": {},
     "output_type": "display_data"
    }
   ],
   "source": [
    "try:\n",
    "    n_stops = int(operator_profiles[\"# Stops\"].values[0])\n",
    "    n_stops = \"{:,}\".format(n_stops)\n",
    "\n",
    "    n_arrivals = int(operator_profiles[\"# Arrivals\"].values[0])\n",
    "    n_arrivals = \"{:,}\".format(n_arrivals)\n",
    "\n",
    "    mean_arrivals = int(operator_profiles[\"Avg Arrivals per Stop\"].values[0])\n",
    "    mean_arrivals = \"{:,}\".format(mean_arrivals)\n",
    "    display(\n",
    "        Markdown(\n",
    "            f\"\"\"{organization_name} stops at <b>{n_stops}</b> unique stops, \n",
    "            totaling to <b>{n_arrivals}</b> arrivals. The average arrivals per stop \n",
    "            is <b>{mean_arrivals}</b>.\n",
    "        \"\"\"\n",
    "        )\n",
    "    )\n",
    "except:\n",
    "    pass"
   ]
  },
  {
   "cell_type": "code",
   "execution_count": 20,
   "id": "821bca2d-7fdd-4e81-af9b-c02deabfe837",
   "metadata": {},
   "outputs": [
    {
     "data": {
      "text/markdown": [
       "Capitol Corridor Joint Powers Authority provides public transit in Alameda, Contra Costa, Placer, Sacramento, San Francisco, Santa Clara, Solano, Yolo counties."
      ],
      "text/plain": [
       "<IPython.core.display.Markdown object>"
      ]
     },
     "metadata": {},
     "output_type": "display_data"
    }
   ],
   "source": [
    "try:\n",
    "    counties_df = section1.counties_served(operator_route_map)\n",
    "    display(\n",
    "        Markdown(\n",
    "            f\"{organization_name} provides public transit in {counties_df['all'].values[0]} counties.\"\n",
    "        )\n",
    "    )\n",
    "except:\n",
    "    display(Markdown(f\"\"\"{organization_name} doesn't have an route geographies.\"\"\"))"
   ]
  },
  {
   "cell_type": "markdown",
   "id": "4a9d35a4-088a-4f74-ac4b-dff59b9f427a",
   "metadata": {},
   "source": [
    "### Map of Routes"
   ]
  },
  {
   "cell_type": "code",
   "execution_count": 21,
   "id": "1c89d07e-34dd-4c70-8ae4-0e427d10a6d7",
   "metadata": {},
   "outputs": [
    {
     "data": {
      "text/html": [
       "<div style=\"width:100%;\"><div style=\"position:relative;width:100%;height:0;padding-bottom:60%;\"><span style=\"color:#565656\">Make this Notebook Trusted to load map: File -> Trust Notebook</span><iframe src=\"about:blank\" style=\"position:absolute;width:100%;height:100%;left:0;top:0;border:none !important;\" data-html=%3C%21DOCTYPE%20html%3E%0A%3Chead%3E%20%20%20%20%0A%20%20%20%20%3Cmeta%20http-equiv%3D%22content-type%22%20content%3D%22text/html%3B%20charset%3DUTF-8%22%20/%3E%0A%20%20%20%20%0A%20%20%20%20%20%20%20%20%3Cscript%3E%0A%20%20%20%20%20%20%20%20%20%20%20%20L_NO_TOUCH%20%3D%20false%3B%0A%20%20%20%20%20%20%20%20%20%20%20%20L_DISABLE_3D%20%3D%20false%3B%0A%20%20%20%20%20%20%20%20%3C/script%3E%0A%20%20%20%20%0A%20%20%20%20%3Cstyle%3Ehtml%2C%20body%20%7Bwidth%3A%20100%25%3Bheight%3A%20100%25%3Bmargin%3A%200%3Bpadding%3A%200%3B%7D%3C/style%3E%0A%20%20%20%20%3Cstyle%3E%23map%20%7Bposition%3Aabsolute%3Btop%3A0%3Bbottom%3A0%3Bright%3A0%3Bleft%3A0%3B%7D%3C/style%3E%0A%20%20%20%20%3Cscript%20src%3D%22https%3A//cdn.jsdelivr.net/npm/leaflet%401.6.0/dist/leaflet.js%22%3E%3C/script%3E%0A%20%20%20%20%3Cscript%20src%3D%22https%3A//code.jquery.com/jquery-1.12.4.min.js%22%3E%3C/script%3E%0A%20%20%20%20%3Cscript%20src%3D%22https%3A//maxcdn.bootstrapcdn.com/bootstrap/3.2.0/js/bootstrap.min.js%22%3E%3C/script%3E%0A%20%20%20%20%3Cscript%20src%3D%22https%3A//cdnjs.cloudflare.com/ajax/libs/Leaflet.awesome-markers/2.0.2/leaflet.awesome-markers.js%22%3E%3C/script%3E%0A%20%20%20%20%3Clink%20rel%3D%22stylesheet%22%20href%3D%22https%3A//cdn.jsdelivr.net/npm/leaflet%401.6.0/dist/leaflet.css%22/%3E%0A%20%20%20%20%3Clink%20rel%3D%22stylesheet%22%20href%3D%22https%3A//maxcdn.bootstrapcdn.com/bootstrap/3.2.0/css/bootstrap.min.css%22/%3E%0A%20%20%20%20%3Clink%20rel%3D%22stylesheet%22%20href%3D%22https%3A//maxcdn.bootstrapcdn.com/bootstrap/3.2.0/css/bootstrap-theme.min.css%22/%3E%0A%20%20%20%20%3Clink%20rel%3D%22stylesheet%22%20href%3D%22https%3A//maxcdn.bootstrapcdn.com/font-awesome/4.6.3/css/font-awesome.min.css%22/%3E%0A%20%20%20%20%3Clink%20rel%3D%22stylesheet%22%20href%3D%22https%3A//cdnjs.cloudflare.com/ajax/libs/Leaflet.awesome-markers/2.0.2/leaflet.awesome-markers.css%22/%3E%0A%20%20%20%20%3Clink%20rel%3D%22stylesheet%22%20href%3D%22https%3A//cdn.jsdelivr.net/gh/python-visualization/folium/folium/templates/leaflet.awesome.rotate.min.css%22/%3E%0A%20%20%20%20%0A%20%20%20%20%20%20%20%20%20%20%20%20%3Cmeta%20name%3D%22viewport%22%20content%3D%22width%3Ddevice-width%2C%0A%20%20%20%20%20%20%20%20%20%20%20%20%20%20%20%20initial-scale%3D1.0%2C%20maximum-scale%3D1.0%2C%20user-scalable%3Dno%22%20/%3E%0A%20%20%20%20%20%20%20%20%20%20%20%20%3Cstyle%3E%0A%20%20%20%20%20%20%20%20%20%20%20%20%20%20%20%20%23map_55da4e257e784ff1853aac27f5120678%20%7B%0A%20%20%20%20%20%20%20%20%20%20%20%20%20%20%20%20%20%20%20%20position%3A%20relative%3B%0A%20%20%20%20%20%20%20%20%20%20%20%20%20%20%20%20%20%20%20%20width%3A%20500.0px%3B%0A%20%20%20%20%20%20%20%20%20%20%20%20%20%20%20%20%20%20%20%20height%3A%20300.0px%3B%0A%20%20%20%20%20%20%20%20%20%20%20%20%20%20%20%20%20%20%20%20left%3A%200.0%25%3B%0A%20%20%20%20%20%20%20%20%20%20%20%20%20%20%20%20%20%20%20%20top%3A%200.0%25%3B%0A%20%20%20%20%20%20%20%20%20%20%20%20%20%20%20%20%7D%0A%20%20%20%20%20%20%20%20%20%20%20%20%3C/style%3E%0A%20%20%20%20%20%20%20%20%0A%20%20%20%20%0A%20%20%20%20%20%20%20%20%20%20%20%20%20%20%20%20%20%20%20%20%3Cstyle%3E%0A%20%20%20%20%20%20%20%20%20%20%20%20%20%20%20%20%20%20%20%20%20%20%20%20.foliumtooltip%20%7B%0A%20%20%20%20%20%20%20%20%20%20%20%20%20%20%20%20%20%20%20%20%20%20%20%20%20%20%20%20%0A%20%20%20%20%20%20%20%20%20%20%20%20%20%20%20%20%20%20%20%20%20%20%20%20%7D%0A%20%20%20%20%20%20%20%20%20%20%20%20%20%20%20%20%20%20%20%20%20%20%20.foliumtooltip%20table%7B%0A%20%20%20%20%20%20%20%20%20%20%20%20%20%20%20%20%20%20%20%20%20%20%20%20%20%20%20%20margin%3A%20auto%3B%0A%20%20%20%20%20%20%20%20%20%20%20%20%20%20%20%20%20%20%20%20%20%20%20%20%7D%0A%20%20%20%20%20%20%20%20%20%20%20%20%20%20%20%20%20%20%20%20%20%20%20%20.foliumtooltip%20tr%7B%0A%20%20%20%20%20%20%20%20%20%20%20%20%20%20%20%20%20%20%20%20%20%20%20%20%20%20%20%20text-align%3A%20left%3B%0A%20%20%20%20%20%20%20%20%20%20%20%20%20%20%20%20%20%20%20%20%20%20%20%20%7D%0A%20%20%20%20%20%20%20%20%20%20%20%20%20%20%20%20%20%20%20%20%20%20%20%20.foliumtooltip%20th%7B%0A%20%20%20%20%20%20%20%20%20%20%20%20%20%20%20%20%20%20%20%20%20%20%20%20%20%20%20%20padding%3A%202px%3B%20padding-right%3A%208px%3B%0A%20%20%20%20%20%20%20%20%20%20%20%20%20%20%20%20%20%20%20%20%20%20%20%20%7D%0A%20%20%20%20%20%20%20%20%20%20%20%20%20%20%20%20%20%20%20%20%3C/style%3E%0A%20%20%20%20%20%20%20%20%20%20%20%20%0A%3C/head%3E%0A%3Cbody%3E%20%20%20%20%0A%20%20%20%20%0A%20%20%20%20%20%20%20%20%20%20%20%20%3Cdiv%20class%3D%22folium-map%22%20id%3D%22map_55da4e257e784ff1853aac27f5120678%22%20%3E%3C/div%3E%0A%20%20%20%20%20%20%20%20%0A%3C/body%3E%0A%3Cscript%3E%20%20%20%20%0A%20%20%20%20%0A%20%20%20%20%20%20%20%20%20%20%20%20var%20map_55da4e257e784ff1853aac27f5120678%20%3D%20L.map%28%0A%20%20%20%20%20%20%20%20%20%20%20%20%20%20%20%20%22map_55da4e257e784ff1853aac27f5120678%22%2C%0A%20%20%20%20%20%20%20%20%20%20%20%20%20%20%20%20%7B%0A%20%20%20%20%20%20%20%20%20%20%20%20%20%20%20%20%20%20%20%20center%3A%20%5B38.2148775%2C%20-121.67247%5D%2C%0A%20%20%20%20%20%20%20%20%20%20%20%20%20%20%20%20%20%20%20%20crs%3A%20L.CRS.EPSG3857%2C%0A%20%20%20%20%20%20%20%20%20%20%20%20%20%20%20%20%20%20%20%20zoom%3A%2010%2C%0A%20%20%20%20%20%20%20%20%20%20%20%20%20%20%20%20%20%20%20%20zoomControl%3A%20true%2C%0A%20%20%20%20%20%20%20%20%20%20%20%20%20%20%20%20%20%20%20%20preferCanvas%3A%20false%2C%0A%20%20%20%20%20%20%20%20%20%20%20%20%20%20%20%20%7D%0A%20%20%20%20%20%20%20%20%20%20%20%20%29%3B%0A%20%20%20%20%20%20%20%20%20%20%20%20L.control.scale%28%29.addTo%28map_55da4e257e784ff1853aac27f5120678%29%3B%0A%0A%20%20%20%20%20%20%20%20%20%20%20%20%0A%0A%20%20%20%20%20%20%20%20%0A%20%20%20%20%0A%20%20%20%20%20%20%20%20%20%20%20%20var%20tile_layer_8eb792554e83498da966f67a3d713500%20%3D%20L.tileLayer%28%0A%20%20%20%20%20%20%20%20%20%20%20%20%20%20%20%20%22https%3A//a.basemaps.cartocdn.com/light_all/%7Bz%7D/%7Bx%7D/%7By%7D%7Br%7D.png%22%2C%0A%20%20%20%20%20%20%20%20%20%20%20%20%20%20%20%20%7B%22attribution%22%3A%20%22%5Cu0026copy%3B%20%5Cu003ca%20href%3D%5C%22https%3A//www.openstreetmap.org/copyright%5C%22%5Cu003eOpenStreetMap%5Cu003c/a%5Cu003e%20contributors%20%5Cu0026copy%3B%20%5Cu003ca%20href%3D%5C%22https%3A//carto.com/attributions%5C%22%5Cu003eCARTO%5Cu003c/a%5Cu003e%22%2C%20%22detectRetina%22%3A%20false%2C%20%22maxNativeZoom%22%3A%2020%2C%20%22maxZoom%22%3A%2020%2C%20%22minZoom%22%3A%200%2C%20%22noWrap%22%3A%20false%2C%20%22opacity%22%3A%201%2C%20%22subdomains%22%3A%20%22abc%22%2C%20%22tms%22%3A%20false%7D%0A%20%20%20%20%20%20%20%20%20%20%20%20%29.addTo%28map_55da4e257e784ff1853aac27f5120678%29%3B%0A%20%20%20%20%20%20%20%20%0A%20%20%20%20%0A%20%20%20%20%20%20%20%20%20%20%20%20map_55da4e257e784ff1853aac27f5120678.fitBounds%28%0A%20%20%20%20%20%20%20%20%20%20%20%20%20%20%20%20%5B%5B37.329934999999985%2C%20-122.39648%5D%2C%20%5B39.09982000000002%2C%20-120.94846%5D%5D%2C%0A%20%20%20%20%20%20%20%20%20%20%20%20%20%20%20%20%7B%7D%0A%20%20%20%20%20%20%20%20%20%20%20%20%29%3B%0A%20%20%20%20%20%20%20%20%0A%20%20%20%20%0A%20%20%20%20%20%20%20%20function%20geo_json_f6c6bf78d8d84e929efc5a10eee38d57_styler%28feature%29%20%7B%0A%20%20%20%20%20%20%20%20%20%20%20%20switch%28feature.id%29%20%7B%0A%20%20%20%20%20%20%20%20%20%20%20%20%20%20%20%20case%20%2265%22%3A%20%0A%20%20%20%20%20%20%20%20%20%20%20%20%20%20%20%20%20%20%20%20return%20%7B%22color%22%3A%20%22%235e4fa2%22%2C%20%22fillColor%22%3A%20%22%235e4fa2%22%2C%20%22fillOpacity%22%3A%200.5%2C%20%22weight%22%3A%203%7D%3B%0A%20%20%20%20%20%20%20%20%20%20%20%20%20%20%20%20case%20%2263%22%3A%20%0A%20%20%20%20%20%20%20%20%20%20%20%20%20%20%20%20%20%20%20%20return%20%7B%22color%22%3A%20%22%239e0142%22%2C%20%22fillColor%22%3A%20%22%239e0142%22%2C%20%22fillOpacity%22%3A%200.5%2C%20%22weight%22%3A%203%7D%3B%0A%20%20%20%20%20%20%20%20%20%20%20%20%20%20%20%20default%3A%0A%20%20%20%20%20%20%20%20%20%20%20%20%20%20%20%20%20%20%20%20return%20%7B%22color%22%3A%20%22%23ffffbf%22%2C%20%22fillColor%22%3A%20%22%23ffffbf%22%2C%20%22fillOpacity%22%3A%200.5%2C%20%22weight%22%3A%203%7D%3B%0A%20%20%20%20%20%20%20%20%20%20%20%20%7D%0A%20%20%20%20%20%20%20%20%7D%0A%20%20%20%20%20%20%20%20function%20geo_json_f6c6bf78d8d84e929efc5a10eee38d57_highlighter%28feature%29%20%7B%0A%20%20%20%20%20%20%20%20%20%20%20%20switch%28feature.id%29%20%7B%0A%20%20%20%20%20%20%20%20%20%20%20%20%20%20%20%20default%3A%0A%20%20%20%20%20%20%20%20%20%20%20%20%20%20%20%20%20%20%20%20return%20%7B%22fillOpacity%22%3A%200.75%7D%3B%0A%20%20%20%20%20%20%20%20%20%20%20%20%7D%0A%20%20%20%20%20%20%20%20%7D%0A%20%20%20%20%20%20%20%20function%20geo_json_f6c6bf78d8d84e929efc5a10eee38d57_pointToLayer%28feature%2C%20latlng%29%20%7B%0A%20%20%20%20%20%20%20%20%20%20%20%20var%20opts%20%3D%20%7B%22bubblingMouseEvents%22%3A%20true%2C%20%22color%22%3A%20%22%233388ff%22%2C%20%22dashArray%22%3A%20null%2C%20%22dashOffset%22%3A%20null%2C%20%22fill%22%3A%20true%2C%20%22fillColor%22%3A%20%22%233388ff%22%2C%20%22fillOpacity%22%3A%200.2%2C%20%22fillRule%22%3A%20%22evenodd%22%2C%20%22lineCap%22%3A%20%22round%22%2C%20%22lineJoin%22%3A%20%22round%22%2C%20%22opacity%22%3A%201.0%2C%20%22radius%22%3A%202%2C%20%22stroke%22%3A%20true%2C%20%22weight%22%3A%203%7D%3B%0A%20%20%20%20%20%20%20%20%20%20%20%20%0A%20%20%20%20%20%20%20%20%20%20%20%20let%20style%20%3D%20geo_json_f6c6bf78d8d84e929efc5a10eee38d57_styler%28feature%29%0A%20%20%20%20%20%20%20%20%20%20%20%20Object.assign%28opts%2C%20style%29%0A%20%20%20%20%20%20%20%20%20%20%20%20%0A%20%20%20%20%20%20%20%20%20%20%20%20return%20new%20L.CircleMarker%28latlng%2C%20opts%29%0A%20%20%20%20%20%20%20%20%7D%0A%0A%20%20%20%20%20%20%20%20function%20geo_json_f6c6bf78d8d84e929efc5a10eee38d57_onEachFeature%28feature%2C%20layer%29%20%7B%0A%20%20%20%20%20%20%20%20%20%20%20%20layer.on%28%7B%0A%20%20%20%20%20%20%20%20%20%20%20%20%20%20%20%20mouseout%3A%20function%28e%29%20%7B%0A%20%20%20%20%20%20%20%20%20%20%20%20%20%20%20%20%20%20%20%20if%28typeof%20e.target.setStyle%20%3D%3D%3D%20%22function%22%29%7B%0A%20%20%20%20%20%20%20%20%20%20%20%20%20%20%20%20%20%20%20%20%20%20%20%20geo_json_f6c6bf78d8d84e929efc5a10eee38d57.resetStyle%28e.target%29%3B%0A%20%20%20%20%20%20%20%20%20%20%20%20%20%20%20%20%20%20%20%20%7D%0A%20%20%20%20%20%20%20%20%20%20%20%20%20%20%20%20%7D%2C%0A%20%20%20%20%20%20%20%20%20%20%20%20%20%20%20%20mouseover%3A%20function%28e%29%20%7B%0A%20%20%20%20%20%20%20%20%20%20%20%20%20%20%20%20%20%20%20%20if%28typeof%20e.target.setStyle%20%3D%3D%3D%20%22function%22%29%7B%0A%20%20%20%20%20%20%20%20%20%20%20%20%20%20%20%20%20%20%20%20%20%20%20%20const%20highlightStyle%20%3D%20geo_json_f6c6bf78d8d84e929efc5a10eee38d57_highlighter%28e.target.feature%29%0A%20%20%20%20%20%20%20%20%20%20%20%20%20%20%20%20%20%20%20%20%20%20%20%20e.target.setStyle%28highlightStyle%29%3B%0A%20%20%20%20%20%20%20%20%20%20%20%20%20%20%20%20%20%20%20%20%7D%0A%20%20%20%20%20%20%20%20%20%20%20%20%20%20%20%20%7D%2C%0A%20%20%20%20%20%20%20%20%20%20%20%20%7D%29%3B%0A%20%20%20%20%20%20%20%20%7D%3B%0A%20%20%20%20%20%20%20%20var%20geo_json_f6c6bf78d8d84e929efc5a10eee38d57%20%3D%20L.geoJson%28null%2C%20%7B%0A%20%20%20%20%20%20%20%20%20%20%20%20%20%20%20%20onEachFeature%3A%20geo_json_f6c6bf78d8d84e929efc5a10eee38d57_onEachFeature%2C%0A%20%20%20%20%20%20%20%20%20%20%20%20%0A%20%20%20%20%20%20%20%20%20%20%20%20%20%20%20%20style%3A%20geo_json_f6c6bf78d8d84e929efc5a10eee38d57_styler%2C%0A%20%20%20%20%20%20%20%20%20%20%20%20%20%20%20%20pointToLayer%3A%20geo_json_f6c6bf78d8d84e929efc5a10eee38d57_pointToLayer%0A%20%20%20%20%20%20%20%20%7D%29%3B%0A%0A%20%20%20%20%20%20%20%20function%20geo_json_f6c6bf78d8d84e929efc5a10eee38d57_add%20%28data%29%20%7B%0A%20%20%20%20%20%20%20%20%20%20%20%20geo_json_f6c6bf78d8d84e929efc5a10eee38d57%0A%20%20%20%20%20%20%20%20%20%20%20%20%20%20%20%20.addData%28data%29%0A%20%20%20%20%20%20%20%20%20%20%20%20%20%20%20%20.addTo%28map_55da4e257e784ff1853aac27f5120678%29%3B%0A%20%20%20%20%20%20%20%20%7D%0A%20%20%20%20%20%20%20%20%20%20%20%20geo_json_f6c6bf78d8d84e929efc5a10eee38d57_add%28%7B%22bbox%22%3A%20%5B-122.39648%2C%2037.329934999999985%2C%20-120.94846%2C%2039.09982000000002%5D%2C%20%22features%22%3A%20%5B%7B%22bbox%22%3A%20%5B-121.51562000000001%2C%2038.58368000000002%2C%20-120.94846%2C%2039.09982000000002%5D%2C%20%22geometry%22%3A%20%7B%22coordinates%22%3A%20%5B%5B-121.50071000000001%2C%2038.583980000000004%5D%2C%20%5B-121.50146%2C%2038.58418000000002%5D%2C%20%5B-121.50143999999999%2C%2038.58406%5D%2C%20%5B-121.50138000000001%2C%2038.58403000000001%5D%2C%20%5B-121.50103%2C%2038.58391000000001%5D%2C%20%5B-121.50101%2C%2038.58388000000001%5D%2C%20%5B-121.50088%2C%2038.583830000000006%5D%2C%20%5B-121.50086000000002%2C%2038.58378999999998%5D%2C%20%5B-121.50089000000001%2C%2038.58372000000002%5D%2C%20%5B-121.50098000000001%2C%2038.58368000000002%5D%2C%20%5B-121.50161999999999%2C%2038.583989999999986%5D%2C%20%5B-121.50186%2C%2038.584160000000004%5D%2C%20%5B-121.50209%2C%2038.58439999999998%5D%2C%20%5B-121.50222999999998%2C%2038.58462000000005%5D%2C%20%5B-121.5023%2C%2038.584779999999995%5D%2C%20%5B-121.50264999999999%2C%2038.585980000000006%5D%2C%20%5B-121.50272%2C%2038.586159999999964%5D%2C%20%5B-121.50297000000002%2C%2038.58669999999997%5D%2C%20%5B-121.50391000000002%2C%2038.588310000000014%5D%2C%20%5B-121.50411%2C%2038.588800000000006%5D%2C%20%5B-121.50426%2C%2038.58934%5D%2C%20%5B-121.50432%2C%2038.58964%5D%2C%20%5B-121.50437999999998%2C%2038.59025%5D%2C%20%5B-121.50439%2C%2038.59062999999999%5D%2C%20%5B-121.50437000000001%2C%2038.59113000000001%5D%2C%20%5B-121.50407000000001%2C%2038.593840000000036%5D%2C%20%5B-121.50383000000001%2C%2038.596160000000005%5D%2C%20%5B-121.50379%2C%2038.59669000000002%5D%2C%20%5B-121.50381%2C%2038.59727999999998%5D%2C%20%5B-121.50384%2C%2038.597800000000014%5D%2C%20%5B-121.50397%2C%2038.59848999999999%5D%2C%20%5B-121.50418000000002%2C%2038.59914%5D%2C%20%5B-121.5043%2C%2038.59944999999996%5D%2C%20%5B-121.505%2C%2038.60082999999999%5D%2C%20%5B-121.51201%2C%2038.614499999999985%5D%2C%20%5B-121.51219%2C%2038.61490999999999%5D%2C%20%5B-121.51401%2C%2038.61846000000002%5D%2C%20%5B-121.51433%2C%2038.61916000000001%5D%2C%20%5B-121.51519000000002%2C%2038.62166000000005%5D%2C%20%5B-121.51549%2C%2038.62250999999997%5D%2C%20%5B-121.51556%2C%2038.622770000000045%5D%2C%20%5B-121.5156%2C%2038.623040000000024%5D%2C%20%5B-121.51562000000001%2C%2038.623309999999954%5D%2C%20%5B-121.5156%2C%2038.62373999999997%5D%2C%20%5B-121.51551%2C%2038.624190000000006%5D%2C%20%5B-121.51536%2C%2038.62462000000003%5D%2C%20%5B-121.51518%2C%2038.62495%5D%2C%20%5B-121.51504999999999%2C%2038.62516000000006%5D%2C%20%5B-121.51474000000002%2C%2038.625539999999994%5D%2C%20%5B-121.51456000000002%2C%2038.62571999999999%5D%2C%20%5B-121.51431%2C%2038.62595%5D%2C%20%5B-121.51265%2C%2038.62696000000001%5D%2C%20%5B-121.50745000000002%2C%2038.629899999999985%5D%2C%20%5B-121.49266000000001%2C%2038.63767%5D%2C%20%5B-121.49171%2C%2038.638100000000016%5D%2C%20%5B-121.49072%2C%2038.63848000000004%5D%2C%20%5B-121.48971%2C%2038.63880999999999%5D%2C%20%5B-121.48866%2C%2038.63908999999997%5D%2C%20%5B-121.4876%2C%2038.639309999999995%5D%2C%20%5B-121.48652%2C%2038.63948000000002%5D%2C%20%5B-121.47351000000002%2C%2038.641050000000014%5D%2C%20%5B-121.47076%2C%2038.641379999999955%5D%2C%20%5B-121.4694%2C%2038.64147999999997%5D%2C%20%5B-121.46885%2C%2038.64154000000001%5D%2C%20%5B-121.46737%2C%2038.64159000000003%5D%2C%20%5B-121.46276%2C%2038.64145000000003%5D%2C%20%5B-121.46128%2C%2038.64138999999997%5D%2C%20%5B-121.45028000000002%2C%2038.64106000000004%5D%2C%20%5B-121.44911999999998%2C%2038.64107999999998%5D%2C%20%5B-121.44808000000002%2C%2038.64114000000003%5D%2C%20%5B-121.44726000000001%2C%2038.64121000000004%5D%2C%20%5B-121.4458%2C%2038.64143000000005%5D%2C%20%5B-121.43652999999999%2C%2038.642959999999974%5D%2C%20%5B-121.43576%2C%2038.64306%5D%2C%20%5B-121.43498%2C%2038.64312000000003%5D%2C%20%5B-121.43419999999999%2C%2038.64315999999999%5D%2C%20%5B-121.43323000000001%2C%2038.64316%5D%2C%20%5B-121.43227%2C%2038.64311000000001%5D%2C%20%5B-121.43122%2C%2038.643010000000025%5D%2C%20%5B-121.43019%2C%2038.64286999999996%5D%2C%20%5B-121.42866%2C%2038.64256999999996%5D%2C%20%5B-121.42815000000002%2C%2038.64244999999995%5D%2C%20%5B-121.42708%2C%2038.642120000000055%5D%2C%20%5B-121.42603000000001%2C%2038.64174000000002%5D%2C%20%5B-121.42552%2C%2038.64154000000001%5D%2C%20%5B-121.41923000000001%2C%2038.63847%5D%2C%20%5B-121.41841000000001%2C%2038.63815000000004%5D%2C%20%5B-121.41756%2C%2038.63787000000004%5D%2C%20%5B-121.41668999999999%2C%2038.63763999999998%5D%2C%20%5B-121.41611000000002%2C%2038.63751999999999%5D%2C%20%5B-121.41529000000001%2C%2038.637380000000064%5D%2C%20%5B-121.41444999999999%2C%2038.63729000000004%5D%2C%20%5B-121.41362%2C%2038.63723999999997%5D%2C%20%5B-121.40808%2C%2038.63725%5D%2C%20%5B-121.40718%2C%2038.63722999999996%5D%2C%20%5B-121.40444000000001%2C%2038.63723999999997%5D%2C%20%5B-121.40366%2C%2038.63731999999999%5D%2C%20%5B-121.40310999999998%2C%2038.637429999999995%5D%2C%20%5B-121.40258%2C%2038.637570000000025%5D%2C%20%5B-121.40198%2C%2038.63777000000001%5D%2C%20%5B-121.40141000000001%2C%2038.63802000000002%5D%2C%20%5B-121.40088%2C%2038.63831999999997%5D%2C%20%5B-121.40058%2C%2038.63851%5D%2C%20%5B-121.39679000000001%2C%2038.64125000000004%5D%2C%20%5B-121.39595%2C%2038.64182999999999%5D%2C%20%5B-121.39545000000001%2C%2038.642120000000055%5D%2C%20%5B-121.39508%2C%2038.64230999999996%5D%2C%20%5B-121.39348%2C%2038.64306%5D%2C%20%5B-121.39278999999999%2C%2038.643309999999964%5D%2C%20%5B-121.39208%2C%2038.643519999999995%5D%2C%20%5B-121.39136000000002%2C%2038.64371%5D%2C%20%5B-121.39064000000002%2C%2038.64385999999998%5D%2C%20%5B-121.38601999999999%2C%2038.64451000000001%5D%2C%20%5B-121.38219%2C%2038.64507000000002%5D%2C%20%5B-121.37945000000002%2C%2038.64548999999998%5D%2C%20%5B-121.37868%2C%2038.64566000000001%5D%2C%20%5B-121.37792%2C%2038.64586999999999%5D%2C%20%5B-121.37664000000001%2C%2038.64636000000003%5D%2C%20%5B-121.37596%2C%2038.64666000000002%5D%2C%20%5B-121.37541%2C%2038.64694999999996%5D%2C%20%5B-121.37431999999998%2C%2038.647740000000006%5D%2C%20%5B-121.37397%2C%2038.64801999999999%5D%2C%20%5B-121.37224%2C%2038.649599999999964%5D%2C%20%5B-121.37050999999998%2C%2038.6512%5D%2C%20%5B-121.36747999999999%2C%2038.65393%5D%2C%20%5B-121.36345000000001%2C%2038.65766%5D%2C%20%5B-121.35497%2C%2038.66558000000001%5D%2C%20%5B-121.34657000000001%2C%2038.67325000000004%5D%2C%20%5B-121.33926000000001%2C%2038.68001%5D%2C%20%5B-121.33601999999999%2C%2038.68295999999999%5D%2C%20%5B-121.33378999999998%2C%2038.68496999999997%5D%2C%20%5B-121.33106000000001%2C%2038.68748000000002%5D%2C%20%5B-121.32255000000002%2C%2038.69527000000001%5D%2C%20%5B-121.31761%2C%2038.69979000000001%5D%2C%20%5B-121.31448000000002%2C%2038.70261000000005%5D%2C%20%5B-121.31263999999999%2C%2038.70431000000001%5D%2C%20%5B-121.30276%2C%2038.71334999999998%5D%2C%20%5B-121.29607%2C%2038.71946999999997%5D%2C%20%5B-121.29258000000002%2C%2038.72254000000002%5D%2C%20%5B-121.28504%2C%2038.729410000000016%5D%2C%20%5B-121.28238%2C%2038.73187000000002%5D%2C%20%5B-121.27545%2C%2038.73820999999999%5D%2C%20%5B-121.27407999999998%2C%2038.739479999999965%5D%2C%20%5B-121.27332000000001%2C%2038.740259999999964%5D%2C%20%5B-121.27294%2C%2038.74068999999999%5D%2C%20%5B-121.27225999999999%2C%2038.741569999999996%5D%2C%20%5B-121.27164%2C%2038.74250000000003%5D%2C%20%5B-121.26983%2C%2038.74478000000004%5D%2C%20%5B-121.2697%2C%2038.74491999999997%5D%2C%20%5B-121.26949%2C%2038.745040000000024%5D%2C%20%5B-121.26938%2C%2038.74506999999999%5D%2C%20%5B-121.26918%2C%2038.74507999999997%5D%2C%20%5B-121.26905999999998%2C%2038.74504999999999%5D%2C%20%5B-121.26894%2C%2038.74500999999999%5D%2C%20%5B-121.26878999999998%2C%2038.74488000000002%5D%2C%20%5B-121.26872000000002%2C%2038.744719999999965%5D%2C%20%5B-121.26873%2C%2038.744370000000046%5D%2C%20%5B-121.26878999999998%2C%2038.74418999999998%5D%2C%20%5B-121.27198999999999%2C%2038.74411%5D%2C%20%5B-121.27319999999999%2C%2038.74409%5D%2C%20%5B-121.27364999999999%2C%2038.74409999999999%5D%2C%20%5B-121.27666%2C%2038.744060000000026%5D%2C%20%5B-121.27670000000002%2C%2038.74659000000002%5D%2C%20%5B-121.27672%2C%2038.74714000000004%5D%2C%20%5B-121.27674%2C%2038.74722000000003%5D%2C%20%5B-121.27683%2C%2038.74736000000001%5D%2C%20%5B-121.27884%2C%2038.74903999999999%5D%2C%20%5B-121.27945%2C%2038.74858999999996%5D%2C%20%5B-121.27957000000002%2C%2038.748539999999956%5D%2C%20%5B-121.27973000000001%2C%2038.74853000000003%5D%2C%20%5B-121.28096%2C%2038.74850999999998%5D%2C%20%5B-121.28108%2C%2038.74853000000003%5D%2C%20%5B-121.28117%2C%2038.748549999999966%5D%2C%20%5B-121.28196999999999%2C%2038.74920000000003%5D%2C%20%5B-121.28254000000001%2C%2038.74876%5D%2C%20%5B-121.28276000000001%2C%2038.74854999999997%5D%2C%20%5B-121.28277%2C%2038.74847999999997%5D%2C%20%5B-121.28284%2C%2038.748410000000014%5D%2C%20%5B-121.2829%2C%2038.74837%5D%2C%20%5B-121.28301%2C%2038.748340000000006%5D%2C%20%5B-121.28306%2C%2038.748339999999956%5D%2C%20%5B-121.28337%2C%2038.74845999999998%5D%2C%20%5B-121.28355%2C%2038.748569999999994%5D%2C%20%5B-121.28456%2C%2038.74936%5D%2C%20%5B-121.28556000000002%2C%2038.75018000000003%5D%2C%20%5B-121.28716999999999%2C%2038.75174000000001%5D%2C%20%5B-121.28738000000001%2C%2038.751769999999986%5D%2C%20%5B-121.28744000000002%2C%2038.75174000000001%5D%2C%20%5B-121.28647%2C%2038.75086999999998%5D%2C%20%5B-121.28759%2C%2038.74996000000001%5D%2C%20%5B-121.28713000000002%2C%2038.74960999999993%5D%2C%20%5B-121.28704000000002%2C%2038.74958%5D%2C%20%5B-121.28694%2C%2038.749590000000005%5D%2C%20%5B-121.28677000000002%2C%2038.74964000000001%5D%2C%20%5B-121.28654%2C%2038.74974000000002%5D%2C%20%5B-121.28647999999998%2C%2038.74982000000002%5D%2C%20%5B-121.28647%2C%2038.749969999999976%5D%2C%20%5B-121.28643%2C%2038.750059999999955%5D%2C%20%5B-121.28625%2C%2038.75023000000004%5D%2C%20%5B-121.28674%2C%2038.750639999999954%5D%2C%20%5B-121.28658%2C%2038.75069000000001%5D%2C%20%5B-121.28641000000002%2C%2038.75073000000003%5D%2C%20%5B-121.28626000000001%2C%2038.75068000000002%5D%2C%20%5B-121.28563000000001%2C%2038.750130000000006%5D%2C%20%5B-121.28422%2C%2038.74898000000005%5D%2C%20%5B-121.28355%2C%2038.748450000000034%5D%2C%20%5B-121.28346%2C%2038.74843000000001%5D%2C%20%5B-121.28333%2C%2038.748349999999995%5D%2C%20%5B-121.28326999999999%2C%2038.74827999999999%5D%2C%20%5B-121.28325%2C%2038.748229999999964%5D%2C%20%5B-121.28323000000002%2C%2038.74812%5D%2C%20%5B-121.28313%2C%2038.74805%5D%2C%20%5B-121.28306%2C%2038.74803999999999%5D%2C%20%5B-121.28297%2C%2038.748059999999974%5D%2C%20%5B-121.2829%2C%2038.74812%5D%2C%20%5B-121.28287000000002%2C%2038.74818999999998%5D%2C%20%5B-121.28281999999999%2C%2038.748239999999996%5D%2C%20%5B-121.28262%2C%2038.748539999999956%5D%2C%20%5B-121.28187%2C%2038.749120000000005%5D%2C%20%5B-121.28284%2C%2038.74989000000004%5D%2C%20%5B-121.28169999999999%2C%2038.75074999999999%5D%2C%20%5B-121.28151999999999%2C%2038.75097000000001%5D%2C%20%5B-121.28142000000001%2C%2038.75113999999997%5D%2C%20%5B-121.28136999999998%2C%2038.75133000000003%5D%2C%20%5B-121.28138%2C%2038.75152999999996%5D%2C%20%5B-121.28142000000001%2C%2038.75182%5D%2C%20%5B-121.28142000000001%2C%2038.75194%5D%2C%20%5B-121.28138%2C%2038.75207%5D%2C%20%5B-121.28131%2C%2038.75218000000002%5D%2C%20%5B-121.28114%2C%2038.75236000000001%5D%2C%20%5B-121.28095%2C%2038.75249000000004%5D%2C%20%5B-121.28000000000002%2C%2038.75304999999999%5D%2C%20%5B-121.27903000000002%2C%2038.75356000000003%5D%2C%20%5B-121.27406%2C%2038.75647999999999%5D%2C%20%5B-121.27359000000001%2C%2038.75670000000002%5D%2C%20%5B-121.27267%2C%2038.757079999999966%5D%2C%20%5B-121.27156%2C%2038.75745000000004%5D%2C%20%5B-121.27145%2C%2038.75743999999996%5D%2C%20%5B-121.27068%2C%2038.757639999999995%5D%2C%20%5B-121.26956999999999%2C%2038.75785999999996%5D%2C%20%5B-121.26895%2C%2038.75793999999999%5D%2C%20%5B-121.26816%2C%2038.75801000000004%5D%2C%20%5B-121.26790000000001%2C%2038.758090000000024%5D%2C%20%5B-121.26763000000001%2C%2038.758109999999995%5D%2C%20%5B-121.26504%2C%2038.75812999999999%5D%2C%20%5B-121.26478000000002%2C%2038.75802000000003%5D%2C%20%5B-121.26314%2C%2038.75805000000005%5D%2C%20%5B-121.26234000000001%2C%2038.75802999999998%5D%2C%20%5B-121.26169%2C%2038.75796999999999%5D%2C%20%5B-121.26130000000002%2C%2038.75791000000001%5D%2C%20%5B-121.26093%2C%2038.75783000000003%5D%2C%20%5B-121.26029%2C%2038.75766%5D%2C%20%5B-121.25969%2C%2038.75743000000002%5D%2C%20%5B-121.2595%2C%2038.75758000000004%5D%2C%20%5B-121.25869%2C%2038.75835000000002%5D%2C%20%5B-121.25835000000001%2C%2038.75870999999997%5D%2C%20%5B-121.25831999999998%2C%2038.75880999999998%5D%2C%20%5B-121.25678%2C%2038.760409999999965%5D%2C%20%5B-121.25655%2C%2038.76077%5D%2C%20%5B-121.25643%2C%2038.76082000000001%5D%2C%20%5B-121.25629%2C%2038.76100999999996%5D%2C%20%5B-121.25606%2C%2038.76138000000002%5D%2C%20%5B-121.25595999999999%2C%2038.761600000000016%5D%2C%20%5B-121.25581000000001%2C%2038.76196999999998%5D%2C%20%5B-121.25575%2C%2038.76220999999998%5D%2C%20%5B-121.25568000000001%2C%2038.76287999999995%5D%2C%20%5B-121.25592000000002%2C%2038.764280000000035%5D%2C%20%5B-121.25597%2C%2038.76433%5D%2C%20%5B-121.25593%2C%2038.76539%5D%2C%20%5B-121.25584%2C%2038.76600999999996%5D%2C%20%5B-121.25567%2C%2038.76671%5D%2C%20%5B-121.25547000000002%2C%2038.767250000000026%5D%2C%20%5B-121.25509%2C%2038.76802999999994%5D%2C%20%5B-121.25454%2C%2038.768860000000025%5D%2C%20%5B-121.25423999999998%2C%2038.76926999999996%5D%2C%20%5B-121.25222%2C%2038.77159%5D%2C%20%5B-121.25106000000001%2C%2038.77285999999994%5D%2C%20%5B-121.25019%2C%2038.77379000000001%5D%2C%20%5B-121.24959%2C%2038.77448000000002%5D%2C%20%5B-121.24943%2C%2038.77457%5D%2C%20%5B-121.24789%2C%2038.77632000000005%5D%2C%20%5B-121.24669999999999%2C%2038.77761999999999%5D%2C%20%5B-121.24521999999999%2C%2038.77936000000001%5D%2C%20%5B-121.24486%2C%2038.77974999999999%5D%2C%20%5B-121.24465000000001%2C%2038.779939999999996%5D%2C%20%5B-121.24446000000002%2C%2038.78007999999997%5D%2C%20%5B-121.24418%2C%2038.78025000000005%5D%2C%20%5B-121.24362%2C%2038.78049999999998%5D%2C%20%5B-121.24310000000001%2C%2038.78067999999997%5D%2C%20%5B-121.24247000000001%2C%2038.781039999999976%5D%2C%20%5B-121.24201999999998%2C%2038.78142999999999%5D%2C%20%5B-121.24185%2C%2038.781650000000006%5D%2C%20%5B-121.24176%2C%2038.781809999999986%5D%2C%20%5B-121.24073%2C%2038.78397999999999%5D%2C%20%5B-121.24010999999999%2C%2038.78523000000004%5D%2C%20%5B-121.23996000000001%2C%2038.78543000000005%5D%2C%20%5B-121.23914%2C%2038.786399999999986%5D%2C%20%5B-121.2391%2C%2038.78656999999999%5D%2C%20%5B-121.23748%2C%2038.78870999999998%5D%2C%20%5B-121.23690999999998%2C%2038.78949000000001%5D%2C%20%5B-121.23685%2C%2038.78957000000002%5D%2C%20%5B-121.23671%2C%2038.78967000000001%5D%2C%20%5B-121.23582%2C%2038.79077999999999%5D%2C%20%5B-121.23656%2C%2038.79107999999999%5D%2C%20%5B-121.23703%2C%2038.791250000000026%5D%2C%20%5B-121.2371%2C%2038.79117999999997%5D%2C%20%5B-121.23723000000001%2C%2038.79097999999998%5D%2C%20%5B-121.2371%2C%2038.79117999999997%5D%2C%20%5B-121.23663999999998%2C%2038.790950000000024%5D%2C%20%5B-121.23457999999998%2C%2038.79003999999999%5D%2C%20%5B-121.23436000000001%2C%2038.790050000000036%5D%2C%20%5B-121.23297000000001%2C%2038.789429999999996%5D%2C%20%5B-121.23290999999999%2C%2038.78929999999997%5D%2C%20%5B-121.23193000000002%2C%2038.78885999999997%5D%2C%20%5B-121.2319%2C%2038.78878000000001%5D%2C%20%5B-121.23183%2C%2038.78871999999999%5D%2C%20%5B-121.23172%2C%2038.78869999999999%5D%2C%20%5B-121.23162%2C%2038.78871999999996%5D%2C%20%5B-121.23126%2C%2038.78857000000001%5D%2C%20%5B-121.23109999999998%2C%2038.78850999999999%5D%2C%20%5B-121.23086%2C%2038.78845999999993%5D%2C%20%5B-121.23065%2C%2038.78845%5D%2C%20%5B-121.22933000000002%2C%2038.78844%5D%2C%20%5B-121.22925000000001%2C%2038.78838%5D%2C%20%5B-121.22915000000002%2C%2038.78835999999998%5D%2C%20%5B-121.22909%2C%2038.78835999999998%5D%2C%20%5B-121.229%2C%2038.78841000000002%5D%2C%20%5B-121.22895000000001%2C%2038.78847999999998%5D%2C%20%5B-121.2286%2C%2038.78854999999999%5D%2C%20%5B-121.22822000000001%2C%2038.78854%5D%2C%20%5B-121.22692%2C%2038.788450000000005%5D%2C%20%5B-121.22680000000001%2C%2038.78838999999999%5D%2C%20%5B-121.22593%2C%2038.78841000000002%5D%2C%20%5B-121.22576%2C%2038.78847000000003%5D%2C%20%5B-121.22561000000002%2C%2038.78847999999998%5D%2C%20%5B-121.22454%2C%2038.788500000000006%5D%2C%20%5B-121.22427%2C%2038.78845999999993%5D%2C%20%5B-121.22147%2C%2038.78841999999998%5D%2C%20%5B-121.22119000000002%2C%2038.78885999999997%5D%2C%20%5B-121.21986%2C%2038.7906%5D%2C%20%5B-121.21918000000001%2C%2038.79127999999999%5D%2C%20%5B-121.17822000000001%2C%2038.825709999999965%5D%2C%20%5B-121.17516000000002%2C%2038.828249999999954%5D%2C%20%5B-121.17189000000002%2C%2038.83101000000001%5D%2C%20%5B-121.17153000000002%2C%2038.83129000000002%5D%2C%20%5B-121.16874%2C%2038.833660000000016%5D%2C%20%5B-121.16134%2C%2038.83982999999996%5D%2C%20%5B-121.15539000000001%2C%2038.84474999999998%5D%2C%20%5B-121.15473%2C%2038.84527000000003%5D%2C%20%5B-121.15031%2C%2038.84892000000003%5D%2C%20%5B-121.14522999999998%2C%2038.853110000000044%5D%2C%20%5B-121.14055%2C%2038.85695000000003%5D%2C%20%5B-121.13713%2C%2038.859799999999986%5D%2C%20%5B-121.13508%2C%2038.861510000000045%5D%2C%20%5B-121.13459%2C%2038.86200000000001%5D%2C%20%5B-121.13417%2C%2038.86249%5D%2C%20%5B-121.13381%2C%2038.862969999999954%5D%2C%20%5B-121.13351000000002%2C%2038.86341999999998%5D%2C%20%5B-121.13313000000001%2C%2038.86418%5D%2C%20%5B-121.13282000000001%2C%2038.86501%5D%2C%20%5B-121.13266%2C%2038.86564000000002%5D%2C%20%5B-121.13248999999999%2C%2038.866669999999964%5D%2C%20%5B-121.13196%2C%2038.86993%5D%2C%20%5B-121.13135%2C%2038.873670000000004%5D%2C%20%5B-121.13123%2C%2038.87425000000001%5D%2C%20%5B-121.13109%2C%2038.87470999999998%5D%2C%20%5B-121.1309%2C%2038.87512000000001%5D%2C%20%5B-121.13067%2C%2038.875540000000015%5D%2C%20%5B-121.1302%2C%2038.87610999999996%5D%2C%20%5B-121.12996%2C%2038.87634999999999%5D%2C%20%5B-121.12970999999999%2C%2038.876580000000004%5D%2C%20%5B-121.1293%2C%2038.87689000000001%5D%2C%20%5B-121.12899%2C%2038.87710000000006%5D%2C%20%5B-121.12866%2C%2038.87728999999996%5D%2C%20%5B-121.12794%2C%2038.87762000000004%5D%2C%20%5B-121.12717%2C%2038.87788000000003%5D%2C%20%5B-121.12673%2C%2038.87799000000001%5D%2C%20%5B-121.12604000000002%2C%2038.87810000000001%5D%2C%20%5B-121.12565%2C%2038.87813999999999%5D%2C%20%5B-121.12413%2C%2038.87820999999997%5D%2C%20%5B-121.11867000000001%2C%2038.87851000000002%5D%2C%20%5B-121.11813000000001%2C%2038.87857999999995%5D%2C%20%5B-121.11756%2C%2038.878669999999985%5D%2C%20%5B-121.11662%2C%2038.878840000000025%5D%2C%20%5B-121.11547%2C%2038.87912000000001%5D%2C%20%5B-121.11186%2C%2038.88019999999998%5D%2C%20%5B-121.10988%2C%2038.880790000000005%5D%2C%20%5B-121.10782%2C%2038.88140999999996%5D%2C%20%5B-121.10656000000002%2C%2038.88179000000001%5D%2C%20%5B-121.10567%2C%2038.88212000000002%5D%2C%20%5B-121.10457000000001%2C%2038.88257999999998%5D%2C%20%5B-121.10349000000001%2C%2038.88311000000001%5D%2C%20%5B-121.10266000000001%2C%2038.883590000000034%5D%2C%20%5B-121.09929%2C%2038.885610000000014%5D%2C%20%5B-121.09768000000001%2C%2038.88655%5D%2C%20%5B-121.09699%2C%2038.88693000000001%5D%2C%20%5B-121.09643%2C%2038.887189999999975%5D%2C%20%5B-121.09592999999998%2C%2038.88741%5D%2C%20%5B-121.09548%2C%2038.88758000000001%5D%2C%20%5B-121.09465000000002%2C%2038.88788000000003%5D%2C%20%5B-121.09365000000001%2C%2038.88813999999998%5D%2C%20%5B-121.09285%2C%2038.88833%5D%2C%20%5B-121.09134%2C%2038.888699999999986%5D%2C%20%5B-121.09062999999999%2C%2038.888929999999995%5D%2C%20%5B-121.09001%2C%2038.88916999999998%5D%2C%20%5B-121.08932999999999%2C%2038.88950000000002%5D%2C%20%5B-121.08853000000002%2C%2038.88996999999999%5D%2C%20%5B-121.08798%2C%2038.89038999999999%5D%2C%20%5B-121.08730000000001%2C%2038.89097999999999%5D%2C%20%5B-121.08653%2C%2038.89161000000002%5D%2C%20%5B-121.08594000000001%2C%2038.892040000000016%5D%2C%20%5B-121.08542000000001%2C%2038.892350000000015%5D%2C%20%5B-121.08414%2C%2038.89302999999999%5D%2C%20%5B-121.08303%2C%2038.8936%5D%2C%20%5B-121.08255000000001%2C%2038.89394999999997%5D%2C%20%5B-121.08226%2C%2038.894200000000026%5D%2C%20%5B-121.08195%2C%2038.89452000000004%5D%2C%20%5B-121.08166%2C%2038.89484999999999%5D%2C%20%5B-121.08087%2C%2038.89562999999998%5D%2C%20%5B-121.08048%2C%2038.895920000000004%5D%2C%20%5B-121.07964%2C%2038.89630000000001%5D%2C%20%5B-121.07910999999999%2C%2038.89640999999999%5D%2C%20%5B-121.07775000000001%2C%2038.89692999999999%5D%2C%20%5B-121.07861%2C%2038.89782000000004%5D%2C%20%5B-121.07985%2C%2038.89718000000003%5D%2C%20%5B-121.08%2C%2038.89745000000001%5D%2C%20%5B-121.08013000000001%2C%2038.89779000000002%5D%2C%20%5B-121.08045%2C%2038.899050000000024%5D%2C%20%5B-121.08055000000002%2C%2038.89931000000001%5D%2C%20%5B-121.0807%2C%2038.89955000000001%5D%2C%20%5B-121.08185000000002%2C%2038.90104999999999%5D%2C%20%5B-121.08199%2C%2038.901270000000004%5D%2C%20%5B-121.08245%2C%2038.902340000000024%5D%2C%20%5B-121.08252000000002%2C%2038.90256000000004%5D%2C%20%5B-121.08257%2C%2038.902789999999975%5D%2C%20%5B-121.08258999999998%2C%2038.90308999999995%5D%2C%20%5B-121.08257%2C%2038.90373000000002%5D%2C%20%5B-121.08269%2C%2038.90370999999996%5D%2C%20%5B-121.08281%2C%2038.90364000000001%5D%2C%20%5B-121.08285%2C%2038.90357000000001%5D%2C%20%5B-121.08284%2C%2038.903360000000035%5D%2C%20%5B-121.08294%2C%2038.90336000000005%5D%2C%20%5B-121.08300999999999%2C%2038.90340000000003%5D%2C%20%5B-121.08317%2C%2038.90376000000001%5D%2C%20%5B-121.08300999999999%2C%2038.90340000000003%5D%2C%20%5B-121.08294%2C%2038.90336000000005%5D%2C%20%5B-121.08284%2C%2038.903360000000035%5D%2C%20%5B-121.08285%2C%2038.90357000000001%5D%2C%20%5B-121.08281%2C%2038.90364000000001%5D%2C%20%5B-121.08269%2C%2038.90370999999996%5D%2C%20%5B-121.08257%2C%2038.90373000000002%5D%2C%20%5B-121.08104000000002%2C%2038.903739999999985%5D%2C%20%5B-121.07991%2C%2038.90374000000001%5D%2C%20%5B-121.07624%2C%2038.90396000000001%5D%2C%20%5B-121.07533000000001%2C%2038.903999999999996%5D%2C%20%5B-121.07513%2C%2038.90399000000004%5D%2C%20%5B-121.07486999999999%2C%2038.90391999999999%5D%2C%20%5B-121.07430000000001%2C%2038.90373000000002%5D%2C%20%5B-121.07412000000001%2C%2038.90367999999999%5D%2C%20%5B-121.07312%2C%2038.903509999999976%5D%2C%20%5B-121.07225%2C%2038.90340000000003%5D%2C%20%5B-121.07044%2C%2038.90329999999999%5D%2C%20%5B-121.0704%2C%2038.90366999999999%5D%2C%20%5B-121.07039000000002%2C%2038.90376000000001%5D%2C%20%5B-121.07042000000001%2C%2038.90385000000001%5D%2C%20%5B-121.07048000000002%2C%2038.903930000000045%5D%2C%20%5B-121.07058%2C%2038.90399999999998%5D%2C%20%5B-121.07085000000001%2C%2038.90412999999998%5D%2C%20%5B-121.07095%2C%2038.90420000000002%5D%2C%20%5B-121.07103000000001%2C%2038.90429000000003%5D%2C%20%5B-121.07108%2C%2038.904380000000025%5D%2C%20%5B-121.07111000000002%2C%2038.90450000000003%5D%2C%20%5B-121.07111000000002%2C%2038.90496000000002%5D%2C%20%5B-121.07114999999999%2C%2038.90549999999995%5D%2C%20%5B-121.07127000000001%2C%2038.906510000000004%5D%2C%20%5B-121.07123999999999%2C%2038.906989999999986%5D%2C%20%5B-121.07121000000001%2C%2038.907220000000024%5D%2C%20%5B-121.07109000000001%2C%2038.907690000000024%5D%2C%20%5B-121.07072%2C%2038.90840999999998%5D%2C%20%5B-121.07052%2C%2038.90868%5D%2C%20%5B-121.07008000000002%2C%2038.90914999999998%5D%2C%20%5B-121.06986%2C%2038.909349999999996%5D%2C%20%5B-121.06835%2C%2038.91045999999999%5D%2C%20%5B-121.06775999999999%2C%2038.910919999999955%5D%2C%20%5B-121.06752000000002%2C%2038.91115000000006%5D%2C%20%5B-121.06733%2C%2038.911350000000006%5D%2C%20%5B-121.06599%2C%2038.91309000000005%5D%2C%20%5B-121.06579000000002%2C%2038.91331999999998%5D%2C%20%5B-121.06542999999999%2C%2038.91369999999998%5D%2C%20%5B-121.06478%2C%2038.91431%5D%2C%20%5B-121.06291999999999%2C%2038.915960000000034%5D%2C%20%5B-121.06086000000002%2C%2038.91781000000002%5D%2C%20%5B-121.06058%2C%2038.91810000000007%5D%2C%20%5B-121.05997%2C%2038.91884000000002%5D%2C%20%5B-121.05964%2C%2038.91941000000003%5D%2C%20%5B-121.05924%2C%2038.91997000000002%5D%2C%20%5B-121.05777000000002%2C%2038.92245999999998%5D%2C%20%5B-121.05737%2C%2038.92320999999999%5D%2C%20%5B-121.05677%2C%2038.924660000000046%5D%2C%20%5B-121.05652%2C%2038.92543000000001%5D%2C%20%5B-121.05643%2C%2038.92580999999998%5D%2C%20%5B-121.05561%2C%2038.92962999999999%5D%2C%20%5B-121.05520999999999%2C%2038.93158999999997%5D%2C%20%5B-121.05471%2C%2038.93404%5D%2C%20%5B-121.05451999999998%2C%2038.93462999999999%5D%2C%20%5B-121.05432%2C%2038.935049999999976%5D%2C%20%5B-121.05415999999998%2C%2038.93532999999997%5D%2C%20%5B-121.05386%2C%2038.93577999999999%5D%2C%20%5B-121.05360000000002%2C%2038.936099999999996%5D%2C%20%5B-121.05267%2C%2038.93741999999998%5D%2C%20%5B-121.05212000000002%2C%2038.938259999999964%5D%2C%20%5B-121.05176000000002%2C%2038.93890999999996%5D%2C%20%5B-121.05070999999998%2C%2038.940899999999985%5D%2C%20%5B-121.05023%2C%2038.94164999999997%5D%2C%20%5B-121.04951%2C%2038.942440000000005%5D%2C%20%5B-121.04738%2C%2038.94409999999999%5D%2C%20%5B-121.04604000000002%2C%2038.94529000000002%5D%2C%20%5B-121.04388%2C%2038.94745000000004%5D%2C%20%5B-121.04248000000001%2C%2038.94883999999999%5D%2C%20%5B-121.03990000000002%2C%2038.95178999999999%5D%2C%20%5B-121.03905000000002%2C%2038.952789999999986%5D%2C%20%5B-121.03817%2C%2038.95380000000002%5D%2C%20%5B-121.03734%2C%2038.954539999999994%5D%2C%20%5B-121.03669%2C%2038.95506999999999%5D%2C%20%5B-121.03604%2C%2038.95555%5D%2C%20%5B-121.03556%2C%2038.95587000000003%5D%2C%20%5B-121.03340000000001%2C%2038.95721999999997%5D%2C%20%5B-121.03101000000001%2C%2038.95868999999997%5D%2C%20%5B-121.02662%2C%2038.96148000000001%5D%2C%20%5B-121.02477999999999%2C%2038.962609999999984%5D%2C%20%5B-121.02284000000002%2C%2038.963770000000004%5D%2C%20%5B-121.02230000000002%2C%2038.964140000000015%5D%2C%20%5B-121.02159%2C%2038.964760000000005%5D%2C%20%5B-121.02105999999999%2C%2038.96545000000001%5D%2C%20%5B-121.02058000000001%2C%2038.96618%5D%2C%20%5B-121.02002%2C%2038.967040000000054%5D%2C%20%5B-121.01944%2C%2038.96778%5D%2C%20%5B-121.01897%2C%2038.96829000000001%5D%2C%20%5B-121.01857%2C%2038.96866999999996%5D%2C%20%5B-121.01601000000001%2C%2038.97141000000006%5D%2C%20%5B-121.01519000000002%2C%2038.97249%5D%2C%20%5B-121.01428000000001%2C%2038.97378999999999%5D%2C%20%5B-121.01298000000001%2C%2038.97556999999998%5D%2C%20%5B-121.01166%2C%2038.97733000000001%5D%2C%20%5B-121.00946%2C%2038.98042000000001%5D%2C%20%5B-121.00807%2C%2038.98228999999999%5D%2C%20%5B-121.00675999999999%2C%2038.983839999999994%5D%2C%20%5B-121.00566000000002%2C%2038.985020000000006%5D%2C%20%5B-121.00359%2C%2038.987150000000014%5D%2C%20%5B-121.00189%2C%2038.98892999999998%5D%2C%20%5B-121.00079999999998%2C%2038.99011000000003%5D%2C%20%5B-121.00017%2C%2038.99105999999997%5D%2C%20%5B-120.99839%2C%2038.994220000000006%5D%2C%20%5B-120.99763%2C%2038.99563999999999%5D%2C%20%5B-120.99657%2C%2038.99822999999995%5D%2C%20%5B-120.99597%2C%2038.99976000000001%5D%2C%20%5B-120.99555%2C%2039.00053%5D%2C%20%5B-120.99519%2C%2039.00130000000002%5D%2C%20%5B-120.99458%2C%2039.00217999999998%5D%2C%20%5B-120.99298999999999%2C%2039.00432000000002%5D%2C%20%5B-120.99237%2C%2039.00508000000004%5D%2C%20%5B-120.99169999999998%2C%2039.00601999999999%5D%2C%20%5B-120.99127000000001%2C%2039.00657999999999%5D%2C%20%5B-120.9905%2C%2039.00764999999998%5D%2C%20%5B-120.99011%2C%2039.00829999999998%5D%2C%20%5B-120.98978999999999%2C%2039.00892999999999%5D%2C%20%5B-120.98958%2C%2039.01001000000001%5D%2C%20%5B-120.98960999999998%2C%2039.01060000000001%5D%2C%20%5B-120.98975000000002%2C%2039.01246000000002%5D%2C%20%5B-120.98972000000002%2C%2039.01303000000002%5D%2C%20%5B-120.98954000000002%2C%2039.01364000000002%5D%2C%20%5B-120.98936000000002%2C%2039.01416999999998%5D%2C%20%5B-120.98917999999999%2C%2039.01453999999999%5D%2C%20%5B-120.98899999999999%2C%2039.014860000000006%5D%2C%20%5B-120.9888%2C%2039.015129999999985%5D%2C%20%5B-120.98855%2C%2039.01543999999999%5D%2C%20%5B-120.98816000000001%2C%2039.01579999999994%5D%2C%20%5B-120.98767000000001%2C%2039.016069999999964%5D%2C%20%5B-120.98738%2C%2039.016259999999996%5D%2C%20%5B-120.98691999999998%2C%2039.01651999999996%5D%2C%20%5B-120.98639%2C%2039.01676999999998%5D%2C%20%5B-120.98518999999999%2C%2039.01731000000002%5D%2C%20%5B-120.98280000000001%2C%2039.01838%5D%2C%20%5B-120.98206%2C%2039.018799999999956%5D%2C%20%5B-120.98146%2C%2039.01923999999998%5D%2C%20%5B-120.98107000000002%2C%2039.01959999999998%5D%2C%20%5B-120.98080000000002%2C%2039.019869999999955%5D%2C%20%5B-120.97963%2C%2039.021229999999996%5D%2C%20%5B-120.97883000000002%2C%2039.022240000000025%5D%2C%20%5B-120.97847000000002%2C%2039.02288000000003%5D%2C%20%5B-120.97824%2C%2039.02346000000002%5D%2C%20%5B-120.97694%2C%2039.02794999999996%5D%2C%20%5B-120.97674000000002%2C%2039.02878000000002%5D%2C%20%5B-120.97655%2C%2039.02976%5D%2C%20%5B-120.97628%2C%2039.03111000000002%5D%2C%20%5B-120.97597%2C%2039.03269%5D%2C%20%5B-120.97585000000001%2C%2039.03309999999999%5D%2C%20%5B-120.97563000000001%2C%2039.033620000000006%5D%2C%20%5B-120.97535000000002%2C%2039.03412000000003%5D%2C%20%5B-120.97426%2C%2039.03564000000003%5D%2C%20%5B-120.97399000000001%2C%2039.03605999999999%5D%2C%20%5B-120.97381000000001%2C%2039.03639999999997%5D%2C%20%5B-120.97362%2C%2039.036789999999975%5D%2C%20%5B-120.97336000000001%2C%2039.03758%5D%2C%20%5B-120.97326%2C%2039.03802000000002%5D%2C%20%5B-120.97320000000002%2C%2039.038470000000004%5D%2C%20%5B-120.97318000000001%2C%2039.03898999999995%5D%2C%20%5B-120.97321000000001%2C%2039.03954000000002%5D%2C%20%5B-120.97330000000001%2C%2039.04007%5D%2C%20%5B-120.97344%2C%2039.04059999999998%5D%2C%20%5B-120.9738%2C%2039.04175000000001%5D%2C%20%5B-120.97406000000001%2C%2039.042640000000034%5D%2C%20%5B-120.97412000000001%2C%2039.04299000000005%5D%2C%20%5B-120.97416%2C%2039.043339999999986%5D%2C%20%5B-120.97413%2C%2039.04408000000004%5D%2C%20%5B-120.97404%2C%2039.04455999999996%5D%2C%20%5B-120.97396000000002%2C%2039.044859999999986%5D%2C%20%5B-120.97381000000001%2C%2039.04527%5D%2C%20%5B-120.97352000000001%2C%2039.04580000000005%5D%2C%20%5B-120.97254999999998%2C%2039.04784000000002%5D%2C%20%5B-120.97141%2C%2039.05015999999999%5D%2C%20%5B-120.97069000000002%2C%2039.05177000000005%5D%2C%20%5B-120.97009000000001%2C%2039.053429999999956%5D%2C%20%5B-120.9698%2C%2039.05446%5D%2C%20%5B-120.96921000000002%2C%2039.056520000000035%5D%2C%20%5B-120.96896%2C%2039.05751000000002%5D%2C%20%5B-120.96819999999998%2C%2039.06047000000004%5D%2C%20%5B-120.96794%2C%2039.061459999999954%5D%2C%20%5B-120.9676%2C%2039.062280000000015%5D%2C%20%5B-120.96704000000001%2C%2039.06316000000005%5D%2C%20%5B-120.96661000000002%2C%2039.063749999999985%5D%2C%20%5B-120.9662%2C%2039.064220000000034%5D%2C%20%5B-120.96538000000001%2C%2039.06516999999998%5D%2C%20%5B-120.96477000000002%2C%2039.065940000000005%5D%2C%20%5B-120.96451%2C%2039.06637%5D%2C%20%5B-120.96425000000002%2C%2039.06689%5D%2C%20%5B-120.96404%2C%2039.06814000000006%5D%2C%20%5B-120.96393%2C%2039.07016999999999%5D%2C%20%5B-120.96374000000002%2C%2039.07107000000002%5D%2C%20%5B-120.96277000000002%2C%2039.072960000000045%5D%2C%20%5B-120.96221%2C%2039.07395000000002%5D%2C%20%5B-120.96202000000001%2C%2039.07447000000005%5D%2C%20%5B-120.95953999999999%2C%2039.07898000000001%5D%2C%20%5B-120.95881000000001%2C%2039.08037999999996%5D%2C%20%5B-120.95754%2C%2039.082820000000005%5D%2C%20%5B-120.95679000000001%2C%2039.084259999999986%5D%2C%20%5B-120.95557%2C%2039.08658000000002%5D%2C%20%5B-120.95518000000001%2C%2039.087140000000005%5D%2C%20%5B-120.95488000000002%2C%2039.08754000000003%5D%2C%20%5B-120.95185%2C%2039.090489999999946%5D%2C%20%5B-120.951%2C%2039.091460000000005%5D%2C%20%5B-120.95014%2C%2039.092909999999975%5D%2C%20%5B-120.94973999999999%2C%2039.09405000000002%5D%2C%20%5B-120.94954%2C%2039.09547000000003%5D%2C%20%5B-120.94931%2C%2039.096140000000005%5D%2C%20%5B-120.94926000000001%2C%2039.096209999999985%5D%2C%20%5B-120.94919000000002%2C%2039.096279999999965%5D%2C%20%5B-120.94904999999999%2C%2039.096349999999966%5D%2C%20%5B-120.94885%2C%2039.096339999999984%5D%2C%20%5B-120.94852%2C%2039.09625000000002%5D%2C%20%5B-120.94846%2C%2039.096099999999986%5D%2C%20%5B-120.94847000000001%2C%2039.09595000000001%5D%2C%20%5B-120.94851%2C%2039.095859999999995%5D%2C%20%5B-120.94869%2C%2039.09560000000003%5D%2C%20%5B-120.94931999999999%2C%2039.09573%5D%2C%20%5B-120.94991999999999%2C%2039.09588%5D%2C%20%5B-120.95070999999999%2C%2039.09604%5D%2C%20%5B-120.95073%2C%2039.09626999999998%5D%2C%20%5B-120.95086%2C%2039.09687000000004%5D%2C%20%5B-120.95109%2C%2039.09786999999995%5D%2C%20%5B-120.95158000000002%2C%2039.099659999999986%5D%2C%20%5B-120.95177000000001%2C%2039.09963999999997%5D%2C%20%5B-120.95239%2C%2039.09974000000001%5D%2C%20%5B-120.95258000000001%2C%2039.09982000000002%5D%2C%20%5B-120.95260999999999%2C%2039.099770000000014%5D%5D%2C%20%22type%22%3A%20%22LineString%22%7D%2C%20%22id%22%3A%20%2265%22%2C%20%22properties%22%3A%20%7B%22Organization%22%3A%20%22Capitol%20Corridor%20Joint%20Powers%20Authority%22%2C%20%22Organization%20ID%22%3A%20%22recvEBkSBc7UxlarC%22%2C%20%22Route%22%3A%20%22Shuttle%20Shuttle_Auburn%22%2C%20%22Route%20ID%22%3A%20%22Shuttle%22%2C%20%22Service%20Miles%22%3A%2056.19%2C%20%22Service%20meters%22%3A%2090421.06697088487%2C%20%22Transit%20Operator%22%3A%20%22Bay%20Area%20511%20Capitol%20Corridor%20Schedule%22%2C%20%22__folium_color%22%3A%20%22%235e4fa2%22%2C%20%22dir_0_1%22%3A%200.0%2C%20%22feed_key%22%3A%20%220b78427182751df11384b5b4f2399493%22%2C%20%22is_coverage%22%3A%201.0%2C%20%22is_downtown_local%22%3A%200.0%2C%20%22is_express%22%3A%200.0%2C%20%22is_local%22%3A%200.0%2C%20%22is_rail%22%3A%200.0%2C%20%22is_rapid%22%3A%200.0%2C%20%22route_key%22%3A%20%22bc7fe93f58335debaf596a6e54b4f646%22%2C%20%22route_long_name%22%3A%20%22Shuttle_Auburn%22%2C%20%22route_short_name%22%3A%20%22Shuttle%22%2C%20%22schedule_gtfs_dataset_key%22%3A%20%22f5a749dd65924e025b1293c58f95f8d6%22%2C%20%22shape_array_key%22%3A%20%22d18f8ff2a5ee0c7a10a77e26e83b39b0%22%7D%2C%20%22type%22%3A%20%22Feature%22%7D%2C%20%7B%22bbox%22%3A%20%5B-122.39648%2C%2037.785079999999965%2C%20-122.28999000000002%2C%2037.84110999999999%5D%2C%20%22geometry%22%3A%20%7B%22coordinates%22%3A%20%5B%5B-122.29160000000002%2C%2037.84046000000005%5D%2C%20%5B-122.2915%2C%2037.840190000000035%5D%2C%20%5B-122.29144%2C%2037.84018000000003%5D%2C%20%5B-122.29123999999999%2C%2037.84023000000002%5D%2C%20%5B-122.29139%2C%2037.84070000000002%5D%2C%20%5B-122.29145000000001%2C%2037.840939999999954%5D%2C%20%5B-122.29062%2C%2037.84110999999999%5D%2C%20%5B-122.29029%2C%2037.84002000000002%5D%2C%20%5B-122.28999000000002%2C%2037.83938999999997%5D%2C%20%5B-122.29019%2C%2037.83935000000001%5D%2C%20%5B-122.29029999999999%2C%2037.83929000000002%5D%2C%20%5B-122.29248000000001%2C%2037.83885999999999%5D%2C%20%5B-122.29339%2C%2037.83872999999994%5D%2C%20%5B-122.29386%2C%2037.83871000000001%5D%2C%20%5B-122.2944%2C%2037.838609999999946%5D%2C%20%5B-122.29504%2C%2037.83845999999997%5D%2C%20%5B-122.29556999999998%2C%2037.83835000000004%5D%2C%20%5B-122.29677999999998%2C%2037.83816000000003%5D%2C%20%5B-122.29699000000001%2C%2037.838150000000034%5D%2C%20%5B-122.29712%2C%2037.83818999999994%5D%2C%20%5B-122.29717000000001%2C%2037.83824999999996%5D%2C%20%5B-122.29731%2C%2037.83854000000002%5D%2C%20%5B-122.29746%2C%2037.83895000000001%5D%2C%20%5B-122.29772%2C%2037.839370000000024%5D%2C%20%5B-122.29776%2C%2037.83967999999999%5D%2C%20%5B-122.29773999999999%2C%2037.83973999999994%5D%2C%20%5B-122.29770000000002%2C%2037.839789999999994%5D%2C%20%5B-122.2976%2C%2037.83982000000002%5D%2C%20%5B-122.29752000000002%2C%2037.83982000000002%5D%2C%20%5B-122.29742%2C%2037.83976999999996%5D%2C%20%5B-122.29731%2C%2037.839699999999986%5D%2C%20%5B-122.29685%2C%2037.83811000000002%5D%2C%20%5B-122.29664%2C%2037.83766000000002%5D%2C%20%5B-122.29637%2C%2037.836900000000014%5D%2C%20%5B-122.29492000000002%2C%2037.83377000000003%5D%2C%20%5B-122.29449%2C%2037.83269000000004%5D%2C%20%5B-122.29433%2C%2037.83218000000001%5D%2C%20%5B-122.29423000000001%2C%2037.83178999999997%5D%2C%20%5B-122.29412%2C%2037.83113999999998%5D%2C%20%5B-122.29408000000001%2C%2037.83074000000004%5D%2C%20%5B-122.29406%2C%2037.83021000000002%5D%2C%20%5B-122.29408000000001%2C%2037.829809999999995%5D%2C%20%5B-122.29414000000001%2C%2037.82955000000001%5D%2C%20%5B-122.29422%2C%2037.82930000000001%5D%2C%20%5B-122.29434%2C%2037.82905000000005%5D%2C%20%5B-122.29457000000001%2C%2037.82869999999999%5D%2C%20%5B-122.29486000000001%2C%2037.82836999999996%5D%2C%20%5B-122.29508000000001%2C%2037.828179999999946%5D%2C%20%5B-122.29533%2C%2037.82799999999997%5D%2C%20%5B-122.29574%2C%2037.82777000000004%5D%2C%20%5B-122.29618%2C%2037.82758%5D%2C%20%5B-122.29683000000001%2C%2037.82736999999999%5D%2C%20%5B-122.29840000000002%2C%2037.82695000000001%5D%2C%20%5B-122.30056%2C%2037.82644999999997%5D%2C%20%5B-122.30082000000002%2C%2037.82633000000003%5D%2C%20%5B-122.30305%2C%2037.825840000000014%5D%2C%20%5B-122.30455%2C%2037.82554999999998%5D%2C%20%5B-122.30516%2C%2037.82536999999999%5D%2C%20%5B-122.30612%2C%2037.825230000000005%5D%2C%20%5B-122.3071%2C%2037.82511000000003%5D%2C%20%5B-122.30905000000001%2C%2037.82492999999999%5D%2C%20%5B-122.31003%2C%2037.824870000000004%5D%2C%20%5B-122.31092%2C%2037.824829999999984%5D%2C%20%5B-122.31186999999998%2C%2037.82471%5D%2C%20%5B-122.31254%2C%2037.824659999999994%5D%2C%20%5B-122.31288%2C%2037.82462000000003%5D%2C%20%5B-122.31591000000002%2C%2037.82418000000001%5D%2C%20%5B-122.31748%2C%2037.82390999999995%5D%2C%20%5B-122.31791000000001%2C%2037.823829999999994%5D%2C%20%5B-122.31854%2C%2037.82366999999997%5D%2C%20%5B-122.31897%2C%2037.82354000000003%5D%2C%20%5B-122.31986%2C%2037.82321999999996%5D%2C%20%5B-122.32046000000001%2C%2037.82304000000001%5D%2C%20%5B-122.32130999999998%2C%2037.82282999999996%5D%2C%20%5B-122.32247%2C%2037.822600000000044%5D%2C%20%5B-122.32295%2C%2037.82260000000004%5D%2C%20%5B-122.32408999999998%2C%2037.822469999999996%5D%2C%20%5B-122.32697%2C%2037.82224999999995%5D%2C%20%5B-122.32765000000002%2C%2037.82219999999998%5D%2C%20%5B-122.32916000000002%2C%2037.82208000000004%5D%2C%20%5B-122.33047%2C%2037.82195000000004%5D%2C%20%5B-122.33178%2C%2037.82179999999997%5D%2C%20%5B-122.33308%2C%2037.82163%5D%2C%20%5B-122.3498%2C%2037.819190000000006%5D%2C%20%5B-122.3506%2C%2037.819070000000075%5D%2C%20%5B-122.35140000000001%2C%2037.8189%5D%2C%20%5B-122.35218000000002%2C%2037.81869000000003%5D%2C%20%5B-122.35295%2C%2037.818440000000024%5D%2C%20%5B-122.35383%2C%2037.818079999999995%5D%2C%20%5B-122.35454000000001%2C%2037.81775%5D%2C%20%5B-122.35522%2C%2037.817370000000004%5D%2C%20%5B-122.36045%2C%2037.814389999999975%5D%2C%20%5B-122.36085%2C%2037.81414%5D%2C%20%5B-122.36121%2C%2037.81389000000003%5D%2C%20%5B-122.36179%2C%2037.813439999999986%5D%2C%20%5B-122.36222%2C%2037.81305000000002%5D%2C%20%5B-122.36261000000002%2C%2037.81265000000001%5D%2C%20%5B-122.36355000000002%2C%2037.81159%5D%2C%20%5B-122.36439%2C%2037.810790000000004%5D%2C%20%5B-122.36506999999999%2C%2037.81016000000004%5D%2C%20%5B-122.36632%2C%2037.80897999999997%5D%2C%20%5B-122.3904%2C%2037.78649999999999%5D%2C%20%5B-122.39071999999999%2C%2037.786200000000036%5D%2C%20%5B-122.39102000000001%2C%2037.78597000000002%5D%2C%20%5B-122.39187000000001%2C%2037.78550999999998%5D%2C%20%5B-122.3927%2C%2037.78518999999998%5D%2C%20%5B-122.39295999999999%2C%2037.78511999999996%5D%2C%20%5B-122.39309%2C%2037.78510000000001%5D%2C%20%5B-122.39337000000002%2C%2037.785079999999965%5D%2C%20%5B-122.39376%2C%2037.78510000000001%5D%2C%20%5B-122.39401999999998%2C%2037.78514999999996%5D%2C%20%5B-122.39437%2C%2037.78526000000001%5D%2C%20%5B-122.39457%2C%2037.78535999999999%5D%2C%20%5B-122.39477000000001%2C%2037.785479999999964%5D%2C%20%5B-122.39587%2C%2037.786369999999984%5D%2C%20%5B-122.39597000000002%2C%2037.78648000000002%5D%2C%20%5B-122.39605%2C%2037.78668000000001%5D%2C%20%5B-122.39607000000001%2C%2037.786819999999985%5D%2C%20%5B-122.39600999999999%2C%2037.787060000000004%5D%2C%20%5B-122.3959%2C%2037.78720999999996%5D%2C%20%5B-122.39441000000001%2C%2037.788380000000025%5D%2C%20%5B-122.39434999999999%2C%2037.788499999999985%5D%2C%20%5B-122.39437%2C%2037.788629999999955%5D%2C%20%5B-122.39440000000002%2C%2037.78865999999998%5D%2C%20%5B-122.39515%2C%2037.789229999999996%5D%2C%20%5B-122.396249%2C%2037.790105999999994%5D%2C%20%5B-122.39648%2C%2037.79028999999997%5D%5D%2C%20%22type%22%3A%20%22LineString%22%7D%2C%20%22id%22%3A%20%2264%22%2C%20%22properties%22%3A%20%7B%22Organization%22%3A%20%22Capitol%20Corridor%20Joint%20Powers%20Authority%22%2C%20%22Organization%20ID%22%3A%20%22recvEBkSBc7UxlarC%22%2C%20%22Route%22%3A%20%22SF%20Shuttle_SF%22%2C%20%22Route%20ID%22%3A%20%22SF%22%2C%20%22Service%20Miles%22%3A%208.63%2C%20%22Service%20meters%22%3A%2013892.566407094111%2C%20%22Transit%20Operator%22%3A%20%22Bay%20Area%20511%20Capitol%20Corridor%20Schedule%22%2C%20%22__folium_color%22%3A%20%22%23ffffbf%22%2C%20%22dir_0_1%22%3A%201.0%2C%20%22feed_key%22%3A%20%220b78427182751df11384b5b4f2399493%22%2C%20%22is_coverage%22%3A%20null%2C%20%22is_downtown_local%22%3A%20null%2C%20%22is_express%22%3A%20null%2C%20%22is_local%22%3A%20null%2C%20%22is_rail%22%3A%20null%2C%20%22is_rapid%22%3A%20null%2C%20%22route_key%22%3A%20%2241d1fdcf6a8aceab8b3d5a31cdaa8d0c%22%2C%20%22route_long_name%22%3A%20%22Shuttle_SF%22%2C%20%22route_short_name%22%3A%20%22SF%22%2C%20%22schedule_gtfs_dataset_key%22%3A%20%22f5a749dd65924e025b1293c58f95f8d6%22%2C%20%22shape_array_key%22%3A%20%228550109ad13548c80af33cbac72e2f1f%22%7D%2C%20%22type%22%3A%20%22Feature%22%7D%2C%20%7B%22bbox%22%3A%20%5B-122.360144%2C%2037.329934999999985%2C%20-121.080537%2C%2038.90383099999997%5D%2C%20%22geometry%22%3A%20%7B%22coordinates%22%3A%20%5B%5B-121.902496%2C%2037.329934999999985%5D%2C%20%5B-121.903031%2C%2037.32994000000002%5D%2C%20%5B-121.903051%2C%2037.330676%5D%2C%20%5B-121.903256%2C%2037.33177400000004%5D%2C%20%5B-121.90337400000001%2C%2037.33288699999998%5D%2C%20%5B-121.90368%2C%2037.33350999999999%5D%2C%20%5B-121.904208%2C%2037.334143000000054%5D%2C%20%5B-121.90781599999998%2C%2037.33752800000001%5D%2C%20%5B-121.908385%2C%2037.33888399999998%5D%2C%20%5B-121.908578%2C%2037.339122999999994%5D%2C%20%5B-121.90900400000001%2C%2037.339560000000006%5D%2C%20%5B-121.90968800000002%2C%2037.34019700000003%5D%2C%20%5B-121.910348%2C%2037.34066700000001%5D%2C%20%5B-121.911153%2C%2037.34100400000001%5D%2C%20%5B-121.912002%2C%2037.341243999999975%5D%2C%20%5B-121.912783%2C%2037.341527999999975%5D%2C%20%5B-121.91347%2C%2037.34186500000005%5D%2C%20%5B-121.918163%2C%2037.34425499999998%5D%2C%20%5B-121.93645299999999%2C%2037.353218000000034%5D%2C%20%5B-121.942062%2C%2037.35617200000001%5D%2C%20%5B-121.94566700000001%2C%2037.36360900000002%5D%2C%20%5B-121.946182%2C%2037.37506800000002%5D%2C%20%5B-121.949916%2C%2037.38151399999998%5D%2C%20%5B-121.959486%2C%2037.39583499999999%5D%2C%20%5B-121.967132%2C%2037.40687699999997%5D%2C%20%5B-121.972618%2C%2037.41519800000006%5D%2C%20%5B-121.976008%2C%2037.41942399999998%5D%2C%20%5B-121.976545%2C%2037.42010599999998%5D%2C%20%5B-121.976931%2C%2037.421008999999984%5D%2C%20%5B-121.977596%2C%2037.42608700000002%5D%2C%20%5B-121.97753200000001%2C%2037.43414699999999%5D%2C%20%5B-121.976395%2C%2037.43920699999998%5D%2C%20%5B-121.975901%2C%2037.44384099999997%5D%2C%20%5B-121.973412%2C%2037.476288999999994%5D%2C%20%5B-121.973519%2C%2037.47809399999998%5D%2C%20%5B-121.97373400000001%2C%2037.47960900000004%5D%2C%20%5B-121.97427%2C%2037.48095399999997%5D%2C%20%5B-121.975162%2C%2037.482026%5D%2C%20%5B-121.99905399999999%2C%2037.504959999999976%5D%2C%20%5B-122.00646699999999%2C%2037.51199599999994%5D%2C%20%5B-122.00841%2C%2037.51372599999997%5D%2C%20%5B-122.00999700000001%2C%2037.514712999999965%5D%2C%20%5B-122.01263699999998%2C%2037.515886999999985%5D%2C%20%5B-122.018772%2C%2037.51881900000003%5D%2C%20%5B-122.0266%2C%2037.52232000000001%5D%2C%20%5B-122.032313%2C%2037.52494099999999%5D%2C%20%5B-122.032775%2C%2037.525511000000016%5D%2C%20%5B-122.033054%2C%2037.52611599999998%5D%2C%20%5B-122.03295700000001%2C%2037.52685600000005%5D%2C%20%5B-122.032614%2C%2037.527290000000015%5D%2C%20%5B-122.02445999999999%2C%2037.537057000000004%5D%2C%20%5B-122.01979400000002%2C%2037.542942%5D%2C%20%5B-122.01678200000002%2C%2037.54687399999995%5D%2C%20%5B-122.00928900000001%2C%2037.556451999999986%5D%2C%20%5B-122.007176%2C%2037.558994999999996%5D%2C%20%5B-122.00738199999999%2C%2037.559141999999994%5D%2C%20%5B-122.00715400000001%2C%2037.559054000000046%5D%2C%20%5B-122.006264%2C%2037.55987099999997%5D%2C%20%5B-122.005465%2C%2037.560314000000034%5D%2C%20%5B-122.00448299999998%2C%2037.56068700000002%5D%2C%20%5B-121.986451%2C%2037.56563099999999%5D%2C%20%5B-121.97474200000002%2C%2037.568902%5D%2C%20%5B-121.97111600000001%2C%2037.570008000000016%5D%2C%20%5B-121.97049400000002%2C%2037.570348000000024%5D%2C%20%5B-121.970108%2C%2037.570874999999994%5D%2C%20%5B-121.97%2C%2037.57142800000002%5D%2C%20%5B-121.97015%2C%2037.572066%5D%2C%20%5B-121.974657%2C%2037.57602800000001%5D%2C%20%5B-121.975408%2C%2037.57669999999998%5D%2C%20%5B-121.975987%2C%2037.577091%5D%2C%20%5B-121.976579%2C%2037.577359000000015%5D%2C%20%5B-121.98071800000001%2C%2037.57808600000002%5D%2C%20%5B-121.983218%2C%2037.57854500000005%5D%2C%20%5B-121.98554599999999%2C%2037.578962000000004%5D%2C%20%5B-121.987735%2C%2037.579480999999966%5D%2C%20%5B-121.989505%2C%2037.579957%5D%2C%20%5B-121.992434%2C%2037.58078099999999%5D%2C%20%5B-121.995041%2C%2037.58164000000001%5D%2C%20%5B-121.99737%2C%2037.582524000000035%5D%2C%20%5B-121.99843200000001%2C%2037.58298399999999%5D%2C%20%5B-122.002208%2C%2037.584607000000005%5D%2C%20%5B-122.00492300000002%2C%2037.585951000000044%5D%2C%20%5B-122.00797999999999%2C%2037.58764299999999%5D%2C%20%5B-122.01791499999999%2C%2037.594716000000005%5D%2C%20%5B-122.026284%2C%2037.60170299999998%5D%2C%20%5B-122.05046100000001%2C%2037.62338100000002%5D%2C%20%5B-122.05055200000001%2C%2037.623545000000014%5D%2C%20%5B-122.05999400000002%2C%2037.63153299999999%5D%2C%20%5B-122.071838%2C%2037.64165999999995%5D%2C%20%5B-122.08750200000001%2C%2037.65603300000003%5D%2C%20%5B-122.099321%2C%2037.665962000000036%5D%2C%20%5B-122.19821800000001%2C%2037.752480999999996%5D%2C%20%5B-122.213459%2C%2037.76569399999995%5D%2C%20%5B-122.21925300000001%2C%2037.769256%5D%2C%20%5B-122.23229900000001%2C%2037.778279000000026%5D%2C%20%5B-122.24174%2C%2037.78506300000001%5D%2C%20%5B-122.25113900000001%2C%2037.78886099999999%5D%2C%20%5B-122.26121299999998%2C%2037.790879000000004%5D%2C%20%5B-122.266685%2C%2037.79187100000002%5D%2C%20%5B-122.26985000000002%2C%2037.79270200000004%5D%2C%20%5B-122.271813%2C%2037.79355000000006%5D%2C%20%5B-122.271521%2C%2037.793715%5D%2C%20%5B-122.27178099999999%2C%2037.79351599999996%5D%2C%20%5B-122.27801400000001%2C%2037.79583099999999%5D%2C%20%5B-122.284023%2C%2037.79817000000002%5D%2C%20%5B-122.28996600000002%2C%2037.799713000000004%5D%2C%20%5B-122.298453%2C%2037.801679999999976%5D%2C%20%5B-122.299794%2C%2037.80212900000001%5D%2C%20%5B-122.301629%2C%2037.802994000000005%5D%2C%20%5B-122.303131%2C%2037.80390100000005%5D%2C%20%5B-122.30470800000002%2C%2037.80563899999999%5D%2C%20%5B-122.305502%2C%2037.80748699999997%5D%2C%20%5B-122.30562%2C%2037.809063000000016%5D%2C%20%5B-122.305094%2C%2037.810547000000014%5D%2C%20%5B-122.304407%2C%2037.811816999999984%5D%2C%20%5B-122.297595%2C%2037.81766700000002%5D%2C%20%5B-122.294859%2C%2037.81981100000001%5D%2C%20%5B-122.2934%2C%2037.82114100000001%5D%2C%20%5B-122.292788%2C%2037.82204799999998%5D%2C%20%5B-122.29232699999999%2C%2037.822947%5D%2C%20%5B-122.291758%2C%2037.82451400000002%5D%2C%20%5B-122.29142500000002%2C%2037.82595500000005%5D%2C%20%5B-122.291093%2C%2037.82779400000003%5D%2C%20%5B-122.290932%2C%2037.83034499999998%5D%2C%20%5B-122.291093%2C%2037.834751000000026%5D%2C%20%5B-122.292241%2C%2037.84038599999996%5D%2C%20%5B-122.291808%2C%2037.840423000000044%5D%2C%20%5B-122.292241%2C%2037.84038599999996%5D%2C%20%5B-122.29977299999999%2C%2037.86370800000007%5D%2C%20%5B-122.300908%2C%2037.86743899999999%5D%2C%20%5B-122.30215399999999%2C%2037.870924%5D%2C%20%5B-122.30420400000001%2C%2037.877393999999974%5D%2C%20%5B-122.30602699999999%2C%2037.883202999999995%5D%2C%20%5B-122.30736900000001%2C%2037.887969999999996%5D%2C%20%5B-122.30869899999999%2C%2037.89353300000002%5D%2C%20%5B-122.30970700000002%2C%2037.89525999999997%5D%2C%20%5B-122.31092%2C%2037.896886000000045%5D%2C%20%5B-122.314653%2C%2037.90156799999998%5D%2C%20%5B-122.318366%2C%2037.90624099999997%5D%2C%20%5B-122.323827%2C%2037.91291100000006%5D%2C%20%5B-122.326273%2C%2037.915678999999976%5D%2C%20%5B-122.32750699999998%2C%2037.91686399999997%5D%2C%20%5B-122.329094%2C%2037.918226999999995%5D%2C%20%5B-122.353896%2C%2037.93676600000002%5D%2C%20%5B-122.357247%2C%2037.94169300000003%5D%2C%20%5B-122.358556%2C%2037.944416999999994%5D%2C%20%5B-122.359328%2C%2037.946567000000016%5D%2C%20%5B-122.359897%2C%2037.949155000000026%5D%2C%20%5B-122.360144%2C%2037.95214999999998%5D%2C%20%5B-122.35997200000001%2C%2037.955771%5D%2C%20%5B-122.35804100000001%2C%2037.977086000000014%5D%2C%20%5B-122.356592%2C%2037.993398000000035%5D%2C%20%5B-122.35650700000001%2C%2037.994480000000046%5D%2C%20%5B-122.356249%2C%2037.996424999999995%5D%2C%20%5B-122.355917%2C%2037.99712699999998%5D%2C%20%5B-122.35553%2C%2037.99791299999997%5D%2C%20%5B-122.35491900000001%2C%2037.99882599999999%5D%2C%20%5B-122.354178%2C%2037.99956099999999%5D%2C%20%5B-122.35342699999998%2C%2038.00017%5D%2C%20%5B-122.35257999999999%2C%2038.000761999999995%5D%2C%20%5B-122.35154999999999%2C%2038.00134499999999%5D%2C%20%5B-122.35054099999999%2C%2038.00175099999999%5D%2C%20%5B-122.34939300000002%2C%2038.00207200000001%5D%2C%20%5B-122.348117%2C%2038.00230100000004%5D%2C%20%5B-122.34675400000002%2C%2038.002435999999996%5D%2C%20%5B-122.34546700000001%2C%2038.002368000000004%5D%2C%20%5B-122.344297%2C%2038.00223299999996%5D%2C%20%5B-122.337248%2C%2038.00077%5D%2C%20%5B-122.335317%2C%2038.000517000000016%5D%2C%20%5B-122.333257%2C%2038.000661000000015%5D%2C%20%5B-122.331262%2C%2038.001082999999994%5D%2C%20%5B-122.328955%2C%2038.00203899999998%5D%2C%20%5B-122.32320399999999%2C%2038.00580899999999%5D%2C%20%5B-122.322013%2C%2038.00666299999999%5D%2C%20%5B-122.31858000000001%2C%2038.00961300000003%5D%2C%20%5B-122.31734600000001%2C%2038.01051799999998%5D%2C%20%5B-122.31667000000002%2C%2038.01085599999999%5D%2C%20%5B-122.315984%2C%2038.01101600000004%5D%2C%20%5B-122.314696%2C%2038.01110099999998%5D%2C%20%5B-122.313763%2C%2038.010949%5D%2C%20%5B-122.31276499999998%2C%2038.010704000000004%5D%2C%20%5B-122.31036200000001%2C%2038.01001000000003%5D%2C%20%5B-122.309439%2C%2038.009778000000026%5D%2C%20%5B-122.30858100000002%2C%2038.009867%5D%2C%20%5B-122.30615599999999%2C%2038.010267999999954%5D%2C%20%5B-122.30520100000001%2C%2038.010340000000014%5D%2C%20%5B-122.30441100000002%2C%2038.01036000000005%5D%2C%20%5B-122.29952600000001%2C%2038.01009500000001%5D%2C%20%5B-122.298903%2C%2038.01020099999994%5D%2C%20%5B-122.298228%2C%2038.01037799999999%5D%2C%20%5B-122.29768600000001%2C%2038.01064900000001%5D%2C%20%5B-122.297181%2C%2038.01099900000001%5D%2C%20%5B-122.29296%2C%2038.01487899999996%5D%2C%20%5B-122.29008400000001%2C%2038.018530999999996%5D%2C%20%5B-122.28894699999998%2C%2038.019764999999985%5D%2C%20%5B-122.288314%2C%2038.02014099999997%5D%2C%20%5B-122.287735%2C%2038.02042799999999%5D%2C%20%5B-122.286131%2C%2038.02089699999998%5D%2C%20%5B-122.283432%2C%2038.021657999999995%5D%2C%20%5B-122.282327%2C%2038.02225799999999%5D%2C%20%5B-122.28161900000002%2C%2038.02291700000001%5D%2C%20%5B-122.280943%2C%2038.023922999999954%5D%2C%20%5B-122.28008500000001%2C%2038.025571%5D%2C%20%5B-122.27947399999998%2C%2038.02665299999998%5D%2C%20%5B-122.278508%2C%2038.027387999999995%5D%2C%20%5B-122.277553%2C%2038.02806000000003%5D%2C%20%5B-122.276668%2C%2038.028828999999995%5D%2C%20%5B-122.27623900000002%2C%2038.02944199999999%5D%2C%20%5B-122.27563300000001%2C%2038.030705%5D%2C%20%5B-122.275069%2C%2038.03219699999996%5D%2C%20%5B-122.27472600000002%2C%2038.034204%5D%2C%20%5B-122.274485%2C%2038.03551399999999%5D%2C%20%5B-122.274195%2C%2038.036139%5D%2C%20%5B-122.273385%2C%2038.03687000000006%5D%2C%20%5B-122.272371%2C%2038.037386%5D%2C%20%5B-122.270831%2C%2038.037842000000005%5D%2C%20%5B-122.26877200000001%2C%2038.038467000000004%5D%2C%20%5B-122.266384%2C%2038.03919000000002%5D%2C%20%5B-122.26521%2C%2038.03957799999999%5D%2C%20%5B-122.26446900000002%2C%2038.039971000000016%5D%2C%20%5B-122.26370800000001%2C%2038.04058800000002%5D%2C%20%5B-122.26308500000002%2C%2038.041365000000006%5D%2C%20%5B-122.262812%2C%2038.042049999999975%5D%2C%20%5B-122.26257599999998%2C%2038.04335499999999%5D%2C%20%5B-122.26185700000002%2C%2038.04851399999997%5D%2C%20%5B-122.242116%2C%2038.057502999999976%5D%2C%20%5B-122.240989%2C%2038.05788300000001%5D%2C%20%5B-122.240013%2C%2038.05795000000003%5D%2C%20%5B-122.23906900000001%2C%2038.05789999999999%5D%2C%20%5B-122.238296%2C%2038.057679999999976%5D%2C%20%5B-122.236987%2C%2038.05724900000003%5D%2C%20%5B-122.23381200000001%2C%2038.05693700000004%5D%2C%20%5B-122.222152%2C%2038.055673%5D%2C%20%5B-122.22165599999998%2C%2038.05569500000002%5D%2C%20%5B-122.22079999999998%2C%2038.055915999999954%5D%2C%20%5B-122.218287%2C%2038.056817999999964%5D%2C%20%5B-122.216903%2C%2038.05701300000003%5D%2C%20%5B-122.215798%2C%2038.05681799999997%5D%2C%20%5B-122.20896400000001%2C%2038.055238000000024%5D%2C%20%5B-122.198009%2C%2038.05282200000004%5D%2C%20%5B-122.19589600000002%2C%2038.05266200000002%5D%2C%20%5B-122.19224800000002%2C%2038.05253499999997%5D%2C%20%5B-122.19036000000001%2C%2038.05223900000002%5D%2C%20%5B-122.18529600000001%2C%2038.04922299999999%5D%2C%20%5B-122.18442700000001%2C%2038.04843699999996%5D%2C%20%5B-122.182785%2C%2038.04703499999998%5D%2C%20%5B-122.18022100000002%2C%2038.04533699999998%5D%2C%20%5B-122.179084%2C%2038.04423800000003%5D%2C%20%5B-122.178236%2C%2038.04313099999996%5D%2C%20%5B-122.17667%2C%2038.04060500000002%5D%2C%20%5B-122.17500699999998%2C%2038.038492000000026%5D%2C%20%5B-122.174578%2C%2038.03474099999999%5D%2C%20%5B-122.17307600000001%2C%2038.03318599999997%5D%2C%20%5B-122.17118699999999%2C%2038.032070000000026%5D%2C%20%5B-122.169771%2C%2038.02977200000001%5D%2C%20%5B-122.161403%2C%2038.02568099999998%5D%2C%20%5B-122.147799%2C%2038.02067799999997%5D%2C%20%5B-122.14273500000002%2C%2038.01935899999999%5D%2C%20%5B-122.13882999999998%2C%2038.019079%5D%2C%20%5B-122.134087%2C%2038.020255%5D%2C%20%5B-122.131877%2C%2038.02140499999999%5D%2C%20%5B-122.129517%2C%2038.023027000000006%5D%2C%20%5B-122.12196400000002%2C%2038.02500500000002%5D%2C%20%5B-122.12044%2C%2038.025969000000025%5D%2C%20%5B-122.11887400000002%2C%2038.02757400000001%5D%2C%20%5B-122.117951%2C%2038.03450399999999%5D%2C%20%5B-122.128508%2C%2038.04900400000001%5D%2C%20%5B-122.12889400000002%2C%2038.050557999999974%5D%2C%20%5B-122.12887300000001%2C%2038.052196999999985%5D%2C%20%5B-122.12728500000001%2C%2038.058515999999955%5D%2C%20%5B-122.126362%2C%2038.062198999999985%5D%2C%20%5B-122.12608100000001%2C%2038.062797999999944%5D%2C%20%5B-122.12187800000001%2C%2038.06760499999996%5D%2C%20%5B-122.10745799999998%2C%2038.08349999999999%5D%2C%20%5B-122.10675%2C%2038.084294%5D%2C%20%5B-122.105827%2C%2038.08608399999997%5D%2C%20%5B-122.10494199999998%2C%2038.08957399999998%5D%2C%20%5B-122.101042%2C%2038.10386599999995%5D%2C%20%5B-122.100549%2C%2038.108103999999976%5D%2C%20%5B-122.10097800000001%2C%2038.127618999999974%5D%2C%20%5B-122.100828%2C%2038.129340999999954%5D%2C%20%5B-122.100463%2C%2038.13133299999999%5D%2C%20%5B-122.098532%2C%2038.135772000000024%5D%2C%20%5B-122.09527000000001%2C%2038.14150999999994%5D%2C%20%5B-122.09115000000001%2C%2038.149104000000044%5D%2C%20%5B-122.041192%2C%2038.243445999999956%5D%2C%20%5B-121.968069%2C%2038.28539799999996%5D%2C%20%5B-121.95806999999999%2C%2038.29108200000001%5D%2C%20%5B-121.949873%2C%2038.300681000000004%5D%2C%20%5B-121.93970199999998%2C%2038.31644100000003%5D%2C%20%5B-121.73963599999999%2C%2038.541383%5D%2C%20%5B-121.737758%2C%2038.54349400000001%5D%2C%20%5B-121.730747%2C%2038.54524500000003%5D%2C%20%5B-121.583805%2C%2038.57870200000002%5D%2C%20%5B-121.54097600000001%2C%2038.58802799999994%5D%2C%20%5B-121.53646900000001%2C%2038.588563999999955%5D%2C%20%5B-121.52943100000002%2C%2038.58846400000001%5D%2C%20%5B-121.519035%2C%2038.58788499999996%5D%2C%20%5B-121.51552699999999%2C%2038.58771699999998%5D%2C%20%5B-121.511235%2C%2038.58746599999998%5D%2C%20%5B-121.50976500000002%2C%2038.587172000000024%5D%2C%20%5B-121.50731900000001%2C%2038.58650100000003%5D%2C%20%5B-121.50527%2C%2038.585981000000025%5D%2C%20%5B-121.50344599999998%2C%2038.58507600000002%5D%2C%20%5B-121.502395%2C%2038.58454700000002%5D%2C%20%5B-121.50069899999998%2C%2038.58400400000001%5D%2C%20%5B-121.50062899999999%2C%2038.584057999999985%5D%2C%20%5B-121.502395%2C%2038.58450500000003%5D%2C%20%5B-121.502273%2C%2038.58450799999997%5D%2C%20%5B-121.502652%2C%2038.584714999999974%5D%2C%20%5B-121.502631%2C%2038.58577200000002%5D%2C%20%5B-121.500388%2C%2038.58609899999999%5D%2C%20%5B-121.497599%2C%2038.58648500000003%5D%2C%20%5B-121.49678300000001%2C%2038.58669400000001%5D%2C%20%5B-121.49496000000002%2C%2038.587700999999946%5D%2C%20%5B-121.494541%2C%2038.58786000000001%5D%2C%20%5B-121.49351099999998%2C%2038.58800299999996%5D%2C%20%5B-121.48926299999998%2C%2038.588647999999985%5D%2C%20%5B-121.48861900000001%2C%2038.58864799999999%5D%2C%20%5B-121.4879%2C%2038.588598000000005%5D%2C%20%5B-121.469543%2C%2038.58371700000001%5D%2C%20%5B-121.46804099999999%2C%2038.58343199999996%5D%2C%20%5B-121.46553000000002%2C%2038.58318000000003%5D%2C%20%5B-121.463706%2C%2038.58272699999997%5D%2C%20%5B-121.46025200000001%2C%2038.58157000000001%5D%2C%20%5B-121.459179%2C%2038.58138599999998%5D%2C%20%5B-121.457849%2C%2038.581368999999995%5D%2C%20%5B-121.45643200000002%2C%2038.581520000000005%5D%2C%20%5B-121.454909%2C%2038.58197299999997%5D%2C%20%5B-121.45385700000001%2C%2038.58240899999999%5D%2C%20%5B-121.452591%2C%2038.58314700000001%5D%2C%20%5B-121.451325%2C%2038.58428700000001%5D%2C%20%5B-121.45081%2C%2038.585512000000016%5D%2C%20%5B-121.45001600000002%2C%2038.59436699999996%5D%2C%20%5B-121.449459%2C%2038.596530999999985%5D%2C%20%5B-121.448514%2C%2038.59814099999993%5D%2C%20%5B-121.447442%2C%2038.59966700000002%5D%2C%20%5B-121.445811%2C%2038.601226000000025%5D%2C%20%5B-121.38714599999999%2C%2038.65530399999998%5D%2C%20%5B-121.342707%2C%2038.696698%5D%2C%20%5B-121.29133700000001%2C%2038.74561600000002%5D%2C%20%5B-121.28593000000001%2C%2038.74959900000002%5D%2C%20%5B-121.286271%2C%2038.749959000000004%5D%2C%20%5B-121.28590800000002%2C%2038.749564999999976%5D%2C%20%5B-121.28523700000001%2C%2038.75013900000002%5D%2C%20%5B-121.28318300000001%2C%2038.75152299999998%5D%2C%20%5B-121.27833399999999%2C%2038.754358999999994%5D%2C%20%5B-121.27469700000002%2C%2038.75655999999995%5D%2C%20%5B-121.273452%2C%2038.757162%5D%2C%20%5B-121.27240100000002%2C%2038.75757199999999%5D%2C%20%5B-121.271124%2C%2038.757973999999926%5D%2C%20%5B-121.269643%2C%2038.75832499999999%5D%2C%20%5B-121.26772300000002%2C%2038.758509000000025%5D%2C%20%5B-121.264386%2C%2038.75858400000003%5D%2C%20%5B-121.26360300000002%2C%2038.75871799999999%5D%2C%20%5B-121.26291600000002%2C%2038.758886%5D%2C%20%5B-121.262273%2C%2038.75910299999999%5D%2C%20%5B-121.26166100000002%2C%2038.75952999999999%5D%2C%20%5B-121.261103%2C%2038.75988999999998%5D%2C%20%5B-121.26059899999998%2C%2038.760400000000004%5D%2C%20%5B-121.25979400000001%2C%2038.761621000000055%5D%2C%20%5B-121.25778799999999%2C%2038.76470000000001%5D%2C%20%5B-121.25543799999998%2C%2038.768264000000045%5D%2C%20%5B-121.250728%2C%2038.77369200000001%5D%2C%20%5B-121.24807799999999%2C%2038.776720000000005%5D%2C%20%5B-121.24283200000002%2C%2038.78389600000001%5D%2C%20%5B-121.23915199999999%2C%2038.789023000000014%5D%2C%20%5B-121.23754299999999%2C%2038.79123899999999%5D%2C%20%5B-121.237397%2C%2038.791051%5D%2C%20%5B-121.23743100000002%2C%2038.791095000000006%5D%2C%20%5B-121.23743100000002%2C%2038.791095000000006%5D%2C%20%5B-121.23754800000002%2C%2038.79123899999999%5D%2C%20%5B-121.23560599999999%2C%2038.79407799999998%5D%2C%20%5B-121.23471000000002%2C%2038.795771%5D%2C%20%5B-121.234116%2C%2038.79747900000002%5D%2C%20%5B-121.23353%2C%2038.79856399999999%5D%2C%20%5B-121.23297200000002%2C%2038.79898200000002%5D%2C%20%5B-121.232049%2C%2038.79948399999994%5D%2C%20%5B-121.22994600000001%2C%2038.80015099999996%5D%2C%20%5B-121.22496800000002%2C%2038.80144000000001%5D%2C%20%5B-121.222694%2C%2038.80250999999999%5D%2C%20%5B-121.220033%2C%2038.803982000000005%5D%2C%20%5B-121.20859600000001%2C%2038.81097099999998%5D%2C%20%5B-121.202781%2C%2038.814448999999996%5D%2C%20%5B-121.19947700000002%2C%2038.816623000000014%5D%2C%20%5B-121.195624%2C%2038.820556999999944%5D%2C%20%5B-121.193233%2C%2038.823117999999994%5D%2C%20%5B-121.192203%2C%2038.82427900000001%5D%2C%20%5B-121.191816%2C%2038.82493099999993%5D%2C%20%5B-121.19142500000001%2C%2038.825883999999995%5D%2C%20%5B-121.19059600000001%2C%2038.828552999999964%5D%2C%20%5B-121.18950399999999%2C%2038.83205700000006%5D%2C%20%5B-121.18915599999998%2C%2038.83290500000004%5D%2C%20%5B-121.188496%2C%2038.833773999999984%5D%2C%20%5B-121.188115%2C%2038.83418800000002%5D%2C%20%5B-121.18765400000001%2C%2038.834618%5D%2C%20%5B-121.18698799999999%2C%2038.835103000000025%5D%2C%20%5B-121.18625299999998%2C%2038.835541999999954%5D%2C%20%5B-121.185545%2C%2038.835884%5D%2C%20%5B-121.18460099999999%2C%2038.836214000000034%5D%2C%20%5B-121.183786%2C%2038.83643200000005%5D%2C%20%5B-121.182885%2C%2038.83655300000001%5D%2C%20%5B-121.180818%2C%2038.83668500000005%5D%2C%20%5B-121.179956%2C%2038.836749%5D%2C%20%5B-121.179081%2C%2038.83692499999998%5D%2C%20%5B-121.178378%2C%2038.837230000000005%5D%2C%20%5B-121.17798999999998%2C%2038.837511999999975%5D%2C%20%5B-121.177627%2C%2038.837844%5D%2C%20%5B-121.17723000000001%2C%2038.83850800000003%5D%2C%20%5B-121.17706400000002%2C%2038.839147999999994%5D%2C%20%5B-121.177177%2C%2038.840013000000035%5D%2C%20%5B-121.17731600000002%2C%2038.84046800000001%5D%2C%20%5B-121.177831%2C%2038.841717%5D%2C%20%5B-121.17803000000002%2C%2038.84240699999997%5D%2C%20%5B-121.17801899999999%2C%2038.843151000000006%5D%2C%20%5B-121.17780399999998%2C%2038.843702000000036%5D%2C%20%5B-121.177499%2C%2038.84410700000003%5D%2C%20%5B-121.177096%2C%2038.84452499999994%5D%2C%20%5B-121.17670100000001%2C%2038.844843999999995%5D%2C%20%5B-121.176308%2C%2038.84530199999995%5D%2C%20%5B-121.17602899999999%2C%2038.84585400000005%5D%2C%20%5B-121.175825%2C%2038.847333%5D%2C%20%5B-121.175632%2C%2038.84780899999995%5D%2C%20%5B-121.17538999999998%2C%2038.84821400000001%5D%2C%20%5B-121.174961%2C%2038.84873199999998%5D%2C%20%5B-121.17443%2C%2038.84913300000001%5D%2C%20%5B-121.173701%2C%2038.849501%5D%2C%20%5B-121.17260599999999%2C%2038.849856%5D%2C%20%5B-121.172145%2C%2038.849980999999985%5D%2C%20%5B-121.171689%2C%2038.850144000000014%5D%2C%20%5B-121.17120100000001%2C%2038.85041599999999%5D%2C%20%5B-121.17080300000002%2C%2038.850704000000036%5D%2C%20%5B-121.17045500000002%2C%2038.85104299999999%5D%2C%20%5B-121.17026100000001%2C%2038.85137699999998%5D%2C%20%5B-121.170053%2C%2038.85187399999998%5D%2C%20%5B-121.169977%2C%2038.85234199999999%5D%2C%20%5B-121.16990300000002%2C%2038.85291400000004%5D%2C%20%5B-121.16980099999999%2C%2038.853323999999986%5D%2C%20%5B-121.169661%2C%2038.853587000000005%5D%2C%20%5B-121.169404%2C%2038.854005000000015%5D%2C%20%5B-121.16868%2C%2038.85462700000004%5D%2C%20%5B-121.167446%2C%2038.85530400000004%5D%2C%20%5B-121.166732%2C%2038.855684000000004%5D%2C%20%5B-121.16617400000001%2C%2038.85610199999997%5D%2C%20%5B-121.16593799999998%2C%2038.856519%5D%2C%20%5B-121.165794%2C%2038.85691200000003%5D%2C%20%5B-121.16584700000001%2C%2038.857990000000015%5D%2C%20%5B-121.165869%2C%2038.858441000000056%5D%2C%20%5B-121.16585300000001%2C%2038.85874199999998%5D%2C%20%5B-121.16541799999999%2C%2038.86078900000003%5D%2C%20%5B-121.16526200000001%2C%2038.86128600000001%5D%2C%20%5B-121.164731%2C%2038.862304999999985%5D%2C%20%5B-121.163975%2C%2038.86369199999997%5D%2C%20%5B-121.163498%2C%2038.864300999999976%5D%2C%20%5B-121.16293400000002%2C%2038.86484900000002%5D%2C%20%5B-121.16236000000002%2C%2038.86524999999999%5D%2C%20%5B-121.16152300000002%2C%2038.86564199999998%5D%2C%20%5B-121.160483%2C%2038.86594700000002%5D%2C%20%5B-121.159249%2C%2038.86605099999997%5D%2C%20%5B-121.15735%2C%2038.86622300000001%5D%2C%20%5B-121.156738%2C%2038.866390000000024%5D%2C%20%5B-121.155955%2C%2038.86689500000002%5D%2C%20%5B-121.155574%2C%2038.86752999999999%5D%2C%20%5B-121.15549400000002%2C%2038.86800999999999%5D%2C%20%5B-121.15548800000002%2C%2038.86828999999999%5D%2C%20%5B-121.15558%2C%2038.86861600000001%5D%2C%20%5B-121.155896%2C%2038.869546999999955%5D%2C%20%5B-121.155875%2C%2038.87009000000001%5D%2C%20%5B-121.155767%2C%2038.87043300000003%5D%2C%20%5B-121.155478%2C%2038.87086699999996%5D%2C%20%5B-121.15511300000001%2C%2038.87120600000003%5D%2C%20%5B-121.154523%2C%2038.87151499999999%5D%2C%20%5B-121.15387900000002%2C%2038.87170699999999%5D%2C%20%5B-121.152881%2C%2038.87168199999999%5D%2C%20%5B-121.15172300000002%2C%2038.87159000000001%5D%2C%20%5B-121.15120799999998%2C%2038.87165699999996%5D%2C%20%5B-121.15055299999999%2C%2038.871899%5D%2C%20%5B-121.144384%2C%2038.874967999999996%5D%2C%20%5B-121.14212%2C%2038.87609599999994%5D%2C%20%5B-121.14112800000001%2C%2038.87642499999999%5D%2C%20%5B-121.14007699999999%2C%2038.876630999999996%5D%2C%20%5B-121.138821%2C%2038.87663900000001%5D%2C%20%5B-121.13270000000001%2C%2038.87584999999998%5D%2C%20%5B-121.131434%2C%2038.875716000000004%5D%2C%20%5B-121.12986800000002%2C%2038.87568300000001%5D%2C%20%5B-121.124418%2C%2038.87608399999996%5D%2C%20%5B-121.118839%2C%2038.87620000000002%5D%2C%20%5B-121.11334599999999%2C%2038.876600999999994%5D%2C%20%5B-121.111264%2C%2038.87688500000002%5D%2C%20%5B-121.10899%2C%2038.87736999999999%5D%2C%20%5B-121.10682200000001%2C%2038.878171999999985%5D%2C%20%5B-121.104634%2C%2038.87940799999999%5D%2C%20%5B-121.09989200000001%2C%2038.882197%5D%2C%20%5B-121.097639%2C%2038.88279899999998%5D%2C%20%5B-121.09484899999998%2C%2038.88303200000003%5D%2C%20%5B-121.09143700000001%2C%2038.883399999999966%5D%2C%20%5B-121.08952800000002%2C%2038.88425199999999%5D%2C%20%5B-121.087554%2C%2038.88563799999998%5D%2C%20%5B-121.08600899999999%2C%2038.886823999999976%5D%2C%20%5B-121.08459200000001%2C%2038.88889499999998%5D%2C%20%5B-121.08214599999998%2C%2038.892802999999994%5D%2C%20%5B-121.08103%2C%2038.89453999999997%5D%2C%20%5B-121.080687%2C%2038.89542900000004%5D%2C%20%5B-121.080537%2C%2038.896093000000015%5D%2C%20%5B-121.08072499999999%2C%2038.897265999999995%5D%2C%20%5B-121.08098699999998%2C%2038.89813099999999%5D%2C%20%5B-121.08341200000001%2C%2038.903608000000006%5D%2C%20%5B-121.082922%2C%2038.90383099999997%5D%5D%2C%20%22type%22%3A%20%22LineString%22%7D%2C%20%22id%22%3A%20%2263%22%2C%20%22properties%22%3A%20%7B%22Organization%22%3A%20%22Capitol%20Corridor%20Joint%20Powers%20Authority%22%2C%20%22Organization%20ID%22%3A%20%22recvEBkSBc7UxlarC%22%2C%20%22Route%22%3A%20%22CC%20Capitol%20Corridor%22%2C%20%22Route%20ID%22%3A%20%22CC%22%2C%20%22Service%20Miles%22%3A%20168.75%2C%20%22Service%20meters%22%3A%20271579.05230024183%2C%20%22Transit%20Operator%22%3A%20%22Bay%20Area%20511%20Capitol%20Corridor%20Schedule%22%2C%20%22__folium_color%22%3A%20%22%239e0142%22%2C%20%22dir_0_1%22%3A%200.0%2C%20%22feed_key%22%3A%20%220b78427182751df11384b5b4f2399493%22%2C%20%22is_coverage%22%3A%20null%2C%20%22is_downtown_local%22%3A%20null%2C%20%22is_express%22%3A%20null%2C%20%22is_local%22%3A%20null%2C%20%22is_rail%22%3A%20null%2C%20%22is_rapid%22%3A%20null%2C%20%22route_key%22%3A%20%22cdf16038d7c3eb3286ff7d65a926e5fa%22%2C%20%22route_long_name%22%3A%20%22Capitol%20Corridor%22%2C%20%22route_short_name%22%3A%20%22CC%22%2C%20%22schedule_gtfs_dataset_key%22%3A%20%22f5a749dd65924e025b1293c58f95f8d6%22%2C%20%22shape_array_key%22%3A%20%2249d4f8aab5f4810b633fb31b45a1f832%22%7D%2C%20%22type%22%3A%20%22Feature%22%7D%5D%2C%20%22type%22%3A%20%22FeatureCollection%22%7D%29%3B%0A%0A%20%20%20%20%20%20%20%20%0A%20%20%20%20%0A%20%20%20%20geo_json_f6c6bf78d8d84e929efc5a10eee38d57.bindTooltip%28%0A%20%20%20%20function%28layer%29%7B%0A%20%20%20%20let%20div%20%3D%20L.DomUtil.create%28%27div%27%29%3B%0A%20%20%20%20%0A%20%20%20%20let%20handleObject%20%3D%20feature%3D%3Etypeof%28feature%29%3D%3D%27object%27%20%3F%20JSON.stringify%28feature%29%20%3A%20feature%3B%0A%20%20%20%20let%20fields%20%3D%20%5B%22Route%22%2C%20%22Service%20Miles%22%5D%3B%0A%20%20%20%20let%20aliases%20%3D%20%5B%22Route%22%2C%20%22Service%20Miles%22%5D%3B%0A%20%20%20%20let%20table%20%3D%20%27%3Ctable%3E%27%20%2B%0A%20%20%20%20%20%20%20%20String%28%0A%20%20%20%20%20%20%20%20fields.map%28%0A%20%20%20%20%20%20%20%20%28v%2Ci%29%3D%3E%0A%20%20%20%20%20%20%20%20%60%3Ctr%3E%0A%20%20%20%20%20%20%20%20%20%20%20%20%3Cth%3E%24%7Baliases%5Bi%5D%7D%3C/th%3E%0A%20%20%20%20%20%20%20%20%20%20%20%20%0A%20%20%20%20%20%20%20%20%20%20%20%20%3Ctd%3E%24%7BhandleObject%28layer.feature.properties%5Bv%5D%29%7D%3C/td%3E%0A%20%20%20%20%20%20%20%20%3C/tr%3E%60%29.join%28%27%27%29%29%0A%20%20%20%20%2B%27%3C/table%3E%27%3B%0A%20%20%20%20div.innerHTML%3Dtable%3B%0A%20%20%20%20%0A%20%20%20%20return%20div%0A%20%20%20%20%7D%0A%20%20%20%20%2C%7B%22className%22%3A%20%22foliumtooltip%22%2C%20%22sticky%22%3A%20true%7D%29%3B%0A%20%20%20%20%20%20%20%20%20%20%20%20%20%20%20%20%20%20%20%20%20%0A%3C/script%3E onload=\"this.contentDocument.open();this.contentDocument.write(    decodeURIComponent(this.getAttribute('data-html')));this.contentDocument.close();\" allowfullscreen webkitallowfullscreen mozallowfullscreen></iframe></div></div>"
      ],
      "text/plain": [
       "<folium.folium.Map at 0x7fe09cb99370>"
      ]
     },
     "metadata": {},
     "output_type": "display_data"
    }
   ],
   "source": [
    "try:\n",
    "    display(\n",
    "        operator_route_map.explore(\n",
    "            \"Route\",\n",
    "            cmap=\"Spectral\",\n",
    "            tiles=\"CartoDB positron\",\n",
    "            width=500,\n",
    "            height=300,\n",
    "            style_kwds={\"weight\": 3},\n",
    "            legend=False,\n",
    "            tooltip=[\"Route\", \"Service Miles\"],\n",
    "        )\n",
    "    )\n",
    "except:\n",
    "    display(Markdown(f\"\"\"{organization_name} doesn't have an route geographies.\"\"\"))"
   ]
  },
  {
   "cell_type": "markdown",
   "id": "801f9128-b08f-4ee6-942d-a4f64cbdfa32",
   "metadata": {},
   "source": [
    "### Service Hours "
   ]
  },
  {
   "cell_type": "code",
   "execution_count": 22,
   "id": "fefc07f3-7c31-48d1-ad7c-dbf3c42796d3",
   "metadata": {},
   "outputs": [
    {
     "data": {
      "text/html": [
       "\n",
       "<style>\n",
       "  #altair-viz-084c2faea995415caf56c5275dbd8964.vega-embed {\n",
       "    width: 100%;\n",
       "    display: flex;\n",
       "  }\n",
       "\n",
       "  #altair-viz-084c2faea995415caf56c5275dbd8964.vega-embed details,\n",
       "  #altair-viz-084c2faea995415caf56c5275dbd8964.vega-embed details summary {\n",
       "    position: relative;\n",
       "  }\n",
       "</style>\n",
       "<div id=\"altair-viz-084c2faea995415caf56c5275dbd8964\"></div>\n",
       "<script type=\"text/javascript\">\n",
       "  var VEGA_DEBUG = (typeof VEGA_DEBUG == \"undefined\") ? {} : VEGA_DEBUG;\n",
       "  (function(spec, embedOpt){\n",
       "    let outputDiv = document.currentScript.previousElementSibling;\n",
       "    if (outputDiv.id !== \"altair-viz-084c2faea995415caf56c5275dbd8964\") {\n",
       "      outputDiv = document.getElementById(\"altair-viz-084c2faea995415caf56c5275dbd8964\");\n",
       "    }\n",
       "    const paths = {\n",
       "      \"vega\": \"https://cdn.jsdelivr.net/npm/vega@5?noext\",\n",
       "      \"vega-lib\": \"https://cdn.jsdelivr.net/npm/vega-lib?noext\",\n",
       "      \"vega-lite\": \"https://cdn.jsdelivr.net/npm/vega-lite@5.17.0?noext\",\n",
       "      \"vega-embed\": \"https://cdn.jsdelivr.net/npm/vega-embed@6?noext\",\n",
       "    };\n",
       "\n",
       "    function maybeLoadScript(lib, version) {\n",
       "      var key = `${lib.replace(\"-\", \"\")}_version`;\n",
       "      return (VEGA_DEBUG[key] == version) ?\n",
       "        Promise.resolve(paths[lib]) :\n",
       "        new Promise(function(resolve, reject) {\n",
       "          var s = document.createElement('script');\n",
       "          document.getElementsByTagName(\"head\")[0].appendChild(s);\n",
       "          s.async = true;\n",
       "          s.onload = () => {\n",
       "            VEGA_DEBUG[key] = version;\n",
       "            return resolve(paths[lib]);\n",
       "          };\n",
       "          s.onerror = () => reject(`Error loading script: ${paths[lib]}`);\n",
       "          s.src = paths[lib];\n",
       "        });\n",
       "    }\n",
       "\n",
       "    function showError(err) {\n",
       "      outputDiv.innerHTML = `<div class=\"error\" style=\"color:red;\">${err}</div>`;\n",
       "      throw err;\n",
       "    }\n",
       "\n",
       "    function displayChart(vegaEmbed) {\n",
       "      vegaEmbed(outputDiv, spec, embedOpt)\n",
       "        .catch(err => showError(`Javascript Error: ${err.message}<br>This usually means there's a typo in your chart specification. See the javascript console for the full traceback.`));\n",
       "    }\n",
       "\n",
       "    if(typeof define === \"function\" && define.amd) {\n",
       "      requirejs.config({paths});\n",
       "      require([\"vega-embed\"], displayChart, err => showError(`Error loading script: ${err.message}`));\n",
       "    } else {\n",
       "      maybeLoadScript(\"vega\", \"5\")\n",
       "        .then(() => maybeLoadScript(\"vega-lite\", \"5.17.0\"))\n",
       "        .then(() => maybeLoadScript(\"vega-embed\", \"6\"))\n",
       "        .catch(showError)\n",
       "        .then(() => displayChart(vegaEmbed));\n",
       "    }\n",
       "  })({\"config\": {\"view\": {\"continuousWidth\": 300, \"continuousHeight\": 300}}, \"layer\": [{\"data\": {\"name\": \"data-e8ff9052b6b543ebf38c8d25169fa8df\"}, \"mark\": {\"type\": \"line\", \"size\": 3}, \"encoding\": {\"color\": {\"field\": \"Month\", \"scale\": {\"range\": [\"#5b8efd\", \"#765fec\", \"#fcb40e\", \"#fc5c04\", \"#dd217d\", \"#ccbb44\"]}, \"type\": \"nominal\"}, \"opacity\": {\"condition\": {\"param\": \"param_1\", \"value\": 1}, \"value\": 0.2}, \"tooltip\": [{\"field\": \"Weekend or Weekday\", \"type\": \"nominal\"}, {\"field\": \"Month\", \"type\": \"nominal\"}, {\"field\": \"Departure Hour\", \"type\": \"quantitative\"}, {\"field\": \"Weekday Service Hours\", \"type\": \"quantitative\"}], \"x\": {\"field\": \"Departure Hour\", \"title\": \"Departure Hour In Military Time\", \"type\": \"quantitative\"}, \"y\": {\"field\": \"Weekday Service Hours\", \"title\": \"Weekday Service Hours\", \"type\": \"quantitative\"}}, \"name\": \"view_1\", \"title\": {\"text\": \"Daily Scheduled Service Hours for Weekday\", \"subtitle\": \"Use the legend to highlight a particular month and hover over the line for additional information.\"}}, {\"data\": {\"name\": \"data-61fdb03b01e6f6ac9797744d36eb9ca4\"}, \"mark\": {\"type\": \"rect\", \"opacity\": 0.15}, \"encoding\": {\"color\": {\"field\": \"time_period\", \"scale\": {\"range\": [\"#5b8efd\", \"#765fec\", \"#fcb40e\", \"#fc5c04\", \"#dd217d\", \"#ccbb44\"]}, \"sort\": [\"Owl:12-3:59AM\", \"Early AM:4-6:59AM\", \"AM Peak:7-9:59AM\", \"Midday:10AM-2:59PM\", \"PM Peak:3-7:59PM\", \"Evening:8-11:59PM\"], \"title\": \"Time Period\", \"type\": \"nominal\"}, \"x\": {\"field\": \"start\", \"type\": \"quantitative\"}, \"x2\": {\"field\": \"stop\"}, \"y\": {\"value\": 0}, \"y2\": {\"value\": 250}}}], \"height\": 250, \"params\": [{\"name\": \"param_1\", \"select\": {\"type\": \"point\", \"fields\": [\"Month\"]}, \"bind\": \"legend\", \"views\": [\"view_1\"]}], \"resolve\": {\"scale\": {\"color\": \"independent\"}}, \"width\": 400, \"$schema\": \"https://vega.github.io/schema/vega-lite/v5.17.0.json\", \"datasets\": {\"data-e8ff9052b6b543ebf38c8d25169fa8df\": [{\"Transit Operator\": \"Bay Area 511 Capitol Corridor Schedule\", \"Month\": \"2024-10\", \"Weekend or Weekday\": \"Weekday\", \"Departure Hour\": 4, \"Weekend Service Hours\": 22.5, \"Weekday Service Hours\": 4.5}, {\"Transit Operator\": \"Bay Area 511 Capitol Corridor Schedule\", \"Month\": \"2024-10\", \"Weekend or Weekday\": \"Weekday\", \"Departure Hour\": 5, \"Weekend Service Hours\": 37.2, \"Weekday Service Hours\": 7.44}, {\"Transit Operator\": \"Bay Area 511 Capitol Corridor Schedule\", \"Month\": \"2024-10\", \"Weekend or Weekday\": \"Weekday\", \"Departure Hour\": 6, \"Weekend Service Hours\": 80.8, \"Weekday Service Hours\": 16.16}, {\"Transit Operator\": \"Bay Area 511 Capitol Corridor Schedule\", \"Month\": \"2024-10\", \"Weekend or Weekday\": \"Weekday\", \"Departure Hour\": 7, \"Weekend Service Hours\": 4.0, \"Weekday Service Hours\": 0.8}, {\"Transit Operator\": \"Bay Area 511 Capitol Corridor Schedule\", \"Month\": \"2024-10\", \"Weekend or Weekday\": \"Weekday\", \"Departure Hour\": 8, \"Weekend Service Hours\": 33.3, \"Weekday Service Hours\": 6.66}, {\"Transit Operator\": \"Bay Area 511 Capitol Corridor Schedule\", \"Month\": \"2024-10\", \"Weekend or Weekday\": \"Weekday\", \"Departure Hour\": 9, \"Weekend Service Hours\": 17.5, \"Weekday Service Hours\": 3.5}, {\"Transit Operator\": \"Bay Area 511 Capitol Corridor Schedule\", \"Month\": \"2024-10\", \"Weekend or Weekday\": \"Weekday\", \"Departure Hour\": 10, \"Weekend Service Hours\": 10.0, \"Weekday Service Hours\": 2.0}, {\"Transit Operator\": \"Bay Area 511 Capitol Corridor Schedule\", \"Month\": \"2024-10\", \"Weekend or Weekday\": \"Weekday\", \"Departure Hour\": 11, \"Weekend Service Hours\": 41.1, \"Weekday Service Hours\": 8.22}, {\"Transit Operator\": \"Bay Area 511 Capitol Corridor Schedule\", \"Month\": \"2024-10\", \"Weekend or Weekday\": \"Weekday\", \"Departure Hour\": 13, \"Weekend Service Hours\": 17.7, \"Weekday Service Hours\": 3.54}, {\"Transit Operator\": \"Bay Area 511 Capitol Corridor Schedule\", \"Month\": \"2024-10\", \"Weekend or Weekday\": \"Weekday\", \"Departure Hour\": 14, \"Weekend Service Hours\": 23.3, \"Weekday Service Hours\": 4.66}, {\"Transit Operator\": \"Bay Area 511 Capitol Corridor Schedule\", \"Month\": \"2024-10\", \"Weekend or Weekday\": \"Weekday\", \"Departure Hour\": 15, \"Weekend Service Hours\": 55.2, \"Weekday Service Hours\": 11.04}, {\"Transit Operator\": \"Bay Area 511 Capitol Corridor Schedule\", \"Month\": \"2024-10\", \"Weekend or Weekday\": \"Weekday\", \"Departure Hour\": 16, \"Weekend Service Hours\": 53.9, \"Weekday Service Hours\": 10.78}, {\"Transit Operator\": \"Bay Area 511 Capitol Corridor Schedule\", \"Month\": \"2024-10\", \"Weekend or Weekday\": \"Weekday\", \"Departure Hour\": 17, \"Weekend Service Hours\": 44.7, \"Weekday Service Hours\": 8.94}, {\"Transit Operator\": \"Bay Area 511 Capitol Corridor Schedule\", \"Month\": \"2024-10\", \"Weekend or Weekday\": \"Weekday\", \"Departure Hour\": 18, \"Weekend Service Hours\": 37.0, \"Weekday Service Hours\": 7.4}, {\"Transit Operator\": \"Bay Area 511 Capitol Corridor Schedule\", \"Month\": \"2024-10\", \"Weekend or Weekday\": \"Weekday\", \"Departure Hour\": 19, \"Weekend Service Hours\": 24.2, \"Weekday Service Hours\": 4.84}, {\"Transit Operator\": \"Bay Area 511 Capitol Corridor Schedule\", \"Month\": \"2024-10\", \"Weekend or Weekday\": \"Weekday\", \"Departure Hour\": 20, \"Weekend Service Hours\": 12.6, \"Weekday Service Hours\": 2.52}, {\"Transit Operator\": \"Bay Area 511 Capitol Corridor Schedule\", \"Month\": \"2024-10\", \"Weekend or Weekday\": \"Weekday\", \"Departure Hour\": 21, \"Weekend Service Hours\": 8.5, \"Weekday Service Hours\": 1.7}, {\"Transit Operator\": \"Bay Area 511 Capitol Corridor Schedule\", \"Month\": \"2024-04\", \"Weekend or Weekday\": \"Weekday\", \"Departure Hour\": 4, \"Weekend Service Hours\": 18.75, \"Weekday Service Hours\": 3.75}, {\"Transit Operator\": \"Bay Area 511 Capitol Corridor Schedule\", \"Month\": \"2024-04\", \"Weekend or Weekday\": \"Weekday\", \"Departure Hour\": 5, \"Weekend Service Hours\": 31.0, \"Weekday Service Hours\": 6.2}, {\"Transit Operator\": \"Bay Area 511 Capitol Corridor Schedule\", \"Month\": \"2024-04\", \"Weekend or Weekday\": \"Weekday\", \"Departure Hour\": 6, \"Weekend Service Hours\": 67.33, \"Weekday Service Hours\": 13.47}, {\"Transit Operator\": \"Bay Area 511 Capitol Corridor Schedule\", \"Month\": \"2024-04\", \"Weekend or Weekday\": \"Weekday\", \"Departure Hour\": 7, \"Weekend Service Hours\": 3.33, \"Weekday Service Hours\": 0.67}, {\"Transit Operator\": \"Bay Area 511 Capitol Corridor Schedule\", \"Month\": \"2024-04\", \"Weekend or Weekday\": \"Weekday\", \"Departure Hour\": 8, \"Weekend Service Hours\": 27.75, \"Weekday Service Hours\": 5.55}, {\"Transit Operator\": \"Bay Area 511 Capitol Corridor Schedule\", \"Month\": \"2024-04\", \"Weekend or Weekday\": \"Weekday\", \"Departure Hour\": 9, \"Weekend Service Hours\": 14.58, \"Weekday Service Hours\": 2.92}, {\"Transit Operator\": \"Bay Area 511 Capitol Corridor Schedule\", \"Month\": \"2024-04\", \"Weekend or Weekday\": \"Weekday\", \"Departure Hour\": 10, \"Weekend Service Hours\": 8.33, \"Weekday Service Hours\": 1.67}, {\"Transit Operator\": \"Bay Area 511 Capitol Corridor Schedule\", \"Month\": \"2024-04\", \"Weekend or Weekday\": \"Weekday\", \"Departure Hour\": 11, \"Weekend Service Hours\": 34.25, \"Weekday Service Hours\": 6.85}, {\"Transit Operator\": \"Bay Area 511 Capitol Corridor Schedule\", \"Month\": \"2024-04\", \"Weekend or Weekday\": \"Weekday\", \"Departure Hour\": 13, \"Weekend Service Hours\": 14.75, \"Weekday Service Hours\": 2.95}, {\"Transit Operator\": \"Bay Area 511 Capitol Corridor Schedule\", \"Month\": \"2024-04\", \"Weekend or Weekday\": \"Weekday\", \"Departure Hour\": 14, \"Weekend Service Hours\": 19.42, \"Weekday Service Hours\": 3.88}, {\"Transit Operator\": \"Bay Area 511 Capitol Corridor Schedule\", \"Month\": \"2024-04\", \"Weekend or Weekday\": \"Weekday\", \"Departure Hour\": 15, \"Weekend Service Hours\": 46.0, \"Weekday Service Hours\": 9.2}, {\"Transit Operator\": \"Bay Area 511 Capitol Corridor Schedule\", \"Month\": \"2024-04\", \"Weekend or Weekday\": \"Weekday\", \"Departure Hour\": 16, \"Weekend Service Hours\": 44.92, \"Weekday Service Hours\": 8.98}, {\"Transit Operator\": \"Bay Area 511 Capitol Corridor Schedule\", \"Month\": \"2024-04\", \"Weekend or Weekday\": \"Weekday\", \"Departure Hour\": 17, \"Weekend Service Hours\": 37.25, \"Weekday Service Hours\": 7.45}, {\"Transit Operator\": \"Bay Area 511 Capitol Corridor Schedule\", \"Month\": \"2024-04\", \"Weekend or Weekday\": \"Weekday\", \"Departure Hour\": 18, \"Weekend Service Hours\": 30.83, \"Weekday Service Hours\": 6.17}, {\"Transit Operator\": \"Bay Area 511 Capitol Corridor Schedule\", \"Month\": \"2024-04\", \"Weekend or Weekday\": \"Weekday\", \"Departure Hour\": 19, \"Weekend Service Hours\": 20.17, \"Weekday Service Hours\": 4.03}, {\"Transit Operator\": \"Bay Area 511 Capitol Corridor Schedule\", \"Month\": \"2024-04\", \"Weekend or Weekday\": \"Weekday\", \"Departure Hour\": 20, \"Weekend Service Hours\": 10.5, \"Weekday Service Hours\": 2.1}, {\"Transit Operator\": \"Bay Area 511 Capitol Corridor Schedule\", \"Month\": \"2024-04\", \"Weekend or Weekday\": \"Weekday\", \"Departure Hour\": 21, \"Weekend Service Hours\": 7.08, \"Weekday Service Hours\": 1.42}, {\"Transit Operator\": \"Bay Area 511 Capitol Corridor Schedule\", \"Month\": \"2023-10\", \"Weekend or Weekday\": \"Weekday\", \"Departure Hour\": 4, \"Weekend Service Hours\": 18.75, \"Weekday Service Hours\": 3.75}, {\"Transit Operator\": \"Bay Area 511 Capitol Corridor Schedule\", \"Month\": \"2023-10\", \"Weekend or Weekday\": \"Weekday\", \"Departure Hour\": 5, \"Weekend Service Hours\": 31.0, \"Weekday Service Hours\": 6.2}, {\"Transit Operator\": \"Bay Area 511 Capitol Corridor Schedule\", \"Month\": \"2023-10\", \"Weekend or Weekday\": \"Weekday\", \"Departure Hour\": 6, \"Weekend Service Hours\": 67.33, \"Weekday Service Hours\": 13.47}, {\"Transit Operator\": \"Bay Area 511 Capitol Corridor Schedule\", \"Month\": \"2023-10\", \"Weekend or Weekday\": \"Weekday\", \"Departure Hour\": 7, \"Weekend Service Hours\": 3.33, \"Weekday Service Hours\": 0.67}, {\"Transit Operator\": \"Bay Area 511 Capitol Corridor Schedule\", \"Month\": \"2023-10\", \"Weekend or Weekday\": \"Weekday\", \"Departure Hour\": 8, \"Weekend Service Hours\": 27.75, \"Weekday Service Hours\": 5.55}, {\"Transit Operator\": \"Bay Area 511 Capitol Corridor Schedule\", \"Month\": \"2023-10\", \"Weekend or Weekday\": \"Weekday\", \"Departure Hour\": 9, \"Weekend Service Hours\": 14.58, \"Weekday Service Hours\": 2.92}, {\"Transit Operator\": \"Bay Area 511 Capitol Corridor Schedule\", \"Month\": \"2023-10\", \"Weekend or Weekday\": \"Weekday\", \"Departure Hour\": 10, \"Weekend Service Hours\": 8.33, \"Weekday Service Hours\": 1.67}, {\"Transit Operator\": \"Bay Area 511 Capitol Corridor Schedule\", \"Month\": \"2023-10\", \"Weekend or Weekday\": \"Weekday\", \"Departure Hour\": 11, \"Weekend Service Hours\": 34.25, \"Weekday Service Hours\": 6.85}, {\"Transit Operator\": \"Bay Area 511 Capitol Corridor Schedule\", \"Month\": \"2023-10\", \"Weekend or Weekday\": \"Weekday\", \"Departure Hour\": 13, \"Weekend Service Hours\": 14.75, \"Weekday Service Hours\": 2.95}, {\"Transit Operator\": \"Bay Area 511 Capitol Corridor Schedule\", \"Month\": \"2023-10\", \"Weekend or Weekday\": \"Weekday\", \"Departure Hour\": 14, \"Weekend Service Hours\": 19.42, \"Weekday Service Hours\": 3.88}, {\"Transit Operator\": \"Bay Area 511 Capitol Corridor Schedule\", \"Month\": \"2023-10\", \"Weekend or Weekday\": \"Weekday\", \"Departure Hour\": 15, \"Weekend Service Hours\": 46.0, \"Weekday Service Hours\": 9.2}, {\"Transit Operator\": \"Bay Area 511 Capitol Corridor Schedule\", \"Month\": \"2023-10\", \"Weekend or Weekday\": \"Weekday\", \"Departure Hour\": 16, \"Weekend Service Hours\": 44.92, \"Weekday Service Hours\": 8.98}, {\"Transit Operator\": \"Bay Area 511 Capitol Corridor Schedule\", \"Month\": \"2023-10\", \"Weekend or Weekday\": \"Weekday\", \"Departure Hour\": 17, \"Weekend Service Hours\": 37.25, \"Weekday Service Hours\": 7.45}, {\"Transit Operator\": \"Bay Area 511 Capitol Corridor Schedule\", \"Month\": \"2023-10\", \"Weekend or Weekday\": \"Weekday\", \"Departure Hour\": 18, \"Weekend Service Hours\": 30.83, \"Weekday Service Hours\": 6.17}, {\"Transit Operator\": \"Bay Area 511 Capitol Corridor Schedule\", \"Month\": \"2023-10\", \"Weekend or Weekday\": \"Weekday\", \"Departure Hour\": 19, \"Weekend Service Hours\": 20.17, \"Weekday Service Hours\": 4.03}, {\"Transit Operator\": \"Bay Area 511 Capitol Corridor Schedule\", \"Month\": \"2023-10\", \"Weekend or Weekday\": \"Weekday\", \"Departure Hour\": 20, \"Weekend Service Hours\": 10.5, \"Weekday Service Hours\": 2.1}, {\"Transit Operator\": \"Bay Area 511 Capitol Corridor Schedule\", \"Month\": \"2023-10\", \"Weekend or Weekday\": \"Weekday\", \"Departure Hour\": 21, \"Weekend Service Hours\": 7.08, \"Weekday Service Hours\": 1.42}, {\"Transit Operator\": \"Bay Area 511 Capitol Corridor Schedule\", \"Month\": \"2023-04\", \"Weekend or Weekday\": \"Weekday\", \"Departure Hour\": 4, \"Weekend Service Hours\": 18.75, \"Weekday Service Hours\": 3.75}, {\"Transit Operator\": \"Bay Area 511 Capitol Corridor Schedule\", \"Month\": \"2023-04\", \"Weekend or Weekday\": \"Weekday\", \"Departure Hour\": 5, \"Weekend Service Hours\": 31.0, \"Weekday Service Hours\": 6.2}, {\"Transit Operator\": \"Bay Area 511 Capitol Corridor Schedule\", \"Month\": \"2023-04\", \"Weekend or Weekday\": \"Weekday\", \"Departure Hour\": 6, \"Weekend Service Hours\": 67.33, \"Weekday Service Hours\": 13.47}, {\"Transit Operator\": \"Bay Area 511 Capitol Corridor Schedule\", \"Month\": \"2023-04\", \"Weekend or Weekday\": \"Weekday\", \"Departure Hour\": 7, \"Weekend Service Hours\": 3.33, \"Weekday Service Hours\": 0.67}, {\"Transit Operator\": \"Bay Area 511 Capitol Corridor Schedule\", \"Month\": \"2023-04\", \"Weekend or Weekday\": \"Weekday\", \"Departure Hour\": 8, \"Weekend Service Hours\": 27.75, \"Weekday Service Hours\": 5.55}, {\"Transit Operator\": \"Bay Area 511 Capitol Corridor Schedule\", \"Month\": \"2023-04\", \"Weekend or Weekday\": \"Weekday\", \"Departure Hour\": 9, \"Weekend Service Hours\": 14.58, \"Weekday Service Hours\": 2.92}, {\"Transit Operator\": \"Bay Area 511 Capitol Corridor Schedule\", \"Month\": \"2023-04\", \"Weekend or Weekday\": \"Weekday\", \"Departure Hour\": 10, \"Weekend Service Hours\": 8.33, \"Weekday Service Hours\": 1.67}, {\"Transit Operator\": \"Bay Area 511 Capitol Corridor Schedule\", \"Month\": \"2023-04\", \"Weekend or Weekday\": \"Weekday\", \"Departure Hour\": 11, \"Weekend Service Hours\": 34.25, \"Weekday Service Hours\": 6.85}, {\"Transit Operator\": \"Bay Area 511 Capitol Corridor Schedule\", \"Month\": \"2023-04\", \"Weekend or Weekday\": \"Weekday\", \"Departure Hour\": 13, \"Weekend Service Hours\": 14.75, \"Weekday Service Hours\": 2.95}, {\"Transit Operator\": \"Bay Area 511 Capitol Corridor Schedule\", \"Month\": \"2023-04\", \"Weekend or Weekday\": \"Weekday\", \"Departure Hour\": 14, \"Weekend Service Hours\": 19.42, \"Weekday Service Hours\": 3.88}, {\"Transit Operator\": \"Bay Area 511 Capitol Corridor Schedule\", \"Month\": \"2023-04\", \"Weekend or Weekday\": \"Weekday\", \"Departure Hour\": 15, \"Weekend Service Hours\": 46.0, \"Weekday Service Hours\": 9.2}, {\"Transit Operator\": \"Bay Area 511 Capitol Corridor Schedule\", \"Month\": \"2023-04\", \"Weekend or Weekday\": \"Weekday\", \"Departure Hour\": 16, \"Weekend Service Hours\": 44.92, \"Weekday Service Hours\": 8.98}, {\"Transit Operator\": \"Bay Area 511 Capitol Corridor Schedule\", \"Month\": \"2023-04\", \"Weekend or Weekday\": \"Weekday\", \"Departure Hour\": 17, \"Weekend Service Hours\": 37.25, \"Weekday Service Hours\": 7.45}, {\"Transit Operator\": \"Bay Area 511 Capitol Corridor Schedule\", \"Month\": \"2023-04\", \"Weekend or Weekday\": \"Weekday\", \"Departure Hour\": 18, \"Weekend Service Hours\": 30.83, \"Weekday Service Hours\": 6.17}, {\"Transit Operator\": \"Bay Area 511 Capitol Corridor Schedule\", \"Month\": \"2023-04\", \"Weekend or Weekday\": \"Weekday\", \"Departure Hour\": 19, \"Weekend Service Hours\": 20.17, \"Weekday Service Hours\": 4.03}, {\"Transit Operator\": \"Bay Area 511 Capitol Corridor Schedule\", \"Month\": \"2023-04\", \"Weekend or Weekday\": \"Weekday\", \"Departure Hour\": 20, \"Weekend Service Hours\": 10.5, \"Weekday Service Hours\": 2.1}, {\"Transit Operator\": \"Bay Area 511 Capitol Corridor Schedule\", \"Month\": \"2023-04\", \"Weekend or Weekday\": \"Weekday\", \"Departure Hour\": 21, \"Weekend Service Hours\": 7.08, \"Weekday Service Hours\": 1.42}], \"data-61fdb03b01e6f6ac9797744d36eb9ca4\": [{\"index\": 0, \"start\": 0, \"stop\": 3.99, \"time_period\": \"Owl:12-3:59AM\"}, {\"index\": 1, \"start\": 4, \"stop\": 6.99, \"time_period\": \"Early AM:4-6:59AM\"}, {\"index\": 2, \"start\": 7, \"stop\": 9.99, \"time_period\": \"AM Peak:7-9:59AM\"}, {\"index\": 3, \"start\": 10, \"stop\": 14.99, \"time_period\": \"Midday:10AM-2:59PM\"}, {\"index\": 4, \"start\": 15, \"stop\": 18.99, \"time_period\": \"PM Peak:3-7:59PM\"}, {\"index\": 5, \"start\": 19, \"stop\": 24.0, \"time_period\": \"Evening:8-11:59PM\"}]}}, {\"mode\": \"vega-lite\"});\n",
       "</script>"
      ],
      "text/plain": [
       "alt.LayerChart(...)"
      ]
     },
     "metadata": {},
     "output_type": "display_data"
    }
   ],
   "source": [
    "try:\n",
    "    display(\n",
    "        section1.create_service_hour_chart(\n",
    "            scheduled_service,\n",
    "            \"Weekday\",\n",
    "            \"Weekday Service Hours\",\n",
    "            readable_dict[\"daily_scheduled_hour\"][\"subtitle\"],\n",
    "        )\n",
    "    )\n",
    "except:\n",
    "    pass"
   ]
  },
  {
   "cell_type": "code",
   "execution_count": 23,
   "id": "83390604-62b8-4a05-b435-dec8748e45dd",
   "metadata": {},
   "outputs": [
    {
     "data": {
      "text/html": [
       "\n",
       "<style>\n",
       "  #altair-viz-7244e84de838436d8db4a187ff46e2d5.vega-embed {\n",
       "    width: 100%;\n",
       "    display: flex;\n",
       "  }\n",
       "\n",
       "  #altair-viz-7244e84de838436d8db4a187ff46e2d5.vega-embed details,\n",
       "  #altair-viz-7244e84de838436d8db4a187ff46e2d5.vega-embed details summary {\n",
       "    position: relative;\n",
       "  }\n",
       "</style>\n",
       "<div id=\"altair-viz-7244e84de838436d8db4a187ff46e2d5\"></div>\n",
       "<script type=\"text/javascript\">\n",
       "  var VEGA_DEBUG = (typeof VEGA_DEBUG == \"undefined\") ? {} : VEGA_DEBUG;\n",
       "  (function(spec, embedOpt){\n",
       "    let outputDiv = document.currentScript.previousElementSibling;\n",
       "    if (outputDiv.id !== \"altair-viz-7244e84de838436d8db4a187ff46e2d5\") {\n",
       "      outputDiv = document.getElementById(\"altair-viz-7244e84de838436d8db4a187ff46e2d5\");\n",
       "    }\n",
       "    const paths = {\n",
       "      \"vega\": \"https://cdn.jsdelivr.net/npm/vega@5?noext\",\n",
       "      \"vega-lib\": \"https://cdn.jsdelivr.net/npm/vega-lib?noext\",\n",
       "      \"vega-lite\": \"https://cdn.jsdelivr.net/npm/vega-lite@5.17.0?noext\",\n",
       "      \"vega-embed\": \"https://cdn.jsdelivr.net/npm/vega-embed@6?noext\",\n",
       "    };\n",
       "\n",
       "    function maybeLoadScript(lib, version) {\n",
       "      var key = `${lib.replace(\"-\", \"\")}_version`;\n",
       "      return (VEGA_DEBUG[key] == version) ?\n",
       "        Promise.resolve(paths[lib]) :\n",
       "        new Promise(function(resolve, reject) {\n",
       "          var s = document.createElement('script');\n",
       "          document.getElementsByTagName(\"head\")[0].appendChild(s);\n",
       "          s.async = true;\n",
       "          s.onload = () => {\n",
       "            VEGA_DEBUG[key] = version;\n",
       "            return resolve(paths[lib]);\n",
       "          };\n",
       "          s.onerror = () => reject(`Error loading script: ${paths[lib]}`);\n",
       "          s.src = paths[lib];\n",
       "        });\n",
       "    }\n",
       "\n",
       "    function showError(err) {\n",
       "      outputDiv.innerHTML = `<div class=\"error\" style=\"color:red;\">${err}</div>`;\n",
       "      throw err;\n",
       "    }\n",
       "\n",
       "    function displayChart(vegaEmbed) {\n",
       "      vegaEmbed(outputDiv, spec, embedOpt)\n",
       "        .catch(err => showError(`Javascript Error: ${err.message}<br>This usually means there's a typo in your chart specification. See the javascript console for the full traceback.`));\n",
       "    }\n",
       "\n",
       "    if(typeof define === \"function\" && define.amd) {\n",
       "      requirejs.config({paths});\n",
       "      require([\"vega-embed\"], displayChart, err => showError(`Error loading script: ${err.message}`));\n",
       "    } else {\n",
       "      maybeLoadScript(\"vega\", \"5\")\n",
       "        .then(() => maybeLoadScript(\"vega-lite\", \"5.17.0\"))\n",
       "        .then(() => maybeLoadScript(\"vega-embed\", \"6\"))\n",
       "        .catch(showError)\n",
       "        .then(() => displayChart(vegaEmbed));\n",
       "    }\n",
       "  })({\"config\": {\"view\": {\"continuousWidth\": 300, \"continuousHeight\": 300}}, \"layer\": [{\"data\": {\"name\": \"data-76ad4123ad14aadae1b3cdb7951178b2\"}, \"mark\": {\"type\": \"line\", \"size\": 3}, \"encoding\": {\"color\": {\"field\": \"Month\", \"scale\": {\"range\": [\"#5b8efd\", \"#765fec\", \"#fcb40e\", \"#fc5c04\", \"#dd217d\", \"#ccbb44\"]}, \"type\": \"nominal\"}, \"opacity\": {\"condition\": {\"param\": \"param_2\", \"value\": 1}, \"value\": 0.2}, \"tooltip\": [{\"field\": \"Weekend or Weekday\", \"type\": \"nominal\"}, {\"field\": \"Month\", \"type\": \"nominal\"}, {\"field\": \"Departure Hour\", \"type\": \"quantitative\"}, {\"field\": \"Weekend Service Hours\", \"type\": \"quantitative\"}], \"x\": {\"field\": \"Departure Hour\", \"title\": \"Departure Hour In Military Time\", \"type\": \"quantitative\"}, \"y\": {\"field\": \"Weekend Service Hours\", \"title\": \"Weekend Service Hours\", \"type\": \"quantitative\"}}, \"name\": \"view_2\", \"title\": {\"text\": \"Daily Scheduled Service Hours for Saturday\", \"subtitle\": \"\"}}, {\"data\": {\"name\": \"data-61fdb03b01e6f6ac9797744d36eb9ca4\"}, \"mark\": {\"type\": \"rect\", \"opacity\": 0.15}, \"encoding\": {\"color\": {\"field\": \"time_period\", \"scale\": {\"range\": [\"#5b8efd\", \"#765fec\", \"#fcb40e\", \"#fc5c04\", \"#dd217d\", \"#ccbb44\"]}, \"sort\": [\"Owl:12-3:59AM\", \"Early AM:4-6:59AM\", \"AM Peak:7-9:59AM\", \"Midday:10AM-2:59PM\", \"PM Peak:3-7:59PM\", \"Evening:8-11:59PM\"], \"title\": \"Time Period\", \"type\": \"nominal\"}, \"x\": {\"field\": \"start\", \"type\": \"quantitative\"}, \"x2\": {\"field\": \"stop\"}, \"y\": {\"value\": 0}, \"y2\": {\"value\": 250}}}], \"height\": 250, \"params\": [{\"name\": \"param_2\", \"select\": {\"type\": \"point\", \"fields\": [\"Month\"]}, \"bind\": \"legend\", \"views\": [\"view_2\"]}], \"resolve\": {\"scale\": {\"color\": \"independent\"}}, \"width\": 400, \"$schema\": \"https://vega.github.io/schema/vega-lite/v5.17.0.json\", \"datasets\": {\"data-76ad4123ad14aadae1b3cdb7951178b2\": [{\"Transit Operator\": \"Bay Area 511 Capitol Corridor Schedule\", \"Month\": \"2024-10\", \"Weekend or Weekday\": \"Saturday\", \"Departure Hour\": 5, \"Weekend Service Hours\": 3.1, \"Weekday Service Hours\": 3.1}, {\"Transit Operator\": \"Bay Area 511 Capitol Corridor Schedule\", \"Month\": \"2024-10\", \"Weekend or Weekday\": \"Saturday\", \"Departure Hour\": 6, \"Weekend Service Hours\": 3.62, \"Weekday Service Hours\": 3.62}, {\"Transit Operator\": \"Bay Area 511 Capitol Corridor Schedule\", \"Month\": \"2024-10\", \"Weekend or Weekday\": \"Saturday\", \"Departure Hour\": 7, \"Weekend Service Hours\": 6.6, \"Weekday Service Hours\": 6.6}, {\"Transit Operator\": \"Bay Area 511 Capitol Corridor Schedule\", \"Month\": \"2024-10\", \"Weekend or Weekday\": \"Saturday\", \"Departure Hour\": 8, \"Weekend Service Hours\": 5.92, \"Weekday Service Hours\": 5.92}, {\"Transit Operator\": \"Bay Area 511 Capitol Corridor Schedule\", \"Month\": \"2024-10\", \"Weekend or Weekday\": \"Saturday\", \"Departure Hour\": 9, \"Weekend Service Hours\": 2.05, \"Weekday Service Hours\": 2.05}, {\"Transit Operator\": \"Bay Area 511 Capitol Corridor Schedule\", \"Month\": \"2024-10\", \"Weekend or Weekday\": \"Saturday\", \"Departure Hour\": 10, \"Weekend Service Hours\": 8.42, \"Weekday Service Hours\": 8.42}, {\"Transit Operator\": \"Bay Area 511 Capitol Corridor Schedule\", \"Month\": \"2024-10\", \"Weekend or Weekday\": \"Saturday\", \"Departure Hour\": 11, \"Weekend Service Hours\": 0.5, \"Weekday Service Hours\": 0.5}, {\"Transit Operator\": \"Bay Area 511 Capitol Corridor Schedule\", \"Month\": \"2024-10\", \"Weekend or Weekday\": \"Saturday\", \"Departure Hour\": 12, \"Weekend Service Hours\": 3.57, \"Weekday Service Hours\": 3.57}, {\"Transit Operator\": \"Bay Area 511 Capitol Corridor Schedule\", \"Month\": \"2024-10\", \"Weekend or Weekday\": \"Saturday\", \"Departure Hour\": 13, \"Weekend Service Hours\": 3.67, \"Weekday Service Hours\": 3.67}, {\"Transit Operator\": \"Bay Area 511 Capitol Corridor Schedule\", \"Month\": \"2024-10\", \"Weekend or Weekday\": \"Saturday\", \"Departure Hour\": 14, \"Weekend Service Hours\": 4.13, \"Weekday Service Hours\": 4.13}, {\"Transit Operator\": \"Bay Area 511 Capitol Corridor Schedule\", \"Month\": \"2024-10\", \"Weekend or Weekday\": \"Saturday\", \"Departure Hour\": 15, \"Weekend Service Hours\": 6.52, \"Weekday Service Hours\": 6.52}, {\"Transit Operator\": \"Bay Area 511 Capitol Corridor Schedule\", \"Month\": \"2024-10\", \"Weekend or Weekday\": \"Saturday\", \"Departure Hour\": 16, \"Weekend Service Hours\": 5.78, \"Weekday Service Hours\": 5.78}, {\"Transit Operator\": \"Bay Area 511 Capitol Corridor Schedule\", \"Month\": \"2024-10\", \"Weekend or Weekday\": \"Saturday\", \"Departure Hour\": 17, \"Weekend Service Hours\": 5.62, \"Weekday Service Hours\": 5.62}, {\"Transit Operator\": \"Bay Area 511 Capitol Corridor Schedule\", \"Month\": \"2024-10\", \"Weekend or Weekday\": \"Saturday\", \"Departure Hour\": 18, \"Weekend Service Hours\": 7.27, \"Weekday Service Hours\": 7.27}, {\"Transit Operator\": \"Bay Area 511 Capitol Corridor Schedule\", \"Month\": \"2024-10\", \"Weekend or Weekday\": \"Saturday\", \"Departure Hour\": 19, \"Weekend Service Hours\": 2.48, \"Weekday Service Hours\": 2.48}, {\"Transit Operator\": \"Bay Area 511 Capitol Corridor Schedule\", \"Month\": \"2024-10\", \"Weekend or Weekday\": \"Saturday\", \"Departure Hour\": 20, \"Weekend Service Hours\": 8.08, \"Weekday Service Hours\": 8.08}, {\"Transit Operator\": \"Bay Area 511 Capitol Corridor Schedule\", \"Month\": \"2024-10\", \"Weekend or Weekday\": \"Saturday\", \"Departure Hour\": 21, \"Weekend Service Hours\": 0.5, \"Weekday Service Hours\": 0.5}, {\"Transit Operator\": \"Bay Area 511 Capitol Corridor Schedule\", \"Month\": \"2024-10\", \"Weekend or Weekday\": \"Saturday\", \"Departure Hour\": 22, \"Weekend Service Hours\": 0.5, \"Weekday Service Hours\": 0.5}, {\"Transit Operator\": \"Bay Area 511 Capitol Corridor Schedule\", \"Month\": \"2024-04\", \"Weekend or Weekday\": \"Saturday\", \"Departure Hour\": 5, \"Weekend Service Hours\": 3.1, \"Weekday Service Hours\": 3.1}, {\"Transit Operator\": \"Bay Area 511 Capitol Corridor Schedule\", \"Month\": \"2024-04\", \"Weekend or Weekday\": \"Saturday\", \"Departure Hour\": 6, \"Weekend Service Hours\": 3.62, \"Weekday Service Hours\": 3.62}, {\"Transit Operator\": \"Bay Area 511 Capitol Corridor Schedule\", \"Month\": \"2024-04\", \"Weekend or Weekday\": \"Saturday\", \"Departure Hour\": 7, \"Weekend Service Hours\": 6.6, \"Weekday Service Hours\": 6.6}, {\"Transit Operator\": \"Bay Area 511 Capitol Corridor Schedule\", \"Month\": \"2024-04\", \"Weekend or Weekday\": \"Saturday\", \"Departure Hour\": 8, \"Weekend Service Hours\": 5.92, \"Weekday Service Hours\": 5.92}, {\"Transit Operator\": \"Bay Area 511 Capitol Corridor Schedule\", \"Month\": \"2024-04\", \"Weekend or Weekday\": \"Saturday\", \"Departure Hour\": 9, \"Weekend Service Hours\": 2.05, \"Weekday Service Hours\": 2.05}, {\"Transit Operator\": \"Bay Area 511 Capitol Corridor Schedule\", \"Month\": \"2024-04\", \"Weekend or Weekday\": \"Saturday\", \"Departure Hour\": 10, \"Weekend Service Hours\": 8.42, \"Weekday Service Hours\": 8.42}, {\"Transit Operator\": \"Bay Area 511 Capitol Corridor Schedule\", \"Month\": \"2024-04\", \"Weekend or Weekday\": \"Saturday\", \"Departure Hour\": 11, \"Weekend Service Hours\": 0.5, \"Weekday Service Hours\": 0.5}, {\"Transit Operator\": \"Bay Area 511 Capitol Corridor Schedule\", \"Month\": \"2024-04\", \"Weekend or Weekday\": \"Saturday\", \"Departure Hour\": 12, \"Weekend Service Hours\": 3.57, \"Weekday Service Hours\": 3.57}, {\"Transit Operator\": \"Bay Area 511 Capitol Corridor Schedule\", \"Month\": \"2024-04\", \"Weekend or Weekday\": \"Saturday\", \"Departure Hour\": 13, \"Weekend Service Hours\": 3.67, \"Weekday Service Hours\": 3.67}, {\"Transit Operator\": \"Bay Area 511 Capitol Corridor Schedule\", \"Month\": \"2024-04\", \"Weekend or Weekday\": \"Saturday\", \"Departure Hour\": 14, \"Weekend Service Hours\": 4.13, \"Weekday Service Hours\": 4.13}, {\"Transit Operator\": \"Bay Area 511 Capitol Corridor Schedule\", \"Month\": \"2024-04\", \"Weekend or Weekday\": \"Saturday\", \"Departure Hour\": 15, \"Weekend Service Hours\": 6.52, \"Weekday Service Hours\": 6.52}, {\"Transit Operator\": \"Bay Area 511 Capitol Corridor Schedule\", \"Month\": \"2024-04\", \"Weekend or Weekday\": \"Saturday\", \"Departure Hour\": 16, \"Weekend Service Hours\": 5.78, \"Weekday Service Hours\": 5.78}, {\"Transit Operator\": \"Bay Area 511 Capitol Corridor Schedule\", \"Month\": \"2024-04\", \"Weekend or Weekday\": \"Saturday\", \"Departure Hour\": 17, \"Weekend Service Hours\": 5.62, \"Weekday Service Hours\": 5.62}, {\"Transit Operator\": \"Bay Area 511 Capitol Corridor Schedule\", \"Month\": \"2024-04\", \"Weekend or Weekday\": \"Saturday\", \"Departure Hour\": 18, \"Weekend Service Hours\": 7.27, \"Weekday Service Hours\": 7.27}, {\"Transit Operator\": \"Bay Area 511 Capitol Corridor Schedule\", \"Month\": \"2024-04\", \"Weekend or Weekday\": \"Saturday\", \"Departure Hour\": 19, \"Weekend Service Hours\": 2.48, \"Weekday Service Hours\": 2.48}, {\"Transit Operator\": \"Bay Area 511 Capitol Corridor Schedule\", \"Month\": \"2024-04\", \"Weekend or Weekday\": \"Saturday\", \"Departure Hour\": 20, \"Weekend Service Hours\": 8.08, \"Weekday Service Hours\": 8.08}, {\"Transit Operator\": \"Bay Area 511 Capitol Corridor Schedule\", \"Month\": \"2024-04\", \"Weekend or Weekday\": \"Saturday\", \"Departure Hour\": 21, \"Weekend Service Hours\": 0.5, \"Weekday Service Hours\": 0.5}, {\"Transit Operator\": \"Bay Area 511 Capitol Corridor Schedule\", \"Month\": \"2024-04\", \"Weekend or Weekday\": \"Saturday\", \"Departure Hour\": 22, \"Weekend Service Hours\": 0.5, \"Weekday Service Hours\": 0.5}, {\"Transit Operator\": \"Bay Area 511 Capitol Corridor Schedule\", \"Month\": \"2023-10\", \"Weekend or Weekday\": \"Saturday\", \"Departure Hour\": 5, \"Weekend Service Hours\": 3.1, \"Weekday Service Hours\": 3.1}, {\"Transit Operator\": \"Bay Area 511 Capitol Corridor Schedule\", \"Month\": \"2023-10\", \"Weekend or Weekday\": \"Saturday\", \"Departure Hour\": 6, \"Weekend Service Hours\": 3.62, \"Weekday Service Hours\": 3.62}, {\"Transit Operator\": \"Bay Area 511 Capitol Corridor Schedule\", \"Month\": \"2023-10\", \"Weekend or Weekday\": \"Saturday\", \"Departure Hour\": 7, \"Weekend Service Hours\": 6.6, \"Weekday Service Hours\": 6.6}, {\"Transit Operator\": \"Bay Area 511 Capitol Corridor Schedule\", \"Month\": \"2023-10\", \"Weekend or Weekday\": \"Saturday\", \"Departure Hour\": 8, \"Weekend Service Hours\": 5.92, \"Weekday Service Hours\": 5.92}, {\"Transit Operator\": \"Bay Area 511 Capitol Corridor Schedule\", \"Month\": \"2023-10\", \"Weekend or Weekday\": \"Saturday\", \"Departure Hour\": 9, \"Weekend Service Hours\": 2.05, \"Weekday Service Hours\": 2.05}, {\"Transit Operator\": \"Bay Area 511 Capitol Corridor Schedule\", \"Month\": \"2023-10\", \"Weekend or Weekday\": \"Saturday\", \"Departure Hour\": 10, \"Weekend Service Hours\": 8.42, \"Weekday Service Hours\": 8.42}, {\"Transit Operator\": \"Bay Area 511 Capitol Corridor Schedule\", \"Month\": \"2023-10\", \"Weekend or Weekday\": \"Saturday\", \"Departure Hour\": 11, \"Weekend Service Hours\": 0.5, \"Weekday Service Hours\": 0.5}, {\"Transit Operator\": \"Bay Area 511 Capitol Corridor Schedule\", \"Month\": \"2023-10\", \"Weekend or Weekday\": \"Saturday\", \"Departure Hour\": 12, \"Weekend Service Hours\": 3.57, \"Weekday Service Hours\": 3.57}, {\"Transit Operator\": \"Bay Area 511 Capitol Corridor Schedule\", \"Month\": \"2023-10\", \"Weekend or Weekday\": \"Saturday\", \"Departure Hour\": 13, \"Weekend Service Hours\": 3.67, \"Weekday Service Hours\": 3.67}, {\"Transit Operator\": \"Bay Area 511 Capitol Corridor Schedule\", \"Month\": \"2023-10\", \"Weekend or Weekday\": \"Saturday\", \"Departure Hour\": 14, \"Weekend Service Hours\": 4.13, \"Weekday Service Hours\": 4.13}, {\"Transit Operator\": \"Bay Area 511 Capitol Corridor Schedule\", \"Month\": \"2023-10\", \"Weekend or Weekday\": \"Saturday\", \"Departure Hour\": 15, \"Weekend Service Hours\": 6.52, \"Weekday Service Hours\": 6.52}, {\"Transit Operator\": \"Bay Area 511 Capitol Corridor Schedule\", \"Month\": \"2023-10\", \"Weekend or Weekday\": \"Saturday\", \"Departure Hour\": 16, \"Weekend Service Hours\": 5.78, \"Weekday Service Hours\": 5.78}, {\"Transit Operator\": \"Bay Area 511 Capitol Corridor Schedule\", \"Month\": \"2023-10\", \"Weekend or Weekday\": \"Saturday\", \"Departure Hour\": 17, \"Weekend Service Hours\": 5.62, \"Weekday Service Hours\": 5.62}, {\"Transit Operator\": \"Bay Area 511 Capitol Corridor Schedule\", \"Month\": \"2023-10\", \"Weekend or Weekday\": \"Saturday\", \"Departure Hour\": 18, \"Weekend Service Hours\": 7.27, \"Weekday Service Hours\": 7.27}, {\"Transit Operator\": \"Bay Area 511 Capitol Corridor Schedule\", \"Month\": \"2023-10\", \"Weekend or Weekday\": \"Saturday\", \"Departure Hour\": 19, \"Weekend Service Hours\": 2.48, \"Weekday Service Hours\": 2.48}, {\"Transit Operator\": \"Bay Area 511 Capitol Corridor Schedule\", \"Month\": \"2023-10\", \"Weekend or Weekday\": \"Saturday\", \"Departure Hour\": 20, \"Weekend Service Hours\": 8.08, \"Weekday Service Hours\": 8.08}, {\"Transit Operator\": \"Bay Area 511 Capitol Corridor Schedule\", \"Month\": \"2023-10\", \"Weekend or Weekday\": \"Saturday\", \"Departure Hour\": 21, \"Weekend Service Hours\": 0.5, \"Weekday Service Hours\": 0.5}, {\"Transit Operator\": \"Bay Area 511 Capitol Corridor Schedule\", \"Month\": \"2023-10\", \"Weekend or Weekday\": \"Saturday\", \"Departure Hour\": 22, \"Weekend Service Hours\": 0.5, \"Weekday Service Hours\": 0.5}, {\"Transit Operator\": \"Bay Area 511 Capitol Corridor Schedule\", \"Month\": \"2023-04\", \"Weekend or Weekday\": \"Saturday\", \"Departure Hour\": 5, \"Weekend Service Hours\": 3.1, \"Weekday Service Hours\": 3.1}, {\"Transit Operator\": \"Bay Area 511 Capitol Corridor Schedule\", \"Month\": \"2023-04\", \"Weekend or Weekday\": \"Saturday\", \"Departure Hour\": 6, \"Weekend Service Hours\": 3.62, \"Weekday Service Hours\": 3.62}, {\"Transit Operator\": \"Bay Area 511 Capitol Corridor Schedule\", \"Month\": \"2023-04\", \"Weekend or Weekday\": \"Saturday\", \"Departure Hour\": 7, \"Weekend Service Hours\": 6.6, \"Weekday Service Hours\": 6.6}, {\"Transit Operator\": \"Bay Area 511 Capitol Corridor Schedule\", \"Month\": \"2023-04\", \"Weekend or Weekday\": \"Saturday\", \"Departure Hour\": 8, \"Weekend Service Hours\": 5.92, \"Weekday Service Hours\": 5.92}, {\"Transit Operator\": \"Bay Area 511 Capitol Corridor Schedule\", \"Month\": \"2023-04\", \"Weekend or Weekday\": \"Saturday\", \"Departure Hour\": 9, \"Weekend Service Hours\": 2.05, \"Weekday Service Hours\": 2.05}, {\"Transit Operator\": \"Bay Area 511 Capitol Corridor Schedule\", \"Month\": \"2023-04\", \"Weekend or Weekday\": \"Saturday\", \"Departure Hour\": 10, \"Weekend Service Hours\": 8.42, \"Weekday Service Hours\": 8.42}, {\"Transit Operator\": \"Bay Area 511 Capitol Corridor Schedule\", \"Month\": \"2023-04\", \"Weekend or Weekday\": \"Saturday\", \"Departure Hour\": 11, \"Weekend Service Hours\": 0.5, \"Weekday Service Hours\": 0.5}, {\"Transit Operator\": \"Bay Area 511 Capitol Corridor Schedule\", \"Month\": \"2023-04\", \"Weekend or Weekday\": \"Saturday\", \"Departure Hour\": 12, \"Weekend Service Hours\": 3.57, \"Weekday Service Hours\": 3.57}, {\"Transit Operator\": \"Bay Area 511 Capitol Corridor Schedule\", \"Month\": \"2023-04\", \"Weekend or Weekday\": \"Saturday\", \"Departure Hour\": 13, \"Weekend Service Hours\": 3.67, \"Weekday Service Hours\": 3.67}, {\"Transit Operator\": \"Bay Area 511 Capitol Corridor Schedule\", \"Month\": \"2023-04\", \"Weekend or Weekday\": \"Saturday\", \"Departure Hour\": 14, \"Weekend Service Hours\": 4.13, \"Weekday Service Hours\": 4.13}, {\"Transit Operator\": \"Bay Area 511 Capitol Corridor Schedule\", \"Month\": \"2023-04\", \"Weekend or Weekday\": \"Saturday\", \"Departure Hour\": 15, \"Weekend Service Hours\": 6.52, \"Weekday Service Hours\": 6.52}, {\"Transit Operator\": \"Bay Area 511 Capitol Corridor Schedule\", \"Month\": \"2023-04\", \"Weekend or Weekday\": \"Saturday\", \"Departure Hour\": 16, \"Weekend Service Hours\": 5.78, \"Weekday Service Hours\": 5.78}, {\"Transit Operator\": \"Bay Area 511 Capitol Corridor Schedule\", \"Month\": \"2023-04\", \"Weekend or Weekday\": \"Saturday\", \"Departure Hour\": 17, \"Weekend Service Hours\": 5.62, \"Weekday Service Hours\": 5.62}, {\"Transit Operator\": \"Bay Area 511 Capitol Corridor Schedule\", \"Month\": \"2023-04\", \"Weekend or Weekday\": \"Saturday\", \"Departure Hour\": 18, \"Weekend Service Hours\": 7.27, \"Weekday Service Hours\": 7.27}, {\"Transit Operator\": \"Bay Area 511 Capitol Corridor Schedule\", \"Month\": \"2023-04\", \"Weekend or Weekday\": \"Saturday\", \"Departure Hour\": 19, \"Weekend Service Hours\": 2.48, \"Weekday Service Hours\": 2.48}, {\"Transit Operator\": \"Bay Area 511 Capitol Corridor Schedule\", \"Month\": \"2023-04\", \"Weekend or Weekday\": \"Saturday\", \"Departure Hour\": 20, \"Weekend Service Hours\": 8.08, \"Weekday Service Hours\": 8.08}, {\"Transit Operator\": \"Bay Area 511 Capitol Corridor Schedule\", \"Month\": \"2023-04\", \"Weekend or Weekday\": \"Saturday\", \"Departure Hour\": 21, \"Weekend Service Hours\": 0.5, \"Weekday Service Hours\": 0.5}, {\"Transit Operator\": \"Bay Area 511 Capitol Corridor Schedule\", \"Month\": \"2023-04\", \"Weekend or Weekday\": \"Saturday\", \"Departure Hour\": 22, \"Weekend Service Hours\": 0.5, \"Weekday Service Hours\": 0.5}], \"data-61fdb03b01e6f6ac9797744d36eb9ca4\": [{\"index\": 0, \"start\": 0, \"stop\": 3.99, \"time_period\": \"Owl:12-3:59AM\"}, {\"index\": 1, \"start\": 4, \"stop\": 6.99, \"time_period\": \"Early AM:4-6:59AM\"}, {\"index\": 2, \"start\": 7, \"stop\": 9.99, \"time_period\": \"AM Peak:7-9:59AM\"}, {\"index\": 3, \"start\": 10, \"stop\": 14.99, \"time_period\": \"Midday:10AM-2:59PM\"}, {\"index\": 4, \"start\": 15, \"stop\": 18.99, \"time_period\": \"PM Peak:3-7:59PM\"}, {\"index\": 5, \"start\": 19, \"stop\": 24.0, \"time_period\": \"Evening:8-11:59PM\"}]}}, {\"mode\": \"vega-lite\"});\n",
       "</script>"
      ],
      "text/plain": [
       "alt.LayerChart(...)"
      ]
     },
     "metadata": {},
     "output_type": "display_data"
    }
   ],
   "source": [
    "try: \n",
    "    display(\n",
    "    section1.create_service_hour_chart(\n",
    "        scheduled_service, \n",
    "        \"Saturday\",\n",
    "        \"Weekend Service Hours\", \n",
    "        \"\"\n",
    "    )\n",
    ")\n",
    "except:\n",
    "    pass"
   ]
  },
  {
   "cell_type": "code",
   "execution_count": 24,
   "id": "44697ac6-7ee6-453a-a04a-0a94da719ccf",
   "metadata": {},
   "outputs": [
    {
     "data": {
      "text/html": [
       "\n",
       "<style>\n",
       "  #altair-viz-ed14c4852480478ba9f299252135b6b2.vega-embed {\n",
       "    width: 100%;\n",
       "    display: flex;\n",
       "  }\n",
       "\n",
       "  #altair-viz-ed14c4852480478ba9f299252135b6b2.vega-embed details,\n",
       "  #altair-viz-ed14c4852480478ba9f299252135b6b2.vega-embed details summary {\n",
       "    position: relative;\n",
       "  }\n",
       "</style>\n",
       "<div id=\"altair-viz-ed14c4852480478ba9f299252135b6b2\"></div>\n",
       "<script type=\"text/javascript\">\n",
       "  var VEGA_DEBUG = (typeof VEGA_DEBUG == \"undefined\") ? {} : VEGA_DEBUG;\n",
       "  (function(spec, embedOpt){\n",
       "    let outputDiv = document.currentScript.previousElementSibling;\n",
       "    if (outputDiv.id !== \"altair-viz-ed14c4852480478ba9f299252135b6b2\") {\n",
       "      outputDiv = document.getElementById(\"altair-viz-ed14c4852480478ba9f299252135b6b2\");\n",
       "    }\n",
       "    const paths = {\n",
       "      \"vega\": \"https://cdn.jsdelivr.net/npm/vega@5?noext\",\n",
       "      \"vega-lib\": \"https://cdn.jsdelivr.net/npm/vega-lib?noext\",\n",
       "      \"vega-lite\": \"https://cdn.jsdelivr.net/npm/vega-lite@5.17.0?noext\",\n",
       "      \"vega-embed\": \"https://cdn.jsdelivr.net/npm/vega-embed@6?noext\",\n",
       "    };\n",
       "\n",
       "    function maybeLoadScript(lib, version) {\n",
       "      var key = `${lib.replace(\"-\", \"\")}_version`;\n",
       "      return (VEGA_DEBUG[key] == version) ?\n",
       "        Promise.resolve(paths[lib]) :\n",
       "        new Promise(function(resolve, reject) {\n",
       "          var s = document.createElement('script');\n",
       "          document.getElementsByTagName(\"head\")[0].appendChild(s);\n",
       "          s.async = true;\n",
       "          s.onload = () => {\n",
       "            VEGA_DEBUG[key] = version;\n",
       "            return resolve(paths[lib]);\n",
       "          };\n",
       "          s.onerror = () => reject(`Error loading script: ${paths[lib]}`);\n",
       "          s.src = paths[lib];\n",
       "        });\n",
       "    }\n",
       "\n",
       "    function showError(err) {\n",
       "      outputDiv.innerHTML = `<div class=\"error\" style=\"color:red;\">${err}</div>`;\n",
       "      throw err;\n",
       "    }\n",
       "\n",
       "    function displayChart(vegaEmbed) {\n",
       "      vegaEmbed(outputDiv, spec, embedOpt)\n",
       "        .catch(err => showError(`Javascript Error: ${err.message}<br>This usually means there's a typo in your chart specification. See the javascript console for the full traceback.`));\n",
       "    }\n",
       "\n",
       "    if(typeof define === \"function\" && define.amd) {\n",
       "      requirejs.config({paths});\n",
       "      require([\"vega-embed\"], displayChart, err => showError(`Error loading script: ${err.message}`));\n",
       "    } else {\n",
       "      maybeLoadScript(\"vega\", \"5\")\n",
       "        .then(() => maybeLoadScript(\"vega-lite\", \"5.17.0\"))\n",
       "        .then(() => maybeLoadScript(\"vega-embed\", \"6\"))\n",
       "        .catch(showError)\n",
       "        .then(() => displayChart(vegaEmbed));\n",
       "    }\n",
       "  })({\"config\": {\"view\": {\"continuousWidth\": 300, \"continuousHeight\": 300}}, \"layer\": [{\"data\": {\"name\": \"data-aaece0f84b5bfcbd820bdada1ba052c5\"}, \"mark\": {\"type\": \"line\", \"size\": 3}, \"encoding\": {\"color\": {\"field\": \"Month\", \"scale\": {\"range\": [\"#5b8efd\", \"#765fec\", \"#fcb40e\", \"#fc5c04\", \"#dd217d\", \"#ccbb44\"]}, \"type\": \"nominal\"}, \"opacity\": {\"condition\": {\"param\": \"param_3\", \"value\": 1}, \"value\": 0.2}, \"tooltip\": [{\"field\": \"Weekend or Weekday\", \"type\": \"nominal\"}, {\"field\": \"Month\", \"type\": \"nominal\"}, {\"field\": \"Departure Hour\", \"type\": \"quantitative\"}, {\"field\": \"Weekend Service Hours\", \"type\": \"quantitative\"}], \"x\": {\"field\": \"Departure Hour\", \"title\": \"Departure Hour In Military Time\", \"type\": \"quantitative\"}, \"y\": {\"field\": \"Weekend Service Hours\", \"title\": \"Weekend Service Hours\", \"type\": \"quantitative\"}}, \"name\": \"view_3\", \"title\": {\"text\": \"Daily Scheduled Service Hours for Sunday\", \"subtitle\": \"\"}}, {\"data\": {\"name\": \"data-61fdb03b01e6f6ac9797744d36eb9ca4\"}, \"mark\": {\"type\": \"rect\", \"opacity\": 0.15}, \"encoding\": {\"color\": {\"field\": \"time_period\", \"scale\": {\"range\": [\"#5b8efd\", \"#765fec\", \"#fcb40e\", \"#fc5c04\", \"#dd217d\", \"#ccbb44\"]}, \"sort\": [\"Owl:12-3:59AM\", \"Early AM:4-6:59AM\", \"AM Peak:7-9:59AM\", \"Midday:10AM-2:59PM\", \"PM Peak:3-7:59PM\", \"Evening:8-11:59PM\"], \"title\": \"Time Period\", \"type\": \"nominal\"}, \"x\": {\"field\": \"start\", \"type\": \"quantitative\"}, \"x2\": {\"field\": \"stop\"}, \"y\": {\"value\": 0}, \"y2\": {\"value\": 250}}}], \"height\": 250, \"params\": [{\"name\": \"param_3\", \"select\": {\"type\": \"point\", \"fields\": [\"Month\"]}, \"bind\": \"legend\", \"views\": [\"view_3\"]}], \"resolve\": {\"scale\": {\"color\": \"independent\"}}, \"width\": 400, \"$schema\": \"https://vega.github.io/schema/vega-lite/v5.17.0.json\", \"datasets\": {\"data-aaece0f84b5bfcbd820bdada1ba052c5\": [{\"Transit Operator\": \"Bay Area 511 Capitol Corridor Schedule\", \"Month\": \"2024-10\", \"Weekend or Weekday\": \"Sunday\", \"Departure Hour\": 5, \"Weekend Service Hours\": 3.1, \"Weekday Service Hours\": 3.1}, {\"Transit Operator\": \"Bay Area 511 Capitol Corridor Schedule\", \"Month\": \"2024-10\", \"Weekend or Weekday\": \"Sunday\", \"Departure Hour\": 6, \"Weekend Service Hours\": 3.62, \"Weekday Service Hours\": 3.62}, {\"Transit Operator\": \"Bay Area 511 Capitol Corridor Schedule\", \"Month\": \"2024-10\", \"Weekend or Weekday\": \"Sunday\", \"Departure Hour\": 7, \"Weekend Service Hours\": 6.6, \"Weekday Service Hours\": 6.6}, {\"Transit Operator\": \"Bay Area 511 Capitol Corridor Schedule\", \"Month\": \"2024-10\", \"Weekend or Weekday\": \"Sunday\", \"Departure Hour\": 8, \"Weekend Service Hours\": 8.72, \"Weekday Service Hours\": 8.72}, {\"Transit Operator\": \"Bay Area 511 Capitol Corridor Schedule\", \"Month\": \"2024-10\", \"Weekend or Weekday\": \"Sunday\", \"Departure Hour\": 9, \"Weekend Service Hours\": 2.05, \"Weekday Service Hours\": 2.05}, {\"Transit Operator\": \"Bay Area 511 Capitol Corridor Schedule\", \"Month\": \"2024-10\", \"Weekend or Weekday\": \"Sunday\", \"Departure Hour\": 10, \"Weekend Service Hours\": 8.42, \"Weekday Service Hours\": 8.42}, {\"Transit Operator\": \"Bay Area 511 Capitol Corridor Schedule\", \"Month\": \"2024-10\", \"Weekend or Weekday\": \"Sunday\", \"Departure Hour\": 11, \"Weekend Service Hours\": 0.5, \"Weekday Service Hours\": 0.5}, {\"Transit Operator\": \"Bay Area 511 Capitol Corridor Schedule\", \"Month\": \"2024-10\", \"Weekend or Weekday\": \"Sunday\", \"Departure Hour\": 12, \"Weekend Service Hours\": 3.57, \"Weekday Service Hours\": 3.57}, {\"Transit Operator\": \"Bay Area 511 Capitol Corridor Schedule\", \"Month\": \"2024-10\", \"Weekend or Weekday\": \"Sunday\", \"Departure Hour\": 13, \"Weekend Service Hours\": 3.67, \"Weekday Service Hours\": 3.67}, {\"Transit Operator\": \"Bay Area 511 Capitol Corridor Schedule\", \"Month\": \"2024-10\", \"Weekend or Weekday\": \"Sunday\", \"Departure Hour\": 14, \"Weekend Service Hours\": 4.13, \"Weekday Service Hours\": 4.13}, {\"Transit Operator\": \"Bay Area 511 Capitol Corridor Schedule\", \"Month\": \"2024-10\", \"Weekend or Weekday\": \"Sunday\", \"Departure Hour\": 15, \"Weekend Service Hours\": 6.52, \"Weekday Service Hours\": 6.52}, {\"Transit Operator\": \"Bay Area 511 Capitol Corridor Schedule\", \"Month\": \"2024-10\", \"Weekend or Weekday\": \"Sunday\", \"Departure Hour\": 16, \"Weekend Service Hours\": 5.78, \"Weekday Service Hours\": 5.78}, {\"Transit Operator\": \"Bay Area 511 Capitol Corridor Schedule\", \"Month\": \"2024-10\", \"Weekend or Weekday\": \"Sunday\", \"Departure Hour\": 17, \"Weekend Service Hours\": 5.62, \"Weekday Service Hours\": 5.62}, {\"Transit Operator\": \"Bay Area 511 Capitol Corridor Schedule\", \"Month\": \"2024-10\", \"Weekend or Weekday\": \"Sunday\", \"Departure Hour\": 18, \"Weekend Service Hours\": 7.27, \"Weekday Service Hours\": 7.27}, {\"Transit Operator\": \"Bay Area 511 Capitol Corridor Schedule\", \"Month\": \"2024-10\", \"Weekend or Weekday\": \"Sunday\", \"Departure Hour\": 19, \"Weekend Service Hours\": 2.48, \"Weekday Service Hours\": 2.48}, {\"Transit Operator\": \"Bay Area 511 Capitol Corridor Schedule\", \"Month\": \"2024-10\", \"Weekend or Weekday\": \"Sunday\", \"Departure Hour\": 20, \"Weekend Service Hours\": 8.07, \"Weekday Service Hours\": 8.07}, {\"Transit Operator\": \"Bay Area 511 Capitol Corridor Schedule\", \"Month\": \"2024-10\", \"Weekend or Weekday\": \"Sunday\", \"Departure Hour\": 21, \"Weekend Service Hours\": 0.5, \"Weekday Service Hours\": 0.5}, {\"Transit Operator\": \"Bay Area 511 Capitol Corridor Schedule\", \"Month\": \"2024-10\", \"Weekend or Weekday\": \"Sunday\", \"Departure Hour\": 22, \"Weekend Service Hours\": 0.5, \"Weekday Service Hours\": 0.5}, {\"Transit Operator\": \"Bay Area 511 Capitol Corridor Schedule\", \"Month\": \"2024-04\", \"Weekend or Weekday\": \"Sunday\", \"Departure Hour\": 5, \"Weekend Service Hours\": 3.1, \"Weekday Service Hours\": 3.1}, {\"Transit Operator\": \"Bay Area 511 Capitol Corridor Schedule\", \"Month\": \"2024-04\", \"Weekend or Weekday\": \"Sunday\", \"Departure Hour\": 6, \"Weekend Service Hours\": 3.62, \"Weekday Service Hours\": 3.62}, {\"Transit Operator\": \"Bay Area 511 Capitol Corridor Schedule\", \"Month\": \"2024-04\", \"Weekend or Weekday\": \"Sunday\", \"Departure Hour\": 7, \"Weekend Service Hours\": 6.6, \"Weekday Service Hours\": 6.6}, {\"Transit Operator\": \"Bay Area 511 Capitol Corridor Schedule\", \"Month\": \"2024-04\", \"Weekend or Weekday\": \"Sunday\", \"Departure Hour\": 8, \"Weekend Service Hours\": 5.92, \"Weekday Service Hours\": 5.92}, {\"Transit Operator\": \"Bay Area 511 Capitol Corridor Schedule\", \"Month\": \"2024-04\", \"Weekend or Weekday\": \"Sunday\", \"Departure Hour\": 9, \"Weekend Service Hours\": 2.05, \"Weekday Service Hours\": 2.05}, {\"Transit Operator\": \"Bay Area 511 Capitol Corridor Schedule\", \"Month\": \"2024-04\", \"Weekend or Weekday\": \"Sunday\", \"Departure Hour\": 10, \"Weekend Service Hours\": 8.42, \"Weekday Service Hours\": 8.42}, {\"Transit Operator\": \"Bay Area 511 Capitol Corridor Schedule\", \"Month\": \"2024-04\", \"Weekend or Weekday\": \"Sunday\", \"Departure Hour\": 11, \"Weekend Service Hours\": 0.5, \"Weekday Service Hours\": 0.5}, {\"Transit Operator\": \"Bay Area 511 Capitol Corridor Schedule\", \"Month\": \"2024-04\", \"Weekend or Weekday\": \"Sunday\", \"Departure Hour\": 12, \"Weekend Service Hours\": 3.57, \"Weekday Service Hours\": 3.57}, {\"Transit Operator\": \"Bay Area 511 Capitol Corridor Schedule\", \"Month\": \"2024-04\", \"Weekend or Weekday\": \"Sunday\", \"Departure Hour\": 13, \"Weekend Service Hours\": 3.67, \"Weekday Service Hours\": 3.67}, {\"Transit Operator\": \"Bay Area 511 Capitol Corridor Schedule\", \"Month\": \"2024-04\", \"Weekend or Weekday\": \"Sunday\", \"Departure Hour\": 14, \"Weekend Service Hours\": 4.13, \"Weekday Service Hours\": 4.13}, {\"Transit Operator\": \"Bay Area 511 Capitol Corridor Schedule\", \"Month\": \"2024-04\", \"Weekend or Weekday\": \"Sunday\", \"Departure Hour\": 15, \"Weekend Service Hours\": 6.52, \"Weekday Service Hours\": 6.52}, {\"Transit Operator\": \"Bay Area 511 Capitol Corridor Schedule\", \"Month\": \"2024-04\", \"Weekend or Weekday\": \"Sunday\", \"Departure Hour\": 16, \"Weekend Service Hours\": 5.78, \"Weekday Service Hours\": 5.78}, {\"Transit Operator\": \"Bay Area 511 Capitol Corridor Schedule\", \"Month\": \"2024-04\", \"Weekend or Weekday\": \"Sunday\", \"Departure Hour\": 17, \"Weekend Service Hours\": 5.62, \"Weekday Service Hours\": 5.62}, {\"Transit Operator\": \"Bay Area 511 Capitol Corridor Schedule\", \"Month\": \"2024-04\", \"Weekend or Weekday\": \"Sunday\", \"Departure Hour\": 18, \"Weekend Service Hours\": 7.27, \"Weekday Service Hours\": 7.27}, {\"Transit Operator\": \"Bay Area 511 Capitol Corridor Schedule\", \"Month\": \"2024-04\", \"Weekend or Weekday\": \"Sunday\", \"Departure Hour\": 19, \"Weekend Service Hours\": 2.48, \"Weekday Service Hours\": 2.48}, {\"Transit Operator\": \"Bay Area 511 Capitol Corridor Schedule\", \"Month\": \"2024-04\", \"Weekend or Weekday\": \"Sunday\", \"Departure Hour\": 20, \"Weekend Service Hours\": 8.08, \"Weekday Service Hours\": 8.08}, {\"Transit Operator\": \"Bay Area 511 Capitol Corridor Schedule\", \"Month\": \"2024-04\", \"Weekend or Weekday\": \"Sunday\", \"Departure Hour\": 21, \"Weekend Service Hours\": 0.5, \"Weekday Service Hours\": 0.5}, {\"Transit Operator\": \"Bay Area 511 Capitol Corridor Schedule\", \"Month\": \"2024-04\", \"Weekend or Weekday\": \"Sunday\", \"Departure Hour\": 22, \"Weekend Service Hours\": 0.5, \"Weekday Service Hours\": 0.5}, {\"Transit Operator\": \"Bay Area 511 Capitol Corridor Schedule\", \"Month\": \"2023-10\", \"Weekend or Weekday\": \"Sunday\", \"Departure Hour\": 5, \"Weekend Service Hours\": 3.1, \"Weekday Service Hours\": 3.1}, {\"Transit Operator\": \"Bay Area 511 Capitol Corridor Schedule\", \"Month\": \"2023-10\", \"Weekend or Weekday\": \"Sunday\", \"Departure Hour\": 6, \"Weekend Service Hours\": 3.62, \"Weekday Service Hours\": 3.62}, {\"Transit Operator\": \"Bay Area 511 Capitol Corridor Schedule\", \"Month\": \"2023-10\", \"Weekend or Weekday\": \"Sunday\", \"Departure Hour\": 7, \"Weekend Service Hours\": 6.6, \"Weekday Service Hours\": 6.6}, {\"Transit Operator\": \"Bay Area 511 Capitol Corridor Schedule\", \"Month\": \"2023-10\", \"Weekend or Weekday\": \"Sunday\", \"Departure Hour\": 8, \"Weekend Service Hours\": 5.92, \"Weekday Service Hours\": 5.92}, {\"Transit Operator\": \"Bay Area 511 Capitol Corridor Schedule\", \"Month\": \"2023-10\", \"Weekend or Weekday\": \"Sunday\", \"Departure Hour\": 9, \"Weekend Service Hours\": 2.05, \"Weekday Service Hours\": 2.05}, {\"Transit Operator\": \"Bay Area 511 Capitol Corridor Schedule\", \"Month\": \"2023-10\", \"Weekend or Weekday\": \"Sunday\", \"Departure Hour\": 10, \"Weekend Service Hours\": 8.42, \"Weekday Service Hours\": 8.42}, {\"Transit Operator\": \"Bay Area 511 Capitol Corridor Schedule\", \"Month\": \"2023-10\", \"Weekend or Weekday\": \"Sunday\", \"Departure Hour\": 11, \"Weekend Service Hours\": 0.5, \"Weekday Service Hours\": 0.5}, {\"Transit Operator\": \"Bay Area 511 Capitol Corridor Schedule\", \"Month\": \"2023-10\", \"Weekend or Weekday\": \"Sunday\", \"Departure Hour\": 12, \"Weekend Service Hours\": 3.57, \"Weekday Service Hours\": 3.57}, {\"Transit Operator\": \"Bay Area 511 Capitol Corridor Schedule\", \"Month\": \"2023-10\", \"Weekend or Weekday\": \"Sunday\", \"Departure Hour\": 13, \"Weekend Service Hours\": 3.67, \"Weekday Service Hours\": 3.67}, {\"Transit Operator\": \"Bay Area 511 Capitol Corridor Schedule\", \"Month\": \"2023-10\", \"Weekend or Weekday\": \"Sunday\", \"Departure Hour\": 14, \"Weekend Service Hours\": 4.13, \"Weekday Service Hours\": 4.13}, {\"Transit Operator\": \"Bay Area 511 Capitol Corridor Schedule\", \"Month\": \"2023-10\", \"Weekend or Weekday\": \"Sunday\", \"Departure Hour\": 15, \"Weekend Service Hours\": 6.52, \"Weekday Service Hours\": 6.52}, {\"Transit Operator\": \"Bay Area 511 Capitol Corridor Schedule\", \"Month\": \"2023-10\", \"Weekend or Weekday\": \"Sunday\", \"Departure Hour\": 16, \"Weekend Service Hours\": 5.78, \"Weekday Service Hours\": 5.78}, {\"Transit Operator\": \"Bay Area 511 Capitol Corridor Schedule\", \"Month\": \"2023-10\", \"Weekend or Weekday\": \"Sunday\", \"Departure Hour\": 17, \"Weekend Service Hours\": 5.62, \"Weekday Service Hours\": 5.62}, {\"Transit Operator\": \"Bay Area 511 Capitol Corridor Schedule\", \"Month\": \"2023-10\", \"Weekend or Weekday\": \"Sunday\", \"Departure Hour\": 18, \"Weekend Service Hours\": 7.27, \"Weekday Service Hours\": 7.27}, {\"Transit Operator\": \"Bay Area 511 Capitol Corridor Schedule\", \"Month\": \"2023-10\", \"Weekend or Weekday\": \"Sunday\", \"Departure Hour\": 19, \"Weekend Service Hours\": 2.48, \"Weekday Service Hours\": 2.48}, {\"Transit Operator\": \"Bay Area 511 Capitol Corridor Schedule\", \"Month\": \"2023-10\", \"Weekend or Weekday\": \"Sunday\", \"Departure Hour\": 20, \"Weekend Service Hours\": 8.08, \"Weekday Service Hours\": 8.08}, {\"Transit Operator\": \"Bay Area 511 Capitol Corridor Schedule\", \"Month\": \"2023-10\", \"Weekend or Weekday\": \"Sunday\", \"Departure Hour\": 21, \"Weekend Service Hours\": 0.5, \"Weekday Service Hours\": 0.5}, {\"Transit Operator\": \"Bay Area 511 Capitol Corridor Schedule\", \"Month\": \"2023-10\", \"Weekend or Weekday\": \"Sunday\", \"Departure Hour\": 22, \"Weekend Service Hours\": 0.5, \"Weekday Service Hours\": 0.5}, {\"Transit Operator\": \"Bay Area 511 Capitol Corridor Schedule\", \"Month\": \"2023-04\", \"Weekend or Weekday\": \"Sunday\", \"Departure Hour\": 5, \"Weekend Service Hours\": 3.1, \"Weekday Service Hours\": 3.1}, {\"Transit Operator\": \"Bay Area 511 Capitol Corridor Schedule\", \"Month\": \"2023-04\", \"Weekend or Weekday\": \"Sunday\", \"Departure Hour\": 6, \"Weekend Service Hours\": 3.62, \"Weekday Service Hours\": 3.62}, {\"Transit Operator\": \"Bay Area 511 Capitol Corridor Schedule\", \"Month\": \"2023-04\", \"Weekend or Weekday\": \"Sunday\", \"Departure Hour\": 7, \"Weekend Service Hours\": 6.6, \"Weekday Service Hours\": 6.6}, {\"Transit Operator\": \"Bay Area 511 Capitol Corridor Schedule\", \"Month\": \"2023-04\", \"Weekend or Weekday\": \"Sunday\", \"Departure Hour\": 8, \"Weekend Service Hours\": 5.92, \"Weekday Service Hours\": 5.92}, {\"Transit Operator\": \"Bay Area 511 Capitol Corridor Schedule\", \"Month\": \"2023-04\", \"Weekend or Weekday\": \"Sunday\", \"Departure Hour\": 9, \"Weekend Service Hours\": 2.05, \"Weekday Service Hours\": 2.05}, {\"Transit Operator\": \"Bay Area 511 Capitol Corridor Schedule\", \"Month\": \"2023-04\", \"Weekend or Weekday\": \"Sunday\", \"Departure Hour\": 10, \"Weekend Service Hours\": 8.42, \"Weekday Service Hours\": 8.42}, {\"Transit Operator\": \"Bay Area 511 Capitol Corridor Schedule\", \"Month\": \"2023-04\", \"Weekend or Weekday\": \"Sunday\", \"Departure Hour\": 11, \"Weekend Service Hours\": 0.5, \"Weekday Service Hours\": 0.5}, {\"Transit Operator\": \"Bay Area 511 Capitol Corridor Schedule\", \"Month\": \"2023-04\", \"Weekend or Weekday\": \"Sunday\", \"Departure Hour\": 12, \"Weekend Service Hours\": 3.57, \"Weekday Service Hours\": 3.57}, {\"Transit Operator\": \"Bay Area 511 Capitol Corridor Schedule\", \"Month\": \"2023-04\", \"Weekend or Weekday\": \"Sunday\", \"Departure Hour\": 13, \"Weekend Service Hours\": 3.67, \"Weekday Service Hours\": 3.67}, {\"Transit Operator\": \"Bay Area 511 Capitol Corridor Schedule\", \"Month\": \"2023-04\", \"Weekend or Weekday\": \"Sunday\", \"Departure Hour\": 14, \"Weekend Service Hours\": 4.13, \"Weekday Service Hours\": 4.13}, {\"Transit Operator\": \"Bay Area 511 Capitol Corridor Schedule\", \"Month\": \"2023-04\", \"Weekend or Weekday\": \"Sunday\", \"Departure Hour\": 15, \"Weekend Service Hours\": 6.52, \"Weekday Service Hours\": 6.52}, {\"Transit Operator\": \"Bay Area 511 Capitol Corridor Schedule\", \"Month\": \"2023-04\", \"Weekend or Weekday\": \"Sunday\", \"Departure Hour\": 16, \"Weekend Service Hours\": 5.78, \"Weekday Service Hours\": 5.78}, {\"Transit Operator\": \"Bay Area 511 Capitol Corridor Schedule\", \"Month\": \"2023-04\", \"Weekend or Weekday\": \"Sunday\", \"Departure Hour\": 17, \"Weekend Service Hours\": 5.62, \"Weekday Service Hours\": 5.62}, {\"Transit Operator\": \"Bay Area 511 Capitol Corridor Schedule\", \"Month\": \"2023-04\", \"Weekend or Weekday\": \"Sunday\", \"Departure Hour\": 18, \"Weekend Service Hours\": 7.27, \"Weekday Service Hours\": 7.27}, {\"Transit Operator\": \"Bay Area 511 Capitol Corridor Schedule\", \"Month\": \"2023-04\", \"Weekend or Weekday\": \"Sunday\", \"Departure Hour\": 19, \"Weekend Service Hours\": 2.48, \"Weekday Service Hours\": 2.48}, {\"Transit Operator\": \"Bay Area 511 Capitol Corridor Schedule\", \"Month\": \"2023-04\", \"Weekend or Weekday\": \"Sunday\", \"Departure Hour\": 20, \"Weekend Service Hours\": 8.08, \"Weekday Service Hours\": 8.08}, {\"Transit Operator\": \"Bay Area 511 Capitol Corridor Schedule\", \"Month\": \"2023-04\", \"Weekend or Weekday\": \"Sunday\", \"Departure Hour\": 21, \"Weekend Service Hours\": 0.5, \"Weekday Service Hours\": 0.5}, {\"Transit Operator\": \"Bay Area 511 Capitol Corridor Schedule\", \"Month\": \"2023-04\", \"Weekend or Weekday\": \"Sunday\", \"Departure Hour\": 22, \"Weekend Service Hours\": 0.5, \"Weekday Service Hours\": 0.5}], \"data-61fdb03b01e6f6ac9797744d36eb9ca4\": [{\"index\": 0, \"start\": 0, \"stop\": 3.99, \"time_period\": \"Owl:12-3:59AM\"}, {\"index\": 1, \"start\": 4, \"stop\": 6.99, \"time_period\": \"Early AM:4-6:59AM\"}, {\"index\": 2, \"start\": 7, \"stop\": 9.99, \"time_period\": \"AM Peak:7-9:59AM\"}, {\"index\": 3, \"start\": 10, \"stop\": 14.99, \"time_period\": \"Midday:10AM-2:59PM\"}, {\"index\": 4, \"start\": 15, \"stop\": 18.99, \"time_period\": \"PM Peak:3-7:59PM\"}, {\"index\": 5, \"start\": 19, \"stop\": 24.0, \"time_period\": \"Evening:8-11:59PM\"}]}}, {\"mode\": \"vega-lite\"});\n",
       "</script>"
      ],
      "text/plain": [
       "alt.LayerChart(...)"
      ]
     },
     "metadata": {},
     "output_type": "display_data"
    }
   ],
   "source": [
    "try:\n",
    "    display(\n",
    "        section1.create_service_hour_chart(\n",
    "            scheduled_service, \"Sunday\",  \"Weekend Service Hours\", \"\"\n",
    "        )\n",
    "    )\n",
    "except:\n",
    "    pass"
   ]
  },
  {
   "cell_type": "markdown",
   "id": "43045583-c228-4fe1-9b49-b7b20d9352ae",
   "metadata": {},
   "source": [
    "## Metrics for All Routes "
   ]
  },
  {
   "cell_type": "code",
   "execution_count": 25,
   "id": "5837257e-9a54-4c36-8130-d0e6ff709025",
   "metadata": {},
   "outputs": [
    {
     "data": {
      "text/html": [
       "\n",
       "<style>\n",
       "  #altair-viz-0ea3e26e230e4e5d8203988685bb64c1.vega-embed {\n",
       "    width: 100%;\n",
       "    display: flex;\n",
       "  }\n",
       "\n",
       "  #altair-viz-0ea3e26e230e4e5d8203988685bb64c1.vega-embed details,\n",
       "  #altair-viz-0ea3e26e230e4e5d8203988685bb64c1.vega-embed details summary {\n",
       "    position: relative;\n",
       "  }\n",
       "</style>\n",
       "<div id=\"altair-viz-0ea3e26e230e4e5d8203988685bb64c1\"></div>\n",
       "<script type=\"text/javascript\">\n",
       "  var VEGA_DEBUG = (typeof VEGA_DEBUG == \"undefined\") ? {} : VEGA_DEBUG;\n",
       "  (function(spec, embedOpt){\n",
       "    let outputDiv = document.currentScript.previousElementSibling;\n",
       "    if (outputDiv.id !== \"altair-viz-0ea3e26e230e4e5d8203988685bb64c1\") {\n",
       "      outputDiv = document.getElementById(\"altair-viz-0ea3e26e230e4e5d8203988685bb64c1\");\n",
       "    }\n",
       "    const paths = {\n",
       "      \"vega\": \"https://cdn.jsdelivr.net/npm/vega@5?noext\",\n",
       "      \"vega-lib\": \"https://cdn.jsdelivr.net/npm/vega-lib?noext\",\n",
       "      \"vega-lite\": \"https://cdn.jsdelivr.net/npm/vega-lite@5.17.0?noext\",\n",
       "      \"vega-embed\": \"https://cdn.jsdelivr.net/npm/vega-embed@6?noext\",\n",
       "    };\n",
       "\n",
       "    function maybeLoadScript(lib, version) {\n",
       "      var key = `${lib.replace(\"-\", \"\")}_version`;\n",
       "      return (VEGA_DEBUG[key] == version) ?\n",
       "        Promise.resolve(paths[lib]) :\n",
       "        new Promise(function(resolve, reject) {\n",
       "          var s = document.createElement('script');\n",
       "          document.getElementsByTagName(\"head\")[0].appendChild(s);\n",
       "          s.async = true;\n",
       "          s.onload = () => {\n",
       "            VEGA_DEBUG[key] = version;\n",
       "            return resolve(paths[lib]);\n",
       "          };\n",
       "          s.onerror = () => reject(`Error loading script: ${paths[lib]}`);\n",
       "          s.src = paths[lib];\n",
       "        });\n",
       "    }\n",
       "\n",
       "    function showError(err) {\n",
       "      outputDiv.innerHTML = `<div class=\"error\" style=\"color:red;\">${err}</div>`;\n",
       "      throw err;\n",
       "    }\n",
       "\n",
       "    function displayChart(vegaEmbed) {\n",
       "      vegaEmbed(outputDiv, spec, embedOpt)\n",
       "        .catch(err => showError(`Javascript Error: ${err.message}<br>This usually means there's a typo in your chart specification. See the javascript console for the full traceback.`));\n",
       "    }\n",
       "\n",
       "    if(typeof define === \"function\" && define.amd) {\n",
       "      requirejs.config({paths});\n",
       "      require([\"vega-embed\"], displayChart, err => showError(`Error loading script: ${err.message}`));\n",
       "    } else {\n",
       "      maybeLoadScript(\"vega\", \"5\")\n",
       "        .then(() => maybeLoadScript(\"vega-lite\", \"5.17.0\"))\n",
       "        .then(() => maybeLoadScript(\"vega-embed\", \"6\"))\n",
       "        .catch(showError)\n",
       "        .then(() => displayChart(vegaEmbed));\n",
       "    }\n",
       "  })({\"config\": {\"view\": {\"continuousWidth\": 300, \"continuousHeight\": 300}}, \"vconcat\": [{\"layer\": [{\"mark\": {\"type\": \"bar\", \"clip\": true, \"size\": 7}, \"encoding\": {\"color\": {\"field\": \"Spatial Accuracy (All Routes)\", \"scale\": {\"domain\": [0, 20, 40, 60, 80, 100], \"range\": [\"#dd217d\", \"#fc5c04\", \"#ff9c42\", \"#fcb40e\", \"#e9d868\", \"#ccbb44\"]}, \"title\": \"Spatial Accuracy (All Routes)\", \"type\": \"quantitative\"}, \"tooltip\": [{\"field\": \"Date\", \"type\": \"temporal\"}, {\"field\": \"Spatial Accuracy (All Routes)\", \"type\": \"quantitative\"}], \"x\": {\"axis\": {\"format\": \"%b %Y\", \"labelAngle\": -45}, \"field\": \"Date\", \"timeUnit\": \"yearmonthdate\", \"title\": [\"Date\"], \"type\": \"ordinal\"}, \"y\": {\"field\": \"Spatial Accuracy (All Routes)\", \"scale\": {\"domain\": [0, 65.0]}, \"title\": \"Spatial Accuracy (All Routes)\", \"type\": \"quantitative\"}}}, {\"mark\": {\"type\": \"rule\", \"color\": \"red\", \"strokeDash\": [10, 7]}, \"encoding\": {\"y\": {\"aggregate\": \"mean\", \"field\": \"ruler_100_pct\", \"type\": \"quantitative\"}}}], \"height\": 250, \"title\": {\"text\": \"Spatial Accuracy (All Routes)\", \"subtitle\": [\"The percentage of vehicle positions that fall within 35 meters of a route's scheduled shape (path) reflects the accuracy of the collected spatial data.\"]}, \"width\": 400}, {\"layer\": [{\"mark\": {\"type\": \"bar\", \"clip\": true, \"size\": 7}, \"encoding\": {\"color\": {\"field\": \"VP per Minute (All Routes)\", \"scale\": {\"domain\": [0, 1, 2, 3], \"range\": [\"#dd217d\", \"#fc5c04\", \"#fcb40e\", \"#ccbb44\"]}, \"title\": \"VP Per Minute (All Routes)\", \"type\": \"quantitative\"}, \"tooltip\": [{\"field\": \"Date\", \"type\": \"temporal\"}, {\"field\": \"VP per Minute (All Routes)\", \"type\": \"quantitative\"}], \"x\": {\"axis\": {\"format\": \"%b %Y\", \"labelAngle\": -45}, \"field\": \"Date\", \"timeUnit\": \"yearmonthdate\", \"title\": [\"Date\"], \"type\": \"ordinal\"}, \"y\": {\"field\": \"VP per Minute (All Routes)\", \"scale\": {\"domain\": [0, 3]}, \"title\": \"VP Per Minute (All Routes)\", \"type\": \"quantitative\"}}}, {\"mark\": {\"type\": \"rule\", \"color\": \"red\", \"strokeDash\": [10, 7]}, \"encoding\": {\"y\": {\"aggregate\": \"mean\", \"field\": \"ruler_for_vp_per_min\", \"type\": \"quantitative\"}}}], \"height\": 250, \"title\": {\"text\": \"Vehicle Positions per Minute (All Routes)\", \"subtitle\": [\"Trips should have 2+ VPs per minute. This metric reflects the accuracy of the temporal data collected.\"]}, \"width\": 400}], \"data\": {\"name\": \"data-349f951730314bf1c48ee7c509c5d673\"}, \"resolve\": {\"scale\": {\"color\": \"independent\"}}, \"$schema\": \"https://vega.github.io/schema/vega-lite/v5.17.0.json\", \"datasets\": {\"data-349f951730314bf1c48ee7c509c5d673\": [{\"schedule_gtfs_dataset_key\": \"f5a749dd65924e025b1293c58f95f8d6\", \"VP per Minute (All Routes)\": 2.61, \"Spatial Accuracy (All Routes)\": 54.94, \"Date\": \"2023-11-15T00:00:00\", \"# Routes\": 3.0, \"# Trips\": 57.0, \"# Shapes\": 13.0, \"# Stops\": 20.0, \"# Arrivals\": 378.0, \"Operator Service Miles\": 233.81, \"Avg Arrivals per Stop\": 18.9, \"# Downtown Local Route Types\": 0.0, \"# Local Route Types\": 0.0, \"# Coverage Route Types\": 1.0, \"# Rapid Route Types\": 0.0, \"# Express Route Types\": 0.0, \"# Rail Route Types\": 0.0, \"Transit Operator\": \"Bay Area 511 Capitol Corridor Schedule\", \"Organization ID\": \"recvEBkSBc7UxlarC\", \"Organization\": \"Capitol Corridor Joint Powers Authority\", \"District\": \"04 - Oakland\", \"counties_served\": null, \"service_area_sq_miles\": null, \"hq_city\": null, \"service_area_pop\": null, \"organization_type\": null, \"primary_uza_name\": null, \"reporter_type\": null, \"ruler_100_pct\": 100, \"ruler_for_vp_per_min\": 2}, {\"schedule_gtfs_dataset_key\": \"f5a749dd65924e025b1293c58f95f8d6\", \"VP per Minute (All Routes)\": 2.38, \"Spatial Accuracy (All Routes)\": 53.71, \"Date\": \"2023-12-13T00:00:00\", \"# Routes\": 3.0, \"# Trips\": 57.0, \"# Shapes\": 13.0, \"# Stops\": 20.0, \"# Arrivals\": 378.0, \"Operator Service Miles\": 233.81, \"Avg Arrivals per Stop\": 18.9, \"# Downtown Local Route Types\": 0.0, \"# Local Route Types\": 0.0, \"# Coverage Route Types\": 1.0, \"# Rapid Route Types\": 0.0, \"# Express Route Types\": 0.0, \"# Rail Route Types\": 0.0, \"Transit Operator\": \"Bay Area 511 Capitol Corridor Schedule\", \"Organization ID\": \"recvEBkSBc7UxlarC\", \"Organization\": \"Capitol Corridor Joint Powers Authority\", \"District\": \"04 - Oakland\", \"counties_served\": null, \"service_area_sq_miles\": null, \"hq_city\": null, \"service_area_pop\": null, \"organization_type\": null, \"primary_uza_name\": null, \"reporter_type\": null, \"ruler_100_pct\": 100, \"ruler_for_vp_per_min\": 2}, {\"schedule_gtfs_dataset_key\": \"f5a749dd65924e025b1293c58f95f8d6\", \"VP per Minute (All Routes)\": 3.0, \"Spatial Accuracy (All Routes)\": 54.99, \"Date\": \"2024-01-17T00:00:00\", \"# Routes\": 3.0, \"# Trips\": 57.0, \"# Shapes\": 13.0, \"# Stops\": 20.0, \"# Arrivals\": 378.0, \"Operator Service Miles\": 233.68, \"Avg Arrivals per Stop\": 18.9, \"# Downtown Local Route Types\": 0.0, \"# Local Route Types\": 0.0, \"# Coverage Route Types\": 1.0, \"# Rapid Route Types\": 0.0, \"# Express Route Types\": 0.0, \"# Rail Route Types\": 0.0, \"Transit Operator\": \"Bay Area 511 Capitol Corridor Schedule\", \"Organization ID\": \"recvEBkSBc7UxlarC\", \"Organization\": \"Capitol Corridor Joint Powers Authority\", \"District\": \"04 - Oakland\", \"counties_served\": null, \"service_area_sq_miles\": null, \"hq_city\": null, \"service_area_pop\": null, \"organization_type\": null, \"primary_uza_name\": null, \"reporter_type\": null, \"ruler_100_pct\": 100, \"ruler_for_vp_per_min\": 2}, {\"schedule_gtfs_dataset_key\": \"f5a749dd65924e025b1293c58f95f8d6\", \"VP per Minute (All Routes)\": 2.88, \"Spatial Accuracy (All Routes)\": 59.47, \"Date\": \"2024-02-14T00:00:00\", \"# Routes\": 3.0, \"# Trips\": 57.0, \"# Shapes\": 13.0, \"# Stops\": 20.0, \"# Arrivals\": 378.0, \"Operator Service Miles\": 233.68, \"Avg Arrivals per Stop\": 18.9, \"# Downtown Local Route Types\": 0.0, \"# Local Route Types\": 0.0, \"# Coverage Route Types\": 1.0, \"# Rapid Route Types\": 0.0, \"# Express Route Types\": 0.0, \"# Rail Route Types\": 0.0, \"Transit Operator\": \"Bay Area 511 Capitol Corridor Schedule\", \"Organization ID\": \"recvEBkSBc7UxlarC\", \"Organization\": \"Capitol Corridor Joint Powers Authority\", \"District\": \"04 - Oakland\", \"counties_served\": null, \"service_area_sq_miles\": null, \"hq_city\": null, \"service_area_pop\": null, \"organization_type\": null, \"primary_uza_name\": null, \"reporter_type\": null, \"ruler_100_pct\": 100, \"ruler_for_vp_per_min\": 2}, {\"schedule_gtfs_dataset_key\": \"f5a749dd65924e025b1293c58f95f8d6\", \"VP per Minute (All Routes)\": 3.0, \"Spatial Accuracy (All Routes)\": 56.32, \"Date\": \"2024-03-13T00:00:00\", \"# Routes\": 3.0, \"# Trips\": 57.0, \"# Shapes\": 13.0, \"# Stops\": 20.0, \"# Arrivals\": 378.0, \"Operator Service Miles\": 233.68, \"Avg Arrivals per Stop\": 18.9, \"# Downtown Local Route Types\": 0.0, \"# Local Route Types\": 0.0, \"# Coverage Route Types\": 1.0, \"# Rapid Route Types\": 0.0, \"# Express Route Types\": 0.0, \"# Rail Route Types\": 0.0, \"Transit Operator\": \"Bay Area 511 Capitol Corridor Schedule\", \"Organization ID\": \"recvEBkSBc7UxlarC\", \"Organization\": \"Capitol Corridor Joint Powers Authority\", \"District\": \"04 - Oakland\", \"counties_served\": null, \"service_area_sq_miles\": null, \"hq_city\": null, \"service_area_pop\": null, \"organization_type\": null, \"primary_uza_name\": null, \"reporter_type\": null, \"ruler_100_pct\": 100, \"ruler_for_vp_per_min\": 2}, {\"schedule_gtfs_dataset_key\": \"f5a749dd65924e025b1293c58f95f8d6\", \"VP per Minute (All Routes)\": 3.0, \"Spatial Accuracy (All Routes)\": 0.0, \"Date\": \"2024-04-17T00:00:00\", \"# Routes\": 3.0, \"# Trips\": 57.0, \"# Shapes\": 13.0, \"# Stops\": 20.0, \"# Arrivals\": 378.0, \"Operator Service Miles\": 233.68, \"Avg Arrivals per Stop\": 18.9, \"# Downtown Local Route Types\": 0.0, \"# Local Route Types\": 0.0, \"# Coverage Route Types\": 1.0, \"# Rapid Route Types\": 0.0, \"# Express Route Types\": 0.0, \"# Rail Route Types\": 0.0, \"Transit Operator\": \"Bay Area 511 Capitol Corridor Schedule\", \"Organization ID\": \"recvEBkSBc7UxlarC\", \"Organization\": \"Capitol Corridor Joint Powers Authority\", \"District\": \"04 - Oakland\", \"counties_served\": null, \"service_area_sq_miles\": null, \"hq_city\": null, \"service_area_pop\": null, \"organization_type\": null, \"primary_uza_name\": null, \"reporter_type\": null, \"ruler_100_pct\": 100, \"ruler_for_vp_per_min\": 2}, {\"schedule_gtfs_dataset_key\": \"f5a749dd65924e025b1293c58f95f8d6\", \"VP per Minute (All Routes)\": 3.0, \"Spatial Accuracy (All Routes)\": 0.0, \"Date\": \"2024-05-22T00:00:00\", \"# Routes\": 3.0, \"# Trips\": 57.0, \"# Shapes\": 13.0, \"# Stops\": 20.0, \"# Arrivals\": 378.0, \"Operator Service Miles\": 233.57, \"Avg Arrivals per Stop\": 18.9, \"# Downtown Local Route Types\": 0.0, \"# Local Route Types\": 0.0, \"# Coverage Route Types\": 1.0, \"# Rapid Route Types\": 0.0, \"# Express Route Types\": 0.0, \"# Rail Route Types\": 0.0, \"Transit Operator\": \"Bay Area 511 Capitol Corridor Schedule\", \"Organization ID\": \"recvEBkSBc7UxlarC\", \"Organization\": \"Capitol Corridor Joint Powers Authority\", \"District\": \"04 - Oakland\", \"counties_served\": null, \"service_area_sq_miles\": null, \"hq_city\": null, \"service_area_pop\": null, \"organization_type\": null, \"primary_uza_name\": null, \"reporter_type\": null, \"ruler_100_pct\": 100, \"ruler_for_vp_per_min\": 2}, {\"schedule_gtfs_dataset_key\": \"f5a749dd65924e025b1293c58f95f8d6\", \"VP per Minute (All Routes)\": 2.99, \"Spatial Accuracy (All Routes)\": 0.0, \"Date\": \"2024-06-12T00:00:00\", \"# Routes\": 3.0, \"# Trips\": 57.0, \"# Shapes\": 13.0, \"# Stops\": 20.0, \"# Arrivals\": 378.0, \"Operator Service Miles\": 233.57, \"Avg Arrivals per Stop\": 18.9, \"# Downtown Local Route Types\": 0.0, \"# Local Route Types\": 0.0, \"# Coverage Route Types\": 1.0, \"# Rapid Route Types\": 0.0, \"# Express Route Types\": 0.0, \"# Rail Route Types\": 0.0, \"Transit Operator\": \"Bay Area 511 Capitol Corridor Schedule\", \"Organization ID\": \"recvEBkSBc7UxlarC\", \"Organization\": \"Capitol Corridor Joint Powers Authority\", \"District\": \"04 - Oakland\", \"counties_served\": null, \"service_area_sq_miles\": null, \"hq_city\": null, \"service_area_pop\": null, \"organization_type\": null, \"primary_uza_name\": null, \"reporter_type\": null, \"ruler_100_pct\": 100, \"ruler_for_vp_per_min\": 2}, {\"schedule_gtfs_dataset_key\": \"f5a749dd65924e025b1293c58f95f8d6\", \"VP per Minute (All Routes)\": 3.0, \"Spatial Accuracy (All Routes)\": 0.0, \"Date\": \"2024-07-17T00:00:00\", \"# Routes\": 3.0, \"# Trips\": 57.0, \"# Shapes\": 13.0, \"# Stops\": 20.0, \"# Arrivals\": 378.0, \"Operator Service Miles\": 233.57, \"Avg Arrivals per Stop\": 18.9, \"# Downtown Local Route Types\": 0.0, \"# Local Route Types\": 0.0, \"# Coverage Route Types\": 1.0, \"# Rapid Route Types\": 0.0, \"# Express Route Types\": 0.0, \"# Rail Route Types\": 0.0, \"Transit Operator\": \"Bay Area 511 Capitol Corridor Schedule\", \"Organization ID\": \"recvEBkSBc7UxlarC\", \"Organization\": \"Capitol Corridor Joint Powers Authority\", \"District\": \"04 - Oakland\", \"counties_served\": null, \"service_area_sq_miles\": null, \"hq_city\": null, \"service_area_pop\": null, \"organization_type\": null, \"primary_uza_name\": null, \"reporter_type\": null, \"ruler_100_pct\": 100, \"ruler_for_vp_per_min\": 2}, {\"schedule_gtfs_dataset_key\": \"f5a749dd65924e025b1293c58f95f8d6\", \"VP per Minute (All Routes)\": 2.73, \"Spatial Accuracy (All Routes)\": 0.0, \"Date\": \"2024-08-14T00:00:00\", \"# Routes\": 3.0, \"# Trips\": 57.0, \"# Shapes\": 13.0, \"# Stops\": 20.0, \"# Arrivals\": 378.0, \"Operator Service Miles\": 233.57, \"Avg Arrivals per Stop\": 18.9, \"# Downtown Local Route Types\": 0.0, \"# Local Route Types\": 0.0, \"# Coverage Route Types\": 1.0, \"# Rapid Route Types\": 0.0, \"# Express Route Types\": 0.0, \"# Rail Route Types\": 0.0, \"Transit Operator\": \"Bay Area 511 Capitol Corridor Schedule\", \"Organization ID\": \"recvEBkSBc7UxlarC\", \"Organization\": \"Capitol Corridor Joint Powers Authority\", \"District\": \"04 - Oakland\", \"counties_served\": null, \"service_area_sq_miles\": null, \"hq_city\": null, \"service_area_pop\": null, \"organization_type\": null, \"primary_uza_name\": null, \"reporter_type\": null, \"ruler_100_pct\": 100, \"ruler_for_vp_per_min\": 2}, {\"schedule_gtfs_dataset_key\": \"f5a749dd65924e025b1293c58f95f8d6\", \"VP per Minute (All Routes)\": 3.0, \"Spatial Accuracy (All Routes)\": 0.0, \"Date\": \"2024-09-18T00:00:00\", \"# Routes\": 3.0, \"# Trips\": 57.0, \"# Shapes\": 13.0, \"# Stops\": 20.0, \"# Arrivals\": 378.0, \"Operator Service Miles\": 233.57, \"Avg Arrivals per Stop\": 18.9, \"# Downtown Local Route Types\": 0.0, \"# Local Route Types\": 0.0, \"# Coverage Route Types\": 1.0, \"# Rapid Route Types\": 0.0, \"# Express Route Types\": 0.0, \"# Rail Route Types\": 0.0, \"Transit Operator\": \"Bay Area 511 Capitol Corridor Schedule\", \"Organization ID\": \"recvEBkSBc7UxlarC\", \"Organization\": \"Capitol Corridor Joint Powers Authority\", \"District\": \"04 - Oakland\", \"counties_served\": null, \"service_area_sq_miles\": null, \"hq_city\": null, \"service_area_pop\": null, \"organization_type\": null, \"primary_uza_name\": null, \"reporter_type\": null, \"ruler_100_pct\": 100, \"ruler_for_vp_per_min\": 2}, {\"schedule_gtfs_dataset_key\": \"f5a749dd65924e025b1293c58f95f8d6\", \"VP per Minute (All Routes)\": 2.99, \"Spatial Accuracy (All Routes)\": 0.0, \"Date\": \"2024-10-16T00:00:00\", \"# Routes\": 3.0, \"# Trips\": 57.0, \"# Shapes\": 13.0, \"# Stops\": 20.0, \"# Arrivals\": 378.0, \"Operator Service Miles\": 233.57, \"Avg Arrivals per Stop\": 18.9, \"# Downtown Local Route Types\": 0.0, \"# Local Route Types\": 0.0, \"# Coverage Route Types\": 1.0, \"# Rapid Route Types\": 0.0, \"# Express Route Types\": 0.0, \"# Rail Route Types\": 0.0, \"Transit Operator\": \"Bay Area 511 Capitol Corridor Schedule\", \"Organization ID\": \"recvEBkSBc7UxlarC\", \"Organization\": \"Capitol Corridor Joint Powers Authority\", \"District\": \"04 - Oakland\", \"counties_served\": null, \"service_area_sq_miles\": null, \"hq_city\": null, \"service_area_pop\": null, \"organization_type\": null, \"primary_uza_name\": null, \"reporter_type\": null, \"ruler_100_pct\": 100, \"ruler_for_vp_per_min\": 2}, {\"schedule_gtfs_dataset_key\": \"f5a749dd65924e025b1293c58f95f8d6\", \"VP per Minute (All Routes)\": 3.0, \"Spatial Accuracy (All Routes)\": 0.0, \"Date\": \"2024-11-13T00:00:00\", \"# Routes\": 3.0, \"# Trips\": 57.0, \"# Shapes\": 13.0, \"# Stops\": 20.0, \"# Arrivals\": 378.0, \"Operator Service Miles\": 233.57, \"Avg Arrivals per Stop\": 18.9, \"# Downtown Local Route Types\": 0.0, \"# Local Route Types\": 0.0, \"# Coverage Route Types\": 1.0, \"# Rapid Route Types\": 0.0, \"# Express Route Types\": 0.0, \"# Rail Route Types\": 0.0, \"Transit Operator\": \"Bay Area 511 Capitol Corridor Schedule\", \"Organization ID\": \"recvEBkSBc7UxlarC\", \"Organization\": \"Capitol Corridor Joint Powers Authority\", \"District\": \"04 - Oakland\", \"counties_served\": null, \"service_area_sq_miles\": null, \"hq_city\": null, \"service_area_pop\": null, \"organization_type\": null, \"primary_uza_name\": null, \"reporter_type\": null, \"ruler_100_pct\": 100, \"ruler_for_vp_per_min\": 2}, {\"schedule_gtfs_dataset_key\": \"f5a749dd65924e025b1293c58f95f8d6\", \"VP per Minute (All Routes)\": 2.57, \"Spatial Accuracy (All Routes)\": 0.0, \"Date\": \"2024-12-11T00:00:00\", \"# Routes\": 3.0, \"# Trips\": 57.0, \"# Shapes\": 13.0, \"# Stops\": 20.0, \"# Arrivals\": 378.0, \"Operator Service Miles\": 233.57, \"Avg Arrivals per Stop\": 18.9, \"# Downtown Local Route Types\": 0.0, \"# Local Route Types\": 0.0, \"# Coverage Route Types\": 1.0, \"# Rapid Route Types\": 0.0, \"# Express Route Types\": 0.0, \"# Rail Route Types\": 0.0, \"Transit Operator\": \"Bay Area 511 Capitol Corridor Schedule\", \"Organization ID\": \"recvEBkSBc7UxlarC\", \"Organization\": \"Capitol Corridor Joint Powers Authority\", \"District\": \"04 - Oakland\", \"counties_served\": null, \"service_area_sq_miles\": null, \"hq_city\": null, \"service_area_pop\": null, \"organization_type\": null, \"primary_uza_name\": null, \"reporter_type\": null, \"ruler_100_pct\": 100, \"ruler_for_vp_per_min\": 2}, {\"schedule_gtfs_dataset_key\": \"f5a749dd65924e025b1293c58f95f8d6\", \"VP per Minute (All Routes)\": null, \"Spatial Accuracy (All Routes)\": null, \"Date\": \"2023-03-15T00:00:00\", \"# Routes\": 3.0, \"# Trips\": 58.0, \"# Shapes\": 13.0, \"# Stops\": 20.0, \"# Arrivals\": 380.0, \"Operator Service Miles\": 233.81, \"Avg Arrivals per Stop\": 19.0, \"# Downtown Local Route Types\": 0.0, \"# Local Route Types\": 0.0, \"# Coverage Route Types\": 1.0, \"# Rapid Route Types\": 0.0, \"# Express Route Types\": 0.0, \"# Rail Route Types\": 0.0, \"Transit Operator\": \"Bay Area 511 Capitol Corridor Schedule\", \"Organization ID\": \"recvEBkSBc7UxlarC\", \"Organization\": \"Capitol Corridor Joint Powers Authority\", \"District\": \"04 - Oakland\", \"counties_served\": null, \"service_area_sq_miles\": null, \"hq_city\": null, \"service_area_pop\": null, \"organization_type\": null, \"primary_uza_name\": null, \"reporter_type\": null, \"ruler_100_pct\": 100, \"ruler_for_vp_per_min\": 2}, {\"schedule_gtfs_dataset_key\": \"f5a749dd65924e025b1293c58f95f8d6\", \"VP per Minute (All Routes)\": null, \"Spatial Accuracy (All Routes)\": null, \"Date\": \"2023-04-12T00:00:00\", \"# Routes\": 3.0, \"# Trips\": 57.0, \"# Shapes\": 13.0, \"# Stops\": 20.0, \"# Arrivals\": 378.0, \"Operator Service Miles\": 233.81, \"Avg Arrivals per Stop\": 18.9, \"# Downtown Local Route Types\": 0.0, \"# Local Route Types\": 0.0, \"# Coverage Route Types\": 1.0, \"# Rapid Route Types\": 0.0, \"# Express Route Types\": 0.0, \"# Rail Route Types\": 0.0, \"Transit Operator\": \"Bay Area 511 Capitol Corridor Schedule\", \"Organization ID\": \"recvEBkSBc7UxlarC\", \"Organization\": \"Capitol Corridor Joint Powers Authority\", \"District\": \"04 - Oakland\", \"counties_served\": null, \"service_area_sq_miles\": null, \"hq_city\": null, \"service_area_pop\": null, \"organization_type\": null, \"primary_uza_name\": null, \"reporter_type\": null, \"ruler_100_pct\": 100, \"ruler_for_vp_per_min\": 2}, {\"schedule_gtfs_dataset_key\": \"f5a749dd65924e025b1293c58f95f8d6\", \"VP per Minute (All Routes)\": null, \"Spatial Accuracy (All Routes)\": null, \"Date\": \"2023-05-17T00:00:00\", \"# Routes\": 3.0, \"# Trips\": 57.0, \"# Shapes\": 13.0, \"# Stops\": 20.0, \"# Arrivals\": 378.0, \"Operator Service Miles\": 233.81, \"Avg Arrivals per Stop\": 18.9, \"# Downtown Local Route Types\": 0.0, \"# Local Route Types\": 0.0, \"# Coverage Route Types\": 1.0, \"# Rapid Route Types\": 0.0, \"# Express Route Types\": 0.0, \"# Rail Route Types\": 0.0, \"Transit Operator\": \"Bay Area 511 Capitol Corridor Schedule\", \"Organization ID\": \"recvEBkSBc7UxlarC\", \"Organization\": \"Capitol Corridor Joint Powers Authority\", \"District\": \"04 - Oakland\", \"counties_served\": null, \"service_area_sq_miles\": null, \"hq_city\": null, \"service_area_pop\": null, \"organization_type\": null, \"primary_uza_name\": null, \"reporter_type\": null, \"ruler_100_pct\": 100, \"ruler_for_vp_per_min\": 2}, {\"schedule_gtfs_dataset_key\": \"f5a749dd65924e025b1293c58f95f8d6\", \"VP per Minute (All Routes)\": null, \"Spatial Accuracy (All Routes)\": null, \"Date\": \"2023-06-14T00:00:00\", \"# Routes\": 3.0, \"# Trips\": 57.0, \"# Shapes\": 13.0, \"# Stops\": 20.0, \"# Arrivals\": 378.0, \"Operator Service Miles\": 233.81, \"Avg Arrivals per Stop\": 18.9, \"# Downtown Local Route Types\": 0.0, \"# Local Route Types\": 0.0, \"# Coverage Route Types\": 1.0, \"# Rapid Route Types\": 0.0, \"# Express Route Types\": 0.0, \"# Rail Route Types\": 0.0, \"Transit Operator\": \"Bay Area 511 Capitol Corridor Schedule\", \"Organization ID\": \"recvEBkSBc7UxlarC\", \"Organization\": \"Capitol Corridor Joint Powers Authority\", \"District\": \"04 - Oakland\", \"counties_served\": null, \"service_area_sq_miles\": null, \"hq_city\": null, \"service_area_pop\": null, \"organization_type\": null, \"primary_uza_name\": null, \"reporter_type\": null, \"ruler_100_pct\": 100, \"ruler_for_vp_per_min\": 2}, {\"schedule_gtfs_dataset_key\": \"f5a749dd65924e025b1293c58f95f8d6\", \"VP per Minute (All Routes)\": null, \"Spatial Accuracy (All Routes)\": null, \"Date\": \"2023-07-12T00:00:00\", \"# Routes\": 3.0, \"# Trips\": 57.0, \"# Shapes\": 13.0, \"# Stops\": 20.0, \"# Arrivals\": 378.0, \"Operator Service Miles\": 233.81, \"Avg Arrivals per Stop\": 18.9, \"# Downtown Local Route Types\": 0.0, \"# Local Route Types\": 0.0, \"# Coverage Route Types\": 1.0, \"# Rapid Route Types\": 0.0, \"# Express Route Types\": 0.0, \"# Rail Route Types\": 0.0, \"Transit Operator\": \"Bay Area 511 Capitol Corridor Schedule\", \"Organization ID\": \"recvEBkSBc7UxlarC\", \"Organization\": \"Capitol Corridor Joint Powers Authority\", \"District\": \"04 - Oakland\", \"counties_served\": null, \"service_area_sq_miles\": null, \"hq_city\": null, \"service_area_pop\": null, \"organization_type\": null, \"primary_uza_name\": null, \"reporter_type\": null, \"ruler_100_pct\": 100, \"ruler_for_vp_per_min\": 2}, {\"schedule_gtfs_dataset_key\": \"f5a749dd65924e025b1293c58f95f8d6\", \"VP per Minute (All Routes)\": null, \"Spatial Accuracy (All Routes)\": null, \"Date\": \"2023-08-15T00:00:00\", \"# Routes\": 3.0, \"# Trips\": 57.0, \"# Shapes\": 13.0, \"# Stops\": 20.0, \"# Arrivals\": 378.0, \"Operator Service Miles\": 233.81, \"Avg Arrivals per Stop\": 18.9, \"# Downtown Local Route Types\": 0.0, \"# Local Route Types\": 0.0, \"# Coverage Route Types\": 1.0, \"# Rapid Route Types\": 0.0, \"# Express Route Types\": 0.0, \"# Rail Route Types\": 0.0, \"Transit Operator\": \"Bay Area 511 Capitol Corridor Schedule\", \"Organization ID\": \"recvEBkSBc7UxlarC\", \"Organization\": \"Capitol Corridor Joint Powers Authority\", \"District\": \"04 - Oakland\", \"counties_served\": null, \"service_area_sq_miles\": null, \"hq_city\": null, \"service_area_pop\": null, \"organization_type\": null, \"primary_uza_name\": null, \"reporter_type\": null, \"ruler_100_pct\": 100, \"ruler_for_vp_per_min\": 2}, {\"schedule_gtfs_dataset_key\": \"f5a749dd65924e025b1293c58f95f8d6\", \"VP per Minute (All Routes)\": null, \"Spatial Accuracy (All Routes)\": null, \"Date\": \"2023-09-13T00:00:00\", \"# Routes\": 3.0, \"# Trips\": 57.0, \"# Shapes\": 13.0, \"# Stops\": 20.0, \"# Arrivals\": 378.0, \"Operator Service Miles\": 233.81, \"Avg Arrivals per Stop\": 18.9, \"# Downtown Local Route Types\": 0.0, \"# Local Route Types\": 0.0, \"# Coverage Route Types\": 1.0, \"# Rapid Route Types\": 0.0, \"# Express Route Types\": 0.0, \"# Rail Route Types\": 0.0, \"Transit Operator\": \"Bay Area 511 Capitol Corridor Schedule\", \"Organization ID\": \"recvEBkSBc7UxlarC\", \"Organization\": \"Capitol Corridor Joint Powers Authority\", \"District\": \"04 - Oakland\", \"counties_served\": null, \"service_area_sq_miles\": null, \"hq_city\": null, \"service_area_pop\": null, \"organization_type\": null, \"primary_uza_name\": null, \"reporter_type\": null, \"ruler_100_pct\": 100, \"ruler_for_vp_per_min\": 2}, {\"schedule_gtfs_dataset_key\": \"f5a749dd65924e025b1293c58f95f8d6\", \"VP per Minute (All Routes)\": null, \"Spatial Accuracy (All Routes)\": null, \"Date\": \"2023-10-11T00:00:00\", \"# Routes\": 3.0, \"# Trips\": 57.0, \"# Shapes\": 13.0, \"# Stops\": 20.0, \"# Arrivals\": 378.0, \"Operator Service Miles\": 233.81, \"Avg Arrivals per Stop\": 18.9, \"# Downtown Local Route Types\": 0.0, \"# Local Route Types\": 0.0, \"# Coverage Route Types\": 1.0, \"# Rapid Route Types\": 0.0, \"# Express Route Types\": 0.0, \"# Rail Route Types\": 0.0, \"Transit Operator\": \"Bay Area 511 Capitol Corridor Schedule\", \"Organization ID\": \"recvEBkSBc7UxlarC\", \"Organization\": \"Capitol Corridor Joint Powers Authority\", \"District\": \"04 - Oakland\", \"counties_served\": null, \"service_area_sq_miles\": null, \"hq_city\": null, \"service_area_pop\": null, \"organization_type\": null, \"primary_uza_name\": null, \"reporter_type\": null, \"ruler_100_pct\": 100, \"ruler_for_vp_per_min\": 2}]}}, {\"mode\": \"vega-lite\"});\n",
       "</script>"
      ],
      "text/plain": [
       "alt.VConcatChart(...)"
      ]
     },
     "metadata": {},
     "output_type": "display_data"
    }
   ],
   "source": [
    "if len(agency_metrics_df)==0:\n",
    "    display(Markdown(f\"\"\"{organization_name} only has schedule data.\"\"\"))\n",
    "else:\n",
    "    display(section2.agency_overview(agency_metrics_df)) "
   ]
  },
  {
   "cell_type": "markdown",
   "id": "f1b398b9-63ec-4edf-860f-194fc08e3066",
   "metadata": {},
   "source": [
    "## Detailed Route Overview"
   ]
  },
  {
   "cell_type": "code",
   "execution_count": 26,
   "id": "fbbc04e8-bad4-4d76-84c3-6ba9b76a42c0",
   "metadata": {},
   "outputs": [
    {
     "data": {
      "text/markdown": [
       "Capitol Corridor Joint Powers Authority only has schedule data."
      ],
      "text/plain": [
       "<IPython.core.display.Markdown object>"
      ]
     },
     "metadata": {},
     "output_type": "display_data"
    }
   ],
   "source": [
    "try:\n",
    "    display(section2.filtered_route(sched_vp_df))\n",
    "except:\n",
    "    display(Markdown(f\"\"\"{organization_name} only has schedule data.\"\"\"))"
   ]
  }
 ],
 "metadata": {
  "kernelspec": {
   "display_name": "Python 3 (ipykernel)",
   "language": "python",
   "name": "python3"
  },
  "language_info": {
   "codemirror_mode": {
    "name": "ipython",
    "version": 3
   },
   "file_extension": ".py",
   "mimetype": "text/x-python",
   "name": "python",
   "nbconvert_exporter": "python",
   "pygments_lexer": "ipython3",
   "version": "3.9.13"
  }
 },
 "nbformat": 4,
 "nbformat_minor": 5
}
