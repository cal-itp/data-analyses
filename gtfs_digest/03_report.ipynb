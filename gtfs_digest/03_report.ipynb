{
 "cells": [
  {
   "cell_type": "code",
   "execution_count": 1,
   "id": "936e2c22-24ba-4f20-99d8-846cfe0a4e27",
   "metadata": {},
   "outputs": [],
   "source": [
    "%%capture\n",
    "\n",
    "import warnings\n",
    "\n",
    "warnings.filterwarnings(\"ignore\")\n",
    "import _report_operator_section1_utils as section1\n",
    "import _report_operator_section2_utils as section2\n",
    "import altair as alt\n",
    "import calitp_data_analysis.magics\n",
    "import deploy_portfolio_yaml\n",
    "import pandas as pd\n",
    "import yaml\n",
    "from IPython.display import HTML, Image, Markdown, display, display_html\n",
    "from shared_utils import catalog_utils, rt_dates, rt_utils\n",
    "\n",
    "with open(\"readable.yml\") as f:\n",
    "    readable_dict = yaml.safe_load(f)"
   ]
  },
  {
   "cell_type": "code",
   "execution_count": 2,
   "id": "b89867bd-a089-4033-97d7-d6d1ae50b697",
   "metadata": {},
   "outputs": [],
   "source": [
    "pd.options.display.max_columns = 100\n",
    "pd.options.display.float_format = \"{:.2f}\".format\n",
    "pd.set_option(\"display.max_rows\", None)\n",
    "pd.set_option(\"display.max_colwidth\", None)"
   ]
  },
  {
   "cell_type": "code",
   "execution_count": 3,
   "id": "6bd20d9d-a3af-430e-8c19-c90fb8ef9e62",
   "metadata": {
    "tags": [
     "parameters"
    ]
   },
   "outputs": [],
   "source": [
    "# Comment out and leave this cell right below pandas\n",
    "# portfolio_name = \"Capitol Corridor Joint Powers Authority\"\n",
    "portfolio_name = \"Yurok Tribe\"\n",
    "# portfolio_name = \"City of Santa Maria\"\n",
    "# portfolio_name = \"San Diego Schedule\"\n",
    "# portfolio_name = \"Marin County Transit District\""
   ]
  },
  {
   "cell_type": "code",
   "execution_count": 4,
   "id": "d870c492-ef2c-45f6-ab47-8d46eda7f344",
   "metadata": {
    "tags": [
     "parameters"
    ]
   },
   "outputs": [],
   "source": [
    "# %%capture_parameters\n",
    "# portfolio_name"
   ]
  },
  {
   "cell_type": "code",
   "execution_count": 5,
   "id": "2d6db4c9-6e19-4850-901d-8521268d02cc",
   "metadata": {
    "tags": []
   },
   "outputs": [],
   "source": [
    "# Load crosswalk between portfolio_name vs organization_name\n",
    "organization_name = deploy_portfolio_yaml.generate_operator_grain_yaml()"
   ]
  },
  {
   "cell_type": "code",
   "execution_count": 6,
   "id": "f72cbb4b-31cd-4a51-ba6a-3ca474e784ea",
   "metadata": {
    "tags": []
   },
   "outputs": [],
   "source": [
    "organization_name = organization_name.loc[\n",
    "    organization_name.portfolio_name == portfolio_name\n",
    "][\"organization_name\"].iloc[0]"
   ]
  },
  {
   "cell_type": "code",
   "execution_count": 7,
   "id": "b8e11fd2-041f-4e1d-a00f-6e000269c1a7",
   "metadata": {},
   "outputs": [],
   "source": [
    "# Load first dataset\n",
    "operator_profiles = section1.load_operator_ntd_profile(organization_name)"
   ]
  },
  {
   "cell_type": "code",
   "execution_count": 8,
   "id": "8e840f91-2e1a-4235-bf6b-0c049a569b4a",
   "metadata": {},
   "outputs": [],
   "source": [
    "# Need to load \"name\" using this function rather than taking it from\n",
    "# operator profiles above because \"name\" and \"organization_name\" differ.\n",
    "name = section1.organization_name_crosswalk(organization_name)"
   ]
  },
  {
   "cell_type": "code",
   "execution_count": 9,
   "id": "517702ae-a7ac-4cc4-a2d4-158fdc8d6919",
   "metadata": {},
   "outputs": [],
   "source": [
    "operator_route_map = section1.load_operator_map(name)\n",
    "\n",
    "# Find percentiles\n",
    "operator_route_map = section1.find_percentiles(operator_route_map, \"Service Miles\")"
   ]
  },
  {
   "cell_type": "code",
   "execution_count": 10,
   "id": "dd8b7a4c-7682-4949-9e9b-990ce6867627",
   "metadata": {},
   "outputs": [],
   "source": [
    "scheduled_service = section1.load_operator_service_hours(name)"
   ]
  },
  {
   "cell_type": "code",
   "execution_count": 11,
   "id": "72641974-01d5-47cf-b963-baf546e9e958",
   "metadata": {},
   "outputs": [],
   "source": [
    "# Dataset with agency metrics\n",
    "try:\n",
    "    agency_metrics_df = section2.load_operator_metrics(organization_name)\n",
    "except:\n",
    "    pass"
   ]
  },
  {
   "cell_type": "code",
   "execution_count": 12,
   "id": "f07ccefc-0d71-4ad0-8435-9e2941aba9b2",
   "metadata": {},
   "outputs": [],
   "source": [
    "# Dataset for Section 2: because not every operator has realtime data,\n",
    "# we need a try-except clause.\n",
    "try:\n",
    "    monthly_sched_vp_df, qtr_sched_vp_df = section2.load_schedule_vp_metrics(\n",
    "        organization_name\n",
    "    )\n",
    "except:\n",
    "    pass"
   ]
  },
  {
   "cell_type": "code",
   "execution_count": 13,
   "id": "67a74771-f5c1-4757-9f79-bc5e87fba09e",
   "metadata": {},
   "outputs": [
    {
     "data": {
      "text/html": [
       "\n",
       "<style>\n",
       "form.vega-bindings {\n",
       "  position: absolute;\n",
       "  right: 0px;\n",
       "  top: 0px;\n",
       "}\n",
       "</style>\n"
      ],
      "text/plain": [
       "<IPython.core.display.HTML object>"
      ]
     },
     "metadata": {},
     "output_type": "display_data"
    }
   ],
   "source": [
    "# Set drop down menu to be on the upper right for the charts\n",
    "display(\n",
    "    HTML(\n",
    "        \"\"\"\n",
    "<style>\n",
    "form.vega-bindings {\n",
    "  position: absolute;\n",
    "  right: 0px;\n",
    "  top: 0px;\n",
    "}\n",
    "</style>\n",
    "\"\"\"\n",
    "    )\n",
    ")"
   ]
  },
  {
   "cell_type": "markdown",
   "id": "38103db9-fd56-4cbf-9fa7-336da58fd3f6",
   "metadata": {
    "tags": [
     "parameters"
    ]
   },
   "source": [
    "# {portfolio_name}"
   ]
  },
  {
   "cell_type": "markdown",
   "id": "fd3a4d8d-b16a-4659-b036-f7710f423239",
   "metadata": {},
   "source": [
    "## Operator Overview"
   ]
  },
  {
   "cell_type": "code",
   "execution_count": 14,
   "id": "65e5efa4-e731-4429-ae8c-31f90dc4fbf0",
   "metadata": {},
   "outputs": [],
   "source": [
    "try:\n",
    "    date = operator_profiles[\"Date\"].dt.to_pydatetime()[0]\n",
    "except:\n",
    "    pass"
   ]
  },
  {
   "cell_type": "code",
   "execution_count": 15,
   "id": "c2bb8f59-af0f-4ab1-9b33-e9306ff5b92f",
   "metadata": {},
   "outputs": [],
   "source": [
    "try:\n",
    "    service_area = int(operator_profiles.service_area_sq_miles.values[0])\n",
    "    service_area = \"{:,}\".format(service_area)\n",
    "    service_pop = int(operator_profiles.service_area_pop.values[0])\n",
    "    service_pop = \"{:,}\".format(service_pop)\n",
    "    display(\n",
    "        Markdown(\n",
    "            f\"\"\"{portfolio_name} is headquartered in <b>{operator_profiles.hq_city.values[0]}</b> in the Urbanized Area of <b>{operator_profiles.primary_uza_name.values[0]}</b>.<br>\n",
    "            This operator provides <b>{service_area}</b> square miles of public transit service, which has a service population of <b>{service_pop}</b>.<br>\n",
    "            This organization is a {operator_profiles.organization_type.values[0]}.<br>\n",
    "            <b>Data Source</b>: <a href=\"https://www.transit.dot.gov/ntd/data-product/2022-annual-database-agency-information\">National Transit Database</a> Annual Agency Information.\n",
    "            \"\"\"\n",
    "        )\n",
    "    )\n",
    "except:\n",
    "    pass"
   ]
  },
  {
   "cell_type": "markdown",
   "id": "8b32e77d-e7da-4c22-a8bb-520063a61f9f",
   "metadata": {},
   "source": [
    "### Route Typologies"
   ]
  },
  {
   "cell_type": "code",
   "execution_count": 16,
   "id": "41803ddf-26e2-457a-aa58-c87379e755d8",
   "metadata": {},
   "outputs": [],
   "source": [
    "try:\n",
    "    display(\n",
    "        Markdown(\n",
    "            f\"\"\"The following data presents an overview of GTFS characteristics using data from the most recent date of\n",
    "      <b>{date.strftime(\"%B\")} {date.year}</b>.\"\"\"\n",
    "        )\n",
    "    )\n",
    "except:\n",
    "    pass"
   ]
  },
  {
   "cell_type": "code",
   "execution_count": 17,
   "id": "232e2002-d043-43c1-80d2-22c1183c66a1",
   "metadata": {},
   "outputs": [
    {
     "data": {
      "text/markdown": [
       "Yurok Tribe doesn't have an operator profile."
      ],
      "text/plain": [
       "<IPython.core.display.Markdown object>"
      ]
     },
     "metadata": {},
     "output_type": "display_data"
    }
   ],
   "source": [
    "try:\n",
    "    n_routes = operator_profiles[\"# Routes\"].values[0]\n",
    "    n_routes = \"{:,}\".format(n_routes)\n",
    "    display(\n",
    "        Markdown(\n",
    "            f\"\"\"{portfolio_name} runs <b>{n_routes}</b> unique routes. Below is the breakdown of the routes and routes can belong to one or more categories.<p>\n",
    "            Route categories are determined using a approach that looks at GTFS trips data\n",
    "        alongside National Association of City Transportation Officials (NACTO)'s\n",
    "        <a href=\"https://nacto.org/publication/transit-street-design-guide/introduction/service-context/transit-route-types/\">Transit Route Types</a> \n",
    "        and <a href= \"https://nacto.org/publication/transit-street-design-guide/introduction/service-context/transit-frequency-volume/\">Frequency and Volume</a>\n",
    "        guides. Please see the <a href=\"https://github.com/cal-itp/data-analyses/blob/main/gtfs_digest/methodology.md\">methodology docs</a> for more details on this approach.\n",
    "        \"\"\"\n",
    "        )\n",
    "    )\n",
    "except:\n",
    "    display(Markdown(f\"\"\"{portfolio_name} doesn't have an operator profile.\"\"\"))"
   ]
  },
  {
   "cell_type": "code",
   "execution_count": 18,
   "id": "c96d1998-9da6-4c28-aec6-c27ffd1edd88",
   "metadata": {},
   "outputs": [
    {
     "data": {
      "text/markdown": [
       "Yurok Tribe doesn't have route typology data available."
      ],
      "text/plain": [
       "<IPython.core.display.Markdown object>"
      ]
     },
     "metadata": {},
     "output_type": "display_data"
    }
   ],
   "source": [
    "try:\n",
    "    route_typology_df = section1.route_typology(operator_profiles)\n",
    "    display(\n",
    "        section1.basic_pie_chart(\n",
    "            route_typology_df,\n",
    "            \"route_type\",\n",
    "            \"total_routes\",\n",
    "            readable_dict[\"route_typology\"][\"title\"],\n",
    "            readable_dict[\"route_typology\"][\"subtitle\"],\n",
    "        )\n",
    "    )\n",
    "\n",
    "except:\n",
    "    display(\n",
    "        Markdown(f\"\"\"{portfolio_name} doesn't have route typology data available.\"\"\")\n",
    "    )"
   ]
  },
  {
   "cell_type": "markdown",
   "id": "cd6424cf-63ab-4c1f-982b-afbd1b8ed357",
   "metadata": {},
   "source": [
    "### Service Area"
   ]
  },
  {
   "cell_type": "code",
   "execution_count": 19,
   "id": "f7f617f8-338d-4ea0-99e7-25c1bfe62e06",
   "metadata": {},
   "outputs": [],
   "source": [
    "try:\n",
    "    n_service_miles = int(operator_profiles[\"Operator Service Miles\"].values[0])\n",
    "    n_service_miles = \"{:,}\".format(n_service_miles)\n",
    "\n",
    "    avg_service_miles = int(operator_route_map[\"Service Miles\"].mean())\n",
    "    avg_service_miles = \"{:,}\".format(avg_service_miles)\n",
    "\n",
    "    route_percentile_agg = section1.route_length_percentile(operator_route_map)\n",
    "\n",
    "    display(\n",
    "        Markdown(\n",
    "            f\"\"\"{portfolio_name} provides <b>{n_service_miles}</b> miles of public transit.\n",
    "        The average length of a route is <b>{avg_service_miles}</b> miles.<p> \n",
    "        \"\"\"\n",
    "        )\n",
    "    )\n",
    "\n",
    "    display(\n",
    "        section1.basic_bar_chart(\n",
    "            route_percentile_agg,\n",
    "            \"Total Unique Routes\",\n",
    "            \"percentile_group\",\n",
    "            readable_dict[\"route_percentiles\"][\"title\"],\n",
    "            readable_dict[\"route_percentiles\"][\"subtitle\"],\n",
    "        )\n",
    "    )\n",
    "\n",
    "    longest_shortest_df = section1.shortest_longest_route(operator_route_map)\n",
    "    display(\n",
    "        section1.basic_bar_chart(\n",
    "            longest_shortest_df,\n",
    "            \"Service Miles\",\n",
    "            \"Route\",\n",
    "            readable_dict[\"longest_shortest_route\"][\"title\"],\n",
    "            readable_dict[\"longest_shortest_route\"][\"subtitle\"],\n",
    "        )\n",
    "    )\n",
    "except:\n",
    "    pass"
   ]
  },
  {
   "cell_type": "code",
   "execution_count": 20,
   "id": "daaf9009-6a25-441e-a58d-66b60d04d35c",
   "metadata": {},
   "outputs": [],
   "source": [
    "try:\n",
    "    n_stops = int(operator_profiles[\"# Stops\"].values[0])\n",
    "    n_stops = \"{:,}\".format(n_stops)\n",
    "\n",
    "    n_arrivals = int(operator_profiles[\"# Arrivals\"].values[0])\n",
    "    n_arrivals = \"{:,}\".format(n_arrivals)\n",
    "\n",
    "    mean_arrivals = int(operator_profiles[\"Avg Arrivals per Stop\"].values[0])\n",
    "    mean_arrivals = \"{:,}\".format(mean_arrivals)\n",
    "    display(\n",
    "        Markdown(\n",
    "            f\"\"\"{portfolio_name} stops at <b>{n_stops}</b> unique stops, \n",
    "            totaling to <b>{n_arrivals}</b> arrivals. The average arrivals per stop \n",
    "            is <b>{mean_arrivals}</b>.\n",
    "        \"\"\"\n",
    "        )\n",
    "    )\n",
    "except:\n",
    "    pass"
   ]
  },
  {
   "cell_type": "code",
   "execution_count": 21,
   "id": "821bca2d-7fdd-4e81-af9b-c02deabfe837",
   "metadata": {},
   "outputs": [
    {
     "data": {
      "text/markdown": [
       "Yurok Tribe provides public transit in Humboldt counties."
      ],
      "text/plain": [
       "<IPython.core.display.Markdown object>"
      ]
     },
     "metadata": {},
     "output_type": "display_data"
    }
   ],
   "source": [
    "try:\n",
    "    counties_df = section1.counties_served(operator_route_map)\n",
    "    display(\n",
    "        Markdown(\n",
    "            f\"{portfolio_name} provides public transit in {counties_df['all'].values[0]} counties.\"\n",
    "        )\n",
    "    )\n",
    "except:\n",
    "    display(Markdown(f\"\"\"{portfolio_name} doesn't have an route geographies.\"\"\"))"
   ]
  },
  {
   "cell_type": "markdown",
   "id": "4a9d35a4-088a-4f74-ac4b-dff59b9f427a",
   "metadata": {},
   "source": [
    "### Map of Routes"
   ]
  },
  {
   "cell_type": "code",
   "execution_count": 22,
   "id": "1c89d07e-34dd-4c70-8ae4-0e427d10a6d7",
   "metadata": {},
   "outputs": [
    {
     "data": {
      "text/markdown": [
       "Yurok Tribe doesn't have an route geographies."
      ],
      "text/plain": [
       "<IPython.core.display.Markdown object>"
      ]
     },
     "metadata": {},
     "output_type": "display_data"
    }
   ],
   "source": [
    "try:\n",
    "    display(\n",
    "        operator_route_map.explore(\n",
    "            \"Route\",\n",
    "            cmap=\"Spectral\",\n",
    "            tiles=\"CartoDB positron\",\n",
    "            width=500,\n",
    "            height=300,\n",
    "            style_kwds={\"weight\": 3},\n",
    "            legend=False,\n",
    "            tooltip=[\"Route\", \"Service Miles\"],\n",
    "        )\n",
    "    )\n",
    "except:\n",
    "    display(Markdown(f\"\"\"{portfolio_name} doesn't have an route geographies.\"\"\"))"
   ]
  },
  {
   "cell_type": "markdown",
   "id": "801f9128-b08f-4ee6-942d-a4f64cbdfa32",
   "metadata": {},
   "source": [
    "### Service Hours "
   ]
  },
  {
   "cell_type": "code",
   "execution_count": 23,
   "id": "fefc07f3-7c31-48d1-ad7c-dbf3c42796d3",
   "metadata": {},
   "outputs": [
    {
     "data": {
      "text/html": [
       "\n",
       "<style>\n",
       "  #altair-viz-dfe4eb51b49747cfb6f14224cb713db4.vega-embed {\n",
       "    width: 100%;\n",
       "    display: flex;\n",
       "  }\n",
       "\n",
       "  #altair-viz-dfe4eb51b49747cfb6f14224cb713db4.vega-embed details,\n",
       "  #altair-viz-dfe4eb51b49747cfb6f14224cb713db4.vega-embed details summary {\n",
       "    position: relative;\n",
       "  }\n",
       "</style>\n",
       "<div id=\"altair-viz-dfe4eb51b49747cfb6f14224cb713db4\"></div>\n",
       "<script type=\"text/javascript\">\n",
       "  var VEGA_DEBUG = (typeof VEGA_DEBUG == \"undefined\") ? {} : VEGA_DEBUG;\n",
       "  (function(spec, embedOpt){\n",
       "    let outputDiv = document.currentScript.previousElementSibling;\n",
       "    if (outputDiv.id !== \"altair-viz-dfe4eb51b49747cfb6f14224cb713db4\") {\n",
       "      outputDiv = document.getElementById(\"altair-viz-dfe4eb51b49747cfb6f14224cb713db4\");\n",
       "    }\n",
       "\n",
       "    const paths = {\n",
       "      \"vega\": \"https://cdn.jsdelivr.net/npm/vega@5?noext\",\n",
       "      \"vega-lib\": \"https://cdn.jsdelivr.net/npm/vega-lib?noext\",\n",
       "      \"vega-lite\": \"https://cdn.jsdelivr.net/npm/vega-lite@5.20.1?noext\",\n",
       "      \"vega-embed\": \"https://cdn.jsdelivr.net/npm/vega-embed@6?noext\",\n",
       "    };\n",
       "\n",
       "    function maybeLoadScript(lib, version) {\n",
       "      var key = `${lib.replace(\"-\", \"\")}_version`;\n",
       "      return (VEGA_DEBUG[key] == version) ?\n",
       "        Promise.resolve(paths[lib]) :\n",
       "        new Promise(function(resolve, reject) {\n",
       "          var s = document.createElement('script');\n",
       "          document.getElementsByTagName(\"head\")[0].appendChild(s);\n",
       "          s.async = true;\n",
       "          s.onload = () => {\n",
       "            VEGA_DEBUG[key] = version;\n",
       "            return resolve(paths[lib]);\n",
       "          };\n",
       "          s.onerror = () => reject(`Error loading script: ${paths[lib]}`);\n",
       "          s.src = paths[lib];\n",
       "        });\n",
       "    }\n",
       "\n",
       "    function showError(err) {\n",
       "      outputDiv.innerHTML = `<div class=\"error\" style=\"color:red;\">${err}</div>`;\n",
       "      throw err;\n",
       "    }\n",
       "\n",
       "    function displayChart(vegaEmbed) {\n",
       "      vegaEmbed(outputDiv, spec, embedOpt)\n",
       "        .catch(err => showError(`Javascript Error: ${err.message}<br>This usually means there's a typo in your chart specification. See the javascript console for the full traceback.`));\n",
       "    }\n",
       "\n",
       "    if(typeof define === \"function\" && define.amd) {\n",
       "      requirejs.config({paths});\n",
       "      let deps = [\"vega-embed\"];\n",
       "      require(deps, displayChart, err => showError(`Error loading script: ${err.message}`));\n",
       "    } else {\n",
       "      maybeLoadScript(\"vega\", \"5\")\n",
       "        .then(() => maybeLoadScript(\"vega-lite\", \"5.20.1\"))\n",
       "        .then(() => maybeLoadScript(\"vega-embed\", \"6\"))\n",
       "        .catch(showError)\n",
       "        .then(() => displayChart(vegaEmbed));\n",
       "    }\n",
       "  })({\"config\": {\"view\": {\"continuousWidth\": 300, \"continuousHeight\": 300}}, \"layer\": [{\"data\": {\"name\": \"data-4f53cda18c2baa0c0354bb5f9a3ecbe5\"}, \"mark\": {\"type\": \"line\", \"size\": 3}, \"encoding\": {\"color\": {\"field\": \"Month\", \"scale\": {\"range\": [\"#5b8efd\", \"#765fec\", \"#fcb40e\", \"#fc5c04\", \"#dd217d\", \"#ccbb44\"]}, \"type\": \"nominal\"}, \"opacity\": {\"condition\": {\"param\": \"param_1\", \"value\": 1}, \"value\": 0.2}, \"tooltip\": [{\"field\": \"Weekend or Weekday\", \"type\": \"nominal\"}, {\"field\": \"Month\", \"type\": \"nominal\"}, {\"field\": \"Departure Hour\", \"type\": \"quantitative\"}, {\"field\": \"Weekday Service Hours\", \"type\": \"quantitative\"}], \"x\": {\"field\": \"Departure Hour\", \"title\": \"Departure Hour In Military Time\", \"type\": \"quantitative\"}, \"y\": {\"field\": \"Weekday Service Hours\", \"title\": \"Weekday Service Hours\", \"type\": \"quantitative\"}}, \"name\": \"view_1\", \"title\": {\"text\": \"Daily Scheduled Service Hours for Weekday\", \"subtitle\": \"Use the legend to highlight a particular month and hover over the line for additional information.\"}}, {\"data\": {\"name\": \"data-61fdb03b01e6f6ac9797744d36eb9ca4\"}, \"mark\": {\"type\": \"rect\", \"opacity\": 0.15}, \"encoding\": {\"color\": {\"field\": \"time_period\", \"scale\": {\"range\": [\"#5b8efd\", \"#765fec\", \"#fcb40e\", \"#fc5c04\", \"#dd217d\", \"#ccbb44\"]}, \"sort\": [\"Owl:12-3:59AM\", \"Early AM:4-6:59AM\", \"AM Peak:7-9:59AM\", \"Midday:10AM-2:59PM\", \"PM Peak:3-7:59PM\", \"Evening:8-11:59PM\"], \"title\": \"Time Period\", \"type\": \"nominal\"}, \"x\": {\"field\": \"start\", \"type\": \"quantitative\"}, \"x2\": {\"field\": \"stop\"}, \"y\": {\"value\": 0}, \"y2\": {\"value\": 250}}}], \"height\": 250, \"params\": [{\"name\": \"param_1\", \"select\": {\"type\": \"point\", \"fields\": [\"Month\"]}, \"bind\": \"legend\", \"views\": [\"view_1\"]}], \"resolve\": {\"scale\": {\"color\": \"independent\"}}, \"width\": 400, \"$schema\": \"https://vega.github.io/schema/vega-lite/v5.20.1.json\", \"datasets\": {\"data-4f53cda18c2baa0c0354bb5f9a3ecbe5\": [], \"data-61fdb03b01e6f6ac9797744d36eb9ca4\": [{\"index\": 0, \"start\": 0, \"stop\": 3.99, \"time_period\": \"Owl:12-3:59AM\"}, {\"index\": 1, \"start\": 4, \"stop\": 6.99, \"time_period\": \"Early AM:4-6:59AM\"}, {\"index\": 2, \"start\": 7, \"stop\": 9.99, \"time_period\": \"AM Peak:7-9:59AM\"}, {\"index\": 3, \"start\": 10, \"stop\": 14.99, \"time_period\": \"Midday:10AM-2:59PM\"}, {\"index\": 4, \"start\": 15, \"stop\": 18.99, \"time_period\": \"PM Peak:3-7:59PM\"}, {\"index\": 5, \"start\": 19, \"stop\": 24.0, \"time_period\": \"Evening:8-11:59PM\"}]}}, {\"mode\": \"vega-lite\"});\n",
       "</script>"
      ],
      "text/plain": [
       "alt.LayerChart(...)"
      ]
     },
     "metadata": {},
     "output_type": "display_data"
    }
   ],
   "source": [
    "try:\n",
    "    display(\n",
    "        section1.create_service_hour_chart(\n",
    "            scheduled_service,\n",
    "            \"Weekday\",\n",
    "            \"Weekday Service Hours\",\n",
    "            readable_dict[\"daily_scheduled_hour\"][\"subtitle\"],\n",
    "        )\n",
    "    )\n",
    "except:\n",
    "    pass"
   ]
  },
  {
   "cell_type": "code",
   "execution_count": 24,
   "id": "83390604-62b8-4a05-b435-dec8748e45dd",
   "metadata": {},
   "outputs": [
    {
     "data": {
      "text/html": [
       "\n",
       "<style>\n",
       "  #altair-viz-c50a59e6ec134367ae6c158c82c6ff2b.vega-embed {\n",
       "    width: 100%;\n",
       "    display: flex;\n",
       "  }\n",
       "\n",
       "  #altair-viz-c50a59e6ec134367ae6c158c82c6ff2b.vega-embed details,\n",
       "  #altair-viz-c50a59e6ec134367ae6c158c82c6ff2b.vega-embed details summary {\n",
       "    position: relative;\n",
       "  }\n",
       "</style>\n",
       "<div id=\"altair-viz-c50a59e6ec134367ae6c158c82c6ff2b\"></div>\n",
       "<script type=\"text/javascript\">\n",
       "  var VEGA_DEBUG = (typeof VEGA_DEBUG == \"undefined\") ? {} : VEGA_DEBUG;\n",
       "  (function(spec, embedOpt){\n",
       "    let outputDiv = document.currentScript.previousElementSibling;\n",
       "    if (outputDiv.id !== \"altair-viz-c50a59e6ec134367ae6c158c82c6ff2b\") {\n",
       "      outputDiv = document.getElementById(\"altair-viz-c50a59e6ec134367ae6c158c82c6ff2b\");\n",
       "    }\n",
       "\n",
       "    const paths = {\n",
       "      \"vega\": \"https://cdn.jsdelivr.net/npm/vega@5?noext\",\n",
       "      \"vega-lib\": \"https://cdn.jsdelivr.net/npm/vega-lib?noext\",\n",
       "      \"vega-lite\": \"https://cdn.jsdelivr.net/npm/vega-lite@5.20.1?noext\",\n",
       "      \"vega-embed\": \"https://cdn.jsdelivr.net/npm/vega-embed@6?noext\",\n",
       "    };\n",
       "\n",
       "    function maybeLoadScript(lib, version) {\n",
       "      var key = `${lib.replace(\"-\", \"\")}_version`;\n",
       "      return (VEGA_DEBUG[key] == version) ?\n",
       "        Promise.resolve(paths[lib]) :\n",
       "        new Promise(function(resolve, reject) {\n",
       "          var s = document.createElement('script');\n",
       "          document.getElementsByTagName(\"head\")[0].appendChild(s);\n",
       "          s.async = true;\n",
       "          s.onload = () => {\n",
       "            VEGA_DEBUG[key] = version;\n",
       "            return resolve(paths[lib]);\n",
       "          };\n",
       "          s.onerror = () => reject(`Error loading script: ${paths[lib]}`);\n",
       "          s.src = paths[lib];\n",
       "        });\n",
       "    }\n",
       "\n",
       "    function showError(err) {\n",
       "      outputDiv.innerHTML = `<div class=\"error\" style=\"color:red;\">${err}</div>`;\n",
       "      throw err;\n",
       "    }\n",
       "\n",
       "    function displayChart(vegaEmbed) {\n",
       "      vegaEmbed(outputDiv, spec, embedOpt)\n",
       "        .catch(err => showError(`Javascript Error: ${err.message}<br>This usually means there's a typo in your chart specification. See the javascript console for the full traceback.`));\n",
       "    }\n",
       "\n",
       "    if(typeof define === \"function\" && define.amd) {\n",
       "      requirejs.config({paths});\n",
       "      let deps = [\"vega-embed\"];\n",
       "      require(deps, displayChart, err => showError(`Error loading script: ${err.message}`));\n",
       "    } else {\n",
       "      maybeLoadScript(\"vega\", \"5\")\n",
       "        .then(() => maybeLoadScript(\"vega-lite\", \"5.20.1\"))\n",
       "        .then(() => maybeLoadScript(\"vega-embed\", \"6\"))\n",
       "        .catch(showError)\n",
       "        .then(() => displayChart(vegaEmbed));\n",
       "    }\n",
       "  })({\"config\": {\"view\": {\"continuousWidth\": 300, \"continuousHeight\": 300}}, \"layer\": [{\"data\": {\"name\": \"data-4f53cda18c2baa0c0354bb5f9a3ecbe5\"}, \"mark\": {\"type\": \"line\", \"size\": 3}, \"encoding\": {\"color\": {\"field\": \"Month\", \"scale\": {\"range\": [\"#5b8efd\", \"#765fec\", \"#fcb40e\", \"#fc5c04\", \"#dd217d\", \"#ccbb44\"]}, \"type\": \"nominal\"}, \"opacity\": {\"condition\": {\"param\": \"param_2\", \"value\": 1}, \"value\": 0.2}, \"tooltip\": [{\"field\": \"Weekend or Weekday\", \"type\": \"nominal\"}, {\"field\": \"Month\", \"type\": \"nominal\"}, {\"field\": \"Departure Hour\", \"type\": \"quantitative\"}, {\"field\": \"Weekend Service Hours\", \"type\": \"quantitative\"}], \"x\": {\"field\": \"Departure Hour\", \"title\": \"Departure Hour In Military Time\", \"type\": \"quantitative\"}, \"y\": {\"field\": \"Weekend Service Hours\", \"title\": \"Weekend Service Hours\", \"type\": \"quantitative\"}}, \"name\": \"view_2\", \"title\": {\"text\": \"Daily Scheduled Service Hours for Saturday\", \"subtitle\": \"\"}}, {\"data\": {\"name\": \"data-61fdb03b01e6f6ac9797744d36eb9ca4\"}, \"mark\": {\"type\": \"rect\", \"opacity\": 0.15}, \"encoding\": {\"color\": {\"field\": \"time_period\", \"scale\": {\"range\": [\"#5b8efd\", \"#765fec\", \"#fcb40e\", \"#fc5c04\", \"#dd217d\", \"#ccbb44\"]}, \"sort\": [\"Owl:12-3:59AM\", \"Early AM:4-6:59AM\", \"AM Peak:7-9:59AM\", \"Midday:10AM-2:59PM\", \"PM Peak:3-7:59PM\", \"Evening:8-11:59PM\"], \"title\": \"Time Period\", \"type\": \"nominal\"}, \"x\": {\"field\": \"start\", \"type\": \"quantitative\"}, \"x2\": {\"field\": \"stop\"}, \"y\": {\"value\": 0}, \"y2\": {\"value\": 250}}}], \"height\": 250, \"params\": [{\"name\": \"param_2\", \"select\": {\"type\": \"point\", \"fields\": [\"Month\"]}, \"bind\": \"legend\", \"views\": [\"view_2\"]}], \"resolve\": {\"scale\": {\"color\": \"independent\"}}, \"width\": 400, \"$schema\": \"https://vega.github.io/schema/vega-lite/v5.20.1.json\", \"datasets\": {\"data-4f53cda18c2baa0c0354bb5f9a3ecbe5\": [], \"data-61fdb03b01e6f6ac9797744d36eb9ca4\": [{\"index\": 0, \"start\": 0, \"stop\": 3.99, \"time_period\": \"Owl:12-3:59AM\"}, {\"index\": 1, \"start\": 4, \"stop\": 6.99, \"time_period\": \"Early AM:4-6:59AM\"}, {\"index\": 2, \"start\": 7, \"stop\": 9.99, \"time_period\": \"AM Peak:7-9:59AM\"}, {\"index\": 3, \"start\": 10, \"stop\": 14.99, \"time_period\": \"Midday:10AM-2:59PM\"}, {\"index\": 4, \"start\": 15, \"stop\": 18.99, \"time_period\": \"PM Peak:3-7:59PM\"}, {\"index\": 5, \"start\": 19, \"stop\": 24.0, \"time_period\": \"Evening:8-11:59PM\"}]}}, {\"mode\": \"vega-lite\"});\n",
       "</script>"
      ],
      "text/plain": [
       "alt.LayerChart(...)"
      ]
     },
     "metadata": {},
     "output_type": "display_data"
    }
   ],
   "source": [
    "try:\n",
    "    display(\n",
    "        section1.create_service_hour_chart(\n",
    "            scheduled_service, \"Saturday\", \"Weekend Service Hours\", \"\"\n",
    "        )\n",
    "    )\n",
    "except:\n",
    "    pass"
   ]
  },
  {
   "cell_type": "code",
   "execution_count": 25,
   "id": "44697ac6-7ee6-453a-a04a-0a94da719ccf",
   "metadata": {},
   "outputs": [
    {
     "data": {
      "text/html": [
       "\n",
       "<style>\n",
       "  #altair-viz-246f26f0c96449cb90805cc0b293bab1.vega-embed {\n",
       "    width: 100%;\n",
       "    display: flex;\n",
       "  }\n",
       "\n",
       "  #altair-viz-246f26f0c96449cb90805cc0b293bab1.vega-embed details,\n",
       "  #altair-viz-246f26f0c96449cb90805cc0b293bab1.vega-embed details summary {\n",
       "    position: relative;\n",
       "  }\n",
       "</style>\n",
       "<div id=\"altair-viz-246f26f0c96449cb90805cc0b293bab1\"></div>\n",
       "<script type=\"text/javascript\">\n",
       "  var VEGA_DEBUG = (typeof VEGA_DEBUG == \"undefined\") ? {} : VEGA_DEBUG;\n",
       "  (function(spec, embedOpt){\n",
       "    let outputDiv = document.currentScript.previousElementSibling;\n",
       "    if (outputDiv.id !== \"altair-viz-246f26f0c96449cb90805cc0b293bab1\") {\n",
       "      outputDiv = document.getElementById(\"altair-viz-246f26f0c96449cb90805cc0b293bab1\");\n",
       "    }\n",
       "\n",
       "    const paths = {\n",
       "      \"vega\": \"https://cdn.jsdelivr.net/npm/vega@5?noext\",\n",
       "      \"vega-lib\": \"https://cdn.jsdelivr.net/npm/vega-lib?noext\",\n",
       "      \"vega-lite\": \"https://cdn.jsdelivr.net/npm/vega-lite@5.20.1?noext\",\n",
       "      \"vega-embed\": \"https://cdn.jsdelivr.net/npm/vega-embed@6?noext\",\n",
       "    };\n",
       "\n",
       "    function maybeLoadScript(lib, version) {\n",
       "      var key = `${lib.replace(\"-\", \"\")}_version`;\n",
       "      return (VEGA_DEBUG[key] == version) ?\n",
       "        Promise.resolve(paths[lib]) :\n",
       "        new Promise(function(resolve, reject) {\n",
       "          var s = document.createElement('script');\n",
       "          document.getElementsByTagName(\"head\")[0].appendChild(s);\n",
       "          s.async = true;\n",
       "          s.onload = () => {\n",
       "            VEGA_DEBUG[key] = version;\n",
       "            return resolve(paths[lib]);\n",
       "          };\n",
       "          s.onerror = () => reject(`Error loading script: ${paths[lib]}`);\n",
       "          s.src = paths[lib];\n",
       "        });\n",
       "    }\n",
       "\n",
       "    function showError(err) {\n",
       "      outputDiv.innerHTML = `<div class=\"error\" style=\"color:red;\">${err}</div>`;\n",
       "      throw err;\n",
       "    }\n",
       "\n",
       "    function displayChart(vegaEmbed) {\n",
       "      vegaEmbed(outputDiv, spec, embedOpt)\n",
       "        .catch(err => showError(`Javascript Error: ${err.message}<br>This usually means there's a typo in your chart specification. See the javascript console for the full traceback.`));\n",
       "    }\n",
       "\n",
       "    if(typeof define === \"function\" && define.amd) {\n",
       "      requirejs.config({paths});\n",
       "      let deps = [\"vega-embed\"];\n",
       "      require(deps, displayChart, err => showError(`Error loading script: ${err.message}`));\n",
       "    } else {\n",
       "      maybeLoadScript(\"vega\", \"5\")\n",
       "        .then(() => maybeLoadScript(\"vega-lite\", \"5.20.1\"))\n",
       "        .then(() => maybeLoadScript(\"vega-embed\", \"6\"))\n",
       "        .catch(showError)\n",
       "        .then(() => displayChart(vegaEmbed));\n",
       "    }\n",
       "  })({\"config\": {\"view\": {\"continuousWidth\": 300, \"continuousHeight\": 300}}, \"layer\": [{\"data\": {\"name\": \"data-4f53cda18c2baa0c0354bb5f9a3ecbe5\"}, \"mark\": {\"type\": \"line\", \"size\": 3}, \"encoding\": {\"color\": {\"field\": \"Month\", \"scale\": {\"range\": [\"#5b8efd\", \"#765fec\", \"#fcb40e\", \"#fc5c04\", \"#dd217d\", \"#ccbb44\"]}, \"type\": \"nominal\"}, \"opacity\": {\"condition\": {\"param\": \"param_3\", \"value\": 1}, \"value\": 0.2}, \"tooltip\": [{\"field\": \"Weekend or Weekday\", \"type\": \"nominal\"}, {\"field\": \"Month\", \"type\": \"nominal\"}, {\"field\": \"Departure Hour\", \"type\": \"quantitative\"}, {\"field\": \"Weekend Service Hours\", \"type\": \"quantitative\"}], \"x\": {\"field\": \"Departure Hour\", \"title\": \"Departure Hour In Military Time\", \"type\": \"quantitative\"}, \"y\": {\"field\": \"Weekend Service Hours\", \"title\": \"Weekend Service Hours\", \"type\": \"quantitative\"}}, \"name\": \"view_3\", \"title\": {\"text\": \"Daily Scheduled Service Hours for Sunday\", \"subtitle\": \"\"}}, {\"data\": {\"name\": \"data-61fdb03b01e6f6ac9797744d36eb9ca4\"}, \"mark\": {\"type\": \"rect\", \"opacity\": 0.15}, \"encoding\": {\"color\": {\"field\": \"time_period\", \"scale\": {\"range\": [\"#5b8efd\", \"#765fec\", \"#fcb40e\", \"#fc5c04\", \"#dd217d\", \"#ccbb44\"]}, \"sort\": [\"Owl:12-3:59AM\", \"Early AM:4-6:59AM\", \"AM Peak:7-9:59AM\", \"Midday:10AM-2:59PM\", \"PM Peak:3-7:59PM\", \"Evening:8-11:59PM\"], \"title\": \"Time Period\", \"type\": \"nominal\"}, \"x\": {\"field\": \"start\", \"type\": \"quantitative\"}, \"x2\": {\"field\": \"stop\"}, \"y\": {\"value\": 0}, \"y2\": {\"value\": 250}}}], \"height\": 250, \"params\": [{\"name\": \"param_3\", \"select\": {\"type\": \"point\", \"fields\": [\"Month\"]}, \"bind\": \"legend\", \"views\": [\"view_3\"]}], \"resolve\": {\"scale\": {\"color\": \"independent\"}}, \"width\": 400, \"$schema\": \"https://vega.github.io/schema/vega-lite/v5.20.1.json\", \"datasets\": {\"data-4f53cda18c2baa0c0354bb5f9a3ecbe5\": [], \"data-61fdb03b01e6f6ac9797744d36eb9ca4\": [{\"index\": 0, \"start\": 0, \"stop\": 3.99, \"time_period\": \"Owl:12-3:59AM\"}, {\"index\": 1, \"start\": 4, \"stop\": 6.99, \"time_period\": \"Early AM:4-6:59AM\"}, {\"index\": 2, \"start\": 7, \"stop\": 9.99, \"time_period\": \"AM Peak:7-9:59AM\"}, {\"index\": 3, \"start\": 10, \"stop\": 14.99, \"time_period\": \"Midday:10AM-2:59PM\"}, {\"index\": 4, \"start\": 15, \"stop\": 18.99, \"time_period\": \"PM Peak:3-7:59PM\"}, {\"index\": 5, \"start\": 19, \"stop\": 24.0, \"time_period\": \"Evening:8-11:59PM\"}]}}, {\"mode\": \"vega-lite\"});\n",
       "</script>"
      ],
      "text/plain": [
       "alt.LayerChart(...)"
      ]
     },
     "metadata": {},
     "output_type": "display_data"
    }
   ],
   "source": [
    "try:\n",
    "    display(\n",
    "        section1.create_service_hour_chart(\n",
    "            scheduled_service, \"Sunday\", \"Weekend Service Hours\", \"\"\n",
    "        )\n",
    "    )\n",
    "except:\n",
    "    pass"
   ]
  },
  {
   "cell_type": "markdown",
   "id": "43045583-c228-4fe1-9b49-b7b20d9352ae",
   "metadata": {},
   "source": [
    "## Metrics for All Routes "
   ]
  },
  {
   "cell_type": "code",
   "execution_count": 26,
   "id": "5837257e-9a54-4c36-8130-d0e6ff709025",
   "metadata": {},
   "outputs": [
    {
     "data": {
      "text/html": [
       "\n",
       "<style>\n",
       "  #altair-viz-63485ee292344488b45360e11e6642b0.vega-embed {\n",
       "    width: 100%;\n",
       "    display: flex;\n",
       "  }\n",
       "\n",
       "  #altair-viz-63485ee292344488b45360e11e6642b0.vega-embed details,\n",
       "  #altair-viz-63485ee292344488b45360e11e6642b0.vega-embed details summary {\n",
       "    position: relative;\n",
       "  }\n",
       "</style>\n",
       "<div id=\"altair-viz-63485ee292344488b45360e11e6642b0\"></div>\n",
       "<script type=\"text/javascript\">\n",
       "  var VEGA_DEBUG = (typeof VEGA_DEBUG == \"undefined\") ? {} : VEGA_DEBUG;\n",
       "  (function(spec, embedOpt){\n",
       "    let outputDiv = document.currentScript.previousElementSibling;\n",
       "    if (outputDiv.id !== \"altair-viz-63485ee292344488b45360e11e6642b0\") {\n",
       "      outputDiv = document.getElementById(\"altair-viz-63485ee292344488b45360e11e6642b0\");\n",
       "    }\n",
       "\n",
       "    const paths = {\n",
       "      \"vega\": \"https://cdn.jsdelivr.net/npm/vega@5?noext\",\n",
       "      \"vega-lib\": \"https://cdn.jsdelivr.net/npm/vega-lib?noext\",\n",
       "      \"vega-lite\": \"https://cdn.jsdelivr.net/npm/vega-lite@5.20.1?noext\",\n",
       "      \"vega-embed\": \"https://cdn.jsdelivr.net/npm/vega-embed@6?noext\",\n",
       "    };\n",
       "\n",
       "    function maybeLoadScript(lib, version) {\n",
       "      var key = `${lib.replace(\"-\", \"\")}_version`;\n",
       "      return (VEGA_DEBUG[key] == version) ?\n",
       "        Promise.resolve(paths[lib]) :\n",
       "        new Promise(function(resolve, reject) {\n",
       "          var s = document.createElement('script');\n",
       "          document.getElementsByTagName(\"head\")[0].appendChild(s);\n",
       "          s.async = true;\n",
       "          s.onload = () => {\n",
       "            VEGA_DEBUG[key] = version;\n",
       "            return resolve(paths[lib]);\n",
       "          };\n",
       "          s.onerror = () => reject(`Error loading script: ${paths[lib]}`);\n",
       "          s.src = paths[lib];\n",
       "        });\n",
       "    }\n",
       "\n",
       "    function showError(err) {\n",
       "      outputDiv.innerHTML = `<div class=\"error\" style=\"color:red;\">${err}</div>`;\n",
       "      throw err;\n",
       "    }\n",
       "\n",
       "    function displayChart(vegaEmbed) {\n",
       "      vegaEmbed(outputDiv, spec, embedOpt)\n",
       "        .catch(err => showError(`Javascript Error: ${err.message}<br>This usually means there's a typo in your chart specification. See the javascript console for the full traceback.`));\n",
       "    }\n",
       "\n",
       "    if(typeof define === \"function\" && define.amd) {\n",
       "      requirejs.config({paths});\n",
       "      let deps = [\"vega-embed\"];\n",
       "      require(deps, displayChart, err => showError(`Error loading script: ${err.message}`));\n",
       "    } else {\n",
       "      maybeLoadScript(\"vega\", \"5\")\n",
       "        .then(() => maybeLoadScript(\"vega-lite\", \"5.20.1\"))\n",
       "        .then(() => maybeLoadScript(\"vega-embed\", \"6\"))\n",
       "        .catch(showError)\n",
       "        .then(() => displayChart(vegaEmbed));\n",
       "    }\n",
       "  })({\"config\": {\"view\": {\"continuousWidth\": 300, \"continuousHeight\": 300}}, \"vconcat\": [{\"layer\": [{\"mark\": {\"type\": \"bar\", \"clip\": true, \"size\": 7}, \"encoding\": {\"color\": {\"field\": \"Spatial Accuracy (All Routes)\", \"scale\": {\"domain\": [0, 20, 40, 60, 80, 100], \"range\": [\"#dd217d\", \"#fc5c04\", \"#ff9c42\", \"#fcb40e\", \"#e9d868\", \"#ccbb44\"]}, \"title\": \"Spatial Accuracy (All Routes)\", \"type\": \"quantitative\"}, \"tooltip\": [{\"field\": \"Date\", \"type\": \"temporal\"}, {\"field\": \"Spatial Accuracy (All Routes)\", \"type\": \"quantitative\"}], \"x\": {\"axis\": {\"format\": \"%b %Y\", \"labelAngle\": -45}, \"field\": \"Date\", \"timeUnit\": \"yearmonthdate\", \"title\": [\"Date\"], \"type\": \"ordinal\"}, \"y\": {\"field\": \"Spatial Accuracy (All Routes)\", \"scale\": {\"domain\": [0, NaN]}, \"title\": \"Spatial Accuracy (All Routes)\", \"type\": \"quantitative\"}}}, {\"mark\": {\"type\": \"rule\", \"color\": \"red\", \"strokeDash\": [10, 7]}, \"encoding\": {\"y\": {\"aggregate\": \"mean\", \"field\": \"ruler_100_pct\", \"type\": \"quantitative\"}}}], \"height\": 250, \"title\": {\"text\": \"Spatial Accuracy (All Routes)\", \"subtitle\": [\"The percentage of vehicle positions that fall within 35 meters of a route's scheduled shape (path) reflects the accuracy of the collected spatial data.\"]}, \"width\": 400}, {\"layer\": [{\"mark\": {\"type\": \"bar\", \"clip\": true, \"size\": 7}, \"encoding\": {\"color\": {\"field\": \"VP per Minute (All Routes)\", \"scale\": {\"domain\": [0, 1, 2, 3], \"range\": [\"#dd217d\", \"#fc5c04\", \"#fcb40e\", \"#ccbb44\"]}, \"title\": \"VP Per Minute (All Routes)\", \"type\": \"quantitative\"}, \"tooltip\": [{\"field\": \"Date\", \"type\": \"temporal\"}, {\"field\": \"VP per Minute (All Routes)\", \"type\": \"quantitative\"}], \"x\": {\"axis\": {\"format\": \"%b %Y\", \"labelAngle\": -45}, \"field\": \"Date\", \"timeUnit\": \"yearmonthdate\", \"title\": [\"Date\"], \"type\": \"ordinal\"}, \"y\": {\"field\": \"VP per Minute (All Routes)\", \"scale\": {\"domain\": [0, 3]}, \"title\": \"VP Per Minute (All Routes)\", \"type\": \"quantitative\"}}}, {\"mark\": {\"type\": \"rule\", \"color\": \"red\", \"strokeDash\": [10, 7]}, \"encoding\": {\"y\": {\"aggregate\": \"mean\", \"field\": \"ruler_for_vp_per_min\", \"type\": \"quantitative\"}}}], \"height\": 250, \"title\": {\"text\": \"Vehicle Positions per Minute (All Routes)\", \"subtitle\": [\"Trips should have 2+ VPs per minute. This metric reflects the accuracy of the temporal data collected.\"]}, \"width\": 400}], \"data\": {\"name\": \"data-4f53cda18c2baa0c0354bb5f9a3ecbe5\"}, \"resolve\": {\"scale\": {\"color\": \"independent\"}}, \"$schema\": \"https://vega.github.io/schema/vega-lite/v5.20.1.json\", \"datasets\": {\"data-4f53cda18c2baa0c0354bb5f9a3ecbe5\": []}}, {\"mode\": \"vega-lite\"});\n",
       "</script>"
      ],
      "text/plain": [
       "alt.VConcatChart(...)"
      ]
     },
     "metadata": {},
     "output_type": "display_data"
    }
   ],
   "source": [
    "if (agency_metrics_df[\"VP per Minute (All Routes)\"].isna().sum() > 2) | (\n",
    "    agency_metrics_df[\"Spatial Accuracy (All Routes)\"].isna().sum() > 2\n",
    "):\n",
    "    display(Markdown(f\"\"\"{organization_name} only has schedule data.\"\"\"))\n",
    "else:\n",
    "    display(section2.agency_overview(agency_metrics_df))"
   ]
  },
  {
   "cell_type": "markdown",
   "id": "f1b398b9-63ec-4edf-860f-194fc08e3066",
   "metadata": {},
   "source": [
    "## Detailed Route Overview"
   ]
  },
  {
   "cell_type": "code",
   "execution_count": 27,
   "id": "fbbc04e8-bad4-4d76-84c3-6ba9b76a42c0",
   "metadata": {
    "scrolled": true,
    "tags": []
   },
   "outputs": [
    {
     "data": {
      "text/markdown": [
       "Yurok Tribe only has schedule data."
      ],
      "text/plain": [
       "<IPython.core.display.Markdown object>"
      ]
     },
     "metadata": {},
     "output_type": "display_data"
    }
   ],
   "source": [
    "try:\n",
    "    display(section2.filtered_route(monthly_sched_vp_df, qtr_sched_vp_df))\n",
    "except:\n",
    "    display(Markdown(f\"\"\"{portfolio_name} only has schedule data.\"\"\"))"
   ]
  },
  {
   "cell_type": "code",
   "execution_count": 28,
   "id": "c72cd79e-e3ac-463d-abe2-ac46bb4e0b17",
   "metadata": {
    "tags": []
   },
   "outputs": [
    {
     "ename": "IndexError",
     "evalue": "list index out of range",
     "output_type": "error",
     "traceback": [
      "\u001b[0;31m---------------------------------------------------------------------------\u001b[0m",
      "\u001b[0;31mIndexError\u001b[0m                                Traceback (most recent call last)",
      "Cell \u001b[0;32mIn[28], line 1\u001b[0m\n\u001b[0;32m----> 1\u001b[0m \u001b[43msection2\u001b[49m\u001b[38;5;241;43m.\u001b[39;49m\u001b[43mfiltered_route\u001b[49m\u001b[43m(\u001b[49m\u001b[43mmonthly_sched_vp_df\u001b[49m\u001b[43m,\u001b[49m\u001b[43m \u001b[49m\u001b[43mqtr_sched_vp_df\u001b[49m\u001b[43m)\u001b[49m\n",
      "File \u001b[0;32m~/data-analyses/gtfs_digest/_report_operator_section2_utils.py:910\u001b[0m, in \u001b[0;36mfiltered_route\u001b[0;34m(df, qtr_schd_df)\u001b[0m\n\u001b[1;32m    904\u001b[0m route_dropdown \u001b[38;5;241m=\u001b[39m alt\u001b[38;5;241m.\u001b[39mbinding_select(\n\u001b[1;32m    905\u001b[0m     options\u001b[38;5;241m=\u001b[39mroutes_list,\n\u001b[1;32m    906\u001b[0m     name\u001b[38;5;241m=\u001b[39m\u001b[38;5;124m\"\u001b[39m\u001b[38;5;124mRoutes: \u001b[39m\u001b[38;5;124m\"\u001b[39m,\n\u001b[1;32m    907\u001b[0m )\n\u001b[1;32m    908\u001b[0m \u001b[38;5;66;03m# Column that controls the bar charts\u001b[39;00m\n\u001b[1;32m    909\u001b[0m xcol_param \u001b[38;5;241m=\u001b[39m alt\u001b[38;5;241m.\u001b[39mselection_point(\n\u001b[0;32m--> 910\u001b[0m fields\u001b[38;5;241m=\u001b[39m[\u001b[38;5;124m\"\u001b[39m\u001b[38;5;124mRoute\u001b[39m\u001b[38;5;124m\"\u001b[39m], value\u001b[38;5;241m=\u001b[39m\u001b[43mroutes_list\u001b[49m\u001b[43m[\u001b[49m\u001b[38;5;241;43m0\u001b[39;49m\u001b[43m]\u001b[49m, bind\u001b[38;5;241m=\u001b[39mroute_dropdown\n\u001b[1;32m    911\u001b[0m )\n\u001b[1;32m    913\u001b[0m \u001b[38;5;66;03m# Filter for only rows that are \"all day\" statistics\u001b[39;00m\n\u001b[1;32m    914\u001b[0m all_day \u001b[38;5;241m=\u001b[39m df\u001b[38;5;241m.\u001b[39mloc[df[\u001b[38;5;124m\"\u001b[39m\u001b[38;5;124mPeriod\u001b[39m\u001b[38;5;124m\"\u001b[39m] \u001b[38;5;241m==\u001b[39m \u001b[38;5;124m\"\u001b[39m\u001b[38;5;124mall_day\u001b[39m\u001b[38;5;124m\"\u001b[39m]\u001b[38;5;241m.\u001b[39mreset_index(drop\u001b[38;5;241m=\u001b[39m\u001b[38;5;28;01mTrue\u001b[39;00m)\n",
      "\u001b[0;31mIndexError\u001b[0m: list index out of range"
     ]
    }
   ],
   "source": [
    "section2.filtered_route(monthly_sched_vp_df, qtr_sched_vp_df)"
   ]
  }
 ],
 "metadata": {
  "kernelspec": {
   "display_name": "Python 3 (ipykernel)",
   "language": "python",
   "name": "python3"
  },
  "language_info": {
   "codemirror_mode": {
    "name": "ipython",
    "version": 3
   },
   "file_extension": ".py",
   "mimetype": "text/x-python",
   "name": "python",
   "nbconvert_exporter": "python",
   "pygments_lexer": "ipython3",
   "version": "3.11.10"
  }
 },
 "nbformat": 4,
 "nbformat_minor": 5
}
