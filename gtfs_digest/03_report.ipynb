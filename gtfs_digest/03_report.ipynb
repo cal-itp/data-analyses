{
 "cells": [
  {
   "cell_type": "code",
   "execution_count": 1,
   "id": "936e2c22-24ba-4f20-99d8-846cfe0a4e27",
   "metadata": {},
   "outputs": [],
   "source": [
    "%%capture\n",
    "\n",
    "import warnings\n",
    "\n",
    "warnings.filterwarnings(\"ignore\")\n",
    "\n",
    "import _section1_utils as section1\n",
    "import _section2_utils as section2\n",
    "import altair as alt\n",
    "import calitp_data_analysis.magics\n",
    "import great_tables as gtmost_recent_date\n",
    "import pandas as pd\n",
    "import yaml\n",
    "from IPython.display import HTML, Image, Markdown, display, display_html\n",
    "from shared_utils import catalog_utils, rt_dates, rt_utils\n",
    "\n",
    "with open(\"readable.yml\") as f:\n",
    "    readable_dict = yaml.safe_load(f)"
   ]
  },
  {
   "cell_type": "code",
   "execution_count": 2,
   "id": "b89867bd-a089-4033-97d7-d6d1ae50b697",
   "metadata": {},
   "outputs": [],
   "source": [
    "pd.options.display.max_columns = 100\n",
    "pd.options.display.float_format = \"{:.2f}\".format\n",
    "pd.set_option(\"display.max_rows\", None)\n",
    "pd.set_option(\"display.max_colwidth\", None)"
   ]
  },
  {
   "cell_type": "code",
   "execution_count": 3,
   "id": "6bd20d9d-a3af-430e-8c19-c90fb8ef9e62",
   "metadata": {
    "tags": [
     "parameters"
    ]
   },
   "outputs": [],
   "source": [
    "# Comment out and leave this cell right below pandas\n",
    "organization_name = \"Alameda-Contra Costa Transit District\""
   ]
  },
  {
   "cell_type": "code",
   "execution_count": 4,
   "id": "d870c492-ef2c-45f6-ab47-8d46eda7f344",
   "metadata": {
    "tags": []
   },
   "outputs": [],
   "source": [
    "#%%capture_parameters\n",
    "#organization_name"
   ]
  },
  {
   "cell_type": "code",
   "execution_count": 5,
   "id": "b8e11fd2-041f-4e1d-a00f-6e000269c1a7",
   "metadata": {},
   "outputs": [],
   "source": [
    "# Load first dataset\n",
    "operator_profiles = section1.load_operator_profiles(organization_name)"
   ]
  },
  {
   "cell_type": "code",
   "execution_count": 6,
   "id": "8e840f91-2e1a-4235-bf6b-0c049a569b4a",
   "metadata": {},
   "outputs": [],
   "source": [
    "# Need to load \"name\" using this function rather than taking it from\n",
    "# operator profiles above because it differs.\n",
    "name = section1.organization_name_crosswalk(organization_name)"
   ]
  },
  {
   "cell_type": "code",
   "execution_count": 7,
   "id": "5d7299ad-0446-4a42-9652-a44617e4d2e7",
   "metadata": {},
   "outputs": [],
   "source": [
    "GTFS_DATA_DICT = catalog_utils.get_catalog(\"gtfs_analytics_data\")"
   ]
  },
  {
   "cell_type": "code",
   "execution_count": 8,
   "id": "517702ae-a7ac-4cc4-a2d4-158fdc8d6919",
   "metadata": {},
   "outputs": [],
   "source": [
    "# Datasets for Section 1\n",
    "operator_route_map = section1.load_operator_map(name)"
   ]
  },
  {
   "cell_type": "code",
   "execution_count": 9,
   "id": "dd8b7a4c-7682-4949-9e9b-990ce6867627",
   "metadata": {},
   "outputs": [
    {
     "ename": "ValueError",
     "evalue": "all the input array dimensions for the concatenation axis must match exactly, but along dimension 1, the array at index 0 has size 109006 and the array at index 1 has size 108213",
     "output_type": "error",
     "traceback": [
      "\u001b[0;31m---------------------------------------------------------------------------\u001b[0m",
      "\u001b[0;31mValueError\u001b[0m                                Traceback (most recent call last)",
      "Cell \u001b[0;32mIn[9], line 1\u001b[0m\n\u001b[0;32m----> 1\u001b[0m scheduled_service \u001b[38;5;241m=\u001b[39m \u001b[43msection1\u001b[49m\u001b[38;5;241;43m.\u001b[39;49m\u001b[43mtotal_service_hours_all_months\u001b[49m\u001b[43m(\u001b[49m\u001b[43mname\u001b[49m\u001b[43m)\u001b[49m\n",
      "File \u001b[0;32m~/data-analyses/gtfs_digest/_section1_utils.py:338\u001b[0m, in \u001b[0;36mtotal_service_hours_all_months\u001b[0;34m(name)\u001b[0m\n\u001b[1;32m    334\u001b[0m oct_week \u001b[38;5;241m=\u001b[39m rt_dates\u001b[38;5;241m.\u001b[39mget_week(month\u001b[38;5;241m=\u001b[39m\u001b[38;5;124m\"\u001b[39m\u001b[38;5;124moct2023\u001b[39m\u001b[38;5;124m\"\u001b[39m, exclude_wed\u001b[38;5;241m=\u001b[39m\u001b[38;5;28;01mFalse\u001b[39;00m)\n\u001b[1;32m    335\u001b[0m \u001b[38;5;66;03m# need to add april 2024 here \u001b[39;00m\n\u001b[1;32m    336\u001b[0m \n\u001b[1;32m    337\u001b[0m \u001b[38;5;66;03m# Sum up total service_hours\u001b[39;00m\n\u001b[0;32m--> 338\u001b[0m apr_df \u001b[38;5;241m=\u001b[39m \u001b[43mtotal_service_hours\u001b[49m\u001b[43m(\u001b[49m\u001b[43mapr_week\u001b[49m\u001b[43m,\u001b[49m\u001b[43m \u001b[49m\u001b[43mname\u001b[49m\u001b[43m)\u001b[49m\n\u001b[1;32m    339\u001b[0m oct_df \u001b[38;5;241m=\u001b[39m total_service_hours(oct_week, name)\n\u001b[1;32m    341\u001b[0m \u001b[38;5;66;03m# Combine everything\u001b[39;00m\n",
      "File \u001b[0;32m~/data-analyses/gtfs_digest/_section1_utils.py:296\u001b[0m, in \u001b[0;36mtotal_service_hours\u001b[0;34m(date_list, name)\u001b[0m\n\u001b[1;32m    291\u001b[0m \u001b[38;5;250m\u001b[39m\u001b[38;5;124;03m\"\"\"\u001b[39;00m\n\u001b[1;32m    292\u001b[0m \u001b[38;5;124;03mTotal up service hours by departure hour, \u001b[39;00m\n\u001b[1;32m    293\u001b[0m \u001b[38;5;124;03mmonth, and day type for an operator. \u001b[39;00m\n\u001b[1;32m    294\u001b[0m \u001b[38;5;124;03m\"\"\"\u001b[39;00m\n\u001b[1;32m    295\u001b[0m \u001b[38;5;66;03m# Combine all the days' data for a week\u001b[39;00m\n\u001b[0;32m--> 296\u001b[0m df \u001b[38;5;241m=\u001b[39m \u001b[43mconcatenate_trips\u001b[49m\u001b[43m(\u001b[49m\u001b[43mdate_list\u001b[49m\u001b[43m)\u001b[49m\n\u001b[1;32m    298\u001b[0m  \u001b[38;5;66;03m# Filter\u001b[39;00m\n\u001b[1;32m    299\u001b[0m df \u001b[38;5;241m=\u001b[39m df\u001b[38;5;241m.\u001b[39mloc[df\u001b[38;5;241m.\u001b[39mname \u001b[38;5;241m==\u001b[39m name]\u001b[38;5;241m.\u001b[39mreset_index(drop\u001b[38;5;241m=\u001b[39m\u001b[38;5;28;01mTrue\u001b[39;00m)\n",
      "File \u001b[0;32m~/data-analyses/gtfs_digest/_section1_utils.py:253\u001b[0m, in \u001b[0;36mconcatenate_trips\u001b[0;34m(date_list)\u001b[0m\n\u001b[1;32m    245\u001b[0m \u001b[38;5;250m\u001b[39m\u001b[38;5;124;03m\"\"\"\u001b[39;00m\n\u001b[1;32m    246\u001b[0m \u001b[38;5;124;03mConcatenate schedule data that's been\u001b[39;00m\n\u001b[1;32m    247\u001b[0m \u001b[38;5;124;03maggregated to route-direction-time_period for\u001b[39;00m\n\u001b[1;32m    248\u001b[0m \u001b[38;5;124;03mmultiple days.\u001b[39;00m\n\u001b[1;32m    249\u001b[0m \u001b[38;5;124;03m\"\"\"\u001b[39;00m\n\u001b[1;32m    250\u001b[0m FILE \u001b[38;5;241m=\u001b[39m GTFS_DATA_DICT\u001b[38;5;241m.\u001b[39mschedule_downloads\u001b[38;5;241m.\u001b[39mtrips\n\u001b[1;32m    252\u001b[0m df \u001b[38;5;241m=\u001b[39m (\n\u001b[0;32m--> 253\u001b[0m     \u001b[43mtime_series_utils\u001b[49m\u001b[38;5;241;43m.\u001b[39;49m\u001b[43mconcatenate_datasets_across_dates\u001b[49m\u001b[43m(\u001b[49m\n\u001b[1;32m    254\u001b[0m \u001b[43m        \u001b[49m\u001b[43mCOMPILED_CACHED_VIEWS\u001b[49m\u001b[43m,\u001b[49m\n\u001b[1;32m    255\u001b[0m \u001b[43m        \u001b[49m\u001b[43mFILE\u001b[49m\u001b[43m,\u001b[49m\n\u001b[1;32m    256\u001b[0m \u001b[43m        \u001b[49m\u001b[43mdate_list\u001b[49m\u001b[43m,\u001b[49m\n\u001b[1;32m    257\u001b[0m \u001b[43m        \u001b[49m\u001b[43mdata_type\u001b[49m\u001b[38;5;241;43m=\u001b[39;49m\u001b[38;5;124;43m\"\u001b[39;49m\u001b[38;5;124;43mdf\u001b[39;49m\u001b[38;5;124;43m\"\u001b[39;49m\u001b[43m,\u001b[49m\n\u001b[1;32m    258\u001b[0m \u001b[43m        \u001b[49m\u001b[43mcolumns\u001b[49m\u001b[38;5;241;43m=\u001b[39;49m\u001b[43m[\u001b[49m\n\u001b[1;32m    259\u001b[0m \u001b[43m            \u001b[49m\u001b[38;5;124;43m\"\u001b[39;49m\u001b[38;5;124;43mname\u001b[39;49m\u001b[38;5;124;43m\"\u001b[39;49m\u001b[43m,\u001b[49m\n\u001b[1;32m    260\u001b[0m \u001b[43m            \u001b[49m\u001b[38;5;124;43m\"\u001b[39;49m\u001b[38;5;124;43mservice_date\u001b[39;49m\u001b[38;5;124;43m\"\u001b[39;49m\u001b[43m,\u001b[49m\n\u001b[1;32m    261\u001b[0m \u001b[43m            \u001b[49m\u001b[38;5;124;43m\"\u001b[39;49m\u001b[38;5;124;43mroute_long_name\u001b[39;49m\u001b[38;5;124;43m\"\u001b[39;49m\u001b[43m,\u001b[49m\n\u001b[1;32m    262\u001b[0m \u001b[43m            \u001b[49m\u001b[38;5;124;43m\"\u001b[39;49m\u001b[38;5;124;43mtrip_first_departure_datetime_pacific\u001b[39;49m\u001b[38;5;124;43m\"\u001b[39;49m\u001b[43m,\u001b[49m\n\u001b[1;32m    263\u001b[0m \u001b[43m            \u001b[49m\u001b[38;5;124;43m\"\u001b[39;49m\u001b[38;5;124;43mservice_hours\u001b[39;49m\u001b[38;5;124;43m\"\u001b[39;49m\u001b[43m,\u001b[49m\n\u001b[1;32m    264\u001b[0m \u001b[43m        \u001b[49m\u001b[43m]\u001b[49m\u001b[43m,\u001b[49m\n\u001b[1;32m    265\u001b[0m \u001b[43m    \u001b[49m\u001b[43m)\u001b[49m\n\u001b[1;32m    266\u001b[0m     \u001b[38;5;241m.\u001b[39msort_values([\u001b[38;5;124m\"\u001b[39m\u001b[38;5;124mservice_date\u001b[39m\u001b[38;5;124m\"\u001b[39m])\n\u001b[1;32m    267\u001b[0m     \u001b[38;5;241m.\u001b[39mreset_index(drop\u001b[38;5;241m=\u001b[39m\u001b[38;5;28;01mTrue\u001b[39;00m)\n\u001b[1;32m    268\u001b[0m )\n\u001b[1;32m    270\u001b[0m \u001b[38;5;28;01mreturn\u001b[39;00m df\n",
      "File \u001b[0;32m~/data-analyses/rt_segment_speeds/segment_speed_utils/time_series_utils.py:61\u001b[0m, in \u001b[0;36mconcatenate_datasets_across_dates\u001b[0;34m(gcs_bucket, dataset_name, date_list, data_type, get_pandas, **kwargs)\u001b[0m\n\u001b[1;32m     56\u001b[0m df \u001b[38;5;241m=\u001b[39m delayed(pd\u001b[38;5;241m.\u001b[39mconcat)(\n\u001b[1;32m     57\u001b[0m     dfs, axis\u001b[38;5;241m=\u001b[39m\u001b[38;5;241m0\u001b[39m, ignore_index\u001b[38;5;241m=\u001b[39m\u001b[38;5;28;01mTrue\u001b[39;00m\n\u001b[1;32m     58\u001b[0m ) \n\u001b[1;32m     60\u001b[0m \u001b[38;5;28;01mif\u001b[39;00m get_pandas:\n\u001b[0;32m---> 61\u001b[0m     df \u001b[38;5;241m=\u001b[39m \u001b[43mcompute\u001b[49m\u001b[43m(\u001b[49m\u001b[43mdf\u001b[49m\u001b[43m)\u001b[49m[\u001b[38;5;241m0\u001b[39m]    \n\u001b[1;32m     63\u001b[0m \u001b[38;5;28;01mreturn\u001b[39;00m df\n",
      "File \u001b[0;32m/opt/conda/lib/python3.9/site-packages/dask/base.py:662\u001b[0m, in \u001b[0;36mcompute\u001b[0;34m(traverse, optimize_graph, scheduler, get, *args, **kwargs)\u001b[0m\n\u001b[1;32m    659\u001b[0m     postcomputes\u001b[38;5;241m.\u001b[39mappend(x\u001b[38;5;241m.\u001b[39m__dask_postcompute__())\n\u001b[1;32m    661\u001b[0m \u001b[38;5;28;01mwith\u001b[39;00m shorten_traceback():\n\u001b[0;32m--> 662\u001b[0m     results \u001b[38;5;241m=\u001b[39m \u001b[43mschedule\u001b[49m\u001b[43m(\u001b[49m\u001b[43mdsk\u001b[49m\u001b[43m,\u001b[49m\u001b[43m \u001b[49m\u001b[43mkeys\u001b[49m\u001b[43m,\u001b[49m\u001b[43m \u001b[49m\u001b[38;5;241;43m*\u001b[39;49m\u001b[38;5;241;43m*\u001b[39;49m\u001b[43mkwargs\u001b[49m\u001b[43m)\u001b[49m\n\u001b[1;32m    664\u001b[0m \u001b[38;5;28;01mreturn\u001b[39;00m repack([f(r, \u001b[38;5;241m*\u001b[39ma) \u001b[38;5;28;01mfor\u001b[39;00m r, (f, a) \u001b[38;5;129;01min\u001b[39;00m \u001b[38;5;28mzip\u001b[39m(results, postcomputes)])\n",
      "File \u001b[0;32marrays.pyx:190\u001b[0m, in \u001b[0;36mpandas._libs.arrays.NDArrayBacked._concat_same_type\u001b[0;34m()\u001b[0m\n",
      "\u001b[0;31mValueError\u001b[0m: all the input array dimensions for the concatenation axis must match exactly, but along dimension 1, the array at index 0 has size 109006 and the array at index 1 has size 108213"
     ]
    }
   ],
   "source": [
    "scheduled_service = section1.total_service_hours_all_months(name)"
   ]
  },
  {
   "cell_type": "code",
   "execution_count": null,
   "id": "40eca7f4-c581-4a9a-ad6e-7a200c26a1d5",
   "metadata": {},
   "outputs": [],
   "source": [
    "most_recent_ntd = 2022"
   ]
  },
  {
   "cell_type": "code",
   "execution_count": null,
   "id": "69675189-24cc-44fa-a367-e1e7bcf7fe80",
   "metadata": {},
   "outputs": [],
   "source": [
    "ntd = section1.ntd_operator_info(most_recent_ntd, organization_name)"
   ]
  },
  {
   "cell_type": "code",
   "execution_count": null,
   "id": "f07ccefc-0d71-4ad0-8435-9e2941aba9b2",
   "metadata": {},
   "outputs": [],
   "source": [
    "# Datasets for Section 2\n",
    "try:\n",
    "    sched_vp_df = section2.load_schedule_vp_metrics(organization_name)\n",
    "    gtfs_schedule_keys = list(sched_vp_df.schedule_gtfs_dataset_key.unique())\n",
    "except:\n",
    "    pass"
   ]
  },
  {
   "cell_type": "code",
   "execution_count": null,
   "id": "67a74771-f5c1-4757-9f79-bc5e87fba09e",
   "metadata": {},
   "outputs": [],
   "source": [
    "# Set drop down menu to be on the upper right\n",
    "display(\n",
    "    HTML(\n",
    "        \"\"\"\n",
    "<style>\n",
    "form.vega-bindings {\n",
    "  position: absolute;\n",
    "  right: 0px;\n",
    "  top: 0px;\n",
    "}\n",
    "</style>\n",
    "\"\"\"\n",
    "    )\n",
    ")"
   ]
  },
  {
   "cell_type": "markdown",
   "id": "38103db9-fd56-4cbf-9fa7-336da58fd3f6",
   "metadata": {
    "tags": [
     "parameters"
    ]
   },
   "source": [
    "# {organization_name}"
   ]
  },
  {
   "cell_type": "markdown",
   "id": "fd3a4d8d-b16a-4659-b036-f7710f423239",
   "metadata": {},
   "source": [
    "## Operator Overview"
   ]
  },
  {
   "cell_type": "code",
   "execution_count": null,
   "id": "65e5efa4-e731-4429-ae8c-31f90dc4fbf0",
   "metadata": {},
   "outputs": [],
   "source": [
    "try:\n",
    "    date = operator_profiles[\"Date\"].dt.to_pydatetime()[0]\n",
    "except:\n",
    "    pass"
   ]
  },
  {
   "cell_type": "code",
   "execution_count": null,
   "id": "c2bb8f59-af0f-4ab1-9b33-e9306ff5b92f",
   "metadata": {},
   "outputs": [],
   "source": [
    "try:\n",
    "    service_area = int(ntd.service_area_sq_miles.values[0])\n",
    "    service_area = \"{:,}\".format(service_area)\n",
    "    service_pop = int(ntd.service_area_pop.values[0])\n",
    "    service_pop = \"{:,}\".format(service_pop)\n",
    "    display(\n",
    "        Markdown(\n",
    "            f\"\"\"{organization_name} is headquartered in <b>{ntd.hq_city.values[0]}</b> in the Urbanized Area of <b>{ntd.uza_name.values[0]}</b>.<br>\n",
    "            This operator provides <b>{service_area}</b> square miles of public transit service, which has a population of <b>{service_pop}</b>.<br>\n",
    "            This organization is a {ntd.organization_type.values[0]}.<br>\n",
    "            Data Source: <a href=\"https://www.transit.dot.gov/ntd/data-product/2022-annual-database-agency-information\">National Transit Database</a> {most_recent_ntd} Annual Agency Information.\n",
    "            \"\"\"\n",
    "        )\n",
    "    )\n",
    "except:\n",
    "    pass"
   ]
  },
  {
   "cell_type": "markdown",
   "id": "8b32e77d-e7da-4c22-a8bb-520063a61f9f",
   "metadata": {},
   "source": [
    "### Route Typologies"
   ]
  },
  {
   "cell_type": "code",
   "execution_count": null,
   "id": "41803ddf-26e2-457a-aa58-c87379e755d8",
   "metadata": {},
   "outputs": [],
   "source": [
    "try:\n",
    "    display(\n",
    "        Markdown(\n",
    "            f\"\"\"The following data presents an overview of GTFS statistics using data from the most recent date of\n",
    "      <b>{date.strftime(\"%B\")} {date.year}</b>.\"\"\"\n",
    "        )\n",
    "    )\n",
    "except:\n",
    "    pass"
   ]
  },
  {
   "cell_type": "code",
   "execution_count": null,
   "id": "232e2002-d043-43c1-80d2-22c1183c66a1",
   "metadata": {},
   "outputs": [],
   "source": [
    "try:\n",
    "    n_routes = operator_profiles[\"# Routes\"].values[0]\n",
    "    n_routes = \"{:,}\".format(n_routes)\n",
    "    display(\n",
    "        Markdown(\n",
    "            f\"\"\"{organization_name} ran <b>{n_routes}</b> unique routes. Below is the breakdown of the routes and routes can belong to one or more categories.<br>\n",
    "            Route categories are determined using a approach that looks at GTFS trips data\n",
    "        alongside National Association of City Transportation Officials (NACTO)'s\n",
    "        <a href=\"https://nacto.org/publication/transit-street-design-guide/introduction/service-context/transit-route-types/\">Transit Route Types</a> \n",
    "        and <a href= \"https://nacto.org/publication/transit-street-design-guide/introduction/service-context/transit-frequency-volume/\">Frequency and Volume</a>\n",
    "        guides. Please see the <a href=\"https://github.com/cal-itp/data-analyses/blob/main/gtfs_digest/methodology.md\">methodology docs</a> for more details on this approach.\n",
    "        \"\"\"\n",
    "        )\n",
    "    )\n",
    "except:\n",
    "    display(Markdown(f\"\"\"{organization_name} doesn't have an operator profile.\"\"\"))"
   ]
  },
  {
   "cell_type": "code",
   "execution_count": null,
   "id": "c96d1998-9da6-4c28-aec6-c27ffd1edd88",
   "metadata": {},
   "outputs": [],
   "source": [
    "try:\n",
    "    route_typology_df = section1.route_typology(operator_profiles)\n",
    "    display(\n",
    "        section1.basic_pie_chart(\n",
    "            route_typology_df,\n",
    "            \"route_type\",\n",
    "            \"total_routes\",\n",
    "            readable_dict[\"route_typology\"][\"title\"],\n",
    "            readable_dict[\"route_typology\"][\"subtitle\"],\n",
    "        )\n",
    "    )\n",
    "\n",
    "except:\n",
    "    display(\n",
    "        Markdown(f\"\"\"{organization_name} doesn't have route typologies available.\"\"\")\n",
    "    )"
   ]
  },
  {
   "cell_type": "markdown",
   "id": "cd6424cf-63ab-4c1f-982b-afbd1b8ed357",
   "metadata": {},
   "source": [
    "### Service Area"
   ]
  },
  {
   "cell_type": "code",
   "execution_count": null,
   "id": "f7f617f8-338d-4ea0-99e7-25c1bfe62e06",
   "metadata": {},
   "outputs": [],
   "source": [
    "try:\n",
    "    n_service_miles = int(operator_profiles[\"Operator Service Miles\"].values[0])\n",
    "    n_service_miles = \"{:,}\".format(n_service_miles)\n",
    "\n",
    "    avg_service_miles = int(operator_route_map[\"Service Miles\"].mean())\n",
    "    avg_service_miles = \"{:,}\".format(avg_service_miles)\n",
    "    display(\n",
    "        Markdown(\n",
    "            f\"\"\"{organization_name} provided <b>{n_service_miles}</b> miles of public transit.\n",
    "        The average length of a route is <b>{avg_service_miles}</b> miles.\n",
    "        \"\"\"\n",
    "        )\n",
    "    )\n",
    "except:\n",
    "    pass"
   ]
  },
  {
   "cell_type": "code",
   "execution_count": null,
   "id": "0b240e52-b3c5-439e-8c34-ede92c1e45cb",
   "metadata": {},
   "outputs": [],
   "source": [
    "try:\n",
    "    longest_shortest_df = section1.shortest_longest_route(operator_route_map)\n",
    "    display(\n",
    "        section1.basic_bar_chart(\n",
    "            longest_shortest_df,\n",
    "            \"Service Miles\",\n",
    "            \"Route\",\n",
    "            readable_dict[\"longest_shortest_route\"][\"title\"],\n",
    "            readable_dict[\"longest_shortest_route\"][\"subtitle\"],\n",
    "        )\n",
    "    )\n",
    "except:\n",
    "    pass"
   ]
  },
  {
   "cell_type": "code",
   "execution_count": null,
   "id": "daaf9009-6a25-441e-a58d-66b60d04d35c",
   "metadata": {},
   "outputs": [],
   "source": [
    "try:\n",
    "    n_stops = int(operator_profiles[\"# Stops\"].values[0])\n",
    "    n_stops = \"{:,}\".format(n_stops)\n",
    "\n",
    "    n_arrivals = int(operator_profiles[\"# Arrivals\"].values[0])\n",
    "    n_arrivals = \"{:,}\".format(n_arrivals)\n",
    "\n",
    "    mean_arrivals = int(operator_profiles[\"Avg Arrivals per Stop\"].values[0])\n",
    "    mean_arrivals = \"{:,}\".format(mean_arrivals)\n",
    "    display(\n",
    "        Markdown(\n",
    "            f\"\"\"{organization_name} stopped at <b>{n_stops}</b> unique stops, \n",
    "            totaling to <b>{n_arrivals}</b> arrivals. The average arrivals per stop \n",
    "            was <b>{mean_arrivals}</b>.\n",
    "        \"\"\"\n",
    "        )\n",
    "    )\n",
    "except:\n",
    "    pass"
   ]
  },
  {
   "cell_type": "code",
   "execution_count": null,
   "id": "821bca2d-7fdd-4e81-af9b-c02deabfe837",
   "metadata": {},
   "outputs": [],
   "source": [
    "try:\n",
    "    counties_df = section1.counties_served(operator_route_map)\n",
    "    display(\n",
    "        Markdown(\n",
    "            f\"{organization_name} provides public transit in {counties_df['all'].values[0]} counties.\"\n",
    "        )\n",
    "    )\n",
    "except:\n",
    "    display(Markdown(f\"\"\"{organization_name} doesn't have an route geographies.\"\"\"))"
   ]
  },
  {
   "cell_type": "markdown",
   "id": "4a9d35a4-088a-4f74-ac4b-dff59b9f427a",
   "metadata": {},
   "source": [
    "### Map of Routes"
   ]
  },
  {
   "cell_type": "code",
   "execution_count": null,
   "id": "1c89d07e-34dd-4c70-8ae4-0e427d10a6d7",
   "metadata": {},
   "outputs": [],
   "source": [
    "try:\n",
    "    display(\n",
    "        operator_route_map.explore(\n",
    "            \"Route\",\n",
    "            cmap=\"Spectral\",\n",
    "            tiles=\"CartoDB positron\",\n",
    "            width=500,\n",
    "            height=300,\n",
    "            style_kwds={\"weight\": 3},\n",
    "            legend=False,\n",
    "            tooltip=[\"Route\", \"Service Miles\"],\n",
    "        )\n",
    "    )\n",
    "except:\n",
    "    display(Markdown(f\"\"\"{organization_name} doesn't have an route geographies.\"\"\"))"
   ]
  },
  {
   "cell_type": "markdown",
   "id": "801f9128-b08f-4ee6-942d-a4f64cbdfa32",
   "metadata": {},
   "source": [
    "### Service Hours "
   ]
  },
  {
   "cell_type": "code",
   "execution_count": null,
   "id": "fefc07f3-7c31-48d1-ad7c-dbf3c42796d3",
   "metadata": {},
   "outputs": [],
   "source": [
    "try:\n",
    "    display(section1.create_service_hour_chart(\n",
    "    scheduled_service,\n",
    "    \"Weekday\",\n",
    "    \"weekday_service_hours\",\n",
    "    readable_dict[\"daily_scheduled_hour\"][\"subtitle\"])\n",
    "           )\n",
    "except:\n",
    "    pass"
   ]
  },
  {
   "cell_type": "code",
   "execution_count": null,
   "id": "c971a7c1-7ebf-4121-9a39-454acd9efb1f",
   "metadata": {},
   "outputs": [],
   "source": [
    "try:\n",
    "    display(section1.create_service_hour_chart(\n",
    "    scheduled_service,\n",
    "    \"Saturday\",\n",
    "    \"weekend_service_hours\",\n",
    "    \"\"\n",
    "    ))\n",
    "except:\n",
    "    pass"
   ]
  },
  {
   "cell_type": "code",
   "execution_count": null,
   "id": "44697ac6-7ee6-453a-a04a-0a94da719ccf",
   "metadata": {},
   "outputs": [],
   "source": [
    "try:\n",
    "    display(section1.create_service_hour_chart(\n",
    "    scheduled_service,\n",
    "    \"Sunday\",\n",
    "    \"weekend_service_hours\",\n",
    "    \"\"\n",
    "    ))\n",
    "except:\n",
    "    pass"
   ]
  },
  {
   "cell_type": "markdown",
   "id": "f1b398b9-63ec-4edf-860f-194fc08e3066",
   "metadata": {},
   "source": [
    "## Detailed Route Overview"
   ]
  },
  {
   "cell_type": "code",
   "execution_count": null,
   "id": "fbbc04e8-bad4-4d76-84c3-6ba9b76a42c0",
   "metadata": {},
   "outputs": [],
   "source": [
    "try:\n",
    "    display(section2.filtered_route(sched_vp_df))\n",
    "except:\n",
    "    display(Markdown(f\"\"\"{organization_name} only has schedule data.\"\"\"))"
   ]
  }
 ],
 "metadata": {
  "kernelspec": {
   "display_name": "Python 3 (ipykernel)",
   "language": "python",
   "name": "python3"
  },
  "language_info": {
   "codemirror_mode": {
    "name": "ipython",
    "version": 3
   },
   "file_extension": ".py",
   "mimetype": "text/x-python",
   "name": "python",
   "nbconvert_exporter": "python",
   "pygments_lexer": "ipython3",
   "version": "3.9.13"
  }
 },
 "nbformat": 4,
 "nbformat_minor": 5
}
