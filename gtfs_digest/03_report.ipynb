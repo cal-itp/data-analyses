{
 "cells": [
  {
   "cell_type": "code",
   "execution_count": null,
   "id": "936e2c22-24ba-4f20-99d8-846cfe0a4e27",
   "metadata": {},
   "outputs": [],
   "source": [
    "%%capture\n",
    "\n",
    "import warnings\n",
    "\n",
    "warnings.filterwarnings(\"ignore\")\n",
    "import _report_operator_section1_utils as section1\n",
    "import _report_operator_section2_utils as section2\n",
    "import altair as alt\n",
    "import calitp_data_analysis.magics\n",
    "import deploy_portfolio_yaml\n",
    "import pandas as pd\n",
    "import yaml\n",
    "from IPython.display import HTML, Image, Markdown, display, display_html\n",
    "from shared_utils import catalog_utils, rt_dates, rt_utils\n",
    "\n",
    "with open(\"readable.yml\") as f:\n",
    "    readable_dict = yaml.safe_load(f)"
   ]
  },
  {
   "cell_type": "code",
   "execution_count": null,
   "id": "b89867bd-a089-4033-97d7-d6d1ae50b697",
   "metadata": {},
   "outputs": [],
   "source": [
    "pd.options.display.max_columns = 100\n",
    "pd.options.display.float_format = \"{:.2f}\".format\n",
    "pd.set_option(\"display.max_rows\", None)\n",
    "pd.set_option(\"display.max_colwidth\", None)"
   ]
  },
  {
   "cell_type": "code",
   "execution_count": null,
   "id": "6bd20d9d-a3af-430e-8c19-c90fb8ef9e62",
   "metadata": {
    "tags": [
     "parameters"
    ]
   },
   "outputs": [],
   "source": [
    "# Comment out and leave this cell right below pandas\n",
    "# portfolio_name = \"Capitol Corridor Joint Powers Authority\"\n",
    "# portfolio_name = \"Yurok Tribe\"\n",
    "# portfolio_name = \"City of Santa Maria\"\n",
    "# portfolio_name = \"San Diego Schedule\"\n",
    "portfolio_name = \"City and County of San Francisco\""
   ]
  },
  {
   "cell_type": "code",
   "execution_count": null,
   "id": "d870c492-ef2c-45f6-ab47-8d46eda7f344",
   "metadata": {
    "tags": [
     "parameters"
    ]
   },
   "outputs": [],
   "source": [
    "# %%capture_parameters\n",
    "# portfolio_name"
   ]
  },
  {
   "cell_type": "code",
   "execution_count": null,
   "id": "2d6db4c9-6e19-4850-901d-8521268d02cc",
   "metadata": {
    "tags": []
   },
   "outputs": [],
   "source": [
    "# Load crosswalk between portfolio_name vs organization_name\n",
    "organization_name = deploy_portfolio_yaml.generate_operator_grain_yaml()"
   ]
  },
  {
   "cell_type": "code",
   "execution_count": null,
   "id": "f72cbb4b-31cd-4a51-ba6a-3ca474e784ea",
   "metadata": {
    "tags": []
   },
   "outputs": [],
   "source": [
    "organization_name = organization_name.loc[\n",
    "    organization_name.portfolio_name == portfolio_name\n",
    "][\"organization_name\"].iloc[0]"
   ]
  },
  {
   "cell_type": "code",
   "execution_count": null,
   "id": "b8e11fd2-041f-4e1d-a00f-6e000269c1a7",
   "metadata": {},
   "outputs": [],
   "source": [
    "# Load first dataset\n",
    "operator_profiles = section1.load_operator_ntd_profile(organization_name)"
   ]
  },
  {
   "cell_type": "code",
   "execution_count": null,
   "id": "8e840f91-2e1a-4235-bf6b-0c049a569b4a",
   "metadata": {},
   "outputs": [],
   "source": [
    "# Need to load \"name\" using this function rather than taking it from\n",
    "# operator profiles above because \"name\" and \"organization_name\" differ.\n",
    "names = section1.organization_name_crosswalk(organization_name)"
   ]
  },
  {
   "cell_type": "code",
   "execution_count": null,
   "id": "517702ae-a7ac-4cc4-a2d4-158fdc8d6919",
   "metadata": {},
   "outputs": [],
   "source": [
    "operator_route_map = section1.load_operator_map(names)\n",
    "\n",
    "# Find percentiles\n",
    "operator_route_map = section1.find_percentiles(operator_route_map, \"Service Miles\")"
   ]
  },
  {
   "cell_type": "code",
   "execution_count": null,
   "id": "dd8b7a4c-7682-4949-9e9b-990ce6867627",
   "metadata": {},
   "outputs": [],
   "source": [
    "scheduled_service = section1.load_operator_service_hours(names)"
   ]
  },
  {
   "cell_type": "code",
   "execution_count": null,
   "id": "72641974-01d5-47cf-b963-baf546e9e958",
   "metadata": {},
   "outputs": [],
   "source": [
    "# Dataset with agency metrics\n",
    "try:\n",
    "    agency_metrics_df = section2.load_operator_metrics(organization_name)\n",
    "except:\n",
    "    pass"
   ]
  },
  {
   "cell_type": "code",
   "execution_count": null,
   "id": "f07ccefc-0d71-4ad0-8435-9e2941aba9b2",
   "metadata": {},
   "outputs": [],
   "source": [
    "# Dataset for Section 2: because not every operator has realtime data,\n",
    "# we need a try-except clause.\n",
    "try:\n",
    "    monthly_sched_vp_df, qtr_sched_vp_df = section2.load_schedule_vp_metrics(\n",
    "        organization_name\n",
    "    )\n",
    "except:\n",
    "    pass"
   ]
  },
  {
   "cell_type": "code",
   "execution_count": null,
   "id": "67a74771-f5c1-4757-9f79-bc5e87fba09e",
   "metadata": {},
   "outputs": [],
   "source": [
    "# Set drop down menu to be on the upper right for the charts\n",
    "display(\n",
    "    HTML(\n",
    "        \"\"\"\n",
    "<style>\n",
    "form.vega-bindings {\n",
    "  position: absolute;\n",
    "  right: 0px;\n",
    "  top: 0px;\n",
    "}\n",
    "</style>\n",
    "\"\"\"\n",
    "    )\n",
    ")"
   ]
  },
  {
   "cell_type": "markdown",
   "id": "38103db9-fd56-4cbf-9fa7-336da58fd3f6",
   "metadata": {
    "tags": [
     "parameters"
    ]
   },
   "source": [
    "# {portfolio_name}"
   ]
  },
  {
   "cell_type": "markdown",
   "id": "fd3a4d8d-b16a-4659-b036-f7710f423239",
   "metadata": {},
   "source": [
    "## Operator Overview"
   ]
  },
  {
   "cell_type": "code",
   "execution_count": null,
   "id": "65e5efa4-e731-4429-ae8c-31f90dc4fbf0",
   "metadata": {},
   "outputs": [],
   "source": [
    "try:\n",
    "    date = operator_profiles[\"Date\"].dt.to_pydatetime()[0]\n",
    "except:\n",
    "    pass"
   ]
  },
  {
   "cell_type": "code",
   "execution_count": null,
   "id": "c2bb8f59-af0f-4ab1-9b33-e9306ff5b92f",
   "metadata": {},
   "outputs": [],
   "source": [
    "try:\n",
    "    service_area = int(operator_profiles.service_area_sq_miles.values[0])\n",
    "    service_area = \"{:,}\".format(service_area)\n",
    "    service_pop = int(operator_profiles.service_area_pop.values[0])\n",
    "    service_pop = \"{:,}\".format(service_pop)\n",
    "    display(\n",
    "        Markdown(\n",
    "            f\"\"\"{portfolio_name} is headquartered in <b>{operator_profiles.hq_city.values[0]}</b> in the Urbanized Area of <b>{operator_profiles.primary_uza_name.values[0]}</b>.<br>\n",
    "            This operator provides <b>{service_area}</b> square miles of public transit service, which has a service population of <b>{service_pop}</b>.<br>\n",
    "            This organization is a {operator_profiles.organization_type.values[0]}.<br>\n",
    "            <b>Data Source</b>: <a href=\"https://www.transit.dot.gov/ntd/data-product/2022-annual-database-agency-information\">National Transit Database</a> Annual Agency Information.\n",
    "            \"\"\"\n",
    "        )\n",
    "    )\n",
    "except:\n",
    "    pass"
   ]
  },
  {
   "cell_type": "markdown",
   "id": "8b32e77d-e7da-4c22-a8bb-520063a61f9f",
   "metadata": {},
   "source": [
    "### Route Typologies"
   ]
  },
  {
   "cell_type": "code",
   "execution_count": null,
   "id": "41803ddf-26e2-457a-aa58-c87379e755d8",
   "metadata": {},
   "outputs": [],
   "source": [
    "try:\n",
    "    display(\n",
    "        Markdown(\n",
    "            f\"\"\"The following data presents an overview of GTFS characteristics using data from the most recent date of\n",
    "      <b>{date.strftime(\"%B\")} {date.year}</b>.\"\"\"\n",
    "        )\n",
    "    )\n",
    "except:\n",
    "    pass"
   ]
  },
  {
   "cell_type": "code",
   "execution_count": null,
   "id": "232e2002-d043-43c1-80d2-22c1183c66a1",
   "metadata": {},
   "outputs": [],
   "source": [
    "try:\n",
    "    n_routes = operator_profiles[\"# Routes\"].values[0]\n",
    "    n_routes = \"{:,}\".format(n_routes)\n",
    "    display(\n",
    "        Markdown(\n",
    "            f\"\"\"{portfolio_name} runs <b>{n_routes}</b> unique routes. Below is the breakdown of the routes and routes can belong to one or more categories.<p>\n",
    "            Route categories are determined using a approach that looks at GTFS trips data\n",
    "        alongside National Association of City Transportation Officials (NACTO)'s\n",
    "        <a href=\"https://nacto.org/publication/transit-street-design-guide/introduction/service-context/transit-route-types/\">Transit Route Types</a> \n",
    "        and <a href= \"https://nacto.org/publication/transit-street-design-guide/introduction/service-context/transit-frequency-volume/\">Frequency and Volume</a>\n",
    "        guides. Please see the <a href=\"https://github.com/cal-itp/data-analyses/blob/main/gtfs_digest/methodology.md\">methodology docs</a> for more details on this approach.\n",
    "        \"\"\"\n",
    "        )\n",
    "    )\n",
    "except:\n",
    "    display(Markdown(f\"\"\"{portfolio_name} doesn't have an operator profile.\"\"\"))"
   ]
  },
  {
   "cell_type": "code",
   "execution_count": null,
   "id": "c96d1998-9da6-4c28-aec6-c27ffd1edd88",
   "metadata": {},
   "outputs": [],
   "source": [
    "try:\n",
    "    route_typology_df = section1.route_typology(operator_profiles)\n",
    "    display(\n",
    "        section1.basic_pie_chart(\n",
    "            route_typology_df,\n",
    "            \"route_type\",\n",
    "            \"total_routes\",\n",
    "            readable_dict[\"route_typology\"][\"title\"],\n",
    "            readable_dict[\"route_typology\"][\"subtitle\"],\n",
    "        )\n",
    "    )\n",
    "\n",
    "except:\n",
    "    display(\n",
    "        Markdown(f\"\"\"{portfolio_name} doesn't have route typology data available.\"\"\")\n",
    "    )"
   ]
  },
  {
   "cell_type": "markdown",
   "id": "cd6424cf-63ab-4c1f-982b-afbd1b8ed357",
   "metadata": {},
   "source": [
    "### Service Area"
   ]
  },
  {
   "cell_type": "code",
   "execution_count": null,
   "id": "f7f617f8-338d-4ea0-99e7-25c1bfe62e06",
   "metadata": {},
   "outputs": [],
   "source": [
    "try:\n",
    "    n_service_miles = int(operator_profiles[\"Operator Service Miles\"].values[0])\n",
    "    n_service_miles = \"{:,}\".format(n_service_miles)\n",
    "\n",
    "    avg_service_miles = int(operator_route_map[\"Service Miles\"].mean())\n",
    "    avg_service_miles = \"{:,}\".format(avg_service_miles)\n",
    "\n",
    "    route_percentile_agg = section1.route_length_percentile(operator_route_map)\n",
    "\n",
    "    display(\n",
    "        Markdown(\n",
    "            f\"\"\"{portfolio_name} provides <b>{n_service_miles}</b> miles of public transit.\n",
    "        The average length of a route is <b>{avg_service_miles}</b> miles.<p> \n",
    "        \"\"\"\n",
    "        )\n",
    "    )\n",
    "\n",
    "    display(\n",
    "        section1.basic_bar_chart(\n",
    "            route_percentile_agg,\n",
    "            \"Total Unique Routes\",\n",
    "            \"percentile_group\",\n",
    "            readable_dict[\"route_percentiles\"][\"title\"],\n",
    "            readable_dict[\"route_percentiles\"][\"subtitle\"],\n",
    "        )\n",
    "    )\n",
    "\n",
    "    longest_shortest_df = section1.shortest_longest_route(operator_route_map)\n",
    "    display(\n",
    "        section1.basic_bar_chart(\n",
    "            longest_shortest_df,\n",
    "            \"Service Miles\",\n",
    "            \"Route\",\n",
    "            readable_dict[\"longest_shortest_route\"][\"title\"],\n",
    "            readable_dict[\"longest_shortest_route\"][\"subtitle\"],\n",
    "        )\n",
    "    )\n",
    "except:\n",
    "    pass"
   ]
  },
  {
   "cell_type": "code",
   "execution_count": null,
   "id": "daaf9009-6a25-441e-a58d-66b60d04d35c",
   "metadata": {},
   "outputs": [],
   "source": [
    "try:\n",
    "    n_stops = int(operator_profiles[\"# Stops\"].values[0])\n",
    "    n_stops = \"{:,}\".format(n_stops)\n",
    "\n",
    "    n_arrivals = int(operator_profiles[\"# Arrivals\"].values[0])\n",
    "    n_arrivals = \"{:,}\".format(n_arrivals)\n",
    "\n",
    "    mean_arrivals = int(operator_profiles[\"Avg Arrivals per Stop\"].values[0])\n",
    "    mean_arrivals = \"{:,}\".format(mean_arrivals)\n",
    "    display(\n",
    "        Markdown(\n",
    "            f\"\"\"{portfolio_name} stops at <b>{n_stops}</b> unique stops, \n",
    "            totaling to <b>{n_arrivals}</b> arrivals. The average arrivals per stop \n",
    "            is <b>{mean_arrivals}</b>.\n",
    "        \"\"\"\n",
    "        )\n",
    "    )\n",
    "except:\n",
    "    pass"
   ]
  },
  {
   "cell_type": "code",
   "execution_count": null,
   "id": "821bca2d-7fdd-4e81-af9b-c02deabfe837",
   "metadata": {},
   "outputs": [],
   "source": [
    "try:\n",
    "    counties_df = section1.counties_served(operator_route_map)\n",
    "    display(\n",
    "        Markdown(\n",
    "            f\"{portfolio_name} provides public transit in {counties_df['all'].values[0]} counties.\"\n",
    "        )\n",
    "    )\n",
    "except:\n",
    "    display(Markdown(f\"\"\"{portfolio_name} doesn't have an route geographies.\"\"\"))"
   ]
  },
  {
   "cell_type": "markdown",
   "id": "4a9d35a4-088a-4f74-ac4b-dff59b9f427a",
   "metadata": {},
   "source": [
    "### Map of Routes"
   ]
  },
  {
   "cell_type": "code",
   "execution_count": null,
   "id": "1c89d07e-34dd-4c70-8ae4-0e427d10a6d7",
   "metadata": {},
   "outputs": [],
   "source": [
    "try:\n",
    "    display(\n",
    "        operator_route_map.explore(\n",
    "            \"Route\",\n",
    "            cmap=\"Spectral\",\n",
    "            tiles=\"CartoDB positron\",\n",
    "            width=500,\n",
    "            height=300,\n",
    "            style_kwds={\"weight\": 3},\n",
    "            legend=False,\n",
    "            tooltip=[\"Route\", \"Service Miles\"],\n",
    "        )\n",
    "    )\n",
    "except:\n",
    "    display(Markdown(f\"\"\"{portfolio_name} doesn't have an route geographies.\"\"\"))"
   ]
  },
  {
   "cell_type": "markdown",
   "id": "801f9128-b08f-4ee6-942d-a4f64cbdfa32",
   "metadata": {},
   "source": [
    "### Service Hours "
   ]
  },
  {
   "cell_type": "code",
   "execution_count": null,
   "id": "fefc07f3-7c31-48d1-ad7c-dbf3c42796d3",
   "metadata": {},
   "outputs": [],
   "source": [
    "try:\n",
    "    display(\n",
    "        section1.create_service_hour_chart(\n",
    "            scheduled_service,\n",
    "            \"Weekday\",\n",
    "            \"Weekday Service Hours\",\n",
    "            readable_dict[\"daily_scheduled_hour\"][\"subtitle\"],\n",
    "        )\n",
    "    )\n",
    "except:\n",
    "    pass"
   ]
  },
  {
   "cell_type": "code",
   "execution_count": null,
   "id": "83390604-62b8-4a05-b435-dec8748e45dd",
   "metadata": {},
   "outputs": [],
   "source": [
    "try:\n",
    "    display(\n",
    "        section1.create_service_hour_chart(\n",
    "            scheduled_service, \"Saturday\", \"Weekend Service Hours\", \"\"\n",
    "        )\n",
    "    )\n",
    "except:\n",
    "    pass"
   ]
  },
  {
   "cell_type": "code",
   "execution_count": null,
   "id": "44697ac6-7ee6-453a-a04a-0a94da719ccf",
   "metadata": {},
   "outputs": [],
   "source": [
    "try:\n",
    "    display(\n",
    "        section1.create_service_hour_chart(\n",
    "            scheduled_service, \"Sunday\", \"Weekend Service Hours\", \"\"\n",
    "        )\n",
    "    )\n",
    "except:\n",
    "    pass"
   ]
  },
  {
   "cell_type": "markdown",
   "id": "43045583-c228-4fe1-9b49-b7b20d9352ae",
   "metadata": {},
   "source": [
    "## Metrics for All Routes "
   ]
  },
  {
   "cell_type": "code",
   "execution_count": null,
   "id": "5837257e-9a54-4c36-8130-d0e6ff709025",
   "metadata": {},
   "outputs": [],
   "source": [
    "if (agency_metrics_df[\"VP per Minute (All Routes)\"].isna().sum() > 2) | (\n",
    "    agency_metrics_df[\"Spatial Accuracy (All Routes)\"].isna().sum() > 2\n",
    "):\n",
    "    display(Markdown(f\"\"\"{organization_name} only has schedule data.\"\"\"))\n",
    "else:\n",
    "    display(section2.agency_overview(agency_metrics_df))"
   ]
  },
  {
   "cell_type": "markdown",
   "id": "f1b398b9-63ec-4edf-860f-194fc08e3066",
   "metadata": {},
   "source": [
    "## Detailed Route Overview"
   ]
  },
  {
   "cell_type": "code",
   "execution_count": null,
   "id": "fbbc04e8-bad4-4d76-84c3-6ba9b76a42c0",
   "metadata": {
    "tags": []
   },
   "outputs": [],
   "source": [
    "try:\n",
    "    display(section2.filtered_route(monthly_sched_vp_df, qtr_sched_vp_df))\n",
    "except:\n",
    "    display(Markdown(f\"\"\"{portfolio_name} only has schedule data.\"\"\"))"
   ]
  }
 ],
 "metadata": {
  "kernelspec": {
   "display_name": "Python 3 (ipykernel)",
   "language": "python",
   "name": "python3"
  },
  "language_info": {
   "codemirror_mode": {
    "name": "ipython",
    "version": 3
   },
   "file_extension": ".py",
   "mimetype": "text/x-python",
   "name": "python",
   "nbconvert_exporter": "python",
   "pygments_lexer": "ipython3",
   "version": "3.11.10"
  }
 },
 "nbformat": 4,
 "nbformat_minor": 5
}
