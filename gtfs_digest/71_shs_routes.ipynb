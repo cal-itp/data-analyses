{
 "cells": [
  {
   "cell_type": "markdown",
   "id": "41619139-2e85-4914-a0c0-cb390c36b94c",
   "metadata": {},
   "source": [
    "# Transit On the SHN \n",
    "* [GH Issue](https://github.com/cal-itp/data-analyses/issues/1477)\n"
   ]
  },
  {
   "cell_type": "code",
   "execution_count": null,
   "id": "f6b01cd8-ccda-4d2a-9c64-9cca36e0713c",
   "metadata": {},
   "outputs": [],
   "source": [
    "import geopandas as gpd\n",
    "import google.auth\n",
    "import numpy as np\n",
    "import pandas as pd\n",
    "\n",
    "credentials, project = google.auth.default()\n",
    "\n",
    "import gcsfs\n",
    "\n",
    "fs = gcsfs.GCSFileSystem()"
   ]
  },
  {
   "cell_type": "code",
   "execution_count": null,
   "id": "ec246873-6121-4544-8d62-f71dec06352e",
   "metadata": {
    "tags": []
   },
   "outputs": [],
   "source": [
    "from calitp_data_analysis import geography_utils, utils\n",
    "from segment_speed_utils import gtfs_schedule_wrangling, helpers\n",
    "from shared_utils import (\n",
    "    catalog_utils,\n",
    "    dask_utils,\n",
    "    gtfs_utils_v2,\n",
    "    portfolio_utils,\n",
    "    publish_utils,\n",
    "    rt_dates,\n",
    "    rt_utils,\n",
    ")\n",
    "from update_vars import GTFS_DATA_DICT, RT_SCHED_GCS, SCHED_GCS, SEGMENT_GCS"
   ]
  },
  {
   "cell_type": "code",
   "execution_count": null,
   "id": "ffeaad35-64a6-4b16-a93d-ac4a0759288a",
   "metadata": {
    "tags": []
   },
   "outputs": [],
   "source": [
    "pd.options.display.max_columns = 100\n",
    "pd.options.display.float_format = \"{:.2f}\".format\n",
    "pd.set_option(\"display.max_rows\", None)\n",
    "pd.set_option(\"display.max_colwidth\", None)"
   ]
  },
  {
   "cell_type": "code",
   "execution_count": null,
   "id": "fac679d2-4c02-409f-9550-4334664c631a",
   "metadata": {
    "tags": []
   },
   "outputs": [],
   "source": [
    "analysis_date_list = rt_dates.y2024_dates + rt_dates.y2023_dates + rt_dates.y2025_dates"
   ]
  },
  {
   "cell_type": "code",
   "execution_count": null,
   "id": "48e01cac-bde0-49bf-bfed-304f83f8fc10",
   "metadata": {
    "tags": []
   },
   "outputs": [],
   "source": [
    "analysis_date = \"2025-03-12\""
   ]
  },
  {
   "cell_type": "markdown",
   "id": "97362753-78c3-4587-8ae2-15dd5ae8ab3b",
   "metadata": {},
   "source": [
    "## Load in Operator Routes - Fix the way `shortest_longest` and `percentile_groups` are created in `merge_operator_data`"
   ]
  },
  {
   "cell_type": "code",
   "execution_count": null,
   "id": "1771ea96-ce3b-415f-88f5-8ed54a9b6a5c",
   "metadata": {
    "tags": []
   },
   "outputs": [],
   "source": [
    "def process_transit_routes() -> gpd.GeoDataFrame:\n",
    "    \"\"\"\n",
    "    Select the most recent transit route.\n",
    "    Also count how many routes there are for each operator.\n",
    "    \"\"\"\n",
    "    OPERATOR_ROUTE = GTFS_DATA_DICT.digest_tables.operator_routes_map\n",
    "\n",
    "    subset = [\n",
    "        \"service_date\",\n",
    "        \"geometry\",\n",
    "        \"portfolio_organization_name\",\n",
    "        \"recent_combined_name\",\n",
    "        \"route_id\",\n",
    "        \"schedule_gtfs_dataset_key\",\n",
    "    ]\n",
    "    op_geography_df = gpd.read_parquet(\n",
    "        f\"{RT_SCHED_GCS}{OPERATOR_ROUTE}.parquet\",\n",
    "        storage_options={\"token\": credentials.token},\n",
    "    )[subset]\n",
    "\n",
    "    most_recent_dates = publish_utils.filter_to_recent_date(\n",
    "        df=op_geography_df,\n",
    "        group_cols=[\n",
    "            \"portfolio_organization_name\",\n",
    "            \"route_id\",\n",
    "        ],\n",
    "    )\n",
    "    most_recent_routes = pd.merge(\n",
    "        op_geography_df,\n",
    "        most_recent_dates,\n",
    "        on=[\"portfolio_organization_name\", \"route_id\", \"service_date\"],\n",
    "        how=\"inner\",\n",
    "    )\n",
    "    # Calc length of route\n",
    "    most_recent_routes = most_recent_routes.assign(\n",
    "        route_length_feet=most_recent_routes.geometry.to_crs(\n",
    "            geography_utils.CA_NAD83Albers_ft\n",
    "        ).length\n",
    "    )\n",
    "\n",
    "    # Drop duplicates?\n",
    "    most_recent_routes = most_recent_routes.drop_duplicates(\n",
    "        subset=[\"portfolio_organization_name\", \"route_id\", \"service_date\"]\n",
    "    )\n",
    "    return most_recent_routes"
   ]
  },
  {
   "cell_type": "code",
   "execution_count": null,
   "id": "1af038b4-5ce3-486d-b11f-a1891e521fd3",
   "metadata": {
    "tags": []
   },
   "outputs": [],
   "source": [
    "transit_routes = process_transit_routes()"
   ]
  },
  {
   "cell_type": "code",
   "execution_count": null,
   "id": "c7a5c057-9789-447c-a0e4-20ca56bddea0",
   "metadata": {
    "tags": []
   },
   "outputs": [],
   "source": [
    "transit_routes.drop(columns=[\"geometry\"]).sample(3)"
   ]
  },
  {
   "cell_type": "markdown",
   "id": "458212e5-3cb6-476b-8768-3a2d6d4ce494",
   "metadata": {
    "tags": []
   },
   "source": [
    "## Load in SHS \n",
    "* Reuse Tiffany's [code](https://github.com/cal-itp/data-analyses/blob/main/rt_segment_speeds/segment_speed_utils/parallel_corridors.py)"
   ]
  },
  {
   "cell_type": "code",
   "execution_count": null,
   "id": "3e081d5e-43f5-4298-b98a-cd89390117be",
   "metadata": {
    "tags": []
   },
   "outputs": [],
   "source": [
    "def dissolve_shn() -> gpd.GeoDataFrame:\n",
    "    \"\"\"\n",
    "    Dissolve State Highway Network so\n",
    "    there will only be one row for each\n",
    "    route name and route type\n",
    "    \"\"\"\n",
    "    # calitp-analytics-data/data-analyses/state_highway_network\n",
    "    SHN_FILE = catalog_utils.get_catalog(\n",
    "        \"shared_data_catalog\"\n",
    "    ).state_highway_network.urlpath\n",
    "\n",
    "    shn = gpd.read_parquet(\n",
    "        SHN_FILE,\n",
    "        storage_options={\"token\": credentials.token},\n",
    "    ).to_crs(geography_utils.CA_NAD83Albers_ft)\n",
    "\n",
    "    # Dissolve\n",
    "    shn_dissolved = (\n",
    "        shn.dissolve(by=[\"Route\", \"RouteType\"])\n",
    "        .reset_index()\n",
    "        .drop(columns=[\"County\", \"District\", \"Direction\"])\n",
    "    )\n",
    "\n",
    "    shn_dissolved = shn_dissolved.rename(\n",
    "        columns={\"Route\": \"shn_route\", \"RouteType\": \"route_type\"}\n",
    "    )\n",
    "\n",
    "    shn_dissolved = shn_dissolved.assign(\n",
    "        highway_feet=shn_dissolved.geometry.length,\n",
    "        shn_route=shn_dissolved.shn_route.astype(int),\n",
    "    )\n",
    "\n",
    "    shn_dissolved.to_parquet(\n",
    "        \"gs://calitp-analytics-data/data-analyses/state_highway_network/shn_dissolved.parquet\"\n",
    "    )"
   ]
  },
  {
   "cell_type": "code",
   "execution_count": null,
   "id": "c01fbfd0-4f2e-4971-b212-af521210e465",
   "metadata": {
    "tags": []
   },
   "outputs": [],
   "source": [
    "SHN_FILE = catalog_utils.get_catalog(\n",
    "    \"shared_data_catalog\"\n",
    ").state_highway_network.urlpath"
   ]
  },
  {
   "cell_type": "code",
   "execution_count": null,
   "id": "43c845ad-221f-4dc7-8056-17695a4223f7",
   "metadata": {
    "tags": []
   },
   "outputs": [],
   "source": [
    "# shn = gpd.read_parquet(\n",
    "#   SHN_FILE,\n",
    "#   storage_options={\"token\": credentials.token},\n",
    "# ).to_crs(geography_utils.CA_NAD83Albers_ft)"
   ]
  },
  {
   "cell_type": "code",
   "execution_count": null,
   "id": "627289f5-a7b3-4c85-90bc-cf1a8742350d",
   "metadata": {
    "tags": []
   },
   "outputs": [],
   "source": [
    "# Dissolve\n",
    "# shn_dissolved = (\n",
    "#   shn.dissolve(by=[\"Route\", \"RouteType\"])\n",
    "#   .reset_index()\n",
    "#   .drop(columns=[\"County\", \"District\", \"Direction\"])\n",
    "# )"
   ]
  },
  {
   "cell_type": "code",
   "execution_count": null,
   "id": "8cbea8f2-0d52-4af7-95ac-9c4761407b60",
   "metadata": {},
   "outputs": [],
   "source": [
    "shn_dissolved = dissolve_shn()"
   ]
  },
  {
   "cell_type": "markdown",
   "id": "e37bb094-c57e-4b14-99ae-1ca3e18b7017",
   "metadata": {},
   "source": [
    "### When I plot them using `explore` the routes are exactly the same\n",
    "* Where to save dissolved file? "
   ]
  },
  {
   "cell_type": "code",
   "execution_count": null,
   "id": "4d2d3727-e2f7-4eae-af62-539c96cba02f",
   "metadata": {
    "scrolled": true,
    "tags": []
   },
   "outputs": [],
   "source": [
    "# shn_dissolved.loc[shn_dissolved.shn_route == 210].drop(columns=[\"geometry\"])"
   ]
  },
  {
   "cell_type": "code",
   "execution_count": null,
   "id": "045892dc-1094-42ec-9267-a1800387f1bf",
   "metadata": {
    "tags": []
   },
   "outputs": [],
   "source": [
    "# shn_dissolved.loc[shn_dissolved.shn_route == 110].drop(columns=[\"geometry\"])"
   ]
  },
  {
   "cell_type": "code",
   "execution_count": null,
   "id": "9d5c54c5-b055-4251-baea-20a45b47c41c",
   "metadata": {
    "scrolled": true,
    "tags": []
   },
   "outputs": [],
   "source": [
    "# shn_dissolved.loc[shn_dissolved.Route == 210].explore()"
   ]
  },
  {
   "cell_type": "code",
   "execution_count": null,
   "id": "a0f23cb6-4a7c-4a86-b0d3-3bcad379a9f2",
   "metadata": {
    "tags": []
   },
   "outputs": [],
   "source": [
    "# shn_dissolved.loc[shn_dissolved.Route == 110].explore()"
   ]
  },
  {
   "cell_type": "code",
   "execution_count": null,
   "id": "0be8698f-226a-40e3-ab00-394b5c205123",
   "metadata": {
    "tags": []
   },
   "outputs": [],
   "source": [
    "# len(shn_dissolved)"
   ]
  },
  {
   "cell_type": "code",
   "execution_count": null,
   "id": "9b72f225-6ab2-4967-b95c-f206a2e1a3f5",
   "metadata": {
    "tags": []
   },
   "outputs": [],
   "source": [
    "SHN_HWY_BUFFER_FEET = 50\n",
    "PARALLEL_HWY_BUFFER_FEET = geography_utils.FEET_PER_MI * 0.5"
   ]
  },
  {
   "cell_type": "code",
   "execution_count": null,
   "id": "d3dc507a-7bb1-4d6b-81b2-b2e1b250cd05",
   "metadata": {
    "tags": []
   },
   "outputs": [],
   "source": [
    "def buffer_shn(buffer_amount: int) -> gpd.GeoDataFrame:\n",
    "    \"\"\"\n",
    "    Add a buffer to the SHN file. Save it out so\n",
    "    we won't have to buffer over and over again.\n",
    "    \"\"\"\n",
    "    GCS_FILE_PATH = \"gs://calitp-analytics-data/data-analyses/state_highway_network/\"\n",
    "\n",
    "    shn_df = gpd.read_parquet(f\"{GCS_FILE_PATH}shn_dissolved.parquet\")\n",
    "\n",
    "    shn_df_buffered = shn_df.assign(\n",
    "        geometry=shn_df.geometry.buffer(buffer_amount),\n",
    "    )\n",
    "\n",
    "    shn_df_buffered.to_parquet(\n",
    "        f\"{GCS_FILE_PATH}shn_buffered_{buffer_amount}_ft.parquet\"\n",
    "    )\n",
    "\n",
    "    return shn_df_buffered"
   ]
  },
  {
   "cell_type": "code",
   "execution_count": null,
   "id": "41a9e51a-d180-4c90-b823-c4ba0831b9ab",
   "metadata": {
    "tags": []
   },
   "outputs": [],
   "source": [
    "intersecting_buffer = buffer_shn(SHN_HWY_BUFFER_FEET)"
   ]
  },
  {
   "cell_type": "markdown",
   "id": "87361842-5147-4802-bc32-063cd249b5f0",
   "metadata": {},
   "source": [
    "## Overlay"
   ]
  },
  {
   "cell_type": "code",
   "execution_count": null,
   "id": "e58e7e81-684e-46b9-96cb-3c9f0643e113",
   "metadata": {
    "tags": []
   },
   "outputs": [],
   "source": [
    "def routes_shn_intersection(\n",
    "    buffer_amount: int, pct_route_intersection: float\n",
    ") -> gpd.GeoDataFrame:\n",
    "\n",
    "    GCS_FILE_PATH = \"gs://calitp-analytics-data/data-analyses/state_highway_network/\"\n",
    "\n",
    "    # Read in buffered shn here or re buffer\n",
    "    HWY_FILE = f\"{GCS_FILE_PATH}shn_buffered_{buffer_amount}_ft.parquet\"\n",
    "\n",
    "    if fs.exists(HWY_FILE):\n",
    "        shn_routes_gdf = gpd.read_parquet(HWY_FILE)\n",
    "    else:\n",
    "        shn_routes_gdf = buffer_shn(buffer_amount)\n",
    "\n",
    "    transit_routes_gdf = process_transit_routes().to_crs(shn_routes_gdf.crs)\n",
    "\n",
    "    gdf = gpd.overlay(transit_routes_gdf, shn_routes_gdf, how=\"intersection\", keep_geom_type=True)\n",
    "\n",
    "    gdf = gdf.assign(\n",
    "        pct_route_on_hwy=(gdf.geometry.length / gdf.route_length_feet).round(3),\n",
    "        shn_route=gdf.shn_route.astype(int),\n",
    "    ).drop(columns=[\"geometry\", ])\n",
    "\n",
    "    gdf2 = gdf.loc[gdf.pct_route_on_hwy >= pct_route_intersection]\n",
    "\n",
    "    # Join back for geo\n",
    "    gdf3 = pd.merge(\n",
    "        transit_routes_gdf,\n",
    "        gdf2,\n",
    "        on=[\n",
    "            \"service_date\",\n",
    "            \"portfolio_organization_name\",\n",
    "            \"recent_combined_name\",\n",
    "            \"route_id\",\n",
    "            \"schedule_gtfs_dataset_key\",\n",
    "            \"route_length_feet\"\n",
    "        ],\n",
    "        how =\"inner\"\n",
    "    )\n",
    "\n",
    "    return gdf3"
   ]
  },
  {
   "cell_type": "code",
   "execution_count": null,
   "id": "385b204c-1215-4fdb-8063-023618b85077",
   "metadata": {
    "tags": []
   },
   "outputs": [],
   "source": [
    "intersecting = routes_shn_intersection(SHN_HWY_BUFFER_FEET, 0.2)"
   ]
  },
  {
   "cell_type": "code",
   "execution_count": null,
   "id": "baa12422-08dc-484c-9233-5af9d0804480",
   "metadata": {
    "tags": []
   },
   "outputs": [],
   "source": [
    "intersecting.shape"
   ]
  },
  {
   "cell_type": "code",
   "execution_count": null,
   "id": "9ce2810a-c58d-4f0e-8a06-d10e39cac140",
   "metadata": {
    "tags": []
   },
   "outputs": [],
   "source": [
    "intersecting.columns"
   ]
  },
  {
   "cell_type": "code",
   "execution_count": null,
   "id": "9573a417-9070-4f48-a4f8-a02a66397669",
   "metadata": {
    "tags": []
   },
   "outputs": [],
   "source": [
    "intersecting.drop(columns = [\"geometry\"]).sample(10)"
   ]
  },
  {
   "cell_type": "code",
   "execution_count": null,
   "id": "87713547-8769-4e25-8928-f1cba98a4229",
   "metadata": {
    "tags": []
   },
   "outputs": [],
   "source": [
    "intersecting.loc[intersecting.recent_combined_name == \"5 Monterey - Carmel Rancho\"].drop(columns = [\"service_date\"]).explore()"
   ]
  },
  {
   "cell_type": "code",
   "execution_count": null,
   "id": "9603dcf9-ae64-4e26-bb22-437e6bbf33e6",
   "metadata": {
    "tags": []
   },
   "outputs": [],
   "source": [
    "transit_routes.loc[transit_routes.recent_combined_name == \"5 Monterey - Carmel Rancho\"].drop(columns=[\"service_date\"]).explore()"
   ]
  },
  {
   "cell_type": "code",
   "execution_count": null,
   "id": "d8381fe4-593e-471e-8468-6eb22054374f",
   "metadata": {
    "tags": []
   },
   "outputs": [],
   "source": [
    "m = shn_dissolved.explore(name=\"shn\")\n",
    "m = (\n",
    "    transit_routes.loc[transit_routes.portfolio_organization_name == \"Presidio Trust\"]\n",
    "    .drop(columns=[\"service_date\"])\n",
    "    .explore(m=m, color=\"red\", style_kwds={\"weight\": 5}, name=\"hqta\")\n",
    ")"
   ]
  },
  {
   "cell_type": "code",
   "execution_count": null,
   "id": "dfd0acb0-107d-4524-8c56-6ccdea956ca4",
   "metadata": {
    "tags": []
   },
   "outputs": [],
   "source": [
    "m"
   ]
  },
  {
   "cell_type": "code",
   "execution_count": null,
   "id": "4576fba2-598a-4c47-81d9-9ad034c92b09",
   "metadata": {},
   "outputs": [],
   "source": []
  }
 ],
 "metadata": {
  "kernelspec": {
   "display_name": "Python 3 (ipykernel)",
   "language": "python",
   "name": "python3"
  },
  "language_info": {
   "codemirror_mode": {
    "name": "ipython",
    "version": 3
   },
   "file_extension": ".py",
   "mimetype": "text/x-python",
   "name": "python",
   "nbconvert_exporter": "python",
   "pygments_lexer": "ipython3",
   "version": "3.11.10"
  }
 },
 "nbformat": 4,
 "nbformat_minor": 5
}
