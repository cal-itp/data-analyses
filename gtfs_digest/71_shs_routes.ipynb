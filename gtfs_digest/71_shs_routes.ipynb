{
 "cells": [
  {
   "cell_type": "markdown",
   "id": "41619139-2e85-4914-a0c0-cb390c36b94c",
   "metadata": {},
   "source": [
    "# Transit On the SHN \n",
    "* [GH Issue](https://github.com/cal-itp/data-analyses/issues/1477)\n"
   ]
  },
  {
   "cell_type": "code",
   "execution_count": 27,
   "id": "f6b01cd8-ccda-4d2a-9c64-9cca36e0713c",
   "metadata": {},
   "outputs": [],
   "source": [
    "import geopandas as gpd\n",
    "import google.auth\n",
    "import numpy as np\n",
    "import pandas as pd\n",
    "\n",
    "credentials, project = google.auth.default()\n",
    "\n",
    "import gcsfs\n",
    "fs = gcsfs.GCSFileSystem()"
   ]
  },
  {
   "cell_type": "code",
   "execution_count": 28,
   "id": "ec246873-6121-4544-8d62-f71dec06352e",
   "metadata": {
    "tags": []
   },
   "outputs": [],
   "source": [
    "from calitp_data_analysis import geography_utils, utils\n",
    "from segment_speed_utils import gtfs_schedule_wrangling, helpers\n",
    "from shared_utils import (\n",
    "    catalog_utils,\n",
    "    dask_utils,\n",
    "    gtfs_utils_v2,\n",
    "    portfolio_utils,\n",
    "    publish_utils,\n",
    "    rt_dates,\n",
    "    rt_utils,\n",
    ")\n",
    "from update_vars import GTFS_DATA_DICT, RT_SCHED_GCS, SCHED_GCS, SEGMENT_GCS"
   ]
  },
  {
   "cell_type": "code",
   "execution_count": 29,
   "id": "ffeaad35-64a6-4b16-a93d-ac4a0759288a",
   "metadata": {
    "tags": []
   },
   "outputs": [],
   "source": [
    "pd.options.display.max_columns = 100\n",
    "pd.options.display.float_format = \"{:.2f}\".format\n",
    "pd.set_option(\"display.max_rows\", None)\n",
    "pd.set_option(\"display.max_colwidth\", None)"
   ]
  },
  {
   "cell_type": "code",
   "execution_count": 30,
   "id": "fac679d2-4c02-409f-9550-4334664c631a",
   "metadata": {
    "tags": []
   },
   "outputs": [],
   "source": [
    "analysis_date_list = rt_dates.y2024_dates + rt_dates.y2023_dates + rt_dates.y2025_dates"
   ]
  },
  {
   "cell_type": "code",
   "execution_count": 31,
   "id": "48e01cac-bde0-49bf-bfed-304f83f8fc10",
   "metadata": {
    "tags": []
   },
   "outputs": [],
   "source": [
    "analysis_date = \"2025-03-12\""
   ]
  },
  {
   "cell_type": "markdown",
   "id": "97362753-78c3-4587-8ae2-15dd5ae8ab3b",
   "metadata": {},
   "source": [
    "## Load in Operator Routes"
   ]
  },
  {
   "cell_type": "code",
   "execution_count": 32,
   "id": "1771ea96-ce3b-415f-88f5-8ed54a9b6a5c",
   "metadata": {
    "tags": []
   },
   "outputs": [],
   "source": [
    "def process_transit_routes() -> gpd.GeoDataFrame:\n",
    "    \"\"\"\n",
    "    Select the most recent transit route.\n",
    "    Also count how many routes there are for each operator.\n",
    "    \"\"\"\n",
    "    OPERATOR_ROUTE = GTFS_DATA_DICT.digest_tables.operator_routes_map\n",
    "\n",
    "    subset = [\n",
    "        \"service_date\",\n",
    "        \"geometry\",\n",
    "        \"portfolio_organization_name\",\n",
    "        \"recent_combined_name\",\n",
    "        \"route_id\",\n",
    "        \"schedule_gtfs_dataset_key\",\n",
    "    ]\n",
    "    op_geography_df = gpd.read_parquet(\n",
    "        f\"{RT_SCHED_GCS}{OPERATOR_ROUTE}.parquet\",\n",
    "        storage_options={\"token\": credentials.token},\n",
    "    )[subset]\n",
    "    \n",
    "    most_recent_dates = publish_utils.filter_to_recent_date(\n",
    "        df=op_geography_df, group_cols=[\"portfolio_organization_name\", \"route_id\", ]\n",
    "    )\n",
    "    most_recent_routes = pd.merge(\n",
    "        op_geography_df,\n",
    "        most_recent_dates,\n",
    "        on=[\"portfolio_organization_name\", \"route_id\",\"service_date\"],\n",
    "        how=\"inner\",\n",
    "    )\n",
    "    # Get this to same CRS as highways\n",
    "    most_recent_routes = (\n",
    "        most_recent_routes.assign(\n",
    "            route_length_feet=most_recent_routes.geometry.to_crs(\n",
    "                geography_utils.CA_NAD83Albers_ft\n",
    "            ).length\n",
    "        )\n",
    "    )\n",
    "\n",
    "    return most_recent_routes"
   ]
  },
  {
   "cell_type": "code",
   "execution_count": 33,
   "id": "1af038b4-5ce3-486d-b11f-a1891e521fd3",
   "metadata": {
    "tags": []
   },
   "outputs": [],
   "source": [
    "transit_routes = process_transit_routes()"
   ]
  },
  {
   "cell_type": "markdown",
   "id": "458212e5-3cb6-476b-8768-3a2d6d4ce494",
   "metadata": {
    "tags": []
   },
   "source": [
    "## Load in SHS \n",
    "* Reuse Tiffany's [code](https://github.com/cal-itp/data-analyses/blob/main/rt_segment_speeds/segment_speed_utils/parallel_corridors.py)"
   ]
  },
  {
   "cell_type": "code",
   "execution_count": 34,
   "id": "96fc6a41-e8bf-496e-9e2c-b770760b2de5",
   "metadata": {
    "tags": []
   },
   "outputs": [],
   "source": [
    "hwy_group_cols = [\"Route\", \"County\", \"District\", \"RouteType\"]"
   ]
  },
  {
   "cell_type": "code",
   "execution_count": 35,
   "id": "f0a987a9-fb0a-4a10-af58-40569fc26737",
   "metadata": {
    "tags": []
   },
   "outputs": [],
   "source": [
    "def process_highways(group_cols: list, buffer_feet: int) -> gpd.GeoDataFrame:\n",
    "    \"\"\"\n",
    "    Put in a list of group_cols, and aggregate highway segments with\n",
    "    the direction info up to the group_col level.\n",
    "\n",
    "    For each highway, store what directions it runs in\n",
    "    as dummy variables. This will allow us to dissolve\n",
    "    the geometry and get fewer rows for highways\n",
    "    without losing direction info.\n",
    "    \"\"\"\n",
    "    SHN_FILE = catalog_utils.get_catalog(\n",
    "        \"shared_data_catalog\"\n",
    "    ).state_highway_network.urlpath\n",
    "\n",
    "    direction_cols = [\"NB\", \"SB\", \"EB\", \"WB\"]\n",
    "\n",
    "    df = gpd.read_parquet(\n",
    "        SHN_FILE,\n",
    "        storage_options={\"token\": credentials.token},\n",
    "    ).to_crs(geography_utils.CA_NAD83Albers_ft)\n",
    "\n",
    "    # Get dummies for direction\n",
    "    # Can make data wide instead of long\n",
    "    direction_dummies = pd.get_dummies(df.Direction, dtype=int)\n",
    "    df = pd.concat([df.drop(columns=\"Direction\"), direction_dummies], axis=1)\n",
    "\n",
    "    # For each highway, allow multiple dummies to be 1 (as long as highway had that direction,\n",
    "    # we'll allow dummy to be 1. A highway can be tagged as WB and SB, and we want to keep info for both).\n",
    "    for c in direction_cols:\n",
    "        df[c] = df.groupby(group_cols)[c].transform(\"max\").astype(int)\n",
    "\n",
    "    # Buffer first, then dissolve\n",
    "    # If dissolve first, then buffer, kernel times out\n",
    "    df = df.assign(\n",
    "        highway_feet=df.geometry.length,\n",
    "        geometry=df.geometry.buffer(buffer_feet),\n",
    "        Route=df.Route.astype(int),\n",
    "    )\n",
    "\n",
    "    df2 = df.dissolve(by=group_cols + direction_cols).reset_index()\n",
    "\n",
    "    df2[direction_cols] = df2[direction_cols].astype(int)\n",
    "\n",
    "    return df2"
   ]
  },
  {
   "cell_type": "code",
   "execution_count": 36,
   "id": "3be9de86-25db-4757-b9db-c969e99870cd",
   "metadata": {
    "tags": []
   },
   "outputs": [],
   "source": [
    "processed_hwy = process_highways(group_cols=hwy_group_cols, buffer_feet=50)"
   ]
  },
  {
   "cell_type": "code",
   "execution_count": 37,
   "id": "7892a78e-2462-45ef-8a55-1aad70eadced",
   "metadata": {
    "tags": []
   },
   "outputs": [
    {
     "data": {
      "text/html": [
       "<div>\n",
       "<style scoped>\n",
       "    .dataframe tbody tr th:only-of-type {\n",
       "        vertical-align: middle;\n",
       "    }\n",
       "\n",
       "    .dataframe tbody tr th {\n",
       "        vertical-align: top;\n",
       "    }\n",
       "\n",
       "    .dataframe thead th {\n",
       "        text-align: right;\n",
       "    }\n",
       "</style>\n",
       "<table border=\"1\" class=\"dataframe\">\n",
       "  <thead>\n",
       "    <tr style=\"text-align: right;\">\n",
       "      <th></th>\n",
       "      <th>Route</th>\n",
       "      <th>County</th>\n",
       "      <th>District</th>\n",
       "      <th>RouteType</th>\n",
       "      <th>NB</th>\n",
       "      <th>SB</th>\n",
       "      <th>EB</th>\n",
       "      <th>WB</th>\n",
       "      <th>highway_feet</th>\n",
       "    </tr>\n",
       "  </thead>\n",
       "  <tbody>\n",
       "    <tr>\n",
       "      <th>182</th>\n",
       "      <td>66</td>\n",
       "      <td>LA</td>\n",
       "      <td>7</td>\n",
       "      <td>State</td>\n",
       "      <td>0</td>\n",
       "      <td>0</td>\n",
       "      <td>1</td>\n",
       "      <td>1</td>\n",
       "      <td>17004.11</td>\n",
       "    </tr>\n",
       "  </tbody>\n",
       "</table>\n",
       "</div>"
      ],
      "text/plain": [
       "     Route County  District RouteType  NB  SB  EB  WB  highway_feet\n",
       "182     66     LA         7     State   0   0   1   1      17004.11"
      ]
     },
     "execution_count": 37,
     "metadata": {},
     "output_type": "execute_result"
    }
   ],
   "source": [
    "processed_hwy.drop(columns=[\"geometry\"]).sample()"
   ]
  },
  {
   "cell_type": "code",
   "execution_count": 38,
   "id": "4d95166a-5c33-4f9b-b98b-465ffef01ff2",
   "metadata": {
    "tags": []
   },
   "outputs": [],
   "source": [
    "def overlay_transit_to_highways(\n",
    "    analysis_date: str,\n",
    "    hwy_buffer_feet: int,\n",
    "    pct_route_threshold: float,\n",
    ") -> gpd.GeoDataFrame:\n",
    "    \"\"\"\n",
    "    Function to find areas of intersection between\n",
    "    highways (default of 1 mile buffer) and transit routes.\n",
    "    \n",
    "    Returns: geopandas.GeoDataFrame, with geometry column reflecting\n",
    "    the areas of intersection.\n",
    "    \"\"\"    \n",
    "    # Can pass a different buffer zone to determine parallel corridors\n",
    "    HWY_FILE = f\"{BUS_SERVICE_GCS}highways_buffer{hwy_buffer_feet}.parquet\"\n",
    "    \n",
    "    if fs.exists(HWY_FILE):\n",
    "        highways = gpd.read_parquet(HWY_FILE,\n",
    "        storage_options={\"token\": credentials.token},)\n",
    "    else:\n",
    "        highways = process_highways(\n",
    "            group_cols = hwy_group_cols, \n",
    "            buffer_feet = hwy_buffer_feet\n",
    "        )\n",
    "    transit_routes = process_transit_routes().to_crs(highways.crs)\n",
    "    \n",
    "    # Overlay\n",
    "    # Note: an overlay based on intersection changes the geometry column\n",
    "    # The new geometry column will reflect that area of intersection\n",
    "    gdf = gpd.overlay(\n",
    "        transit_routes, \n",
    "        highways, \n",
    "        how = \"intersection\", \n",
    "        keep_geom_type = True\n",
    "    )  \n",
    "    \n",
    "    # Using new geometry column, calculate what % that intersection \n",
    "    # is of the route and hwy\n",
    "    gdf = gdf.assign(\n",
    "        pct_route = (gdf.geometry.length / gdf.route_length_feet).round(3),\n",
    "        Route = gdf.Route.astype(int),\n",
    "    )\n",
    "    \n",
    "    gdf2 = gdf.loc[gdf.pct_route >= pct_route_threshold]\n",
    "    \n",
    "    return gdf2\n"
   ]
  },
  {
   "cell_type": "code",
   "execution_count": 39,
   "id": "9b72f225-6ab2-4967-b95c-f206a2e1a3f5",
   "metadata": {
    "tags": []
   },
   "outputs": [],
   "source": [
    "SHN_HWY_BUFFER_FEET = 50 \n",
    "SHN_PCT_ROUTE = 0.2 # we'll use the same for both categories\n",
    "PARALLEL_HWY_BUFFER_FEET = geography_utils.FEET_PER_MI * 0.5"
   ]
  },
  {
   "cell_type": "code",
   "execution_count": 40,
   "id": "d8a86c8b-fa07-46fe-a105-c8c22d1f1914",
   "metadata": {
    "tags": []
   },
   "outputs": [],
   "source": [
    "BUS_SERVICE_GCS = \"gs://calitp-analytics-data/data-analyses/bus_service_increase/\""
   ]
  },
  {
   "cell_type": "markdown",
   "id": "8128d475-e647-4588-881c-7394d7eb3941",
   "metadata": {},
   "source": [
    "### Function not working because of the 1:m merge indicator [here](https://github.com/cal-itp/data-analyses/blob/main/rt_segment_speeds/segment_speed_utils/parallel_corridors.py#L138-L147) but maybe we dont need this since we just want to know which routes intersect/are parallel"
   ]
  },
  {
   "cell_type": "code",
   "execution_count": 41,
   "id": "a820de7d-b897-4ace-9262-249d067d8e3f",
   "metadata": {
    "tags": []
   },
   "outputs": [
    {
     "data": {
      "text/plain": [
       "'highways = process_highways(\\n            group_cols = hwy_group_cols, \\n            buffer_feet = SHN_HWY_BUFFER_FEET\\n        )'"
      ]
     },
     "execution_count": 41,
     "metadata": {},
     "output_type": "execute_result"
    }
   ],
   "source": [
    "\"\"\"highways = process_highways(\n",
    "            group_cols = hwy_group_cols, \n",
    "            buffer_feet = SHN_HWY_BUFFER_FEET\n",
    "        )\"\"\""
   ]
  },
  {
   "cell_type": "code",
   "execution_count": 42,
   "id": "bf4fbb46-93b5-4690-a4b7-7f90373847a8",
   "metadata": {
    "tags": []
   },
   "outputs": [
    {
     "data": {
      "text/plain": [
       "'on_shn_test = gpd.overlay(\\n        transit_routes, \\n        highways, \\n        how = \"intersection\", \\n        keep_geom_type = True\\n    )  '"
      ]
     },
     "execution_count": 42,
     "metadata": {},
     "output_type": "execute_result"
    }
   ],
   "source": [
    "\"\"\"on_shn_test = gpd.overlay(\n",
    "        transit_routes, \n",
    "        highways, \n",
    "        how = \"intersection\", \n",
    "        keep_geom_type = True\n",
    "    )  \"\"\""
   ]
  },
  {
   "cell_type": "code",
   "execution_count": 43,
   "id": "0011341d-9f8c-4dd5-b82a-4d742106d0a2",
   "metadata": {
    "tags": []
   },
   "outputs": [
    {
     "data": {
      "text/plain": [
       "'on_shn_test = on_shn_test.assign(\\n        pct_route = (on_shn_test.geometry.length / on_shn_test.route_length_feet).round(3),\\n        Route = on_shn_test.Route.astype(int),\\n    )'"
      ]
     },
     "execution_count": 43,
     "metadata": {},
     "output_type": "execute_result"
    }
   ],
   "source": [
    "# is of the route and hwy\n",
    "\"\"\"on_shn_test = on_shn_test.assign(\n",
    "        pct_route = (on_shn_test.geometry.length / on_shn_test.route_length_feet).round(3),\n",
    "        Route = on_shn_test.Route.astype(int),\n",
    "    )\"\"\""
   ]
  },
  {
   "cell_type": "code",
   "execution_count": 44,
   "id": "5c9a1ec4-8d22-476d-9550-aaaae0f893bc",
   "metadata": {
    "tags": []
   },
   "outputs": [
    {
     "data": {
      "text/plain": [
       "'gdf2 = pd.merge(\\n        transit_routes[[\"portfolio_organization_name\",\"route_id\", \"geometry\"]],\\n        on_shn_test.drop(columns = \"geometry\"),\\n        on = [\"portfolio_organization_name\",\"route_id\"],\\n        how = \"inner\",\\n        # Allow 1:m merge because the same transit route \\n        # can overlap with various highways\\n        validate = \"1:m\",\\n    )'"
      ]
     },
     "execution_count": 44,
     "metadata": {},
     "output_type": "execute_result"
    }
   ],
   "source": [
    "\"\"\"gdf2 = pd.merge(\n",
    "        transit_routes[[\"portfolio_organization_name\",\"route_id\", \"geometry\"]],\n",
    "        on_shn_test.drop(columns = \"geometry\"),\n",
    "        on = [\"portfolio_organization_name\",\"route_id\"],\n",
    "        how = \"inner\",\n",
    "        # Allow 1:m merge because the same transit route \n",
    "        # can overlap with various highways\n",
    "        validate = \"1:m\",\n",
    "    )\"\"\""
   ]
  },
  {
   "cell_type": "code",
   "execution_count": 45,
   "id": "c8d21149-e4d2-4e99-bbfd-3782a25a147a",
   "metadata": {
    "tags": []
   },
   "outputs": [],
   "source": [
    "final_cols = ['portfolio_organization_name', 'District',\"Route\",'route_id', 'pct_route']"
   ]
  },
  {
   "cell_type": "code",
   "execution_count": 46,
   "id": "cb63a7dc-f2a1-4785-9cf0-0993a3b1f569",
   "metadata": {
    "tags": []
   },
   "outputs": [],
   "source": [
    "on_shn = overlay_transit_to_highways(\n",
    "        analysis_date,\n",
    "        hwy_buffer_feet = SHN_HWY_BUFFER_FEET,\n",
    "        pct_route_threshold = SHN_PCT_ROUTE,\n",
    "    )[final_cols].drop_duplicates().rename(columns = {\"pct_route\":\"route_pct_on_shn\"})\n",
    "    \n",
    "parallel_or_intersecting = overlay_transit_to_highways(\n",
    "        analysis_date,\n",
    "        hwy_buffer_feet = PARALLEL_HWY_BUFFER_FEET, \n",
    "        pct_route_threshold = SHN_PCT_ROUTE,\n",
    "    )[final_cols].drop_duplicates().rename(columns = {\"pct_route\":\"route_pct_parallel_intersecting_shn\"})"
   ]
  },
  {
   "cell_type": "code",
   "execution_count": 47,
   "id": "034a8d9e-de4e-483c-97c0-9f5aca008113",
   "metadata": {
    "tags": []
   },
   "outputs": [
    {
     "data": {
      "text/html": [
       "<div>\n",
       "<style scoped>\n",
       "    .dataframe tbody tr th:only-of-type {\n",
       "        vertical-align: middle;\n",
       "    }\n",
       "\n",
       "    .dataframe tbody tr th {\n",
       "        vertical-align: top;\n",
       "    }\n",
       "\n",
       "    .dataframe thead th {\n",
       "        text-align: right;\n",
       "    }\n",
       "</style>\n",
       "<table border=\"1\" class=\"dataframe\">\n",
       "  <thead>\n",
       "    <tr style=\"text-align: right;\">\n",
       "      <th></th>\n",
       "      <th>portfolio_organization_name</th>\n",
       "      <th>District</th>\n",
       "      <th>Route</th>\n",
       "      <th>route_id</th>\n",
       "      <th>route_pct_on_shn</th>\n",
       "    </tr>\n",
       "  </thead>\n",
       "  <tbody>\n",
       "    <tr>\n",
       "      <th>3</th>\n",
       "      <td>Tulare County Regional Transit Agency</td>\n",
       "      <td>6</td>\n",
       "      <td>201</td>\n",
       "      <td>c6726149-9979-4ebb-85f6-0be90402266c</td>\n",
       "      <td>0.23</td>\n",
       "    </tr>\n",
       "    <tr>\n",
       "      <th>15</th>\n",
       "      <td>Tulare County Regional Transit Agency</td>\n",
       "      <td>6</td>\n",
       "      <td>190</td>\n",
       "      <td>P6</td>\n",
       "      <td>0.26</td>\n",
       "    </tr>\n",
       "  </tbody>\n",
       "</table>\n",
       "</div>"
      ],
      "text/plain": [
       "              portfolio_organization_name  District  Route  \\\n",
       "3   Tulare County Regional Transit Agency         6    201   \n",
       "15  Tulare County Regional Transit Agency         6    190   \n",
       "\n",
       "                                route_id  route_pct_on_shn  \n",
       "3   c6726149-9979-4ebb-85f6-0be90402266c              0.23  \n",
       "15                                    P6              0.26  "
      ]
     },
     "execution_count": 47,
     "metadata": {},
     "output_type": "execute_result"
    }
   ],
   "source": [
    "on_shn.head(2)"
   ]
  },
  {
   "cell_type": "code",
   "execution_count": 48,
   "id": "8312ceb8-8c78-4d1b-bbbc-7a5db7362a4d",
   "metadata": {
    "tags": []
   },
   "outputs": [
    {
     "data": {
      "text/html": [
       "<div>\n",
       "<style scoped>\n",
       "    .dataframe tbody tr th:only-of-type {\n",
       "        vertical-align: middle;\n",
       "    }\n",
       "\n",
       "    .dataframe tbody tr th {\n",
       "        vertical-align: top;\n",
       "    }\n",
       "\n",
       "    .dataframe thead th {\n",
       "        text-align: right;\n",
       "    }\n",
       "</style>\n",
       "<table border=\"1\" class=\"dataframe\">\n",
       "  <thead>\n",
       "    <tr style=\"text-align: right;\">\n",
       "      <th></th>\n",
       "      <th>portfolio_organization_name</th>\n",
       "      <th>District</th>\n",
       "      <th>Route</th>\n",
       "      <th>route_id</th>\n",
       "      <th>route_pct_parallel_intersecting_shn</th>\n",
       "    </tr>\n",
       "  </thead>\n",
       "  <tbody>\n",
       "    <tr>\n",
       "      <th>1</th>\n",
       "      <td>Tulare County Regional Transit Agency</td>\n",
       "      <td>6</td>\n",
       "      <td>99</td>\n",
       "      <td>0e85fd4c-5258-4256-9852-4a96554aadb7</td>\n",
       "      <td>0.65</td>\n",
       "    </tr>\n",
       "    <tr>\n",
       "      <th>2</th>\n",
       "      <td>Tulare County Regional Transit Agency</td>\n",
       "      <td>6</td>\n",
       "      <td>99</td>\n",
       "      <td>T1</td>\n",
       "      <td>0.20</td>\n",
       "    </tr>\n",
       "  </tbody>\n",
       "</table>\n",
       "</div>"
      ],
      "text/plain": [
       "             portfolio_organization_name  District  Route  \\\n",
       "1  Tulare County Regional Transit Agency         6     99   \n",
       "2  Tulare County Regional Transit Agency         6     99   \n",
       "\n",
       "                               route_id  route_pct_parallel_intersecting_shn  \n",
       "1  0e85fd4c-5258-4256-9852-4a96554aadb7                                 0.65  \n",
       "2                                    T1                                 0.20  "
      ]
     },
     "execution_count": 48,
     "metadata": {},
     "output_type": "execute_result"
    }
   ],
   "source": [
    "parallel_or_intersecting.head(2)"
   ]
  },
  {
   "cell_type": "code",
   "execution_count": 49,
   "id": "42f1e495-04a6-4635-a5de-a1e71cc02b28",
   "metadata": {
    "tags": []
   },
   "outputs": [
    {
     "data": {
      "text/html": [
       "<div>\n",
       "<style scoped>\n",
       "    .dataframe tbody tr th:only-of-type {\n",
       "        vertical-align: middle;\n",
       "    }\n",
       "\n",
       "    .dataframe tbody tr th {\n",
       "        vertical-align: top;\n",
       "    }\n",
       "\n",
       "    .dataframe thead th {\n",
       "        text-align: right;\n",
       "    }\n",
       "</style>\n",
       "<table border=\"1\" class=\"dataframe\">\n",
       "  <thead>\n",
       "    <tr style=\"text-align: right;\">\n",
       "      <th></th>\n",
       "      <th>service_date</th>\n",
       "      <th>portfolio_organization_name</th>\n",
       "      <th>recent_combined_name</th>\n",
       "      <th>route_id</th>\n",
       "      <th>schedule_gtfs_dataset_key</th>\n",
       "      <th>route_length_feet</th>\n",
       "    </tr>\n",
       "  </thead>\n",
       "  <tbody>\n",
       "    <tr>\n",
       "      <th>0</th>\n",
       "      <td>2024-03-13</td>\n",
       "      <td>Tulare County Regional Transit Agency</td>\n",
       "      <td>C50 Loop 50</td>\n",
       "      <td>50 Loop</td>\n",
       "      <td>0139b1253130b33adcd4b3a4490530d2</td>\n",
       "      <td>154036.29</td>\n",
       "    </tr>\n",
       "    <tr>\n",
       "      <th>1</th>\n",
       "      <td>2024-06-12</td>\n",
       "      <td>Tulare County Regional Transit Agency</td>\n",
       "      <td>P1 Porterville Route 1</td>\n",
       "      <td>P1</td>\n",
       "      <td>0139b1253130b33adcd4b3a4490530d2</td>\n",
       "      <td>48113.65</td>\n",
       "    </tr>\n",
       "  </tbody>\n",
       "</table>\n",
       "</div>"
      ],
      "text/plain": [
       "  service_date            portfolio_organization_name    recent_combined_name  \\\n",
       "0   2024-03-13  Tulare County Regional Transit Agency             C50 Loop 50   \n",
       "1   2024-06-12  Tulare County Regional Transit Agency  P1 Porterville Route 1   \n",
       "\n",
       "  route_id         schedule_gtfs_dataset_key  route_length_feet  \n",
       "0  50 Loop  0139b1253130b33adcd4b3a4490530d2          154036.29  \n",
       "1       P1  0139b1253130b33adcd4b3a4490530d2           48113.65  "
      ]
     },
     "execution_count": 49,
     "metadata": {},
     "output_type": "execute_result"
    }
   ],
   "source": [
    "transit_routes.drop(columns = [\"geometry\"]).head(2)"
   ]
  },
  {
   "cell_type": "code",
   "execution_count": 69,
   "id": "4b11a904-a01f-4a47-8ede-121ec05e99a5",
   "metadata": {
    "scrolled": true,
    "tags": []
   },
   "outputs": [],
   "source": [
    "df = pd.merge(\n",
    "        transit_routes.drop(columns = [\"geometry\"]).assign(other=1),\n",
    "        on_shn.assign(on_shn=3),\n",
    "        on = [\"portfolio_organization_name\",\"route_id\",],\n",
    "        how = \"left\"\n",
    "    )\n",
    "    "
   ]
  },
  {
   "cell_type": "code",
   "execution_count": 70,
   "id": "0330a110-5c3c-48b6-9651-6a3f938ce6fc",
   "metadata": {
    "scrolled": true,
    "tags": []
   },
   "outputs": [
    {
     "data": {
      "text/html": [
       "<div>\n",
       "<style scoped>\n",
       "    .dataframe tbody tr th:only-of-type {\n",
       "        vertical-align: middle;\n",
       "    }\n",
       "\n",
       "    .dataframe tbody tr th {\n",
       "        vertical-align: top;\n",
       "    }\n",
       "\n",
       "    .dataframe thead th {\n",
       "        text-align: right;\n",
       "    }\n",
       "</style>\n",
       "<table border=\"1\" class=\"dataframe\">\n",
       "  <thead>\n",
       "    <tr style=\"text-align: right;\">\n",
       "      <th></th>\n",
       "      <th>service_date</th>\n",
       "      <th>portfolio_organization_name</th>\n",
       "      <th>recent_combined_name</th>\n",
       "      <th>route_id</th>\n",
       "      <th>schedule_gtfs_dataset_key</th>\n",
       "      <th>route_length_feet</th>\n",
       "      <th>other</th>\n",
       "      <th>District</th>\n",
       "      <th>Route</th>\n",
       "      <th>route_pct_on_shn</th>\n",
       "      <th>on_shn</th>\n",
       "    </tr>\n",
       "  </thead>\n",
       "  <tbody>\n",
       "    <tr>\n",
       "      <th>2689</th>\n",
       "      <td>2025-04-16</td>\n",
       "      <td>Los Angeles World Airports</td>\n",
       "      <td>VN to LAX FlyAway - Van Nuys to LAX</td>\n",
       "      <td>1</td>\n",
       "      <td>73e3164043eb7312454dd03413a6b310</td>\n",
       "      <td>233714.99</td>\n",
       "      <td>1</td>\n",
       "      <td>7.00</td>\n",
       "      <td>405.00</td>\n",
       "      <td>0.78</td>\n",
       "      <td>3.00</td>\n",
       "    </tr>\n",
       "    <tr>\n",
       "      <th>1160</th>\n",
       "      <td>2025-04-16</td>\n",
       "      <td>Ventura County (VCTC, Gold Coast, Cities of Camarillo, Moorpark, Ojai, Simi Valley, Thousand Oaks)</td>\n",
       "      <td>Santa Paula School Tripper (AM)</td>\n",
       "      <td>4250</td>\n",
       "      <td>1770249a5a2e770ca90628434d4934b1</td>\n",
       "      <td>68830.14</td>\n",
       "      <td>1</td>\n",
       "      <td>NaN</td>\n",
       "      <td>NaN</td>\n",
       "      <td>NaN</td>\n",
       "      <td>NaN</td>\n",
       "    </tr>\n",
       "    <tr>\n",
       "      <th>5272</th>\n",
       "      <td>2025-04-16</td>\n",
       "      <td>City of Los Angeles</td>\n",
       "      <td>CE437A</td>\n",
       "      <td>858</td>\n",
       "      <td>cc53a0dbf5df90e3009b9cb5d89d80ba</td>\n",
       "      <td>104254.75</td>\n",
       "      <td>1</td>\n",
       "      <td>7.00</td>\n",
       "      <td>10.00</td>\n",
       "      <td>0.29</td>\n",
       "      <td>3.00</td>\n",
       "    </tr>\n",
       "  </tbody>\n",
       "</table>\n",
       "</div>"
      ],
      "text/plain": [
       "     service_date  \\\n",
       "2689   2025-04-16   \n",
       "1160   2025-04-16   \n",
       "5272   2025-04-16   \n",
       "\n",
       "                                                                             portfolio_organization_name  \\\n",
       "2689                                                                          Los Angeles World Airports   \n",
       "1160  Ventura County (VCTC, Gold Coast, Cities of Camarillo, Moorpark, Ojai, Simi Valley, Thousand Oaks)   \n",
       "5272                                                                                 City of Los Angeles   \n",
       "\n",
       "                     recent_combined_name route_id  \\\n",
       "2689  VN to LAX FlyAway - Van Nuys to LAX        1   \n",
       "1160      Santa Paula School Tripper (AM)     4250   \n",
       "5272                               CE437A      858   \n",
       "\n",
       "             schedule_gtfs_dataset_key  route_length_feet  other  District  \\\n",
       "2689  73e3164043eb7312454dd03413a6b310          233714.99      1      7.00   \n",
       "1160  1770249a5a2e770ca90628434d4934b1           68830.14      1       NaN   \n",
       "5272  cc53a0dbf5df90e3009b9cb5d89d80ba          104254.75      1      7.00   \n",
       "\n",
       "      Route  route_pct_on_shn  on_shn  \n",
       "2689 405.00              0.78    3.00  \n",
       "1160    NaN               NaN     NaN  \n",
       "5272  10.00              0.29    3.00  "
      ]
     },
     "execution_count": 70,
     "metadata": {},
     "output_type": "execute_result"
    }
   ],
   "source": [
    "df.sample(3)"
   ]
  },
  {
   "cell_type": "code",
   "execution_count": 71,
   "id": "79f1776b-63ea-41c9-b216-24040481a7db",
   "metadata": {
    "tags": []
   },
   "outputs": [
    {
     "data": {
      "text/plain": [
       "Index(['service_date', 'portfolio_organization_name', 'recent_combined_name',\n",
       "       'route_id', 'schedule_gtfs_dataset_key', 'route_length_feet', 'other',\n",
       "       'District', 'Route', 'route_pct_on_shn', 'on_shn'],\n",
       "      dtype='object')"
      ]
     },
     "execution_count": 71,
     "metadata": {},
     "output_type": "execute_result"
    }
   ],
   "source": [
    "df.columns"
   ]
  },
  {
   "cell_type": "code",
   "execution_count": 72,
   "id": "a44b2cd3-200a-419b-a025-f778d43a09b4",
   "metadata": {
    "tags": []
   },
   "outputs": [],
   "source": [
    "df2 = pd.merge(\n",
    "        df,\n",
    "        parallel_or_intersecting.assign(parallel=2),\n",
    "        on = [\"District\", \"Route\",\"portfolio_organization_name\",\"route_id\",],\n",
    "        how = \"left\"\n",
    "    )\n",
    "    "
   ]
  },
  {
   "cell_type": "code",
   "execution_count": 73,
   "id": "86454b07-e782-42c8-8f4d-8c18669761a0",
   "metadata": {
    "tags": []
   },
   "outputs": [],
   "source": [
    "category_cols = [\"on_shn\", \"parallel\", \"other\"]\n",
    "\n",
    "    \n",
    "df2 = df2.assign(\n",
    "        category = df2[category_cols].idxmax(axis=1)\n",
    "    )\n",
    "\n",
    "    "
   ]
  },
  {
   "cell_type": "code",
   "execution_count": 74,
   "id": "9f75a5a9-dc09-4de2-9682-657c2dd9e120",
   "metadata": {
    "tags": []
   },
   "outputs": [
    {
     "data": {
      "text/plain": [
       "other     4666\n",
       "on_shn    1768\n",
       "Name: category, dtype: int64"
      ]
     },
     "execution_count": 74,
     "metadata": {},
     "output_type": "execute_result"
    }
   ],
   "source": [
    "df2.category.value_counts()"
   ]
  },
  {
   "cell_type": "code",
   "execution_count": 75,
   "id": "91e23b40-b1b0-47c8-b881-0246094d7327",
   "metadata": {
    "scrolled": true,
    "tags": []
   },
   "outputs": [],
   "source": [
    "df2.route_pct_on_shn = df2.route_pct_on_shn.fillna(0)"
   ]
  },
  {
   "cell_type": "code",
   "execution_count": 86,
   "id": "18a71b9c-9bba-4f61-b32c-16e517fd9592",
   "metadata": {
    "tags": []
   },
   "outputs": [],
   "source": [
    "district_df = df[[\"portfolio_organization_name\", \"District\"]].dropna(subset = [\"District\"]).drop_duplicates()"
   ]
  },
  {
   "cell_type": "markdown",
   "id": "0e1fae35-2479-4fcc-8a30-6710337b9b13",
   "metadata": {},
   "source": [
    "## Need to find a way to get districts while loading in routes + figure out if it's really true that there aren't routes that are parallel to SHN."
   ]
  },
  {
   "cell_type": "code",
   "execution_count": 77,
   "id": "831c668b-c7e4-4a35-bf19-03ecb0ff373e",
   "metadata": {
    "tags": []
   },
   "outputs": [
    {
     "data": {
      "text/html": [
       "<div>\n",
       "<style scoped>\n",
       "    .dataframe tbody tr th:only-of-type {\n",
       "        vertical-align: middle;\n",
       "    }\n",
       "\n",
       "    .dataframe tbody tr th {\n",
       "        vertical-align: top;\n",
       "    }\n",
       "\n",
       "    .dataframe thead th {\n",
       "        text-align: right;\n",
       "    }\n",
       "</style>\n",
       "<table border=\"1\" class=\"dataframe\">\n",
       "  <thead>\n",
       "    <tr style=\"text-align: right;\">\n",
       "      <th></th>\n",
       "      <th>service_date</th>\n",
       "      <th>portfolio_organization_name</th>\n",
       "      <th>recent_combined_name</th>\n",
       "      <th>route_id</th>\n",
       "      <th>schedule_gtfs_dataset_key</th>\n",
       "      <th>route_length_feet</th>\n",
       "      <th>other</th>\n",
       "      <th>District</th>\n",
       "      <th>Route</th>\n",
       "      <th>route_pct_on_shn</th>\n",
       "      <th>on_shn</th>\n",
       "      <th>route_pct_parallel_intersecting_shn</th>\n",
       "      <th>parallel</th>\n",
       "      <th>category</th>\n",
       "    </tr>\n",
       "  </thead>\n",
       "  <tbody>\n",
       "    <tr>\n",
       "      <th>6035</th>\n",
       "      <td>2023-05-17</td>\n",
       "      <td>Butte County Association of Governments</td>\n",
       "      <td>20 Chico - Oroville</td>\n",
       "      <td>1b8c181e-5565-4495-b085-3042ee9483b8</td>\n",
       "      <td>f1cc580313b37ae0f853b2e469b27228</td>\n",
       "      <td>143812.09</td>\n",
       "      <td>1</td>\n",
       "      <td>3.00</td>\n",
       "      <td>99.00</td>\n",
       "      <td>0.33</td>\n",
       "      <td>3.00</td>\n",
       "      <td>0.49</td>\n",
       "      <td>2.00</td>\n",
       "      <td>on_shn</td>\n",
       "    </tr>\n",
       "    <tr>\n",
       "      <th>1757</th>\n",
       "      <td>2023-11-15</td>\n",
       "      <td>Los Angeles County Metropolitan Transportation Authority</td>\n",
       "      <td>108 Metro Local Line</td>\n",
       "      <td>108-13168</td>\n",
       "      <td>3f3f36b4c41cc6b5df3eb7f5d8ea6e3c</td>\n",
       "      <td>135406.71</td>\n",
       "      <td>1</td>\n",
       "      <td>NaN</td>\n",
       "      <td>NaN</td>\n",
       "      <td>0.00</td>\n",
       "      <td>NaN</td>\n",
       "      <td>NaN</td>\n",
       "      <td>NaN</td>\n",
       "      <td>other</td>\n",
       "    </tr>\n",
       "    <tr>\n",
       "      <th>294</th>\n",
       "      <td>2024-12-11</td>\n",
       "      <td>Los Angeles County Metropolitan Transportation Authority</td>\n",
       "      <td>51 Metro Local Line</td>\n",
       "      <td>51-13183</td>\n",
       "      <td>0666caf3ec1ecc96b74f4477ee4bc939</td>\n",
       "      <td>91612.83</td>\n",
       "      <td>1</td>\n",
       "      <td>NaN</td>\n",
       "      <td>NaN</td>\n",
       "      <td>0.00</td>\n",
       "      <td>NaN</td>\n",
       "      <td>NaN</td>\n",
       "      <td>NaN</td>\n",
       "      <td>other</td>\n",
       "    </tr>\n",
       "  </tbody>\n",
       "</table>\n",
       "</div>"
      ],
      "text/plain": [
       "     service_date                               portfolio_organization_name  \\\n",
       "6035   2023-05-17                   Butte County Association of Governments   \n",
       "1757   2023-11-15  Los Angeles County Metropolitan Transportation Authority   \n",
       "294    2024-12-11  Los Angeles County Metropolitan Transportation Authority   \n",
       "\n",
       "      recent_combined_name                              route_id  \\\n",
       "6035   20 Chico - Oroville  1b8c181e-5565-4495-b085-3042ee9483b8   \n",
       "1757  108 Metro Local Line                             108-13168   \n",
       "294    51 Metro Local Line                              51-13183   \n",
       "\n",
       "             schedule_gtfs_dataset_key  route_length_feet  other  District  \\\n",
       "6035  f1cc580313b37ae0f853b2e469b27228          143812.09      1      3.00   \n",
       "1757  3f3f36b4c41cc6b5df3eb7f5d8ea6e3c          135406.71      1       NaN   \n",
       "294   0666caf3ec1ecc96b74f4477ee4bc939           91612.83      1       NaN   \n",
       "\n",
       "      Route  route_pct_on_shn  on_shn  route_pct_parallel_intersecting_shn  \\\n",
       "6035  99.00              0.33    3.00                                 0.49   \n",
       "1757    NaN              0.00     NaN                                  NaN   \n",
       "294     NaN              0.00     NaN                                  NaN   \n",
       "\n",
       "      parallel category  \n",
       "6035      2.00   on_shn  \n",
       "1757       NaN    other  \n",
       "294        NaN    other  "
      ]
     },
     "execution_count": 77,
     "metadata": {},
     "output_type": "execute_result"
    }
   ],
   "source": [
    "df2.sample(3)"
   ]
  },
  {
   "cell_type": "code",
   "execution_count": 78,
   "id": "4ece1cc7-a24a-4706-b737-f71e9298b972",
   "metadata": {
    "tags": []
   },
   "outputs": [
    {
     "name": "stdout",
     "output_type": "stream",
     "text": [
      "<class 'pandas.core.frame.DataFrame'>\n",
      "Int64Index: 6434 entries, 0 to 6433\n",
      "Data columns (total 14 columns):\n",
      " #   Column                               Non-Null Count  Dtype         \n",
      "---  ------                               --------------  -----         \n",
      " 0   service_date                         6434 non-null   datetime64[ns]\n",
      " 1   portfolio_organization_name          6434 non-null   object        \n",
      " 2   recent_combined_name                 6434 non-null   object        \n",
      " 3   route_id                             6434 non-null   object        \n",
      " 4   schedule_gtfs_dataset_key            6434 non-null   object        \n",
      " 5   route_length_feet                    6250 non-null   float64       \n",
      " 6   other                                6434 non-null   int64         \n",
      " 7   District                             1768 non-null   float64       \n",
      " 8   Route                                1768 non-null   float64       \n",
      " 9   route_pct_on_shn                     6434 non-null   float64       \n",
      " 10  on_shn                               1768 non-null   float64       \n",
      " 11  route_pct_parallel_intersecting_shn  1768 non-null   float64       \n",
      " 12  parallel                             1768 non-null   float64       \n",
      " 13  category                             6434 non-null   object        \n",
      "dtypes: datetime64[ns](1), float64(7), int64(1), object(5)\n",
      "memory usage: 754.0+ KB\n"
     ]
    }
   ],
   "source": [
    "df2.info()"
   ]
  },
  {
   "cell_type": "code",
   "execution_count": null,
   "id": "82e802e4-2174-4dca-91fb-230ad75e3051",
   "metadata": {},
   "outputs": [],
   "source": []
  }
 ],
 "metadata": {
  "kernelspec": {
   "display_name": "Python 3 (ipykernel)",
   "language": "python",
   "name": "python3"
  },
  "language_info": {
   "codemirror_mode": {
    "name": "ipython",
    "version": 3
   },
   "file_extension": ".py",
   "mimetype": "text/x-python",
   "name": "python",
   "nbconvert_exporter": "python",
   "pygments_lexer": "ipython3",
   "version": "3.11.10"
  }
 },
 "nbformat": 4,
 "nbformat_minor": 5
}
