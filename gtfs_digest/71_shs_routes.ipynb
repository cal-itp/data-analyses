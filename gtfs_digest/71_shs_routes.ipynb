{
 "cells": [
  {
   "cell_type": "markdown",
   "id": "41619139-2e85-4914-a0c0-cb390c36b94c",
   "metadata": {},
   "source": [
    "# Transit On the SHN \n",
    "* [GH Issue](https://github.com/cal-itp/data-analyses/issues/1477)\n"
   ]
  },
  {
   "cell_type": "code",
   "execution_count": 1,
   "id": "f6b01cd8-ccda-4d2a-9c64-9cca36e0713c",
   "metadata": {},
   "outputs": [],
   "source": [
    "import geopandas as gpd\n",
    "import numpy as np\n",
    "import pandas as pd\n",
    "import google.auth\n",
    "credentials, project = google.auth.default()"
   ]
  },
  {
   "cell_type": "code",
   "execution_count": 9,
   "id": "ec246873-6121-4544-8d62-f71dec06352e",
   "metadata": {
    "tags": []
   },
   "outputs": [],
   "source": [
    "from shared_utils import (\n",
    "    catalog_utils,\n",
    "    dask_utils,\n",
    "    gtfs_utils_v2,\n",
    "    portfolio_utils,\n",
    "    publish_utils,\n",
    "    rt_dates,\n",
    "    rt_utils,\n",
    ")\n",
    "from update_vars import GTFS_DATA_DICT, RT_SCHED_GCS, SCHED_GCS, SEGMENT_GCS"
   ]
  },
  {
   "cell_type": "code",
   "execution_count": 2,
   "id": "ffeaad35-64a6-4b16-a93d-ac4a0759288a",
   "metadata": {
    "tags": []
   },
   "outputs": [],
   "source": [
    "pd.options.display.max_columns = 100\n",
    "pd.options.display.float_format = \"{:.2f}\".format\n",
    "pd.set_option(\"display.max_rows\", None)\n",
    "pd.set_option(\"display.max_colwidth\", None)"
   ]
  },
  {
   "cell_type": "markdown",
   "id": "97362753-78c3-4587-8ae2-15dd5ae8ab3b",
   "metadata": {},
   "source": [
    "## Load in Operator Routes"
   ]
  },
  {
   "cell_type": "code",
   "execution_count": 5,
   "id": "419078c7-a950-4aad-bfb8-7b17fadf11a7",
   "metadata": {
    "tags": []
   },
   "outputs": [],
   "source": [
    "OPERATOR_ROUTE = GTFS_DATA_DICT.digest_tables.operator_routes_map"
   ]
  },
  {
   "cell_type": "code",
   "execution_count": 6,
   "id": "ec7938d4-0523-426d-9ff7-6bac46245cef",
   "metadata": {
    "tags": []
   },
   "outputs": [],
   "source": [
    "op_geography_df = gpd.read_parquet(\n",
    "    f\"{RT_SCHED_GCS}{OPERATOR_ROUTE}.parquet\",\n",
    "    storage_options={\"token\": credentials.token},\n",
    ")"
   ]
  },
  {
   "cell_type": "code",
   "execution_count": 8,
   "id": "17ab372c-d8f0-4fca-925f-e6c0dc99948c",
   "metadata": {
    "tags": []
   },
   "outputs": [
    {
     "data": {
      "text/plain": [
       "Index(['shape_array_key', 'geometry', 'feed_key', 'schedule_gtfs_dataset_key',\n",
       "       'route_id', 'direction_id', 'route_key', 'route_length',\n",
       "       'route_length_miles', 'is_downtown_local', 'is_local', 'is_coverage',\n",
       "       'is_rapid', 'is_express', 'is_rail', 'is_ferry',\n",
       "       'organization_source_record_id', 'organization_name', 'service_date',\n",
       "       'portfolio_organization_name', 'name', 'combined_name',\n",
       "       'recent_combined_name', 'recent_route_id',\n",
       "       'route_length_miles_percentile', 'percentile_group',\n",
       "       'shortest_longest'],\n",
       "      dtype='object')"
      ]
     },
     "execution_count": 8,
     "metadata": {},
     "output_type": "execute_result"
    }
   ],
   "source": [
    "op_geography_df.columns"
   ]
  },
  {
   "cell_type": "code",
   "execution_count": 11,
   "id": "1ae3a4aa-f6f6-409a-9238-27249434f476",
   "metadata": {
    "tags": []
   },
   "outputs": [],
   "source": [
    "most_recent_dates = publish_utils.filter_to_recent_date(\n",
    "    df=op_geography_df, group_cols=[\"portfolio_organization_name\",\"route_id\"]\n",
    ")"
   ]
  },
  {
   "cell_type": "code",
   "execution_count": 12,
   "id": "4963728e-2ea8-41e4-b1df-e4925fe08528",
   "metadata": {
    "tags": []
   },
   "outputs": [],
   "source": [
    "most_recent_routes  = pd.merge(\n",
    "    op_geography_df, most_recent_dates, on=[\"portfolio_organization_name\", \"route_id\", \"service_date\"], how=\"inner\"\n",
    ")"
   ]
  },
  {
   "cell_type": "code",
   "execution_count": 14,
   "id": "53e88be4-0575-4c26-b5de-acff9e3a8646",
   "metadata": {
    "tags": []
   },
   "outputs": [
    {
     "data": {
      "text/plain": [
       "(5931, 27)"
      ]
     },
     "execution_count": 14,
     "metadata": {},
     "output_type": "execute_result"
    }
   ],
   "source": [
    "most_recent_routes.shape"
   ]
  },
  {
   "cell_type": "markdown",
   "id": "458212e5-3cb6-476b-8768-3a2d6d4ce494",
   "metadata": {
    "tags": []
   },
   "source": [
    "## Load in SHS \n",
    "* https://gis.data.ca.gov/datasets/77f2d7ba94e040a78bfbe36feb6279da_0/explore"
   ]
  },
  {
   "cell_type": "code",
   "execution_count": 16,
   "id": "0fe7fa00-5611-463f-af8f-69c4a4aab114",
   "metadata": {
    "tags": []
   },
   "outputs": [],
   "source": [
    "shs_url = \"https://caltrans-gis.dot.ca.gov/arcgis/rest/services/CHhighway/SHN_Lines/FeatureServer/0/query?outFields=*&where=1%3D1&f=geojson\""
   ]
  },
  {
   "cell_type": "code",
   "execution_count": 18,
   "id": "c5461858-f029-42ec-b77e-ab41021a4ac8",
   "metadata": {
    "tags": []
   },
   "outputs": [],
   "source": [
    "shs_gdf = gpd.read_file(shs_url)"
   ]
  },
  {
   "cell_type": "code",
   "execution_count": 30,
   "id": "5058e1a5-b336-4303-a93c-e9cd8ca7e649",
   "metadata": {
    "tags": []
   },
   "outputs": [
    {
     "data": {
      "text/plain": [
       "(2000, 20)"
      ]
     },
     "execution_count": 30,
     "metadata": {},
     "output_type": "execute_result"
    }
   ],
   "source": [
    "shs_gdf.shape"
   ]
  },
  {
   "cell_type": "code",
   "execution_count": 20,
   "id": "8ef17ca0-bc7c-4446-9438-a8d4c9c35c45",
   "metadata": {
    "tags": []
   },
   "outputs": [
    {
     "data": {
      "text/plain": [
       "Index(['OBJECTID', 'Route', 'RteSuffix', 'RouteS', 'PMRouteID', 'County',\n",
       "       'District', 'PMPrefix', 'bPM', 'ePM', 'PMSuffix', 'bPMc', 'ePMc',\n",
       "       'bOdometer', 'eOdometer', 'AlignCode', 'RouteType', 'Direction',\n",
       "       'Shape__Length', 'geometry'],\n",
       "      dtype='object')"
      ]
     },
     "execution_count": 20,
     "metadata": {},
     "output_type": "execute_result"
    }
   ],
   "source": [
    "shs_gdf.columns"
   ]
  },
  {
   "cell_type": "code",
   "execution_count": 29,
   "id": "6fec4e1a-9f6f-4a8d-8526-6989d799c86c",
   "metadata": {
    "tags": []
   },
   "outputs": [
    {
     "data": {
      "text/html": [
       "<div>\n",
       "<style scoped>\n",
       "    .dataframe tbody tr th:only-of-type {\n",
       "        vertical-align: middle;\n",
       "    }\n",
       "\n",
       "    .dataframe tbody tr th {\n",
       "        vertical-align: top;\n",
       "    }\n",
       "\n",
       "    .dataframe thead th {\n",
       "        text-align: right;\n",
       "    }\n",
       "</style>\n",
       "<table border=\"1\" class=\"dataframe\">\n",
       "  <thead>\n",
       "    <tr style=\"text-align: right;\">\n",
       "      <th></th>\n",
       "      <th>OBJECTID</th>\n",
       "      <th>Route</th>\n",
       "      <th>RteSuffix</th>\n",
       "      <th>RouteS</th>\n",
       "      <th>PMRouteID</th>\n",
       "      <th>County</th>\n",
       "      <th>District</th>\n",
       "      <th>PMPrefix</th>\n",
       "      <th>bPM</th>\n",
       "      <th>ePM</th>\n",
       "      <th>PMSuffix</th>\n",
       "      <th>bPMc</th>\n",
       "      <th>ePMc</th>\n",
       "      <th>bOdometer</th>\n",
       "      <th>eOdometer</th>\n",
       "      <th>AlignCode</th>\n",
       "      <th>RouteType</th>\n",
       "      <th>Direction</th>\n",
       "      <th>Shape__Length</th>\n",
       "    </tr>\n",
       "  </thead>\n",
       "  <tbody>\n",
       "    <tr>\n",
       "      <th>745</th>\n",
       "      <td>746</td>\n",
       "      <td>32</td>\n",
       "      <td></td>\n",
       "      <td>32</td>\n",
       "      <td>BUT032...R</td>\n",
       "      <td>BUT</td>\n",
       "      <td>3</td>\n",
       "      <td></td>\n",
       "      <td>37.08</td>\n",
       "      <td>37.75</td>\n",
       "      <td></td>\n",
       "      <td>37.083</td>\n",
       "      <td>37.749</td>\n",
       "      <td>48.85</td>\n",
       "      <td>49.52</td>\n",
       "      <td>Right</td>\n",
       "      <td>State</td>\n",
       "      <td>EB</td>\n",
       "      <td>1100.60</td>\n",
       "    </tr>\n",
       "    <tr>\n",
       "      <th>1364</th>\n",
       "      <td>1365</td>\n",
       "      <td>49</td>\n",
       "      <td></td>\n",
       "      <td>49</td>\n",
       "      <td>ED.049...L</td>\n",
       "      <td>ED</td>\n",
       "      <td>3</td>\n",
       "      <td></td>\n",
       "      <td>13.55</td>\n",
       "      <td>14.60</td>\n",
       "      <td></td>\n",
       "      <td>13.546</td>\n",
       "      <td>14.597</td>\n",
       "      <td>146.54</td>\n",
       "      <td>147.60</td>\n",
       "      <td>Left</td>\n",
       "      <td>State</td>\n",
       "      <td>SB</td>\n",
       "      <td>2150.29</td>\n",
       "    </tr>\n",
       "    <tr>\n",
       "      <th>793</th>\n",
       "      <td>794</td>\n",
       "      <td>59</td>\n",
       "      <td></td>\n",
       "      <td>59</td>\n",
       "      <td>MAD059...R</td>\n",
       "      <td>MAD</td>\n",
       "      <td>6</td>\n",
       "      <td></td>\n",
       "      <td>0.00</td>\n",
       "      <td>0.06</td>\n",
       "      <td></td>\n",
       "      <td>0.0</td>\n",
       "      <td>0.057</td>\n",
       "      <td>0.19</td>\n",
       "      <td>0.25</td>\n",
       "      <td>Right</td>\n",
       "      <td>State</td>\n",
       "      <td>NB</td>\n",
       "      <td>104.66</td>\n",
       "    </tr>\n",
       "  </tbody>\n",
       "</table>\n",
       "</div>"
      ],
      "text/plain": [
       "      OBJECTID  Route RteSuffix RouteS   PMRouteID County  District PMPrefix  \\\n",
       "745        746     32               32  BUT032...R    BUT         3            \n",
       "1364      1365     49               49  ED.049...L     ED         3            \n",
       "793        794     59               59  MAD059...R    MAD         6            \n",
       "\n",
       "       bPM   ePM PMSuffix    bPMc    ePMc  bOdometer  eOdometer AlignCode  \\\n",
       "745  37.08 37.75           37.083  37.749      48.85      49.52     Right   \n",
       "1364 13.55 14.60           13.546  14.597     146.54     147.60      Left   \n",
       "793   0.00  0.06              0.0   0.057       0.19       0.25     Right   \n",
       "\n",
       "     RouteType Direction  Shape__Length  \n",
       "745      State        EB        1100.60  \n",
       "1364     State        SB        2150.29  \n",
       "793      State        NB         104.66  "
      ]
     },
     "execution_count": 29,
     "metadata": {},
     "output_type": "execute_result"
    }
   ],
   "source": [
    "shs_gdf.drop(columns = [\"geometry\"]).sample(3)"
   ]
  },
  {
   "cell_type": "code",
   "execution_count": 21,
   "id": "3ed9c956-1141-4080-b8b4-ebf89eb9f423",
   "metadata": {
    "tags": []
   },
   "outputs": [
    {
     "data": {
      "text/plain": [
       "(2000, 20)"
      ]
     },
     "execution_count": 21,
     "metadata": {},
     "output_type": "execute_result"
    }
   ],
   "source": [
    "shs_gdf.shape"
   ]
  },
  {
   "cell_type": "code",
   "execution_count": 23,
   "id": "5bbdb14b-9625-4627-99cc-820d402a95a7",
   "metadata": {
    "tags": []
   },
   "outputs": [
    {
     "data": {
      "text/plain": [
       "70"
      ]
     },
     "execution_count": 23,
     "metadata": {},
     "output_type": "execute_result"
    }
   ],
   "source": [
    "shs_gdf.Route.nunique()"
   ]
  },
  {
   "cell_type": "code",
   "execution_count": 31,
   "id": "04c3444f-aa2d-4040-8d2f-eddf4e541035",
   "metadata": {
    "tags": []
   },
   "outputs": [],
   "source": [
    "# shs_gdf.explore()"
   ]
  },
  {
   "cell_type": "code",
   "execution_count": 26,
   "id": "c4118c4c-e6bf-4939-86e4-a2b1b6db9348",
   "metadata": {
    "tags": []
   },
   "outputs": [],
   "source": [
    "# Dissolve?\n",
    "shs_gdf_dissolved = shs_gdf.dissolve(by = [\"Route\"])"
   ]
  },
  {
   "cell_type": "code",
   "execution_count": 32,
   "id": "8248d34b-6b8d-4179-af13-58bcee614da2",
   "metadata": {
    "tags": []
   },
   "outputs": [],
   "source": [
    "# shs_gdf_dissolved.explore()"
   ]
  }
 ],
 "metadata": {
  "kernelspec": {
   "display_name": "Python 3 (ipykernel)",
   "language": "python",
   "name": "python3"
  },
  "language_info": {
   "codemirror_mode": {
    "name": "ipython",
    "version": 3
   },
   "file_extension": ".py",
   "mimetype": "text/x-python",
   "name": "python",
   "nbconvert_exporter": "python",
   "pygments_lexer": "ipython3",
   "version": "3.11.10"
  }
 },
 "nbformat": 4,
 "nbformat_minor": 5
}
