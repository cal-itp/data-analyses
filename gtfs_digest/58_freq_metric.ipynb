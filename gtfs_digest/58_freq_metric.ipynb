{
 "cells": [
  {
   "cell_type": "markdown",
   "id": "39bfafc6-581c-4e7f-85d8-c2e32ff92bfa",
   "metadata": {},
   "source": [
    "# All Day frequency doesn't correspond with Peak/Offpeak for San Diego MST's 1 Fashion Valley"
   ]
  },
  {
   "cell_type": "code",
   "execution_count": 49,
   "id": "df7dfded-0619-4f86-aa15-c63e2703d0c4",
   "metadata": {
    "tags": []
   },
   "outputs": [],
   "source": [
    "import _report_utils\n",
    "import _section1_utils as section1\n",
    "import _section2_utils as section2\n",
    "import geopandas as gpd\n",
    "import merge_data\n",
    "import merge_operator_data\n",
    "import numpy as np\n",
    "import pandas as pd\n",
    "from segment_speed_utils import gtfs_schedule_wrangling, helpers\n",
    "from segment_speed_utils.project_vars import COMPILED_CACHED_VIEWS, PROJECT_CRS\n",
    "from shared_utils import catalog_utils, portfolio_utils, rt_dates,portfolio_utils, rt_utils, time_helpers\n",
    "from update_vars import GTFS_DATA_DICT, RT_SCHED_GCS, SCHED_GCS, SEGMENT_GCS"
   ]
  },
  {
   "cell_type": "code",
   "execution_count": 2,
   "id": "fe7c4732-f8e3-4ccd-a650-3c4e97c14401",
   "metadata": {
    "tags": []
   },
   "outputs": [],
   "source": [
    "pd.options.display.max_columns = 100\n",
    "pd.options.display.float_format = \"{:.2f}\".format\n",
    "pd.set_option(\"display.max_rows\", None)\n",
    "pd.set_option(\"display.max_colwidth\", None)"
   ]
  },
  {
   "cell_type": "code",
   "execution_count": 3,
   "id": "9eadb54a-4d75-463b-9f72-ab96719a0eed",
   "metadata": {
    "tags": []
   },
   "outputs": [],
   "source": [
    "analysis_date_list = [rt_dates.DATES[\"feb2025\"]]"
   ]
  },
  {
   "cell_type": "code",
   "execution_count": 4,
   "id": "20e49443-ecc0-4272-9059-e18779f7c4a3",
   "metadata": {
    "tags": []
   },
   "outputs": [],
   "source": [
    "analysis_date = rt_dates.DATES[\"feb2025\"]"
   ]
  },
  {
   "cell_type": "code",
   "execution_count": 5,
   "id": "5c9a8829-1f78-4f51-98ee-0a5d0c358d85",
   "metadata": {
    "tags": []
   },
   "outputs": [],
   "source": [
    "schd_vp_url = f\"{GTFS_DATA_DICT.digest_tables.dir}{GTFS_DATA_DICT.digest_tables.route_schedule_vp}.parquet\""
   ]
  },
  {
   "cell_type": "markdown",
   "id": "c83f765b-0486-4a10-8694-f5cd20c51f30",
   "metadata": {},
   "source": [
    "## Look at San Diego first"
   ]
  },
  {
   "cell_type": "code",
   "execution_count": 6,
   "id": "d37506c8-be17-45d3-af57-2674417e7ee3",
   "metadata": {
    "tags": []
   },
   "outputs": [],
   "source": [
    "sdi = \"San Diego Metropolitan Transit System\""
   ]
  },
  {
   "cell_type": "code",
   "execution_count": 7,
   "id": "7740b4fa-f5a1-45fe-8ec3-5f37fe1a322e",
   "metadata": {
    "tags": []
   },
   "outputs": [],
   "source": [
    "df = pd.read_parquet(\n",
    "    schd_vp_url,\n",
    "    filters=[\n",
    "        [\n",
    "            (\"organization_name\", \"==\", sdi),\n",
    "            (\"sched_rt_category\", \"in\", [\"schedule_and_vp\"]),\n",
    "        ]\n",
    "    ],\n",
    ")"
   ]
  },
  {
   "cell_type": "code",
   "execution_count": 8,
   "id": "6db930fb-ee42-4a33-9be0-663fafd3738e",
   "metadata": {
    "tags": []
   },
   "outputs": [],
   "source": [
    "df[\"headway_in_minutes\"] = 60 / df.frequency"
   ]
  },
  {
   "cell_type": "code",
   "execution_count": 9,
   "id": "bfa29d0f-fd03-4388-949f-47abe321073f",
   "metadata": {
    "tags": []
   },
   "outputs": [],
   "source": [
    "df = _report_utils.replace_column_names(df)"
   ]
  },
  {
   "cell_type": "code",
   "execution_count": 10,
   "id": "20e85e4e-3121-4448-b877-30300c3272b9",
   "metadata": {
    "tags": []
   },
   "outputs": [
    {
     "data": {
      "text/plain": [
       "Index(['schedule_gtfs_dataset_key', 'dir_0_1', 'Period',\n",
       "       'Average Scheduled Service (trip minutes)',\n",
       "       'Average Stop Distance (miles)', '# scheduled trips', 'Trips per Hour',\n",
       "       'is_express', 'is_rapid', 'is_rail', 'is_coverage', 'is_downtown_local',\n",
       "       'is_local', 'Date', 'Route typology', '# Minutes with 1+ VP per Minute',\n",
       "       '# Minutes with 2+ VP per Minute', 'Aggregate Actual Service Minutes',\n",
       "       'Aggregate Scheduled Service Minutes (all trips)', '# VP',\n",
       "       '# VP within Scheduled Shape', '# Early Arrival Trips',\n",
       "       '# On-Time Trips', '# Late Trips', '# Trips with VP',\n",
       "       'Average VP per Minute', '% VP within Scheduled Shape',\n",
       "       'pct_rt_journey_atleast1_vp', 'pct_rt_journey_atleast2_vp',\n",
       "       '% Scheduled Trip w/ 1+ VP/Minute', '% Scheduled Trip w/ 2+ VP/Minute',\n",
       "       'Realtime versus Scheduled Service Ratio',\n",
       "       'Average Actual Service (Trip Minutes)', 'GTFS Availability',\n",
       "       'Speed (MPH)', 'route_long_name', 'route_short_name', 'Route',\n",
       "       'Route ID', 'Base64 Encoded Feed URL', 'Organization ID',\n",
       "       'Organization', 'District', 'Direction', 'Transit Operator',\n",
       "       'schedule_source_record_id', 'headway_in_minutes'],\n",
       "      dtype='object')"
      ]
     },
     "execution_count": 10,
     "metadata": {},
     "output_type": "execute_result"
    }
   ],
   "source": [
    "df.columns"
   ]
  },
  {
   "cell_type": "code",
   "execution_count": 11,
   "id": "3b2283ad-43ed-41d5-bf82-ac35f5776656",
   "metadata": {
    "tags": []
   },
   "outputs": [
    {
     "data": {
      "text/plain": [
       "array(['2023-04-12T00:00:00.000000000', '2023-05-17T00:00:00.000000000',\n",
       "       '2023-06-14T00:00:00.000000000', '2023-07-12T00:00:00.000000000',\n",
       "       '2023-08-15T00:00:00.000000000', '2023-03-15T00:00:00.000000000',\n",
       "       '2023-09-13T00:00:00.000000000', '2023-10-11T00:00:00.000000000',\n",
       "       '2023-11-15T00:00:00.000000000', '2023-12-13T00:00:00.000000000',\n",
       "       '2024-01-17T00:00:00.000000000', '2024-02-14T00:00:00.000000000',\n",
       "       '2024-03-13T00:00:00.000000000', '2024-04-17T00:00:00.000000000',\n",
       "       '2024-05-22T00:00:00.000000000', '2024-06-12T00:00:00.000000000',\n",
       "       '2024-07-17T00:00:00.000000000', '2024-08-14T00:00:00.000000000',\n",
       "       '2024-09-18T00:00:00.000000000', '2024-10-16T00:00:00.000000000',\n",
       "       '2024-11-13T00:00:00.000000000', '2024-12-11T00:00:00.000000000',\n",
       "       '2025-01-15T00:00:00.000000000', '2025-02-12T00:00:00.000000000'],\n",
       "      dtype='datetime64[ns]')"
      ]
     },
     "execution_count": 11,
     "metadata": {},
     "output_type": "execute_result"
    }
   ],
   "source": [
    "df.Date.unique()"
   ]
  },
  {
   "cell_type": "markdown",
   "id": "012e0428-b0bf-4f8f-9b29-6f188b4da2df",
   "metadata": {},
   "source": [
    "### In the original dataset, there are more trips per hour for all_day than in peak and offpeak"
   ]
  },
  {
   "cell_type": "code",
   "execution_count": 12,
   "id": "049abca6-a1e8-4889-9447-fb4c041a8e3a",
   "metadata": {
    "tags": []
   },
   "outputs": [],
   "source": [
    "fashion_valley = df.loc[\n",
    "    (df[\"Route\"] == \"1 Fashion Valley - La Mesa\")\n",
    "    & (df[\"Date\"] == \"2025-02-12T00:00:00.000000000\")\n",
    "].reset_index(drop=True)"
   ]
  },
  {
   "cell_type": "code",
   "execution_count": 13,
   "id": "b7a6209e-dadb-4d23-9799-1a832177920d",
   "metadata": {
    "tags": []
   },
   "outputs": [
    {
     "data": {
      "text/html": [
       "<div>\n",
       "<style scoped>\n",
       "    .dataframe tbody tr th:only-of-type {\n",
       "        vertical-align: middle;\n",
       "    }\n",
       "\n",
       "    .dataframe tbody tr th {\n",
       "        vertical-align: top;\n",
       "    }\n",
       "\n",
       "    .dataframe thead th {\n",
       "        text-align: right;\n",
       "    }\n",
       "</style>\n",
       "<table border=\"1\" class=\"dataframe\">\n",
       "  <thead>\n",
       "    <tr style=\"text-align: right;\">\n",
       "      <th></th>\n",
       "      <th>Date</th>\n",
       "      <th>headway_in_minutes</th>\n",
       "      <th>Trips per Hour</th>\n",
       "      <th>Period</th>\n",
       "    </tr>\n",
       "  </thead>\n",
       "  <tbody>\n",
       "    <tr>\n",
       "      <th>0</th>\n",
       "      <td>2025-02-12</td>\n",
       "      <td>23.26</td>\n",
       "      <td>2.58</td>\n",
       "      <td>all_day</td>\n",
       "    </tr>\n",
       "    <tr>\n",
       "      <th>1</th>\n",
       "      <td>2025-02-12</td>\n",
       "      <td>43.48</td>\n",
       "      <td>1.38</td>\n",
       "      <td>offpeak</td>\n",
       "    </tr>\n",
       "    <tr>\n",
       "      <th>2</th>\n",
       "      <td>2025-02-12</td>\n",
       "      <td>49.59</td>\n",
       "      <td>1.21</td>\n",
       "      <td>peak</td>\n",
       "    </tr>\n",
       "    <tr>\n",
       "      <th>3</th>\n",
       "      <td>2025-02-12</td>\n",
       "      <td>22.47</td>\n",
       "      <td>2.67</td>\n",
       "      <td>all_day</td>\n",
       "    </tr>\n",
       "    <tr>\n",
       "      <th>4</th>\n",
       "      <td>2025-02-12</td>\n",
       "      <td>41.10</td>\n",
       "      <td>1.46</td>\n",
       "      <td>offpeak</td>\n",
       "    </tr>\n",
       "    <tr>\n",
       "      <th>5</th>\n",
       "      <td>2025-02-12</td>\n",
       "      <td>49.59</td>\n",
       "      <td>1.21</td>\n",
       "      <td>peak</td>\n",
       "    </tr>\n",
       "  </tbody>\n",
       "</table>\n",
       "</div>"
      ],
      "text/plain": [
       "        Date  headway_in_minutes  Trips per Hour   Period\n",
       "0 2025-02-12               23.26            2.58  all_day\n",
       "1 2025-02-12               43.48            1.38  offpeak\n",
       "2 2025-02-12               49.59            1.21     peak\n",
       "3 2025-02-12               22.47            2.67  all_day\n",
       "4 2025-02-12               41.10            1.46  offpeak\n",
       "5 2025-02-12               49.59            1.21     peak"
      ]
     },
     "execution_count": 13,
     "metadata": {},
     "output_type": "execute_result"
    }
   ],
   "source": [
    "fashion_valley[[\"Date\", \"headway_in_minutes\", \"Trips per Hour\", \"Period\"]]"
   ]
  },
  {
   "cell_type": "markdown",
   "id": "99542cd4-ff5a-4f6e-b914-cf873b1720fc",
   "metadata": {},
   "source": [
    "## Check other routes & operators"
   ]
  },
  {
   "cell_type": "code",
   "execution_count": 14,
   "id": "c72db9a1-d53a-4cfb-b58c-546c400cb2c6",
   "metadata": {
    "tags": []
   },
   "outputs": [],
   "source": [
    "all_ops = pd.read_parquet(\n",
    "    schd_vp_url,\n",
    "    filters=[\n",
    "        [\n",
    "            (\"sched_rt_category\", \"in\", [\"schedule_and_vp\"]),\n",
    "        ]\n",
    "    ],\n",
    ")"
   ]
  },
  {
   "cell_type": "code",
   "execution_count": 15,
   "id": "3985b2b3-02c8-46b0-ae51-dd22e5d98376",
   "metadata": {
    "tags": []
   },
   "outputs": [],
   "source": [
    "all_ops[\"headway_in_minutes\"] = 60 / all_ops.frequency"
   ]
  },
  {
   "cell_type": "code",
   "execution_count": 16,
   "id": "7e9c3f40-8c1b-4a82-8162-7cb6fa24f295",
   "metadata": {
    "tags": []
   },
   "outputs": [],
   "source": [
    "all_ops = _report_utils.replace_column_names(all_ops)"
   ]
  },
  {
   "cell_type": "code",
   "execution_count": 17,
   "id": "7b571c55-e0cb-41b0-9808-82344c44d501",
   "metadata": {
    "tags": []
   },
   "outputs": [],
   "source": [
    "all_ops = all_ops.loc[(all_ops[\"Date\"] == \"2025-02-12T00:00:00.000000000\")].reset_index(\n",
    "    drop=True\n",
    ")"
   ]
  },
  {
   "cell_type": "code",
   "execution_count": 41,
   "id": "81fc7dc6-3dc7-4467-8d2e-db8f5d85fcb9",
   "metadata": {
    "tags": []
   },
   "outputs": [],
   "source": [
    "all_ops2 = all_ops[\n",
    "    [\"Organization\", \"Direction\", \"Period\", \"headway_in_minutes\", \"Trips per Hour\", \"Route\", \"Route ID\"]\n",
    "].drop_duplicates()"
   ]
  },
  {
   "cell_type": "markdown",
   "id": "8957c5bb-c805-423a-9b90-9ac9571ae9ce",
   "metadata": {},
   "source": [
    "## `All_day` trips per hour is created by adding together peak and offpeak, but this makes it look like there are more trips happening than in reality."
   ]
  },
  {
   "cell_type": "code",
   "execution_count": 42,
   "id": "33f78aab-8ecd-4cdd-81d5-a8cf52a7d4d1",
   "metadata": {
    "tags": []
   },
   "outputs": [
    {
     "data": {
      "text/html": [
       "<div>\n",
       "<style scoped>\n",
       "    .dataframe tbody tr th:only-of-type {\n",
       "        vertical-align: middle;\n",
       "    }\n",
       "\n",
       "    .dataframe tbody tr th {\n",
       "        vertical-align: top;\n",
       "    }\n",
       "\n",
       "    .dataframe thead th {\n",
       "        text-align: right;\n",
       "    }\n",
       "</style>\n",
       "<table border=\"1\" class=\"dataframe\">\n",
       "  <thead>\n",
       "    <tr style=\"text-align: right;\">\n",
       "      <th></th>\n",
       "      <th>Organization</th>\n",
       "      <th>Direction</th>\n",
       "      <th>Period</th>\n",
       "      <th>headway_in_minutes</th>\n",
       "      <th>Trips per Hour</th>\n",
       "      <th>Route</th>\n",
       "      <th>Route ID</th>\n",
       "    </tr>\n",
       "  </thead>\n",
       "  <tbody>\n",
       "    <tr>\n",
       "      <th>9156</th>\n",
       "      <td>Alameda-Contra Costa Transit District</td>\n",
       "      <td>Eastbound</td>\n",
       "      <td>all_day</td>\n",
       "      <td>22.90</td>\n",
       "      <td>2.62</td>\n",
       "      <td>10 E. 14th St. - Mission</td>\n",
       "      <td>10</td>\n",
       "    </tr>\n",
       "    <tr>\n",
       "      <th>9157</th>\n",
       "      <td>Alameda-Contra Costa Transit District</td>\n",
       "      <td>Eastbound</td>\n",
       "      <td>offpeak</td>\n",
       "      <td>40.00</td>\n",
       "      <td>1.50</td>\n",
       "      <td>10 E. 14th St. - Mission</td>\n",
       "      <td>10</td>\n",
       "    </tr>\n",
       "    <tr>\n",
       "      <th>9158</th>\n",
       "      <td>Alameda-Contra Costa Transit District</td>\n",
       "      <td>Eastbound</td>\n",
       "      <td>peak</td>\n",
       "      <td>53.57</td>\n",
       "      <td>1.12</td>\n",
       "      <td>10 E. 14th St. - Mission</td>\n",
       "      <td>10</td>\n",
       "    </tr>\n",
       "    <tr>\n",
       "      <th>9159</th>\n",
       "      <td>Alameda-Contra Costa Transit District</td>\n",
       "      <td>Westbound</td>\n",
       "      <td>all_day</td>\n",
       "      <td>21.82</td>\n",
       "      <td>2.75</td>\n",
       "      <td>10 E. 14th St. - Mission</td>\n",
       "      <td>10</td>\n",
       "    </tr>\n",
       "    <tr>\n",
       "      <th>9160</th>\n",
       "      <td>Alameda-Contra Costa Transit District</td>\n",
       "      <td>Westbound</td>\n",
       "      <td>offpeak</td>\n",
       "      <td>37.04</td>\n",
       "      <td>1.62</td>\n",
       "      <td>10 E. 14th St. - Mission</td>\n",
       "      <td>10</td>\n",
       "    </tr>\n",
       "    <tr>\n",
       "      <th>9161</th>\n",
       "      <td>Alameda-Contra Costa Transit District</td>\n",
       "      <td>Westbound</td>\n",
       "      <td>peak</td>\n",
       "      <td>53.57</td>\n",
       "      <td>1.12</td>\n",
       "      <td>10 E. 14th St. - Mission</td>\n",
       "      <td>10</td>\n",
       "    </tr>\n",
       "  </tbody>\n",
       "</table>\n",
       "</div>"
      ],
      "text/plain": [
       "                               Organization  Direction   Period  \\\n",
       "9156  Alameda-Contra Costa Transit District  Eastbound  all_day   \n",
       "9157  Alameda-Contra Costa Transit District  Eastbound  offpeak   \n",
       "9158  Alameda-Contra Costa Transit District  Eastbound     peak   \n",
       "9159  Alameda-Contra Costa Transit District  Westbound  all_day   \n",
       "9160  Alameda-Contra Costa Transit District  Westbound  offpeak   \n",
       "9161  Alameda-Contra Costa Transit District  Westbound     peak   \n",
       "\n",
       "      headway_in_minutes  Trips per Hour                     Route Route ID  \n",
       "9156               22.90            2.62  10 E. 14th St. - Mission       10  \n",
       "9157               40.00            1.50  10 E. 14th St. - Mission       10  \n",
       "9158               53.57            1.12  10 E. 14th St. - Mission       10  \n",
       "9159               21.82            2.75  10 E. 14th St. - Mission       10  \n",
       "9160               37.04            1.62  10 E. 14th St. - Mission       10  \n",
       "9161               53.57            1.12  10 E. 14th St. - Mission       10  "
      ]
     },
     "execution_count": 42,
     "metadata": {},
     "output_type": "execute_result"
    }
   ],
   "source": [
    "all_ops2.loc[all_ops2.Route == \"10 E. 14th St. - Mission\"].drop_duplicates()"
   ]
  },
  {
   "cell_type": "code",
   "execution_count": 24,
   "id": "d5a07b1c-914f-4f16-b5a6-a3cd33ccbef9",
   "metadata": {
    "tags": []
   },
   "outputs": [
    {
     "data": {
      "text/html": [
       "<div>\n",
       "<style scoped>\n",
       "    .dataframe tbody tr th:only-of-type {\n",
       "        vertical-align: middle;\n",
       "    }\n",
       "\n",
       "    .dataframe tbody tr th {\n",
       "        vertical-align: top;\n",
       "    }\n",
       "\n",
       "    .dataframe thead th {\n",
       "        text-align: right;\n",
       "    }\n",
       "</style>\n",
       "<table border=\"1\" class=\"dataframe\">\n",
       "  <thead>\n",
       "    <tr style=\"text-align: right;\">\n",
       "      <th></th>\n",
       "      <th>Organization</th>\n",
       "      <th>Direction</th>\n",
       "      <th>Period</th>\n",
       "      <th>headway_in_minutes</th>\n",
       "      <th>Trips per Hour</th>\n",
       "      <th>Route</th>\n",
       "    </tr>\n",
       "  </thead>\n",
       "  <tbody>\n",
       "    <tr>\n",
       "      <th>12352</th>\n",
       "      <td>City of Solvang</td>\n",
       "      <td>Eastbound</td>\n",
       "      <td>all_day</td>\n",
       "      <td>181.82</td>\n",
       "      <td>0.33</td>\n",
       "      <td>Los Olivos Loop</td>\n",
       "    </tr>\n",
       "    <tr>\n",
       "      <th>12353</th>\n",
       "      <td>City of Solvang</td>\n",
       "      <td>Eastbound</td>\n",
       "      <td>offpeak</td>\n",
       "      <td>500.00</td>\n",
       "      <td>0.12</td>\n",
       "      <td>Los Olivos Loop</td>\n",
       "    </tr>\n",
       "    <tr>\n",
       "      <th>12354</th>\n",
       "      <td>City of Solvang</td>\n",
       "      <td>Eastbound</td>\n",
       "      <td>peak</td>\n",
       "      <td>285.71</td>\n",
       "      <td>0.21</td>\n",
       "      <td>Los Olivos Loop</td>\n",
       "    </tr>\n",
       "  </tbody>\n",
       "</table>\n",
       "</div>"
      ],
      "text/plain": [
       "          Organization  Direction   Period  headway_in_minutes  \\\n",
       "12352  City of Solvang  Eastbound  all_day              181.82   \n",
       "12353  City of Solvang  Eastbound  offpeak              500.00   \n",
       "12354  City of Solvang  Eastbound     peak              285.71   \n",
       "\n",
       "       Trips per Hour             Route  \n",
       "12352            0.33   Los Olivos Loop  \n",
       "12353            0.12   Los Olivos Loop  \n",
       "12354            0.21   Los Olivos Loop  "
      ]
     },
     "execution_count": 24,
     "metadata": {},
     "output_type": "execute_result"
    }
   ],
   "source": [
    "all_ops2.loc[all_ops2.Route == \" Los Olivos Loop\"].drop_duplicates()"
   ]
  },
  {
   "cell_type": "markdown",
   "id": "ca7d8db2-ed95-43ac-95f0-9ed94b2d40f1",
   "metadata": {},
   "source": [
    "## Recalculate this metric?? `gtfs_funnel/schedule_stats_by_route_direction`"
   ]
  },
  {
   "cell_type": "code",
   "execution_count": 30,
   "id": "b6249f70-44e7-4d74-aab5-0fcfc61dc94e",
   "metadata": {
    "tags": []
   },
   "outputs": [],
   "source": [
    "import sys\n",
    "\n",
    "sys.path.append(\"../gtfs_funnel/\")\n",
    "import schedule_stats_by_route_direction"
   ]
  },
  {
   "cell_type": "code",
   "execution_count": 28,
   "id": "2a2d07f3-6062-4f2a-b101-87808b472f91",
   "metadata": {
    "tags": []
   },
   "outputs": [],
   "source": [
    "feb_sched = pd.read_parquet(\"gs://calitp-analytics-data/data-analyses/rt_vs_schedule/schedule_route_dir/schedule_route_direction_metrics_2025-02-12.parquet\")"
   ]
  },
  {
   "cell_type": "code",
   "execution_count": 29,
   "id": "a39fb135-6d69-4774-8e2b-0a80b00331d3",
   "metadata": {
    "tags": []
   },
   "outputs": [
    {
     "data": {
      "text/html": [
       "<div>\n",
       "<style scoped>\n",
       "    .dataframe tbody tr th:only-of-type {\n",
       "        vertical-align: middle;\n",
       "    }\n",
       "\n",
       "    .dataframe tbody tr th {\n",
       "        vertical-align: top;\n",
       "    }\n",
       "\n",
       "    .dataframe thead th {\n",
       "        text-align: right;\n",
       "    }\n",
       "</style>\n",
       "<table border=\"1\" class=\"dataframe\">\n",
       "  <thead>\n",
       "    <tr style=\"text-align: right;\">\n",
       "      <th></th>\n",
       "      <th>geometry</th>\n",
       "      <th>schedule_gtfs_dataset_key</th>\n",
       "      <th>route_id</th>\n",
       "      <th>direction_id</th>\n",
       "      <th>common_shape_id</th>\n",
       "      <th>route_name</th>\n",
       "      <th>avg_scheduled_service_minutes</th>\n",
       "      <th>avg_stop_miles</th>\n",
       "      <th>n_trips</th>\n",
       "      <th>time_period</th>\n",
       "      <th>peak_offpeak</th>\n",
       "      <th>frequency</th>\n",
       "      <th>is_coverage</th>\n",
       "      <th>is_downtown_local</th>\n",
       "      <th>is_local</th>\n",
       "      <th>is_rapid</th>\n",
       "      <th>is_express</th>\n",
       "      <th>is_rail</th>\n",
       "      <th>route_primary_direction</th>\n",
       "    </tr>\n",
       "  </thead>\n",
       "  <tbody>\n",
       "    <tr>\n",
       "      <th>0</th>\n",
       "      <td>b'\\x01\\x02\\x00\\x00\\x00i\\x00\\x00\\x00\\xe8\\xd4\\x8dE\\xdb\\xd3\\xf5@\\x80\\x98\\xaf;\\xd1\\xac\\xe3\\xc0\\xdd\\x93\\xe8\\x99\\x1b\\xd4\\xf5@\\x80\\xa71\\x0fw\\xad\\xe3\\xc0E\\x16\\r\\x8aP\\xd4\\xf5@@\\x8a\\xc5\\xc8\\x07\\xae\\xe3\\xc0\\x0f\\xe5B\\x1c\\xb6\\xd4\\xf5@\\x80\\xc9\\x97\\x18\\x1b\\xaf\\xe3\\xc0\\'*f#\\x16\\xd5\\xf5@\\x00\\xefaP@\\xb0\\xe3\\xc0S\\xb7\\xd4*\\x82\\xd5\\xf5@\\x00\\xc7\\xe1u\\xec\\xb1\\xe3\\xc0rL?\\xd6\\x05\\xd6\\xf5@\\x00F\\x08\\xe1b\\xb4\\xe3\\xc0\\xac9\\x99@E\\xd6\\xf5@@X\\xdeyl\\xb6\\xe3\\xc0\\xc4\\x9c\\xbf\\x94y\\xd6\\xf5@\\x00\\'\\xb8\\xe2\\x99\\xb8\\xe3\\xc0\\x9e\\x97\\x06\\xbd\\xaf\\xd6\\xf5@\\x80~\\x15\\xc7\\x1c\\xbc\\xe3\\xc0mh*\\xef\\xe3\\xd6\\xf5@\\xc0\\xae\\x91I1\\xbe\\xe3\\xc0\\xc3&amp;F\\xbd\\x12\\xd7\\xf5@@\\xc0h\\xe7l\\xbf\\xe3\\xc0\\xd2\\xa5\\xdc%\\xb0\\xd7\\xf5@\\x80M^\\x1b\\x1f\\xc1\\xe3\\xc0\\xa9\\xd0\\xd3\\x01c\\xd8\\xf5@\\x00_.\\xc5\\t\\xc3\\xe3\\xc0\\x95\\xbd\\xe4\\x02\\xd4\\xd8\\xf5@@v\\xb1K9\\xc4\\xe3\\xc0\\xb6\\x14=V\\xe2\\xd8\\xf5@\\x80\\xed\\xcf\\xadc\\xc4\\xe3\\xc0.2m\\xdbe\\xd9\\xf5@\\xc0\\x9e\\xb8\\xde\\xa7\\xc3\\xe3\\xc0\\xa9?\\xc6z\\xd4\\xd9\\xf5@\\xc0 \\xa0\\xc1\\x1a\\xc3\\xe3\\xc0\\x89\\x96\\xf3[\\xe7\\xdb\\xf5@\\x80Q\\xc3#\\x96\\xc0\\xe3\\xc0\\x8e\\x07E8\\x06\\xdc\\xf5@\\x80j\\x9a\\x04y\\xc0\\xe3\\xc0\\xbe\\x86h\\xb0\\x1e\\xdd\\xf5@\\x00\\xfbl\\x13a\\xbf\\xe3\\xc0B\\xc2d]\\xc8\\xdd\\xf5@\\xc0\\x86\\xf0;\\xb6\\xbe\\xe3\\xc0\\x1d\\xb8\\x04\\xe5\\xab\\xde\\xf5@@C\\xdd\\xd2\\x14\\xbe\\xe3\\xc0d]\\xed\\xf6x\\xdf\\xf5@\\x00\\xf6\\x8c\\xae\\x85\\xbd\\xe3\\xc0d\\xd0\\xb0\\xe7o\\xe0\\xf5@@K*`\\xa7\\xbc\\xe3\\xc0\\xc1\\xac\\xcf\\xc0\\xd3\\xe1\\xf5@\\x00U\\x05S\\n\\xbc\\xe3\\xc0\\x15\\xeay]\\x05\\xe5\\xf5@\\x804T\\x84\\xf1\\xba\\xe3\\xc0Qkp\\x85~\\xe5\\xf5@@\\xacj\\xaf\\xe0\\xba\\xe3\\xc0\\x88y0F@\\xe8\\xf5@\\x80\\xfa\\xd2\\x07u\\xba\\xe3\\xc0\\xc5\\x9a\\xe5^\\xaa\\xe9\\xf5@\\xc0\\x14\\xc3\\xacI\\xba\\xe3\\xc0\\xf6\\x031\\x06:\\xea\\xf5@@\\xa4W\\xaf-\\xba\\xe3\\xc0\\x86S]\\xbf\\x98\\xeb\\xf5@\\x80`\\x8b\\xc8\\xf0\\xb9\\xe3\\xc0\\x87&lt;\\xa23\\x95\\xed\\xf5@@\\xf9)\\x07\\x94\\xb9\\xe3\\xc0\\xbax\\x9dl\\xa6\\xf2\\xf5@\\x80\\xcf\\xfcV\\xad\\xb8\\xe3\\xc0\\xc3er!8\\xf5\\xf5@@\\xdf\\xccV-\\xb8\\xe3\\xc0\\x1a\\xc9\\x03\\x00\\n\\xf6\\xf5@@\\xe87\\xcd\\x08\\xb8\\xe3\\xc0\\xdbL\\x8b\\x92\\x97\\xf8\\xf5@\\x80+E\\xab\\x9a\\xb7\\xe3\\xc0\\x1d\\x87-\\xe8\\xc6\\xfa\\xf5@@\\x04\\xb5\\xb1U\\xb7\\xe3\\xc0\\x99?\\xd9,?\\xfc\\xf5@\\x00\\xe4\\xbb&lt;8\\xb7\\xe3\\xc0\\xb3U\\xbf\\xa2\\xce\\xfe\\xf5@@\\\\\\x81\\xfc\"\\xb7\\xe3\\xc0\\x9b\\xe6Q\\xb6\\xd7\\xff\\xf5@@\\x06\\xbc\\xf0\\'\\xb7\\xe3\\xc0\\xf1\\xf8l\\xfa\\xdf\\x01\\xf6@\\xc0\\x9dI\\x80.\\xb7\\xe3\\xc0\\xf24fS\\x13\\x03\\xf6@\\xc0\\xd8c\\xfb.\\xb7\\xe3\\xc0\\x89\\x1cM\\xc0K\\x03\\xf6@\\x80.\\x01\\xe14\\xb7\\xe3\\xc0`&gt;\\xf2A[\\x03\\xf6@\\x80PN\\x8b4\\xb7\\xe3\\xc0o)\\x1af\\xf6\\x05\\xf6@\\x80\\xa0\\'\\xbbi\\xb7\\xe3\\xc07%\\xc3\\xce8\\x08\\xf6@\\x00U\\t\\x0f\\xaf\\xb7\\xe3\\xc0\\x12\\x02p\\x1a\\xe2\\x08\\xf6@\\x80\\xbe\\x9bM\\xc4\\xb7\\xe3\\xc0\\x8c\\xe6\\xa6\\x82\\xa6\\x0b\\xf6@\\xc0\\x94\\xf5\\xbb?\\xb8\\xe3\\xc0\\xb8\\xbdr7r\\x0e\\xf6@\\x00ug?\\xe9\\xb8\\xe3\\xc0\\xd3\\xd6\\x1b-\\xca\\x10\\xf6@\\x00\\xdeT\\xccx\\xb9\\xe3\\xc0\\xed^\\x19p\\xe4\\x12\\xf6@@\\x91&amp;(F\\xba\\xe3\\xc0\\x81\\x96\\xe63\\x1b\\x14\\xf6@\\x80\\x89\\xae\\xd3\\xb4\\xba\\xe3\\xc0\\xc5c\\x14\\x99\\xce\\x14\\xf6@\\xc0\\xac\\x00\\x89\\xf4\\xba\\xe3\\xc0\\xc7\\x08\\xcdW\\xe9\\x15\\xf6@\\xc0\\xe6\\xd9\\xd3\\x83\\xbb\\xe3\\xc0\\xef#\\xb7\\xe1\\xe8\\x19\\xf6@\\xc0\\xaf\\xc6d\\x8a\\xbd\\xe3\\xc0\\x08\\xb9\\xaaC\\xb4\\x1c\\xf6@\\xc0w\\xaf\\x18\\xfb\\xbe\\xe3\\xc0\\xd2\\x04}\\xf1\\x8e\\x1c\\xf6@\\xc0\\x15Ox\\x1e\\xc0\\xe3\\xc0\\x12q*\\xda\\x0e)\\xf6@\\xc0\\xbcz\\x12\\xa0\\xc5\\xe3\\xc0m\\xcf\\xbcA\\x9c(\\xf6@\\xc0\\xb8\\n\\\\&lt;\\xc9\\xe3\\xc01d\\x0fF\\xc3\\'\\xf6@\\x007xM\\xd0\\xcb\\xe3\\xc0K1\\x93\\xba2&amp;\\xf6@\\x80E l\\xb0\\xcd\\xe3\\xc0 \\xf4su\\xa3&amp;\\xf6@\\x005\\xeb[(\\xdf\\xe3\\xc09qo\\x89\\xb0&amp;\\xf6@\\x00\\xbd0\\x13(\\xdf\\xe3\\xc0\\xb8\\xe7_lI2\\xf6@\\x80\\xc3\\x17\\xcd\\xde\\xe7\\xe3\\xc0c\\x1a2%\\x1b7\\xf6@@\\xf4\\xbd\"\\xcf\\xea\\xe3\\xc0j~@\\x03\\n;\\xf6@\\x00`\\xcf\\xff\\xe3\\xec\\xe3\\xc0W\\xe7E\\xc4\\xb1?\\xf6@\\x80:\\x11y\\xc1\\xec\\xe3\\xc0\\xd5\\x94Oi\\xaa?\\xf6@@\\xeb\\x08T\\xb4\\xec\\xe3\\xc0{\\xee\\xce\\xc7\\xcc@\\xf6@\\x80\\xe0\\x8c\\xe0\\xa6\\xec\\xe3\\xc0\\xe0@\\x9e\\x91.B\\xf6@@\\xfe\\xa2{\\x94\\xec\\xe3\\xc0\\xa5)X\\xf0\\x9dB\\xf6@\\x00\\x88F\\r\\x92\\xec\\xe3\\xc0\\xbc\\xfe^\\xda\\x82D\\xf6@\\xc0+uY\\x80\\xec\\xe3\\xc0\\x88T+gkE\\xf6@\\xc0\\x9b&amp;\\x99p\\xec\\xe3\\xc0-\\x1c_@\\xc7H\\xf6@\\xc0\\x84\\x86\\x06L\\xec\\xe3\\xc0\\xa2\\x11t\\xba\\x82I\\xf6@@\\x18\\xe5^D\\xec\\xe3\\xc0\\xd7t@b\\x82I\\xf6@\\x80\\xd3\\xc1\\x90\\x13\\xf3\\xe3\\xc0]\\x1eT\\xa7\\x83I\\xf6@\\xc0\\x84\\x89(\\x06\\xf9\\xe3\\xc0\\x15\\xf50J~I\\xf6@\\xc0-\\xe0\\xc9\\xf0\\xfe\\xe3\\xc0N\\xc5&gt;C\\x82I\\xf6@@\\xc1\\x00x\\xe0\\xfe\\xe3\\xc0\\xe5\\xf8\\x99\\x9b\\x82I\\xf6@\\xc07v#Y\\x01\\xe4\\xc0Tw\\x8b+\\x83I\\xf6@\\x00t\\xb1\"\\xc4\\x03\\xe4\\xc0\\xae\\x83\\xf4\\x19\\x83I\\xf6@\\x8061\\x9b\\xb9\\x04\\xe4\\xc0\\xe6n!\\xbb\\x83I\\xf6@\\x80\\xde=\\xf92\\x08\\xe4\\xc0@\\xd3kC\\x84I\\xf6@\\x80\\x173\\x8e\\x9a\\x0b\\xe4\\xc0cH\\xa0\\x85\\x83I\\xf6@\\x80-]\\x11\\x1b\\x0f\\xe4\\xc0\\x82\\xaa\\xd2\\x12\\x83I\\xf6@\\x80\\x83y\\x18\\xcd\\x10\\xe4\\xc0\\x8a[\\x96\\x82\\x83I\\xf6@@&gt;\\x06\\r\\x1f\\x12\\xe4\\xc0(\\xdc$8\\x83I\\xf6@\\xc0\\xd6\\xbe\\xda\\x83\\x15\\xe4\\xc0{\\xdc\\xb91\\x81I\\xf6@@P\\xb2V}\\x15\\xe4\\xc0\\x8a\\xcd\\x0eH\\x84I\\xf6@\\x00b\\xbaq\\xd7\\'\\xe4\\xc0D\\xd6\\xee\\xf9\\x83I\\xf6@@\\xd0e\\xe9\\xa9,\\xe4\\xc052\\xb3d\\x84I\\xf6@\\xc0]QO\\xf8-\\xe4\\xc0\\xc8P\\rr\\x18J\\xf6@\\x00\\xce\\xab\\xa1\\xf8-\\xe4\\xc0^\\xe5\\xa2\\x86\\xabM\\xf6@\\x80\\xffni\\xf6-\\xe4\\xc0\\xf5\\xd5\\x1d#\\xf5W\\xf6@\\x00}1\\xe0\\xc3-\\xe4\\xc0\\xb7\\xe5Yc\\x92^\\xf6@@\\x1d\\xad\\xde\\xa5-\\xe4\\xc0\\rx\\xef9Ic\\xf6@\\x80\\xe2\\x9a\\xf1\\x8e-\\xe4\\xc0\\xb5\\xa3FHdc\\xf6@\\x80+\\x08L\\xc0.\\xe4\\xc02\\x1b+\\xa6dc\\xf6@\\xc0\\xf0\\x16\\x06\\x040\\xe4\\xc0\\xc9\\x9d\\x1a\\xc0\\x85c\\xf6@\\xc0\\xa1\\x1b\\x18\\x802\\xe4\\xc0\\xc3\\x8f\\xc0\\xaa9d\\xf6@\\x00\\x89}\\xa8\\x1c6\\xe4\\xc0\\xe2\\x02\\xcc\\x8d\\xfae\\xf6@@\\x84\\xecdz9\\xe4\\xc0w\\x84C)pg\\xf6@@\\xd0ITr:\\xe4\\xc0\\xc5\\x0f\\xa0\\t\\xfag\\xf6@\\x80&gt;\\x14%\\xc0:\\xe4\\xc0'</td>\n",
       "      <td>cb8a465cffec67c8fd90f31b389ed4c3</td>\n",
       "      <td>76755</td>\n",
       "      <td>0.00</td>\n",
       "      <td>p_1435956</td>\n",
       "      <td>Purple Line</td>\n",
       "      <td>10.00</td>\n",
       "      <td>2.30</td>\n",
       "      <td>21</td>\n",
       "      <td>all_day</td>\n",
       "      <td>None</td>\n",
       "      <td>0.88</td>\n",
       "      <td>1.00</td>\n",
       "      <td>1.00</td>\n",
       "      <td>0.00</td>\n",
       "      <td>0.00</td>\n",
       "      <td>0.00</td>\n",
       "      <td>0.00</td>\n",
       "      <td>Eastbound</td>\n",
       "    </tr>\n",
       "  </tbody>\n",
       "</table>\n",
       "</div>"
      ],
      "text/plain": [
       "                                                                                                                                                                                                                                                                                                                                                                                                                                                                                                                                                                                                                                                                                                                                                                                                                                                                                                                                                                                                                                                                                                                                                                                                                                                                                                                                                                                                                                                                                                                                                                                                                                                                                                                                                                                                                                                                                                                                                                                                                                                                                                                                                                                                                                                                                                                                                                                                                                                                                                                                                                                                                                                                                                                                                                                                                                                                                                                                                                                                                                                                                                                                                                                                                                                                                                                                                                                                                                                                                                                                                                                                                                                                                                                                                                                                                                                                                                                                                                                                                                                                                                                                                                                                                                                                                                                                                                                                                                                                                                                                                                                                                                                                                                                                                                                                                                                                                                                                                                                                                                                                                                                                                                                                                                                                                                   geometry  \\\n",
       "0  b'\\x01\\x02\\x00\\x00\\x00i\\x00\\x00\\x00\\xe8\\xd4\\x8dE\\xdb\\xd3\\xf5@\\x80\\x98\\xaf;\\xd1\\xac\\xe3\\xc0\\xdd\\x93\\xe8\\x99\\x1b\\xd4\\xf5@\\x80\\xa71\\x0fw\\xad\\xe3\\xc0E\\x16\\r\\x8aP\\xd4\\xf5@@\\x8a\\xc5\\xc8\\x07\\xae\\xe3\\xc0\\x0f\\xe5B\\x1c\\xb6\\xd4\\xf5@\\x80\\xc9\\x97\\x18\\x1b\\xaf\\xe3\\xc0\\'*f#\\x16\\xd5\\xf5@\\x00\\xefaP@\\xb0\\xe3\\xc0S\\xb7\\xd4*\\x82\\xd5\\xf5@\\x00\\xc7\\xe1u\\xec\\xb1\\xe3\\xc0rL?\\xd6\\x05\\xd6\\xf5@\\x00F\\x08\\xe1b\\xb4\\xe3\\xc0\\xac9\\x99@E\\xd6\\xf5@@X\\xdeyl\\xb6\\xe3\\xc0\\xc4\\x9c\\xbf\\x94y\\xd6\\xf5@\\x00\\'\\xb8\\xe2\\x99\\xb8\\xe3\\xc0\\x9e\\x97\\x06\\xbd\\xaf\\xd6\\xf5@\\x80~\\x15\\xc7\\x1c\\xbc\\xe3\\xc0mh*\\xef\\xe3\\xd6\\xf5@\\xc0\\xae\\x91I1\\xbe\\xe3\\xc0\\xc3&F\\xbd\\x12\\xd7\\xf5@@\\xc0h\\xe7l\\xbf\\xe3\\xc0\\xd2\\xa5\\xdc%\\xb0\\xd7\\xf5@\\x80M^\\x1b\\x1f\\xc1\\xe3\\xc0\\xa9\\xd0\\xd3\\x01c\\xd8\\xf5@\\x00_.\\xc5\\t\\xc3\\xe3\\xc0\\x95\\xbd\\xe4\\x02\\xd4\\xd8\\xf5@@v\\xb1K9\\xc4\\xe3\\xc0\\xb6\\x14=V\\xe2\\xd8\\xf5@\\x80\\xed\\xcf\\xadc\\xc4\\xe3\\xc0.2m\\xdbe\\xd9\\xf5@\\xc0\\x9e\\xb8\\xde\\xa7\\xc3\\xe3\\xc0\\xa9?\\xc6z\\xd4\\xd9\\xf5@\\xc0 \\xa0\\xc1\\x1a\\xc3\\xe3\\xc0\\x89\\x96\\xf3[\\xe7\\xdb\\xf5@\\x80Q\\xc3#\\x96\\xc0\\xe3\\xc0\\x8e\\x07E8\\x06\\xdc\\xf5@\\x80j\\x9a\\x04y\\xc0\\xe3\\xc0\\xbe\\x86h\\xb0\\x1e\\xdd\\xf5@\\x00\\xfbl\\x13a\\xbf\\xe3\\xc0B\\xc2d]\\xc8\\xdd\\xf5@\\xc0\\x86\\xf0;\\xb6\\xbe\\xe3\\xc0\\x1d\\xb8\\x04\\xe5\\xab\\xde\\xf5@@C\\xdd\\xd2\\x14\\xbe\\xe3\\xc0d]\\xed\\xf6x\\xdf\\xf5@\\x00\\xf6\\x8c\\xae\\x85\\xbd\\xe3\\xc0d\\xd0\\xb0\\xe7o\\xe0\\xf5@@K*`\\xa7\\xbc\\xe3\\xc0\\xc1\\xac\\xcf\\xc0\\xd3\\xe1\\xf5@\\x00U\\x05S\\n\\xbc\\xe3\\xc0\\x15\\xeay]\\x05\\xe5\\xf5@\\x804T\\x84\\xf1\\xba\\xe3\\xc0Qkp\\x85~\\xe5\\xf5@@\\xacj\\xaf\\xe0\\xba\\xe3\\xc0\\x88y0F@\\xe8\\xf5@\\x80\\xfa\\xd2\\x07u\\xba\\xe3\\xc0\\xc5\\x9a\\xe5^\\xaa\\xe9\\xf5@\\xc0\\x14\\xc3\\xacI\\xba\\xe3\\xc0\\xf6\\x031\\x06:\\xea\\xf5@@\\xa4W\\xaf-\\xba\\xe3\\xc0\\x86S]\\xbf\\x98\\xeb\\xf5@\\x80`\\x8b\\xc8\\xf0\\xb9\\xe3\\xc0\\x87<\\xa23\\x95\\xed\\xf5@@\\xf9)\\x07\\x94\\xb9\\xe3\\xc0\\xbax\\x9dl\\xa6\\xf2\\xf5@\\x80\\xcf\\xfcV\\xad\\xb8\\xe3\\xc0\\xc3er!8\\xf5\\xf5@@\\xdf\\xccV-\\xb8\\xe3\\xc0\\x1a\\xc9\\x03\\x00\\n\\xf6\\xf5@@\\xe87\\xcd\\x08\\xb8\\xe3\\xc0\\xdbL\\x8b\\x92\\x97\\xf8\\xf5@\\x80+E\\xab\\x9a\\xb7\\xe3\\xc0\\x1d\\x87-\\xe8\\xc6\\xfa\\xf5@@\\x04\\xb5\\xb1U\\xb7\\xe3\\xc0\\x99?\\xd9,?\\xfc\\xf5@\\x00\\xe4\\xbb<8\\xb7\\xe3\\xc0\\xb3U\\xbf\\xa2\\xce\\xfe\\xf5@@\\\\\\x81\\xfc\"\\xb7\\xe3\\xc0\\x9b\\xe6Q\\xb6\\xd7\\xff\\xf5@@\\x06\\xbc\\xf0\\'\\xb7\\xe3\\xc0\\xf1\\xf8l\\xfa\\xdf\\x01\\xf6@\\xc0\\x9dI\\x80.\\xb7\\xe3\\xc0\\xf24fS\\x13\\x03\\xf6@\\xc0\\xd8c\\xfb.\\xb7\\xe3\\xc0\\x89\\x1cM\\xc0K\\x03\\xf6@\\x80.\\x01\\xe14\\xb7\\xe3\\xc0`>\\xf2A[\\x03\\xf6@\\x80PN\\x8b4\\xb7\\xe3\\xc0o)\\x1af\\xf6\\x05\\xf6@\\x80\\xa0\\'\\xbbi\\xb7\\xe3\\xc07%\\xc3\\xce8\\x08\\xf6@\\x00U\\t\\x0f\\xaf\\xb7\\xe3\\xc0\\x12\\x02p\\x1a\\xe2\\x08\\xf6@\\x80\\xbe\\x9bM\\xc4\\xb7\\xe3\\xc0\\x8c\\xe6\\xa6\\x82\\xa6\\x0b\\xf6@\\xc0\\x94\\xf5\\xbb?\\xb8\\xe3\\xc0\\xb8\\xbdr7r\\x0e\\xf6@\\x00ug?\\xe9\\xb8\\xe3\\xc0\\xd3\\xd6\\x1b-\\xca\\x10\\xf6@\\x00\\xdeT\\xccx\\xb9\\xe3\\xc0\\xed^\\x19p\\xe4\\x12\\xf6@@\\x91&(F\\xba\\xe3\\xc0\\x81\\x96\\xe63\\x1b\\x14\\xf6@\\x80\\x89\\xae\\xd3\\xb4\\xba\\xe3\\xc0\\xc5c\\x14\\x99\\xce\\x14\\xf6@\\xc0\\xac\\x00\\x89\\xf4\\xba\\xe3\\xc0\\xc7\\x08\\xcdW\\xe9\\x15\\xf6@\\xc0\\xe6\\xd9\\xd3\\x83\\xbb\\xe3\\xc0\\xef#\\xb7\\xe1\\xe8\\x19\\xf6@\\xc0\\xaf\\xc6d\\x8a\\xbd\\xe3\\xc0\\x08\\xb9\\xaaC\\xb4\\x1c\\xf6@\\xc0w\\xaf\\x18\\xfb\\xbe\\xe3\\xc0\\xd2\\x04}\\xf1\\x8e\\x1c\\xf6@\\xc0\\x15Ox\\x1e\\xc0\\xe3\\xc0\\x12q*\\xda\\x0e)\\xf6@\\xc0\\xbcz\\x12\\xa0\\xc5\\xe3\\xc0m\\xcf\\xbcA\\x9c(\\xf6@\\xc0\\xb8\\n\\\\<\\xc9\\xe3\\xc01d\\x0fF\\xc3\\'\\xf6@\\x007xM\\xd0\\xcb\\xe3\\xc0K1\\x93\\xba2&\\xf6@\\x80E l\\xb0\\xcd\\xe3\\xc0 \\xf4su\\xa3&\\xf6@\\x005\\xeb[(\\xdf\\xe3\\xc09qo\\x89\\xb0&\\xf6@\\x00\\xbd0\\x13(\\xdf\\xe3\\xc0\\xb8\\xe7_lI2\\xf6@\\x80\\xc3\\x17\\xcd\\xde\\xe7\\xe3\\xc0c\\x1a2%\\x1b7\\xf6@@\\xf4\\xbd\"\\xcf\\xea\\xe3\\xc0j~@\\x03\\n;\\xf6@\\x00`\\xcf\\xff\\xe3\\xec\\xe3\\xc0W\\xe7E\\xc4\\xb1?\\xf6@\\x80:\\x11y\\xc1\\xec\\xe3\\xc0\\xd5\\x94Oi\\xaa?\\xf6@@\\xeb\\x08T\\xb4\\xec\\xe3\\xc0{\\xee\\xce\\xc7\\xcc@\\xf6@\\x80\\xe0\\x8c\\xe0\\xa6\\xec\\xe3\\xc0\\xe0@\\x9e\\x91.B\\xf6@@\\xfe\\xa2{\\x94\\xec\\xe3\\xc0\\xa5)X\\xf0\\x9dB\\xf6@\\x00\\x88F\\r\\x92\\xec\\xe3\\xc0\\xbc\\xfe^\\xda\\x82D\\xf6@\\xc0+uY\\x80\\xec\\xe3\\xc0\\x88T+gkE\\xf6@\\xc0\\x9b&\\x99p\\xec\\xe3\\xc0-\\x1c_@\\xc7H\\xf6@\\xc0\\x84\\x86\\x06L\\xec\\xe3\\xc0\\xa2\\x11t\\xba\\x82I\\xf6@@\\x18\\xe5^D\\xec\\xe3\\xc0\\xd7t@b\\x82I\\xf6@\\x80\\xd3\\xc1\\x90\\x13\\xf3\\xe3\\xc0]\\x1eT\\xa7\\x83I\\xf6@\\xc0\\x84\\x89(\\x06\\xf9\\xe3\\xc0\\x15\\xf50J~I\\xf6@\\xc0-\\xe0\\xc9\\xf0\\xfe\\xe3\\xc0N\\xc5>C\\x82I\\xf6@@\\xc1\\x00x\\xe0\\xfe\\xe3\\xc0\\xe5\\xf8\\x99\\x9b\\x82I\\xf6@\\xc07v#Y\\x01\\xe4\\xc0Tw\\x8b+\\x83I\\xf6@\\x00t\\xb1\"\\xc4\\x03\\xe4\\xc0\\xae\\x83\\xf4\\x19\\x83I\\xf6@\\x8061\\x9b\\xb9\\x04\\xe4\\xc0\\xe6n!\\xbb\\x83I\\xf6@\\x80\\xde=\\xf92\\x08\\xe4\\xc0@\\xd3kC\\x84I\\xf6@\\x80\\x173\\x8e\\x9a\\x0b\\xe4\\xc0cH\\xa0\\x85\\x83I\\xf6@\\x80-]\\x11\\x1b\\x0f\\xe4\\xc0\\x82\\xaa\\xd2\\x12\\x83I\\xf6@\\x80\\x83y\\x18\\xcd\\x10\\xe4\\xc0\\x8a[\\x96\\x82\\x83I\\xf6@@>\\x06\\r\\x1f\\x12\\xe4\\xc0(\\xdc$8\\x83I\\xf6@\\xc0\\xd6\\xbe\\xda\\x83\\x15\\xe4\\xc0{\\xdc\\xb91\\x81I\\xf6@@P\\xb2V}\\x15\\xe4\\xc0\\x8a\\xcd\\x0eH\\x84I\\xf6@\\x00b\\xbaq\\xd7\\'\\xe4\\xc0D\\xd6\\xee\\xf9\\x83I\\xf6@@\\xd0e\\xe9\\xa9,\\xe4\\xc052\\xb3d\\x84I\\xf6@\\xc0]QO\\xf8-\\xe4\\xc0\\xc8P\\rr\\x18J\\xf6@\\x00\\xce\\xab\\xa1\\xf8-\\xe4\\xc0^\\xe5\\xa2\\x86\\xabM\\xf6@\\x80\\xffni\\xf6-\\xe4\\xc0\\xf5\\xd5\\x1d#\\xf5W\\xf6@\\x00}1\\xe0\\xc3-\\xe4\\xc0\\xb7\\xe5Yc\\x92^\\xf6@@\\x1d\\xad\\xde\\xa5-\\xe4\\xc0\\rx\\xef9Ic\\xf6@\\x80\\xe2\\x9a\\xf1\\x8e-\\xe4\\xc0\\xb5\\xa3FHdc\\xf6@\\x80+\\x08L\\xc0.\\xe4\\xc02\\x1b+\\xa6dc\\xf6@\\xc0\\xf0\\x16\\x06\\x040\\xe4\\xc0\\xc9\\x9d\\x1a\\xc0\\x85c\\xf6@\\xc0\\xa1\\x1b\\x18\\x802\\xe4\\xc0\\xc3\\x8f\\xc0\\xaa9d\\xf6@\\x00\\x89}\\xa8\\x1c6\\xe4\\xc0\\xe2\\x02\\xcc\\x8d\\xfae\\xf6@@\\x84\\xecdz9\\xe4\\xc0w\\x84C)pg\\xf6@@\\xd0ITr:\\xe4\\xc0\\xc5\\x0f\\xa0\\t\\xfag\\xf6@\\x80>\\x14%\\xc0:\\xe4\\xc0'   \n",
       "\n",
       "          schedule_gtfs_dataset_key route_id  direction_id common_shape_id  \\\n",
       "0  cb8a465cffec67c8fd90f31b389ed4c3    76755          0.00       p_1435956   \n",
       "\n",
       "    route_name  avg_scheduled_service_minutes  avg_stop_miles  n_trips  \\\n",
       "0  Purple Line                          10.00            2.30       21   \n",
       "\n",
       "  time_period peak_offpeak  frequency  is_coverage  is_downtown_local  \\\n",
       "0     all_day         None       0.88         1.00               1.00   \n",
       "\n",
       "   is_local  is_rapid  is_express  is_rail route_primary_direction  \n",
       "0      0.00      0.00        0.00     0.00               Eastbound  "
      ]
     },
     "execution_count": 29,
     "metadata": {},
     "output_type": "execute_result"
    }
   ],
   "source": [
    "feb_sched.head(1)"
   ]
  },
  {
   "cell_type": "code",
   "execution_count": 37,
   "id": "0c42d4a5-3bb3-43e4-a908-cc5984bef826",
   "metadata": {
    "tags": []
   },
   "outputs": [],
   "source": [
    "group_merge_cols = [\n",
    "            \"schedule_gtfs_dataset_key\", \n",
    "            \"route_id\", \n",
    "            \"direction_id\"\n",
    "        ]"
   ]
  },
  {
   "cell_type": "code",
   "execution_count": 36,
   "id": "778cee53-0fb9-4b3d-9f45-830bfe1feadf",
   "metadata": {
    "tags": []
   },
   "outputs": [],
   "source": [
    "trip_metrics = schedule_stats_by_route_direction.assemble_scheduled_trip_metrics(analysis_date, GTFS_DATA_DICT)\n",
    "     \n",
    "trip_metrics.direction_id = trip_metrics.direction_id.fillna(0)"
   ]
  },
  {
   "cell_type": "markdown",
   "id": "c782107a-a8c5-4010-bba0-444fc5213d19",
   "metadata": {},
   "source": [
    "## Go to `rt_segment_speeds/gtfs_schedule_wrangling`"
   ]
  },
  {
   "cell_type": "code",
   "execution_count": 39,
   "id": "148133a1-8daf-44cb-b555-ce90e05e6ea7",
   "metadata": {
    "tags": []
   },
   "outputs": [],
   "source": [
    "service_freq_df = gtfs_schedule_wrangling.aggregate_time_of_day_to_peak_offpeak(\n",
    "        trip_metrics, group_merge_cols, long_or_wide=\"long\")"
   ]
  },
  {
   "cell_type": "code",
   "execution_count": 44,
   "id": "32a810d7-cf1d-468a-974b-6d33d8cf823a",
   "metadata": {
    "tags": []
   },
   "outputs": [
    {
     "data": {
      "text/html": [
       "<div>\n",
       "<style scoped>\n",
       "    .dataframe tbody tr th:only-of-type {\n",
       "        vertical-align: middle;\n",
       "    }\n",
       "\n",
       "    .dataframe tbody tr th {\n",
       "        vertical-align: top;\n",
       "    }\n",
       "\n",
       "    .dataframe thead th {\n",
       "        text-align: right;\n",
       "    }\n",
       "</style>\n",
       "<table border=\"1\" class=\"dataframe\">\n",
       "  <thead>\n",
       "    <tr style=\"text-align: right;\">\n",
       "      <th></th>\n",
       "      <th>Organization</th>\n",
       "      <th>Direction</th>\n",
       "      <th>Period</th>\n",
       "      <th>headway_in_minutes</th>\n",
       "      <th>Trips per Hour</th>\n",
       "      <th>Route</th>\n",
       "      <th>Route ID</th>\n",
       "    </tr>\n",
       "  </thead>\n",
       "  <tbody>\n",
       "    <tr>\n",
       "      <th>0</th>\n",
       "      <td>Tulare County Regional Transit Agency</td>\n",
       "      <td>Eastbound</td>\n",
       "      <td>all_day</td>\n",
       "      <td>750.00</td>\n",
       "      <td>0.08</td>\n",
       "      <td>C70 LOOP 70</td>\n",
       "      <td>0177a66b-9f33-407d-a72e-776429fb73d4</td>\n",
       "    </tr>\n",
       "    <tr>\n",
       "      <th>1</th>\n",
       "      <td>Tulare County Regional Transit Agency</td>\n",
       "      <td>Eastbound</td>\n",
       "      <td>offpeak</td>\n",
       "      <td>1500.00</td>\n",
       "      <td>0.04</td>\n",
       "      <td>C70 LOOP 70</td>\n",
       "      <td>0177a66b-9f33-407d-a72e-776429fb73d4</td>\n",
       "    </tr>\n",
       "    <tr>\n",
       "      <th>2</th>\n",
       "      <td>Tulare County Regional Transit Agency</td>\n",
       "      <td>Eastbound</td>\n",
       "      <td>peak</td>\n",
       "      <td>1500.00</td>\n",
       "      <td>0.04</td>\n",
       "      <td>C70 LOOP 70</td>\n",
       "      <td>0177a66b-9f33-407d-a72e-776429fb73d4</td>\n",
       "    </tr>\n",
       "  </tbody>\n",
       "</table>\n",
       "</div>"
      ],
      "text/plain": [
       "                            Organization  Direction   Period  \\\n",
       "0  Tulare County Regional Transit Agency  Eastbound  all_day   \n",
       "1  Tulare County Regional Transit Agency  Eastbound  offpeak   \n",
       "2  Tulare County Regional Transit Agency  Eastbound     peak   \n",
       "\n",
       "   headway_in_minutes  Trips per Hour        Route  \\\n",
       "0              750.00            0.08  C70 LOOP 70   \n",
       "1             1500.00            0.04  C70 LOOP 70   \n",
       "2             1500.00            0.04  C70 LOOP 70   \n",
       "\n",
       "                               Route ID  \n",
       "0  0177a66b-9f33-407d-a72e-776429fb73d4  \n",
       "1  0177a66b-9f33-407d-a72e-776429fb73d4  \n",
       "2  0177a66b-9f33-407d-a72e-776429fb73d4  "
      ]
     },
     "execution_count": 44,
     "metadata": {},
     "output_type": "execute_result"
    }
   ],
   "source": [
    "all_ops2.loc[all_ops2[\"Route ID\"] == \"0177a66b-9f33-407d-a72e-776429fb73d4\"].drop_duplicates()"
   ]
  },
  {
   "cell_type": "code",
   "execution_count": 47,
   "id": "7f3359ea-5e39-44ef-9158-1b0f8e7c71d7",
   "metadata": {
    "tags": []
   },
   "outputs": [
    {
     "data": {
      "text/html": [
       "<div>\n",
       "<style scoped>\n",
       "    .dataframe tbody tr th:only-of-type {\n",
       "        vertical-align: middle;\n",
       "    }\n",
       "\n",
       "    .dataframe tbody tr th {\n",
       "        vertical-align: top;\n",
       "    }\n",
       "\n",
       "    .dataframe thead th {\n",
       "        text-align: right;\n",
       "    }\n",
       "</style>\n",
       "<table border=\"1\" class=\"dataframe\">\n",
       "  <thead>\n",
       "    <tr style=\"text-align: right;\">\n",
       "      <th></th>\n",
       "      <th>schedule_gtfs_dataset_key</th>\n",
       "      <th>trip_instance_key</th>\n",
       "      <th>median_stop_meters</th>\n",
       "      <th>time_of_day</th>\n",
       "      <th>scheduled_service_minutes</th>\n",
       "      <th>route_id</th>\n",
       "      <th>direction_id</th>\n",
       "    </tr>\n",
       "  </thead>\n",
       "  <tbody>\n",
       "    <tr>\n",
       "      <th>140</th>\n",
       "      <td>0139b1253130b33adcd4b3a4490530d2</td>\n",
       "      <td>76e57196b9f67ff4f84a74b4e0d2b150</td>\n",
       "      <td>9625.70</td>\n",
       "      <td>Midday</td>\n",
       "      <td>62.00</td>\n",
       "      <td>0177a66b-9f33-407d-a72e-776429fb73d4</td>\n",
       "      <td>0.00</td>\n",
       "    </tr>\n",
       "    <tr>\n",
       "      <th>213</th>\n",
       "      <td>0139b1253130b33adcd4b3a4490530d2</td>\n",
       "      <td>b1ed510f7a2c53b2c59e34a22634e8fa</td>\n",
       "      <td>9625.70</td>\n",
       "      <td>AM Peak</td>\n",
       "      <td>65.00</td>\n",
       "      <td>0177a66b-9f33-407d-a72e-776429fb73d4</td>\n",
       "      <td>0.00</td>\n",
       "    </tr>\n",
       "  </tbody>\n",
       "</table>\n",
       "</div>"
      ],
      "text/plain": [
       "            schedule_gtfs_dataset_key                 trip_instance_key  \\\n",
       "140  0139b1253130b33adcd4b3a4490530d2  76e57196b9f67ff4f84a74b4e0d2b150   \n",
       "213  0139b1253130b33adcd4b3a4490530d2  b1ed510f7a2c53b2c59e34a22634e8fa   \n",
       "\n",
       "     median_stop_meters time_of_day  scheduled_service_minutes  \\\n",
       "140             9625.70      Midday                      62.00   \n",
       "213             9625.70     AM Peak                      65.00   \n",
       "\n",
       "                                 route_id  direction_id  \n",
       "140  0177a66b-9f33-407d-a72e-776429fb73d4          0.00  \n",
       "213  0177a66b-9f33-407d-a72e-776429fb73d4          0.00  "
      ]
     },
     "execution_count": 47,
     "metadata": {},
     "output_type": "execute_result"
    }
   ],
   "source": [
    "trip_metrics.loc[trip_metrics[\"route_id\"] == \"0177a66b-9f33-407d-a72e-776429fb73d4\"].drop_duplicates()"
   ]
  },
  {
   "cell_type": "code",
   "execution_count": 46,
   "id": "d272b0ad-bc45-437c-9f2c-05aca2791e2c",
   "metadata": {
    "tags": []
   },
   "outputs": [
    {
     "data": {
      "text/html": [
       "<div>\n",
       "<style scoped>\n",
       "    .dataframe tbody tr th:only-of-type {\n",
       "        vertical-align: middle;\n",
       "    }\n",
       "\n",
       "    .dataframe tbody tr th {\n",
       "        vertical-align: top;\n",
       "    }\n",
       "\n",
       "    .dataframe thead th {\n",
       "        text-align: right;\n",
       "    }\n",
       "</style>\n",
       "<table border=\"1\" class=\"dataframe\">\n",
       "  <thead>\n",
       "    <tr style=\"text-align: right;\">\n",
       "      <th></th>\n",
       "      <th>schedule_gtfs_dataset_key</th>\n",
       "      <th>route_id</th>\n",
       "      <th>direction_id</th>\n",
       "      <th>n_trips</th>\n",
       "      <th>time_period</th>\n",
       "      <th>peak_offpeak</th>\n",
       "      <th>frequency</th>\n",
       "    </tr>\n",
       "  </thead>\n",
       "  <tbody>\n",
       "    <tr>\n",
       "      <th>0</th>\n",
       "      <td>0139b1253130b33adcd4b3a4490530d2</td>\n",
       "      <td>0177a66b-9f33-407d-a72e-776429fb73d4</td>\n",
       "      <td>0.00</td>\n",
       "      <td>2</td>\n",
       "      <td>all_day</td>\n",
       "      <td>NaN</td>\n",
       "      <td>0.08</td>\n",
       "    </tr>\n",
       "    <tr>\n",
       "      <th>4614</th>\n",
       "      <td>0139b1253130b33adcd4b3a4490530d2</td>\n",
       "      <td>0177a66b-9f33-407d-a72e-776429fb73d4</td>\n",
       "      <td>0.00</td>\n",
       "      <td>1</td>\n",
       "      <td>NaN</td>\n",
       "      <td>offpeak</td>\n",
       "      <td>0.04</td>\n",
       "    </tr>\n",
       "    <tr>\n",
       "      <th>4615</th>\n",
       "      <td>0139b1253130b33adcd4b3a4490530d2</td>\n",
       "      <td>0177a66b-9f33-407d-a72e-776429fb73d4</td>\n",
       "      <td>0.00</td>\n",
       "      <td>1</td>\n",
       "      <td>NaN</td>\n",
       "      <td>peak</td>\n",
       "      <td>0.04</td>\n",
       "    </tr>\n",
       "  </tbody>\n",
       "</table>\n",
       "</div>"
      ],
      "text/plain": [
       "             schedule_gtfs_dataset_key                              route_id  \\\n",
       "0     0139b1253130b33adcd4b3a4490530d2  0177a66b-9f33-407d-a72e-776429fb73d4   \n",
       "4614  0139b1253130b33adcd4b3a4490530d2  0177a66b-9f33-407d-a72e-776429fb73d4   \n",
       "4615  0139b1253130b33adcd4b3a4490530d2  0177a66b-9f33-407d-a72e-776429fb73d4   \n",
       "\n",
       "      direction_id  n_trips time_period peak_offpeak  frequency  \n",
       "0             0.00        2     all_day          NaN       0.08  \n",
       "4614          0.00        1         NaN      offpeak       0.04  \n",
       "4615          0.00        1         NaN         peak       0.04  "
      ]
     },
     "execution_count": 46,
     "metadata": {},
     "output_type": "execute_result"
    }
   ],
   "source": [
    "service_freq_df.loc[service_freq_df[\"route_id\"] == \"0177a66b-9f33-407d-a72e-776429fb73d4\"].drop_duplicates()"
   ]
  },
  {
   "cell_type": "code",
   "execution_count": 50,
   "id": "b73b24a5-62cd-4d57-b0e9-15fb86efb67a",
   "metadata": {
    "tags": []
   },
   "outputs": [],
   "source": [
    "peak_hours = sum(v for k, v in time_helpers.HOURS_BY_TIME_OF_DAY.items() \n",
    "                 if k in time_helpers.PEAK_PERIODS) \n",
    "    \n",
    "offpeak_hours = sum(v for k, v in time_helpers.HOURS_BY_TIME_OF_DAY.items() \n",
    "                 if k not in time_helpers.PEAK_PERIODS) "
   ]
  },
  {
   "cell_type": "code",
   "execution_count": 52,
   "id": "7f4a4098-d852-43c9-be6f-cb7d3fd40124",
   "metadata": {
    "tags": []
   },
   "outputs": [
    {
     "data": {
      "text/plain": [
       "16"
      ]
     },
     "execution_count": 52,
     "metadata": {},
     "output_type": "execute_result"
    }
   ],
   "source": [
    "offpeak_hours"
   ]
  },
  {
   "cell_type": "code",
   "execution_count": 51,
   "id": "70e8e3d8-7c66-43ea-b1bb-bd0abcc4d34a",
   "metadata": {
    "tags": []
   },
   "outputs": [
    {
     "data": {
      "text/plain": [
       "8"
      ]
     },
     "execution_count": 51,
     "metadata": {},
     "output_type": "execute_result"
    }
   ],
   "source": [
    "peak_hours"
   ]
  },
  {
   "cell_type": "code",
   "execution_count": 53,
   "id": "d74a4555-b083-4d4f-bf3d-72b37c0ca591",
   "metadata": {
    "tags": []
   },
   "outputs": [
    {
     "data": {
      "text/html": [
       "<div>\n",
       "<style scoped>\n",
       "    .dataframe tbody tr th:only-of-type {\n",
       "        vertical-align: middle;\n",
       "    }\n",
       "\n",
       "    .dataframe tbody tr th {\n",
       "        vertical-align: top;\n",
       "    }\n",
       "\n",
       "    .dataframe thead th {\n",
       "        text-align: right;\n",
       "    }\n",
       "</style>\n",
       "<table border=\"1\" class=\"dataframe\">\n",
       "  <thead>\n",
       "    <tr style=\"text-align: right;\">\n",
       "      <th></th>\n",
       "      <th>schedule_gtfs_dataset_key</th>\n",
       "      <th>trip_instance_key</th>\n",
       "      <th>median_stop_meters</th>\n",
       "      <th>time_of_day</th>\n",
       "      <th>scheduled_service_minutes</th>\n",
       "      <th>route_id</th>\n",
       "      <th>direction_id</th>\n",
       "    </tr>\n",
       "  </thead>\n",
       "  <tbody>\n",
       "    <tr>\n",
       "      <th>0</th>\n",
       "      <td>0139b1253130b33adcd4b3a4490530d2</td>\n",
       "      <td>0040e3cfa3a954c543b05c41235ca529</td>\n",
       "      <td>5425.96</td>\n",
       "      <td>Midday</td>\n",
       "      <td>40.00</td>\n",
       "      <td>T5</td>\n",
       "      <td>0.00</td>\n",
       "    </tr>\n",
       "  </tbody>\n",
       "</table>\n",
       "</div>"
      ],
      "text/plain": [
       "          schedule_gtfs_dataset_key                 trip_instance_key  \\\n",
       "0  0139b1253130b33adcd4b3a4490530d2  0040e3cfa3a954c543b05c41235ca529   \n",
       "\n",
       "   median_stop_meters time_of_day  scheduled_service_minutes route_id  \\\n",
       "0             5425.96      Midday                      40.00       T5   \n",
       "\n",
       "   direction_id  \n",
       "0          0.00  "
      ]
     },
     "execution_count": 53,
     "metadata": {},
     "output_type": "execute_result"
    }
   ],
   "source": [
    "trip_metrics.head(1)"
   ]
  },
  {
   "cell_type": "code",
   "execution_count": 55,
   "id": "338b2c95-7419-400e-abdb-7b437c1a3262",
   "metadata": {
    "tags": []
   },
   "outputs": [],
   "source": [
    "trip_metrics = gtfs_schedule_wrangling.add_peak_offpeak_column(trip_metrics)"
   ]
  },
  {
   "cell_type": "code",
   "execution_count": 56,
   "id": "c0c000d0-1cff-4f46-9217-d9a3a5310930",
   "metadata": {
    "tags": []
   },
   "outputs": [
    {
     "data": {
      "text/html": [
       "<div>\n",
       "<style scoped>\n",
       "    .dataframe tbody tr th:only-of-type {\n",
       "        vertical-align: middle;\n",
       "    }\n",
       "\n",
       "    .dataframe tbody tr th {\n",
       "        vertical-align: top;\n",
       "    }\n",
       "\n",
       "    .dataframe thead th {\n",
       "        text-align: right;\n",
       "    }\n",
       "</style>\n",
       "<table border=\"1\" class=\"dataframe\">\n",
       "  <thead>\n",
       "    <tr style=\"text-align: right;\">\n",
       "      <th></th>\n",
       "      <th>schedule_gtfs_dataset_key</th>\n",
       "      <th>trip_instance_key</th>\n",
       "      <th>median_stop_meters</th>\n",
       "      <th>time_of_day</th>\n",
       "      <th>scheduled_service_minutes</th>\n",
       "      <th>route_id</th>\n",
       "      <th>direction_id</th>\n",
       "      <th>peak_offpeak</th>\n",
       "    </tr>\n",
       "  </thead>\n",
       "  <tbody>\n",
       "    <tr>\n",
       "      <th>0</th>\n",
       "      <td>0139b1253130b33adcd4b3a4490530d2</td>\n",
       "      <td>0040e3cfa3a954c543b05c41235ca529</td>\n",
       "      <td>5425.96</td>\n",
       "      <td>Midday</td>\n",
       "      <td>40.00</td>\n",
       "      <td>T5</td>\n",
       "      <td>0.00</td>\n",
       "      <td>offpeak</td>\n",
       "    </tr>\n",
       "  </tbody>\n",
       "</table>\n",
       "</div>"
      ],
      "text/plain": [
       "          schedule_gtfs_dataset_key                 trip_instance_key  \\\n",
       "0  0139b1253130b33adcd4b3a4490530d2  0040e3cfa3a954c543b05c41235ca529   \n",
       "\n",
       "   median_stop_meters time_of_day  scheduled_service_minutes route_id  \\\n",
       "0             5425.96      Midday                      40.00       T5   \n",
       "\n",
       "   direction_id peak_offpeak  \n",
       "0          0.00      offpeak  "
      ]
     },
     "execution_count": 56,
     "metadata": {},
     "output_type": "execute_result"
    }
   ],
   "source": [
    "trip_metrics.head(1)"
   ]
  },
  {
   "cell_type": "code",
   "execution_count": 58,
   "id": "e77b4823-621d-4275-a2cf-87c595a690e3",
   "metadata": {
    "tags": []
   },
   "outputs": [
    {
     "data": {
      "text/plain": [
       "Midday      33577\n",
       "PM Peak     33501\n",
       "AM Peak     21618\n",
       "Early AM    11458\n",
       "Evening     10417\n",
       "Owl          3854\n",
       "Name: time_of_day, dtype: int64"
      ]
     },
     "execution_count": 58,
     "metadata": {},
     "output_type": "execute_result"
    }
   ],
   "source": [
    "trip_metrics.time_of_day.value_counts()"
   ]
  },
  {
   "cell_type": "code",
   "execution_count": 59,
   "id": "27f40602-6f93-47cd-bb94-bf9af2ded6e6",
   "metadata": {
    "tags": []
   },
   "outputs": [
    {
     "data": {
      "text/plain": [
       "offpeak    59306\n",
       "peak       55119\n",
       "Name: peak_offpeak, dtype: int64"
      ]
     },
     "execution_count": 59,
     "metadata": {},
     "output_type": "execute_result"
    }
   ],
   "source": [
    "trip_metrics.peak_offpeak.value_counts()"
   ]
  },
  {
   "cell_type": "markdown",
   "id": "863a0308-ca65-4df1-956e-af01407086fa",
   "metadata": {},
   "source": [
    "### `count_trips_by_group`"
   ]
  },
  {
   "cell_type": "code",
   "execution_count": 60,
   "id": "68c9d384-de42-4183-8765-2447687e95c9",
   "metadata": {
    "tags": []
   },
   "outputs": [],
   "source": [
    "all_day = (\n",
    "        trip_metrics.groupby(group_merge_cols, dropna=False)\n",
    "        .agg({\"trip_instance_key\": \"count\"})\n",
    "        .reset_index()\n",
    "    )\n",
    "all_day = all_day.rename(columns={\"trip_instance_key\": \"n_trips\"})"
   ]
  },
  {
   "cell_type": "code",
   "execution_count": 62,
   "id": "34086d78-ae99-48ba-a89d-8b57aea0ebff",
   "metadata": {
    "tags": []
   },
   "outputs": [
    {
     "data": {
      "text/html": [
       "<div>\n",
       "<style scoped>\n",
       "    .dataframe tbody tr th:only-of-type {\n",
       "        vertical-align: middle;\n",
       "    }\n",
       "\n",
       "    .dataframe tbody tr th {\n",
       "        vertical-align: top;\n",
       "    }\n",
       "\n",
       "    .dataframe thead th {\n",
       "        text-align: right;\n",
       "    }\n",
       "</style>\n",
       "<table border=\"1\" class=\"dataframe\">\n",
       "  <thead>\n",
       "    <tr style=\"text-align: right;\">\n",
       "      <th></th>\n",
       "      <th>schedule_gtfs_dataset_key</th>\n",
       "      <th>route_id</th>\n",
       "      <th>direction_id</th>\n",
       "      <th>n_trips</th>\n",
       "    </tr>\n",
       "  </thead>\n",
       "  <tbody>\n",
       "    <tr>\n",
       "      <th>0</th>\n",
       "      <td>0139b1253130b33adcd4b3a4490530d2</td>\n",
       "      <td>0177a66b-9f33-407d-a72e-776429fb73d4</td>\n",
       "      <td>0.00</td>\n",
       "      <td>2</td>\n",
       "    </tr>\n",
       "  </tbody>\n",
       "</table>\n",
       "</div>"
      ],
      "text/plain": [
       "          schedule_gtfs_dataset_key                              route_id  \\\n",
       "0  0139b1253130b33adcd4b3a4490530d2  0177a66b-9f33-407d-a72e-776429fb73d4   \n",
       "\n",
       "   direction_id  n_trips  \n",
       "0          0.00        2  "
      ]
     },
     "execution_count": 62,
     "metadata": {},
     "output_type": "execute_result"
    }
   ],
   "source": [
    "all_day.loc[all_day[\"route_id\"] == \"0177a66b-9f33-407d-a72e-776429fb73d4\"].drop_duplicates()"
   ]
  },
  {
   "cell_type": "code",
   "execution_count": 63,
   "id": "756226e1-bce9-4592-b8cf-f990e53fa720",
   "metadata": {
    "tags": []
   },
   "outputs": [],
   "source": [
    "peak_offpeak = (\n",
    "        trip_metrics.groupby(group_merge_cols + [\"peak_offpeak\"], dropna=False)\n",
    "        .agg({\"trip_instance_key\": \"count\"})\n",
    "        .reset_index()\n",
    "    )\n",
    "peak_offpeak = peak_offpeak.rename(columns={\"trip_instance_key\": \"n_trips\"})"
   ]
  },
  {
   "cell_type": "code",
   "execution_count": 64,
   "id": "45b2ca08-d507-4b37-9532-96fe4a909cd9",
   "metadata": {
    "tags": []
   },
   "outputs": [
    {
     "data": {
      "text/html": [
       "<div>\n",
       "<style scoped>\n",
       "    .dataframe tbody tr th:only-of-type {\n",
       "        vertical-align: middle;\n",
       "    }\n",
       "\n",
       "    .dataframe tbody tr th {\n",
       "        vertical-align: top;\n",
       "    }\n",
       "\n",
       "    .dataframe thead th {\n",
       "        text-align: right;\n",
       "    }\n",
       "</style>\n",
       "<table border=\"1\" class=\"dataframe\">\n",
       "  <thead>\n",
       "    <tr style=\"text-align: right;\">\n",
       "      <th></th>\n",
       "      <th>schedule_gtfs_dataset_key</th>\n",
       "      <th>route_id</th>\n",
       "      <th>direction_id</th>\n",
       "      <th>peak_offpeak</th>\n",
       "      <th>n_trips</th>\n",
       "    </tr>\n",
       "  </thead>\n",
       "  <tbody>\n",
       "    <tr>\n",
       "      <th>0</th>\n",
       "      <td>0139b1253130b33adcd4b3a4490530d2</td>\n",
       "      <td>0177a66b-9f33-407d-a72e-776429fb73d4</td>\n",
       "      <td>0.00</td>\n",
       "      <td>offpeak</td>\n",
       "      <td>1</td>\n",
       "    </tr>\n",
       "    <tr>\n",
       "      <th>1</th>\n",
       "      <td>0139b1253130b33adcd4b3a4490530d2</td>\n",
       "      <td>0177a66b-9f33-407d-a72e-776429fb73d4</td>\n",
       "      <td>0.00</td>\n",
       "      <td>peak</td>\n",
       "      <td>1</td>\n",
       "    </tr>\n",
       "  </tbody>\n",
       "</table>\n",
       "</div>"
      ],
      "text/plain": [
       "          schedule_gtfs_dataset_key                              route_id  \\\n",
       "0  0139b1253130b33adcd4b3a4490530d2  0177a66b-9f33-407d-a72e-776429fb73d4   \n",
       "1  0139b1253130b33adcd4b3a4490530d2  0177a66b-9f33-407d-a72e-776429fb73d4   \n",
       "\n",
       "   direction_id peak_offpeak  n_trips  \n",
       "0          0.00      offpeak        1  \n",
       "1          0.00         peak        1  "
      ]
     },
     "execution_count": 64,
     "metadata": {},
     "output_type": "execute_result"
    }
   ],
   "source": [
    "peak_offpeak.loc[peak_offpeak[\"route_id\"] == \"0177a66b-9f33-407d-a72e-776429fb73d4\"].drop_duplicates()"
   ]
  }
 ],
 "metadata": {
  "kernelspec": {
   "display_name": "Python 3 (ipykernel)",
   "language": "python",
   "name": "python3"
  },
  "language_info": {
   "codemirror_mode": {
    "name": "ipython",
    "version": 3
   },
   "file_extension": ".py",
   "mimetype": "text/x-python",
   "name": "python",
   "nbconvert_exporter": "python",
   "pygments_lexer": "ipython3",
   "version": "3.11.10"
  }
 },
 "nbformat": 4,
 "nbformat_minor": 5
}
