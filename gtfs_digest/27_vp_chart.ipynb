{
 "cells": [
  {
   "cell_type": "markdown",
   "id": "fe58e765-0891-4b70-a2ed-bb3a0d2b5d1d",
   "metadata": {},
   "source": [
    "## Charts Exploratory"
   ]
  },
  {
   "cell_type": "code",
   "execution_count": null,
   "id": "e1861f46-194e-4a36-ba75-98ca8d4aee20",
   "metadata": {
    "tags": []
   },
   "outputs": [],
   "source": [
    "import altair as alt\n",
    "import calitp_data_analysis.magics\n",
    "import geopandas as gpd\n",
    "import google.auth\n",
    "import pandas as pd\n",
    "from IPython.display import HTML, Image, Markdown, display, display_html\n",
    "from omegaconf import OmegaConf\n",
    "from update_vars import GTFS_DATA_DICT, RT_SCHED_GCS, SCHED_GCS, SEGMENT_GCS\n",
    "from shared_utils import portfolio_utils, rt_dates, publish_utils\n",
    "readable_dict = OmegaConf.load(\"readable2.yml\")\n",
    "credentials, project = google.auth.default()\n",
    "\n",
    "import _report_operator_visuals\n",
    "import _report_route_dir_visuals\n",
    "import _scheduled_service_hour_visuals"
   ]
  },
  {
   "cell_type": "code",
   "execution_count": null,
   "id": "b8bbe0c9-2cb1-4fd5-b7cb-74b05ae81267",
   "metadata": {
    "tags": []
   },
   "outputs": [],
   "source": [
    "pd.options.display.max_columns = 100\n",
    "pd.options.display.float_format = \"{:.2f}\".format\n",
    "pd.set_option(\"display.max_rows\", None)\n",
    "pd.set_option(\"display.max_colwidth\", None)\n",
    "\n",
    "\n",
    "def formatted(number):\n",
    "    return \"{:,}\".format(number)"
   ]
  },
  {
   "cell_type": "code",
   "execution_count": null,
   "id": "fd498927-a3c7-4fb6-b1bf-dc64f17fc120",
   "metadata": {
    "tags": []
   },
   "outputs": [],
   "source": [
    "# Comment out and leave this cell right below pandas\n",
    "# portfolio_name = \"Curry Public Transit\"\n",
    "portfolio_name =  \"Ventura County (VCTC, Gold Coast, Cities of Camarillo, Moorpark, Ojai, Simi Valley, Thousand Oaks)\""
   ]
  },
  {
   "cell_type": "code",
   "execution_count": null,
   "id": "8705f7dd-4a4d-4984-8d87-98d4d941e1ba",
   "metadata": {
    "tags": []
   },
   "outputs": [],
   "source": [
    "ROUTE_DIR_MONTH_FILE = GTFS_DATA_DICT.digest_tables.monthly_route_schedule_vp_report"
   ]
  },
  {
   "cell_type": "code",
   "execution_count": null,
   "id": "d02d7352-957e-4cf7-9287-9710b4b9d62f",
   "metadata": {
    "tags": []
   },
   "outputs": [],
   "source": [
    "route_dir_month_df = pd.read_parquet(\n",
    "    f\"{RT_SCHED_GCS}{ROUTE_DIR_MONTH_FILE}.parquet\",\n",
    "    filters=[[(\"Portfolio Organization Name\", \"==\", portfolio_name)]],\n",
    ")"
   ]
  },
  {
   "cell_type": "code",
   "execution_count": null,
   "id": "22bbdbb5-b964-40cd-b6a8-0cf03f306af8",
   "metadata": {
    "tags": []
   },
   "outputs": [],
   "source": [
    "OG_ROUTE_DIR_MONTH_FILE = GTFS_DATA_DICT.digest_tables.monthly_route_schedule_vp\n",
    "og_month_route_dir_df = pd.read_parquet(\n",
    "        f\"{RT_SCHED_GCS}{OG_ROUTE_DIR_MONTH_FILE}.parquet\",\n",
    "    filters=[[(\"portfolio_organization_name\", \"==\", portfolio_name)]]\n",
    "    )"
   ]
  },
  {
   "cell_type": "code",
   "execution_count": null,
   "id": "0988c75d-80e2-4510-85fd-05e91c29a062",
   "metadata": {
    "tags": []
   },
   "outputs": [],
   "source": [
    "ROUTE_DIR_QTR_FILE = 'digest/quarterly_schedule_vp_metrics_report'\n",
    "route_dir_qtr_df = pd.read_parquet(\n",
    "    f\"{RT_SCHED_GCS}{ROUTE_DIR_QTR_FILE}.parquet\",\n",
    "    filters=[[(\"Portfolio Organization Name\", \"==\", portfolio_name)]],\n",
    ")\n"
   ]
  },
  {
   "cell_type": "markdown",
   "id": "18c7e4ac-38ab-47f3-bf29-c9455664c8c5",
   "metadata": {},
   "source": [
    "### Some of the names are Route 1 Route 1, Route 16 Route 16...See what's up.\n",
    "* When we combine `route_short_name` and `route_long_name` sometimes the values are the same for both columns so we get repeated values."
   ]
  },
  {
   "cell_type": "code",
   "execution_count": null,
   "id": "cc415d44-722f-4b7c-9100-2452f3d2986e",
   "metadata": {
    "tags": []
   },
   "outputs": [],
   "source": [
    "import yaml\n",
    "with open(\"../_shared_utils/shared_utils/portfolio_organization_name.yml\", \"r\") as f:\n",
    "    PORTFOLIO_ORGANIZATIONS_DICT = yaml.safe_load(f)"
   ]
  },
  {
   "cell_type": "code",
   "execution_count": null,
   "id": "4b990386-dbc2-4c67-9e90-d7d549bcf802",
   "metadata": {
    "tags": []
   },
   "outputs": [],
   "source": [
    "CLEANED_ROUTE_NAMING = GTFS_DATA_DICT.schedule_tables.route_identification\n",
    "\n",
    "clean_route_names = pd.read_parquet(f\"{SCHED_GCS}{CLEANED_ROUTE_NAMING}.parquet\").pipe(\n",
    "    portfolio_utils.standardize_portfolio_organization_names,\n",
    "    PORTFOLIO_ORGANIZATIONS_DICT,\n",
    ")"
   ]
  },
  {
   "cell_type": "code",
   "execution_count": null,
   "id": "51385a1f-4526-4896-b4ed-9dba828e5b01",
   "metadata": {
    "tags": []
   },
   "outputs": [],
   "source": [
    "clean_route_names.columns"
   ]
  },
  {
   "cell_type": "code",
   "execution_count": null,
   "id": "f0823c34-e23e-4706-8395-8485865d9f06",
   "metadata": {
    "tags": []
   },
   "outputs": [],
   "source": [
    "clean_route_names= clean_route_names.loc[clean_route_names.portfolio_organization_name == portfolio_name]"
   ]
  },
  {
   "cell_type": "code",
   "execution_count": null,
   "id": "e98a03df-a4df-4e2a-90cb-96f1e5082a72",
   "metadata": {
    "tags": []
   },
   "outputs": [],
   "source": [
    "clean_route_names[[\"recent_combined_name\", \"route_long_name\",\"route_short_name\"]].drop_duplicates()"
   ]
  },
  {
   "cell_type": "markdown",
   "id": "c9f0e80a-0938-4761-bdb9-b648f64183c6",
   "metadata": {},
   "source": [
    "### Lots of duplicate rows are popping up...Fix that"
   ]
  },
  {
   "cell_type": "code",
   "execution_count": null,
   "id": "3e1cdd50-21d1-4052-a864-25cc92207f0d",
   "metadata": {
    "tags": []
   },
   "outputs": [],
   "source": [
    "one_test_route = route_dir_month_df.loc[(route_dir_month_df.Date == '2025-05-14T00:00:00.000000000') & (route_dir_month_df.Route =='89 80-89 Coastal Express')]"
   ]
  },
  {
   "cell_type": "code",
   "execution_count": null,
   "id": "a21a5686-fa9e-46f7-b5f8-51716e9b024d",
   "metadata": {
    "tags": []
   },
   "outputs": [],
   "source": [
    "len(one_test_route)"
   ]
  },
  {
   "cell_type": "code",
   "execution_count": null,
   "id": "abf29b32-d050-4ce0-b693-83b542e59de0",
   "metadata": {
    "tags": []
   },
   "outputs": [],
   "source": [
    "len(one_test_route.drop_duplicates())"
   ]
  },
  {
   "cell_type": "code",
   "execution_count": null,
   "id": "316204a0-4242-4726-a693-4edeb0c7c176",
   "metadata": {
    "tags": []
   },
   "outputs": [],
   "source": [
    "one_test_route.drop_duplicates()"
   ]
  },
  {
   "cell_type": "markdown",
   "id": "99770696-a03a-4870-93e7-6cae4bb0baaf",
   "metadata": {},
   "source": [
    "## "
   ]
  },
  {
   "cell_type": "code",
   "execution_count": null,
   "id": "f24dc976-29ee-4fc1-9a1a-dea8e97ccdf2",
   "metadata": {
    "tags": []
   },
   "outputs": [],
   "source": [
    "display(_report_route_dir_visuals.route_filter(route_dir_qtr_df,route_dir_month_df))"
   ]
  }
 ],
 "metadata": {
  "kernelspec": {
   "display_name": "Python 3 (ipykernel)",
   "language": "python",
   "name": "python3"
  },
  "language_info": {
   "codemirror_mode": {
    "name": "ipython",
    "version": 3
   },
   "file_extension": ".py",
   "mimetype": "text/x-python",
   "name": "python",
   "nbconvert_exporter": "python",
   "pygments_lexer": "ipython3",
   "version": "3.11.10"
  }
 },
 "nbformat": 4,
 "nbformat_minor": 5
}
