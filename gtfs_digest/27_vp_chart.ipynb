{
 "cells": [
  {
   "cell_type": "markdown",
   "id": "fe58e765-0891-4b70-a2ed-bb3a0d2b5d1d",
   "metadata": {},
   "source": [
    "## Charts Exploratory"
   ]
  },
  {
   "cell_type": "code",
   "execution_count": 1,
   "id": "e1861f46-194e-4a36-ba75-98ca8d4aee20",
   "metadata": {
    "tags": []
   },
   "outputs": [],
   "source": [
    "import altair as alt\n",
    "import calitp_data_analysis.magics\n",
    "import geopandas as gpd\n",
    "import google.auth\n",
    "import pandas as pd\n",
    "from IPython.display import HTML, Image, Markdown, display, display_html\n",
    "from omegaconf import OmegaConf\n",
    "from update_vars import GTFS_DATA_DICT, RT_SCHED_GCS, SCHED_GCS, SEGMENT_GCS\n",
    "from shared_utils import portfolio_utils, rt_dates, publish_utils\n",
    "import merge_data\n",
    "\n",
    "readable_dict = OmegaConf.load(\"readable2.yml\")\n",
    "credentials, project = google.auth.default()\n",
    "\n",
    "import _report_operator_visuals\n",
    "import _report_route_dir_visuals\n",
    "import _scheduled_service_hour_visuals"
   ]
  },
  {
   "cell_type": "code",
   "execution_count": 2,
   "id": "b8bbe0c9-2cb1-4fd5-b7cb-74b05ae81267",
   "metadata": {
    "tags": []
   },
   "outputs": [],
   "source": [
    "pd.options.display.max_columns = 100\n",
    "pd.options.display.float_format = \"{:.2f}\".format\n",
    "pd.set_option(\"display.max_rows\", None)\n",
    "pd.set_option(\"display.max_colwidth\", None)\n",
    "\n",
    "\n",
    "def formatted(number):\n",
    "    return \"{:,}\".format(number)"
   ]
  },
  {
   "cell_type": "markdown",
   "id": "a3acb7e0-f8a1-4194-a1fa-380c7dfad8b8",
   "metadata": {},
   "source": [
    "## why are there so few portfolio_names?"
   ]
  },
  {
   "cell_type": "code",
   "execution_count": 3,
   "id": "fce07f5e-e404-4e35-98fe-4e1458ef4cee",
   "metadata": {
    "tags": []
   },
   "outputs": [],
   "source": [
    "OPERATOR_PROFILE_REPORT = GTFS_DATA_DICT.digest_tables.operator_profiles_report"
   ]
  },
  {
   "cell_type": "code",
   "execution_count": 4,
   "id": "a3a94f67-6fc8-4548-9f9a-30dc8cdc88cc",
   "metadata": {
    "tags": []
   },
   "outputs": [],
   "source": [
    "operator_df = pd.read_parquet(\n",
    "    f\"{RT_SCHED_GCS}{OPERATOR_PROFILE_REPORT}.parquet\",\n",
    "    )"
   ]
  },
  {
   "cell_type": "code",
   "execution_count": 5,
   "id": "cfbc0884-e4fc-4a82-853e-7996868c7f56",
   "metadata": {
    "tags": []
   },
   "outputs": [
    {
     "data": {
      "text/plain": [
       "Index(['portfolio_organization_name', 'service_date', 'caltrans_district',\n",
       "       'operator_n_routes', 'operator_n_trips', 'operator_n_shapes',\n",
       "       'operator_n_stops', 'operator_n_arrivals',\n",
       "       'operator_route_length_miles', 'n_downtown_local_routes',\n",
       "       'n_local_routes', 'n_coverage_routes', 'n_rapid_routes',\n",
       "       'n_express_routes', 'n_rail_routes', 'n_ferry_routes',\n",
       "       'vp_per_min_agency', 'spatial_accuracy_agency', 'n_feeds',\n",
       "       'operator_feeds', 'counties_served', 'service_area_pop',\n",
       "       'service_area_sq_miles', 'hq_city', 'reporter_type',\n",
       "       'primary_uza_name'],\n",
       "      dtype='object')"
      ]
     },
     "execution_count": 5,
     "metadata": {},
     "output_type": "execute_result"
    }
   ],
   "source": [
    "operator_df.columns"
   ]
  },
  {
   "cell_type": "code",
   "execution_count": 6,
   "id": "ea1dc1a8-1387-4a32-8573-4e3e6971d45a",
   "metadata": {
    "tags": []
   },
   "outputs": [
    {
     "data": {
      "text/html": [
       "<div>\n",
       "<style scoped>\n",
       "    .dataframe tbody tr th:only-of-type {\n",
       "        vertical-align: middle;\n",
       "    }\n",
       "\n",
       "    .dataframe tbody tr th {\n",
       "        vertical-align: top;\n",
       "    }\n",
       "\n",
       "    .dataframe thead th {\n",
       "        text-align: right;\n",
       "    }\n",
       "</style>\n",
       "<table border=\"1\" class=\"dataframe\">\n",
       "  <thead>\n",
       "    <tr style=\"text-align: right;\">\n",
       "      <th></th>\n",
       "      <th>portfolio_organization_name</th>\n",
       "    </tr>\n",
       "    <tr>\n",
       "      <th>caltrans_district</th>\n",
       "      <th></th>\n",
       "    </tr>\n",
       "  </thead>\n",
       "  <tbody>\n",
       "    <tr>\n",
       "      <th>01 - Eureka</th>\n",
       "      <td>2</td>\n",
       "    </tr>\n",
       "    <tr>\n",
       "      <th>02 - Redding</th>\n",
       "      <td>1</td>\n",
       "    </tr>\n",
       "    <tr>\n",
       "      <th>03 - Marysville / Sacramento</th>\n",
       "      <td>8</td>\n",
       "    </tr>\n",
       "    <tr>\n",
       "      <th>04 - Bay Area / Oakland</th>\n",
       "      <td>22</td>\n",
       "    </tr>\n",
       "    <tr>\n",
       "      <th>05 - San Luis Obispo / Santa Barbara</th>\n",
       "      <td>7</td>\n",
       "    </tr>\n",
       "    <tr>\n",
       "      <th>06 - Fresno / Bakersfield</th>\n",
       "      <td>7</td>\n",
       "    </tr>\n",
       "    <tr>\n",
       "      <th>07 - Los Angeles / Ventura</th>\n",
       "      <td>41</td>\n",
       "    </tr>\n",
       "    <tr>\n",
       "      <th>08 - San Bernardino / Riverside</th>\n",
       "      <td>6</td>\n",
       "    </tr>\n",
       "    <tr>\n",
       "      <th>10 - Stockton</th>\n",
       "      <td>8</td>\n",
       "    </tr>\n",
       "    <tr>\n",
       "      <th>11 - San Diego</th>\n",
       "      <td>3</td>\n",
       "    </tr>\n",
       "    <tr>\n",
       "      <th>12 - Santa Ana</th>\n",
       "      <td>3</td>\n",
       "    </tr>\n",
       "  </tbody>\n",
       "</table>\n",
       "</div>"
      ],
      "text/plain": [
       "                                      portfolio_organization_name\n",
       "caltrans_district                                                \n",
       "01 - Eureka                                                     2\n",
       "02 - Redding                                                    1\n",
       "03 - Marysville / Sacramento                                    8\n",
       "04 - Bay Area / Oakland                                        22\n",
       "05 - San Luis Obispo / Santa Barbara                            7\n",
       "06 - Fresno / Bakersfield                                       7\n",
       "07 - Los Angeles / Ventura                                     41\n",
       "08 - San Bernardino / Riverside                                 6\n",
       "10 - Stockton                                                   8\n",
       "11 - San Diego                                                  3\n",
       "12 - Santa Ana                                                  3"
      ]
     },
     "execution_count": 6,
     "metadata": {},
     "output_type": "execute_result"
    }
   ],
   "source": [
    "operator_df.groupby([\"caltrans_district\"]).agg({\"portfolio_organization_name\":\"nunique\"})"
   ]
  },
  {
   "cell_type": "code",
   "execution_count": null,
   "id": "fd498927-a3c7-4fb6-b1bf-dc64f17fc120",
   "metadata": {
    "tags": []
   },
   "outputs": [],
   "source": [
    "# Comment out and leave this cell right below pandas\n",
    "# portfolio_name = \"Curry Public Transit\"\n",
    "portfolio_name =  \"Ventura County (VCTC, Gold Coast, Cities of Camarillo, Moorpark, Ojai, Simi Valley, Thousand Oaks)\""
   ]
  },
  {
   "cell_type": "code",
   "execution_count": null,
   "id": "8705f7dd-4a4d-4984-8d87-98d4d941e1ba",
   "metadata": {
    "tags": []
   },
   "outputs": [],
   "source": [
    "ROUTE_DIR_MONTH_FILE = GTFS_DATA_DICT.digest_tables.monthly_route_schedule_vp_report"
   ]
  },
  {
   "cell_type": "code",
   "execution_count": null,
   "id": "d02d7352-957e-4cf7-9287-9710b4b9d62f",
   "metadata": {
    "tags": []
   },
   "outputs": [],
   "source": [
    "route_dir_month_df = pd.read_parquet(\n",
    "    f\"{RT_SCHED_GCS}{ROUTE_DIR_MONTH_FILE}.parquet\",\n",
    "    filters=[[(\"Portfolio Organization Name\", \"==\", portfolio_name)]],\n",
    ")"
   ]
  },
  {
   "cell_type": "code",
   "execution_count": null,
   "id": "22bbdbb5-b964-40cd-b6a8-0cf03f306af8",
   "metadata": {
    "tags": []
   },
   "outputs": [],
   "source": [
    "OG_ROUTE_DIR_MONTH_FILE = GTFS_DATA_DICT.digest_tables.monthly_route_schedule_vp\n",
    "og_month_route_dir_df = pd.read_parquet(\n",
    "        f\"{RT_SCHED_GCS}{OG_ROUTE_DIR_MONTH_FILE}.parquet\",\n",
    "    filters=[[(\"portfolio_organization_name\", \"==\", portfolio_name)]]\n",
    "    )"
   ]
  },
  {
   "cell_type": "code",
   "execution_count": null,
   "id": "0988c75d-80e2-4510-85fd-05e91c29a062",
   "metadata": {
    "tags": []
   },
   "outputs": [],
   "source": [
    "ROUTE_DIR_QTR_FILE = 'digest/quarterly_schedule_vp_metrics_report'\n",
    "route_dir_qtr_df = pd.read_parquet(\n",
    "    f\"{RT_SCHED_GCS}{ROUTE_DIR_QTR_FILE}.parquet\",\n",
    "    filters=[[(\"Portfolio Organization Name\", \"==\", portfolio_name)]],\n",
    ")\n"
   ]
  },
  {
   "cell_type": "markdown",
   "id": "18c7e4ac-38ab-47f3-bf29-c9455664c8c5",
   "metadata": {},
   "source": [
    "### Some of the names are Route 1 Route 1, Route 16 Route 16...See what's up.\n",
    "* When we combine `route_short_name` and `route_long_name` sometimes the values are the same for both columns so we get repeated values."
   ]
  },
  {
   "cell_type": "code",
   "execution_count": null,
   "id": "cc415d44-722f-4b7c-9100-2452f3d2986e",
   "metadata": {
    "tags": []
   },
   "outputs": [],
   "source": [
    "import yaml\n",
    "with open(\"../_shared_utils/shared_utils/portfolio_organization_name.yml\", \"r\") as f:\n",
    "    PORTFOLIO_ORGANIZATIONS_DICT = yaml.safe_load(f)"
   ]
  },
  {
   "cell_type": "code",
   "execution_count": null,
   "id": "4b990386-dbc2-4c67-9e90-d7d549bcf802",
   "metadata": {
    "tags": []
   },
   "outputs": [],
   "source": [
    "CLEANED_ROUTE_NAMING = GTFS_DATA_DICT.schedule_tables.route_identification\n",
    "\n",
    "clean_route_names = pd.read_parquet(f\"{SCHED_GCS}{CLEANED_ROUTE_NAMING}.parquet\").pipe(\n",
    "    portfolio_utils.standardize_portfolio_organization_names,\n",
    "    PORTFOLIO_ORGANIZATIONS_DICT,\n",
    ")"
   ]
  },
  {
   "cell_type": "code",
   "execution_count": null,
   "id": "51385a1f-4526-4896-b4ed-9dba828e5b01",
   "metadata": {
    "tags": []
   },
   "outputs": [],
   "source": [
    "clean_route_names.columns"
   ]
  },
  {
   "cell_type": "code",
   "execution_count": null,
   "id": "f0823c34-e23e-4706-8395-8485865d9f06",
   "metadata": {
    "tags": []
   },
   "outputs": [],
   "source": [
    "clean_route_names= clean_route_names.loc[clean_route_names.portfolio_organization_name == portfolio_name]"
   ]
  },
  {
   "cell_type": "code",
   "execution_count": null,
   "id": "e98a03df-a4df-4e2a-90cb-96f1e5082a72",
   "metadata": {
    "tags": []
   },
   "outputs": [],
   "source": [
    "clean_route_names[[\"recent_combined_name\", \"route_long_name\",\"route_short_name\"]].drop_duplicates()"
   ]
  },
  {
   "cell_type": "markdown",
   "id": "c9f0e80a-0938-4761-bdb9-b648f64183c6",
   "metadata": {},
   "source": [
    "### Lots of duplicate rows are popping up...Fix that"
   ]
  },
  {
   "cell_type": "code",
   "execution_count": null,
   "id": "3e1cdd50-21d1-4052-a864-25cc92207f0d",
   "metadata": {
    "tags": []
   },
   "outputs": [],
   "source": [
    "one_test_route = route_dir_month_df.loc[(route_dir_month_df.Date == '2025-05-14T00:00:00.000000000') & (route_dir_month_df.Route =='89 80-89 Coastal Express')]"
   ]
  },
  {
   "cell_type": "code",
   "execution_count": null,
   "id": "a21a5686-fa9e-46f7-b5f8-51716e9b024d",
   "metadata": {
    "tags": []
   },
   "outputs": [],
   "source": [
    "len(one_test_route)"
   ]
  },
  {
   "cell_type": "code",
   "execution_count": null,
   "id": "abf29b32-d050-4ce0-b693-83b542e59de0",
   "metadata": {
    "tags": []
   },
   "outputs": [],
   "source": [
    "len(one_test_route.drop_duplicates())"
   ]
  },
  {
   "cell_type": "code",
   "execution_count": null,
   "id": "316204a0-4242-4726-a693-4edeb0c7c176",
   "metadata": {
    "tags": []
   },
   "outputs": [],
   "source": [
    "one_test_route.drop_duplicates()"
   ]
  },
  {
   "cell_type": "markdown",
   "id": "99770696-a03a-4870-93e7-6cae4bb0baaf",
   "metadata": {},
   "source": [
    "## "
   ]
  },
  {
   "cell_type": "code",
   "execution_count": null,
   "id": "f24dc976-29ee-4fc1-9a1a-dea8e97ccdf2",
   "metadata": {
    "tags": []
   },
   "outputs": [],
   "source": [
    "# display(_report_route_dir_visuals.route_filter(route_dir_qtr_df,route_dir_month_df))"
   ]
  },
  {
   "cell_type": "markdown",
   "id": "a66dc0cc-fc51-44f7-a8c0-fe6dbb2f7e5a",
   "metadata": {},
   "source": [
    "## Seeing where the duplicates come from "
   ]
  },
  {
   "cell_type": "code",
   "execution_count": null,
   "id": "e2f16933-fab6-4cc0-b790-83fa5fe7e6fb",
   "metadata": {
    "tags": []
   },
   "outputs": [],
   "source": [
    "date_list = rt_dates.y2025_dates"
   ]
  },
  {
   "cell_type": "code",
   "execution_count": null,
   "id": "7fb02efe-94b3-456b-9cdf-f26ccef5a010",
   "metadata": {
    "tags": []
   },
   "outputs": [],
   "source": [
    "schedule_route_dir_df = merge_data.concatenate_schedule_by_route_direction(date_list)"
   ]
  },
  {
   "cell_type": "code",
   "execution_count": null,
   "id": "bdc9b2c5-f624-450f-8360-65a94869c813",
   "metadata": {
    "tags": []
   },
   "outputs": [],
   "source": [
    "# \n",
    "schedule_route_dir_df.columns"
   ]
  },
  {
   "cell_type": "code",
   "execution_count": null,
   "id": "fb04df31-a1c4-4a3c-8dfa-1ff8ec375cf2",
   "metadata": {
    "tags": []
   },
   "outputs": [],
   "source": [
    "def preview_one_route_one_date(df:pd.DataFrame):\n",
    "    try:\n",
    "        df2 = df.loc[(df.Date == '2025-05-14T00:00:00.000000000') & (df.Route == \"87__80-89 Coastal Express\")]\n",
    "    except:\n",
    "        df2 = df.loc[(df.service_date == '2025-05-14T00:00:00.000000000') & (df.route_id == \"4148\")]\n",
    "    return df2"
   ]
  },
  {
   "cell_type": "code",
   "execution_count": null,
   "id": "cdb02d9b-a3e1-4ebf-bd80-48d2ebbf2a42",
   "metadata": {
    "tags": []
   },
   "outputs": [],
   "source": [
    "preview_one_route_one_date(schedule_route_dir_df)"
   ]
  },
  {
   "cell_type": "markdown",
   "id": "c537cf80-6c46-4f0a-b634-ba673fbd538e",
   "metadata": {},
   "source": [
    "### Lots of repeated values in speed"
   ]
  },
  {
   "cell_type": "code",
   "execution_count": null,
   "id": "79599760-1aea-4309-8dcc-4fb315ecae02",
   "metadata": {
    "tags": []
   },
   "outputs": [],
   "source": [
    "speeds_df = merge_data.concatenate_rt_vs_schedule_by_route_direction(date_list)"
   ]
  },
  {
   "cell_type": "code",
   "execution_count": null,
   "id": "974f912f-c30b-47e7-9371-5eaced1e8dfa",
   "metadata": {
    "tags": []
   },
   "outputs": [],
   "source": [
    "speeds_df.columns"
   ]
  },
  {
   "cell_type": "code",
   "execution_count": null,
   "id": "e2c85827-68b8-49a3-bf53-9f5c37229cf6",
   "metadata": {
    "tags": []
   },
   "outputs": [],
   "source": [
    "preview_one_route_one_date(speeds_df).shape"
   ]
  },
  {
   "cell_type": "code",
   "execution_count": null,
   "id": "a765b202-68c4-465d-bdc6-3e8d20a74a70",
   "metadata": {
    "tags": []
   },
   "outputs": [],
   "source": [
    "len(preview_one_route_one_date(speeds_df).drop_duplicates())"
   ]
  },
  {
   "cell_type": "code",
   "execution_count": null,
   "id": "d8fc38fa-c65a-459b-a4e4-7d28c0b095d5",
   "metadata": {
    "tags": []
   },
   "outputs": [],
   "source": [
    "# crosswalk_df = merge_data.concatenate_crosswalk_organization(date_list)"
   ]
  },
  {
   "cell_type": "code",
   "execution_count": null,
   "id": "51830d06-905a-43a7-b6e5-6402f9b15b23",
   "metadata": {
    "tags": []
   },
   "outputs": [],
   "source": [
    "crosswalk_df.columns"
   ]
  },
  {
   "cell_type": "code",
   "execution_count": null,
   "id": "87aeb8e4-acf6-45c2-b9d7-3b0d7c1cf182",
   "metadata": {
    "tags": []
   },
   "outputs": [],
   "source": [
    "# crosswalk has no route info\n",
    "# preview_one_route_one_date(crosswalk_df)"
   ]
  },
  {
   "cell_type": "code",
   "execution_count": null,
   "id": "21d4d2e2-818a-44a9-a708-948f70a1bb7f",
   "metadata": {
    "tags": []
   },
   "outputs": [],
   "source": [
    "# Applied to df\n",
    "# standardized_name = merge_data.merge_in_standardized_route_names()\n",
    "# but can grab the df w/in the func"
   ]
  },
  {
   "cell_type": "markdown",
   "id": "b8d0fbac-6984-4aa1-8cae-2dc57fce01cd",
   "metadata": {},
   "source": [
    "### More duplicates for rt vs sched"
   ]
  },
  {
   "cell_type": "code",
   "execution_count": null,
   "id": "c31c795f-f685-4757-8d7c-953394354fbf",
   "metadata": {
    "tags": []
   },
   "outputs": [],
   "source": [
    "df_rt_sched = merge_data.concatenate_rt_vs_schedule_by_route_direction(\n",
    "        date_list\n",
    "    )"
   ]
  },
  {
   "cell_type": "code",
   "execution_count": null,
   "id": "0c0dbdf2-9f5a-40a5-9a3f-c1fe96dc61c2",
   "metadata": {
    "tags": []
   },
   "outputs": [],
   "source": [
    "(preview_one_route_one_date(df_rt_sched))"
   ]
  },
  {
   "cell_type": "code",
   "execution_count": null,
   "id": "206b720b-106a-4a78-9428-837885531632",
   "metadata": {
    "tags": []
   },
   "outputs": [],
   "source": [
    "len((preview_one_route_one_date(df_rt_sched)).drop_duplicates())"
   ]
  }
 ],
 "metadata": {
  "kernelspec": {
   "display_name": "Python 3 (ipykernel)",
   "language": "python",
   "name": "python3"
  },
  "language_info": {
   "codemirror_mode": {
    "name": "ipython",
    "version": 3
   },
   "file_extension": ".py",
   "mimetype": "text/x-python",
   "name": "python",
   "nbconvert_exporter": "python",
   "pygments_lexer": "ipython3",
   "version": "3.11.10"
  }
 },
 "nbformat": 4,
 "nbformat_minor": 5
}
