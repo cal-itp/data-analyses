{
 "cells": [
  {
   "cell_type": "code",
   "execution_count": null,
   "id": "b682f4c5-e2b0-41c4-a566-3935eda91eae",
   "metadata": {},
   "outputs": [],
   "source": [
    "import _section2_utils as section2_utils\n",
    "import geopandas as gpd\n",
    "import numpy as np\n",
    "import pandas as pd\n",
    "from IPython.display import HTML, Image, Markdown, display, display_html\n",
    "from segment_speed_utils import gtfs_schedule_wrangling, helpers, time_series_utils\n",
    "from segment_speed_utils.project_vars import (\n",
    "    COMPILED_CACHED_VIEWS,\n",
    "    GTFS_DATA_DICT,\n",
    "    PROJECT_CRS,\n",
    "    RT_SCHED_GCS,\n",
    "    SCHED_GCS,\n",
    "    SEGMENT_GCS,\n",
    ")\n",
    "from shared_utils import catalog_utils, rt_dates, rt_utils"
   ]
  },
  {
   "cell_type": "code",
   "execution_count": null,
   "id": "2d1fa781-3548-4c9f-a4f2-dc4dd315e75d",
   "metadata": {},
   "outputs": [],
   "source": [
    "import datetime\n",
    "\n",
    "from dask import compute, delayed"
   ]
  },
  {
   "cell_type": "code",
   "execution_count": null,
   "id": "63b45ba0-fa2a-4285-999e-b8dc5bd77b78",
   "metadata": {},
   "outputs": [],
   "source": [
    "pd.options.display.max_columns = 100\n",
    "pd.options.display.float_format = \"{:.2f}\".format\n",
    "pd.set_option(\"display.max_rows\", None)\n",
    "pd.set_option(\"display.max_colwidth\", None)"
   ]
  },
  {
   "cell_type": "code",
   "execution_count": null,
   "id": "8f03aea0-b4dd-4e80-afed-91a3e53acf9c",
   "metadata": {},
   "outputs": [],
   "source": [
    "sf = \"City and County of San Francisco\""
   ]
  },
  {
   "cell_type": "code",
   "execution_count": null,
   "id": "d4884518-8b02-4bb9-b841-f9f5680b6d92",
   "metadata": {},
   "outputs": [],
   "source": [
    "lawndale = \"City of Lawndale\""
   ]
  },
  {
   "cell_type": "code",
   "execution_count": null,
   "id": "2cb5f1e7-8850-46e9-9245-4dbcdc7a524b",
   "metadata": {},
   "outputs": [],
   "source": [
    "la_metro = \"Los Angeles County Metropolitan Transportation Authority\""
   ]
  },
  {
   "cell_type": "code",
   "execution_count": null,
   "id": "3e616e0b-4074-4217-8fa1-9942cd6e8063",
   "metadata": {},
   "outputs": [],
   "source": [
    "start = datetime.datetime.now()\n",
    "df = section2_utils.load_schedule_vp_metrics(la_metro)\n",
    "end = datetime.datetime.now()"
   ]
  },
  {
   "cell_type": "code",
   "execution_count": null,
   "id": "9e4d0bbb-c13e-41f6-a9fc-b90c9d3c0205",
   "metadata": {},
   "outputs": [],
   "source": [
    "start = datetime.datetime.now()\n",
    "df_lawndale = section2_utils.load_schedule_vp_metrics(lawndale)\n",
    "end = datetime.datetime.now()"
   ]
  },
  {
   "cell_type": "code",
   "execution_count": null,
   "id": "f5749587-3495-4298-b6b9-83bd3a30c1f1",
   "metadata": {},
   "outputs": [],
   "source": [
    "df.head(2)"
   ]
  },
  {
   "cell_type": "code",
   "execution_count": null,
   "id": "796e327c-58b1-4ecd-a7fd-b4cc29b2fc66",
   "metadata": {},
   "outputs": [],
   "source": [
    "df.dir_0_1.value_counts().sum()"
   ]
  },
  {
   "cell_type": "code",
   "execution_count": null,
   "id": "de288a3c-a2d1-4843-bef6-a3a5a01cbdbc",
   "metadata": {},
   "outputs": [],
   "source": [
    "len(df)"
   ]
  },
  {
   "cell_type": "code",
   "execution_count": null,
   "id": "f31f7e08-54b4-4920-a65e-d831e2aafc7a",
   "metadata": {},
   "outputs": [],
   "source": [
    "df.Direction.value_counts()"
   ]
  },
  {
   "cell_type": "code",
   "execution_count": null,
   "id": "302609eb-62ca-4171-9c04-e5edf754c594",
   "metadata": {},
   "outputs": [],
   "source": [
    "df.Direction.value_counts().sum()"
   ]
  },
  {
   "cell_type": "code",
   "execution_count": null,
   "id": "862ccac1-7fd5-4b9e-8fb4-cc37f13a1c1f",
   "metadata": {},
   "outputs": [],
   "source": [
    "df.head(1)"
   ]
  },
  {
   "cell_type": "code",
   "execution_count": null,
   "id": "a9878d31-a1bf-4a76-ab51-119dc7239c07",
   "metadata": {
    "scrolled": true,
    "tags": []
   },
   "outputs": [],
   "source": [
    "# df[\"Route\"].unique()"
   ]
  },
  {
   "cell_type": "code",
   "execution_count": null,
   "id": "f9a0efb6-1418-4e8e-b4b6-02e7264414cf",
   "metadata": {
    "scrolled": true,
    "tags": []
   },
   "outputs": [],
   "source": [
    "df.groupby([\"Route\", \"dir_0_1\"]).agg({\"Direction\": \"nunique\"}).sort_values(\n",
    "    by=[\"Direction\"], ascending=False\n",
    ").head()"
   ]
  },
  {
   "cell_type": "markdown",
   "id": "8fd71d1e-40b4-4011-b0a9-8032409dadce",
   "metadata": {},
   "source": [
    "## Fix Graphs"
   ]
  },
  {
   "cell_type": "code",
   "execution_count": null,
   "id": "ad7aa4e8-13c0-46d9-90d6-e2d320626787",
   "metadata": {},
   "outputs": [],
   "source": [
    "# Data Dictionary\n",
    "GTFS_DATA_DICT = catalog_utils.get_catalog(\"gtfs_analytics_data\")\n",
    "import yaml\n",
    "\n",
    "with open(\"readable.yml\") as f:\n",
    "    readable_dict = yaml.safe_load(f)\n",
    "\n",
    "# Color Palette\n",
    "with open(\"color_palettes.yml\") as f:\n",
    "    color_dict = yaml.safe_load(f)"
   ]
  },
  {
   "cell_type": "code",
   "execution_count": null,
   "id": "5366b028-a8f9-457b-90e0-07befccd4957",
   "metadata": {},
   "outputs": [],
   "source": [
    "import altair as alt\n",
    "\n",
    "alt.data_transformers.enable(\"default\", max_rows=None)\n",
    "import _report_utils"
   ]
  },
  {
   "cell_type": "code",
   "execution_count": null,
   "id": "158c9dc0-05ff-4c1d-994a-0a010f22dc9c",
   "metadata": {},
   "outputs": [],
   "source": [
    "# Set drop down menu to be on the upper right\n",
    "display(\n",
    "    HTML(\n",
    "        \"\"\"\n",
    "<style>\n",
    "form.vega-bindings {\n",
    "  position: absolute;\n",
    "  right: 0px;\n",
    "  top: 0px;\n",
    "}\n",
    "</style>\n",
    "\"\"\"\n",
    "    )\n",
    ")"
   ]
  },
  {
   "cell_type": "code",
   "execution_count": null,
   "id": "05b61247-fa44-485f-85b1-0fa86a705ca9",
   "metadata": {},
   "outputs": [],
   "source": [
    "routes_list = df[\"Route\"].unique().tolist()\n",
    "\n",
    "route_dropdown = alt.binding_select(\n",
    "    options=routes_list,\n",
    "    name=\"Routes: \",\n",
    ")\n",
    "# Column that controls the bar charts\n",
    "xcol_param = alt.selection_point(\n",
    "    fields=[\"Route\"], value=routes_list[0], bind=route_dropdown\n",
    ")"
   ]
  },
  {
   "cell_type": "markdown",
   "id": "234a13ac-b3b5-404c-9b18-d9c0d82ed6e6",
   "metadata": {
    "tags": []
   },
   "source": [
    "### Function"
   ]
  },
  {
   "cell_type": "code",
   "execution_count": null,
   "id": "9ca7b199-3144-43fc-b122-1157d633ad7e",
   "metadata": {},
   "outputs": [],
   "source": [
    "import warnings\n",
    "\n",
    "warnings.filterwarnings(\"ignore\")"
   ]
  },
  {
   "cell_type": "code",
   "execution_count": null,
   "id": "0552df4f-747c-4108-9765-1f3fa545f158",
   "metadata": {},
   "outputs": [],
   "source": [
    "section2_utils.filtered_route(df)"
   ]
  },
  {
   "cell_type": "code",
   "execution_count": null,
   "id": "ca36bd38-0e1e-4b47-8e33-3e8d523c50f7",
   "metadata": {},
   "outputs": [],
   "source": [
    "section2_utils.filtered_route(df_lawndale)"
   ]
  },
  {
   "cell_type": "markdown",
   "id": "89f874db-b7f8-4398-b242-0969b4265db0",
   "metadata": {},
   "source": [
    "### Timeliness Trips\n",
    "* The title was displaying the wrong value. For example, the chart/tooltip showed the route going Northbound but the title showed \"Eastbound.\" I think the issue arises from the fact that the Altair dropdown menu to control the graphs does not filter the actual dataframe. My original function grabbed the first available value for the cardinal direction, which does not match with the route selected in the route dropdown menu. "
   ]
  },
  {
   "cell_type": "code",
   "execution_count": null,
   "id": "b64397f1-2600-4f58-a562-610765a413f4",
   "metadata": {},
   "outputs": [],
   "source": [
    "timeliness_df = section2_utils.timeliness_trips(df)"
   ]
  },
  {
   "cell_type": "code",
   "execution_count": null,
   "id": "c2b351f2-0ccb-4884-9dff-b49056df4694",
   "metadata": {},
   "outputs": [],
   "source": [
    "timeliness_df.head(2)"
   ]
  },
  {
   "cell_type": "code",
   "execution_count": null,
   "id": "9eb97269-c04c-4937-8b0e-20343a1717d0",
   "metadata": {},
   "outputs": [],
   "source": [
    "def base_facet_chart(\n",
    "    df: pd.DataFrame,\n",
    "    direction_to_filter: int,\n",
    "    y_col: str,\n",
    "    color_col: str,\n",
    "    facet_col: str,\n",
    "    title: str,\n",
    "    subtitle: str,\n",
    "):\n",
    "    tooltip_cols = [\n",
    "        \"Period\",\n",
    "        \"Route\",\n",
    "        \"Organization\",\n",
    "        \"Date\",\n",
    "        \"Direction\",\n",
    "        y_col,\n",
    "        color_col,\n",
    "    ]\n",
    "\n",
    "    try:\n",
    "        title = title + \" for Direction \" + str(direction_to_filter)\n",
    "    except:\n",
    "        pass\n",
    "\n",
    "    max_y = section2_utils.set_y_axis(df, y_col)\n",
    "    df = section2_utils.clean_data_charts(df, y_col)\n",
    "\n",
    "    chart = (\n",
    "        alt.Chart(df)\n",
    "        .mark_bar(size=7, clip=True)\n",
    "        .encode(\n",
    "            x=alt.X(\n",
    "                \"yearmonthdate(Date):O\",\n",
    "                title=[\"Date\"],\n",
    "                axis=alt.Axis(labelAngle=-45, format=\"%b %Y\"),\n",
    "            ),\n",
    "            y=alt.Y(\n",
    "                f\"{y_col}:Q\",\n",
    "                title=_report_utils.labeling(y_col),\n",
    "                scale=alt.Scale(domain=[0, max_y]),\n",
    "            ),\n",
    "            color=alt.Color(\n",
    "                f\"{color_col}:N\",\n",
    "                title=_report_utils.labeling(color_col),\n",
    "                scale=alt.Scale(range=color_dict[\"red_green_yellow\"]),\n",
    "            ),\n",
    "            tooltip=tooltip_cols,\n",
    "        )\n",
    "    )\n",
    "    chart = chart.properties(width=200, height=250)\n",
    "    chart = chart.facet(column=alt.Column(f\"{facet_col}:N\",)).properties(\n",
    "        title={\n",
    "            \"text\": title,\n",
    "            \"subtitle\": subtitle,\n",
    "        }\n",
    "    )\n",
    "\n",
    "    return chart"
   ]
  },
  {
   "cell_type": "code",
   "execution_count": null,
   "id": "fd219ef4-cf18-4b67-a50e-8fcc64ce29f4",
   "metadata": {},
   "outputs": [],
   "source": [
    "(\n",
    "    (\n",
    "        base_facet_chart(\n",
    "            timeliness_df.loc[timeliness_df[\"dir_0_1\"] == 0],\n",
    "            0,\n",
    "            \"value\",\n",
    "            \"variable\",\n",
    "            \"Period\",\n",
    "            readable_dict[\"timeliness_trips_graph\"][\"title\"],\n",
    "            readable_dict[\"timeliness_trips_graph\"][\"subtitle\"],\n",
    "        )\n",
    "    )\n",
    "    .add_params(xcol_param)\n",
    "    .transform_filter(xcol_param)\n",
    ")"
   ]
  },
  {
   "cell_type": "code",
   "execution_count": null,
   "id": "fd1e5b1f-ef4a-4195-9fa0-c05cfc30972a",
   "metadata": {},
   "outputs": [],
   "source": [
    "(\n",
    "    (\n",
    "        base_facet_chart(\n",
    "            timeliness_df.loc[timeliness_df[\"dir_0_1\"] == 1],\n",
    "            1,\n",
    "            \"value\",\n",
    "            \"variable\",\n",
    "            \"Period\",\n",
    "            readable_dict[\"timeliness_trips_graph\"][\"title\"],\n",
    "            readable_dict[\"timeliness_trips_graph\"][\"subtitle\"],\n",
    "        )\n",
    "    )\n",
    "    .add_params(xcol_param)\n",
    "    .transform_filter(xcol_param)\n",
    ")"
   ]
  },
  {
   "cell_type": "markdown",
   "id": "cfcfea12-990b-4d29-a48e-8e8f3682e27b",
   "metadata": {},
   "source": [
    "### Frequency Graphs\n",
    "* Just gets completely messed up."
   ]
  },
  {
   "cell_type": "code",
   "execution_count": null,
   "id": "8abda09d-ee19-4bd6-9f1a-8b5c81d8f76a",
   "metadata": {},
   "outputs": [],
   "source": [
    "def frequency_chart2(\n",
    "    df: pd.DataFrame, direction_id: int, title: str, subtitle: str\n",
    "):\n",
    "    df[\"Frequency in Minutes\"] = (\n",
    "        \"A trip going this direction comes every \"\n",
    "        + df.frequency_in_minutes.astype(int).astype(str)\n",
    "        + \" minutes\"\n",
    "    )\n",
    "    df = section2_utils.clean_data_charts(df, \"frequency_in_minutes\")\n",
    "    df = df.loc[df.dir_0_1 == direction_id].reset_index(drop=True)\n",
    "\n",
    "    fixed_x_values = [0, 30, 60, 90, 120, 150, 180, 210, 240]\n",
    "\n",
    "    color_scale = alt.Scale(\n",
    "        domain=color_dict[\"freq_domain\"], range=color_dict[\"freq_range\"]\n",
    "    )\n",
    "\n",
    "    chart = (\n",
    "        alt.Chart(df)\n",
    "        .mark_bar(size=7, clip=True)\n",
    "        .encode(\n",
    "            y=alt.Y(\n",
    "                \"yearmonthdate(Date):O\",\n",
    "                title=[\"Date\"],\n",
    "                axis=alt.Axis(format=\"%b %Y\"),\n",
    "            ),\n",
    "            x=alt.X(\n",
    "                \"frequency_in_minutes:Q\",\n",
    "                title=_report_utils.labeling(\"frequency_in_minutes\"),\n",
    "                scale=alt.Scale(domain=[0, 240]),\n",
    "            ),\n",
    "            color=alt.Color(\n",
    "                \"frequency_in_minutes:Q\",\n",
    "                scale=color_scale,\n",
    "                title=_report_utils.labeling(\"frequency_in_minutes\"),\n",
    "            ),\n",
    "            tooltip=[\"Date\", \"Route\", \"Frequency in Minutes\", \"Period\", \"Direction\"],\n",
    "        )\n",
    "    )\n",
    "\n",
    "    chart = chart.properties(width=150, height=150)\n",
    "\n",
    "    title = title + \" for Direction \" + str(direction_id)\n",
    "    chart = chart.facet(column=alt.Column(\"Period:N\")).properties(\n",
    "        title={\n",
    "            \"text\": title,\n",
    "            \"subtitle\": subtitle,\n",
    "        }\n",
    "    )\n",
    "    return chart"
   ]
  },
  {
   "cell_type": "code",
   "execution_count": null,
   "id": "e47227e2-df84-4670-85ab-8c6a599b882a",
   "metadata": {},
   "outputs": [],
   "source": [
    "frequency_chart2(\n",
    "    df,\n",
    "    0,\n",
    "    readable_dict[\"frequency_graph\"][\"title\"],\n",
    "    readable_dict[\"frequency_graph\"][\"subtitle\"],\n",
    ").add_params(xcol_param).transform_filter(xcol_param)"
   ]
  },
  {
   "cell_type": "code",
   "execution_count": null,
   "id": "fb677988-e528-4bc1-b7fc-b6f2b35fcf67",
   "metadata": {},
   "outputs": [],
   "source": [
    "frequency_chart2(\n",
    "    df,\n",
    "    1,\n",
    "    readable_dict[\"frequency_graph\"][\"title\"],\n",
    "    \"\",\n",
    ").add_params(xcol_param).transform_filter(xcol_param)"
   ]
  },
  {
   "cell_type": "markdown",
   "id": "64c8e730-35db-4e0e-9751-232cc37d9955",
   "metadata": {},
   "source": [
    "### Text"
   ]
  },
  {
   "cell_type": "code",
   "execution_count": null,
   "id": "865e1753-3f3b-47eb-aa31-10ae7760a85e",
   "metadata": {},
   "outputs": [],
   "source": [
    "route_stats_df = section2_utils.route_stats(df)"
   ]
  },
  {
   "cell_type": "code",
   "execution_count": null,
   "id": "8d7f26bf-a7bd-4e4f-b96e-841e3b89265e",
   "metadata": {},
   "outputs": [],
   "source": [
    "def create_text_table(df: pd.DataFrame, direction: int):\n",
    "\n",
    "    df = df.loc[df[\"Dir 0 1\"] == direction].drop_duplicates().reset_index(drop=True)\n",
    "    \n",
    "    df2 = df.melt(\n",
    "            id_vars=[\n",
    "                \"Route\",\n",
    "                \"Direction\",\n",
    "            ],\n",
    "            value_vars=[\n",
    "                \"Average Scheduled Service (Trip Minutes)\",\n",
    "                \"Average Stop Distance (Miles)\",\n",
    "                \"# Scheduled Trips\",\n",
    "                \"Gtfs Availability\",\n",
    "                \"Peak Avg Speed\",\n",
    "                \"Peak Scheduled Trips\",\n",
    "                \"Peak Hourly Freq\",\n",
    "                \"Offpeak Avg Speed\",\n",
    "                \"Offpeak Scheduled Trips\",\n",
    "                \"Trips Per Hour\",\n",
    "            ],\n",
    "        )\n",
    "    # Create a decoy column to center all the text\n",
    "    df2[\"Zero\"] = 0\n",
    "\n",
    "    df2[\"combo_col\"] = df2.variable.astype(str) + \": \" + df2.value.astype(str)\n",
    "    df2.combo_col = df2.combo_col.str.replace(\n",
    "            \"schedule_and_vp\", \"Schedule and Realtime Data\",\n",
    "        ).str.replace(\"Gtfs\", \"GTFS\")\n",
    "    text_chart = (\n",
    "            alt.Chart(df2)\n",
    "            .mark_text()\n",
    "            .encode(x=alt.X(\"Zero:Q\", axis=None), y=alt.Y(\"combo_col\", axis=None))\n",
    "        )\n",
    "    \n",
    "    text_chart = text_chart.encode(text=\"combo_col:N\").properties(\n",
    "            title=f\"Route Statistics for Direction {direction}\",\n",
    "            width=400,\n",
    "            height=250,\n",
    "        )\n",
    "    return text_chart"
   ]
  },
  {
   "cell_type": "code",
   "execution_count": null,
   "id": "e9570099-f690-43bd-b6b9-ba3ae8b844d3",
   "metadata": {},
   "outputs": [],
   "source": [
    "(create_text_table(route_stats_df,0).add_params(xcol_param)\n",
    "    .transform_filter(xcol_param))"
   ]
  }
 ],
 "metadata": {
  "kernelspec": {
   "display_name": "Python 3 (ipykernel)",
   "language": "python",
   "name": "python3"
  },
  "language_info": {
   "codemirror_mode": {
    "name": "ipython",
    "version": 3
   },
   "file_extension": ".py",
   "mimetype": "text/x-python",
   "name": "python",
   "nbconvert_exporter": "python",
   "pygments_lexer": "ipython3",
   "version": "3.9.13"
  }
 },
 "nbformat": 4,
 "nbformat_minor": 5
}
