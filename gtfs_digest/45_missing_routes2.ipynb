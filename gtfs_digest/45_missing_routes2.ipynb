{
 "cells": [
  {
   "cell_type": "markdown",
   "id": "df9388c2-122f-470c-8b96-4f7cbffea26f",
   "metadata": {},
   "source": [
    "## Finding Missing Routes\n",
    "* [Issue](https://github.com/cal-itp/data-analyses/issues/1312): Capital Corridor doesn't have any rail routes. \n",
    "* [Most of Santa Maria's routes not showing up in GTFS Digest](https://github.com/cal-itp/data-analyses/issues/1313)\n",
    "* Rerun all the scripts that create the underlying dataframes for November date (`df_sched`,`df_avg_speeds`,`df_rt_sched`) and merge them using `gtfs_digest/merge_data.merge_data_sources_by_route_direction()`"
   ]
  },
  {
   "cell_type": "code",
   "execution_count": 7,
   "id": "d898cfa3-466e-4ca2-8484-e381b6fc4ce1",
   "metadata": {},
   "outputs": [],
   "source": [
    "import geopandas as gpd\n",
    "import merge_data\n",
    "import numpy as np\n",
    "import pandas as pd\n",
    "from update_vars import GTFS_DATA_DICT, RT_SCHED_GCS, SCHED_GCS, SEGMENT_GCS"
   ]
  },
  {
   "cell_type": "code",
   "execution_count": 2,
   "id": "7a5a0cb2-d314-47aa-886c-5ebdf143905b",
   "metadata": {},
   "outputs": [],
   "source": [
    "pd.options.display.max_columns = 100\n",
    "pd.options.display.float_format = \"{:.2f}\".format\n",
    "pd.set_option(\"display.max_rows\", None)\n",
    "pd.set_option(\"display.max_colwidth\", None)"
   ]
  },
  {
   "cell_type": "code",
   "execution_count": 3,
   "id": "c4d1d951-101a-4bed-8774-d2c3ff1605e9",
   "metadata": {},
   "outputs": [],
   "source": [
    "org_name_lists = [\"Capitol Corridor Joint Powers Authority\", \"City of Santa Maria\"]"
   ]
  },
  {
   "cell_type": "code",
   "execution_count": 4,
   "id": "efde4bc7-fd20-4c73-9ec4-6982d4643e39",
   "metadata": {},
   "outputs": [],
   "source": [
    "analysis_date_list = [\"2024-11-13\"]"
   ]
  },
  {
   "cell_type": "code",
   "execution_count": 5,
   "id": "93682bff-3d64-4d60-83a6-98234cc2bbdd",
   "metadata": {},
   "outputs": [],
   "source": [
    "one_analysis_date = \"2024-11-13\""
   ]
  },
  {
   "cell_type": "code",
   "execution_count": 6,
   "id": "69a13fbc-7af0-408d-b4f1-1a78a35ffa86",
   "metadata": {},
   "outputs": [],
   "source": [
    "schd_keys = [\n",
    "    \"5a8721fe96786fcd25fba1f8a0ee6358\",\n",
    "    \"73105f2d1cabc8170ab066d96863c5d5\",\n",
    "    \"f5a749dd65924e025b1293c58f95f8d6\",\n",
    "]"
   ]
  },
  {
   "cell_type": "markdown",
   "id": "b3197201-0f2c-471e-bc84-fb518e9a2c93",
   "metadata": {},
   "source": [
    "### Run the scripts that create the following dataframes for November.\n",
    "* `df_sched`: `gtfs_funnel/schedule_stats_by_route_direction`\n",
    "* `df_rt_sched`: `rt_scheduled_v_ran/scripts/rt_v_scheduled_routes`\n",
    "* `df_avg_speeds`: `rt_segment_speeds/script/average_summary_speed`"
   ]
  },
  {
   "cell_type": "code",
   "execution_count": 9,
   "id": "c1bfd907-5907-4f08-a841-27ff992b10fb",
   "metadata": {},
   "outputs": [
    {
     "data": {
      "text/plain": [
       "'gs://calitp-analytics-data/data-analyses/rt_vs_schedule/'"
      ]
     },
     "execution_count": 9,
     "metadata": {},
     "output_type": "execute_result"
    }
   ],
   "source": [
    "# df_sched\n",
    "RT_SCHED_GCS"
   ]
  },
  {
   "cell_type": "code",
   "execution_count": 8,
   "id": "d377f69c-b363-4b1d-889b-941a88eede10",
   "metadata": {},
   "outputs": [],
   "source": [
    "ROUTE_DIR_EXPORT = GTFS_DATA_DICT.rt_vs_schedule_tables.sched_route_direction_metrics"
   ]
  },
  {
   "cell_type": "code",
   "execution_count": 13,
   "id": "ae25396c-3eb6-4c2a-b036-ffda5c481b5a",
   "metadata": {},
   "outputs": [
    {
     "data": {
      "text/plain": [
       "'schedule_route_dir/schedule_route_direction_metrics'"
      ]
     },
     "execution_count": 13,
     "metadata": {},
     "output_type": "execute_result"
    }
   ],
   "source": [
    "ROUTE_DIR_EXPORT"
   ]
  },
  {
   "cell_type": "code",
   "execution_count": 11,
   "id": "c7b96e3b-d0ef-4c56-b163-292745a9e7e5",
   "metadata": {},
   "outputs": [],
   "source": [
    "# df_avg_speeds\n",
    "segment_type = \"rt_stop_times\"\n",
    "    \n",
    "dict_inputs = GTFS_DATA_DICT[segment_type]\n",
    "ROUTE_DIR_FILE = dict_inputs[\"route_dir_single_summary\"]"
   ]
  },
  {
   "cell_type": "code",
   "execution_count": 14,
   "id": "c9b29c6e-6255-43ef-9409-94c152acfa93",
   "metadata": {},
   "outputs": [
    {
     "data": {
      "text/plain": [
       "'gs://calitp-analytics-data/data-analyses/rt_segment_speeds/'"
      ]
     },
     "execution_count": 14,
     "metadata": {},
     "output_type": "execute_result"
    }
   ],
   "source": [
    "SEGMENT_GCS"
   ]
  },
  {
   "cell_type": "code",
   "execution_count": 12,
   "id": "ca8c3fc6-a08f-4c49-b020-266c50b9a49e",
   "metadata": {},
   "outputs": [
    {
     "data": {
      "text/plain": [
       "'rollup_singleday/speeds_route_dir'"
      ]
     },
     "execution_count": 12,
     "metadata": {},
     "output_type": "execute_result"
    }
   ],
   "source": [
    "ROUTE_DIR_FILE"
   ]
  },
  {
   "cell_type": "code",
   "execution_count": 15,
   "id": "b31aa6db-06cc-4af2-b27e-ad18b58f45bb",
   "metadata": {},
   "outputs": [
    {
     "data": {
      "text/plain": [
       "'gs://calitp-analytics-data/data-analyses/rt_vs_schedule/'"
      ]
     },
     "execution_count": 15,
     "metadata": {},
     "output_type": "execute_result"
    }
   ],
   "source": [
    "# df_rt_sched\n",
    "RT_SCHED_GCS"
   ]
  },
  {
   "cell_type": "code",
   "execution_count": 18,
   "id": "b4aaed52-8c8d-4368-892c-a4a6ffbc2a3a",
   "metadata": {},
   "outputs": [
    {
     "data": {
      "text/plain": [
       "'vp_route_dir/route_direction_metrics'"
      ]
     },
     "execution_count": 18,
     "metadata": {},
     "output_type": "execute_result"
    }
   ],
   "source": [
    "GTFS_DATA_DICT.rt_vs_schedule_tables.vp_route_direction_metrics"
   ]
  },
  {
   "cell_type": "code",
   "execution_count": null,
   "id": "26a12c09-82a5-4199-801f-e374bb20b361",
   "metadata": {},
   "outputs": [],
   "source": []
  }
 ],
 "metadata": {
  "kernelspec": {
   "display_name": "Python 3 (ipykernel)",
   "language": "python",
   "name": "python3"
  },
  "language_info": {
   "codemirror_mode": {
    "name": "ipython",
    "version": 3
   },
   "file_extension": ".py",
   "mimetype": "text/x-python",
   "name": "python",
   "nbconvert_exporter": "python",
   "pygments_lexer": "ipython3",
   "version": "3.9.13"
  }
 },
 "nbformat": 4,
 "nbformat_minor": 5
}
