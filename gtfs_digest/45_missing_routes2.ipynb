{
 "cells": [
  {
   "cell_type": "markdown",
   "id": "df9388c2-122f-470c-8b96-4f7cbffea26f",
   "metadata": {},
   "source": [
    "## Finding Missing Routes\n",
    "* [Issue](https://github.com/cal-itp/data-analyses/issues/1312): Capital Corridor doesn't have any rail routes. \n",
    "* [Most of Santa Maria's routes not showing up in GTFS Digest](https://github.com/cal-itp/data-analyses/issues/1313)\n",
    "* Rerun all the scripts that create the underlying dataframes for November date (`df_sched`,`df_avg_speeds`,`df_rt_sched`) and merge them using `gtfs_digest/merge_data.merge_data_sources_by_route_direction()`"
   ]
  },
  {
   "cell_type": "code",
   "execution_count": 1,
   "id": "d898cfa3-466e-4ca2-8484-e381b6fc4ce1",
   "metadata": {},
   "outputs": [
    {
     "ename": "SyntaxError",
     "evalue": "invalid syntax (_section2_utils.py, line 896)",
     "output_type": "error",
     "traceback": [
      "Traceback \u001b[0;36m(most recent call last)\u001b[0m:\n",
      "\u001b[0m  File \u001b[1;32m/opt/conda/lib/python3.9/site-packages/IPython/core/interactiveshell.py:3508\u001b[0m in \u001b[1;35mrun_code\u001b[0m\n    exec(code_obj, self.user_global_ns, self.user_ns)\u001b[0m\n",
      "\u001b[0;36m  Cell \u001b[0;32mIn[1], line 1\u001b[0;36m\n\u001b[0;31m    import _section2_utils\u001b[0;36m\n",
      "\u001b[0;36m  File \u001b[0;32m~/data-analyses/gtfs_digest/_section2_utils.py:896\u001b[0;36m\u001b[0m\n\u001b[0;31m    y_col =  \"Speed (MPH)\",\u001b[0m\n\u001b[0m    ^\u001b[0m\n\u001b[0;31mSyntaxError\u001b[0m\u001b[0;31m:\u001b[0m invalid syntax\n"
     ]
    }
   ],
   "source": [
    "import _section2_utils\n",
    "import geopandas as gpd\n",
    "import merge_data\n",
    "import numpy as np\n",
    "import pandas as pd\n",
    "from segment_speed_utils import gtfs_schedule_wrangling\n",
    "from update_vars import GTFS_DATA_DICT, RT_SCHED_GCS, SCHED_GCS, SEGMENT_GCS"
   ]
  },
  {
   "cell_type": "code",
   "execution_count": null,
   "id": "7a5a0cb2-d314-47aa-886c-5ebdf143905b",
   "metadata": {},
   "outputs": [],
   "source": [
    "pd.options.display.max_columns = 100\n",
    "pd.options.display.float_format = \"{:.2f}\".format\n",
    "pd.set_option(\"display.max_rows\", None)\n",
    "pd.set_option(\"display.max_colwidth\", None)"
   ]
  },
  {
   "cell_type": "code",
   "execution_count": null,
   "id": "c4d1d951-101a-4bed-8774-d2c3ff1605e9",
   "metadata": {},
   "outputs": [],
   "source": [
    "org_name_lists = [\"Capitol Corridor Joint Powers Authority\", \"City of Santa Maria\"]"
   ]
  },
  {
   "cell_type": "code",
   "execution_count": 2,
   "id": "efde4bc7-fd20-4c73-9ec4-6982d4643e39",
   "metadata": {},
   "outputs": [],
   "source": [
    "analysis_date_list = [\"2024-11-13\"]"
   ]
  },
  {
   "cell_type": "code",
   "execution_count": 3,
   "id": "93682bff-3d64-4d60-83a6-98234cc2bbdd",
   "metadata": {},
   "outputs": [],
   "source": [
    "one_analysis_date = \"2024-11-13\""
   ]
  },
  {
   "cell_type": "code",
   "execution_count": 4,
   "id": "69a13fbc-7af0-408d-b4f1-1a78a35ffa86",
   "metadata": {},
   "outputs": [],
   "source": [
    "schd_keys = [\n",
    "    \"5a8721fe96786fcd25fba1f8a0ee6358\",\n",
    "    \"73105f2d1cabc8170ab066d96863c5d5\",\n",
    "    \"f5a749dd65924e025b1293c58f95f8d6\",\n",
    "]"
   ]
  },
  {
   "cell_type": "markdown",
   "id": "b3197201-0f2c-471e-bc84-fb518e9a2c93",
   "metadata": {},
   "source": [
    "### Run the scripts that create the following dataframes for November.\n",
    "* `df_sched`: `gtfs_funnel/schedule_stats_by_route_direction`\n",
    "* `df_rt_sched`: `rt_scheduled_v_ran/scripts/rt_v_scheduled_routes`\n",
    "* `df_avg_speeds`: `rt_segment_speeds/script/average_summary_speed`"
   ]
  },
  {
   "cell_type": "code",
   "execution_count": 5,
   "id": "c1bfd907-5907-4f08-a841-27ff992b10fb",
   "metadata": {},
   "outputs": [
    {
     "ename": "NameError",
     "evalue": "name 'RT_SCHED_GCS' is not defined",
     "output_type": "error",
     "traceback": [
      "\u001b[0;31m---------------------------------------------------------------------------\u001b[0m",
      "\u001b[0;31mNameError\u001b[0m                                 Traceback (most recent call last)",
      "Cell \u001b[0;32mIn[5], line 2\u001b[0m\n\u001b[1;32m      1\u001b[0m \u001b[38;5;66;03m# df_sched\u001b[39;00m\n\u001b[0;32m----> 2\u001b[0m \u001b[43mRT_SCHED_GCS\u001b[49m\n",
      "\u001b[0;31mNameError\u001b[0m: name 'RT_SCHED_GCS' is not defined"
     ]
    }
   ],
   "source": [
    "# df_sched\n",
    "RT_SCHED_GCS"
   ]
  },
  {
   "cell_type": "code",
   "execution_count": null,
   "id": "d377f69c-b363-4b1d-889b-941a88eede10",
   "metadata": {},
   "outputs": [],
   "source": [
    "ROUTE_DIR_EXPORT = GTFS_DATA_DICT.rt_vs_schedule_tables.sched_route_direction_metrics"
   ]
  },
  {
   "cell_type": "code",
   "execution_count": null,
   "id": "ae25396c-3eb6-4c2a-b036-ffda5c481b5a",
   "metadata": {},
   "outputs": [],
   "source": [
    "ROUTE_DIR_EXPORT"
   ]
  },
  {
   "cell_type": "code",
   "execution_count": null,
   "id": "7e3a136e-f4a0-4943-b603-0435a759bfbe",
   "metadata": {},
   "outputs": [],
   "source": [
    "df_schedule = pd.read_parquet(\n",
    "    \"gs://calitp-analytics-data/data-analyses/rt_vs_schedule/schedule_route_dir/schedule_route_direction_metrics_2024-11-13.parquet\"\n",
    ")"
   ]
  },
  {
   "cell_type": "code",
   "execution_count": null,
   "id": "266efbce-6c7a-4cc4-84ee-f82de18cd0c6",
   "metadata": {},
   "outputs": [],
   "source": [
    "df_schedule.columns"
   ]
  },
  {
   "cell_type": "code",
   "execution_count": null,
   "id": "c7dd1435-60ee-4894-bcd1-69b1ad8c1c41",
   "metadata": {},
   "outputs": [],
   "source": [
    "filtered_df_schedule = df_schedule.loc[\n",
    "    df_schedule.schedule_gtfs_dataset_key.isin(schd_keys)\n",
    "]"
   ]
  },
  {
   "cell_type": "code",
   "execution_count": null,
   "id": "440e76d9-43f2-495b-9f97-bc0f77c44435",
   "metadata": {},
   "outputs": [],
   "source": [
    "filtered_df_schedule.route_id.unique()"
   ]
  },
  {
   "cell_type": "code",
   "execution_count": null,
   "id": "c7b96e3b-d0ef-4c56-b163-292745a9e7e5",
   "metadata": {},
   "outputs": [],
   "source": [
    "# df_avg_speeds\n",
    "segment_type = \"rt_stop_times\"\n",
    "\n",
    "dict_inputs = GTFS_DATA_DICT[segment_type]\n",
    "ROUTE_DIR_FILE = dict_inputs[\"route_dir_single_summary\"]"
   ]
  },
  {
   "cell_type": "code",
   "execution_count": null,
   "id": "c9b29c6e-6255-43ef-9409-94c152acfa93",
   "metadata": {},
   "outputs": [],
   "source": [
    "SEGMENT_GCS"
   ]
  },
  {
   "cell_type": "code",
   "execution_count": null,
   "id": "ca8c3fc6-a08f-4c49-b020-266c50b9a49e",
   "metadata": {},
   "outputs": [],
   "source": [
    "ROUTE_DIR_FILE"
   ]
  },
  {
   "cell_type": "markdown",
   "id": "3e58057d-4851-4da5-b30b-873031266279",
   "metadata": {},
   "source": [
    "#### Average speeds is missing a lot of stuff"
   ]
  },
  {
   "cell_type": "code",
   "execution_count": null,
   "id": "2b012e83-e2c1-4198-a35f-8147a20dc6c6",
   "metadata": {},
   "outputs": [],
   "source": [
    "df_avg_speeds = pd.read_parquet(\n",
    "    \"gs://calitp-analytics-data/data-analyses/rt_segment_speeds/rollup_singleday/speeds_route_dir_2024-11-13.parquet\"\n",
    ")"
   ]
  },
  {
   "cell_type": "code",
   "execution_count": null,
   "id": "8741de0f-531d-4a47-9c7d-fae01fe91c1f",
   "metadata": {},
   "outputs": [],
   "source": [
    "filtered_df_avg_speeds = df_avg_speeds.loc[\n",
    "    df_avg_speeds.schedule_gtfs_dataset_key.isin(schd_keys)\n",
    "]"
   ]
  },
  {
   "cell_type": "code",
   "execution_count": null,
   "id": "1fb0dfbe-8574-4427-87a5-b514aa77c753",
   "metadata": {},
   "outputs": [],
   "source": [
    "filtered_df_avg_speeds.route_id.unique()"
   ]
  },
  {
   "cell_type": "code",
   "execution_count": null,
   "id": "cdd75c43-d2e7-49bd-972e-4a28c05feedb",
   "metadata": {
    "scrolled": true,
    "tags": []
   },
   "outputs": [],
   "source": [
    "df_avg_speeds.loc[\n",
    "    df_avg_speeds.organization_name == \"Marin County Transit District\"\n",
    "].drop(columns=[\"geometry\"])"
   ]
  },
  {
   "cell_type": "code",
   "execution_count": null,
   "id": "e2defe91-ac5c-44dd-8ab2-44ae06a22a61",
   "metadata": {
    "scrolled": true,
    "tags": []
   },
   "outputs": [],
   "source": [
    "# filtered_df_avg_speeds[[ 'route_id', 'direction_id', 'time_period','speed_mph']]"
   ]
  },
  {
   "cell_type": "code",
   "execution_count": null,
   "id": "b31aa6db-06cc-4af2-b27e-ad18b58f45bb",
   "metadata": {},
   "outputs": [],
   "source": [
    "# df_rt_sched\n",
    "RT_SCHED_GCS"
   ]
  },
  {
   "cell_type": "code",
   "execution_count": null,
   "id": "b4aaed52-8c8d-4368-892c-a4a6ffbc2a3a",
   "metadata": {},
   "outputs": [],
   "source": [
    "GTFS_DATA_DICT.rt_vs_schedule_tables.vp_route_direction_metrics"
   ]
  },
  {
   "cell_type": "code",
   "execution_count": null,
   "id": "26a12c09-82a5-4199-801f-e374bb20b361",
   "metadata": {},
   "outputs": [],
   "source": [
    "df_rt_sched = pd.read_parquet(\n",
    "    \"gs://calitp-analytics-data/data-analyses/rt_vs_schedule/vp_route_dir/route_direction_metrics_2024-11-13.parquet\"\n",
    ")"
   ]
  },
  {
   "cell_type": "code",
   "execution_count": null,
   "id": "2dbe65fb-f60d-431e-b8f4-143db6cfa5da",
   "metadata": {},
   "outputs": [],
   "source": [
    "df_rt_sched.columns"
   ]
  },
  {
   "cell_type": "markdown",
   "id": "a8209979-ea65-44e6-92bc-94c1d43e4e57",
   "metadata": {},
   "source": [
    "### Open up original file"
   ]
  },
  {
   "cell_type": "code",
   "execution_count": null,
   "id": "a4df5906-9ef9-49e6-875b-95b36afa4063",
   "metadata": {},
   "outputs": [],
   "source": [
    "schd_vp_url = f\"{GTFS_DATA_DICT.digest_tables.dir}{GTFS_DATA_DICT.digest_tables.route_schedule_vp}.parquet\""
   ]
  },
  {
   "cell_type": "code",
   "execution_count": null,
   "id": "185e680c-6027-47fa-b488-cb0b20e27a71",
   "metadata": {},
   "outputs": [],
   "source": [
    "schd_vp_url"
   ]
  },
  {
   "cell_type": "code",
   "execution_count": null,
   "id": "534a48bf-de90-460c-9515-3d0e5519274d",
   "metadata": {},
   "outputs": [],
   "source": [
    "schd_vp_df = pd.read_parquet(schd_vp_url)"
   ]
  },
  {
   "cell_type": "code",
   "execution_count": null,
   "id": "20bf983a-bcc5-49ff-be63-0ef4207b801f",
   "metadata": {},
   "outputs": [],
   "source": [
    "schd_vp_df2 = schd_vp_df.loc[schd_vp_df.organization_name.isin(org_name_lists)]"
   ]
  },
  {
   "cell_type": "markdown",
   "id": "3becbc8b-4098-4b16-9bae-6aa50bd658f7",
   "metadata": {},
   "source": [
    "### Merge all the files based on `gtfs_digest/merge_data`"
   ]
  },
  {
   "cell_type": "code",
   "execution_count": null,
   "id": "3d6a52e5-1981-4eca-b166-76abe1420dfc",
   "metadata": {},
   "outputs": [],
   "source": [
    "service_date_datetime = pd.to_datetime(\"2024-11-13T00:00:00.000000000\")"
   ]
  },
  {
   "cell_type": "code",
   "execution_count": null,
   "id": "87556b98-3ac3-46ee-b9ef-eb0a10f29dab",
   "metadata": {},
   "outputs": [],
   "source": [
    "df_schedule[\"service_date\"] = service_date_datetime"
   ]
  },
  {
   "cell_type": "code",
   "execution_count": null,
   "id": "34d44c3d-ee9e-4fc5-b16c-7e2448b81d40",
   "metadata": {},
   "outputs": [],
   "source": [
    "df_rt_sched[\"service_date\"] = service_date_datetime"
   ]
  },
  {
   "cell_type": "code",
   "execution_count": null,
   "id": "a67a9a2a-9045-44de-84f5-7d5c1a678dfc",
   "metadata": {},
   "outputs": [],
   "source": [
    "df_avg_speeds[\"service_date\"] = service_date_datetime"
   ]
  },
  {
   "cell_type": "code",
   "execution_count": null,
   "id": "305c73b1-41f3-4237-ac0c-156097237e42",
   "metadata": {},
   "outputs": [],
   "source": [
    "df_crosswalk = merge_data.concatenate_crosswalk_organization(analysis_date_list)"
   ]
  },
  {
   "cell_type": "code",
   "execution_count": null,
   "id": "314c4209-f8f9-4c14-ba02-5b77705721a8",
   "metadata": {},
   "outputs": [],
   "source": [
    "route_time_cols = [\n",
    "    \"schedule_gtfs_dataset_key\",\n",
    "    \"route_id\",\n",
    "    \"direction_id\",\n",
    "    \"time_period\",\n",
    "]"
   ]
  },
  {
   "cell_type": "code",
   "execution_count": null,
   "id": "c4506f3c-3ed7-4648-a6bf-9faaa15cfcf2",
   "metadata": {},
   "outputs": [],
   "source": [
    "primary_typology = merge_data.set_primary_typology(df_schedule)"
   ]
  },
  {
   "cell_type": "code",
   "execution_count": null,
   "id": "09fc686a-6773-4bab-a0f3-c0342ab382db",
   "metadata": {},
   "outputs": [],
   "source": [
    "df_schedule2 = pd.merge(df_schedule, primary_typology, on=route_time_cols, how=\"left\")"
   ]
  },
  {
   "cell_type": "code",
   "execution_count": null,
   "id": "185d615b-cf0d-45ae-ab89-7e5ab1bab7c8",
   "metadata": {},
   "outputs": [],
   "source": []
  },
  {
   "cell_type": "code",
   "execution_count": null,
   "id": "d35b1214-e648-4d58-80aa-baca192bcbf4",
   "metadata": {},
   "outputs": [],
   "source": [
    "df = pd.merge(\n",
    "    df_schedule2,\n",
    "    df_rt_sched,\n",
    "    on=route_time_cols + [\"service_date\"],\n",
    "    how=\"outer\",\n",
    "    indicator=\"sched_rt_category\",\n",
    ").merge(\n",
    "    df_avg_speeds,\n",
    "    on=route_time_cols + [\"service_date\"],\n",
    "    how=\"outer\",\n",
    ")"
   ]
  },
  {
   "cell_type": "code",
   "execution_count": null,
   "id": "0a31a83c-c7f0-4d9d-a30a-12672bd5de54",
   "metadata": {},
   "outputs": [],
   "source": [
    "df = (\n",
    "    df.assign(\n",
    "        sched_rt_category=df.sched_rt_category.map(\n",
    "            gtfs_schedule_wrangling.sched_rt_category_dict\n",
    "        )\n",
    "    )\n",
    "    .pipe(\n",
    "        merge_data.merge_in_standardized_route_names,\n",
    "    )\n",
    "    .merge(\n",
    "        df_crosswalk,\n",
    "        on=[\"schedule_gtfs_dataset_key\", \"name\", \"service_date\"],\n",
    "        how=\"left\",\n",
    "    )\n",
    "    .pipe(\n",
    "        # Find the most common cardinal direction\n",
    "        gtfs_schedule_wrangling.top_cardinal_direction\n",
    "    )\n",
    ")"
   ]
  },
  {
   "cell_type": "code",
   "execution_count": null,
   "id": "7a51500f-6155-4c50-b484-3f05767d47ca",
   "metadata": {},
   "outputs": [],
   "source": [
    "df = df.rename(columns={\"n_trips\": \"n_scheduled_trips\"})"
   ]
  },
  {
   "cell_type": "code",
   "execution_count": null,
   "id": "67050044-6890-4230-bad8-e7eead2e890c",
   "metadata": {},
   "outputs": [],
   "source": [
    "integrify = [\n",
    "    \"n_scheduled_trips\",\n",
    "    \"n_vp_trips\",\n",
    "    \"minutes_atleast1_vp\",\n",
    "    \"minutes_atleast2_vp\",\n",
    "    \"total_vp\",\n",
    "    \"vp_in_shape\",\n",
    "    \"is_early\",\n",
    "    \"is_ontime\",\n",
    "    \"is_late\",\n",
    "]\n",
    "\n",
    "df[integrify] = df[integrify].fillna(0).astype(\"int\")"
   ]
  },
  {
   "cell_type": "code",
   "execution_count": null,
   "id": "88bfc756-435d-48a9-8ac0-81c49ef96933",
   "metadata": {},
   "outputs": [],
   "source": [
    "repeated_y_cols = list([col for col in df.columns if \"_y\" in col.lower()])"
   ]
  },
  {
   "cell_type": "code",
   "execution_count": null,
   "id": "47042af9-1976-4498-88d3-7211fd1fbd05",
   "metadata": {},
   "outputs": [],
   "source": [
    "df = df.drop(columns=repeated_y_cols)"
   ]
  },
  {
   "cell_type": "code",
   "execution_count": null,
   "id": "70781682-a47c-448d-b634-047fcb60abf9",
   "metadata": {},
   "outputs": [],
   "source": [
    "repeated_x_cols = list([col for col in df.columns if \"_x\" in col.lower()])"
   ]
  },
  {
   "cell_type": "code",
   "execution_count": null,
   "id": "e3fd6d14-9f4e-4954-b32e-bb81382b7299",
   "metadata": {},
   "outputs": [],
   "source": [
    "df = df.drop(columns=repeated_x_cols)"
   ]
  },
  {
   "cell_type": "code",
   "execution_count": null,
   "id": "4f1ab64c-1da2-4898-a4d5-6534f1580a0e",
   "metadata": {},
   "outputs": [],
   "source": [
    "df.columns"
   ]
  },
  {
   "cell_type": "code",
   "execution_count": null,
   "id": "fbb26e1d-3325-4b90-865a-668d777aaa49",
   "metadata": {},
   "outputs": [],
   "source": [
    "df.loc[df.schedule_gtfs_dataset_key.isin(schd_keys)].route_id.value_counts()"
   ]
  },
  {
   "cell_type": "code",
   "execution_count": null,
   "id": "f461c76c-b5fa-453c-ae1a-c90ec5e6a437",
   "metadata": {},
   "outputs": [],
   "source": [
    "df.info()"
   ]
  },
  {
   "cell_type": "code",
   "execution_count": null,
   "id": "2b4c1331-43e7-4a72-8bef-760114faf9a7",
   "metadata": {},
   "outputs": [],
   "source": [
    "df.sched_rt_category.value_counts()"
   ]
  },
  {
   "cell_type": "code",
   "execution_count": null,
   "id": "36d41d75-3390-4a32-a8c6-6da23d675862",
   "metadata": {},
   "outputs": [],
   "source": [
    "filtered_df = df.loc[df.schedule_gtfs_dataset_key.isin(schd_keys)]"
   ]
  },
  {
   "cell_type": "code",
   "execution_count": null,
   "id": "f16bbe7a-c1db-41ac-8d52-81627218da4c",
   "metadata": {
    "scrolled": true,
    "tags": []
   },
   "outputs": [],
   "source": [
    "filtered_df[\n",
    "    [\n",
    "        \"organization_name\",\n",
    "        \"route_combined_name\",\n",
    "        \"sched_rt_category\",\n",
    "        \"speed_mph\",\n",
    "        \"frequency\",\n",
    "        \"direction_id\",\n",
    "    ]\n",
    "].drop_duplicates()"
   ]
  },
  {
   "cell_type": "markdown",
   "id": "df87ba57-ed93-40b0-9177-512d89d7995e",
   "metadata": {},
   "source": [
    "### Save this temporarily "
   ]
  },
  {
   "cell_type": "code",
   "execution_count": null,
   "id": "d669b728-d3cd-4e74-941b-3f82e87d071c",
   "metadata": {},
   "outputs": [],
   "source": [
    "df.to_parquet(\n",
    "    \"gs://calitp-analytics-data/data-analyses/rt_vs_schedule/digest/schedule_vp_metrics_AH_TESTING.parquet\"\n",
    ")"
   ]
  },
  {
   "cell_type": "markdown",
   "id": "2cd6bf6f-24f4-4b5e-aa83-2dc6f7266304",
   "metadata": {},
   "source": [
    "### Check for speeds again"
   ]
  },
  {
   "cell_type": "code",
   "execution_count": null,
   "id": "f5606dd1-caf2-48ba-935d-6ffa24a76b1a",
   "metadata": {},
   "outputs": [],
   "source": [
    "organization_name = \"Marin County Transit District\""
   ]
  },
  {
   "cell_type": "code",
   "execution_count": null,
   "id": "9808f1d8-c2f7-4276-a46b-c495dea1fcde",
   "metadata": {},
   "outputs": [],
   "source": [
    "y_col = \"Speed (MPH)\""
   ]
  },
  {
   "cell_type": "code",
   "execution_count": null,
   "id": "270007af-fc3c-4bba-af03-a754f9f972ef",
   "metadata": {},
   "outputs": [],
   "source": [
    "marin_county = _section2_utils.load_schedule_vp_metrics(organization_name)"
   ]
  },
  {
   "cell_type": "code",
   "execution_count": null,
   "id": "da4738aa-1dd7-42ba-b51e-2fcb94031d37",
   "metadata": {
    "scrolled": true,
    "tags": []
   },
   "outputs": [],
   "source": [
    "marin_county[\n",
    "    [\"GTFS Availability\", \"Route\", \"Route ID\", \"Direction\", \"Period\", \"Speed (MPH)\"]\n",
    "].sort_values(by=\"Route ID\")"
   ]
  },
  {
   "cell_type": "code",
   "execution_count": null,
   "id": "40813f67-aad6-4a17-b6fb-aac0c543457e",
   "metadata": {},
   "outputs": [],
   "source": [
    "marin_county_route_29 = marin_county.loc[\n",
    "    marin_county.Route == \"29 Downtown San Rafael - E. Corte Madera\"\n",
    "]"
   ]
  },
  {
   "cell_type": "code",
   "execution_count": null,
   "id": "cbd8bccd-4815-43a5-a8ed-1b8ca1a89501",
   "metadata": {},
   "outputs": [],
   "source": [
    "import altair as alt"
   ]
  },
  {
   "cell_type": "code",
   "execution_count": null,
   "id": "229abd52-438d-4ceb-bb88-e07ca6eb00d2",
   "metadata": {},
   "outputs": [],
   "source": [
    "routes_list = marin_county[\"Route\"].unique().tolist()"
   ]
  },
  {
   "cell_type": "code",
   "execution_count": null,
   "id": "f1e259f9-1a20-41d4-9e9a-408f055495e3",
   "metadata": {},
   "outputs": [],
   "source": [
    "_section2_utils.base_facet_line(marin_county_route_29, y_col, \"Testing\", \"Testing\")"
   ]
  },
  {
   "cell_type": "code",
   "execution_count": null,
   "id": "125dad9f-289d-4330-add4-6be8a9e48694",
   "metadata": {},
   "outputs": [],
   "source": [
    "max_y = _section2_utils.set_y_axis(marin_county_route_29, y_col)"
   ]
  },
  {
   "cell_type": "code",
   "execution_count": null,
   "id": "b989d1c1-36cc-4227-a51d-f6052f6da959",
   "metadata": {},
   "outputs": [],
   "source": [
    "max_y"
   ]
  },
  {
   "cell_type": "code",
   "execution_count": null,
   "id": "7ef27ac7-4723-43ad-8024-5ea120cc72c6",
   "metadata": {},
   "outputs": [],
   "source": [
    "marin_county_route_29 = _section2_utils.clean_data_charts(marin_county_route_29, y_col)"
   ]
  },
  {
   "cell_type": "code",
   "execution_count": null,
   "id": "0f7929cc-a6a4-47e9-b949-6c8473aca2a4",
   "metadata": {},
   "outputs": [],
   "source": [
    "marin_county_route_29[[\"dir_0_1\", \"Direction\", \"Period\", \"Speed (MPH)\", \"Date\"]]"
   ]
  },
  {
   "cell_type": "code",
   "execution_count": null,
   "id": "f267e527-56da-403e-a3ed-ba191ae62760",
   "metadata": {},
   "outputs": [],
   "source": [
    "import _report_utils"
   ]
  },
  {
   "cell_type": "code",
   "execution_count": null,
   "id": "55256f17-5726-4ec6-ba80-955e79fa14be",
   "metadata": {},
   "outputs": [],
   "source": [
    "import yaml\n",
    "\n",
    "with open(\"color_palettes.yml\") as f:\n",
    "    color_dict = yaml.safe_load(f)"
   ]
  },
  {
   "cell_type": "code",
   "execution_count": null,
   "id": "0bd0dc9f-063b-4756-8106-5e3a9af90068",
   "metadata": {},
   "outputs": [],
   "source": [
    "with open(\"readable.yml\") as f:\n",
    "    readable_dict = yaml.safe_load(f)"
   ]
  },
  {
   "cell_type": "code",
   "execution_count": null,
   "id": "d05e4bda-c521-480c-ab93-a95a72df00e0",
   "metadata": {},
   "outputs": [],
   "source": [
    "readable_dict[\"frequency_graph\"][\"title\"]"
   ]
  },
  {
   "cell_type": "code",
   "execution_count": null,
   "id": "6b9b7787-7dba-4004-a0d6-63966d00f7a8",
   "metadata": {},
   "outputs": [],
   "source": [
    "(readable_dict[\"frequency_graph\"][\"title\"] + \" Test\")"
   ]
  },
  {
   "cell_type": "code",
   "execution_count": null,
   "id": "88e2a952-54ed-4c00-98e9-8cfa52a3b6bb",
   "metadata": {},
   "outputs": [],
   "source": [
    "alt.Chart(\n",
    "    marin_county_route_29.loc[marin_county_route_29.dir_0_1 == 1]\n",
    ").mark_bar(size=10).encode(\n",
    "    x=\"yearmonthdate(Date):O\",\n",
    "    y=\"Speed (MPH):Q\",\n",
    "    color=alt.Color(\n",
    "        \"Period:N\",\n",
    "        title=_report_utils.labeling(\"Period\"),\n",
    "        scale=alt.Scale(range=color_dict[\"tri_color\"]),\n",
    "    ),\n",
    ").facet(column=alt.Column(\"Period:N\", title=_report_utils.labeling(\"Direction\")),\n",
    "        )"
   ]
  },
  {
   "cell_type": "code",
   "execution_count": null,
   "id": "3a4c41fe-2f46-4116-a956-3fc57cae4732",
   "metadata": {},
   "outputs": [],
   "source": [
    "readable_dict[\"speed_graph\"][\"title\"]"
   ]
  },
  {
   "cell_type": "code",
   "execution_count": null,
   "id": "2966000b-29fa-4f54-b8c9-4c024811671c",
   "metadata": {},
   "outputs": [],
   "source": [
    "_section2_utils.grouped_bar_chart(\n",
    "    df = marin_county_route_29.loc[marin_county_route_29.dir_0_1 == 1],\n",
    "    color_col = \"Period\",\n",
    "    y_col = \"Speed (MPH)\",\n",
    "    offset_col = \"Period\",\n",
    "    title=readable_dict[\"speed_graph\"][\"title\"],\n",
    "    subtitle= readable_dict[\"speed_graph\"][\"subtitle\"])"
   ]
  },
  {
   "cell_type": "code",
   "execution_count": null,
   "id": "32fa65ef-40f1-4289-a816-659f8b882a43",
   "metadata": {},
   "outputs": [],
   "source": [
    "(\n",
    "    alt.Chart(marin_county_route_29.loc[marin_county_route_29.dir_0_1 == 0])\n",
    "    .mark_line(size=3)\n",
    "    .encode(\n",
    "        x=alt.X(\n",
    "            \"yearmonthdate(Date):O\",\n",
    "            title=\"Date\",\n",
    "            axis=alt.Axis(labelAngle=-45, format=\"%b %Y\"),\n",
    "        ),\n",
    "        y=alt.Y(\n",
    "            f\"{y_col}:Q\",\n",
    "            title=_report_utils.labeling(y_col),\n",
    "            scale=alt.Scale(domain=[0, max_y]),\n",
    "        ),\n",
    "        color=alt.Color(\n",
    "            \"Period:N\",\n",
    "            title=_report_utils.labeling(\"Period\"),\n",
    "            scale=alt.Scale(range=color_dict[\"tri_color\"]),\n",
    "        ),\n",
    "    )\n",
    ").properties(width=200, height=250)"
   ]
  },
  {
   "cell_type": "code",
   "execution_count": null,
   "id": "f2036267-3a9d-4688-bdcb-062d45a48eca",
   "metadata": {},
   "outputs": [],
   "source": []
  }
 ],
 "metadata": {
  "kernelspec": {
   "display_name": "Python 3 (ipykernel)",
   "language": "python",
   "name": "python3"
  },
  "language_info": {
   "codemirror_mode": {
    "name": "ipython",
    "version": 3
   },
   "file_extension": ".py",
   "mimetype": "text/x-python",
   "name": "python",
   "nbconvert_exporter": "python",
   "pygments_lexer": "ipython3",
   "version": "3.9.13"
  }
 },
 "nbformat": 4,
 "nbformat_minor": 5
}
