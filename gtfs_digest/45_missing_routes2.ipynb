{
 "cells": [
  {
   "cell_type": "markdown",
   "id": "df9388c2-122f-470c-8b96-4f7cbffea26f",
   "metadata": {},
   "source": [
    "## Finding Missing Routes\n",
    "* [Issue](https://github.com/cal-itp/data-analyses/issues/1312): Capital Corridor doesn't have any rail routes. \n",
    "* [Most of Santa Maria's routes not showing up in GTFS Digest](https://github.com/cal-itp/data-analyses/issues/1313)\n",
    "* Rerun all the scripts that create the underlying dataframes for November date (`df_sched`,`df_avg_speeds`,`df_rt_sched`) and merge them using `gtfs_digest/merge_data.merge_data_sources_by_route_direction()`"
   ]
  },
  {
   "cell_type": "code",
   "execution_count": 1,
   "id": "d898cfa3-466e-4ca2-8484-e381b6fc4ce1",
   "metadata": {},
   "outputs": [],
   "source": [
    "import geopandas as gpd\n",
    "import merge_data\n",
    "import numpy as np\n",
    "import pandas as pd\n",
    "from segment_speed_utils import gtfs_schedule_wrangling\n",
    "from update_vars import GTFS_DATA_DICT, RT_SCHED_GCS, SCHED_GCS, SEGMENT_GCS"
   ]
  },
  {
   "cell_type": "code",
   "execution_count": 2,
   "id": "7a5a0cb2-d314-47aa-886c-5ebdf143905b",
   "metadata": {},
   "outputs": [],
   "source": [
    "pd.options.display.max_columns = 100\n",
    "pd.options.display.float_format = \"{:.2f}\".format\n",
    "pd.set_option(\"display.max_rows\", None)\n",
    "pd.set_option(\"display.max_colwidth\", None)"
   ]
  },
  {
   "cell_type": "code",
   "execution_count": 3,
   "id": "c4d1d951-101a-4bed-8774-d2c3ff1605e9",
   "metadata": {},
   "outputs": [],
   "source": [
    "org_name_lists = [\"Capitol Corridor Joint Powers Authority\", \"City of Santa Maria\"]"
   ]
  },
  {
   "cell_type": "code",
   "execution_count": 4,
   "id": "efde4bc7-fd20-4c73-9ec4-6982d4643e39",
   "metadata": {},
   "outputs": [],
   "source": [
    "analysis_date_list = [\"2024-11-13\"]"
   ]
  },
  {
   "cell_type": "code",
   "execution_count": 5,
   "id": "93682bff-3d64-4d60-83a6-98234cc2bbdd",
   "metadata": {},
   "outputs": [],
   "source": [
    "one_analysis_date = \"2024-11-13\""
   ]
  },
  {
   "cell_type": "code",
   "execution_count": 6,
   "id": "69a13fbc-7af0-408d-b4f1-1a78a35ffa86",
   "metadata": {},
   "outputs": [],
   "source": [
    "schd_keys = [\n",
    "    \"5a8721fe96786fcd25fba1f8a0ee6358\",\n",
    "    \"73105f2d1cabc8170ab066d96863c5d5\",\n",
    "    \"f5a749dd65924e025b1293c58f95f8d6\",\n",
    "]"
   ]
  },
  {
   "cell_type": "markdown",
   "id": "b3197201-0f2c-471e-bc84-fb518e9a2c93",
   "metadata": {},
   "source": [
    "### Run the scripts that create the following dataframes for November.\n",
    "* `df_sched`: `gtfs_funnel/schedule_stats_by_route_direction`\n",
    "* `df_rt_sched`: `rt_scheduled_v_ran/scripts/rt_v_scheduled_routes`\n",
    "* `df_avg_speeds`: `rt_segment_speeds/script/average_summary_speed`"
   ]
  },
  {
   "cell_type": "code",
   "execution_count": 7,
   "id": "c1bfd907-5907-4f08-a841-27ff992b10fb",
   "metadata": {},
   "outputs": [
    {
     "data": {
      "text/plain": [
       "'gs://calitp-analytics-data/data-analyses/rt_vs_schedule/'"
      ]
     },
     "execution_count": 7,
     "metadata": {},
     "output_type": "execute_result"
    }
   ],
   "source": [
    "# df_sched\n",
    "RT_SCHED_GCS"
   ]
  },
  {
   "cell_type": "code",
   "execution_count": 8,
   "id": "d377f69c-b363-4b1d-889b-941a88eede10",
   "metadata": {},
   "outputs": [],
   "source": [
    "ROUTE_DIR_EXPORT = GTFS_DATA_DICT.rt_vs_schedule_tables.sched_route_direction_metrics"
   ]
  },
  {
   "cell_type": "code",
   "execution_count": 9,
   "id": "ae25396c-3eb6-4c2a-b036-ffda5c481b5a",
   "metadata": {},
   "outputs": [
    {
     "data": {
      "text/plain": [
       "'schedule_route_dir/schedule_route_direction_metrics'"
      ]
     },
     "execution_count": 9,
     "metadata": {},
     "output_type": "execute_result"
    }
   ],
   "source": [
    "ROUTE_DIR_EXPORT"
   ]
  },
  {
   "cell_type": "code",
   "execution_count": 10,
   "id": "7e3a136e-f4a0-4943-b603-0435a759bfbe",
   "metadata": {},
   "outputs": [],
   "source": [
    "df_schedule = pd.read_parquet(\"gs://calitp-analytics-data/data-analyses/rt_vs_schedule/schedule_route_dir/schedule_route_direction_metrics_2024-11-13.parquet\")"
   ]
  },
  {
   "cell_type": "code",
   "execution_count": 11,
   "id": "266efbce-6c7a-4cc4-84ee-f82de18cd0c6",
   "metadata": {},
   "outputs": [
    {
     "data": {
      "text/plain": [
       "Index(['geometry', 'schedule_gtfs_dataset_key', 'route_id', 'direction_id',\n",
       "       'common_shape_id', 'route_name', 'avg_scheduled_service_minutes',\n",
       "       'avg_stop_miles', 'n_trips', 'time_period', 'peak_offpeak', 'frequency',\n",
       "       'is_coverage', 'is_downtown_local', 'is_local', 'is_rapid',\n",
       "       'is_express', 'is_rail', 'route_primary_direction'],\n",
       "      dtype='object')"
      ]
     },
     "execution_count": 11,
     "metadata": {},
     "output_type": "execute_result"
    }
   ],
   "source": [
    "df_schedule.columns"
   ]
  },
  {
   "cell_type": "code",
   "execution_count": 58,
   "id": "c7dd1435-60ee-4894-bcd1-69b1ad8c1c41",
   "metadata": {},
   "outputs": [],
   "source": [
    "filtered_df_schedule = df_schedule.loc[df_schedule.schedule_gtfs_dataset_key.isin(schd_keys)]"
   ]
  },
  {
   "cell_type": "code",
   "execution_count": 59,
   "id": "440e76d9-43f2-495b-9f97-bc0f77c44435",
   "metadata": {},
   "outputs": [
    {
     "data": {
      "text/plain": [
       "array(['Shuttle', '5'], dtype=object)"
      ]
     },
     "execution_count": 59,
     "metadata": {},
     "output_type": "execute_result"
    }
   ],
   "source": [
    "filtered_df_schedule.route_id.unique()"
   ]
  },
  {
   "cell_type": "code",
   "execution_count": 12,
   "id": "c7b96e3b-d0ef-4c56-b163-292745a9e7e5",
   "metadata": {},
   "outputs": [],
   "source": [
    "# df_avg_speeds\n",
    "segment_type = \"rt_stop_times\"\n",
    "    \n",
    "dict_inputs = GTFS_DATA_DICT[segment_type]\n",
    "ROUTE_DIR_FILE = dict_inputs[\"route_dir_single_summary\"]"
   ]
  },
  {
   "cell_type": "code",
   "execution_count": 13,
   "id": "c9b29c6e-6255-43ef-9409-94c152acfa93",
   "metadata": {},
   "outputs": [
    {
     "data": {
      "text/plain": [
       "'gs://calitp-analytics-data/data-analyses/rt_segment_speeds/'"
      ]
     },
     "execution_count": 13,
     "metadata": {},
     "output_type": "execute_result"
    }
   ],
   "source": [
    "SEGMENT_GCS"
   ]
  },
  {
   "cell_type": "code",
   "execution_count": 14,
   "id": "ca8c3fc6-a08f-4c49-b020-266c50b9a49e",
   "metadata": {},
   "outputs": [
    {
     "data": {
      "text/plain": [
       "'rollup_singleday/speeds_route_dir'"
      ]
     },
     "execution_count": 14,
     "metadata": {},
     "output_type": "execute_result"
    }
   ],
   "source": [
    "ROUTE_DIR_FILE"
   ]
  },
  {
   "cell_type": "code",
   "execution_count": 15,
   "id": "2b012e83-e2c1-4198-a35f-8147a20dc6c6",
   "metadata": {},
   "outputs": [],
   "source": [
    "df_avg_speeds = pd.read_parquet(\"gs://calitp-analytics-data/data-analyses/rt_segment_speeds/rollup_singleday/speeds_route_dir_2024-11-13.parquet\")"
   ]
  },
  {
   "cell_type": "code",
   "execution_count": 16,
   "id": "8741de0f-531d-4a47-9c7d-fae01fe91c1f",
   "metadata": {},
   "outputs": [
    {
     "data": {
      "text/plain": [
       "Index(['schedule_gtfs_dataset_key', 'route_id', 'direction_id', 'time_period',\n",
       "       'meters_elapsed', 'sec_elapsed', 'speed_mph', 'name',\n",
       "       'caltrans_district', 'organization_source_record_id',\n",
       "       'organization_name', 'base64_url', 'route_name', 'geometry'],\n",
       "      dtype='object')"
      ]
     },
     "execution_count": 16,
     "metadata": {},
     "output_type": "execute_result"
    }
   ],
   "source": [
    "df_avg_speeds.columns"
   ]
  },
  {
   "cell_type": "code",
   "execution_count": 17,
   "id": "b31aa6db-06cc-4af2-b27e-ad18b58f45bb",
   "metadata": {},
   "outputs": [
    {
     "data": {
      "text/plain": [
       "'gs://calitp-analytics-data/data-analyses/rt_vs_schedule/'"
      ]
     },
     "execution_count": 17,
     "metadata": {},
     "output_type": "execute_result"
    }
   ],
   "source": [
    "# df_rt_sched\n",
    "RT_SCHED_GCS"
   ]
  },
  {
   "cell_type": "code",
   "execution_count": 18,
   "id": "b4aaed52-8c8d-4368-892c-a4a6ffbc2a3a",
   "metadata": {},
   "outputs": [
    {
     "data": {
      "text/plain": [
       "'vp_route_dir/route_direction_metrics'"
      ]
     },
     "execution_count": 18,
     "metadata": {},
     "output_type": "execute_result"
    }
   ],
   "source": [
    "GTFS_DATA_DICT.rt_vs_schedule_tables.vp_route_direction_metrics"
   ]
  },
  {
   "cell_type": "code",
   "execution_count": 19,
   "id": "26a12c09-82a5-4199-801f-e374bb20b361",
   "metadata": {},
   "outputs": [],
   "source": [
    "df_rt_sched = pd.read_parquet(\"gs://calitp-analytics-data/data-analyses/rt_vs_schedule/vp_route_dir/route_direction_metrics_2024-11-13.parquet\")"
   ]
  },
  {
   "cell_type": "code",
   "execution_count": 20,
   "id": "2dbe65fb-f60d-431e-b8f4-143db6cfa5da",
   "metadata": {},
   "outputs": [
    {
     "data": {
      "text/plain": [
       "Index(['schedule_gtfs_dataset_key', 'route_id', 'direction_id', 'time_period',\n",
       "       'minutes_atleast1_vp', 'minutes_atleast2_vp',\n",
       "       'total_rt_service_minutes', 'total_scheduled_service_minutes',\n",
       "       'total_vp', 'vp_in_shape', 'is_early', 'is_ontime', 'is_late',\n",
       "       'n_vp_trips', 'vp_per_minute', 'pct_in_shape',\n",
       "       'pct_rt_journey_atleast1_vp', 'pct_rt_journey_atleast2_vp',\n",
       "       'pct_sched_journey_atleast1_vp', 'pct_sched_journey_atleast2_vp',\n",
       "       'rt_sched_journey_ratio', 'avg_rt_service_minutes', 'name',\n",
       "       'schedule_source_record_id', 'base64_url',\n",
       "       'organization_source_record_id', 'organization_name',\n",
       "       'caltrans_district'],\n",
       "      dtype='object')"
      ]
     },
     "execution_count": 20,
     "metadata": {},
     "output_type": "execute_result"
    }
   ],
   "source": [
    "df_rt_sched.columns"
   ]
  },
  {
   "cell_type": "markdown",
   "id": "a8209979-ea65-44e6-92bc-94c1d43e4e57",
   "metadata": {},
   "source": [
    "### Open up original file"
   ]
  },
  {
   "cell_type": "code",
   "execution_count": 21,
   "id": "a4df5906-9ef9-49e6-875b-95b36afa4063",
   "metadata": {},
   "outputs": [],
   "source": [
    "schd_vp_url = f\"{GTFS_DATA_DICT.digest_tables.dir}{GTFS_DATA_DICT.digest_tables.route_schedule_vp}.parquet\""
   ]
  },
  {
   "cell_type": "code",
   "execution_count": 22,
   "id": "185e680c-6027-47fa-b488-cb0b20e27a71",
   "metadata": {},
   "outputs": [
    {
     "data": {
      "text/plain": [
       "'gs://calitp-analytics-data/data-analyses/rt_vs_schedule/digest/schedule_vp_metrics.parquet'"
      ]
     },
     "execution_count": 22,
     "metadata": {},
     "output_type": "execute_result"
    }
   ],
   "source": [
    "schd_vp_url"
   ]
  },
  {
   "cell_type": "code",
   "execution_count": 23,
   "id": "534a48bf-de90-460c-9515-3d0e5519274d",
   "metadata": {},
   "outputs": [],
   "source": [
    "schd_vp_df = pd.read_parquet(schd_vp_url)"
   ]
  },
  {
   "cell_type": "code",
   "execution_count": 24,
   "id": "20bf983a-bcc5-49ff-be63-0ef4207b801f",
   "metadata": {},
   "outputs": [],
   "source": [
    "schd_vp_df2 = schd_vp_df.loc[schd_vp_df.organization_name.isin(org_name_lists)]"
   ]
  },
  {
   "cell_type": "markdown",
   "id": "3becbc8b-4098-4b16-9bae-6aa50bd658f7",
   "metadata": {},
   "source": [
    "### Merge all the files based on `gtfs_digest/merge_data`"
   ]
  },
  {
   "cell_type": "code",
   "execution_count": 25,
   "id": "3d6a52e5-1981-4eca-b166-76abe1420dfc",
   "metadata": {},
   "outputs": [],
   "source": [
    "service_date_datetime = pd.to_datetime(\"2024-11-13T00:00:00.000000000\")"
   ]
  },
  {
   "cell_type": "code",
   "execution_count": 26,
   "id": "87556b98-3ac3-46ee-b9ef-eb0a10f29dab",
   "metadata": {},
   "outputs": [],
   "source": [
    "df_schedule[\"service_date\"] = service_date_datetime"
   ]
  },
  {
   "cell_type": "code",
   "execution_count": 27,
   "id": "34d44c3d-ee9e-4fc5-b16c-7e2448b81d40",
   "metadata": {},
   "outputs": [],
   "source": [
    "df_rt_sched[\"service_date\"] = service_date_datetime"
   ]
  },
  {
   "cell_type": "code",
   "execution_count": 28,
   "id": "a67a9a2a-9045-44de-84f5-7d5c1a678dfc",
   "metadata": {},
   "outputs": [],
   "source": [
    "df_avg_speeds[\"service_date\"] = service_date_datetime"
   ]
  },
  {
   "cell_type": "code",
   "execution_count": 29,
   "id": "305c73b1-41f3-4237-ac0c-156097237e42",
   "metadata": {},
   "outputs": [],
   "source": [
    "df_crosswalk = merge_data.concatenate_crosswalk_organization(analysis_date_list)"
   ]
  },
  {
   "cell_type": "code",
   "execution_count": 30,
   "id": "314c4209-f8f9-4c14-ba02-5b77705721a8",
   "metadata": {},
   "outputs": [],
   "source": [
    "route_time_cols = [\n",
    "    \"schedule_gtfs_dataset_key\",\n",
    "    \"route_id\",\n",
    "    \"direction_id\",\n",
    "    \"time_period\",\n",
    "]"
   ]
  },
  {
   "cell_type": "code",
   "execution_count": 31,
   "id": "c4506f3c-3ed7-4648-a6bf-9faaa15cfcf2",
   "metadata": {},
   "outputs": [],
   "source": [
    "primary_typology = merge_data.set_primary_typology(df_schedule)"
   ]
  },
  {
   "cell_type": "code",
   "execution_count": 32,
   "id": "09fc686a-6773-4bab-a0f3-c0342ab382db",
   "metadata": {},
   "outputs": [],
   "source": [
    "df_schedule2 = pd.merge(\n",
    "        df_schedule,\n",
    "        primary_typology,\n",
    "        on = route_time_cols,\n",
    "        how = \"left\"\n",
    "    )"
   ]
  },
  {
   "cell_type": "code",
   "execution_count": null,
   "id": "185d615b-cf0d-45ae-ab89-7e5ab1bab7c8",
   "metadata": {},
   "outputs": [],
   "source": []
  },
  {
   "cell_type": "code",
   "execution_count": 33,
   "id": "d35b1214-e648-4d58-80aa-baca192bcbf4",
   "metadata": {},
   "outputs": [],
   "source": [
    "df = pd.merge(\n",
    "        df_schedule2,\n",
    "        df_rt_sched,\n",
    "        on = route_time_cols + [\"service_date\"],\n",
    "        how = \"outer\",\n",
    "        indicator = \"sched_rt_category\"\n",
    "    ).merge(\n",
    "        df_avg_speeds,\n",
    "        on = route_time_cols + [\"service_date\"],\n",
    "        how = \"outer\",\n",
    "    )"
   ]
  },
  {
   "cell_type": "code",
   "execution_count": 34,
   "id": "0a31a83c-c7f0-4d9d-a30a-12672bd5de54",
   "metadata": {},
   "outputs": [],
   "source": [
    "df = df.assign(\n",
    "        sched_rt_category = df.sched_rt_category.map(\n",
    "            gtfs_schedule_wrangling.sched_rt_category_dict)\n",
    "    ).pipe(\n",
    "        merge_data.merge_in_standardized_route_names,\n",
    "    ).merge(\n",
    "        df_crosswalk,\n",
    "        on = [\"schedule_gtfs_dataset_key\", \"name\", \"service_date\"],\n",
    "        how = \"left\"\n",
    "    ).pipe(\n",
    "        # Find the most common cardinal direction\n",
    "        gtfs_schedule_wrangling.top_cardinal_direction\n",
    "    )"
   ]
  },
  {
   "cell_type": "code",
   "execution_count": 35,
   "id": "7a51500f-6155-4c50-b484-3f05767d47ca",
   "metadata": {},
   "outputs": [],
   "source": [
    "df = df.rename(columns = {\"n_trips\":\"n_scheduled_trips\"})"
   ]
  },
  {
   "cell_type": "code",
   "execution_count": 36,
   "id": "67050044-6890-4230-bad8-e7eead2e890c",
   "metadata": {},
   "outputs": [],
   "source": [
    "integrify = [\n",
    "        \"n_scheduled_trips\", \"n_vp_trips\",\n",
    "        \"minutes_atleast1_vp\", \"minutes_atleast2_vp\",\n",
    "        \"total_vp\", \"vp_in_shape\",\n",
    "        \"is_early\", \"is_ontime\", \"is_late\"\n",
    "    ]\n",
    "    \n",
    "df[integrify] = df[integrify].fillna(0).astype(\"int\")"
   ]
  },
  {
   "cell_type": "code",
   "execution_count": 38,
   "id": "88bfc756-435d-48a9-8ac0-81c49ef96933",
   "metadata": {},
   "outputs": [],
   "source": [
    "repeated_y_cols = list([col for col in df.columns if '_y' in col.lower()])"
   ]
  },
  {
   "cell_type": "code",
   "execution_count": 39,
   "id": "47042af9-1976-4498-88d3-7211fd1fbd05",
   "metadata": {},
   "outputs": [],
   "source": [
    "df = df.drop(columns = repeated_y_cols)"
   ]
  },
  {
   "cell_type": "code",
   "execution_count": 43,
   "id": "70781682-a47c-448d-b634-047fcb60abf9",
   "metadata": {},
   "outputs": [],
   "source": [
    "repeated_x_cols = list([col for col in df.columns if '_x' in col.lower()])"
   ]
  },
  {
   "cell_type": "code",
   "execution_count": 44,
   "id": "e3fd6d14-9f4e-4954-b32e-bb81382b7299",
   "metadata": {},
   "outputs": [],
   "source": [
    "df = df.drop(columns = repeated_x_cols)"
   ]
  },
  {
   "cell_type": "code",
   "execution_count": 45,
   "id": "4f1ab64c-1da2-4898-a4d5-6534f1580a0e",
   "metadata": {},
   "outputs": [
    {
     "data": {
      "text/plain": [
       "Index(['schedule_gtfs_dataset_key', 'direction_id', 'common_shape_id',\n",
       "       'avg_scheduled_service_minutes', 'avg_stop_miles', 'n_scheduled_trips',\n",
       "       'time_period', 'peak_offpeak', 'frequency', 'is_coverage',\n",
       "       'is_downtown_local', 'is_local', 'is_rapid', 'is_express', 'is_rail',\n",
       "       'service_date', 'typology', 'minutes_atleast1_vp',\n",
       "       'minutes_atleast2_vp', 'total_rt_service_minutes',\n",
       "       'total_scheduled_service_minutes', 'total_vp', 'vp_in_shape',\n",
       "       'is_early', 'is_ontime', 'is_late', 'n_vp_trips', 'vp_per_minute',\n",
       "       'pct_in_shape', 'pct_rt_journey_atleast1_vp',\n",
       "       'pct_rt_journey_atleast2_vp', 'pct_sched_journey_atleast1_vp',\n",
       "       'pct_sched_journey_atleast2_vp', 'rt_sched_journey_ratio',\n",
       "       'avg_rt_service_minutes', 'sched_rt_category', 'meters_elapsed',\n",
       "       'sec_elapsed', 'speed_mph', 'name', 'route_long_name',\n",
       "       'route_short_name', 'route_combined_name', 'route_id', 'base64_url',\n",
       "       'organization_source_record_id', 'organization_name',\n",
       "       'caltrans_district', 'route_primary_direction'],\n",
       "      dtype='object')"
      ]
     },
     "execution_count": 45,
     "metadata": {},
     "output_type": "execute_result"
    }
   ],
   "source": [
    "df.columns"
   ]
  },
  {
   "cell_type": "code",
   "execution_count": 46,
   "id": "fbb26e1d-3325-4b90-865a-668d777aaa49",
   "metadata": {},
   "outputs": [
    {
     "data": {
      "text/plain": [
       "Shuttle                                 6\n",
       "CC                                      6\n",
       "1                                       3\n",
       "11                                      3\n",
       "12X                                     3\n",
       "2                                       3\n",
       "20                                      3\n",
       "5                                       3\n",
       "30                                      3\n",
       "4                                       3\n",
       "6                                       3\n",
       "7                                       3\n",
       "8                                       3\n",
       "8a7c42f9-51e4-4848-bf88-30c210f149ad    3\n",
       "9                                       3\n",
       "3                                       3\n",
       "1B                                      2\n",
       "Name: route_id, dtype: int64"
      ]
     },
     "execution_count": 46,
     "metadata": {},
     "output_type": "execute_result"
    }
   ],
   "source": [
    "df.loc[df.schedule_gtfs_dataset_key.isin(schd_keys)].route_id.value_counts()"
   ]
  },
  {
   "cell_type": "code",
   "execution_count": 56,
   "id": "f461c76c-b5fa-453c-ae1a-c90ec5e6a437",
   "metadata": {},
   "outputs": [
    {
     "name": "stdout",
     "output_type": "stream",
     "text": [
      "<class 'pandas.core.frame.DataFrame'>\n",
      "Int64Index: 119378 entries, 0 to 119377\n",
      "Data columns (total 49 columns):\n",
      " #   Column                           Non-Null Count   Dtype         \n",
      "---  ------                           --------------   -----         \n",
      " 0   schedule_gtfs_dataset_key        119378 non-null  object        \n",
      " 1   direction_id                     119378 non-null  float64       \n",
      " 2   common_shape_id                  103976 non-null  object        \n",
      " 3   avg_scheduled_service_minutes    103976 non-null  float64       \n",
      " 4   avg_stop_miles                   103976 non-null  float64       \n",
      " 5   n_scheduled_trips                119378 non-null  int64         \n",
      " 6   time_period                      119378 non-null  object        \n",
      " 7   peak_offpeak                     68015 non-null   object        \n",
      " 8   frequency                        103976 non-null  float64       \n",
      " 9   is_coverage                      101613 non-null  float64       \n",
      " 10  is_downtown_local                101613 non-null  float64       \n",
      " 11  is_local                         101613 non-null  float64       \n",
      " 12  is_rapid                         101613 non-null  float64       \n",
      " 13  is_express                       101613 non-null  float64       \n",
      " 14  is_rail                          101613 non-null  float64       \n",
      " 15  service_date                     119378 non-null  datetime64[ns]\n",
      " 16  typology                         103976 non-null  object        \n",
      " 17  minutes_atleast1_vp              119378 non-null  int64         \n",
      " 18  minutes_atleast2_vp              119378 non-null  int64         \n",
      " 19  total_rt_service_minutes         116449 non-null  float64       \n",
      " 20  total_scheduled_service_minutes  116449 non-null  float64       \n",
      " 21  total_vp                         119378 non-null  int64         \n",
      " 22  vp_in_shape                      119378 non-null  int64         \n",
      " 23  is_early                         119378 non-null  int64         \n",
      " 24  is_ontime                        119378 non-null  int64         \n",
      " 25  is_late                          119378 non-null  int64         \n",
      " 26  n_vp_trips                       119378 non-null  int64         \n",
      " 27  vp_per_minute                    116449 non-null  float64       \n",
      " 28  pct_in_shape                     116449 non-null  float64       \n",
      " 29  pct_rt_journey_atleast1_vp       116449 non-null  float64       \n",
      " 30  pct_rt_journey_atleast2_vp       116449 non-null  float64       \n",
      " 31  pct_sched_journey_atleast1_vp    116449 non-null  float64       \n",
      " 32  pct_sched_journey_atleast2_vp    116449 non-null  float64       \n",
      " 33  rt_sched_journey_ratio           116449 non-null  float64       \n",
      " 34  avg_rt_service_minutes           116449 non-null  float64       \n",
      " 35  sched_rt_category                119378 non-null  category      \n",
      " 36  meters_elapsed                   114213 non-null  float64       \n",
      " 37  sec_elapsed                      114213 non-null  float64       \n",
      " 38  speed_mph                        114213 non-null  float64       \n",
      " 39  name                             119378 non-null  object        \n",
      " 40  route_long_name                  119378 non-null  object        \n",
      " 41  route_short_name                 119378 non-null  object        \n",
      " 42  route_combined_name              119378 non-null  object        \n",
      " 43  route_id                         119378 non-null  object        \n",
      " 44  base64_url                       119378 non-null  object        \n",
      " 45  organization_source_record_id    119378 non-null  object        \n",
      " 46  organization_name                119378 non-null  object        \n",
      " 47  caltrans_district                119378 non-null  object        \n",
      " 48  route_primary_direction          103990 non-null  object        \n",
      "dtypes: category(1), datetime64[ns](1), float64(23), int64(9), object(15)\n",
      "memory usage: 44.7+ MB\n"
     ]
    }
   ],
   "source": [
    "df.info()"
   ]
  },
  {
   "cell_type": "code",
   "execution_count": 57,
   "id": "2b4c1331-43e7-4a72-8bef-760114faf9a7",
   "metadata": {},
   "outputs": [
    {
     "data": {
      "text/plain": [
       "schedule_and_vp    101047\n",
       "vp_only             15402\n",
       "schedule_only        2929\n",
       "Name: sched_rt_category, dtype: int64"
      ]
     },
     "execution_count": 57,
     "metadata": {},
     "output_type": "execute_result"
    }
   ],
   "source": [
    "df.sched_rt_category.value_counts()"
   ]
  },
  {
   "cell_type": "code",
   "execution_count": 48,
   "id": "36d41d75-3390-4a32-a8c6-6da23d675862",
   "metadata": {},
   "outputs": [],
   "source": [
    "filtered_df = df.loc[df.schedule_gtfs_dataset_key.isin(schd_keys)]"
   ]
  },
  {
   "cell_type": "code",
   "execution_count": 53,
   "id": "bb811a5e-4ae8-4d49-a905-93e7dcb5bae3",
   "metadata": {},
   "outputs": [
    {
     "data": {
      "text/plain": [
       "Shuttle Shuttle_Auburn                                                                      6\n",
       "CC Capitol Corridor                                                                         6\n",
       "Rt 1. Transit Ctr to Preisker Park Via N. Broadway                                          5\n",
       "Rt 5. Transit Center to Gov't Cntr to Evergreen Shopping Center via Miller St., S.M. Way    3\n",
       "R11. Transit Center to Gov't Center via S. Broadway                                         3\n",
       "12X Broadway/Orcutt Express                                                                 3\n",
       "Rt 2. Transit Center to PVH School via Western., Donovan Rd                                 3\n",
       "Route 20 - Santa Maria Transit Center/Los Alamos/Buellton/Solvang-OB                        3\n",
       "Rt 3. Transit Center to Marian Hospital to PVH School, via E. Main, Suey Ln.                3\n",
       "Route 30 - Santa Maria Transit Center/Vandenberg/Lompoc                                     3\n",
       "Rt 4. Transit Center to SMH school to VTC via Cook St., Thornburg., Betteravia Rd.          3\n",
       "Rt 6. Oak Knolls to Old Orcutt-East to West-Outbound                                        3\n",
       "Rt 7. A. H. College, Crossroads Shopping Center via Boone St, Bradley Rd.                   3\n",
       "Rt 8. Tanglewood to Crossroads Shopping Center via McCoy Ln.                                3\n",
       "Rt 11. Transit Center to Gov't Center via S. Broadway                                       3\n",
       "Rt 9. Transit Center to PVH via Alvin Ave.                                                  3\n",
       "Name: route_combined_name, dtype: int64"
      ]
     },
     "execution_count": 53,
     "metadata": {},
     "output_type": "execute_result"
    }
   ],
   "source": [
    "filtered_df.route_combined_name.value_counts()"
   ]
  },
  {
   "cell_type": "code",
   "execution_count": 54,
   "id": "77397b90-e65a-4002-be45-a46c53dee393",
   "metadata": {},
   "outputs": [],
   "source": [
    "filtered_og_df = schd_vp_df2.loc[schd_vp_df2.schedule_gtfs_dataset_key.isin(schd_keys)]"
   ]
  },
  {
   "cell_type": "markdown",
   "id": "78fb0048-a167-463d-934d-bf21a18aef99",
   "metadata": {},
   "source": [
    "#### Problem: the datafarme with the scheduled stuff is not merging properly. Have to troubleshoot why."
   ]
  },
  {
   "cell_type": "code",
   "execution_count": 55,
   "id": "de140a4a-98aa-4fbb-8fd5-935c3ae528d2",
   "metadata": {},
   "outputs": [
    {
     "data": {
      "text/html": [
       "<div>\n",
       "<style scoped>\n",
       "    .dataframe tbody tr th:only-of-type {\n",
       "        vertical-align: middle;\n",
       "    }\n",
       "\n",
       "    .dataframe tbody tr th {\n",
       "        vertical-align: top;\n",
       "    }\n",
       "\n",
       "    .dataframe thead th {\n",
       "        text-align: right;\n",
       "    }\n",
       "</style>\n",
       "<table border=\"1\" class=\"dataframe\">\n",
       "  <thead>\n",
       "    <tr style=\"text-align: right;\">\n",
       "      <th></th>\n",
       "      <th>organization_name</th>\n",
       "      <th>route_combined_name</th>\n",
       "      <th>sched_rt_category</th>\n",
       "    </tr>\n",
       "  </thead>\n",
       "  <tbody>\n",
       "    <tr>\n",
       "      <th>120423</th>\n",
       "      <td>City of Santa Maria</td>\n",
       "      <td>Rt 5. Transit Center to Gov't Cntr to Evergreen Shopping Center via Miller St., S.M. Way</td>\n",
       "      <td>schedule_and_vp</td>\n",
       "    </tr>\n",
       "    <tr>\n",
       "      <th>135235</th>\n",
       "      <td>City of Santa Maria</td>\n",
       "      <td>Rt 5. Transit Center to Gov't Cntr to Evergreen Shopping Center via Miller St., S.M. Way</td>\n",
       "      <td>schedule_only</td>\n",
       "    </tr>\n",
       "    <tr>\n",
       "      <th>304769</th>\n",
       "      <td>Capitol Corridor Joint Powers Authority</td>\n",
       "      <td>Shuttle Shuttle_Auburn</td>\n",
       "      <td>schedule_only</td>\n",
       "    </tr>\n",
       "    <tr>\n",
       "      <th>348849</th>\n",
       "      <td>City of Santa Maria</td>\n",
       "      <td>Rt 5. Transit Center to Gov't Cntr to Evergreen Shopping Center via Miller St., S.M. Way</td>\n",
       "      <td>vp_only</td>\n",
       "    </tr>\n",
       "    <tr>\n",
       "      <th>367736</th>\n",
       "      <td>Capitol Corridor Joint Powers Authority</td>\n",
       "      <td>CC Capitol Corridor</td>\n",
       "      <td>vp_only</td>\n",
       "    </tr>\n",
       "  </tbody>\n",
       "</table>\n",
       "</div>"
      ],
      "text/plain": [
       "                              organization_name  \\\n",
       "120423                      City of Santa Maria   \n",
       "135235                      City of Santa Maria   \n",
       "304769  Capitol Corridor Joint Powers Authority   \n",
       "348849                      City of Santa Maria   \n",
       "367736  Capitol Corridor Joint Powers Authority   \n",
       "\n",
       "                                                                             route_combined_name  \\\n",
       "120423  Rt 5. Transit Center to Gov't Cntr to Evergreen Shopping Center via Miller St., S.M. Way   \n",
       "135235  Rt 5. Transit Center to Gov't Cntr to Evergreen Shopping Center via Miller St., S.M. Way   \n",
       "304769                                                                    Shuttle Shuttle_Auburn   \n",
       "348849  Rt 5. Transit Center to Gov't Cntr to Evergreen Shopping Center via Miller St., S.M. Way   \n",
       "367736                                                                       CC Capitol Corridor   \n",
       "\n",
       "       sched_rt_category  \n",
       "120423   schedule_and_vp  \n",
       "135235     schedule_only  \n",
       "304769     schedule_only  \n",
       "348849           vp_only  \n",
       "367736           vp_only  "
      ]
     },
     "execution_count": 55,
     "metadata": {},
     "output_type": "execute_result"
    }
   ],
   "source": [
    "filtered_og_df[[\"organization_name\",\"route_combined_name\",\"sched_rt_category\"]].drop_duplicates()"
   ]
  },
  {
   "cell_type": "markdown",
   "id": "df87ba57-ed93-40b0-9177-512d89d7995e",
   "metadata": {},
   "source": [
    "### Save this temporarily "
   ]
  },
  {
   "cell_type": "code",
   "execution_count": 47,
   "id": "d669b728-d3cd-4e74-941b-3f82e87d071c",
   "metadata": {},
   "outputs": [],
   "source": [
    "df.to_parquet(\"gs://calitp-analytics-data/data-analyses/rt_vs_schedule/digest/schedule_vp_metrics_AH_TESTING.parquet\")"
   ]
  },
  {
   "cell_type": "code",
   "execution_count": null,
   "id": "6f46ec68-e037-4f6c-86ec-714a4e9ea0df",
   "metadata": {},
   "outputs": [],
   "source": []
  }
 ],
 "metadata": {
  "kernelspec": {
   "display_name": "Python 3 (ipykernel)",
   "language": "python",
   "name": "python3"
  },
  "language_info": {
   "codemirror_mode": {
    "name": "ipython",
    "version": 3
   },
   "file_extension": ".py",
   "mimetype": "text/x-python",
   "name": "python",
   "nbconvert_exporter": "python",
   "pygments_lexer": "ipython3",
   "version": "3.9.13"
  }
 },
 "nbformat": 4,
 "nbformat_minor": 5
}
