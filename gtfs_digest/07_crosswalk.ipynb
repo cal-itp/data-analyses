{
 "cells": [
  {
   "cell_type": "markdown",
   "id": "31ddf3b8-6cb8-4ade-a30e-15c6e741b13d",
   "metadata": {},
   "source": [
    "## Crosswalk\n",
    "* Check out why there are multiple organization names to names.\n",
    "* Figure out how to configure yaml so only one organization will match to one name."
   ]
  },
  {
   "cell_type": "code",
   "execution_count": null,
   "id": "66d7de72-e97d-4dc2-acfa-1202a63e6771",
   "metadata": {},
   "outputs": [],
   "source": [
    "import pandas as pd\n",
    "from shared_utils import catalog_utils\n",
    "\n",
    "GTFS_DATA_DICT = catalog_utils.get_catalog(\"gtfs_analytics_data\")"
   ]
  },
  {
   "cell_type": "code",
   "execution_count": null,
   "id": "645aafbc-f628-43d6-90d3-ca1041341269",
   "metadata": {},
   "outputs": [],
   "source": [
    "pd.options.display.max_columns = 100\n",
    "pd.options.display.float_format = \"{:.2f}\".format\n",
    "pd.set_option(\"display.max_rows\", None)\n",
    "pd.set_option(\"display.max_colwidth\", None)"
   ]
  },
  {
   "cell_type": "markdown",
   "id": "e329aace-0993-4703-a2ba-04fd7f417d66",
   "metadata": {},
   "source": [
    "### Schd_VP"
   ]
  },
  {
   "cell_type": "code",
   "execution_count": null,
   "id": "de3bdcd8-72ef-4d49-a23e-5bfb5d0a24ef",
   "metadata": {},
   "outputs": [],
   "source": [
    "schd_vp_url = f\"{GTFS_DATA_DICT.digest_tables.dir}{GTFS_DATA_DICT.digest_tables.route_schedule_vp}.parquet\""
   ]
  },
  {
   "cell_type": "code",
   "execution_count": null,
   "id": "ad89e687-7a18-49ba-be07-227e34b35c7f",
   "metadata": {},
   "outputs": [],
   "source": [
    "og = pd.read_parquet(schd_vp_url)"
   ]
  },
  {
   "cell_type": "code",
   "execution_count": null,
   "id": "ce408f8d-2749-48bd-a864-c258ea395c38",
   "metadata": {},
   "outputs": [],
   "source": [
    "og = og.loc[og.sched_rt_category == \"schedule_and_vp\"]"
   ]
  },
  {
   "cell_type": "code",
   "execution_count": null,
   "id": "dc8ef5bd-d2ae-4b2a-9420-0d21d9087fe6",
   "metadata": {},
   "outputs": [],
   "source": [
    "crosswalk = (\n",
    "    og[\n",
    "        [\n",
    "            \"schedule_gtfs_dataset_key\",\n",
    "            \"caltrans_district\",\n",
    "            \"organization_name\",\n",
    "            \"name\",\n",
    "            \"sched_rt_category\",\n",
    "        ]\n",
    "    ]\n",
    "    .sort_values(by=[\"caltrans_district\", \"organization_name\"])\n",
    "    .loc[og.sched_rt_category == \"schedule_and_vp\"]\n",
    "    .drop_duplicates()\n",
    ")"
   ]
  },
  {
   "cell_type": "code",
   "execution_count": null,
   "id": "9f86f28f-5ed7-463f-8639-661c5f425888",
   "metadata": {},
   "outputs": [],
   "source": [
    "crosswalk.organization_name.value_counts().head(10)"
   ]
  },
  {
   "cell_type": "code",
   "execution_count": null,
   "id": "61e41830-b815-463c-99f4-6fb8c0cbe8a3",
   "metadata": {},
   "outputs": [],
   "source": [
    "crosswalk.name.value_counts().head(10)"
   ]
  },
  {
   "cell_type": "code",
   "execution_count": null,
   "id": "bbfb046b-6fcb-4d34-a5d3-ee3896562783",
   "metadata": {},
   "outputs": [],
   "source": [
    "crosswalk.shape"
   ]
  },
  {
   "cell_type": "code",
   "execution_count": null,
   "id": "3cc30ec8-6b92-49a2-b00c-5c6bd4284b40",
   "metadata": {},
   "outputs": [],
   "source": [
    "crosswalk.organization_name.nunique(), crosswalk.name.nunique()"
   ]
  },
  {
   "cell_type": "markdown",
   "id": "bf665ac5-4fc9-4040-acff-06ed32fd87a7",
   "metadata": {},
   "source": [
    "### Operator Profiles"
   ]
  },
  {
   "cell_type": "code",
   "execution_count": null,
   "id": "f8d23740-eb38-469a-94e2-b8e0a826f2d2",
   "metadata": {},
   "outputs": [],
   "source": [
    "op_profiles_url = f\"{GTFS_DATA_DICT.digest_tables.dir}{GTFS_DATA_DICT.digest_tables.operator_profiles}.parquet\""
   ]
  },
  {
   "cell_type": "code",
   "execution_count": null,
   "id": "0d28fed7-12ad-4549-ac51-8d749cfd9e9c",
   "metadata": {},
   "outputs": [],
   "source": [
    "op_profiles_df = pd.read_parquet(op_profiles_url)"
   ]
  },
  {
   "cell_type": "code",
   "execution_count": null,
   "id": "6bea65cc-add3-4ca2-8df2-2a4ea9cd8ef0",
   "metadata": {},
   "outputs": [],
   "source": [
    "op_profiles2 = op_profiles_df.sort_values(\n",
    "    by=[\"name\", \"service_date\", \"schedule_gtfs_dataset_key\"],\n",
    "    ascending=[True, False, False],\n",
    ")[[\"organization_name\", \"name\", \"service_date\", \"schedule_gtfs_dataset_key\"]]"
   ]
  },
  {
   "cell_type": "code",
   "execution_count": null,
   "id": "3c26e030-9c13-449e-8aa7-8c85bfd38437",
   "metadata": {},
   "outputs": [],
   "source": [
    "op_profiles3 = op_profiles2.drop_duplicates(subset=[\"name\"])"
   ]
  },
  {
   "cell_type": "code",
   "execution_count": null,
   "id": "d83038a5-00c3-41f0-8662-0e93c11b35c4",
   "metadata": {},
   "outputs": [],
   "source": [
    "# op_profiles3  = op_profiles2.drop_duplicates(subset = ['organization_name'])"
   ]
  },
  {
   "cell_type": "code",
   "execution_count": null,
   "id": "4766e018-12da-4fa3-863e-84608be1192d",
   "metadata": {},
   "outputs": [],
   "source": [
    "op_profiles3.organization_name.nunique()"
   ]
  },
  {
   "cell_type": "code",
   "execution_count": null,
   "id": "5b668356-0bfa-4bde-ba8c-bf54a6ec8b58",
   "metadata": {},
   "outputs": [],
   "source": [
    "op_profiles3.organization_name.value_counts().head(10)"
   ]
  },
  {
   "cell_type": "code",
   "execution_count": null,
   "id": "0af01dfd-0a59-4dd4-b986-363a09d77762",
   "metadata": {},
   "outputs": [],
   "source": [
    "op_profiles3.name.value_counts().head()"
   ]
  },
  {
   "cell_type": "code",
   "execution_count": null,
   "id": "582fe7cc-fb24-497c-9a5b-52cbbae25bbf",
   "metadata": {
    "scrolled": true,
    "tags": []
   },
   "outputs": [],
   "source": [
    "op_profiles3.sort_values(\n",
    "    by=[\"organization_name\", \"service_date\", \"schedule_gtfs_dataset_key\"],\n",
    "    ascending=[True, False, False],\n",
    ")"
   ]
  },
  {
   "cell_type": "markdown",
   "id": "dd55a790-85b5-43ea-8b6b-47ed1ac4d87d",
   "metadata": {},
   "source": [
    "#### Why are there multiple names? Do these rows differ?"
   ]
  },
  {
   "cell_type": "code",
   "execution_count": null,
   "id": "05c555b3-4082-4210-9b75-0e1e7ee26d91",
   "metadata": {
    "scrolled": true,
    "tags": []
   },
   "outputs": [],
   "source": [
    "op_profiles_df.loc[\n",
    "    (op_profiles_df.organization_name == \"City of Lawndale\")\n",
    "    & (op_profiles_df.service_date == \"2024-03-13\")\n",
    "].drop(columns=[\"schedule_gtfs_dataset_key\"])"
   ]
  },
  {
   "cell_type": "markdown",
   "id": "90b631fa-61bd-4def-8b97-eb2783a63bb5",
   "metadata": {},
   "source": [
    "### Merge"
   ]
  },
  {
   "cell_type": "code",
   "execution_count": null,
   "id": "fdd80ad9-a3ae-4c9a-b112-de03285efebb",
   "metadata": {},
   "outputs": [],
   "source": [
    "crosswalk.sample()"
   ]
  },
  {
   "cell_type": "code",
   "execution_count": null,
   "id": "c10dc73d-f52d-4a86-ae38-9c103cada4c0",
   "metadata": {},
   "outputs": [],
   "source": [
    "crosswalk.organization_name.nunique(), crosswalk.name.nunique(), crosswalk.shape"
   ]
  },
  {
   "cell_type": "code",
   "execution_count": null,
   "id": "ef9ca23e-23a7-44f9-b34e-3e053e2a019f",
   "metadata": {},
   "outputs": [],
   "source": [
    "crosswalk.organization_name.value_counts().head()"
   ]
  },
  {
   "cell_type": "code",
   "execution_count": null,
   "id": "3e57167c-66a2-4d62-91a8-bf1950ff9f1f",
   "metadata": {},
   "outputs": [],
   "source": [
    "crosswalk.name.value_counts().head()"
   ]
  },
  {
   "cell_type": "code",
   "execution_count": null,
   "id": "06fa2268-ba88-425e-9dfb-90d8c7671d47",
   "metadata": {},
   "outputs": [],
   "source": [
    "m1 = pd.merge(\n",
    "    op_profiles3,\n",
    "    crosswalk,\n",
    "    on=[\"name\", \"organization_name\"],\n",
    "    how=\"outer\",\n",
    "    indicator=True,\n",
    ")"
   ]
  },
  {
   "cell_type": "code",
   "execution_count": null,
   "id": "fcb8a283-365b-448e-860c-a997e962415b",
   "metadata": {},
   "outputs": [],
   "source": [
    "m1._merge.value_counts()"
   ]
  },
  {
   "cell_type": "code",
   "execution_count": null,
   "id": "329b49e8-2744-4592-96b2-b8112d2fc9ae",
   "metadata": {},
   "outputs": [],
   "source": [
    "m1.loc[m1._merge == \"both\"]"
   ]
  }
 ],
 "metadata": {
  "kernelspec": {
   "display_name": "Python 3 (ipykernel)",
   "language": "python",
   "name": "python3"
  },
  "language_info": {
   "codemirror_mode": {
    "name": "ipython",
    "version": 3
   },
   "file_extension": ".py",
   "mimetype": "text/x-python",
   "name": "python",
   "nbconvert_exporter": "python",
   "pygments_lexer": "ipython3",
   "version": "3.9.13"
  }
 },
 "nbformat": 4,
 "nbformat_minor": 5
}
