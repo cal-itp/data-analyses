{
 "cells": [
  {
   "cell_type": "markdown",
   "id": "dd5f310c-d2a5-42c4-ac21-d1bbb4e79b3a",
   "metadata": {},
   "source": [
    "## Total Service Hours\n",
    "\n",
    "* Hourly scheduled service breakdown for weekday, Sat, Sun - April / October 2023\n",
    "* rt_dates.get_week(“apr2023”)\n",
    "* helpers.import_scheduled_trips(\n",
    "   analysis_date, \n",
    "  columns = [“trip_instance_key”, “service_hours”, “trip_start_time or whatever”],   \n",
    "  get_pandas =True\n",
    ")\n",
    "* See if you can pair this with `time_series_utils` like this example to get whole week in 1 df\n",
    "* Parse out hour\n",
    "* Aggregate for weekday, saturday, sunday (3 categories) by hour"
   ]
  },
  {
   "cell_type": "code",
   "execution_count": 1,
   "id": "13ab745e-dc37-454f-a65b-407b6e908afd",
   "metadata": {},
   "outputs": [
    {
     "data": {
      "text/plain": [
       "DataTransformerRegistry.enable('default')"
      ]
     },
     "execution_count": 1,
     "metadata": {},
     "output_type": "execute_result"
    }
   ],
   "source": [
    "import altair as alt\n",
    "import geopandas as gpd\n",
    "import pandas as pd\n",
    "from segment_speed_utils import helpers, time_series_utils\n",
    "from segment_speed_utils.project_vars import (\n",
    "    COMPILED_CACHED_VIEWS,\n",
    "    GTFS_DATA_DICT,\n",
    "    PROJECT_CRS,\n",
    "    RT_SCHED_GCS,\n",
    "    SCHED_GCS,\n",
    "    SEGMENT_GCS,\n",
    ")\n",
    "from shared_utils import catalog_utils, rt_dates, rt_utils\n",
    "\n",
    "alt.data_transformers.enable(\"default\", max_rows=None)"
   ]
  },
  {
   "cell_type": "code",
   "execution_count": 2,
   "id": "ea95ad0e-62b2-45b9-b69a-f4f0bf9db1be",
   "metadata": {},
   "outputs": [],
   "source": [
    "pd.options.display.max_columns = 100\n",
    "pd.options.display.float_format = \"{:.2f}\".format\n",
    "pd.set_option(\"display.max_rows\", None)\n",
    "pd.set_option(\"display.max_colwidth\", None)"
   ]
  },
  {
   "cell_type": "code",
   "execution_count": 3,
   "id": "edc0ea33-2790-495a-9050-ebd54368bdb3",
   "metadata": {},
   "outputs": [],
   "source": [
    "import _report_utils\n",
    "import _section2_utils\n",
    "import yaml\n",
    "\n",
    "with open(\"color_palettes.yml\") as f:\n",
    "    color_dict = yaml.safe_load(f)\n",
    "with open(\"readable.yml\") as f:\n",
    "    readable_dict = yaml.safe_load(f)"
   ]
  },
  {
   "cell_type": "markdown",
   "id": "cf1b2032-e86c-4f99-86e7-5d2f54af9587",
   "metadata": {},
   "source": [
    "### Get April and October"
   ]
  },
  {
   "cell_type": "code",
   "execution_count": 4,
   "id": "0b31f717-4d31-488b-be2f-438841591224",
   "metadata": {},
   "outputs": [],
   "source": [
    "apr_week = rt_dates.get_week(month=\"apr2023\", exclude_wed=False)\n",
    "oct_week = rt_dates.get_week(month=\"oct2023\", exclude_wed=False)"
   ]
  },
  {
   "cell_type": "code",
   "execution_count": 5,
   "id": "c4d13b0f-ba1f-43c2-a4e3-9f298d5675ab",
   "metadata": {},
   "outputs": [],
   "source": [
    "oct_week = rt_dates.get_week(month=\"oct2023\", exclude_wed=False)"
   ]
  },
  {
   "cell_type": "markdown",
   "id": "1d887752-3d6e-4225-bb28-0e796d72a34c",
   "metadata": {},
   "source": [
    "### `import_scheduled_trips` with one date first\n",
    "* Use `trip_first_departure_datetime_pacific` \n",
    "* Test manipulating with only one day."
   ]
  },
  {
   "cell_type": "code",
   "execution_count": 6,
   "id": "995c1df1-b6dc-4863-80a1-dfa5bdff5252",
   "metadata": {},
   "outputs": [],
   "source": [
    "TABLE = GTFS_DATA_DICT.schedule_downloads.trips"
   ]
  },
  {
   "cell_type": "code",
   "execution_count": 7,
   "id": "b9b8b82c-710d-4e76-8436-2e2d77f8cd89",
   "metadata": {},
   "outputs": [],
   "source": [
    "FILE = f\"{COMPILED_CACHED_VIEWS}{TABLE}_{apr_week[0]}.parquet\""
   ]
  },
  {
   "cell_type": "code",
   "execution_count": 8,
   "id": "ffacb0a0-2ba2-4123-90c8-357528e2e81b",
   "metadata": {},
   "outputs": [],
   "source": [
    "#april_og = pd.read_parquet(FILE)"
   ]
  },
  {
   "cell_type": "code",
   "execution_count": 9,
   "id": "21d365ab-ac64-4c05-bce4-df609dce92f8",
   "metadata": {},
   "outputs": [],
   "source": [
    "#april_og = april_og.loc[april_og.name == \"Bay Area 511 SamTrans Schedule\"].reset_index(\n",
    "#    drop=True\n",
    "#)"
   ]
  },
  {
   "cell_type": "code",
   "execution_count": 10,
   "id": "03e7544e-bd35-4e0f-bc49-f7f878bf07da",
   "metadata": {},
   "outputs": [
    {
     "data": {
      "text/plain": [
       "' april_df = helpers.import_scheduled_trips(\\n    analysis_date=apr_week[0],\\n    columns=[\\n        \"name\",\\n        \"service_date\",\\n        \"route_long_name\",\\n        \"trip_first_departure_datetime_pacific\",\\n        \"service_hours\",\\n    ],\\n)'"
      ]
     },
     "execution_count": 10,
     "metadata": {},
     "output_type": "execute_result"
    }
   ],
   "source": [
    "\"\"\" april_df = helpers.import_scheduled_trips(\n",
    "    analysis_date=apr_week[0],\n",
    "    columns=[\n",
    "        \"name\",\n",
    "        \"service_date\",\n",
    "        \"route_long_name\",\n",
    "        \"trip_first_departure_datetime_pacific\",\n",
    "        \"service_hours\",\n",
    "    ],\n",
    ")\"\"\""
   ]
  },
  {
   "cell_type": "code",
   "execution_count": 11,
   "id": "f7a94179-edfc-47f6-b9a6-0150b0266a23",
   "metadata": {},
   "outputs": [],
   "source": [
    "# april_df.head(2)"
   ]
  },
  {
   "cell_type": "markdown",
   "id": "7f900cc7-b8e6-4928-8a14-0d40d48c4ef6",
   "metadata": {},
   "source": [
    "### Lift [this code](https://github.com/cal-itp/data-analyses/blob/main/gtfs_digest/merge_data.py#L27) to read in an entire week."
   ]
  },
  {
   "cell_type": "code",
   "execution_count": 12,
   "id": "84d3b5d5-6d3a-4929-9df0-427d59209992",
   "metadata": {
    "scrolled": true,
    "tags": []
   },
   "outputs": [],
   "source": [
    "# time_series_utils.concatenate_datasets_across_dates??"
   ]
  },
  {
   "cell_type": "code",
   "execution_count": 13,
   "id": "d06e02d9-5533-44bb-95f6-6c040cb28624",
   "metadata": {},
   "outputs": [],
   "source": [
    "def concatenate_trips(\n",
    "    date_list: list,\n",
    ") -> pd.DataFrame:\n",
    "    \"\"\"\n",
    "    Concatenate schedule data that's been\n",
    "    aggregated to route-direction-time_period.\n",
    "    \"\"\"\n",
    "    FILE = GTFS_DATA_DICT.schedule_downloads.trips\n",
    "\n",
    "    df = (\n",
    "        time_series_utils.concatenate_datasets_across_dates(\n",
    "            COMPILED_CACHED_VIEWS,\n",
    "            FILE,\n",
    "            date_list,\n",
    "            data_type=\"df\",\n",
    "            columns=[\n",
    "                \"name\",\n",
    "                \"service_date\",\n",
    "                \"route_long_name\",\n",
    "                \"trip_first_departure_datetime_pacific\",\n",
    "                \"service_hours\",\n",
    "            ],\n",
    "        )\n",
    "        .sort_values([\"service_date\"])\n",
    "        .reset_index(drop=True)\n",
    "    )\n",
    "\n",
    "    return df"
   ]
  },
  {
   "cell_type": "code",
   "execution_count": 14,
   "id": "0fdaa11e-f2a9-4d22-b3ff-fe4ace7b5886",
   "metadata": {},
   "outputs": [],
   "source": [
    "april_df = concatenate_trips(apr_week)"
   ]
  },
  {
   "cell_type": "code",
   "execution_count": 15,
   "id": "83116c86-b77f-48c9-93ee-458ad26a9424",
   "metadata": {},
   "outputs": [],
   "source": [
    "def get_day_type(date):\n",
    "    \"\"\"\n",
    "    Function to return the day type (e.g., Monday, Tuesday, etc.) from a datetime object.\n",
    "    \"\"\"\n",
    "    days_of_week = [\"Monday\", \"Tuesday\", \"Wednesday\", \"Thursday\", \"Friday\", \"Saturday\", \"Sunday\"]\n",
    "    return days_of_week[date.weekday()]\n"
   ]
  },
  {
   "cell_type": "code",
   "execution_count": 16,
   "id": "9bf0e284-764e-4a85-ae9c-d7e5a464a944",
   "metadata": {},
   "outputs": [],
   "source": [
    "def weekday_or_weekend(row):\n",
    "    if row.day_type == \"Sunday\":\n",
    "        return \"Sunday\"\n",
    "    if row.day_type == \"Saturday\":\n",
    "        return \"Saturday\"\n",
    "    else:\n",
    "        return \"Weekday\""
   ]
  },
  {
   "cell_type": "code",
   "execution_count": 17,
   "id": "6c4ce166-d8f8-4e41-8a95-e82160913117",
   "metadata": {},
   "outputs": [],
   "source": [
    "def total_service_hours(date_list: list, name: str) -> pd.DataFrame:\n",
    "    # Combine all the days' data for a week\n",
    "    df = concatenate_trips(date_list)\n",
    "    \n",
    "     # Filter\n",
    "    df = df.loc[df.name == name].reset_index(drop=True)\n",
    "    \n",
    "    # Add day type aka Monday, Tuesday, Wednesday...\n",
    "    df['day_type'] = df['service_date'].apply(get_day_type)\n",
    "    \n",
    "    # Tag if the day is a weekday, Saturday, or Sunday\n",
    "    df[\"weekend_weekday\"] = df.apply(weekday_or_weekend, axis=1)\n",
    "    \n",
    "    # Find the minimum departure hour\n",
    "    df[\"departure_hour\"] = df.trip_first_departure_datetime_pacific.dt.hour\n",
    "    \n",
    "    # Delete out the specific day, leave only month & year\n",
    "    df[\"month\"] = df.service_date.astype(str).str.slice(stop=7)\n",
    "    \n",
    "    df2 = (\n",
    "        df.groupby([\"name\", \"month\", \"weekend_weekday\", \"departure_hour\"])\n",
    "        .agg(\n",
    "            {\n",
    "                \"service_hours\": \"sum\",\n",
    "            }\n",
    "        )\n",
    "        .reset_index()\n",
    "    )\n",
    "\n",
    "    return df2"
   ]
  },
  {
   "cell_type": "code",
   "execution_count": 18,
   "id": "2b964219-6088-4513-bf33-f666bc2ebdf4",
   "metadata": {},
   "outputs": [],
   "source": [
    "april_sum = total_service_hours(apr_week, \"Bay Area 511 SamTrans Schedule\")"
   ]
  },
  {
   "cell_type": "code",
   "execution_count": 19,
   "id": "14b9604d-afc9-406a-b5dc-0e6c9f2d14f6",
   "metadata": {},
   "outputs": [],
   "source": [
    "def all_months(name: str) -> pd.DataFrame:\n",
    "    \n",
    "    # Grab the dataframes with a full week's worth of data. \n",
    "    apr_week = rt_dates.get_week(month=\"apr2023\", exclude_wed=False)\n",
    "    oct_week = rt_dates.get_week(month=\"oct2023\", exclude_wed=False)\n",
    "    \n",
    "    # Sum up total service_hours\n",
    "    apr_df = total_service_hours(apr_week, name)\n",
    "    oct_df = total_service_hours(oct_week, name)\n",
    "\n",
    "    # Combine everything\n",
    "    all_df = pd.concat([apr_df, oct_df])\n",
    "    \n",
    "    all_df.columns = all_df.columns.map(_report_utils.replace_column_names)\n",
    "    return all_df"
   ]
  },
  {
   "cell_type": "code",
   "execution_count": 20,
   "id": "34ea12eb-eb43-4c29-a1e9-6e4504e3ed65",
   "metadata": {},
   "outputs": [],
   "source": [
    "samtrans = all_months(\"Bay Area 511 SamTrans Schedule\")"
   ]
  },
  {
   "cell_type": "code",
   "execution_count": 21,
   "id": "35de975c-24d2-4324-9113-59a9820f0deb",
   "metadata": {},
   "outputs": [
    {
     "data": {
      "text/html": [
       "<div>\n",
       "<style scoped>\n",
       "    .dataframe tbody tr th:only-of-type {\n",
       "        vertical-align: middle;\n",
       "    }\n",
       "\n",
       "    .dataframe tbody tr th {\n",
       "        vertical-align: top;\n",
       "    }\n",
       "\n",
       "    .dataframe thead th {\n",
       "        text-align: right;\n",
       "    }\n",
       "</style>\n",
       "<table border=\"1\" class=\"dataframe\">\n",
       "  <thead>\n",
       "    <tr style=\"text-align: right;\">\n",
       "      <th></th>\n",
       "      <th>Transit Operator</th>\n",
       "      <th>Month</th>\n",
       "      <th>Weekend or Weekday</th>\n",
       "      <th>Departure Hour</th>\n",
       "      <th>Service Hours</th>\n",
       "    </tr>\n",
       "  </thead>\n",
       "  <tbody>\n",
       "    <tr>\n",
       "      <th>0</th>\n",
       "      <td>Bay Area 511 SamTrans Schedule</td>\n",
       "      <td>2023-04</td>\n",
       "      <td>Saturday</td>\n",
       "      <td>0</td>\n",
       "      <td>7.52</td>\n",
       "    </tr>\n",
       "    <tr>\n",
       "      <th>1</th>\n",
       "      <td>Bay Area 511 SamTrans Schedule</td>\n",
       "      <td>2023-04</td>\n",
       "      <td>Saturday</td>\n",
       "      <td>1</td>\n",
       "      <td>8.32</td>\n",
       "    </tr>\n",
       "  </tbody>\n",
       "</table>\n",
       "</div>"
      ],
      "text/plain": [
       "                 Transit Operator    Month Weekend or Weekday  Departure Hour  \\\n",
       "0  Bay Area 511 SamTrans Schedule  2023-04           Saturday               0   \n",
       "1  Bay Area 511 SamTrans Schedule  2023-04           Saturday               1   \n",
       "\n",
       "   Service Hours  \n",
       "0           7.52  \n",
       "1           8.32  "
      ]
     },
     "execution_count": 21,
     "metadata": {},
     "output_type": "execute_result"
    }
   ],
   "source": [
    "samtrans.head(2)"
   ]
  },
  {
   "cell_type": "code",
   "execution_count": 22,
   "id": "00c942f1-0f12-4a5d-90ee-dd516627f75c",
   "metadata": {},
   "outputs": [],
   "source": [
    "def create_bg_service_chart():\n",
    "    \"\"\"\n",
    "    Create a shaded background for the Service Hour Chart\n",
    "    by Time Period. \n",
    "    \"\"\"\n",
    "    cutoff = pd.DataFrame(\n",
    "    {\n",
    "        \"start\": [0, 4, 7, 10, 15, 19],\n",
    "        \"stop\": [3.99, 6.99, 9.99, 14.99, 18.99, 24],\n",
    "        \"time_period\": [\n",
    "            \"Owl:12-3:59AM\",\n",
    "            \"Early AM:4-6:59AM\",\n",
    "            \"AM Peak:7-9:59AM\",\n",
    "            \"Midday:10AM-2:59PM\",\n",
    "            \"PM Peak:3-7:59PM\",\n",
    "            \"Evening:8-11:59PM\",\n",
    "        ],\n",
    "    }\n",
    "    )\n",
    "    \n",
    "    # Sort legend by time, 12am starting first. \n",
    "    chart = alt.Chart(cutoff.reset_index()).mark_rect(opacity=0.15).encode(\n",
    "    x=\"start\",\n",
    "    x2=\"stop\",\n",
    "    y=alt.value(0),  # pixels from top\n",
    "    y2=alt.value(250),  # pixels from top\n",
    "    color=alt.Color(\n",
    "        \"time_period:N\",\n",
    "        sort = (\n",
    "            [\n",
    "                \"Owl:12-3:59AM\",\n",
    "                \"Early AM:4-6:59AM\",\n",
    "                \"AM Peak:7-9:59AM\",\n",
    "                \"Midday:10AM-2:59PM\",\n",
    "                \"PM Peak:3-7:59PM\",\n",
    "                \"Evening:8-11:59PM\",\n",
    "            ]\n",
    "        ),\n",
    "        title=_report_utils.labeling(\"time_period\"),\n",
    "        scale=alt.Scale(range=color_dict[\"full_color_scale\"]),\n",
    "    ))\n",
    "    \n",
    "    return chart"
   ]
  },
  {
   "cell_type": "code",
   "execution_count": 23,
   "id": "2f9c2d63-8bed-4792-bb62-e80e3f069803",
   "metadata": {},
   "outputs": [
    {
     "data": {
      "text/html": [
       "\n",
       "<style>\n",
       "  #altair-viz-abc3306397994e8180a4ac06a7495a93.vega-embed {\n",
       "    width: 100%;\n",
       "    display: flex;\n",
       "  }\n",
       "\n",
       "  #altair-viz-abc3306397994e8180a4ac06a7495a93.vega-embed details,\n",
       "  #altair-viz-abc3306397994e8180a4ac06a7495a93.vega-embed details summary {\n",
       "    position: relative;\n",
       "  }\n",
       "</style>\n",
       "<div id=\"altair-viz-abc3306397994e8180a4ac06a7495a93\"></div>\n",
       "<script type=\"text/javascript\">\n",
       "  var VEGA_DEBUG = (typeof VEGA_DEBUG == \"undefined\") ? {} : VEGA_DEBUG;\n",
       "  (function(spec, embedOpt){\n",
       "    let outputDiv = document.currentScript.previousElementSibling;\n",
       "    if (outputDiv.id !== \"altair-viz-abc3306397994e8180a4ac06a7495a93\") {\n",
       "      outputDiv = document.getElementById(\"altair-viz-abc3306397994e8180a4ac06a7495a93\");\n",
       "    }\n",
       "    const paths = {\n",
       "      \"vega\": \"https://cdn.jsdelivr.net/npm/vega@5?noext\",\n",
       "      \"vega-lib\": \"https://cdn.jsdelivr.net/npm/vega-lib?noext\",\n",
       "      \"vega-lite\": \"https://cdn.jsdelivr.net/npm/vega-lite@5.14.1?noext\",\n",
       "      \"vega-embed\": \"https://cdn.jsdelivr.net/npm/vega-embed@6?noext\",\n",
       "    };\n",
       "\n",
       "    function maybeLoadScript(lib, version) {\n",
       "      var key = `${lib.replace(\"-\", \"\")}_version`;\n",
       "      return (VEGA_DEBUG[key] == version) ?\n",
       "        Promise.resolve(paths[lib]) :\n",
       "        new Promise(function(resolve, reject) {\n",
       "          var s = document.createElement('script');\n",
       "          document.getElementsByTagName(\"head\")[0].appendChild(s);\n",
       "          s.async = true;\n",
       "          s.onload = () => {\n",
       "            VEGA_DEBUG[key] = version;\n",
       "            return resolve(paths[lib]);\n",
       "          };\n",
       "          s.onerror = () => reject(`Error loading script: ${paths[lib]}`);\n",
       "          s.src = paths[lib];\n",
       "        });\n",
       "    }\n",
       "\n",
       "    function showError(err) {\n",
       "      outputDiv.innerHTML = `<div class=\"error\" style=\"color:red;\">${err}</div>`;\n",
       "      throw err;\n",
       "    }\n",
       "\n",
       "    function displayChart(vegaEmbed) {\n",
       "      vegaEmbed(outputDiv, spec, embedOpt)\n",
       "        .catch(err => showError(`Javascript Error: ${err.message}<br>This usually means there's a typo in your chart specification. See the javascript console for the full traceback.`));\n",
       "    }\n",
       "\n",
       "    if(typeof define === \"function\" && define.amd) {\n",
       "      requirejs.config({paths});\n",
       "      require([\"vega-embed\"], displayChart, err => showError(`Error loading script: ${err.message}`));\n",
       "    } else {\n",
       "      maybeLoadScript(\"vega\", \"5\")\n",
       "        .then(() => maybeLoadScript(\"vega-lite\", \"5.14.1\"))\n",
       "        .then(() => maybeLoadScript(\"vega-embed\", \"6\"))\n",
       "        .catch(showError)\n",
       "        .then(() => displayChart(vegaEmbed));\n",
       "    }\n",
       "  })({\"config\": {\"view\": {\"continuousWidth\": 300, \"continuousHeight\": 300}}, \"data\": {\"name\": \"data-91fb023a201e36c50d50ceee25465cb3\"}, \"mark\": {\"type\": \"rect\", \"opacity\": 0.15}, \"encoding\": {\"color\": {\"field\": \"time_period\", \"scale\": {\"range\": [\"#7cc665\", \"#fcaa5f\", \"#fde18d\", \"#ec5d3b\", \"#3b56a4\", \"#49a2b2\"]}, \"sort\": [\"Owl:12-3:59AM\", \"Early AM:4-6:59AM\", \"AM Peak:7-9:59AM\", \"Midday:10AM-2:59PM\", \"PM Peak:3-7:59PM\", \"Evening:8-11:59PM\"], \"title\": \"Time Period\", \"type\": \"nominal\"}, \"x\": {\"field\": \"start\", \"type\": \"quantitative\"}, \"x2\": {\"field\": \"stop\"}, \"y\": {\"value\": 0}, \"y2\": {\"value\": 250}}, \"$schema\": \"https://vega.github.io/schema/vega-lite/v5.14.1.json\", \"datasets\": {\"data-91fb023a201e36c50d50ceee25465cb3\": [{\"index\": 0, \"start\": 0, \"stop\": 3.99, \"time_period\": \"Owl:12-3:59AM\"}, {\"index\": 1, \"start\": 4, \"stop\": 6.99, \"time_period\": \"Early AM:4-6:59AM\"}, {\"index\": 2, \"start\": 7, \"stop\": 9.99, \"time_period\": \"AM Peak:7-9:59AM\"}, {\"index\": 3, \"start\": 10, \"stop\": 14.99, \"time_period\": \"Midday:10AM-2:59PM\"}, {\"index\": 4, \"start\": 15, \"stop\": 18.99, \"time_period\": \"PM Peak:3-7:59PM\"}, {\"index\": 5, \"start\": 19, \"stop\": 24.0, \"time_period\": \"Evening:8-11:59PM\"}]}}, {\"mode\": \"vega-lite\"});\n",
       "</script>"
      ],
      "text/plain": [
       "alt.Chart(...)"
      ]
     },
     "execution_count": 23,
     "metadata": {},
     "output_type": "execute_result"
    }
   ],
   "source": [
    "create_bg_service_chart()"
   ]
  },
  {
   "cell_type": "code",
   "execution_count": 24,
   "id": "39c52dc0-c787-4d29-9c77-8e46a0f9a98d",
   "metadata": {},
   "outputs": [],
   "source": [
    "def create_service_hour_chart(df:pd.DataFrame, day_type:str):\n",
    "    # Create an interactive legend\n",
    "    selection = alt.selection_point(fields=['Month'], bind='legend')\n",
    "    \n",
    "    # Create the main line chart\n",
    "    df = df.loc[df[\"Weekend or Weekday\"] == day_type].reset_index(drop = True)\n",
    "    \n",
    "    # Create a new title that incorporates day type\n",
    "    title = readable_dict[\"daily_scheduled_hour\"][\"title\"]\n",
    "    title = title + ' for ' + day_type\n",
    "\n",
    "    main_chart = (\n",
    "    alt.Chart(df)\n",
    "    .mark_line(size=3)\n",
    "    .encode(\n",
    "        x=alt.X(\"Departure Hour\", \n",
    "                title=_report_utils.labeling(\"Departure Hour in Military Time\")),\n",
    "        y=alt.Y(\"Service Hours\"),\n",
    "        color=alt.Color(\n",
    "            \"Month\",\n",
    "            scale=alt.Scale(range=color_dict[\"longest_shortest_route\"]),  # Specify desired order\n",
    "        ),\n",
    "        opacity=alt.condition(selection, alt.value(1), alt.value(0.2)),\n",
    "        tooltip=list(df.columns),\n",
    "    )\n",
    "    .properties(\n",
    "        width=400,\n",
    "        height=250,\n",
    "        title={\"text\": title, \n",
    "               \"subtitle\": readable_dict[\"daily_scheduled_hour\"][\"subtitle\"]},\n",
    "    )\n",
    "    .add_params(selection)\n",
    "    )\n",
    "    \n",
    "    # display(main_chart)\n",
    "    # Load background chart\n",
    "    bg_chart = create_bg_service_chart()\n",
    "    # display(bg_chart)\n",
    "    \n",
    "    # Combine\n",
    "    final_chart = (main_chart + bg_chart).properties(\n",
    "    resolve=alt.Resolve(\n",
    "        scale=alt.LegendResolveMap(color=alt.ResolveMode(\"independent\"))\n",
    "    )\n",
    "    )\n",
    "    \n",
    "    return final_chart"
   ]
  },
  {
   "cell_type": "code",
   "execution_count": 25,
   "id": "45ac9fbd-d411-4ec0-a62b-7dbe40e6e5cb",
   "metadata": {},
   "outputs": [
    {
     "data": {
      "text/html": [
       "\n",
       "<style>\n",
       "  #altair-viz-02ff460a58204378afd03f003793746a.vega-embed {\n",
       "    width: 100%;\n",
       "    display: flex;\n",
       "  }\n",
       "\n",
       "  #altair-viz-02ff460a58204378afd03f003793746a.vega-embed details,\n",
       "  #altair-viz-02ff460a58204378afd03f003793746a.vega-embed details summary {\n",
       "    position: relative;\n",
       "  }\n",
       "</style>\n",
       "<div id=\"altair-viz-02ff460a58204378afd03f003793746a\"></div>\n",
       "<script type=\"text/javascript\">\n",
       "  var VEGA_DEBUG = (typeof VEGA_DEBUG == \"undefined\") ? {} : VEGA_DEBUG;\n",
       "  (function(spec, embedOpt){\n",
       "    let outputDiv = document.currentScript.previousElementSibling;\n",
       "    if (outputDiv.id !== \"altair-viz-02ff460a58204378afd03f003793746a\") {\n",
       "      outputDiv = document.getElementById(\"altair-viz-02ff460a58204378afd03f003793746a\");\n",
       "    }\n",
       "    const paths = {\n",
       "      \"vega\": \"https://cdn.jsdelivr.net/npm/vega@5?noext\",\n",
       "      \"vega-lib\": \"https://cdn.jsdelivr.net/npm/vega-lib?noext\",\n",
       "      \"vega-lite\": \"https://cdn.jsdelivr.net/npm/vega-lite@5.14.1?noext\",\n",
       "      \"vega-embed\": \"https://cdn.jsdelivr.net/npm/vega-embed@6?noext\",\n",
       "    };\n",
       "\n",
       "    function maybeLoadScript(lib, version) {\n",
       "      var key = `${lib.replace(\"-\", \"\")}_version`;\n",
       "      return (VEGA_DEBUG[key] == version) ?\n",
       "        Promise.resolve(paths[lib]) :\n",
       "        new Promise(function(resolve, reject) {\n",
       "          var s = document.createElement('script');\n",
       "          document.getElementsByTagName(\"head\")[0].appendChild(s);\n",
       "          s.async = true;\n",
       "          s.onload = () => {\n",
       "            VEGA_DEBUG[key] = version;\n",
       "            return resolve(paths[lib]);\n",
       "          };\n",
       "          s.onerror = () => reject(`Error loading script: ${paths[lib]}`);\n",
       "          s.src = paths[lib];\n",
       "        });\n",
       "    }\n",
       "\n",
       "    function showError(err) {\n",
       "      outputDiv.innerHTML = `<div class=\"error\" style=\"color:red;\">${err}</div>`;\n",
       "      throw err;\n",
       "    }\n",
       "\n",
       "    function displayChart(vegaEmbed) {\n",
       "      vegaEmbed(outputDiv, spec, embedOpt)\n",
       "        .catch(err => showError(`Javascript Error: ${err.message}<br>This usually means there's a typo in your chart specification. See the javascript console for the full traceback.`));\n",
       "    }\n",
       "\n",
       "    if(typeof define === \"function\" && define.amd) {\n",
       "      requirejs.config({paths});\n",
       "      require([\"vega-embed\"], displayChart, err => showError(`Error loading script: ${err.message}`));\n",
       "    } else {\n",
       "      maybeLoadScript(\"vega\", \"5\")\n",
       "        .then(() => maybeLoadScript(\"vega-lite\", \"5.14.1\"))\n",
       "        .then(() => maybeLoadScript(\"vega-embed\", \"6\"))\n",
       "        .catch(showError)\n",
       "        .then(() => displayChart(vegaEmbed));\n",
       "    }\n",
       "  })({\"config\": {\"view\": {\"continuousWidth\": 300, \"continuousHeight\": 300}}, \"layer\": [{\"data\": {\"name\": \"data-50534a594c1410f620084a8acb7c5a50\"}, \"mark\": {\"type\": \"line\", \"size\": 3}, \"encoding\": {\"color\": {\"field\": \"Month\", \"scale\": {\"range\": [\"#fde18d\", \"#49a2b2\"]}, \"type\": \"nominal\"}, \"opacity\": {\"condition\": {\"param\": \"param_1\", \"value\": 1}, \"value\": 0.2}, \"tooltip\": [{\"field\": \"Transit Operator\", \"type\": \"nominal\"}, {\"field\": \"Month\", \"type\": \"nominal\"}, {\"field\": \"Weekend or Weekday\", \"type\": \"nominal\"}, {\"field\": \"Departure Hour\", \"type\": \"quantitative\"}, {\"field\": \"Service Hours\", \"type\": \"quantitative\"}], \"x\": {\"field\": \"Departure Hour\", \"title\": \"Departure Hour In Military Time\", \"type\": \"quantitative\"}, \"y\": {\"field\": \"Service Hours\", \"type\": \"quantitative\"}}, \"name\": \"view_1\", \"title\": {\"text\": \"Daily Scheduled Service Hours for Sunday\", \"subtitle\": \"Use the legend to highlight a particular month and hover over the line for additional information.\"}}, {\"data\": {\"name\": \"data-91fb023a201e36c50d50ceee25465cb3\"}, \"mark\": {\"type\": \"rect\", \"opacity\": 0.15}, \"encoding\": {\"color\": {\"field\": \"time_period\", \"scale\": {\"range\": [\"#7cc665\", \"#fcaa5f\", \"#fde18d\", \"#ec5d3b\", \"#3b56a4\", \"#49a2b2\"]}, \"sort\": [\"Owl:12-3:59AM\", \"Early AM:4-6:59AM\", \"AM Peak:7-9:59AM\", \"Midday:10AM-2:59PM\", \"PM Peak:3-7:59PM\", \"Evening:8-11:59PM\"], \"title\": \"Time Period\", \"type\": \"nominal\"}, \"x\": {\"field\": \"start\", \"type\": \"quantitative\"}, \"x2\": {\"field\": \"stop\"}, \"y\": {\"value\": 0}, \"y2\": {\"value\": 250}}}], \"height\": 250, \"params\": [{\"name\": \"param_1\", \"select\": {\"type\": \"point\", \"fields\": [\"Month\"]}, \"bind\": \"legend\", \"views\": [\"view_1\"]}], \"resolve\": {\"scale\": {\"color\": \"independent\"}}, \"width\": 400, \"$schema\": \"https://vega.github.io/schema/vega-lite/v5.14.1.json\", \"datasets\": {\"data-50534a594c1410f620084a8acb7c5a50\": [{\"Transit Operator\": \"Bay Area 511 SamTrans Schedule\", \"Month\": \"2023-04\", \"Weekend or Weekday\": \"Sunday\", \"Departure Hour\": 0, \"Service Hours\": 7.516666666666667}, {\"Transit Operator\": \"Bay Area 511 SamTrans Schedule\", \"Month\": \"2023-04\", \"Weekend or Weekday\": \"Sunday\", \"Departure Hour\": 1, \"Service Hours\": 8.316666666666666}, {\"Transit Operator\": \"Bay Area 511 SamTrans Schedule\", \"Month\": \"2023-04\", \"Weekend or Weekday\": \"Sunday\", \"Departure Hour\": 2, \"Service Hours\": 5.516666666666667}, {\"Transit Operator\": \"Bay Area 511 SamTrans Schedule\", \"Month\": \"2023-04\", \"Weekend or Weekday\": \"Sunday\", \"Departure Hour\": 3, \"Service Hours\": 4.016666666666667}, {\"Transit Operator\": \"Bay Area 511 SamTrans Schedule\", \"Month\": \"2023-04\", \"Weekend or Weekday\": \"Sunday\", \"Departure Hour\": 4, \"Service Hours\": 10.033333333333333}, {\"Transit Operator\": \"Bay Area 511 SamTrans Schedule\", \"Month\": \"2023-04\", \"Weekend or Weekday\": \"Sunday\", \"Departure Hour\": 5, \"Service Hours\": 9.916666666666666}, {\"Transit Operator\": \"Bay Area 511 SamTrans Schedule\", \"Month\": \"2023-04\", \"Weekend or Weekday\": \"Sunday\", \"Departure Hour\": 6, \"Service Hours\": 25.65}, {\"Transit Operator\": \"Bay Area 511 SamTrans Schedule\", \"Month\": \"2023-04\", \"Weekend or Weekday\": \"Sunday\", \"Departure Hour\": 7, \"Service Hours\": 40.7}, {\"Transit Operator\": \"Bay Area 511 SamTrans Schedule\", \"Month\": \"2023-04\", \"Weekend or Weekday\": \"Sunday\", \"Departure Hour\": 8, \"Service Hours\": 51.666666666666664}, {\"Transit Operator\": \"Bay Area 511 SamTrans Schedule\", \"Month\": \"2023-04\", \"Weekend or Weekday\": \"Sunday\", \"Departure Hour\": 9, \"Service Hours\": 52.916666666666664}, {\"Transit Operator\": \"Bay Area 511 SamTrans Schedule\", \"Month\": \"2023-04\", \"Weekend or Weekday\": \"Sunday\", \"Departure Hour\": 10, \"Service Hours\": 58.0}, {\"Transit Operator\": \"Bay Area 511 SamTrans Schedule\", \"Month\": \"2023-04\", \"Weekend or Weekday\": \"Sunday\", \"Departure Hour\": 11, \"Service Hours\": 59.25}, {\"Transit Operator\": \"Bay Area 511 SamTrans Schedule\", \"Month\": \"2023-04\", \"Weekend or Weekday\": \"Sunday\", \"Departure Hour\": 12, \"Service Hours\": 60.06666666666666}, {\"Transit Operator\": \"Bay Area 511 SamTrans Schedule\", \"Month\": \"2023-04\", \"Weekend or Weekday\": \"Sunday\", \"Departure Hour\": 13, \"Service Hours\": 60.416666666666664}, {\"Transit Operator\": \"Bay Area 511 SamTrans Schedule\", \"Month\": \"2023-04\", \"Weekend or Weekday\": \"Sunday\", \"Departure Hour\": 14, \"Service Hours\": 60.5}, {\"Transit Operator\": \"Bay Area 511 SamTrans Schedule\", \"Month\": \"2023-04\", \"Weekend or Weekday\": \"Sunday\", \"Departure Hour\": 15, \"Service Hours\": 60.53333333333333}, {\"Transit Operator\": \"Bay Area 511 SamTrans Schedule\", \"Month\": \"2023-04\", \"Weekend or Weekday\": \"Sunday\", \"Departure Hour\": 16, \"Service Hours\": 59.7}, {\"Transit Operator\": \"Bay Area 511 SamTrans Schedule\", \"Month\": \"2023-04\", \"Weekend or Weekday\": \"Sunday\", \"Departure Hour\": 17, \"Service Hours\": 58.516666666666666}, {\"Transit Operator\": \"Bay Area 511 SamTrans Schedule\", \"Month\": \"2023-04\", \"Weekend or Weekday\": \"Sunday\", \"Departure Hour\": 18, \"Service Hours\": 52.38333333333333}, {\"Transit Operator\": \"Bay Area 511 SamTrans Schedule\", \"Month\": \"2023-04\", \"Weekend or Weekday\": \"Sunday\", \"Departure Hour\": 19, \"Service Hours\": 38.416666666666664}, {\"Transit Operator\": \"Bay Area 511 SamTrans Schedule\", \"Month\": \"2023-04\", \"Weekend or Weekday\": \"Sunday\", \"Departure Hour\": 20, \"Service Hours\": 29.133333333333333}, {\"Transit Operator\": \"Bay Area 511 SamTrans Schedule\", \"Month\": \"2023-04\", \"Weekend or Weekday\": \"Sunday\", \"Departure Hour\": 21, \"Service Hours\": 22.05}, {\"Transit Operator\": \"Bay Area 511 SamTrans Schedule\", \"Month\": \"2023-04\", \"Weekend or Weekday\": \"Sunday\", \"Departure Hour\": 22, \"Service Hours\": 18.1}, {\"Transit Operator\": \"Bay Area 511 SamTrans Schedule\", \"Month\": \"2023-04\", \"Weekend or Weekday\": \"Sunday\", \"Departure Hour\": 23, \"Service Hours\": 11.433333333333334}, {\"Transit Operator\": \"Bay Area 511 SamTrans Schedule\", \"Month\": \"2023-10\", \"Weekend or Weekday\": \"Sunday\", \"Departure Hour\": 0, \"Service Hours\": 7.95}, {\"Transit Operator\": \"Bay Area 511 SamTrans Schedule\", \"Month\": \"2023-10\", \"Weekend or Weekday\": \"Sunday\", \"Departure Hour\": 1, \"Service Hours\": 10.549999999999999}, {\"Transit Operator\": \"Bay Area 511 SamTrans Schedule\", \"Month\": \"2023-10\", \"Weekend or Weekday\": \"Sunday\", \"Departure Hour\": 2, \"Service Hours\": 5.716666666666667}, {\"Transit Operator\": \"Bay Area 511 SamTrans Schedule\", \"Month\": \"2023-10\", \"Weekend or Weekday\": \"Sunday\", \"Departure Hour\": 3, \"Service Hours\": 4.1}, {\"Transit Operator\": \"Bay Area 511 SamTrans Schedule\", \"Month\": \"2023-10\", \"Weekend or Weekday\": \"Sunday\", \"Departure Hour\": 4, \"Service Hours\": 10.233333333333333}, {\"Transit Operator\": \"Bay Area 511 SamTrans Schedule\", \"Month\": \"2023-10\", \"Weekend or Weekday\": \"Sunday\", \"Departure Hour\": 5, \"Service Hours\": 11.7}, {\"Transit Operator\": \"Bay Area 511 SamTrans Schedule\", \"Month\": \"2023-10\", \"Weekend or Weekday\": \"Sunday\", \"Departure Hour\": 6, \"Service Hours\": 26.916666666666668}, {\"Transit Operator\": \"Bay Area 511 SamTrans Schedule\", \"Month\": \"2023-10\", \"Weekend or Weekday\": \"Sunday\", \"Departure Hour\": 7, \"Service Hours\": 40.71666666666667}, {\"Transit Operator\": \"Bay Area 511 SamTrans Schedule\", \"Month\": \"2023-10\", \"Weekend or Weekday\": \"Sunday\", \"Departure Hour\": 8, \"Service Hours\": 49.0}, {\"Transit Operator\": \"Bay Area 511 SamTrans Schedule\", \"Month\": \"2023-10\", \"Weekend or Weekday\": \"Sunday\", \"Departure Hour\": 9, \"Service Hours\": 57.43333333333333}, {\"Transit Operator\": \"Bay Area 511 SamTrans Schedule\", \"Month\": \"2023-10\", \"Weekend or Weekday\": \"Sunday\", \"Departure Hour\": 10, \"Service Hours\": 60.5}, {\"Transit Operator\": \"Bay Area 511 SamTrans Schedule\", \"Month\": \"2023-10\", \"Weekend or Weekday\": \"Sunday\", \"Departure Hour\": 11, \"Service Hours\": 61.96666666666667}, {\"Transit Operator\": \"Bay Area 511 SamTrans Schedule\", \"Month\": \"2023-10\", \"Weekend or Weekday\": \"Sunday\", \"Departure Hour\": 12, \"Service Hours\": 62.43333333333334}, {\"Transit Operator\": \"Bay Area 511 SamTrans Schedule\", \"Month\": \"2023-10\", \"Weekend or Weekday\": \"Sunday\", \"Departure Hour\": 13, \"Service Hours\": 62.833333333333336}, {\"Transit Operator\": \"Bay Area 511 SamTrans Schedule\", \"Month\": \"2023-10\", \"Weekend or Weekday\": \"Sunday\", \"Departure Hour\": 14, \"Service Hours\": 62.86666666666667}, {\"Transit Operator\": \"Bay Area 511 SamTrans Schedule\", \"Month\": \"2023-10\", \"Weekend or Weekday\": \"Sunday\", \"Departure Hour\": 15, \"Service Hours\": 62.583333333333336}, {\"Transit Operator\": \"Bay Area 511 SamTrans Schedule\", \"Month\": \"2023-10\", \"Weekend or Weekday\": \"Sunday\", \"Departure Hour\": 16, \"Service Hours\": 62.3}, {\"Transit Operator\": \"Bay Area 511 SamTrans Schedule\", \"Month\": \"2023-10\", \"Weekend or Weekday\": \"Sunday\", \"Departure Hour\": 17, \"Service Hours\": 61.2}, {\"Transit Operator\": \"Bay Area 511 SamTrans Schedule\", \"Month\": \"2023-10\", \"Weekend or Weekday\": \"Sunday\", \"Departure Hour\": 18, \"Service Hours\": 53.266666666666666}, {\"Transit Operator\": \"Bay Area 511 SamTrans Schedule\", \"Month\": \"2023-10\", \"Weekend or Weekday\": \"Sunday\", \"Departure Hour\": 19, \"Service Hours\": 44.36666666666667}, {\"Transit Operator\": \"Bay Area 511 SamTrans Schedule\", \"Month\": \"2023-10\", \"Weekend or Weekday\": \"Sunday\", \"Departure Hour\": 20, \"Service Hours\": 30.65}, {\"Transit Operator\": \"Bay Area 511 SamTrans Schedule\", \"Month\": \"2023-10\", \"Weekend or Weekday\": \"Sunday\", \"Departure Hour\": 21, \"Service Hours\": 21.883333333333333}, {\"Transit Operator\": \"Bay Area 511 SamTrans Schedule\", \"Month\": \"2023-10\", \"Weekend or Weekday\": \"Sunday\", \"Departure Hour\": 22, \"Service Hours\": 19.483333333333334}, {\"Transit Operator\": \"Bay Area 511 SamTrans Schedule\", \"Month\": \"2023-10\", \"Weekend or Weekday\": \"Sunday\", \"Departure Hour\": 23, \"Service Hours\": 12.299999999999999}], \"data-91fb023a201e36c50d50ceee25465cb3\": [{\"index\": 0, \"start\": 0, \"stop\": 3.99, \"time_period\": \"Owl:12-3:59AM\"}, {\"index\": 1, \"start\": 4, \"stop\": 6.99, \"time_period\": \"Early AM:4-6:59AM\"}, {\"index\": 2, \"start\": 7, \"stop\": 9.99, \"time_period\": \"AM Peak:7-9:59AM\"}, {\"index\": 3, \"start\": 10, \"stop\": 14.99, \"time_period\": \"Midday:10AM-2:59PM\"}, {\"index\": 4, \"start\": 15, \"stop\": 18.99, \"time_period\": \"PM Peak:3-7:59PM\"}, {\"index\": 5, \"start\": 19, \"stop\": 24.0, \"time_period\": \"Evening:8-11:59PM\"}]}}, {\"mode\": \"vega-lite\"});\n",
       "</script>"
      ],
      "text/plain": [
       "alt.LayerChart(...)"
      ]
     },
     "execution_count": 25,
     "metadata": {},
     "output_type": "execute_result"
    }
   ],
   "source": [
    "create_service_hour_chart(samtrans, \"Sunday\")"
   ]
  },
  {
   "cell_type": "code",
   "execution_count": 26,
   "id": "557350a5-c07d-4743-9479-915b3c990b5f",
   "metadata": {},
   "outputs": [
    {
     "data": {
      "text/html": [
       "\n",
       "<style>\n",
       "  #altair-viz-22251676ede24950928312cac4fdc726.vega-embed {\n",
       "    width: 100%;\n",
       "    display: flex;\n",
       "  }\n",
       "\n",
       "  #altair-viz-22251676ede24950928312cac4fdc726.vega-embed details,\n",
       "  #altair-viz-22251676ede24950928312cac4fdc726.vega-embed details summary {\n",
       "    position: relative;\n",
       "  }\n",
       "</style>\n",
       "<div id=\"altair-viz-22251676ede24950928312cac4fdc726\"></div>\n",
       "<script type=\"text/javascript\">\n",
       "  var VEGA_DEBUG = (typeof VEGA_DEBUG == \"undefined\") ? {} : VEGA_DEBUG;\n",
       "  (function(spec, embedOpt){\n",
       "    let outputDiv = document.currentScript.previousElementSibling;\n",
       "    if (outputDiv.id !== \"altair-viz-22251676ede24950928312cac4fdc726\") {\n",
       "      outputDiv = document.getElementById(\"altair-viz-22251676ede24950928312cac4fdc726\");\n",
       "    }\n",
       "    const paths = {\n",
       "      \"vega\": \"https://cdn.jsdelivr.net/npm/vega@5?noext\",\n",
       "      \"vega-lib\": \"https://cdn.jsdelivr.net/npm/vega-lib?noext\",\n",
       "      \"vega-lite\": \"https://cdn.jsdelivr.net/npm/vega-lite@5.14.1?noext\",\n",
       "      \"vega-embed\": \"https://cdn.jsdelivr.net/npm/vega-embed@6?noext\",\n",
       "    };\n",
       "\n",
       "    function maybeLoadScript(lib, version) {\n",
       "      var key = `${lib.replace(\"-\", \"\")}_version`;\n",
       "      return (VEGA_DEBUG[key] == version) ?\n",
       "        Promise.resolve(paths[lib]) :\n",
       "        new Promise(function(resolve, reject) {\n",
       "          var s = document.createElement('script');\n",
       "          document.getElementsByTagName(\"head\")[0].appendChild(s);\n",
       "          s.async = true;\n",
       "          s.onload = () => {\n",
       "            VEGA_DEBUG[key] = version;\n",
       "            return resolve(paths[lib]);\n",
       "          };\n",
       "          s.onerror = () => reject(`Error loading script: ${paths[lib]}`);\n",
       "          s.src = paths[lib];\n",
       "        });\n",
       "    }\n",
       "\n",
       "    function showError(err) {\n",
       "      outputDiv.innerHTML = `<div class=\"error\" style=\"color:red;\">${err}</div>`;\n",
       "      throw err;\n",
       "    }\n",
       "\n",
       "    function displayChart(vegaEmbed) {\n",
       "      vegaEmbed(outputDiv, spec, embedOpt)\n",
       "        .catch(err => showError(`Javascript Error: ${err.message}<br>This usually means there's a typo in your chart specification. See the javascript console for the full traceback.`));\n",
       "    }\n",
       "\n",
       "    if(typeof define === \"function\" && define.amd) {\n",
       "      requirejs.config({paths});\n",
       "      require([\"vega-embed\"], displayChart, err => showError(`Error loading script: ${err.message}`));\n",
       "    } else {\n",
       "      maybeLoadScript(\"vega\", \"5\")\n",
       "        .then(() => maybeLoadScript(\"vega-lite\", \"5.14.1\"))\n",
       "        .then(() => maybeLoadScript(\"vega-embed\", \"6\"))\n",
       "        .catch(showError)\n",
       "        .then(() => displayChart(vegaEmbed));\n",
       "    }\n",
       "  })({\"config\": {\"view\": {\"continuousWidth\": 300, \"continuousHeight\": 300}}, \"layer\": [{\"data\": {\"name\": \"data-c89c63d77f746cb2d2fde4f6143c5387\"}, \"mark\": {\"type\": \"line\", \"size\": 3}, \"encoding\": {\"color\": {\"field\": \"Month\", \"scale\": {\"range\": [\"#fde18d\", \"#49a2b2\"]}, \"type\": \"nominal\"}, \"opacity\": {\"condition\": {\"param\": \"param_2\", \"value\": 1}, \"value\": 0.2}, \"tooltip\": [{\"field\": \"Transit Operator\", \"type\": \"nominal\"}, {\"field\": \"Month\", \"type\": \"nominal\"}, {\"field\": \"Weekend or Weekday\", \"type\": \"nominal\"}, {\"field\": \"Departure Hour\", \"type\": \"quantitative\"}, {\"field\": \"Service Hours\", \"type\": \"quantitative\"}], \"x\": {\"field\": \"Departure Hour\", \"title\": \"Departure Hour In Military Time\", \"type\": \"quantitative\"}, \"y\": {\"field\": \"Service Hours\", \"type\": \"quantitative\"}}, \"name\": \"view_2\", \"title\": {\"text\": \"Daily Scheduled Service Hours for Saturday\", \"subtitle\": \"Use the legend to highlight a particular month and hover over the line for additional information.\"}}, {\"data\": {\"name\": \"data-91fb023a201e36c50d50ceee25465cb3\"}, \"mark\": {\"type\": \"rect\", \"opacity\": 0.15}, \"encoding\": {\"color\": {\"field\": \"time_period\", \"scale\": {\"range\": [\"#7cc665\", \"#fcaa5f\", \"#fde18d\", \"#ec5d3b\", \"#3b56a4\", \"#49a2b2\"]}, \"sort\": [\"Owl:12-3:59AM\", \"Early AM:4-6:59AM\", \"AM Peak:7-9:59AM\", \"Midday:10AM-2:59PM\", \"PM Peak:3-7:59PM\", \"Evening:8-11:59PM\"], \"title\": \"Time Period\", \"type\": \"nominal\"}, \"x\": {\"field\": \"start\", \"type\": \"quantitative\"}, \"x2\": {\"field\": \"stop\"}, \"y\": {\"value\": 0}, \"y2\": {\"value\": 250}}}], \"height\": 250, \"params\": [{\"name\": \"param_2\", \"select\": {\"type\": \"point\", \"fields\": [\"Month\"]}, \"bind\": \"legend\", \"views\": [\"view_2\"]}], \"resolve\": {\"scale\": {\"color\": \"independent\"}}, \"width\": 400, \"$schema\": \"https://vega.github.io/schema/vega-lite/v5.14.1.json\", \"datasets\": {\"data-c89c63d77f746cb2d2fde4f6143c5387\": [{\"Transit Operator\": \"Bay Area 511 SamTrans Schedule\", \"Month\": \"2023-04\", \"Weekend or Weekday\": \"Saturday\", \"Departure Hour\": 0, \"Service Hours\": 7.516666666666667}, {\"Transit Operator\": \"Bay Area 511 SamTrans Schedule\", \"Month\": \"2023-04\", \"Weekend or Weekday\": \"Saturday\", \"Departure Hour\": 1, \"Service Hours\": 8.316666666666666}, {\"Transit Operator\": \"Bay Area 511 SamTrans Schedule\", \"Month\": \"2023-04\", \"Weekend or Weekday\": \"Saturday\", \"Departure Hour\": 2, \"Service Hours\": 5.516666666666666}, {\"Transit Operator\": \"Bay Area 511 SamTrans Schedule\", \"Month\": \"2023-04\", \"Weekend or Weekday\": \"Saturday\", \"Departure Hour\": 3, \"Service Hours\": 4.016666666666667}, {\"Transit Operator\": \"Bay Area 511 SamTrans Schedule\", \"Month\": \"2023-04\", \"Weekend or Weekday\": \"Saturday\", \"Departure Hour\": 4, \"Service Hours\": 10.05}, {\"Transit Operator\": \"Bay Area 511 SamTrans Schedule\", \"Month\": \"2023-04\", \"Weekend or Weekday\": \"Saturday\", \"Departure Hour\": 5, \"Service Hours\": 11.533333333333333}, {\"Transit Operator\": \"Bay Area 511 SamTrans Schedule\", \"Month\": \"2023-04\", \"Weekend or Weekday\": \"Saturday\", \"Departure Hour\": 6, \"Service Hours\": 26.466666666666665}, {\"Transit Operator\": \"Bay Area 511 SamTrans Schedule\", \"Month\": \"2023-04\", \"Weekend or Weekday\": \"Saturday\", \"Departure Hour\": 7, \"Service Hours\": 44.06666666666667}, {\"Transit Operator\": \"Bay Area 511 SamTrans Schedule\", \"Month\": \"2023-04\", \"Weekend or Weekday\": \"Saturday\", \"Departure Hour\": 8, \"Service Hours\": 56.983333333333334}, {\"Transit Operator\": \"Bay Area 511 SamTrans Schedule\", \"Month\": \"2023-04\", \"Weekend or Weekday\": \"Saturday\", \"Departure Hour\": 9, \"Service Hours\": 58.21666666666667}, {\"Transit Operator\": \"Bay Area 511 SamTrans Schedule\", \"Month\": \"2023-04\", \"Weekend or Weekday\": \"Saturday\", \"Departure Hour\": 10, \"Service Hours\": 61.233333333333334}, {\"Transit Operator\": \"Bay Area 511 SamTrans Schedule\", \"Month\": \"2023-04\", \"Weekend or Weekday\": \"Saturday\", \"Departure Hour\": 11, \"Service Hours\": 62.75}, {\"Transit Operator\": \"Bay Area 511 SamTrans Schedule\", \"Month\": \"2023-04\", \"Weekend or Weekday\": \"Saturday\", \"Departure Hour\": 12, \"Service Hours\": 63.53333333333333}, {\"Transit Operator\": \"Bay Area 511 SamTrans Schedule\", \"Month\": \"2023-04\", \"Weekend or Weekday\": \"Saturday\", \"Departure Hour\": 13, \"Service Hours\": 64.01666666666667}, {\"Transit Operator\": \"Bay Area 511 SamTrans Schedule\", \"Month\": \"2023-04\", \"Weekend or Weekday\": \"Saturday\", \"Departure Hour\": 14, \"Service Hours\": 64.08333333333333}, {\"Transit Operator\": \"Bay Area 511 SamTrans Schedule\", \"Month\": \"2023-04\", \"Weekend or Weekday\": \"Saturday\", \"Departure Hour\": 15, \"Service Hours\": 64.2}, {\"Transit Operator\": \"Bay Area 511 SamTrans Schedule\", \"Month\": \"2023-04\", \"Weekend or Weekday\": \"Saturday\", \"Departure Hour\": 16, \"Service Hours\": 63.11666666666667}, {\"Transit Operator\": \"Bay Area 511 SamTrans Schedule\", \"Month\": \"2023-04\", \"Weekend or Weekday\": \"Saturday\", \"Departure Hour\": 17, \"Service Hours\": 62.06666666666667}, {\"Transit Operator\": \"Bay Area 511 SamTrans Schedule\", \"Month\": \"2023-04\", \"Weekend or Weekday\": \"Saturday\", \"Departure Hour\": 18, \"Service Hours\": 55.28333333333333}, {\"Transit Operator\": \"Bay Area 511 SamTrans Schedule\", \"Month\": \"2023-04\", \"Weekend or Weekday\": \"Saturday\", \"Departure Hour\": 19, \"Service Hours\": 39.416666666666664}, {\"Transit Operator\": \"Bay Area 511 SamTrans Schedule\", \"Month\": \"2023-04\", \"Weekend or Weekday\": \"Saturday\", \"Departure Hour\": 20, \"Service Hours\": 28.75}, {\"Transit Operator\": \"Bay Area 511 SamTrans Schedule\", \"Month\": \"2023-04\", \"Weekend or Weekday\": \"Saturday\", \"Departure Hour\": 21, \"Service Hours\": 22.083333333333332}, {\"Transit Operator\": \"Bay Area 511 SamTrans Schedule\", \"Month\": \"2023-04\", \"Weekend or Weekday\": \"Saturday\", \"Departure Hour\": 22, \"Service Hours\": 19.3}, {\"Transit Operator\": \"Bay Area 511 SamTrans Schedule\", \"Month\": \"2023-04\", \"Weekend or Weekday\": \"Saturday\", \"Departure Hour\": 23, \"Service Hours\": 12.816666666666666}, {\"Transit Operator\": \"Bay Area 511 SamTrans Schedule\", \"Month\": \"2023-10\", \"Weekend or Weekday\": \"Saturday\", \"Departure Hour\": 0, \"Service Hours\": 7.95}, {\"Transit Operator\": \"Bay Area 511 SamTrans Schedule\", \"Month\": \"2023-10\", \"Weekend or Weekday\": \"Saturday\", \"Departure Hour\": 1, \"Service Hours\": 10.549999999999999}, {\"Transit Operator\": \"Bay Area 511 SamTrans Schedule\", \"Month\": \"2023-10\", \"Weekend or Weekday\": \"Saturday\", \"Departure Hour\": 2, \"Service Hours\": 5.716666666666667}, {\"Transit Operator\": \"Bay Area 511 SamTrans Schedule\", \"Month\": \"2023-10\", \"Weekend or Weekday\": \"Saturday\", \"Departure Hour\": 3, \"Service Hours\": 4.1}, {\"Transit Operator\": \"Bay Area 511 SamTrans Schedule\", \"Month\": \"2023-10\", \"Weekend or Weekday\": \"Saturday\", \"Departure Hour\": 4, \"Service Hours\": 10.233333333333334}, {\"Transit Operator\": \"Bay Area 511 SamTrans Schedule\", \"Month\": \"2023-10\", \"Weekend or Weekday\": \"Saturday\", \"Departure Hour\": 5, \"Service Hours\": 13.133333333333333}, {\"Transit Operator\": \"Bay Area 511 SamTrans Schedule\", \"Month\": \"2023-10\", \"Weekend or Weekday\": \"Saturday\", \"Departure Hour\": 6, \"Service Hours\": 27.683333333333334}, {\"Transit Operator\": \"Bay Area 511 SamTrans Schedule\", \"Month\": \"2023-10\", \"Weekend or Weekday\": \"Saturday\", \"Departure Hour\": 7, \"Service Hours\": 43.86666666666667}, {\"Transit Operator\": \"Bay Area 511 SamTrans Schedule\", \"Month\": \"2023-10\", \"Weekend or Weekday\": \"Saturday\", \"Departure Hour\": 8, \"Service Hours\": 55.38333333333333}, {\"Transit Operator\": \"Bay Area 511 SamTrans Schedule\", \"Month\": \"2023-10\", \"Weekend or Weekday\": \"Saturday\", \"Departure Hour\": 9, \"Service Hours\": 60.06666666666666}, {\"Transit Operator\": \"Bay Area 511 SamTrans Schedule\", \"Month\": \"2023-10\", \"Weekend or Weekday\": \"Saturday\", \"Departure Hour\": 10, \"Service Hours\": 63.0}, {\"Transit Operator\": \"Bay Area 511 SamTrans Schedule\", \"Month\": \"2023-10\", \"Weekend or Weekday\": \"Saturday\", \"Departure Hour\": 11, \"Service Hours\": 64.48333333333333}, {\"Transit Operator\": \"Bay Area 511 SamTrans Schedule\", \"Month\": \"2023-10\", \"Weekend or Weekday\": \"Saturday\", \"Departure Hour\": 12, \"Service Hours\": 64.93333333333334}, {\"Transit Operator\": \"Bay Area 511 SamTrans Schedule\", \"Month\": \"2023-10\", \"Weekend or Weekday\": \"Saturday\", \"Departure Hour\": 13, \"Service Hours\": 65.38333333333334}, {\"Transit Operator\": \"Bay Area 511 SamTrans Schedule\", \"Month\": \"2023-10\", \"Weekend or Weekday\": \"Saturday\", \"Departure Hour\": 14, \"Service Hours\": 65.38333333333334}, {\"Transit Operator\": \"Bay Area 511 SamTrans Schedule\", \"Month\": \"2023-10\", \"Weekend or Weekday\": \"Saturday\", \"Departure Hour\": 15, \"Service Hours\": 65.03333333333333}, {\"Transit Operator\": \"Bay Area 511 SamTrans Schedule\", \"Month\": \"2023-10\", \"Weekend or Weekday\": \"Saturday\", \"Departure Hour\": 16, \"Service Hours\": 64.6}, {\"Transit Operator\": \"Bay Area 511 SamTrans Schedule\", \"Month\": \"2023-10\", \"Weekend or Weekday\": \"Saturday\", \"Departure Hour\": 17, \"Service Hours\": 63.93333333333333}, {\"Transit Operator\": \"Bay Area 511 SamTrans Schedule\", \"Month\": \"2023-10\", \"Weekend or Weekday\": \"Saturday\", \"Departure Hour\": 18, \"Service Hours\": 57.25}, {\"Transit Operator\": \"Bay Area 511 SamTrans Schedule\", \"Month\": \"2023-10\", \"Weekend or Weekday\": \"Saturday\", \"Departure Hour\": 19, \"Service Hours\": 42.7}, {\"Transit Operator\": \"Bay Area 511 SamTrans Schedule\", \"Month\": \"2023-10\", \"Weekend or Weekday\": \"Saturday\", \"Departure Hour\": 20, \"Service Hours\": 31.733333333333334}, {\"Transit Operator\": \"Bay Area 511 SamTrans Schedule\", \"Month\": \"2023-10\", \"Weekend or Weekday\": \"Saturday\", \"Departure Hour\": 21, \"Service Hours\": 24.25}, {\"Transit Operator\": \"Bay Area 511 SamTrans Schedule\", \"Month\": \"2023-10\", \"Weekend or Weekday\": \"Saturday\", \"Departure Hour\": 22, \"Service Hours\": 20.016666666666666}, {\"Transit Operator\": \"Bay Area 511 SamTrans Schedule\", \"Month\": \"2023-10\", \"Weekend or Weekday\": \"Saturday\", \"Departure Hour\": 23, \"Service Hours\": 13.366666666666667}], \"data-91fb023a201e36c50d50ceee25465cb3\": [{\"index\": 0, \"start\": 0, \"stop\": 3.99, \"time_period\": \"Owl:12-3:59AM\"}, {\"index\": 1, \"start\": 4, \"stop\": 6.99, \"time_period\": \"Early AM:4-6:59AM\"}, {\"index\": 2, \"start\": 7, \"stop\": 9.99, \"time_period\": \"AM Peak:7-9:59AM\"}, {\"index\": 3, \"start\": 10, \"stop\": 14.99, \"time_period\": \"Midday:10AM-2:59PM\"}, {\"index\": 4, \"start\": 15, \"stop\": 18.99, \"time_period\": \"PM Peak:3-7:59PM\"}, {\"index\": 5, \"start\": 19, \"stop\": 24.0, \"time_period\": \"Evening:8-11:59PM\"}]}}, {\"mode\": \"vega-lite\"});\n",
       "</script>"
      ],
      "text/plain": [
       "alt.LayerChart(...)"
      ]
     },
     "execution_count": 26,
     "metadata": {},
     "output_type": "execute_result"
    }
   ],
   "source": [
    "create_service_hour_chart(samtrans, \"Saturday\")"
   ]
  },
  {
   "cell_type": "code",
   "execution_count": 27,
   "id": "021857b1-9edf-4203-89d0-12cb31580d5c",
   "metadata": {},
   "outputs": [
    {
     "data": {
      "text/html": [
       "\n",
       "<style>\n",
       "  #altair-viz-6485d5673e094685a3929efcc1bb4a4c.vega-embed {\n",
       "    width: 100%;\n",
       "    display: flex;\n",
       "  }\n",
       "\n",
       "  #altair-viz-6485d5673e094685a3929efcc1bb4a4c.vega-embed details,\n",
       "  #altair-viz-6485d5673e094685a3929efcc1bb4a4c.vega-embed details summary {\n",
       "    position: relative;\n",
       "  }\n",
       "</style>\n",
       "<div id=\"altair-viz-6485d5673e094685a3929efcc1bb4a4c\"></div>\n",
       "<script type=\"text/javascript\">\n",
       "  var VEGA_DEBUG = (typeof VEGA_DEBUG == \"undefined\") ? {} : VEGA_DEBUG;\n",
       "  (function(spec, embedOpt){\n",
       "    let outputDiv = document.currentScript.previousElementSibling;\n",
       "    if (outputDiv.id !== \"altair-viz-6485d5673e094685a3929efcc1bb4a4c\") {\n",
       "      outputDiv = document.getElementById(\"altair-viz-6485d5673e094685a3929efcc1bb4a4c\");\n",
       "    }\n",
       "    const paths = {\n",
       "      \"vega\": \"https://cdn.jsdelivr.net/npm/vega@5?noext\",\n",
       "      \"vega-lib\": \"https://cdn.jsdelivr.net/npm/vega-lib?noext\",\n",
       "      \"vega-lite\": \"https://cdn.jsdelivr.net/npm/vega-lite@5.14.1?noext\",\n",
       "      \"vega-embed\": \"https://cdn.jsdelivr.net/npm/vega-embed@6?noext\",\n",
       "    };\n",
       "\n",
       "    function maybeLoadScript(lib, version) {\n",
       "      var key = `${lib.replace(\"-\", \"\")}_version`;\n",
       "      return (VEGA_DEBUG[key] == version) ?\n",
       "        Promise.resolve(paths[lib]) :\n",
       "        new Promise(function(resolve, reject) {\n",
       "          var s = document.createElement('script');\n",
       "          document.getElementsByTagName(\"head\")[0].appendChild(s);\n",
       "          s.async = true;\n",
       "          s.onload = () => {\n",
       "            VEGA_DEBUG[key] = version;\n",
       "            return resolve(paths[lib]);\n",
       "          };\n",
       "          s.onerror = () => reject(`Error loading script: ${paths[lib]}`);\n",
       "          s.src = paths[lib];\n",
       "        });\n",
       "    }\n",
       "\n",
       "    function showError(err) {\n",
       "      outputDiv.innerHTML = `<div class=\"error\" style=\"color:red;\">${err}</div>`;\n",
       "      throw err;\n",
       "    }\n",
       "\n",
       "    function displayChart(vegaEmbed) {\n",
       "      vegaEmbed(outputDiv, spec, embedOpt)\n",
       "        .catch(err => showError(`Javascript Error: ${err.message}<br>This usually means there's a typo in your chart specification. See the javascript console for the full traceback.`));\n",
       "    }\n",
       "\n",
       "    if(typeof define === \"function\" && define.amd) {\n",
       "      requirejs.config({paths});\n",
       "      require([\"vega-embed\"], displayChart, err => showError(`Error loading script: ${err.message}`));\n",
       "    } else {\n",
       "      maybeLoadScript(\"vega\", \"5\")\n",
       "        .then(() => maybeLoadScript(\"vega-lite\", \"5.14.1\"))\n",
       "        .then(() => maybeLoadScript(\"vega-embed\", \"6\"))\n",
       "        .catch(showError)\n",
       "        .then(() => displayChart(vegaEmbed));\n",
       "    }\n",
       "  })({\"config\": {\"view\": {\"continuousWidth\": 300, \"continuousHeight\": 300}}, \"layer\": [{\"data\": {\"name\": \"data-e4c9f05cc44668ce682343a91618e030\"}, \"mark\": {\"type\": \"line\", \"size\": 3}, \"encoding\": {\"color\": {\"field\": \"Month\", \"scale\": {\"range\": [\"#fde18d\", \"#49a2b2\"]}, \"type\": \"nominal\"}, \"opacity\": {\"condition\": {\"param\": \"param_3\", \"value\": 1}, \"value\": 0.2}, \"tooltip\": [{\"field\": \"Transit Operator\", \"type\": \"nominal\"}, {\"field\": \"Month\", \"type\": \"nominal\"}, {\"field\": \"Weekend or Weekday\", \"type\": \"nominal\"}, {\"field\": \"Departure Hour\", \"type\": \"quantitative\"}, {\"field\": \"Service Hours\", \"type\": \"quantitative\"}], \"x\": {\"field\": \"Departure Hour\", \"title\": \"Departure Hour In Military Time\", \"type\": \"quantitative\"}, \"y\": {\"field\": \"Service Hours\", \"type\": \"quantitative\"}}, \"name\": \"view_3\", \"title\": {\"text\": \"Daily Scheduled Service Hours for Weekday\", \"subtitle\": \"Use the legend to highlight a particular month and hover over the line for additional information.\"}}, {\"data\": {\"name\": \"data-91fb023a201e36c50d50ceee25465cb3\"}, \"mark\": {\"type\": \"rect\", \"opacity\": 0.15}, \"encoding\": {\"color\": {\"field\": \"time_period\", \"scale\": {\"range\": [\"#7cc665\", \"#fcaa5f\", \"#fde18d\", \"#ec5d3b\", \"#3b56a4\", \"#49a2b2\"]}, \"sort\": [\"Owl:12-3:59AM\", \"Early AM:4-6:59AM\", \"AM Peak:7-9:59AM\", \"Midday:10AM-2:59PM\", \"PM Peak:3-7:59PM\", \"Evening:8-11:59PM\"], \"title\": \"Time Period\", \"type\": \"nominal\"}, \"x\": {\"field\": \"start\", \"type\": \"quantitative\"}, \"x2\": {\"field\": \"stop\"}, \"y\": {\"value\": 0}, \"y2\": {\"value\": 250}}}], \"height\": 250, \"params\": [{\"name\": \"param_3\", \"select\": {\"type\": \"point\", \"fields\": [\"Month\"]}, \"bind\": \"legend\", \"views\": [\"view_3\"]}], \"resolve\": {\"scale\": {\"color\": \"independent\"}}, \"width\": 400, \"$schema\": \"https://vega.github.io/schema/vega-lite/v5.14.1.json\", \"datasets\": {\"data-e4c9f05cc44668ce682343a91618e030\": [{\"Transit Operator\": \"Bay Area 511 SamTrans Schedule\", \"Month\": \"2023-04\", \"Weekend or Weekday\": \"Weekday\", \"Departure Hour\": 0, \"Service Hours\": 28.416666666666668}, {\"Transit Operator\": \"Bay Area 511 SamTrans Schedule\", \"Month\": \"2023-04\", \"Weekend or Weekday\": \"Weekday\", \"Departure Hour\": 1, \"Service Hours\": 49.916666666666664}, {\"Transit Operator\": \"Bay Area 511 SamTrans Schedule\", \"Month\": \"2023-04\", \"Weekend or Weekday\": \"Weekday\", \"Departure Hour\": 2, \"Service Hours\": 27.583333333333332}, {\"Transit Operator\": \"Bay Area 511 SamTrans Schedule\", \"Month\": \"2023-04\", \"Weekend or Weekday\": \"Weekday\", \"Departure Hour\": 3, \"Service Hours\": 28.583333333333332}, {\"Transit Operator\": \"Bay Area 511 SamTrans Schedule\", \"Month\": \"2023-04\", \"Weekend or Weekday\": \"Weekday\", \"Departure Hour\": 4, \"Service Hours\": 103.5}, {\"Transit Operator\": \"Bay Area 511 SamTrans Schedule\", \"Month\": \"2023-04\", \"Weekend or Weekday\": \"Weekday\", \"Departure Hour\": 5, \"Service Hours\": 208.08333333333334}, {\"Transit Operator\": \"Bay Area 511 SamTrans Schedule\", \"Month\": \"2023-04\", \"Weekend or Weekday\": \"Weekday\", \"Departure Hour\": 6, \"Service Hours\": 368.0833333333333}, {\"Transit Operator\": \"Bay Area 511 SamTrans Schedule\", \"Month\": \"2023-04\", \"Weekend or Weekday\": \"Weekday\", \"Departure Hour\": 7, \"Service Hours\": 574.5833333333334}, {\"Transit Operator\": \"Bay Area 511 SamTrans Schedule\", \"Month\": \"2023-04\", \"Weekend or Weekday\": \"Weekday\", \"Departure Hour\": 8, \"Service Hours\": 406.25}, {\"Transit Operator\": \"Bay Area 511 SamTrans Schedule\", \"Month\": \"2023-04\", \"Weekend or Weekday\": \"Weekday\", \"Departure Hour\": 9, \"Service Hours\": 377.75}, {\"Transit Operator\": \"Bay Area 511 SamTrans Schedule\", \"Month\": \"2023-04\", \"Weekend or Weekday\": \"Weekday\", \"Departure Hour\": 10, \"Service Hours\": 351.4166666666667}, {\"Transit Operator\": \"Bay Area 511 SamTrans Schedule\", \"Month\": \"2023-04\", \"Weekend or Weekday\": \"Weekday\", \"Departure Hour\": 11, \"Service Hours\": 370.9166666666667}, {\"Transit Operator\": \"Bay Area 511 SamTrans Schedule\", \"Month\": \"2023-04\", \"Weekend or Weekday\": \"Weekday\", \"Departure Hour\": 12, \"Service Hours\": 383.43333333333334}, {\"Transit Operator\": \"Bay Area 511 SamTrans Schedule\", \"Month\": \"2023-04\", \"Weekend or Weekday\": \"Weekday\", \"Departure Hour\": 13, \"Service Hours\": 407.6666666666667}, {\"Transit Operator\": \"Bay Area 511 SamTrans Schedule\", \"Month\": \"2023-04\", \"Weekend or Weekday\": \"Weekday\", \"Departure Hour\": 14, \"Service Hours\": 435.3}, {\"Transit Operator\": \"Bay Area 511 SamTrans Schedule\", \"Month\": \"2023-04\", \"Weekend or Weekday\": \"Weekday\", \"Departure Hour\": 15, \"Service Hours\": 545.5833333333334}, {\"Transit Operator\": \"Bay Area 511 SamTrans Schedule\", \"Month\": \"2023-04\", \"Weekend or Weekday\": \"Weekday\", \"Departure Hour\": 16, \"Service Hours\": 488.23333333333335}, {\"Transit Operator\": \"Bay Area 511 SamTrans Schedule\", \"Month\": \"2023-04\", \"Weekend or Weekday\": \"Weekday\", \"Departure Hour\": 17, \"Service Hours\": 432.0}, {\"Transit Operator\": \"Bay Area 511 SamTrans Schedule\", \"Month\": \"2023-04\", \"Weekend or Weekday\": \"Weekday\", \"Departure Hour\": 18, \"Service Hours\": 343.4166666666667}, {\"Transit Operator\": \"Bay Area 511 SamTrans Schedule\", \"Month\": \"2023-04\", \"Weekend or Weekday\": \"Weekday\", \"Departure Hour\": 19, \"Service Hours\": 275.0833333333333}, {\"Transit Operator\": \"Bay Area 511 SamTrans Schedule\", \"Month\": \"2023-04\", \"Weekend or Weekday\": \"Weekday\", \"Departure Hour\": 20, \"Service Hours\": 197.08333333333334}, {\"Transit Operator\": \"Bay Area 511 SamTrans Schedule\", \"Month\": \"2023-04\", \"Weekend or Weekday\": \"Weekday\", \"Departure Hour\": 21, \"Service Hours\": 165.66666666666666}, {\"Transit Operator\": \"Bay Area 511 SamTrans Schedule\", \"Month\": \"2023-04\", \"Weekend or Weekday\": \"Weekday\", \"Departure Hour\": 22, \"Service Hours\": 131.0}, {\"Transit Operator\": \"Bay Area 511 SamTrans Schedule\", \"Month\": \"2023-04\", \"Weekend or Weekday\": \"Weekday\", \"Departure Hour\": 23, \"Service Hours\": 73.58333333333333}, {\"Transit Operator\": \"Bay Area 511 SamTrans Schedule\", \"Month\": \"2023-10\", \"Weekend or Weekday\": \"Weekday\", \"Departure Hour\": 0, \"Service Hours\": 28.833333333333332}, {\"Transit Operator\": \"Bay Area 511 SamTrans Schedule\", \"Month\": \"2023-10\", \"Weekend or Weekday\": \"Weekday\", \"Departure Hour\": 1, \"Service Hours\": 51.5}, {\"Transit Operator\": \"Bay Area 511 SamTrans Schedule\", \"Month\": \"2023-10\", \"Weekend or Weekday\": \"Weekday\", \"Departure Hour\": 2, \"Service Hours\": 28.583333333333332}, {\"Transit Operator\": \"Bay Area 511 SamTrans Schedule\", \"Month\": \"2023-10\", \"Weekend or Weekday\": \"Weekday\", \"Departure Hour\": 3, \"Service Hours\": 28.666666666666668}, {\"Transit Operator\": \"Bay Area 511 SamTrans Schedule\", \"Month\": \"2023-10\", \"Weekend or Weekday\": \"Weekday\", \"Departure Hour\": 4, \"Service Hours\": 103.75}, {\"Transit Operator\": \"Bay Area 511 SamTrans Schedule\", \"Month\": \"2023-10\", \"Weekend or Weekday\": \"Weekday\", \"Departure Hour\": 5, \"Service Hours\": 223.16666666666666}, {\"Transit Operator\": \"Bay Area 511 SamTrans Schedule\", \"Month\": \"2023-10\", \"Weekend or Weekday\": \"Weekday\", \"Departure Hour\": 6, \"Service Hours\": 372.25}, {\"Transit Operator\": \"Bay Area 511 SamTrans Schedule\", \"Month\": \"2023-10\", \"Weekend or Weekday\": \"Weekday\", \"Departure Hour\": 7, \"Service Hours\": 596.2}, {\"Transit Operator\": \"Bay Area 511 SamTrans Schedule\", \"Month\": \"2023-10\", \"Weekend or Weekday\": \"Weekday\", \"Departure Hour\": 8, \"Service Hours\": 426.51666666666665}, {\"Transit Operator\": \"Bay Area 511 SamTrans Schedule\", \"Month\": \"2023-10\", \"Weekend or Weekday\": \"Weekday\", \"Departure Hour\": 9, \"Service Hours\": 394.2166666666667}, {\"Transit Operator\": \"Bay Area 511 SamTrans Schedule\", \"Month\": \"2023-10\", \"Weekend or Weekday\": \"Weekday\", \"Departure Hour\": 10, \"Service Hours\": 368.0}, {\"Transit Operator\": \"Bay Area 511 SamTrans Schedule\", \"Month\": \"2023-10\", \"Weekend or Weekday\": \"Weekday\", \"Departure Hour\": 11, \"Service Hours\": 388.0833333333333}, {\"Transit Operator\": \"Bay Area 511 SamTrans Schedule\", \"Month\": \"2023-10\", \"Weekend or Weekday\": \"Weekday\", \"Departure Hour\": 12, \"Service Hours\": 403.0833333333333}, {\"Transit Operator\": \"Bay Area 511 SamTrans Schedule\", \"Month\": \"2023-10\", \"Weekend or Weekday\": \"Weekday\", \"Departure Hour\": 13, \"Service Hours\": 421.01666666666665}, {\"Transit Operator\": \"Bay Area 511 SamTrans Schedule\", \"Month\": \"2023-10\", \"Weekend or Weekday\": \"Weekday\", \"Departure Hour\": 14, \"Service Hours\": 463.45}, {\"Transit Operator\": \"Bay Area 511 SamTrans Schedule\", \"Month\": \"2023-10\", \"Weekend or Weekday\": \"Weekday\", \"Departure Hour\": 15, \"Service Hours\": 568.6833333333334}, {\"Transit Operator\": \"Bay Area 511 SamTrans Schedule\", \"Month\": \"2023-10\", \"Weekend or Weekday\": \"Weekday\", \"Departure Hour\": 16, \"Service Hours\": 482.6}, {\"Transit Operator\": \"Bay Area 511 SamTrans Schedule\", \"Month\": \"2023-10\", \"Weekend or Weekday\": \"Weekday\", \"Departure Hour\": 17, \"Service Hours\": 452.6666666666667}, {\"Transit Operator\": \"Bay Area 511 SamTrans Schedule\", \"Month\": \"2023-10\", \"Weekend or Weekday\": \"Weekday\", \"Departure Hour\": 18, \"Service Hours\": 362.4166666666667}, {\"Transit Operator\": \"Bay Area 511 SamTrans Schedule\", \"Month\": \"2023-10\", \"Weekend or Weekday\": \"Weekday\", \"Departure Hour\": 19, \"Service Hours\": 309.4166666666667}, {\"Transit Operator\": \"Bay Area 511 SamTrans Schedule\", \"Month\": \"2023-10\", \"Weekend or Weekday\": \"Weekday\", \"Departure Hour\": 20, \"Service Hours\": 198.58333333333334}, {\"Transit Operator\": \"Bay Area 511 SamTrans Schedule\", \"Month\": \"2023-10\", \"Weekend or Weekday\": \"Weekday\", \"Departure Hour\": 21, \"Service Hours\": 172.16666666666666}, {\"Transit Operator\": \"Bay Area 511 SamTrans Schedule\", \"Month\": \"2023-10\", \"Weekend or Weekday\": \"Weekday\", \"Departure Hour\": 22, \"Service Hours\": 134.83333333333334}, {\"Transit Operator\": \"Bay Area 511 SamTrans Schedule\", \"Month\": \"2023-10\", \"Weekend or Weekday\": \"Weekday\", \"Departure Hour\": 23, \"Service Hours\": 73.08333333333333}], \"data-91fb023a201e36c50d50ceee25465cb3\": [{\"index\": 0, \"start\": 0, \"stop\": 3.99, \"time_period\": \"Owl:12-3:59AM\"}, {\"index\": 1, \"start\": 4, \"stop\": 6.99, \"time_period\": \"Early AM:4-6:59AM\"}, {\"index\": 2, \"start\": 7, \"stop\": 9.99, \"time_period\": \"AM Peak:7-9:59AM\"}, {\"index\": 3, \"start\": 10, \"stop\": 14.99, \"time_period\": \"Midday:10AM-2:59PM\"}, {\"index\": 4, \"start\": 15, \"stop\": 18.99, \"time_period\": \"PM Peak:3-7:59PM\"}, {\"index\": 5, \"start\": 19, \"stop\": 24.0, \"time_period\": \"Evening:8-11:59PM\"}]}}, {\"mode\": \"vega-lite\"});\n",
       "</script>"
      ],
      "text/plain": [
       "alt.LayerChart(...)"
      ]
     },
     "execution_count": 27,
     "metadata": {},
     "output_type": "execute_result"
    }
   ],
   "source": [
    "create_service_hour_chart(samtrans, \"Weekday\")"
   ]
  }
 ],
 "metadata": {
  "kernelspec": {
   "display_name": "Python 3 (ipykernel)",
   "language": "python",
   "name": "python3"
  },
  "language_info": {
   "codemirror_mode": {
    "name": "ipython",
    "version": 3
   },
   "file_extension": ".py",
   "mimetype": "text/x-python",
   "name": "python",
   "nbconvert_exporter": "python",
   "pygments_lexer": "ipython3",
   "version": "3.9.13"
  }
 },
 "nbformat": 4,
 "nbformat_minor": 5
}
