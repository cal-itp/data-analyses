{
 "cells": [
  {
   "cell_type": "markdown",
   "id": "dd5f310c-d2a5-42c4-ac21-d1bbb4e79b3a",
   "metadata": {},
   "source": [
    "## Total Service Hours\n",
    "\n",
    "* Hourly scheduled service breakdown for weekday, Sat, Sun - April / October 2023\n",
    "* rt_dates.get_week(“apr2023”)\n",
    "* helpers.import_scheduled_trips(\n",
    "   analysis_date, \n",
    "  columns = [“trip_instance_key”, “service_hours”, “trip_start_time or whatever”],   \n",
    "  get_pandas =True\n",
    ")\n",
    "* See if you can pair this with `time_series_utils` like this example to get whole week in 1 df\n",
    "* Parse out hour\n",
    "* Aggregate for weekday, saturday, sunday (3 categories) by hour"
   ]
  },
  {
   "cell_type": "code",
   "execution_count": 22,
   "id": "13ab745e-dc37-454f-a65b-407b6e908afd",
   "metadata": {},
   "outputs": [
    {
     "data": {
      "text/plain": [
       "DataTransformerRegistry.enable('default')"
      ]
     },
     "execution_count": 22,
     "metadata": {},
     "output_type": "execute_result"
    }
   ],
   "source": [
    "import altair as alt\n",
    "import geopandas as gpd\n",
    "import pandas as pd\n",
    "from segment_speed_utils import helpers, time_series_utils\n",
    "from segment_speed_utils.project_vars import (\n",
    "    COMPILED_CACHED_VIEWS,\n",
    "    GTFS_DATA_DICT,\n",
    "    PROJECT_CRS,\n",
    "    RT_SCHED_GCS,\n",
    "    SCHED_GCS,\n",
    "    SEGMENT_GCS,\n",
    ")\n",
    "from shared_utils import catalog_utils, rt_dates, rt_utils\n",
    "\n",
    "alt.data_transformers.enable(\"default\", max_rows=None)"
   ]
  },
  {
   "cell_type": "code",
   "execution_count": 2,
   "id": "ea95ad0e-62b2-45b9-b69a-f4f0bf9db1be",
   "metadata": {},
   "outputs": [],
   "source": [
    "pd.options.display.max_columns = 100\n",
    "pd.options.display.float_format = \"{:.2f}\".format\n",
    "pd.set_option(\"display.max_rows\", None)\n",
    "pd.set_option(\"display.max_colwidth\", None)"
   ]
  },
  {
   "cell_type": "markdown",
   "id": "cf1b2032-e86c-4f99-86e7-5d2f54af9587",
   "metadata": {},
   "source": [
    "### Get April and October"
   ]
  },
  {
   "cell_type": "code",
   "execution_count": 3,
   "id": "0b31f717-4d31-488b-be2f-438841591224",
   "metadata": {},
   "outputs": [],
   "source": [
    "apr_week = rt_dates.get_week(month=\"apr2023\", exclude_wed=False)\n",
    "oct_week = rt_dates.get_week(month=\"oct2023\", exclude_wed=False)"
   ]
  },
  {
   "cell_type": "code",
   "execution_count": 4,
   "id": "c4d13b0f-ba1f-43c2-a4e3-9f298d5675ab",
   "metadata": {},
   "outputs": [],
   "source": [
    "oct_week = rt_dates.get_week(month=\"oct2023\", exclude_wed=False)"
   ]
  },
  {
   "cell_type": "code",
   "execution_count": 5,
   "id": "1d4092b0-b7fa-46c1-9b21-55e493c63bdd",
   "metadata": {},
   "outputs": [
    {
     "data": {
      "text/plain": [
       "['2023-04-10',\n",
       " '2023-04-11',\n",
       " '2023-04-12',\n",
       " '2023-04-13',\n",
       " '2023-04-14',\n",
       " '2023-04-15',\n",
       " '2023-04-16']"
      ]
     },
     "execution_count": 5,
     "metadata": {},
     "output_type": "execute_result"
    }
   ],
   "source": [
    "apr_week"
   ]
  },
  {
   "cell_type": "markdown",
   "id": "1d887752-3d6e-4225-bb28-0e796d72a34c",
   "metadata": {},
   "source": [
    "### `import_scheduled_trips` with one date first\n",
    "* Use `trip_first_departure_datetime_pacific` \n",
    "* Test manipulating with only one day."
   ]
  },
  {
   "cell_type": "code",
   "execution_count": 6,
   "id": "995c1df1-b6dc-4863-80a1-dfa5bdff5252",
   "metadata": {},
   "outputs": [],
   "source": [
    "TABLE = GTFS_DATA_DICT.schedule_downloads.trips"
   ]
  },
  {
   "cell_type": "code",
   "execution_count": 7,
   "id": "b9b8b82c-710d-4e76-8436-2e2d77f8cd89",
   "metadata": {},
   "outputs": [],
   "source": [
    "FILE = f\"{COMPILED_CACHED_VIEWS}{TABLE}_{apr_week[0]}.parquet\""
   ]
  },
  {
   "cell_type": "code",
   "execution_count": 8,
   "id": "ffacb0a0-2ba2-4123-90c8-357528e2e81b",
   "metadata": {},
   "outputs": [],
   "source": [
    "april_og = pd.read_parquet(FILE)"
   ]
  },
  {
   "cell_type": "code",
   "execution_count": 9,
   "id": "21d365ab-ac64-4c05-bce4-df609dce92f8",
   "metadata": {},
   "outputs": [],
   "source": [
    "april_og = april_og.loc[april_og.name == \"Bay Area 511 SamTrans Schedule\"].reset_index(\n",
    "    drop=True\n",
    ")"
   ]
  },
  {
   "cell_type": "code",
   "execution_count": 10,
   "id": "40ca0bf5-5e30-4d70-8c4d-efbc4bd39374",
   "metadata": {},
   "outputs": [
    {
     "data": {
      "text/plain": [
       "1390"
      ]
     },
     "execution_count": 10,
     "metadata": {},
     "output_type": "execute_result"
    }
   ],
   "source": [
    "april_og.trip_id.nunique()"
   ]
  },
  {
   "cell_type": "code",
   "execution_count": 11,
   "id": "03e7544e-bd35-4e0f-bc49-f7f878bf07da",
   "metadata": {},
   "outputs": [],
   "source": [
    "april_df = helpers.import_scheduled_trips(\n",
    "    analysis_date=apr_week[0],\n",
    "    columns=[\n",
    "        \"name\",\n",
    "        \"service_date\",\n",
    "        \"route_long_name\",\n",
    "        \"trip_first_departure_datetime_pacific\",\n",
    "        \"service_hours\",\n",
    "    ],\n",
    ")"
   ]
  },
  {
   "cell_type": "code",
   "execution_count": 12,
   "id": "f7a94179-edfc-47f6-b9a6-0150b0266a23",
   "metadata": {},
   "outputs": [
    {
     "data": {
      "text/html": [
       "<div>\n",
       "<style scoped>\n",
       "    .dataframe tbody tr th:only-of-type {\n",
       "        vertical-align: middle;\n",
       "    }\n",
       "\n",
       "    .dataframe tbody tr th {\n",
       "        vertical-align: top;\n",
       "    }\n",
       "\n",
       "    .dataframe thead th {\n",
       "        text-align: right;\n",
       "    }\n",
       "</style>\n",
       "<table border=\"1\" class=\"dataframe\">\n",
       "  <thead>\n",
       "    <tr style=\"text-align: right;\">\n",
       "      <th></th>\n",
       "      <th>name</th>\n",
       "      <th>service_date</th>\n",
       "      <th>route_long_name</th>\n",
       "      <th>trip_first_departure_datetime_pacific</th>\n",
       "      <th>service_hours</th>\n",
       "    </tr>\n",
       "  </thead>\n",
       "  <tbody>\n",
       "    <tr>\n",
       "      <th>0</th>\n",
       "      <td>VCTC GMV Schedule</td>\n",
       "      <td>2023-04-10</td>\n",
       "      <td>Route 11</td>\n",
       "      <td>2023-04-10 06:00:00</td>\n",
       "      <td>0.53</td>\n",
       "    </tr>\n",
       "    <tr>\n",
       "      <th>1</th>\n",
       "      <td>VCTC GMV Schedule</td>\n",
       "      <td>2023-04-10</td>\n",
       "      <td>Route 11</td>\n",
       "      <td>2023-04-10 15:40:00</td>\n",
       "      <td>0.60</td>\n",
       "    </tr>\n",
       "  </tbody>\n",
       "</table>\n",
       "</div>"
      ],
      "text/plain": [
       "                name service_date route_long_name  \\\n",
       "0  VCTC GMV Schedule   2023-04-10        Route 11   \n",
       "1  VCTC GMV Schedule   2023-04-10        Route 11   \n",
       "\n",
       "  trip_first_departure_datetime_pacific  service_hours  \n",
       "0                   2023-04-10 06:00:00           0.53  \n",
       "1                   2023-04-10 15:40:00           0.60  "
      ]
     },
     "execution_count": 12,
     "metadata": {},
     "output_type": "execute_result"
    }
   ],
   "source": [
    "april_df.head(2)"
   ]
  },
  {
   "cell_type": "code",
   "execution_count": 13,
   "id": "0e71a7da-1faa-4bd5-a87a-d5699a8594a5",
   "metadata": {},
   "outputs": [],
   "source": [
    "april_df = april_df.loc[april_df.name == \"Bay Area 511 SamTrans Schedule\"].reset_index(\n",
    "    drop=True\n",
    ")"
   ]
  },
  {
   "cell_type": "code",
   "execution_count": 14,
   "id": "68448ff8-e43a-405f-8b92-faa1c7a058dd",
   "metadata": {},
   "outputs": [
    {
     "name": "stdout",
     "output_type": "stream",
     "text": [
      "<class 'pandas.core.frame.DataFrame'>\n",
      "RangeIndex: 1381 entries, 0 to 1380\n",
      "Data columns (total 5 columns):\n",
      " #   Column                                 Non-Null Count  Dtype         \n",
      "---  ------                                 --------------  -----         \n",
      " 0   name                                   1381 non-null   object        \n",
      " 1   service_date                           1381 non-null   object        \n",
      " 2   route_long_name                        1381 non-null   object        \n",
      " 3   trip_first_departure_datetime_pacific  1381 non-null   datetime64[ns]\n",
      " 4   service_hours                          1381 non-null   float64       \n",
      "dtypes: datetime64[ns](1), float64(1), object(3)\n",
      "memory usage: 54.1+ KB\n"
     ]
    }
   ],
   "source": [
    "april_df.info()"
   ]
  },
  {
   "cell_type": "code",
   "execution_count": 15,
   "id": "ea7a0f8c-63ce-464f-bc12-d73939c266c4",
   "metadata": {},
   "outputs": [],
   "source": [
    "april_df[\"departure_hour\"] = april_df.trip_first_departure_datetime_pacific.dt.hour\n",
    "april_df[\"month\"] = april_df.service_date.astype(str).str.slice(stop=7)"
   ]
  },
  {
   "cell_type": "code",
   "execution_count": 16,
   "id": "3debac7d-7fca-4566-a298-740892e8e861",
   "metadata": {},
   "outputs": [],
   "source": [
    "# april_df['month'] = april_df.service_date.astype(str).str.slice(stop=7)"
   ]
  },
  {
   "cell_type": "code",
   "execution_count": 29,
   "id": "17832a99-b921-4f0d-b957-37004d2b34ee",
   "metadata": {
    "scrolled": true,
    "tags": []
   },
   "outputs": [],
   "source": [
    "# april_df.loc[april_df.route_long_name == \"Colma BART - Brunswick/Templeton\"].sort_values(by = ['trip_first_departure_datetime_pacific'])"
   ]
  },
  {
   "cell_type": "markdown",
   "id": "7f900cc7-b8e6-4928-8a14-0d40d48c4ef6",
   "metadata": {},
   "source": [
    "### Lift [this code](https://github.com/cal-itp/data-analyses/blob/main/gtfs_digest/merge_data.py#L27) to read in an entire week."
   ]
  },
  {
   "cell_type": "code",
   "execution_count": 27,
   "id": "84d3b5d5-6d3a-4929-9df0-427d59209992",
   "metadata": {
    "scrolled": true,
    "tags": []
   },
   "outputs": [],
   "source": [
    "# time_series_utils.concatenate_datasets_across_dates??"
   ]
  },
  {
   "cell_type": "code",
   "execution_count": 28,
   "id": "d06e02d9-5533-44bb-95f6-6c040cb28624",
   "metadata": {},
   "outputs": [],
   "source": [
    "def concatenate_trips(\n",
    "    date_list: list,\n",
    ") -> pd.DataFrame:\n",
    "    \"\"\"\n",
    "    Concatenate schedule data that's been\n",
    "    aggregated to route-direction-time_period.\n",
    "    \"\"\"\n",
    "    FILE = GTFS_DATA_DICT.schedule_downloads.trips\n",
    "\n",
    "    df = (\n",
    "        time_series_utils.concatenate_datasets_across_dates(\n",
    "            COMPILED_CACHED_VIEWS,\n",
    "            FILE,\n",
    "            date_list,\n",
    "            data_type=\"df\",\n",
    "            columns=[\n",
    "                \"name\",\n",
    "                \"service_date\",\n",
    "                \"route_long_name\",\n",
    "                \"trip_first_departure_datetime_pacific\",\n",
    "                \"service_hours\",\n",
    "            ],\n",
    "        )\n",
    "        .sort_values([\"service_date\"])\n",
    "        .reset_index(drop=True)\n",
    "    )\n",
    "\n",
    "    return df"
   ]
  },
  {
   "cell_type": "code",
   "execution_count": 25,
   "id": "0a820304-28f5-4930-ba0f-62f67a611627",
   "metadata": {},
   "outputs": [],
   "source": [
    "all_april = concatenate_trips(apr_week)"
   ]
  },
  {
   "cell_type": "code",
   "execution_count": 26,
   "id": "e2fa42b3-6f05-45d1-8772-c4fc9619e5d8",
   "metadata": {},
   "outputs": [
    {
     "data": {
      "text/plain": [
       "(674114, 5)"
      ]
     },
     "execution_count": 26,
     "metadata": {},
     "output_type": "execute_result"
    }
   ],
   "source": [
    "all_april.shape"
   ]
  },
  {
   "cell_type": "code",
   "execution_count": 31,
   "id": "6c4ce166-d8f8-4e41-8a95-e82160913117",
   "metadata": {},
   "outputs": [],
   "source": [
    "def total_service_hours(date_list: list, name: str) -> pd.DataFrame:\n",
    "\n",
    "    df = concatenate_trips(date_list)\n",
    "    df[\"departure_hour\"] = df.trip_first_departure_datetime_pacific.dt.hour\n",
    "    df[\"month\"] = df.service_date.astype(str).str.slice(stop=7)\n",
    "    df = df.loc[df.name == name].reset_index(drop=True)\n",
    "\n",
    "    df2 = (\n",
    "        df.groupby([\"name\", \"month\", \"departure_hour\"])\n",
    "        .agg(\n",
    "            {\n",
    "                \"service_hours\": \"sum\",\n",
    "            }\n",
    "        )\n",
    "        .reset_index()\n",
    "    )\n",
    "\n",
    "    return df2"
   ]
  },
  {
   "cell_type": "code",
   "execution_count": 32,
   "id": "2b964219-6088-4513-bf33-f666bc2ebdf4",
   "metadata": {},
   "outputs": [],
   "source": [
    "april_sum = total_service_hours(apr_week, \"Bay Area 511 SamTrans Schedule\")"
   ]
  },
  {
   "cell_type": "code",
   "execution_count": 82,
   "id": "14b9604d-afc9-406a-b5dc-0e6c9f2d14f6",
   "metadata": {},
   "outputs": [],
   "source": [
    "def all_months(name:str)->pd.DataFrame:\n",
    "    apr_week = rt_dates.get_week(month=\"apr2023\", exclude_wed=False)\n",
    "    oct_week = rt_dates.get_week(month=\"oct2023\", exclude_wed=False)\n",
    "    \n",
    "    apr_df = total_service_hours(apr_week, name)\n",
    "    oct_df = total_service_hours(oct_week, name)\n",
    "    \n",
    "    all_df = pd.concat([apr_df, oct_df])\n",
    "    return all_df"
   ]
  },
  {
   "cell_type": "code",
   "execution_count": 83,
   "id": "34ea12eb-eb43-4c29-a1e9-6e4504e3ed65",
   "metadata": {},
   "outputs": [],
   "source": [
    "samtrans = all_months(\"Bay Area 511 SamTrans Schedule\")"
   ]
  },
  {
   "cell_type": "code",
   "execution_count": 46,
   "id": "edc0ea33-2790-495a-9050-ebd54368bdb3",
   "metadata": {},
   "outputs": [],
   "source": [
    "import _report_utils\n",
    "import _section2_utils\n",
    "import yaml\n",
    "\n",
    "with open(\"color_palettes.yml\") as f:\n",
    "    color_dict = yaml.safe_load(f)"
   ]
  },
  {
   "cell_type": "code",
   "execution_count": 74,
   "id": "c3a7f0e0-2d6a-48d7-8de4-fa30e9768370",
   "metadata": {},
   "outputs": [],
   "source": [
    "with open(\"readable.yml\") as f:\n",
    "    readable_dict = yaml.safe_load(f)"
   ]
  },
  {
   "cell_type": "code",
   "execution_count": 84,
   "id": "ac08a9b9-7207-4750-81ab-af9bc0b7974f",
   "metadata": {},
   "outputs": [
    {
     "data": {
      "text/html": [
       "<div>\n",
       "<style scoped>\n",
       "    .dataframe tbody tr th:only-of-type {\n",
       "        vertical-align: middle;\n",
       "    }\n",
       "\n",
       "    .dataframe tbody tr th {\n",
       "        vertical-align: top;\n",
       "    }\n",
       "\n",
       "    .dataframe thead th {\n",
       "        text-align: right;\n",
       "    }\n",
       "</style>\n",
       "<table border=\"1\" class=\"dataframe\">\n",
       "  <thead>\n",
       "    <tr style=\"text-align: right;\">\n",
       "      <th></th>\n",
       "      <th>name</th>\n",
       "      <th>month</th>\n",
       "      <th>departure_hour</th>\n",
       "      <th>service_hours</th>\n",
       "    </tr>\n",
       "  </thead>\n",
       "  <tbody>\n",
       "    <tr>\n",
       "      <th>0</th>\n",
       "      <td>Bay Area 511 SamTrans Schedule</td>\n",
       "      <td>2023-04</td>\n",
       "      <td>0.00</td>\n",
       "      <td>43.45</td>\n",
       "    </tr>\n",
       "    <tr>\n",
       "      <th>1</th>\n",
       "      <td>Bay Area 511 SamTrans Schedule</td>\n",
       "      <td>2023-04</td>\n",
       "      <td>1.00</td>\n",
       "      <td>66.55</td>\n",
       "    </tr>\n",
       "  </tbody>\n",
       "</table>\n",
       "</div>"
      ],
      "text/plain": [
       "                             name    month  departure_hour  service_hours\n",
       "0  Bay Area 511 SamTrans Schedule  2023-04            0.00          43.45\n",
       "1  Bay Area 511 SamTrans Schedule  2023-04            1.00          66.55"
      ]
     },
     "execution_count": 84,
     "metadata": {},
     "output_type": "execute_result"
    }
   ],
   "source": [
    "samtrans.head(2)"
   ]
  },
  {
   "cell_type": "code",
   "execution_count": 85,
   "id": "785f71b7-d1a1-4b2d-9d19-dd13875ab768",
   "metadata": {},
   "outputs": [],
   "source": [
    "dropdown_list = samtrans.month.unique().tolist()"
   ]
  },
  {
   "cell_type": "code",
   "execution_count": 86,
   "id": "3ef740fe-fb3c-4ad5-867e-ecc6341b2a67",
   "metadata": {},
   "outputs": [],
   "source": [
    "dropdown_list.sort(reverse=True)"
   ]
  },
  {
   "cell_type": "code",
   "execution_count": 88,
   "id": "6f20b8ec-8042-4676-b54a-9068c86dc8eb",
   "metadata": {},
   "outputs": [],
   "source": [
    "dropdown = alt.binding_select(options=dropdown_list, name=_report_utils.labeling('month '))"
   ]
  },
  {
   "cell_type": "code",
   "execution_count": 90,
   "id": "00c942f1-0f12-4a5d-90ee-dd516627f75c",
   "metadata": {},
   "outputs": [],
   "source": [
    "selector = alt.selection_point(\n",
    "        name=_report_utils.labeling(\"month \"), fields=[\"month\"], bind=dropdown\n",
    "    )"
   ]
  },
  {
   "cell_type": "code",
   "execution_count": 116,
   "id": "fbba021d-c62c-4828-ae8b-281533dc3988",
   "metadata": {},
   "outputs": [],
   "source": [
    "cutoff = pd.DataFrame({\n",
    "    'start': [0, 3, 6, 10, 14],\n",
    "    'stop': [4, 7, 10, 14, 20],\n",
    "})"
   ]
  },
  {
   "cell_type": "code",
   "execution_count": 111,
   "id": "ea7aeb98-f353-429c-8242-deca73d782f5",
   "metadata": {},
   "outputs": [],
   "source": [
    "index_values = ['AM Peak:7-9AM', 'Early AM:4-6AM', 'Evening:8-11PM', 'Midday:10AM-2PM', 'Owl:12-3AM', 'PM Peak:3-7PM']"
   ]
  },
  {
   "cell_type": "code",
   "execution_count": 113,
   "id": "4c6105e7-4fbc-4848-89ab-59864739bb72",
   "metadata": {},
   "outputs": [],
   "source": [
    "# cutoff.index = index_values"
   ]
  },
  {
   "cell_type": "code",
   "execution_count": 117,
   "id": "2c7e3785-2b74-4d7a-8cb1-85c06c1e77a0",
   "metadata": {},
   "outputs": [
    {
     "data": {
      "text/html": [
       "\n",
       "<style>\n",
       "  #altair-viz-d5922156b4aa4a1cb11f43e70e7616e8.vega-embed {\n",
       "    width: 100%;\n",
       "    display: flex;\n",
       "  }\n",
       "\n",
       "  #altair-viz-d5922156b4aa4a1cb11f43e70e7616e8.vega-embed details,\n",
       "  #altair-viz-d5922156b4aa4a1cb11f43e70e7616e8.vega-embed details summary {\n",
       "    position: relative;\n",
       "  }\n",
       "</style>\n",
       "<div id=\"altair-viz-d5922156b4aa4a1cb11f43e70e7616e8\"></div>\n",
       "<script type=\"text/javascript\">\n",
       "  var VEGA_DEBUG = (typeof VEGA_DEBUG == \"undefined\") ? {} : VEGA_DEBUG;\n",
       "  (function(spec, embedOpt){\n",
       "    let outputDiv = document.currentScript.previousElementSibling;\n",
       "    if (outputDiv.id !== \"altair-viz-d5922156b4aa4a1cb11f43e70e7616e8\") {\n",
       "      outputDiv = document.getElementById(\"altair-viz-d5922156b4aa4a1cb11f43e70e7616e8\");\n",
       "    }\n",
       "    const paths = {\n",
       "      \"vega\": \"https://cdn.jsdelivr.net/npm/vega@5?noext\",\n",
       "      \"vega-lib\": \"https://cdn.jsdelivr.net/npm/vega-lib?noext\",\n",
       "      \"vega-lite\": \"https://cdn.jsdelivr.net/npm/vega-lite@5.14.1?noext\",\n",
       "      \"vega-embed\": \"https://cdn.jsdelivr.net/npm/vega-embed@6?noext\",\n",
       "    };\n",
       "\n",
       "    function maybeLoadScript(lib, version) {\n",
       "      var key = `${lib.replace(\"-\", \"\")}_version`;\n",
       "      return (VEGA_DEBUG[key] == version) ?\n",
       "        Promise.resolve(paths[lib]) :\n",
       "        new Promise(function(resolve, reject) {\n",
       "          var s = document.createElement('script');\n",
       "          document.getElementsByTagName(\"head\")[0].appendChild(s);\n",
       "          s.async = true;\n",
       "          s.onload = () => {\n",
       "            VEGA_DEBUG[key] = version;\n",
       "            return resolve(paths[lib]);\n",
       "          };\n",
       "          s.onerror = () => reject(`Error loading script: ${paths[lib]}`);\n",
       "          s.src = paths[lib];\n",
       "        });\n",
       "    }\n",
       "\n",
       "    function showError(err) {\n",
       "      outputDiv.innerHTML = `<div class=\"error\" style=\"color:red;\">${err}</div>`;\n",
       "      throw err;\n",
       "    }\n",
       "\n",
       "    function displayChart(vegaEmbed) {\n",
       "      vegaEmbed(outputDiv, spec, embedOpt)\n",
       "        .catch(err => showError(`Javascript Error: ${err.message}<br>This usually means there's a typo in your chart specification. See the javascript console for the full traceback.`));\n",
       "    }\n",
       "\n",
       "    if(typeof define === \"function\" && define.amd) {\n",
       "      requirejs.config({paths});\n",
       "      require([\"vega-embed\"], displayChart, err => showError(`Error loading script: ${err.message}`));\n",
       "    } else {\n",
       "      maybeLoadScript(\"vega\", \"5\")\n",
       "        .then(() => maybeLoadScript(\"vega-lite\", \"5.14.1\"))\n",
       "        .then(() => maybeLoadScript(\"vega-embed\", \"6\"))\n",
       "        .catch(showError)\n",
       "        .then(() => displayChart(vegaEmbed));\n",
       "    }\n",
       "  })({\"config\": {\"view\": {\"continuousWidth\": 300, \"continuousHeight\": 300}}, \"data\": {\"name\": \"data-039956df3e3e21a36c1f59439c774c1f\"}, \"mark\": {\"type\": \"rect\", \"opacity\": 0.2}, \"encoding\": {\"color\": {\"field\": \"index\", \"type\": \"nominal\"}, \"x\": {\"field\": \"start\", \"type\": \"quantitative\"}, \"x2\": {\"field\": \"stop\"}, \"y\": {\"value\": 0}, \"y2\": {\"value\": 300}}, \"$schema\": \"https://vega.github.io/schema/vega-lite/v5.14.1.json\", \"datasets\": {\"data-039956df3e3e21a36c1f59439c774c1f\": [{\"index\": 0, \"start\": 0, \"stop\": 4}, {\"index\": 1, \"start\": 3, \"stop\": 7}, {\"index\": 2, \"start\": 6, \"stop\": 10}, {\"index\": 3, \"start\": 10, \"stop\": 14}, {\"index\": 4, \"start\": 14, \"stop\": 20}]}}, {\"mode\": \"vega-lite\"});\n",
       "</script>"
      ],
      "text/plain": [
       "alt.Chart(...)"
      ]
     },
     "execution_count": 117,
     "metadata": {},
     "output_type": "execute_result"
    }
   ],
   "source": [
    "alt.Chart(\n",
    "    cutoff.reset_index()\n",
    ").mark_rect(\n",
    "    opacity=0.2\n",
    ").encode(\n",
    "    x='start',\n",
    "    x2='stop',\n",
    "    y=alt.value(0),  # pixels from top\n",
    "    y2=alt.value(300),  # pixels from top\n",
    "    color='index:N'\n",
    ")"
   ]
  },
  {
   "cell_type": "code",
   "execution_count": 97,
   "id": "33cb1bcc-340e-459a-ba6a-f533ede56152",
   "metadata": {},
   "outputs": [
    {
     "data": {
      "text/html": [
       "\n",
       "<style>\n",
       "  #altair-viz-9a6fdc74f1554151b3dfe17966a4d6e1.vega-embed {\n",
       "    width: 100%;\n",
       "    display: flex;\n",
       "  }\n",
       "\n",
       "  #altair-viz-9a6fdc74f1554151b3dfe17966a4d6e1.vega-embed details,\n",
       "  #altair-viz-9a6fdc74f1554151b3dfe17966a4d6e1.vega-embed details summary {\n",
       "    position: relative;\n",
       "  }\n",
       "</style>\n",
       "<div id=\"altair-viz-9a6fdc74f1554151b3dfe17966a4d6e1\"></div>\n",
       "<script type=\"text/javascript\">\n",
       "  var VEGA_DEBUG = (typeof VEGA_DEBUG == \"undefined\") ? {} : VEGA_DEBUG;\n",
       "  (function(spec, embedOpt){\n",
       "    let outputDiv = document.currentScript.previousElementSibling;\n",
       "    if (outputDiv.id !== \"altair-viz-9a6fdc74f1554151b3dfe17966a4d6e1\") {\n",
       "      outputDiv = document.getElementById(\"altair-viz-9a6fdc74f1554151b3dfe17966a4d6e1\");\n",
       "    }\n",
       "    const paths = {\n",
       "      \"vega\": \"https://cdn.jsdelivr.net/npm/vega@5?noext\",\n",
       "      \"vega-lib\": \"https://cdn.jsdelivr.net/npm/vega-lib?noext\",\n",
       "      \"vega-lite\": \"https://cdn.jsdelivr.net/npm/vega-lite@5.14.1?noext\",\n",
       "      \"vega-embed\": \"https://cdn.jsdelivr.net/npm/vega-embed@6?noext\",\n",
       "    };\n",
       "\n",
       "    function maybeLoadScript(lib, version) {\n",
       "      var key = `${lib.replace(\"-\", \"\")}_version`;\n",
       "      return (VEGA_DEBUG[key] == version) ?\n",
       "        Promise.resolve(paths[lib]) :\n",
       "        new Promise(function(resolve, reject) {\n",
       "          var s = document.createElement('script');\n",
       "          document.getElementsByTagName(\"head\")[0].appendChild(s);\n",
       "          s.async = true;\n",
       "          s.onload = () => {\n",
       "            VEGA_DEBUG[key] = version;\n",
       "            return resolve(paths[lib]);\n",
       "          };\n",
       "          s.onerror = () => reject(`Error loading script: ${paths[lib]}`);\n",
       "          s.src = paths[lib];\n",
       "        });\n",
       "    }\n",
       "\n",
       "    function showError(err) {\n",
       "      outputDiv.innerHTML = `<div class=\"error\" style=\"color:red;\">${err}</div>`;\n",
       "      throw err;\n",
       "    }\n",
       "\n",
       "    function displayChart(vegaEmbed) {\n",
       "      vegaEmbed(outputDiv, spec, embedOpt)\n",
       "        .catch(err => showError(`Javascript Error: ${err.message}<br>This usually means there's a typo in your chart specification. See the javascript console for the full traceback.`));\n",
       "    }\n",
       "\n",
       "    if(typeof define === \"function\" && define.amd) {\n",
       "      requirejs.config({paths});\n",
       "      require([\"vega-embed\"], displayChart, err => showError(`Error loading script: ${err.message}`));\n",
       "    } else {\n",
       "      maybeLoadScript(\"vega\", \"5\")\n",
       "        .then(() => maybeLoadScript(\"vega-lite\", \"5.14.1\"))\n",
       "        .then(() => maybeLoadScript(\"vega-embed\", \"6\"))\n",
       "        .catch(showError)\n",
       "        .then(() => displayChart(vegaEmbed));\n",
       "    }\n",
       "  })({\"config\": {\"view\": {\"continuousWidth\": 300, \"continuousHeight\": 300}}, \"data\": {\"name\": \"data-d088e79d1c4686b94e607ed63a708bcf\"}, \"mark\": {\"type\": \"line\", \"size\": 3}, \"encoding\": {\"color\": {\"field\": \"month\", \"scale\": {\"range\": [\"#fde18d\", \"#49a2b2\"]}, \"type\": \"nominal\"}, \"tooltip\": [{\"field\": \"name\", \"type\": \"nominal\"}, {\"field\": \"month\", \"type\": \"nominal\"}, {\"field\": \"departure_hour\", \"type\": \"quantitative\"}, {\"field\": \"service_hours\", \"type\": \"quantitative\"}], \"x\": {\"field\": \"departure_hour\", \"title\": \"Departure Hour\", \"type\": \"quantitative\"}, \"y\": {\"field\": \"service_hours\", \"title\": \"Service Hours\", \"type\": \"quantitative\"}}, \"height\": 250, \"title\": {\"text\": \"Total Scheduled Service Hours by Time of Day\", \"subtitle\": \"Time of Day: AM Peak:7-9AM, Early AM:4-6AM, Evening:8-11PM, Midday:10AM-2PM, Owl:12-3AM, PM Peak:3-7PM\"}, \"width\": 400, \"$schema\": \"https://vega.github.io/schema/vega-lite/v5.14.1.json\", \"datasets\": {\"data-d088e79d1c4686b94e607ed63a708bcf\": [{\"name\": \"Bay Area 511 SamTrans Schedule\", \"month\": \"2023-04\", \"departure_hour\": 0.0, \"service_hours\": 43.45}, {\"name\": \"Bay Area 511 SamTrans Schedule\", \"month\": \"2023-04\", \"departure_hour\": 1.0, \"service_hours\": 66.55}, {\"name\": \"Bay Area 511 SamTrans Schedule\", \"month\": \"2023-04\", \"departure_hour\": 2.0, \"service_hours\": 38.61666666666666}, {\"name\": \"Bay Area 511 SamTrans Schedule\", \"month\": \"2023-04\", \"departure_hour\": 3.0, \"service_hours\": 36.61666666666667}, {\"name\": \"Bay Area 511 SamTrans Schedule\", \"month\": \"2023-04\", \"departure_hour\": 4.0, \"service_hours\": 123.58333333333333}, {\"name\": \"Bay Area 511 SamTrans Schedule\", \"month\": \"2023-04\", \"departure_hour\": 5.0, \"service_hours\": 229.53333333333333}, {\"name\": \"Bay Area 511 SamTrans Schedule\", \"month\": \"2023-04\", \"departure_hour\": 6.0, \"service_hours\": 420.2}, {\"name\": \"Bay Area 511 SamTrans Schedule\", \"month\": \"2023-04\", \"departure_hour\": 7.0, \"service_hours\": 659.35}, {\"name\": \"Bay Area 511 SamTrans Schedule\", \"month\": \"2023-04\", \"departure_hour\": 8.0, \"service_hours\": 514.9}, {\"name\": \"Bay Area 511 SamTrans Schedule\", \"month\": \"2023-04\", \"departure_hour\": 9.0, \"service_hours\": 488.8833333333333}, {\"name\": \"Bay Area 511 SamTrans Schedule\", \"month\": \"2023-04\", \"departure_hour\": 10.0, \"service_hours\": 470.65}, {\"name\": \"Bay Area 511 SamTrans Schedule\", \"month\": \"2023-04\", \"departure_hour\": 11.0, \"service_hours\": 492.9166666666667}, {\"name\": \"Bay Area 511 SamTrans Schedule\", \"month\": \"2023-04\", \"departure_hour\": 12.0, \"service_hours\": 507.03333333333336}, {\"name\": \"Bay Area 511 SamTrans Schedule\", \"month\": \"2023-04\", \"departure_hour\": 13.0, \"service_hours\": 532.1}, {\"name\": \"Bay Area 511 SamTrans Schedule\", \"month\": \"2023-04\", \"departure_hour\": 14.0, \"service_hours\": 559.8833333333333}, {\"name\": \"Bay Area 511 SamTrans Schedule\", \"month\": \"2023-04\", \"departure_hour\": 15.0, \"service_hours\": 670.3166666666667}, {\"name\": \"Bay Area 511 SamTrans Schedule\", \"month\": \"2023-04\", \"departure_hour\": 16.0, \"service_hours\": 611.05}, {\"name\": \"Bay Area 511 SamTrans Schedule\", \"month\": \"2023-04\", \"departure_hour\": 17.0, \"service_hours\": 552.5833333333334}, {\"name\": \"Bay Area 511 SamTrans Schedule\", \"month\": \"2023-04\", \"departure_hour\": 18.0, \"service_hours\": 451.0833333333333}, {\"name\": \"Bay Area 511 SamTrans Schedule\", \"month\": \"2023-04\", \"departure_hour\": 19.0, \"service_hours\": 352.9166666666667}, {\"name\": \"Bay Area 511 SamTrans Schedule\", \"month\": \"2023-04\", \"departure_hour\": 20.0, \"service_hours\": 254.96666666666667}, {\"name\": \"Bay Area 511 SamTrans Schedule\", \"month\": \"2023-04\", \"departure_hour\": 21.0, \"service_hours\": 209.8}, {\"name\": \"Bay Area 511 SamTrans Schedule\", \"month\": \"2023-04\", \"departure_hour\": 22.0, \"service_hours\": 168.4}, {\"name\": \"Bay Area 511 SamTrans Schedule\", \"month\": \"2023-04\", \"departure_hour\": 23.0, \"service_hours\": 97.83333333333333}, {\"name\": \"Bay Area 511 SamTrans Schedule\", \"month\": \"2023-10\", \"departure_hour\": 0.0, \"service_hours\": 44.733333333333334}, {\"name\": \"Bay Area 511 SamTrans Schedule\", \"month\": \"2023-10\", \"departure_hour\": 1.0, \"service_hours\": 72.6}, {\"name\": \"Bay Area 511 SamTrans Schedule\", \"month\": \"2023-10\", \"departure_hour\": 2.0, \"service_hours\": 40.016666666666666}, {\"name\": \"Bay Area 511 SamTrans Schedule\", \"month\": \"2023-10\", \"departure_hour\": 3.0, \"service_hours\": 36.86666666666667}, {\"name\": \"Bay Area 511 SamTrans Schedule\", \"month\": \"2023-10\", \"departure_hour\": 4.0, \"service_hours\": 124.21666666666667}, {\"name\": \"Bay Area 511 SamTrans Schedule\", \"month\": \"2023-10\", \"departure_hour\": 5.0, \"service_hours\": 248.0}, {\"name\": \"Bay Area 511 SamTrans Schedule\", \"month\": \"2023-10\", \"departure_hour\": 6.0, \"service_hours\": 426.85}, {\"name\": \"Bay Area 511 SamTrans Schedule\", \"month\": \"2023-10\", \"departure_hour\": 7.0, \"service_hours\": 680.7833333333333}, {\"name\": \"Bay Area 511 SamTrans Schedule\", \"month\": \"2023-10\", \"departure_hour\": 8.0, \"service_hours\": 530.9}, {\"name\": \"Bay Area 511 SamTrans Schedule\", \"month\": \"2023-10\", \"departure_hour\": 9.0, \"service_hours\": 511.7166666666667}, {\"name\": \"Bay Area 511 SamTrans Schedule\", \"month\": \"2023-10\", \"departure_hour\": 10.0, \"service_hours\": 491.5}, {\"name\": \"Bay Area 511 SamTrans Schedule\", \"month\": \"2023-10\", \"departure_hour\": 11.0, \"service_hours\": 514.5333333333333}, {\"name\": \"Bay Area 511 SamTrans Schedule\", \"month\": \"2023-10\", \"departure_hour\": 12.0, \"service_hours\": 530.45}, {\"name\": \"Bay Area 511 SamTrans Schedule\", \"month\": \"2023-10\", \"departure_hour\": 13.0, \"service_hours\": 549.2333333333333}, {\"name\": \"Bay Area 511 SamTrans Schedule\", \"month\": \"2023-10\", \"departure_hour\": 14.0, \"service_hours\": 591.7}, {\"name\": \"Bay Area 511 SamTrans Schedule\", \"month\": \"2023-10\", \"departure_hour\": 15.0, \"service_hours\": 696.3}, {\"name\": \"Bay Area 511 SamTrans Schedule\", \"month\": \"2023-10\", \"departure_hour\": 16.0, \"service_hours\": 609.5}, {\"name\": \"Bay Area 511 SamTrans Schedule\", \"month\": \"2023-10\", \"departure_hour\": 17.0, \"service_hours\": 577.8}, {\"name\": \"Bay Area 511 SamTrans Schedule\", \"month\": \"2023-10\", \"departure_hour\": 18.0, \"service_hours\": 472.93333333333334}, {\"name\": \"Bay Area 511 SamTrans Schedule\", \"month\": \"2023-10\", \"departure_hour\": 19.0, \"service_hours\": 396.48333333333335}, {\"name\": \"Bay Area 511 SamTrans Schedule\", \"month\": \"2023-10\", \"departure_hour\": 20.0, \"service_hours\": 260.96666666666664}, {\"name\": \"Bay Area 511 SamTrans Schedule\", \"month\": \"2023-10\", \"departure_hour\": 21.0, \"service_hours\": 218.3}, {\"name\": \"Bay Area 511 SamTrans Schedule\", \"month\": \"2023-10\", \"departure_hour\": 22.0, \"service_hours\": 174.33333333333334}, {\"name\": \"Bay Area 511 SamTrans Schedule\", \"month\": \"2023-10\", \"departure_hour\": 23.0, \"service_hours\": 98.75}]}}, {\"mode\": \"vega-lite\"});\n",
       "</script>"
      ],
      "text/plain": [
       "alt.Chart(...)"
      ]
     },
     "execution_count": 97,
     "metadata": {},
     "output_type": "execute_result"
    }
   ],
   "source": [
    "(alt.Chart(samtrans)\n",
    " .mark_line(size=3)\n",
    " .encode(\n",
    "     x = alt.X(\"departure_hour\", title = _report_utils.labeling(\"departure_hour\")),\n",
    "     y = alt.Y(\"service_hours\", title = _report_utils.labeling(\"service_hours\")),\n",
    "     color = alt.Color(\"month\", scale=alt.Scale(range=color_dict[\"longest_shortest_route\"])),\n",
    "     tooltip = list(samtrans.columns)\n",
    " )\n",
    "   ).properties(\n",
    "            width=400, height = 250,\n",
    "            title={\n",
    "                \"text\":readable_dict[\"total_scheduled_hours\"][\"title\"],\n",
    "                \"subtitle\": readable_dict[\"total_scheduled_hours\"][\"subtitle\"],\n",
    "            }\n",
    "        )"
   ]
  }
 ],
 "metadata": {
  "kernelspec": {
   "display_name": "Python 3 (ipykernel)",
   "language": "python",
   "name": "python3"
  },
  "language_info": {
   "codemirror_mode": {
    "name": "ipython",
    "version": 3
   },
   "file_extension": ".py",
   "mimetype": "text/x-python",
   "name": "python",
   "nbconvert_exporter": "python",
   "pygments_lexer": "ipython3",
   "version": "3.9.13"
  }
 },
 "nbformat": 4,
 "nbformat_minor": 5
}
