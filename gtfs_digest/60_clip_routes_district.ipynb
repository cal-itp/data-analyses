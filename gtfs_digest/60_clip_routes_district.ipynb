{
 "cells": [
  {
   "cell_type": "markdown",
   "id": "1c287ed2-cd1f-4136-992d-225f9a6ef530",
   "metadata": {},
   "source": [
    "# Clip routes at district cutoff when displaying them on the GTFS Digest CT District notebooks\n",
    "* Requested by Evan [here](https://github.com/cal-itp/data-analyses/issues/1386)\n",
    "* gtfs_digest/district_report.ipynb "
   ]
  },
  {
   "cell_type": "code",
   "execution_count": 9,
   "id": "d40d15df-62d2-4251-a24f-3b324cc102f9",
   "metadata": {
    "tags": []
   },
   "outputs": [],
   "source": [
    "import _report_utils\n",
    "import _section1_utils as section1\n",
    "import _section2_utils as section2\n",
    "import geopandas as gpd\n",
    "import pandas as pd\n",
    "from update_vars import GTFS_DATA_DICT, RT_SCHED_GCS\n",
    "from shared_utils import (\n",
    "    catalog_utils,\n",
    "    portfolio_utils,\n",
    "    rt_dates,\n",
    "    rt_utils,\n",
    "    time_helpers,\n",
    ")"
   ]
  },
  {
   "cell_type": "code",
   "execution_count": 10,
   "id": "05c1b77b-98dd-4752-83cc-e5bd8a57154d",
   "metadata": {
    "tags": []
   },
   "outputs": [],
   "source": [
    "# Data Dictionary\n",
    "GTFS_DATA_DICT = catalog_utils.get_catalog(\"gtfs_analytics_data\")\n"
   ]
  },
  {
   "cell_type": "code",
   "execution_count": 11,
   "id": "98e4772f-59e2-4bee-aadb-9ddcaefe0c50",
   "metadata": {
    "tags": []
   },
   "outputs": [],
   "source": [
    "pd.options.display.max_columns = 100\n",
    "pd.options.display.float_format = \"{:.2f}\".format\n",
    "pd.set_option(\"display.max_rows\", None)\n",
    "pd.set_option(\"display.max_colwidth\", None)"
   ]
  },
  {
   "cell_type": "code",
   "execution_count": 12,
   "id": "800672a3-e883-40b7-93c6-338c4fc3723a",
   "metadata": {
    "tags": []
   },
   "outputs": [],
   "source": [
    "analysis_date_list = [rt_dates.DATES[\"feb2025\"]]"
   ]
  },
  {
   "cell_type": "code",
   "execution_count": 13,
   "id": "27e6b9fa-8f4f-43c8-9549-1d71ddf3a9a3",
   "metadata": {
    "tags": []
   },
   "outputs": [],
   "source": [
    "analysis_date = rt_dates.DATES[\"feb2025\"]"
   ]
  },
  {
   "cell_type": "code",
   "execution_count": 14,
   "id": "2b901180-e950-4b56-80a4-99e177f07486",
   "metadata": {
    "tags": []
   },
   "outputs": [],
   "source": [
    "schd_vp_url = f\"{GTFS_DATA_DICT.digest_tables.dir}{GTFS_DATA_DICT.digest_tables.route_schedule_vp}.parquet\""
   ]
  },
  {
   "cell_type": "code",
   "execution_count": 15,
   "id": "59528b04-81ef-4c68-833a-24f3c0022599",
   "metadata": {
    "tags": []
   },
   "outputs": [],
   "source": [
    "district = \"04 - Oakland\""
   ]
  },
  {
   "cell_type": "code",
   "execution_count": 44,
   "id": "4da881da-103e-4f3b-8fe3-c0c316fd28a9",
   "metadata": {
    "tags": []
   },
   "outputs": [],
   "source": [
    "district_int = [int(s) for s in district.split() if s.isdigit()][0]"
   ]
  },
  {
   "cell_type": "code",
   "execution_count": 16,
   "id": "eb4db2f2-18be-472e-b288-9295761429ad",
   "metadata": {},
   "outputs": [],
   "source": [
    "# Read in all datasets here with GTFS_DATA_DICT \n",
    "# Reran merge_operator_data.py to test this\n",
    "OPERATOR_FILE = GTFS_DATA_DICT.digest_tables.operator_profiles\n",
    "OPERATOR_ROUTE = GTFS_DATA_DICT.digest_tables.operator_routes_map\n",
    "\n",
    "operator_df = pd.read_parquet(\n",
    "    f\"{RT_SCHED_GCS}{OPERATOR_FILE}.parquet\",\n",
    "    filters = [[(\"caltrans_district\", \"==\", district)]]\n",
    ")\n",
    "\n",
    "# using name instead of schedule_gtfs_dataset_key allows us to get \n",
    "# the last ones for LA Metro without keeping extraneous rows for LA Metro when keys changed\n",
    "operator_df = operator_df.sort_values(\n",
    "    [\"service_date\", \"name\"], \n",
    "    ascending=[False, True]\n",
    ").drop_duplicates(\n",
    "    subset=[\"name\"]\n",
    ").reset_index(drop=True)"
   ]
  },
  {
   "cell_type": "code",
   "execution_count": 17,
   "id": "7ac73bd6-503d-44e4-ac9f-ead6d433e1d0",
   "metadata": {},
   "outputs": [],
   "source": [
    "# De duplicate\n",
    "# First find any organizations_names with more than 2 names per \n",
    "orgs_agg = (\n",
    "    operator_df.groupby([\"caltrans_district\", \"organization_name\"])\n",
    "    .agg({\"name\": \"nunique\"})\n",
    "    .reset_index()\n",
    ")\n",
    "orgs_agg2 = orgs_agg.loc[orgs_agg.name > 1]\n",
    "orgs_with_2_names = list(orgs_agg2.organization_name.unique())"
   ]
  },
  {
   "cell_type": "code",
   "execution_count": 18,
   "id": "b7a0ddc5-b49d-48a0-a0ce-8e5b1daaaf5f",
   "metadata": {},
   "outputs": [],
   "source": [
    "# Delete out these organizations from the original df so we can manipulate them.\n",
    "operator_df2 = operator_df.loc[\n",
    "    ~operator_df.organization_name.isin(orgs_with_2_names)\n",
    "].reset_index(drop=True)"
   ]
  },
  {
   "cell_type": "code",
   "execution_count": 19,
   "id": "06aab6c0-3bff-4ef1-bb87-1a66ed9bd427",
   "metadata": {},
   "outputs": [],
   "source": [
    "# Filter for these organizations with more than 2 names in their own df.\n",
    "orgs_with_2_names_df = operator_df.loc[\n",
    "    operator_df.organization_name.isin(orgs_with_2_names)\n",
    "].reset_index(drop=True)"
   ]
  },
  {
   "cell_type": "code",
   "execution_count": 20,
   "id": "900cee93-5568-422b-9fd7-b26191f3cf5c",
   "metadata": {},
   "outputs": [],
   "source": [
    "three_month_reference = operator_df2[\"service_date\"].max() - pd.DateOffset(\n",
    "    months=3\n",
    ")"
   ]
  },
  {
   "cell_type": "code",
   "execution_count": 21,
   "id": "6c141d85-e07c-48f6-8ac4-e01aa8fa887d",
   "metadata": {},
   "outputs": [],
   "source": [
    "orgs_with_2_names_df = orgs_with_2_names_df[\n",
    "    orgs_with_2_names_df[\"service_date\"] >= three_month_reference\n",
    "]"
   ]
  },
  {
   "cell_type": "code",
   "execution_count": 22,
   "id": "d6bb4aff-371f-4512-8845-01bff49be79f",
   "metadata": {},
   "outputs": [],
   "source": [
    "# Filter out any rows in which `vp_per_min_agency` and `spatial_accuracy_agency` is equal than 0\n",
    "# and still has 2+ names\n",
    "orgs_agg = (\n",
    "    orgs_with_2_names_df.groupby([\"organization_name\"])\n",
    "    .agg({\"name\": \"nunique\"})\n",
    "    .reset_index()\n",
    "    .rename(columns={\"name\": \"n_names\"})\n",
    ")"
   ]
  },
  {
   "cell_type": "code",
   "execution_count": 23,
   "id": "2fd6ff2b-9485-45fe-8c48-e88db9d1769c",
   "metadata": {},
   "outputs": [],
   "source": [
    "orgs_with_2_names_df = pd.merge(\n",
    "    orgs_with_2_names_df, orgs_agg, on=\"organization_name\", how=\"left\"\n",
    ")"
   ]
  },
  {
   "cell_type": "code",
   "execution_count": 24,
   "id": "9a0360f5-ca35-4c4c-bf0a-2c09001d1b49",
   "metadata": {},
   "outputs": [],
   "source": [
    "orgs_with_2_names_df2 = orgs_with_2_names_df[\n",
    "    (orgs_with_2_names_df.vp_per_min_agency > 0)\n",
    "    & (orgs_with_2_names_df.spatial_accuracy_agency > 0)\n",
    "    & (orgs_with_2_names_df.n_names > 1)\n",
    "].reset_index(drop=True)"
   ]
  },
  {
   "cell_type": "code",
   "execution_count": 25,
   "id": "c3bb0bf5-a74b-493c-812c-63efe13f63bb",
   "metadata": {},
   "outputs": [],
   "source": [
    "# Keep rows that meet service_date\n",
    "service_date = operator_df2.service_date.max()\n",
    "orgs_with_2_names_df3 = orgs_with_2_names_df2.loc[\n",
    "    orgs_with_2_names_df2.service_date == service_date\n",
    "]\n",
    "final_names = list(orgs_with_2_names_df3.organization_name.unique())"
   ]
  },
  {
   "cell_type": "code",
   "execution_count": 26,
   "id": "a2bb8b94-064f-414d-ae7e-02d4c8c0fe9c",
   "metadata": {},
   "outputs": [],
   "source": [
    "## Concat back\n",
    "orgs_with_2_names_df = orgs_with_2_names_df.loc[~orgs_with_2_names_df.organization_name.isin(final_names)]"
   ]
  },
  {
   "cell_type": "code",
   "execution_count": 27,
   "id": "3a0b3850-74a6-40f3-9f7a-89a7e3314171",
   "metadata": {},
   "outputs": [],
   "source": [
    "orgs_with_2_names_df_final = pd.concat([orgs_with_2_names_df, orgs_with_2_names_df3])"
   ]
  },
  {
   "cell_type": "code",
   "execution_count": 28,
   "id": "1c286124-4b6d-470d-9589-564710bfedee",
   "metadata": {},
   "outputs": [],
   "source": [
    "operator_df2 = pd.concat([operator_df2, orgs_with_2_names_df_final])"
   ]
  },
  {
   "cell_type": "code",
   "execution_count": 29,
   "id": "f333327e-4b09-41a2-b427-0b0a68911b4c",
   "metadata": {},
   "outputs": [],
   "source": [
    "OPERATOR_ROUTE = GTFS_DATA_DICT.digest_tables.operator_routes_map"
   ]
  },
  {
   "cell_type": "code",
   "execution_count": 31,
   "id": "33383ad4-8181-42cc-9daa-ad704dfdd650",
   "metadata": {
    "tags": []
   },
   "outputs": [],
   "source": [
    "operators_in_district = operator_df2.name.unique()"
   ]
  },
  {
   "cell_type": "code",
   "execution_count": 32,
   "id": "c0d31b6f-fa27-48b3-a7f1-3efb6e1f2c06",
   "metadata": {
    "tags": []
   },
   "outputs": [],
   "source": [
    "operator_route_gdf = gpd.read_parquet(\n",
    "    f\"{RT_SCHED_GCS}{OPERATOR_ROUTE}.parquet\",\n",
    "    filters = [[\"name\", \"in\", operators_in_district]],\n",
    "    columns = [\"name\", \"service_date\", \n",
    "               \"route_combined_name\", \"geometry\"]\n",
    ").sort_values(\n",
    "    [\"service_date\", \"name\", \"route_combined_name\"], \n",
    "    ascending=[False, True, True]\n",
    ").drop_duplicates(\n",
    "    subset = [\"name\", \"route_combined_name\"]\n",
    ").drop(\n",
    "    columns = [\"service_date\", \"route_combined_name\"]\n",
    "    # drop route because after the dissolve, all operator routes are combined\n",
    "    # so route would hold only the first row's value\n",
    ").dissolve(by = \"name\").reset_index().pipe(_report_utils.replace_column_names)"
   ]
  },
  {
   "cell_type": "code",
   "execution_count": 39,
   "id": "697d7acc-e53d-4f47-80de-0219b9c1f980",
   "metadata": {
    "tags": []
   },
   "outputs": [
    {
     "data": {
      "text/plain": [
       "Index(['Transit Operator', 'geometry'], dtype='object')"
      ]
     },
     "execution_count": 39,
     "metadata": {},
     "output_type": "execute_result"
    }
   ],
   "source": [
    "operator_route_gdf.columns"
   ]
  },
  {
   "cell_type": "code",
   "execution_count": 55,
   "id": "a66bb2af-1162-424a-baaf-af0aa75038c1",
   "metadata": {
    "tags": []
   },
   "outputs": [],
   "source": [
    "def ct_district(district:int)->gpd.GeoDataFrame:\n",
    "    \"\"\"\n",
    "    Load in Caltrans Shape.\n",
    "    \"\"\"\n",
    "    caltrans_url = \"https://gis.data.ca.gov/datasets/0144574f750f4ccc88749004aca6eb0c_0.geojson?outSR=%7B%22latestWkid%22%3A3857%2C%22wkid%22%3A102100%7D\"\n",
    "    ca_geojson = (gpd.read_file(caltrans_url)\n",
    "               .to_crs(operator_route_gdf.crs))\n",
    "    district_geojson = ca_geojson.loc[ca_geojson.DISTRICT == district]\n",
    "    return district_geojson"
   ]
  },
  {
   "cell_type": "code",
   "execution_count": 51,
   "id": "91bd8f76-f08a-4cb6-aee3-9425a83d1c23",
   "metadata": {
    "tags": []
   },
   "outputs": [],
   "source": [
    "shapes_within_dist = gpd.sjoin(\n",
    "            operator_route_gdf,\n",
    "            district_geojson,\n",
    "            how = \"inner\",\n",
    "            predicate = \"within\",\n",
    "        ).drop(columns = \"index_right\")\n",
    "    "
   ]
  }
 ],
 "metadata": {
  "kernelspec": {
   "display_name": "Python 3 (ipykernel)",
   "language": "python",
   "name": "python3"
  },
  "language_info": {
   "codemirror_mode": {
    "name": "ipython",
    "version": 3
   },
   "file_extension": ".py",
   "mimetype": "text/x-python",
   "name": "python",
   "nbconvert_exporter": "python",
   "pygments_lexer": "ipython3",
   "version": "3.11.10"
  }
 },
 "nbformat": 4,
 "nbformat_minor": 5
}
