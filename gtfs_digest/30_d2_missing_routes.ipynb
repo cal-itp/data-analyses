{
 "cells": [
  {
   "cell_type": "markdown",
   "id": "cb9f61c1-e812-4e3f-a318-c9654d35e45e",
   "metadata": {},
   "source": [
    "## D2 missing some routes [PR](https://github.com/cal-itp/data-analyses/issues/1582)"
   ]
  },
  {
   "cell_type": "code",
   "execution_count": 1,
   "id": "0a24fb0c-0020-4040-b7ca-606fd58a3d4c",
   "metadata": {
    "tags": []
   },
   "outputs": [],
   "source": [
    "import _ct_district_data_prep\n",
    "import _transit_routes_on_shn\n",
    "# import _ct_district_visuals\n",
    "import _report_utils\n",
    "import calitp_data_analysis.magics\n",
    "import geopandas as gpd\n",
    "import pandas as pd\n",
    "from IPython.display import HTML, Image, Markdown, display, display_html\n",
    "from update_vars import GTFS_DATA_DICT, RT_SCHED_GCS"
   ]
  },
  {
   "cell_type": "code",
   "execution_count": 2,
   "id": "650dcefd-56d6-4106-b0f7-5415f28bb3aa",
   "metadata": {
    "tags": []
   },
   "outputs": [],
   "source": [
    "import google.auth\n",
    "\n",
    "credentials, project = google.auth.default()\n",
    "import gcsfs\n",
    "\n",
    "fs = gcsfs.GCSFileSystem()"
   ]
  },
  {
   "cell_type": "code",
   "execution_count": 3,
   "id": "eefac834-2244-4cf0-8f27-0a8b9f75ff93",
   "metadata": {
    "tags": []
   },
   "outputs": [],
   "source": [
    "district = \"02 - Redding\""
   ]
  },
  {
   "cell_type": "code",
   "execution_count": 4,
   "id": "a82086bc-01ae-4601-9a0d-ba19fb281332",
   "metadata": {
    "tags": []
   },
   "outputs": [],
   "source": [
    "district_int = [int(s) for s in district.split() if s.isdigit()][0]"
   ]
  },
  {
   "cell_type": "code",
   "execution_count": 5,
   "id": "db1296fc-7b8e-4138-af4f-288f207abf02",
   "metadata": {
    "tags": []
   },
   "outputs": [],
   "source": [
    "# Load Datasets\n",
    "operator_df = _ct_district_data_prep.data_wrangling_operator_profile(district)"
   ]
  },
  {
   "cell_type": "code",
   "execution_count": 6,
   "id": "632a71eb-f9df-49bd-b163-6764f2fd790d",
   "metadata": {
    "tags": []
   },
   "outputs": [],
   "source": [
    "portfolio_organization_names = list(operator_df.portfolio_organization_name.unique())"
   ]
  },
  {
   "cell_type": "code",
   "execution_count": 7,
   "id": "26619148-bf66-483c-a676-4d5fe6fecd64",
   "metadata": {
    "tags": []
   },
   "outputs": [
    {
     "data": {
      "text/plain": [
       "['Modoc Transportation Agency',\n",
       " 'Siskiyou County',\n",
       " 'Redding Area Bus Authority',\n",
       " 'Tehama County',\n",
       " 'Trinity County',\n",
       " 'Plumas Transit Systems',\n",
       " 'Lassen Transit Service Agency']"
      ]
     },
     "execution_count": 7,
     "metadata": {},
     "output_type": "execute_result"
    }
   ],
   "source": [
    "portfolio_organization_names"
   ]
  },
  {
   "cell_type": "code",
   "execution_count": 8,
   "id": "21d929f1-c9e8-4621-b437-676cf0f15a54",
   "metadata": {
    "tags": []
   },
   "outputs": [],
   "source": [
    "OPERATOR_ROUTE = GTFS_DATA_DICT.digest_tables.operator_routes_map"
   ]
  },
  {
   "cell_type": "code",
   "execution_count": 9,
   "id": "1c0b10b9-6f31-43a3-a630-7acd76eafe6e",
   "metadata": {
    "tags": []
   },
   "outputs": [],
   "source": [
    "operator_route_gdf = gpd.read_parquet(\n",
    "    f\"{RT_SCHED_GCS}{OPERATOR_ROUTE}.parquet\",\n",
    "    storage_options={\"token\": credentials.token},\n",
    ")[[\"portfolio_organization_name\", \"service_date\", \"recent_combined_name\", \"geometry\"]]\n",
    "\n",
    "operator_route_gdf = operator_route_gdf.loc[\n",
    "    operator_route_gdf.portfolio_organization_name.isin(portfolio_organization_names)\n",
    "]"
   ]
  },
  {
   "cell_type": "code",
   "execution_count": 10,
   "id": "f5034e4c-2c07-4128-8f00-076b7f930b85",
   "metadata": {},
   "outputs": [],
   "source": [
    "GCS_FILE_PATH = \"gs://calitp-analytics-data/data-analyses/state_highway_network/\""
   ]
  },
  {
   "cell_type": "code",
   "execution_count": 11,
   "id": "2db2812d-426b-45aa-9e5a-f48f029f1d56",
   "metadata": {
    "tags": []
   },
   "outputs": [],
   "source": [
    "# Save everything out for now\n",
    "intersection_gdf = gpd.read_parquet(\n",
    "        f\"{GCS_FILE_PATH}transit_route_intersect_shn_50_gtfs_digest.parquet\",\n",
    "        storage_options={\"token\": credentials.token},\n",
    "    )\n",
    "    "
   ]
  },
  {
   "cell_type": "code",
   "execution_count": 12,
   "id": "9eb12a35-72e4-4fd8-b66e-5fab94ca7a9d",
   "metadata": {
    "tags": []
   },
   "outputs": [],
   "source": [
    "open_data_portal_df = pd.read_parquet(\n",
    "        f\"{GCS_FILE_PATH}transit_route_shn_open_data_portal_50.parquet\",\n",
    "        storage_options={\"token\": credentials.token},\n",
    "    )"
   ]
  },
  {
   "cell_type": "code",
   "execution_count": 13,
   "id": "6c9e0d81-2617-4c86-9e7f-2bcae6c7d49f",
   "metadata": {
    "tags": []
   },
   "outputs": [
    {
     "data": {
      "text/html": [
       "<div>\n",
       "<style scoped>\n",
       "    .dataframe tbody tr th:only-of-type {\n",
       "        vertical-align: middle;\n",
       "    }\n",
       "\n",
       "    .dataframe tbody tr th {\n",
       "        vertical-align: top;\n",
       "    }\n",
       "\n",
       "    .dataframe thead th {\n",
       "        text-align: right;\n",
       "    }\n",
       "</style>\n",
       "<table border=\"1\" class=\"dataframe\">\n",
       "  <thead>\n",
       "    <tr style=\"text-align: right;\">\n",
       "      <th></th>\n",
       "      <th>portfolio_organization_name</th>\n",
       "      <th>recent_combined_name</th>\n",
       "      <th>shn_route</th>\n",
       "      <th>district</th>\n",
       "      <th>pct_route_on_hwy_across_districts</th>\n",
       "      <th>on_shs</th>\n",
       "    </tr>\n",
       "  </thead>\n",
       "  <tbody>\n",
       "    <tr>\n",
       "      <th>0</th>\n",
       "      <td>Alameda-Contra Costa Transit District</td>\n",
       "      <td>10 E. 14th St. - Mission</td>\n",
       "      <td>238, 112, 185</td>\n",
       "      <td>4</td>\n",
       "      <td>39.0</td>\n",
       "      <td>Y</td>\n",
       "    </tr>\n",
       "  </tbody>\n",
       "</table>\n",
       "</div>"
      ],
      "text/plain": [
       "             portfolio_organization_name      recent_combined_name  \\\n",
       "0  Alameda-Contra Costa Transit District  10 E. 14th St. - Mission   \n",
       "\n",
       "       shn_route district  pct_route_on_hwy_across_districts on_shs  \n",
       "0  238, 112, 185        4                               39.0      Y  "
      ]
     },
     "execution_count": 13,
     "metadata": {},
     "output_type": "execute_result"
    }
   ],
   "source": [
    "open_data_portal_df.head(1)"
   ]
  },
  {
   "cell_type": "code",
   "execution_count": 14,
   "id": "89cc52ca-20d3-42e9-a6de-78d83cc0b50e",
   "metadata": {},
   "outputs": [
    {
     "data": {
      "text/html": [
       "<div>\n",
       "<style scoped>\n",
       "    .dataframe tbody tr th:only-of-type {\n",
       "        vertical-align: middle;\n",
       "    }\n",
       "\n",
       "    .dataframe tbody tr th {\n",
       "        vertical-align: top;\n",
       "    }\n",
       "\n",
       "    .dataframe thead th {\n",
       "        text-align: right;\n",
       "    }\n",
       "</style>\n",
       "<table border=\"1\" class=\"dataframe\">\n",
       "  <thead>\n",
       "    <tr style=\"text-align: right;\">\n",
       "      <th></th>\n",
       "      <th>portfolio_organization_name</th>\n",
       "      <th>recent_combined_name</th>\n",
       "      <th>shn_route</th>\n",
       "      <th>district</th>\n",
       "      <th>pct_route_on_hwy_across_districts</th>\n",
       "      <th>on_shs</th>\n",
       "    </tr>\n",
       "  </thead>\n",
       "  <tbody>\n",
       "    <tr>\n",
       "      <th>1636</th>\n",
       "      <td>Redding Area Bus Authority</td>\n",
       "      <td>Route 99X/Amtrak Thruway Route 3</td>\n",
       "      <td>273, 99, 36, 44, 32, 5</td>\n",
       "      <td>2, 3</td>\n",
       "      <td>97.8</td>\n",
       "      <td>Y</td>\n",
       "    </tr>\n",
       "  </tbody>\n",
       "</table>\n",
       "</div>"
      ],
      "text/plain": [
       "     portfolio_organization_name              recent_combined_name  \\\n",
       "1636  Redding Area Bus Authority  Route 99X/Amtrak Thruway Route 3   \n",
       "\n",
       "                   shn_route district  pct_route_on_hwy_across_districts  \\\n",
       "1636  273, 99, 36, 44, 32, 5     2, 3                               97.8   \n",
       "\n",
       "     on_shs  \n",
       "1636      Y  "
      ]
     },
     "execution_count": 14,
     "metadata": {},
     "output_type": "execute_result"
    }
   ],
   "source": [
    "open_data_portal_df.loc[open_data_portal_df.recent_combined_name.str.contains(\"Route 99X/Amtrak Thruway Route 3\")]"
   ]
  },
  {
   "cell_type": "code",
   "execution_count": 16,
   "id": "2d5ea574-233f-4145-bb79-15f24f00aba3",
   "metadata": {
    "tags": []
   },
   "outputs": [
    {
     "data": {
      "text/html": [
       "<div>\n",
       "<style scoped>\n",
       "    .dataframe tbody tr th:only-of-type {\n",
       "        vertical-align: middle;\n",
       "    }\n",
       "\n",
       "    .dataframe tbody tr th {\n",
       "        vertical-align: top;\n",
       "    }\n",
       "\n",
       "    .dataframe thead th {\n",
       "        text-align: right;\n",
       "    }\n",
       "</style>\n",
       "<table border=\"1\" class=\"dataframe\">\n",
       "  <thead>\n",
       "    <tr style=\"text-align: right;\">\n",
       "      <th></th>\n",
       "      <th>portfolio_organization_name</th>\n",
       "      <th>recent_combined_name</th>\n",
       "      <th>shn_route</th>\n",
       "      <th>district</th>\n",
       "      <th>pct_route_on_hwy_across_districts</th>\n",
       "      <th>on_shs</th>\n",
       "    </tr>\n",
       "  </thead>\n",
       "  <tbody>\n",
       "    <tr>\n",
       "      <th>799</th>\n",
       "      <td>Eastern Contra Costa Transit Authority</td>\n",
       "      <td>389 Pittsburg-Bay Point BART / Bay Point</td>\n",
       "      <td>4</td>\n",
       "      <td>4</td>\n",
       "      <td>0.4</td>\n",
       "      <td>Y</td>\n",
       "    </tr>\n",
       "  </tbody>\n",
       "</table>\n",
       "</div>"
      ],
      "text/plain": [
       "                portfolio_organization_name  \\\n",
       "799  Eastern Contra Costa Transit Authority   \n",
       "\n",
       "                         recent_combined_name shn_route district  \\\n",
       "799  389 Pittsburg-Bay Point BART / Bay Point         4        4   \n",
       "\n",
       "     pct_route_on_hwy_across_districts on_shs  \n",
       "799                                0.4      Y  "
      ]
     },
     "execution_count": 16,
     "metadata": {},
     "output_type": "execute_result"
    }
   ],
   "source": [
    "open_data_portal_df.loc[open_data_portal_df.recent_combined_name.str.contains(\"389\")]"
   ]
  },
  {
   "cell_type": "code",
   "execution_count": 15,
   "id": "5e17b89d-55b0-43ea-9988-855afbcb61be",
   "metadata": {
    "tags": []
   },
   "outputs": [
    {
     "ename": "AttributeError",
     "evalue": "'DataFrame' object has no attribute 'District'",
     "output_type": "error",
     "traceback": [
      "\u001b[0;31m---------------------------------------------------------------------------\u001b[0m",
      "\u001b[0;31mAttributeError\u001b[0m                            Traceback (most recent call last)",
      "\u001b[0;32m/tmp/ipykernel_3753/3417849789.py\u001b[0m in \u001b[0;36m?\u001b[0;34m()\u001b[0m\n\u001b[1;32m      1\u001b[0m open_data_df2 = open_data_portal_df.loc[\n\u001b[1;32m      2\u001b[0m         \u001b[0;34m(\u001b[0m\u001b[0mopen_data_portal_df\u001b[0m\u001b[0;34m.\u001b[0m\u001b[0mpct_route_on_hwy_across_districts\u001b[0m \u001b[0;34m>\u001b[0m \u001b[0;36m0\u001b[0m\u001b[0;34m)\u001b[0m\u001b[0;34m\u001b[0m\u001b[0;34m\u001b[0m\u001b[0m\n\u001b[0;32m----> 3\u001b[0;31m         \u001b[0;34m&\u001b[0m \u001b[0;34m(\u001b[0m\u001b[0mopen_data_portal_df\u001b[0m\u001b[0;34m.\u001b[0m\u001b[0mDistrict\u001b[0m\u001b[0;34m.\u001b[0m\u001b[0mstr\u001b[0m\u001b[0;34m.\u001b[0m\u001b[0mcontains\u001b[0m\u001b[0;34m(\u001b[0m\u001b[0mstr\u001b[0m\u001b[0;34m(\u001b[0m\u001b[0mdistrict_int\u001b[0m\u001b[0;34m)\u001b[0m\u001b[0;34m)\u001b[0m\u001b[0;34m)\u001b[0m\u001b[0;34m\u001b[0m\u001b[0;34m\u001b[0m\u001b[0m\n\u001b[0m\u001b[1;32m      4\u001b[0m     ]\n",
      "\u001b[0;32m/opt/conda/lib/python3.11/site-packages/pandas/core/generic.py\u001b[0m in \u001b[0;36m?\u001b[0;34m(self, name)\u001b[0m\n\u001b[1;32m   5898\u001b[0m             \u001b[0;32mand\u001b[0m \u001b[0mname\u001b[0m \u001b[0;32mnot\u001b[0m \u001b[0;32min\u001b[0m \u001b[0mself\u001b[0m\u001b[0;34m.\u001b[0m\u001b[0m_accessors\u001b[0m\u001b[0;34m\u001b[0m\u001b[0;34m\u001b[0m\u001b[0m\n\u001b[1;32m   5899\u001b[0m             \u001b[0;32mand\u001b[0m \u001b[0mself\u001b[0m\u001b[0;34m.\u001b[0m\u001b[0m_info_axis\u001b[0m\u001b[0;34m.\u001b[0m\u001b[0m_can_hold_identifiers_and_holds_name\u001b[0m\u001b[0;34m(\u001b[0m\u001b[0mname\u001b[0m\u001b[0;34m)\u001b[0m\u001b[0;34m\u001b[0m\u001b[0;34m\u001b[0m\u001b[0m\n\u001b[1;32m   5900\u001b[0m         ):\n\u001b[1;32m   5901\u001b[0m             \u001b[0;32mreturn\u001b[0m \u001b[0mself\u001b[0m\u001b[0;34m[\u001b[0m\u001b[0mname\u001b[0m\u001b[0;34m]\u001b[0m\u001b[0;34m\u001b[0m\u001b[0;34m\u001b[0m\u001b[0m\n\u001b[0;32m-> 5902\u001b[0;31m         \u001b[0;32mreturn\u001b[0m \u001b[0mobject\u001b[0m\u001b[0;34m.\u001b[0m\u001b[0m__getattribute__\u001b[0m\u001b[0;34m(\u001b[0m\u001b[0mself\u001b[0m\u001b[0;34m,\u001b[0m \u001b[0mname\u001b[0m\u001b[0;34m)\u001b[0m\u001b[0;34m\u001b[0m\u001b[0;34m\u001b[0m\u001b[0m\n\u001b[0m",
      "\u001b[0;31mAttributeError\u001b[0m: 'DataFrame' object has no attribute 'District'"
     ]
    }
   ],
   "source": [
    "open_data_df2 = open_data_portal_df.loc[\n",
    "        (open_data_portal_df.pct_route_on_hwy_across_districts > 0)\n",
    "        & (open_data_portal_df.District.str.contains(str(district_int)))\n",
    "    ]"
   ]
  },
  {
   "cell_type": "code",
   "execution_count": null,
   "id": "7b55998e-762c-46e6-afca-c0968954a81f",
   "metadata": {
    "tags": []
   },
   "outputs": [],
   "source": [
    "open_data_df3 = open_data_df2[open_data_df2['District'].apply(lambda x: str(district_int) in x.split(', '))]"
   ]
  },
  {
   "cell_type": "code",
   "execution_count": null,
   "id": "44c6ace6-7ce7-4513-bb17-d6d9b4d1f65c",
   "metadata": {
    "tags": []
   },
   "outputs": [],
   "source": [
    "open_data_df3.District.unique()"
   ]
  },
  {
   "cell_type": "code",
   "execution_count": null,
   "id": "29188f04-6b6f-464d-88ca-93382d6edf54",
   "metadata": {
    "tags": []
   },
   "outputs": [],
   "source": [
    "open_data_df3.loc[open_data_df3.recent_combined_name.str.contains(\"Route 99X/Amtrak Thruway Route 3\")]"
   ]
  },
  {
   "cell_type": "code",
   "execution_count": null,
   "id": "c4e7a8fa-2295-4f6f-adfb-3a25319279b4",
   "metadata": {
    "tags": []
   },
   "outputs": [],
   "source": [
    "open_data_df2.District.unique()"
   ]
  },
  {
   "cell_type": "code",
   "execution_count": null,
   "id": "988bcdaf-15b6-436c-897f-e6e2c79ad26b",
   "metadata": {
    "tags": []
   },
   "outputs": [],
   "source": [
    "open_data_df2.loc[open_data_df2.recent_combined_name.str.contains(\"Route 99X/Amtrak Thruway Route 3\")]"
   ]
  },
  {
   "cell_type": "code",
   "execution_count": null,
   "id": "0bc7249b-c482-491f-abd2-29682bd63034",
   "metadata": {
    "tags": []
   },
   "outputs": [],
   "source": [
    "open_data_df2.loc[open_data_df2.recent_combined_name.str.contains(\"389\")]"
   ]
  },
  {
   "cell_type": "code",
   "execution_count": null,
   "id": "1ed451ed-565d-425d-a9da-5e65842887d2",
   "metadata": {
    "tags": []
   },
   "outputs": [],
   "source": [
    "transit_route_shs_gdf, transit_route_shs_table = (\n",
    "    _ct_district_data_prep.final_transit_route_shs_outputs(0, str(district_int))\n",
    ")\n",
    "# district_gdf = _ct_district_data_prep.load_ct_district(district_int)"
   ]
  },
  {
   "cell_type": "code",
   "execution_count": null,
   "id": "fa251c56-093e-41da-90af-b2a44be127e8",
   "metadata": {
    "tags": []
   },
   "outputs": [],
   "source": [
    "transit_route_shs_gdf.info()"
   ]
  },
  {
   "cell_type": "code",
   "execution_count": null,
   "id": "001fed80-eecc-4f9a-a525-2ac2a32cc218",
   "metadata": {
    "tags": []
   },
   "outputs": [],
   "source": [
    "transit_route_shs_table.loc[\n",
    "    transit_route_shs_table[\"Portfolio Organization Name\"]\n",
    "    == \"Redding Area Bus Authority\"\n",
    "].sort_values(by=[\"Route\"])"
   ]
  },
  {
   "cell_type": "code",
   "execution_count": null,
   "id": "8508192d-7b83-44a0-88df-3aeb6858f2cf",
   "metadata": {
    "tags": []
   },
   "outputs": [],
   "source": [
    "operator_route_gdf.loc[\n",
    "    operator_route_gdf.portfolio_organization_name == \"Redding Area Bus Authority\"\n",
    "].drop(columns=[\"geometry\"]).sort_values(\n",
    "    by=[\"service_date\", \"recent_combined_name\"], ascending=[False, True]\n",
    ").head(\n",
    "    20\n",
    ")"
   ]
  },
  {
   "cell_type": "markdown",
   "id": "acf49428-aab2-455c-8544-77daccc4473c",
   "metadata": {},
   "source": [
    "## Can't find Route 19 and Route 99X in the `_ct_district_data_prep.final_transit_route_shs_outputs` area"
   ]
  },
  {
   "cell_type": "code",
   "execution_count": null,
   "id": "c182668a-1342-4fa6-80d0-303bc459ac55",
   "metadata": {
    "tags": []
   },
   "outputs": [],
   "source": [
    "OPERATOR_ROUTE = GTFS_DATA_DICT.digest_tables.operator_routes_map\n",
    "\n",
    "subset = [\n",
    "    \"service_date\",\n",
    "    \"geometry\",\n",
    "    \"portfolio_organization_name\",\n",
    "    \"recent_combined_name\",\n",
    "    \"route_id\",\n",
    "]\n",
    "op_geography_df = gpd.read_parquet(\n",
    "    f\"{RT_SCHED_GCS}{OPERATOR_ROUTE}.parquet\",\n",
    "    storage_options={\"token\": credentials.token},\n",
    ")[subset]"
   ]
  },
  {
   "cell_type": "code",
   "execution_count": null,
   "id": "30df5ff9-7e90-4b6c-a328-463fa6afb2ca",
   "metadata": {
    "scrolled": true,
    "tags": []
   },
   "outputs": [],
   "source": [
    "op_geography_df.portfolio_organization_name.unique()"
   ]
  },
  {
   "cell_type": "code",
   "execution_count": null,
   "id": "1f9442be-eedd-4a96-8cd5-1383a546c9b4",
   "metadata": {},
   "outputs": [],
   "source": [
    "raba = op_geography_df.loc[\n",
    "    op_geography_df.portfolio_organization_name == \"Redding Area Bus Authority\"\n",
    "]"
   ]
  },
  {
   "cell_type": "markdown",
   "id": "9d0bee10-4daf-429e-b4de-44effd66adca",
   "metadata": {},
   "source": [
    "### Route 19 is missing but Route 99x is here."
   ]
  },
  {
   "cell_type": "code",
   "execution_count": null,
   "id": "149032aa-46b9-4ae9-8761-b049deb9a506",
   "metadata": {
    "tags": []
   },
   "outputs": [],
   "source": [
    "raba[[\"recent_combined_name\", \"route_id\", \"service_date\"]].sort_values(\n",
    "    by=[\"service_date\", \"recent_combined_name\"], ascending=[False, True]\n",
    ").drop_duplicates(subset=[\"recent_combined_name\"])"
   ]
  },
  {
   "cell_type": "code",
   "execution_count": null,
   "id": "781bd450-3819-4d10-a669-481458d18066",
   "metadata": {
    "tags": []
   },
   "outputs": [],
   "source": [
    "processed_transit_routes = _transit_routes_on_shn.process_transit_routes()"
   ]
  },
  {
   "cell_type": "code",
   "execution_count": null,
   "id": "109fa38c-82f5-42fe-b476-bdf71be4b39e",
   "metadata": {
    "tags": []
   },
   "outputs": [],
   "source": [
    "processed_transit_routes.columns"
   ]
  },
  {
   "cell_type": "code",
   "execution_count": null,
   "id": "d7cfbb28-01fa-4695-bc0f-35f5dec61413",
   "metadata": {
    "tags": []
   },
   "outputs": [],
   "source": [
    "raba_only = processed_transit_routes.loc[\n",
    "    processed_transit_routes.portfolio_organization_name == \"Redding Area Bus Authority\"\n",
    "]"
   ]
  },
  {
   "cell_type": "code",
   "execution_count": null,
   "id": "5e81a589-8872-409a-9f81-947bf8d1cdf1",
   "metadata": {
    "tags": []
   },
   "outputs": [],
   "source": [
    "raba_only.sort_values(\n",
    "    by=[\"service_date\", \"recent_combined_name\"], ascending=[False, True]\n",
    ").drop(columns = [\"geometry\"])"
   ]
  },
  {
   "cell_type": "code",
   "execution_count": null,
   "id": "4bdc949b-4d0d-41ca-9599-cc8674d7adac",
   "metadata": {
    "tags": []
   },
   "outputs": [],
   "source": [
    "shn_raba = _transit_routes_on_shn.routes_shn_intersection(50,\"ct_district_route\")"
   ]
  },
  {
   "cell_type": "code",
   "execution_count": null,
   "id": "01adaa88-af18-46f8-8450-ff8fe24913fe",
   "metadata": {
    "tags": []
   },
   "outputs": [],
   "source": [
    "shn_raba  = shn_raba.loc[\n",
    "    shn_raba.portfolio_organization_name == \"Redding Area Bus Authority\"\n",
    "]"
   ]
  },
  {
   "cell_type": "code",
   "execution_count": null,
   "id": "b82538b9-1925-4009-be76-0a6d5cbd8146",
   "metadata": {
    "tags": []
   },
   "outputs": [],
   "source": [
    "shn_raba.columns"
   ]
  },
  {
   "cell_type": "code",
   "execution_count": null,
   "id": "3955eac2-93f5-4555-bc22-8583f11af02c",
   "metadata": {
    "tags": []
   },
   "outputs": [],
   "source": [
    "shn_raba.shape"
   ]
  },
  {
   "cell_type": "code",
   "execution_count": null,
   "id": "f539de0e-654d-4b50-94e8-c49b6a8bd172",
   "metadata": {
    "tags": []
   },
   "outputs": [],
   "source": [
    "route_99 = shn_raba.loc[shn_raba.recent_combined_name.str.contains(\"Route 99X/Amtrak Thruway Route 3\")]"
   ]
  },
  {
   "cell_type": "code",
   "execution_count": null,
   "id": "aff1d455-042e-42a3-b53d-8ceebaebfee3",
   "metadata": {
    "tags": []
   },
   "outputs": [],
   "source": [
    "route_99 = route_99.rename(columns={\"pct_route_on_hwy\": \"pct_route_on_hwy_across_districts\"})"
   ]
  },
  {
   "cell_type": "code",
   "execution_count": null,
   "id": "f797bc6c-9f29-4ca5-98ae-d4e32f504f21",
   "metadata": {
    "tags": []
   },
   "outputs": [],
   "source": [
    "def group_route_district(df: pd.DataFrame, pct_route_on_hwy_agg: str) -> pd.DataFrame:\n",
    "\n",
    "    # Aggregate by adding all the districts and SHN to a single row, rather than\n",
    "    # multiple and sum up the total % of SHN a transit route intersects with\n",
    "    agg1 = (\n",
    "        df.groupby(\n",
    "            [\n",
    "                \"portfolio_organization_name\",\n",
    "                \"recent_combined_name\",\n",
    "            ],\n",
    "            as_index=False,\n",
    "        )[[\"shn_route\", \"district\", \"pct_route_on_hwy_across_districts\"]]\n",
    "        .agg(\n",
    "            {\n",
    "                \"shn_route\": lambda x: \", \".join(set(x.astype(str))),\n",
    "                \"district\": lambda x: \", \".join(set(x.astype(str))),\n",
    "                \"pct_route_on_hwy_across_districts\": pct_route_on_hwy_agg,\n",
    "            }\n",
    "        )\n",
    "        .reset_index(drop=True)\n",
    "    )\n",
    "\n",
    "    # Clean up\n",
    "    agg1.pct_route_on_hwy_across_districts = (\n",
    "        agg1.pct_route_on_hwy_across_districts.astype(float).round(2)\n",
    "    )\n",
    "    return agg1"
   ]
  },
  {
   "cell_type": "code",
   "execution_count": null,
   "id": "3de20bba-454d-4e9b-ab9b-f2826dde0fbf",
   "metadata": {
    "tags": []
   },
   "outputs": [],
   "source": [
    "agg1 = group_route_district(route_99, \"sum\")"
   ]
  },
  {
   "cell_type": "code",
   "execution_count": null,
   "id": "f97b70de-42f4-42d9-be97-c0607d70162a",
   "metadata": {
    "tags": []
   },
   "outputs": [],
   "source": [
    "agg1\n"
   ]
  },
  {
   "cell_type": "code",
   "execution_count": null,
   "id": "ada860e7-aae7-4819-a576-139cc7205251",
   "metadata": {
    "tags": []
   },
   "outputs": [],
   "source": [
    "agg1.loc[\n",
    "        agg1.district.astype(str).str.contains(str(district_int))\n",
    "    ]"
   ]
  },
  {
   "cell_type": "code",
   "execution_count": null,
   "id": "03cc166a-fc2b-488e-a674-f599542da46a",
   "metadata": {
    "tags": []
   },
   "outputs": [],
   "source": [
    "open_data_portal_df = _transit_routes_on_shn.prep_open_data_portal(raba_only)"
   ]
  }
 ],
 "metadata": {
  "kernelspec": {
   "display_name": "Python 3 (ipykernel)",
   "language": "python",
   "name": "python3"
  },
  "language_info": {
   "codemirror_mode": {
    "name": "ipython",
    "version": 3
   },
   "file_extension": ".py",
   "mimetype": "text/x-python",
   "name": "python",
   "nbconvert_exporter": "python",
   "pygments_lexer": "ipython3",
   "version": "3.11.10"
  }
 },
 "nbformat": 4,
 "nbformat_minor": 5
}
