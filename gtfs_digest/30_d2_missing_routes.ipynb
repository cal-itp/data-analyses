{
 "cells": [
  {
   "cell_type": "markdown",
   "id": "cb9f61c1-e812-4e3f-a318-c9654d35e45e",
   "metadata": {},
   "source": [
    "## D2 missing some routes [PR](https://github.com/cal-itp/data-analyses/issues/1582)"
   ]
  },
  {
   "cell_type": "code",
   "execution_count": 1,
   "id": "0a24fb0c-0020-4040-b7ca-606fd58a3d4c",
   "metadata": {
    "tags": []
   },
   "outputs": [],
   "source": [
    "import _ct_district_data_prep\n",
    "import _transit_routes_on_shn\n",
    "# import _ct_district_visuals\n",
    "import _report_utils\n",
    "import calitp_data_analysis.magics\n",
    "import geopandas as gpd\n",
    "import pandas as pd\n",
    "from IPython.display import HTML, Image, Markdown, display, display_html\n",
    "from update_vars import GTFS_DATA_DICT, RT_SCHED_GCS"
   ]
  },
  {
   "cell_type": "code",
   "execution_count": 2,
   "id": "650dcefd-56d6-4106-b0f7-5415f28bb3aa",
   "metadata": {
    "tags": []
   },
   "outputs": [],
   "source": [
    "import google.auth\n",
    "\n",
    "credentials, project = google.auth.default()\n",
    "import gcsfs\n",
    "\n",
    "fs = gcsfs.GCSFileSystem()"
   ]
  },
  {
   "cell_type": "code",
   "execution_count": 3,
   "id": "eefac834-2244-4cf0-8f27-0a8b9f75ff93",
   "metadata": {
    "tags": []
   },
   "outputs": [],
   "source": [
    "district = \"02 - Redding\""
   ]
  },
  {
   "cell_type": "code",
   "execution_count": 4,
   "id": "a82086bc-01ae-4601-9a0d-ba19fb281332",
   "metadata": {
    "tags": []
   },
   "outputs": [],
   "source": [
    "district_int = [int(s) for s in district.split() if s.isdigit()][0]"
   ]
  },
  {
   "cell_type": "code",
   "execution_count": 5,
   "id": "db1296fc-7b8e-4138-af4f-288f207abf02",
   "metadata": {
    "tags": []
   },
   "outputs": [],
   "source": [
    "# Load Datasets\n",
    "operator_df = _ct_district_data_prep.data_wrangling_operator_profile(district)"
   ]
  },
  {
   "cell_type": "code",
   "execution_count": 6,
   "id": "632a71eb-f9df-49bd-b163-6764f2fd790d",
   "metadata": {
    "tags": []
   },
   "outputs": [],
   "source": [
    "portfolio_organization_names = list(operator_df.portfolio_organization_name.unique())"
   ]
  },
  {
   "cell_type": "code",
   "execution_count": 7,
   "id": "26619148-bf66-483c-a676-4d5fe6fecd64",
   "metadata": {
    "tags": []
   },
   "outputs": [
    {
     "data": {
      "text/plain": [
       "['Modoc Transportation Agency',\n",
       " 'Siskiyou County',\n",
       " 'Redding Area Bus Authority',\n",
       " 'Tehama County',\n",
       " 'Trinity County',\n",
       " 'Plumas Transit Systems',\n",
       " 'Lassen Transit Service Agency']"
      ]
     },
     "execution_count": 7,
     "metadata": {},
     "output_type": "execute_result"
    }
   ],
   "source": [
    "portfolio_organization_names"
   ]
  },
  {
   "cell_type": "code",
   "execution_count": 8,
   "id": "21d929f1-c9e8-4621-b437-676cf0f15a54",
   "metadata": {
    "tags": []
   },
   "outputs": [],
   "source": [
    "OPERATOR_ROUTE = GTFS_DATA_DICT.digest_tables.operator_routes_map"
   ]
  },
  {
   "cell_type": "code",
   "execution_count": 9,
   "id": "1c0b10b9-6f31-43a3-a630-7acd76eafe6e",
   "metadata": {
    "tags": []
   },
   "outputs": [],
   "source": [
    "operator_route_gdf = gpd.read_parquet(\n",
    "    f\"{RT_SCHED_GCS}{OPERATOR_ROUTE}.parquet\",\n",
    "    storage_options={\"token\": credentials.token},\n",
    ")[[\"portfolio_organization_name\", \"service_date\", \"recent_combined_name\", \"geometry\"]]\n",
    "\n",
    "operator_route_gdf = operator_route_gdf.loc[\n",
    "    operator_route_gdf.portfolio_organization_name.isin(portfolio_organization_names)\n",
    "]"
   ]
  },
  {
   "cell_type": "code",
   "execution_count": 10,
   "id": "f5034e4c-2c07-4128-8f00-076b7f930b85",
   "metadata": {},
   "outputs": [],
   "source": [
    "GCS_FILE_PATH = \"gs://calitp-analytics-data/data-analyses/state_highway_network/\""
   ]
  },
  {
   "cell_type": "code",
   "execution_count": 11,
   "id": "2db2812d-426b-45aa-9e5a-f48f029f1d56",
   "metadata": {
    "tags": []
   },
   "outputs": [],
   "source": [
    "# Save everything out for now\n",
    "intersection_gdf = gpd.read_parquet(\n",
    "        f\"{GCS_FILE_PATH}transit_route_intersect_shn_50_gtfs_digest.parquet\",\n",
    "        storage_options={\"token\": credentials.token},\n",
    "    )\n",
    "    "
   ]
  },
  {
   "cell_type": "code",
   "execution_count": 12,
   "id": "9eb12a35-72e4-4fd8-b66e-5fab94ca7a9d",
   "metadata": {
    "tags": []
   },
   "outputs": [],
   "source": [
    "open_data_portal_df = pd.read_parquet(\n",
    "        f\"{GCS_FILE_PATH}transit_route_shn_open_data_portal_50.parquet\",\n",
    "        storage_options={\"token\": credentials.token},\n",
    "    )"
   ]
  },
  {
   "cell_type": "code",
   "execution_count": 13,
   "id": "6c9e0d81-2617-4c86-9e7f-2bcae6c7d49f",
   "metadata": {
    "tags": []
   },
   "outputs": [
    {
     "data": {
      "text/html": [
       "<div>\n",
       "<style scoped>\n",
       "    .dataframe tbody tr th:only-of-type {\n",
       "        vertical-align: middle;\n",
       "    }\n",
       "\n",
       "    .dataframe tbody tr th {\n",
       "        vertical-align: top;\n",
       "    }\n",
       "\n",
       "    .dataframe thead th {\n",
       "        text-align: right;\n",
       "    }\n",
       "</style>\n",
       "<table border=\"1\" class=\"dataframe\">\n",
       "  <thead>\n",
       "    <tr style=\"text-align: right;\">\n",
       "      <th></th>\n",
       "      <th>portfolio_organization_name</th>\n",
       "      <th>recent_combined_name</th>\n",
       "      <th>shn_route</th>\n",
       "      <th>District</th>\n",
       "      <th>pct_route_on_hwy_across_districts</th>\n",
       "      <th>on_shs</th>\n",
       "    </tr>\n",
       "  </thead>\n",
       "  <tbody>\n",
       "    <tr>\n",
       "      <th>0</th>\n",
       "      <td>Alameda-Contra Costa Transit District</td>\n",
       "      <td>10 E. 14th St. - Mission</td>\n",
       "      <td>185, 112, 238</td>\n",
       "      <td>4</td>\n",
       "      <td>39.0</td>\n",
       "      <td>Y</td>\n",
       "    </tr>\n",
       "  </tbody>\n",
       "</table>\n",
       "</div>"
      ],
      "text/plain": [
       "             portfolio_organization_name      recent_combined_name  \\\n",
       "0  Alameda-Contra Costa Transit District  10 E. 14th St. - Mission   \n",
       "\n",
       "       shn_route District  pct_route_on_hwy_across_districts on_shs  \n",
       "0  185, 112, 238        4                               39.0      Y  "
      ]
     },
     "execution_count": 13,
     "metadata": {},
     "output_type": "execute_result"
    }
   ],
   "source": [
    "open_data_portal_df.head(1)"
   ]
  },
  {
   "cell_type": "code",
   "execution_count": 14,
   "id": "89cc52ca-20d3-42e9-a6de-78d83cc0b50e",
   "metadata": {},
   "outputs": [
    {
     "data": {
      "text/html": [
       "<div>\n",
       "<style scoped>\n",
       "    .dataframe tbody tr th:only-of-type {\n",
       "        vertical-align: middle;\n",
       "    }\n",
       "\n",
       "    .dataframe tbody tr th {\n",
       "        vertical-align: top;\n",
       "    }\n",
       "\n",
       "    .dataframe thead th {\n",
       "        text-align: right;\n",
       "    }\n",
       "</style>\n",
       "<table border=\"1\" class=\"dataframe\">\n",
       "  <thead>\n",
       "    <tr style=\"text-align: right;\">\n",
       "      <th></th>\n",
       "      <th>portfolio_organization_name</th>\n",
       "      <th>recent_combined_name</th>\n",
       "      <th>shn_route</th>\n",
       "      <th>District</th>\n",
       "      <th>pct_route_on_hwy_across_districts</th>\n",
       "      <th>on_shs</th>\n",
       "    </tr>\n",
       "  </thead>\n",
       "  <tbody>\n",
       "    <tr>\n",
       "      <th>1742</th>\n",
       "      <td>Redding Area Bus Authority</td>\n",
       "      <td>Route 99X/Amtrak Thruway Route 3</td>\n",
       "      <td>32, 273, 5, 99, 36, 44</td>\n",
       "      <td>2, 3</td>\n",
       "      <td>97.8</td>\n",
       "      <td>Y</td>\n",
       "    </tr>\n",
       "  </tbody>\n",
       "</table>\n",
       "</div>"
      ],
      "text/plain": [
       "     portfolio_organization_name              recent_combined_name  \\\n",
       "1742  Redding Area Bus Authority  Route 99X/Amtrak Thruway Route 3   \n",
       "\n",
       "                   shn_route District  pct_route_on_hwy_across_districts  \\\n",
       "1742  32, 273, 5, 99, 36, 44     2, 3                               97.8   \n",
       "\n",
       "     on_shs  \n",
       "1742      Y  "
      ]
     },
     "execution_count": 14,
     "metadata": {},
     "output_type": "execute_result"
    }
   ],
   "source": [
    "open_data_portal_df.loc[open_data_portal_df.recent_combined_name.str.contains(\"Route 99X/Amtrak Thruway Route 3\")]"
   ]
  },
  {
   "cell_type": "code",
   "execution_count": 15,
   "id": "5e17b89d-55b0-43ea-9988-855afbcb61be",
   "metadata": {
    "tags": []
   },
   "outputs": [],
   "source": [
    "open_data_df2 = open_data_portal_df.loc[\n",
    "        (open_data_portal_df.pct_route_on_hwy_across_districts > 0)\n",
    "        & (open_data_portal_df.District.str.contains(str(district_int)))\n",
    "    ]"
   ]
  },
  {
   "cell_type": "code",
   "execution_count": 16,
   "id": "7b55998e-762c-46e6-afca-c0968954a81f",
   "metadata": {
    "tags": []
   },
   "outputs": [],
   "source": [
    "open_data_df3 = open_data_df2[open_data_df2['District'].apply(lambda x: str(district_int) in x.split(', '))]"
   ]
  },
  {
   "cell_type": "code",
   "execution_count": 17,
   "id": "44c6ace6-7ce7-4513-bb17-d6d9b4d1f65c",
   "metadata": {
    "tags": []
   },
   "outputs": [
    {
     "data": {
      "text/plain": [
       "array(['3, 5, 2, 4, 7', '2, 3', '2', '2, 1'], dtype=object)"
      ]
     },
     "execution_count": 17,
     "metadata": {},
     "output_type": "execute_result"
    }
   ],
   "source": [
    "open_data_df3.District.unique()"
   ]
  },
  {
   "cell_type": "code",
   "execution_count": 18,
   "id": "29188f04-6b6f-464d-88ca-93382d6edf54",
   "metadata": {
    "tags": []
   },
   "outputs": [
    {
     "data": {
      "text/html": [
       "<div>\n",
       "<style scoped>\n",
       "    .dataframe tbody tr th:only-of-type {\n",
       "        vertical-align: middle;\n",
       "    }\n",
       "\n",
       "    .dataframe tbody tr th {\n",
       "        vertical-align: top;\n",
       "    }\n",
       "\n",
       "    .dataframe thead th {\n",
       "        text-align: right;\n",
       "    }\n",
       "</style>\n",
       "<table border=\"1\" class=\"dataframe\">\n",
       "  <thead>\n",
       "    <tr style=\"text-align: right;\">\n",
       "      <th></th>\n",
       "      <th>portfolio_organization_name</th>\n",
       "      <th>recent_combined_name</th>\n",
       "      <th>shn_route</th>\n",
       "      <th>District</th>\n",
       "      <th>pct_route_on_hwy_across_districts</th>\n",
       "      <th>on_shs</th>\n",
       "    </tr>\n",
       "  </thead>\n",
       "  <tbody>\n",
       "    <tr>\n",
       "      <th>1742</th>\n",
       "      <td>Redding Area Bus Authority</td>\n",
       "      <td>Route 99X/Amtrak Thruway Route 3</td>\n",
       "      <td>32, 273, 5, 99, 36, 44</td>\n",
       "      <td>2, 3</td>\n",
       "      <td>97.8</td>\n",
       "      <td>Y</td>\n",
       "    </tr>\n",
       "  </tbody>\n",
       "</table>\n",
       "</div>"
      ],
      "text/plain": [
       "     portfolio_organization_name              recent_combined_name  \\\n",
       "1742  Redding Area Bus Authority  Route 99X/Amtrak Thruway Route 3   \n",
       "\n",
       "                   shn_route District  pct_route_on_hwy_across_districts  \\\n",
       "1742  32, 273, 5, 99, 36, 44     2, 3                               97.8   \n",
       "\n",
       "     on_shs  \n",
       "1742      Y  "
      ]
     },
     "execution_count": 18,
     "metadata": {},
     "output_type": "execute_result"
    }
   ],
   "source": [
    "open_data_df3.loc[open_data_df3.recent_combined_name.str.contains(\"Route 99X/Amtrak Thruway Route 3\")]"
   ]
  },
  {
   "cell_type": "code",
   "execution_count": 19,
   "id": "c4e7a8fa-2295-4f6f-adfb-3a25319279b4",
   "metadata": {
    "tags": []
   },
   "outputs": [
    {
     "data": {
      "text/plain": [
       "array(['3, 5, 2, 4, 7', '12', '12, 7', '6, 12, 11, 7', '11, 12, 7',\n",
       "       '12, 6, 11, 4, 7, 10', '2, 3', '12, 3, 6, 11, 7, 10', '12, 8, 7',\n",
       "       '2', '12, 8', '2, 1'], dtype=object)"
      ]
     },
     "execution_count": 19,
     "metadata": {},
     "output_type": "execute_result"
    }
   ],
   "source": [
    "open_data_df2.District.unique()"
   ]
  },
  {
   "cell_type": "code",
   "execution_count": 20,
   "id": "988bcdaf-15b6-436c-897f-e6e2c79ad26b",
   "metadata": {
    "tags": []
   },
   "outputs": [
    {
     "data": {
      "text/html": [
       "<div>\n",
       "<style scoped>\n",
       "    .dataframe tbody tr th:only-of-type {\n",
       "        vertical-align: middle;\n",
       "    }\n",
       "\n",
       "    .dataframe tbody tr th {\n",
       "        vertical-align: top;\n",
       "    }\n",
       "\n",
       "    .dataframe thead th {\n",
       "        text-align: right;\n",
       "    }\n",
       "</style>\n",
       "<table border=\"1\" class=\"dataframe\">\n",
       "  <thead>\n",
       "    <tr style=\"text-align: right;\">\n",
       "      <th></th>\n",
       "      <th>portfolio_organization_name</th>\n",
       "      <th>recent_combined_name</th>\n",
       "      <th>shn_route</th>\n",
       "      <th>District</th>\n",
       "      <th>pct_route_on_hwy_across_districts</th>\n",
       "      <th>on_shs</th>\n",
       "    </tr>\n",
       "  </thead>\n",
       "  <tbody>\n",
       "    <tr>\n",
       "      <th>1742</th>\n",
       "      <td>Redding Area Bus Authority</td>\n",
       "      <td>Route 99X/Amtrak Thruway Route 3</td>\n",
       "      <td>32, 273, 5, 99, 36, 44</td>\n",
       "      <td>2, 3</td>\n",
       "      <td>97.8</td>\n",
       "      <td>Y</td>\n",
       "    </tr>\n",
       "  </tbody>\n",
       "</table>\n",
       "</div>"
      ],
      "text/plain": [
       "     portfolio_organization_name              recent_combined_name  \\\n",
       "1742  Redding Area Bus Authority  Route 99X/Amtrak Thruway Route 3   \n",
       "\n",
       "                   shn_route District  pct_route_on_hwy_across_districts  \\\n",
       "1742  32, 273, 5, 99, 36, 44     2, 3                               97.8   \n",
       "\n",
       "     on_shs  \n",
       "1742      Y  "
      ]
     },
     "execution_count": 20,
     "metadata": {},
     "output_type": "execute_result"
    }
   ],
   "source": [
    "open_data_df2.loc[open_data_df2.recent_combined_name.str.contains(\"Route 99X/Amtrak Thruway Route 3\")]"
   ]
  },
  {
   "cell_type": "code",
   "execution_count": 21,
   "id": "1ed451ed-565d-425d-a9da-5e65842887d2",
   "metadata": {
    "tags": []
   },
   "outputs": [],
   "source": [
    "transit_route_shs_gdf, transit_route_shs_table = (\n",
    "    _ct_district_data_prep.final_transit_route_shs_outputs(0, str(district_int))\n",
    ")\n",
    "# district_gdf = _ct_district_data_prep.load_ct_district(district_int)"
   ]
  },
  {
   "cell_type": "code",
   "execution_count": 24,
   "id": "fa251c56-093e-41da-90af-b2a44be127e8",
   "metadata": {
    "tags": []
   },
   "outputs": [
    {
     "name": "stdout",
     "output_type": "stream",
     "text": [
      "<class 'geopandas.geodataframe.GeoDataFrame'>\n",
      "Int64Index: 41 entries, 0 to 40\n",
      "Data columns (total 6 columns):\n",
      " #   Column                                                   Non-Null Count  Dtype   \n",
      "---  ------                                                   --------------  -----   \n",
      " 0   Portfolio Organization Name                              41 non-null     object  \n",
      " 1   Route                                                    41 non-null     object  \n",
      " 2   geometry                                                 41 non-null     geometry\n",
      " 3   State Highway Network Route                              41 non-null     object  \n",
      " 4   District                                                 41 non-null     object  \n",
      " 5   Percentage of Transit Route on SHN Across All Districts  41 non-null     float64 \n",
      "dtypes: float64(1), geometry(1), object(4)\n",
      "memory usage: 2.2+ KB\n"
     ]
    }
   ],
   "source": [
    "transit_route_shs_gdf.info()"
   ]
  },
  {
   "cell_type": "code",
   "execution_count": 22,
   "id": "001fed80-eecc-4f9a-a525-2ac2a32cc218",
   "metadata": {
    "tags": []
   },
   "outputs": [
    {
     "data": {
      "text/html": [
       "<div>\n",
       "<style scoped>\n",
       "    .dataframe tbody tr th:only-of-type {\n",
       "        vertical-align: middle;\n",
       "    }\n",
       "\n",
       "    .dataframe tbody tr th {\n",
       "        vertical-align: top;\n",
       "    }\n",
       "\n",
       "    .dataframe thead th {\n",
       "        text-align: right;\n",
       "    }\n",
       "</style>\n",
       "<table border=\"1\" class=\"dataframe\">\n",
       "  <thead>\n",
       "    <tr style=\"text-align: right;\">\n",
       "      <th></th>\n",
       "      <th>Portfolio Organization Name</th>\n",
       "      <th>Route</th>\n",
       "      <th>State Highway Network Routes in District 2</th>\n",
       "      <th>Percentage of Transit Route on SHN Across All Districts</th>\n",
       "    </tr>\n",
       "  </thead>\n",
       "  <tbody>\n",
       "    <tr>\n",
       "      <th>11</th>\n",
       "      <td>Redding Area Bus Authority</td>\n",
       "      <td>Churn Creek/Knightson/Airport</td>\n",
       "      <td>44, 5, 273</td>\n",
       "      <td>44.4</td>\n",
       "    </tr>\n",
       "    <tr>\n",
       "      <th>12</th>\n",
       "      <td>Redding Area Bus Authority</td>\n",
       "      <td>Route 1</td>\n",
       "      <td>299, 5, 151, 273</td>\n",
       "      <td>41.2</td>\n",
       "    </tr>\n",
       "    <tr>\n",
       "      <th>13</th>\n",
       "      <td>Redding Area Bus Authority</td>\n",
       "      <td>Route 11</td>\n",
       "      <td>44, 299, 5, 273</td>\n",
       "      <td>21.5</td>\n",
       "    </tr>\n",
       "    <tr>\n",
       "      <th>14</th>\n",
       "      <td>Redding Area Bus Authority</td>\n",
       "      <td>Route 14</td>\n",
       "      <td>44, 299, 5, 273</td>\n",
       "      <td>16.4</td>\n",
       "    </tr>\n",
       "    <tr>\n",
       "      <th>15</th>\n",
       "      <td>Redding Area Bus Authority</td>\n",
       "      <td>Route 299X</td>\n",
       "      <td>5, 299, 89, 44, 273</td>\n",
       "      <td>97.2</td>\n",
       "    </tr>\n",
       "    <tr>\n",
       "      <th>16</th>\n",
       "      <td>Redding Area Bus Authority</td>\n",
       "      <td>Route 3</td>\n",
       "      <td>273</td>\n",
       "      <td>17.6</td>\n",
       "    </tr>\n",
       "    <tr>\n",
       "      <th>17</th>\n",
       "      <td>Redding Area Bus Authority</td>\n",
       "      <td>Route 4</td>\n",
       "      <td>44, 5, 273</td>\n",
       "      <td>5.7</td>\n",
       "    </tr>\n",
       "    <tr>\n",
       "      <th>18</th>\n",
       "      <td>Redding Area Bus Authority</td>\n",
       "      <td>Route 7</td>\n",
       "      <td>299, 5, 273</td>\n",
       "      <td>55.2</td>\n",
       "    </tr>\n",
       "    <tr>\n",
       "      <th>19</th>\n",
       "      <td>Redding Area Bus Authority</td>\n",
       "      <td>Route 9</td>\n",
       "      <td>44, 5, 273</td>\n",
       "      <td>55.6</td>\n",
       "    </tr>\n",
       "    <tr>\n",
       "      <th>20</th>\n",
       "      <td>Redding Area Bus Authority</td>\n",
       "      <td>Route 99X/Amtrak Thruway Route 3</td>\n",
       "      <td>99, 5, 44, 36, 273</td>\n",
       "      <td>97.8</td>\n",
       "    </tr>\n",
       "    <tr>\n",
       "      <th>21</th>\n",
       "      <td>Redding Area Bus Authority</td>\n",
       "      <td>Shasta View/Shasta College</td>\n",
       "      <td>44, 299, 5, 273</td>\n",
       "      <td>37.0</td>\n",
       "    </tr>\n",
       "    <tr>\n",
       "      <th>22</th>\n",
       "      <td>Redding Area Bus Authority</td>\n",
       "      <td>Shingletown Flex</td>\n",
       "      <td>44, 299, 5, 273</td>\n",
       "      <td>60.6</td>\n",
       "    </tr>\n",
       "  </tbody>\n",
       "</table>\n",
       "</div>"
      ],
      "text/plain": [
       "   Portfolio Organization Name                             Route  \\\n",
       "11  Redding Area Bus Authority     Churn Creek/Knightson/Airport   \n",
       "12  Redding Area Bus Authority                           Route 1   \n",
       "13  Redding Area Bus Authority                          Route 11   \n",
       "14  Redding Area Bus Authority                          Route 14   \n",
       "15  Redding Area Bus Authority                        Route 299X   \n",
       "16  Redding Area Bus Authority                           Route 3   \n",
       "17  Redding Area Bus Authority                           Route 4   \n",
       "18  Redding Area Bus Authority                           Route 7   \n",
       "19  Redding Area Bus Authority                           Route 9   \n",
       "20  Redding Area Bus Authority  Route 99X/Amtrak Thruway Route 3   \n",
       "21  Redding Area Bus Authority        Shasta View/Shasta College   \n",
       "22  Redding Area Bus Authority                  Shingletown Flex   \n",
       "\n",
       "   State Highway Network Routes in District 2  \\\n",
       "11                                 44, 5, 273   \n",
       "12                           299, 5, 151, 273   \n",
       "13                            44, 299, 5, 273   \n",
       "14                            44, 299, 5, 273   \n",
       "15                        5, 299, 89, 44, 273   \n",
       "16                                        273   \n",
       "17                                 44, 5, 273   \n",
       "18                                299, 5, 273   \n",
       "19                                 44, 5, 273   \n",
       "20                         99, 5, 44, 36, 273   \n",
       "21                            44, 299, 5, 273   \n",
       "22                            44, 299, 5, 273   \n",
       "\n",
       "    Percentage of Transit Route on SHN Across All Districts  \n",
       "11                                               44.4        \n",
       "12                                               41.2        \n",
       "13                                               21.5        \n",
       "14                                               16.4        \n",
       "15                                               97.2        \n",
       "16                                               17.6        \n",
       "17                                                5.7        \n",
       "18                                               55.2        \n",
       "19                                               55.6        \n",
       "20                                               97.8        \n",
       "21                                               37.0        \n",
       "22                                               60.6        "
      ]
     },
     "execution_count": 22,
     "metadata": {},
     "output_type": "execute_result"
    }
   ],
   "source": [
    "transit_route_shs_table.loc[\n",
    "    transit_route_shs_table[\"Portfolio Organization Name\"]\n",
    "    == \"Redding Area Bus Authority\"\n",
    "].sort_values(by=[\"Route\"])"
   ]
  },
  {
   "cell_type": "code",
   "execution_count": 23,
   "id": "8508192d-7b83-44a0-88df-3aeb6858f2cf",
   "metadata": {
    "tags": []
   },
   "outputs": [
    {
     "data": {
      "text/html": [
       "<div>\n",
       "<style scoped>\n",
       "    .dataframe tbody tr th:only-of-type {\n",
       "        vertical-align: middle;\n",
       "    }\n",
       "\n",
       "    .dataframe tbody tr th {\n",
       "        vertical-align: top;\n",
       "    }\n",
       "\n",
       "    .dataframe thead th {\n",
       "        text-align: right;\n",
       "    }\n",
       "</style>\n",
       "<table border=\"1\" class=\"dataframe\">\n",
       "  <thead>\n",
       "    <tr style=\"text-align: right;\">\n",
       "      <th></th>\n",
       "      <th>portfolio_organization_name</th>\n",
       "      <th>service_date</th>\n",
       "      <th>recent_combined_name</th>\n",
       "    </tr>\n",
       "  </thead>\n",
       "  <tbody>\n",
       "    <tr>\n",
       "      <th>64919</th>\n",
       "      <td>Redding Area Bus Authority</td>\n",
       "      <td>2025-06-11</td>\n",
       "      <td>Churn Creek/Knightson/Airport</td>\n",
       "    </tr>\n",
       "    <tr>\n",
       "      <th>64920</th>\n",
       "      <td>Redding Area Bus Authority</td>\n",
       "      <td>2025-06-11</td>\n",
       "      <td>Route 1</td>\n",
       "    </tr>\n",
       "    <tr>\n",
       "      <th>64924</th>\n",
       "      <td>Redding Area Bus Authority</td>\n",
       "      <td>2025-06-11</td>\n",
       "      <td>Route 11</td>\n",
       "    </tr>\n",
       "    <tr>\n",
       "      <th>64925</th>\n",
       "      <td>Redding Area Bus Authority</td>\n",
       "      <td>2025-06-11</td>\n",
       "      <td>Route 14</td>\n",
       "    </tr>\n",
       "    <tr>\n",
       "      <th>64926</th>\n",
       "      <td>Redding Area Bus Authority</td>\n",
       "      <td>2025-06-11</td>\n",
       "      <td>Route 299X</td>\n",
       "    </tr>\n",
       "    <tr>\n",
       "      <th>64921</th>\n",
       "      <td>Redding Area Bus Authority</td>\n",
       "      <td>2025-06-11</td>\n",
       "      <td>Route 3</td>\n",
       "    </tr>\n",
       "    <tr>\n",
       "      <th>64922</th>\n",
       "      <td>Redding Area Bus Authority</td>\n",
       "      <td>2025-06-11</td>\n",
       "      <td>Route 4</td>\n",
       "    </tr>\n",
       "    <tr>\n",
       "      <th>64923</th>\n",
       "      <td>Redding Area Bus Authority</td>\n",
       "      <td>2025-06-11</td>\n",
       "      <td>Route 7</td>\n",
       "    </tr>\n",
       "    <tr>\n",
       "      <th>64930</th>\n",
       "      <td>Redding Area Bus Authority</td>\n",
       "      <td>2025-06-11</td>\n",
       "      <td>Route 9</td>\n",
       "    </tr>\n",
       "    <tr>\n",
       "      <th>64928</th>\n",
       "      <td>Redding Area Bus Authority</td>\n",
       "      <td>2025-06-11</td>\n",
       "      <td>Route 99X/Amtrak Thruway Route 3</td>\n",
       "    </tr>\n",
       "    <tr>\n",
       "      <th>64927</th>\n",
       "      <td>Redding Area Bus Authority</td>\n",
       "      <td>2025-06-11</td>\n",
       "      <td>Shasta View/Shasta College</td>\n",
       "    </tr>\n",
       "    <tr>\n",
       "      <th>64929</th>\n",
       "      <td>Redding Area Bus Authority</td>\n",
       "      <td>2025-06-11</td>\n",
       "      <td>Shingletown Flex</td>\n",
       "    </tr>\n",
       "    <tr>\n",
       "      <th>64907</th>\n",
       "      <td>Redding Area Bus Authority</td>\n",
       "      <td>2025-05-14</td>\n",
       "      <td>Churn Creek/Knightson/Airport</td>\n",
       "    </tr>\n",
       "    <tr>\n",
       "      <th>64908</th>\n",
       "      <td>Redding Area Bus Authority</td>\n",
       "      <td>2025-05-14</td>\n",
       "      <td>Route 1</td>\n",
       "    </tr>\n",
       "    <tr>\n",
       "      <th>64912</th>\n",
       "      <td>Redding Area Bus Authority</td>\n",
       "      <td>2025-05-14</td>\n",
       "      <td>Route 11</td>\n",
       "    </tr>\n",
       "    <tr>\n",
       "      <th>64913</th>\n",
       "      <td>Redding Area Bus Authority</td>\n",
       "      <td>2025-05-14</td>\n",
       "      <td>Route 14</td>\n",
       "    </tr>\n",
       "    <tr>\n",
       "      <th>64914</th>\n",
       "      <td>Redding Area Bus Authority</td>\n",
       "      <td>2025-05-14</td>\n",
       "      <td>Route 299X</td>\n",
       "    </tr>\n",
       "    <tr>\n",
       "      <th>64909</th>\n",
       "      <td>Redding Area Bus Authority</td>\n",
       "      <td>2025-05-14</td>\n",
       "      <td>Route 3</td>\n",
       "    </tr>\n",
       "    <tr>\n",
       "      <th>64910</th>\n",
       "      <td>Redding Area Bus Authority</td>\n",
       "      <td>2025-05-14</td>\n",
       "      <td>Route 4</td>\n",
       "    </tr>\n",
       "    <tr>\n",
       "      <th>64911</th>\n",
       "      <td>Redding Area Bus Authority</td>\n",
       "      <td>2025-05-14</td>\n",
       "      <td>Route 7</td>\n",
       "    </tr>\n",
       "  </tbody>\n",
       "</table>\n",
       "</div>"
      ],
      "text/plain": [
       "      portfolio_organization_name service_date  \\\n",
       "64919  Redding Area Bus Authority   2025-06-11   \n",
       "64920  Redding Area Bus Authority   2025-06-11   \n",
       "64924  Redding Area Bus Authority   2025-06-11   \n",
       "64925  Redding Area Bus Authority   2025-06-11   \n",
       "64926  Redding Area Bus Authority   2025-06-11   \n",
       "64921  Redding Area Bus Authority   2025-06-11   \n",
       "64922  Redding Area Bus Authority   2025-06-11   \n",
       "64923  Redding Area Bus Authority   2025-06-11   \n",
       "64930  Redding Area Bus Authority   2025-06-11   \n",
       "64928  Redding Area Bus Authority   2025-06-11   \n",
       "64927  Redding Area Bus Authority   2025-06-11   \n",
       "64929  Redding Area Bus Authority   2025-06-11   \n",
       "64907  Redding Area Bus Authority   2025-05-14   \n",
       "64908  Redding Area Bus Authority   2025-05-14   \n",
       "64912  Redding Area Bus Authority   2025-05-14   \n",
       "64913  Redding Area Bus Authority   2025-05-14   \n",
       "64914  Redding Area Bus Authority   2025-05-14   \n",
       "64909  Redding Area Bus Authority   2025-05-14   \n",
       "64910  Redding Area Bus Authority   2025-05-14   \n",
       "64911  Redding Area Bus Authority   2025-05-14   \n",
       "\n",
       "                   recent_combined_name  \n",
       "64919     Churn Creek/Knightson/Airport  \n",
       "64920                           Route 1  \n",
       "64924                          Route 11  \n",
       "64925                          Route 14  \n",
       "64926                        Route 299X  \n",
       "64921                           Route 3  \n",
       "64922                           Route 4  \n",
       "64923                           Route 7  \n",
       "64930                           Route 9  \n",
       "64928  Route 99X/Amtrak Thruway Route 3  \n",
       "64927        Shasta View/Shasta College  \n",
       "64929                  Shingletown Flex  \n",
       "64907     Churn Creek/Knightson/Airport  \n",
       "64908                           Route 1  \n",
       "64912                          Route 11  \n",
       "64913                          Route 14  \n",
       "64914                        Route 299X  \n",
       "64909                           Route 3  \n",
       "64910                           Route 4  \n",
       "64911                           Route 7  "
      ]
     },
     "execution_count": 23,
     "metadata": {},
     "output_type": "execute_result"
    }
   ],
   "source": [
    "operator_route_gdf.loc[\n",
    "    operator_route_gdf.portfolio_organization_name == \"Redding Area Bus Authority\"\n",
    "].drop(columns=[\"geometry\"]).sort_values(\n",
    "    by=[\"service_date\", \"recent_combined_name\"], ascending=[False, True]\n",
    ").head(\n",
    "    20\n",
    ")"
   ]
  },
  {
   "cell_type": "markdown",
   "id": "acf49428-aab2-455c-8544-77daccc4473c",
   "metadata": {},
   "source": [
    "## Can't find Route 19 and Route 99X in the `_ct_district_data_prep.final_transit_route_shs_outputs` area"
   ]
  },
  {
   "cell_type": "code",
   "execution_count": 25,
   "id": "c182668a-1342-4fa6-80d0-303bc459ac55",
   "metadata": {
    "tags": []
   },
   "outputs": [],
   "source": [
    "OPERATOR_ROUTE = GTFS_DATA_DICT.digest_tables.operator_routes_map\n",
    "\n",
    "subset = [\n",
    "    \"service_date\",\n",
    "    \"geometry\",\n",
    "    \"portfolio_organization_name\",\n",
    "    \"recent_combined_name\",\n",
    "    \"route_id\",\n",
    "]\n",
    "op_geography_df = gpd.read_parquet(\n",
    "    f\"{RT_SCHED_GCS}{OPERATOR_ROUTE}.parquet\",\n",
    "    storage_options={\"token\": credentials.token},\n",
    ")[subset]"
   ]
  },
  {
   "cell_type": "code",
   "execution_count": 26,
   "id": "30df5ff9-7e90-4b6c-a328-463fa6afb2ca",
   "metadata": {
    "scrolled": true,
    "tags": []
   },
   "outputs": [
    {
     "data": {
      "text/plain": [
       "array(['Tulare County Regional Transit Agency',\n",
       "       'San Luis Obispo Regional Transit Authority',\n",
       "       'Marin County Transit District', 'City of Baldwin Park',\n",
       "       'City of Inglewood', 'City of Auburn', 'City of Bell',\n",
       "       'Angel Island-Tiburon Ferry Company', 'City of Tracy',\n",
       "       'Santa Barbara Metropolitan Transit District',\n",
       "       'Los Angeles County Metropolitan Transportation Authority',\n",
       "       'City of Pasadena', 'Tahoe Transportation District',\n",
       "       'Sonoma-Marin Area Rail Transit District', 'City of Los Angeles',\n",
       "       'City of West Hollywood', 'Redwood Coast Transit Authority',\n",
       "       'Sonoma County Transit Schedule', 'Lake Transit Authority',\n",
       "       'City of Huntington Park', 'Yuba-Sutter Transit Authority',\n",
       "       'City of Glendale', 'Yurok Tribe', 'City of Bell Gardens', 'POINT',\n",
       "       'Modoc Transportation Agency', 'City of Fairfield',\n",
       "       'City of Arvin', 'Alameda-Contra Costa Transit District',\n",
       "       'City of Cudahy', 'Emeryville Transportation Management Agency',\n",
       "       'SunLine Transit Agency', 'Golden Empire Transit District',\n",
       "       'City of Roseville', 'City of Redondo Beach',\n",
       "       'City of West Covina',\n",
       "       'Santa Barbara County Association of Governments',\n",
       "       'Ventura County (VCTC, Gold Coast, Cities of Camarillo, Moorpark, Ojai, Simi Valley, Thousand Oaks)',\n",
       "       'Yuma County Intergovernmental Public Transportation Authority',\n",
       "       'Stanislaus Regional Transit Authority', 'City of Laguna Beach',\n",
       "       'San Diego Metropolitan Transit System, Airport, Flagship Cruises',\n",
       "       'Mission Bay Transportation Management Agency', 'City of Avalon',\n",
       "       'Western Contra Costa Transit Authority', 'Curry Public Transit',\n",
       "       'City of La Puente', 'Fresno County Rural Transit Agency',\n",
       "       'Napa Valley Transportation Authority', 'City of Calabasas',\n",
       "       'North County Transit District', 'Solano Transportation Authority',\n",
       "       'Town of Truckee', 'UCSC and City of Santa Cruz Beach Shuttle',\n",
       "       'Butte County Association of Governments',\n",
       "       'University of California, Los Angeles', 'Placer County',\n",
       "       'University of California, San Diego',\n",
       "       'Orange County Transportation Authority', 'Long Beach Transit',\n",
       "       'City of Burbank', 'Yolo County Transportation District',\n",
       "       'Los Angeles County', 'City of Montebello', 'City of Santa Monica',\n",
       "       'Lassen Transit Service Agency', 'City of Manteca',\n",
       "       'Tuolumne County Transit Agency', 'Los Angeles World Airports',\n",
       "       'San Francisco International Airport', 'Yosemite National Park',\n",
       "       'City of Glendora', 'Siskiyou County', 'City of Torrance',\n",
       "       'City of South Gate', 'Imperial County Transportation Commission',\n",
       "       'City of Santa Clarita',\n",
       "       'Commute.org and Menlo Park Community Shuttles Schedule',\n",
       "       'Amador Regional Transit System', 'City of Visalia',\n",
       "       'Stanford University', 'Redding Area Bus Authority',\n",
       "       'City of Norwalk', 'Palo Verde Valley Transit Agency',\n",
       "       'Sacramento Regional Transit District', 'City of Madera',\n",
       "       'Sacramento County', 'Amtrak', 'Eastern Sierra Transit Authority',\n",
       "       'City of Culver City', 'Kings County Area Public Transit Agency',\n",
       "       'Presidio Trust', 'Tehama County', 'City of Fresno',\n",
       "       'City of Dana Point', 'Kern County', 'City of Alhambra',\n",
       "       'Tahoe Truckee Area Regional Transportation, North Lake Tahoe',\n",
       "       'Madera County', 'City of El Segundo', 'City of Mission Viejo',\n",
       "       'San Mateo County Transit District',\n",
       "       'Eastern Contra Costa Transit Authority', 'City of Union City',\n",
       "       'City of Downey', 'City of Carson',\n",
       "       'Central Contra Costa Transit Authority', 'City of Santa Maria',\n",
       "       'Mountain Area Regional Transit Authority', 'City of Lompoc',\n",
       "       'San Benito County Local Transportation Authority',\n",
       "       'City of Petaluma', 'City of Rosemead', 'Chemehuevi Indian Tribe',\n",
       "       'City of Cerritos', 'Humboldt Transit Authority',\n",
       "       'City of South San Francisco', 'City of Elk Grove',\n",
       "       'Calaveras Transit Agency', 'City of Beaumont',\n",
       "       'Mountain View Transportation Management Association',\n",
       "       'Trinity County', 'City of Monterey Park',\n",
       "       'University of California, Davis', 'City of Morro Bay',\n",
       "       'City of Thousand Oaks',\n",
       "       'Transit Joint Powers Authority for Merced County',\n",
       "       'City of Guadalupe', 'El Dorado County Transit Authority',\n",
       "       'Glenn County', 'City of Maywood',\n",
       "       'Southern California Regional Rail Authority',\n",
       "       'Mendocino Transit Authority', 'City of Irvine',\n",
       "       'City and County of San Francisco',\n",
       "       'San Joaquin Regional Transit District',\n",
       "       'Antelope Valley Transit Authority',\n",
       "       'San Francisco Bay Ferry and Oakland Alameda Water Shuttle Schedule',\n",
       "       'City of Bellflower', 'City of Gardena',\n",
       "       'Palos Verdes Peninsula Transit Authority',\n",
       "       'Monterey-Salinas Transit', 'City of Lodi',\n",
       "       'San Francisco Bay Area Rapid Transit District',\n",
       "       'City of Santa Rosa', 'City of Lynwood', 'City of Sierra Madre',\n",
       "       'OmniTrans', 'Plumas Transit Systems',\n",
       "       'Peninsula Corridor Joint Powers Board',\n",
       "       'Santa Clara Valley Transportation Authority', 'City of Rio Vista',\n",
       "       'City of Arcadia', 'FlixBus and Greyhound', 'City of Artesia',\n",
       "       'University of California, Berkeley', 'Nevada County',\n",
       "       'Golden Gate Bridge, Highway and Transportation District',\n",
       "       'Basin Transit', 'Treasure Island Community Development',\n",
       "       'Anaheim Transportation Network', 'City of El Monte',\n",
       "       'University of California, Irvine', 'City of San Clemente',\n",
       "       'City of Turlock', 'City of San Fernando', 'City of Lawndale',\n",
       "       'City of Solvang', 'San Joaquin Regional Rail Commission',\n",
       "       'City of Needles', 'City of Delano', 'Riverside Transit Agency',\n",
       "       'Livermore-Amador Valley Transit Authority', 'City of Vacaville',\n",
       "       'Victor Valley Transit Authority', 'City of Escalon',\n",
       "       'City of Commerce', 'City of Banning',\n",
       "       'Capitol Corridor Joint Powers Authority', 'City of Mountain View',\n",
       "       'Foothill Transit', 'City of Corona', 'City of Clovis',\n",
       "       'Yosemite Area Regional Transportation System',\n",
       "       'City of San Juan Capistrano', 'City of Ripon'], dtype=object)"
      ]
     },
     "execution_count": 26,
     "metadata": {},
     "output_type": "execute_result"
    }
   ],
   "source": [
    "op_geography_df.portfolio_organization_name.unique()"
   ]
  },
  {
   "cell_type": "code",
   "execution_count": 27,
   "id": "1f9442be-eedd-4a96-8cd5-1383a546c9b4",
   "metadata": {},
   "outputs": [],
   "source": [
    "raba = op_geography_df.loc[\n",
    "    op_geography_df.portfolio_organization_name == \"Redding Area Bus Authority\"\n",
    "]"
   ]
  },
  {
   "cell_type": "markdown",
   "id": "9d0bee10-4daf-429e-b4de-44effd66adca",
   "metadata": {},
   "source": [
    "### Route 19 is missing but Route 99x is here."
   ]
  },
  {
   "cell_type": "code",
   "execution_count": 28,
   "id": "149032aa-46b9-4ae9-8761-b049deb9a506",
   "metadata": {
    "tags": []
   },
   "outputs": [
    {
     "data": {
      "text/html": [
       "<div>\n",
       "<style scoped>\n",
       "    .dataframe tbody tr th:only-of-type {\n",
       "        vertical-align: middle;\n",
       "    }\n",
       "\n",
       "    .dataframe tbody tr th {\n",
       "        vertical-align: top;\n",
       "    }\n",
       "\n",
       "    .dataframe thead th {\n",
       "        text-align: right;\n",
       "    }\n",
       "</style>\n",
       "<table border=\"1\" class=\"dataframe\">\n",
       "  <thead>\n",
       "    <tr style=\"text-align: right;\">\n",
       "      <th></th>\n",
       "      <th>recent_combined_name</th>\n",
       "      <th>route_id</th>\n",
       "      <th>service_date</th>\n",
       "    </tr>\n",
       "  </thead>\n",
       "  <tbody>\n",
       "    <tr>\n",
       "      <th>64919</th>\n",
       "      <td>Churn Creek/Knightson/Airport</td>\n",
       "      <td>15</td>\n",
       "      <td>2025-06-11</td>\n",
       "    </tr>\n",
       "    <tr>\n",
       "      <th>64920</th>\n",
       "      <td>Route 1</td>\n",
       "      <td>151</td>\n",
       "      <td>2025-06-11</td>\n",
       "    </tr>\n",
       "    <tr>\n",
       "      <th>64924</th>\n",
       "      <td>Route 11</td>\n",
       "      <td>159</td>\n",
       "      <td>2025-06-11</td>\n",
       "    </tr>\n",
       "    <tr>\n",
       "      <th>64925</th>\n",
       "      <td>Route 14</td>\n",
       "      <td>160</td>\n",
       "      <td>2025-06-11</td>\n",
       "    </tr>\n",
       "    <tr>\n",
       "      <th>64926</th>\n",
       "      <td>Route 299X</td>\n",
       "      <td>161</td>\n",
       "      <td>2025-06-11</td>\n",
       "    </tr>\n",
       "    <tr>\n",
       "      <th>64921</th>\n",
       "      <td>Route 3</td>\n",
       "      <td>153</td>\n",
       "      <td>2025-06-11</td>\n",
       "    </tr>\n",
       "    <tr>\n",
       "      <th>64922</th>\n",
       "      <td>Route 4</td>\n",
       "      <td>154</td>\n",
       "      <td>2025-06-11</td>\n",
       "    </tr>\n",
       "    <tr>\n",
       "      <th>64923</th>\n",
       "      <td>Route 7</td>\n",
       "      <td>157</td>\n",
       "      <td>2025-06-11</td>\n",
       "    </tr>\n",
       "    <tr>\n",
       "      <th>64930</th>\n",
       "      <td>Route 9</td>\n",
       "      <td>6446</td>\n",
       "      <td>2025-06-11</td>\n",
       "    </tr>\n",
       "    <tr>\n",
       "      <th>64928</th>\n",
       "      <td>Route 99X/Amtrak Thruway Route 3</td>\n",
       "      <td>24</td>\n",
       "      <td>2025-06-11</td>\n",
       "    </tr>\n",
       "    <tr>\n",
       "      <th>64927</th>\n",
       "      <td>Shasta View/Shasta College</td>\n",
       "      <td>1885</td>\n",
       "      <td>2025-06-11</td>\n",
       "    </tr>\n",
       "    <tr>\n",
       "      <th>64929</th>\n",
       "      <td>Shingletown Flex</td>\n",
       "      <td>44X</td>\n",
       "      <td>2025-06-11</td>\n",
       "    </tr>\n",
       "    <tr>\n",
       "      <th>50065</th>\n",
       "      <td>Crosstown</td>\n",
       "      <td>6790</td>\n",
       "      <td>2024-12-11</td>\n",
       "    </tr>\n",
       "    <tr>\n",
       "      <th>50029</th>\n",
       "      <td>Route 2 East</td>\n",
       "      <td>1887</td>\n",
       "      <td>2024-11-13</td>\n",
       "    </tr>\n",
       "    <tr>\n",
       "      <th>50027</th>\n",
       "      <td>Route 2 West</td>\n",
       "      <td>1886</td>\n",
       "      <td>2024-11-13</td>\n",
       "    </tr>\n",
       "    <tr>\n",
       "      <th>50015</th>\n",
       "      <td>Route 5</td>\n",
       "      <td>155</td>\n",
       "      <td>2024-11-13</td>\n",
       "    </tr>\n",
       "    <tr>\n",
       "      <th>50031</th>\n",
       "      <td>Route 6 North</td>\n",
       "      <td>1888</td>\n",
       "      <td>2024-11-13</td>\n",
       "    </tr>\n",
       "    <tr>\n",
       "      <th>50033</th>\n",
       "      <td>Route 6 South</td>\n",
       "      <td>1889</td>\n",
       "      <td>2024-11-13</td>\n",
       "    </tr>\n",
       "    <tr>\n",
       "      <th>49711</th>\n",
       "      <td>Anderson Commuter</td>\n",
       "      <td>6460</td>\n",
       "      <td>2024-01-17</td>\n",
       "    </tr>\n",
       "    <tr>\n",
       "      <th>26383</th>\n",
       "      <td>Burney Express</td>\n",
       "      <td>161</td>\n",
       "      <td>2023-12-13</td>\n",
       "    </tr>\n",
       "    <tr>\n",
       "      <th>26397</th>\n",
       "      <td>Crosstown Express</td>\n",
       "      <td>6790</td>\n",
       "      <td>2023-12-13</td>\n",
       "    </tr>\n",
       "    <tr>\n",
       "      <th>26173</th>\n",
       "      <td>School Express</td>\n",
       "      <td>1885</td>\n",
       "      <td>2023-05-17</td>\n",
       "    </tr>\n",
       "  </tbody>\n",
       "</table>\n",
       "</div>"
      ],
      "text/plain": [
       "                   recent_combined_name route_id service_date\n",
       "64919     Churn Creek/Knightson/Airport       15   2025-06-11\n",
       "64920                           Route 1      151   2025-06-11\n",
       "64924                          Route 11      159   2025-06-11\n",
       "64925                          Route 14      160   2025-06-11\n",
       "64926                        Route 299X      161   2025-06-11\n",
       "64921                           Route 3      153   2025-06-11\n",
       "64922                           Route 4      154   2025-06-11\n",
       "64923                           Route 7      157   2025-06-11\n",
       "64930                           Route 9     6446   2025-06-11\n",
       "64928  Route 99X/Amtrak Thruway Route 3       24   2025-06-11\n",
       "64927        Shasta View/Shasta College     1885   2025-06-11\n",
       "64929                  Shingletown Flex      44X   2025-06-11\n",
       "50065                         Crosstown     6790   2024-12-11\n",
       "50029                      Route 2 East     1887   2024-11-13\n",
       "50027                      Route 2 West     1886   2024-11-13\n",
       "50015                           Route 5      155   2024-11-13\n",
       "50031                     Route 6 North     1888   2024-11-13\n",
       "50033                     Route 6 South     1889   2024-11-13\n",
       "49711                 Anderson Commuter     6460   2024-01-17\n",
       "26383                    Burney Express      161   2023-12-13\n",
       "26397                 Crosstown Express     6790   2023-12-13\n",
       "26173                    School Express     1885   2023-05-17"
      ]
     },
     "execution_count": 28,
     "metadata": {},
     "output_type": "execute_result"
    }
   ],
   "source": [
    "raba[[\"recent_combined_name\", \"route_id\", \"service_date\"]].sort_values(\n",
    "    by=[\"service_date\", \"recent_combined_name\"], ascending=[False, True]\n",
    ").drop_duplicates(subset=[\"recent_combined_name\"])"
   ]
  },
  {
   "cell_type": "code",
   "execution_count": 29,
   "id": "781bd450-3819-4d10-a669-481458d18066",
   "metadata": {
    "tags": []
   },
   "outputs": [],
   "source": [
    "processed_transit_routes = _transit_routes_on_shn.process_transit_routes()"
   ]
  },
  {
   "cell_type": "code",
   "execution_count": 30,
   "id": "109fa38c-82f5-42fe-b476-bdf71be4b39e",
   "metadata": {
    "tags": []
   },
   "outputs": [
    {
     "data": {
      "text/plain": [
       "Index(['service_date', 'geometry', 'portfolio_organization_name',\n",
       "       'recent_combined_name', 'route_length_feet'],\n",
       "      dtype='object')"
      ]
     },
     "execution_count": 30,
     "metadata": {},
     "output_type": "execute_result"
    }
   ],
   "source": [
    "processed_transit_routes.columns"
   ]
  },
  {
   "cell_type": "code",
   "execution_count": 31,
   "id": "d7cfbb28-01fa-4695-bc0f-35f5dec61413",
   "metadata": {
    "tags": []
   },
   "outputs": [],
   "source": [
    "raba_only = processed_transit_routes.loc[\n",
    "    processed_transit_routes.portfolio_organization_name == \"Redding Area Bus Authority\"\n",
    "]"
   ]
  },
  {
   "cell_type": "code",
   "execution_count": 32,
   "id": "5e81a589-8872-409a-9f81-947bf8d1cdf1",
   "metadata": {
    "tags": []
   },
   "outputs": [
    {
     "data": {
      "text/html": [
       "<div>\n",
       "<style scoped>\n",
       "    .dataframe tbody tr th:only-of-type {\n",
       "        vertical-align: middle;\n",
       "    }\n",
       "\n",
       "    .dataframe tbody tr th {\n",
       "        vertical-align: top;\n",
       "    }\n",
       "\n",
       "    .dataframe thead th {\n",
       "        text-align: right;\n",
       "    }\n",
       "</style>\n",
       "<table border=\"1\" class=\"dataframe\">\n",
       "  <thead>\n",
       "    <tr style=\"text-align: right;\">\n",
       "      <th></th>\n",
       "      <th>service_date</th>\n",
       "      <th>portfolio_organization_name</th>\n",
       "      <th>recent_combined_name</th>\n",
       "      <th>route_length_feet</th>\n",
       "    </tr>\n",
       "  </thead>\n",
       "  <tbody>\n",
       "    <tr>\n",
       "      <th>2779</th>\n",
       "      <td>2025-06-11</td>\n",
       "      <td>Redding Area Bus Authority</td>\n",
       "      <td>Churn Creek/Knightson/Airport</td>\n",
       "      <td>74595.123463</td>\n",
       "    </tr>\n",
       "    <tr>\n",
       "      <th>2780</th>\n",
       "      <td>2025-06-11</td>\n",
       "      <td>Redding Area Bus Authority</td>\n",
       "      <td>Route 1</td>\n",
       "      <td>59404.153423</td>\n",
       "    </tr>\n",
       "    <tr>\n",
       "      <th>2784</th>\n",
       "      <td>2025-06-11</td>\n",
       "      <td>Redding Area Bus Authority</td>\n",
       "      <td>Route 11</td>\n",
       "      <td>58132.163204</td>\n",
       "    </tr>\n",
       "    <tr>\n",
       "      <th>2785</th>\n",
       "      <td>2025-06-11</td>\n",
       "      <td>Redding Area Bus Authority</td>\n",
       "      <td>Route 14</td>\n",
       "      <td>60492.082832</td>\n",
       "    </tr>\n",
       "    <tr>\n",
       "      <th>2786</th>\n",
       "      <td>2025-06-11</td>\n",
       "      <td>Redding Area Bus Authority</td>\n",
       "      <td>Route 299X</td>\n",
       "      <td>316814.705317</td>\n",
       "    </tr>\n",
       "    <tr>\n",
       "      <th>2781</th>\n",
       "      <td>2025-06-11</td>\n",
       "      <td>Redding Area Bus Authority</td>\n",
       "      <td>Route 3</td>\n",
       "      <td>46149.322904</td>\n",
       "    </tr>\n",
       "    <tr>\n",
       "      <th>2782</th>\n",
       "      <td>2025-06-11</td>\n",
       "      <td>Redding Area Bus Authority</td>\n",
       "      <td>Route 4</td>\n",
       "      <td>55847.834461</td>\n",
       "    </tr>\n",
       "    <tr>\n",
       "      <th>2783</th>\n",
       "      <td>2025-06-11</td>\n",
       "      <td>Redding Area Bus Authority</td>\n",
       "      <td>Route 7</td>\n",
       "      <td>49674.455686</td>\n",
       "    </tr>\n",
       "    <tr>\n",
       "      <th>2790</th>\n",
       "      <td>2025-06-11</td>\n",
       "      <td>Redding Area Bus Authority</td>\n",
       "      <td>Route 9</td>\n",
       "      <td>89130.963942</td>\n",
       "    </tr>\n",
       "    <tr>\n",
       "      <th>2788</th>\n",
       "      <td>2025-06-11</td>\n",
       "      <td>Redding Area Bus Authority</td>\n",
       "      <td>Route 99X/Amtrak Thruway Route 3</td>\n",
       "      <td>402000.614903</td>\n",
       "    </tr>\n",
       "    <tr>\n",
       "      <th>2787</th>\n",
       "      <td>2025-06-11</td>\n",
       "      <td>Redding Area Bus Authority</td>\n",
       "      <td>Shasta View/Shasta College</td>\n",
       "      <td>53659.393457</td>\n",
       "    </tr>\n",
       "    <tr>\n",
       "      <th>2789</th>\n",
       "      <td>2025-06-11</td>\n",
       "      <td>Redding Area Bus Authority</td>\n",
       "      <td>Shingletown Flex</td>\n",
       "      <td>204501.606393</td>\n",
       "    </tr>\n",
       "  </tbody>\n",
       "</table>\n",
       "</div>"
      ],
      "text/plain": [
       "     service_date portfolio_organization_name  \\\n",
       "2779   2025-06-11  Redding Area Bus Authority   \n",
       "2780   2025-06-11  Redding Area Bus Authority   \n",
       "2784   2025-06-11  Redding Area Bus Authority   \n",
       "2785   2025-06-11  Redding Area Bus Authority   \n",
       "2786   2025-06-11  Redding Area Bus Authority   \n",
       "2781   2025-06-11  Redding Area Bus Authority   \n",
       "2782   2025-06-11  Redding Area Bus Authority   \n",
       "2783   2025-06-11  Redding Area Bus Authority   \n",
       "2790   2025-06-11  Redding Area Bus Authority   \n",
       "2788   2025-06-11  Redding Area Bus Authority   \n",
       "2787   2025-06-11  Redding Area Bus Authority   \n",
       "2789   2025-06-11  Redding Area Bus Authority   \n",
       "\n",
       "                  recent_combined_name  route_length_feet  \n",
       "2779     Churn Creek/Knightson/Airport       74595.123463  \n",
       "2780                           Route 1       59404.153423  \n",
       "2784                          Route 11       58132.163204  \n",
       "2785                          Route 14       60492.082832  \n",
       "2786                        Route 299X      316814.705317  \n",
       "2781                           Route 3       46149.322904  \n",
       "2782                           Route 4       55847.834461  \n",
       "2783                           Route 7       49674.455686  \n",
       "2790                           Route 9       89130.963942  \n",
       "2788  Route 99X/Amtrak Thruway Route 3      402000.614903  \n",
       "2787        Shasta View/Shasta College       53659.393457  \n",
       "2789                  Shingletown Flex      204501.606393  "
      ]
     },
     "execution_count": 32,
     "metadata": {},
     "output_type": "execute_result"
    }
   ],
   "source": [
    "raba_only.sort_values(\n",
    "    by=[\"service_date\", \"recent_combined_name\"], ascending=[False, True]\n",
    ").drop(columns = [\"geometry\"])"
   ]
  },
  {
   "cell_type": "code",
   "execution_count": 33,
   "id": "4bdc949b-4d0d-41ca-9599-cc8674d7adac",
   "metadata": {
    "tags": []
   },
   "outputs": [],
   "source": [
    "shn_raba = _transit_routes_on_shn.routes_shn_intersection(50,\"ct_district_route\")"
   ]
  },
  {
   "cell_type": "code",
   "execution_count": 34,
   "id": "01adaa88-af18-46f8-8450-ff8fe24913fe",
   "metadata": {
    "tags": []
   },
   "outputs": [],
   "source": [
    "shn_raba  = shn_raba.loc[\n",
    "    shn_raba.portfolio_organization_name == \"Redding Area Bus Authority\"\n",
    "]"
   ]
  },
  {
   "cell_type": "code",
   "execution_count": 35,
   "id": "b82538b9-1925-4009-be76-0a6d5cbd8146",
   "metadata": {
    "tags": []
   },
   "outputs": [
    {
     "data": {
      "text/plain": [
       "Index(['service_date', 'geometry', 'portfolio_organization_name',\n",
       "       'recent_combined_name', 'route_length_feet', 'shn_route', 'district',\n",
       "       'highway_feet', 'pct_route_on_hwy'],\n",
       "      dtype='object')"
      ]
     },
     "execution_count": 35,
     "metadata": {},
     "output_type": "execute_result"
    }
   ],
   "source": [
    "shn_raba.columns"
   ]
  },
  {
   "cell_type": "code",
   "execution_count": 36,
   "id": "3955eac2-93f5-4555-bc22-8583f11af02c",
   "metadata": {
    "tags": []
   },
   "outputs": [
    {
     "data": {
      "text/plain": [
       "(45, 9)"
      ]
     },
     "execution_count": 36,
     "metadata": {},
     "output_type": "execute_result"
    }
   ],
   "source": [
    "shn_raba.shape"
   ]
  },
  {
   "cell_type": "code",
   "execution_count": 37,
   "id": "f539de0e-654d-4b50-94e8-c49b6a8bd172",
   "metadata": {
    "tags": []
   },
   "outputs": [],
   "source": [
    "route_99 = shn_raba.loc[shn_raba.recent_combined_name.str.contains(\"Route 99X/Amtrak Thruway Route 3\")]"
   ]
  },
  {
   "cell_type": "code",
   "execution_count": 38,
   "id": "aff1d455-042e-42a3-b53d-8ceebaebfee3",
   "metadata": {
    "tags": []
   },
   "outputs": [],
   "source": [
    "route_99 = route_99.rename(columns={\"pct_route_on_hwy\": \"pct_route_on_hwy_across_districts\"})"
   ]
  },
  {
   "cell_type": "code",
   "execution_count": 39,
   "id": "f797bc6c-9f29-4ca5-98ae-d4e32f504f21",
   "metadata": {
    "tags": []
   },
   "outputs": [],
   "source": [
    "def group_route_district(df: pd.DataFrame, pct_route_on_hwy_agg: str) -> pd.DataFrame:\n",
    "\n",
    "    # Aggregate by adding all the districts and SHN to a single row, rather than\n",
    "    # multiple and sum up the total % of SHN a transit route intersects with\n",
    "    agg1 = (\n",
    "        df.groupby(\n",
    "            [\n",
    "                \"portfolio_organization_name\",\n",
    "                \"recent_combined_name\",\n",
    "            ],\n",
    "            as_index=False,\n",
    "        )[[\"shn_route\", \"district\", \"pct_route_on_hwy_across_districts\"]]\n",
    "        .agg(\n",
    "            {\n",
    "                \"shn_route\": lambda x: \", \".join(set(x.astype(str))),\n",
    "                \"district\": lambda x: \", \".join(set(x.astype(str))),\n",
    "                \"pct_route_on_hwy_across_districts\": pct_route_on_hwy_agg,\n",
    "            }\n",
    "        )\n",
    "        .reset_index(drop=True)\n",
    "    )\n",
    "\n",
    "    # Clean up\n",
    "    agg1.pct_route_on_hwy_across_districts = (\n",
    "        agg1.pct_route_on_hwy_across_districts.astype(float).round(2)\n",
    "    )\n",
    "    return agg1"
   ]
  },
  {
   "cell_type": "code",
   "execution_count": 40,
   "id": "3de20bba-454d-4e9b-ab9b-f2826dde0fbf",
   "metadata": {
    "tags": []
   },
   "outputs": [],
   "source": [
    "agg1 = group_route_district(route_99, \"sum\")"
   ]
  },
  {
   "cell_type": "code",
   "execution_count": 41,
   "id": "f97b70de-42f4-42d9-be97-c0607d70162a",
   "metadata": {
    "tags": []
   },
   "outputs": [
    {
     "data": {
      "text/html": [
       "<div>\n",
       "<style scoped>\n",
       "    .dataframe tbody tr th:only-of-type {\n",
       "        vertical-align: middle;\n",
       "    }\n",
       "\n",
       "    .dataframe tbody tr th {\n",
       "        vertical-align: top;\n",
       "    }\n",
       "\n",
       "    .dataframe thead th {\n",
       "        text-align: right;\n",
       "    }\n",
       "</style>\n",
       "<table border=\"1\" class=\"dataframe\">\n",
       "  <thead>\n",
       "    <tr style=\"text-align: right;\">\n",
       "      <th></th>\n",
       "      <th>portfolio_organization_name</th>\n",
       "      <th>recent_combined_name</th>\n",
       "      <th>shn_route</th>\n",
       "      <th>district</th>\n",
       "      <th>pct_route_on_hwy_across_districts</th>\n",
       "    </tr>\n",
       "  </thead>\n",
       "  <tbody>\n",
       "    <tr>\n",
       "      <th>0</th>\n",
       "      <td>Redding Area Bus Authority</td>\n",
       "      <td>Route 99X/Amtrak Thruway Route 3</td>\n",
       "      <td>99, 5, 44, 36, 32, 273</td>\n",
       "      <td>3.0, 2.0</td>\n",
       "      <td>97.8</td>\n",
       "    </tr>\n",
       "  </tbody>\n",
       "</table>\n",
       "</div>"
      ],
      "text/plain": [
       "  portfolio_organization_name              recent_combined_name  \\\n",
       "0  Redding Area Bus Authority  Route 99X/Amtrak Thruway Route 3   \n",
       "\n",
       "                shn_route  district  pct_route_on_hwy_across_districts  \n",
       "0  99, 5, 44, 36, 32, 273  3.0, 2.0                               97.8  "
      ]
     },
     "execution_count": 41,
     "metadata": {},
     "output_type": "execute_result"
    }
   ],
   "source": [
    "agg1\n"
   ]
  },
  {
   "cell_type": "code",
   "execution_count": 42,
   "id": "ada860e7-aae7-4819-a576-139cc7205251",
   "metadata": {
    "tags": []
   },
   "outputs": [
    {
     "data": {
      "text/html": [
       "<div>\n",
       "<style scoped>\n",
       "    .dataframe tbody tr th:only-of-type {\n",
       "        vertical-align: middle;\n",
       "    }\n",
       "\n",
       "    .dataframe tbody tr th {\n",
       "        vertical-align: top;\n",
       "    }\n",
       "\n",
       "    .dataframe thead th {\n",
       "        text-align: right;\n",
       "    }\n",
       "</style>\n",
       "<table border=\"1\" class=\"dataframe\">\n",
       "  <thead>\n",
       "    <tr style=\"text-align: right;\">\n",
       "      <th></th>\n",
       "      <th>portfolio_organization_name</th>\n",
       "      <th>recent_combined_name</th>\n",
       "      <th>shn_route</th>\n",
       "      <th>district</th>\n",
       "      <th>pct_route_on_hwy_across_districts</th>\n",
       "    </tr>\n",
       "  </thead>\n",
       "  <tbody>\n",
       "    <tr>\n",
       "      <th>0</th>\n",
       "      <td>Redding Area Bus Authority</td>\n",
       "      <td>Route 99X/Amtrak Thruway Route 3</td>\n",
       "      <td>99, 5, 44, 36, 32, 273</td>\n",
       "      <td>3.0, 2.0</td>\n",
       "      <td>97.8</td>\n",
       "    </tr>\n",
       "  </tbody>\n",
       "</table>\n",
       "</div>"
      ],
      "text/plain": [
       "  portfolio_organization_name              recent_combined_name  \\\n",
       "0  Redding Area Bus Authority  Route 99X/Amtrak Thruway Route 3   \n",
       "\n",
       "                shn_route  district  pct_route_on_hwy_across_districts  \n",
       "0  99, 5, 44, 36, 32, 273  3.0, 2.0                               97.8  "
      ]
     },
     "execution_count": 42,
     "metadata": {},
     "output_type": "execute_result"
    }
   ],
   "source": [
    "agg1.loc[\n",
    "        agg1.district.astype(str).str.contains(str(district_int))\n",
    "    ]"
   ]
  },
  {
   "cell_type": "code",
   "execution_count": 43,
   "id": "03cc166a-fc2b-488e-a674-f599542da46a",
   "metadata": {
    "tags": []
   },
   "outputs": [
    {
     "ename": "KeyError",
     "evalue": "\"Columns not found: 'District', 'shn_route', 'pct_route_on_hwy_across_districts'\"",
     "output_type": "error",
     "traceback": [
      "\u001b[0;31m---------------------------------------------------------------------------\u001b[0m",
      "\u001b[0;31mKeyError\u001b[0m                                  Traceback (most recent call last)",
      "Cell \u001b[0;32mIn[43], line 1\u001b[0m\n\u001b[0;32m----> 1\u001b[0m open_data_portal_df \u001b[38;5;241m=\u001b[39m \u001b[43m_transit_routes_on_shn\u001b[49m\u001b[38;5;241;43m.\u001b[39;49m\u001b[43mprep_open_data_portal\u001b[49m\u001b[43m(\u001b[49m\u001b[43mraba_only\u001b[49m\u001b[43m)\u001b[49m\n",
      "File \u001b[0;32m~/data-analyses/gtfs_digest/_transit_routes_on_shn.py:233\u001b[0m, in \u001b[0;36mprep_open_data_portal\u001b[0;34m(gdf)\u001b[0m\n\u001b[1;32m    229\u001b[0m gdf \u001b[38;5;241m=\u001b[39m gdf\u001b[38;5;241m.\u001b[39mrename(columns\u001b[38;5;241m=\u001b[39m{\u001b[38;5;124m\"\u001b[39m\u001b[38;5;124mpct_route_on_hwy\u001b[39m\u001b[38;5;124m\"\u001b[39m: \u001b[38;5;124m\"\u001b[39m\u001b[38;5;124mpct_route_on_hwy_across_districts\u001b[39m\u001b[38;5;124m\"\u001b[39m})\n\u001b[1;32m    230\u001b[0m \u001b[38;5;66;03m# Group the dataframe so that one route only has one\u001b[39;00m\n\u001b[1;32m    231\u001b[0m \u001b[38;5;66;03m# row instead of multiple rows after finding its\u001b[39;00m\n\u001b[1;32m    232\u001b[0m \u001b[38;5;66;03m# intersection with any SHN routes.\u001b[39;00m\n\u001b[0;32m--> 233\u001b[0m agg1 \u001b[38;5;241m=\u001b[39m \u001b[43mgroup_route_district\u001b[49m\u001b[43m(\u001b[49m\u001b[43mgdf\u001b[49m\u001b[43m,\u001b[49m\u001b[43m \u001b[49m\u001b[38;5;124;43m\"\u001b[39;49m\u001b[38;5;124;43msum\u001b[39;49m\u001b[38;5;124;43m\"\u001b[39;49m\u001b[43m)\u001b[49m\n\u001b[1;32m    235\u001b[0m \u001b[38;5;66;03m# Add yes/no column to signify if a transit route intersects\u001b[39;00m\n\u001b[1;32m    236\u001b[0m \u001b[38;5;66;03m# with a SHN route\u001b[39;00m\n\u001b[1;32m    237\u001b[0m agg1 \u001b[38;5;241m=\u001b[39m create_on_shs_column(agg1)\n",
      "File \u001b[0;32m~/data-analyses/gtfs_digest/_transit_routes_on_shn.py:196\u001b[0m, in \u001b[0;36mgroup_route_district\u001b[0;34m(df, pct_route_on_hwy_agg)\u001b[0m\n\u001b[1;32m    191\u001b[0m \u001b[38;5;28;01mdef\u001b[39;00m\u001b[38;5;250m \u001b[39m\u001b[38;5;21mgroup_route_district\u001b[39m(df: pd\u001b[38;5;241m.\u001b[39mDataFrame, pct_route_on_hwy_agg: \u001b[38;5;28mstr\u001b[39m) \u001b[38;5;241m-\u001b[39m\u001b[38;5;241m>\u001b[39m pd\u001b[38;5;241m.\u001b[39mDataFrame:\n\u001b[1;32m    192\u001b[0m \n\u001b[1;32m    193\u001b[0m     \u001b[38;5;66;03m# Aggregate by adding all the districts and SHN to a single row, rather than\u001b[39;00m\n\u001b[1;32m    194\u001b[0m     \u001b[38;5;66;03m# multiple and sum up the total % of SHN a transit route intersects with\u001b[39;00m\n\u001b[1;32m    195\u001b[0m     agg1 \u001b[38;5;241m=\u001b[39m (\n\u001b[0;32m--> 196\u001b[0m         \u001b[43mdf\u001b[49m\u001b[38;5;241;43m.\u001b[39;49m\u001b[43mgroupby\u001b[49m\u001b[43m(\u001b[49m\n\u001b[1;32m    197\u001b[0m \u001b[43m            \u001b[49m\u001b[43m[\u001b[49m\n\u001b[1;32m    198\u001b[0m \u001b[43m                \u001b[49m\u001b[38;5;124;43m\"\u001b[39;49m\u001b[38;5;124;43mportfolio_organization_name\u001b[39;49m\u001b[38;5;124;43m\"\u001b[39;49m\u001b[43m,\u001b[49m\n\u001b[1;32m    199\u001b[0m \u001b[43m                \u001b[49m\u001b[38;5;124;43m\"\u001b[39;49m\u001b[38;5;124;43mrecent_combined_name\u001b[39;49m\u001b[38;5;124;43m\"\u001b[39;49m\u001b[43m,\u001b[49m\n\u001b[1;32m    200\u001b[0m \u001b[43m            \u001b[49m\u001b[43m]\u001b[49m\u001b[43m,\u001b[49m\n\u001b[1;32m    201\u001b[0m \u001b[43m            \u001b[49m\u001b[43mas_index\u001b[49m\u001b[38;5;241;43m=\u001b[39;49m\u001b[38;5;28;43;01mFalse\u001b[39;49;00m\u001b[43m,\u001b[49m\n\u001b[1;32m    202\u001b[0m \u001b[43m        \u001b[49m\u001b[43m)\u001b[49m\u001b[43m[\u001b[49m\u001b[43m[\u001b[49m\u001b[38;5;124;43m\"\u001b[39;49m\u001b[38;5;124;43mshn_route\u001b[39;49m\u001b[38;5;124;43m\"\u001b[39;49m\u001b[43m,\u001b[49m\u001b[43m \u001b[49m\u001b[38;5;124;43m\"\u001b[39;49m\u001b[38;5;124;43mDistrict\u001b[39;49m\u001b[38;5;124;43m\"\u001b[39;49m\u001b[43m,\u001b[49m\u001b[43m \u001b[49m\u001b[38;5;124;43m\"\u001b[39;49m\u001b[38;5;124;43mpct_route_on_hwy_across_districts\u001b[39;49m\u001b[38;5;124;43m\"\u001b[39;49m\u001b[43m]\u001b[49m\u001b[43m]\u001b[49m\n\u001b[1;32m    203\u001b[0m         \u001b[38;5;241m.\u001b[39magg(\n\u001b[1;32m    204\u001b[0m             {\n\u001b[1;32m    205\u001b[0m                 \u001b[38;5;124m\"\u001b[39m\u001b[38;5;124mshn_route\u001b[39m\u001b[38;5;124m\"\u001b[39m: \u001b[38;5;28;01mlambda\u001b[39;00m x: \u001b[38;5;124m\"\u001b[39m\u001b[38;5;124m, \u001b[39m\u001b[38;5;124m\"\u001b[39m\u001b[38;5;241m.\u001b[39mjoin(\u001b[38;5;28mset\u001b[39m(x\u001b[38;5;241m.\u001b[39mastype(\u001b[38;5;28mstr\u001b[39m))),\n\u001b[1;32m    206\u001b[0m                 \u001b[38;5;124m\"\u001b[39m\u001b[38;5;124mDistrict\u001b[39m\u001b[38;5;124m\"\u001b[39m: \u001b[38;5;28;01mlambda\u001b[39;00m x: \u001b[38;5;124m\"\u001b[39m\u001b[38;5;124m, \u001b[39m\u001b[38;5;124m\"\u001b[39m\u001b[38;5;241m.\u001b[39mjoin(\u001b[38;5;28mset\u001b[39m(x\u001b[38;5;241m.\u001b[39mastype(\u001b[38;5;28mstr\u001b[39m))),\n\u001b[1;32m    207\u001b[0m                 \u001b[38;5;124m\"\u001b[39m\u001b[38;5;124mpct_route_on_hwy_across_districts\u001b[39m\u001b[38;5;124m\"\u001b[39m: pct_route_on_hwy_agg,\n\u001b[1;32m    208\u001b[0m             }\n\u001b[1;32m    209\u001b[0m         )\n\u001b[1;32m    210\u001b[0m         \u001b[38;5;241m.\u001b[39mreset_index(drop\u001b[38;5;241m=\u001b[39m\u001b[38;5;28;01mTrue\u001b[39;00m)\n\u001b[1;32m    211\u001b[0m     )\n\u001b[1;32m    213\u001b[0m     \u001b[38;5;66;03m# Clean up\u001b[39;00m\n\u001b[1;32m    214\u001b[0m     agg1\u001b[38;5;241m.\u001b[39mpct_route_on_hwy_across_districts \u001b[38;5;241m=\u001b[39m (\n\u001b[1;32m    215\u001b[0m         agg1\u001b[38;5;241m.\u001b[39mpct_route_on_hwy_across_districts\u001b[38;5;241m.\u001b[39mastype(\u001b[38;5;28mfloat\u001b[39m)\u001b[38;5;241m.\u001b[39mround(\u001b[38;5;241m2\u001b[39m)\n\u001b[1;32m    216\u001b[0m     )\n",
      "File \u001b[0;32m/opt/conda/lib/python3.11/site-packages/pandas/core/groupby/generic.py:1416\u001b[0m, in \u001b[0;36mDataFrameGroupBy.__getitem__\u001b[0;34m(self, key)\u001b[0m\n\u001b[1;32m   1407\u001b[0m \u001b[38;5;28;01mif\u001b[39;00m \u001b[38;5;28misinstance\u001b[39m(key, \u001b[38;5;28mtuple\u001b[39m) \u001b[38;5;129;01mand\u001b[39;00m \u001b[38;5;28mlen\u001b[39m(key) \u001b[38;5;241m>\u001b[39m \u001b[38;5;241m1\u001b[39m:\n\u001b[1;32m   1408\u001b[0m     \u001b[38;5;66;03m# if len == 1, then it becomes a SeriesGroupBy and this is actually\u001b[39;00m\n\u001b[1;32m   1409\u001b[0m     \u001b[38;5;66;03m# valid syntax, so don't raise warning\u001b[39;00m\n\u001b[1;32m   1410\u001b[0m     warnings\u001b[38;5;241m.\u001b[39mwarn(\n\u001b[1;32m   1411\u001b[0m         \u001b[38;5;124m\"\u001b[39m\u001b[38;5;124mIndexing with multiple keys (implicitly converted to a tuple \u001b[39m\u001b[38;5;124m\"\u001b[39m\n\u001b[1;32m   1412\u001b[0m         \u001b[38;5;124m\"\u001b[39m\u001b[38;5;124mof keys) will be deprecated, use a list instead.\u001b[39m\u001b[38;5;124m\"\u001b[39m,\n\u001b[1;32m   1413\u001b[0m         \u001b[38;5;167;01mFutureWarning\u001b[39;00m,\n\u001b[1;32m   1414\u001b[0m         stacklevel\u001b[38;5;241m=\u001b[39mfind_stack_level(),\n\u001b[1;32m   1415\u001b[0m     )\n\u001b[0;32m-> 1416\u001b[0m \u001b[38;5;28;01mreturn\u001b[39;00m \u001b[38;5;28;43msuper\u001b[39;49m\u001b[43m(\u001b[49m\u001b[43m)\u001b[49m\u001b[38;5;241;43m.\u001b[39;49m\u001b[38;5;21;43m__getitem__\u001b[39;49m\u001b[43m(\u001b[49m\u001b[43mkey\u001b[49m\u001b[43m)\u001b[49m\n",
      "File \u001b[0;32m/opt/conda/lib/python3.11/site-packages/pandas/core/base.py:238\u001b[0m, in \u001b[0;36mSelectionMixin.__getitem__\u001b[0;34m(self, key)\u001b[0m\n\u001b[1;32m    236\u001b[0m     \u001b[38;5;28;01mif\u001b[39;00m \u001b[38;5;28mlen\u001b[39m(\u001b[38;5;28mself\u001b[39m\u001b[38;5;241m.\u001b[39mobj\u001b[38;5;241m.\u001b[39mcolumns\u001b[38;5;241m.\u001b[39mintersection(key)) \u001b[38;5;241m!=\u001b[39m \u001b[38;5;28mlen\u001b[39m(\u001b[38;5;28mset\u001b[39m(key)):\n\u001b[1;32m    237\u001b[0m         bad_keys \u001b[38;5;241m=\u001b[39m \u001b[38;5;28mlist\u001b[39m(\u001b[38;5;28mset\u001b[39m(key)\u001b[38;5;241m.\u001b[39mdifference(\u001b[38;5;28mself\u001b[39m\u001b[38;5;241m.\u001b[39mobj\u001b[38;5;241m.\u001b[39mcolumns))\n\u001b[0;32m--> 238\u001b[0m         \u001b[38;5;28;01mraise\u001b[39;00m \u001b[38;5;167;01mKeyError\u001b[39;00m(\u001b[38;5;124mf\u001b[39m\u001b[38;5;124m\"\u001b[39m\u001b[38;5;124mColumns not found: \u001b[39m\u001b[38;5;132;01m{\u001b[39;00m\u001b[38;5;28mstr\u001b[39m(bad_keys)[\u001b[38;5;241m1\u001b[39m:\u001b[38;5;241m-\u001b[39m\u001b[38;5;241m1\u001b[39m]\u001b[38;5;132;01m}\u001b[39;00m\u001b[38;5;124m\"\u001b[39m)\n\u001b[1;32m    239\u001b[0m     \u001b[38;5;28;01mreturn\u001b[39;00m \u001b[38;5;28mself\u001b[39m\u001b[38;5;241m.\u001b[39m_gotitem(\u001b[38;5;28mlist\u001b[39m(key), ndim\u001b[38;5;241m=\u001b[39m\u001b[38;5;241m2\u001b[39m)\n\u001b[1;32m    241\u001b[0m \u001b[38;5;28;01melif\u001b[39;00m \u001b[38;5;129;01mnot\u001b[39;00m \u001b[38;5;28mgetattr\u001b[39m(\u001b[38;5;28mself\u001b[39m, \u001b[38;5;124m\"\u001b[39m\u001b[38;5;124mas_index\u001b[39m\u001b[38;5;124m\"\u001b[39m, \u001b[38;5;28;01mFalse\u001b[39;00m):\n",
      "\u001b[0;31mKeyError\u001b[0m: \"Columns not found: 'District', 'shn_route', 'pct_route_on_hwy_across_districts'\""
     ]
    }
   ],
   "source": [
    "open_data_portal_df = _transit_routes_on_shn.prep_open_data_portal(raba_only)"
   ]
  }
 ],
 "metadata": {
  "kernelspec": {
   "display_name": "Python 3 (ipykernel)",
   "language": "python",
   "name": "python3"
  },
  "language_info": {
   "codemirror_mode": {
    "name": "ipython",
    "version": 3
   },
   "file_extension": ".py",
   "mimetype": "text/x-python",
   "name": "python",
   "nbconvert_exporter": "python",
   "pygments_lexer": "ipython3",
   "version": "3.11.10"
  }
 },
 "nbformat": 4,
 "nbformat_minor": 5
}
