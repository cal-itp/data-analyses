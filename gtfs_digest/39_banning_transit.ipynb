{
 "cells": [
  {
   "cell_type": "markdown",
   "id": "fd5ba118-0e76-4f1a-80e5-7b38ca2c7326",
   "metadata": {},
   "source": [
    "## Banning Transit is missing\n",
    "[PR](https://github.com/cal-itp/data-analyses/issues/1254)"
   ]
  },
  {
   "cell_type": "code",
   "execution_count": 6,
   "id": "015badf6-92d5-48d6-ae38-11a6d3a52765",
   "metadata": {},
   "outputs": [],
   "source": [
    "import geopandas as gpd\n",
    "import merge_data\n",
    "import numpy as np\n",
    "import pandas as pd\n",
    "from segment_speed_utils import gtfs_schedule_wrangling, helpers, time_series_utils\n",
    "from shared_utils import catalog_utils, rt_dates, rt_utils\n",
    "from update_vars import GTFS_DATA_DICT, RT_SCHED_GCS, SCHED_GCS"
   ]
  },
  {
   "cell_type": "code",
   "execution_count": 7,
   "id": "6fa53d45-8913-4bf6-aae1-4f2dc9faaa24",
   "metadata": {},
   "outputs": [],
   "source": [
    "from segment_speed_utils.project_vars import (\n",
    "    COMPILED_CACHED_VIEWS,\n",
    "    GTFS_DATA_DICT,\n",
    "    PROJECT_CRS,\n",
    "    RT_SCHED_GCS,\n",
    "    SCHED_GCS,\n",
    "    SEGMENT_GCS,\n",
    ")"
   ]
  },
  {
   "cell_type": "code",
   "execution_count": 8,
   "id": "e4d62840-b9f1-4c57-8052-460327bf52fc",
   "metadata": {},
   "outputs": [],
   "source": [
    "pd.options.display.max_columns = 100\n",
    "pd.options.display.float_format = \"{:.2f}\".format\n",
    "pd.set_option(\"display.max_rows\", None)\n",
    "pd.set_option(\"display.max_colwidth\", None)"
   ]
  },
  {
   "cell_type": "code",
   "execution_count": 9,
   "id": "add67673-a61d-49b6-88e3-d9960344ec93",
   "metadata": {},
   "outputs": [],
   "source": [
    "import _operators_prep as op_prep"
   ]
  },
  {
   "cell_type": "code",
   "execution_count": 10,
   "id": "8f1bdfbd-7060-4dba-8283-ce8434a5f08d",
   "metadata": {},
   "outputs": [],
   "source": [
    "analysis_date_list = rt_dates.y2024_dates + rt_dates.y2023_dates"
   ]
  },
  {
   "cell_type": "markdown",
   "id": "170a90d4-198f-4e9f-9596-00556a16526e",
   "metadata": {},
   "source": [
    "## 11/18: why isn't `deploy_portfolio_yaml` working"
   ]
  },
  {
   "cell_type": "code",
   "execution_count": 11,
   "id": "22be5e20-9658-48cb-bd46-ffa50314b961",
   "metadata": {},
   "outputs": [],
   "source": [
    "df = (\n",
    "    op_prep.operators_schd_vp_rt()\n",
    "    .sort_values([\"caltrans_district\", \"organization_name\"])\n",
    "    .reset_index(drop=True)\n",
    ")"
   ]
  },
  {
   "cell_type": "code",
   "execution_count": 13,
   "id": "a55b8e9e-5529-48fc-b1b5-3bac65f83e43",
   "metadata": {
    "scrolled": true,
    "tags": []
   },
   "outputs": [
    {
     "data": {
      "text/html": [
       "<div>\n",
       "<style scoped>\n",
       "    .dataframe tbody tr th:only-of-type {\n",
       "        vertical-align: middle;\n",
       "    }\n",
       "\n",
       "    .dataframe tbody tr th {\n",
       "        vertical-align: top;\n",
       "    }\n",
       "\n",
       "    .dataframe thead th {\n",
       "        text-align: right;\n",
       "    }\n",
       "</style>\n",
       "<table border=\"1\" class=\"dataframe\">\n",
       "  <thead>\n",
       "    <tr style=\"text-align: right;\">\n",
       "      <th></th>\n",
       "      <th>caltrans_district</th>\n",
       "      <th>organization_name</th>\n",
       "    </tr>\n",
       "  </thead>\n",
       "  <tbody>\n",
       "    <tr>\n",
       "      <th>0</th>\n",
       "      <td>01 - Eureka</td>\n",
       "      <td>Blue Lake Rancheria</td>\n",
       "    </tr>\n",
       "    <tr>\n",
       "      <th>1</th>\n",
       "      <td>01 - Eureka</td>\n",
       "      <td>City of Arcata</td>\n",
       "    </tr>\n",
       "    <tr>\n",
       "      <th>2</th>\n",
       "      <td>01 - Eureka</td>\n",
       "      <td>City of Eureka</td>\n",
       "    </tr>\n",
       "    <tr>\n",
       "      <th>3</th>\n",
       "      <td>01 - Eureka</td>\n",
       "      <td>Curry Public Transit</td>\n",
       "    </tr>\n",
       "    <tr>\n",
       "      <th>4</th>\n",
       "      <td>01 - Eureka</td>\n",
       "      <td>Humboldt Transit Authority</td>\n",
       "    </tr>\n",
       "  </tbody>\n",
       "</table>\n",
       "</div>"
      ],
      "text/plain": [
       "  caltrans_district           organization_name\n",
       "0       01 - Eureka         Blue Lake Rancheria\n",
       "1       01 - Eureka              City of Arcata\n",
       "2       01 - Eureka              City of Eureka\n",
       "3       01 - Eureka        Curry Public Transit\n",
       "4       01 - Eureka  Humboldt Transit Authority"
      ]
     },
     "execution_count": 13,
     "metadata": {},
     "output_type": "execute_result"
    }
   ],
   "source": [
    "df.head()"
   ]
  },
  {
   "cell_type": "code",
   "execution_count": 14,
   "id": "eac404bb-1a2a-4762-bc13-f7ee92c82a44",
   "metadata": {},
   "outputs": [
    {
     "data": {
      "text/plain": [
       "07 - Los Angeles        54\n",
       "04 - Oakland            34\n",
       "03 - Marysville         18\n",
       "10 - Stockton           16\n",
       "05 - San Luis Obispo    12\n",
       "06 - Fresno             12\n",
       "08 - San Bernardino     11\n",
       "01 - Eureka              9\n",
       "02 - Redding             9\n",
       "11 - San Diego           6\n",
       "12 - Irvine              3\n",
       "09 - Bishop              1\n",
       "Name: caltrans_district, dtype: int64"
      ]
     },
     "execution_count": 14,
     "metadata": {},
     "output_type": "execute_result"
    }
   ],
   "source": [
    "df.caltrans_district.value_counts()"
   ]
  },
  {
   "cell_type": "code",
   "execution_count": 1,
   "id": "71bb689b-c8d7-4353-8b92-8bd5c38ee70b",
   "metadata": {},
   "outputs": [],
   "source": [
    "chapter_info = {\n",
    "    \"column\": \"caltrans_district\",\n",
    "    \"name\": \"district\",\n",
    "    \"caption_prefix\": \"District \",\n",
    "    \"caption_suffix\": \"\",\n",
    "}"
   ]
  },
  {
   "cell_type": "code",
   "execution_count": 2,
   "id": "1e23d0a9-52b5-4b44-ad7c-f81ba9f2610f",
   "metadata": {},
   "outputs": [],
   "source": [
    "section_info = {\n",
    "    \"column\": \"organization_name\",\n",
    "    \"name\": \"organization_name\",\n",
    "}"
   ]
  },
  {
   "cell_type": "code",
   "execution_count": 3,
   "id": "7000aded-db1b-4142-9e14-52f1c7f92895",
   "metadata": {},
   "outputs": [],
   "source": [
    "chapter_col = chapter_info[\"column\"]"
   ]
  },
  {
   "cell_type": "code",
   "execution_count": 4,
   "id": "6a4be76c-71d1-4eae-8509-26cc6c315179",
   "metadata": {},
   "outputs": [
    {
     "data": {
      "text/plain": [
       "'caltrans_district'"
      ]
     },
     "execution_count": 4,
     "metadata": {},
     "output_type": "execute_result"
    }
   ],
   "source": [
    "chapter_col"
   ]
  },
  {
   "cell_type": "code",
   "execution_count": 5,
   "id": "0d868043-6705-47a0-9257-ec723767e741",
   "metadata": {},
   "outputs": [
    {
     "ename": "NameError",
     "evalue": "name 'df' is not defined",
     "output_type": "error",
     "traceback": [
      "\u001b[0;31m---------------------------------------------------------------------------\u001b[0m",
      "\u001b[0;31mNameError\u001b[0m                                 Traceback (most recent call last)",
      "Cell \u001b[0;32mIn[5], line 1\u001b[0m\n\u001b[0;32m----> 1\u001b[0m chapter_values \u001b[38;5;241m=\u001b[39m \u001b[38;5;28msorted\u001b[39m(\u001b[38;5;28mlist\u001b[39m(\u001b[43mdf\u001b[49m[chapter_col]\u001b[38;5;241m.\u001b[39munique()))\n",
      "\u001b[0;31mNameError\u001b[0m: name 'df' is not defined"
     ]
    }
   ],
   "source": [
    "chapter_values = sorted(list(df[chapter_col].unique()))"
   ]
  },
  {
   "cell_type": "code",
   "execution_count": null,
   "id": "54970535-8ce1-4a66-9015-9e1e1fdce3d3",
   "metadata": {},
   "outputs": [],
   "source": [
    "import yaml\n",
    "from pathlib import Path"
   ]
  },
  {
   "cell_type": "code",
   "execution_count": null,
   "id": "ba8f5f1c-110f-4e26-b375-3bbeeaf53dcd",
   "metadata": {},
   "outputs": [],
   "source": [
    "PORTFOLIO_SITE_YAML = Path(\"../portfolio/sites/gtfs_digest.yml\")"
   ]
  },
  {
   "cell_type": "code",
   "execution_count": null,
   "id": "3ac691d8-c703-49a0-90dd-6f1c0c2e758d",
   "metadata": {},
   "outputs": [],
   "source": [
    "prefix = chapter_info[\"caption_prefix\"]"
   ]
  },
  {
   "cell_type": "code",
   "execution_count": null,
   "id": "c2d114f0-3fc3-4516-9062-f5dd58526604",
   "metadata": {},
   "outputs": [],
   "source": [
    "section_col = section_info[\"column\"]"
   ]
  },
  {
   "cell_type": "code",
   "execution_count": null,
   "id": "c7d10759-ff4f-4ae5-89e9-065711fc61ee",
   "metadata": {},
   "outputs": [],
   "source": [
    "with open(PORTFOLIO_SITE_YAML) as f:\n",
    "        site_yaml_dict = yaml.load(f, yaml.Loader)"
   ]
  },
  {
   "cell_type": "code",
   "execution_count": null,
   "id": "fb27fff8-e9da-4ac4-a2ce-8c459f7fb680",
   "metadata": {},
   "outputs": [],
   "source": [
    "chapters_list = []\n",
    "for district in chapter_values:\n",
    "    df2 = df.loc[df.caltrans_district == district]\n",
    "    chapters_list_one_district = [\n",
    "    {\n",
    "        **{\n",
    "            \"caption\": f\"{prefix} {district}\",\n",
    "            \"params\": {chapter_info[\"name\"]: district},\n",
    "            \"section\": [\n",
    "                {section_info[\"name\"]: one_section_value}\n",
    "                for one_section_value in df2[section_col].unique().tolist()\n",
    "            ],\n",
    "        }\n",
    "    }]\n",
    "    chapters_list.append(chapters_list_one_district)"
   ]
  },
  {
   "cell_type": "code",
   "execution_count": null,
   "id": "0b4089ef-7198-4634-a4fb-701e5afaad3e",
   "metadata": {
    "tags": []
   },
   "outputs": [],
   "source": [
    "chapters_list[0]"
   ]
  },
  {
   "cell_type": "code",
   "execution_count": null,
   "id": "dbf1371b-1f39-4852-a089-e7d881c51cf2",
   "metadata": {},
   "outputs": [],
   "source": [
    "parts_list = [{\"chapters\": chapters_list}]"
   ]
  },
  {
   "cell_type": "code",
   "execution_count": null,
   "id": "7e0424b4-df3e-4040-adc4-e41cf31cbc76",
   "metadata": {},
   "outputs": [],
   "source": [
    "type(parts_list)"
   ]
  },
  {
   "cell_type": "code",
   "execution_count": null,
   "id": "9c46a82d-bfbf-458a-874c-09dd5fc80aa5",
   "metadata": {},
   "outputs": [],
   "source": [
    "site_yaml_dict[\"parts\"] = parts_list"
   ]
  },
  {
   "cell_type": "code",
   "execution_count": null,
   "id": "64c6f013-ae11-4302-937b-598200ea51dd",
   "metadata": {
    "scrolled": true,
    "tags": []
   },
   "outputs": [],
   "source": [
    "site_yaml_dict"
   ]
  },
  {
   "cell_type": "code",
   "execution_count": null,
   "id": "723e327e-adaf-4d02-bed3-7c0b6441d4ce",
   "metadata": {},
   "outputs": [],
   "source": [
    "output = yaml.dump(site_yaml_dict)"
   ]
  },
  {
   "cell_type": "code",
   "execution_count": null,
   "id": "14af16b8-e000-4d90-a33b-edfb51ef2e24",
   "metadata": {},
   "outputs": [],
   "source": [
    "with open(PORTFOLIO_SITE_YAML, \"w\") as f:\n",
    "        f.write(output)"
   ]
  },
  {
   "cell_type": "markdown",
   "id": "1a4bfd56-4a63-4fe6-9a94-e8f00c35672e",
   "metadata": {},
   "source": [
    "## 11/18: double check the yaml generation"
   ]
  },
  {
   "cell_type": "code",
   "execution_count": null,
   "id": "ce05fcb7-e942-46da-9c62-fae4270e30d0",
   "metadata": {},
   "outputs": [],
   "source": [
    "stop"
   ]
  },
  {
   "cell_type": "code",
   "execution_count": null,
   "id": "e79430d9-98cc-4fb9-b314-f3460b0ef374",
   "metadata": {
    "scrolled": true,
    "tags": []
   },
   "outputs": [],
   "source": [
    "schd_vp_url = f\"{GTFS_DATA_DICT.digest_tables.dir}{GTFS_DATA_DICT.digest_tables.route_schedule_vp}.parquet\""
   ]
  },
  {
   "cell_type": "code",
   "execution_count": null,
   "id": "f6dbfc2e-94da-459f-9c9b-7979f6a58b47",
   "metadata": {},
   "outputs": [],
   "source": [
    "schd_vp_df = pd.read_parquet(\n",
    "    schd_vp_url,\n",
    "    filters=[[(\"sched_rt_category\", \"in\", [\"schedule_and_vp\", \"schedule_only\"])]],\n",
    "    columns=[\n",
    "        \"schedule_gtfs_dataset_key\",\n",
    "        \"caltrans_district\",\n",
    "        \"organization_name\",\n",
    "        \"name\",\n",
    "        \"sched_rt_category\",\n",
    "        \"service_date\",\n",
    "    ],\n",
    ")"
   ]
  },
  {
   "cell_type": "code",
   "execution_count": null,
   "id": "fcadf465-d402-4abb-aa41-cbbd2108a2fd",
   "metadata": {},
   "outputs": [],
   "source": [
    "schd_vp_df.shape"
   ]
  },
  {
   "cell_type": "code",
   "execution_count": null,
   "id": "a5dd6dfe-6a30-45dd-93dc-3fb7744257ec",
   "metadata": {},
   "outputs": [],
   "source": [
    "schd_vp_df.sched_rt_category.value_counts()"
   ]
  },
  {
   "cell_type": "code",
   "execution_count": null,
   "id": "e5d6ef71-1071-47ab-b54f-bf074a6ec8e0",
   "metadata": {},
   "outputs": [],
   "source": [
    "schd_vp_df.info()"
   ]
  },
  {
   "cell_type": "code",
   "execution_count": null,
   "id": "e940ddbf-3921-4507-a3a0-f46ecc926a0d",
   "metadata": {},
   "outputs": [],
   "source": [
    "schd_vp_df.loc[schd_vp_df.caltrans_district.isna()][\n",
    "    [\"organization_name\"]\n",
    "].drop_duplicates()"
   ]
  },
  {
   "cell_type": "code",
   "execution_count": null,
   "id": "b0a79b60-5d57-4cc6-b3cf-f787543ceed5",
   "metadata": {},
   "outputs": [],
   "source": [
    "schd_vp_df2 = (\n",
    "    schd_vp_df.dropna(subset=\"caltrans_district\")\n",
    "    .sort_values(\n",
    "        by=[\n",
    "            \"caltrans_district\",\n",
    "            \"organization_name\",\n",
    "            \"service_date\",\n",
    "        ],\n",
    "        ascending=[True, True, False],\n",
    "    )\n",
    "    .drop_duplicates(\n",
    "        subset=[\n",
    "            \"organization_name\",\n",
    "            \"caltrans_district\",\n",
    "        ]\n",
    "    )\n",
    "    .reset_index(drop=True)\n",
    ")"
   ]
  },
  {
   "cell_type": "code",
   "execution_count": null,
   "id": "f2472526-d9fb-44f6-a26c-6307aacfcfcd",
   "metadata": {},
   "outputs": [],
   "source": [
    "schd_vp_df2.shape"
   ]
  },
  {
   "cell_type": "code",
   "execution_count": null,
   "id": "5105c734-125b-4f98-a5ec-bab129ff0ec9",
   "metadata": {},
   "outputs": [],
   "source": [
    "schd_vp_df2.sched_rt_category.value_counts()"
   ]
  },
  {
   "cell_type": "code",
   "execution_count": null,
   "id": "ec2fc51c-6600-4ddc-ae60-7d6146d2077a",
   "metadata": {},
   "outputs": [],
   "source": [
    "schd_vp_df2.organization_name.nunique()"
   ]
  },
  {
   "cell_type": "code",
   "execution_count": null,
   "id": "37928fb8-e6a7-4110-95db-92f3f87cd2f2",
   "metadata": {},
   "outputs": [],
   "source": [
    "schd_vp_df2.service_date.value_counts()"
   ]
  },
  {
   "cell_type": "code",
   "execution_count": null,
   "id": "8dcc6b3e-7bb7-4e42-9b69-fc2eb5495790",
   "metadata": {
    "scrolled": true,
    "tags": []
   },
   "outputs": [],
   "source": [
    "# schd_vp_df2"
   ]
  },
  {
   "cell_type": "code",
   "execution_count": null,
   "id": "19319f4b-800a-4e4a-b499-503361b34e89",
   "metadata": {},
   "outputs": [],
   "source": [
    "df = (\n",
    "    op_prep.operators_schd_vp_rt()\n",
    "    .sort_values([\"caltrans_district\", \"organization_name\"])\n",
    "    .reset_index(drop=True)\n",
    ")"
   ]
  },
  {
   "cell_type": "code",
   "execution_count": null,
   "id": "6e988f1d-3be2-4e00-8335-ea09f21d6e8d",
   "metadata": {
    "scrolled": true,
    "tags": []
   },
   "outputs": [],
   "source": [
    "df"
   ]
  },
  {
   "cell_type": "code",
   "execution_count": null,
   "id": "bceec767-4a3f-439c-927d-9dc585e1f45a",
   "metadata": {},
   "outputs": [],
   "source": []
  }
 ],
 "metadata": {
  "kernelspec": {
   "display_name": "Python 3 (ipykernel)",
   "language": "python",
   "name": "python3"
  },
  "language_info": {
   "codemirror_mode": {
    "name": "ipython",
    "version": 3
   },
   "file_extension": ".py",
   "mimetype": "text/x-python",
   "name": "python",
   "nbconvert_exporter": "python",
   "pygments_lexer": "ipython3",
   "version": "3.9.13"
  }
 },
 "nbformat": 4,
 "nbformat_minor": 5
}
