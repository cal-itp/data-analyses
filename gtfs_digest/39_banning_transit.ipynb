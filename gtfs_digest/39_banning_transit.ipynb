{
 "cells": [
  {
   "cell_type": "markdown",
   "id": "fd5ba118-0e76-4f1a-80e5-7b38ca2c7326",
   "metadata": {},
   "source": [
    "## Banning Transit is missing\n",
    "[PR](https://github.com/cal-itp/data-analyses/issues/1254)"
   ]
  },
  {
   "cell_type": "code",
   "execution_count": null,
   "id": "015badf6-92d5-48d6-ae38-11a6d3a52765",
   "metadata": {},
   "outputs": [],
   "source": [
    "import geopandas as gpd\n",
    "import merge_data\n",
    "import numpy as np\n",
    "import pandas as pd\n",
    "from segment_speed_utils import gtfs_schedule_wrangling, helpers, time_series_utils\n",
    "from shared_utils import catalog_utils, rt_dates, rt_utils\n",
    "from update_vars import GTFS_DATA_DICT, RT_SCHED_GCS, SCHED_GCS"
   ]
  },
  {
   "cell_type": "code",
   "execution_count": null,
   "id": "6fa53d45-8913-4bf6-aae1-4f2dc9faaa24",
   "metadata": {},
   "outputs": [],
   "source": [
    "from segment_speed_utils.project_vars import (\n",
    "    COMPILED_CACHED_VIEWS,\n",
    "    GTFS_DATA_DICT,\n",
    "    PROJECT_CRS,\n",
    "    RT_SCHED_GCS,\n",
    "    SCHED_GCS,\n",
    "    SEGMENT_GCS,\n",
    ")"
   ]
  },
  {
   "cell_type": "code",
   "execution_count": null,
   "id": "e4d62840-b9f1-4c57-8052-460327bf52fc",
   "metadata": {},
   "outputs": [],
   "source": [
    "pd.options.display.max_columns = 100\n",
    "pd.options.display.float_format = \"{:.2f}\".format\n",
    "pd.set_option(\"display.max_rows\", None)\n",
    "pd.set_option(\"display.max_colwidth\", None)"
   ]
  },
  {
   "cell_type": "code",
   "execution_count": null,
   "id": "add67673-a61d-49b6-88e3-d9960344ec93",
   "metadata": {},
   "outputs": [],
   "source": [
    "import _operators_prep as op_prep"
   ]
  },
  {
   "cell_type": "code",
   "execution_count": null,
   "id": "8f1bdfbd-7060-4dba-8283-ce8434a5f08d",
   "metadata": {},
   "outputs": [],
   "source": [
    "analysis_date_list = rt_dates.y2024_dates + rt_dates.y2023_dates"
   ]
  },
  {
   "cell_type": "code",
   "execution_count": null,
   "id": "f11c9ed8-58f2-4520-9862-69a56b8c09c6",
   "metadata": {},
   "outputs": [],
   "source": [
    "analysis_date_list"
   ]
  },
  {
   "cell_type": "markdown",
   "id": "eb94b123-4ad4-48ae-a419-74b8e825c885",
   "metadata": {},
   "source": [
    "### What's in `gtfs_funnel/crosswalk_gtfs.../`"
   ]
  },
  {
   "cell_type": "code",
   "execution_count": null,
   "id": "2541d7f4-7a3e-445b-9172-740bfbcd068d",
   "metadata": {},
   "outputs": [],
   "source": [
    "from shared_utils import schedule_rt_utils"
   ]
  },
  {
   "cell_type": "code",
   "execution_count": null,
   "id": "cbd33b07-3652-49f5-ae34-278487b8940b",
   "metadata": {},
   "outputs": [],
   "source": [
    "analysis_date = \"2024-10-16\""
   ]
  },
  {
   "cell_type": "code",
   "execution_count": null,
   "id": "bdc6218f-382c-49aa-949b-f418f8e5778a",
   "metadata": {},
   "outputs": [],
   "source": [
    "imported_trips_df = helpers.import_scheduled_trips(\n",
    "    analysis_date, columns=[\"gtfs_dataset_key\", \"name\"], get_pandas=True\n",
    ").rename(columns={\"schedule_gtfs_dataset_key\": \"gtfs_dataset_key\"})"
   ]
  },
  {
   "cell_type": "code",
   "execution_count": null,
   "id": "57d46b0b-ece7-4c38-9c1d-6bdad38e0291",
   "metadata": {},
   "outputs": [],
   "source": [
    "imported_trips_df.head(2)"
   ]
  },
  {
   "cell_type": "code",
   "execution_count": null,
   "id": "d0c74c4c-44fa-42fb-8ce8-5b5d3b8ac6c0",
   "metadata": {},
   "outputs": [],
   "source": [
    "crosswalk = schedule_rt_utils.sample_gtfs_dataset_key_to_organization_crosswalk(\n",
    "    imported_trips_df,\n",
    "    analysis_date,\n",
    "    quartet_data=\"schedule\",\n",
    "    dim_gtfs_dataset_cols=[\"key\", \"source_record_id\", \"base64_url\"],\n",
    "    dim_organization_cols=[\n",
    "        \"source_record_id\",\n",
    "        \"name\",\n",
    "        \"itp_id\",\n",
    "        \"caltrans_district\",\n",
    "        \"ntd_id_2022\",\n",
    "    ],\n",
    ")"
   ]
  },
  {
   "cell_type": "code",
   "execution_count": null,
   "id": "bee4ada4-6e93-4d09-a31b-d9f61ab89424",
   "metadata": {},
   "outputs": [],
   "source": [
    "crosswalk.head(2)"
   ]
  },
  {
   "cell_type": "markdown",
   "id": "32881c76-e982-4197-adc4-2f649f7c7da1",
   "metadata": {},
   "source": [
    "#### Fix at crosswalk `filter_dim_organizations` is where caltrans_district is brought in"
   ]
  },
  {
   "cell_type": "code",
   "execution_count": null,
   "id": "64638133-69b4-422b-a1ee-9c23c9951bc2",
   "metadata": {},
   "outputs": [],
   "source": [
    "dim_organization_cols: list[str] = [\"source_record_id\", \"name\", \"caltrans_district\"]"
   ]
  },
  {
   "cell_type": "code",
   "execution_count": null,
   "id": "678dc146-325c-4dd2-883b-a42024e2d7bc",
   "metadata": {},
   "outputs": [],
   "source": [
    "orgs = schedule_rt_utils.filter_dim_organizations(\n",
    "    analysis_date, keep_cols=dim_organization_cols, get_df=True\n",
    ")"
   ]
  },
  {
   "cell_type": "code",
   "execution_count": null,
   "id": "034d06b0-dd6f-4414-94d5-6b4f189938b5",
   "metadata": {},
   "outputs": [],
   "source": [
    "orgs.info()"
   ]
  },
  {
   "cell_type": "code",
   "execution_count": null,
   "id": "b9d0ecd4-abb5-4035-9dea-febae70469cf",
   "metadata": {},
   "outputs": [],
   "source": [
    "orgs.loc[orgs.name.str.contains(\"Banning\")]"
   ]
  },
  {
   "cell_type": "markdown",
   "id": "9de60a63-0805-416c-8ca1-b734a882d177",
   "metadata": {},
   "source": [
    "### Edited crosswalk in `gtfs_funnel`: manually added Districts"
   ]
  },
  {
   "cell_type": "code",
   "execution_count": null,
   "id": "5748fbca-a390-44a8-8baa-20e58f9a702d",
   "metadata": {},
   "outputs": [],
   "source": [
    "SCHED_GCS"
   ]
  },
  {
   "cell_type": "code",
   "execution_count": null,
   "id": "c149c7c1-f7bb-4591-b100-654549c1abf9",
   "metadata": {},
   "outputs": [],
   "source": [
    "GTFS_DATA_DICT.schedule_tables.gtfs_key_crosswalk"
   ]
  },
  {
   "cell_type": "code",
   "execution_count": null,
   "id": "877f5807-cbf8-4c38-a76c-da137ce0370b",
   "metadata": {},
   "outputs": [],
   "source": [
    "url = \"gs://calitp-analytics-data/data-analyses/gtfs_schedule/crosswalk/gtfs_key_organization_2024-10-21.parquet\""
   ]
  },
  {
   "cell_type": "code",
   "execution_count": null,
   "id": "df074ee5-181f-4c7f-8f23-167d3e046e96",
   "metadata": {},
   "outputs": [],
   "source": [
    "crosswalk_oct_31 = pd.read_parquet(url)"
   ]
  },
  {
   "cell_type": "code",
   "execution_count": null,
   "id": "cf33e53e-dd83-4268-9e7a-8e3647cd4278",
   "metadata": {},
   "outputs": [],
   "source": [
    "crosswalk_oct_31.loc[crosswalk_oct_31.name.str.contains(\"Ban\")]"
   ]
  },
  {
   "cell_type": "code",
   "execution_count": null,
   "id": "8e42d073-a249-4557-9ca4-b128cddf1891",
   "metadata": {},
   "outputs": [],
   "source": [
    "url2 = \"gs://calitp-analytics-data/data-analyses/gtfs_schedule/crosswalk/gtfs_key_organization_2024-04-15.parquet\""
   ]
  },
  {
   "cell_type": "code",
   "execution_count": null,
   "id": "2a72758a-ad20-4488-b60c-47f8b8b0bdd9",
   "metadata": {},
   "outputs": [],
   "source": [
    "crosswalk_apr_15 = pd.read_parquet(url2)"
   ]
  },
  {
   "cell_type": "code",
   "execution_count": null,
   "id": "794ab87f-6887-48c6-86c3-37fe01912078",
   "metadata": {},
   "outputs": [],
   "source": [
    "crosswalk_apr_15.loc[crosswalk_apr_15.name.str.contains(\"Ban\")].organization_name"
   ]
  },
  {
   "cell_type": "markdown",
   "id": "6d6d66d6-44de-48d6-8595-b1973f70ae25",
   "metadata": {},
   "source": [
    "### `Merge_date`\n",
    "#### Stack all the new crosswalks"
   ]
  },
  {
   "cell_type": "code",
   "execution_count": null,
   "id": "43c1554e-7546-4cae-bc59-f890fe0b6f6f",
   "metadata": {},
   "outputs": [],
   "source": [
    "stack_crossawlk = merge_data.concatenate_crosswalk_organization(analysis_date_list)"
   ]
  },
  {
   "cell_type": "code",
   "execution_count": null,
   "id": "98880fd6-aaf3-4a43-940a-01c81a748644",
   "metadata": {},
   "outputs": [],
   "source": [
    "stack_crossawlk.service_date.nunique()"
   ]
  },
  {
   "cell_type": "code",
   "execution_count": null,
   "id": "9f45a1f7-d6ca-4295-ba47-34ec5f064738",
   "metadata": {},
   "outputs": [],
   "source": [
    "banning_only = stack_crossawlk.loc[stack_crossawlk.name.str.contains(\"Banning\")]"
   ]
  },
  {
   "cell_type": "code",
   "execution_count": null,
   "id": "312a60f5-0f4a-461d-9388-b2b8f96cff5b",
   "metadata": {},
   "outputs": [],
   "source": [
    "banning_only[\n",
    "    [\"service_date\", \"organization_name\", \"schedule_gtfs_dataset_key\", \"name\"]\n",
    "].drop_duplicates().sort_values(by=[\"service_date\"])"
   ]
  },
  {
   "cell_type": "markdown",
   "id": "5ebc63e6-3b41-4181-840e-bc6a4911d67e",
   "metadata": {},
   "source": [
    "#### Try to find Banning in `df_schedule`"
   ]
  },
  {
   "cell_type": "code",
   "execution_count": null,
   "id": "a6c7f470-748b-492d-aa1d-2a4339cb1ded",
   "metadata": {},
   "outputs": [],
   "source": [
    "df_sched = merge_data.concatenate_schedule_by_route_direction(analysis_date_list)"
   ]
  },
  {
   "cell_type": "code",
   "execution_count": null,
   "id": "014b3acc-9309-41d1-a4e0-f111e6295be2",
   "metadata": {},
   "outputs": [],
   "source": [
    "df_sched.service_date.nunique()"
   ]
  },
  {
   "cell_type": "code",
   "execution_count": null,
   "id": "f6dbfc2e-94da-459f-9c9b-7979f6a58b47",
   "metadata": {},
   "outputs": [],
   "source": [
    "df_sched.head(1)"
   ]
  },
  {
   "cell_type": "code",
   "execution_count": null,
   "id": "fcadf465-d402-4abb-aa41-cbbd2108a2fd",
   "metadata": {},
   "outputs": [],
   "source": [
    "banning_only_df_sched = df_sched.loc[\n",
    "    df_sched.schedule_gtfs_dataset_key.str.contains(\"ebc783bace70899492d6206c352547d6\")\n",
    "]"
   ]
  },
  {
   "cell_type": "code",
   "execution_count": null,
   "id": "a5dd6dfe-6a30-45dd-93dc-3fb7744257ec",
   "metadata": {},
   "outputs": [],
   "source": [
    "banning_only_df_sched[\n",
    "    [\"service_date\", \"schedule_gtfs_dataset_key\"]\n",
    "].drop_duplicates().sort_values(by=[\"service_date\"])"
   ]
  },
  {
   "cell_type": "markdown",
   "id": "9d9c6b3f-293c-45b9-a77b-0d0c9f7c8501",
   "metadata": {},
   "source": [
    "#### Try to find Banning in `df_rt_sched`"
   ]
  },
  {
   "cell_type": "code",
   "execution_count": null,
   "id": "689e4e0a-baae-49d2-8b6b-524d14cef6f9",
   "metadata": {},
   "outputs": [],
   "source": [
    "df_rt_sched = merge_data.concatenate_rt_vs_schedule_by_route_direction(\n",
    "    analysis_date_list\n",
    ")"
   ]
  },
  {
   "cell_type": "code",
   "execution_count": null,
   "id": "2c7bea56-e2ae-421b-ba3b-085fe486a20a",
   "metadata": {},
   "outputs": [],
   "source": [
    "df_rt_sched.head(1)"
   ]
  },
  {
   "cell_type": "code",
   "execution_count": null,
   "id": "dfda5ed1-21db-484b-aee2-b4de9bc101d4",
   "metadata": {},
   "outputs": [],
   "source": [
    "banning_only_df_rt_sched = df_rt_sched.loc[df_rt_sched.name.str.contains(\"Banning\")]"
   ]
  },
  {
   "cell_type": "code",
   "execution_count": null,
   "id": "984406db-a1f0-4e13-8470-9d4b550936d3",
   "metadata": {},
   "outputs": [],
   "source": [
    "banning_only_df_rt_sched.head(1)"
   ]
  },
  {
   "cell_type": "code",
   "execution_count": null,
   "id": "139a59eb-8210-45d5-a9d4-3213894364ea",
   "metadata": {},
   "outputs": [],
   "source": [
    "banning_only_df_rt_sched[\n",
    "    [\"service_date\", \"schedule_gtfs_dataset_key\", \"name\"]\n",
    "].drop_duplicates().sort_values(by=[\"service_date\"])"
   ]
  },
  {
   "cell_type": "markdown",
   "id": "657f7890-0338-4168-97b1-adfb507b0ef5",
   "metadata": {},
   "source": [
    "## Read in file after rerunning `merge_data`"
   ]
  },
  {
   "cell_type": "code",
   "execution_count": null,
   "id": "b2d708c4-9306-4587-8da2-8a8adfc570fc",
   "metadata": {},
   "outputs": [],
   "source": [
    "DIGEST_RT_SCHED = GTFS_DATA_DICT.digest_tables.route_schedule_vp\n",
    "DIGEST_SEGMENT_SPEEDS = GTFS_DATA_DICT.digest_tables.route_segment_speeds"
   ]
  },
  {
   "cell_type": "code",
   "execution_count": null,
   "id": "364a9b7e-6011-4fd5-a41c-3c05a344ba3a",
   "metadata": {},
   "outputs": [],
   "source": [
    "f\"{RT_SCHED_GCS}{DIGEST_RT_SCHED}.parquet\""
   ]
  },
  {
   "cell_type": "code",
   "execution_count": null,
   "id": "46dae40f-54bd-4528-8981-2d5baeca1f8f",
   "metadata": {},
   "outputs": [],
   "source": [
    "f\"{GTFS_DATA_DICT.digest_tables.dir}{GTFS_DATA_DICT.digest_tables.route_schedule_vp}.parquet\""
   ]
  },
  {
   "cell_type": "code",
   "execution_count": null,
   "id": "d600eae4-7d26-4aa6-8d85-89f308b7a7d1",
   "metadata": {},
   "outputs": [],
   "source": [
    "final = pd.read_parquet(f\"{RT_SCHED_GCS}{DIGEST_RT_SCHED}.parquet\")"
   ]
  },
  {
   "cell_type": "code",
   "execution_count": null,
   "id": "bed74785-db8b-467b-94b6-f0786bb77816",
   "metadata": {},
   "outputs": [],
   "source": [
    "final.head(1)"
   ]
  },
  {
   "cell_type": "markdown",
   "id": "ae3e9611-3240-4281-b98c-570916348e60",
   "metadata": {},
   "source": [
    "### Banning is here"
   ]
  },
  {
   "cell_type": "code",
   "execution_count": null,
   "id": "291c43f9-b3a4-4251-9bbe-44da4c8ead4b",
   "metadata": {
    "scrolled": true,
    "tags": []
   },
   "outputs": [],
   "source": [
    "final[\n",
    "    [\n",
    "        \"organization_name\",\n",
    "        \"caltrans_district\",\n",
    "        \"name\",\n",
    "        \"sched_rt_category\",\n",
    "        \"service_date\",\n",
    "    ]\n",
    "].drop_duplicates().sort_values(by=[\"organization_name\"])"
   ]
  },
  {
   "cell_type": "markdown",
   "id": "16627518-a7f7-4219-a269-6816ba807ef7",
   "metadata": {},
   "source": [
    "## I also want to edit this so if an agency that consistently produces RT or schedule data misses a month or two, they will still show up on the portfolio"
   ]
  },
  {
   "cell_type": "code",
   "execution_count": null,
   "id": "6e2a37be-1e6f-4623-b724-32c6922ab3f0",
   "metadata": {},
   "outputs": [],
   "source": [
    "schd_vp_url = f\"{GTFS_DATA_DICT.digest_tables.dir}{GTFS_DATA_DICT.digest_tables.route_schedule_vp}.parquet\"\n",
    "\n",
    "schd_vp_df = pd.read_parquet(\n",
    "    schd_vp_url,\n",
    "    filters=[[(\"sched_rt_category\", \"in\", [\"schedule_and_vp\", \"schedule_only\"])]],\n",
    "    columns=[\n",
    "        \"schedule_gtfs_dataset_key\",\n",
    "        \"caltrans_district\",\n",
    "        \"organization_name\",\n",
    "        \"name\",\n",
    "        \"sched_rt_category\",\n",
    "        \"service_date\",\n",
    "    ],\n",
    ")"
   ]
  },
  {
   "cell_type": "code",
   "execution_count": null,
   "id": "885adef5-ae83-4408-b8ac-cf2585445a7a",
   "metadata": {},
   "outputs": [],
   "source": [
    "schd_vp_df2 = (\n",
    "    schd_vp_df.dropna(subset=\"caltrans_district\")\n",
    "    .sort_values(\n",
    "        by=[\n",
    "            \"caltrans_district\",\n",
    "            \"organization_name\",\n",
    "            \"service_date\",\n",
    "        ],\n",
    "        ascending=[True, True, False],\n",
    "    )\n",
    "    .drop_duplicates(\n",
    "        subset=[\n",
    "            \"organization_name\",\n",
    "            \"caltrans_district\",\n",
    "        ]\n",
    "    )\n",
    "    .reset_index(drop=True)\n",
    ")"
   ]
  },
  {
   "cell_type": "code",
   "execution_count": null,
   "id": "0285b072-c464-4d22-96c3-a673fdeff970",
   "metadata": {},
   "outputs": [],
   "source": [
    "schd_vp_df2.loc[schd_vp_df2.organization_name.str.contains(\"Banning\")]"
   ]
  },
  {
   "cell_type": "code",
   "execution_count": null,
   "id": "80b37452-f5e8-465b-b1c3-1834a9f5e9d2",
   "metadata": {},
   "outputs": [],
   "source": [
    "schd_vp_df2.organization_name.value_counts().describe()"
   ]
  },
  {
   "cell_type": "code",
   "execution_count": null,
   "id": "271ae1d4-9a44-4ea5-bcf0-f904f70d5c4d",
   "metadata": {},
   "outputs": [],
   "source": [
    "schd_vp_df2.service_date.unique()"
   ]
  },
  {
   "cell_type": "code",
   "execution_count": null,
   "id": "c55dd947-557f-4ebb-bcc6-417b5f531874",
   "metadata": {},
   "outputs": [],
   "source": [
    "schd_vp_df2.service_date.value_counts()"
   ]
  },
  {
   "cell_type": "code",
   "execution_count": null,
   "id": "655aa2d2-0520-45cc-a2cb-f16625d7eddd",
   "metadata": {},
   "outputs": [],
   "source": [
    "schd_vp_df2.loc[schd_vp_df2.service_date == \"2024-02-14\"]"
   ]
  },
  {
   "cell_type": "markdown",
   "id": "c9af7925-b11c-4080-926f-30244b78e951",
   "metadata": {},
   "source": [
    "## Forgot why I need `operator_profiles`"
   ]
  },
  {
   "cell_type": "code",
   "execution_count": null,
   "id": "ea7dc760-5127-40b6-966f-d4dfc44933f9",
   "metadata": {},
   "outputs": [],
   "source": [
    "operator_profiles = op_prep.operator_profiles()"
   ]
  },
  {
   "cell_type": "code",
   "execution_count": null,
   "id": "e0b521aa-d1d7-4c49-905a-0390e3f8d36c",
   "metadata": {
    "scrolled": true,
    "tags": []
   },
   "outputs": [],
   "source": [
    "operator_profiles"
   ]
  }
 ],
 "metadata": {
  "kernelspec": {
   "display_name": "Python 3 (ipykernel)",
   "language": "python",
   "name": "python3"
  },
  "language_info": {
   "codemirror_mode": {
    "name": "ipython",
    "version": 3
   },
   "file_extension": ".py",
   "mimetype": "text/x-python",
   "name": "python",
   "nbconvert_exporter": "python",
   "pygments_lexer": "ipython3",
   "version": "3.9.13"
  }
 },
 "nbformat": 4,
 "nbformat_minor": 5
}
