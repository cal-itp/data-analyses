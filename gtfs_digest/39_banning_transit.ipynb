{
 "cells": [
  {
   "cell_type": "markdown",
   "id": "fd5ba118-0e76-4f1a-80e5-7b38ca2c7326",
   "metadata": {},
   "source": [
    "## Banning Transit is missing\n",
    "[PR](https://github.com/cal-itp/data-analyses/issues/1254)"
   ]
  },
  {
   "cell_type": "code",
   "execution_count": 1,
   "id": "015badf6-92d5-48d6-ae38-11a6d3a52765",
   "metadata": {},
   "outputs": [],
   "source": [
    "import geopandas as gpd\n",
    "import merge_data\n",
    "import numpy as np\n",
    "import pandas as pd\n",
    "from segment_speed_utils import gtfs_schedule_wrangling, helpers, time_series_utils\n",
    "from shared_utils import catalog_utils, rt_dates, rt_utils\n",
    "from update_vars import GTFS_DATA_DICT, RT_SCHED_GCS, SCHED_GCS"
   ]
  },
  {
   "cell_type": "code",
   "execution_count": 2,
   "id": "6fa53d45-8913-4bf6-aae1-4f2dc9faaa24",
   "metadata": {},
   "outputs": [],
   "source": [
    "from segment_speed_utils.project_vars import (\n",
    "    COMPILED_CACHED_VIEWS,\n",
    "    GTFS_DATA_DICT,\n",
    "    PROJECT_CRS,\n",
    "    RT_SCHED_GCS,\n",
    "    SCHED_GCS,\n",
    "    SEGMENT_GCS,\n",
    ")"
   ]
  },
  {
   "cell_type": "code",
   "execution_count": 3,
   "id": "e4d62840-b9f1-4c57-8052-460327bf52fc",
   "metadata": {},
   "outputs": [],
   "source": [
    "pd.options.display.max_columns = 100\n",
    "pd.options.display.float_format = \"{:.2f}\".format\n",
    "pd.set_option(\"display.max_rows\", None)\n",
    "pd.set_option(\"display.max_colwidth\", None)"
   ]
  },
  {
   "cell_type": "code",
   "execution_count": 4,
   "id": "add67673-a61d-49b6-88e3-d9960344ec93",
   "metadata": {},
   "outputs": [],
   "source": [
    "import _operators_prep as op_prep"
   ]
  },
  {
   "cell_type": "code",
   "execution_count": 5,
   "id": "8f1bdfbd-7060-4dba-8283-ce8434a5f08d",
   "metadata": {},
   "outputs": [],
   "source": [
    "analysis_date_list = rt_dates.y2024_dates + rt_dates.y2023_dates"
   ]
  },
  {
   "cell_type": "code",
   "execution_count": 6,
   "id": "f11c9ed8-58f2-4520-9862-69a56b8c09c6",
   "metadata": {},
   "outputs": [
    {
     "data": {
      "text/plain": [
       "['2024-01-17',\n",
       " '2024-02-14',\n",
       " '2024-03-13',\n",
       " '2024-04-17',\n",
       " '2024-05-22',\n",
       " '2024-06-12',\n",
       " '2024-07-17',\n",
       " '2024-08-14',\n",
       " '2024-09-18',\n",
       " '2024-10-16',\n",
       " '2023-03-15',\n",
       " '2023-04-12',\n",
       " '2023-05-17',\n",
       " '2023-06-14',\n",
       " '2023-07-12',\n",
       " '2023-08-15',\n",
       " '2023-09-13',\n",
       " '2023-10-11',\n",
       " '2023-11-15',\n",
       " '2023-12-13']"
      ]
     },
     "execution_count": 6,
     "metadata": {},
     "output_type": "execute_result"
    }
   ],
   "source": [
    "analysis_date_list"
   ]
  },
  {
   "cell_type": "markdown",
   "id": "eb94b123-4ad4-48ae-a419-74b8e825c885",
   "metadata": {},
   "source": [
    "### What's in `gtfs_funnel/crosswalk_gtfs.../`"
   ]
  },
  {
   "cell_type": "code",
   "execution_count": 7,
   "id": "2541d7f4-7a3e-445b-9172-740bfbcd068d",
   "metadata": {},
   "outputs": [],
   "source": [
    "from shared_utils import schedule_rt_utils"
   ]
  },
  {
   "cell_type": "code",
   "execution_count": 8,
   "id": "cbd33b07-3652-49f5-ae34-278487b8940b",
   "metadata": {},
   "outputs": [],
   "source": [
    "analysis_date = \"2024-10-16\""
   ]
  },
  {
   "cell_type": "code",
   "execution_count": 9,
   "id": "bdc6218f-382c-49aa-949b-f418f8e5778a",
   "metadata": {},
   "outputs": [],
   "source": [
    "imported_trips_df = helpers.import_scheduled_trips(\n",
    "    analysis_date, columns=[\"gtfs_dataset_key\", \"name\"], get_pandas=True\n",
    ").rename(columns={\"schedule_gtfs_dataset_key\": \"gtfs_dataset_key\"})"
   ]
  },
  {
   "cell_type": "code",
   "execution_count": 10,
   "id": "57d46b0b-ece7-4c38-9c1d-6bdad38e0291",
   "metadata": {},
   "outputs": [
    {
     "data": {
      "text/html": [
       "<div>\n",
       "<style scoped>\n",
       "    .dataframe tbody tr th:only-of-type {\n",
       "        vertical-align: middle;\n",
       "    }\n",
       "\n",
       "    .dataframe tbody tr th {\n",
       "        vertical-align: top;\n",
       "    }\n",
       "\n",
       "    .dataframe thead th {\n",
       "        text-align: right;\n",
       "    }\n",
       "</style>\n",
       "<table border=\"1\" class=\"dataframe\">\n",
       "  <thead>\n",
       "    <tr style=\"text-align: right;\">\n",
       "      <th></th>\n",
       "      <th>gtfs_dataset_key</th>\n",
       "      <th>name</th>\n",
       "    </tr>\n",
       "  </thead>\n",
       "  <tbody>\n",
       "    <tr>\n",
       "      <th>0</th>\n",
       "      <td>1770249a5a2e770ca90628434d4934b1</td>\n",
       "      <td>VCTC GMV Schedule</td>\n",
       "    </tr>\n",
       "    <tr>\n",
       "      <th>1</th>\n",
       "      <td>bff13f8993ff18e43577db1f5596e014</td>\n",
       "      <td>Merced GMV Schedule</td>\n",
       "    </tr>\n",
       "  </tbody>\n",
       "</table>\n",
       "</div>"
      ],
      "text/plain": [
       "                   gtfs_dataset_key                 name\n",
       "0  1770249a5a2e770ca90628434d4934b1    VCTC GMV Schedule\n",
       "1  bff13f8993ff18e43577db1f5596e014  Merced GMV Schedule"
      ]
     },
     "execution_count": 10,
     "metadata": {},
     "output_type": "execute_result"
    }
   ],
   "source": [
    "imported_trips_df.head(2)"
   ]
  },
  {
   "cell_type": "code",
   "execution_count": 11,
   "id": "d0c74c4c-44fa-42fb-8ce8-5b5d3b8ac6c0",
   "metadata": {},
   "outputs": [],
   "source": [
    "crosswalk = schedule_rt_utils.sample_gtfs_dataset_key_to_organization_crosswalk(\n",
    "    imported_trips_df,\n",
    "    analysis_date,\n",
    "    quartet_data=\"schedule\",\n",
    "    dim_gtfs_dataset_cols=[\"key\", \"source_record_id\", \"base64_url\"],\n",
    "    dim_organization_cols=[\n",
    "        \"source_record_id\",\n",
    "        \"name\",\n",
    "        \"itp_id\",\n",
    "        \"caltrans_district\",\n",
    "        \"ntd_id_2022\",\n",
    "    ],\n",
    ")"
   ]
  },
  {
   "cell_type": "code",
   "execution_count": 12,
   "id": "bee4ada4-6e93-4d09-a31b-d9f61ab89424",
   "metadata": {},
   "outputs": [
    {
     "data": {
      "text/html": [
       "<div>\n",
       "<style scoped>\n",
       "    .dataframe tbody tr th:only-of-type {\n",
       "        vertical-align: middle;\n",
       "    }\n",
       "\n",
       "    .dataframe tbody tr th {\n",
       "        vertical-align: top;\n",
       "    }\n",
       "\n",
       "    .dataframe thead th {\n",
       "        text-align: right;\n",
       "    }\n",
       "</style>\n",
       "<table border=\"1\" class=\"dataframe\">\n",
       "  <thead>\n",
       "    <tr style=\"text-align: right;\">\n",
       "      <th></th>\n",
       "      <th>schedule_gtfs_dataset_key</th>\n",
       "      <th>schedule_source_record_id</th>\n",
       "      <th>base64_url</th>\n",
       "      <th>organization_source_record_id</th>\n",
       "      <th>organization_name</th>\n",
       "      <th>itp_id</th>\n",
       "      <th>caltrans_district</th>\n",
       "      <th>ntd_id_2022</th>\n",
       "    </tr>\n",
       "  </thead>\n",
       "  <tbody>\n",
       "    <tr>\n",
       "      <th>0</th>\n",
       "      <td>1770249a5a2e770ca90628434d4934b1</td>\n",
       "      <td>recrAG7e0oOiR6FiP</td>\n",
       "      <td>aHR0cHM6Ly9nb3ZjYnVzLmNvbS9ndGZz</td>\n",
       "      <td>reckQmUdXUzHFmlVf</td>\n",
       "      <td>City of Ojai</td>\n",
       "      <td>231.00</td>\n",
       "      <td>07 - Los Angeles</td>\n",
       "      <td>91058</td>\n",
       "    </tr>\n",
       "    <tr>\n",
       "      <th>1</th>\n",
       "      <td>1770249a5a2e770ca90628434d4934b1</td>\n",
       "      <td>recrAG7e0oOiR6FiP</td>\n",
       "      <td>aHR0cHM6Ly9nb3ZjYnVzLmNvbS9ndGZz</td>\n",
       "      <td>rec7EN71rsZxDFxZd</td>\n",
       "      <td>Ventura County Transportation Commission</td>\n",
       "      <td>380.00</td>\n",
       "      <td>07 - Los Angeles</td>\n",
       "      <td>90164</td>\n",
       "    </tr>\n",
       "  </tbody>\n",
       "</table>\n",
       "</div>"
      ],
      "text/plain": [
       "          schedule_gtfs_dataset_key schedule_source_record_id  \\\n",
       "0  1770249a5a2e770ca90628434d4934b1         recrAG7e0oOiR6FiP   \n",
       "1  1770249a5a2e770ca90628434d4934b1         recrAG7e0oOiR6FiP   \n",
       "\n",
       "                         base64_url organization_source_record_id  \\\n",
       "0  aHR0cHM6Ly9nb3ZjYnVzLmNvbS9ndGZz             reckQmUdXUzHFmlVf   \n",
       "1  aHR0cHM6Ly9nb3ZjYnVzLmNvbS9ndGZz             rec7EN71rsZxDFxZd   \n",
       "\n",
       "                          organization_name  itp_id caltrans_district  \\\n",
       "0                              City of Ojai  231.00  07 - Los Angeles   \n",
       "1  Ventura County Transportation Commission  380.00  07 - Los Angeles   \n",
       "\n",
       "  ntd_id_2022  \n",
       "0       91058  \n",
       "1       90164  "
      ]
     },
     "execution_count": 12,
     "metadata": {},
     "output_type": "execute_result"
    }
   ],
   "source": [
    "crosswalk.head(2)"
   ]
  },
  {
   "cell_type": "markdown",
   "id": "32881c76-e982-4197-adc4-2f649f7c7da1",
   "metadata": {},
   "source": [
    "### Fix at crosswalk `schedule_rt_utils.sample_gtfs_dataset_key_to_organization_crosswalk`  where caltrans_district is brought in"
   ]
  },
  {
   "cell_type": "code",
   "execution_count": 13,
   "id": "f48aea7f-103e-47cd-aba5-10555ed6264c",
   "metadata": {},
   "outputs": [],
   "source": [
    "from shared_utils import gtfs_utils_v2"
   ]
  },
  {
   "cell_type": "code",
   "execution_count": 14,
   "id": "b25aecea-e2ab-41af-8f4f-8e55e5cbc4ef",
   "metadata": {},
   "outputs": [],
   "source": [
    "import siuba\n",
    "from calitp_data_analysis.tables import tbls\n",
    "from shared_utils import gtfs_utils_v2\n",
    "from siuba import *  # for type hints"
   ]
  },
  {
   "cell_type": "code",
   "execution_count": 15,
   "id": "4fb3252f-d1f6-4b57-9bc7-c63f9085e903",
   "metadata": {},
   "outputs": [],
   "source": [
    "dim_orgs_cols = [\"source_record_id\", \"name\", \"key\"]"
   ]
  },
  {
   "cell_type": "code",
   "execution_count": 16,
   "id": "678dc146-325c-4dd2-883b-a42024e2d7bc",
   "metadata": {},
   "outputs": [],
   "source": [
    "dim_orgs = (\n",
    "    tbls.mart_transit_database.dim_organizations()\n",
    "    >> filter(_._is_current == True)\n",
    "    >> gtfs_utils_v2.subset_cols(dim_orgs_cols)\n",
    "    >> collect()\n",
    ")"
   ]
  },
  {
   "cell_type": "code",
   "execution_count": 17,
   "id": "b9d0ecd4-abb5-4035-9dea-febae70469cf",
   "metadata": {},
   "outputs": [
    {
     "data": {
      "text/html": [
       "<div>\n",
       "<style scoped>\n",
       "    .dataframe tbody tr th:only-of-type {\n",
       "        vertical-align: middle;\n",
       "    }\n",
       "\n",
       "    .dataframe tbody tr th {\n",
       "        vertical-align: top;\n",
       "    }\n",
       "\n",
       "    .dataframe thead th {\n",
       "        text-align: right;\n",
       "    }\n",
       "</style>\n",
       "<table border=\"1\" class=\"dataframe\">\n",
       "  <thead>\n",
       "    <tr style=\"text-align: right;\">\n",
       "      <th></th>\n",
       "      <th>source_record_id</th>\n",
       "      <th>name</th>\n",
       "      <th>key</th>\n",
       "    </tr>\n",
       "  </thead>\n",
       "  <tbody>\n",
       "    <tr>\n",
       "      <th>726</th>\n",
       "      <td>recuGkFhN2WXGK67H</td>\n",
       "      <td>City of Banning</td>\n",
       "      <td>41f7aaa3446116fd1124b8ef1966ff14</td>\n",
       "    </tr>\n",
       "  </tbody>\n",
       "</table>\n",
       "</div>"
      ],
      "text/plain": [
       "      source_record_id             name                               key\n",
       "726  recuGkFhN2WXGK67H  City of Banning  41f7aaa3446116fd1124b8ef1966ff14"
      ]
     },
     "execution_count": 17,
     "metadata": {},
     "output_type": "execute_result"
    }
   ],
   "source": [
    "dim_orgs.loc[dim_orgs.name.str.contains(\"Banning\")]"
   ]
  },
  {
   "cell_type": "code",
   "execution_count": 18,
   "id": "fef0bacf-89be-41e5-aa40-7597ea6a10f7",
   "metadata": {},
   "outputs": [],
   "source": [
    "bridge_tbl_cols = [\"organization_key\", \"county_geography_name\"]"
   ]
  },
  {
   "cell_type": "code",
   "execution_count": 19,
   "id": "ee5666c8-c68f-4a05-8f85-cb874a3b9bf3",
   "metadata": {},
   "outputs": [],
   "source": [
    "bridge_tbl = (\n",
    "    tbls.mart_transit_database.bridge_organizations_x_headquarters_county_geography()\n",
    "    >> filter(_._is_current == True)\n",
    "    >> gtfs_utils_v2.subset_cols(bridge_tbl_cols)\n",
    "    >> collect()\n",
    ")"
   ]
  },
  {
   "cell_type": "code",
   "execution_count": 20,
   "id": "94542f1a-a745-4d18-a84a-29bc180e8621",
   "metadata": {
    "tags": []
   },
   "outputs": [
    {
     "data": {
      "text/html": [
       "<div>\n",
       "<style scoped>\n",
       "    .dataframe tbody tr th:only-of-type {\n",
       "        vertical-align: middle;\n",
       "    }\n",
       "\n",
       "    .dataframe tbody tr th {\n",
       "        vertical-align: top;\n",
       "    }\n",
       "\n",
       "    .dataframe thead th {\n",
       "        text-align: right;\n",
       "    }\n",
       "</style>\n",
       "<table border=\"1\" class=\"dataframe\">\n",
       "  <thead>\n",
       "    <tr style=\"text-align: right;\">\n",
       "      <th></th>\n",
       "      <th>organization_key</th>\n",
       "      <th>county_geography_name</th>\n",
       "    </tr>\n",
       "  </thead>\n",
       "  <tbody>\n",
       "    <tr>\n",
       "      <th>0</th>\n",
       "      <td>a056b0e0242367463bd9d02f8ea4fd0b</td>\n",
       "      <td>Inyo</td>\n",
       "    </tr>\n",
       "  </tbody>\n",
       "</table>\n",
       "</div>"
      ],
      "text/plain": [
       "                   organization_key county_geography_name\n",
       "0  a056b0e0242367463bd9d02f8ea4fd0b                  Inyo"
      ]
     },
     "execution_count": 20,
     "metadata": {},
     "output_type": "execute_result"
    }
   ],
   "source": [
    "bridge_tbl.head(1)"
   ]
  },
  {
   "cell_type": "code",
   "execution_count": 21,
   "id": "a592b353-449d-4237-b637-bebd5cc64408",
   "metadata": {},
   "outputs": [],
   "source": [
    "bridge_tbl = bridge_tbl.rename(columns={\"organization_key\": \"key\"})"
   ]
  },
  {
   "cell_type": "code",
   "execution_count": 22,
   "id": "d5c0192c-d7bd-4adf-8225-6da8baa4cf32",
   "metadata": {},
   "outputs": [],
   "source": [
    "m1 = pd.merge(\n",
    "    dim_orgs,\n",
    "    bridge_tbl,\n",
    "    on=\"key\",\n",
    "    how=\"inner\",\n",
    ")"
   ]
  },
  {
   "cell_type": "code",
   "execution_count": 23,
   "id": "559aec7a-4348-42ec-9fb6-fc1aac1bc6d6",
   "metadata": {},
   "outputs": [],
   "source": [
    "district_keep = [\n",
    "    \"name\",\n",
    "    \"caltrans_district\",\n",
    "    \"caltrans_district_name\",\n",
    "]"
   ]
  },
  {
   "cell_type": "code",
   "execution_count": 24,
   "id": "b9224255-2a7c-4cd3-8281-c9d935894fb1",
   "metadata": {},
   "outputs": [],
   "source": [
    "caltrans_dist = (\n",
    "    tbls.mart_transit_database.dim_county_geography()\n",
    "    >> filter(_._is_current == True)\n",
    "    >> gtfs_utils_v2.subset_cols(district_keep)\n",
    "    >> collect()\n",
    ")"
   ]
  },
  {
   "cell_type": "code",
   "execution_count": 25,
   "id": "b3c7a80f-1571-4eca-be5b-bc69ee0ba484",
   "metadata": {},
   "outputs": [],
   "source": [
    "caltrans_dist = caltrans_dist.rename(columns={\"name\": \"county_geography_name\"})"
   ]
  },
  {
   "cell_type": "code",
   "execution_count": 26,
   "id": "c1e964c5-452e-4ff7-87ac-aeb5ee185572",
   "metadata": {},
   "outputs": [],
   "source": [
    "caltrans_dist[\"caltrans_district2\"] = (\n",
    "    caltrans_dist[\"caltrans_district\"].astype(str).str.zfill(2)\n",
    ")"
   ]
  },
  {
   "cell_type": "code",
   "execution_count": 27,
   "id": "a1c97428-2e4a-4e7b-b600-26492f7c54af",
   "metadata": {},
   "outputs": [],
   "source": [
    "caltrans_dist = caltrans_dist.drop(columns=[\"caltrans_district\"])"
   ]
  },
  {
   "cell_type": "code",
   "execution_count": 28,
   "id": "aa042ffc-f8ed-43e7-8d93-bf88b5026d2b",
   "metadata": {},
   "outputs": [
    {
     "data": {
      "text/plain": [
       "Index(['source_record_id', 'name', 'key', 'county_geography_name'], dtype='object')"
      ]
     },
     "execution_count": 28,
     "metadata": {},
     "output_type": "execute_result"
    }
   ],
   "source": [
    "m1.columns"
   ]
  },
  {
   "cell_type": "code",
   "execution_count": 29,
   "id": "51b68bde-2e9b-422c-90e8-51b6d5efa1ed",
   "metadata": {},
   "outputs": [
    {
     "name": "stdout",
     "output_type": "stream",
     "text": [
      "<class 'pandas.core.frame.DataFrame'>\n",
      "RangeIndex: 58 entries, 0 to 57\n",
      "Data columns (total 3 columns):\n",
      " #   Column                  Non-Null Count  Dtype \n",
      "---  ------                  --------------  ----- \n",
      " 0   county_geography_name   58 non-null     object\n",
      " 1   caltrans_district_name  58 non-null     object\n",
      " 2   caltrans_district2      58 non-null     object\n",
      "dtypes: object(3)\n",
      "memory usage: 1.5+ KB\n"
     ]
    }
   ],
   "source": [
    "caltrans_dist.info()"
   ]
  },
  {
   "cell_type": "code",
   "execution_count": 30,
   "id": "468e83f6-6743-4d28-9d69-704fffe7aefb",
   "metadata": {},
   "outputs": [
    {
     "data": {
      "text/html": [
       "<div>\n",
       "<style scoped>\n",
       "    .dataframe tbody tr th:only-of-type {\n",
       "        vertical-align: middle;\n",
       "    }\n",
       "\n",
       "    .dataframe tbody tr th {\n",
       "        vertical-align: top;\n",
       "    }\n",
       "\n",
       "    .dataframe thead th {\n",
       "        text-align: right;\n",
       "    }\n",
       "</style>\n",
       "<table border=\"1\" class=\"dataframe\">\n",
       "  <thead>\n",
       "    <tr style=\"text-align: right;\">\n",
       "      <th></th>\n",
       "      <th>county_geography_name</th>\n",
       "      <th>caltrans_district_name</th>\n",
       "      <th>caltrans_district2</th>\n",
       "    </tr>\n",
       "  </thead>\n",
       "  <tbody>\n",
       "    <tr>\n",
       "      <th>0</th>\n",
       "      <td>Lake</td>\n",
       "      <td>Eureka</td>\n",
       "      <td>01</td>\n",
       "    </tr>\n",
       "  </tbody>\n",
       "</table>\n",
       "</div>"
      ],
      "text/plain": [
       "  county_geography_name caltrans_district_name caltrans_district2\n",
       "0                  Lake                 Eureka                 01"
      ]
     },
     "execution_count": 30,
     "metadata": {},
     "output_type": "execute_result"
    }
   ],
   "source": [
    "caltrans_dist.head(1)"
   ]
  },
  {
   "cell_type": "code",
   "execution_count": 31,
   "id": "f2c479cd-a917-4d02-88fe-eeedeeaeb954",
   "metadata": {},
   "outputs": [],
   "source": [
    "caltrans_dist[\"caltrans_district\"] = (\n",
    "    caltrans_dist.caltrans_district2 + \" - \" + caltrans_dist.caltrans_district_name\n",
    ")"
   ]
  },
  {
   "cell_type": "code",
   "execution_count": 32,
   "id": "c5b249e5-5122-4f1a-9f12-835386a89a27",
   "metadata": {},
   "outputs": [
    {
     "data": {
      "text/plain": [
       "array(['01 - Eureka', '02 - Redding', '03 - Marysville / Sacramento',\n",
       "       '04 - Bay Area / Oakland', '05 - San Luis Obispo / Santa Barbara',\n",
       "       '06 - Fresno / Bakersfield', '07 - Los Angeles',\n",
       "       '08 - San Bernardino / Riverside', '09 - Bishop', '10 - Stockton',\n",
       "       '11 - San Diego', '12 - Orange County'], dtype=object)"
      ]
     },
     "execution_count": 32,
     "metadata": {},
     "output_type": "execute_result"
    }
   ],
   "source": [
    "caltrans_dist[\"caltrans_district\"].unique()"
   ]
  },
  {
   "cell_type": "code",
   "execution_count": 33,
   "id": "8b676600-6f46-4c10-9a82-94d857eeeec9",
   "metadata": {},
   "outputs": [],
   "source": [
    "caltrans_dist = caltrans_dist.drop(\n",
    "    columns=[\"caltrans_district_name\", \"caltrans_district2\"]\n",
    ")"
   ]
  },
  {
   "cell_type": "code",
   "execution_count": 34,
   "id": "bf6ccc85-7cc8-4cfa-90ed-e9126fb30b6f",
   "metadata": {},
   "outputs": [
    {
     "data": {
      "text/html": [
       "<div>\n",
       "<style scoped>\n",
       "    .dataframe tbody tr th:only-of-type {\n",
       "        vertical-align: middle;\n",
       "    }\n",
       "\n",
       "    .dataframe tbody tr th {\n",
       "        vertical-align: top;\n",
       "    }\n",
       "\n",
       "    .dataframe thead th {\n",
       "        text-align: right;\n",
       "    }\n",
       "</style>\n",
       "<table border=\"1\" class=\"dataframe\">\n",
       "  <thead>\n",
       "    <tr style=\"text-align: right;\">\n",
       "      <th></th>\n",
       "      <th>county_geography_name</th>\n",
       "      <th>caltrans_district</th>\n",
       "    </tr>\n",
       "  </thead>\n",
       "  <tbody>\n",
       "    <tr>\n",
       "      <th>35</th>\n",
       "      <td>Santa Barbara</td>\n",
       "      <td>05 - San Luis Obispo / Santa Barbara</td>\n",
       "    </tr>\n",
       "    <tr>\n",
       "      <th>45</th>\n",
       "      <td>Mono</td>\n",
       "      <td>09 - Bishop</td>\n",
       "    </tr>\n",
       "    <tr>\n",
       "      <th>23</th>\n",
       "      <td>Sonoma</td>\n",
       "      <td>04 - Bay Area / Oakland</td>\n",
       "    </tr>\n",
       "  </tbody>\n",
       "</table>\n",
       "</div>"
      ],
      "text/plain": [
       "   county_geography_name                     caltrans_district\n",
       "35         Santa Barbara  05 - San Luis Obispo / Santa Barbara\n",
       "45                  Mono                           09 - Bishop\n",
       "23                Sonoma               04 - Bay Area / Oakland"
      ]
     },
     "execution_count": 34,
     "metadata": {},
     "output_type": "execute_result"
    }
   ],
   "source": [
    "caltrans_dist.sample(3)"
   ]
  },
  {
   "cell_type": "code",
   "execution_count": 35,
   "id": "18bbf40a-a71d-4c62-9ce2-9537ee1420bc",
   "metadata": {},
   "outputs": [],
   "source": [
    "m2 = pd.merge(\n",
    "    m1,\n",
    "    caltrans_dist,\n",
    "    on=[\"county_geography_name\"],\n",
    "    how=\"left\",\n",
    ")"
   ]
  },
  {
   "cell_type": "code",
   "execution_count": 36,
   "id": "a947f11e-d83b-47f2-a4f4-b1c7769f503d",
   "metadata": {},
   "outputs": [
    {
     "name": "stdout",
     "output_type": "stream",
     "text": [
      "<class 'pandas.core.frame.DataFrame'>\n",
      "Int64Index: 1290 entries, 0 to 1289\n",
      "Data columns (total 5 columns):\n",
      " #   Column                 Non-Null Count  Dtype \n",
      "---  ------                 --------------  ----- \n",
      " 0   source_record_id       1290 non-null   object\n",
      " 1   name                   1290 non-null   object\n",
      " 2   key                    1290 non-null   object\n",
      " 3   county_geography_name  1290 non-null   object\n",
      " 4   caltrans_district      1290 non-null   object\n",
      "dtypes: object(5)\n",
      "memory usage: 60.5+ KB\n"
     ]
    }
   ],
   "source": [
    "m2.info()"
   ]
  },
  {
   "cell_type": "code",
   "execution_count": 37,
   "id": "62d549e2-2a6f-493e-83ea-84cf20c182b4",
   "metadata": {},
   "outputs": [
    {
     "data": {
      "text/html": [
       "<div>\n",
       "<style scoped>\n",
       "    .dataframe tbody tr th:only-of-type {\n",
       "        vertical-align: middle;\n",
       "    }\n",
       "\n",
       "    .dataframe tbody tr th {\n",
       "        vertical-align: top;\n",
       "    }\n",
       "\n",
       "    .dataframe thead th {\n",
       "        text-align: right;\n",
       "    }\n",
       "</style>\n",
       "<table border=\"1\" class=\"dataframe\">\n",
       "  <thead>\n",
       "    <tr style=\"text-align: right;\">\n",
       "      <th></th>\n",
       "      <th>source_record_id</th>\n",
       "      <th>name</th>\n",
       "      <th>key</th>\n",
       "      <th>county_geography_name</th>\n",
       "      <th>caltrans_district</th>\n",
       "    </tr>\n",
       "  </thead>\n",
       "  <tbody>\n",
       "    <tr>\n",
       "      <th>0</th>\n",
       "      <td>recsupkiKC6Y6fFfV</td>\n",
       "      <td>DAV</td>\n",
       "      <td>eea7326fc87a575ce26e24cf56b8ff37</td>\n",
       "      <td>Alameda</td>\n",
       "      <td>04 - Bay Area / Oakland</td>\n",
       "    </tr>\n",
       "  </tbody>\n",
       "</table>\n",
       "</div>"
      ],
      "text/plain": [
       "    source_record_id name                               key  \\\n",
       "0  recsupkiKC6Y6fFfV  DAV  eea7326fc87a575ce26e24cf56b8ff37   \n",
       "\n",
       "  county_geography_name        caltrans_district  \n",
       "0               Alameda  04 - Bay Area / Oakland  "
      ]
     },
     "execution_count": 37,
     "metadata": {},
     "output_type": "execute_result"
    }
   ],
   "source": [
    "m2.head(1)"
   ]
  },
  {
   "cell_type": "markdown",
   "id": "25885674-e037-4b33-a378-480e8c0b8089",
   "metadata": {},
   "source": [
    "### Combine it into a function"
   ]
  },
  {
   "cell_type": "code",
   "execution_count": 39,
   "id": "4ee70fc8-10c8-44c5-8c31-491617717ffd",
   "metadata": {},
   "outputs": [],
   "source": [
    "def filter_dim_organizations(\n",
    "    date: str,\n",
    "    keep_cols: list[str] = [\"source_record_id\", \"caltrans_district\"],\n",
    "    custom_filtering: dict = None,\n",
    ") -> pd.DataFrame:\n",
    "    \"\"\"\n",
    "    Filter dim_organizations down to current record for organization.\n",
    "    Caltrans district is associated with organization_source_record_id.\n",
    "    \"\"\"\n",
    "    dim_orgs_cols = [\"source_record_id\", \"name\", \"key\"]\n",
    "\n",
    "    # This table contains the source_record_id\n",
    "    dim_orgs = (\n",
    "        tbls.mart_transit_database.dim_organizations()\n",
    "        >> gtfs_utils_v2.filter_custom_col(custom_filtering)\n",
    "        >> filter(_._is_current == True)\n",
    "        >> gtfs_utils_v2.subset_cols(dim_orgs_cols)\n",
    "        >> collect()\n",
    "    )\n",
    "\n",
    "    # This table contains the county_name that is a key to the district table\n",
    "    bridge_tbl_cols = [\"organization_key\", \"county_geography_name\"]\n",
    "    bridge_tbl = (\n",
    "        tbls.mart_transit_database.bridge_organizations_x_headquarters_county_geography()\n",
    "        >> filter(_._is_current == True)\n",
    "        >> gtfs_utils_v2.subset_cols(bridge_tbl_cols)\n",
    "        >> collect()\n",
    "    )\n",
    "    bridge_tbl = bridge_tbl.rename(columns={\"organization_key\": \"key\"})\n",
    "\n",
    "    # This table contains Caltrans District\n",
    "    district_keep = [\"name\", \"caltrans_district\", \"caltrans_district_name\"]\n",
    "\n",
    "    caltrans_dist = (\n",
    "        tbls.mart_transit_database.dim_county_geography()\n",
    "        >> filter(_._is_current == True)\n",
    "        >> gtfs_utils_v2.subset_cols(district_keep)\n",
    "        >> collect()\n",
    "    )\n",
    "\n",
    "    # Clean up CT district\n",
    "    caltrans_dist = caltrans_dist.rename(columns={\"name\": \"county_geography_name\"})\n",
    "\n",
    "    # Pad single digits with 0\n",
    "    caltrans_dist[\"caltrans_district2\"] = (\n",
    "        caltrans_dist[\"caltrans_district\"].astype(str).str.zfill(2)\n",
    "    )\n",
    "\n",
    "    # Drop old column to create a new one\n",
    "    caltrans_dist = caltrans_dist.drop(columns=[\"caltrans_district\"])\n",
    "    caltrans_dist[\"caltrans_district\"] = (\n",
    "        caltrans_dist.caltrans_district2 + \" - \" + caltrans_dist.caltrans_district_name\n",
    "    )\n",
    "\n",
    "    # Drop other columns\n",
    "    caltrans_dist = caltrans_dist.drop(\n",
    "        columns=[\"caltrans_district_name\", \"caltrans_district2\"]\n",
    "    )\n",
    "\n",
    "    # Merge\n",
    "    m1 = pd.merge(dim_orgs, bridge_tbl, on=\"key\", how=\"inner\").merge(\n",
    "        caltrans_dist,\n",
    "        on=[\"county_geography_name\"],\n",
    "        how=\"left\",\n",
    "    )\n",
    "    \n",
    "    # Subset\n",
    "    m1 = m1[keep_cols]\n",
    "    return m1"
   ]
  },
  {
   "cell_type": "code",
   "execution_count": 46,
   "id": "bb9a1932-97dc-486c-acf9-23199273e088",
   "metadata": {},
   "outputs": [],
   "source": [
    "test  = filter_dim_organizations(analysis_date, [\"source_record_id\", \"caltrans_district\"])"
   ]
  },
  {
   "cell_type": "code",
   "execution_count": 47,
   "id": "d32b9f1b-859e-46b7-9c0e-c36736014648",
   "metadata": {},
   "outputs": [
    {
     "data": {
      "text/plain": [
       "(1290, 5)"
      ]
     },
     "execution_count": 47,
     "metadata": {},
     "output_type": "execute_result"
    }
   ],
   "source": [
    "test.shape"
   ]
  },
  {
   "cell_type": "code",
   "execution_count": 48,
   "id": "47a5c17c-4d32-4dad-842f-3d6a3b795451",
   "metadata": {},
   "outputs": [
    {
     "data": {
      "text/html": [
       "<div>\n",
       "<style scoped>\n",
       "    .dataframe tbody tr th:only-of-type {\n",
       "        vertical-align: middle;\n",
       "    }\n",
       "\n",
       "    .dataframe tbody tr th {\n",
       "        vertical-align: top;\n",
       "    }\n",
       "\n",
       "    .dataframe thead th {\n",
       "        text-align: right;\n",
       "    }\n",
       "</style>\n",
       "<table border=\"1\" class=\"dataframe\">\n",
       "  <thead>\n",
       "    <tr style=\"text-align: right;\">\n",
       "      <th></th>\n",
       "      <th>source_record_id</th>\n",
       "      <th>name</th>\n",
       "      <th>key</th>\n",
       "      <th>county_geography_name</th>\n",
       "      <th>caltrans_district</th>\n",
       "    </tr>\n",
       "  </thead>\n",
       "  <tbody>\n",
       "    <tr>\n",
       "      <th>0</th>\n",
       "      <td>recsupkiKC6Y6fFfV</td>\n",
       "      <td>DAV</td>\n",
       "      <td>eea7326fc87a575ce26e24cf56b8ff37</td>\n",
       "      <td>Alameda</td>\n",
       "      <td>04 - Bay Area / Oakland</td>\n",
       "    </tr>\n",
       "  </tbody>\n",
       "</table>\n",
       "</div>"
      ],
      "text/plain": [
       "    source_record_id name                               key  \\\n",
       "0  recsupkiKC6Y6fFfV  DAV  eea7326fc87a575ce26e24cf56b8ff37   \n",
       "\n",
       "  county_geography_name        caltrans_district  \n",
       "0               Alameda  04 - Bay Area / Oakland  "
      ]
     },
     "execution_count": 48,
     "metadata": {},
     "output_type": "execute_result"
    }
   ],
   "source": [
    "test.head(1)"
   ]
  },
  {
   "cell_type": "markdown",
   "id": "9de60a63-0805-416c-8ca1-b734a882d177",
   "metadata": {},
   "source": [
    "### Edited crosswalk in `gtfs_funnel`: manually added Districts (temporary fix)"
   ]
  },
  {
   "cell_type": "code",
   "execution_count": null,
   "id": "5748fbca-a390-44a8-8baa-20e58f9a702d",
   "metadata": {},
   "outputs": [],
   "source": [
    "SCHED_GCS"
   ]
  },
  {
   "cell_type": "code",
   "execution_count": null,
   "id": "c149c7c1-f7bb-4591-b100-654549c1abf9",
   "metadata": {},
   "outputs": [],
   "source": [
    "GTFS_DATA_DICT.schedule_tables.gtfs_key_crosswalk"
   ]
  },
  {
   "cell_type": "code",
   "execution_count": null,
   "id": "877f5807-cbf8-4c38-a76c-da137ce0370b",
   "metadata": {},
   "outputs": [],
   "source": [
    "url = \"gs://calitp-analytics-data/data-analyses/gtfs_schedule/crosswalk/gtfs_key_organization_2024-10-21.parquet\""
   ]
  },
  {
   "cell_type": "code",
   "execution_count": null,
   "id": "df074ee5-181f-4c7f-8f23-167d3e046e96",
   "metadata": {},
   "outputs": [],
   "source": [
    "crosswalk_oct_31 = pd.read_parquet(url)"
   ]
  },
  {
   "cell_type": "code",
   "execution_count": null,
   "id": "cf33e53e-dd83-4268-9e7a-8e3647cd4278",
   "metadata": {},
   "outputs": [],
   "source": [
    "crosswalk_oct_31.loc[crosswalk_oct_31.name.str.contains(\"Ban\")]"
   ]
  },
  {
   "cell_type": "code",
   "execution_count": null,
   "id": "8e42d073-a249-4557-9ca4-b128cddf1891",
   "metadata": {},
   "outputs": [],
   "source": [
    "url2 = \"gs://calitp-analytics-data/data-analyses/gtfs_schedule/crosswalk/gtfs_key_organization_2024-04-15.parquet\""
   ]
  },
  {
   "cell_type": "code",
   "execution_count": null,
   "id": "2a72758a-ad20-4488-b60c-47f8b8b0bdd9",
   "metadata": {},
   "outputs": [],
   "source": [
    "crosswalk_apr_15 = pd.read_parquet(url2)"
   ]
  },
  {
   "cell_type": "code",
   "execution_count": null,
   "id": "794ab87f-6887-48c6-86c3-37fe01912078",
   "metadata": {},
   "outputs": [],
   "source": [
    "crosswalk_apr_15.loc[crosswalk_apr_15.name.str.contains(\"Ban\")].organization_name"
   ]
  },
  {
   "cell_type": "markdown",
   "id": "6d6d66d6-44de-48d6-8595-b1973f70ae25",
   "metadata": {},
   "source": [
    "### `Merge_date`\n",
    "#### Stack all the new crosswalks"
   ]
  },
  {
   "cell_type": "code",
   "execution_count": null,
   "id": "43c1554e-7546-4cae-bc59-f890fe0b6f6f",
   "metadata": {},
   "outputs": [],
   "source": [
    "stack_crossawlk = merge_data.concatenate_crosswalk_organization(analysis_date_list)"
   ]
  },
  {
   "cell_type": "code",
   "execution_count": null,
   "id": "98880fd6-aaf3-4a43-940a-01c81a748644",
   "metadata": {},
   "outputs": [],
   "source": [
    "stack_crossawlk.service_date.nunique()"
   ]
  },
  {
   "cell_type": "code",
   "execution_count": null,
   "id": "9f45a1f7-d6ca-4295-ba47-34ec5f064738",
   "metadata": {},
   "outputs": [],
   "source": [
    "banning_only = stack_crossawlk.loc[stack_crossawlk.name.str.contains(\"Banning\")]"
   ]
  },
  {
   "cell_type": "code",
   "execution_count": null,
   "id": "312a60f5-0f4a-461d-9388-b2b8f96cff5b",
   "metadata": {},
   "outputs": [],
   "source": [
    "banning_only[\n",
    "    [\"service_date\", \"organization_name\", \"schedule_gtfs_dataset_key\", \"name\"]\n",
    "].drop_duplicates().sort_values(by=[\"service_date\"])"
   ]
  },
  {
   "cell_type": "markdown",
   "id": "5ebc63e6-3b41-4181-840e-bc6a4911d67e",
   "metadata": {},
   "source": [
    "#### Try to find Banning in `df_schedule`"
   ]
  },
  {
   "cell_type": "code",
   "execution_count": null,
   "id": "a6c7f470-748b-492d-aa1d-2a4339cb1ded",
   "metadata": {},
   "outputs": [],
   "source": [
    "df_sched = merge_data.concatenate_schedule_by_route_direction(analysis_date_list)"
   ]
  },
  {
   "cell_type": "code",
   "execution_count": null,
   "id": "014b3acc-9309-41d1-a4e0-f111e6295be2",
   "metadata": {},
   "outputs": [],
   "source": [
    "df_sched.service_date.nunique()"
   ]
  },
  {
   "cell_type": "code",
   "execution_count": null,
   "id": "f6dbfc2e-94da-459f-9c9b-7979f6a58b47",
   "metadata": {},
   "outputs": [],
   "source": [
    "df_sched.head(1)"
   ]
  },
  {
   "cell_type": "code",
   "execution_count": null,
   "id": "fcadf465-d402-4abb-aa41-cbbd2108a2fd",
   "metadata": {},
   "outputs": [],
   "source": [
    "banning_only_df_sched = df_sched.loc[\n",
    "    df_sched.schedule_gtfs_dataset_key.str.contains(\"ebc783bace70899492d6206c352547d6\")\n",
    "]"
   ]
  },
  {
   "cell_type": "code",
   "execution_count": null,
   "id": "a5dd6dfe-6a30-45dd-93dc-3fb7744257ec",
   "metadata": {},
   "outputs": [],
   "source": [
    "banning_only_df_sched[\n",
    "    [\"service_date\", \"schedule_gtfs_dataset_key\"]\n",
    "].drop_duplicates().sort_values(by=[\"service_date\"])"
   ]
  },
  {
   "cell_type": "markdown",
   "id": "9d9c6b3f-293c-45b9-a77b-0d0c9f7c8501",
   "metadata": {},
   "source": [
    "#### Try to find Banning in `df_rt_sched`"
   ]
  },
  {
   "cell_type": "code",
   "execution_count": null,
   "id": "689e4e0a-baae-49d2-8b6b-524d14cef6f9",
   "metadata": {},
   "outputs": [],
   "source": [
    "df_rt_sched = merge_data.concatenate_rt_vs_schedule_by_route_direction(\n",
    "    analysis_date_list\n",
    ")"
   ]
  },
  {
   "cell_type": "code",
   "execution_count": null,
   "id": "2c7bea56-e2ae-421b-ba3b-085fe486a20a",
   "metadata": {},
   "outputs": [],
   "source": [
    "df_rt_sched.head(1)"
   ]
  },
  {
   "cell_type": "code",
   "execution_count": null,
   "id": "dfda5ed1-21db-484b-aee2-b4de9bc101d4",
   "metadata": {},
   "outputs": [],
   "source": [
    "banning_only_df_rt_sched = df_rt_sched.loc[df_rt_sched.name.str.contains(\"Banning\")]"
   ]
  },
  {
   "cell_type": "code",
   "execution_count": null,
   "id": "984406db-a1f0-4e13-8470-9d4b550936d3",
   "metadata": {},
   "outputs": [],
   "source": [
    "banning_only_df_rt_sched.head(1)"
   ]
  },
  {
   "cell_type": "code",
   "execution_count": null,
   "id": "139a59eb-8210-45d5-a9d4-3213894364ea",
   "metadata": {},
   "outputs": [],
   "source": [
    "banning_only_df_rt_sched[\n",
    "    [\"service_date\", \"schedule_gtfs_dataset_key\", \"name\"]\n",
    "].drop_duplicates().sort_values(by=[\"service_date\"])"
   ]
  },
  {
   "cell_type": "markdown",
   "id": "657f7890-0338-4168-97b1-adfb507b0ef5",
   "metadata": {},
   "source": [
    "## Read in file after rerunning `merge_data`"
   ]
  },
  {
   "cell_type": "code",
   "execution_count": null,
   "id": "b2d708c4-9306-4587-8da2-8a8adfc570fc",
   "metadata": {},
   "outputs": [],
   "source": [
    "DIGEST_RT_SCHED = GTFS_DATA_DICT.digest_tables.route_schedule_vp\n",
    "DIGEST_SEGMENT_SPEEDS = GTFS_DATA_DICT.digest_tables.route_segment_speeds"
   ]
  },
  {
   "cell_type": "code",
   "execution_count": null,
   "id": "364a9b7e-6011-4fd5-a41c-3c05a344ba3a",
   "metadata": {},
   "outputs": [],
   "source": [
    "f\"{RT_SCHED_GCS}{DIGEST_RT_SCHED}.parquet\""
   ]
  },
  {
   "cell_type": "code",
   "execution_count": null,
   "id": "46dae40f-54bd-4528-8981-2d5baeca1f8f",
   "metadata": {},
   "outputs": [],
   "source": [
    "f\"{GTFS_DATA_DICT.digest_tables.dir}{GTFS_DATA_DICT.digest_tables.route_schedule_vp}.parquet\""
   ]
  },
  {
   "cell_type": "code",
   "execution_count": null,
   "id": "d600eae4-7d26-4aa6-8d85-89f308b7a7d1",
   "metadata": {},
   "outputs": [],
   "source": [
    "final = pd.read_parquet(f\"{RT_SCHED_GCS}{DIGEST_RT_SCHED}.parquet\")"
   ]
  },
  {
   "cell_type": "code",
   "execution_count": null,
   "id": "bed74785-db8b-467b-94b6-f0786bb77816",
   "metadata": {},
   "outputs": [],
   "source": [
    "final.head(1)"
   ]
  },
  {
   "cell_type": "markdown",
   "id": "ae3e9611-3240-4281-b98c-570916348e60",
   "metadata": {},
   "source": [
    "### Banning is here"
   ]
  },
  {
   "cell_type": "code",
   "execution_count": null,
   "id": "291c43f9-b3a4-4251-9bbe-44da4c8ead4b",
   "metadata": {
    "scrolled": true,
    "tags": []
   },
   "outputs": [],
   "source": [
    "final[\n",
    "    [\n",
    "        \"organization_name\",\n",
    "        \"caltrans_district\",\n",
    "        \"name\",\n",
    "        \"sched_rt_category\",\n",
    "        \"service_date\",\n",
    "    ]\n",
    "].drop_duplicates().sort_values(by=[\"organization_name\"])"
   ]
  },
  {
   "cell_type": "markdown",
   "id": "16627518-a7f7-4219-a269-6816ba807ef7",
   "metadata": {},
   "source": [
    "## I also want to edit this so if an agency that consistently produces RT or schedule data misses a month or two, they will still show up on the portfolio"
   ]
  },
  {
   "cell_type": "code",
   "execution_count": null,
   "id": "6e2a37be-1e6f-4623-b724-32c6922ab3f0",
   "metadata": {},
   "outputs": [],
   "source": [
    "schd_vp_url = f\"{GTFS_DATA_DICT.digest_tables.dir}{GTFS_DATA_DICT.digest_tables.route_schedule_vp}.parquet\"\n",
    "\n",
    "schd_vp_df = pd.read_parquet(\n",
    "    schd_vp_url,\n",
    "    filters=[[(\"sched_rt_category\", \"in\", [\"schedule_and_vp\", \"schedule_only\"])]],\n",
    "    columns=[\n",
    "        \"schedule_gtfs_dataset_key\",\n",
    "        \"caltrans_district\",\n",
    "        \"organization_name\",\n",
    "        \"name\",\n",
    "        \"sched_rt_category\",\n",
    "        \"service_date\",\n",
    "    ],\n",
    ")"
   ]
  },
  {
   "cell_type": "code",
   "execution_count": null,
   "id": "885adef5-ae83-4408-b8ac-cf2585445a7a",
   "metadata": {},
   "outputs": [],
   "source": [
    "schd_vp_df2 = (\n",
    "    schd_vp_df.dropna(subset=\"caltrans_district\")\n",
    "    .sort_values(\n",
    "        by=[\n",
    "            \"caltrans_district\",\n",
    "            \"organization_name\",\n",
    "            \"service_date\",\n",
    "        ],\n",
    "        ascending=[True, True, False],\n",
    "    )\n",
    "    .drop_duplicates(\n",
    "        subset=[\n",
    "            \"organization_name\",\n",
    "            \"caltrans_district\",\n",
    "        ]\n",
    "    )\n",
    "    .reset_index(drop=True)\n",
    ")"
   ]
  },
  {
   "cell_type": "code",
   "execution_count": null,
   "id": "0285b072-c464-4d22-96c3-a673fdeff970",
   "metadata": {},
   "outputs": [],
   "source": [
    "schd_vp_df2.loc[schd_vp_df2.organization_name.str.contains(\"Banning\")]"
   ]
  },
  {
   "cell_type": "code",
   "execution_count": null,
   "id": "80b37452-f5e8-465b-b1c3-1834a9f5e9d2",
   "metadata": {},
   "outputs": [],
   "source": [
    "schd_vp_df2.organization_name.value_counts().describe()"
   ]
  },
  {
   "cell_type": "code",
   "execution_count": null,
   "id": "271ae1d4-9a44-4ea5-bcf0-f904f70d5c4d",
   "metadata": {},
   "outputs": [],
   "source": [
    "schd_vp_df2.service_date.unique()"
   ]
  },
  {
   "cell_type": "code",
   "execution_count": null,
   "id": "c55dd947-557f-4ebb-bcc6-417b5f531874",
   "metadata": {},
   "outputs": [],
   "source": [
    "schd_vp_df2.service_date.value_counts()"
   ]
  },
  {
   "cell_type": "code",
   "execution_count": null,
   "id": "655aa2d2-0520-45cc-a2cb-f16625d7eddd",
   "metadata": {},
   "outputs": [],
   "source": [
    "schd_vp_df2.loc[schd_vp_df2.service_date == \"2024-02-14\"]"
   ]
  },
  {
   "cell_type": "markdown",
   "id": "c9af7925-b11c-4080-926f-30244b78e951",
   "metadata": {},
   "source": [
    "## Forgot why I need `operator_profiles`"
   ]
  },
  {
   "cell_type": "code",
   "execution_count": null,
   "id": "ea7dc760-5127-40b6-966f-d4dfc44933f9",
   "metadata": {},
   "outputs": [],
   "source": [
    "operator_profiles = op_prep.operator_profiles()"
   ]
  },
  {
   "cell_type": "code",
   "execution_count": null,
   "id": "e0b521aa-d1d7-4c49-905a-0390e3f8d36c",
   "metadata": {
    "scrolled": true,
    "tags": []
   },
   "outputs": [],
   "source": [
    "operator_profiles"
   ]
  }
 ],
 "metadata": {
  "kernelspec": {
   "display_name": "Python 3 (ipykernel)",
   "language": "python",
   "name": "python3"
  },
  "language_info": {
   "codemirror_mode": {
    "name": "ipython",
    "version": 3
   },
   "file_extension": ".py",
   "mimetype": "text/x-python",
   "name": "python",
   "nbconvert_exporter": "python",
   "pygments_lexer": "ipython3",
   "version": "3.9.13"
  }
 },
 "nbformat": 4,
 "nbformat_minor": 5
}
