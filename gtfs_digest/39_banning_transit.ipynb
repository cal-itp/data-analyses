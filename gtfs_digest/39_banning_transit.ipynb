{
 "cells": [
  {
   "cell_type": "markdown",
   "id": "fd5ba118-0e76-4f1a-80e5-7b38ca2c7326",
   "metadata": {},
   "source": [
    "## Banning Transit is missing\n",
    "[PR](https://github.com/cal-itp/data-analyses/issues/1254)"
   ]
  },
  {
   "cell_type": "code",
   "execution_count": 1,
   "id": "015badf6-92d5-48d6-ae38-11a6d3a52765",
   "metadata": {},
   "outputs": [],
   "source": [
    "import geopandas as gpd\n",
    "import merge_data\n",
    "import numpy as np\n",
    "import pandas as pd\n",
    "from segment_speed_utils import gtfs_schedule_wrangling, helpers, time_series_utils\n",
    "from shared_utils import catalog_utils, rt_dates, rt_utils\n",
    "from update_vars import GTFS_DATA_DICT, RT_SCHED_GCS, SCHED_GCS"
   ]
  },
  {
   "cell_type": "code",
   "execution_count": 2,
   "id": "6fa53d45-8913-4bf6-aae1-4f2dc9faaa24",
   "metadata": {},
   "outputs": [],
   "source": [
    "from segment_speed_utils.project_vars import (\n",
    "    COMPILED_CACHED_VIEWS,\n",
    "    GTFS_DATA_DICT,\n",
    "    PROJECT_CRS,\n",
    "    RT_SCHED_GCS,\n",
    "    SCHED_GCS,\n",
    "    SEGMENT_GCS,\n",
    ")"
   ]
  },
  {
   "cell_type": "code",
   "execution_count": 3,
   "id": "e4d62840-b9f1-4c57-8052-460327bf52fc",
   "metadata": {},
   "outputs": [],
   "source": [
    "pd.options.display.max_columns = 100\n",
    "pd.options.display.float_format = \"{:.2f}\".format\n",
    "pd.set_option(\"display.max_rows\", None)\n",
    "pd.set_option(\"display.max_colwidth\", None)"
   ]
  },
  {
   "cell_type": "code",
   "execution_count": 4,
   "id": "add67673-a61d-49b6-88e3-d9960344ec93",
   "metadata": {},
   "outputs": [],
   "source": [
    "import _operators_prep as op_prep"
   ]
  },
  {
   "cell_type": "code",
   "execution_count": 5,
   "id": "8f1bdfbd-7060-4dba-8283-ce8434a5f08d",
   "metadata": {},
   "outputs": [],
   "source": [
    "analysis_date_list = rt_dates.y2024_dates + rt_dates.y2023_dates"
   ]
  },
  {
   "cell_type": "markdown",
   "id": "170a90d4-198f-4e9f-9596-00556a16526e",
   "metadata": {},
   "source": [
    "## 11/18: why isn't `deploy_portfolio_yaml` working"
   ]
  },
  {
   "cell_type": "code",
   "execution_count": 6,
   "id": "22be5e20-9658-48cb-bd46-ffa50314b961",
   "metadata": {},
   "outputs": [],
   "source": [
    "df = (\n",
    "    op_prep.operators_schd_vp_rt()\n",
    "    .sort_values([\"caltrans_district\", \"organization_name\"])\n",
    "    .reset_index(drop=True)\n",
    ")"
   ]
  },
  {
   "cell_type": "code",
   "execution_count": 7,
   "id": "a55b8e9e-5529-48fc-b1b5-3bac65f83e43",
   "metadata": {
    "scrolled": true,
    "tags": []
   },
   "outputs": [],
   "source": [
    "# df"
   ]
  },
  {
   "cell_type": "code",
   "execution_count": 8,
   "id": "71bb689b-c8d7-4353-8b92-8bd5c38ee70b",
   "metadata": {},
   "outputs": [],
   "source": [
    "chapter_info = {\n",
    "    \"column\": \"caltrans_district\",\n",
    "    \"name\": \"district\",\n",
    "    \"caption_prefix\": \"District \",\n",
    "    \"caption_suffix\": \"\",\n",
    "}"
   ]
  },
  {
   "cell_type": "code",
   "execution_count": 9,
   "id": "1e23d0a9-52b5-4b44-ad7c-f81ba9f2610f",
   "metadata": {},
   "outputs": [],
   "source": [
    "section_info = {\n",
    "    \"column\": \"organization_name\",\n",
    "    \"name\": \"organization_name\",\n",
    "}"
   ]
  },
  {
   "cell_type": "code",
   "execution_count": 10,
   "id": "7000aded-db1b-4142-9e14-52f1c7f92895",
   "metadata": {},
   "outputs": [],
   "source": [
    "chapter_col = chapter_info[\"column\"]"
   ]
  },
  {
   "cell_type": "code",
   "execution_count": 11,
   "id": "6a4be76c-71d1-4eae-8509-26cc6c315179",
   "metadata": {},
   "outputs": [
    {
     "data": {
      "text/plain": [
       "'caltrans_district'"
      ]
     },
     "execution_count": 11,
     "metadata": {},
     "output_type": "execute_result"
    }
   ],
   "source": [
    "chapter_col"
   ]
  },
  {
   "cell_type": "code",
   "execution_count": 12,
   "id": "0d868043-6705-47a0-9257-ec723767e741",
   "metadata": {},
   "outputs": [],
   "source": [
    "chapter_values = sorted(list(df[chapter_col].unique()))"
   ]
  },
  {
   "cell_type": "code",
   "execution_count": 14,
   "id": "54970535-8ce1-4a66-9015-9e1e1fdce3d3",
   "metadata": {},
   "outputs": [],
   "source": [
    "import yaml\n",
    "from pathlib import Path"
   ]
  },
  {
   "cell_type": "code",
   "execution_count": 15,
   "id": "ba8f5f1c-110f-4e26-b375-3bbeeaf53dcd",
   "metadata": {},
   "outputs": [],
   "source": [
    "PORTFOLIO_SITE_YAML = Path(\"../portfolio/sites/gtfs_digest.yml\")"
   ]
  },
  {
   "cell_type": "code",
   "execution_count": 16,
   "id": "3ac691d8-c703-49a0-90dd-6f1c0c2e758d",
   "metadata": {},
   "outputs": [],
   "source": [
    "prefix = chapter_info[\"caption_prefix\"]"
   ]
  },
  {
   "cell_type": "code",
   "execution_count": 17,
   "id": "c2d114f0-3fc3-4516-9062-f5dd58526604",
   "metadata": {},
   "outputs": [],
   "source": [
    "section_col = section_info[\"column\"]"
   ]
  },
  {
   "cell_type": "code",
   "execution_count": 18,
   "id": "c7d10759-ff4f-4ae5-89e9-065711fc61ee",
   "metadata": {},
   "outputs": [],
   "source": [
    "with open(PORTFOLIO_SITE_YAML) as f:\n",
    "        site_yaml_dict = yaml.load(f, yaml.Loader)"
   ]
  },
  {
   "cell_type": "code",
   "execution_count": 19,
   "id": "fb27fff8-e9da-4ac4-a2ce-8c459f7fb680",
   "metadata": {},
   "outputs": [],
   "source": [
    "chapters_list = []\n",
    "for district in chapter_values:\n",
    "    df2 = df.loc[df.caltrans_district == district]\n",
    "    chapters_list_one_district = [\n",
    "    {\n",
    "        **{\n",
    "            \"caption\": f\"{prefix} {district}\",\n",
    "            \"params\": {chapter_info[\"name\"]: district},\n",
    "            \"section\": [\n",
    "                {section_info[\"name\"]: one_section_value}\n",
    "                for one_section_value in df2[section_col].unique().tolist()\n",
    "            ],\n",
    "        }\n",
    "    }]\n",
    "    chapters_list.append(chapters_list_one_district)"
   ]
  },
  {
   "cell_type": "code",
   "execution_count": 20,
   "id": "0b4089ef-7198-4634-a4fb-701e5afaad3e",
   "metadata": {
    "tags": []
   },
   "outputs": [
    {
     "data": {
      "text/plain": [
       "[{'caption': 'District  01 - Eureka',\n",
       "  'params': {'district': '01 - Eureka'},\n",
       "  'section': [{'organization_name': 'Blue Lake Rancheria'},\n",
       "   {'organization_name': 'City of Arcata'},\n",
       "   {'organization_name': 'City of Eureka'},\n",
       "   {'organization_name': 'Curry Public Transit'},\n",
       "   {'organization_name': 'Humboldt Transit Authority'},\n",
       "   {'organization_name': 'Lake Transit Authority'},\n",
       "   {'organization_name': 'Mendocino Transit Authority'},\n",
       "   {'organization_name': 'POINT'},\n",
       "   {'organization_name': 'Redwood Coast Transit Authority'}]}]"
      ]
     },
     "execution_count": 20,
     "metadata": {},
     "output_type": "execute_result"
    }
   ],
   "source": [
    "chapters_list[0]"
   ]
  },
  {
   "cell_type": "code",
   "execution_count": 21,
   "id": "dbf1371b-1f39-4852-a089-e7d881c51cf2",
   "metadata": {},
   "outputs": [],
   "source": [
    "parts_list = [{\"chapters\": chapters_list}]"
   ]
  },
  {
   "cell_type": "code",
   "execution_count": 22,
   "id": "7e0424b4-df3e-4040-adc4-e41cf31cbc76",
   "metadata": {},
   "outputs": [
    {
     "data": {
      "text/plain": [
       "list"
      ]
     },
     "execution_count": 22,
     "metadata": {},
     "output_type": "execute_result"
    }
   ],
   "source": [
    "type(parts_list)"
   ]
  },
  {
   "cell_type": "code",
   "execution_count": 24,
   "id": "9c46a82d-bfbf-458a-874c-09dd5fc80aa5",
   "metadata": {},
   "outputs": [],
   "source": [
    "site_yaml_dict[\"parts\"] = parts_list"
   ]
  },
  {
   "cell_type": "code",
   "execution_count": 29,
   "id": "64c6f013-ae11-4302-937b-598200ea51dd",
   "metadata": {
    "scrolled": true,
    "tags": []
   },
   "outputs": [
    {
     "data": {
      "text/plain": [
       "{'directory': './gtfs_digest/',\n",
       " 'notebook': './gtfs_digest/03_report.ipynb',\n",
       " 'parts': [{'chapters': [[{'caption': 'District  01 - Eureka',\n",
       "      'params': {'district': '01 - Eureka'},\n",
       "      'section': [{'organization_name': 'Blue Lake Rancheria'},\n",
       "       {'organization_name': 'City of Arcata'},\n",
       "       {'organization_name': 'City of Eureka'},\n",
       "       {'organization_name': 'Curry Public Transit'},\n",
       "       {'organization_name': 'Humboldt Transit Authority'},\n",
       "       {'organization_name': 'Lake Transit Authority'},\n",
       "       {'organization_name': 'Mendocino Transit Authority'},\n",
       "       {'organization_name': 'POINT'},\n",
       "       {'organization_name': 'Redwood Coast Transit Authority'}]}],\n",
       "    [{'caption': 'District  02 - Redding',\n",
       "      'params': {'district': '02 - Redding'},\n",
       "      'section': [{'organization_name': 'Lassen Transit Service Agency'},\n",
       "       {'organization_name': 'Modoc Transportation Agency'},\n",
       "       {'organization_name': 'Plumas Transit Systems'},\n",
       "       {'organization_name': 'Redding Area Bus Authority'},\n",
       "       {'organization_name': 'Shasta County'},\n",
       "       {'organization_name': 'Siskiyou County'},\n",
       "       {'organization_name': 'Susanville Indian Rancheria'},\n",
       "       {'organization_name': 'Tehama County'},\n",
       "       {'organization_name': 'Trinity County'}]}],\n",
       "    [{'caption': 'District  03 - Marysville',\n",
       "      'params': {'district': '03 - Marysville'},\n",
       "      'section': [{'organization_name': 'Amtrak'},\n",
       "       {'organization_name': 'Butte County Association of Governments'},\n",
       "       {'organization_name': 'City of Auburn'},\n",
       "       {'organization_name': 'City of Elk Grove'},\n",
       "       {'organization_name': 'City of Rancho Cordova'},\n",
       "       {'organization_name': 'City of Roseville'},\n",
       "       {'organization_name': 'El Dorado County Transit Authority'},\n",
       "       {'organization_name': 'Glenn County'},\n",
       "       {'organization_name': 'Nevada County'},\n",
       "       {'organization_name': 'North Lake Tahoe Express'},\n",
       "       {'organization_name': 'Placer County'},\n",
       "       {'organization_name': 'Sacramento County'},\n",
       "       {'organization_name': 'Sacramento Regional Transit District'},\n",
       "       {'organization_name': 'Tahoe Transportation District'},\n",
       "       {'organization_name': 'Tahoe Truckee Area Regional Transportation'},\n",
       "       {'organization_name': 'University of California, Davis'},\n",
       "       {'organization_name': 'Yolo County Transportation District'},\n",
       "       {'organization_name': 'Yuba-Sutter Transit Authority'}]}],\n",
       "    [{'caption': 'District  04 - Oakland',\n",
       "      'params': {'district': '04 - Oakland'},\n",
       "      'section': [{'organization_name': 'Alameda-Contra Costa Transit District'},\n",
       "       {'organization_name': 'Capitol Corridor Joint Powers Authority'},\n",
       "       {'organization_name': 'Central Contra Costa Transit Authority'},\n",
       "       {'organization_name': 'City and County of San Francisco'},\n",
       "       {'organization_name': 'City of Fairfield'},\n",
       "       {'organization_name': 'City of Menlo Park'},\n",
       "       {'organization_name': 'City of Petaluma'},\n",
       "       {'organization_name': 'City of Rio Vista'},\n",
       "       {'organization_name': 'City of Santa Rosa'},\n",
       "       {'organization_name': 'City of South San Francisco'},\n",
       "       {'organization_name': 'City of Union City'},\n",
       "       {'organization_name': 'City of Vacaville'},\n",
       "       {'organization_name': 'Cloverdale Transit'},\n",
       "       {'organization_name': 'Commute.org'},\n",
       "       {'organization_name': 'Eastern Contra Costa Transit Authority'},\n",
       "       {'organization_name': 'Emeryville Transportation Management Agency'},\n",
       "       {'organization_name': 'Livermore-Amador Valley Transit Authority'},\n",
       "       {'organization_name': 'Marin County Transit District'},\n",
       "       {'organization_name': 'Mission Bay Transportation Management Agency'},\n",
       "       {'organization_name': 'Mountain View Transportation Management Association'},\n",
       "       {'organization_name': 'Napa Valley Transportation Authority'},\n",
       "       {'organization_name': 'Peninsula Corridor Joint Powers Board'},\n",
       "       {'organization_name': 'Presidio Trust'},\n",
       "       {'organization_name': 'San Francisco Bay Area Rapid Transit District'},\n",
       "       {'organization_name': 'San Francisco International Airport'},\n",
       "       {'organization_name': 'San Mateo County Transit District'},\n",
       "       {'organization_name': 'Santa Clara Valley Transportation Authority'},\n",
       "       {'organization_name': 'Solano County Transit'},\n",
       "       {'organization_name': 'Solano Transportation Authority'},\n",
       "       {'organization_name': 'Sonoma County'},\n",
       "       {'organization_name': 'Sonoma-Marin Area Rail Transit District'},\n",
       "       {'organization_name': 'Stanford University'},\n",
       "       {'organization_name': 'University of California, Berkeley'},\n",
       "       {'organization_name': 'Western Contra Costa Transit Authority'}]}],\n",
       "    [{'caption': 'District  05 - San Luis Obispo',\n",
       "      'params': {'district': '05 - San Luis Obispo'},\n",
       "      'section': [{'organization_name': 'City of Guadalupe'},\n",
       "       {'organization_name': 'City of San Luis Obispo'},\n",
       "       {'organization_name': 'City of Santa Cruz'},\n",
       "       {'organization_name': 'City of Santa Maria'},\n",
       "       {'organization_name': 'City of Solvang'},\n",
       "       {'organization_name': 'Monterey-Salinas Transit'},\n",
       "       {'organization_name': 'San Benito County Local Transportation Authority'},\n",
       "       {'organization_name': 'San Luis Obispo Regional Transit Authority'},\n",
       "       {'organization_name': 'Santa Barbara County Association of Governments'},\n",
       "       {'organization_name': 'Santa Barbara Metropolitan Transit District'},\n",
       "       {'organization_name': 'Santa Cruz Metropolitan Transit District'},\n",
       "       {'organization_name': 'University of California, Santa Cruz'}]}],\n",
       "    [{'caption': 'District  06 - Fresno',\n",
       "      'params': {'district': '06 - Fresno'},\n",
       "      'section': [{'organization_name': 'City of Arvin'},\n",
       "       {'organization_name': 'City of Clovis'},\n",
       "       {'organization_name': 'City of Delano'},\n",
       "       {'organization_name': 'City of Fresno'},\n",
       "       {'organization_name': 'City of Madera'},\n",
       "       {'organization_name': 'City of Visalia'},\n",
       "       {'organization_name': 'Fresno County Rural Transit Agency'},\n",
       "       {'organization_name': 'Golden Empire Transit District'},\n",
       "       {'organization_name': 'Kern County'},\n",
       "       {'organization_name': 'Kings County Area Public Transit Agency'},\n",
       "       {'organization_name': 'Madera County'},\n",
       "       {'organization_name': 'Tulare County Regional Transit Agency'}]}],\n",
       "    [{'caption': 'District  07 - Los Angeles',\n",
       "      'params': {'district': '07 - Los Angeles'},\n",
       "      'section': [{'organization_name': 'Antelope Valley Transit Authority'},\n",
       "       {'organization_name': 'City of Alhambra'},\n",
       "       {'organization_name': 'City of Arcadia'},\n",
       "       {'organization_name': 'City of Baldwin Park'},\n",
       "       {'organization_name': 'City of Bell'},\n",
       "       {'organization_name': 'City of Bell Gardens'},\n",
       "       {'organization_name': 'City of Bellflower'},\n",
       "       {'organization_name': 'City of Burbank'},\n",
       "       {'organization_name': 'City of Calabasas'},\n",
       "       {'organization_name': 'City of Camarillo'},\n",
       "       {'organization_name': 'City of Cerritos'},\n",
       "       {'organization_name': 'City of Commerce'},\n",
       "       {'organization_name': 'City of Cudahy'},\n",
       "       {'organization_name': 'City of Culver City'},\n",
       "       {'organization_name': 'City of Downey'},\n",
       "       {'organization_name': 'City of Duarte'},\n",
       "       {'organization_name': 'City of El Monte'},\n",
       "       {'organization_name': 'City of El Segundo'},\n",
       "       {'organization_name': 'City of Gardena'},\n",
       "       {'organization_name': 'City of Glendale'},\n",
       "       {'organization_name': 'City of Glendora'},\n",
       "       {'organization_name': 'City of Huntington Park'},\n",
       "       {'organization_name': 'City of Inglewood'},\n",
       "       {'organization_name': 'City of La Puente'},\n",
       "       {'organization_name': 'City of Lawndale'},\n",
       "       {'organization_name': 'City of Los Angeles'},\n",
       "       {'organization_name': 'City of Lynwood'},\n",
       "       {'organization_name': 'City of Maywood'},\n",
       "       {'organization_name': 'City of Monterey Park'},\n",
       "       {'organization_name': 'City of Moorpark'},\n",
       "       {'organization_name': 'City of Norwalk'},\n",
       "       {'organization_name': 'City of Ojai'},\n",
       "       {'organization_name': 'City of Pasadena'},\n",
       "       {'organization_name': 'City of Redondo Beach'},\n",
       "       {'organization_name': 'City of Rosemead'},\n",
       "       {'organization_name': 'City of Santa Clarita'},\n",
       "       {'organization_name': 'City of Santa Monica'},\n",
       "       {'organization_name': 'City of Sierra Madre'},\n",
       "       {'organization_name': 'City of Simi Valley'},\n",
       "       {'organization_name': 'City of South Gate'},\n",
       "       {'organization_name': 'City of Thousand Oaks'},\n",
       "       {'organization_name': 'City of Torrance'},\n",
       "       {'organization_name': 'City of West Covina'},\n",
       "       {'organization_name': 'City of West Hollywood'},\n",
       "       {'organization_name': 'FlixBus'},\n",
       "       {'organization_name': 'Foothill Transit'},\n",
       "       {'organization_name': 'Gold Coast Transit District'},\n",
       "       {'organization_name': 'Long Beach Transit'},\n",
       "       {'organization_name': 'Los Angeles County'},\n",
       "       {'organization_name': 'Los Angeles County Metropolitan Transportation Authority'},\n",
       "       {'organization_name': 'Los Angeles World Airports'},\n",
       "       {'organization_name': 'Palos Verdes Peninsula Transit Authority'},\n",
       "       {'organization_name': 'University of California, Los Angeles'},\n",
       "       {'organization_name': 'Ventura County Transportation Commission'}]}],\n",
       "    [{'caption': 'District  08 - San Bernardino',\n",
       "      'params': {'district': '08 - San Bernardino'},\n",
       "      'section': [{'organization_name': 'Basin Transit'},\n",
       "       {'organization_name': 'City of Banning'},\n",
       "       {'organization_name': 'City of Beaumont'},\n",
       "       {'organization_name': 'City of Corona'},\n",
       "       {'organization_name': 'City of Needles'},\n",
       "       {'organization_name': 'Greyhound'},\n",
       "       {'organization_name': 'Mountain Area Regional Transit Authority'},\n",
       "       {'organization_name': 'OmniTrans'},\n",
       "       {'organization_name': 'Palo Verde Valley Transit Agency'},\n",
       "       {'organization_name': 'Riverside Transit Agency'},\n",
       "       {'organization_name': 'Victor Valley Transit Authority'}]}],\n",
       "    [{'caption': 'District  09 - Bishop',\n",
       "      'params': {'district': '09 - Bishop'},\n",
       "      'section': [{'organization_name': 'Eastern Sierra Transit Authority'}]}],\n",
       "    [{'caption': 'District  10 - Stockton',\n",
       "      'params': {'district': '10 - Stockton'},\n",
       "      'section': [{'organization_name': 'Amador Regional Transit System'},\n",
       "       {'organization_name': 'Calaveras Transit Agency'},\n",
       "       {'organization_name': 'City of Escalon'},\n",
       "       {'organization_name': 'City of Lodi'},\n",
       "       {'organization_name': 'City of Manteca'},\n",
       "       {'organization_name': 'City of Ripon'},\n",
       "       {'organization_name': 'City of Tracy'},\n",
       "       {'organization_name': 'City of Turlock'},\n",
       "       {'organization_name': 'San Joaquin Joint Powers Authority'},\n",
       "       {'organization_name': 'San Joaquin Regional Rail Commission'},\n",
       "       {'organization_name': 'San Joaquin Regional Transit District'},\n",
       "       {'organization_name': 'Stanislaus Regional Transit Authority'},\n",
       "       {'organization_name': 'Transit Joint Powers Authority for Merced County'},\n",
       "       {'organization_name': 'Tuolumne County Transit Agency'},\n",
       "       {'organization_name': 'Yosemite Area Regional Transportation System'},\n",
       "       {'organization_name': 'Yosemite National Park'}]}],\n",
       "    [{'caption': 'District  11 - San Diego',\n",
       "      'params': {'district': '11 - San Diego'},\n",
       "      'section': [{'organization_name': 'Flagship Cruises and Events Inc.'},\n",
       "       {'organization_name': 'Imperial County Transportation Commission'},\n",
       "       {'organization_name': 'North County Transit District'},\n",
       "       {'organization_name': 'San Diego International Airport'},\n",
       "       {'organization_name': 'San Diego Metropolitan Transit System'},\n",
       "       {'organization_name': 'Yuma County Intergovernmental Public Transportation Authority'}]}],\n",
       "    [{'caption': 'District  12 - Irvine',\n",
       "      'params': {'district': '12 - Irvine'},\n",
       "      'section': [{'organization_name': 'City of Laguna Beach'},\n",
       "       {'organization_name': 'Orange County Transportation Authority'},\n",
       "       {'organization_name': 'University of California, Irvine'}]}]]}],\n",
       " 'readme': './gtfs_digest/README.md',\n",
       " 'title': 'GTFS Digest'}"
      ]
     },
     "execution_count": 29,
     "metadata": {},
     "output_type": "execute_result"
    }
   ],
   "source": [
    "site_yaml_dict"
   ]
  },
  {
   "cell_type": "code",
   "execution_count": 25,
   "id": "723e327e-adaf-4d02-bed3-7c0b6441d4ce",
   "metadata": {},
   "outputs": [],
   "source": [
    "output = yaml.dump(site_yaml_dict)"
   ]
  },
  {
   "cell_type": "code",
   "execution_count": 26,
   "id": "14af16b8-e000-4d90-a33b-edfb51ef2e24",
   "metadata": {},
   "outputs": [],
   "source": [
    "with open(PORTFOLIO_SITE_YAML, \"w\") as f:\n",
    "        f.write(output)"
   ]
  },
  {
   "cell_type": "markdown",
   "id": "1a4bfd56-4a63-4fe6-9a94-e8f00c35672e",
   "metadata": {},
   "source": [
    "## 11/18: double check the yaml generation"
   ]
  },
  {
   "cell_type": "code",
   "execution_count": 27,
   "id": "ce05fcb7-e942-46da-9c62-fae4270e30d0",
   "metadata": {},
   "outputs": [
    {
     "ename": "NameError",
     "evalue": "name 'stop' is not defined",
     "output_type": "error",
     "traceback": [
      "\u001b[0;31m---------------------------------------------------------------------------\u001b[0m",
      "\u001b[0;31mNameError\u001b[0m                                 Traceback (most recent call last)",
      "Cell \u001b[0;32mIn[27], line 1\u001b[0m\n\u001b[0;32m----> 1\u001b[0m \u001b[43mstop\u001b[49m\n",
      "\u001b[0;31mNameError\u001b[0m: name 'stop' is not defined"
     ]
    }
   ],
   "source": [
    "stop"
   ]
  },
  {
   "cell_type": "code",
   "execution_count": null,
   "id": "e79430d9-98cc-4fb9-b314-f3460b0ef374",
   "metadata": {
    "scrolled": true,
    "tags": []
   },
   "outputs": [],
   "source": [
    "schd_vp_url = f\"{GTFS_DATA_DICT.digest_tables.dir}{GTFS_DATA_DICT.digest_tables.route_schedule_vp}.parquet\""
   ]
  },
  {
   "cell_type": "code",
   "execution_count": null,
   "id": "f6dbfc2e-94da-459f-9c9b-7979f6a58b47",
   "metadata": {},
   "outputs": [],
   "source": [
    "schd_vp_df = pd.read_parquet(\n",
    "    schd_vp_url,\n",
    "    filters=[[(\"sched_rt_category\", \"in\", [\"schedule_and_vp\", \"schedule_only\"])]],\n",
    "    columns=[\n",
    "        \"schedule_gtfs_dataset_key\",\n",
    "        \"caltrans_district\",\n",
    "        \"organization_name\",\n",
    "        \"name\",\n",
    "        \"sched_rt_category\",\n",
    "        \"service_date\",\n",
    "    ],\n",
    ")"
   ]
  },
  {
   "cell_type": "code",
   "execution_count": null,
   "id": "fcadf465-d402-4abb-aa41-cbbd2108a2fd",
   "metadata": {},
   "outputs": [],
   "source": [
    "schd_vp_df.shape"
   ]
  },
  {
   "cell_type": "code",
   "execution_count": null,
   "id": "a5dd6dfe-6a30-45dd-93dc-3fb7744257ec",
   "metadata": {},
   "outputs": [],
   "source": [
    "schd_vp_df.sched_rt_category.value_counts()"
   ]
  },
  {
   "cell_type": "code",
   "execution_count": null,
   "id": "e5d6ef71-1071-47ab-b54f-bf074a6ec8e0",
   "metadata": {},
   "outputs": [],
   "source": [
    "schd_vp_df.info()"
   ]
  },
  {
   "cell_type": "code",
   "execution_count": null,
   "id": "e940ddbf-3921-4507-a3a0-f46ecc926a0d",
   "metadata": {},
   "outputs": [],
   "source": [
    "schd_vp_df.loc[schd_vp_df.caltrans_district.isna()][\n",
    "    [\"organization_name\"]\n",
    "].drop_duplicates()"
   ]
  },
  {
   "cell_type": "code",
   "execution_count": null,
   "id": "b0a79b60-5d57-4cc6-b3cf-f787543ceed5",
   "metadata": {},
   "outputs": [],
   "source": [
    "schd_vp_df2 = (\n",
    "    schd_vp_df.dropna(subset=\"caltrans_district\")\n",
    "    .sort_values(\n",
    "        by=[\n",
    "            \"caltrans_district\",\n",
    "            \"organization_name\",\n",
    "            \"service_date\",\n",
    "        ],\n",
    "        ascending=[True, True, False],\n",
    "    )\n",
    "    .drop_duplicates(\n",
    "        subset=[\n",
    "            \"organization_name\",\n",
    "            \"caltrans_district\",\n",
    "        ]\n",
    "    )\n",
    "    .reset_index(drop=True)\n",
    ")"
   ]
  },
  {
   "cell_type": "code",
   "execution_count": null,
   "id": "f2472526-d9fb-44f6-a26c-6307aacfcfcd",
   "metadata": {},
   "outputs": [],
   "source": [
    "schd_vp_df2.shape"
   ]
  },
  {
   "cell_type": "code",
   "execution_count": null,
   "id": "5105c734-125b-4f98-a5ec-bab129ff0ec9",
   "metadata": {},
   "outputs": [],
   "source": [
    "schd_vp_df2.sched_rt_category.value_counts()"
   ]
  },
  {
   "cell_type": "code",
   "execution_count": null,
   "id": "ec2fc51c-6600-4ddc-ae60-7d6146d2077a",
   "metadata": {},
   "outputs": [],
   "source": [
    "schd_vp_df2.organization_name.nunique()"
   ]
  },
  {
   "cell_type": "code",
   "execution_count": null,
   "id": "37928fb8-e6a7-4110-95db-92f3f87cd2f2",
   "metadata": {},
   "outputs": [],
   "source": [
    "schd_vp_df2.service_date.value_counts()"
   ]
  },
  {
   "cell_type": "code",
   "execution_count": null,
   "id": "8dcc6b3e-7bb7-4e42-9b69-fc2eb5495790",
   "metadata": {
    "scrolled": true,
    "tags": []
   },
   "outputs": [],
   "source": [
    "# schd_vp_df2"
   ]
  },
  {
   "cell_type": "code",
   "execution_count": null,
   "id": "19319f4b-800a-4e4a-b499-503361b34e89",
   "metadata": {},
   "outputs": [],
   "source": [
    "df = (\n",
    "    op_prep.operators_schd_vp_rt()\n",
    "    .sort_values([\"caltrans_district\", \"organization_name\"])\n",
    "    .reset_index(drop=True)\n",
    ")"
   ]
  },
  {
   "cell_type": "code",
   "execution_count": null,
   "id": "6e988f1d-3be2-4e00-8335-ea09f21d6e8d",
   "metadata": {
    "scrolled": true,
    "tags": []
   },
   "outputs": [],
   "source": [
    "df"
   ]
  },
  {
   "cell_type": "code",
   "execution_count": null,
   "id": "bceec767-4a3f-439c-927d-9dc585e1f45a",
   "metadata": {},
   "outputs": [],
   "source": []
  }
 ],
 "metadata": {
  "kernelspec": {
   "display_name": "Python 3 (ipykernel)",
   "language": "python",
   "name": "python3"
  },
  "language_info": {
   "codemirror_mode": {
    "name": "ipython",
    "version": 3
   },
   "file_extension": ".py",
   "mimetype": "text/x-python",
   "name": "python",
   "nbconvert_exporter": "python",
   "pygments_lexer": "ipython3",
   "version": "3.9.13"
  }
 },
 "nbformat": 4,
 "nbformat_minor": 5
}
