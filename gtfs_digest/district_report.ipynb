{
 "cells": [
  {
   "cell_type": "code",
   "execution_count": null,
   "id": "feafca21-a1d4-45b5-87ae-5ac5c1b34532",
   "metadata": {},
   "outputs": [],
   "source": [
    "%%capture\n",
    "\n",
    "import warnings\n",
    "\n",
    "warnings.filterwarnings(\"ignore\")\n",
    "import calitp_data_analysis.magics\n",
    "\n",
    "import geopandas as gpd\n",
    "import pandas as pd\n",
    "\n",
    "from great_tables import GT, loc, style\n",
    "from slugify import slugify\n",
    "\n",
    "import _report_utils\n",
    "from update_vars import GTFS_DATA_DICT, RT_SCHED_GCS"
   ]
  },
  {
   "cell_type": "code",
   "execution_count": null,
   "id": "c15333a6-138e-46ac-ba5e-1ba07947ac44",
   "metadata": {
    "tags": [
     "parameters"
    ]
   },
   "outputs": [],
   "source": [
    "# Comment out and leave this cell right below pandas\n",
    "#district = \"07 - Los Angeles\""
   ]
  },
  {
   "cell_type": "code",
   "execution_count": null,
   "id": "f86359af-8cfe-42e8-8d10-0945dc70fded",
   "metadata": {},
   "outputs": [],
   "source": [
    "DISTRICT_DIGEST_URL = (\n",
    "    \"https://gtfs-digest--cal-itp-data-analyses.netlify.app/district_\"\n",
    "    f\"{slugify(district)}\"\n",
    ")"
   ]
  },
  {
   "cell_type": "code",
   "execution_count": null,
   "id": "9af945ff-0887-43d7-b12e-5866205773ba",
   "metadata": {},
   "outputs": [],
   "source": [
    "%%capture_parameters\n",
    "district, DISTRICT_DIGEST_URL"
   ]
  },
  {
   "cell_type": "code",
   "execution_count": null,
   "id": "d3d0d0a2-4543-4b30-b2f5-2350a2401bec",
   "metadata": {},
   "outputs": [],
   "source": [
    "# Read in all datasets here with GTFS_DATA_DICT \n",
    "# Reran merge_operate_data.py to test this\n",
    "OPERATOR_FILE = GTFS_DATA_DICT.digest_tables.operator_profiles\n",
    "OPERATOR_ROUTE = GTFS_DATA_DICT.digest_tables.operator_routes_map\n",
    "\n",
    "operator_df = pd.read_parquet(\n",
    "    f\"{RT_SCHED_GCS}{OPERATOR_FILE}.parquet\",\n",
    "    filters = [[(\"caltrans_district\", \"==\", district)]]\n",
    ")\n",
    "\n",
    "# using name instead of schedule_gtfs_dataset_key allows us to get \n",
    "# the last ones for LA Metro without keeping extraneous rows for LA Metro when keys changed\n",
    "operator_df = operator_df.sort_values(\n",
    "    [\"service_date\", \"name\"], \n",
    "    ascending=[False, True]\n",
    ").drop_duplicates(\n",
    "    subset=[\"name\"]\n",
    ").reset_index(drop=True)"
   ]
  },
  {
   "cell_type": "code",
   "execution_count": null,
   "id": "4103781e-fd7c-4dd8-a16d-d8f742cb50a4",
   "metadata": {},
   "outputs": [],
   "source": [
    "# Need this, but sometimes we'll subset columns for table\n",
    "def replace_column_names(df: pd.DataFrame):\n",
    "    df.columns = df.columns.map(_report_utils.replace_column_names)\n",
    "    return df"
   ]
  },
  {
   "cell_type": "markdown",
   "id": "41f0a970-4646-4147-a596-d41d15517127",
   "metadata": {},
   "source": [
    "# District {district}\n",
    "\n",
    "These are district summaries for [GTFS Digest](https://gtfs-digest--cal-itp-data-analyses.netlify.app/). \n",
    "\n",
    "Individual transit operators have their pages at: **[{DISTRICT_DIGEST_URL}]({DISTRICT_DIGEST_URL})**"
   ]
  },
  {
   "cell_type": "code",
   "execution_count": null,
   "id": "1037717f-12fe-4f66-a85b-68ca33f6d221",
   "metadata": {},
   "outputs": [],
   "source": [
    "def district_stats(df: pd.DataFrame, group_cols: list) -> pd.DataFrame:\n",
    "    \"\"\"\n",
    "    Get district metrics by summing or taking average across \n",
    "    all operators in the district for GTFS schedule data.\n",
    "    \"\"\"\n",
    "    sum_me = [\n",
    "        f\"operator_{i}\" for i in [\n",
    "            \"n_routes\", \"n_trips\", \"n_shapes\", \"n_stops\", \n",
    "            \"n_arrivals\"]\n",
    "    ]\n",
    "    \n",
    "    df2 = (df.groupby(group_cols, \n",
    "                      observed=True, group_keys=False)\n",
    "           .agg({\n",
    "               \"name\": \"nunique\",\n",
    "               **{c:\"sum\" for c in sum_me},\n",
    "           })\n",
    "           .reset_index()\n",
    "           .rename(columns = {\"name\": \"n_operators\"})\n",
    "          )\n",
    "    \n",
    "    # These need to be calculated again separately\n",
    "    df2 = df2.assign(\n",
    "        arrivals_per_stop = df2.operator_n_arrivals.divide(df2.operator_n_stops).round(2),\n",
    "        trips_per_operator = df2.operator_n_trips.divide(df2.n_operators).round(2)\n",
    "    )\n",
    "    \n",
    "    return df2"
   ]
  },
  {
   "cell_type": "code",
   "execution_count": null,
   "id": "06069f65-3a0c-40a7-86dc-ec1321213ccd",
   "metadata": {},
   "outputs": [],
   "source": [
    "district_summary = district_stats(operator_df, \"caltrans_district\")"
   ]
  },
  {
   "cell_type": "code",
   "execution_count": null,
   "id": "0829887c-c389-4ca2-99ec-aad13eada64c",
   "metadata": {},
   "outputs": [],
   "source": [
    "def transpose_me(\n",
    "    df: pd.DataFrame, \n",
    ") -> pd.DataFrame:\n",
    "    \"\"\"\n",
    "    District summary should be transposed, otherwise columns\n",
    "    get shrunk and there's only 1 row.\n",
    "    \n",
    "    Do some wrangling here so that great tables\n",
    "    can display it fairly cleanly.\n",
    "    \"\"\"\n",
    "    # Fix this so we can see it\n",
    "    subset_df = df.drop(\n",
    "        columns = \"caltrans_district\"\n",
    "    ).reset_index(drop=True)\n",
    "    \n",
    "    subset_df2 = subset_df.rename(\n",
    "        columns = {\n",
    "            **{c: f\"{c.replace('operator_n_', '# ')}\" for c in subset_df.columns},\n",
    "            \"n_operators\": \"# operators\",\n",
    "            \"arrivals_per_stop\": \"arrivals per stop\",\n",
    "            \"trips_per_operator\": \"trips per operator\"\n",
    "        }).T.reset_index().rename(columns = {0: \"value\"})\n",
    "    \n",
    "    return subset_df2"
   ]
  },
  {
   "cell_type": "code",
   "execution_count": null,
   "id": "8eb3a4cc-09a5-49ac-af0c-9e84cfed3d05",
   "metadata": {},
   "outputs": [],
   "source": [
    "summary_table1 = (GT(\n",
    "    district_summary.drop(\n",
    "        columns = [\"arrivals_per_stop\", \"trips_per_operator\"]\n",
    "    ).pipe(transpose_me)\n",
    ")\n",
    " .fmt_integer(columns=\"value\")\n",
    " .cols_label(index=\"\")\n",
    " .tab_header(title = f\"District {district} GTFS summary stats\")\n",
    ")\n",
    "\n",
    "summary_table2 = (GT(\n",
    "    district_summary[\n",
    "        [\"caltrans_district\", \"arrivals_per_stop\", \"trips_per_operator\"]\n",
    "    ].pipe(transpose_me)\n",
    ")\n",
    " .fmt_number(\"value\", decimals=1)\n",
    " .cols_label(index=\"\")\n",
    ")"
   ]
  },
  {
   "cell_type": "code",
   "execution_count": null,
   "id": "496f6d82-227e-468d-af9b-b65bc2d0ec57",
   "metadata": {},
   "outputs": [],
   "source": [
    "display(summary_table1)\n",
    "display(summary_table2)"
   ]
  },
  {
   "cell_type": "markdown",
   "id": "b10ecb81-491e-4f65-af8d-0032d6e11d4e",
   "metadata": {},
   "source": [
    "## GTFS Stats by Operator"
   ]
  },
  {
   "cell_type": "code",
   "execution_count": null,
   "id": "1ad2672d-2863-4656-90d6-058e35c52bda",
   "metadata": {},
   "outputs": [],
   "source": [
    "operators_in_district = operator_df.schedule_gtfs_dataset_key.unique()\n",
    "\n",
    "operator_route_gdf = gpd.read_parquet(\n",
    "    f\"{RT_SCHED_GCS}{OPERATOR_ROUTE}.parquet\",\n",
    "    filters = [[\"schedule_gtfs_dataset_key\", \"in\", operators_in_district]],\n",
    "    columns = [\"name\", \"service_date\", \n",
    "               \"route_combined_name\", \"geometry\"]\n",
    ").sort_values(\n",
    "    [\"service_date\", \"name\", \"route_combined_name\"], \n",
    "    ascending=[False, True, True]\n",
    ").drop_duplicates(\n",
    "    subset = [\"name\", \"route_combined_name\"]\n",
    ").drop(\n",
    "    columns = [\"service_date\", \"route_combined_name\"]\n",
    "    # drop route because after the dissolve, all operator routes are combined\n",
    "    # so route would hold only the first row's value\n",
    ").dissolve(by = \"name\").reset_index().pipe(replace_column_names)\n",
    "\n",
    "operator_route_gdf[\"Transit Operator\"] = operator_route_gdf[\"Transit Operator\"].str.replace(\" Schedule\", \"\")"
   ]
  },
  {
   "cell_type": "code",
   "execution_count": null,
   "id": "62d76c7a-8271-45c2-9dce-52b58b04f126",
   "metadata": {},
   "outputs": [],
   "source": [
    "operator_route_gdf.explore(\n",
    "    \"Transit Operator\", \n",
    "    tiles = \"CartoDB Positron\",\n",
    "    categorical=True,\n",
    "    legend=True,\n",
    "    legend_kwds = {\n",
    "        \"width\": 200\n",
    "    }\n",
    ")"
   ]
  },
  {
   "cell_type": "code",
   "execution_count": null,
   "id": "d10e25ae-1904-4d0f-a670-f90232984952",
   "metadata": {},
   "outputs": [],
   "source": [
    "shared_cols = [\"organization_name\", \"name\"]\n",
    "exclude_cols = [\"schedule_gtfs_dataset_key\", \"caltrans_district\",\n",
    "                \"organization_source_record_id\", \"service_date\", \n",
    "                \"primary_uza\"]\n",
    "\n",
    "gtfs_service_cols = [\n",
    "    c for c in operator_df.columns \n",
    "    if \"operator_\" in c]"
   ]
  },
  {
   "cell_type": "code",
   "execution_count": null,
   "id": "c9a2ceb0-3511-4161-9c0f-13659a1240c5",
   "metadata": {},
   "outputs": [],
   "source": [
    "gtfs_table_df = operator_df[\n",
    "    shared_cols + gtfs_service_cols\n",
    "].pipe(replace_column_names)"
   ]
  },
  {
   "cell_type": "code",
   "execution_count": null,
   "id": "7f2b427a-c32c-4c2c-b4b3-5a30b0181855",
   "metadata": {},
   "outputs": [],
   "source": [
    "string_cols = gtfs_table_df.select_dtypes(include=\"object\").columns.tolist()\n",
    "\n",
    "gtfs_table = (\n",
    "    GT(gtfs_table_df.sort_values(\"# Trips\", ascending=False))\n",
    "    .fmt_integer(\n",
    "        columns = [\n",
    "            c for c in gtfs_table_df.columns if c not in \n",
    "         [\"Operator Service Miles\", \"Avg Arrivals per Stop\"]\n",
    "            and (c not in string_cols)\n",
    "        ])\n",
    "    .fmt_number(\n",
    "        columns = [\"Operator Service Miles\", \"Avg Arrivals per Stop\"], \n",
    "        decimals = 1)\n",
    "    .data_color(\n",
    "        columns=[\"# Trips\", \"Avg Arrivals per Stop\"],\n",
    "        palette=[\"white\", \"green\"],\n",
    "        na_color=\"lightgray\")\n",
    "    .tab_header(\n",
    "         title = f\"District {district}\",\n",
    "         subtitle = \"Daily GTFS schedule statistics by operator\")\n",
    "    .cols_align(columns = [c for c in gtfs_table_df.columns if c not in [\"Organization\", \"Transit Operator\"]],\n",
    "        align=\"center\")\n",
    "    .opt_align_table_header(align=\"center\")\n",
    "    .tab_style(\n",
    "        style=style.text(size=\"14px\"),\n",
    "        locations=loc.body())\n",
    "    .tab_options(\n",
    "        container_width = \"100%\",\n",
    "        table_background_color=\"white\",\n",
    "        table_body_hlines_style=\"none\",\n",
    "        table_body_vlines_style=\"none\",\n",
    "        heading_background_color=\"white\",\n",
    "        column_labels_background_color=\"white\",\n",
    "        row_group_background_color=\"white\",\n",
    "        stub_background_color=\"white\",\n",
    "        source_notes_background_color=\"white\"\n",
    "     )\n",
    "    )\n",
    "\n",
    "gtfs_table"
   ]
  },
  {
   "cell_type": "code",
   "execution_count": null,
   "id": "ccb8d5e2-bb00-4f33-b335-b5253b6e5fee",
   "metadata": {},
   "outputs": [],
   "source": []
  }
 ],
 "metadata": {
  "kernelspec": {
   "display_name": "Python 3 (ipykernel)",
   "language": "python",
   "name": "python3"
  },
  "language_info": {
   "codemirror_mode": {
    "name": "ipython",
    "version": 3
   },
   "file_extension": ".py",
   "mimetype": "text/x-python",
   "name": "python",
   "nbconvert_exporter": "python",
   "pygments_lexer": "ipython3",
   "version": "3.9.13"
  }
 },
 "nbformat": 4,
 "nbformat_minor": 5
}
