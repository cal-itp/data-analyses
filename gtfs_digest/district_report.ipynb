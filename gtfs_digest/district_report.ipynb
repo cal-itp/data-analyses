{
 "cells": [
  {
   "cell_type": "code",
   "execution_count": null,
   "id": "feafca21-a1d4-45b5-87ae-5ac5c1b34532",
   "metadata": {},
   "outputs": [],
   "source": [
    "%%capture\n",
    "\n",
    "import warnings\n",
    "\n",
    "warnings.filterwarnings(\"ignore\")\n",
    "import calitp_data_analysis.magics\n",
    "\n",
    "import geopandas as gpd\n",
    "import pandas as pd\n",
    "\n",
    "from great_tables import GT\n",
    "from slugify import slugify\n",
    "\n",
    "import _report_utils\n",
    "from update_vars import GTFS_DATA_DICT, RT_SCHED_GCS\n",
    "import _ct_district_utils\n",
    "\n",
    "from IPython.display import HTML, Image, Markdown, display, display_html"
   ]
  },
  {
   "cell_type": "code",
   "execution_count": null,
   "id": "c15333a6-138e-46ac-ba5e-1ba07947ac44",
   "metadata": {
    "tags": [
     "parameters"
    ]
   },
   "outputs": [],
   "source": [
    "# Comment out and leave this cell right below pandas\n",
    "district = \"08 - San Bernardino\""
   ]
  },
  {
   "cell_type": "code",
   "execution_count": null,
   "id": "f86359af-8cfe-42e8-8d10-0945dc70fded",
   "metadata": {},
   "outputs": [],
   "source": [
    "DISTRICT_DIGEST_URL = (\n",
    "    \"https://gtfs-digest--cal-itp-data-analyses.netlify.app/district_\"\n",
    "    f\"{slugify(district)}\"\n",
    ")"
   ]
  },
  {
   "cell_type": "code",
   "execution_count": null,
   "id": "9af945ff-0887-43d7-b12e-5866205773ba",
   "metadata": {},
   "outputs": [],
   "source": [
    "# %%capture_parameters\n",
    "# district, DISTRICT_DIGEST_URL"
   ]
  },
  {
   "cell_type": "code",
   "execution_count": null,
   "id": "cbafa165-4db8-4db2-bc5f-1cbbbe346a48",
   "metadata": {},
   "outputs": [],
   "source": [
    "# Extract district from district string when doing an sjoin\n",
    "# between CT districts & routes\n",
    "district_int = [int(s) for s in district.split() if s.isdigit()][0]"
   ]
  },
  {
   "cell_type": "code",
   "execution_count": null,
   "id": "d3d0d0a2-4543-4b30-b2f5-2350a2401bec",
   "metadata": {},
   "outputs": [],
   "source": [
    "# Read in all datasets here with GTFS_DATA_DICT \n",
    "# Reran merge_operator_data.py to test this\n",
    "OPERATOR_FILE = GTFS_DATA_DICT.digest_tables.operator_profiles\n",
    "OPERATOR_ROUTE = GTFS_DATA_DICT.digest_tables.operator_routes_map\n",
    "\n",
    "operator_df = pd.read_parquet(\n",
    "    f\"{RT_SCHED_GCS}{OPERATOR_FILE}.parquet\",\n",
    "    filters = [[(\"caltrans_district\", \"==\", district)]]\n",
    ")\n",
    "\n",
    "# using name instead of schedule_gtfs_dataset_key allows us to get \n",
    "# the last ones for LA Metro without keeping extraneous rows for LA Metro when keys changed\n",
    "operator_df = operator_df.sort_values(\n",
    "    [\"service_date\", \"name\"], \n",
    "    ascending=[False, True]\n",
    ").drop_duplicates(\n",
    "    subset=[\"name\"]\n",
    ").reset_index(drop=True)"
   ]
  },
  {
   "cell_type": "code",
   "execution_count": null,
   "id": "e733cb10-3185-4468-9ebe-1c2cb854cd21",
   "metadata": {},
   "outputs": [],
   "source": [
    "# De duplicate\n",
    "# First find any organizations_names with more than 2 names per \n",
    "orgs_agg = (\n",
    "    operator_df.groupby([\"caltrans_district\", \"organization_name\"])\n",
    "    .agg({\"name\": \"nunique\"})\n",
    "    .reset_index()\n",
    ")\n",
    "orgs_agg2 = orgs_agg.loc[orgs_agg.name > 1]\n",
    "orgs_with_2_names = list(orgs_agg2.organization_name.unique())"
   ]
  },
  {
   "cell_type": "code",
   "execution_count": null,
   "id": "f2197f14-0623-46b4-bdda-a6da1581a9d2",
   "metadata": {},
   "outputs": [],
   "source": [
    "# Delete out these organizations from the original df so we can manipulate them.\n",
    "operator_df2 = operator_df.loc[\n",
    "    ~operator_df.organization_name.isin(orgs_with_2_names)\n",
    "].reset_index(drop=True)"
   ]
  },
  {
   "cell_type": "code",
   "execution_count": null,
   "id": "e7ee27ca-fafc-41a5-b15c-eead1c11785f",
   "metadata": {},
   "outputs": [],
   "source": [
    "# Filter for these organizations with more than 2 names in their own df.\n",
    "orgs_with_2_names_df = operator_df.loc[\n",
    "    operator_df.organization_name.isin(orgs_with_2_names)\n",
    "].reset_index(drop=True)"
   ]
  },
  {
   "cell_type": "code",
   "execution_count": null,
   "id": "ad8f31e7-f7b0-4f8e-9ee8-6479ea1af654",
   "metadata": {},
   "outputs": [],
   "source": [
    "three_month_reference = operator_df2[\"service_date\"].max() - pd.DateOffset(\n",
    "    months=3\n",
    ")"
   ]
  },
  {
   "cell_type": "code",
   "execution_count": null,
   "id": "9d2e2807-801a-48f5-9933-3adaad4ebfef",
   "metadata": {},
   "outputs": [],
   "source": [
    "orgs_with_2_names_df = orgs_with_2_names_df[\n",
    "    orgs_with_2_names_df[\"service_date\"] >= three_month_reference\n",
    "]"
   ]
  },
  {
   "cell_type": "code",
   "execution_count": null,
   "id": "c93e5f3d-1b87-495d-a63e-2454d7089754",
   "metadata": {},
   "outputs": [],
   "source": [
    "# Filter out any rows in which `vp_per_min_agency` and `spatial_accuracy_agency` is equal than 0\n",
    "# and still has 2+ names\n",
    "orgs_agg = (\n",
    "    orgs_with_2_names_df.groupby([\"organization_name\"])\n",
    "    .agg({\"name\": \"nunique\"})\n",
    "    .reset_index()\n",
    "    .rename(columns={\"name\": \"n_names\"})\n",
    ")"
   ]
  },
  {
   "cell_type": "code",
   "execution_count": null,
   "id": "a81b77e8-90dd-4626-9077-45cb87ea2d0f",
   "metadata": {},
   "outputs": [],
   "source": [
    "orgs_with_2_names_df = pd.merge(\n",
    "    orgs_with_2_names_df, orgs_agg, on=\"organization_name\", how=\"left\"\n",
    ")"
   ]
  },
  {
   "cell_type": "code",
   "execution_count": null,
   "id": "4f0eccf0-3731-4f93-9d7d-c4cc54617bbb",
   "metadata": {},
   "outputs": [],
   "source": [
    "orgs_with_2_names_df2 = orgs_with_2_names_df[\n",
    "    (orgs_with_2_names_df.vp_per_min_agency > 0)\n",
    "    & (orgs_with_2_names_df.spatial_accuracy_agency > 0)\n",
    "    & (orgs_with_2_names_df.n_names > 1)\n",
    "].reset_index(drop=True)"
   ]
  },
  {
   "cell_type": "code",
   "execution_count": null,
   "id": "15712b8e-f547-4668-8f77-c9912207ef7b",
   "metadata": {},
   "outputs": [],
   "source": [
    "# Keep rows that meet service_date\n",
    "service_date = operator_df2.service_date.max()\n",
    "orgs_with_2_names_df3 = orgs_with_2_names_df2.loc[\n",
    "    orgs_with_2_names_df2.service_date == service_date\n",
    "]\n",
    "final_names = list(orgs_with_2_names_df3.organization_name.unique())"
   ]
  },
  {
   "cell_type": "code",
   "execution_count": null,
   "id": "67b1e0cd-7ecf-43ca-80eb-b9139f7f49f8",
   "metadata": {},
   "outputs": [],
   "source": [
    "## Concat back\n",
    "orgs_with_2_names_df = orgs_with_2_names_df.loc[~orgs_with_2_names_df.organization_name.isin(final_names)]"
   ]
  },
  {
   "cell_type": "code",
   "execution_count": null,
   "id": "d591e85f-18f4-4613-8330-c1c6978c0507",
   "metadata": {},
   "outputs": [],
   "source": [
    "orgs_with_2_names_df_final = pd.concat([orgs_with_2_names_df, orgs_with_2_names_df3])"
   ]
  },
  {
   "cell_type": "code",
   "execution_count": null,
   "id": "fcf1647b-892e-4323-8b69-e7bed38951b7",
   "metadata": {},
   "outputs": [],
   "source": [
    "operator_df2 = pd.concat([operator_df2, orgs_with_2_names_df_final])"
   ]
  },
  {
   "cell_type": "markdown",
   "id": "41f0a970-4646-4147-a596-d41d15517127",
   "metadata": {},
   "source": [
    "# District {district}\n",
    "\n",
    "These are district summaries for [GTFS Digest](https://gtfs-digest--cal-itp-data-analyses.netlify.app/). \n",
    "\n",
    "Individual transit operators have their pages at: **[{DISTRICT_DIGEST_URL}]({DISTRICT_DIGEST_URL})**"
   ]
  },
  {
   "cell_type": "code",
   "execution_count": null,
   "id": "06069f65-3a0c-40a7-86dc-ec1321213ccd",
   "metadata": {},
   "outputs": [],
   "source": [
    "district_summary = _report_utils.district_stats(\n",
    "    operator_df2, \n",
    "    \"caltrans_district\"\n",
    ")"
   ]
  },
  {
   "cell_type": "code",
   "execution_count": null,
   "id": "8eb3a4cc-09a5-49ac-af0c-9e84cfed3d05",
   "metadata": {},
   "outputs": [],
   "source": [
    "summary_table1 = (GT(\n",
    "    district_summary.drop(\n",
    "        columns = [\"arrivals_per_stop\", \"trips_per_operator\"]\n",
    "    ).pipe(\n",
    "        _report_utils.transpose_summary_stats,\n",
    "        district_col = \"caltrans_district\"\n",
    "    )\n",
    ")\n",
    " .fmt_integer(columns=\"value\")\n",
    " .cols_label(index=\"\")\n",
    " .tab_header(title = f\"District {district} GTFS summary stats\")\n",
    ")\n",
    "\n",
    "summary_table2 = (GT(\n",
    "    district_summary[\n",
    "        [\"caltrans_district\", \"arrivals_per_stop\", \"trips_per_operator\"]\n",
    "    ].pipe(\n",
    "        _report_utils.transpose_summary_stats,\n",
    "        district_col = \"caltrans_district\"\n",
    "    )\n",
    ")\n",
    " .fmt_number(\"value\", decimals=1)\n",
    " .cols_label(index=\"\")\n",
    ")"
   ]
  },
  {
   "cell_type": "code",
   "execution_count": null,
   "id": "496f6d82-227e-468d-af9b-b65bc2d0ec57",
   "metadata": {},
   "outputs": [],
   "source": [
    "display(summary_table1)\n",
    "display(summary_table2)"
   ]
  },
  {
   "cell_type": "markdown",
   "id": "b10ecb81-491e-4f65-af8d-0032d6e11d4e",
   "metadata": {},
   "source": [
    "## GTFS Stats by Operator"
   ]
  },
  {
   "cell_type": "code",
   "execution_count": null,
   "id": "e1fff887-8120-42ad-9a98-3dc90dd2e838",
   "metadata": {},
   "outputs": [],
   "source": [
    "operators_in_district = operator_df2.name.unique()"
   ]
  },
  {
   "cell_type": "code",
   "execution_count": null,
   "id": "a712c145-348a-44b3-83a0-f1ea2dc86b69",
   "metadata": {},
   "outputs": [],
   "source": [
    "operator_route_gdf = gpd.read_parquet(\n",
    "    f\"{RT_SCHED_GCS}{OPERATOR_ROUTE}.parquet\",\n",
    "    filters = [[\"name\", \"in\", operators_in_district]],\n",
    "    columns = [\"name\", \"service_date\", \n",
    "               \"route_combined_name\", \"geometry\"]\n",
    ").sort_values(\n",
    "    [\"service_date\", \"name\", \"route_combined_name\"], \n",
    "    ascending=[False, True, True]\n",
    ").drop_duplicates(\n",
    "    subset = [\"name\", \"route_combined_name\"]\n",
    ").drop(\n",
    "    columns = [\"service_date\", \"route_combined_name\"]\n",
    "    # drop route because after the dissolve, all operator routes are combined\n",
    "    # so route would hold only the first row's value\n",
    ").dissolve(by = \"name\").reset_index().pipe(_report_utils.replace_column_names)\n",
    "\n",
    "operator_route_gdf[\"Transit Operator\"] = operator_route_gdf[\"Transit Operator\"].str.replace(\" Schedule\", \"\")"
   ]
  },
  {
   "cell_type": "code",
   "execution_count": null,
   "id": "02543866-db94-4c44-b71f-a5cb17863e8f",
   "metadata": {
    "tags": []
   },
   "outputs": [],
   "source": [
    "operator_route_gdf.crs"
   ]
  },
  {
   "cell_type": "code",
   "execution_count": null,
   "id": "b4e22fd2-9f51-4f7a-b6ef-69e550d1378c",
   "metadata": {},
   "outputs": [],
   "source": [
    "district_gdf = _ct_district_utils.ct_district(district_int)"
   ]
  },
  {
   "cell_type": "code",
   "execution_count": null,
   "id": "14838de2-d49d-4a25-a28f-cc46ae44b181",
   "metadata": {},
   "outputs": [],
   "source": [
    "shapes_within_dist = gpd.sjoin(\n",
    "            operator_route_gdf,\n",
    "            district_gdf,\n",
    "            how = \"inner\",\n",
    "            predicate = \"within\",\n",
    "        ).drop(columns = \"index_right\")\n",
    "    "
   ]
  },
  {
   "cell_type": "code",
   "execution_count": null,
   "id": "f124732a-b5ff-47e5-ba25-d81cde7ad550",
   "metadata": {
    "tags": []
   },
   "outputs": [],
   "source": [
    "display(\n",
    "        Markdown(\n",
    "            f\"\"\"Please note, the routes are clipped to the boundaries of <b>District {district_int}</b>\n",
    "        \"\"\"\n",
    "        )\n",
    "    )"
   ]
  },
  {
   "cell_type": "code",
   "execution_count": null,
   "id": "62d76c7a-8271-45c2-9dce-52b58b04f126",
   "metadata": {},
   "outputs": [],
   "source": [
    "shapes_within_dist.explore(\n",
    "    \"Transit Operator\", \n",
    "    tiles = \"CartoDB Positron\",\n",
    "    categorical=True,\n",
    "    legend=True,\n",
    "    legend_kwds = {\n",
    "        \"width\": 200\n",
    "    }\n",
    ")"
   ]
  },
  {
   "cell_type": "code",
   "execution_count": null,
   "id": "d10e25ae-1904-4d0f-a670-f90232984952",
   "metadata": {},
   "outputs": [],
   "source": [
    "shared_cols = [\"organization_name\", \"name\"]\n",
    "exclude_cols = [\"schedule_gtfs_dataset_key\", \"caltrans_district\",\n",
    "                \"organization_source_record_id\", \"service_date\", \n",
    "                \"primary_uza\"]\n",
    "\n",
    "gtfs_service_cols = [\n",
    "    c for c in operator_df.columns \n",
    "    if \"operator_\" in c]"
   ]
  },
  {
   "cell_type": "code",
   "execution_count": null,
   "id": "c9a2ceb0-3511-4161-9c0f-13659a1240c5",
   "metadata": {},
   "outputs": [],
   "source": [
    "gtfs_table_df = operator_df2[\n",
    "    shared_cols + gtfs_service_cols\n",
    "].pipe(_report_utils.replace_column_names).reset_index(drop = True)"
   ]
  },
  {
   "cell_type": "code",
   "execution_count": null,
   "id": "7f2b427a-c32c-4c2c-b4b3-5a30b0181855",
   "metadata": {
    "tags": []
   },
   "outputs": [],
   "source": [
    "string_cols = gtfs_table_df.select_dtypes(include=\"object\").columns.tolist()\n",
    "\n",
    "gtfs_table = (\n",
    "    GT(gtfs_table_df.sort_values(\"# Trips\", ascending=False))\n",
    "    .fmt_integer(\n",
    "        columns = [\n",
    "            c for c in gtfs_table_df.columns if c not in \n",
    "         [\"Operator Service Miles\", \"Avg Arrivals per Stop\"]\n",
    "            and (c not in string_cols)\n",
    "        ])\n",
    "    .fmt_number(\n",
    "        columns = [\"Operator Service Miles\", \"Avg Arrivals per Stop\"], \n",
    "        decimals = 1)\n",
    "    .data_color(\n",
    "        columns=[\"# Trips\", \"Avg Arrivals per Stop\"],\n",
    "        palette=[\"white\", \"green\"],\n",
    "        na_color=\"lightgray\")\n",
    "    .tab_header(\n",
    "         title = f\"District {district}\",\n",
    "         subtitle = \"Daily GTFS schedule statistics by operator\")\n",
    "    .cols_align(columns = [c for c in gtfs_table_df.columns if c not in [\"Organization\", \"Transit Operator\"]],\n",
    "        align=\"center\")\n",
    "    )\n",
    "\n",
    "gtfs_table = _report_utils.great_table_formatting(gtfs_table)\n",
    "gtfs_table"
   ]
  }
 ],
 "metadata": {
  "kernelspec": {
   "display_name": "Python 3 (ipykernel)",
   "language": "python",
   "name": "python3"
  },
  "language_info": {
   "codemirror_mode": {
    "name": "ipython",
    "version": 3
   },
   "file_extension": ".py",
   "mimetype": "text/x-python",
   "name": "python",
   "nbconvert_exporter": "python",
   "pygments_lexer": "ipython3",
   "version": "3.11.10"
  }
 },
 "nbformat": 4,
 "nbformat_minor": 5
}
