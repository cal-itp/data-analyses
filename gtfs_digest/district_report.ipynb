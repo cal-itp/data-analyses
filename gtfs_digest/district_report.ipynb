{
 "cells": [
  {
   "cell_type": "code",
   "execution_count": null,
   "id": "feafca21-a1d4-45b5-87ae-5ac5c1b34532",
   "metadata": {},
   "outputs": [],
   "source": [
    "%%capture\n",
    "\n",
    "import warnings\n",
    "\n",
    "warnings.filterwarnings(\"ignore\")\n",
    "import calitp_data_analysis.magics\n",
    "\n",
    "import geopandas as gpd\n",
    "import pandas as pd\n",
    "\n",
    "from great_tables import GT\n",
    "\n",
    "import _report_utils\n",
    "from update_vars import GTFS_DATA_DICT, RT_SCHED_GCS"
   ]
  },
  {
   "cell_type": "code",
   "execution_count": null,
   "id": "403811b5-c011-49ef-b86a-ed76c830336e",
   "metadata": {},
   "outputs": [],
   "source": [
    "# Read in all datasets here with GTFS_DATA_DICT \n",
    "OPERATOR_FILE = GTFS_DATA_DICT.digest_tables.operator_profiles\n",
    "\n",
    "#operator_df = pd.read_parquet(\n",
    "#    f\"{RT_SCHED_GCS}{OPERATOR_FILE}.parquet\"\n",
    "#)"
   ]
  },
  {
   "cell_type": "markdown",
   "id": "4a882245-7edb-42b8-b67b-a56eceeac39b",
   "metadata": {},
   "source": [
    "Functions used in notebook"
   ]
  },
  {
   "cell_type": "code",
   "execution_count": null,
   "id": "65392d43-0a2a-4e3e-864d-acb8a31ffd1b",
   "metadata": {},
   "outputs": [],
   "source": [
    "# Need this, but sometimes we'll subset columns for table\n",
    "def replace_column_names(df: pd.DataFrame):\n",
    "    df.columns = df.columns.map(_report_utils.replace_column_names)\n",
    "    return df"
   ]
  },
  {
   "cell_type": "markdown",
   "id": "f532d26c-f4a2-4212-9d3b-9c32b5d7d461",
   "metadata": {},
   "source": [
    "Edits\n",
    "\n",
    "Work edits needed into relevant scripts."
   ]
  },
  {
   "cell_type": "code",
   "execution_count": null,
   "id": "cb9bec53-74cf-4bcd-b01e-d117334d506e",
   "metadata": {},
   "outputs": [],
   "source": [
    "## adjust merge_operator_data.py a bit\n",
    "# notes here until we can work in bac into script\n",
    "from shared_utils import rt_dates\n",
    "import merge_operator_data\n",
    "from segment_speed_utils import time_series_utils, gtfs_schedule_wrangling\n",
    "from update_vars import SCHED_GCS\n",
    "\n",
    "analysis_date_list = rt_dates.y2024_dates + rt_dates.y2023_dates \n",
    "\n",
    "OPERATOR_PROFILE = GTFS_DATA_DICT.digest_tables.operator_profiles\n",
    "OPERATOR_ROUTE = GTFS_DATA_DICT.digest_tables.operator_routes_map\n",
    "SCHED_RT_CATEGORY = GTFS_DATA_DICT.digest_tables.operator_sched_rt\n",
    "CROSSWALK = GTFS_DATA_DICT.schedule_tables.gtfs_key_crosswalk\n",
    "    \n",
    "# Concat operator profiles\n",
    "df = merge_operator_data.concatenate_operator_stats(analysis_date_list)\n",
    "    \n",
    "ntd_cols = [\n",
    "    \"schedule_gtfs_dataset_key\",\n",
    "    # add this!\n",
    "    \"caltrans_district\",\n",
    "    \"counties_served\",\n",
    "    \"service_area_sq_miles\",\n",
    "    \"hq_city\",\n",
    "    \"uza_name\",\n",
    "    \"service_area_pop\",\n",
    "    \"organization_type\",\n",
    "    \"primary_uza\",\n",
    "    \"reporter_type\"\n",
    "]\n",
    "\n",
    "# Merge in NTD data. \n",
    "crosswalk_df = (\n",
    "    time_series_utils.concatenate_datasets_across_dates(\n",
    "        SCHED_GCS,\n",
    "        CROSSWALK,\n",
    "        analysis_date_list,\n",
    "        data_type=\"df\",\n",
    "        columns=ntd_cols\n",
    "    )\n",
    "    .sort_values([\"service_date\"])\n",
    "    .reset_index(drop=True)\n",
    ")\n",
    "\n",
    "# Merge\n",
    "merge_cols = [\"schedule_gtfs_dataset_key\", \"service_date\"]\n",
    "op_profiles_df1 = pd.merge(\n",
    "    df, \n",
    "    crosswalk_df, \n",
    "    on = merge_cols, \n",
    "    how = \"left\"\n",
    ")"
   ]
  },
  {
   "cell_type": "code",
   "execution_count": null,
   "id": "37021452-c636-4cff-af80-8ad61f262869",
   "metadata": {},
   "outputs": [],
   "source": [
    "# using name instead of schedule_gtfs_dataset_key allows us to get \n",
    "# the last ones for LA Metro without keeping extraneous rows for LA Metro when keys changed\n",
    "op_profiles_test = op_profiles_df1.sort_values(\n",
    "    [\"service_date\", \"name\"], \n",
    "    ascending=[False, True]\n",
    ").drop_duplicates(\n",
    "    subset=[\"name\"]\n",
    ").reset_index(drop=True)"
   ]
  },
  {
   "cell_type": "code",
   "execution_count": null,
   "id": "c15333a6-138e-46ac-ba5e-1ba07947ac44",
   "metadata": {
    "tags": [
     "parameters"
    ]
   },
   "outputs": [],
   "source": [
    "# Comment out and leave this cell right below pandas\n",
    "#district = \"07 - Los Angeles\""
   ]
  },
  {
   "cell_type": "code",
   "execution_count": null,
   "id": "9af945ff-0887-43d7-b12e-5866205773ba",
   "metadata": {},
   "outputs": [],
   "source": [
    "%%capture_parameters\n",
    "district"
   ]
  },
  {
   "cell_type": "markdown",
   "id": "41f0a970-4646-4147-a596-d41d15517127",
   "metadata": {},
   "source": [
    "# District {district} GTFS Digest"
   ]
  },
  {
   "cell_type": "markdown",
   "id": "c3810aa5-7e35-4ee0-b72b-349112c2d489",
   "metadata": {},
   "source": [
    "## Start report section"
   ]
  },
  {
   "cell_type": "markdown",
   "id": "384f8679-d8de-4114-8c5c-a3eb3d3b4e28",
   "metadata": {},
   "source": [
    "## District Stats placeholder\n",
    "\n",
    "If we're doing tables with operators listed...we might want subtotals or district stats on some of those columns.\n",
    "\n",
    "* Aggregate GTFS stats for the whole district.\n",
    "* Get some NTD stats for the district, but maybe we'll add UZA breakdown?\n"
   ]
  },
  {
   "cell_type": "code",
   "execution_count": null,
   "id": "1037717f-12fe-4f66-a85b-68ca33f6d221",
   "metadata": {},
   "outputs": [],
   "source": [
    "route_typologies = [\n",
    "    \"downtown_local\", \"local\", \"coverage\",\n",
    "    \"rapid\", \"express\", \"rail\"\n",
    "]\n",
    "def district_stats(df: pd.DataFrame, group_cols: list) -> pd.DataFrame:\n",
    "    \"\"\"\n",
    "    \"\"\"\n",
    "    \n",
    "    sum_me = [\n",
    "        f\"operator_{i}\" for i in [\"n_routes\", \"n_trips\", \"n_shapes\", \"n_stops\", \n",
    "                                    \"n_arrivals\", \"route_length_miles\"]\n",
    "    ] + [f\"n_{i}_routes\" for i in route_typologies]\n",
    "    \n",
    "    df2 = (df.groupby(group_cols, \n",
    "                      observed=True, group_keys=False)\n",
    "           .agg({\n",
    "               \"name\": \"nunique\",\n",
    "               **{c:\"sum\" for c in sum_me},\n",
    "           })\n",
    "           .reset_index()\n",
    "           .rename(columns = {\"name\": \"n_operators\"})\n",
    "          )\n",
    "    \n",
    "    df2 = df2.assign(\n",
    "        arrivals_per_stop = df2.operator_n_arrivals.divide(df2.operator_n_stops).round(2)\n",
    "    )\n",
    "    \n",
    "    return df2\n",
    "#op_profiles_test"
   ]
  },
  {
   "cell_type": "code",
   "execution_count": null,
   "id": "2a7a1f64-2dc3-4a50-860d-7eea5ebc75cf",
   "metadata": {},
   "outputs": [],
   "source": [
    "district_df = district_stats(op_profiles_test, \"caltrans_district\")\n",
    "\n",
    "GT(district_df[district_df.caltrans_district==district])"
   ]
  },
  {
   "cell_type": "code",
   "execution_count": null,
   "id": "0b3fd048-1889-46bc-959f-bbdde12b3338",
   "metadata": {},
   "outputs": [],
   "source": [
    "def ntd_counts_pivot_wide(\n",
    "    df: pd.DataFrame, \n",
    "    group_cols: list = [\"caltrans_district\", \"uza_name\"],\n",
    "    count_col: str = \"\"\n",
    ") -> pd.DataFrame:\n",
    "    \n",
    "    grouped_df = (df.groupby(group_cols + [count_col], \n",
    "                  observed=True, group_keys=False)\n",
    "       .agg({\n",
    "           \"name\": \"nunique\",\n",
    "       })\n",
    "       .reset_index()\n",
    "       .rename(columns = {\"name\": \"n_operators\"})\n",
    "      )\n",
    "    \n",
    "    df2 = grouped_df.pivot(\n",
    "        index = group_cols,\n",
    "        columns = [count_col],\n",
    "        values=[\"n_operators\"],\n",
    "    )\n",
    "    \n",
    "    df2.columns = [f'# {b} {a.replace(\"n_operators\", \"Operators\")}' for a, b in df2.columns]\n",
    "    df2 = df2.reset_index()\n",
    "    \n",
    "    return df2\n",
    "\n",
    "def sample_ntd_table(df: pd.DataFrame, group_cols: list):\n",
    "    table = (\n",
    "        GT(df)\n",
    "        .fmt_integer(\n",
    "             columns = [c for c in df.columns if c not in group_cols]\n",
    "         ).cols_label(\n",
    "             uza_name = \"Urbanized Area\"\n",
    "         ).cols_hide(\"caltrans_district\")\n",
    "    )\n",
    "    \n",
    "    display(table)\n",
    "    \n",
    "    return"
   ]
  },
  {
   "cell_type": "code",
   "execution_count": null,
   "id": "f2e9de3a-d540-4e6b-9684-6036247560eb",
   "metadata": {},
   "outputs": [],
   "source": [
    "reporter_counts = ntd_counts_pivot_wide(\n",
    "    op_profiles_test[op_profiles_test.caltrans_district==district], \n",
    "    count_col = \"reporter_type\"\n",
    ")\n",
    "\n",
    "sample_ntd_table(reporter_counts, [\"caltrans_district\", \"uza_name\"])"
   ]
  },
  {
   "cell_type": "code",
   "execution_count": null,
   "id": "ed103e78-acde-411e-ac52-7de671974e07",
   "metadata": {},
   "outputs": [],
   "source": [
    "org_counts = ntd_counts_pivot_wide(\n",
    "    op_profiles_test[op_profiles_test.caltrans_district==district], \n",
    "    count_col = \"organization_type\"\n",
    ")\n",
    "\n",
    "sample_ntd_table(org_counts, [\"caltrans_district\", \"uza_name\"])"
   ]
  },
  {
   "cell_type": "markdown",
   "id": "b10ecb81-491e-4f65-af8d-0032d6e11d4e",
   "metadata": {},
   "source": [
    "## Existing Operator Section\n",
    "\n",
    "Move everything from GTFS digest in section 1 into here, all operators for district displayed.\n",
    "\n",
    "* GTFS transit operator stats (number of routes, trips, shapes, stops, arrivals, etc).\n",
    "* NTD caption (these are written as captions, but lift the underlying table and put into table)\n",
    "* NACTO route typologies"
   ]
  },
  {
   "cell_type": "code",
   "execution_count": null,
   "id": "e13236e2-c204-4e22-917e-d8c7ef7abf13",
   "metadata": {},
   "outputs": [],
   "source": [
    "# Load operator dataset, subset for district\n",
    "district_operator_profiles = op_profiles_test[\n",
    "    op_profiles_test.caltrans_district == district\n",
    "].reset_index(drop=True)"
   ]
  },
  {
   "cell_type": "code",
   "execution_count": null,
   "id": "1ad2672d-2863-4656-90d6-058e35c52bda",
   "metadata": {},
   "outputs": [],
   "source": [
    "operators_in_district = district_operator_profiles.schedule_gtfs_dataset_key.unique()\n",
    "\n",
    "operator_route_gdf = gpd.read_parquet(\n",
    "    f\"{RT_SCHED_GCS}{OPERATOR_ROUTE}.parquet\",\n",
    "    filters = [[\"schedule_gtfs_dataset_key\", \"in\", operators_in_district]],\n",
    "    columns = [\"name\", \"service_date\", \n",
    "               \"route_combined_name\", \"geometry\"]\n",
    ").sort_values(\n",
    "    [\"service_date\", \"name\", \"route_combined_name\"], \n",
    "    ascending=[False, True, True]\n",
    ").drop_duplicates(\n",
    "    subset = [\"name\", \"route_combined_name\"]\n",
    ").drop(\n",
    "    columns = [\"service_date\", \"route_combined_name\"]\n",
    "    # drop route because after the dissolve, all operator routes are combined\n",
    "    # so route would hold only the first row's value\n",
    ").dissolve(by = \"name\").reset_index().pipe(replace_column_names)"
   ]
  },
  {
   "cell_type": "code",
   "execution_count": null,
   "id": "62d76c7a-8271-45c2-9dce-52b58b04f126",
   "metadata": {},
   "outputs": [],
   "source": [
    "operator_route_gdf.explore(\"Transit Operator\", tiles = \"CartoDB Positron\")"
   ]
  },
  {
   "cell_type": "code",
   "execution_count": null,
   "id": "d10e25ae-1904-4d0f-a670-f90232984952",
   "metadata": {},
   "outputs": [],
   "source": [
    "shared_cols = [\"organization_name\", \"name\"]\n",
    "exclude_cols = [\"schedule_gtfs_dataset_key\", \"caltrans_district\",\n",
    "                \"organization_source_record_id\", \"service_date\", \n",
    "                \"primary_uza\"]\n",
    "\n",
    "gtfs_service_cols = [\n",
    "    c for c in district_operator_profiles.columns \n",
    "    if \"operator_\" in c]\n",
    "\n",
    "nacto_cols = [\n",
    "    c for c in district_operator_profiles.columns \n",
    "    if c.startswith(\"n_\")\n",
    "]\n",
    "\n",
    "ntd_cols = [\n",
    "    c for c in district_operator_profiles.columns \n",
    "    if (c not in gtfs_service_cols) and \n",
    "    (c not in nacto_cols) and (c not in shared_cols)\n",
    "    and (c not in exclude_cols)\n",
    "]"
   ]
  },
  {
   "cell_type": "code",
   "execution_count": null,
   "id": "c9a2ceb0-3511-4161-9c0f-13659a1240c5",
   "metadata": {},
   "outputs": [],
   "source": [
    "gtfs_table_df = district_operator_profiles[\n",
    "    shared_cols + gtfs_service_cols\n",
    "].pipe(replace_column_names)\n",
    "\n",
    "nacto_table_df = district_operator_profiles[\n",
    "    shared_cols + nacto_cols\n",
    "].pipe(replace_column_names)\n",
    "\n",
    "ntd_table_df = district_operator_profiles[\n",
    "    shared_cols + ntd_cols\n",
    "].pipe(replace_column_names) "
   ]
  },
  {
   "cell_type": "code",
   "execution_count": null,
   "id": "7f2b427a-c32c-4c2c-b4b3-5a30b0181855",
   "metadata": {},
   "outputs": [],
   "source": [
    "string_cols = gtfs_table_df.select_dtypes(include=\"object\").columns.tolist()\n",
    "\n",
    "gtfs_table = (\n",
    "    GT(gtfs_table_df.sort_values(\"# Trips\", ascending=False))\n",
    "    .fmt_integer(\n",
    "        columns = [\n",
    "            c for c in gtfs_table_df.columns if c not in \n",
    "         [\"Operator Service Miles\", \"Avg Arrivals per Stop\"]\n",
    "            and (c not in string_cols)\n",
    "        ]\n",
    "     ).fmt_number(\n",
    "        columns = [\"Operator Service Miles\", \"Avg Arrivals per Stop\"], \n",
    "        decimals = 1\n",
    "    )\n",
    "    .data_color(\n",
    "        columns=[\"# Trips\", \"Avg Arrivals per Stop\"],\n",
    "        palette=[\"white\", \"green\"],\n",
    "        na_color=\"lightgray\"\n",
    "     ).tab_header(\n",
    "         title = f\"District {district} Operator Overview\",\n",
    "         subtitle = \"GTFS schedule statistics\"\n",
    "     )\n",
    "    .tab_options(\n",
    "        container_width = \"100%\",\n",
    "        table_background_color=\"white\",\n",
    "        table_body_hlines_style=\"none\",\n",
    "        table_body_vlines_style=\"none\",\n",
    "        heading_background_color=\"white\",\n",
    "        column_labels_background_color=\"white\",\n",
    "        row_group_background_color=\"white\",\n",
    "        stub_background_color=\"white\",\n",
    "        source_notes_background_color=\"white\"\n",
    "     )\n",
    "    )\n",
    "\n",
    "gtfs_table"
   ]
  },
  {
   "cell_type": "code",
   "execution_count": null,
   "id": "66c37b08-848f-4a00-9bff-79977f46067a",
   "metadata": {},
   "outputs": [],
   "source": [
    "number_cols = nacto_table_df.select_dtypes(include=\"number\").columns.tolist()\n",
    "\n",
    "nacto_table = (\n",
    "    GT(nacto_table_df)\n",
    "    .fmt_integer(\n",
    "        columns = number_cols\n",
    "     ).data_color(\n",
    "        # fix these to match GTFS digest\n",
    "        columns = \"# Downtown Local Route Types\", \n",
    "        palette=[\"white\", \"purple\"],\n",
    "        na_color=\"lightgray\"\n",
    "     ).data_color(\n",
    "        columns = \"# Express Route Types\", \n",
    "        palette=[\"white\", \"orange\"],\n",
    "        na_color=\"lightgray\"\n",
    "    ).data_color(\n",
    "        columns = \"# Rapid Route Types\", \n",
    "        palette=[\"white\", \"gold\"],\n",
    "        na_color=\"lightgray\"\n",
    "    ).data_color(\n",
    "        columns = \"# Rail Route Types\", \n",
    "        palette=[\"white\", \"red\"],\n",
    "        na_color=\"lightgray\"\n",
    "    ).tab_header(\n",
    "         title = f\"District {district} Operator Overview\",\n",
    "         subtitle = \"NACTO route typologies\"\n",
    "     )\n",
    "    .tab_options(\n",
    "        container_width = \"100%\",\n",
    "        table_background_color=\"white\",\n",
    "        table_body_hlines_style=\"none\",\n",
    "        table_body_vlines_style=\"none\",\n",
    "        heading_background_color=\"white\",\n",
    "        column_labels_background_color=\"white\",\n",
    "        row_group_background_color=\"white\",\n",
    "        stub_background_color=\"white\",\n",
    "        source_notes_background_color=\"white\"\n",
    "     )\n",
    "    )\n",
    "\n",
    "nacto_table"
   ]
  },
  {
   "cell_type": "code",
   "execution_count": null,
   "id": "77d6bdaa-e4fe-4979-b467-58b16d8ee1f0",
   "metadata": {},
   "outputs": [],
   "source": [
    "number_cols = ntd_table_df.select_dtypes(include=\"number\").columns.tolist()\n",
    "\n",
    "ntd_table = (\n",
    "    GT(ntd_table_df.sort_values(\"service_area_pop\", ascending=False))\n",
    "    .fmt_integer(\n",
    "        columns = number_cols\n",
    "     ).data_color(\n",
    "        columns = \"reporter_type\",\n",
    "        palette=[\"white\", \"red\", \"green\"],\n",
    "    ).data_color(\n",
    "        columns = \"organization_type\",\n",
    "        palette=[\"white\", \"red\", \"green\"],\n",
    "    ).tab_header(\n",
    "         title = f\"District {district} Operator Overview\",\n",
    "         subtitle = \"NTD stats\"\n",
    "     ).cols_label(\n",
    "        counties_served = \"Counties\",\n",
    "        service_area_sq_miles = \"Service Area (sq mi)\",\n",
    "        hq_city = \"HQ City\",\n",
    "        uza_name = \"Urbanized Area\",\n",
    "        service_area_pop = \"Service Area Population\",\n",
    "        organization_type = \"Organization Type\",\n",
    "        reporter_type = \"Reporter Type\"\n",
    "    )\n",
    "    .tab_options(\n",
    "        container_width = \"100%\",\n",
    "        table_background_color=\"white\",\n",
    "        table_body_hlines_style=\"none\",\n",
    "        table_body_vlines_style=\"none\",\n",
    "        heading_background_color=\"white\",\n",
    "        column_labels_background_color=\"white\",\n",
    "        row_group_background_color=\"white\",\n",
    "        stub_background_color=\"white\",\n",
    "        source_notes_background_color=\"white\"\n",
    "     )\n",
    "    )\n",
    "\n",
    "ntd_table"
   ]
  },
  {
   "cell_type": "code",
   "execution_count": null,
   "id": "ccb8d5e2-bb00-4f33-b335-b5253b6e5fee",
   "metadata": {},
   "outputs": [],
   "source": []
  }
 ],
 "metadata": {
  "kernelspec": {
   "display_name": "Python 3 (ipykernel)",
   "language": "python",
   "name": "python3"
  },
  "language_info": {
   "codemirror_mode": {
    "name": "ipython",
    "version": 3
   },
   "file_extension": ".py",
   "mimetype": "text/x-python",
   "name": "python",
   "nbconvert_exporter": "python",
   "pygments_lexer": "ipython3",
   "version": "3.9.13"
  }
 },
 "nbformat": 4,
 "nbformat_minor": 5
}
