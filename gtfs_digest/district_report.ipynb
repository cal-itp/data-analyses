{
 "cells": [
  {
   "cell_type": "code",
   "execution_count": null,
   "id": "feafca21-a1d4-45b5-87ae-5ac5c1b34532",
   "metadata": {},
   "outputs": [],
   "source": [
    "%%capture\n",
    "\n",
    "import warnings\n",
    "\n",
    "warnings.filterwarnings(\"ignore\")\n",
    "import _ct_district_data_prep\n",
    "import branca\n",
    "import _report_utils\n",
    "import calitp_data_analysis.magics\n",
    "import geopandas as gpd\n",
    "import pandas as pd\n",
    "from great_tables import GT\n",
    "from IPython.display import HTML, Image, Markdown, display, display_html\n",
    "from slugify import slugify\n",
    "from update_vars import GTFS_DATA_DICT, RT_SCHED_GCS\n",
    "from shared_utils import webmap_utils"
   ]
  },
  {
   "cell_type": "code",
   "execution_count": null,
   "id": "cea2360d-e143-4702-baa4-009417e96bcc",
   "metadata": {
    "tags": []
   },
   "outputs": [],
   "source": [
    "import google.auth\n",
    "\n",
    "credentials, project = google.auth.default()\n",
    "\n",
    "import gcsfs\n",
    "\n",
    "fs = gcsfs.GCSFileSystem()"
   ]
  },
  {
   "cell_type": "code",
   "execution_count": null,
   "id": "c15333a6-138e-46ac-ba5e-1ba07947ac44",
   "metadata": {
    "tags": [
     "parameters"
    ]
   },
   "outputs": [],
   "source": [
    "# Comment out and leave this cell right below pandas\n",
    "district = \"04 - Bay Area / Oakland\""
   ]
  },
  {
   "cell_type": "code",
   "execution_count": null,
   "id": "f86359af-8cfe-42e8-8d10-0945dc70fded",
   "metadata": {},
   "outputs": [],
   "source": [
    "DISTRICT_DIGEST_URL = (\n",
    "    \"https://gtfs-digest--cal-itp-data-analyses.netlify.app/district_\"\n",
    "    f\"{slugify(district)}\"\n",
    ")"
   ]
  },
  {
   "cell_type": "code",
   "execution_count": null,
   "id": "9af945ff-0887-43d7-b12e-5866205773ba",
   "metadata": {},
   "outputs": [],
   "source": [
    "%%capture_parameters\n",
    "district, DISTRICT_DIGEST_URL"
   ]
  },
  {
   "cell_type": "code",
   "execution_count": null,
   "id": "cbafa165-4db8-4db2-bc5f-1cbbbe346a48",
   "metadata": {},
   "outputs": [],
   "source": [
    "# Extract district from district string when doing an sjoin\n",
    "# between CT districts & routes\n",
    "district_int = [int(s) for s in district.split() if s.isdigit()][0]"
   ]
  },
  {
   "cell_type": "code",
   "execution_count": null,
   "id": "b77581d4-cb70-42e9-9f3b-101db248dc64",
   "metadata": {},
   "outputs": [],
   "source": [
    "# Load Datasets\n",
    "operator_df = _ct_district_data_prep.data_wrangling_operator_profile(district)\n",
    "\n",
    "operator_gdf = _ct_district_data_prep.data_wrangling_operator_map(\n",
    "    list(operator_df.portfolio_organization_name.unique())\n",
    ")\n",
    "\n",
    "ct_district_gdf = _ct_district_data_prep.load_ct_district(district_int)\n",
    "\n",
    "transit_route_shs_gdf, transit_route_shs_table = (\n",
    "    _ct_district_data_prep.final_transit_route_shs_outputs(15, district_int)\n",
    ")\n",
    "district_gdf = _ct_district_data_prep.load_ct_district(district_int)"
   ]
  },
  {
   "cell_type": "code",
   "execution_count": null,
   "id": "a4e80544-3e42-4aae-88e2-cc5a7b750dae",
   "metadata": {
    "tags": []
   },
   "outputs": [],
   "source": [
    "gtfs_table_df = _ct_district_data_prep.create_gtfs_stats(operator_df)"
   ]
  },
  {
   "cell_type": "code",
   "execution_count": null,
   "id": "6c6afad3-b014-4e6d-ab51-f7d4e73269cb",
   "metadata": {
    "tags": []
   },
   "outputs": [],
   "source": [
    "shn_gdf = _ct_district_data_prep.load_buffered_shn_map(50, district_int)"
   ]
  },
  {
   "cell_type": "markdown",
   "id": "5cd9fd3e-7808-4e65-9013-01647c695ff6",
   "metadata": {},
   "source": [
    "# District {district}\n",
    "\n",
    "These are district summaries for [GTFS Digest](https://gtfs-digest--cal-itp-data-analyses.netlify.app/). \n",
    "\n",
    "Individual transit operators have their pages at: **[{DISTRICT_DIGEST_URL}]({DISTRICT_DIGEST_URL})**"
   ]
  },
  {
   "cell_type": "code",
   "execution_count": null,
   "id": "06069f65-3a0c-40a7-86dc-ec1321213ccd",
   "metadata": {},
   "outputs": [],
   "source": [
    "district_summary = _report_utils.district_stats(operator_df, \"caltrans_district\")"
   ]
  },
  {
   "cell_type": "code",
   "execution_count": null,
   "id": "8eb3a4cc-09a5-49ac-af0c-9e84cfed3d05",
   "metadata": {},
   "outputs": [],
   "source": [
    "summary_table1 = (\n",
    "    GT(\n",
    "        district_summary.drop(columns=[\"arrivals_per_stop\", \"trips_per_operator\"]).pipe(\n",
    "            _report_utils.transpose_summary_stats, district_col=\"caltrans_district\"\n",
    "        )\n",
    "    )\n",
    "    .fmt_number(columns=\"value\", sep_mark = \",\")\n",
    "    .cols_label(index=\"\")\n",
    "    .tab_header(title=f\"District {district} GTFS summary stats\")\n",
    ")\n",
    "\n",
    "summary_table2 = (\n",
    "    GT(\n",
    "        district_summary[\n",
    "            [\"caltrans_district\", \"arrivals_per_stop\", \"trips_per_operator\"]\n",
    "        ].pipe(_report_utils.transpose_summary_stats, district_col=\"caltrans_district\")\n",
    "    )\n",
    "    .fmt_number(\"value\", decimals=1, sep_mark = \",\")\n",
    "    .cols_label(index=\"\")\n",
    ")"
   ]
  },
  {
   "cell_type": "code",
   "execution_count": null,
   "id": "496f6d82-227e-468d-af9b-b65bc2d0ec57",
   "metadata": {},
   "outputs": [],
   "source": [
    "display(summary_table1)\n",
    "display(summary_table2)"
   ]
  },
  {
   "cell_type": "markdown",
   "id": "efa64a50-2658-42dd-be62-85305f39abdd",
   "metadata": {},
   "source": [
    "## Routes within the District"
   ]
  },
  {
   "cell_type": "code",
   "execution_count": null,
   "id": "916c2a5c-f1bd-4d43-97ae-7db909efbdb9",
   "metadata": {
    "tags": []
   },
   "outputs": [],
   "source": [
    "cmap = branca.colormap.linear.PuBu_09.scale()"
   ]
  },
  {
   "cell_type": "code",
   "execution_count": null,
   "id": "3b270724-bb59-422a-bd4e-45ed825e14f5",
   "metadata": {
    "tags": []
   },
   "outputs": [],
   "source": [
    "cmap_all_routes = branca.colormap.LinearColormap(\n",
    "    colors=cmap.colors[4:],\n",
    "    vmin=operator_gdf.number.min(),\n",
    "    vmax=operator_gdf.number.max(),\n",
    ")"
   ]
  },
  {
   "cell_type": "code",
   "execution_count": null,
   "id": "02faafc8-e487-47c7-8d03-b8213cc2977a",
   "metadata": {
    "tags": []
   },
   "outputs": [],
   "source": [
    "district_map = webmap_utils.set_state_export(\n",
    "    district_gdf,\n",
    "    filename=\"test_cc_routes1\",\n",
    "    map_title=\"District Map\",\n",
    ")"
   ]
  },
  {
   "cell_type": "code",
   "execution_count": null,
   "id": "f6d695fd-84e4-4684-84be-43a458724127",
   "metadata": {
    "tags": []
   },
   "outputs": [],
   "source": [
    "transit_routes = webmap_utils.set_state_export(\n",
    "    operator_gdf,\n",
    "    filename=\"test2\",\n",
    "    map_title=\"Transit Routes\",\n",
    "    cmap=cmap,\n",
    "    color_col=\"number\",\n",
    "    existing_state=district_map\n",
    "    \n",
    ")"
   ]
  },
  {
   "cell_type": "code",
   "execution_count": null,
   "id": "52c53868-4c6e-4020-ab77-94f068136aba",
   "metadata": {
    "tags": []
   },
   "outputs": [],
   "source": [
    "if transit_routes: webmap_utils.render_spa_link(transit_routes)"
   ]
  },
  {
   "cell_type": "code",
   "execution_count": null,
   "id": "3786fdce-3ce2-484d-bb65-f74792ace5ae",
   "metadata": {
    "tags": []
   },
   "outputs": [],
   "source": [
    "webmap_utils.display_spa_map(transit_routes[\"spa_link\"])"
   ]
  },
  {
   "cell_type": "markdown",
   "id": "ffa88c8a-f34e-45de-ba5c-74fc9885e60e",
   "metadata": {
    "tags": []
   },
   "source": [
    "## Transit Routes on the State Highway Network\n",
    "**Only transit routes that have 15% or more if its length on one or more State Highway Network routes are included**"
   ]
  },
  {
   "cell_type": "code",
   "execution_count": null,
   "id": "9101ffe8-c365-42c6-b5aa-760cae7324ab",
   "metadata": {
    "tags": []
   },
   "outputs": [],
   "source": [
    "cmap_shn_routes = branca.colormap.LinearColormap(\n",
    "    colors=cmap.colors[4:],\n",
    "    vmin=transit_route_shs_gdf.number.min(),\n",
    "    vmax=transit_route_shs_gdf.number.max(),\n",
    ")"
   ]
  },
  {
   "cell_type": "code",
   "execution_count": null,
   "id": "84f5edaa-a327-4a4c-bcd0-8525391f5d81",
   "metadata": {
    "tags": []
   },
   "outputs": [],
   "source": [
    "cmap_shn_routes"
   ]
  },
  {
   "cell_type": "code",
   "execution_count": null,
   "id": "aeebd1e3-5337-483e-b24e-73dae2fe9a49",
   "metadata": {
    "tags": []
   },
   "outputs": [],
   "source": [
    "shn_map = webmap_utils.set_state_export(\n",
    "    shn_gdf,\n",
    "    filename=\"test_cc_routes1\",\n",
    "    map_title=\"State Highway Network Map\",\n",
    ")"
   ]
  },
  {
   "cell_type": "code",
   "execution_count": null,
   "id": "3dede978-d7d3-47c8-b4c2-07b5b3164309",
   "metadata": {
    "tags": []
   },
   "outputs": [],
   "source": [
    "transit_shn_map = webmap_utils.set_state_export(\n",
    "    transit_route_shs_gdf,\n",
    "    filename=\"test2\",\n",
    "    map_title=\"Transit Routes on the State Highway Network\",\n",
    "    cmap=cmap,\n",
    "    color_col=\"number\",\n",
    "    existing_state=shn_map\n",
    "    \n",
    ")"
   ]
  },
  {
   "cell_type": "code",
   "execution_count": null,
   "id": "6303780b-eee4-418c-8d75-f24c899f0937",
   "metadata": {
    "tags": []
   },
   "outputs": [],
   "source": [
    "if transit_shn_map: webmap_utils.render_spa_link(transit_shn_map)"
   ]
  },
  {
   "cell_type": "code",
   "execution_count": null,
   "id": "806d28e2-8f47-4c30-bf35-71435efe996f",
   "metadata": {
    "tags": []
   },
   "outputs": [],
   "source": [
    "webmap_utils.display_spa_map(transit_shn_map[\"spa_link\"])"
   ]
  },
  {
   "cell_type": "code",
   "execution_count": null,
   "id": "ec38b3ea-585b-441a-99b6-d7ddde3cb2e5",
   "metadata": {
    "tags": []
   },
   "outputs": [],
   "source": [
    "GT(\n",
    "    transit_route_shs_table.sort_values(\n",
    "        by=[\n",
    "            \"Portfolio Organization Name\",\n",
    "            \"Percentage of Transit Route on SHN Across All Districts\",\n",
    "        ],\n",
    "        ascending=[True, False],\n",
    "    )\n",
    ")"
   ]
  },
  {
   "cell_type": "markdown",
   "id": "b10ecb81-491e-4f65-af8d-0032d6e11d4e",
   "metadata": {},
   "source": [
    "## GTFS Stats by Operator"
   ]
  },
  {
   "cell_type": "code",
   "execution_count": null,
   "id": "a34aa8c3-529e-4065-b16e-a6160097c5c3",
   "metadata": {
    "tags": []
   },
   "outputs": [],
   "source": [
    "string_cols = gtfs_table_df.select_dtypes(include=\"object\").columns.tolist()"
   ]
  },
  {
   "cell_type": "code",
   "execution_count": null,
   "id": "7e7c30ef-fd53-44a3-922f-e114409eeb6c",
   "metadata": {
    "tags": []
   },
   "outputs": [],
   "source": [
    "gtfs_table = (\n",
    "    GT(gtfs_table_df.sort_values(\"# Trips\", ascending=False).drop(columns = [\"service_date\"]))\n",
    "    .fmt_integer(\n",
    "        columns=[\n",
    "            c\n",
    "            for c in gtfs_table_df.columns\n",
    "            if c not in [\"Operator Service Miles\", \"Avg Arrivals per Stop\"]\n",
    "            and (c not in string_cols)\n",
    "        ]\n",
    "    )\n",
    "    .fmt_number(columns=[\"Operator Service Miles\", \"Avg Arrivals per Stop\"], decimals=1)\n",
    "    .data_color(\n",
    "        columns=[\"# Trips\", \"Avg Arrivals per Stop\"],\n",
    "        palette=[\"#e0ecf6\", \"#376fa9\"],\n",
    "        na_color=\"lightgray\",\n",
    "    )\n",
    "    .tab_header(\n",
    "        title=f\"District {district}\",\n",
    "        subtitle=\"Daily GTFS schedule statistics by operator\",\n",
    "    )\n",
    "    .cols_align(\n",
    "        columns=[\n",
    "            c\n",
    "            for c in gtfs_table_df.columns\n",
    "            if c not in [\"Organization\", \"Transit Operator\"]\n",
    "        ],\n",
    "        align=\"center\",\n",
    "    )\n",
    ")"
   ]
  },
  {
   "cell_type": "code",
   "execution_count": null,
   "id": "2c4d52a1-a579-40ae-89ad-432f862292d8",
   "metadata": {
    "tags": []
   },
   "outputs": [],
   "source": [
    "gtfs_table = _report_utils.great_table_formatting(gtfs_table)\n",
    "gtfs_table"
   ]
  }
 ],
 "metadata": {
  "kernelspec": {
   "display_name": "Python 3 (ipykernel)",
   "language": "python",
   "name": "python3"
  },
  "language_info": {
   "codemirror_mode": {
    "name": "ipython",
    "version": 3
   },
   "file_extension": ".py",
   "mimetype": "text/x-python",
   "name": "python",
   "nbconvert_exporter": "python",
   "pygments_lexer": "ipython3",
   "version": "3.11.10"
  }
 },
 "nbformat": 4,
 "nbformat_minor": 5
}
