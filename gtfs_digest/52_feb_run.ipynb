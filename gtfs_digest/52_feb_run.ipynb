{
 "cells": [
  {
   "cell_type": "markdown",
   "id": "cbb6e02b-aa46-4143-96fc-1d3c9df1000d",
   "metadata": {},
   "source": [
    "## Missing February Data."
   ]
  },
  {
   "cell_type": "code",
   "execution_count": 1,
   "id": "3d70f4c3-3572-4d2e-b588-226709d48e25",
   "metadata": {
    "tags": []
   },
   "outputs": [],
   "source": [
    "import _section1_utils as section1\n",
    "import _section2_utils as section2\n",
    "import geopandas as gpd\n",
    "import merge_data\n",
    "import merge_operator_data\n",
    "import numpy as np\n",
    "import pandas as pd\n",
    "from segment_speed_utils import gtfs_schedule_wrangling, helpers\n",
    "from shared_utils import portfolio_utils\n",
    "from update_vars import GTFS_DATA_DICT, RT_SCHED_GCS, SCHED_GCS, SEGMENT_GCS"
   ]
  },
  {
   "cell_type": "code",
   "execution_count": 2,
   "id": "adfc13e3-098e-41e8-883a-497f85afbea5",
   "metadata": {
    "tags": []
   },
   "outputs": [],
   "source": [
    "pd.options.display.max_columns = 100\n",
    "pd.options.display.float_format = \"{:.2f}\".format\n",
    "pd.set_option(\"display.max_rows\", None)\n",
    "pd.set_option(\"display.max_colwidth\", None)"
   ]
  },
  {
   "cell_type": "code",
   "execution_count": 3,
   "id": "58095cec-ca10-40e4-9605-51626170f32a",
   "metadata": {
    "tags": []
   },
   "outputs": [],
   "source": [
    "# FileNotFoundError: \n",
    "# calitp-analytics-data/data-analyses/rt_segment_speeds/rollup_singleday/speeds_route_dir_segments_2024-01-17.parquet\n",
    "# gs://calitp-analytics-data/data-analyses/rt_segment_speeds/rollup_singleday/speeds_route_dir_2024-01-17.parquet"
   ]
  },
  {
   "cell_type": "code",
   "execution_count": 4,
   "id": "75065ef9-5305-4c82-9c41-d824286b210b",
   "metadata": {
    "tags": []
   },
   "outputs": [],
   "source": [
    "organization_name = \"City and County of San Francisco\""
   ]
  },
  {
   "cell_type": "code",
   "execution_count": 5,
   "id": "3a551521-9936-4cbb-99f2-9326604416cd",
   "metadata": {
    "tags": []
   },
   "outputs": [],
   "source": [
    "sf_df = section2.load_schedule_vp_metrics(organization_name)"
   ]
  },
  {
   "cell_type": "code",
   "execution_count": 6,
   "id": "d40db1a7-1652-4abc-adfd-158c5e75435f",
   "metadata": {
    "tags": []
   },
   "outputs": [
    {
     "data": {
      "text/html": [
       "<div>\n",
       "<style scoped>\n",
       "    .dataframe tbody tr th:only-of-type {\n",
       "        vertical-align: middle;\n",
       "    }\n",
       "\n",
       "    .dataframe tbody tr th {\n",
       "        vertical-align: top;\n",
       "    }\n",
       "\n",
       "    .dataframe thead th {\n",
       "        text-align: right;\n",
       "    }\n",
       "</style>\n",
       "<table border=\"1\" class=\"dataframe\">\n",
       "  <thead>\n",
       "    <tr style=\"text-align: right;\">\n",
       "      <th></th>\n",
       "      <th>schedule_gtfs_dataset_key</th>\n",
       "      <th>dir_0_1</th>\n",
       "      <th>Period</th>\n",
       "      <th>Average Scheduled Service (trip minutes)</th>\n",
       "      <th>Average Stop Distance (miles)</th>\n",
       "      <th># scheduled trips</th>\n",
       "      <th>Trips per Hour</th>\n",
       "      <th>is_express</th>\n",
       "      <th>is_rapid</th>\n",
       "      <th>is_rail</th>\n",
       "      <th>is_coverage</th>\n",
       "      <th>is_downtown_local</th>\n",
       "      <th>is_local</th>\n",
       "      <th>Date</th>\n",
       "      <th>Route typology</th>\n",
       "      <th># Minutes with 1+ VP per Minute</th>\n",
       "      <th># Minutes with 2+ VP per Minute</th>\n",
       "      <th>Aggregate Actual Service Minutes</th>\n",
       "      <th>Aggregate Scheduled Service Minutes (all trips)</th>\n",
       "      <th># VP</th>\n",
       "      <th># VP within Scheduled Shape</th>\n",
       "      <th># Early Arrival Trips</th>\n",
       "      <th># On-Time Trips</th>\n",
       "      <th># Late Trips</th>\n",
       "      <th># Trips with VP</th>\n",
       "      <th>Average VP per Minute</th>\n",
       "      <th>% VP within Scheduled Shape</th>\n",
       "      <th>pct_rt_journey_atleast1_vp</th>\n",
       "      <th>pct_rt_journey_atleast2_vp</th>\n",
       "      <th>% Scheduled Trip w/ 1+ VP/Minute</th>\n",
       "      <th>% Scheduled Trip w/ 2+ VP/Minute</th>\n",
       "      <th>Realtime versus Scheduled Service Ratio</th>\n",
       "      <th>Average Actual Service (Trip Minutes)</th>\n",
       "      <th>GTFS Availability</th>\n",
       "      <th>Speed (MPH)</th>\n",
       "      <th>route_long_name</th>\n",
       "      <th>route_short_name</th>\n",
       "      <th>Route</th>\n",
       "      <th>Route ID</th>\n",
       "      <th>Base64 Encoded Feed URL</th>\n",
       "      <th>Organization ID</th>\n",
       "      <th>Organization</th>\n",
       "      <th>District</th>\n",
       "      <th>Direction</th>\n",
       "      <th>Transit Operator</th>\n",
       "      <th>schedule_source_record_id</th>\n",
       "      <th>ruler_100_pct</th>\n",
       "      <th>ruler_for_vp_per_min</th>\n",
       "      <th>headway_in_minutes</th>\n",
       "    </tr>\n",
       "  </thead>\n",
       "  <tbody>\n",
       "    <tr>\n",
       "      <th>0</th>\n",
       "      <td>7cc0cb1871dfd558f11a2885c145d144</td>\n",
       "      <td>0.00</td>\n",
       "      <td>all_day</td>\n",
       "      <td>41.33</td>\n",
       "      <td>0.12</td>\n",
       "      <td>151</td>\n",
       "      <td>6.29</td>\n",
       "      <td>0.00</td>\n",
       "      <td>0.00</td>\n",
       "      <td>0.00</td>\n",
       "      <td>0.00</td>\n",
       "      <td>1.00</td>\n",
       "      <td>0.00</td>\n",
       "      <td>2023-04-12</td>\n",
       "      <td>downtown_local</td>\n",
       "      <td>7816</td>\n",
       "      <td>7708</td>\n",
       "      <td>12084.08</td>\n",
       "      <td>6194.00</td>\n",
       "      <td>23106</td>\n",
       "      <td>21485</td>\n",
       "      <td>4</td>\n",
       "      <td>28</td>\n",
       "      <td>118</td>\n",
       "      <td>150</td>\n",
       "      <td>1.91</td>\n",
       "      <td>93.00</td>\n",
       "      <td>65.00</td>\n",
       "      <td>64.00</td>\n",
       "      <td>100.00</td>\n",
       "      <td>100.00</td>\n",
       "      <td>1.95</td>\n",
       "      <td>80.56</td>\n",
       "      <td>schedule_and_vp</td>\n",
       "      <td>5.56</td>\n",
       "      <td>CALIFORNIA</td>\n",
       "      <td>1</td>\n",
       "      <td>1 CALIFORNIA</td>\n",
       "      <td>1</td>\n",
       "      <td>aHR0cHM6Ly9hcGkuNTExLm9yZy90cmFuc2l0L2RhdGFmZWVkcz9vcGVyYXRvcl9pZD1TRg==</td>\n",
       "      <td>rechaapWbeffO33OX</td>\n",
       "      <td>City and County of San Francisco</td>\n",
       "      <td>04 - Oakland</td>\n",
       "      <td>Westbound</td>\n",
       "      <td>Bay Area 511 Muni Schedule</td>\n",
       "      <td>recHD22phgJs34JHP</td>\n",
       "      <td>100</td>\n",
       "      <td>2</td>\n",
       "      <td>9.54</td>\n",
       "    </tr>\n",
       "    <tr>\n",
       "      <th>1</th>\n",
       "      <td>7cc0cb1871dfd558f11a2885c145d144</td>\n",
       "      <td>0.00</td>\n",
       "      <td>all_day</td>\n",
       "      <td>41.33</td>\n",
       "      <td>0.11</td>\n",
       "      <td>151</td>\n",
       "      <td>6.29</td>\n",
       "      <td>0.00</td>\n",
       "      <td>0.00</td>\n",
       "      <td>0.00</td>\n",
       "      <td>0.00</td>\n",
       "      <td>1.00</td>\n",
       "      <td>0.00</td>\n",
       "      <td>2023-05-17</td>\n",
       "      <td>downtown_local</td>\n",
       "      <td>8015</td>\n",
       "      <td>7898</td>\n",
       "      <td>12137.89</td>\n",
       "      <td>6194.00</td>\n",
       "      <td>23681</td>\n",
       "      <td>21951</td>\n",
       "      <td>0</td>\n",
       "      <td>27</td>\n",
       "      <td>123</td>\n",
       "      <td>150</td>\n",
       "      <td>1.95</td>\n",
       "      <td>93.00</td>\n",
       "      <td>66.00</td>\n",
       "      <td>65.00</td>\n",
       "      <td>100.00</td>\n",
       "      <td>100.00</td>\n",
       "      <td>1.96</td>\n",
       "      <td>80.92</td>\n",
       "      <td>schedule_and_vp</td>\n",
       "      <td>5.10</td>\n",
       "      <td>CALIFORNIA</td>\n",
       "      <td>1</td>\n",
       "      <td>1 CALIFORNIA</td>\n",
       "      <td>1</td>\n",
       "      <td>aHR0cHM6Ly9hcGkuNTExLm9yZy90cmFuc2l0L2RhdGFmZWVkcz9vcGVyYXRvcl9pZD1TRg==</td>\n",
       "      <td>rechaapWbeffO33OX</td>\n",
       "      <td>City and County of San Francisco</td>\n",
       "      <td>04 - Oakland</td>\n",
       "      <td>Westbound</td>\n",
       "      <td>Bay Area 511 Muni Schedule</td>\n",
       "      <td>recHD22phgJs34JHP</td>\n",
       "      <td>100</td>\n",
       "      <td>2</td>\n",
       "      <td>9.54</td>\n",
       "    </tr>\n",
       "  </tbody>\n",
       "</table>\n",
       "</div>"
      ],
      "text/plain": [
       "          schedule_gtfs_dataset_key  dir_0_1   Period  \\\n",
       "0  7cc0cb1871dfd558f11a2885c145d144     0.00  all_day   \n",
       "1  7cc0cb1871dfd558f11a2885c145d144     0.00  all_day   \n",
       "\n",
       "   Average Scheduled Service (trip minutes)  Average Stop Distance (miles)  \\\n",
       "0                                     41.33                           0.12   \n",
       "1                                     41.33                           0.11   \n",
       "\n",
       "   # scheduled trips  Trips per Hour  is_express  is_rapid  is_rail  \\\n",
       "0                151            6.29        0.00      0.00     0.00   \n",
       "1                151            6.29        0.00      0.00     0.00   \n",
       "\n",
       "   is_coverage  is_downtown_local  is_local       Date  Route typology  \\\n",
       "0         0.00               1.00      0.00 2023-04-12  downtown_local   \n",
       "1         0.00               1.00      0.00 2023-05-17  downtown_local   \n",
       "\n",
       "   # Minutes with 1+ VP per Minute  # Minutes with 2+ VP per Minute  \\\n",
       "0                             7816                             7708   \n",
       "1                             8015                             7898   \n",
       "\n",
       "   Aggregate Actual Service Minutes  \\\n",
       "0                          12084.08   \n",
       "1                          12137.89   \n",
       "\n",
       "   Aggregate Scheduled Service Minutes (all trips)   # VP  \\\n",
       "0                                          6194.00  23106   \n",
       "1                                          6194.00  23681   \n",
       "\n",
       "   # VP within Scheduled Shape  # Early Arrival Trips  # On-Time Trips  \\\n",
       "0                        21485                      4               28   \n",
       "1                        21951                      0               27   \n",
       "\n",
       "   # Late Trips  # Trips with VP  Average VP per Minute  \\\n",
       "0           118              150                   1.91   \n",
       "1           123              150                   1.95   \n",
       "\n",
       "   % VP within Scheduled Shape  pct_rt_journey_atleast1_vp  \\\n",
       "0                        93.00                       65.00   \n",
       "1                        93.00                       66.00   \n",
       "\n",
       "   pct_rt_journey_atleast2_vp  % Scheduled Trip w/ 1+ VP/Minute  \\\n",
       "0                       64.00                            100.00   \n",
       "1                       65.00                            100.00   \n",
       "\n",
       "   % Scheduled Trip w/ 2+ VP/Minute  Realtime versus Scheduled Service Ratio  \\\n",
       "0                            100.00                                     1.95   \n",
       "1                            100.00                                     1.96   \n",
       "\n",
       "   Average Actual Service (Trip Minutes) GTFS Availability  Speed (MPH)  \\\n",
       "0                                  80.56   schedule_and_vp         5.56   \n",
       "1                                  80.92   schedule_and_vp         5.10   \n",
       "\n",
       "  route_long_name route_short_name         Route Route ID  \\\n",
       "0      CALIFORNIA                1  1 CALIFORNIA        1   \n",
       "1      CALIFORNIA                1  1 CALIFORNIA        1   \n",
       "\n",
       "                                                    Base64 Encoded Feed URL  \\\n",
       "0  aHR0cHM6Ly9hcGkuNTExLm9yZy90cmFuc2l0L2RhdGFmZWVkcz9vcGVyYXRvcl9pZD1TRg==   \n",
       "1  aHR0cHM6Ly9hcGkuNTExLm9yZy90cmFuc2l0L2RhdGFmZWVkcz9vcGVyYXRvcl9pZD1TRg==   \n",
       "\n",
       "     Organization ID                      Organization      District  \\\n",
       "0  rechaapWbeffO33OX  City and County of San Francisco  04 - Oakland   \n",
       "1  rechaapWbeffO33OX  City and County of San Francisco  04 - Oakland   \n",
       "\n",
       "   Direction            Transit Operator schedule_source_record_id  \\\n",
       "0  Westbound  Bay Area 511 Muni Schedule         recHD22phgJs34JHP   \n",
       "1  Westbound  Bay Area 511 Muni Schedule         recHD22phgJs34JHP   \n",
       "\n",
       "   ruler_100_pct  ruler_for_vp_per_min  headway_in_minutes  \n",
       "0            100                     2                9.54  \n",
       "1            100                     2                9.54  "
      ]
     },
     "execution_count": 6,
     "metadata": {},
     "output_type": "execute_result"
    }
   ],
   "source": [
    "sf_df.head(2)"
   ]
  },
  {
   "cell_type": "code",
   "execution_count": 7,
   "id": "631f9162-2330-4737-b585-09b6f04fa7b0",
   "metadata": {
    "tags": []
   },
   "outputs": [
    {
     "data": {
      "text/plain": [
       "array(['2023-04-12T00:00:00.000000000', '2023-05-17T00:00:00.000000000',\n",
       "       '2023-06-14T00:00:00.000000000', '2023-07-12T00:00:00.000000000',\n",
       "       '2023-08-15T00:00:00.000000000', '2023-10-11T00:00:00.000000000',\n",
       "       '2023-11-15T00:00:00.000000000', '2023-12-13T00:00:00.000000000',\n",
       "       '2024-01-17T00:00:00.000000000', '2024-02-14T00:00:00.000000000',\n",
       "       '2024-03-13T00:00:00.000000000', '2024-04-17T00:00:00.000000000',\n",
       "       '2024-05-22T00:00:00.000000000', '2024-07-17T00:00:00.000000000',\n",
       "       '2024-08-14T00:00:00.000000000', '2024-09-18T00:00:00.000000000',\n",
       "       '2024-10-16T00:00:00.000000000', '2024-11-13T00:00:00.000000000',\n",
       "       '2024-12-11T00:00:00.000000000', '2025-01-15T00:00:00.000000000',\n",
       "       '2025-02-12T00:00:00.000000000', '2023-03-15T00:00:00.000000000'],\n",
       "      dtype='datetime64[ns]')"
      ]
     },
     "execution_count": 7,
     "metadata": {},
     "output_type": "execute_result"
    }
   ],
   "source": [
    "sf_df.Date.unique()"
   ]
  },
  {
   "cell_type": "code",
   "execution_count": 15,
   "id": "df86432b-be8f-4657-8841-f739131a2f4d",
   "metadata": {
    "tags": []
   },
   "outputs": [],
   "source": [
    "jan_only = sf_df.loc[sf_df.Date == '2025-01-15T00:00:00.000000000']"
   ]
  },
  {
   "cell_type": "code",
   "execution_count": 16,
   "id": "f5317d4f-83aa-47b0-9b79-737bf95da161",
   "metadata": {
    "tags": []
   },
   "outputs": [
    {
     "name": "stdout",
     "output_type": "stream",
     "text": [
      "<class 'pandas.core.frame.DataFrame'>\n",
      "Int64Index: 360 entries, 19 to 7454\n",
      "Data columns (total 49 columns):\n",
      " #   Column                                           Non-Null Count  Dtype         \n",
      "---  ------                                           --------------  -----         \n",
      " 0   schedule_gtfs_dataset_key                        360 non-null    object        \n",
      " 1   dir_0_1                                          360 non-null    float64       \n",
      " 2   Period                                           360 non-null    object        \n",
      " 3   Average Scheduled Service (trip minutes)         360 non-null    float64       \n",
      " 4   Average Stop Distance (miles)                    360 non-null    float64       \n",
      " 5   # scheduled trips                                360 non-null    int64         \n",
      " 6   Trips per Hour                                   360 non-null    float64       \n",
      " 7   is_express                                       360 non-null    float64       \n",
      " 8   is_rapid                                         360 non-null    float64       \n",
      " 9   is_rail                                          360 non-null    float64       \n",
      " 10  is_coverage                                      360 non-null    float64       \n",
      " 11  is_downtown_local                                360 non-null    float64       \n",
      " 12  is_local                                         360 non-null    float64       \n",
      " 13  Date                                             360 non-null    datetime64[ns]\n",
      " 14  Route typology                                   360 non-null    object        \n",
      " 15  # Minutes with 1+ VP per Minute                  360 non-null    int64         \n",
      " 16  # Minutes with 2+ VP per Minute                  360 non-null    int64         \n",
      " 17  Aggregate Actual Service Minutes                 360 non-null    float64       \n",
      " 18  Aggregate Scheduled Service Minutes (all trips)  360 non-null    float64       \n",
      " 19  # VP                                             360 non-null    int64         \n",
      " 20  # VP within Scheduled Shape                      360 non-null    int64         \n",
      " 21  # Early Arrival Trips                            360 non-null    int64         \n",
      " 22  # On-Time Trips                                  360 non-null    int64         \n",
      " 23  # Late Trips                                     360 non-null    int64         \n",
      " 24  # Trips with VP                                  360 non-null    int64         \n",
      " 25  Average VP per Minute                            360 non-null    float64       \n",
      " 26  % VP within Scheduled Shape                      360 non-null    float64       \n",
      " 27  pct_rt_journey_atleast1_vp                       360 non-null    float64       \n",
      " 28  pct_rt_journey_atleast2_vp                       360 non-null    float64       \n",
      " 29  % Scheduled Trip w/ 1+ VP/Minute                 360 non-null    float64       \n",
      " 30  % Scheduled Trip w/ 2+ VP/Minute                 360 non-null    float64       \n",
      " 31  Realtime versus Scheduled Service Ratio          360 non-null    float64       \n",
      " 32  Average Actual Service (Trip Minutes)            360 non-null    float64       \n",
      " 33  GTFS Availability                                360 non-null    category      \n",
      " 34  Speed (MPH)                                      360 non-null    float64       \n",
      " 35  route_long_name                                  360 non-null    object        \n",
      " 36  route_short_name                                 360 non-null    object        \n",
      " 37  Route                                            360 non-null    object        \n",
      " 38  Route ID                                         360 non-null    object        \n",
      " 39  Base64 Encoded Feed URL                          360 non-null    object        \n",
      " 40  Organization ID                                  360 non-null    object        \n",
      " 41  Organization                                     360 non-null    object        \n",
      " 42  District                                         360 non-null    object        \n",
      " 43  Direction                                        360 non-null    object        \n",
      " 44  Transit Operator                                 360 non-null    object        \n",
      " 45  schedule_source_record_id                        360 non-null    object        \n",
      " 46  ruler_100_pct                                    360 non-null    int64         \n",
      " 47  ruler_for_vp_per_min                             360 non-null    int64         \n",
      " 48  headway_in_minutes                               360 non-null    float64       \n",
      "dtypes: category(1), datetime64[ns](1), float64(22), int64(11), object(14)\n",
      "memory usage: 138.3+ KB\n"
     ]
    }
   ],
   "source": [
    "jan_only.info()"
   ]
  },
  {
   "cell_type": "code",
   "execution_count": 14,
   "id": "12d72875-95e5-4d48-bbf2-430fc97d1ed7",
   "metadata": {
    "tags": []
   },
   "outputs": [],
   "source": [
    "feb_only = sf_df.loc[sf_df.Date == '2025-02-12T00:00:00.000000000']"
   ]
  },
  {
   "cell_type": "code",
   "execution_count": 9,
   "id": "2a092002-0429-4971-8359-e616ea82b1cb",
   "metadata": {
    "tags": []
   },
   "outputs": [
    {
     "name": "stdout",
     "output_type": "stream",
     "text": [
      "<class 'pandas.core.frame.DataFrame'>\n",
      "Int64Index: 362 entries, 20 to 7455\n",
      "Data columns (total 49 columns):\n",
      " #   Column                                           Non-Null Count  Dtype         \n",
      "---  ------                                           --------------  -----         \n",
      " 0   schedule_gtfs_dataset_key                        362 non-null    object        \n",
      " 1   dir_0_1                                          362 non-null    float64       \n",
      " 2   Period                                           362 non-null    object        \n",
      " 3   Average Scheduled Service (trip minutes)         362 non-null    float64       \n",
      " 4   Average Stop Distance (miles)                    362 non-null    float64       \n",
      " 5   # scheduled trips                                362 non-null    int64         \n",
      " 6   Trips per Hour                                   362 non-null    float64       \n",
      " 7   is_express                                       362 non-null    float64       \n",
      " 8   is_rapid                                         362 non-null    float64       \n",
      " 9   is_rail                                          362 non-null    float64       \n",
      " 10  is_coverage                                      362 non-null    float64       \n",
      " 11  is_downtown_local                                362 non-null    float64       \n",
      " 12  is_local                                         362 non-null    float64       \n",
      " 13  Date                                             362 non-null    datetime64[ns]\n",
      " 14  Route typology                                   362 non-null    object        \n",
      " 15  # Minutes with 1+ VP per Minute                  362 non-null    int64         \n",
      " 16  # Minutes with 2+ VP per Minute                  362 non-null    int64         \n",
      " 17  Aggregate Actual Service Minutes                 362 non-null    float64       \n",
      " 18  Aggregate Scheduled Service Minutes (all trips)  362 non-null    float64       \n",
      " 19  # VP                                             362 non-null    int64         \n",
      " 20  # VP within Scheduled Shape                      362 non-null    int64         \n",
      " 21  # Early Arrival Trips                            362 non-null    int64         \n",
      " 22  # On-Time Trips                                  362 non-null    int64         \n",
      " 23  # Late Trips                                     362 non-null    int64         \n",
      " 24  # Trips with VP                                  362 non-null    int64         \n",
      " 25  Average VP per Minute                            362 non-null    float64       \n",
      " 26  % VP within Scheduled Shape                      362 non-null    float64       \n",
      " 27  pct_rt_journey_atleast1_vp                       362 non-null    float64       \n",
      " 28  pct_rt_journey_atleast2_vp                       362 non-null    float64       \n",
      " 29  % Scheduled Trip w/ 1+ VP/Minute                 362 non-null    float64       \n",
      " 30  % Scheduled Trip w/ 2+ VP/Minute                 362 non-null    float64       \n",
      " 31  Realtime versus Scheduled Service Ratio          362 non-null    float64       \n",
      " 32  Average Actual Service (Trip Minutes)            362 non-null    float64       \n",
      " 33  GTFS Availability                                362 non-null    category      \n",
      " 34  Speed (MPH)                                      362 non-null    float64       \n",
      " 35  route_long_name                                  362 non-null    object        \n",
      " 36  route_short_name                                 362 non-null    object        \n",
      " 37  Route                                            362 non-null    object        \n",
      " 38  Route ID                                         362 non-null    object        \n",
      " 39  Base64 Encoded Feed URL                          362 non-null    object        \n",
      " 40  Organization ID                                  362 non-null    object        \n",
      " 41  Organization                                     362 non-null    object        \n",
      " 42  District                                         362 non-null    object        \n",
      " 43  Direction                                        362 non-null    object        \n",
      " 44  Transit Operator                                 362 non-null    object        \n",
      " 45  schedule_source_record_id                        362 non-null    object        \n",
      " 46  ruler_100_pct                                    362 non-null    int64         \n",
      " 47  ruler_for_vp_per_min                             362 non-null    int64         \n",
      " 48  headway_in_minutes                               362 non-null    float64       \n",
      "dtypes: category(1), datetime64[ns](1), float64(22), int64(11), object(14)\n",
      "memory usage: 139.1+ KB\n"
     ]
    }
   ],
   "source": [
    "feb_only.info()"
   ]
  },
  {
   "cell_type": "code",
   "execution_count": 10,
   "id": "2bbf3026-bbf2-4b97-95f4-9c486a0f06a9",
   "metadata": {
    "tags": []
   },
   "outputs": [],
   "source": [
    "CLEAN_ROUTES = GTFS_DATA_DICT.schedule_tables.route_identification"
   ]
  },
  {
   "cell_type": "code",
   "execution_count": 11,
   "id": "78279984-84cb-42b3-beb9-e189553c9dd9",
   "metadata": {
    "tags": []
   },
   "outputs": [],
   "source": [
    "route_names_df = pd.read_parquet(\n",
    "        f\"{SCHED_GCS}{CLEAN_ROUTES}.parquet\"\n",
    "    )"
   ]
  },
  {
   "cell_type": "code",
   "execution_count": 12,
   "id": "bc13a601-2319-41fa-acff-eb1ee47a51c0",
   "metadata": {
    "tags": []
   },
   "outputs": [
    {
     "data": {
      "text/html": [
       "<div>\n",
       "<style scoped>\n",
       "    .dataframe tbody tr th:only-of-type {\n",
       "        vertical-align: middle;\n",
       "    }\n",
       "\n",
       "    .dataframe tbody tr th {\n",
       "        vertical-align: top;\n",
       "    }\n",
       "\n",
       "    .dataframe thead th {\n",
       "        text-align: right;\n",
       "    }\n",
       "</style>\n",
       "<table border=\"1\" class=\"dataframe\">\n",
       "  <thead>\n",
       "    <tr style=\"text-align: right;\">\n",
       "      <th></th>\n",
       "      <th>schedule_gtfs_dataset_key</th>\n",
       "      <th>name</th>\n",
       "      <th>route_id</th>\n",
       "      <th>route_long_name</th>\n",
       "      <th>route_short_name</th>\n",
       "      <th>route_desc</th>\n",
       "      <th>service_date</th>\n",
       "      <th>combined_name</th>\n",
       "      <th>route_id2</th>\n",
       "      <th>recent_combined_name</th>\n",
       "      <th>recent_route_id2</th>\n",
       "    </tr>\n",
       "  </thead>\n",
       "  <tbody>\n",
       "    <tr>\n",
       "      <th>0</th>\n",
       "      <td>1770249a5a2e770ca90628434d4934b1</td>\n",
       "      <td>VCTC GMV Schedule</td>\n",
       "      <td>3407</td>\n",
       "      <td>Route 18</td>\n",
       "      <td>Route 18</td>\n",
       "      <td>OHS TRIPPER - C ST - DORIS ST</td>\n",
       "      <td>2024-01-17</td>\n",
       "      <td>Route 18__Route 18</td>\n",
       "      <td>3407</td>\n",
       "      <td>Route 18__Route 18</td>\n",
       "      <td>3407</td>\n",
       "    </tr>\n",
       "  </tbody>\n",
       "</table>\n",
       "</div>"
      ],
      "text/plain": [
       "          schedule_gtfs_dataset_key               name route_id  \\\n",
       "0  1770249a5a2e770ca90628434d4934b1  VCTC GMV Schedule     3407   \n",
       "\n",
       "  route_long_name route_short_name                     route_desc  \\\n",
       "0        Route 18         Route 18  OHS TRIPPER - C ST - DORIS ST   \n",
       "\n",
       "  service_date       combined_name route_id2 recent_combined_name  \\\n",
       "0   2024-01-17  Route 18__Route 18      3407   Route 18__Route 18   \n",
       "\n",
       "  recent_route_id2  \n",
       "0             3407  "
      ]
     },
     "execution_count": 12,
     "metadata": {},
     "output_type": "execute_result"
    }
   ],
   "source": [
    "route_names_df.head(1)"
   ]
  },
  {
   "cell_type": "code",
   "execution_count": 13,
   "id": "16473595-26ec-4ccf-b2c4-8f2029e968e8",
   "metadata": {
    "tags": []
   },
   "outputs": [
    {
     "data": {
      "text/plain": [
       "array(['2024-01-17T00:00:00.000000000', '2024-02-14T00:00:00.000000000',\n",
       "       '2024-03-13T00:00:00.000000000', '2024-04-17T00:00:00.000000000',\n",
       "       '2024-05-22T00:00:00.000000000', '2024-06-12T00:00:00.000000000',\n",
       "       '2024-07-17T00:00:00.000000000', '2024-08-14T00:00:00.000000000',\n",
       "       '2024-09-18T00:00:00.000000000', '2024-10-16T00:00:00.000000000',\n",
       "       '2024-11-13T00:00:00.000000000', '2024-12-11T00:00:00.000000000',\n",
       "       '2023-03-15T00:00:00.000000000', '2023-04-12T00:00:00.000000000',\n",
       "       '2023-05-17T00:00:00.000000000', '2023-06-14T00:00:00.000000000',\n",
       "       '2023-07-12T00:00:00.000000000', '2023-08-15T00:00:00.000000000',\n",
       "       '2023-09-13T00:00:00.000000000', '2023-10-11T00:00:00.000000000',\n",
       "       '2023-11-15T00:00:00.000000000', '2023-12-13T00:00:00.000000000',\n",
       "       '2023-10-09T00:00:00.000000000', '2023-10-10T00:00:00.000000000',\n",
       "       '2023-10-12T00:00:00.000000000', '2023-10-13T00:00:00.000000000',\n",
       "       '2023-10-14T00:00:00.000000000', '2023-10-15T00:00:00.000000000',\n",
       "       '2023-04-10T00:00:00.000000000', '2023-04-11T00:00:00.000000000',\n",
       "       '2023-04-13T00:00:00.000000000', '2023-04-14T00:00:00.000000000',\n",
       "       '2023-04-15T00:00:00.000000000', '2023-04-16T00:00:00.000000000',\n",
       "       '2024-04-15T00:00:00.000000000', '2024-04-16T00:00:00.000000000',\n",
       "       '2024-04-18T00:00:00.000000000', '2024-04-19T00:00:00.000000000',\n",
       "       '2024-04-20T00:00:00.000000000', '2024-04-21T00:00:00.000000000',\n",
       "       '2025-01-15T00:00:00.000000000', '2025-02-12T00:00:00.000000000'],\n",
       "      dtype='datetime64[ns]')"
      ]
     },
     "execution_count": 13,
     "metadata": {},
     "output_type": "execute_result"
    }
   ],
   "source": [
    "route_names_df.service_date.unique()"
   ]
  }
 ],
 "metadata": {
  "kernelspec": {
   "display_name": "Python 3 (ipykernel)",
   "language": "python",
   "name": "python3"
  },
  "language_info": {
   "codemirror_mode": {
    "name": "ipython",
    "version": 3
   },
   "file_extension": ".py",
   "mimetype": "text/x-python",
   "name": "python",
   "nbconvert_exporter": "python",
   "pygments_lexer": "ipython3",
   "version": "3.11.6"
  }
 },
 "nbformat": 4,
 "nbformat_minor": 5
}
