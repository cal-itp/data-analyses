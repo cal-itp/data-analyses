{
 "cells": [
  {
   "cell_type": "markdown",
   "id": "f345c239-a123-4a84-9144-ed0ef32a1042",
   "metadata": {},
   "source": [
    "# [Issue #1357](https://github.com/cal-itp/data-analyses/issues/1357)\n",
    "* <i>Since there was also another reported issue of a missing transit agency in #1254, I recommend cross referencing the complete GTFS Digest Agency List with the list of fixed-route agencies on the Statewide Transit Metrics dashboard.</i> "
   ]
  },
  {
   "cell_type": "code",
   "execution_count": 1,
   "id": "ded7a372-b25f-4e59-b8a8-6eebfe0f8c88",
   "metadata": {
    "tags": []
   },
   "outputs": [],
   "source": [
    "import _operators_prep\n",
    "import deploy_portfolio_yaml\n",
    "import geopandas as gpd\n",
    "import numpy as np\n",
    "import pandas as pd\n",
    "from calitp_data_analysis.sql import to_snakecase\n",
    "from segment_speed_utils import gtfs_schedule_wrangling, helpers\n",
    "from shared_utils import portfolio_utils\n",
    "from update_vars import GTFS_DATA_DICT, RT_SCHED_GCS, SCHED_GCS, SEGMENT_GCS"
   ]
  },
  {
   "cell_type": "code",
   "execution_count": 2,
   "id": "fa056fcd-0d97-4efc-9733-3d767d3bb7e6",
   "metadata": {
    "tags": []
   },
   "outputs": [],
   "source": [
    "pd.options.display.max_columns = 100\n",
    "pd.options.display.float_format = \"{:.2f}\".format\n",
    "pd.set_option(\"display.max_rows\", None)\n",
    "pd.set_option(\"display.max_colwidth\", None)"
   ]
  },
  {
   "cell_type": "code",
   "execution_count": 3,
   "id": "a41e3d33-5395-4d62-ba2d-c1f4604b20b7",
   "metadata": {
    "tags": []
   },
   "outputs": [],
   "source": [
    "gtfs_digest_operators = _operators_prep.operators_schd_vp_rt()"
   ]
  },
  {
   "cell_type": "code",
   "execution_count": 4,
   "id": "62552c5d-38d6-4ee5-abb0-2d2a28abb365",
   "metadata": {
    "tags": []
   },
   "outputs": [
    {
     "data": {
      "text/plain": [
       "Index(['caltrans_district', 'organization_name'], dtype='object')"
      ]
     },
     "execution_count": 4,
     "metadata": {},
     "output_type": "execute_result"
    }
   ],
   "source": [
    "gtfs_digest_operators.columns"
   ]
  },
  {
   "cell_type": "code",
   "execution_count": 21,
   "id": "f632dd34-1ed4-43c4-b82e-37ac0b8730d0",
   "metadata": {
    "tags": []
   },
   "outputs": [
    {
     "data": {
      "text/plain": [
       "199"
      ]
     },
     "execution_count": 21,
     "metadata": {},
     "output_type": "execute_result"
    }
   ],
   "source": [
    "gtfs_digest_operators.organization_name.nunique()"
   ]
  },
  {
   "cell_type": "code",
   "execution_count": 5,
   "id": "d337ece7-238d-4ca3-bf72-2d2a149fe94c",
   "metadata": {},
   "outputs": [],
   "source": [
    "gtfs_digest_operators.organization_name = (\n",
    "    gtfs_digest_operators.organization_name.str.lower().str.replace(\"-\", \" \")\n",
    ")"
   ]
  },
  {
   "cell_type": "code",
   "execution_count": 6,
   "id": "92347ab2-2b77-4d0f-91ef-9cae07987ef5",
   "metadata": {
    "tags": []
   },
   "outputs": [],
   "source": [
    "metabase_fixed_route_agencies = \"gs://calitp-analytics-data/data-analyses/gtfs_digest_other/list_of_fixed_route_transit_agencies_2025-01-23T18_30_01.768867Z.xlsx\""
   ]
  },
  {
   "cell_type": "code",
   "execution_count": 7,
   "id": "0706d307-2348-4cc4-875d-d62108cd872b",
   "metadata": {
    "tags": []
   },
   "outputs": [
    {
     "name": "stderr",
     "output_type": "stream",
     "text": [
      "/opt/conda/lib/python3.11/site-packages/openpyxl/styles/stylesheet.py:226: UserWarning: Workbook contains no default style, apply openpyxl's default\n",
      "  warn(\"Workbook contains no default style, apply openpyxl's default\")\n"
     ]
    }
   ],
   "source": [
    "metabase_df = to_snakecase(pd.read_excel(metabase_fixed_route_agencies))"
   ]
  },
  {
   "cell_type": "code",
   "execution_count": 9,
   "id": "14f4e4a8-a915-4667-838c-bd1e5b62fabd",
   "metadata": {
    "tags": []
   },
   "outputs": [
    {
     "data": {
      "text/plain": [
       "198"
      ]
     },
     "execution_count": 9,
     "metadata": {},
     "output_type": "execute_result"
    }
   ],
   "source": [
    "metabase_df.name__and_link_to_agency_dashboard_.nunique()"
   ]
  },
  {
   "cell_type": "code",
   "execution_count": 10,
   "id": "7fd6bfe5-6c48-4d0d-a46b-500bc8726cac",
   "metadata": {
    "tags": []
   },
   "outputs": [],
   "source": [
    "metabase_df.name__and_link_to_agency_dashboard_ = (\n",
    "    metabase_df.name__and_link_to_agency_dashboard_.str.lower().str.replace(\"-\", \" \")\n",
    ")"
   ]
  },
  {
   "cell_type": "code",
   "execution_count": 11,
   "id": "d14f867b-0aa6-41c0-9aa8-8613f87dcb12",
   "metadata": {
    "tags": []
   },
   "outputs": [
    {
     "data": {
      "text/plain": [
       "198"
      ]
     },
     "execution_count": 11,
     "metadata": {},
     "output_type": "execute_result"
    }
   ],
   "source": [
    "len(metabase_df)"
   ]
  },
  {
   "cell_type": "code",
   "execution_count": 20,
   "id": "d616aa31-fe12-4a87-af7c-984c06b9982a",
   "metadata": {
    "tags": []
   },
   "outputs": [
    {
     "data": {
      "text/html": [
       "<div>\n",
       "<style scoped>\n",
       "    .dataframe tbody tr th:only-of-type {\n",
       "        vertical-align: middle;\n",
       "    }\n",
       "\n",
       "    .dataframe tbody tr th {\n",
       "        vertical-align: top;\n",
       "    }\n",
       "\n",
       "    .dataframe thead th {\n",
       "        text-align: right;\n",
       "    }\n",
       "</style>\n",
       "<table border=\"1\" class=\"dataframe\">\n",
       "  <thead>\n",
       "    <tr style=\"text-align: right;\">\n",
       "      <th></th>\n",
       "      <th>name__and_link_to_agency_dashboard_</th>\n",
       "      <th>organization_type</th>\n",
       "      <th>website</th>\n",
       "    </tr>\n",
       "  </thead>\n",
       "  <tbody>\n",
       "    <tr>\n",
       "      <th>0</th>\n",
       "      <td>alameda contra costa transit district</td>\n",
       "      <td>Independent Agency</td>\n",
       "      <td>https://www.actransit.org/</td>\n",
       "    </tr>\n",
       "    <tr>\n",
       "      <th>1</th>\n",
       "      <td>amador regional transit system</td>\n",
       "      <td>Independent Agency</td>\n",
       "      <td>https://amadortransit.com/</td>\n",
       "    </tr>\n",
       "    <tr>\n",
       "      <th>2</th>\n",
       "      <td>amtrak</td>\n",
       "      <td>Federal Government</td>\n",
       "      <td>https://www.amtrak.com/home</td>\n",
       "    </tr>\n",
       "    <tr>\n",
       "      <th>3</th>\n",
       "      <td>anaheim transportation network</td>\n",
       "      <td>Independent Agency</td>\n",
       "      <td>https://rideart.org/</td>\n",
       "    </tr>\n",
       "    <tr>\n",
       "      <th>4</th>\n",
       "      <td>antelope valley transit authority</td>\n",
       "      <td>Independent Agency</td>\n",
       "      <td>https://www.avta.com/</td>\n",
       "    </tr>\n",
       "    <tr>\n",
       "      <th>5</th>\n",
       "      <td>basin transit</td>\n",
       "      <td>Independent Agency</td>\n",
       "      <td>Basin-Transit.com</td>\n",
       "    </tr>\n",
       "    <tr>\n",
       "      <th>6</th>\n",
       "      <td>butte county association of governments</td>\n",
       "      <td>MPO/RTPA</td>\n",
       "      <td>http://www.bcag.org/</td>\n",
       "    </tr>\n",
       "    <tr>\n",
       "      <th>7</th>\n",
       "      <td>calaveras transit agency</td>\n",
       "      <td>Joint Powers Agency</td>\n",
       "      <td>http://calaverasconnect.org/</td>\n",
       "    </tr>\n",
       "    <tr>\n",
       "      <th>8</th>\n",
       "      <td>capitol corridor joint powers authority</td>\n",
       "      <td>Independent Agency</td>\n",
       "      <td>https://www.capitolcorridor.org/</td>\n",
       "    </tr>\n",
       "    <tr>\n",
       "      <th>9</th>\n",
       "      <td>central contra costa transit authority</td>\n",
       "      <td>Joint Powers Agency</td>\n",
       "      <td>https://countyconnection.com/</td>\n",
       "    </tr>\n",
       "  </tbody>\n",
       "</table>\n",
       "</div>"
      ],
      "text/plain": [
       "       name__and_link_to_agency_dashboard_    organization_type  \\\n",
       "0    alameda contra costa transit district   Independent Agency   \n",
       "1           amador regional transit system   Independent Agency   \n",
       "2                                   amtrak   Federal Government   \n",
       "3           anaheim transportation network   Independent Agency   \n",
       "4        antelope valley transit authority   Independent Agency   \n",
       "5                            basin transit   Independent Agency   \n",
       "6  butte county association of governments             MPO/RTPA   \n",
       "7                 calaveras transit agency  Joint Powers Agency   \n",
       "8  capitol corridor joint powers authority   Independent Agency   \n",
       "9   central contra costa transit authority  Joint Powers Agency   \n",
       "\n",
       "                            website  \n",
       "0        https://www.actransit.org/  \n",
       "1        https://amadortransit.com/  \n",
       "2       https://www.amtrak.com/home  \n",
       "3              https://rideart.org/  \n",
       "4             https://www.avta.com/  \n",
       "5                 Basin-Transit.com  \n",
       "6              http://www.bcag.org/  \n",
       "7     http://calaverasconnect.org/   \n",
       "8  https://www.capitolcorridor.org/  \n",
       "9     https://countyconnection.com/  "
      ]
     },
     "execution_count": 20,
     "metadata": {},
     "output_type": "execute_result"
    }
   ],
   "source": [
    "metabase_df.head(10)"
   ]
  },
  {
   "cell_type": "code",
   "execution_count": 14,
   "id": "8706528f-089c-476d-a8ff-06ea7fc23298",
   "metadata": {
    "tags": []
   },
   "outputs": [
    {
     "data": {
      "text/html": [
       "<div>\n",
       "<style scoped>\n",
       "    .dataframe tbody tr th:only-of-type {\n",
       "        vertical-align: middle;\n",
       "    }\n",
       "\n",
       "    .dataframe tbody tr th {\n",
       "        vertical-align: top;\n",
       "    }\n",
       "\n",
       "    .dataframe thead th {\n",
       "        text-align: right;\n",
       "    }\n",
       "</style>\n",
       "<table border=\"1\" class=\"dataframe\">\n",
       "  <thead>\n",
       "    <tr style=\"text-align: right;\">\n",
       "      <th></th>\n",
       "      <th>caltrans_district</th>\n",
       "      <th>organization_name</th>\n",
       "    </tr>\n",
       "  </thead>\n",
       "  <tbody>\n",
       "    <tr>\n",
       "      <th>0</th>\n",
       "      <td>01 - Eureka</td>\n",
       "      <td>blue lake rancheria</td>\n",
       "    </tr>\n",
       "    <tr>\n",
       "      <th>1</th>\n",
       "      <td>01 - Eureka</td>\n",
       "      <td>city of arcata</td>\n",
       "    </tr>\n",
       "    <tr>\n",
       "      <th>2</th>\n",
       "      <td>01 - Eureka</td>\n",
       "      <td>city of eureka</td>\n",
       "    </tr>\n",
       "    <tr>\n",
       "      <th>3</th>\n",
       "      <td>01 - Eureka</td>\n",
       "      <td>curry public transit</td>\n",
       "    </tr>\n",
       "    <tr>\n",
       "      <th>4</th>\n",
       "      <td>01 - Eureka</td>\n",
       "      <td>humboldt transit authority</td>\n",
       "    </tr>\n",
       "  </tbody>\n",
       "</table>\n",
       "</div>"
      ],
      "text/plain": [
       "  caltrans_district           organization_name\n",
       "0       01 - Eureka         blue lake rancheria\n",
       "1       01 - Eureka              city of arcata\n",
       "2       01 - Eureka              city of eureka\n",
       "3       01 - Eureka        curry public transit\n",
       "4       01 - Eureka  humboldt transit authority"
      ]
     },
     "execution_count": 14,
     "metadata": {},
     "output_type": "execute_result"
    }
   ],
   "source": [
    "gtfs_digest_operators.head()"
   ]
  },
  {
   "cell_type": "code",
   "execution_count": 15,
   "id": "38ac2391-3acc-4dae-ac41-70cd1729293b",
   "metadata": {
    "tags": []
   },
   "outputs": [],
   "source": [
    "m1 = pd.merge(\n",
    "    gtfs_digest_operators,\n",
    "    metabase_df,\n",
    "    left_on=[\"organization_name\"],\n",
    "    right_on=[\"name__and_link_to_agency_dashboard_\"],\n",
    "    how=\"outer\",\n",
    "    indicator=True,\n",
    ")"
   ]
  },
  {
   "cell_type": "code",
   "execution_count": 16,
   "id": "69752c05-bcb8-4fc6-9ded-dad38f0da22d",
   "metadata": {
    "tags": []
   },
   "outputs": [
    {
     "data": {
      "text/plain": [
       "both          185\n",
       "left_only      14\n",
       "right_only     13\n",
       "Name: _merge, dtype: int64"
      ]
     },
     "execution_count": 16,
     "metadata": {},
     "output_type": "execute_result"
    }
   ],
   "source": [
    "m1._merge.value_counts()"
   ]
  },
  {
   "cell_type": "code",
   "execution_count": 18,
   "id": "757b3e3a-f3cf-4216-adb7-02d7a59a6afe",
   "metadata": {
    "tags": []
   },
   "outputs": [
    {
     "data": {
      "text/html": [
       "<div>\n",
       "<style scoped>\n",
       "    .dataframe tbody tr th:only-of-type {\n",
       "        vertical-align: middle;\n",
       "    }\n",
       "\n",
       "    .dataframe tbody tr th {\n",
       "        vertical-align: top;\n",
       "    }\n",
       "\n",
       "    .dataframe thead th {\n",
       "        text-align: right;\n",
       "    }\n",
       "</style>\n",
       "<table border=\"1\" class=\"dataframe\">\n",
       "  <thead>\n",
       "    <tr style=\"text-align: right;\">\n",
       "      <th></th>\n",
       "      <th>organization_name</th>\n",
       "    </tr>\n",
       "  </thead>\n",
       "  <tbody>\n",
       "    <tr>\n",
       "      <th>0</th>\n",
       "      <td>blue lake rancheria</td>\n",
       "    </tr>\n",
       "    <tr>\n",
       "      <th>14</th>\n",
       "      <td>shasta county</td>\n",
       "    </tr>\n",
       "    <tr>\n",
       "      <th>28</th>\n",
       "      <td>north lake tahoe express</td>\n",
       "    </tr>\n",
       "    <tr>\n",
       "      <th>53</th>\n",
       "      <td>emeryville transportation management agency</td>\n",
       "    </tr>\n",
       "    <tr>\n",
       "      <th>56</th>\n",
       "      <td>mission bay transportation management agency</td>\n",
       "    </tr>\n",
       "    <tr>\n",
       "      <th>57</th>\n",
       "      <td>mountain view transportation management association</td>\n",
       "    </tr>\n",
       "    <tr>\n",
       "      <th>69</th>\n",
       "      <td>stanford university</td>\n",
       "    </tr>\n",
       "    <tr>\n",
       "      <th>70</th>\n",
       "      <td>university of california, berkeley</td>\n",
       "    </tr>\n",
       "    <tr>\n",
       "      <th>85</th>\n",
       "      <td>university of california, santa cruz</td>\n",
       "    </tr>\n",
       "    <tr>\n",
       "      <th>144</th>\n",
       "      <td>flixbus</td>\n",
       "    </tr>\n",
       "    <tr>\n",
       "      <th>147</th>\n",
       "      <td>greyhound</td>\n",
       "    </tr>\n",
       "    <tr>\n",
       "      <th>153</th>\n",
       "      <td>university of california, los angeles</td>\n",
       "    </tr>\n",
       "    <tr>\n",
       "      <th>184</th>\n",
       "      <td>flagship cruises and events inc.</td>\n",
       "    </tr>\n",
       "    <tr>\n",
       "      <th>198</th>\n",
       "      <td>university of california, irvine</td>\n",
       "    </tr>\n",
       "  </tbody>\n",
       "</table>\n",
       "</div>"
      ],
      "text/plain": [
       "                                       organization_name\n",
       "0                                    blue lake rancheria\n",
       "14                                         shasta county\n",
       "28                              north lake tahoe express\n",
       "53           emeryville transportation management agency\n",
       "56          mission bay transportation management agency\n",
       "57   mountain view transportation management association\n",
       "69                                   stanford university\n",
       "70                    university of california, berkeley\n",
       "85                  university of california, santa cruz\n",
       "144                                              flixbus\n",
       "147                                            greyhound\n",
       "153                university of california, los angeles\n",
       "184                     flagship cruises and events inc.\n",
       "198                     university of california, irvine"
      ]
     },
     "execution_count": 18,
     "metadata": {},
     "output_type": "execute_result"
    }
   ],
   "source": [
    "m1.loc[m1._merge == \"left_only\"][['organization_name']]"
   ]
  },
  {
   "cell_type": "code",
   "execution_count": 19,
   "id": "1cd3692c-52ed-46e3-9228-ec64577478ae",
   "metadata": {
    "tags": []
   },
   "outputs": [
    {
     "data": {
      "text/html": [
       "<div>\n",
       "<style scoped>\n",
       "    .dataframe tbody tr th:only-of-type {\n",
       "        vertical-align: middle;\n",
       "    }\n",
       "\n",
       "    .dataframe tbody tr th {\n",
       "        vertical-align: top;\n",
       "    }\n",
       "\n",
       "    .dataframe thead th {\n",
       "        text-align: right;\n",
       "    }\n",
       "</style>\n",
       "<table border=\"1\" class=\"dataframe\">\n",
       "  <thead>\n",
       "    <tr style=\"text-align: right;\">\n",
       "      <th></th>\n",
       "      <th>name__and_link_to_agency_dashboard_</th>\n",
       "    </tr>\n",
       "  </thead>\n",
       "  <tbody>\n",
       "    <tr>\n",
       "      <th>199</th>\n",
       "      <td>city of alameda</td>\n",
       "    </tr>\n",
       "    <tr>\n",
       "      <th>200</th>\n",
       "      <td>city of beverly hills</td>\n",
       "    </tr>\n",
       "    <tr>\n",
       "      <th>201</th>\n",
       "      <td>city of carson</td>\n",
       "    </tr>\n",
       "    <tr>\n",
       "      <th>202</th>\n",
       "      <td>city of compton</td>\n",
       "    </tr>\n",
       "    <tr>\n",
       "      <th>203</th>\n",
       "      <td>city of laguna niguel</td>\n",
       "    </tr>\n",
       "    <tr>\n",
       "      <th>204</th>\n",
       "      <td>city of newport beach</td>\n",
       "    </tr>\n",
       "    <tr>\n",
       "      <th>205</th>\n",
       "      <td>city of san fernando</td>\n",
       "    </tr>\n",
       "    <tr>\n",
       "      <th>206</th>\n",
       "      <td>dumbarton bridge regional operations consortium</td>\n",
       "    </tr>\n",
       "    <tr>\n",
       "      <th>207</th>\n",
       "      <td>golden gate bridge, highway and transportation district</td>\n",
       "    </tr>\n",
       "    <tr>\n",
       "      <th>208</th>\n",
       "      <td>san bernardino county transportation authority</td>\n",
       "    </tr>\n",
       "    <tr>\n",
       "      <th>209</th>\n",
       "      <td>san francisco bay area water emergency transit authority</td>\n",
       "    </tr>\n",
       "    <tr>\n",
       "      <th>210</th>\n",
       "      <td>santa cruz harbor</td>\n",
       "    </tr>\n",
       "    <tr>\n",
       "      <th>211</th>\n",
       "      <td>southern california regional rail authority</td>\n",
       "    </tr>\n",
       "  </tbody>\n",
       "</table>\n",
       "</div>"
      ],
      "text/plain": [
       "                          name__and_link_to_agency_dashboard_\n",
       "199                                           city of alameda\n",
       "200                                     city of beverly hills\n",
       "201                                            city of carson\n",
       "202                                           city of compton\n",
       "203                                     city of laguna niguel\n",
       "204                                     city of newport beach\n",
       "205                                      city of san fernando\n",
       "206           dumbarton bridge regional operations consortium\n",
       "207   golden gate bridge, highway and transportation district\n",
       "208            san bernardino county transportation authority\n",
       "209  san francisco bay area water emergency transit authority\n",
       "210                                         santa cruz harbor\n",
       "211               southern california regional rail authority"
      ]
     },
     "execution_count": 19,
     "metadata": {},
     "output_type": "execute_result"
    }
   ],
   "source": [
    "m1.loc[m1._merge == \"right_only\"][['name__and_link_to_agency_dashboard_']]"
   ]
  }
 ],
 "metadata": {
  "kernelspec": {
   "display_name": "Python 3 (ipykernel)",
   "language": "python",
   "name": "python3"
  },
  "language_info": {
   "codemirror_mode": {
    "name": "ipython",
    "version": 3
   },
   "file_extension": ".py",
   "mimetype": "text/x-python",
   "name": "python",
   "nbconvert_exporter": "python",
   "pygments_lexer": "ipython3",
   "version": "3.11.6"
  }
 },
 "nbformat": 4,
 "nbformat_minor": 5
}
