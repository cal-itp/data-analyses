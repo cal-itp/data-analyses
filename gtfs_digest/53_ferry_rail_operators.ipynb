{
 "cells": [
  {
   "cell_type": "markdown",
   "id": "e4334b85-9c5c-4d45-9dd7-b27ed6c19774",
   "metadata": {},
   "source": [
    "# Research Request - GTFS Digest: Add Rail and Ferry Operators. #1386\n",
    "\n",
    "Tiffany's comment:\n",
    "If it's just a couple of rail, (Amtrak, Metrolink) and a handful of ferry operators, it's worth digging into the why they dropped off, and start by looking for their rows in the 4 schedule tables: trips, shapes, stops, stop_times, and then look for it in a vp table.\n",
    "\n",
    "* I think the ferry operators and Metrolink are already associated to a district. Even Amtrak might be? But if Amtrak isn't, you can create a separate \"district = Amtrak\" the merged df so it always has a tab for itself. Amtrak plots for the entire country!\n",
    "* District 4: San Francisco Bay Area Rapid Transit (BART), City and County of San Francisco (Muni)\n",
    "* District 7: Los Angeles County Metropolitan Transportation Authority (LA Metro)\n",
    "* District 11: San Diego Metropolitan Transit System\n",
    "\n",
    "Amanda\n",
    "* All the ferry operators are gone. \n",
    "* Amtrak is in District 3 but it has schedule_only data, which isn't true? \n",
    "\n",
    "Other operators (thanks Meta.AI)\n",
    "* Strikethroughs = these operators are already in our `schd_vp_df2`\n",
    "Rail Services\n",
    "\n",
    "    <s>Amtrak California: Offers intercity rail services throughout the state</s>\n",
    "    \n",
    "    <s>BART (Bay Area Rapid Transit): Provides rail services in the San Francisco Bay Area</s>\n",
    "    \n",
    "    Caltrain: Offers commuter rail services in the San Francisco Bay Area ¹\n",
    "    \n",
    "    LA Metro Rail: Provides rail services in Los Angeles County ¹ **There's Los Angeles County Metropolitan Transportation Authority** \n",
    "    \n",
    "    Metrolink: Offers commuter rail services in Southern California ¹ **Would this be Southern California Regional Rail Authority?**\n",
    "    \n",
    "    San Diego Trolley: Provides light rail services in San Diego ¹ **Is this part of San Diego Metropolitan Transit System?**\n",
    "    \n",
    "    San Joaquin Regional Rail Commission (ACE): Offers commuter rail services in the San Joaquin Valley ¹ \n",
    "    \n",
    "    <s>SMART (Sonoma-Marin Area Rail Transit): Provides commuter rail services in Sonoma and Marin counties ¹</s>\n",
    "    \n",
    "    <s>VTA (Santa Clara Valley Transportation Authority): Offers light rail services in Santa Clara County ¹</s>\n",
    "    \n",
    "Here's a list of ferry operators in California:\n",
    "\n",
    "    San Francisco Bay Ferry: operates 10 ferry routes in the San Francisco Bay Area, with two seasonal routes ¹\n",
    "    Golden Gate Ferry: operates ferry services between Larkspur, Sausalito, Tiburon, and San Francisco ¹\n",
    "    Blue and Gold Fleet: connects San Francisco with Sausalito, Tiburon, Angel Island, Oakland, Alameda, and Vallejo ²\n",
    "    Balboa Island Ferry: provides daily ferry service between the Balboa Peninsula in Newport Beach and Balboa Island ¹\n",
    "    Tideline Marine Group: operates commuter ferry service between Berkeley and San Francisco ¹\n",
    "    Caltrans: operates the J-Mack Ferry, a cable ferry service between Ryde and Ryer Island near Sacramento ¹\n",
    "    California Department of Transportation: operates the Howard Landing Ferry on the California Delta ²"
   ]
  },
  {
   "cell_type": "code",
   "execution_count": 1,
   "id": "3f18908d-10d0-4a49-b085-eec4ba0955ba",
   "metadata": {},
   "outputs": [],
   "source": [
    "import _section1_utils as section1\n",
    "import _section2_utils as section2\n",
    "import geopandas as gpd\n",
    "import merge_data\n",
    "import merge_operator_data\n",
    "import numpy as np\n",
    "import pandas as pd\n",
    "from segment_speed_utils import gtfs_schedule_wrangling, helpers\n",
    "from segment_speed_utils.project_vars import COMPILED_CACHED_VIEWS, PROJECT_CRS\n",
    "from shared_utils import catalog_utils, portfolio_utils, rt_dates\n",
    "from update_vars import GTFS_DATA_DICT, RT_SCHED_GCS, SCHED_GCS, SEGMENT_GCS"
   ]
  },
  {
   "cell_type": "code",
   "execution_count": 2,
   "id": "62d180d8-c968-4f42-9aa5-c6aabda1766b",
   "metadata": {
    "tags": []
   },
   "outputs": [],
   "source": [
    "pd.options.display.max_columns = 100\n",
    "pd.options.display.float_format = \"{:.2f}\".format\n",
    "pd.set_option(\"display.max_rows\", None)\n",
    "pd.set_option(\"display.max_colwidth\", None)"
   ]
  },
  {
   "cell_type": "code",
   "execution_count": 3,
   "id": "e023d10e-0bd7-4961-b8e3-ee8dca6f5a8a",
   "metadata": {
    "tags": []
   },
   "outputs": [],
   "source": [
    "analysis_date_list = [rt_dates.DATES[\"feb2025\"]]"
   ]
  },
  {
   "cell_type": "code",
   "execution_count": 4,
   "id": "2f2ac26b-3a34-49be-a611-fc736bd04a2d",
   "metadata": {
    "tags": []
   },
   "outputs": [
    {
     "data": {
      "text/plain": [
       "list"
      ]
     },
     "execution_count": 4,
     "metadata": {},
     "output_type": "execute_result"
    }
   ],
   "source": [
    "type(analysis_date_list)"
   ]
  },
  {
   "cell_type": "code",
   "execution_count": 5,
   "id": "f2a12738-ee3f-4d7d-b831-19ada34347e3",
   "metadata": {
    "tags": []
   },
   "outputs": [],
   "source": [
    "analysis_date = rt_dates.DATES[\"feb2025\"]"
   ]
  },
  {
   "cell_type": "markdown",
   "id": "bce8298a-0cf3-4eac-b10d-c673ba207d73",
   "metadata": {},
   "source": [
    "## Look at operators in `digest/schedule_vp_metrics` without any filters to see if ferry and rail operators are in here.\n",
    "* Ferry operators except Bay Area Water Emergency Services (which isn't even a ferry?) aren't here."
   ]
  },
  {
   "cell_type": "code",
   "execution_count": 6,
   "id": "83df0e4b-446d-4a48-8899-8c434a0a8321",
   "metadata": {
    "tags": []
   },
   "outputs": [],
   "source": [
    "schd_vp_url = f\"{GTFS_DATA_DICT.digest_tables.dir}{GTFS_DATA_DICT.digest_tables.route_schedule_vp}.parquet\""
   ]
  },
  {
   "cell_type": "code",
   "execution_count": 7,
   "id": "975df07c-09ae-44cb-9e9a-b3791d4d7efd",
   "metadata": {
    "tags": []
   },
   "outputs": [
    {
     "data": {
      "text/plain": [
       "'digest/schedule_vp_metrics'"
      ]
     },
     "execution_count": 7,
     "metadata": {},
     "output_type": "execute_result"
    }
   ],
   "source": [
    "GTFS_DATA_DICT.digest_tables.route_schedule_vp"
   ]
  },
  {
   "cell_type": "code",
   "execution_count": 8,
   "id": "5426db9a-b949-44ef-a05a-dd3887ee91ed",
   "metadata": {
    "tags": []
   },
   "outputs": [],
   "source": [
    "schd_vp_df = pd.read_parquet(\n",
    "    schd_vp_url,\n",
    "    columns=[\n",
    "        \"schedule_gtfs_dataset_key\",\n",
    "        \"caltrans_district\",\n",
    "        \"organization_name\",\n",
    "        \"name\",\n",
    "        \"sched_rt_category\",\n",
    "        \"service_date\",\n",
    "    ],\n",
    ")"
   ]
  },
  {
   "cell_type": "code",
   "execution_count": 9,
   "id": "355afbcf-b156-4655-87f8-3c7f38fff66d",
   "metadata": {
    "tags": []
   },
   "outputs": [],
   "source": [
    "# Filter for Jan and Feb\n",
    "schd_vp_df2 = schd_vp_df.loc[\n",
    "    (schd_vp_df.service_date == \"2025-01-15\")\n",
    "    | (schd_vp_df.service_date == \"2024-12-11\")\n",
    "]"
   ]
  },
  {
   "cell_type": "code",
   "execution_count": 10,
   "id": "807342c6-a31e-40ff-bc60-1eec7f0d2dc9",
   "metadata": {
    "scrolled": true,
    "tags": []
   },
   "outputs": [],
   "source": [
    "# Drop duplicates\n",
    "schd_vp_df3 = (\n",
    "    schd_vp_df2[\n",
    "        [\"organization_name\", \"service_date\", \"sched_rt_category\", \"caltrans_district\"]\n",
    "    ]\n",
    "    .drop_duplicates(subset=[\"organization_name\"])\n",
    "    .sort_values(by=[\"organization_name\"])\n",
    ")"
   ]
  },
  {
   "cell_type": "code",
   "execution_count": 11,
   "id": "2e18f1e7-158a-456f-8f43-322d9bbac21a",
   "metadata": {
    "tags": []
   },
   "outputs": [
    {
     "data": {
      "text/plain": [
       "schedule_and_vp    102\n",
       "schedule_only       89\n",
       "vp_only              6\n",
       "Name: sched_rt_category, dtype: int64"
      ]
     },
     "execution_count": 11,
     "metadata": {},
     "output_type": "execute_result"
    }
   ],
   "source": [
    "schd_vp_df3.sched_rt_category.value_counts()"
   ]
  },
  {
   "cell_type": "markdown",
   "id": "a80616f0-6bf5-4c83-9477-70f61dde1577",
   "metadata": {},
   "source": [
    "### Southern California Regional Rail Authority is vehicle positions only, sort of strange."
   ]
  },
  {
   "cell_type": "code",
   "execution_count": 12,
   "id": "cfa4ee54-b3a6-4745-9218-51be8d9b12ed",
   "metadata": {
    "tags": []
   },
   "outputs": [
    {
     "data": {
      "text/html": [
       "<div>\n",
       "<style scoped>\n",
       "    .dataframe tbody tr th:only-of-type {\n",
       "        vertical-align: middle;\n",
       "    }\n",
       "\n",
       "    .dataframe tbody tr th {\n",
       "        vertical-align: top;\n",
       "    }\n",
       "\n",
       "    .dataframe thead th {\n",
       "        text-align: right;\n",
       "    }\n",
       "</style>\n",
       "<table border=\"1\" class=\"dataframe\">\n",
       "  <thead>\n",
       "    <tr style=\"text-align: right;\">\n",
       "      <th></th>\n",
       "      <th>organization_name</th>\n",
       "      <th>service_date</th>\n",
       "      <th>sched_rt_category</th>\n",
       "      <th>caltrans_district</th>\n",
       "    </tr>\n",
       "  </thead>\n",
       "  <tbody>\n",
       "    <tr>\n",
       "      <th>259484</th>\n",
       "      <td>San Joaquin Regional Rail Commission</td>\n",
       "      <td>2024-12-11</td>\n",
       "      <td>schedule_and_vp</td>\n",
       "      <td>10 - Stockton</td>\n",
       "    </tr>\n",
       "    <tr>\n",
       "      <th>11331</th>\n",
       "      <td>Sonoma-Marin Area Rail Transit District</td>\n",
       "      <td>2024-12-11</td>\n",
       "      <td>schedule_and_vp</td>\n",
       "      <td>04 - Oakland</td>\n",
       "    </tr>\n",
       "    <tr>\n",
       "      <th>338245</th>\n",
       "      <td>Southern California Regional Rail Authority</td>\n",
       "      <td>2024-12-11</td>\n",
       "      <td>vp_only</td>\n",
       "      <td>07 - Los Angeles</td>\n",
       "    </tr>\n",
       "  </tbody>\n",
       "</table>\n",
       "</div>"
      ],
      "text/plain": [
       "                                  organization_name service_date  \\\n",
       "259484         San Joaquin Regional Rail Commission   2024-12-11   \n",
       "11331       Sonoma-Marin Area Rail Transit District   2024-12-11   \n",
       "338245  Southern California Regional Rail Authority   2024-12-11   \n",
       "\n",
       "       sched_rt_category caltrans_district  \n",
       "259484   schedule_and_vp     10 - Stockton  \n",
       "11331    schedule_and_vp      04 - Oakland  \n",
       "338245           vp_only  07 - Los Angeles  "
      ]
     },
     "execution_count": 12,
     "metadata": {},
     "output_type": "execute_result"
    }
   ],
   "source": [
    "schd_vp_df3.loc[schd_vp_df3.organization_name.str.contains(\"Rail\")]"
   ]
  },
  {
   "cell_type": "code",
   "execution_count": 13,
   "id": "f36779e8-8c84-4cde-851e-0df8d82fe594",
   "metadata": {
    "tags": []
   },
   "outputs": [
    {
     "data": {
      "text/html": [
       "<div>\n",
       "<style scoped>\n",
       "    .dataframe tbody tr th:only-of-type {\n",
       "        vertical-align: middle;\n",
       "    }\n",
       "\n",
       "    .dataframe tbody tr th {\n",
       "        vertical-align: top;\n",
       "    }\n",
       "\n",
       "    .dataframe thead th {\n",
       "        text-align: right;\n",
       "    }\n",
       "</style>\n",
       "<table border=\"1\" class=\"dataframe\">\n",
       "  <thead>\n",
       "    <tr style=\"text-align: right;\">\n",
       "      <th></th>\n",
       "      <th>organization_name</th>\n",
       "      <th>service_date</th>\n",
       "      <th>sched_rt_category</th>\n",
       "      <th>caltrans_district</th>\n",
       "    </tr>\n",
       "  </thead>\n",
       "  <tbody>\n",
       "    <tr>\n",
       "      <th>334697</th>\n",
       "      <td>San Francisco Bay Area Water Emergency Transit Authority</td>\n",
       "      <td>2024-12-11</td>\n",
       "      <td>vp_only</td>\n",
       "      <td>04 - Oakland</td>\n",
       "    </tr>\n",
       "  </tbody>\n",
       "</table>\n",
       "</div>"
      ],
      "text/plain": [
       "                                               organization_name service_date  \\\n",
       "334697  San Francisco Bay Area Water Emergency Transit Authority   2024-12-11   \n",
       "\n",
       "       sched_rt_category caltrans_district  \n",
       "334697           vp_only      04 - Oakland  "
      ]
     },
     "execution_count": 13,
     "metadata": {},
     "output_type": "execute_result"
    }
   ],
   "source": [
    "schd_vp_df3.loc[schd_vp_df3.organization_name.str.contains(\"Water\")]"
   ]
  },
  {
   "cell_type": "code",
   "execution_count": 14,
   "id": "3742905a-8dc5-4a1c-bc39-6d2c817dbe6b",
   "metadata": {
    "tags": []
   },
   "outputs": [
    {
     "data": {
      "text/html": [
       "<div>\n",
       "<style scoped>\n",
       "    .dataframe tbody tr th:only-of-type {\n",
       "        vertical-align: middle;\n",
       "    }\n",
       "\n",
       "    .dataframe tbody tr th {\n",
       "        vertical-align: top;\n",
       "    }\n",
       "\n",
       "    .dataframe thead th {\n",
       "        text-align: right;\n",
       "    }\n",
       "</style>\n",
       "<table border=\"1\" class=\"dataframe\">\n",
       "  <thead>\n",
       "    <tr style=\"text-align: right;\">\n",
       "      <th></th>\n",
       "      <th>organization_name</th>\n",
       "      <th>service_date</th>\n",
       "      <th>sched_rt_category</th>\n",
       "      <th>caltrans_district</th>\n",
       "    </tr>\n",
       "  </thead>\n",
       "  <tbody>\n",
       "    <tr>\n",
       "      <th>4127</th>\n",
       "      <td>Los Angeles County Metropolitan Transportation Authority</td>\n",
       "      <td>2024-12-11</td>\n",
       "      <td>schedule_and_vp</td>\n",
       "      <td>07 - Los Angeles</td>\n",
       "    </tr>\n",
       "    <tr>\n",
       "      <th>202479</th>\n",
       "      <td>San Diego Metropolitan Transit System</td>\n",
       "      <td>2024-12-11</td>\n",
       "      <td>schedule_and_vp</td>\n",
       "      <td>11 - San Diego</td>\n",
       "    </tr>\n",
       "    <tr>\n",
       "      <th>69932</th>\n",
       "      <td>Santa Barbara Metropolitan Transit District</td>\n",
       "      <td>2024-12-11</td>\n",
       "      <td>schedule_and_vp</td>\n",
       "      <td>05 - San Luis Obispo</td>\n",
       "    </tr>\n",
       "    <tr>\n",
       "      <th>127086</th>\n",
       "      <td>Santa Cruz Metropolitan Transit District</td>\n",
       "      <td>2024-12-11</td>\n",
       "      <td>schedule_and_vp</td>\n",
       "      <td>05 - San Luis Obispo</td>\n",
       "    </tr>\n",
       "  </tbody>\n",
       "</table>\n",
       "</div>"
      ],
      "text/plain": [
       "                                               organization_name service_date  \\\n",
       "4127    Los Angeles County Metropolitan Transportation Authority   2024-12-11   \n",
       "202479                     San Diego Metropolitan Transit System   2024-12-11   \n",
       "69932                Santa Barbara Metropolitan Transit District   2024-12-11   \n",
       "127086                  Santa Cruz Metropolitan Transit District   2024-12-11   \n",
       "\n",
       "       sched_rt_category     caltrans_district  \n",
       "4127     schedule_and_vp      07 - Los Angeles  \n",
       "202479   schedule_and_vp        11 - San Diego  \n",
       "69932    schedule_and_vp  05 - San Luis Obispo  \n",
       "127086   schedule_and_vp  05 - San Luis Obispo  "
      ]
     },
     "execution_count": 14,
     "metadata": {},
     "output_type": "execute_result"
    }
   ],
   "source": [
    "schd_vp_df3.loc[schd_vp_df3.organization_name.str.contains(\"Metropolitan\")]"
   ]
  },
  {
   "cell_type": "code",
   "execution_count": 15,
   "id": "9d950b6c-a656-423e-bc3e-4f1762818603",
   "metadata": {
    "tags": []
   },
   "outputs": [
    {
     "data": {
      "text/html": [
       "<div>\n",
       "<style scoped>\n",
       "    .dataframe tbody tr th:only-of-type {\n",
       "        vertical-align: middle;\n",
       "    }\n",
       "\n",
       "    .dataframe tbody tr th {\n",
       "        vertical-align: top;\n",
       "    }\n",
       "\n",
       "    .dataframe thead th {\n",
       "        text-align: right;\n",
       "    }\n",
       "</style>\n",
       "<table border=\"1\" class=\"dataframe\">\n",
       "  <thead>\n",
       "    <tr style=\"text-align: right;\">\n",
       "      <th></th>\n",
       "      <th>organization_name</th>\n",
       "      <th>service_date</th>\n",
       "      <th>sched_rt_category</th>\n",
       "      <th>caltrans_district</th>\n",
       "    </tr>\n",
       "  </thead>\n",
       "  <tbody>\n",
       "  </tbody>\n",
       "</table>\n",
       "</div>"
      ],
      "text/plain": [
       "Empty DataFrame\n",
       "Columns: [organization_name, service_date, sched_rt_category, caltrans_district]\n",
       "Index: []"
      ]
     },
     "execution_count": 15,
     "metadata": {},
     "output_type": "execute_result"
    }
   ],
   "source": [
    "schd_vp_df3.loc[schd_vp_df3.organization_name.str.contains(\"Fleet\")]"
   ]
  },
  {
   "cell_type": "code",
   "execution_count": 16,
   "id": "be2940ce-179e-41c8-b261-011c88ddc035",
   "metadata": {
    "tags": []
   },
   "outputs": [
    {
     "data": {
      "text/html": [
       "<div>\n",
       "<style scoped>\n",
       "    .dataframe tbody tr th:only-of-type {\n",
       "        vertical-align: middle;\n",
       "    }\n",
       "\n",
       "    .dataframe tbody tr th {\n",
       "        vertical-align: top;\n",
       "    }\n",
       "\n",
       "    .dataframe thead th {\n",
       "        text-align: right;\n",
       "    }\n",
       "</style>\n",
       "<table border=\"1\" class=\"dataframe\">\n",
       "  <thead>\n",
       "    <tr style=\"text-align: right;\">\n",
       "      <th></th>\n",
       "      <th>organization_name</th>\n",
       "      <th>service_date</th>\n",
       "      <th>sched_rt_category</th>\n",
       "      <th>caltrans_district</th>\n",
       "    </tr>\n",
       "  </thead>\n",
       "  <tbody>\n",
       "  </tbody>\n",
       "</table>\n",
       "</div>"
      ],
      "text/plain": [
       "Empty DataFrame\n",
       "Columns: [organization_name, service_date, sched_rt_category, caltrans_district]\n",
       "Index: []"
      ]
     },
     "execution_count": 16,
     "metadata": {},
     "output_type": "execute_result"
    }
   ],
   "source": [
    "schd_vp_df3.loc[schd_vp_df3.organization_name.str.contains(\"Ferry\")]"
   ]
  },
  {
   "cell_type": "code",
   "execution_count": 17,
   "id": "8c9d512e-04ad-416d-95a4-811cf68a6163",
   "metadata": {
    "tags": []
   },
   "outputs": [
    {
     "data": {
      "text/html": [
       "<div>\n",
       "<style scoped>\n",
       "    .dataframe tbody tr th:only-of-type {\n",
       "        vertical-align: middle;\n",
       "    }\n",
       "\n",
       "    .dataframe tbody tr th {\n",
       "        vertical-align: top;\n",
       "    }\n",
       "\n",
       "    .dataframe thead th {\n",
       "        text-align: right;\n",
       "    }\n",
       "</style>\n",
       "<table border=\"1\" class=\"dataframe\">\n",
       "  <thead>\n",
       "    <tr style=\"text-align: right;\">\n",
       "      <th></th>\n",
       "      <th>organization_name</th>\n",
       "      <th>service_date</th>\n",
       "      <th>sched_rt_category</th>\n",
       "      <th>caltrans_district</th>\n",
       "    </tr>\n",
       "  </thead>\n",
       "  <tbody>\n",
       "  </tbody>\n",
       "</table>\n",
       "</div>"
      ],
      "text/plain": [
       "Empty DataFrame\n",
       "Columns: [organization_name, service_date, sched_rt_category, caltrans_district]\n",
       "Index: []"
      ]
     },
     "execution_count": 17,
     "metadata": {},
     "output_type": "execute_result"
    }
   ],
   "source": [
    "schd_vp_df3.loc[schd_vp_df3.organization_name.str.contains(\"Fleet\")]"
   ]
  },
  {
   "cell_type": "markdown",
   "id": "7ea12bf3-c540-4b1f-a0b4-9936f12fa69f",
   "metadata": {},
   "source": [
    "### Look at how rail routes are recorded."
   ]
  },
  {
   "cell_type": "code",
   "execution_count": 18,
   "id": "5238795f-4124-4fe1-8fa5-e21bd06dd263",
   "metadata": {
    "tags": []
   },
   "outputs": [],
   "source": [
    "operators_to_keep = [\n",
    "    \"Amtrak\",\n",
    "    \"Los Angeles County Metropolitan Transportation Authority\",\n",
    "    \"San Diego Metropolitan Transit System\",\n",
    "    \"Capitol Corridor Joint Powers Authority\",\n",
    "    \"Southern California Regional Rail Authority\",\n",
    "    \"San Joaquin Regional Rail Commission\",\n",
    "    \"City and County of San Francisco\",\n",
    "    \"San Francisco Bay Area Water Emergency Transit Authority\",\n",
    "    \"Sonoma-Marin Area Rail Transit District\"\n",
    "]"
   ]
  },
  {
   "cell_type": "code",
   "execution_count": 19,
   "id": "ce941716-369c-4c5a-8c2d-64ec63ab5abb",
   "metadata": {
    "tags": []
   },
   "outputs": [],
   "source": [
    "rail_ops_only = pd.read_parquet(schd_vp_url)"
   ]
  },
  {
   "cell_type": "code",
   "execution_count": 20,
   "id": "9d15b513-9b1e-46ff-a8da-46f3ddac8c9f",
   "metadata": {
    "tags": []
   },
   "outputs": [],
   "source": [
    "rail_ops_only2 = rail_ops_only.loc[\n",
    "    rail_ops_only.organization_name.isin(operators_to_keep)\n",
    "]"
   ]
  },
  {
   "cell_type": "code",
   "execution_count": 21,
   "id": "1d9c5ed0-55a7-44d4-84a6-979ab970cc3a",
   "metadata": {
    "tags": []
   },
   "outputs": [
    {
     "data": {
      "text/plain": [
       "Los Angeles County Metropolitan Transportation Authority    16877\n",
       "San Diego Metropolitan Transit System                       13025\n",
       "City and County of San Francisco                             8531\n",
       "San Francisco Bay Area Water Emergency Transit Authority      898\n",
       "Southern California Regional Rail Authority                   542\n",
       "Capitol Corridor Joint Powers Authority                       240\n",
       "Sonoma-Marin Area Rail Transit District                       144\n",
       "San Joaquin Regional Rail Commission                          123\n",
       "Amtrak                                                         24\n",
       "Name: organization_name, dtype: int64"
      ]
     },
     "execution_count": 21,
     "metadata": {},
     "output_type": "execute_result"
    }
   ],
   "source": [
    "rail_ops_only2.organization_name.value_counts()"
   ]
  },
  {
   "cell_type": "code",
   "execution_count": 22,
   "id": "42f42810-2aa1-4b61-9d65-19e86a6c1346",
   "metadata": {
    "tags": []
   },
   "outputs": [],
   "source": [
    "sched_keys_to_keep = list(\n",
    "    rail_ops_only2.loc[\n",
    "        rail_ops_only2.organization_name.isin(operators_to_keep)\n",
    "    ].schedule_gtfs_dataset_key.unique()\n",
    ")"
   ]
  },
  {
   "cell_type": "markdown",
   "id": "b6116e17-521f-43d7-84ac-4cb7cf1eae49",
   "metadata": {},
   "source": [
    "### Bring in route typologies & merge everything together \n",
    "* There aren't any routes categorized as ferries in `route_typologies`"
   ]
  },
  {
   "cell_type": "code",
   "execution_count": 23,
   "id": "7485f8dd-5cd5-4ee2-82cb-34300908411c",
   "metadata": {
    "tags": []
   },
   "outputs": [],
   "source": [
    "EXPORT = GTFS_DATA_DICT.schedule_tables.route_typologies"
   ]
  },
  {
   "cell_type": "code",
   "execution_count": 24,
   "id": "72315fe5-b493-4e09-a780-fdd9692a30aa",
   "metadata": {
    "tags": []
   },
   "outputs": [],
   "source": [
    "route_typologies = pd.read_parquet(f\"{SCHED_GCS}{EXPORT}_{analysis_date}.parquet\")"
   ]
  },
  {
   "cell_type": "code",
   "execution_count": 25,
   "id": "a2c4eefa-c88d-4b96-be2c-9ff6366b172b",
   "metadata": {
    "tags": []
   },
   "outputs": [
    {
     "data": {
      "text/html": [
       "<div>\n",
       "<style scoped>\n",
       "    .dataframe tbody tr th:only-of-type {\n",
       "        vertical-align: middle;\n",
       "    }\n",
       "\n",
       "    .dataframe tbody tr th {\n",
       "        vertical-align: top;\n",
       "    }\n",
       "\n",
       "    .dataframe thead th {\n",
       "        text-align: right;\n",
       "    }\n",
       "</style>\n",
       "<table border=\"1\" class=\"dataframe\">\n",
       "  <thead>\n",
       "    <tr style=\"text-align: right;\">\n",
       "      <th></th>\n",
       "      <th>schedule_gtfs_dataset_key</th>\n",
       "      <th>direction_id</th>\n",
       "      <th>time_period</th>\n",
       "      <th>avg_scheduled_service_minutes</th>\n",
       "      <th>avg_stop_miles</th>\n",
       "      <th>n_scheduled_trips</th>\n",
       "      <th>frequency</th>\n",
       "      <th>is_express</th>\n",
       "      <th>is_rapid</th>\n",
       "      <th>is_rail</th>\n",
       "      <th>is_coverage</th>\n",
       "      <th>is_downtown_local</th>\n",
       "      <th>is_local</th>\n",
       "      <th>service_date</th>\n",
       "      <th>typology</th>\n",
       "      <th>minutes_atleast1_vp</th>\n",
       "      <th>minutes_atleast2_vp</th>\n",
       "      <th>total_rt_service_minutes</th>\n",
       "      <th>total_scheduled_service_minutes</th>\n",
       "      <th>total_vp</th>\n",
       "      <th>vp_in_shape</th>\n",
       "      <th>is_early</th>\n",
       "      <th>is_ontime</th>\n",
       "      <th>is_late</th>\n",
       "      <th>n_vp_trips</th>\n",
       "      <th>vp_per_minute</th>\n",
       "      <th>pct_in_shape</th>\n",
       "      <th>pct_rt_journey_atleast1_vp</th>\n",
       "      <th>pct_rt_journey_atleast2_vp</th>\n",
       "      <th>pct_sched_journey_atleast1_vp</th>\n",
       "      <th>pct_sched_journey_atleast2_vp</th>\n",
       "      <th>rt_sched_journey_ratio</th>\n",
       "      <th>avg_rt_service_minutes</th>\n",
       "      <th>sched_rt_category</th>\n",
       "      <th>speed_mph</th>\n",
       "      <th>route_long_name</th>\n",
       "      <th>route_short_name</th>\n",
       "      <th>route_combined_name</th>\n",
       "      <th>route_id</th>\n",
       "      <th>base64_url</th>\n",
       "      <th>organization_source_record_id</th>\n",
       "      <th>organization_name</th>\n",
       "      <th>caltrans_district</th>\n",
       "      <th>route_primary_direction</th>\n",
       "      <th>name</th>\n",
       "      <th>schedule_source_record_id</th>\n",
       "    </tr>\n",
       "  </thead>\n",
       "  <tbody>\n",
       "    <tr>\n",
       "      <th>4110</th>\n",
       "      <td>0666caf3ec1ecc96b74f4477ee4bc939</td>\n",
       "      <td>0.00</td>\n",
       "      <td>all_day</td>\n",
       "      <td>81.85</td>\n",
       "      <td>0.18</td>\n",
       "      <td>65</td>\n",
       "      <td>2.71</td>\n",
       "      <td>0.00</td>\n",
       "      <td>0.00</td>\n",
       "      <td>0.00</td>\n",
       "      <td>0.00</td>\n",
       "      <td>1.00</td>\n",
       "      <td>0.00</td>\n",
       "      <td>2024-05-22</td>\n",
       "      <td>downtown_local</td>\n",
       "      <td>6721</td>\n",
       "      <td>6615</td>\n",
       "      <td>9461.83</td>\n",
       "      <td>5320.00</td>\n",
       "      <td>19827</td>\n",
       "      <td>18501</td>\n",
       "      <td>1</td>\n",
       "      <td>3</td>\n",
       "      <td>61</td>\n",
       "      <td>65</td>\n",
       "      <td>2.10</td>\n",
       "      <td>0.93</td>\n",
       "      <td>0.71</td>\n",
       "      <td>0.70</td>\n",
       "      <td>1.00</td>\n",
       "      <td>1.00</td>\n",
       "      <td>1.78</td>\n",
       "      <td>145.57</td>\n",
       "      <td>schedule_and_vp</td>\n",
       "      <td>9.75</td>\n",
       "      <td>Metro Local Line</td>\n",
       "      <td>10/48</td>\n",
       "      <td>10/48 Metro Local Line</td>\n",
       "      <td>10</td>\n",
       "      <td>aHR0cHM6Ly9naXRsYWIuY29tL0xBQ01UQS9ndGZzX2J1cy9yYXcvbWFzdGVyL2d0ZnNfYnVzLnppcA==</td>\n",
       "      <td>recPnGkwdpnr8jmHB</td>\n",
       "      <td>Los Angeles County Metropolitan Transportation Authority</td>\n",
       "      <td>07 - Los Angeles</td>\n",
       "      <td>Southbound</td>\n",
       "      <td>LA Metro Bus Schedule</td>\n",
       "      <td>recX8JOPmBQM9aWLC</td>\n",
       "    </tr>\n",
       "  </tbody>\n",
       "</table>\n",
       "</div>"
      ],
      "text/plain": [
       "             schedule_gtfs_dataset_key  direction_id time_period  \\\n",
       "4110  0666caf3ec1ecc96b74f4477ee4bc939          0.00     all_day   \n",
       "\n",
       "      avg_scheduled_service_minutes  avg_stop_miles  n_scheduled_trips  \\\n",
       "4110                          81.85            0.18                 65   \n",
       "\n",
       "      frequency  is_express  is_rapid  is_rail  is_coverage  \\\n",
       "4110       2.71        0.00      0.00     0.00         0.00   \n",
       "\n",
       "      is_downtown_local  is_local service_date        typology  \\\n",
       "4110               1.00      0.00   2024-05-22  downtown_local   \n",
       "\n",
       "      minutes_atleast1_vp  minutes_atleast2_vp  total_rt_service_minutes  \\\n",
       "4110                 6721                 6615                   9461.83   \n",
       "\n",
       "      total_scheduled_service_minutes  total_vp  vp_in_shape  is_early  \\\n",
       "4110                          5320.00     19827        18501         1   \n",
       "\n",
       "      is_ontime  is_late  n_vp_trips  vp_per_minute  pct_in_shape  \\\n",
       "4110          3       61          65           2.10          0.93   \n",
       "\n",
       "      pct_rt_journey_atleast1_vp  pct_rt_journey_atleast2_vp  \\\n",
       "4110                        0.71                        0.70   \n",
       "\n",
       "      pct_sched_journey_atleast1_vp  pct_sched_journey_atleast2_vp  \\\n",
       "4110                           1.00                           1.00   \n",
       "\n",
       "      rt_sched_journey_ratio  avg_rt_service_minutes sched_rt_category  \\\n",
       "4110                    1.78                  145.57   schedule_and_vp   \n",
       "\n",
       "      speed_mph   route_long_name route_short_name     route_combined_name  \\\n",
       "4110       9.75  Metro Local Line            10/48  10/48 Metro Local Line   \n",
       "\n",
       "     route_id  \\\n",
       "4110       10   \n",
       "\n",
       "                                                                            base64_url  \\\n",
       "4110  aHR0cHM6Ly9naXRsYWIuY29tL0xBQ01UQS9ndGZzX2J1cy9yYXcvbWFzdGVyL2d0ZnNfYnVzLnppcA==   \n",
       "\n",
       "     organization_source_record_id  \\\n",
       "4110             recPnGkwdpnr8jmHB   \n",
       "\n",
       "                                             organization_name  \\\n",
       "4110  Los Angeles County Metropolitan Transportation Authority   \n",
       "\n",
       "     caltrans_district route_primary_direction                   name  \\\n",
       "4110  07 - Los Angeles              Southbound  LA Metro Bus Schedule   \n",
       "\n",
       "     schedule_source_record_id  \n",
       "4110         recX8JOPmBQM9aWLC  "
      ]
     },
     "execution_count": 25,
     "metadata": {},
     "output_type": "execute_result"
    }
   ],
   "source": [
    "rail_ops_only2.head(1)"
   ]
  },
  {
   "cell_type": "code",
   "execution_count": 26,
   "id": "533e8ef6-7f48-4401-9a7a-96c8b8b4987b",
   "metadata": {
    "tags": []
   },
   "outputs": [],
   "source": [
    "route_typologies2 = route_typologies[\n",
    "    [\n",
    "        \"route_type\",\n",
    "        \"route_id\",\n",
    "        \"schedule_gtfs_dataset_key\",\n",
    "    ]\n",
    "].drop_duplicates()"
   ]
  },
  {
   "cell_type": "code",
   "execution_count": 27,
   "id": "78740ee8-0d4d-45bf-9093-1629f34978ea",
   "metadata": {
    "tags": []
   },
   "outputs": [
    {
     "data": {
      "text/plain": [
       "array(['3', '2', '0', '1', '5'], dtype=object)"
      ]
     },
     "execution_count": 27,
     "metadata": {},
     "output_type": "execute_result"
    }
   ],
   "source": [
    "route_typologies2.route_type.unique()"
   ]
  },
  {
   "cell_type": "code",
   "execution_count": 28,
   "id": "66b1ca14-8dfc-4bef-ae3a-0165dda81d07",
   "metadata": {
    "tags": []
   },
   "outputs": [
    {
     "data": {
      "text/html": [
       "<div>\n",
       "<style scoped>\n",
       "    .dataframe tbody tr th:only-of-type {\n",
       "        vertical-align: middle;\n",
       "    }\n",
       "\n",
       "    .dataframe tbody tr th {\n",
       "        vertical-align: top;\n",
       "    }\n",
       "\n",
       "    .dataframe thead th {\n",
       "        text-align: right;\n",
       "    }\n",
       "</style>\n",
       "<table border=\"1\" class=\"dataframe\">\n",
       "  <thead>\n",
       "    <tr style=\"text-align: right;\">\n",
       "      <th></th>\n",
       "      <th>route_type</th>\n",
       "      <th>route_id</th>\n",
       "      <th>schedule_gtfs_dataset_key</th>\n",
       "    </tr>\n",
       "  </thead>\n",
       "  <tbody>\n",
       "  </tbody>\n",
       "</table>\n",
       "</div>"
      ],
      "text/plain": [
       "Empty DataFrame\n",
       "Columns: [route_type, route_id, schedule_gtfs_dataset_key]\n",
       "Index: []"
      ]
     },
     "execution_count": 28,
     "metadata": {},
     "output_type": "execute_result"
    }
   ],
   "source": [
    "route_typologies2.loc[route_typologies2.route_type == \"4\"]"
   ]
  },
  {
   "cell_type": "code",
   "execution_count": 29,
   "id": "6c53a4e0-b538-4503-9e1c-cbd46ac1a847",
   "metadata": {
    "tags": []
   },
   "outputs": [],
   "source": [
    "m1 = pd.merge(\n",
    "    rail_ops_only2,\n",
    "    route_typologies2,\n",
    "    on=[\"schedule_gtfs_dataset_key\", \"route_id\"],\n",
    "    how=\"left\",\n",
    "    indicator=True,\n",
    ")"
   ]
  },
  {
   "cell_type": "code",
   "execution_count": 30,
   "id": "8417b0ef-49c1-4152-a616-b40eccd74d49",
   "metadata": {
    "tags": []
   },
   "outputs": [
    {
     "data": {
      "text/plain": [
       "left_only     21852\n",
       "both          18552\n",
       "right_only        0\n",
       "Name: _merge, dtype: int64"
      ]
     },
     "execution_count": 30,
     "metadata": {},
     "output_type": "execute_result"
    }
   ],
   "source": [
    "m1._merge.value_counts()"
   ]
  },
  {
   "cell_type": "code",
   "execution_count": 31,
   "id": "50df93c8-187e-4a66-ab82-7359bb863d45",
   "metadata": {
    "tags": []
   },
   "outputs": [
    {
     "data": {
      "text/plain": [
       "array([nan, '2', '0', '1', '3', '5'], dtype=object)"
      ]
     },
     "execution_count": 31,
     "metadata": {},
     "output_type": "execute_result"
    }
   ],
   "source": [
    "m1.route_type.unique()"
   ]
  },
  {
   "cell_type": "code",
   "execution_count": 32,
   "id": "b3602128-b144-462c-b40c-6a9364c29c94",
   "metadata": {
    "scrolled": true,
    "tags": []
   },
   "outputs": [],
   "source": [
    "rail_only = m1.loc[(m1.is_rail == 1) | m1.route_type.isin([\"1\", \"2\", \"12\"])]"
   ]
  },
  {
   "cell_type": "code",
   "execution_count": 33,
   "id": "cda9b8c3-6df0-40fa-a813-5496d344126b",
   "metadata": {
    "tags": []
   },
   "outputs": [
    {
     "data": {
      "text/plain": [
       "Index(['schedule_gtfs_dataset_key', 'direction_id', 'time_period',\n",
       "       'avg_scheduled_service_minutes', 'avg_stop_miles', 'n_scheduled_trips',\n",
       "       'frequency', 'is_express', 'is_rapid', 'is_rail', 'is_coverage',\n",
       "       'is_downtown_local', 'is_local', 'service_date', 'typology',\n",
       "       'minutes_atleast1_vp', 'minutes_atleast2_vp',\n",
       "       'total_rt_service_minutes', 'total_scheduled_service_minutes',\n",
       "       'total_vp', 'vp_in_shape', 'is_early', 'is_ontime', 'is_late',\n",
       "       'n_vp_trips', 'vp_per_minute', 'pct_in_shape',\n",
       "       'pct_rt_journey_atleast1_vp', 'pct_rt_journey_atleast2_vp',\n",
       "       'pct_sched_journey_atleast1_vp', 'pct_sched_journey_atleast2_vp',\n",
       "       'rt_sched_journey_ratio', 'avg_rt_service_minutes', 'sched_rt_category',\n",
       "       'speed_mph', 'route_long_name', 'route_short_name',\n",
       "       'route_combined_name', 'route_id', 'base64_url',\n",
       "       'organization_source_record_id', 'organization_name',\n",
       "       'caltrans_district', 'route_primary_direction', 'name',\n",
       "       'schedule_source_record_id', 'route_type', '_merge'],\n",
       "      dtype='object')"
      ]
     },
     "execution_count": 33,
     "metadata": {},
     "output_type": "execute_result"
    }
   ],
   "source": [
    "rail_only.columns"
   ]
  },
  {
   "cell_type": "code",
   "execution_count": 34,
   "id": "787a1b03-9eff-45da-9d36-4b61c30c840a",
   "metadata": {
    "tags": []
   },
   "outputs": [],
   "source": [
    "rail_only2 = rail_only.loc[rail_only.service_date == '2025-02-12T00:00:00.000000000']"
   ]
  },
  {
   "cell_type": "code",
   "execution_count": 35,
   "id": "4f5222ce-2b09-405d-8243-8934ee854edf",
   "metadata": {},
   "outputs": [
    {
     "data": {
      "text/plain": [
       "City and County of San Francisco                            58\n",
       "Los Angeles County Metropolitan Transportation Authority    36\n",
       "Sonoma-Marin Area Rail Transit District                      6\n",
       "Amtrak                                                       6\n",
       "San Joaquin Regional Rail Commission                         6\n",
       "Capitol Corridor Joint Powers Authority                      6\n",
       "Name: organization_name, dtype: int64"
      ]
     },
     "execution_count": 35,
     "metadata": {},
     "output_type": "execute_result"
    }
   ],
   "source": [
    "rail_only2.organization_name.value_counts()"
   ]
  },
  {
   "cell_type": "markdown",
   "id": "b3bdc286-01b0-43d1-a8bf-8c5a43e65258",
   "metadata": {},
   "source": [
    "### Why aren't rail routes showing for operators that certifably do have rail such as SF Muni and Amtrak when you do `is_rail == 0`?"
   ]
  },
  {
   "cell_type": "code",
   "execution_count": 36,
   "id": "4fc028b5-9b0b-4c16-8530-86d880cf3f18",
   "metadata": {
    "tags": []
   },
   "outputs": [
    {
     "data": {
      "text/plain": [
       "schedule_and_vp    106\n",
       "schedule_only        6\n",
       "vp_only              6\n",
       "Name: sched_rt_category, dtype: int64"
      ]
     },
     "execution_count": 36,
     "metadata": {},
     "output_type": "execute_result"
    }
   ],
   "source": [
    "rail_only2.sched_rt_category.value_counts()"
   ]
  },
  {
   "cell_type": "code",
   "execution_count": 37,
   "id": "851f0859-0351-4a04-bb5d-4851b15ed2a5",
   "metadata": {
    "tags": []
   },
   "outputs": [],
   "source": [
    "# https://gtfs.org/documentation/schedule/reference/#\n",
    "route_type_crosswalk = {\n",
    "    \"route_type\": [\"0\", \"1\", \"2\", \"3\", \"4\", \"5\", \"6\", \"7\", \"11\", \"12\"],\n",
    "    \"route_type_str\": [\n",
    "        \"Tram, Streetcar, Light rail\",\n",
    "        \"Subway, Metro\",\n",
    "        \"Rail\",\n",
    "        \"Bus\",\n",
    "        \"Ferry.\",\n",
    "        \"Cable tram.\",\n",
    "        \"Aerial lift, suspended cable car (e.g., gondola lift, aerial tramway).\",\n",
    "        \"Funicular.\",\n",
    "        \"Trolleybus.\",\n",
    "        \"Monorail.\",\n",
    "    ],\n",
    "}"
   ]
  },
  {
   "cell_type": "code",
   "execution_count": 38,
   "id": "f5e22e5f-b737-48c2-a7f8-98934dce5443",
   "metadata": {
    "tags": []
   },
   "outputs": [],
   "source": [
    "route_type_crosswalk_df = pd.DataFrame(route_type_crosswalk)"
   ]
  },
  {
   "cell_type": "code",
   "execution_count": 39,
   "id": "040684f3-e355-4571-974d-e3d72ac2b870",
   "metadata": {
    "tags": []
   },
   "outputs": [
    {
     "data": {
      "text/html": [
       "<div>\n",
       "<style scoped>\n",
       "    .dataframe tbody tr th:only-of-type {\n",
       "        vertical-align: middle;\n",
       "    }\n",
       "\n",
       "    .dataframe tbody tr th {\n",
       "        vertical-align: top;\n",
       "    }\n",
       "\n",
       "    .dataframe thead th {\n",
       "        text-align: right;\n",
       "    }\n",
       "</style>\n",
       "<table border=\"1\" class=\"dataframe\">\n",
       "  <thead>\n",
       "    <tr style=\"text-align: right;\">\n",
       "      <th></th>\n",
       "      <th>route_type</th>\n",
       "      <th>route_type_str</th>\n",
       "    </tr>\n",
       "  </thead>\n",
       "  <tbody>\n",
       "    <tr>\n",
       "      <th>0</th>\n",
       "      <td>0</td>\n",
       "      <td>Tram, Streetcar, Light rail</td>\n",
       "    </tr>\n",
       "    <tr>\n",
       "      <th>1</th>\n",
       "      <td>1</td>\n",
       "      <td>Subway, Metro</td>\n",
       "    </tr>\n",
       "    <tr>\n",
       "      <th>2</th>\n",
       "      <td>2</td>\n",
       "      <td>Rail</td>\n",
       "    </tr>\n",
       "    <tr>\n",
       "      <th>3</th>\n",
       "      <td>3</td>\n",
       "      <td>Bus</td>\n",
       "    </tr>\n",
       "    <tr>\n",
       "      <th>4</th>\n",
       "      <td>4</td>\n",
       "      <td>Ferry.</td>\n",
       "    </tr>\n",
       "    <tr>\n",
       "      <th>5</th>\n",
       "      <td>5</td>\n",
       "      <td>Cable tram.</td>\n",
       "    </tr>\n",
       "    <tr>\n",
       "      <th>6</th>\n",
       "      <td>6</td>\n",
       "      <td>Aerial lift, suspended cable car (e.g., gondola lift, aerial tramway).</td>\n",
       "    </tr>\n",
       "    <tr>\n",
       "      <th>7</th>\n",
       "      <td>7</td>\n",
       "      <td>Funicular.</td>\n",
       "    </tr>\n",
       "    <tr>\n",
       "      <th>8</th>\n",
       "      <td>11</td>\n",
       "      <td>Trolleybus.</td>\n",
       "    </tr>\n",
       "    <tr>\n",
       "      <th>9</th>\n",
       "      <td>12</td>\n",
       "      <td>Monorail.</td>\n",
       "    </tr>\n",
       "  </tbody>\n",
       "</table>\n",
       "</div>"
      ],
      "text/plain": [
       "  route_type  \\\n",
       "0          0   \n",
       "1          1   \n",
       "2          2   \n",
       "3          3   \n",
       "4          4   \n",
       "5          5   \n",
       "6          6   \n",
       "7          7   \n",
       "8         11   \n",
       "9         12   \n",
       "\n",
       "                                                           route_type_str  \n",
       "0                                             Tram, Streetcar, Light rail  \n",
       "1                                                           Subway, Metro  \n",
       "2                                                                    Rail  \n",
       "3                                                                     Bus  \n",
       "4                                                                  Ferry.  \n",
       "5                                                             Cable tram.  \n",
       "6  Aerial lift, suspended cable car (e.g., gondola lift, aerial tramway).  \n",
       "7                                                              Funicular.  \n",
       "8                                                             Trolleybus.  \n",
       "9                                                               Monorail.  "
      ]
     },
     "execution_count": 39,
     "metadata": {},
     "output_type": "execute_result"
    }
   ],
   "source": [
    "route_type_crosswalk_df"
   ]
  },
  {
   "cell_type": "code",
   "execution_count": 40,
   "id": "8471b234-caf9-49ec-940b-15433277f708",
   "metadata": {
    "tags": []
   },
   "outputs": [],
   "source": [
    "agg1 = rail_only2.groupby(\n",
    "    [\n",
    "        \"organization_name\",\n",
    "        \"sched_rt_category\",\n",
    "        \"route_type\"\n",
    "    ]\n",
    ").agg(\n",
    "    {   \"route_id\":\"count\",\n",
    "        \"is_rail\": \"sum\",\n",
    "        \n",
    "    }\n",
    ").reset_index()"
   ]
  },
  {
   "cell_type": "code",
   "execution_count": 41,
   "id": "4878d8f5-fef0-4cf8-b994-fb18745b2223",
   "metadata": {
    "scrolled": true,
    "tags": []
   },
   "outputs": [],
   "source": [
    "agg1 = agg1.sort_values(by = ['organization_name',\"route_id\"], ascending = [True, False])"
   ]
  },
  {
   "cell_type": "markdown",
   "id": "0194f981-bbd0-4cc0-aca6-7b65e1055c4d",
   "metadata": {},
   "source": [
    "### Sonoma disappeared completely?"
   ]
  },
  {
   "cell_type": "code",
   "execution_count": 42,
   "id": "e930c6b0-ef24-4182-96aa-559c6e77b0b4",
   "metadata": {
    "tags": []
   },
   "outputs": [
    {
     "data": {
      "text/html": [
       "<div>\n",
       "<style scoped>\n",
       "    .dataframe tbody tr th:only-of-type {\n",
       "        vertical-align: middle;\n",
       "    }\n",
       "\n",
       "    .dataframe tbody tr th {\n",
       "        vertical-align: top;\n",
       "    }\n",
       "\n",
       "    .dataframe thead th {\n",
       "        text-align: right;\n",
       "    }\n",
       "</style>\n",
       "<table border=\"1\" class=\"dataframe\">\n",
       "  <thead>\n",
       "    <tr style=\"text-align: right;\">\n",
       "      <th></th>\n",
       "      <th>organization_name</th>\n",
       "      <th>sched_rt_category</th>\n",
       "      <th>route_type</th>\n",
       "      <th>route_id</th>\n",
       "      <th>is_rail</th>\n",
       "    </tr>\n",
       "  </thead>\n",
       "  <tbody>\n",
       "    <tr>\n",
       "      <th>2</th>\n",
       "      <td>Amtrak</td>\n",
       "      <td>schedule_only</td>\n",
       "      <td>2</td>\n",
       "      <td>6</td>\n",
       "      <td>0.00</td>\n",
       "    </tr>\n",
       "    <tr>\n",
       "      <th>18</th>\n",
       "      <td>Capitol Corridor Joint Powers Authority</td>\n",
       "      <td>vp_only</td>\n",
       "      <td>2</td>\n",
       "      <td>6</td>\n",
       "      <td>0.00</td>\n",
       "    </tr>\n",
       "    <tr>\n",
       "      <th>32</th>\n",
       "      <td>City and County of San Francisco</td>\n",
       "      <td>schedule_and_vp</td>\n",
       "      <td>0</td>\n",
       "      <td>40</td>\n",
       "      <td>40.00</td>\n",
       "    </tr>\n",
       "    <tr>\n",
       "      <th>35</th>\n",
       "      <td>City and County of San Francisco</td>\n",
       "      <td>schedule_and_vp</td>\n",
       "      <td>5</td>\n",
       "      <td>18</td>\n",
       "      <td>18.00</td>\n",
       "    </tr>\n",
       "    <tr>\n",
       "      <th>44</th>\n",
       "      <td>Los Angeles County Metropolitan Transportation Authority</td>\n",
       "      <td>schedule_and_vp</td>\n",
       "      <td>0</td>\n",
       "      <td>24</td>\n",
       "      <td>24.00</td>\n",
       "    </tr>\n",
       "    <tr>\n",
       "      <th>45</th>\n",
       "      <td>Los Angeles County Metropolitan Transportation Authority</td>\n",
       "      <td>schedule_and_vp</td>\n",
       "      <td>1</td>\n",
       "      <td>12</td>\n",
       "      <td>12.00</td>\n",
       "    </tr>\n",
       "    <tr>\n",
       "      <th>58</th>\n",
       "      <td>San Joaquin Regional Rail Commission</td>\n",
       "      <td>schedule_and_vp</td>\n",
       "      <td>2</td>\n",
       "      <td>6</td>\n",
       "      <td>0.00</td>\n",
       "    </tr>\n",
       "    <tr>\n",
       "      <th>70</th>\n",
       "      <td>Sonoma-Marin Area Rail Transit District</td>\n",
       "      <td>schedule_and_vp</td>\n",
       "      <td>2</td>\n",
       "      <td>6</td>\n",
       "      <td>0.00</td>\n",
       "    </tr>\n",
       "  </tbody>\n",
       "</table>\n",
       "</div>"
      ],
      "text/plain": [
       "                                           organization_name  \\\n",
       "2                                                     Amtrak   \n",
       "18                   Capitol Corridor Joint Powers Authority   \n",
       "32                          City and County of San Francisco   \n",
       "35                          City and County of San Francisco   \n",
       "44  Los Angeles County Metropolitan Transportation Authority   \n",
       "45  Los Angeles County Metropolitan Transportation Authority   \n",
       "58                      San Joaquin Regional Rail Commission   \n",
       "70                   Sonoma-Marin Area Rail Transit District   \n",
       "\n",
       "   sched_rt_category route_type  route_id  is_rail  \n",
       "2      schedule_only          2         6     0.00  \n",
       "18           vp_only          2         6     0.00  \n",
       "32   schedule_and_vp          0        40    40.00  \n",
       "35   schedule_and_vp          5        18    18.00  \n",
       "44   schedule_and_vp          0        24    24.00  \n",
       "45   schedule_and_vp          1        12    12.00  \n",
       "58   schedule_and_vp          2         6     0.00  \n",
       "70   schedule_and_vp          2         6     0.00  "
      ]
     },
     "execution_count": 42,
     "metadata": {},
     "output_type": "execute_result"
    }
   ],
   "source": [
    "agg1.loc[(agg1.route_id != 0) | (agg1.is_rail !=0)]"
   ]
  },
  {
   "cell_type": "code",
   "execution_count": 43,
   "id": "d143ef8d-ac08-40c4-b87a-89e8c4417c46",
   "metadata": {
    "scrolled": true,
    "tags": []
   },
   "outputs": [
    {
     "data": {
      "text/html": [
       "<div>\n",
       "<style scoped>\n",
       "    .dataframe tbody tr th:only-of-type {\n",
       "        vertical-align: middle;\n",
       "    }\n",
       "\n",
       "    .dataframe tbody tr th {\n",
       "        vertical-align: top;\n",
       "    }\n",
       "\n",
       "    .dataframe thead th {\n",
       "        text-align: right;\n",
       "    }\n",
       "</style>\n",
       "<table border=\"1\" class=\"dataframe\">\n",
       "  <thead>\n",
       "    <tr style=\"text-align: right;\">\n",
       "      <th></th>\n",
       "      <th>organization_name</th>\n",
       "      <th>route_long_name</th>\n",
       "      <th>route_short_name</th>\n",
       "      <th>route_combined_name</th>\n",
       "      <th>route_id</th>\n",
       "      <th>route_type</th>\n",
       "    </tr>\n",
       "  </thead>\n",
       "  <tbody>\n",
       "    <tr>\n",
       "      <th>6629</th>\n",
       "      <td>Sonoma-Marin Area Rail Transit District</td>\n",
       "      <td>Main Line</td>\n",
       "      <td>SMART</td>\n",
       "      <td>SMART Main Line</td>\n",
       "      <td>SMART</td>\n",
       "      <td>2</td>\n",
       "    </tr>\n",
       "    <tr>\n",
       "      <th>9404</th>\n",
       "      <td>Los Angeles County Metropolitan Transportation Authority</td>\n",
       "      <td>Metro A Line</td>\n",
       "      <td></td>\n",
       "      <td>Metro A Line</td>\n",
       "      <td>801</td>\n",
       "      <td>0</td>\n",
       "    </tr>\n",
       "    <tr>\n",
       "      <th>9530</th>\n",
       "      <td>Los Angeles County Metropolitan Transportation Authority</td>\n",
       "      <td>Metro B Line</td>\n",
       "      <td></td>\n",
       "      <td>Metro B Line</td>\n",
       "      <td>802</td>\n",
       "      <td>1</td>\n",
       "    </tr>\n",
       "    <tr>\n",
       "      <th>9656</th>\n",
       "      <td>Los Angeles County Metropolitan Transportation Authority</td>\n",
       "      <td>Metro C Line</td>\n",
       "      <td></td>\n",
       "      <td>Metro C Line</td>\n",
       "      <td>803</td>\n",
       "      <td>0</td>\n",
       "    </tr>\n",
       "    <tr>\n",
       "      <th>9782</th>\n",
       "      <td>Los Angeles County Metropolitan Transportation Authority</td>\n",
       "      <td>Metro E Line</td>\n",
       "      <td></td>\n",
       "      <td>Metro E Line</td>\n",
       "      <td>804</td>\n",
       "      <td>0</td>\n",
       "    </tr>\n",
       "    <tr>\n",
       "      <th>9908</th>\n",
       "      <td>Los Angeles County Metropolitan Transportation Authority</td>\n",
       "      <td>Metro D Line</td>\n",
       "      <td></td>\n",
       "      <td>Metro D Line</td>\n",
       "      <td>805</td>\n",
       "      <td>1</td>\n",
       "    </tr>\n",
       "    <tr>\n",
       "      <th>10039</th>\n",
       "      <td>Los Angeles County Metropolitan Transportation Authority</td>\n",
       "      <td>Metro K Line</td>\n",
       "      <td></td>\n",
       "      <td>Metro K Line</td>\n",
       "      <td>807</td>\n",
       "      <td>0</td>\n",
       "    </tr>\n",
       "    <tr>\n",
       "      <th>19532</th>\n",
       "      <td>Amtrak</td>\n",
       "      <td>Pacific Surfliner</td>\n",
       "      <td></td>\n",
       "      <td>Pacific Surfliner</td>\n",
       "      <td>78</td>\n",
       "      <td>2</td>\n",
       "    </tr>\n",
       "    <tr>\n",
       "      <th>25551</th>\n",
       "      <td>City and County of San Francisco</td>\n",
       "      <td>CALIFORNIA STREET CABLE CAR</td>\n",
       "      <td>CA</td>\n",
       "      <td>CA CALIFORNIA STREET CABLE CAR</td>\n",
       "      <td>CA</td>\n",
       "      <td>5</td>\n",
       "    </tr>\n",
       "    <tr>\n",
       "      <th>25677</th>\n",
       "      <td>City and County of San Francisco</td>\n",
       "      <td>MARKET &amp; WHARVES</td>\n",
       "      <td>F</td>\n",
       "      <td>F MARKET &amp; WHARVES</td>\n",
       "      <td>F</td>\n",
       "      <td>0</td>\n",
       "    </tr>\n",
       "    <tr>\n",
       "      <th>25788</th>\n",
       "      <td>City and County of San Francisco</td>\n",
       "      <td>MARKET &amp; WHARVES BUS</td>\n",
       "      <td>FBUS</td>\n",
       "      <td>FBUS MARKET &amp; WHARVES BUS</td>\n",
       "      <td>FBUS</td>\n",
       "      <td>0</td>\n",
       "    </tr>\n",
       "    <tr>\n",
       "      <th>25827</th>\n",
       "      <td>City and County of San Francisco</td>\n",
       "      <td>CHURCH</td>\n",
       "      <td>J</td>\n",
       "      <td>J CHURCH</td>\n",
       "      <td>J</td>\n",
       "      <td>0</td>\n",
       "    </tr>\n",
       "    <tr>\n",
       "      <th>25953</th>\n",
       "      <td>City and County of San Francisco</td>\n",
       "      <td>INGLESIDE</td>\n",
       "      <td>K</td>\n",
       "      <td>K INGLESIDE</td>\n",
       "      <td>K</td>\n",
       "      <td>0</td>\n",
       "    </tr>\n",
       "    <tr>\n",
       "      <th>26154</th>\n",
       "      <td>City and County of San Francisco</td>\n",
       "      <td>TARAVAL</td>\n",
       "      <td>L</td>\n",
       "      <td>L TARAVAL</td>\n",
       "      <td>L</td>\n",
       "      <td>0</td>\n",
       "    </tr>\n",
       "    <tr>\n",
       "      <th>26384</th>\n",
       "      <td>City and County of San Francisco</td>\n",
       "      <td>OCEAN VIEW</td>\n",
       "      <td>M</td>\n",
       "      <td>M OCEAN VIEW</td>\n",
       "      <td>M</td>\n",
       "      <td>0</td>\n",
       "    </tr>\n",
       "    <tr>\n",
       "      <th>26512</th>\n",
       "      <td>City and County of San Francisco</td>\n",
       "      <td>JUDAH</td>\n",
       "      <td>N</td>\n",
       "      <td>N JUDAH</td>\n",
       "      <td>N</td>\n",
       "      <td>0</td>\n",
       "    </tr>\n",
       "    <tr>\n",
       "      <th>26812</th>\n",
       "      <td>City and County of San Francisco</td>\n",
       "      <td>POWELL-HYDE CABLE CAR</td>\n",
       "      <td>PH</td>\n",
       "      <td>PH POWELL-HYDE CABLE CAR</td>\n",
       "      <td>PH</td>\n",
       "      <td>5</td>\n",
       "    </tr>\n",
       "    <tr>\n",
       "      <th>26938</th>\n",
       "      <td>City and County of San Francisco</td>\n",
       "      <td>POWELL-MASON CABLE CAR</td>\n",
       "      <td>PM</td>\n",
       "      <td>PM POWELL-MASON CABLE CAR</td>\n",
       "      <td>PM</td>\n",
       "      <td>5</td>\n",
       "    </tr>\n",
       "    <tr>\n",
       "      <th>37012</th>\n",
       "      <td>San Joaquin Regional Rail Commission</td>\n",
       "      <td>ACE Train</td>\n",
       "      <td>ACETrain</td>\n",
       "      <td>ACE Train</td>\n",
       "      <td>ACETrain</td>\n",
       "      <td>2</td>\n",
       "    </tr>\n",
       "    <tr>\n",
       "      <th>40323</th>\n",
       "      <td>Capitol Corridor Joint Powers Authority</td>\n",
       "      <td>Capitol Corridor</td>\n",
       "      <td>CC</td>\n",
       "      <td>CC Capitol Corridor</td>\n",
       "      <td>CC</td>\n",
       "      <td>2</td>\n",
       "    </tr>\n",
       "  </tbody>\n",
       "</table>\n",
       "</div>"
      ],
      "text/plain": [
       "                                              organization_name  \\\n",
       "6629                    Sonoma-Marin Area Rail Transit District   \n",
       "9404   Los Angeles County Metropolitan Transportation Authority   \n",
       "9530   Los Angeles County Metropolitan Transportation Authority   \n",
       "9656   Los Angeles County Metropolitan Transportation Authority   \n",
       "9782   Los Angeles County Metropolitan Transportation Authority   \n",
       "9908   Los Angeles County Metropolitan Transportation Authority   \n",
       "10039  Los Angeles County Metropolitan Transportation Authority   \n",
       "19532                                                    Amtrak   \n",
       "25551                          City and County of San Francisco   \n",
       "25677                          City and County of San Francisco   \n",
       "25788                          City and County of San Francisco   \n",
       "25827                          City and County of San Francisco   \n",
       "25953                          City and County of San Francisco   \n",
       "26154                          City and County of San Francisco   \n",
       "26384                          City and County of San Francisco   \n",
       "26512                          City and County of San Francisco   \n",
       "26812                          City and County of San Francisco   \n",
       "26938                          City and County of San Francisco   \n",
       "37012                      San Joaquin Regional Rail Commission   \n",
       "40323                   Capitol Corridor Joint Powers Authority   \n",
       "\n",
       "                   route_long_name route_short_name  \\\n",
       "6629                     Main Line            SMART   \n",
       "9404                  Metro A Line                    \n",
       "9530                  Metro B Line                    \n",
       "9656                  Metro C Line                    \n",
       "9782                  Metro E Line                    \n",
       "9908                  Metro D Line                    \n",
       "10039                 Metro K Line                    \n",
       "19532            Pacific Surfliner                    \n",
       "25551  CALIFORNIA STREET CABLE CAR               CA   \n",
       "25677             MARKET & WHARVES                F   \n",
       "25788         MARKET & WHARVES BUS             FBUS   \n",
       "25827                       CHURCH                J   \n",
       "25953                    INGLESIDE                K   \n",
       "26154                      TARAVAL                L   \n",
       "26384                   OCEAN VIEW                M   \n",
       "26512                        JUDAH                N   \n",
       "26812        POWELL-HYDE CABLE CAR               PH   \n",
       "26938       POWELL-MASON CABLE CAR               PM   \n",
       "37012                    ACE Train         ACETrain   \n",
       "40323             Capitol Corridor               CC   \n",
       "\n",
       "                  route_combined_name  route_id route_type  \n",
       "6629                  SMART Main Line     SMART          2  \n",
       "9404                     Metro A Line       801          0  \n",
       "9530                     Metro B Line       802          1  \n",
       "9656                     Metro C Line       803          0  \n",
       "9782                     Metro E Line       804          0  \n",
       "9908                     Metro D Line       805          1  \n",
       "10039                    Metro K Line       807          0  \n",
       "19532               Pacific Surfliner        78          2  \n",
       "25551  CA CALIFORNIA STREET CABLE CAR        CA          5  \n",
       "25677              F MARKET & WHARVES         F          0  \n",
       "25788       FBUS MARKET & WHARVES BUS      FBUS          0  \n",
       "25827                        J CHURCH         J          0  \n",
       "25953                     K INGLESIDE         K          0  \n",
       "26154                       L TARAVAL         L          0  \n",
       "26384                    M OCEAN VIEW         M          0  \n",
       "26512                         N JUDAH         N          0  \n",
       "26812        PH POWELL-HYDE CABLE CAR        PH          5  \n",
       "26938       PM POWELL-MASON CABLE CAR        PM          5  \n",
       "37012                       ACE Train  ACETrain          2  \n",
       "40323             CC Capitol Corridor        CC          2  "
      ]
     },
     "execution_count": 43,
     "metadata": {},
     "output_type": "execute_result"
    }
   ],
   "source": [
    "rail_only2[['organization_name','route_long_name', 'route_short_name',\n",
    "       'route_combined_name', 'route_id',\"route_type\"]].drop_duplicates()"
   ]
  },
  {
   "cell_type": "markdown",
   "id": "b9bc7bc3-52bf-40bb-919a-75fb2ae60536",
   "metadata": {},
   "source": [
    "## Scheduled Trips"
   ]
  },
  {
   "cell_type": "code",
   "execution_count": 44,
   "id": "5fdbe305-06d3-4475-87c7-b46538c30e1e",
   "metadata": {
    "tags": []
   },
   "outputs": [],
   "source": [
    "scheduled_trips_df = pd.concat(\n",
    "    [\n",
    "        helpers.import_scheduled_trips(\n",
    "            analysis_date,\n",
    "            columns=[\n",
    "                \"gtfs_dataset_key\",\n",
    "                \"name\",\n",
    "                \"route_id\",\n",
    "                \"route_long_name\",\n",
    "                \"route_short_name\",\n",
    "                \"route_desc\",\n",
    "            ],\n",
    "            get_pandas=True,\n",
    "        ).assign(service_date=pd.to_datetime(analysis_date))\n",
    "        for analysis_date in analysis_date_list\n",
    "    ],\n",
    "    axis=0,\n",
    "    ignore_index=True,\n",
    ")"
   ]
  },
  {
   "cell_type": "code",
   "execution_count": 45,
   "id": "80519f05-ceff-45fa-ab5d-0de57139342f",
   "metadata": {
    "tags": []
   },
   "outputs": [
    {
     "data": {
      "text/html": [
       "<div>\n",
       "<style scoped>\n",
       "    .dataframe tbody tr th:only-of-type {\n",
       "        vertical-align: middle;\n",
       "    }\n",
       "\n",
       "    .dataframe tbody tr th {\n",
       "        vertical-align: top;\n",
       "    }\n",
       "\n",
       "    .dataframe thead th {\n",
       "        text-align: right;\n",
       "    }\n",
       "</style>\n",
       "<table border=\"1\" class=\"dataframe\">\n",
       "  <thead>\n",
       "    <tr style=\"text-align: right;\">\n",
       "      <th></th>\n",
       "      <th>schedule_gtfs_dataset_key</th>\n",
       "      <th>name</th>\n",
       "      <th>route_id</th>\n",
       "      <th>route_long_name</th>\n",
       "      <th>route_short_name</th>\n",
       "      <th>route_desc</th>\n",
       "      <th>service_date</th>\n",
       "    </tr>\n",
       "  </thead>\n",
       "  <tbody>\n",
       "    <tr>\n",
       "      <th>0</th>\n",
       "      <td>ff1bc5dde661d62c877165421e9ca257</td>\n",
       "      <td>Santa Ynez Mecatran Schedule</td>\n",
       "      <td>ROUTEA</td>\n",
       "      <td>Express</td>\n",
       "      <td>None</td>\n",
       "      <td>None</td>\n",
       "      <td>2025-02-12</td>\n",
       "    </tr>\n",
       "  </tbody>\n",
       "</table>\n",
       "</div>"
      ],
      "text/plain": [
       "          schedule_gtfs_dataset_key                          name route_id  \\\n",
       "0  ff1bc5dde661d62c877165421e9ca257  Santa Ynez Mecatran Schedule   ROUTEA   \n",
       "\n",
       "  route_long_name route_short_name route_desc service_date  \n",
       "0         Express             None       None   2025-02-12  "
      ]
     },
     "execution_count": 45,
     "metadata": {},
     "output_type": "execute_result"
    }
   ],
   "source": [
    "scheduled_trips_df.head(1)"
   ]
  },
  {
   "cell_type": "markdown",
   "id": "db6b7d80-9730-457f-830f-ce3c0bb9b974",
   "metadata": {},
   "source": [
    "### Find the ferry"
   ]
  },
  {
   "cell_type": "code",
   "execution_count": 46,
   "id": "404fff93-27bd-4dc3-91e5-44e8755fedc7",
   "metadata": {
    "scrolled": true,
    "tags": []
   },
   "outputs": [
    {
     "data": {
      "text/html": [
       "<div>\n",
       "<style scoped>\n",
       "    .dataframe tbody tr th:only-of-type {\n",
       "        vertical-align: middle;\n",
       "    }\n",
       "\n",
       "    .dataframe tbody tr th {\n",
       "        vertical-align: top;\n",
       "    }\n",
       "\n",
       "    .dataframe thead th {\n",
       "        text-align: right;\n",
       "    }\n",
       "</style>\n",
       "<table border=\"1\" class=\"dataframe\">\n",
       "  <thead>\n",
       "    <tr style=\"text-align: right;\">\n",
       "      <th></th>\n",
       "      <th>name</th>\n",
       "    </tr>\n",
       "  </thead>\n",
       "  <tbody>\n",
       "    <tr>\n",
       "      <th>1102</th>\n",
       "      <td>Bay Area 511 Golden Gate Ferry Schedule</td>\n",
       "    </tr>\n",
       "    <tr>\n",
       "      <th>1165</th>\n",
       "      <td>Bay Area 511 San Francisco Bay Ferry Schedule</td>\n",
       "    </tr>\n",
       "    <tr>\n",
       "      <th>1445</th>\n",
       "      <td>Bay Area 511 Treasure Island Ferry Schedule</td>\n",
       "    </tr>\n",
       "    <tr>\n",
       "      <th>2288</th>\n",
       "      <td>Havasu Landing Ferry Schedule</td>\n",
       "    </tr>\n",
       "  </tbody>\n",
       "</table>\n",
       "</div>"
      ],
      "text/plain": [
       "                                               name\n",
       "1102        Bay Area 511 Golden Gate Ferry Schedule\n",
       "1165  Bay Area 511 San Francisco Bay Ferry Schedule\n",
       "1445    Bay Area 511 Treasure Island Ferry Schedule\n",
       "2288                  Havasu Landing Ferry Schedule"
      ]
     },
     "execution_count": 46,
     "metadata": {},
     "output_type": "execute_result"
    }
   ],
   "source": [
    "scheduled_trips_df.loc[scheduled_trips_df.name.str.contains(\"Ferry\")][\n",
    "    [\"name\"]\n",
    "].drop_duplicates()"
   ]
  },
  {
   "cell_type": "code",
   "execution_count": 47,
   "id": "19dac154-4390-4592-9e6f-51d25718c175",
   "metadata": {
    "tags": []
   },
   "outputs": [
    {
     "data": {
      "text/plain": [
       "Index(['schedule_gtfs_dataset_key', 'name', 'route_id', 'route_long_name',\n",
       "       'route_short_name', 'route_desc', 'service_date'],\n",
       "      dtype='object')"
      ]
     },
     "execution_count": 47,
     "metadata": {},
     "output_type": "execute_result"
    }
   ],
   "source": [
    "scheduled_trips_df.columns"
   ]
  },
  {
   "cell_type": "code",
   "execution_count": 48,
   "id": "08fe844a-b180-49aa-9829-df130fbccb46",
   "metadata": {
    "tags": []
   },
   "outputs": [],
   "source": [
    "ferry_schd_keys = list(\n",
    "    scheduled_trips_df.loc[\n",
    "        scheduled_trips_df.name.str.contains(\"Ferry\")\n",
    "    ].schedule_gtfs_dataset_key.unique()\n",
    ")"
   ]
  },
  {
   "cell_type": "code",
   "execution_count": 49,
   "id": "be188a96-c10a-46e3-8bad-d271c2ab4969",
   "metadata": {
    "tags": []
   },
   "outputs": [],
   "source": [
    "ferry_names = list(\n",
    "    scheduled_trips_df.loc[scheduled_trips_df.name.str.contains(\"Ferry\")].name.unique()\n",
    ")"
   ]
  },
  {
   "cell_type": "code",
   "execution_count": 50,
   "id": "455b5c9b-f696-4d28-b85c-4ab72a7e5bc2",
   "metadata": {
    "tags": []
   },
   "outputs": [],
   "source": [
    "scheduled_trips_df2 = scheduled_trips_df.loc[\n",
    "    scheduled_trips_df.schedule_gtfs_dataset_key.isin(ferry_schd_keys)\n",
    "]"
   ]
  },
  {
   "cell_type": "code",
   "execution_count": 51,
   "id": "c2c0e395-46a9-44bb-948d-0482a28459d1",
   "metadata": {
    "tags": []
   },
   "outputs": [
    {
     "data": {
      "text/plain": [
       "13"
      ]
     },
     "execution_count": 51,
     "metadata": {},
     "output_type": "execute_result"
    }
   ],
   "source": [
    "len(scheduled_trips_df2)"
   ]
  },
  {
   "cell_type": "code",
   "execution_count": 52,
   "id": "93690982-1c54-4c23-aaf0-e07587fbad34",
   "metadata": {
    "tags": []
   },
   "outputs": [
    {
     "data": {
      "text/html": [
       "<div>\n",
       "<style scoped>\n",
       "    .dataframe tbody tr th:only-of-type {\n",
       "        vertical-align: middle;\n",
       "    }\n",
       "\n",
       "    .dataframe tbody tr th {\n",
       "        vertical-align: top;\n",
       "    }\n",
       "\n",
       "    .dataframe thead th {\n",
       "        text-align: right;\n",
       "    }\n",
       "</style>\n",
       "<table border=\"1\" class=\"dataframe\">\n",
       "  <thead>\n",
       "    <tr style=\"text-align: right;\">\n",
       "      <th></th>\n",
       "      <th>schedule_gtfs_dataset_key</th>\n",
       "      <th>name</th>\n",
       "      <th>route_id</th>\n",
       "      <th>route_long_name</th>\n",
       "      <th>route_short_name</th>\n",
       "      <th>route_desc</th>\n",
       "      <th>service_date</th>\n",
       "    </tr>\n",
       "  </thead>\n",
       "  <tbody>\n",
       "    <tr>\n",
       "      <th>1102</th>\n",
       "      <td>ca270cd1ac30a9ec5336a11bc9223c41</td>\n",
       "      <td>Bay Area 511 Golden Gate Ferry Schedule</td>\n",
       "      <td>AISF</td>\n",
       "      <td>Angel Island - San Francisco Ferry</td>\n",
       "      <td>AISF</td>\n",
       "      <td>None</td>\n",
       "      <td>2025-02-12</td>\n",
       "    </tr>\n",
       "    <tr>\n",
       "      <th>1103</th>\n",
       "      <td>ca270cd1ac30a9ec5336a11bc9223c41</td>\n",
       "      <td>Bay Area 511 Golden Gate Ferry Schedule</td>\n",
       "      <td>LSSF</td>\n",
       "      <td>Larkspur - San Francisco Ferry</td>\n",
       "      <td>LSSF</td>\n",
       "      <td>None</td>\n",
       "      <td>2025-02-12</td>\n",
       "    </tr>\n",
       "  </tbody>\n",
       "</table>\n",
       "</div>"
      ],
      "text/plain": [
       "             schedule_gtfs_dataset_key  \\\n",
       "1102  ca270cd1ac30a9ec5336a11bc9223c41   \n",
       "1103  ca270cd1ac30a9ec5336a11bc9223c41   \n",
       "\n",
       "                                         name route_id  \\\n",
       "1102  Bay Area 511 Golden Gate Ferry Schedule     AISF   \n",
       "1103  Bay Area 511 Golden Gate Ferry Schedule     LSSF   \n",
       "\n",
       "                         route_long_name route_short_name route_desc  \\\n",
       "1102  Angel Island - San Francisco Ferry             AISF       None   \n",
       "1103      Larkspur - San Francisco Ferry             LSSF       None   \n",
       "\n",
       "     service_date  \n",
       "1102   2025-02-12  \n",
       "1103   2025-02-12  "
      ]
     },
     "execution_count": 52,
     "metadata": {},
     "output_type": "execute_result"
    }
   ],
   "source": [
    "scheduled_trips_df2.head(2)"
   ]
  },
  {
   "cell_type": "code",
   "execution_count": 53,
   "id": "c99b2ce9-d7fc-4b11-88d0-28c1dd4dd8d7",
   "metadata": {
    "tags": []
   },
   "outputs": [],
   "source": [
    "# scheduled_trips_df2"
   ]
  },
  {
   "cell_type": "markdown",
   "id": "3cde3f7a-15c9-484e-8f3d-6880504700eb",
   "metadata": {},
   "source": [
    "## Scheduled Shapes "
   ]
  },
  {
   "cell_type": "code",
   "execution_count": 54,
   "id": "3adb56b7-dabc-4091-b111-9ba6cfd5f6b3",
   "metadata": {
    "tags": []
   },
   "outputs": [],
   "source": [
    "TABLE = GTFS_DATA_DICT.schedule_downloads.shapes\n",
    "FILE = f\"{COMPILED_CACHED_VIEWS}{TABLE}_{analysis_date}.parquet\""
   ]
  },
  {
   "cell_type": "code",
   "execution_count": 55,
   "id": "d45a6eb6-27c4-4c8c-958f-b44cfad83a2d",
   "metadata": {
    "tags": []
   },
   "outputs": [],
   "source": [
    "shapes = gpd.read_parquet(FILE)"
   ]
  },
  {
   "cell_type": "code",
   "execution_count": 56,
   "id": "a528870c-9ced-4d68-b2df-2c060abdd584",
   "metadata": {
    "tags": []
   },
   "outputs": [
    {
     "data": {
      "text/plain": [
       "Index(['feed_key', 'feed_timezone', 'service_date',\n",
       "       'shape_first_departure_datetime_pacific',\n",
       "       'shape_last_arrival_datetime_pacific', 'shape_id', 'shape_array_key',\n",
       "       'n_trips', 'geometry'],\n",
       "      dtype='object')"
      ]
     },
     "execution_count": 56,
     "metadata": {},
     "output_type": "execute_result"
    }
   ],
   "source": [
    "shapes.columns"
   ]
  },
  {
   "cell_type": "code",
   "execution_count": 57,
   "id": "035b7f5a-861a-4fc8-9039-1a7c44570139",
   "metadata": {
    "tags": []
   },
   "outputs": [],
   "source": [
    "scheduled_shapes_df = helpers.import_scheduled_shapes(\n",
    "    analysis_date,\n",
    "    columns=[\"shape_array_key\", \"geometry\"],\n",
    "    get_pandas=True,\n",
    "    crs=PROJECT_CRS,\n",
    ")"
   ]
  },
  {
   "cell_type": "code",
   "execution_count": 58,
   "id": "f599dfc3-67ec-4765-9450-63c6e146bd9b",
   "metadata": {
    "tags": []
   },
   "outputs": [
    {
     "data": {
      "text/plain": [
       "Index(['shape_array_key', 'geometry'], dtype='object')"
      ]
     },
     "execution_count": 58,
     "metadata": {},
     "output_type": "execute_result"
    }
   ],
   "source": [
    "scheduled_shapes_df.columns"
   ]
  },
  {
   "cell_type": "markdown",
   "id": "ce832c57-e449-4a03-b926-91b09762aa9e",
   "metadata": {},
   "source": [
    "## Scheduled Stops"
   ]
  },
  {
   "cell_type": "code",
   "execution_count": 59,
   "id": "8fb699e8-d6a9-4daf-b0b6-9efd8ae566e7",
   "metadata": {
    "tags": []
   },
   "outputs": [],
   "source": [
    "TABLE = GTFS_DATA_DICT.rt_vs_schedule_tables.stop_times_direction\n",
    "FILE = f\"{RT_SCHED_GCS}{TABLE}_{analysis_date}.parquet\""
   ]
  },
  {
   "cell_type": "code",
   "execution_count": 60,
   "id": "d150132e-0391-407f-a975-d7d8cd56b2a6",
   "metadata": {
    "tags": []
   },
   "outputs": [],
   "source": [
    "stops_df = gpd.read_parquet(FILE)"
   ]
  },
  {
   "cell_type": "code",
   "execution_count": 61,
   "id": "e0fa1c02-4fe3-4a8f-bb2d-62ccfedf0889",
   "metadata": {
    "tags": []
   },
   "outputs": [
    {
     "data": {
      "text/plain": [
       "Index(['feed_key', 'stop_id', 'stop_sequence', 'schedule_gtfs_dataset_key',\n",
       "       'trip_instance_key', 'shape_array_key', 'stop_name', 'geometry',\n",
       "       'stop_meters', 'prior_stop_sequence', 'subseq_stop_sequence',\n",
       "       'stop_primary_direction', 'stop_pair', 'stop_pair_name'],\n",
       "      dtype='object')"
      ]
     },
     "execution_count": 61,
     "metadata": {},
     "output_type": "execute_result"
    }
   ],
   "source": [
    "stops_df.columns"
   ]
  },
  {
   "cell_type": "code",
   "execution_count": 62,
   "id": "13612000-aefa-4164-8cf2-89f623077c9d",
   "metadata": {
    "tags": []
   },
   "outputs": [],
   "source": [
    "stops_df2 = stops_df.loc[stops_df.schedule_gtfs_dataset_key.isin(ferry_schd_keys)]"
   ]
  },
  {
   "cell_type": "code",
   "execution_count": 63,
   "id": "2bce0f19-6c40-4519-9109-5e1ca0d907f7",
   "metadata": {
    "tags": []
   },
   "outputs": [
    {
     "data": {
      "text/plain": [
       "687"
      ]
     },
     "execution_count": 63,
     "metadata": {},
     "output_type": "execute_result"
    }
   ],
   "source": [
    "len(stops_df2)"
   ]
  },
  {
   "cell_type": "code",
   "execution_count": 64,
   "id": "a5fe3a75-c585-49f7-943e-68c7544765fd",
   "metadata": {
    "tags": []
   },
   "outputs": [],
   "source": [
    "# stops_df2.explore()"
   ]
  },
  {
   "cell_type": "markdown",
   "id": "2e90e0c0-23f0-4015-930c-7800fab8991f",
   "metadata": {},
   "source": [
    "## Scheduled Stop Times"
   ]
  },
  {
   "cell_type": "code",
   "execution_count": 65,
   "id": "961b82d9-f377-40e7-b27c-f9e2d99050c3",
   "metadata": {
    "tags": []
   },
   "outputs": [],
   "source": [
    "TABLE = GTFS_DATA_DICT.rt_vs_schedule_tables.stop_times_direction\n",
    "FILE = f\"{RT_SCHED_GCS}{TABLE}_{analysis_date}.parquet\""
   ]
  },
  {
   "cell_type": "code",
   "execution_count": 66,
   "id": "6ea3f9eb-eb2b-462c-915d-747de88c0108",
   "metadata": {
    "tags": []
   },
   "outputs": [],
   "source": [
    "sched_stops = gpd.read_parquet(FILE)"
   ]
  },
  {
   "cell_type": "code",
   "execution_count": 67,
   "id": "d9571501-6aee-48f2-b970-f9d8bbe0e405",
   "metadata": {
    "tags": []
   },
   "outputs": [
    {
     "data": {
      "text/plain": [
       "Index(['feed_key', 'stop_id', 'stop_sequence', 'schedule_gtfs_dataset_key',\n",
       "       'trip_instance_key', 'shape_array_key', 'stop_name', 'geometry',\n",
       "       'stop_meters', 'prior_stop_sequence', 'subseq_stop_sequence',\n",
       "       'stop_primary_direction', 'stop_pair', 'stop_pair_name'],\n",
       "      dtype='object')"
      ]
     },
     "execution_count": 67,
     "metadata": {},
     "output_type": "execute_result"
    }
   ],
   "source": [
    "sched_stops.columns"
   ]
  },
  {
   "cell_type": "code",
   "execution_count": 68,
   "id": "9a074684-6a46-492e-91f7-e7b316941c53",
   "metadata": {
    "tags": []
   },
   "outputs": [],
   "source": [
    "sched_stops2 = sched_stops.loc[\n",
    "    sched_stops.schedule_gtfs_dataset_key.isin(ferry_schd_keys)\n",
    "]"
   ]
  },
  {
   "cell_type": "code",
   "execution_count": 69,
   "id": "92fb504a-c681-4bf4-8b98-389aa06a19b0",
   "metadata": {
    "tags": []
   },
   "outputs": [],
   "source": [
    "# sched_stops2.explore()"
   ]
  }
 ],
 "metadata": {
  "kernelspec": {
   "display_name": "Python 3 (ipykernel)",
   "language": "python",
   "name": "python3"
  },
  "language_info": {
   "codemirror_mode": {
    "name": "ipython",
    "version": 3
   },
   "file_extension": ".py",
   "mimetype": "text/x-python",
   "name": "python",
   "nbconvert_exporter": "python",
   "pygments_lexer": "ipython3",
   "version": "3.11.6"
  }
 },
 "nbformat": 4,
 "nbformat_minor": 5
}
