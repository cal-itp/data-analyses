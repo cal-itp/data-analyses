{
 "cells": [
  {
   "cell_type": "markdown",
   "id": "0196648e-253f-4017-8073-5932eef9562a",
   "metadata": {},
   "source": [
    "# Non-daily #1589 \n",
    "* Need Monday and Wednesday data from April 2025. "
   ]
  },
  {
   "cell_type": "code",
   "execution_count": 1,
   "id": "a2a9da14-a21c-483e-9c7a-03a7a6fb1974",
   "metadata": {},
   "outputs": [],
   "source": [
    "import geopandas as gpd\n",
    "import google.auth\n",
    "import merge_operator_service\n",
    "import pandas as pd\n",
    "from update_vars import GTFS_DATA_DICT, RT_SCHED_GCS, SCHED_GCS, SEGMENT_GCS"
   ]
  },
  {
   "cell_type": "code",
   "execution_count": 2,
   "id": "47f4c1e7-27c2-47b8-971d-cc713132b254",
   "metadata": {
    "tags": []
   },
   "outputs": [],
   "source": [
    "credentials, project = google.auth.default()"
   ]
  },
  {
   "cell_type": "code",
   "execution_count": 3,
   "id": "81b8b219-ddb7-40f9-ba08-9811fcfa6618",
   "metadata": {
    "tags": []
   },
   "outputs": [],
   "source": [
    "pd.options.display.max_columns = 100\n",
    "pd.options.display.float_format = \"{:.2f}\".format\n",
    "pd.set_option(\"display.max_rows\", None)\n",
    "pd.set_option(\"display.max_colwidth\", None)"
   ]
  },
  {
   "cell_type": "code",
   "execution_count": 4,
   "id": "850b869f-8e72-422f-bf19-81999379865d",
   "metadata": {
    "tags": []
   },
   "outputs": [],
   "source": [
    "ROUTE_DIR_MONTH_FILE = GTFS_DATA_DICT.digest_tables.monthly_route_schedule_vp_report"
   ]
  },
  {
   "cell_type": "code",
   "execution_count": 5,
   "id": "75f752cb-6c47-4ab2-9c1e-3ab6b3aa66d4",
   "metadata": {
    "tags": []
   },
   "outputs": [],
   "source": [
    "route_dir_month_df = pd.read_parquet(f\"{RT_SCHED_GCS}{ROUTE_DIR_MONTH_FILE}.parquet\")"
   ]
  },
  {
   "cell_type": "code",
   "execution_count": 6,
   "id": "1e68cf7b-a9ce-4a62-8c13-7551151dba0b",
   "metadata": {
    "tags": []
   },
   "outputs": [],
   "source": [
    "wed_date = (\"2025-04-16\",)  # main April date"
   ]
  },
  {
   "cell_type": "code",
   "execution_count": 7,
   "id": "bd204169-c8f2-47e5-a658-041504380ec6",
   "metadata": {
    "tags": []
   },
   "outputs": [],
   "source": [
    "mon_date = \"2025-04-14\""
   ]
  },
  {
   "cell_type": "code",
   "execution_count": 8,
   "id": "d6ad1fb3-c8ea-4b92-8d9e-ae4a984a1830",
   "metadata": {
    "tags": []
   },
   "outputs": [],
   "source": [
    "SCHEDULED_SERVICES_FILE = GTFS_DATA_DICT.digest_tables.scheduled_service_hours"
   ]
  },
  {
   "cell_type": "code",
   "execution_count": 9,
   "id": "03c311a0-f14b-4ca3-a649-aa0b1be1e799",
   "metadata": {
    "tags": []
   },
   "outputs": [],
   "source": [
    "OPERATOR_ROUTE = GTFS_DATA_DICT.digest_tables.operator_routes_map"
   ]
  },
  {
   "cell_type": "code",
   "execution_count": 14,
   "id": "80fb35b7-5fc4-41cc-bdc1-a13f6d5852a2",
   "metadata": {
    "tags": []
   },
   "outputs": [
    {
     "data": {
      "text/plain": [
       "'gs://calitp-analytics-data/data-analyses/rt_vs_schedule/'"
      ]
     },
     "execution_count": 14,
     "metadata": {},
     "output_type": "execute_result"
    }
   ],
   "source": [
    "RT_SCHED_GCS"
   ]
  },
  {
   "cell_type": "code",
   "execution_count": 10,
   "id": "3321458c-8713-4209-930d-fab9311bc008",
   "metadata": {
    "tags": []
   },
   "outputs": [
    {
     "data": {
      "text/plain": [
       "'schedule_route_dir/schedule_route_direction_metrics'"
      ]
     },
     "execution_count": 10,
     "metadata": {},
     "output_type": "execute_result"
    }
   ],
   "source": [
    "GTFS_DATA_DICT.rt_vs_schedule_tables.sched_route_direction_metrics"
   ]
  },
  {
   "cell_type": "code",
   "execution_count": 15,
   "id": "a7d7b7f0-e40a-44b4-834d-58c819a74213",
   "metadata": {
    "tags": []
   },
   "outputs": [],
   "source": [
    "wed_url = \"gs://calitp-analytics-data/data-analyses/rt_vs_schedule/schedule_route_dir/schedule_route_direction_metrics_2025-04-16.parquet\""
   ]
  },
  {
   "cell_type": "code",
   "execution_count": 18,
   "id": "f62bcfd1-a9a4-48a6-8cd0-809a1ac5cbda",
   "metadata": {
    "tags": []
   },
   "outputs": [],
   "source": [
    "wed_df = gpd.read_parquet(\n",
    "    wed_url,\n",
    "    storage_options={\"token\": credentials.token},\n",
    ").drop(columns = [\"geometry\"])"
   ]
  },
  {
   "cell_type": "code",
   "execution_count": 19,
   "id": "a851d921-1722-424f-9aed-13f74f4c5e8c",
   "metadata": {
    "tags": []
   },
   "outputs": [
    {
     "data": {
      "text/html": [
       "<div>\n",
       "<style scoped>\n",
       "    .dataframe tbody tr th:only-of-type {\n",
       "        vertical-align: middle;\n",
       "    }\n",
       "\n",
       "    .dataframe tbody tr th {\n",
       "        vertical-align: top;\n",
       "    }\n",
       "\n",
       "    .dataframe thead th {\n",
       "        text-align: right;\n",
       "    }\n",
       "</style>\n",
       "<table border=\"1\" class=\"dataframe\">\n",
       "  <thead>\n",
       "    <tr style=\"text-align: right;\">\n",
       "      <th></th>\n",
       "      <th>schedule_gtfs_dataset_key</th>\n",
       "      <th>route_id</th>\n",
       "      <th>direction_id</th>\n",
       "      <th>common_shape_id</th>\n",
       "      <th>avg_scheduled_service_minutes</th>\n",
       "      <th>route_primary_direction</th>\n",
       "      <th>avg_stop_miles</th>\n",
       "      <th>n_trips</th>\n",
       "      <th>time_period</th>\n",
       "      <th>frequency</th>\n",
       "    </tr>\n",
       "  </thead>\n",
       "  <tbody>\n",
       "    <tr>\n",
       "      <th>0</th>\n",
       "      <td>cb8a465cffec67c8fd90f31b389ed4c3</td>\n",
       "      <td>76991</td>\n",
       "      <td>0.00</td>\n",
       "      <td>p_1437167</td>\n",
       "      <td>20.00</td>\n",
       "      <td>Westbound</td>\n",
       "      <td>3.04</td>\n",
       "      <td>8</td>\n",
       "      <td>all_day</td>\n",
       "      <td>0.33</td>\n",
       "    </tr>\n",
       "    <tr>\n",
       "      <th>1</th>\n",
       "      <td>cb8a465cffec67c8fd90f31b389ed4c3</td>\n",
       "      <td>76991</td>\n",
       "      <td>0.00</td>\n",
       "      <td>p_1437167</td>\n",
       "      <td>20.00</td>\n",
       "      <td>Westbound</td>\n",
       "      <td>3.04</td>\n",
       "      <td>8</td>\n",
       "      <td>offpeak</td>\n",
       "      <td>0.50</td>\n",
       "    </tr>\n",
       "    <tr>\n",
       "      <th>2</th>\n",
       "      <td>330fd5b796496eddf2ce1d1b9828961d</td>\n",
       "      <td>10986</td>\n",
       "      <td>0.00</td>\n",
       "      <td>p_1433090</td>\n",
       "      <td>50.44</td>\n",
       "      <td>Northbound</td>\n",
       "      <td>12.11</td>\n",
       "      <td>9</td>\n",
       "      <td>all_day</td>\n",
       "      <td>0.38</td>\n",
       "    </tr>\n",
       "    <tr>\n",
       "      <th>3</th>\n",
       "      <td>330fd5b796496eddf2ce1d1b9828961d</td>\n",
       "      <td>10986</td>\n",
       "      <td>0.00</td>\n",
       "      <td>p_1433090</td>\n",
       "      <td>50.44</td>\n",
       "      <td>Northbound</td>\n",
       "      <td>12.11</td>\n",
       "      <td>6</td>\n",
       "      <td>offpeak</td>\n",
       "      <td>0.38</td>\n",
       "    </tr>\n",
       "    <tr>\n",
       "      <th>4</th>\n",
       "      <td>330fd5b796496eddf2ce1d1b9828961d</td>\n",
       "      <td>10986</td>\n",
       "      <td>0.00</td>\n",
       "      <td>p_1433090</td>\n",
       "      <td>50.44</td>\n",
       "      <td>Northbound</td>\n",
       "      <td>12.11</td>\n",
       "      <td>3</td>\n",
       "      <td>peak</td>\n",
       "      <td>0.38</td>\n",
       "    </tr>\n",
       "  </tbody>\n",
       "</table>\n",
       "</div>"
      ],
      "text/plain": [
       "          schedule_gtfs_dataset_key route_id  direction_id common_shape_id  \\\n",
       "0  cb8a465cffec67c8fd90f31b389ed4c3    76991          0.00       p_1437167   \n",
       "1  cb8a465cffec67c8fd90f31b389ed4c3    76991          0.00       p_1437167   \n",
       "2  330fd5b796496eddf2ce1d1b9828961d    10986          0.00       p_1433090   \n",
       "3  330fd5b796496eddf2ce1d1b9828961d    10986          0.00       p_1433090   \n",
       "4  330fd5b796496eddf2ce1d1b9828961d    10986          0.00       p_1433090   \n",
       "\n",
       "   avg_scheduled_service_minutes route_primary_direction  avg_stop_miles  \\\n",
       "0                          20.00               Westbound            3.04   \n",
       "1                          20.00               Westbound            3.04   \n",
       "2                          50.44              Northbound           12.11   \n",
       "3                          50.44              Northbound           12.11   \n",
       "4                          50.44              Northbound           12.11   \n",
       "\n",
       "   n_trips time_period  frequency  \n",
       "0        8     all_day       0.33  \n",
       "1        8     offpeak       0.50  \n",
       "2        9     all_day       0.38  \n",
       "3        6     offpeak       0.38  \n",
       "4        3        peak       0.38  "
      ]
     },
     "execution_count": 19,
     "metadata": {},
     "output_type": "execute_result"
    }
   ],
   "source": [
    "wed_df.head()"
   ]
  },
  {
   "cell_type": "code",
   "execution_count": 20,
   "id": "5061a42e-12a4-4a96-9167-0a62ef25170c",
   "metadata": {
    "tags": []
   },
   "outputs": [],
   "source": [
    "mon_url = \"gs://calitp-analytics-data/data-analyses/rt_vs_schedule/schedule_route_dir/schedule_route_direction_metrics_2025-04-14.parquet\""
   ]
  },
  {
   "cell_type": "code",
   "execution_count": 21,
   "id": "8a00c1e9-fe96-4abd-a23f-350553d0e9ab",
   "metadata": {
    "tags": []
   },
   "outputs": [],
   "source": [
    "mon_df = gpd.read_parquet(\n",
    "    mon_url,\n",
    "    storage_options={\"token\": credentials.token},\n",
    ").drop(columns = [\"geometry\"])"
   ]
  },
  {
   "cell_type": "code",
   "execution_count": null,
   "id": "d8798a15-1632-4ea2-bd95-7b56fc4f1fdb",
   "metadata": {},
   "outputs": [],
   "source": [
    "mon_df.head"
   ]
  }
 ],
 "metadata": {
  "kernelspec": {
   "display_name": "Python 3 (ipykernel)",
   "language": "python",
   "name": "python3"
  },
  "language_info": {
   "codemirror_mode": {
    "name": "ipython",
    "version": 3
   },
   "file_extension": ".py",
   "mimetype": "text/x-python",
   "name": "python",
   "nbconvert_exporter": "python",
   "pygments_lexer": "ipython3",
   "version": "3.11.10"
  }
 },
 "nbformat": 4,
 "nbformat_minor": 5
}
