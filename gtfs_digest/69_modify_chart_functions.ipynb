{
 "cells": [
  {
   "cell_type": "code",
   "execution_count": null,
   "id": "cb03c6e3-c104-41be-b7e7-e14612f45e88",
   "metadata": {
    "tags": []
   },
   "outputs": [],
   "source": [
    "import altair as alt\n",
    "import pandas as pd\n",
    "from omegaconf import OmegaConf\n",
    "\n",
    "from update_vars import GTFS_DATA_DICT, RT_SCHED_GCS, SCHED_GCS, SEGMENT_GCS\n",
    "\n",
    "import _report_visuals_utils\n",
    "import viz_data_prep\n",
    "\n",
    "readable_dict = OmegaConf.load(\"readable2.yml\")"
   ]
  },
  {
   "cell_type": "code",
   "execution_count": null,
   "id": "57a65238-fdbe-447b-8a77-ee7c956bf469",
   "metadata": {
    "tags": []
   },
   "outputs": [],
   "source": [
    "FILE = GTFS_DATA_DICT.digest_tables.route_schedule_vp\n",
    "\n",
    "# some of the portfolio grain can be dealt with\n",
    "# but separate out the renaming/replacing/subsetting to separate script\n",
    "\n",
    "df = pd.read_parquet(\n",
    "    f\"{RT_SCHED_GCS}{FILE}.parquet\",\n",
    "    filters = [[\n",
    "        (\"portfolio_organization_name\", \"==\", \"City of West Hollywood\"),\n",
    "        (\"recent_combined_name\", \"in\", [\"Cityline Local-East\", \"Cityline Local-West\"])\n",
    "    ]]\n",
    ").pipe(\n",
    "    viz_data_prep.data_wrangling_for_visualizing,\n",
    "    viz_data_prep.route_direction_cols_for_viz,\n",
    "    viz_data_prep.readable_col_names\n",
    ")"
   ]
  },
  {
   "cell_type": "code",
   "execution_count": null,
   "id": "ce1347ce-2ea7-4918-ae14-75f70548bbab",
   "metadata": {
    "tags": []
   },
   "outputs": [],
   "source": [
    "from IPython.display import HTML, display\n",
    "\n",
    "# Set drop down menu to be on the upper right for the charts\n",
    "display(\n",
    "    HTML(\n",
    "        \"\"\"\n",
    "<style>\n",
    "form.vega-bindings {\n",
    "  position: absolute;\n",
    "  right: 0px;\n",
    "  top: 0px;\n",
    "}\n",
    "</style>\n",
    "\"\"\"\n",
    "    )\n",
    ")"
   ]
  },
  {
   "cell_type": "code",
   "execution_count": null,
   "id": "295813ce-e3ad-4d99-bcaa-bbe54467d1b8",
   "metadata": {
    "tags": []
   },
   "outputs": [],
   "source": [
    "def route_filter(df):\n",
    "    routes_list = df[\"Route\"].unique().tolist()\n",
    "\n",
    "    route_dropdown = alt.binding_select(\n",
    "        options=routes_list,\n",
    "        name=\"Routes: \",\n",
    "    )\n",
    "    # Column that controls the bar charts\n",
    "    xcol_param = alt.selection_point(\n",
    "        fields=[\"Route\"], value=routes_list[0], bind=route_dropdown\n",
    "    )\n",
    "    \n",
    "    \n",
    "    chart1 = (\n",
    "        _report_visuals_utils.sample_spatial_accuracy_chart(df[df.Period==\"All Day\"])\n",
    "        .add_params(xcol_param)\n",
    "        .transform_filter(xcol_param)\n",
    "    ) \n",
    "\n",
    "    chart2 = (\n",
    "        _report_visuals_utils.sample_avg_scheduled_min_chart(df[df.Period==\"All Day\"])\n",
    "        .add_params(xcol_param)\n",
    "        .transform_filter(xcol_param)\n",
    "    \n",
    "    )\n",
    "    \n",
    "    chart_list = [\n",
    "        #chart1,\n",
    "        chart2\n",
    "    ]\n",
    "    chart = alt.vconcat(*chart_list)\n",
    "\n",
    "    \n",
    "    return chart\n",
    " "
   ]
  },
  {
   "cell_type": "code",
   "execution_count": null,
   "id": "408bbceb-9cb6-4b1b-a984-a70833199238",
   "metadata": {
    "tags": []
   },
   "outputs": [],
   "source": [
    "route_filter(df)"
   ]
  },
  {
   "cell_type": "code",
   "execution_count": null,
   "id": "1447c728-c5b0-4a3d-ac15-bc48e6ab9d80",
   "metadata": {},
   "outputs": [],
   "source": []
  }
 ],
 "metadata": {
  "kernelspec": {
   "display_name": "Python 3 (ipykernel)",
   "language": "python",
   "name": "python3"
  },
  "language_info": {
   "codemirror_mode": {
    "name": "ipython",
    "version": 3
   },
   "file_extension": ".py",
   "mimetype": "text/x-python",
   "name": "python",
   "nbconvert_exporter": "python",
   "pygments_lexer": "ipython3",
   "version": "3.11.10"
  }
 },
 "nbformat": 4,
 "nbformat_minor": 5
}
