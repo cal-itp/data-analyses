{
 "cells": [
  {
   "cell_type": "code",
   "execution_count": null,
   "id": "cb03c6e3-c104-41be-b7e7-e14612f45e88",
   "metadata": {
    "tags": []
   },
   "outputs": [],
   "source": [
    "import _report_visuals_utils\n",
    "import altair as alt\n",
    "import pandas as pd\n",
    "import viz_data_prep\n",
    "from omegaconf import OmegaConf\n",
    "from update_vars import GTFS_DATA_DICT, RT_SCHED_GCS, SCHED_GCS, SEGMENT_GCS\n",
    "\n",
    "readable_dict = OmegaConf.load(\"readable2.yml\")"
   ]
  },
  {
   "cell_type": "code",
   "execution_count": null,
   "id": "7b5f1cc2-b20c-4423-92f3-041db1858eef",
   "metadata": {
    "tags": []
   },
   "outputs": [],
   "source": [
    "from omegaconf import OmegaConf\n",
    "\n",
    "readable_dict = OmegaConf.load(\"readable2.yml\")"
   ]
  },
  {
   "cell_type": "code",
   "execution_count": null,
   "id": "57a65238-fdbe-447b-8a77-ee7c956bf469",
   "metadata": {
    "tags": []
   },
   "outputs": [],
   "source": [
    "FILE = GTFS_DATA_DICT.digest_tables.route_schedule_vp\n",
    "\n",
    "# some of the portfolio grain can be dealt with\n",
    "# but separate out the renaming/replacing/subsetting to separate script\n",
    "\n",
    "df = pd.read_parquet(\n",
    "    f\"{RT_SCHED_GCS}{FILE}.parquet\",\n",
    "    filters=[\n",
    "        [\n",
    "            (\"portfolio_organization_name\", \"==\", \"City of West Hollywood\"),\n",
    "            (\n",
    "                \"recent_combined_name\",\n",
    "                \"in\",\n",
    "                [\"Cityline Local-East\", \"Cityline Local-West\"],\n",
    "            ),\n",
    "        ]\n",
    "    ],\n",
    ").pipe(\n",
    "    viz_data_prep.data_wrangling_for_visualizing,\n",
    "    viz_data_prep.route_direction_cols_for_viz,\n",
    "    viz_data_prep.readable_col_names,\n",
    ")"
   ]
  },
  {
   "cell_type": "code",
   "execution_count": null,
   "id": "42bfbe36-37e9-4b66-9c64-5a73cffb58d2",
   "metadata": {
    "tags": []
   },
   "outputs": [],
   "source": [
    "df.head(2)"
   ]
  },
  {
   "cell_type": "code",
   "execution_count": null,
   "id": "ce1347ce-2ea7-4918-ae14-75f70548bbab",
   "metadata": {
    "tags": []
   },
   "outputs": [],
   "source": [
    "from IPython.display import HTML, display\n",
    "\n",
    "# Set drop down menu to be on the upper right for the charts\n",
    "display(\n",
    "    HTML(\n",
    "        \"\"\"\n",
    "<style>\n",
    "form.vega-bindings {\n",
    "  position: absolute;\n",
    "  right: 0px;\n",
    "  top: 0px;\n",
    "}\n",
    "</style>\n",
    "\"\"\"\n",
    "    )\n",
    ")"
   ]
  },
  {
   "cell_type": "code",
   "execution_count": null,
   "id": "3348c300-9847-45f5-a398-e11fba8ff0d9",
   "metadata": {
    "tags": []
   },
   "outputs": [],
   "source": [
    "data_quality = _report_visuals_utils.divider_chart(\n",
    "    df, readable_dict.data_quality_graph.title\n",
    ")"
   ]
  },
  {
   "cell_type": "code",
   "execution_count": null,
   "id": "295813ce-e3ad-4d99-bcaa-bbe54467d1b8",
   "metadata": {
    "tags": []
   },
   "outputs": [],
   "source": [
    "def route_filter(df):\n",
    "    routes_list = df[\"Route\"].unique().tolist()\n",
    "\n",
    "    route_dropdown = alt.binding_select(\n",
    "        options=routes_list,\n",
    "        name=\"Routes: \",\n",
    "    )\n",
    "    # Column that controls the bar charts\n",
    "    xcol_param = alt.selection_point(\n",
    "        fields=[\"Route\"], value=routes_list[0], bind=route_dropdown\n",
    "    )\n",
    "\n",
    "    # Charts\n",
    "    spatial_accuracy = (\n",
    "        _report_visuals_utils.sample_spatial_accuracy_chart(df[df.Period == \"All Day\"])\n",
    "        .add_params(xcol_param)\n",
    "        .transform_filter(xcol_param)\n",
    "    )\n",
    "\n",
    "    avg_scheduled_min = (\n",
    "        _report_visuals_utils.sample_avg_scheduled_min_chart(df[df.Period == \"All Day\"])\n",
    "        .add_params(xcol_param)\n",
    "        .transform_filter(xcol_param)\n",
    "    )\n",
    "\n",
    "    vp_per_minute = (\n",
    "        _report_visuals_utils.vp_per_minute_chart(df[df.Period == \"All Day\"])\n",
    "        .add_params(xcol_param)\n",
    "        .transform_filter(xcol_param)\n",
    "    )\n",
    "\n",
    "    speed = (\n",
    "        _report_visuals_utils.speed_chart(df)\n",
    "        .add_params(xcol_param)\n",
    "        .transform_filter(xcol_param)\n",
    "    )\n",
    "\n",
    "    sched_vp_per_min = (\n",
    "        _report_visuals_utils.sched_vp_per_min_chart(df[df.Period == \"All Day\"])\n",
    "        .add_params(xcol_param)\n",
    "        .transform_filter(xcol_param)\n",
    "    )\n",
    "\n",
    "    text_dir0 = (\n",
    "        _report_visuals_utils.text_chart(df, 0)\n",
    "        .add_params(xcol_param)\n",
    "        .transform_filter(xcol_param)\n",
    "    )\n",
    "\n",
    "    text_dir1 = (\n",
    "        _report_visuals_utils.text_chart(df, 1)\n",
    "        .add_params(xcol_param)\n",
    "        .transform_filter(xcol_param)\n",
    "    )\n",
    "    \n",
    "    timeliness_dir0 =(\n",
    "        _report_visuals_utils.timeliness_chart(df[df.Period == \"All Day\"], 0)\n",
    "        .add_params(xcol_param)\n",
    "        .transform_filter(xcol_param)\n",
    "    )\n",
    "    \n",
    "    timeliness_dir1 =(\n",
    "        _report_visuals_utils.timeliness_chart(df[df.Period == \"All Day\"], 1)\n",
    "        .add_params(xcol_param)\n",
    "        .transform_filter(xcol_param)\n",
    "    )\n",
    "    \n",
    "    n_scheduled_dir0 = (\n",
    "        _report_visuals_utils.total_scheduled_trips_chart(df[df.Period == \"All Day\"], 0)\n",
    "        .add_params(xcol_param)\n",
    "        .transform_filter(xcol_param)\n",
    "    )\n",
    "    \n",
    "    n_scheduled_dir1 = (\n",
    "        _report_visuals_utils.total_scheduled_trips_chart(df[df.Period == \"All Day\"], 1)\n",
    "        .add_params(xcol_param)\n",
    "        .transform_filter(xcol_param)\n",
    "    )\n",
    "    \n",
    "    n_freq_dir0 = (\n",
    "        _report_visuals_utils.headway_chart(df[df.Period != \"All Day\"], 0)\n",
    "        .add_params(xcol_param)\n",
    "        .transform_filter(xcol_param)\n",
    "    )\n",
    "    \n",
    "    n_freq_dir1 = (\n",
    "        _report_visuals_utils.headway_chart(df[df.Period != \"All Day\"], 1)\n",
    "        .add_params(xcol_param)\n",
    "        .transform_filter(xcol_param)\n",
    "    )\n",
    "    # Divider Charts\n",
    "    data_quality = _report_visuals_utils.divider_chart(\n",
    "        df, readable_dict.data_quality_graph.title\n",
    "    )\n",
    "    rider_quality = _report_visuals_utils.divider_chart(\n",
    "        df, readable_dict.rider_quality_graph.title\n",
    "    )\n",
    "    summary = _report_visuals_utils.divider_chart(df, readable_dict.summary_graph.title)\n",
    "\n",
    "    chart_list = [\n",
    "        summary,\n",
    "        text_dir0,\n",
    "        text_dir1,\n",
    "        rider_quality,\n",
    "        avg_scheduled_min,\n",
    "        timeliness_dir0,\n",
    "        timeliness_dir1,\n",
    "        n_freq_dir0,\n",
    "        n_scheduled_dir0,\n",
    "        n_freq_dir1,\n",
    "        n_scheduled_dir1,\n",
    "        speed,\n",
    "        data_quality,\n",
    "        spatial_accuracy,\n",
    "        vp_per_minute,\n",
    "        \n",
    "        sched_vp_per_min,\n",
    "    ]\n",
    "    chart = alt.vconcat(*chart_list)\n",
    "\n",
    "    return chart"
   ]
  },
  {
   "cell_type": "code",
   "execution_count": null,
   "id": "408bbceb-9cb6-4b1b-a984-a70833199238",
   "metadata": {
    "tags": []
   },
   "outputs": [],
   "source": [
    "route_filter(df)"
   ]
  },
  {
   "cell_type": "markdown",
   "id": "977aa530-b07d-46e4-a1d2-1a0a00947ac8",
   "metadata": {},
   "source": [
    "## VP per Minute"
   ]
  },
  {
   "cell_type": "code",
   "execution_count": null,
   "id": "b0c5415e-9ff1-4401-b46e-05652fb6bf4c",
   "metadata": {
    "tags": []
   },
   "outputs": [],
   "source": [
    "def vp_per_minute_chart(df: pd.DataFrame) -> alt.Chart:\n",
    "    specific_chart_dict = readable_dict.vp_per_min_graph\n",
    "    ruler = _report_visuals_utils.ruler_chart(df, 3)\n",
    "\n",
    "    bar = _report_visuals_utils.bar_chart(\n",
    "        x_col=\"Date\",\n",
    "        y_col=\"Average VP per Minute\",\n",
    "        color_col=\"Average VP per Minute\",\n",
    "        color_scheme=[*specific_chart_dict.colors],\n",
    "        tooltip_cols=[*specific_chart_dict.tooltip],\n",
    "        date_format=\"%b %Y\",\n",
    "    )\n",
    "\n",
    "    # write this way so that the df is inherited by .facet\n",
    "    chart = alt.layer(bar, ruler, data=df).properties(width=200, height=250)\n",
    "    chart = chart.facet(\n",
    "        column=alt.Column(\n",
    "            \"Direction:N\",\n",
    "        )\n",
    "    ).properties(\n",
    "        title={\n",
    "            \"text\": specific_chart_dict.title,\n",
    "            \"subtitle\": specific_chart_dict.subtitle,\n",
    "        }\n",
    "    )\n",
    "    return chart"
   ]
  },
  {
   "cell_type": "code",
   "execution_count": null,
   "id": "700635a7-ccc4-44cd-8aaa-c90d68d0ac10",
   "metadata": {
    "tags": []
   },
   "outputs": [],
   "source": [
    "vp_per_minute_chart(df[df.Period == \"All Day\"])"
   ]
  },
  {
   "cell_type": "markdown",
   "id": "48b952c6-6754-4441-9dc7-7a968c73aca2",
   "metadata": {},
   "source": [
    "## Text Tables"
   ]
  },
  {
   "cell_type": "code",
   "execution_count": null,
   "id": "f96ccd00-7b1a-4c0d-944e-068afdd42353",
   "metadata": {
    "tags": []
   },
   "outputs": [],
   "source": [
    "def reshape_route_stats(df: pd.DataFrame) -> pd.DataFrame:\n",
    "    \"\"\"\n",
    "    Find overall statistics for a route.\n",
    "    This dataframe backs the last two text table charts.\n",
    "    \"\"\"\n",
    "    most_recent_date = df[\"Date\"].max()\n",
    "    route_merge_cols = [\"Route\", \"Direction\", \"Direction (0/1)\"]\n",
    "\n",
    "    # Filter out for the most recent date.\n",
    "    # Create 3 separate dataframes for all day, peak, and offpeak.\n",
    "    all_day_stats = df[(df[\"Date\"] == most_recent_date) & (df[\"Period\"] == \"All Day\")][\n",
    "        route_merge_cols\n",
    "        + [\n",
    "            \"Average Scheduled Service (trip minutes)\",\n",
    "            \"Average Stop Distance (Miles)\",\n",
    "            \"# Scheduled Trips\",\n",
    "            \"GTFS Availability\",\n",
    "        ]\n",
    "    ]\n",
    "\n",
    "    peak_stats = df[(df[\"Date\"] == most_recent_date) & (df[\"Period\"] == \"Peak\")][\n",
    "        route_merge_cols + [\"Speed (MPH)\", \"# Scheduled Trips\", \"Headway (Minutes)\"]\n",
    "    ].rename(\n",
    "        columns={\n",
    "            \"Speed (MPH)\": \"Peak Avg Speed (MPH)\",\n",
    "            \"# Scheduled Trips\": \"peak_scheduled_trips\",\n",
    "            \"Headway (Minutes)\": \"Peak Headway (Minutes)\",\n",
    "        }\n",
    "    )\n",
    "\n",
    "    offpeak_stats = df[(df[\"Date\"] == most_recent_date) & (df[\"Period\"] == \"Offpeak\")][\n",
    "        route_merge_cols + [\"Speed (MPH)\", \"# Scheduled Trips\", \"Headway (Minutes)\"]\n",
    "    ].rename(\n",
    "        columns={\n",
    "            \"Speed (MPH)\": \"Offpeak Avg Speed (MPH)\",\n",
    "            \"# Scheduled Trips\": \"offpeak_scheduled_trips\",\n",
    "            \"Headway (Minutes)\": \"Offpeak Headway (Minutes)\",\n",
    "        }\n",
    "    )\n",
    "\n",
    "    table_df = (\n",
    "        pd.merge(all_day_stats, peak_stats, on=route_merge_cols, how=\"outer\")\n",
    "        .merge(offpeak_stats, on=route_merge_cols, how=\"outer\")\n",
    "        .sort_values([\"Route\", \"Direction\"])\n",
    "        .reset_index(drop=True)\n",
    "    )\n",
    "\n",
    "    # Fill nans\n",
    "    numeric_cols = table_df.select_dtypes(include=\"number\").columns\n",
    "    table_df[numeric_cols] = table_df[numeric_cols].fillna(0)\n",
    "\n",
    "    # Clean up column names\n",
    "    table_df.columns = table_df.columns.str.title().str.replace(\"_\", \" \")\n",
    "\n",
    "    # Add back date\n",
    "    table_df[\"Date\"] = most_recent_date\n",
    "    return table_df"
   ]
  },
  {
   "cell_type": "code",
   "execution_count": null,
   "id": "edd2a2a1-59f4-4d38-a5dc-69c902e3b5e2",
   "metadata": {
    "tags": []
   },
   "outputs": [],
   "source": [
    "route_stats_df = reshape_route_stats(df)"
   ]
  },
  {
   "cell_type": "code",
   "execution_count": null,
   "id": "c542119b-614a-4260-9930-ab2de4f20b5e",
   "metadata": {
    "tags": []
   },
   "outputs": [],
   "source": [
    "def reshape_df_text_table(df: pd.DataFrame) -> pd.DataFrame:\n",
    "\n",
    "    # Create the dataframe first\n",
    "    route_stats_df = reshape_route_stats(df)\n",
    "\n",
    "    # Reshape dataframe before plotting\n",
    "    melt1 = route_stats_df.melt(\n",
    "        id_vars=[\n",
    "            \"Date\",\n",
    "            \"Route\",\n",
    "            \"Direction\",\n",
    "            \"Direction (0/1)\",\n",
    "        ],\n",
    "        value_vars=[\n",
    "            \"Average Scheduled Service (Trip Minutes)\",\n",
    "            \"Average Stop Distance (Miles)\",\n",
    "            \"# Scheduled Trips\",\n",
    "            \"Gtfs Availability\",\n",
    "            \"Peak Avg Speed (Mph)\",\n",
    "            \"Peak Scheduled Trips\",\n",
    "            \"Peak Headway (Minutes)\",\n",
    "            \"Offpeak Avg Speed (Mph)\",\n",
    "            \"Offpeak Scheduled Trips\",\n",
    "            \"Offpeak Headway (Minutes)\",\n",
    "        ],\n",
    "    )\n",
    "\n",
    "    # Create a decoy column so all the text will be centered.\n",
    "    melt1[\"Zero\"] = 0\n",
    "\n",
    "    # Combine columns so the column title and variable will be aligned.\n",
    "    # Ex: \"Trips Per Hour: 0.56\". This column is what will show up on the\n",
    "    # graphs.\n",
    "    melt1[\"combo_col\"] = melt1.variable.astype(str) + \": \" + melt1.value.astype(str)\n",
    "\n",
    "    # Clean up\n",
    "    melt1.combo_col = melt1.combo_col.str.replace(\n",
    "        \"schedule_and_vp\",\n",
    "        \"Schedule and Realtime Data\",\n",
    "    ).str.replace(\"Gtfs\", \"GTFS\")\n",
    "\n",
    "    return melt1"
   ]
  },
  {
   "cell_type": "code",
   "execution_count": null,
   "id": "816ec03e-b74e-43bc-a6d4-6ea5a9654fb4",
   "metadata": {},
   "outputs": [],
   "source": [
    "def text_chart(df: pd.DataFrame, direction: int) -> alt.Chart:\n",
    "\n",
    "    specific_chart_dict = readable_dict.text_graph\n",
    "\n",
    "    # Filter to one direction only\n",
    "    df2 = df.loc[df[\"Direction (0/1)\"] == direction]\n",
    "\n",
    "    # Reshape df for text table and filter for only one direction\n",
    "    text_table_df = reshape_df_text_table(df2)\n",
    "\n",
    "    chart = _report_visuals_utils.text_table(text_table_df)\n",
    "\n",
    "    # Grab cardinal direction value to use for the title\n",
    "    direction_str = text_table_df[\"Direction\"].iloc[0]\n",
    "\n",
    "    # Grab most recent date\n",
    "    date_str = text_table_df[\"Date\"].iloc[0].strftime(\"%B %Y\")\n",
    "\n",
    "    # write this way so that the df is inherited by .facet\n",
    "    chart = _report_visuals_utils.configure_chart(\n",
    "        chart,\n",
    "        width=400,\n",
    "        height=250,\n",
    "        title=f\"{specific_chart_dict.title}{direction_str} Vehicles\",\n",
    "        subtitle=f\"{specific_chart_dict.subtitle} {date_str}\",\n",
    "    )\n",
    "    return chart"
   ]
  },
  {
   "cell_type": "code",
   "execution_count": null,
   "id": "e9374c28-affa-4b98-91f0-0f453ae8026a",
   "metadata": {
    "tags": []
   },
   "outputs": [],
   "source": [
    "text_chart(df, 0)"
   ]
  },
  {
   "cell_type": "markdown",
   "id": "0b7fed53-ce6b-4050-8191-94ab63597578",
   "metadata": {},
   "source": [
    "## Timeliness"
   ]
  },
  {
   "cell_type": "code",
   "execution_count": null,
   "id": "8255dff0-4bc9-486b-a97b-ec1355850469",
   "metadata": {
    "tags": []
   },
   "outputs": [],
   "source": [
    "def reshape_timeliness_trips(df: pd.DataFrame) -> pd.DataFrame:\n",
    "    \"\"\"\n",
    "    Reshape dataframe for the charts that illustrate\n",
    "    how timely a route's trips are.\n",
    "    \"\"\"\n",
    "\n",
    "    melted_df = df.melt(\n",
    "        id_vars=[\n",
    "            \"Date\",\n",
    "            \"Portfolio Organization Name\",\n",
    "            \"Route\",\n",
    "            \"Period\",\n",
    "            \"Direction\",\n",
    "            \"Direction (0/1)\",\n",
    "            \"# Realtime Trips\",\n",
    "        ],\n",
    "        value_vars=[\n",
    "            \"# Early Arrival Trips\",\n",
    "            \"# On-Time Trips\",\n",
    "            \"# Late Trips\",\n",
    "        ],\n",
    "    )\n",
    "\n",
    "    melted_df[\"Percentage\"] = (melted_df.value / melted_df[\"# Realtime Trips\"]) * 100\n",
    "\n",
    "    return melted_df"
   ]
  },
  {
   "cell_type": "code",
   "execution_count": null,
   "id": "86f4eae0-711a-4b0b-8d4e-27e617465604",
   "metadata": {
    "tags": []
   },
   "outputs": [],
   "source": [
    "def timeliness_chart(df: pd.DataFrame, direction: int) -> alt.Chart:\n",
    "\n",
    "    # Filter to one direction only\n",
    "    df = df.loc[df[\"Direction (0/1)\"] == direction]\n",
    "\n",
    "    # Reshape dataframe from wide to long\n",
    "    df2 = reshape_timeliness_trips(df)\n",
    "\n",
    "    # Grab cardinal direction value to use for the title\n",
    "    direction_str = df2[\"Direction\"].iloc[0]\n",
    "\n",
    "    specific_chart_dict = readable_dict.timeliness_trips_graph\n",
    "\n",
    "    chart = _report_visuals_utils.line_chart(\n",
    "        df=df2,\n",
    "        x_col=\"Date\",\n",
    "        y_col=\"Percentage\",\n",
    "        color_col=\"variable\",\n",
    "        color_scheme=[*specific_chart_dict.colors],\n",
    "        tooltip_cols=[*specific_chart_dict.tooltip],\n",
    "    ).properties(width=200, height=250)\n",
    "\n",
    "    chart = chart.facet(\n",
    "        column=alt.Column(\n",
    "            \"Direction:N\",\n",
    "        )\n",
    "    ).properties(\n",
    "        title={\n",
    "            \"text\": f\"{specific_chart_dict.title}{direction_str} Vehicles\",\n",
    "            \"subtitle\": specific_chart_dict.subtitle,\n",
    "        }\n",
    "    )\n",
    "    return chart"
   ]
  },
  {
   "cell_type": "code",
   "execution_count": null,
   "id": "54d0d888-9d2a-4d59-bf91-410b4b3d1c72",
   "metadata": {
    "tags": []
   },
   "outputs": [],
   "source": [
    "timeliness_chart(df[df.Period == \"All Day\"], 0)"
   ]
  },
  {
   "cell_type": "markdown",
   "id": "0cda8de1-d03c-4641-bc28-d22596c6769d",
   "metadata": {},
   "source": [
    "## Total Scheduled Trips"
   ]
  },
  {
   "cell_type": "code",
   "execution_count": null,
   "id": "5abfb11a-2963-420f-b3cf-6c937a12d960",
   "metadata": {
    "tags": []
   },
   "outputs": [],
   "source": [
    "def total_scheduled_trips_chart(df: pd.DataFrame, direction: int) -> alt.Chart:\n",
    "    # Filter to one direction only\n",
    "    df = df.loc[df[\"Direction (0/1)\"] == direction]\n",
    "\n",
    "    # Grab cardinal direction value to use for the title\n",
    "    direction_str = df[\"Direction\"].iloc[0]\n",
    "\n",
    "    specific_chart_dict = readable_dict.n_scheduled_graph\n",
    "\n",
    "    chart = _report_visuals_utils.bar_chart(\n",
    "        x_col=\"Date:T\",\n",
    "        y_col=\"# Scheduled Trips\",\n",
    "        color_col=\"Period:N\",\n",
    "        color_scheme=[*specific_chart_dict.colors],\n",
    "        tooltip_cols=[*specific_chart_dict.tooltip],\n",
    "        date_format=\"%b %Y\",\n",
    "    )\n",
    "\n",
    "    chart = alt.layer(chart, data=df)\n",
    "\n",
    "    # write this way so that the df is inherited by .facet\n",
    "    chart = _report_visuals_utils.configure_chart(\n",
    "        chart,\n",
    "        width=400,\n",
    "        height=250,\n",
    "        title=f\"{specific_chart_dict.title}{direction_str} Vehicles\",\n",
    "        subtitle=specific_chart_dict.subtitle,\n",
    "    )\n",
    "    return chart"
   ]
  },
  {
   "cell_type": "code",
   "execution_count": null,
   "id": "af4879ca-b4a0-420e-ba84-4d80463d3155",
   "metadata": {
    "tags": []
   },
   "outputs": [],
   "source": [
    "total_scheduled_trips_chart(df.loc[df[\"Period\"] != \"All Day\"], 0)"
   ]
  },
  {
   "cell_type": "markdown",
   "id": "8293e523-f008-4a8d-82f1-45b65774edb9",
   "metadata": {},
   "source": [
    "## Frequency"
   ]
  },
  {
   "cell_type": "code",
   "execution_count": null,
   "id": "043a5287-e91d-4155-9dda-f0a0054f3484",
   "metadata": {
    "tags": []
   },
   "outputs": [],
   "source": [
    "def headway_chart(df: pd.DataFrame, direction: int) -> alt.Chart:\n",
    "\n",
    "    # Filter to one direction only\n",
    "    df = df.loc[df[\"Direction (0/1)\"] == direction]\n",
    "\n",
    "    # Grab cardinal direction value to use for the title\n",
    "    direction_str = df[\"Direction\"].iloc[0]\n",
    "\n",
    "    specific_chart_dict = readable_dict.frequency_graph\n",
    "\n",
    "    chart = _report_visuals_utils.bar_chart(\n",
    "        x_col=\"Date:T\",\n",
    "        y_col=\"Headway (Minutes)\",\n",
    "        color_col=\"Headway (Minutes):N\",\n",
    "        color_scheme=[*specific_chart_dict.colors],\n",
    "        tooltip_cols=[*specific_chart_dict.tooltip],\n",
    "        date_format=\"%b %Y\",\n",
    "    )\n",
    "\n",
    "    chart = (\n",
    "        alt.layer(chart, data=df)\n",
    "        .encode(y=alt.Y(\"Headway (Minutes)\", scale=alt.Scale(domain=[0, 250])))\n",
    "        .properties(width=200, height=250)\n",
    "    )\n",
    "\n",
    "    chart = chart.facet(\n",
    "        column=alt.Column(\n",
    "            \"Period:N\",\n",
    "        )\n",
    "    ).properties(\n",
    "        title={\n",
    "            \"text\": f\"{specific_chart_dict.title} {direction_str} Vehicles\",\n",
    "            \"subtitle\": specific_chart_dict.subtitle,\n",
    "        }\n",
    "    )\n",
    "    return chart"
   ]
  },
  {
   "cell_type": "code",
   "execution_count": null,
   "id": "af12095d-74ff-43e3-bcac-b41e0ec2fa05",
   "metadata": {
    "tags": []
   },
   "outputs": [],
   "source": [
    "headway_chart(df.loc[df.Period != \"All Day\"], 0)"
   ]
  },
  {
   "cell_type": "markdown",
   "id": "220dea30-db33-46d4-a9e8-09d65a435f27",
   "metadata": {},
   "source": [
    "## Speed MPH "
   ]
  },
  {
   "cell_type": "code",
   "execution_count": null,
   "id": "be996569-a2b0-46a8-a2f0-42d2ac238791",
   "metadata": {
    "tags": []
   },
   "outputs": [],
   "source": [
    "def speed_chart(df) -> alt.Chart:\n",
    "    specific_chart_dict = readable_dict.speed_graph\n",
    "\n",
    "    chart = _report_visuals_utils.line_chart(\n",
    "        df=df,\n",
    "        x_col=\"Date\",\n",
    "        y_col=\"Speed (MPH)\",\n",
    "        color_col=\"Period\",\n",
    "        color_scheme=[*specific_chart_dict.colors],\n",
    "        tooltip_cols=[*specific_chart_dict.tooltip],\n",
    "    ).properties(width=200, height=250)\n",
    "\n",
    "    chart = chart.facet(\n",
    "        column=alt.Column(\n",
    "            \"Direction:N\",\n",
    "        )\n",
    "    ).properties(\n",
    "        title={\n",
    "            \"text\": specific_chart_dict.title,\n",
    "            \"subtitle\": specific_chart_dict.subtitle,\n",
    "        }\n",
    "    )\n",
    "    return chart"
   ]
  },
  {
   "cell_type": "code",
   "execution_count": null,
   "id": "9903357f-5420-4d7d-ad3a-c6173d266801",
   "metadata": {
    "tags": []
   },
   "outputs": [],
   "source": [
    "speed_chart(df)"
   ]
  },
  {
   "cell_type": "markdown",
   "id": "77022115-9e34-4d90-ab20-5c31cd26abcb",
   "metadata": {},
   "source": [
    "## % of Scheduled Trip with 1+/2+ VPs"
   ]
  },
  {
   "cell_type": "code",
   "execution_count": null,
   "id": "20fe77c2-7baf-4754-9c02-f1d96b5cbe26",
   "metadata": {
    "tags": []
   },
   "outputs": [],
   "source": [
    "def reshape_pct_journey_with_vp(df: pd.DataFrame) -> pd.DataFrame:\n",
    "    \"\"\"\n",
    "    Reshape the data for the charts that display the % of\n",
    "    a journey that recorded 2+ vehicle positions/minute.\n",
    "    \"\"\"\n",
    "    to_keep = [\n",
    "        \"Date\",\n",
    "        \"Portfolio Organization Name\",\n",
    "        \"Direction\",\n",
    "        \"% Scheduled Trip w/ 1+ VP/Minute\",\n",
    "        \"% Scheduled Trip w/ 2+ VP/Minute\",\n",
    "        \"Route\",\n",
    "        \"Period\",\n",
    "    ]\n",
    "    df2 = df[to_keep]\n",
    "\n",
    "    df3 = df2.melt(\n",
    "        id_vars=[\n",
    "            \"Date\",\n",
    "            \"Portfolio Organization Name\",\n",
    "            \"Route\",\n",
    "            \"Direction\",\n",
    "            \"Period\",\n",
    "        ],\n",
    "        value_vars=[\n",
    "            \"% Scheduled Trip w/ 1+ VP/Minute\",\n",
    "            \"% Scheduled Trip w/ 2+ VP/Minute\",\n",
    "        ],\n",
    "    )\n",
    "\n",
    "    df3 = df3.rename(columns={\"variable\": \"Category\", \"value\": \"% of Trip Duration\"})\n",
    "\n",
    "    return df3"
   ]
  },
  {
   "cell_type": "code",
   "execution_count": null,
   "id": "008a8dd1-9594-4e4b-86eb-2f96460a54f7",
   "metadata": {},
   "outputs": [],
   "source": [
    "def sched_vp_per_min_chart(df) -> alt.Chart:\n",
    "\n",
    "    # Change df from wide to long\n",
    "    pct_journey_with_vp_df = reshape_pct_journey_with_vp(df)\n",
    "    specific_chart_dict = readable_dict.sched_vp_per_min_graph\n",
    "\n",
    "    ruler = _report_visuals_utils.ruler_chart(pct_journey_with_vp_df, 100)\n",
    "\n",
    "    circle = _report_visuals_utils.circle_chart(\n",
    "        df=pct_journey_with_vp_df,\n",
    "        x_col=\"Date\",\n",
    "        y_col=\"% of Trip Duration\",\n",
    "        color_col=\"Category\",\n",
    "        color_scheme=[*specific_chart_dict.colors],\n",
    "        tooltip_cols=[*specific_chart_dict.tooltip],\n",
    "    )\n",
    "\n",
    "    chart = alt.layer(circle, ruler, data=pct_journey_with_vp_df).properties(\n",
    "        width=200, height=250\n",
    "    )\n",
    "\n",
    "    chart = chart.facet(\n",
    "        column=alt.Column(\n",
    "            \"Direction:N\",\n",
    "        )\n",
    "    ).properties(\n",
    "        title={\n",
    "            \"text\": specific_chart_dict.title,\n",
    "            \"subtitle\": specific_chart_dict.subtitle,\n",
    "        }\n",
    "    )\n",
    "    return chart"
   ]
  },
  {
   "cell_type": "code",
   "execution_count": null,
   "id": "f31a5b66-2246-4620-b2af-c6653e2421a9",
   "metadata": {
    "tags": []
   },
   "outputs": [],
   "source": [
    "sched_vp_per_min_chart(df[df.Period == \"All Day\"])"
   ]
  }
 ],
 "metadata": {
  "kernelspec": {
   "display_name": "Python 3 (ipykernel)",
   "language": "python",
   "name": "python3"
  },
  "language_info": {
   "codemirror_mode": {
    "name": "ipython",
    "version": 3
   },
   "file_extension": ".py",
   "mimetype": "text/x-python",
   "name": "python",
   "nbconvert_exporter": "python",
   "pygments_lexer": "ipython3",
   "version": "3.11.10"
  }
 },
 "nbformat": 4,
 "nbformat_minor": 5
}
