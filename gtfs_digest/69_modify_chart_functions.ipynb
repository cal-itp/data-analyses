{
 "cells": [
  {
   "cell_type": "code",
   "execution_count": 1,
   "id": "cb03c6e3-c104-41be-b7e7-e14612f45e88",
   "metadata": {
    "tags": []
   },
   "outputs": [],
   "source": [
    "import altair as alt\n",
    "import pandas as pd\n",
    "from omegaconf import OmegaConf\n",
    "\n",
    "from update_vars import GTFS_DATA_DICT, RT_SCHED_GCS, SCHED_GCS, SEGMENT_GCS\n",
    "\n",
    "import _report_visuals_utils\n",
    "import viz_data_prep\n",
    "\n",
    "readable_dict = OmegaConf.load(\"readable2.yml\")"
   ]
  },
  {
   "cell_type": "code",
   "execution_count": 2,
   "id": "7b5f1cc2-b20c-4423-92f3-041db1858eef",
   "metadata": {
    "tags": []
   },
   "outputs": [],
   "source": [
    "from omegaconf import OmegaConf\n",
    "readable_dict = OmegaConf.load(\"readable2.yml\")\n"
   ]
  },
  {
   "cell_type": "code",
   "execution_count": 3,
   "id": "57a65238-fdbe-447b-8a77-ee7c956bf469",
   "metadata": {
    "tags": []
   },
   "outputs": [],
   "source": [
    "FILE = GTFS_DATA_DICT.digest_tables.route_schedule_vp\n",
    "\n",
    "# some of the portfolio grain can be dealt with\n",
    "# but separate out the renaming/replacing/subsetting to separate script\n",
    "\n",
    "df = pd.read_parquet(\n",
    "    f\"{RT_SCHED_GCS}{FILE}.parquet\",\n",
    "    filters = [[\n",
    "        (\"portfolio_organization_name\", \"==\", \"City of West Hollywood\"),\n",
    "        (\"recent_combined_name\", \"in\", [\"Cityline Local-East\", \"Cityline Local-West\"])\n",
    "    ]]\n",
    ").pipe(\n",
    "    viz_data_prep.data_wrangling_for_visualizing,\n",
    "    viz_data_prep.route_direction_cols_for_viz,\n",
    "    viz_data_prep.readable_col_names\n",
    ")"
   ]
  },
  {
   "cell_type": "code",
   "execution_count": 4,
   "id": "42bfbe36-37e9-4b66-9c64-5a73cffb58d2",
   "metadata": {
    "tags": []
   },
   "outputs": [
    {
     "data": {
      "text/html": [
       "<div>\n",
       "<style scoped>\n",
       "    .dataframe tbody tr th:only-of-type {\n",
       "        vertical-align: middle;\n",
       "    }\n",
       "\n",
       "    .dataframe tbody tr th {\n",
       "        vertical-align: top;\n",
       "    }\n",
       "\n",
       "    .dataframe thead th {\n",
       "        text-align: right;\n",
       "    }\n",
       "</style>\n",
       "<table border=\"1\" class=\"dataframe\">\n",
       "  <thead>\n",
       "    <tr style=\"text-align: right;\">\n",
       "      <th></th>\n",
       "      <th>Direction (0/1)</th>\n",
       "      <th>Period</th>\n",
       "      <th>Average Scheduled Service (trip minutes)</th>\n",
       "      <th># Scheduled Trips</th>\n",
       "      <th># Realtime Trips</th>\n",
       "      <th>Date</th>\n",
       "      <th>Route</th>\n",
       "      <th>Direction</th>\n",
       "      <th># Minutes with 1+ VP per Minute</th>\n",
       "      <th># Minutes with 2+ VP per Minute</th>\n",
       "      <th>...</th>\n",
       "      <th># Late Trips</th>\n",
       "      <th>Average VP per Minute</th>\n",
       "      <th>% VP within Scheduled Shape</th>\n",
       "      <th>% Scheduled Trip w/ 1+ VP/Minute</th>\n",
       "      <th>% Scheduled Trip w/ 2+ VP/Minute</th>\n",
       "      <th>Realtime versus Scheduled Service Ratio</th>\n",
       "      <th>Speed (MPH)</th>\n",
       "      <th>Portfolio Organization Name</th>\n",
       "      <th>Headway (Minutes)</th>\n",
       "      <th>sched_rt_category</th>\n",
       "    </tr>\n",
       "  </thead>\n",
       "  <tbody>\n",
       "    <tr>\n",
       "      <th>0</th>\n",
       "      <td>0</td>\n",
       "      <td>All Day</td>\n",
       "      <td>52.73</td>\n",
       "      <td>15</td>\n",
       "      <td>11</td>\n",
       "      <td>2023-03-15</td>\n",
       "      <td>Cityline Local-East</td>\n",
       "      <td>Eastbound</td>\n",
       "      <td>455</td>\n",
       "      <td>249</td>\n",
       "      <td>...</td>\n",
       "      <td>3</td>\n",
       "      <td>1.19</td>\n",
       "      <td>95.0</td>\n",
       "      <td>78.2</td>\n",
       "      <td>42.8</td>\n",
       "      <td>1.14</td>\n",
       "      <td>8.82</td>\n",
       "      <td>City of West Hollywood</td>\n",
       "      <td>96.77</td>\n",
       "      <td>schedule_and_vp</td>\n",
       "    </tr>\n",
       "    <tr>\n",
       "      <th>1</th>\n",
       "      <td>0</td>\n",
       "      <td>Offpeak</td>\n",
       "      <td>52.73</td>\n",
       "      <td>9</td>\n",
       "      <td>7</td>\n",
       "      <td>2023-03-15</td>\n",
       "      <td>Cityline Local-East</td>\n",
       "      <td>Eastbound</td>\n",
       "      <td>252</td>\n",
       "      <td>145</td>\n",
       "      <td>...</td>\n",
       "      <td>1</td>\n",
       "      <td>1.21</td>\n",
       "      <td>98.0</td>\n",
       "      <td>66.3</td>\n",
       "      <td>38.2</td>\n",
       "      <td>0.98</td>\n",
       "      <td>9.44</td>\n",
       "      <td>City of West Hollywood</td>\n",
       "      <td>107.14</td>\n",
       "      <td>schedule_and_vp</td>\n",
       "    </tr>\n",
       "  </tbody>\n",
       "</table>\n",
       "<p>2 rows × 22 columns</p>\n",
       "</div>"
      ],
      "text/plain": [
       "   Direction (0/1)   Period  Average Scheduled Service (trip minutes)  \\\n",
       "0                0  All Day                                     52.73   \n",
       "1                0  Offpeak                                     52.73   \n",
       "\n",
       "   # Scheduled Trips  # Realtime Trips       Date                Route  \\\n",
       "0                 15                11 2023-03-15  Cityline Local-East   \n",
       "1                  9                 7 2023-03-15  Cityline Local-East   \n",
       "\n",
       "   Direction  # Minutes with 1+ VP per Minute  \\\n",
       "0  Eastbound                              455   \n",
       "1  Eastbound                              252   \n",
       "\n",
       "   # Minutes with 2+ VP per Minute  ...  # Late Trips  Average VP per Minute  \\\n",
       "0                              249  ...             3                   1.19   \n",
       "1                              145  ...             1                   1.21   \n",
       "\n",
       "   % VP within Scheduled Shape  % Scheduled Trip w/ 1+ VP/Minute  \\\n",
       "0                         95.0                              78.2   \n",
       "1                         98.0                              66.3   \n",
       "\n",
       "   % Scheduled Trip w/ 2+ VP/Minute  Realtime versus Scheduled Service Ratio  \\\n",
       "0                              42.8                                     1.14   \n",
       "1                              38.2                                     0.98   \n",
       "\n",
       "   Speed (MPH)  Portfolio Organization Name  Headway (Minutes)  \\\n",
       "0         8.82       City of West Hollywood              96.77   \n",
       "1         9.44       City of West Hollywood             107.14   \n",
       "\n",
       "  sched_rt_category  \n",
       "0   schedule_and_vp  \n",
       "1   schedule_and_vp  \n",
       "\n",
       "[2 rows x 22 columns]"
      ]
     },
     "execution_count": 4,
     "metadata": {},
     "output_type": "execute_result"
    }
   ],
   "source": [
    "df.head(2)"
   ]
  },
  {
   "cell_type": "code",
   "execution_count": 5,
   "id": "ce1347ce-2ea7-4918-ae14-75f70548bbab",
   "metadata": {
    "tags": []
   },
   "outputs": [
    {
     "data": {
      "text/html": [
       "\n",
       "<style>\n",
       "form.vega-bindings {\n",
       "  position: absolute;\n",
       "  right: 0px;\n",
       "  top: 0px;\n",
       "}\n",
       "</style>\n"
      ],
      "text/plain": [
       "<IPython.core.display.HTML object>"
      ]
     },
     "metadata": {},
     "output_type": "display_data"
    }
   ],
   "source": [
    "from IPython.display import HTML, display\n",
    "\n",
    "# Set drop down menu to be on the upper right for the charts\n",
    "display(\n",
    "    HTML(\n",
    "        \"\"\"\n",
    "<style>\n",
    "form.vega-bindings {\n",
    "  position: absolute;\n",
    "  right: 0px;\n",
    "  top: 0px;\n",
    "}\n",
    "</style>\n",
    "\"\"\"\n",
    "    )\n",
    ")"
   ]
  },
  {
   "cell_type": "code",
   "execution_count": 6,
   "id": "295813ce-e3ad-4d99-bcaa-bbe54467d1b8",
   "metadata": {
    "tags": []
   },
   "outputs": [],
   "source": [
    "def route_filter(df):\n",
    "    routes_list = df[\"Route\"].unique().tolist()\n",
    "\n",
    "    route_dropdown = alt.binding_select(\n",
    "        options=routes_list,\n",
    "        name=\"Routes: \",\n",
    "    )\n",
    "    # Column that controls the bar charts\n",
    "    xcol_param = alt.selection_point(\n",
    "        fields=[\"Route\"], value=routes_list[0], bind=route_dropdown\n",
    "    )\n",
    "    \n",
    "    \n",
    "    chart1 = (\n",
    "        _report_visuals_utils.sample_spatial_accuracy_chart(df[df.Period==\"All Day\"])\n",
    "        .add_params(xcol_param)\n",
    "        .transform_filter(xcol_param)\n",
    "    ) \n",
    "\n",
    "    chart2 = (\n",
    "        _report_visuals_utils.sample_avg_scheduled_min_chart(df[df.Period==\"All Day\"])\n",
    "        .add_params(xcol_param)\n",
    "        .transform_filter(xcol_param)\n",
    "    \n",
    "    )\n",
    "    \n",
    "    chart_list = [\n",
    "        chart1,\n",
    "        chart2\n",
    "    ]\n",
    "    chart = alt.vconcat(*chart_list)\n",
    "\n",
    "    \n",
    "    return chart\n",
    " "
   ]
  },
  {
   "cell_type": "code",
   "execution_count": 7,
   "id": "408bbceb-9cb6-4b1b-a984-a70833199238",
   "metadata": {
    "tags": []
   },
   "outputs": [
    {
     "data": {
      "text/html": [
       "\n",
       "<style>\n",
       "  #altair-viz-db62975bd5094d23a31417c4cc85ef21.vega-embed {\n",
       "    width: 100%;\n",
       "    display: flex;\n",
       "  }\n",
       "\n",
       "  #altair-viz-db62975bd5094d23a31417c4cc85ef21.vega-embed details,\n",
       "  #altair-viz-db62975bd5094d23a31417c4cc85ef21.vega-embed details summary {\n",
       "    position: relative;\n",
       "  }\n",
       "</style>\n",
       "<div id=\"altair-viz-db62975bd5094d23a31417c4cc85ef21\"></div>\n",
       "<script type=\"text/javascript\">\n",
       "  var VEGA_DEBUG = (typeof VEGA_DEBUG == \"undefined\") ? {} : VEGA_DEBUG;\n",
       "  (function(spec, embedOpt){\n",
       "    let outputDiv = document.currentScript.previousElementSibling;\n",
       "    if (outputDiv.id !== \"altair-viz-db62975bd5094d23a31417c4cc85ef21\") {\n",
       "      outputDiv = document.getElementById(\"altair-viz-db62975bd5094d23a31417c4cc85ef21\");\n",
       "    }\n",
       "\n",
       "    const paths = {\n",
       "      \"vega\": \"https://cdn.jsdelivr.net/npm/vega@5?noext\",\n",
       "      \"vega-lib\": \"https://cdn.jsdelivr.net/npm/vega-lib?noext\",\n",
       "      \"vega-lite\": \"https://cdn.jsdelivr.net/npm/vega-lite@5.20.1?noext\",\n",
       "      \"vega-embed\": \"https://cdn.jsdelivr.net/npm/vega-embed@6?noext\",\n",
       "    };\n",
       "\n",
       "    function maybeLoadScript(lib, version) {\n",
       "      var key = `${lib.replace(\"-\", \"\")}_version`;\n",
       "      return (VEGA_DEBUG[key] == version) ?\n",
       "        Promise.resolve(paths[lib]) :\n",
       "        new Promise(function(resolve, reject) {\n",
       "          var s = document.createElement('script');\n",
       "          document.getElementsByTagName(\"head\")[0].appendChild(s);\n",
       "          s.async = true;\n",
       "          s.onload = () => {\n",
       "            VEGA_DEBUG[key] = version;\n",
       "            return resolve(paths[lib]);\n",
       "          };\n",
       "          s.onerror = () => reject(`Error loading script: ${paths[lib]}`);\n",
       "          s.src = paths[lib];\n",
       "        });\n",
       "    }\n",
       "\n",
       "    function showError(err) {\n",
       "      outputDiv.innerHTML = `<div class=\"error\" style=\"color:red;\">${err}</div>`;\n",
       "      throw err;\n",
       "    }\n",
       "\n",
       "    function displayChart(vegaEmbed) {\n",
       "      vegaEmbed(outputDiv, spec, embedOpt)\n",
       "        .catch(err => showError(`Javascript Error: ${err.message}<br>This usually means there's a typo in your chart specification. See the javascript console for the full traceback.`));\n",
       "    }\n",
       "\n",
       "    if(typeof define === \"function\" && define.amd) {\n",
       "      requirejs.config({paths});\n",
       "      let deps = [\"vega-embed\"];\n",
       "      require(deps, displayChart, err => showError(`Error loading script: ${err.message}`));\n",
       "    } else {\n",
       "      maybeLoadScript(\"vega\", \"5\")\n",
       "        .then(() => maybeLoadScript(\"vega-lite\", \"5.20.1\"))\n",
       "        .then(() => maybeLoadScript(\"vega-embed\", \"6\"))\n",
       "        .catch(showError)\n",
       "        .then(() => displayChart(vegaEmbed));\n",
       "    }\n",
       "  })({\"config\": {\"view\": {\"continuousWidth\": 300, \"continuousHeight\": 300}}, \"vconcat\": [{\"data\": {\"name\": \"data-8f80ebfa592484676bec50441f7f0ea4\"}, \"facet\": {\"column\": {\"field\": \"Direction\", \"type\": \"nominal\"}}, \"spec\": {\"layer\": [{\"mark\": {\"type\": \"bar\"}, \"encoding\": {\"color\": {\"field\": \"% VP within Scheduled Shape\", \"legend\": null, \"scale\": {\"range\": [\"#dd217d\", \"#fc5c04\", \"#ff9c42\", \"#fcb40e\", \"#e9d868\", \"#ccbb44\"]}, \"title\": \"% VP within Scheduled Shape\", \"type\": \"quantitative\"}, \"tooltip\": [{\"field\": \"Date\", \"type\": \"temporal\"}, {\"field\": \"Route\", \"type\": \"nominal\"}, {\"field\": \"Direction\", \"type\": \"nominal\"}, {\"field\": \"% VP within Scheduled Shape\", \"type\": \"quantitative\"}], \"x\": {\"axis\": {\"format\": \"%b %Y\", \"labelAngle\": -45}, \"field\": \"Date\", \"title\": \"Date\", \"type\": \"temporal\"}, \"y\": {\"field\": \"% VP within Scheduled Shape\", \"title\": \"% VP within Scheduled Shape\", \"type\": \"quantitative\"}}, \"name\": \"view_1\"}, {\"data\": {\"name\": \"data-f78040d669a25953f2df6c1ca732e8a4\"}, \"mark\": {\"type\": \"rule\", \"color\": \"red\", \"strokeDash\": [10, 7]}, \"encoding\": {\"y\": {\"aggregate\": \"mean\", \"field\": \"ruler\", \"type\": \"quantitative\"}}}], \"height\": 250, \"width\": 200}, \"title\": {\"text\": \"Spatial Accuracy\", \"subtitle\": \"The percentage of vehicle positions that fall within 35 meters of a route's scheduled shape (path) reflects the accuracy of the collected spatial data.\"}, \"transform\": [{\"filter\": {\"param\": \"param_1\"}}]}, {\"data\": {\"name\": \"data-8f80ebfa592484676bec50441f7f0ea4\"}, \"mark\": {\"type\": \"bar\", \"size\": 5}, \"encoding\": {\"color\": {\"field\": \"Direction\", \"legend\": null, \"scale\": {\"range\": [\"#dd217d\", \"#fcb40e\", \"#ccbb44\", \"#5b8efd\"]}, \"title\": \"Direction:N\", \"type\": \"nominal\"}, \"tooltip\": [{\"field\": \"Date\", \"type\": \"temporal\"}, {\"field\": \"Route\", \"type\": \"nominal\"}, {\"field\": \"Direction\", \"type\": \"nominal\"}, {\"field\": \"Average Scheduled Service (trip minutes)\", \"type\": \"quantitative\"}], \"x\": {\"axis\": {\"format\": \"%b %Y\", \"labelAngle\": -45}, \"field\": \"Date\", \"title\": \"Date:T\", \"type\": \"temporal\"}, \"xOffset\": {\"field\": \"Direction\", \"title\": \"Direction:N\", \"type\": \"nominal\"}, \"y\": {\"field\": \"Average Scheduled Service (trip minutes)\", \"title\": \"Average Scheduled Service (trip minutes)\", \"type\": \"quantitative\"}}, \"height\": 250, \"name\": \"view_2\", \"title\": {\"text\": [\"Average Scheduled Minutes\"], \"subtitle\": [\"The average minutes a trip is scheduled to run in each direction.\"]}, \"transform\": [{\"filter\": {\"param\": \"param_1\"}}], \"width\": 400}], \"params\": [{\"name\": \"param_1\", \"select\": {\"type\": \"point\", \"fields\": [\"Route\"]}, \"bind\": {\"input\": \"select\", \"options\": [\"Cityline Local-East\", \"Cityline Local-West\"], \"name\": \"Routes: \"}, \"value\": \"Cityline Local-East\", \"views\": [\"view_1\", \"view_2\"]}], \"$schema\": \"https://vega.github.io/schema/vega-lite/v5.20.1.json\", \"datasets\": {\"data-8f80ebfa592484676bec50441f7f0ea4\": [{\"Direction (0/1)\": 0, \"Period\": \"All Day\", \"Average Scheduled Service (trip minutes)\": 52.73, \"# Scheduled Trips\": 15, \"# Realtime Trips\": 11, \"Date\": \"2023-03-15T00:00:00\", \"Route\": \"Cityline Local-East\", \"Direction\": \"Eastbound\", \"# Minutes with 1+ VP per Minute\": 455, \"# Minutes with 2+ VP per Minute\": 249, \"# Early Arrival Trips\": 1, \"# On-Time Trips\": 7, \"# Late Trips\": 3, \"Average VP per Minute\": 1.19, \"% VP within Scheduled Shape\": 95.0, \"% Scheduled Trip w/ 1+ VP/Minute\": 78.2, \"% Scheduled Trip w/ 2+ VP/Minute\": 42.8, \"Realtime versus Scheduled Service Ratio\": 1.14, \"Speed (MPH)\": 8.82, \"Portfolio Organization Name\": \"City of West Hollywood\", \"Headway (Minutes)\": 96.77, \"sched_rt_category\": \"schedule_and_vp\"}, {\"Direction (0/1)\": 1, \"Period\": \"All Day\", \"Average Scheduled Service (trip minutes)\": 67.89, \"# Scheduled Trips\": 15, \"# Realtime Trips\": 12, \"Date\": \"2023-03-15T00:00:00\", \"Route\": \"Cityline Local-West\", \"Direction\": \"Westbound\", \"# Minutes with 1+ VP per Minute\": 649, \"# Minutes with 2+ VP per Minute\": 291, \"# Early Arrival Trips\": 2, \"# On-Time Trips\": 2, \"# Late Trips\": 8, \"Average VP per Minute\": 1.06, \"% VP within Scheduled Shape\": 94.1, \"% Scheduled Trip w/ 1+ VP/Minute\": 79.3, \"% Scheduled Trip w/ 2+ VP/Minute\": 35.5, \"Realtime versus Scheduled Service Ratio\": 1.21, \"Speed (MPH)\": 8.45, \"Portfolio Organization Name\": \"City of West Hollywood\", \"Headway (Minutes)\": 96.77, \"sched_rt_category\": \"schedule_and_vp\"}, {\"Direction (0/1)\": 0, \"Period\": \"All Day\", \"Average Scheduled Service (trip minutes)\": 52.73, \"# Scheduled Trips\": 15, \"# Realtime Trips\": 13, \"Date\": \"2023-04-12T00:00:00\", \"Route\": \"Cityline Local-East\", \"Direction\": \"Eastbound\", \"# Minutes with 1+ VP per Minute\": 597, \"# Minutes with 2+ VP per Minute\": 301, \"# Early Arrival Trips\": 3, \"# On-Time Trips\": 3, \"# Late Trips\": 7, \"Average VP per Minute\": 1.2, \"% VP within Scheduled Shape\": 94.8, \"% Scheduled Trip w/ 1+ VP/Minute\": 86.4, \"% Scheduled Trip w/ 2+ VP/Minute\": 43.6, \"Realtime versus Scheduled Service Ratio\": 1.22, \"Speed (MPH)\": 8.55, \"Portfolio Organization Name\": \"City of West Hollywood\", \"Headway (Minutes)\": 96.77, \"sched_rt_category\": \"schedule_and_vp\"}, {\"Direction (0/1)\": 0, \"Period\": \"All Day\", \"Average Scheduled Service (trip minutes)\": 52.73, \"# Scheduled Trips\": 15, \"# Realtime Trips\": 11, \"Date\": \"2023-05-17T00:00:00\", \"Route\": \"Cityline Local-East\", \"Direction\": \"Eastbound\", \"# Minutes with 1+ VP per Minute\": 579, \"# Minutes with 2+ VP per Minute\": 313, \"# Early Arrival Trips\": 2, \"# On-Time Trips\": 2, \"# Late Trips\": 7, \"Average VP per Minute\": 1.52, \"% VP within Scheduled Shape\": 92.4, \"% Scheduled Trip w/ 1+ VP/Minute\": 100.0, \"% Scheduled Trip w/ 2+ VP/Minute\": 54.1, \"Realtime versus Scheduled Service Ratio\": 1.13, \"Speed (MPH)\": 8.41, \"Portfolio Organization Name\": \"City of West Hollywood\", \"Headway (Minutes)\": 96.77, \"sched_rt_category\": \"schedule_and_vp\"}, {\"Direction (0/1)\": 0, \"Period\": \"All Day\", \"Average Scheduled Service (trip minutes)\": 52.73, \"# Scheduled Trips\": 15, \"# Realtime Trips\": 7, \"Date\": \"2023-06-14T00:00:00\", \"Route\": \"Cityline Local-East\", \"Direction\": \"Eastbound\", \"# Minutes with 1+ VP per Minute\": 397, \"# Minutes with 2+ VP per Minute\": 208, \"# Early Arrival Trips\": 1, \"# On-Time Trips\": 1, \"# Late Trips\": 5, \"Average VP per Minute\": 1.45, \"% VP within Scheduled Shape\": 93.2, \"% Scheduled Trip w/ 1+ VP/Minute\": 100.0, \"% Scheduled Trip w/ 2+ VP/Minute\": 56.10000000000001, \"Realtime versus Scheduled Service Ratio\": 1.28, \"Speed (MPH)\": 7.31, \"Portfolio Organization Name\": \"City of West Hollywood\", \"Headway (Minutes)\": 96.77, \"sched_rt_category\": \"schedule_and_vp\"}, {\"Direction (0/1)\": 0, \"Period\": \"All Day\", \"Average Scheduled Service (trip minutes)\": 52.73, \"# Scheduled Trips\": 15, \"# Realtime Trips\": 11, \"Date\": \"2023-07-12T00:00:00\", \"Route\": \"Cityline Local-East\", \"Direction\": \"Eastbound\", \"# Minutes with 1+ VP per Minute\": 695, \"# Minutes with 2+ VP per Minute\": 395, \"# Early Arrival Trips\": 0, \"# On-Time Trips\": 3, \"# Late Trips\": 8, \"Average VP per Minute\": 1.59, \"% VP within Scheduled Shape\": 97.6, \"% Scheduled Trip w/ 1+ VP/Minute\": 100.0, \"% Scheduled Trip w/ 2+ VP/Minute\": 67.80000000000001, \"Realtime versus Scheduled Service Ratio\": 1.32, \"Speed (MPH)\": 8.54, \"Portfolio Organization Name\": \"City of West Hollywood\", \"Headway (Minutes)\": 96.77, \"sched_rt_category\": \"schedule_and_vp\"}, {\"Direction (0/1)\": 0, \"Period\": \"All Day\", \"Average Scheduled Service (trip minutes)\": 52.73, \"# Scheduled Trips\": 15, \"# Realtime Trips\": 7, \"Date\": \"2023-08-15T00:00:00\", \"Route\": \"Cityline Local-East\", \"Direction\": \"Eastbound\", \"# Minutes with 1+ VP per Minute\": 395, \"# Minutes with 2+ VP per Minute\": 207, \"# Early Arrival Trips\": 1, \"# On-Time Trips\": 1, \"# Late Trips\": 5, \"Average VP per Minute\": 1.68, \"% VP within Scheduled Shape\": 93.2, \"% Scheduled Trip w/ 1+ VP/Minute\": 100.0, \"% Scheduled Trip w/ 2+ VP/Minute\": 55.60000000000001, \"Realtime versus Scheduled Service Ratio\": 1.08, \"Speed (MPH)\": 8.73, \"Portfolio Organization Name\": \"City of West Hollywood\", \"Headway (Minutes)\": 96.77, \"sched_rt_category\": \"schedule_and_vp\"}, {\"Direction (0/1)\": 0, \"Period\": \"All Day\", \"Average Scheduled Service (trip minutes)\": 52.73, \"# Scheduled Trips\": 15, \"# Realtime Trips\": 11, \"Date\": \"2023-09-13T00:00:00\", \"Route\": \"Cityline Local-East\", \"Direction\": \"Eastbound\", \"# Minutes with 1+ VP per Minute\": 668, \"# Minutes with 2+ VP per Minute\": 363, \"# Early Arrival Trips\": 2, \"# On-Time Trips\": 2, \"# Late Trips\": 7, \"Average VP per Minute\": 1.61, \"% VP within Scheduled Shape\": 93.30000000000001, \"% Scheduled Trip w/ 1+ VP/Minute\": 100.0, \"% Scheduled Trip w/ 2+ VP/Minute\": 62.6, \"Realtime versus Scheduled Service Ratio\": 1.24, \"Speed (MPH)\": 8.95, \"Portfolio Organization Name\": \"City of West Hollywood\", \"Headway (Minutes)\": 96.77, \"sched_rt_category\": \"schedule_and_vp\"}, {\"Direction (0/1)\": 0, \"Period\": \"All Day\", \"Average Scheduled Service (trip minutes)\": 52.73, \"# Scheduled Trips\": 15, \"# Realtime Trips\": 11, \"Date\": \"2023-10-11T00:00:00\", \"Route\": \"Cityline Local-East\", \"Direction\": \"Eastbound\", \"# Minutes with 1+ VP per Minute\": 534, \"# Minutes with 2+ VP per Minute\": 274, \"# Early Arrival Trips\": 3, \"# On-Time Trips\": 5, \"# Late Trips\": 3, \"Average VP per Minute\": 1.56, \"% VP within Scheduled Shape\": 91.10000000000001, \"% Scheduled Trip w/ 1+ VP/Minute\": 92.4, \"% Scheduled Trip w/ 2+ VP/Minute\": 47.4, \"Realtime versus Scheduled Service Ratio\": 1.01, \"Speed (MPH)\": 8.85, \"Portfolio Organization Name\": \"City of West Hollywood\", \"Headway (Minutes)\": 96.77, \"sched_rt_category\": \"schedule_and_vp\"}, {\"Direction (0/1)\": 0, \"Period\": \"All Day\", \"Average Scheduled Service (trip minutes)\": 52.73, \"# Scheduled Trips\": 15, \"# Realtime Trips\": 7, \"Date\": \"2023-11-15T00:00:00\", \"Route\": \"Cityline Local-East\", \"Direction\": \"Eastbound\", \"# Minutes with 1+ VP per Minute\": 358, \"# Minutes with 2+ VP per Minute\": 184, \"# Early Arrival Trips\": 2, \"# On-Time Trips\": 4, \"# Late Trips\": 1, \"Average VP per Minute\": 1.67, \"% VP within Scheduled Shape\": 96.7, \"% Scheduled Trip w/ 1+ VP/Minute\": 95.7, \"% Scheduled Trip w/ 2+ VP/Minute\": 49.2, \"Realtime versus Scheduled Service Ratio\": 0.98, \"Speed (MPH)\": 8.9, \"Portfolio Organization Name\": \"City of West Hollywood\", \"Headway (Minutes)\": 96.77, \"sched_rt_category\": \"schedule_and_vp\"}, {\"Direction (0/1)\": 0, \"Period\": \"All Day\", \"Average Scheduled Service (trip minutes)\": 52.73, \"# Scheduled Trips\": 15, \"# Realtime Trips\": 8, \"Date\": \"2023-12-13T00:00:00\", \"Route\": \"Cityline Local-East\", \"Direction\": \"Eastbound\", \"# Minutes with 1+ VP per Minute\": 501, \"# Minutes with 2+ VP per Minute\": 269, \"# Early Arrival Trips\": 0, \"# On-Time Trips\": 2, \"# Late Trips\": 6, \"Average VP per Minute\": 1.58, \"% VP within Scheduled Shape\": 95.1, \"% Scheduled Trip w/ 1+ VP/Minute\": 100.0, \"% Scheduled Trip w/ 2+ VP/Minute\": 64.0, \"Realtime versus Scheduled Service Ratio\": 1.31, \"Speed (MPH)\": 7.25, \"Portfolio Organization Name\": \"City of West Hollywood\", \"Headway (Minutes)\": 96.77, \"sched_rt_category\": \"schedule_and_vp\"}, {\"Direction (0/1)\": 1, \"Period\": \"All Day\", \"Average Scheduled Service (trip minutes)\": 67.89, \"# Scheduled Trips\": 15, \"# Realtime Trips\": 14, \"Date\": \"2023-04-12T00:00:00\", \"Route\": \"Cityline Local-West\", \"Direction\": \"Westbound\", \"# Minutes with 1+ VP per Minute\": 779, \"# Minutes with 2+ VP per Minute\": 371, \"# Early Arrival Trips\": 2, \"# On-Time Trips\": 6, \"# Late Trips\": 6, \"Average VP per Minute\": 1.2, \"% VP within Scheduled Shape\": 93.30000000000001, \"% Scheduled Trip w/ 1+ VP/Minute\": 81.69999999999999, \"% Scheduled Trip w/ 2+ VP/Minute\": 38.9, \"Realtime versus Scheduled Service Ratio\": 1.11, \"Speed (MPH)\": 7.81, \"Portfolio Organization Name\": \"City of West Hollywood\", \"Headway (Minutes)\": 96.77, \"sched_rt_category\": \"schedule_and_vp\"}, {\"Direction (0/1)\": 1, \"Period\": \"All Day\", \"Average Scheduled Service (trip minutes)\": 67.89, \"# Scheduled Trips\": 15, \"# Realtime Trips\": 10, \"Date\": \"2023-05-17T00:00:00\", \"Route\": \"Cityline Local-West\", \"Direction\": \"Westbound\", \"# Minutes with 1+ VP per Minute\": 708, \"# Minutes with 2+ VP per Minute\": 364, \"# Early Arrival Trips\": 1, \"# On-Time Trips\": 4, \"# Late Trips\": 5, \"Average VP per Minute\": 1.62, \"% VP within Scheduled Shape\": 93.89999999999999, \"% Scheduled Trip w/ 1+ VP/Minute\": 100.0, \"% Scheduled Trip w/ 2+ VP/Minute\": 54.1, \"Realtime versus Scheduled Service Ratio\": 1.1, \"Speed (MPH)\": 8.64, \"Portfolio Organization Name\": \"City of West Hollywood\", \"Headway (Minutes)\": 96.77, \"sched_rt_category\": \"schedule_and_vp\"}, {\"Direction (0/1)\": 1, \"Period\": \"All Day\", \"Average Scheduled Service (trip minutes)\": 67.89, \"# Scheduled Trips\": 15, \"# Realtime Trips\": 6, \"Date\": \"2023-06-14T00:00:00\", \"Route\": \"Cityline Local-West\", \"Direction\": \"Westbound\", \"# Minutes with 1+ VP per Minute\": 442, \"# Minutes with 2+ VP per Minute\": 200, \"# Early Arrival Trips\": 0, \"# On-Time Trips\": 3, \"# Late Trips\": 3, \"Average VP per Minute\": 1.49, \"% VP within Scheduled Shape\": 94.8, \"% Scheduled Trip w/ 1+ VP/Minute\": 100.0, \"% Scheduled Trip w/ 2+ VP/Minute\": 49.6, \"Realtime versus Scheduled Service Ratio\": 1.18, \"Speed (MPH)\": 9.04, \"Portfolio Organization Name\": \"City of West Hollywood\", \"Headway (Minutes)\": 96.77, \"sched_rt_category\": \"schedule_and_vp\"}, {\"Direction (0/1)\": 1, \"Period\": \"All Day\", \"Average Scheduled Service (trip minutes)\": 67.89, \"# Scheduled Trips\": 15, \"# Realtime Trips\": 11, \"Date\": \"2023-07-12T00:00:00\", \"Route\": \"Cityline Local-West\", \"Direction\": \"Westbound\", \"# Minutes with 1+ VP per Minute\": 816, \"# Minutes with 2+ VP per Minute\": 433, \"# Early Arrival Trips\": 1, \"# On-Time Trips\": 5, \"# Late Trips\": 5, \"Average VP per Minute\": 1.67, \"% VP within Scheduled Shape\": 93.89999999999999, \"% Scheduled Trip w/ 1+ VP/Minute\": 100.0, \"% Scheduled Trip w/ 2+ VP/Minute\": 57.9, \"Realtime versus Scheduled Service Ratio\": 1.11, \"Speed (MPH)\": 9.12, \"Portfolio Organization Name\": \"City of West Hollywood\", \"Headway (Minutes)\": 96.77, \"sched_rt_category\": \"schedule_and_vp\"}, {\"Direction (0/1)\": 1, \"Period\": \"All Day\", \"Average Scheduled Service (trip minutes)\": 67.89, \"# Scheduled Trips\": 15, \"# Realtime Trips\": 5, \"Date\": \"2023-08-15T00:00:00\", \"Route\": \"Cityline Local-West\", \"Direction\": \"Westbound\", \"# Minutes with 1+ VP per Minute\": 374, \"# Minutes with 2+ VP per Minute\": 186, \"# Early Arrival Trips\": 0, \"# On-Time Trips\": 3, \"# Late Trips\": 2, \"Average VP per Minute\": 1.66, \"% VP within Scheduled Shape\": 92.5, \"% Scheduled Trip w/ 1+ VP/Minute\": 100.0, \"% Scheduled Trip w/ 2+ VP/Minute\": 55.1, \"Realtime versus Scheduled Service Ratio\": 1.12, \"Speed (MPH)\": 9.45, \"Portfolio Organization Name\": \"City of West Hollywood\", \"Headway (Minutes)\": 96.77, \"sched_rt_category\": \"schedule_and_vp\"}, {\"Direction (0/1)\": 1, \"Period\": \"All Day\", \"Average Scheduled Service (trip minutes)\": 67.89, \"# Scheduled Trips\": 15, \"# Realtime Trips\": 10, \"Date\": \"2023-09-13T00:00:00\", \"Route\": \"Cityline Local-West\", \"Direction\": \"Westbound\", \"# Minutes with 1+ VP per Minute\": 751, \"# Minutes with 2+ VP per Minute\": 375, \"# Early Arrival Trips\": 1, \"# On-Time Trips\": 3, \"# Late Trips\": 6, \"Average VP per Minute\": 1.66, \"% VP within Scheduled Shape\": 95.6, \"% Scheduled Trip w/ 1+ VP/Minute\": 100.0, \"% Scheduled Trip w/ 2+ VP/Minute\": 55.800000000000004, \"Realtime versus Scheduled Service Ratio\": 1.13, \"Speed (MPH)\": 9.07, \"Portfolio Organization Name\": \"City of West Hollywood\", \"Headway (Minutes)\": 96.77, \"sched_rt_category\": \"schedule_and_vp\"}, {\"Direction (0/1)\": 1, \"Period\": \"All Day\", \"Average Scheduled Service (trip minutes)\": 67.89, \"# Scheduled Trips\": 15, \"# Realtime Trips\": 9, \"Date\": \"2023-10-11T00:00:00\", \"Route\": \"Cityline Local-West\", \"Direction\": \"Westbound\", \"# Minutes with 1+ VP per Minute\": 694, \"# Minutes with 2+ VP per Minute\": 323, \"# Early Arrival Trips\": 1, \"# On-Time Trips\": 2, \"# Late Trips\": 6, \"Average VP per Minute\": 1.59, \"% VP within Scheduled Shape\": 93.60000000000001, \"% Scheduled Trip w/ 1+ VP/Minute\": 100.0, \"% Scheduled Trip w/ 2+ VP/Minute\": 53.6, \"Realtime versus Scheduled Service Ratio\": 1.18, \"Speed (MPH)\": 9.14, \"Portfolio Organization Name\": \"City of West Hollywood\", \"Headway (Minutes)\": 96.77, \"sched_rt_category\": \"schedule_and_vp\"}, {\"Direction (0/1)\": 1, \"Period\": \"All Day\", \"Average Scheduled Service (trip minutes)\": 67.89, \"# Scheduled Trips\": 15, \"# Realtime Trips\": 8, \"Date\": \"2023-11-15T00:00:00\", \"Route\": \"Cityline Local-West\", \"Direction\": \"Westbound\", \"# Minutes with 1+ VP per Minute\": 496, \"# Minutes with 2+ VP per Minute\": 210, \"# Early Arrival Trips\": 1, \"# On-Time Trips\": 3, \"# Late Trips\": 4, \"Average VP per Minute\": 1.18, \"% VP within Scheduled Shape\": 87.7, \"% Scheduled Trip w/ 1+ VP/Minute\": 90.5, \"% Scheduled Trip w/ 2+ VP/Minute\": 38.3, \"Realtime versus Scheduled Service Ratio\": 1.21, \"Speed (MPH)\": 7.26, \"Portfolio Organization Name\": \"City of West Hollywood\", \"Headway (Minutes)\": 96.77, \"sched_rt_category\": \"schedule_and_vp\"}, {\"Direction (0/1)\": 1, \"Period\": \"All Day\", \"Average Scheduled Service (trip minutes)\": 67.89, \"# Scheduled Trips\": 15, \"# Realtime Trips\": 8, \"Date\": \"2023-12-13T00:00:00\", \"Route\": \"Cityline Local-West\", \"Direction\": \"Westbound\", \"# Minutes with 1+ VP per Minute\": 572, \"# Minutes with 2+ VP per Minute\": 287, \"# Early Arrival Trips\": 1, \"# On-Time Trips\": 3, \"# Late Trips\": 4, \"Average VP per Minute\": 1.6, \"% VP within Scheduled Shape\": 94.6, \"% Scheduled Trip w/ 1+ VP/Minute\": 100.0, \"% Scheduled Trip w/ 2+ VP/Minute\": 53.0, \"Realtime versus Scheduled Service Ratio\": 1.08, \"Speed (MPH)\": 9.03, \"Portfolio Organization Name\": \"City of West Hollywood\", \"Headway (Minutes)\": 96.77, \"sched_rt_category\": \"schedule_and_vp\"}, {\"Direction (0/1)\": 0, \"Period\": \"All Day\", \"Average Scheduled Service (trip minutes)\": 52.73, \"# Scheduled Trips\": 15, \"# Realtime Trips\": 23, \"Date\": \"2024-07-17T00:00:00\", \"Route\": \"Cityline Local-East\", \"Direction\": \"Eastbound\", \"# Minutes with 1+ VP per Minute\": 1229, \"# Minutes with 2+ VP per Minute\": 684, \"# Early Arrival Trips\": 6, \"# On-Time Trips\": 12, \"# Late Trips\": 5, \"Average VP per Minute\": 1.66, \"% VP within Scheduled Shape\": 24.5, \"% Scheduled Trip w/ 1+ VP/Minute\": 100.0, \"% Scheduled Trip w/ 2+ VP/Minute\": 56.49999999999999, \"Realtime versus Scheduled Service Ratio\": 1.06, \"Speed (MPH)\": 8.33, \"Portfolio Organization Name\": \"City of West Hollywood\", \"Headway (Minutes)\": 96.77, \"sched_rt_category\": \"schedule_and_vp\"}, {\"Direction (0/1)\": 0, \"Period\": \"All Day\", \"Average Scheduled Service (trip minutes)\": 52.73, \"# Scheduled Trips\": 15, \"# Realtime Trips\": 22, \"Date\": \"2024-08-14T00:00:00\", \"Route\": \"Cityline Local-East\", \"Direction\": \"Eastbound\", \"# Minutes with 1+ VP per Minute\": 970, \"# Minutes with 2+ VP per Minute\": 601, \"# Early Arrival Trips\": 7, \"# On-Time Trips\": 7, \"# Late Trips\": 8, \"Average VP per Minute\": 1.44, \"% VP within Scheduled Shape\": 32.4, \"% Scheduled Trip w/ 1+ VP/Minute\": 84.6, \"% Scheduled Trip w/ 2+ VP/Minute\": 52.400000000000006, \"Realtime versus Scheduled Service Ratio\": 1.1, \"Speed (MPH)\": 10.77, \"Portfolio Organization Name\": \"City of West Hollywood\", \"Headway (Minutes)\": 96.77, \"sched_rt_category\": \"schedule_and_vp\"}, {\"Direction (0/1)\": 0, \"Period\": \"All Day\", \"Average Scheduled Service (trip minutes)\": 52.73, \"# Scheduled Trips\": 15, \"# Realtime Trips\": 18, \"Date\": \"2024-09-18T00:00:00\", \"Route\": \"Cityline Local-East\", \"Direction\": \"Eastbound\", \"# Minutes with 1+ VP per Minute\": 980, \"# Minutes with 2+ VP per Minute\": 546, \"# Early Arrival Trips\": 4, \"# On-Time Trips\": 3, \"# Late Trips\": 11, \"Average VP per Minute\": 1.55, \"% VP within Scheduled Shape\": 34.2, \"% Scheduled Trip w/ 1+ VP/Minute\": 100.0, \"% Scheduled Trip w/ 2+ VP/Minute\": 56.2, \"Realtime versus Scheduled Service Ratio\": 1.13, \"Speed (MPH)\": 7.9, \"Portfolio Organization Name\": \"City of West Hollywood\", \"Headway (Minutes)\": 96.77, \"sched_rt_category\": \"schedule_and_vp\"}, {\"Direction (0/1)\": 0, \"Period\": \"All Day\", \"Average Scheduled Service (trip minutes)\": 52.73, \"# Scheduled Trips\": 15, \"# Realtime Trips\": 21, \"Date\": \"2024-10-16T00:00:00\", \"Route\": \"Cityline Local-East\", \"Direction\": \"Eastbound\", \"# Minutes with 1+ VP per Minute\": 1315, \"# Minutes with 2+ VP per Minute\": 655, \"# Early Arrival Trips\": 2, \"# On-Time Trips\": 5, \"# Late Trips\": 14, \"Average VP per Minute\": 1.6, \"% VP within Scheduled Shape\": 33.900000000000006, \"% Scheduled Trip w/ 1+ VP/Minute\": 100.0, \"% Scheduled Trip w/ 2+ VP/Minute\": 60.0, \"Realtime versus Scheduled Service Ratio\": 1.27, \"Speed (MPH)\": 8.24, \"Portfolio Organization Name\": \"City of West Hollywood\", \"Headway (Minutes)\": 96.77, \"sched_rt_category\": \"schedule_and_vp\"}, {\"Direction (0/1)\": 0, \"Period\": \"All Day\", \"Average Scheduled Service (trip minutes)\": 52.73, \"# Scheduled Trips\": 15, \"# Realtime Trips\": 16, \"Date\": \"2024-11-13T00:00:00\", \"Route\": \"Cityline Local-East\", \"Direction\": \"Eastbound\", \"# Minutes with 1+ VP per Minute\": 976, \"# Minutes with 2+ VP per Minute\": 556, \"# Early Arrival Trips\": 0, \"# On-Time Trips\": 8, \"# Late Trips\": 8, \"Average VP per Minute\": 1.62, \"% VP within Scheduled Shape\": 23.5, \"% Scheduled Trip w/ 1+ VP/Minute\": 100.0, \"% Scheduled Trip w/ 2+ VP/Minute\": 66.8, \"Realtime versus Scheduled Service Ratio\": 1.31, \"Speed (MPH)\": 8.6, \"Portfolio Organization Name\": \"City of West Hollywood\", \"Headway (Minutes)\": 96.77, \"sched_rt_category\": \"schedule_and_vp\"}, {\"Direction (0/1)\": 0, \"Period\": \"All Day\", \"Average Scheduled Service (trip minutes)\": 52.73, \"# Scheduled Trips\": 15, \"# Realtime Trips\": 12, \"Date\": \"2024-12-11T00:00:00\", \"Route\": \"Cityline Local-East\", \"Direction\": \"Eastbound\", \"# Minutes with 1+ VP per Minute\": 748, \"# Minutes with 2+ VP per Minute\": 428, \"# Early Arrival Trips\": 0, \"# On-Time Trips\": 3, \"# Late Trips\": 9, \"Average VP per Minute\": 1.46, \"% VP within Scheduled Shape\": 24.3, \"% Scheduled Trip w/ 1+ VP/Minute\": 100.0, \"% Scheduled Trip w/ 2+ VP/Minute\": 64.1, \"Realtime versus Scheduled Service Ratio\": 1.35, \"Speed (MPH)\": 7.6, \"Portfolio Organization Name\": \"City of West Hollywood\", \"Headway (Minutes)\": 96.77, \"sched_rt_category\": \"schedule_and_vp\"}, {\"Direction (0/1)\": 1, \"Period\": \"All Day\", \"Average Scheduled Service (trip minutes)\": 67.89, \"# Scheduled Trips\": 15, \"# Realtime Trips\": 26, \"Date\": \"2024-07-17T00:00:00\", \"Route\": \"Cityline Local-West\", \"Direction\": \"Westbound\", \"# Minutes with 1+ VP per Minute\": 1659, \"# Minutes with 2+ VP per Minute\": 855, \"# Early Arrival Trips\": 3, \"# On-Time Trips\": 18, \"# Late Trips\": 5, \"Average VP per Minute\": 1.65, \"% VP within Scheduled Shape\": 21.9, \"% Scheduled Trip w/ 1+ VP/Minute\": 94.89999999999999, \"% Scheduled Trip w/ 2+ VP/Minute\": 48.9, \"Realtime versus Scheduled Service Ratio\": 0.98, \"Speed (MPH)\": 9.55, \"Portfolio Organization Name\": \"City of West Hollywood\", \"Headway (Minutes)\": 96.77, \"sched_rt_category\": \"schedule_and_vp\"}, {\"Direction (0/1)\": 1, \"Period\": \"All Day\", \"Average Scheduled Service (trip minutes)\": 67.89, \"# Scheduled Trips\": 15, \"# Realtime Trips\": 29, \"Date\": \"2024-08-14T00:00:00\", \"Route\": \"Cityline Local-West\", \"Direction\": \"Westbound\", \"# Minutes with 1+ VP per Minute\": 2032, \"# Minutes with 2+ VP per Minute\": 1009, \"# Early Arrival Trips\": 12, \"# On-Time Trips\": 4, \"# Late Trips\": 13, \"Average VP per Minute\": 1.65, \"% VP within Scheduled Shape\": 24.7, \"% Scheduled Trip w/ 1+ VP/Minute\": 100.0, \"% Scheduled Trip w/ 2+ VP/Minute\": 51.2, \"Realtime versus Scheduled Service Ratio\": 1.04, \"Speed (MPH)\": 9.53, \"Portfolio Organization Name\": \"City of West Hollywood\", \"Headway (Minutes)\": 96.77, \"sched_rt_category\": \"schedule_and_vp\"}, {\"Direction (0/1)\": 1, \"Period\": \"All Day\", \"Average Scheduled Service (trip minutes)\": 67.89, \"# Scheduled Trips\": 15, \"# Realtime Trips\": 23, \"Date\": \"2024-09-18T00:00:00\", \"Route\": \"Cityline Local-West\", \"Direction\": \"Westbound\", \"# Minutes with 1+ VP per Minute\": 1882, \"# Minutes with 2+ VP per Minute\": 756, \"# Early Arrival Trips\": 3, \"# On-Time Trips\": 5, \"# Late Trips\": 15, \"Average VP per Minute\": 1.46, \"% VP within Scheduled Shape\": 28.000000000000004, \"% Scheduled Trip w/ 1+ VP/Minute\": 100.0, \"% Scheduled Trip w/ 2+ VP/Minute\": 48.199999999999996, \"Realtime versus Scheduled Service Ratio\": 1.24, \"Speed (MPH)\": 8.14, \"Portfolio Organization Name\": \"City of West Hollywood\", \"Headway (Minutes)\": 96.77, \"sched_rt_category\": \"schedule_and_vp\"}, {\"Direction (0/1)\": 1, \"Period\": \"All Day\", \"Average Scheduled Service (trip minutes)\": 67.89, \"# Scheduled Trips\": 15, \"# Realtime Trips\": 20, \"Date\": \"2024-10-16T00:00:00\", \"Route\": \"Cityline Local-West\", \"Direction\": \"Westbound\", \"# Minutes with 1+ VP per Minute\": 1401, \"# Minutes with 2+ VP per Minute\": 697, \"# Early Arrival Trips\": 5, \"# On-Time Trips\": 0, \"# Late Trips\": 15, \"Average VP per Minute\": 1.57, \"% VP within Scheduled Shape\": 31.900000000000002, \"% Scheduled Trip w/ 1+ VP/Minute\": 100.0, \"% Scheduled Trip w/ 2+ VP/Minute\": 52.300000000000004, \"Realtime versus Scheduled Service Ratio\": 1.1, \"Speed (MPH)\": 9.09, \"Portfolio Organization Name\": \"City of West Hollywood\", \"Headway (Minutes)\": 96.77, \"sched_rt_category\": \"schedule_and_vp\"}, {\"Direction (0/1)\": 1, \"Period\": \"All Day\", \"Average Scheduled Service (trip minutes)\": 67.89, \"# Scheduled Trips\": 15, \"# Realtime Trips\": 16, \"Date\": \"2024-11-13T00:00:00\", \"Route\": \"Cityline Local-West\", \"Direction\": \"Westbound\", \"# Minutes with 1+ VP per Minute\": 1129, \"# Minutes with 2+ VP per Minute\": 539, \"# Early Arrival Trips\": 3, \"# On-Time Trips\": 4, \"# Late Trips\": 9, \"Average VP per Minute\": 1.62, \"% VP within Scheduled Shape\": 24.2, \"% Scheduled Trip w/ 1+ VP/Minute\": 100.0, \"% Scheduled Trip w/ 2+ VP/Minute\": 50.4, \"Realtime versus Scheduled Service Ratio\": 1.07, \"Speed (MPH)\": 8.56, \"Portfolio Organization Name\": \"City of West Hollywood\", \"Headway (Minutes)\": 96.77, \"sched_rt_category\": \"schedule_and_vp\"}, {\"Direction (0/1)\": 1, \"Period\": \"All Day\", \"Average Scheduled Service (trip minutes)\": 67.89, \"# Scheduled Trips\": 15, \"# Realtime Trips\": 17, \"Date\": \"2024-12-11T00:00:00\", \"Route\": \"Cityline Local-West\", \"Direction\": \"Westbound\", \"# Minutes with 1+ VP per Minute\": 1344, \"# Minutes with 2+ VP per Minute\": 655, \"# Early Arrival Trips\": 0, \"# On-Time Trips\": 8, \"# Late Trips\": 9, \"Average VP per Minute\": 1.62, \"% VP within Scheduled Shape\": 22.0, \"% Scheduled Trip w/ 1+ VP/Minute\": 100.0, \"% Scheduled Trip w/ 2+ VP/Minute\": 55.60000000000001, \"Realtime versus Scheduled Service Ratio\": 1.17, \"Speed (MPH)\": 8.43, \"Portfolio Organization Name\": \"City of West Hollywood\", \"Headway (Minutes)\": 96.77, \"sched_rt_category\": \"schedule_and_vp\"}, {\"Direction (0/1)\": 0, \"Period\": \"All Day\", \"Average Scheduled Service (trip minutes)\": 52.73, \"# Scheduled Trips\": 15, \"# Realtime Trips\": 9, \"Date\": \"2025-01-15T00:00:00\", \"Route\": \"Cityline Local-East\", \"Direction\": \"Eastbound\", \"# Minutes with 1+ VP per Minute\": 345, \"# Minutes with 2+ VP per Minute\": 192, \"# Early Arrival Trips\": 0, \"# On-Time Trips\": 6, \"# Late Trips\": 3, \"Average VP per Minute\": 1.11, \"% VP within Scheduled Shape\": 17.9, \"% Scheduled Trip w/ 1+ VP/Minute\": 72.8, \"% Scheduled Trip w/ 2+ VP/Minute\": 40.5, \"Realtime versus Scheduled Service Ratio\": 1.15, \"Speed (MPH)\": 6.07, \"Portfolio Organization Name\": \"City of West Hollywood\", \"Headway (Minutes)\": 96.77, \"sched_rt_category\": \"schedule_and_vp\"}, {\"Direction (0/1)\": 0, \"Period\": \"All Day\", \"Average Scheduled Service (trip minutes)\": 52.73, \"# Scheduled Trips\": 15, \"# Realtime Trips\": 16, \"Date\": \"2025-02-12T00:00:00\", \"Route\": \"Cityline Local-East\", \"Direction\": \"Eastbound\", \"# Minutes with 1+ VP per Minute\": 960, \"# Minutes with 2+ VP per Minute\": 596, \"# Early Arrival Trips\": 0, \"# On-Time Trips\": 0, \"# Late Trips\": 16, \"Average VP per Minute\": 1.77, \"% VP within Scheduled Shape\": 24.099999999999998, \"% Scheduled Trip w/ 1+ VP/Minute\": 100.0, \"% Scheduled Trip w/ 2+ VP/Minute\": 71.6, \"Realtime versus Scheduled Service Ratio\": 1.19, \"Speed (MPH)\": 8.26, \"Portfolio Organization Name\": \"City of West Hollywood\", \"Headway (Minutes)\": 96.77, \"sched_rt_category\": \"schedule_and_vp\"}, {\"Direction (0/1)\": 0, \"Period\": \"All Day\", \"Average Scheduled Service (trip minutes)\": 52.73, \"# Scheduled Trips\": 15, \"# Realtime Trips\": 15, \"Date\": \"2025-03-12T00:00:00\", \"Route\": \"Cityline Local-East\", \"Direction\": \"Eastbound\", \"# Minutes with 1+ VP per Minute\": 847, \"# Minutes with 2+ VP per Minute\": 454, \"# Early Arrival Trips\": 2, \"# On-Time Trips\": 5, \"# Late Trips\": 8, \"Average VP per Minute\": 1.65, \"% VP within Scheduled Shape\": 22.900000000000002, \"% Scheduled Trip w/ 1+ VP/Minute\": 100.0, \"% Scheduled Trip w/ 2+ VP/Minute\": 56.99999999999999, \"Realtime versus Scheduled Service Ratio\": 1.09, \"Speed (MPH)\": 7.68, \"Portfolio Organization Name\": \"City of West Hollywood\", \"Headway (Minutes)\": 96.77, \"sched_rt_category\": \"schedule_and_vp\"}, {\"Direction (0/1)\": 1, \"Period\": \"All Day\", \"Average Scheduled Service (trip minutes)\": 67.89, \"# Scheduled Trips\": 15, \"# Realtime Trips\": 18, \"Date\": \"2025-01-15T00:00:00\", \"Route\": \"Cityline Local-West\", \"Direction\": \"Westbound\", \"# Minutes with 1+ VP per Minute\": 1440, \"# Minutes with 2+ VP per Minute\": 729, \"# Early Arrival Trips\": 0, \"# On-Time Trips\": 0, \"# Late Trips\": 18, \"Average VP per Minute\": 1.63, \"% VP within Scheduled Shape\": 10.2, \"% Scheduled Trip w/ 1+ VP/Minute\": 100.0, \"% Scheduled Trip w/ 2+ VP/Minute\": 58.9, \"Realtime versus Scheduled Service Ratio\": 1.2, \"Speed (MPH)\": 9.45, \"Portfolio Organization Name\": \"City of West Hollywood\", \"Headway (Minutes)\": 96.77, \"sched_rt_category\": \"schedule_and_vp\"}, {\"Direction (0/1)\": 1, \"Period\": \"All Day\", \"Average Scheduled Service (trip minutes)\": 67.89, \"# Scheduled Trips\": 15, \"# Realtime Trips\": 17, \"Date\": \"2025-02-12T00:00:00\", \"Route\": \"Cityline Local-West\", \"Direction\": \"Westbound\", \"# Minutes with 1+ VP per Minute\": 1126, \"# Minutes with 2+ VP per Minute\": 594, \"# Early Arrival Trips\": 4, \"# On-Time Trips\": 4, \"# Late Trips\": 9, \"Average VP per Minute\": 1.52, \"% VP within Scheduled Shape\": 23.3, \"% Scheduled Trip w/ 1+ VP/Minute\": 98.1, \"% Scheduled Trip w/ 2+ VP/Minute\": 51.800000000000004, \"Realtime versus Scheduled Service Ratio\": 1.06, \"Speed (MPH)\": 11.39, \"Portfolio Organization Name\": \"City of West Hollywood\", \"Headway (Minutes)\": 96.77, \"sched_rt_category\": \"schedule_and_vp\"}, {\"Direction (0/1)\": 1, \"Period\": \"All Day\", \"Average Scheduled Service (trip minutes)\": 67.89, \"# Scheduled Trips\": 15, \"# Realtime Trips\": 17, \"Date\": \"2025-03-12T00:00:00\", \"Route\": \"Cityline Local-West\", \"Direction\": \"Westbound\", \"# Minutes with 1+ VP per Minute\": 1119, \"# Minutes with 2+ VP per Minute\": 598, \"# Early Arrival Trips\": 0, \"# On-Time Trips\": 4, \"# Late Trips\": 13, \"Average VP per Minute\": 1.52, \"% VP within Scheduled Shape\": 23.0, \"% Scheduled Trip w/ 1+ VP/Minute\": 97.5, \"% Scheduled Trip w/ 2+ VP/Minute\": 52.1, \"Realtime versus Scheduled Service Ratio\": 1.09, \"Speed (MPH)\": 9.74, \"Portfolio Organization Name\": \"City of West Hollywood\", \"Headway (Minutes)\": 96.77, \"sched_rt_category\": \"schedule_and_vp\"}], \"data-f78040d669a25953f2df6c1ca732e8a4\": [{\"Direction (0/1)\": 0, \"Period\": \"All Day\", \"Average Scheduled Service (trip minutes)\": 52.73, \"# Scheduled Trips\": 15, \"# Realtime Trips\": 11, \"Date\": \"2023-03-15T00:00:00\", \"Route\": \"Cityline Local-East\", \"Direction\": \"Eastbound\", \"# Minutes with 1+ VP per Minute\": 455, \"# Minutes with 2+ VP per Minute\": 249, \"# Early Arrival Trips\": 1, \"# On-Time Trips\": 7, \"# Late Trips\": 3, \"Average VP per Minute\": 1.19, \"% VP within Scheduled Shape\": 95.0, \"% Scheduled Trip w/ 1+ VP/Minute\": 78.2, \"% Scheduled Trip w/ 2+ VP/Minute\": 42.8, \"Realtime versus Scheduled Service Ratio\": 1.14, \"Speed (MPH)\": 8.82, \"Portfolio Organization Name\": \"City of West Hollywood\", \"Headway (Minutes)\": 96.77, \"sched_rt_category\": \"schedule_and_vp\", \"ruler\": 100}, {\"Direction (0/1)\": 1, \"Period\": \"All Day\", \"Average Scheduled Service (trip minutes)\": 67.89, \"# Scheduled Trips\": 15, \"# Realtime Trips\": 12, \"Date\": \"2023-03-15T00:00:00\", \"Route\": \"Cityline Local-West\", \"Direction\": \"Westbound\", \"# Minutes with 1+ VP per Minute\": 649, \"# Minutes with 2+ VP per Minute\": 291, \"# Early Arrival Trips\": 2, \"# On-Time Trips\": 2, \"# Late Trips\": 8, \"Average VP per Minute\": 1.06, \"% VP within Scheduled Shape\": 94.1, \"% Scheduled Trip w/ 1+ VP/Minute\": 79.3, \"% Scheduled Trip w/ 2+ VP/Minute\": 35.5, \"Realtime versus Scheduled Service Ratio\": 1.21, \"Speed (MPH)\": 8.45, \"Portfolio Organization Name\": \"City of West Hollywood\", \"Headway (Minutes)\": 96.77, \"sched_rt_category\": \"schedule_and_vp\", \"ruler\": 100}, {\"Direction (0/1)\": 0, \"Period\": \"All Day\", \"Average Scheduled Service (trip minutes)\": 52.73, \"# Scheduled Trips\": 15, \"# Realtime Trips\": 13, \"Date\": \"2023-04-12T00:00:00\", \"Route\": \"Cityline Local-East\", \"Direction\": \"Eastbound\", \"# Minutes with 1+ VP per Minute\": 597, \"# Minutes with 2+ VP per Minute\": 301, \"# Early Arrival Trips\": 3, \"# On-Time Trips\": 3, \"# Late Trips\": 7, \"Average VP per Minute\": 1.2, \"% VP within Scheduled Shape\": 94.8, \"% Scheduled Trip w/ 1+ VP/Minute\": 86.4, \"% Scheduled Trip w/ 2+ VP/Minute\": 43.6, \"Realtime versus Scheduled Service Ratio\": 1.22, \"Speed (MPH)\": 8.55, \"Portfolio Organization Name\": \"City of West Hollywood\", \"Headway (Minutes)\": 96.77, \"sched_rt_category\": \"schedule_and_vp\", \"ruler\": 100}, {\"Direction (0/1)\": 0, \"Period\": \"All Day\", \"Average Scheduled Service (trip minutes)\": 52.73, \"# Scheduled Trips\": 15, \"# Realtime Trips\": 11, \"Date\": \"2023-05-17T00:00:00\", \"Route\": \"Cityline Local-East\", \"Direction\": \"Eastbound\", \"# Minutes with 1+ VP per Minute\": 579, \"# Minutes with 2+ VP per Minute\": 313, \"# Early Arrival Trips\": 2, \"# On-Time Trips\": 2, \"# Late Trips\": 7, \"Average VP per Minute\": 1.52, \"% VP within Scheduled Shape\": 92.4, \"% Scheduled Trip w/ 1+ VP/Minute\": 100.0, \"% Scheduled Trip w/ 2+ VP/Minute\": 54.1, \"Realtime versus Scheduled Service Ratio\": 1.13, \"Speed (MPH)\": 8.41, \"Portfolio Organization Name\": \"City of West Hollywood\", \"Headway (Minutes)\": 96.77, \"sched_rt_category\": \"schedule_and_vp\", \"ruler\": 100}, {\"Direction (0/1)\": 0, \"Period\": \"All Day\", \"Average Scheduled Service (trip minutes)\": 52.73, \"# Scheduled Trips\": 15, \"# Realtime Trips\": 7, \"Date\": \"2023-06-14T00:00:00\", \"Route\": \"Cityline Local-East\", \"Direction\": \"Eastbound\", \"# Minutes with 1+ VP per Minute\": 397, \"# Minutes with 2+ VP per Minute\": 208, \"# Early Arrival Trips\": 1, \"# On-Time Trips\": 1, \"# Late Trips\": 5, \"Average VP per Minute\": 1.45, \"% VP within Scheduled Shape\": 93.2, \"% Scheduled Trip w/ 1+ VP/Minute\": 100.0, \"% Scheduled Trip w/ 2+ VP/Minute\": 56.10000000000001, \"Realtime versus Scheduled Service Ratio\": 1.28, \"Speed (MPH)\": 7.31, \"Portfolio Organization Name\": \"City of West Hollywood\", \"Headway (Minutes)\": 96.77, \"sched_rt_category\": \"schedule_and_vp\", \"ruler\": 100}, {\"Direction (0/1)\": 0, \"Period\": \"All Day\", \"Average Scheduled Service (trip minutes)\": 52.73, \"# Scheduled Trips\": 15, \"# Realtime Trips\": 11, \"Date\": \"2023-07-12T00:00:00\", \"Route\": \"Cityline Local-East\", \"Direction\": \"Eastbound\", \"# Minutes with 1+ VP per Minute\": 695, \"# Minutes with 2+ VP per Minute\": 395, \"# Early Arrival Trips\": 0, \"# On-Time Trips\": 3, \"# Late Trips\": 8, \"Average VP per Minute\": 1.59, \"% VP within Scheduled Shape\": 97.6, \"% Scheduled Trip w/ 1+ VP/Minute\": 100.0, \"% Scheduled Trip w/ 2+ VP/Minute\": 67.80000000000001, \"Realtime versus Scheduled Service Ratio\": 1.32, \"Speed (MPH)\": 8.54, \"Portfolio Organization Name\": \"City of West Hollywood\", \"Headway (Minutes)\": 96.77, \"sched_rt_category\": \"schedule_and_vp\", \"ruler\": 100}, {\"Direction (0/1)\": 0, \"Period\": \"All Day\", \"Average Scheduled Service (trip minutes)\": 52.73, \"# Scheduled Trips\": 15, \"# Realtime Trips\": 7, \"Date\": \"2023-08-15T00:00:00\", \"Route\": \"Cityline Local-East\", \"Direction\": \"Eastbound\", \"# Minutes with 1+ VP per Minute\": 395, \"# Minutes with 2+ VP per Minute\": 207, \"# Early Arrival Trips\": 1, \"# On-Time Trips\": 1, \"# Late Trips\": 5, \"Average VP per Minute\": 1.68, \"% VP within Scheduled Shape\": 93.2, \"% Scheduled Trip w/ 1+ VP/Minute\": 100.0, \"% Scheduled Trip w/ 2+ VP/Minute\": 55.60000000000001, \"Realtime versus Scheduled Service Ratio\": 1.08, \"Speed (MPH)\": 8.73, \"Portfolio Organization Name\": \"City of West Hollywood\", \"Headway (Minutes)\": 96.77, \"sched_rt_category\": \"schedule_and_vp\", \"ruler\": 100}, {\"Direction (0/1)\": 0, \"Period\": \"All Day\", \"Average Scheduled Service (trip minutes)\": 52.73, \"# Scheduled Trips\": 15, \"# Realtime Trips\": 11, \"Date\": \"2023-09-13T00:00:00\", \"Route\": \"Cityline Local-East\", \"Direction\": \"Eastbound\", \"# Minutes with 1+ VP per Minute\": 668, \"# Minutes with 2+ VP per Minute\": 363, \"# Early Arrival Trips\": 2, \"# On-Time Trips\": 2, \"# Late Trips\": 7, \"Average VP per Minute\": 1.61, \"% VP within Scheduled Shape\": 93.30000000000001, \"% Scheduled Trip w/ 1+ VP/Minute\": 100.0, \"% Scheduled Trip w/ 2+ VP/Minute\": 62.6, \"Realtime versus Scheduled Service Ratio\": 1.24, \"Speed (MPH)\": 8.95, \"Portfolio Organization Name\": \"City of West Hollywood\", \"Headway (Minutes)\": 96.77, \"sched_rt_category\": \"schedule_and_vp\", \"ruler\": 100}, {\"Direction (0/1)\": 0, \"Period\": \"All Day\", \"Average Scheduled Service (trip minutes)\": 52.73, \"# Scheduled Trips\": 15, \"# Realtime Trips\": 11, \"Date\": \"2023-10-11T00:00:00\", \"Route\": \"Cityline Local-East\", \"Direction\": \"Eastbound\", \"# Minutes with 1+ VP per Minute\": 534, \"# Minutes with 2+ VP per Minute\": 274, \"# Early Arrival Trips\": 3, \"# On-Time Trips\": 5, \"# Late Trips\": 3, \"Average VP per Minute\": 1.56, \"% VP within Scheduled Shape\": 91.10000000000001, \"% Scheduled Trip w/ 1+ VP/Minute\": 92.4, \"% Scheduled Trip w/ 2+ VP/Minute\": 47.4, \"Realtime versus Scheduled Service Ratio\": 1.01, \"Speed (MPH)\": 8.85, \"Portfolio Organization Name\": \"City of West Hollywood\", \"Headway (Minutes)\": 96.77, \"sched_rt_category\": \"schedule_and_vp\", \"ruler\": 100}, {\"Direction (0/1)\": 0, \"Period\": \"All Day\", \"Average Scheduled Service (trip minutes)\": 52.73, \"# Scheduled Trips\": 15, \"# Realtime Trips\": 7, \"Date\": \"2023-11-15T00:00:00\", \"Route\": \"Cityline Local-East\", \"Direction\": \"Eastbound\", \"# Minutes with 1+ VP per Minute\": 358, \"# Minutes with 2+ VP per Minute\": 184, \"# Early Arrival Trips\": 2, \"# On-Time Trips\": 4, \"# Late Trips\": 1, \"Average VP per Minute\": 1.67, \"% VP within Scheduled Shape\": 96.7, \"% Scheduled Trip w/ 1+ VP/Minute\": 95.7, \"% Scheduled Trip w/ 2+ VP/Minute\": 49.2, \"Realtime versus Scheduled Service Ratio\": 0.98, \"Speed (MPH)\": 8.9, \"Portfolio Organization Name\": \"City of West Hollywood\", \"Headway (Minutes)\": 96.77, \"sched_rt_category\": \"schedule_and_vp\", \"ruler\": 100}, {\"Direction (0/1)\": 0, \"Period\": \"All Day\", \"Average Scheduled Service (trip minutes)\": 52.73, \"# Scheduled Trips\": 15, \"# Realtime Trips\": 8, \"Date\": \"2023-12-13T00:00:00\", \"Route\": \"Cityline Local-East\", \"Direction\": \"Eastbound\", \"# Minutes with 1+ VP per Minute\": 501, \"# Minutes with 2+ VP per Minute\": 269, \"# Early Arrival Trips\": 0, \"# On-Time Trips\": 2, \"# Late Trips\": 6, \"Average VP per Minute\": 1.58, \"% VP within Scheduled Shape\": 95.1, \"% Scheduled Trip w/ 1+ VP/Minute\": 100.0, \"% Scheduled Trip w/ 2+ VP/Minute\": 64.0, \"Realtime versus Scheduled Service Ratio\": 1.31, \"Speed (MPH)\": 7.25, \"Portfolio Organization Name\": \"City of West Hollywood\", \"Headway (Minutes)\": 96.77, \"sched_rt_category\": \"schedule_and_vp\", \"ruler\": 100}, {\"Direction (0/1)\": 1, \"Period\": \"All Day\", \"Average Scheduled Service (trip minutes)\": 67.89, \"# Scheduled Trips\": 15, \"# Realtime Trips\": 14, \"Date\": \"2023-04-12T00:00:00\", \"Route\": \"Cityline Local-West\", \"Direction\": \"Westbound\", \"# Minutes with 1+ VP per Minute\": 779, \"# Minutes with 2+ VP per Minute\": 371, \"# Early Arrival Trips\": 2, \"# On-Time Trips\": 6, \"# Late Trips\": 6, \"Average VP per Minute\": 1.2, \"% VP within Scheduled Shape\": 93.30000000000001, \"% Scheduled Trip w/ 1+ VP/Minute\": 81.69999999999999, \"% Scheduled Trip w/ 2+ VP/Minute\": 38.9, \"Realtime versus Scheduled Service Ratio\": 1.11, \"Speed (MPH)\": 7.81, \"Portfolio Organization Name\": \"City of West Hollywood\", \"Headway (Minutes)\": 96.77, \"sched_rt_category\": \"schedule_and_vp\", \"ruler\": 100}, {\"Direction (0/1)\": 1, \"Period\": \"All Day\", \"Average Scheduled Service (trip minutes)\": 67.89, \"# Scheduled Trips\": 15, \"# Realtime Trips\": 10, \"Date\": \"2023-05-17T00:00:00\", \"Route\": \"Cityline Local-West\", \"Direction\": \"Westbound\", \"# Minutes with 1+ VP per Minute\": 708, \"# Minutes with 2+ VP per Minute\": 364, \"# Early Arrival Trips\": 1, \"# On-Time Trips\": 4, \"# Late Trips\": 5, \"Average VP per Minute\": 1.62, \"% VP within Scheduled Shape\": 93.89999999999999, \"% Scheduled Trip w/ 1+ VP/Minute\": 100.0, \"% Scheduled Trip w/ 2+ VP/Minute\": 54.1, \"Realtime versus Scheduled Service Ratio\": 1.1, \"Speed (MPH)\": 8.64, \"Portfolio Organization Name\": \"City of West Hollywood\", \"Headway (Minutes)\": 96.77, \"sched_rt_category\": \"schedule_and_vp\", \"ruler\": 100}, {\"Direction (0/1)\": 1, \"Period\": \"All Day\", \"Average Scheduled Service (trip minutes)\": 67.89, \"# Scheduled Trips\": 15, \"# Realtime Trips\": 6, \"Date\": \"2023-06-14T00:00:00\", \"Route\": \"Cityline Local-West\", \"Direction\": \"Westbound\", \"# Minutes with 1+ VP per Minute\": 442, \"# Minutes with 2+ VP per Minute\": 200, \"# Early Arrival Trips\": 0, \"# On-Time Trips\": 3, \"# Late Trips\": 3, \"Average VP per Minute\": 1.49, \"% VP within Scheduled Shape\": 94.8, \"% Scheduled Trip w/ 1+ VP/Minute\": 100.0, \"% Scheduled Trip w/ 2+ VP/Minute\": 49.6, \"Realtime versus Scheduled Service Ratio\": 1.18, \"Speed (MPH)\": 9.04, \"Portfolio Organization Name\": \"City of West Hollywood\", \"Headway (Minutes)\": 96.77, \"sched_rt_category\": \"schedule_and_vp\", \"ruler\": 100}, {\"Direction (0/1)\": 1, \"Period\": \"All Day\", \"Average Scheduled Service (trip minutes)\": 67.89, \"# Scheduled Trips\": 15, \"# Realtime Trips\": 11, \"Date\": \"2023-07-12T00:00:00\", \"Route\": \"Cityline Local-West\", \"Direction\": \"Westbound\", \"# Minutes with 1+ VP per Minute\": 816, \"# Minutes with 2+ VP per Minute\": 433, \"# Early Arrival Trips\": 1, \"# On-Time Trips\": 5, \"# Late Trips\": 5, \"Average VP per Minute\": 1.67, \"% VP within Scheduled Shape\": 93.89999999999999, \"% Scheduled Trip w/ 1+ VP/Minute\": 100.0, \"% Scheduled Trip w/ 2+ VP/Minute\": 57.9, \"Realtime versus Scheduled Service Ratio\": 1.11, \"Speed (MPH)\": 9.12, \"Portfolio Organization Name\": \"City of West Hollywood\", \"Headway (Minutes)\": 96.77, \"sched_rt_category\": \"schedule_and_vp\", \"ruler\": 100}, {\"Direction (0/1)\": 1, \"Period\": \"All Day\", \"Average Scheduled Service (trip minutes)\": 67.89, \"# Scheduled Trips\": 15, \"# Realtime Trips\": 5, \"Date\": \"2023-08-15T00:00:00\", \"Route\": \"Cityline Local-West\", \"Direction\": \"Westbound\", \"# Minutes with 1+ VP per Minute\": 374, \"# Minutes with 2+ VP per Minute\": 186, \"# Early Arrival Trips\": 0, \"# On-Time Trips\": 3, \"# Late Trips\": 2, \"Average VP per Minute\": 1.66, \"% VP within Scheduled Shape\": 92.5, \"% Scheduled Trip w/ 1+ VP/Minute\": 100.0, \"% Scheduled Trip w/ 2+ VP/Minute\": 55.1, \"Realtime versus Scheduled Service Ratio\": 1.12, \"Speed (MPH)\": 9.45, \"Portfolio Organization Name\": \"City of West Hollywood\", \"Headway (Minutes)\": 96.77, \"sched_rt_category\": \"schedule_and_vp\", \"ruler\": 100}, {\"Direction (0/1)\": 1, \"Period\": \"All Day\", \"Average Scheduled Service (trip minutes)\": 67.89, \"# Scheduled Trips\": 15, \"# Realtime Trips\": 10, \"Date\": \"2023-09-13T00:00:00\", \"Route\": \"Cityline Local-West\", \"Direction\": \"Westbound\", \"# Minutes with 1+ VP per Minute\": 751, \"# Minutes with 2+ VP per Minute\": 375, \"# Early Arrival Trips\": 1, \"# On-Time Trips\": 3, \"# Late Trips\": 6, \"Average VP per Minute\": 1.66, \"% VP within Scheduled Shape\": 95.6, \"% Scheduled Trip w/ 1+ VP/Minute\": 100.0, \"% Scheduled Trip w/ 2+ VP/Minute\": 55.800000000000004, \"Realtime versus Scheduled Service Ratio\": 1.13, \"Speed (MPH)\": 9.07, \"Portfolio Organization Name\": \"City of West Hollywood\", \"Headway (Minutes)\": 96.77, \"sched_rt_category\": \"schedule_and_vp\", \"ruler\": 100}, {\"Direction (0/1)\": 1, \"Period\": \"All Day\", \"Average Scheduled Service (trip minutes)\": 67.89, \"# Scheduled Trips\": 15, \"# Realtime Trips\": 9, \"Date\": \"2023-10-11T00:00:00\", \"Route\": \"Cityline Local-West\", \"Direction\": \"Westbound\", \"# Minutes with 1+ VP per Minute\": 694, \"# Minutes with 2+ VP per Minute\": 323, \"# Early Arrival Trips\": 1, \"# On-Time Trips\": 2, \"# Late Trips\": 6, \"Average VP per Minute\": 1.59, \"% VP within Scheduled Shape\": 93.60000000000001, \"% Scheduled Trip w/ 1+ VP/Minute\": 100.0, \"% Scheduled Trip w/ 2+ VP/Minute\": 53.6, \"Realtime versus Scheduled Service Ratio\": 1.18, \"Speed (MPH)\": 9.14, \"Portfolio Organization Name\": \"City of West Hollywood\", \"Headway (Minutes)\": 96.77, \"sched_rt_category\": \"schedule_and_vp\", \"ruler\": 100}, {\"Direction (0/1)\": 1, \"Period\": \"All Day\", \"Average Scheduled Service (trip minutes)\": 67.89, \"# Scheduled Trips\": 15, \"# Realtime Trips\": 8, \"Date\": \"2023-11-15T00:00:00\", \"Route\": \"Cityline Local-West\", \"Direction\": \"Westbound\", \"# Minutes with 1+ VP per Minute\": 496, \"# Minutes with 2+ VP per Minute\": 210, \"# Early Arrival Trips\": 1, \"# On-Time Trips\": 3, \"# Late Trips\": 4, \"Average VP per Minute\": 1.18, \"% VP within Scheduled Shape\": 87.7, \"% Scheduled Trip w/ 1+ VP/Minute\": 90.5, \"% Scheduled Trip w/ 2+ VP/Minute\": 38.3, \"Realtime versus Scheduled Service Ratio\": 1.21, \"Speed (MPH)\": 7.26, \"Portfolio Organization Name\": \"City of West Hollywood\", \"Headway (Minutes)\": 96.77, \"sched_rt_category\": \"schedule_and_vp\", \"ruler\": 100}, {\"Direction (0/1)\": 1, \"Period\": \"All Day\", \"Average Scheduled Service (trip minutes)\": 67.89, \"# Scheduled Trips\": 15, \"# Realtime Trips\": 8, \"Date\": \"2023-12-13T00:00:00\", \"Route\": \"Cityline Local-West\", \"Direction\": \"Westbound\", \"# Minutes with 1+ VP per Minute\": 572, \"# Minutes with 2+ VP per Minute\": 287, \"# Early Arrival Trips\": 1, \"# On-Time Trips\": 3, \"# Late Trips\": 4, \"Average VP per Minute\": 1.6, \"% VP within Scheduled Shape\": 94.6, \"% Scheduled Trip w/ 1+ VP/Minute\": 100.0, \"% Scheduled Trip w/ 2+ VP/Minute\": 53.0, \"Realtime versus Scheduled Service Ratio\": 1.08, \"Speed (MPH)\": 9.03, \"Portfolio Organization Name\": \"City of West Hollywood\", \"Headway (Minutes)\": 96.77, \"sched_rt_category\": \"schedule_and_vp\", \"ruler\": 100}, {\"Direction (0/1)\": 0, \"Period\": \"All Day\", \"Average Scheduled Service (trip minutes)\": 52.73, \"# Scheduled Trips\": 15, \"# Realtime Trips\": 23, \"Date\": \"2024-07-17T00:00:00\", \"Route\": \"Cityline Local-East\", \"Direction\": \"Eastbound\", \"# Minutes with 1+ VP per Minute\": 1229, \"# Minutes with 2+ VP per Minute\": 684, \"# Early Arrival Trips\": 6, \"# On-Time Trips\": 12, \"# Late Trips\": 5, \"Average VP per Minute\": 1.66, \"% VP within Scheduled Shape\": 24.5, \"% Scheduled Trip w/ 1+ VP/Minute\": 100.0, \"% Scheduled Trip w/ 2+ VP/Minute\": 56.49999999999999, \"Realtime versus Scheduled Service Ratio\": 1.06, \"Speed (MPH)\": 8.33, \"Portfolio Organization Name\": \"City of West Hollywood\", \"Headway (Minutes)\": 96.77, \"sched_rt_category\": \"schedule_and_vp\", \"ruler\": 100}, {\"Direction (0/1)\": 0, \"Period\": \"All Day\", \"Average Scheduled Service (trip minutes)\": 52.73, \"# Scheduled Trips\": 15, \"# Realtime Trips\": 22, \"Date\": \"2024-08-14T00:00:00\", \"Route\": \"Cityline Local-East\", \"Direction\": \"Eastbound\", \"# Minutes with 1+ VP per Minute\": 970, \"# Minutes with 2+ VP per Minute\": 601, \"# Early Arrival Trips\": 7, \"# On-Time Trips\": 7, \"# Late Trips\": 8, \"Average VP per Minute\": 1.44, \"% VP within Scheduled Shape\": 32.4, \"% Scheduled Trip w/ 1+ VP/Minute\": 84.6, \"% Scheduled Trip w/ 2+ VP/Minute\": 52.400000000000006, \"Realtime versus Scheduled Service Ratio\": 1.1, \"Speed (MPH)\": 10.77, \"Portfolio Organization Name\": \"City of West Hollywood\", \"Headway (Minutes)\": 96.77, \"sched_rt_category\": \"schedule_and_vp\", \"ruler\": 100}, {\"Direction (0/1)\": 0, \"Period\": \"All Day\", \"Average Scheduled Service (trip minutes)\": 52.73, \"# Scheduled Trips\": 15, \"# Realtime Trips\": 18, \"Date\": \"2024-09-18T00:00:00\", \"Route\": \"Cityline Local-East\", \"Direction\": \"Eastbound\", \"# Minutes with 1+ VP per Minute\": 980, \"# Minutes with 2+ VP per Minute\": 546, \"# Early Arrival Trips\": 4, \"# On-Time Trips\": 3, \"# Late Trips\": 11, \"Average VP per Minute\": 1.55, \"% VP within Scheduled Shape\": 34.2, \"% Scheduled Trip w/ 1+ VP/Minute\": 100.0, \"% Scheduled Trip w/ 2+ VP/Minute\": 56.2, \"Realtime versus Scheduled Service Ratio\": 1.13, \"Speed (MPH)\": 7.9, \"Portfolio Organization Name\": \"City of West Hollywood\", \"Headway (Minutes)\": 96.77, \"sched_rt_category\": \"schedule_and_vp\", \"ruler\": 100}, {\"Direction (0/1)\": 0, \"Period\": \"All Day\", \"Average Scheduled Service (trip minutes)\": 52.73, \"# Scheduled Trips\": 15, \"# Realtime Trips\": 21, \"Date\": \"2024-10-16T00:00:00\", \"Route\": \"Cityline Local-East\", \"Direction\": \"Eastbound\", \"# Minutes with 1+ VP per Minute\": 1315, \"# Minutes with 2+ VP per Minute\": 655, \"# Early Arrival Trips\": 2, \"# On-Time Trips\": 5, \"# Late Trips\": 14, \"Average VP per Minute\": 1.6, \"% VP within Scheduled Shape\": 33.900000000000006, \"% Scheduled Trip w/ 1+ VP/Minute\": 100.0, \"% Scheduled Trip w/ 2+ VP/Minute\": 60.0, \"Realtime versus Scheduled Service Ratio\": 1.27, \"Speed (MPH)\": 8.24, \"Portfolio Organization Name\": \"City of West Hollywood\", \"Headway (Minutes)\": 96.77, \"sched_rt_category\": \"schedule_and_vp\", \"ruler\": 100}, {\"Direction (0/1)\": 0, \"Period\": \"All Day\", \"Average Scheduled Service (trip minutes)\": 52.73, \"# Scheduled Trips\": 15, \"# Realtime Trips\": 16, \"Date\": \"2024-11-13T00:00:00\", \"Route\": \"Cityline Local-East\", \"Direction\": \"Eastbound\", \"# Minutes with 1+ VP per Minute\": 976, \"# Minutes with 2+ VP per Minute\": 556, \"# Early Arrival Trips\": 0, \"# On-Time Trips\": 8, \"# Late Trips\": 8, \"Average VP per Minute\": 1.62, \"% VP within Scheduled Shape\": 23.5, \"% Scheduled Trip w/ 1+ VP/Minute\": 100.0, \"% Scheduled Trip w/ 2+ VP/Minute\": 66.8, \"Realtime versus Scheduled Service Ratio\": 1.31, \"Speed (MPH)\": 8.6, \"Portfolio Organization Name\": \"City of West Hollywood\", \"Headway (Minutes)\": 96.77, \"sched_rt_category\": \"schedule_and_vp\", \"ruler\": 100}, {\"Direction (0/1)\": 0, \"Period\": \"All Day\", \"Average Scheduled Service (trip minutes)\": 52.73, \"# Scheduled Trips\": 15, \"# Realtime Trips\": 12, \"Date\": \"2024-12-11T00:00:00\", \"Route\": \"Cityline Local-East\", \"Direction\": \"Eastbound\", \"# Minutes with 1+ VP per Minute\": 748, \"# Minutes with 2+ VP per Minute\": 428, \"# Early Arrival Trips\": 0, \"# On-Time Trips\": 3, \"# Late Trips\": 9, \"Average VP per Minute\": 1.46, \"% VP within Scheduled Shape\": 24.3, \"% Scheduled Trip w/ 1+ VP/Minute\": 100.0, \"% Scheduled Trip w/ 2+ VP/Minute\": 64.1, \"Realtime versus Scheduled Service Ratio\": 1.35, \"Speed (MPH)\": 7.6, \"Portfolio Organization Name\": \"City of West Hollywood\", \"Headway (Minutes)\": 96.77, \"sched_rt_category\": \"schedule_and_vp\", \"ruler\": 100}, {\"Direction (0/1)\": 1, \"Period\": \"All Day\", \"Average Scheduled Service (trip minutes)\": 67.89, \"# Scheduled Trips\": 15, \"# Realtime Trips\": 26, \"Date\": \"2024-07-17T00:00:00\", \"Route\": \"Cityline Local-West\", \"Direction\": \"Westbound\", \"# Minutes with 1+ VP per Minute\": 1659, \"# Minutes with 2+ VP per Minute\": 855, \"# Early Arrival Trips\": 3, \"# On-Time Trips\": 18, \"# Late Trips\": 5, \"Average VP per Minute\": 1.65, \"% VP within Scheduled Shape\": 21.9, \"% Scheduled Trip w/ 1+ VP/Minute\": 94.89999999999999, \"% Scheduled Trip w/ 2+ VP/Minute\": 48.9, \"Realtime versus Scheduled Service Ratio\": 0.98, \"Speed (MPH)\": 9.55, \"Portfolio Organization Name\": \"City of West Hollywood\", \"Headway (Minutes)\": 96.77, \"sched_rt_category\": \"schedule_and_vp\", \"ruler\": 100}, {\"Direction (0/1)\": 1, \"Period\": \"All Day\", \"Average Scheduled Service (trip minutes)\": 67.89, \"# Scheduled Trips\": 15, \"# Realtime Trips\": 29, \"Date\": \"2024-08-14T00:00:00\", \"Route\": \"Cityline Local-West\", \"Direction\": \"Westbound\", \"# Minutes with 1+ VP per Minute\": 2032, \"# Minutes with 2+ VP per Minute\": 1009, \"# Early Arrival Trips\": 12, \"# On-Time Trips\": 4, \"# Late Trips\": 13, \"Average VP per Minute\": 1.65, \"% VP within Scheduled Shape\": 24.7, \"% Scheduled Trip w/ 1+ VP/Minute\": 100.0, \"% Scheduled Trip w/ 2+ VP/Minute\": 51.2, \"Realtime versus Scheduled Service Ratio\": 1.04, \"Speed (MPH)\": 9.53, \"Portfolio Organization Name\": \"City of West Hollywood\", \"Headway (Minutes)\": 96.77, \"sched_rt_category\": \"schedule_and_vp\", \"ruler\": 100}, {\"Direction (0/1)\": 1, \"Period\": \"All Day\", \"Average Scheduled Service (trip minutes)\": 67.89, \"# Scheduled Trips\": 15, \"# Realtime Trips\": 23, \"Date\": \"2024-09-18T00:00:00\", \"Route\": \"Cityline Local-West\", \"Direction\": \"Westbound\", \"# Minutes with 1+ VP per Minute\": 1882, \"# Minutes with 2+ VP per Minute\": 756, \"# Early Arrival Trips\": 3, \"# On-Time Trips\": 5, \"# Late Trips\": 15, \"Average VP per Minute\": 1.46, \"% VP within Scheduled Shape\": 28.000000000000004, \"% Scheduled Trip w/ 1+ VP/Minute\": 100.0, \"% Scheduled Trip w/ 2+ VP/Minute\": 48.199999999999996, \"Realtime versus Scheduled Service Ratio\": 1.24, \"Speed (MPH)\": 8.14, \"Portfolio Organization Name\": \"City of West Hollywood\", \"Headway (Minutes)\": 96.77, \"sched_rt_category\": \"schedule_and_vp\", \"ruler\": 100}, {\"Direction (0/1)\": 1, \"Period\": \"All Day\", \"Average Scheduled Service (trip minutes)\": 67.89, \"# Scheduled Trips\": 15, \"# Realtime Trips\": 20, \"Date\": \"2024-10-16T00:00:00\", \"Route\": \"Cityline Local-West\", \"Direction\": \"Westbound\", \"# Minutes with 1+ VP per Minute\": 1401, \"# Minutes with 2+ VP per Minute\": 697, \"# Early Arrival Trips\": 5, \"# On-Time Trips\": 0, \"# Late Trips\": 15, \"Average VP per Minute\": 1.57, \"% VP within Scheduled Shape\": 31.900000000000002, \"% Scheduled Trip w/ 1+ VP/Minute\": 100.0, \"% Scheduled Trip w/ 2+ VP/Minute\": 52.300000000000004, \"Realtime versus Scheduled Service Ratio\": 1.1, \"Speed (MPH)\": 9.09, \"Portfolio Organization Name\": \"City of West Hollywood\", \"Headway (Minutes)\": 96.77, \"sched_rt_category\": \"schedule_and_vp\", \"ruler\": 100}, {\"Direction (0/1)\": 1, \"Period\": \"All Day\", \"Average Scheduled Service (trip minutes)\": 67.89, \"# Scheduled Trips\": 15, \"# Realtime Trips\": 16, \"Date\": \"2024-11-13T00:00:00\", \"Route\": \"Cityline Local-West\", \"Direction\": \"Westbound\", \"# Minutes with 1+ VP per Minute\": 1129, \"# Minutes with 2+ VP per Minute\": 539, \"# Early Arrival Trips\": 3, \"# On-Time Trips\": 4, \"# Late Trips\": 9, \"Average VP per Minute\": 1.62, \"% VP within Scheduled Shape\": 24.2, \"% Scheduled Trip w/ 1+ VP/Minute\": 100.0, \"% Scheduled Trip w/ 2+ VP/Minute\": 50.4, \"Realtime versus Scheduled Service Ratio\": 1.07, \"Speed (MPH)\": 8.56, \"Portfolio Organization Name\": \"City of West Hollywood\", \"Headway (Minutes)\": 96.77, \"sched_rt_category\": \"schedule_and_vp\", \"ruler\": 100}, {\"Direction (0/1)\": 1, \"Period\": \"All Day\", \"Average Scheduled Service (trip minutes)\": 67.89, \"# Scheduled Trips\": 15, \"# Realtime Trips\": 17, \"Date\": \"2024-12-11T00:00:00\", \"Route\": \"Cityline Local-West\", \"Direction\": \"Westbound\", \"# Minutes with 1+ VP per Minute\": 1344, \"# Minutes with 2+ VP per Minute\": 655, \"# Early Arrival Trips\": 0, \"# On-Time Trips\": 8, \"# Late Trips\": 9, \"Average VP per Minute\": 1.62, \"% VP within Scheduled Shape\": 22.0, \"% Scheduled Trip w/ 1+ VP/Minute\": 100.0, \"% Scheduled Trip w/ 2+ VP/Minute\": 55.60000000000001, \"Realtime versus Scheduled Service Ratio\": 1.17, \"Speed (MPH)\": 8.43, \"Portfolio Organization Name\": \"City of West Hollywood\", \"Headway (Minutes)\": 96.77, \"sched_rt_category\": \"schedule_and_vp\", \"ruler\": 100}, {\"Direction (0/1)\": 0, \"Period\": \"All Day\", \"Average Scheduled Service (trip minutes)\": 52.73, \"# Scheduled Trips\": 15, \"# Realtime Trips\": 9, \"Date\": \"2025-01-15T00:00:00\", \"Route\": \"Cityline Local-East\", \"Direction\": \"Eastbound\", \"# Minutes with 1+ VP per Minute\": 345, \"# Minutes with 2+ VP per Minute\": 192, \"# Early Arrival Trips\": 0, \"# On-Time Trips\": 6, \"# Late Trips\": 3, \"Average VP per Minute\": 1.11, \"% VP within Scheduled Shape\": 17.9, \"% Scheduled Trip w/ 1+ VP/Minute\": 72.8, \"% Scheduled Trip w/ 2+ VP/Minute\": 40.5, \"Realtime versus Scheduled Service Ratio\": 1.15, \"Speed (MPH)\": 6.07, \"Portfolio Organization Name\": \"City of West Hollywood\", \"Headway (Minutes)\": 96.77, \"sched_rt_category\": \"schedule_and_vp\", \"ruler\": 100}, {\"Direction (0/1)\": 0, \"Period\": \"All Day\", \"Average Scheduled Service (trip minutes)\": 52.73, \"# Scheduled Trips\": 15, \"# Realtime Trips\": 16, \"Date\": \"2025-02-12T00:00:00\", \"Route\": \"Cityline Local-East\", \"Direction\": \"Eastbound\", \"# Minutes with 1+ VP per Minute\": 960, \"# Minutes with 2+ VP per Minute\": 596, \"# Early Arrival Trips\": 0, \"# On-Time Trips\": 0, \"# Late Trips\": 16, \"Average VP per Minute\": 1.77, \"% VP within Scheduled Shape\": 24.099999999999998, \"% Scheduled Trip w/ 1+ VP/Minute\": 100.0, \"% Scheduled Trip w/ 2+ VP/Minute\": 71.6, \"Realtime versus Scheduled Service Ratio\": 1.19, \"Speed (MPH)\": 8.26, \"Portfolio Organization Name\": \"City of West Hollywood\", \"Headway (Minutes)\": 96.77, \"sched_rt_category\": \"schedule_and_vp\", \"ruler\": 100}, {\"Direction (0/1)\": 0, \"Period\": \"All Day\", \"Average Scheduled Service (trip minutes)\": 52.73, \"# Scheduled Trips\": 15, \"# Realtime Trips\": 15, \"Date\": \"2025-03-12T00:00:00\", \"Route\": \"Cityline Local-East\", \"Direction\": \"Eastbound\", \"# Minutes with 1+ VP per Minute\": 847, \"# Minutes with 2+ VP per Minute\": 454, \"# Early Arrival Trips\": 2, \"# On-Time Trips\": 5, \"# Late Trips\": 8, \"Average VP per Minute\": 1.65, \"% VP within Scheduled Shape\": 22.900000000000002, \"% Scheduled Trip w/ 1+ VP/Minute\": 100.0, \"% Scheduled Trip w/ 2+ VP/Minute\": 56.99999999999999, \"Realtime versus Scheduled Service Ratio\": 1.09, \"Speed (MPH)\": 7.68, \"Portfolio Organization Name\": \"City of West Hollywood\", \"Headway (Minutes)\": 96.77, \"sched_rt_category\": \"schedule_and_vp\", \"ruler\": 100}, {\"Direction (0/1)\": 1, \"Period\": \"All Day\", \"Average Scheduled Service (trip minutes)\": 67.89, \"# Scheduled Trips\": 15, \"# Realtime Trips\": 18, \"Date\": \"2025-01-15T00:00:00\", \"Route\": \"Cityline Local-West\", \"Direction\": \"Westbound\", \"# Minutes with 1+ VP per Minute\": 1440, \"# Minutes with 2+ VP per Minute\": 729, \"# Early Arrival Trips\": 0, \"# On-Time Trips\": 0, \"# Late Trips\": 18, \"Average VP per Minute\": 1.63, \"% VP within Scheduled Shape\": 10.2, \"% Scheduled Trip w/ 1+ VP/Minute\": 100.0, \"% Scheduled Trip w/ 2+ VP/Minute\": 58.9, \"Realtime versus Scheduled Service Ratio\": 1.2, \"Speed (MPH)\": 9.45, \"Portfolio Organization Name\": \"City of West Hollywood\", \"Headway (Minutes)\": 96.77, \"sched_rt_category\": \"schedule_and_vp\", \"ruler\": 100}, {\"Direction (0/1)\": 1, \"Period\": \"All Day\", \"Average Scheduled Service (trip minutes)\": 67.89, \"# Scheduled Trips\": 15, \"# Realtime Trips\": 17, \"Date\": \"2025-02-12T00:00:00\", \"Route\": \"Cityline Local-West\", \"Direction\": \"Westbound\", \"# Minutes with 1+ VP per Minute\": 1126, \"# Minutes with 2+ VP per Minute\": 594, \"# Early Arrival Trips\": 4, \"# On-Time Trips\": 4, \"# Late Trips\": 9, \"Average VP per Minute\": 1.52, \"% VP within Scheduled Shape\": 23.3, \"% Scheduled Trip w/ 1+ VP/Minute\": 98.1, \"% Scheduled Trip w/ 2+ VP/Minute\": 51.800000000000004, \"Realtime versus Scheduled Service Ratio\": 1.06, \"Speed (MPH)\": 11.39, \"Portfolio Organization Name\": \"City of West Hollywood\", \"Headway (Minutes)\": 96.77, \"sched_rt_category\": \"schedule_and_vp\", \"ruler\": 100}, {\"Direction (0/1)\": 1, \"Period\": \"All Day\", \"Average Scheduled Service (trip minutes)\": 67.89, \"# Scheduled Trips\": 15, \"# Realtime Trips\": 17, \"Date\": \"2025-03-12T00:00:00\", \"Route\": \"Cityline Local-West\", \"Direction\": \"Westbound\", \"# Minutes with 1+ VP per Minute\": 1119, \"# Minutes with 2+ VP per Minute\": 598, \"# Early Arrival Trips\": 0, \"# On-Time Trips\": 4, \"# Late Trips\": 13, \"Average VP per Minute\": 1.52, \"% VP within Scheduled Shape\": 23.0, \"% Scheduled Trip w/ 1+ VP/Minute\": 97.5, \"% Scheduled Trip w/ 2+ VP/Minute\": 52.1, \"Realtime versus Scheduled Service Ratio\": 1.09, \"Speed (MPH)\": 9.74, \"Portfolio Organization Name\": \"City of West Hollywood\", \"Headway (Minutes)\": 96.77, \"sched_rt_category\": \"schedule_and_vp\", \"ruler\": 100}]}}, {\"mode\": \"vega-lite\"});\n",
       "</script>"
      ],
      "text/plain": [
       "alt.VConcatChart(...)"
      ]
     },
     "execution_count": 7,
     "metadata": {},
     "output_type": "execute_result"
    }
   ],
   "source": [
    "route_filter(df)"
   ]
  },
  {
   "cell_type": "markdown",
   "id": "977aa530-b07d-46e4-a1d2-1a0a00947ac8",
   "metadata": {},
   "source": [
    "## VP per Minute"
   ]
  },
  {
   "cell_type": "code",
   "execution_count": 8,
   "id": "b0c5415e-9ff1-4401-b46e-05652fb6bf4c",
   "metadata": {
    "tags": []
   },
   "outputs": [],
   "source": [
    "def vp_per_minute_chart(df: pd.DataFrame) -> alt.Chart:\n",
    "    specific_chart_dict = readable_dict.vp_per_min_graph\n",
    "    ruler = _report_visuals_utils.ruler_chart(df, 3)\n",
    "    \n",
    "    bar = _report_visuals_utils.bar_chart(\n",
    "        x_col = \"Date\", \n",
    "        y_col = \"Average VP per Minute\",\n",
    "        color_col = \"Average VP per Minute\",\n",
    "        color_scheme = [*specific_chart_dict.colors], \n",
    "        tooltip_cols = [*specific_chart_dict.tooltip], \n",
    "        date_format=\"%b %Y\"\n",
    "    )\n",
    "    \n",
    "    # write this way so that the df is inherited by .facet\n",
    "    chart = alt.layer(bar, ruler, data = df).properties(width=200, height=250)\n",
    "    chart = chart.facet(\n",
    "        column=alt.Column(\n",
    "            \"Direction:N\",\n",
    "        )\n",
    "    ).properties(\n",
    "        title={\n",
    "            \"text\": specific_chart_dict.title,\n",
    "            \"subtitle\": specific_chart_dict.subtitle,\n",
    "        }\n",
    "    )\n",
    "    return chart"
   ]
  },
  {
   "cell_type": "code",
   "execution_count": 9,
   "id": "700635a7-ccc4-44cd-8aaa-c90d68d0ac10",
   "metadata": {
    "tags": []
   },
   "outputs": [
    {
     "data": {
      "text/html": [
       "\n",
       "<style>\n",
       "  #altair-viz-452ca6d283ed42d89fc4df90bdc883d7.vega-embed {\n",
       "    width: 100%;\n",
       "    display: flex;\n",
       "  }\n",
       "\n",
       "  #altair-viz-452ca6d283ed42d89fc4df90bdc883d7.vega-embed details,\n",
       "  #altair-viz-452ca6d283ed42d89fc4df90bdc883d7.vega-embed details summary {\n",
       "    position: relative;\n",
       "  }\n",
       "</style>\n",
       "<div id=\"altair-viz-452ca6d283ed42d89fc4df90bdc883d7\"></div>\n",
       "<script type=\"text/javascript\">\n",
       "  var VEGA_DEBUG = (typeof VEGA_DEBUG == \"undefined\") ? {} : VEGA_DEBUG;\n",
       "  (function(spec, embedOpt){\n",
       "    let outputDiv = document.currentScript.previousElementSibling;\n",
       "    if (outputDiv.id !== \"altair-viz-452ca6d283ed42d89fc4df90bdc883d7\") {\n",
       "      outputDiv = document.getElementById(\"altair-viz-452ca6d283ed42d89fc4df90bdc883d7\");\n",
       "    }\n",
       "\n",
       "    const paths = {\n",
       "      \"vega\": \"https://cdn.jsdelivr.net/npm/vega@5?noext\",\n",
       "      \"vega-lib\": \"https://cdn.jsdelivr.net/npm/vega-lib?noext\",\n",
       "      \"vega-lite\": \"https://cdn.jsdelivr.net/npm/vega-lite@5.20.1?noext\",\n",
       "      \"vega-embed\": \"https://cdn.jsdelivr.net/npm/vega-embed@6?noext\",\n",
       "    };\n",
       "\n",
       "    function maybeLoadScript(lib, version) {\n",
       "      var key = `${lib.replace(\"-\", \"\")}_version`;\n",
       "      return (VEGA_DEBUG[key] == version) ?\n",
       "        Promise.resolve(paths[lib]) :\n",
       "        new Promise(function(resolve, reject) {\n",
       "          var s = document.createElement('script');\n",
       "          document.getElementsByTagName(\"head\")[0].appendChild(s);\n",
       "          s.async = true;\n",
       "          s.onload = () => {\n",
       "            VEGA_DEBUG[key] = version;\n",
       "            return resolve(paths[lib]);\n",
       "          };\n",
       "          s.onerror = () => reject(`Error loading script: ${paths[lib]}`);\n",
       "          s.src = paths[lib];\n",
       "        });\n",
       "    }\n",
       "\n",
       "    function showError(err) {\n",
       "      outputDiv.innerHTML = `<div class=\"error\" style=\"color:red;\">${err}</div>`;\n",
       "      throw err;\n",
       "    }\n",
       "\n",
       "    function displayChart(vegaEmbed) {\n",
       "      vegaEmbed(outputDiv, spec, embedOpt)\n",
       "        .catch(err => showError(`Javascript Error: ${err.message}<br>This usually means there's a typo in your chart specification. See the javascript console for the full traceback.`));\n",
       "    }\n",
       "\n",
       "    if(typeof define === \"function\" && define.amd) {\n",
       "      requirejs.config({paths});\n",
       "      let deps = [\"vega-embed\"];\n",
       "      require(deps, displayChart, err => showError(`Error loading script: ${err.message}`));\n",
       "    } else {\n",
       "      maybeLoadScript(\"vega\", \"5\")\n",
       "        .then(() => maybeLoadScript(\"vega-lite\", \"5.20.1\"))\n",
       "        .then(() => maybeLoadScript(\"vega-embed\", \"6\"))\n",
       "        .catch(showError)\n",
       "        .then(() => displayChart(vegaEmbed));\n",
       "    }\n",
       "  })({\"config\": {\"view\": {\"continuousWidth\": 300, \"continuousHeight\": 300}}, \"data\": {\"name\": \"data-8f80ebfa592484676bec50441f7f0ea4\"}, \"facet\": {\"column\": {\"field\": \"Direction\", \"type\": \"nominal\"}}, \"spec\": {\"layer\": [{\"mark\": {\"type\": \"bar\"}, \"encoding\": {\"color\": {\"field\": \"Average VP per Minute\", \"legend\": null, \"scale\": {\"range\": [\"#dd217d\", \"#fc5c04\", \"#fcb40e\", \"#ccbb44\"]}, \"title\": \"Average VP per Minute\", \"type\": \"quantitative\"}, \"tooltip\": [{\"field\": \"Date\", \"type\": \"temporal\"}, {\"field\": \"Route\", \"type\": \"nominal\"}, {\"field\": \"Direction\", \"type\": \"nominal\"}, {\"field\": \"Average VP per Minute\", \"type\": \"quantitative\"}], \"x\": {\"axis\": {\"format\": \"%b %Y\", \"labelAngle\": -45}, \"field\": \"Date\", \"title\": \"Date\", \"type\": \"temporal\"}, \"y\": {\"field\": \"Average VP per Minute\", \"title\": \"Average VP per Minute\", \"type\": \"quantitative\"}}}, {\"data\": {\"name\": \"data-3518fa59e080bdf8c4e7d3bd54e2ee00\"}, \"mark\": {\"type\": \"rule\", \"color\": \"red\", \"strokeDash\": [10, 7]}, \"encoding\": {\"y\": {\"aggregate\": \"mean\", \"field\": \"ruler\", \"type\": \"quantitative\"}}}], \"height\": 250, \"width\": 200}, \"title\": {\"text\": \"Vehicle Positions per Minute\", \"subtitle\": \"Trips should have 2+ VPs per minute. This metric reflects the accuracy of the temporal data collected.\"}, \"$schema\": \"https://vega.github.io/schema/vega-lite/v5.20.1.json\", \"datasets\": {\"data-8f80ebfa592484676bec50441f7f0ea4\": [{\"Direction (0/1)\": 0, \"Period\": \"All Day\", \"Average Scheduled Service (trip minutes)\": 52.73, \"# Scheduled Trips\": 15, \"# Realtime Trips\": 11, \"Date\": \"2023-03-15T00:00:00\", \"Route\": \"Cityline Local-East\", \"Direction\": \"Eastbound\", \"# Minutes with 1+ VP per Minute\": 455, \"# Minutes with 2+ VP per Minute\": 249, \"# Early Arrival Trips\": 1, \"# On-Time Trips\": 7, \"# Late Trips\": 3, \"Average VP per Minute\": 1.19, \"% VP within Scheduled Shape\": 95.0, \"% Scheduled Trip w/ 1+ VP/Minute\": 78.2, \"% Scheduled Trip w/ 2+ VP/Minute\": 42.8, \"Realtime versus Scheduled Service Ratio\": 1.14, \"Speed (MPH)\": 8.82, \"Portfolio Organization Name\": \"City of West Hollywood\", \"Headway (Minutes)\": 96.77, \"sched_rt_category\": \"schedule_and_vp\"}, {\"Direction (0/1)\": 1, \"Period\": \"All Day\", \"Average Scheduled Service (trip minutes)\": 67.89, \"# Scheduled Trips\": 15, \"# Realtime Trips\": 12, \"Date\": \"2023-03-15T00:00:00\", \"Route\": \"Cityline Local-West\", \"Direction\": \"Westbound\", \"# Minutes with 1+ VP per Minute\": 649, \"# Minutes with 2+ VP per Minute\": 291, \"# Early Arrival Trips\": 2, \"# On-Time Trips\": 2, \"# Late Trips\": 8, \"Average VP per Minute\": 1.06, \"% VP within Scheduled Shape\": 94.1, \"% Scheduled Trip w/ 1+ VP/Minute\": 79.3, \"% Scheduled Trip w/ 2+ VP/Minute\": 35.5, \"Realtime versus Scheduled Service Ratio\": 1.21, \"Speed (MPH)\": 8.45, \"Portfolio Organization Name\": \"City of West Hollywood\", \"Headway (Minutes)\": 96.77, \"sched_rt_category\": \"schedule_and_vp\"}, {\"Direction (0/1)\": 0, \"Period\": \"All Day\", \"Average Scheduled Service (trip minutes)\": 52.73, \"# Scheduled Trips\": 15, \"# Realtime Trips\": 13, \"Date\": \"2023-04-12T00:00:00\", \"Route\": \"Cityline Local-East\", \"Direction\": \"Eastbound\", \"# Minutes with 1+ VP per Minute\": 597, \"# Minutes with 2+ VP per Minute\": 301, \"# Early Arrival Trips\": 3, \"# On-Time Trips\": 3, \"# Late Trips\": 7, \"Average VP per Minute\": 1.2, \"% VP within Scheduled Shape\": 94.8, \"% Scheduled Trip w/ 1+ VP/Minute\": 86.4, \"% Scheduled Trip w/ 2+ VP/Minute\": 43.6, \"Realtime versus Scheduled Service Ratio\": 1.22, \"Speed (MPH)\": 8.55, \"Portfolio Organization Name\": \"City of West Hollywood\", \"Headway (Minutes)\": 96.77, \"sched_rt_category\": \"schedule_and_vp\"}, {\"Direction (0/1)\": 0, \"Period\": \"All Day\", \"Average Scheduled Service (trip minutes)\": 52.73, \"# Scheduled Trips\": 15, \"# Realtime Trips\": 11, \"Date\": \"2023-05-17T00:00:00\", \"Route\": \"Cityline Local-East\", \"Direction\": \"Eastbound\", \"# Minutes with 1+ VP per Minute\": 579, \"# Minutes with 2+ VP per Minute\": 313, \"# Early Arrival Trips\": 2, \"# On-Time Trips\": 2, \"# Late Trips\": 7, \"Average VP per Minute\": 1.52, \"% VP within Scheduled Shape\": 92.4, \"% Scheduled Trip w/ 1+ VP/Minute\": 100.0, \"% Scheduled Trip w/ 2+ VP/Minute\": 54.1, \"Realtime versus Scheduled Service Ratio\": 1.13, \"Speed (MPH)\": 8.41, \"Portfolio Organization Name\": \"City of West Hollywood\", \"Headway (Minutes)\": 96.77, \"sched_rt_category\": \"schedule_and_vp\"}, {\"Direction (0/1)\": 0, \"Period\": \"All Day\", \"Average Scheduled Service (trip minutes)\": 52.73, \"# Scheduled Trips\": 15, \"# Realtime Trips\": 7, \"Date\": \"2023-06-14T00:00:00\", \"Route\": \"Cityline Local-East\", \"Direction\": \"Eastbound\", \"# Minutes with 1+ VP per Minute\": 397, \"# Minutes with 2+ VP per Minute\": 208, \"# Early Arrival Trips\": 1, \"# On-Time Trips\": 1, \"# Late Trips\": 5, \"Average VP per Minute\": 1.45, \"% VP within Scheduled Shape\": 93.2, \"% Scheduled Trip w/ 1+ VP/Minute\": 100.0, \"% Scheduled Trip w/ 2+ VP/Minute\": 56.10000000000001, \"Realtime versus Scheduled Service Ratio\": 1.28, \"Speed (MPH)\": 7.31, \"Portfolio Organization Name\": \"City of West Hollywood\", \"Headway (Minutes)\": 96.77, \"sched_rt_category\": \"schedule_and_vp\"}, {\"Direction (0/1)\": 0, \"Period\": \"All Day\", \"Average Scheduled Service (trip minutes)\": 52.73, \"# Scheduled Trips\": 15, \"# Realtime Trips\": 11, \"Date\": \"2023-07-12T00:00:00\", \"Route\": \"Cityline Local-East\", \"Direction\": \"Eastbound\", \"# Minutes with 1+ VP per Minute\": 695, \"# Minutes with 2+ VP per Minute\": 395, \"# Early Arrival Trips\": 0, \"# On-Time Trips\": 3, \"# Late Trips\": 8, \"Average VP per Minute\": 1.59, \"% VP within Scheduled Shape\": 97.6, \"% Scheduled Trip w/ 1+ VP/Minute\": 100.0, \"% Scheduled Trip w/ 2+ VP/Minute\": 67.80000000000001, \"Realtime versus Scheduled Service Ratio\": 1.32, \"Speed (MPH)\": 8.54, \"Portfolio Organization Name\": \"City of West Hollywood\", \"Headway (Minutes)\": 96.77, \"sched_rt_category\": \"schedule_and_vp\"}, {\"Direction (0/1)\": 0, \"Period\": \"All Day\", \"Average Scheduled Service (trip minutes)\": 52.73, \"# Scheduled Trips\": 15, \"# Realtime Trips\": 7, \"Date\": \"2023-08-15T00:00:00\", \"Route\": \"Cityline Local-East\", \"Direction\": \"Eastbound\", \"# Minutes with 1+ VP per Minute\": 395, \"# Minutes with 2+ VP per Minute\": 207, \"# Early Arrival Trips\": 1, \"# On-Time Trips\": 1, \"# Late Trips\": 5, \"Average VP per Minute\": 1.68, \"% VP within Scheduled Shape\": 93.2, \"% Scheduled Trip w/ 1+ VP/Minute\": 100.0, \"% Scheduled Trip w/ 2+ VP/Minute\": 55.60000000000001, \"Realtime versus Scheduled Service Ratio\": 1.08, \"Speed (MPH)\": 8.73, \"Portfolio Organization Name\": \"City of West Hollywood\", \"Headway (Minutes)\": 96.77, \"sched_rt_category\": \"schedule_and_vp\"}, {\"Direction (0/1)\": 0, \"Period\": \"All Day\", \"Average Scheduled Service (trip minutes)\": 52.73, \"# Scheduled Trips\": 15, \"# Realtime Trips\": 11, \"Date\": \"2023-09-13T00:00:00\", \"Route\": \"Cityline Local-East\", \"Direction\": \"Eastbound\", \"# Minutes with 1+ VP per Minute\": 668, \"# Minutes with 2+ VP per Minute\": 363, \"# Early Arrival Trips\": 2, \"# On-Time Trips\": 2, \"# Late Trips\": 7, \"Average VP per Minute\": 1.61, \"% VP within Scheduled Shape\": 93.30000000000001, \"% Scheduled Trip w/ 1+ VP/Minute\": 100.0, \"% Scheduled Trip w/ 2+ VP/Minute\": 62.6, \"Realtime versus Scheduled Service Ratio\": 1.24, \"Speed (MPH)\": 8.95, \"Portfolio Organization Name\": \"City of West Hollywood\", \"Headway (Minutes)\": 96.77, \"sched_rt_category\": \"schedule_and_vp\"}, {\"Direction (0/1)\": 0, \"Period\": \"All Day\", \"Average Scheduled Service (trip minutes)\": 52.73, \"# Scheduled Trips\": 15, \"# Realtime Trips\": 11, \"Date\": \"2023-10-11T00:00:00\", \"Route\": \"Cityline Local-East\", \"Direction\": \"Eastbound\", \"# Minutes with 1+ VP per Minute\": 534, \"# Minutes with 2+ VP per Minute\": 274, \"# Early Arrival Trips\": 3, \"# On-Time Trips\": 5, \"# Late Trips\": 3, \"Average VP per Minute\": 1.56, \"% VP within Scheduled Shape\": 91.10000000000001, \"% Scheduled Trip w/ 1+ VP/Minute\": 92.4, \"% Scheduled Trip w/ 2+ VP/Minute\": 47.4, \"Realtime versus Scheduled Service Ratio\": 1.01, \"Speed (MPH)\": 8.85, \"Portfolio Organization Name\": \"City of West Hollywood\", \"Headway (Minutes)\": 96.77, \"sched_rt_category\": \"schedule_and_vp\"}, {\"Direction (0/1)\": 0, \"Period\": \"All Day\", \"Average Scheduled Service (trip minutes)\": 52.73, \"# Scheduled Trips\": 15, \"# Realtime Trips\": 7, \"Date\": \"2023-11-15T00:00:00\", \"Route\": \"Cityline Local-East\", \"Direction\": \"Eastbound\", \"# Minutes with 1+ VP per Minute\": 358, \"# Minutes with 2+ VP per Minute\": 184, \"# Early Arrival Trips\": 2, \"# On-Time Trips\": 4, \"# Late Trips\": 1, \"Average VP per Minute\": 1.67, \"% VP within Scheduled Shape\": 96.7, \"% Scheduled Trip w/ 1+ VP/Minute\": 95.7, \"% Scheduled Trip w/ 2+ VP/Minute\": 49.2, \"Realtime versus Scheduled Service Ratio\": 0.98, \"Speed (MPH)\": 8.9, \"Portfolio Organization Name\": \"City of West Hollywood\", \"Headway (Minutes)\": 96.77, \"sched_rt_category\": \"schedule_and_vp\"}, {\"Direction (0/1)\": 0, \"Period\": \"All Day\", \"Average Scheduled Service (trip minutes)\": 52.73, \"# Scheduled Trips\": 15, \"# Realtime Trips\": 8, \"Date\": \"2023-12-13T00:00:00\", \"Route\": \"Cityline Local-East\", \"Direction\": \"Eastbound\", \"# Minutes with 1+ VP per Minute\": 501, \"# Minutes with 2+ VP per Minute\": 269, \"# Early Arrival Trips\": 0, \"# On-Time Trips\": 2, \"# Late Trips\": 6, \"Average VP per Minute\": 1.58, \"% VP within Scheduled Shape\": 95.1, \"% Scheduled Trip w/ 1+ VP/Minute\": 100.0, \"% Scheduled Trip w/ 2+ VP/Minute\": 64.0, \"Realtime versus Scheduled Service Ratio\": 1.31, \"Speed (MPH)\": 7.25, \"Portfolio Organization Name\": \"City of West Hollywood\", \"Headway (Minutes)\": 96.77, \"sched_rt_category\": \"schedule_and_vp\"}, {\"Direction (0/1)\": 1, \"Period\": \"All Day\", \"Average Scheduled Service (trip minutes)\": 67.89, \"# Scheduled Trips\": 15, \"# Realtime Trips\": 14, \"Date\": \"2023-04-12T00:00:00\", \"Route\": \"Cityline Local-West\", \"Direction\": \"Westbound\", \"# Minutes with 1+ VP per Minute\": 779, \"# Minutes with 2+ VP per Minute\": 371, \"# Early Arrival Trips\": 2, \"# On-Time Trips\": 6, \"# Late Trips\": 6, \"Average VP per Minute\": 1.2, \"% VP within Scheduled Shape\": 93.30000000000001, \"% Scheduled Trip w/ 1+ VP/Minute\": 81.69999999999999, \"% Scheduled Trip w/ 2+ VP/Minute\": 38.9, \"Realtime versus Scheduled Service Ratio\": 1.11, \"Speed (MPH)\": 7.81, \"Portfolio Organization Name\": \"City of West Hollywood\", \"Headway (Minutes)\": 96.77, \"sched_rt_category\": \"schedule_and_vp\"}, {\"Direction (0/1)\": 1, \"Period\": \"All Day\", \"Average Scheduled Service (trip minutes)\": 67.89, \"# Scheduled Trips\": 15, \"# Realtime Trips\": 10, \"Date\": \"2023-05-17T00:00:00\", \"Route\": \"Cityline Local-West\", \"Direction\": \"Westbound\", \"# Minutes with 1+ VP per Minute\": 708, \"# Minutes with 2+ VP per Minute\": 364, \"# Early Arrival Trips\": 1, \"# On-Time Trips\": 4, \"# Late Trips\": 5, \"Average VP per Minute\": 1.62, \"% VP within Scheduled Shape\": 93.89999999999999, \"% Scheduled Trip w/ 1+ VP/Minute\": 100.0, \"% Scheduled Trip w/ 2+ VP/Minute\": 54.1, \"Realtime versus Scheduled Service Ratio\": 1.1, \"Speed (MPH)\": 8.64, \"Portfolio Organization Name\": \"City of West Hollywood\", \"Headway (Minutes)\": 96.77, \"sched_rt_category\": \"schedule_and_vp\"}, {\"Direction (0/1)\": 1, \"Period\": \"All Day\", \"Average Scheduled Service (trip minutes)\": 67.89, \"# Scheduled Trips\": 15, \"# Realtime Trips\": 6, \"Date\": \"2023-06-14T00:00:00\", \"Route\": \"Cityline Local-West\", \"Direction\": \"Westbound\", \"# Minutes with 1+ VP per Minute\": 442, \"# Minutes with 2+ VP per Minute\": 200, \"# Early Arrival Trips\": 0, \"# On-Time Trips\": 3, \"# Late Trips\": 3, \"Average VP per Minute\": 1.49, \"% VP within Scheduled Shape\": 94.8, \"% Scheduled Trip w/ 1+ VP/Minute\": 100.0, \"% Scheduled Trip w/ 2+ VP/Minute\": 49.6, \"Realtime versus Scheduled Service Ratio\": 1.18, \"Speed (MPH)\": 9.04, \"Portfolio Organization Name\": \"City of West Hollywood\", \"Headway (Minutes)\": 96.77, \"sched_rt_category\": \"schedule_and_vp\"}, {\"Direction (0/1)\": 1, \"Period\": \"All Day\", \"Average Scheduled Service (trip minutes)\": 67.89, \"# Scheduled Trips\": 15, \"# Realtime Trips\": 11, \"Date\": \"2023-07-12T00:00:00\", \"Route\": \"Cityline Local-West\", \"Direction\": \"Westbound\", \"# Minutes with 1+ VP per Minute\": 816, \"# Minutes with 2+ VP per Minute\": 433, \"# Early Arrival Trips\": 1, \"# On-Time Trips\": 5, \"# Late Trips\": 5, \"Average VP per Minute\": 1.67, \"% VP within Scheduled Shape\": 93.89999999999999, \"% Scheduled Trip w/ 1+ VP/Minute\": 100.0, \"% Scheduled Trip w/ 2+ VP/Minute\": 57.9, \"Realtime versus Scheduled Service Ratio\": 1.11, \"Speed (MPH)\": 9.12, \"Portfolio Organization Name\": \"City of West Hollywood\", \"Headway (Minutes)\": 96.77, \"sched_rt_category\": \"schedule_and_vp\"}, {\"Direction (0/1)\": 1, \"Period\": \"All Day\", \"Average Scheduled Service (trip minutes)\": 67.89, \"# Scheduled Trips\": 15, \"# Realtime Trips\": 5, \"Date\": \"2023-08-15T00:00:00\", \"Route\": \"Cityline Local-West\", \"Direction\": \"Westbound\", \"# Minutes with 1+ VP per Minute\": 374, \"# Minutes with 2+ VP per Minute\": 186, \"# Early Arrival Trips\": 0, \"# On-Time Trips\": 3, \"# Late Trips\": 2, \"Average VP per Minute\": 1.66, \"% VP within Scheduled Shape\": 92.5, \"% Scheduled Trip w/ 1+ VP/Minute\": 100.0, \"% Scheduled Trip w/ 2+ VP/Minute\": 55.1, \"Realtime versus Scheduled Service Ratio\": 1.12, \"Speed (MPH)\": 9.45, \"Portfolio Organization Name\": \"City of West Hollywood\", \"Headway (Minutes)\": 96.77, \"sched_rt_category\": \"schedule_and_vp\"}, {\"Direction (0/1)\": 1, \"Period\": \"All Day\", \"Average Scheduled Service (trip minutes)\": 67.89, \"# Scheduled Trips\": 15, \"# Realtime Trips\": 10, \"Date\": \"2023-09-13T00:00:00\", \"Route\": \"Cityline Local-West\", \"Direction\": \"Westbound\", \"# Minutes with 1+ VP per Minute\": 751, \"# Minutes with 2+ VP per Minute\": 375, \"# Early Arrival Trips\": 1, \"# On-Time Trips\": 3, \"# Late Trips\": 6, \"Average VP per Minute\": 1.66, \"% VP within Scheduled Shape\": 95.6, \"% Scheduled Trip w/ 1+ VP/Minute\": 100.0, \"% Scheduled Trip w/ 2+ VP/Minute\": 55.800000000000004, \"Realtime versus Scheduled Service Ratio\": 1.13, \"Speed (MPH)\": 9.07, \"Portfolio Organization Name\": \"City of West Hollywood\", \"Headway (Minutes)\": 96.77, \"sched_rt_category\": \"schedule_and_vp\"}, {\"Direction (0/1)\": 1, \"Period\": \"All Day\", \"Average Scheduled Service (trip minutes)\": 67.89, \"# Scheduled Trips\": 15, \"# Realtime Trips\": 9, \"Date\": \"2023-10-11T00:00:00\", \"Route\": \"Cityline Local-West\", \"Direction\": \"Westbound\", \"# Minutes with 1+ VP per Minute\": 694, \"# Minutes with 2+ VP per Minute\": 323, \"# Early Arrival Trips\": 1, \"# On-Time Trips\": 2, \"# Late Trips\": 6, \"Average VP per Minute\": 1.59, \"% VP within Scheduled Shape\": 93.60000000000001, \"% Scheduled Trip w/ 1+ VP/Minute\": 100.0, \"% Scheduled Trip w/ 2+ VP/Minute\": 53.6, \"Realtime versus Scheduled Service Ratio\": 1.18, \"Speed (MPH)\": 9.14, \"Portfolio Organization Name\": \"City of West Hollywood\", \"Headway (Minutes)\": 96.77, \"sched_rt_category\": \"schedule_and_vp\"}, {\"Direction (0/1)\": 1, \"Period\": \"All Day\", \"Average Scheduled Service (trip minutes)\": 67.89, \"# Scheduled Trips\": 15, \"# Realtime Trips\": 8, \"Date\": \"2023-11-15T00:00:00\", \"Route\": \"Cityline Local-West\", \"Direction\": \"Westbound\", \"# Minutes with 1+ VP per Minute\": 496, \"# Minutes with 2+ VP per Minute\": 210, \"# Early Arrival Trips\": 1, \"# On-Time Trips\": 3, \"# Late Trips\": 4, \"Average VP per Minute\": 1.18, \"% VP within Scheduled Shape\": 87.7, \"% Scheduled Trip w/ 1+ VP/Minute\": 90.5, \"% Scheduled Trip w/ 2+ VP/Minute\": 38.3, \"Realtime versus Scheduled Service Ratio\": 1.21, \"Speed (MPH)\": 7.26, \"Portfolio Organization Name\": \"City of West Hollywood\", \"Headway (Minutes)\": 96.77, \"sched_rt_category\": \"schedule_and_vp\"}, {\"Direction (0/1)\": 1, \"Period\": \"All Day\", \"Average Scheduled Service (trip minutes)\": 67.89, \"# Scheduled Trips\": 15, \"# Realtime Trips\": 8, \"Date\": \"2023-12-13T00:00:00\", \"Route\": \"Cityline Local-West\", \"Direction\": \"Westbound\", \"# Minutes with 1+ VP per Minute\": 572, \"# Minutes with 2+ VP per Minute\": 287, \"# Early Arrival Trips\": 1, \"# On-Time Trips\": 3, \"# Late Trips\": 4, \"Average VP per Minute\": 1.6, \"% VP within Scheduled Shape\": 94.6, \"% Scheduled Trip w/ 1+ VP/Minute\": 100.0, \"% Scheduled Trip w/ 2+ VP/Minute\": 53.0, \"Realtime versus Scheduled Service Ratio\": 1.08, \"Speed (MPH)\": 9.03, \"Portfolio Organization Name\": \"City of West Hollywood\", \"Headway (Minutes)\": 96.77, \"sched_rt_category\": \"schedule_and_vp\"}, {\"Direction (0/1)\": 0, \"Period\": \"All Day\", \"Average Scheduled Service (trip minutes)\": 52.73, \"# Scheduled Trips\": 15, \"# Realtime Trips\": 23, \"Date\": \"2024-07-17T00:00:00\", \"Route\": \"Cityline Local-East\", \"Direction\": \"Eastbound\", \"# Minutes with 1+ VP per Minute\": 1229, \"# Minutes with 2+ VP per Minute\": 684, \"# Early Arrival Trips\": 6, \"# On-Time Trips\": 12, \"# Late Trips\": 5, \"Average VP per Minute\": 1.66, \"% VP within Scheduled Shape\": 24.5, \"% Scheduled Trip w/ 1+ VP/Minute\": 100.0, \"% Scheduled Trip w/ 2+ VP/Minute\": 56.49999999999999, \"Realtime versus Scheduled Service Ratio\": 1.06, \"Speed (MPH)\": 8.33, \"Portfolio Organization Name\": \"City of West Hollywood\", \"Headway (Minutes)\": 96.77, \"sched_rt_category\": \"schedule_and_vp\"}, {\"Direction (0/1)\": 0, \"Period\": \"All Day\", \"Average Scheduled Service (trip minutes)\": 52.73, \"# Scheduled Trips\": 15, \"# Realtime Trips\": 22, \"Date\": \"2024-08-14T00:00:00\", \"Route\": \"Cityline Local-East\", \"Direction\": \"Eastbound\", \"# Minutes with 1+ VP per Minute\": 970, \"# Minutes with 2+ VP per Minute\": 601, \"# Early Arrival Trips\": 7, \"# On-Time Trips\": 7, \"# Late Trips\": 8, \"Average VP per Minute\": 1.44, \"% VP within Scheduled Shape\": 32.4, \"% Scheduled Trip w/ 1+ VP/Minute\": 84.6, \"% Scheduled Trip w/ 2+ VP/Minute\": 52.400000000000006, \"Realtime versus Scheduled Service Ratio\": 1.1, \"Speed (MPH)\": 10.77, \"Portfolio Organization Name\": \"City of West Hollywood\", \"Headway (Minutes)\": 96.77, \"sched_rt_category\": \"schedule_and_vp\"}, {\"Direction (0/1)\": 0, \"Period\": \"All Day\", \"Average Scheduled Service (trip minutes)\": 52.73, \"# Scheduled Trips\": 15, \"# Realtime Trips\": 18, \"Date\": \"2024-09-18T00:00:00\", \"Route\": \"Cityline Local-East\", \"Direction\": \"Eastbound\", \"# Minutes with 1+ VP per Minute\": 980, \"# Minutes with 2+ VP per Minute\": 546, \"# Early Arrival Trips\": 4, \"# On-Time Trips\": 3, \"# Late Trips\": 11, \"Average VP per Minute\": 1.55, \"% VP within Scheduled Shape\": 34.2, \"% Scheduled Trip w/ 1+ VP/Minute\": 100.0, \"% Scheduled Trip w/ 2+ VP/Minute\": 56.2, \"Realtime versus Scheduled Service Ratio\": 1.13, \"Speed (MPH)\": 7.9, \"Portfolio Organization Name\": \"City of West Hollywood\", \"Headway (Minutes)\": 96.77, \"sched_rt_category\": \"schedule_and_vp\"}, {\"Direction (0/1)\": 0, \"Period\": \"All Day\", \"Average Scheduled Service (trip minutes)\": 52.73, \"# Scheduled Trips\": 15, \"# Realtime Trips\": 21, \"Date\": \"2024-10-16T00:00:00\", \"Route\": \"Cityline Local-East\", \"Direction\": \"Eastbound\", \"# Minutes with 1+ VP per Minute\": 1315, \"# Minutes with 2+ VP per Minute\": 655, \"# Early Arrival Trips\": 2, \"# On-Time Trips\": 5, \"# Late Trips\": 14, \"Average VP per Minute\": 1.6, \"% VP within Scheduled Shape\": 33.900000000000006, \"% Scheduled Trip w/ 1+ VP/Minute\": 100.0, \"% Scheduled Trip w/ 2+ VP/Minute\": 60.0, \"Realtime versus Scheduled Service Ratio\": 1.27, \"Speed (MPH)\": 8.24, \"Portfolio Organization Name\": \"City of West Hollywood\", \"Headway (Minutes)\": 96.77, \"sched_rt_category\": \"schedule_and_vp\"}, {\"Direction (0/1)\": 0, \"Period\": \"All Day\", \"Average Scheduled Service (trip minutes)\": 52.73, \"# Scheduled Trips\": 15, \"# Realtime Trips\": 16, \"Date\": \"2024-11-13T00:00:00\", \"Route\": \"Cityline Local-East\", \"Direction\": \"Eastbound\", \"# Minutes with 1+ VP per Minute\": 976, \"# Minutes with 2+ VP per Minute\": 556, \"# Early Arrival Trips\": 0, \"# On-Time Trips\": 8, \"# Late Trips\": 8, \"Average VP per Minute\": 1.62, \"% VP within Scheduled Shape\": 23.5, \"% Scheduled Trip w/ 1+ VP/Minute\": 100.0, \"% Scheduled Trip w/ 2+ VP/Minute\": 66.8, \"Realtime versus Scheduled Service Ratio\": 1.31, \"Speed (MPH)\": 8.6, \"Portfolio Organization Name\": \"City of West Hollywood\", \"Headway (Minutes)\": 96.77, \"sched_rt_category\": \"schedule_and_vp\"}, {\"Direction (0/1)\": 0, \"Period\": \"All Day\", \"Average Scheduled Service (trip minutes)\": 52.73, \"# Scheduled Trips\": 15, \"# Realtime Trips\": 12, \"Date\": \"2024-12-11T00:00:00\", \"Route\": \"Cityline Local-East\", \"Direction\": \"Eastbound\", \"# Minutes with 1+ VP per Minute\": 748, \"# Minutes with 2+ VP per Minute\": 428, \"# Early Arrival Trips\": 0, \"# On-Time Trips\": 3, \"# Late Trips\": 9, \"Average VP per Minute\": 1.46, \"% VP within Scheduled Shape\": 24.3, \"% Scheduled Trip w/ 1+ VP/Minute\": 100.0, \"% Scheduled Trip w/ 2+ VP/Minute\": 64.1, \"Realtime versus Scheduled Service Ratio\": 1.35, \"Speed (MPH)\": 7.6, \"Portfolio Organization Name\": \"City of West Hollywood\", \"Headway (Minutes)\": 96.77, \"sched_rt_category\": \"schedule_and_vp\"}, {\"Direction (0/1)\": 1, \"Period\": \"All Day\", \"Average Scheduled Service (trip minutes)\": 67.89, \"# Scheduled Trips\": 15, \"# Realtime Trips\": 26, \"Date\": \"2024-07-17T00:00:00\", \"Route\": \"Cityline Local-West\", \"Direction\": \"Westbound\", \"# Minutes with 1+ VP per Minute\": 1659, \"# Minutes with 2+ VP per Minute\": 855, \"# Early Arrival Trips\": 3, \"# On-Time Trips\": 18, \"# Late Trips\": 5, \"Average VP per Minute\": 1.65, \"% VP within Scheduled Shape\": 21.9, \"% Scheduled Trip w/ 1+ VP/Minute\": 94.89999999999999, \"% Scheduled Trip w/ 2+ VP/Minute\": 48.9, \"Realtime versus Scheduled Service Ratio\": 0.98, \"Speed (MPH)\": 9.55, \"Portfolio Organization Name\": \"City of West Hollywood\", \"Headway (Minutes)\": 96.77, \"sched_rt_category\": \"schedule_and_vp\"}, {\"Direction (0/1)\": 1, \"Period\": \"All Day\", \"Average Scheduled Service (trip minutes)\": 67.89, \"# Scheduled Trips\": 15, \"# Realtime Trips\": 29, \"Date\": \"2024-08-14T00:00:00\", \"Route\": \"Cityline Local-West\", \"Direction\": \"Westbound\", \"# Minutes with 1+ VP per Minute\": 2032, \"# Minutes with 2+ VP per Minute\": 1009, \"# Early Arrival Trips\": 12, \"# On-Time Trips\": 4, \"# Late Trips\": 13, \"Average VP per Minute\": 1.65, \"% VP within Scheduled Shape\": 24.7, \"% Scheduled Trip w/ 1+ VP/Minute\": 100.0, \"% Scheduled Trip w/ 2+ VP/Minute\": 51.2, \"Realtime versus Scheduled Service Ratio\": 1.04, \"Speed (MPH)\": 9.53, \"Portfolio Organization Name\": \"City of West Hollywood\", \"Headway (Minutes)\": 96.77, \"sched_rt_category\": \"schedule_and_vp\"}, {\"Direction (0/1)\": 1, \"Period\": \"All Day\", \"Average Scheduled Service (trip minutes)\": 67.89, \"# Scheduled Trips\": 15, \"# Realtime Trips\": 23, \"Date\": \"2024-09-18T00:00:00\", \"Route\": \"Cityline Local-West\", \"Direction\": \"Westbound\", \"# Minutes with 1+ VP per Minute\": 1882, \"# Minutes with 2+ VP per Minute\": 756, \"# Early Arrival Trips\": 3, \"# On-Time Trips\": 5, \"# Late Trips\": 15, \"Average VP per Minute\": 1.46, \"% VP within Scheduled Shape\": 28.000000000000004, \"% Scheduled Trip w/ 1+ VP/Minute\": 100.0, \"% Scheduled Trip w/ 2+ VP/Minute\": 48.199999999999996, \"Realtime versus Scheduled Service Ratio\": 1.24, \"Speed (MPH)\": 8.14, \"Portfolio Organization Name\": \"City of West Hollywood\", \"Headway (Minutes)\": 96.77, \"sched_rt_category\": \"schedule_and_vp\"}, {\"Direction (0/1)\": 1, \"Period\": \"All Day\", \"Average Scheduled Service (trip minutes)\": 67.89, \"# Scheduled Trips\": 15, \"# Realtime Trips\": 20, \"Date\": \"2024-10-16T00:00:00\", \"Route\": \"Cityline Local-West\", \"Direction\": \"Westbound\", \"# Minutes with 1+ VP per Minute\": 1401, \"# Minutes with 2+ VP per Minute\": 697, \"# Early Arrival Trips\": 5, \"# On-Time Trips\": 0, \"# Late Trips\": 15, \"Average VP per Minute\": 1.57, \"% VP within Scheduled Shape\": 31.900000000000002, \"% Scheduled Trip w/ 1+ VP/Minute\": 100.0, \"% Scheduled Trip w/ 2+ VP/Minute\": 52.300000000000004, \"Realtime versus Scheduled Service Ratio\": 1.1, \"Speed (MPH)\": 9.09, \"Portfolio Organization Name\": \"City of West Hollywood\", \"Headway (Minutes)\": 96.77, \"sched_rt_category\": \"schedule_and_vp\"}, {\"Direction (0/1)\": 1, \"Period\": \"All Day\", \"Average Scheduled Service (trip minutes)\": 67.89, \"# Scheduled Trips\": 15, \"# Realtime Trips\": 16, \"Date\": \"2024-11-13T00:00:00\", \"Route\": \"Cityline Local-West\", \"Direction\": \"Westbound\", \"# Minutes with 1+ VP per Minute\": 1129, \"# Minutes with 2+ VP per Minute\": 539, \"# Early Arrival Trips\": 3, \"# On-Time Trips\": 4, \"# Late Trips\": 9, \"Average VP per Minute\": 1.62, \"% VP within Scheduled Shape\": 24.2, \"% Scheduled Trip w/ 1+ VP/Minute\": 100.0, \"% Scheduled Trip w/ 2+ VP/Minute\": 50.4, \"Realtime versus Scheduled Service Ratio\": 1.07, \"Speed (MPH)\": 8.56, \"Portfolio Organization Name\": \"City of West Hollywood\", \"Headway (Minutes)\": 96.77, \"sched_rt_category\": \"schedule_and_vp\"}, {\"Direction (0/1)\": 1, \"Period\": \"All Day\", \"Average Scheduled Service (trip minutes)\": 67.89, \"# Scheduled Trips\": 15, \"# Realtime Trips\": 17, \"Date\": \"2024-12-11T00:00:00\", \"Route\": \"Cityline Local-West\", \"Direction\": \"Westbound\", \"# Minutes with 1+ VP per Minute\": 1344, \"# Minutes with 2+ VP per Minute\": 655, \"# Early Arrival Trips\": 0, \"# On-Time Trips\": 8, \"# Late Trips\": 9, \"Average VP per Minute\": 1.62, \"% VP within Scheduled Shape\": 22.0, \"% Scheduled Trip w/ 1+ VP/Minute\": 100.0, \"% Scheduled Trip w/ 2+ VP/Minute\": 55.60000000000001, \"Realtime versus Scheduled Service Ratio\": 1.17, \"Speed (MPH)\": 8.43, \"Portfolio Organization Name\": \"City of West Hollywood\", \"Headway (Minutes)\": 96.77, \"sched_rt_category\": \"schedule_and_vp\"}, {\"Direction (0/1)\": 0, \"Period\": \"All Day\", \"Average Scheduled Service (trip minutes)\": 52.73, \"# Scheduled Trips\": 15, \"# Realtime Trips\": 9, \"Date\": \"2025-01-15T00:00:00\", \"Route\": \"Cityline Local-East\", \"Direction\": \"Eastbound\", \"# Minutes with 1+ VP per Minute\": 345, \"# Minutes with 2+ VP per Minute\": 192, \"# Early Arrival Trips\": 0, \"# On-Time Trips\": 6, \"# Late Trips\": 3, \"Average VP per Minute\": 1.11, \"% VP within Scheduled Shape\": 17.9, \"% Scheduled Trip w/ 1+ VP/Minute\": 72.8, \"% Scheduled Trip w/ 2+ VP/Minute\": 40.5, \"Realtime versus Scheduled Service Ratio\": 1.15, \"Speed (MPH)\": 6.07, \"Portfolio Organization Name\": \"City of West Hollywood\", \"Headway (Minutes)\": 96.77, \"sched_rt_category\": \"schedule_and_vp\"}, {\"Direction (0/1)\": 0, \"Period\": \"All Day\", \"Average Scheduled Service (trip minutes)\": 52.73, \"# Scheduled Trips\": 15, \"# Realtime Trips\": 16, \"Date\": \"2025-02-12T00:00:00\", \"Route\": \"Cityline Local-East\", \"Direction\": \"Eastbound\", \"# Minutes with 1+ VP per Minute\": 960, \"# Minutes with 2+ VP per Minute\": 596, \"# Early Arrival Trips\": 0, \"# On-Time Trips\": 0, \"# Late Trips\": 16, \"Average VP per Minute\": 1.77, \"% VP within Scheduled Shape\": 24.099999999999998, \"% Scheduled Trip w/ 1+ VP/Minute\": 100.0, \"% Scheduled Trip w/ 2+ VP/Minute\": 71.6, \"Realtime versus Scheduled Service Ratio\": 1.19, \"Speed (MPH)\": 8.26, \"Portfolio Organization Name\": \"City of West Hollywood\", \"Headway (Minutes)\": 96.77, \"sched_rt_category\": \"schedule_and_vp\"}, {\"Direction (0/1)\": 0, \"Period\": \"All Day\", \"Average Scheduled Service (trip minutes)\": 52.73, \"# Scheduled Trips\": 15, \"# Realtime Trips\": 15, \"Date\": \"2025-03-12T00:00:00\", \"Route\": \"Cityline Local-East\", \"Direction\": \"Eastbound\", \"# Minutes with 1+ VP per Minute\": 847, \"# Minutes with 2+ VP per Minute\": 454, \"# Early Arrival Trips\": 2, \"# On-Time Trips\": 5, \"# Late Trips\": 8, \"Average VP per Minute\": 1.65, \"% VP within Scheduled Shape\": 22.900000000000002, \"% Scheduled Trip w/ 1+ VP/Minute\": 100.0, \"% Scheduled Trip w/ 2+ VP/Minute\": 56.99999999999999, \"Realtime versus Scheduled Service Ratio\": 1.09, \"Speed (MPH)\": 7.68, \"Portfolio Organization Name\": \"City of West Hollywood\", \"Headway (Minutes)\": 96.77, \"sched_rt_category\": \"schedule_and_vp\"}, {\"Direction (0/1)\": 1, \"Period\": \"All Day\", \"Average Scheduled Service (trip minutes)\": 67.89, \"# Scheduled Trips\": 15, \"# Realtime Trips\": 18, \"Date\": \"2025-01-15T00:00:00\", \"Route\": \"Cityline Local-West\", \"Direction\": \"Westbound\", \"# Minutes with 1+ VP per Minute\": 1440, \"# Minutes with 2+ VP per Minute\": 729, \"# Early Arrival Trips\": 0, \"# On-Time Trips\": 0, \"# Late Trips\": 18, \"Average VP per Minute\": 1.63, \"% VP within Scheduled Shape\": 10.2, \"% Scheduled Trip w/ 1+ VP/Minute\": 100.0, \"% Scheduled Trip w/ 2+ VP/Minute\": 58.9, \"Realtime versus Scheduled Service Ratio\": 1.2, \"Speed (MPH)\": 9.45, \"Portfolio Organization Name\": \"City of West Hollywood\", \"Headway (Minutes)\": 96.77, \"sched_rt_category\": \"schedule_and_vp\"}, {\"Direction (0/1)\": 1, \"Period\": \"All Day\", \"Average Scheduled Service (trip minutes)\": 67.89, \"# Scheduled Trips\": 15, \"# Realtime Trips\": 17, \"Date\": \"2025-02-12T00:00:00\", \"Route\": \"Cityline Local-West\", \"Direction\": \"Westbound\", \"# Minutes with 1+ VP per Minute\": 1126, \"# Minutes with 2+ VP per Minute\": 594, \"# Early Arrival Trips\": 4, \"# On-Time Trips\": 4, \"# Late Trips\": 9, \"Average VP per Minute\": 1.52, \"% VP within Scheduled Shape\": 23.3, \"% Scheduled Trip w/ 1+ VP/Minute\": 98.1, \"% Scheduled Trip w/ 2+ VP/Minute\": 51.800000000000004, \"Realtime versus Scheduled Service Ratio\": 1.06, \"Speed (MPH)\": 11.39, \"Portfolio Organization Name\": \"City of West Hollywood\", \"Headway (Minutes)\": 96.77, \"sched_rt_category\": \"schedule_and_vp\"}, {\"Direction (0/1)\": 1, \"Period\": \"All Day\", \"Average Scheduled Service (trip minutes)\": 67.89, \"# Scheduled Trips\": 15, \"# Realtime Trips\": 17, \"Date\": \"2025-03-12T00:00:00\", \"Route\": \"Cityline Local-West\", \"Direction\": \"Westbound\", \"# Minutes with 1+ VP per Minute\": 1119, \"# Minutes with 2+ VP per Minute\": 598, \"# Early Arrival Trips\": 0, \"# On-Time Trips\": 4, \"# Late Trips\": 13, \"Average VP per Minute\": 1.52, \"% VP within Scheduled Shape\": 23.0, \"% Scheduled Trip w/ 1+ VP/Minute\": 97.5, \"% Scheduled Trip w/ 2+ VP/Minute\": 52.1, \"Realtime versus Scheduled Service Ratio\": 1.09, \"Speed (MPH)\": 9.74, \"Portfolio Organization Name\": \"City of West Hollywood\", \"Headway (Minutes)\": 96.77, \"sched_rt_category\": \"schedule_and_vp\"}], \"data-3518fa59e080bdf8c4e7d3bd54e2ee00\": [{\"Direction (0/1)\": 0, \"Period\": \"All Day\", \"Average Scheduled Service (trip minutes)\": 52.73, \"# Scheduled Trips\": 15, \"# Realtime Trips\": 11, \"Date\": \"2023-03-15T00:00:00\", \"Route\": \"Cityline Local-East\", \"Direction\": \"Eastbound\", \"# Minutes with 1+ VP per Minute\": 455, \"# Minutes with 2+ VP per Minute\": 249, \"# Early Arrival Trips\": 1, \"# On-Time Trips\": 7, \"# Late Trips\": 3, \"Average VP per Minute\": 1.19, \"% VP within Scheduled Shape\": 95.0, \"% Scheduled Trip w/ 1+ VP/Minute\": 78.2, \"% Scheduled Trip w/ 2+ VP/Minute\": 42.8, \"Realtime versus Scheduled Service Ratio\": 1.14, \"Speed (MPH)\": 8.82, \"Portfolio Organization Name\": \"City of West Hollywood\", \"Headway (Minutes)\": 96.77, \"sched_rt_category\": \"schedule_and_vp\", \"ruler\": 3}, {\"Direction (0/1)\": 1, \"Period\": \"All Day\", \"Average Scheduled Service (trip minutes)\": 67.89, \"# Scheduled Trips\": 15, \"# Realtime Trips\": 12, \"Date\": \"2023-03-15T00:00:00\", \"Route\": \"Cityline Local-West\", \"Direction\": \"Westbound\", \"# Minutes with 1+ VP per Minute\": 649, \"# Minutes with 2+ VP per Minute\": 291, \"# Early Arrival Trips\": 2, \"# On-Time Trips\": 2, \"# Late Trips\": 8, \"Average VP per Minute\": 1.06, \"% VP within Scheduled Shape\": 94.1, \"% Scheduled Trip w/ 1+ VP/Minute\": 79.3, \"% Scheduled Trip w/ 2+ VP/Minute\": 35.5, \"Realtime versus Scheduled Service Ratio\": 1.21, \"Speed (MPH)\": 8.45, \"Portfolio Organization Name\": \"City of West Hollywood\", \"Headway (Minutes)\": 96.77, \"sched_rt_category\": \"schedule_and_vp\", \"ruler\": 3}, {\"Direction (0/1)\": 0, \"Period\": \"All Day\", \"Average Scheduled Service (trip minutes)\": 52.73, \"# Scheduled Trips\": 15, \"# Realtime Trips\": 13, \"Date\": \"2023-04-12T00:00:00\", \"Route\": \"Cityline Local-East\", \"Direction\": \"Eastbound\", \"# Minutes with 1+ VP per Minute\": 597, \"# Minutes with 2+ VP per Minute\": 301, \"# Early Arrival Trips\": 3, \"# On-Time Trips\": 3, \"# Late Trips\": 7, \"Average VP per Minute\": 1.2, \"% VP within Scheduled Shape\": 94.8, \"% Scheduled Trip w/ 1+ VP/Minute\": 86.4, \"% Scheduled Trip w/ 2+ VP/Minute\": 43.6, \"Realtime versus Scheduled Service Ratio\": 1.22, \"Speed (MPH)\": 8.55, \"Portfolio Organization Name\": \"City of West Hollywood\", \"Headway (Minutes)\": 96.77, \"sched_rt_category\": \"schedule_and_vp\", \"ruler\": 3}, {\"Direction (0/1)\": 0, \"Period\": \"All Day\", \"Average Scheduled Service (trip minutes)\": 52.73, \"# Scheduled Trips\": 15, \"# Realtime Trips\": 11, \"Date\": \"2023-05-17T00:00:00\", \"Route\": \"Cityline Local-East\", \"Direction\": \"Eastbound\", \"# Minutes with 1+ VP per Minute\": 579, \"# Minutes with 2+ VP per Minute\": 313, \"# Early Arrival Trips\": 2, \"# On-Time Trips\": 2, \"# Late Trips\": 7, \"Average VP per Minute\": 1.52, \"% VP within Scheduled Shape\": 92.4, \"% Scheduled Trip w/ 1+ VP/Minute\": 100.0, \"% Scheduled Trip w/ 2+ VP/Minute\": 54.1, \"Realtime versus Scheduled Service Ratio\": 1.13, \"Speed (MPH)\": 8.41, \"Portfolio Organization Name\": \"City of West Hollywood\", \"Headway (Minutes)\": 96.77, \"sched_rt_category\": \"schedule_and_vp\", \"ruler\": 3}, {\"Direction (0/1)\": 0, \"Period\": \"All Day\", \"Average Scheduled Service (trip minutes)\": 52.73, \"# Scheduled Trips\": 15, \"# Realtime Trips\": 7, \"Date\": \"2023-06-14T00:00:00\", \"Route\": \"Cityline Local-East\", \"Direction\": \"Eastbound\", \"# Minutes with 1+ VP per Minute\": 397, \"# Minutes with 2+ VP per Minute\": 208, \"# Early Arrival Trips\": 1, \"# On-Time Trips\": 1, \"# Late Trips\": 5, \"Average VP per Minute\": 1.45, \"% VP within Scheduled Shape\": 93.2, \"% Scheduled Trip w/ 1+ VP/Minute\": 100.0, \"% Scheduled Trip w/ 2+ VP/Minute\": 56.10000000000001, \"Realtime versus Scheduled Service Ratio\": 1.28, \"Speed (MPH)\": 7.31, \"Portfolio Organization Name\": \"City of West Hollywood\", \"Headway (Minutes)\": 96.77, \"sched_rt_category\": \"schedule_and_vp\", \"ruler\": 3}, {\"Direction (0/1)\": 0, \"Period\": \"All Day\", \"Average Scheduled Service (trip minutes)\": 52.73, \"# Scheduled Trips\": 15, \"# Realtime Trips\": 11, \"Date\": \"2023-07-12T00:00:00\", \"Route\": \"Cityline Local-East\", \"Direction\": \"Eastbound\", \"# Minutes with 1+ VP per Minute\": 695, \"# Minutes with 2+ VP per Minute\": 395, \"# Early Arrival Trips\": 0, \"# On-Time Trips\": 3, \"# Late Trips\": 8, \"Average VP per Minute\": 1.59, \"% VP within Scheduled Shape\": 97.6, \"% Scheduled Trip w/ 1+ VP/Minute\": 100.0, \"% Scheduled Trip w/ 2+ VP/Minute\": 67.80000000000001, \"Realtime versus Scheduled Service Ratio\": 1.32, \"Speed (MPH)\": 8.54, \"Portfolio Organization Name\": \"City of West Hollywood\", \"Headway (Minutes)\": 96.77, \"sched_rt_category\": \"schedule_and_vp\", \"ruler\": 3}, {\"Direction (0/1)\": 0, \"Period\": \"All Day\", \"Average Scheduled Service (trip minutes)\": 52.73, \"# Scheduled Trips\": 15, \"# Realtime Trips\": 7, \"Date\": \"2023-08-15T00:00:00\", \"Route\": \"Cityline Local-East\", \"Direction\": \"Eastbound\", \"# Minutes with 1+ VP per Minute\": 395, \"# Minutes with 2+ VP per Minute\": 207, \"# Early Arrival Trips\": 1, \"# On-Time Trips\": 1, \"# Late Trips\": 5, \"Average VP per Minute\": 1.68, \"% VP within Scheduled Shape\": 93.2, \"% Scheduled Trip w/ 1+ VP/Minute\": 100.0, \"% Scheduled Trip w/ 2+ VP/Minute\": 55.60000000000001, \"Realtime versus Scheduled Service Ratio\": 1.08, \"Speed (MPH)\": 8.73, \"Portfolio Organization Name\": \"City of West Hollywood\", \"Headway (Minutes)\": 96.77, \"sched_rt_category\": \"schedule_and_vp\", \"ruler\": 3}, {\"Direction (0/1)\": 0, \"Period\": \"All Day\", \"Average Scheduled Service (trip minutes)\": 52.73, \"# Scheduled Trips\": 15, \"# Realtime Trips\": 11, \"Date\": \"2023-09-13T00:00:00\", \"Route\": \"Cityline Local-East\", \"Direction\": \"Eastbound\", \"# Minutes with 1+ VP per Minute\": 668, \"# Minutes with 2+ VP per Minute\": 363, \"# Early Arrival Trips\": 2, \"# On-Time Trips\": 2, \"# Late Trips\": 7, \"Average VP per Minute\": 1.61, \"% VP within Scheduled Shape\": 93.30000000000001, \"% Scheduled Trip w/ 1+ VP/Minute\": 100.0, \"% Scheduled Trip w/ 2+ VP/Minute\": 62.6, \"Realtime versus Scheduled Service Ratio\": 1.24, \"Speed (MPH)\": 8.95, \"Portfolio Organization Name\": \"City of West Hollywood\", \"Headway (Minutes)\": 96.77, \"sched_rt_category\": \"schedule_and_vp\", \"ruler\": 3}, {\"Direction (0/1)\": 0, \"Period\": \"All Day\", \"Average Scheduled Service (trip minutes)\": 52.73, \"# Scheduled Trips\": 15, \"# Realtime Trips\": 11, \"Date\": \"2023-10-11T00:00:00\", \"Route\": \"Cityline Local-East\", \"Direction\": \"Eastbound\", \"# Minutes with 1+ VP per Minute\": 534, \"# Minutes with 2+ VP per Minute\": 274, \"# Early Arrival Trips\": 3, \"# On-Time Trips\": 5, \"# Late Trips\": 3, \"Average VP per Minute\": 1.56, \"% VP within Scheduled Shape\": 91.10000000000001, \"% Scheduled Trip w/ 1+ VP/Minute\": 92.4, \"% Scheduled Trip w/ 2+ VP/Minute\": 47.4, \"Realtime versus Scheduled Service Ratio\": 1.01, \"Speed (MPH)\": 8.85, \"Portfolio Organization Name\": \"City of West Hollywood\", \"Headway (Minutes)\": 96.77, \"sched_rt_category\": \"schedule_and_vp\", \"ruler\": 3}, {\"Direction (0/1)\": 0, \"Period\": \"All Day\", \"Average Scheduled Service (trip minutes)\": 52.73, \"# Scheduled Trips\": 15, \"# Realtime Trips\": 7, \"Date\": \"2023-11-15T00:00:00\", \"Route\": \"Cityline Local-East\", \"Direction\": \"Eastbound\", \"# Minutes with 1+ VP per Minute\": 358, \"# Minutes with 2+ VP per Minute\": 184, \"# Early Arrival Trips\": 2, \"# On-Time Trips\": 4, \"# Late Trips\": 1, \"Average VP per Minute\": 1.67, \"% VP within Scheduled Shape\": 96.7, \"% Scheduled Trip w/ 1+ VP/Minute\": 95.7, \"% Scheduled Trip w/ 2+ VP/Minute\": 49.2, \"Realtime versus Scheduled Service Ratio\": 0.98, \"Speed (MPH)\": 8.9, \"Portfolio Organization Name\": \"City of West Hollywood\", \"Headway (Minutes)\": 96.77, \"sched_rt_category\": \"schedule_and_vp\", \"ruler\": 3}, {\"Direction (0/1)\": 0, \"Period\": \"All Day\", \"Average Scheduled Service (trip minutes)\": 52.73, \"# Scheduled Trips\": 15, \"# Realtime Trips\": 8, \"Date\": \"2023-12-13T00:00:00\", \"Route\": \"Cityline Local-East\", \"Direction\": \"Eastbound\", \"# Minutes with 1+ VP per Minute\": 501, \"# Minutes with 2+ VP per Minute\": 269, \"# Early Arrival Trips\": 0, \"# On-Time Trips\": 2, \"# Late Trips\": 6, \"Average VP per Minute\": 1.58, \"% VP within Scheduled Shape\": 95.1, \"% Scheduled Trip w/ 1+ VP/Minute\": 100.0, \"% Scheduled Trip w/ 2+ VP/Minute\": 64.0, \"Realtime versus Scheduled Service Ratio\": 1.31, \"Speed (MPH)\": 7.25, \"Portfolio Organization Name\": \"City of West Hollywood\", \"Headway (Minutes)\": 96.77, \"sched_rt_category\": \"schedule_and_vp\", \"ruler\": 3}, {\"Direction (0/1)\": 1, \"Period\": \"All Day\", \"Average Scheduled Service (trip minutes)\": 67.89, \"# Scheduled Trips\": 15, \"# Realtime Trips\": 14, \"Date\": \"2023-04-12T00:00:00\", \"Route\": \"Cityline Local-West\", \"Direction\": \"Westbound\", \"# Minutes with 1+ VP per Minute\": 779, \"# Minutes with 2+ VP per Minute\": 371, \"# Early Arrival Trips\": 2, \"# On-Time Trips\": 6, \"# Late Trips\": 6, \"Average VP per Minute\": 1.2, \"% VP within Scheduled Shape\": 93.30000000000001, \"% Scheduled Trip w/ 1+ VP/Minute\": 81.69999999999999, \"% Scheduled Trip w/ 2+ VP/Minute\": 38.9, \"Realtime versus Scheduled Service Ratio\": 1.11, \"Speed (MPH)\": 7.81, \"Portfolio Organization Name\": \"City of West Hollywood\", \"Headway (Minutes)\": 96.77, \"sched_rt_category\": \"schedule_and_vp\", \"ruler\": 3}, {\"Direction (0/1)\": 1, \"Period\": \"All Day\", \"Average Scheduled Service (trip minutes)\": 67.89, \"# Scheduled Trips\": 15, \"# Realtime Trips\": 10, \"Date\": \"2023-05-17T00:00:00\", \"Route\": \"Cityline Local-West\", \"Direction\": \"Westbound\", \"# Minutes with 1+ VP per Minute\": 708, \"# Minutes with 2+ VP per Minute\": 364, \"# Early Arrival Trips\": 1, \"# On-Time Trips\": 4, \"# Late Trips\": 5, \"Average VP per Minute\": 1.62, \"% VP within Scheduled Shape\": 93.89999999999999, \"% Scheduled Trip w/ 1+ VP/Minute\": 100.0, \"% Scheduled Trip w/ 2+ VP/Minute\": 54.1, \"Realtime versus Scheduled Service Ratio\": 1.1, \"Speed (MPH)\": 8.64, \"Portfolio Organization Name\": \"City of West Hollywood\", \"Headway (Minutes)\": 96.77, \"sched_rt_category\": \"schedule_and_vp\", \"ruler\": 3}, {\"Direction (0/1)\": 1, \"Period\": \"All Day\", \"Average Scheduled Service (trip minutes)\": 67.89, \"# Scheduled Trips\": 15, \"# Realtime Trips\": 6, \"Date\": \"2023-06-14T00:00:00\", \"Route\": \"Cityline Local-West\", \"Direction\": \"Westbound\", \"# Minutes with 1+ VP per Minute\": 442, \"# Minutes with 2+ VP per Minute\": 200, \"# Early Arrival Trips\": 0, \"# On-Time Trips\": 3, \"# Late Trips\": 3, \"Average VP per Minute\": 1.49, \"% VP within Scheduled Shape\": 94.8, \"% Scheduled Trip w/ 1+ VP/Minute\": 100.0, \"% Scheduled Trip w/ 2+ VP/Minute\": 49.6, \"Realtime versus Scheduled Service Ratio\": 1.18, \"Speed (MPH)\": 9.04, \"Portfolio Organization Name\": \"City of West Hollywood\", \"Headway (Minutes)\": 96.77, \"sched_rt_category\": \"schedule_and_vp\", \"ruler\": 3}, {\"Direction (0/1)\": 1, \"Period\": \"All Day\", \"Average Scheduled Service (trip minutes)\": 67.89, \"# Scheduled Trips\": 15, \"# Realtime Trips\": 11, \"Date\": \"2023-07-12T00:00:00\", \"Route\": \"Cityline Local-West\", \"Direction\": \"Westbound\", \"# Minutes with 1+ VP per Minute\": 816, \"# Minutes with 2+ VP per Minute\": 433, \"# Early Arrival Trips\": 1, \"# On-Time Trips\": 5, \"# Late Trips\": 5, \"Average VP per Minute\": 1.67, \"% VP within Scheduled Shape\": 93.89999999999999, \"% Scheduled Trip w/ 1+ VP/Minute\": 100.0, \"% Scheduled Trip w/ 2+ VP/Minute\": 57.9, \"Realtime versus Scheduled Service Ratio\": 1.11, \"Speed (MPH)\": 9.12, \"Portfolio Organization Name\": \"City of West Hollywood\", \"Headway (Minutes)\": 96.77, \"sched_rt_category\": \"schedule_and_vp\", \"ruler\": 3}, {\"Direction (0/1)\": 1, \"Period\": \"All Day\", \"Average Scheduled Service (trip minutes)\": 67.89, \"# Scheduled Trips\": 15, \"# Realtime Trips\": 5, \"Date\": \"2023-08-15T00:00:00\", \"Route\": \"Cityline Local-West\", \"Direction\": \"Westbound\", \"# Minutes with 1+ VP per Minute\": 374, \"# Minutes with 2+ VP per Minute\": 186, \"# Early Arrival Trips\": 0, \"# On-Time Trips\": 3, \"# Late Trips\": 2, \"Average VP per Minute\": 1.66, \"% VP within Scheduled Shape\": 92.5, \"% Scheduled Trip w/ 1+ VP/Minute\": 100.0, \"% Scheduled Trip w/ 2+ VP/Minute\": 55.1, \"Realtime versus Scheduled Service Ratio\": 1.12, \"Speed (MPH)\": 9.45, \"Portfolio Organization Name\": \"City of West Hollywood\", \"Headway (Minutes)\": 96.77, \"sched_rt_category\": \"schedule_and_vp\", \"ruler\": 3}, {\"Direction (0/1)\": 1, \"Period\": \"All Day\", \"Average Scheduled Service (trip minutes)\": 67.89, \"# Scheduled Trips\": 15, \"# Realtime Trips\": 10, \"Date\": \"2023-09-13T00:00:00\", \"Route\": \"Cityline Local-West\", \"Direction\": \"Westbound\", \"# Minutes with 1+ VP per Minute\": 751, \"# Minutes with 2+ VP per Minute\": 375, \"# Early Arrival Trips\": 1, \"# On-Time Trips\": 3, \"# Late Trips\": 6, \"Average VP per Minute\": 1.66, \"% VP within Scheduled Shape\": 95.6, \"% Scheduled Trip w/ 1+ VP/Minute\": 100.0, \"% Scheduled Trip w/ 2+ VP/Minute\": 55.800000000000004, \"Realtime versus Scheduled Service Ratio\": 1.13, \"Speed (MPH)\": 9.07, \"Portfolio Organization Name\": \"City of West Hollywood\", \"Headway (Minutes)\": 96.77, \"sched_rt_category\": \"schedule_and_vp\", \"ruler\": 3}, {\"Direction (0/1)\": 1, \"Period\": \"All Day\", \"Average Scheduled Service (trip minutes)\": 67.89, \"# Scheduled Trips\": 15, \"# Realtime Trips\": 9, \"Date\": \"2023-10-11T00:00:00\", \"Route\": \"Cityline Local-West\", \"Direction\": \"Westbound\", \"# Minutes with 1+ VP per Minute\": 694, \"# Minutes with 2+ VP per Minute\": 323, \"# Early Arrival Trips\": 1, \"# On-Time Trips\": 2, \"# Late Trips\": 6, \"Average VP per Minute\": 1.59, \"% VP within Scheduled Shape\": 93.60000000000001, \"% Scheduled Trip w/ 1+ VP/Minute\": 100.0, \"% Scheduled Trip w/ 2+ VP/Minute\": 53.6, \"Realtime versus Scheduled Service Ratio\": 1.18, \"Speed (MPH)\": 9.14, \"Portfolio Organization Name\": \"City of West Hollywood\", \"Headway (Minutes)\": 96.77, \"sched_rt_category\": \"schedule_and_vp\", \"ruler\": 3}, {\"Direction (0/1)\": 1, \"Period\": \"All Day\", \"Average Scheduled Service (trip minutes)\": 67.89, \"# Scheduled Trips\": 15, \"# Realtime Trips\": 8, \"Date\": \"2023-11-15T00:00:00\", \"Route\": \"Cityline Local-West\", \"Direction\": \"Westbound\", \"# Minutes with 1+ VP per Minute\": 496, \"# Minutes with 2+ VP per Minute\": 210, \"# Early Arrival Trips\": 1, \"# On-Time Trips\": 3, \"# Late Trips\": 4, \"Average VP per Minute\": 1.18, \"% VP within Scheduled Shape\": 87.7, \"% Scheduled Trip w/ 1+ VP/Minute\": 90.5, \"% Scheduled Trip w/ 2+ VP/Minute\": 38.3, \"Realtime versus Scheduled Service Ratio\": 1.21, \"Speed (MPH)\": 7.26, \"Portfolio Organization Name\": \"City of West Hollywood\", \"Headway (Minutes)\": 96.77, \"sched_rt_category\": \"schedule_and_vp\", \"ruler\": 3}, {\"Direction (0/1)\": 1, \"Period\": \"All Day\", \"Average Scheduled Service (trip minutes)\": 67.89, \"# Scheduled Trips\": 15, \"# Realtime Trips\": 8, \"Date\": \"2023-12-13T00:00:00\", \"Route\": \"Cityline Local-West\", \"Direction\": \"Westbound\", \"# Minutes with 1+ VP per Minute\": 572, \"# Minutes with 2+ VP per Minute\": 287, \"# Early Arrival Trips\": 1, \"# On-Time Trips\": 3, \"# Late Trips\": 4, \"Average VP per Minute\": 1.6, \"% VP within Scheduled Shape\": 94.6, \"% Scheduled Trip w/ 1+ VP/Minute\": 100.0, \"% Scheduled Trip w/ 2+ VP/Minute\": 53.0, \"Realtime versus Scheduled Service Ratio\": 1.08, \"Speed (MPH)\": 9.03, \"Portfolio Organization Name\": \"City of West Hollywood\", \"Headway (Minutes)\": 96.77, \"sched_rt_category\": \"schedule_and_vp\", \"ruler\": 3}, {\"Direction (0/1)\": 0, \"Period\": \"All Day\", \"Average Scheduled Service (trip minutes)\": 52.73, \"# Scheduled Trips\": 15, \"# Realtime Trips\": 23, \"Date\": \"2024-07-17T00:00:00\", \"Route\": \"Cityline Local-East\", \"Direction\": \"Eastbound\", \"# Minutes with 1+ VP per Minute\": 1229, \"# Minutes with 2+ VP per Minute\": 684, \"# Early Arrival Trips\": 6, \"# On-Time Trips\": 12, \"# Late Trips\": 5, \"Average VP per Minute\": 1.66, \"% VP within Scheduled Shape\": 24.5, \"% Scheduled Trip w/ 1+ VP/Minute\": 100.0, \"% Scheduled Trip w/ 2+ VP/Minute\": 56.49999999999999, \"Realtime versus Scheduled Service Ratio\": 1.06, \"Speed (MPH)\": 8.33, \"Portfolio Organization Name\": \"City of West Hollywood\", \"Headway (Minutes)\": 96.77, \"sched_rt_category\": \"schedule_and_vp\", \"ruler\": 3}, {\"Direction (0/1)\": 0, \"Period\": \"All Day\", \"Average Scheduled Service (trip minutes)\": 52.73, \"# Scheduled Trips\": 15, \"# Realtime Trips\": 22, \"Date\": \"2024-08-14T00:00:00\", \"Route\": \"Cityline Local-East\", \"Direction\": \"Eastbound\", \"# Minutes with 1+ VP per Minute\": 970, \"# Minutes with 2+ VP per Minute\": 601, \"# Early Arrival Trips\": 7, \"# On-Time Trips\": 7, \"# Late Trips\": 8, \"Average VP per Minute\": 1.44, \"% VP within Scheduled Shape\": 32.4, \"% Scheduled Trip w/ 1+ VP/Minute\": 84.6, \"% Scheduled Trip w/ 2+ VP/Minute\": 52.400000000000006, \"Realtime versus Scheduled Service Ratio\": 1.1, \"Speed (MPH)\": 10.77, \"Portfolio Organization Name\": \"City of West Hollywood\", \"Headway (Minutes)\": 96.77, \"sched_rt_category\": \"schedule_and_vp\", \"ruler\": 3}, {\"Direction (0/1)\": 0, \"Period\": \"All Day\", \"Average Scheduled Service (trip minutes)\": 52.73, \"# Scheduled Trips\": 15, \"# Realtime Trips\": 18, \"Date\": \"2024-09-18T00:00:00\", \"Route\": \"Cityline Local-East\", \"Direction\": \"Eastbound\", \"# Minutes with 1+ VP per Minute\": 980, \"# Minutes with 2+ VP per Minute\": 546, \"# Early Arrival Trips\": 4, \"# On-Time Trips\": 3, \"# Late Trips\": 11, \"Average VP per Minute\": 1.55, \"% VP within Scheduled Shape\": 34.2, \"% Scheduled Trip w/ 1+ VP/Minute\": 100.0, \"% Scheduled Trip w/ 2+ VP/Minute\": 56.2, \"Realtime versus Scheduled Service Ratio\": 1.13, \"Speed (MPH)\": 7.9, \"Portfolio Organization Name\": \"City of West Hollywood\", \"Headway (Minutes)\": 96.77, \"sched_rt_category\": \"schedule_and_vp\", \"ruler\": 3}, {\"Direction (0/1)\": 0, \"Period\": \"All Day\", \"Average Scheduled Service (trip minutes)\": 52.73, \"# Scheduled Trips\": 15, \"# Realtime Trips\": 21, \"Date\": \"2024-10-16T00:00:00\", \"Route\": \"Cityline Local-East\", \"Direction\": \"Eastbound\", \"# Minutes with 1+ VP per Minute\": 1315, \"# Minutes with 2+ VP per Minute\": 655, \"# Early Arrival Trips\": 2, \"# On-Time Trips\": 5, \"# Late Trips\": 14, \"Average VP per Minute\": 1.6, \"% VP within Scheduled Shape\": 33.900000000000006, \"% Scheduled Trip w/ 1+ VP/Minute\": 100.0, \"% Scheduled Trip w/ 2+ VP/Minute\": 60.0, \"Realtime versus Scheduled Service Ratio\": 1.27, \"Speed (MPH)\": 8.24, \"Portfolio Organization Name\": \"City of West Hollywood\", \"Headway (Minutes)\": 96.77, \"sched_rt_category\": \"schedule_and_vp\", \"ruler\": 3}, {\"Direction (0/1)\": 0, \"Period\": \"All Day\", \"Average Scheduled Service (trip minutes)\": 52.73, \"# Scheduled Trips\": 15, \"# Realtime Trips\": 16, \"Date\": \"2024-11-13T00:00:00\", \"Route\": \"Cityline Local-East\", \"Direction\": \"Eastbound\", \"# Minutes with 1+ VP per Minute\": 976, \"# Minutes with 2+ VP per Minute\": 556, \"# Early Arrival Trips\": 0, \"# On-Time Trips\": 8, \"# Late Trips\": 8, \"Average VP per Minute\": 1.62, \"% VP within Scheduled Shape\": 23.5, \"% Scheduled Trip w/ 1+ VP/Minute\": 100.0, \"% Scheduled Trip w/ 2+ VP/Minute\": 66.8, \"Realtime versus Scheduled Service Ratio\": 1.31, \"Speed (MPH)\": 8.6, \"Portfolio Organization Name\": \"City of West Hollywood\", \"Headway (Minutes)\": 96.77, \"sched_rt_category\": \"schedule_and_vp\", \"ruler\": 3}, {\"Direction (0/1)\": 0, \"Period\": \"All Day\", \"Average Scheduled Service (trip minutes)\": 52.73, \"# Scheduled Trips\": 15, \"# Realtime Trips\": 12, \"Date\": \"2024-12-11T00:00:00\", \"Route\": \"Cityline Local-East\", \"Direction\": \"Eastbound\", \"# Minutes with 1+ VP per Minute\": 748, \"# Minutes with 2+ VP per Minute\": 428, \"# Early Arrival Trips\": 0, \"# On-Time Trips\": 3, \"# Late Trips\": 9, \"Average VP per Minute\": 1.46, \"% VP within Scheduled Shape\": 24.3, \"% Scheduled Trip w/ 1+ VP/Minute\": 100.0, \"% Scheduled Trip w/ 2+ VP/Minute\": 64.1, \"Realtime versus Scheduled Service Ratio\": 1.35, \"Speed (MPH)\": 7.6, \"Portfolio Organization Name\": \"City of West Hollywood\", \"Headway (Minutes)\": 96.77, \"sched_rt_category\": \"schedule_and_vp\", \"ruler\": 3}, {\"Direction (0/1)\": 1, \"Period\": \"All Day\", \"Average Scheduled Service (trip minutes)\": 67.89, \"# Scheduled Trips\": 15, \"# Realtime Trips\": 26, \"Date\": \"2024-07-17T00:00:00\", \"Route\": \"Cityline Local-West\", \"Direction\": \"Westbound\", \"# Minutes with 1+ VP per Minute\": 1659, \"# Minutes with 2+ VP per Minute\": 855, \"# Early Arrival Trips\": 3, \"# On-Time Trips\": 18, \"# Late Trips\": 5, \"Average VP per Minute\": 1.65, \"% VP within Scheduled Shape\": 21.9, \"% Scheduled Trip w/ 1+ VP/Minute\": 94.89999999999999, \"% Scheduled Trip w/ 2+ VP/Minute\": 48.9, \"Realtime versus Scheduled Service Ratio\": 0.98, \"Speed (MPH)\": 9.55, \"Portfolio Organization Name\": \"City of West Hollywood\", \"Headway (Minutes)\": 96.77, \"sched_rt_category\": \"schedule_and_vp\", \"ruler\": 3}, {\"Direction (0/1)\": 1, \"Period\": \"All Day\", \"Average Scheduled Service (trip minutes)\": 67.89, \"# Scheduled Trips\": 15, \"# Realtime Trips\": 29, \"Date\": \"2024-08-14T00:00:00\", \"Route\": \"Cityline Local-West\", \"Direction\": \"Westbound\", \"# Minutes with 1+ VP per Minute\": 2032, \"# Minutes with 2+ VP per Minute\": 1009, \"# Early Arrival Trips\": 12, \"# On-Time Trips\": 4, \"# Late Trips\": 13, \"Average VP per Minute\": 1.65, \"% VP within Scheduled Shape\": 24.7, \"% Scheduled Trip w/ 1+ VP/Minute\": 100.0, \"% Scheduled Trip w/ 2+ VP/Minute\": 51.2, \"Realtime versus Scheduled Service Ratio\": 1.04, \"Speed (MPH)\": 9.53, \"Portfolio Organization Name\": \"City of West Hollywood\", \"Headway (Minutes)\": 96.77, \"sched_rt_category\": \"schedule_and_vp\", \"ruler\": 3}, {\"Direction (0/1)\": 1, \"Period\": \"All Day\", \"Average Scheduled Service (trip minutes)\": 67.89, \"# Scheduled Trips\": 15, \"# Realtime Trips\": 23, \"Date\": \"2024-09-18T00:00:00\", \"Route\": \"Cityline Local-West\", \"Direction\": \"Westbound\", \"# Minutes with 1+ VP per Minute\": 1882, \"# Minutes with 2+ VP per Minute\": 756, \"# Early Arrival Trips\": 3, \"# On-Time Trips\": 5, \"# Late Trips\": 15, \"Average VP per Minute\": 1.46, \"% VP within Scheduled Shape\": 28.000000000000004, \"% Scheduled Trip w/ 1+ VP/Minute\": 100.0, \"% Scheduled Trip w/ 2+ VP/Minute\": 48.199999999999996, \"Realtime versus Scheduled Service Ratio\": 1.24, \"Speed (MPH)\": 8.14, \"Portfolio Organization Name\": \"City of West Hollywood\", \"Headway (Minutes)\": 96.77, \"sched_rt_category\": \"schedule_and_vp\", \"ruler\": 3}, {\"Direction (0/1)\": 1, \"Period\": \"All Day\", \"Average Scheduled Service (trip minutes)\": 67.89, \"# Scheduled Trips\": 15, \"# Realtime Trips\": 20, \"Date\": \"2024-10-16T00:00:00\", \"Route\": \"Cityline Local-West\", \"Direction\": \"Westbound\", \"# Minutes with 1+ VP per Minute\": 1401, \"# Minutes with 2+ VP per Minute\": 697, \"# Early Arrival Trips\": 5, \"# On-Time Trips\": 0, \"# Late Trips\": 15, \"Average VP per Minute\": 1.57, \"% VP within Scheduled Shape\": 31.900000000000002, \"% Scheduled Trip w/ 1+ VP/Minute\": 100.0, \"% Scheduled Trip w/ 2+ VP/Minute\": 52.300000000000004, \"Realtime versus Scheduled Service Ratio\": 1.1, \"Speed (MPH)\": 9.09, \"Portfolio Organization Name\": \"City of West Hollywood\", \"Headway (Minutes)\": 96.77, \"sched_rt_category\": \"schedule_and_vp\", \"ruler\": 3}, {\"Direction (0/1)\": 1, \"Period\": \"All Day\", \"Average Scheduled Service (trip minutes)\": 67.89, \"# Scheduled Trips\": 15, \"# Realtime Trips\": 16, \"Date\": \"2024-11-13T00:00:00\", \"Route\": \"Cityline Local-West\", \"Direction\": \"Westbound\", \"# Minutes with 1+ VP per Minute\": 1129, \"# Minutes with 2+ VP per Minute\": 539, \"# Early Arrival Trips\": 3, \"# On-Time Trips\": 4, \"# Late Trips\": 9, \"Average VP per Minute\": 1.62, \"% VP within Scheduled Shape\": 24.2, \"% Scheduled Trip w/ 1+ VP/Minute\": 100.0, \"% Scheduled Trip w/ 2+ VP/Minute\": 50.4, \"Realtime versus Scheduled Service Ratio\": 1.07, \"Speed (MPH)\": 8.56, \"Portfolio Organization Name\": \"City of West Hollywood\", \"Headway (Minutes)\": 96.77, \"sched_rt_category\": \"schedule_and_vp\", \"ruler\": 3}, {\"Direction (0/1)\": 1, \"Period\": \"All Day\", \"Average Scheduled Service (trip minutes)\": 67.89, \"# Scheduled Trips\": 15, \"# Realtime Trips\": 17, \"Date\": \"2024-12-11T00:00:00\", \"Route\": \"Cityline Local-West\", \"Direction\": \"Westbound\", \"# Minutes with 1+ VP per Minute\": 1344, \"# Minutes with 2+ VP per Minute\": 655, \"# Early Arrival Trips\": 0, \"# On-Time Trips\": 8, \"# Late Trips\": 9, \"Average VP per Minute\": 1.62, \"% VP within Scheduled Shape\": 22.0, \"% Scheduled Trip w/ 1+ VP/Minute\": 100.0, \"% Scheduled Trip w/ 2+ VP/Minute\": 55.60000000000001, \"Realtime versus Scheduled Service Ratio\": 1.17, \"Speed (MPH)\": 8.43, \"Portfolio Organization Name\": \"City of West Hollywood\", \"Headway (Minutes)\": 96.77, \"sched_rt_category\": \"schedule_and_vp\", \"ruler\": 3}, {\"Direction (0/1)\": 0, \"Period\": \"All Day\", \"Average Scheduled Service (trip minutes)\": 52.73, \"# Scheduled Trips\": 15, \"# Realtime Trips\": 9, \"Date\": \"2025-01-15T00:00:00\", \"Route\": \"Cityline Local-East\", \"Direction\": \"Eastbound\", \"# Minutes with 1+ VP per Minute\": 345, \"# Minutes with 2+ VP per Minute\": 192, \"# Early Arrival Trips\": 0, \"# On-Time Trips\": 6, \"# Late Trips\": 3, \"Average VP per Minute\": 1.11, \"% VP within Scheduled Shape\": 17.9, \"% Scheduled Trip w/ 1+ VP/Minute\": 72.8, \"% Scheduled Trip w/ 2+ VP/Minute\": 40.5, \"Realtime versus Scheduled Service Ratio\": 1.15, \"Speed (MPH)\": 6.07, \"Portfolio Organization Name\": \"City of West Hollywood\", \"Headway (Minutes)\": 96.77, \"sched_rt_category\": \"schedule_and_vp\", \"ruler\": 3}, {\"Direction (0/1)\": 0, \"Period\": \"All Day\", \"Average Scheduled Service (trip minutes)\": 52.73, \"# Scheduled Trips\": 15, \"# Realtime Trips\": 16, \"Date\": \"2025-02-12T00:00:00\", \"Route\": \"Cityline Local-East\", \"Direction\": \"Eastbound\", \"# Minutes with 1+ VP per Minute\": 960, \"# Minutes with 2+ VP per Minute\": 596, \"# Early Arrival Trips\": 0, \"# On-Time Trips\": 0, \"# Late Trips\": 16, \"Average VP per Minute\": 1.77, \"% VP within Scheduled Shape\": 24.099999999999998, \"% Scheduled Trip w/ 1+ VP/Minute\": 100.0, \"% Scheduled Trip w/ 2+ VP/Minute\": 71.6, \"Realtime versus Scheduled Service Ratio\": 1.19, \"Speed (MPH)\": 8.26, \"Portfolio Organization Name\": \"City of West Hollywood\", \"Headway (Minutes)\": 96.77, \"sched_rt_category\": \"schedule_and_vp\", \"ruler\": 3}, {\"Direction (0/1)\": 0, \"Period\": \"All Day\", \"Average Scheduled Service (trip minutes)\": 52.73, \"# Scheduled Trips\": 15, \"# Realtime Trips\": 15, \"Date\": \"2025-03-12T00:00:00\", \"Route\": \"Cityline Local-East\", \"Direction\": \"Eastbound\", \"# Minutes with 1+ VP per Minute\": 847, \"# Minutes with 2+ VP per Minute\": 454, \"# Early Arrival Trips\": 2, \"# On-Time Trips\": 5, \"# Late Trips\": 8, \"Average VP per Minute\": 1.65, \"% VP within Scheduled Shape\": 22.900000000000002, \"% Scheduled Trip w/ 1+ VP/Minute\": 100.0, \"% Scheduled Trip w/ 2+ VP/Minute\": 56.99999999999999, \"Realtime versus Scheduled Service Ratio\": 1.09, \"Speed (MPH)\": 7.68, \"Portfolio Organization Name\": \"City of West Hollywood\", \"Headway (Minutes)\": 96.77, \"sched_rt_category\": \"schedule_and_vp\", \"ruler\": 3}, {\"Direction (0/1)\": 1, \"Period\": \"All Day\", \"Average Scheduled Service (trip minutes)\": 67.89, \"# Scheduled Trips\": 15, \"# Realtime Trips\": 18, \"Date\": \"2025-01-15T00:00:00\", \"Route\": \"Cityline Local-West\", \"Direction\": \"Westbound\", \"# Minutes with 1+ VP per Minute\": 1440, \"# Minutes with 2+ VP per Minute\": 729, \"# Early Arrival Trips\": 0, \"# On-Time Trips\": 0, \"# Late Trips\": 18, \"Average VP per Minute\": 1.63, \"% VP within Scheduled Shape\": 10.2, \"% Scheduled Trip w/ 1+ VP/Minute\": 100.0, \"% Scheduled Trip w/ 2+ VP/Minute\": 58.9, \"Realtime versus Scheduled Service Ratio\": 1.2, \"Speed (MPH)\": 9.45, \"Portfolio Organization Name\": \"City of West Hollywood\", \"Headway (Minutes)\": 96.77, \"sched_rt_category\": \"schedule_and_vp\", \"ruler\": 3}, {\"Direction (0/1)\": 1, \"Period\": \"All Day\", \"Average Scheduled Service (trip minutes)\": 67.89, \"# Scheduled Trips\": 15, \"# Realtime Trips\": 17, \"Date\": \"2025-02-12T00:00:00\", \"Route\": \"Cityline Local-West\", \"Direction\": \"Westbound\", \"# Minutes with 1+ VP per Minute\": 1126, \"# Minutes with 2+ VP per Minute\": 594, \"# Early Arrival Trips\": 4, \"# On-Time Trips\": 4, \"# Late Trips\": 9, \"Average VP per Minute\": 1.52, \"% VP within Scheduled Shape\": 23.3, \"% Scheduled Trip w/ 1+ VP/Minute\": 98.1, \"% Scheduled Trip w/ 2+ VP/Minute\": 51.800000000000004, \"Realtime versus Scheduled Service Ratio\": 1.06, \"Speed (MPH)\": 11.39, \"Portfolio Organization Name\": \"City of West Hollywood\", \"Headway (Minutes)\": 96.77, \"sched_rt_category\": \"schedule_and_vp\", \"ruler\": 3}, {\"Direction (0/1)\": 1, \"Period\": \"All Day\", \"Average Scheduled Service (trip minutes)\": 67.89, \"# Scheduled Trips\": 15, \"# Realtime Trips\": 17, \"Date\": \"2025-03-12T00:00:00\", \"Route\": \"Cityline Local-West\", \"Direction\": \"Westbound\", \"# Minutes with 1+ VP per Minute\": 1119, \"# Minutes with 2+ VP per Minute\": 598, \"# Early Arrival Trips\": 0, \"# On-Time Trips\": 4, \"# Late Trips\": 13, \"Average VP per Minute\": 1.52, \"% VP within Scheduled Shape\": 23.0, \"% Scheduled Trip w/ 1+ VP/Minute\": 97.5, \"% Scheduled Trip w/ 2+ VP/Minute\": 52.1, \"Realtime versus Scheduled Service Ratio\": 1.09, \"Speed (MPH)\": 9.74, \"Portfolio Organization Name\": \"City of West Hollywood\", \"Headway (Minutes)\": 96.77, \"sched_rt_category\": \"schedule_and_vp\", \"ruler\": 3}]}}, {\"mode\": \"vega-lite\"});\n",
       "</script>"
      ],
      "text/plain": [
       "alt.FacetChart(...)"
      ]
     },
     "execution_count": 9,
     "metadata": {},
     "output_type": "execute_result"
    }
   ],
   "source": [
    "vp_per_minute_chart(df[df.Period==\"All Day\"])"
   ]
  },
  {
   "cell_type": "markdown",
   "id": "48b952c6-6754-4441-9dc7-7a968c73aca2",
   "metadata": {},
   "source": [
    "## Text Tables"
   ]
  },
  {
   "cell_type": "markdown",
   "id": "0b7fed53-ce6b-4050-8191-94ab63597578",
   "metadata": {},
   "source": [
    "## Timeliness"
   ]
  },
  {
   "cell_type": "code",
   "execution_count": 10,
   "id": "07dfc281-22e2-4c61-a07b-9871279ab887",
   "metadata": {
    "tags": []
   },
   "outputs": [
    {
     "data": {
      "text/plain": [
       "Index(['Direction (0/1)', 'Period', 'Average Scheduled Service (trip minutes)',\n",
       "       '# Scheduled Trips', '# Realtime Trips', 'Date', 'Route', 'Direction',\n",
       "       '# Minutes with 1+ VP per Minute', '# Minutes with 2+ VP per Minute',\n",
       "       '# Early Arrival Trips', '# On-Time Trips', '# Late Trips',\n",
       "       'Average VP per Minute', '% VP within Scheduled Shape',\n",
       "       '% Scheduled Trip w/ 1+ VP/Minute', '% Scheduled Trip w/ 2+ VP/Minute',\n",
       "       'Realtime versus Scheduled Service Ratio', 'Speed (MPH)',\n",
       "       'Portfolio Organization Name', 'Headway (Minutes)',\n",
       "       'sched_rt_category'],\n",
       "      dtype='object')"
      ]
     },
     "execution_count": 10,
     "metadata": {},
     "output_type": "execute_result"
    }
   ],
   "source": [
    "df.columns"
   ]
  },
  {
   "cell_type": "code",
   "execution_count": 11,
   "id": "8255dff0-4bc9-486b-a97b-ec1355850469",
   "metadata": {
    "tags": []
   },
   "outputs": [],
   "source": [
    "def timeliness_trips(df: pd.DataFrame):\n",
    "    \"\"\"\n",
    "    Reshape dataframe for the charts that illustrate\n",
    "    how timely a route's trips are. \n",
    "    \"\"\"\n",
    "    melted_df = df.melt(\n",
    "    id_vars=[\n",
    "        \"Date\",\n",
    "        'Portfolio Organization Name',\n",
    "        \"Route\",\n",
    "        \"Period\",\n",
    "        \"Direction\",\n",
    "        'Direction (0/1)',\n",
    "        \"# Realtime Trips\"\n",
    "    ],\n",
    "    value_vars=[\n",
    "        \"# Early Arrival Trips\",\n",
    "        \"# On-Time Trips\",\n",
    "        \"# Late Trips\",\n",
    "    ],\n",
    "    )\n",
    "\n",
    "    melted_df[\"Percentage\"] = (melted_df.value / melted_df[\"# Realtime Trips\"]) * 100\n",
    "    \n",
    "    return melted_df"
   ]
  },
  {
   "cell_type": "code",
   "execution_count": 12,
   "id": "172bcd19-67b9-4e09-a5e2-d69ae57a5e22",
   "metadata": {
    "tags": []
   },
   "outputs": [],
   "source": [
    "timeliness_df = timeliness_trips(df)"
   ]
  },
  {
   "cell_type": "code",
   "execution_count": 13,
   "id": "bcd6b8b6-8c46-4e46-b493-c7b67718b140",
   "metadata": {
    "tags": []
   },
   "outputs": [
    {
     "data": {
      "text/html": [
       "<div>\n",
       "<style scoped>\n",
       "    .dataframe tbody tr th:only-of-type {\n",
       "        vertical-align: middle;\n",
       "    }\n",
       "\n",
       "    .dataframe tbody tr th {\n",
       "        vertical-align: top;\n",
       "    }\n",
       "\n",
       "    .dataframe thead th {\n",
       "        text-align: right;\n",
       "    }\n",
       "</style>\n",
       "<table border=\"1\" class=\"dataframe\">\n",
       "  <thead>\n",
       "    <tr style=\"text-align: right;\">\n",
       "      <th></th>\n",
       "      <th>Date</th>\n",
       "      <th>Portfolio Organization Name</th>\n",
       "      <th>Route</th>\n",
       "      <th>Period</th>\n",
       "      <th>Direction</th>\n",
       "      <th>Direction (0/1)</th>\n",
       "      <th># Realtime Trips</th>\n",
       "      <th>variable</th>\n",
       "      <th>value</th>\n",
       "      <th>Percentage</th>\n",
       "    </tr>\n",
       "  </thead>\n",
       "  <tbody>\n",
       "    <tr>\n",
       "      <th>0</th>\n",
       "      <td>2023-03-15</td>\n",
       "      <td>City of West Hollywood</td>\n",
       "      <td>Cityline Local-East</td>\n",
       "      <td>All Day</td>\n",
       "      <td>Eastbound</td>\n",
       "      <td>0</td>\n",
       "      <td>11</td>\n",
       "      <td># Early Arrival Trips</td>\n",
       "      <td>1</td>\n",
       "      <td>9.090909</td>\n",
       "    </tr>\n",
       "    <tr>\n",
       "      <th>1</th>\n",
       "      <td>2023-03-15</td>\n",
       "      <td>City of West Hollywood</td>\n",
       "      <td>Cityline Local-East</td>\n",
       "      <td>Offpeak</td>\n",
       "      <td>Eastbound</td>\n",
       "      <td>0</td>\n",
       "      <td>7</td>\n",
       "      <td># Early Arrival Trips</td>\n",
       "      <td>1</td>\n",
       "      <td>14.285714</td>\n",
       "    </tr>\n",
       "  </tbody>\n",
       "</table>\n",
       "</div>"
      ],
      "text/plain": [
       "        Date Portfolio Organization Name                Route   Period  \\\n",
       "0 2023-03-15      City of West Hollywood  Cityline Local-East  All Day   \n",
       "1 2023-03-15      City of West Hollywood  Cityline Local-East  Offpeak   \n",
       "\n",
       "   Direction  Direction (0/1)  # Realtime Trips               variable  value  \\\n",
       "0  Eastbound                0                11  # Early Arrival Trips      1   \n",
       "1  Eastbound                0                 7  # Early Arrival Trips      1   \n",
       "\n",
       "   Percentage  \n",
       "0    9.090909  \n",
       "1   14.285714  "
      ]
     },
     "execution_count": 13,
     "metadata": {},
     "output_type": "execute_result"
    }
   ],
   "source": [
    "timeliness_df.head(2)"
   ]
  },
  {
   "cell_type": "code",
   "execution_count": 16,
   "id": "86f4eae0-711a-4b0b-8d4e-27e617465604",
   "metadata": {
    "tags": []
   },
   "outputs": [],
   "source": [
    "def timeliness_chart(df) -> alt.Chart:\n",
    "    \n",
    "    # Reshape dataframe from wide to long\n",
    "    df2 = timeliness_trips(df)\n",
    "    \n",
    "    specific_chart_dict = readable_dict.timeliness_trips_graph\n",
    "\n",
    "    chart = _report_visuals_utils.line_chart(\n",
    "        df=df2,\n",
    "        x_col=\"Date\",\n",
    "        y_col=\"Percentage\",\n",
    "        color_col=\"variable\",\n",
    "        color_scheme = [*specific_chart_dict.colors],\n",
    "        tooltip_cols = [*specific_chart_dict.tooltip],\n",
    "    ).properties(width=200, height=250)\n",
    "\n",
    "    chart = chart.facet(\n",
    "        column=alt.Column(\n",
    "            \"Direction:N\",\n",
    "        )\n",
    "    ).properties(\n",
    "        title={\n",
    "            \"text\": specific_chart_dict.title,\n",
    "            \"subtitle\": specific_chart_dict.subtitle,\n",
    "        }\n",
    "    )\n",
    "    return chart"
   ]
  },
  {
   "cell_type": "code",
   "execution_count": 18,
   "id": "54d0d888-9d2a-4d59-bf91-410b4b3d1c72",
   "metadata": {
    "tags": []
   },
   "outputs": [
    {
     "data": {
      "text/html": [
       "\n",
       "<style>\n",
       "  #altair-viz-9ae740684f8d4681a78b9b7782ef682b.vega-embed {\n",
       "    width: 100%;\n",
       "    display: flex;\n",
       "  }\n",
       "\n",
       "  #altair-viz-9ae740684f8d4681a78b9b7782ef682b.vega-embed details,\n",
       "  #altair-viz-9ae740684f8d4681a78b9b7782ef682b.vega-embed details summary {\n",
       "    position: relative;\n",
       "  }\n",
       "</style>\n",
       "<div id=\"altair-viz-9ae740684f8d4681a78b9b7782ef682b\"></div>\n",
       "<script type=\"text/javascript\">\n",
       "  var VEGA_DEBUG = (typeof VEGA_DEBUG == \"undefined\") ? {} : VEGA_DEBUG;\n",
       "  (function(spec, embedOpt){\n",
       "    let outputDiv = document.currentScript.previousElementSibling;\n",
       "    if (outputDiv.id !== \"altair-viz-9ae740684f8d4681a78b9b7782ef682b\") {\n",
       "      outputDiv = document.getElementById(\"altair-viz-9ae740684f8d4681a78b9b7782ef682b\");\n",
       "    }\n",
       "\n",
       "    const paths = {\n",
       "      \"vega\": \"https://cdn.jsdelivr.net/npm/vega@5?noext\",\n",
       "      \"vega-lib\": \"https://cdn.jsdelivr.net/npm/vega-lib?noext\",\n",
       "      \"vega-lite\": \"https://cdn.jsdelivr.net/npm/vega-lite@5.20.1?noext\",\n",
       "      \"vega-embed\": \"https://cdn.jsdelivr.net/npm/vega-embed@6?noext\",\n",
       "    };\n",
       "\n",
       "    function maybeLoadScript(lib, version) {\n",
       "      var key = `${lib.replace(\"-\", \"\")}_version`;\n",
       "      return (VEGA_DEBUG[key] == version) ?\n",
       "        Promise.resolve(paths[lib]) :\n",
       "        new Promise(function(resolve, reject) {\n",
       "          var s = document.createElement('script');\n",
       "          document.getElementsByTagName(\"head\")[0].appendChild(s);\n",
       "          s.async = true;\n",
       "          s.onload = () => {\n",
       "            VEGA_DEBUG[key] = version;\n",
       "            return resolve(paths[lib]);\n",
       "          };\n",
       "          s.onerror = () => reject(`Error loading script: ${paths[lib]}`);\n",
       "          s.src = paths[lib];\n",
       "        });\n",
       "    }\n",
       "\n",
       "    function showError(err) {\n",
       "      outputDiv.innerHTML = `<div class=\"error\" style=\"color:red;\">${err}</div>`;\n",
       "      throw err;\n",
       "    }\n",
       "\n",
       "    function displayChart(vegaEmbed) {\n",
       "      vegaEmbed(outputDiv, spec, embedOpt)\n",
       "        .catch(err => showError(`Javascript Error: ${err.message}<br>This usually means there's a typo in your chart specification. See the javascript console for the full traceback.`));\n",
       "    }\n",
       "\n",
       "    if(typeof define === \"function\" && define.amd) {\n",
       "      requirejs.config({paths});\n",
       "      let deps = [\"vega-embed\"];\n",
       "      require(deps, displayChart, err => showError(`Error loading script: ${err.message}`));\n",
       "    } else {\n",
       "      maybeLoadScript(\"vega\", \"5\")\n",
       "        .then(() => maybeLoadScript(\"vega-lite\", \"5.20.1\"))\n",
       "        .then(() => maybeLoadScript(\"vega-embed\", \"6\"))\n",
       "        .catch(showError)\n",
       "        .then(() => displayChart(vegaEmbed));\n",
       "    }\n",
       "  })({\"config\": {\"view\": {\"continuousWidth\": 300, \"continuousHeight\": 300}}, \"data\": {\"name\": \"data-0931610cf3828d2845b5dbddf5a54992\"}, \"facet\": {\"column\": {\"field\": \"Direction\", \"type\": \"nominal\"}}, \"spec\": {\"mark\": {\"type\": \"line\", \"size\": 3}, \"encoding\": {\"color\": {\"field\": \"variable\", \"scale\": {\"range\": [\"#ccbb44\", \"#5b8efd\", \"#dd217d\"]}, \"title\": \"variable\", \"type\": \"nominal\"}, \"tooltip\": [{\"field\": \"Date\", \"type\": \"temporal\"}, {\"field\": \"Route\", \"type\": \"nominal\"}, {\"field\": \"Direction\", \"type\": \"nominal\"}, {\"field\": \"Period\", \"type\": \"nominal\"}, {\"field\": \"Percentage\", \"type\": \"quantitative\"}], \"x\": {\"axis\": {\"format\": \"%b %Y\", \"labelAngle\": -45}, \"field\": \"Date\", \"title\": \"Date\", \"type\": \"temporal\"}, \"y\": {\"field\": \"Percentage\", \"title\": \"Percentage\", \"type\": \"quantitative\"}}, \"height\": 250, \"width\": 200}, \"title\": {\"text\": \"Breakdown of Trips by Timeliness for Direction \", \"subtitle\": \"Categorizing whether a trip is early, late, or on time. A trip is on time if it arrives 5 minutes later or earlier than scheduled.\"}, \"$schema\": \"https://vega.github.io/schema/vega-lite/v5.20.1.json\", \"datasets\": {\"data-0931610cf3828d2845b5dbddf5a54992\": [{\"Date\": \"2023-03-15T00:00:00\", \"Portfolio Organization Name\": \"City of West Hollywood\", \"Route\": \"Cityline Local-East\", \"Period\": \"All Day\", \"Direction\": \"Eastbound\", \"Direction (0/1)\": 0, \"# Realtime Trips\": 11, \"variable\": \"# Early Arrival Trips\", \"value\": 1, \"Percentage\": 9.090909090909092}, {\"Date\": \"2023-03-15T00:00:00\", \"Portfolio Organization Name\": \"City of West Hollywood\", \"Route\": \"Cityline Local-West\", \"Period\": \"All Day\", \"Direction\": \"Westbound\", \"Direction (0/1)\": 1, \"# Realtime Trips\": 12, \"variable\": \"# Early Arrival Trips\", \"value\": 2, \"Percentage\": 16.666666666666664}, {\"Date\": \"2023-04-12T00:00:00\", \"Portfolio Organization Name\": \"City of West Hollywood\", \"Route\": \"Cityline Local-East\", \"Period\": \"All Day\", \"Direction\": \"Eastbound\", \"Direction (0/1)\": 0, \"# Realtime Trips\": 13, \"variable\": \"# Early Arrival Trips\", \"value\": 3, \"Percentage\": 23.076923076923077}, {\"Date\": \"2023-05-17T00:00:00\", \"Portfolio Organization Name\": \"City of West Hollywood\", \"Route\": \"Cityline Local-East\", \"Period\": \"All Day\", \"Direction\": \"Eastbound\", \"Direction (0/1)\": 0, \"# Realtime Trips\": 11, \"variable\": \"# Early Arrival Trips\", \"value\": 2, \"Percentage\": 18.181818181818183}, {\"Date\": \"2023-06-14T00:00:00\", \"Portfolio Organization Name\": \"City of West Hollywood\", \"Route\": \"Cityline Local-East\", \"Period\": \"All Day\", \"Direction\": \"Eastbound\", \"Direction (0/1)\": 0, \"# Realtime Trips\": 7, \"variable\": \"# Early Arrival Trips\", \"value\": 1, \"Percentage\": 14.285714285714285}, {\"Date\": \"2023-07-12T00:00:00\", \"Portfolio Organization Name\": \"City of West Hollywood\", \"Route\": \"Cityline Local-East\", \"Period\": \"All Day\", \"Direction\": \"Eastbound\", \"Direction (0/1)\": 0, \"# Realtime Trips\": 11, \"variable\": \"# Early Arrival Trips\", \"value\": 0, \"Percentage\": 0.0}, {\"Date\": \"2023-08-15T00:00:00\", \"Portfolio Organization Name\": \"City of West Hollywood\", \"Route\": \"Cityline Local-East\", \"Period\": \"All Day\", \"Direction\": \"Eastbound\", \"Direction (0/1)\": 0, \"# Realtime Trips\": 7, \"variable\": \"# Early Arrival Trips\", \"value\": 1, \"Percentage\": 14.285714285714285}, {\"Date\": \"2023-09-13T00:00:00\", \"Portfolio Organization Name\": \"City of West Hollywood\", \"Route\": \"Cityline Local-East\", \"Period\": \"All Day\", \"Direction\": \"Eastbound\", \"Direction (0/1)\": 0, \"# Realtime Trips\": 11, \"variable\": \"# Early Arrival Trips\", \"value\": 2, \"Percentage\": 18.181818181818183}, {\"Date\": \"2023-10-11T00:00:00\", \"Portfolio Organization Name\": \"City of West Hollywood\", \"Route\": \"Cityline Local-East\", \"Period\": \"All Day\", \"Direction\": \"Eastbound\", \"Direction (0/1)\": 0, \"# Realtime Trips\": 11, \"variable\": \"# Early Arrival Trips\", \"value\": 3, \"Percentage\": 27.27272727272727}, {\"Date\": \"2023-11-15T00:00:00\", \"Portfolio Organization Name\": \"City of West Hollywood\", \"Route\": \"Cityline Local-East\", \"Period\": \"All Day\", \"Direction\": \"Eastbound\", \"Direction (0/1)\": 0, \"# Realtime Trips\": 7, \"variable\": \"# Early Arrival Trips\", \"value\": 2, \"Percentage\": 28.57142857142857}, {\"Date\": \"2023-12-13T00:00:00\", \"Portfolio Organization Name\": \"City of West Hollywood\", \"Route\": \"Cityline Local-East\", \"Period\": \"All Day\", \"Direction\": \"Eastbound\", \"Direction (0/1)\": 0, \"# Realtime Trips\": 8, \"variable\": \"# Early Arrival Trips\", \"value\": 0, \"Percentage\": 0.0}, {\"Date\": \"2023-04-12T00:00:00\", \"Portfolio Organization Name\": \"City of West Hollywood\", \"Route\": \"Cityline Local-West\", \"Period\": \"All Day\", \"Direction\": \"Westbound\", \"Direction (0/1)\": 1, \"# Realtime Trips\": 14, \"variable\": \"# Early Arrival Trips\", \"value\": 2, \"Percentage\": 14.285714285714285}, {\"Date\": \"2023-05-17T00:00:00\", \"Portfolio Organization Name\": \"City of West Hollywood\", \"Route\": \"Cityline Local-West\", \"Period\": \"All Day\", \"Direction\": \"Westbound\", \"Direction (0/1)\": 1, \"# Realtime Trips\": 10, \"variable\": \"# Early Arrival Trips\", \"value\": 1, \"Percentage\": 10.0}, {\"Date\": \"2023-06-14T00:00:00\", \"Portfolio Organization Name\": \"City of West Hollywood\", \"Route\": \"Cityline Local-West\", \"Period\": \"All Day\", \"Direction\": \"Westbound\", \"Direction (0/1)\": 1, \"# Realtime Trips\": 6, \"variable\": \"# Early Arrival Trips\", \"value\": 0, \"Percentage\": 0.0}, {\"Date\": \"2023-07-12T00:00:00\", \"Portfolio Organization Name\": \"City of West Hollywood\", \"Route\": \"Cityline Local-West\", \"Period\": \"All Day\", \"Direction\": \"Westbound\", \"Direction (0/1)\": 1, \"# Realtime Trips\": 11, \"variable\": \"# Early Arrival Trips\", \"value\": 1, \"Percentage\": 9.090909090909092}, {\"Date\": \"2023-08-15T00:00:00\", \"Portfolio Organization Name\": \"City of West Hollywood\", \"Route\": \"Cityline Local-West\", \"Period\": \"All Day\", \"Direction\": \"Westbound\", \"Direction (0/1)\": 1, \"# Realtime Trips\": 5, \"variable\": \"# Early Arrival Trips\", \"value\": 0, \"Percentage\": 0.0}, {\"Date\": \"2023-09-13T00:00:00\", \"Portfolio Organization Name\": \"City of West Hollywood\", \"Route\": \"Cityline Local-West\", \"Period\": \"All Day\", \"Direction\": \"Westbound\", \"Direction (0/1)\": 1, \"# Realtime Trips\": 10, \"variable\": \"# Early Arrival Trips\", \"value\": 1, \"Percentage\": 10.0}, {\"Date\": \"2023-10-11T00:00:00\", \"Portfolio Organization Name\": \"City of West Hollywood\", \"Route\": \"Cityline Local-West\", \"Period\": \"All Day\", \"Direction\": \"Westbound\", \"Direction (0/1)\": 1, \"# Realtime Trips\": 9, \"variable\": \"# Early Arrival Trips\", \"value\": 1, \"Percentage\": 11.11111111111111}, {\"Date\": \"2023-11-15T00:00:00\", \"Portfolio Organization Name\": \"City of West Hollywood\", \"Route\": \"Cityline Local-West\", \"Period\": \"All Day\", \"Direction\": \"Westbound\", \"Direction (0/1)\": 1, \"# Realtime Trips\": 8, \"variable\": \"# Early Arrival Trips\", \"value\": 1, \"Percentage\": 12.5}, {\"Date\": \"2023-12-13T00:00:00\", \"Portfolio Organization Name\": \"City of West Hollywood\", \"Route\": \"Cityline Local-West\", \"Period\": \"All Day\", \"Direction\": \"Westbound\", \"Direction (0/1)\": 1, \"# Realtime Trips\": 8, \"variable\": \"# Early Arrival Trips\", \"value\": 1, \"Percentage\": 12.5}, {\"Date\": \"2024-07-17T00:00:00\", \"Portfolio Organization Name\": \"City of West Hollywood\", \"Route\": \"Cityline Local-East\", \"Period\": \"All Day\", \"Direction\": \"Eastbound\", \"Direction (0/1)\": 0, \"# Realtime Trips\": 23, \"variable\": \"# Early Arrival Trips\", \"value\": 6, \"Percentage\": 26.08695652173913}, {\"Date\": \"2024-08-14T00:00:00\", \"Portfolio Organization Name\": \"City of West Hollywood\", \"Route\": \"Cityline Local-East\", \"Period\": \"All Day\", \"Direction\": \"Eastbound\", \"Direction (0/1)\": 0, \"# Realtime Trips\": 22, \"variable\": \"# Early Arrival Trips\", \"value\": 7, \"Percentage\": 31.818181818181817}, {\"Date\": \"2024-09-18T00:00:00\", \"Portfolio Organization Name\": \"City of West Hollywood\", \"Route\": \"Cityline Local-East\", \"Period\": \"All Day\", \"Direction\": \"Eastbound\", \"Direction (0/1)\": 0, \"# Realtime Trips\": 18, \"variable\": \"# Early Arrival Trips\", \"value\": 4, \"Percentage\": 22.22222222222222}, {\"Date\": \"2024-10-16T00:00:00\", \"Portfolio Organization Name\": \"City of West Hollywood\", \"Route\": \"Cityline Local-East\", \"Period\": \"All Day\", \"Direction\": \"Eastbound\", \"Direction (0/1)\": 0, \"# Realtime Trips\": 21, \"variable\": \"# Early Arrival Trips\", \"value\": 2, \"Percentage\": 9.523809523809524}, {\"Date\": \"2024-11-13T00:00:00\", \"Portfolio Organization Name\": \"City of West Hollywood\", \"Route\": \"Cityline Local-East\", \"Period\": \"All Day\", \"Direction\": \"Eastbound\", \"Direction (0/1)\": 0, \"# Realtime Trips\": 16, \"variable\": \"# Early Arrival Trips\", \"value\": 0, \"Percentage\": 0.0}, {\"Date\": \"2024-12-11T00:00:00\", \"Portfolio Organization Name\": \"City of West Hollywood\", \"Route\": \"Cityline Local-East\", \"Period\": \"All Day\", \"Direction\": \"Eastbound\", \"Direction (0/1)\": 0, \"# Realtime Trips\": 12, \"variable\": \"# Early Arrival Trips\", \"value\": 0, \"Percentage\": 0.0}, {\"Date\": \"2024-07-17T00:00:00\", \"Portfolio Organization Name\": \"City of West Hollywood\", \"Route\": \"Cityline Local-West\", \"Period\": \"All Day\", \"Direction\": \"Westbound\", \"Direction (0/1)\": 1, \"# Realtime Trips\": 26, \"variable\": \"# Early Arrival Trips\", \"value\": 3, \"Percentage\": 11.538461538461538}, {\"Date\": \"2024-08-14T00:00:00\", \"Portfolio Organization Name\": \"City of West Hollywood\", \"Route\": \"Cityline Local-West\", \"Period\": \"All Day\", \"Direction\": \"Westbound\", \"Direction (0/1)\": 1, \"# Realtime Trips\": 29, \"variable\": \"# Early Arrival Trips\", \"value\": 12, \"Percentage\": 41.37931034482759}, {\"Date\": \"2024-09-18T00:00:00\", \"Portfolio Organization Name\": \"City of West Hollywood\", \"Route\": \"Cityline Local-West\", \"Period\": \"All Day\", \"Direction\": \"Westbound\", \"Direction (0/1)\": 1, \"# Realtime Trips\": 23, \"variable\": \"# Early Arrival Trips\", \"value\": 3, \"Percentage\": 13.043478260869565}, {\"Date\": \"2024-10-16T00:00:00\", \"Portfolio Organization Name\": \"City of West Hollywood\", \"Route\": \"Cityline Local-West\", \"Period\": \"All Day\", \"Direction\": \"Westbound\", \"Direction (0/1)\": 1, \"# Realtime Trips\": 20, \"variable\": \"# Early Arrival Trips\", \"value\": 5, \"Percentage\": 25.0}, {\"Date\": \"2024-11-13T00:00:00\", \"Portfolio Organization Name\": \"City of West Hollywood\", \"Route\": \"Cityline Local-West\", \"Period\": \"All Day\", \"Direction\": \"Westbound\", \"Direction (0/1)\": 1, \"# Realtime Trips\": 16, \"variable\": \"# Early Arrival Trips\", \"value\": 3, \"Percentage\": 18.75}, {\"Date\": \"2024-12-11T00:00:00\", \"Portfolio Organization Name\": \"City of West Hollywood\", \"Route\": \"Cityline Local-West\", \"Period\": \"All Day\", \"Direction\": \"Westbound\", \"Direction (0/1)\": 1, \"# Realtime Trips\": 17, \"variable\": \"# Early Arrival Trips\", \"value\": 0, \"Percentage\": 0.0}, {\"Date\": \"2025-01-15T00:00:00\", \"Portfolio Organization Name\": \"City of West Hollywood\", \"Route\": \"Cityline Local-East\", \"Period\": \"All Day\", \"Direction\": \"Eastbound\", \"Direction (0/1)\": 0, \"# Realtime Trips\": 9, \"variable\": \"# Early Arrival Trips\", \"value\": 0, \"Percentage\": 0.0}, {\"Date\": \"2025-02-12T00:00:00\", \"Portfolio Organization Name\": \"City of West Hollywood\", \"Route\": \"Cityline Local-East\", \"Period\": \"All Day\", \"Direction\": \"Eastbound\", \"Direction (0/1)\": 0, \"# Realtime Trips\": 16, \"variable\": \"# Early Arrival Trips\", \"value\": 0, \"Percentage\": 0.0}, {\"Date\": \"2025-03-12T00:00:00\", \"Portfolio Organization Name\": \"City of West Hollywood\", \"Route\": \"Cityline Local-East\", \"Period\": \"All Day\", \"Direction\": \"Eastbound\", \"Direction (0/1)\": 0, \"# Realtime Trips\": 15, \"variable\": \"# Early Arrival Trips\", \"value\": 2, \"Percentage\": 13.333333333333334}, {\"Date\": \"2025-01-15T00:00:00\", \"Portfolio Organization Name\": \"City of West Hollywood\", \"Route\": \"Cityline Local-West\", \"Period\": \"All Day\", \"Direction\": \"Westbound\", \"Direction (0/1)\": 1, \"# Realtime Trips\": 18, \"variable\": \"# Early Arrival Trips\", \"value\": 0, \"Percentage\": 0.0}, {\"Date\": \"2025-02-12T00:00:00\", \"Portfolio Organization Name\": \"City of West Hollywood\", \"Route\": \"Cityline Local-West\", \"Period\": \"All Day\", \"Direction\": \"Westbound\", \"Direction (0/1)\": 1, \"# Realtime Trips\": 17, \"variable\": \"# Early Arrival Trips\", \"value\": 4, \"Percentage\": 23.52941176470588}, {\"Date\": \"2025-03-12T00:00:00\", \"Portfolio Organization Name\": \"City of West Hollywood\", \"Route\": \"Cityline Local-West\", \"Period\": \"All Day\", \"Direction\": \"Westbound\", \"Direction (0/1)\": 1, \"# Realtime Trips\": 17, \"variable\": \"# Early Arrival Trips\", \"value\": 0, \"Percentage\": 0.0}, {\"Date\": \"2023-03-15T00:00:00\", \"Portfolio Organization Name\": \"City of West Hollywood\", \"Route\": \"Cityline Local-East\", \"Period\": \"All Day\", \"Direction\": \"Eastbound\", \"Direction (0/1)\": 0, \"# Realtime Trips\": 11, \"variable\": \"# On-Time Trips\", \"value\": 7, \"Percentage\": 63.63636363636363}, {\"Date\": \"2023-03-15T00:00:00\", \"Portfolio Organization Name\": \"City of West Hollywood\", \"Route\": \"Cityline Local-West\", \"Period\": \"All Day\", \"Direction\": \"Westbound\", \"Direction (0/1)\": 1, \"# Realtime Trips\": 12, \"variable\": \"# On-Time Trips\", \"value\": 2, \"Percentage\": 16.666666666666664}, {\"Date\": \"2023-04-12T00:00:00\", \"Portfolio Organization Name\": \"City of West Hollywood\", \"Route\": \"Cityline Local-East\", \"Period\": \"All Day\", \"Direction\": \"Eastbound\", \"Direction (0/1)\": 0, \"# Realtime Trips\": 13, \"variable\": \"# On-Time Trips\", \"value\": 3, \"Percentage\": 23.076923076923077}, {\"Date\": \"2023-05-17T00:00:00\", \"Portfolio Organization Name\": \"City of West Hollywood\", \"Route\": \"Cityline Local-East\", \"Period\": \"All Day\", \"Direction\": \"Eastbound\", \"Direction (0/1)\": 0, \"# Realtime Trips\": 11, \"variable\": \"# On-Time Trips\", \"value\": 2, \"Percentage\": 18.181818181818183}, {\"Date\": \"2023-06-14T00:00:00\", \"Portfolio Organization Name\": \"City of West Hollywood\", \"Route\": \"Cityline Local-East\", \"Period\": \"All Day\", \"Direction\": \"Eastbound\", \"Direction (0/1)\": 0, \"# Realtime Trips\": 7, \"variable\": \"# On-Time Trips\", \"value\": 1, \"Percentage\": 14.285714285714285}, {\"Date\": \"2023-07-12T00:00:00\", \"Portfolio Organization Name\": \"City of West Hollywood\", \"Route\": \"Cityline Local-East\", \"Period\": \"All Day\", \"Direction\": \"Eastbound\", \"Direction (0/1)\": 0, \"# Realtime Trips\": 11, \"variable\": \"# On-Time Trips\", \"value\": 3, \"Percentage\": 27.27272727272727}, {\"Date\": \"2023-08-15T00:00:00\", \"Portfolio Organization Name\": \"City of West Hollywood\", \"Route\": \"Cityline Local-East\", \"Period\": \"All Day\", \"Direction\": \"Eastbound\", \"Direction (0/1)\": 0, \"# Realtime Trips\": 7, \"variable\": \"# On-Time Trips\", \"value\": 1, \"Percentage\": 14.285714285714285}, {\"Date\": \"2023-09-13T00:00:00\", \"Portfolio Organization Name\": \"City of West Hollywood\", \"Route\": \"Cityline Local-East\", \"Period\": \"All Day\", \"Direction\": \"Eastbound\", \"Direction (0/1)\": 0, \"# Realtime Trips\": 11, \"variable\": \"# On-Time Trips\", \"value\": 2, \"Percentage\": 18.181818181818183}, {\"Date\": \"2023-10-11T00:00:00\", \"Portfolio Organization Name\": \"City of West Hollywood\", \"Route\": \"Cityline Local-East\", \"Period\": \"All Day\", \"Direction\": \"Eastbound\", \"Direction (0/1)\": 0, \"# Realtime Trips\": 11, \"variable\": \"# On-Time Trips\", \"value\": 5, \"Percentage\": 45.45454545454545}, {\"Date\": \"2023-11-15T00:00:00\", \"Portfolio Organization Name\": \"City of West Hollywood\", \"Route\": \"Cityline Local-East\", \"Period\": \"All Day\", \"Direction\": \"Eastbound\", \"Direction (0/1)\": 0, \"# Realtime Trips\": 7, \"variable\": \"# On-Time Trips\", \"value\": 4, \"Percentage\": 57.14285714285714}, {\"Date\": \"2023-12-13T00:00:00\", \"Portfolio Organization Name\": \"City of West Hollywood\", \"Route\": \"Cityline Local-East\", \"Period\": \"All Day\", \"Direction\": \"Eastbound\", \"Direction (0/1)\": 0, \"# Realtime Trips\": 8, \"variable\": \"# On-Time Trips\", \"value\": 2, \"Percentage\": 25.0}, {\"Date\": \"2023-04-12T00:00:00\", \"Portfolio Organization Name\": \"City of West Hollywood\", \"Route\": \"Cityline Local-West\", \"Period\": \"All Day\", \"Direction\": \"Westbound\", \"Direction (0/1)\": 1, \"# Realtime Trips\": 14, \"variable\": \"# On-Time Trips\", \"value\": 6, \"Percentage\": 42.857142857142854}, {\"Date\": \"2023-05-17T00:00:00\", \"Portfolio Organization Name\": \"City of West Hollywood\", \"Route\": \"Cityline Local-West\", \"Period\": \"All Day\", \"Direction\": \"Westbound\", \"Direction (0/1)\": 1, \"# Realtime Trips\": 10, \"variable\": \"# On-Time Trips\", \"value\": 4, \"Percentage\": 40.0}, {\"Date\": \"2023-06-14T00:00:00\", \"Portfolio Organization Name\": \"City of West Hollywood\", \"Route\": \"Cityline Local-West\", \"Period\": \"All Day\", \"Direction\": \"Westbound\", \"Direction (0/1)\": 1, \"# Realtime Trips\": 6, \"variable\": \"# On-Time Trips\", \"value\": 3, \"Percentage\": 50.0}, {\"Date\": \"2023-07-12T00:00:00\", \"Portfolio Organization Name\": \"City of West Hollywood\", \"Route\": \"Cityline Local-West\", \"Period\": \"All Day\", \"Direction\": \"Westbound\", \"Direction (0/1)\": 1, \"# Realtime Trips\": 11, \"variable\": \"# On-Time Trips\", \"value\": 5, \"Percentage\": 45.45454545454545}, {\"Date\": \"2023-08-15T00:00:00\", \"Portfolio Organization Name\": \"City of West Hollywood\", \"Route\": \"Cityline Local-West\", \"Period\": \"All Day\", \"Direction\": \"Westbound\", \"Direction (0/1)\": 1, \"# Realtime Trips\": 5, \"variable\": \"# On-Time Trips\", \"value\": 3, \"Percentage\": 60.0}, {\"Date\": \"2023-09-13T00:00:00\", \"Portfolio Organization Name\": \"City of West Hollywood\", \"Route\": \"Cityline Local-West\", \"Period\": \"All Day\", \"Direction\": \"Westbound\", \"Direction (0/1)\": 1, \"# Realtime Trips\": 10, \"variable\": \"# On-Time Trips\", \"value\": 3, \"Percentage\": 30.0}, {\"Date\": \"2023-10-11T00:00:00\", \"Portfolio Organization Name\": \"City of West Hollywood\", \"Route\": \"Cityline Local-West\", \"Period\": \"All Day\", \"Direction\": \"Westbound\", \"Direction (0/1)\": 1, \"# Realtime Trips\": 9, \"variable\": \"# On-Time Trips\", \"value\": 2, \"Percentage\": 22.22222222222222}, {\"Date\": \"2023-11-15T00:00:00\", \"Portfolio Organization Name\": \"City of West Hollywood\", \"Route\": \"Cityline Local-West\", \"Period\": \"All Day\", \"Direction\": \"Westbound\", \"Direction (0/1)\": 1, \"# Realtime Trips\": 8, \"variable\": \"# On-Time Trips\", \"value\": 3, \"Percentage\": 37.5}, {\"Date\": \"2023-12-13T00:00:00\", \"Portfolio Organization Name\": \"City of West Hollywood\", \"Route\": \"Cityline Local-West\", \"Period\": \"All Day\", \"Direction\": \"Westbound\", \"Direction (0/1)\": 1, \"# Realtime Trips\": 8, \"variable\": \"# On-Time Trips\", \"value\": 3, \"Percentage\": 37.5}, {\"Date\": \"2024-07-17T00:00:00\", \"Portfolio Organization Name\": \"City of West Hollywood\", \"Route\": \"Cityline Local-East\", \"Period\": \"All Day\", \"Direction\": \"Eastbound\", \"Direction (0/1)\": 0, \"# Realtime Trips\": 23, \"variable\": \"# On-Time Trips\", \"value\": 12, \"Percentage\": 52.17391304347826}, {\"Date\": \"2024-08-14T00:00:00\", \"Portfolio Organization Name\": \"City of West Hollywood\", \"Route\": \"Cityline Local-East\", \"Period\": \"All Day\", \"Direction\": \"Eastbound\", \"Direction (0/1)\": 0, \"# Realtime Trips\": 22, \"variable\": \"# On-Time Trips\", \"value\": 7, \"Percentage\": 31.818181818181817}, {\"Date\": \"2024-09-18T00:00:00\", \"Portfolio Organization Name\": \"City of West Hollywood\", \"Route\": \"Cityline Local-East\", \"Period\": \"All Day\", \"Direction\": \"Eastbound\", \"Direction (0/1)\": 0, \"# Realtime Trips\": 18, \"variable\": \"# On-Time Trips\", \"value\": 3, \"Percentage\": 16.666666666666664}, {\"Date\": \"2024-10-16T00:00:00\", \"Portfolio Organization Name\": \"City of West Hollywood\", \"Route\": \"Cityline Local-East\", \"Period\": \"All Day\", \"Direction\": \"Eastbound\", \"Direction (0/1)\": 0, \"# Realtime Trips\": 21, \"variable\": \"# On-Time Trips\", \"value\": 5, \"Percentage\": 23.809523809523807}, {\"Date\": \"2024-11-13T00:00:00\", \"Portfolio Organization Name\": \"City of West Hollywood\", \"Route\": \"Cityline Local-East\", \"Period\": \"All Day\", \"Direction\": \"Eastbound\", \"Direction (0/1)\": 0, \"# Realtime Trips\": 16, \"variable\": \"# On-Time Trips\", \"value\": 8, \"Percentage\": 50.0}, {\"Date\": \"2024-12-11T00:00:00\", \"Portfolio Organization Name\": \"City of West Hollywood\", \"Route\": \"Cityline Local-East\", \"Period\": \"All Day\", \"Direction\": \"Eastbound\", \"Direction (0/1)\": 0, \"# Realtime Trips\": 12, \"variable\": \"# On-Time Trips\", \"value\": 3, \"Percentage\": 25.0}, {\"Date\": \"2024-07-17T00:00:00\", \"Portfolio Organization Name\": \"City of West Hollywood\", \"Route\": \"Cityline Local-West\", \"Period\": \"All Day\", \"Direction\": \"Westbound\", \"Direction (0/1)\": 1, \"# Realtime Trips\": 26, \"variable\": \"# On-Time Trips\", \"value\": 18, \"Percentage\": 69.23076923076923}, {\"Date\": \"2024-08-14T00:00:00\", \"Portfolio Organization Name\": \"City of West Hollywood\", \"Route\": \"Cityline Local-West\", \"Period\": \"All Day\", \"Direction\": \"Westbound\", \"Direction (0/1)\": 1, \"# Realtime Trips\": 29, \"variable\": \"# On-Time Trips\", \"value\": 4, \"Percentage\": 13.793103448275861}, {\"Date\": \"2024-09-18T00:00:00\", \"Portfolio Organization Name\": \"City of West Hollywood\", \"Route\": \"Cityline Local-West\", \"Period\": \"All Day\", \"Direction\": \"Westbound\", \"Direction (0/1)\": 1, \"# Realtime Trips\": 23, \"variable\": \"# On-Time Trips\", \"value\": 5, \"Percentage\": 21.73913043478261}, {\"Date\": \"2024-10-16T00:00:00\", \"Portfolio Organization Name\": \"City of West Hollywood\", \"Route\": \"Cityline Local-West\", \"Period\": \"All Day\", \"Direction\": \"Westbound\", \"Direction (0/1)\": 1, \"# Realtime Trips\": 20, \"variable\": \"# On-Time Trips\", \"value\": 0, \"Percentage\": 0.0}, {\"Date\": \"2024-11-13T00:00:00\", \"Portfolio Organization Name\": \"City of West Hollywood\", \"Route\": \"Cityline Local-West\", \"Period\": \"All Day\", \"Direction\": \"Westbound\", \"Direction (0/1)\": 1, \"# Realtime Trips\": 16, \"variable\": \"# On-Time Trips\", \"value\": 4, \"Percentage\": 25.0}, {\"Date\": \"2024-12-11T00:00:00\", \"Portfolio Organization Name\": \"City of West Hollywood\", \"Route\": \"Cityline Local-West\", \"Period\": \"All Day\", \"Direction\": \"Westbound\", \"Direction (0/1)\": 1, \"# Realtime Trips\": 17, \"variable\": \"# On-Time Trips\", \"value\": 8, \"Percentage\": 47.05882352941176}, {\"Date\": \"2025-01-15T00:00:00\", \"Portfolio Organization Name\": \"City of West Hollywood\", \"Route\": \"Cityline Local-East\", \"Period\": \"All Day\", \"Direction\": \"Eastbound\", \"Direction (0/1)\": 0, \"# Realtime Trips\": 9, \"variable\": \"# On-Time Trips\", \"value\": 6, \"Percentage\": 66.66666666666666}, {\"Date\": \"2025-02-12T00:00:00\", \"Portfolio Organization Name\": \"City of West Hollywood\", \"Route\": \"Cityline Local-East\", \"Period\": \"All Day\", \"Direction\": \"Eastbound\", \"Direction (0/1)\": 0, \"# Realtime Trips\": 16, \"variable\": \"# On-Time Trips\", \"value\": 0, \"Percentage\": 0.0}, {\"Date\": \"2025-03-12T00:00:00\", \"Portfolio Organization Name\": \"City of West Hollywood\", \"Route\": \"Cityline Local-East\", \"Period\": \"All Day\", \"Direction\": \"Eastbound\", \"Direction (0/1)\": 0, \"# Realtime Trips\": 15, \"variable\": \"# On-Time Trips\", \"value\": 5, \"Percentage\": 33.33333333333333}, {\"Date\": \"2025-01-15T00:00:00\", \"Portfolio Organization Name\": \"City of West Hollywood\", \"Route\": \"Cityline Local-West\", \"Period\": \"All Day\", \"Direction\": \"Westbound\", \"Direction (0/1)\": 1, \"# Realtime Trips\": 18, \"variable\": \"# On-Time Trips\", \"value\": 0, \"Percentage\": 0.0}, {\"Date\": \"2025-02-12T00:00:00\", \"Portfolio Organization Name\": \"City of West Hollywood\", \"Route\": \"Cityline Local-West\", \"Period\": \"All Day\", \"Direction\": \"Westbound\", \"Direction (0/1)\": 1, \"# Realtime Trips\": 17, \"variable\": \"# On-Time Trips\", \"value\": 4, \"Percentage\": 23.52941176470588}, {\"Date\": \"2025-03-12T00:00:00\", \"Portfolio Organization Name\": \"City of West Hollywood\", \"Route\": \"Cityline Local-West\", \"Period\": \"All Day\", \"Direction\": \"Westbound\", \"Direction (0/1)\": 1, \"# Realtime Trips\": 17, \"variable\": \"# On-Time Trips\", \"value\": 4, \"Percentage\": 23.52941176470588}, {\"Date\": \"2023-03-15T00:00:00\", \"Portfolio Organization Name\": \"City of West Hollywood\", \"Route\": \"Cityline Local-East\", \"Period\": \"All Day\", \"Direction\": \"Eastbound\", \"Direction (0/1)\": 0, \"# Realtime Trips\": 11, \"variable\": \"# Late Trips\", \"value\": 3, \"Percentage\": 27.27272727272727}, {\"Date\": \"2023-03-15T00:00:00\", \"Portfolio Organization Name\": \"City of West Hollywood\", \"Route\": \"Cityline Local-West\", \"Period\": \"All Day\", \"Direction\": \"Westbound\", \"Direction (0/1)\": 1, \"# Realtime Trips\": 12, \"variable\": \"# Late Trips\", \"value\": 8, \"Percentage\": 66.66666666666666}, {\"Date\": \"2023-04-12T00:00:00\", \"Portfolio Organization Name\": \"City of West Hollywood\", \"Route\": \"Cityline Local-East\", \"Period\": \"All Day\", \"Direction\": \"Eastbound\", \"Direction (0/1)\": 0, \"# Realtime Trips\": 13, \"variable\": \"# Late Trips\", \"value\": 7, \"Percentage\": 53.84615384615385}, {\"Date\": \"2023-05-17T00:00:00\", \"Portfolio Organization Name\": \"City of West Hollywood\", \"Route\": \"Cityline Local-East\", \"Period\": \"All Day\", \"Direction\": \"Eastbound\", \"Direction (0/1)\": 0, \"# Realtime Trips\": 11, \"variable\": \"# Late Trips\", \"value\": 7, \"Percentage\": 63.63636363636363}, {\"Date\": \"2023-06-14T00:00:00\", \"Portfolio Organization Name\": \"City of West Hollywood\", \"Route\": \"Cityline Local-East\", \"Period\": \"All Day\", \"Direction\": \"Eastbound\", \"Direction (0/1)\": 0, \"# Realtime Trips\": 7, \"variable\": \"# Late Trips\", \"value\": 5, \"Percentage\": 71.42857142857143}, {\"Date\": \"2023-07-12T00:00:00\", \"Portfolio Organization Name\": \"City of West Hollywood\", \"Route\": \"Cityline Local-East\", \"Period\": \"All Day\", \"Direction\": \"Eastbound\", \"Direction (0/1)\": 0, \"# Realtime Trips\": 11, \"variable\": \"# Late Trips\", \"value\": 8, \"Percentage\": 72.72727272727273}, {\"Date\": \"2023-08-15T00:00:00\", \"Portfolio Organization Name\": \"City of West Hollywood\", \"Route\": \"Cityline Local-East\", \"Period\": \"All Day\", \"Direction\": \"Eastbound\", \"Direction (0/1)\": 0, \"# Realtime Trips\": 7, \"variable\": \"# Late Trips\", \"value\": 5, \"Percentage\": 71.42857142857143}, {\"Date\": \"2023-09-13T00:00:00\", \"Portfolio Organization Name\": \"City of West Hollywood\", \"Route\": \"Cityline Local-East\", \"Period\": \"All Day\", \"Direction\": \"Eastbound\", \"Direction (0/1)\": 0, \"# Realtime Trips\": 11, \"variable\": \"# Late Trips\", \"value\": 7, \"Percentage\": 63.63636363636363}, {\"Date\": \"2023-10-11T00:00:00\", \"Portfolio Organization Name\": \"City of West Hollywood\", \"Route\": \"Cityline Local-East\", \"Period\": \"All Day\", \"Direction\": \"Eastbound\", \"Direction (0/1)\": 0, \"# Realtime Trips\": 11, \"variable\": \"# Late Trips\", \"value\": 3, \"Percentage\": 27.27272727272727}, {\"Date\": \"2023-11-15T00:00:00\", \"Portfolio Organization Name\": \"City of West Hollywood\", \"Route\": \"Cityline Local-East\", \"Period\": \"All Day\", \"Direction\": \"Eastbound\", \"Direction (0/1)\": 0, \"# Realtime Trips\": 7, \"variable\": \"# Late Trips\", \"value\": 1, \"Percentage\": 14.285714285714285}, {\"Date\": \"2023-12-13T00:00:00\", \"Portfolio Organization Name\": \"City of West Hollywood\", \"Route\": \"Cityline Local-East\", \"Period\": \"All Day\", \"Direction\": \"Eastbound\", \"Direction (0/1)\": 0, \"# Realtime Trips\": 8, \"variable\": \"# Late Trips\", \"value\": 6, \"Percentage\": 75.0}, {\"Date\": \"2023-04-12T00:00:00\", \"Portfolio Organization Name\": \"City of West Hollywood\", \"Route\": \"Cityline Local-West\", \"Period\": \"All Day\", \"Direction\": \"Westbound\", \"Direction (0/1)\": 1, \"# Realtime Trips\": 14, \"variable\": \"# Late Trips\", \"value\": 6, \"Percentage\": 42.857142857142854}, {\"Date\": \"2023-05-17T00:00:00\", \"Portfolio Organization Name\": \"City of West Hollywood\", \"Route\": \"Cityline Local-West\", \"Period\": \"All Day\", \"Direction\": \"Westbound\", \"Direction (0/1)\": 1, \"# Realtime Trips\": 10, \"variable\": \"# Late Trips\", \"value\": 5, \"Percentage\": 50.0}, {\"Date\": \"2023-06-14T00:00:00\", \"Portfolio Organization Name\": \"City of West Hollywood\", \"Route\": \"Cityline Local-West\", \"Period\": \"All Day\", \"Direction\": \"Westbound\", \"Direction (0/1)\": 1, \"# Realtime Trips\": 6, \"variable\": \"# Late Trips\", \"value\": 3, \"Percentage\": 50.0}, {\"Date\": \"2023-07-12T00:00:00\", \"Portfolio Organization Name\": \"City of West Hollywood\", \"Route\": \"Cityline Local-West\", \"Period\": \"All Day\", \"Direction\": \"Westbound\", \"Direction (0/1)\": 1, \"# Realtime Trips\": 11, \"variable\": \"# Late Trips\", \"value\": 5, \"Percentage\": 45.45454545454545}, {\"Date\": \"2023-08-15T00:00:00\", \"Portfolio Organization Name\": \"City of West Hollywood\", \"Route\": \"Cityline Local-West\", \"Period\": \"All Day\", \"Direction\": \"Westbound\", \"Direction (0/1)\": 1, \"# Realtime Trips\": 5, \"variable\": \"# Late Trips\", \"value\": 2, \"Percentage\": 40.0}, {\"Date\": \"2023-09-13T00:00:00\", \"Portfolio Organization Name\": \"City of West Hollywood\", \"Route\": \"Cityline Local-West\", \"Period\": \"All Day\", \"Direction\": \"Westbound\", \"Direction (0/1)\": 1, \"# Realtime Trips\": 10, \"variable\": \"# Late Trips\", \"value\": 6, \"Percentage\": 60.0}, {\"Date\": \"2023-10-11T00:00:00\", \"Portfolio Organization Name\": \"City of West Hollywood\", \"Route\": \"Cityline Local-West\", \"Period\": \"All Day\", \"Direction\": \"Westbound\", \"Direction (0/1)\": 1, \"# Realtime Trips\": 9, \"variable\": \"# Late Trips\", \"value\": 6, \"Percentage\": 66.66666666666666}, {\"Date\": \"2023-11-15T00:00:00\", \"Portfolio Organization Name\": \"City of West Hollywood\", \"Route\": \"Cityline Local-West\", \"Period\": \"All Day\", \"Direction\": \"Westbound\", \"Direction (0/1)\": 1, \"# Realtime Trips\": 8, \"variable\": \"# Late Trips\", \"value\": 4, \"Percentage\": 50.0}, {\"Date\": \"2023-12-13T00:00:00\", \"Portfolio Organization Name\": \"City of West Hollywood\", \"Route\": \"Cityline Local-West\", \"Period\": \"All Day\", \"Direction\": \"Westbound\", \"Direction (0/1)\": 1, \"# Realtime Trips\": 8, \"variable\": \"# Late Trips\", \"value\": 4, \"Percentage\": 50.0}, {\"Date\": \"2024-07-17T00:00:00\", \"Portfolio Organization Name\": \"City of West Hollywood\", \"Route\": \"Cityline Local-East\", \"Period\": \"All Day\", \"Direction\": \"Eastbound\", \"Direction (0/1)\": 0, \"# Realtime Trips\": 23, \"variable\": \"# Late Trips\", \"value\": 5, \"Percentage\": 21.73913043478261}, {\"Date\": \"2024-08-14T00:00:00\", \"Portfolio Organization Name\": \"City of West Hollywood\", \"Route\": \"Cityline Local-East\", \"Period\": \"All Day\", \"Direction\": \"Eastbound\", \"Direction (0/1)\": 0, \"# Realtime Trips\": 22, \"variable\": \"# Late Trips\", \"value\": 8, \"Percentage\": 36.36363636363637}, {\"Date\": \"2024-09-18T00:00:00\", \"Portfolio Organization Name\": \"City of West Hollywood\", \"Route\": \"Cityline Local-East\", \"Period\": \"All Day\", \"Direction\": \"Eastbound\", \"Direction (0/1)\": 0, \"# Realtime Trips\": 18, \"variable\": \"# Late Trips\", \"value\": 11, \"Percentage\": 61.111111111111114}, {\"Date\": \"2024-10-16T00:00:00\", \"Portfolio Organization Name\": \"City of West Hollywood\", \"Route\": \"Cityline Local-East\", \"Period\": \"All Day\", \"Direction\": \"Eastbound\", \"Direction (0/1)\": 0, \"# Realtime Trips\": 21, \"variable\": \"# Late Trips\", \"value\": 14, \"Percentage\": 66.66666666666666}, {\"Date\": \"2024-11-13T00:00:00\", \"Portfolio Organization Name\": \"City of West Hollywood\", \"Route\": \"Cityline Local-East\", \"Period\": \"All Day\", \"Direction\": \"Eastbound\", \"Direction (0/1)\": 0, \"# Realtime Trips\": 16, \"variable\": \"# Late Trips\", \"value\": 8, \"Percentage\": 50.0}, {\"Date\": \"2024-12-11T00:00:00\", \"Portfolio Organization Name\": \"City of West Hollywood\", \"Route\": \"Cityline Local-East\", \"Period\": \"All Day\", \"Direction\": \"Eastbound\", \"Direction (0/1)\": 0, \"# Realtime Trips\": 12, \"variable\": \"# Late Trips\", \"value\": 9, \"Percentage\": 75.0}, {\"Date\": \"2024-07-17T00:00:00\", \"Portfolio Organization Name\": \"City of West Hollywood\", \"Route\": \"Cityline Local-West\", \"Period\": \"All Day\", \"Direction\": \"Westbound\", \"Direction (0/1)\": 1, \"# Realtime Trips\": 26, \"variable\": \"# Late Trips\", \"value\": 5, \"Percentage\": 19.230769230769234}, {\"Date\": \"2024-08-14T00:00:00\", \"Portfolio Organization Name\": \"City of West Hollywood\", \"Route\": \"Cityline Local-West\", \"Period\": \"All Day\", \"Direction\": \"Westbound\", \"Direction (0/1)\": 1, \"# Realtime Trips\": 29, \"variable\": \"# Late Trips\", \"value\": 13, \"Percentage\": 44.827586206896555}, {\"Date\": \"2024-09-18T00:00:00\", \"Portfolio Organization Name\": \"City of West Hollywood\", \"Route\": \"Cityline Local-West\", \"Period\": \"All Day\", \"Direction\": \"Westbound\", \"Direction (0/1)\": 1, \"# Realtime Trips\": 23, \"variable\": \"# Late Trips\", \"value\": 15, \"Percentage\": 65.21739130434783}, {\"Date\": \"2024-10-16T00:00:00\", \"Portfolio Organization Name\": \"City of West Hollywood\", \"Route\": \"Cityline Local-West\", \"Period\": \"All Day\", \"Direction\": \"Westbound\", \"Direction (0/1)\": 1, \"# Realtime Trips\": 20, \"variable\": \"# Late Trips\", \"value\": 15, \"Percentage\": 75.0}, {\"Date\": \"2024-11-13T00:00:00\", \"Portfolio Organization Name\": \"City of West Hollywood\", \"Route\": \"Cityline Local-West\", \"Period\": \"All Day\", \"Direction\": \"Westbound\", \"Direction (0/1)\": 1, \"# Realtime Trips\": 16, \"variable\": \"# Late Trips\", \"value\": 9, \"Percentage\": 56.25}, {\"Date\": \"2024-12-11T00:00:00\", \"Portfolio Organization Name\": \"City of West Hollywood\", \"Route\": \"Cityline Local-West\", \"Period\": \"All Day\", \"Direction\": \"Westbound\", \"Direction (0/1)\": 1, \"# Realtime Trips\": 17, \"variable\": \"# Late Trips\", \"value\": 9, \"Percentage\": 52.94117647058824}, {\"Date\": \"2025-01-15T00:00:00\", \"Portfolio Organization Name\": \"City of West Hollywood\", \"Route\": \"Cityline Local-East\", \"Period\": \"All Day\", \"Direction\": \"Eastbound\", \"Direction (0/1)\": 0, \"# Realtime Trips\": 9, \"variable\": \"# Late Trips\", \"value\": 3, \"Percentage\": 33.33333333333333}, {\"Date\": \"2025-02-12T00:00:00\", \"Portfolio Organization Name\": \"City of West Hollywood\", \"Route\": \"Cityline Local-East\", \"Period\": \"All Day\", \"Direction\": \"Eastbound\", \"Direction (0/1)\": 0, \"# Realtime Trips\": 16, \"variable\": \"# Late Trips\", \"value\": 16, \"Percentage\": 100.0}, {\"Date\": \"2025-03-12T00:00:00\", \"Portfolio Organization Name\": \"City of West Hollywood\", \"Route\": \"Cityline Local-East\", \"Period\": \"All Day\", \"Direction\": \"Eastbound\", \"Direction (0/1)\": 0, \"# Realtime Trips\": 15, \"variable\": \"# Late Trips\", \"value\": 8, \"Percentage\": 53.333333333333336}, {\"Date\": \"2025-01-15T00:00:00\", \"Portfolio Organization Name\": \"City of West Hollywood\", \"Route\": \"Cityline Local-West\", \"Period\": \"All Day\", \"Direction\": \"Westbound\", \"Direction (0/1)\": 1, \"# Realtime Trips\": 18, \"variable\": \"# Late Trips\", \"value\": 18, \"Percentage\": 100.0}, {\"Date\": \"2025-02-12T00:00:00\", \"Portfolio Organization Name\": \"City of West Hollywood\", \"Route\": \"Cityline Local-West\", \"Period\": \"All Day\", \"Direction\": \"Westbound\", \"Direction (0/1)\": 1, \"# Realtime Trips\": 17, \"variable\": \"# Late Trips\", \"value\": 9, \"Percentage\": 52.94117647058824}, {\"Date\": \"2025-03-12T00:00:00\", \"Portfolio Organization Name\": \"City of West Hollywood\", \"Route\": \"Cityline Local-West\", \"Period\": \"All Day\", \"Direction\": \"Westbound\", \"Direction (0/1)\": 1, \"# Realtime Trips\": 17, \"variable\": \"# Late Trips\", \"value\": 13, \"Percentage\": 76.47058823529412}]}}, {\"mode\": \"vega-lite\"});\n",
       "</script>"
      ],
      "text/plain": [
       "alt.FacetChart(...)"
      ]
     },
     "execution_count": 18,
     "metadata": {},
     "output_type": "execute_result"
    }
   ],
   "source": [
    "timeliness_chart(df[df.Period == \"All Day\"])"
   ]
  },
  {
   "cell_type": "markdown",
   "id": "0cda8de1-d03c-4641-bc28-d22596c6769d",
   "metadata": {},
   "source": [
    "## Total Scheduled Trips"
   ]
  },
  {
   "cell_type": "code",
   "execution_count": null,
   "id": "5abfb11a-2963-420f-b3cf-6c937a12d960",
   "metadata": {
    "tags": []
   },
   "outputs": [],
   "source": [
    "def total_scheduled_trips_chart(df: pd.DataFrame) -> alt.Chart:\n",
    "    specific_chart_dict = readable_dict.n_scheduled_graph\n",
    "    \n",
    "    chart = _report_visuals_utils.bar_chart(\n",
    "        x_col = \"Date:T\", \n",
    "        y_col = \"# Scheduled Trips\",\n",
    "        color_col = \"Period:N\",\n",
    "        color_scheme = [*specific_chart_dict.colors], \n",
    "        tooltip_cols = [*specific_chart_dict.tooltip], \n",
    "        date_format=\"%b %Y\"\n",
    "    )\n",
    "    \n",
    "    chart = alt.layer(chart, data = df)\n",
    "    \n",
    "    # write this way so that the df is inherited by .facet\n",
    "    chart = _report_visuals_utils.configure_chart(\n",
    "        chart,\n",
    "        width = 400, height = 250, \n",
    "        title = specific_chart_dict.title, \n",
    "        subtitle = specific_chart_dict.subtitle\n",
    "    )    \n",
    "    return chart"
   ]
  },
  {
   "cell_type": "code",
   "execution_count": null,
   "id": "af4879ca-b4a0-420e-ba84-4d80463d3155",
   "metadata": {
    "tags": []
   },
   "outputs": [],
   "source": [
    "total_scheduled_trips_chart(df[df.Period !=\"All Day\"])"
   ]
  },
  {
   "cell_type": "markdown",
   "id": "8293e523-f008-4a8d-82f1-45b65774edb9",
   "metadata": {},
   "source": [
    "## Frequency"
   ]
  },
  {
   "cell_type": "code",
   "execution_count": null,
   "id": "043a5287-e91d-4155-9dda-f0a0054f3484",
   "metadata": {
    "tags": []
   },
   "outputs": [],
   "source": [
    "def headway_chart(df: pd.DataFrame) -> alt.Chart:\n",
    "       \n",
    "    specific_chart_dict = readable_dict.frequency_graph\n",
    "    \n",
    "    chart = _report_visuals_utils.bar_chart(\n",
    "        x_col = \"Date:T\", \n",
    "        y_col = \"Headway (Minutes)\",\n",
    "        color_col = \"Headway (Minutes):N\",\n",
    "        color_scheme = [*specific_chart_dict.colors], \n",
    "        tooltip_cols = [*specific_chart_dict.tooltip], \n",
    "        date_format=\"%b %Y\"\n",
    "    )\n",
    "    \n",
    "    chart = alt.layer(chart, data = df)\n",
    "    \n",
    "    chart = chart.facet(\n",
    "        column=alt.Column(\n",
    "            \"Direction:N\",\n",
    "        )\n",
    "    ).properties(\n",
    "        title={\n",
    "            \"text\": specific_chart_dict.title,\n",
    "            \"subtitle\": specific_chart_dict.subtitle,\n",
    "        }\n",
    "    )\n",
    "    return chart"
   ]
  },
  {
   "cell_type": "code",
   "execution_count": null,
   "id": "af12095d-74ff-43e3-bcac-b41e0ec2fa05",
   "metadata": {
    "tags": []
   },
   "outputs": [],
   "source": [
    "headway_chart(df[(df['Period'] == \"Peak\")])"
   ]
  },
  {
   "cell_type": "markdown",
   "id": "220dea30-db33-46d4-a9e8-09d65a435f27",
   "metadata": {},
   "source": [
    "## Speed MPH "
   ]
  },
  {
   "cell_type": "code",
   "execution_count": null,
   "id": "be996569-a2b0-46a8-a2f0-42d2ac238791",
   "metadata": {
    "tags": []
   },
   "outputs": [],
   "source": [
    "def speed_chart(df) -> alt.Chart:\n",
    "    specific_chart_dict = readable_dict.speed_graph\n",
    "\n",
    "    chart = _report_visuals_utils.line_chart(\n",
    "        df=df,\n",
    "        x_col=\"Date\",\n",
    "        y_col=\"Speed (MPH)\",\n",
    "        color_col=\"Period\",\n",
    "        color_scheme = [*specific_chart_dict.colors],\n",
    "        tooltip_cols = [*specific_chart_dict.tooltip],\n",
    "    ).properties(width=200, height=250)\n",
    "\n",
    "    chart = chart.facet(\n",
    "        column=alt.Column(\n",
    "            \"Direction:N\",\n",
    "        )\n",
    "    ).properties(\n",
    "        title={\n",
    "            \"text\": specific_chart_dict.title,\n",
    "            \"subtitle\": specific_chart_dict.subtitle,\n",
    "        }\n",
    "    )\n",
    "    return chart"
   ]
  },
  {
   "cell_type": "code",
   "execution_count": null,
   "id": "9903357f-5420-4d7d-ad3a-c6173d266801",
   "metadata": {
    "tags": []
   },
   "outputs": [],
   "source": [
    "speed_chart(df)"
   ]
  },
  {
   "cell_type": "markdown",
   "id": "77022115-9e34-4d90-ab20-5c31cd26abcb",
   "metadata": {},
   "source": [
    "## % of Scheduled Trip with 1+/2+ VPs"
   ]
  },
  {
   "cell_type": "code",
   "execution_count": null,
   "id": "008a8dd1-9594-4e4b-86eb-2f96460a54f7",
   "metadata": {},
   "outputs": [],
   "source": []
  }
 ],
 "metadata": {
  "kernelspec": {
   "display_name": "Python 3 (ipykernel)",
   "language": "python",
   "name": "python3"
  },
  "language_info": {
   "codemirror_mode": {
    "name": "ipython",
    "version": 3
   },
   "file_extension": ".py",
   "mimetype": "text/x-python",
   "name": "python",
   "nbconvert_exporter": "python",
   "pygments_lexer": "ipython3",
   "version": "3.11.10"
  }
 },
 "nbformat": 4,
 "nbformat_minor": 5
}
