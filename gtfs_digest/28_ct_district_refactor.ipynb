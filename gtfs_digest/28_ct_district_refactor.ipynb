{
 "cells": [
  {
   "cell_type": "markdown",
   "id": "c62cda97-9013-469e-a102-88edf04e45ed",
   "metadata": {},
   "source": [
    "# Refactoring the CT District Portfolio"
   ]
  },
  {
   "cell_type": "code",
   "execution_count": 1,
   "id": "cb221c97-6505-4d62-b09d-b9ace3470273",
   "metadata": {},
   "outputs": [],
   "source": [
    "import altair as alt\n",
    "import calitp_data_analysis.magics\n",
    "import geopandas as gpd\n",
    "import google.auth\n",
    "import merge_data\n",
    "import pandas as pd\n",
    "from IPython.display import HTML, Image, Markdown, display, display_html\n",
    "from omegaconf import OmegaConf\n",
    "from shared_utils import portfolio_utils, publish_utils, rt_dates\n",
    "from update_vars import GTFS_DATA_DICT, RT_SCHED_GCS, SCHED_GCS, SEGMENT_GCS\n",
    "\n",
    "readable_dict = OmegaConf.load(\"readable2.yml\")\n",
    "credentials, project = google.auth.default()\n",
    "\n",
    "import _ct_district_data_prep\n",
    "import _ct_district_visuals"
   ]
  },
  {
   "cell_type": "code",
   "execution_count": 2,
   "id": "6dac1f65-ae5e-481b-8ec3-0488fc268d06",
   "metadata": {
    "tags": []
   },
   "outputs": [],
   "source": [
    "pd.options.display.max_columns = 100\n",
    "pd.options.display.float_format = \"{:.2f}\".format\n",
    "pd.set_option(\"display.max_rows\", None)\n",
    "pd.set_option(\"display.max_colwidth\", None)\n",
    "\n",
    "\n",
    "def formatted(number):\n",
    "    return \"{:,}\".format(number)"
   ]
  },
  {
   "cell_type": "code",
   "execution_count": 3,
   "id": "5f14ddcb-997c-46d0-a90e-28d4556b6514",
   "metadata": {
    "tags": []
   },
   "outputs": [],
   "source": [
    "district = \"02 - Redding\""
   ]
  },
  {
   "cell_type": "code",
   "execution_count": 4,
   "id": "f775f5b5-aea2-4bc4-a688-f86097e39e51",
   "metadata": {
    "tags": []
   },
   "outputs": [
    {
     "data": {
      "text/plain": [
       "['2025-04-14',\n",
       " '2025-04-15',\n",
       " '2025-04-17',\n",
       " '2025-04-18',\n",
       " '2025-04-19',\n",
       " '2025-04-20']"
      ]
     },
     "execution_count": 4,
     "metadata": {},
     "output_type": "execute_result"
    }
   ],
   "source": [
    "rt_dates.get_week(\"apr2025\", exclude_wed=True)  "
   ]
  },
  {
   "cell_type": "code",
   "execution_count": 5,
   "id": "21816705-6c68-4749-879d-19ee7f893a63",
   "metadata": {
    "tags": []
   },
   "outputs": [
    {
     "data": {
      "text/plain": [
       "['2024-10-14',\n",
       " '2024-10-15',\n",
       " '2024-10-17',\n",
       " '2024-10-18',\n",
       " '2024-10-19',\n",
       " '2024-10-20']"
      ]
     },
     "execution_count": 5,
     "metadata": {},
     "output_type": "execute_result"
    }
   ],
   "source": [
    "rt_dates.get_week(\"oct2024\", exclude_wed=True)  "
   ]
  },
  {
   "cell_type": "markdown",
   "id": "32f55320-6b83-4918-82d3-3b4fe3e2d716",
   "metadata": {},
   "source": [
    "## What's the difference between Operator Profiles Report vs. Operator Profiles"
   ]
  },
  {
   "cell_type": "code",
   "execution_count": 6,
   "id": "846a455c-2822-4c6b-a314-dedc80ee0722",
   "metadata": {
    "tags": []
   },
   "outputs": [],
   "source": [
    "OPERATOR_PROFILE = GTFS_DATA_DICT.digest_tables.operator_profiles"
   ]
  },
  {
   "cell_type": "code",
   "execution_count": 7,
   "id": "2606af0e-5d7a-42b9-a028-52f4e4e1e688",
   "metadata": {
    "tags": []
   },
   "outputs": [],
   "source": [
    "operator_df = pd.read_parquet(\n",
    "    f\"{RT_SCHED_GCS}{OPERATOR_PROFILE}.parquet\",\n",
    ")\n",
    "\n",
    "operator_df2 = operator_df.loc[\n",
    "    (operator_df.caltrans_district == district)\n",
    "    & (operator_df.service_date == \"2025-02-12T00:00:00.000000000\")\n",
    "]"
   ]
  },
  {
   "cell_type": "code",
   "execution_count": 8,
   "id": "dfb8c6b9-f99a-4d6c-bd9d-5fd4d89a5e20",
   "metadata": {
    "tags": []
   },
   "outputs": [
    {
     "data": {
      "text/plain": [
       "array(['2025-02-12T00:00:00.000000000'], dtype='datetime64[ns]')"
      ]
     },
     "execution_count": 8,
     "metadata": {},
     "output_type": "execute_result"
    }
   ],
   "source": [
    "operator_df2.service_date.unique()"
   ]
  },
  {
   "cell_type": "code",
   "execution_count": 9,
   "id": "019f88b3-1065-4b43-b785-3a178237ed83",
   "metadata": {
    "scrolled": true,
    "tags": []
   },
   "outputs": [
    {
     "data": {
      "text/plain": [
       "(12, 31)"
      ]
     },
     "execution_count": 9,
     "metadata": {},
     "output_type": "execute_result"
    }
   ],
   "source": [
    "operator_df2.shape"
   ]
  },
  {
   "cell_type": "code",
   "execution_count": 10,
   "id": "a8e97d1b-1bf7-4980-aaf7-4d120673eb8c",
   "metadata": {
    "tags": []
   },
   "outputs": [
    {
     "data": {
      "text/plain": [
       "Index(['schedule_gtfs_dataset_key', 'operator_n_routes', 'operator_n_trips',\n",
       "       'operator_n_shapes', 'operator_n_stops', 'operator_n_arrivals',\n",
       "       'operator_route_length_miles', 'operator_arrivals_per_stop',\n",
       "       'n_downtown_local_routes', 'n_local_routes', 'n_coverage_routes',\n",
       "       'n_rapid_routes', 'n_express_routes', 'n_rail_routes', 'n_ferry_routes',\n",
       "       'name', 'organization_source_record_id', 'organization_name',\n",
       "       'service_date', 'vp_per_min_agency', 'spatial_accuracy_agency',\n",
       "       'caltrans_district', 'service_area_sq_miles', 'hq_city',\n",
       "       'service_area_pop', 'organization_type', 'primary_uza_name',\n",
       "       'reporter_type', 'portfolio_organization_name', 'counties_served',\n",
       "       'sched_rt_category'],\n",
       "      dtype='object')"
      ]
     },
     "execution_count": 10,
     "metadata": {},
     "output_type": "execute_result"
    }
   ],
   "source": [
    "operator_df2.columns"
   ]
  },
  {
   "cell_type": "code",
   "execution_count": 11,
   "id": "c1093eb0-5056-4ed2-b889-9c92f543df7c",
   "metadata": {
    "tags": []
   },
   "outputs": [
    {
     "data": {
      "text/html": [
       "<div>\n",
       "<style scoped>\n",
       "    .dataframe tbody tr th:only-of-type {\n",
       "        vertical-align: middle;\n",
       "    }\n",
       "\n",
       "    .dataframe tbody tr th {\n",
       "        vertical-align: top;\n",
       "    }\n",
       "\n",
       "    .dataframe thead th {\n",
       "        text-align: right;\n",
       "    }\n",
       "</style>\n",
       "<table border=\"1\" class=\"dataframe\">\n",
       "  <thead>\n",
       "    <tr style=\"text-align: right;\">\n",
       "      <th></th>\n",
       "      <th>schedule_gtfs_dataset_key</th>\n",
       "      <th>name</th>\n",
       "      <th>organization_name</th>\n",
       "      <th>portfolio_organization_name</th>\n",
       "      <th>operator_n_routes</th>\n",
       "      <th>operator_n_trips</th>\n",
       "      <th>operator_n_shapes</th>\n",
       "      <th>operator_n_stops</th>\n",
       "      <th>hq_city</th>\n",
       "      <th>service_area_pop</th>\n",
       "      <th>organization_type</th>\n",
       "      <th>primary_uza_name</th>\n",
       "    </tr>\n",
       "  </thead>\n",
       "  <tbody>\n",
       "    <tr>\n",
       "      <th>368</th>\n",
       "      <td>0d65d96d07115e28313f207d5ed0d3b2</td>\n",
       "      <td>Sage Stage Schedule</td>\n",
       "      <td>Modoc Transportation Agency</td>\n",
       "      <td>Modoc Transportation Agency</td>\n",
       "      <td>1</td>\n",
       "      <td>2</td>\n",
       "      <td>2</td>\n",
       "      <td>12</td>\n",
       "      <td>Alturas</td>\n",
       "      <td>&lt;NA&gt;</td>\n",
       "      <td>City, County or Local Government Unit or Department of Transportation</td>\n",
       "      <td>None</td>\n",
       "    </tr>\n",
       "    <tr>\n",
       "      <th>2248</th>\n",
       "      <td>330fd5b796496eddf2ce1d1b9828961d</td>\n",
       "      <td>Siskiyou Schedule</td>\n",
       "      <td>Siskiyou County</td>\n",
       "      <td>Siskiyou County</td>\n",
       "      <td>5</td>\n",
       "      <td>37</td>\n",
       "      <td>29</td>\n",
       "      <td>93</td>\n",
       "      <td>Yreka</td>\n",
       "      <td>&lt;NA&gt;</td>\n",
       "      <td>City, County or Local Government Unit or Department of Transportation</td>\n",
       "      <td>None</td>\n",
       "    </tr>\n",
       "    <tr>\n",
       "      <th>3384</th>\n",
       "      <td>6a74a120fe2da801e778ac523b354e2b</td>\n",
       "      <td>Trinity Schedule</td>\n",
       "      <td>Trinity County</td>\n",
       "      <td>Trinity County</td>\n",
       "      <td>1</td>\n",
       "      <td>2</td>\n",
       "      <td>2</td>\n",
       "      <td>35</td>\n",
       "      <td>Weaverville</td>\n",
       "      <td>&lt;NA&gt;</td>\n",
       "      <td>City, County or Local Government Unit or Department of Transportation</td>\n",
       "      <td>None</td>\n",
       "    </tr>\n",
       "    <tr>\n",
       "      <th>3759</th>\n",
       "      <td>73c79ccbfd681df300489226a158b9db</td>\n",
       "      <td>Tehama Schedule</td>\n",
       "      <td>Tehama County</td>\n",
       "      <td>Tehama County</td>\n",
       "      <td>9</td>\n",
       "      <td>71</td>\n",
       "      <td>10</td>\n",
       "      <td>72</td>\n",
       "      <td>Gerber</td>\n",
       "      <td>&lt;NA&gt;</td>\n",
       "      <td>City, County or Local Government Unit or Department of Transportation</td>\n",
       "      <td>None</td>\n",
       "    </tr>\n",
       "    <tr>\n",
       "      <th>3760</th>\n",
       "      <td>73c79ccbfd681df300489226a158b9db</td>\n",
       "      <td>Tehama Schedule</td>\n",
       "      <td>Tehama County</td>\n",
       "      <td>Tehama County</td>\n",
       "      <td>9</td>\n",
       "      <td>71</td>\n",
       "      <td>10</td>\n",
       "      <td>72</td>\n",
       "      <td>None</td>\n",
       "      <td>&lt;NA&gt;</td>\n",
       "      <td>None</td>\n",
       "      <td>None</td>\n",
       "    </tr>\n",
       "    <tr>\n",
       "      <th>3761</th>\n",
       "      <td>73c79ccbfd681df300489226a158b9db</td>\n",
       "      <td>Tehama Schedule</td>\n",
       "      <td>Susanville Indian Rancheria</td>\n",
       "      <td>Tehama County</td>\n",
       "      <td>9</td>\n",
       "      <td>71</td>\n",
       "      <td>10</td>\n",
       "      <td>72</td>\n",
       "      <td>Gerber</td>\n",
       "      <td>&lt;NA&gt;</td>\n",
       "      <td>City, County or Local Government Unit or Department of Transportation</td>\n",
       "      <td>None</td>\n",
       "    </tr>\n",
       "    <tr>\n",
       "      <th>3762</th>\n",
       "      <td>73c79ccbfd681df300489226a158b9db</td>\n",
       "      <td>Tehama Schedule</td>\n",
       "      <td>Susanville Indian Rancheria</td>\n",
       "      <td>Tehama County</td>\n",
       "      <td>9</td>\n",
       "      <td>71</td>\n",
       "      <td>10</td>\n",
       "      <td>72</td>\n",
       "      <td>None</td>\n",
       "      <td>&lt;NA&gt;</td>\n",
       "      <td>None</td>\n",
       "      <td>None</td>\n",
       "    </tr>\n",
       "    <tr>\n",
       "      <th>4394</th>\n",
       "      <td>91af7482fde58c6261f386b732404e11</td>\n",
       "      <td>Redding Schedule</td>\n",
       "      <td>Shasta County</td>\n",
       "      <td>Redding Area Bus Authority</td>\n",
       "      <td>12</td>\n",
       "      <td>200</td>\n",
       "      <td>27</td>\n",
       "      <td>343</td>\n",
       "      <td>Redding</td>\n",
       "      <td>&lt;NA&gt;</td>\n",
       "      <td>City, County or Local Government Unit or Department of Transportation</td>\n",
       "      <td>Redding, CA</td>\n",
       "    </tr>\n",
       "    <tr>\n",
       "      <th>4395</th>\n",
       "      <td>91af7482fde58c6261f386b732404e11</td>\n",
       "      <td>Redding Schedule</td>\n",
       "      <td>Shasta County</td>\n",
       "      <td>Redding Area Bus Authority</td>\n",
       "      <td>12</td>\n",
       "      <td>200</td>\n",
       "      <td>27</td>\n",
       "      <td>343</td>\n",
       "      <td>Redding</td>\n",
       "      <td>126551</td>\n",
       "      <td>Independent Public Agency or Authority of Transit Service</td>\n",
       "      <td>Redding, CA</td>\n",
       "    </tr>\n",
       "    <tr>\n",
       "      <th>4396</th>\n",
       "      <td>91af7482fde58c6261f386b732404e11</td>\n",
       "      <td>Redding Schedule</td>\n",
       "      <td>Redding Area Bus Authority</td>\n",
       "      <td>Redding Area Bus Authority</td>\n",
       "      <td>12</td>\n",
       "      <td>200</td>\n",
       "      <td>27</td>\n",
       "      <td>343</td>\n",
       "      <td>Redding</td>\n",
       "      <td>&lt;NA&gt;</td>\n",
       "      <td>City, County or Local Government Unit or Department of Transportation</td>\n",
       "      <td>Redding, CA</td>\n",
       "    </tr>\n",
       "    <tr>\n",
       "      <th>4397</th>\n",
       "      <td>91af7482fde58c6261f386b732404e11</td>\n",
       "      <td>Redding Schedule</td>\n",
       "      <td>Redding Area Bus Authority</td>\n",
       "      <td>Redding Area Bus Authority</td>\n",
       "      <td>12</td>\n",
       "      <td>200</td>\n",
       "      <td>27</td>\n",
       "      <td>343</td>\n",
       "      <td>Redding</td>\n",
       "      <td>126551</td>\n",
       "      <td>Independent Public Agency or Authority of Transit Service</td>\n",
       "      <td>Redding, CA</td>\n",
       "    </tr>\n",
       "    <tr>\n",
       "      <th>6047</th>\n",
       "      <td>e524db270831632bdcf71df1d7e74d25</td>\n",
       "      <td>Lassen Schedule</td>\n",
       "      <td>Lassen Transit Service Agency</td>\n",
       "      <td>Lassen Transit Service Agency</td>\n",
       "      <td>4</td>\n",
       "      <td>33</td>\n",
       "      <td>12</td>\n",
       "      <td>96</td>\n",
       "      <td>Susanville</td>\n",
       "      <td>&lt;NA&gt;</td>\n",
       "      <td>City, County or Local Government Unit or Department of Transportation</td>\n",
       "      <td>None</td>\n",
       "    </tr>\n",
       "  </tbody>\n",
       "</table>\n",
       "</div>"
      ],
      "text/plain": [
       "             schedule_gtfs_dataset_key                 name  \\\n",
       "368   0d65d96d07115e28313f207d5ed0d3b2  Sage Stage Schedule   \n",
       "2248  330fd5b796496eddf2ce1d1b9828961d    Siskiyou Schedule   \n",
       "3384  6a74a120fe2da801e778ac523b354e2b     Trinity Schedule   \n",
       "3759  73c79ccbfd681df300489226a158b9db      Tehama Schedule   \n",
       "3760  73c79ccbfd681df300489226a158b9db      Tehama Schedule   \n",
       "3761  73c79ccbfd681df300489226a158b9db      Tehama Schedule   \n",
       "3762  73c79ccbfd681df300489226a158b9db      Tehama Schedule   \n",
       "4394  91af7482fde58c6261f386b732404e11     Redding Schedule   \n",
       "4395  91af7482fde58c6261f386b732404e11     Redding Schedule   \n",
       "4396  91af7482fde58c6261f386b732404e11     Redding Schedule   \n",
       "4397  91af7482fde58c6261f386b732404e11     Redding Schedule   \n",
       "6047  e524db270831632bdcf71df1d7e74d25      Lassen Schedule   \n",
       "\n",
       "                  organization_name    portfolio_organization_name  \\\n",
       "368     Modoc Transportation Agency    Modoc Transportation Agency   \n",
       "2248                Siskiyou County                Siskiyou County   \n",
       "3384                 Trinity County                 Trinity County   \n",
       "3759                  Tehama County                  Tehama County   \n",
       "3760                  Tehama County                  Tehama County   \n",
       "3761    Susanville Indian Rancheria                  Tehama County   \n",
       "3762    Susanville Indian Rancheria                  Tehama County   \n",
       "4394                  Shasta County     Redding Area Bus Authority   \n",
       "4395                  Shasta County     Redding Area Bus Authority   \n",
       "4396     Redding Area Bus Authority     Redding Area Bus Authority   \n",
       "4397     Redding Area Bus Authority     Redding Area Bus Authority   \n",
       "6047  Lassen Transit Service Agency  Lassen Transit Service Agency   \n",
       "\n",
       "      operator_n_routes  operator_n_trips  operator_n_shapes  \\\n",
       "368                   1                 2                  2   \n",
       "2248                  5                37                 29   \n",
       "3384                  1                 2                  2   \n",
       "3759                  9                71                 10   \n",
       "3760                  9                71                 10   \n",
       "3761                  9                71                 10   \n",
       "3762                  9                71                 10   \n",
       "4394                 12               200                 27   \n",
       "4395                 12               200                 27   \n",
       "4396                 12               200                 27   \n",
       "4397                 12               200                 27   \n",
       "6047                  4                33                 12   \n",
       "\n",
       "      operator_n_stops      hq_city  service_area_pop  \\\n",
       "368                 12      Alturas              <NA>   \n",
       "2248                93        Yreka              <NA>   \n",
       "3384                35  Weaverville              <NA>   \n",
       "3759                72       Gerber              <NA>   \n",
       "3760                72         None              <NA>   \n",
       "3761                72       Gerber              <NA>   \n",
       "3762                72         None              <NA>   \n",
       "4394               343      Redding              <NA>   \n",
       "4395               343      Redding            126551   \n",
       "4396               343      Redding              <NA>   \n",
       "4397               343      Redding            126551   \n",
       "6047                96   Susanville              <NA>   \n",
       "\n",
       "                                                          organization_type  \\\n",
       "368   City, County or Local Government Unit or Department of Transportation   \n",
       "2248  City, County or Local Government Unit or Department of Transportation   \n",
       "3384  City, County or Local Government Unit or Department of Transportation   \n",
       "3759  City, County or Local Government Unit or Department of Transportation   \n",
       "3760                                                                   None   \n",
       "3761  City, County or Local Government Unit or Department of Transportation   \n",
       "3762                                                                   None   \n",
       "4394  City, County or Local Government Unit or Department of Transportation   \n",
       "4395              Independent Public Agency or Authority of Transit Service   \n",
       "4396  City, County or Local Government Unit or Department of Transportation   \n",
       "4397              Independent Public Agency or Authority of Transit Service   \n",
       "6047  City, County or Local Government Unit or Department of Transportation   \n",
       "\n",
       "     primary_uza_name  \n",
       "368              None  \n",
       "2248             None  \n",
       "3384             None  \n",
       "3759             None  \n",
       "3760             None  \n",
       "3761             None  \n",
       "3762             None  \n",
       "4394      Redding, CA  \n",
       "4395      Redding, CA  \n",
       "4396      Redding, CA  \n",
       "4397      Redding, CA  \n",
       "6047             None  "
      ]
     },
     "execution_count": 11,
     "metadata": {},
     "output_type": "execute_result"
    }
   ],
   "source": [
    "operator_df2[\n",
    "    [\n",
    "        \"schedule_gtfs_dataset_key\",\n",
    "        \"name\",\n",
    "        \"organization_name\",\n",
    "        \"portfolio_organization_name\",\n",
    "        \"operator_n_routes\",\n",
    "        \"operator_n_trips\",\n",
    "        \"operator_n_shapes\",\n",
    "        \"operator_n_stops\",\n",
    "        \"hq_city\",\n",
    "        \"service_area_pop\",\n",
    "        \"organization_type\",\n",
    "        \"primary_uza_name\",\n",
    "    ]\n",
    "]"
   ]
  },
  {
   "cell_type": "code",
   "execution_count": 12,
   "id": "29972e3b-94ca-45df-be6f-806c41e081a5",
   "metadata": {
    "tags": []
   },
   "outputs": [],
   "source": [
    "OPERATOR_PROFILE_REPORT = GTFS_DATA_DICT.digest_tables.operator_profiles_report"
   ]
  },
  {
   "cell_type": "code",
   "execution_count": 13,
   "id": "0674b9cd-251f-42bf-88f4-7529d2b0a397",
   "metadata": {
    "tags": []
   },
   "outputs": [],
   "source": [
    "operator_df_report = pd.read_parquet(\n",
    "    f\"{RT_SCHED_GCS}{OPERATOR_PROFILE_REPORT}.parquet\",\n",
    ")\n",
    "\n",
    "operator_df2_report = operator_df_report.loc[\n",
    "    (operator_df_report.caltrans_district == district)\n",
    "]"
   ]
  },
  {
   "cell_type": "code",
   "execution_count": 14,
   "id": "04ae69bf-afd5-445e-b6e6-8ac1a05de22c",
   "metadata": {
    "tags": []
   },
   "outputs": [
    {
     "data": {
      "text/plain": [
       "Index(['portfolio_organization_name', 'service_date', 'caltrans_district',\n",
       "       'operator_n_routes', 'operator_n_trips', 'operator_n_shapes',\n",
       "       'operator_n_stops', 'operator_n_arrivals',\n",
       "       'operator_route_length_miles', 'n_downtown_local_routes',\n",
       "       'n_local_routes', 'n_coverage_routes', 'n_rapid_routes',\n",
       "       'n_express_routes', 'n_rail_routes', 'n_ferry_routes',\n",
       "       'vp_per_min_agency', 'spatial_accuracy_agency', 'n_feeds',\n",
       "       'operator_feeds', 'counties_served', 'service_area_pop',\n",
       "       'service_area_sq_miles', 'hq_city', 'reporter_type',\n",
       "       'primary_uza_name'],\n",
       "      dtype='object')"
      ]
     },
     "execution_count": 14,
     "metadata": {},
     "output_type": "execute_result"
    }
   ],
   "source": [
    "operator_df2_report.columns"
   ]
  },
  {
   "cell_type": "code",
   "execution_count": 15,
   "id": "07a315d4-2e78-4c57-b31a-6b2ff5a93a59",
   "metadata": {
    "tags": []
   },
   "outputs": [
    {
     "data": {
      "text/plain": [
       "(1, 26)"
      ]
     },
     "execution_count": 15,
     "metadata": {},
     "output_type": "execute_result"
    }
   ],
   "source": [
    "operator_df2_report.shape"
   ]
  },
  {
   "cell_type": "code",
   "execution_count": 16,
   "id": "8395f805-cd0b-4c8e-9dec-cceadb690d8c",
   "metadata": {
    "tags": []
   },
   "outputs": [
    {
     "data": {
      "text/html": [
       "<div>\n",
       "<style scoped>\n",
       "    .dataframe tbody tr th:only-of-type {\n",
       "        vertical-align: middle;\n",
       "    }\n",
       "\n",
       "    .dataframe tbody tr th {\n",
       "        vertical-align: top;\n",
       "    }\n",
       "\n",
       "    .dataframe thead th {\n",
       "        text-align: right;\n",
       "    }\n",
       "</style>\n",
       "<table border=\"1\" class=\"dataframe\">\n",
       "  <thead>\n",
       "    <tr style=\"text-align: right;\">\n",
       "      <th></th>\n",
       "      <th>80</th>\n",
       "    </tr>\n",
       "  </thead>\n",
       "  <tbody>\n",
       "    <tr>\n",
       "      <th>portfolio_organization_name</th>\n",
       "      <td>Redding Area Bus Authority</td>\n",
       "    </tr>\n",
       "    <tr>\n",
       "      <th>service_date</th>\n",
       "      <td>2025-06-11 00:00:00</td>\n",
       "    </tr>\n",
       "    <tr>\n",
       "      <th>caltrans_district</th>\n",
       "      <td>02 - Redding</td>\n",
       "    </tr>\n",
       "    <tr>\n",
       "      <th>operator_n_routes</th>\n",
       "      <td>12</td>\n",
       "    </tr>\n",
       "    <tr>\n",
       "      <th>operator_n_trips</th>\n",
       "      <td>198</td>\n",
       "    </tr>\n",
       "    <tr>\n",
       "      <th>operator_n_shapes</th>\n",
       "      <td>27</td>\n",
       "    </tr>\n",
       "    <tr>\n",
       "      <th>operator_n_stops</th>\n",
       "      <td>343</td>\n",
       "    </tr>\n",
       "    <tr>\n",
       "      <th>operator_n_arrivals</th>\n",
       "      <td>5123</td>\n",
       "    </tr>\n",
       "    <tr>\n",
       "      <th>operator_route_length_miles</th>\n",
       "      <td>278.49</td>\n",
       "    </tr>\n",
       "    <tr>\n",
       "      <th>n_downtown_local_routes</th>\n",
       "      <td>0</td>\n",
       "    </tr>\n",
       "    <tr>\n",
       "      <th>n_local_routes</th>\n",
       "      <td>0</td>\n",
       "    </tr>\n",
       "    <tr>\n",
       "      <th>n_coverage_routes</th>\n",
       "      <td>12</td>\n",
       "    </tr>\n",
       "    <tr>\n",
       "      <th>n_rapid_routes</th>\n",
       "      <td>12</td>\n",
       "    </tr>\n",
       "    <tr>\n",
       "      <th>n_express_routes</th>\n",
       "      <td>0</td>\n",
       "    </tr>\n",
       "    <tr>\n",
       "      <th>n_rail_routes</th>\n",
       "      <td>0</td>\n",
       "    </tr>\n",
       "    <tr>\n",
       "      <th>n_ferry_routes</th>\n",
       "      <td>0</td>\n",
       "    </tr>\n",
       "    <tr>\n",
       "      <th>vp_per_min_agency</th>\n",
       "      <td>2.89</td>\n",
       "    </tr>\n",
       "    <tr>\n",
       "      <th>spatial_accuracy_agency</th>\n",
       "      <td>96.70</td>\n",
       "    </tr>\n",
       "    <tr>\n",
       "      <th>n_feeds</th>\n",
       "      <td>1</td>\n",
       "    </tr>\n",
       "    <tr>\n",
       "      <th>operator_feeds</th>\n",
       "      <td>Redding Schedule</td>\n",
       "    </tr>\n",
       "    <tr>\n",
       "      <th>counties_served</th>\n",
       "      <td>Butte County, Shasta County, Tehama County</td>\n",
       "    </tr>\n",
       "    <tr>\n",
       "      <th>service_area_pop</th>\n",
       "      <td>126551</td>\n",
       "    </tr>\n",
       "    <tr>\n",
       "      <th>service_area_sq_miles</th>\n",
       "      <td>100</td>\n",
       "    </tr>\n",
       "    <tr>\n",
       "      <th>hq_city</th>\n",
       "      <td>Redding</td>\n",
       "    </tr>\n",
       "    <tr>\n",
       "      <th>reporter_type</th>\n",
       "      <td>Full Reporter</td>\n",
       "    </tr>\n",
       "    <tr>\n",
       "      <th>primary_uza_name</th>\n",
       "      <td>Redding, CA</td>\n",
       "    </tr>\n",
       "  </tbody>\n",
       "</table>\n",
       "</div>"
      ],
      "text/plain": [
       "                                                                     80\n",
       "portfolio_organization_name                  Redding Area Bus Authority\n",
       "service_date                                        2025-06-11 00:00:00\n",
       "caltrans_district                                          02 - Redding\n",
       "operator_n_routes                                                    12\n",
       "operator_n_trips                                                    198\n",
       "operator_n_shapes                                                    27\n",
       "operator_n_stops                                                    343\n",
       "operator_n_arrivals                                                5123\n",
       "operator_route_length_miles                                      278.49\n",
       "n_downtown_local_routes                                               0\n",
       "n_local_routes                                                        0\n",
       "n_coverage_routes                                                    12\n",
       "n_rapid_routes                                                       12\n",
       "n_express_routes                                                      0\n",
       "n_rail_routes                                                         0\n",
       "n_ferry_routes                                                        0\n",
       "vp_per_min_agency                                                  2.89\n",
       "spatial_accuracy_agency                                           96.70\n",
       "n_feeds                                                               1\n",
       "operator_feeds                                         Redding Schedule\n",
       "counties_served              Butte County, Shasta County, Tehama County\n",
       "service_area_pop                                                 126551\n",
       "service_area_sq_miles                                               100\n",
       "hq_city                                                         Redding\n",
       "reporter_type                                             Full Reporter\n",
       "primary_uza_name                                            Redding, CA"
      ]
     },
     "execution_count": 16,
     "metadata": {},
     "output_type": "execute_result"
    }
   ],
   "source": [
    "operator_df2_report.T"
   ]
  },
  {
   "cell_type": "markdown",
   "id": "58897aa7-ac3a-4619-93fe-fc4e87ceb8c1",
   "metadata": {},
   "source": [
    "## Understand Summary Table 1 & 2"
   ]
  },
  {
   "cell_type": "code",
   "execution_count": 20,
   "id": "d78328f0-e13f-483e-965c-af1cd9943a7c",
   "metadata": {
    "tags": []
   },
   "outputs": [],
   "source": [
    "import _report_utils"
   ]
  },
  {
   "cell_type": "code",
   "execution_count": 18,
   "id": "5c76ce79-0d69-4f6d-a728-218aacb10957",
   "metadata": {
    "tags": []
   },
   "outputs": [],
   "source": [
    "operator_df = _ct_district_data_prep.data_wrangling_operator_profile(district)"
   ]
  },
  {
   "cell_type": "code",
   "execution_count": 21,
   "id": "bcb5817b-7a28-4c43-9f27-a783b1340e06",
   "metadata": {
    "tags": []
   },
   "outputs": [],
   "source": [
    "district_summary = _report_utils.district_stats(operator_df, \"caltrans_district\")"
   ]
  },
  {
   "cell_type": "code",
   "execution_count": 22,
   "id": "f3448e66-ac11-4d8a-8967-ce97d0bbe56b",
   "metadata": {
    "tags": []
   },
   "outputs": [
    {
     "data": {
      "text/html": [
       "<div>\n",
       "<style scoped>\n",
       "    .dataframe tbody tr th:only-of-type {\n",
       "        vertical-align: middle;\n",
       "    }\n",
       "\n",
       "    .dataframe tbody tr th {\n",
       "        vertical-align: top;\n",
       "    }\n",
       "\n",
       "    .dataframe thead th {\n",
       "        text-align: right;\n",
       "    }\n",
       "</style>\n",
       "<table border=\"1\" class=\"dataframe\">\n",
       "  <thead>\n",
       "    <tr style=\"text-align: right;\">\n",
       "      <th></th>\n",
       "      <th>caltrans_district</th>\n",
       "      <th>n_operators</th>\n",
       "      <th>operator_n_routes</th>\n",
       "      <th>operator_n_trips</th>\n",
       "      <th>operator_n_stops</th>\n",
       "      <th>operator_n_arrivals</th>\n",
       "      <th>arrivals_per_stop</th>\n",
       "      <th>trips_per_operator</th>\n",
       "    </tr>\n",
       "  </thead>\n",
       "  <tbody>\n",
       "    <tr>\n",
       "      <th>0</th>\n",
       "      <td>02 - Redding</td>\n",
       "      <td>7</td>\n",
       "      <td>43</td>\n",
       "      <td>470</td>\n",
       "      <td>726</td>\n",
       "      <td>7656</td>\n",
       "      <td>10.55</td>\n",
       "      <td>67.14</td>\n",
       "    </tr>\n",
       "  </tbody>\n",
       "</table>\n",
       "</div>"
      ],
      "text/plain": [
       "  caltrans_district  n_operators  operator_n_routes  operator_n_trips  \\\n",
       "0      02 - Redding            7                 43               470   \n",
       "\n",
       "   operator_n_stops  operator_n_arrivals  arrivals_per_stop  \\\n",
       "0               726                 7656              10.55   \n",
       "\n",
       "   trips_per_operator  \n",
       "0               67.14  "
      ]
     },
     "execution_count": 22,
     "metadata": {},
     "output_type": "execute_result"
    }
   ],
   "source": [
    "district_summary"
   ]
  },
  {
   "cell_type": "markdown",
   "id": "13e3765c-c223-43a1-98ed-5e1ebc7d9aeb",
   "metadata": {},
   "source": [
    "## Understand GTFS Stats by Operator "
   ]
  },
  {
   "cell_type": "code",
   "execution_count": 23,
   "id": "68a2261f-7680-40fa-9b57-5d95e203ab31",
   "metadata": {
    "tags": []
   },
   "outputs": [],
   "source": [
    "gtfs_table_df = _ct_district_data_prep.create_gtfs_stats(operator_df)"
   ]
  },
  {
   "cell_type": "code",
   "execution_count": 24,
   "id": "e1829082-2f79-4f82-b18d-ac736e8e1986",
   "metadata": {
    "tags": []
   },
   "outputs": [
    {
     "data": {
      "text/html": [
       "<div>\n",
       "<style scoped>\n",
       "    .dataframe tbody tr th:only-of-type {\n",
       "        vertical-align: middle;\n",
       "    }\n",
       "\n",
       "    .dataframe tbody tr th {\n",
       "        vertical-align: top;\n",
       "    }\n",
       "\n",
       "    .dataframe thead th {\n",
       "        text-align: right;\n",
       "    }\n",
       "</style>\n",
       "<table border=\"1\" class=\"dataframe\">\n",
       "  <thead>\n",
       "    <tr style=\"text-align: right;\">\n",
       "      <th></th>\n",
       "      <th>Portfolio Organization Name</th>\n",
       "      <th># Routes</th>\n",
       "      <th># Trips</th>\n",
       "      <th># Shapes</th>\n",
       "      <th># Stops</th>\n",
       "      <th># Arrivals</th>\n",
       "      <th>Operator Service Miles</th>\n",
       "      <th>operator_arrivals_per_stop</th>\n",
       "      <th>Avg Arrivals per Stop</th>\n",
       "    </tr>\n",
       "  </thead>\n",
       "  <tbody>\n",
       "    <tr>\n",
       "      <th>0</th>\n",
       "      <td>Modoc Transportation Agency</td>\n",
       "      <td>1</td>\n",
       "      <td>2</td>\n",
       "      <td>2</td>\n",
       "      <td>12</td>\n",
       "      <td>22</td>\n",
       "      <td>193.19</td>\n",
       "      <td>1.83</td>\n",
       "      <td>1.83</td>\n",
       "    </tr>\n",
       "    <tr>\n",
       "      <th>1</th>\n",
       "      <td>Siskiyou County</td>\n",
       "      <td>5</td>\n",
       "      <td>38</td>\n",
       "      <td>37</td>\n",
       "      <td>91</td>\n",
       "      <td>639</td>\n",
       "      <td>221.43</td>\n",
       "      <td>7.02</td>\n",
       "      <td>7.02</td>\n",
       "    </tr>\n",
       "    <tr>\n",
       "      <th>2</th>\n",
       "      <td>Redding Area Bus Authority</td>\n",
       "      <td>16</td>\n",
       "      <td>275</td>\n",
       "      <td>28</td>\n",
       "      <td>345</td>\n",
       "      <td>4924</td>\n",
       "      <td>192.67</td>\n",
       "      <td>14.27</td>\n",
       "      <td>14.27</td>\n",
       "    </tr>\n",
       "    <tr>\n",
       "      <th>3</th>\n",
       "      <td>Tehama County</td>\n",
       "      <td>9</td>\n",
       "      <td>71</td>\n",
       "      <td>10</td>\n",
       "      <td>72</td>\n",
       "      <td>934</td>\n",
       "      <td>284.97</td>\n",
       "      <td>12.97</td>\n",
       "      <td>12.97</td>\n",
       "    </tr>\n",
       "    <tr>\n",
       "      <th>4</th>\n",
       "      <td>Trinity County</td>\n",
       "      <td>5</td>\n",
       "      <td>17</td>\n",
       "      <td>10</td>\n",
       "      <td>97</td>\n",
       "      <td>299</td>\n",
       "      <td>178.93</td>\n",
       "      <td>3.08</td>\n",
       "      <td>3.08</td>\n",
       "    </tr>\n",
       "    <tr>\n",
       "      <th>5</th>\n",
       "      <td>Plumas Transit Systems</td>\n",
       "      <td>3</td>\n",
       "      <td>34</td>\n",
       "      <td>19</td>\n",
       "      <td>70</td>\n",
       "      <td>603</td>\n",
       "      <td>145.43</td>\n",
       "      <td>8.61</td>\n",
       "      <td>8.61</td>\n",
       "    </tr>\n",
       "    <tr>\n",
       "      <th>6</th>\n",
       "      <td>Lassen Transit Service Agency</td>\n",
       "      <td>4</td>\n",
       "      <td>33</td>\n",
       "      <td>12</td>\n",
       "      <td>39</td>\n",
       "      <td>235</td>\n",
       "      <td>166.55</td>\n",
       "      <td>6.03</td>\n",
       "      <td>6.03</td>\n",
       "    </tr>\n",
       "  </tbody>\n",
       "</table>\n",
       "</div>"
      ],
      "text/plain": [
       "     Portfolio Organization Name  # Routes  # Trips  # Shapes  # Stops  \\\n",
       "0    Modoc Transportation Agency         1        2         2       12   \n",
       "1                Siskiyou County         5       38        37       91   \n",
       "2     Redding Area Bus Authority        16      275        28      345   \n",
       "3                  Tehama County         9       71        10       72   \n",
       "4                 Trinity County         5       17        10       97   \n",
       "5         Plumas Transit Systems         3       34        19       70   \n",
       "6  Lassen Transit Service Agency         4       33        12       39   \n",
       "\n",
       "   # Arrivals  Operator Service Miles  operator_arrivals_per_stop  \\\n",
       "0          22                  193.19                        1.83   \n",
       "1         639                  221.43                        7.02   \n",
       "2        4924                  192.67                       14.27   \n",
       "3         934                  284.97                       12.97   \n",
       "4         299                  178.93                        3.08   \n",
       "5         603                  145.43                        8.61   \n",
       "6         235                  166.55                        6.03   \n",
       "\n",
       "   Avg Arrivals per Stop  \n",
       "0                   1.83  \n",
       "1                   7.02  \n",
       "2                  14.27  \n",
       "3                  12.97  \n",
       "4                   3.08  \n",
       "5                   8.61  \n",
       "6                   6.03  "
      ]
     },
     "execution_count": 24,
     "metadata": {},
     "output_type": "execute_result"
    }
   ],
   "source": [
    "gtfs_table_df"
   ]
  }
 ],
 "metadata": {
  "kernelspec": {
   "display_name": "Python 3 (ipykernel)",
   "language": "python",
   "name": "python3"
  },
  "language_info": {
   "codemirror_mode": {
    "name": "ipython",
    "version": 3
   },
   "file_extension": ".py",
   "mimetype": "text/x-python",
   "name": "python",
   "nbconvert_exporter": "python",
   "pygments_lexer": "ipython3",
   "version": "3.11.10"
  }
 },
 "nbformat": 4,
 "nbformat_minor": 5
}
