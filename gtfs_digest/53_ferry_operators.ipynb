{
 "cells": [
  {
   "cell_type": "markdown",
   "id": "e4334b85-9c5c-4d45-9dd7-b27ed6c19774",
   "metadata": {},
   "source": [
    "# Research Request - GTFS Digest: Add Rail and Ferry Operators. #1386\n",
    "\n",
    "Tiffany's comment:\n",
    "If it's just a couple of rail, (Amtrak, Metrolink) and a handful of ferry operators, it's worth digging into the why they dropped off, and start by looking for their rows in the 4 schedule tables: trips, shapes, stops, stop_times, and then look for it in a vp table.\n",
    "\n",
    "* I think the ferry operators and Metrolink are already associated to a district. Even Amtrak might be? But if Amtrak isn't, you can create a separate \"district = Amtrak\" the merged df so it always has a tab for itself. Amtrak plots for the entire country!\n",
    "* District 4: San Francisco Bay Area Rapid Transit (BART), City and County of San Francisco (Muni)\n",
    "* District 7: Los Angeles County Metropolitan Transportation Authority (LA Metro)\n",
    "* District 11: San Diego Metropolitan Transit System\n",
    "\n",
    "Amanda\n",
    "* Ferry operator: Bay Area WETA, City of Alameda, and Golden Gate Bridge, Highway and Transportation District show up. All 3 are vp_only so they were filtered out -> incorporate them in? \n",
    "* The only ferry operator missing is Santa Cruz Harbor. \n",
    "* Amtrak is in District 3 but it has schedule_only data, which isn't true? \n",
    "\n",
    "* Here's a list of ferry operators in California from Evan's comment [here](https://github.com/cal-itp/data-analyses/issues/1357):\n",
    "    \n",
    "    * City of Alameda\n",
    "    * Golden Gate\n",
    "    * SF WETA\n",
    "    * Santa Cruz Harbor\n",
    "* **Goal**: all operators that are vp_only should also have schedule data. It is not possible to have realtime data without scheduled data. "
   ]
  },
  {
   "cell_type": "code",
   "execution_count": 1,
   "id": "3f18908d-10d0-4a49-b085-eec4ba0955ba",
   "metadata": {},
   "outputs": [],
   "source": [
    "import _section1_utils as section1\n",
    "import _section2_utils as section2\n",
    "import geopandas as gpd\n",
    "import merge_data\n",
    "import merge_operator_data\n",
    "import numpy as np\n",
    "import pandas as pd\n",
    "from segment_speed_utils import gtfs_schedule_wrangling, helpers\n",
    "from segment_speed_utils.project_vars import COMPILED_CACHED_VIEWS, PROJECT_CRS\n",
    "from shared_utils import catalog_utils, portfolio_utils, rt_dates\n",
    "from update_vars import GTFS_DATA_DICT, RT_SCHED_GCS, SCHED_GCS, SEGMENT_GCS"
   ]
  },
  {
   "cell_type": "code",
   "execution_count": 2,
   "id": "62d180d8-c968-4f42-9aa5-c6aabda1766b",
   "metadata": {
    "tags": []
   },
   "outputs": [],
   "source": [
    "pd.options.display.max_columns = 100\n",
    "pd.options.display.float_format = \"{:.2f}\".format\n",
    "pd.set_option(\"display.max_rows\", None)\n",
    "pd.set_option(\"display.max_colwidth\", None)"
   ]
  },
  {
   "cell_type": "code",
   "execution_count": 3,
   "id": "e023d10e-0bd7-4961-b8e3-ee8dca6f5a8a",
   "metadata": {
    "tags": []
   },
   "outputs": [],
   "source": [
    "analysis_date_list = [rt_dates.DATES[\"feb2025\"]]"
   ]
  },
  {
   "cell_type": "code",
   "execution_count": 4,
   "id": "f2a12738-ee3f-4d7d-b831-19ada34347e3",
   "metadata": {
    "tags": []
   },
   "outputs": [],
   "source": [
    "analysis_date = rt_dates.DATES[\"feb2025\"]"
   ]
  },
  {
   "cell_type": "code",
   "execution_count": 5,
   "id": "83df0e4b-446d-4a48-8899-8c434a0a8321",
   "metadata": {
    "tags": []
   },
   "outputs": [],
   "source": [
    "schd_vp_url = f\"{GTFS_DATA_DICT.digest_tables.dir}{GTFS_DATA_DICT.digest_tables.route_schedule_vp}.parquet\""
   ]
  },
  {
   "cell_type": "code",
   "execution_count": 6,
   "id": "ea74c10e-2bfb-46c1-a197-8cd0c931ec99",
   "metadata": {
    "tags": []
   },
   "outputs": [],
   "source": [
    "EXPORT = GTFS_DATA_DICT.schedule_tables.route_typologies"
   ]
  },
  {
   "cell_type": "code",
   "execution_count": 7,
   "id": "4ee30e2d-8349-4345-b554-fd0a05d5d342",
   "metadata": {
    "tags": []
   },
   "outputs": [],
   "source": [
    "route_typologies = pd.read_parquet(f\"{SCHED_GCS}{EXPORT}_{analysis_date}.parquet\")"
   ]
  },
  {
   "cell_type": "markdown",
   "id": "bce8298a-0cf3-4eac-b10d-c673ba207d73",
   "metadata": {},
   "source": [
    "## Look at operators in `digest/schedule_vp_metrics` without any filters to see if ferry and rail operators are in here.\n",
    "* Ferry operators except Bay Area Water Emergency Services (which isn't even a ferry?) aren't here."
   ]
  },
  {
   "cell_type": "code",
   "execution_count": 8,
   "id": "5426db9a-b949-44ef-a05a-dd3887ee91ed",
   "metadata": {
    "tags": []
   },
   "outputs": [],
   "source": [
    "schd_vp_df = pd.read_parquet(\n",
    "    schd_vp_url,\n",
    "    columns=[\n",
    "        \"schedule_gtfs_dataset_key\",\n",
    "        \"caltrans_district\",\n",
    "        \"organization_name\",\n",
    "        \"name\",\n",
    "        \"sched_rt_category\",\n",
    "        \"service_date\",\n",
    "    ],\n",
    ")"
   ]
  },
  {
   "cell_type": "code",
   "execution_count": 9,
   "id": "355afbcf-b156-4655-87f8-3c7f38fff66d",
   "metadata": {
    "tags": []
   },
   "outputs": [],
   "source": [
    "# Filter for Jan and Feb\n",
    "schd_vp_df2 = schd_vp_df.loc[\n",
    "    (schd_vp_df.service_date == \"2025-01-15\")\n",
    "    | (schd_vp_df.service_date == \"2024-12-11\")\n",
    "]"
   ]
  },
  {
   "cell_type": "code",
   "execution_count": 10,
   "id": "807342c6-a31e-40ff-bc60-1eec7f0d2dc9",
   "metadata": {
    "scrolled": true,
    "tags": []
   },
   "outputs": [],
   "source": [
    "# Drop duplicates\n",
    "schd_vp_df3 = (\n",
    "    schd_vp_df2[\n",
    "        [\n",
    "            \"schedule_gtfs_dataset_key\",\n",
    "            \"organization_name\",\n",
    "            \"service_date\",\n",
    "            \"sched_rt_category\",\n",
    "            \"caltrans_district\",\n",
    "        ]\n",
    "    ]\n",
    "    .drop_duplicates(subset=[\"organization_name\"])\n",
    "    .sort_values(by=[\"organization_name\"])\n",
    ")"
   ]
  },
  {
   "cell_type": "code",
   "execution_count": 11,
   "id": "2e18f1e7-158a-456f-8f43-322d9bbac21a",
   "metadata": {
    "tags": []
   },
   "outputs": [
    {
     "data": {
      "text/plain": [
       "schedule_and_vp    107\n",
       "schedule_only       89\n",
       "vp_only              2\n",
       "Name: sched_rt_category, dtype: int64"
      ]
     },
     "execution_count": 11,
     "metadata": {},
     "output_type": "execute_result"
    }
   ],
   "source": [
    "schd_vp_df3.sched_rt_category.value_counts()"
   ]
  },
  {
   "cell_type": "code",
   "execution_count": 12,
   "id": "2c295031-fc78-4bfb-a485-4d81576632a2",
   "metadata": {
    "tags": []
   },
   "outputs": [
    {
     "data": {
      "text/html": [
       "<div>\n",
       "<style scoped>\n",
       "    .dataframe tbody tr th:only-of-type {\n",
       "        vertical-align: middle;\n",
       "    }\n",
       "\n",
       "    .dataframe tbody tr th {\n",
       "        vertical-align: top;\n",
       "    }\n",
       "\n",
       "    .dataframe thead th {\n",
       "        text-align: right;\n",
       "    }\n",
       "</style>\n",
       "<table border=\"1\" class=\"dataframe\">\n",
       "  <thead>\n",
       "    <tr style=\"text-align: right;\">\n",
       "      <th></th>\n",
       "      <th>schedule_gtfs_dataset_key</th>\n",
       "      <th>organization_name</th>\n",
       "      <th>service_date</th>\n",
       "      <th>sched_rt_category</th>\n",
       "      <th>caltrans_district</th>\n",
       "    </tr>\n",
       "  </thead>\n",
       "  <tbody>\n",
       "    <tr>\n",
       "      <th>342768</th>\n",
       "      <td>c4092405159366c705b62df938293a4e</td>\n",
       "      <td>San Bernardino County Transportation Authority</td>\n",
       "      <td>2024-12-11</td>\n",
       "      <td>vp_only</td>\n",
       "      <td>08 - San Bernardino</td>\n",
       "    </tr>\n",
       "    <tr>\n",
       "      <th>342769</th>\n",
       "      <td>c4092405159366c705b62df938293a4e</td>\n",
       "      <td>Southern California Regional Rail Authority</td>\n",
       "      <td>2024-12-11</td>\n",
       "      <td>vp_only</td>\n",
       "      <td>07 - Los Angeles</td>\n",
       "    </tr>\n",
       "  </tbody>\n",
       "</table>\n",
       "</div>"
      ],
      "text/plain": [
       "               schedule_gtfs_dataset_key  \\\n",
       "342768  c4092405159366c705b62df938293a4e   \n",
       "342769  c4092405159366c705b62df938293a4e   \n",
       "\n",
       "                                     organization_name service_date  \\\n",
       "342768  San Bernardino County Transportation Authority   2024-12-11   \n",
       "342769     Southern California Regional Rail Authority   2024-12-11   \n",
       "\n",
       "       sched_rt_category    caltrans_district  \n",
       "342768           vp_only  08 - San Bernardino  \n",
       "342769           vp_only     07 - Los Angeles  "
      ]
     },
     "execution_count": 12,
     "metadata": {},
     "output_type": "execute_result"
    }
   ],
   "source": [
    "schd_vp_df3.loc[schd_vp_df3.sched_rt_category == \"vp_only\"]"
   ]
  },
  {
   "cell_type": "markdown",
   "id": "f2bdcbda-6a23-4161-8beb-dc1765efb5eb",
   "metadata": {},
   "source": [
    "### Try to see if I am categorizing these supposedly vp only operators incorrectly because I am merely dropping duplicates.\n",
    "* No they really are vp only."
   ]
  },
  {
   "cell_type": "code",
   "execution_count": 13,
   "id": "e9880110-c96f-499b-86bb-6662a328f96d",
   "metadata": {
    "tags": []
   },
   "outputs": [],
   "source": [
    "vp_only_ops = list(\n",
    "    schd_vp_df3.loc[\n",
    "        schd_vp_df3.sched_rt_category == \"vp_only\"\n",
    "    ].organization_name.unique()\n",
    ")"
   ]
  },
  {
   "cell_type": "code",
   "execution_count": null,
   "id": "cf7f15ab-b5c4-475d-abcf-1928175537b6",
   "metadata": {},
   "outputs": [],
   "source": []
  },
  {
   "cell_type": "code",
   "execution_count": 14,
   "id": "e7f84102-d82a-4a5f-a1f5-5f434f38d9e9",
   "metadata": {
    "tags": []
   },
   "outputs": [],
   "source": [
    "vp_only_ops_df = schd_vp_df.loc[schd_vp_df.organization_name.isin(vp_only_ops)]"
   ]
  },
  {
   "cell_type": "code",
   "execution_count": 15,
   "id": "b9e74fff-884c-4a48-8519-698636939774",
   "metadata": {
    "tags": []
   },
   "outputs": [
    {
     "data": {
      "text/plain": [
       "2"
      ]
     },
     "execution_count": 15,
     "metadata": {},
     "output_type": "execute_result"
    }
   ],
   "source": [
    "len(vp_only_ops)"
   ]
  },
  {
   "cell_type": "code",
   "execution_count": 16,
   "id": "f4b7a55d-dcfb-4c85-ba3c-6afab3fc0613",
   "metadata": {
    "tags": []
   },
   "outputs": [
    {
     "data": {
      "text/html": [
       "<div>\n",
       "<style scoped>\n",
       "    .dataframe tbody tr th:only-of-type {\n",
       "        vertical-align: middle;\n",
       "    }\n",
       "\n",
       "    .dataframe tbody tr th {\n",
       "        vertical-align: top;\n",
       "    }\n",
       "\n",
       "    .dataframe thead th {\n",
       "        text-align: right;\n",
       "    }\n",
       "</style>\n",
       "<table border=\"1\" class=\"dataframe\">\n",
       "  <thead>\n",
       "    <tr style=\"text-align: right;\">\n",
       "      <th></th>\n",
       "      <th></th>\n",
       "      <th>service_date</th>\n",
       "    </tr>\n",
       "    <tr>\n",
       "      <th>organization_name</th>\n",
       "      <th>sched_rt_category</th>\n",
       "      <th></th>\n",
       "    </tr>\n",
       "  </thead>\n",
       "  <tbody>\n",
       "    <tr>\n",
       "      <th rowspan=\"3\" valign=\"top\">San Bernardino County Transportation Authority</th>\n",
       "      <th>schedule_only</th>\n",
       "      <td>NaT</td>\n",
       "    </tr>\n",
       "    <tr>\n",
       "      <th>vp_only</th>\n",
       "      <td>2025-02-12</td>\n",
       "    </tr>\n",
       "    <tr>\n",
       "      <th>schedule_and_vp</th>\n",
       "      <td>NaT</td>\n",
       "    </tr>\n",
       "    <tr>\n",
       "      <th rowspan=\"3\" valign=\"top\">Southern California Regional Rail Authority</th>\n",
       "      <th>schedule_only</th>\n",
       "      <td>NaT</td>\n",
       "    </tr>\n",
       "    <tr>\n",
       "      <th>vp_only</th>\n",
       "      <td>2025-02-12</td>\n",
       "    </tr>\n",
       "    <tr>\n",
       "      <th>schedule_and_vp</th>\n",
       "      <td>NaT</td>\n",
       "    </tr>\n",
       "  </tbody>\n",
       "</table>\n",
       "</div>"
      ],
      "text/plain": [
       "                                                                 service_date\n",
       "organization_name                              sched_rt_category             \n",
       "San Bernardino County Transportation Authority schedule_only              NaT\n",
       "                                               vp_only             2025-02-12\n",
       "                                               schedule_and_vp            NaT\n",
       "Southern California Regional Rail Authority    schedule_only              NaT\n",
       "                                               vp_only             2025-02-12\n",
       "                                               schedule_and_vp            NaT"
      ]
     },
     "execution_count": 16,
     "metadata": {},
     "output_type": "execute_result"
    }
   ],
   "source": [
    "vp_only_ops_df.groupby([\"organization_name\", \"sched_rt_category\"]).agg(\n",
    "    {\"service_date\": \"max\"}\n",
    ")"
   ]
  },
  {
   "cell_type": "markdown",
   "id": "a80616f0-6bf5-4c83-9477-70f61dde1577",
   "metadata": {},
   "source": [
    "### Southern California Regional Rail Authority is vehicle positions only, sort of strange."
   ]
  },
  {
   "cell_type": "code",
   "execution_count": 17,
   "id": "cfa4ee54-b3a6-4745-9218-51be8d9b12ed",
   "metadata": {
    "tags": []
   },
   "outputs": [
    {
     "data": {
      "text/html": [
       "<div>\n",
       "<style scoped>\n",
       "    .dataframe tbody tr th:only-of-type {\n",
       "        vertical-align: middle;\n",
       "    }\n",
       "\n",
       "    .dataframe tbody tr th {\n",
       "        vertical-align: top;\n",
       "    }\n",
       "\n",
       "    .dataframe thead th {\n",
       "        text-align: right;\n",
       "    }\n",
       "</style>\n",
       "<table border=\"1\" class=\"dataframe\">\n",
       "  <thead>\n",
       "    <tr style=\"text-align: right;\">\n",
       "      <th></th>\n",
       "      <th>schedule_gtfs_dataset_key</th>\n",
       "      <th>organization_name</th>\n",
       "      <th>service_date</th>\n",
       "      <th>sched_rt_category</th>\n",
       "      <th>caltrans_district</th>\n",
       "    </tr>\n",
       "  </thead>\n",
       "  <tbody>\n",
       "    <tr>\n",
       "      <th>265319</th>\n",
       "      <td>ce940c5c982e7d8e9cf790028a5cd134</td>\n",
       "      <td>San Joaquin Regional Rail Commission</td>\n",
       "      <td>2024-12-11</td>\n",
       "      <td>schedule_and_vp</td>\n",
       "      <td>10 - Stockton</td>\n",
       "    </tr>\n",
       "    <tr>\n",
       "      <th>11406</th>\n",
       "      <td>0881af3822466784992a49f1cc57d38f</td>\n",
       "      <td>Sonoma-Marin Area Rail Transit District</td>\n",
       "      <td>2024-12-11</td>\n",
       "      <td>schedule_and_vp</td>\n",
       "      <td>04 - Oakland</td>\n",
       "    </tr>\n",
       "    <tr>\n",
       "      <th>342769</th>\n",
       "      <td>c4092405159366c705b62df938293a4e</td>\n",
       "      <td>Southern California Regional Rail Authority</td>\n",
       "      <td>2024-12-11</td>\n",
       "      <td>vp_only</td>\n",
       "      <td>07 - Los Angeles</td>\n",
       "    </tr>\n",
       "  </tbody>\n",
       "</table>\n",
       "</div>"
      ],
      "text/plain": [
       "               schedule_gtfs_dataset_key  \\\n",
       "265319  ce940c5c982e7d8e9cf790028a5cd134   \n",
       "11406   0881af3822466784992a49f1cc57d38f   \n",
       "342769  c4092405159366c705b62df938293a4e   \n",
       "\n",
       "                                  organization_name service_date  \\\n",
       "265319         San Joaquin Regional Rail Commission   2024-12-11   \n",
       "11406       Sonoma-Marin Area Rail Transit District   2024-12-11   \n",
       "342769  Southern California Regional Rail Authority   2024-12-11   \n",
       "\n",
       "       sched_rt_category caltrans_district  \n",
       "265319   schedule_and_vp     10 - Stockton  \n",
       "11406    schedule_and_vp      04 - Oakland  \n",
       "342769           vp_only  07 - Los Angeles  "
      ]
     },
     "execution_count": 17,
     "metadata": {},
     "output_type": "execute_result"
    }
   ],
   "source": [
    "schd_vp_df3.loc[schd_vp_df3.organization_name.str.contains(\"Rail\")]"
   ]
  },
  {
   "cell_type": "code",
   "execution_count": 18,
   "id": "3742905a-8dc5-4a1c-bc39-6d2c817dbe6b",
   "metadata": {
    "tags": []
   },
   "outputs": [
    {
     "data": {
      "text/html": [
       "<div>\n",
       "<style scoped>\n",
       "    .dataframe tbody tr th:only-of-type {\n",
       "        vertical-align: middle;\n",
       "    }\n",
       "\n",
       "    .dataframe tbody tr th {\n",
       "        vertical-align: top;\n",
       "    }\n",
       "\n",
       "    .dataframe thead th {\n",
       "        text-align: right;\n",
       "    }\n",
       "</style>\n",
       "<table border=\"1\" class=\"dataframe\">\n",
       "  <thead>\n",
       "    <tr style=\"text-align: right;\">\n",
       "      <th></th>\n",
       "      <th>schedule_gtfs_dataset_key</th>\n",
       "      <th>organization_name</th>\n",
       "      <th>service_date</th>\n",
       "      <th>sched_rt_category</th>\n",
       "      <th>caltrans_district</th>\n",
       "    </tr>\n",
       "  </thead>\n",
       "  <tbody>\n",
       "    <tr>\n",
       "      <th>4190</th>\n",
       "      <td>0666caf3ec1ecc96b74f4477ee4bc939</td>\n",
       "      <td>Los Angeles County Metropolitan Transportation Authority</td>\n",
       "      <td>2024-12-11</td>\n",
       "      <td>schedule_and_vp</td>\n",
       "      <td>07 - Los Angeles</td>\n",
       "    </tr>\n",
       "    <tr>\n",
       "      <th>207802</th>\n",
       "      <td>baeeb157e85a901e47b828ef9fe75091</td>\n",
       "      <td>San Diego Metropolitan Transit System</td>\n",
       "      <td>2024-12-11</td>\n",
       "      <td>schedule_and_vp</td>\n",
       "      <td>11 - San Diego</td>\n",
       "    </tr>\n",
       "    <tr>\n",
       "      <th>70754</th>\n",
       "      <td>239f3baf3dd3b9e9464f66a777f9897d</td>\n",
       "      <td>Santa Barbara Metropolitan Transit District</td>\n",
       "      <td>2024-12-11</td>\n",
       "      <td>schedule_and_vp</td>\n",
       "      <td>05 - San Luis Obispo</td>\n",
       "    </tr>\n",
       "    <tr>\n",
       "      <th>128713</th>\n",
       "      <td>62cae2cb469ba696ca1b29a4cd274b96</td>\n",
       "      <td>Santa Cruz Metropolitan Transit District</td>\n",
       "      <td>2024-12-11</td>\n",
       "      <td>schedule_and_vp</td>\n",
       "      <td>05 - San Luis Obispo</td>\n",
       "    </tr>\n",
       "  </tbody>\n",
       "</table>\n",
       "</div>"
      ],
      "text/plain": [
       "               schedule_gtfs_dataset_key  \\\n",
       "4190    0666caf3ec1ecc96b74f4477ee4bc939   \n",
       "207802  baeeb157e85a901e47b828ef9fe75091   \n",
       "70754   239f3baf3dd3b9e9464f66a777f9897d   \n",
       "128713  62cae2cb469ba696ca1b29a4cd274b96   \n",
       "\n",
       "                                               organization_name service_date  \\\n",
       "4190    Los Angeles County Metropolitan Transportation Authority   2024-12-11   \n",
       "207802                     San Diego Metropolitan Transit System   2024-12-11   \n",
       "70754                Santa Barbara Metropolitan Transit District   2024-12-11   \n",
       "128713                  Santa Cruz Metropolitan Transit District   2024-12-11   \n",
       "\n",
       "       sched_rt_category     caltrans_district  \n",
       "4190     schedule_and_vp      07 - Los Angeles  \n",
       "207802   schedule_and_vp        11 - San Diego  \n",
       "70754    schedule_and_vp  05 - San Luis Obispo  \n",
       "128713   schedule_and_vp  05 - San Luis Obispo  "
      ]
     },
     "execution_count": 18,
     "metadata": {},
     "output_type": "execute_result"
    }
   ],
   "source": [
    "schd_vp_df3.loc[schd_vp_df3.organization_name.str.contains(\"Metropolitan\")]"
   ]
  },
  {
   "cell_type": "code",
   "execution_count": 19,
   "id": "9d950b6c-a656-423e-bc3e-4f1762818603",
   "metadata": {
    "tags": []
   },
   "outputs": [
    {
     "data": {
      "text/html": [
       "<div>\n",
       "<style scoped>\n",
       "    .dataframe tbody tr th:only-of-type {\n",
       "        vertical-align: middle;\n",
       "    }\n",
       "\n",
       "    .dataframe tbody tr th {\n",
       "        vertical-align: top;\n",
       "    }\n",
       "\n",
       "    .dataframe thead th {\n",
       "        text-align: right;\n",
       "    }\n",
       "</style>\n",
       "<table border=\"1\" class=\"dataframe\">\n",
       "  <thead>\n",
       "    <tr style=\"text-align: right;\">\n",
       "      <th></th>\n",
       "      <th>schedule_gtfs_dataset_key</th>\n",
       "      <th>organization_name</th>\n",
       "      <th>service_date</th>\n",
       "      <th>sched_rt_category</th>\n",
       "      <th>caltrans_district</th>\n",
       "    </tr>\n",
       "  </thead>\n",
       "  <tbody>\n",
       "  </tbody>\n",
       "</table>\n",
       "</div>"
      ],
      "text/plain": [
       "Empty DataFrame\n",
       "Columns: [schedule_gtfs_dataset_key, organization_name, service_date, sched_rt_category, caltrans_district]\n",
       "Index: []"
      ]
     },
     "execution_count": 19,
     "metadata": {},
     "output_type": "execute_result"
    }
   ],
   "source": [
    "schd_vp_df3.loc[schd_vp_df3.organization_name.str.contains(\"Fleet\")]"
   ]
  },
  {
   "cell_type": "code",
   "execution_count": 20,
   "id": "be2940ce-179e-41c8-b261-011c88ddc035",
   "metadata": {
    "tags": []
   },
   "outputs": [
    {
     "data": {
      "text/html": [
       "<div>\n",
       "<style scoped>\n",
       "    .dataframe tbody tr th:only-of-type {\n",
       "        vertical-align: middle;\n",
       "    }\n",
       "\n",
       "    .dataframe tbody tr th {\n",
       "        vertical-align: top;\n",
       "    }\n",
       "\n",
       "    .dataframe thead th {\n",
       "        text-align: right;\n",
       "    }\n",
       "</style>\n",
       "<table border=\"1\" class=\"dataframe\">\n",
       "  <thead>\n",
       "    <tr style=\"text-align: right;\">\n",
       "      <th></th>\n",
       "      <th>schedule_gtfs_dataset_key</th>\n",
       "      <th>organization_name</th>\n",
       "      <th>service_date</th>\n",
       "      <th>sched_rt_category</th>\n",
       "      <th>caltrans_district</th>\n",
       "    </tr>\n",
       "  </thead>\n",
       "  <tbody>\n",
       "  </tbody>\n",
       "</table>\n",
       "</div>"
      ],
      "text/plain": [
       "Empty DataFrame\n",
       "Columns: [schedule_gtfs_dataset_key, organization_name, service_date, sched_rt_category, caltrans_district]\n",
       "Index: []"
      ]
     },
     "execution_count": 20,
     "metadata": {},
     "output_type": "execute_result"
    }
   ],
   "source": [
    "schd_vp_df3.loc[schd_vp_df3.organization_name.str.contains(\"Ferry\")]"
   ]
  },
  {
   "cell_type": "code",
   "execution_count": 21,
   "id": "8c9d512e-04ad-416d-95a4-811cf68a6163",
   "metadata": {
    "tags": []
   },
   "outputs": [
    {
     "data": {
      "text/html": [
       "<div>\n",
       "<style scoped>\n",
       "    .dataframe tbody tr th:only-of-type {\n",
       "        vertical-align: middle;\n",
       "    }\n",
       "\n",
       "    .dataframe tbody tr th {\n",
       "        vertical-align: top;\n",
       "    }\n",
       "\n",
       "    .dataframe thead th {\n",
       "        text-align: right;\n",
       "    }\n",
       "</style>\n",
       "<table border=\"1\" class=\"dataframe\">\n",
       "  <thead>\n",
       "    <tr style=\"text-align: right;\">\n",
       "      <th></th>\n",
       "      <th>schedule_gtfs_dataset_key</th>\n",
       "      <th>organization_name</th>\n",
       "      <th>service_date</th>\n",
       "      <th>sched_rt_category</th>\n",
       "      <th>caltrans_district</th>\n",
       "    </tr>\n",
       "  </thead>\n",
       "  <tbody>\n",
       "    <tr>\n",
       "      <th>252640</th>\n",
       "      <td>c85fc19ac90c75c242a4955d294091a6</td>\n",
       "      <td>City of Morro Bay</td>\n",
       "      <td>2024-12-11</td>\n",
       "      <td>schedule_only</td>\n",
       "      <td>05 - San Luis Obispo</td>\n",
       "    </tr>\n",
       "    <tr>\n",
       "      <th>146390</th>\n",
       "      <td>749380f1a9f225d9123762d83ea2f50d</td>\n",
       "      <td>Mission Bay Transportation Management Agency</td>\n",
       "      <td>2024-12-11</td>\n",
       "      <td>schedule_only</td>\n",
       "      <td>04 - Oakland</td>\n",
       "    </tr>\n",
       "    <tr>\n",
       "      <th>169152</th>\n",
       "      <td>8a1405af8da1379acc062e346187ac98</td>\n",
       "      <td>San Francisco Bay Area Rapid Transit District</td>\n",
       "      <td>2024-12-11</td>\n",
       "      <td>schedule_only</td>\n",
       "      <td>04 - Oakland</td>\n",
       "    </tr>\n",
       "    <tr>\n",
       "      <th>166080</th>\n",
       "      <td>82f30e22dafe8156367297eb9a316c57</td>\n",
       "      <td>San Francisco Bay Area Water Emergency Transit Authority</td>\n",
       "      <td>2025-01-15</td>\n",
       "      <td>schedule_and_vp</td>\n",
       "      <td>04 - Oakland</td>\n",
       "    </tr>\n",
       "  </tbody>\n",
       "</table>\n",
       "</div>"
      ],
      "text/plain": [
       "               schedule_gtfs_dataset_key  \\\n",
       "252640  c85fc19ac90c75c242a4955d294091a6   \n",
       "146390  749380f1a9f225d9123762d83ea2f50d   \n",
       "169152  8a1405af8da1379acc062e346187ac98   \n",
       "166080  82f30e22dafe8156367297eb9a316c57   \n",
       "\n",
       "                                               organization_name service_date  \\\n",
       "252640                                         City of Morro Bay   2024-12-11   \n",
       "146390              Mission Bay Transportation Management Agency   2024-12-11   \n",
       "169152             San Francisco Bay Area Rapid Transit District   2024-12-11   \n",
       "166080  San Francisco Bay Area Water Emergency Transit Authority   2025-01-15   \n",
       "\n",
       "       sched_rt_category     caltrans_district  \n",
       "252640     schedule_only  05 - San Luis Obispo  \n",
       "146390     schedule_only          04 - Oakland  \n",
       "169152     schedule_only          04 - Oakland  \n",
       "166080   schedule_and_vp          04 - Oakland  "
      ]
     },
     "execution_count": 21,
     "metadata": {},
     "output_type": "execute_result"
    }
   ],
   "source": [
    "schd_vp_df3.loc[schd_vp_df3.organization_name.str.contains(\"Bay\")]"
   ]
  },
  {
   "cell_type": "code",
   "execution_count": 22,
   "id": "59959e43-c4df-4600-a52a-2bb9e82dace8",
   "metadata": {
    "tags": []
   },
   "outputs": [
    {
     "data": {
      "text/html": [
       "<div>\n",
       "<style scoped>\n",
       "    .dataframe tbody tr th:only-of-type {\n",
       "        vertical-align: middle;\n",
       "    }\n",
       "\n",
       "    .dataframe tbody tr th {\n",
       "        vertical-align: top;\n",
       "    }\n",
       "\n",
       "    .dataframe thead th {\n",
       "        text-align: right;\n",
       "    }\n",
       "</style>\n",
       "<table border=\"1\" class=\"dataframe\">\n",
       "  <thead>\n",
       "    <tr style=\"text-align: right;\">\n",
       "      <th></th>\n",
       "      <th>schedule_gtfs_dataset_key</th>\n",
       "      <th>organization_name</th>\n",
       "      <th>service_date</th>\n",
       "      <th>sched_rt_category</th>\n",
       "      <th>caltrans_district</th>\n",
       "    </tr>\n",
       "  </thead>\n",
       "  <tbody>\n",
       "    <tr>\n",
       "      <th>240978</th>\n",
       "      <td>c499f905e33929a641f083dad55c521e</td>\n",
       "      <td>Alameda-Contra Costa Transit District</td>\n",
       "      <td>2024-12-11</td>\n",
       "      <td>schedule_and_vp</td>\n",
       "      <td>04 - Oakland</td>\n",
       "    </tr>\n",
       "    <tr>\n",
       "      <th>166079</th>\n",
       "      <td>82f30e22dafe8156367297eb9a316c57</td>\n",
       "      <td>City of Alameda</td>\n",
       "      <td>2025-01-15</td>\n",
       "      <td>schedule_and_vp</td>\n",
       "      <td>04 - Oakland</td>\n",
       "    </tr>\n",
       "  </tbody>\n",
       "</table>\n",
       "</div>"
      ],
      "text/plain": [
       "               schedule_gtfs_dataset_key  \\\n",
       "240978  c499f905e33929a641f083dad55c521e   \n",
       "166079  82f30e22dafe8156367297eb9a316c57   \n",
       "\n",
       "                            organization_name service_date sched_rt_category  \\\n",
       "240978  Alameda-Contra Costa Transit District   2024-12-11   schedule_and_vp   \n",
       "166079                        City of Alameda   2025-01-15   schedule_and_vp   \n",
       "\n",
       "       caltrans_district  \n",
       "240978      04 - Oakland  \n",
       "166079      04 - Oakland  "
      ]
     },
     "execution_count": 22,
     "metadata": {},
     "output_type": "execute_result"
    }
   ],
   "source": [
    "schd_vp_df3.loc[schd_vp_df3.organization_name.str.contains(\"Alameda\")]"
   ]
  },
  {
   "cell_type": "code",
   "execution_count": 23,
   "id": "6dc63065-077e-49e8-a669-f3e09fa2b0d4",
   "metadata": {
    "tags": []
   },
   "outputs": [
    {
     "data": {
      "text/html": [
       "<div>\n",
       "<style scoped>\n",
       "    .dataframe tbody tr th:only-of-type {\n",
       "        vertical-align: middle;\n",
       "    }\n",
       "\n",
       "    .dataframe tbody tr th {\n",
       "        vertical-align: top;\n",
       "    }\n",
       "\n",
       "    .dataframe thead th {\n",
       "        text-align: right;\n",
       "    }\n",
       "</style>\n",
       "<table border=\"1\" class=\"dataframe\">\n",
       "  <thead>\n",
       "    <tr style=\"text-align: right;\">\n",
       "      <th></th>\n",
       "      <th>schedule_gtfs_dataset_key</th>\n",
       "      <th>organization_name</th>\n",
       "      <th>service_date</th>\n",
       "      <th>sched_rt_category</th>\n",
       "      <th>caltrans_district</th>\n",
       "    </tr>\n",
       "  </thead>\n",
       "  <tbody>\n",
       "    <tr>\n",
       "      <th>106132</th>\n",
       "      <td>4c105bd9f414afe82dba2c3687cc1d88</td>\n",
       "      <td>Golden Empire Transit District</td>\n",
       "      <td>2024-12-11</td>\n",
       "      <td>schedule_and_vp</td>\n",
       "      <td>06 - Fresno</td>\n",
       "    </tr>\n",
       "    <tr>\n",
       "      <th>203465</th>\n",
       "      <td>aea4108997c66a74fbdae27b34b69fde</td>\n",
       "      <td>Golden Gate Bridge, Highway and Transportation District</td>\n",
       "      <td>2025-01-15</td>\n",
       "      <td>schedule_and_vp</td>\n",
       "      <td>04 - Oakland</td>\n",
       "    </tr>\n",
       "  </tbody>\n",
       "</table>\n",
       "</div>"
      ],
      "text/plain": [
       "               schedule_gtfs_dataset_key  \\\n",
       "106132  4c105bd9f414afe82dba2c3687cc1d88   \n",
       "203465  aea4108997c66a74fbdae27b34b69fde   \n",
       "\n",
       "                                              organization_name service_date  \\\n",
       "106132                           Golden Empire Transit District   2024-12-11   \n",
       "203465  Golden Gate Bridge, Highway and Transportation District   2025-01-15   \n",
       "\n",
       "       sched_rt_category caltrans_district  \n",
       "106132   schedule_and_vp       06 - Fresno  \n",
       "203465   schedule_and_vp      04 - Oakland  "
      ]
     },
     "execution_count": 23,
     "metadata": {},
     "output_type": "execute_result"
    }
   ],
   "source": [
    "schd_vp_df3.loc[schd_vp_df3.organization_name.str.contains(\"Golden\")]"
   ]
  },
  {
   "cell_type": "code",
   "execution_count": 24,
   "id": "045dc63f-212c-444b-b867-11cf80723d29",
   "metadata": {
    "tags": []
   },
   "outputs": [
    {
     "data": {
      "text/html": [
       "<div>\n",
       "<style scoped>\n",
       "    .dataframe tbody tr th:only-of-type {\n",
       "        vertical-align: middle;\n",
       "    }\n",
       "\n",
       "    .dataframe tbody tr th {\n",
       "        vertical-align: top;\n",
       "    }\n",
       "\n",
       "    .dataframe thead th {\n",
       "        text-align: right;\n",
       "    }\n",
       "</style>\n",
       "<table border=\"1\" class=\"dataframe\">\n",
       "  <thead>\n",
       "    <tr style=\"text-align: right;\">\n",
       "      <th></th>\n",
       "      <th>schedule_gtfs_dataset_key</th>\n",
       "      <th>organization_name</th>\n",
       "      <th>service_date</th>\n",
       "      <th>sched_rt_category</th>\n",
       "      <th>caltrans_district</th>\n",
       "    </tr>\n",
       "  </thead>\n",
       "  <tbody>\n",
       "    <tr>\n",
       "      <th>204278</th>\n",
       "      <td>b34f8d2270968f55f23f80b267df1d5f</td>\n",
       "      <td>City of Santa Cruz</td>\n",
       "      <td>2024-12-11</td>\n",
       "      <td>schedule_only</td>\n",
       "      <td>05 - San Luis Obispo</td>\n",
       "    </tr>\n",
       "    <tr>\n",
       "      <th>128713</th>\n",
       "      <td>62cae2cb469ba696ca1b29a4cd274b96</td>\n",
       "      <td>Santa Cruz Metropolitan Transit District</td>\n",
       "      <td>2024-12-11</td>\n",
       "      <td>schedule_and_vp</td>\n",
       "      <td>05 - San Luis Obispo</td>\n",
       "    </tr>\n",
       "    <tr>\n",
       "      <th>204277</th>\n",
       "      <td>b34f8d2270968f55f23f80b267df1d5f</td>\n",
       "      <td>University of California, Santa Cruz</td>\n",
       "      <td>2024-12-11</td>\n",
       "      <td>schedule_only</td>\n",
       "      <td>05 - San Luis Obispo</td>\n",
       "    </tr>\n",
       "  </tbody>\n",
       "</table>\n",
       "</div>"
      ],
      "text/plain": [
       "               schedule_gtfs_dataset_key  \\\n",
       "204278  b34f8d2270968f55f23f80b267df1d5f   \n",
       "128713  62cae2cb469ba696ca1b29a4cd274b96   \n",
       "204277  b34f8d2270968f55f23f80b267df1d5f   \n",
       "\n",
       "                               organization_name service_date  \\\n",
       "204278                        City of Santa Cruz   2024-12-11   \n",
       "128713  Santa Cruz Metropolitan Transit District   2024-12-11   \n",
       "204277      University of California, Santa Cruz   2024-12-11   \n",
       "\n",
       "       sched_rt_category     caltrans_district  \n",
       "204278     schedule_only  05 - San Luis Obispo  \n",
       "128713   schedule_and_vp  05 - San Luis Obispo  \n",
       "204277     schedule_only  05 - San Luis Obispo  "
      ]
     },
     "execution_count": 24,
     "metadata": {},
     "output_type": "execute_result"
    }
   ],
   "source": [
    "schd_vp_df3.loc[schd_vp_df3.organization_name.str.contains(\"Santa Cruz\")]"
   ]
  },
  {
   "cell_type": "markdown",
   "id": "cc8fab70-1fe5-444b-98c9-64b77c6a3411",
   "metadata": {},
   "source": [
    "## Look at ferry operators and see how to incorporate them\n",
    "* San Francisco Bay Area Water Emergency Transit Authority\n",
    "* City of Alameda\n",
    "* Golden Gate Bridge, Highway and Transportation District"
   ]
  },
  {
   "cell_type": "markdown",
   "id": "43063dfd-e385-49c3-9af1-26089d741c69",
   "metadata": {},
   "source": [
    "### City of Alameda"
   ]
  },
  {
   "cell_type": "code",
   "execution_count": 25,
   "id": "2079bb90-2ebe-4447-949a-72cc83e896a8",
   "metadata": {
    "tags": []
   },
   "outputs": [],
   "source": [
    "city_of_alameda_df = pd.read_parquet(\n",
    "    schd_vp_url,\n",
    "    filters=[\n",
    "        [\n",
    "            (\"organization_name\", \"==\", \"City of Alameda\"),\n",
    "        ]\n",
    "    ],\n",
    ")"
   ]
  },
  {
   "cell_type": "code",
   "execution_count": 26,
   "id": "8032603e-4775-4768-aa75-29ae248950e5",
   "metadata": {
    "tags": []
   },
   "outputs": [
    {
     "data": {
      "text/html": [
       "<div>\n",
       "<style scoped>\n",
       "    .dataframe tbody tr th:only-of-type {\n",
       "        vertical-align: middle;\n",
       "    }\n",
       "\n",
       "    .dataframe tbody tr th {\n",
       "        vertical-align: top;\n",
       "    }\n",
       "\n",
       "    .dataframe thead th {\n",
       "        text-align: right;\n",
       "    }\n",
       "</style>\n",
       "<table border=\"1\" class=\"dataframe\">\n",
       "  <thead>\n",
       "    <tr style=\"text-align: right;\">\n",
       "      <th></th>\n",
       "      <th>route_primary_direction</th>\n",
       "      <th>route_long_name</th>\n",
       "      <th>route_short_name</th>\n",
       "      <th>route_combined_name</th>\n",
       "      <th>route_id</th>\n",
       "      <th>typology</th>\n",
       "    </tr>\n",
       "  </thead>\n",
       "  <tbody>\n",
       "    <tr>\n",
       "      <th>166079</th>\n",
       "      <td>Eastbound</td>\n",
       "      <td>Harbor Bay</td>\n",
       "      <td>HB</td>\n",
       "      <td>HB Harbor Bay</td>\n",
       "      <td>HB</td>\n",
       "      <td>unknown</td>\n",
       "    </tr>\n",
       "    <tr>\n",
       "      <th>166091</th>\n",
       "      <td>Westbound</td>\n",
       "      <td>Harbor Bay</td>\n",
       "      <td>HB</td>\n",
       "      <td>HB Harbor Bay</td>\n",
       "      <td>HB</td>\n",
       "      <td>unknown</td>\n",
       "    </tr>\n",
       "    <tr>\n",
       "      <th>166103</th>\n",
       "      <td>Eastbound</td>\n",
       "      <td>Oakland &amp; Alameda</td>\n",
       "      <td>OA</td>\n",
       "      <td>OA Oakland &amp; Alameda</td>\n",
       "      <td>OA</td>\n",
       "      <td>unknown</td>\n",
       "    </tr>\n",
       "    <tr>\n",
       "      <th>166115</th>\n",
       "      <td>Westbound</td>\n",
       "      <td>Oakland &amp; Alameda</td>\n",
       "      <td>OA</td>\n",
       "      <td>OA Oakland &amp; Alameda</td>\n",
       "      <td>OA</td>\n",
       "      <td>unknown</td>\n",
       "    </tr>\n",
       "    <tr>\n",
       "      <th>166127</th>\n",
       "      <td>Northbound</td>\n",
       "      <td>Oakland Alameda Water Shuttle</td>\n",
       "      <td>OAS</td>\n",
       "      <td>OAS Oakland Alameda Water Shuttle</td>\n",
       "      <td>OAS</td>\n",
       "      <td>unknown</td>\n",
       "    </tr>\n",
       "    <tr>\n",
       "      <th>166139</th>\n",
       "      <td>Southbound</td>\n",
       "      <td>Oakland Alameda Water Shuttle</td>\n",
       "      <td>OAS</td>\n",
       "      <td>OAS Oakland Alameda Water Shuttle</td>\n",
       "      <td>OAS</td>\n",
       "      <td>unknown</td>\n",
       "    </tr>\n",
       "    <tr>\n",
       "      <th>166151</th>\n",
       "      <td>Northbound</td>\n",
       "      <td>Richmond</td>\n",
       "      <td>RCH</td>\n",
       "      <td>RCH Richmond</td>\n",
       "      <td>RCH</td>\n",
       "      <td>unknown</td>\n",
       "    </tr>\n",
       "    <tr>\n",
       "      <th>166163</th>\n",
       "      <td>Southbound</td>\n",
       "      <td>Richmond</td>\n",
       "      <td>RCH</td>\n",
       "      <td>RCH Richmond</td>\n",
       "      <td>RCH</td>\n",
       "      <td>unknown</td>\n",
       "    </tr>\n",
       "    <tr>\n",
       "      <th>166175</th>\n",
       "      <td>Eastbound</td>\n",
       "      <td>Alameda Seaplane</td>\n",
       "      <td>SEA</td>\n",
       "      <td>SEA Alameda Seaplane</td>\n",
       "      <td>SEA</td>\n",
       "      <td>unknown</td>\n",
       "    </tr>\n",
       "    <tr>\n",
       "      <th>166187</th>\n",
       "      <td>Westbound</td>\n",
       "      <td>Alameda Seaplane</td>\n",
       "      <td>SEA</td>\n",
       "      <td>SEA Alameda Seaplane</td>\n",
       "      <td>SEA</td>\n",
       "      <td>unknown</td>\n",
       "    </tr>\n",
       "    <tr>\n",
       "      <th>166199</th>\n",
       "      <td>Northbound</td>\n",
       "      <td>South San Francisco</td>\n",
       "      <td>SSF</td>\n",
       "      <td>SSF South San Francisco</td>\n",
       "      <td>SSF</td>\n",
       "      <td>unknown</td>\n",
       "    </tr>\n",
       "    <tr>\n",
       "      <th>166207</th>\n",
       "      <td>Southbound</td>\n",
       "      <td>South San Francisco</td>\n",
       "      <td>SSF</td>\n",
       "      <td>SSF South San Francisco</td>\n",
       "      <td>SSF</td>\n",
       "      <td>unknown</td>\n",
       "    </tr>\n",
       "    <tr>\n",
       "      <th>166219</th>\n",
       "      <td>Northbound</td>\n",
       "      <td>Vallejo</td>\n",
       "      <td>VJO</td>\n",
       "      <td>VJO Vallejo</td>\n",
       "      <td>VJO</td>\n",
       "      <td>unknown</td>\n",
       "    </tr>\n",
       "    <tr>\n",
       "      <th>166231</th>\n",
       "      <td>Southbound</td>\n",
       "      <td>Vallejo</td>\n",
       "      <td>VJO</td>\n",
       "      <td>VJO Vallejo</td>\n",
       "      <td>VJO</td>\n",
       "      <td>unknown</td>\n",
       "    </tr>\n",
       "    <tr>\n",
       "      <th>339700</th>\n",
       "      <td>Eastbound</td>\n",
       "      <td>Harbor Bay</td>\n",
       "      <td>HB</td>\n",
       "      <td>HB Harbor Bay</td>\n",
       "      <td>HB</td>\n",
       "      <td>None</td>\n",
       "    </tr>\n",
       "    <tr>\n",
       "      <th>339712</th>\n",
       "      <td>Westbound</td>\n",
       "      <td>Harbor Bay</td>\n",
       "      <td>HB</td>\n",
       "      <td>HB Harbor Bay</td>\n",
       "      <td>HB</td>\n",
       "      <td>None</td>\n",
       "    </tr>\n",
       "    <tr>\n",
       "      <th>339724</th>\n",
       "      <td>Eastbound</td>\n",
       "      <td>Oakland &amp; Alameda</td>\n",
       "      <td>OA</td>\n",
       "      <td>OA Oakland &amp; Alameda</td>\n",
       "      <td>OA</td>\n",
       "      <td>None</td>\n",
       "    </tr>\n",
       "    <tr>\n",
       "      <th>339736</th>\n",
       "      <td>Westbound</td>\n",
       "      <td>Oakland &amp; Alameda</td>\n",
       "      <td>OA</td>\n",
       "      <td>OA Oakland &amp; Alameda</td>\n",
       "      <td>OA</td>\n",
       "      <td>None</td>\n",
       "    </tr>\n",
       "    <tr>\n",
       "      <th>339748</th>\n",
       "      <td>Northbound</td>\n",
       "      <td>Oakland Alameda Water Shuttle</td>\n",
       "      <td>OAS</td>\n",
       "      <td>OAS Oakland Alameda Water Shuttle</td>\n",
       "      <td>OAS</td>\n",
       "      <td>None</td>\n",
       "    </tr>\n",
       "    <tr>\n",
       "      <th>339760</th>\n",
       "      <td>Southbound</td>\n",
       "      <td>Oakland Alameda Water Shuttle</td>\n",
       "      <td>OAS</td>\n",
       "      <td>OAS Oakland Alameda Water Shuttle</td>\n",
       "      <td>OAS</td>\n",
       "      <td>None</td>\n",
       "    </tr>\n",
       "    <tr>\n",
       "      <th>339772</th>\n",
       "      <td>Northbound</td>\n",
       "      <td>Richmond</td>\n",
       "      <td>RCH</td>\n",
       "      <td>RCH Richmond</td>\n",
       "      <td>RCH</td>\n",
       "      <td>None</td>\n",
       "    </tr>\n",
       "    <tr>\n",
       "      <th>339784</th>\n",
       "      <td>Southbound</td>\n",
       "      <td>Richmond</td>\n",
       "      <td>RCH</td>\n",
       "      <td>RCH Richmond</td>\n",
       "      <td>RCH</td>\n",
       "      <td>None</td>\n",
       "    </tr>\n",
       "    <tr>\n",
       "      <th>339796</th>\n",
       "      <td>Eastbound</td>\n",
       "      <td>Alameda Seaplane</td>\n",
       "      <td>SEA</td>\n",
       "      <td>SEA Alameda Seaplane</td>\n",
       "      <td>SEA</td>\n",
       "      <td>None</td>\n",
       "    </tr>\n",
       "    <tr>\n",
       "      <th>339808</th>\n",
       "      <td>Westbound</td>\n",
       "      <td>Alameda Seaplane</td>\n",
       "      <td>SEA</td>\n",
       "      <td>SEA Alameda Seaplane</td>\n",
       "      <td>SEA</td>\n",
       "      <td>None</td>\n",
       "    </tr>\n",
       "    <tr>\n",
       "      <th>339820</th>\n",
       "      <td>Northbound</td>\n",
       "      <td>South San Francisco</td>\n",
       "      <td>SSF</td>\n",
       "      <td>SSF South San Francisco</td>\n",
       "      <td>SSF</td>\n",
       "      <td>None</td>\n",
       "    </tr>\n",
       "    <tr>\n",
       "      <th>339828</th>\n",
       "      <td>Southbound</td>\n",
       "      <td>South San Francisco</td>\n",
       "      <td>SSF</td>\n",
       "      <td>SSF South San Francisco</td>\n",
       "      <td>SSF</td>\n",
       "      <td>None</td>\n",
       "    </tr>\n",
       "    <tr>\n",
       "      <th>339840</th>\n",
       "      <td>Northbound</td>\n",
       "      <td>Vallejo</td>\n",
       "      <td>VJO</td>\n",
       "      <td>VJO Vallejo</td>\n",
       "      <td>VJO</td>\n",
       "      <td>None</td>\n",
       "    </tr>\n",
       "    <tr>\n",
       "      <th>339852</th>\n",
       "      <td>Southbound</td>\n",
       "      <td>Vallejo</td>\n",
       "      <td>VJO</td>\n",
       "      <td>VJO Vallejo</td>\n",
       "      <td>VJO</td>\n",
       "      <td>None</td>\n",
       "    </tr>\n",
       "  </tbody>\n",
       "</table>\n",
       "</div>"
      ],
      "text/plain": [
       "       route_primary_direction                route_long_name  \\\n",
       "166079               Eastbound                     Harbor Bay   \n",
       "166091               Westbound                     Harbor Bay   \n",
       "166103               Eastbound              Oakland & Alameda   \n",
       "166115               Westbound              Oakland & Alameda   \n",
       "166127              Northbound  Oakland Alameda Water Shuttle   \n",
       "166139              Southbound  Oakland Alameda Water Shuttle   \n",
       "166151              Northbound                       Richmond   \n",
       "166163              Southbound                       Richmond   \n",
       "166175               Eastbound               Alameda Seaplane   \n",
       "166187               Westbound               Alameda Seaplane   \n",
       "166199              Northbound            South San Francisco   \n",
       "166207              Southbound            South San Francisco   \n",
       "166219              Northbound                        Vallejo   \n",
       "166231              Southbound                        Vallejo   \n",
       "339700               Eastbound                     Harbor Bay   \n",
       "339712               Westbound                     Harbor Bay   \n",
       "339724               Eastbound              Oakland & Alameda   \n",
       "339736               Westbound              Oakland & Alameda   \n",
       "339748              Northbound  Oakland Alameda Water Shuttle   \n",
       "339760              Southbound  Oakland Alameda Water Shuttle   \n",
       "339772              Northbound                       Richmond   \n",
       "339784              Southbound                       Richmond   \n",
       "339796               Eastbound               Alameda Seaplane   \n",
       "339808               Westbound               Alameda Seaplane   \n",
       "339820              Northbound            South San Francisco   \n",
       "339828              Southbound            South San Francisco   \n",
       "339840              Northbound                        Vallejo   \n",
       "339852              Southbound                        Vallejo   \n",
       "\n",
       "       route_short_name                route_combined_name route_id typology  \n",
       "166079               HB                      HB Harbor Bay       HB  unknown  \n",
       "166091               HB                      HB Harbor Bay       HB  unknown  \n",
       "166103               OA               OA Oakland & Alameda       OA  unknown  \n",
       "166115               OA               OA Oakland & Alameda       OA  unknown  \n",
       "166127              OAS  OAS Oakland Alameda Water Shuttle      OAS  unknown  \n",
       "166139              OAS  OAS Oakland Alameda Water Shuttle      OAS  unknown  \n",
       "166151              RCH                       RCH Richmond      RCH  unknown  \n",
       "166163              RCH                       RCH Richmond      RCH  unknown  \n",
       "166175              SEA               SEA Alameda Seaplane      SEA  unknown  \n",
       "166187              SEA               SEA Alameda Seaplane      SEA  unknown  \n",
       "166199              SSF            SSF South San Francisco      SSF  unknown  \n",
       "166207              SSF            SSF South San Francisco      SSF  unknown  \n",
       "166219              VJO                        VJO Vallejo      VJO  unknown  \n",
       "166231              VJO                        VJO Vallejo      VJO  unknown  \n",
       "339700               HB                      HB Harbor Bay       HB     None  \n",
       "339712               HB                      HB Harbor Bay       HB     None  \n",
       "339724               OA               OA Oakland & Alameda       OA     None  \n",
       "339736               OA               OA Oakland & Alameda       OA     None  \n",
       "339748              OAS  OAS Oakland Alameda Water Shuttle      OAS     None  \n",
       "339760              OAS  OAS Oakland Alameda Water Shuttle      OAS     None  \n",
       "339772              RCH                       RCH Richmond      RCH     None  \n",
       "339784              RCH                       RCH Richmond      RCH     None  \n",
       "339796              SEA               SEA Alameda Seaplane      SEA     None  \n",
       "339808              SEA               SEA Alameda Seaplane      SEA     None  \n",
       "339820              SSF            SSF South San Francisco      SSF     None  \n",
       "339828              SSF            SSF South San Francisco      SSF     None  \n",
       "339840              VJO                        VJO Vallejo      VJO     None  \n",
       "339852              VJO                        VJO Vallejo      VJO     None  "
      ]
     },
     "execution_count": 26,
     "metadata": {},
     "output_type": "execute_result"
    }
   ],
   "source": [
    "city_of_alameda_df[\n",
    "    [\n",
    "        \"route_primary_direction\",\n",
    "        \"route_long_name\",\n",
    "        \"route_short_name\",\n",
    "        \"route_combined_name\",\n",
    "        \"route_id\",\n",
    "        \"typology\",\n",
    "    ]\n",
    "].drop_duplicates()"
   ]
  },
  {
   "cell_type": "code",
   "execution_count": 27,
   "id": "5c92dceb-72a5-4d48-bd83-fbc4b96790c3",
   "metadata": {
    "tags": []
   },
   "outputs": [
    {
     "data": {
      "text/plain": [
       "array(['82f30e22dafe8156367297eb9a316c57'], dtype=object)"
      ]
     },
     "execution_count": 27,
     "metadata": {},
     "output_type": "execute_result"
    }
   ],
   "source": [
    "city_of_alameda_df.schedule_gtfs_dataset_key.unique()"
   ]
  },
  {
   "cell_type": "code",
   "execution_count": 28,
   "id": "78a9eacd-1739-4e9e-b2fe-e350fe3b6d03",
   "metadata": {
    "tags": []
   },
   "outputs": [
    {
     "data": {
      "text/plain": [
       "Index(['schedule_gtfs_dataset_key', 'direction_id', 'time_period',\n",
       "       'avg_scheduled_service_minutes', 'avg_stop_miles', 'n_scheduled_trips',\n",
       "       'frequency', 'is_express', 'is_rapid', 'is_rail', 'is_coverage',\n",
       "       'is_downtown_local', 'is_local', 'service_date', 'typology',\n",
       "       'minutes_atleast1_vp', 'minutes_atleast2_vp',\n",
       "       'total_rt_service_minutes', 'total_scheduled_service_minutes',\n",
       "       'total_vp', 'vp_in_shape', 'is_early', 'is_ontime', 'is_late',\n",
       "       'n_vp_trips', 'vp_per_minute', 'pct_in_shape',\n",
       "       'pct_rt_journey_atleast1_vp', 'pct_rt_journey_atleast2_vp',\n",
       "       'pct_sched_journey_atleast1_vp', 'pct_sched_journey_atleast2_vp',\n",
       "       'rt_sched_journey_ratio', 'avg_rt_service_minutes', 'sched_rt_category',\n",
       "       'speed_mph', 'route_long_name', 'route_short_name',\n",
       "       'route_combined_name', 'route_id', 'base64_url',\n",
       "       'organization_source_record_id', 'organization_name',\n",
       "       'caltrans_district', 'route_primary_direction', 'name',\n",
       "       'schedule_source_record_id'],\n",
       "      dtype='object')"
      ]
     },
     "execution_count": 28,
     "metadata": {},
     "output_type": "execute_result"
    }
   ],
   "source": [
    "city_of_alameda_df.columns"
   ]
  },
  {
   "cell_type": "markdown",
   "id": "846e2f7c-7d06-4c6d-8d5a-1c1622f8c94b",
   "metadata": {},
   "source": [
    "#### No ferry typologies."
   ]
  },
  {
   "cell_type": "code",
   "execution_count": 29,
   "id": "7485f8dd-5cd5-4ee2-82cb-34300908411c",
   "metadata": {
    "tags": []
   },
   "outputs": [
    {
     "data": {
      "text/html": [
       "<div>\n",
       "<style scoped>\n",
       "    .dataframe tbody tr th:only-of-type {\n",
       "        vertical-align: middle;\n",
       "    }\n",
       "\n",
       "    .dataframe tbody tr th {\n",
       "        vertical-align: top;\n",
       "    }\n",
       "\n",
       "    .dataframe thead th {\n",
       "        text-align: right;\n",
       "    }\n",
       "</style>\n",
       "<table border=\"1\" class=\"dataframe\">\n",
       "  <thead>\n",
       "    <tr style=\"text-align: right;\">\n",
       "      <th></th>\n",
       "      <th>schedule_gtfs_dataset_key</th>\n",
       "      <th>name</th>\n",
       "      <th>route_type</th>\n",
       "      <th>route_id</th>\n",
       "      <th>route_long_name</th>\n",
       "      <th>route_short_name</th>\n",
       "      <th>combined_name</th>\n",
       "      <th>is_express</th>\n",
       "      <th>is_rapid</th>\n",
       "      <th>is_rail</th>\n",
       "      <th>is_local</th>\n",
       "      <th>direction_id</th>\n",
       "      <th>common_shape_id</th>\n",
       "      <th>route_name</th>\n",
       "      <th>route_meters</th>\n",
       "      <th>is_coverage</th>\n",
       "      <th>is_downtown_local</th>\n",
       "    </tr>\n",
       "  </thead>\n",
       "  <tbody>\n",
       "  </tbody>\n",
       "</table>\n",
       "</div>"
      ],
      "text/plain": [
       "Empty DataFrame\n",
       "Columns: [schedule_gtfs_dataset_key, name, route_type, route_id, route_long_name, route_short_name, combined_name, is_express, is_rapid, is_rail, is_local, direction_id, common_shape_id, route_name, route_meters, is_coverage, is_downtown_local]\n",
       "Index: []"
      ]
     },
     "execution_count": 29,
     "metadata": {},
     "output_type": "execute_result"
    }
   ],
   "source": [
    "route_typologies.loc[\n",
    "    route_typologies.schedule_gtfs_dataset_key == \"82f30e22dafe8156367297eb9a316c57\"\n",
    "]"
   ]
  },
  {
   "cell_type": "markdown",
   "id": "ed769df9-d493-4ffc-8341-69c9ece98f47",
   "metadata": {},
   "source": [
    "### San Francisco Bay Area Water Emergency Transit Authority\n",
    "* Duplicates City of Alameda data except for Oyster Bay."
   ]
  },
  {
   "cell_type": "code",
   "execution_count": 30,
   "id": "9f1fbb8b-36e9-45d4-a28b-6cc7badc16f8",
   "metadata": {
    "tags": []
   },
   "outputs": [],
   "source": [
    "weta_df = pd.read_parquet(\n",
    "    schd_vp_url,\n",
    "    filters=[\n",
    "        [\n",
    "            (\n",
    "                \"organization_name\",\n",
    "                \"==\",\n",
    "                \"San Francisco Bay Area Water Emergency Transit Authority\",\n",
    "            ),\n",
    "        ]\n",
    "    ],\n",
    ")"
   ]
  },
  {
   "cell_type": "code",
   "execution_count": 31,
   "id": "4d42a8ca-0c53-44b0-bf4b-5339b5b77e58",
   "metadata": {
    "tags": []
   },
   "outputs": [
    {
     "data": {
      "text/html": [
       "<div>\n",
       "<style scoped>\n",
       "    .dataframe tbody tr th:only-of-type {\n",
       "        vertical-align: middle;\n",
       "    }\n",
       "\n",
       "    .dataframe tbody tr th {\n",
       "        vertical-align: top;\n",
       "    }\n",
       "\n",
       "    .dataframe thead th {\n",
       "        text-align: right;\n",
       "    }\n",
       "</style>\n",
       "<table border=\"1\" class=\"dataframe\">\n",
       "  <thead>\n",
       "    <tr style=\"text-align: right;\">\n",
       "      <th></th>\n",
       "      <th>route_primary_direction</th>\n",
       "      <th>route_long_name</th>\n",
       "      <th>route_short_name</th>\n",
       "      <th>route_combined_name</th>\n",
       "      <th>route_id</th>\n",
       "      <th>typology</th>\n",
       "    </tr>\n",
       "  </thead>\n",
       "  <tbody>\n",
       "    <tr>\n",
       "      <th>166080</th>\n",
       "      <td>Eastbound</td>\n",
       "      <td>Harbor Bay</td>\n",
       "      <td>HB</td>\n",
       "      <td>HB Harbor Bay</td>\n",
       "      <td>HB</td>\n",
       "      <td>unknown</td>\n",
       "    </tr>\n",
       "    <tr>\n",
       "      <th>166092</th>\n",
       "      <td>Westbound</td>\n",
       "      <td>Harbor Bay</td>\n",
       "      <td>HB</td>\n",
       "      <td>HB Harbor Bay</td>\n",
       "      <td>HB</td>\n",
       "      <td>unknown</td>\n",
       "    </tr>\n",
       "    <tr>\n",
       "      <th>166104</th>\n",
       "      <td>Eastbound</td>\n",
       "      <td>Oakland &amp; Alameda</td>\n",
       "      <td>OA</td>\n",
       "      <td>OA Oakland &amp; Alameda</td>\n",
       "      <td>OA</td>\n",
       "      <td>unknown</td>\n",
       "    </tr>\n",
       "    <tr>\n",
       "      <th>166116</th>\n",
       "      <td>Westbound</td>\n",
       "      <td>Oakland &amp; Alameda</td>\n",
       "      <td>OA</td>\n",
       "      <td>OA Oakland &amp; Alameda</td>\n",
       "      <td>OA</td>\n",
       "      <td>unknown</td>\n",
       "    </tr>\n",
       "    <tr>\n",
       "      <th>166128</th>\n",
       "      <td>Northbound</td>\n",
       "      <td>Oakland Alameda Water Shuttle</td>\n",
       "      <td>OAS</td>\n",
       "      <td>OAS Oakland Alameda Water Shuttle</td>\n",
       "      <td>OAS</td>\n",
       "      <td>unknown</td>\n",
       "    </tr>\n",
       "    <tr>\n",
       "      <th>166140</th>\n",
       "      <td>Southbound</td>\n",
       "      <td>Oakland Alameda Water Shuttle</td>\n",
       "      <td>OAS</td>\n",
       "      <td>OAS Oakland Alameda Water Shuttle</td>\n",
       "      <td>OAS</td>\n",
       "      <td>unknown</td>\n",
       "    </tr>\n",
       "    <tr>\n",
       "      <th>166152</th>\n",
       "      <td>Northbound</td>\n",
       "      <td>Richmond</td>\n",
       "      <td>RCH</td>\n",
       "      <td>RCH Richmond</td>\n",
       "      <td>RCH</td>\n",
       "      <td>unknown</td>\n",
       "    </tr>\n",
       "    <tr>\n",
       "      <th>166164</th>\n",
       "      <td>Southbound</td>\n",
       "      <td>Richmond</td>\n",
       "      <td>RCH</td>\n",
       "      <td>RCH Richmond</td>\n",
       "      <td>RCH</td>\n",
       "      <td>unknown</td>\n",
       "    </tr>\n",
       "    <tr>\n",
       "      <th>166176</th>\n",
       "      <td>Eastbound</td>\n",
       "      <td>Alameda Seaplane</td>\n",
       "      <td>SEA</td>\n",
       "      <td>SEA Alameda Seaplane</td>\n",
       "      <td>SEA</td>\n",
       "      <td>unknown</td>\n",
       "    </tr>\n",
       "    <tr>\n",
       "      <th>166188</th>\n",
       "      <td>Westbound</td>\n",
       "      <td>Alameda Seaplane</td>\n",
       "      <td>SEA</td>\n",
       "      <td>SEA Alameda Seaplane</td>\n",
       "      <td>SEA</td>\n",
       "      <td>unknown</td>\n",
       "    </tr>\n",
       "    <tr>\n",
       "      <th>166200</th>\n",
       "      <td>Northbound</td>\n",
       "      <td>South San Francisco</td>\n",
       "      <td>SSF</td>\n",
       "      <td>SSF South San Francisco</td>\n",
       "      <td>SSF</td>\n",
       "      <td>unknown</td>\n",
       "    </tr>\n",
       "    <tr>\n",
       "      <th>166208</th>\n",
       "      <td>Southbound</td>\n",
       "      <td>South San Francisco</td>\n",
       "      <td>SSF</td>\n",
       "      <td>SSF South San Francisco</td>\n",
       "      <td>SSF</td>\n",
       "      <td>unknown</td>\n",
       "    </tr>\n",
       "    <tr>\n",
       "      <th>166220</th>\n",
       "      <td>Northbound</td>\n",
       "      <td>Vallejo</td>\n",
       "      <td>VJO</td>\n",
       "      <td>VJO Vallejo</td>\n",
       "      <td>VJO</td>\n",
       "      <td>unknown</td>\n",
       "    </tr>\n",
       "    <tr>\n",
       "      <th>166232</th>\n",
       "      <td>Southbound</td>\n",
       "      <td>Vallejo</td>\n",
       "      <td>VJO</td>\n",
       "      <td>VJO Vallejo</td>\n",
       "      <td>VJO</td>\n",
       "      <td>unknown</td>\n",
       "    </tr>\n",
       "    <tr>\n",
       "      <th>339699</th>\n",
       "      <td>Eastbound</td>\n",
       "      <td>Harbor Bay</td>\n",
       "      <td>HB</td>\n",
       "      <td>HB Harbor Bay</td>\n",
       "      <td>HB</td>\n",
       "      <td>None</td>\n",
       "    </tr>\n",
       "    <tr>\n",
       "      <th>339711</th>\n",
       "      <td>Westbound</td>\n",
       "      <td>Harbor Bay</td>\n",
       "      <td>HB</td>\n",
       "      <td>HB Harbor Bay</td>\n",
       "      <td>HB</td>\n",
       "      <td>None</td>\n",
       "    </tr>\n",
       "    <tr>\n",
       "      <th>339723</th>\n",
       "      <td>Eastbound</td>\n",
       "      <td>Oakland &amp; Alameda</td>\n",
       "      <td>OA</td>\n",
       "      <td>OA Oakland &amp; Alameda</td>\n",
       "      <td>OA</td>\n",
       "      <td>None</td>\n",
       "    </tr>\n",
       "    <tr>\n",
       "      <th>339735</th>\n",
       "      <td>Westbound</td>\n",
       "      <td>Oakland &amp; Alameda</td>\n",
       "      <td>OA</td>\n",
       "      <td>OA Oakland &amp; Alameda</td>\n",
       "      <td>OA</td>\n",
       "      <td>None</td>\n",
       "    </tr>\n",
       "    <tr>\n",
       "      <th>339747</th>\n",
       "      <td>Northbound</td>\n",
       "      <td>Oakland Alameda Water Shuttle</td>\n",
       "      <td>OAS</td>\n",
       "      <td>OAS Oakland Alameda Water Shuttle</td>\n",
       "      <td>OAS</td>\n",
       "      <td>None</td>\n",
       "    </tr>\n",
       "    <tr>\n",
       "      <th>339759</th>\n",
       "      <td>Southbound</td>\n",
       "      <td>Oakland Alameda Water Shuttle</td>\n",
       "      <td>OAS</td>\n",
       "      <td>OAS Oakland Alameda Water Shuttle</td>\n",
       "      <td>OAS</td>\n",
       "      <td>None</td>\n",
       "    </tr>\n",
       "    <tr>\n",
       "      <th>339771</th>\n",
       "      <td>Northbound</td>\n",
       "      <td>Richmond</td>\n",
       "      <td>RCH</td>\n",
       "      <td>RCH Richmond</td>\n",
       "      <td>RCH</td>\n",
       "      <td>None</td>\n",
       "    </tr>\n",
       "    <tr>\n",
       "      <th>339783</th>\n",
       "      <td>Southbound</td>\n",
       "      <td>Richmond</td>\n",
       "      <td>RCH</td>\n",
       "      <td>RCH Richmond</td>\n",
       "      <td>RCH</td>\n",
       "      <td>None</td>\n",
       "    </tr>\n",
       "    <tr>\n",
       "      <th>339795</th>\n",
       "      <td>Eastbound</td>\n",
       "      <td>Alameda Seaplane</td>\n",
       "      <td>SEA</td>\n",
       "      <td>SEA Alameda Seaplane</td>\n",
       "      <td>SEA</td>\n",
       "      <td>None</td>\n",
       "    </tr>\n",
       "    <tr>\n",
       "      <th>339807</th>\n",
       "      <td>Westbound</td>\n",
       "      <td>Alameda Seaplane</td>\n",
       "      <td>SEA</td>\n",
       "      <td>SEA Alameda Seaplane</td>\n",
       "      <td>SEA</td>\n",
       "      <td>None</td>\n",
       "    </tr>\n",
       "    <tr>\n",
       "      <th>339819</th>\n",
       "      <td>Northbound</td>\n",
       "      <td>South San Francisco</td>\n",
       "      <td>SSF</td>\n",
       "      <td>SSF South San Francisco</td>\n",
       "      <td>SSF</td>\n",
       "      <td>None</td>\n",
       "    </tr>\n",
       "    <tr>\n",
       "      <th>339827</th>\n",
       "      <td>Southbound</td>\n",
       "      <td>South San Francisco</td>\n",
       "      <td>SSF</td>\n",
       "      <td>SSF South San Francisco</td>\n",
       "      <td>SSF</td>\n",
       "      <td>None</td>\n",
       "    </tr>\n",
       "    <tr>\n",
       "      <th>339839</th>\n",
       "      <td>Northbound</td>\n",
       "      <td>Vallejo</td>\n",
       "      <td>VJO</td>\n",
       "      <td>VJO Vallejo</td>\n",
       "      <td>VJO</td>\n",
       "      <td>None</td>\n",
       "    </tr>\n",
       "    <tr>\n",
       "      <th>339851</th>\n",
       "      <td>Southbound</td>\n",
       "      <td>Vallejo</td>\n",
       "      <td>VJO</td>\n",
       "      <td>VJO Vallejo</td>\n",
       "      <td>VJO</td>\n",
       "      <td>None</td>\n",
       "    </tr>\n",
       "    <tr>\n",
       "      <th>347066</th>\n",
       "      <td>None</td>\n",
       "      <td>Oyster Point Limited</td>\n",
       "      <td>OPL</td>\n",
       "      <td>OPL Oyster Point Limited</td>\n",
       "      <td>OPL</td>\n",
       "      <td>None</td>\n",
       "    </tr>\n",
       "  </tbody>\n",
       "</table>\n",
       "</div>"
      ],
      "text/plain": [
       "       route_primary_direction                route_long_name  \\\n",
       "166080               Eastbound                     Harbor Bay   \n",
       "166092               Westbound                     Harbor Bay   \n",
       "166104               Eastbound              Oakland & Alameda   \n",
       "166116               Westbound              Oakland & Alameda   \n",
       "166128              Northbound  Oakland Alameda Water Shuttle   \n",
       "166140              Southbound  Oakland Alameda Water Shuttle   \n",
       "166152              Northbound                       Richmond   \n",
       "166164              Southbound                       Richmond   \n",
       "166176               Eastbound               Alameda Seaplane   \n",
       "166188               Westbound               Alameda Seaplane   \n",
       "166200              Northbound            South San Francisco   \n",
       "166208              Southbound            South San Francisco   \n",
       "166220              Northbound                        Vallejo   \n",
       "166232              Southbound                        Vallejo   \n",
       "339699               Eastbound                     Harbor Bay   \n",
       "339711               Westbound                     Harbor Bay   \n",
       "339723               Eastbound              Oakland & Alameda   \n",
       "339735               Westbound              Oakland & Alameda   \n",
       "339747              Northbound  Oakland Alameda Water Shuttle   \n",
       "339759              Southbound  Oakland Alameda Water Shuttle   \n",
       "339771              Northbound                       Richmond   \n",
       "339783              Southbound                       Richmond   \n",
       "339795               Eastbound               Alameda Seaplane   \n",
       "339807               Westbound               Alameda Seaplane   \n",
       "339819              Northbound            South San Francisco   \n",
       "339827              Southbound            South San Francisco   \n",
       "339839              Northbound                        Vallejo   \n",
       "339851              Southbound                        Vallejo   \n",
       "347066                    None           Oyster Point Limited   \n",
       "\n",
       "       route_short_name                route_combined_name route_id typology  \n",
       "166080               HB                      HB Harbor Bay       HB  unknown  \n",
       "166092               HB                      HB Harbor Bay       HB  unknown  \n",
       "166104               OA               OA Oakland & Alameda       OA  unknown  \n",
       "166116               OA               OA Oakland & Alameda       OA  unknown  \n",
       "166128              OAS  OAS Oakland Alameda Water Shuttle      OAS  unknown  \n",
       "166140              OAS  OAS Oakland Alameda Water Shuttle      OAS  unknown  \n",
       "166152              RCH                       RCH Richmond      RCH  unknown  \n",
       "166164              RCH                       RCH Richmond      RCH  unknown  \n",
       "166176              SEA               SEA Alameda Seaplane      SEA  unknown  \n",
       "166188              SEA               SEA Alameda Seaplane      SEA  unknown  \n",
       "166200              SSF            SSF South San Francisco      SSF  unknown  \n",
       "166208              SSF            SSF South San Francisco      SSF  unknown  \n",
       "166220              VJO                        VJO Vallejo      VJO  unknown  \n",
       "166232              VJO                        VJO Vallejo      VJO  unknown  \n",
       "339699               HB                      HB Harbor Bay       HB     None  \n",
       "339711               HB                      HB Harbor Bay       HB     None  \n",
       "339723               OA               OA Oakland & Alameda       OA     None  \n",
       "339735               OA               OA Oakland & Alameda       OA     None  \n",
       "339747              OAS  OAS Oakland Alameda Water Shuttle      OAS     None  \n",
       "339759              OAS  OAS Oakland Alameda Water Shuttle      OAS     None  \n",
       "339771              RCH                       RCH Richmond      RCH     None  \n",
       "339783              RCH                       RCH Richmond      RCH     None  \n",
       "339795              SEA               SEA Alameda Seaplane      SEA     None  \n",
       "339807              SEA               SEA Alameda Seaplane      SEA     None  \n",
       "339819              SSF            SSF South San Francisco      SSF     None  \n",
       "339827              SSF            SSF South San Francisco      SSF     None  \n",
       "339839              VJO                        VJO Vallejo      VJO     None  \n",
       "339851              VJO                        VJO Vallejo      VJO     None  \n",
       "347066              OPL           OPL Oyster Point Limited      OPL     None  "
      ]
     },
     "execution_count": 31,
     "metadata": {},
     "output_type": "execute_result"
    }
   ],
   "source": [
    "weta_df[\n",
    "    [\n",
    "        \"route_primary_direction\",\n",
    "        \"route_long_name\",\n",
    "        \"route_short_name\",\n",
    "        \"route_combined_name\",\n",
    "        \"route_id\",\n",
    "        \"typology\",\n",
    "    ]\n",
    "].drop_duplicates()"
   ]
  },
  {
   "cell_type": "markdown",
   "id": "3e5fb047-b0fd-4a2c-8fe3-7acd1b8c3520",
   "metadata": {},
   "source": [
    "### Golden Gate\n",
    "* Only Bus Routes.\n",
    "* This should be schedule too? "
   ]
  },
  {
   "cell_type": "code",
   "execution_count": 32,
   "id": "878151f7-343e-4d20-81e5-9333b4243051",
   "metadata": {
    "tags": []
   },
   "outputs": [],
   "source": [
    "goldengate_df = pd.read_parquet(\n",
    "    schd_vp_url,\n",
    "    filters=[\n",
    "        [\n",
    "            (\n",
    "                \"organization_name\",\n",
    "                \"==\",\n",
    "                \"Golden Gate Bridge, Highway and Transportation District\",\n",
    "            ),\n",
    "        ]\n",
    "    ],\n",
    ")"
   ]
  },
  {
   "cell_type": "code",
   "execution_count": 33,
   "id": "eca7bbe9-68da-44f2-b7b8-e6af23c1b57d",
   "metadata": {
    "tags": []
   },
   "outputs": [
    {
     "data": {
      "text/plain": [
       "vp_only            1163\n",
       "schedule_and_vp     124\n",
       "schedule_only        48\n",
       "Name: sched_rt_category, dtype: int64"
      ]
     },
     "execution_count": 33,
     "metadata": {},
     "output_type": "execute_result"
    }
   ],
   "source": [
    "goldengate_df.sched_rt_category.value_counts()"
   ]
  },
  {
   "cell_type": "code",
   "execution_count": 34,
   "id": "c1da7458-77f5-4377-8264-e71f9c613ba0",
   "metadata": {
    "tags": []
   },
   "outputs": [
    {
     "data": {
      "text/plain": [
       "Index(['schedule_gtfs_dataset_key', 'direction_id', 'time_period',\n",
       "       'avg_scheduled_service_minutes', 'avg_stop_miles', 'n_scheduled_trips',\n",
       "       'frequency', 'is_express', 'is_rapid', 'is_rail', 'is_coverage',\n",
       "       'is_downtown_local', 'is_local', 'service_date', 'typology',\n",
       "       'minutes_atleast1_vp', 'minutes_atleast2_vp',\n",
       "       'total_rt_service_minutes', 'total_scheduled_service_minutes',\n",
       "       'total_vp', 'vp_in_shape', 'is_early', 'is_ontime', 'is_late',\n",
       "       'n_vp_trips', 'vp_per_minute', 'pct_in_shape',\n",
       "       'pct_rt_journey_atleast1_vp', 'pct_rt_journey_atleast2_vp',\n",
       "       'pct_sched_journey_atleast1_vp', 'pct_sched_journey_atleast2_vp',\n",
       "       'rt_sched_journey_ratio', 'avg_rt_service_minutes', 'sched_rt_category',\n",
       "       'speed_mph', 'route_long_name', 'route_short_name',\n",
       "       'route_combined_name', 'route_id', 'base64_url',\n",
       "       'organization_source_record_id', 'organization_name',\n",
       "       'caltrans_district', 'route_primary_direction', 'name',\n",
       "       'schedule_source_record_id'],\n",
       "      dtype='object')"
      ]
     },
     "execution_count": 34,
     "metadata": {},
     "output_type": "execute_result"
    }
   ],
   "source": [
    "goldengate_df.columns"
   ]
  },
  {
   "cell_type": "code",
   "execution_count": 35,
   "id": "a3e306cd-feb6-4d4d-b32c-ea86cdbf85db",
   "metadata": {
    "tags": []
   },
   "outputs": [
    {
     "data": {
      "text/plain": [
       "array(['aea4108997c66a74fbdae27b34b69fde',\n",
       "       'ca270cd1ac30a9ec5336a11bc9223c41'], dtype=object)"
      ]
     },
     "execution_count": 35,
     "metadata": {},
     "output_type": "execute_result"
    }
   ],
   "source": [
    "goldengate_df.schedule_gtfs_dataset_key.unique()"
   ]
  },
  {
   "cell_type": "code",
   "execution_count": 36,
   "id": "42e3da60-abb0-472c-9232-3356effc55ac",
   "metadata": {
    "tags": []
   },
   "outputs": [
    {
     "data": {
      "text/html": [
       "<div>\n",
       "<style scoped>\n",
       "    .dataframe tbody tr th:only-of-type {\n",
       "        vertical-align: middle;\n",
       "    }\n",
       "\n",
       "    .dataframe tbody tr th {\n",
       "        vertical-align: top;\n",
       "    }\n",
       "\n",
       "    .dataframe thead th {\n",
       "        text-align: right;\n",
       "    }\n",
       "</style>\n",
       "<table border=\"1\" class=\"dataframe\">\n",
       "  <thead>\n",
       "    <tr style=\"text-align: right;\">\n",
       "      <th></th>\n",
       "      <th>route_primary_direction</th>\n",
       "      <th>route_long_name</th>\n",
       "      <th>route_short_name</th>\n",
       "      <th>route_combined_name</th>\n",
       "      <th>route_id</th>\n",
       "      <th>typology</th>\n",
       "    </tr>\n",
       "  </thead>\n",
       "  <tbody>\n",
       "    <tr>\n",
       "      <th>203465</th>\n",
       "      <td>Northbound</td>\n",
       "      <td>Santa Rosa - San Francisco</td>\n",
       "      <td>101</td>\n",
       "      <td>101 Santa Rosa - San Francisco</td>\n",
       "      <td>101</td>\n",
       "      <td>rapid</td>\n",
       "    </tr>\n",
       "    <tr>\n",
       "      <th>203471</th>\n",
       "      <td>Southbound</td>\n",
       "      <td>Santa Rosa - San Francisco</td>\n",
       "      <td>101</td>\n",
       "      <td>101 Santa Rosa - San Francisco</td>\n",
       "      <td>101</td>\n",
       "      <td>rapid</td>\n",
       "    </tr>\n",
       "    <tr>\n",
       "      <th>203477</th>\n",
       "      <td>Northbound</td>\n",
       "      <td>Mill Valley - San Francisco</td>\n",
       "      <td>114</td>\n",
       "      <td>114 Mill Valley - San Francisco</td>\n",
       "      <td>114</td>\n",
       "      <td>rapid</td>\n",
       "    </tr>\n",
       "    <tr>\n",
       "      <th>203483</th>\n",
       "      <td>Southbound</td>\n",
       "      <td>Mill Valley - San Francisco</td>\n",
       "      <td>114</td>\n",
       "      <td>114 Mill Valley - San Francisco</td>\n",
       "      <td>114</td>\n",
       "      <td>downtown_local</td>\n",
       "    </tr>\n",
       "    <tr>\n",
       "      <th>203489</th>\n",
       "      <td>Northbound</td>\n",
       "      <td>San Rafael - San Francisco</td>\n",
       "      <td>130</td>\n",
       "      <td>130 San Rafael - San Francisco</td>\n",
       "      <td>130</td>\n",
       "      <td>rapid</td>\n",
       "    </tr>\n",
       "    <tr>\n",
       "      <th>203495</th>\n",
       "      <td>Southbound</td>\n",
       "      <td>San Rafael - San Francisco</td>\n",
       "      <td>130</td>\n",
       "      <td>130 San Rafael - San Francisco</td>\n",
       "      <td>130</td>\n",
       "      <td>downtown_local</td>\n",
       "    </tr>\n",
       "    <tr>\n",
       "      <th>203501</th>\n",
       "      <td>Westbound</td>\n",
       "      <td>San Anselmo - San Francisco</td>\n",
       "      <td>132</td>\n",
       "      <td>132 San Anselmo - San Francisco</td>\n",
       "      <td>132</td>\n",
       "      <td>rapid</td>\n",
       "    </tr>\n",
       "    <tr>\n",
       "      <th>203505</th>\n",
       "      <td>Southbound</td>\n",
       "      <td>San Anselmo - San Francisco</td>\n",
       "      <td>132</td>\n",
       "      <td>132 San Anselmo - San Francisco</td>\n",
       "      <td>132</td>\n",
       "      <td>downtown_local</td>\n",
       "    </tr>\n",
       "    <tr>\n",
       "      <th>203511</th>\n",
       "      <td>Northbound</td>\n",
       "      <td>San Rafael - San Francisco</td>\n",
       "      <td>150</td>\n",
       "      <td>150 San Rafael - San Francisco</td>\n",
       "      <td>150</td>\n",
       "      <td>rapid</td>\n",
       "    </tr>\n",
       "    <tr>\n",
       "      <th>203517</th>\n",
       "      <td>Southbound</td>\n",
       "      <td>San Rafael - San Francisco</td>\n",
       "      <td>150</td>\n",
       "      <td>150 San Rafael - San Francisco</td>\n",
       "      <td>150</td>\n",
       "      <td>downtown_local</td>\n",
       "    </tr>\n",
       "    <tr>\n",
       "      <th>203523</th>\n",
       "      <td>Northbound</td>\n",
       "      <td>Novato - San Francisco</td>\n",
       "      <td>154</td>\n",
       "      <td>154 Novato - San Francisco</td>\n",
       "      <td>154</td>\n",
       "      <td>rapid</td>\n",
       "    </tr>\n",
       "    <tr>\n",
       "      <th>203527</th>\n",
       "      <td>Southbound</td>\n",
       "      <td>Novato - San Francisco</td>\n",
       "      <td>154</td>\n",
       "      <td>154 Novato - San Francisco</td>\n",
       "      <td>154</td>\n",
       "      <td>rapid</td>\n",
       "    </tr>\n",
       "    <tr>\n",
       "      <th>203533</th>\n",
       "      <td>Northbound</td>\n",
       "      <td>Petaluma - San Francisco</td>\n",
       "      <td>164</td>\n",
       "      <td>164 Petaluma - San Francisco</td>\n",
       "      <td>164</td>\n",
       "      <td>rapid</td>\n",
       "    </tr>\n",
       "    <tr>\n",
       "      <th>203537</th>\n",
       "      <td>Southbound</td>\n",
       "      <td>Petaluma - San Francisco</td>\n",
       "      <td>164</td>\n",
       "      <td>164 Petaluma - San Francisco</td>\n",
       "      <td>164</td>\n",
       "      <td>rapid</td>\n",
       "    </tr>\n",
       "    <tr>\n",
       "      <th>203543</th>\n",
       "      <td>Northbound</td>\n",
       "      <td>Santa Rosa - San Francisco</td>\n",
       "      <td>172</td>\n",
       "      <td>172 Santa Rosa - San Francisco</td>\n",
       "      <td>172</td>\n",
       "      <td>rapid</td>\n",
       "    </tr>\n",
       "    <tr>\n",
       "      <th>203549</th>\n",
       "      <td>Southbound</td>\n",
       "      <td>Santa Rosa - San Francisco</td>\n",
       "      <td>172</td>\n",
       "      <td>172 Santa Rosa - San Francisco</td>\n",
       "      <td>172</td>\n",
       "      <td>rapid</td>\n",
       "    </tr>\n",
       "    <tr>\n",
       "      <th>203555</th>\n",
       "      <td>Northbound</td>\n",
       "      <td>Santa Rosa - San Francisco Express</td>\n",
       "      <td>172X</td>\n",
       "      <td>172X Santa Rosa - San Francisco Express</td>\n",
       "      <td>172X</td>\n",
       "      <td>rapid</td>\n",
       "    </tr>\n",
       "    <tr>\n",
       "      <th>203559</th>\n",
       "      <td>Southbound</td>\n",
       "      <td>Santa Rosa - San Francisco Express</td>\n",
       "      <td>172X</td>\n",
       "      <td>172X Santa Rosa - San Francisco Express</td>\n",
       "      <td>172X</td>\n",
       "      <td>rapid</td>\n",
       "    </tr>\n",
       "    <tr>\n",
       "      <th>203563</th>\n",
       "      <td>Eastbound</td>\n",
       "      <td>Del Norte BART Station - San Rafael</td>\n",
       "      <td>580</td>\n",
       "      <td>580 Del Norte BART Station - San Rafael</td>\n",
       "      <td>580</td>\n",
       "      <td>rapid</td>\n",
       "    </tr>\n",
       "    <tr>\n",
       "      <th>203569</th>\n",
       "      <td>Westbound</td>\n",
       "      <td>Del Norte BART Station - San Rafael</td>\n",
       "      <td>580</td>\n",
       "      <td>580 Del Norte BART Station - San Rafael</td>\n",
       "      <td>580</td>\n",
       "      <td>rapid</td>\n",
       "    </tr>\n",
       "    <tr>\n",
       "      <th>203575</th>\n",
       "      <td>Eastbound</td>\n",
       "      <td>Del Norte BART Station - San Rafael Express</td>\n",
       "      <td>580X</td>\n",
       "      <td>580X Del Norte BART Station - San Rafael Express</td>\n",
       "      <td>580X</td>\n",
       "      <td>rapid</td>\n",
       "    </tr>\n",
       "    <tr>\n",
       "      <th>203579</th>\n",
       "      <td>Westbound</td>\n",
       "      <td>Del Norte BART Station - San Rafael Express</td>\n",
       "      <td>580X</td>\n",
       "      <td>580X Del Norte BART Station - San Rafael Express</td>\n",
       "      <td>580X</td>\n",
       "      <td>rapid</td>\n",
       "    </tr>\n",
       "    <tr>\n",
       "      <th>203585</th>\n",
       "      <td>Southbound</td>\n",
       "      <td>Del Norte BART Station - San Francisco</td>\n",
       "      <td>704</td>\n",
       "      <td>704 Del Norte BART Station - San Francisco</td>\n",
       "      <td>704</td>\n",
       "      <td>downtown_local</td>\n",
       "    </tr>\n",
       "    <tr>\n",
       "      <th>252951</th>\n",
       "      <td>Northbound</td>\n",
       "      <td>Angel Island - San Francisco Ferry</td>\n",
       "      <td>AISF</td>\n",
       "      <td>AISF Angel Island - San Francisco Ferry</td>\n",
       "      <td>AISF</td>\n",
       "      <td>unknown</td>\n",
       "    </tr>\n",
       "    <tr>\n",
       "      <th>252957</th>\n",
       "      <td>Southbound</td>\n",
       "      <td>Angel Island - San Francisco Ferry</td>\n",
       "      <td>AISF</td>\n",
       "      <td>AISF Angel Island - San Francisco Ferry</td>\n",
       "      <td>AISF</td>\n",
       "      <td>unknown</td>\n",
       "    </tr>\n",
       "    <tr>\n",
       "      <th>252963</th>\n",
       "      <td>Northbound</td>\n",
       "      <td>Larkspur - San Francisco Ferry</td>\n",
       "      <td>LSSF</td>\n",
       "      <td>LSSF Larkspur - San Francisco Ferry</td>\n",
       "      <td>LSSF</td>\n",
       "      <td>unknown</td>\n",
       "    </tr>\n",
       "    <tr>\n",
       "      <th>252969</th>\n",
       "      <td>Southbound</td>\n",
       "      <td>Larkspur - San Francisco Ferry</td>\n",
       "      <td>LSSF</td>\n",
       "      <td>LSSF Larkspur - San Francisco Ferry</td>\n",
       "      <td>LSSF</td>\n",
       "      <td>unknown</td>\n",
       "    </tr>\n",
       "    <tr>\n",
       "      <th>252975</th>\n",
       "      <td>Westbound</td>\n",
       "      <td>Sausalito - San Francisco Ferry</td>\n",
       "      <td>SSSF</td>\n",
       "      <td>SSSF Sausalito - San Francisco Ferry</td>\n",
       "      <td>SSSF</td>\n",
       "      <td>unknown</td>\n",
       "    </tr>\n",
       "    <tr>\n",
       "      <th>252981</th>\n",
       "      <td>Eastbound</td>\n",
       "      <td>Sausalito - San Francisco Ferry</td>\n",
       "      <td>SSSF</td>\n",
       "      <td>SSSF Sausalito - San Francisco Ferry</td>\n",
       "      <td>SSSF</td>\n",
       "      <td>unknown</td>\n",
       "    </tr>\n",
       "    <tr>\n",
       "      <th>252987</th>\n",
       "      <td>Northbound</td>\n",
       "      <td>Tiburon - San Francisco Ferry</td>\n",
       "      <td>TBSF</td>\n",
       "      <td>TBSF Tiburon - San Francisco Ferry</td>\n",
       "      <td>TBSF</td>\n",
       "      <td>unknown</td>\n",
       "    </tr>\n",
       "    <tr>\n",
       "      <th>252993</th>\n",
       "      <td>Southbound</td>\n",
       "      <td>Tiburon - San Francisco Ferry</td>\n",
       "      <td>TBSF</td>\n",
       "      <td>TBSF Tiburon - San Francisco Ferry</td>\n",
       "      <td>TBSF</td>\n",
       "      <td>unknown</td>\n",
       "    </tr>\n",
       "    <tr>\n",
       "      <th>340385</th>\n",
       "      <td>Northbound</td>\n",
       "      <td>Santa Rosa - San Francisco</td>\n",
       "      <td>101</td>\n",
       "      <td>101 Santa Rosa - San Francisco</td>\n",
       "      <td>101</td>\n",
       "      <td>None</td>\n",
       "    </tr>\n",
       "    <tr>\n",
       "      <th>340448</th>\n",
       "      <td>Southbound</td>\n",
       "      <td>Santa Rosa - San Francisco</td>\n",
       "      <td>101</td>\n",
       "      <td>101 Santa Rosa - San Francisco</td>\n",
       "      <td>101</td>\n",
       "      <td>None</td>\n",
       "    </tr>\n",
       "    <tr>\n",
       "      <th>340511</th>\n",
       "      <td>Northbound</td>\n",
       "      <td>Mill Valley - San Francisco</td>\n",
       "      <td>114</td>\n",
       "      <td>114 Mill Valley - San Francisco</td>\n",
       "      <td>114</td>\n",
       "      <td>None</td>\n",
       "    </tr>\n",
       "    <tr>\n",
       "      <th>340567</th>\n",
       "      <td>Southbound</td>\n",
       "      <td>Mill Valley - San Francisco</td>\n",
       "      <td>114</td>\n",
       "      <td>114 Mill Valley - San Francisco</td>\n",
       "      <td>114</td>\n",
       "      <td>None</td>\n",
       "    </tr>\n",
       "    <tr>\n",
       "      <th>340630</th>\n",
       "      <td>Northbound</td>\n",
       "      <td>San Rafael - San Francisco</td>\n",
       "      <td>130</td>\n",
       "      <td>130 San Rafael - San Francisco</td>\n",
       "      <td>130</td>\n",
       "      <td>None</td>\n",
       "    </tr>\n",
       "    <tr>\n",
       "      <th>340693</th>\n",
       "      <td>Southbound</td>\n",
       "      <td>San Rafael - San Francisco</td>\n",
       "      <td>130</td>\n",
       "      <td>130 San Rafael - San Francisco</td>\n",
       "      <td>130</td>\n",
       "      <td>None</td>\n",
       "    </tr>\n",
       "    <tr>\n",
       "      <th>340756</th>\n",
       "      <td>Westbound</td>\n",
       "      <td>San Anselmo - San Francisco</td>\n",
       "      <td>132</td>\n",
       "      <td>132 San Anselmo - San Francisco</td>\n",
       "      <td>132</td>\n",
       "      <td>None</td>\n",
       "    </tr>\n",
       "    <tr>\n",
       "      <th>340798</th>\n",
       "      <td>Southbound</td>\n",
       "      <td>San Anselmo - San Francisco</td>\n",
       "      <td>132</td>\n",
       "      <td>132 San Anselmo - San Francisco</td>\n",
       "      <td>132</td>\n",
       "      <td>None</td>\n",
       "    </tr>\n",
       "    <tr>\n",
       "      <th>340861</th>\n",
       "      <td>Northbound</td>\n",
       "      <td>San Rafael - San Francisco</td>\n",
       "      <td>150</td>\n",
       "      <td>150 San Rafael - San Francisco</td>\n",
       "      <td>150</td>\n",
       "      <td>None</td>\n",
       "    </tr>\n",
       "    <tr>\n",
       "      <th>340924</th>\n",
       "      <td>Southbound</td>\n",
       "      <td>San Rafael - San Francisco</td>\n",
       "      <td>150</td>\n",
       "      <td>150 San Rafael - San Francisco</td>\n",
       "      <td>150</td>\n",
       "      <td>None</td>\n",
       "    </tr>\n",
       "    <tr>\n",
       "      <th>340987</th>\n",
       "      <td>Northbound</td>\n",
       "      <td>Novato - San Francisco</td>\n",
       "      <td>154</td>\n",
       "      <td>154 Novato - San Francisco</td>\n",
       "      <td>154</td>\n",
       "      <td>None</td>\n",
       "    </tr>\n",
       "    <tr>\n",
       "      <th>341029</th>\n",
       "      <td>Southbound</td>\n",
       "      <td>Novato - San Francisco</td>\n",
       "      <td>154</td>\n",
       "      <td>154 Novato - San Francisco</td>\n",
       "      <td>154</td>\n",
       "      <td>None</td>\n",
       "    </tr>\n",
       "    <tr>\n",
       "      <th>341092</th>\n",
       "      <td>Northbound</td>\n",
       "      <td>Petaluma - San Francisco</td>\n",
       "      <td>164</td>\n",
       "      <td>164 Petaluma - San Francisco</td>\n",
       "      <td>164</td>\n",
       "      <td>None</td>\n",
       "    </tr>\n",
       "    <tr>\n",
       "      <th>341114</th>\n",
       "      <td>Southbound</td>\n",
       "      <td>Petaluma - San Francisco</td>\n",
       "      <td>164</td>\n",
       "      <td>164 Petaluma - San Francisco</td>\n",
       "      <td>164</td>\n",
       "      <td>None</td>\n",
       "    </tr>\n",
       "    <tr>\n",
       "      <th>341147</th>\n",
       "      <td>Northbound</td>\n",
       "      <td>Santa Rosa - San Francisco</td>\n",
       "      <td>172</td>\n",
       "      <td>172 Santa Rosa - San Francisco</td>\n",
       "      <td>172</td>\n",
       "      <td>None</td>\n",
       "    </tr>\n",
       "    <tr>\n",
       "      <th>341210</th>\n",
       "      <td>Southbound</td>\n",
       "      <td>Santa Rosa - San Francisco</td>\n",
       "      <td>172</td>\n",
       "      <td>172 Santa Rosa - San Francisco</td>\n",
       "      <td>172</td>\n",
       "      <td>None</td>\n",
       "    </tr>\n",
       "    <tr>\n",
       "      <th>341273</th>\n",
       "      <td>Northbound</td>\n",
       "      <td>Santa Rosa - San Francisco Express</td>\n",
       "      <td>172X</td>\n",
       "      <td>172X Santa Rosa - San Francisco Express</td>\n",
       "      <td>172X</td>\n",
       "      <td>None</td>\n",
       "    </tr>\n",
       "    <tr>\n",
       "      <th>341295</th>\n",
       "      <td>Southbound</td>\n",
       "      <td>Santa Rosa - San Francisco Express</td>\n",
       "      <td>172X</td>\n",
       "      <td>172X Santa Rosa - San Francisco Express</td>\n",
       "      <td>172X</td>\n",
       "      <td>None</td>\n",
       "    </tr>\n",
       "    <tr>\n",
       "      <th>341317</th>\n",
       "      <td>Eastbound</td>\n",
       "      <td>Del Norte BART Station - San Rafael</td>\n",
       "      <td>580</td>\n",
       "      <td>580 Del Norte BART Station - San Rafael</td>\n",
       "      <td>580</td>\n",
       "      <td>None</td>\n",
       "    </tr>\n",
       "    <tr>\n",
       "      <th>341380</th>\n",
       "      <td>Westbound</td>\n",
       "      <td>Del Norte BART Station - San Rafael</td>\n",
       "      <td>580</td>\n",
       "      <td>580 Del Norte BART Station - San Rafael</td>\n",
       "      <td>580</td>\n",
       "      <td>None</td>\n",
       "    </tr>\n",
       "    <tr>\n",
       "      <th>341443</th>\n",
       "      <td>Eastbound</td>\n",
       "      <td>Del Norte BART Station - San Rafael Express</td>\n",
       "      <td>580X</td>\n",
       "      <td>580X Del Norte BART Station - San Rafael Express</td>\n",
       "      <td>580X</td>\n",
       "      <td>None</td>\n",
       "    </tr>\n",
       "    <tr>\n",
       "      <th>341461</th>\n",
       "      <td>Westbound</td>\n",
       "      <td>Del Norte BART Station - San Rafael Express</td>\n",
       "      <td>580X</td>\n",
       "      <td>580X Del Norte BART Station - San Rafael Express</td>\n",
       "      <td>580X</td>\n",
       "      <td>None</td>\n",
       "    </tr>\n",
       "    <tr>\n",
       "      <th>341488</th>\n",
       "      <td>Southbound</td>\n",
       "      <td>Del Norte BART Station - San Francisco</td>\n",
       "      <td>704</td>\n",
       "      <td>704 Del Norte BART Station - San Francisco</td>\n",
       "      <td>704</td>\n",
       "      <td>None</td>\n",
       "    </tr>\n",
       "    <tr>\n",
       "      <th>341528</th>\n",
       "      <td>None</td>\n",
       "      <td>Oakland - San Francisco</td>\n",
       "      <td>705</td>\n",
       "      <td>705 Oakland - San Francisco</td>\n",
       "      <td>705</td>\n",
       "      <td>None</td>\n",
       "    </tr>\n",
       "  </tbody>\n",
       "</table>\n",
       "</div>"
      ],
      "text/plain": [
       "       route_primary_direction                              route_long_name  \\\n",
       "203465              Northbound                   Santa Rosa - San Francisco   \n",
       "203471              Southbound                   Santa Rosa - San Francisco   \n",
       "203477              Northbound                  Mill Valley - San Francisco   \n",
       "203483              Southbound                  Mill Valley - San Francisco   \n",
       "203489              Northbound                   San Rafael - San Francisco   \n",
       "203495              Southbound                   San Rafael - San Francisco   \n",
       "203501               Westbound                  San Anselmo - San Francisco   \n",
       "203505              Southbound                  San Anselmo - San Francisco   \n",
       "203511              Northbound                   San Rafael - San Francisco   \n",
       "203517              Southbound                   San Rafael - San Francisco   \n",
       "203523              Northbound                       Novato - San Francisco   \n",
       "203527              Southbound                       Novato - San Francisco   \n",
       "203533              Northbound                     Petaluma - San Francisco   \n",
       "203537              Southbound                     Petaluma - San Francisco   \n",
       "203543              Northbound                   Santa Rosa - San Francisco   \n",
       "203549              Southbound                   Santa Rosa - San Francisco   \n",
       "203555              Northbound           Santa Rosa - San Francisco Express   \n",
       "203559              Southbound           Santa Rosa - San Francisco Express   \n",
       "203563               Eastbound          Del Norte BART Station - San Rafael   \n",
       "203569               Westbound          Del Norte BART Station - San Rafael   \n",
       "203575               Eastbound  Del Norte BART Station - San Rafael Express   \n",
       "203579               Westbound  Del Norte BART Station - San Rafael Express   \n",
       "203585              Southbound       Del Norte BART Station - San Francisco   \n",
       "252951              Northbound           Angel Island - San Francisco Ferry   \n",
       "252957              Southbound           Angel Island - San Francisco Ferry   \n",
       "252963              Northbound               Larkspur - San Francisco Ferry   \n",
       "252969              Southbound               Larkspur - San Francisco Ferry   \n",
       "252975               Westbound              Sausalito - San Francisco Ferry   \n",
       "252981               Eastbound              Sausalito - San Francisco Ferry   \n",
       "252987              Northbound                Tiburon - San Francisco Ferry   \n",
       "252993              Southbound                Tiburon - San Francisco Ferry   \n",
       "340385              Northbound                   Santa Rosa - San Francisco   \n",
       "340448              Southbound                   Santa Rosa - San Francisco   \n",
       "340511              Northbound                  Mill Valley - San Francisco   \n",
       "340567              Southbound                  Mill Valley - San Francisco   \n",
       "340630              Northbound                   San Rafael - San Francisco   \n",
       "340693              Southbound                   San Rafael - San Francisco   \n",
       "340756               Westbound                  San Anselmo - San Francisco   \n",
       "340798              Southbound                  San Anselmo - San Francisco   \n",
       "340861              Northbound                   San Rafael - San Francisco   \n",
       "340924              Southbound                   San Rafael - San Francisco   \n",
       "340987              Northbound                       Novato - San Francisco   \n",
       "341029              Southbound                       Novato - San Francisco   \n",
       "341092              Northbound                     Petaluma - San Francisco   \n",
       "341114              Southbound                     Petaluma - San Francisco   \n",
       "341147              Northbound                   Santa Rosa - San Francisco   \n",
       "341210              Southbound                   Santa Rosa - San Francisco   \n",
       "341273              Northbound           Santa Rosa - San Francisco Express   \n",
       "341295              Southbound           Santa Rosa - San Francisco Express   \n",
       "341317               Eastbound          Del Norte BART Station - San Rafael   \n",
       "341380               Westbound          Del Norte BART Station - San Rafael   \n",
       "341443               Eastbound  Del Norte BART Station - San Rafael Express   \n",
       "341461               Westbound  Del Norte BART Station - San Rafael Express   \n",
       "341488              Southbound       Del Norte BART Station - San Francisco   \n",
       "341528                    None                      Oakland - San Francisco   \n",
       "\n",
       "       route_short_name                               route_combined_name  \\\n",
       "203465              101                    101 Santa Rosa - San Francisco   \n",
       "203471              101                    101 Santa Rosa - San Francisco   \n",
       "203477              114                   114 Mill Valley - San Francisco   \n",
       "203483              114                   114 Mill Valley - San Francisco   \n",
       "203489              130                    130 San Rafael - San Francisco   \n",
       "203495              130                    130 San Rafael - San Francisco   \n",
       "203501              132                   132 San Anselmo - San Francisco   \n",
       "203505              132                   132 San Anselmo - San Francisco   \n",
       "203511              150                    150 San Rafael - San Francisco   \n",
       "203517              150                    150 San Rafael - San Francisco   \n",
       "203523              154                        154 Novato - San Francisco   \n",
       "203527              154                        154 Novato - San Francisco   \n",
       "203533              164                      164 Petaluma - San Francisco   \n",
       "203537              164                      164 Petaluma - San Francisco   \n",
       "203543              172                    172 Santa Rosa - San Francisco   \n",
       "203549              172                    172 Santa Rosa - San Francisco   \n",
       "203555             172X           172X Santa Rosa - San Francisco Express   \n",
       "203559             172X           172X Santa Rosa - San Francisco Express   \n",
       "203563              580           580 Del Norte BART Station - San Rafael   \n",
       "203569              580           580 Del Norte BART Station - San Rafael   \n",
       "203575             580X  580X Del Norte BART Station - San Rafael Express   \n",
       "203579             580X  580X Del Norte BART Station - San Rafael Express   \n",
       "203585              704        704 Del Norte BART Station - San Francisco   \n",
       "252951             AISF           AISF Angel Island - San Francisco Ferry   \n",
       "252957             AISF           AISF Angel Island - San Francisco Ferry   \n",
       "252963             LSSF               LSSF Larkspur - San Francisco Ferry   \n",
       "252969             LSSF               LSSF Larkspur - San Francisco Ferry   \n",
       "252975             SSSF              SSSF Sausalito - San Francisco Ferry   \n",
       "252981             SSSF              SSSF Sausalito - San Francisco Ferry   \n",
       "252987             TBSF                TBSF Tiburon - San Francisco Ferry   \n",
       "252993             TBSF                TBSF Tiburon - San Francisco Ferry   \n",
       "340385              101                    101 Santa Rosa - San Francisco   \n",
       "340448              101                    101 Santa Rosa - San Francisco   \n",
       "340511              114                   114 Mill Valley - San Francisco   \n",
       "340567              114                   114 Mill Valley - San Francisco   \n",
       "340630              130                    130 San Rafael - San Francisco   \n",
       "340693              130                    130 San Rafael - San Francisco   \n",
       "340756              132                   132 San Anselmo - San Francisco   \n",
       "340798              132                   132 San Anselmo - San Francisco   \n",
       "340861              150                    150 San Rafael - San Francisco   \n",
       "340924              150                    150 San Rafael - San Francisco   \n",
       "340987              154                        154 Novato - San Francisco   \n",
       "341029              154                        154 Novato - San Francisco   \n",
       "341092              164                      164 Petaluma - San Francisco   \n",
       "341114              164                      164 Petaluma - San Francisco   \n",
       "341147              172                    172 Santa Rosa - San Francisco   \n",
       "341210              172                    172 Santa Rosa - San Francisco   \n",
       "341273             172X           172X Santa Rosa - San Francisco Express   \n",
       "341295             172X           172X Santa Rosa - San Francisco Express   \n",
       "341317              580           580 Del Norte BART Station - San Rafael   \n",
       "341380              580           580 Del Norte BART Station - San Rafael   \n",
       "341443             580X  580X Del Norte BART Station - San Rafael Express   \n",
       "341461             580X  580X Del Norte BART Station - San Rafael Express   \n",
       "341488              704        704 Del Norte BART Station - San Francisco   \n",
       "341528              705                       705 Oakland - San Francisco   \n",
       "\n",
       "       route_id        typology  \n",
       "203465      101           rapid  \n",
       "203471      101           rapid  \n",
       "203477      114           rapid  \n",
       "203483      114  downtown_local  \n",
       "203489      130           rapid  \n",
       "203495      130  downtown_local  \n",
       "203501      132           rapid  \n",
       "203505      132  downtown_local  \n",
       "203511      150           rapid  \n",
       "203517      150  downtown_local  \n",
       "203523      154           rapid  \n",
       "203527      154           rapid  \n",
       "203533      164           rapid  \n",
       "203537      164           rapid  \n",
       "203543      172           rapid  \n",
       "203549      172           rapid  \n",
       "203555     172X           rapid  \n",
       "203559     172X           rapid  \n",
       "203563      580           rapid  \n",
       "203569      580           rapid  \n",
       "203575     580X           rapid  \n",
       "203579     580X           rapid  \n",
       "203585      704  downtown_local  \n",
       "252951     AISF         unknown  \n",
       "252957     AISF         unknown  \n",
       "252963     LSSF         unknown  \n",
       "252969     LSSF         unknown  \n",
       "252975     SSSF         unknown  \n",
       "252981     SSSF         unknown  \n",
       "252987     TBSF         unknown  \n",
       "252993     TBSF         unknown  \n",
       "340385      101            None  \n",
       "340448      101            None  \n",
       "340511      114            None  \n",
       "340567      114            None  \n",
       "340630      130            None  \n",
       "340693      130            None  \n",
       "340756      132            None  \n",
       "340798      132            None  \n",
       "340861      150            None  \n",
       "340924      150            None  \n",
       "340987      154            None  \n",
       "341029      154            None  \n",
       "341092      164            None  \n",
       "341114      164            None  \n",
       "341147      172            None  \n",
       "341210      172            None  \n",
       "341273     172X            None  \n",
       "341295     172X            None  \n",
       "341317      580            None  \n",
       "341380      580            None  \n",
       "341443     580X            None  \n",
       "341461     580X            None  \n",
       "341488      704            None  \n",
       "341528      705            None  "
      ]
     },
     "execution_count": 36,
     "metadata": {},
     "output_type": "execute_result"
    }
   ],
   "source": [
    "goldengate_df[\n",
    "    [\n",
    "        \"route_primary_direction\",\n",
    "        \"route_long_name\",\n",
    "        \"route_short_name\",\n",
    "        \"route_combined_name\",\n",
    "        \"route_id\",\n",
    "        \"typology\",\n",
    "    ]\n",
    "].drop_duplicates()"
   ]
  },
  {
   "cell_type": "markdown",
   "id": "f9e6b64f-9bbb-4bb1-ba9e-36d6eeb41aee",
   "metadata": {},
   "source": [
    "## Go back to schedule portion of `merge_data` and see why these vp_only operators are being dropped."
   ]
  },
  {
   "cell_type": "code",
   "execution_count": 37,
   "id": "61bc4330-aab2-4e0e-be19-310109c40e4e",
   "metadata": {
    "tags": []
   },
   "outputs": [],
   "source": [
    "sched_data = merge_data.concatenate_schedule_by_route_direction(analysis_date_list)"
   ]
  },
  {
   "cell_type": "code",
   "execution_count": 38,
   "id": "e254d529-e438-4a08-a206-c7790f5e3bc0",
   "metadata": {
    "tags": []
   },
   "outputs": [
    {
     "data": {
      "text/html": [
       "<div>\n",
       "<style scoped>\n",
       "    .dataframe tbody tr th:only-of-type {\n",
       "        vertical-align: middle;\n",
       "    }\n",
       "\n",
       "    .dataframe tbody tr th {\n",
       "        vertical-align: top;\n",
       "    }\n",
       "\n",
       "    .dataframe thead th {\n",
       "        text-align: right;\n",
       "    }\n",
       "</style>\n",
       "<table border=\"1\" class=\"dataframe\">\n",
       "  <thead>\n",
       "    <tr style=\"text-align: right;\">\n",
       "      <th></th>\n",
       "      <th>schedule_gtfs_dataset_key</th>\n",
       "      <th>route_id</th>\n",
       "      <th>direction_id</th>\n",
       "      <th>time_period</th>\n",
       "      <th>route_primary_direction</th>\n",
       "      <th>avg_scheduled_service_minutes</th>\n",
       "      <th>avg_stop_miles</th>\n",
       "      <th>n_scheduled_trips</th>\n",
       "      <th>frequency</th>\n",
       "      <th>is_express</th>\n",
       "      <th>is_rapid</th>\n",
       "      <th>is_rail</th>\n",
       "      <th>is_coverage</th>\n",
       "      <th>is_downtown_local</th>\n",
       "      <th>is_local</th>\n",
       "      <th>service_date</th>\n",
       "    </tr>\n",
       "  </thead>\n",
       "  <tbody>\n",
       "    <tr>\n",
       "      <th>0</th>\n",
       "      <td>0139b1253130b33adcd4b3a4490530d2</td>\n",
       "      <td>0177a66b-9f33-407d-a72e-776429fb73d4</td>\n",
       "      <td>0.00</td>\n",
       "      <td>all_day</td>\n",
       "      <td>Eastbound</td>\n",
       "      <td>63.50</td>\n",
       "      <td>2.23</td>\n",
       "      <td>2</td>\n",
       "      <td>0.08</td>\n",
       "      <td>0.00</td>\n",
       "      <td>0.00</td>\n",
       "      <td>0.00</td>\n",
       "      <td>1.00</td>\n",
       "      <td>0.00</td>\n",
       "      <td>0.00</td>\n",
       "      <td>2025-02-12</td>\n",
       "    </tr>\n",
       "  </tbody>\n",
       "</table>\n",
       "</div>"
      ],
      "text/plain": [
       "          schedule_gtfs_dataset_key                              route_id  \\\n",
       "0  0139b1253130b33adcd4b3a4490530d2  0177a66b-9f33-407d-a72e-776429fb73d4   \n",
       "\n",
       "   direction_id time_period route_primary_direction  \\\n",
       "0          0.00     all_day               Eastbound   \n",
       "\n",
       "   avg_scheduled_service_minutes  avg_stop_miles  n_scheduled_trips  \\\n",
       "0                          63.50            2.23                  2   \n",
       "\n",
       "   frequency  is_express  is_rapid  is_rail  is_coverage  is_downtown_local  \\\n",
       "0       0.08        0.00      0.00     0.00         1.00               0.00   \n",
       "\n",
       "   is_local service_date  \n",
       "0      0.00   2025-02-12  "
      ]
     },
     "execution_count": 38,
     "metadata": {},
     "output_type": "execute_result"
    }
   ],
   "source": [
    "sched_data.head(1)"
   ]
  },
  {
   "cell_type": "code",
   "execution_count": 39,
   "id": "37260262-29cd-49be-b355-4e5e489a8025",
   "metadata": {
    "tags": []
   },
   "outputs": [
    {
     "data": {
      "text/plain": [
       "Index(['schedule_gtfs_dataset_key', 'caltrans_district', 'organization_name',\n",
       "       'name', 'sched_rt_category', 'service_date'],\n",
       "      dtype='object')"
      ]
     },
     "execution_count": 39,
     "metadata": {},
     "output_type": "execute_result"
    }
   ],
   "source": [
    "schd_vp_df2.columns"
   ]
  },
  {
   "cell_type": "code",
   "execution_count": 40,
   "id": "2864c115-e202-47ff-8237-9d6fc922a784",
   "metadata": {
    "tags": []
   },
   "outputs": [],
   "source": [
    "vp_only_sched_keys = list(vp_only_ops_df.schedule_gtfs_dataset_key.unique())"
   ]
  },
  {
   "cell_type": "code",
   "execution_count": 41,
   "id": "4c1bfa50-f89d-4ae2-98f9-272010bb7b9d",
   "metadata": {
    "tags": []
   },
   "outputs": [],
   "source": [
    "sched_data2 = sched_data.loc[\n",
    "    sched_data.schedule_gtfs_dataset_key.isin(vp_only_sched_keys)\n",
    "]"
   ]
  },
  {
   "cell_type": "code",
   "execution_count": 42,
   "id": "50349fc2-e228-4f2b-9ed3-f8c0acb8623d",
   "metadata": {
    "tags": []
   },
   "outputs": [
    {
     "data": {
      "text/html": [
       "<div>\n",
       "<style scoped>\n",
       "    .dataframe tbody tr th:only-of-type {\n",
       "        vertical-align: middle;\n",
       "    }\n",
       "\n",
       "    .dataframe tbody tr th {\n",
       "        vertical-align: top;\n",
       "    }\n",
       "\n",
       "    .dataframe thead th {\n",
       "        text-align: right;\n",
       "    }\n",
       "</style>\n",
       "<table border=\"1\" class=\"dataframe\">\n",
       "  <thead>\n",
       "    <tr style=\"text-align: right;\">\n",
       "      <th></th>\n",
       "      <th>schedule_gtfs_dataset_key</th>\n",
       "      <th>route_id</th>\n",
       "      <th>direction_id</th>\n",
       "      <th>time_period</th>\n",
       "      <th>route_primary_direction</th>\n",
       "      <th>avg_scheduled_service_minutes</th>\n",
       "      <th>avg_stop_miles</th>\n",
       "      <th>n_scheduled_trips</th>\n",
       "      <th>frequency</th>\n",
       "      <th>is_express</th>\n",
       "      <th>is_rapid</th>\n",
       "      <th>is_rail</th>\n",
       "      <th>is_coverage</th>\n",
       "      <th>is_downtown_local</th>\n",
       "      <th>is_local</th>\n",
       "      <th>service_date</th>\n",
       "    </tr>\n",
       "  </thead>\n",
       "  <tbody>\n",
       "  </tbody>\n",
       "</table>\n",
       "</div>"
      ],
      "text/plain": [
       "Empty DataFrame\n",
       "Columns: [schedule_gtfs_dataset_key, route_id, direction_id, time_period, route_primary_direction, avg_scheduled_service_minutes, avg_stop_miles, n_scheduled_trips, frequency, is_express, is_rapid, is_rail, is_coverage, is_downtown_local, is_local, service_date]\n",
       "Index: []"
      ]
     },
     "execution_count": 42,
     "metadata": {},
     "output_type": "execute_result"
    }
   ],
   "source": [
    "sched_data2"
   ]
  },
  {
   "cell_type": "markdown",
   "id": "291054fd-f475-43c2-9c8c-4cfe9a2b8b25",
   "metadata": {},
   "source": [
    "### Digging into `gtfs_funnel/schedule_stats_by_route_direction.py`"
   ]
  },
  {
   "cell_type": "code",
   "execution_count": 43,
   "id": "1d25ce0c-89b9-4f46-8305-701b5bddd5ee",
   "metadata": {
    "tags": []
   },
   "outputs": [],
   "source": [
    "import sys\n",
    "\n",
    "sys.path.append(\"../gtfs_funnel/\")\n",
    "import schedule_stats_by_route_direction"
   ]
  },
  {
   "cell_type": "markdown",
   "id": "4a9821fe-9a39-476e-821f-13ea256d9794",
   "metadata": {},
   "source": [
    "#### Line 203"
   ]
  },
  {
   "cell_type": "code",
   "execution_count": 44,
   "id": "0dd76884-c9c3-4928-a097-89aad6be8b1e",
   "metadata": {
    "tags": []
   },
   "outputs": [],
   "source": [
    "trip_metrics = schedule_stats_by_route_direction.assemble_scheduled_trip_metrics(\n",
    "    analysis_date, GTFS_DATA_DICT\n",
    ")"
   ]
  },
  {
   "cell_type": "code",
   "execution_count": 45,
   "id": "3b4f0f98-12d0-42c2-8eb8-af338c20ddae",
   "metadata": {
    "tags": []
   },
   "outputs": [],
   "source": [
    "trip_metrics = trip_metrics.loc[\n",
    "    trip_metrics.schedule_gtfs_dataset_key.isin(vp_only_sched_keys)\n",
    "]"
   ]
  },
  {
   "cell_type": "code",
   "execution_count": 46,
   "id": "68e17e73-4593-42a8-82f3-a98279dfb221",
   "metadata": {
    "tags": []
   },
   "outputs": [
    {
     "data": {
      "text/html": [
       "<div>\n",
       "<style scoped>\n",
       "    .dataframe tbody tr th:only-of-type {\n",
       "        vertical-align: middle;\n",
       "    }\n",
       "\n",
       "    .dataframe tbody tr th {\n",
       "        vertical-align: top;\n",
       "    }\n",
       "\n",
       "    .dataframe thead th {\n",
       "        text-align: right;\n",
       "    }\n",
       "</style>\n",
       "<table border=\"1\" class=\"dataframe\">\n",
       "  <thead>\n",
       "    <tr style=\"text-align: right;\">\n",
       "      <th></th>\n",
       "      <th>schedule_gtfs_dataset_key</th>\n",
       "      <th>trip_instance_key</th>\n",
       "      <th>median_stop_meters</th>\n",
       "      <th>time_of_day</th>\n",
       "      <th>scheduled_service_minutes</th>\n",
       "      <th>route_id</th>\n",
       "      <th>direction_id</th>\n",
       "    </tr>\n",
       "  </thead>\n",
       "  <tbody>\n",
       "    <tr>\n",
       "      <th>80393</th>\n",
       "      <td>c4092405159366c705b62df938293a4e</td>\n",
       "      <td>01dc5389671b18ec6c00c52306792d6b</td>\n",
       "      <td>28819.73</td>\n",
       "      <td>Midday</td>\n",
       "      <td>106.00</td>\n",
       "      <td>San Bernardino Line</td>\n",
       "      <td>1.00</td>\n",
       "    </tr>\n",
       "  </tbody>\n",
       "</table>\n",
       "</div>"
      ],
      "text/plain": [
       "              schedule_gtfs_dataset_key                 trip_instance_key  \\\n",
       "80393  c4092405159366c705b62df938293a4e  01dc5389671b18ec6c00c52306792d6b   \n",
       "\n",
       "       median_stop_meters time_of_day  scheduled_service_minutes  \\\n",
       "80393            28819.73      Midday                     106.00   \n",
       "\n",
       "                  route_id  direction_id  \n",
       "80393  San Bernardino Line          1.00  "
      ]
     },
     "execution_count": 46,
     "metadata": {},
     "output_type": "execute_result"
    }
   ],
   "source": [
    "trip_metrics.head(1)"
   ]
  },
  {
   "cell_type": "code",
   "execution_count": 47,
   "id": "c393c3a0-37c2-4876-8883-7a69c2721041",
   "metadata": {
    "tags": []
   },
   "outputs": [
    {
     "data": {
      "text/plain": [
       "2"
      ]
     },
     "execution_count": 47,
     "metadata": {},
     "output_type": "execute_result"
    }
   ],
   "source": [
    "len(vp_only_sched_keys)"
   ]
  },
  {
   "cell_type": "markdown",
   "id": "fcca87fe-6187-4bbe-b6d8-887fa5da8f1c",
   "metadata": {},
   "source": [
    "#### Some operators havae duplicative schedule_gtfs_dataset_keys"
   ]
  },
  {
   "cell_type": "code",
   "execution_count": 48,
   "id": "863636eb-2de2-42ec-8ce7-f7edcc1142c3",
   "metadata": {
    "tags": []
   },
   "outputs": [],
   "source": [
    "trip_sched_keys = set(list(trip_metrics.schedule_gtfs_dataset_key.unique()))"
   ]
  },
  {
   "cell_type": "code",
   "execution_count": 49,
   "id": "7e2c843b-3d58-4412-bf19-c315d202e10a",
   "metadata": {
    "tags": []
   },
   "outputs": [
    {
     "data": {
      "text/plain": [
       "set"
      ]
     },
     "execution_count": 49,
     "metadata": {},
     "output_type": "execute_result"
    }
   ],
   "source": [
    "type(trip_sched_keys)"
   ]
  },
  {
   "cell_type": "code",
   "execution_count": 50,
   "id": "2eca6269-33b5-43c9-8466-9fc8d3df0895",
   "metadata": {
    "tags": []
   },
   "outputs": [],
   "source": [
    "og = set(vp_only_sched_keys)"
   ]
  },
  {
   "cell_type": "code",
   "execution_count": 51,
   "id": "d7e90881-dd94-49ad-8d08-4bc00fb0f232",
   "metadata": {
    "tags": []
   },
   "outputs": [
    {
     "data": {
      "text/plain": [
       "set"
      ]
     },
     "execution_count": 51,
     "metadata": {},
     "output_type": "execute_result"
    }
   ],
   "source": [
    "type(og)"
   ]
  },
  {
   "cell_type": "code",
   "execution_count": 52,
   "id": "4361fd22-088e-48fc-adaa-10c7f61402f3",
   "metadata": {
    "tags": []
   },
   "outputs": [
    {
     "data": {
      "text/plain": [
       "{'759ad28de7d4bb8b2bf9bb7d83655100'}"
      ]
     },
     "execution_count": 52,
     "metadata": {},
     "output_type": "execute_result"
    }
   ],
   "source": [
    "og - trip_sched_keys"
   ]
  },
  {
   "cell_type": "markdown",
   "id": "a813d8cd-9bcb-4ab2-8e1b-cad58b92f902",
   "metadata": {},
   "source": [
    "#### Some `schedule_gtfs_datset_keys` are repeated for two different organizations\n",
    "* SF Bay Area WETA = has two different keys\n",
    "* SoCal Regional Rail Authority = also has two keys\n",
    "* City of Alameda & SF WETA share the same key. \n",
    "* San Bernardino & Southern California Regional Rail share the same key.\n",
    "* Maybe need to drop duplicates by schedule_gtfs_dataset_key as well. "
   ]
  },
  {
   "cell_type": "code",
   "execution_count": 53,
   "id": "bd069590-fadd-49a3-8660-6fd63f14cc85",
   "metadata": {
    "tags": []
   },
   "outputs": [
    {
     "data": {
      "text/html": [
       "<div>\n",
       "<style scoped>\n",
       "    .dataframe tbody tr th:only-of-type {\n",
       "        vertical-align: middle;\n",
       "    }\n",
       "\n",
       "    .dataframe tbody tr th {\n",
       "        vertical-align: top;\n",
       "    }\n",
       "\n",
       "    .dataframe thead th {\n",
       "        text-align: right;\n",
       "    }\n",
       "</style>\n",
       "<table border=\"1\" class=\"dataframe\">\n",
       "  <thead>\n",
       "    <tr style=\"text-align: right;\">\n",
       "      <th></th>\n",
       "      <th>schedule_gtfs_dataset_key</th>\n",
       "      <th>organization_name</th>\n",
       "    </tr>\n",
       "  </thead>\n",
       "  <tbody>\n",
       "    <tr>\n",
       "      <th>338765</th>\n",
       "      <td>759ad28de7d4bb8b2bf9bb7d83655100</td>\n",
       "      <td>Southern California Regional Rail Authority</td>\n",
       "    </tr>\n",
       "    <tr>\n",
       "      <th>342768</th>\n",
       "      <td>c4092405159366c705b62df938293a4e</td>\n",
       "      <td>San Bernardino County Transportation Authority</td>\n",
       "    </tr>\n",
       "    <tr>\n",
       "      <th>342769</th>\n",
       "      <td>c4092405159366c705b62df938293a4e</td>\n",
       "      <td>Southern California Regional Rail Authority</td>\n",
       "    </tr>\n",
       "  </tbody>\n",
       "</table>\n",
       "</div>"
      ],
      "text/plain": [
       "               schedule_gtfs_dataset_key  \\\n",
       "338765  759ad28de7d4bb8b2bf9bb7d83655100   \n",
       "342768  c4092405159366c705b62df938293a4e   \n",
       "342769  c4092405159366c705b62df938293a4e   \n",
       "\n",
       "                                     organization_name  \n",
       "338765     Southern California Regional Rail Authority  \n",
       "342768  San Bernardino County Transportation Authority  \n",
       "342769     Southern California Regional Rail Authority  "
      ]
     },
     "execution_count": 53,
     "metadata": {},
     "output_type": "execute_result"
    }
   ],
   "source": [
    "vp_only_ops_df[[\"schedule_gtfs_dataset_key\", \"organization_name\"]].drop_duplicates()"
   ]
  },
  {
   "cell_type": "code",
   "execution_count": 54,
   "id": "8ebef526-2f59-45da-82df-631855affbaa",
   "metadata": {
    "tags": []
   },
   "outputs": [],
   "source": [
    "trip_metrics.direction_id = trip_metrics.direction_id.fillna(0)"
   ]
  },
  {
   "cell_type": "code",
   "execution_count": 55,
   "id": "303246f2-ffe1-467f-8613-3262a3831e89",
   "metadata": {
    "tags": []
   },
   "outputs": [
    {
     "data": {
      "text/plain": [
       "202"
      ]
     },
     "execution_count": 55,
     "metadata": {},
     "output_type": "execute_result"
    }
   ],
   "source": [
    "len(trip_metrics)"
   ]
  },
  {
   "cell_type": "markdown",
   "id": "f586c52f-722a-48c6-98b5-d1f65b1bebf9",
   "metadata": {},
   "source": [
    "### Why doesn't anything show up with this function `schedule_metrics_by_route_direction`"
   ]
  },
  {
   "cell_type": "code",
   "execution_count": 56,
   "id": "04978acc-fcbd-4963-915a-5d59ac0433b0",
   "metadata": {
    "tags": []
   },
   "outputs": [
    {
     "ename": "NameError",
     "evalue": "name 'route_group_merge_cols' is not defined",
     "output_type": "error",
     "traceback": [
      "\u001b[0;31m---------------------------------------------------------------------------\u001b[0m",
      "\u001b[0;31mNameError\u001b[0m                                 Traceback (most recent call last)",
      "Cell \u001b[0;32mIn[56], line 3\u001b[0m\n\u001b[1;32m      1\u001b[0m route_dir_metrics \u001b[38;5;241m=\u001b[39m (\n\u001b[1;32m      2\u001b[0m     schedule_stats_by_route_direction\u001b[38;5;241m.\u001b[39mschedule_metrics_by_route_direction(\n\u001b[0;32m----> 3\u001b[0m         trip_metrics, analysis_date, \u001b[43mroute_group_merge_cols\u001b[49m\n\u001b[1;32m      4\u001b[0m     )\n\u001b[1;32m      5\u001b[0m )\n",
      "\u001b[0;31mNameError\u001b[0m: name 'route_group_merge_cols' is not defined"
     ]
    }
   ],
   "source": [
    "route_dir_metrics = (\n",
    "    schedule_stats_by_route_direction.schedule_metrics_by_route_direction(\n",
    "        trip_metrics, analysis_date, route_group_merge_cols\n",
    "    )\n",
    ")"
   ]
  },
  {
   "cell_type": "code",
   "execution_count": null,
   "id": "6c0d3105-65e7-4759-abf1-1eb443782e5e",
   "metadata": {
    "tags": []
   },
   "outputs": [],
   "source": [
    "route_dir_metrics.head(1)"
   ]
  },
  {
   "cell_type": "markdown",
   "id": "003aaa2c-2e19-455a-abba-c2f02c6c7ec9",
   "metadata": {},
   "source": [
    "#### Line 148"
   ]
  },
  {
   "cell_type": "code",
   "execution_count": null,
   "id": "203fc941-1ab4-4164-8ca3-daf9f2a76567",
   "metadata": {
    "tags": []
   },
   "outputs": [],
   "source": [
    "group_merge_cols = [\"schedule_gtfs_dataset_key\", \"route_id\", \"direction_id\"]"
   ]
  },
  {
   "cell_type": "code",
   "execution_count": null,
   "id": "c58cef7b-766d-4b2b-a6ef-4fb31e25642e",
   "metadata": {
    "tags": []
   },
   "outputs": [],
   "source": [
    "service_freq_df = gtfs_schedule_wrangling.aggregate_time_of_day_to_peak_offpeak(\n",
    "        trip_metrics, group_merge_cols, long_or_wide=\"long\"\n",
    "    )"
   ]
  },
  {
   "cell_type": "code",
   "execution_count": null,
   "id": "fa4ce2bb-57c3-430c-b28a-d882aaa9ec01",
   "metadata": {
    "tags": []
   },
   "outputs": [],
   "source": [
    "service_freq_df.schedule_gtfs_dataset_key.unique()"
   ]
  },
  {
   "cell_type": "code",
   "execution_count": null,
   "id": "3d439e4f-fd9a-490f-ab10-132dd04b9f49",
   "metadata": {
    "tags": []
   },
   "outputs": [],
   "source": [
    "metrics_df = (\n",
    "        trip_metrics.groupby(group_merge_cols, observed=True, group_keys=False, dropna=False)\n",
    "        .agg(\n",
    "            {\n",
    "                \"median_stop_meters\": \"mean\",\n",
    "                # take mean of the median stop spacing for trip\n",
    "                # does this make sense?\n",
    "                # median is the single boiled down metric at the trip-level\n",
    "                \"scheduled_service_minutes\": \"mean\",\n",
    "            }\n",
    "        )\n",
    "        .reset_index()\n",
    "        .rename(\n",
    "            columns={\n",
    "                \"median_stop_meters\": \"avg_stop_meters\",\n",
    "                \"scheduled_service_minutes\": \"avg_scheduled_service_minutes\",\n",
    "            }\n",
    "        )\n",
    "    )"
   ]
  },
  {
   "cell_type": "code",
   "execution_count": null,
   "id": "3752b249-401a-41ba-8a07-504ab54f8590",
   "metadata": {
    "tags": []
   },
   "outputs": [],
   "source": [
    "metrics_df.schedule_gtfs_dataset_key.unique()"
   ]
  },
  {
   "cell_type": "code",
   "execution_count": null,
   "id": "8af22a98-5859-496a-8daa-c19b91634e3d",
   "metadata": {
    "tags": []
   },
   "outputs": [],
   "source": [
    "from shared_utils.rt_utils import METERS_PER_MILE"
   ]
  },
  {
   "cell_type": "code",
   "execution_count": null,
   "id": "21703723-0489-4227-9d46-e87aa54c8ed8",
   "metadata": {
    "tags": []
   },
   "outputs": [],
   "source": [
    "metrics_df = metrics_df.assign(\n",
    "        avg_stop_miles=metrics_df.avg_stop_meters.divide(METERS_PER_MILE).round(2)\n",
    "    ).drop(columns=[\"avg_stop_meters\"])\n",
    "\n",
    "round_me = [\"avg_stop_miles\", \"avg_scheduled_service_minutes\"]\n",
    "metrics_df[round_me] = metrics_df[round_me].round(2)"
   ]
  },
  {
   "cell_type": "markdown",
   "id": "21c4c5b7-212e-4486-9aa5-79cf08b92da2",
   "metadata": {},
   "source": [
    "#### Line 179 = where the routes of interest are getting deleted.\n",
    "* Delete out `.pipe(helpers.remove_shapes_outside_ca)` to bring back in ferry operators.\n",
    "* I think the routes on the water are considered out of bounds with the California geography."
   ]
  },
  {
   "cell_type": "code",
   "execution_count": null,
   "id": "689bdee5-3b46-44f2-b1a4-c1f9bc310d90",
   "metadata": {
    "tags": []
   },
   "outputs": [],
   "source": [
    "common_shape = gtfs_schedule_wrangling.most_common_shape_by_route_direction(\n",
    "        analysis_date\n",
    "    ).pipe(helpers.remove_shapes_outside_ca)\n"
   ]
  },
  {
   "cell_type": "code",
   "execution_count": null,
   "id": "1ee83f41-c2a1-4c22-ae95-098798164e57",
   "metadata": {
    "tags": []
   },
   "outputs": [],
   "source": [
    "common_shape = common_shape.loc[\n",
    "    common_shape.schedule_gtfs_dataset_key.isin(vp_only_sched_keys)\n",
    "]"
   ]
  },
  {
   "cell_type": "code",
   "execution_count": null,
   "id": "b75e2bcf-49c2-417d-baa6-e4a87a583b67",
   "metadata": {
    "tags": []
   },
   "outputs": [],
   "source": [
    "common_shape.schedule_gtfs_dataset_key.nunique()"
   ]
  },
  {
   "cell_type": "code",
   "execution_count": null,
   "id": "312f8ea2-d7b1-4280-aa57-b52626b4524c",
   "metadata": {
    "tags": []
   },
   "outputs": [],
   "source": [
    "common_shape2 = gtfs_schedule_wrangling.most_common_shape_by_route_direction(\n",
    "        analysis_date\n",
    "    )"
   ]
  },
  {
   "cell_type": "code",
   "execution_count": null,
   "id": "a3bb279c-ba2f-455f-961b-e6d276621e77",
   "metadata": {
    "tags": []
   },
   "outputs": [],
   "source": [
    "common_shape2 = common_shape2.loc[\n",
    "    common_shape2.schedule_gtfs_dataset_key.isin(vp_only_sched_keys)\n",
    "]"
   ]
  },
  {
   "cell_type": "code",
   "execution_count": null,
   "id": "0f9ee145-0651-4173-a570-2d375a0811d5",
   "metadata": {
    "tags": []
   },
   "outputs": [],
   "source": [
    "len(common_shape2)"
   ]
  },
  {
   "cell_type": "code",
   "execution_count": null,
   "id": "bf1cb735-d7ae-4aef-81b9-5c1857f5763a",
   "metadata": {
    "tags": []
   },
   "outputs": [],
   "source": [
    "common_shape2.explore(\"schedule_gtfs_dataset_key\")"
   ]
  },
  {
   "cell_type": "markdown",
   "id": "bebf047e-4e6b-4d68-9fc4-62f020170f28",
   "metadata": {},
   "source": [
    "## Seeing which graphs are vp_only using "
   ]
  },
  {
   "cell_type": "code",
   "execution_count": null,
   "id": "a5502496-777f-4f52-8f22-05890d3f1e9f",
   "metadata": {},
   "outputs": [],
   "source": [
    "stop"
   ]
  },
  {
   "cell_type": "code",
   "execution_count": null,
   "id": "50e619d2-7cc5-4513-8b10-6ff8cd4a0380",
   "metadata": {
    "tags": []
   },
   "outputs": [],
   "source": [
    "import _report_utils\n",
    "import altair as alt\n",
    "import yaml"
   ]
  },
  {
   "cell_type": "code",
   "execution_count": null,
   "id": "a7ec53ec-91f0-42c8-8bba-f8a32c7cae7a",
   "metadata": {
    "tags": []
   },
   "outputs": [],
   "source": [
    "with open(\"readable.yml\") as f:\n",
    "    readable_dict = yaml.safe_load(f)"
   ]
  },
  {
   "cell_type": "code",
   "execution_count": null,
   "id": "36840767-f5bb-4e34-9fd4-51119ecc420c",
   "metadata": {
    "tags": []
   },
   "outputs": [],
   "source": [
    "with open(\"color_palettes.yml\") as f:\n",
    "    color_dict = yaml.safe_load(f)"
   ]
  },
  {
   "cell_type": "code",
   "execution_count": null,
   "id": "cc8234d3-7d5a-4ab9-9a61-011e49c86e04",
   "metadata": {
    "tags": []
   },
   "outputs": [],
   "source": [
    "df = weta_df.copy()"
   ]
  },
  {
   "cell_type": "code",
   "execution_count": null,
   "id": "0431e973-4b71-48f4-a67f-b6150621c65a",
   "metadata": {
    "tags": []
   },
   "outputs": [],
   "source": [
    "# Round float columns\n",
    "float_columns = df.select_dtypes(include=[\"float\"])\n",
    "for i in float_columns:\n",
    "    df[i] = df[i].round(2)\n",
    "\n",
    "# Multiply percent columns to 100%\n",
    "pct_cols = df.columns[df.columns.str.contains(\"pct\")].tolist()\n",
    "for i in pct_cols:\n",
    "    df[i] = df[i] * 100"
   ]
  },
  {
   "cell_type": "code",
   "execution_count": null,
   "id": "3fac2026-2fba-40a2-bb30-1c50fa3cc6dd",
   "metadata": {
    "tags": []
   },
   "outputs": [],
   "source": [
    "# Add column to create rulers for the charts\n",
    "df[\"ruler_100_pct\"] = 100\n",
    "df[\"ruler_for_vp_per_min\"] = 2\n",
    "\n",
    "# Add a column that flips frequency to be every X minutes instead\n",
    "# of every hour.\n",
    "df[\"headway_in_minutes\"] = 60 / df.frequency"
   ]
  },
  {
   "cell_type": "code",
   "execution_count": null,
   "id": "719369b9-8eab-405e-af3b-d7e4ed5fc14c",
   "metadata": {},
   "outputs": [],
   "source": [
    "df.route_primary_direction = df.route_primary_direction.fillna(\"None\")"
   ]
  },
  {
   "cell_type": "code",
   "execution_count": null,
   "id": "b8629655-c127-4079-a331-47a374f4f915",
   "metadata": {
    "tags": []
   },
   "outputs": [],
   "source": [
    "df = _report_utils.replace_column_names(df)"
   ]
  },
  {
   "cell_type": "code",
   "execution_count": null,
   "id": "61d4e866-c7ca-4416-a442-c945c3b4c09b",
   "metadata": {
    "tags": []
   },
   "outputs": [],
   "source": [
    "routes_list = df[\"Route\"].unique().tolist()\n",
    "\n",
    "route_dropdown = alt.binding_select(\n",
    "    options=routes_list,\n",
    "    name=\"Routes: \",\n",
    ")\n",
    "# Column that controls the bar charts\n",
    "xcol_param = alt.selection_point(\n",
    "    fields=[\"Route\"], value=routes_list[0], bind=route_dropdown\n",
    ")\n",
    "\n",
    "# Filter for only rows that are \"all day\" statistics\n",
    "all_day = df.loc[df[\"Period\"] == \"all_day\"].reset_index(drop=True)"
   ]
  },
  {
   "cell_type": "code",
   "execution_count": null,
   "id": "ef54a308-d7ad-420a-9f9c-ce984406ffef",
   "metadata": {
    "tags": []
   },
   "outputs": [],
   "source": [
    "timeliness_df = section2.timeliness_trips(df)"
   ]
  },
  {
   "cell_type": "code",
   "execution_count": null,
   "id": "6b9ee4bf-3c13-48cc-b78e-64289a525bc9",
   "metadata": {
    "tags": []
   },
   "outputs": [],
   "source": [
    "timeliness_df.head(2)"
   ]
  },
  {
   "cell_type": "code",
   "execution_count": null,
   "id": "cb1d86be-7321-4f01-8b61-68a0bc6d7815",
   "metadata": {},
   "outputs": [],
   "source": [
    "def pct_vp_journey(df: pd.DataFrame, col1: str, col2: str) -> pd.DataFrame:\n",
    "    \"\"\"\n",
    "    Reshape the data for the charts that display the % of\n",
    "    a journey that recorded 2+ vehicle positions/minute.\n",
    "    \"\"\"\n",
    "    to_keep = [\n",
    "        \"Date\",\n",
    "        \"Organization\",\n",
    "        \"dir_0_1\",\n",
    "        col1,\n",
    "        col2,\n",
    "        \"Route\",\n",
    "        \"Period\",\n",
    "        \"ruler_100_pct\",\n",
    "    ]\n",
    "    df2 = df[to_keep]\n",
    "\n",
    "    df3 = df2.melt(\n",
    "        id_vars=[\n",
    "            \"Date\",\n",
    "            \"Organization\",\n",
    "            \"Route\",\n",
    "            \"dir_0_1\",\n",
    "            \"Period\",\n",
    "            \"ruler_100_pct\",\n",
    "        ],\n",
    "        value_vars=[col1, col2],\n",
    "    )\n",
    "\n",
    "    df3 = df3.rename(\n",
    "        columns={\"variable\": \"Category\", \"value\": \"% of Actual Trip Minutes\"}\n",
    "    )\n",
    "    return df3"
   ]
  },
  {
   "cell_type": "code",
   "execution_count": null,
   "id": "08b21e01-812e-4e16-8105-65251d39a755",
   "metadata": {
    "tags": []
   },
   "outputs": [],
   "source": [
    "sched_journey_vp = pct_vp_journey(\n",
    "    all_day,\n",
    "    \"% Scheduled Trip w/ 1+ VP/Minute\",\n",
    "    \"% Scheduled Trip w/ 2+ VP/Minute\",\n",
    ")"
   ]
  },
  {
   "cell_type": "code",
   "execution_count": null,
   "id": "3bac49d3-7b05-4486-af2b-1ab01400a867",
   "metadata": {
    "tags": []
   },
   "outputs": [],
   "source": [
    "sched_journey_vp.head(2)"
   ]
  },
  {
   "cell_type": "code",
   "execution_count": null,
   "id": "2c0cd597-edd9-4275-86f1-aec13fc817dc",
   "metadata": {
    "tags": []
   },
   "outputs": [],
   "source": [
    "route_stats_df = section2.route_stats(df)"
   ]
  },
  {
   "cell_type": "code",
   "execution_count": null,
   "id": "8f5d86cc-f753-456c-bafd-31b586b7b7c3",
   "metadata": {
    "tags": []
   },
   "outputs": [],
   "source": [
    "route_stats_df.head(2)"
   ]
  },
  {
   "cell_type": "markdown",
   "id": "69da33ab-dcb6-4ca6-b87c-c6df09eb0900",
   "metadata": {
    "tags": []
   },
   "source": [
    "## Build this into a function"
   ]
  },
  {
   "cell_type": "code",
   "execution_count": null,
   "id": "15d4a0f1-0853-42b5-b2d3-27b7e8d4c164",
   "metadata": {
    "tags": []
   },
   "outputs": [],
   "source": [
    "def load_vp_metrics(organization: str) -> pd.DataFrame:\n",
    "    \"\"\"\n",
    "    Load schedule versus realtime file.\n",
    "    \"\"\"\n",
    "    schd_vp_url = f\"{GTFS_DATA_DICT.digest_tables.dir}{GTFS_DATA_DICT.digest_tables.route_schedule_vp}.parquet\"\n",
    "\n",
    "    # Keep only rows that are found in both schedule and real time data\n",
    "    df = pd.read_parquet(\n",
    "        schd_vp_url,\n",
    "        filters=[\n",
    "            [\n",
    "                (\"organization_name\", \"==\", organization),\n",
    "            ]\n",
    "        ],\n",
    "    )\n",
    "\n",
    "    # Delete duplicates\n",
    "    df = df.drop_duplicates().reset_index(drop=True)\n",
    "\n",
    "    # Round float columns\n",
    "    float_columns = df.select_dtypes(include=[\"float\"])\n",
    "    for i in float_columns:\n",
    "        df[i] = df[i].round(2)\n",
    "\n",
    "    # Multiply percent columns to 100%\n",
    "    pct_cols = df.columns[df.columns.str.contains(\"pct\")].tolist()\n",
    "    for i in pct_cols:\n",
    "        df[i] = df[i] * 100\n",
    "\n",
    "    # Add column to create rulers for the charts\n",
    "    df[\"ruler_100_pct\"] = 100\n",
    "    df[\"ruler_for_vp_per_min\"] = 2\n",
    "\n",
    "    # Add a column that flips frequency to be every X minutes instead\n",
    "    # of every hour.\n",
    "    df[\"headway_in_minutes\"] = 60 / df.frequency\n",
    "\n",
    "    # Replace missing values in route_primary_direction\n",
    "    df.route_primary_direction = df.route_primary_direction.fillna(df.direction_id)\n",
    "\n",
    "    # Replace column names\n",
    "    df = _report_utils.replace_column_names(df)\n",
    "\n",
    "    return df"
   ]
  },
  {
   "cell_type": "code",
   "execution_count": null,
   "id": "7ce353b4-6771-48e2-be91-abe442b1ed6a",
   "metadata": {
    "tags": []
   },
   "outputs": [],
   "source": [
    "dumbardton_df = load_vp_metrics(\"Dumbarton Bridge Regional Operations Consortium\")"
   ]
  },
  {
   "cell_type": "code",
   "execution_count": null,
   "id": "214bae42-a3c3-4132-b01c-0fbd250ff673",
   "metadata": {
    "tags": []
   },
   "outputs": [],
   "source": [
    "dumbardton_df.head(1)"
   ]
  },
  {
   "cell_type": "code",
   "execution_count": null,
   "id": "3cd477b6-a367-4833-ae64-59f2c88f21c0",
   "metadata": {
    "tags": []
   },
   "outputs": [],
   "source": [
    "socal_rail_df = load_vp_metrics(\"Southern California Regional Rail Authority\")"
   ]
  },
  {
   "cell_type": "code",
   "execution_count": null,
   "id": "3cadd6f4-21be-499e-b06c-21001961883c",
   "metadata": {
    "tags": []
   },
   "outputs": [],
   "source": [
    "gg_df = load_vp_metrics(\"Golden Gate Bridge, Highway and Transportation District\")"
   ]
  },
  {
   "cell_type": "code",
   "execution_count": null,
   "id": "9d7161f2-3725-47ea-8674-016b3a7960b8",
   "metadata": {
    "tags": []
   },
   "outputs": [],
   "source": [
    "def filtered_route(\n",
    "    df: pd.DataFrame,\n",
    ") -> alt.Chart:\n",
    "    \"\"\"\n",
    "    This combines all the charts together, controlled by a single\n",
    "    dropdown.\n",
    "\n",
    "    Resources:\n",
    "        https://stackoverflow.com/questions/58919888/multiple-selections-in-altair\n",
    "    \"\"\"\n",
    "    # Create dropdown\n",
    "    routes_list = df[\"Route\"].unique().tolist()\n",
    "\n",
    "    route_dropdown = alt.binding_select(\n",
    "        options=routes_list,\n",
    "        name=\"Routes: \",\n",
    "    )\n",
    "    # Column that controls the bar charts\n",
    "    xcol_param = alt.selection_point(\n",
    "        fields=[\"Route\"], value=routes_list[0], bind=route_dropdown\n",
    "    )\n",
    "\n",
    "    # Filter for only rows that are \"all day\" statistics\n",
    "    all_day = df.loc[df[\"Period\"] == \"all_day\"].reset_index(drop=True)\n",
    "\n",
    "    # Manipulate the df for some of the metrics\n",
    "    timeliness_df = section2.timeliness_trips(df)\n",
    "    sched_journey_vp = section2.pct_vp_journey(\n",
    "        all_day,\n",
    "        \"% Scheduled Trip w/ 1+ VP/Minute\",\n",
    "        \"% Scheduled Trip w/ 2+ VP/Minute\",\n",
    "    )\n",
    "    route_stats_df = section2.route_stats(df)\n",
    "\n",
    "    # Create the charts\n",
    "    timeliness_trips_dir_0 = (\n",
    "        (\n",
    "            section2.base_facet_chart(\n",
    "                timeliness_df.loc[timeliness_df[\"dir_0_1\"] == 0],\n",
    "                0,\n",
    "                \"value\",\n",
    "                \"variable\",\n",
    "                \"Period\",\n",
    "                readable_dict[\"timeliness_trips_graph\"][\"title\"],\n",
    "                readable_dict[\"timeliness_trips_graph\"][\"subtitle\"],\n",
    "                color_dict[\"tri_color2\"],\n",
    "            )\n",
    "        )\n",
    "        .add_params(xcol_param)\n",
    "        .transform_filter(xcol_param)\n",
    "    )\n",
    "    timeliness_trips_dir_1 = (\n",
    "        (\n",
    "            section2.base_facet_chart(\n",
    "                timeliness_df.loc[timeliness_df[\"dir_0_1\"] == 1],\n",
    "                1,\n",
    "                \"value\",\n",
    "                \"variable\",\n",
    "                \"Period\",\n",
    "                readable_dict[\"timeliness_trips_graph\"][\"title\"],\n",
    "                \"\",\n",
    "                color_dict[\"tri_color2\"],\n",
    "            )\n",
    "        )\n",
    "        .add_params(xcol_param)\n",
    "        .transform_filter(xcol_param)\n",
    "    )\n",
    "\n",
    "    speed_graph_dir_0 = (\n",
    "        section2.grouped_bar_chart(\n",
    "            df.loc[df.dir_0_1 == 0],\n",
    "            \"Period\",\n",
    "            \"Speed (MPH)\",\n",
    "            \"Period\",\n",
    "            readable_dict[\"speed_graph_dir_0\"][\"title\"],\n",
    "            readable_dict[\"speed_graph_dir_0\"][\"subtitle\"],\n",
    "            color_dict[\"tri_color2\"],\n",
    "        )\n",
    "        .add_params(xcol_param)\n",
    "        .transform_filter(xcol_param)\n",
    "    )\n",
    "    speed_graph_dir_1 = (\n",
    "        section2.grouped_bar_chart(\n",
    "            df.loc[df.dir_0_1 == 1],\n",
    "            \"Period\",\n",
    "            \"Speed (MPH)\",\n",
    "            \"Period\",\n",
    "            readable_dict[\"speed_graph_dir_1\"][\"title\"],\n",
    "            readable_dict[\"speed_graph_dir_0\"][\"subtitle\"],\n",
    "            color_dict[\"tri_color2\"],\n",
    "        )\n",
    "        .add_params(xcol_param)\n",
    "        .transform_filter(xcol_param)\n",
    "    )\n",
    "    vp_per_min_graph = (\n",
    "        (\n",
    "            section2.base_facet_with_ruler_chart(\n",
    "                all_day,\n",
    "                \"Average VP per Minute\",\n",
    "                \"ruler_for_vp_per_min\",\n",
    "                readable_dict[\"vp_per_min_graph\"][\"title\"],\n",
    "                readable_dict[\"vp_per_min_graph\"][\"subtitle\"],\n",
    "                color_dict[\"vp_domain\"],\n",
    "                color_dict[\"vp_range\"],\n",
    "            )\n",
    "        )\n",
    "        .add_params(xcol_param)\n",
    "        .transform_filter(xcol_param)\n",
    "    )\n",
    "\n",
    "    sched_vp_per_min = (\n",
    "        section2.base_facet_circle(\n",
    "            sched_journey_vp,\n",
    "            \"% of Actual Trip Minutes\",\n",
    "            \"Category\",\n",
    "            \"ruler_100_pct\",\n",
    "            readable_dict[\"sched_vp_per_min_graph\"][\"title\"],\n",
    "            readable_dict[\"sched_vp_per_min_graph\"][\"subtitle\"],\n",
    "            color_dict[\"tri_color2\"],\n",
    "        )\n",
    "        .add_params(xcol_param)\n",
    "        .transform_filter(xcol_param)\n",
    "    )\n",
    "    spatial_accuracy = (\n",
    "        section2.base_facet_with_ruler_chart(\n",
    "            all_day,\n",
    "            \"% VP within Scheduled Shape\",\n",
    "            \"ruler_100_pct\",\n",
    "            readable_dict[\"spatial_accuracy_graph\"][\"title\"],\n",
    "            readable_dict[\"spatial_accuracy_graph\"][\"subtitle\"],\n",
    "            color_dict[\"spatial_accuracy_domain\"],\n",
    "            color_dict[\"spatial_accuracy_range\"],\n",
    "        )\n",
    "        .add_params(xcol_param)\n",
    "        .transform_filter(xcol_param)\n",
    "    )\n",
    "    # Separate out the charts themetically.\n",
    "    ride_quality = section2.divider_chart(\n",
    "        df, readable_dict[\"ride_quality_graph\"][\"title\"]\n",
    "    )\n",
    "    data_quality = section2.divider_chart(\n",
    "        df, readable_dict[\"data_quality_graph\"][\"title\"]\n",
    "    )\n",
    "\n",
    "    # Combine all the charts\n",
    "    chart_list = [\n",
    "        ride_quality,\n",
    "        timeliness_trips_dir_0,\n",
    "        timeliness_trips_dir_1,\n",
    "        speed_graph_dir_0,\n",
    "        speed_graph_dir_1,\n",
    "        data_quality,\n",
    "        vp_per_min_graph,\n",
    "        sched_vp_per_min,\n",
    "        spatial_accuracy,\n",
    "    ]\n",
    "\n",
    "    chart = alt.vconcat(*chart_list)\n",
    "\n",
    "    return chart"
   ]
  },
  {
   "cell_type": "code",
   "execution_count": null,
   "id": "f96759db-d4cf-452d-ab2d-ca6f4bb05471",
   "metadata": {
    "tags": []
   },
   "outputs": [],
   "source": [
    "filtered_route(gg_df)"
   ]
  },
  {
   "cell_type": "code",
   "execution_count": null,
   "id": "ad24dee0-68b1-416f-8486-dfcd63c41857",
   "metadata": {
    "tags": []
   },
   "outputs": [],
   "source": [
    "filtered_route(socal_rail_df)"
   ]
  },
  {
   "cell_type": "code",
   "execution_count": null,
   "id": "3868e8d9-cdb8-49cd-8d2f-572c663a972e",
   "metadata": {
    "tags": []
   },
   "outputs": [],
   "source": [
    "filtered_route(dumbardton_df)"
   ]
  },
  {
   "cell_type": "markdown",
   "id": "416760fe-6136-459a-a9ae-d2d10547c8d0",
   "metadata": {
    "tags": []
   },
   "source": [
    "### `Average Scheduled Minutes` chart doesn't work."
   ]
  },
  {
   "cell_type": "code",
   "execution_count": null,
   "id": "63c4f58a-b474-4d17-afac-31ed73a9f807",
   "metadata": {
    "tags": []
   },
   "outputs": [],
   "source": [
    "(\n",
    "    (\n",
    "        section2.base_facet_chart(\n",
    "            timeliness_df.loc[timeliness_df[\"dir_0_1\"] == 1],\n",
    "            1,\n",
    "            \"value\",\n",
    "            \"variable\",\n",
    "            \"Period\",\n",
    "            readable_dict[\"timeliness_trips_graph\"][\"title\"],\n",
    "            \"\",\n",
    "        )\n",
    "    )\n",
    "    .add_params(xcol_param)\n",
    "    .transform_filter(xcol_param)\n",
    ")"
   ]
  },
  {
   "cell_type": "code",
   "execution_count": null,
   "id": "475b4343-8345-4093-8ad0-d17641cdefbf",
   "metadata": {
    "tags": []
   },
   "outputs": [],
   "source": [
    "df.headway_in_minutes = df.headway_in_minutes.fillna(0)"
   ]
  },
  {
   "cell_type": "markdown",
   "id": "086a6085-9eac-4736-958d-97bba3b7e76e",
   "metadata": {},
   "source": [
    "### `Frequency` doesn't work."
   ]
  },
  {
   "cell_type": "code",
   "execution_count": null,
   "id": "863a4c32-2da2-47e6-8904-100c77b205d2",
   "metadata": {
    "tags": []
   },
   "outputs": [],
   "source": [
    "(\n",
    "    section2.frequency_chart(\n",
    "        df,\n",
    "        0,\n",
    "        readable_dict[\"frequency_graph\"][\"title\"],\n",
    "        readable_dict[\"frequency_graph\"][\"subtitle\"],\n",
    "    )\n",
    "    .add_params(xcol_param)\n",
    "    .transform_filter(xcol_param)\n",
    ")"
   ]
  },
  {
   "cell_type": "markdown",
   "id": "61e7901a-304a-4fe7-9567-38cc123a3b65",
   "metadata": {},
   "source": [
    "#### `speed` also doesn't work."
   ]
  },
  {
   "cell_type": "code",
   "execution_count": null,
   "id": "13c99798-54a8-4735-b6e9-57f7fdbaf4f4",
   "metadata": {
    "tags": []
   },
   "outputs": [],
   "source": [
    "(\n",
    "    section2.grouped_bar_chart(\n",
    "        df.loc[df.dir_0_1 == 0],\n",
    "        \"Period\",\n",
    "        \"Speed (MPH)\",\n",
    "        \"Period\",\n",
    "        readable_dict[\"speed_graph_dir_0\"][\"title\"],\n",
    "        readable_dict[\"speed_graph_dir_0\"][\"subtitle\"],\n",
    "    )\n",
    "    .add_params(xcol_param)\n",
    "    .transform_filter(xcol_param)\n",
    ")"
   ]
  },
  {
   "cell_type": "code",
   "execution_count": null,
   "id": "e95720ce-8c27-4548-a245-03d1abe75853",
   "metadata": {
    "scrolled": true,
    "tags": []
   },
   "outputs": [],
   "source": [
    "all_day.head(1).T"
   ]
  },
  {
   "cell_type": "code",
   "execution_count": null,
   "id": "bb2ff8c6-d2c8-4830-a313-5c2937893f6a",
   "metadata": {
    "tags": []
   },
   "outputs": [],
   "source": [
    "(\n",
    "    (\n",
    "        section2.base_facet_with_ruler_chart(\n",
    "            all_day.loc[all_day.dir_0_1 == 0],\n",
    "            \"Average VP per Minute\",\n",
    "            \"ruler_for_vp_per_min\",\n",
    "            readable_dict[\"vp_per_min_graph\"][\"title\"],\n",
    "            readable_dict[\"vp_per_min_graph\"][\"subtitle\"],\n",
    "            color_dict[\"vp_domain\"],\n",
    "            color_dict[\"vp_range\"],\n",
    "        )\n",
    "    )\n",
    "    .add_params(xcol_param)\n",
    "    .transform_filter(xcol_param)\n",
    ")"
   ]
  },
  {
   "cell_type": "code",
   "execution_count": null,
   "id": "8509c8b5-e7fb-480d-b95e-750095912012",
   "metadata": {
    "tags": []
   },
   "outputs": [],
   "source": [
    "(\n",
    "    (\n",
    "        section2.base_facet_with_ruler_chart(\n",
    "            all_day.loc[all_day.dir_0_1 == 1],\n",
    "            \"Average VP per Minute\",\n",
    "            \"ruler_for_vp_per_min\",\n",
    "            readable_dict[\"vp_per_min_graph\"][\"title\"],\n",
    "            readable_dict[\"vp_per_min_graph\"][\"subtitle\"],\n",
    "            color_dict[\"vp_domain\"],\n",
    "            color_dict[\"vp_range\"],\n",
    "        )\n",
    "    )\n",
    "    .add_params(xcol_param)\n",
    "    .transform_filter(xcol_param)\n",
    ")"
   ]
  },
  {
   "cell_type": "code",
   "execution_count": null,
   "id": "ab82e6c6-af1d-4714-adef-5794515a503b",
   "metadata": {
    "tags": []
   },
   "outputs": [],
   "source": [
    "sched_journey_vp.columns"
   ]
  },
  {
   "cell_type": "code",
   "execution_count": null,
   "id": "629c830a-bef7-4c2b-83d7-2d83bd02b718",
   "metadata": {
    "tags": []
   },
   "outputs": [],
   "source": [
    "sched_journey_vp = sched_journey_vp.rename(columns={\"dir_0_1\": \"Direction\"})"
   ]
  },
  {
   "cell_type": "code",
   "execution_count": null,
   "id": "3ee32005-28e9-4d1c-bbf6-56805a38e5fc",
   "metadata": {
    "tags": []
   },
   "outputs": [],
   "source": [
    "(\n",
    "    section2.base_facet_circle(\n",
    "        sched_journey_vp,\n",
    "        \"% of Actual Trip Minutes\",\n",
    "        \"Category\",\n",
    "        \"ruler_100_pct\",\n",
    "        readable_dict[\"sched_vp_per_min_graph\"][\"title\"],\n",
    "        readable_dict[\"sched_vp_per_min_graph\"][\"subtitle\"],\n",
    "    )\n",
    "    .add_params(xcol_param)\n",
    "    .transform_filter(xcol_param)\n",
    ")"
   ]
  },
  {
   "cell_type": "markdown",
   "id": "6d946bfd-0784-4b54-a1ff-8b061974c75c",
   "metadata": {},
   "source": [
    "#### The bars are stacked because the direction 0/1 are coded as \"None\" in `route_primary_direction`\n",
    "* Need to drop Direction and rename `dir_0_1` as Direction."
   ]
  },
  {
   "cell_type": "code",
   "execution_count": null,
   "id": "73afece6-8fa4-40a8-89eb-ee36329dd5cd",
   "metadata": {
    "tags": []
   },
   "outputs": [],
   "source": [
    "all_day = all_day.drop(columns=[\"Direction\"]).rename(columns={\"dir_0_1\": \"Direction\"})"
   ]
  },
  {
   "cell_type": "code",
   "execution_count": null,
   "id": "5961002b-e9a3-4ee7-8eb1-696471e66dce",
   "metadata": {
    "tags": []
   },
   "outputs": [],
   "source": [
    "(\n",
    "    section2.base_facet_with_ruler_chart(\n",
    "        all_day,\n",
    "        \"% VP within Scheduled Shape\",\n",
    "        \"ruler_100_pct\",\n",
    "        readable_dict[\"spatial_accuracy_graph\"][\"title\"],\n",
    "        readable_dict[\"spatial_accuracy_graph\"][\"subtitle\"],\n",
    "        color_dict[\"spatial_accuracy_domain\"],\n",
    "        color_dict[\"spatial_accuracy_range\"],\n",
    "    )\n",
    "    .add_params(xcol_param)\n",
    "    .transform_filter(xcol_param)\n",
    ")"
   ]
  },
  {
   "cell_type": "markdown",
   "id": "dd6e3354-a926-44ee-a3da-ccdc7b239688",
   "metadata": {},
   "source": [
    "## Why is <i>Golden Gate Bridge, Highway and Transportation District</i> `vp_only`? It should have schedule data!"
   ]
  },
  {
   "cell_type": "code",
   "execution_count": null,
   "id": "1511769c-7491-41a3-ad6f-56b5234a4d82",
   "metadata": {
    "tags": []
   },
   "outputs": [],
   "source": [
    "import merge_data"
   ]
  },
  {
   "cell_type": "code",
   "execution_count": null,
   "id": "19d7a09e-fdbe-46c0-98b9-5ec513c311f7",
   "metadata": {
    "tags": []
   },
   "outputs": [],
   "source": [
    "analysis_date"
   ]
  },
  {
   "cell_type": "code",
   "execution_count": null,
   "id": "8f8344df-6055-4eb0-8132-a66a391b4159",
   "metadata": {
    "tags": []
   },
   "outputs": [],
   "source": [
    "sched_df = merge_data.concatenate_schedule_by_route_direction(analysis_date_list)"
   ]
  },
  {
   "cell_type": "code",
   "execution_count": null,
   "id": "e34e4323-479b-4727-b674-69b0dd76bfe8",
   "metadata": {
    "tags": []
   },
   "outputs": [],
   "source": [
    "sched_df.loc[sched_df.schedule_gtfs_dataset_key == \"aea4108997c66a74fbdae27b34b69fde\"]"
   ]
  }
 ],
 "metadata": {
  "kernelspec": {
   "display_name": "Python 3 (ipykernel)",
   "language": "python",
   "name": "python3"
  },
  "language_info": {
   "codemirror_mode": {
    "name": "ipython",
    "version": 3
   },
   "file_extension": ".py",
   "mimetype": "text/x-python",
   "name": "python",
   "nbconvert_exporter": "python",
   "pygments_lexer": "ipython3",
   "version": "3.11.10"
  }
 },
 "nbformat": 4,
 "nbformat_minor": 5
}
