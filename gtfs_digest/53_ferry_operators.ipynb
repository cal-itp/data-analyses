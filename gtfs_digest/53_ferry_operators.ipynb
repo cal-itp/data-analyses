{
 "cells": [
  {
   "cell_type": "markdown",
   "id": "e4334b85-9c5c-4d45-9dd7-b27ed6c19774",
   "metadata": {},
   "source": [
    "# Research Request - GTFS Digest: Add Rail and Ferry Operators. #1386\n",
    "\n",
    "Tiffany's comment:\n",
    "If it's just a couple of rail, (Amtrak, Metrolink) and a handful of ferry operators, it's worth digging into the why they dropped off, and start by looking for their rows in the 4 schedule tables: trips, shapes, stops, stop_times, and then look for it in a vp table.\n",
    "\n",
    "* I think the ferry operators and Metrolink are already associated to a district. Even Amtrak might be? But if Amtrak isn't, you can create a separate \"district = Amtrak\" the merged df so it always has a tab for itself. Amtrak plots for the entire country!\n",
    "* District 4: San Francisco Bay Area Rapid Transit (BART), City and County of San Francisco (Muni)\n",
    "* District 7: Los Angeles County Metropolitan Transportation Authority (LA Metro)\n",
    "* District 11: San Diego Metropolitan Transit System\n",
    "\n",
    "Amanda\n",
    "* Ferry operator: Bay Area WETA, City of Alameda, and Golden Gate Bridge, Highway and Transportation District show up. All 3 are vp_only so they were filtered out -> incorporate them in? \n",
    "* The only ferry operator missing is Santa Cruz Harbor. \n",
    "* Amtrak is in District 3 but it has schedule_only data, which isn't true? \n",
    "\n",
    "* Here's a list of ferry operators in California from Evan's comment [here](https://github.com/cal-itp/data-analyses/issues/1357):\n",
    "    \n",
    "    * City of Alameda\n",
    "    * Golden Gate\n",
    "    * SF WETA\n",
    "    * Santa Cruz Harbor\n",
    "* 2/26\n",
    "    * Don't filter out any of the operators when generating the yaml that powers GTFS Digest. \n",
    "    * Come up with a different section of code for operators that are `vp_only`"
   ]
  },
  {
   "cell_type": "code",
   "execution_count": null,
   "id": "3f18908d-10d0-4a49-b085-eec4ba0955ba",
   "metadata": {},
   "outputs": [],
   "source": [
    "import _section1_utils as section1\n",
    "import _section2_utils as section2\n",
    "import geopandas as gpd\n",
    "import merge_data\n",
    "import merge_operator_data\n",
    "import numpy as np\n",
    "import pandas as pd\n",
    "from segment_speed_utils import gtfs_schedule_wrangling, helpers\n",
    "from segment_speed_utils.project_vars import COMPILED_CACHED_VIEWS, PROJECT_CRS\n",
    "from shared_utils import catalog_utils, portfolio_utils, rt_dates\n",
    "from update_vars import GTFS_DATA_DICT, RT_SCHED_GCS, SCHED_GCS, SEGMENT_GCS"
   ]
  },
  {
   "cell_type": "code",
   "execution_count": null,
   "id": "62d180d8-c968-4f42-9aa5-c6aabda1766b",
   "metadata": {
    "tags": []
   },
   "outputs": [],
   "source": [
    "pd.options.display.max_columns = 100\n",
    "pd.options.display.float_format = \"{:.2f}\".format\n",
    "pd.set_option(\"display.max_rows\", None)\n",
    "pd.set_option(\"display.max_colwidth\", None)"
   ]
  },
  {
   "cell_type": "code",
   "execution_count": null,
   "id": "e023d10e-0bd7-4961-b8e3-ee8dca6f5a8a",
   "metadata": {
    "tags": []
   },
   "outputs": [],
   "source": [
    "analysis_date_list = [rt_dates.DATES[\"feb2025\"]]"
   ]
  },
  {
   "cell_type": "code",
   "execution_count": null,
   "id": "f2a12738-ee3f-4d7d-b831-19ada34347e3",
   "metadata": {
    "tags": []
   },
   "outputs": [],
   "source": [
    "analysis_date = rt_dates.DATES[\"feb2025\"]"
   ]
  },
  {
   "cell_type": "code",
   "execution_count": null,
   "id": "83df0e4b-446d-4a48-8899-8c434a0a8321",
   "metadata": {
    "tags": []
   },
   "outputs": [],
   "source": [
    "schd_vp_url = f\"{GTFS_DATA_DICT.digest_tables.dir}{GTFS_DATA_DICT.digest_tables.route_schedule_vp}.parquet\""
   ]
  },
  {
   "cell_type": "code",
   "execution_count": null,
   "id": "ea74c10e-2bfb-46c1-a197-8cd0c931ec99",
   "metadata": {
    "tags": []
   },
   "outputs": [],
   "source": [
    "EXPORT = GTFS_DATA_DICT.schedule_tables.route_typologies"
   ]
  },
  {
   "cell_type": "code",
   "execution_count": null,
   "id": "4ee30e2d-8349-4345-b554-fd0a05d5d342",
   "metadata": {
    "tags": []
   },
   "outputs": [],
   "source": [
    "route_typologies = pd.read_parquet(f\"{SCHED_GCS}{EXPORT}_{analysis_date}.parquet\")"
   ]
  },
  {
   "cell_type": "markdown",
   "id": "bce8298a-0cf3-4eac-b10d-c673ba207d73",
   "metadata": {},
   "source": [
    "## Look at operators in `digest/schedule_vp_metrics` without any filters to see if ferry and rail operators are in here.\n",
    "* Ferry operators except Bay Area Water Emergency Services (which isn't even a ferry?) aren't here."
   ]
  },
  {
   "cell_type": "code",
   "execution_count": null,
   "id": "5426db9a-b949-44ef-a05a-dd3887ee91ed",
   "metadata": {
    "tags": []
   },
   "outputs": [],
   "source": [
    "schd_vp_df = pd.read_parquet(\n",
    "    schd_vp_url,\n",
    "    columns=[\n",
    "        \"schedule_gtfs_dataset_key\",\n",
    "        \"caltrans_district\",\n",
    "        \"organization_name\",\n",
    "        \"name\",\n",
    "        \"sched_rt_category\",\n",
    "        \"service_date\",\n",
    "    ],\n",
    ")"
   ]
  },
  {
   "cell_type": "code",
   "execution_count": null,
   "id": "355afbcf-b156-4655-87f8-3c7f38fff66d",
   "metadata": {
    "tags": []
   },
   "outputs": [],
   "source": [
    "# Filter for Jan and Feb\n",
    "schd_vp_df2 = schd_vp_df.loc[\n",
    "    (schd_vp_df.service_date == \"2025-01-15\")\n",
    "    | (schd_vp_df.service_date == \"2024-12-11\")\n",
    "]"
   ]
  },
  {
   "cell_type": "code",
   "execution_count": null,
   "id": "807342c6-a31e-40ff-bc60-1eec7f0d2dc9",
   "metadata": {
    "scrolled": true,
    "tags": []
   },
   "outputs": [],
   "source": [
    "# Drop duplicates\n",
    "schd_vp_df3 = (\n",
    "    schd_vp_df2[\n",
    "        [\"organization_name\", \"service_date\", \"sched_rt_category\", \"caltrans_district\"]\n",
    "    ]\n",
    "    .drop_duplicates(subset=[\"organization_name\"])\n",
    "    .sort_values(by=[\"organization_name\"])\n",
    ")"
   ]
  },
  {
   "cell_type": "code",
   "execution_count": null,
   "id": "2e18f1e7-158a-456f-8f43-322d9bbac21a",
   "metadata": {
    "tags": []
   },
   "outputs": [],
   "source": [
    "schd_vp_df3.sched_rt_category.value_counts()"
   ]
  },
  {
   "cell_type": "code",
   "execution_count": null,
   "id": "2c295031-fc78-4bfb-a485-4d81576632a2",
   "metadata": {
    "tags": []
   },
   "outputs": [],
   "source": [
    "schd_vp_df3.loc[schd_vp_df3.sched_rt_category == \"vp_only\"]"
   ]
  },
  {
   "cell_type": "code",
   "execution_count": null,
   "id": "f4b7a55d-dcfb-4c85-ba3c-6afab3fc0613",
   "metadata": {
    "tags": []
   },
   "outputs": [],
   "source": [
    "schd_vp_df3.columns"
   ]
  },
  {
   "cell_type": "markdown",
   "id": "a80616f0-6bf5-4c83-9477-70f61dde1577",
   "metadata": {},
   "source": [
    "### Southern California Regional Rail Authority is vehicle positions only, sort of strange."
   ]
  },
  {
   "cell_type": "code",
   "execution_count": null,
   "id": "cfa4ee54-b3a6-4745-9218-51be8d9b12ed",
   "metadata": {
    "tags": []
   },
   "outputs": [],
   "source": [
    "schd_vp_df3.loc[schd_vp_df3.organization_name.str.contains(\"Rail\")]"
   ]
  },
  {
   "cell_type": "code",
   "execution_count": null,
   "id": "3742905a-8dc5-4a1c-bc39-6d2c817dbe6b",
   "metadata": {
    "tags": []
   },
   "outputs": [],
   "source": [
    "schd_vp_df3.loc[schd_vp_df3.organization_name.str.contains(\"Metropolitan\")]"
   ]
  },
  {
   "cell_type": "code",
   "execution_count": null,
   "id": "9d950b6c-a656-423e-bc3e-4f1762818603",
   "metadata": {
    "tags": []
   },
   "outputs": [],
   "source": [
    "schd_vp_df3.loc[schd_vp_df3.organization_name.str.contains(\"Fleet\")]"
   ]
  },
  {
   "cell_type": "code",
   "execution_count": null,
   "id": "be2940ce-179e-41c8-b261-011c88ddc035",
   "metadata": {
    "tags": []
   },
   "outputs": [],
   "source": [
    "schd_vp_df3.loc[schd_vp_df3.organization_name.str.contains(\"Ferry\")]"
   ]
  },
  {
   "cell_type": "code",
   "execution_count": null,
   "id": "8c9d512e-04ad-416d-95a4-811cf68a6163",
   "metadata": {
    "tags": []
   },
   "outputs": [],
   "source": [
    "schd_vp_df3.loc[schd_vp_df3.organization_name.str.contains(\"Bay\")]"
   ]
  },
  {
   "cell_type": "code",
   "execution_count": null,
   "id": "59959e43-c4df-4600-a52a-2bb9e82dace8",
   "metadata": {
    "tags": []
   },
   "outputs": [],
   "source": [
    "schd_vp_df3.loc[schd_vp_df3.organization_name.str.contains(\"Alameda\")]"
   ]
  },
  {
   "cell_type": "code",
   "execution_count": null,
   "id": "6dc63065-077e-49e8-a669-f3e09fa2b0d4",
   "metadata": {
    "tags": []
   },
   "outputs": [],
   "source": [
    "schd_vp_df3.loc[schd_vp_df3.organization_name.str.contains(\"Golden\")]"
   ]
  },
  {
   "cell_type": "code",
   "execution_count": null,
   "id": "045dc63f-212c-444b-b867-11cf80723d29",
   "metadata": {
    "tags": []
   },
   "outputs": [],
   "source": [
    "schd_vp_df3.loc[schd_vp_df3.organization_name.str.contains(\"Santa Cruz\")]"
   ]
  },
  {
   "cell_type": "markdown",
   "id": "cc8fab70-1fe5-444b-98c9-64b77c6a3411",
   "metadata": {},
   "source": [
    "## Look at ferry operators and see how to incorporate them\n",
    "* San Francisco Bay Area Water Emergency Transit Authority\n",
    "* City of Alameda\n",
    "* Golden Gate Bridge, Highway and Transportation District"
   ]
  },
  {
   "cell_type": "markdown",
   "id": "43063dfd-e385-49c3-9af1-26089d741c69",
   "metadata": {},
   "source": [
    "### City of Alameda"
   ]
  },
  {
   "cell_type": "code",
   "execution_count": null,
   "id": "2079bb90-2ebe-4447-949a-72cc83e896a8",
   "metadata": {
    "tags": []
   },
   "outputs": [],
   "source": [
    "city_of_alameda_df = pd.read_parquet(\n",
    "    schd_vp_url,\n",
    "    filters=[\n",
    "        [\n",
    "            (\"organization_name\", \"==\", \"City of Alameda\"),\n",
    "        ]\n",
    "    ],\n",
    ")"
   ]
  },
  {
   "cell_type": "code",
   "execution_count": null,
   "id": "8032603e-4775-4768-aa75-29ae248950e5",
   "metadata": {
    "tags": []
   },
   "outputs": [],
   "source": [
    "city_of_alameda_df[\n",
    "    [\n",
    "        \"route_primary_direction\",\n",
    "        \"route_long_name\",\n",
    "        \"route_short_name\",\n",
    "        \"route_combined_name\",\n",
    "        \"route_id\",\n",
    "        \"typology\",\n",
    "    ]\n",
    "].drop_duplicates()"
   ]
  },
  {
   "cell_type": "code",
   "execution_count": null,
   "id": "5c92dceb-72a5-4d48-bd83-fbc4b96790c3",
   "metadata": {
    "tags": []
   },
   "outputs": [],
   "source": [
    "city_of_alameda_df.schedule_gtfs_dataset_key.unique()"
   ]
  },
  {
   "cell_type": "code",
   "execution_count": null,
   "id": "78a9eacd-1739-4e9e-b2fe-e350fe3b6d03",
   "metadata": {
    "tags": []
   },
   "outputs": [],
   "source": [
    "city_of_alameda_df.columns"
   ]
  },
  {
   "cell_type": "markdown",
   "id": "846e2f7c-7d06-4c6d-8d5a-1c1622f8c94b",
   "metadata": {},
   "source": [
    "#### No ferry typologies."
   ]
  },
  {
   "cell_type": "code",
   "execution_count": null,
   "id": "7485f8dd-5cd5-4ee2-82cb-34300908411c",
   "metadata": {
    "tags": []
   },
   "outputs": [],
   "source": [
    "route_typologies.loc[\n",
    "    route_typologies.schedule_gtfs_dataset_key == \"82f30e22dafe8156367297eb9a316c57\"\n",
    "]"
   ]
  },
  {
   "cell_type": "markdown",
   "id": "ed769df9-d493-4ffc-8341-69c9ece98f47",
   "metadata": {},
   "source": [
    "### San Francisco Bay Area Water Emergency Transit Authority\n",
    "* Duplicates City of Alameda data except for Oyster Bay."
   ]
  },
  {
   "cell_type": "code",
   "execution_count": null,
   "id": "9f1fbb8b-36e9-45d4-a28b-6cc7badc16f8",
   "metadata": {
    "tags": []
   },
   "outputs": [],
   "source": [
    "weta_df = pd.read_parquet(\n",
    "    schd_vp_url,\n",
    "    filters=[\n",
    "        [\n",
    "            (\n",
    "                \"organization_name\",\n",
    "                \"==\",\n",
    "                \"San Francisco Bay Area Water Emergency Transit Authority\",\n",
    "            ),\n",
    "        ]\n",
    "    ],\n",
    ")"
   ]
  },
  {
   "cell_type": "code",
   "execution_count": null,
   "id": "4d42a8ca-0c53-44b0-bf4b-5339b5b77e58",
   "metadata": {
    "tags": []
   },
   "outputs": [],
   "source": [
    "weta_df[\n",
    "    [\n",
    "        \"route_primary_direction\",\n",
    "        \"route_long_name\",\n",
    "        \"route_short_name\",\n",
    "        \"route_combined_name\",\n",
    "        \"route_id\",\n",
    "        \"typology\",\n",
    "    ]\n",
    "].drop_duplicates()"
   ]
  },
  {
   "cell_type": "markdown",
   "id": "3e5fb047-b0fd-4a2c-8fe3-7acd1b8c3520",
   "metadata": {},
   "source": [
    "### Golden Gate\n",
    "* Only Bus Routes.\n",
    "* This should be schedule too? "
   ]
  },
  {
   "cell_type": "code",
   "execution_count": null,
   "id": "878151f7-343e-4d20-81e5-9333b4243051",
   "metadata": {
    "tags": []
   },
   "outputs": [],
   "source": [
    "goldengate_df = pd.read_parquet(\n",
    "    schd_vp_url,\n",
    "    filters=[\n",
    "        [\n",
    "            (\n",
    "                \"organization_name\",\n",
    "                \"==\",\n",
    "                \"Golden Gate Bridge, Highway and Transportation District\",\n",
    "            ),\n",
    "        ]\n",
    "    ],\n",
    ")"
   ]
  },
  {
   "cell_type": "code",
   "execution_count": null,
   "id": "eca7bbe9-68da-44f2-b7b8-e6af23c1b57d",
   "metadata": {
    "tags": []
   },
   "outputs": [],
   "source": [
    "goldengate_df.sched_rt_category.value_counts()"
   ]
  },
  {
   "cell_type": "code",
   "execution_count": null,
   "id": "c1da7458-77f5-4377-8264-e71f9c613ba0",
   "metadata": {
    "tags": []
   },
   "outputs": [],
   "source": [
    "goldengate_df.columns"
   ]
  },
  {
   "cell_type": "code",
   "execution_count": null,
   "id": "a3e306cd-feb6-4d4d-b32c-ea86cdbf85db",
   "metadata": {
    "tags": []
   },
   "outputs": [],
   "source": [
    "goldengate_df.schedule_gtfs_dataset_key.unique()"
   ]
  },
  {
   "cell_type": "code",
   "execution_count": null,
   "id": "42e3da60-abb0-472c-9232-3356effc55ac",
   "metadata": {
    "tags": []
   },
   "outputs": [],
   "source": [
    "goldengate_df[\n",
    "    [\n",
    "        \"route_primary_direction\",\n",
    "        \"route_long_name\",\n",
    "        \"route_short_name\",\n",
    "        \"route_combined_name\",\n",
    "        \"route_id\",\n",
    "        \"typology\",\n",
    "    ]\n",
    "].drop_duplicates()"
   ]
  },
  {
   "cell_type": "markdown",
   "id": "bebf047e-4e6b-4d68-9fc4-62f020170f28",
   "metadata": {},
   "source": [
    "### Seeing which graphs are vp_only using "
   ]
  },
  {
   "cell_type": "code",
   "execution_count": null,
   "id": "50e619d2-7cc5-4513-8b10-6ff8cd4a0380",
   "metadata": {
    "tags": []
   },
   "outputs": [],
   "source": [
    "import _report_utils\n",
    "import altair as alt\n",
    "import yaml"
   ]
  },
  {
   "cell_type": "code",
   "execution_count": null,
   "id": "a7ec53ec-91f0-42c8-8bba-f8a32c7cae7a",
   "metadata": {
    "tags": []
   },
   "outputs": [],
   "source": [
    "with open(\"readable.yml\") as f:\n",
    "    readable_dict = yaml.safe_load(f)"
   ]
  },
  {
   "cell_type": "code",
   "execution_count": null,
   "id": "36840767-f5bb-4e34-9fd4-51119ecc420c",
   "metadata": {
    "tags": []
   },
   "outputs": [],
   "source": [
    "with open(\"color_palettes.yml\") as f:\n",
    "    color_dict = yaml.safe_load(f)"
   ]
  },
  {
   "cell_type": "code",
   "execution_count": null,
   "id": "cc8234d3-7d5a-4ab9-9a61-011e49c86e04",
   "metadata": {
    "tags": []
   },
   "outputs": [],
   "source": [
    "df = weta_df.copy()"
   ]
  },
  {
   "cell_type": "code",
   "execution_count": null,
   "id": "0431e973-4b71-48f4-a67f-b6150621c65a",
   "metadata": {
    "tags": []
   },
   "outputs": [],
   "source": [
    "# Round float columns\n",
    "float_columns = df.select_dtypes(include=[\"float\"])\n",
    "for i in float_columns:\n",
    "    df[i] = df[i].round(2)\n",
    "\n",
    "# Multiply percent columns to 100%\n",
    "pct_cols = df.columns[df.columns.str.contains(\"pct\")].tolist()\n",
    "for i in pct_cols:\n",
    "    df[i] = df[i] * 100"
   ]
  },
  {
   "cell_type": "code",
   "execution_count": null,
   "id": "3fac2026-2fba-40a2-bb30-1c50fa3cc6dd",
   "metadata": {
    "tags": []
   },
   "outputs": [],
   "source": [
    "# Add column to create rulers for the charts\n",
    "df[\"ruler_100_pct\"] = 100\n",
    "df[\"ruler_for_vp_per_min\"] = 2\n",
    "\n",
    "# Add a column that flips frequency to be every X minutes instead\n",
    "# of every hour.\n",
    "df[\"headway_in_minutes\"] = 60 / df.frequency"
   ]
  },
  {
   "cell_type": "code",
   "execution_count": null,
   "id": "719369b9-8eab-405e-af3b-d7e4ed5fc14c",
   "metadata": {},
   "outputs": [],
   "source": [
    "df.route_primary_direction = df.route_primary_direction.fillna(\"None\")"
   ]
  },
  {
   "cell_type": "code",
   "execution_count": null,
   "id": "b8629655-c127-4079-a331-47a374f4f915",
   "metadata": {
    "tags": []
   },
   "outputs": [],
   "source": [
    "df = _report_utils.replace_column_names(df)"
   ]
  },
  {
   "cell_type": "code",
   "execution_count": null,
   "id": "61d4e866-c7ca-4416-a442-c945c3b4c09b",
   "metadata": {
    "tags": []
   },
   "outputs": [],
   "source": [
    "routes_list = df[\"Route\"].unique().tolist()\n",
    "\n",
    "route_dropdown = alt.binding_select(\n",
    "    options=routes_list,\n",
    "    name=\"Routes: \",\n",
    ")\n",
    "# Column that controls the bar charts\n",
    "xcol_param = alt.selection_point(\n",
    "    fields=[\"Route\"], value=routes_list[0], bind=route_dropdown\n",
    ")\n",
    "\n",
    "# Filter for only rows that are \"all day\" statistics\n",
    "all_day = df.loc[df[\"Period\"] == \"all_day\"].reset_index(drop=True)"
   ]
  },
  {
   "cell_type": "code",
   "execution_count": null,
   "id": "ef54a308-d7ad-420a-9f9c-ce984406ffef",
   "metadata": {
    "tags": []
   },
   "outputs": [],
   "source": [
    "timeliness_df = section2.timeliness_trips(df)"
   ]
  },
  {
   "cell_type": "code",
   "execution_count": null,
   "id": "6b9ee4bf-3c13-48cc-b78e-64289a525bc9",
   "metadata": {
    "tags": []
   },
   "outputs": [],
   "source": [
    "timeliness_df.head(2)"
   ]
  },
  {
   "cell_type": "code",
   "execution_count": null,
   "id": "cb1d86be-7321-4f01-8b61-68a0bc6d7815",
   "metadata": {},
   "outputs": [],
   "source": [
    "def pct_vp_journey(df: pd.DataFrame, col1: str, col2: str) -> pd.DataFrame:\n",
    "    \"\"\"\n",
    "    Reshape the data for the charts that display the % of\n",
    "    a journey that recorded 2+ vehicle positions/minute.\n",
    "    \"\"\"\n",
    "    to_keep = [\n",
    "        \"Date\",\n",
    "        \"Organization\",\n",
    "        \"dir_0_1\",\n",
    "        col1,\n",
    "        col2,\n",
    "        \"Route\",\n",
    "        \"Period\",\n",
    "        \"ruler_100_pct\",\n",
    "    ]\n",
    "    df2 = df[to_keep]\n",
    "\n",
    "    df3 = df2.melt(\n",
    "        id_vars=[\n",
    "            \"Date\",\n",
    "            \"Organization\",\n",
    "            \"Route\",\n",
    "            \"dir_0_1\",\n",
    "            \"Period\",\n",
    "            \"ruler_100_pct\",\n",
    "        ],\n",
    "        value_vars=[col1, col2],\n",
    "    )\n",
    "\n",
    "    df3 = df3.rename(\n",
    "        columns={\"variable\": \"Category\", \"value\": \"% of Actual Trip Minutes\"}\n",
    "    )\n",
    "    return df3"
   ]
  },
  {
   "cell_type": "code",
   "execution_count": null,
   "id": "08b21e01-812e-4e16-8105-65251d39a755",
   "metadata": {
    "tags": []
   },
   "outputs": [],
   "source": [
    "sched_journey_vp = pct_vp_journey(\n",
    "    all_day,\n",
    "    \"% Scheduled Trip w/ 1+ VP/Minute\",\n",
    "    \"% Scheduled Trip w/ 2+ VP/Minute\",\n",
    ")"
   ]
  },
  {
   "cell_type": "code",
   "execution_count": null,
   "id": "3bac49d3-7b05-4486-af2b-1ab01400a867",
   "metadata": {
    "tags": []
   },
   "outputs": [],
   "source": [
    "sched_journey_vp.head(2)"
   ]
  },
  {
   "cell_type": "code",
   "execution_count": null,
   "id": "2c0cd597-edd9-4275-86f1-aec13fc817dc",
   "metadata": {
    "tags": []
   },
   "outputs": [],
   "source": [
    "route_stats_df = section2.route_stats(df)"
   ]
  },
  {
   "cell_type": "code",
   "execution_count": null,
   "id": "8f5d86cc-f753-456c-bafd-31b586b7b7c3",
   "metadata": {
    "tags": []
   },
   "outputs": [],
   "source": [
    "route_stats_df.head(2)"
   ]
  },
  {
   "cell_type": "markdown",
   "id": "69da33ab-dcb6-4ca6-b87c-c6df09eb0900",
   "metadata": {
    "tags": []
   },
   "source": [
    "## Build this into a function"
   ]
  },
  {
   "cell_type": "code",
   "execution_count": null,
   "id": "15d4a0f1-0853-42b5-b2d3-27b7e8d4c164",
   "metadata": {
    "tags": []
   },
   "outputs": [],
   "source": [
    "def load_vp_metrics(organization:str)->pd.DataFrame:\n",
    "    \"\"\"\n",
    "    Load schedule versus realtime file.\n",
    "    \"\"\"\n",
    "    schd_vp_url = f\"{GTFS_DATA_DICT.digest_tables.dir}{GTFS_DATA_DICT.digest_tables.route_schedule_vp}.parquet\"\n",
    "   \n",
    "    # Keep only rows that are found in both schedule and real time data\n",
    "    df = (pd.read_parquet(schd_vp_url, \n",
    "          filters=[[(\"organization_name\", \"==\", organization),]])\n",
    "         )\n",
    "    \n",
    "    # Delete duplicates\n",
    "    df = df.drop_duplicates().reset_index(drop = True)\n",
    "    \n",
    "    # Round float columns\n",
    "    float_columns = df.select_dtypes(include=['float'])\n",
    "    for i in float_columns:\n",
    "        df[i] = df[i].round(2)\n",
    "    \n",
    "    # Multiply percent columns to 100% \n",
    "    pct_cols = df.columns[df.columns.str.contains(\"pct\")].tolist()\n",
    "    for i in pct_cols:\n",
    "        df[i] = df[i] * 100\n",
    "        \n",
    "    # Add column to create rulers for the charts\n",
    "    df[\"ruler_100_pct\"] = 100\n",
    "    df[\"ruler_for_vp_per_min\"] = 2\n",
    "    \n",
    "    # Add a column that flips frequency to be every X minutes instead\n",
    "    # of every hour.\n",
    "    df[\"headway_in_minutes\"] = 60/df.frequency\n",
    "    \n",
    "    # Replace missing values in route_primary_direction\n",
    "    df.route_primary_direction = df.route_primary_direction.fillna(df.direction_id)\n",
    "    \n",
    "    # Replace column names\n",
    "    df = _report_utils.replace_column_names(df)\n",
    "\n",
    "    \n",
    "    return df"
   ]
  },
  {
   "cell_type": "code",
   "execution_count": null,
   "id": "7ce353b4-6771-48e2-be91-abe442b1ed6a",
   "metadata": {
    "tags": []
   },
   "outputs": [],
   "source": [
    "dumbardton_df = load_vp_metrics(\"Dumbarton Bridge Regional Operations Consortium\")"
   ]
  },
  {
   "cell_type": "code",
   "execution_count": null,
   "id": "214bae42-a3c3-4132-b01c-0fbd250ff673",
   "metadata": {
    "tags": []
   },
   "outputs": [],
   "source": [
    "dumbardton_df.head(1)"
   ]
  },
  {
   "cell_type": "code",
   "execution_count": null,
   "id": "3cd477b6-a367-4833-ae64-59f2c88f21c0",
   "metadata": {
    "tags": []
   },
   "outputs": [],
   "source": [
    "socal_rail_df = load_vp_metrics(\"Southern California Regional Rail Authority\")"
   ]
  },
  {
   "cell_type": "code",
   "execution_count": null,
   "id": "3cadd6f4-21be-499e-b06c-21001961883c",
   "metadata": {
    "tags": []
   },
   "outputs": [],
   "source": [
    "gg_df = load_vp_metrics(\"Golden Gate Bridge, Highway and Transportation District\")"
   ]
  },
  {
   "cell_type": "code",
   "execution_count": null,
   "id": "9d7161f2-3725-47ea-8674-016b3a7960b8",
   "metadata": {
    "tags": []
   },
   "outputs": [],
   "source": [
    "def filtered_route(\n",
    "    df: pd.DataFrame,\n",
    ") -> alt.Chart:\n",
    "    \"\"\"\n",
    "    This combines all the charts together, controlled by a single\n",
    "    dropdown.\n",
    "    \n",
    "    Resources:\n",
    "        https://stackoverflow.com/questions/58919888/multiple-selections-in-altair\n",
    "    \"\"\"\n",
    "    # Create dropdown\n",
    "    routes_list = df[\"Route\"].unique().tolist()\n",
    "\n",
    "    route_dropdown = alt.binding_select(\n",
    "        options=routes_list,\n",
    "        name=\"Routes: \",\n",
    "    )\n",
    "    # Column that controls the bar charts\n",
    "    xcol_param = alt.selection_point(\n",
    "    fields=[\"Route\"], value=routes_list[0], bind=route_dropdown\n",
    "    )\n",
    "\n",
    "    # Filter for only rows that are \"all day\" statistics\n",
    "    all_day = df.loc[df[\"Period\"] == \"all_day\"].reset_index(drop=True)\n",
    "\n",
    "    # Manipulate the df for some of the metrics\n",
    "    timeliness_df = section2.timeliness_trips(df)\n",
    "    sched_journey_vp = section2.pct_vp_journey(\n",
    "        all_day,\n",
    "       \"% Scheduled Trip w/ 1+ VP/Minute\",\n",
    "      \"% Scheduled Trip w/ 2+ VP/Minute\",\n",
    "    )\n",
    "    route_stats_df = section2.route_stats(df)\n",
    "    \n",
    "    # Create the charts\n",
    "    timeliness_trips_dir_0 = (\n",
    "            (\n",
    "                section2.base_facet_chart(\n",
    "                    timeliness_df.loc[timeliness_df[\"dir_0_1\"] == 0],\n",
    "                    0,\n",
    "                    \"value\",\n",
    "                    \"variable\",\n",
    "                    \"Period\",\n",
    "                    readable_dict[\"timeliness_trips_graph\"][\"title\"],\n",
    "                    readable_dict[\"timeliness_trips_graph\"][\"subtitle\"],\n",
    "                    color_dict[\"tri_color2\"]\n",
    "                )\n",
    "            )\n",
    "            .add_params(xcol_param)\n",
    "            .transform_filter(xcol_param)\n",
    "        )\n",
    "    timeliness_trips_dir_1 = (\n",
    "            (\n",
    "                section2.base_facet_chart(\n",
    "                    timeliness_df.loc[timeliness_df[\"dir_0_1\"] == 1],\n",
    "                    1,\n",
    "                    \"value\",\n",
    "                    \"variable\",\n",
    "                    \"Period\",\n",
    "                    readable_dict[\"timeliness_trips_graph\"][\"title\"],\n",
    "                    \"\",\n",
    "                    color_dict[\"tri_color2\"],\n",
    "                )\n",
    "            )\n",
    "            .add_params(xcol_param)\n",
    "            .transform_filter(xcol_param)\n",
    "        )\n",
    "\n",
    "    speed_graph_dir_0 = (\n",
    "       section2.grouped_bar_chart(\n",
    "            df.loc[df.dir_0_1 == 0],\n",
    "            \"Period\",\n",
    "            \"Speed (MPH)\",\n",
    "            \"Period\",\n",
    "            readable_dict[\"speed_graph_dir_0\"][\"title\"],\n",
    "            readable_dict[\"speed_graph_dir_0\"][\"subtitle\"],\n",
    "            color_dict[\"tri_color2\"]\n",
    "        )\n",
    "        .add_params(xcol_param)\n",
    "        .transform_filter(xcol_param)\n",
    "    )\n",
    "    speed_graph_dir_1 = (\n",
    "       section2.grouped_bar_chart(\n",
    "            df.loc[df.dir_0_1 == 1],\n",
    "            \"Period\",\n",
    "            \"Speed (MPH)\",\n",
    "            \"Period\",\n",
    "            readable_dict[\"speed_graph_dir_1\"][\"title\"],\n",
    "            readable_dict[\"speed_graph_dir_0\"][\"subtitle\"],\n",
    "           color_dict[\"tri_color2\"]\n",
    "        )\n",
    "        .add_params(xcol_param)\n",
    "        .transform_filter(xcol_param)\n",
    "    )\n",
    "    vp_per_min_graph = (\n",
    "        (\n",
    "            section2.base_facet_with_ruler_chart(\n",
    "                all_day,\n",
    "                \"Average VP per Minute\",\n",
    "                \"ruler_for_vp_per_min\",\n",
    "                readable_dict[\"vp_per_min_graph\"][\"title\"],\n",
    "                readable_dict[\"vp_per_min_graph\"][\"subtitle\"],\n",
    "                color_dict[\"vp_domain\"],\n",
    "                color_dict[\"vp_range\"]\n",
    "            )\n",
    "        )\n",
    "        .add_params(xcol_param)\n",
    "        .transform_filter(xcol_param)\n",
    "    )\n",
    "\n",
    "    sched_vp_per_min = (\n",
    "        section2.base_facet_circle(\n",
    "            sched_journey_vp,\n",
    "            \"% of Actual Trip Minutes\",\n",
    "            \"Category\",\n",
    "            \"ruler_100_pct\",\n",
    "            readable_dict[\"sched_vp_per_min_graph\"][\"title\"],\n",
    "            readable_dict[\"sched_vp_per_min_graph\"][\"subtitle\"],\n",
    "            color_dict[\"tri_color2\"]\n",
    "        )\n",
    "        .add_params(xcol_param)\n",
    "        .transform_filter(xcol_param)\n",
    "    )\n",
    "    spatial_accuracy = (\n",
    "        section2.base_facet_with_ruler_chart(\n",
    "            all_day,\n",
    "            \"% VP within Scheduled Shape\",\n",
    "            \"ruler_100_pct\",\n",
    "            readable_dict[\"spatial_accuracy_graph\"][\"title\"],\n",
    "            readable_dict[\"spatial_accuracy_graph\"][\"subtitle\"],\n",
    "            color_dict[\"spatial_accuracy_domain\"],\n",
    "            color_dict[\"spatial_accuracy_range\"]\n",
    "        )\n",
    "        .add_params(xcol_param)\n",
    "        .transform_filter(xcol_param)\n",
    "    )\n",
    "    # Separate out the charts themetically.\n",
    "    ride_quality = section2.divider_chart(df, readable_dict[\"ride_quality_graph\"][\"title\"])\n",
    "    data_quality = section2.divider_chart(df, readable_dict[\"data_quality_graph\"][\"title\"])\n",
    "    \n",
    "    # Combine all the charts\n",
    "    chart_list = [\n",
    "    ride_quality,\n",
    "    timeliness_trips_dir_0,\n",
    "    timeliness_trips_dir_1,\n",
    "    speed_graph_dir_0,\n",
    "    speed_graph_dir_1,\n",
    "    data_quality,\n",
    "    vp_per_min_graph,\n",
    "    sched_vp_per_min,\n",
    "    spatial_accuracy,]\n",
    "\n",
    "    chart = alt.vconcat(*chart_list)\n",
    "\n",
    "    return chart\n"
   ]
  },
  {
   "cell_type": "code",
   "execution_count": null,
   "id": "f96759db-d4cf-452d-ab2d-ca6f4bb05471",
   "metadata": {
    "tags": []
   },
   "outputs": [],
   "source": [
    "filtered_route(gg_df)"
   ]
  },
  {
   "cell_type": "code",
   "execution_count": null,
   "id": "ad24dee0-68b1-416f-8486-dfcd63c41857",
   "metadata": {
    "tags": []
   },
   "outputs": [],
   "source": [
    "filtered_route(socal_rail_df)"
   ]
  },
  {
   "cell_type": "code",
   "execution_count": null,
   "id": "3868e8d9-cdb8-49cd-8d2f-572c663a972e",
   "metadata": {
    "tags": []
   },
   "outputs": [],
   "source": [
    "filtered_route(dumbardton_df)"
   ]
  },
  {
   "cell_type": "markdown",
   "id": "416760fe-6136-459a-a9ae-d2d10547c8d0",
   "metadata": {
    "tags": []
   },
   "source": [
    "### `Average Scheduled Minutes` chart doesn't work."
   ]
  },
  {
   "cell_type": "code",
   "execution_count": null,
   "id": "63c4f58a-b474-4d17-afac-31ed73a9f807",
   "metadata": {
    "tags": []
   },
   "outputs": [],
   "source": [
    "(\n",
    "            (\n",
    "                section2.base_facet_chart(\n",
    "                    timeliness_df.loc[timeliness_df[\"dir_0_1\"] == 1],\n",
    "                    1,\n",
    "                    \"value\",\n",
    "                    \"variable\",\n",
    "                    \"Period\",\n",
    "                    readable_dict[\"timeliness_trips_graph\"][\"title\"],\n",
    "                    \"\",\n",
    "                )\n",
    "            )\n",
    "            .add_params(xcol_param)\n",
    "            .transform_filter(xcol_param)\n",
    "        )"
   ]
  },
  {
   "cell_type": "code",
   "execution_count": null,
   "id": "475b4343-8345-4093-8ad0-d17641cdefbf",
   "metadata": {
    "tags": []
   },
   "outputs": [],
   "source": [
    "df.headway_in_minutes = df.headway_in_minutes.fillna(0)"
   ]
  },
  {
   "cell_type": "markdown",
   "id": "086a6085-9eac-4736-958d-97bba3b7e76e",
   "metadata": {},
   "source": [
    "### `Frequency` doesn't work."
   ]
  },
  {
   "cell_type": "code",
   "execution_count": null,
   "id": "863a4c32-2da2-47e6-8904-100c77b205d2",
   "metadata": {
    "tags": []
   },
   "outputs": [],
   "source": [
    "(\n",
    "    section2.frequency_chart(\n",
    "        df,\n",
    "        0,\n",
    "        readable_dict[\"frequency_graph\"][\"title\"],\n",
    "        readable_dict[\"frequency_graph\"][\"subtitle\"],\n",
    "    )\n",
    "    .add_params(xcol_param)\n",
    "    .transform_filter(xcol_param)\n",
    ")"
   ]
  },
  {
   "cell_type": "markdown",
   "id": "61e7901a-304a-4fe7-9567-38cc123a3b65",
   "metadata": {},
   "source": [
    "#### `speed` also doesn't work."
   ]
  },
  {
   "cell_type": "code",
   "execution_count": null,
   "id": "13c99798-54a8-4735-b6e9-57f7fdbaf4f4",
   "metadata": {
    "tags": []
   },
   "outputs": [],
   "source": [
    "(\n",
    "    section2.grouped_bar_chart(\n",
    "        df.loc[df.dir_0_1 == 0],\n",
    "        \"Period\",\n",
    "        \"Speed (MPH)\",\n",
    "        \"Period\",\n",
    "        readable_dict[\"speed_graph_dir_0\"][\"title\"],\n",
    "        readable_dict[\"speed_graph_dir_0\"][\"subtitle\"],\n",
    "    )\n",
    "    .add_params(xcol_param)\n",
    "    .transform_filter(xcol_param)\n",
    ")"
   ]
  },
  {
   "cell_type": "code",
   "execution_count": null,
   "id": "e95720ce-8c27-4548-a245-03d1abe75853",
   "metadata": {
    "scrolled": true,
    "tags": []
   },
   "outputs": [],
   "source": [
    "all_day.head(1).T"
   ]
  },
  {
   "cell_type": "code",
   "execution_count": null,
   "id": "bb2ff8c6-d2c8-4830-a313-5c2937893f6a",
   "metadata": {
    "tags": []
   },
   "outputs": [],
   "source": [
    "(\n",
    "    (\n",
    "        section2.base_facet_with_ruler_chart(\n",
    "            all_day.loc[all_day.dir_0_1 == 0],\n",
    "            \"Average VP per Minute\",\n",
    "            \"ruler_for_vp_per_min\",\n",
    "            readable_dict[\"vp_per_min_graph\"][\"title\"],\n",
    "            readable_dict[\"vp_per_min_graph\"][\"subtitle\"],\n",
    "            color_dict[\"vp_domain\"],\n",
    "            color_dict[\"vp_range\"],\n",
    "        )\n",
    "    )\n",
    "    .add_params(xcol_param)\n",
    "    .transform_filter(xcol_param)\n",
    ")"
   ]
  },
  {
   "cell_type": "code",
   "execution_count": null,
   "id": "8509c8b5-e7fb-480d-b95e-750095912012",
   "metadata": {
    "tags": []
   },
   "outputs": [],
   "source": [
    "(\n",
    "    (\n",
    "        section2.base_facet_with_ruler_chart(\n",
    "            all_day.loc[all_day.dir_0_1 == 1],\n",
    "            \"Average VP per Minute\",\n",
    "            \"ruler_for_vp_per_min\",\n",
    "            readable_dict[\"vp_per_min_graph\"][\"title\"],\n",
    "            readable_dict[\"vp_per_min_graph\"][\"subtitle\"],\n",
    "            color_dict[\"vp_domain\"],\n",
    "            color_dict[\"vp_range\"],\n",
    "        )\n",
    "    )\n",
    "    .add_params(xcol_param)\n",
    "    .transform_filter(xcol_param)\n",
    ")"
   ]
  },
  {
   "cell_type": "code",
   "execution_count": null,
   "id": "ab82e6c6-af1d-4714-adef-5794515a503b",
   "metadata": {
    "tags": []
   },
   "outputs": [],
   "source": [
    "sched_journey_vp.columns"
   ]
  },
  {
   "cell_type": "code",
   "execution_count": null,
   "id": "629c830a-bef7-4c2b-83d7-2d83bd02b718",
   "metadata": {
    "tags": []
   },
   "outputs": [],
   "source": [
    "sched_journey_vp = sched_journey_vp.rename(columns={\"dir_0_1\": \"Direction\"})"
   ]
  },
  {
   "cell_type": "code",
   "execution_count": null,
   "id": "3ee32005-28e9-4d1c-bbf6-56805a38e5fc",
   "metadata": {
    "tags": []
   },
   "outputs": [],
   "source": [
    "(\n",
    "    section2.base_facet_circle(\n",
    "        sched_journey_vp,\n",
    "        \"% of Actual Trip Minutes\",\n",
    "        \"Category\",\n",
    "        \"ruler_100_pct\",\n",
    "        readable_dict[\"sched_vp_per_min_graph\"][\"title\"],\n",
    "        readable_dict[\"sched_vp_per_min_graph\"][\"subtitle\"],\n",
    "    )\n",
    "    .add_params(xcol_param)\n",
    "    .transform_filter(xcol_param)\n",
    ")"
   ]
  },
  {
   "cell_type": "markdown",
   "id": "6d946bfd-0784-4b54-a1ff-8b061974c75c",
   "metadata": {},
   "source": [
    "#### The bars are stacked because the direction 0/1 are coded as \"None\" in `route_primary_direction`\n",
    "* Need to drop Direction and rename `dir_0_1` as Direction."
   ]
  },
  {
   "cell_type": "code",
   "execution_count": null,
   "id": "73afece6-8fa4-40a8-89eb-ee36329dd5cd",
   "metadata": {
    "tags": []
   },
   "outputs": [],
   "source": [
    "all_day = all_day.drop(columns=[\"Direction\"]).rename(columns={\"dir_0_1\": \"Direction\"})"
   ]
  },
  {
   "cell_type": "code",
   "execution_count": null,
   "id": "5961002b-e9a3-4ee7-8eb1-696471e66dce",
   "metadata": {
    "tags": []
   },
   "outputs": [],
   "source": [
    "(\n",
    "    section2.base_facet_with_ruler_chart(\n",
    "        all_day,\n",
    "        \"% VP within Scheduled Shape\",\n",
    "        \"ruler_100_pct\",\n",
    "        readable_dict[\"spatial_accuracy_graph\"][\"title\"],\n",
    "        readable_dict[\"spatial_accuracy_graph\"][\"subtitle\"],\n",
    "        color_dict[\"spatial_accuracy_domain\"],\n",
    "        color_dict[\"spatial_accuracy_range\"],\n",
    "    )\n",
    "    .add_params(xcol_param)\n",
    "    .transform_filter(xcol_param)\n",
    ")"
   ]
  },
  {
   "cell_type": "markdown",
   "id": "dd6e3354-a926-44ee-a3da-ccdc7b239688",
   "metadata": {},
   "source": [
    "## Why is <i>Golden Gate Bridge, Highway and Transportation District</i> `vp_only`? It should have schedule data!"
   ]
  },
  {
   "cell_type": "code",
   "execution_count": null,
   "id": "1511769c-7491-41a3-ad6f-56b5234a4d82",
   "metadata": {
    "tags": []
   },
   "outputs": [],
   "source": [
    "import merge_data"
   ]
  },
  {
   "cell_type": "code",
   "execution_count": null,
   "id": "19d7a09e-fdbe-46c0-98b9-5ec513c311f7",
   "metadata": {
    "tags": []
   },
   "outputs": [],
   "source": [
    "analysis_date"
   ]
  },
  {
   "cell_type": "code",
   "execution_count": null,
   "id": "8f8344df-6055-4eb0-8132-a66a391b4159",
   "metadata": {
    "tags": []
   },
   "outputs": [],
   "source": [
    "sched_df = merge_data.concatenate_schedule_by_route_direction(analysis_date_list)"
   ]
  },
  {
   "cell_type": "code",
   "execution_count": null,
   "id": "e34e4323-479b-4727-b674-69b0dd76bfe8",
   "metadata": {
    "tags": []
   },
   "outputs": [],
   "source": [
    "sched_df.loc[sched_df.schedule_gtfs_dataset_key == 'aea4108997c66a74fbdae27b34b69fde']"
   ]
  }
 ],
 "metadata": {
  "kernelspec": {
   "display_name": "Python 3 (ipykernel)",
   "language": "python",
   "name": "python3"
  },
  "language_info": {
   "codemirror_mode": {
    "name": "ipython",
    "version": 3
   },
   "file_extension": ".py",
   "mimetype": "text/x-python",
   "name": "python",
   "nbconvert_exporter": "python",
   "pygments_lexer": "ipython3",
   "version": "3.11.6"
  }
 },
 "nbformat": 4,
 "nbformat_minor": 5
}
