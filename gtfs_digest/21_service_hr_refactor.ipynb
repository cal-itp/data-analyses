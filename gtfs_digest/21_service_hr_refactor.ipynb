{
 "cells": [
  {
   "cell_type": "markdown",
   "id": "c57cc990-b4a5-4a64-b004-13c52f9d0e19",
   "metadata": {},
   "source": [
    "# Redo `service_hours` work due to `portfolio_organization_name` changes \n",
    "* [Issue](https://github.com/cal-itp/data-analyses/issues/1500)"
   ]
  },
  {
   "cell_type": "code",
   "execution_count": 1,
   "id": "14c6db83-f66a-4a31-b4e6-161d4e69ab51",
   "metadata": {
    "tags": []
   },
   "outputs": [],
   "source": [
    "import _report_route_dir_visuals\n",
    "import merge_operator_service\n",
    "from segment_speed_utils import gtfs_schedule_wrangling, time_series_utils, project_vars\n",
    "import altair as alt\n",
    "import calitp_data_analysis.magics\n",
    "import deploy_portfolio_yaml\n",
    "import pandas as pd\n",
    "import yaml\n",
    "from IPython.display import HTML, Image, Markdown, display, display_html\n",
    "from shared_utils import gtfs_utils_v2, catalog_utils, rt_dates, rt_utils, publish_utils,  portfolio_utils\n",
    "from update_vars import GTFS_DATA_DICT, RT_SCHED_GCS, SCHED_GCS, SEGMENT_GCS\n",
    "\n",
    "with open(\"readable2.yml\") as f:\n",
    "    readable_dict = yaml.safe_load(f)\n",
    "GTFS_DATA_DICT = catalog_utils.get_catalog(\"gtfs_analytics_data\")"
   ]
  },
  {
   "cell_type": "code",
   "execution_count": 2,
   "id": "13c360b2-9754-498d-842f-84fb682ed28f",
   "metadata": {},
   "outputs": [],
   "source": [
    "pd.options.display.max_columns = 100\n",
    "pd.options.display.float_format = \"{:.2f}\".format\n",
    "pd.set_option(\"display.max_rows\", None)\n",
    "pd.set_option(\"display.max_colwidth\", None)"
   ]
  },
  {
   "cell_type": "code",
   "execution_count": 3,
   "id": "f526db90-4d4e-493b-9918-1d1f4ae41d8c",
   "metadata": {
    "tags": []
   },
   "outputs": [],
   "source": [
    "from omegaconf import OmegaConf\n",
    "\n",
    "readable_dict = OmegaConf.load(\"readable2.yml\")"
   ]
  },
  {
   "cell_type": "code",
   "execution_count": 4,
   "id": "784a3c58-6d54-428e-b5e4-44ccdf00339c",
   "metadata": {
    "tags": []
   },
   "outputs": [],
   "source": [
    "analysis_date_list = rt_dates.y2025_dates"
   ]
  },
  {
   "cell_type": "code",
   "execution_count": 5,
   "id": "38c4d9ee-7b2c-4480-9b44-0cf1a83f63b2",
   "metadata": {
    "tags": []
   },
   "outputs": [],
   "source": [
    "portfolio_name = \"City and County of San Francisco\"\n",
    "# portfolio_name =  \"Ventura County (VCTC, Gold Coast, Cities of Camarillo, Moorpark, Ojai, Simi Valley, Thousand Oaks)\""
   ]
  },
  {
   "cell_type": "code",
   "execution_count": 6,
   "id": "0c08e2a3-2534-4b89-aee9-4f6534b1d5c0",
   "metadata": {
    "tags": []
   },
   "outputs": [],
   "source": [
    "ROUTE_DIR_FILE = GTFS_DATA_DICT.digest_tables.monthly_route_schedule_vp_report\n",
    "route_dir_df = pd.read_parquet(\n",
    "    f\"{RT_SCHED_GCS}{ROUTE_DIR_FILE}.parquet\",\n",
    "    filters=[[(\"Portfolio Organization Name\", \"==\", portfolio_name)]],\n",
    ")"
   ]
  },
  {
   "cell_type": "markdown",
   "id": "975d5a20-8e7a-4aaf-b70b-e9f8f56ab2ca",
   "metadata": {},
   "source": [
    "## Add `portfolio_oganization_name` further up in the pipeline"
   ]
  },
  {
   "cell_type": "code",
   "execution_count": null,
   "id": "fca2e6d5-ff14-4385-a8a9-fa5352533437",
   "metadata": {
    "tags": []
   },
   "outputs": [],
   "source": [
    "public_datasets = gtfs_utils_v2.filter_to_public_schedule_gtfs_dataset_keys(\n",
    "        get_df=True\n",
    "    )"
   ]
  },
  {
   "cell_type": "code",
   "execution_count": null,
   "id": "37ea1c31-8409-44a2-9cd2-5bb0100569ce",
   "metadata": {
    "tags": []
   },
   "outputs": [],
   "source": [
    "public_feeds = public_datasets.gtfs_dataset_name.unique().tolist()"
   ]
  },
  {
   "cell_type": "code",
   "execution_count": null,
   "id": "23961590-0245-4a78-955c-02aa931035c5",
   "metadata": {
    "tags": []
   },
   "outputs": [],
   "source": [
    "df = merge_operator_service.concatenate_trips(analysis_date_list).pipe(\n",
    "        publish_utils.exclude_private_datasets, \n",
    "        col = \"name\", \n",
    "        public_gtfs_dataset_keys = public_feeds\n",
    "    )\n"
   ]
  },
  {
   "cell_type": "code",
   "execution_count": null,
   "id": "29d79755-48e5-47fb-b35d-b6ce0e448415",
   "metadata": {
    "tags": []
   },
   "outputs": [],
   "source": [
    "with open(\n",
    "    \"../_shared_utils/shared_utils/portfolio_organization_name.yml\", \"r\"\n",
    ") as f:\n",
    "    PORTFOLIO_ORGANIZATIONS_DICT = yaml.safe_load(f)\n"
   ]
  },
  {
   "cell_type": "code",
   "execution_count": null,
   "id": "7b11f76d-479f-424a-bdbf-c691d9eca014",
   "metadata": {
    "tags": []
   },
   "outputs": [],
   "source": [
    "df.sample()"
   ]
  },
  {
   "cell_type": "code",
   "execution_count": null,
   "id": "a82422dd-b466-425e-927c-15579ab32ec0",
   "metadata": {
    "tags": []
   },
   "outputs": [],
   "source": [
    "df = df.pipe(\n",
    "        portfolio_utils.standardize_portfolio_organization_names, \n",
    "        PORTFOLIO_ORGANIZATIONS_DICT\n",
    "    )"
   ]
  },
  {
   "cell_type": "code",
   "execution_count": null,
   "id": "b06f1735-6143-4fbf-a966-379845ec2d3d",
   "metadata": {
    "tags": []
   },
   "outputs": [],
   "source": [
    "df.sample()"
   ]
  },
  {
   "cell_type": "code",
   "execution_count": null,
   "id": "fc5b959a-40dd-4d9e-98b3-50990c355bd9",
   "metadata": {
    "tags": []
   },
   "outputs": [],
   "source": [
    "df = df.drop(columns = [\"name\"])"
   ]
  },
  {
   "cell_type": "code",
   "execution_count": null,
   "id": "7eaeb809-ddfe-460d-8ed9-9d1b302cca75",
   "metadata": {
    "tags": []
   },
   "outputs": [],
   "source": [
    "WEEKDAY_DICT = {\n",
    "        **{k: \"Weekday\" for k in [\"Monday\", \"Tuesday\", \"Wednesday\",\n",
    "                             \"Thursday\", \"Friday\"]},\n",
    "        \"Saturday\": \"Saturday\",\n",
    "        \"Sunday\": \"Sunday\"\n",
    "    }\n",
    "    \n",
    "# Find day type (Monday, Tuesday, etc), departure hour, month_year, and weekday_weekend\n",
    "df = df.assign(\n",
    "        day_type = df.service_date.dt.day_name(),\n",
    "        departure_hour = df.trip_first_departure_datetime_pacific.dt.hour.astype(\"Int64\"),\n",
    "        # get month_year that's 2024-04 for Apr2024 format\n",
    "        month_year = (df.service_date.dt.year.astype(str) + \n",
    "                      \"-\" +  df.service_date.dt.month.astype(str).str.zfill(2)),\n",
    "    ).pipe(\n",
    "        gtfs_schedule_wrangling.add_weekday_weekend_column, WEEKDAY_DICT\n",
    "    )\n",
    "    \n",
    "    \n",
    "# Total up hourly service hours by weekday, Sunday, and Saturday.\n",
    "df2 = (\n",
    "        df.groupby([\"portfolio_organization_name\", \n",
    "                    \"month_year\", \n",
    "                    \"weekday_weekend\", \n",
    "                    \"departure_hour\"])\n",
    "        .agg({\"service_hours\": \"sum\"})\n",
    "        .reset_index()\n",
    "    )\n",
    "    "
   ]
  },
  {
   "cell_type": "code",
   "execution_count": null,
   "id": "5d6d387c-9c71-49fe-96f7-06bd8f273aad",
   "metadata": {
    "tags": []
   },
   "outputs": [],
   "source": [
    "df2.head(2)"
   ]
  },
  {
   "cell_type": "code",
   "execution_count": null,
   "id": "1826dfa2-4ed4-470d-b7aa-4bc7a1bb0302",
   "metadata": {
    "tags": []
   },
   "outputs": [],
   "source": [
    "df2.month_year.unique()"
   ]
  },
  {
   "cell_type": "markdown",
   "id": "ba9355dd-324a-4066-95cc-c5a42da9a38e",
   "metadata": {},
   "source": [
    "## Load Service Hours"
   ]
  },
  {
   "cell_type": "code",
   "execution_count": null,
   "id": "874694d0-8901-4be2-a714-776d380eccdc",
   "metadata": {
    "tags": []
   },
   "outputs": [],
   "source": [
    "readable_col_names = {\n",
    "    \"portfolio_organization_name\": \"Portfolio Organization Name\",\n",
    "    \"month_year\": \"Month\",\n",
    "    \"weekday_weekend\": \"Weekday or Weekend\",\n",
    "    \"departure_hour\": \"Departure Hour (in Military Time)\",\n",
    "    \"service_hours\": \"Service Hours\",\n",
    "    \"daily_service_hours\": \"Daily Service Hours\",\n",
    "}"
   ]
  },
  {
   "cell_type": "code",
   "execution_count": null,
   "id": "37b42d4a-5767-437d-a96c-780d86cfd281",
   "metadata": {
    "tags": []
   },
   "outputs": [],
   "source": [
    "f\"{GTFS_DATA_DICT.digest_tables.dir}{GTFS_DATA_DICT.digest_tables.scheduled_service_hours}.parquet\""
   ]
  },
  {
   "cell_type": "code",
   "execution_count": 7,
   "id": "1c8da7a1-efb8-4f94-94c3-4e51e98663ae",
   "metadata": {
    "tags": []
   },
   "outputs": [],
   "source": [
    "SCHEDULED_SERVICES_FILE = GTFS_DATA_DICT.digest_tables.scheduled_service_hours\n",
    "SCHEDULED_SERVICES_REPORT = f\"{SCHEDULED_SERVICES_FILE}_report\""
   ]
  },
  {
   "cell_type": "code",
   "execution_count": null,
   "id": "abb1a6c9-83dc-4890-b88c-c6681388b024",
   "metadata": {
    "tags": []
   },
   "outputs": [],
   "source": [
    "f\"{GTFS_DATA_DICT.digest_tables.dir}{SCHEDULED_SERVICES_FILE}.parquet\""
   ]
  },
  {
   "cell_type": "code",
   "execution_count": null,
   "id": "11e7c758-2cd1-4e0d-9c48-2e6bc59d70fa",
   "metadata": {
    "tags": []
   },
   "outputs": [],
   "source": [
    "url = f\"{GTFS_DATA_DICT.digest_tables.dir}{SCHEDULED_SERVICES_FILE}.parquet\"\n",
    "    \n",
    "df = pd.read_parquet(url)"
   ]
  },
  {
   "cell_type": "code",
   "execution_count": null,
   "id": "99522b7d-b604-4141-b962-1ce7ffafa3f3",
   "metadata": {
    "tags": []
   },
   "outputs": [],
   "source": [
    "def prep_operator_service_hours() -> pd.DataFrame:\n",
    "    \"\"\"\n",
    "    Load dataframe with the total scheduled service hours\n",
    "    a transit operator.\n",
    "    \"\"\"\n",
    "    SCHEDULED_SERVICES_FILE = GTFS_DATA_DICT.digest_tables.scheduled_service_hours\n",
    "    SCHEDULED_SERVICES_REPORT = f\"{SCHEDULED_SERVICES_FILE}_report\"\n",
    "    \n",
    "    url = f\"{GTFS_DATA_DICT.digest_tables.dir}{SCHEDULED_SERVICES_FILE}.parquet\"\n",
    "    \n",
    "    df = pd.read_parquet(url)\n",
    "\n",
    "    # Rename dataframe\n",
    "    df = df.rename(columns=readable_col_names)\n",
    "    \n",
    "    # Save out the dataframe\n",
    "    df.to_parquet(f\"{GTFS_DATA_DICT.digest_tables.dir}{SCHEDULED_SERVICES_REPORT}.parquet\")\n",
    "    return df"
   ]
  },
  {
   "cell_type": "code",
   "execution_count": null,
   "id": "18a98f32-1b2c-461d-bf55-2db57077db6b",
   "metadata": {
    "tags": []
   },
   "outputs": [],
   "source": [
    "service_hours_df = prep_operator_service_hours()"
   ]
  },
  {
   "cell_type": "code",
   "execution_count": null,
   "id": "707a3bfb-7a50-41dd-981f-c2567dd28c16",
   "metadata": {
    "tags": []
   },
   "outputs": [],
   "source": [
    "service_hours_df.head(2)"
   ]
  },
  {
   "cell_type": "code",
   "execution_count": 8,
   "id": "01ac286b-ba8f-4d82-9589-f4dbd19be1ec",
   "metadata": {
    "tags": []
   },
   "outputs": [],
   "source": [
    "SCHEDULED_SERVICES_REPORT = f\"{SCHEDULED_SERVICES_FILE}_report\""
   ]
  },
  {
   "cell_type": "code",
   "execution_count": 9,
   "id": "293f4045-2b44-4cc8-b3ce-d8154c0476a4",
   "metadata": {
    "tags": []
   },
   "outputs": [],
   "source": [
    "service_hours_df = pd.read_parquet(\n",
    "    f\"{RT_SCHED_GCS}{SCHEDULED_SERVICES_REPORT}.parquet\",\n",
    "    filters=[[(\"Portfolio Organization Name\", \"==\", portfolio_name)]],\n",
    ")"
   ]
  },
  {
   "cell_type": "markdown",
   "id": "b4b0edf8-02dc-48d6-992d-c72236652a21",
   "metadata": {},
   "source": [
    "## Analyze Name to Portfolio Organization Name Relationship"
   ]
  },
  {
   "cell_type": "code",
   "execution_count": null,
   "id": "17658345-d868-4383-9266-c83366dfc9f8",
   "metadata": {
    "tags": []
   },
   "outputs": [],
   "source": [
    "route_dir_df_all_ops = pd.read_parquet(\n",
    "    f\"{RT_SCHED_GCS}{ROUTE_DIR_FILE}.parquet\",)"
   ]
  },
  {
   "cell_type": "code",
   "execution_count": null,
   "id": "f8152ce6-18af-4edf-aa5e-71d441af4e43",
   "metadata": {
    "tags": []
   },
   "outputs": [],
   "source": [
    "route_dir_df_all_ops.Date.unique()"
   ]
  },
  {
   "cell_type": "code",
   "execution_count": null,
   "id": "63d947c9-85c2-4d7d-8371-1e78aa16d34c",
   "metadata": {
    "tags": []
   },
   "outputs": [],
   "source": [
    "one_date = route_dir_df_all_ops.loc[route_dir_df_all_ops.Date == '2025-04-16T00:00:00.000000000']"
   ]
  },
  {
   "cell_type": "code",
   "execution_count": null,
   "id": "aa32242c-5e64-4a96-983e-2217b8a6f742",
   "metadata": {
    "tags": []
   },
   "outputs": [],
   "source": [
    "one_date.columns"
   ]
  },
  {
   "cell_type": "code",
   "execution_count": null,
   "id": "319e4db8-5426-4358-9bb5-ffe1fc348e6d",
   "metadata": {
    "tags": []
   },
   "outputs": [],
   "source": [
    "one_date = one_date[[\"Portfolio Organization Name\", \"Name\"]].drop_duplicates()"
   ]
  },
  {
   "cell_type": "code",
   "execution_count": null,
   "id": "f6682040-41d5-4ea8-ad05-778d52e12fc4",
   "metadata": {
    "tags": []
   },
   "outputs": [],
   "source": [
    "url = f\"{GTFS_DATA_DICT.digest_tables.dir}{GTFS_DATA_DICT.digest_tables.scheduled_service_hours}.parquet\"\n",
    "\n",
    "service_hrs_all_ops = pd.read_parquet(url)"
   ]
  },
  {
   "cell_type": "code",
   "execution_count": null,
   "id": "7d03e0d0-1ccc-4384-86e5-b37cd14ca1a2",
   "metadata": {
    "tags": []
   },
   "outputs": [],
   "source": [
    "service_hrs_all_ops.columns"
   ]
  },
  {
   "cell_type": "code",
   "execution_count": null,
   "id": "e00c260e-5dcd-40d7-bc0c-2067e53503f9",
   "metadata": {
    "tags": []
   },
   "outputs": [],
   "source": [
    "service_hrs_all_ops.month_year.unique()"
   ]
  },
  {
   "cell_type": "code",
   "execution_count": null,
   "id": "2dc94a06-7bd5-4930-ab32-ae11bddecfaa",
   "metadata": {
    "tags": []
   },
   "outputs": [],
   "source": [
    "service_hrs_all_ops = service_hrs_all_ops.loc[service_hrs_all_ops.month_year == '2024-10']"
   ]
  },
  {
   "cell_type": "code",
   "execution_count": null,
   "id": "6d741bf3-0447-4361-a857-26ce5c5b452a",
   "metadata": {
    "tags": []
   },
   "outputs": [],
   "source": [
    "service_hrs_all_ops = service_hrs_all_ops[[\"name\"]].drop_duplicates()"
   ]
  },
  {
   "cell_type": "code",
   "execution_count": null,
   "id": "ad9f733c-1142-41ea-9763-abea6f44a8c1",
   "metadata": {
    "scrolled": true,
    "tags": []
   },
   "outputs": [],
   "source": [
    "one_date.groupby([\"Portfolio Organization Name\"]).agg({\"Name\":\"nunique\"})"
   ]
  },
  {
   "cell_type": "code",
   "execution_count": null,
   "id": "bc1e710f-d4ed-45ce-800c-d53b87b7a8ef",
   "metadata": {
    "tags": []
   },
   "outputs": [],
   "source": [
    "one_date.loc[one_date[\"Portfolio Organization Name\"] == \"Alameda-Contra Costa Transit District\"]"
   ]
  },
  {
   "cell_type": "markdown",
   "id": "59b78fa2-055a-4726-8a4a-2e9740ba5dc7",
   "metadata": {},
   "source": [
    "## Make Charts"
   ]
  },
  {
   "cell_type": "code",
   "execution_count": 10,
   "id": "db2a3ad3-44e7-48a7-9d1b-52cc5c9a9797",
   "metadata": {
    "tags": []
   },
   "outputs": [],
   "source": [
    "def create_bg_service_chart() -> alt.Chart:\n",
    "    \"\"\"\n",
    "    Create a shaded background for the Service Hour Chart\n",
    "    to differentiate between time periods.\n",
    "    \"\"\"\n",
    "    specific_chart_dict = readable_dict.background_graph\n",
    "    cutoff = pd.DataFrame(\n",
    "        {\n",
    "            \"start\": [0, 4, 7, 10, 15, 19],\n",
    "            \"stop\": [3.99, 6.99, 9.99, 14.99, 18.99, 24],\n",
    "            \"Time Period\": [\n",
    "                \"Owl:12-3:59AM\",\n",
    "                \"Early AM:4-6:59AM\",\n",
    "                \"AM Peak:7-9:59AM\",\n",
    "                \"Midday:10AM-2:59PM\",\n",
    "                \"PM Peak:3-7:59PM\",\n",
    "                \"Evening:8-11:59PM\",\n",
    "            ],\n",
    "        }\n",
    "    )\n",
    "\n",
    "    # Sort legend by time, 12am starting first.\n",
    "    chart = (\n",
    "        alt.Chart(cutoff.reset_index())\n",
    "        .mark_rect(opacity=0.15)\n",
    "        .encode(\n",
    "            x=\"start\",\n",
    "            x2=\"stop\",\n",
    "            y=alt.value(0),\n",
    "            y2=alt.value(250),\n",
    "            color=alt.Color(\n",
    "                \"Time Period:N\",\n",
    "                sort=(\n",
    "                    [\n",
    "                        \"Owl:12-3:59AM\",\n",
    "                        \"Early AM:4-6:59AM\",\n",
    "                        \"AM Peak:7-9:59AM\",\n",
    "                        \"Midday:10AM-2:59PM\",\n",
    "                        \"PM Peak:3-7:59PM\",\n",
    "                        \"Evening:8-11:59PM\",\n",
    "                    ]\n",
    "                ),\n",
    "                scale=alt.Scale(range=[*specific_chart_dict.colors]),\n",
    "            ),\n",
    "        )\n",
    "    )\n",
    "\n",
    "    return chart"
   ]
  },
  {
   "cell_type": "code",
   "execution_count": 11,
   "id": "5c4a8392-9686-4a5c-8672-13abd3ef11a4",
   "metadata": {
    "tags": []
   },
   "outputs": [],
   "source": [
    "bg_chart = create_bg_service_chart()"
   ]
  },
  {
   "cell_type": "code",
   "execution_count": 12,
   "id": "db7f31ce-ec86-4bac-9557-eb65360a1d3c",
   "metadata": {
    "tags": []
   },
   "outputs": [
    {
     "data": {
      "text/html": [
       "\n",
       "<style>\n",
       "  #altair-viz-8699a933b35f4ea6b9fba3091f3b0811.vega-embed {\n",
       "    width: 100%;\n",
       "    display: flex;\n",
       "  }\n",
       "\n",
       "  #altair-viz-8699a933b35f4ea6b9fba3091f3b0811.vega-embed details,\n",
       "  #altair-viz-8699a933b35f4ea6b9fba3091f3b0811.vega-embed details summary {\n",
       "    position: relative;\n",
       "  }\n",
       "</style>\n",
       "<div id=\"altair-viz-8699a933b35f4ea6b9fba3091f3b0811\"></div>\n",
       "<script type=\"text/javascript\">\n",
       "  var VEGA_DEBUG = (typeof VEGA_DEBUG == \"undefined\") ? {} : VEGA_DEBUG;\n",
       "  (function(spec, embedOpt){\n",
       "    let outputDiv = document.currentScript.previousElementSibling;\n",
       "    if (outputDiv.id !== \"altair-viz-8699a933b35f4ea6b9fba3091f3b0811\") {\n",
       "      outputDiv = document.getElementById(\"altair-viz-8699a933b35f4ea6b9fba3091f3b0811\");\n",
       "    }\n",
       "\n",
       "    const paths = {\n",
       "      \"vega\": \"https://cdn.jsdelivr.net/npm/vega@5?noext\",\n",
       "      \"vega-lib\": \"https://cdn.jsdelivr.net/npm/vega-lib?noext\",\n",
       "      \"vega-lite\": \"https://cdn.jsdelivr.net/npm/vega-lite@5.20.1?noext\",\n",
       "      \"vega-embed\": \"https://cdn.jsdelivr.net/npm/vega-embed@6?noext\",\n",
       "    };\n",
       "\n",
       "    function maybeLoadScript(lib, version) {\n",
       "      var key = `${lib.replace(\"-\", \"\")}_version`;\n",
       "      return (VEGA_DEBUG[key] == version) ?\n",
       "        Promise.resolve(paths[lib]) :\n",
       "        new Promise(function(resolve, reject) {\n",
       "          var s = document.createElement('script');\n",
       "          document.getElementsByTagName(\"head\")[0].appendChild(s);\n",
       "          s.async = true;\n",
       "          s.onload = () => {\n",
       "            VEGA_DEBUG[key] = version;\n",
       "            return resolve(paths[lib]);\n",
       "          };\n",
       "          s.onerror = () => reject(`Error loading script: ${paths[lib]}`);\n",
       "          s.src = paths[lib];\n",
       "        });\n",
       "    }\n",
       "\n",
       "    function showError(err) {\n",
       "      outputDiv.innerHTML = `<div class=\"error\" style=\"color:red;\">${err}</div>`;\n",
       "      throw err;\n",
       "    }\n",
       "\n",
       "    function displayChart(vegaEmbed) {\n",
       "      vegaEmbed(outputDiv, spec, embedOpt)\n",
       "        .catch(err => showError(`Javascript Error: ${err.message}<br>This usually means there's a typo in your chart specification. See the javascript console for the full traceback.`));\n",
       "    }\n",
       "\n",
       "    if(typeof define === \"function\" && define.amd) {\n",
       "      requirejs.config({paths});\n",
       "      let deps = [\"vega-embed\"];\n",
       "      require(deps, displayChart, err => showError(`Error loading script: ${err.message}`));\n",
       "    } else {\n",
       "      maybeLoadScript(\"vega\", \"5\")\n",
       "        .then(() => maybeLoadScript(\"vega-lite\", \"5.20.1\"))\n",
       "        .then(() => maybeLoadScript(\"vega-embed\", \"6\"))\n",
       "        .catch(showError)\n",
       "        .then(() => displayChart(vegaEmbed));\n",
       "    }\n",
       "  })({\"config\": {\"view\": {\"continuousWidth\": 300, \"continuousHeight\": 300}}, \"data\": {\"name\": \"data-ed3e58c91c1826c4bca955698f66e78a\"}, \"mark\": {\"type\": \"rect\", \"opacity\": 0.15}, \"encoding\": {\"color\": {\"field\": \"Time Period\", \"scale\": {\"range\": [\"#5b8efd\", \"#765fec\", \"#fcb40e\", \"#fc5c04\", \"#dd217d\", \"#ccbb44\"]}, \"sort\": [\"Owl:12-3:59AM\", \"Early AM:4-6:59AM\", \"AM Peak:7-9:59AM\", \"Midday:10AM-2:59PM\", \"PM Peak:3-7:59PM\", \"Evening:8-11:59PM\"], \"type\": \"nominal\"}, \"x\": {\"field\": \"start\", \"type\": \"quantitative\"}, \"x2\": {\"field\": \"stop\"}, \"y\": {\"value\": 0}, \"y2\": {\"value\": 250}}, \"$schema\": \"https://vega.github.io/schema/vega-lite/v5.20.1.json\", \"datasets\": {\"data-ed3e58c91c1826c4bca955698f66e78a\": [{\"index\": 0, \"start\": 0, \"stop\": 3.99, \"Time Period\": \"Owl:12-3:59AM\"}, {\"index\": 1, \"start\": 4, \"stop\": 6.99, \"Time Period\": \"Early AM:4-6:59AM\"}, {\"index\": 2, \"start\": 7, \"stop\": 9.99, \"Time Period\": \"AM Peak:7-9:59AM\"}, {\"index\": 3, \"start\": 10, \"stop\": 14.99, \"Time Period\": \"Midday:10AM-2:59PM\"}, {\"index\": 4, \"start\": 15, \"stop\": 18.99, \"Time Period\": \"PM Peak:3-7:59PM\"}, {\"index\": 5, \"start\": 19, \"stop\": 24.0, \"Time Period\": \"Evening:8-11:59PM\"}]}}, {\"mode\": \"vega-lite\"});\n",
       "</script>"
      ],
      "text/plain": [
       "alt.Chart(...)"
      ]
     },
     "execution_count": 12,
     "metadata": {},
     "output_type": "execute_result"
    }
   ],
   "source": [
    "bg_chart"
   ]
  },
  {
   "cell_type": "code",
   "execution_count": 14,
   "id": "cc27e253-d737-43c3-8321-47f4f4f2b08a",
   "metadata": {
    "tags": []
   },
   "outputs": [],
   "source": [
    "main_chart = _report_route_dir_visuals.line_chart(\n",
    "    df=service_hours_df.loc[service_hours_df[\"Weekday or Weekend\"] == \"Weekday\"],\n",
    "    x_col=\"Departure Hour (in Military Time)\",\n",
    "    y_col=\"Daily Service Hours\",\n",
    "    color_col=\"Month\",\n",
    "    color_scheme=[\"#5b8efd\", \"#765fec\", \"#fcb40e\", \"#fc5c04\", \"#dd217d\", \"#ccbb44\"],\n",
    "    tooltip_cols=[\n",
    "        \"Weekday or Weekend\",\n",
    "    ],\n",
    "    date_format=\"\",\n",
    ")"
   ]
  },
  {
   "cell_type": "code",
   "execution_count": 15,
   "id": "d538ad0d-8674-439c-a23c-8fd195ca6e20",
   "metadata": {
    "tags": []
   },
   "outputs": [
    {
     "data": {
      "text/html": [
       "\n",
       "<style>\n",
       "  #altair-viz-e74b9699cd48455bbc853fa2584e7310.vega-embed {\n",
       "    width: 100%;\n",
       "    display: flex;\n",
       "  }\n",
       "\n",
       "  #altair-viz-e74b9699cd48455bbc853fa2584e7310.vega-embed details,\n",
       "  #altair-viz-e74b9699cd48455bbc853fa2584e7310.vega-embed details summary {\n",
       "    position: relative;\n",
       "  }\n",
       "</style>\n",
       "<div id=\"altair-viz-e74b9699cd48455bbc853fa2584e7310\"></div>\n",
       "<script type=\"text/javascript\">\n",
       "  var VEGA_DEBUG = (typeof VEGA_DEBUG == \"undefined\") ? {} : VEGA_DEBUG;\n",
       "  (function(spec, embedOpt){\n",
       "    let outputDiv = document.currentScript.previousElementSibling;\n",
       "    if (outputDiv.id !== \"altair-viz-e74b9699cd48455bbc853fa2584e7310\") {\n",
       "      outputDiv = document.getElementById(\"altair-viz-e74b9699cd48455bbc853fa2584e7310\");\n",
       "    }\n",
       "\n",
       "    const paths = {\n",
       "      \"vega\": \"https://cdn.jsdelivr.net/npm/vega@5?noext\",\n",
       "      \"vega-lib\": \"https://cdn.jsdelivr.net/npm/vega-lib?noext\",\n",
       "      \"vega-lite\": \"https://cdn.jsdelivr.net/npm/vega-lite@5.20.1?noext\",\n",
       "      \"vega-embed\": \"https://cdn.jsdelivr.net/npm/vega-embed@6?noext\",\n",
       "    };\n",
       "\n",
       "    function maybeLoadScript(lib, version) {\n",
       "      var key = `${lib.replace(\"-\", \"\")}_version`;\n",
       "      return (VEGA_DEBUG[key] == version) ?\n",
       "        Promise.resolve(paths[lib]) :\n",
       "        new Promise(function(resolve, reject) {\n",
       "          var s = document.createElement('script');\n",
       "          document.getElementsByTagName(\"head\")[0].appendChild(s);\n",
       "          s.async = true;\n",
       "          s.onload = () => {\n",
       "            VEGA_DEBUG[key] = version;\n",
       "            return resolve(paths[lib]);\n",
       "          };\n",
       "          s.onerror = () => reject(`Error loading script: ${paths[lib]}`);\n",
       "          s.src = paths[lib];\n",
       "        });\n",
       "    }\n",
       "\n",
       "    function showError(err) {\n",
       "      outputDiv.innerHTML = `<div class=\"error\" style=\"color:red;\">${err}</div>`;\n",
       "      throw err;\n",
       "    }\n",
       "\n",
       "    function displayChart(vegaEmbed) {\n",
       "      vegaEmbed(outputDiv, spec, embedOpt)\n",
       "        .catch(err => showError(`Javascript Error: ${err.message}<br>This usually means there's a typo in your chart specification. See the javascript console for the full traceback.`));\n",
       "    }\n",
       "\n",
       "    if(typeof define === \"function\" && define.amd) {\n",
       "      requirejs.config({paths});\n",
       "      let deps = [\"vega-embed\"];\n",
       "      require(deps, displayChart, err => showError(`Error loading script: ${err.message}`));\n",
       "    } else {\n",
       "      maybeLoadScript(\"vega\", \"5\")\n",
       "        .then(() => maybeLoadScript(\"vega-lite\", \"5.20.1\"))\n",
       "        .then(() => maybeLoadScript(\"vega-embed\", \"6\"))\n",
       "        .catch(showError)\n",
       "        .then(() => displayChart(vegaEmbed));\n",
       "    }\n",
       "  })({\"config\": {\"view\": {\"continuousWidth\": 300, \"continuousHeight\": 300}}, \"layer\": [{\"data\": {\"name\": \"data-a24defcda8345ee835c8909069d4fae7\"}, \"mark\": {\"type\": \"line\", \"size\": 3}, \"encoding\": {\"color\": {\"field\": \"Month\", \"scale\": {\"range\": [\"#5b8efd\", \"#765fec\", \"#fcb40e\", \"#fc5c04\", \"#dd217d\", \"#ccbb44\"]}, \"title\": \"Month\", \"type\": \"nominal\"}, \"tooltip\": [{\"field\": \"Weekday or Weekend\", \"type\": \"nominal\"}], \"x\": {\"axis\": {\"format\": \"\", \"labelAngle\": -45}, \"field\": \"Departure Hour (in Military Time)\", \"title\": \"Departure Hour (in Military Time)\", \"type\": \"quantitative\"}, \"y\": {\"field\": \"Daily Service Hours\", \"title\": \"Daily Service Hours\", \"type\": \"quantitative\"}}}, {\"data\": {\"name\": \"data-ed3e58c91c1826c4bca955698f66e78a\"}, \"mark\": {\"type\": \"rect\", \"opacity\": 0.15}, \"encoding\": {\"color\": {\"field\": \"Time Period\", \"scale\": {\"range\": [\"#5b8efd\", \"#765fec\", \"#fcb40e\", \"#fc5c04\", \"#dd217d\", \"#ccbb44\"]}, \"sort\": [\"Owl:12-3:59AM\", \"Early AM:4-6:59AM\", \"AM Peak:7-9:59AM\", \"Midday:10AM-2:59PM\", \"PM Peak:3-7:59PM\", \"Evening:8-11:59PM\"], \"type\": \"nominal\"}, \"x\": {\"field\": \"start\", \"type\": \"quantitative\"}, \"x2\": {\"field\": \"stop\"}, \"y\": {\"value\": 0}, \"y2\": {\"value\": 250}}}], \"resolve\": {\"scale\": {\"color\": \"independent\"}}, \"$schema\": \"https://vega.github.io/schema/vega-lite/v5.20.1.json\", \"datasets\": {\"data-a24defcda8345ee835c8909069d4fae7\": [{\"Portfolio Organization Name\": \"City and County of San Francisco\", \"Month\": \"2024-10\", \"Weekday or Weekend\": \"Weekday\", \"Departure Hour (in Military Time)\": 0, \"Service Hours\": 336.15, \"Daily Service Hours\": 67.23}, {\"Portfolio Organization Name\": \"City and County of San Francisco\", \"Month\": \"2024-10\", \"Weekday or Weekend\": \"Weekday\", \"Departure Hour (in Military Time)\": 1, \"Service Hours\": 171.0, \"Daily Service Hours\": 34.2}, {\"Portfolio Organization Name\": \"City and County of San Francisco\", \"Month\": \"2024-10\", \"Weekday or Weekend\": \"Weekday\", \"Departure Hour (in Military Time)\": 2, \"Service Hours\": 173.1, \"Daily Service Hours\": 34.62}, {\"Portfolio Organization Name\": \"City and County of San Francisco\", \"Month\": \"2024-10\", \"Weekday or Weekend\": \"Weekday\", \"Departure Hour (in Military Time)\": 3, \"Service Hours\": 173.1, \"Daily Service Hours\": 34.62}, {\"Portfolio Organization Name\": \"City and County of San Francisco\", \"Month\": \"2024-10\", \"Weekday or Weekend\": \"Weekday\", \"Departure Hour (in Military Time)\": 4, \"Service Hours\": 224.15, \"Daily Service Hours\": 44.83}, {\"Portfolio Organization Name\": \"City and County of San Francisco\", \"Month\": \"2024-10\", \"Weekday or Weekend\": \"Weekday\", \"Departure Hour (in Military Time)\": 5, \"Service Hours\": 913.51, \"Daily Service Hours\": 182.7}, {\"Portfolio Organization Name\": \"City and County of San Francisco\", \"Month\": \"2024-10\", \"Weekday or Weekend\": \"Weekday\", \"Departure Hour (in Military Time)\": 6, \"Service Hours\": 1375.06, \"Daily Service Hours\": 275.01}, {\"Portfolio Organization Name\": \"City and County of San Francisco\", \"Month\": \"2024-10\", \"Weekday or Weekend\": \"Weekday\", \"Departure Hour (in Military Time)\": 7, \"Service Hours\": 1859.77, \"Daily Service Hours\": 371.95}, {\"Portfolio Organization Name\": \"City and County of San Francisco\", \"Month\": \"2024-10\", \"Weekday or Weekend\": \"Weekday\", \"Departure Hour (in Military Time)\": 8, \"Service Hours\": 1968.87, \"Daily Service Hours\": 393.77}, {\"Portfolio Organization Name\": \"City and County of San Francisco\", \"Month\": \"2024-10\", \"Weekday or Weekend\": \"Weekday\", \"Departure Hour (in Military Time)\": 9, \"Service Hours\": 1966.84, \"Daily Service Hours\": 393.37}, {\"Portfolio Organization Name\": \"City and County of San Francisco\", \"Month\": \"2024-10\", \"Weekday or Weekend\": \"Weekday\", \"Departure Hour (in Military Time)\": 10, \"Service Hours\": 1957.57, \"Daily Service Hours\": 391.51}, {\"Portfolio Organization Name\": \"City and County of San Francisco\", \"Month\": \"2024-10\", \"Weekday or Weekend\": \"Weekday\", \"Departure Hour (in Military Time)\": 11, \"Service Hours\": 1973.02, \"Daily Service Hours\": 394.6}, {\"Portfolio Organization Name\": \"City and County of San Francisco\", \"Month\": \"2024-10\", \"Weekday or Weekend\": \"Weekday\", \"Departure Hour (in Military Time)\": 12, \"Service Hours\": 1972.22, \"Daily Service Hours\": 394.44}, {\"Portfolio Organization Name\": \"City and County of San Francisco\", \"Month\": \"2024-10\", \"Weekday or Weekend\": \"Weekday\", \"Departure Hour (in Military Time)\": 13, \"Service Hours\": 2024.95, \"Daily Service Hours\": 404.99}, {\"Portfolio Organization Name\": \"City and County of San Francisco\", \"Month\": \"2024-10\", \"Weekday or Weekend\": \"Weekday\", \"Departure Hour (in Military Time)\": 14, \"Service Hours\": 2061.95, \"Daily Service Hours\": 412.39}, {\"Portfolio Organization Name\": \"City and County of San Francisco\", \"Month\": \"2024-10\", \"Weekday or Weekend\": \"Weekday\", \"Departure Hour (in Military Time)\": 15, \"Service Hours\": 2181.92, \"Daily Service Hours\": 436.38}, {\"Portfolio Organization Name\": \"City and County of San Francisco\", \"Month\": \"2024-10\", \"Weekday or Weekend\": \"Weekday\", \"Departure Hour (in Military Time)\": 16, \"Service Hours\": 2105.29, \"Daily Service Hours\": 421.06}, {\"Portfolio Organization Name\": \"City and County of San Francisco\", \"Month\": \"2024-10\", \"Weekday or Weekend\": \"Weekday\", \"Departure Hour (in Military Time)\": 17, \"Service Hours\": 2047.72, \"Daily Service Hours\": 409.54}, {\"Portfolio Organization Name\": \"City and County of San Francisco\", \"Month\": \"2024-10\", \"Weekday or Weekend\": \"Weekday\", \"Departure Hour (in Military Time)\": 18, \"Service Hours\": 1811.32, \"Daily Service Hours\": 362.26}, {\"Portfolio Organization Name\": \"City and County of San Francisco\", \"Month\": \"2024-10\", \"Weekday or Weekend\": \"Weekday\", \"Departure Hour (in Military Time)\": 19, \"Service Hours\": 1473.28, \"Daily Service Hours\": 294.66}, {\"Portfolio Organization Name\": \"City and County of San Francisco\", \"Month\": \"2024-10\", \"Weekday or Weekend\": \"Weekday\", \"Departure Hour (in Military Time)\": 20, \"Service Hours\": 1262.32, \"Daily Service Hours\": 252.46}, {\"Portfolio Organization Name\": \"City and County of San Francisco\", \"Month\": \"2024-10\", \"Weekday or Weekend\": \"Weekday\", \"Departure Hour (in Military Time)\": 21, \"Service Hours\": 1063.61, \"Daily Service Hours\": 212.72}, {\"Portfolio Organization Name\": \"City and County of San Francisco\", \"Month\": \"2024-10\", \"Weekday or Weekend\": \"Weekday\", \"Departure Hour (in Military Time)\": 22, \"Service Hours\": 707.79, \"Daily Service Hours\": 141.56}, {\"Portfolio Organization Name\": \"City and County of San Francisco\", \"Month\": \"2024-10\", \"Weekday or Weekend\": \"Weekday\", \"Departure Hour (in Military Time)\": 23, \"Service Hours\": 565.91, \"Daily Service Hours\": 113.18}, {\"Portfolio Organization Name\": \"City and County of San Francisco\", \"Month\": \"2024-04\", \"Weekday or Weekend\": \"Weekday\", \"Departure Hour (in Military Time)\": 0, \"Service Hours\": 319.06, \"Daily Service Hours\": 63.81}, {\"Portfolio Organization Name\": \"City and County of San Francisco\", \"Month\": \"2024-04\", \"Weekday or Weekend\": \"Weekday\", \"Departure Hour (in Military Time)\": 1, \"Service Hours\": 179.92, \"Daily Service Hours\": 35.98}, {\"Portfolio Organization Name\": \"City and County of San Francisco\", \"Month\": \"2024-04\", \"Weekday or Weekend\": \"Weekday\", \"Departure Hour (in Military Time)\": 2, \"Service Hours\": 177.67, \"Daily Service Hours\": 35.53}, {\"Portfolio Organization Name\": \"City and County of San Francisco\", \"Month\": \"2024-04\", \"Weekday or Weekend\": \"Weekday\", \"Departure Hour (in Military Time)\": 3, \"Service Hours\": 177.67, \"Daily Service Hours\": 35.53}, {\"Portfolio Organization Name\": \"City and County of San Francisco\", \"Month\": \"2024-04\", \"Weekday or Weekend\": \"Weekday\", \"Departure Hour (in Military Time)\": 4, \"Service Hours\": 238.24, \"Daily Service Hours\": 47.65}, {\"Portfolio Organization Name\": \"City and County of San Francisco\", \"Month\": \"2024-04\", \"Weekday or Weekend\": \"Weekday\", \"Departure Hour (in Military Time)\": 5, \"Service Hours\": 945.97, \"Daily Service Hours\": 189.19}, {\"Portfolio Organization Name\": \"City and County of San Francisco\", \"Month\": \"2024-04\", \"Weekday or Weekend\": \"Weekday\", \"Departure Hour (in Military Time)\": 6, \"Service Hours\": 1457.38, \"Daily Service Hours\": 291.48}, {\"Portfolio Organization Name\": \"City and County of San Francisco\", \"Month\": \"2024-04\", \"Weekday or Weekend\": \"Weekday\", \"Departure Hour (in Military Time)\": 7, \"Service Hours\": 2011.83, \"Daily Service Hours\": 402.37}, {\"Portfolio Organization Name\": \"City and County of San Francisco\", \"Month\": \"2024-04\", \"Weekday or Weekend\": \"Weekday\", \"Departure Hour (in Military Time)\": 8, \"Service Hours\": 2083.91, \"Daily Service Hours\": 416.78}, {\"Portfolio Organization Name\": \"City and County of San Francisco\", \"Month\": \"2024-04\", \"Weekday or Weekend\": \"Weekday\", \"Departure Hour (in Military Time)\": 9, \"Service Hours\": 2035.5, \"Daily Service Hours\": 407.1}, {\"Portfolio Organization Name\": \"City and County of San Francisco\", \"Month\": \"2024-04\", \"Weekday or Weekend\": \"Weekday\", \"Departure Hour (in Military Time)\": 10, \"Service Hours\": 2036.67, \"Daily Service Hours\": 407.33}, {\"Portfolio Organization Name\": \"City and County of San Francisco\", \"Month\": \"2024-04\", \"Weekday or Weekend\": \"Weekday\", \"Departure Hour (in Military Time)\": 11, \"Service Hours\": 2025.17, \"Daily Service Hours\": 405.03}, {\"Portfolio Organization Name\": \"City and County of San Francisco\", \"Month\": \"2024-04\", \"Weekday or Weekend\": \"Weekday\", \"Departure Hour (in Military Time)\": 12, \"Service Hours\": 2040.17, \"Daily Service Hours\": 408.03}, {\"Portfolio Organization Name\": \"City and County of San Francisco\", \"Month\": \"2024-04\", \"Weekday or Weekend\": \"Weekday\", \"Departure Hour (in Military Time)\": 13, \"Service Hours\": 2071.67, \"Daily Service Hours\": 414.33}, {\"Portfolio Organization Name\": \"City and County of San Francisco\", \"Month\": \"2024-04\", \"Weekday or Weekend\": \"Weekday\", \"Departure Hour (in Military Time)\": 14, \"Service Hours\": 2128.33, \"Daily Service Hours\": 425.67}, {\"Portfolio Organization Name\": \"City and County of San Francisco\", \"Month\": \"2024-04\", \"Weekday or Weekend\": \"Weekday\", \"Departure Hour (in Military Time)\": 15, \"Service Hours\": 2271.83, \"Daily Service Hours\": 454.37}, {\"Portfolio Organization Name\": \"City and County of San Francisco\", \"Month\": \"2024-04\", \"Weekday or Weekend\": \"Weekday\", \"Departure Hour (in Military Time)\": 16, \"Service Hours\": 2199.25, \"Daily Service Hours\": 439.85}, {\"Portfolio Organization Name\": \"City and County of San Francisco\", \"Month\": \"2024-04\", \"Weekday or Weekend\": \"Weekday\", \"Departure Hour (in Military Time)\": 17, \"Service Hours\": 2143.12, \"Daily Service Hours\": 428.62}, {\"Portfolio Organization Name\": \"City and County of San Francisco\", \"Month\": \"2024-04\", \"Weekday or Weekend\": \"Weekday\", \"Departure Hour (in Military Time)\": 18, \"Service Hours\": 1867.79, \"Daily Service Hours\": 373.56}, {\"Portfolio Organization Name\": \"City and County of San Francisco\", \"Month\": \"2024-04\", \"Weekday or Weekend\": \"Weekday\", \"Departure Hour (in Military Time)\": 19, \"Service Hours\": 1505.08, \"Daily Service Hours\": 301.02}, {\"Portfolio Organization Name\": \"City and County of San Francisco\", \"Month\": \"2024-04\", \"Weekday or Weekend\": \"Weekday\", \"Departure Hour (in Military Time)\": 20, \"Service Hours\": 1274.91, \"Daily Service Hours\": 254.98}, {\"Portfolio Organization Name\": \"City and County of San Francisco\", \"Month\": \"2024-04\", \"Weekday or Weekend\": \"Weekday\", \"Departure Hour (in Military Time)\": 21, \"Service Hours\": 1064.16, \"Daily Service Hours\": 212.83}, {\"Portfolio Organization Name\": \"City and County of San Francisco\", \"Month\": \"2024-04\", \"Weekday or Weekend\": \"Weekday\", \"Departure Hour (in Military Time)\": 22, \"Service Hours\": 730.75, \"Daily Service Hours\": 146.15}, {\"Portfolio Organization Name\": \"City and County of San Francisco\", \"Month\": \"2024-04\", \"Weekday or Weekend\": \"Weekday\", \"Departure Hour (in Military Time)\": 23, \"Service Hours\": 568.47, \"Daily Service Hours\": 113.69}, {\"Portfolio Organization Name\": \"City and County of San Francisco\", \"Month\": \"2023-10\", \"Weekday or Weekend\": \"Weekday\", \"Departure Hour (in Military Time)\": 0, \"Service Hours\": 189.52, \"Daily Service Hours\": 37.9}, {\"Portfolio Organization Name\": \"City and County of San Francisco\", \"Month\": \"2023-10\", \"Weekday or Weekend\": \"Weekday\", \"Departure Hour (in Military Time)\": 1, \"Service Hours\": 105.08, \"Daily Service Hours\": 21.02}, {\"Portfolio Organization Name\": \"City and County of San Francisco\", \"Month\": \"2023-10\", \"Weekday or Weekend\": \"Weekday\", \"Departure Hour (in Military Time)\": 2, \"Service Hours\": 103.7, \"Daily Service Hours\": 20.74}, {\"Portfolio Organization Name\": \"City and County of San Francisco\", \"Month\": \"2023-10\", \"Weekday or Weekend\": \"Weekday\", \"Departure Hour (in Military Time)\": 3, \"Service Hours\": 103.7, \"Daily Service Hours\": 20.74}, {\"Portfolio Organization Name\": \"City and County of San Francisco\", \"Month\": \"2023-10\", \"Weekday or Weekend\": \"Weekday\", \"Departure Hour (in Military Time)\": 4, \"Service Hours\": 136.06, \"Daily Service Hours\": 27.21}, {\"Portfolio Organization Name\": \"City and County of San Francisco\", \"Month\": \"2023-10\", \"Weekday or Weekend\": \"Weekday\", \"Departure Hour (in Military Time)\": 5, \"Service Hours\": 515.16, \"Daily Service Hours\": 103.03}, {\"Portfolio Organization Name\": \"City and County of San Francisco\", \"Month\": \"2023-10\", \"Weekday or Weekend\": \"Weekday\", \"Departure Hour (in Military Time)\": 6, \"Service Hours\": 768.19, \"Daily Service Hours\": 153.64}, {\"Portfolio Organization Name\": \"City and County of San Francisco\", \"Month\": \"2023-10\", \"Weekday or Weekend\": \"Weekday\", \"Departure Hour (in Military Time)\": 7, \"Service Hours\": 1051.73, \"Daily Service Hours\": 210.35}, {\"Portfolio Organization Name\": \"City and County of San Francisco\", \"Month\": \"2023-10\", \"Weekday or Weekend\": \"Weekday\", \"Departure Hour (in Military Time)\": 8, \"Service Hours\": 1149.44, \"Daily Service Hours\": 229.89}, {\"Portfolio Organization Name\": \"City and County of San Francisco\", \"Month\": \"2023-10\", \"Weekday or Weekend\": \"Weekday\", \"Departure Hour (in Military Time)\": 9, \"Service Hours\": 1153.93, \"Daily Service Hours\": 230.79}, {\"Portfolio Organization Name\": \"City and County of San Francisco\", \"Month\": \"2023-10\", \"Weekday or Weekend\": \"Weekday\", \"Departure Hour (in Military Time)\": 10, \"Service Hours\": 1171.27, \"Daily Service Hours\": 234.25}, {\"Portfolio Organization Name\": \"City and County of San Francisco\", \"Month\": \"2023-10\", \"Weekday or Weekend\": \"Weekday\", \"Departure Hour (in Military Time)\": 11, \"Service Hours\": 1159.36, \"Daily Service Hours\": 231.87}, {\"Portfolio Organization Name\": \"City and County of San Francisco\", \"Month\": \"2023-10\", \"Weekday or Weekend\": \"Weekday\", \"Departure Hour (in Military Time)\": 12, \"Service Hours\": 1182.94, \"Daily Service Hours\": 236.59}, {\"Portfolio Organization Name\": \"City and County of San Francisco\", \"Month\": \"2023-10\", \"Weekday or Weekend\": \"Weekday\", \"Departure Hour (in Military Time)\": 13, \"Service Hours\": 1192.28, \"Daily Service Hours\": 238.46}, {\"Portfolio Organization Name\": \"City and County of San Francisco\", \"Month\": \"2023-10\", \"Weekday or Weekend\": \"Weekday\", \"Departure Hour (in Military Time)\": 14, \"Service Hours\": 1195.38, \"Daily Service Hours\": 239.08}, {\"Portfolio Organization Name\": \"City and County of San Francisco\", \"Month\": \"2023-10\", \"Weekday or Weekend\": \"Weekday\", \"Departure Hour (in Military Time)\": 15, \"Service Hours\": 1217.9, \"Daily Service Hours\": 243.58}, {\"Portfolio Organization Name\": \"City and County of San Francisco\", \"Month\": \"2023-10\", \"Weekday or Weekend\": \"Weekday\", \"Departure Hour (in Military Time)\": 16, \"Service Hours\": 1240.31, \"Daily Service Hours\": 248.06}, {\"Portfolio Organization Name\": \"City and County of San Francisco\", \"Month\": \"2023-10\", \"Weekday or Weekend\": \"Weekday\", \"Departure Hour (in Military Time)\": 17, \"Service Hours\": 1210.99, \"Daily Service Hours\": 242.2}, {\"Portfolio Organization Name\": \"City and County of San Francisco\", \"Month\": \"2023-10\", \"Weekday or Weekend\": \"Weekday\", \"Departure Hour (in Military Time)\": 18, \"Service Hours\": 1079.37, \"Daily Service Hours\": 215.87}, {\"Portfolio Organization Name\": \"City and County of San Francisco\", \"Month\": \"2023-10\", \"Weekday or Weekend\": \"Weekday\", \"Departure Hour (in Military Time)\": 19, \"Service Hours\": 876.57, \"Daily Service Hours\": 175.31}, {\"Portfolio Organization Name\": \"City and County of San Francisco\", \"Month\": \"2023-10\", \"Weekday or Weekend\": \"Weekday\", \"Departure Hour (in Military Time)\": 20, \"Service Hours\": 744.66, \"Daily Service Hours\": 148.93}, {\"Portfolio Organization Name\": \"City and County of San Francisco\", \"Month\": \"2023-10\", \"Weekday or Weekend\": \"Weekday\", \"Departure Hour (in Military Time)\": 21, \"Service Hours\": 631.24, \"Daily Service Hours\": 126.25}, {\"Portfolio Organization Name\": \"City and County of San Francisco\", \"Month\": \"2023-10\", \"Weekday or Weekend\": \"Weekday\", \"Departure Hour (in Military Time)\": 22, \"Service Hours\": 422.68, \"Daily Service Hours\": 84.54}, {\"Portfolio Organization Name\": \"City and County of San Francisco\", \"Month\": \"2023-10\", \"Weekday or Weekend\": \"Weekday\", \"Departure Hour (in Military Time)\": 23, \"Service Hours\": 334.48, \"Daily Service Hours\": 66.9}, {\"Portfolio Organization Name\": \"City and County of San Francisco\", \"Month\": \"2023-04\", \"Weekday or Weekend\": \"Weekday\", \"Departure Hour (in Military Time)\": 0, \"Service Hours\": 316.92, \"Daily Service Hours\": 63.38}, {\"Portfolio Organization Name\": \"City and County of San Francisco\", \"Month\": \"2023-04\", \"Weekday or Weekend\": \"Weekday\", \"Departure Hour (in Military Time)\": 1, \"Service Hours\": 177.58, \"Daily Service Hours\": 35.52}, {\"Portfolio Organization Name\": \"City and County of San Francisco\", \"Month\": \"2023-04\", \"Weekday or Weekend\": \"Weekday\", \"Departure Hour (in Military Time)\": 2, \"Service Hours\": 174.83, \"Daily Service Hours\": 34.97}, {\"Portfolio Organization Name\": \"City and County of San Francisco\", \"Month\": \"2023-04\", \"Weekday or Weekend\": \"Weekday\", \"Departure Hour (in Military Time)\": 3, \"Service Hours\": 174.83, \"Daily Service Hours\": 34.97}, {\"Portfolio Organization Name\": \"City and County of San Francisco\", \"Month\": \"2023-04\", \"Weekday or Weekend\": \"Weekday\", \"Departure Hour (in Military Time)\": 4, \"Service Hours\": 232.65, \"Daily Service Hours\": 46.53}, {\"Portfolio Organization Name\": \"City and County of San Francisco\", \"Month\": \"2023-04\", \"Weekday or Weekend\": \"Weekday\", \"Departure Hour (in Military Time)\": 5, \"Service Hours\": 904.31, \"Daily Service Hours\": 180.86}, {\"Portfolio Organization Name\": \"City and County of San Francisco\", \"Month\": \"2023-04\", \"Weekday or Weekend\": \"Weekday\", \"Departure Hour (in Military Time)\": 6, \"Service Hours\": 1410.08, \"Daily Service Hours\": 282.02}, {\"Portfolio Organization Name\": \"City and County of San Francisco\", \"Month\": \"2023-04\", \"Weekday or Weekend\": \"Weekday\", \"Departure Hour (in Military Time)\": 7, \"Service Hours\": 1906.42, \"Daily Service Hours\": 381.28}, {\"Portfolio Organization Name\": \"City and County of San Francisco\", \"Month\": \"2023-04\", \"Weekday or Weekend\": \"Weekday\", \"Departure Hour (in Military Time)\": 8, \"Service Hours\": 2063.58, \"Daily Service Hours\": 412.72}, {\"Portfolio Organization Name\": \"City and County of San Francisco\", \"Month\": \"2023-04\", \"Weekday or Weekend\": \"Weekday\", \"Departure Hour (in Military Time)\": 9, \"Service Hours\": 2031.92, \"Daily Service Hours\": 406.38}, {\"Portfolio Organization Name\": \"City and County of San Francisco\", \"Month\": \"2023-04\", \"Weekday or Weekend\": \"Weekday\", \"Departure Hour (in Military Time)\": 10, \"Service Hours\": 2024.42, \"Daily Service Hours\": 404.88}, {\"Portfolio Organization Name\": \"City and County of San Francisco\", \"Month\": \"2023-04\", \"Weekday or Weekend\": \"Weekday\", \"Departure Hour (in Military Time)\": 11, \"Service Hours\": 1967.08, \"Daily Service Hours\": 393.42}, {\"Portfolio Organization Name\": \"City and County of San Francisco\", \"Month\": \"2023-04\", \"Weekday or Weekend\": \"Weekday\", \"Departure Hour (in Military Time)\": 12, \"Service Hours\": 2020.67, \"Daily Service Hours\": 404.13}, {\"Portfolio Organization Name\": \"City and County of San Francisco\", \"Month\": \"2023-04\", \"Weekday or Weekend\": \"Weekday\", \"Departure Hour (in Military Time)\": 13, \"Service Hours\": 2007.08, \"Daily Service Hours\": 401.42}, {\"Portfolio Organization Name\": \"City and County of San Francisco\", \"Month\": \"2023-04\", \"Weekday or Weekend\": \"Weekday\", \"Departure Hour (in Military Time)\": 14, \"Service Hours\": 2034.17, \"Daily Service Hours\": 406.83}, {\"Portfolio Organization Name\": \"City and County of San Francisco\", \"Month\": \"2023-04\", \"Weekday or Weekend\": \"Weekday\", \"Departure Hour (in Military Time)\": 15, \"Service Hours\": 2081.25, \"Daily Service Hours\": 416.25}, {\"Portfolio Organization Name\": \"City and County of San Francisco\", \"Month\": \"2023-04\", \"Weekday or Weekend\": \"Weekday\", \"Departure Hour (in Military Time)\": 16, \"Service Hours\": 2137.58, \"Daily Service Hours\": 427.52}, {\"Portfolio Organization Name\": \"City and County of San Francisco\", \"Month\": \"2023-04\", \"Weekday or Weekend\": \"Weekday\", \"Departure Hour (in Military Time)\": 17, \"Service Hours\": 2146.17, \"Daily Service Hours\": 429.23}, {\"Portfolio Organization Name\": \"City and County of San Francisco\", \"Month\": \"2023-04\", \"Weekday or Weekend\": \"Weekday\", \"Departure Hour (in Military Time)\": 18, \"Service Hours\": 1890.5, \"Daily Service Hours\": 378.1}, {\"Portfolio Organization Name\": \"City and County of San Francisco\", \"Month\": \"2023-04\", \"Weekday or Weekend\": \"Weekday\", \"Departure Hour (in Military Time)\": 19, \"Service Hours\": 1531.5, \"Daily Service Hours\": 306.3}, {\"Portfolio Organization Name\": \"City and County of San Francisco\", \"Month\": \"2023-04\", \"Weekday or Weekend\": \"Weekday\", \"Departure Hour (in Military Time)\": 20, \"Service Hours\": 1281.83, \"Daily Service Hours\": 256.37}, {\"Portfolio Organization Name\": \"City and County of San Francisco\", \"Month\": \"2023-04\", \"Weekday or Weekend\": \"Weekday\", \"Departure Hour (in Military Time)\": 21, \"Service Hours\": 1070.5, \"Daily Service Hours\": 214.1}, {\"Portfolio Organization Name\": \"City and County of San Francisco\", \"Month\": \"2023-04\", \"Weekday or Weekend\": \"Weekday\", \"Departure Hour (in Military Time)\": 22, \"Service Hours\": 725.0, \"Daily Service Hours\": 145.0}, {\"Portfolio Organization Name\": \"City and County of San Francisco\", \"Month\": \"2023-04\", \"Weekday or Weekend\": \"Weekday\", \"Departure Hour (in Military Time)\": 23, \"Service Hours\": 571.5, \"Daily Service Hours\": 114.3}], \"data-ed3e58c91c1826c4bca955698f66e78a\": [{\"index\": 0, \"start\": 0, \"stop\": 3.99, \"Time Period\": \"Owl:12-3:59AM\"}, {\"index\": 1, \"start\": 4, \"stop\": 6.99, \"Time Period\": \"Early AM:4-6:59AM\"}, {\"index\": 2, \"start\": 7, \"stop\": 9.99, \"Time Period\": \"AM Peak:7-9:59AM\"}, {\"index\": 3, \"start\": 10, \"stop\": 14.99, \"Time Period\": \"Midday:10AM-2:59PM\"}, {\"index\": 4, \"start\": 15, \"stop\": 18.99, \"Time Period\": \"PM Peak:3-7:59PM\"}, {\"index\": 5, \"start\": 19, \"stop\": 24.0, \"Time Period\": \"Evening:8-11:59PM\"}]}}, {\"mode\": \"vega-lite\"});\n",
       "</script>"
      ],
      "text/plain": [
       "alt.LayerChart(...)"
      ]
     },
     "execution_count": 15,
     "metadata": {},
     "output_type": "execute_result"
    }
   ],
   "source": [
    "(main_chart + bg_chart).properties(\n",
    "    resolve=alt.Resolve(\n",
    "        scale=alt.LegendResolveMap(color=alt.ResolveMode(\"independent\"))\n",
    "    )\n",
    ")"
   ]
  },
  {
   "cell_type": "code",
   "execution_count": null,
   "id": "79e9bd40-f758-44c4-8c2b-dd346140166a",
   "metadata": {
    "tags": []
   },
   "outputs": [],
   "source": [
    "service_hours_df.columns"
   ]
  },
  {
   "cell_type": "code",
   "execution_count": null,
   "id": "6f45109c-97a0-4c15-977f-57447e816785",
   "metadata": {
    "tags": []
   },
   "outputs": [],
   "source": [
    "service_hours_df.loc[service_hours_df[\"Weekday or Weekend\"] == \"Weekday\"].sample()"
   ]
  },
  {
   "cell_type": "code",
   "execution_count": 16,
   "id": "43ad9306-fd0f-498e-a9da-ce9176864f67",
   "metadata": {
    "tags": []
   },
   "outputs": [],
   "source": [
    "def scheduled_service_hours(\n",
    "    df: pd.DataFrame, weekday_weekend: str, specific_chart_dict: dict\n",
    ") -> alt.Chart:\n",
    "    df2 = df.loc[df[\"Weekday or Weekend\"] == weekday_weekend]\n",
    "\n",
    "    # Create an interactive legend so you can view one time period at a time.\n",
    "    selection = alt.selection_point(fields=[\"Month\"], bind=\"legend\")\n",
    "\n",
    "    line = _report_route_dir_visuals.line_chart(\n",
    "        df=df2,\n",
    "        x_col=\"Departure Hour (in Military Time)\",\n",
    "        y_col=\"Daily Service Hours\",\n",
    "        color_col=\"Month\",\n",
    "        color_scheme=[*specific_chart_dict.colors],\n",
    "        tooltip_cols=[*specific_chart_dict.tooltip],\n",
    "        date_format=\"\",\n",
    "    )\n",
    "\n",
    "    bg = create_bg_service_chart()\n",
    "    chart = (line + bg).properties(\n",
    "        resolve=alt.Resolve(\n",
    "            scale=alt.LegendResolveMap(color=alt.ResolveMode(\"independent\"))\n",
    "        )\n",
    "    )\n",
    "\n",
    "    chart = _report_route_dir_visuals.configure_chart(\n",
    "        chart=chart,\n",
    "        width=400,\n",
    "        height=250,\n",
    "        title=specific_chart_dict.title,\n",
    "        subtitle=specific_chart_dict.subtitle,\n",
    "    )\n",
    "\n",
    "    chart = chart.add_params(selection)\n",
    "\n",
    "    return chart"
   ]
  },
  {
   "cell_type": "code",
   "execution_count": null,
   "id": "946b8565-71f9-472d-a661-46934f545758",
   "metadata": {
    "tags": []
   },
   "outputs": [],
   "source": [
    "service_hours_df[\"Weekday or Weekend\"].unique()"
   ]
  },
  {
   "cell_type": "code",
   "execution_count": 17,
   "id": "29101636-f8a5-40aa-841d-6abb525ec03f",
   "metadata": {
    "tags": []
   },
   "outputs": [
    {
     "data": {
      "text/html": [
       "\n",
       "<style>\n",
       "  #altair-viz-5041b2f0e34649ecbd3a129f24dab6dc.vega-embed {\n",
       "    width: 100%;\n",
       "    display: flex;\n",
       "  }\n",
       "\n",
       "  #altair-viz-5041b2f0e34649ecbd3a129f24dab6dc.vega-embed details,\n",
       "  #altair-viz-5041b2f0e34649ecbd3a129f24dab6dc.vega-embed details summary {\n",
       "    position: relative;\n",
       "  }\n",
       "</style>\n",
       "<div id=\"altair-viz-5041b2f0e34649ecbd3a129f24dab6dc\"></div>\n",
       "<script type=\"text/javascript\">\n",
       "  var VEGA_DEBUG = (typeof VEGA_DEBUG == \"undefined\") ? {} : VEGA_DEBUG;\n",
       "  (function(spec, embedOpt){\n",
       "    let outputDiv = document.currentScript.previousElementSibling;\n",
       "    if (outputDiv.id !== \"altair-viz-5041b2f0e34649ecbd3a129f24dab6dc\") {\n",
       "      outputDiv = document.getElementById(\"altair-viz-5041b2f0e34649ecbd3a129f24dab6dc\");\n",
       "    }\n",
       "\n",
       "    const paths = {\n",
       "      \"vega\": \"https://cdn.jsdelivr.net/npm/vega@5?noext\",\n",
       "      \"vega-lib\": \"https://cdn.jsdelivr.net/npm/vega-lib?noext\",\n",
       "      \"vega-lite\": \"https://cdn.jsdelivr.net/npm/vega-lite@5.20.1?noext\",\n",
       "      \"vega-embed\": \"https://cdn.jsdelivr.net/npm/vega-embed@6?noext\",\n",
       "    };\n",
       "\n",
       "    function maybeLoadScript(lib, version) {\n",
       "      var key = `${lib.replace(\"-\", \"\")}_version`;\n",
       "      return (VEGA_DEBUG[key] == version) ?\n",
       "        Promise.resolve(paths[lib]) :\n",
       "        new Promise(function(resolve, reject) {\n",
       "          var s = document.createElement('script');\n",
       "          document.getElementsByTagName(\"head\")[0].appendChild(s);\n",
       "          s.async = true;\n",
       "          s.onload = () => {\n",
       "            VEGA_DEBUG[key] = version;\n",
       "            return resolve(paths[lib]);\n",
       "          };\n",
       "          s.onerror = () => reject(`Error loading script: ${paths[lib]}`);\n",
       "          s.src = paths[lib];\n",
       "        });\n",
       "    }\n",
       "\n",
       "    function showError(err) {\n",
       "      outputDiv.innerHTML = `<div class=\"error\" style=\"color:red;\">${err}</div>`;\n",
       "      throw err;\n",
       "    }\n",
       "\n",
       "    function displayChart(vegaEmbed) {\n",
       "      vegaEmbed(outputDiv, spec, embedOpt)\n",
       "        .catch(err => showError(`Javascript Error: ${err.message}<br>This usually means there's a typo in your chart specification. See the javascript console for the full traceback.`));\n",
       "    }\n",
       "\n",
       "    if(typeof define === \"function\" && define.amd) {\n",
       "      requirejs.config({paths});\n",
       "      let deps = [\"vega-embed\"];\n",
       "      require(deps, displayChart, err => showError(`Error loading script: ${err.message}`));\n",
       "    } else {\n",
       "      maybeLoadScript(\"vega\", \"5\")\n",
       "        .then(() => maybeLoadScript(\"vega-lite\", \"5.20.1\"))\n",
       "        .then(() => maybeLoadScript(\"vega-embed\", \"6\"))\n",
       "        .catch(showError)\n",
       "        .then(() => displayChart(vegaEmbed));\n",
       "    }\n",
       "  })({\"config\": {\"view\": {\"continuousWidth\": 300, \"continuousHeight\": 300}}, \"layer\": [{\"data\": {\"name\": \"data-a24defcda8345ee835c8909069d4fae7\"}, \"mark\": {\"type\": \"line\", \"size\": 3}, \"encoding\": {\"color\": {\"field\": \"Month\", \"scale\": {\"range\": [\"#5b8efd\", \"#765fec\", \"#fcb40e\", \"#fc5c04\", \"#dd217d\", \"#ccbb44\"]}, \"title\": \"Month\", \"type\": \"nominal\"}, \"tooltip\": [{\"field\": \"Month\", \"type\": \"nominal\"}, {\"field\": \"Departure Hour (in Military Time)\", \"type\": \"quantitative\"}], \"x\": {\"axis\": {\"format\": \"\", \"labelAngle\": -45}, \"field\": \"Departure Hour (in Military Time)\", \"title\": \"Departure Hour (in Military Time)\", \"type\": \"quantitative\"}, \"y\": {\"field\": \"Daily Service Hours\", \"title\": \"Daily Service Hours\", \"type\": \"quantitative\"}}, \"name\": \"view_1\"}, {\"data\": {\"name\": \"data-ed3e58c91c1826c4bca955698f66e78a\"}, \"mark\": {\"type\": \"rect\", \"opacity\": 0.15}, \"encoding\": {\"color\": {\"field\": \"Time Period\", \"scale\": {\"range\": [\"#5b8efd\", \"#765fec\", \"#fcb40e\", \"#fc5c04\", \"#dd217d\", \"#ccbb44\"]}, \"sort\": [\"Owl:12-3:59AM\", \"Early AM:4-6:59AM\", \"AM Peak:7-9:59AM\", \"Midday:10AM-2:59PM\", \"PM Peak:3-7:59PM\", \"Evening:8-11:59PM\"], \"type\": \"nominal\"}, \"x\": {\"field\": \"start\", \"type\": \"quantitative\"}, \"x2\": {\"field\": \"stop\"}, \"y\": {\"value\": 0}, \"y2\": {\"value\": 250}}}], \"height\": 250, \"params\": [{\"name\": \"param_1\", \"select\": {\"type\": \"point\", \"fields\": [\"Month\"]}, \"bind\": \"legend\", \"views\": [\"view_1\"]}], \"resolve\": {\"scale\": {\"color\": \"independent\"}}, \"title\": {\"text\": [\"Daily Scheduled Service Hours for Weekday\"], \"subtitle\": [\"Use the legend to highlight a particular month and hover over the line for additional information.\"]}, \"width\": 400, \"$schema\": \"https://vega.github.io/schema/vega-lite/v5.20.1.json\", \"datasets\": {\"data-a24defcda8345ee835c8909069d4fae7\": [{\"Portfolio Organization Name\": \"City and County of San Francisco\", \"Month\": \"2024-10\", \"Weekday or Weekend\": \"Weekday\", \"Departure Hour (in Military Time)\": 0, \"Service Hours\": 336.15, \"Daily Service Hours\": 67.23}, {\"Portfolio Organization Name\": \"City and County of San Francisco\", \"Month\": \"2024-10\", \"Weekday or Weekend\": \"Weekday\", \"Departure Hour (in Military Time)\": 1, \"Service Hours\": 171.0, \"Daily Service Hours\": 34.2}, {\"Portfolio Organization Name\": \"City and County of San Francisco\", \"Month\": \"2024-10\", \"Weekday or Weekend\": \"Weekday\", \"Departure Hour (in Military Time)\": 2, \"Service Hours\": 173.1, \"Daily Service Hours\": 34.62}, {\"Portfolio Organization Name\": \"City and County of San Francisco\", \"Month\": \"2024-10\", \"Weekday or Weekend\": \"Weekday\", \"Departure Hour (in Military Time)\": 3, \"Service Hours\": 173.1, \"Daily Service Hours\": 34.62}, {\"Portfolio Organization Name\": \"City and County of San Francisco\", \"Month\": \"2024-10\", \"Weekday or Weekend\": \"Weekday\", \"Departure Hour (in Military Time)\": 4, \"Service Hours\": 224.15, \"Daily Service Hours\": 44.83}, {\"Portfolio Organization Name\": \"City and County of San Francisco\", \"Month\": \"2024-10\", \"Weekday or Weekend\": \"Weekday\", \"Departure Hour (in Military Time)\": 5, \"Service Hours\": 913.51, \"Daily Service Hours\": 182.7}, {\"Portfolio Organization Name\": \"City and County of San Francisco\", \"Month\": \"2024-10\", \"Weekday or Weekend\": \"Weekday\", \"Departure Hour (in Military Time)\": 6, \"Service Hours\": 1375.06, \"Daily Service Hours\": 275.01}, {\"Portfolio Organization Name\": \"City and County of San Francisco\", \"Month\": \"2024-10\", \"Weekday or Weekend\": \"Weekday\", \"Departure Hour (in Military Time)\": 7, \"Service Hours\": 1859.77, \"Daily Service Hours\": 371.95}, {\"Portfolio Organization Name\": \"City and County of San Francisco\", \"Month\": \"2024-10\", \"Weekday or Weekend\": \"Weekday\", \"Departure Hour (in Military Time)\": 8, \"Service Hours\": 1968.87, \"Daily Service Hours\": 393.77}, {\"Portfolio Organization Name\": \"City and County of San Francisco\", \"Month\": \"2024-10\", \"Weekday or Weekend\": \"Weekday\", \"Departure Hour (in Military Time)\": 9, \"Service Hours\": 1966.84, \"Daily Service Hours\": 393.37}, {\"Portfolio Organization Name\": \"City and County of San Francisco\", \"Month\": \"2024-10\", \"Weekday or Weekend\": \"Weekday\", \"Departure Hour (in Military Time)\": 10, \"Service Hours\": 1957.57, \"Daily Service Hours\": 391.51}, {\"Portfolio Organization Name\": \"City and County of San Francisco\", \"Month\": \"2024-10\", \"Weekday or Weekend\": \"Weekday\", \"Departure Hour (in Military Time)\": 11, \"Service Hours\": 1973.02, \"Daily Service Hours\": 394.6}, {\"Portfolio Organization Name\": \"City and County of San Francisco\", \"Month\": \"2024-10\", \"Weekday or Weekend\": \"Weekday\", \"Departure Hour (in Military Time)\": 12, \"Service Hours\": 1972.22, \"Daily Service Hours\": 394.44}, {\"Portfolio Organization Name\": \"City and County of San Francisco\", \"Month\": \"2024-10\", \"Weekday or Weekend\": \"Weekday\", \"Departure Hour (in Military Time)\": 13, \"Service Hours\": 2024.95, \"Daily Service Hours\": 404.99}, {\"Portfolio Organization Name\": \"City and County of San Francisco\", \"Month\": \"2024-10\", \"Weekday or Weekend\": \"Weekday\", \"Departure Hour (in Military Time)\": 14, \"Service Hours\": 2061.95, \"Daily Service Hours\": 412.39}, {\"Portfolio Organization Name\": \"City and County of San Francisco\", \"Month\": \"2024-10\", \"Weekday or Weekend\": \"Weekday\", \"Departure Hour (in Military Time)\": 15, \"Service Hours\": 2181.92, \"Daily Service Hours\": 436.38}, {\"Portfolio Organization Name\": \"City and County of San Francisco\", \"Month\": \"2024-10\", \"Weekday or Weekend\": \"Weekday\", \"Departure Hour (in Military Time)\": 16, \"Service Hours\": 2105.29, \"Daily Service Hours\": 421.06}, {\"Portfolio Organization Name\": \"City and County of San Francisco\", \"Month\": \"2024-10\", \"Weekday or Weekend\": \"Weekday\", \"Departure Hour (in Military Time)\": 17, \"Service Hours\": 2047.72, \"Daily Service Hours\": 409.54}, {\"Portfolio Organization Name\": \"City and County of San Francisco\", \"Month\": \"2024-10\", \"Weekday or Weekend\": \"Weekday\", \"Departure Hour (in Military Time)\": 18, \"Service Hours\": 1811.32, \"Daily Service Hours\": 362.26}, {\"Portfolio Organization Name\": \"City and County of San Francisco\", \"Month\": \"2024-10\", \"Weekday or Weekend\": \"Weekday\", \"Departure Hour (in Military Time)\": 19, \"Service Hours\": 1473.28, \"Daily Service Hours\": 294.66}, {\"Portfolio Organization Name\": \"City and County of San Francisco\", \"Month\": \"2024-10\", \"Weekday or Weekend\": \"Weekday\", \"Departure Hour (in Military Time)\": 20, \"Service Hours\": 1262.32, \"Daily Service Hours\": 252.46}, {\"Portfolio Organization Name\": \"City and County of San Francisco\", \"Month\": \"2024-10\", \"Weekday or Weekend\": \"Weekday\", \"Departure Hour (in Military Time)\": 21, \"Service Hours\": 1063.61, \"Daily Service Hours\": 212.72}, {\"Portfolio Organization Name\": \"City and County of San Francisco\", \"Month\": \"2024-10\", \"Weekday or Weekend\": \"Weekday\", \"Departure Hour (in Military Time)\": 22, \"Service Hours\": 707.79, \"Daily Service Hours\": 141.56}, {\"Portfolio Organization Name\": \"City and County of San Francisco\", \"Month\": \"2024-10\", \"Weekday or Weekend\": \"Weekday\", \"Departure Hour (in Military Time)\": 23, \"Service Hours\": 565.91, \"Daily Service Hours\": 113.18}, {\"Portfolio Organization Name\": \"City and County of San Francisco\", \"Month\": \"2024-04\", \"Weekday or Weekend\": \"Weekday\", \"Departure Hour (in Military Time)\": 0, \"Service Hours\": 319.06, \"Daily Service Hours\": 63.81}, {\"Portfolio Organization Name\": \"City and County of San Francisco\", \"Month\": \"2024-04\", \"Weekday or Weekend\": \"Weekday\", \"Departure Hour (in Military Time)\": 1, \"Service Hours\": 179.92, \"Daily Service Hours\": 35.98}, {\"Portfolio Organization Name\": \"City and County of San Francisco\", \"Month\": \"2024-04\", \"Weekday or Weekend\": \"Weekday\", \"Departure Hour (in Military Time)\": 2, \"Service Hours\": 177.67, \"Daily Service Hours\": 35.53}, {\"Portfolio Organization Name\": \"City and County of San Francisco\", \"Month\": \"2024-04\", \"Weekday or Weekend\": \"Weekday\", \"Departure Hour (in Military Time)\": 3, \"Service Hours\": 177.67, \"Daily Service Hours\": 35.53}, {\"Portfolio Organization Name\": \"City and County of San Francisco\", \"Month\": \"2024-04\", \"Weekday or Weekend\": \"Weekday\", \"Departure Hour (in Military Time)\": 4, \"Service Hours\": 238.24, \"Daily Service Hours\": 47.65}, {\"Portfolio Organization Name\": \"City and County of San Francisco\", \"Month\": \"2024-04\", \"Weekday or Weekend\": \"Weekday\", \"Departure Hour (in Military Time)\": 5, \"Service Hours\": 945.97, \"Daily Service Hours\": 189.19}, {\"Portfolio Organization Name\": \"City and County of San Francisco\", \"Month\": \"2024-04\", \"Weekday or Weekend\": \"Weekday\", \"Departure Hour (in Military Time)\": 6, \"Service Hours\": 1457.38, \"Daily Service Hours\": 291.48}, {\"Portfolio Organization Name\": \"City and County of San Francisco\", \"Month\": \"2024-04\", \"Weekday or Weekend\": \"Weekday\", \"Departure Hour (in Military Time)\": 7, \"Service Hours\": 2011.83, \"Daily Service Hours\": 402.37}, {\"Portfolio Organization Name\": \"City and County of San Francisco\", \"Month\": \"2024-04\", \"Weekday or Weekend\": \"Weekday\", \"Departure Hour (in Military Time)\": 8, \"Service Hours\": 2083.91, \"Daily Service Hours\": 416.78}, {\"Portfolio Organization Name\": \"City and County of San Francisco\", \"Month\": \"2024-04\", \"Weekday or Weekend\": \"Weekday\", \"Departure Hour (in Military Time)\": 9, \"Service Hours\": 2035.5, \"Daily Service Hours\": 407.1}, {\"Portfolio Organization Name\": \"City and County of San Francisco\", \"Month\": \"2024-04\", \"Weekday or Weekend\": \"Weekday\", \"Departure Hour (in Military Time)\": 10, \"Service Hours\": 2036.67, \"Daily Service Hours\": 407.33}, {\"Portfolio Organization Name\": \"City and County of San Francisco\", \"Month\": \"2024-04\", \"Weekday or Weekend\": \"Weekday\", \"Departure Hour (in Military Time)\": 11, \"Service Hours\": 2025.17, \"Daily Service Hours\": 405.03}, {\"Portfolio Organization Name\": \"City and County of San Francisco\", \"Month\": \"2024-04\", \"Weekday or Weekend\": \"Weekday\", \"Departure Hour (in Military Time)\": 12, \"Service Hours\": 2040.17, \"Daily Service Hours\": 408.03}, {\"Portfolio Organization Name\": \"City and County of San Francisco\", \"Month\": \"2024-04\", \"Weekday or Weekend\": \"Weekday\", \"Departure Hour (in Military Time)\": 13, \"Service Hours\": 2071.67, \"Daily Service Hours\": 414.33}, {\"Portfolio Organization Name\": \"City and County of San Francisco\", \"Month\": \"2024-04\", \"Weekday or Weekend\": \"Weekday\", \"Departure Hour (in Military Time)\": 14, \"Service Hours\": 2128.33, \"Daily Service Hours\": 425.67}, {\"Portfolio Organization Name\": \"City and County of San Francisco\", \"Month\": \"2024-04\", \"Weekday or Weekend\": \"Weekday\", \"Departure Hour (in Military Time)\": 15, \"Service Hours\": 2271.83, \"Daily Service Hours\": 454.37}, {\"Portfolio Organization Name\": \"City and County of San Francisco\", \"Month\": \"2024-04\", \"Weekday or Weekend\": \"Weekday\", \"Departure Hour (in Military Time)\": 16, \"Service Hours\": 2199.25, \"Daily Service Hours\": 439.85}, {\"Portfolio Organization Name\": \"City and County of San Francisco\", \"Month\": \"2024-04\", \"Weekday or Weekend\": \"Weekday\", \"Departure Hour (in Military Time)\": 17, \"Service Hours\": 2143.12, \"Daily Service Hours\": 428.62}, {\"Portfolio Organization Name\": \"City and County of San Francisco\", \"Month\": \"2024-04\", \"Weekday or Weekend\": \"Weekday\", \"Departure Hour (in Military Time)\": 18, \"Service Hours\": 1867.79, \"Daily Service Hours\": 373.56}, {\"Portfolio Organization Name\": \"City and County of San Francisco\", \"Month\": \"2024-04\", \"Weekday or Weekend\": \"Weekday\", \"Departure Hour (in Military Time)\": 19, \"Service Hours\": 1505.08, \"Daily Service Hours\": 301.02}, {\"Portfolio Organization Name\": \"City and County of San Francisco\", \"Month\": \"2024-04\", \"Weekday or Weekend\": \"Weekday\", \"Departure Hour (in Military Time)\": 20, \"Service Hours\": 1274.91, \"Daily Service Hours\": 254.98}, {\"Portfolio Organization Name\": \"City and County of San Francisco\", \"Month\": \"2024-04\", \"Weekday or Weekend\": \"Weekday\", \"Departure Hour (in Military Time)\": 21, \"Service Hours\": 1064.16, \"Daily Service Hours\": 212.83}, {\"Portfolio Organization Name\": \"City and County of San Francisco\", \"Month\": \"2024-04\", \"Weekday or Weekend\": \"Weekday\", \"Departure Hour (in Military Time)\": 22, \"Service Hours\": 730.75, \"Daily Service Hours\": 146.15}, {\"Portfolio Organization Name\": \"City and County of San Francisco\", \"Month\": \"2024-04\", \"Weekday or Weekend\": \"Weekday\", \"Departure Hour (in Military Time)\": 23, \"Service Hours\": 568.47, \"Daily Service Hours\": 113.69}, {\"Portfolio Organization Name\": \"City and County of San Francisco\", \"Month\": \"2023-10\", \"Weekday or Weekend\": \"Weekday\", \"Departure Hour (in Military Time)\": 0, \"Service Hours\": 189.52, \"Daily Service Hours\": 37.9}, {\"Portfolio Organization Name\": \"City and County of San Francisco\", \"Month\": \"2023-10\", \"Weekday or Weekend\": \"Weekday\", \"Departure Hour (in Military Time)\": 1, \"Service Hours\": 105.08, \"Daily Service Hours\": 21.02}, {\"Portfolio Organization Name\": \"City and County of San Francisco\", \"Month\": \"2023-10\", \"Weekday or Weekend\": \"Weekday\", \"Departure Hour (in Military Time)\": 2, \"Service Hours\": 103.7, \"Daily Service Hours\": 20.74}, {\"Portfolio Organization Name\": \"City and County of San Francisco\", \"Month\": \"2023-10\", \"Weekday or Weekend\": \"Weekday\", \"Departure Hour (in Military Time)\": 3, \"Service Hours\": 103.7, \"Daily Service Hours\": 20.74}, {\"Portfolio Organization Name\": \"City and County of San Francisco\", \"Month\": \"2023-10\", \"Weekday or Weekend\": \"Weekday\", \"Departure Hour (in Military Time)\": 4, \"Service Hours\": 136.06, \"Daily Service Hours\": 27.21}, {\"Portfolio Organization Name\": \"City and County of San Francisco\", \"Month\": \"2023-10\", \"Weekday or Weekend\": \"Weekday\", \"Departure Hour (in Military Time)\": 5, \"Service Hours\": 515.16, \"Daily Service Hours\": 103.03}, {\"Portfolio Organization Name\": \"City and County of San Francisco\", \"Month\": \"2023-10\", \"Weekday or Weekend\": \"Weekday\", \"Departure Hour (in Military Time)\": 6, \"Service Hours\": 768.19, \"Daily Service Hours\": 153.64}, {\"Portfolio Organization Name\": \"City and County of San Francisco\", \"Month\": \"2023-10\", \"Weekday or Weekend\": \"Weekday\", \"Departure Hour (in Military Time)\": 7, \"Service Hours\": 1051.73, \"Daily Service Hours\": 210.35}, {\"Portfolio Organization Name\": \"City and County of San Francisco\", \"Month\": \"2023-10\", \"Weekday or Weekend\": \"Weekday\", \"Departure Hour (in Military Time)\": 8, \"Service Hours\": 1149.44, \"Daily Service Hours\": 229.89}, {\"Portfolio Organization Name\": \"City and County of San Francisco\", \"Month\": \"2023-10\", \"Weekday or Weekend\": \"Weekday\", \"Departure Hour (in Military Time)\": 9, \"Service Hours\": 1153.93, \"Daily Service Hours\": 230.79}, {\"Portfolio Organization Name\": \"City and County of San Francisco\", \"Month\": \"2023-10\", \"Weekday or Weekend\": \"Weekday\", \"Departure Hour (in Military Time)\": 10, \"Service Hours\": 1171.27, \"Daily Service Hours\": 234.25}, {\"Portfolio Organization Name\": \"City and County of San Francisco\", \"Month\": \"2023-10\", \"Weekday or Weekend\": \"Weekday\", \"Departure Hour (in Military Time)\": 11, \"Service Hours\": 1159.36, \"Daily Service Hours\": 231.87}, {\"Portfolio Organization Name\": \"City and County of San Francisco\", \"Month\": \"2023-10\", \"Weekday or Weekend\": \"Weekday\", \"Departure Hour (in Military Time)\": 12, \"Service Hours\": 1182.94, \"Daily Service Hours\": 236.59}, {\"Portfolio Organization Name\": \"City and County of San Francisco\", \"Month\": \"2023-10\", \"Weekday or Weekend\": \"Weekday\", \"Departure Hour (in Military Time)\": 13, \"Service Hours\": 1192.28, \"Daily Service Hours\": 238.46}, {\"Portfolio Organization Name\": \"City and County of San Francisco\", \"Month\": \"2023-10\", \"Weekday or Weekend\": \"Weekday\", \"Departure Hour (in Military Time)\": 14, \"Service Hours\": 1195.38, \"Daily Service Hours\": 239.08}, {\"Portfolio Organization Name\": \"City and County of San Francisco\", \"Month\": \"2023-10\", \"Weekday or Weekend\": \"Weekday\", \"Departure Hour (in Military Time)\": 15, \"Service Hours\": 1217.9, \"Daily Service Hours\": 243.58}, {\"Portfolio Organization Name\": \"City and County of San Francisco\", \"Month\": \"2023-10\", \"Weekday or Weekend\": \"Weekday\", \"Departure Hour (in Military Time)\": 16, \"Service Hours\": 1240.31, \"Daily Service Hours\": 248.06}, {\"Portfolio Organization Name\": \"City and County of San Francisco\", \"Month\": \"2023-10\", \"Weekday or Weekend\": \"Weekday\", \"Departure Hour (in Military Time)\": 17, \"Service Hours\": 1210.99, \"Daily Service Hours\": 242.2}, {\"Portfolio Organization Name\": \"City and County of San Francisco\", \"Month\": \"2023-10\", \"Weekday or Weekend\": \"Weekday\", \"Departure Hour (in Military Time)\": 18, \"Service Hours\": 1079.37, \"Daily Service Hours\": 215.87}, {\"Portfolio Organization Name\": \"City and County of San Francisco\", \"Month\": \"2023-10\", \"Weekday or Weekend\": \"Weekday\", \"Departure Hour (in Military Time)\": 19, \"Service Hours\": 876.57, \"Daily Service Hours\": 175.31}, {\"Portfolio Organization Name\": \"City and County of San Francisco\", \"Month\": \"2023-10\", \"Weekday or Weekend\": \"Weekday\", \"Departure Hour (in Military Time)\": 20, \"Service Hours\": 744.66, \"Daily Service Hours\": 148.93}, {\"Portfolio Organization Name\": \"City and County of San Francisco\", \"Month\": \"2023-10\", \"Weekday or Weekend\": \"Weekday\", \"Departure Hour (in Military Time)\": 21, \"Service Hours\": 631.24, \"Daily Service Hours\": 126.25}, {\"Portfolio Organization Name\": \"City and County of San Francisco\", \"Month\": \"2023-10\", \"Weekday or Weekend\": \"Weekday\", \"Departure Hour (in Military Time)\": 22, \"Service Hours\": 422.68, \"Daily Service Hours\": 84.54}, {\"Portfolio Organization Name\": \"City and County of San Francisco\", \"Month\": \"2023-10\", \"Weekday or Weekend\": \"Weekday\", \"Departure Hour (in Military Time)\": 23, \"Service Hours\": 334.48, \"Daily Service Hours\": 66.9}, {\"Portfolio Organization Name\": \"City and County of San Francisco\", \"Month\": \"2023-04\", \"Weekday or Weekend\": \"Weekday\", \"Departure Hour (in Military Time)\": 0, \"Service Hours\": 316.92, \"Daily Service Hours\": 63.38}, {\"Portfolio Organization Name\": \"City and County of San Francisco\", \"Month\": \"2023-04\", \"Weekday or Weekend\": \"Weekday\", \"Departure Hour (in Military Time)\": 1, \"Service Hours\": 177.58, \"Daily Service Hours\": 35.52}, {\"Portfolio Organization Name\": \"City and County of San Francisco\", \"Month\": \"2023-04\", \"Weekday or Weekend\": \"Weekday\", \"Departure Hour (in Military Time)\": 2, \"Service Hours\": 174.83, \"Daily Service Hours\": 34.97}, {\"Portfolio Organization Name\": \"City and County of San Francisco\", \"Month\": \"2023-04\", \"Weekday or Weekend\": \"Weekday\", \"Departure Hour (in Military Time)\": 3, \"Service Hours\": 174.83, \"Daily Service Hours\": 34.97}, {\"Portfolio Organization Name\": \"City and County of San Francisco\", \"Month\": \"2023-04\", \"Weekday or Weekend\": \"Weekday\", \"Departure Hour (in Military Time)\": 4, \"Service Hours\": 232.65, \"Daily Service Hours\": 46.53}, {\"Portfolio Organization Name\": \"City and County of San Francisco\", \"Month\": \"2023-04\", \"Weekday or Weekend\": \"Weekday\", \"Departure Hour (in Military Time)\": 5, \"Service Hours\": 904.31, \"Daily Service Hours\": 180.86}, {\"Portfolio Organization Name\": \"City and County of San Francisco\", \"Month\": \"2023-04\", \"Weekday or Weekend\": \"Weekday\", \"Departure Hour (in Military Time)\": 6, \"Service Hours\": 1410.08, \"Daily Service Hours\": 282.02}, {\"Portfolio Organization Name\": \"City and County of San Francisco\", \"Month\": \"2023-04\", \"Weekday or Weekend\": \"Weekday\", \"Departure Hour (in Military Time)\": 7, \"Service Hours\": 1906.42, \"Daily Service Hours\": 381.28}, {\"Portfolio Organization Name\": \"City and County of San Francisco\", \"Month\": \"2023-04\", \"Weekday or Weekend\": \"Weekday\", \"Departure Hour (in Military Time)\": 8, \"Service Hours\": 2063.58, \"Daily Service Hours\": 412.72}, {\"Portfolio Organization Name\": \"City and County of San Francisco\", \"Month\": \"2023-04\", \"Weekday or Weekend\": \"Weekday\", \"Departure Hour (in Military Time)\": 9, \"Service Hours\": 2031.92, \"Daily Service Hours\": 406.38}, {\"Portfolio Organization Name\": \"City and County of San Francisco\", \"Month\": \"2023-04\", \"Weekday or Weekend\": \"Weekday\", \"Departure Hour (in Military Time)\": 10, \"Service Hours\": 2024.42, \"Daily Service Hours\": 404.88}, {\"Portfolio Organization Name\": \"City and County of San Francisco\", \"Month\": \"2023-04\", \"Weekday or Weekend\": \"Weekday\", \"Departure Hour (in Military Time)\": 11, \"Service Hours\": 1967.08, \"Daily Service Hours\": 393.42}, {\"Portfolio Organization Name\": \"City and County of San Francisco\", \"Month\": \"2023-04\", \"Weekday or Weekend\": \"Weekday\", \"Departure Hour (in Military Time)\": 12, \"Service Hours\": 2020.67, \"Daily Service Hours\": 404.13}, {\"Portfolio Organization Name\": \"City and County of San Francisco\", \"Month\": \"2023-04\", \"Weekday or Weekend\": \"Weekday\", \"Departure Hour (in Military Time)\": 13, \"Service Hours\": 2007.08, \"Daily Service Hours\": 401.42}, {\"Portfolio Organization Name\": \"City and County of San Francisco\", \"Month\": \"2023-04\", \"Weekday or Weekend\": \"Weekday\", \"Departure Hour (in Military Time)\": 14, \"Service Hours\": 2034.17, \"Daily Service Hours\": 406.83}, {\"Portfolio Organization Name\": \"City and County of San Francisco\", \"Month\": \"2023-04\", \"Weekday or Weekend\": \"Weekday\", \"Departure Hour (in Military Time)\": 15, \"Service Hours\": 2081.25, \"Daily Service Hours\": 416.25}, {\"Portfolio Organization Name\": \"City and County of San Francisco\", \"Month\": \"2023-04\", \"Weekday or Weekend\": \"Weekday\", \"Departure Hour (in Military Time)\": 16, \"Service Hours\": 2137.58, \"Daily Service Hours\": 427.52}, {\"Portfolio Organization Name\": \"City and County of San Francisco\", \"Month\": \"2023-04\", \"Weekday or Weekend\": \"Weekday\", \"Departure Hour (in Military Time)\": 17, \"Service Hours\": 2146.17, \"Daily Service Hours\": 429.23}, {\"Portfolio Organization Name\": \"City and County of San Francisco\", \"Month\": \"2023-04\", \"Weekday or Weekend\": \"Weekday\", \"Departure Hour (in Military Time)\": 18, \"Service Hours\": 1890.5, \"Daily Service Hours\": 378.1}, {\"Portfolio Organization Name\": \"City and County of San Francisco\", \"Month\": \"2023-04\", \"Weekday or Weekend\": \"Weekday\", \"Departure Hour (in Military Time)\": 19, \"Service Hours\": 1531.5, \"Daily Service Hours\": 306.3}, {\"Portfolio Organization Name\": \"City and County of San Francisco\", \"Month\": \"2023-04\", \"Weekday or Weekend\": \"Weekday\", \"Departure Hour (in Military Time)\": 20, \"Service Hours\": 1281.83, \"Daily Service Hours\": 256.37}, {\"Portfolio Organization Name\": \"City and County of San Francisco\", \"Month\": \"2023-04\", \"Weekday or Weekend\": \"Weekday\", \"Departure Hour (in Military Time)\": 21, \"Service Hours\": 1070.5, \"Daily Service Hours\": 214.1}, {\"Portfolio Organization Name\": \"City and County of San Francisco\", \"Month\": \"2023-04\", \"Weekday or Weekend\": \"Weekday\", \"Departure Hour (in Military Time)\": 22, \"Service Hours\": 725.0, \"Daily Service Hours\": 145.0}, {\"Portfolio Organization Name\": \"City and County of San Francisco\", \"Month\": \"2023-04\", \"Weekday or Weekend\": \"Weekday\", \"Departure Hour (in Military Time)\": 23, \"Service Hours\": 571.5, \"Daily Service Hours\": 114.3}], \"data-ed3e58c91c1826c4bca955698f66e78a\": [{\"index\": 0, \"start\": 0, \"stop\": 3.99, \"Time Period\": \"Owl:12-3:59AM\"}, {\"index\": 1, \"start\": 4, \"stop\": 6.99, \"Time Period\": \"Early AM:4-6:59AM\"}, {\"index\": 2, \"start\": 7, \"stop\": 9.99, \"Time Period\": \"AM Peak:7-9:59AM\"}, {\"index\": 3, \"start\": 10, \"stop\": 14.99, \"Time Period\": \"Midday:10AM-2:59PM\"}, {\"index\": 4, \"start\": 15, \"stop\": 18.99, \"Time Period\": \"PM Peak:3-7:59PM\"}, {\"index\": 5, \"start\": 19, \"stop\": 24.0, \"Time Period\": \"Evening:8-11:59PM\"}]}}, {\"mode\": \"vega-lite\"});\n",
       "</script>"
      ],
      "text/plain": [
       "alt.LayerChart(...)"
      ]
     },
     "execution_count": 17,
     "metadata": {},
     "output_type": "execute_result"
    }
   ],
   "source": [
    "scheduled_service_hours(\n",
    "    service_hours_df,\n",
    "    \"Weekday\",\n",
    "    readable_dict.weekday_scheduled_service_graph\n",
    ")"
   ]
  },
  {
   "cell_type": "code",
   "execution_count": null,
   "id": "26b8cde6-bde6-437a-92ed-a38c24f307b8",
   "metadata": {
    "tags": []
   },
   "outputs": [],
   "source": [
    "scheduled_service_hours(\n",
    "    service_hours_df,\n",
    "    \"Sunday\",\n",
    "    readable_dict.weekday_scheduled_service_graph\n",
    ")"
   ]
  }
 ],
 "metadata": {
  "kernelspec": {
   "display_name": "Python 3 (ipykernel)",
   "language": "python",
   "name": "python3"
  },
  "language_info": {
   "codemirror_mode": {
    "name": "ipython",
    "version": 3
   },
   "file_extension": ".py",
   "mimetype": "text/x-python",
   "name": "python",
   "nbconvert_exporter": "python",
   "pygments_lexer": "ipython3",
   "version": "3.11.10"
  }
 },
 "nbformat": 4,
 "nbformat_minor": 5
}
