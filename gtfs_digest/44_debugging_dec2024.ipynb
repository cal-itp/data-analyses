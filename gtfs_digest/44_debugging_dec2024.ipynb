{
 "cells": [
  {
   "cell_type": "markdown",
   "id": "6bc3cbe5-9ce7-4975-8ad9-11a49eece97d",
   "metadata": {},
   "source": [
    "## Something is wrong with GTFS Digest\n",
    "* Makefile in `gtfs_digest` won't run since the function changed. \n",
    "    * Go to `rt_segment_speeds` -> `segment_speed_utils` -> `time_series_utils` and temporarily change back to the old function.\n"
   ]
  },
  {
   "cell_type": "code",
   "execution_count": null,
   "id": "ac7ce931-86fe-418c-95d7-5d2f85000bee",
   "metadata": {},
   "outputs": [],
   "source": [
    "import _section2_utils as section2\n",
    "import geopandas as gpd\n",
    "import merge_operator_data\n",
    "import merge_data\n",
    "import numpy as np\n",
    "import pandas as pd\n",
    "from segment_speed_utils import gtfs_schedule_wrangling, helpers, time_series_utils\n",
    "from shared_utils import catalog_utils, rt_dates, rt_utils\n",
    "from update_vars import GTFS_DATA_DICT, RT_SCHED_GCS, SCHED_GCS"
   ]
  },
  {
   "cell_type": "code",
   "execution_count": null,
   "id": "27d67993-3143-4a78-acbc-d36078569db8",
   "metadata": {},
   "outputs": [],
   "source": [
    "pd.options.display.max_columns = 100\n",
    "pd.options.display.float_format = \"{:.2f}\".format\n",
    "pd.set_option(\"display.max_rows\", None)\n",
    "pd.set_option(\"display.max_colwidth\", None)"
   ]
  },
  {
   "cell_type": "code",
   "execution_count": null,
   "id": "d91ded3e-4959-43d4-b90e-45df7ac60883",
   "metadata": {},
   "outputs": [],
   "source": [
    "analysis_date_list = rt_dates.y2024_dates + rt_dates.y2023_dates"
   ]
  },
  {
   "cell_type": "markdown",
   "id": "8154301a-e454-41b8-af51-6f61fb420843",
   "metadata": {},
   "source": [
    "### Metrics for All Routes\n",
    "* March 2023 has two values for some operators.\n",
    "* Some operators have many rows that are repeating, causing their charts to go above 100. "
   ]
  },
  {
   "cell_type": "markdown",
   "id": "ba30a005-66c9-4eb3-9e3e-8bfe3ce1c297",
   "metadata": {},
   "source": [
    "#### Look at the metrics dataframes first.\n",
    "* I think `op_rt_sched_metrics` is the reason why there are duplicative values.\n",
    "* Temp fix: in `section2_utils.load_operator_metrics()` drop duplicates based on `service_date`."
   ]
  },
  {
   "cell_type": "code",
   "execution_count": null,
   "id": "4a79db03-a8f4-4fd9-bcb7-d4dbd8c8befa",
   "metadata": {},
   "outputs": [],
   "source": [
    "op_sched_metrics = merge_operator_data.concatenate_schedule_operator_metrics(analysis_date_list)"
   ]
  },
  {
   "cell_type": "code",
   "execution_count": null,
   "id": "619c554f-32d4-4d79-b0f6-e788370a85de",
   "metadata": {},
   "outputs": [],
   "source": [
    "op_sched_metrics_dec = op_sched_metrics.loc[op_sched_metrics.service_date ==\n",
    "                                                     '2024-12-11T00:00:00.000000000']"
   ]
  },
  {
   "cell_type": "code",
   "execution_count": null,
   "id": "7968c4ab-b0a9-44ab-9332-f2cd59e6d733",
   "metadata": {},
   "outputs": [],
   "source": [
    "op_sched_metrics_dec.schedule_gtfs_dataset_key.value_counts().head(10)"
   ]
  },
  {
   "cell_type": "code",
   "execution_count": null,
   "id": "4321e393-990c-42cc-af36-ba92de71c80e",
   "metadata": {},
   "outputs": [],
   "source": [
    "op_rt_sched_metrics = merge_operator_data.concatenate_rt_vs_schedule_operator_metrics(analysis_date_list)"
   ]
  },
  {
   "cell_type": "code",
   "execution_count": null,
   "id": "5a2cea75-a1e5-422b-8cf0-669c88a42b60",
   "metadata": {},
   "outputs": [],
   "source": [
    "op_rt_sched_metrics_dec = op_rt_sched_metrics.loc[op_rt_sched_metrics.service_date ==\n",
    "                                                     '2024-12-11T00:00:00.000000000']"
   ]
  },
  {
   "cell_type": "code",
   "execution_count": null,
   "id": "208f3c21-0b46-4216-a2e6-95fc1c7e37cd",
   "metadata": {},
   "outputs": [],
   "source": [
    "op_rt_sched_metrics_dec.organization_name.value_counts().head(15)"
   ]
  },
  {
   "cell_type": "markdown",
   "id": "697a0b0c-20ee-417c-95bd-abd53d356295",
   "metadata": {},
   "source": [
    "* There is the rail versus the bus schedule."
   ]
  },
  {
   "cell_type": "code",
   "execution_count": null,
   "id": "5f0f0033-1702-4677-9d3b-1df79fdeff24",
   "metadata": {},
   "outputs": [],
   "source": [
    "op_rt_sched_metrics_dec.loc[\n",
    "    op_rt_sched_metrics_dec.organization_name\n",
    "    == \"Los Angeles County Metropolitan Transportation Authority\"\n",
    "].T"
   ]
  },
  {
   "cell_type": "markdown",
   "id": "7ce9ee27-a434-4e94-ad3a-3503234291e1",
   "metadata": {},
   "source": [
    "#### How do you know which one is correct?"
   ]
  },
  {
   "cell_type": "code",
   "execution_count": null,
   "id": "46a4a34c-9e56-4305-ae0c-685a799a3b64",
   "metadata": {},
   "outputs": [],
   "source": [
    "op_rt_sched_metrics_dec.loc[\n",
    "    op_rt_sched_metrics_dec.organization_name\n",
    "    == \"Transit Joint Powers Authority for Merced County\"\n",
    "].T"
   ]
  },
  {
   "cell_type": "code",
   "execution_count": null,
   "id": "a866f8ee-0150-40ad-99d4-b114041dd9b5",
   "metadata": {},
   "outputs": [],
   "source": [
    "op_rt_sched_metrics_dec.loc[\n",
    "    op_rt_sched_metrics_dec.organization_name\n",
    "    == \"City of Santa Monica\"\n",
    "].T"
   ]
  },
  {
   "cell_type": "code",
   "execution_count": null,
   "id": "15db8be8-f949-4a6a-b298-62a2b162d1eb",
   "metadata": {},
   "outputs": [],
   "source": [
    "op_rt_sched_metrics_dec.loc[\n",
    "    op_rt_sched_metrics_dec.organization_name\n",
    "    == \"Tahoe Transportation District\"\n",
    "].T"
   ]
  },
  {
   "cell_type": "code",
   "execution_count": null,
   "id": "f0627b80-ac4c-4407-bad3-12f94a0dac50",
   "metadata": {},
   "outputs": [],
   "source": [
    "op_rt_sched_metrics_dec.loc[\n",
    "    op_rt_sched_metrics_dec.organization_name\n",
    "    == \"City of Lawndale\"\n",
    "].T"
   ]
  },
  {
   "cell_type": "markdown",
   "id": "3b45cc80-ac39-4d1c-ae8c-9132c6ec7619",
   "metadata": {},
   "source": [
    "#### Dataframe from `merge_operator_data.concatenate_rt_vs_schedule_operator_metrics` is created [here at `gtfs_funnel/operator_scheduled_stats.py`](https://github.com/cal-itp/data-analyses/blob/1ba0f544a01f99966a6e210dd11666b4fe4a146e/gtfs_funnel/operator_scheduled_stats.py#L147)\n",
    "* The data is grouped by `gtfs_schedule_dataset_key` and an `organization_name` can have multiple, which is why some organizations have multiple entries."
   ]
  },
  {
   "cell_type": "markdown",
   "id": "704e7d04-1dd8-4ab2-8b59-588649ca9905",
   "metadata": {},
   "source": [
    "#### Other attempts to look at Operator Profiles"
   ]
  },
  {
   "cell_type": "code",
   "execution_count": null,
   "id": "fba829d7-7dad-4ba8-8f58-a55a290b71fb",
   "metadata": {},
   "outputs": [],
   "source": [
    "url = \"gs://calitp-analytics-data/data-analyses/rt_vs_schedule/digest/operator_profiles.parquet\"\n",
    "operator_profile_df = pd.read_parquet(url)"
   ]
  },
  {
   "cell_type": "code",
   "execution_count": null,
   "id": "4ae95240-58a7-4e6e-957d-a30400216452",
   "metadata": {},
   "outputs": [],
   "source": [
    "operator_profile_df.service_date.unique()"
   ]
  },
  {
   "cell_type": "code",
   "execution_count": null,
   "id": "3bee1206-44f4-4304-b6c2-d248a397ec86",
   "metadata": {},
   "outputs": [],
   "source": [
    "march_2023 = operator_profile_df.loc[\n",
    "    operator_profile_df.service_date == \"2023-03-15T00:00:00.000000000\"\n",
    "]"
   ]
  },
  {
   "cell_type": "code",
   "execution_count": null,
   "id": "4bc3a0ce-f864-48b2-8abe-22cfef2c77a5",
   "metadata": {},
   "outputs": [],
   "source": [
    "dec_2024 = operator_profile_df.loc[\n",
    "    operator_profile_df.service_date == \"2024-12-11T00:00:00.000000000\"\n",
    "]"
   ]
  },
  {
   "cell_type": "code",
   "execution_count": null,
   "id": "142a2233-a259-4a2e-8d18-5e14ecb1bf1d",
   "metadata": {},
   "outputs": [],
   "source": [
    "march_2023.organization_name.value_counts().head(12)"
   ]
  },
  {
   "cell_type": "code",
   "execution_count": null,
   "id": "e533058a-e30b-469d-a4b4-dd9487c476c9",
   "metadata": {},
   "outputs": [],
   "source": [
    "dec_2024.organization_name.value_counts().head(12)"
   ]
  },
  {
   "cell_type": "markdown",
   "id": "a4406245-e9a1-4a7b-9996-30aafca141ea",
   "metadata": {},
   "source": [
    "#### How does Los Angeles County Metropolitan Transportation Authority have two different values?"
   ]
  },
  {
   "cell_type": "code",
   "execution_count": null,
   "id": "0afa87ac-4a45-455e-8c4d-05514bf8f0b4",
   "metadata": {},
   "outputs": [],
   "source": [
    "dec_2024.loc[\n",
    "    dec_2024.organization_name\n",
    "    == \"Basin Transit\"\n",
    "].T"
   ]
  },
  {
   "cell_type": "code",
   "execution_count": null,
   "id": "482c959c-1abe-4d24-ad75-ee2e26fe3a72",
   "metadata": {},
   "outputs": [],
   "source": [
    "dec_2024.loc[\n",
    "    dec_2024.organization_name\n",
    "    == \"Los Angeles County Metropolitan Transportation Authority\"\n",
    "]"
   ]
  },
  {
   "cell_type": "code",
   "execution_count": null,
   "id": "061d47a6-ffd8-4d39-8848-db4588b4004d",
   "metadata": {},
   "outputs": [],
   "source": [
    "dec_2024.loc[\n",
    "    dec_2024.organization_name == \"Transit Joint Powers Authority for Merced County\"\n",
    "]"
   ]
  },
  {
   "cell_type": "code",
   "execution_count": null,
   "id": "d60d6540-7290-4540-93a2-925b98fcf101",
   "metadata": {},
   "outputs": [],
   "source": [
    "dec_2024.loc[dec_2024.organization_name == \"City of Lawndale\"]"
   ]
  },
  {
   "cell_type": "code",
   "execution_count": null,
   "id": "ceb37389-7ad9-4968-9f18-5f24183f07f6",
   "metadata": {},
   "outputs": [],
   "source": [
    "dec_2024.loc[dec_2024.organization_name == \"Palo Verde Valley Transit Agency\"]"
   ]
  },
  {
   "cell_type": "code",
   "execution_count": null,
   "id": "b4804ece-08c0-4e6b-8b6b-62216d6abffd",
   "metadata": {},
   "outputs": [],
   "source": [
    "dec_2024.loc[dec_2024.organization_name == \"City of San Luis Obispo\"]"
   ]
  },
  {
   "cell_type": "code",
   "execution_count": null,
   "id": "2949c9b9-154b-44b1-a4bd-88f41ea192b4",
   "metadata": {},
   "outputs": [],
   "source": [
    "crosswalk_df = merge_operator_data.concatenate_crosswalks(analysis_date_list)"
   ]
  },
  {
   "cell_type": "code",
   "execution_count": null,
   "id": "96da557f-a1d4-4c14-a67e-03b45466daa1",
   "metadata": {},
   "outputs": [],
   "source": [
    "crosswalk_df.head(1)"
   ]
  },
  {
   "cell_type": "code",
   "execution_count": null,
   "id": "367adf95-face-4c66-bec7-7cb8fd8eaaa9",
   "metadata": {},
   "outputs": [],
   "source": [
    "march_crosswalk_df = crosswalk_df.loc[]"
   ]
  },
  {
   "cell_type": "markdown",
   "id": "ea7bc262-afa1-4193-8580-831587a78c0b",
   "metadata": {},
   "source": [
    "### Op Profiles\n",
    "* The code for `gtfs_digest/merge_operator.py` stopped working because one of the column names changed. I went into `crosswalk_gtfs_dataset_key_to_organization` to fix that. \n",
    "* <s>Operator Profiles: are from September 2024 when it's Dec 2024.</s>\n",
    "    * Fixed: was still referencing one of my old testing profiles."
   ]
  },
  {
   "cell_type": "code",
   "execution_count": null,
   "id": "cf9b7d10-625b-4c76-bca9-8116aa77c93a",
   "metadata": {},
   "outputs": [],
   "source": [
    "SCHED_GCS"
   ]
  },
  {
   "cell_type": "code",
   "execution_count": null,
   "id": "0cdda265-423c-430e-8685-04dc7cb356cd",
   "metadata": {},
   "outputs": [],
   "source": [
    "f\"{GTFS_DATA_DICT.schedule_tables.gtfs_key_crosswalk}\""
   ]
  },
  {
   "cell_type": "code",
   "execution_count": null,
   "id": "3a880fdb-2730-4978-ad7d-e557698d8e70",
   "metadata": {},
   "outputs": [],
   "source": [
    "dec_crosswalk_url = \"gs://calitp-analytics-data/data-analyses/gtfs_schedule/crosswalk/gtfs_key_organization_2024-12-11.parquet\""
   ]
  },
  {
   "cell_type": "code",
   "execution_count": null,
   "id": "b843e240-07ee-4f1a-b29a-3f97e9be8b0e",
   "metadata": {},
   "outputs": [],
   "source": [
    "nov_crosswalk_url = \"gs://calitp-analytics-data/data-analyses/gtfs_schedule/crosswalk/gtfs_key_organization_2024-11-13.parquet\""
   ]
  },
  {
   "cell_type": "code",
   "execution_count": null,
   "id": "2809d41a-1911-45e4-a78a-4e72e73d1f9a",
   "metadata": {},
   "outputs": [],
   "source": [
    "dec_crosswalk_df = pd.read_parquet(dec_crosswalk_url)"
   ]
  },
  {
   "cell_type": "code",
   "execution_count": null,
   "id": "0cddd845-f206-41b5-97dd-fff179a211df",
   "metadata": {},
   "outputs": [],
   "source": [
    "dec_crosswalk_df.organization_name.value_counts().head(25)"
   ]
  },
  {
   "cell_type": "code",
   "execution_count": null,
   "id": "bab1c6d1-2421-4f84-9eaa-42bf6b245611",
   "metadata": {},
   "outputs": [],
   "source": [
    "dec_crosswalk_df.loc[\n",
    "    dec_crosswalk_df.organization_name == \"City of South San Francisco\"\n",
    "]"
   ]
  },
  {
   "cell_type": "code",
   "execution_count": null,
   "id": "e18e82dd-5a87-4f49-a374-4bf48c4527ef",
   "metadata": {},
   "outputs": [],
   "source": [
    "dec_crosswalk_df.loc[\n",
    "    dec_crosswalk_df.organization_name == \"City and County of San Francisco\"\n",
    "]"
   ]
  },
  {
   "cell_type": "code",
   "execution_count": null,
   "id": "f08b5be9-d49d-44b9-8b6a-a74d10682aa7",
   "metadata": {},
   "outputs": [],
   "source": [
    "nov_crosswalk_df = pd.read_parquet(nov_crosswalk_url)"
   ]
  },
  {
   "cell_type": "code",
   "execution_count": null,
   "id": "2bca5311-669c-4d3e-bc41-d3ebc7a69c3c",
   "metadata": {},
   "outputs": [],
   "source": [
    "sept_crosswalk_df = pd.read_parquet(\n",
    "    \"gs://calitp-analytics-data/data-analyses/gtfs_schedule/crosswalk/gtfs_key_organization_2024-09-18.parquet\"\n",
    ")"
   ]
  },
  {
   "cell_type": "code",
   "execution_count": null,
   "id": "01e983f2-0929-42b8-9026-4509cf033aeb",
   "metadata": {},
   "outputs": [],
   "source": [
    "sept_cols = set(sept_crosswalk_df.columns.tolist())\n",
    "dec_cols = set(dec_crosswalk_df.columns.tolist())\n",
    "nov_cols = set(nov_crosswalk_df.columns.tolist())"
   ]
  },
  {
   "cell_type": "code",
   "execution_count": null,
   "id": "3450162d-11a9-47ac-8d55-a883f51b023a",
   "metadata": {},
   "outputs": [],
   "source": [
    "nov_cols - sept_cols"
   ]
  },
  {
   "cell_type": "code",
   "execution_count": null,
   "id": "809724b7-aea1-4862-b828-5f4a9b5ec6f6",
   "metadata": {},
   "outputs": [],
   "source": [
    "sept_cols - dec_cols"
   ]
  },
  {
   "cell_type": "code",
   "execution_count": null,
   "id": "5e59113f-4dc5-4f57-9ea5-26c09199d706",
   "metadata": {},
   "outputs": [],
   "source": [
    "dec_cols - sept_cols"
   ]
  },
  {
   "cell_type": "code",
   "execution_count": null,
   "id": "57f2bca0-1f1b-4940-875b-958783bd941f",
   "metadata": {},
   "outputs": [],
   "source": [
    "ventura_dec = dec_crosswalk_df.loc[\n",
    "    dec_crosswalk_df.organization_name == \"Ventura County Transportation Commission\"\n",
    "]"
   ]
  },
  {
   "cell_type": "code",
   "execution_count": null,
   "id": "5e651996-43f3-4c02-9631-0f8e44537961",
   "metadata": {},
   "outputs": [],
   "source": [
    "ventura_dec[[\"primary_uza_code\", \"primary_uza_name\"]].drop_duplicates()"
   ]
  },
  {
   "cell_type": "code",
   "execution_count": null,
   "id": "9de016d3-9f85-48b4-a763-5a5b89dd3ad3",
   "metadata": {},
   "outputs": [],
   "source": [
    "ventura_sept = sept_crosswalk_df.loc[\n",
    "    sept_crosswalk_df.organization_name == \"Ventura County Transportation Commission\"\n",
    "]"
   ]
  },
  {
   "cell_type": "code",
   "execution_count": null,
   "id": "4bfb30ba-cc1f-41d8-afe8-6fb4ccfc40bf",
   "metadata": {},
   "outputs": [],
   "source": [
    "ventura_sept[[\"primary_uza_code\", \"primary_uza_name\"]].drop_duplicates()"
   ]
  },
  {
   "cell_type": "code",
   "execution_count": null,
   "id": "81d75c3c-07d4-4997-9774-b7c6e86d4d7a",
   "metadata": {},
   "outputs": [],
   "source": [
    "crosswalk_df = merge_operator_data.concatenate_crosswalks(analysis_date_list)"
   ]
  },
  {
   "cell_type": "code",
   "execution_count": null,
   "id": "cb934b4e-63bc-4015-9363-84152be93c5e",
   "metadata": {},
   "outputs": [],
   "source": [
    "crosswalk_df.service_date.unique()"
   ]
  },
  {
   "cell_type": "code",
   "execution_count": null,
   "id": "813b89c6-9e26-439b-9bbd-841bd1b53e28",
   "metadata": {},
   "outputs": [],
   "source": [
    "import _section1_utils"
   ]
  },
  {
   "cell_type": "code",
   "execution_count": null,
   "id": "a34c2067-ec22-4576-8ae7-bf28d8b1f433",
   "metadata": {},
   "outputs": [],
   "source": [
    "organization_name = \"Monterey-Salinas Transit\""
   ]
  },
  {
   "cell_type": "code",
   "execution_count": null,
   "id": "2beb41b8-7ce5-4022-9aa3-8ab268ff3102",
   "metadata": {},
   "outputs": [],
   "source": [
    "ntd_profile = _section1_utils.load_operator_ntd_profile(organization_name)"
   ]
  },
  {
   "cell_type": "code",
   "execution_count": null,
   "id": "5f2a10ad-32ad-4f59-968e-5d74003f2aea",
   "metadata": {},
   "outputs": [],
   "source": [
    "ntd_profile"
   ]
  },
  {
   "cell_type": "markdown",
   "id": "6f4f063c-84b5-48d4-a9fe-d4b4b2437b85",
   "metadata": {},
   "source": [
    "### Timeliness for Dir 0 and 1 are missing since October."
   ]
  },
  {
   "cell_type": "code",
   "execution_count": null,
   "id": "b91470ac-fa05-4083-8352-f5adf73712ed",
   "metadata": {},
   "outputs": [],
   "source": [
    "schd_vp_url = f\"{GTFS_DATA_DICT.digest_tables.dir}{GTFS_DATA_DICT.digest_tables.route_schedule_vp}.parquet\""
   ]
  },
  {
   "cell_type": "code",
   "execution_count": null,
   "id": "7c847cb9-4d2e-483d-a8c2-af3be35af44c",
   "metadata": {},
   "outputs": [],
   "source": [
    "# Keep only rows that are found in both schedule and real time data\n",
    "schd_vp_df = pd.read_parquet(\n",
    "    schd_vp_url,\n",
    "    filters=[\n",
    "        [\n",
    "            (\"organization_name\", \"==\", organization_name),\n",
    "            (\"sched_rt_category\", \"==\", \"schedule_and_vp\"),\n",
    "        ]\n",
    "    ],\n",
    ")"
   ]
  },
  {
   "cell_type": "code",
   "execution_count": null,
   "id": "a5ff575d-9722-49c2-b27f-a7fa8488f9b9",
   "metadata": {},
   "outputs": [],
   "source": [
    "schd_vp_df_gtfskeys = schd_vp_df[\n",
    "    [\"schedule_gtfs_dataset_key\", \"service_date\"]\n",
    "].drop_duplicates()"
   ]
  },
  {
   "cell_type": "code",
   "execution_count": null,
   "id": "d10abab2-4994-42b6-a745-d9bf792e8e8b",
   "metadata": {},
   "outputs": [],
   "source": [
    "schd_vp_df.head(2)"
   ]
  },
  {
   "cell_type": "code",
   "execution_count": null,
   "id": "13dfc48a-6f10-4f7e-9307-686f64c8fcfc",
   "metadata": {},
   "outputs": [],
   "source": [
    "schedule_by_route = merge_data.concatenate_schedule_by_route_direction(\n",
    "    analysis_date_list\n",
    ")"
   ]
  },
  {
   "cell_type": "code",
   "execution_count": null,
   "id": "2cce00c2-a8e4-4c11-b157-f8e98b9018d3",
   "metadata": {},
   "outputs": [],
   "source": [
    "schedule_by_route_gtfskeys = schedule_by_route[\n",
    "    [\"schedule_gtfs_dataset_key\", \"service_date\"]\n",
    "].drop_duplicates()"
   ]
  },
  {
   "cell_type": "code",
   "execution_count": null,
   "id": "be70ebf2-b2f5-4070-a7ee-954952d9674a",
   "metadata": {},
   "outputs": [],
   "source": [
    "pd.merge(\n",
    "    df_avg_speeds_gtfskeys,\n",
    "    schedule_by_route_gtfskeys,\n",
    "    on=[\"schedule_gtfs_dataset_key\", \"service_date\"],\n",
    "    how=\"outer\",\n",
    "    indicator=True,\n",
    ")[[\"_merge\"]].value_counts()"
   ]
  },
  {
   "cell_type": "code",
   "execution_count": null,
   "id": "dbd0f246-4616-4da5-9c51-b53abbcc8c9a",
   "metadata": {},
   "outputs": [],
   "source": [
    "import merge_data"
   ]
  },
  {
   "cell_type": "code",
   "execution_count": null,
   "id": "40700f2b-2ccd-46e2-982b-e4306d734654",
   "metadata": {},
   "outputs": [],
   "source": [
    "from shared_utils import gtfs_utils_v2, publish_utils"
   ]
  },
  {
   "cell_type": "markdown",
   "id": "d8f6f40f-58ba-40a6-b454-d21c613025b9",
   "metadata": {},
   "source": [
    "### Average Speed Missing for Offpeak and Peak since October\n",
    "* All Day available \n",
    "* GTFS Keys missing? "
   ]
  },
  {
   "cell_type": "code",
   "execution_count": null,
   "id": "16d50718-c09a-4e4f-bab7-90c7b6ea3f16",
   "metadata": {},
   "outputs": [],
   "source": [
    "df_avg_speeds = merge_data.concatenate_speeds_by_route_direction(analysis_date_list)"
   ]
  },
  {
   "cell_type": "code",
   "execution_count": null,
   "id": "9cff0c4b-50bf-4e5f-8ad5-8eab93b6431a",
   "metadata": {},
   "outputs": [],
   "source": [
    "df_avg_speeds.service_date.unique()"
   ]
  },
  {
   "cell_type": "code",
   "execution_count": null,
   "id": "9268e7bd-5f99-46de-975b-327fe7e72c9b",
   "metadata": {},
   "outputs": [],
   "source": [
    "df_avg_speeds.head()"
   ]
  },
  {
   "cell_type": "code",
   "execution_count": null,
   "id": "670ec966-66d9-4405-9887-03cec3340e45",
   "metadata": {},
   "outputs": [],
   "source": [
    "df_avg_speeds_gtfskeys = df_avg_speeds[\n",
    "    [\"schedule_gtfs_dataset_key\", \"service_date\"]\n",
    "].drop_duplicates()"
   ]
  },
  {
   "cell_type": "code",
   "execution_count": null,
   "id": "6187a364-c90c-462c-b1cd-e3171a5651f4",
   "metadata": {},
   "outputs": [],
   "source": [
    "pd.merge(\n",
    "    df_avg_speeds_gtfskeys,\n",
    "    schd_vp_df_gtfskeys,\n",
    "    on=[\"schedule_gtfs_dataset_key\", \"service_date\"],\n",
    "    how=\"outer\",\n",
    "    indicator=True,\n",
    ")[[\"_merge\"]].value_counts()"
   ]
  }
 ],
 "metadata": {
  "kernelspec": {
   "display_name": "Python 3 (ipykernel)",
   "language": "python",
   "name": "python3"
  },
  "language_info": {
   "codemirror_mode": {
    "name": "ipython",
    "version": 3
   },
   "file_extension": ".py",
   "mimetype": "text/x-python",
   "name": "python",
   "nbconvert_exporter": "python",
   "pygments_lexer": "ipython3",
   "version": "3.9.13"
  }
 },
 "nbformat": 4,
 "nbformat_minor": 5
}
