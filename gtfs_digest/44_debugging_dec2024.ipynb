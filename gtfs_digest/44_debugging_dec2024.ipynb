{
 "cells": [
  {
   "cell_type": "markdown",
   "id": "6bc3cbe5-9ce7-4975-8ad9-11a49eece97d",
   "metadata": {},
   "source": [
    "## Something is wrong with GTFS Digest\n",
    "* Makefile in `gtfs_digest` won't run since the function changed. \n",
    "    * Go to `rt_segment_speeds` -> `segment_speed_utils` -> `time_series_utils` and temporarily change back to the old function.\n"
   ]
  },
  {
   "cell_type": "code",
   "execution_count": 1,
   "id": "ac7ce931-86fe-418c-95d7-5d2f85000bee",
   "metadata": {},
   "outputs": [],
   "source": [
    "import geopandas as gpd\n",
    "import merge_data\n",
    "import numpy as np\n",
    "import pandas as pd\n",
    "from segment_speed_utils import gtfs_schedule_wrangling, helpers, time_series_utils\n",
    "from shared_utils import catalog_utils, rt_dates, rt_utils\n",
    "from update_vars import GTFS_DATA_DICT, RT_SCHED_GCS, SCHED_GCS"
   ]
  },
  {
   "cell_type": "code",
   "execution_count": 2,
   "id": "27d67993-3143-4a78-acbc-d36078569db8",
   "metadata": {},
   "outputs": [],
   "source": [
    "pd.options.display.max_columns = 100\n",
    "pd.options.display.float_format = \"{:.2f}\".format\n",
    "pd.set_option(\"display.max_rows\", None)\n",
    "pd.set_option(\"display.max_colwidth\", None)"
   ]
  },
  {
   "cell_type": "code",
   "execution_count": 3,
   "id": "d91ded3e-4959-43d4-b90e-45df7ac60883",
   "metadata": {},
   "outputs": [],
   "source": [
    "analysis_date_list = rt_dates.y2024_dates + rt_dates.y2023_dates"
   ]
  },
  {
   "cell_type": "markdown",
   "id": "ea7bc262-afa1-4193-8580-831587a78c0b",
   "metadata": {},
   "source": [
    "### Op Profiles\n",
    "* The code for `gtfs_digest/merge_operator.py` stopped working because one of the column names changed. I went into `gtfs_funnel/crosswalk-gtfs_dataset_key` to fix that. \n",
    "* <s>Operator Profiles: are from September 2024 when it's Dec 2024.</s>\n",
    "    * Fixed: was still referencing one of my old testing profiles."
   ]
  },
  {
   "cell_type": "code",
   "execution_count": 4,
   "id": "d513ad73-b50c-4bd6-b00b-3df0ed166c4c",
   "metadata": {},
   "outputs": [],
   "source": [
    "import merge_operator_data"
   ]
  },
  {
   "cell_type": "code",
   "execution_count": 5,
   "id": "cf9b7d10-625b-4c76-bca9-8116aa77c93a",
   "metadata": {},
   "outputs": [
    {
     "data": {
      "text/plain": [
       "'gs://calitp-analytics-data/data-analyses/gtfs_schedule/'"
      ]
     },
     "execution_count": 5,
     "metadata": {},
     "output_type": "execute_result"
    }
   ],
   "source": [
    "SCHED_GCS"
   ]
  },
  {
   "cell_type": "code",
   "execution_count": 6,
   "id": "0cdda265-423c-430e-8685-04dc7cb356cd",
   "metadata": {},
   "outputs": [
    {
     "data": {
      "text/plain": [
       "'crosswalk/gtfs_key_organization'"
      ]
     },
     "execution_count": 6,
     "metadata": {},
     "output_type": "execute_result"
    }
   ],
   "source": [
    "f\"{GTFS_DATA_DICT.schedule_tables.gtfs_key_crosswalk}\""
   ]
  },
  {
   "cell_type": "code",
   "execution_count": 7,
   "id": "3a880fdb-2730-4978-ad7d-e557698d8e70",
   "metadata": {},
   "outputs": [],
   "source": [
    "dec_crosswalk_url = \"gs://calitp-analytics-data/data-analyses/gtfs_schedule/crosswalk/gtfs_key_organization_2024-12-11.parquet\""
   ]
  },
  {
   "cell_type": "code",
   "execution_count": 8,
   "id": "b843e240-07ee-4f1a-b29a-3f97e9be8b0e",
   "metadata": {},
   "outputs": [],
   "source": [
    "nov_crosswalk_url = \"gs://calitp-analytics-data/data-analyses/gtfs_schedule/crosswalk/gtfs_key_organization_2024-11-13.parquet\""
   ]
  },
  {
   "cell_type": "code",
   "execution_count": 9,
   "id": "2809d41a-1911-45e4-a78a-4e72e73d1f9a",
   "metadata": {},
   "outputs": [],
   "source": [
    "dec_crosswalk_df = pd.read_parquet(dec_crosswalk_url)"
   ]
  },
  {
   "cell_type": "code",
   "execution_count": 10,
   "id": "f08b5be9-d49d-44b9-8b6a-a74d10682aa7",
   "metadata": {},
   "outputs": [],
   "source": [
    "nov_crosswalk_df = pd.read_parquet(nov_crosswalk_url)"
   ]
  },
  {
   "cell_type": "code",
   "execution_count": 11,
   "id": "2bca5311-669c-4d3e-bc41-d3ebc7a69c3c",
   "metadata": {},
   "outputs": [],
   "source": [
    "sept_crosswalk_df = pd.read_parquet(\n",
    "    \"gs://calitp-analytics-data/data-analyses/gtfs_schedule/crosswalk/gtfs_key_organization_2024-09-18.parquet\"\n",
    ")"
   ]
  },
  {
   "cell_type": "code",
   "execution_count": 12,
   "id": "01e983f2-0929-42b8-9026-4509cf033aeb",
   "metadata": {},
   "outputs": [],
   "source": [
    "sept_cols = set(sept_crosswalk_df.columns.tolist())\n",
    "dec_cols = set(dec_crosswalk_df.columns.tolist())\n",
    "nov_cols = set(nov_crosswalk_df.columns.tolist())"
   ]
  },
  {
   "cell_type": "code",
   "execution_count": 13,
   "id": "3450162d-11a9-47ac-8d55-a883f51b023a",
   "metadata": {},
   "outputs": [
    {
     "data": {
      "text/plain": [
       "set()"
      ]
     },
     "execution_count": 13,
     "metadata": {},
     "output_type": "execute_result"
    }
   ],
   "source": [
    "nov_cols - sept_cols"
   ]
  },
  {
   "cell_type": "code",
   "execution_count": 14,
   "id": "809724b7-aea1-4862-b828-5f4a9b5ec6f6",
   "metadata": {},
   "outputs": [
    {
     "data": {
      "text/plain": [
       "set()"
      ]
     },
     "execution_count": 14,
     "metadata": {},
     "output_type": "execute_result"
    }
   ],
   "source": [
    "sept_cols - dec_cols"
   ]
  },
  {
   "cell_type": "code",
   "execution_count": 15,
   "id": "5e59113f-4dc5-4f57-9ea5-26c09199d706",
   "metadata": {},
   "outputs": [
    {
     "data": {
      "text/plain": [
       "set()"
      ]
     },
     "execution_count": 15,
     "metadata": {},
     "output_type": "execute_result"
    }
   ],
   "source": [
    "dec_cols - sept_cols"
   ]
  },
  {
   "cell_type": "code",
   "execution_count": 16,
   "id": "57f2bca0-1f1b-4940-875b-958783bd941f",
   "metadata": {},
   "outputs": [],
   "source": [
    "ventura_dec = dec_crosswalk_df.loc[\n",
    "    dec_crosswalk_df.organization_name == \"Ventura County Transportation Commission\"\n",
    "]"
   ]
  },
  {
   "cell_type": "code",
   "execution_count": 17,
   "id": "5e651996-43f3-4c02-9631-0f8e44537961",
   "metadata": {},
   "outputs": [
    {
     "data": {
      "text/html": [
       "<div>\n",
       "<style scoped>\n",
       "    .dataframe tbody tr th:only-of-type {\n",
       "        vertical-align: middle;\n",
       "    }\n",
       "\n",
       "    .dataframe tbody tr th {\n",
       "        vertical-align: top;\n",
       "    }\n",
       "\n",
       "    .dataframe thead th {\n",
       "        text-align: right;\n",
       "    }\n",
       "</style>\n",
       "<table border=\"1\" class=\"dataframe\">\n",
       "  <thead>\n",
       "    <tr style=\"text-align: right;\">\n",
       "      <th></th>\n",
       "      <th>primary_uza_code</th>\n",
       "      <th>primary_uza_name</th>\n",
       "    </tr>\n",
       "  </thead>\n",
       "  <tbody>\n",
       "    <tr>\n",
       "      <th>1</th>\n",
       "      <td>None</td>\n",
       "      <td>Oxnard--San Buenaventura (Ventura), CA</td>\n",
       "    </tr>\n",
       "  </tbody>\n",
       "</table>\n",
       "</div>"
      ],
      "text/plain": [
       "  primary_uza_code                        primary_uza_name\n",
       "1             None  Oxnard--San Buenaventura (Ventura), CA"
      ]
     },
     "execution_count": 17,
     "metadata": {},
     "output_type": "execute_result"
    }
   ],
   "source": [
    "ventura_dec[[\"primary_uza_code\", \"primary_uza_name\"]].drop_duplicates()"
   ]
  },
  {
   "cell_type": "code",
   "execution_count": 18,
   "id": "9de016d3-9f85-48b4-a763-5a5b89dd3ad3",
   "metadata": {},
   "outputs": [],
   "source": [
    "ventura_sept = sept_crosswalk_df.loc[\n",
    "    sept_crosswalk_df.organization_name == \"Ventura County Transportation Commission\"\n",
    "]"
   ]
  },
  {
   "cell_type": "code",
   "execution_count": 20,
   "id": "4bfb30ba-cc1f-41d8-afe8-6fb4ccfc40bf",
   "metadata": {},
   "outputs": [
    {
     "data": {
      "text/html": [
       "<div>\n",
       "<style scoped>\n",
       "    .dataframe tbody tr th:only-of-type {\n",
       "        vertical-align: middle;\n",
       "    }\n",
       "\n",
       "    .dataframe tbody tr th {\n",
       "        vertical-align: top;\n",
       "    }\n",
       "\n",
       "    .dataframe thead th {\n",
       "        text-align: right;\n",
       "    }\n",
       "</style>\n",
       "<table border=\"1\" class=\"dataframe\">\n",
       "  <thead>\n",
       "    <tr style=\"text-align: right;\">\n",
       "      <th></th>\n",
       "      <th>primary_uza_code</th>\n",
       "      <th>primary_uza_name</th>\n",
       "    </tr>\n",
       "  </thead>\n",
       "  <tbody>\n",
       "    <tr>\n",
       "      <th>1</th>\n",
       "      <td>None</td>\n",
       "      <td>Oxnard--San Buenaventura (Ventura), CA</td>\n",
       "    </tr>\n",
       "  </tbody>\n",
       "</table>\n",
       "</div>"
      ],
      "text/plain": [
       "  primary_uza_code                        primary_uza_name\n",
       "1             None  Oxnard--San Buenaventura (Ventura), CA"
      ]
     },
     "execution_count": 20,
     "metadata": {},
     "output_type": "execute_result"
    }
   ],
   "source": [
    "ventura_sept[['primary_uza_code', 'primary_uza_name']].drop_duplicates()"
   ]
  },
  {
   "cell_type": "code",
   "execution_count": 21,
   "id": "81d75c3c-07d4-4997-9774-b7c6e86d4d7a",
   "metadata": {},
   "outputs": [],
   "source": [
    "crosswalk_df = merge_operator_data.concatenate_crosswalks(analysis_date_list)"
   ]
  },
  {
   "cell_type": "code",
   "execution_count": 23,
   "id": "cb934b4e-63bc-4015-9363-84152be93c5e",
   "metadata": {},
   "outputs": [
    {
     "data": {
      "text/plain": [
       "array(['2023-03-15T00:00:00.000000000', '2023-04-12T00:00:00.000000000',\n",
       "       '2023-05-17T00:00:00.000000000', '2023-06-14T00:00:00.000000000',\n",
       "       '2023-07-12T00:00:00.000000000', '2023-08-15T00:00:00.000000000',\n",
       "       '2023-09-13T00:00:00.000000000', '2023-10-11T00:00:00.000000000',\n",
       "       '2023-11-15T00:00:00.000000000', '2023-12-13T00:00:00.000000000',\n",
       "       '2024-01-17T00:00:00.000000000', '2024-02-14T00:00:00.000000000',\n",
       "       '2024-03-13T00:00:00.000000000', '2024-04-17T00:00:00.000000000',\n",
       "       '2024-05-22T00:00:00.000000000', '2024-06-12T00:00:00.000000000',\n",
       "       '2024-07-17T00:00:00.000000000', '2024-08-14T00:00:00.000000000',\n",
       "       '2024-09-18T00:00:00.000000000', '2024-10-16T00:00:00.000000000',\n",
       "       '2024-11-13T00:00:00.000000000', '2024-12-11T00:00:00.000000000'],\n",
       "      dtype='datetime64[ns]')"
      ]
     },
     "execution_count": 23,
     "metadata": {},
     "output_type": "execute_result"
    }
   ],
   "source": [
    "crosswalk_df.service_date.unique()"
   ]
  },
  {
   "cell_type": "code",
   "execution_count": 24,
   "id": "813b89c6-9e26-439b-9bbd-841bd1b53e28",
   "metadata": {},
   "outputs": [],
   "source": [
    "import _section1_utils "
   ]
  },
  {
   "cell_type": "code",
   "execution_count": 25,
   "id": "a34c2067-ec22-4576-8ae7-bf28d8b1f433",
   "metadata": {},
   "outputs": [],
   "source": [
    "organization_name = \"Monterey-Salinas Transit\""
   ]
  },
  {
   "cell_type": "code",
   "execution_count": 26,
   "id": "2beb41b8-7ce5-4022-9aa3-8ab268ff3102",
   "metadata": {},
   "outputs": [],
   "source": [
    "ntd_profile = _section1_utils.load_operator_ntd_profile(organization_name)"
   ]
  },
  {
   "cell_type": "code",
   "execution_count": 27,
   "id": "5f2a10ad-32ad-4f59-968e-5d74003f2aea",
   "metadata": {},
   "outputs": [
    {
     "data": {
      "text/html": [
       "<div>\n",
       "<style scoped>\n",
       "    .dataframe tbody tr th:only-of-type {\n",
       "        vertical-align: middle;\n",
       "    }\n",
       "\n",
       "    .dataframe tbody tr th {\n",
       "        vertical-align: top;\n",
       "    }\n",
       "\n",
       "    .dataframe thead th {\n",
       "        text-align: right;\n",
       "    }\n",
       "</style>\n",
       "<table border=\"1\" class=\"dataframe\">\n",
       "  <thead>\n",
       "    <tr style=\"text-align: right;\">\n",
       "      <th></th>\n",
       "      <th>schedule_gtfs_dataset_key</th>\n",
       "      <th>VP per Minute (All Routes)</th>\n",
       "      <th>Spatial Accuracy (All Routes)</th>\n",
       "      <th>Date</th>\n",
       "      <th># Routes</th>\n",
       "      <th># Trips</th>\n",
       "      <th># Shapes</th>\n",
       "      <th># Stops</th>\n",
       "      <th># Arrivals</th>\n",
       "      <th>Operator Service Miles</th>\n",
       "      <th>Avg Arrivals per Stop</th>\n",
       "      <th># Downtown Local Route Types</th>\n",
       "      <th># Local Route Types</th>\n",
       "      <th># Coverage Route Types</th>\n",
       "      <th># Rapid Route Types</th>\n",
       "      <th># Express Route Types</th>\n",
       "      <th># Rail Route Types</th>\n",
       "      <th>Transit Operator</th>\n",
       "      <th>Organization ID</th>\n",
       "      <th>Organization</th>\n",
       "      <th>District</th>\n",
       "      <th>counties_served</th>\n",
       "      <th>service_area_sq_miles</th>\n",
       "      <th>hq_city</th>\n",
       "      <th>service_area_pop</th>\n",
       "      <th>organization_type</th>\n",
       "      <th>primary_uza_name</th>\n",
       "      <th>reporter_type</th>\n",
       "    </tr>\n",
       "  </thead>\n",
       "  <tbody>\n",
       "    <tr>\n",
       "      <th>16</th>\n",
       "      <td>9809d3f8121513057bc5cb8de7b54ce2</td>\n",
       "      <td>1.94</td>\n",
       "      <td>89.90</td>\n",
       "      <td>2024-12-11</td>\n",
       "      <td>34.00</td>\n",
       "      <td>1036.00</td>\n",
       "      <td>70.00</td>\n",
       "      <td>919.00</td>\n",
       "      <td>23141.00</td>\n",
       "      <td>467.60</td>\n",
       "      <td>25.18</td>\n",
       "      <td>27.00</td>\n",
       "      <td>18.00</td>\n",
       "      <td>39.00</td>\n",
       "      <td>30.00</td>\n",
       "      <td>1.00</td>\n",
       "      <td>0.00</td>\n",
       "      <td>Monterey Salinas Schedule</td>\n",
       "      <td>receZJ9sEnP9vy3g0</td>\n",
       "      <td>Monterey-Salinas Transit</td>\n",
       "      <td>05 - San Luis Obispo</td>\n",
       "      <td>Monterey</td>\n",
       "      <td>159</td>\n",
       "      <td>Monterey</td>\n",
       "      <td>437325</td>\n",
       "      <td>Independent Public Agency or Authority of Transit Service</td>\n",
       "      <td>Seaside--Monterey--Pacific Grove, CA</td>\n",
       "      <td>Full Reporter</td>\n",
       "    </tr>\n",
       "  </tbody>\n",
       "</table>\n",
       "</div>"
      ],
      "text/plain": [
       "           schedule_gtfs_dataset_key  VP per Minute (All Routes)  \\\n",
       "16  9809d3f8121513057bc5cb8de7b54ce2                        1.94   \n",
       "\n",
       "    Spatial Accuracy (All Routes)       Date  # Routes  # Trips  # Shapes  \\\n",
       "16                          89.90 2024-12-11     34.00  1036.00     70.00   \n",
       "\n",
       "    # Stops  # Arrivals  Operator Service Miles  Avg Arrivals per Stop  \\\n",
       "16   919.00    23141.00                  467.60                  25.18   \n",
       "\n",
       "    # Downtown Local Route Types  # Local Route Types  # Coverage Route Types  \\\n",
       "16                         27.00                18.00                   39.00   \n",
       "\n",
       "    # Rapid Route Types  # Express Route Types  # Rail Route Types  \\\n",
       "16                30.00                   1.00                0.00   \n",
       "\n",
       "             Transit Operator    Organization ID              Organization  \\\n",
       "16  Monterey Salinas Schedule  receZJ9sEnP9vy3g0  Monterey-Salinas Transit   \n",
       "\n",
       "                District counties_served  service_area_sq_miles   hq_city  \\\n",
       "16  05 - San Luis Obispo        Monterey                    159  Monterey   \n",
       "\n",
       "    service_area_pop  \\\n",
       "16            437325   \n",
       "\n",
       "                                            organization_type  \\\n",
       "16  Independent Public Agency or Authority of Transit Service   \n",
       "\n",
       "                        primary_uza_name  reporter_type  \n",
       "16  Seaside--Monterey--Pacific Grove, CA  Full Reporter  "
      ]
     },
     "execution_count": 27,
     "metadata": {},
     "output_type": "execute_result"
    }
   ],
   "source": [
    "ntd_profile"
   ]
  },
  {
   "cell_type": "markdown",
   "id": "6f4f063c-84b5-48d4-a9fe-d4b4b2437b85",
   "metadata": {},
   "source": [
    "### Timeliness for Dir 0 and 1 are missing since October."
   ]
  },
  {
   "cell_type": "code",
   "execution_count": 32,
   "id": "b91470ac-fa05-4083-8352-f5adf73712ed",
   "metadata": {},
   "outputs": [],
   "source": [
    "schd_vp_url = f\"{GTFS_DATA_DICT.digest_tables.dir}{GTFS_DATA_DICT.digest_tables.route_schedule_vp}.parquet\""
   ]
  },
  {
   "cell_type": "code",
   "execution_count": 33,
   "id": "7c847cb9-4d2e-483d-a8c2-af3be35af44c",
   "metadata": {},
   "outputs": [],
   "source": [
    "# Keep only rows that are found in both schedule and real time data\n",
    "schd_vp_df = (pd.read_parquet(schd_vp_url, \n",
    "          filters=[[(\"organization_name\", \"==\", organization_name),\n",
    "         (\"sched_rt_category\", \"==\", \"schedule_and_vp\")]])\n",
    "         )"
   ]
  },
  {
   "cell_type": "code",
   "execution_count": 59,
   "id": "a5ff575d-9722-49c2-b27f-a7fa8488f9b9",
   "metadata": {},
   "outputs": [],
   "source": [
    "schd_vp_df_gtfskeys = schd_vp_df[[\"schedule_gtfs_dataset_key\",\"service_date\"]].drop_duplicates()"
   ]
  },
  {
   "cell_type": "code",
   "execution_count": 34,
   "id": "d10abab2-4994-42b6-a745-d9bf792e8e8b",
   "metadata": {},
   "outputs": [
    {
     "data": {
      "text/html": [
       "<div>\n",
       "<style scoped>\n",
       "    .dataframe tbody tr th:only-of-type {\n",
       "        vertical-align: middle;\n",
       "    }\n",
       "\n",
       "    .dataframe tbody tr th {\n",
       "        vertical-align: top;\n",
       "    }\n",
       "\n",
       "    .dataframe thead th {\n",
       "        text-align: right;\n",
       "    }\n",
       "</style>\n",
       "<table border=\"1\" class=\"dataframe\">\n",
       "  <thead>\n",
       "    <tr style=\"text-align: right;\">\n",
       "      <th></th>\n",
       "      <th>schedule_gtfs_dataset_key</th>\n",
       "      <th>direction_id</th>\n",
       "      <th>time_period</th>\n",
       "      <th>avg_scheduled_service_minutes</th>\n",
       "      <th>avg_stop_miles</th>\n",
       "      <th>n_scheduled_trips</th>\n",
       "      <th>frequency</th>\n",
       "      <th>is_express</th>\n",
       "      <th>is_rapid</th>\n",
       "      <th>is_rail</th>\n",
       "      <th>is_coverage</th>\n",
       "      <th>is_downtown_local</th>\n",
       "      <th>is_local</th>\n",
       "      <th>service_date</th>\n",
       "      <th>typology</th>\n",
       "      <th>minutes_atleast1_vp</th>\n",
       "      <th>minutes_atleast2_vp</th>\n",
       "      <th>total_rt_service_minutes</th>\n",
       "      <th>total_scheduled_service_minutes</th>\n",
       "      <th>total_vp</th>\n",
       "      <th>vp_in_shape</th>\n",
       "      <th>is_early</th>\n",
       "      <th>is_ontime</th>\n",
       "      <th>is_late</th>\n",
       "      <th>n_vp_trips</th>\n",
       "      <th>vp_per_minute</th>\n",
       "      <th>pct_in_shape</th>\n",
       "      <th>pct_rt_journey_atleast1_vp</th>\n",
       "      <th>pct_rt_journey_atleast2_vp</th>\n",
       "      <th>pct_sched_journey_atleast1_vp</th>\n",
       "      <th>pct_sched_journey_atleast2_vp</th>\n",
       "      <th>rt_sched_journey_ratio</th>\n",
       "      <th>avg_rt_service_minutes</th>\n",
       "      <th>schedule_source_record_id_x</th>\n",
       "      <th>sched_rt_category</th>\n",
       "      <th>speed_mph</th>\n",
       "      <th>name</th>\n",
       "      <th>route_long_name</th>\n",
       "      <th>route_short_name</th>\n",
       "      <th>route_combined_name</th>\n",
       "      <th>route_id</th>\n",
       "      <th>schedule_source_record_id_y</th>\n",
       "      <th>base64_url</th>\n",
       "      <th>organization_source_record_id</th>\n",
       "      <th>organization_name</th>\n",
       "      <th>caltrans_district</th>\n",
       "      <th>route_primary_direction</th>\n",
       "    </tr>\n",
       "  </thead>\n",
       "  <tbody>\n",
       "    <tr>\n",
       "      <th>162562</th>\n",
       "      <td>88d9aa978e4ca97e5ba1dbbc20f3fc19</td>\n",
       "      <td>0.00</td>\n",
       "      <td>all_day</td>\n",
       "      <td>22.00</td>\n",
       "      <td>0.13</td>\n",
       "      <td>12</td>\n",
       "      <td>0.50</td>\n",
       "      <td>0.00</td>\n",
       "      <td>0.00</td>\n",
       "      <td>0.00</td>\n",
       "      <td>1.00</td>\n",
       "      <td>1.00</td>\n",
       "      <td>0.00</td>\n",
       "      <td>2023-03-15</td>\n",
       "      <td>downtown_local</td>\n",
       "      <td>241</td>\n",
       "      <td>210</td>\n",
       "      <td>259.08</td>\n",
       "      <td>264.00</td>\n",
       "      <td>464</td>\n",
       "      <td>427</td>\n",
       "      <td>5</td>\n",
       "      <td>4</td>\n",
       "      <td>3</td>\n",
       "      <td>12</td>\n",
       "      <td>1.79</td>\n",
       "      <td>0.92</td>\n",
       "      <td>0.93</td>\n",
       "      <td>0.81</td>\n",
       "      <td>0.91</td>\n",
       "      <td>0.80</td>\n",
       "      <td>0.98</td>\n",
       "      <td>21.59</td>\n",
       "      <td>None</td>\n",
       "      <td>schedule_and_vp</td>\n",
       "      <td>13.38</td>\n",
       "      <td>Monterey Salinas Schedule</td>\n",
       "      <td>Monterey - PG via Asilomar</td>\n",
       "      <td>1</td>\n",
       "      <td>1 Monterey - PG via Asilomar</td>\n",
       "      <td>001</td>\n",
       "      <td>recysP9m9kjCJwHZe</td>\n",
       "      <td>aHR0cHM6Ly93d3cubXN0Lm9yZy9nb29nbGUvZ29vZ2xlX3RyYW5zaXQuemlw</td>\n",
       "      <td>receZJ9sEnP9vy3g0</td>\n",
       "      <td>Monterey-Salinas Transit</td>\n",
       "      <td>05 - San Luis Obispo</td>\n",
       "      <td>Eastbound</td>\n",
       "    </tr>\n",
       "    <tr>\n",
       "      <th>162563</th>\n",
       "      <td>88d9aa978e4ca97e5ba1dbbc20f3fc19</td>\n",
       "      <td>0.00</td>\n",
       "      <td>all_day</td>\n",
       "      <td>22.00</td>\n",
       "      <td>0.13</td>\n",
       "      <td>12</td>\n",
       "      <td>0.50</td>\n",
       "      <td>0.00</td>\n",
       "      <td>0.00</td>\n",
       "      <td>0.00</td>\n",
       "      <td>1.00</td>\n",
       "      <td>1.00</td>\n",
       "      <td>0.00</td>\n",
       "      <td>2023-03-15</td>\n",
       "      <td>downtown_local</td>\n",
       "      <td>241</td>\n",
       "      <td>210</td>\n",
       "      <td>259.08</td>\n",
       "      <td>264.00</td>\n",
       "      <td>464</td>\n",
       "      <td>427</td>\n",
       "      <td>5</td>\n",
       "      <td>4</td>\n",
       "      <td>3</td>\n",
       "      <td>12</td>\n",
       "      <td>1.79</td>\n",
       "      <td>0.92</td>\n",
       "      <td>0.93</td>\n",
       "      <td>0.81</td>\n",
       "      <td>0.91</td>\n",
       "      <td>0.80</td>\n",
       "      <td>0.98</td>\n",
       "      <td>21.59</td>\n",
       "      <td>None</td>\n",
       "      <td>schedule_and_vp</td>\n",
       "      <td>13.38</td>\n",
       "      <td>Monterey Salinas Schedule</td>\n",
       "      <td>Monterey - PG via Asilomar</td>\n",
       "      <td>1</td>\n",
       "      <td>1 Monterey - PG via Asilomar</td>\n",
       "      <td>001</td>\n",
       "      <td>recysP9m9kjCJwHZe</td>\n",
       "      <td>aHR0cHM6Ly93d3cubXN0Lm9yZy9nb29nbGUvZ29vZ2xlX3RyYW5zaXQuemlw</td>\n",
       "      <td>receZJ9sEnP9vy3g0</td>\n",
       "      <td>Monterey-Salinas Transit</td>\n",
       "      <td>05 - San Luis Obispo</td>\n",
       "      <td>Eastbound</td>\n",
       "    </tr>\n",
       "  </tbody>\n",
       "</table>\n",
       "</div>"
      ],
      "text/plain": [
       "               schedule_gtfs_dataset_key  direction_id time_period  \\\n",
       "162562  88d9aa978e4ca97e5ba1dbbc20f3fc19          0.00     all_day   \n",
       "162563  88d9aa978e4ca97e5ba1dbbc20f3fc19          0.00     all_day   \n",
       "\n",
       "        avg_scheduled_service_minutes  avg_stop_miles  n_scheduled_trips  \\\n",
       "162562                          22.00            0.13                 12   \n",
       "162563                          22.00            0.13                 12   \n",
       "\n",
       "        frequency  is_express  is_rapid  is_rail  is_coverage  \\\n",
       "162562       0.50        0.00      0.00     0.00         1.00   \n",
       "162563       0.50        0.00      0.00     0.00         1.00   \n",
       "\n",
       "        is_downtown_local  is_local service_date        typology  \\\n",
       "162562               1.00      0.00   2023-03-15  downtown_local   \n",
       "162563               1.00      0.00   2023-03-15  downtown_local   \n",
       "\n",
       "        minutes_atleast1_vp  minutes_atleast2_vp  total_rt_service_minutes  \\\n",
       "162562                  241                  210                    259.08   \n",
       "162563                  241                  210                    259.08   \n",
       "\n",
       "        total_scheduled_service_minutes  total_vp  vp_in_shape  is_early  \\\n",
       "162562                           264.00       464          427         5   \n",
       "162563                           264.00       464          427         5   \n",
       "\n",
       "        is_ontime  is_late  n_vp_trips  vp_per_minute  pct_in_shape  \\\n",
       "162562          4        3          12           1.79          0.92   \n",
       "162563          4        3          12           1.79          0.92   \n",
       "\n",
       "        pct_rt_journey_atleast1_vp  pct_rt_journey_atleast2_vp  \\\n",
       "162562                        0.93                        0.81   \n",
       "162563                        0.93                        0.81   \n",
       "\n",
       "        pct_sched_journey_atleast1_vp  pct_sched_journey_atleast2_vp  \\\n",
       "162562                           0.91                           0.80   \n",
       "162563                           0.91                           0.80   \n",
       "\n",
       "        rt_sched_journey_ratio  avg_rt_service_minutes  \\\n",
       "162562                    0.98                   21.59   \n",
       "162563                    0.98                   21.59   \n",
       "\n",
       "       schedule_source_record_id_x sched_rt_category  speed_mph  \\\n",
       "162562                        None   schedule_and_vp      13.38   \n",
       "162563                        None   schedule_and_vp      13.38   \n",
       "\n",
       "                             name             route_long_name  \\\n",
       "162562  Monterey Salinas Schedule  Monterey - PG via Asilomar   \n",
       "162563  Monterey Salinas Schedule  Monterey - PG via Asilomar   \n",
       "\n",
       "       route_short_name           route_combined_name route_id  \\\n",
       "162562                1  1 Monterey - PG via Asilomar      001   \n",
       "162563                1  1 Monterey - PG via Asilomar      001   \n",
       "\n",
       "       schedule_source_record_id_y  \\\n",
       "162562           recysP9m9kjCJwHZe   \n",
       "162563           recysP9m9kjCJwHZe   \n",
       "\n",
       "                                                          base64_url  \\\n",
       "162562  aHR0cHM6Ly93d3cubXN0Lm9yZy9nb29nbGUvZ29vZ2xlX3RyYW5zaXQuemlw   \n",
       "162563  aHR0cHM6Ly93d3cubXN0Lm9yZy9nb29nbGUvZ29vZ2xlX3RyYW5zaXQuemlw   \n",
       "\n",
       "       organization_source_record_id         organization_name  \\\n",
       "162562             receZJ9sEnP9vy3g0  Monterey-Salinas Transit   \n",
       "162563             receZJ9sEnP9vy3g0  Monterey-Salinas Transit   \n",
       "\n",
       "           caltrans_district route_primary_direction  \n",
       "162562  05 - San Luis Obispo               Eastbound  \n",
       "162563  05 - San Luis Obispo               Eastbound  "
      ]
     },
     "execution_count": 34,
     "metadata": {},
     "output_type": "execute_result"
    }
   ],
   "source": [
    "schd_vp_df.head(2)"
   ]
  },
  {
   "cell_type": "code",
   "execution_count": 61,
   "id": "13dfc48a-6f10-4f7e-9307-686f64c8fcfc",
   "metadata": {},
   "outputs": [],
   "source": [
    "schedule_by_route = merge_data.concatenate_schedule_by_route_direction(\n",
    "        analysis_date_list\n",
    "    )"
   ]
  },
  {
   "cell_type": "code",
   "execution_count": 62,
   "id": "2cce00c2-a8e4-4c11-b157-f8e98b9018d3",
   "metadata": {},
   "outputs": [],
   "source": [
    "schedule_by_route_gtfskeys = schedule_by_route[[\"schedule_gtfs_dataset_key\",\"service_date\"]].drop_duplicates()"
   ]
  },
  {
   "cell_type": "code",
   "execution_count": 63,
   "id": "be70ebf2-b2f5-4070-a7ee-954952d9674a",
   "metadata": {},
   "outputs": [
    {
     "data": {
      "text/plain": [
       "_merge    \n",
       "right_only    1675\n",
       "both          1593\n",
       "left_only       55\n",
       "dtype: int64"
      ]
     },
     "execution_count": 63,
     "metadata": {},
     "output_type": "execute_result"
    }
   ],
   "source": [
    "pd.merge(df_avg_speeds_gtfskeys, schedule_by_route_gtfskeys, on = [\"schedule_gtfs_dataset_key\",\"service_date\"],\n",
    "        how = \"outer\", indicator = True)[[\"_merge\"]].value_counts()"
   ]
  },
  {
   "cell_type": "code",
   "execution_count": 36,
   "id": "dbd0f246-4616-4da5-9c51-b53abbcc8c9a",
   "metadata": {},
   "outputs": [],
   "source": [
    "import merge_data"
   ]
  },
  {
   "cell_type": "code",
   "execution_count": 39,
   "id": "40700f2b-2ccd-46e2-982b-e4306d734654",
   "metadata": {},
   "outputs": [],
   "source": [
    "from shared_utils import gtfs_utils_v2, publish_utils"
   ]
  },
  {
   "cell_type": "markdown",
   "id": "d8f6f40f-58ba-40a6-b454-d21c613025b9",
   "metadata": {},
   "source": [
    "### Average Speed Missing for Offpeak and Peak since October\n",
    "* All Day available \n",
    "* GTFS Keys missing? "
   ]
  },
  {
   "cell_type": "code",
   "execution_count": 54,
   "id": "16d50718-c09a-4e4f-bab7-90c7b6ea3f16",
   "metadata": {},
   "outputs": [],
   "source": [
    "df_avg_speeds = merge_data.concatenate_speeds_by_route_direction(\n",
    "        analysis_date_list\n",
    "    )"
   ]
  },
  {
   "cell_type": "code",
   "execution_count": 55,
   "id": "9cff0c4b-50bf-4e5f-8ad5-8eab93b6431a",
   "metadata": {},
   "outputs": [
    {
     "data": {
      "text/plain": [
       "array(['2023-04-12T00:00:00.000000000', '2023-05-17T00:00:00.000000000',\n",
       "       '2023-06-14T00:00:00.000000000', '2023-07-12T00:00:00.000000000',\n",
       "       '2023-08-15T00:00:00.000000000', '2023-09-13T00:00:00.000000000',\n",
       "       '2023-10-11T00:00:00.000000000', '2023-11-15T00:00:00.000000000',\n",
       "       '2023-12-13T00:00:00.000000000', '2024-01-17T00:00:00.000000000',\n",
       "       '2024-02-14T00:00:00.000000000', '2024-03-13T00:00:00.000000000',\n",
       "       '2024-04-17T00:00:00.000000000', '2024-05-22T00:00:00.000000000',\n",
       "       '2024-06-12T00:00:00.000000000', '2024-07-17T00:00:00.000000000',\n",
       "       '2024-08-14T00:00:00.000000000', '2024-09-18T00:00:00.000000000',\n",
       "       '2024-10-16T00:00:00.000000000', '2024-11-13T00:00:00.000000000',\n",
       "       '2024-12-11T00:00:00.000000000', '2023-03-15T00:00:00.000000000'],\n",
       "      dtype='datetime64[ns]')"
      ]
     },
     "execution_count": 55,
     "metadata": {},
     "output_type": "execute_result"
    }
   ],
   "source": [
    "df_avg_speeds.service_date.unique()"
   ]
  },
  {
   "cell_type": "code",
   "execution_count": 56,
   "id": "9268e7bd-5f99-46de-975b-327fe7e72c9b",
   "metadata": {},
   "outputs": [
    {
     "data": {
      "text/html": [
       "<div>\n",
       "<style scoped>\n",
       "    .dataframe tbody tr th:only-of-type {\n",
       "        vertical-align: middle;\n",
       "    }\n",
       "\n",
       "    .dataframe tbody tr th {\n",
       "        vertical-align: top;\n",
       "    }\n",
       "\n",
       "    .dataframe thead th {\n",
       "        text-align: right;\n",
       "    }\n",
       "</style>\n",
       "<table border=\"1\" class=\"dataframe\">\n",
       "  <thead>\n",
       "    <tr style=\"text-align: right;\">\n",
       "      <th></th>\n",
       "      <th>schedule_gtfs_dataset_key</th>\n",
       "      <th>route_id</th>\n",
       "      <th>direction_id</th>\n",
       "      <th>time_period</th>\n",
       "      <th>speed_mph</th>\n",
       "      <th>service_date</th>\n",
       "    </tr>\n",
       "  </thead>\n",
       "  <tbody>\n",
       "    <tr>\n",
       "      <th>0</th>\n",
       "      <td>015d67d5b75b5cf2b710bbadadfb75f5</td>\n",
       "      <td>17</td>\n",
       "      <td>0.00</td>\n",
       "      <td>all_day</td>\n",
       "      <td>16.63</td>\n",
       "      <td>2023-04-12</td>\n",
       "    </tr>\n",
       "    <tr>\n",
       "      <th>1</th>\n",
       "      <td>015d67d5b75b5cf2b710bbadadfb75f5</td>\n",
       "      <td>17</td>\n",
       "      <td>0.00</td>\n",
       "      <td>all_day</td>\n",
       "      <td>15.72</td>\n",
       "      <td>2023-05-17</td>\n",
       "    </tr>\n",
       "    <tr>\n",
       "      <th>2</th>\n",
       "      <td>015d67d5b75b5cf2b710bbadadfb75f5</td>\n",
       "      <td>17</td>\n",
       "      <td>0.00</td>\n",
       "      <td>all_day</td>\n",
       "      <td>15.17</td>\n",
       "      <td>2023-06-14</td>\n",
       "    </tr>\n",
       "    <tr>\n",
       "      <th>3</th>\n",
       "      <td>015d67d5b75b5cf2b710bbadadfb75f5</td>\n",
       "      <td>17</td>\n",
       "      <td>0.00</td>\n",
       "      <td>all_day</td>\n",
       "      <td>15.41</td>\n",
       "      <td>2023-07-12</td>\n",
       "    </tr>\n",
       "    <tr>\n",
       "      <th>4</th>\n",
       "      <td>015d67d5b75b5cf2b710bbadadfb75f5</td>\n",
       "      <td>17</td>\n",
       "      <td>0.00</td>\n",
       "      <td>all_day</td>\n",
       "      <td>15.06</td>\n",
       "      <td>2023-08-15</td>\n",
       "    </tr>\n",
       "  </tbody>\n",
       "</table>\n",
       "</div>"
      ],
      "text/plain": [
       "          schedule_gtfs_dataset_key route_id  direction_id time_period  \\\n",
       "0  015d67d5b75b5cf2b710bbadadfb75f5       17          0.00     all_day   \n",
       "1  015d67d5b75b5cf2b710bbadadfb75f5       17          0.00     all_day   \n",
       "2  015d67d5b75b5cf2b710bbadadfb75f5       17          0.00     all_day   \n",
       "3  015d67d5b75b5cf2b710bbadadfb75f5       17          0.00     all_day   \n",
       "4  015d67d5b75b5cf2b710bbadadfb75f5       17          0.00     all_day   \n",
       "\n",
       "   speed_mph service_date  \n",
       "0      16.63   2023-04-12  \n",
       "1      15.72   2023-05-17  \n",
       "2      15.17   2023-06-14  \n",
       "3      15.41   2023-07-12  \n",
       "4      15.06   2023-08-15  "
      ]
     },
     "execution_count": 56,
     "metadata": {},
     "output_type": "execute_result"
    }
   ],
   "source": [
    "df_avg_speeds.head()"
   ]
  },
  {
   "cell_type": "code",
   "execution_count": 58,
   "id": "670ec966-66d9-4405-9887-03cec3340e45",
   "metadata": {},
   "outputs": [],
   "source": [
    "df_avg_speeds_gtfskeys = df_avg_speeds[[\"schedule_gtfs_dataset_key\",\"service_date\"]].drop_duplicates()"
   ]
  },
  {
   "cell_type": "code",
   "execution_count": 60,
   "id": "6187a364-c90c-462c-b1cd-e3171a5651f4",
   "metadata": {},
   "outputs": [
    {
     "data": {
      "text/plain": [
       "_merge    \n",
       "left_only     1626\n",
       "both            22\n",
       "right_only       0\n",
       "dtype: int64"
      ]
     },
     "execution_count": 60,
     "metadata": {},
     "output_type": "execute_result"
    }
   ],
   "source": [
    "pd.merge(df_avg_speeds_gtfskeys, schd_vp_df_gtfskeys, on = [\"schedule_gtfs_dataset_key\",\"service_date\"],\n",
    "        how = \"outer\", indicator = True)[[\"_merge\"]].value_counts()"
   ]
  }
 ],
 "metadata": {
  "kernelspec": {
   "display_name": "Python 3 (ipykernel)",
   "language": "python",
   "name": "python3"
  },
  "language_info": {
   "codemirror_mode": {
    "name": "ipython",
    "version": 3
   },
   "file_extension": ".py",
   "mimetype": "text/x-python",
   "name": "python",
   "nbconvert_exporter": "python",
   "pygments_lexer": "ipython3",
   "version": "3.9.13"
  }
 },
 "nbformat": 4,
 "nbformat_minor": 5
}
