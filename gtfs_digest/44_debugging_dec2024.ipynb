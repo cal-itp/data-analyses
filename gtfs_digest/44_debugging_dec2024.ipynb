{
 "cells": [
  {
   "cell_type": "code",
   "execution_count": 1,
   "id": "ac7ce931-86fe-418c-95d7-5d2f85000bee",
   "metadata": {},
   "outputs": [],
   "source": [
    "import geopandas as gpd\n",
    "import merge_data\n",
    "import numpy as np\n",
    "import pandas as pd\n",
    "from segment_speed_utils import gtfs_schedule_wrangling, helpers, time_series_utils\n",
    "from shared_utils import catalog_utils, rt_dates, rt_utils\n",
    "from update_vars import GTFS_DATA_DICT, RT_SCHED_GCS, SCHED_GCS"
   ]
  },
  {
   "cell_type": "code",
   "execution_count": 2,
   "id": "27d67993-3143-4a78-acbc-d36078569db8",
   "metadata": {},
   "outputs": [],
   "source": [
    "pd.options.display.max_columns = 100\n",
    "pd.options.display.float_format = \"{:.2f}\".format\n",
    "pd.set_option(\"display.max_rows\", None)\n",
    "pd.set_option(\"display.max_colwidth\", None)"
   ]
  },
  {
   "cell_type": "code",
   "execution_count": 3,
   "id": "061dbbb9-3184-4bea-a55f-e53118517202",
   "metadata": {},
   "outputs": [],
   "source": [
    "FILE = GTFS_DATA_DICT.rt_vs_schedule_tables.sched_route_direction_metrics"
   ]
  },
  {
   "cell_type": "code",
   "execution_count": 4,
   "id": "cbe9fec9-413f-4547-8d6c-be1cc2d00a79",
   "metadata": {},
   "outputs": [
    {
     "data": {
      "text/plain": [
       "'gs://calitp-analytics-data/data-analyses/rt_vs_schedule/'"
      ]
     },
     "execution_count": 4,
     "metadata": {},
     "output_type": "execute_result"
    }
   ],
   "source": [
    "RT_SCHED_GCS"
   ]
  },
  {
   "cell_type": "code",
   "execution_count": 5,
   "id": "85d4cace-bf7c-4982-9a22-4385b164ad5b",
   "metadata": {},
   "outputs": [
    {
     "data": {
      "text/plain": [
       "'schedule_route_dir/schedule_route_direction_metrics'"
      ]
     },
     "execution_count": 5,
     "metadata": {},
     "output_type": "execute_result"
    }
   ],
   "source": [
    "FILE"
   ]
  },
  {
   "cell_type": "code",
   "execution_count": 6,
   "id": "c3fced8f-eb65-45fb-b4a7-51f397f95500",
   "metadata": {},
   "outputs": [],
   "source": [
    "df1 = pd.read_parquet(\"gs://calitp-analytics-data/data-analyses/rt_vs_schedule/schedule_route_dir/schedule_route_direction_metrics_2024-12-11.parquet\")"
   ]
  },
  {
   "cell_type": "code",
   "execution_count": 7,
   "id": "a05eb5f0-393c-44f0-9bbe-9e899d42a623",
   "metadata": {},
   "outputs": [
    {
     "data": {
      "text/plain": [
       "Index(['geometry', 'schedule_gtfs_dataset_key', 'route_id', 'direction_id',\n",
       "       'common_shape_id', 'route_name', 'avg_scheduled_service_minutes',\n",
       "       'avg_stop_miles', 'n_trips', 'time_period', 'peak_offpeak', 'frequency',\n",
       "       'is_coverage', 'is_downtown_local', 'is_local', 'is_rapid',\n",
       "       'is_express', 'is_rail', 'route_primary_direction'],\n",
       "      dtype='object')"
      ]
     },
     "execution_count": 7,
     "metadata": {},
     "output_type": "execute_result"
    }
   ],
   "source": [
    "df1.columns"
   ]
  },
  {
   "cell_type": "code",
   "execution_count": 8,
   "id": "97e561a0-a8fd-4fea-b674-cf4f02872d6c",
   "metadata": {},
   "outputs": [],
   "source": [
    "df2 = pd.read_parquet(\"gs://calitp-analytics-data/data-analyses/rt_vs_schedule/schedule_route_dir/schedule_route_direction_metrics_2024-10-19.parquet\")"
   ]
  },
  {
   "cell_type": "code",
   "execution_count": 9,
   "id": "19c543ef-fe84-4344-8612-82343447104f",
   "metadata": {},
   "outputs": [
    {
     "data": {
      "text/plain": [
       "Index(['geometry', 'schedule_gtfs_dataset_key', 'route_id', 'direction_id',\n",
       "       'common_shape_id', 'route_name', 'avg_scheduled_service_minutes',\n",
       "       'avg_stop_miles', 'n_trips', 'time_period', 'frequency', 'is_coverage',\n",
       "       'is_downtown_local', 'is_local', 'is_rapid', 'is_express', 'is_rail',\n",
       "       'route_primary_direction'],\n",
       "      dtype='object')"
      ]
     },
     "execution_count": 9,
     "metadata": {},
     "output_type": "execute_result"
    }
   ],
   "source": [
    "df2.columns"
   ]
  },
  {
   "cell_type": "code",
   "execution_count": 10,
   "id": "2b6e4221-c4f5-406b-92d3-7fb54f65305e",
   "metadata": {},
   "outputs": [],
   "source": [
    "df3  = pd.read_parquet(\"gs://calitp-analytics-data/data-analyses/rt_vs_schedule/schedule_route_dir/schedule_route_direction_metrics_2024-05-15.parquet\")"
   ]
  },
  {
   "cell_type": "code",
   "execution_count": 11,
   "id": "2e00c07a-acbf-43ad-8903-d3f3545749dd",
   "metadata": {},
   "outputs": [
    {
     "data": {
      "text/plain": [
       "Index(['geometry', 'schedule_gtfs_dataset_key', 'route_id', 'direction_id',\n",
       "       'common_shape_id', 'route_name', 'avg_scheduled_service_minutes',\n",
       "       'avg_stop_miles', 'n_trips', 'time_period', 'frequency', 'is_coverage',\n",
       "       'is_downtown_local', 'is_local', 'is_rapid', 'is_express', 'is_rail'],\n",
       "      dtype='object')"
      ]
     },
     "execution_count": 11,
     "metadata": {},
     "output_type": "execute_result"
    }
   ],
   "source": [
    "df3.columns"
   ]
  }
 ],
 "metadata": {
  "kernelspec": {
   "display_name": "Python 3 (ipykernel)",
   "language": "python",
   "name": "python3"
  },
  "language_info": {
   "codemirror_mode": {
    "name": "ipython",
    "version": 3
   },
   "file_extension": ".py",
   "mimetype": "text/x-python",
   "name": "python",
   "nbconvert_exporter": "python",
   "pygments_lexer": "ipython3",
   "version": "3.9.13"
  }
 },
 "nbformat": 4,
 "nbformat_minor": 5
}
