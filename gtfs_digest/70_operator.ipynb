{
 "cells": [
  {
   "cell_type": "markdown",
   "id": "49601c21-5c1b-4baf-85ed-2e08e93f2f09",
   "metadata": {},
   "source": [
    "# Refactor `merge_operator_data`"
   ]
  },
  {
   "cell_type": "code",
   "execution_count": 25,
   "id": "0db733a3-c943-442e-978d-331bb718e893",
   "metadata": {
    "tags": []
   },
   "outputs": [],
   "source": [
    "import altair as alt\n",
    "import merge_operator_data\n",
    "import numpy as np\n",
    "import pandas as pd\n",
    "import yaml\n",
    "from merge_data import PORTFOLIO_ORGANIZATIONS_DICT, merge_in_standardized_route_names\n",
    "from segment_speed_utils import gtfs_schedule_wrangling, helpers, time_series_utils\n",
    "from segment_speed_utils.project_vars import COMPILED_CACHED_VIEWS, PROJECT_CRS\n",
    "from shared_utils import (\n",
    "    catalog_utils,\n",
    "    dask_utils,\n",
    "    gtfs_utils_v2,\n",
    "    portfolio_utils,\n",
    "    publish_utils,\n",
    "    rt_dates,\n",
    ")\n",
    "from update_vars import GTFS_DATA_DICT, RT_SCHED_GCS, SCHED_GCS, SEGMENT_GCS"
   ]
  },
  {
   "cell_type": "code",
   "execution_count": 2,
   "id": "813cbce2-67a5-4507-8fb5-2f9902a89d99",
   "metadata": {
    "tags": []
   },
   "outputs": [],
   "source": [
    "pd.options.display.max_columns = 100\n",
    "pd.options.display.float_format = \"{:.2f}\".format\n",
    "pd.set_option(\"display.max_rows\", None)\n",
    "pd.set_option(\"display.max_colwidth\", None)"
   ]
  },
  {
   "cell_type": "code",
   "execution_count": 3,
   "id": "f02a5e50-cf49-4e00-827e-fa28e034846c",
   "metadata": {
    "tags": []
   },
   "outputs": [],
   "source": [
    "analysis_date_list = rt_dates.y2024_dates"
   ]
  },
  {
   "cell_type": "code",
   "execution_count": 4,
   "id": "794889d7-3a84-4891-9c54-65de472b24b6",
   "metadata": {
    "tags": []
   },
   "outputs": [],
   "source": [
    "schedule_df = merge_operator_data.concatenate_schedule_operator_metrics(\n",
    "    analysis_date_list\n",
    ")"
   ]
  },
  {
   "cell_type": "code",
   "execution_count": 5,
   "id": "2fdfd08f-030e-45bc-be6d-9ba5bca68b37",
   "metadata": {
    "tags": []
   },
   "outputs": [
    {
     "data": {
      "text/html": [
       "<div>\n",
       "<style scoped>\n",
       "    .dataframe tbody tr th:only-of-type {\n",
       "        vertical-align: middle;\n",
       "    }\n",
       "\n",
       "    .dataframe tbody tr th {\n",
       "        vertical-align: top;\n",
       "    }\n",
       "\n",
       "    .dataframe thead th {\n",
       "        text-align: right;\n",
       "    }\n",
       "</style>\n",
       "<table border=\"1\" class=\"dataframe\">\n",
       "  <thead>\n",
       "    <tr style=\"text-align: right;\">\n",
       "      <th></th>\n",
       "      <th>schedule_gtfs_dataset_key</th>\n",
       "      <th>operator_n_routes</th>\n",
       "      <th>operator_n_trips</th>\n",
       "      <th>operator_n_shapes</th>\n",
       "      <th>operator_n_stops</th>\n",
       "      <th>operator_n_arrivals</th>\n",
       "      <th>operator_route_length_miles</th>\n",
       "      <th>operator_arrivals_per_stop</th>\n",
       "      <th>n_downtown_local_routes</th>\n",
       "      <th>n_local_routes</th>\n",
       "      <th>n_coverage_routes</th>\n",
       "      <th>n_rapid_routes</th>\n",
       "      <th>n_express_routes</th>\n",
       "      <th>n_rail_routes</th>\n",
       "      <th>n_ferry_routes</th>\n",
       "      <th>name</th>\n",
       "      <th>organization_source_record_id</th>\n",
       "      <th>organization_name</th>\n",
       "      <th>service_date</th>\n",
       "    </tr>\n",
       "  </thead>\n",
       "  <tbody>\n",
       "    <tr>\n",
       "      <th>0</th>\n",
       "      <td>0139b1253130b33adcd4b3a4490530d2</td>\n",
       "      <td>30</td>\n",
       "      <td>421</td>\n",
       "      <td>204</td>\n",
       "      <td>513</td>\n",
       "      <td>7985</td>\n",
       "      <td>612.87</td>\n",
       "      <td>15.57</td>\n",
       "      <td>0</td>\n",
       "      <td>0</td>\n",
       "      <td>32</td>\n",
       "      <td>27</td>\n",
       "      <td>0</td>\n",
       "      <td>0</td>\n",
       "      <td>0</td>\n",
       "      <td>TCRTA TripShot Schedule</td>\n",
       "      <td>rec4YWVqVwJ9XqDbq</td>\n",
       "      <td>Tulare County Regional Transit Agency</td>\n",
       "      <td>2024-01-17</td>\n",
       "    </tr>\n",
       "    <tr>\n",
       "      <th>1</th>\n",
       "      <td>0139b1253130b33adcd4b3a4490530d2</td>\n",
       "      <td>30</td>\n",
       "      <td>421</td>\n",
       "      <td>204</td>\n",
       "      <td>474</td>\n",
       "      <td>7885</td>\n",
       "      <td>612.16</td>\n",
       "      <td>16.64</td>\n",
       "      <td>0</td>\n",
       "      <td>0</td>\n",
       "      <td>32</td>\n",
       "      <td>27</td>\n",
       "      <td>0</td>\n",
       "      <td>0</td>\n",
       "      <td>0</td>\n",
       "      <td>TCRTA TripShot Schedule</td>\n",
       "      <td>rec4YWVqVwJ9XqDbq</td>\n",
       "      <td>Tulare County Regional Transit Agency</td>\n",
       "      <td>2024-02-14</td>\n",
       "    </tr>\n",
       "  </tbody>\n",
       "</table>\n",
       "</div>"
      ],
      "text/plain": [
       "          schedule_gtfs_dataset_key  operator_n_routes  operator_n_trips  \\\n",
       "0  0139b1253130b33adcd4b3a4490530d2                 30               421   \n",
       "1  0139b1253130b33adcd4b3a4490530d2                 30               421   \n",
       "\n",
       "   operator_n_shapes  operator_n_stops  operator_n_arrivals  \\\n",
       "0                204               513                 7985   \n",
       "1                204               474                 7885   \n",
       "\n",
       "   operator_route_length_miles  operator_arrivals_per_stop  \\\n",
       "0                       612.87                       15.57   \n",
       "1                       612.16                       16.64   \n",
       "\n",
       "   n_downtown_local_routes  n_local_routes  n_coverage_routes  n_rapid_routes  \\\n",
       "0                        0               0                 32              27   \n",
       "1                        0               0                 32              27   \n",
       "\n",
       "   n_express_routes  n_rail_routes  n_ferry_routes                     name  \\\n",
       "0                 0              0               0  TCRTA TripShot Schedule   \n",
       "1                 0              0               0  TCRTA TripShot Schedule   \n",
       "\n",
       "  organization_source_record_id                      organization_name  \\\n",
       "0             rec4YWVqVwJ9XqDbq  Tulare County Regional Transit Agency   \n",
       "1             rec4YWVqVwJ9XqDbq  Tulare County Regional Transit Agency   \n",
       "\n",
       "  service_date  \n",
       "0   2024-01-17  \n",
       "1   2024-02-14  "
      ]
     },
     "execution_count": 5,
     "metadata": {},
     "output_type": "execute_result"
    }
   ],
   "source": [
    "schedule_df.head(2)"
   ]
  },
  {
   "cell_type": "code",
   "execution_count": 6,
   "id": "92ad5e41-2039-47c9-b0a7-9b2c5f9462b0",
   "metadata": {
    "tags": []
   },
   "outputs": [],
   "source": [
    "rt_schedule_df = merge_operator_data.concatenate_rt_vs_schedule_operator_metrics(\n",
    "    analysis_date_list\n",
    ")"
   ]
  },
  {
   "cell_type": "code",
   "execution_count": 7,
   "id": "1cb1b4dd-4129-46ef-bbfe-3bd725606af4",
   "metadata": {
    "tags": []
   },
   "outputs": [
    {
     "data": {
      "text/html": [
       "<div>\n",
       "<style scoped>\n",
       "    .dataframe tbody tr th:only-of-type {\n",
       "        vertical-align: middle;\n",
       "    }\n",
       "\n",
       "    .dataframe tbody tr th {\n",
       "        vertical-align: top;\n",
       "    }\n",
       "\n",
       "    .dataframe thead th {\n",
       "        text-align: right;\n",
       "    }\n",
       "</style>\n",
       "<table border=\"1\" class=\"dataframe\">\n",
       "  <thead>\n",
       "    <tr style=\"text-align: right;\">\n",
       "      <th></th>\n",
       "      <th>schedule_gtfs_dataset_key</th>\n",
       "      <th>vp_per_min_agency</th>\n",
       "      <th>spatial_accuracy_agency</th>\n",
       "      <th>service_date</th>\n",
       "    </tr>\n",
       "  </thead>\n",
       "  <tbody>\n",
       "    <tr>\n",
       "      <th>0</th>\n",
       "      <td>0139b1253130b33adcd4b3a4490530d2</td>\n",
       "      <td>2.52</td>\n",
       "      <td>67.36</td>\n",
       "      <td>2024-01-17</td>\n",
       "    </tr>\n",
       "    <tr>\n",
       "      <th>1</th>\n",
       "      <td>0139b1253130b33adcd4b3a4490530d2</td>\n",
       "      <td>2.59</td>\n",
       "      <td>59.87</td>\n",
       "      <td>2024-02-14</td>\n",
       "    </tr>\n",
       "  </tbody>\n",
       "</table>\n",
       "</div>"
      ],
      "text/plain": [
       "          schedule_gtfs_dataset_key  vp_per_min_agency  \\\n",
       "0  0139b1253130b33adcd4b3a4490530d2               2.52   \n",
       "1  0139b1253130b33adcd4b3a4490530d2               2.59   \n",
       "\n",
       "   spatial_accuracy_agency service_date  \n",
       "0                    67.36   2024-01-17  \n",
       "1                    59.87   2024-02-14  "
      ]
     },
     "execution_count": 7,
     "metadata": {},
     "output_type": "execute_result"
    }
   ],
   "source": [
    "rt_schedule_df.head(2)"
   ]
  },
  {
   "cell_type": "code",
   "execution_count": 8,
   "id": "1db86e33-5b8a-42c9-a41b-99171e1be26f",
   "metadata": {
    "tags": []
   },
   "outputs": [],
   "source": [
    "gdf = merge_operator_data.concatenate_operator_routes(analysis_date_list).pipe(\n",
    "    merge_data.merge_in_standardized_route_names\n",
    ")"
   ]
  },
  {
   "attachments": {
    "83e7cedb-8659-40c9-835a-7ade8e40d448.png": {
     "image/png": "[encoded data removed]"
    }
   },
   "cell_type": "markdown",
   "id": "529b9050-3c27-46c4-916b-d18a2cb6657f",
   "metadata": {},
   "source": [
    "### Task #1: Aggregate `crosswalk` to `portfolio_organization_name`\n",
    "* <i>Group by name-service_date-portfolio_organization_name to aggregate up to      portfolio_organization_name,because name indicates different feeds, so we want to sum those</i>. \n",
    "* AH: How do we account for situations when the different `organization_names` have different hq_cities, reporter_types, etc -> see Ventura County. we use these fields in this part of the portfolio. \n",
    "![image.png](attachment:83e7cedb-8659-40c9-835a-7ade8e40d448.png)"
   ]
  },
  {
   "cell_type": "code",
   "execution_count": 10,
   "id": "8c49b350-5c7d-4703-83b3-aa08006aa19c",
   "metadata": {
    "tags": []
   },
   "outputs": [],
   "source": [
    "crosswalk_df = merge_operator_data.concatenate_crosswalks(analysis_date_list)"
   ]
  },
  {
   "cell_type": "code",
   "execution_count": 11,
   "id": "055019d8-88bf-40d3-b0c0-f10663d053c8",
   "metadata": {
    "tags": []
   },
   "outputs": [
    {
     "data": {
      "text/html": [
       "<div>\n",
       "<style scoped>\n",
       "    .dataframe tbody tr th:only-of-type {\n",
       "        vertical-align: middle;\n",
       "    }\n",
       "\n",
       "    .dataframe tbody tr th {\n",
       "        vertical-align: top;\n",
       "    }\n",
       "\n",
       "    .dataframe thead th {\n",
       "        text-align: right;\n",
       "    }\n",
       "</style>\n",
       "<table border=\"1\" class=\"dataframe\">\n",
       "  <thead>\n",
       "    <tr style=\"text-align: right;\">\n",
       "      <th></th>\n",
       "      <th>service_date</th>\n",
       "      <th>caltrans_district</th>\n",
       "      <th>portfolio_organization_name</th>\n",
       "      <th>schedule_gtfs_dataset_key</th>\n",
       "      <th>name</th>\n",
       "      <th>hq_city</th>\n",
       "      <th>organization_type</th>\n",
       "      <th>primary_uza_name</th>\n",
       "      <th>reporter_type</th>\n",
       "      <th>service_area_pop</th>\n",
       "      <th>service_area_sq_miles</th>\n",
       "    </tr>\n",
       "  </thead>\n",
       "  <tbody>\n",
       "    <tr>\n",
       "      <th>0</th>\n",
       "      <td>2024-01-17</td>\n",
       "      <td>02 - Redding</td>\n",
       "      <td>Redding Area Bus Authority</td>\n",
       "      <td>91af7482fde58c6261f386b732404e11</td>\n",
       "      <td>Redding Schedule</td>\n",
       "      <td>Redding</td>\n",
       "      <td>City, County or Local Government Unit or Department of Transportation</td>\n",
       "      <td>Redding, CA</td>\n",
       "      <td>Rural Reporter</td>\n",
       "      <td>0</td>\n",
       "      <td>0</td>\n",
       "    </tr>\n",
       "  </tbody>\n",
       "</table>\n",
       "</div>"
      ],
      "text/plain": [
       "  service_date caltrans_district portfolio_organization_name  \\\n",
       "0   2024-01-17      02 - Redding  Redding Area Bus Authority   \n",
       "\n",
       "          schedule_gtfs_dataset_key              name  hq_city  \\\n",
       "0  91af7482fde58c6261f386b732404e11  Redding Schedule  Redding   \n",
       "\n",
       "                                                       organization_type  \\\n",
       "0  City, County or Local Government Unit or Department of Transportation   \n",
       "\n",
       "  primary_uza_name   reporter_type  service_area_pop  service_area_sq_miles  \n",
       "0      Redding, CA  Rural Reporter                 0                      0  "
      ]
     },
     "execution_count": 11,
     "metadata": {},
     "output_type": "execute_result"
    }
   ],
   "source": [
    "crosswalk_df.head(1)"
   ]
  },
  {
   "cell_type": "code",
   "execution_count": 12,
   "id": "a13dac89-514d-4646-a6a0-40be1f32d154",
   "metadata": {
    "tags": []
   },
   "outputs": [
    {
     "data": {
      "text/plain": [
       "(108, 1336, 119)"
      ]
     },
     "execution_count": 12,
     "metadata": {},
     "output_type": "execute_result"
    }
   ],
   "source": [
    "crosswalk_df.portfolio_organization_name.nunique(), len(\n",
    "    crosswalk_df\n",
    "), crosswalk_df.name.nunique()"
   ]
  },
  {
   "cell_type": "code",
   "execution_count": 13,
   "id": "86eafcc8-c261-4a16-ae7a-d3c8989e6ceb",
   "metadata": {
    "tags": []
   },
   "outputs": [
    {
     "data": {
      "text/plain": [
       "(109, 11)"
      ]
     },
     "execution_count": 13,
     "metadata": {},
     "output_type": "execute_result"
    }
   ],
   "source": [
    "crosswalk_df.loc[crosswalk_df.service_date == \"2024-01-17\"].shape"
   ]
  },
  {
   "cell_type": "code",
   "execution_count": 19,
   "id": "5cf38d02-a434-479b-a7d1-5bc389806209",
   "metadata": {
    "tags": []
   },
   "outputs": [
    {
     "data": {
      "text/plain": [
       "97"
      ]
     },
     "execution_count": 19,
     "metadata": {},
     "output_type": "execute_result"
    }
   ],
   "source": [
    "crosswalk_df.loc[crosswalk_df.service_date == \"2024-01-17\"][\n",
    "    \"portfolio_organization_name\"\n",
    "].nunique()"
   ]
  },
  {
   "cell_type": "code",
   "execution_count": 23,
   "id": "ab115c8e-ef92-4691-9882-530f46c246a5",
   "metadata": {
    "scrolled": true,
    "tags": []
   },
   "outputs": [
    {
     "data": {
      "text/html": [
       "<div>\n",
       "<style scoped>\n",
       "    .dataframe tbody tr th:only-of-type {\n",
       "        vertical-align: middle;\n",
       "    }\n",
       "\n",
       "    .dataframe tbody tr th {\n",
       "        vertical-align: top;\n",
       "    }\n",
       "\n",
       "    .dataframe thead th {\n",
       "        text-align: right;\n",
       "    }\n",
       "</style>\n",
       "<table border=\"1\" class=\"dataframe\">\n",
       "  <thead>\n",
       "    <tr style=\"text-align: right;\">\n",
       "      <th></th>\n",
       "      <th>service_date</th>\n",
       "      <th>caltrans_district</th>\n",
       "      <th>portfolio_organization_name</th>\n",
       "      <th>schedule_gtfs_dataset_key</th>\n",
       "      <th>name</th>\n",
       "      <th>hq_city</th>\n",
       "      <th>organization_type</th>\n",
       "      <th>primary_uza_name</th>\n",
       "      <th>reporter_type</th>\n",
       "      <th>service_area_pop</th>\n",
       "      <th>service_area_sq_miles</th>\n",
       "    </tr>\n",
       "  </thead>\n",
       "  <tbody>\n",
       "    <tr>\n",
       "      <th>81</th>\n",
       "      <td>2024-01-17</td>\n",
       "      <td>07 - Los Angeles / Ventura</td>\n",
       "      <td>Ventura County (VCTC, Gold Coast, Cities of Camarillo, Moorpark, Ojai, Simi Valley, Thousand Oaks)</td>\n",
       "      <td>1770249a5a2e770ca90628434d4934b1</td>\n",
       "      <td>VCTC GMV Schedule</td>\n",
       "      <td>Camarillo</td>\n",
       "      <td>City, County or Local Government Unit or Department of Transportation</td>\n",
       "      <td>Camarillo, CA</td>\n",
       "      <td>Reduced Reporter</td>\n",
       "      <td>68374</td>\n",
       "      <td>20</td>\n",
       "    </tr>\n",
       "    <tr>\n",
       "      <th>82</th>\n",
       "      <td>2024-01-17</td>\n",
       "      <td>07 - Los Angeles / Ventura</td>\n",
       "      <td>Ventura County (VCTC, Gold Coast, Cities of Camarillo, Moorpark, Ojai, Simi Valley, Thousand Oaks)</td>\n",
       "      <td>1770249a5a2e770ca90628434d4934b1</td>\n",
       "      <td>VCTC GMV Schedule</td>\n",
       "      <td>Camarillo</td>\n",
       "      <td>Independent Public Agency or Authority of Transit Service</td>\n",
       "      <td>Oxnard--San Buenaventura (Ventura), CA</td>\n",
       "      <td>Full Reporter</td>\n",
       "      <td>209877</td>\n",
       "      <td>28</td>\n",
       "    </tr>\n",
       "    <tr>\n",
       "      <th>83</th>\n",
       "      <td>2024-01-17</td>\n",
       "      <td>07 - Los Angeles / Ventura</td>\n",
       "      <td>Ventura County (VCTC, Gold Coast, Cities of Camarillo, Moorpark, Ojai, Simi Valley, Thousand Oaks)</td>\n",
       "      <td>1770249a5a2e770ca90628434d4934b1</td>\n",
       "      <td>VCTC GMV Schedule</td>\n",
       "      <td>Moorpark</td>\n",
       "      <td>City, County or Local Government Unit or Department of Transportation</td>\n",
       "      <td>Thousand Oaks, CA</td>\n",
       "      <td>Reduced Reporter</td>\n",
       "      <td>35975</td>\n",
       "      <td>12</td>\n",
       "    </tr>\n",
       "    <tr>\n",
       "      <th>84</th>\n",
       "      <td>2024-01-17</td>\n",
       "      <td>07 - Los Angeles / Ventura</td>\n",
       "      <td>Ventura County (VCTC, Gold Coast, Cities of Camarillo, Moorpark, Ojai, Simi Valley, Thousand Oaks)</td>\n",
       "      <td>1770249a5a2e770ca90628434d4934b1</td>\n",
       "      <td>VCTC GMV Schedule</td>\n",
       "      <td>Oxnard</td>\n",
       "      <td>Independent Public Agency or Authority of Transit Service</td>\n",
       "      <td>Oxnard--San Buenaventura (Ventura), CA</td>\n",
       "      <td>Full Reporter</td>\n",
       "      <td>374827</td>\n",
       "      <td>84</td>\n",
       "    </tr>\n",
       "    <tr>\n",
       "      <th>85</th>\n",
       "      <td>2024-01-17</td>\n",
       "      <td>07 - Los Angeles / Ventura</td>\n",
       "      <td>Ventura County (VCTC, Gold Coast, Cities of Camarillo, Moorpark, Ojai, Simi Valley, Thousand Oaks)</td>\n",
       "      <td>1770249a5a2e770ca90628434d4934b1</td>\n",
       "      <td>VCTC GMV Schedule</td>\n",
       "      <td>Simi Valley</td>\n",
       "      <td>City, County or Local Government Unit or Department of Transportation</td>\n",
       "      <td>Simi Valley, CA</td>\n",
       "      <td>Reduced Reporter</td>\n",
       "      <td>126356</td>\n",
       "      <td>50</td>\n",
       "    </tr>\n",
       "    <tr>\n",
       "      <th>86</th>\n",
       "      <td>2024-01-17</td>\n",
       "      <td>07 - Los Angeles / Ventura</td>\n",
       "      <td>Ventura County (VCTC, Gold Coast, Cities of Camarillo, Moorpark, Ojai, Simi Valley, Thousand Oaks)</td>\n",
       "      <td>1770249a5a2e770ca90628434d4934b1</td>\n",
       "      <td>VCTC GMV Schedule</td>\n",
       "      <td>Thousand Oaks</td>\n",
       "      <td>City, County or Local Government Unit or Department of Transportation</td>\n",
       "      <td>Thousand Oaks, CA</td>\n",
       "      <td>Reduced Reporter</td>\n",
       "      <td>420862</td>\n",
       "      <td>167</td>\n",
       "    </tr>\n",
       "  </tbody>\n",
       "</table>\n",
       "</div>"
      ],
      "text/plain": [
       "   service_date           caltrans_district  \\\n",
       "81   2024-01-17  07 - Los Angeles / Ventura   \n",
       "82   2024-01-17  07 - Los Angeles / Ventura   \n",
       "83   2024-01-17  07 - Los Angeles / Ventura   \n",
       "84   2024-01-17  07 - Los Angeles / Ventura   \n",
       "85   2024-01-17  07 - Los Angeles / Ventura   \n",
       "86   2024-01-17  07 - Los Angeles / Ventura   \n",
       "\n",
       "                                                                           portfolio_organization_name  \\\n",
       "81  Ventura County (VCTC, Gold Coast, Cities of Camarillo, Moorpark, Ojai, Simi Valley, Thousand Oaks)   \n",
       "82  Ventura County (VCTC, Gold Coast, Cities of Camarillo, Moorpark, Ojai, Simi Valley, Thousand Oaks)   \n",
       "83  Ventura County (VCTC, Gold Coast, Cities of Camarillo, Moorpark, Ojai, Simi Valley, Thousand Oaks)   \n",
       "84  Ventura County (VCTC, Gold Coast, Cities of Camarillo, Moorpark, Ojai, Simi Valley, Thousand Oaks)   \n",
       "85  Ventura County (VCTC, Gold Coast, Cities of Camarillo, Moorpark, Ojai, Simi Valley, Thousand Oaks)   \n",
       "86  Ventura County (VCTC, Gold Coast, Cities of Camarillo, Moorpark, Ojai, Simi Valley, Thousand Oaks)   \n",
       "\n",
       "           schedule_gtfs_dataset_key               name        hq_city  \\\n",
       "81  1770249a5a2e770ca90628434d4934b1  VCTC GMV Schedule      Camarillo   \n",
       "82  1770249a5a2e770ca90628434d4934b1  VCTC GMV Schedule      Camarillo   \n",
       "83  1770249a5a2e770ca90628434d4934b1  VCTC GMV Schedule       Moorpark   \n",
       "84  1770249a5a2e770ca90628434d4934b1  VCTC GMV Schedule         Oxnard   \n",
       "85  1770249a5a2e770ca90628434d4934b1  VCTC GMV Schedule    Simi Valley   \n",
       "86  1770249a5a2e770ca90628434d4934b1  VCTC GMV Schedule  Thousand Oaks   \n",
       "\n",
       "                                                        organization_type  \\\n",
       "81  City, County or Local Government Unit or Department of Transportation   \n",
       "82              Independent Public Agency or Authority of Transit Service   \n",
       "83  City, County or Local Government Unit or Department of Transportation   \n",
       "84              Independent Public Agency or Authority of Transit Service   \n",
       "85  City, County or Local Government Unit or Department of Transportation   \n",
       "86  City, County or Local Government Unit or Department of Transportation   \n",
       "\n",
       "                          primary_uza_name     reporter_type  \\\n",
       "81                           Camarillo, CA  Reduced Reporter   \n",
       "82  Oxnard--San Buenaventura (Ventura), CA     Full Reporter   \n",
       "83                       Thousand Oaks, CA  Reduced Reporter   \n",
       "84  Oxnard--San Buenaventura (Ventura), CA     Full Reporter   \n",
       "85                         Simi Valley, CA  Reduced Reporter   \n",
       "86                       Thousand Oaks, CA  Reduced Reporter   \n",
       "\n",
       "    service_area_pop  service_area_sq_miles  \n",
       "81             68374                     20  \n",
       "82            209877                     28  \n",
       "83             35975                     12  \n",
       "84            374827                     84  \n",
       "85            126356                     50  \n",
       "86            420862                    167  "
      ]
     },
     "execution_count": 23,
     "metadata": {},
     "output_type": "execute_result"
    }
   ],
   "source": [
    "crosswalk_df.loc[\n",
    "    (crosswalk_df.service_date == \"2024-01-17\")\n",
    "    & (\n",
    "        crosswalk_df.portfolio_organization_name\n",
    "        == \"Ventura County (VCTC, Gold Coast, Cities of Camarillo, Moorpark, Ojai, Simi Valley, Thousand Oaks)\"\n",
    "    )\n",
    "]"
   ]
  },
  {
   "cell_type": "code",
   "execution_count": 15,
   "id": "c4c93f80-3fdc-420c-96a0-b62b59491f8d",
   "metadata": {
    "tags": []
   },
   "outputs": [],
   "source": [
    "operator_df = merge_operator_data.merge_data_sources_by_operator(\n",
    "    schedule_df, rt_schedule_df, crosswalk_df\n",
    ")"
   ]
  },
  {
   "cell_type": "code",
   "execution_count": 16,
   "id": "f892b275-13cb-4d27-83d6-d31c85dc23a2",
   "metadata": {
    "tags": []
   },
   "outputs": [
    {
     "data": {
      "text/html": [
       "<div>\n",
       "<style scoped>\n",
       "    .dataframe tbody tr th:only-of-type {\n",
       "        vertical-align: middle;\n",
       "    }\n",
       "\n",
       "    .dataframe tbody tr th {\n",
       "        vertical-align: top;\n",
       "    }\n",
       "\n",
       "    .dataframe thead th {\n",
       "        text-align: right;\n",
       "    }\n",
       "</style>\n",
       "<table border=\"1\" class=\"dataframe\">\n",
       "  <thead>\n",
       "    <tr style=\"text-align: right;\">\n",
       "      <th></th>\n",
       "      <th>schedule_gtfs_dataset_key</th>\n",
       "      <th>operator_n_routes</th>\n",
       "      <th>operator_n_trips</th>\n",
       "      <th>operator_n_shapes</th>\n",
       "      <th>operator_n_stops</th>\n",
       "      <th>operator_n_arrivals</th>\n",
       "      <th>operator_route_length_miles</th>\n",
       "      <th>operator_arrivals_per_stop</th>\n",
       "      <th>n_downtown_local_routes</th>\n",
       "      <th>n_local_routes</th>\n",
       "      <th>n_coverage_routes</th>\n",
       "      <th>n_rapid_routes</th>\n",
       "      <th>n_express_routes</th>\n",
       "      <th>n_rail_routes</th>\n",
       "      <th>n_ferry_routes</th>\n",
       "      <th>name</th>\n",
       "      <th>organization_source_record_id</th>\n",
       "      <th>organization_name</th>\n",
       "      <th>service_date</th>\n",
       "      <th>vp_per_min_agency</th>\n",
       "      <th>spatial_accuracy_agency</th>\n",
       "      <th>caltrans_district</th>\n",
       "      <th>portfolio_organization_name</th>\n",
       "      <th>hq_city</th>\n",
       "      <th>organization_type</th>\n",
       "      <th>primary_uza_name</th>\n",
       "      <th>reporter_type</th>\n",
       "      <th>service_area_pop</th>\n",
       "      <th>service_area_sq_miles</th>\n",
       "    </tr>\n",
       "  </thead>\n",
       "  <tbody>\n",
       "    <tr>\n",
       "      <th>0</th>\n",
       "      <td>0139b1253130b33adcd4b3a4490530d2</td>\n",
       "      <td>30</td>\n",
       "      <td>421</td>\n",
       "      <td>204</td>\n",
       "      <td>513</td>\n",
       "      <td>7985</td>\n",
       "      <td>612.87</td>\n",
       "      <td>15.57</td>\n",
       "      <td>0</td>\n",
       "      <td>0</td>\n",
       "      <td>32</td>\n",
       "      <td>27</td>\n",
       "      <td>0</td>\n",
       "      <td>0</td>\n",
       "      <td>0</td>\n",
       "      <td>TCRTA TripShot Schedule</td>\n",
       "      <td>rec4YWVqVwJ9XqDbq</td>\n",
       "      <td>Tulare County Regional Transit Agency</td>\n",
       "      <td>2024-01-17</td>\n",
       "      <td>2.52</td>\n",
       "      <td>67.36</td>\n",
       "      <td>06 - Fresno / Bakersfield</td>\n",
       "      <td>Tulare County Regional Transit Agency</td>\n",
       "      <td>Visalia</td>\n",
       "      <td>Independent Public Agency or Authority of Transit Service</td>\n",
       "      <td>Tulare, CA</td>\n",
       "      <td>Full Reporter</td>\n",
       "      <td>473117</td>\n",
       "      <td>4839</td>\n",
       "    </tr>\n",
       "  </tbody>\n",
       "</table>\n",
       "</div>"
      ],
      "text/plain": [
       "          schedule_gtfs_dataset_key  operator_n_routes  operator_n_trips  \\\n",
       "0  0139b1253130b33adcd4b3a4490530d2                 30               421   \n",
       "\n",
       "   operator_n_shapes  operator_n_stops  operator_n_arrivals  \\\n",
       "0                204               513                 7985   \n",
       "\n",
       "   operator_route_length_miles  operator_arrivals_per_stop  \\\n",
       "0                       612.87                       15.57   \n",
       "\n",
       "   n_downtown_local_routes  n_local_routes  n_coverage_routes  n_rapid_routes  \\\n",
       "0                        0               0                 32              27   \n",
       "\n",
       "   n_express_routes  n_rail_routes  n_ferry_routes                     name  \\\n",
       "0                 0              0               0  TCRTA TripShot Schedule   \n",
       "\n",
       "  organization_source_record_id                      organization_name  \\\n",
       "0             rec4YWVqVwJ9XqDbq  Tulare County Regional Transit Agency   \n",
       "\n",
       "  service_date  vp_per_min_agency  spatial_accuracy_agency  \\\n",
       "0   2024-01-17               2.52                    67.36   \n",
       "\n",
       "           caltrans_district            portfolio_organization_name  hq_city  \\\n",
       "0  06 - Fresno / Bakersfield  Tulare County Regional Transit Agency  Visalia   \n",
       "\n",
       "                                           organization_type primary_uza_name  \\\n",
       "0  Independent Public Agency or Authority of Transit Service       Tulare, CA   \n",
       "\n",
       "   reporter_type  service_area_pop  service_area_sq_miles  \n",
       "0  Full Reporter            473117                   4839  "
      ]
     },
     "execution_count": 16,
     "metadata": {},
     "output_type": "execute_result"
    }
   ],
   "source": [
    "operator_df.head(1)"
   ]
  },
  {
   "cell_type": "markdown",
   "id": "631a3c71-1032-40ae-86e8-db8319e5cc87",
   "metadata": {},
   "source": [
    "### Task #2: \n",
    "* Is there a short/long route, can it be flagged per date as a new column here?"
   ]
  },
  {
   "cell_type": "code",
   "execution_count": 26,
   "id": "f051ce06-fba2-47e6-91f9-97155ff3b7cf",
   "metadata": {
    "tags": []
   },
   "outputs": [],
   "source": [
    "# Need to add portfolio_organization_name\n",
    "gdf = gdf.pipe(\n",
    "    portfolio_utils.standardize_portfolio_organization_names,\n",
    "    PORTFOLIO_ORGANIZATIONS_DICT,\n",
    ")"
   ]
  },
  {
   "cell_type": "code",
   "execution_count": 37,
   "id": "1e2384ff-bba3-4f10-849d-e344ca09da14",
   "metadata": {
    "tags": []
   },
   "outputs": [
    {
     "data": {
      "text/plain": [
       "Index(['shape_array_key', 'geometry', 'feed_key', 'schedule_gtfs_dataset_key',\n",
       "       'route_id', 'direction_id', 'route_key', 'route_length',\n",
       "       'route_length_miles', 'is_downtown_local', 'is_local', 'is_coverage',\n",
       "       'is_rapid', 'is_express', 'is_rail', 'is_ferry',\n",
       "       'organization_source_record_id', 'organization_name', 'service_date',\n",
       "       'name', 'combined_name', 'recent_combined_name', 'recent_route_id',\n",
       "       'portfolio_organization_name'],\n",
       "      dtype='object')"
      ]
     },
     "execution_count": 37,
     "metadata": {},
     "output_type": "execute_result"
    }
   ],
   "source": [
    "gdf.columns"
   ]
  },
  {
   "cell_type": "code",
   "execution_count": 38,
   "id": "43d9a6dd-a4ed-4250-9073-3a5d6ff483e5",
   "metadata": {
    "tags": []
   },
   "outputs": [],
   "source": [
    "gdf_subset = gdf[\n",
    "    [\"route_id\", \"route_length_miles\", \"service_date\", \"portfolio_organization_name\"]\n",
    "]"
   ]
  },
  {
   "cell_type": "code",
   "execution_count": 39,
   "id": "af4fbb79-b1c0-45cd-ad9d-10e06950991b",
   "metadata": {
    "tags": []
   },
   "outputs": [],
   "source": [
    "def find_percentiles(df: pd.DataFrame, col_of_interest: str) -> pd.DataFrame:\n",
    "    \"\"\"\n",
    "    Take a column you're interested in and categorize it by row\n",
    "    for each percentile group it belongs to.\n",
    "    \"\"\"\n",
    "    # Get percentiles in objects for total vehicle.\n",
    "    p25 = df[col_of_interest].quantile(0.25).astype(float)\n",
    "    p50 = df[col_of_interest].quantile(0.50).astype(float)\n",
    "    p75 = df[col_of_interest].quantile(0.75).astype(float)\n",
    "\n",
    "    # Make a dataframe out of this\n",
    "    percentile_data = {\n",
    "        f\"{col_of_interest}_percentile\": [\n",
    "            \"25th percentile\",\n",
    "            \"50th percentile\",\n",
    "            \"< 75th percentile\",\n",
    "            \"> 75th percentile\",\n",
    "        ],\n",
    "        \"percentile_group\": [\n",
    "            f\"25 percentile (<={p25.astype(int)} miles)\",\n",
    "            f\"26-50th percentile ({p25.astype(int) + 0.1}-{p50.astype(int)} miles)\",\n",
    "            f\"51-75th percentile ({p50.astype(int) + 0.1}-{p75.astype(int)} miles)\",\n",
    "            f\"76th percentile (>={p75.astype(int) + 0.1} miles)\",\n",
    "        ],\n",
    "    }\n",
    "    percentile_df = pd.DataFrame(data=percentile_data)\n",
    "\n",
    "    def categorize_percentile(row):\n",
    "        if (row[col_of_interest] > 0) and (row[col_of_interest] <= p25):\n",
    "            return \"25th percentile\"\n",
    "        elif (row[col_of_interest] > p25) and (row[col_of_interest] <= p50):\n",
    "            return \"50th percentile\"\n",
    "        elif (row[col_of_interest] > p50) and (row[col_of_interest] <= p75):\n",
    "            return \"< 75th percentile\"\n",
    "        elif row[col_of_interest] > p75:\n",
    "            return \"> 75th percentile\"\n",
    "        else:\n",
    "            return \"Zero\"\n",
    "\n",
    "    # Actually categorize each value for percentile\n",
    "    df[f\"{col_of_interest}_percentile\"] = df.apply(\n",
    "        lambda x: categorize_percentile(x), axis=1\n",
    "    )\n",
    "\n",
    "    # Delete out routes w/o service mile info\n",
    "    df = df.loc[df[f\"{col_of_interest}_percentile\"] != \"Zero\"]\n",
    "\n",
    "    # Merge the dataframes\n",
    "    df2 = pd.merge(df, percentile_df, on=f\"{col_of_interest}_percentile\")\n",
    "    return df2"
   ]
  },
  {
   "cell_type": "markdown",
   "id": "5286948e-8a7a-4a81-bfb2-8a0f1706e099",
   "metadata": {},
   "source": [
    "### Task #3:\n",
    "* <i>take input produced in concatenate_operator_routes\n",
    "    get counties for operator-date\n",
    "    df should only be operator-date-counties_served\n",
    "    use this to merge into crosswalk and replace NTD column</i>"
   ]
  },
  {
   "cell_type": "code",
   "execution_count": 41,
   "id": "9d33749f-e3a9-4c59-bf69-688170a0a425",
   "metadata": {
    "tags": []
   },
   "outputs": [],
   "source": [
    "gdf_subset2 = gdf[\n",
    "    [\"route_id\", \"service_date\", \"portfolio_organization_name\", \"geometry\"]\n",
    "]"
   ]
  },
  {
   "cell_type": "code",
   "execution_count": 46,
   "id": "6fa81620-fd44-4a60-ad75-df2c5ca32e75",
   "metadata": {
    "tags": []
   },
   "outputs": [],
   "source": [
    "import geopandas as gpd\n",
    "from calitp_data_analysis.sql import to_snakecase"
   ]
  },
  {
   "cell_type": "code",
   "execution_count": 44,
   "id": "22fd9c53-286f-44c1-843c-dd36ec873f9d",
   "metadata": {
    "tags": []
   },
   "outputs": [],
   "source": [
    "def get_counties()->gpd.GeoDataFrame:\n",
    "    \"\"\"\n",
    "    Load a geodataframe of the California counties.\n",
    "    \"\"\"\n",
    "    ca_gdf = \"https://opendata.arcgis.com/datasets/8713ced9b78a4abb97dc130a691a8695_0.geojson\"\n",
    "    my_gdf = to_snakecase(gpd.read_file(f\"{ca_gdf}\"))[[\"county_name\", \"geometry\"]]\n",
    "\n",
    "    return my_gdf"
   ]
  },
  {
   "cell_type": "code",
   "execution_count": 47,
   "id": "86304697-d4ca-4ffd-9d23-588b694318c3",
   "metadata": {
    "tags": []
   },
   "outputs": [],
   "source": [
    "ca_counties = get_counties()"
   ]
  },
  {
   "cell_type": "code",
   "execution_count": 48,
   "id": "78e190f0-55f1-4b2c-9a1c-e96c70ff5e5f",
   "metadata": {
    "tags": []
   },
   "outputs": [],
   "source": [
    "counties_served = gpd.sjoin(\n",
    "    gdf_subset2,\n",
    "    ca_counties.to_crs(gdf.crs),\n",
    "    how=\"inner\",\n",
    "    predicate=\"intersects\").drop(columns=\"index_right\")"
   ]
  },
  {
   "cell_type": "code",
   "execution_count": 50,
   "id": "69e9f3ab-8bae-468f-be25-cd270dd06e2f",
   "metadata": {
    "scrolled": true,
    "tags": []
   },
   "outputs": [],
   "source": [
    "counties_served2 = (counties_served[[\"portfolio_organization_name\",\"county_name\"]]\n",
    "                       .drop_duplicates()\n",
    "                       .sort_values(by = [\"county_name\"])\n",
    "                       .reset_index(drop = True)\n",
    "                      )"
   ]
  },
  {
   "cell_type": "code",
   "execution_count": 53,
   "id": "ab92b488-b6e8-4b35-8c62-2b5179fa6dd5",
   "metadata": {
    "tags": []
   },
   "outputs": [
    {
     "data": {
      "text/html": [
       "<div>\n",
       "<style scoped>\n",
       "    .dataframe tbody tr th:only-of-type {\n",
       "        vertical-align: middle;\n",
       "    }\n",
       "\n",
       "    .dataframe tbody tr th {\n",
       "        vertical-align: top;\n",
       "    }\n",
       "\n",
       "    .dataframe thead th {\n",
       "        text-align: right;\n",
       "    }\n",
       "</style>\n",
       "<table border=\"1\" class=\"dataframe\">\n",
       "  <thead>\n",
       "    <tr style=\"text-align: right;\">\n",
       "      <th></th>\n",
       "      <th>portfolio_organization_name</th>\n",
       "      <th>service_date</th>\n",
       "      <th>county_name</th>\n",
       "    </tr>\n",
       "  </thead>\n",
       "  <tbody>\n",
       "    <tr>\n",
       "      <th>0</th>\n",
       "      <td>San Joaquin Regional Rail Commission</td>\n",
       "      <td>2024-12-11</td>\n",
       "      <td>Alameda</td>\n",
       "    </tr>\n",
       "  </tbody>\n",
       "</table>\n",
       "</div>"
      ],
      "text/plain": [
       "            portfolio_organization_name service_date county_name\n",
       "0  San Joaquin Regional Rail Commission   2024-12-11     Alameda"
      ]
     },
     "execution_count": 53,
     "metadata": {},
     "output_type": "execute_result"
    }
   ],
   "source": [
    "counties_served2.head(1)"
   ]
  },
  {
   "cell_type": "code",
   "execution_count": 51,
   "id": "a01ad8e1-ac3b-44fc-93d1-2ddf992f2e79",
   "metadata": {
    "tags": []
   },
   "outputs": [],
   "source": [
    "counties_served3 = counties_served2.T"
   ]
  },
  {
   "cell_type": "code",
   "execution_count": 54,
   "id": "ef8841ee-e474-4399-8261-387768238f14",
   "metadata": {
    "tags": []
   },
   "outputs": [],
   "source": [
    "def concat_all_columns(df: pd.DataFrame)->pd.DataFrame:\n",
    "    \"\"\" \n",
    "    Concatenate all columns into a new column called 'all'\n",
    "    \"\"\"\n",
    "    df['all'] = df.apply(lambda row: ', '.join(row.astype(str)), axis=1)\n",
    "\n",
    "    return df"
   ]
  },
  {
   "cell_type": "code",
   "execution_count": 55,
   "id": "0a804c09-266c-4d6d-bde0-b1c61a18b261",
   "metadata": {
    "tags": []
   },
   "outputs": [],
   "source": [
    "counties_served4 = concat_all_columns(counties_served3)"
   ]
  }
 ],
 "metadata": {
  "kernelspec": {
   "display_name": "Python 3 (ipykernel)",
   "language": "python",
   "name": "python3"
  },
  "language_info": {
   "codemirror_mode": {
    "name": "ipython",
    "version": 3
   },
   "file_extension": ".py",
   "mimetype": "text/x-python",
   "name": "python",
   "nbconvert_exporter": "python",
   "pygments_lexer": "ipython3",
   "version": "3.11.10"
  }
 },
 "nbformat": 4,
 "nbformat_minor": 5
}
