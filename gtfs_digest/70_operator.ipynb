{
 "cells": [
  {
   "cell_type": "markdown",
   "id": "49601c21-5c1b-4baf-85ed-2e08e93f2f09",
   "metadata": {},
   "source": [
    "# Refactor `merge_operator_data`"
   ]
  },
  {
   "cell_type": "code",
   "execution_count": 73,
   "id": "0db733a3-c943-442e-978d-331bb718e893",
   "metadata": {
    "tags": []
   },
   "outputs": [],
   "source": [
    "import altair as alt\n",
    "import geopandas as gpd\n",
    "import merge_data\n",
    "import merge_operator_data\n",
    "import viz_data_prep\n",
    "import numpy as np\n",
    "import pandas as pd\n",
    "import yaml\n",
    "from calitp_data_analysis.sql import to_snakecase\n",
    "from merge_data import PORTFOLIO_ORGANIZATIONS_DICT, merge_in_standardized_route_names\n",
    "from segment_speed_utils import gtfs_schedule_wrangling, helpers, time_series_utils\n",
    "from segment_speed_utils.project_vars import COMPILED_CACHED_VIEWS, PROJECT_CRS\n",
    "from shared_utils import (\n",
    "    catalog_utils,\n",
    "    dask_utils,\n",
    "    gtfs_utils_v2,\n",
    "    portfolio_utils,\n",
    "    publish_utils,\n",
    "    rt_dates,\n",
    ")\n",
    "from update_vars import GTFS_DATA_DICT, RT_SCHED_GCS, SCHED_GCS, SEGMENT_GCS"
   ]
  },
  {
   "cell_type": "code",
   "execution_count": 2,
   "id": "813cbce2-67a5-4507-8fb5-2f9902a89d99",
   "metadata": {
    "tags": []
   },
   "outputs": [],
   "source": [
    "pd.options.display.max_columns = 100\n",
    "pd.options.display.float_format = \"{:.2f}\".format\n",
    "pd.set_option(\"display.max_rows\", None)\n",
    "pd.set_option(\"display.max_colwidth\", None)"
   ]
  },
  {
   "cell_type": "code",
   "execution_count": 3,
   "id": "f02a5e50-cf49-4e00-827e-fa28e034846c",
   "metadata": {
    "tags": []
   },
   "outputs": [],
   "source": [
    "analysis_date_list = rt_dates.y2024_dates"
   ]
  },
  {
   "cell_type": "markdown",
   "id": "b602caa4-6364-496a-a924-5e5c4161e7b4",
   "metadata": {},
   "source": [
    "## Recreate old charts and maps `aggregate_filter_operator_dates.py`\n",
    "* Use `operator_profiles_recent.parquet` and `operator_routes.parquet`\n",
    "* Use <i>Ventura County (VCTC, Gold Coast, Cities of Camarillo, Moorpark, Ojai, Simi Valley, Thousand Oaks)</i>"
   ]
  },
  {
   "cell_type": "code",
   "execution_count": 4,
   "id": "2c4693ae-6ac0-4ef6-ac5e-7ec9a2c89dee",
   "metadata": {
    "tags": []
   },
   "outputs": [],
   "source": [
    "OPERATOR_PROFILE = GTFS_DATA_DICT.digest_tables.operator_profiles"
   ]
  },
  {
   "cell_type": "code",
   "execution_count": 55,
   "id": "f808c585-f93c-432d-bfc0-84a436197aca",
   "metadata": {
    "tags": []
   },
   "outputs": [],
   "source": [
    "op_profile_ntd = pd.read_parquet(f\"{RT_SCHED_GCS}{OPERATOR_PROFILE}_recent.parquet\")"
   ]
  },
  {
   "cell_type": "code",
   "execution_count": 68,
   "id": "af22a7f1-71cb-4e13-b316-0c3650f601b1",
   "metadata": {
    "tags": []
   },
   "outputs": [
    {
     "data": {
      "text/plain": [
       "'gs://calitp-analytics-data/data-analyses/rt_vs_schedule/digest/operator_profiles_recent.parquet'"
      ]
     },
     "execution_count": 68,
     "metadata": {},
     "output_type": "execute_result"
    }
   ],
   "source": [
    "f\"{RT_SCHED_GCS}{OPERATOR_PROFILE}_recent.parquet\""
   ]
  },
  {
   "cell_type": "code",
   "execution_count": 56,
   "id": "40d17190-9e23-47ab-bdd6-98618d40e8b6",
   "metadata": {
    "tags": []
   },
   "outputs": [
    {
     "data": {
      "text/plain": [
       "array(['2024-03-13T00:00:00.000000000', '2024-06-12T00:00:00.000000000',\n",
       "       '2024-12-11T00:00:00.000000000', '2025-03-12T00:00:00.000000000',\n",
       "       '2025-04-16T00:00:00.000000000'], dtype='datetime64[ns]')"
      ]
     },
     "execution_count": 56,
     "metadata": {},
     "output_type": "execute_result"
    }
   ],
   "source": [
    "op_profile_ntd.service_date.unique()"
   ]
  },
  {
   "cell_type": "code",
   "execution_count": 85,
   "id": "93e3290b-7f6c-427f-bf68-43129e73bf1b",
   "metadata": {
    "tags": []
   },
   "outputs": [],
   "source": [
    "portfolio_name = \"Ventura County (VCTC, Gold Coast, Cities of Camarillo, Moorpark, Ojai, Simi Valley, Thousand Oaks)\""
   ]
  },
  {
   "cell_type": "code",
   "execution_count": 80,
   "id": "139509d9-f143-40a8-a46d-5ad9bf07e7e7",
   "metadata": {
    "tags": []
   },
   "outputs": [],
   "source": [
    "ventura_op_profile = op_profile_ntd.loc[(\n",
    "        op_profile_ntd.portfolio_organization_name\n",
    "        == \"Ventura County (VCTC, Gold Coast, Cities of Camarillo, Moorpark, Ojai, Simi Valley, Thousand Oaks)\"\n",
    "    )\n",
    "]"
   ]
  },
  {
   "cell_type": "code",
   "execution_count": 90,
   "id": "f83f6ec3-f37c-4dfd-83bb-a3dfdcf995b4",
   "metadata": {
    "tags": []
   },
   "outputs": [
    {
     "data": {
      "text/html": [
       "<div>\n",
       "<style scoped>\n",
       "    .dataframe tbody tr th:only-of-type {\n",
       "        vertical-align: middle;\n",
       "    }\n",
       "\n",
       "    .dataframe tbody tr th {\n",
       "        vertical-align: top;\n",
       "    }\n",
       "\n",
       "    .dataframe thead th {\n",
       "        text-align: right;\n",
       "    }\n",
       "</style>\n",
       "<table border=\"1\" class=\"dataframe\">\n",
       "  <thead>\n",
       "    <tr style=\"text-align: right;\">\n",
       "      <th></th>\n",
       "      <th>service_date</th>\n",
       "      <th>portfolio_organization_name</th>\n",
       "      <th>caltrans_district</th>\n",
       "      <th>service_area_pop</th>\n",
       "      <th>service_area_sq_miles</th>\n",
       "      <th>hq_city</th>\n",
       "      <th>reporter_type</th>\n",
       "      <th>primary_uza_name</th>\n",
       "    </tr>\n",
       "  </thead>\n",
       "  <tbody>\n",
       "    <tr>\n",
       "      <th>103</th>\n",
       "      <td>2025-04-16</td>\n",
       "      <td>Ventura County (VCTC, Gold Coast, Cities of Camarillo, Moorpark, Ojai, Simi Valley, Thousand Oaks)</td>\n",
       "      <td>07 - Los Angeles / Ventura</td>\n",
       "      <td>8653897</td>\n",
       "      <td>2527</td>\n",
       "      <td>Oxnard, Moorpark, Camarillo, Thousand Oaks, Simi Valley</td>\n",
       "      <td>Full Reporter, Reduced Reporter</td>\n",
       "      <td>Thousand Oaks, CA, Oxnard--San Buenaventura (Ventura), CA, Camarillo, CA, Simi Valley, CA</td>\n",
       "    </tr>\n",
       "  </tbody>\n",
       "</table>\n",
       "</div>"
      ],
      "text/plain": [
       "    service_date  \\\n",
       "103   2025-04-16   \n",
       "\n",
       "                                                                            portfolio_organization_name  \\\n",
       "103  Ventura County (VCTC, Gold Coast, Cities of Camarillo, Moorpark, Ojai, Simi Valley, Thousand Oaks)   \n",
       "\n",
       "              caltrans_district  service_area_pop  service_area_sq_miles  \\\n",
       "103  07 - Los Angeles / Ventura           8653897                   2527   \n",
       "\n",
       "                                                     hq_city  \\\n",
       "103  Oxnard, Moorpark, Camarillo, Thousand Oaks, Simi Valley   \n",
       "\n",
       "                       reporter_type  \\\n",
       "103  Full Reporter, Reduced Reporter   \n",
       "\n",
       "                                                                              primary_uza_name  \n",
       "103  Thousand Oaks, CA, Oxnard--San Buenaventura (Ventura), CA, Camarillo, CA, Simi Valley, CA  "
      ]
     },
     "execution_count": 90,
     "metadata": {},
     "output_type": "execute_result"
    }
   ],
   "source": [
    "ventura_op_profile"
   ]
  },
  {
   "cell_type": "code",
   "execution_count": 78,
   "id": "3ebe8829-5e5b-4a66-ac3c-33079586bbe1",
   "metadata": {
    "tags": []
   },
   "outputs": [],
   "source": [
    "# ventura_op_profile.columns = ventura_op_profile.columns.str.title().str.replace(\"_\", \" \")"
   ]
  },
  {
   "cell_type": "code",
   "execution_count": 81,
   "id": "a7a030bc-d302-47ab-9ca7-fe32c77eb103",
   "metadata": {
    "tags": []
   },
   "outputs": [
    {
     "data": {
      "text/plain": [
       "Index(['service_date', 'portfolio_organization_name', 'caltrans_district',\n",
       "       'service_area_pop', 'service_area_sq_miles', 'hq_city', 'reporter_type',\n",
       "       'primary_uza_name'],\n",
       "      dtype='object')"
      ]
     },
     "execution_count": 81,
     "metadata": {},
     "output_type": "execute_result"
    }
   ],
   "source": [
    "ventura_op_profile.columns"
   ]
  },
  {
   "cell_type": "code",
   "execution_count": 64,
   "id": "eccb5d7b-fd60-4e99-950b-eb41f0600188",
   "metadata": {
    "tags": []
   },
   "outputs": [],
   "source": [
    "OPERATOR_ROUTE = GTFS_DATA_DICT.digest_tables.operator_routes_map"
   ]
  },
  {
   "cell_type": "code",
   "execution_count": 66,
   "id": "1aeb2d58-98af-499e-8a5e-d7f1d1184d6e",
   "metadata": {
    "tags": []
   },
   "outputs": [],
   "source": [
    "op_geography_df = gpd.read_parquet(f\"{RT_SCHED_GCS}{OPERATOR_ROUTE}.parquet\")"
   ]
  },
  {
   "cell_type": "code",
   "execution_count": 82,
   "id": "ff3fba0a-3ff8-46ea-9387-2651c89dfff9",
   "metadata": {
    "tags": []
   },
   "outputs": [],
   "source": [
    "try:\n",
    "    date = ventura_op_profile[\"service_date\"].dt.to_pydatetime()[0]\n",
    "except:\n",
    "    pass"
   ]
  },
  {
   "cell_type": "code",
   "execution_count": 83,
   "id": "af793794-a3b4-4e58-837a-e802616cffea",
   "metadata": {
    "tags": []
   },
   "outputs": [
    {
     "data": {
      "text/plain": [
       "datetime.datetime(2025, 4, 16, 0, 0)"
      ]
     },
     "execution_count": 83,
     "metadata": {},
     "output_type": "execute_result"
    }
   ],
   "source": [
    "date"
   ]
  },
  {
   "cell_type": "code",
   "execution_count": 88,
   "id": "07f50578-90b9-4890-ba3c-075662364538",
   "metadata": {
    "tags": []
   },
   "outputs": [],
   "source": [
    "service_area = int(ventura_op_profile.service_area_sq_miles.values[0])\n",
    "service_area = \"{:,}\".format(service_area)\n",
    "service_pop = int(ventura_op_profile.service_area_pop.values[0])\n",
    "service_pop = \"{:,}\".format(service_pop)"
   ]
  },
  {
   "cell_type": "code",
   "execution_count": 89,
   "id": "655535c6-ca83-4d27-82a0-633bfd6c38e7",
   "metadata": {
    "tags": []
   },
   "outputs": [
    {
     "ename": "NameError",
     "evalue": "name 'Markdown' is not defined",
     "output_type": "error",
     "traceback": [
      "\u001b[0;31m---------------------------------------------------------------------------\u001b[0m",
      "\u001b[0;31mNameError\u001b[0m                                 Traceback (most recent call last)",
      "Cell \u001b[0;32mIn[89], line 2\u001b[0m\n\u001b[1;32m      1\u001b[0m display(\n\u001b[0;32m----> 2\u001b[0m         \u001b[43mMarkdown\u001b[49m(\n\u001b[1;32m      3\u001b[0m             \u001b[38;5;124mf\u001b[39m\u001b[38;5;124m\"\"\"\u001b[39m\u001b[38;5;132;01m{\u001b[39;00mportfolio_name\u001b[38;5;132;01m}\u001b[39;00m\u001b[38;5;124m is headquartered in <b>\u001b[39m\u001b[38;5;132;01m{\u001b[39;00mventura_op_profile\u001b[38;5;241m.\u001b[39mhq_city\u001b[38;5;241m.\u001b[39mvalues[\u001b[38;5;241m0\u001b[39m]\u001b[38;5;132;01m}\u001b[39;00m\u001b[38;5;124m</b> in the Urbanized Area of <b>\u001b[39m\u001b[38;5;132;01m{\u001b[39;00mventura_op_profile\u001b[38;5;241m.\u001b[39mprimary_uza_name\u001b[38;5;241m.\u001b[39mvalues[\u001b[38;5;241m0\u001b[39m]\u001b[38;5;132;01m}\u001b[39;00m\u001b[38;5;124m</b>.<br>\u001b[39m\n\u001b[1;32m      4\u001b[0m \u001b[38;5;124m            This operator provides <b>\u001b[39m\u001b[38;5;132;01m{\u001b[39;00mservice_area\u001b[38;5;132;01m}\u001b[39;00m\u001b[38;5;124m</b> square miles of public transit service, which has a service population of <b>\u001b[39m\u001b[38;5;132;01m{\u001b[39;00mservice_pop\u001b[38;5;132;01m}\u001b[39;00m\u001b[38;5;124m</b>.<br>\u001b[39m\n\u001b[1;32m      5\u001b[0m \u001b[38;5;124m            This organization is a \u001b[39m\u001b[38;5;132;01m{\u001b[39;00mventura_op_profile\u001b[38;5;241m.\u001b[39morganization_type\u001b[38;5;241m.\u001b[39mvalues[\u001b[38;5;241m0\u001b[39m]\u001b[38;5;132;01m}\u001b[39;00m\u001b[38;5;124m.<br>\u001b[39m\n\u001b[1;32m      6\u001b[0m \u001b[38;5;124m            <b>Data Source</b>: <a href=\u001b[39m\u001b[38;5;124m\"\u001b[39m\u001b[38;5;124mhttps://www.transit.dot.gov/ntd/data-product/2022-annual-database-agency-information\u001b[39m\u001b[38;5;124m\"\u001b[39m\u001b[38;5;124m>National Transit Database</a> Annual Agency Information.\u001b[39m\n\u001b[1;32m      7\u001b[0m \u001b[38;5;124m            \u001b[39m\u001b[38;5;124m\"\"\"\u001b[39m\n\u001b[1;32m      8\u001b[0m         )\n\u001b[1;32m      9\u001b[0m     )\n",
      "\u001b[0;31mNameError\u001b[0m: name 'Markdown' is not defined"
     ]
    }
   ],
   "source": [
    "display(\n",
    "        Markdown(\n",
    "            f\"\"\"{portfolio_name} is headquartered in <b>{ventura_op_profile.hq_city.values[0]}</b> in the Urbanized Area of <b>{ventura_op_profile.primary_uza_name.values[0]}</b>.<br>\n",
    "            This operator provides <b>{service_area}</b> square miles of public transit service, which has a service population of <b>{service_pop}</b>.<br>\n",
    "            This organization is a {ventura_op_profile.organization_type.values[0]}.<br>\n",
    "            <b>Data Source</b>: <a href=\"https://www.transit.dot.gov/ntd/data-product/2022-annual-database-agency-information\">National Transit Database</a> Annual Agency Information.\n",
    "            \"\"\"\n",
    "        )\n",
    "    )"
   ]
  },
  {
   "cell_type": "code",
   "execution_count": 71,
   "id": "9b9b4510-1d2c-41f9-8576-a8c67d397acd",
   "metadata": {
    "tags": []
   },
   "outputs": [],
   "source": [
    "ventura_geo = op_geography_df.loc[(\n",
    "        op_geography_df.portfolio_organization_name\n",
    "        == \"Ventura County (VCTC, Gold Coast, Cities of Camarillo, Moorpark, Ojai, Simi Valley, Thousand Oaks)\"\n",
    "    )\n",
    "]"
   ]
  },
  {
   "cell_type": "code",
   "execution_count": 7,
   "id": "794889d7-3a84-4891-9c54-65de472b24b6",
   "metadata": {
    "tags": []
   },
   "outputs": [],
   "source": [
    "schedule_df = merge_operator_data.concatenate_schedule_operator_metrics(\n",
    "    analysis_date_list\n",
    ")"
   ]
  },
  {
   "cell_type": "code",
   "execution_count": 8,
   "id": "2fdfd08f-030e-45bc-be6d-9ba5bca68b37",
   "metadata": {
    "tags": []
   },
   "outputs": [
    {
     "data": {
      "text/html": [
       "<div>\n",
       "<style scoped>\n",
       "    .dataframe tbody tr th:only-of-type {\n",
       "        vertical-align: middle;\n",
       "    }\n",
       "\n",
       "    .dataframe tbody tr th {\n",
       "        vertical-align: top;\n",
       "    }\n",
       "\n",
       "    .dataframe thead th {\n",
       "        text-align: right;\n",
       "    }\n",
       "</style>\n",
       "<table border=\"1\" class=\"dataframe\">\n",
       "  <thead>\n",
       "    <tr style=\"text-align: right;\">\n",
       "      <th></th>\n",
       "      <th>schedule_gtfs_dataset_key</th>\n",
       "      <th>operator_n_routes</th>\n",
       "      <th>operator_n_trips</th>\n",
       "      <th>operator_n_shapes</th>\n",
       "      <th>operator_n_stops</th>\n",
       "      <th>operator_n_arrivals</th>\n",
       "      <th>operator_route_length_miles</th>\n",
       "      <th>operator_arrivals_per_stop</th>\n",
       "      <th>n_downtown_local_routes</th>\n",
       "      <th>n_local_routes</th>\n",
       "      <th>n_coverage_routes</th>\n",
       "      <th>n_rapid_routes</th>\n",
       "      <th>n_express_routes</th>\n",
       "      <th>n_rail_routes</th>\n",
       "      <th>n_ferry_routes</th>\n",
       "      <th>name</th>\n",
       "      <th>organization_source_record_id</th>\n",
       "      <th>organization_name</th>\n",
       "      <th>service_date</th>\n",
       "    </tr>\n",
       "  </thead>\n",
       "  <tbody>\n",
       "    <tr>\n",
       "      <th>0</th>\n",
       "      <td>0139b1253130b33adcd4b3a4490530d2</td>\n",
       "      <td>30</td>\n",
       "      <td>421</td>\n",
       "      <td>204</td>\n",
       "      <td>513</td>\n",
       "      <td>7985</td>\n",
       "      <td>612.87</td>\n",
       "      <td>15.57</td>\n",
       "      <td>0</td>\n",
       "      <td>0</td>\n",
       "      <td>32</td>\n",
       "      <td>27</td>\n",
       "      <td>0</td>\n",
       "      <td>0</td>\n",
       "      <td>0</td>\n",
       "      <td>TCRTA TripShot Schedule</td>\n",
       "      <td>rec4YWVqVwJ9XqDbq</td>\n",
       "      <td>Tulare County Regional Transit Agency</td>\n",
       "      <td>2024-01-17</td>\n",
       "    </tr>\n",
       "    <tr>\n",
       "      <th>1</th>\n",
       "      <td>0139b1253130b33adcd4b3a4490530d2</td>\n",
       "      <td>30</td>\n",
       "      <td>421</td>\n",
       "      <td>204</td>\n",
       "      <td>474</td>\n",
       "      <td>7885</td>\n",
       "      <td>612.16</td>\n",
       "      <td>16.64</td>\n",
       "      <td>0</td>\n",
       "      <td>0</td>\n",
       "      <td>32</td>\n",
       "      <td>27</td>\n",
       "      <td>0</td>\n",
       "      <td>0</td>\n",
       "      <td>0</td>\n",
       "      <td>TCRTA TripShot Schedule</td>\n",
       "      <td>rec4YWVqVwJ9XqDbq</td>\n",
       "      <td>Tulare County Regional Transit Agency</td>\n",
       "      <td>2024-02-14</td>\n",
       "    </tr>\n",
       "  </tbody>\n",
       "</table>\n",
       "</div>"
      ],
      "text/plain": [
       "          schedule_gtfs_dataset_key  operator_n_routes  operator_n_trips  \\\n",
       "0  0139b1253130b33adcd4b3a4490530d2                 30               421   \n",
       "1  0139b1253130b33adcd4b3a4490530d2                 30               421   \n",
       "\n",
       "   operator_n_shapes  operator_n_stops  operator_n_arrivals  \\\n",
       "0                204               513                 7985   \n",
       "1                204               474                 7885   \n",
       "\n",
       "   operator_route_length_miles  operator_arrivals_per_stop  \\\n",
       "0                       612.87                       15.57   \n",
       "1                       612.16                       16.64   \n",
       "\n",
       "   n_downtown_local_routes  n_local_routes  n_coverage_routes  n_rapid_routes  \\\n",
       "0                        0               0                 32              27   \n",
       "1                        0               0                 32              27   \n",
       "\n",
       "   n_express_routes  n_rail_routes  n_ferry_routes                     name  \\\n",
       "0                 0              0               0  TCRTA TripShot Schedule   \n",
       "1                 0              0               0  TCRTA TripShot Schedule   \n",
       "\n",
       "  organization_source_record_id                      organization_name  \\\n",
       "0             rec4YWVqVwJ9XqDbq  Tulare County Regional Transit Agency   \n",
       "1             rec4YWVqVwJ9XqDbq  Tulare County Regional Transit Agency   \n",
       "\n",
       "  service_date  \n",
       "0   2024-01-17  \n",
       "1   2024-02-14  "
      ]
     },
     "execution_count": 8,
     "metadata": {},
     "output_type": "execute_result"
    }
   ],
   "source": [
    "schedule_df.head(2)"
   ]
  },
  {
   "cell_type": "code",
   "execution_count": 9,
   "id": "92ad5e41-2039-47c9-b0a7-9b2c5f9462b0",
   "metadata": {
    "tags": []
   },
   "outputs": [],
   "source": [
    "rt_schedule_df = merge_operator_data.concatenate_rt_vs_schedule_operator_metrics(\n",
    "    analysis_date_list\n",
    ")"
   ]
  },
  {
   "cell_type": "code",
   "execution_count": 10,
   "id": "1cb1b4dd-4129-46ef-bbfe-3bd725606af4",
   "metadata": {
    "tags": []
   },
   "outputs": [
    {
     "data": {
      "text/html": [
       "<div>\n",
       "<style scoped>\n",
       "    .dataframe tbody tr th:only-of-type {\n",
       "        vertical-align: middle;\n",
       "    }\n",
       "\n",
       "    .dataframe tbody tr th {\n",
       "        vertical-align: top;\n",
       "    }\n",
       "\n",
       "    .dataframe thead th {\n",
       "        text-align: right;\n",
       "    }\n",
       "</style>\n",
       "<table border=\"1\" class=\"dataframe\">\n",
       "  <thead>\n",
       "    <tr style=\"text-align: right;\">\n",
       "      <th></th>\n",
       "      <th>schedule_gtfs_dataset_key</th>\n",
       "      <th>vp_per_min_agency</th>\n",
       "      <th>spatial_accuracy_agency</th>\n",
       "      <th>service_date</th>\n",
       "    </tr>\n",
       "  </thead>\n",
       "  <tbody>\n",
       "    <tr>\n",
       "      <th>0</th>\n",
       "      <td>0139b1253130b33adcd4b3a4490530d2</td>\n",
       "      <td>2.52</td>\n",
       "      <td>67.36</td>\n",
       "      <td>2024-01-17</td>\n",
       "    </tr>\n",
       "    <tr>\n",
       "      <th>1</th>\n",
       "      <td>0139b1253130b33adcd4b3a4490530d2</td>\n",
       "      <td>2.59</td>\n",
       "      <td>59.87</td>\n",
       "      <td>2024-02-14</td>\n",
       "    </tr>\n",
       "  </tbody>\n",
       "</table>\n",
       "</div>"
      ],
      "text/plain": [
       "          schedule_gtfs_dataset_key  vp_per_min_agency  \\\n",
       "0  0139b1253130b33adcd4b3a4490530d2               2.52   \n",
       "1  0139b1253130b33adcd4b3a4490530d2               2.59   \n",
       "\n",
       "   spatial_accuracy_agency service_date  \n",
       "0                    67.36   2024-01-17  \n",
       "1                    59.87   2024-02-14  "
      ]
     },
     "execution_count": 10,
     "metadata": {},
     "output_type": "execute_result"
    }
   ],
   "source": [
    "rt_schedule_df.head(2)"
   ]
  },
  {
   "cell_type": "code",
   "execution_count": 11,
   "id": "1db86e33-5b8a-42c9-a41b-99171e1be26f",
   "metadata": {
    "tags": []
   },
   "outputs": [],
   "source": [
    "gdf = (\n",
    "    merge_operator_data.concatenate_operator_routes(analysis_date_list)\n",
    "    .pipe(merge_data.merge_in_standardized_route_names)\n",
    "    .pipe(\n",
    "        portfolio_utils.standardize_portfolio_organization_names,\n",
    "        PORTFOLIO_ORGANIZATIONS_DICT,\n",
    "    )\n",
    ")"
   ]
  },
  {
   "cell_type": "code",
   "execution_count": 12,
   "id": "85fde2be-0c8b-45ca-b60a-671951497eba",
   "metadata": {
    "tags": []
   },
   "outputs": [
    {
     "data": {
      "text/plain": [
       "Index(['shape_array_key', 'geometry', 'feed_key', 'schedule_gtfs_dataset_key',\n",
       "       'route_id', 'direction_id', 'route_key', 'route_length',\n",
       "       'route_length_miles', 'is_downtown_local', 'is_local', 'is_coverage',\n",
       "       'is_rapid', 'is_express', 'is_rail', 'is_ferry',\n",
       "       'organization_source_record_id', 'organization_name', 'service_date',\n",
       "       'portfolio_organization_name', 'name', 'combined_name',\n",
       "       'recent_combined_name', 'recent_route_id'],\n",
       "      dtype='object')"
      ]
     },
     "execution_count": 12,
     "metadata": {},
     "output_type": "execute_result"
    }
   ],
   "source": [
    "gdf.columns"
   ]
  },
  {
   "attachments": {
    "83e7cedb-8659-40c9-835a-7ade8e40d448.png": {
     "image/png": "[encoded data removed]"
    }
   },
   "cell_type": "markdown",
   "id": "529b9050-3c27-46c4-916b-d18a2cb6657f",
   "metadata": {},
   "source": [
    "### Task #1: Aggregate `crosswalk` to `portfolio_organization_name`\n",
    "* <i>Group by name-service_date-portfolio_organization_name to aggregate up to      portfolio_organization_name,because name indicates different feeds, so we want to sum those</i>. \n",
    "* AH: How do we account for situations when the different `organization_names` have different hq_cities, reporter_types, etc -> see Ventura County. we use these fields in this part of the portfolio. \n",
    "![image.png](attachment:83e7cedb-8659-40c9-835a-7ade8e40d448.png)"
   ]
  },
  {
   "cell_type": "code",
   "execution_count": 13,
   "id": "8c49b350-5c7d-4703-83b3-aa08006aa19c",
   "metadata": {
    "tags": []
   },
   "outputs": [],
   "source": [
    "crosswalk_df = merge_operator_data.concatenate_crosswalks(analysis_date_list)"
   ]
  },
  {
   "cell_type": "code",
   "execution_count": 14,
   "id": "055019d8-88bf-40d3-b0c0-f10663d053c8",
   "metadata": {
    "tags": []
   },
   "outputs": [
    {
     "data": {
      "text/html": [
       "<div>\n",
       "<style scoped>\n",
       "    .dataframe tbody tr th:only-of-type {\n",
       "        vertical-align: middle;\n",
       "    }\n",
       "\n",
       "    .dataframe tbody tr th {\n",
       "        vertical-align: top;\n",
       "    }\n",
       "\n",
       "    .dataframe thead th {\n",
       "        text-align: right;\n",
       "    }\n",
       "</style>\n",
       "<table border=\"1\" class=\"dataframe\">\n",
       "  <thead>\n",
       "    <tr style=\"text-align: right;\">\n",
       "      <th></th>\n",
       "      <th>schedule_gtfs_dataset_key</th>\n",
       "      <th>name</th>\n",
       "      <th>caltrans_district</th>\n",
       "      <th>service_area_sq_miles</th>\n",
       "      <th>hq_city</th>\n",
       "      <th>service_area_pop</th>\n",
       "      <th>organization_type</th>\n",
       "      <th>primary_uza_name</th>\n",
       "      <th>reporter_type</th>\n",
       "      <th>service_date</th>\n",
       "      <th>portfolio_organization_name</th>\n",
       "    </tr>\n",
       "  </thead>\n",
       "  <tbody>\n",
       "    <tr>\n",
       "      <th>0</th>\n",
       "      <td>0139b1253130b33adcd4b3a4490530d2</td>\n",
       "      <td>TCRTA TripShot Schedule</td>\n",
       "      <td>06 - Fresno / Bakersfield</td>\n",
       "      <td>4839</td>\n",
       "      <td>Visalia</td>\n",
       "      <td>473117</td>\n",
       "      <td>Independent Public Agency or Authority of Transit Service</td>\n",
       "      <td>Tulare, CA</td>\n",
       "      <td>Full Reporter</td>\n",
       "      <td>2024-01-17</td>\n",
       "      <td>Tulare County Regional Transit Agency</td>\n",
       "    </tr>\n",
       "  </tbody>\n",
       "</table>\n",
       "</div>"
      ],
      "text/plain": [
       "          schedule_gtfs_dataset_key                     name  \\\n",
       "0  0139b1253130b33adcd4b3a4490530d2  TCRTA TripShot Schedule   \n",
       "\n",
       "           caltrans_district  service_area_sq_miles  hq_city  \\\n",
       "0  06 - Fresno / Bakersfield                   4839  Visalia   \n",
       "\n",
       "   service_area_pop  \\\n",
       "0            473117   \n",
       "\n",
       "                                           organization_type primary_uza_name  \\\n",
       "0  Independent Public Agency or Authority of Transit Service       Tulare, CA   \n",
       "\n",
       "   reporter_type service_date            portfolio_organization_name  \n",
       "0  Full Reporter   2024-01-17  Tulare County Regional Transit Agency  "
      ]
     },
     "execution_count": 14,
     "metadata": {},
     "output_type": "execute_result"
    }
   ],
   "source": [
    "crosswalk_df.head(1)"
   ]
  },
  {
   "cell_type": "code",
   "execution_count": 15,
   "id": "a13dac89-514d-4646-a6a0-40be1f32d154",
   "metadata": {
    "tags": []
   },
   "outputs": [
    {
     "data": {
      "text/plain": [
       "(181, 2243, 201)"
      ]
     },
     "execution_count": 15,
     "metadata": {},
     "output_type": "execute_result"
    }
   ],
   "source": [
    "crosswalk_df.portfolio_organization_name.nunique(), len(\n",
    "    crosswalk_df\n",
    "), crosswalk_df.name.nunique()"
   ]
  },
  {
   "cell_type": "code",
   "execution_count": 16,
   "id": "86eafcc8-c261-4a16-ae7a-d3c8989e6ceb",
   "metadata": {
    "tags": []
   },
   "outputs": [
    {
     "data": {
      "text/plain": [
       "(177, 11)"
      ]
     },
     "execution_count": 16,
     "metadata": {},
     "output_type": "execute_result"
    }
   ],
   "source": [
    "crosswalk_df.loc[crosswalk_df.service_date == \"2024-01-17\"].shape"
   ]
  },
  {
   "cell_type": "code",
   "execution_count": 17,
   "id": "5cf38d02-a434-479b-a7d1-5bc389806209",
   "metadata": {
    "tags": []
   },
   "outputs": [
    {
     "data": {
      "text/plain": [
       "157"
      ]
     },
     "execution_count": 17,
     "metadata": {},
     "output_type": "execute_result"
    }
   ],
   "source": [
    "crosswalk_df.loc[crosswalk_df.service_date == \"2024-01-17\"][\n",
    "    \"portfolio_organization_name\"\n",
    "].nunique()"
   ]
  },
  {
   "cell_type": "code",
   "execution_count": 18,
   "id": "ab115c8e-ef92-4691-9882-530f46c246a5",
   "metadata": {
    "scrolled": true,
    "tags": []
   },
   "outputs": [
    {
     "data": {
      "text/html": [
       "<div>\n",
       "<style scoped>\n",
       "    .dataframe tbody tr th:only-of-type {\n",
       "        vertical-align: middle;\n",
       "    }\n",
       "\n",
       "    .dataframe tbody tr th {\n",
       "        vertical-align: top;\n",
       "    }\n",
       "\n",
       "    .dataframe thead th {\n",
       "        text-align: right;\n",
       "    }\n",
       "</style>\n",
       "<table border=\"1\" class=\"dataframe\">\n",
       "  <thead>\n",
       "    <tr style=\"text-align: right;\">\n",
       "      <th></th>\n",
       "      <th>schedule_gtfs_dataset_key</th>\n",
       "      <th>name</th>\n",
       "      <th>caltrans_district</th>\n",
       "      <th>service_area_sq_miles</th>\n",
       "      <th>hq_city</th>\n",
       "      <th>service_area_pop</th>\n",
       "      <th>organization_type</th>\n",
       "      <th>primary_uza_name</th>\n",
       "      <th>reporter_type</th>\n",
       "      <th>service_date</th>\n",
       "      <th>portfolio_organization_name</th>\n",
       "    </tr>\n",
       "  </thead>\n",
       "  <tbody>\n",
       "    <tr>\n",
       "      <th>225</th>\n",
       "      <td>1770249a5a2e770ca90628434d4934b1</td>\n",
       "      <td>VCTC GMV Schedule</td>\n",
       "      <td>07 - Los Angeles / Ventura</td>\n",
       "      <td>28</td>\n",
       "      <td>Camarillo</td>\n",
       "      <td>209877</td>\n",
       "      <td>Independent Public Agency or Authority of Transit Service</td>\n",
       "      <td>Oxnard--San Buenaventura (Ventura), CA</td>\n",
       "      <td>Full Reporter</td>\n",
       "      <td>2024-01-17</td>\n",
       "      <td>Ventura County (VCTC, Gold Coast, Cities of Camarillo, Moorpark, Ojai, Simi Valley, Thousand Oaks)</td>\n",
       "    </tr>\n",
       "    <tr>\n",
       "      <th>226</th>\n",
       "      <td>1770249a5a2e770ca90628434d4934b1</td>\n",
       "      <td>VCTC GMV Schedule</td>\n",
       "      <td>07 - Los Angeles / Ventura</td>\n",
       "      <td>50</td>\n",
       "      <td>Simi Valley</td>\n",
       "      <td>126356</td>\n",
       "      <td>City, County or Local Government Unit or Department of Transportation</td>\n",
       "      <td>Simi Valley, CA</td>\n",
       "      <td>Reduced Reporter</td>\n",
       "      <td>2024-01-17</td>\n",
       "      <td>Ventura County (VCTC, Gold Coast, Cities of Camarillo, Moorpark, Ojai, Simi Valley, Thousand Oaks)</td>\n",
       "    </tr>\n",
       "    <tr>\n",
       "      <th>227</th>\n",
       "      <td>1770249a5a2e770ca90628434d4934b1</td>\n",
       "      <td>VCTC GMV Schedule</td>\n",
       "      <td>07 - Los Angeles / Ventura</td>\n",
       "      <td>167</td>\n",
       "      <td>Thousand Oaks</td>\n",
       "      <td>420862</td>\n",
       "      <td>City, County or Local Government Unit or Department of Transportation</td>\n",
       "      <td>Thousand Oaks, CA</td>\n",
       "      <td>Reduced Reporter</td>\n",
       "      <td>2024-01-17</td>\n",
       "      <td>Ventura County (VCTC, Gold Coast, Cities of Camarillo, Moorpark, Ojai, Simi Valley, Thousand Oaks)</td>\n",
       "    </tr>\n",
       "    <tr>\n",
       "      <th>228</th>\n",
       "      <td>1770249a5a2e770ca90628434d4934b1</td>\n",
       "      <td>VCTC GMV Schedule</td>\n",
       "      <td>07 - Los Angeles / Ventura</td>\n",
       "      <td>20</td>\n",
       "      <td>Camarillo</td>\n",
       "      <td>68374</td>\n",
       "      <td>City, County or Local Government Unit or Department of Transportation</td>\n",
       "      <td>Camarillo, CA</td>\n",
       "      <td>Reduced Reporter</td>\n",
       "      <td>2024-01-17</td>\n",
       "      <td>Ventura County (VCTC, Gold Coast, Cities of Camarillo, Moorpark, Ojai, Simi Valley, Thousand Oaks)</td>\n",
       "    </tr>\n",
       "    <tr>\n",
       "      <th>229</th>\n",
       "      <td>1770249a5a2e770ca90628434d4934b1</td>\n",
       "      <td>VCTC GMV Schedule</td>\n",
       "      <td>07 - Los Angeles / Ventura</td>\n",
       "      <td>84</td>\n",
       "      <td>Oxnard</td>\n",
       "      <td>374827</td>\n",
       "      <td>Independent Public Agency or Authority of Transit Service</td>\n",
       "      <td>Oxnard--San Buenaventura (Ventura), CA</td>\n",
       "      <td>Full Reporter</td>\n",
       "      <td>2024-01-17</td>\n",
       "      <td>Ventura County (VCTC, Gold Coast, Cities of Camarillo, Moorpark, Ojai, Simi Valley, Thousand Oaks)</td>\n",
       "    </tr>\n",
       "    <tr>\n",
       "      <th>230</th>\n",
       "      <td>1770249a5a2e770ca90628434d4934b1</td>\n",
       "      <td>VCTC GMV Schedule</td>\n",
       "      <td>07 - Los Angeles / Ventura</td>\n",
       "      <td>12</td>\n",
       "      <td>Moorpark</td>\n",
       "      <td>35975</td>\n",
       "      <td>City, County or Local Government Unit or Department of Transportation</td>\n",
       "      <td>Thousand Oaks, CA</td>\n",
       "      <td>Reduced Reporter</td>\n",
       "      <td>2024-01-17</td>\n",
       "      <td>Ventura County (VCTC, Gold Coast, Cities of Camarillo, Moorpark, Ojai, Simi Valley, Thousand Oaks)</td>\n",
       "    </tr>\n",
       "    <tr>\n",
       "      <th>231</th>\n",
       "      <td>1770249a5a2e770ca90628434d4934b1</td>\n",
       "      <td>VCTC GMV Schedule</td>\n",
       "      <td>07 - Los Angeles / Ventura</td>\n",
       "      <td>&lt;NA&gt;</td>\n",
       "      <td>Ojai</td>\n",
       "      <td>&lt;NA&gt;</td>\n",
       "      <td>City, County or Local Government Unit or Department of Transportation</td>\n",
       "      <td>None</td>\n",
       "      <td>Rural Reporter</td>\n",
       "      <td>2024-01-17</td>\n",
       "      <td>Ventura County (VCTC, Gold Coast, Cities of Camarillo, Moorpark, Ojai, Simi Valley, Thousand Oaks)</td>\n",
       "    </tr>\n",
       "  </tbody>\n",
       "</table>\n",
       "</div>"
      ],
      "text/plain": [
       "            schedule_gtfs_dataset_key               name  \\\n",
       "225  1770249a5a2e770ca90628434d4934b1  VCTC GMV Schedule   \n",
       "226  1770249a5a2e770ca90628434d4934b1  VCTC GMV Schedule   \n",
       "227  1770249a5a2e770ca90628434d4934b1  VCTC GMV Schedule   \n",
       "228  1770249a5a2e770ca90628434d4934b1  VCTC GMV Schedule   \n",
       "229  1770249a5a2e770ca90628434d4934b1  VCTC GMV Schedule   \n",
       "230  1770249a5a2e770ca90628434d4934b1  VCTC GMV Schedule   \n",
       "231  1770249a5a2e770ca90628434d4934b1  VCTC GMV Schedule   \n",
       "\n",
       "              caltrans_district  service_area_sq_miles        hq_city  \\\n",
       "225  07 - Los Angeles / Ventura                     28      Camarillo   \n",
       "226  07 - Los Angeles / Ventura                     50    Simi Valley   \n",
       "227  07 - Los Angeles / Ventura                    167  Thousand Oaks   \n",
       "228  07 - Los Angeles / Ventura                     20      Camarillo   \n",
       "229  07 - Los Angeles / Ventura                     84         Oxnard   \n",
       "230  07 - Los Angeles / Ventura                     12       Moorpark   \n",
       "231  07 - Los Angeles / Ventura                   <NA>           Ojai   \n",
       "\n",
       "     service_area_pop  \\\n",
       "225            209877   \n",
       "226            126356   \n",
       "227            420862   \n",
       "228             68374   \n",
       "229            374827   \n",
       "230             35975   \n",
       "231              <NA>   \n",
       "\n",
       "                                                         organization_type  \\\n",
       "225              Independent Public Agency or Authority of Transit Service   \n",
       "226  City, County or Local Government Unit or Department of Transportation   \n",
       "227  City, County or Local Government Unit or Department of Transportation   \n",
       "228  City, County or Local Government Unit or Department of Transportation   \n",
       "229              Independent Public Agency or Authority of Transit Service   \n",
       "230  City, County or Local Government Unit or Department of Transportation   \n",
       "231  City, County or Local Government Unit or Department of Transportation   \n",
       "\n",
       "                           primary_uza_name     reporter_type service_date  \\\n",
       "225  Oxnard--San Buenaventura (Ventura), CA     Full Reporter   2024-01-17   \n",
       "226                         Simi Valley, CA  Reduced Reporter   2024-01-17   \n",
       "227                       Thousand Oaks, CA  Reduced Reporter   2024-01-17   \n",
       "228                           Camarillo, CA  Reduced Reporter   2024-01-17   \n",
       "229  Oxnard--San Buenaventura (Ventura), CA     Full Reporter   2024-01-17   \n",
       "230                       Thousand Oaks, CA  Reduced Reporter   2024-01-17   \n",
       "231                                    None    Rural Reporter   2024-01-17   \n",
       "\n",
       "                                                                            portfolio_organization_name  \n",
       "225  Ventura County (VCTC, Gold Coast, Cities of Camarillo, Moorpark, Ojai, Simi Valley, Thousand Oaks)  \n",
       "226  Ventura County (VCTC, Gold Coast, Cities of Camarillo, Moorpark, Ojai, Simi Valley, Thousand Oaks)  \n",
       "227  Ventura County (VCTC, Gold Coast, Cities of Camarillo, Moorpark, Ojai, Simi Valley, Thousand Oaks)  \n",
       "228  Ventura County (VCTC, Gold Coast, Cities of Camarillo, Moorpark, Ojai, Simi Valley, Thousand Oaks)  \n",
       "229  Ventura County (VCTC, Gold Coast, Cities of Camarillo, Moorpark, Ojai, Simi Valley, Thousand Oaks)  \n",
       "230  Ventura County (VCTC, Gold Coast, Cities of Camarillo, Moorpark, Ojai, Simi Valley, Thousand Oaks)  \n",
       "231  Ventura County (VCTC, Gold Coast, Cities of Camarillo, Moorpark, Ojai, Simi Valley, Thousand Oaks)  "
      ]
     },
     "execution_count": 18,
     "metadata": {},
     "output_type": "execute_result"
    }
   ],
   "source": [
    "crosswalk_df.loc[\n",
    "    (crosswalk_df.service_date == \"2024-01-17\")\n",
    "    & (\n",
    "        crosswalk_df.portfolio_organization_name\n",
    "        == \"Ventura County (VCTC, Gold Coast, Cities of Camarillo, Moorpark, Ojai, Simi Valley, Thousand Oaks)\"\n",
    "    )\n",
    "]"
   ]
  },
  {
   "cell_type": "code",
   "execution_count": 19,
   "id": "c4c93f80-3fdc-420c-96a0-b62b59491f8d",
   "metadata": {
    "tags": []
   },
   "outputs": [],
   "source": [
    "operator_df = merge_operator_data.merge_data_sources_by_operator(\n",
    "    schedule_df, rt_schedule_df, crosswalk_df\n",
    ")"
   ]
  },
  {
   "cell_type": "code",
   "execution_count": 20,
   "id": "f892b275-13cb-4d27-83d6-d31c85dc23a2",
   "metadata": {
    "tags": []
   },
   "outputs": [
    {
     "data": {
      "text/html": [
       "<div>\n",
       "<style scoped>\n",
       "    .dataframe tbody tr th:only-of-type {\n",
       "        vertical-align: middle;\n",
       "    }\n",
       "\n",
       "    .dataframe tbody tr th {\n",
       "        vertical-align: top;\n",
       "    }\n",
       "\n",
       "    .dataframe thead th {\n",
       "        text-align: right;\n",
       "    }\n",
       "</style>\n",
       "<table border=\"1\" class=\"dataframe\">\n",
       "  <thead>\n",
       "    <tr style=\"text-align: right;\">\n",
       "      <th></th>\n",
       "      <th>schedule_gtfs_dataset_key</th>\n",
       "      <th>operator_n_routes</th>\n",
       "      <th>operator_n_trips</th>\n",
       "      <th>operator_n_shapes</th>\n",
       "      <th>operator_n_stops</th>\n",
       "      <th>operator_n_arrivals</th>\n",
       "      <th>operator_route_length_miles</th>\n",
       "      <th>operator_arrivals_per_stop</th>\n",
       "      <th>n_downtown_local_routes</th>\n",
       "      <th>n_local_routes</th>\n",
       "      <th>n_coverage_routes</th>\n",
       "      <th>n_rapid_routes</th>\n",
       "      <th>n_express_routes</th>\n",
       "      <th>n_rail_routes</th>\n",
       "      <th>n_ferry_routes</th>\n",
       "      <th>name</th>\n",
       "      <th>organization_source_record_id</th>\n",
       "      <th>organization_name</th>\n",
       "      <th>service_date</th>\n",
       "      <th>vp_per_min_agency</th>\n",
       "      <th>spatial_accuracy_agency</th>\n",
       "      <th>caltrans_district</th>\n",
       "      <th>service_area_sq_miles</th>\n",
       "      <th>hq_city</th>\n",
       "      <th>service_area_pop</th>\n",
       "      <th>organization_type</th>\n",
       "      <th>primary_uza_name</th>\n",
       "      <th>reporter_type</th>\n",
       "      <th>portfolio_organization_name</th>\n",
       "    </tr>\n",
       "  </thead>\n",
       "  <tbody>\n",
       "    <tr>\n",
       "      <th>0</th>\n",
       "      <td>0139b1253130b33adcd4b3a4490530d2</td>\n",
       "      <td>30</td>\n",
       "      <td>421</td>\n",
       "      <td>204</td>\n",
       "      <td>513</td>\n",
       "      <td>7985</td>\n",
       "      <td>612.87</td>\n",
       "      <td>15.57</td>\n",
       "      <td>0</td>\n",
       "      <td>0</td>\n",
       "      <td>32</td>\n",
       "      <td>27</td>\n",
       "      <td>0</td>\n",
       "      <td>0</td>\n",
       "      <td>0</td>\n",
       "      <td>TCRTA TripShot Schedule</td>\n",
       "      <td>rec4YWVqVwJ9XqDbq</td>\n",
       "      <td>Tulare County Regional Transit Agency</td>\n",
       "      <td>2024-01-17</td>\n",
       "      <td>2.52</td>\n",
       "      <td>67.36</td>\n",
       "      <td>06 - Fresno / Bakersfield</td>\n",
       "      <td>4839</td>\n",
       "      <td>Visalia</td>\n",
       "      <td>473117</td>\n",
       "      <td>Independent Public Agency or Authority of Transit Service</td>\n",
       "      <td>Tulare, CA</td>\n",
       "      <td>Full Reporter</td>\n",
       "      <td>Tulare County Regional Transit Agency</td>\n",
       "    </tr>\n",
       "  </tbody>\n",
       "</table>\n",
       "</div>"
      ],
      "text/plain": [
       "          schedule_gtfs_dataset_key  operator_n_routes  operator_n_trips  \\\n",
       "0  0139b1253130b33adcd4b3a4490530d2                 30               421   \n",
       "\n",
       "   operator_n_shapes  operator_n_stops  operator_n_arrivals  \\\n",
       "0                204               513                 7985   \n",
       "\n",
       "   operator_route_length_miles  operator_arrivals_per_stop  \\\n",
       "0                       612.87                       15.57   \n",
       "\n",
       "   n_downtown_local_routes  n_local_routes  n_coverage_routes  n_rapid_routes  \\\n",
       "0                        0               0                 32              27   \n",
       "\n",
       "   n_express_routes  n_rail_routes  n_ferry_routes                     name  \\\n",
       "0                 0              0               0  TCRTA TripShot Schedule   \n",
       "\n",
       "  organization_source_record_id                      organization_name  \\\n",
       "0             rec4YWVqVwJ9XqDbq  Tulare County Regional Transit Agency   \n",
       "\n",
       "  service_date  vp_per_min_agency  spatial_accuracy_agency  \\\n",
       "0   2024-01-17               2.52                    67.36   \n",
       "\n",
       "           caltrans_district  service_area_sq_miles  hq_city  \\\n",
       "0  06 - Fresno / Bakersfield                   4839  Visalia   \n",
       "\n",
       "   service_area_pop  \\\n",
       "0            473117   \n",
       "\n",
       "                                           organization_type primary_uza_name  \\\n",
       "0  Independent Public Agency or Authority of Transit Service       Tulare, CA   \n",
       "\n",
       "   reporter_type            portfolio_organization_name  \n",
       "0  Full Reporter  Tulare County Regional Transit Agency  "
      ]
     },
     "execution_count": 20,
     "metadata": {},
     "output_type": "execute_result"
    }
   ],
   "source": [
    "operator_df.head(1)"
   ]
  },
  {
   "cell_type": "markdown",
   "id": "631a3c71-1032-40ae-86e8-db8319e5cc87",
   "metadata": {},
   "source": [
    "### Task #2: \n",
    "* Is there a short/long route, can it be flagged per date as a new column here?\n",
    "* Piping the `portfolio_organization_name` goes at the end, "
   ]
  },
  {
   "cell_type": "code",
   "execution_count": 21,
   "id": "5dac0618-62d7-4349-8e3a-d9af0cc5d7eb",
   "metadata": {
    "tags": []
   },
   "outputs": [],
   "source": [
    "FILE = GTFS_DATA_DICT.schedule_tables.operator_routes\n",
    "\n",
    "concatenate_schedule_operator_metrics_df = (\n",
    "    time_series_utils.concatenate_datasets_across_dates(\n",
    "        SCHED_GCS,\n",
    "        FILE,\n",
    "        analysis_date_list,\n",
    "        data_type=\"gdf\",\n",
    "    )\n",
    "    .sort_values([\"schedule_gtfs_dataset_key\", \"service_date\"])\n",
    "    .reset_index(drop=True)\n",
    "    .pipe(\n",
    "        portfolio_utils.standardize_portfolio_organization_names,\n",
    "        PORTFOLIO_ORGANIZATIONS_DICT,\n",
    "    )\n",
    ")"
   ]
  },
  {
   "cell_type": "code",
   "execution_count": 22,
   "id": "507f5f16-3788-47f2-8bff-a453d34997ff",
   "metadata": {
    "tags": []
   },
   "outputs": [
    {
     "data": {
      "text/plain": [
       "Index(['shape_array_key', 'geometry', 'feed_key', 'schedule_gtfs_dataset_key',\n",
       "       'route_id', 'direction_id', 'route_key', 'route_length',\n",
       "       'route_length_miles', 'is_downtown_local', 'is_local', 'is_coverage',\n",
       "       'is_rapid', 'is_express', 'is_rail', 'is_ferry', 'name',\n",
       "       'organization_source_record_id', 'organization_name', 'service_date',\n",
       "       'portfolio_organization_name'],\n",
       "      dtype='object')"
      ]
     },
     "execution_count": 22,
     "metadata": {},
     "output_type": "execute_result"
    }
   ],
   "source": [
    "concatenate_schedule_operator_metrics_df.columns"
   ]
  },
  {
   "cell_type": "code",
   "execution_count": 23,
   "id": "ec65d0de-9193-44e6-aaa2-dc523c2739ba",
   "metadata": {
    "tags": []
   },
   "outputs": [
    {
     "data": {
      "text/html": [
       "<div>\n",
       "<style scoped>\n",
       "    .dataframe tbody tr th:only-of-type {\n",
       "        vertical-align: middle;\n",
       "    }\n",
       "\n",
       "    .dataframe tbody tr th {\n",
       "        vertical-align: top;\n",
       "    }\n",
       "\n",
       "    .dataframe thead th {\n",
       "        text-align: right;\n",
       "    }\n",
       "</style>\n",
       "<table border=\"1\" class=\"dataframe\">\n",
       "  <thead>\n",
       "    <tr style=\"text-align: right;\">\n",
       "      <th></th>\n",
       "      <th>route_id</th>\n",
       "      <th>route_key</th>\n",
       "    </tr>\n",
       "  </thead>\n",
       "  <tbody>\n",
       "    <tr>\n",
       "      <th>2198</th>\n",
       "      <td>6465</td>\n",
       "      <td>92e671b13c75d4a2a1f06a23b8c8c8b1</td>\n",
       "    </tr>\n",
       "    <tr>\n",
       "      <th>39625</th>\n",
       "      <td>480</td>\n",
       "      <td>d97dfb43de9a02e6330f9ffb97a90c51</td>\n",
       "    </tr>\n",
       "    <tr>\n",
       "      <th>32669</th>\n",
       "      <td>662</td>\n",
       "      <td>64f7a4c65c31381aebec93552c46e3f4</td>\n",
       "    </tr>\n",
       "  </tbody>\n",
       "</table>\n",
       "</div>"
      ],
      "text/plain": [
       "      route_id                         route_key\n",
       "2198      6465  92e671b13c75d4a2a1f06a23b8c8c8b1\n",
       "39625      480  d97dfb43de9a02e6330f9ffb97a90c51\n",
       "32669      662  64f7a4c65c31381aebec93552c46e3f4"
      ]
     },
     "execution_count": 23,
     "metadata": {},
     "output_type": "execute_result"
    }
   ],
   "source": [
    "concatenate_schedule_operator_metrics_df[[\"route_id\", \"route_key\"]].sample(3)"
   ]
  },
  {
   "cell_type": "code",
   "execution_count": 24,
   "id": "a29e0a70-0fcf-4f17-ad49-624eb1cfa47d",
   "metadata": {
    "tags": []
   },
   "outputs": [],
   "source": [
    "concatenate_schedule_operator_metrics_subset = concatenate_schedule_operator_metrics_df[\n",
    "    [\n",
    "        \"portfolio_organization_name\",\n",
    "        \"route_id\",\n",
    "        \"route_length_miles\",\n",
    "        \"service_date\",\n",
    "    ]\n",
    "]"
   ]
  },
  {
   "cell_type": "code",
   "execution_count": 25,
   "id": "4c301629-b3ac-4597-a30b-c4b1f891cbb5",
   "metadata": {
    "tags": []
   },
   "outputs": [
    {
     "data": {
      "text/plain": [
       "(40525, 40525)"
      ]
     },
     "execution_count": 25,
     "metadata": {},
     "output_type": "execute_result"
    }
   ],
   "source": [
    "len(concatenate_schedule_operator_metrics_subset), len(concatenate_schedule_operator_metrics_df)"
   ]
  },
  {
   "cell_type": "code",
   "execution_count": 26,
   "id": "d04607a4-f32d-4ba3-be5b-c377c257d56b",
   "metadata": {
    "tags": []
   },
   "outputs": [],
   "source": [
    "concatenate_schedule_operator_metrics_subset = concatenate_schedule_operator_metrics_subset.drop_duplicates()"
   ]
  },
  {
   "cell_type": "code",
   "execution_count": 27,
   "id": "1e742bfa-c2a4-4a2a-a629-9dbc176451e1",
   "metadata": {
    "tags": []
   },
   "outputs": [
    {
     "data": {
      "text/plain": [
       "29113"
      ]
     },
     "execution_count": 27,
     "metadata": {},
     "output_type": "execute_result"
    }
   ],
   "source": [
    "len(concatenate_schedule_operator_metrics_subset)"
   ]
  },
  {
   "cell_type": "code",
   "execution_count": 28,
   "id": "75a1dcf0-04db-4614-8c46-cf8f5e9127cf",
   "metadata": {
    "tags": []
   },
   "outputs": [],
   "source": [
    "def get_min_max(group):\n",
    "    min_row = group.nsmallest(1, \"route_length_miles\").assign(\n",
    "        long_short_route=\"shortest\"\n",
    "    )\n",
    "    max_row = group.nlargest(1, \"route_length_miles\").assign(long_short_route=\"longest\")\n",
    "    return pd.concat([min_row, max_row])"
   ]
  },
  {
   "cell_type": "code",
   "execution_count": 29,
   "id": "c1a057d7-7119-43a8-9d6f-874f2eb0b00a",
   "metadata": {
    "tags": []
   },
   "outputs": [],
   "source": [
    "longest_shortest_route = (\n",
    "    concatenate_schedule_operator_metrics_subset.groupby(\n",
    "        [\"service_date\", \"portfolio_organization_name\"]\n",
    "    )\n",
    "    .apply(get_min_max)\n",
    "    .drop(columns=[\"route_length_miles\"])\n",
    "    .reset_index(drop=True)\n",
    ")"
   ]
  },
  {
   "cell_type": "code",
   "execution_count": 30,
   "id": "f6c10e3b-e0be-4bb5-b1e0-58af2c337bcb",
   "metadata": {
    "tags": []
   },
   "outputs": [
    {
     "data": {
      "text/plain": [
       "3838"
      ]
     },
     "execution_count": 30,
     "metadata": {},
     "output_type": "execute_result"
    }
   ],
   "source": [
    "len(longest_shortest_route)"
   ]
  },
  {
   "cell_type": "code",
   "execution_count": 31,
   "id": "df6a0ab7-ae01-4d45-87c6-e45abafec9af",
   "metadata": {
    "scrolled": true,
    "tags": []
   },
   "outputs": [],
   "source": [
    "# longest_shortest_route.groupby([\"service_date\", \"portfolio_organization_name\"]).agg(\n",
    "#    {\"route_id\": \"nunique\"}\n",
    "# )"
   ]
  },
  {
   "cell_type": "code",
   "execution_count": 32,
   "id": "a4ef469c-15a3-4e20-8e20-c12d1ff558ee",
   "metadata": {
    "tags": []
   },
   "outputs": [
    {
     "data": {
      "text/plain": [
       "Alameda-Contra Costa Transit District                  2\n",
       "POINT                                                  2\n",
       "Mountain Area Regional Transit Authority               2\n",
       "Mountain View Transportation Management Association    2\n",
       "Napa Valley Transportation Authority                   2\n",
       "Name: portfolio_organization_name, dtype: int64"
      ]
     },
     "execution_count": 32,
     "metadata": {},
     "output_type": "execute_result"
    }
   ],
   "source": [
    "longest_shortest_route.loc[\n",
    "    longest_shortest_route.service_date == \"2024-01-17\"\n",
    "].portfolio_organization_name.value_counts().head()"
   ]
  },
  {
   "cell_type": "code",
   "execution_count": 33,
   "id": "5aaffa1f-2964-45d1-a3c5-5fd851d07b14",
   "metadata": {
    "tags": []
   },
   "outputs": [
    {
     "data": {
      "text/html": [
       "<div>\n",
       "<style scoped>\n",
       "    .dataframe tbody tr th:only-of-type {\n",
       "        vertical-align: middle;\n",
       "    }\n",
       "\n",
       "    .dataframe tbody tr th {\n",
       "        vertical-align: top;\n",
       "    }\n",
       "\n",
       "    .dataframe thead th {\n",
       "        text-align: right;\n",
       "    }\n",
       "</style>\n",
       "<table border=\"1\" class=\"dataframe\">\n",
       "  <thead>\n",
       "    <tr style=\"text-align: right;\">\n",
       "      <th></th>\n",
       "      <th>portfolio_organization_name</th>\n",
       "      <th>route_id</th>\n",
       "      <th>service_date</th>\n",
       "      <th>long_short_route</th>\n",
       "    </tr>\n",
       "  </thead>\n",
       "  <tbody>\n",
       "    <tr>\n",
       "      <th>1022</th>\n",
       "      <td>City of Gardena</td>\n",
       "      <td>4SCH</td>\n",
       "      <td>2024-04-17</td>\n",
       "      <td>shortest</td>\n",
       "    </tr>\n",
       "  </tbody>\n",
       "</table>\n",
       "</div>"
      ],
      "text/plain": [
       "     portfolio_organization_name route_id service_date long_short_route\n",
       "1022             City of Gardena     4SCH   2024-04-17         shortest"
      ]
     },
     "execution_count": 33,
     "metadata": {},
     "output_type": "execute_result"
    }
   ],
   "source": [
    "longest_shortest_route.sample()"
   ]
  },
  {
   "cell_type": "markdown",
   "id": "67a6c7df-9d82-41ad-802d-2f9bc68c4a02",
   "metadata": {},
   "source": [
    "### Why are there extra rows popping up?"
   ]
  },
  {
   "cell_type": "code",
   "execution_count": 34,
   "id": "f344179a-1016-45e4-8072-a7511bb95519",
   "metadata": {
    "tags": []
   },
   "outputs": [],
   "source": [
    "#  Merge back with a left join\n",
    "m1 = pd.merge(\n",
    "    concatenate_schedule_operator_metrics_df,\n",
    "    longest_shortest_route,\n",
    "    on=[\"portfolio_organization_name\", \"route_id\", \"service_date\"],\n",
    "    how=\"outer\",\n",
    "    indicator=True,\n",
    ")"
   ]
  },
  {
   "cell_type": "code",
   "execution_count": 35,
   "id": "dbd6c5bb-76c7-4e11-b4e1-55b3fe015270",
   "metadata": {
    "tags": []
   },
   "outputs": [
    {
     "data": {
      "text/plain": [
       "40525"
      ]
     },
     "execution_count": 35,
     "metadata": {},
     "output_type": "execute_result"
    }
   ],
   "source": [
    "len(concatenate_schedule_operator_metrics_df)"
   ]
  },
  {
   "cell_type": "code",
   "execution_count": 36,
   "id": "42f86bf9-f8fe-4110-9c23-ec849cefafa4",
   "metadata": {
    "tags": []
   },
   "outputs": [
    {
     "data": {
      "text/plain": [
       "40797"
      ]
     },
     "execution_count": 36,
     "metadata": {},
     "output_type": "execute_result"
    }
   ],
   "source": [
    "len(m1)"
   ]
  },
  {
   "cell_type": "code",
   "execution_count": 37,
   "id": "762109d9-711c-449c-918b-8f1c50f1a072",
   "metadata": {
    "tags": []
   },
   "outputs": [
    {
     "data": {
      "text/plain": [
       "left_only     36476\n",
       "both           4321\n",
       "right_only        0\n",
       "Name: _merge, dtype: int64"
      ]
     },
     "execution_count": 37,
     "metadata": {},
     "output_type": "execute_result"
    }
   ],
   "source": [
    "m1._merge.value_counts()"
   ]
  },
  {
   "cell_type": "code",
   "execution_count": 38,
   "id": "e0eef798-87cf-45ae-8b56-3b89fb94b4ed",
   "metadata": {
    "tags": []
   },
   "outputs": [
    {
     "data": {
      "text/plain": [
       "272"
      ]
     },
     "execution_count": 38,
     "metadata": {},
     "output_type": "execute_result"
    }
   ],
   "source": [
    "len(m1) - len(concatenate_schedule_operator_metrics_df)"
   ]
  },
  {
   "cell_type": "code",
   "execution_count": 39,
   "id": "af4fbb79-b1c0-45cd-ad9d-10e06950991b",
   "metadata": {
    "tags": []
   },
   "outputs": [],
   "source": [
    "def find_percentiles(df:pd.DataFrame, col_of_interest: str)->pd.DataFrame:\n",
    "    \"\"\"\n",
    "    Take a column you're interested in and categorize it by row\n",
    "    for each percentile group it belongs to. \n",
    "    \"\"\"\n",
    "    # Get percentiles in objects for total vehicle.\n",
    "    p25 = df[col_of_interest].quantile(0.25).astype(float)\n",
    "    p50 = df[col_of_interest].quantile(0.50).astype(float)\n",
    "    p75 = df[col_of_interest].quantile(0.75).astype(float)\n",
    "\n",
    "    # Make a dataframe out of this \n",
    "    percentile_data = {\n",
    "    f\"{col_of_interest}_percentile\": [\n",
    "        \"25th percentile\",\n",
    "        \"50th percentile\",\n",
    "        \"< 75th percentile\",\n",
    "        \"> 75th percentile\",\n",
    "    ],\n",
    "    \"percentile_group\": [\n",
    "        f\"25 percentile (<={p25.astype(int)} miles)\",\n",
    "        f\"26-50th percentile ({p25.astype(int) + 0.1}-{p50.astype(int)} miles)\",\n",
    "        f\"51-75th percentile ({p50.astype(int) + 0.1}-{p75.astype(int)} miles)\",\n",
    "        f\"76th percentile (>={p75.astype(int) + 0.1} miles)\",\n",
    "    ],\n",
    "}\n",
    "    percentile_df = pd.DataFrame(data=percentile_data)\n",
    "    \n",
    "    def categorize_percentile(row):\n",
    "        if (row[col_of_interest] > 0) and (row[col_of_interest] <= p25):\n",
    "            return \"25th percentile\"\n",
    "        elif (row[col_of_interest] > p25) and (row[col_of_interest] <= p50):\n",
    "            return \"50th percentile\"\n",
    "        elif (row[col_of_interest] > p50) and (row[col_of_interest] <= p75):\n",
    "            return \"< 75th percentile\"\n",
    "        elif row[col_of_interest] > p75:\n",
    "            return \"> 75th percentile\"\n",
    "        else:\n",
    "            return \"Zero\"\n",
    "\n",
    "    # Actually categorize each value for percentile\n",
    "    df[f\"{col_of_interest}_percentile\"] = df.apply(\n",
    "        lambda x: categorize_percentile(x), axis=1\n",
    "    )\n",
    "\n",
    "    # Delete out routes w/o service mile info\n",
    "    df = df.loc[\n",
    "    df[f\"{col_of_interest}_percentile\"] != \"Zero\"\n",
    "    ]\n",
    "    \n",
    "    # Merge the dataframes\n",
    "    df2 = pd.merge(df, percentile_df, on = f\"{col_of_interest}_percentile\")\n",
    "    return df2"
   ]
  },
  {
   "cell_type": "code",
   "execution_count": 40,
   "id": "065607a8-919c-4607-9c4f-4008726c6990",
   "metadata": {
    "tags": []
   },
   "outputs": [],
   "source": [
    "# Delete out nan route_length_miles\n",
    "concatenate_schedule_operator_metrics_subset2 = (\n",
    "    concatenate_schedule_operator_metrics_subset.loc[\n",
    "        concatenate_schedule_operator_metrics_subset.route_length_miles.notna()\n",
    "    ]\n",
    ")"
   ]
  },
  {
   "cell_type": "code",
   "execution_count": 41,
   "id": "f15d33d3-0d79-415a-a9a5-7f439a76f011",
   "metadata": {
    "tags": []
   },
   "outputs": [
    {
     "data": {
      "text/plain": [
       "29050"
      ]
     },
     "execution_count": 41,
     "metadata": {},
     "output_type": "execute_result"
    }
   ],
   "source": [
    "len(concatenate_schedule_operator_metrics_subset2)"
   ]
  },
  {
   "cell_type": "code",
   "execution_count": 42,
   "id": "034d6b55-b829-4d6e-b43d-fdd611787324",
   "metadata": {
    "scrolled": true,
    "tags": []
   },
   "outputs": [
    {
     "name": "stderr",
     "output_type": "stream",
     "text": [
      "/tmp/ipykernel_972/777939519.py:41: SettingWithCopyWarning: \n",
      "A value is trying to be set on a copy of a slice from a DataFrame.\n",
      "Try using .loc[row_indexer,col_indexer] = value instead\n",
      "\n",
      "See the caveats in the documentation: https://pandas.pydata.org/pandas-docs/stable/user_guide/indexing.html#returning-a-view-versus-a-copy\n",
      "  df[f\"{col_of_interest}_percentile\"] = df.apply(\n",
      "/tmp/ipykernel_972/777939519.py:41: SettingWithCopyWarning: \n",
      "A value is trying to be set on a copy of a slice from a DataFrame.\n",
      "Try using .loc[row_indexer,col_indexer] = value instead\n",
      "\n",
      "See the caveats in the documentation: https://pandas.pydata.org/pandas-docs/stable/user_guide/indexing.html#returning-a-view-versus-a-copy\n",
      "  df[f\"{col_of_interest}_percentile\"] = df.apply(\n",
      "/tmp/ipykernel_972/777939519.py:41: SettingWithCopyWarning: \n",
      "A value is trying to be set on a copy of a slice from a DataFrame.\n",
      "Try using .loc[row_indexer,col_indexer] = value instead\n",
      "\n",
      "See the caveats in the documentation: https://pandas.pydata.org/pandas-docs/stable/user_guide/indexing.html#returning-a-view-versus-a-copy\n",
      "  df[f\"{col_of_interest}_percentile\"] = df.apply(\n",
      "/tmp/ipykernel_972/777939519.py:41: SettingWithCopyWarning: \n",
      "A value is trying to be set on a copy of a slice from a DataFrame.\n",
      "Try using .loc[row_indexer,col_indexer] = value instead\n",
      "\n",
      "See the caveats in the documentation: https://pandas.pydata.org/pandas-docs/stable/user_guide/indexing.html#returning-a-view-versus-a-copy\n",
      "  df[f\"{col_of_interest}_percentile\"] = df.apply(\n",
      "/tmp/ipykernel_972/777939519.py:41: SettingWithCopyWarning: \n",
      "A value is trying to be set on a copy of a slice from a DataFrame.\n",
      "Try using .loc[row_indexer,col_indexer] = value instead\n",
      "\n",
      "See the caveats in the documentation: https://pandas.pydata.org/pandas-docs/stable/user_guide/indexing.html#returning-a-view-versus-a-copy\n",
      "  df[f\"{col_of_interest}_percentile\"] = df.apply(\n",
      "/tmp/ipykernel_972/777939519.py:41: SettingWithCopyWarning: \n",
      "A value is trying to be set on a copy of a slice from a DataFrame.\n",
      "Try using .loc[row_indexer,col_indexer] = value instead\n",
      "\n",
      "See the caveats in the documentation: https://pandas.pydata.org/pandas-docs/stable/user_guide/indexing.html#returning-a-view-versus-a-copy\n",
      "  df[f\"{col_of_interest}_percentile\"] = df.apply(\n",
      "/tmp/ipykernel_972/777939519.py:41: SettingWithCopyWarning: \n",
      "A value is trying to be set on a copy of a slice from a DataFrame.\n",
      "Try using .loc[row_indexer,col_indexer] = value instead\n",
      "\n",
      "See the caveats in the documentation: https://pandas.pydata.org/pandas-docs/stable/user_guide/indexing.html#returning-a-view-versus-a-copy\n",
      "  df[f\"{col_of_interest}_percentile\"] = df.apply(\n",
      "/tmp/ipykernel_972/777939519.py:41: SettingWithCopyWarning: \n",
      "A value is trying to be set on a copy of a slice from a DataFrame.\n",
      "Try using .loc[row_indexer,col_indexer] = value instead\n",
      "\n",
      "See the caveats in the documentation: https://pandas.pydata.org/pandas-docs/stable/user_guide/indexing.html#returning-a-view-versus-a-copy\n",
      "  df[f\"{col_of_interest}_percentile\"] = df.apply(\n",
      "/tmp/ipykernel_972/777939519.py:41: SettingWithCopyWarning: \n",
      "A value is trying to be set on a copy of a slice from a DataFrame.\n",
      "Try using .loc[row_indexer,col_indexer] = value instead\n",
      "\n",
      "See the caveats in the documentation: https://pandas.pydata.org/pandas-docs/stable/user_guide/indexing.html#returning-a-view-versus-a-copy\n",
      "  df[f\"{col_of_interest}_percentile\"] = df.apply(\n",
      "/tmp/ipykernel_972/777939519.py:41: SettingWithCopyWarning: \n",
      "A value is trying to be set on a copy of a slice from a DataFrame.\n",
      "Try using .loc[row_indexer,col_indexer] = value instead\n",
      "\n",
      "See the caveats in the documentation: https://pandas.pydata.org/pandas-docs/stable/user_guide/indexing.html#returning-a-view-versus-a-copy\n",
      "  df[f\"{col_of_interest}_percentile\"] = df.apply(\n",
      "/tmp/ipykernel_972/777939519.py:41: SettingWithCopyWarning: \n",
      "A value is trying to be set on a copy of a slice from a DataFrame.\n",
      "Try using .loc[row_indexer,col_indexer] = value instead\n",
      "\n",
      "See the caveats in the documentation: https://pandas.pydata.org/pandas-docs/stable/user_guide/indexing.html#returning-a-view-versus-a-copy\n",
      "  df[f\"{col_of_interest}_percentile\"] = df.apply(\n",
      "/tmp/ipykernel_972/777939519.py:41: SettingWithCopyWarning: \n",
      "A value is trying to be set on a copy of a slice from a DataFrame.\n",
      "Try using .loc[row_indexer,col_indexer] = value instead\n",
      "\n",
      "See the caveats in the documentation: https://pandas.pydata.org/pandas-docs/stable/user_guide/indexing.html#returning-a-view-versus-a-copy\n",
      "  df[f\"{col_of_interest}_percentile\"] = df.apply(\n",
      "/tmp/ipykernel_972/777939519.py:41: SettingWithCopyWarning: \n",
      "A value is trying to be set on a copy of a slice from a DataFrame.\n",
      "Try using .loc[row_indexer,col_indexer] = value instead\n",
      "\n",
      "See the caveats in the documentation: https://pandas.pydata.org/pandas-docs/stable/user_guide/indexing.html#returning-a-view-versus-a-copy\n",
      "  df[f\"{col_of_interest}_percentile\"] = df.apply(\n",
      "/tmp/ipykernel_972/777939519.py:41: SettingWithCopyWarning: \n",
      "A value is trying to be set on a copy of a slice from a DataFrame.\n",
      "Try using .loc[row_indexer,col_indexer] = value instead\n",
      "\n",
      "See the caveats in the documentation: https://pandas.pydata.org/pandas-docs/stable/user_guide/indexing.html#returning-a-view-versus-a-copy\n",
      "  df[f\"{col_of_interest}_percentile\"] = df.apply(\n",
      "/tmp/ipykernel_972/777939519.py:41: SettingWithCopyWarning: \n",
      "A value is trying to be set on a copy of a slice from a DataFrame.\n",
      "Try using .loc[row_indexer,col_indexer] = value instead\n",
      "\n",
      "See the caveats in the documentation: https://pandas.pydata.org/pandas-docs/stable/user_guide/indexing.html#returning-a-view-versus-a-copy\n",
      "  df[f\"{col_of_interest}_percentile\"] = df.apply(\n",
      "/tmp/ipykernel_972/777939519.py:41: SettingWithCopyWarning: \n",
      "A value is trying to be set on a copy of a slice from a DataFrame.\n",
      "Try using .loc[row_indexer,col_indexer] = value instead\n",
      "\n",
      "See the caveats in the documentation: https://pandas.pydata.org/pandas-docs/stable/user_guide/indexing.html#returning-a-view-versus-a-copy\n",
      "  df[f\"{col_of_interest}_percentile\"] = df.apply(\n",
      "/tmp/ipykernel_972/777939519.py:41: SettingWithCopyWarning: \n",
      "A value is trying to be set on a copy of a slice from a DataFrame.\n",
      "Try using .loc[row_indexer,col_indexer] = value instead\n",
      "\n",
      "See the caveats in the documentation: https://pandas.pydata.org/pandas-docs/stable/user_guide/indexing.html#returning-a-view-versus-a-copy\n",
      "  df[f\"{col_of_interest}_percentile\"] = df.apply(\n",
      "/tmp/ipykernel_972/777939519.py:41: SettingWithCopyWarning: \n",
      "A value is trying to be set on a copy of a slice from a DataFrame.\n",
      "Try using .loc[row_indexer,col_indexer] = value instead\n",
      "\n",
      "See the caveats in the documentation: https://pandas.pydata.org/pandas-docs/stable/user_guide/indexing.html#returning-a-view-versus-a-copy\n",
      "  df[f\"{col_of_interest}_percentile\"] = df.apply(\n",
      "/tmp/ipykernel_972/777939519.py:41: SettingWithCopyWarning: \n",
      "A value is trying to be set on a copy of a slice from a DataFrame.\n",
      "Try using .loc[row_indexer,col_indexer] = value instead\n",
      "\n",
      "See the caveats in the documentation: https://pandas.pydata.org/pandas-docs/stable/user_guide/indexing.html#returning-a-view-versus-a-copy\n",
      "  df[f\"{col_of_interest}_percentile\"] = df.apply(\n",
      "/tmp/ipykernel_972/777939519.py:41: SettingWithCopyWarning: \n",
      "A value is trying to be set on a copy of a slice from a DataFrame.\n",
      "Try using .loc[row_indexer,col_indexer] = value instead\n",
      "\n",
      "See the caveats in the documentation: https://pandas.pydata.org/pandas-docs/stable/user_guide/indexing.html#returning-a-view-versus-a-copy\n",
      "  df[f\"{col_of_interest}_percentile\"] = df.apply(\n",
      "/tmp/ipykernel_972/777939519.py:41: SettingWithCopyWarning: \n",
      "A value is trying to be set on a copy of a slice from a DataFrame.\n",
      "Try using .loc[row_indexer,col_indexer] = value instead\n",
      "\n",
      "See the caveats in the documentation: https://pandas.pydata.org/pandas-docs/stable/user_guide/indexing.html#returning-a-view-versus-a-copy\n",
      "  df[f\"{col_of_interest}_percentile\"] = df.apply(\n",
      "/tmp/ipykernel_972/777939519.py:41: SettingWithCopyWarning: \n",
      "A value is trying to be set on a copy of a slice from a DataFrame.\n",
      "Try using .loc[row_indexer,col_indexer] = value instead\n",
      "\n",
      "See the caveats in the documentation: https://pandas.pydata.org/pandas-docs/stable/user_guide/indexing.html#returning-a-view-versus-a-copy\n",
      "  df[f\"{col_of_interest}_percentile\"] = df.apply(\n",
      "/tmp/ipykernel_972/777939519.py:41: SettingWithCopyWarning: \n",
      "A value is trying to be set on a copy of a slice from a DataFrame.\n",
      "Try using .loc[row_indexer,col_indexer] = value instead\n",
      "\n",
      "See the caveats in the documentation: https://pandas.pydata.org/pandas-docs/stable/user_guide/indexing.html#returning-a-view-versus-a-copy\n",
      "  df[f\"{col_of_interest}_percentile\"] = df.apply(\n",
      "/tmp/ipykernel_972/777939519.py:41: SettingWithCopyWarning: \n",
      "A value is trying to be set on a copy of a slice from a DataFrame.\n",
      "Try using .loc[row_indexer,col_indexer] = value instead\n",
      "\n",
      "See the caveats in the documentation: https://pandas.pydata.org/pandas-docs/stable/user_guide/indexing.html#returning-a-view-versus-a-copy\n",
      "  df[f\"{col_of_interest}_percentile\"] = df.apply(\n",
      "/tmp/ipykernel_972/777939519.py:41: SettingWithCopyWarning: \n",
      "A value is trying to be set on a copy of a slice from a DataFrame.\n",
      "Try using .loc[row_indexer,col_indexer] = value instead\n",
      "\n",
      "See the caveats in the documentation: https://pandas.pydata.org/pandas-docs/stable/user_guide/indexing.html#returning-a-view-versus-a-copy\n",
      "  df[f\"{col_of_interest}_percentile\"] = df.apply(\n",
      "/tmp/ipykernel_972/777939519.py:41: SettingWithCopyWarning: \n",
      "A value is trying to be set on a copy of a slice from a DataFrame.\n",
      "Try using .loc[row_indexer,col_indexer] = value instead\n",
      "\n",
      "See the caveats in the documentation: https://pandas.pydata.org/pandas-docs/stable/user_guide/indexing.html#returning-a-view-versus-a-copy\n",
      "  df[f\"{col_of_interest}_percentile\"] = df.apply(\n",
      "/tmp/ipykernel_972/777939519.py:41: SettingWithCopyWarning: \n",
      "A value is trying to be set on a copy of a slice from a DataFrame.\n",
      "Try using .loc[row_indexer,col_indexer] = value instead\n",
      "\n",
      "See the caveats in the documentation: https://pandas.pydata.org/pandas-docs/stable/user_guide/indexing.html#returning-a-view-versus-a-copy\n",
      "  df[f\"{col_of_interest}_percentile\"] = df.apply(\n",
      "/tmp/ipykernel_972/777939519.py:41: SettingWithCopyWarning: \n",
      "A value is trying to be set on a copy of a slice from a DataFrame.\n",
      "Try using .loc[row_indexer,col_indexer] = value instead\n",
      "\n",
      "See the caveats in the documentation: https://pandas.pydata.org/pandas-docs/stable/user_guide/indexing.html#returning-a-view-versus-a-copy\n",
      "  df[f\"{col_of_interest}_percentile\"] = df.apply(\n",
      "/tmp/ipykernel_972/777939519.py:41: SettingWithCopyWarning: \n",
      "A value is trying to be set on a copy of a slice from a DataFrame.\n",
      "Try using .loc[row_indexer,col_indexer] = value instead\n",
      "\n",
      "See the caveats in the documentation: https://pandas.pydata.org/pandas-docs/stable/user_guide/indexing.html#returning-a-view-versus-a-copy\n",
      "  df[f\"{col_of_interest}_percentile\"] = df.apply(\n",
      "/tmp/ipykernel_972/777939519.py:41: SettingWithCopyWarning: \n",
      "A value is trying to be set on a copy of a slice from a DataFrame.\n",
      "Try using .loc[row_indexer,col_indexer] = value instead\n",
      "\n",
      "See the caveats in the documentation: https://pandas.pydata.org/pandas-docs/stable/user_guide/indexing.html#returning-a-view-versus-a-copy\n",
      "  df[f\"{col_of_interest}_percentile\"] = df.apply(\n",
      "/tmp/ipykernel_972/777939519.py:41: SettingWithCopyWarning: \n",
      "A value is trying to be set on a copy of a slice from a DataFrame.\n",
      "Try using .loc[row_indexer,col_indexer] = value instead\n",
      "\n",
      "See the caveats in the documentation: https://pandas.pydata.org/pandas-docs/stable/user_guide/indexing.html#returning-a-view-versus-a-copy\n",
      "  df[f\"{col_of_interest}_percentile\"] = df.apply(\n",
      "/tmp/ipykernel_972/777939519.py:41: SettingWithCopyWarning: \n",
      "A value is trying to be set on a copy of a slice from a DataFrame.\n",
      "Try using .loc[row_indexer,col_indexer] = value instead\n",
      "\n",
      "See the caveats in the documentation: https://pandas.pydata.org/pandas-docs/stable/user_guide/indexing.html#returning-a-view-versus-a-copy\n",
      "  df[f\"{col_of_interest}_percentile\"] = df.apply(\n",
      "/tmp/ipykernel_972/777939519.py:41: SettingWithCopyWarning: \n",
      "A value is trying to be set on a copy of a slice from a DataFrame.\n",
      "Try using .loc[row_indexer,col_indexer] = value instead\n",
      "\n",
      "See the caveats in the documentation: https://pandas.pydata.org/pandas-docs/stable/user_guide/indexing.html#returning-a-view-versus-a-copy\n",
      "  df[f\"{col_of_interest}_percentile\"] = df.apply(\n",
      "/tmp/ipykernel_972/777939519.py:41: SettingWithCopyWarning: \n",
      "A value is trying to be set on a copy of a slice from a DataFrame.\n",
      "Try using .loc[row_indexer,col_indexer] = value instead\n",
      "\n",
      "See the caveats in the documentation: https://pandas.pydata.org/pandas-docs/stable/user_guide/indexing.html#returning-a-view-versus-a-copy\n",
      "  df[f\"{col_of_interest}_percentile\"] = df.apply(\n",
      "/tmp/ipykernel_972/777939519.py:41: SettingWithCopyWarning: \n",
      "A value is trying to be set on a copy of a slice from a DataFrame.\n",
      "Try using .loc[row_indexer,col_indexer] = value instead\n",
      "\n",
      "See the caveats in the documentation: https://pandas.pydata.org/pandas-docs/stable/user_guide/indexing.html#returning-a-view-versus-a-copy\n",
      "  df[f\"{col_of_interest}_percentile\"] = df.apply(\n",
      "/tmp/ipykernel_972/777939519.py:41: SettingWithCopyWarning: \n",
      "A value is trying to be set on a copy of a slice from a DataFrame.\n",
      "Try using .loc[row_indexer,col_indexer] = value instead\n",
      "\n",
      "See the caveats in the documentation: https://pandas.pydata.org/pandas-docs/stable/user_guide/indexing.html#returning-a-view-versus-a-copy\n",
      "  df[f\"{col_of_interest}_percentile\"] = df.apply(\n",
      "/tmp/ipykernel_972/777939519.py:41: SettingWithCopyWarning: \n",
      "A value is trying to be set on a copy of a slice from a DataFrame.\n",
      "Try using .loc[row_indexer,col_indexer] = value instead\n",
      "\n",
      "See the caveats in the documentation: https://pandas.pydata.org/pandas-docs/stable/user_guide/indexing.html#returning-a-view-versus-a-copy\n",
      "  df[f\"{col_of_interest}_percentile\"] = df.apply(\n",
      "/tmp/ipykernel_972/777939519.py:41: SettingWithCopyWarning: \n",
      "A value is trying to be set on a copy of a slice from a DataFrame.\n",
      "Try using .loc[row_indexer,col_indexer] = value instead\n",
      "\n",
      "See the caveats in the documentation: https://pandas.pydata.org/pandas-docs/stable/user_guide/indexing.html#returning-a-view-versus-a-copy\n",
      "  df[f\"{col_of_interest}_percentile\"] = df.apply(\n",
      "/tmp/ipykernel_972/777939519.py:41: SettingWithCopyWarning: \n",
      "A value is trying to be set on a copy of a slice from a DataFrame.\n",
      "Try using .loc[row_indexer,col_indexer] = value instead\n",
      "\n",
      "See the caveats in the documentation: https://pandas.pydata.org/pandas-docs/stable/user_guide/indexing.html#returning-a-view-versus-a-copy\n",
      "  df[f\"{col_of_interest}_percentile\"] = df.apply(\n",
      "/tmp/ipykernel_972/777939519.py:41: SettingWithCopyWarning: \n",
      "A value is trying to be set on a copy of a slice from a DataFrame.\n",
      "Try using .loc[row_indexer,col_indexer] = value instead\n",
      "\n",
      "See the caveats in the documentation: https://pandas.pydata.org/pandas-docs/stable/user_guide/indexing.html#returning-a-view-versus-a-copy\n",
      "  df[f\"{col_of_interest}_percentile\"] = df.apply(\n",
      "/tmp/ipykernel_972/777939519.py:41: SettingWithCopyWarning: \n",
      "A value is trying to be set on a copy of a slice from a DataFrame.\n",
      "Try using .loc[row_indexer,col_indexer] = value instead\n",
      "\n",
      "See the caveats in the documentation: https://pandas.pydata.org/pandas-docs/stable/user_guide/indexing.html#returning-a-view-versus-a-copy\n",
      "  df[f\"{col_of_interest}_percentile\"] = df.apply(\n",
      "/tmp/ipykernel_972/777939519.py:41: SettingWithCopyWarning: \n",
      "A value is trying to be set on a copy of a slice from a DataFrame.\n",
      "Try using .loc[row_indexer,col_indexer] = value instead\n",
      "\n",
      "See the caveats in the documentation: https://pandas.pydata.org/pandas-docs/stable/user_guide/indexing.html#returning-a-view-versus-a-copy\n",
      "  df[f\"{col_of_interest}_percentile\"] = df.apply(\n",
      "/tmp/ipykernel_972/777939519.py:41: SettingWithCopyWarning: \n",
      "A value is trying to be set on a copy of a slice from a DataFrame.\n",
      "Try using .loc[row_indexer,col_indexer] = value instead\n",
      "\n",
      "See the caveats in the documentation: https://pandas.pydata.org/pandas-docs/stable/user_guide/indexing.html#returning-a-view-versus-a-copy\n",
      "  df[f\"{col_of_interest}_percentile\"] = df.apply(\n",
      "/tmp/ipykernel_972/777939519.py:41: SettingWithCopyWarning: \n",
      "A value is trying to be set on a copy of a slice from a DataFrame.\n",
      "Try using .loc[row_indexer,col_indexer] = value instead\n",
      "\n",
      "See the caveats in the documentation: https://pandas.pydata.org/pandas-docs/stable/user_guide/indexing.html#returning-a-view-versus-a-copy\n",
      "  df[f\"{col_of_interest}_percentile\"] = df.apply(\n",
      "/tmp/ipykernel_972/777939519.py:41: SettingWithCopyWarning: \n",
      "A value is trying to be set on a copy of a slice from a DataFrame.\n",
      "Try using .loc[row_indexer,col_indexer] = value instead\n",
      "\n",
      "See the caveats in the documentation: https://pandas.pydata.org/pandas-docs/stable/user_guide/indexing.html#returning-a-view-versus-a-copy\n",
      "  df[f\"{col_of_interest}_percentile\"] = df.apply(\n",
      "/tmp/ipykernel_972/777939519.py:41: SettingWithCopyWarning: \n",
      "A value is trying to be set on a copy of a slice from a DataFrame.\n",
      "Try using .loc[row_indexer,col_indexer] = value instead\n",
      "\n",
      "See the caveats in the documentation: https://pandas.pydata.org/pandas-docs/stable/user_guide/indexing.html#returning-a-view-versus-a-copy\n",
      "  df[f\"{col_of_interest}_percentile\"] = df.apply(\n",
      "/tmp/ipykernel_972/777939519.py:41: SettingWithCopyWarning: \n",
      "A value is trying to be set on a copy of a slice from a DataFrame.\n",
      "Try using .loc[row_indexer,col_indexer] = value instead\n",
      "\n",
      "See the caveats in the documentation: https://pandas.pydata.org/pandas-docs/stable/user_guide/indexing.html#returning-a-view-versus-a-copy\n",
      "  df[f\"{col_of_interest}_percentile\"] = df.apply(\n",
      "/tmp/ipykernel_972/777939519.py:41: SettingWithCopyWarning: \n",
      "A value is trying to be set on a copy of a slice from a DataFrame.\n",
      "Try using .loc[row_indexer,col_indexer] = value instead\n",
      "\n",
      "See the caveats in the documentation: https://pandas.pydata.org/pandas-docs/stable/user_guide/indexing.html#returning-a-view-versus-a-copy\n",
      "  df[f\"{col_of_interest}_percentile\"] = df.apply(\n",
      "/tmp/ipykernel_972/777939519.py:41: SettingWithCopyWarning: \n",
      "A value is trying to be set on a copy of a slice from a DataFrame.\n",
      "Try using .loc[row_indexer,col_indexer] = value instead\n",
      "\n",
      "See the caveats in the documentation: https://pandas.pydata.org/pandas-docs/stable/user_guide/indexing.html#returning-a-view-versus-a-copy\n",
      "  df[f\"{col_of_interest}_percentile\"] = df.apply(\n",
      "/tmp/ipykernel_972/777939519.py:41: SettingWithCopyWarning: \n",
      "A value is trying to be set on a copy of a slice from a DataFrame.\n",
      "Try using .loc[row_indexer,col_indexer] = value instead\n",
      "\n",
      "See the caveats in the documentation: https://pandas.pydata.org/pandas-docs/stable/user_guide/indexing.html#returning-a-view-versus-a-copy\n",
      "  df[f\"{col_of_interest}_percentile\"] = df.apply(\n",
      "/tmp/ipykernel_972/777939519.py:41: SettingWithCopyWarning: \n",
      "A value is trying to be set on a copy of a slice from a DataFrame.\n",
      "Try using .loc[row_indexer,col_indexer] = value instead\n",
      "\n",
      "See the caveats in the documentation: https://pandas.pydata.org/pandas-docs/stable/user_guide/indexing.html#returning-a-view-versus-a-copy\n",
      "  df[f\"{col_of_interest}_percentile\"] = df.apply(\n",
      "/tmp/ipykernel_972/777939519.py:41: SettingWithCopyWarning: \n",
      "A value is trying to be set on a copy of a slice from a DataFrame.\n",
      "Try using .loc[row_indexer,col_indexer] = value instead\n",
      "\n",
      "See the caveats in the documentation: https://pandas.pydata.org/pandas-docs/stable/user_guide/indexing.html#returning-a-view-versus-a-copy\n",
      "  df[f\"{col_of_interest}_percentile\"] = df.apply(\n",
      "/tmp/ipykernel_972/777939519.py:41: SettingWithCopyWarning: \n",
      "A value is trying to be set on a copy of a slice from a DataFrame.\n",
      "Try using .loc[row_indexer,col_indexer] = value instead\n",
      "\n",
      "See the caveats in the documentation: https://pandas.pydata.org/pandas-docs/stable/user_guide/indexing.html#returning-a-view-versus-a-copy\n",
      "  df[f\"{col_of_interest}_percentile\"] = df.apply(\n",
      "/tmp/ipykernel_972/777939519.py:41: SettingWithCopyWarning: \n",
      "A value is trying to be set on a copy of a slice from a DataFrame.\n",
      "Try using .loc[row_indexer,col_indexer] = value instead\n",
      "\n",
      "See the caveats in the documentation: https://pandas.pydata.org/pandas-docs/stable/user_guide/indexing.html#returning-a-view-versus-a-copy\n",
      "  df[f\"{col_of_interest}_percentile\"] = df.apply(\n",
      "/tmp/ipykernel_972/777939519.py:41: SettingWithCopyWarning: \n",
      "A value is trying to be set on a copy of a slice from a DataFrame.\n",
      "Try using .loc[row_indexer,col_indexer] = value instead\n",
      "\n",
      "See the caveats in the documentation: https://pandas.pydata.org/pandas-docs/stable/user_guide/indexing.html#returning-a-view-versus-a-copy\n",
      "  df[f\"{col_of_interest}_percentile\"] = df.apply(\n",
      "/tmp/ipykernel_972/777939519.py:41: SettingWithCopyWarning: \n",
      "A value is trying to be set on a copy of a slice from a DataFrame.\n",
      "Try using .loc[row_indexer,col_indexer] = value instead\n",
      "\n",
      "See the caveats in the documentation: https://pandas.pydata.org/pandas-docs/stable/user_guide/indexing.html#returning-a-view-versus-a-copy\n",
      "  df[f\"{col_of_interest}_percentile\"] = df.apply(\n",
      "/tmp/ipykernel_972/777939519.py:41: SettingWithCopyWarning: \n",
      "A value is trying to be set on a copy of a slice from a DataFrame.\n",
      "Try using .loc[row_indexer,col_indexer] = value instead\n",
      "\n",
      "See the caveats in the documentation: https://pandas.pydata.org/pandas-docs/stable/user_guide/indexing.html#returning-a-view-versus-a-copy\n",
      "  df[f\"{col_of_interest}_percentile\"] = df.apply(\n",
      "/tmp/ipykernel_972/777939519.py:41: SettingWithCopyWarning: \n",
      "A value is trying to be set on a copy of a slice from a DataFrame.\n",
      "Try using .loc[row_indexer,col_indexer] = value instead\n",
      "\n",
      "See the caveats in the documentation: https://pandas.pydata.org/pandas-docs/stable/user_guide/indexing.html#returning-a-view-versus-a-copy\n",
      "  df[f\"{col_of_interest}_percentile\"] = df.apply(\n",
      "/tmp/ipykernel_972/777939519.py:41: SettingWithCopyWarning: \n",
      "A value is trying to be set on a copy of a slice from a DataFrame.\n",
      "Try using .loc[row_indexer,col_indexer] = value instead\n",
      "\n",
      "See the caveats in the documentation: https://pandas.pydata.org/pandas-docs/stable/user_guide/indexing.html#returning-a-view-versus-a-copy\n",
      "  df[f\"{col_of_interest}_percentile\"] = df.apply(\n",
      "/tmp/ipykernel_972/777939519.py:41: SettingWithCopyWarning: \n",
      "A value is trying to be set on a copy of a slice from a DataFrame.\n",
      "Try using .loc[row_indexer,col_indexer] = value instead\n",
      "\n",
      "See the caveats in the documentation: https://pandas.pydata.org/pandas-docs/stable/user_guide/indexing.html#returning-a-view-versus-a-copy\n",
      "  df[f\"{col_of_interest}_percentile\"] = df.apply(\n",
      "/tmp/ipykernel_972/777939519.py:41: SettingWithCopyWarning: \n",
      "A value is trying to be set on a copy of a slice from a DataFrame.\n",
      "Try using .loc[row_indexer,col_indexer] = value instead\n",
      "\n",
      "See the caveats in the documentation: https://pandas.pydata.org/pandas-docs/stable/user_guide/indexing.html#returning-a-view-versus-a-copy\n",
      "  df[f\"{col_of_interest}_percentile\"] = df.apply(\n",
      "/tmp/ipykernel_972/777939519.py:41: SettingWithCopyWarning: \n",
      "A value is trying to be set on a copy of a slice from a DataFrame.\n",
      "Try using .loc[row_indexer,col_indexer] = value instead\n",
      "\n",
      "See the caveats in the documentation: https://pandas.pydata.org/pandas-docs/stable/user_guide/indexing.html#returning-a-view-versus-a-copy\n",
      "  df[f\"{col_of_interest}_percentile\"] = df.apply(\n",
      "/tmp/ipykernel_972/777939519.py:41: SettingWithCopyWarning: \n",
      "A value is trying to be set on a copy of a slice from a DataFrame.\n",
      "Try using .loc[row_indexer,col_indexer] = value instead\n",
      "\n",
      "See the caveats in the documentation: https://pandas.pydata.org/pandas-docs/stable/user_guide/indexing.html#returning-a-view-versus-a-copy\n",
      "  df[f\"{col_of_interest}_percentile\"] = df.apply(\n",
      "/tmp/ipykernel_972/777939519.py:41: SettingWithCopyWarning: \n",
      "A value is trying to be set on a copy of a slice from a DataFrame.\n",
      "Try using .loc[row_indexer,col_indexer] = value instead\n",
      "\n",
      "See the caveats in the documentation: https://pandas.pydata.org/pandas-docs/stable/user_guide/indexing.html#returning-a-view-versus-a-copy\n",
      "  df[f\"{col_of_interest}_percentile\"] = df.apply(\n",
      "/tmp/ipykernel_972/777939519.py:41: SettingWithCopyWarning: \n",
      "A value is trying to be set on a copy of a slice from a DataFrame.\n",
      "Try using .loc[row_indexer,col_indexer] = value instead\n",
      "\n",
      "See the caveats in the documentation: https://pandas.pydata.org/pandas-docs/stable/user_guide/indexing.html#returning-a-view-versus-a-copy\n",
      "  df[f\"{col_of_interest}_percentile\"] = df.apply(\n",
      "/tmp/ipykernel_972/777939519.py:41: SettingWithCopyWarning: \n",
      "A value is trying to be set on a copy of a slice from a DataFrame.\n",
      "Try using .loc[row_indexer,col_indexer] = value instead\n",
      "\n",
      "See the caveats in the documentation: https://pandas.pydata.org/pandas-docs/stable/user_guide/indexing.html#returning-a-view-versus-a-copy\n",
      "  df[f\"{col_of_interest}_percentile\"] = df.apply(\n",
      "/tmp/ipykernel_972/777939519.py:41: SettingWithCopyWarning: \n",
      "A value is trying to be set on a copy of a slice from a DataFrame.\n",
      "Try using .loc[row_indexer,col_indexer] = value instead\n",
      "\n",
      "See the caveats in the documentation: https://pandas.pydata.org/pandas-docs/stable/user_guide/indexing.html#returning-a-view-versus-a-copy\n",
      "  df[f\"{col_of_interest}_percentile\"] = df.apply(\n",
      "/tmp/ipykernel_972/777939519.py:41: SettingWithCopyWarning: \n",
      "A value is trying to be set on a copy of a slice from a DataFrame.\n",
      "Try using .loc[row_indexer,col_indexer] = value instead\n",
      "\n",
      "See the caveats in the documentation: https://pandas.pydata.org/pandas-docs/stable/user_guide/indexing.html#returning-a-view-versus-a-copy\n",
      "  df[f\"{col_of_interest}_percentile\"] = df.apply(\n",
      "/tmp/ipykernel_972/777939519.py:41: SettingWithCopyWarning: \n",
      "A value is trying to be set on a copy of a slice from a DataFrame.\n",
      "Try using .loc[row_indexer,col_indexer] = value instead\n",
      "\n",
      "See the caveats in the documentation: https://pandas.pydata.org/pandas-docs/stable/user_guide/indexing.html#returning-a-view-versus-a-copy\n",
      "  df[f\"{col_of_interest}_percentile\"] = df.apply(\n",
      "/tmp/ipykernel_972/777939519.py:41: SettingWithCopyWarning: \n",
      "A value is trying to be set on a copy of a slice from a DataFrame.\n",
      "Try using .loc[row_indexer,col_indexer] = value instead\n",
      "\n",
      "See the caveats in the documentation: https://pandas.pydata.org/pandas-docs/stable/user_guide/indexing.html#returning-a-view-versus-a-copy\n",
      "  df[f\"{col_of_interest}_percentile\"] = df.apply(\n",
      "/tmp/ipykernel_972/777939519.py:41: SettingWithCopyWarning: \n",
      "A value is trying to be set on a copy of a slice from a DataFrame.\n",
      "Try using .loc[row_indexer,col_indexer] = value instead\n",
      "\n",
      "See the caveats in the documentation: https://pandas.pydata.org/pandas-docs/stable/user_guide/indexing.html#returning-a-view-versus-a-copy\n",
      "  df[f\"{col_of_interest}_percentile\"] = df.apply(\n",
      "/tmp/ipykernel_972/777939519.py:41: SettingWithCopyWarning: \n",
      "A value is trying to be set on a copy of a slice from a DataFrame.\n",
      "Try using .loc[row_indexer,col_indexer] = value instead\n",
      "\n",
      "See the caveats in the documentation: https://pandas.pydata.org/pandas-docs/stable/user_guide/indexing.html#returning-a-view-versus-a-copy\n",
      "  df[f\"{col_of_interest}_percentile\"] = df.apply(\n",
      "/tmp/ipykernel_972/777939519.py:41: SettingWithCopyWarning: \n",
      "A value is trying to be set on a copy of a slice from a DataFrame.\n",
      "Try using .loc[row_indexer,col_indexer] = value instead\n",
      "\n",
      "See the caveats in the documentation: https://pandas.pydata.org/pandas-docs/stable/user_guide/indexing.html#returning-a-view-versus-a-copy\n",
      "  df[f\"{col_of_interest}_percentile\"] = df.apply(\n",
      "/tmp/ipykernel_972/777939519.py:41: SettingWithCopyWarning: \n",
      "A value is trying to be set on a copy of a slice from a DataFrame.\n",
      "Try using .loc[row_indexer,col_indexer] = value instead\n",
      "\n",
      "See the caveats in the documentation: https://pandas.pydata.org/pandas-docs/stable/user_guide/indexing.html#returning-a-view-versus-a-copy\n",
      "  df[f\"{col_of_interest}_percentile\"] = df.apply(\n",
      "/tmp/ipykernel_972/777939519.py:41: SettingWithCopyWarning: \n",
      "A value is trying to be set on a copy of a slice from a DataFrame.\n",
      "Try using .loc[row_indexer,col_indexer] = value instead\n",
      "\n",
      "See the caveats in the documentation: https://pandas.pydata.org/pandas-docs/stable/user_guide/indexing.html#returning-a-view-versus-a-copy\n",
      "  df[f\"{col_of_interest}_percentile\"] = df.apply(\n",
      "/tmp/ipykernel_972/777939519.py:41: SettingWithCopyWarning: \n",
      "A value is trying to be set on a copy of a slice from a DataFrame.\n",
      "Try using .loc[row_indexer,col_indexer] = value instead\n",
      "\n",
      "See the caveats in the documentation: https://pandas.pydata.org/pandas-docs/stable/user_guide/indexing.html#returning-a-view-versus-a-copy\n",
      "  df[f\"{col_of_interest}_percentile\"] = df.apply(\n",
      "/tmp/ipykernel_972/777939519.py:41: SettingWithCopyWarning: \n",
      "A value is trying to be set on a copy of a slice from a DataFrame.\n",
      "Try using .loc[row_indexer,col_indexer] = value instead\n",
      "\n",
      "See the caveats in the documentation: https://pandas.pydata.org/pandas-docs/stable/user_guide/indexing.html#returning-a-view-versus-a-copy\n",
      "  df[f\"{col_of_interest}_percentile\"] = df.apply(\n",
      "/tmp/ipykernel_972/777939519.py:41: SettingWithCopyWarning: \n",
      "A value is trying to be set on a copy of a slice from a DataFrame.\n",
      "Try using .loc[row_indexer,col_indexer] = value instead\n",
      "\n",
      "See the caveats in the documentation: https://pandas.pydata.org/pandas-docs/stable/user_guide/indexing.html#returning-a-view-versus-a-copy\n",
      "  df[f\"{col_of_interest}_percentile\"] = df.apply(\n",
      "/tmp/ipykernel_972/777939519.py:41: SettingWithCopyWarning: \n",
      "A value is trying to be set on a copy of a slice from a DataFrame.\n",
      "Try using .loc[row_indexer,col_indexer] = value instead\n",
      "\n",
      "See the caveats in the documentation: https://pandas.pydata.org/pandas-docs/stable/user_guide/indexing.html#returning-a-view-versus-a-copy\n",
      "  df[f\"{col_of_interest}_percentile\"] = df.apply(\n",
      "/tmp/ipykernel_972/777939519.py:41: SettingWithCopyWarning: \n",
      "A value is trying to be set on a copy of a slice from a DataFrame.\n",
      "Try using .loc[row_indexer,col_indexer] = value instead\n",
      "\n",
      "See the caveats in the documentation: https://pandas.pydata.org/pandas-docs/stable/user_guide/indexing.html#returning-a-view-versus-a-copy\n",
      "  df[f\"{col_of_interest}_percentile\"] = df.apply(\n",
      "/tmp/ipykernel_972/777939519.py:41: SettingWithCopyWarning: \n",
      "A value is trying to be set on a copy of a slice from a DataFrame.\n",
      "Try using .loc[row_indexer,col_indexer] = value instead\n",
      "\n",
      "See the caveats in the documentation: https://pandas.pydata.org/pandas-docs/stable/user_guide/indexing.html#returning-a-view-versus-a-copy\n",
      "  df[f\"{col_of_interest}_percentile\"] = df.apply(\n",
      "/tmp/ipykernel_972/777939519.py:41: SettingWithCopyWarning: \n",
      "A value is trying to be set on a copy of a slice from a DataFrame.\n",
      "Try using .loc[row_indexer,col_indexer] = value instead\n",
      "\n",
      "See the caveats in the documentation: https://pandas.pydata.org/pandas-docs/stable/user_guide/indexing.html#returning-a-view-versus-a-copy\n",
      "  df[f\"{col_of_interest}_percentile\"] = df.apply(\n",
      "/tmp/ipykernel_972/777939519.py:41: SettingWithCopyWarning: \n",
      "A value is trying to be set on a copy of a slice from a DataFrame.\n",
      "Try using .loc[row_indexer,col_indexer] = value instead\n",
      "\n",
      "See the caveats in the documentation: https://pandas.pydata.org/pandas-docs/stable/user_guide/indexing.html#returning-a-view-versus-a-copy\n",
      "  df[f\"{col_of_interest}_percentile\"] = df.apply(\n",
      "/tmp/ipykernel_972/777939519.py:41: SettingWithCopyWarning: \n",
      "A value is trying to be set on a copy of a slice from a DataFrame.\n",
      "Try using .loc[row_indexer,col_indexer] = value instead\n",
      "\n",
      "See the caveats in the documentation: https://pandas.pydata.org/pandas-docs/stable/user_guide/indexing.html#returning-a-view-versus-a-copy\n",
      "  df[f\"{col_of_interest}_percentile\"] = df.apply(\n",
      "/tmp/ipykernel_972/777939519.py:41: SettingWithCopyWarning: \n",
      "A value is trying to be set on a copy of a slice from a DataFrame.\n",
      "Try using .loc[row_indexer,col_indexer] = value instead\n",
      "\n",
      "See the caveats in the documentation: https://pandas.pydata.org/pandas-docs/stable/user_guide/indexing.html#returning-a-view-versus-a-copy\n",
      "  df[f\"{col_of_interest}_percentile\"] = df.apply(\n",
      "/tmp/ipykernel_972/777939519.py:41: SettingWithCopyWarning: \n",
      "A value is trying to be set on a copy of a slice from a DataFrame.\n",
      "Try using .loc[row_indexer,col_indexer] = value instead\n",
      "\n",
      "See the caveats in the documentation: https://pandas.pydata.org/pandas-docs/stable/user_guide/indexing.html#returning-a-view-versus-a-copy\n",
      "  df[f\"{col_of_interest}_percentile\"] = df.apply(\n",
      "/tmp/ipykernel_972/777939519.py:41: SettingWithCopyWarning: \n",
      "A value is trying to be set on a copy of a slice from a DataFrame.\n",
      "Try using .loc[row_indexer,col_indexer] = value instead\n",
      "\n",
      "See the caveats in the documentation: https://pandas.pydata.org/pandas-docs/stable/user_guide/indexing.html#returning-a-view-versus-a-copy\n",
      "  df[f\"{col_of_interest}_percentile\"] = df.apply(\n",
      "/tmp/ipykernel_972/777939519.py:41: SettingWithCopyWarning: \n",
      "A value is trying to be set on a copy of a slice from a DataFrame.\n",
      "Try using .loc[row_indexer,col_indexer] = value instead\n",
      "\n",
      "See the caveats in the documentation: https://pandas.pydata.org/pandas-docs/stable/user_guide/indexing.html#returning-a-view-versus-a-copy\n",
      "  df[f\"{col_of_interest}_percentile\"] = df.apply(\n",
      "/tmp/ipykernel_972/777939519.py:41: SettingWithCopyWarning: \n",
      "A value is trying to be set on a copy of a slice from a DataFrame.\n",
      "Try using .loc[row_indexer,col_indexer] = value instead\n",
      "\n",
      "See the caveats in the documentation: https://pandas.pydata.org/pandas-docs/stable/user_guide/indexing.html#returning-a-view-versus-a-copy\n",
      "  df[f\"{col_of_interest}_percentile\"] = df.apply(\n",
      "/tmp/ipykernel_972/777939519.py:41: SettingWithCopyWarning: \n",
      "A value is trying to be set on a copy of a slice from a DataFrame.\n",
      "Try using .loc[row_indexer,col_indexer] = value instead\n",
      "\n",
      "See the caveats in the documentation: https://pandas.pydata.org/pandas-docs/stable/user_guide/indexing.html#returning-a-view-versus-a-copy\n",
      "  df[f\"{col_of_interest}_percentile\"] = df.apply(\n",
      "/tmp/ipykernel_972/777939519.py:41: SettingWithCopyWarning: \n",
      "A value is trying to be set on a copy of a slice from a DataFrame.\n",
      "Try using .loc[row_indexer,col_indexer] = value instead\n",
      "\n",
      "See the caveats in the documentation: https://pandas.pydata.org/pandas-docs/stable/user_guide/indexing.html#returning-a-view-versus-a-copy\n",
      "  df[f\"{col_of_interest}_percentile\"] = df.apply(\n",
      "/tmp/ipykernel_972/777939519.py:41: SettingWithCopyWarning: \n",
      "A value is trying to be set on a copy of a slice from a DataFrame.\n",
      "Try using .loc[row_indexer,col_indexer] = value instead\n",
      "\n",
      "See the caveats in the documentation: https://pandas.pydata.org/pandas-docs/stable/user_guide/indexing.html#returning-a-view-versus-a-copy\n",
      "  df[f\"{col_of_interest}_percentile\"] = df.apply(\n",
      "/tmp/ipykernel_972/777939519.py:41: SettingWithCopyWarning: \n",
      "A value is trying to be set on a copy of a slice from a DataFrame.\n",
      "Try using .loc[row_indexer,col_indexer] = value instead\n",
      "\n",
      "See the caveats in the documentation: https://pandas.pydata.org/pandas-docs/stable/user_guide/indexing.html#returning-a-view-versus-a-copy\n",
      "  df[f\"{col_of_interest}_percentile\"] = df.apply(\n",
      "/tmp/ipykernel_972/777939519.py:41: SettingWithCopyWarning: \n",
      "A value is trying to be set on a copy of a slice from a DataFrame.\n",
      "Try using .loc[row_indexer,col_indexer] = value instead\n",
      "\n",
      "See the caveats in the documentation: https://pandas.pydata.org/pandas-docs/stable/user_guide/indexing.html#returning-a-view-versus-a-copy\n",
      "  df[f\"{col_of_interest}_percentile\"] = df.apply(\n",
      "/tmp/ipykernel_972/777939519.py:41: SettingWithCopyWarning: \n",
      "A value is trying to be set on a copy of a slice from a DataFrame.\n",
      "Try using .loc[row_indexer,col_indexer] = value instead\n",
      "\n",
      "See the caveats in the documentation: https://pandas.pydata.org/pandas-docs/stable/user_guide/indexing.html#returning-a-view-versus-a-copy\n",
      "  df[f\"{col_of_interest}_percentile\"] = df.apply(\n",
      "/tmp/ipykernel_972/777939519.py:41: SettingWithCopyWarning: \n",
      "A value is trying to be set on a copy of a slice from a DataFrame.\n",
      "Try using .loc[row_indexer,col_indexer] = value instead\n",
      "\n",
      "See the caveats in the documentation: https://pandas.pydata.org/pandas-docs/stable/user_guide/indexing.html#returning-a-view-versus-a-copy\n",
      "  df[f\"{col_of_interest}_percentile\"] = df.apply(\n",
      "/tmp/ipykernel_972/777939519.py:41: SettingWithCopyWarning: \n",
      "A value is trying to be set on a copy of a slice from a DataFrame.\n",
      "Try using .loc[row_indexer,col_indexer] = value instead\n",
      "\n",
      "See the caveats in the documentation: https://pandas.pydata.org/pandas-docs/stable/user_guide/indexing.html#returning-a-view-versus-a-copy\n",
      "  df[f\"{col_of_interest}_percentile\"] = df.apply(\n",
      "/tmp/ipykernel_972/777939519.py:41: SettingWithCopyWarning: \n",
      "A value is trying to be set on a copy of a slice from a DataFrame.\n",
      "Try using .loc[row_indexer,col_indexer] = value instead\n",
      "\n",
      "See the caveats in the documentation: https://pandas.pydata.org/pandas-docs/stable/user_guide/indexing.html#returning-a-view-versus-a-copy\n",
      "  df[f\"{col_of_interest}_percentile\"] = df.apply(\n",
      "/tmp/ipykernel_972/777939519.py:41: SettingWithCopyWarning: \n",
      "A value is trying to be set on a copy of a slice from a DataFrame.\n",
      "Try using .loc[row_indexer,col_indexer] = value instead\n",
      "\n",
      "See the caveats in the documentation: https://pandas.pydata.org/pandas-docs/stable/user_guide/indexing.html#returning-a-view-versus-a-copy\n",
      "  df[f\"{col_of_interest}_percentile\"] = df.apply(\n",
      "/tmp/ipykernel_972/777939519.py:41: SettingWithCopyWarning: \n",
      "A value is trying to be set on a copy of a slice from a DataFrame.\n",
      "Try using .loc[row_indexer,col_indexer] = value instead\n",
      "\n",
      "See the caveats in the documentation: https://pandas.pydata.org/pandas-docs/stable/user_guide/indexing.html#returning-a-view-versus-a-copy\n",
      "  df[f\"{col_of_interest}_percentile\"] = df.apply(\n",
      "/tmp/ipykernel_972/777939519.py:41: SettingWithCopyWarning: \n",
      "A value is trying to be set on a copy of a slice from a DataFrame.\n",
      "Try using .loc[row_indexer,col_indexer] = value instead\n",
      "\n",
      "See the caveats in the documentation: https://pandas.pydata.org/pandas-docs/stable/user_guide/indexing.html#returning-a-view-versus-a-copy\n",
      "  df[f\"{col_of_interest}_percentile\"] = df.apply(\n",
      "/tmp/ipykernel_972/777939519.py:41: SettingWithCopyWarning: \n",
      "A value is trying to be set on a copy of a slice from a DataFrame.\n",
      "Try using .loc[row_indexer,col_indexer] = value instead\n",
      "\n",
      "See the caveats in the documentation: https://pandas.pydata.org/pandas-docs/stable/user_guide/indexing.html#returning-a-view-versus-a-copy\n",
      "  df[f\"{col_of_interest}_percentile\"] = df.apply(\n",
      "/tmp/ipykernel_972/777939519.py:41: SettingWithCopyWarning: \n",
      "A value is trying to be set on a copy of a slice from a DataFrame.\n",
      "Try using .loc[row_indexer,col_indexer] = value instead\n",
      "\n",
      "See the caveats in the documentation: https://pandas.pydata.org/pandas-docs/stable/user_guide/indexing.html#returning-a-view-versus-a-copy\n",
      "  df[f\"{col_of_interest}_percentile\"] = df.apply(\n",
      "/tmp/ipykernel_972/777939519.py:41: SettingWithCopyWarning: \n",
      "A value is trying to be set on a copy of a slice from a DataFrame.\n",
      "Try using .loc[row_indexer,col_indexer] = value instead\n",
      "\n",
      "See the caveats in the documentation: https://pandas.pydata.org/pandas-docs/stable/user_guide/indexing.html#returning-a-view-versus-a-copy\n",
      "  df[f\"{col_of_interest}_percentile\"] = df.apply(\n",
      "/tmp/ipykernel_972/777939519.py:41: SettingWithCopyWarning: \n",
      "A value is trying to be set on a copy of a slice from a DataFrame.\n",
      "Try using .loc[row_indexer,col_indexer] = value instead\n",
      "\n",
      "See the caveats in the documentation: https://pandas.pydata.org/pandas-docs/stable/user_guide/indexing.html#returning-a-view-versus-a-copy\n",
      "  df[f\"{col_of_interest}_percentile\"] = df.apply(\n",
      "/tmp/ipykernel_972/777939519.py:41: SettingWithCopyWarning: \n",
      "A value is trying to be set on a copy of a slice from a DataFrame.\n",
      "Try using .loc[row_indexer,col_indexer] = value instead\n",
      "\n",
      "See the caveats in the documentation: https://pandas.pydata.org/pandas-docs/stable/user_guide/indexing.html#returning-a-view-versus-a-copy\n",
      "  df[f\"{col_of_interest}_percentile\"] = df.apply(\n",
      "/tmp/ipykernel_972/777939519.py:41: SettingWithCopyWarning: \n",
      "A value is trying to be set on a copy of a slice from a DataFrame.\n",
      "Try using .loc[row_indexer,col_indexer] = value instead\n",
      "\n",
      "See the caveats in the documentation: https://pandas.pydata.org/pandas-docs/stable/user_guide/indexing.html#returning-a-view-versus-a-copy\n",
      "  df[f\"{col_of_interest}_percentile\"] = df.apply(\n",
      "/tmp/ipykernel_972/777939519.py:41: SettingWithCopyWarning: \n",
      "A value is trying to be set on a copy of a slice from a DataFrame.\n",
      "Try using .loc[row_indexer,col_indexer] = value instead\n",
      "\n",
      "See the caveats in the documentation: https://pandas.pydata.org/pandas-docs/stable/user_guide/indexing.html#returning-a-view-versus-a-copy\n",
      "  df[f\"{col_of_interest}_percentile\"] = df.apply(\n",
      "/tmp/ipykernel_972/777939519.py:41: SettingWithCopyWarning: \n",
      "A value is trying to be set on a copy of a slice from a DataFrame.\n",
      "Try using .loc[row_indexer,col_indexer] = value instead\n",
      "\n",
      "See the caveats in the documentation: https://pandas.pydata.org/pandas-docs/stable/user_guide/indexing.html#returning-a-view-versus-a-copy\n",
      "  df[f\"{col_of_interest}_percentile\"] = df.apply(\n",
      "/tmp/ipykernel_972/777939519.py:41: SettingWithCopyWarning: \n",
      "A value is trying to be set on a copy of a slice from a DataFrame.\n",
      "Try using .loc[row_indexer,col_indexer] = value instead\n",
      "\n",
      "See the caveats in the documentation: https://pandas.pydata.org/pandas-docs/stable/user_guide/indexing.html#returning-a-view-versus-a-copy\n",
      "  df[f\"{col_of_interest}_percentile\"] = df.apply(\n",
      "/tmp/ipykernel_972/777939519.py:41: SettingWithCopyWarning: \n",
      "A value is trying to be set on a copy of a slice from a DataFrame.\n",
      "Try using .loc[row_indexer,col_indexer] = value instead\n",
      "\n",
      "See the caveats in the documentation: https://pandas.pydata.org/pandas-docs/stable/user_guide/indexing.html#returning-a-view-versus-a-copy\n",
      "  df[f\"{col_of_interest}_percentile\"] = df.apply(\n",
      "/tmp/ipykernel_972/777939519.py:41: SettingWithCopyWarning: \n",
      "A value is trying to be set on a copy of a slice from a DataFrame.\n",
      "Try using .loc[row_indexer,col_indexer] = value instead\n",
      "\n",
      "See the caveats in the documentation: https://pandas.pydata.org/pandas-docs/stable/user_guide/indexing.html#returning-a-view-versus-a-copy\n",
      "  df[f\"{col_of_interest}_percentile\"] = df.apply(\n",
      "/tmp/ipykernel_972/777939519.py:41: SettingWithCopyWarning: \n",
      "A value is trying to be set on a copy of a slice from a DataFrame.\n",
      "Try using .loc[row_indexer,col_indexer] = value instead\n",
      "\n",
      "See the caveats in the documentation: https://pandas.pydata.org/pandas-docs/stable/user_guide/indexing.html#returning-a-view-versus-a-copy\n",
      "  df[f\"{col_of_interest}_percentile\"] = df.apply(\n",
      "/tmp/ipykernel_972/777939519.py:41: SettingWithCopyWarning: \n",
      "A value is trying to be set on a copy of a slice from a DataFrame.\n",
      "Try using .loc[row_indexer,col_indexer] = value instead\n",
      "\n",
      "See the caveats in the documentation: https://pandas.pydata.org/pandas-docs/stable/user_guide/indexing.html#returning-a-view-versus-a-copy\n",
      "  df[f\"{col_of_interest}_percentile\"] = df.apply(\n",
      "/tmp/ipykernel_972/777939519.py:41: SettingWithCopyWarning: \n",
      "A value is trying to be set on a copy of a slice from a DataFrame.\n",
      "Try using .loc[row_indexer,col_indexer] = value instead\n",
      "\n",
      "See the caveats in the documentation: https://pandas.pydata.org/pandas-docs/stable/user_guide/indexing.html#returning-a-view-versus-a-copy\n",
      "  df[f\"{col_of_interest}_percentile\"] = df.apply(\n",
      "/tmp/ipykernel_972/777939519.py:41: SettingWithCopyWarning: \n",
      "A value is trying to be set on a copy of a slice from a DataFrame.\n",
      "Try using .loc[row_indexer,col_indexer] = value instead\n",
      "\n",
      "See the caveats in the documentation: https://pandas.pydata.org/pandas-docs/stable/user_guide/indexing.html#returning-a-view-versus-a-copy\n",
      "  df[f\"{col_of_interest}_percentile\"] = df.apply(\n",
      "/tmp/ipykernel_972/777939519.py:41: SettingWithCopyWarning: \n",
      "A value is trying to be set on a copy of a slice from a DataFrame.\n",
      "Try using .loc[row_indexer,col_indexer] = value instead\n",
      "\n",
      "See the caveats in the documentation: https://pandas.pydata.org/pandas-docs/stable/user_guide/indexing.html#returning-a-view-versus-a-copy\n",
      "  df[f\"{col_of_interest}_percentile\"] = df.apply(\n",
      "/tmp/ipykernel_972/777939519.py:41: SettingWithCopyWarning: \n",
      "A value is trying to be set on a copy of a slice from a DataFrame.\n",
      "Try using .loc[row_indexer,col_indexer] = value instead\n",
      "\n",
      "See the caveats in the documentation: https://pandas.pydata.org/pandas-docs/stable/user_guide/indexing.html#returning-a-view-versus-a-copy\n",
      "  df[f\"{col_of_interest}_percentile\"] = df.apply(\n",
      "/tmp/ipykernel_972/777939519.py:41: SettingWithCopyWarning: \n",
      "A value is trying to be set on a copy of a slice from a DataFrame.\n",
      "Try using .loc[row_indexer,col_indexer] = value instead\n",
      "\n",
      "See the caveats in the documentation: https://pandas.pydata.org/pandas-docs/stable/user_guide/indexing.html#returning-a-view-versus-a-copy\n",
      "  df[f\"{col_of_interest}_percentile\"] = df.apply(\n",
      "/tmp/ipykernel_972/777939519.py:41: SettingWithCopyWarning: \n",
      "A value is trying to be set on a copy of a slice from a DataFrame.\n",
      "Try using .loc[row_indexer,col_indexer] = value instead\n",
      "\n",
      "See the caveats in the documentation: https://pandas.pydata.org/pandas-docs/stable/user_guide/indexing.html#returning-a-view-versus-a-copy\n",
      "  df[f\"{col_of_interest}_percentile\"] = df.apply(\n",
      "/tmp/ipykernel_972/777939519.py:41: SettingWithCopyWarning: \n",
      "A value is trying to be set on a copy of a slice from a DataFrame.\n",
      "Try using .loc[row_indexer,col_indexer] = value instead\n",
      "\n",
      "See the caveats in the documentation: https://pandas.pydata.org/pandas-docs/stable/user_guide/indexing.html#returning-a-view-versus-a-copy\n",
      "  df[f\"{col_of_interest}_percentile\"] = df.apply(\n",
      "/tmp/ipykernel_972/777939519.py:41: SettingWithCopyWarning: \n",
      "A value is trying to be set on a copy of a slice from a DataFrame.\n",
      "Try using .loc[row_indexer,col_indexer] = value instead\n",
      "\n",
      "See the caveats in the documentation: https://pandas.pydata.org/pandas-docs/stable/user_guide/indexing.html#returning-a-view-versus-a-copy\n",
      "  df[f\"{col_of_interest}_percentile\"] = df.apply(\n",
      "/tmp/ipykernel_972/777939519.py:41: SettingWithCopyWarning: \n",
      "A value is trying to be set on a copy of a slice from a DataFrame.\n",
      "Try using .loc[row_indexer,col_indexer] = value instead\n",
      "\n",
      "See the caveats in the documentation: https://pandas.pydata.org/pandas-docs/stable/user_guide/indexing.html#returning-a-view-versus-a-copy\n",
      "  df[f\"{col_of_interest}_percentile\"] = df.apply(\n",
      "/tmp/ipykernel_972/777939519.py:41: SettingWithCopyWarning: \n",
      "A value is trying to be set on a copy of a slice from a DataFrame.\n",
      "Try using .loc[row_indexer,col_indexer] = value instead\n",
      "\n",
      "See the caveats in the documentation: https://pandas.pydata.org/pandas-docs/stable/user_guide/indexing.html#returning-a-view-versus-a-copy\n",
      "  df[f\"{col_of_interest}_percentile\"] = df.apply(\n",
      "/tmp/ipykernel_972/777939519.py:41: SettingWithCopyWarning: \n",
      "A value is trying to be set on a copy of a slice from a DataFrame.\n",
      "Try using .loc[row_indexer,col_indexer] = value instead\n",
      "\n",
      "See the caveats in the documentation: https://pandas.pydata.org/pandas-docs/stable/user_guide/indexing.html#returning-a-view-versus-a-copy\n",
      "  df[f\"{col_of_interest}_percentile\"] = df.apply(\n",
      "/tmp/ipykernel_972/777939519.py:41: SettingWithCopyWarning: \n",
      "A value is trying to be set on a copy of a slice from a DataFrame.\n",
      "Try using .loc[row_indexer,col_indexer] = value instead\n",
      "\n",
      "See the caveats in the documentation: https://pandas.pydata.org/pandas-docs/stable/user_guide/indexing.html#returning-a-view-versus-a-copy\n",
      "  df[f\"{col_of_interest}_percentile\"] = df.apply(\n",
      "/tmp/ipykernel_972/777939519.py:41: SettingWithCopyWarning: \n",
      "A value is trying to be set on a copy of a slice from a DataFrame.\n",
      "Try using .loc[row_indexer,col_indexer] = value instead\n",
      "\n",
      "See the caveats in the documentation: https://pandas.pydata.org/pandas-docs/stable/user_guide/indexing.html#returning-a-view-versus-a-copy\n",
      "  df[f\"{col_of_interest}_percentile\"] = df.apply(\n",
      "/tmp/ipykernel_972/777939519.py:41: SettingWithCopyWarning: \n",
      "A value is trying to be set on a copy of a slice from a DataFrame.\n",
      "Try using .loc[row_indexer,col_indexer] = value instead\n",
      "\n",
      "See the caveats in the documentation: https://pandas.pydata.org/pandas-docs/stable/user_guide/indexing.html#returning-a-view-versus-a-copy\n",
      "  df[f\"{col_of_interest}_percentile\"] = df.apply(\n",
      "/tmp/ipykernel_972/777939519.py:41: SettingWithCopyWarning: \n",
      "A value is trying to be set on a copy of a slice from a DataFrame.\n",
      "Try using .loc[row_indexer,col_indexer] = value instead\n",
      "\n",
      "See the caveats in the documentation: https://pandas.pydata.org/pandas-docs/stable/user_guide/indexing.html#returning-a-view-versus-a-copy\n",
      "  df[f\"{col_of_interest}_percentile\"] = df.apply(\n",
      "/tmp/ipykernel_972/777939519.py:41: SettingWithCopyWarning: \n",
      "A value is trying to be set on a copy of a slice from a DataFrame.\n",
      "Try using .loc[row_indexer,col_indexer] = value instead\n",
      "\n",
      "See the caveats in the documentation: https://pandas.pydata.org/pandas-docs/stable/user_guide/indexing.html#returning-a-view-versus-a-copy\n",
      "  df[f\"{col_of_interest}_percentile\"] = df.apply(\n",
      "/tmp/ipykernel_972/777939519.py:41: SettingWithCopyWarning: \n",
      "A value is trying to be set on a copy of a slice from a DataFrame.\n",
      "Try using .loc[row_indexer,col_indexer] = value instead\n",
      "\n",
      "See the caveats in the documentation: https://pandas.pydata.org/pandas-docs/stable/user_guide/indexing.html#returning-a-view-versus-a-copy\n",
      "  df[f\"{col_of_interest}_percentile\"] = df.apply(\n",
      "/tmp/ipykernel_972/777939519.py:41: SettingWithCopyWarning: \n",
      "A value is trying to be set on a copy of a slice from a DataFrame.\n",
      "Try using .loc[row_indexer,col_indexer] = value instead\n",
      "\n",
      "See the caveats in the documentation: https://pandas.pydata.org/pandas-docs/stable/user_guide/indexing.html#returning-a-view-versus-a-copy\n",
      "  df[f\"{col_of_interest}_percentile\"] = df.apply(\n",
      "/tmp/ipykernel_972/777939519.py:41: SettingWithCopyWarning: \n",
      "A value is trying to be set on a copy of a slice from a DataFrame.\n",
      "Try using .loc[row_indexer,col_indexer] = value instead\n",
      "\n",
      "See the caveats in the documentation: https://pandas.pydata.org/pandas-docs/stable/user_guide/indexing.html#returning-a-view-versus-a-copy\n",
      "  df[f\"{col_of_interest}_percentile\"] = df.apply(\n",
      "/tmp/ipykernel_972/777939519.py:41: SettingWithCopyWarning: \n",
      "A value is trying to be set on a copy of a slice from a DataFrame.\n",
      "Try using .loc[row_indexer,col_indexer] = value instead\n",
      "\n",
      "See the caveats in the documentation: https://pandas.pydata.org/pandas-docs/stable/user_guide/indexing.html#returning-a-view-versus-a-copy\n",
      "  df[f\"{col_of_interest}_percentile\"] = df.apply(\n",
      "/tmp/ipykernel_972/777939519.py:41: SettingWithCopyWarning: \n",
      "A value is trying to be set on a copy of a slice from a DataFrame.\n",
      "Try using .loc[row_indexer,col_indexer] = value instead\n",
      "\n",
      "See the caveats in the documentation: https://pandas.pydata.org/pandas-docs/stable/user_guide/indexing.html#returning-a-view-versus-a-copy\n",
      "  df[f\"{col_of_interest}_percentile\"] = df.apply(\n",
      "/tmp/ipykernel_972/777939519.py:41: SettingWithCopyWarning: \n",
      "A value is trying to be set on a copy of a slice from a DataFrame.\n",
      "Try using .loc[row_indexer,col_indexer] = value instead\n",
      "\n",
      "See the caveats in the documentation: https://pandas.pydata.org/pandas-docs/stable/user_guide/indexing.html#returning-a-view-versus-a-copy\n",
      "  df[f\"{col_of_interest}_percentile\"] = df.apply(\n",
      "/tmp/ipykernel_972/777939519.py:41: SettingWithCopyWarning: \n",
      "A value is trying to be set on a copy of a slice from a DataFrame.\n",
      "Try using .loc[row_indexer,col_indexer] = value instead\n",
      "\n",
      "See the caveats in the documentation: https://pandas.pydata.org/pandas-docs/stable/user_guide/indexing.html#returning-a-view-versus-a-copy\n",
      "  df[f\"{col_of_interest}_percentile\"] = df.apply(\n",
      "/tmp/ipykernel_972/777939519.py:41: SettingWithCopyWarning: \n",
      "A value is trying to be set on a copy of a slice from a DataFrame.\n",
      "Try using .loc[row_indexer,col_indexer] = value instead\n",
      "\n",
      "See the caveats in the documentation: https://pandas.pydata.org/pandas-docs/stable/user_guide/indexing.html#returning-a-view-versus-a-copy\n",
      "  df[f\"{col_of_interest}_percentile\"] = df.apply(\n",
      "/tmp/ipykernel_972/777939519.py:41: SettingWithCopyWarning: \n",
      "A value is trying to be set on a copy of a slice from a DataFrame.\n",
      "Try using .loc[row_indexer,col_indexer] = value instead\n",
      "\n",
      "See the caveats in the documentation: https://pandas.pydata.org/pandas-docs/stable/user_guide/indexing.html#returning-a-view-versus-a-copy\n",
      "  df[f\"{col_of_interest}_percentile\"] = df.apply(\n",
      "/tmp/ipykernel_972/777939519.py:41: SettingWithCopyWarning: \n",
      "A value is trying to be set on a copy of a slice from a DataFrame.\n",
      "Try using .loc[row_indexer,col_indexer] = value instead\n",
      "\n",
      "See the caveats in the documentation: https://pandas.pydata.org/pandas-docs/stable/user_guide/indexing.html#returning-a-view-versus-a-copy\n",
      "  df[f\"{col_of_interest}_percentile\"] = df.apply(\n",
      "/tmp/ipykernel_972/777939519.py:41: SettingWithCopyWarning: \n",
      "A value is trying to be set on a copy of a slice from a DataFrame.\n",
      "Try using .loc[row_indexer,col_indexer] = value instead\n",
      "\n",
      "See the caveats in the documentation: https://pandas.pydata.org/pandas-docs/stable/user_guide/indexing.html#returning-a-view-versus-a-copy\n",
      "  df[f\"{col_of_interest}_percentile\"] = df.apply(\n",
      "/tmp/ipykernel_972/777939519.py:41: SettingWithCopyWarning: \n",
      "A value is trying to be set on a copy of a slice from a DataFrame.\n",
      "Try using .loc[row_indexer,col_indexer] = value instead\n",
      "\n",
      "See the caveats in the documentation: https://pandas.pydata.org/pandas-docs/stable/user_guide/indexing.html#returning-a-view-versus-a-copy\n",
      "  df[f\"{col_of_interest}_percentile\"] = df.apply(\n",
      "/tmp/ipykernel_972/777939519.py:41: SettingWithCopyWarning: \n",
      "A value is trying to be set on a copy of a slice from a DataFrame.\n",
      "Try using .loc[row_indexer,col_indexer] = value instead\n",
      "\n",
      "See the caveats in the documentation: https://pandas.pydata.org/pandas-docs/stable/user_guide/indexing.html#returning-a-view-versus-a-copy\n",
      "  df[f\"{col_of_interest}_percentile\"] = df.apply(\n",
      "/tmp/ipykernel_972/777939519.py:41: SettingWithCopyWarning: \n",
      "A value is trying to be set on a copy of a slice from a DataFrame.\n",
      "Try using .loc[row_indexer,col_indexer] = value instead\n",
      "\n",
      "See the caveats in the documentation: https://pandas.pydata.org/pandas-docs/stable/user_guide/indexing.html#returning-a-view-versus-a-copy\n",
      "  df[f\"{col_of_interest}_percentile\"] = df.apply(\n",
      "/tmp/ipykernel_972/777939519.py:41: SettingWithCopyWarning: \n",
      "A value is trying to be set on a copy of a slice from a DataFrame.\n",
      "Try using .loc[row_indexer,col_indexer] = value instead\n",
      "\n",
      "See the caveats in the documentation: https://pandas.pydata.org/pandas-docs/stable/user_guide/indexing.html#returning-a-view-versus-a-copy\n",
      "  df[f\"{col_of_interest}_percentile\"] = df.apply(\n",
      "/tmp/ipykernel_972/777939519.py:41: SettingWithCopyWarning: \n",
      "A value is trying to be set on a copy of a slice from a DataFrame.\n",
      "Try using .loc[row_indexer,col_indexer] = value instead\n",
      "\n",
      "See the caveats in the documentation: https://pandas.pydata.org/pandas-docs/stable/user_guide/indexing.html#returning-a-view-versus-a-copy\n",
      "  df[f\"{col_of_interest}_percentile\"] = df.apply(\n",
      "/tmp/ipykernel_972/777939519.py:41: SettingWithCopyWarning: \n",
      "A value is trying to be set on a copy of a slice from a DataFrame.\n",
      "Try using .loc[row_indexer,col_indexer] = value instead\n",
      "\n",
      "See the caveats in the documentation: https://pandas.pydata.org/pandas-docs/stable/user_guide/indexing.html#returning-a-view-versus-a-copy\n",
      "  df[f\"{col_of_interest}_percentile\"] = df.apply(\n",
      "/tmp/ipykernel_972/777939519.py:41: SettingWithCopyWarning: \n",
      "A value is trying to be set on a copy of a slice from a DataFrame.\n",
      "Try using .loc[row_indexer,col_indexer] = value instead\n",
      "\n",
      "See the caveats in the documentation: https://pandas.pydata.org/pandas-docs/stable/user_guide/indexing.html#returning-a-view-versus-a-copy\n",
      "  df[f\"{col_of_interest}_percentile\"] = df.apply(\n",
      "/tmp/ipykernel_972/777939519.py:41: SettingWithCopyWarning: \n",
      "A value is trying to be set on a copy of a slice from a DataFrame.\n",
      "Try using .loc[row_indexer,col_indexer] = value instead\n",
      "\n",
      "See the caveats in the documentation: https://pandas.pydata.org/pandas-docs/stable/user_guide/indexing.html#returning-a-view-versus-a-copy\n",
      "  df[f\"{col_of_interest}_percentile\"] = df.apply(\n",
      "/tmp/ipykernel_972/777939519.py:41: SettingWithCopyWarning: \n",
      "A value is trying to be set on a copy of a slice from a DataFrame.\n",
      "Try using .loc[row_indexer,col_indexer] = value instead\n",
      "\n",
      "See the caveats in the documentation: https://pandas.pydata.org/pandas-docs/stable/user_guide/indexing.html#returning-a-view-versus-a-copy\n",
      "  df[f\"{col_of_interest}_percentile\"] = df.apply(\n",
      "/tmp/ipykernel_972/777939519.py:41: SettingWithCopyWarning: \n",
      "A value is trying to be set on a copy of a slice from a DataFrame.\n",
      "Try using .loc[row_indexer,col_indexer] = value instead\n",
      "\n",
      "See the caveats in the documentation: https://pandas.pydata.org/pandas-docs/stable/user_guide/indexing.html#returning-a-view-versus-a-copy\n",
      "  df[f\"{col_of_interest}_percentile\"] = df.apply(\n",
      "/tmp/ipykernel_972/777939519.py:41: SettingWithCopyWarning: \n",
      "A value is trying to be set on a copy of a slice from a DataFrame.\n",
      "Try using .loc[row_indexer,col_indexer] = value instead\n",
      "\n",
      "See the caveats in the documentation: https://pandas.pydata.org/pandas-docs/stable/user_guide/indexing.html#returning-a-view-versus-a-copy\n",
      "  df[f\"{col_of_interest}_percentile\"] = df.apply(\n",
      "/tmp/ipykernel_972/777939519.py:41: SettingWithCopyWarning: \n",
      "A value is trying to be set on a copy of a slice from a DataFrame.\n",
      "Try using .loc[row_indexer,col_indexer] = value instead\n",
      "\n",
      "See the caveats in the documentation: https://pandas.pydata.org/pandas-docs/stable/user_guide/indexing.html#returning-a-view-versus-a-copy\n",
      "  df[f\"{col_of_interest}_percentile\"] = df.apply(\n",
      "/tmp/ipykernel_972/777939519.py:41: SettingWithCopyWarning: \n",
      "A value is trying to be set on a copy of a slice from a DataFrame.\n",
      "Try using .loc[row_indexer,col_indexer] = value instead\n",
      "\n",
      "See the caveats in the documentation: https://pandas.pydata.org/pandas-docs/stable/user_guide/indexing.html#returning-a-view-versus-a-copy\n",
      "  df[f\"{col_of_interest}_percentile\"] = df.apply(\n",
      "/tmp/ipykernel_972/777939519.py:41: SettingWithCopyWarning: \n",
      "A value is trying to be set on a copy of a slice from a DataFrame.\n",
      "Try using .loc[row_indexer,col_indexer] = value instead\n",
      "\n",
      "See the caveats in the documentation: https://pandas.pydata.org/pandas-docs/stable/user_guide/indexing.html#returning-a-view-versus-a-copy\n",
      "  df[f\"{col_of_interest}_percentile\"] = df.apply(\n",
      "/tmp/ipykernel_972/777939519.py:41: SettingWithCopyWarning: \n",
      "A value is trying to be set on a copy of a slice from a DataFrame.\n",
      "Try using .loc[row_indexer,col_indexer] = value instead\n",
      "\n",
      "See the caveats in the documentation: https://pandas.pydata.org/pandas-docs/stable/user_guide/indexing.html#returning-a-view-versus-a-copy\n",
      "  df[f\"{col_of_interest}_percentile\"] = df.apply(\n",
      "/tmp/ipykernel_972/777939519.py:41: SettingWithCopyWarning: \n",
      "A value is trying to be set on a copy of a slice from a DataFrame.\n",
      "Try using .loc[row_indexer,col_indexer] = value instead\n",
      "\n",
      "See the caveats in the documentation: https://pandas.pydata.org/pandas-docs/stable/user_guide/indexing.html#returning-a-view-versus-a-copy\n",
      "  df[f\"{col_of_interest}_percentile\"] = df.apply(\n",
      "/tmp/ipykernel_972/777939519.py:41: SettingWithCopyWarning: \n",
      "A value is trying to be set on a copy of a slice from a DataFrame.\n",
      "Try using .loc[row_indexer,col_indexer] = value instead\n",
      "\n",
      "See the caveats in the documentation: https://pandas.pydata.org/pandas-docs/stable/user_guide/indexing.html#returning-a-view-versus-a-copy\n",
      "  df[f\"{col_of_interest}_percentile\"] = df.apply(\n",
      "/tmp/ipykernel_972/777939519.py:41: SettingWithCopyWarning: \n",
      "A value is trying to be set on a copy of a slice from a DataFrame.\n",
      "Try using .loc[row_indexer,col_indexer] = value instead\n",
      "\n",
      "See the caveats in the documentation: https://pandas.pydata.org/pandas-docs/stable/user_guide/indexing.html#returning-a-view-versus-a-copy\n",
      "  df[f\"{col_of_interest}_percentile\"] = df.apply(\n",
      "/tmp/ipykernel_972/777939519.py:41: SettingWithCopyWarning: \n",
      "A value is trying to be set on a copy of a slice from a DataFrame.\n",
      "Try using .loc[row_indexer,col_indexer] = value instead\n",
      "\n",
      "See the caveats in the documentation: https://pandas.pydata.org/pandas-docs/stable/user_guide/indexing.html#returning-a-view-versus-a-copy\n",
      "  df[f\"{col_of_interest}_percentile\"] = df.apply(\n",
      "/tmp/ipykernel_972/777939519.py:41: SettingWithCopyWarning: \n",
      "A value is trying to be set on a copy of a slice from a DataFrame.\n",
      "Try using .loc[row_indexer,col_indexer] = value instead\n",
      "\n",
      "See the caveats in the documentation: https://pandas.pydata.org/pandas-docs/stable/user_guide/indexing.html#returning-a-view-versus-a-copy\n",
      "  df[f\"{col_of_interest}_percentile\"] = df.apply(\n",
      "/tmp/ipykernel_972/777939519.py:41: SettingWithCopyWarning: \n",
      "A value is trying to be set on a copy of a slice from a DataFrame.\n",
      "Try using .loc[row_indexer,col_indexer] = value instead\n",
      "\n",
      "See the caveats in the documentation: https://pandas.pydata.org/pandas-docs/stable/user_guide/indexing.html#returning-a-view-versus-a-copy\n",
      "  df[f\"{col_of_interest}_percentile\"] = df.apply(\n",
      "/tmp/ipykernel_972/777939519.py:41: SettingWithCopyWarning: \n",
      "A value is trying to be set on a copy of a slice from a DataFrame.\n",
      "Try using .loc[row_indexer,col_indexer] = value instead\n",
      "\n",
      "See the caveats in the documentation: https://pandas.pydata.org/pandas-docs/stable/user_guide/indexing.html#returning-a-view-versus-a-copy\n",
      "  df[f\"{col_of_interest}_percentile\"] = df.apply(\n",
      "/tmp/ipykernel_972/777939519.py:41: SettingWithCopyWarning: \n",
      "A value is trying to be set on a copy of a slice from a DataFrame.\n",
      "Try using .loc[row_indexer,col_indexer] = value instead\n",
      "\n",
      "See the caveats in the documentation: https://pandas.pydata.org/pandas-docs/stable/user_guide/indexing.html#returning-a-view-versus-a-copy\n",
      "  df[f\"{col_of_interest}_percentile\"] = df.apply(\n",
      "/tmp/ipykernel_972/777939519.py:41: SettingWithCopyWarning: \n",
      "A value is trying to be set on a copy of a slice from a DataFrame.\n",
      "Try using .loc[row_indexer,col_indexer] = value instead\n",
      "\n",
      "See the caveats in the documentation: https://pandas.pydata.org/pandas-docs/stable/user_guide/indexing.html#returning-a-view-versus-a-copy\n",
      "  df[f\"{col_of_interest}_percentile\"] = df.apply(\n",
      "/tmp/ipykernel_972/777939519.py:41: SettingWithCopyWarning: \n",
      "A value is trying to be set on a copy of a slice from a DataFrame.\n",
      "Try using .loc[row_indexer,col_indexer] = value instead\n",
      "\n",
      "See the caveats in the documentation: https://pandas.pydata.org/pandas-docs/stable/user_guide/indexing.html#returning-a-view-versus-a-copy\n",
      "  df[f\"{col_of_interest}_percentile\"] = df.apply(\n",
      "/tmp/ipykernel_972/777939519.py:41: SettingWithCopyWarning: \n",
      "A value is trying to be set on a copy of a slice from a DataFrame.\n",
      "Try using .loc[row_indexer,col_indexer] = value instead\n",
      "\n",
      "See the caveats in the documentation: https://pandas.pydata.org/pandas-docs/stable/user_guide/indexing.html#returning-a-view-versus-a-copy\n",
      "  df[f\"{col_of_interest}_percentile\"] = df.apply(\n",
      "/tmp/ipykernel_972/777939519.py:41: SettingWithCopyWarning: \n",
      "A value is trying to be set on a copy of a slice from a DataFrame.\n",
      "Try using .loc[row_indexer,col_indexer] = value instead\n",
      "\n",
      "See the caveats in the documentation: https://pandas.pydata.org/pandas-docs/stable/user_guide/indexing.html#returning-a-view-versus-a-copy\n",
      "  df[f\"{col_of_interest}_percentile\"] = df.apply(\n",
      "/tmp/ipykernel_972/777939519.py:41: SettingWithCopyWarning: \n",
      "A value is trying to be set on a copy of a slice from a DataFrame.\n",
      "Try using .loc[row_indexer,col_indexer] = value instead\n",
      "\n",
      "See the caveats in the documentation: https://pandas.pydata.org/pandas-docs/stable/user_guide/indexing.html#returning-a-view-versus-a-copy\n",
      "  df[f\"{col_of_interest}_percentile\"] = df.apply(\n",
      "/tmp/ipykernel_972/777939519.py:41: SettingWithCopyWarning: \n",
      "A value is trying to be set on a copy of a slice from a DataFrame.\n",
      "Try using .loc[row_indexer,col_indexer] = value instead\n",
      "\n",
      "See the caveats in the documentation: https://pandas.pydata.org/pandas-docs/stable/user_guide/indexing.html#returning-a-view-versus-a-copy\n",
      "  df[f\"{col_of_interest}_percentile\"] = df.apply(\n",
      "/tmp/ipykernel_972/777939519.py:41: SettingWithCopyWarning: \n",
      "A value is trying to be set on a copy of a slice from a DataFrame.\n",
      "Try using .loc[row_indexer,col_indexer] = value instead\n",
      "\n",
      "See the caveats in the documentation: https://pandas.pydata.org/pandas-docs/stable/user_guide/indexing.html#returning-a-view-versus-a-copy\n",
      "  df[f\"{col_of_interest}_percentile\"] = df.apply(\n",
      "/tmp/ipykernel_972/777939519.py:41: SettingWithCopyWarning: \n",
      "A value is trying to be set on a copy of a slice from a DataFrame.\n",
      "Try using .loc[row_indexer,col_indexer] = value instead\n",
      "\n",
      "See the caveats in the documentation: https://pandas.pydata.org/pandas-docs/stable/user_guide/indexing.html#returning-a-view-versus-a-copy\n",
      "  df[f\"{col_of_interest}_percentile\"] = df.apply(\n",
      "/tmp/ipykernel_972/777939519.py:41: SettingWithCopyWarning: \n",
      "A value is trying to be set on a copy of a slice from a DataFrame.\n",
      "Try using .loc[row_indexer,col_indexer] = value instead\n",
      "\n",
      "See the caveats in the documentation: https://pandas.pydata.org/pandas-docs/stable/user_guide/indexing.html#returning-a-view-versus-a-copy\n",
      "  df[f\"{col_of_interest}_percentile\"] = df.apply(\n",
      "/tmp/ipykernel_972/777939519.py:41: SettingWithCopyWarning: \n",
      "A value is trying to be set on a copy of a slice from a DataFrame.\n",
      "Try using .loc[row_indexer,col_indexer] = value instead\n",
      "\n",
      "See the caveats in the documentation: https://pandas.pydata.org/pandas-docs/stable/user_guide/indexing.html#returning-a-view-versus-a-copy\n",
      "  df[f\"{col_of_interest}_percentile\"] = df.apply(\n",
      "/tmp/ipykernel_972/777939519.py:41: SettingWithCopyWarning: \n",
      "A value is trying to be set on a copy of a slice from a DataFrame.\n",
      "Try using .loc[row_indexer,col_indexer] = value instead\n",
      "\n",
      "See the caveats in the documentation: https://pandas.pydata.org/pandas-docs/stable/user_guide/indexing.html#returning-a-view-versus-a-copy\n",
      "  df[f\"{col_of_interest}_percentile\"] = df.apply(\n",
      "/tmp/ipykernel_972/777939519.py:41: SettingWithCopyWarning: \n",
      "A value is trying to be set on a copy of a slice from a DataFrame.\n",
      "Try using .loc[row_indexer,col_indexer] = value instead\n",
      "\n",
      "See the caveats in the documentation: https://pandas.pydata.org/pandas-docs/stable/user_guide/indexing.html#returning-a-view-versus-a-copy\n",
      "  df[f\"{col_of_interest}_percentile\"] = df.apply(\n",
      "/tmp/ipykernel_972/777939519.py:41: SettingWithCopyWarning: \n",
      "A value is trying to be set on a copy of a slice from a DataFrame.\n",
      "Try using .loc[row_indexer,col_indexer] = value instead\n",
      "\n",
      "See the caveats in the documentation: https://pandas.pydata.org/pandas-docs/stable/user_guide/indexing.html#returning-a-view-versus-a-copy\n",
      "  df[f\"{col_of_interest}_percentile\"] = df.apply(\n",
      "/tmp/ipykernel_972/777939519.py:41: SettingWithCopyWarning: \n",
      "A value is trying to be set on a copy of a slice from a DataFrame.\n",
      "Try using .loc[row_indexer,col_indexer] = value instead\n",
      "\n",
      "See the caveats in the documentation: https://pandas.pydata.org/pandas-docs/stable/user_guide/indexing.html#returning-a-view-versus-a-copy\n",
      "  df[f\"{col_of_interest}_percentile\"] = df.apply(\n",
      "/tmp/ipykernel_972/777939519.py:41: SettingWithCopyWarning: \n",
      "A value is trying to be set on a copy of a slice from a DataFrame.\n",
      "Try using .loc[row_indexer,col_indexer] = value instead\n",
      "\n",
      "See the caveats in the documentation: https://pandas.pydata.org/pandas-docs/stable/user_guide/indexing.html#returning-a-view-versus-a-copy\n",
      "  df[f\"{col_of_interest}_percentile\"] = df.apply(\n"
     ]
    }
   ],
   "source": [
    "percentile_df = pd.DataFrame()\n",
    "for operator in list(\n",
    "    concatenate_schedule_operator_metrics_subset2.portfolio_organization_name.unique()\n",
    "):\n",
    "    one_operator = concatenate_schedule_operator_metrics_subset2.loc[\n",
    "        concatenate_schedule_operator_metrics_subset2.portfolio_organization_name\n",
    "        == operator\n",
    "    ]\n",
    "    df = find_percentiles(one_operator, \"route_length_miles\")\n",
    "    percentile_df = pd.concat([percentile_df, df], axis=0)"
   ]
  },
  {
   "cell_type": "code",
   "execution_count": 43,
   "id": "4a970cd7-3c24-42c1-8fe5-32788752237f",
   "metadata": {
    "tags": []
   },
   "outputs": [
    {
     "data": {
      "text/plain": [
       "29050"
      ]
     },
     "execution_count": 43,
     "metadata": {},
     "output_type": "execute_result"
    }
   ],
   "source": [
    "len(percentile_df)"
   ]
  },
  {
   "cell_type": "code",
   "execution_count": 44,
   "id": "67a9a1af-f4b3-4eb0-8b75-3e37c36e749c",
   "metadata": {
    "tags": []
   },
   "outputs": [
    {
     "data": {
      "text/html": [
       "<div>\n",
       "<style scoped>\n",
       "    .dataframe tbody tr th:only-of-type {\n",
       "        vertical-align: middle;\n",
       "    }\n",
       "\n",
       "    .dataframe tbody tr th {\n",
       "        vertical-align: top;\n",
       "    }\n",
       "\n",
       "    .dataframe thead th {\n",
       "        text-align: right;\n",
       "    }\n",
       "</style>\n",
       "<table border=\"1\" class=\"dataframe\">\n",
       "  <thead>\n",
       "    <tr style=\"text-align: right;\">\n",
       "      <th></th>\n",
       "      <th>portfolio_organization_name</th>\n",
       "      <th>route_id</th>\n",
       "      <th>route_length_miles</th>\n",
       "      <th>service_date</th>\n",
       "      <th>route_length_miles_percentile</th>\n",
       "      <th>percentile_group</th>\n",
       "    </tr>\n",
       "  </thead>\n",
       "  <tbody>\n",
       "    <tr>\n",
       "      <th>1338</th>\n",
       "      <td>FlixBus and Greyhound</td>\n",
       "      <td>2605</td>\n",
       "      <td>357.02</td>\n",
       "      <td>2024-03-13</td>\n",
       "      <td>50th percentile</td>\n",
       "      <td>26-50th percentile (240.1-358 miles)</td>\n",
       "    </tr>\n",
       "    <tr>\n",
       "      <th>359</th>\n",
       "      <td>San Joaquin Regional Transit District</td>\n",
       "      <td>545</td>\n",
       "      <td>11.48</td>\n",
       "      <td>2024-12-11</td>\n",
       "      <td>&lt; 75th percentile</td>\n",
       "      <td>51-75th percentile (8.1-12 miles)</td>\n",
       "    </tr>\n",
       "    <tr>\n",
       "      <th>464</th>\n",
       "      <td>Santa Clara Valley Transportation Authority</td>\n",
       "      <td>Express 102</td>\n",
       "      <td>31.89</td>\n",
       "      <td>2024-05-22</td>\n",
       "      <td>&gt; 75th percentile</td>\n",
       "      <td>76th percentile (&gt;=16.1 miles)</td>\n",
       "    </tr>\n",
       "    <tr>\n",
       "      <th>145</th>\n",
       "      <td>Redding Area Bus Authority</td>\n",
       "      <td>1889</td>\n",
       "      <td>4.59</td>\n",
       "      <td>2024-02-14</td>\n",
       "      <td>25th percentile</td>\n",
       "      <td>25 percentile (&lt;=6 miles)</td>\n",
       "    </tr>\n",
       "    <tr>\n",
       "      <th>48</th>\n",
       "      <td>Western Contra Costa Transit Authority</td>\n",
       "      <td>12</td>\n",
       "      <td>4.42</td>\n",
       "      <td>2024-07-17</td>\n",
       "      <td>25th percentile</td>\n",
       "      <td>25 percentile (&lt;=6 miles)</td>\n",
       "    </tr>\n",
       "    <tr>\n",
       "      <th>6</th>\n",
       "      <td>Glenn County</td>\n",
       "      <td>17909</td>\n",
       "      <td>46.18</td>\n",
       "      <td>2024-07-17</td>\n",
       "      <td>25th percentile</td>\n",
       "      <td>25 percentile (&lt;=46 miles)</td>\n",
       "    </tr>\n",
       "    <tr>\n",
       "      <th>770</th>\n",
       "      <td>Alameda-Contra Costa Transit District</td>\n",
       "      <td>376</td>\n",
       "      <td>13.51</td>\n",
       "      <td>2024-02-14</td>\n",
       "      <td>&lt; 75th percentile</td>\n",
       "      <td>51-75th percentile (10.1-13 miles)</td>\n",
       "    </tr>\n",
       "    <tr>\n",
       "      <th>1255</th>\n",
       "      <td>Los Angeles County Metropolitan Transportation Authority</td>\n",
       "      <td>204-13183</td>\n",
       "      <td>12.74</td>\n",
       "      <td>2024-12-11</td>\n",
       "      <td>25th percentile</td>\n",
       "      <td>25 percentile (&lt;=12 miles)</td>\n",
       "    </tr>\n",
       "    <tr>\n",
       "      <th>1821</th>\n",
       "      <td>FlixBus and Greyhound</td>\n",
       "      <td>US0240</td>\n",
       "      <td>253.26</td>\n",
       "      <td>2024-12-11</td>\n",
       "      <td>50th percentile</td>\n",
       "      <td>26-50th percentile (240.1-358 miles)</td>\n",
       "    </tr>\n",
       "    <tr>\n",
       "      <th>353</th>\n",
       "      <td>City of Santa Clarita</td>\n",
       "      <td>792</td>\n",
       "      <td>38.30</td>\n",
       "      <td>2024-01-17</td>\n",
       "      <td>&gt; 75th percentile</td>\n",
       "      <td>76th percentile (&gt;=15.1 miles)</td>\n",
       "    </tr>\n",
       "  </tbody>\n",
       "</table>\n",
       "</div>"
      ],
      "text/plain": [
       "                                   portfolio_organization_name     route_id  \\\n",
       "1338                                     FlixBus and Greyhound         2605   \n",
       "359                      San Joaquin Regional Transit District          545   \n",
       "464                Santa Clara Valley Transportation Authority  Express 102   \n",
       "145                                 Redding Area Bus Authority         1889   \n",
       "48                      Western Contra Costa Transit Authority           12   \n",
       "6                                                 Glenn County        17909   \n",
       "770                      Alameda-Contra Costa Transit District          376   \n",
       "1255  Los Angeles County Metropolitan Transportation Authority    204-13183   \n",
       "1821                                     FlixBus and Greyhound       US0240   \n",
       "353                                      City of Santa Clarita          792   \n",
       "\n",
       "      route_length_miles service_date route_length_miles_percentile  \\\n",
       "1338              357.02   2024-03-13               50th percentile   \n",
       "359                11.48   2024-12-11             < 75th percentile   \n",
       "464                31.89   2024-05-22             > 75th percentile   \n",
       "145                 4.59   2024-02-14               25th percentile   \n",
       "48                  4.42   2024-07-17               25th percentile   \n",
       "6                  46.18   2024-07-17               25th percentile   \n",
       "770                13.51   2024-02-14             < 75th percentile   \n",
       "1255               12.74   2024-12-11               25th percentile   \n",
       "1821              253.26   2024-12-11               50th percentile   \n",
       "353                38.30   2024-01-17             > 75th percentile   \n",
       "\n",
       "                          percentile_group  \n",
       "1338  26-50th percentile (240.1-358 miles)  \n",
       "359      51-75th percentile (8.1-12 miles)  \n",
       "464         76th percentile (>=16.1 miles)  \n",
       "145              25 percentile (<=6 miles)  \n",
       "48               25 percentile (<=6 miles)  \n",
       "6               25 percentile (<=46 miles)  \n",
       "770     51-75th percentile (10.1-13 miles)  \n",
       "1255            25 percentile (<=12 miles)  \n",
       "1821  26-50th percentile (240.1-358 miles)  \n",
       "353         76th percentile (>=15.1 miles)  "
      ]
     },
     "execution_count": 44,
     "metadata": {},
     "output_type": "execute_result"
    }
   ],
   "source": [
    "percentile_df.sample(10)"
   ]
  },
  {
   "cell_type": "code",
   "execution_count": 45,
   "id": "33df1bf0-f181-4d1d-8330-e3fb1d30441e",
   "metadata": {
    "tags": []
   },
   "outputs": [],
   "source": [
    "#  Merge back with a left join\n",
    "m2 = pd.merge(\n",
    "    m1,\n",
    "    percentile_df.drop(columns=[\"route_length_miles\", \"route_length_miles_percentile\"]),\n",
    "    on=[\"portfolio_organization_name\", \"route_id\", \"service_date\"],\n",
    "    how=\"left\",\n",
    ")"
   ]
  },
  {
   "cell_type": "code",
   "execution_count": 46,
   "id": "ee7cc8b9-9fcd-4366-9ed9-32b78e1388f1",
   "metadata": {
    "tags": []
   },
   "outputs": [
    {
     "data": {
      "text/plain": [
       "(40825, 24)"
      ]
     },
     "execution_count": 46,
     "metadata": {},
     "output_type": "execute_result"
    }
   ],
   "source": [
    "m2.shape"
   ]
  },
  {
   "cell_type": "code",
   "execution_count": 47,
   "id": "d11ed938-4618-406d-8521-91bfcfc8be9d",
   "metadata": {
    "tags": []
   },
   "outputs": [
    {
     "data": {
      "text/plain": [
       "(40797, 23)"
      ]
     },
     "execution_count": 47,
     "metadata": {},
     "output_type": "execute_result"
    }
   ],
   "source": [
    "m1.shape"
   ]
  },
  {
   "cell_type": "code",
   "execution_count": 48,
   "id": "64198e46-cc7d-4692-b69a-1f8b1c95535b",
   "metadata": {
    "tags": []
   },
   "outputs": [
    {
     "data": {
      "text/plain": [
       "(40525, 21)"
      ]
     },
     "execution_count": 48,
     "metadata": {},
     "output_type": "execute_result"
    }
   ],
   "source": [
    "concatenate_schedule_operator_metrics_df.shape"
   ]
  },
  {
   "cell_type": "code",
   "execution_count": 49,
   "id": "6eea22be-7512-499c-81fc-1fba617a734d",
   "metadata": {
    "scrolled": true,
    "tags": []
   },
   "outputs": [],
   "source": [
    "# percentile_df.groupby([\"portfolio_organization_name\", \"percentile_group\"]).agg({\"route_id\":\"nunique\"})"
   ]
  },
  {
   "cell_type": "markdown",
   "id": "5286948e-8a7a-4a81-bfb2-8a0f1706e099",
   "metadata": {},
   "source": [
    "### Task #3: DONE.\n",
    "* <i>take input produced in concatenate_operator_routes\n",
    "    get counties for operator-date\n",
    "    df should only be operator-date-counties_served\n",
    "    use this to merge into crosswalk and replace NTD column</i>"
   ]
  },
  {
   "cell_type": "code",
   "execution_count": 50,
   "id": "22fd9c53-286f-44c1-843c-dd36ec873f9d",
   "metadata": {
    "tags": []
   },
   "outputs": [],
   "source": [
    "def get_counties() -> gpd.GeoDataFrame:\n",
    "    \"\"\"\n",
    "    Load a geodataframe of the California counties.\n",
    "    \"\"\"\n",
    "    ca_gdf = \"https://opendata.arcgis.com/datasets/8713ced9b78a4abb97dc130a691a8695_0.geojson\"\n",
    "    my_gdf = to_snakecase(gpd.read_file(f\"{ca_gdf}\"))[[\"county_name\", \"geometry\"]]\n",
    "\n",
    "    return my_gdf"
   ]
  },
  {
   "cell_type": "code",
   "execution_count": 51,
   "id": "9e1e7826-f030-4e5d-a551-332c2467eee0",
   "metadata": {
    "tags": []
   },
   "outputs": [],
   "source": [
    "def counties_served_by_operator(gdf: gpd.GeoDataFrame) -> gpd.GeoDataFrame:\n",
    "    \"\"\"\n",
    "    Join the geodataframe produced by concatenate_operator_routes\n",
    "    to find which counties an operator serves.\n",
    "    \"\"\"\n",
    "    # Subset\n",
    "    gdf2 = gdf[[\"route_id\", \"service_date\", \"portfolio_organization_name\", \"geometry\"]]\n",
    "\n",
    "    # Grab counties\n",
    "    ca_counties = get_counties()\n",
    "\n",
    "    # Sjoin\n",
    "    counties_served = gpd.sjoin(\n",
    "        gdf2, ca_counties.to_crs(gdf.crs), how=\"inner\", predicate=\"intersects\"\n",
    "    ).drop(columns=\"index_right\")\n",
    "\n",
    "    # Drop Duplicates\n",
    "    counties_served2 = (\n",
    "        counties_served[[\"service_date\", \"portfolio_organization_name\", \"county_name\"]]\n",
    "        .drop_duplicates()\n",
    "        .sort_values(by=[\"county_name\"])\n",
    "        .reset_index(drop=True)\n",
    "    )\n",
    "\n",
    "    # Concatenate the counties using a groupby\n",
    "    counties_served3 = counties_served2.groupby(\n",
    "        [\n",
    "            \"service_date\",\n",
    "            \"portfolio_organization_name\",\n",
    "        ],\n",
    "        as_index=False,\n",
    "    ).agg({\"county_name\": \",\".join})\n",
    "\n",
    "    return counties_served3"
   ]
  },
  {
   "cell_type": "code",
   "execution_count": 52,
   "id": "0a804c09-266c-4d6d-bde0-b1c61a18b261",
   "metadata": {
    "tags": []
   },
   "outputs": [
    {
     "ename": "DriverError",
     "evalue": "Failed to open dataset (flags=68): /vsicurl/https://opendata.arcgis.com/datasets/8713ced9b78a4abb97dc130a691a8695_0.geojson",
     "output_type": "error",
     "traceback": [
      "\u001b[0;31m---------------------------------------------------------------------------\u001b[0m",
      "\u001b[0;31mCPLE_AppDefinedError\u001b[0m                      Traceback (most recent call last)",
      "\u001b[0;31mCPLE_AppDefinedError\u001b[0m: At line 1, character 245761: Unterminated object",
      "\nThe above exception was the direct cause of the following exception:\n",
      "\u001b[0;31mCPLE_OpenFailedError\u001b[0m                      Traceback (most recent call last)",
      "File \u001b[0;32mfiona/ogrext.pyx:130\u001b[0m, in \u001b[0;36mfiona.ogrext.gdal_open_vector\u001b[0;34m()\u001b[0m\n",
      "File \u001b[0;32mfiona/ogrext.pyx:134\u001b[0m, in \u001b[0;36mfiona.ogrext.gdal_open_vector\u001b[0;34m()\u001b[0m\n",
      "File \u001b[0;32mfiona/_err.pyx:375\u001b[0m, in \u001b[0;36mfiona._err.StackChecker.exc_wrap_pointer\u001b[0;34m()\u001b[0m\n",
      "\u001b[0;31mCPLE_OpenFailedError\u001b[0m: Failed to read GeoJSON data",
      "\nThe above exception was the direct cause of the following exception:\n",
      "\u001b[0;31mDriverError\u001b[0m                               Traceback (most recent call last)",
      "Cell \u001b[0;32mIn[52], line 1\u001b[0m\n\u001b[0;32m----> 1\u001b[0m counties_served_df \u001b[38;5;241m=\u001b[39m \u001b[43mcounties_served_by_operator\u001b[49m\u001b[43m(\u001b[49m\u001b[43mgdf\u001b[49m\u001b[43m)\u001b[49m\n",
      "Cell \u001b[0;32mIn[51], line 10\u001b[0m, in \u001b[0;36mcounties_served_by_operator\u001b[0;34m(gdf)\u001b[0m\n\u001b[1;32m      7\u001b[0m gdf2 \u001b[38;5;241m=\u001b[39m gdf[[\u001b[38;5;124m\"\u001b[39m\u001b[38;5;124mroute_id\u001b[39m\u001b[38;5;124m\"\u001b[39m, \u001b[38;5;124m\"\u001b[39m\u001b[38;5;124mservice_date\u001b[39m\u001b[38;5;124m\"\u001b[39m, \u001b[38;5;124m\"\u001b[39m\u001b[38;5;124mportfolio_organization_name\u001b[39m\u001b[38;5;124m\"\u001b[39m, \u001b[38;5;124m\"\u001b[39m\u001b[38;5;124mgeometry\u001b[39m\u001b[38;5;124m\"\u001b[39m]]\n\u001b[1;32m      9\u001b[0m \u001b[38;5;66;03m# Grab counties\u001b[39;00m\n\u001b[0;32m---> 10\u001b[0m ca_counties \u001b[38;5;241m=\u001b[39m \u001b[43mget_counties\u001b[49m\u001b[43m(\u001b[49m\u001b[43m)\u001b[49m\n\u001b[1;32m     12\u001b[0m \u001b[38;5;66;03m# Sjoin\u001b[39;00m\n\u001b[1;32m     13\u001b[0m counties_served \u001b[38;5;241m=\u001b[39m gpd\u001b[38;5;241m.\u001b[39msjoin(\n\u001b[1;32m     14\u001b[0m     gdf2, ca_counties\u001b[38;5;241m.\u001b[39mto_crs(gdf\u001b[38;5;241m.\u001b[39mcrs), how\u001b[38;5;241m=\u001b[39m\u001b[38;5;124m\"\u001b[39m\u001b[38;5;124minner\u001b[39m\u001b[38;5;124m\"\u001b[39m, predicate\u001b[38;5;241m=\u001b[39m\u001b[38;5;124m\"\u001b[39m\u001b[38;5;124mintersects\u001b[39m\u001b[38;5;124m\"\u001b[39m\n\u001b[1;32m     15\u001b[0m )\u001b[38;5;241m.\u001b[39mdrop(columns\u001b[38;5;241m=\u001b[39m\u001b[38;5;124m\"\u001b[39m\u001b[38;5;124mindex_right\u001b[39m\u001b[38;5;124m\"\u001b[39m)\n",
      "Cell \u001b[0;32mIn[50], line 6\u001b[0m, in \u001b[0;36mget_counties\u001b[0;34m()\u001b[0m\n\u001b[1;32m      2\u001b[0m \u001b[38;5;250m\u001b[39m\u001b[38;5;124;03m\"\"\"\u001b[39;00m\n\u001b[1;32m      3\u001b[0m \u001b[38;5;124;03mLoad a geodataframe of the California counties.\u001b[39;00m\n\u001b[1;32m      4\u001b[0m \u001b[38;5;124;03m\"\"\"\u001b[39;00m\n\u001b[1;32m      5\u001b[0m ca_gdf \u001b[38;5;241m=\u001b[39m \u001b[38;5;124m\"\u001b[39m\u001b[38;5;124mhttps://opendata.arcgis.com/datasets/8713ced9b78a4abb97dc130a691a8695_0.geojson\u001b[39m\u001b[38;5;124m\"\u001b[39m\n\u001b[0;32m----> 6\u001b[0m my_gdf \u001b[38;5;241m=\u001b[39m to_snakecase(\u001b[43mgpd\u001b[49m\u001b[38;5;241;43m.\u001b[39;49m\u001b[43mread_file\u001b[49m\u001b[43m(\u001b[49m\u001b[38;5;124;43mf\u001b[39;49m\u001b[38;5;124;43m\"\u001b[39;49m\u001b[38;5;132;43;01m{\u001b[39;49;00m\u001b[43mca_gdf\u001b[49m\u001b[38;5;132;43;01m}\u001b[39;49;00m\u001b[38;5;124;43m\"\u001b[39;49m\u001b[43m)\u001b[49m)[[\u001b[38;5;124m\"\u001b[39m\u001b[38;5;124mcounty_name\u001b[39m\u001b[38;5;124m\"\u001b[39m, \u001b[38;5;124m\"\u001b[39m\u001b[38;5;124mgeometry\u001b[39m\u001b[38;5;124m\"\u001b[39m]]\n\u001b[1;32m      8\u001b[0m \u001b[38;5;28;01mreturn\u001b[39;00m my_gdf\n",
      "File \u001b[0;32m/opt/conda/lib/python3.11/site-packages/geopandas/io/file.py:289\u001b[0m, in \u001b[0;36m_read_file\u001b[0;34m(filename, bbox, mask, rows, engine, **kwargs)\u001b[0m\n\u001b[1;32m    286\u001b[0m     \u001b[38;5;28;01melse\u001b[39;00m:\n\u001b[1;32m    287\u001b[0m         path_or_bytes \u001b[38;5;241m=\u001b[39m filename\n\u001b[0;32m--> 289\u001b[0m     \u001b[38;5;28;01mreturn\u001b[39;00m \u001b[43m_read_file_fiona\u001b[49m\u001b[43m(\u001b[49m\n\u001b[1;32m    290\u001b[0m \u001b[43m        \u001b[49m\u001b[43mpath_or_bytes\u001b[49m\u001b[43m,\u001b[49m\u001b[43m \u001b[49m\u001b[43mfrom_bytes\u001b[49m\u001b[43m,\u001b[49m\u001b[43m \u001b[49m\u001b[43mbbox\u001b[49m\u001b[38;5;241;43m=\u001b[39;49m\u001b[43mbbox\u001b[49m\u001b[43m,\u001b[49m\u001b[43m \u001b[49m\u001b[43mmask\u001b[49m\u001b[38;5;241;43m=\u001b[39;49m\u001b[43mmask\u001b[49m\u001b[43m,\u001b[49m\u001b[43m \u001b[49m\u001b[43mrows\u001b[49m\u001b[38;5;241;43m=\u001b[39;49m\u001b[43mrows\u001b[49m\u001b[43m,\u001b[49m\u001b[43m \u001b[49m\u001b[38;5;241;43m*\u001b[39;49m\u001b[38;5;241;43m*\u001b[39;49m\u001b[43mkwargs\u001b[49m\n\u001b[1;32m    291\u001b[0m \u001b[43m    \u001b[49m\u001b[43m)\u001b[49m\n\u001b[1;32m    293\u001b[0m \u001b[38;5;28;01melse\u001b[39;00m:\n\u001b[1;32m    294\u001b[0m     \u001b[38;5;28;01mraise\u001b[39;00m \u001b[38;5;167;01mValueError\u001b[39;00m(\u001b[38;5;124mf\u001b[39m\u001b[38;5;124m\"\u001b[39m\u001b[38;5;124munknown engine \u001b[39m\u001b[38;5;124m'\u001b[39m\u001b[38;5;132;01m{\u001b[39;00mengine\u001b[38;5;132;01m}\u001b[39;00m\u001b[38;5;124m'\u001b[39m\u001b[38;5;124m\"\u001b[39m)\n",
      "File \u001b[0;32m/opt/conda/lib/python3.11/site-packages/geopandas/io/file.py:315\u001b[0m, in \u001b[0;36m_read_file_fiona\u001b[0;34m(path_or_bytes, from_bytes, bbox, mask, rows, where, **kwargs)\u001b[0m\n\u001b[1;32m    312\u001b[0m     reader \u001b[38;5;241m=\u001b[39m fiona\u001b[38;5;241m.\u001b[39mopen\n\u001b[1;32m    314\u001b[0m \u001b[38;5;28;01mwith\u001b[39;00m fiona_env():\n\u001b[0;32m--> 315\u001b[0m     \u001b[38;5;28;01mwith\u001b[39;00m \u001b[43mreader\u001b[49m\u001b[43m(\u001b[49m\u001b[43mpath_or_bytes\u001b[49m\u001b[43m,\u001b[49m\u001b[43m \u001b[49m\u001b[38;5;241;43m*\u001b[39;49m\u001b[38;5;241;43m*\u001b[39;49m\u001b[43mkwargs\u001b[49m\u001b[43m)\u001b[49m \u001b[38;5;28;01mas\u001b[39;00m features:\n\u001b[1;32m    316\u001b[0m         crs \u001b[38;5;241m=\u001b[39m features\u001b[38;5;241m.\u001b[39mcrs_wkt\n\u001b[1;32m    317\u001b[0m         \u001b[38;5;66;03m# attempt to get EPSG code\u001b[39;00m\n",
      "File \u001b[0;32m/opt/conda/lib/python3.11/site-packages/fiona/env.py:457\u001b[0m, in \u001b[0;36mensure_env_with_credentials.<locals>.wrapper\u001b[0;34m(*args, **kwds)\u001b[0m\n\u001b[1;32m    454\u001b[0m     session \u001b[38;5;241m=\u001b[39m DummySession()\n\u001b[1;32m    456\u001b[0m \u001b[38;5;28;01mwith\u001b[39;00m env_ctor(session\u001b[38;5;241m=\u001b[39msession):\n\u001b[0;32m--> 457\u001b[0m     \u001b[38;5;28;01mreturn\u001b[39;00m \u001b[43mf\u001b[49m\u001b[43m(\u001b[49m\u001b[38;5;241;43m*\u001b[39;49m\u001b[43margs\u001b[49m\u001b[43m,\u001b[49m\u001b[43m \u001b[49m\u001b[38;5;241;43m*\u001b[39;49m\u001b[38;5;241;43m*\u001b[39;49m\u001b[43mkwds\u001b[49m\u001b[43m)\u001b[49m\n",
      "File \u001b[0;32m/opt/conda/lib/python3.11/site-packages/fiona/__init__.py:342\u001b[0m, in \u001b[0;36mopen\u001b[0;34m(fp, mode, driver, schema, crs, encoding, layer, vfs, enabled_drivers, crs_wkt, ignore_fields, ignore_geometry, include_fields, wkt_version, allow_unsupported_drivers, opener, **kwargs)\u001b[0m\n\u001b[1;32m    339\u001b[0m         path \u001b[38;5;241m=\u001b[39m _parse_path(fp)\n\u001b[1;32m    341\u001b[0m \u001b[38;5;28;01mif\u001b[39;00m mode \u001b[38;5;129;01min\u001b[39;00m (\u001b[38;5;124m\"\u001b[39m\u001b[38;5;124ma\u001b[39m\u001b[38;5;124m\"\u001b[39m, \u001b[38;5;124m\"\u001b[39m\u001b[38;5;124mr\u001b[39m\u001b[38;5;124m\"\u001b[39m):\n\u001b[0;32m--> 342\u001b[0m     colxn \u001b[38;5;241m=\u001b[39m \u001b[43mCollection\u001b[49m\u001b[43m(\u001b[49m\n\u001b[1;32m    343\u001b[0m \u001b[43m        \u001b[49m\u001b[43mpath\u001b[49m\u001b[43m,\u001b[49m\n\u001b[1;32m    344\u001b[0m \u001b[43m        \u001b[49m\u001b[43mmode\u001b[49m\u001b[43m,\u001b[49m\n\u001b[1;32m    345\u001b[0m \u001b[43m        \u001b[49m\u001b[43mdriver\u001b[49m\u001b[38;5;241;43m=\u001b[39;49m\u001b[43mdriver\u001b[49m\u001b[43m,\u001b[49m\n\u001b[1;32m    346\u001b[0m \u001b[43m        \u001b[49m\u001b[43mencoding\u001b[49m\u001b[38;5;241;43m=\u001b[39;49m\u001b[43mencoding\u001b[49m\u001b[43m,\u001b[49m\n\u001b[1;32m    347\u001b[0m \u001b[43m        \u001b[49m\u001b[43mlayer\u001b[49m\u001b[38;5;241;43m=\u001b[39;49m\u001b[43mlayer\u001b[49m\u001b[43m,\u001b[49m\n\u001b[1;32m    348\u001b[0m \u001b[43m        \u001b[49m\u001b[43mignore_fields\u001b[49m\u001b[38;5;241;43m=\u001b[39;49m\u001b[43mignore_fields\u001b[49m\u001b[43m,\u001b[49m\n\u001b[1;32m    349\u001b[0m \u001b[43m        \u001b[49m\u001b[43minclude_fields\u001b[49m\u001b[38;5;241;43m=\u001b[39;49m\u001b[43minclude_fields\u001b[49m\u001b[43m,\u001b[49m\n\u001b[1;32m    350\u001b[0m \u001b[43m        \u001b[49m\u001b[43mignore_geometry\u001b[49m\u001b[38;5;241;43m=\u001b[39;49m\u001b[43mignore_geometry\u001b[49m\u001b[43m,\u001b[49m\n\u001b[1;32m    351\u001b[0m \u001b[43m        \u001b[49m\u001b[43mwkt_version\u001b[49m\u001b[38;5;241;43m=\u001b[39;49m\u001b[43mwkt_version\u001b[49m\u001b[43m,\u001b[49m\n\u001b[1;32m    352\u001b[0m \u001b[43m        \u001b[49m\u001b[43menabled_drivers\u001b[49m\u001b[38;5;241;43m=\u001b[39;49m\u001b[43menabled_drivers\u001b[49m\u001b[43m,\u001b[49m\n\u001b[1;32m    353\u001b[0m \u001b[43m        \u001b[49m\u001b[43mallow_unsupported_drivers\u001b[49m\u001b[38;5;241;43m=\u001b[39;49m\u001b[43mallow_unsupported_drivers\u001b[49m\u001b[43m,\u001b[49m\n\u001b[1;32m    354\u001b[0m \u001b[43m        \u001b[49m\u001b[38;5;241;43m*\u001b[39;49m\u001b[38;5;241;43m*\u001b[39;49m\u001b[43mkwargs\u001b[49m\n\u001b[1;32m    355\u001b[0m \u001b[43m    \u001b[49m\u001b[43m)\u001b[49m\n\u001b[1;32m    356\u001b[0m \u001b[38;5;28;01melif\u001b[39;00m mode \u001b[38;5;241m==\u001b[39m \u001b[38;5;124m\"\u001b[39m\u001b[38;5;124mw\u001b[39m\u001b[38;5;124m\"\u001b[39m:\n\u001b[1;32m    357\u001b[0m     colxn \u001b[38;5;241m=\u001b[39m Collection(\n\u001b[1;32m    358\u001b[0m         path,\n\u001b[1;32m    359\u001b[0m         mode,\n\u001b[0;32m   (...)\u001b[0m\n\u001b[1;32m    372\u001b[0m         \u001b[38;5;241m*\u001b[39m\u001b[38;5;241m*\u001b[39mkwargs\n\u001b[1;32m    373\u001b[0m     )\n",
      "File \u001b[0;32m/opt/conda/lib/python3.11/site-packages/fiona/collection.py:226\u001b[0m, in \u001b[0;36mCollection.__init__\u001b[0;34m(self, path, mode, driver, schema, crs, encoding, layer, vsi, archive, enabled_drivers, crs_wkt, ignore_fields, ignore_geometry, include_fields, wkt_version, allow_unsupported_drivers, **kwargs)\u001b[0m\n\u001b[1;32m    224\u001b[0m \u001b[38;5;28;01mif\u001b[39;00m \u001b[38;5;28mself\u001b[39m\u001b[38;5;241m.\u001b[39mmode \u001b[38;5;241m==\u001b[39m \u001b[38;5;124m\"\u001b[39m\u001b[38;5;124mr\u001b[39m\u001b[38;5;124m\"\u001b[39m:\n\u001b[1;32m    225\u001b[0m     \u001b[38;5;28mself\u001b[39m\u001b[38;5;241m.\u001b[39msession \u001b[38;5;241m=\u001b[39m Session()\n\u001b[0;32m--> 226\u001b[0m     \u001b[38;5;28;43mself\u001b[39;49m\u001b[38;5;241;43m.\u001b[39;49m\u001b[43msession\u001b[49m\u001b[38;5;241;43m.\u001b[39;49m\u001b[43mstart\u001b[49m\u001b[43m(\u001b[49m\u001b[38;5;28;43mself\u001b[39;49m\u001b[43m,\u001b[49m\u001b[43m \u001b[49m\u001b[38;5;241;43m*\u001b[39;49m\u001b[38;5;241;43m*\u001b[39;49m\u001b[43mkwargs\u001b[49m\u001b[43m)\u001b[49m\n\u001b[1;32m    227\u001b[0m \u001b[38;5;28;01melif\u001b[39;00m \u001b[38;5;28mself\u001b[39m\u001b[38;5;241m.\u001b[39mmode \u001b[38;5;129;01min\u001b[39;00m (\u001b[38;5;124m\"\u001b[39m\u001b[38;5;124ma\u001b[39m\u001b[38;5;124m\"\u001b[39m, \u001b[38;5;124m\"\u001b[39m\u001b[38;5;124mw\u001b[39m\u001b[38;5;124m\"\u001b[39m):\n\u001b[1;32m    228\u001b[0m     \u001b[38;5;28mself\u001b[39m\u001b[38;5;241m.\u001b[39msession \u001b[38;5;241m=\u001b[39m WritingSession()\n",
      "File \u001b[0;32mfiona/ogrext.pyx:876\u001b[0m, in \u001b[0;36mfiona.ogrext.Session.start\u001b[0;34m()\u001b[0m\n",
      "File \u001b[0;32mfiona/ogrext.pyx:136\u001b[0m, in \u001b[0;36mfiona.ogrext.gdal_open_vector\u001b[0;34m()\u001b[0m\n",
      "\u001b[0;31mDriverError\u001b[0m: Failed to open dataset (flags=68): /vsicurl/https://opendata.arcgis.com/datasets/8713ced9b78a4abb97dc130a691a8695_0.geojson"
     ]
    }
   ],
   "source": [
    "counties_served_df = counties_served_by_operator(gdf)"
   ]
  },
  {
   "cell_type": "code",
   "execution_count": null,
   "id": "5958fa47-835d-49c9-88cd-b2315e5bf9eb",
   "metadata": {
    "tags": []
   },
   "outputs": [],
   "source": [
    "counties_served_df.head(2)"
   ]
  },
  {
   "cell_type": "code",
   "execution_count": null,
   "id": "785b7553-206c-4f26-b59e-f8e862d77951",
   "metadata": {
    "tags": []
   },
   "outputs": [],
   "source": [
    "crosswalk_df.sample()"
   ]
  },
  {
   "cell_type": "code",
   "execution_count": null,
   "id": "30aa1cd4-ed36-480d-a562-93e5dac21ef6",
   "metadata": {
    "tags": []
   },
   "outputs": [],
   "source": [
    "crosswalk_df2 = pd.merge(\n",
    "    crosswalk_df,\n",
    "    counties_served_df,\n",
    "    how=\"outer\",\n",
    "    on=[\"portfolio_organization_name\", \"service_date\"],\n",
    "    indicator=True,\n",
    ")"
   ]
  },
  {
   "cell_type": "code",
   "execution_count": null,
   "id": "dcffbecb-2216-4cb1-850e-3850e929fe30",
   "metadata": {
    "tags": []
   },
   "outputs": [],
   "source": [
    "crosswalk_df2._merge.value_counts()"
   ]
  }
 ],
 "metadata": {
  "kernelspec": {
   "display_name": "Python 3 (ipykernel)",
   "language": "python",
   "name": "python3"
  },
  "language_info": {
   "codemirror_mode": {
    "name": "ipython",
    "version": 3
   },
   "file_extension": ".py",
   "mimetype": "text/x-python",
   "name": "python",
   "nbconvert_exporter": "python",
   "pygments_lexer": "ipython3",
   "version": "3.11.10"
  }
 },
 "nbformat": 4,
 "nbformat_minor": 5
}
