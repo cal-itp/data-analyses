{
 "cells": [
  {
   "cell_type": "markdown",
   "id": "49601c21-5c1b-4baf-85ed-2e08e93f2f09",
   "metadata": {},
   "source": [
    "# Refactor `merge_operator_data`"
   ]
  },
  {
   "cell_type": "code",
   "execution_count": 1,
   "id": "9d68dfd4-3e35-449d-93b1-36afa3cf9343",
   "metadata": {
    "scrolled": true,
    "tags": []
   },
   "outputs": [],
   "source": [
    "import altair as alt\n",
    "import geopandas as gpd\n",
    "import numpy as np\n",
    "import pandas as pd"
   ]
  },
  {
   "cell_type": "code",
   "execution_count": 2,
   "id": "efcfa1b7-7acd-42f0-9ecb-fdf1a8ce0d21",
   "metadata": {
    "scrolled": true,
    "tags": []
   },
   "outputs": [],
   "source": [
    "import _report_visuals_utils\n",
    "import google.auth\n",
    "import merge_data\n",
    "import merge_operator_data\n",
    "import viz_data_prep\n",
    "from calitp_data_analysis.sql import to_snakecase\n",
    "from IPython.display import HTML, Image, Markdown, display, display_html\n",
    "from merge_data import PORTFOLIO_ORGANIZATIONS_DICT, merge_in_standardized_route_names\n",
    "from segment_speed_utils import gtfs_schedule_wrangling, helpers, time_series_utils\n",
    "from segment_speed_utils.project_vars import COMPILED_CACHED_VIEWS, PROJECT_CRS\n",
    "from shared_utils import (\n",
    "    catalog_utils,\n",
    "    dask_utils,\n",
    "    gtfs_utils_v2,\n",
    "    portfolio_utils,\n",
    "    publish_utils,\n",
    "    rt_dates,\n",
    "    rt_utils,\n",
    ")\n",
    "from update_vars import GTFS_DATA_DICT, RT_SCHED_GCS, SCHED_GCS, SEGMENT_GCS\n",
    "\n",
    "credentials, project = google.auth.default()"
   ]
  },
  {
   "cell_type": "code",
   "execution_count": 33,
   "id": "5e0940ae-b65b-4357-925e-6cf74b8434c6",
   "metadata": {
    "tags": []
   },
   "outputs": [],
   "source": [
    "from omegaconf import OmegaConf\n",
    "\n",
    "readable_dict = OmegaConf.load(\"readable2.yml\")"
   ]
  },
  {
   "cell_type": "code",
   "execution_count": 5,
   "id": "813cbce2-67a5-4507-8fb5-2f9902a89d99",
   "metadata": {
    "tags": []
   },
   "outputs": [],
   "source": [
    "pd.options.display.max_columns = 100\n",
    "pd.options.display.float_format = \"{:.2f}\".format\n",
    "pd.set_option(\"display.max_rows\", None)\n",
    "pd.set_option(\"display.max_colwidth\", None)"
   ]
  },
  {
   "cell_type": "code",
   "execution_count": 6,
   "id": "f02a5e50-cf49-4e00-827e-fa28e034846c",
   "metadata": {
    "tags": []
   },
   "outputs": [],
   "source": [
    "analysis_date_list = rt_dates.y2024_dates"
   ]
  },
  {
   "cell_type": "markdown",
   "id": "b602caa4-6364-496a-a924-5e5c4161e7b4",
   "metadata": {},
   "source": [
    "## Recreate old charts and maps `aggregate_filter_operator_dates.py`\n",
    "* Use `operator_profiles_recent.parquet` and `operator_routes.parquet`\n",
    "* Use <i>Ventura County (VCTC, Gold Coast, Cities of Camarillo, Moorpark, Ojai, Simi Valley, Thousand Oaks)</i>"
   ]
  },
  {
   "cell_type": "code",
   "execution_count": 7,
   "id": "2c4693ae-6ac0-4ef6-ac5e-7ec9a2c89dee",
   "metadata": {
    "tags": []
   },
   "outputs": [],
   "source": [
    "OPERATOR_PROFILE = GTFS_DATA_DICT.digest_tables.operator_profiles"
   ]
  },
  {
   "cell_type": "code",
   "execution_count": 8,
   "id": "f808c585-f93c-432d-bfc0-84a436197aca",
   "metadata": {
    "tags": []
   },
   "outputs": [],
   "source": [
    "op_profile_ntd = pd.read_parquet(f\"{RT_SCHED_GCS}{OPERATOR_PROFILE}_recent.parquet\")"
   ]
  },
  {
   "cell_type": "code",
   "execution_count": 9,
   "id": "af22a7f1-71cb-4e13-b316-0c3650f601b1",
   "metadata": {
    "tags": []
   },
   "outputs": [
    {
     "data": {
      "text/plain": [
       "'gs://calitp-analytics-data/data-analyses/rt_vs_schedule/digest/operator_profiles_recent.parquet'"
      ]
     },
     "execution_count": 9,
     "metadata": {},
     "output_type": "execute_result"
    }
   ],
   "source": [
    "f\"{RT_SCHED_GCS}{OPERATOR_PROFILE}_recent.parquet\""
   ]
  },
  {
   "cell_type": "code",
   "execution_count": 10,
   "id": "40d17190-9e23-47ab-bdd6-98618d40e8b6",
   "metadata": {
    "tags": []
   },
   "outputs": [
    {
     "data": {
      "text/plain": [
       "array(['2025-04-16T00:00:00.000000000', '2025-03-12T00:00:00.000000000',\n",
       "       '2024-03-13T00:00:00.000000000', '2024-12-11T00:00:00.000000000',\n",
       "       '2024-06-12T00:00:00.000000000'], dtype='datetime64[ns]')"
      ]
     },
     "execution_count": 10,
     "metadata": {},
     "output_type": "execute_result"
    }
   ],
   "source": [
    "op_profile_ntd.service_date.unique()"
   ]
  },
  {
   "cell_type": "code",
   "execution_count": 11,
   "id": "93e3290b-7f6c-427f-bf68-43129e73bf1b",
   "metadata": {
    "tags": []
   },
   "outputs": [],
   "source": [
    "portfolio_name = \"Ventura County (VCTC, Gold Coast, Cities of Camarillo, Moorpark, Ojai, Simi Valley, Thousand Oaks)\""
   ]
  },
  {
   "cell_type": "code",
   "execution_count": 12,
   "id": "139509d9-f143-40a8-a46d-5ad9bf07e7e7",
   "metadata": {
    "tags": []
   },
   "outputs": [],
   "source": [
    "ventura_op_profile = op_profile_ntd.loc[\n",
    "    (\n",
    "        op_profile_ntd.portfolio_organization_name\n",
    "        == \"Ventura County (VCTC, Gold Coast, Cities of Camarillo, Moorpark, Ojai, Simi Valley, Thousand Oaks)\"\n",
    "    )\n",
    "]"
   ]
  },
  {
   "cell_type": "code",
   "execution_count": 14,
   "id": "3ebe8829-5e5b-4a66-ac3c-33079586bbe1",
   "metadata": {
    "tags": []
   },
   "outputs": [],
   "source": [
    "# ventura_op_profile.columns = ventura_op_profile.columns.str.title().str.replace(\"_\", \" \")"
   ]
  },
  {
   "cell_type": "code",
   "execution_count": 16,
   "id": "eccb5d7b-fd60-4e99-950b-eb41f0600188",
   "metadata": {
    "tags": []
   },
   "outputs": [],
   "source": [
    "OPERATOR_ROUTE = GTFS_DATA_DICT.digest_tables.operator_routes_map"
   ]
  },
  {
   "cell_type": "code",
   "execution_count": 17,
   "id": "d23ba13a-14c5-43d3-9378-ff9a722756d9",
   "metadata": {
    "scrolled": true,
    "tags": []
   },
   "outputs": [],
   "source": [
    "op_geography_df = gpd.read_parquet(\n",
    "    f\"{RT_SCHED_GCS}{OPERATOR_ROUTE}.parquet\",\n",
    "    storage_options={\"token\": credentials.token},\n",
    ")"
   ]
  },
  {
   "cell_type": "code",
   "execution_count": 62,
   "id": "9b904cd9-d484-4009-9305-827ea70ea198",
   "metadata": {
    "tags": []
   },
   "outputs": [
    {
     "data": {
      "text/plain": [
       "Index(['shape_array_key', 'geometry', 'feed_key', 'schedule_gtfs_dataset_key',\n",
       "       'route_id', 'direction_id', 'route_key', 'route_length',\n",
       "       'route_length_miles', 'is_downtown_local', 'is_local', 'is_coverage',\n",
       "       'is_rapid', 'is_express', 'is_rail', 'is_ferry',\n",
       "       'organization_source_record_id', 'organization_name', 'service_date',\n",
       "       'portfolio_organization_name', 'name', 'combined_name',\n",
       "       'recent_combined_name', 'recent_route_id',\n",
       "       'route_length_miles_percentile', 'percentile_group',\n",
       "       'shortest_longest'],\n",
       "      dtype='object')"
      ]
     },
     "execution_count": 62,
     "metadata": {},
     "output_type": "execute_result"
    }
   ],
   "source": [
    "op_geography_df.columns"
   ]
  },
  {
   "cell_type": "code",
   "execution_count": 18,
   "id": "9b9b4510-1d2c-41f9-8576-a8c67d397acd",
   "metadata": {
    "tags": []
   },
   "outputs": [],
   "source": [
    "ventura_geo = op_geography_df.loc[\n",
    "    (\n",
    "        op_geography_df.portfolio_organization_name\n",
    "        == \"Ventura County (VCTC, Gold Coast, Cities of Camarillo, Moorpark, Ojai, Simi Valley, Thousand Oaks)\"\n",
    "    )\n",
    "]"
   ]
  },
  {
   "cell_type": "code",
   "execution_count": 19,
   "id": "ff3fba0a-3ff8-46ea-9387-2651c89dfff9",
   "metadata": {
    "tags": []
   },
   "outputs": [],
   "source": [
    "try:\n",
    "    date = ventura_op_profile[\"service_date\"].dt.to_pydatetime()[0]\n",
    "except:\n",
    "    pass"
   ]
  },
  {
   "cell_type": "code",
   "execution_count": 20,
   "id": "af793794-a3b4-4e58-837a-e802616cffea",
   "metadata": {
    "tags": []
   },
   "outputs": [
    {
     "data": {
      "text/plain": [
       "datetime.datetime(2025, 4, 16, 0, 0)"
      ]
     },
     "execution_count": 20,
     "metadata": {},
     "output_type": "execute_result"
    }
   ],
   "source": [
    "date"
   ]
  },
  {
   "cell_type": "code",
   "execution_count": 21,
   "id": "07f50578-90b9-4890-ba3c-075662364538",
   "metadata": {
    "tags": []
   },
   "outputs": [],
   "source": [
    "service_area = int(ventura_op_profile.service_area_sq_miles.values[0])\n",
    "service_area = \"{:,}\".format(service_area)\n",
    "service_pop = int(ventura_op_profile.service_area_pop.values[0])\n",
    "service_pop = \"{:,}\".format(service_pop)"
   ]
  },
  {
   "cell_type": "code",
   "execution_count": 22,
   "id": "655535c6-ca83-4d27-82a0-633bfd6c38e7",
   "metadata": {
    "tags": []
   },
   "outputs": [
    {
     "data": {
      "text/markdown": [
       "Ventura County (VCTC, Gold Coast, Cities of Camarillo, Moorpark, Ojai, Simi Valley, Thousand Oaks) is headquartered in <b>Oxnard, Camarillo, Moorpark, Simi Valley, Thousand Oaks</b> in the Urbanized Area of <b>Oxnard--San Buenaventura (Ventura), CA, Thousand Oaks, CA, Camarillo, CA, Simi Valley, CA</b>.<br>\n",
       "            This operator provides <b>2,527</b> square miles of public transit service, which has a service population of <b>8,653,897</b>.<br>\n",
       "            This organization is a Reduced Reporter, Full Reporter.<br>\n",
       "            <b>Data Source</b>: <a href=\"https://www.transit.dot.gov/ntd/data-product/2022-annual-database-agency-information\">National Transit Database</a> Annual Agency Information.\n",
       "            "
      ],
      "text/plain": [
       "<IPython.core.display.Markdown object>"
      ]
     },
     "metadata": {},
     "output_type": "display_data"
    }
   ],
   "source": [
    "display(\n",
    "    Markdown(\n",
    "        f\"\"\"{portfolio_name} is headquartered in <b>{ventura_op_profile.hq_city.values[0]}</b> in the Urbanized Area of <b>{ventura_op_profile.primary_uza_name.values[0]}</b>.<br>\n",
    "            This operator provides <b>{service_area}</b> square miles of public transit service, which has a service population of <b>{service_pop}</b>.<br>\n",
    "            This organization is a {ventura_op_profile.reporter_type.values[0]}.<br>\n",
    "            <b>Data Source</b>: <a href=\"https://www.transit.dot.gov/ntd/data-product/2022-annual-database-agency-information\">National Transit Database</a> Annual Agency Information.\n",
    "            \"\"\"\n",
    "    )\n",
    ")"
   ]
  },
  {
   "cell_type": "markdown",
   "id": "6a34b8cc-dd41-49f8-b730-befd20144400",
   "metadata": {},
   "source": [
    "## Operator Overview"
   ]
  },
  {
   "cell_type": "code",
   "execution_count": 23,
   "id": "ae5e4b6d-8a33-41cf-bf15-079746060bba",
   "metadata": {
    "tags": []
   },
   "outputs": [
    {
     "data": {
      "text/markdown": [
       "The following data presents an overview of GTFS characteristics using data from the most recent date of\n",
       "      <b>April 2025</b>."
      ],
      "text/plain": [
       "<IPython.core.display.Markdown object>"
      ]
     },
     "metadata": {},
     "output_type": "display_data"
    }
   ],
   "source": [
    "try:\n",
    "    display(\n",
    "        Markdown(\n",
    "            f\"\"\"The following data presents an overview of GTFS characteristics using data from the most recent date of\n",
    "      <b>{date.strftime(\"%B\")} {date.year}</b>.\"\"\"\n",
    "        )\n",
    "    )\n",
    "except:\n",
    "    pass"
   ]
  },
  {
   "cell_type": "code",
   "execution_count": 24,
   "id": "554e673f-9abe-4734-97da-d4c1341691a5",
   "metadata": {
    "tags": []
   },
   "outputs": [
    {
     "data": {
      "text/markdown": [
       "Ventura County (VCTC, Gold Coast, Cities of Camarillo, Moorpark, Ojai, Simi Valley, Thousand Oaks) runs <b>2,989</b> unique routes. Below is the breakdown of the routes and routes can belong to one or more categories.<p>\n",
       "            Route categories are determined using a approach that looks at GTFS trips data\n",
       "        alongside National Association of City Transportation Officials (NACTO)'s\n",
       "        <a href=\"https://nacto.org/publication/transit-street-design-guide/introduction/service-context/transit-route-types/\">Transit Route Types</a> \n",
       "        and <a href= \"https://nacto.org/publication/transit-street-design-guide/introduction/service-context/transit-frequency-volume/\">Frequency and Volume</a>\n",
       "        guides. Please see the <a href=\"https://github.com/cal-itp/data-analyses/blob/main/gtfs_digest/methodology.md\">methodology docs</a> for more details on this approach.\n",
       "        "
      ],
      "text/plain": [
       "<IPython.core.display.Markdown object>"
      ]
     },
     "metadata": {},
     "output_type": "display_data"
    }
   ],
   "source": [
    "try:\n",
    "    n_routes = ventura_op_profile[\"operator_n_routes\"].values[0]\n",
    "    n_routes = \"{:,}\".format(n_routes)\n",
    "    display(\n",
    "        Markdown(\n",
    "            f\"\"\"{portfolio_name} runs <b>{n_routes}</b> unique routes. Below is the breakdown of the routes and routes can belong to one or more categories.<p>\n",
    "            Route categories are determined using a approach that looks at GTFS trips data\n",
    "        alongside National Association of City Transportation Officials (NACTO)'s\n",
    "        <a href=\"https://nacto.org/publication/transit-street-design-guide/introduction/service-context/transit-route-types/\">Transit Route Types</a> \n",
    "        and <a href= \"https://nacto.org/publication/transit-street-design-guide/introduction/service-context/transit-frequency-volume/\">Frequency and Volume</a>\n",
    "        guides. Please see the <a href=\"https://github.com/cal-itp/data-analyses/blob/main/gtfs_digest/methodology.md\">methodology docs</a> for more details on this approach.\n",
    "        \"\"\"\n",
    "        )\n",
    "    )\n",
    "except:\n",
    "    display(Markdown(f\"\"\"{portfolio_name} doesn't have an operator profile.\"\"\"))"
   ]
  },
  {
   "cell_type": "markdown",
   "id": "4f99df80-4f0c-4b58-bb68-1ce71a3cbdc3",
   "metadata": {},
   "source": [
    "## Route Pie Chart"
   ]
  },
  {
   "cell_type": "code",
   "execution_count": 51,
   "id": "b952f393-e3d6-48c6-8018-79d087b13ef9",
   "metadata": {
    "tags": []
   },
   "outputs": [],
   "source": [
    "def reshape_route_typology(df: pd.DataFrame) -> pd.DataFrame:\n",
    "    \"\"\"\n",
    "    Reshape dataframe to display\n",
    "    route types in a pie chart.\n",
    "    \"\"\"\n",
    "    route_type_cols = [\n",
    "        \"n_downtown_local_routes\",\n",
    "        \"n_local_routes\",\n",
    "        \"n_coverage_routes\",\n",
    "        \"n_rapid_routes\",\n",
    "        \"n_express_routes\",\n",
    "        \"n_rail_routes\",\n",
    "        \"n_ferry_routes\",\n",
    "    ]\n",
    "\n",
    "    # Subset & transform.\n",
    "    df2 = df[route_type_cols].T.reset_index()\n",
    "\n",
    "    # Rename the columns in readable_dict area?\n",
    "    df2.columns = [\"Route Type\", \"Total Routes\"]\n",
    "\n",
    "    # Clean up values in Route Type\n",
    "    # Use regex to remove 'n_' prefix and '_routes' suffix, and replace '_' with space\n",
    "    df2[\"Route Type\"] = (\n",
    "        df2[\"Route Type\"]\n",
    "        .str.replace(r\"^n_\", \"\", regex=True)\n",
    "        .str.replace(\"_\", \" \")\n",
    "        .str.title()\n",
    "    )\n",
    "\n",
    "    return df2"
   ]
  },
  {
   "cell_type": "code",
   "execution_count": 55,
   "id": "bc59e908-697d-46cf-80a5-a10ecaa11cb3",
   "metadata": {
    "tags": []
   },
   "outputs": [],
   "source": [
    "def route_typology_chart(df) -> alt.Chart:\n",
    "\n",
    "    # Reshape dataframe from wide to long\n",
    "    df2 = reshape_route_typology(df)\n",
    "\n",
    "    specific_chart_dict = readable_dict.route_typology_graph\n",
    "\n",
    "    chart = _report_visuals_utils.pie_chart(\n",
    "        df=df2,\n",
    "        color_col=\"Route Type\",\n",
    "        theta_col=\"Total Routes\",\n",
    "        color_scheme=[*specific_chart_dict.colors],\n",
    "        tooltip_cols=[*specific_chart_dict.tooltip],\n",
    "    ).properties(width=400, height=250)\n",
    "\n",
    "    chart = chart.properties(title={\"text\": specific_chart_dict.title})\n",
    "    return chart"
   ]
  },
  {
   "cell_type": "code",
   "execution_count": 56,
   "id": "962beab5-f7d4-4db1-a491-ad74c1371ad2",
   "metadata": {
    "tags": []
   },
   "outputs": [
    {
     "data": {
      "text/html": [
       "\n",
       "<style>\n",
       "  #altair-viz-333a055caf064493a8499887e46d6032.vega-embed {\n",
       "    width: 100%;\n",
       "    display: flex;\n",
       "  }\n",
       "\n",
       "  #altair-viz-333a055caf064493a8499887e46d6032.vega-embed details,\n",
       "  #altair-viz-333a055caf064493a8499887e46d6032.vega-embed details summary {\n",
       "    position: relative;\n",
       "  }\n",
       "</style>\n",
       "<div id=\"altair-viz-333a055caf064493a8499887e46d6032\"></div>\n",
       "<script type=\"text/javascript\">\n",
       "  var VEGA_DEBUG = (typeof VEGA_DEBUG == \"undefined\") ? {} : VEGA_DEBUG;\n",
       "  (function(spec, embedOpt){\n",
       "    let outputDiv = document.currentScript.previousElementSibling;\n",
       "    if (outputDiv.id !== \"altair-viz-333a055caf064493a8499887e46d6032\") {\n",
       "      outputDiv = document.getElementById(\"altair-viz-333a055caf064493a8499887e46d6032\");\n",
       "    }\n",
       "\n",
       "    const paths = {\n",
       "      \"vega\": \"https://cdn.jsdelivr.net/npm/vega@5?noext\",\n",
       "      \"vega-lib\": \"https://cdn.jsdelivr.net/npm/vega-lib?noext\",\n",
       "      \"vega-lite\": \"https://cdn.jsdelivr.net/npm/vega-lite@5.20.1?noext\",\n",
       "      \"vega-embed\": \"https://cdn.jsdelivr.net/npm/vega-embed@6?noext\",\n",
       "    };\n",
       "\n",
       "    function maybeLoadScript(lib, version) {\n",
       "      var key = `${lib.replace(\"-\", \"\")}_version`;\n",
       "      return (VEGA_DEBUG[key] == version) ?\n",
       "        Promise.resolve(paths[lib]) :\n",
       "        new Promise(function(resolve, reject) {\n",
       "          var s = document.createElement('script');\n",
       "          document.getElementsByTagName(\"head\")[0].appendChild(s);\n",
       "          s.async = true;\n",
       "          s.onload = () => {\n",
       "            VEGA_DEBUG[key] = version;\n",
       "            return resolve(paths[lib]);\n",
       "          };\n",
       "          s.onerror = () => reject(`Error loading script: ${paths[lib]}`);\n",
       "          s.src = paths[lib];\n",
       "        });\n",
       "    }\n",
       "\n",
       "    function showError(err) {\n",
       "      outputDiv.innerHTML = `<div class=\"error\" style=\"color:red;\">${err}</div>`;\n",
       "      throw err;\n",
       "    }\n",
       "\n",
       "    function displayChart(vegaEmbed) {\n",
       "      vegaEmbed(outputDiv, spec, embedOpt)\n",
       "        .catch(err => showError(`Javascript Error: ${err.message}<br>This usually means there's a typo in your chart specification. See the javascript console for the full traceback.`));\n",
       "    }\n",
       "\n",
       "    if(typeof define === \"function\" && define.amd) {\n",
       "      requirejs.config({paths});\n",
       "      let deps = [\"vega-embed\"];\n",
       "      require(deps, displayChart, err => showError(`Error loading script: ${err.message}`));\n",
       "    } else {\n",
       "      maybeLoadScript(\"vega\", \"5\")\n",
       "        .then(() => maybeLoadScript(\"vega-lite\", \"5.20.1\"))\n",
       "        .then(() => maybeLoadScript(\"vega-embed\", \"6\"))\n",
       "        .catch(showError)\n",
       "        .then(() => displayChart(vegaEmbed));\n",
       "    }\n",
       "  })({\"config\": {\"view\": {\"continuousWidth\": 300, \"continuousHeight\": 300}}, \"data\": {\"name\": \"data-ef7cb9d6c516e9fa79d80dfb5a23a14a\"}, \"mark\": {\"type\": \"arc\"}, \"encoding\": {\"color\": {\"field\": \"Route Type\", \"scale\": {\"range\": [\"#5b8efd\", \"#765fec\", \"#fcb40e\", \"#fc5c04\", \"#dd217d\", \"#ccbb44\"]}, \"title\": \"Route Type\", \"type\": \"nominal\"}, \"theta\": {\"field\": \"Total Routes\", \"type\": \"quantitative\"}, \"tooltip\": [{\"field\": \"Route Type\", \"type\": \"nominal\"}, {\"field\": \"Total Routes\", \"type\": \"quantitative\"}]}, \"height\": 250, \"title\": {\"text\": \"Total Routes by Typology\"}, \"width\": 400, \"$schema\": \"https://vega.github.io/schema/vega-lite/v5.20.1.json\", \"datasets\": {\"data-ef7cb9d6c516e9fa79d80dfb5a23a14a\": [{\"Route Type\": \"Downtown Local Routes\", \"Total Routes\": 539}, {\"Route Type\": \"Local Routes\", \"Total Routes\": 49}, {\"Route Type\": \"Coverage Routes\", \"Total Routes\": 2401}, {\"Route Type\": \"Rapid Routes\", \"Total Routes\": 1176}, {\"Route Type\": \"Express Routes\", \"Total Routes\": 686}, {\"Route Type\": \"Rail Routes\", \"Total Routes\": 0}, {\"Route Type\": \"Ferry Routes\", \"Total Routes\": 0}]}}, {\"mode\": \"vega-lite\"});\n",
       "</script>"
      ],
      "text/plain": [
       "alt.Chart(...)"
      ]
     },
     "execution_count": 56,
     "metadata": {},
     "output_type": "execute_result"
    }
   ],
   "source": [
    "route_typology_chart(ventura_op_profile)"
   ]
  },
  {
   "cell_type": "markdown",
   "id": "1ef1ab22-2601-480d-a234-68a15a1d9fb2",
   "metadata": {},
   "source": [
    "## Route Length Work\n",
    "* `percentile_group` is only supposed to have 4 categories but there's 17"
   ]
  },
  {
   "cell_type": "code",
   "execution_count": 65,
   "id": "504b0159-d793-4035-8bdf-757043981d3f",
   "metadata": {
    "tags": []
   },
   "outputs": [
    {
     "data": {
      "text/html": [
       "<div>\n",
       "<style scoped>\n",
       "    .dataframe tbody tr th:only-of-type {\n",
       "        vertical-align: middle;\n",
       "    }\n",
       "\n",
       "    .dataframe tbody tr th {\n",
       "        vertical-align: top;\n",
       "    }\n",
       "\n",
       "    .dataframe thead th {\n",
       "        text-align: right;\n",
       "    }\n",
       "</style>\n",
       "<table border=\"1\" class=\"dataframe\">\n",
       "  <thead>\n",
       "    <tr style=\"text-align: right;\">\n",
       "      <th></th>\n",
       "      <th>route_id</th>\n",
       "      <th>route_length_miles_percentile</th>\n",
       "      <th>percentile_group</th>\n",
       "      <th>shortest_longest</th>\n",
       "    </tr>\n",
       "  </thead>\n",
       "  <tbody>\n",
       "    <tr>\n",
       "      <th>41287</th>\n",
       "      <td>4131</td>\n",
       "      <td>&lt; 75th percentile</td>\n",
       "      <td>51-75th percentile (15.1-31 miles)</td>\n",
       "      <td></td>\n",
       "    </tr>\n",
       "  </tbody>\n",
       "</table>\n",
       "</div>"
      ],
      "text/plain": [
       "      route_id route_length_miles_percentile  \\\n",
       "41287     4131             < 75th percentile   \n",
       "\n",
       "                         percentile_group shortest_longest  \n",
       "41287  51-75th percentile (15.1-31 miles)                   "
      ]
     },
     "execution_count": 65,
     "metadata": {},
     "output_type": "execute_result"
    }
   ],
   "source": [
    "ventura_geo[\n",
    "    [\n",
    "        \"route_id\",\n",
    "        \"route_length_miles_percentile\",\n",
    "        \"percentile_group\",\n",
    "        \"shortest_longest\",\n",
    "    ]\n",
    "].sample()"
   ]
  },
  {
   "cell_type": "code",
   "execution_count": 82,
   "id": "6462a62f-1a2a-49ef-8b22-5f137f3510d4",
   "metadata": {
    "tags": []
   },
   "outputs": [
    {
     "data": {
      "text/plain": [
       "17"
      ]
     },
     "execution_count": 82,
     "metadata": {},
     "output_type": "execute_result"
    }
   ],
   "source": [
    "ventura_geo.percentile_group.nunique()"
   ]
  },
  {
   "cell_type": "markdown",
   "id": "7f4fba61-2076-4eed-af4e-3db241e9b11d",
   "metadata": {},
   "source": [
    "### See if grabbing only the most recent date will solve this"
   ]
  },
  {
   "cell_type": "code",
   "execution_count": 90,
   "id": "21bac899-5dd0-48f3-86b2-e28dc0c9a65c",
   "metadata": {
    "tags": []
   },
   "outputs": [],
   "source": [
    "most_recent_dates = publish_utils.filter_to_recent_date(\n",
    "    df=ventura_geo, group_cols=[\"route_id\"]\n",
    ")"
   ]
  },
  {
   "cell_type": "code",
   "execution_count": 91,
   "id": "8c4d2cad-070a-449d-9b44-557be364c7fb",
   "metadata": {
    "tags": []
   },
   "outputs": [],
   "source": [
    "most_recent_geo = pd.merge(\n",
    "    ventura_geo, most_recent_dates, on=[\"route_id\", \"service_date\"], how=\"inner\"\n",
    ")"
   ]
  },
  {
   "cell_type": "code",
   "execution_count": 100,
   "id": "a55f98ce-a689-405b-802b-6a44e0732307",
   "metadata": {
    "tags": []
   },
   "outputs": [
    {
     "data": {
      "text/plain": [
       "Index(['shape_array_key', 'geometry', 'feed_key', 'schedule_gtfs_dataset_key',\n",
       "       'route_id', 'direction_id', 'route_key', 'route_length',\n",
       "       'route_length_miles', 'is_downtown_local', 'is_local', 'is_coverage',\n",
       "       'is_rapid', 'is_express', 'is_rail', 'is_ferry',\n",
       "       'organization_source_record_id', 'organization_name', 'service_date',\n",
       "       'portfolio_organization_name', 'name', 'combined_name',\n",
       "       'recent_combined_name', 'recent_route_id',\n",
       "       'route_length_miles_percentile', 'percentile_group',\n",
       "       'shortest_longest'],\n",
       "      dtype='object')"
      ]
     },
     "execution_count": 100,
     "metadata": {},
     "output_type": "execute_result"
    }
   ],
   "source": [
    "most_recent_geo.columns"
   ]
  },
  {
   "cell_type": "code",
   "execution_count": 102,
   "id": "0f3d6bfe-a7cd-4ef5-978c-08f3171fb5bc",
   "metadata": {
    "tags": []
   },
   "outputs": [
    {
     "data": {
      "text/plain": [
       "array(['1770249a5a2e770ca90628434d4934b1',\n",
       "       'd2735df634c2d6447a90ecd1578ae33b'], dtype=object)"
      ]
     },
     "execution_count": 102,
     "metadata": {},
     "output_type": "execute_result"
    }
   ],
   "source": [
    "most_recent_geo.schedule_gtfs_dataset_key.unique()"
   ]
  },
  {
   "cell_type": "code",
   "execution_count": 101,
   "id": "0a45be57-1480-4e73-ac3d-d142020a8531",
   "metadata": {
    "tags": []
   },
   "outputs": [
    {
     "data": {
      "text/html": [
       "<div>\n",
       "<style scoped>\n",
       "    .dataframe tbody tr th:only-of-type {\n",
       "        vertical-align: middle;\n",
       "    }\n",
       "\n",
       "    .dataframe tbody tr th {\n",
       "        vertical-align: top;\n",
       "    }\n",
       "\n",
       "    .dataframe thead th {\n",
       "        text-align: right;\n",
       "    }\n",
       "</style>\n",
       "<table border=\"1\" class=\"dataframe\">\n",
       "  <thead>\n",
       "    <tr style=\"text-align: right;\">\n",
       "      <th></th>\n",
       "      <th>route_id</th>\n",
       "      <th>shortest_longest</th>\n",
       "      <th>service_date</th>\n",
       "    </tr>\n",
       "  </thead>\n",
       "  <tbody>\n",
       "    <tr>\n",
       "      <th>349</th>\n",
       "      <td>4249</td>\n",
       "      <td>shortest</td>\n",
       "      <td>2025-04-16</td>\n",
       "    </tr>\n",
       "    <tr>\n",
       "      <th>350</th>\n",
       "      <td>4249</td>\n",
       "      <td>shortest</td>\n",
       "      <td>2025-04-16</td>\n",
       "    </tr>\n",
       "    <tr>\n",
       "      <th>351</th>\n",
       "      <td>4249</td>\n",
       "      <td>shortest</td>\n",
       "      <td>2025-04-16</td>\n",
       "    </tr>\n",
       "    <tr>\n",
       "      <th>352</th>\n",
       "      <td>4249</td>\n",
       "      <td>shortest</td>\n",
       "      <td>2025-04-16</td>\n",
       "    </tr>\n",
       "    <tr>\n",
       "      <th>353</th>\n",
       "      <td>4249</td>\n",
       "      <td>shortest</td>\n",
       "      <td>2025-04-16</td>\n",
       "    </tr>\n",
       "    <tr>\n",
       "      <th>354</th>\n",
       "      <td>4249</td>\n",
       "      <td>shortest</td>\n",
       "      <td>2025-04-16</td>\n",
       "    </tr>\n",
       "    <tr>\n",
       "      <th>355</th>\n",
       "      <td>4249</td>\n",
       "      <td>shortest</td>\n",
       "      <td>2025-04-16</td>\n",
       "    </tr>\n",
       "  </tbody>\n",
       "</table>\n",
       "</div>"
      ],
      "text/plain": [
       "    route_id shortest_longest service_date\n",
       "349     4249         shortest   2025-04-16\n",
       "350     4249         shortest   2025-04-16\n",
       "351     4249         shortest   2025-04-16\n",
       "352     4249         shortest   2025-04-16\n",
       "353     4249         shortest   2025-04-16\n",
       "354     4249         shortest   2025-04-16\n",
       "355     4249         shortest   2025-04-16"
      ]
     },
     "execution_count": 101,
     "metadata": {},
     "output_type": "execute_result"
    }
   ],
   "source": [
    "most_recent_geo.loc[most_recent_geo.shortest_longest == \"shortest\"][[\"route_id\",\"shortest_longest\",\"service_date\"]]"
   ]
  },
  {
   "cell_type": "code",
   "execution_count": 93,
   "id": "af47a5df-2efe-4845-9e4f-6d81c80778a1",
   "metadata": {
    "tags": []
   },
   "outputs": [
    {
     "data": {
      "text/plain": [
       "(25, 6)"
      ]
     },
     "execution_count": 93,
     "metadata": {},
     "output_type": "execute_result"
    }
   ],
   "source": [
    "ventura_geo.service_date.nunique(), most_recent_geo.service_date.nunique()"
   ]
  },
  {
   "cell_type": "code",
   "execution_count": 94,
   "id": "8f300374-c81e-49f7-a934-bf0e38985149",
   "metadata": {
    "tags": []
   },
   "outputs": [
    {
     "data": {
      "text/markdown": [
       "Ventura County (VCTC, Gold Coast, Cities of Camarillo, Moorpark, Ojai, Simi Valley, Thousand Oaks) provides <b>66,352</b> miles of public transit.\n",
       "        "
      ],
      "text/plain": [
       "<IPython.core.display.Markdown object>"
      ]
     },
     "metadata": {},
     "output_type": "display_data"
    }
   ],
   "source": [
    "try:\n",
    "    n_service_miles = int(ventura_op_profile.operator_route_length_miles.values[0])\n",
    "    n_service_miles = \"{:,}\".format(n_service_miles)\n",
    "    display(\n",
    "        Markdown(\n",
    "            f\"\"\"{portfolio_name} provides <b>{n_service_miles}</b> miles of public transit.\n",
    "        \"\"\"\n",
    "        )\n",
    "    )\n",
    "\n",
    "except:\n",
    "    pass"
   ]
  },
  {
   "cell_type": "markdown",
   "id": "e7461672-9058-4a82-b831-696b96abac93",
   "metadata": {},
   "source": [
    "### Count the # of each routes in each percentile group"
   ]
  },
  {
   "cell_type": "code",
   "execution_count": 85,
   "id": "85904d84-f0c0-448d-bb6a-f56220242af7",
   "metadata": {
    "tags": []
   },
   "outputs": [],
   "source": [
    "FILE = GTFS_DATA_DICT.digest_tables.route_schedule_vp\n",
    "route_dir_df = pd.read_parquet(\n",
    "    f\"{RT_SCHED_GCS}{FILE}.parquet\",\n",
    "    filters=[\n",
    "        [\n",
    "            (\"portfolio_organization_name\", \"==\", portfolio_name),\n",
    "        ]\n",
    "    ],\n",
    ")"
   ]
  },
  {
   "cell_type": "code",
   "execution_count": 87,
   "id": "50d76439-d5f4-44d2-b25f-c59fae17d737",
   "metadata": {
    "tags": []
   },
   "outputs": [
    {
     "data": {
      "text/plain": [
       "array(['1770249a5a2e770ca90628434d4934b1',\n",
       "       '7e015887964432c82ce7e735c2753f86'], dtype=object)"
      ]
     },
     "execution_count": 87,
     "metadata": {},
     "output_type": "execute_result"
    }
   ],
   "source": [
    "route_dir_df.schedule_gtfs_dataset_key.unique()"
   ]
  },
  {
   "cell_type": "code",
   "execution_count": 98,
   "id": "76aade05-6af4-4fb8-a62a-e57a06c7640f",
   "metadata": {
    "tags": []
   },
   "outputs": [],
   "source": [
    "n_routes_percentile = (\n",
    "    most_recent_geo.groupby([\"percentile_group\"]).agg({\"route_id\": \"nunique\"}).reset_index()\n",
    ").rename(columns  = {\"percentile_group\": \"Percentile Group\", \"route_id\":\"Total Routes\"})"
   ]
  },
  {
   "cell_type": "code",
   "execution_count": 99,
   "id": "e48a4dd5-d1e8-4be1-b623-2c307b89e6ee",
   "metadata": {
    "tags": []
   },
   "outputs": [
    {
     "data": {
      "text/plain": [
       "array(['25th percentile (<= 8 miles)',\n",
       "       '26-50th percentile (8.1-14 miles)',\n",
       "       '51-75th percentile (14.1-28 miles)',\n",
       "       '51-75th percentile (15.1-26 miles)',\n",
       "       '51-75th percentile (16.1-31 miles)',\n",
       "       '76th percentile (>= 0.1 miles)',\n",
       "       '76th percentile (>= 28.1 miles)',\n",
       "       '76th percentile (>= 36.1 miles)'], dtype=object)"
      ]
     },
     "execution_count": 99,
     "metadata": {},
     "output_type": "execute_result"
    }
   ],
   "source": [
    "n_routes_percentile[\"Percentile Group\"].unique()"
   ]
  },
  {
   "cell_type": "code",
   "execution_count": 80,
   "id": "464fa554-e13d-4829-947f-041387ccfec8",
   "metadata": {
    "tags": []
   },
   "outputs": [
    {
     "data": {
      "text/html": [
       "<div>\n",
       "<style scoped>\n",
       "    .dataframe tbody tr th:only-of-type {\n",
       "        vertical-align: middle;\n",
       "    }\n",
       "\n",
       "    .dataframe tbody tr th {\n",
       "        vertical-align: top;\n",
       "    }\n",
       "\n",
       "    .dataframe thead th {\n",
       "        text-align: right;\n",
       "    }\n",
       "</style>\n",
       "<table border=\"1\" class=\"dataframe\">\n",
       "  <thead>\n",
       "    <tr style=\"text-align: right;\">\n",
       "      <th></th>\n",
       "      <th>Percentile Group</th>\n",
       "      <th>Total Routes</th>\n",
       "    </tr>\n",
       "  </thead>\n",
       "  <tbody>\n",
       "    <tr>\n",
       "      <th>0</th>\n",
       "      <td>25th percentile (&lt;= 8 miles)</td>\n",
       "      <td>18</td>\n",
       "    </tr>\n",
       "    <tr>\n",
       "      <th>1</th>\n",
       "      <td>26-50th percentile (8.1-14 miles)</td>\n",
       "      <td>16</td>\n",
       "    </tr>\n",
       "    <tr>\n",
       "      <th>2</th>\n",
       "      <td>26-50th percentile (8.1-15 miles)</td>\n",
       "      <td>16</td>\n",
       "    </tr>\n",
       "    <tr>\n",
       "      <th>3</th>\n",
       "      <td>26-50th percentile (8.1-16 miles)</td>\n",
       "      <td>14</td>\n",
       "    </tr>\n",
       "    <tr>\n",
       "      <th>4</th>\n",
       "      <td>51-75th percentile (14.1-26 miles)</td>\n",
       "      <td>16</td>\n",
       "    </tr>\n",
       "    <tr>\n",
       "      <th>5</th>\n",
       "      <td>51-75th percentile (14.1-27 miles)</td>\n",
       "      <td>15</td>\n",
       "    </tr>\n",
       "    <tr>\n",
       "      <th>6</th>\n",
       "      <td>51-75th percentile (14.1-28 miles)</td>\n",
       "      <td>15</td>\n",
       "    </tr>\n",
       "    <tr>\n",
       "      <th>7</th>\n",
       "      <td>51-75th percentile (15.1-26 miles)</td>\n",
       "      <td>15</td>\n",
       "    </tr>\n",
       "    <tr>\n",
       "      <th>8</th>\n",
       "      <td>51-75th percentile (15.1-31 miles)</td>\n",
       "      <td>15</td>\n",
       "    </tr>\n",
       "    <tr>\n",
       "      <th>9</th>\n",
       "      <td>51-75th percentile (16.1-31 miles)</td>\n",
       "      <td>14</td>\n",
       "    </tr>\n",
       "    <tr>\n",
       "      <th>10</th>\n",
       "      <td>51-75th percentile (16.1-36 miles)</td>\n",
       "      <td>15</td>\n",
       "    </tr>\n",
       "    <tr>\n",
       "      <th>11</th>\n",
       "      <td>76th percentile (&gt;= 0.1 miles)</td>\n",
       "      <td>2</td>\n",
       "    </tr>\n",
       "    <tr>\n",
       "      <th>12</th>\n",
       "      <td>76th percentile (&gt;= 26.1 miles)</td>\n",
       "      <td>15</td>\n",
       "    </tr>\n",
       "    <tr>\n",
       "      <th>13</th>\n",
       "      <td>76th percentile (&gt;= 27.1 miles)</td>\n",
       "      <td>15</td>\n",
       "    </tr>\n",
       "    <tr>\n",
       "      <th>14</th>\n",
       "      <td>76th percentile (&gt;= 28.1 miles)</td>\n",
       "      <td>15</td>\n",
       "    </tr>\n",
       "    <tr>\n",
       "      <th>15</th>\n",
       "      <td>76th percentile (&gt;= 31.1 miles)</td>\n",
       "      <td>15</td>\n",
       "    </tr>\n",
       "    <tr>\n",
       "      <th>16</th>\n",
       "      <td>76th percentile (&gt;= 36.1 miles)</td>\n",
       "      <td>15</td>\n",
       "    </tr>\n",
       "  </tbody>\n",
       "</table>\n",
       "</div>"
      ],
      "text/plain": [
       "                      Percentile Group  Total Routes\n",
       "0         25th percentile (<= 8 miles)            18\n",
       "1    26-50th percentile (8.1-14 miles)            16\n",
       "2    26-50th percentile (8.1-15 miles)            16\n",
       "3    26-50th percentile (8.1-16 miles)            14\n",
       "4   51-75th percentile (14.1-26 miles)            16\n",
       "5   51-75th percentile (14.1-27 miles)            15\n",
       "6   51-75th percentile (14.1-28 miles)            15\n",
       "7   51-75th percentile (15.1-26 miles)            15\n",
       "8   51-75th percentile (15.1-31 miles)            15\n",
       "9   51-75th percentile (16.1-31 miles)            14\n",
       "10  51-75th percentile (16.1-36 miles)            15\n",
       "11      76th percentile (>= 0.1 miles)             2\n",
       "12     76th percentile (>= 26.1 miles)            15\n",
       "13     76th percentile (>= 27.1 miles)            15\n",
       "14     76th percentile (>= 28.1 miles)            15\n",
       "15     76th percentile (>= 31.1 miles)            15\n",
       "16     76th percentile (>= 36.1 miles)            15"
      ]
     },
     "execution_count": 80,
     "metadata": {},
     "output_type": "execute_result"
    }
   ],
   "source": [
    "n_routes_percentile"
   ]
  },
  {
   "cell_type": "code",
   "execution_count": 76,
   "id": "4355f956-6839-4eea-9a30-22449306b448",
   "metadata": {
    "tags": []
   },
   "outputs": [],
   "source": [
    "percentile_bar = _report_visuals_utils.bar_chart(\n",
    "        x_col = \n",
    "        y_col = \n",
    "        color_col=\n",
    "        color_scheme=[\"#ccbb44\", \"#e9d868\", \"#fcb40e\",\"#ff9c42\",  \"#fc5c04\", \"#dd217d\",\"#dd217d\",\"#dd217d\"] ,\n",
    "        tooltip_cols=[\"Percentile Group\", \"Total Routes\"],\n",
    "        date_format = \"%b %Y\"\n",
    "    )"
   ]
  },
  {
   "cell_type": "code",
   "execution_count": 79,
   "id": "13965cef-56d0-43af-aad0-c6213cfe73f1",
   "metadata": {
    "tags": []
   },
   "outputs": [
    {
     "data": {
      "text/html": [
       "\n",
       "<style>\n",
       "  #altair-viz-d88253073c2e43b9bf85cf49433e0293.vega-embed {\n",
       "    width: 100%;\n",
       "    display: flex;\n",
       "  }\n",
       "\n",
       "  #altair-viz-d88253073c2e43b9bf85cf49433e0293.vega-embed details,\n",
       "  #altair-viz-d88253073c2e43b9bf85cf49433e0293.vega-embed details summary {\n",
       "    position: relative;\n",
       "  }\n",
       "</style>\n",
       "<div id=\"altair-viz-d88253073c2e43b9bf85cf49433e0293\"></div>\n",
       "<script type=\"text/javascript\">\n",
       "  var VEGA_DEBUG = (typeof VEGA_DEBUG == \"undefined\") ? {} : VEGA_DEBUG;\n",
       "  (function(spec, embedOpt){\n",
       "    let outputDiv = document.currentScript.previousElementSibling;\n",
       "    if (outputDiv.id !== \"altair-viz-d88253073c2e43b9bf85cf49433e0293\") {\n",
       "      outputDiv = document.getElementById(\"altair-viz-d88253073c2e43b9bf85cf49433e0293\");\n",
       "    }\n",
       "\n",
       "    const paths = {\n",
       "      \"vega\": \"https://cdn.jsdelivr.net/npm/vega@5?noext\",\n",
       "      \"vega-lib\": \"https://cdn.jsdelivr.net/npm/vega-lib?noext\",\n",
       "      \"vega-lite\": \"https://cdn.jsdelivr.net/npm/vega-lite@5.20.1?noext\",\n",
       "      \"vega-embed\": \"https://cdn.jsdelivr.net/npm/vega-embed@6?noext\",\n",
       "    };\n",
       "\n",
       "    function maybeLoadScript(lib, version) {\n",
       "      var key = `${lib.replace(\"-\", \"\")}_version`;\n",
       "      return (VEGA_DEBUG[key] == version) ?\n",
       "        Promise.resolve(paths[lib]) :\n",
       "        new Promise(function(resolve, reject) {\n",
       "          var s = document.createElement('script');\n",
       "          document.getElementsByTagName(\"head\")[0].appendChild(s);\n",
       "          s.async = true;\n",
       "          s.onload = () => {\n",
       "            VEGA_DEBUG[key] = version;\n",
       "            return resolve(paths[lib]);\n",
       "          };\n",
       "          s.onerror = () => reject(`Error loading script: ${paths[lib]}`);\n",
       "          s.src = paths[lib];\n",
       "        });\n",
       "    }\n",
       "\n",
       "    function showError(err) {\n",
       "      outputDiv.innerHTML = `<div class=\"error\" style=\"color:red;\">${err}</div>`;\n",
       "      throw err;\n",
       "    }\n",
       "\n",
       "    function displayChart(vegaEmbed) {\n",
       "      vegaEmbed(outputDiv, spec, embedOpt)\n",
       "        .catch(err => showError(`Javascript Error: ${err.message}<br>This usually means there's a typo in your chart specification. See the javascript console for the full traceback.`));\n",
       "    }\n",
       "\n",
       "    if(typeof define === \"function\" && define.amd) {\n",
       "      requirejs.config({paths});\n",
       "      let deps = [\"vega-embed\"];\n",
       "      require(deps, displayChart, err => showError(`Error loading script: ${err.message}`));\n",
       "    } else {\n",
       "      maybeLoadScript(\"vega\", \"5\")\n",
       "        .then(() => maybeLoadScript(\"vega-lite\", \"5.20.1\"))\n",
       "        .then(() => maybeLoadScript(\"vega-embed\", \"6\"))\n",
       "        .catch(showError)\n",
       "        .then(() => displayChart(vegaEmbed));\n",
       "    }\n",
       "  })({\"config\": {\"view\": {\"continuousWidth\": 300, \"continuousHeight\": 300}}, \"data\": {\"name\": \"data-10c3712be1e4c1975c5cf81231e2d784\"}, \"mark\": {\"type\": \"bar\"}, \"encoding\": {\"color\": {\"field\": \"Percentile Group\", \"legend\": null, \"scale\": {\"range\": [\"#ccbb44\", \"#e9d868\", \"#fcb40e\", \"#ff9c42\", \"#fc5c04\", \"#dd217d\", \"#dd217d\", \"#dd217d\"]}, \"title\": \"Percentile Group\", \"type\": \"nominal\"}, \"tooltip\": [{\"field\": \"Percentile Group\", \"type\": \"nominal\"}, {\"field\": \"Total Routes\", \"type\": \"quantitative\"}], \"x\": {\"axis\": {\"labelAngle\": -45}, \"field\": \"Percentile Group\", \"title\": \"Percentile Group\", \"type\": \"nominal\"}, \"y\": {\"field\": \"Total Routes\", \"title\": \"Total Routes\", \"type\": \"quantitative\"}}, \"$schema\": \"https://vega.github.io/schema/vega-lite/v5.20.1.json\", \"datasets\": {\"data-10c3712be1e4c1975c5cf81231e2d784\": [{\"Percentile Group\": \"25th percentile (<= 8 miles)\", \"Total Routes\": 18}, {\"Percentile Group\": \"26-50th percentile (8.1-14 miles)\", \"Total Routes\": 16}, {\"Percentile Group\": \"26-50th percentile (8.1-15 miles)\", \"Total Routes\": 16}, {\"Percentile Group\": \"26-50th percentile (8.1-16 miles)\", \"Total Routes\": 14}, {\"Percentile Group\": \"51-75th percentile (14.1-26 miles)\", \"Total Routes\": 16}, {\"Percentile Group\": \"51-75th percentile (14.1-27 miles)\", \"Total Routes\": 15}, {\"Percentile Group\": \"51-75th percentile (14.1-28 miles)\", \"Total Routes\": 15}, {\"Percentile Group\": \"51-75th percentile (15.1-26 miles)\", \"Total Routes\": 15}, {\"Percentile Group\": \"51-75th percentile (15.1-31 miles)\", \"Total Routes\": 15}, {\"Percentile Group\": \"51-75th percentile (16.1-31 miles)\", \"Total Routes\": 14}, {\"Percentile Group\": \"51-75th percentile (16.1-36 miles)\", \"Total Routes\": 15}, {\"Percentile Group\": \"76th percentile (>= 0.1 miles)\", \"Total Routes\": 2}, {\"Percentile Group\": \"76th percentile (>= 26.1 miles)\", \"Total Routes\": 15}, {\"Percentile Group\": \"76th percentile (>= 27.1 miles)\", \"Total Routes\": 15}, {\"Percentile Group\": \"76th percentile (>= 28.1 miles)\", \"Total Routes\": 15}, {\"Percentile Group\": \"76th percentile (>= 31.1 miles)\", \"Total Routes\": 15}, {\"Percentile Group\": \"76th percentile (>= 36.1 miles)\", \"Total Routes\": 15}]}}, {\"mode\": \"vega-lite\"});\n",
       "</script>"
      ],
      "text/plain": [
       "alt.Chart(...)"
      ]
     },
     "execution_count": 79,
     "metadata": {},
     "output_type": "execute_result"
    }
   ],
   "source": [
    "(\n",
    "        alt.Chart(n_routes_percentile)\n",
    "        .mark_bar()\n",
    "        .encode(\n",
    "            x=alt.X(\n",
    "                \"Percentile Group\",\n",
    "                title=\"Percentile Group\",\n",
    "                axis=alt.Axis(labelAngle=-45),\n",
    "            ),\n",
    "            y=alt.Y(\"Total Routes\", title=\"Total Routes\"),\n",
    "            color=alt.Color(\n",
    "                \"Percentile Group\",\n",
    "                legend=None,\n",
    "                title=\"Percentile Group\",\n",
    "                scale=alt.Scale(range=[\"#ccbb44\", \"#e9d868\", \"#fcb40e\",\"#ff9c42\",  \"#fc5c04\", \"#dd217d\",\"#dd217d\",\"#dd217d\"]),\n",
    "            ),\n",
    "            tooltip=[\"Percentile Group\", \"Total Routes\"],\n",
    "        )\n",
    "    )"
   ]
  },
  {
   "cell_type": "code",
   "execution_count": null,
   "id": "2783a19f-02cf-4161-8ed4-46a59b0256a6",
   "metadata": {},
   "outputs": [],
   "source": [
    "    \n",
    "    display(\n",
    "        section1.basic_bar_chart(\n",
    "            route_percentile_agg,\n",
    "            \"Total Unique Routes\",\n",
    "            \"percentile_group\",\n",
    "            readable_dict[\"route_percentiles\"][\"title\"],\n",
    "            readable_dict[\"route_percentiles\"][\"subtitle\"],\n",
    "        )\n",
    "    )\n",
    "\n",
    "    longest_shortest_df = section1.shortest_longest_route(operator_route_map)\n",
    "    display(\n",
    "        section1.basic_bar_chart(\n",
    "            longest_shortest_df,\n",
    "            \"Service Miles\",\n",
    "            \"Route\",\n",
    "            readable_dict[\"longest_shortest_route\"][\"title\"],\n",
    "            readable_dict[\"longest_shortest_route\"][\"subtitle\"],\n",
    "        )\n",
    "    )\n",
    "except:\n",
    "    pass"
   ]
  },
  {
   "cell_type": "markdown",
   "id": "d9a195f7-6775-42ab-bf49-d4de2ba950d5",
   "metadata": {
    "tags": []
   },
   "source": [
    "### Route Map\n",
    "* Need to wrap it into a function, but where would I put this function?"
   ]
  },
  {
   "cell_type": "code",
   "execution_count": null,
   "id": "6358ef98-27b9-42dd-ab55-2002c1fb6fa6",
   "metadata": {
    "tags": []
   },
   "outputs": [],
   "source": [
    "ventura_geo_subset = ventura_geo[\n",
    "    [\"route_id\", \"route_length_miles\", \"geometry\", \"service_date\"]\n",
    "]"
   ]
  },
  {
   "cell_type": "code",
   "execution_count": null,
   "id": "c15f0725-72d4-4d80-bbfa-fd769e44c73d",
   "metadata": {
    "tags": []
   },
   "outputs": [],
   "source": [
    "most_recent_dates = publish_utils.filter_to_recent_date(\n",
    "    df=ventura_geo_subset, group_cols=[\"route_id\"]\n",
    ")"
   ]
  },
  {
   "cell_type": "code",
   "execution_count": null,
   "id": "ac8b1efc-f73c-4bcb-abe7-035211556863",
   "metadata": {
    "tags": []
   },
   "outputs": [],
   "source": [
    "ventura_geo_subset2.head()"
   ]
  },
  {
   "cell_type": "code",
   "execution_count": null,
   "id": "d0250ae4-0212-4fb5-8974-4c819ca40067",
   "metadata": {
    "tags": []
   },
   "outputs": [],
   "source": [
    "most_recent_geo = pd.merge(\n",
    "    ventura_geo_subset, most_recent_dates, on=[\"route_id\", \"service_date\"], how=\"inner\"\n",
    ")"
   ]
  },
  {
   "cell_type": "code",
   "execution_count": null,
   "id": "1c633d32-3850-4546-a26c-b6c484ddd8c2",
   "metadata": {
    "tags": []
   },
   "outputs": [],
   "source": [
    "most_recent_geo.shape"
   ]
  },
  {
   "cell_type": "code",
   "execution_count": null,
   "id": "36414319-084e-44e9-a74f-a5b614253488",
   "metadata": {
    "tags": []
   },
   "outputs": [],
   "source": [
    "most_recent_geo = most_recent_geo[[\"route_id\", \"route_length_miles\", \"geometry\"]]"
   ]
  },
  {
   "cell_type": "code",
   "execution_count": null,
   "id": "a6d18d6c-8296-44ee-8be7-f4b671444b5a",
   "metadata": {
    "tags": []
   },
   "outputs": [],
   "source": [
    "most_recent_geo = most_recent_geo.rename(\n",
    "    columns={\"route_id\": \"Route\", \"route_length_miles\": \"Route Length (Miles)\"}\n",
    ")"
   ]
  },
  {
   "cell_type": "code",
   "execution_count": null,
   "id": "95db56d4-cf7d-4ddc-9d38-c6a5a7c4b2c5",
   "metadata": {
    "tags": []
   },
   "outputs": [],
   "source": [
    "try:\n",
    "    display(\n",
    "        most_recent_geo.explore(\n",
    "            \"Route\",\n",
    "            cmap=\"Spectral\",\n",
    "            tiles=\"CartoDB positron\",\n",
    "            width=500,\n",
    "            height=300,\n",
    "            style_kwds={\"weight\": 3},\n",
    "            legend=False,\n",
    "            tooltip=[\"Route\", \"Route Length (Miles)\"],\n",
    "        )\n",
    "    )\n",
    "except:\n",
    "    display(Markdown(f\"\"\"{portfolio_name} doesn't have an route geographies.\"\"\"))"
   ]
  },
  {
   "cell_type": "markdown",
   "id": "e9a0a7f0-06ea-41b4-aaca-89e593c66f44",
   "metadata": {},
   "source": [
    "## Counties Served"
   ]
  },
  {
   "cell_type": "code",
   "execution_count": null,
   "id": "96191ee5-242d-42b5-ac71-5ec9b969d056",
   "metadata": {
    "tags": []
   },
   "outputs": [],
   "source": [
    "try:\n",
    "    display(\n",
    "        Markdown(\n",
    "            f\"{portfolio_name} provides public transit in {ventura_op_profile['counties_served'].values[0]} counties.\"\n",
    "        )\n",
    "    )\n",
    "except:\n",
    "    display(Markdown(f\"\"\"{portfolio_name} doesn't have an route geographies.\"\"\"))"
   ]
  },
  {
   "cell_type": "markdown",
   "id": "0400d0a8-af73-4112-af37-cbbfda2d0329",
   "metadata": {},
   "source": [
    "## Number of Stops\n",
    "* Mean arrivals is gone."
   ]
  },
  {
   "cell_type": "code",
   "execution_count": null,
   "id": "ad9f0eae-0e99-49d8-a886-92ae916f5479",
   "metadata": {
    "tags": []
   },
   "outputs": [],
   "source": [
    "try:\n",
    "    n_stops = int(ventura_op_profile[\"operator_n_stops\"].values[0])\n",
    "    n_stops = \"{:,}\".format(n_stops)\n",
    "\n",
    "    n_arrivals = int(ventura_op_profile[\"operator_n_arrivals\"].values[0])\n",
    "    n_arrivals = \"{:,}\".format(n_arrivals)\n",
    "    display(\n",
    "        Markdown(\n",
    "            f\"\"\"{portfolio_name} stops at <b>{n_stops}</b> unique stops, \n",
    "                totaling to <b>{n_arrivals}</b> arrivals.\n",
    "            \"\"\"\n",
    "        )\n",
    "    )\n",
    "except:\n",
    "    pass"
   ]
  },
  {
   "cell_type": "code",
   "execution_count": null,
   "id": "cc72b9bd-2d25-467a-8a29-c9d8e5653d32",
   "metadata": {},
   "outputs": [],
   "source": []
  },
  {
   "cell_type": "markdown",
   "id": "1925cfca-ef32-4dd4-aafd-f8ea14e6b1b8",
   "metadata": {},
   "source": [
    "## Work before vacation"
   ]
  },
  {
   "cell_type": "code",
   "execution_count": null,
   "id": "794889d7-3a84-4891-9c54-65de472b24b6",
   "metadata": {
    "tags": []
   },
   "outputs": [],
   "source": [
    "schedule_df = merge_operator_data.concatenate_schedule_operator_metrics(\n",
    "    analysis_date_list\n",
    ")"
   ]
  },
  {
   "cell_type": "code",
   "execution_count": null,
   "id": "2fdfd08f-030e-45bc-be6d-9ba5bca68b37",
   "metadata": {
    "tags": []
   },
   "outputs": [],
   "source": [
    "schedule_df.head(2)"
   ]
  },
  {
   "cell_type": "code",
   "execution_count": null,
   "id": "92ad5e41-2039-47c9-b0a7-9b2c5f9462b0",
   "metadata": {
    "tags": []
   },
   "outputs": [],
   "source": [
    "rt_schedule_df = merge_operator_data.concatenate_rt_vs_schedule_operator_metrics(\n",
    "    analysis_date_list\n",
    ")"
   ]
  },
  {
   "cell_type": "code",
   "execution_count": null,
   "id": "1cb1b4dd-4129-46ef-bbfe-3bd725606af4",
   "metadata": {
    "tags": []
   },
   "outputs": [],
   "source": [
    "rt_schedule_df.head(2)"
   ]
  },
  {
   "cell_type": "code",
   "execution_count": null,
   "id": "1db86e33-5b8a-42c9-a41b-99171e1be26f",
   "metadata": {
    "tags": []
   },
   "outputs": [],
   "source": [
    "gdf = (\n",
    "    merge_operator_data.concatenate_operator_routes(analysis_date_list)\n",
    "    .pipe(merge_data.merge_in_standardized_route_names)\n",
    "    .pipe(\n",
    "        portfolio_utils.standardize_portfolio_organization_names,\n",
    "        PORTFOLIO_ORGANIZATIONS_DICT,\n",
    "    )\n",
    ")"
   ]
  },
  {
   "cell_type": "code",
   "execution_count": null,
   "id": "85fde2be-0c8b-45ca-b60a-671951497eba",
   "metadata": {
    "tags": []
   },
   "outputs": [],
   "source": [
    "gdf.columns"
   ]
  },
  {
   "attachments": {
    "83e7cedb-8659-40c9-835a-7ade8e40d448.png": {
     "image/png": "[encoded data removed]"
    }
   },
   "cell_type": "markdown",
   "id": "529b9050-3c27-46c4-916b-d18a2cb6657f",
   "metadata": {},
   "source": [
    "### Task #1: Aggregate `crosswalk` to `portfolio_organization_name`\n",
    "* <i>Group by name-service_date-portfolio_organization_name to aggregate up to      portfolio_organization_name,because name indicates different feeds, so we want to sum those</i>. \n",
    "* AH: How do we account for situations when the different `organization_names` have different hq_cities, reporter_types, etc -> see Ventura County. we use these fields in this part of the portfolio. \n",
    "![image.png](attachment:83e7cedb-8659-40c9-835a-7ade8e40d448.png)"
   ]
  },
  {
   "cell_type": "code",
   "execution_count": null,
   "id": "8c49b350-5c7d-4703-83b3-aa08006aa19c",
   "metadata": {
    "tags": []
   },
   "outputs": [],
   "source": [
    "crosswalk_df = merge_operator_data.concatenate_crosswalks(analysis_date_list)"
   ]
  },
  {
   "cell_type": "code",
   "execution_count": null,
   "id": "055019d8-88bf-40d3-b0c0-f10663d053c8",
   "metadata": {
    "tags": []
   },
   "outputs": [],
   "source": [
    "crosswalk_df.head(1)"
   ]
  },
  {
   "cell_type": "code",
   "execution_count": null,
   "id": "a13dac89-514d-4646-a6a0-40be1f32d154",
   "metadata": {
    "tags": []
   },
   "outputs": [],
   "source": [
    "crosswalk_df.portfolio_organization_name.nunique(), len(\n",
    "    crosswalk_df\n",
    "), crosswalk_df.name.nunique()"
   ]
  },
  {
   "cell_type": "code",
   "execution_count": null,
   "id": "86eafcc8-c261-4a16-ae7a-d3c8989e6ceb",
   "metadata": {
    "tags": []
   },
   "outputs": [],
   "source": [
    "crosswalk_df.loc[crosswalk_df.service_date == \"2024-01-17\"].shape"
   ]
  },
  {
   "cell_type": "code",
   "execution_count": null,
   "id": "5cf38d02-a434-479b-a7d1-5bc389806209",
   "metadata": {
    "tags": []
   },
   "outputs": [],
   "source": [
    "crosswalk_df.loc[crosswalk_df.service_date == \"2024-01-17\"][\n",
    "    \"portfolio_organization_name\"\n",
    "].nunique()"
   ]
  },
  {
   "cell_type": "code",
   "execution_count": null,
   "id": "ab115c8e-ef92-4691-9882-530f46c246a5",
   "metadata": {
    "scrolled": true,
    "tags": []
   },
   "outputs": [],
   "source": [
    "crosswalk_df.loc[\n",
    "    (crosswalk_df.service_date == \"2024-01-17\")\n",
    "    & (\n",
    "        crosswalk_df.portfolio_organization_name\n",
    "        == \"Ventura County (VCTC, Gold Coast, Cities of Camarillo, Moorpark, Ojai, Simi Valley, Thousand Oaks)\"\n",
    "    )\n",
    "]"
   ]
  },
  {
   "cell_type": "code",
   "execution_count": null,
   "id": "c4c93f80-3fdc-420c-96a0-b62b59491f8d",
   "metadata": {
    "tags": []
   },
   "outputs": [],
   "source": [
    "operator_df = merge_operator_data.merge_data_sources_by_operator(\n",
    "    schedule_df, rt_schedule_df, crosswalk_df\n",
    ")"
   ]
  },
  {
   "cell_type": "code",
   "execution_count": null,
   "id": "f892b275-13cb-4d27-83d6-d31c85dc23a2",
   "metadata": {
    "tags": []
   },
   "outputs": [],
   "source": [
    "operator_df.head(1)"
   ]
  },
  {
   "cell_type": "markdown",
   "id": "631a3c71-1032-40ae-86e8-db8319e5cc87",
   "metadata": {},
   "source": [
    "### Task #2: \n",
    "* Is there a short/long route, can it be flagged per date as a new column here?\n",
    "* Piping the `portfolio_organization_name` goes at the end, "
   ]
  },
  {
   "cell_type": "code",
   "execution_count": null,
   "id": "5dac0618-62d7-4349-8e3a-d9af0cc5d7eb",
   "metadata": {
    "tags": []
   },
   "outputs": [],
   "source": [
    "FILE = GTFS_DATA_DICT.schedule_tables.operator_routes\n",
    "\n",
    "concatenate_schedule_operator_metrics_df = (\n",
    "    time_series_utils.concatenate_datasets_across_dates(\n",
    "        SCHED_GCS,\n",
    "        FILE,\n",
    "        analysis_date_list,\n",
    "        data_type=\"gdf\",\n",
    "    )\n",
    "    .sort_values([\"schedule_gtfs_dataset_key\", \"service_date\"])\n",
    "    .reset_index(drop=True)\n",
    "    .pipe(\n",
    "        portfolio_utils.standardize_portfolio_organization_names,\n",
    "        PORTFOLIO_ORGANIZATIONS_DICT,\n",
    "    )\n",
    ")"
   ]
  },
  {
   "cell_type": "code",
   "execution_count": null,
   "id": "507f5f16-3788-47f2-8bff-a453d34997ff",
   "metadata": {
    "tags": []
   },
   "outputs": [],
   "source": [
    "concatenate_schedule_operator_metrics_df.columns"
   ]
  },
  {
   "cell_type": "code",
   "execution_count": null,
   "id": "ec65d0de-9193-44e6-aaa2-dc523c2739ba",
   "metadata": {
    "tags": []
   },
   "outputs": [],
   "source": [
    "concatenate_schedule_operator_metrics_df[[\"route_id\", \"route_key\"]].sample(3)"
   ]
  },
  {
   "cell_type": "code",
   "execution_count": null,
   "id": "a29e0a70-0fcf-4f17-ad49-624eb1cfa47d",
   "metadata": {
    "tags": []
   },
   "outputs": [],
   "source": [
    "concatenate_schedule_operator_metrics_subset = concatenate_schedule_operator_metrics_df[\n",
    "    [\n",
    "        \"portfolio_organization_name\",\n",
    "        \"route_id\",\n",
    "        \"route_length_miles\",\n",
    "        \"service_date\",\n",
    "    ]\n",
    "]"
   ]
  },
  {
   "cell_type": "code",
   "execution_count": null,
   "id": "4c301629-b3ac-4597-a30b-c4b1f891cbb5",
   "metadata": {
    "tags": []
   },
   "outputs": [],
   "source": [
    "len(concatenate_schedule_operator_metrics_subset), len(\n",
    "    concatenate_schedule_operator_metrics_df\n",
    ")"
   ]
  },
  {
   "cell_type": "code",
   "execution_count": null,
   "id": "d04607a4-f32d-4ba3-be5b-c377c257d56b",
   "metadata": {
    "tags": []
   },
   "outputs": [],
   "source": [
    "concatenate_schedule_operator_metrics_subset = (\n",
    "    concatenate_schedule_operator_metrics_subset.drop_duplicates()\n",
    ")"
   ]
  },
  {
   "cell_type": "code",
   "execution_count": null,
   "id": "1e742bfa-c2a4-4a2a-a629-9dbc176451e1",
   "metadata": {
    "tags": []
   },
   "outputs": [],
   "source": [
    "len(concatenate_schedule_operator_metrics_subset)"
   ]
  },
  {
   "cell_type": "code",
   "execution_count": null,
   "id": "75a1dcf0-04db-4614-8c46-cf8f5e9127cf",
   "metadata": {
    "tags": []
   },
   "outputs": [],
   "source": [
    "def get_min_max(group):\n",
    "    min_row = group.nsmallest(1, \"route_length_miles\").assign(\n",
    "        long_short_route=\"shortest\"\n",
    "    )\n",
    "    max_row = group.nlargest(1, \"route_length_miles\").assign(long_short_route=\"longest\")\n",
    "    return pd.concat([min_row, max_row])"
   ]
  },
  {
   "cell_type": "code",
   "execution_count": null,
   "id": "c1a057d7-7119-43a8-9d6f-874f2eb0b00a",
   "metadata": {
    "tags": []
   },
   "outputs": [],
   "source": [
    "longest_shortest_route = (\n",
    "    concatenate_schedule_operator_metrics_subset.groupby(\n",
    "        [\"service_date\", \"portfolio_organization_name\"]\n",
    "    )\n",
    "    .apply(get_min_max)\n",
    "    .drop(columns=[\"route_length_miles\"])\n",
    "    .reset_index(drop=True)\n",
    ")"
   ]
  },
  {
   "cell_type": "code",
   "execution_count": null,
   "id": "f6c10e3b-e0be-4bb5-b1e0-58af2c337bcb",
   "metadata": {
    "tags": []
   },
   "outputs": [],
   "source": [
    "len(longest_shortest_route)"
   ]
  },
  {
   "cell_type": "code",
   "execution_count": null,
   "id": "df6a0ab7-ae01-4d45-87c6-e45abafec9af",
   "metadata": {
    "scrolled": true,
    "tags": []
   },
   "outputs": [],
   "source": [
    "# longest_shortest_route.groupby([\"service_date\", \"portfolio_organization_name\"]).agg(\n",
    "#    {\"route_id\": \"nunique\"}\n",
    "# )"
   ]
  },
  {
   "cell_type": "code",
   "execution_count": null,
   "id": "a4ef469c-15a3-4e20-8e20-c12d1ff558ee",
   "metadata": {
    "tags": []
   },
   "outputs": [],
   "source": [
    "longest_shortest_route.loc[\n",
    "    longest_shortest_route.service_date == \"2024-01-17\"\n",
    "].portfolio_organization_name.value_counts().head()"
   ]
  },
  {
   "cell_type": "code",
   "execution_count": null,
   "id": "5aaffa1f-2964-45d1-a3c5-5fd851d07b14",
   "metadata": {
    "tags": []
   },
   "outputs": [],
   "source": [
    "longest_shortest_route.sample()"
   ]
  },
  {
   "cell_type": "markdown",
   "id": "67a6c7df-9d82-41ad-802d-2f9bc68c4a02",
   "metadata": {},
   "source": [
    "### Why are there extra rows popping up?"
   ]
  },
  {
   "cell_type": "code",
   "execution_count": null,
   "id": "f344179a-1016-45e4-8072-a7511bb95519",
   "metadata": {
    "tags": []
   },
   "outputs": [],
   "source": [
    "#  Merge back with a left join\n",
    "m1 = pd.merge(\n",
    "    concatenate_schedule_operator_metrics_df,\n",
    "    longest_shortest_route,\n",
    "    on=[\"portfolio_organization_name\", \"route_id\", \"service_date\"],\n",
    "    how=\"outer\",\n",
    "    indicator=True,\n",
    ")"
   ]
  },
  {
   "cell_type": "code",
   "execution_count": null,
   "id": "dbd6c5bb-76c7-4e11-b4e1-55b3fe015270",
   "metadata": {
    "tags": []
   },
   "outputs": [],
   "source": [
    "len(concatenate_schedule_operator_metrics_df)"
   ]
  },
  {
   "cell_type": "code",
   "execution_count": null,
   "id": "42f86bf9-f8fe-4110-9c23-ec849cefafa4",
   "metadata": {
    "tags": []
   },
   "outputs": [],
   "source": [
    "len(m1)"
   ]
  },
  {
   "cell_type": "code",
   "execution_count": null,
   "id": "762109d9-711c-449c-918b-8f1c50f1a072",
   "metadata": {
    "tags": []
   },
   "outputs": [],
   "source": [
    "m1._merge.value_counts()"
   ]
  },
  {
   "cell_type": "code",
   "execution_count": null,
   "id": "e0eef798-87cf-45ae-8b56-3b89fb94b4ed",
   "metadata": {
    "tags": []
   },
   "outputs": [],
   "source": [
    "len(m1) - len(concatenate_schedule_operator_metrics_df)"
   ]
  },
  {
   "cell_type": "code",
   "execution_count": null,
   "id": "af4fbb79-b1c0-45cd-ad9d-10e06950991b",
   "metadata": {
    "tags": []
   },
   "outputs": [],
   "source": [
    "def find_percentiles(df: pd.DataFrame, col_of_interest: str) -> pd.DataFrame:\n",
    "    \"\"\"\n",
    "    Take a column you're interested in and categorize it by row\n",
    "    for each percentile group it belongs to.\n",
    "    \"\"\"\n",
    "    # Get percentiles in objects for total vehicle.\n",
    "    p25 = df[col_of_interest].quantile(0.25).astype(float)\n",
    "    p50 = df[col_of_interest].quantile(0.50).astype(float)\n",
    "    p75 = df[col_of_interest].quantile(0.75).astype(float)\n",
    "\n",
    "    # Make a dataframe out of this\n",
    "    percentile_data = {\n",
    "        f\"{col_of_interest}_percentile\": [\n",
    "            \"25th percentile\",\n",
    "            \"50th percentile\",\n",
    "            \"< 75th percentile\",\n",
    "            \"> 75th percentile\",\n",
    "        ],\n",
    "        \"percentile_group\": [\n",
    "            f\"25 percentile (<={p25.astype(int)} miles)\",\n",
    "            f\"26-50th percentile ({p25.astype(int) + 0.1}-{p50.astype(int)} miles)\",\n",
    "            f\"51-75th percentile ({p50.astype(int) + 0.1}-{p75.astype(int)} miles)\",\n",
    "            f\"76th percentile (>={p75.astype(int) + 0.1} miles)\",\n",
    "        ],\n",
    "    }\n",
    "    percentile_df = pd.DataFrame(data=percentile_data)\n",
    "\n",
    "    def categorize_percentile(row):\n",
    "        if (row[col_of_interest] > 0) and (row[col_of_interest] <= p25):\n",
    "            return \"25th percentile\"\n",
    "        elif (row[col_of_interest] > p25) and (row[col_of_interest] <= p50):\n",
    "            return \"50th percentile\"\n",
    "        elif (row[col_of_interest] > p50) and (row[col_of_interest] <= p75):\n",
    "            return \"< 75th percentile\"\n",
    "        elif row[col_of_interest] > p75:\n",
    "            return \"> 75th percentile\"\n",
    "        else:\n",
    "            return \"Zero\"\n",
    "\n",
    "    # Actually categorize each value for percentile\n",
    "    df[f\"{col_of_interest}_percentile\"] = df.apply(\n",
    "        lambda x: categorize_percentile(x), axis=1\n",
    "    )\n",
    "\n",
    "    # Delete out routes w/o service mile info\n",
    "    df = df.loc[df[f\"{col_of_interest}_percentile\"] != \"Zero\"]\n",
    "\n",
    "    # Merge the dataframes\n",
    "    df2 = pd.merge(df, percentile_df, on=f\"{col_of_interest}_percentile\")\n",
    "    return df2"
   ]
  },
  {
   "cell_type": "code",
   "execution_count": null,
   "id": "065607a8-919c-4607-9c4f-4008726c6990",
   "metadata": {
    "tags": []
   },
   "outputs": [],
   "source": [
    "# Delete out nan route_length_miles\n",
    "concatenate_schedule_operator_metrics_subset2 = (\n",
    "    concatenate_schedule_operator_metrics_subset.loc[\n",
    "        concatenate_schedule_operator_metrics_subset.route_length_miles.notna()\n",
    "    ]\n",
    ")"
   ]
  },
  {
   "cell_type": "code",
   "execution_count": null,
   "id": "f15d33d3-0d79-415a-a9a5-7f439a76f011",
   "metadata": {
    "tags": []
   },
   "outputs": [],
   "source": [
    "len(concatenate_schedule_operator_metrics_subset2)"
   ]
  },
  {
   "cell_type": "code",
   "execution_count": null,
   "id": "034d6b55-b829-4d6e-b43d-fdd611787324",
   "metadata": {
    "scrolled": true,
    "tags": []
   },
   "outputs": [],
   "source": [
    "percentile_df = pd.DataFrame()\n",
    "for operator in list(\n",
    "    concatenate_schedule_operator_metrics_subset2.portfolio_organization_name.unique()\n",
    "):\n",
    "    one_operator = concatenate_schedule_operator_metrics_subset2.loc[\n",
    "        concatenate_schedule_operator_metrics_subset2.portfolio_organization_name\n",
    "        == operator\n",
    "    ]\n",
    "    df = find_percentiles(one_operator, \"route_length_miles\")\n",
    "    percentile_df = pd.concat([percentile_df, df], axis=0)"
   ]
  },
  {
   "cell_type": "code",
   "execution_count": null,
   "id": "4a970cd7-3c24-42c1-8fe5-32788752237f",
   "metadata": {
    "tags": []
   },
   "outputs": [],
   "source": [
    "len(percentile_df)"
   ]
  },
  {
   "cell_type": "code",
   "execution_count": null,
   "id": "67a9a1af-f4b3-4eb0-8b75-3e37c36e749c",
   "metadata": {
    "tags": []
   },
   "outputs": [],
   "source": [
    "percentile_df.sample(10)"
   ]
  },
  {
   "cell_type": "code",
   "execution_count": null,
   "id": "33df1bf0-f181-4d1d-8330-e3fb1d30441e",
   "metadata": {
    "tags": []
   },
   "outputs": [],
   "source": [
    "#  Merge back with a left join\n",
    "m2 = pd.merge(\n",
    "    m1,\n",
    "    percentile_df.drop(columns=[\"route_length_miles\", \"route_length_miles_percentile\"]),\n",
    "    on=[\"portfolio_organization_name\", \"route_id\", \"service_date\"],\n",
    "    how=\"left\",\n",
    ")"
   ]
  },
  {
   "cell_type": "code",
   "execution_count": null,
   "id": "ee7cc8b9-9fcd-4366-9ed9-32b78e1388f1",
   "metadata": {
    "tags": []
   },
   "outputs": [],
   "source": [
    "m2.shape"
   ]
  },
  {
   "cell_type": "code",
   "execution_count": null,
   "id": "d11ed938-4618-406d-8521-91bfcfc8be9d",
   "metadata": {
    "tags": []
   },
   "outputs": [],
   "source": [
    "m1.shape"
   ]
  },
  {
   "cell_type": "code",
   "execution_count": null,
   "id": "64198e46-cc7d-4692-b69a-1f8b1c95535b",
   "metadata": {
    "tags": []
   },
   "outputs": [],
   "source": [
    "concatenate_schedule_operator_metrics_df.shape"
   ]
  },
  {
   "cell_type": "code",
   "execution_count": null,
   "id": "6eea22be-7512-499c-81fc-1fba617a734d",
   "metadata": {
    "scrolled": true,
    "tags": []
   },
   "outputs": [],
   "source": [
    "# percentile_df.groupby([\"portfolio_organization_name\", \"percentile_group\"]).agg({\"route_id\":\"nunique\"})"
   ]
  },
  {
   "cell_type": "markdown",
   "id": "5286948e-8a7a-4a81-bfb2-8a0f1706e099",
   "metadata": {},
   "source": [
    "### Task #3: DONE.\n",
    "* <i>take input produced in concatenate_operator_routes\n",
    "    get counties for operator-date\n",
    "    df should only be operator-date-counties_served\n",
    "    use this to merge into crosswalk and replace NTD column</i>"
   ]
  },
  {
   "cell_type": "code",
   "execution_count": null,
   "id": "22fd9c53-286f-44c1-843c-dd36ec873f9d",
   "metadata": {
    "tags": []
   },
   "outputs": [],
   "source": [
    "def get_counties() -> gpd.GeoDataFrame:\n",
    "    \"\"\"\n",
    "    Load a geodataframe of the California counties.\n",
    "    \"\"\"\n",
    "    ca_gdf = \"https://opendata.arcgis.com/datasets/8713ced9b78a4abb97dc130a691a8695_0.geojson\"\n",
    "    my_gdf = to_snakecase(gpd.read_file(f\"{ca_gdf}\"))[[\"county_name\", \"geometry\"]]\n",
    "\n",
    "    return my_gdf"
   ]
  },
  {
   "cell_type": "code",
   "execution_count": null,
   "id": "9e1e7826-f030-4e5d-a551-332c2467eee0",
   "metadata": {
    "tags": []
   },
   "outputs": [],
   "source": [
    "def counties_served_by_operator(gdf: gpd.GeoDataFrame) -> gpd.GeoDataFrame:\n",
    "    \"\"\"\n",
    "    Join the geodataframe produced by concatenate_operator_routes\n",
    "    to find which counties an operator serves.\n",
    "    \"\"\"\n",
    "    # Subset\n",
    "    gdf2 = gdf[[\"route_id\", \"service_date\", \"portfolio_organization_name\", \"geometry\"]]\n",
    "\n",
    "    # Grab counties\n",
    "    ca_counties = get_counties()\n",
    "\n",
    "    # Sjoin\n",
    "    counties_served = gpd.sjoin(\n",
    "        gdf2, ca_counties.to_crs(gdf.crs), how=\"inner\", predicate=\"intersects\"\n",
    "    ).drop(columns=\"index_right\")\n",
    "\n",
    "    # Drop Duplicates\n",
    "    counties_served2 = (\n",
    "        counties_served[[\"service_date\", \"portfolio_organization_name\", \"county_name\"]]\n",
    "        .drop_duplicates()\n",
    "        .sort_values(by=[\"county_name\"])\n",
    "        .reset_index(drop=True)\n",
    "    )\n",
    "\n",
    "    # Concatenate the counties using a groupby\n",
    "    counties_served3 = counties_served2.groupby(\n",
    "        [\n",
    "            \"service_date\",\n",
    "            \"portfolio_organization_name\",\n",
    "        ],\n",
    "        as_index=False,\n",
    "    ).agg({\"county_name\": \",\".join})\n",
    "\n",
    "    return counties_served3"
   ]
  },
  {
   "cell_type": "code",
   "execution_count": null,
   "id": "0a804c09-266c-4d6d-bde0-b1c61a18b261",
   "metadata": {
    "tags": []
   },
   "outputs": [],
   "source": [
    "counties_served_df = counties_served_by_operator(gdf)"
   ]
  },
  {
   "cell_type": "code",
   "execution_count": null,
   "id": "5958fa47-835d-49c9-88cd-b2315e5bf9eb",
   "metadata": {
    "tags": []
   },
   "outputs": [],
   "source": [
    "counties_served_df.head(2)"
   ]
  },
  {
   "cell_type": "code",
   "execution_count": null,
   "id": "785b7553-206c-4f26-b59e-f8e862d77951",
   "metadata": {
    "tags": []
   },
   "outputs": [],
   "source": [
    "crosswalk_df.sample()"
   ]
  },
  {
   "cell_type": "code",
   "execution_count": null,
   "id": "30aa1cd4-ed36-480d-a562-93e5dac21ef6",
   "metadata": {
    "tags": []
   },
   "outputs": [],
   "source": [
    "crosswalk_df2 = pd.merge(\n",
    "    crosswalk_df,\n",
    "    counties_served_df,\n",
    "    how=\"outer\",\n",
    "    on=[\"portfolio_organization_name\", \"service_date\"],\n",
    "    indicator=True,\n",
    ")"
   ]
  },
  {
   "cell_type": "code",
   "execution_count": null,
   "id": "dcffbecb-2216-4cb1-850e-3850e929fe30",
   "metadata": {
    "tags": []
   },
   "outputs": [],
   "source": [
    "crosswalk_df2._merge.value_counts()"
   ]
  }
 ],
 "metadata": {
  "kernelspec": {
   "display_name": "Python 3 (ipykernel)",
   "language": "python",
   "name": "python3"
  },
  "language_info": {
   "codemirror_mode": {
    "name": "ipython",
    "version": 3
   },
   "file_extension": ".py",
   "mimetype": "text/x-python",
   "name": "python",
   "nbconvert_exporter": "python",
   "pygments_lexer": "ipython3",
   "version": "3.11.10"
  }
 },
 "nbformat": 4,
 "nbformat_minor": 5
}
