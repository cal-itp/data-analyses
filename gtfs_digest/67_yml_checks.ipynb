{
 "cells": [
  {
   "cell_type": "markdown",
   "id": "67fe058c-10c1-4c38-9728-fe64b555c84d",
   "metadata": {},
   "source": [
    "# Create more ymls to troubleshoot issues before running the whole portfolio and realizing something is wrong!\n",
    "* YML #1: Making sure the # of routes for an operator are the same or the most current date vs. the last two.\n",
    "* YML #2: Making sure all of the sections for a particular operator is populated properly. "
   ]
  },
  {
   "cell_type": "code",
   "execution_count": 1,
   "id": "218ec5e1-151b-4a51-b67a-e66648627ef2",
   "metadata": {
    "tags": []
   },
   "outputs": [],
   "source": [
    "import _portfolio_names_dict\n",
    "import _yml_gtfs_digest_orgs\n",
    "import deploy_portfolio_yaml\n",
    "import merge_data\n",
    "import pandas as pd\n",
    "import yaml\n",
    "from segment_speed_utils import gtfs_schedule_wrangling, helpers\n",
    "from segment_speed_utils.project_vars import COMPILED_CACHED_VIEWS, PROJECT_CRS\n",
    "from shared_utils import catalog_utils, portfolio_utils, publish_utils, rt_dates\n",
    "from update_vars import GTFS_DATA_DICT, RT_SCHED_GCS, SCHED_GCS, SEGMENT_GCS"
   ]
  },
  {
   "cell_type": "code",
   "execution_count": 2,
   "id": "f7435b6a-4fc3-43b5-bc5e-0d87585b6c54",
   "metadata": {
    "tags": []
   },
   "outputs": [],
   "source": [
    "pd.options.display.max_columns = 100\n",
    "pd.options.display.float_format = \"{:.2f}\".format\n",
    "pd.set_option(\"display.max_rows\", None)\n",
    "pd.set_option(\"display.max_colwidth\", None)"
   ]
  },
  {
   "cell_type": "code",
   "execution_count": 3,
   "id": "6fecdac6-4c7f-44f9-82e2-b21266e843f0",
   "metadata": {
    "tags": []
   },
   "outputs": [],
   "source": [
    "# Find the last few dates\n",
    "analysis_date_list = rt_dates.y2024_dates + rt_dates.y2023_dates + rt_dates.y2025_dates"
   ]
  },
  {
   "cell_type": "code",
   "execution_count": 4,
   "id": "3ec7e4bc-cb4d-441a-906a-53d0b878fa62",
   "metadata": {
    "tags": []
   },
   "outputs": [],
   "source": [
    "most_recent_3_dates = analysis_date_list[-3:]"
   ]
  },
  {
   "cell_type": "code",
   "execution_count": 5,
   "id": "c53f7ec6-8b77-45ad-82f5-e968a36c387e",
   "metadata": {
    "tags": []
   },
   "outputs": [],
   "source": [
    "df_for_yml = _yml_gtfs_digest_orgs.load_df_for_yml(\n",
    "    _yml_gtfs_digest_orgs.schd_vp_url, _yml_gtfs_digest_orgs.operator_digest_cols\n",
    "    )"
   ]
  },
  {
   "cell_type": "code",
   "execution_count": 6,
   "id": "fcf4cada-4106-4da0-b511-1b52c50b50e0",
   "metadata": {
    "tags": []
   },
   "outputs": [
    {
     "data": {
      "text/html": [
       "<div>\n",
       "<style scoped>\n",
       "    .dataframe tbody tr th:only-of-type {\n",
       "        vertical-align: middle;\n",
       "    }\n",
       "\n",
       "    .dataframe tbody tr th {\n",
       "        vertical-align: top;\n",
       "    }\n",
       "\n",
       "    .dataframe thead th {\n",
       "        text-align: right;\n",
       "    }\n",
       "</style>\n",
       "<table border=\"1\" class=\"dataframe\">\n",
       "  <thead>\n",
       "    <tr style=\"text-align: right;\">\n",
       "      <th></th>\n",
       "      <th>schedule_gtfs_dataset_key</th>\n",
       "      <th>caltrans_district</th>\n",
       "      <th>organization_name</th>\n",
       "      <th>name</th>\n",
       "      <th>sched_rt_category</th>\n",
       "      <th>service_date</th>\n",
       "      <th>portfolio_name</th>\n",
       "    </tr>\n",
       "  </thead>\n",
       "  <tbody>\n",
       "    <tr>\n",
       "      <th>0</th>\n",
       "      <td>a253a8d7acd57657bb98050f37dd6b0f</td>\n",
       "      <td>01 - Eureka</td>\n",
       "      <td>City of Arcata</td>\n",
       "      <td>Humboldt Schedule</td>\n",
       "      <td>schedule_and_vp</td>\n",
       "      <td>2025-03-12</td>\n",
       "      <td>Humboldt Schedule</td>\n",
       "    </tr>\n",
       "    <tr>\n",
       "      <th>1</th>\n",
       "      <td>a253a8d7acd57657bb98050f37dd6b0f</td>\n",
       "      <td>01 - Eureka</td>\n",
       "      <td>City of Eureka</td>\n",
       "      <td>Humboldt Schedule</td>\n",
       "      <td>schedule_and_vp</td>\n",
       "      <td>2025-03-12</td>\n",
       "      <td>Humboldt Schedule</td>\n",
       "    </tr>\n",
       "    <tr>\n",
       "      <th>2</th>\n",
       "      <td>1c698dddc3779d140521d3f1366a8df6</td>\n",
       "      <td>01 - Eureka</td>\n",
       "      <td>Curry Public Transit</td>\n",
       "      <td>Curry Public Transit Schedule</td>\n",
       "      <td>schedule_only</td>\n",
       "      <td>2025-03-12</td>\n",
       "      <td>Curry Public Transit</td>\n",
       "    </tr>\n",
       "  </tbody>\n",
       "</table>\n",
       "</div>"
      ],
      "text/plain": [
       "          schedule_gtfs_dataset_key caltrans_district     organization_name  \\\n",
       "0  a253a8d7acd57657bb98050f37dd6b0f       01 - Eureka        City of Arcata   \n",
       "1  a253a8d7acd57657bb98050f37dd6b0f       01 - Eureka        City of Eureka   \n",
       "2  1c698dddc3779d140521d3f1366a8df6       01 - Eureka  Curry Public Transit   \n",
       "\n",
       "                            name sched_rt_category service_date  \\\n",
       "0              Humboldt Schedule   schedule_and_vp   2025-03-12   \n",
       "1              Humboldt Schedule   schedule_and_vp   2025-03-12   \n",
       "2  Curry Public Transit Schedule     schedule_only   2025-03-12   \n",
       "\n",
       "         portfolio_name  \n",
       "0     Humboldt Schedule  \n",
       "1     Humboldt Schedule  \n",
       "2  Curry Public Transit  "
      ]
     },
     "execution_count": 6,
     "metadata": {},
     "output_type": "execute_result"
    }
   ],
   "source": [
    "df_for_yml.head(3)"
   ]
  },
  {
   "cell_type": "code",
   "execution_count": 8,
   "id": "b9341e5e-38ac-4e65-8ad2-57fb6a78079b",
   "metadata": {
    "tags": []
   },
   "outputs": [],
   "source": [
    "df = schd_vp_df.loc[schd_vp_df.service_date.isin(most_recent_3_dates)]"
   ]
  },
  {
   "cell_type": "code",
   "execution_count": 10,
   "id": "4b4dee61-acac-4607-9009-6c471928c0f2",
   "metadata": {
    "tags": []
   },
   "outputs": [],
   "source": [
    " # Merge to keep only with the organizations that are displayed in the portfolio.\n",
    "ops_kept = deploy_portfolio_yaml.generate_operator_grain_yaml()"
   ]
  },
  {
   "cell_type": "code",
   "execution_count": 11,
   "id": "92771fa3-2f62-404d-b418-d8dea6b48493",
   "metadata": {
    "tags": []
   },
   "outputs": [
    {
     "data": {
      "text/html": [
       "<div>\n",
       "<style scoped>\n",
       "    .dataframe tbody tr th:only-of-type {\n",
       "        vertical-align: middle;\n",
       "    }\n",
       "\n",
       "    .dataframe tbody tr th {\n",
       "        vertical-align: top;\n",
       "    }\n",
       "\n",
       "    .dataframe thead th {\n",
       "        text-align: right;\n",
       "    }\n",
       "</style>\n",
       "<table border=\"1\" class=\"dataframe\">\n",
       "  <thead>\n",
       "    <tr style=\"text-align: right;\">\n",
       "      <th></th>\n",
       "      <th>caltrans_district</th>\n",
       "      <th>portfolio_name</th>\n",
       "      <th>organization_name</th>\n",
       "    </tr>\n",
       "  </thead>\n",
       "  <tbody>\n",
       "    <tr>\n",
       "      <th>29</th>\n",
       "      <td>01 - Eureka</td>\n",
       "      <td>Curry Public Transit</td>\n",
       "      <td>Curry Public Transit</td>\n",
       "    </tr>\n",
       "    <tr>\n",
       "      <th>158</th>\n",
       "      <td>01 - Eureka</td>\n",
       "      <td>Humboldt Schedule</td>\n",
       "      <td>City of Arcata</td>\n",
       "    </tr>\n",
       "  </tbody>\n",
       "</table>\n",
       "</div>"
      ],
      "text/plain": [
       "    caltrans_district        portfolio_name     organization_name\n",
       "29        01 - Eureka  Curry Public Transit  Curry Public Transit\n",
       "158       01 - Eureka     Humboldt Schedule        City of Arcata"
      ]
     },
     "execution_count": 11,
     "metadata": {},
     "output_type": "execute_result"
    }
   ],
   "source": [
    "ops_kept.head(2)"
   ]
  },
  {
   "cell_type": "code",
   "execution_count": 12,
   "id": "bf0fad62-b86d-4b98-9f59-58f2377eab7e",
   "metadata": {
    "tags": []
   },
   "outputs": [],
   "source": [
    "m1 = pd.merge(df, ops_kept, on=[\"organization_name\"])"
   ]
  },
  {
   "cell_type": "code",
   "execution_count": 16,
   "id": "106eb282-ab10-4649-8a37-f7cf2ca03f80",
   "metadata": {
    "tags": []
   },
   "outputs": [
    {
     "name": "stdout",
     "output_type": "stream",
     "text": [
      "Saved to yml\n"
     ]
    }
   ],
   "source": [
    "gtfs_status_df = _yml_gtfs_digest_orgs.generate_org_gtfs_status_yml(_yml_gtfs_digest_orgs.load_df_for_yml(_yml_gtfs_digest_orgs.schd_vp_url, _yml_gtfs_digest_orgs.operator_digest_cols))"
   ]
  },
  {
   "cell_type": "code",
   "execution_count": 17,
   "id": "15b45756-6f6c-4d48-ab54-8f8e05bc5cc0",
   "metadata": {
    "tags": []
   },
   "outputs": [
    {
     "data": {
      "text/plain": [
       "(235, 2)"
      ]
     },
     "execution_count": 17,
     "metadata": {},
     "output_type": "execute_result"
    }
   ],
   "source": [
    "gtfs_status_df.shape"
   ]
  },
  {
   "cell_type": "code",
   "execution_count": 18,
   "id": "1910ffc4-1a1b-409e-8f25-b5724ee16f6a",
   "metadata": {
    "tags": []
   },
   "outputs": [],
   "source": [
    "schedule_and_vp_only_df = gtfs_status_df.loc[\n",
    "gtfs_status_df.sched_rt_category == \"schedule_and_vp\"]\n",
    "m2 = pd.merge(m1, schedule_and_vp_only_df, on=[\"organization_name\"])"
   ]
  },
  {
   "cell_type": "code",
   "execution_count": 19,
   "id": "0e0ba697-58dc-4737-acb9-1199cf14c420",
   "metadata": {
    "tags": []
   },
   "outputs": [],
   "source": [
    "agg1 = (\n",
    "    m2.groupby([\"service_date\", \"portfolio_name\"])\n",
    "    .agg({\"route_id\": \"nunique\"})\n",
    "    .reset_index()\n",
    "    .sort_values(by=[\"service_date\", \"portfolio_name\"])\n",
    "    )"
   ]
  },
  {
   "cell_type": "code",
   "execution_count": 20,
   "id": "a29a0851-1ea0-4750-ae90-df41820bca8c",
   "metadata": {
    "tags": []
   },
   "outputs": [],
   "source": [
    "pivot1 = agg1.pivot(\n",
    "    index=\"portfolio_name\", columns=\"service_date\", values=[\"route_id\"]).reset_index()"
   ]
  },
  {
   "cell_type": "code",
   "execution_count": 21,
   "id": "f610063e-f0c2-4675-97db-3128196d0f66",
   "metadata": {
    "tags": []
   },
   "outputs": [],
   "source": [
    "  # Neaten\n",
    "pivot1.columns = [\n",
    "    \"portfolio_name\",\n",
    "    \"2_months_ago\",\n",
    "    \"1_months_ago\",\n",
    "    \"current_month\",\n",
    "]\n",
    "pivot1 = pivot1.fillna(0)"
   ]
  },
  {
   "cell_type": "code",
   "execution_count": 22,
   "id": "244646e5-4c51-4111-a1d0-c50f2495c8d7",
   "metadata": {
    "tags": []
   },
   "outputs": [],
   "source": [
    "pivot1[\"same_n_of_routes_over_last_3_months\"] = (\n",
    "    pivot1[[\"2_months_ago\", \"1_months_ago\", \"current_month\"]].nunique(axis=1).eq(1)\n",
    "    )"
   ]
  },
  {
   "cell_type": "code",
   "execution_count": 23,
   "id": "7c88bcaf-adb1-465c-8008-73a0dc4da815",
   "metadata": {
    "tags": []
   },
   "outputs": [],
   "source": [
    "melt1 = pd.melt(\n",
    "    pivot1,\n",
    "    id_vars=[\n",
    "        \"portfolio_name\",\n",
    "        \"same_n_of_routes_over_last_3_months\",\n",
    "    ],\n",
    "    value_vars=[\"2_months_ago\", \"1_months_ago\", \"current_month\"],\n",
    "    )"
   ]
  },
  {
   "cell_type": "code",
   "execution_count": 24,
   "id": "fe084991-6597-4d72-bee3-75c65220a63d",
   "metadata": {
    "tags": []
   },
   "outputs": [],
   "source": [
    "# New column that combines everything\n",
    "melt1[\"combined\"] = melt1.variable + \": \" + melt1.value.astype(str) + ' routes'\n",
    "    \n",
    "# Neaten again\n",
    "melt1.same_n_of_routes_over_last_3_months = (\n",
    "melt1.same_n_of_routes_over_last_3_months.astype(str))"
   ]
  },
  {
   "cell_type": "markdown",
   "id": "b84b534c-ff81-4403-82a1-4ae33141df2e",
   "metadata": {},
   "source": [
    "## YML 1 "
   ]
  },
  {
   "cell_type": "code",
   "execution_count": 7,
   "id": "08cf5e22-8c77-4eb6-9f4e-74c1885f8025",
   "metadata": {
    "tags": []
   },
   "outputs": [],
   "source": [
    "schd_vp_df = pd.read_parquet(_yml_gtfs_digest_orgs.schd_vp_url)"
   ]
  },
  {
   "cell_type": "code",
   "execution_count": 26,
   "id": "949ad9ff-abcb-468e-96ca-94fc5b476f24",
   "metadata": {
    "tags": []
   },
   "outputs": [
    {
     "name": "stdout",
     "output_type": "stream",
     "text": [
      "Saved to yml\n"
     ]
    }
   ],
   "source": [
    "gtfs_status_df = _yml_gtfs_digest_orgs.generate_org_gtfs_status_yml(_yml_gtfs_digest_orgs.load_df_for_yml(_yml_gtfs_digest_orgs.schd_vp_url, _yml_gtfs_digest_orgs.operator_digest_cols))"
   ]
  },
  {
   "cell_type": "code",
   "execution_count": 27,
   "id": "fc40df22-6109-4c7c-8234-ff571697820e",
   "metadata": {
    "tags": []
   },
   "outputs": [
    {
     "data": {
      "text/plain": [
       "(235, 2)"
      ]
     },
     "execution_count": 27,
     "metadata": {},
     "output_type": "execute_result"
    }
   ],
   "source": [
    "gtfs_status_df.shape"
   ]
  },
  {
   "cell_type": "code",
   "execution_count": 36,
   "id": "85a318bb-53f4-4d7b-8343-f9deb803988b",
   "metadata": {
    "tags": []
   },
   "outputs": [],
   "source": [
    "def generate_nunique_routes_yml(gtfs_status_df:pd.DataFrame):\n",
    "    \"\"\"\n",
    "    Generate the yml that shows the number of \n",
    "    unique routes for the last 3 months.\n",
    "    \"\"\"\n",
    "    # Read in dataframe\n",
    "    schd_vp_df = pd.read_parquet(_yml_gtfs_digest_orgs.schd_vp_url)\n",
    "    \n",
    "    # Filter out for the most recent 3 dates\n",
    "    df = schd_vp_df.loc[schd_vp_df.service_date.isin(most_recent_3_dates)]\n",
    "    \n",
    "    # Merge to keep only with the organizations that are displayed in the portfolio.\n",
    "    ops_kept = deploy_portfolio_yaml.generate_operator_grain_yaml()\n",
    "    \n",
    "    m1 = pd.merge(df, ops_kept, on=[\"organization_name\"])\n",
    "    \n",
    "    # Merge to keep only organizations with schedule and RT data\n",
    "    schedule_and_vp_only_df = gtfs_status_df.loc[\n",
    "    gtfs_status_df.sched_rt_category == \"schedule_and_vp\"]\n",
    "    m2 = pd.merge(m1, schedule_and_vp_only_df, on=[\"organization_name\"])\n",
    "    \n",
    "    # Aggregate to count number of unique routes per service date\n",
    "    agg1 = (\n",
    "    m2.groupby([\"service_date\", \"portfolio_name\"])\n",
    "    .agg({\"route_id\": \"nunique\"})\n",
    "    .reset_index()\n",
    "    .sort_values(by=[\"service_date\", \"portfolio_name\"])\n",
    "    )\n",
    "    \n",
    "    # Turn this dataframe from wide to long\n",
    "    pivot1 = agg1.pivot(\n",
    "    index=\"portfolio_name\", columns=\"service_date\", values=[\"route_id\"]).reset_index()\n",
    "    \n",
    "    # Neaten\n",
    "    pivot1.columns = [\n",
    "    \"portfolio_name\",\n",
    "    \"2_months_ago\",\n",
    "    \"1_months_ago\",\n",
    "    \"current_month\",\n",
    "]\n",
    "    pivot1 = pivot1.fillna(0)\n",
    "    \n",
    "    # Tag True if the number of unique routes are the same \n",
    "    # across the 3 months. Tag false if not. \n",
    "    pivot1[\"same_n_of_routes_over_last_3_months\"] = (\n",
    "    pivot1[[\"2_months_ago\", \"1_months_ago\", \"current_month\"]].nunique(axis=1).eq(1)\n",
    "    )\n",
    "    \n",
    "    # Pivot again to turn this into a YML\n",
    "    melt1 = pd.melt(\n",
    "    pivot1,\n",
    "    id_vars=[\n",
    "        \"portfolio_name\",\n",
    "        \"same_n_of_routes_over_last_3_months\",\n",
    "    ],\n",
    "    value_vars=[\"2_months_ago\", \"1_months_ago\", \"current_month\"],\n",
    "    )\n",
    "    \n",
    "    # New column that combines everything\n",
    "    melt1[\"combined\"] = melt1.variable + \": \" + melt1.value.astype(str) + ' routes'\n",
    "    \n",
    "    # Neaten again\n",
    "    melt1.same_n_of_routes_over_last_3_months = (\n",
    "    melt1.same_n_of_routes_over_last_3_months.astype(str))\n",
    "    \n",
    "    # Save out to the YML\n",
    "    title = \"Tagging if the number of unique routes have remained in the same over the last 3 months\"\n",
    "    result = {}\n",
    "    for category, category_df in nunique_routes.groupby(\"same_n_of_routes_over_last_3_months\"):\n",
    "        category_result = {}\n",
    "        for organization, organization_df in category_df.groupby(\"portfolio_name\"):\n",
    "            category_result[organization] = organization_df[\"combined\"].tolist()\n",
    "        result[category] = category_result\n",
    "        \n",
    "    # Save to YAML file\n",
    "    with open(\"../_shared_utils/shared_utils/gtfs_digest_nunique_routes.yml\", \"w\") as f:\n",
    "        f.write(f\"# {title}\\n\\n\")\n",
    "        yaml.dump(result, f, default_flow_style=False)\n",
    "    \n",
    "    return melt1"
   ]
  },
  {
   "cell_type": "code",
   "execution_count": 37,
   "id": "ecff9ac5-fa12-48e1-950e-39f10ccb6270",
   "metadata": {
    "tags": []
   },
   "outputs": [],
   "source": [
    "nunique_routes = generate_nunique_routes_yml(gtfs_status_df)"
   ]
  },
  {
   "cell_type": "markdown",
   "id": "453b33f2-f900-4e30-a76f-141664f10a07",
   "metadata": {},
   "source": [
    "## YML #2: Making sure all of the sections for a particular operator is populated properly.\n",
    "* NTD Data/Route Type/Service Area from `operator_profiles`\n",
    "* Map of Routes\n",
    "* Scheduled service for all routes\n",
    "* Monthly_sched_vp_df, qtr_sched_vp_df: if the operator has realtime and schedule data.\n",
    "* Use only the last 3 months of 2024.\n",
    "<img src= \"./gtfs_vision.png\">"
   ]
  },
  {
   "cell_type": "code",
   "execution_count": 38,
   "id": "44a98dd0-acf1-4384-a949-0882424c7ba6",
   "metadata": {
    "tags": []
   },
   "outputs": [],
   "source": [
    "import geopandas as gpd"
   ]
  },
  {
   "cell_type": "code",
   "execution_count": 43,
   "id": "7d13721a-b6d7-4439-bac3-01f7b8a83661",
   "metadata": {
    "tags": []
   },
   "outputs": [],
   "source": [
    "date_subset = rt_dates.y2024_dates[-4:]"
   ]
  },
  {
   "cell_type": "markdown",
   "id": "4fb71635-73cc-45fc-b597-9fe488c54bfa",
   "metadata": {},
   "source": [
    "### Map of Routes\n",
    "* Check that we have the most current date's info"
   ]
  },
  {
   "cell_type": "code",
   "execution_count": null,
   "id": "8a7b243c-427c-43aa-a899-dcdf8a457087",
   "metadata": {
    "tags": []
   },
   "outputs": [],
   "source": [
    "ops_kept.head(2)"
   ]
  },
  {
   "cell_type": "code",
   "execution_count": null,
   "id": "a93a1969-2fea-44ba-8d4d-a8e3731f3a12",
   "metadata": {
    "tags": []
   },
   "outputs": [],
   "source": [
    "op_routes_url = f\"{GTFS_DATA_DICT.digest_tables.dir}{GTFS_DATA_DICT.digest_tables.operator_routes_map}.parquet\"\n",
    "op_routes_gdf = gpd.read_parquet(op_routes_url)"
   ]
  },
  {
   "cell_type": "code",
   "execution_count": null,
   "id": "56b34b87-34ef-4c38-853d-b62872b57bb8",
   "metadata": {
    "tags": []
   },
   "outputs": [],
   "source": [
    "op_routes_gdf = op_routes_gdf.sort_values(by=[\"service_date\"], ascending=False)"
   ]
  },
  {
   "cell_type": "code",
   "execution_count": null,
   "id": "284887fb-3c86-42ae-b9e4-baf39fd2f31b",
   "metadata": {
    "tags": []
   },
   "outputs": [],
   "source": [
    "op_routes_gdf = op_routes_gdf.drop(columns=[\"geometry\"])"
   ]
  },
  {
   "cell_type": "code",
   "execution_count": null,
   "id": "101726e5-118e-414b-ab25-66868b471018",
   "metadata": {
    "tags": []
   },
   "outputs": [],
   "source": [
    "op_routes_gdf.head(1)"
   ]
  },
  {
   "cell_type": "code",
   "execution_count": null,
   "id": "e0341270-812c-4f9d-ac85-f83a6b1751de",
   "metadata": {
    "tags": []
   },
   "outputs": [],
   "source": [
    "op_routes_gdf2 = pd.merge(op_routes_gdf, ops_kept)"
   ]
  },
  {
   "cell_type": "code",
   "execution_count": null,
   "id": "a911b149-cace-488f-98ca-fc1030b14ffd",
   "metadata": {
    "tags": []
   },
   "outputs": [],
   "source": [
    "op_routes_gdf3 = op_routes_gdf2[\n",
    "    [\"service_date\", \"portfolio_name\", \"organization_name\"]\n",
    "].drop_duplicates(subset=[\"portfolio_name\", \"organization_name\"])"
   ]
  },
  {
   "cell_type": "code",
   "execution_count": null,
   "id": "962c4924-2d0e-4692-a3af-f7a93a4ccdc9",
   "metadata": {
    "scrolled": true,
    "tags": []
   },
   "outputs": [],
   "source": [
    "op_routes_gdf3"
   ]
  },
  {
   "cell_type": "markdown",
   "id": "a3817f97-118e-463c-b513-504aa328105b",
   "metadata": {},
   "source": [
    "### `operator_profiles`\n",
    "* Check that we have the most current date's info."
   ]
  },
  {
   "cell_type": "code",
   "execution_count": null,
   "id": "e444e69d-7816-4af8-b295-24f3aab98e46",
   "metadata": {
    "tags": []
   },
   "outputs": [],
   "source": [
    "op_profiles_url = f\"{GTFS_DATA_DICT.digest_tables.dir}{GTFS_DATA_DICT.digest_tables.operator_profiles}.parquet\"\n",
    "op_profiles_df = pd.read_parquet(op_profiles_url)"
   ]
  },
  {
   "cell_type": "code",
   "execution_count": null,
   "id": "c390a36e-90fc-4f50-8b46-58566bcaa0bb",
   "metadata": {
    "tags": []
   },
   "outputs": [],
   "source": [
    "op_profiles_df.organization_name = op_profiles_df.organization_name.fillna(\"None\")"
   ]
  },
  {
   "cell_type": "code",
   "execution_count": null,
   "id": "629e3c9b-214e-4001-ad2e-ecfa372c59e2",
   "metadata": {
    "tags": []
   },
   "outputs": [],
   "source": [
    "ops_kept.loc[ops_kept.portfolio_name.str.contains(\"City and County of San Francisco\")]"
   ]
  },
  {
   "cell_type": "code",
   "execution_count": null,
   "id": "98411de9-b4b2-4fd5-bd1a-9107348eba73",
   "metadata": {
    "tags": []
   },
   "outputs": [],
   "source": [
    "op_profiles_df.loc[\n",
    "    op_profiles_df.organization_name.str.contains(\"City and County of San Francisco\")\n",
    "].head(1)"
   ]
  },
  {
   "cell_type": "code",
   "execution_count": null,
   "id": "ce27da37-e1eb-4e1d-b16a-5733cdb2d139",
   "metadata": {
    "tags": []
   },
   "outputs": [],
   "source": [
    "op_profiles_df2 = pd.merge(op_profiles_df, ops_kept, on=\"organization_name\")"
   ]
  },
  {
   "cell_type": "code",
   "execution_count": null,
   "id": "39302069-9b3c-4388-ae86-95b9d58122f3",
   "metadata": {
    "tags": []
   },
   "outputs": [],
   "source": [
    "op_profiles_df2.loc[\n",
    "    op_profiles_df2.portfolio_name.str.contains(\"City and County of San Francisco\")\n",
    "].sample()"
   ]
  },
  {
   "cell_type": "code",
   "execution_count": null,
   "id": "72528887-744f-4eb7-a50a-4892003322d9",
   "metadata": {
    "tags": []
   },
   "outputs": [],
   "source": [
    "op_profiles_df3 = op_profiles_df2.sort_values(\n",
    "    by=[\"portfolio_name\", \"service_date\"], ascending=[True, False]\n",
    ")"
   ]
  },
  {
   "cell_type": "code",
   "execution_count": null,
   "id": "f1da35a3-0f30-4b09-b8f6-0475324baf07",
   "metadata": {
    "tags": []
   },
   "outputs": [],
   "source": [
    "op_profiles_df3.loc[\n",
    "    op_profiles_df3.portfolio_name.str.contains(\"City and County of San Francisco\")\n",
    "].sample()"
   ]
  },
  {
   "cell_type": "code",
   "execution_count": null,
   "id": "609fa05b-57ce-4422-82a4-f767cbce92a2",
   "metadata": {
    "tags": []
   },
   "outputs": [],
   "source": [
    "op_profiles_df4 = op_profiles_df3.drop_duplicates(subset=[\"portfolio_name\"])"
   ]
  },
  {
   "cell_type": "code",
   "execution_count": null,
   "id": "4a6e81d2-f50a-47e8-99e9-306f03de12c1",
   "metadata": {
    "tags": []
   },
   "outputs": [],
   "source": [
    "op_profiles_df4 = op_profiles_df4[\n",
    "    [\"portfolio_name\", \"organization_name\", \"service_date\"]\n",
    "]"
   ]
  },
  {
   "cell_type": "code",
   "execution_count": null,
   "id": "fe55bfea-e30b-4df0-86f1-9a55aa778526",
   "metadata": {
    "tags": []
   },
   "outputs": [],
   "source": [
    "op_profiles_df4.loc[\n",
    "    op_profiles_df4.portfolio_name.str.contains(\"City and County of San Francisco\")\n",
    "].sample()"
   ]
  },
  {
   "cell_type": "code",
   "execution_count": null,
   "id": "34572501-3877-4a90-bb26-6f8a481b8fa2",
   "metadata": {
    "scrolled": true,
    "tags": []
   },
   "outputs": [],
   "source": [
    "op_profiles_df4"
   ]
  },
  {
   "cell_type": "markdown",
   "id": "0e9a032b-f68b-4f19-9310-f63a143f59f0",
   "metadata": {},
   "source": [
    "### Scheduled service for all routes"
   ]
  },
  {
   "cell_type": "code",
   "execution_count": null,
   "id": "9d81c533-b59a-473b-b126-fc5645febbc6",
   "metadata": {
    "tags": []
   },
   "outputs": [],
   "source": [
    "scheduled_service_hours_url = f\"{GTFS_DATA_DICT.digest_tables.dir}{GTFS_DATA_DICT.digest_tables.scheduled_service_hours}.parquet\""
   ]
  },
  {
   "cell_type": "code",
   "execution_count": null,
   "id": "59cb3da8-1d3e-4f8a-bbbc-5561523a8b2e",
   "metadata": {
    "tags": []
   },
   "outputs": [],
   "source": [
    "scheduled_service_hours_df = pd.read_parquet(scheduled_service_hours_url)"
   ]
  },
  {
   "cell_type": "code",
   "execution_count": null,
   "id": "555ac76e-04e3-4f5b-aa9b-93775bb125a2",
   "metadata": {
    "tags": []
   },
   "outputs": [],
   "source": [
    "scheduled_service_hours_df.head(1)"
   ]
  },
  {
   "cell_type": "code",
   "execution_count": null,
   "id": "17cb9708-e82c-46e1-bb3d-2ca5ed5336be",
   "metadata": {
    "tags": []
   },
   "outputs": [],
   "source": [
    "scheduled_service_hours_df2 = scheduled_service_hours_df.sort_values(\n",
    "    by=[\"name\", \"month_year\"], ascending=[True, False]\n",
    ").drop_duplicates(subset=[\"name\"])"
   ]
  },
  {
   "cell_type": "code",
   "execution_count": null,
   "id": "d06cab97-9543-465e-948a-6814cde71ed6",
   "metadata": {
    "tags": []
   },
   "outputs": [],
   "source": [
    "name_org_name_crosswalk = schd_vp_df3[[\"name\", \"organization_name\"]].drop_duplicates()"
   ]
  },
  {
   "cell_type": "code",
   "execution_count": null,
   "id": "6b6a5717-f208-486b-9f34-e0209e07cfd8",
   "metadata": {
    "tags": []
   },
   "outputs": [],
   "source": [
    "scheduled_service_hours_df3 = pd.merge(\n",
    "    scheduled_service_hours_df2, name_org_name_crosswalk, on=\"name\"\n",
    ")"
   ]
  },
  {
   "cell_type": "code",
   "execution_count": null,
   "id": "78bdeced-c2f3-4d79-80c2-3cd2b13a3e3c",
   "metadata": {
    "tags": []
   },
   "outputs": [],
   "source": [
    "ops_kept.head(2)"
   ]
  },
  {
   "cell_type": "code",
   "execution_count": null,
   "id": "6aee1122-5bac-45b0-bcd0-369ab1ab4b9c",
   "metadata": {
    "tags": []
   },
   "outputs": [],
   "source": [
    "# ops_kept\n",
    "scheduled_service_hours_df4 = pd.merge(\n",
    "    scheduled_service_hours_df3, ops_kept, on=[\"organization_name\"]\n",
    ")"
   ]
  },
  {
   "cell_type": "code",
   "execution_count": null,
   "id": "2668b884-be42-4fd0-9169-335e1ef29c79",
   "metadata": {
    "tags": []
   },
   "outputs": [],
   "source": [
    "scheduled_service_hours_df5 = scheduled_service_hours_df4.drop_duplicates(\n",
    "    subset=[\"portfolio_name\"]\n",
    ")"
   ]
  },
  {
   "cell_type": "code",
   "execution_count": null,
   "id": "ed1697c5-5c16-4ad4-a002-de8c9da15b3b",
   "metadata": {
    "tags": []
   },
   "outputs": [],
   "source": [
    "len(scheduled_service_hours_df5), scheduled_service_hours_df5.portfolio_name.nunique()"
   ]
  },
  {
   "cell_type": "code",
   "execution_count": null,
   "id": "951340ab-a6b4-4bff-9d64-8235655b9601",
   "metadata": {
    "tags": []
   },
   "outputs": [],
   "source": [
    "scheduled_service_hours_df5.head(2)"
   ]
  },
  {
   "cell_type": "code",
   "execution_count": null,
   "id": "27ab7011-654c-4cce-8b48-6c63b4d5db8f",
   "metadata": {
    "tags": []
   },
   "outputs": [],
   "source": [
    "scheduled_service_hours_df5 = scheduled_service_hours_df5[\n",
    "    [\"portfolio_name\", \"organization_name\", \"month_year\"]\n",
    "]"
   ]
  },
  {
   "cell_type": "markdown",
   "id": "e4347ee4-ce1e-4949-ba6f-b085fa5a6dd4",
   "metadata": {},
   "source": [
    "### Add the datasets from `merge_data.py`"
   ]
  },
  {
   "cell_type": "code",
   "execution_count": null,
   "id": "2d56e7a9-d16b-40f2-9765-24b83b99f7df",
   "metadata": {
    "tags": []
   },
   "outputs": [],
   "source": [
    "df_crosswalk = merge_data.concatenate_crosswalk_organization(analysis_date_list)"
   ]
  },
  {
   "cell_type": "code",
   "execution_count": null,
   "id": "f694f539-cff1-4c36-9914-39d3c33f098d",
   "metadata": {
    "tags": []
   },
   "outputs": [],
   "source": [
    "def datasets_merge_data(df: pd.DataFrame, analysis_date_list: list) -> pd.DataFrame:\n",
    "    df_crosswalk = merge_data.concatenate_crosswalk_organization(analysis_date_list)[\n",
    "        [\"schedule_gtfs_dataset_key\", \"service_date\", \"organization_name\"]\n",
    "    ]\n",
    "\n",
    "    m1 = pd.merge(df, df_crosswalk)\n",
    "\n",
    "    m1 = m1.sort_values(by=[\"service_date\"], ascending=False).drop_duplicates(\n",
    "        subset=[\"organization_name\"]\n",
    "    )\n",
    "    return m1"
   ]
  },
  {
   "cell_type": "code",
   "execution_count": null,
   "id": "64f690ec-30b3-4c1b-990d-1f0296eadb72",
   "metadata": {
    "tags": []
   },
   "outputs": [],
   "source": [
    "df_sched = merge_data.concatenate_schedule_by_route_direction(analysis_date_list)[\n",
    "    [\"service_date\", \"schedule_gtfs_dataset_key\"]\n",
    "]"
   ]
  },
  {
   "cell_type": "code",
   "execution_count": null,
   "id": "e1d43c24-d4e8-4ae4-9a9f-9287fe1ab091",
   "metadata": {
    "tags": []
   },
   "outputs": [],
   "source": [
    "df_sched2 = datasets_merge_data(df_sched, analysis_date_list)"
   ]
  },
  {
   "cell_type": "code",
   "execution_count": null,
   "id": "1af47634-f2c0-491e-89a5-945ce284f957",
   "metadata": {
    "scrolled": true,
    "tags": []
   },
   "outputs": [],
   "source": [
    "df_sched2.loc[df_sched2.organization_name == \"Alameda-Contra Costa Transit District\"]"
   ]
  },
  {
   "cell_type": "code",
   "execution_count": null,
   "id": "b66c272f-b958-425e-89e4-20503d371441",
   "metadata": {
    "tags": []
   },
   "outputs": [],
   "source": [
    "df_avg_speeds = merge_data.concatenate_speeds_by_route_direction(analysis_date_list)[\n",
    "    [\"service_date\", \"schedule_gtfs_dataset_key\"]\n",
    "]"
   ]
  },
  {
   "cell_type": "code",
   "execution_count": null,
   "id": "829f8c5a-1342-4288-a8b2-263e583ccea7",
   "metadata": {
    "tags": []
   },
   "outputs": [],
   "source": [
    "df_avg_speeds2 = datasets_merge_data(df_avg_speeds, analysis_date_list)"
   ]
  },
  {
   "cell_type": "code",
   "execution_count": null,
   "id": "d05fd543-a7e1-44e3-9a65-6d477581d16e",
   "metadata": {
    "tags": []
   },
   "outputs": [],
   "source": [
    "df_rt_sched = merge_data.concatenate_rt_vs_schedule_by_route_direction(\n",
    "    analysis_date_list\n",
    ")[[\"service_date\", \"schedule_gtfs_dataset_key\"]]"
   ]
  },
  {
   "cell_type": "code",
   "execution_count": null,
   "id": "2e666442-19b3-41d7-b04d-2623bd7272cc",
   "metadata": {
    "tags": []
   },
   "outputs": [],
   "source": [
    "df_rt_sched2 = datasets_merge_data(df_rt_sched, analysis_date_list)"
   ]
  },
  {
   "cell_type": "markdown",
   "id": "4b836b2c-94fc-47b3-a0bc-6c097e88d693",
   "metadata": {},
   "source": [
    "### Monthly_sched_vp_df, qtr_sched_vp_df"
   ]
  },
  {
   "cell_type": "code",
   "execution_count": null,
   "id": "975c7c61-5b5b-4eab-aacc-8902accfc413",
   "metadata": {
    "tags": []
   },
   "outputs": [],
   "source": [
    "# Groupby for # of routes\n",
    "schd_vp_df3 = (\n",
    "    schd_vp_df2.groupby([\"service_date\", \"portfolio_name\", \"organization_name\"])\n",
    "    .agg({\"recent_combined_name\": \"nunique\"})\n",
    "    .reset_index()\n",
    ")"
   ]
  },
  {
   "cell_type": "code",
   "execution_count": null,
   "id": "aa568ba8-0e67-4028-a782-186e41f7b62a",
   "metadata": {
    "tags": []
   },
   "outputs": [],
   "source": [
    "schd_vp_df3 = schd_vp_df3.rename(columns={\"recent_combined_name\": \"nunique_routes\"})"
   ]
  },
  {
   "cell_type": "code",
   "execution_count": null,
   "id": "253edba2-f542-49ba-9759-aba434dc4440",
   "metadata": {
    "tags": []
   },
   "outputs": [],
   "source": [
    "gtfs_status_df.head(2)"
   ]
  },
  {
   "cell_type": "code",
   "execution_count": null,
   "id": "dd978a7a-57af-4270-b5b2-90d64cac3456",
   "metadata": {
    "tags": []
   },
   "outputs": [],
   "source": [
    "gtfs_status_df.sched_rt_category.value_counts()"
   ]
  },
  {
   "cell_type": "code",
   "execution_count": null,
   "id": "208f0905-96c0-4b00-98e9-6bbc78ab439b",
   "metadata": {
    "tags": []
   },
   "outputs": [],
   "source": [
    "schd_vp_checks = pd.merge(gtfs_status_df, schd_vp_df3, on=[\"organization_name\"])"
   ]
  },
  {
   "cell_type": "code",
   "execution_count": null,
   "id": "2cab6a5e-687b-4921-831f-124e5d0da4cf",
   "metadata": {
    "tags": []
   },
   "outputs": [],
   "source": [
    "schd_vp_checks = schd_vp_checks.sort_values(\n",
    "    by=[\"portfolio_name\", \"service_date\"], ascending=[True, False]\n",
    ")"
   ]
  },
  {
   "cell_type": "code",
   "execution_count": null,
   "id": "ce58af3e-0df9-4ef9-a125-b38b63d05861",
   "metadata": {
    "tags": []
   },
   "outputs": [],
   "source": [
    "schd_vp_checks = schd_vp_checks.drop_duplicates(subset=[\"portfolio_name\"])"
   ]
  },
  {
   "cell_type": "code",
   "execution_count": null,
   "id": "0dbed833-c6d2-4ded-8b69-f2d6fcb2e6aa",
   "metadata": {
    "tags": []
   },
   "outputs": [],
   "source": [
    "schd_vp_checks = schd_vp_checks[\n",
    "    [\"portfolio_name\", \"sched_rt_category\", \"nunique_routes\", \"service_date\"]\n",
    "]"
   ]
  },
  {
   "cell_type": "markdown",
   "id": "c744a838-7186-48f0-a2fd-90ba12b9e5c1",
   "metadata": {},
   "source": [
    "### Merge them"
   ]
  },
  {
   "cell_type": "code",
   "execution_count": null,
   "id": "f00372bb-a598-43ea-9715-53b1e613bb0a",
   "metadata": {
    "tags": []
   },
   "outputs": [],
   "source": [
    "op_routes_gdf3 = op_routes_gdf3.rename(\n",
    "    columns={\"service_date\": \"route_maps_service_date\"}\n",
    ")"
   ]
  },
  {
   "cell_type": "code",
   "execution_count": null,
   "id": "fc1bee5a-cd7b-42b8-aff8-6aac73d9422a",
   "metadata": {
    "tags": []
   },
   "outputs": [],
   "source": [
    "op_profiles_df4 = op_profiles_df4.rename(\n",
    "    columns={\"service_date\": \"operator_profile_service_date\"}\n",
    ")"
   ]
  },
  {
   "cell_type": "code",
   "execution_count": null,
   "id": "2a686b77-f4b8-4897-ad27-b3f67d0ff96a",
   "metadata": {
    "tags": []
   },
   "outputs": [],
   "source": [
    "scheduled_service_hours_df5 = scheduled_service_hours_df5.rename(\n",
    "    columns={\"month_year\": \"scheduled_service_month_year\"}\n",
    ")"
   ]
  },
  {
   "cell_type": "code",
   "execution_count": null,
   "id": "1f589f41-33f6-4a07-a8ba-8629fce38837",
   "metadata": {
    "tags": []
   },
   "outputs": [],
   "source": [
    "schd_vp_checks = schd_vp_checks.rename(columns={\"service_date\": \"schd_vp_service_date\"})"
   ]
  },
  {
   "cell_type": "code",
   "execution_count": null,
   "id": "25563428-a294-4623-8ac0-5a6ebd94e9bf",
   "metadata": {
    "tags": []
   },
   "outputs": [],
   "source": [
    "df_sched2.head(2)"
   ]
  },
  {
   "cell_type": "code",
   "execution_count": null,
   "id": "0063dc67-a0d9-4521-88fc-3f1fe449b298",
   "metadata": {
    "tags": []
   },
   "outputs": [],
   "source": [
    "df_sched2 = df_sched2.rename(columns={\"service_date\": \"schd_service_date\"})"
   ]
  },
  {
   "cell_type": "code",
   "execution_count": null,
   "id": "bea4fba8-1dcf-4a6c-a6b1-44a14771ee99",
   "metadata": {
    "tags": []
   },
   "outputs": [],
   "source": [
    "df_avg_speeds2 = df_avg_speeds2.rename(\n",
    "    columns={\"service_date\": \"avg_speeds_service_date\"}\n",
    ")"
   ]
  },
  {
   "cell_type": "code",
   "execution_count": null,
   "id": "e348c462-c5ed-4ce8-88a3-4b825df0e8c7",
   "metadata": {
    "tags": []
   },
   "outputs": [],
   "source": [
    "df_rt_sched2 = df_rt_sched2.rename(columns={\"service_date\": \"rt_vs_sched_service_date\"})"
   ]
  },
  {
   "cell_type": "code",
   "execution_count": null,
   "id": "0342692c-61e3-4f38-b8f9-3a635fa8ae53",
   "metadata": {
    "scrolled": true,
    "tags": []
   },
   "outputs": [],
   "source": [
    "m1 = (\n",
    "    pd.merge(op_routes_gdf3, op_profiles_df4, how=\"outer\")\n",
    "    .merge(scheduled_service_hours_df5, how=\"outer\")\n",
    "    .merge(schd_vp_checks, how=\"outer\")\n",
    "    .merge(df_sched2, how=\"outer\")\n",
    "    .merge(df_avg_speeds2, how=\"outer\")\n",
    "    .merge(df_rt_sched2, how=\"outer\")\n",
    ")"
   ]
  },
  {
   "cell_type": "code",
   "execution_count": null,
   "id": "5aba0291-983f-4a57-946f-d658b77ed67b",
   "metadata": {
    "tags": []
   },
   "outputs": [],
   "source": [
    "m1.columns"
   ]
  },
  {
   "cell_type": "code",
   "execution_count": null,
   "id": "e6cc52bc-509f-4880-94ec-a94859d150ce",
   "metadata": {
    "tags": []
   },
   "outputs": [],
   "source": [
    "m1.sched_rt_category.unique()"
   ]
  },
  {
   "cell_type": "code",
   "execution_count": null,
   "id": "27686233-54b0-4468-9405-68dba35d966d",
   "metadata": {
    "tags": []
   },
   "outputs": [],
   "source": [
    "m1 = m1[\n",
    "    [\n",
    "        \"portfolio_name\",\n",
    "        \"sched_rt_category\",\n",
    "        \"route_maps_service_date\",\n",
    "        \"operator_profile_service_date\",\n",
    "        \"scheduled_service_month_year\",\n",
    "        \"schd_vp_service_date\",\n",
    "        \"avg_speeds_service_date\",\n",
    "        \"rt_vs_sched_service_date\",\n",
    "        \"schd_service_date\",\n",
    "        \"nunique_routes\",\n",
    "    ]\n",
    "].sort_values(by=[\"portfolio_name\"])"
   ]
  },
  {
   "cell_type": "code",
   "execution_count": null,
   "id": "326f591b-51ba-42c3-a03d-d07e5d1ec57d",
   "metadata": {
    "tags": []
   },
   "outputs": [],
   "source": [
    "m1.sched_rt_category = m1.sched_rt_category.astype(str).fillna(\"Not Available\")"
   ]
  },
  {
   "cell_type": "code",
   "execution_count": null,
   "id": "7ffc2bfb-4116-40e1-bf3e-57b2a834eb9e",
   "metadata": {
    "tags": []
   },
   "outputs": [],
   "source": [
    "m1['sched_rt_category'] = m1['sched_rt_category'].astype(str).str.replace('nan', 'Not Available')"
   ]
  },
  {
   "cell_type": "code",
   "execution_count": null,
   "id": "a55f41c5-ec60-4d60-ad49-4761a9111b98",
   "metadata": {},
   "outputs": [],
   "source": [
    "m1['schd_vp_service_date'] = m1['schd_vp_service_date'].astype(str).str.replace(\"NaT\", 'Not Available')"
   ]
  },
  {
   "cell_type": "code",
   "execution_count": null,
   "id": "cf14f54d-3b3e-4d08-a0eb-9e55f2f3e147",
   "metadata": {
    "tags": []
   },
   "outputs": [],
   "source": [
    "m1.info()"
   ]
  },
  {
   "cell_type": "code",
   "execution_count": null,
   "id": "73f707c2-2b81-4a1a-b0d2-1ee92fcd8c85",
   "metadata": {
    "tags": []
   },
   "outputs": [],
   "source": [
    "m1.head(1)"
   ]
  },
  {
   "cell_type": "code",
   "execution_count": null,
   "id": "e4b77f7a-9631-4728-a588-668cbdab1ee5",
   "metadata": {
    "tags": []
   },
   "outputs": [],
   "source": [
    "m1.loc[m1.portfolio_name == \"City of Avalon\"]"
   ]
  },
  {
   "cell_type": "code",
   "execution_count": null,
   "id": "7957e8f3-44a7-4e97-b124-f627a59b2059",
   "metadata": {
    "tags": []
   },
   "outputs": [],
   "source": [
    "date_cols = [col for col in m1.columns if \"_date\" in col]\n",
    "m1[date_cols] = m1[date_cols].astype(str)"
   ]
  },
  {
   "cell_type": "code",
   "execution_count": null,
   "id": "ca192a25-b0ba-4270-89ea-0040d8cdf518",
   "metadata": {},
   "outputs": [],
   "source": [
    "for col in date_cols:\n",
    "    m1[col] = m1[col].str.replace(\"NaT\", \"Not Available\")"
   ]
  },
  {
   "cell_type": "code",
   "execution_count": null,
   "id": "3e503756-4b71-463f-8f4d-f5fd4e9b7c68",
   "metadata": {
    "scrolled": true,
    "tags": []
   },
   "outputs": [],
   "source": [
    "melt1 = pd.melt(\n",
    "    m1,\n",
    "    id_vars=[\"portfolio_name\"],\n",
    "    value_vars=[\n",
    "        \"sched_rt_category\",\n",
    "        \"route_maps_service_date\",\n",
    "        \"operator_profile_service_date\",\n",
    "        \"scheduled_service_month_year\",\n",
    "        \"nunique_routes\",\n",
    "        \"schd_vp_service_date\",\n",
    "        \n",
    "        \"avg_speeds_service_date\",\n",
    "        \"rt_vs_sched_service_date\",\n",
    "        \"schd_service_date\",\n",
    "        \n",
    "    ],\n",
    ")"
   ]
  },
  {
   "cell_type": "code",
   "execution_count": null,
   "id": "52182e30-622b-425d-b304-e8d3c7401ec7",
   "metadata": {
    "tags": []
   },
   "outputs": [],
   "source": [
    "melt1 = melt1.drop_duplicates(subset = [\"portfolio_name\", \"variable\"])"
   ]
  },
  {
   "cell_type": "code",
   "execution_count": null,
   "id": "06105d5c-3f18-4644-aaea-2913fe191cb0",
   "metadata": {},
   "outputs": [],
   "source": [
    "melt1 = melt1.fillna(\"Not Available\")"
   ]
  },
  {
   "cell_type": "code",
   "execution_count": null,
   "id": "7fa08687-bf83-4bfb-81d9-51f577f9b73b",
   "metadata": {},
   "outputs": [],
   "source": [
    "melt1.variable = melt1.variable.str.replace(\"nan\",\"Not Available\").str.replace(\"NaT\",\"Not Available\")"
   ]
  },
  {
   "cell_type": "code",
   "execution_count": null,
   "id": "3ccfe3a5-7429-4e33-b94f-ac8f0f1715b3",
   "metadata": {
    "tags": []
   },
   "outputs": [],
   "source": [
    "melt1.info()"
   ]
  },
  {
   "cell_type": "code",
   "execution_count": null,
   "id": "c1ac3e53-7bef-459e-b750-c08c8f771a88",
   "metadata": {
    "tags": []
   },
   "outputs": [],
   "source": [
    "melt1.loc[melt1.portfolio_name == \"City of Avalon\"]"
   ]
  },
  {
   "cell_type": "code",
   "execution_count": null,
   "id": "db2e5fcb-8cb1-402f-a0d6-1a3513ab6f8f",
   "metadata": {
    "tags": []
   },
   "outputs": [],
   "source": [
    "melt1.head()"
   ]
  },
  {
   "cell_type": "code",
   "execution_count": null,
   "id": "e2b6ef82-bb9b-43b5-96b0-c4b9661dfb18",
   "metadata": {
    "tags": []
   },
   "outputs": [],
   "source": [
    "melt1.info()"
   ]
  },
  {
   "cell_type": "code",
   "execution_count": null,
   "id": "fe9d37a1-0b02-4bef-a91e-5ea6335541dd",
   "metadata": {
    "tags": []
   },
   "outputs": [],
   "source": [
    "result = {}\n",
    "for category, category_df in melt1.groupby(\"portfolio_name\"):\n",
    "    category_result = {}\n",
    "    for organization, organization_df in category_df.groupby(\"variable\"):\n",
    "        category_result[organization] = organization_df[\"value\"].tolist()\n",
    "    result[category] = category_result\n",
    "\n",
    "# Save to YAML file\n",
    "with open(\"../_shared_utils/shared_utils/gtfs_digest_completion.yml\", \"w\") as f:\n",
    "    f.write(f\"# {title}\\n\\n\")\n",
    "    yaml.dump(result, f, default_flow_style=False)"
   ]
  },
  {
   "cell_type": "code",
   "execution_count": null,
   "id": "08313a76-102a-4def-a626-3e4da81d42ff",
   "metadata": {},
   "outputs": [],
   "source": []
  }
 ],
 "metadata": {
  "kernelspec": {
   "display_name": "Python 3 (ipykernel)",
   "language": "python",
   "name": "python3"
  },
  "language_info": {
   "codemirror_mode": {
    "name": "ipython",
    "version": 3
   },
   "file_extension": ".py",
   "mimetype": "text/x-python",
   "name": "python",
   "nbconvert_exporter": "python",
   "pygments_lexer": "ipython3",
   "version": "3.11.10"
  }
 },
 "nbformat": 4,
 "nbformat_minor": 5
}
