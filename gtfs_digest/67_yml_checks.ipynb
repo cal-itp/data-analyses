{
 "cells": [
  {
   "cell_type": "markdown",
   "id": "67fe058c-10c1-4c38-9728-fe64b555c84d",
   "metadata": {},
   "source": [
    "# Create more ymls to troubleshoot issues before running the whole portfolio and realizing something is wrong!\n",
    "* YML #1: Making sure the # of routes for an operator are the same or the most current date vs. the last two.\n",
    "* YML #2: Making sure all of the sections for a particular operator is populated properly. "
   ]
  },
  {
   "cell_type": "code",
   "execution_count": 1,
   "id": "218ec5e1-151b-4a51-b67a-e66648627ef2",
   "metadata": {
    "tags": []
   },
   "outputs": [],
   "source": [
    "import _portfolio_names_dict\n",
    "import _yml_gtfs_digest_orgs\n",
    "import deploy_portfolio_yaml\n",
    "import geopandas as gpd\n",
    "import merge_data\n",
    "import pandas as pd\n",
    "import yaml\n",
    "from segment_speed_utils import gtfs_schedule_wrangling, helpers\n",
    "from segment_speed_utils.project_vars import COMPILED_CACHED_VIEWS, PROJECT_CRS\n",
    "from shared_utils import catalog_utils, portfolio_utils, publish_utils, rt_dates\n",
    "from update_vars import GTFS_DATA_DICT, RT_SCHED_GCS, SCHED_GCS, SEGMENT_GCS"
   ]
  },
  {
   "cell_type": "code",
   "execution_count": 2,
   "id": "f7435b6a-4fc3-43b5-bc5e-0d87585b6c54",
   "metadata": {
    "tags": []
   },
   "outputs": [],
   "source": [
    "pd.options.display.max_columns = 100\n",
    "pd.options.display.float_format = \"{:.2f}\".format\n",
    "pd.set_option(\"display.max_rows\", None)\n",
    "pd.set_option(\"display.max_colwidth\", None)"
   ]
  },
  {
   "cell_type": "code",
   "execution_count": 3,
   "id": "6fecdac6-4c7f-44f9-82e2-b21266e843f0",
   "metadata": {
    "tags": []
   },
   "outputs": [],
   "source": [
    "# Find the last few dates\n",
    "analysis_date_list = rt_dates.y2024_dates + rt_dates.y2023_dates + rt_dates.y2025_dates"
   ]
  },
  {
   "cell_type": "code",
   "execution_count": 4,
   "id": "3ec7e4bc-cb4d-441a-906a-53d0b878fa62",
   "metadata": {
    "tags": []
   },
   "outputs": [],
   "source": [
    "most_recent_3_dates = analysis_date_list[-3:]"
   ]
  },
  {
   "cell_type": "code",
   "execution_count": 5,
   "id": "c53f7ec6-8b77-45ad-82f5-e968a36c387e",
   "metadata": {
    "tags": []
   },
   "outputs": [],
   "source": [
    "df_for_yml = _yml_gtfs_digest_orgs.load_df_for_yml(\n",
    "    _yml_gtfs_digest_orgs.schd_vp_url, _yml_gtfs_digest_orgs.operator_digest_cols\n",
    ")"
   ]
  },
  {
   "cell_type": "code",
   "execution_count": 6,
   "id": "fcf4cada-4106-4da0-b511-1b52c50b50e0",
   "metadata": {
    "tags": []
   },
   "outputs": [
    {
     "data": {
      "text/html": [
       "<div>\n",
       "<style scoped>\n",
       "    .dataframe tbody tr th:only-of-type {\n",
       "        vertical-align: middle;\n",
       "    }\n",
       "\n",
       "    .dataframe tbody tr th {\n",
       "        vertical-align: top;\n",
       "    }\n",
       "\n",
       "    .dataframe thead th {\n",
       "        text-align: right;\n",
       "    }\n",
       "</style>\n",
       "<table border=\"1\" class=\"dataframe\">\n",
       "  <thead>\n",
       "    <tr style=\"text-align: right;\">\n",
       "      <th></th>\n",
       "      <th>schedule_gtfs_dataset_key</th>\n",
       "      <th>caltrans_district</th>\n",
       "      <th>organization_name</th>\n",
       "      <th>name</th>\n",
       "      <th>sched_rt_category</th>\n",
       "      <th>service_date</th>\n",
       "      <th>portfolio_name</th>\n",
       "    </tr>\n",
       "  </thead>\n",
       "  <tbody>\n",
       "    <tr>\n",
       "      <th>0</th>\n",
       "      <td>a253a8d7acd57657bb98050f37dd6b0f</td>\n",
       "      <td>01 - Eureka</td>\n",
       "      <td>City of Arcata</td>\n",
       "      <td>Humboldt Schedule</td>\n",
       "      <td>schedule_and_vp</td>\n",
       "      <td>2025-03-12</td>\n",
       "      <td>Humboldt Schedule</td>\n",
       "    </tr>\n",
       "    <tr>\n",
       "      <th>1</th>\n",
       "      <td>a253a8d7acd57657bb98050f37dd6b0f</td>\n",
       "      <td>01 - Eureka</td>\n",
       "      <td>City of Eureka</td>\n",
       "      <td>Humboldt Schedule</td>\n",
       "      <td>schedule_and_vp</td>\n",
       "      <td>2025-03-12</td>\n",
       "      <td>Humboldt Schedule</td>\n",
       "    </tr>\n",
       "    <tr>\n",
       "      <th>2</th>\n",
       "      <td>1c698dddc3779d140521d3f1366a8df6</td>\n",
       "      <td>01 - Eureka</td>\n",
       "      <td>Curry Public Transit</td>\n",
       "      <td>Curry Public Transit Schedule</td>\n",
       "      <td>schedule_only</td>\n",
       "      <td>2025-03-12</td>\n",
       "      <td>Curry Public Transit</td>\n",
       "    </tr>\n",
       "  </tbody>\n",
       "</table>\n",
       "</div>"
      ],
      "text/plain": [
       "          schedule_gtfs_dataset_key caltrans_district     organization_name  \\\n",
       "0  a253a8d7acd57657bb98050f37dd6b0f       01 - Eureka        City of Arcata   \n",
       "1  a253a8d7acd57657bb98050f37dd6b0f       01 - Eureka        City of Eureka   \n",
       "2  1c698dddc3779d140521d3f1366a8df6       01 - Eureka  Curry Public Transit   \n",
       "\n",
       "                            name sched_rt_category service_date  \\\n",
       "0              Humboldt Schedule   schedule_and_vp   2025-03-12   \n",
       "1              Humboldt Schedule   schedule_and_vp   2025-03-12   \n",
       "2  Curry Public Transit Schedule     schedule_only   2025-03-12   \n",
       "\n",
       "         portfolio_name  \n",
       "0     Humboldt Schedule  \n",
       "1     Humboldt Schedule  \n",
       "2  Curry Public Transit  "
      ]
     },
     "execution_count": 6,
     "metadata": {},
     "output_type": "execute_result"
    }
   ],
   "source": [
    "df_for_yml.head(3)"
   ]
  },
  {
   "cell_type": "code",
   "execution_count": 7,
   "id": "08cf5e22-8c77-4eb6-9f4e-74c1885f8025",
   "metadata": {
    "tags": []
   },
   "outputs": [],
   "source": [
    "schd_vp_df = pd.read_parquet(_yml_gtfs_digest_orgs.schd_vp_url)"
   ]
  },
  {
   "cell_type": "code",
   "execution_count": 8,
   "id": "949ad9ff-abcb-468e-96ca-94fc5b476f24",
   "metadata": {
    "tags": []
   },
   "outputs": [
    {
     "name": "stdout",
     "output_type": "stream",
     "text": [
      "Saved to yml\n"
     ]
    }
   ],
   "source": [
    "gtfs_status_df = _yml_gtfs_digest_orgs.generate_org_gtfs_status_yml(\n",
    "    _yml_gtfs_digest_orgs.load_df_for_yml(\n",
    "        _yml_gtfs_digest_orgs.schd_vp_url, _yml_gtfs_digest_orgs.operator_digest_cols\n",
    "    )\n",
    ").drop_duplicates(subset=[\"organization_name\"])"
   ]
  },
  {
   "cell_type": "code",
   "execution_count": 9,
   "id": "fc40df22-6109-4c7c-8234-ff571697820e",
   "metadata": {
    "tags": []
   },
   "outputs": [
    {
     "data": {
      "text/plain": [
       "(205, 3)"
      ]
     },
     "execution_count": 9,
     "metadata": {},
     "output_type": "execute_result"
    }
   ],
   "source": [
    "gtfs_status_df.shape"
   ]
  },
  {
   "cell_type": "code",
   "execution_count": 10,
   "id": "46ec5398-ba8d-41b3-ab3e-6bed5bdfc52c",
   "metadata": {
    "tags": []
   },
   "outputs": [
    {
     "data": {
      "text/html": [
       "<div>\n",
       "<style scoped>\n",
       "    .dataframe tbody tr th:only-of-type {\n",
       "        vertical-align: middle;\n",
       "    }\n",
       "\n",
       "    .dataframe tbody tr th {\n",
       "        vertical-align: top;\n",
       "    }\n",
       "\n",
       "    .dataframe thead th {\n",
       "        text-align: right;\n",
       "    }\n",
       "</style>\n",
       "<table border=\"1\" class=\"dataframe\">\n",
       "  <thead>\n",
       "    <tr style=\"text-align: right;\">\n",
       "      <th></th>\n",
       "      <th>sched_rt_category</th>\n",
       "      <th>portfolio_name</th>\n",
       "      <th>organization_name</th>\n",
       "    </tr>\n",
       "  </thead>\n",
       "  <tbody>\n",
       "    <tr>\n",
       "      <th>0</th>\n",
       "      <td>schedule_and_vp</td>\n",
       "      <td>Humboldt Schedule</td>\n",
       "      <td>City of Arcata</td>\n",
       "    </tr>\n",
       "    <tr>\n",
       "      <th>1</th>\n",
       "      <td>schedule_and_vp</td>\n",
       "      <td>Humboldt Schedule</td>\n",
       "      <td>City of Eureka</td>\n",
       "    </tr>\n",
       "  </tbody>\n",
       "</table>\n",
       "</div>"
      ],
      "text/plain": [
       "  sched_rt_category     portfolio_name organization_name\n",
       "0   schedule_and_vp  Humboldt Schedule    City of Arcata\n",
       "1   schedule_and_vp  Humboldt Schedule    City of Eureka"
      ]
     },
     "execution_count": 10,
     "metadata": {},
     "output_type": "execute_result"
    }
   ],
   "source": [
    "gtfs_status_df.head(2)"
   ]
  },
  {
   "cell_type": "code",
   "execution_count": 11,
   "id": "85a318bb-53f4-4d7b-8343-f9deb803988b",
   "metadata": {
    "tags": []
   },
   "outputs": [],
   "source": [
    "def generate_nunique_routes_yml(gtfs_status_df: pd.DataFrame):\n",
    "    \"\"\"\n",
    "    Generate the yml that shows the number of\n",
    "    unique routes for the last 3 months.\n",
    "    \"\"\"\n",
    "    # Read in dataframe\n",
    "    schd_vp_df = pd.read_parquet(_yml_gtfs_digest_orgs.schd_vp_url)\n",
    "\n",
    "    # Filter out for the most recent 3 dates\n",
    "    df = schd_vp_df.loc[schd_vp_df.service_date.isin(most_recent_3_dates)]\n",
    "\n",
    "    # Merge to keep only with the organizations that are displayed in the portfolio.\n",
    "    ops_kept = deploy_portfolio_yaml.generate_operator_grain_yaml()\n",
    "\n",
    "    m1 = pd.merge(df, ops_kept, on=[\"organization_name\"])\n",
    "\n",
    "    # Merge to keep only organizations with schedule and RT data\n",
    "    schedule_and_vp_only_df = gtfs_status_df.loc[\n",
    "        gtfs_status_df.sched_rt_category == \"schedule_and_vp\"\n",
    "    ]\n",
    "    m2 = pd.merge(m1, schedule_and_vp_only_df, on=[\"organization_name\"])\n",
    "\n",
    "    # Aggregate to count number of unique routes per service date\n",
    "    agg1 = (\n",
    "        m2.groupby([\"service_date\", \"portfolio_name\"])\n",
    "        .agg({\"route_id\": \"nunique\"})\n",
    "        .reset_index()\n",
    "        .sort_values(by=[\"service_date\", \"portfolio_name\"])\n",
    "    )\n",
    "\n",
    "    # Turn this dataframe from wide to long\n",
    "    pivot1 = agg1.pivot(\n",
    "        index=\"portfolio_name\", columns=\"service_date\", values=[\"route_id\"]\n",
    "    ).reset_index()\n",
    "\n",
    "    # Neaten\n",
    "    pivot1.columns = [\n",
    "        \"portfolio_name\",\n",
    "        \"2_months_ago\",\n",
    "        \"1_months_ago\",\n",
    "        \"current_month\",\n",
    "    ]\n",
    "    pivot1 = pivot1.fillna(0)\n",
    "\n",
    "    # Tag True if the number of unique routes are the same\n",
    "    # across the 3 months. Tag false if not.\n",
    "    pivot1[\"same_n_of_routes_over_last_3_months\"] = (\n",
    "        pivot1[[\"2_months_ago\", \"1_months_ago\", \"current_month\"]].nunique(axis=1).eq(1)\n",
    "    )\n",
    "\n",
    "    # Pivot again to turn this into a YML\n",
    "    melt1 = pd.melt(\n",
    "        pivot1,\n",
    "        id_vars=[\n",
    "            \"portfolio_name\",\n",
    "            \"same_n_of_routes_over_last_3_months\",\n",
    "        ],\n",
    "        value_vars=[\"2_months_ago\", \"1_months_ago\", \"current_month\"],\n",
    "    )\n",
    "\n",
    "    # New column that combines everything\n",
    "    melt1[\"combined\"] = melt1.variable + \": \" + melt1.value.astype(str) + \" routes\"\n",
    "\n",
    "    # Neaten again\n",
    "    melt1.same_n_of_routes_over_last_3_months = (\n",
    "        melt1.same_n_of_routes_over_last_3_months.astype(str)\n",
    "    )\n",
    "\n",
    "    # Save out to the YML\n",
    "    title = \"Tagging if the number of unique routes have remained in the same over the last 3 months\"\n",
    "    result = {}\n",
    "    for category, category_df in nunique_routes.groupby(\n",
    "        \"same_n_of_routes_over_last_3_months\"\n",
    "    ):\n",
    "        category_result = {}\n",
    "        for organization, organization_df in category_df.groupby(\"portfolio_name\"):\n",
    "            category_result[organization] = organization_df[\"combined\"].tolist()\n",
    "        result[category] = category_result\n",
    "\n",
    "    # Save to YAML file\n",
    "    with open(\"../_shared_utils/shared_utils/gtfs_digest_nunique_routes.yml\", \"w\") as f:\n",
    "        f.write(f\"# {title}\\n\\n\")\n",
    "        yaml.dump(result, f, default_flow_style=False)\n",
    "\n",
    "    return melt1"
   ]
  },
  {
   "cell_type": "code",
   "execution_count": 12,
   "id": "ecff9ac5-fa12-48e1-950e-39f10ccb6270",
   "metadata": {
    "tags": []
   },
   "outputs": [],
   "source": [
    "# nunique_routes = generate_nunique_routes_yml(gtfs_status_df)"
   ]
  },
  {
   "cell_type": "markdown",
   "id": "453b33f2-f900-4e30-a76f-141664f10a07",
   "metadata": {},
   "source": [
    "## YML #2: Making sure all of the sections for a particular operator is populated properly.\n",
    "* NTD Data/Route Type/Service Area from `operator_profiles`\n",
    "* Map of Routes\n",
    "* Scheduled service for all routes\n",
    "* Monthly_sched_vp_df, qtr_sched_vp_df: if the operator has realtime and schedule data.\n",
    "* Use only the last 3 months of 2024.\n",
    "<img src= \"./gtfs_vision.png\">"
   ]
  },
  {
   "cell_type": "code",
   "execution_count": 13,
   "id": "44a98dd0-acf1-4384-a949-0882424c7ba6",
   "metadata": {
    "tags": []
   },
   "outputs": [],
   "source": [
    "# We only want to see operators that we display in the portfolio\n",
    "ops_kept = deploy_portfolio_yaml.generate_operator_grain_yaml()"
   ]
  },
  {
   "cell_type": "code",
   "execution_count": 14,
   "id": "7d13721a-b6d7-4439-bac3-01f7b8a83661",
   "metadata": {
    "tags": []
   },
   "outputs": [],
   "source": [
    "date_subset =  analysis_date_list[-3:]"
   ]
  },
  {
   "cell_type": "markdown",
   "id": "4fb71635-73cc-45fc-b597-9fe488c54bfa",
   "metadata": {},
   "source": [
    "### Map of Routes\n",
    "* Check that we have the most current date's info"
   ]
  },
  {
   "cell_type": "code",
   "execution_count": 15,
   "id": "eceb8970-fba0-4e2e-b283-0a4c7b5f391f",
   "metadata": {
    "tags": []
   },
   "outputs": [],
   "source": [
    "def aggregate_for_yml(\n",
    "    df: pd.DataFrame,\n",
    "    operators_to_keep: pd.DataFrame,\n",
    "    group_cols: list,\n",
    "    agg_col: str,\n",
    "    agg_type: str,\n",
    "    new_col_name: str,\n",
    ") -> pd.DataFrame:\n",
    "\n",
    "    # Keep only operators that are displayed in the portfolio\n",
    "    m1 = pd.merge(df, operators_to_keep, on=[\"organization_name\"], how=\"left\")\n",
    "\n",
    "    # Find number of unique routes for each service date\n",
    "    agg1 = m1.groupby(group_cols).agg({agg_col: agg_type}).reset_index()\n",
    "\n",
    "    agg1[f\"{new_col_name}_service_date_routes\"] = (\n",
    "        agg1.service_date.astype(str) + \": \" + agg1[agg_col].astype(str) + \" routes\"\n",
    "    )\n",
    "\n",
    "    agg1 = agg1.sort_values(by=[\"portfolio_name\", \"service_date\"])\n",
    "\n",
    "    agg1 = agg1.drop(columns=[\"service_date\", agg_col])\n",
    "    return agg1"
   ]
  },
  {
   "cell_type": "code",
   "execution_count": 16,
   "id": "a93a1969-2fea-44ba-8d4d-a8e3731f3a12",
   "metadata": {
    "tags": []
   },
   "outputs": [],
   "source": [
    "op_routes_url = f\"{GTFS_DATA_DICT.digest_tables.dir}{GTFS_DATA_DICT.digest_tables.operator_routes_map}.parquet\"\n",
    "op_routes_gdf = gpd.read_parquet(op_routes_url)"
   ]
  },
  {
   "cell_type": "code",
   "execution_count": 17,
   "id": "1ed5a14f-e8cb-4230-85aa-40c24021975d",
   "metadata": {
    "tags": []
   },
   "outputs": [],
   "source": [
    "# Keep only the last few dates of 2024\n",
    "op_routes_gdf = op_routes_gdf.loc[op_routes_gdf.service_date.isin(date_subset)]"
   ]
  },
  {
   "cell_type": "code",
   "execution_count": 18,
   "id": "9186563e-2394-4e35-8781-0f04a62de241",
   "metadata": {
    "tags": []
   },
   "outputs": [
    {
     "data": {
      "text/plain": [
       "Index(['caltrans_district', 'portfolio_name', 'organization_name'], dtype='object')"
      ]
     },
     "execution_count": 18,
     "metadata": {},
     "output_type": "execute_result"
    }
   ],
   "source": [
    "ops_kept.columns"
   ]
  },
  {
   "cell_type": "code",
   "execution_count": 19,
   "id": "b05d802a-4f73-49a9-be4d-66c0c629c88f",
   "metadata": {
    "tags": []
   },
   "outputs": [],
   "source": [
    "op_routes_agg = aggregate_for_yml(\n",
    "    df=op_routes_gdf,\n",
    "    operators_to_keep=ops_kept,\n",
    "    group_cols=[\"service_date\", \"portfolio_name\", \"organization_name\"],\n",
    "    agg_col=\"route_id\",\n",
    "    agg_type=\"nunique\",\n",
    "    new_col_name=\"routes_geometry\",\n",
    ")"
   ]
  },
  {
   "cell_type": "code",
   "execution_count": 20,
   "id": "704a726e-8237-42da-84c3-f046240f6280",
   "metadata": {
    "scrolled": true,
    "tags": []
   },
   "outputs": [],
   "source": [
    "# op_routes_agg"
   ]
  },
  {
   "cell_type": "markdown",
   "id": "a3817f97-118e-463c-b513-504aa328105b",
   "metadata": {},
   "source": [
    "### `operator_profiles`\n",
    "* Check that we have the most current date's info."
   ]
  },
  {
   "cell_type": "code",
   "execution_count": 21,
   "id": "e444e69d-7816-4af8-b295-24f3aab98e46",
   "metadata": {
    "tags": []
   },
   "outputs": [],
   "source": [
    "op_profiles_url = f\"{GTFS_DATA_DICT.digest_tables.dir}{GTFS_DATA_DICT.digest_tables.operator_profiles}.parquet\"\n",
    "op_profiles_df = pd.read_parquet(op_profiles_url)"
   ]
  },
  {
   "cell_type": "code",
   "execution_count": 22,
   "id": "c390a36e-90fc-4f50-8b46-58566bcaa0bb",
   "metadata": {
    "tags": []
   },
   "outputs": [],
   "source": [
    "op_profiles_df.organization_name = op_profiles_df.organization_name.fillna(\"None\")"
   ]
  },
  {
   "cell_type": "code",
   "execution_count": 23,
   "id": "2b957102-5375-4edf-9c92-4e579681c967",
   "metadata": {
    "tags": []
   },
   "outputs": [],
   "source": [
    "# Keep only the last few dates of 2024\n",
    "op_profiles_df = op_profiles_df.loc[op_profiles_df.service_date.isin(date_subset)]"
   ]
  },
  {
   "cell_type": "code",
   "execution_count": 24,
   "id": "8461d14e-5200-49ad-b9d4-f0a46de01d00",
   "metadata": {
    "tags": []
   },
   "outputs": [
    {
     "data": {
      "text/html": [
       "<div>\n",
       "<style scoped>\n",
       "    .dataframe tbody tr th:only-of-type {\n",
       "        vertical-align: middle;\n",
       "    }\n",
       "\n",
       "    .dataframe tbody tr th {\n",
       "        vertical-align: top;\n",
       "    }\n",
       "\n",
       "    .dataframe thead th {\n",
       "        text-align: right;\n",
       "    }\n",
       "</style>\n",
       "<table border=\"1\" class=\"dataframe\">\n",
       "  <thead>\n",
       "    <tr style=\"text-align: right;\">\n",
       "      <th></th>\n",
       "      <th>schedule_gtfs_dataset_key</th>\n",
       "      <th>vp_per_min_agency</th>\n",
       "      <th>spatial_accuracy_agency</th>\n",
       "      <th>service_date</th>\n",
       "      <th>operator_n_routes</th>\n",
       "      <th>operator_n_trips</th>\n",
       "      <th>operator_n_shapes</th>\n",
       "      <th>operator_n_stops</th>\n",
       "      <th>operator_n_arrivals</th>\n",
       "      <th>operator_route_length_miles</th>\n",
       "      <th>operator_arrivals_per_stop</th>\n",
       "      <th>n_downtown_local_routes</th>\n",
       "      <th>n_local_routes</th>\n",
       "      <th>n_coverage_routes</th>\n",
       "      <th>n_rapid_routes</th>\n",
       "      <th>n_express_routes</th>\n",
       "      <th>n_rail_routes</th>\n",
       "      <th>name</th>\n",
       "      <th>organization_source_record_id</th>\n",
       "      <th>organization_name</th>\n",
       "      <th>caltrans_district</th>\n",
       "      <th>counties_served</th>\n",
       "      <th>service_area_sq_miles</th>\n",
       "      <th>hq_city</th>\n",
       "      <th>service_area_pop</th>\n",
       "      <th>organization_type</th>\n",
       "      <th>primary_uza_name</th>\n",
       "      <th>reporter_type</th>\n",
       "    </tr>\n",
       "  </thead>\n",
       "  <tbody>\n",
       "    <tr>\n",
       "      <th>3461</th>\n",
       "      <td>a131b466de5793f858b5dec42fbbb4a9</td>\n",
       "      <td>NaN</td>\n",
       "      <td>NaN</td>\n",
       "      <td>2025-01-15</td>\n",
       "      <td>1.00</td>\n",
       "      <td>8.00</td>\n",
       "      <td>6.00</td>\n",
       "      <td>63.00</td>\n",
       "      <td>198.00</td>\n",
       "      <td>29.61</td>\n",
       "      <td>3.14</td>\n",
       "      <td>0.00</td>\n",
       "      <td>0.00</td>\n",
       "      <td>2.00</td>\n",
       "      <td>0.00</td>\n",
       "      <td>0.00</td>\n",
       "      <td>0.00</td>\n",
       "      <td>Bay Area 511 Rio Vista Delta Breeze Schedule</td>\n",
       "      <td>recaUmi7EJdPiG067</td>\n",
       "      <td>City of Rio Vista</td>\n",
       "      <td>04 - Oakland</td>\n",
       "      <td>None</td>\n",
       "      <td>&lt;NA&gt;</td>\n",
       "      <td>Rio Vista</td>\n",
       "      <td>&lt;NA&gt;</td>\n",
       "      <td>City, County or Local Government Unit or Department of Transportation</td>\n",
       "      <td>None</td>\n",
       "      <td>Rural Reporter</td>\n",
       "    </tr>\n",
       "  </tbody>\n",
       "</table>\n",
       "</div>"
      ],
      "text/plain": [
       "             schedule_gtfs_dataset_key  vp_per_min_agency  \\\n",
       "3461  a131b466de5793f858b5dec42fbbb4a9                NaN   \n",
       "\n",
       "      spatial_accuracy_agency service_date  operator_n_routes  \\\n",
       "3461                      NaN   2025-01-15               1.00   \n",
       "\n",
       "      operator_n_trips  operator_n_shapes  operator_n_stops  \\\n",
       "3461              8.00               6.00             63.00   \n",
       "\n",
       "      operator_n_arrivals  operator_route_length_miles  \\\n",
       "3461               198.00                        29.61   \n",
       "\n",
       "      operator_arrivals_per_stop  n_downtown_local_routes  n_local_routes  \\\n",
       "3461                        3.14                     0.00            0.00   \n",
       "\n",
       "      n_coverage_routes  n_rapid_routes  n_express_routes  n_rail_routes  \\\n",
       "3461               2.00            0.00              0.00           0.00   \n",
       "\n",
       "                                              name  \\\n",
       "3461  Bay Area 511 Rio Vista Delta Breeze Schedule   \n",
       "\n",
       "     organization_source_record_id  organization_name caltrans_district  \\\n",
       "3461             recaUmi7EJdPiG067  City of Rio Vista      04 - Oakland   \n",
       "\n",
       "     counties_served  service_area_sq_miles    hq_city  service_area_pop  \\\n",
       "3461            None                   <NA>  Rio Vista              <NA>   \n",
       "\n",
       "                                                          organization_type  \\\n",
       "3461  City, County or Local Government Unit or Department of Transportation   \n",
       "\n",
       "     primary_uza_name   reporter_type  \n",
       "3461             None  Rural Reporter  "
      ]
     },
     "execution_count": 24,
     "metadata": {},
     "output_type": "execute_result"
    }
   ],
   "source": [
    "op_profiles_df.sample()"
   ]
  },
  {
   "cell_type": "code",
   "execution_count": 25,
   "id": "ba1006e8-c5cb-4cef-b47a-49761f1bbf1c",
   "metadata": {
    "tags": []
   },
   "outputs": [],
   "source": [
    "op_profiles_agg = aggregate_for_yml(\n",
    "    df=op_profiles_df,\n",
    "    operators_to_keep=ops_kept,\n",
    "    group_cols=[\"service_date\", \"schedule_gtfs_dataset_key\", \"portfolio_name\"],\n",
    "    agg_col=\"operator_n_routes\",\n",
    "    agg_type=\"max\",\n",
    "    new_col_name=\"operator_profile_ntd_info\",\n",
    ")"
   ]
  },
  {
   "cell_type": "code",
   "execution_count": 26,
   "id": "3ab12f0c-8f5b-4a38-af19-ade6865e4592",
   "metadata": {
    "tags": []
   },
   "outputs": [
    {
     "data": {
      "text/html": [
       "<div>\n",
       "<style scoped>\n",
       "    .dataframe tbody tr th:only-of-type {\n",
       "        vertical-align: middle;\n",
       "    }\n",
       "\n",
       "    .dataframe tbody tr th {\n",
       "        vertical-align: top;\n",
       "    }\n",
       "\n",
       "    .dataframe thead th {\n",
       "        text-align: right;\n",
       "    }\n",
       "</style>\n",
       "<table border=\"1\" class=\"dataframe\">\n",
       "  <thead>\n",
       "    <tr style=\"text-align: right;\">\n",
       "      <th></th>\n",
       "      <th>schedule_gtfs_dataset_key</th>\n",
       "      <th>portfolio_name</th>\n",
       "      <th>operator_profile_ntd_info_service_date_routes</th>\n",
       "    </tr>\n",
       "  </thead>\n",
       "  <tbody>\n",
       "    <tr>\n",
       "      <th>124</th>\n",
       "      <td>c499f905e33929a641f083dad55c521e</td>\n",
       "      <td>Alameda-Contra Costa Transit District</td>\n",
       "      <td>2025-01-15: 130.0 routes</td>\n",
       "    </tr>\n",
       "    <tr>\n",
       "      <th>290</th>\n",
       "      <td>c499f905e33929a641f083dad55c521e</td>\n",
       "      <td>Alameda-Contra Costa Transit District</td>\n",
       "      <td>2025-02-12: 130.0 routes</td>\n",
       "    </tr>\n",
       "    <tr>\n",
       "      <th>29</th>\n",
       "      <td>36b8fbf12e4adc76b21651462b200860</td>\n",
       "      <td>Amador Regional Transit System</td>\n",
       "      <td>2025-01-15: 6.0 routes</td>\n",
       "    </tr>\n",
       "    <tr>\n",
       "      <th>194</th>\n",
       "      <td>36b8fbf12e4adc76b21651462b200860</td>\n",
       "      <td>Amador Regional Transit System</td>\n",
       "      <td>2025-02-12: 6.0 routes</td>\n",
       "    </tr>\n",
       "    <tr>\n",
       "      <th>123</th>\n",
       "      <td>c4726e0acfbcbd26e1dc38b8bd046c03</td>\n",
       "      <td>Anaheim Transportation Network</td>\n",
       "      <td>2025-01-15: 18.0 routes</td>\n",
       "    </tr>\n",
       "  </tbody>\n",
       "</table>\n",
       "</div>"
      ],
      "text/plain": [
       "            schedule_gtfs_dataset_key                         portfolio_name  \\\n",
       "124  c499f905e33929a641f083dad55c521e  Alameda-Contra Costa Transit District   \n",
       "290  c499f905e33929a641f083dad55c521e  Alameda-Contra Costa Transit District   \n",
       "29   36b8fbf12e4adc76b21651462b200860         Amador Regional Transit System   \n",
       "194  36b8fbf12e4adc76b21651462b200860         Amador Regional Transit System   \n",
       "123  c4726e0acfbcbd26e1dc38b8bd046c03         Anaheim Transportation Network   \n",
       "\n",
       "    operator_profile_ntd_info_service_date_routes  \n",
       "124                      2025-01-15: 130.0 routes  \n",
       "290                      2025-02-12: 130.0 routes  \n",
       "29                         2025-01-15: 6.0 routes  \n",
       "194                        2025-02-12: 6.0 routes  \n",
       "123                       2025-01-15: 18.0 routes  "
      ]
     },
     "execution_count": 26,
     "metadata": {},
     "output_type": "execute_result"
    }
   ],
   "source": [
    "op_profiles_agg.head()"
   ]
  },
  {
   "cell_type": "markdown",
   "id": "0e9a032b-f68b-4f19-9310-f63a143f59f0",
   "metadata": {},
   "source": [
    "### Scheduled service for all routes"
   ]
  },
  {
   "cell_type": "code",
   "execution_count": 27,
   "id": "d06cab97-9543-465e-948a-6814cde71ed6",
   "metadata": {
    "tags": []
   },
   "outputs": [],
   "source": [
    "name_org_name_crosswalk = df_for_yml[[\"name\", \"organization_name\"]].drop_duplicates()"
   ]
  },
  {
   "cell_type": "code",
   "execution_count": 28,
   "id": "9d81c533-b59a-473b-b126-fc5645febbc6",
   "metadata": {
    "tags": []
   },
   "outputs": [],
   "source": [
    "scheduled_service_hours_url = f\"{GTFS_DATA_DICT.digest_tables.dir}{GTFS_DATA_DICT.digest_tables.scheduled_service_hours}.parquet\""
   ]
  },
  {
   "cell_type": "code",
   "execution_count": 29,
   "id": "59cb3da8-1d3e-4f8a-bbbc-5561523a8b2e",
   "metadata": {
    "tags": []
   },
   "outputs": [],
   "source": [
    "scheduled_service_hours_df = pd.read_parquet(scheduled_service_hours_url)"
   ]
  },
  {
   "cell_type": "code",
   "execution_count": 30,
   "id": "b19343af-9f76-4596-ae19-258f4c140526",
   "metadata": {},
   "outputs": [],
   "source": [
    "# Merge to get portfolio and organization_name\n",
    "m1 = pd.merge(scheduled_service_hours_df, name_org_name_crosswalk, how=\"left\")"
   ]
  },
  {
   "cell_type": "code",
   "execution_count": 31,
   "id": "364e6e59-f390-4a1e-9bd8-dd6e54376f8c",
   "metadata": {
    "tags": []
   },
   "outputs": [],
   "source": [
    "m1 = m1.rename(columns={\"month_year\": \"service_date\"})"
   ]
  },
  {
   "cell_type": "code",
   "execution_count": 32,
   "id": "17cb9708-e82c-46e1-bb3d-2ca5ed5336be",
   "metadata": {
    "tags": []
   },
   "outputs": [],
   "source": [
    "scheduled_service_hours_agg = aggregate_for_yml(\n",
    "    df=m1,\n",
    "    operators_to_keep=ops_kept,\n",
    "    group_cols=[\"service_date\", \"portfolio_name\"],\n",
    "    agg_col=\"departure_hour\",\n",
    "    agg_type=\"nunique\",\n",
    "    new_col_name=\"scheduled_service_hours\",\n",
    ")"
   ]
  },
  {
   "cell_type": "code",
   "execution_count": 33,
   "id": "6b6a5717-f208-486b-9f34-e0209e07cfd8",
   "metadata": {
    "tags": []
   },
   "outputs": [],
   "source": [
    "scheduled_service_hours_agg.scheduled_service_hours_service_date_routes = scheduled_service_hours_agg.scheduled_service_hours_service_date_routes.str.replace(\"routes\",\"hours\")"
   ]
  },
  {
   "cell_type": "markdown",
   "id": "e4347ee4-ce1e-4949-ba6f-b085fa5a6dd4",
   "metadata": {},
   "source": [
    "### Add the datasets from `merge_data.py`"
   ]
  },
  {
   "cell_type": "code",
   "execution_count": 34,
   "id": "f694f539-cff1-4c36-9914-39d3c33f098d",
   "metadata": {
    "tags": []
   },
   "outputs": [],
   "source": [
    "def prep_merge_data_script(df: pd.DataFrame, analysis_date_list: list) -> pd.DataFrame:\n",
    "    \"\"\"\n",
    "    CLean up the datasets that go into creating\n",
    "    gtfs_digest/merge_data.py\n",
    "    \"\"\"\n",
    "    df_crosswalk = merge_data.concatenate_crosswalk_organization(analysis_date_list)[\n",
    "        [\"schedule_gtfs_dataset_key\", \"service_date\", \"organization_name\"]\n",
    "    ]\n",
    "\n",
    "    m1 = pd.merge(df, df_crosswalk)\n",
    "\n",
    "    m1 = m1.sort_values(by=[\"service_date\", \"organization_name\"], ascending=False)\n",
    "    return m1"
   ]
  },
  {
   "cell_type": "markdown",
   "id": "538691b6-bc42-4083-843a-b8bc021fad4b",
   "metadata": {},
   "source": [
    "### `schedule data`"
   ]
  },
  {
   "cell_type": "code",
   "execution_count": 35,
   "id": "64f690ec-30b3-4c1b-990d-1f0296eadb72",
   "metadata": {
    "tags": []
   },
   "outputs": [],
   "source": [
    "df_sched = merge_data.concatenate_schedule_by_route_direction(date_subset)[\n",
    "    [\"service_date\", \"schedule_gtfs_dataset_key\", \"route_id\"]\n",
    "]"
   ]
  },
  {
   "cell_type": "code",
   "execution_count": 36,
   "id": "e1d43c24-d4e8-4ae4-9a9f-9287fe1ab091",
   "metadata": {
    "tags": []
   },
   "outputs": [],
   "source": [
    "df_sched2 = prep_merge_data_script(df_sched, date_subset)"
   ]
  },
  {
   "cell_type": "code",
   "execution_count": 37,
   "id": "a9b47da0-a380-49d6-b807-691047a5096a",
   "metadata": {
    "tags": []
   },
   "outputs": [
    {
     "data": {
      "text/html": [
       "<div>\n",
       "<style scoped>\n",
       "    .dataframe tbody tr th:only-of-type {\n",
       "        vertical-align: middle;\n",
       "    }\n",
       "\n",
       "    .dataframe tbody tr th {\n",
       "        vertical-align: top;\n",
       "    }\n",
       "\n",
       "    .dataframe thead th {\n",
       "        text-align: right;\n",
       "    }\n",
       "</style>\n",
       "<table border=\"1\" class=\"dataframe\">\n",
       "  <thead>\n",
       "    <tr style=\"text-align: right;\">\n",
       "      <th></th>\n",
       "      <th>service_date</th>\n",
       "      <th>schedule_gtfs_dataset_key</th>\n",
       "      <th>route_id</th>\n",
       "      <th>organization_name</th>\n",
       "    </tr>\n",
       "  </thead>\n",
       "  <tbody>\n",
       "    <tr>\n",
       "      <th>13405</th>\n",
       "      <td>2025-03-12</td>\n",
       "      <td>47cd9b06cc79bf651578b12b4ce7bb20</td>\n",
       "      <td>1</td>\n",
       "      <td>Yurok Tribe</td>\n",
       "    </tr>\n",
       "    <tr>\n",
       "      <th>13406</th>\n",
       "      <td>2025-03-12</td>\n",
       "      <td>47cd9b06cc79bf651578b12b4ce7bb20</td>\n",
       "      <td>1</td>\n",
       "      <td>Yurok Tribe</td>\n",
       "    </tr>\n",
       "  </tbody>\n",
       "</table>\n",
       "</div>"
      ],
      "text/plain": [
       "      service_date         schedule_gtfs_dataset_key route_id  \\\n",
       "13405   2025-03-12  47cd9b06cc79bf651578b12b4ce7bb20        1   \n",
       "13406   2025-03-12  47cd9b06cc79bf651578b12b4ce7bb20        1   \n",
       "\n",
       "      organization_name  \n",
       "13405       Yurok Tribe  \n",
       "13406       Yurok Tribe  "
      ]
     },
     "execution_count": 37,
     "metadata": {},
     "output_type": "execute_result"
    }
   ],
   "source": [
    "df_sched2.head(2)"
   ]
  },
  {
   "cell_type": "code",
   "execution_count": 38,
   "id": "27395f2f-5b3d-44f6-b645-98a5dac0ec2e",
   "metadata": {
    "tags": []
   },
   "outputs": [],
   "source": [
    "df_sched_agg = aggregate_for_yml(\n",
    "    df=df_sched2,\n",
    "    operators_to_keep=ops_kept,\n",
    "    group_cols=[\"service_date\", \"portfolio_name\"],\n",
    "    agg_col=\"route_id\",\n",
    "    agg_type=\"nunique\",\n",
    "    new_col_name=\"merge_data_schedule\",\n",
    ")"
   ]
  },
  {
   "cell_type": "code",
   "execution_count": 39,
   "id": "cdc2eafa-72d7-4507-bb99-adba8b764b54",
   "metadata": {
    "tags": []
   },
   "outputs": [
    {
     "data": {
      "text/html": [
       "<div>\n",
       "<style scoped>\n",
       "    .dataframe tbody tr th:only-of-type {\n",
       "        vertical-align: middle;\n",
       "    }\n",
       "\n",
       "    .dataframe tbody tr th {\n",
       "        vertical-align: top;\n",
       "    }\n",
       "\n",
       "    .dataframe thead th {\n",
       "        text-align: right;\n",
       "    }\n",
       "</style>\n",
       "<table border=\"1\" class=\"dataframe\">\n",
       "  <thead>\n",
       "    <tr style=\"text-align: right;\">\n",
       "      <th></th>\n",
       "      <th>portfolio_name</th>\n",
       "      <th>merge_data_schedule_service_date_routes</th>\n",
       "    </tr>\n",
       "  </thead>\n",
       "  <tbody>\n",
       "    <tr>\n",
       "      <th>0</th>\n",
       "      <td>Alameda-Contra Costa Transit District</td>\n",
       "      <td>2025-01-15: 130 routes</td>\n",
       "    </tr>\n",
       "    <tr>\n",
       "      <th>165</th>\n",
       "      <td>Alameda-Contra Costa Transit District</td>\n",
       "      <td>2025-02-12: 130 routes</td>\n",
       "    </tr>\n",
       "  </tbody>\n",
       "</table>\n",
       "</div>"
      ],
      "text/plain": [
       "                            portfolio_name  \\\n",
       "0    Alameda-Contra Costa Transit District   \n",
       "165  Alameda-Contra Costa Transit District   \n",
       "\n",
       "    merge_data_schedule_service_date_routes  \n",
       "0                    2025-01-15: 130 routes  \n",
       "165                  2025-02-12: 130 routes  "
      ]
     },
     "execution_count": 39,
     "metadata": {},
     "output_type": "execute_result"
    }
   ],
   "source": [
    "df_sched_agg.head(2)"
   ]
  },
  {
   "cell_type": "markdown",
   "id": "31c5f1fb-f973-40c2-a34e-fd35320c5acf",
   "metadata": {},
   "source": [
    "### `Average Speeds`"
   ]
  },
  {
   "cell_type": "code",
   "execution_count": 40,
   "id": "b66c272f-b958-425e-89e4-20503d371441",
   "metadata": {
    "tags": []
   },
   "outputs": [],
   "source": [
    "df_avg_speeds = merge_data.concatenate_speeds_by_route_direction(date_subset)[\n",
    "    [\"service_date\", \"schedule_gtfs_dataset_key\", \"route_id\"]\n",
    "]"
   ]
  },
  {
   "cell_type": "code",
   "execution_count": 41,
   "id": "829f8c5a-1342-4288-a8b2-263e583ccea7",
   "metadata": {
    "tags": []
   },
   "outputs": [],
   "source": [
    "df_avg_speeds = prep_merge_data_script(df_avg_speeds, date_subset)"
   ]
  },
  {
   "cell_type": "code",
   "execution_count": 42,
   "id": "255f3331-fb61-41aa-ace4-fecb6876e123",
   "metadata": {
    "tags": []
   },
   "outputs": [
    {
     "data": {
      "text/html": [
       "<div>\n",
       "<style scoped>\n",
       "    .dataframe tbody tr th:only-of-type {\n",
       "        vertical-align: middle;\n",
       "    }\n",
       "\n",
       "    .dataframe tbody tr th {\n",
       "        vertical-align: top;\n",
       "    }\n",
       "\n",
       "    .dataframe thead th {\n",
       "        text-align: right;\n",
       "    }\n",
       "</style>\n",
       "<table border=\"1\" class=\"dataframe\">\n",
       "  <thead>\n",
       "    <tr style=\"text-align: right;\">\n",
       "      <th></th>\n",
       "      <th>service_date</th>\n",
       "      <th>schedule_gtfs_dataset_key</th>\n",
       "      <th>route_id</th>\n",
       "      <th>organization_name</th>\n",
       "    </tr>\n",
       "  </thead>\n",
       "  <tbody>\n",
       "    <tr>\n",
       "      <th>7491</th>\n",
       "      <td>2025-03-12</td>\n",
       "      <td>3c62ad6ee589d56eca915ce291a5df0a</td>\n",
       "      <td>138</td>\n",
       "      <td>Yolo County Transportation District</td>\n",
       "    </tr>\n",
       "  </tbody>\n",
       "</table>\n",
       "</div>"
      ],
      "text/plain": [
       "     service_date         schedule_gtfs_dataset_key route_id  \\\n",
       "7491   2025-03-12  3c62ad6ee589d56eca915ce291a5df0a      138   \n",
       "\n",
       "                        organization_name  \n",
       "7491  Yolo County Transportation District  "
      ]
     },
     "execution_count": 42,
     "metadata": {},
     "output_type": "execute_result"
    }
   ],
   "source": [
    "df_avg_speeds.head(1)"
   ]
  },
  {
   "cell_type": "code",
   "execution_count": 43,
   "id": "6010fad7-6b14-4c2f-b8e1-5697142e831a",
   "metadata": {
    "tags": []
   },
   "outputs": [],
   "source": [
    "df_avg_speeds_agg = aggregate_for_yml(\n",
    "    df=df_avg_speeds,\n",
    "    operators_to_keep=ops_kept,\n",
    "    group_cols=[\"service_date\", \"portfolio_name\"],\n",
    "    agg_col=\"route_id\",\n",
    "    agg_type=\"nunique\",\n",
    "    new_col_name=\"merge_data_average_speeds\",\n",
    ")"
   ]
  },
  {
   "cell_type": "markdown",
   "id": "67d406dc-e9a1-4b10-b06b-8b801ead78e9",
   "metadata": {},
   "source": [
    "### `RT vs Schedule`"
   ]
  },
  {
   "cell_type": "code",
   "execution_count": 44,
   "id": "d05fd543-a7e1-44e3-9a65-6d477581d16e",
   "metadata": {
    "tags": []
   },
   "outputs": [],
   "source": [
    "df_rt_sched = merge_data.concatenate_rt_vs_schedule_by_route_direction(date_subset)[\n",
    "    [\"service_date\", \"schedule_gtfs_dataset_key\", \"route_id\"]\n",
    "]"
   ]
  },
  {
   "cell_type": "code",
   "execution_count": 45,
   "id": "2e666442-19b3-41d7-b04d-2623bd7272cc",
   "metadata": {
    "tags": []
   },
   "outputs": [],
   "source": [
    "df_rt_sched = prep_merge_data_script(df_rt_sched, date_subset)"
   ]
  },
  {
   "cell_type": "code",
   "execution_count": 46,
   "id": "ed25bd36-54bd-493c-a0db-ff19b768aed1",
   "metadata": {
    "tags": []
   },
   "outputs": [
    {
     "data": {
      "text/html": [
       "<div>\n",
       "<style scoped>\n",
       "    .dataframe tbody tr th:only-of-type {\n",
       "        vertical-align: middle;\n",
       "    }\n",
       "\n",
       "    .dataframe tbody tr th {\n",
       "        vertical-align: top;\n",
       "    }\n",
       "\n",
       "    .dataframe thead th {\n",
       "        text-align: right;\n",
       "    }\n",
       "</style>\n",
       "<table border=\"1\" class=\"dataframe\">\n",
       "  <thead>\n",
       "    <tr style=\"text-align: right;\">\n",
       "      <th></th>\n",
       "      <th>service_date</th>\n",
       "      <th>schedule_gtfs_dataset_key</th>\n",
       "      <th>route_id</th>\n",
       "      <th>organization_name</th>\n",
       "    </tr>\n",
       "  </thead>\n",
       "  <tbody>\n",
       "    <tr>\n",
       "      <th>15668</th>\n",
       "      <td>2025-02-12</td>\n",
       "      <td>1770249a5a2e770ca90628434d4934b1</td>\n",
       "      <td>3393</td>\n",
       "      <td>City of Ojai</td>\n",
       "    </tr>\n",
       "  </tbody>\n",
       "</table>\n",
       "</div>"
      ],
      "text/plain": [
       "      service_date         schedule_gtfs_dataset_key route_id  \\\n",
       "15668   2025-02-12  1770249a5a2e770ca90628434d4934b1     3393   \n",
       "\n",
       "      organization_name  \n",
       "15668      City of Ojai  "
      ]
     },
     "execution_count": 46,
     "metadata": {},
     "output_type": "execute_result"
    }
   ],
   "source": [
    "df_rt_sched.sample()"
   ]
  },
  {
   "cell_type": "code",
   "execution_count": 47,
   "id": "5b6dca14-5ff6-4990-bb5c-9ca62e504b64",
   "metadata": {
    "tags": []
   },
   "outputs": [],
   "source": [
    "df_rt_sched_agg = aggregate_for_yml(\n",
    "    df=df_rt_sched,\n",
    "    operators_to_keep=ops_kept,\n",
    "    group_cols=[\"service_date\", \"portfolio_name\"],\n",
    "    agg_col=\"route_id\",\n",
    "    agg_type=\"nunique\",\n",
    "    new_col_name=\"merge_data_rt_vs_schedule\",\n",
    ")"
   ]
  },
  {
   "cell_type": "code",
   "execution_count": 48,
   "id": "52a3bf0f-a93f-4fc2-8f90-d4a1b2dc58b7",
   "metadata": {
    "tags": []
   },
   "outputs": [
    {
     "data": {
      "text/html": [
       "<div>\n",
       "<style scoped>\n",
       "    .dataframe tbody tr th:only-of-type {\n",
       "        vertical-align: middle;\n",
       "    }\n",
       "\n",
       "    .dataframe tbody tr th {\n",
       "        vertical-align: top;\n",
       "    }\n",
       "\n",
       "    .dataframe thead th {\n",
       "        text-align: right;\n",
       "    }\n",
       "</style>\n",
       "<table border=\"1\" class=\"dataframe\">\n",
       "  <thead>\n",
       "    <tr style=\"text-align: right;\">\n",
       "      <th></th>\n",
       "      <th>portfolio_name</th>\n",
       "      <th>merge_data_rt_vs_schedule_service_date_routes</th>\n",
       "    </tr>\n",
       "  </thead>\n",
       "  <tbody>\n",
       "    <tr>\n",
       "      <th>0</th>\n",
       "      <td>Alameda-Contra Costa Transit District</td>\n",
       "      <td>2025-01-15: 128 routes</td>\n",
       "    </tr>\n",
       "  </tbody>\n",
       "</table>\n",
       "</div>"
      ],
      "text/plain": [
       "                          portfolio_name  \\\n",
       "0  Alameda-Contra Costa Transit District   \n",
       "\n",
       "  merge_data_rt_vs_schedule_service_date_routes  \n",
       "0                        2025-01-15: 128 routes  "
      ]
     },
     "execution_count": 48,
     "metadata": {},
     "output_type": "execute_result"
    }
   ],
   "source": [
    "df_rt_sched_agg.head(1)"
   ]
  },
  {
   "cell_type": "markdown",
   "id": "4b836b2c-94fc-47b3-a0bc-6c097e88d693",
   "metadata": {},
   "source": [
    "### Unique Routes -> Only relevant for routes that have RT Data."
   ]
  },
  {
   "cell_type": "code",
   "execution_count": 49,
   "id": "fa0e1ff6-bf84-4741-8171-198afe93b35d",
   "metadata": {
    "tags": []
   },
   "outputs": [],
   "source": [
    "# Groupby for # of routes\n",
    "schd_vp_df = pd.read_parquet(_yml_gtfs_digest_orgs.schd_vp_url)"
   ]
  },
  {
   "cell_type": "code",
   "execution_count": 50,
   "id": "ca064368-7ccc-4aa9-8b71-b009d8acaba4",
   "metadata": {
    "tags": []
   },
   "outputs": [],
   "source": [
    "# Filter out for the most recent 3 dates\n",
    "routes_df = schd_vp_df.loc[schd_vp_df.service_date.isin(date_subset)][\n",
    "    [\"service_date\", \"schedule_gtfs_dataset_key\", \"route_id\"]\n",
    "]"
   ]
  },
  {
   "cell_type": "code",
   "execution_count": 51,
   "id": "0ed07f9a-d715-4c9a-8187-0dbbb67e8635",
   "metadata": {
    "tags": []
   },
   "outputs": [],
   "source": [
    "routes_df = prep_merge_data_script(routes_df, date_subset)"
   ]
  },
  {
   "cell_type": "code",
   "execution_count": 52,
   "id": "253edba2-f542-49ba-9759-aba434dc4440",
   "metadata": {
    "tags": []
   },
   "outputs": [],
   "source": [
    "# gtfs_status_df.head(2)"
   ]
  },
  {
   "cell_type": "code",
   "execution_count": 53,
   "id": "61b150ae-7324-4227-80d5-e8f7f9159a50",
   "metadata": {
    "tags": []
   },
   "outputs": [],
   "source": [
    "# gtfs_status_df.loc[gtfs_status_df.organization_name.str.contains(\"Alameda\")]"
   ]
  },
  {
   "cell_type": "code",
   "execution_count": 54,
   "id": "c570b503-2b2f-416d-be2d-43694725e722",
   "metadata": {
    "tags": []
   },
   "outputs": [],
   "source": [
    "# routes_df2 = pd.merge(routes_df, gtfs_status_df, on=[\"organization_name\"])"
   ]
  },
  {
   "cell_type": "code",
   "execution_count": 55,
   "id": "aa568ba8-0e67-4028-a782-186e41f7b62a",
   "metadata": {
    "tags": []
   },
   "outputs": [],
   "source": [
    "routes_agg = aggregate_for_yml(\n",
    "    df=routes_df,\n",
    "    operators_to_keep=ops_kept,\n",
    "    group_cols=[\"service_date\", \"portfolio_name\"],\n",
    "    agg_col=\"route_id\",\n",
    "    agg_type=\"nunique\",\n",
    "    new_col_name=\"nunique_routes\",\n",
    ")"
   ]
  },
  {
   "cell_type": "code",
   "execution_count": 56,
   "id": "f8ded33e-8f08-43b4-adf5-709294946d0e",
   "metadata": {
    "tags": []
   },
   "outputs": [
    {
     "data": {
      "text/html": [
       "<div>\n",
       "<style scoped>\n",
       "    .dataframe tbody tr th:only-of-type {\n",
       "        vertical-align: middle;\n",
       "    }\n",
       "\n",
       "    .dataframe tbody tr th {\n",
       "        vertical-align: top;\n",
       "    }\n",
       "\n",
       "    .dataframe thead th {\n",
       "        text-align: right;\n",
       "    }\n",
       "</style>\n",
       "<table border=\"1\" class=\"dataframe\">\n",
       "  <thead>\n",
       "    <tr style=\"text-align: right;\">\n",
       "      <th></th>\n",
       "      <th>portfolio_name</th>\n",
       "      <th>nunique_routes_service_date_routes</th>\n",
       "    </tr>\n",
       "  </thead>\n",
       "  <tbody>\n",
       "    <tr>\n",
       "      <th>0</th>\n",
       "      <td>Alameda-Contra Costa Transit District</td>\n",
       "      <td>2025-01-15: 130 routes</td>\n",
       "    </tr>\n",
       "    <tr>\n",
       "      <th>165</th>\n",
       "      <td>Alameda-Contra Costa Transit District</td>\n",
       "      <td>2025-02-12: 130 routes</td>\n",
       "    </tr>\n",
       "  </tbody>\n",
       "</table>\n",
       "</div>"
      ],
      "text/plain": [
       "                            portfolio_name nunique_routes_service_date_routes\n",
       "0    Alameda-Contra Costa Transit District             2025-01-15: 130 routes\n",
       "165  Alameda-Contra Costa Transit District             2025-02-12: 130 routes"
      ]
     },
     "execution_count": 56,
     "metadata": {},
     "output_type": "execute_result"
    }
   ],
   "source": [
    "routes_agg.head(2)"
   ]
  },
  {
   "cell_type": "markdown",
   "id": "c744a838-7186-48f0-a2fd-90ba12b9e5c1",
   "metadata": {},
   "source": [
    "### Merge them"
   ]
  },
  {
   "cell_type": "code",
   "execution_count": 57,
   "id": "e0f33c98-302c-4407-a0bf-342aefbbcd7c",
   "metadata": {
    "tags": []
   },
   "outputs": [
    {
     "data": {
      "text/html": [
       "<div>\n",
       "<style scoped>\n",
       "    .dataframe tbody tr th:only-of-type {\n",
       "        vertical-align: middle;\n",
       "    }\n",
       "\n",
       "    .dataframe tbody tr th {\n",
       "        vertical-align: top;\n",
       "    }\n",
       "\n",
       "    .dataframe thead th {\n",
       "        text-align: right;\n",
       "    }\n",
       "</style>\n",
       "<table border=\"1\" class=\"dataframe\">\n",
       "  <thead>\n",
       "    <tr style=\"text-align: right;\">\n",
       "      <th></th>\n",
       "      <th>portfolio_name</th>\n",
       "      <th>nunique_routes_service_date_routes</th>\n",
       "    </tr>\n",
       "  </thead>\n",
       "  <tbody>\n",
       "    <tr>\n",
       "      <th>407</th>\n",
       "      <td>City of South San Francisco</td>\n",
       "      <td>2025-03-12: 6 routes</td>\n",
       "    </tr>\n",
       "  </tbody>\n",
       "</table>\n",
       "</div>"
      ],
      "text/plain": [
       "                  portfolio_name nunique_routes_service_date_routes\n",
       "407  City of South San Francisco               2025-03-12: 6 routes"
      ]
     },
     "execution_count": 57,
     "metadata": {},
     "output_type": "execute_result"
    }
   ],
   "source": [
    "routes_agg.sample()"
   ]
  },
  {
   "cell_type": "code",
   "execution_count": 58,
   "id": "50154eec-a1bb-41b9-9a36-0a696fb5df8e",
   "metadata": {
    "tags": []
   },
   "outputs": [
    {
     "data": {
      "text/html": [
       "<div>\n",
       "<style scoped>\n",
       "    .dataframe tbody tr th:only-of-type {\n",
       "        vertical-align: middle;\n",
       "    }\n",
       "\n",
       "    .dataframe tbody tr th {\n",
       "        vertical-align: top;\n",
       "    }\n",
       "\n",
       "    .dataframe thead th {\n",
       "        text-align: right;\n",
       "    }\n",
       "</style>\n",
       "<table border=\"1\" class=\"dataframe\">\n",
       "  <thead>\n",
       "    <tr style=\"text-align: right;\">\n",
       "      <th></th>\n",
       "      <th>portfolio_name</th>\n",
       "      <th>organization_name</th>\n",
       "      <th>routes_geometry_service_date_routes</th>\n",
       "    </tr>\n",
       "  </thead>\n",
       "  <tbody>\n",
       "    <tr>\n",
       "      <th>227</th>\n",
       "      <td>City of Los Angeles</td>\n",
       "      <td>City of Los Angeles</td>\n",
       "      <td>2025-02-12: 63 routes</td>\n",
       "    </tr>\n",
       "  </tbody>\n",
       "</table>\n",
       "</div>"
      ],
      "text/plain": [
       "          portfolio_name    organization_name  \\\n",
       "227  City of Los Angeles  City of Los Angeles   \n",
       "\n",
       "    routes_geometry_service_date_routes  \n",
       "227               2025-02-12: 63 routes  "
      ]
     },
     "execution_count": 58,
     "metadata": {},
     "output_type": "execute_result"
    }
   ],
   "source": [
    "op_routes_agg.sample()"
   ]
  },
  {
   "cell_type": "code",
   "execution_count": 59,
   "id": "812b2022-ca80-4fb5-8b89-7d22ab1a70c1",
   "metadata": {
    "tags": []
   },
   "outputs": [
    {
     "data": {
      "text/html": [
       "<div>\n",
       "<style scoped>\n",
       "    .dataframe tbody tr th:only-of-type {\n",
       "        vertical-align: middle;\n",
       "    }\n",
       "\n",
       "    .dataframe tbody tr th {\n",
       "        vertical-align: top;\n",
       "    }\n",
       "\n",
       "    .dataframe thead th {\n",
       "        text-align: right;\n",
       "    }\n",
       "</style>\n",
       "<table border=\"1\" class=\"dataframe\">\n",
       "  <thead>\n",
       "    <tr style=\"text-align: right;\">\n",
       "      <th></th>\n",
       "      <th>portfolio_name</th>\n",
       "      <th>merge_data_schedule_service_date_routes</th>\n",
       "    </tr>\n",
       "  </thead>\n",
       "  <tbody>\n",
       "    <tr>\n",
       "      <th>394</th>\n",
       "      <td>City of Redondo Beach</td>\n",
       "      <td>2025-03-12: 2 routes</td>\n",
       "    </tr>\n",
       "  </tbody>\n",
       "</table>\n",
       "</div>"
      ],
      "text/plain": [
       "            portfolio_name merge_data_schedule_service_date_routes\n",
       "394  City of Redondo Beach                    2025-03-12: 2 routes"
      ]
     },
     "execution_count": 59,
     "metadata": {},
     "output_type": "execute_result"
    }
   ],
   "source": [
    "df_sched_agg.sample()"
   ]
  },
  {
   "cell_type": "code",
   "execution_count": 60,
   "id": "f32eeef5-9cbd-4cb5-a617-194f82cd90e3",
   "metadata": {
    "tags": []
   },
   "outputs": [
    {
     "data": {
      "text/html": [
       "<div>\n",
       "<style scoped>\n",
       "    .dataframe tbody tr th:only-of-type {\n",
       "        vertical-align: middle;\n",
       "    }\n",
       "\n",
       "    .dataframe tbody tr th {\n",
       "        vertical-align: top;\n",
       "    }\n",
       "\n",
       "    .dataframe thead th {\n",
       "        text-align: right;\n",
       "    }\n",
       "</style>\n",
       "<table border=\"1\" class=\"dataframe\">\n",
       "  <thead>\n",
       "    <tr style=\"text-align: right;\">\n",
       "      <th></th>\n",
       "      <th>portfolio_name</th>\n",
       "      <th>merge_data_average_speeds_service_date_routes</th>\n",
       "    </tr>\n",
       "  </thead>\n",
       "  <tbody>\n",
       "    <tr>\n",
       "      <th>84</th>\n",
       "      <td>City of Banning</td>\n",
       "      <td>2025-02-12: 2 routes</td>\n",
       "    </tr>\n",
       "  </tbody>\n",
       "</table>\n",
       "</div>"
      ],
      "text/plain": [
       "     portfolio_name merge_data_average_speeds_service_date_routes\n",
       "84  City of Banning                          2025-02-12: 2 routes"
      ]
     },
     "execution_count": 60,
     "metadata": {},
     "output_type": "execute_result"
    }
   ],
   "source": [
    "df_avg_speeds_agg.sample()"
   ]
  },
  {
   "cell_type": "code",
   "execution_count": 61,
   "id": "e23f1fff-9838-4917-b3d8-5918399541a2",
   "metadata": {
    "tags": []
   },
   "outputs": [
    {
     "data": {
      "text/html": [
       "<div>\n",
       "<style scoped>\n",
       "    .dataframe tbody tr th:only-of-type {\n",
       "        vertical-align: middle;\n",
       "    }\n",
       "\n",
       "    .dataframe tbody tr th {\n",
       "        vertical-align: top;\n",
       "    }\n",
       "\n",
       "    .dataframe thead th {\n",
       "        text-align: right;\n",
       "    }\n",
       "</style>\n",
       "<table border=\"1\" class=\"dataframe\">\n",
       "  <thead>\n",
       "    <tr style=\"text-align: right;\">\n",
       "      <th></th>\n",
       "      <th>portfolio_name</th>\n",
       "      <th>merge_data_rt_vs_schedule_service_date_routes</th>\n",
       "    </tr>\n",
       "  </thead>\n",
       "  <tbody>\n",
       "    <tr>\n",
       "      <th>87</th>\n",
       "      <td>University of California, Davis</td>\n",
       "      <td>2025-01-15: 19 routes</td>\n",
       "    </tr>\n",
       "  </tbody>\n",
       "</table>\n",
       "</div>"
      ],
      "text/plain": [
       "                     portfolio_name  \\\n",
       "87  University of California, Davis   \n",
       "\n",
       "   merge_data_rt_vs_schedule_service_date_routes  \n",
       "87                         2025-01-15: 19 routes  "
      ]
     },
     "execution_count": 61,
     "metadata": {},
     "output_type": "execute_result"
    }
   ],
   "source": [
    "df_rt_sched_agg.sample()"
   ]
  },
  {
   "cell_type": "code",
   "execution_count": 62,
   "id": "5e9a30de-56cd-4d70-a42b-c23daa1d3c19",
   "metadata": {
    "tags": []
   },
   "outputs": [
    {
     "data": {
      "text/html": [
       "<div>\n",
       "<style scoped>\n",
       "    .dataframe tbody tr th:only-of-type {\n",
       "        vertical-align: middle;\n",
       "    }\n",
       "\n",
       "    .dataframe tbody tr th {\n",
       "        vertical-align: top;\n",
       "    }\n",
       "\n",
       "    .dataframe thead th {\n",
       "        text-align: right;\n",
       "    }\n",
       "</style>\n",
       "<table border=\"1\" class=\"dataframe\">\n",
       "  <thead>\n",
       "    <tr style=\"text-align: right;\">\n",
       "      <th></th>\n",
       "      <th>portfolio_name</th>\n",
       "      <th>nunique_routes_service_date_routes</th>\n",
       "    </tr>\n",
       "  </thead>\n",
       "  <tbody>\n",
       "    <tr>\n",
       "      <th>365</th>\n",
       "      <td>City of El Monte</td>\n",
       "      <td>2025-03-12: 7 routes</td>\n",
       "    </tr>\n",
       "  </tbody>\n",
       "</table>\n",
       "</div>"
      ],
      "text/plain": [
       "       portfolio_name nunique_routes_service_date_routes\n",
       "365  City of El Monte               2025-03-12: 7 routes"
      ]
     },
     "execution_count": 62,
     "metadata": {},
     "output_type": "execute_result"
    }
   ],
   "source": [
    "routes_agg.sample()"
   ]
  },
  {
   "cell_type": "code",
   "execution_count": 63,
   "id": "87b0ddf2-f393-4cef-b286-a75f5433055f",
   "metadata": {
    "tags": []
   },
   "outputs": [
    {
     "data": {
      "text/html": [
       "<div>\n",
       "<style scoped>\n",
       "    .dataframe tbody tr th:only-of-type {\n",
       "        vertical-align: middle;\n",
       "    }\n",
       "\n",
       "    .dataframe tbody tr th {\n",
       "        vertical-align: top;\n",
       "    }\n",
       "\n",
       "    .dataframe thead th {\n",
       "        text-align: right;\n",
       "    }\n",
       "</style>\n",
       "<table border=\"1\" class=\"dataframe\">\n",
       "  <thead>\n",
       "    <tr style=\"text-align: right;\">\n",
       "      <th></th>\n",
       "      <th>sched_rt_category</th>\n",
       "      <th>portfolio_name</th>\n",
       "      <th>organization_name</th>\n",
       "    </tr>\n",
       "  </thead>\n",
       "  <tbody>\n",
       "    <tr>\n",
       "      <th>0</th>\n",
       "      <td>schedule_and_vp</td>\n",
       "      <td>Humboldt Schedule</td>\n",
       "      <td>City of Arcata</td>\n",
       "    </tr>\n",
       "  </tbody>\n",
       "</table>\n",
       "</div>"
      ],
      "text/plain": [
       "  sched_rt_category     portfolio_name organization_name\n",
       "0   schedule_and_vp  Humboldt Schedule    City of Arcata"
      ]
     },
     "execution_count": 63,
     "metadata": {},
     "output_type": "execute_result"
    }
   ],
   "source": [
    "gtfs_status_df.head(1)"
   ]
  },
  {
   "cell_type": "code",
   "execution_count": 64,
   "id": "f68c5703-ad66-4267-915a-7304e363ad33",
   "metadata": {
    "tags": []
   },
   "outputs": [
    {
     "data": {
      "text/html": [
       "<div>\n",
       "<style scoped>\n",
       "    .dataframe tbody tr th:only-of-type {\n",
       "        vertical-align: middle;\n",
       "    }\n",
       "\n",
       "    .dataframe tbody tr th {\n",
       "        vertical-align: top;\n",
       "    }\n",
       "\n",
       "    .dataframe thead th {\n",
       "        text-align: right;\n",
       "    }\n",
       "</style>\n",
       "<table border=\"1\" class=\"dataframe\">\n",
       "  <thead>\n",
       "    <tr style=\"text-align: right;\">\n",
       "      <th></th>\n",
       "      <th>schedule_gtfs_dataset_key</th>\n",
       "      <th>portfolio_name</th>\n",
       "      <th>operator_profile_ntd_info_service_date_routes</th>\n",
       "    </tr>\n",
       "  </thead>\n",
       "  <tbody>\n",
       "    <tr>\n",
       "      <th>299</th>\n",
       "      <td>d6d11b790b4c9c68760d46c4a7ee8a0c</td>\n",
       "      <td>Sacramento County</td>\n",
       "      <td>2025-02-12: 3.0 routes</td>\n",
       "    </tr>\n",
       "  </tbody>\n",
       "</table>\n",
       "</div>"
      ],
      "text/plain": [
       "            schedule_gtfs_dataset_key     portfolio_name  \\\n",
       "299  d6d11b790b4c9c68760d46c4a7ee8a0c  Sacramento County   \n",
       "\n",
       "    operator_profile_ntd_info_service_date_routes  \n",
       "299                        2025-02-12: 3.0 routes  "
      ]
     },
     "execution_count": 64,
     "metadata": {},
     "output_type": "execute_result"
    }
   ],
   "source": [
    "op_profiles_agg.sample()"
   ]
  },
  {
   "cell_type": "code",
   "execution_count": 65,
   "id": "68821128-241f-45fe-b830-a800cfe33112",
   "metadata": {
    "tags": []
   },
   "outputs": [
    {
     "data": {
      "text/html": [
       "<div>\n",
       "<style scoped>\n",
       "    .dataframe tbody tr th:only-of-type {\n",
       "        vertical-align: middle;\n",
       "    }\n",
       "\n",
       "    .dataframe tbody tr th {\n",
       "        vertical-align: top;\n",
       "    }\n",
       "\n",
       "    .dataframe thead th {\n",
       "        text-align: right;\n",
       "    }\n",
       "</style>\n",
       "<table border=\"1\" class=\"dataframe\">\n",
       "  <thead>\n",
       "    <tr style=\"text-align: right;\">\n",
       "      <th></th>\n",
       "      <th>portfolio_name</th>\n",
       "      <th>scheduled_service_hours_service_date_routes</th>\n",
       "    </tr>\n",
       "  </thead>\n",
       "  <tbody>\n",
       "    <tr>\n",
       "      <th>244</th>\n",
       "      <td>Kings County Area Public Transit Agency</td>\n",
       "      <td>2023-10: 14 hours</td>\n",
       "    </tr>\n",
       "  </tbody>\n",
       "</table>\n",
       "</div>"
      ],
      "text/plain": [
       "                              portfolio_name  \\\n",
       "244  Kings County Area Public Transit Agency   \n",
       "\n",
       "    scheduled_service_hours_service_date_routes  \n",
       "244                           2023-10: 14 hours  "
      ]
     },
     "execution_count": 65,
     "metadata": {},
     "output_type": "execute_result"
    }
   ],
   "source": [
    "scheduled_service_hours_agg.sample()"
   ]
  },
  {
   "cell_type": "code",
   "execution_count": 66,
   "id": "0342692c-61e3-4f38-b8f9-3a635fa8ae53",
   "metadata": {
    "scrolled": true,
    "tags": []
   },
   "outputs": [],
   "source": [
    "m1 = (\n",
    "    pd.merge(op_routes_agg, op_profiles_agg, how=\"outer\")\n",
    "    .merge(scheduled_service_hours_agg, how=\"outer\")\n",
    "    .merge(df_sched_agg, how=\"outer\")\n",
    "    .merge(df_avg_speeds_agg, how=\"outer\")\n",
    "    .merge(df_rt_sched_agg, how=\"outer\")\n",
    "    .merge(routes_agg, how=\"outer\")\n",
    ")"
   ]
  },
  {
   "cell_type": "code",
   "execution_count": 67,
   "id": "84b5863f-e20b-4f1f-bdff-e97f03ba63ce",
   "metadata": {
    "tags": []
   },
   "outputs": [
    {
     "data": {
      "text/plain": [
       "126064"
      ]
     },
     "execution_count": 67,
     "metadata": {},
     "output_type": "execute_result"
    }
   ],
   "source": [
    "len(m1)"
   ]
  },
  {
   "cell_type": "code",
   "execution_count": 68,
   "id": "0d9cad10-964f-4510-b090-6659f54452c5",
   "metadata": {
    "tags": []
   },
   "outputs": [],
   "source": [
    "gtfs_status_df2 = gtfs_status_df.drop_duplicates(subset=[\"portfolio_name\"])"
   ]
  },
  {
   "cell_type": "code",
   "execution_count": 69,
   "id": "1f28a0e8-fec2-4199-9a0c-0c8f3a30f144",
   "metadata": {
    "tags": []
   },
   "outputs": [
    {
     "data": {
      "text/html": [
       "<div>\n",
       "<style scoped>\n",
       "    .dataframe tbody tr th:only-of-type {\n",
       "        vertical-align: middle;\n",
       "    }\n",
       "\n",
       "    .dataframe tbody tr th {\n",
       "        vertical-align: top;\n",
       "    }\n",
       "\n",
       "    .dataframe thead th {\n",
       "        text-align: right;\n",
       "    }\n",
       "</style>\n",
       "<table border=\"1\" class=\"dataframe\">\n",
       "  <thead>\n",
       "    <tr style=\"text-align: right;\">\n",
       "      <th></th>\n",
       "      <th>sched_rt_category</th>\n",
       "      <th>portfolio_name</th>\n",
       "      <th>organization_name</th>\n",
       "    </tr>\n",
       "  </thead>\n",
       "  <tbody>\n",
       "    <tr>\n",
       "      <th>37</th>\n",
       "      <td>schedule_only</td>\n",
       "      <td>City and County of San Francisco</td>\n",
       "      <td>City and County of San Francisco</td>\n",
       "    </tr>\n",
       "  </tbody>\n",
       "</table>\n",
       "</div>"
      ],
      "text/plain": [
       "   sched_rt_category                    portfolio_name  \\\n",
       "37     schedule_only  City and County of San Francisco   \n",
       "\n",
       "                   organization_name  \n",
       "37  City and County of San Francisco  "
      ]
     },
     "execution_count": 69,
     "metadata": {},
     "output_type": "execute_result"
    }
   ],
   "source": [
    "gtfs_status_df.loc[gtfs_status_df.portfolio_name.str.contains(\"City and County of San Francisco\")]"
   ]
  },
  {
   "cell_type": "code",
   "execution_count": 70,
   "id": "0f9f3e5a-55a8-49b3-9905-cc051c7373dc",
   "metadata": {
    "tags": []
   },
   "outputs": [
    {
     "data": {
      "text/plain": [
       "(185, 185)"
      ]
     },
     "execution_count": 70,
     "metadata": {},
     "output_type": "execute_result"
    }
   ],
   "source": [
    "len(gtfs_status_df2), gtfs_status_df2.portfolio_name.nunique()"
   ]
  },
  {
   "cell_type": "code",
   "execution_count": 71,
   "id": "117b32e3-1e7a-4f7a-b4f0-c8904ef822e9",
   "metadata": {
    "tags": []
   },
   "outputs": [],
   "source": [
    "m2 = pd.merge(m1, gtfs_status_df2, on=[\"portfolio_name\"], how=\"left\")"
   ]
  },
  {
   "cell_type": "code",
   "execution_count": 72,
   "id": "98aa277a-188e-4c1b-890b-173dd7e2ebc1",
   "metadata": {
    "tags": []
   },
   "outputs": [],
   "source": [
    "m2[\"portfolio_name_gtfs\"] = (\n",
    "    m2.portfolio_name + \": \" + m2.sched_rt_category.astype(str).fillna(\"vp_only\")\n",
    ")"
   ]
  },
  {
   "cell_type": "code",
   "execution_count": 73,
   "id": "27686233-54b0-4468-9405-68dba35d966d",
   "metadata": {
    "tags": []
   },
   "outputs": [],
   "source": [
    "m2 = m2.sort_values(by=[\"portfolio_name_gtfs\"])"
   ]
  },
  {
   "cell_type": "code",
   "execution_count": 74,
   "id": "ca192a25-b0ba-4270-89ea-0040d8cdf518",
   "metadata": {},
   "outputs": [],
   "source": [
    "date_cols = [col for col in m2.columns if \"_date\" in col]\n",
    "for col in date_cols:\n",
    "    m2[col] = m2[col].str.replace(\"NaT\", \"Not Available\")\n",
    "    m2[col] = m2[col].str.replace(\"NaN\", \"Not Available\")\n",
    "    m2[col] = m2[col].fillna(\"Not Available\")"
   ]
  },
  {
   "cell_type": "code",
   "execution_count": 75,
   "id": "e4b77f7a-9631-4728-a588-668cbdab1ee5",
   "metadata": {
    "tags": []
   },
   "outputs": [
    {
     "data": {
      "text/html": [
       "<div>\n",
       "<style scoped>\n",
       "    .dataframe tbody tr th:only-of-type {\n",
       "        vertical-align: middle;\n",
       "    }\n",
       "\n",
       "    .dataframe tbody tr th {\n",
       "        vertical-align: top;\n",
       "    }\n",
       "\n",
       "    .dataframe thead th {\n",
       "        text-align: right;\n",
       "    }\n",
       "</style>\n",
       "<table border=\"1\" class=\"dataframe\">\n",
       "  <thead>\n",
       "    <tr style=\"text-align: right;\">\n",
       "      <th></th>\n",
       "      <th>126037</th>\n",
       "      <th>126036</th>\n",
       "    </tr>\n",
       "  </thead>\n",
       "  <tbody>\n",
       "    <tr>\n",
       "      <th>portfolio_name</th>\n",
       "      <td>City of Avalon</td>\n",
       "      <td>City of Avalon</td>\n",
       "    </tr>\n",
       "    <tr>\n",
       "      <th>organization_name_x</th>\n",
       "      <td>NaN</td>\n",
       "      <td>NaN</td>\n",
       "    </tr>\n",
       "    <tr>\n",
       "      <th>routes_geometry_service_date_routes</th>\n",
       "      <td>Not Available</td>\n",
       "      <td>Not Available</td>\n",
       "    </tr>\n",
       "    <tr>\n",
       "      <th>schedule_gtfs_dataset_key</th>\n",
       "      <td>NaN</td>\n",
       "      <td>NaN</td>\n",
       "    </tr>\n",
       "    <tr>\n",
       "      <th>operator_profile_ntd_info_service_date_routes</th>\n",
       "      <td>Not Available</td>\n",
       "      <td>Not Available</td>\n",
       "    </tr>\n",
       "    <tr>\n",
       "      <th>scheduled_service_hours_service_date_routes</th>\n",
       "      <td>2023-10: 10 hours</td>\n",
       "      <td>2023-04: 10 hours</td>\n",
       "    </tr>\n",
       "    <tr>\n",
       "      <th>merge_data_schedule_service_date_routes</th>\n",
       "      <td>Not Available</td>\n",
       "      <td>Not Available</td>\n",
       "    </tr>\n",
       "    <tr>\n",
       "      <th>merge_data_average_speeds_service_date_routes</th>\n",
       "      <td>Not Available</td>\n",
       "      <td>Not Available</td>\n",
       "    </tr>\n",
       "    <tr>\n",
       "      <th>merge_data_rt_vs_schedule_service_date_routes</th>\n",
       "      <td>Not Available</td>\n",
       "      <td>Not Available</td>\n",
       "    </tr>\n",
       "    <tr>\n",
       "      <th>nunique_routes_service_date_routes</th>\n",
       "      <td>Not Available</td>\n",
       "      <td>Not Available</td>\n",
       "    </tr>\n",
       "    <tr>\n",
       "      <th>sched_rt_category</th>\n",
       "      <td>schedule_and_vp</td>\n",
       "      <td>schedule_and_vp</td>\n",
       "    </tr>\n",
       "    <tr>\n",
       "      <th>organization_name_y</th>\n",
       "      <td>City of Avalon</td>\n",
       "      <td>City of Avalon</td>\n",
       "    </tr>\n",
       "    <tr>\n",
       "      <th>portfolio_name_gtfs</th>\n",
       "      <td>City of Avalon: schedule_and_vp</td>\n",
       "      <td>City of Avalon: schedule_and_vp</td>\n",
       "    </tr>\n",
       "  </tbody>\n",
       "</table>\n",
       "</div>"
      ],
      "text/plain": [
       "                                                                        126037  \\\n",
       "portfolio_name                                                  City of Avalon   \n",
       "organization_name_x                                                        NaN   \n",
       "routes_geometry_service_date_routes                              Not Available   \n",
       "schedule_gtfs_dataset_key                                                  NaN   \n",
       "operator_profile_ntd_info_service_date_routes                    Not Available   \n",
       "scheduled_service_hours_service_date_routes                  2023-10: 10 hours   \n",
       "merge_data_schedule_service_date_routes                          Not Available   \n",
       "merge_data_average_speeds_service_date_routes                    Not Available   \n",
       "merge_data_rt_vs_schedule_service_date_routes                    Not Available   \n",
       "nunique_routes_service_date_routes                               Not Available   \n",
       "sched_rt_category                                              schedule_and_vp   \n",
       "organization_name_y                                             City of Avalon   \n",
       "portfolio_name_gtfs                            City of Avalon: schedule_and_vp   \n",
       "\n",
       "                                                                        126036  \n",
       "portfolio_name                                                  City of Avalon  \n",
       "organization_name_x                                                        NaN  \n",
       "routes_geometry_service_date_routes                              Not Available  \n",
       "schedule_gtfs_dataset_key                                                  NaN  \n",
       "operator_profile_ntd_info_service_date_routes                    Not Available  \n",
       "scheduled_service_hours_service_date_routes                  2023-04: 10 hours  \n",
       "merge_data_schedule_service_date_routes                          Not Available  \n",
       "merge_data_average_speeds_service_date_routes                    Not Available  \n",
       "merge_data_rt_vs_schedule_service_date_routes                    Not Available  \n",
       "nunique_routes_service_date_routes                               Not Available  \n",
       "sched_rt_category                                              schedule_and_vp  \n",
       "organization_name_y                                             City of Avalon  \n",
       "portfolio_name_gtfs                            City of Avalon: schedule_and_vp  "
      ]
     },
     "execution_count": 75,
     "metadata": {},
     "output_type": "execute_result"
    }
   ],
   "source": [
    "m2.loc[m2.portfolio_name.str.contains(\"City of Avalon\")].T"
   ]
  },
  {
   "cell_type": "code",
   "execution_count": 76,
   "id": "ffc6aa83-3dc9-42cb-ab3c-56e6e08a7623",
   "metadata": {
    "tags": []
   },
   "outputs": [
    {
     "data": {
      "text/plain": [
       "(126064, 126064)"
      ]
     },
     "execution_count": 76,
     "metadata": {},
     "output_type": "execute_result"
    }
   ],
   "source": [
    "len(m2), len(m2.drop_duplicates())"
   ]
  },
  {
   "cell_type": "code",
   "execution_count": 77,
   "id": "d8334531-b7db-4149-a9b4-72646c16e007",
   "metadata": {
    "tags": []
   },
   "outputs": [
    {
     "data": {
      "text/plain": [
       "Index(['portfolio_name', 'organization_name_x',\n",
       "       'routes_geometry_service_date_routes', 'schedule_gtfs_dataset_key',\n",
       "       'operator_profile_ntd_info_service_date_routes',\n",
       "       'scheduled_service_hours_service_date_routes',\n",
       "       'merge_data_schedule_service_date_routes',\n",
       "       'merge_data_average_speeds_service_date_routes',\n",
       "       'merge_data_rt_vs_schedule_service_date_routes',\n",
       "       'nunique_routes_service_date_routes', 'sched_rt_category',\n",
       "       'organization_name_y', 'portfolio_name_gtfs'],\n",
       "      dtype='object')"
      ]
     },
     "execution_count": 77,
     "metadata": {},
     "output_type": "execute_result"
    }
   ],
   "source": [
    "m2.columns"
   ]
  },
  {
   "cell_type": "code",
   "execution_count": 78,
   "id": "3e503756-4b71-463f-8f4d-f5fd4e9b7c68",
   "metadata": {
    "scrolled": true,
    "tags": []
   },
   "outputs": [],
   "source": [
    "melt1 = pd.melt(\n",
    "    m2,\n",
    "    id_vars=[\n",
    "        \"portfolio_name_gtfs\",\n",
    "    ],\n",
    "    value_vars=[\n",
    "       'routes_geometry_service_date_routes', \n",
    "       'operator_profile_ntd_info_service_date_routes',\n",
    "       'scheduled_service_hours_service_date_routes',\n",
    "       'merge_data_schedule_service_date_routes',\n",
    "       'merge_data_average_speeds_service_date_routes',\n",
    "       'merge_data_rt_vs_schedule_service_date_routes',\n",
    "       'nunique_routes_service_date_routes', \n",
    "    ],\n",
    ")"
   ]
  },
  {
   "cell_type": "code",
   "execution_count": 79,
   "id": "52182e30-622b-425d-b304-e8d3c7401ec7",
   "metadata": {
    "tags": []
   },
   "outputs": [],
   "source": [
    "melt2 = melt1.drop_duplicates(subset=[\"portfolio_name_gtfs\", \"variable\", \"value\"])"
   ]
  },
  {
   "cell_type": "code",
   "execution_count": 80,
   "id": "2167a613-2ca1-4afc-81b6-1e8658ff46ea",
   "metadata": {
    "tags": []
   },
   "outputs": [
    {
     "data": {
      "text/plain": [
       "(882448, 3079)"
      ]
     },
     "execution_count": 80,
     "metadata": {},
     "output_type": "execute_result"
    }
   ],
   "source": [
    "len(melt1), len(melt2)"
   ]
  },
  {
   "cell_type": "code",
   "execution_count": 81,
   "id": "3510c1dd-8125-4c44-9766-fca17491e162",
   "metadata": {
    "scrolled": true,
    "tags": []
   },
   "outputs": [],
   "source": [
    "# melt2.loc[melt2.portfolio_name_gtfs.str.contains(\"Alameda-Contra Costa Transit District\")]"
   ]
  },
  {
   "cell_type": "code",
   "execution_count": 82,
   "id": "7fa08687-bf83-4bfb-81d9-51f577f9b73b",
   "metadata": {},
   "outputs": [
    {
     "name": "stderr",
     "output_type": "stream",
     "text": [
      "/tmp/ipykernel_1904/197403838.py:1: SettingWithCopyWarning: \n",
      "A value is trying to be set on a copy of a slice from a DataFrame.\n",
      "Try using .loc[row_indexer,col_indexer] = value instead\n",
      "\n",
      "See the caveats in the documentation: https://pandas.pydata.org/pandas-docs/stable/user_guide/indexing.html#returning-a-view-versus-a-copy\n",
      "  melt2.variable = melt2.variable.str.replace(\"nan\", \"Not Available\").str.replace(\n"
     ]
    }
   ],
   "source": [
    "melt2.variable = melt2.variable.str.replace(\"nan\", \"Not Available\").str.replace(\n",
    "    \"NaT\", \"Not Available\"\n",
    ")"
   ]
  },
  {
   "cell_type": "code",
   "execution_count": 83,
   "id": "261bd56e-8a7b-4b77-8cd0-72ff75471750",
   "metadata": {
    "tags": []
   },
   "outputs": [],
   "source": [
    "# ac_transit_test = melt2.loc[melt2.portfolio_name_gtfs.str.contains(\"Alameda-Contra Costa Transit District: schedule_and_vp\")]"
   ]
  },
  {
   "cell_type": "code",
   "execution_count": 84,
   "id": "46ff81f9-75c6-4e6f-92d6-4b6ba1e5e4b1",
   "metadata": {
    "tags": []
   },
   "outputs": [],
   "source": [
    "# ac_transit_test = ac_transit_test.sort_values(by = [\"portfolio_name_gtfs\", \"variable\", \"value\"])"
   ]
  },
  {
   "cell_type": "code",
   "execution_count": 85,
   "id": "c1ac3e53-7bef-459e-b750-c08c8f771a88",
   "metadata": {
    "scrolled": true,
    "tags": []
   },
   "outputs": [],
   "source": [
    "# ac_transit_test"
   ]
  },
  {
   "cell_type": "code",
   "execution_count": 86,
   "id": "6890b048-5857-4380-82f1-3e92e5a1fa92",
   "metadata": {
    "tags": []
   },
   "outputs": [],
   "source": [
    "title = \"Displaying the availability and count of unique routes for each dataset that goes into creating the operator grain GTFS Digest\""
   ]
  },
  {
   "cell_type": "code",
   "execution_count": 87,
   "id": "fdcfe11e-6ff4-4286-af24-a1ca9eadba14",
   "metadata": {
    "tags": []
   },
   "outputs": [],
   "source": [
    "melt2 = melt2.sort_values(by = [\"portfolio_name_gtfs\", \"variable\", \"value\"])"
   ]
  },
  {
   "cell_type": "code",
   "execution_count": 88,
   "id": "fe9d37a1-0b02-4bef-a91e-5ea6335541dd",
   "metadata": {
    "tags": []
   },
   "outputs": [],
   "source": [
    "result = {}\n",
    "for category, category_df in melt2.groupby(\"portfolio_name_gtfs\"):\n",
    "    category_result = {}\n",
    "    for organization, organization_df in category_df.groupby(\"variable\"):\n",
    "        # Sort the dates before writing them to the YML file\n",
    "        sorted_dates = organization_df[\"value\"].tolist()\n",
    "        category_result[organization] = sorted_dates\n",
    "    result[category] = category_result\n",
    "# Save to YAML file\n",
    "with open(\"../_shared_utils/shared_utils/gtfs_digest_completion.yml\", \"w\") as f:\n",
    "    f.write(f\"# {title}\\n\\n\")\n",
    "    yaml.dump(result, f, default_flow_style=False)"
   ]
  },
  {
   "cell_type": "code",
   "execution_count": null,
   "id": "08313a76-102a-4def-a626-3e4da81d42ff",
   "metadata": {},
   "outputs": [],
   "source": []
  }
 ],
 "metadata": {
  "kernelspec": {
   "display_name": "Python 3 (ipykernel)",
   "language": "python",
   "name": "python3"
  },
  "language_info": {
   "codemirror_mode": {
    "name": "ipython",
    "version": 3
   },
   "file_extension": ".py",
   "mimetype": "text/x-python",
   "name": "python",
   "nbconvert_exporter": "python",
   "pygments_lexer": "ipython3",
   "version": "3.11.10"
  }
 },
 "nbformat": 4,
 "nbformat_minor": 5
}
