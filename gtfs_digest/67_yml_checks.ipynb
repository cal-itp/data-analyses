{
 "cells": [
  {
   "cell_type": "markdown",
   "id": "67fe058c-10c1-4c38-9728-fe64b555c84d",
   "metadata": {},
   "source": [
    "# Create more ymls to troubleshoot issues before running the whole portfolio and realizing something is wrong!\n",
    "* YML #1: Making sure the # of routes for an operator are the same or the most current date vs. the last two.\n",
    "* YML #2: Making sure all of the sections for a particular operator is populated properly. "
   ]
  },
  {
   "cell_type": "code",
   "execution_count": null,
   "id": "218ec5e1-151b-4a51-b67a-e66648627ef2",
   "metadata": {
    "tags": []
   },
   "outputs": [],
   "source": [
    "import _portfolio_names_dict\n",
    "import _yml_gtfs_digest_orgs\n",
    "import deploy_portfolio_yaml\n",
    "import geopandas as gpd\n",
    "import merge_data\n",
    "import numpy as np\n",
    "import pandas as pd\n",
    "import yaml\n",
    "from segment_speed_utils import gtfs_schedule_wrangling, helpers\n",
    "from segment_speed_utils.project_vars import COMPILED_CACHED_VIEWS, PROJECT_CRS\n",
    "from shared_utils import catalog_utils, portfolio_utils, publish_utils, rt_dates\n",
    "from update_vars import GTFS_DATA_DICT, RT_SCHED_GCS, SCHED_GCS, SEGMENT_GCS"
   ]
  },
  {
   "cell_type": "code",
   "execution_count": null,
   "id": "f7435b6a-4fc3-43b5-bc5e-0d87585b6c54",
   "metadata": {
    "tags": []
   },
   "outputs": [],
   "source": [
    "pd.options.display.max_columns = 100\n",
    "pd.options.display.float_format = \"{:.2f}\".format\n",
    "pd.set_option(\"display.max_rows\", None)\n",
    "pd.set_option(\"display.max_colwidth\", None)"
   ]
  },
  {
   "cell_type": "markdown",
   "id": "6651b5d5-71dc-4038-a3c7-0315d5dc887c",
   "metadata": {},
   "source": [
    "## Fix `deploy_portfolio_yaml`"
   ]
  },
  {
   "cell_type": "code",
   "execution_count": null,
   "id": "6983d06b-e3cd-444d-a296-ca1a0abaac9b",
   "metadata": {
    "scrolled": true,
    "tags": []
   },
   "outputs": [],
   "source": [
    "deploy_portfolio_yaml.generate_operator_grain_yaml()"
   ]
  },
  {
   "cell_type": "code",
   "execution_count": null,
   "id": "5817ab0e-30c0-4454-9714-8d595ef9012f",
   "metadata": {
    "tags": []
   },
   "outputs": [],
   "source": [
    "schd_vp_url = f\"{GTFS_DATA_DICT.digest_tables.dir}{GTFS_DATA_DICT.digest_tables.route_schedule_vp}.parquet\"\n",
    "    \n",
    "# Keep only organizations with RT and schedule OR only schedule.\n",
    "schd_vp_df = (pd.read_parquet(schd_vp_url, \n",
    "                       filters=[[(\"sched_rt_category\", \"in\", [\"schedule_and_vp\", \"schedule_only\"])]],\n",
    "                       columns = [ \"schedule_gtfs_dataset_key\",\n",
    "                                    \"caltrans_district\",\n",
    "                                    \"organization_name\",\n",
    "                                    \"name\",\n",
    "                                    \"sched_rt_category\",\n",
    "                                    \"service_date\",]\n",
    "                                     )\n",
    "                     )"
   ]
  },
  {
   "cell_type": "code",
   "execution_count": null,
   "id": "f1bfa210-f8cc-4b1b-b5cf-4942d68185a0",
   "metadata": {
    "tags": []
   },
   "outputs": [],
   "source": [
    "schd_vp_df = (schd_vp_df\n",
    "                  .drop_duplicates(subset=[\n",
    "            \"schedule_gtfs_dataset_key\",\n",
    "            \"caltrans_district\",\n",
    "            \"organization_name\",\n",
    "            \"name\",\n",
    "            \"sched_rt_category\",\n",
    "        ]\n",
    "    ).dropna(subset=\"caltrans_district\")\n",
    "     .reset_index(drop = True)\n",
    "                 )"
   ]
  },
  {
   "cell_type": "code",
   "execution_count": null,
   "id": "8f256796-b2d9-4c97-a69f-ba8689b43d2d",
   "metadata": {
    "tags": []
   },
   "outputs": [],
   "source": [
    "len(schd_vp_df)"
   ]
  },
  {
   "cell_type": "code",
   "execution_count": null,
   "id": "7db8ef0a-4c92-4bf2-b521-60df5e7cac30",
   "metadata": {
    "tags": []
   },
   "outputs": [],
   "source": [
    "# Get the most recent date using publish_utils\n",
    "recent_date = publish_utils.filter_to_recent_date(schd_vp_df)\n",
    "    \n",
    "# Merge to get the most recent row for each organization\n",
    "schd_vp_df.service_date = schd_vp_df.service_date.astype(str)\n",
    "m1 = pd.merge(schd_vp_df, recent_date)"
   ]
  },
  {
   "cell_type": "code",
   "execution_count": null,
   "id": "4a420ffb-50df-45d8-8c67-61624fae08be",
   "metadata": {
    "tags": []
   },
   "outputs": [],
   "source": [
    "import sys\n",
    "sys.path.append(\"../_shared_utils/shared_utils\")\n",
    "import create_portfolio_display_yaml"
   ]
  },
  {
   "cell_type": "code",
   "execution_count": null,
   "id": "bcef0abd-845c-41be-816a-31d9c81b89a9",
   "metadata": {
    "tags": []
   },
   "outputs": [],
   "source": [
    "create_portfolio_display_yaml.PORTFOLIO_ORGANIZATION_NAMES"
   ]
  },
  {
   "cell_type": "code",
   "execution_count": null,
   "id": "a36c904c-383a-4c8f-acb4-5f17eb6cfc7b",
   "metadata": {
    "tags": []
   },
   "outputs": [],
   "source": [
    "schd_vp_df.loc[schd_vp_df.organization_name.str.contains(\"VCTC\")]"
   ]
  },
  {
   "cell_type": "code",
   "execution_count": null,
   "id": "fe964f7b-db31-4495-8333-2e3fe0dc02b0",
   "metadata": {
    "scrolled": true,
    "tags": []
   },
   "outputs": [],
   "source": [
    "schd_vp_df.loc[schd_vp_df.name.str.contains(\"VCTC\")]"
   ]
  },
  {
   "cell_type": "code",
   "execution_count": null,
   "id": "d0991b07-fde1-4c1b-94ce-9820c01391ed",
   "metadata": {
    "tags": []
   },
   "outputs": [],
   "source": [
    "m1['organization_name'] = m1['organization_name'].replace(create_portfolio_display_yaml.PORTFOLIO_ORGANIZATION_NAMES)"
   ]
  },
  {
   "cell_type": "code",
   "execution_count": null,
   "id": "86580128-7116-468a-9c92-6767c3f95d7e",
   "metadata": {
    "tags": []
   },
   "outputs": [],
   "source": [
    "m1.organization_name.nunique()"
   ]
  },
  {
   "cell_type": "code",
   "execution_count": null,
   "id": "17d9376c-3d85-4d0f-ab65-76544ef4de24",
   "metadata": {
    "scrolled": true,
    "tags": []
   },
   "outputs": [],
   "source": [
    "m1"
   ]
  },
  {
   "cell_type": "code",
   "execution_count": null,
   "id": "6fecdac6-4c7f-44f9-82e2-b21266e843f0",
   "metadata": {
    "tags": []
   },
   "outputs": [],
   "source": [
    "# Find the last few dates\n",
    "analysis_date_list = rt_dates.y2024_dates + rt_dates.y2023_dates + rt_dates.y2025_dates"
   ]
  },
  {
   "cell_type": "code",
   "execution_count": null,
   "id": "3ec7e4bc-cb4d-441a-906a-53d0b878fa62",
   "metadata": {
    "tags": []
   },
   "outputs": [],
   "source": [
    "most_recent_3_dates = analysis_date_list[-3:]"
   ]
  },
  {
   "cell_type": "code",
   "execution_count": null,
   "id": "c53f7ec6-8b77-45ad-82f5-e968a36c387e",
   "metadata": {
    "tags": []
   },
   "outputs": [],
   "source": [
    "df_for_yml = _yml_gtfs_digest_orgs.load_df_for_yml(\n",
    "    _yml_gtfs_digest_orgs.schd_vp_url, _yml_gtfs_digest_orgs.operator_digest_cols\n",
    ")"
   ]
  },
  {
   "cell_type": "code",
   "execution_count": null,
   "id": "fcf4cada-4106-4da0-b511-1b52c50b50e0",
   "metadata": {
    "tags": []
   },
   "outputs": [],
   "source": [
    "df_for_yml.head(3)"
   ]
  },
  {
   "cell_type": "code",
   "execution_count": null,
   "id": "08cf5e22-8c77-4eb6-9f4e-74c1885f8025",
   "metadata": {
    "tags": []
   },
   "outputs": [],
   "source": [
    "schd_vp_df = pd.read_parquet(_yml_gtfs_digest_orgs.schd_vp_url)"
   ]
  },
  {
   "cell_type": "code",
   "execution_count": null,
   "id": "99fabe4a-9bef-49f7-b08e-95ba01aec7b4",
   "metadata": {
    "tags": []
   },
   "outputs": [],
   "source": [
    "schd_vp_df.columns"
   ]
  },
  {
   "cell_type": "code",
   "execution_count": null,
   "id": "945e1e8d-d6e3-4e08-ba85-08468abb618b",
   "metadata": {
    "tags": []
   },
   "outputs": [],
   "source": [
    "schd_vp_df[[\"name\",\"combined_name\", \"recent_combined_name\"]].sample(3)"
   ]
  },
  {
   "cell_type": "code",
   "execution_count": null,
   "id": "949ad9ff-abcb-468e-96ca-94fc5b476f24",
   "metadata": {
    "tags": []
   },
   "outputs": [],
   "source": [
    "gtfs_status_df = _yml_gtfs_digest_orgs.generate_org_gtfs_status_yml(\n",
    "    _yml_gtfs_digest_orgs.load_df_for_yml(\n",
    "        _yml_gtfs_digest_orgs.schd_vp_url, _yml_gtfs_digest_orgs.operator_digest_cols\n",
    "    )\n",
    ").drop_duplicates(subset=[\"organization_name\"])"
   ]
  },
  {
   "cell_type": "code",
   "execution_count": null,
   "id": "fc40df22-6109-4c7c-8234-ff571697820e",
   "metadata": {
    "tags": []
   },
   "outputs": [],
   "source": [
    "gtfs_status_df.shape"
   ]
  },
  {
   "cell_type": "code",
   "execution_count": null,
   "id": "46ec5398-ba8d-41b3-ab3e-6bed5bdfc52c",
   "metadata": {
    "tags": []
   },
   "outputs": [],
   "source": [
    "gtfs_status_df.head(2)"
   ]
  },
  {
   "cell_type": "code",
   "execution_count": null,
   "id": "85a318bb-53f4-4d7b-8343-f9deb803988b",
   "metadata": {
    "tags": []
   },
   "outputs": [],
   "source": [
    "def generate_nunique_routes_yml(gtfs_status_df: pd.DataFrame):\n",
    "    \"\"\"\n",
    "    Generate the yml that shows the number of\n",
    "    unique routes for the last 3 months.\n",
    "    \"\"\"\n",
    "    # Read in dataframe\n",
    "    schd_vp_df = pd.read_parquet(_yml_gtfs_digest_orgs.schd_vp_url)\n",
    "\n",
    "    # Filter out for the most recent 3 dates\n",
    "    df = schd_vp_df.loc[schd_vp_df.service_date.isin(most_recent_3_dates)]\n",
    "\n",
    "    # Merge to keep only with the organizations that are displayed in the portfolio.\n",
    "    ops_kept = deploy_portfolio_yaml.generate_operator_grain_yaml()\n",
    "\n",
    "    m1 = pd.merge(df, ops_kept, on=[\"organization_name\"])\n",
    "\n",
    "    # Merge to keep only organizations with schedule and RT data\n",
    "    schedule_and_vp_only_df = gtfs_status_df.loc[\n",
    "        gtfs_status_df.sched_rt_category == \"schedule_and_vp\"\n",
    "    ]\n",
    "    m2 = pd.merge(m1, schedule_and_vp_only_df, on=[\"organization_name\"])\n",
    "\n",
    "    # Aggregate to count number of unique routes per service date\n",
    "    agg1 = (\n",
    "        m2.groupby([\"service_date\", \"portfolio_name\"])\n",
    "        .agg({\"route_id\": \"nunique\"})\n",
    "        .reset_index()\n",
    "        .sort_values(by=[\"service_date\", \"portfolio_name\"])\n",
    "    )\n",
    "\n",
    "    # Turn this dataframe from wide to long\n",
    "    pivot1 = agg1.pivot(\n",
    "        index=\"portfolio_name\", columns=\"service_date\", values=[\"route_id\"]\n",
    "    ).reset_index()\n",
    "\n",
    "    # Neaten\n",
    "    pivot1.columns = [\n",
    "        \"portfolio_name\",\n",
    "        \"2_months_ago\",\n",
    "        \"1_months_ago\",\n",
    "        \"current_month\",\n",
    "    ]\n",
    "    pivot1 = pivot1.fillna(0)\n",
    "\n",
    "    # Tag True if the number of unique routes are the same\n",
    "    # across the 3 months. Tag false if not.\n",
    "    pivot1[\"same_n_of_routes_over_last_3_months\"] = (\n",
    "        pivot1[[\"2_months_ago\", \"1_months_ago\", \"current_month\"]].nunique(axis=1).eq(1)\n",
    "    )\n",
    "\n",
    "    # Pivot again to turn this into a YML\n",
    "    melt1 = pd.melt(\n",
    "        pivot1,\n",
    "        id_vars=[\n",
    "            \"portfolio_name\",\n",
    "            \"same_n_of_routes_over_last_3_months\",\n",
    "        ],\n",
    "        value_vars=[\"2_months_ago\", \"1_months_ago\", \"current_month\"],\n",
    "    )\n",
    "\n",
    "    # New column that combines everything\n",
    "    melt1[\"combined\"] = melt1.variable + \": \" + melt1.value.astype(str) + \" routes\"\n",
    "\n",
    "    # Neaten again\n",
    "    melt1.same_n_of_routes_over_last_3_months = (\n",
    "        melt1.same_n_of_routes_over_last_3_months.astype(str)\n",
    "    )\n",
    "\n",
    "    # Save out to the YML\n",
    "    title = \"Tagging if the number of unique routes have remained in the same over the last 3 months\"\n",
    "    result = {}\n",
    "    for category, category_df in nunique_routes.groupby(\n",
    "        \"same_n_of_routes_over_last_3_months\"\n",
    "    ):\n",
    "        category_result = {}\n",
    "        for organization, organization_df in category_df.groupby(\"portfolio_name\"):\n",
    "            category_result[organization] = organization_df[\"combined\"].tolist()\n",
    "        result[category] = category_result\n",
    "\n",
    "    # Save to YAML file\n",
    "    with open(\"../_shared_utils/shared_utils/gtfs_digest_nunique_routes.yml\", \"w\") as f:\n",
    "        f.write(f\"# {title}\\n\\n\")\n",
    "        yaml.dump(result, f, default_flow_style=False)\n",
    "\n",
    "    return melt1"
   ]
  },
  {
   "cell_type": "code",
   "execution_count": null,
   "id": "ecff9ac5-fa12-48e1-950e-39f10ccb6270",
   "metadata": {
    "tags": []
   },
   "outputs": [],
   "source": [
    "# nunique_routes = generate_nunique_routes_yml(gtfs_status_df)"
   ]
  },
  {
   "cell_type": "markdown",
   "id": "453b33f2-f900-4e30-a76f-141664f10a07",
   "metadata": {},
   "source": [
    "## YML #2: Making sure all of the sections for a particular operator is populated properly.\n",
    "* NTD Data/Route Type/Service Area from `operator_profiles`\n",
    "* Map of Routes\n",
    "* Scheduled service for all routes\n",
    "* Monthly_sched_vp_df, qtr_sched_vp_df: if the operator has realtime and schedule data.\n",
    "* Use only the last 3 months of 2024.\n",
    "<img src= \"./gtfs_vision.png\">"
   ]
  },
  {
   "cell_type": "code",
   "execution_count": null,
   "id": "44a98dd0-acf1-4384-a949-0882424c7ba6",
   "metadata": {
    "tags": []
   },
   "outputs": [],
   "source": [
    "# We only want to see operators that we display in the portfolio\n",
    "ops_kept = deploy_portfolio_yaml.generate_operator_grain_yaml()"
   ]
  },
  {
   "cell_type": "code",
   "execution_count": null,
   "id": "7d13721a-b6d7-4439-bac3-01f7b8a83661",
   "metadata": {
    "tags": []
   },
   "outputs": [],
   "source": [
    "date_subset = rt_dates.y2024_dates[-3:]"
   ]
  },
  {
   "cell_type": "code",
   "execution_count": null,
   "id": "17df509d-4d98-4303-b286-465187ab1693",
   "metadata": {
    "tags": []
   },
   "outputs": [],
   "source": [
    "# date_subset = most_recent_3_dates"
   ]
  },
  {
   "cell_type": "code",
   "execution_count": null,
   "id": "1239a87f-6627-4edb-8cb7-f6f7c5e0722b",
   "metadata": {
    "tags": []
   },
   "outputs": [],
   "source": [
    "date_subset"
   ]
  },
  {
   "cell_type": "markdown",
   "id": "4fb71635-73cc-45fc-b597-9fe488c54bfa",
   "metadata": {},
   "source": [
    "### Map of Routes\n",
    "* Check that we have the most current date's info"
   ]
  },
  {
   "cell_type": "code",
   "execution_count": null,
   "id": "eceb8970-fba0-4e2e-b283-0a4c7b5f391f",
   "metadata": {
    "tags": []
   },
   "outputs": [],
   "source": [
    "def red_flags(\n",
    "    df: pd.DataFrame,\n",
    "    operators_to_keep: pd.DataFrame,\n",
    "    group_cols: list,\n",
    "    agg_col: str,\n",
    "    agg_type: str,\n",
    "    dataset_name: str,\n",
    ") -> pd.DataFrame:\n",
    "    \"\"\"\n",
    "    Aggregate data for YAML file.\n",
    "\n",
    "    Parameters:\n",
    "    df (pd.DataFrame): Input dataframe.\n",
    "    operators_to_keep (pd.DataFrame): Operators to keep.\n",
    "    group_cols (list): Group columns.\n",
    "    agg_col (str): Aggregate column.\n",
    "    agg_type (str): Aggregate type.\n",
    "    dataset_name (str): Dataset name.\n",
    "\n",
    "    Returns:\n",
    "    pd.DataFrame: Aggregated dataframe.\n",
    "    \"\"\"\n",
    "    # Merge dataframes\n",
    "    merged_df = pd.merge(df, operators_to_keep, on=[\"organization_name\"], how=\"left\")\n",
    "\n",
    "    # Aggregate data\n",
    "    agg_df = merged_df.groupby(group_cols).agg({agg_col: agg_type}).reset_index()\n",
    "\n",
    "    # Sort values\n",
    "    agg_df = agg_df.sort_values(by=[\"portfolio_name\", \"service_date\"])\n",
    "\n",
    "    # Pivot data\n",
    "    pivot_df = agg_df.pivot(\n",
    "        index=[\"portfolio_name\", \"organization_name\"],\n",
    "        columns=\"service_date\",\n",
    "        values=agg_col,\n",
    "    ).reset_index()\n",
    "\n",
    "    # Calculate columns\n",
    "    two_month_col = pivot_df.columns[-3]\n",
    "    last_month_col = pivot_df.columns[-2]\n",
    "    current_month_col = pivot_df.columns[-1]\n",
    "\n",
    "    pivot_df[\"current_last_month_pct\"] = (\n",
    "        (pivot_df[current_month_col] - pivot_df[last_month_col])\n",
    "        / (pivot_df[current_month_col])\n",
    "        * 100\n",
    "    )\n",
    "\n",
    "    pivot_df[\"current_two_month_pct\"] = (\n",
    "        (pivot_df[current_month_col] - pivot_df[two_month_col])\n",
    "        / (pivot_df[current_month_col])\n",
    "        * 100\n",
    "    )\n",
    "\n",
    "    # Create flag column\n",
    "    pivot_df[\"flag\"] = np.where(\n",
    "        (pivot_df[\"current_last_month_pct\"] >= 20)\n",
    "        | (pivot_df[\"current_two_month_pct\"] >= 20)\n",
    "        | (pivot_df[\"current_last_month_pct\"] <= -20)\n",
    "        | (pivot_df[\"current_two_month_pct\"] <= -20),\n",
    "        \"check\",\n",
    "        \"ok\",\n",
    "    )\n",
    "\n",
    "    # Filter out rows\n",
    "    filtered_df = pivot_df.loc[pivot_df[\"flag\"] == \"check\"]\n",
    "\n",
    "    # Create new columns\n",
    "    filtered_df[\"dataset\"] = dataset_name\n",
    "    filtered_df[\"trend\"] = (\n",
    "        f\"Unique rows for {current_month_col.astype(str)} based on {agg_col}: \"\n",
    "        + filtered_df[current_month_col].astype(str)\n",
    "        + f\", {last_month_col.astype(str)}: \"\n",
    "        + filtered_df[last_month_col].astype(str)\n",
    "        + f\", {two_month_col.astype(str)}: \"\n",
    "        + filtered_df[two_month_col].astype(str)\n",
    "    )\n",
    "\n",
    "    filtered_df = filtered_df[[\"portfolio_name\", \"dataset\", \"trend\"]]\n",
    "    return filtered_df"
   ]
  },
  {
   "cell_type": "code",
   "execution_count": null,
   "id": "5782202e-ba5c-4547-9bb8-d217ae75438c",
   "metadata": {
    "tags": []
   },
   "outputs": [],
   "source": [
    "def prep_merge_data_script(df: pd.DataFrame, analysis_date_list: list) -> pd.DataFrame:\n",
    "    \"\"\"\n",
    "    CLean up the datasets that go into creating\n",
    "    gtfs_digest/merge_data.py\n",
    "    \"\"\"\n",
    "    df_crosswalk = merge_data.concatenate_crosswalk_organization(analysis_date_list)[\n",
    "        [\"schedule_gtfs_dataset_key\", \"service_date\", \"organization_name\"]\n",
    "    ]\n",
    "\n",
    "    m1 = pd.merge(df, df_crosswalk)\n",
    "\n",
    "    m1 = m1.sort_values(by=[\"service_date\", \"organization_name\"], ascending=False)\n",
    "    return m1"
   ]
  },
  {
   "cell_type": "code",
   "execution_count": null,
   "id": "7d576f83-31bb-458f-a16c-5c5321255fa4",
   "metadata": {
    "tags": []
   },
   "outputs": [],
   "source": [
    "def load_datasets(date_subset: list) -> pd.DataFrame:\n",
    "    # Load DataFrames\n",
    "    op_routes_url = f\"{GTFS_DATA_DICT.digest_tables.dir}{GTFS_DATA_DICT.digest_tables.operator_routes_map}.parquet\"\n",
    "    op_routes_gdf = gpd.read_parquet(op_routes_url)\n",
    "    op_routes_gdf = op_routes_gdf.loc[op_routes_gdf.service_date.isin(date_subset)]\n",
    "\n",
    "    op_profiles_url = f\"{GTFS_DATA_DICT.digest_tables.dir}{GTFS_DATA_DICT.digest_tables.operator_profiles}.parquet\"\n",
    "    op_profiles_df = pd.read_parquet(op_profiles_url)\n",
    "    op_profiles_df.organization_name = op_profiles_df.organization_name.fillna(\"None\")\n",
    "    op_profiles_df = op_profiles_df.loc[op_profiles_df.service_date.isin(date_subset)]\n",
    "\n",
    "    # Create some crosswalks bc certain datasets don't have columns\n",
    "    name_org_name_crosswalk = op_routes_gdf[\n",
    "        [\"name\", \"organization_name\"]\n",
    "    ].drop_duplicates()\n",
    "\n",
    "    scheduled_service_hours_url = f\"{GTFS_DATA_DICT.digest_tables.dir}{GTFS_DATA_DICT.digest_tables.scheduled_service_hours}.parquet\"\n",
    "    scheduled_service_hours_df = pd.read_parquet(scheduled_service_hours_url)\n",
    "    scheduled_service_hours_df = pd.merge(\n",
    "        scheduled_service_hours_df, name_org_name_crosswalk, how=\"left\"\n",
    "    ).rename(columns={\"month_year\": \"service_date\"})\n",
    "\n",
    "    df_sched = merge_data.concatenate_schedule_by_route_direction(date_subset)[\n",
    "        [\"service_date\", \"schedule_gtfs_dataset_key\", \"route_id\"]\n",
    "    ]\n",
    "    df_sched = prep_merge_data_script(df_sched, date_subset)\n",
    "\n",
    "    df_avg_speeds = merge_data.concatenate_speeds_by_route_direction(date_subset)[\n",
    "        [\"service_date\", \"schedule_gtfs_dataset_key\", \"route_id\"]\n",
    "    ]\n",
    "    df_avg_speeds = prep_merge_data_script(df_avg_speeds, date_subset)\n",
    "\n",
    "    df_rt_sched = merge_data.concatenate_rt_vs_schedule_by_route_direction(date_subset)[\n",
    "        [\"service_date\", \"schedule_gtfs_dataset_key\", \"route_id\"]\n",
    "    ]\n",
    "    df_rt_sched = prep_merge_data_script(df_rt_sched, date_subset)\n",
    "    return (\n",
    "        op_routes_gdf,\n",
    "        op_profiles_df,\n",
    "        scheduled_service_hours_df,\n",
    "        df_sched,\n",
    "        df_avg_speeds,\n",
    "        df_rt_sched,\n",
    "    )"
   ]
  },
  {
   "cell_type": "code",
   "execution_count": null,
   "id": "06dff60f-1330-4d7b-998b-27cf3928927c",
   "metadata": {
    "tags": []
   },
   "outputs": [],
   "source": [
    "def generate_all_red_flags(dates_subset:list)->pd.DataFrame:\n",
    "    \n",
    "    # Load DataFrame\n",
    "    (\n",
    "        op_routes_gdf,\n",
    "        op_profiles_df,\n",
    "        scheduled_service_hours_df,\n",
    "        df_sched,\n",
    "        df_avg_speeds,\n",
    "        df_rt_sched,\n",
    "    ) = load_datasets(dates_subset)\n",
    "    \n",
    "    # Filter for only operators that we display in our portfolio\n",
    "    # Aggregate to see if the rows for the most current month is 20% more or less\n",
    "    # than the past month and two months ago. \n",
    "    op_routes_agg = red_flags(\n",
    "    df=op_routes_gdf,\n",
    "    operators_to_keep=ops_kept,\n",
    "    group_cols=[\"service_date\", \"portfolio_name\", \"organization_name\"],\n",
    "    agg_col=\"route_id\",\n",
    "    agg_type=\"nunique\",\n",
    "    dataset_name=\"GTFS_DATA_DICT.digest_tables.operator_routes_map\",\n",
    ")\n",
    "    op_profiles_agg = red_flags(\n",
    "    df=op_profiles_df,\n",
    "    operators_to_keep=ops_kept,\n",
    "    group_cols=[\"service_date\", \"organization_name\", \"portfolio_name\"],\n",
    "    agg_col=\"operator_n_routes\",\n",
    "    agg_type=\"max\",\n",
    "    dataset_name=\"GTFS_DATA_DICT.digest_tables.operator_profiles\",\n",
    ")\n",
    "    scheduled_service_hours_agg = red_flags(\n",
    "    df=scheduled_service_hours_df,\n",
    "    operators_to_keep=ops_kept,\n",
    "    group_cols=[\"service_date\", \"organization_name\", \"portfolio_name\"],\n",
    "    agg_col=\"departure_hour\",\n",
    "    agg_type=\"nunique\",\n",
    "    dataset_name=\"GTFS_DATA_DICT.digest_tables.scheduled_service_hours\",\n",
    ")\n",
    "    df_sched_agg = red_flags(\n",
    "    df=df_sched,\n",
    "    operators_to_keep=ops_kept,\n",
    "    group_cols=[\"service_date\", \"organization_name\", \"portfolio_name\"],\n",
    "    agg_col=\"route_id\",\n",
    "    agg_type=\"nunique\",\n",
    "    dataset_name=\"merge_data.py/concatenate_schedule_by_route_direction\",\n",
    ")\n",
    "    \n",
    "    df_avg_speeds_agg = red_flags(\n",
    "    df=df_avg_speeds,\n",
    "    operators_to_keep=ops_kept,\n",
    "    group_cols=[\"service_date\", \"organization_name\", \"portfolio_name\"],\n",
    "    agg_col=\"route_id\",\n",
    "    agg_type=\"nunique\",\n",
    "    dataset_name=\"merge_data.py/concatenate_speeds_by_route_direction\",\n",
    ")\n",
    "    \n",
    "    df_rt_sched_agg = red_flags(\n",
    "    df=df_rt_sched,\n",
    "    operators_to_keep=ops_kept,\n",
    "    group_cols=[\"service_date\", \"organization_name\", \"portfolio_name\"],\n",
    "    agg_col=\"route_id\",\n",
    "    agg_type=\"nunique\",\n",
    "    dataset_name=\"merge_data.concatenate_rt_vs_schedule_by_route_direction\",\n",
    ")\n",
    "    \n",
    "    # Concat \n",
    "    final = pd.concat(\n",
    "    [\n",
    "        op_routes_agg,\n",
    "        df_sched_agg,\n",
    "        df_avg_speeds_agg,\n",
    "        df_rt_sched_agg,\n",
    "        op_profiles_agg,\n",
    "        scheduled_service_hours_agg,\n",
    "    ],\n",
    "    ignore_index=True,\n",
    ")\n",
    "    \n",
    "    # Clean\n",
    "    final = final.sort_values(by=[\"portfolio_name\", \"dataset\"]).reset_index()\n",
    "    \n",
    "    return final"
   ]
  },
  {
   "cell_type": "code",
   "execution_count": null,
   "id": "f38a677b-2900-4452-be54-136a0d426c17",
   "metadata": {
    "tags": []
   },
   "outputs": [],
   "source": [
    "generate_all_red_flags(date_subset)"
   ]
  },
  {
   "cell_type": "code",
   "execution_count": null,
   "id": "a93a1969-2fea-44ba-8d4d-a8e3731f3a12",
   "metadata": {
    "tags": []
   },
   "outputs": [],
   "source": [
    "op_routes_url = f\"{GTFS_DATA_DICT.digest_tables.dir}{GTFS_DATA_DICT.digest_tables.operator_routes_map}.parquet\"\n",
    "op_routes_gdf = gpd.read_parquet(op_routes_url)"
   ]
  },
  {
   "cell_type": "code",
   "execution_count": null,
   "id": "1ed5a14f-e8cb-4230-85aa-40c24021975d",
   "metadata": {
    "tags": []
   },
   "outputs": [],
   "source": [
    "# Keep only the last few dates of 2024\n",
    "op_routes_gdf = op_routes_gdf.loc[op_routes_gdf.service_date.isin(date_subset)]"
   ]
  },
  {
   "cell_type": "code",
   "execution_count": null,
   "id": "654642e7-90ad-462a-946c-4821e05aad9c",
   "metadata": {
    "tags": []
   },
   "outputs": [],
   "source": [
    "op_routes_gdf.columns"
   ]
  },
  {
   "cell_type": "code",
   "execution_count": null,
   "id": "b05d802a-4f73-49a9-be4d-66c0c629c88f",
   "metadata": {
    "tags": []
   },
   "outputs": [],
   "source": [
    "op_routes_agg = aggregate_for_yml(\n",
    "    df=op_routes_gdf,\n",
    "    operators_to_keep=ops_kept,\n",
    "    group_cols=[\"service_date\", \"portfolio_name\", \"organization_name\"],\n",
    "    agg_col=\"route_id\",\n",
    "    agg_type=\"nunique\",\n",
    "    dataset_name=\"GTFS_DATA_DICT.digest_tables.operator_routes_map\",\n",
    ")"
   ]
  },
  {
   "cell_type": "code",
   "execution_count": null,
   "id": "704a726e-8237-42da-84c3-f046240f6280",
   "metadata": {
    "scrolled": true,
    "tags": []
   },
   "outputs": [],
   "source": [
    "# op_routes_agg"
   ]
  },
  {
   "cell_type": "markdown",
   "id": "a3817f97-118e-463c-b513-504aa328105b",
   "metadata": {},
   "source": [
    "### `operator_profiles`\n",
    "* Check that we have the most current date's info."
   ]
  },
  {
   "cell_type": "code",
   "execution_count": null,
   "id": "e444e69d-7816-4af8-b295-24f3aab98e46",
   "metadata": {
    "tags": []
   },
   "outputs": [],
   "source": [
    "op_profiles_url = f\"{GTFS_DATA_DICT.digest_tables.dir}{GTFS_DATA_DICT.digest_tables.operator_profiles}.parquet\"\n",
    "op_profiles_df = pd.read_parquet(op_profiles_url)"
   ]
  },
  {
   "cell_type": "code",
   "execution_count": null,
   "id": "c390a36e-90fc-4f50-8b46-58566bcaa0bb",
   "metadata": {
    "tags": []
   },
   "outputs": [],
   "source": [
    "op_profiles_df.organization_name = op_profiles_df.organization_name.fillna(\"None\")"
   ]
  },
  {
   "cell_type": "code",
   "execution_count": null,
   "id": "2b957102-5375-4edf-9c92-4e579681c967",
   "metadata": {
    "tags": []
   },
   "outputs": [],
   "source": [
    "# Keep only the last few dates of 2024\n",
    "op_profiles_df = op_profiles_df.loc[op_profiles_df.service_date.isin(date_subset)]"
   ]
  },
  {
   "cell_type": "code",
   "execution_count": null,
   "id": "8461d14e-5200-49ad-b9d4-f0a46de01d00",
   "metadata": {
    "tags": []
   },
   "outputs": [],
   "source": [
    "op_profiles_df.sample()"
   ]
  },
  {
   "cell_type": "code",
   "execution_count": null,
   "id": "ba1006e8-c5cb-4cef-b47a-49761f1bbf1c",
   "metadata": {
    "tags": []
   },
   "outputs": [],
   "source": [
    "op_profiles_agg = aggregate_for_yml(\n",
    "    df=op_profiles_df,\n",
    "    operators_to_keep=ops_kept,\n",
    "    group_cols=[\"service_date\", \"organization_name\", \"portfolio_name\"],\n",
    "    agg_col=\"operator_n_routes\",\n",
    "    agg_type=\"max\",\n",
    "    dataset_name=\"GTFS_DATA_DICT.digest_tables.operator_profiles\",\n",
    ")"
   ]
  },
  {
   "cell_type": "code",
   "execution_count": null,
   "id": "3ab12f0c-8f5b-4a38-af19-ade6865e4592",
   "metadata": {
    "tags": []
   },
   "outputs": [],
   "source": [
    "op_profiles_agg"
   ]
  },
  {
   "cell_type": "markdown",
   "id": "0e9a032b-f68b-4f19-9310-f63a143f59f0",
   "metadata": {},
   "source": [
    "### Scheduled service for all routes"
   ]
  },
  {
   "cell_type": "code",
   "execution_count": null,
   "id": "d06cab97-9543-465e-948a-6814cde71ed6",
   "metadata": {
    "tags": []
   },
   "outputs": [],
   "source": [
    "name_org_name_crosswalk = df_for_yml[[\"name\", \"organization_name\"]].drop_duplicates()"
   ]
  },
  {
   "cell_type": "code",
   "execution_count": null,
   "id": "9d81c533-b59a-473b-b126-fc5645febbc6",
   "metadata": {
    "tags": []
   },
   "outputs": [],
   "source": [
    "scheduled_service_hours_url = f\"{GTFS_DATA_DICT.digest_tables.dir}{GTFS_DATA_DICT.digest_tables.scheduled_service_hours}.parquet\""
   ]
  },
  {
   "cell_type": "code",
   "execution_count": null,
   "id": "59cb3da8-1d3e-4f8a-bbbc-5561523a8b2e",
   "metadata": {
    "tags": []
   },
   "outputs": [],
   "source": [
    "scheduled_service_hours_df = pd.read_parquet(scheduled_service_hours_url)"
   ]
  },
  {
   "cell_type": "code",
   "execution_count": null,
   "id": "b19343af-9f76-4596-ae19-258f4c140526",
   "metadata": {},
   "outputs": [],
   "source": [
    "# Merge to get portfolio and organization_name\n",
    "m1 = pd.merge(scheduled_service_hours_df, name_org_name_crosswalk, how=\"left\")"
   ]
  },
  {
   "cell_type": "code",
   "execution_count": null,
   "id": "364e6e59-f390-4a1e-9bd8-dd6e54376f8c",
   "metadata": {
    "tags": []
   },
   "outputs": [],
   "source": [
    "m1 = m1.rename(columns={\"month_year\": \"service_date\"})"
   ]
  },
  {
   "cell_type": "code",
   "execution_count": null,
   "id": "5f847c24-d98a-4cb5-aea1-1611f10ea791",
   "metadata": {
    "tags": []
   },
   "outputs": [],
   "source": [
    "m1.sample()"
   ]
  },
  {
   "cell_type": "code",
   "execution_count": null,
   "id": "17cb9708-e82c-46e1-bb3d-2ca5ed5336be",
   "metadata": {
    "tags": []
   },
   "outputs": [],
   "source": [
    "scheduled_service_hours_agg = aggregate_for_yml(\n",
    "    df=m1,\n",
    "    operators_to_keep=ops_kept,\n",
    "    group_cols=[\"service_date\", \"organization_name\", \"portfolio_name\"],\n",
    "    agg_col=\"departure_hour\",\n",
    "    agg_type=\"nunique\",\n",
    "    dataset_name=\"GTFS_DATA_DICT.digest_tables.scheduled_service_hours\",\n",
    ")"
   ]
  },
  {
   "cell_type": "markdown",
   "id": "e4347ee4-ce1e-4949-ba6f-b085fa5a6dd4",
   "metadata": {},
   "source": [
    "### Add the datasets from `merge_data.py`"
   ]
  },
  {
   "cell_type": "code",
   "execution_count": null,
   "id": "f694f539-cff1-4c36-9914-39d3c33f098d",
   "metadata": {
    "tags": []
   },
   "outputs": [],
   "source": [
    "def prep_merge_data_script(df: pd.DataFrame, analysis_date_list: list) -> pd.DataFrame:\n",
    "    \"\"\"\n",
    "    CLean up the datasets that go into creating\n",
    "    gtfs_digest/merge_data.py\n",
    "    \"\"\"\n",
    "    df_crosswalk = merge_data.concatenate_crosswalk_organization(analysis_date_list)[\n",
    "        [\"schedule_gtfs_dataset_key\", \"service_date\", \"organization_name\"]\n",
    "    ]\n",
    "\n",
    "    m1 = pd.merge(df, df_crosswalk)\n",
    "\n",
    "    m1 = m1.sort_values(by=[\"service_date\", \"organization_name\"], ascending=False)\n",
    "    return m1"
   ]
  },
  {
   "cell_type": "markdown",
   "id": "538691b6-bc42-4083-843a-b8bc021fad4b",
   "metadata": {},
   "source": [
    "### `schedule data`"
   ]
  },
  {
   "cell_type": "code",
   "execution_count": null,
   "id": "64f690ec-30b3-4c1b-990d-1f0296eadb72",
   "metadata": {
    "tags": []
   },
   "outputs": [],
   "source": [
    "df_sched = merge_data.concatenate_schedule_by_route_direction(date_subset)[\n",
    "    [\"service_date\", \"schedule_gtfs_dataset_key\", \"route_id\"]\n",
    "]"
   ]
  },
  {
   "cell_type": "code",
   "execution_count": null,
   "id": "e1d43c24-d4e8-4ae4-9a9f-9287fe1ab091",
   "metadata": {
    "tags": []
   },
   "outputs": [],
   "source": [
    "df_sched2 = prep_merge_data_script(df_sched, date_subset)"
   ]
  },
  {
   "cell_type": "code",
   "execution_count": null,
   "id": "a9b47da0-a380-49d6-b807-691047a5096a",
   "metadata": {
    "tags": []
   },
   "outputs": [],
   "source": [
    "df_sched2.head(2)"
   ]
  },
  {
   "cell_type": "code",
   "execution_count": null,
   "id": "27395f2f-5b3d-44f6-b645-98a5dac0ec2e",
   "metadata": {
    "tags": []
   },
   "outputs": [],
   "source": [
    "df_sched_agg = aggregate_for_yml(\n",
    "    df=df_sched2,\n",
    "    operators_to_keep=ops_kept,\n",
    "    group_cols=[\"service_date\", \"organization_name\", \"portfolio_name\"],\n",
    "    agg_col=\"route_id\",\n",
    "    agg_type=\"nunique\",\n",
    "    dataset_name=\"merge_data.py/concatenate_schedule_by_route_direction\",\n",
    ")"
   ]
  },
  {
   "cell_type": "markdown",
   "id": "31c5f1fb-f973-40c2-a34e-fd35320c5acf",
   "metadata": {},
   "source": [
    "### `Average Speeds`"
   ]
  },
  {
   "cell_type": "code",
   "execution_count": null,
   "id": "b66c272f-b958-425e-89e4-20503d371441",
   "metadata": {
    "tags": []
   },
   "outputs": [],
   "source": [
    "df_avg_speeds = merge_data.concatenate_speeds_by_route_direction(date_subset)[\n",
    "    [\"service_date\", \"schedule_gtfs_dataset_key\", \"route_id\"]\n",
    "]"
   ]
  },
  {
   "cell_type": "code",
   "execution_count": null,
   "id": "829f8c5a-1342-4288-a8b2-263e583ccea7",
   "metadata": {
    "tags": []
   },
   "outputs": [],
   "source": [
    "df_avg_speeds = prep_merge_data_script(df_avg_speeds, date_subset)"
   ]
  },
  {
   "cell_type": "code",
   "execution_count": null,
   "id": "255f3331-fb61-41aa-ace4-fecb6876e123",
   "metadata": {
    "tags": []
   },
   "outputs": [],
   "source": [
    "df_avg_speeds.head(1)"
   ]
  },
  {
   "cell_type": "code",
   "execution_count": null,
   "id": "6010fad7-6b14-4c2f-b8e1-5697142e831a",
   "metadata": {
    "tags": []
   },
   "outputs": [],
   "source": [
    "df_avg_speeds_agg = aggregate_for_yml(\n",
    "    df=df_avg_speeds,\n",
    "    operators_to_keep=ops_kept,\n",
    "    group_cols=[\"service_date\", \"organization_name\", \"portfolio_name\"],\n",
    "    agg_col=\"route_id\",\n",
    "    agg_type=\"nunique\",\n",
    "    dataset_name=\"merge_data.py/concatenate_speeds_by_route_direction\",\n",
    ")"
   ]
  },
  {
   "cell_type": "markdown",
   "id": "67d406dc-e9a1-4b10-b06b-8b801ead78e9",
   "metadata": {},
   "source": [
    "### `RT vs Schedule`"
   ]
  },
  {
   "cell_type": "code",
   "execution_count": null,
   "id": "d05fd543-a7e1-44e3-9a65-6d477581d16e",
   "metadata": {
    "tags": []
   },
   "outputs": [],
   "source": [
    "df_rt_sched = merge_data.concatenate_rt_vs_schedule_by_route_direction(date_subset)[\n",
    "    [\"service_date\", \"schedule_gtfs_dataset_key\", \"route_id\"]\n",
    "]"
   ]
  },
  {
   "cell_type": "code",
   "execution_count": null,
   "id": "2e666442-19b3-41d7-b04d-2623bd7272cc",
   "metadata": {
    "tags": []
   },
   "outputs": [],
   "source": [
    "df_rt_sched = prep_merge_data_script(df_rt_sched, date_subset)"
   ]
  },
  {
   "cell_type": "code",
   "execution_count": null,
   "id": "ed25bd36-54bd-493c-a0db-ff19b768aed1",
   "metadata": {
    "tags": []
   },
   "outputs": [],
   "source": [
    "df_rt_sched.sample()"
   ]
  },
  {
   "cell_type": "code",
   "execution_count": null,
   "id": "5b6dca14-5ff6-4990-bb5c-9ca62e504b64",
   "metadata": {
    "tags": []
   },
   "outputs": [],
   "source": [
    "df_rt_sched_agg = aggregate_for_yml(\n",
    "    df=df_rt_sched,\n",
    "    operators_to_keep=ops_kept,\n",
    "    group_cols=[\"service_date\", \"organization_name\", \"portfolio_name\"],\n",
    "    agg_col=\"route_id\",\n",
    "    agg_type=\"nunique\",\n",
    "    dataset_name=\"merge_data.concatenate_rt_vs_schedule_by_route_direction\",\n",
    ")"
   ]
  },
  {
   "cell_type": "markdown",
   "id": "c744a838-7186-48f0-a2fd-90ba12b9e5c1",
   "metadata": {},
   "source": [
    "### Merge them"
   ]
  },
  {
   "cell_type": "code",
   "execution_count": null,
   "id": "50154eec-a1bb-41b9-9a36-0a696fb5df8e",
   "metadata": {
    "tags": []
   },
   "outputs": [],
   "source": [
    "op_routes_agg.sample()"
   ]
  },
  {
   "cell_type": "code",
   "execution_count": null,
   "id": "812b2022-ca80-4fb5-8b89-7d22ab1a70c1",
   "metadata": {
    "tags": []
   },
   "outputs": [],
   "source": [
    "df_sched_agg.sample()"
   ]
  },
  {
   "cell_type": "code",
   "execution_count": null,
   "id": "f32eeef5-9cbd-4cb5-a617-194f82cd90e3",
   "metadata": {
    "tags": []
   },
   "outputs": [],
   "source": [
    "df_avg_speeds_agg.sample()"
   ]
  },
  {
   "cell_type": "code",
   "execution_count": null,
   "id": "e23f1fff-9838-4917-b3d8-5918399541a2",
   "metadata": {
    "tags": []
   },
   "outputs": [],
   "source": [
    "df_rt_sched_agg.sample()"
   ]
  },
  {
   "cell_type": "code",
   "execution_count": null,
   "id": "f68c5703-ad66-4267-915a-7304e363ad33",
   "metadata": {
    "tags": []
   },
   "outputs": [],
   "source": [
    "op_profiles_agg.sample()"
   ]
  },
  {
   "cell_type": "code",
   "execution_count": null,
   "id": "68821128-241f-45fe-b830-a800cfe33112",
   "metadata": {
    "tags": []
   },
   "outputs": [],
   "source": [
    "scheduled_service_hours_agg.sample()"
   ]
  },
  {
   "cell_type": "code",
   "execution_count": null,
   "id": "0342692c-61e3-4f38-b8f9-3a635fa8ae53",
   "metadata": {
    "scrolled": true,
    "tags": []
   },
   "outputs": [],
   "source": [
    "final = pd.concat(\n",
    "    [\n",
    "        op_routes_agg,\n",
    "        df_sched_agg,\n",
    "        df_avg_speeds_agg,\n",
    "        df_rt_sched_agg,\n",
    "        op_profiles_agg,\n",
    "        scheduled_service_hours_agg,\n",
    "    ],\n",
    "    ignore_index=True,\n",
    ")"
   ]
  },
  {
   "cell_type": "code",
   "execution_count": null,
   "id": "6cd4fa99-2215-4cbe-ba4b-d541b852a0e4",
   "metadata": {
    "tags": []
   },
   "outputs": [],
   "source": [
    "len(final)"
   ]
  },
  {
   "cell_type": "code",
   "execution_count": null,
   "id": "0965cc01-6358-446b-a44d-2297df62ce5a",
   "metadata": {
    "scrolled": true,
    "tags": []
   },
   "outputs": [],
   "source": [
    "final.sort_values(by=[\"portfolio_name\", \"dataset\"])"
   ]
  },
  {
   "cell_type": "code",
   "execution_count": null,
   "id": "261bd56e-8a7b-4b77-8cd0-72ff75471750",
   "metadata": {
    "tags": []
   },
   "outputs": [],
   "source": [
    "# ac_transit_test = melt2.loc[melt2.portfolio_name_gtfs.str.contains(\"Alameda-Contra Costa Transit District: schedule_and_vp\")]"
   ]
  },
  {
   "cell_type": "code",
   "execution_count": null,
   "id": "46ff81f9-75c6-4e6f-92d6-4b6ba1e5e4b1",
   "metadata": {
    "tags": []
   },
   "outputs": [],
   "source": [
    "# ac_transit_test = ac_transit_test.sort_values(by = [\"portfolio_name_gtfs\", \"variable\", \"value\"])"
   ]
  },
  {
   "cell_type": "code",
   "execution_count": null,
   "id": "c1ac3e53-7bef-459e-b750-c08c8f771a88",
   "metadata": {
    "scrolled": true,
    "tags": []
   },
   "outputs": [],
   "source": [
    "# ac_transit_test"
   ]
  },
  {
   "cell_type": "code",
   "execution_count": null,
   "id": "6890b048-5857-4380-82f1-3e92e5a1fa92",
   "metadata": {
    "tags": []
   },
   "outputs": [],
   "source": [
    "title = \"Displaying the availability and count of unique routes for each dataset that goes into creating the operator grain GTFS Digest\""
   ]
  },
  {
   "cell_type": "code",
   "execution_count": null,
   "id": "fdcfe11e-6ff4-4286-af24-a1ca9eadba14",
   "metadata": {
    "tags": []
   },
   "outputs": [],
   "source": [
    "melt2 = melt2.sort_values(by=[\"portfolio_name_gtfs\", \"variable\", \"value\"])"
   ]
  },
  {
   "cell_type": "code",
   "execution_count": null,
   "id": "75f2370a-6a47-474f-806a-2c3fcc937ca1",
   "metadata": {
    "tags": []
   },
   "outputs": [],
   "source": [
    "melt2.portfolio_name_gtfs.nunique()"
   ]
  },
  {
   "cell_type": "code",
   "execution_count": null,
   "id": "fe9d37a1-0b02-4bef-a91e-5ea6335541dd",
   "metadata": {
    "tags": []
   },
   "outputs": [],
   "source": [
    "result = {}\n",
    "for category, category_df in melt2.groupby(\"portfolio_name_gtfs\"):\n",
    "    category_result = {}\n",
    "    for organization, organization_df in category_df.groupby(\"variable\"):\n",
    "        # Sort the dates before writing them to the YML file\n",
    "        sorted_dates = organization_df[\"value\"].tolist()\n",
    "        category_result[organization] = sorted_dates\n",
    "    result[category] = category_result\n",
    "# Save to YAML file\n",
    "with open(\"../_shared_utils/shared_utils/gtfs_digest_completion.yml\", \"w\") as f:\n",
    "    f.write(f\"# {title}\\n\\n\")\n",
    "    yaml.dump(result, f, default_flow_style=False)"
   ]
  },
  {
   "cell_type": "code",
   "execution_count": null,
   "id": "08313a76-102a-4def-a626-3e4da81d42ff",
   "metadata": {},
   "outputs": [],
   "source": []
  }
 ],
 "metadata": {
  "kernelspec": {
   "display_name": "Python 3 (ipykernel)",
   "language": "python",
   "name": "python3"
  },
  "language_info": {
   "codemirror_mode": {
    "name": "ipython",
    "version": 3
   },
   "file_extension": ".py",
   "mimetype": "text/x-python",
   "name": "python",
   "nbconvert_exporter": "python",
   "pygments_lexer": "ipython3",
   "version": "3.11.10"
  }
 },
 "nbformat": 4,
 "nbformat_minor": 5
}
