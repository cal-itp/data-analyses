{
 "cells": [
  {
   "cell_type": "markdown",
   "id": "222f4120-a2ee-463c-bd72-94c733a55d2c",
   "metadata": {},
   "source": [
    "# Portfolio Organization Name YML -> Warehouse #1686\n",
    "* `portfolio_utils.standardize_portfolio_organization_names` is now linked to Airtable instead of the yml. Update all instances in the scripts."
   ]
  },
  {
   "cell_type": "code",
   "execution_count": 1,
   "id": "32b9f144-7d74-4007-a66b-6aedf31722e7",
   "metadata": {
    "tags": []
   },
   "outputs": [],
   "source": [
    "import geopandas as gpd\n",
    "import intake\n",
    "import merge_data\n",
    "import merge_operator_data\n",
    "import merge_operator_service\n",
    "import pandas as pd\n",
    "import yaml\n",
    "from calitp_data_analysis import geography_utils, utils\n",
    "from segment_speed_utils import (\n",
    "    gtfs_schedule_wrangling,\n",
    "    metrics,\n",
    "    segment_calcs,\n",
    "    time_series_utils,\n",
    ")\n",
    "from segment_speed_utils.project_vars import COMPILED_CACHED_VIEWS, weeks_available\n",
    "from shared_utils import (\n",
    "    dask_utils,\n",
    "    gtfs_utils_v2,\n",
    "    portfolio_utils,\n",
    "    publish_utils,\n",
    "    rt_dates,\n",
    "    time_helpers,\n",
    ")\n",
    "from update_vars import GTFS_DATA_DICT, RT_SCHED_GCS, SCHED_GCS, SEGMENT_GCS"
   ]
  },
  {
   "cell_type": "code",
   "execution_count": 2,
   "id": "74442091-30da-4fda-b593-1f45cdd540ab",
   "metadata": {
    "tags": []
   },
   "outputs": [],
   "source": [
    "catalog = intake.open_catalog(\"../_shared_utils/shared_utils/shared_data_catalog.yml\")"
   ]
  },
  {
   "cell_type": "code",
   "execution_count": 3,
   "id": "c812ca5c-58b9-404c-85b2-14f1931830a0",
   "metadata": {
    "tags": []
   },
   "outputs": [],
   "source": [
    "from calitp_data_analysis.sql import get_engine\n",
    "\n",
    "db_engine = get_engine()"
   ]
  },
  {
   "cell_type": "code",
   "execution_count": 4,
   "id": "5d0230d3-3da2-4267-b17f-005f388bcd24",
   "metadata": {
    "tags": []
   },
   "outputs": [],
   "source": [
    "sort_cols = [\"schedule_gtfs_dataset_key\", \"service_date\"]"
   ]
  },
  {
   "cell_type": "code",
   "execution_count": 5,
   "id": "a6d3bdcf-6424-48b5-9f33-a823ebed51e0",
   "metadata": {
    "tags": []
   },
   "outputs": [],
   "source": [
    "with open(\"../_shared_utils/shared_utils/portfolio_organization_name.yml\", \"r\") as f:\n",
    "    PORTFOLIO_ORGANIZATIONS_DICT = yaml.safe_load(f)"
   ]
  },
  {
   "cell_type": "code",
   "execution_count": 6,
   "id": "335ac374-c235-417b-bccf-915d703fe7bf",
   "metadata": {},
   "outputs": [],
   "source": [
    "import google.auth\n",
    "\n",
    "credentials, project = google.auth.default()\n",
    "\n",
    "import gcsfs\n",
    "\n",
    "fs = gcsfs.GCSFileSystem()"
   ]
  },
  {
   "cell_type": "code",
   "execution_count": 7,
   "id": "bbab44aa-9bb7-4e14-96ce-9ff442f73942",
   "metadata": {
    "tags": []
   },
   "outputs": [],
   "source": [
    "pd.options.display.max_columns = 100\n",
    "pd.options.display.float_format = \"{:.2f}\".format\n",
    "pd.set_option(\"display.max_rows\", None)\n",
    "pd.set_option(\"display.max_colwidth\", None)"
   ]
  },
  {
   "cell_type": "code",
   "execution_count": 8,
   "id": "13511ab7-a937-4298-af5a-c23ce09a21a0",
   "metadata": {
    "tags": []
   },
   "outputs": [],
   "source": [
    "def standardize_portfolio_organization_names(\n",
    "    df: pd.DataFrame, preferred_organization_name_dict: dict\n",
    ") -> pd.DataFrame:\n",
    "    # Map the preferred organization name using schedule_gtfs_dataset_name.\n",
    "    df = df.assign(\n",
    "        portfolio_organization_name=df.name.map(preferred_organization_name_dict)\n",
    "    )\n",
    "    # drop the ones that were removed with duplicated feed info (create_portfolio_display_yaml.py)\n",
    "    df = df.dropna(subset=\"portfolio_organization_name\")\n",
    "    return df"
   ]
  },
  {
   "cell_type": "markdown",
   "id": "2c4c9adb-afd6-4052-842c-35000625b1b0",
   "metadata": {},
   "source": [
    "## `_route_dir_data_prep.py`"
   ]
  },
  {
   "cell_type": "code",
   "execution_count": null,
   "id": "3fe5b02b-72d1-452a-9f49-ccf91ffc7f18",
   "metadata": {},
   "outputs": [],
   "source": []
  },
  {
   "cell_type": "markdown",
   "id": "0ba44b95-b185-40db-ae1b-819c58d7378d",
   "metadata": {},
   "source": [
    "## `python quarterly_rollup.py`"
   ]
  },
  {
   "cell_type": "code",
   "execution_count": null,
   "id": "e803b9ea-6c64-466c-9c35-28aff89d5013",
   "metadata": {
    "tags": []
   },
   "outputs": [],
   "source": [
    "import quarterly_rollup"
   ]
  },
  {
   "cell_type": "code",
   "execution_count": null,
   "id": "b179349c-11fc-4f0e-b203-39fa68a08221",
   "metadata": {
    "tags": []
   },
   "outputs": [],
   "source": [
    "DIGEST_RT_SCHED_MONTH = GTFS_DATA_DICT.digest_tables.monthly_route_schedule_vp"
   ]
  },
  {
   "cell_type": "code",
   "execution_count": null,
   "id": "86865e15-b8e5-430d-822a-ac552efa61bb",
   "metadata": {
    "tags": []
   },
   "outputs": [],
   "source": [
    "monthly_df = pd.read_parquet(f\"{RT_SCHED_GCS}{DIGEST_RT_SCHED_MONTH}.parquet\")"
   ]
  },
  {
   "cell_type": "code",
   "execution_count": null,
   "id": "26895bc3-e344-42b8-a2ff-31ce83fb4795",
   "metadata": {
    "tags": []
   },
   "outputs": [],
   "source": [
    "monthly_df[[\"schedule_source_record_id\", \"source_record_id\"]].sample(3)"
   ]
  },
  {
   "cell_type": "code",
   "execution_count": null,
   "id": "3c240743-4d26-4b43-8da6-5bb81844d5e7",
   "metadata": {
    "tags": []
   },
   "outputs": [],
   "source": [
    "#monthly_df[\"source_id_same\"] = (\n",
    "#    monthly_df.schedule_source_record_id == monthly_df.source_record_id\n",
    "#)"
   ]
  },
  {
   "cell_type": "code",
   "execution_count": null,
   "id": "a7f61b46-37e8-40e2-a19a-aaf301831188",
   "metadata": {
    "tags": []
   },
   "outputs": [],
   "source": [
    "# monthly_df[\"source_id_same\"].value_counts()"
   ]
  },
  {
   "cell_type": "code",
   "execution_count": null,
   "id": "9f9a526b-2fba-4a64-9421-893264ea15fa",
   "metadata": {
    "tags": []
   },
   "outputs": [],
   "source": [
    "# quarter_df = quarterly_rollup.quarterly_metrics(monthly_df)"
   ]
  },
  {
   "cell_type": "code",
   "execution_count": null,
   "id": "19b9722f-0693-4fad-8ba5-f8592ae79439",
   "metadata": {
    "tags": []
   },
   "outputs": [],
   "source": [
    "df = time_helpers.add_quarter(monthly_df, \"service_date\")"
   ]
  },
  {
   "cell_type": "code",
   "execution_count": null,
   "id": "f8d5e5bf-07a1-4e75-9302-c41f362099f6",
   "metadata": {
    "tags": []
   },
   "outputs": [],
   "source": [
    "df.year_quarter = df.year_quarter.str.replace(\"_\", \" \")"
   ]
  },
  {
   "cell_type": "code",
   "execution_count": null,
   "id": "b568a5cf-b0c5-4d30-ad5f-7cbb7ff8ad8f",
   "metadata": {
    "tags": []
   },
   "outputs": [],
   "source": [
    "schd_metric_cols = [\n",
    "    \"avg_scheduled_service_minutes\",\n",
    "    \"avg_stop_miles\",\n",
    "    \"frequency\",\n",
    "    \"total_scheduled_service_minutes\",\n",
    "]\n",
    "\n",
    "groupby_cols = [\n",
    "    \"analysis_name\",\n",
    "    \"source_record_id\",\n",
    "    \"year_quarter\",\n",
    "    \"direction_id\",\n",
    "    \"time_period\",\n",
    "    \"recent_combined_name\",\n",
    "]\n",
    "rt_metric_cols = [\n",
    "    \"minutes_atleast1_vp\",\n",
    "    \"minutes_atleast2_vp\",\n",
    "    \"total_rt_service_minutes\",\n",
    "    \"total_vp\",\n",
    "    \"vp_in_shape\",\n",
    "    \"avg_rt_service_minutes\",\n",
    "    \"speed_mph\",\n",
    "]\n",
    "rt_metric_no_weighted_avg = [\n",
    "    \"is_early\",\n",
    "    \"is_ontime\",\n",
    "    \"is_late\",\n",
    "]"
   ]
  },
  {
   "cell_type": "code",
   "execution_count": null,
   "id": "37277d9d-976c-4f62-a950-553bc9fdcda7",
   "metadata": {
    "tags": []
   },
   "outputs": [],
   "source": [
    "rt_metrics = segment_calcs.calculate_weighted_averages(\n",
    "    df=df[groupby_cols + rt_metric_cols + [\"n_vp_trips\"]],\n",
    "    group_cols=groupby_cols,\n",
    "    metric_cols=rt_metric_cols,\n",
    "    weight_col=\"n_vp_trips\",\n",
    ")"
   ]
  },
  {
   "cell_type": "code",
   "execution_count": null,
   "id": "ee19b8aa-81d9-4523-a63d-f52d3b434ee9",
   "metadata": {
    "tags": []
   },
   "outputs": [],
   "source": [
    "schd_metrics = segment_calcs.calculate_weighted_averages(\n",
    "    df=df[groupby_cols + schd_metric_cols + [\"n_scheduled_trips\"]],\n",
    "    group_cols=groupby_cols,\n",
    "    metric_cols=schd_metric_cols,\n",
    "    weight_col=\"n_scheduled_trips\",\n",
    ")\n",
    "\n",
    "\n",
    "# Calculate trips by timeliness which doesn't need weighted average\n",
    "timeliness_df = df[groupby_cols + rt_metric_no_weighted_avg]\n",
    "timeliness_df2 = (\n",
    "    timeliness_df.groupby(groupby_cols)\n",
    "    .agg({\"is_early\": \"sum\", \"is_ontime\": \"sum\", \"is_late\": \"sum\"})\n",
    "    .reset_index()\n",
    ")"
   ]
  },
  {
   "cell_type": "code",
   "execution_count": null,
   "id": "d2d3d568-ddb3-49eb-85b6-24478175c4f4",
   "metadata": {
    "tags": []
   },
   "outputs": [],
   "source": [
    "crosswalk_cols = [\n",
    "    \"base64_url\",\n",
    "    \"caltrans_district\",\n",
    "    \"combined_name\",\n",
    "    \"is_coverage\",\n",
    "    \"is_downtown_local\",\n",
    "    \"is_express\",\n",
    "    \"is_ferry\",\n",
    "    \"is_local\",\n",
    "    \"is_rail\",\n",
    "    \"is_rapid\",\n",
    "    \"name\",\n",
    "    \"recent_route_id\",\n",
    "    \"route_id\",\n",
    "    \"route_primary_direction\",\n",
    "    \"sched_rt_category\",\n",
    "    \"schedule_gtfs_dataset_key\",\n",
    "    \"schedule_source_record_id\",\n",
    "    \"source_record_id\",\n",
    "    \"typology\",\n",
    "    \"analysis_name\",\n",
    "    \"year_quarter\",\n",
    "    \"direction_id\",\n",
    "    \"time_period\",\n",
    "    \"recent_combined_name\" ,\n",
    "]"
   ]
  },
  {
   "cell_type": "code",
   "execution_count": null,
   "id": "0c635e2b-90c8-4d38-8082-0f1f9ad0582e",
   "metadata": {
    "tags": []
   },
   "outputs": [],
   "source": [
    "crosswalk = df[crosswalk_cols].drop_duplicates()"
   ]
  },
  {
   "cell_type": "code",
   "execution_count": null,
   "id": "dee841e8-6d01-4396-a92f-9973a5b56f56",
   "metadata": {
    "tags": []
   },
   "outputs": [],
   "source": [
    "m1 = (\n",
    "        pd.merge(rt_metrics, schd_metrics, on=groupby_cols)\n",
    "        .merge(timeliness_df2, on=groupby_cols)\n",
    "        .merge(crosswalk, on=groupby_cols)\n",
    "    )"
   ]
  },
  {
   "cell_type": "code",
   "execution_count": null,
   "id": "c4b39ab6-32a7-48c0-b843-1e8d63b2b0ff",
   "metadata": {
    "tags": []
   },
   "outputs": [],
   "source": [
    "m2 = m1.rename(\n",
    "    columns={\n",
    "        \"total_rt_service_minutes\": \"rt_service_minutes\",\n",
    "        \"total_scheduled_service_minutes\": \"scheduled_service_minutes\",\n",
    "    }).pipe(\n",
    "     metrics.calculate_rt_vs_schedule_metrics\n",
    "    ).rename(\n",
    "       columns={\n",
    "        \"rt_service_minutes\": \"total_rt_service_minutes\",\n",
    "        \"scheduled_service_minutes\": \"total_scheduled_service_minutes\"\n",
    "\n",
    "    })\n",
    " \n",
    "    # Have to recalculate rt sched journey ratio\n",
    "m2[\"rt_sched_journey_ratio\"] = (\n",
    "        m2.total_rt_service_minutes / m2.total_scheduled_service_minutes\n",
    "    )"
   ]
  },
  {
   "cell_type": "code",
   "execution_count": null,
   "id": "ee24fbeb-a1da-4886-b9f9-bf6df543ffba",
   "metadata": {
    "tags": []
   },
   "outputs": [],
   "source": [
    "col_proper_order = list(df.columns) \n",
    "col_proper_order.remove(\"service_date\")\n",
    "col_proper_order.remove(\"year\")\n",
    "col_proper_order.remove(\"quarter\")"
   ]
  },
  {
   "cell_type": "code",
   "execution_count": null,
   "id": "ab203d9d-fe8d-4711-91fa-a1dbce0fc3d9",
   "metadata": {
    "tags": []
   },
   "outputs": [],
   "source": [
    "m2 = m2[col_proper_order]"
   ]
  },
  {
   "cell_type": "markdown",
   "id": "8f5c69ac-ca7a-4dbd-8c76-b979967f060f",
   "metadata": {},
   "source": [
    "## Comparing what's in airtable vs. the yml"
   ]
  },
  {
   "cell_type": "code",
   "execution_count": null,
   "id": "f8de4761-0903-4dac-90d4-1f96acfeed99",
   "metadata": {
    "tags": []
   },
   "outputs": [],
   "source": [
    "with db_engine.connect() as connection:\n",
    "    query = \"\"\"\n",
    "            SELECT*\n",
    "            FROM\n",
    "            cal-itp-data-infra.mart_transit_database.dim_gtfs_datasets\n",
    "            WHERE _is_current = TRUE\n",
    "            \"\"\"\n",
    "    df = pd.read_sql(query, connection)"
   ]
  },
  {
   "cell_type": "code",
   "execution_count": null,
   "id": "a176b96f-6fc9-4795-8d85-79d59af41f46",
   "metadata": {
    "tags": []
   },
   "outputs": [],
   "source": [
    "df.sample()"
   ]
  },
  {
   "cell_type": "code",
   "execution_count": null,
   "id": "d6cafc8f-505a-48cf-9ce8-e31bf2898431",
   "metadata": {
    "tags": []
   },
   "outputs": [],
   "source": [
    "def load_portfolio_names() -> pd.DataFrame:\n",
    "    with db_engine.connect() as connection:\n",
    "        query = \"\"\"\n",
    "            SELECT\n",
    "            name,\n",
    "            analysis_name,\n",
    "            source_record_id\n",
    "            FROM\n",
    "            cal-itp-data-infra.mart_transit_database.dim_gtfs_datasets\n",
    "            WHERE _is_current = TRUE\n",
    "            \"\"\"\n",
    "        df = pd.read_sql(query, connection)\n",
    "    df = df.rename(\n",
    "        columns={\n",
    "            \"key\": \"schedule_gtfs_dataset_key\",\n",
    "        }\n",
    "    )\n",
    "    return df"
   ]
  },
  {
   "cell_type": "code",
   "execution_count": null,
   "id": "14ae9fd6-357d-4aa3-b873-f0799ef6651a",
   "metadata": {
    "tags": []
   },
   "outputs": [],
   "source": [
    "airtable_names = load_portfolio_names()"
   ]
  },
  {
   "cell_type": "code",
   "execution_count": null,
   "id": "ecbbd999-18c7-4a52-9400-ce64351fdeff",
   "metadata": {
    "scrolled": true,
    "tags": []
   },
   "outputs": [],
   "source": [
    "airtable_names.sort_values(by=[\"name\"])"
   ]
  },
  {
   "cell_type": "code",
   "execution_count": null,
   "id": "b40949ad-ad8c-4ed1-b3c8-f4eca002acd5",
   "metadata": {
    "tags": []
   },
   "outputs": [],
   "source": [
    "len(airtable_names.dropna(subset=[\"analysis_name\"]))"
   ]
  },
  {
   "cell_type": "code",
   "execution_count": null,
   "id": "bbf96fe8-f8c6-4cc0-918c-8fa68860074b",
   "metadata": {
    "tags": []
   },
   "outputs": [],
   "source": [
    "len(PORTFOLIO_ORGANIZATIONS_DICT)"
   ]
  },
  {
   "cell_type": "code",
   "execution_count": null,
   "id": "d317899e-9e22-4d31-9f05-cbba9481f19a",
   "metadata": {
    "tags": []
   },
   "outputs": [],
   "source": [
    "original_crosswalk = (\n",
    "    pd.DataFrame.from_dict(PORTFOLIO_ORGANIZATIONS_DICT, orient=\"index\")\n",
    "    .reset_index()\n",
    "    .rename(columns={\"index\": \"name\", 0: \"analysis_name\"})\n",
    ")"
   ]
  },
  {
   "cell_type": "code",
   "execution_count": null,
   "id": "8f661b49-153c-4e81-93e3-b359736e9ef7",
   "metadata": {
    "tags": []
   },
   "outputs": [],
   "source": [
    "original_crosswalk.columns"
   ]
  },
  {
   "cell_type": "code",
   "execution_count": null,
   "id": "999dfde4-3e25-4b6a-9e46-43a08bb8bff5",
   "metadata": {
    "tags": []
   },
   "outputs": [],
   "source": [
    "len(original_crosswalk)"
   ]
  },
  {
   "cell_type": "code",
   "execution_count": null,
   "id": "68c0ff05-bc91-424a-b624-3308e78333db",
   "metadata": {
    "scrolled": true,
    "tags": []
   },
   "outputs": [],
   "source": [
    "airtable_names_list = list(airtable_names.name.unique())"
   ]
  },
  {
   "cell_type": "code",
   "execution_count": null,
   "id": "2d6a3b56-41f0-4b27-8d96-8da56a77dd8f",
   "metadata": {
    "tags": []
   },
   "outputs": [],
   "source": [
    "airtable_analysis_names_list = list(airtable_names.analysis_name.unique())"
   ]
  },
  {
   "cell_type": "code",
   "execution_count": null,
   "id": "634a443a-0a7a-440b-8e56-1eaa3e93c24b",
   "metadata": {
    "tags": []
   },
   "outputs": [],
   "source": [
    "og_crosswalk_list = list(original_crosswalk.name.unique())"
   ]
  },
  {
   "cell_type": "code",
   "execution_count": null,
   "id": "602a0dd5-632e-491e-b9e0-a77c524777ee",
   "metadata": {
    "tags": []
   },
   "outputs": [],
   "source": [
    "og_crosswalk_analysis_names_list = list(original_crosswalk.analysis_name.unique())"
   ]
  },
  {
   "cell_type": "code",
   "execution_count": null,
   "id": "6f489341-5ec0-46ff-a697-9296d5ffa8e2",
   "metadata": {
    "tags": []
   },
   "outputs": [],
   "source": [
    "set(og_crosswalk_list) - set(airtable_names_list)"
   ]
  },
  {
   "cell_type": "code",
   "execution_count": null,
   "id": "da03c12f-741c-4b4a-b94e-c0839829afcb",
   "metadata": {
    "tags": []
   },
   "outputs": [],
   "source": [
    "set(og_crosswalk_analysis_names_list) - set(airtable_analysis_names_list)"
   ]
  },
  {
   "cell_type": "markdown",
   "id": "3c3c939e-4325-4230-9ec8-1ad876ecd9ab",
   "metadata": {},
   "source": [
    "## `merge_data`"
   ]
  },
  {
   "cell_type": "code",
   "execution_count": null,
   "id": "9bc6ce07-e586-4c1a-b87e-d0592192673e",
   "metadata": {
    "tags": []
   },
   "outputs": [],
   "source": [
    "def concatenate_crosswalk_organization(date_list: list) -> pd.DataFrame:\n",
    "    \"\"\"\n",
    "    Concatenate the crosswalk (from gtfs_funnel)\n",
    "    that connects gtfs_dataset_key to organization\n",
    "    and other organization-related columns (NTD, etc)\n",
    "    for all the dates we have.\n",
    "\n",
    "    This is operator grain.\n",
    "    \"\"\"\n",
    "    FILE = GTFS_DATA_DICT.schedule_tables.gtfs_key_crosswalk\n",
    "\n",
    "    crosswalk_cols = [\n",
    "        \"schedule_gtfs_dataset_key\",\n",
    "        \"name\",\n",
    "        \"schedule_source_record_id\",\n",
    "        \"base64_url\",\n",
    "        # \"organization_source_record_id\",\n",
    "        # \"organization_name\",\n",
    "        \"caltrans_district\",\n",
    "    ]\n",
    "\n",
    "    df = time_series_utils.concatenate_datasets_across_dates(\n",
    "        SCHED_GCS, FILE, date_list, data_type=\"df\", columns=crosswalk_cols\n",
    "    )\n",
    "\n",
    "    df = df.assign(\n",
    "        caltrans_district=df.caltrans_district.map(\n",
    "            portfolio_utils.CALTRANS_DISTRICT_DICT\n",
    "        )\n",
    "    ).pipe(portfolio_utils.standardize_portfolio_organization_names)\n",
    "\n",
    "    # to aggregate up to organization,\n",
    "    # group by name-service_date-portfolio_organization_name\n",
    "    # because name indicates different feeds, so we want to sum those.\n",
    "\n",
    "    return df"
   ]
  },
  {
   "cell_type": "code",
   "execution_count": null,
   "id": "de33a0e2-213e-4adf-a3a8-be6ecb22b659",
   "metadata": {
    "tags": []
   },
   "outputs": [],
   "source": [
    "analysis_date_list = rt_dates.y2024_dates + rt_dates.y2023_dates + rt_dates.y2025_dates"
   ]
  },
  {
   "cell_type": "code",
   "execution_count": null,
   "id": "c210b079-7fa8-4280-b999-2702743ff743",
   "metadata": {
    "tags": []
   },
   "outputs": [],
   "source": [
    "crosswalk = concatenate_crosswalk_organization(analysis_date_list)"
   ]
  },
  {
   "cell_type": "code",
   "execution_count": null,
   "id": "2a6a7229-b61c-4111-8177-fa2a972a94f2",
   "metadata": {
    "tags": []
   },
   "outputs": [],
   "source": [
    "crosswalk.shape"
   ]
  },
  {
   "cell_type": "code",
   "execution_count": null,
   "id": "f74368a8-452a-47a0-b8c2-39c8fdd0f515",
   "metadata": {
    "tags": []
   },
   "outputs": [],
   "source": [
    "# crosswalk_og = concatenate_crosswalk_organization_og(analysis_date_list)"
   ]
  },
  {
   "cell_type": "code",
   "execution_count": null,
   "id": "6cb2dc70-f80d-4f92-a5b8-013fd9335dfc",
   "metadata": {
    "tags": []
   },
   "outputs": [],
   "source": [
    "crosswalk.shape"
   ]
  },
  {
   "cell_type": "code",
   "execution_count": null,
   "id": "80d91bb2-768d-4165-b1a4-c50dcd314e28",
   "metadata": {
    "tags": []
   },
   "outputs": [],
   "source": [
    "# crosswalk_og.shape"
   ]
  },
  {
   "cell_type": "markdown",
   "id": "64d44dec-6d40-4852-b4fa-78706497c7f5",
   "metadata": {},
   "source": [
    "## `merge_operator_data`"
   ]
  },
  {
   "cell_type": "code",
   "execution_count": null,
   "id": "203b2fab-a8e3-439d-9265-3b5e9cd13c36",
   "metadata": {
    "tags": []
   },
   "outputs": [],
   "source": [
    "def concatenate_operator_routes(date_list: list) -> gpd.GeoDataFrame:\n",
    "    \"\"\"\n",
    "    Concatenate operator route gdf (1 representative shape chosen)\n",
    "    across all dates we have.\n",
    "    \"\"\"\n",
    "    FILE = GTFS_DATA_DICT.schedule_tables.operator_routes\n",
    "\n",
    "    df = (\n",
    "        time_series_utils.concatenate_datasets_across_dates(\n",
    "            SCHED_GCS,\n",
    "            FILE,\n",
    "            date_list,\n",
    "            data_type=\"gdf\",\n",
    "        )\n",
    "        .sort_values(sort_cols)\n",
    "        .reset_index(drop=True)\n",
    "        .pipe(portfolio_utils.standardize_portfolio_organization_names)\n",
    "    )\n",
    "\n",
    "    return df"
   ]
  },
  {
   "cell_type": "code",
   "execution_count": null,
   "id": "72469c32-9055-4bfa-a4e1-3f7968244d5b",
   "metadata": {
    "tags": []
   },
   "outputs": [],
   "source": [
    "operator_routes = concatenate_operator_routes(analysis_date_list)"
   ]
  },
  {
   "cell_type": "code",
   "execution_count": null,
   "id": "3bc7df28-07da-4806-b27d-ee0b68760778",
   "metadata": {
    "tags": []
   },
   "outputs": [],
   "source": [
    "def concatenate_operator_routes_og(date_list: list) -> gpd.GeoDataFrame:\n",
    "    \"\"\"\n",
    "    Concatenate operator route gdf (1 representative shape chosen)\n",
    "    across all dates we have.\n",
    "    \"\"\"\n",
    "    FILE = GTFS_DATA_DICT.schedule_tables.operator_routes\n",
    "\n",
    "    df = (\n",
    "        time_series_utils.concatenate_datasets_across_dates(\n",
    "            SCHED_GCS,\n",
    "            FILE,\n",
    "            date_list,\n",
    "            data_type=\"gdf\",\n",
    "        )\n",
    "        .sort_values(sort_cols)\n",
    "        .reset_index(drop=True)\n",
    "        .pipe(standardize_portfolio_organization_names, PORTFOLIO_ORGANIZATIONS_DICT)\n",
    "    )\n",
    "\n",
    "    return df"
   ]
  },
  {
   "cell_type": "code",
   "execution_count": null,
   "id": "e4100342-cc54-4020-baca-e6b11323d087",
   "metadata": {
    "tags": []
   },
   "outputs": [],
   "source": [
    "operator_routes_og = concatenate_operator_routes_og(analysis_date_list)"
   ]
  },
  {
   "cell_type": "code",
   "execution_count": null,
   "id": "685c49e0-0f4f-4df2-9921-d82af1029b20",
   "metadata": {
    "tags": []
   },
   "outputs": [],
   "source": [
    "operator_routes_og.shape"
   ]
  },
  {
   "cell_type": "code",
   "execution_count": null,
   "id": "bca2bfb5-126b-4acc-8513-ea57a2ee9022",
   "metadata": {
    "tags": []
   },
   "outputs": [],
   "source": [
    "operator_routes.shape"
   ]
  },
  {
   "cell_type": "code",
   "execution_count": null,
   "id": "229af4de-bdc6-4c5d-979b-31ce06b19a4d",
   "metadata": {
    "tags": []
   },
   "outputs": [],
   "source": [
    "def concatenate_crosswalks(\n",
    "    date_list: list,\n",
    ") -> pd.DataFrame:\n",
    "    \"\"\"\n",
    "    Get crosswalk and selected NTD columns for certain dates.\n",
    "    \"\"\"\n",
    "    FILE = GTFS_DATA_DICT.schedule_tables.gtfs_key_crosswalk\n",
    "\n",
    "    ntd_cols = [\n",
    "        \"schedule_gtfs_dataset_key\",\n",
    "        \"name\",\n",
    "        \"caltrans_district\",\n",
    "        \"service_area_sq_miles\",\n",
    "        \"hq_city\",\n",
    "        \"service_area_pop\",\n",
    "        \"organization_type\",\n",
    "        \"primary_uza_name\",\n",
    "        \"reporter_type\",\n",
    "    ]\n",
    "\n",
    "    df = (\n",
    "        time_series_utils.concatenate_datasets_across_dates(\n",
    "            SCHED_GCS, FILE, date_list, data_type=\"df\", columns=ntd_cols\n",
    "        )\n",
    "        .sort_values(sort_cols)\n",
    "        .reset_index(drop=True)\n",
    "    )\n",
    "\n",
    "    df = df.assign(\n",
    "        caltrans_district=df.caltrans_district.map(\n",
    "            portfolio_utils.CALTRANS_DISTRICT_DICT\n",
    "        )\n",
    "    ).pipe(\n",
    "        portfolio_utils.standardize_portfolio_organization_names,\n",
    "    )\n",
    "\n",
    "    return df"
   ]
  },
  {
   "cell_type": "code",
   "execution_count": null,
   "id": "0999317f-6940-4db1-84f9-f55688aa8626",
   "metadata": {
    "tags": []
   },
   "outputs": [],
   "source": [
    "crosswalk = concatenate_crosswalks(analysis_date_list)"
   ]
  },
  {
   "cell_type": "code",
   "execution_count": null,
   "id": "ad5e7dc8-c685-43e2-84bb-66f69644f2c3",
   "metadata": {
    "tags": []
   },
   "outputs": [],
   "source": [
    "def concatenate_crosswalks_og(\n",
    "    date_list: list,\n",
    ") -> pd.DataFrame:\n",
    "    \"\"\"\n",
    "    Get crosswalk and selected NTD columns for certain dates.\n",
    "    \"\"\"\n",
    "    FILE = GTFS_DATA_DICT.schedule_tables.gtfs_key_crosswalk\n",
    "\n",
    "    ntd_cols = [\n",
    "        \"schedule_gtfs_dataset_key\",\n",
    "        \"name\",\n",
    "        \"caltrans_district\",\n",
    "        \"service_area_sq_miles\",\n",
    "        \"hq_city\",\n",
    "        \"service_area_pop\",\n",
    "        \"organization_type\",\n",
    "        \"primary_uza_name\",\n",
    "        \"reporter_type\",\n",
    "    ]\n",
    "\n",
    "    df = (\n",
    "        time_series_utils.concatenate_datasets_across_dates(\n",
    "            SCHED_GCS, FILE, date_list, data_type=\"df\", columns=ntd_cols\n",
    "        )\n",
    "        .sort_values(sort_cols)\n",
    "        .reset_index(drop=True)\n",
    "    )\n",
    "\n",
    "    df = df.assign(\n",
    "        caltrans_district=df.caltrans_district.map(\n",
    "            portfolio_utils.CALTRANS_DISTRICT_DICT\n",
    "        )\n",
    "    ).pipe(standardize_portfolio_organization_names, PORTFOLIO_ORGANIZATIONS_DICT)\n",
    "\n",
    "    return df"
   ]
  },
  {
   "cell_type": "code",
   "execution_count": null,
   "id": "c5b4b6d8-d117-4f16-a1b3-99c2aeff805d",
   "metadata": {
    "tags": []
   },
   "outputs": [],
   "source": [
    "crosswalk_og = concatenate_crosswalks_og(analysis_date_list)"
   ]
  },
  {
   "cell_type": "code",
   "execution_count": null,
   "id": "60cb7824-ccf3-4ab5-b424-144656ee013a",
   "metadata": {
    "tags": []
   },
   "outputs": [],
   "source": [
    "crosswalk_og.shape"
   ]
  },
  {
   "cell_type": "code",
   "execution_count": null,
   "id": "aa78bfb7-b2bd-425b-bd6e-810e5b73585e",
   "metadata": {
    "tags": []
   },
   "outputs": [],
   "source": [
    "crosswalk.shape"
   ]
  },
  {
   "cell_type": "code",
   "execution_count": null,
   "id": "a126fd31-376f-49da-be62-670edb84f814",
   "metadata": {
    "tags": []
   },
   "outputs": [],
   "source": [
    "crosswalk.sample()"
   ]
  },
  {
   "cell_type": "code",
   "execution_count": null,
   "id": "9414c166-4bfe-4998-9469-411349d4c0ea",
   "metadata": {
    "tags": []
   },
   "outputs": [],
   "source": [
    "crosswalk_og.sample()"
   ]
  },
  {
   "cell_type": "code",
   "execution_count": null,
   "id": "b90b2bab-d338-4536-a026-a874d65fdda6",
   "metadata": {
    "tags": []
   },
   "outputs": [],
   "source": [
    "crosswalk.analysis_name.nunique()"
   ]
  },
  {
   "cell_type": "code",
   "execution_count": null,
   "id": "d73988b3-83b8-4d20-b821-d0edad271121",
   "metadata": {
    "tags": []
   },
   "outputs": [],
   "source": [
    "crosswalk_og.portfolio_organization_name.nunique()"
   ]
  },
  {
   "cell_type": "code",
   "execution_count": null,
   "id": "d0a79e26-fb9d-4d0a-9db7-19f91e3c1e03",
   "metadata": {
    "tags": []
   },
   "outputs": [],
   "source": [
    "og_orgs = list(crosswalk_og.portfolio_organization_name.unique())"
   ]
  },
  {
   "cell_type": "code",
   "execution_count": null,
   "id": "c3198783-33ad-469e-a0ec-c8ca0a60886a",
   "metadata": {
    "tags": []
   },
   "outputs": [],
   "source": [
    "new_orgs = list(crosswalk.analysis_name.unique())"
   ]
  },
  {
   "cell_type": "code",
   "execution_count": null,
   "id": "5ed65e72-970c-4923-8f97-6b6f471bdb29",
   "metadata": {
    "tags": []
   },
   "outputs": [],
   "source": [
    "set(og_orgs) - set(new_orgs)"
   ]
  },
  {
   "cell_type": "code",
   "execution_count": null,
   "id": "aa9a6fb0-dd72-42d3-82c9-2342ad17c4f7",
   "metadata": {
    "tags": []
   },
   "outputs": [],
   "source": [
    "og_names = list(crosswalk_og.name.unique())"
   ]
  },
  {
   "cell_type": "code",
   "execution_count": null,
   "id": "1ecc3568-f7be-4f6f-b16e-140ace53beed",
   "metadata": {
    "tags": []
   },
   "outputs": [],
   "source": [
    "new_names = list(crosswalk.name.unique())"
   ]
  },
  {
   "cell_type": "code",
   "execution_count": null,
   "id": "fa01e0ca-3ce7-4f46-9ea7-631d1d81f1ec",
   "metadata": {
    "tags": []
   },
   "outputs": [],
   "source": [
    "set(og_names) - set(new_names)"
   ]
  },
  {
   "cell_type": "code",
   "execution_count": null,
   "id": "ac6d7b25-e9a4-4e4d-a927-6b19e34505d9",
   "metadata": {
    "scrolled": true,
    "tags": []
   },
   "outputs": [],
   "source": [
    "crosswalk_og[[\"portfolio_organization_name\", \"name\"]].sort_values(\n",
    "    by=[\"portfolio_organization_name\"]\n",
    ").drop_duplicates()"
   ]
  },
  {
   "cell_type": "code",
   "execution_count": null,
   "id": "e4f9ddd5-3e4a-41b3-ab5e-240919b3142f",
   "metadata": {
    "scrolled": true,
    "tags": []
   },
   "outputs": [],
   "source": [
    "# crosswalk[[\"analysis_name\", \"name\"]].sort_values(by=[\"analysis_name\"]).drop_duplicates()"
   ]
  },
  {
   "cell_type": "markdown",
   "id": "b71cf493-99f4-423c-9dfd-6b82ff90788a",
   "metadata": {},
   "source": [
    "## `merge operator service`"
   ]
  },
  {
   "cell_type": "code",
   "execution_count": null,
   "id": "981b9c02-79fa-443f-b1bc-2f16496691dc",
   "metadata": {
    "tags": []
   },
   "outputs": [],
   "source": [
    "def concatenate_trips(\n",
    "    date_list: list,\n",
    ") -> pd.DataFrame:\n",
    "    \"\"\"\n",
    "    Concatenate schedule data that's been\n",
    "    aggregated to route-direction-time_period for\n",
    "    multiple days.\n",
    "    \"\"\"\n",
    "    FILE = GTFS_DATA_DICT.schedule_downloads.trips\n",
    "\n",
    "    df = (\n",
    "        time_series_utils.concatenate_datasets_across_dates(\n",
    "            COMPILED_CACHED_VIEWS,\n",
    "            FILE,\n",
    "            date_list,\n",
    "            data_type=\"df\",\n",
    "            columns=[\n",
    "                \"name\",\n",
    "                \"service_date\",\n",
    "                \"route_long_name\",\n",
    "                \"trip_first_departure_datetime_pacific\",\n",
    "                \"service_hours\",\n",
    "            ],\n",
    "        )\n",
    "        .sort_values([\"service_date\"])\n",
    "        .reset_index(drop=True)\n",
    "    )\n",
    "\n",
    "    # Map portfolio_organization_name to name\n",
    "    # First remove any private datasets before mapping\n",
    "    public_datasets = gtfs_utils_v2.filter_to_public_schedule_gtfs_dataset_keys(\n",
    "        get_df=True\n",
    "    )\n",
    "    public_feeds = public_datasets.gtfs_dataset_name.unique().tolist()\n",
    "\n",
    "    df = (\n",
    "        df.pipe(\n",
    "            publish_utils.exclude_private_datasets,\n",
    "            col=\"name\",\n",
    "            public_gtfs_dataset_keys=public_feeds,\n",
    "        )\n",
    "        .pipe(portfolio_utils.standardize_portfolio_organization_names)\n",
    "        .drop(columns=[\"name\"])\n",
    "    )\n",
    "\n",
    "    return df"
   ]
  },
  {
   "cell_type": "code",
   "execution_count": null,
   "id": "5589194d-eec0-45a6-a2c6-d6c215ae6806",
   "metadata": {
    "tags": []
   },
   "outputs": [],
   "source": [
    "def concatenate_trips_og(\n",
    "    date_list: list,\n",
    ") -> pd.DataFrame:\n",
    "    \"\"\"\n",
    "    Concatenate schedule data that's been\n",
    "    aggregated to route-direction-time_period for\n",
    "    multiple days.\n",
    "    \"\"\"\n",
    "    FILE = GTFS_DATA_DICT.schedule_downloads.trips\n",
    "\n",
    "    df = (\n",
    "        time_series_utils.concatenate_datasets_across_dates(\n",
    "            COMPILED_CACHED_VIEWS,\n",
    "            FILE,\n",
    "            date_list,\n",
    "            data_type=\"df\",\n",
    "            columns=[\n",
    "                \"name\",\n",
    "                \"service_date\",\n",
    "                \"route_long_name\",\n",
    "                \"trip_first_departure_datetime_pacific\",\n",
    "                \"service_hours\",\n",
    "            ],\n",
    "        )\n",
    "        .sort_values([\"service_date\"])\n",
    "        .reset_index(drop=True)\n",
    "    )\n",
    "\n",
    "    # Map portfolio_organization_name to name\n",
    "    # First remove any private datasets before mapping\n",
    "    public_datasets = gtfs_utils_v2.filter_to_public_schedule_gtfs_dataset_keys(\n",
    "        get_df=True\n",
    "    )\n",
    "    public_feeds = public_datasets.gtfs_dataset_name.unique().tolist()\n",
    "\n",
    "    df = (\n",
    "        df.pipe(\n",
    "            publish_utils.exclude_private_datasets,\n",
    "            col=\"name\",\n",
    "            public_gtfs_dataset_keys=public_feeds,\n",
    "        )\n",
    "        .pipe(standardize_portfolio_organization_names, PORTFOLIO_ORGANIZATIONS_DICT)\n",
    "        .drop(columns=[\"name\"])\n",
    "    )\n",
    "\n",
    "    return df"
   ]
  },
  {
   "cell_type": "code",
   "execution_count": null,
   "id": "ebbcec8b-a43f-4cd4-b1a5-7bc770926242",
   "metadata": {
    "tags": []
   },
   "outputs": [],
   "source": [
    "trips_og = concatenate_trips_og(analysis_date_list)"
   ]
  },
  {
   "cell_type": "code",
   "execution_count": null,
   "id": "16b8a014-ef14-43c2-9e6c-6b13023368b6",
   "metadata": {
    "tags": []
   },
   "outputs": [],
   "source": [
    "trips = concatenate_trips(analysis_date_list)"
   ]
  },
  {
   "cell_type": "code",
   "execution_count": null,
   "id": "482e0e87-a10a-425b-bd05-e5a4c80ed01f",
   "metadata": {
    "tags": []
   },
   "outputs": [],
   "source": [
    "trips_og.shape, trips.shape"
   ]
  },
  {
   "cell_type": "markdown",
   "id": "d86959c3-129f-4655-bc0c-fe53be5c2f4d",
   "metadata": {},
   "source": [
    "## `open_data/create_stops_data`"
   ]
  },
  {
   "cell_type": "code",
   "execution_count": 9,
   "id": "fed35fe8-d3a8-4bb2-ba8d-aff945a0cd86",
   "metadata": {
    "tags": []
   },
   "outputs": [],
   "source": [
    "ah_stops_test = (\n",
    "    \"gs://calitp-analytics-data/data-analyses/ah_testing/ca_transit_stops.parquet\"\n",
    ")"
   ]
  },
  {
   "cell_type": "code",
   "execution_count": 36,
   "id": "9b8f5607-7705-4671-a3a7-254c4d2995ca",
   "metadata": {
    "tags": []
   },
   "outputs": [],
   "source": [
    "ah_stops_df = gpd.read_parquet(\n",
    "    ah_stops_test,\n",
    "    storage_options={\"token\": credentials.token},\n",
    ")"
   ]
  },
  {
   "cell_type": "code",
   "execution_count": 11,
   "id": "accd338c-21c1-48d8-8c6c-2d4444ad78b0",
   "metadata": {
    "tags": []
   },
   "outputs": [],
   "source": [
    "og_stops_url = (\n",
    "    \"gs://calitp-analytics-data/data-analyses/traffic_ops/ca_transit_stops.parquet\"\n",
    ")"
   ]
  },
  {
   "cell_type": "code",
   "execution_count": 12,
   "id": "07e5caa4-f0fa-488a-b353-b7cdb50acaef",
   "metadata": {
    "tags": []
   },
   "outputs": [],
   "source": [
    "og_stops_df = gpd.read_parquet(\n",
    "    og_stops_url,\n",
    "    storage_options={\"token\": credentials.token},\n",
    ")"
   ]
  },
  {
   "cell_type": "markdown",
   "id": "ef83ead2-5891-418d-8718-6f842a35baa9",
   "metadata": {},
   "source": [
    "### How did 30,000 more rows pop up?"
   ]
  },
  {
   "cell_type": "code",
   "execution_count": 13,
   "id": "4cd5e092-aa77-4f82-8554-044f5c0262e9",
   "metadata": {
    "tags": []
   },
   "outputs": [
    {
     "data": {
      "text/plain": [
       "(129391, 13)"
      ]
     },
     "execution_count": 13,
     "metadata": {},
     "output_type": "execute_result"
    }
   ],
   "source": [
    "og_stops_df.shape"
   ]
  },
  {
   "cell_type": "code",
   "execution_count": 14,
   "id": "516d29f3-cbd1-4c14-a6d4-a6479a2bc507",
   "metadata": {
    "tags": []
   },
   "outputs": [
    {
     "data": {
      "text/plain": [
       "(159325, 13)"
      ]
     },
     "execution_count": 14,
     "metadata": {},
     "output_type": "execute_result"
    }
   ],
   "source": [
    "ah_stops_df.shape"
   ]
  },
  {
   "cell_type": "code",
   "execution_count": 15,
   "id": "a46e79a8-eaaa-4b11-9edd-65ed692f2562",
   "metadata": {
    "tags": []
   },
   "outputs": [],
   "source": [
    "analysis_date = rt_dates.DATES[\"jun2025\"]"
   ]
  },
  {
   "cell_type": "code",
   "execution_count": 16,
   "id": "bb73399b-8509-498f-831b-1a71024c9ca0",
   "metadata": {
    "tags": []
   },
   "outputs": [],
   "source": [
    "def load_portfolio_names() -> pd.DataFrame:\n",
    "    with db_engine.connect() as connection:\n",
    "        query = \"\"\"\n",
    "            SELECT\n",
    "            name,\n",
    "            analysis_name,\n",
    "            source_record_id,\n",
    "            FROM\n",
    "            cal-itp-data-infra.mart_transit_database.dim_gtfs_datasets\n",
    "            WHERE _is_current = TRUE\n",
    "            \"\"\"\n",
    "        df = pd.read_sql(query, connection)\n",
    "    df = df.rename(\n",
    "        columns={\n",
    "            \"key\": \"schedule_gtfs_dataset_key\",\n",
    "        }\n",
    "    )\n",
    "    return df\n",
    "\n",
    "\n",
    "def standardize_portfolio_organization_names_new(df: pd.DataFrame) -> pd.DataFrame:\n",
    "    portfolio_name_df = load_portfolio_names()\n",
    "    # Map the preferred organization name using schedule_gtfs_dataset_name.\n",
    "    m1 = pd.merge(\n",
    "        df,\n",
    "        portfolio_name_df,\n",
    "        on=\"name\",\n",
    "        how=\"left\",\n",
    "    )\n",
    "\n",
    "    # drop the ones that were removed with duplicated feed info\n",
    "    m1 = m1.dropna(subset=\"analysis_name\")\n",
    "    return m1"
   ]
  },
  {
   "cell_type": "code",
   "execution_count": 17,
   "id": "2f7ba6ca-959e-458a-9647-0b7dc4135fd2",
   "metadata": {
    "tags": []
   },
   "outputs": [],
   "source": [
    "def standardize_operator_info_for_exports_og(\n",
    "    df: pd.DataFrame, date: str\n",
    ") -> pd.DataFrame:\n",
    "    \"\"\"\n",
    "    Use our crosswalk file created in gtfs_funnel\n",
    "    and add in the organization columns we want to\n",
    "    publish on.\n",
    "    \"\"\"\n",
    "\n",
    "    CROSSWALK_FILE = GTFS_DATA_DICT.schedule_tables.gtfs_key_crosswalk\n",
    "\n",
    "    public_feeds = gtfs_utils_v2.filter_to_public_schedule_gtfs_dataset_keys()\n",
    "\n",
    "    # Get the crosswalk file\n",
    "    crosswalk = pd.read_parquet(\n",
    "        f\"{SCHED_GCS}{CROSSWALK_FILE}_{date}.parquet\",\n",
    "        columns=[\n",
    "            \"schedule_gtfs_dataset_key\",\n",
    "            \"name\",\n",
    "            \"base64_url\",\n",
    "            \"caltrans_district\",\n",
    "        ],\n",
    "        filters=[[(\"schedule_gtfs_dataset_key\", \"in\", public_feeds)]],\n",
    "    )\n",
    "\n",
    "    # Add portfolio_organization_name\n",
    "    crosswalk = (\n",
    "        crosswalk.assign(\n",
    "            caltrans_district=crosswalk.caltrans_district.map(\n",
    "                portfolio_utils.CALTRANS_DISTRICT_DICT\n",
    "            )\n",
    "        )\n",
    "        .pipe(standardize_portfolio_organization_names, PORTFOLIO_ORGANIZATIONS_DICT)\n",
    "        .drop_duplicates(\n",
    "            subset=[\"schedule_gtfs_dataset_key\", \"name\", \"portfolio_organization_name\"]\n",
    "        )\n",
    "    )\n",
    "\n",
    "    # Checked whether we need a left merge to keep stops outside of CA\n",
    "    # that may not have caltrans_district\n",
    "    # and inner merge is fine. All operators are assigned a caltrans_district\n",
    "    # so Amtrak / FlixBus stops have values populated\n",
    "\n",
    "    # Merge the crosswalk and the input DF\n",
    "    crosswalk_input_merged = pd.merge(\n",
    "        df,\n",
    "        crosswalk,\n",
    "        on=[\"schedule_gtfs_dataset_key\"],\n",
    "        suffixes=[\n",
    "            \"_original\",\n",
    "            None,\n",
    "        ],  # Keep the source record id from the crosswalk as the \"definitive\" version\n",
    "        how=\"inner\",\n",
    "    )\n",
    "\n",
    "    # Drop dups\n",
    "    crosswalk_input_merged = crosswalk_input_merged.drop_duplicates()\n",
    "    return crosswalk_input_merged"
   ]
  },
  {
   "cell_type": "code",
   "execution_count": 18,
   "id": "17fdfdc9-8a29-4f87-abab-746463b41317",
   "metadata": {
    "tags": []
   },
   "outputs": [],
   "source": [
    "def standardize_operator_info_for_exports_new(\n",
    "    df: pd.DataFrame, date: str\n",
    ") -> pd.DataFrame:\n",
    "    \"\"\"\n",
    "    Use our crosswalk file created in gtfs_funnel\n",
    "    and add in the organization columns we want to\n",
    "    publish on.\n",
    "    \"\"\"\n",
    "\n",
    "    CROSSWALK_FILE = GTFS_DATA_DICT.schedule_tables.gtfs_key_crosswalk\n",
    "\n",
    "    public_feeds = gtfs_utils_v2.filter_to_public_schedule_gtfs_dataset_keys()\n",
    "\n",
    "    # Get the crosswalk file\n",
    "    crosswalk = pd.read_parquet(\n",
    "        f\"{SCHED_GCS}{CROSSWALK_FILE}_{date}.parquet\",\n",
    "        columns=[\n",
    "            \"schedule_gtfs_dataset_key\",\n",
    "            \"name\",\n",
    "            \"base64_url\",\n",
    "            \"caltrans_district\",\n",
    "        ],\n",
    "        filters=[[(\"schedule_gtfs_dataset_key\", \"in\", public_feeds)]],\n",
    "    )\n",
    "\n",
    "    # Add portfolio_organization_name\n",
    "    crosswalk = (\n",
    "        crosswalk.assign(\n",
    "            caltrans_district=crosswalk.caltrans_district.map(\n",
    "                portfolio_utils.CALTRANS_DISTRICT_DICT\n",
    "            )\n",
    "        )\n",
    "        .pipe(standardize_portfolio_organization_names_new)\n",
    "        .drop_duplicates(subset=[\"schedule_gtfs_dataset_key\", \"name\", \"analysis_name\"])\n",
    "    )\n",
    "\n",
    "    # Checked whether we need a left merge to keep stops outside of CA\n",
    "    # that may not have caltrans_district\n",
    "    # and inner merge is fine. All operators are assigned a caltrans_district\n",
    "    # so Amtrak / FlixBus stops have values populated\n",
    "\n",
    "    # Merge the crosswalk and the input DF\n",
    "    crosswalk_input_merged = pd.merge(\n",
    "        df,\n",
    "        crosswalk,\n",
    "        on=[\"schedule_gtfs_dataset_key\"],\n",
    "        suffixes=[\n",
    "            \"_original\",\n",
    "            None,\n",
    "        ],  # Keep the source record id from the crosswalk as the \"definitive\" version\n",
    "        how=\"inner\",\n",
    "    )\n",
    "\n",
    "    # Drop dups\n",
    "    crosswalk_input_merged = crosswalk_input_merged.drop_duplicates()\n",
    "    return crosswalk_input_merged"
   ]
  },
  {
   "cell_type": "code",
   "execution_count": 19,
   "id": "0f9fdb7b-d198-43b4-8456-5cd0b56c3265",
   "metadata": {
    "tags": []
   },
   "outputs": [],
   "source": [
    "def create_stops_file_for_export_new(\n",
    "    date: str,\n",
    ") -> gpd.GeoDataFrame:\n",
    "    \"\"\"\n",
    "    Read in scheduled stop metrics table and attach crosswalk\n",
    "    info related to organization for Geoportal.\n",
    "    \"\"\"\n",
    "\n",
    "    # Read in parquets\n",
    "    STOP_FILE = GTFS_DATA_DICT.rt_vs_schedule_tables.sched_stop_metrics\n",
    "\n",
    "    stops = gpd.read_parquet(\n",
    "        f\"{RT_SCHED_GCS}{STOP_FILE}_{date}.parquet\",\n",
    "        storage_options={\"token\": credentials.token},\n",
    "    )\n",
    "\n",
    "    stops2 = standardize_operator_info_for_exports_new(stops, date)\n",
    "\n",
    "    return stops2"
   ]
  },
  {
   "cell_type": "code",
   "execution_count": 20,
   "id": "b4f0370c-016e-41e6-a091-5d8d18b2fd78",
   "metadata": {
    "tags": []
   },
   "outputs": [],
   "source": [
    "stops_new = create_stops_file_for_export_new(analysis_date)"
   ]
  },
  {
   "cell_type": "markdown",
   "id": "1407c03b-7e1f-419b-980c-7c04bc888341",
   "metadata": {},
   "source": [
    "### Move `.pipe(open_data_utils.standardize_operator_info_for_exports, one_date)` away to the end?"
   ]
  },
  {
   "cell_type": "code",
   "execution_count": 21,
   "id": "6a55f79d-d195-4a69-a56c-1433652ad817",
   "metadata": {
    "tags": []
   },
   "outputs": [],
   "source": [
    "def add_distance_to_state_highway(stops: gpd.GeoDataFrame) -> gpd.GeoDataFrame:\n",
    "    \"\"\"\n",
    "    Bring in State Highway Network gdf and add a column that tells us\n",
    "    distance (in meters) between stop and SHN.\n",
    "    For stops outside of CA, this will not be that meaningful.\n",
    "    Using a dissolve takes a long time. Instead, opt for gpd.sjoin_nearest,\n",
    "    which allows us to return a distance column, and if there are multiple\n",
    "    rows, we'll keep the closest distance.\n",
    "\n",
    "    See discussion in:\n",
    "    https://github.com/cal-itp/data-analyses/issues/1182\n",
    "    https://github.com/cal-itp/data-analyses/issues/1321\n",
    "    https://github.com/cal-itp/data-analyses/issues/1397\n",
    "    \"\"\"\n",
    "    orig_crs = stops.crs\n",
    "\n",
    "    shn = catalog.state_highway_network.read()[[\"District\", \"geometry\"]].to_crs(\n",
    "        geography_utils.CA_NAD83Albers_m\n",
    "    )\n",
    "\n",
    "    stop_cols = [\"schedule_gtfs_dataset_key\", \"stop_id\"]\n",
    "\n",
    "    nearest_shn_result = (\n",
    "        gpd.sjoin_nearest(\n",
    "            stops[stop_cols + [\"geometry\"]].to_crs(geography_utils.CA_NAD83Albers_m),\n",
    "            shn,\n",
    "            distance_col=\"meters_to_shn\",\n",
    "        )\n",
    "        .sort_values(stop_cols + [\"meters_to_shn\"])\n",
    "        .drop_duplicates(subset=stop_cols)\n",
    "        .reset_index(drop=True)\n",
    "    )\n",
    "\n",
    "    stops2 = pd.merge(\n",
    "        stops,\n",
    "        nearest_shn_result[stop_cols + [\"meters_to_shn\"]],\n",
    "        on=stop_cols,\n",
    "        how=\"inner\",\n",
    "    )\n",
    "\n",
    "    stops2 = stops2.assign(meters_to_shn=stops2.meters_to_shn.round(1))\n",
    "\n",
    "    return stops2.to_crs(orig_crs)"
   ]
  },
  {
   "cell_type": "code",
   "execution_count": 22,
   "id": "ef8c11b2-cbb5-4b4a-a4cf-f787ece2cc9d",
   "metadata": {
    "tags": []
   },
   "outputs": [],
   "source": [
    "def patch_previous_dates_new(\n",
    "    current_stops: gpd.GeoDataFrame,\n",
    "    current_date: str,\n",
    "    published_operators_yaml: str = \"../gtfs_funnel/published_operators.yml\",\n",
    ") -> gpd.GeoDataFrame:\n",
    "    \"\"\"\n",
    "    Compare to the yaml for what operators we want, and\n",
    "    patch in previous dates for the 10 or so operators\n",
    "    that do not have data for this current date.\n",
    "    \"\"\"\n",
    "    with open(published_operators_yaml) as f:\n",
    "        published_operators_dict = yaml.safe_load(f)\n",
    "\n",
    "    patch_operators_dict = {\n",
    "        str(date): operator_list\n",
    "        for date, operator_list in published_operators_dict.items()\n",
    "        if str(date) != current_date\n",
    "    }\n",
    "\n",
    "    partial_dfs = []\n",
    "\n",
    "    STOP_FILE = GTFS_DATA_DICT.rt_vs_schedule_tables.sched_stop_metrics\n",
    "\n",
    "    for one_date, operator_list in patch_operators_dict.items():\n",
    "        df_to_add = publish_utils.subset_table_from_previous_date(\n",
    "            gcs_bucket=RT_SCHED_GCS,\n",
    "            filename=STOP_FILE,\n",
    "            operator_and_dates_dict=patch_operators_dict,\n",
    "            date=one_date,\n",
    "            crosswalk_col=\"schedule_gtfs_dataset_key\",\n",
    "            data_type=\"gdf\",\n",
    "        )\n",
    "\n",
    "        partial_dfs.append(df_to_add)\n",
    "\n",
    "    patch_stops = pd.concat(partial_dfs, axis=0, ignore_index=True)\n",
    "\n",
    "    published_stops = pd.concat(\n",
    "        [current_stops, patch_stops], axis=0, ignore_index=True\n",
    "    ).pipe(add_distance_to_state_highway)\n",
    "\n",
    "    return published_stops"
   ]
  },
  {
   "cell_type": "code",
   "execution_count": 23,
   "id": "6db2eeab-f6c6-4187-8d43-0efb490020da",
   "metadata": {
    "tags": []
   },
   "outputs": [],
   "source": [
    "def patch_previous_dates_og(\n",
    "    current_stops: gpd.GeoDataFrame,\n",
    "    current_date: str,\n",
    "    published_operators_yaml: str = \"../gtfs_funnel/published_operators.yml\",\n",
    ") -> gpd.GeoDataFrame:\n",
    "    \"\"\"\n",
    "    Compare to the yaml for what operators we want, and\n",
    "    patch in previous dates for the 10 or so operators\n",
    "    that do not have data for this current date.\n",
    "    \"\"\"\n",
    "    with open(published_operators_yaml) as f:\n",
    "        published_operators_dict = yaml.safe_load(f)\n",
    "\n",
    "    patch_operators_dict = {\n",
    "        str(date): operator_list\n",
    "        for date, operator_list in published_operators_dict.items()\n",
    "        if str(date) != current_date\n",
    "    }\n",
    "\n",
    "    partial_dfs = []\n",
    "\n",
    "    STOP_FILE = GTFS_DATA_DICT.rt_vs_schedule_tables.sched_stop_metrics\n",
    "\n",
    "    for one_date, operator_list in patch_operators_dict.items():\n",
    "        df_to_add = publish_utils.subset_table_from_previous_date(\n",
    "            gcs_bucket=RT_SCHED_GCS,\n",
    "            filename=STOP_FILE,\n",
    "            operator_and_dates_dict=patch_operators_dict,\n",
    "            date=one_date,\n",
    "            crosswalk_col=\"schedule_gtfs_dataset_key\",\n",
    "            data_type=\"gdf\",\n",
    "        ).pipe(standardize_operator_info_for_exports_og, one_date)\n",
    "\n",
    "        partial_dfs.append(df_to_add)\n",
    "\n",
    "    patch_stops = pd.concat(partial_dfs, axis=0, ignore_index=True)\n",
    "\n",
    "    published_stops = pd.concat(\n",
    "        [current_stops, patch_stops], axis=0, ignore_index=True\n",
    "    ).pipe(add_distance_to_state_highway)\n",
    "\n",
    "    return published_stops"
   ]
  },
  {
   "cell_type": "code",
   "execution_count": 24,
   "id": "629b0af9-b209-40df-8564-fa7c686206a3",
   "metadata": {
    "tags": []
   },
   "outputs": [],
   "source": [
    "stops_new_patch_new = patch_previous_dates_new(stops_new, analysis_date).pipe(\n",
    "    standardize_operator_info_for_exports_og, analysis_date\n",
    ")"
   ]
  },
  {
   "cell_type": "code",
   "execution_count": 25,
   "id": "e1355280-8002-46ac-86a4-350935e6c4a7",
   "metadata": {
    "tags": []
   },
   "outputs": [
    {
     "data": {
      "text/plain": [
       "154089"
      ]
     },
     "execution_count": 25,
     "metadata": {},
     "output_type": "execute_result"
    }
   ],
   "source": [
    "len(stops_new_patch_new)"
   ]
  },
  {
   "cell_type": "code",
   "execution_count": 26,
   "id": "c0215bd7-f03f-4ed0-a7be-2645b7bcdbbf",
   "metadata": {
    "tags": []
   },
   "outputs": [],
   "source": [
    "stops_new_patch_og = patch_previous_dates_og(stops_new, analysis_date)"
   ]
  },
  {
   "cell_type": "code",
   "execution_count": 27,
   "id": "ec6880ab-6a05-4057-a9f1-59e218e86589",
   "metadata": {
    "tags": []
   },
   "outputs": [
    {
     "data": {
      "text/plain": [
       "160774"
      ]
     },
     "execution_count": 27,
     "metadata": {},
     "output_type": "execute_result"
    }
   ],
   "source": [
    "len(stops_new_patch_og)"
   ]
  },
  {
   "cell_type": "code",
   "execution_count": 28,
   "id": "7d56d205-5c30-45e0-ad4a-9b1ed983fd25",
   "metadata": {
    "tags": []
   },
   "outputs": [],
   "source": [
    "def finalize_export_df(df: gpd.GeoDataFrame) -> gpd.GeoDataFrame:\n",
    "    \"\"\"\n",
    "    Suppress certain columns used in our internal modeling for export.\n",
    "    \"\"\"\n",
    "    # Change column order\n",
    "    route_cols = [\n",
    "        \"source_record_id\",\n",
    "        \"analysis_name\",\n",
    "    ]\n",
    "    stop_cols = [\n",
    "        \"stop_id\",\n",
    "        \"stop_name\",\n",
    "        # add GTFS stop-related metrics\n",
    "        \"n_routes\",\n",
    "        \"route_ids_served\",\n",
    "        \"route_types_served\",\n",
    "        \"n_arrivals\",\n",
    "        \"n_hours_in_service\",\n",
    "        # this is derived column\n",
    "        \"meters_to_shn\",\n",
    "    ]\n",
    "    agency_ids = [\"base64_url\", \"caltrans_district\"]\n",
    "\n",
    "    col_order = route_cols + stop_cols + agency_ids + [\"geometry\"]\n",
    "\n",
    "    df2 = (\n",
    "        df[col_order]\n",
    "        .reindex(columns=col_order)\n",
    "        .rename(columns=STANDARDIZED_COLUMNS_DICT)\n",
    "        .reset_index(drop=True)\n",
    "    )\n",
    "\n",
    "    return df2"
   ]
  },
  {
   "cell_type": "code",
   "execution_count": 29,
   "id": "2fd2383b-1103-4700-93b5-8dbfbded9d9c",
   "metadata": {
    "tags": []
   },
   "outputs": [],
   "source": [
    "STANDARDIZED_COLUMNS_DICT = {\n",
    "    \"caltrans_district\": \"district_name\",\n",
    "    \"organization_source_record_id\": \"org_id\",\n",
    "    \"organization_name\": \"agency\",\n",
    "    \"agency_name_primary\": \"agency_primary\",\n",
    "    \"agency_name_secondary\": \"agency_secondary\",\n",
    "    \"route_name_used\": \"route_name\",\n",
    "    \"route_types_served\": \"routetypes\",\n",
    "    \"meters_to_shn\": \"meters_to_ca_state_highway\",\n",
    "    \"portfolio_organization_name\": \"agency\",\n",
    "    \"analysis_name\": \"agency\",\n",
    "}"
   ]
  },
  {
   "cell_type": "code",
   "execution_count": 30,
   "id": "64d3a34a-8928-4d3f-9596-a77859d7e48a",
   "metadata": {
    "tags": []
   },
   "outputs": [
    {
     "name": "stderr",
     "output_type": "stream",
     "text": [
      "/tmp/ipykernel_5762/887121908.py:43: FutureWarning: Passing 'suffixes' which cause duplicate columns {'name_original', 'base64_url_original', 'caltrans_district_original'} in the result is deprecated and will raise a MergeError in a future version.\n",
      "  crosswalk_input_merged = pd.merge(\n"
     ]
    }
   ],
   "source": [
    "# Standardize info once again?\n",
    "stops_new_patch_new2 = (stops_new_patch_new).pipe(standardize_operator_info_for_exports_new, analysis_date)"
   ]
  },
  {
   "cell_type": "code",
   "execution_count": 31,
   "id": "42b939fd-0011-4e2b-b7d9-b4715751a146",
   "metadata": {
    "tags": []
   },
   "outputs": [],
   "source": [
    "stops_new_patch_new3 = finalize_export_df(stops_new_patch_new2)"
   ]
  },
  {
   "cell_type": "code",
   "execution_count": 32,
   "id": "eb537043-9ede-4e58-b667-ecd75818c3dc",
   "metadata": {
    "tags": []
   },
   "outputs": [],
   "source": [
    "stops_new_patch_og2 = (stops_new_patch_og).pipe(standardize_operator_info_for_exports_new, analysis_date)"
   ]
  },
  {
   "cell_type": "code",
   "execution_count": 33,
   "id": "c8151de9-44c5-4a99-a9b7-fd04736b36e7",
   "metadata": {
    "tags": []
   },
   "outputs": [],
   "source": [
    "stops_new_patch_og3 = finalize_export_df(stops_new_patch_og2)"
   ]
  },
  {
   "cell_type": "code",
   "execution_count": 34,
   "id": "c2726bcb-7e18-4a81-adec-9d8f7b97c037",
   "metadata": {
    "tags": []
   },
   "outputs": [
    {
     "data": {
      "text/plain": [
       "153738"
      ]
     },
     "execution_count": 34,
     "metadata": {},
     "output_type": "execute_result"
    }
   ],
   "source": [
    "len(stops_new_patch_og3)"
   ]
  },
  {
   "cell_type": "code",
   "execution_count": 35,
   "id": "8d4caabc-9943-461a-9422-64548dfd5ebe",
   "metadata": {
    "tags": []
   },
   "outputs": [
    {
     "data": {
      "text/plain": [
       "153738"
      ]
     },
     "execution_count": 35,
     "metadata": {},
     "output_type": "execute_result"
    }
   ],
   "source": [
    "len(stops_new_patch_new3)"
   ]
  },
  {
   "cell_type": "code",
   "execution_count": 37,
   "id": "e096e716-e7e8-4ee4-8634-0adc1ae30459",
   "metadata": {
    "tags": []
   },
   "outputs": [
    {
     "data": {
      "text/plain": [
       "153738"
      ]
     },
     "execution_count": 37,
     "metadata": {},
     "output_type": "execute_result"
    }
   ],
   "source": [
    "len(ah_stops_df)"
   ]
  }
 ],
 "metadata": {
  "kernelspec": {
   "display_name": "Python 3 (ipykernel)",
   "language": "python",
   "name": "python3"
  },
  "language_info": {
   "codemirror_mode": {
    "name": "ipython",
    "version": 3
   },
   "file_extension": ".py",
   "mimetype": "text/x-python",
   "name": "python",
   "nbconvert_exporter": "python",
   "pygments_lexer": "ipython3",
   "version": "3.11.10"
  }
 },
 "nbformat": 4,
 "nbformat_minor": 5
}
