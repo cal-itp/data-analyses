{
 "cells": [
  {
   "cell_type": "markdown",
   "id": "bc141923-f139-4654-ae9d-0e7387d4f163",
   "metadata": {},
   "source": [
    "## Improving Cardinal Direction work\n",
    "* Responding to comments on [PR 1145](https://github.com/cal-itp/data-analyses/pull/1145)\n",
    "\n",
    "* 6/25\n",
    "    * I experimented with not filling in the nans in `direction_id`.\n",
    "    * When I did fill in the nans, I got \"10,489\" rows found in both datafarmes and \"745\" found in \"right_only\". The result from `schedule_metrics_by_route_direction` is 10,489 rows. \n",
    "    * When I didn't fill in the nans, I got a curious result. The dataframe produced by `schedule_metrics_by_route_direction` is 10,486 rows. These two don't match?\n",
    "    _merge    \n",
    "    both          10486\n",
    "    right_only      615\n",
    "    left_only         0"
   ]
  },
  {
   "cell_type": "code",
   "execution_count": 1,
   "id": "9ce35c98-8821-44ee-8450-65ef3e786dbb",
   "metadata": {},
   "outputs": [],
   "source": [
    "import _section2_utils as section2\n",
    "import geopandas as gpd\n",
    "import numpy as np\n",
    "import pandas as pd\n",
    "from segment_speed_utils import gtfs_schedule_wrangling, helpers, time_series_utils\n",
    "from segment_speed_utils.project_vars import (\n",
    "    COMPILED_CACHED_VIEWS,\n",
    "    GTFS_DATA_DICT,\n",
    "    PROJECT_CRS,\n",
    "    RT_SCHED_GCS,\n",
    "    SCHED_GCS,\n",
    "    SEGMENT_GCS,\n",
    ")\n",
    "from shared_utils import catalog_utils, rt_dates, rt_utils"
   ]
  },
  {
   "cell_type": "code",
   "execution_count": 2,
   "id": "5b630233-a221-44fc-8c54-03ea6ad7e6f6",
   "metadata": {},
   "outputs": [],
   "source": [
    "pd.options.display.max_columns = 100\n",
    "pd.options.display.float_format = \"{:.2f}\".format\n",
    "pd.set_option(\"display.max_rows\", None)\n",
    "pd.set_option(\"display.max_colwidth\", None)"
   ]
  },
  {
   "cell_type": "code",
   "execution_count": 3,
   "id": "db12e63a-099b-434e-94ca-5d4798d6d1e6",
   "metadata": {},
   "outputs": [],
   "source": [
    "analysis_date = \"2024-04-16\""
   ]
  },
  {
   "cell_type": "markdown",
   "id": "21c880c9-5226-4630-a462-ecfee837cf54",
   "metadata": {},
   "source": [
    "### `gtfs_funnel/schedule_stats_by_route_direction`"
   ]
  },
  {
   "cell_type": "code",
   "execution_count": 4,
   "id": "e236ad41-2f33-4433-ae22-51fe61bc8099",
   "metadata": {},
   "outputs": [],
   "source": [
    "def cardinal_direction_for_route_direction(analysis_date:str, dict_inputs:dict):\n",
    "    \"\"\"\n",
    "    Get a cardinal direction (North, South, East, West) for each\n",
    "    route.\n",
    "    \"\"\"\n",
    "    STOP_TIMES_FILE = dict_inputs.rt_vs_schedule_tables.stop_times_direction\n",
    "    \n",
    "    stop_times_gdf = pd.read_parquet(\n",
    "    f\"{RT_SCHED_GCS}{STOP_TIMES_FILE}_{analysis_date}.parquet\",\n",
    "    filters=[[(\"stop_primary_direction\", \"!=\", \"Unknown\")]\n",
    "    ])\n",
    "    \n",
    "    trip_scheduled_col = [\n",
    "    \"route_id\",\n",
    "    \"trip_instance_key\",\n",
    "    \"gtfs_dataset_key\",\n",
    "    \"shape_array_key\",\n",
    "    \"direction_id\",\n",
    "    \"route_long_name\",\n",
    "    \"route_short_name\",\n",
    "    \"route_desc\",\n",
    "    \"name\"\n",
    "    ]\n",
    "        \n",
    "    trips_df = helpers.import_scheduled_trips(analysis_date, \n",
    "                                             columns = trip_scheduled_col,\n",
    "                                             get_pandas = True)\n",
    "\n",
    "    \n",
    "    # Merge dfs\n",
    "    merge_cols = [\"trip_instance_key\", \n",
    "                  \"schedule_gtfs_dataset_key\", \n",
    "                  \"shape_array_key\"]\n",
    "    \n",
    "    stop_times_with_trip = pd.merge(stop_times_gdf, trips_df, on = merge_cols)\n",
    "    \n",
    "    # Fill in missing direction id with 0, per our usual practice.\n",
    "    print(f\"# of nulls for direction_id: {stop_times_with_trip['direction_id'].isna().sum()}\")\n",
    "    stop_times_with_trip.direction_id = stop_times_with_trip.direction_id.fillna(0)\n",
    "    \n",
    "    main_cols = [\n",
    "        \"route_id\",\n",
    "        \"schedule_gtfs_dataset_key\",\n",
    "        \"direction_id\"\n",
    "    ]\n",
    "    \n",
    "    agg1 = (\n",
    "        stop_times_with_trip.groupby(\n",
    "            main_cols + [\"stop_primary_direction\"]\n",
    "        )\n",
    "        .agg({\"stop_sequence\": \"count\"})\n",
    "        .reset_index()\n",
    "        .rename(columns={\"stop_sequence\": \"total_stops\"})\n",
    "    )\n",
    "    \n",
    "    # Sort and drop duplicates so that the\n",
    "    # largest # of stops by stop_primary_direction is at the top\n",
    "    agg2 = agg1.sort_values(\n",
    "        by= main_cols + [\"total_stops\"],\n",
    "        ascending=[True, True, True, False],\n",
    "    )\n",
    "    \n",
    "    # Drop duplicates so only the top stop_primary_direction is kept.\n",
    "    agg3 = agg2.drop_duplicates(subset= main_cols).reset_index(drop=True)\n",
    "    \n",
    "    agg3 = agg3.drop(columns=[\"total_stops\"])\n",
    "    return agg3"
   ]
  },
  {
   "cell_type": "code",
   "execution_count": 5,
   "id": "f8de58df-0b0e-47dc-9ce3-331a32612677",
   "metadata": {},
   "outputs": [
    {
     "name": "stdout",
     "output_type": "stream",
     "text": [
      "# of nulls for direction_id: 90598\n"
     ]
    }
   ],
   "source": [
    "test = cardinal_direction_for_route_direction(analysis_date,GTFS_DATA_DICT)"
   ]
  },
  {
   "cell_type": "code",
   "execution_count": 6,
   "id": "5dd1e244-0187-49b7-815b-93cd3a012454",
   "metadata": {},
   "outputs": [
    {
     "data": {
      "text/html": [
       "<div>\n",
       "<style scoped>\n",
       "    .dataframe tbody tr th:only-of-type {\n",
       "        vertical-align: middle;\n",
       "    }\n",
       "\n",
       "    .dataframe tbody tr th {\n",
       "        vertical-align: top;\n",
       "    }\n",
       "\n",
       "    .dataframe thead th {\n",
       "        text-align: right;\n",
       "    }\n",
       "</style>\n",
       "<table border=\"1\" class=\"dataframe\">\n",
       "  <thead>\n",
       "    <tr style=\"text-align: right;\">\n",
       "      <th></th>\n",
       "      <th>route_id</th>\n",
       "      <th>schedule_gtfs_dataset_key</th>\n",
       "      <th>direction_id</th>\n",
       "      <th>stop_primary_direction</th>\n",
       "    </tr>\n",
       "  </thead>\n",
       "  <tbody>\n",
       "    <tr>\n",
       "      <th>0</th>\n",
       "      <td>001</td>\n",
       "      <td>cb3074eb8b423dfc5acfeeb0de95eb82</td>\n",
       "      <td>0.00</td>\n",
       "      <td>Westbound</td>\n",
       "    </tr>\n",
       "    <tr>\n",
       "      <th>1</th>\n",
       "      <td>001</td>\n",
       "      <td>cb3074eb8b423dfc5acfeeb0de95eb82</td>\n",
       "      <td>1.00</td>\n",
       "      <td>Eastbound</td>\n",
       "    </tr>\n",
       "    <tr>\n",
       "      <th>2</th>\n",
       "      <td>001-132</td>\n",
       "      <td>9809d3f8121513057bc5cb8de7b54ce2</td>\n",
       "      <td>0.00</td>\n",
       "      <td>Eastbound</td>\n",
       "    </tr>\n",
       "    <tr>\n",
       "      <th>3</th>\n",
       "      <td>001-132</td>\n",
       "      <td>9809d3f8121513057bc5cb8de7b54ce2</td>\n",
       "      <td>1.00</td>\n",
       "      <td>Northbound</td>\n",
       "    </tr>\n",
       "    <tr>\n",
       "      <th>4</th>\n",
       "      <td>002-132</td>\n",
       "      <td>9809d3f8121513057bc5cb8de7b54ce2</td>\n",
       "      <td>0.00</td>\n",
       "      <td>Eastbound</td>\n",
       "    </tr>\n",
       "  </tbody>\n",
       "</table>\n",
       "</div>"
      ],
      "text/plain": [
       "  route_id         schedule_gtfs_dataset_key  direction_id  \\\n",
       "0      001  cb3074eb8b423dfc5acfeeb0de95eb82          0.00   \n",
       "1      001  cb3074eb8b423dfc5acfeeb0de95eb82          1.00   \n",
       "2  001-132  9809d3f8121513057bc5cb8de7b54ce2          0.00   \n",
       "3  001-132  9809d3f8121513057bc5cb8de7b54ce2          1.00   \n",
       "4  002-132  9809d3f8121513057bc5cb8de7b54ce2          0.00   \n",
       "\n",
       "  stop_primary_direction  \n",
       "0              Westbound  \n",
       "1              Eastbound  \n",
       "2              Eastbound  \n",
       "3             Northbound  \n",
       "4              Eastbound  "
      ]
     },
     "execution_count": 6,
     "metadata": {},
     "output_type": "execute_result"
    }
   ],
   "source": [
    "test.head()"
   ]
  },
  {
   "cell_type": "code",
   "execution_count": 7,
   "id": "c210e9c5-bcea-4b84-80e8-5fcab230a9bd",
   "metadata": {},
   "outputs": [
    {
     "name": "stdout",
     "output_type": "stream",
     "text": [
      "<class 'pandas.core.frame.DataFrame'>\n",
      "RangeIndex: 4475 entries, 0 to 4474\n",
      "Data columns (total 4 columns):\n",
      " #   Column                     Non-Null Count  Dtype  \n",
      "---  ------                     --------------  -----  \n",
      " 0   route_id                   4475 non-null   object \n",
      " 1   schedule_gtfs_dataset_key  4475 non-null   object \n",
      " 2   direction_id               4475 non-null   float64\n",
      " 3   stop_primary_direction     4475 non-null   object \n",
      "dtypes: float64(1), object(3)\n",
      "memory usage: 140.0+ KB\n"
     ]
    }
   ],
   "source": [
    "test.info()"
   ]
  },
  {
   "cell_type": "code",
   "execution_count": 8,
   "id": "22760896-39b1-40a6-bc54-12b137a83c94",
   "metadata": {},
   "outputs": [],
   "source": [
    "import sys\n",
    "\n",
    "sys.path.append(\"../gtfs_funnel\")\n",
    "import schedule_stats_by_route_direction"
   ]
  },
  {
   "cell_type": "code",
   "execution_count": 9,
   "id": "3d96173d-216b-4e36-a3ff-ac5b17d5e26e",
   "metadata": {},
   "outputs": [],
   "source": [
    "trip_metrics = schedule_stats_by_route_direction.assemble_scheduled_trip_metrics(analysis_date, GTFS_DATA_DICT)\n",
    "trip_metrics = trip_metrics.rename(columns = {\"stop_primary_direction\":\"route_primary_direction\"})"
   ]
  },
  {
   "cell_type": "code",
   "execution_count": 10,
   "id": "5ab31f97-b712-4325-bca0-e0ff2a447e9f",
   "metadata": {},
   "outputs": [
    {
     "data": {
      "text/html": [
       "<div>\n",
       "<style scoped>\n",
       "    .dataframe tbody tr th:only-of-type {\n",
       "        vertical-align: middle;\n",
       "    }\n",
       "\n",
       "    .dataframe tbody tr th {\n",
       "        vertical-align: top;\n",
       "    }\n",
       "\n",
       "    .dataframe thead th {\n",
       "        text-align: right;\n",
       "    }\n",
       "</style>\n",
       "<table border=\"1\" class=\"dataframe\">\n",
       "  <thead>\n",
       "    <tr style=\"text-align: right;\">\n",
       "      <th></th>\n",
       "      <th>schedule_gtfs_dataset_key</th>\n",
       "      <th>trip_instance_key</th>\n",
       "      <th>median_stop_meters</th>\n",
       "      <th>time_of_day</th>\n",
       "      <th>scheduled_service_minutes</th>\n",
       "      <th>route_id</th>\n",
       "      <th>direction_id</th>\n",
       "    </tr>\n",
       "  </thead>\n",
       "  <tbody>\n",
       "    <tr>\n",
       "      <th>4687</th>\n",
       "      <td>1ebafaca8716652559b2017b6eedc4ef</td>\n",
       "      <td>3b05e38bba586be01828035921b806e1</td>\n",
       "      <td>367.87</td>\n",
       "      <td>PM Peak</td>\n",
       "      <td>29.00</td>\n",
       "      <td>2</td>\n",
       "      <td>1.00</td>\n",
       "    </tr>\n",
       "  </tbody>\n",
       "</table>\n",
       "</div>"
      ],
      "text/plain": [
       "             schedule_gtfs_dataset_key                 trip_instance_key  \\\n",
       "4687  1ebafaca8716652559b2017b6eedc4ef  3b05e38bba586be01828035921b806e1   \n",
       "\n",
       "      median_stop_meters time_of_day  scheduled_service_minutes route_id  \\\n",
       "4687              367.87     PM Peak                      29.00        2   \n",
       "\n",
       "      direction_id  \n",
       "4687          1.00  "
      ]
     },
     "execution_count": 10,
     "metadata": {},
     "output_type": "execute_result"
    }
   ],
   "source": [
    "trip_metrics.sample()"
   ]
  },
  {
   "cell_type": "code",
   "execution_count": 11,
   "id": "f6e81b56-d903-4148-b916-fb58f07c0b1b",
   "metadata": {},
   "outputs": [],
   "source": [
    "\n",
    "route_merge_group_cols = [\n",
    "            \"schedule_gtfs_dataset_key\", \n",
    "            \"route_id\", \n",
    "            \"direction_id\",\n",
    "        ]"
   ]
  },
  {
   "cell_type": "code",
   "execution_count": 12,
   "id": "70d084ec-5832-4f17-9d61-66867a1dddc8",
   "metadata": {},
   "outputs": [],
   "source": [
    "route = schedule_stats_by_route_direction.schedule_metrics_by_route_direction(trip_metrics, analysis_date,route_merge_group_cols)\n",
    "        "
   ]
  },
  {
   "cell_type": "code",
   "execution_count": 13,
   "id": "368a915d-8a09-45a1-9830-c92ec1f05fe3",
   "metadata": {},
   "outputs": [
    {
     "data": {
      "text/html": [
       "<div>\n",
       "<style scoped>\n",
       "    .dataframe tbody tr th:only-of-type {\n",
       "        vertical-align: middle;\n",
       "    }\n",
       "\n",
       "    .dataframe tbody tr th {\n",
       "        vertical-align: top;\n",
       "    }\n",
       "\n",
       "    .dataframe thead th {\n",
       "        text-align: right;\n",
       "    }\n",
       "</style>\n",
       "<table border=\"1\" class=\"dataframe\">\n",
       "  <thead>\n",
       "    <tr style=\"text-align: right;\">\n",
       "      <th></th>\n",
       "      <th>schedule_gtfs_dataset_key</th>\n",
       "      <th>route_id</th>\n",
       "      <th>direction_id</th>\n",
       "      <th>common_shape_id</th>\n",
       "      <th>route_name</th>\n",
       "      <th>avg_scheduled_service_minutes</th>\n",
       "      <th>avg_stop_miles</th>\n",
       "      <th>n_trips</th>\n",
       "      <th>time_period</th>\n",
       "      <th>frequency</th>\n",
       "    </tr>\n",
       "  </thead>\n",
       "  <tbody>\n",
       "    <tr>\n",
       "      <th>8857</th>\n",
       "      <td>4c6b107352b318297bb39173c796f357</td>\n",
       "      <td>3822</td>\n",
       "      <td>1.00</td>\n",
       "      <td>20470</td>\n",
       "      <td>HUGHES/MCKINLEY</td>\n",
       "      <td>51.73</td>\n",
       "      <td>0.23</td>\n",
       "      <td>33</td>\n",
       "      <td>all_day</td>\n",
       "      <td>1.38</td>\n",
       "    </tr>\n",
       "  </tbody>\n",
       "</table>\n",
       "</div>"
      ],
      "text/plain": [
       "             schedule_gtfs_dataset_key route_id  direction_id common_shape_id  \\\n",
       "8857  4c6b107352b318297bb39173c796f357     3822          1.00           20470   \n",
       "\n",
       "           route_name  avg_scheduled_service_minutes  avg_stop_miles  n_trips  \\\n",
       "8857  HUGHES/MCKINLEY                          51.73            0.23       33   \n",
       "\n",
       "     time_period  frequency  \n",
       "8857     all_day       1.38  "
      ]
     },
     "execution_count": 13,
     "metadata": {},
     "output_type": "execute_result"
    }
   ],
   "source": [
    "route.drop(columns = ['geometry']).sample()"
   ]
  },
  {
   "cell_type": "code",
   "execution_count": 14,
   "id": "0628ec12-085b-424c-96f4-00b0340f6e5a",
   "metadata": {},
   "outputs": [
    {
     "data": {
      "text/plain": [
       "10489"
      ]
     },
     "execution_count": 14,
     "metadata": {},
     "output_type": "execute_result"
    }
   ],
   "source": [
    "len(route)"
   ]
  },
  {
   "cell_type": "code",
   "execution_count": 15,
   "id": "f72635ac-3157-4ef2-9988-196539b7c854",
   "metadata": {},
   "outputs": [
    {
     "data": {
      "text/plain": [
       "_merge    \n",
       "both          10489\n",
       "right_only      745\n",
       "left_only         0\n",
       "dtype: int64"
      ]
     },
     "execution_count": 15,
     "metadata": {},
     "output_type": "execute_result"
    }
   ],
   "source": [
    "pd.merge(\n",
    "            route,\n",
    "            test,\n",
    "            on = route_merge_group_cols,\n",
    "            how = \"outer\",\n",
    "            indicator = True\n",
    "        )[[\"_merge\"]].value_counts(dropna=False)"
   ]
  },
  {
   "cell_type": "code",
   "execution_count": 17,
   "id": "ee7d97ff-0408-49b0-a59d-612aa4011861",
   "metadata": {},
   "outputs": [],
   "source": [
    "route2= pd.merge(\n",
    "            route,\n",
    "            test,\n",
    "            on = route_merge_group_cols,\n",
    "            how = \"left\"\n",
    "        )"
   ]
  },
  {
   "cell_type": "code",
   "execution_count": 18,
   "id": "18c7d2f4-6926-43f4-95b0-9919d3a7cc70",
   "metadata": {},
   "outputs": [
    {
     "data": {
      "text/plain": [
       "10489"
      ]
     },
     "execution_count": 18,
     "metadata": {},
     "output_type": "execute_result"
    }
   ],
   "source": [
    "len(route2)"
   ]
  },
  {
   "cell_type": "code",
   "execution_count": 19,
   "id": "12843bf6-771c-44d4-bec6-1558c1b04f89",
   "metadata": {},
   "outputs": [
    {
     "data": {
      "text/html": [
       "<div>\n",
       "<style scoped>\n",
       "    .dataframe tbody tr th:only-of-type {\n",
       "        vertical-align: middle;\n",
       "    }\n",
       "\n",
       "    .dataframe tbody tr th {\n",
       "        vertical-align: top;\n",
       "    }\n",
       "\n",
       "    .dataframe thead th {\n",
       "        text-align: right;\n",
       "    }\n",
       "</style>\n",
       "<table border=\"1\" class=\"dataframe\">\n",
       "  <thead>\n",
       "    <tr style=\"text-align: right;\">\n",
       "      <th></th>\n",
       "      <th>schedule_gtfs_dataset_key</th>\n",
       "      <th>route_id</th>\n",
       "      <th>direction_id</th>\n",
       "      <th>common_shape_id</th>\n",
       "      <th>route_name</th>\n",
       "      <th>avg_scheduled_service_minutes</th>\n",
       "      <th>avg_stop_miles</th>\n",
       "      <th>n_trips</th>\n",
       "      <th>time_period</th>\n",
       "      <th>frequency</th>\n",
       "      <th>stop_primary_direction</th>\n",
       "    </tr>\n",
       "  </thead>\n",
       "  <tbody>\n",
       "    <tr>\n",
       "      <th>899</th>\n",
       "      <td>7891c0d5e91c8dccf88536129dbac084</td>\n",
       "      <td>B</td>\n",
       "      <td>0.00</td>\n",
       "      <td>96</td>\n",
       "      <td></td>\n",
       "      <td>46.92</td>\n",
       "      <td>0.22</td>\n",
       "      <td>7</td>\n",
       "      <td>peak</td>\n",
       "      <td>0.88</td>\n",
       "      <td>Southbound</td>\n",
       "    </tr>\n",
       "    <tr>\n",
       "      <th>4694</th>\n",
       "      <td>ecb6e412d4745e9ebbfb9df814e336f2</td>\n",
       "      <td>353</td>\n",
       "      <td>1.00</td>\n",
       "      <td>3530028</td>\n",
       "      <td>Escondido to Nordahl Market Pl via Citracado</td>\n",
       "      <td>21.40</td>\n",
       "      <td>0.20</td>\n",
       "      <td>15</td>\n",
       "      <td>all_day</td>\n",
       "      <td>0.62</td>\n",
       "      <td>Westbound</td>\n",
       "    </tr>\n",
       "    <tr>\n",
       "      <th>9521</th>\n",
       "      <td>7dbe3e19a4966e0c0531fa826e0446d8</td>\n",
       "      <td>525</td>\n",
       "      <td>0.00</td>\n",
       "      <td>33383</td>\n",
       "      <td>DTC-Main-Myrtle-Oro</td>\n",
       "      <td>16.76</td>\n",
       "      <td>0.22</td>\n",
       "      <td>11</td>\n",
       "      <td>offpeak</td>\n",
       "      <td>0.69</td>\n",
       "      <td>Westbound</td>\n",
       "    </tr>\n",
       "  </tbody>\n",
       "</table>\n",
       "</div>"
      ],
      "text/plain": [
       "             schedule_gtfs_dataset_key route_id  direction_id common_shape_id  \\\n",
       "899   7891c0d5e91c8dccf88536129dbac084        B          0.00              96   \n",
       "4694  ecb6e412d4745e9ebbfb9df814e336f2      353          1.00         3530028   \n",
       "9521  7dbe3e19a4966e0c0531fa826e0446d8      525          0.00           33383   \n",
       "\n",
       "                                        route_name  \\\n",
       "899                                                  \n",
       "4694  Escondido to Nordahl Market Pl via Citracado   \n",
       "9521                           DTC-Main-Myrtle-Oro   \n",
       "\n",
       "      avg_scheduled_service_minutes  avg_stop_miles  n_trips time_period  \\\n",
       "899                           46.92            0.22        7        peak   \n",
       "4694                          21.40            0.20       15     all_day   \n",
       "9521                          16.76            0.22       11     offpeak   \n",
       "\n",
       "      frequency stop_primary_direction  \n",
       "899        0.88             Southbound  \n",
       "4694       0.62              Westbound  \n",
       "9521       0.69              Westbound  "
      ]
     },
     "execution_count": 19,
     "metadata": {},
     "output_type": "execute_result"
    }
   ],
   "source": [
    "route2.drop(columns = ['geometry']).sample(3)"
   ]
  },
  {
   "cell_type": "code",
   "execution_count": 21,
   "id": "4effe5af-3b74-4b92-8e21-11223a104238",
   "metadata": {},
   "outputs": [],
   "source": [
    "ROUTE_TYPOLOGIES = GTFS_DATA_DICT.schedule_tables.route_typologies"
   ]
  },
  {
   "cell_type": "code",
   "execution_count": 24,
   "id": "01fb0f64-157b-436f-b17d-fc9fee0dca58",
   "metadata": {},
   "outputs": [],
   "source": [
    "route_typologies = pd.read_parquet(\n",
    "            f\"{SCHED_GCS}{ROUTE_TYPOLOGIES}_{analysis_date}.parquet\",\n",
    "            columns = route_merge_group_cols + [\n",
    "                \"is_coverage\", \"is_downtown_local\", \n",
    "                \"is_local\", \"is_rapid\", \"is_express\", \"is_rail\"]\n",
    "        )\n",
    "    "
   ]
  },
  {
   "cell_type": "code",
   "execution_count": 27,
   "id": "b59b9f5f-15af-43e6-9ea5-929c734c2ec7",
   "metadata": {},
   "outputs": [],
   "source": [
    "route_dir_metrics2 = pd.merge(\n",
    "            route,\n",
    "            route_typologies,\n",
    "            on = route_merge_group_cols,\n",
    "            how = \"left\"\n",
    "        )"
   ]
  },
  {
   "cell_type": "code",
   "execution_count": 28,
   "id": "334ddfda-1817-4695-811d-d660f46f7157",
   "metadata": {},
   "outputs": [],
   "source": [
    "    \n",
    "route_dir_metrics3 = pd.merge(\n",
    "            route,\n",
    "            route_typologies,\n",
    "            on = route_merge_group_cols,\n",
    "            how = \"left\"\n",
    "        ).merge(test,\n",
    "            on = route_merge_group_cols,\n",
    "            how = \"left\")"
   ]
  },
  {
   "cell_type": "code",
   "execution_count": 30,
   "id": "66a27975-143a-4ea3-a1b5-e9d8dafa7a52",
   "metadata": {},
   "outputs": [
    {
     "data": {
      "text/plain": [
       "(10489, 10489, 10489)"
      ]
     },
     "execution_count": 30,
     "metadata": {},
     "output_type": "execute_result"
    }
   ],
   "source": [
    "len(route_dir_metrics3), len(route_dir_metrics2), len(route)"
   ]
  },
  {
   "cell_type": "code",
   "execution_count": 29,
   "id": "801e5709-bc2e-4d6d-b76e-e03ba7b9b1bf",
   "metadata": {},
   "outputs": [
    {
     "data": {
      "text/html": [
       "<div>\n",
       "<style scoped>\n",
       "    .dataframe tbody tr th:only-of-type {\n",
       "        vertical-align: middle;\n",
       "    }\n",
       "\n",
       "    .dataframe tbody tr th {\n",
       "        vertical-align: top;\n",
       "    }\n",
       "\n",
       "    .dataframe thead th {\n",
       "        text-align: right;\n",
       "    }\n",
       "</style>\n",
       "<table border=\"1\" class=\"dataframe\">\n",
       "  <thead>\n",
       "    <tr style=\"text-align: right;\">\n",
       "      <th></th>\n",
       "      <th>schedule_gtfs_dataset_key</th>\n",
       "      <th>route_id</th>\n",
       "      <th>direction_id</th>\n",
       "      <th>common_shape_id</th>\n",
       "      <th>route_name</th>\n",
       "      <th>avg_scheduled_service_minutes</th>\n",
       "      <th>avg_stop_miles</th>\n",
       "      <th>n_trips</th>\n",
       "      <th>time_period</th>\n",
       "      <th>frequency</th>\n",
       "      <th>is_coverage</th>\n",
       "      <th>is_downtown_local</th>\n",
       "      <th>is_local</th>\n",
       "      <th>is_rapid</th>\n",
       "      <th>is_express</th>\n",
       "      <th>is_rail</th>\n",
       "      <th>stop_primary_direction</th>\n",
       "    </tr>\n",
       "  </thead>\n",
       "  <tbody>\n",
       "    <tr>\n",
       "      <th>1513</th>\n",
       "      <td>8de1f1a3b9ae172c6b8255b1c82c340f</td>\n",
       "      <td>32390</td>\n",
       "      <td>0.00</td>\n",
       "      <td>p_1303422</td>\n",
       "      <td>The Lincoln Circulator Overflow only operates Monday – Friday when school is in session only, to supplement the regular bus route during peak service to serving stops nearby schools.</td>\n",
       "      <td>60.00</td>\n",
       "      <td>0.30</td>\n",
       "      <td>1</td>\n",
       "      <td>all_day</td>\n",
       "      <td>0.04</td>\n",
       "      <td>1.00</td>\n",
       "      <td>0.00</td>\n",
       "      <td>0.00</td>\n",
       "      <td>1.00</td>\n",
       "      <td>0.00</td>\n",
       "      <td>0.00</td>\n",
       "      <td>Southbound</td>\n",
       "    </tr>\n",
       "    <tr>\n",
       "      <th>7526</th>\n",
       "      <td>95cb514215c61ca578b01d885f35ec0a</td>\n",
       "      <td>11050</td>\n",
       "      <td>1.00</td>\n",
       "      <td>36699</td>\n",
       "      <td>YUCAIPA</td>\n",
       "      <td>24.07</td>\n",
       "      <td>0.25</td>\n",
       "      <td>8</td>\n",
       "      <td>peak</td>\n",
       "      <td>1.00</td>\n",
       "      <td>1.00</td>\n",
       "      <td>0.00</td>\n",
       "      <td>0.00</td>\n",
       "      <td>1.00</td>\n",
       "      <td>0.00</td>\n",
       "      <td>0.00</td>\n",
       "      <td>Southbound</td>\n",
       "    </tr>\n",
       "    <tr>\n",
       "      <th>363</th>\n",
       "      <td>e524db270831632bdcf71df1d7e74d25</td>\n",
       "      <td>554</td>\n",
       "      <td>0.00</td>\n",
       "      <td>p_1131</td>\n",
       "      <td>South County/ Commuter</td>\n",
       "      <td>83.00</td>\n",
       "      <td>2.78</td>\n",
       "      <td>1</td>\n",
       "      <td>offpeak</td>\n",
       "      <td>0.06</td>\n",
       "      <td>1.00</td>\n",
       "      <td>0.00</td>\n",
       "      <td>0.00</td>\n",
       "      <td>0.00</td>\n",
       "      <td>0.00</td>\n",
       "      <td>0.00</td>\n",
       "      <td>Westbound</td>\n",
       "    </tr>\n",
       "  </tbody>\n",
       "</table>\n",
       "</div>"
      ],
      "text/plain": [
       "             schedule_gtfs_dataset_key route_id  direction_id common_shape_id  \\\n",
       "1513  8de1f1a3b9ae172c6b8255b1c82c340f    32390          0.00       p_1303422   \n",
       "7526  95cb514215c61ca578b01d885f35ec0a    11050          1.00           36699   \n",
       "363   e524db270831632bdcf71df1d7e74d25      554          0.00          p_1131   \n",
       "\n",
       "                                                                                                                                                                                  route_name  \\\n",
       "1513  The Lincoln Circulator Overflow only operates Monday – Friday when school is in session only, to supplement the regular bus route during peak service to serving stops nearby schools.   \n",
       "7526                                                                                                                                                                                 YUCAIPA   \n",
       "363                                                                                                                                                                   South County/ Commuter   \n",
       "\n",
       "      avg_scheduled_service_minutes  avg_stop_miles  n_trips time_period  \\\n",
       "1513                          60.00            0.30        1     all_day   \n",
       "7526                          24.07            0.25        8        peak   \n",
       "363                           83.00            2.78        1     offpeak   \n",
       "\n",
       "      frequency  is_coverage  is_downtown_local  is_local  is_rapid  \\\n",
       "1513       0.04         1.00               0.00      0.00      1.00   \n",
       "7526       1.00         1.00               0.00      0.00      1.00   \n",
       "363        0.06         1.00               0.00      0.00      0.00   \n",
       "\n",
       "      is_express  is_rail stop_primary_direction  \n",
       "1513        0.00     0.00             Southbound  \n",
       "7526        0.00     0.00             Southbound  \n",
       "363         0.00     0.00              Westbound  "
      ]
     },
     "execution_count": 29,
     "metadata": {},
     "output_type": "execute_result"
    }
   ],
   "source": [
    "route_dir_metrics3.drop(columns = ['geometry']).sample(3)"
   ]
  }
 ],
 "metadata": {
  "kernelspec": {
   "display_name": "Python 3 (ipykernel)",
   "language": "python",
   "name": "python3"
  },
  "language_info": {
   "codemirror_mode": {
    "name": "ipython",
    "version": 3
   },
   "file_extension": ".py",
   "mimetype": "text/x-python",
   "name": "python",
   "nbconvert_exporter": "python",
   "pygments_lexer": "ipython3",
   "version": "3.9.13"
  }
 },
 "nbformat": 4,
 "nbformat_minor": 5
}
