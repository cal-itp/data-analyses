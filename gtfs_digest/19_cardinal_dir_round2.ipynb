{
 "cells": [
  {
   "cell_type": "markdown",
   "id": "bc141923-f139-4654-ae9d-0e7387d4f163",
   "metadata": {},
   "source": [
    "## Improving Cardinal Direction work\n",
    "* Responding to comments on [PR 1145](https://github.com/cal-itp/data-analyses/pull/1145)\n",
    "\n",
    "* 6/19\n",
    "    * I experimented with not filling in the nans in `direction_id`.\n",
    "    * When I did fill in the nans, I got \"10,489\" rows found in both datafarmes and \"745\" found in \"right_only\"\n",
    "    * When I didn't, I got a curious result. These two don't match?\n",
    "    _merge    \n",
    "    both          10486\n",
    "    right_only      615\n",
    "    left_only         0"
   ]
  },
  {
   "cell_type": "code",
   "execution_count": 1,
   "id": "9ce35c98-8821-44ee-8450-65ef3e786dbb",
   "metadata": {},
   "outputs": [],
   "source": [
    "import _section2_utils as section2\n",
    "import geopandas as gpd\n",
    "import numpy as np\n",
    "import pandas as pd\n",
    "from segment_speed_utils import gtfs_schedule_wrangling, helpers, time_series_utils\n",
    "from segment_speed_utils.project_vars import (\n",
    "    COMPILED_CACHED_VIEWS,\n",
    "    GTFS_DATA_DICT,\n",
    "    PROJECT_CRS,\n",
    "    RT_SCHED_GCS,\n",
    "    SCHED_GCS,\n",
    "    SEGMENT_GCS,\n",
    ")\n",
    "from shared_utils import catalog_utils, rt_dates, rt_utils"
   ]
  },
  {
   "cell_type": "code",
   "execution_count": 2,
   "id": "5b630233-a221-44fc-8c54-03ea6ad7e6f6",
   "metadata": {},
   "outputs": [],
   "source": [
    "pd.options.display.max_columns = 100\n",
    "pd.options.display.float_format = \"{:.2f}\".format\n",
    "pd.set_option(\"display.max_rows\", None)\n",
    "pd.set_option(\"display.max_colwidth\", None)"
   ]
  },
  {
   "cell_type": "code",
   "execution_count": 3,
   "id": "db12e63a-099b-434e-94ca-5d4798d6d1e6",
   "metadata": {},
   "outputs": [],
   "source": [
    "analysis_date = \"2024-04-16\""
   ]
  },
  {
   "cell_type": "markdown",
   "id": "21c880c9-5226-4630-a462-ecfee837cf54",
   "metadata": {},
   "source": [
    "### `gtfs_funnel/schedule_stats_by_route_direction`"
   ]
  },
  {
   "cell_type": "code",
   "execution_count": 4,
   "id": "e236ad41-2f33-4433-ae22-51fe61bc8099",
   "metadata": {},
   "outputs": [],
   "source": [
    "def cardinal_direction_for_route_direction(analysis_date:str, dict_inputs:dict):\n",
    "    \"\"\"\n",
    "    Get a cardinal direction (North, South, East, West) for each\n",
    "    route.\n",
    "    \"\"\"\n",
    "    STOP_TIMES_FILE = dict_inputs.rt_vs_schedule_tables.stop_times_direction\n",
    "    \n",
    "    stop_times_gdf = pd.read_parquet(\n",
    "    f\"{RT_SCHED_GCS}{STOP_TIMES_FILE}_{analysis_date}.parquet\",\n",
    "    filters=[[(\"stop_primary_direction\", \"!=\", \"Unknown\")]\n",
    "    ])\n",
    "    \n",
    "    trip_scheduled_col = [\n",
    "    \"route_id\",\n",
    "    \"trip_instance_key\",\n",
    "    \"gtfs_dataset_key\",\n",
    "    \"shape_array_key\",\n",
    "    \"direction_id\",\n",
    "    \"route_long_name\",\n",
    "    \"route_short_name\",\n",
    "    \"route_desc\",\n",
    "    \"name\"\n",
    "    ]\n",
    "        \n",
    "    trips_df = helpers.import_scheduled_trips(analysis_date, \n",
    "                                              columns = trip_scheduled_col,\n",
    "                                             get_pandas = True)\n",
    "\n",
    "    \n",
    "    \n",
    "    # Merge dfs\n",
    "    merge_cols = [\"trip_instance_key\", \n",
    "                  \"schedule_gtfs_dataset_key\", \n",
    "                  \"shape_array_key\"]\n",
    "    \n",
    "    stop_times_with_trip = pd.merge(stop_times_gdf, trips_df, on = merge_cols)\n",
    "    \n",
    "    # Fill in missing direction id with 0, per our usual practice.\n",
    "    print(f\"# of nulls for direction_id: {stop_times_with_trip['direction_id'].isna().sum()}\")\n",
    "    #stop_times_with_trip.direction_id = stop_times_with_trip.direction_id.fillna(0)\n",
    "    \n",
    "    agg1 = (\n",
    "        stop_times_with_trip.groupby(\n",
    "            [\n",
    "                \"route_id\",\n",
    "                \"schedule_gtfs_dataset_key\",\n",
    "                \"direction_id\",\n",
    "                \"stop_primary_direction\",\n",
    "            ]\n",
    "        )\n",
    "        .agg({\"stop_sequence\": \"count\"})\n",
    "        .reset_index()\n",
    "        .rename(columns={\"stop_sequence\": \"total_stops\"})\n",
    "    )\n",
    "    \n",
    "    # Sort and drop duplicates so that the\n",
    "    # largest # of stops by stop_primary_direction is at the top\n",
    "    agg2 = agg1.sort_values(\n",
    "        by=[\"route_id\", \n",
    "            \"schedule_gtfs_dataset_key\",\n",
    "            \"direction_id\",\n",
    "            \"total_stops\"],\n",
    "        ascending=[True, True, True, False],\n",
    "    )\n",
    "    \n",
    "    # Drop duplicates so only the top stop_primary_direction is kept.\n",
    "    agg3 = agg2.drop_duplicates(\n",
    "    subset=[\n",
    "        \"route_id\",\n",
    "        \"schedule_gtfs_dataset_key\",\n",
    "        \"direction_id\",\n",
    "    ]).reset_index(drop=True)\n",
    "    \n",
    "    agg3 = agg3.drop(columns=[\"total_stops\"])\n",
    "    return agg3"
   ]
  },
  {
   "cell_type": "code",
   "execution_count": 5,
   "id": "f8de58df-0b0e-47dc-9ce3-331a32612677",
   "metadata": {},
   "outputs": [
    {
     "name": "stdout",
     "output_type": "stream",
     "text": [
      "# of nulls for direction_id: 90598\n"
     ]
    }
   ],
   "source": [
    "test = cardinal_direction_for_route_direction(analysis_date,GTFS_DATA_DICT)"
   ]
  },
  {
   "cell_type": "code",
   "execution_count": 6,
   "id": "5dd1e244-0187-49b7-815b-93cd3a012454",
   "metadata": {},
   "outputs": [
    {
     "data": {
      "text/html": [
       "<div>\n",
       "<style scoped>\n",
       "    .dataframe tbody tr th:only-of-type {\n",
       "        vertical-align: middle;\n",
       "    }\n",
       "\n",
       "    .dataframe tbody tr th {\n",
       "        vertical-align: top;\n",
       "    }\n",
       "\n",
       "    .dataframe thead th {\n",
       "        text-align: right;\n",
       "    }\n",
       "</style>\n",
       "<table border=\"1\" class=\"dataframe\">\n",
       "  <thead>\n",
       "    <tr style=\"text-align: right;\">\n",
       "      <th></th>\n",
       "      <th>route_id</th>\n",
       "      <th>schedule_gtfs_dataset_key</th>\n",
       "      <th>direction_id</th>\n",
       "      <th>stop_primary_direction</th>\n",
       "    </tr>\n",
       "  </thead>\n",
       "  <tbody>\n",
       "    <tr>\n",
       "      <th>0</th>\n",
       "      <td>001</td>\n",
       "      <td>cb3074eb8b423dfc5acfeeb0de95eb82</td>\n",
       "      <td>0.00</td>\n",
       "      <td>Westbound</td>\n",
       "    </tr>\n",
       "    <tr>\n",
       "      <th>1</th>\n",
       "      <td>001</td>\n",
       "      <td>cb3074eb8b423dfc5acfeeb0de95eb82</td>\n",
       "      <td>1.00</td>\n",
       "      <td>Eastbound</td>\n",
       "    </tr>\n",
       "    <tr>\n",
       "      <th>2</th>\n",
       "      <td>001-132</td>\n",
       "      <td>9809d3f8121513057bc5cb8de7b54ce2</td>\n",
       "      <td>0.00</td>\n",
       "      <td>Eastbound</td>\n",
       "    </tr>\n",
       "    <tr>\n",
       "      <th>3</th>\n",
       "      <td>001-132</td>\n",
       "      <td>9809d3f8121513057bc5cb8de7b54ce2</td>\n",
       "      <td>1.00</td>\n",
       "      <td>Northbound</td>\n",
       "    </tr>\n",
       "    <tr>\n",
       "      <th>4</th>\n",
       "      <td>002-132</td>\n",
       "      <td>9809d3f8121513057bc5cb8de7b54ce2</td>\n",
       "      <td>0.00</td>\n",
       "      <td>Eastbound</td>\n",
       "    </tr>\n",
       "  </tbody>\n",
       "</table>\n",
       "</div>"
      ],
      "text/plain": [
       "  route_id         schedule_gtfs_dataset_key  direction_id  \\\n",
       "0      001  cb3074eb8b423dfc5acfeeb0de95eb82          0.00   \n",
       "1      001  cb3074eb8b423dfc5acfeeb0de95eb82          1.00   \n",
       "2  001-132  9809d3f8121513057bc5cb8de7b54ce2          0.00   \n",
       "3  001-132  9809d3f8121513057bc5cb8de7b54ce2          1.00   \n",
       "4  002-132  9809d3f8121513057bc5cb8de7b54ce2          0.00   \n",
       "\n",
       "  stop_primary_direction  \n",
       "0              Westbound  \n",
       "1              Eastbound  \n",
       "2              Eastbound  \n",
       "3             Northbound  \n",
       "4              Eastbound  "
      ]
     },
     "execution_count": 6,
     "metadata": {},
     "output_type": "execute_result"
    }
   ],
   "source": [
    "test.head()"
   ]
  },
  {
   "cell_type": "code",
   "execution_count": 7,
   "id": "c210e9c5-bcea-4b84-80e8-5fcab230a9bd",
   "metadata": {},
   "outputs": [
    {
     "name": "stdout",
     "output_type": "stream",
     "text": [
      "<class 'pandas.core.frame.DataFrame'>\n",
      "RangeIndex: 4345 entries, 0 to 4344\n",
      "Data columns (total 4 columns):\n",
      " #   Column                     Non-Null Count  Dtype  \n",
      "---  ------                     --------------  -----  \n",
      " 0   route_id                   4345 non-null   object \n",
      " 1   schedule_gtfs_dataset_key  4345 non-null   object \n",
      " 2   direction_id               4345 non-null   float64\n",
      " 3   stop_primary_direction     4345 non-null   object \n",
      "dtypes: float64(1), object(3)\n",
      "memory usage: 135.9+ KB\n"
     ]
    }
   ],
   "source": [
    "test.info()"
   ]
  },
  {
   "cell_type": "code",
   "execution_count": 8,
   "id": "22760896-39b1-40a6-bc54-12b137a83c94",
   "metadata": {},
   "outputs": [],
   "source": [
    "import sys\n",
    "\n",
    "sys.path.append(\"../gtfs_funnel\")\n",
    "import schedule_stats_by_route_direction"
   ]
  },
  {
   "cell_type": "code",
   "execution_count": 9,
   "id": "3d96173d-216b-4e36-a3ff-ac5b17d5e26e",
   "metadata": {},
   "outputs": [
    {
     "name": "stdout",
     "output_type": "stream",
     "text": [
      "<class 'pandas.core.frame.DataFrame'>\n",
      "Int64Index: 104941 entries, 0 to 104940\n",
      "Data columns (total 7 columns):\n",
      " #   Column                     Non-Null Count   Dtype  \n",
      "---  ------                     --------------   -----  \n",
      " 0   schedule_gtfs_dataset_key  104941 non-null  object \n",
      " 1   trip_instance_key          104941 non-null  object \n",
      " 2   median_stop_meters         104937 non-null  float64\n",
      " 3   time_of_day                104941 non-null  object \n",
      " 4   scheduled_service_minutes  104941 non-null  float64\n",
      " 5   route_id                   104941 non-null  object \n",
      " 6   direction_id               95044 non-null   float64\n",
      "dtypes: float64(3), object(4)\n",
      "memory usage: 6.4+ MB\n"
     ]
    },
    {
     "data": {
      "text/plain": [
       "None"
      ]
     },
     "metadata": {},
     "output_type": "display_data"
    }
   ],
   "source": [
    "trip_metrics = schedule_stats_by_route_direction.assemble_scheduled_trip_metrics(analysis_date, GTFS_DATA_DICT)\n",
    "trip_metrics = trip_metrics.rename(columns = {\"stop_primary_direction\":\"route_primary_direction\"})"
   ]
  },
  {
   "cell_type": "code",
   "execution_count": 10,
   "id": "5ab31f97-b712-4325-bca0-e0ff2a447e9f",
   "metadata": {},
   "outputs": [
    {
     "data": {
      "text/html": [
       "<div>\n",
       "<style scoped>\n",
       "    .dataframe tbody tr th:only-of-type {\n",
       "        vertical-align: middle;\n",
       "    }\n",
       "\n",
       "    .dataframe tbody tr th {\n",
       "        vertical-align: top;\n",
       "    }\n",
       "\n",
       "    .dataframe thead th {\n",
       "        text-align: right;\n",
       "    }\n",
       "</style>\n",
       "<table border=\"1\" class=\"dataframe\">\n",
       "  <thead>\n",
       "    <tr style=\"text-align: right;\">\n",
       "      <th></th>\n",
       "      <th>schedule_gtfs_dataset_key</th>\n",
       "      <th>trip_instance_key</th>\n",
       "      <th>median_stop_meters</th>\n",
       "      <th>time_of_day</th>\n",
       "      <th>scheduled_service_minutes</th>\n",
       "      <th>route_id</th>\n",
       "      <th>direction_id</th>\n",
       "    </tr>\n",
       "  </thead>\n",
       "  <tbody>\n",
       "    <tr>\n",
       "      <th>37780</th>\n",
       "      <td>7cc0cb1871dfd558f11a2885c145d144</td>\n",
       "      <td>2fd67215db5942ad0944e3457757e9b7</td>\n",
       "      <td>429.92</td>\n",
       "      <td>AM Peak</td>\n",
       "      <td>41.00</td>\n",
       "      <td>M</td>\n",
       "      <td>0.00</td>\n",
       "    </tr>\n",
       "  </tbody>\n",
       "</table>\n",
       "</div>"
      ],
      "text/plain": [
       "              schedule_gtfs_dataset_key                 trip_instance_key  \\\n",
       "37780  7cc0cb1871dfd558f11a2885c145d144  2fd67215db5942ad0944e3457757e9b7   \n",
       "\n",
       "       median_stop_meters time_of_day  scheduled_service_minutes route_id  \\\n",
       "37780              429.92     AM Peak                      41.00        M   \n",
       "\n",
       "       direction_id  \n",
       "37780          0.00  "
      ]
     },
     "execution_count": 10,
     "metadata": {},
     "output_type": "execute_result"
    }
   ],
   "source": [
    "trip_metrics.sample()"
   ]
  },
  {
   "cell_type": "code",
   "execution_count": 11,
   "id": "f6e81b56-d903-4148-b916-fb58f07c0b1b",
   "metadata": {},
   "outputs": [],
   "source": [
    "route_group_cols = [\n",
    "            \"schedule_gtfs_dataset_key\", \n",
    "            \"route_id\", \n",
    "            \"direction_id\"\n",
    "        ]\n",
    "        \n",
    "route_merge_cols = [\n",
    "            \"schedule_gtfs_dataset_key\", \n",
    "            \"route_id\", \n",
    "            \"direction_id\",\n",
    "        ]"
   ]
  },
  {
   "cell_type": "code",
   "execution_count": 12,
   "id": "70d084ec-5832-4f17-9d61-66867a1dddc8",
   "metadata": {},
   "outputs": [],
   "source": [
    "route = schedule_stats_by_route_direction.schedule_metrics_by_route_direction(trip_metrics, analysis_date,route_group_cols, route_merge_cols)\n",
    "        "
   ]
  },
  {
   "cell_type": "code",
   "execution_count": 13,
   "id": "368a915d-8a09-45a1-9830-c92ec1f05fe3",
   "metadata": {},
   "outputs": [
    {
     "data": {
      "text/html": [
       "<div>\n",
       "<style scoped>\n",
       "    .dataframe tbody tr th:only-of-type {\n",
       "        vertical-align: middle;\n",
       "    }\n",
       "\n",
       "    .dataframe tbody tr th {\n",
       "        vertical-align: top;\n",
       "    }\n",
       "\n",
       "    .dataframe thead th {\n",
       "        text-align: right;\n",
       "    }\n",
       "</style>\n",
       "<table border=\"1\" class=\"dataframe\">\n",
       "  <thead>\n",
       "    <tr style=\"text-align: right;\">\n",
       "      <th></th>\n",
       "      <th>schedule_gtfs_dataset_key</th>\n",
       "      <th>route_id</th>\n",
       "      <th>direction_id</th>\n",
       "      <th>common_shape_id</th>\n",
       "      <th>route_name</th>\n",
       "      <th>avg_scheduled_service_minutes</th>\n",
       "      <th>avg_stop_miles</th>\n",
       "      <th>n_trips</th>\n",
       "      <th>time_period</th>\n",
       "      <th>frequency</th>\n",
       "    </tr>\n",
       "  </thead>\n",
       "  <tbody>\n",
       "    <tr>\n",
       "      <th>4150</th>\n",
       "      <td>ecd018ad66f497fb8f188ed5a71b284b</td>\n",
       "      <td>453</td>\n",
       "      <td>0.00</td>\n",
       "      <td>0821</td>\n",
       "      <td>Orange Transportation Center - St Joseph Hospital via Chapman/Main/La Veta</td>\n",
       "      <td>20.00</td>\n",
       "      <td>0.25</td>\n",
       "      <td>7</td>\n",
       "      <td>all_day</td>\n",
       "      <td>0.29</td>\n",
       "    </tr>\n",
       "  </tbody>\n",
       "</table>\n",
       "</div>"
      ],
      "text/plain": [
       "             schedule_gtfs_dataset_key route_id  direction_id common_shape_id  \\\n",
       "4150  ecd018ad66f497fb8f188ed5a71b284b      453          0.00            0821   \n",
       "\n",
       "                                                                      route_name  \\\n",
       "4150  Orange Transportation Center - St Joseph Hospital via Chapman/Main/La Veta   \n",
       "\n",
       "      avg_scheduled_service_minutes  avg_stop_miles  n_trips time_period  \\\n",
       "4150                          20.00            0.25        7     all_day   \n",
       "\n",
       "      frequency  \n",
       "4150       0.29  "
      ]
     },
     "execution_count": 13,
     "metadata": {},
     "output_type": "execute_result"
    }
   ],
   "source": [
    "route.drop(columns = ['geometry']).sample()"
   ]
  },
  {
   "cell_type": "code",
   "execution_count": 17,
   "id": "f72635ac-3157-4ef2-9988-196539b7c854",
   "metadata": {},
   "outputs": [
    {
     "data": {
      "text/plain": [
       "_merge    \n",
       "both          10486\n",
       "right_only      615\n",
       "left_only         0\n",
       "dtype: int64"
      ]
     },
     "execution_count": 17,
     "metadata": {},
     "output_type": "execute_result"
    }
   ],
   "source": [
    "pd.merge(\n",
    "            route,\n",
    "            test,\n",
    "            on = route_merge_cols,\n",
    "            how = \"outer\",\n",
    "            indicator = True\n",
    "        )[[\"_merge\"]].value_counts(dropna=False)"
   ]
  },
  {
   "cell_type": "code",
   "execution_count": 15,
   "id": "ee7d97ff-0408-49b0-a59d-612aa4011861",
   "metadata": {},
   "outputs": [],
   "source": [
    "route2= pd.merge(\n",
    "            route,\n",
    "            test,\n",
    "            on = route_merge_cols,\n",
    "            how = \"left\"\n",
    "        )"
   ]
  },
  {
   "cell_type": "code",
   "execution_count": 19,
   "id": "18c7d2f4-6926-43f4-95b0-9919d3a7cc70",
   "metadata": {},
   "outputs": [
    {
     "data": {
      "text/plain": [
       "10486"
      ]
     },
     "execution_count": 19,
     "metadata": {},
     "output_type": "execute_result"
    }
   ],
   "source": [
    "len(route)"
   ]
  },
  {
   "cell_type": "code",
   "execution_count": 16,
   "id": "12843bf6-771c-44d4-bec6-1558c1b04f89",
   "metadata": {},
   "outputs": [
    {
     "data": {
      "text/html": [
       "<div>\n",
       "<style scoped>\n",
       "    .dataframe tbody tr th:only-of-type {\n",
       "        vertical-align: middle;\n",
       "    }\n",
       "\n",
       "    .dataframe tbody tr th {\n",
       "        vertical-align: top;\n",
       "    }\n",
       "\n",
       "    .dataframe thead th {\n",
       "        text-align: right;\n",
       "    }\n",
       "</style>\n",
       "<table border=\"1\" class=\"dataframe\">\n",
       "  <thead>\n",
       "    <tr style=\"text-align: right;\">\n",
       "      <th></th>\n",
       "      <th>schedule_gtfs_dataset_key</th>\n",
       "      <th>route_id</th>\n",
       "      <th>direction_id</th>\n",
       "      <th>common_shape_id</th>\n",
       "      <th>route_name</th>\n",
       "      <th>avg_scheduled_service_minutes</th>\n",
       "      <th>avg_stop_miles</th>\n",
       "      <th>n_trips</th>\n",
       "      <th>time_period</th>\n",
       "      <th>frequency</th>\n",
       "      <th>stop_primary_direction</th>\n",
       "    </tr>\n",
       "  </thead>\n",
       "  <tbody>\n",
       "    <tr>\n",
       "      <th>3969</th>\n",
       "      <td>8eecb796518dafd3c1b971a99f8b8252</td>\n",
       "      <td>3205</td>\n",
       "      <td>0.00</td>\n",
       "      <td>7612</td>\n",
       "      <td>Apple Valley - Lucerne Valley</td>\n",
       "      <td>47.88</td>\n",
       "      <td>0.79</td>\n",
       "      <td>5</td>\n",
       "      <td>peak</td>\n",
       "      <td>0.62</td>\n",
       "      <td>Eastbound</td>\n",
       "    </tr>\n",
       "    <tr>\n",
       "      <th>4034</th>\n",
       "      <td>ecd018ad66f497fb8f188ed5a71b284b</td>\n",
       "      <td>400</td>\n",
       "      <td>1.00</td>\n",
       "      <td>4001</td>\n",
       "      <td>John Wayne Airport - Tustin Metrolink via Jamboree</td>\n",
       "      <td>26.00</td>\n",
       "      <td>0.25</td>\n",
       "      <td>10</td>\n",
       "      <td>peak</td>\n",
       "      <td>1.25</td>\n",
       "      <td>Southbound</td>\n",
       "    </tr>\n",
       "    <tr>\n",
       "      <th>6229</th>\n",
       "      <td>55a01ef72af21906934ae8ffb4786e86</td>\n",
       "      <td>200X</td>\n",
       "      <td>0.00</td>\n",
       "      <td>83</td>\n",
       "      <td>Martinez / Pittsburg</td>\n",
       "      <td>44.50</td>\n",
       "      <td>0.88</td>\n",
       "      <td>6</td>\n",
       "      <td>all_day</td>\n",
       "      <td>0.25</td>\n",
       "      <td>Eastbound</td>\n",
       "    </tr>\n",
       "  </tbody>\n",
       "</table>\n",
       "</div>"
      ],
      "text/plain": [
       "             schedule_gtfs_dataset_key route_id  direction_id common_shape_id  \\\n",
       "3969  8eecb796518dafd3c1b971a99f8b8252     3205          0.00            7612   \n",
       "4034  ecd018ad66f497fb8f188ed5a71b284b      400          1.00            4001   \n",
       "6229  55a01ef72af21906934ae8ffb4786e86     200X          0.00              83   \n",
       "\n",
       "                                              route_name  \\\n",
       "3969                       Apple Valley - Lucerne Valley   \n",
       "4034  John Wayne Airport - Tustin Metrolink via Jamboree   \n",
       "6229                                Martinez / Pittsburg   \n",
       "\n",
       "      avg_scheduled_service_minutes  avg_stop_miles  n_trips time_period  \\\n",
       "3969                          47.88            0.79        5        peak   \n",
       "4034                          26.00            0.25       10        peak   \n",
       "6229                          44.50            0.88        6     all_day   \n",
       "\n",
       "      frequency stop_primary_direction  \n",
       "3969       0.62              Eastbound  \n",
       "4034       1.25             Southbound  \n",
       "6229       0.25              Eastbound  "
      ]
     },
     "execution_count": 16,
     "metadata": {},
     "output_type": "execute_result"
    }
   ],
   "source": [
    "route2.drop(columns = ['geometry']).sample(3)"
   ]
  }
 ],
 "metadata": {
  "kernelspec": {
   "display_name": "Python 3 (ipykernel)",
   "language": "python",
   "name": "python3"
  },
  "language_info": {
   "codemirror_mode": {
    "name": "ipython",
    "version": 3
   },
   "file_extension": ".py",
   "mimetype": "text/x-python",
   "name": "python",
   "nbconvert_exporter": "python",
   "pygments_lexer": "ipython3",
   "version": "3.9.13"
  }
 },
 "nbformat": 4,
 "nbformat_minor": 5
}
