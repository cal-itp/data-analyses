{
 "cells": [
  {
   "cell_type": "markdown",
   "id": "bc141923-f139-4654-ae9d-0e7387d4f163",
   "metadata": {},
   "source": [
    "## Improving Cardinal Direction work\n",
    "* Responding to comments on [PR 1145](https://github.com/cal-itp/data-analyses/pull/1145)\n",
    "\n",
    "* 6/25\n",
    "    * I experimented with not filling in the nans in `direction_id`.\n",
    "    * When I did fill in the nans, I got \"10,489\" rows found in both datafarmes and \"745\" found in \"right_only\". The result from `schedule_metrics_by_route_direction` is 10,489 rows. \n",
    "    * When I didn't fill in the nans, I got a curious result. The dataframe produced by `schedule_metrics_by_route_direction` is 10,486 rows. These two don't match?\n",
    "    _merge    \n",
    "    both          10486\n",
    "    right_only      615\n",
    "    left_only         0"
   ]
  },
  {
   "cell_type": "code",
   "execution_count": 1,
   "id": "9ce35c98-8821-44ee-8450-65ef3e786dbb",
   "metadata": {},
   "outputs": [],
   "source": [
    "import _section2_utils as section2\n",
    "import geopandas as gpd\n",
    "import numpy as np\n",
    "import pandas as pd\n",
    "from segment_speed_utils import gtfs_schedule_wrangling, helpers, time_series_utils\n",
    "from segment_speed_utils.project_vars import (\n",
    "    COMPILED_CACHED_VIEWS,\n",
    "    GTFS_DATA_DICT,\n",
    "    PROJECT_CRS,\n",
    "    RT_SCHED_GCS,\n",
    "    SCHED_GCS,\n",
    "    SEGMENT_GCS,\n",
    ")\n",
    "from shared_utils import catalog_utils, rt_dates, rt_utils"
   ]
  },
  {
   "cell_type": "code",
   "execution_count": 2,
   "id": "5b630233-a221-44fc-8c54-03ea6ad7e6f6",
   "metadata": {},
   "outputs": [],
   "source": [
    "pd.options.display.max_columns = 100\n",
    "pd.options.display.float_format = \"{:.2f}\".format\n",
    "pd.set_option(\"display.max_rows\", None)\n",
    "pd.set_option(\"display.max_colwidth\", None)"
   ]
  },
  {
   "cell_type": "code",
   "execution_count": 3,
   "id": "db12e63a-099b-434e-94ca-5d4798d6d1e6",
   "metadata": {},
   "outputs": [],
   "source": [
    "analysis_date = \"2024-04-16\""
   ]
  },
  {
   "cell_type": "markdown",
   "id": "b6ce6045-b3b2-48c8-ab9b-a9563b9290a2",
   "metadata": {},
   "source": [
    "### 7/2 checking out `_section2_utils.load_schedule_vp_metrics` after removing all `direction_id.fillna(0)` from `gtfs_funnel/schedule_metrics_by_route_direction`\n",
    "* Looks ok, all values in `direction_id` are filled."
   ]
  },
  {
   "cell_type": "code",
   "execution_count": 51,
   "id": "cfa9fd31-ec96-4384-abef-596492981533",
   "metadata": {},
   "outputs": [],
   "source": [
    "schd_vp_url = f\"{GTFS_DATA_DICT.digest_tables.dir}{GTFS_DATA_DICT.digest_tables.route_schedule_vp}.parquet\""
   ]
  },
  {
   "cell_type": "code",
   "execution_count": 53,
   "id": "52fa9cc4-a366-4ba8-b2ea-069711d102aa",
   "metadata": {},
   "outputs": [],
   "source": [
    "all_ops = pd.read_parquet(schd_vp_url)"
   ]
  },
  {
   "cell_type": "code",
   "execution_count": 55,
   "id": "41c51b33-2e8d-40e4-b1cb-5a86ed91a4ed",
   "metadata": {},
   "outputs": [
    {
     "data": {
      "text/plain": [
       "0.00    90196\n",
       "1.00    75435\n",
       "Name: direction_id, dtype: int64"
      ]
     },
     "execution_count": 55,
     "metadata": {},
     "output_type": "execute_result"
    }
   ],
   "source": [
    "all_ops.direction_id.value_counts(dropna=False)"
   ]
  },
  {
   "cell_type": "code",
   "execution_count": 54,
   "id": "ab1c64c9-0b91-4580-9eeb-254639bfa51e",
   "metadata": {},
   "outputs": [
    {
     "name": "stdout",
     "output_type": "stream",
     "text": [
      "<class 'pandas.core.frame.DataFrame'>\n",
      "Int64Index: 165631 entries, 0 to 165630\n",
      "Data columns (total 46 columns):\n",
      " #   Column                           Non-Null Count   Dtype         \n",
      "---  ------                           --------------   -----         \n",
      " 0   schedule_gtfs_dataset_key        165631 non-null  object        \n",
      " 1   direction_id                     165631 non-null  float64       \n",
      " 2   time_period                      165631 non-null  object        \n",
      " 3   route_primary_direction          157687 non-null  object        \n",
      " 4   avg_scheduled_service_minutes    157687 non-null  float64       \n",
      " 5   avg_stop_miles                   157687 non-null  float64       \n",
      " 6   n_scheduled_trips                165631 non-null  int64         \n",
      " 7   frequency                        157687 non-null  float64       \n",
      " 8   is_express                       150243 non-null  float64       \n",
      " 9   is_rapid                         150243 non-null  float64       \n",
      " 10  is_rail                          150243 non-null  float64       \n",
      " 11  is_coverage                      150243 non-null  float64       \n",
      " 12  is_downtown_local                150243 non-null  float64       \n",
      " 13  is_local                         150243 non-null  float64       \n",
      " 14  service_date                     165631 non-null  datetime64[ns]\n",
      " 15  typology                         157687 non-null  object        \n",
      " 16  minutes_atleast1_vp              165631 non-null  int64         \n",
      " 17  minutes_atleast2_vp              165631 non-null  int64         \n",
      " 18  total_rt_service_minutes         127860 non-null  float64       \n",
      " 19  total_scheduled_service_minutes  127860 non-null  float64       \n",
      " 20  total_vp                         165631 non-null  int64         \n",
      " 21  vp_in_shape                      165631 non-null  int64         \n",
      " 22  is_early                         165631 non-null  int64         \n",
      " 23  is_ontime                        165631 non-null  int64         \n",
      " 24  is_late                          165631 non-null  int64         \n",
      " 25  n_vp_trips                       165631 non-null  int64         \n",
      " 26  vp_per_minute                    127860 non-null  float64       \n",
      " 27  pct_in_shape                     127860 non-null  float64       \n",
      " 28  pct_rt_journey_atleast1_vp       127860 non-null  float64       \n",
      " 29  pct_rt_journey_atleast2_vp       127860 non-null  float64       \n",
      " 30  pct_sched_journey_atleast1_vp    127860 non-null  float64       \n",
      " 31  pct_sched_journey_atleast2_vp    127860 non-null  float64       \n",
      " 32  rt_sched_journey_ratio           127860 non-null  float64       \n",
      " 33  avg_rt_service_minutes           127860 non-null  float64       \n",
      " 34  sched_rt_category                165631 non-null  category      \n",
      " 35  speed_mph                        123462 non-null  float64       \n",
      " 36  name                             165631 non-null  object        \n",
      " 37  route_long_name                  165631 non-null  object        \n",
      " 38  route_short_name                 165631 non-null  object        \n",
      " 39  route_combined_name              165631 non-null  object        \n",
      " 40  route_id                         165631 non-null  object        \n",
      " 41  schedule_source_record_id        165452 non-null  object        \n",
      " 42  base64_url                       165452 non-null  object        \n",
      " 43  organization_source_record_id    165452 non-null  object        \n",
      " 44  organization_name                165452 non-null  object        \n",
      " 45  caltrans_district                165273 non-null  object        \n",
      "dtypes: category(1), datetime64[ns](1), float64(21), int64(9), object(14)\n",
      "memory usage: 58.3+ MB\n"
     ]
    }
   ],
   "source": [
    "all_ops.info()"
   ]
  },
  {
   "cell_type": "markdown",
   "id": "56902704-0a45-43e3-ab7a-c7d11d5e6be1",
   "metadata": {},
   "source": [
    "### 7/1: Resolving where to fill in `direction_id`. \n",
    "#### `gtfs_digest/merge_data/concatenate_rt_vs_schedule_by_route_direction`"
   ]
  },
  {
   "cell_type": "code",
   "execution_count": 4,
   "id": "1cbffbc7-dfa6-4293-9455-fe94d3571742",
   "metadata": {},
   "outputs": [
    {
     "data": {
      "text/plain": [
       "'gs://calitp-analytics-data/data-analyses/rt_vs_schedule/'"
      ]
     },
     "execution_count": 4,
     "metadata": {},
     "output_type": "execute_result"
    }
   ],
   "source": [
    "RT_SCHED_GCS"
   ]
  },
  {
   "cell_type": "code",
   "execution_count": 5,
   "id": "0765533f-e4c9-4f41-9107-2c07050bb1f5",
   "metadata": {},
   "outputs": [],
   "source": [
    "FILE = GTFS_DATA_DICT.rt_vs_schedule_tables.vp_route_direction_metrics"
   ]
  },
  {
   "cell_type": "code",
   "execution_count": 6,
   "id": "313b8004-ad98-4433-a464-9598f8d3afb6",
   "metadata": {},
   "outputs": [
    {
     "data": {
      "text/plain": [
       "'vp_route_dir/route_direction_metrics'"
      ]
     },
     "execution_count": 6,
     "metadata": {},
     "output_type": "execute_result"
    }
   ],
   "source": [
    "FILE"
   ]
  },
  {
   "cell_type": "code",
   "execution_count": 7,
   "id": "54c22666-bac7-45c3-a0ea-6a610ebe0110",
   "metadata": {},
   "outputs": [],
   "source": [
    "route_dir_url = \"gs://calitp-analytics-data/data-analyses/rt_vs_schedule/vp_route_dir/route_direction_metrics_2024-05-22.parquet\""
   ]
  },
  {
   "cell_type": "code",
   "execution_count": 8,
   "id": "f77544a8-dc78-4872-bda7-b967508efd12",
   "metadata": {},
   "outputs": [],
   "source": [
    "may_24_route_dir_df = pd.read_parquet(route_dir_url)"
   ]
  },
  {
   "cell_type": "code",
   "execution_count": 9,
   "id": "02d0ba4c-0386-4e3a-a0c0-4c6e58a6215b",
   "metadata": {},
   "outputs": [
    {
     "data": {
      "text/html": [
       "<div>\n",
       "<style scoped>\n",
       "    .dataframe tbody tr th:only-of-type {\n",
       "        vertical-align: middle;\n",
       "    }\n",
       "\n",
       "    .dataframe tbody tr th {\n",
       "        vertical-align: top;\n",
       "    }\n",
       "\n",
       "    .dataframe thead th {\n",
       "        text-align: right;\n",
       "    }\n",
       "</style>\n",
       "<table border=\"1\" class=\"dataframe\">\n",
       "  <thead>\n",
       "    <tr style=\"text-align: right;\">\n",
       "      <th></th>\n",
       "      <th>schedule_gtfs_dataset_key</th>\n",
       "      <th>route_id</th>\n",
       "      <th>direction_id</th>\n",
       "      <th>time_period</th>\n",
       "      <th>minutes_atleast1_vp</th>\n",
       "      <th>minutes_atleast2_vp</th>\n",
       "      <th>total_rt_service_minutes</th>\n",
       "      <th>total_scheduled_service_minutes</th>\n",
       "      <th>total_vp</th>\n",
       "      <th>vp_in_shape</th>\n",
       "      <th>is_early</th>\n",
       "      <th>is_ontime</th>\n",
       "      <th>is_late</th>\n",
       "      <th>n_vp_trips</th>\n",
       "      <th>vp_per_minute</th>\n",
       "      <th>pct_in_shape</th>\n",
       "      <th>pct_rt_journey_atleast1_vp</th>\n",
       "      <th>pct_rt_journey_atleast2_vp</th>\n",
       "      <th>pct_sched_journey_atleast1_vp</th>\n",
       "      <th>pct_sched_journey_atleast2_vp</th>\n",
       "      <th>rt_sched_journey_ratio</th>\n",
       "      <th>avg_rt_service_minutes</th>\n",
       "      <th>name</th>\n",
       "      <th>base64_url</th>\n",
       "      <th>organization_source_record_id</th>\n",
       "      <th>organization_name</th>\n",
       "      <th>caltrans_district</th>\n",
       "    </tr>\n",
       "  </thead>\n",
       "  <tbody>\n",
       "    <tr>\n",
       "      <th>269</th>\n",
       "      <td>0666caf3ec1ecc96b74f4477ee4bc939</td>\n",
       "      <td>210-13172</td>\n",
       "      <td>0.00</td>\n",
       "      <td>offpeak</td>\n",
       "      <td>5318</td>\n",
       "      <td>5247</td>\n",
       "      <td>6696.94</td>\n",
       "      <td>4523.00</td>\n",
       "      <td>15753</td>\n",
       "      <td>14509</td>\n",
       "      <td>2</td>\n",
       "      <td>4</td>\n",
       "      <td>44</td>\n",
       "      <td>50</td>\n",
       "      <td>2.35</td>\n",
       "      <td>0.92</td>\n",
       "      <td>0.79</td>\n",
       "      <td>0.78</td>\n",
       "      <td>1.00</td>\n",
       "      <td>1.00</td>\n",
       "      <td>1.48</td>\n",
       "      <td>133.94</td>\n",
       "      <td>LA Metro Bus Schedule</td>\n",
       "      <td>aHR0cHM6Ly9naXRsYWIuY29tL0xBQ01UQS9ndGZzX2J1cy9yYXcvbWFzdGVyL2d0ZnNfYnVzLnppcA==</td>\n",
       "      <td>recPnGkwdpnr8jmHB</td>\n",
       "      <td>Los Angeles County Metropolitan Transportation Authority</td>\n",
       "      <td>07 - Los Angeles</td>\n",
       "    </tr>\n",
       "  </tbody>\n",
       "</table>\n",
       "</div>"
      ],
      "text/plain": [
       "            schedule_gtfs_dataset_key   route_id  direction_id time_period  \\\n",
       "269  0666caf3ec1ecc96b74f4477ee4bc939  210-13172          0.00     offpeak   \n",
       "\n",
       "     minutes_atleast1_vp  minutes_atleast2_vp  total_rt_service_minutes  \\\n",
       "269                 5318                 5247                   6696.94   \n",
       "\n",
       "     total_scheduled_service_minutes  total_vp  vp_in_shape  is_early  \\\n",
       "269                          4523.00     15753        14509         2   \n",
       "\n",
       "     is_ontime  is_late  n_vp_trips  vp_per_minute  pct_in_shape  \\\n",
       "269          4       44          50           2.35          0.92   \n",
       "\n",
       "     pct_rt_journey_atleast1_vp  pct_rt_journey_atleast2_vp  \\\n",
       "269                        0.79                        0.78   \n",
       "\n",
       "     pct_sched_journey_atleast1_vp  pct_sched_journey_atleast2_vp  \\\n",
       "269                           1.00                           1.00   \n",
       "\n",
       "     rt_sched_journey_ratio  avg_rt_service_minutes                   name  \\\n",
       "269                    1.48                  133.94  LA Metro Bus Schedule   \n",
       "\n",
       "                                                                           base64_url  \\\n",
       "269  aHR0cHM6Ly9naXRsYWIuY29tL0xBQ01UQS9ndGZzX2J1cy9yYXcvbWFzdGVyL2d0ZnNfYnVzLnppcA==   \n",
       "\n",
       "    organization_source_record_id  \\\n",
       "269             recPnGkwdpnr8jmHB   \n",
       "\n",
       "                                            organization_name  \\\n",
       "269  Los Angeles County Metropolitan Transportation Authority   \n",
       "\n",
       "    caltrans_district  \n",
       "269  07 - Los Angeles  "
      ]
     },
     "execution_count": 9,
     "metadata": {},
     "output_type": "execute_result"
    }
   ],
   "source": [
    "may_24_route_dir_df.sample()"
   ]
  },
  {
   "cell_type": "code",
   "execution_count": 10,
   "id": "701621c4-11ab-4f4d-9301-ca802787b7e0",
   "metadata": {},
   "outputs": [
    {
     "data": {
      "text/plain": [
       "0.00    4252\n",
       "1.00    3871\n",
       "Name: direction_id, dtype: int64"
      ]
     },
     "execution_count": 10,
     "metadata": {},
     "output_type": "execute_result"
    }
   ],
   "source": [
    "may_24_route_dir_df.direction_id.value_counts(dropna = False)"
   ]
  },
  {
   "cell_type": "code",
   "execution_count": 11,
   "id": "4d181331-3474-42bd-a8e1-7b69c0f52b08",
   "metadata": {},
   "outputs": [
    {
     "name": "stdout",
     "output_type": "stream",
     "text": [
      "<class 'pandas.core.frame.DataFrame'>\n",
      "Int64Index: 8123 entries, 0 to 8122\n",
      "Data columns (total 27 columns):\n",
      " #   Column                           Non-Null Count  Dtype  \n",
      "---  ------                           --------------  -----  \n",
      " 0   schedule_gtfs_dataset_key        8123 non-null   object \n",
      " 1   route_id                         8123 non-null   object \n",
      " 2   direction_id                     8123 non-null   float64\n",
      " 3   time_period                      8123 non-null   object \n",
      " 4   minutes_atleast1_vp              8123 non-null   int64  \n",
      " 5   minutes_atleast2_vp              8123 non-null   int64  \n",
      " 6   total_rt_service_minutes         8123 non-null   float64\n",
      " 7   total_scheduled_service_minutes  8123 non-null   float64\n",
      " 8   total_vp                         8123 non-null   int64  \n",
      " 9   vp_in_shape                      8123 non-null   int64  \n",
      " 10  is_early                         8123 non-null   int64  \n",
      " 11  is_ontime                        8123 non-null   int64  \n",
      " 12  is_late                          8123 non-null   int64  \n",
      " 13  n_vp_trips                       8123 non-null   int64  \n",
      " 14  vp_per_minute                    8123 non-null   float64\n",
      " 15  pct_in_shape                     8123 non-null   float64\n",
      " 16  pct_rt_journey_atleast1_vp       8123 non-null   float64\n",
      " 17  pct_rt_journey_atleast2_vp       8123 non-null   float64\n",
      " 18  pct_sched_journey_atleast1_vp    8123 non-null   float64\n",
      " 19  pct_sched_journey_atleast2_vp    8123 non-null   float64\n",
      " 20  rt_sched_journey_ratio           8123 non-null   float64\n",
      " 21  avg_rt_service_minutes           8123 non-null   float64\n",
      " 22  name                             8123 non-null   object \n",
      " 23  base64_url                       8123 non-null   object \n",
      " 24  organization_source_record_id    8123 non-null   object \n",
      " 25  organization_name                8123 non-null   object \n",
      " 26  caltrans_district                8111 non-null   object \n",
      "dtypes: float64(11), int64(8), object(8)\n",
      "memory usage: 1.7+ MB\n"
     ]
    }
   ],
   "source": [
    "may_24_route_dir_df.info()"
   ]
  },
  {
   "cell_type": "markdown",
   "id": "2c6c0a02-9972-48f3-be73-f1c143c9cd85",
   "metadata": {},
   "source": [
    "#### Checking out results of `gtfs_funnel/schedule_stats_by_route_direction` "
   ]
  },
  {
   "cell_type": "markdown",
   "id": "dd9167fe-ca19-4678-b0c4-03536c80af07",
   "metadata": {
    "tags": []
   },
   "source": [
    "##### Trips"
   ]
  },
  {
   "cell_type": "code",
   "execution_count": 23,
   "id": "689af750-1a6c-4f76-8ee9-92a4d00479f5",
   "metadata": {},
   "outputs": [
    {
     "data": {
      "text/plain": [
       "'gs://calitp-analytics-data/data-analyses/rt_vs_schedule/'"
      ]
     },
     "execution_count": 23,
     "metadata": {},
     "output_type": "execute_result"
    }
   ],
   "source": [
    "RT_SCHED_GCS"
   ]
  },
  {
   "cell_type": "code",
   "execution_count": 21,
   "id": "8b25eacf-4ef9-45ef-a264-2679478b97f7",
   "metadata": {},
   "outputs": [],
   "source": [
    "TRIP_EXPORT = GTFS_DATA_DICT.rt_vs_schedule_tables.sched_trip_metrics"
   ]
  },
  {
   "cell_type": "code",
   "execution_count": 22,
   "id": "13b50f1b-0833-412c-86d4-c8662af735af",
   "metadata": {},
   "outputs": [
    {
     "data": {
      "text/plain": [
       "'schedule_trip/schedule_trip_metrics'"
      ]
     },
     "execution_count": 22,
     "metadata": {},
     "output_type": "execute_result"
    }
   ],
   "source": [
    "TRIP_EXPORT"
   ]
  },
  {
   "cell_type": "code",
   "execution_count": 24,
   "id": "a783d023-0298-44e5-af6a-dd21e3352174",
   "metadata": {},
   "outputs": [],
   "source": [
    "trips_may_22 = \"gs://calitp-analytics-data/data-analyses/rt_vs_schedule/schedule_trip/schedule_trip_metrics_2024-05-22.parquet\""
   ]
  },
  {
   "cell_type": "code",
   "execution_count": 25,
   "id": "13fcc6e8-fbda-4526-acf9-0f468a9c4c74",
   "metadata": {},
   "outputs": [],
   "source": [
    "trips_may_22_df = pd.read_parquet(trips_may_22)"
   ]
  },
  {
   "cell_type": "code",
   "execution_count": 26,
   "id": "e2ac765b-37ec-4ed6-a5f5-2a18e9da70a9",
   "metadata": {},
   "outputs": [
    {
     "name": "stdout",
     "output_type": "stream",
     "text": [
      "<class 'pandas.core.frame.DataFrame'>\n",
      "Int64Index: 96391 entries, 0 to 96390\n",
      "Data columns (total 7 columns):\n",
      " #   Column                     Non-Null Count  Dtype  \n",
      "---  ------                     --------------  -----  \n",
      " 0   schedule_gtfs_dataset_key  96391 non-null  object \n",
      " 1   trip_instance_key          96391 non-null  object \n",
      " 2   median_stop_meters         96387 non-null  float64\n",
      " 3   time_of_day                96391 non-null  object \n",
      " 4   scheduled_service_minutes  96391 non-null  float64\n",
      " 5   route_id                   96391 non-null  object \n",
      " 6   direction_id               90300 non-null  float64\n",
      "dtypes: float64(3), object(4)\n",
      "memory usage: 5.9+ MB\n"
     ]
    }
   ],
   "source": [
    "trips_may_22_df.info()"
   ]
  },
  {
   "cell_type": "code",
   "execution_count": 27,
   "id": "f2529c49-6fee-44dc-87d5-d2dff8b06c19",
   "metadata": {},
   "outputs": [
    {
     "data": {
      "text/plain": [
       "0.00    48466\n",
       "1.00    41834\n",
       "NaN      6091\n",
       "Name: direction_id, dtype: int64"
      ]
     },
     "execution_count": 27,
     "metadata": {},
     "output_type": "execute_result"
    }
   ],
   "source": [
    "trips_may_22_df.direction_id.value_counts(dropna=False)"
   ]
  },
  {
   "cell_type": "code",
   "execution_count": 49,
   "id": "d10c3bf4-da65-4dab-98a1-b2fb183bdad0",
   "metadata": {},
   "outputs": [],
   "source": [
    "all_trips_df = pd.DataFrame()\n",
    "for date in analysis_date_list:\n",
    "    df = schedule_stats_by_route_direction.assemble_scheduled_trip_metrics(date,GTFS_DATA_DICT)\n",
    "    all_trips_df = pd.concat([all_trips_df, df])"
   ]
  },
  {
   "cell_type": "code",
   "execution_count": 50,
   "id": "e27b9795-6e99-472d-856d-f8881ba154da",
   "metadata": {},
   "outputs": [
    {
     "data": {
      "text/plain": [
       "0.00    774400\n",
       "1.00    682329\n",
       "NaN     142287\n",
       "Name: direction_id, dtype: int64"
      ]
     },
     "execution_count": 50,
     "metadata": {},
     "output_type": "execute_result"
    }
   ],
   "source": [
    "all_trips_df.direction_id.value_counts(dropna=False)"
   ]
  },
  {
   "cell_type": "markdown",
   "id": "f32dd2fb-6baf-43d6-9932-694f8bb9b75c",
   "metadata": {},
   "source": [
    "##### Routes"
   ]
  },
  {
   "cell_type": "code",
   "execution_count": 12,
   "id": "7ed8fdcf-ca93-44f5-87f5-a21b4029142e",
   "metadata": {},
   "outputs": [],
   "source": [
    "ROUTE_DIR_EXPORT = GTFS_DATA_DICT.rt_vs_schedule_tables.sched_route_direction_metrics"
   ]
  },
  {
   "cell_type": "code",
   "execution_count": 13,
   "id": "da67207f-df32-41ec-ab89-39e2a433ae6b",
   "metadata": {},
   "outputs": [
    {
     "data": {
      "text/plain": [
       "'gs://calitp-analytics-data/data-analyses/rt_vs_schedule/'"
      ]
     },
     "execution_count": 13,
     "metadata": {},
     "output_type": "execute_result"
    }
   ],
   "source": [
    "RT_SCHED_GCS"
   ]
  },
  {
   "cell_type": "code",
   "execution_count": 14,
   "id": "dd59ca51-d8ba-406e-b8e6-4f2984241879",
   "metadata": {},
   "outputs": [
    {
     "data": {
      "text/plain": [
       "'schedule_route_dir/schedule_route_direction_metrics'"
      ]
     },
     "execution_count": 14,
     "metadata": {},
     "output_type": "execute_result"
    }
   ],
   "source": [
    "ROUTE_DIR_EXPORT"
   ]
  },
  {
   "cell_type": "code",
   "execution_count": 15,
   "id": "cf048f80-b548-4d3d-b1fe-bc18247493c5",
   "metadata": {},
   "outputs": [],
   "source": [
    "may_22_24_url = \"gs://calitp-analytics-data/data-analyses/rt_vs_schedule/schedule_route_dir/schedule_route_direction_metrics_2024-05-22.parquet\""
   ]
  },
  {
   "cell_type": "code",
   "execution_count": 16,
   "id": "10e37045-fcc8-44f1-8929-ac8ab29002de",
   "metadata": {},
   "outputs": [],
   "source": [
    "may_22_24 = gpd.read_parquet(may_22_24_url)"
   ]
  },
  {
   "cell_type": "code",
   "execution_count": null,
   "id": "362e61fb-50d5-428b-b593-26302375165e",
   "metadata": {},
   "outputs": [
    {
     "data": {
      "text/html": [
       "<div>\n",
       "<style scoped>\n",
       "    .dataframe tbody tr th:only-of-type {\n",
       "        vertical-align: middle;\n",
       "    }\n",
       "\n",
       "    .dataframe tbody tr th {\n",
       "        vertical-align: top;\n",
       "    }\n",
       "\n",
       "    .dataframe thead th {\n",
       "        text-align: right;\n",
       "    }\n",
       "</style>\n",
       "<table border=\"1\" class=\"dataframe\">\n",
       "  <thead>\n",
       "    <tr style=\"text-align: right;\">\n",
       "      <th></th>\n",
       "      <th>schedule_gtfs_dataset_key</th>\n",
       "      <th>route_id</th>\n",
       "      <th>direction_id</th>\n",
       "      <th>common_shape_id</th>\n",
       "      <th>route_name</th>\n",
       "      <th>avg_scheduled_service_minutes</th>\n",
       "      <th>avg_stop_miles</th>\n",
       "      <th>n_trips</th>\n",
       "      <th>time_period</th>\n",
       "      <th>frequency</th>\n",
       "      <th>is_coverage</th>\n",
       "      <th>is_downtown_local</th>\n",
       "      <th>is_local</th>\n",
       "      <th>is_rapid</th>\n",
       "      <th>is_express</th>\n",
       "      <th>is_rail</th>\n",
       "      <th>route_primary_direction</th>\n",
       "    </tr>\n",
       "  </thead>\n",
       "  <tbody>\n",
       "    <tr>\n",
       "      <th>0</th>\n",
       "      <td>e359e3617344263ad00858db2149a288</td>\n",
       "      <td>6</td>\n",
       "      <td>1.00</td>\n",
       "      <td>p_178727</td>\n",
       "      <td></td>\n",
       "      <td>24.00</td>\n",
       "      <td>0.21</td>\n",
       "      <td>25</td>\n",
       "      <td>all_day</td>\n",
       "      <td>1.04</td>\n",
       "      <td>1.00</td>\n",
       "      <td>0.00</td>\n",
       "      <td>0.00</td>\n",
       "      <td>1.00</td>\n",
       "      <td>0.00</td>\n",
       "      <td>0.00</td>\n",
       "      <td>Northbound</td>\n",
       "    </tr>\n",
       "    <tr>\n",
       "      <th>1</th>\n",
       "      <td>e359e3617344263ad00858db2149a288</td>\n",
       "      <td>6</td>\n",
       "      <td>1.00</td>\n",
       "      <td>p_178727</td>\n",
       "      <td></td>\n",
       "      <td>24.00</td>\n",
       "      <td>0.21</td>\n",
       "      <td>11</td>\n",
       "      <td>offpeak</td>\n",
       "      <td>0.69</td>\n",
       "      <td>1.00</td>\n",
       "      <td>0.00</td>\n",
       "      <td>0.00</td>\n",
       "      <td>1.00</td>\n",
       "      <td>0.00</td>\n",
       "      <td>0.00</td>\n",
       "      <td>Northbound</td>\n",
       "    </tr>\n",
       "  </tbody>\n",
       "</table>\n",
       "</div>"
      ],
      "text/plain": [
       "          schedule_gtfs_dataset_key route_id  direction_id common_shape_id  \\\n",
       "0  e359e3617344263ad00858db2149a288        6          1.00        p_178727   \n",
       "1  e359e3617344263ad00858db2149a288        6          1.00        p_178727   \n",
       "\n",
       "  route_name  avg_scheduled_service_minutes  avg_stop_miles  n_trips  \\\n",
       "0                                     24.00            0.21       25   \n",
       "1                                     24.00            0.21       11   \n",
       "\n",
       "  time_period  frequency  is_coverage  is_downtown_local  is_local  is_rapid  \\\n",
       "0     all_day       1.04         1.00               0.00      0.00      1.00   \n",
       "1     offpeak       0.69         1.00               0.00      0.00      1.00   \n",
       "\n",
       "   is_express  is_rail route_primary_direction  \n",
       "0        0.00     0.00              Northbound  \n",
       "1        0.00     0.00              Northbound  "
      ]
     },
     "execution_count": 17,
     "metadata": {},
     "output_type": "execute_result"
    }
   ],
   "source": [
    "may_22_24.head(2).drop(columns = [\"geometry\"])"
   ]
  },
  {
   "cell_type": "markdown",
   "id": "b8df75b8-2be3-4e4b-8046-b085006b71df",
   "metadata": {},
   "source": [
    "may_22_24.info()"
   ]
  },
  {
   "cell_type": "code",
   "execution_count": 19,
   "id": "a3333543-fa63-4d12-bfae-a23d891b55cc",
   "metadata": {},
   "outputs": [
    {
     "data": {
      "text/plain": [
       "0.00    5319\n",
       "1.00    4331\n",
       "Name: direction_id, dtype: int64"
      ]
     },
     "execution_count": 19,
     "metadata": {},
     "output_type": "execute_result"
    }
   ],
   "source": [
    "may_22_24.direction_id.value_counts(dropna = False)"
   ]
  },
  {
   "cell_type": "markdown",
   "id": "b70455e3-e519-4851-99ed-2d66a699b67e",
   "metadata": {},
   "source": [
    "#### `gtfs_funnel/schedule_stats_by_route_direction/cardinal_direction_for_route_direction()`"
   ]
  },
  {
   "cell_type": "code",
   "execution_count": 31,
   "id": "22760896-39b1-40a6-bc54-12b137a83c94",
   "metadata": {},
   "outputs": [],
   "source": [
    "import sys\n",
    "\n",
    "sys.path.append(\"../gtfs_funnel\")\n",
    "import schedule_stats_by_route_direction"
   ]
  },
  {
   "cell_type": "code",
   "execution_count": 36,
   "id": "1de126f6-7786-428f-b63b-86bb08c045ce",
   "metadata": {},
   "outputs": [],
   "source": [
    "analysis_date_list = (rt_dates.y2024_dates + rt_dates.y2023_dates\n",
    "            )"
   ]
  },
  {
   "cell_type": "code",
   "execution_count": 37,
   "id": "88561ce8-306b-4d76-bf60-29bb8fdb059f",
   "metadata": {},
   "outputs": [
    {
     "data": {
      "text/plain": [
       "['2024-01-17',\n",
       " '2024-02-14',\n",
       " '2024-03-13',\n",
       " '2024-04-17',\n",
       " '2024-05-22',\n",
       " '2024-06-12',\n",
       " '2023-03-15',\n",
       " '2023-04-12',\n",
       " '2023-05-17',\n",
       " '2023-06-14',\n",
       " '2023-07-12',\n",
       " '2023-08-15',\n",
       " '2023-09-13',\n",
       " '2023-10-11',\n",
       " '2023-11-15',\n",
       " '2023-12-13']"
      ]
     },
     "execution_count": 37,
     "metadata": {},
     "output_type": "execute_result"
    }
   ],
   "source": [
    "analysis_date_list"
   ]
  },
  {
   "cell_type": "code",
   "execution_count": 39,
   "id": "04297c84-3cfa-482f-b14b-82c0694f9e65",
   "metadata": {},
   "outputs": [],
   "source": [
    "cardinal_dir = schedule_stats_by_route_direction.cardinal_direction_for_route_direction('2024-05-22',GTFS_DATA_DICT)"
   ]
  },
  {
   "cell_type": "code",
   "execution_count": 40,
   "id": "1aeb687e-39a6-4e11-9851-9e4b5dfad8fa",
   "metadata": {},
   "outputs": [
    {
     "name": "stdout",
     "output_type": "stream",
     "text": [
      "<class 'pandas.core.frame.DataFrame'>\n",
      "RangeIndex: 4029 entries, 0 to 4028\n",
      "Data columns (total 4 columns):\n",
      " #   Column                     Non-Null Count  Dtype  \n",
      "---  ------                     --------------  -----  \n",
      " 0   route_id                   4029 non-null   object \n",
      " 1   schedule_gtfs_dataset_key  4029 non-null   object \n",
      " 2   direction_id               4029 non-null   float64\n",
      " 3   route_primary_direction    4029 non-null   object \n",
      "dtypes: float64(1), object(3)\n",
      "memory usage: 126.0+ KB\n"
     ]
    }
   ],
   "source": [
    "cardinal_dir.info()"
   ]
  },
  {
   "cell_type": "code",
   "execution_count": 47,
   "id": "46ff378e-6251-45e2-8dda-537f24975e87",
   "metadata": {},
   "outputs": [],
   "source": [
    "cardinal_df = pd.DataFrame()\n",
    "for date in analysis_date_list:\n",
    "    df = schedule_stats_by_route_direction.cardinal_direction_for_route_direction(date,GTFS_DATA_DICT)\n",
    "    cardinal_df = pd.concat([cardinal_df, df])"
   ]
  },
  {
   "cell_type": "code",
   "execution_count": 48,
   "id": "0ad41624-ca50-4aae-ad46-5cdd194dd110",
   "metadata": {},
   "outputs": [
    {
     "name": "stdout",
     "output_type": "stream",
     "text": [
      "<class 'pandas.core.frame.DataFrame'>\n",
      "Int64Index: 65710 entries, 0 to 4302\n",
      "Data columns (total 4 columns):\n",
      " #   Column                     Non-Null Count  Dtype  \n",
      "---  ------                     --------------  -----  \n",
      " 0   route_id                   65710 non-null  object \n",
      " 1   schedule_gtfs_dataset_key  65710 non-null  object \n",
      " 2   direction_id               65710 non-null  float64\n",
      " 3   route_primary_direction    65710 non-null  object \n",
      "dtypes: float64(1), object(3)\n",
      "memory usage: 2.5+ MB\n"
     ]
    }
   ],
   "source": [
    "cardinal_df.info()"
   ]
  },
  {
   "cell_type": "markdown",
   "id": "e7f1ae23-56cd-4a68-b249-c852a29e6668",
   "metadata": {},
   "source": [
    "### Try to merge these two together"
   ]
  },
  {
   "cell_type": "code",
   "execution_count": null,
   "id": "a6457d80-6842-4674-9191-246b504a6328",
   "metadata": {},
   "outputs": [],
   "source": [
    "route_time_cols = [\"schedule_gtfs_dataset_key\", \n",
    "                   \"route_id\", \n",
    "                   \"direction_id\", \n",
    "                   \"time_period\"]"
   ]
  },
  {
   "cell_type": "code",
   "execution_count": null,
   "id": "2ef47d7c-440b-48a9-a917-022a7e2ec19d",
   "metadata": {},
   "outputs": [],
   "source": [
    "pd.merge(\n",
    "        may_24_route_dir_df,\n",
    "        may_22_24,\n",
    "        on = route_time_cols,\n",
    "        how = \"outer\",\n",
    "        indicator = True\n",
    "    )[[\"_merge\"]].value_counts()"
   ]
  },
  {
   "cell_type": "markdown",
   "id": "f2c1751f-5ab0-4c73-8285-87be002b7e36",
   "metadata": {},
   "source": [
    "### Try out all the dates"
   ]
  },
  {
   "cell_type": "code",
   "execution_count": null,
   "id": "f7cdd61f-5b0a-4e87-a2e6-5580853c04ce",
   "metadata": {},
   "outputs": [],
   "source": [
    "import merge_data"
   ]
  },
  {
   "cell_type": "code",
   "execution_count": null,
   "id": "531316c0-a0a5-4c34-b967-7b150dca8437",
   "metadata": {},
   "outputs": [],
   "source": [
    "df_sched = merge_data.concatenate_schedule_by_route_direction(analysis_date_list)"
   ]
  },
  {
   "cell_type": "code",
   "execution_count": null,
   "id": "14d1a091-5665-4aa7-b587-bf1c4ba1242d",
   "metadata": {},
   "outputs": [],
   "source": [
    "primary_typology = merge_data.set_primary_typology(df_sched)\n",
    "    \n",
    "df_sched2 = pd.merge(\n",
    "        df_sched,\n",
    "        primary_typology,\n",
    "        on = route_time_cols,\n",
    "        how = \"left\"\n",
    "    )"
   ]
  },
  {
   "cell_type": "code",
   "execution_count": null,
   "id": "670aa258-eb85-447f-a14b-d11f29137c8f",
   "metadata": {},
   "outputs": [],
   "source": [
    "df_sched2.direction_id.value_counts(dropna= False)"
   ]
  },
  {
   "cell_type": "code",
   "execution_count": null,
   "id": "f1458390-8509-479e-a4ff-293804d4a1fc",
   "metadata": {},
   "outputs": [],
   "source": [
    "df_rt_sched = (\n",
    "        merge_data.concatenate_rt_vs_schedule_by_route_direction(\n",
    "            analysis_date_list)\n",
    "        .astype({\"direction_id\": \"float\"})\n",
    "    )"
   ]
  },
  {
   "cell_type": "code",
   "execution_count": null,
   "id": "91bf5fc8-89a5-474b-bad2-c399430ab9f5",
   "metadata": {},
   "outputs": [],
   "source": [
    "df_rt_sched.head(2)"
   ]
  },
  {
   "cell_type": "code",
   "execution_count": null,
   "id": "9f511390-7c99-4d01-8937-ea2dcd885d61",
   "metadata": {},
   "outputs": [],
   "source": [
    "df_rt_sched.direction_id.value_counts(dropna= False)"
   ]
  },
  {
   "cell_type": "code",
   "execution_count": null,
   "id": "98cd6daf-a2d4-4fd0-ad48-fb00451496f1",
   "metadata": {},
   "outputs": [],
   "source": [
    "df = pd.merge(\n",
    "        df_sched2,\n",
    "        df_rt_sched,\n",
    "        on = route_time_cols + [\"service_date\"],\n",
    "        how = \"outer\",\n",
    "        indicator = \"sched_rt_category\"\n",
    "    )"
   ]
  },
  {
   "cell_type": "code",
   "execution_count": null,
   "id": "0bd3a6b7-496e-47be-af2e-529e3ab61e35",
   "metadata": {},
   "outputs": [],
   "source": [
    "df.info()"
   ]
  },
  {
   "cell_type": "code",
   "execution_count": null,
   "id": "cdc77f1a-1f47-4bdf-9cc3-c98e323186fb",
   "metadata": {},
   "outputs": [],
   "source": [
    "df.sched_rt_category.value_counts()"
   ]
  },
  {
   "cell_type": "markdown",
   "id": "23e008a9-0821-4f79-a8fe-6e20926740c2",
   "metadata": {},
   "source": [
    "### `gtfs_digest/_section2_utils.py/load_schedule_vp_metrics()`"
   ]
  },
  {
   "cell_type": "code",
   "execution_count": null,
   "id": "d63a9139-6557-4831-89f8-083032ed1312",
   "metadata": {},
   "outputs": [],
   "source": [
    "RT_SCHED_GCS"
   ]
  },
  {
   "cell_type": "code",
   "execution_count": null,
   "id": "5ee922f7-ff4c-445f-b8af-eebde73a6d3c",
   "metadata": {},
   "outputs": [],
   "source": [
    "GTFS_DATA_DICT.rt_vs_schedule_tables.sched_route_direction_metrics"
   ]
  },
  {
   "cell_type": "code",
   "execution_count": null,
   "id": "756917ef-6714-4b83-95e0-2e7f47c77686",
   "metadata": {},
   "outputs": [],
   "source": [
    "GTFS_DATA_DICT.digest_tables.dir"
   ]
  },
  {
   "cell_type": "code",
   "execution_count": null,
   "id": "189e2f31-4e75-4c18-addf-454ea161860f",
   "metadata": {},
   "outputs": [],
   "source": [
    "GTFS_DATA_DICT.digest_tables.route_schedule_vp"
   ]
  },
  {
   "cell_type": "code",
   "execution_count": null,
   "id": "cb57d36e-5728-48ea-9c1c-6fd73313380a",
   "metadata": {},
   "outputs": [],
   "source": [
    "sched_vp_url = \"gs://calitp-analytics-data/data-analyses/rt_vs_schedule/digest/schedule_vp_metrics_AH_testing.parquet\""
   ]
  },
  {
   "cell_type": "code",
   "execution_count": null,
   "id": "2e1c9de7-b9be-47c0-a6e7-6b2beae24313",
   "metadata": {},
   "outputs": [],
   "source": [
    "sched_vp_df = pd.read_parquet(sched_vp_url)"
   ]
  },
  {
   "cell_type": "code",
   "execution_count": null,
   "id": "175f53ba-c9c9-41ea-9b2c-15a4fe313119",
   "metadata": {},
   "outputs": [],
   "source": [
    "sched_vp_df.head(1)"
   ]
  },
  {
   "cell_type": "code",
   "execution_count": null,
   "id": "7b9842cb-18aa-4b50-83f8-63e04dafc89c",
   "metadata": {},
   "outputs": [],
   "source": [
    "sched_vp_df.info()"
   ]
  },
  {
   "cell_type": "markdown",
   "id": "21c880c9-5226-4630-a462-ecfee837cf54",
   "metadata": {},
   "source": [
    "### `gtfs_funnel/schedule_stats_by_route_direction`"
   ]
  },
  {
   "cell_type": "code",
   "execution_count": null,
   "id": "e236ad41-2f33-4433-ae22-51fe61bc8099",
   "metadata": {},
   "outputs": [],
   "source": [
    "def cardinal_direction_for_route_direction(analysis_date:str, dict_inputs:dict):\n",
    "    \"\"\"\n",
    "    Get a cardinal direction (North, South, East, West) for each\n",
    "    route.\n",
    "    \"\"\"\n",
    "    STOP_TIMES_FILE = dict_inputs.rt_vs_schedule_tables.stop_times_direction\n",
    "    \n",
    "    stop_times_gdf = pd.read_parquet(\n",
    "    f\"{RT_SCHED_GCS}{STOP_TIMES_FILE}_{analysis_date}.parquet\",\n",
    "    filters=[[(\"stop_primary_direction\", \"!=\", \"Unknown\")]\n",
    "    ])\n",
    "    \n",
    "    trip_scheduled_col = [\n",
    "    \"route_id\",\n",
    "    \"trip_instance_key\",\n",
    "    \"gtfs_dataset_key\",\n",
    "    \"shape_array_key\",\n",
    "    \"direction_id\",\n",
    "    \"route_long_name\",\n",
    "    \"route_short_name\",\n",
    "    \"route_desc\",\n",
    "    \"name\"\n",
    "    ]\n",
    "        \n",
    "    trips_df = helpers.import_scheduled_trips(analysis_date, \n",
    "                                             columns = trip_scheduled_col,\n",
    "                                             get_pandas = True)\n",
    "\n",
    "    \n",
    "    # Merge dfs\n",
    "    merge_cols = [\"trip_instance_key\", \n",
    "                  \"schedule_gtfs_dataset_key\", \n",
    "                  \"shape_array_key\"]\n",
    "    \n",
    "    stop_times_with_trip = pd.merge(stop_times_gdf, trips_df, on = merge_cols)\n",
    "    \n",
    "    # Fill in missing direction id with 0, per our usual practice.\n",
    "    print(f\"# of nulls for direction_id: {stop_times_with_trip['direction_id'].isna().sum()}\")\n",
    "    stop_times_with_trip.direction_id = stop_times_with_trip.direction_id.fillna(0)\n",
    "    \n",
    "    main_cols = [\n",
    "        \"route_id\",\n",
    "        \"schedule_gtfs_dataset_key\",\n",
    "        \"direction_id\"\n",
    "    ]\n",
    "    \n",
    "    agg1 = (\n",
    "        stop_times_with_trip.groupby(\n",
    "            main_cols + [\"stop_primary_direction\"]\n",
    "        )\n",
    "        .agg({\"stop_sequence\": \"count\"})\n",
    "        .reset_index()\n",
    "        .rename(columns={\"stop_sequence\": \"total_stops\"})\n",
    "    )\n",
    "    \n",
    "    # Sort and drop duplicates so that the\n",
    "    # largest # of stops by stop_primary_direction is at the top\n",
    "    agg2 = agg1.sort_values(\n",
    "        by= main_cols + [\"total_stops\"],\n",
    "        ascending=[True, True, True, False],\n",
    "    )\n",
    "    \n",
    "    # Drop duplicates so only the top stop_primary_direction is kept.\n",
    "    agg3 = agg2.drop_duplicates(subset= main_cols).reset_index(drop=True)\n",
    "    \n",
    "    agg3 = agg3.drop(columns=[\"total_stops\"])\n",
    "    return agg3"
   ]
  },
  {
   "cell_type": "code",
   "execution_count": null,
   "id": "f8de58df-0b0e-47dc-9ce3-331a32612677",
   "metadata": {},
   "outputs": [],
   "source": [
    "test = cardinal_direction_for_route_direction(analysis_date,GTFS_DATA_DICT)"
   ]
  },
  {
   "cell_type": "code",
   "execution_count": null,
   "id": "5dd1e244-0187-49b7-815b-93cd3a012454",
   "metadata": {},
   "outputs": [],
   "source": [
    "test.head()"
   ]
  },
  {
   "cell_type": "code",
   "execution_count": null,
   "id": "c210e9c5-bcea-4b84-80e8-5fcab230a9bd",
   "metadata": {},
   "outputs": [],
   "source": [
    "test.info()"
   ]
  },
  {
   "cell_type": "code",
   "execution_count": null,
   "id": "3d96173d-216b-4e36-a3ff-ac5b17d5e26e",
   "metadata": {},
   "outputs": [],
   "source": [
    "trip_metrics = schedule_stats_by_route_direction.assemble_scheduled_trip_metrics(analysis_date, GTFS_DATA_DICT)\n",
    "trip_metrics = trip_metrics.rename(columns = {\"stop_primary_direction\":\"route_primary_direction\"})"
   ]
  },
  {
   "cell_type": "code",
   "execution_count": null,
   "id": "5ab31f97-b712-4325-bca0-e0ff2a447e9f",
   "metadata": {},
   "outputs": [],
   "source": [
    "trip_metrics.sample()"
   ]
  },
  {
   "cell_type": "code",
   "execution_count": null,
   "id": "f6e81b56-d903-4148-b916-fb58f07c0b1b",
   "metadata": {},
   "outputs": [],
   "source": [
    "\n",
    "route_merge_group_cols = [\n",
    "            \"schedule_gtfs_dataset_key\", \n",
    "            \"route_id\", \n",
    "            \"direction_id\",\n",
    "        ]"
   ]
  },
  {
   "cell_type": "code",
   "execution_count": null,
   "id": "70d084ec-5832-4f17-9d61-66867a1dddc8",
   "metadata": {},
   "outputs": [],
   "source": [
    "route = schedule_stats_by_route_direction.schedule_metrics_by_route_direction(trip_metrics, analysis_date,route_merge_group_cols)\n",
    "        "
   ]
  },
  {
   "cell_type": "code",
   "execution_count": null,
   "id": "368a915d-8a09-45a1-9830-c92ec1f05fe3",
   "metadata": {},
   "outputs": [],
   "source": [
    "route.drop(columns = ['geometry']).sample()"
   ]
  },
  {
   "cell_type": "code",
   "execution_count": null,
   "id": "0628ec12-085b-424c-96f4-00b0340f6e5a",
   "metadata": {},
   "outputs": [],
   "source": [
    "len(route)"
   ]
  },
  {
   "cell_type": "code",
   "execution_count": null,
   "id": "f72635ac-3157-4ef2-9988-196539b7c854",
   "metadata": {},
   "outputs": [],
   "source": [
    "pd.merge(\n",
    "            route,\n",
    "            test,\n",
    "            on = route_merge_group_cols,\n",
    "            how = \"outer\",\n",
    "            indicator = True\n",
    "        )[[\"_merge\"]].value_counts(dropna=False)"
   ]
  },
  {
   "cell_type": "code",
   "execution_count": null,
   "id": "ee7d97ff-0408-49b0-a59d-612aa4011861",
   "metadata": {},
   "outputs": [],
   "source": [
    "route2= pd.merge(\n",
    "            route,\n",
    "            test,\n",
    "            on = route_merge_group_cols,\n",
    "            how = \"left\"\n",
    "        )"
   ]
  },
  {
   "cell_type": "code",
   "execution_count": null,
   "id": "18c7d2f4-6926-43f4-95b0-9919d3a7cc70",
   "metadata": {},
   "outputs": [],
   "source": [
    "len(route2)"
   ]
  },
  {
   "cell_type": "code",
   "execution_count": null,
   "id": "12843bf6-771c-44d4-bec6-1558c1b04f89",
   "metadata": {},
   "outputs": [],
   "source": [
    "route2.drop(columns = ['geometry']).sample(3)"
   ]
  },
  {
   "cell_type": "code",
   "execution_count": null,
   "id": "4effe5af-3b74-4b92-8e21-11223a104238",
   "metadata": {},
   "outputs": [],
   "source": [
    "ROUTE_TYPOLOGIES = GTFS_DATA_DICT.schedule_tables.route_typologies"
   ]
  },
  {
   "cell_type": "code",
   "execution_count": null,
   "id": "01fb0f64-157b-436f-b17d-fc9fee0dca58",
   "metadata": {},
   "outputs": [],
   "source": [
    "route_typologies = pd.read_parquet(\n",
    "            f\"{SCHED_GCS}{ROUTE_TYPOLOGIES}_{analysis_date}.parquet\",\n",
    "            columns = route_merge_group_cols + [\n",
    "                \"is_coverage\", \"is_downtown_local\", \n",
    "                \"is_local\", \"is_rapid\", \"is_express\", \"is_rail\"]\n",
    "        )\n",
    "    "
   ]
  },
  {
   "cell_type": "code",
   "execution_count": null,
   "id": "b59b9f5f-15af-43e6-9ea5-929c734c2ec7",
   "metadata": {},
   "outputs": [],
   "source": [
    "route_dir_metrics2 = pd.merge(\n",
    "            route,\n",
    "            route_typologies,\n",
    "            on = route_merge_group_cols,\n",
    "            how = \"left\"\n",
    "        )"
   ]
  },
  {
   "cell_type": "code",
   "execution_count": null,
   "id": "334ddfda-1817-4695-811d-d660f46f7157",
   "metadata": {},
   "outputs": [],
   "source": [
    "    \n",
    "route_dir_metrics3 = pd.merge(\n",
    "            route,\n",
    "            route_typologies,\n",
    "            on = route_merge_group_cols,\n",
    "            how = \"left\"\n",
    "        ).merge(test,\n",
    "            on = route_merge_group_cols,\n",
    "            how = \"left\")"
   ]
  },
  {
   "cell_type": "code",
   "execution_count": null,
   "id": "66a27975-143a-4ea3-a1b5-e9d8dafa7a52",
   "metadata": {},
   "outputs": [],
   "source": [
    "len(route_dir_metrics3), len(route_dir_metrics2), len(route)"
   ]
  },
  {
   "cell_type": "code",
   "execution_count": null,
   "id": "801e5709-bc2e-4d6d-b76e-e03ba7b9b1bf",
   "metadata": {},
   "outputs": [],
   "source": [
    "route_dir_metrics3.drop(columns = ['geometry']).sample(3)"
   ]
  }
 ],
 "metadata": {
  "kernelspec": {
   "display_name": "Python 3 (ipykernel)",
   "language": "python",
   "name": "python3"
  },
  "language_info": {
   "codemirror_mode": {
    "name": "ipython",
    "version": 3
   },
   "file_extension": ".py",
   "mimetype": "text/x-python",
   "name": "python",
   "nbconvert_exporter": "python",
   "pygments_lexer": "ipython3",
   "version": "3.9.13"
  }
 },
 "nbformat": 4,
 "nbformat_minor": 5
}
