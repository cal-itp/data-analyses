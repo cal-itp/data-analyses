{
 "cells": [
  {
   "cell_type": "markdown",
   "id": "bc141923-f139-4654-ae9d-0e7387d4f163",
   "metadata": {},
   "source": [
    "## Improving Cardinal Direction work\n",
    "* Responding to comments on [PR 1145](https://github.com/cal-itp/data-analyses/pull/1145)\n",
    "\n",
    "* 6/25\n",
    "    * I experimented with not filling in the nans in `direction_id`.\n",
    "    * When I did fill in the nans, I got \"10,489\" rows found in both datafarmes and \"745\" found in \"right_only\". The result from `schedule_metrics_by_route_direction` is 10,489 rows. \n",
    "    * When I didn't fill in the nans, I got a curious result. The dataframe produced by `schedule_metrics_by_route_direction` is 10,486 rows. These two don't match?\n",
    "    _merge    \n",
    "    both          10486\n",
    "    right_only      615\n",
    "    left_only         0"
   ]
  },
  {
   "cell_type": "code",
   "execution_count": 1,
   "id": "9ce35c98-8821-44ee-8450-65ef3e786dbb",
   "metadata": {},
   "outputs": [
    {
     "name": "stderr",
     "output_type": "stream",
     "text": [
      "/opt/conda/lib/python3.9/site-packages/dask/dataframe/__init__.py:49: FutureWarning: \n",
      "Dask dataframe query planning is disabled because dask-expr is not installed.\n",
      "\n",
      "You can install it with `pip install dask[dataframe]` or `conda install dask`.\n",
      "This will raise in a future version.\n",
      "\n",
      "  warnings.warn(msg, FutureWarning)\n"
     ]
    }
   ],
   "source": [
    "import _section2_utils as section2\n",
    "import geopandas as gpd\n",
    "import numpy as np\n",
    "import pandas as pd\n",
    "from segment_speed_utils import gtfs_schedule_wrangling, helpers, time_series_utils\n",
    "from segment_speed_utils.project_vars import (\n",
    "    COMPILED_CACHED_VIEWS,\n",
    "    GTFS_DATA_DICT,\n",
    "    PROJECT_CRS,\n",
    "    RT_SCHED_GCS,\n",
    "    SCHED_GCS,\n",
    "    SEGMENT_GCS,\n",
    ")\n",
    "from shared_utils import catalog_utils, rt_dates, rt_utils"
   ]
  },
  {
   "cell_type": "code",
   "execution_count": 2,
   "id": "5b630233-a221-44fc-8c54-03ea6ad7e6f6",
   "metadata": {},
   "outputs": [],
   "source": [
    "pd.options.display.max_columns = 100\n",
    "pd.options.display.float_format = \"{:.2f}\".format\n",
    "pd.set_option(\"display.max_rows\", None)\n",
    "pd.set_option(\"display.max_colwidth\", None)"
   ]
  },
  {
   "cell_type": "code",
   "execution_count": 3,
   "id": "db12e63a-099b-434e-94ca-5d4798d6d1e6",
   "metadata": {},
   "outputs": [],
   "source": [
    "analysis_date = \"2024-04-16\""
   ]
  },
  {
   "cell_type": "markdown",
   "id": "2c6c0a02-9972-48f3-be73-f1c143c9cd85",
   "metadata": {},
   "source": [
    "### Checking out results of `gtfs_funnel/schedule_stats_by_route_direction` 6/26"
   ]
  },
  {
   "cell_type": "markdown",
   "id": "408d87b4-4127-42d1-a92b-6e15202831bc",
   "metadata": {},
   "source": [
    "#### Trips"
   ]
  },
  {
   "cell_type": "code",
   "execution_count": 25,
   "id": "8e90e267-bf26-40d8-9517-659b72f17a06",
   "metadata": {},
   "outputs": [],
   "source": [
    " TRIP_EXPORT = GTFS_DATA_DICT.rt_vs_schedule_tables.sched_trip_metrics"
   ]
  },
  {
   "cell_type": "code",
   "execution_count": 26,
   "id": "01507a31-5a22-40ac-bc4a-d6331e5fd8f3",
   "metadata": {},
   "outputs": [
    {
     "data": {
      "text/plain": [
       "'schedule_trip/schedule_trip_metrics'"
      ]
     },
     "execution_count": 26,
     "metadata": {},
     "output_type": "execute_result"
    }
   ],
   "source": [
    "TRIP_EXPORT"
   ]
  },
  {
   "cell_type": "code",
   "execution_count": 27,
   "id": "192ca035-ce77-48b7-a3a3-ed04fa626967",
   "metadata": {},
   "outputs": [],
   "source": [
    "apr_2024_trips = \"gs://calitp-analytics-data/data-analyses/rt_vs_schedule/schedule_trip/schedule_trip_metrics_2024-04-20.parquet\""
   ]
  },
  {
   "cell_type": "code",
   "execution_count": 29,
   "id": "94f1f478-de1d-4ca3-8407-7856bd339cfe",
   "metadata": {},
   "outputs": [],
   "source": [
    "apr_24_df = pd.read_parquet(apr_2024_trips)"
   ]
  },
  {
   "cell_type": "code",
   "execution_count": 30,
   "id": "e1fdc6af-2235-4cd5-b66f-9a9385373f0b",
   "metadata": {},
   "outputs": [
    {
     "data": {
      "text/html": [
       "<div>\n",
       "<style scoped>\n",
       "    .dataframe tbody tr th:only-of-type {\n",
       "        vertical-align: middle;\n",
       "    }\n",
       "\n",
       "    .dataframe tbody tr th {\n",
       "        vertical-align: top;\n",
       "    }\n",
       "\n",
       "    .dataframe thead th {\n",
       "        text-align: right;\n",
       "    }\n",
       "</style>\n",
       "<table border=\"1\" class=\"dataframe\">\n",
       "  <thead>\n",
       "    <tr style=\"text-align: right;\">\n",
       "      <th></th>\n",
       "      <th>schedule_gtfs_dataset_key</th>\n",
       "      <th>trip_instance_key</th>\n",
       "      <th>median_stop_meters</th>\n",
       "      <th>time_of_day</th>\n",
       "      <th>scheduled_service_minutes</th>\n",
       "      <th>route_id</th>\n",
       "      <th>direction_id</th>\n",
       "    </tr>\n",
       "  </thead>\n",
       "  <tbody>\n",
       "    <tr>\n",
       "      <th>0</th>\n",
       "      <td>0139b1253130b33adcd4b3a4490530d2</td>\n",
       "      <td>000c4e00868708e3a798caf22f4b7eeb</td>\n",
       "      <td>952.53</td>\n",
       "      <td>Midday</td>\n",
       "      <td>55.00</td>\n",
       "      <td>91673676-969b-4c0a-a233-158c98c522dc</td>\n",
       "      <td>0.00</td>\n",
       "    </tr>\n",
       "  </tbody>\n",
       "</table>\n",
       "</div>"
      ],
      "text/plain": [
       "          schedule_gtfs_dataset_key                 trip_instance_key  \\\n",
       "0  0139b1253130b33adcd4b3a4490530d2  000c4e00868708e3a798caf22f4b7eeb   \n",
       "\n",
       "   median_stop_meters time_of_day  scheduled_service_minutes  \\\n",
       "0              952.53      Midday                      55.00   \n",
       "\n",
       "                               route_id  direction_id  \n",
       "0  91673676-969b-4c0a-a233-158c98c522dc          0.00  "
      ]
     },
     "execution_count": 30,
     "metadata": {},
     "output_type": "execute_result"
    }
   ],
   "source": [
    "apr_24_df.head(1)"
   ]
  },
  {
   "cell_type": "markdown",
   "id": "38bbfe56-096d-49f7-8413-728d060e7ed8",
   "metadata": {},
   "source": [
    "#### Route"
   ]
  },
  {
   "cell_type": "code",
   "execution_count": 5,
   "id": "7ed8fdcf-ca93-44f5-87f5-a21b4029142e",
   "metadata": {},
   "outputs": [],
   "source": [
    "ROUTE_DIR_EXPORT = GTFS_DATA_DICT.rt_vs_schedule_tables.sched_route_direction_metrics"
   ]
  },
  {
   "cell_type": "code",
   "execution_count": 7,
   "id": "da67207f-df32-41ec-ab89-39e2a433ae6b",
   "metadata": {},
   "outputs": [
    {
     "data": {
      "text/plain": [
       "'gs://calitp-analytics-data/data-analyses/rt_vs_schedule/'"
      ]
     },
     "execution_count": 7,
     "metadata": {},
     "output_type": "execute_result"
    }
   ],
   "source": [
    "RT_SCHED_GCS"
   ]
  },
  {
   "cell_type": "code",
   "execution_count": 6,
   "id": "dd59ca51-d8ba-406e-b8e6-4f2984241879",
   "metadata": {},
   "outputs": [
    {
     "data": {
      "text/plain": [
       "'schedule_route_dir/schedule_route_direction_metrics'"
      ]
     },
     "execution_count": 6,
     "metadata": {},
     "output_type": "execute_result"
    }
   ],
   "source": [
    "ROUTE_DIR_EXPORT"
   ]
  },
  {
   "cell_type": "code",
   "execution_count": 17,
   "id": "a2c9b971-0cd2-4b95-8eb3-9071443e0e37",
   "metadata": {},
   "outputs": [
    {
     "data": {
      "text/plain": [
       "'schedule_route_dir/schedule_route_direction_metrics'"
      ]
     },
     "execution_count": 17,
     "metadata": {},
     "output_type": "execute_result"
    }
   ],
   "source": [
    "GTFS_DATA_DICT.rt_vs_schedule_tables.sched_route_direction_metrics"
   ]
  },
  {
   "cell_type": "code",
   "execution_count": 8,
   "id": "cf048f80-b548-4d3d-b1fe-bc18247493c5",
   "metadata": {},
   "outputs": [],
   "source": [
    "jan_2024 = \"gs://calitp-analytics-data/data-analyses/rt_vs_schedule/schedule_route_dir/schedule_route_direction_metrics_2024-01-17.parquet\""
   ]
  },
  {
   "cell_type": "code",
   "execution_count": 9,
   "id": "10e37045-fcc8-44f1-8929-ac8ab29002de",
   "metadata": {},
   "outputs": [],
   "source": [
    "jan_24_df = gpd.read_parquet(jan_2024)"
   ]
  },
  {
   "cell_type": "code",
   "execution_count": 11,
   "id": "362e61fb-50d5-428b-b593-26302375165e",
   "metadata": {},
   "outputs": [
    {
     "data": {
      "text/html": [
       "<div>\n",
       "<style scoped>\n",
       "    .dataframe tbody tr th:only-of-type {\n",
       "        vertical-align: middle;\n",
       "    }\n",
       "\n",
       "    .dataframe tbody tr th {\n",
       "        vertical-align: top;\n",
       "    }\n",
       "\n",
       "    .dataframe thead th {\n",
       "        text-align: right;\n",
       "    }\n",
       "</style>\n",
       "<table border=\"1\" class=\"dataframe\">\n",
       "  <thead>\n",
       "    <tr style=\"text-align: right;\">\n",
       "      <th></th>\n",
       "      <th>schedule_gtfs_dataset_key</th>\n",
       "      <th>route_id</th>\n",
       "      <th>direction_id</th>\n",
       "      <th>common_shape_id</th>\n",
       "      <th>route_name</th>\n",
       "      <th>avg_scheduled_service_minutes</th>\n",
       "      <th>avg_stop_miles</th>\n",
       "      <th>n_trips</th>\n",
       "      <th>time_period</th>\n",
       "      <th>frequency</th>\n",
       "      <th>is_coverage</th>\n",
       "      <th>is_downtown_local</th>\n",
       "      <th>is_local</th>\n",
       "      <th>is_rapid</th>\n",
       "      <th>is_express</th>\n",
       "      <th>is_rail</th>\n",
       "      <th>stop_primary_direction</th>\n",
       "    </tr>\n",
       "  </thead>\n",
       "  <tbody>\n",
       "    <tr>\n",
       "      <th>0</th>\n",
       "      <td>749380f1a9f225d9123762d83ea2f50d</td>\n",
       "      <td>CCA/Adobe</td>\n",
       "      <td>0.00</td>\n",
       "      <td>p_1432466</td>\n",
       "      <td></td>\n",
       "      <td>14.56</td>\n",
       "      <td>0.11</td>\n",
       "      <td>16</td>\n",
       "      <td>all_day</td>\n",
       "      <td>0.67</td>\n",
       "      <td>0.00</td>\n",
       "      <td>1.00</td>\n",
       "      <td>0.00</td>\n",
       "      <td>0.00</td>\n",
       "      <td>0.00</td>\n",
       "      <td>0.00</td>\n",
       "      <td>Eastbound</td>\n",
       "    </tr>\n",
       "    <tr>\n",
       "      <th>1</th>\n",
       "      <td>749380f1a9f225d9123762d83ea2f50d</td>\n",
       "      <td>CCA/Adobe</td>\n",
       "      <td>0.00</td>\n",
       "      <td>p_1432466</td>\n",
       "      <td></td>\n",
       "      <td>14.56</td>\n",
       "      <td>0.11</td>\n",
       "      <td>16</td>\n",
       "      <td>peak</td>\n",
       "      <td>2.00</td>\n",
       "      <td>0.00</td>\n",
       "      <td>1.00</td>\n",
       "      <td>0.00</td>\n",
       "      <td>0.00</td>\n",
       "      <td>0.00</td>\n",
       "      <td>0.00</td>\n",
       "      <td>Eastbound</td>\n",
       "    </tr>\n",
       "  </tbody>\n",
       "</table>\n",
       "</div>"
      ],
      "text/plain": [
       "          schedule_gtfs_dataset_key   route_id  direction_id common_shape_id  \\\n",
       "0  749380f1a9f225d9123762d83ea2f50d  CCA/Adobe          0.00       p_1432466   \n",
       "1  749380f1a9f225d9123762d83ea2f50d  CCA/Adobe          0.00       p_1432466   \n",
       "\n",
       "  route_name  avg_scheduled_service_minutes  avg_stop_miles  n_trips  \\\n",
       "0                                     14.56            0.11       16   \n",
       "1                                     14.56            0.11       16   \n",
       "\n",
       "  time_period  frequency  is_coverage  is_downtown_local  is_local  is_rapid  \\\n",
       "0     all_day       0.67         0.00               1.00      0.00      0.00   \n",
       "1        peak       2.00         0.00               1.00      0.00      0.00   \n",
       "\n",
       "   is_express  is_rail stop_primary_direction  \n",
       "0        0.00     0.00              Eastbound  \n",
       "1        0.00     0.00              Eastbound  "
      ]
     },
     "execution_count": 11,
     "metadata": {},
     "output_type": "execute_result"
    }
   ],
   "source": [
    "jan_24_df.head(2).drop(columns = [\"geometry\"])"
   ]
  },
  {
   "cell_type": "code",
   "execution_count": 12,
   "id": "0372b0ce-ad84-40ec-8697-4d54cf33d4c4",
   "metadata": {},
   "outputs": [
    {
     "name": "stdout",
     "output_type": "stream",
     "text": [
      "<class 'geopandas.geodataframe.GeoDataFrame'>\n",
      "Index: 10009 entries, 0 to 10008\n",
      "Data columns (total 18 columns):\n",
      " #   Column                         Non-Null Count  Dtype   \n",
      "---  ------                         --------------  -----   \n",
      " 0   geometry                       10009 non-null  geometry\n",
      " 1   schedule_gtfs_dataset_key      10009 non-null  object  \n",
      " 2   route_id                       10009 non-null  object  \n",
      " 3   direction_id                   10009 non-null  float64 \n",
      " 4   common_shape_id                10009 non-null  object  \n",
      " 5   route_name                     10009 non-null  object  \n",
      " 6   avg_scheduled_service_minutes  10009 non-null  float64 \n",
      " 7   avg_stop_miles                 10009 non-null  float64 \n",
      " 8   n_trips                        10009 non-null  int64   \n",
      " 9   time_period                    10009 non-null  object  \n",
      " 10  frequency                      10009 non-null  float64 \n",
      " 11  is_coverage                    9511 non-null   float64 \n",
      " 12  is_downtown_local              9511 non-null   float64 \n",
      " 13  is_local                       9511 non-null   float64 \n",
      " 14  is_rapid                       9511 non-null   float64 \n",
      " 15  is_express                     9511 non-null   float64 \n",
      " 16  is_rail                        9511 non-null   float64 \n",
      " 17  stop_primary_direction         10009 non-null  object  \n",
      "dtypes: float64(10), geometry(1), int64(1), object(6)\n",
      "memory usage: 1.5+ MB\n"
     ]
    }
   ],
   "source": [
    "jan_24_df.info()"
   ]
  },
  {
   "cell_type": "code",
   "execution_count": 13,
   "id": "adfa89a8-d81a-4efa-86a9-1e3150abe30d",
   "metadata": {},
   "outputs": [],
   "source": [
    "mar_2023 = \"gs://calitp-analytics-data/data-analyses/rt_vs_schedule/schedule_route_dir/schedule_route_direction_metrics_2023-03-15.parquet\""
   ]
  },
  {
   "cell_type": "code",
   "execution_count": 14,
   "id": "6d509c1b-0e2b-4461-a080-4a1d87c83483",
   "metadata": {},
   "outputs": [],
   "source": [
    "mar_23_df = gpd.read_parquet(mar_2023)"
   ]
  },
  {
   "cell_type": "code",
   "execution_count": 15,
   "id": "a39af6af-b39d-40d3-90ce-b4f12169945b",
   "metadata": {},
   "outputs": [
    {
     "data": {
      "text/html": [
       "<div>\n",
       "<style scoped>\n",
       "    .dataframe tbody tr th:only-of-type {\n",
       "        vertical-align: middle;\n",
       "    }\n",
       "\n",
       "    .dataframe tbody tr th {\n",
       "        vertical-align: top;\n",
       "    }\n",
       "\n",
       "    .dataframe thead th {\n",
       "        text-align: right;\n",
       "    }\n",
       "</style>\n",
       "<table border=\"1\" class=\"dataframe\">\n",
       "  <thead>\n",
       "    <tr style=\"text-align: right;\">\n",
       "      <th></th>\n",
       "      <th>schedule_gtfs_dataset_key</th>\n",
       "      <th>route_id</th>\n",
       "      <th>direction_id</th>\n",
       "      <th>common_shape_id</th>\n",
       "      <th>route_name</th>\n",
       "      <th>avg_scheduled_service_minutes</th>\n",
       "      <th>avg_stop_miles</th>\n",
       "      <th>n_trips</th>\n",
       "      <th>time_period</th>\n",
       "      <th>frequency</th>\n",
       "      <th>is_coverage</th>\n",
       "      <th>is_downtown_local</th>\n",
       "      <th>is_local</th>\n",
       "      <th>is_rapid</th>\n",
       "      <th>is_express</th>\n",
       "      <th>is_rail</th>\n",
       "      <th>stop_primary_direction</th>\n",
       "    </tr>\n",
       "  </thead>\n",
       "  <tbody>\n",
       "    <tr>\n",
       "      <th>0</th>\n",
       "      <td>a065f1788f6694f048a3908e0adb1b57</td>\n",
       "      <td>ACE Violet</td>\n",
       "      <td>0.00</td>\n",
       "      <td>107498</td>\n",
       "      <td>West Milpitas</td>\n",
       "      <td>32.00</td>\n",
       "      <td>0.21</td>\n",
       "      <td>4</td>\n",
       "      <td>all_day</td>\n",
       "      <td>0.17</td>\n",
       "      <td>1.00</td>\n",
       "      <td>1.00</td>\n",
       "      <td>0.00</td>\n",
       "      <td>0.00</td>\n",
       "      <td>0.00</td>\n",
       "      <td>0.00</td>\n",
       "      <td>Southbound</td>\n",
       "    </tr>\n",
       "    <tr>\n",
       "      <th>1</th>\n",
       "      <td>a065f1788f6694f048a3908e0adb1b57</td>\n",
       "      <td>ACE Violet</td>\n",
       "      <td>0.00</td>\n",
       "      <td>107498</td>\n",
       "      <td>West Milpitas</td>\n",
       "      <td>32.00</td>\n",
       "      <td>0.21</td>\n",
       "      <td>1</td>\n",
       "      <td>offpeak</td>\n",
       "      <td>0.06</td>\n",
       "      <td>1.00</td>\n",
       "      <td>1.00</td>\n",
       "      <td>0.00</td>\n",
       "      <td>0.00</td>\n",
       "      <td>0.00</td>\n",
       "      <td>0.00</td>\n",
       "      <td>Southbound</td>\n",
       "    </tr>\n",
       "  </tbody>\n",
       "</table>\n",
       "</div>"
      ],
      "text/plain": [
       "          schedule_gtfs_dataset_key    route_id  direction_id common_shape_id  \\\n",
       "0  a065f1788f6694f048a3908e0adb1b57  ACE Violet          0.00          107498   \n",
       "1  a065f1788f6694f048a3908e0adb1b57  ACE Violet          0.00          107498   \n",
       "\n",
       "      route_name  avg_scheduled_service_minutes  avg_stop_miles  n_trips  \\\n",
       "0  West Milpitas                          32.00            0.21        4   \n",
       "1  West Milpitas                          32.00            0.21        1   \n",
       "\n",
       "  time_period  frequency  is_coverage  is_downtown_local  is_local  is_rapid  \\\n",
       "0     all_day       0.17         1.00               1.00      0.00      0.00   \n",
       "1     offpeak       0.06         1.00               1.00      0.00      0.00   \n",
       "\n",
       "   is_express  is_rail stop_primary_direction  \n",
       "0        0.00     0.00             Southbound  \n",
       "1        0.00     0.00             Southbound  "
      ]
     },
     "execution_count": 15,
     "metadata": {},
     "output_type": "execute_result"
    }
   ],
   "source": [
    "mar_23_df.head(2).drop(columns = [\"geometry\"])"
   ]
  },
  {
   "cell_type": "code",
   "execution_count": 16,
   "id": "5b283e47-9b4b-472a-bcd7-21e5850aa203",
   "metadata": {},
   "outputs": [
    {
     "name": "stdout",
     "output_type": "stream",
     "text": [
      "<class 'geopandas.geodataframe.GeoDataFrame'>\n",
      "Index: 9881 entries, 0 to 9880\n",
      "Data columns (total 18 columns):\n",
      " #   Column                         Non-Null Count  Dtype   \n",
      "---  ------                         --------------  -----   \n",
      " 0   geometry                       9881 non-null   geometry\n",
      " 1   schedule_gtfs_dataset_key      9881 non-null   object  \n",
      " 2   route_id                       9881 non-null   object  \n",
      " 3   direction_id                   9881 non-null   float64 \n",
      " 4   common_shape_id                9881 non-null   object  \n",
      " 5   route_name                     9881 non-null   object  \n",
      " 6   avg_scheduled_service_minutes  9881 non-null   float64 \n",
      " 7   avg_stop_miles                 9881 non-null   float64 \n",
      " 8   n_trips                        9881 non-null   int64   \n",
      " 9   time_period                    9881 non-null   object  \n",
      " 10  frequency                      9881 non-null   float64 \n",
      " 11  is_coverage                    9482 non-null   float64 \n",
      " 12  is_downtown_local              9482 non-null   float64 \n",
      " 13  is_local                       9482 non-null   float64 \n",
      " 14  is_rapid                       9482 non-null   float64 \n",
      " 15  is_express                     9482 non-null   float64 \n",
      " 16  is_rail                        9482 non-null   float64 \n",
      " 17  stop_primary_direction         9881 non-null   object  \n",
      "dtypes: float64(10), geometry(1), int64(1), object(6)\n",
      "memory usage: 1.4+ MB\n"
     ]
    }
   ],
   "source": [
    "mar_23_df.info()"
   ]
  },
  {
   "cell_type": "code",
   "execution_count": 18,
   "id": "9bac68f4-913d-492a-ad4a-f5b474e448a3",
   "metadata": {},
   "outputs": [],
   "source": [
    "from shared_utils import rt_dates"
   ]
  },
  {
   "cell_type": "code",
   "execution_count": 19,
   "id": "f549d24d-3d23-460e-9e5f-97265f8e2f4d",
   "metadata": {},
   "outputs": [
    {
     "data": {
      "text/plain": [
       "['2024-01-17', '2024-02-14', '2024-03-13']"
      ]
     },
     "execution_count": 19,
     "metadata": {},
     "output_type": "execute_result"
    }
   ],
   "source": [
    "rt_dates.y2024_dates[0:3]"
   ]
  },
  {
   "cell_type": "code",
   "execution_count": 21,
   "id": "9230863b-b098-4985-ac81-1ef56109f2a6",
   "metadata": {},
   "outputs": [
    {
     "data": {
      "text/plain": [
       "'digest/schedule_vp_metrics'"
      ]
     },
     "execution_count": 21,
     "metadata": {},
     "output_type": "execute_result"
    }
   ],
   "source": [
    "GTFS_DATA_DICT.digest_tables.route_schedule_vp "
   ]
  },
  {
   "cell_type": "code",
   "execution_count": 22,
   "id": "49dd1894-8563-455c-950e-bbdd143e69fa",
   "metadata": {},
   "outputs": [
    {
     "data": {
      "text/plain": [
       "'gs://calitp-analytics-data/data-analyses/rt_vs_schedule/'"
      ]
     },
     "execution_count": 22,
     "metadata": {},
     "output_type": "execute_result"
    }
   ],
   "source": [
    "GTFS_DATA_DICT.digest_tables.dir"
   ]
  },
  {
   "cell_type": "code",
   "execution_count": 31,
   "id": "3df74aeb-87a2-495d-a485-d160dd9d5ecb",
   "metadata": {},
   "outputs": [],
   "source": [
    "apr_18_24 = \"gs://calitp-analytics-data/data-analyses/rt_vs_schedule/schedule_route_dir/schedule_route_direction_metrics_2024-04-18.parquet\""
   ]
  },
  {
   "cell_type": "code",
   "execution_count": 32,
   "id": "e8e63729-1d70-4740-8ab2-6434a74cbc1d",
   "metadata": {},
   "outputs": [],
   "source": [
    "apr_18_24_df = gpd.read_parquet(apr_18_24)"
   ]
  },
  {
   "cell_type": "code",
   "execution_count": 33,
   "id": "a8f72bf2-3399-4282-bf00-f2ab75b03e8d",
   "metadata": {},
   "outputs": [
    {
     "data": {
      "text/html": [
       "<div>\n",
       "<style scoped>\n",
       "    .dataframe tbody tr th:only-of-type {\n",
       "        vertical-align: middle;\n",
       "    }\n",
       "\n",
       "    .dataframe tbody tr th {\n",
       "        vertical-align: top;\n",
       "    }\n",
       "\n",
       "    .dataframe thead th {\n",
       "        text-align: right;\n",
       "    }\n",
       "</style>\n",
       "<table border=\"1\" class=\"dataframe\">\n",
       "  <thead>\n",
       "    <tr style=\"text-align: right;\">\n",
       "      <th></th>\n",
       "      <th>schedule_gtfs_dataset_key</th>\n",
       "      <th>route_id</th>\n",
       "      <th>direction_id</th>\n",
       "      <th>common_shape_id</th>\n",
       "      <th>route_name</th>\n",
       "      <th>avg_scheduled_service_minutes</th>\n",
       "      <th>avg_stop_miles</th>\n",
       "      <th>n_trips</th>\n",
       "      <th>time_period</th>\n",
       "      <th>frequency</th>\n",
       "      <th>is_coverage</th>\n",
       "      <th>is_downtown_local</th>\n",
       "      <th>is_local</th>\n",
       "      <th>is_rapid</th>\n",
       "      <th>is_express</th>\n",
       "      <th>is_rail</th>\n",
       "      <th>route_primary_direction</th>\n",
       "    </tr>\n",
       "  </thead>\n",
       "  <tbody>\n",
       "    <tr>\n",
       "      <th>0</th>\n",
       "      <td>07d3b79f14cec8099119e1eb649f065b</td>\n",
       "      <td>12133</td>\n",
       "      <td>0.00</td>\n",
       "      <td>p_497365</td>\n",
       "      <td>South Shore Service &amp; Lake Express Daily</td>\n",
       "      <td>53.25</td>\n",
       "      <td>0.32</td>\n",
       "      <td>4</td>\n",
       "      <td>all_day</td>\n",
       "      <td>0.17</td>\n",
       "      <td>NaN</td>\n",
       "      <td>NaN</td>\n",
       "      <td>NaN</td>\n",
       "      <td>NaN</td>\n",
       "      <td>NaN</td>\n",
       "      <td>NaN</td>\n",
       "      <td>Northbound</td>\n",
       "    </tr>\n",
       "    <tr>\n",
       "      <th>1</th>\n",
       "      <td>07d3b79f14cec8099119e1eb649f065b</td>\n",
       "      <td>12133</td>\n",
       "      <td>0.00</td>\n",
       "      <td>p_497365</td>\n",
       "      <td>South Shore Service &amp; Lake Express Daily</td>\n",
       "      <td>53.25</td>\n",
       "      <td>0.32</td>\n",
       "      <td>1</td>\n",
       "      <td>offpeak</td>\n",
       "      <td>0.06</td>\n",
       "      <td>NaN</td>\n",
       "      <td>NaN</td>\n",
       "      <td>NaN</td>\n",
       "      <td>NaN</td>\n",
       "      <td>NaN</td>\n",
       "      <td>NaN</td>\n",
       "      <td>Northbound</td>\n",
       "    </tr>\n",
       "  </tbody>\n",
       "</table>\n",
       "</div>"
      ],
      "text/plain": [
       "          schedule_gtfs_dataset_key route_id  direction_id common_shape_id  \\\n",
       "0  07d3b79f14cec8099119e1eb649f065b    12133          0.00        p_497365   \n",
       "1  07d3b79f14cec8099119e1eb649f065b    12133          0.00        p_497365   \n",
       "\n",
       "                                 route_name  avg_scheduled_service_minutes  \\\n",
       "0  South Shore Service & Lake Express Daily                          53.25   \n",
       "1  South Shore Service & Lake Express Daily                          53.25   \n",
       "\n",
       "   avg_stop_miles  n_trips time_period  frequency  is_coverage  \\\n",
       "0            0.32        4     all_day       0.17          NaN   \n",
       "1            0.32        1     offpeak       0.06          NaN   \n",
       "\n",
       "   is_downtown_local  is_local  is_rapid  is_express  is_rail  \\\n",
       "0                NaN       NaN       NaN         NaN      NaN   \n",
       "1                NaN       NaN       NaN         NaN      NaN   \n",
       "\n",
       "  route_primary_direction  \n",
       "0              Northbound  \n",
       "1              Northbound  "
      ]
     },
     "execution_count": 33,
     "metadata": {},
     "output_type": "execute_result"
    }
   ],
   "source": [
    "apr_18_24_df.head(2).drop(columns = [\"geometry\"])"
   ]
  },
  {
   "cell_type": "markdown",
   "id": "23e008a9-0821-4f79-a8fe-6e20926740c2",
   "metadata": {},
   "source": [
    "### `gtfs_digest/_section2_utils.py/load_schedule_vp_metrics()`"
   ]
  },
  {
   "cell_type": "code",
   "execution_count": 42,
   "id": "d63a9139-6557-4831-89f8-083032ed1312",
   "metadata": {},
   "outputs": [
    {
     "data": {
      "text/plain": [
       "'gs://calitp-analytics-data/data-analyses/rt_vs_schedule/'"
      ]
     },
     "execution_count": 42,
     "metadata": {},
     "output_type": "execute_result"
    }
   ],
   "source": [
    "RT_SCHED_GCS"
   ]
  },
  {
   "cell_type": "code",
   "execution_count": 41,
   "id": "5ee922f7-ff4c-445f-b8af-eebde73a6d3c",
   "metadata": {},
   "outputs": [
    {
     "data": {
      "text/plain": [
       "'schedule_route_dir/schedule_route_direction_metrics'"
      ]
     },
     "execution_count": 41,
     "metadata": {},
     "output_type": "execute_result"
    }
   ],
   "source": [
    "GTFS_DATA_DICT.rt_vs_schedule_tables.sched_route_direction_metrics"
   ]
  },
  {
   "cell_type": "code",
   "execution_count": 36,
   "id": "756917ef-6714-4b83-95e0-2e7f47c77686",
   "metadata": {},
   "outputs": [
    {
     "data": {
      "text/plain": [
       "'gs://calitp-analytics-data/data-analyses/rt_vs_schedule/'"
      ]
     },
     "execution_count": 36,
     "metadata": {},
     "output_type": "execute_result"
    }
   ],
   "source": [
    "GTFS_DATA_DICT.digest_tables.dir"
   ]
  },
  {
   "cell_type": "code",
   "execution_count": 35,
   "id": "189e2f31-4e75-4c18-addf-454ea161860f",
   "metadata": {},
   "outputs": [
    {
     "data": {
      "text/plain": [
       "'digest/schedule_vp_metrics'"
      ]
     },
     "execution_count": 35,
     "metadata": {},
     "output_type": "execute_result"
    }
   ],
   "source": [
    "GTFS_DATA_DICT.digest_tables.route_schedule_vp"
   ]
  },
  {
   "cell_type": "code",
   "execution_count": 43,
   "id": "cb57d36e-5728-48ea-9c1c-6fd73313380a",
   "metadata": {},
   "outputs": [],
   "source": [
    "sched_vp_url = \"gs://calitp-analytics-data/data-analyses/rt_vs_schedule/digest/schedule_vp_metrics_AH_testing.parquet\""
   ]
  },
  {
   "cell_type": "code",
   "execution_count": 44,
   "id": "2e1c9de7-b9be-47c0-a6e7-6b2beae24313",
   "metadata": {},
   "outputs": [],
   "source": [
    "sched_vp_df = pd.read_parquet(sched_vp_url)"
   ]
  },
  {
   "cell_type": "code",
   "execution_count": 45,
   "id": "175f53ba-c9c9-41ea-9b2c-15a4fe313119",
   "metadata": {},
   "outputs": [
    {
     "data": {
      "text/html": [
       "<div>\n",
       "<style scoped>\n",
       "    .dataframe tbody tr th:only-of-type {\n",
       "        vertical-align: middle;\n",
       "    }\n",
       "\n",
       "    .dataframe tbody tr th {\n",
       "        vertical-align: top;\n",
       "    }\n",
       "\n",
       "    .dataframe thead th {\n",
       "        text-align: right;\n",
       "    }\n",
       "</style>\n",
       "<table border=\"1\" class=\"dataframe\">\n",
       "  <thead>\n",
       "    <tr style=\"text-align: right;\">\n",
       "      <th></th>\n",
       "      <th>schedule_gtfs_dataset_key</th>\n",
       "      <th>direction_id</th>\n",
       "      <th>time_period</th>\n",
       "      <th>route_primary_direction</th>\n",
       "      <th>avg_scheduled_service_minutes</th>\n",
       "      <th>avg_stop_miles</th>\n",
       "      <th>n_scheduled_trips</th>\n",
       "      <th>frequency</th>\n",
       "      <th>is_express</th>\n",
       "      <th>is_rapid</th>\n",
       "      <th>is_rail</th>\n",
       "      <th>is_coverage</th>\n",
       "      <th>is_downtown_local</th>\n",
       "      <th>is_local</th>\n",
       "      <th>service_date</th>\n",
       "      <th>typology</th>\n",
       "      <th>minutes_atleast1_vp</th>\n",
       "      <th>minutes_atleast2_vp</th>\n",
       "      <th>total_rt_service_minutes</th>\n",
       "      <th>total_scheduled_service_minutes</th>\n",
       "      <th>total_vp</th>\n",
       "      <th>vp_in_shape</th>\n",
       "      <th>is_early</th>\n",
       "      <th>is_ontime</th>\n",
       "      <th>is_late</th>\n",
       "      <th>n_vp_trips</th>\n",
       "      <th>vp_per_minute</th>\n",
       "      <th>pct_in_shape</th>\n",
       "      <th>pct_rt_journey_atleast1_vp</th>\n",
       "      <th>pct_rt_journey_atleast2_vp</th>\n",
       "      <th>pct_sched_journey_atleast1_vp</th>\n",
       "      <th>pct_sched_journey_atleast2_vp</th>\n",
       "      <th>rt_sched_journey_ratio</th>\n",
       "      <th>avg_rt_service_minutes</th>\n",
       "      <th>sched_rt_category</th>\n",
       "      <th>speed_mph</th>\n",
       "      <th>name</th>\n",
       "      <th>route_long_name</th>\n",
       "      <th>route_short_name</th>\n",
       "      <th>route_combined_name</th>\n",
       "      <th>route_id</th>\n",
       "      <th>schedule_source_record_id</th>\n",
       "      <th>base64_url</th>\n",
       "      <th>organization_source_record_id</th>\n",
       "      <th>organization_name</th>\n",
       "      <th>caltrans_district</th>\n",
       "    </tr>\n",
       "  </thead>\n",
       "  <tbody>\n",
       "    <tr>\n",
       "      <th>0</th>\n",
       "      <td>015d67d5b75b5cf2b710bbadadfb75f5</td>\n",
       "      <td>0.00</td>\n",
       "      <td>all_day</td>\n",
       "      <td>Northbound</td>\n",
       "      <td>51.77</td>\n",
       "      <td>0.27</td>\n",
       "      <td>22</td>\n",
       "      <td>0.92</td>\n",
       "      <td>0.00</td>\n",
       "      <td>0.00</td>\n",
       "      <td>0.00</td>\n",
       "      <td>0.00</td>\n",
       "      <td>1.00</td>\n",
       "      <td>0.00</td>\n",
       "      <td>2024-04-15</td>\n",
       "      <td>downtown_local</td>\n",
       "      <td>1600</td>\n",
       "      <td>1575</td>\n",
       "      <td>1743.37</td>\n",
       "      <td>1139.00</td>\n",
       "      <td>4728</td>\n",
       "      <td>3813</td>\n",
       "      <td>0</td>\n",
       "      <td>0</td>\n",
       "      <td>22</td>\n",
       "      <td>22</td>\n",
       "      <td>2.71</td>\n",
       "      <td>0.81</td>\n",
       "      <td>0.92</td>\n",
       "      <td>0.90</td>\n",
       "      <td>1.00</td>\n",
       "      <td>1.00</td>\n",
       "      <td>1.53</td>\n",
       "      <td>79.24</td>\n",
       "      <td>schedule_and_vp</td>\n",
       "      <td>17.94</td>\n",
       "      <td>Bay Area 511 Marin Schedule</td>\n",
       "      <td>Downtown San Rafael - Sausalito</td>\n",
       "      <td>17</td>\n",
       "      <td>17 Downtown San Rafael - Sausalito</td>\n",
       "      <td>17</td>\n",
       "      <td>reckCEnFkdLVgfxck</td>\n",
       "      <td>aHR0cHM6Ly9hcGkuNTExLm9yZy90cmFuc2l0L2RhdGFmZWVkcz9vcGVyYXRvcl9pZD1NQQ==</td>\n",
       "      <td>recNOb7pqBRlQVG5e</td>\n",
       "      <td>Marin County Transit District</td>\n",
       "      <td>04 - Oakland</td>\n",
       "    </tr>\n",
       "  </tbody>\n",
       "</table>\n",
       "</div>"
      ],
      "text/plain": [
       "          schedule_gtfs_dataset_key  direction_id time_period  \\\n",
       "0  015d67d5b75b5cf2b710bbadadfb75f5          0.00     all_day   \n",
       "\n",
       "  route_primary_direction  avg_scheduled_service_minutes  avg_stop_miles  \\\n",
       "0              Northbound                          51.77            0.27   \n",
       "\n",
       "   n_scheduled_trips  frequency  is_express  is_rapid  is_rail  is_coverage  \\\n",
       "0                 22       0.92        0.00      0.00     0.00         0.00   \n",
       "\n",
       "   is_downtown_local  is_local service_date        typology  \\\n",
       "0               1.00      0.00   2024-04-15  downtown_local   \n",
       "\n",
       "   minutes_atleast1_vp  minutes_atleast2_vp  total_rt_service_minutes  \\\n",
       "0                 1600                 1575                   1743.37   \n",
       "\n",
       "   total_scheduled_service_minutes  total_vp  vp_in_shape  is_early  \\\n",
       "0                          1139.00      4728         3813         0   \n",
       "\n",
       "   is_ontime  is_late  n_vp_trips  vp_per_minute  pct_in_shape  \\\n",
       "0          0       22          22           2.71          0.81   \n",
       "\n",
       "   pct_rt_journey_atleast1_vp  pct_rt_journey_atleast2_vp  \\\n",
       "0                        0.92                        0.90   \n",
       "\n",
       "   pct_sched_journey_atleast1_vp  pct_sched_journey_atleast2_vp  \\\n",
       "0                           1.00                           1.00   \n",
       "\n",
       "   rt_sched_journey_ratio  avg_rt_service_minutes sched_rt_category  \\\n",
       "0                    1.53                   79.24   schedule_and_vp   \n",
       "\n",
       "   speed_mph                         name                  route_long_name  \\\n",
       "0      17.94  Bay Area 511 Marin Schedule  Downtown San Rafael - Sausalito   \n",
       "\n",
       "  route_short_name                 route_combined_name route_id  \\\n",
       "0               17  17 Downtown San Rafael - Sausalito       17   \n",
       "\n",
       "  schedule_source_record_id  \\\n",
       "0         reckCEnFkdLVgfxck   \n",
       "\n",
       "                                                                 base64_url  \\\n",
       "0  aHR0cHM6Ly9hcGkuNTExLm9yZy90cmFuc2l0L2RhdGFmZWVkcz9vcGVyYXRvcl9pZD1NQQ==   \n",
       "\n",
       "  organization_source_record_id              organization_name  \\\n",
       "0             recNOb7pqBRlQVG5e  Marin County Transit District   \n",
       "\n",
       "  caltrans_district  \n",
       "0      04 - Oakland  "
      ]
     },
     "execution_count": 45,
     "metadata": {},
     "output_type": "execute_result"
    }
   ],
   "source": [
    "sched_vp_df.head(1)"
   ]
  },
  {
   "cell_type": "code",
   "execution_count": 46,
   "id": "7b9842cb-18aa-4b50-83f8-63e04dafc89c",
   "metadata": {},
   "outputs": [
    {
     "name": "stdout",
     "output_type": "stream",
     "text": [
      "<class 'pandas.core.frame.DataFrame'>\n",
      "RangeIndex: 66107 entries, 0 to 66106\n",
      "Data columns (total 46 columns):\n",
      " #   Column                           Non-Null Count  Dtype         \n",
      "---  ------                           --------------  -----         \n",
      " 0   schedule_gtfs_dataset_key        66107 non-null  object        \n",
      " 1   direction_id                     66107 non-null  float64       \n",
      " 2   time_period                      66107 non-null  object        \n",
      " 3   route_primary_direction          63132 non-null  object        \n",
      " 4   avg_scheduled_service_minutes    63135 non-null  float64       \n",
      " 5   avg_stop_miles                   63132 non-null  float64       \n",
      " 6   n_scheduled_trips                66107 non-null  int64         \n",
      " 7   frequency                        63135 non-null  float64       \n",
      " 8   is_express                       59840 non-null  float64       \n",
      " 9   is_rapid                         59840 non-null  float64       \n",
      " 10  is_rail                          59840 non-null  float64       \n",
      " 11  is_coverage                      59840 non-null  float64       \n",
      " 12  is_downtown_local                59840 non-null  float64       \n",
      " 13  is_local                         59840 non-null  float64       \n",
      " 14  service_date                     66107 non-null  datetime64[ns]\n",
      " 15  typology                         63135 non-null  object        \n",
      " 16  minutes_atleast1_vp              66107 non-null  int64         \n",
      " 17  minutes_atleast2_vp              66107 non-null  int64         \n",
      " 18  total_rt_service_minutes         52859 non-null  float64       \n",
      " 19  total_scheduled_service_minutes  52859 non-null  float64       \n",
      " 20  total_vp                         66107 non-null  int64         \n",
      " 21  vp_in_shape                      66107 non-null  int64         \n",
      " 22  is_early                         66107 non-null  int64         \n",
      " 23  is_ontime                        66107 non-null  int64         \n",
      " 24  is_late                          66107 non-null  int64         \n",
      " 25  n_vp_trips                       66107 non-null  int64         \n",
      " 26  vp_per_minute                    52859 non-null  float64       \n",
      " 27  pct_in_shape                     52859 non-null  float64       \n",
      " 28  pct_rt_journey_atleast1_vp       52859 non-null  float64       \n",
      " 29  pct_rt_journey_atleast2_vp       52859 non-null  float64       \n",
      " 30  pct_sched_journey_atleast1_vp    52859 non-null  float64       \n",
      " 31  pct_sched_journey_atleast2_vp    52859 non-null  float64       \n",
      " 32  rt_sched_journey_ratio           52859 non-null  float64       \n",
      " 33  avg_rt_service_minutes           52859 non-null  float64       \n",
      " 34  sched_rt_category                66107 non-null  category      \n",
      " 35  speed_mph                        51115 non-null  float64       \n",
      " 36  name                             66107 non-null  object        \n",
      " 37  route_long_name                  66107 non-null  object        \n",
      " 38  route_short_name                 66107 non-null  object        \n",
      " 39  route_combined_name              66107 non-null  object        \n",
      " 40  route_id                         66107 non-null  object        \n",
      " 41  schedule_source_record_id        66107 non-null  object        \n",
      " 42  base64_url                       66107 non-null  object        \n",
      " 43  organization_source_record_id    66107 non-null  object        \n",
      " 44  organization_name                66107 non-null  object        \n",
      " 45  caltrans_district                65961 non-null  object        \n",
      "dtypes: category(1), datetime64[ns](1), float64(21), int64(9), object(14)\n",
      "memory usage: 22.8+ MB\n"
     ]
    }
   ],
   "source": [
    "sched_vp_df.info()"
   ]
  },
  {
   "cell_type": "markdown",
   "id": "21c880c9-5226-4630-a462-ecfee837cf54",
   "metadata": {},
   "source": [
    "### `gtfs_funnel/schedule_stats_by_route_direction`"
   ]
  },
  {
   "cell_type": "code",
   "execution_count": null,
   "id": "e236ad41-2f33-4433-ae22-51fe61bc8099",
   "metadata": {},
   "outputs": [],
   "source": [
    "def cardinal_direction_for_route_direction(analysis_date:str, dict_inputs:dict):\n",
    "    \"\"\"\n",
    "    Get a cardinal direction (North, South, East, West) for each\n",
    "    route.\n",
    "    \"\"\"\n",
    "    STOP_TIMES_FILE = dict_inputs.rt_vs_schedule_tables.stop_times_direction\n",
    "    \n",
    "    stop_times_gdf = pd.read_parquet(\n",
    "    f\"{RT_SCHED_GCS}{STOP_TIMES_FILE}_{analysis_date}.parquet\",\n",
    "    filters=[[(\"stop_primary_direction\", \"!=\", \"Unknown\")]\n",
    "    ])\n",
    "    \n",
    "    trip_scheduled_col = [\n",
    "    \"route_id\",\n",
    "    \"trip_instance_key\",\n",
    "    \"gtfs_dataset_key\",\n",
    "    \"shape_array_key\",\n",
    "    \"direction_id\",\n",
    "    \"route_long_name\",\n",
    "    \"route_short_name\",\n",
    "    \"route_desc\",\n",
    "    \"name\"\n",
    "    ]\n",
    "        \n",
    "    trips_df = helpers.import_scheduled_trips(analysis_date, \n",
    "                                             columns = trip_scheduled_col,\n",
    "                                             get_pandas = True)\n",
    "\n",
    "    \n",
    "    # Merge dfs\n",
    "    merge_cols = [\"trip_instance_key\", \n",
    "                  \"schedule_gtfs_dataset_key\", \n",
    "                  \"shape_array_key\"]\n",
    "    \n",
    "    stop_times_with_trip = pd.merge(stop_times_gdf, trips_df, on = merge_cols)\n",
    "    \n",
    "    # Fill in missing direction id with 0, per our usual practice.\n",
    "    print(f\"# of nulls for direction_id: {stop_times_with_trip['direction_id'].isna().sum()}\")\n",
    "    stop_times_with_trip.direction_id = stop_times_with_trip.direction_id.fillna(0)\n",
    "    \n",
    "    main_cols = [\n",
    "        \"route_id\",\n",
    "        \"schedule_gtfs_dataset_key\",\n",
    "        \"direction_id\"\n",
    "    ]\n",
    "    \n",
    "    agg1 = (\n",
    "        stop_times_with_trip.groupby(\n",
    "            main_cols + [\"stop_primary_direction\"]\n",
    "        )\n",
    "        .agg({\"stop_sequence\": \"count\"})\n",
    "        .reset_index()\n",
    "        .rename(columns={\"stop_sequence\": \"total_stops\"})\n",
    "    )\n",
    "    \n",
    "    # Sort and drop duplicates so that the\n",
    "    # largest # of stops by stop_primary_direction is at the top\n",
    "    agg2 = agg1.sort_values(\n",
    "        by= main_cols + [\"total_stops\"],\n",
    "        ascending=[True, True, True, False],\n",
    "    )\n",
    "    \n",
    "    # Drop duplicates so only the top stop_primary_direction is kept.\n",
    "    agg3 = agg2.drop_duplicates(subset= main_cols).reset_index(drop=True)\n",
    "    \n",
    "    agg3 = agg3.drop(columns=[\"total_stops\"])\n",
    "    return agg3"
   ]
  },
  {
   "cell_type": "code",
   "execution_count": null,
   "id": "f8de58df-0b0e-47dc-9ce3-331a32612677",
   "metadata": {},
   "outputs": [],
   "source": [
    "test = cardinal_direction_for_route_direction(analysis_date,GTFS_DATA_DICT)"
   ]
  },
  {
   "cell_type": "code",
   "execution_count": null,
   "id": "5dd1e244-0187-49b7-815b-93cd3a012454",
   "metadata": {},
   "outputs": [],
   "source": [
    "test.head()"
   ]
  },
  {
   "cell_type": "code",
   "execution_count": null,
   "id": "c210e9c5-bcea-4b84-80e8-5fcab230a9bd",
   "metadata": {},
   "outputs": [],
   "source": [
    "test.info()"
   ]
  },
  {
   "cell_type": "code",
   "execution_count": null,
   "id": "22760896-39b1-40a6-bc54-12b137a83c94",
   "metadata": {},
   "outputs": [],
   "source": [
    "import sys\n",
    "\n",
    "sys.path.append(\"../gtfs_funnel\")\n",
    "import schedule_stats_by_route_direction"
   ]
  },
  {
   "cell_type": "code",
   "execution_count": null,
   "id": "3d96173d-216b-4e36-a3ff-ac5b17d5e26e",
   "metadata": {},
   "outputs": [],
   "source": [
    "trip_metrics = schedule_stats_by_route_direction.assemble_scheduled_trip_metrics(analysis_date, GTFS_DATA_DICT)\n",
    "trip_metrics = trip_metrics.rename(columns = {\"stop_primary_direction\":\"route_primary_direction\"})"
   ]
  },
  {
   "cell_type": "code",
   "execution_count": null,
   "id": "5ab31f97-b712-4325-bca0-e0ff2a447e9f",
   "metadata": {},
   "outputs": [],
   "source": [
    "trip_metrics.sample()"
   ]
  },
  {
   "cell_type": "code",
   "execution_count": null,
   "id": "f6e81b56-d903-4148-b916-fb58f07c0b1b",
   "metadata": {},
   "outputs": [],
   "source": [
    "\n",
    "route_merge_group_cols = [\n",
    "            \"schedule_gtfs_dataset_key\", \n",
    "            \"route_id\", \n",
    "            \"direction_id\",\n",
    "        ]"
   ]
  },
  {
   "cell_type": "code",
   "execution_count": null,
   "id": "70d084ec-5832-4f17-9d61-66867a1dddc8",
   "metadata": {},
   "outputs": [],
   "source": [
    "route = schedule_stats_by_route_direction.schedule_metrics_by_route_direction(trip_metrics, analysis_date,route_merge_group_cols)\n",
    "        "
   ]
  },
  {
   "cell_type": "code",
   "execution_count": null,
   "id": "368a915d-8a09-45a1-9830-c92ec1f05fe3",
   "metadata": {},
   "outputs": [],
   "source": [
    "route.drop(columns = ['geometry']).sample()"
   ]
  },
  {
   "cell_type": "code",
   "execution_count": null,
   "id": "0628ec12-085b-424c-96f4-00b0340f6e5a",
   "metadata": {},
   "outputs": [],
   "source": [
    "len(route)"
   ]
  },
  {
   "cell_type": "code",
   "execution_count": null,
   "id": "f72635ac-3157-4ef2-9988-196539b7c854",
   "metadata": {},
   "outputs": [],
   "source": [
    "pd.merge(\n",
    "            route,\n",
    "            test,\n",
    "            on = route_merge_group_cols,\n",
    "            how = \"outer\",\n",
    "            indicator = True\n",
    "        )[[\"_merge\"]].value_counts(dropna=False)"
   ]
  },
  {
   "cell_type": "code",
   "execution_count": null,
   "id": "ee7d97ff-0408-49b0-a59d-612aa4011861",
   "metadata": {},
   "outputs": [],
   "source": [
    "route2= pd.merge(\n",
    "            route,\n",
    "            test,\n",
    "            on = route_merge_group_cols,\n",
    "            how = \"left\"\n",
    "        )"
   ]
  },
  {
   "cell_type": "code",
   "execution_count": null,
   "id": "18c7d2f4-6926-43f4-95b0-9919d3a7cc70",
   "metadata": {},
   "outputs": [],
   "source": [
    "len(route2)"
   ]
  },
  {
   "cell_type": "code",
   "execution_count": null,
   "id": "12843bf6-771c-44d4-bec6-1558c1b04f89",
   "metadata": {},
   "outputs": [],
   "source": [
    "route2.drop(columns = ['geometry']).sample(3)"
   ]
  },
  {
   "cell_type": "code",
   "execution_count": null,
   "id": "4effe5af-3b74-4b92-8e21-11223a104238",
   "metadata": {},
   "outputs": [],
   "source": [
    "ROUTE_TYPOLOGIES = GTFS_DATA_DICT.schedule_tables.route_typologies"
   ]
  },
  {
   "cell_type": "code",
   "execution_count": null,
   "id": "01fb0f64-157b-436f-b17d-fc9fee0dca58",
   "metadata": {},
   "outputs": [],
   "source": [
    "route_typologies = pd.read_parquet(\n",
    "            f\"{SCHED_GCS}{ROUTE_TYPOLOGIES}_{analysis_date}.parquet\",\n",
    "            columns = route_merge_group_cols + [\n",
    "                \"is_coverage\", \"is_downtown_local\", \n",
    "                \"is_local\", \"is_rapid\", \"is_express\", \"is_rail\"]\n",
    "        )\n",
    "    "
   ]
  },
  {
   "cell_type": "code",
   "execution_count": null,
   "id": "b59b9f5f-15af-43e6-9ea5-929c734c2ec7",
   "metadata": {},
   "outputs": [],
   "source": [
    "route_dir_metrics2 = pd.merge(\n",
    "            route,\n",
    "            route_typologies,\n",
    "            on = route_merge_group_cols,\n",
    "            how = \"left\"\n",
    "        )"
   ]
  },
  {
   "cell_type": "code",
   "execution_count": null,
   "id": "334ddfda-1817-4695-811d-d660f46f7157",
   "metadata": {},
   "outputs": [],
   "source": [
    "    \n",
    "route_dir_metrics3 = pd.merge(\n",
    "            route,\n",
    "            route_typologies,\n",
    "            on = route_merge_group_cols,\n",
    "            how = \"left\"\n",
    "        ).merge(test,\n",
    "            on = route_merge_group_cols,\n",
    "            how = \"left\")"
   ]
  },
  {
   "cell_type": "code",
   "execution_count": null,
   "id": "66a27975-143a-4ea3-a1b5-e9d8dafa7a52",
   "metadata": {},
   "outputs": [],
   "source": [
    "len(route_dir_metrics3), len(route_dir_metrics2), len(route)"
   ]
  },
  {
   "cell_type": "code",
   "execution_count": null,
   "id": "801e5709-bc2e-4d6d-b76e-e03ba7b9b1bf",
   "metadata": {},
   "outputs": [],
   "source": [
    "route_dir_metrics3.drop(columns = ['geometry']).sample(3)"
   ]
  }
 ],
 "metadata": {
  "kernelspec": {
   "display_name": "Python 3 (ipykernel)",
   "language": "python",
   "name": "python3"
  },
  "language_info": {
   "codemirror_mode": {
    "name": "ipython",
    "version": 3
   },
   "file_extension": ".py",
   "mimetype": "text/x-python",
   "name": "python",
   "nbconvert_exporter": "python",
   "pygments_lexer": "ipython3",
   "version": "3.9.13"
  }
 },
 "nbformat": 4,
 "nbformat_minor": 5
}
