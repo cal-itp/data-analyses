{
 "cells": [
  {
   "cell_type": "code",
   "execution_count": null,
   "id": "feafca21-a1d4-45b5-87ae-5ac5c1b34532",
   "metadata": {},
   "outputs": [],
   "source": [
    "%%capture\n",
    "\n",
    "import warnings\n",
    "\n",
    "warnings.filterwarnings(\"ignore\")\n",
    "import calitp_data_analysis.magics\n",
    "\n",
    "import geopandas as gpd\n",
    "import pandas as pd\n",
    "\n",
    "from great_tables import GT\n",
    "\n",
    "import _report_utils\n",
    "import _leg_district_grain_data_prep as _legislative_district_prep\n",
    "from update_vars import GTFS_DATA_DICT, RT_SCHED_GCS\n",
    "\n",
    "SHARED_GCS = GTFS_DATA_DICT.gcs_paths.SHARED_GCS"
   ]
  },
  {
   "cell_type": "code",
   "execution_count": null,
   "id": "4187a373-057b-40ba-bca8-454bdc7cfa25",
   "metadata": {},
   "outputs": [],
   "source": [
    "import google.auth\n",
    "\n",
    "credentials, project = google.auth.default()\n",
    "\n",
    "import gcsfs\n",
    "\n",
    "fs = gcsfs.GCSFileSystem()"
   ]
  },
  {
   "cell_type": "code",
   "execution_count": null,
   "id": "c15333a6-138e-46ac-ba5e-1ba07947ac44",
   "metadata": {
    "tags": [
     "parameters"
    ]
   },
   "outputs": [],
   "source": [
    "# Comment out and leave this cell right below pandas\n",
    "district = \"AD 03\""
   ]
  },
  {
   "cell_type": "code",
   "execution_count": null,
   "id": "24962c27-e4cb-4623-9c1a-54d9195a7c1c",
   "metadata": {},
   "outputs": [],
   "source": [
    "district_full_name = _legislative_district_prep.readable_district_name(district)"
   ]
  },
  {
   "cell_type": "code",
   "execution_count": null,
   "id": "9af945ff-0887-43d7-b12e-5866205773ba",
   "metadata": {},
   "outputs": [],
   "source": [
    "# %%capture_parameters\n",
    "# district, district_full_name"
   ]
  },
  {
   "cell_type": "code",
   "execution_count": null,
   "id": "f86359af-8cfe-42e8-8d10-0945dc70fded",
   "metadata": {},
   "outputs": [],
   "source": [
    "operator_df = _legislative_district_prep.load_district_stats(district)"
   ]
  },
  {
   "cell_type": "code",
   "execution_count": null,
   "id": "e07d68ad-0e3e-435c-ace8-0c80eac5141f",
   "metadata": {},
   "outputs": [],
   "source": [
    "operator_route_gdf = _legislative_district_prep.load_gtfs_data(operator_df)"
   ]
  },
  {
   "cell_type": "markdown",
   "id": "41f0a970-4646-4147-a596-d41d15517127",
   "metadata": {},
   "source": [
    "# {district}\n",
    "\n",
    "These are district summaries for [GTFS Digest](https://gtfs-digest--cal-itp-data-analyses.netlify.app/). "
   ]
  },
  {
   "cell_type": "code",
   "execution_count": null,
   "id": "06069f65-3a0c-40a7-86dc-ec1321213ccd",
   "metadata": {},
   "outputs": [],
   "source": [
    "district_summary = _report_utils.district_stats(\n",
    "    operator_df, \n",
    "    \"legislative_district\"\n",
    ")"
   ]
  },
  {
   "cell_type": "code",
   "execution_count": null,
   "id": "8eb3a4cc-09a5-49ac-af0c-9e84cfed3d05",
   "metadata": {},
   "outputs": [],
   "source": [
    "summary_table1 = (GT(\n",
    "    district_summary.drop(\n",
    "        columns = [\"arrivals_per_stop\", \"trips_per_operator\"]\n",
    "    ).pipe(\n",
    "        _report_utils.transpose_summary_stats, \n",
    "        district_col = \"legislative_district\"\n",
    "    )\n",
    ")\n",
    " .fmt_integer(columns=\"value\")\n",
    " .cols_label(index=\"\")\n",
    " .tab_header(title = f\"{district_full_name} GTFS summary stats\")\n",
    ")\n",
    "\n",
    "summary_table2 = (GT(\n",
    "    district_summary[\n",
    "        [\"legislative_district\", \"arrivals_per_stop\", \"trips_per_operator\"]\n",
    "    ].pipe(\n",
    "        _report_utils.transpose_summary_stats,\n",
    "        district_col = \"legislative_district\"\n",
    "    )\n",
    ")\n",
    " .fmt_number(\"value\", decimals=1)\n",
    " .cols_label(index=\"\")\n",
    ")"
   ]
  },
  {
   "cell_type": "code",
   "execution_count": null,
   "id": "496f6d82-227e-468d-af9b-b65bc2d0ec57",
   "metadata": {},
   "outputs": [],
   "source": [
    "display(summary_table1)\n",
    "display(summary_table2)"
   ]
  },
  {
   "cell_type": "markdown",
   "id": "b10ecb81-491e-4f65-af8d-0032d6e11d4e",
   "metadata": {},
   "source": [
    "## GTFS Stats by Operator"
   ]
  },
  {
   "cell_type": "code",
   "execution_count": null,
   "id": "62d76c7a-8271-45c2-9dce-52b58b04f126",
   "metadata": {},
   "outputs": [],
   "source": [
    "try:\n",
    "    operator_map = operator_route_gdf.explore(\n",
    "    \"Transit Operator\", \n",
    "    tiles = \"CartoDB Positron\",\n",
    "    categorical=True,\n",
    "    legend=True,\n",
    "    legend_kwds = {\n",
    "        \"width\": 200\n",
    "    })\n",
    "    display(operator_map)\n",
    "except:\n",
    "    pass"
   ]
  },
  {
   "cell_type": "code",
   "execution_count": null,
   "id": "d10e25ae-1904-4d0f-a670-f90232984952",
   "metadata": {},
   "outputs": [],
   "source": [
    "gtfs_table_df = _legislative_district_prep.create_gtfs_table(operator_df)"
   ]
  },
  {
   "cell_type": "code",
   "execution_count": null,
   "id": "c9a2ceb0-3511-4161-9c0f-13659a1240c5",
   "metadata": {},
   "outputs": [],
   "source": [
    "string_cols = gtfs_table_df.select_dtypes(include=\"object\").columns.tolist()"
   ]
  },
  {
   "cell_type": "code",
   "execution_count": null,
   "id": "65466a7b-a35b-43c9-a7e6-7c8f714ee89b",
   "metadata": {
    "tags": []
   },
   "outputs": [],
   "source": [
    "int_columns = [\n",
    "    c\n",
    "    for c in gtfs_table_df.columns\n",
    "    if c not in [\"Operator Service Miles\", \"Avg Arrivals per Stop\"]\n",
    "    and (c not in string_cols)\n",
    "]"
   ]
  },
  {
   "cell_type": "code",
   "execution_count": null,
   "id": "284d196b-0297-47f9-acad-d1c0941de058",
   "metadata": {
    "tags": []
   },
   "outputs": [],
   "source": [
    "gtfs_table = (\n",
    "    GT(gtfs_table_df.sort_values(\"# Trips\", ascending=False))\n",
    "    .fmt_integer(\n",
    "        columns = [\n",
    "            c for c in gtfs_table_df.columns if c not in \n",
    "         [\"Operator Service Miles\", \"Avg Arrivals per Stop\"]\n",
    "            and (c not in string_cols)\n",
    "        ])\n",
    "    .fmt_number(\n",
    "        columns = [\"Operator Service Miles\", \"Avg Arrivals per Stop\"], \n",
    "        decimals = 1)\n",
    "    .data_color(\n",
    "        columns=[\"# Trips\", \"Avg Arrivals per Stop\"],\n",
    "        palette=[\"white\", \"green\"],\n",
    "        na_color=\"lightgray\")\n",
    "    .tab_header(\n",
    "         title = f\"{district_full_name}\",\n",
    "         subtitle = \"Daily GTFS schedule statistics by operator\")\n",
    "    .cols_align(columns = [c for c in gtfs_table_df.columns if c not in [\"Organization\", \"Transit Operator\"]],\n",
    "        align=\"center\")\n",
    "    )\n"
   ]
  },
  {
   "cell_type": "code",
   "execution_count": null,
   "id": "ca841e2c-3b3b-4bd2-a92a-04e36ec178f5",
   "metadata": {
    "tags": []
   },
   "outputs": [],
   "source": [
    "gtfs_table = _report_utils.great_table_formatting(gtfs_table)\n",
    "gtfs_table"
   ]
  }
 ],
 "metadata": {
  "kernelspec": {
   "display_name": "Python 3 (ipykernel)",
   "language": "python",
   "name": "python3"
  },
  "language_info": {
   "codemirror_mode": {
    "name": "ipython",
    "version": 3
   },
   "file_extension": ".py",
   "mimetype": "text/x-python",
   "name": "python",
   "nbconvert_exporter": "python",
   "pygments_lexer": "ipython3",
   "version": "3.11.10"
  }
 },
 "nbformat": 4,
 "nbformat_minor": 5
}
