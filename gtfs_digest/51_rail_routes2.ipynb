{
 "cells": [
  {
   "cell_type": "markdown",
   "id": "185abf82-af9c-42d6-94a1-1b9b8be2c4d5",
   "metadata": {},
   "source": [
    "## Incorporate Tiffany's comments in [PR 1370](https://github.com/cal-itp/data-analyses/pull/1370)"
   ]
  },
  {
   "cell_type": "code",
   "execution_count": 1,
   "id": "930c2b43-b285-4be5-920f-4e60a5096c3f",
   "metadata": {
    "tags": []
   },
   "outputs": [],
   "source": [
    "import _section1_utils as section1\n",
    "import geopandas as gpd\n",
    "import merge_data\n",
    "import merge_operator_data\n",
    "import numpy as np\n",
    "import pandas as pd\n",
    "from segment_speed_utils import gtfs_schedule_wrangling, helpers\n",
    "from shared_utils import portfolio_utils\n",
    "from update_vars import GTFS_DATA_DICT, RT_SCHED_GCS, SCHED_GCS, SEGMENT_GCS"
   ]
  },
  {
   "cell_type": "code",
   "execution_count": 2,
   "id": "4d712502-7108-4cb9-a4be-47994e74ecd3",
   "metadata": {
    "tags": []
   },
   "outputs": [],
   "source": [
    "import sys\n",
    "\n",
    "sys.path.append(\"../gtfs_funnel/\")\n",
    "import route_typologies"
   ]
  },
  {
   "cell_type": "code",
   "execution_count": 3,
   "id": "58f5b305-f6ff-4bb8-9243-abf9b91c94d9",
   "metadata": {
    "tags": []
   },
   "outputs": [],
   "source": [
    "pd.options.display.max_columns = 100\n",
    "pd.options.display.float_format = \"{:.2f}\".format\n",
    "pd.set_option(\"display.max_rows\", None)\n",
    "pd.set_option(\"display.max_colwidth\", None)"
   ]
  },
  {
   "cell_type": "code",
   "execution_count": 4,
   "id": "66b334de-bdeb-41bc-90b8-af8a04990efb",
   "metadata": {},
   "outputs": [],
   "source": [
    "organization_name = \"Capitol Corridor Joint Powers Authority\""
   ]
  },
  {
   "cell_type": "code",
   "execution_count": 5,
   "id": "684bbed2-384c-4aff-97cd-825f24cf5e28",
   "metadata": {},
   "outputs": [],
   "source": [
    "org_name_lists = [\"Capitol Corridor Joint Powers Authority\"]"
   ]
  },
  {
   "cell_type": "code",
   "execution_count": 6,
   "id": "aa998850-1a92-4564-beda-f1f78a8fe2bb",
   "metadata": {},
   "outputs": [],
   "source": [
    "analysis_date_list = [\"2024-11-13\"]"
   ]
  },
  {
   "cell_type": "code",
   "execution_count": 7,
   "id": "1f70ab86-f234-4d0a-84e7-6cfa92a5e8b8",
   "metadata": {},
   "outputs": [],
   "source": [
    "analysis_date = \"2024-11-13\""
   ]
  },
  {
   "cell_type": "code",
   "execution_count": 8,
   "id": "118a444e-c920-4f98-9b6a-70e20ea6ebab",
   "metadata": {},
   "outputs": [],
   "source": [
    "name_list = [\"Bay Area 511 Capitol Corridor Schedule\"]"
   ]
  },
  {
   "cell_type": "code",
   "execution_count": 9,
   "id": "e0116e1f-7fb7-4364-a11b-934ef6b37c1b",
   "metadata": {
    "tags": []
   },
   "outputs": [],
   "source": [
    "schd_keys = [\n",
    "    \"f5a749dd65924e025b1293c58f95f8d6\",\n",
    "]"
   ]
  },
  {
   "cell_type": "code",
   "execution_count": 13,
   "id": "8c2c9c53-34c9-405b-835d-7b6d63f0f689",
   "metadata": {
    "tags": []
   },
   "outputs": [],
   "source": [
    "roads = route_typologies.prep_roads(GTFS_DATA_DICT)"
   ]
  },
  {
   "cell_type": "code",
   "execution_count": 14,
   "id": "826b45e0-8dae-47cf-9c10-f03e1e8089ff",
   "metadata": {
    "tags": []
   },
   "outputs": [],
   "source": [
    "TYPOLOGY_THRESHOLD = 0.09"
   ]
  },
  {
   "cell_type": "code",
   "execution_count": 15,
   "id": "05ed2e5c-74fa-4a49-b5e1-b294927ea5cd",
   "metadata": {
    "tags": []
   },
   "outputs": [],
   "source": [
    "ROAD_BUFFER_METERS = 20"
   ]
  },
  {
   "cell_type": "code",
   "execution_count": 16,
   "id": "b877a224-5f67-4c77-84e6-a725e15fa348",
   "metadata": {
    "tags": []
   },
   "outputs": [],
   "source": [
    "gdf = route_typologies.overlay_shapes_to_roads(roads, analysis_date, ROAD_BUFFER_METERS)"
   ]
  },
  {
   "cell_type": "code",
   "execution_count": 17,
   "id": "09b354e7-49f5-4ad8-aed3-acc24bc92f51",
   "metadata": {
    "tags": []
   },
   "outputs": [
    {
     "data": {
      "text/plain": [
       "Index(['schedule_gtfs_dataset_key', 'route_id', 'direction_id',\n",
       "       'common_shape_id', 'route_name', 'route_meters', 'freq_category',\n",
       "       'typology', 'pct_typology'],\n",
       "      dtype='object')"
      ]
     },
     "execution_count": 17,
     "metadata": {},
     "output_type": "execute_result"
    }
   ],
   "source": [
    "gdf.columns"
   ]
  },
  {
   "cell_type": "code",
   "execution_count": 18,
   "id": "d1659b01-379a-45f2-a79b-b9c464a9eddf",
   "metadata": {
    "tags": []
   },
   "outputs": [
    {
     "data": {
      "text/html": [
       "<div>\n",
       "<style scoped>\n",
       "    .dataframe tbody tr th:only-of-type {\n",
       "        vertical-align: middle;\n",
       "    }\n",
       "\n",
       "    .dataframe tbody tr th {\n",
       "        vertical-align: top;\n",
       "    }\n",
       "\n",
       "    .dataframe thead th {\n",
       "        text-align: right;\n",
       "    }\n",
       "</style>\n",
       "<table border=\"1\" class=\"dataframe\">\n",
       "  <thead>\n",
       "    <tr style=\"text-align: right;\">\n",
       "      <th></th>\n",
       "      <th>schedule_gtfs_dataset_key</th>\n",
       "      <th>route_id</th>\n",
       "      <th>direction_id</th>\n",
       "      <th>common_shape_id</th>\n",
       "      <th>route_name</th>\n",
       "      <th>route_meters</th>\n",
       "      <th>freq_category</th>\n",
       "      <th>typology</th>\n",
       "      <th>pct_typology</th>\n",
       "    </tr>\n",
       "  </thead>\n",
       "  <tbody>\n",
       "    <tr>\n",
       "      <th>0</th>\n",
       "      <td>0139b1253130b33adcd4b3a4490530d2</td>\n",
       "      <td>0177a66b-9f33-407d-a72e-776429fb73d4</td>\n",
       "      <td>0.00</td>\n",
       "      <td>7fc3b128-6535-4bde-8635-e79706254f45</td>\n",
       "      <td>70</td>\n",
       "      <td>54486.44</td>\n",
       "      <td>high</td>\n",
       "      <td>rapid</td>\n",
       "      <td>0.02</td>\n",
       "    </tr>\n",
       "  </tbody>\n",
       "</table>\n",
       "</div>"
      ],
      "text/plain": [
       "          schedule_gtfs_dataset_key                              route_id  \\\n",
       "0  0139b1253130b33adcd4b3a4490530d2  0177a66b-9f33-407d-a72e-776429fb73d4   \n",
       "\n",
       "   direction_id                       common_shape_id route_name  \\\n",
       "0          0.00  7fc3b128-6535-4bde-8635-e79706254f45         70   \n",
       "\n",
       "   route_meters freq_category typology  pct_typology  \n",
       "0      54486.44          high    rapid          0.02  "
      ]
     },
     "execution_count": 18,
     "metadata": {},
     "output_type": "execute_result"
    }
   ],
   "source": [
    "gdf.head(1)"
   ]
  },
  {
   "cell_type": "code",
   "execution_count": 25,
   "id": "36f4ce16-bf08-4f61-8d8c-7b455627a9c7",
   "metadata": {
    "tags": []
   },
   "outputs": [],
   "source": [
    "gdf_train = gdf.loc[gdf.route_name.str.contains(\"train\")]"
   ]
  },
  {
   "cell_type": "code",
   "execution_count": 26,
   "id": "398ce3d2-7d7d-4abe-bdb0-dbff40f5a9d5",
   "metadata": {
    "tags": []
   },
   "outputs": [
    {
     "data": {
      "text/html": [
       "<div>\n",
       "<style scoped>\n",
       "    .dataframe tbody tr th:only-of-type {\n",
       "        vertical-align: middle;\n",
       "    }\n",
       "\n",
       "    .dataframe tbody tr th {\n",
       "        vertical-align: top;\n",
       "    }\n",
       "\n",
       "    .dataframe thead th {\n",
       "        text-align: right;\n",
       "    }\n",
       "</style>\n",
       "<table border=\"1\" class=\"dataframe\">\n",
       "  <thead>\n",
       "    <tr style=\"text-align: right;\">\n",
       "      <th></th>\n",
       "      <th>route_name</th>\n",
       "    </tr>\n",
       "  </thead>\n",
       "  <tbody>\n",
       "    <tr>\n",
       "      <th>5503</th>\n",
       "      <td>California Ave Caltrain</td>\n",
       "    </tr>\n",
       "    <tr>\n",
       "      <th>6929</th>\n",
       "      <td>San Mateo Caltrain - College of San Mateo</td>\n",
       "    </tr>\n",
       "    <tr>\n",
       "      <th>6951</th>\n",
       "      <td>San Carlos Caltrain - Carlmont Village</td>\n",
       "    </tr>\n",
       "    <tr>\n",
       "      <th>6963</th>\n",
       "      <td>Redwood City Caltrain - Florence/17th loop</td>\n",
       "    </tr>\n",
       "    <tr>\n",
       "      <th>6982</th>\n",
       "      <td>Redwood City Caltrain - Canada College</td>\n",
       "    </tr>\n",
       "    <tr>\n",
       "      <th>7230</th>\n",
       "      <td>Burlingame School - Carolan (Burlingame Caltrain)</td>\n",
       "    </tr>\n",
       "    <tr>\n",
       "      <th>7368</th>\n",
       "      <td>San Carlos Caltrain - Alameda/Ralston</td>\n",
       "    </tr>\n",
       "    <tr>\n",
       "      <th>7445</th>\n",
       "      <td>Redwood City Caltrain - Woodside HS</td>\n",
       "    </tr>\n",
       "    <tr>\n",
       "      <th>7509</th>\n",
       "      <td>Sharon Heights - Menlo Park Caltrain</td>\n",
       "    </tr>\n",
       "    <tr>\n",
       "      <th>8425</th>\n",
       "      <td>Gilroy Caltrain and Gavilan College</td>\n",
       "    </tr>\n",
       "    <tr>\n",
       "      <th>10685</th>\n",
       "      <td>Transbay-Caltrain</td>\n",
       "    </tr>\n",
       "    <tr>\n",
       "      <th>18058</th>\n",
       "      <td>Brisbane-Bayshore Caltrain</td>\n",
       "    </tr>\n",
       "    <tr>\n",
       "      <th>18103</th>\n",
       "      <td>Hillsdale Caltrain Commuter</td>\n",
       "    </tr>\n",
       "    <tr>\n",
       "      <th>18163</th>\n",
       "      <td>Oyster Point Caltrain</td>\n",
       "    </tr>\n",
       "    <tr>\n",
       "      <th>18184</th>\n",
       "      <td>Redwood LIFE Caltrain</td>\n",
       "    </tr>\n",
       "    <tr>\n",
       "      <th>18203</th>\n",
       "      <td>Utah-Grand Caltrain</td>\n",
       "    </tr>\n",
       "    <tr>\n",
       "      <th>25633</th>\n",
       "      <td>Daily train service between Auburn, Sacramento, Oakland and San Jose</td>\n",
       "    </tr>\n",
       "    <tr>\n",
       "      <th>26868</th>\n",
       "      <td>California Ave Caltrain - Palo Alto VA Hosp</td>\n",
       "    </tr>\n",
       "  </tbody>\n",
       "</table>\n",
       "</div>"
      ],
      "text/plain": [
       "                                                                 route_name\n",
       "5503                                                California Ave Caltrain\n",
       "6929                              San Mateo Caltrain - College of San Mateo\n",
       "6951                                 San Carlos Caltrain - Carlmont Village\n",
       "6963                             Redwood City Caltrain - Florence/17th loop\n",
       "6982                                 Redwood City Caltrain - Canada College\n",
       "7230                      Burlingame School - Carolan (Burlingame Caltrain)\n",
       "7368                                  San Carlos Caltrain - Alameda/Ralston\n",
       "7445                                    Redwood City Caltrain - Woodside HS\n",
       "7509                                   Sharon Heights - Menlo Park Caltrain\n",
       "8425                                    Gilroy Caltrain and Gavilan College\n",
       "10685                                                     Transbay-Caltrain\n",
       "18058                                            Brisbane-Bayshore Caltrain\n",
       "18103                                           Hillsdale Caltrain Commuter\n",
       "18163                                                 Oyster Point Caltrain\n",
       "18184                                                 Redwood LIFE Caltrain\n",
       "18203                                                   Utah-Grand Caltrain\n",
       "25633  Daily train service between Auburn, Sacramento, Oakland and San Jose\n",
       "26868                           California Ave Caltrain - Palo Alto VA Hosp"
      ]
     },
     "execution_count": 26,
     "metadata": {},
     "output_type": "execute_result"
    }
   ],
   "source": [
    "gdf_train[['route_name']].drop_duplicates()"
   ]
  },
  {
   "cell_type": "code",
   "execution_count": 20,
   "id": "72e3d437-ce70-4efb-9fe9-0413a3c0efae",
   "metadata": {
    "tags": []
   },
   "outputs": [
    {
     "data": {
      "text/plain": [
       "array(['rapid', 'coverage', 'downtown_local', 'local'], dtype=object)"
      ]
     },
     "execution_count": 20,
     "metadata": {},
     "output_type": "execute_result"
    }
   ],
   "source": [
    "gdf.typology.unique()"
   ]
  },
  {
   "cell_type": "code",
   "execution_count": 22,
   "id": "80495c52-b89f-4590-b639-30b3ddf2e6f8",
   "metadata": {
    "tags": []
   },
   "outputs": [],
   "source": [
    "gdf2 = gdf.loc[gdf.schedule_gtfs_dataset_key.isin(schd_keys)]"
   ]
  },
  {
   "cell_type": "code",
   "execution_count": 27,
   "id": "828e5c26-a59f-493b-ad7c-a76a2529c7ab",
   "metadata": {
    "tags": []
   },
   "outputs": [
    {
     "data": {
      "text/plain": [
       "'gs://calitp-analytics-data/data-analyses/gtfs_schedule/'"
      ]
     },
     "execution_count": 27,
     "metadata": {},
     "output_type": "execute_result"
    }
   ],
   "source": [
    "SCHED_GCS"
   ]
  },
  {
   "cell_type": "code",
   "execution_count": 29,
   "id": "9578a67d-de21-41d7-9341-32696ed4a41a",
   "metadata": {
    "tags": []
   },
   "outputs": [
    {
     "data": {
      "text/plain": [
       "'nacto_typologies/route_typologies'"
      ]
     },
     "execution_count": 29,
     "metadata": {},
     "output_type": "execute_result"
    }
   ],
   "source": [
    "GTFS_DATA_DICT.schedule_tables.route_typologies"
   ]
  },
  {
   "cell_type": "code",
   "execution_count": 36,
   "id": "5737889b-bda7-4b81-ab39-02c687d141a1",
   "metadata": {
    "tags": []
   },
   "outputs": [],
   "source": [
    "dec_test = pd.read_parquet(\"gs://calitp-analytics-data/data-analyses/gtfs_schedule/nacto_typologies/route_typologies_2024-12-11.parquet\")"
   ]
  },
  {
   "cell_type": "code",
   "execution_count": 37,
   "id": "5fec9c37-8cfd-4629-9ac7-28bc3051dcfd",
   "metadata": {
    "tags": []
   },
   "outputs": [
    {
     "data": {
      "text/plain": [
       "Index(['schedule_gtfs_dataset_key', 'name', 'route_type', 'route_id',\n",
       "       'route_long_name', 'route_short_name', 'combined_name', 'is_express',\n",
       "       'is_rapid', 'is_rail', 'is_local', 'direction_id', 'common_shape_id',\n",
       "       'route_name', 'route_meters', 'is_coverage', 'is_downtown_local'],\n",
       "      dtype='object')"
      ]
     },
     "execution_count": 37,
     "metadata": {},
     "output_type": "execute_result"
    }
   ],
   "source": [
    "dec_test.columns"
   ]
  },
  {
   "cell_type": "code",
   "execution_count": 38,
   "id": "5d0789e0-d068-4c78-8833-0d3532df39d1",
   "metadata": {
    "tags": []
   },
   "outputs": [
    {
     "data": {
      "text/html": [
       "<div>\n",
       "<style scoped>\n",
       "    .dataframe tbody tr th:only-of-type {\n",
       "        vertical-align: middle;\n",
       "    }\n",
       "\n",
       "    .dataframe tbody tr th {\n",
       "        vertical-align: top;\n",
       "    }\n",
       "\n",
       "    .dataframe thead th {\n",
       "        text-align: right;\n",
       "    }\n",
       "</style>\n",
       "<table border=\"1\" class=\"dataframe\">\n",
       "  <thead>\n",
       "    <tr style=\"text-align: right;\">\n",
       "      <th></th>\n",
       "      <th>schedule_gtfs_dataset_key</th>\n",
       "      <th>name</th>\n",
       "      <th>route_type</th>\n",
       "      <th>route_id</th>\n",
       "      <th>route_long_name</th>\n",
       "      <th>route_short_name</th>\n",
       "      <th>combined_name</th>\n",
       "      <th>is_express</th>\n",
       "      <th>is_rapid</th>\n",
       "      <th>is_rail</th>\n",
       "      <th>is_local</th>\n",
       "      <th>direction_id</th>\n",
       "      <th>common_shape_id</th>\n",
       "      <th>route_name</th>\n",
       "      <th>route_meters</th>\n",
       "      <th>is_coverage</th>\n",
       "      <th>is_downtown_local</th>\n",
       "    </tr>\n",
       "  </thead>\n",
       "  <tbody>\n",
       "    <tr>\n",
       "      <th>1545</th>\n",
       "      <td>f5a749dd65924e025b1293c58f95f8d6</td>\n",
       "      <td>Bay Area 511 Capitol Corridor Schedule</td>\n",
       "      <td>3</td>\n",
       "      <td>SF</td>\n",
       "      <td>Shuttle_SF</td>\n",
       "      <td>SF</td>\n",
       "      <td>SF__Shuttle_SF</td>\n",
       "      <td>0</td>\n",
       "      <td>1</td>\n",
       "      <td>0</td>\n",
       "      <td>0</td>\n",
       "      <td>0.00</td>\n",
       "      <td>cpz2</td>\n",
       "      <td>Shuttle to San Francisco Transbay Terminal</td>\n",
       "      <td>13495.52</td>\n",
       "      <td>0</td>\n",
       "      <td>1</td>\n",
       "    </tr>\n",
       "    <tr>\n",
       "      <th>1546</th>\n",
       "      <td>f5a749dd65924e025b1293c58f95f8d6</td>\n",
       "      <td>Bay Area 511 Capitol Corridor Schedule</td>\n",
       "      <td>3</td>\n",
       "      <td>Shuttle</td>\n",
       "      <td>Shuttle_Auburn</td>\n",
       "      <td>Shuttle</td>\n",
       "      <td>Shuttle__Shuttle_Auburn</td>\n",
       "      <td>0</td>\n",
       "      <td>0</td>\n",
       "      <td>0</td>\n",
       "      <td>0</td>\n",
       "      <td>1.00</td>\n",
       "      <td>104dc91b-4f7b-4f93-bea2-ebfe9adabcf3</td>\n",
       "      <td>Shuttle to Auburn</td>\n",
       "      <td>60220.51</td>\n",
       "      <td>1</td>\n",
       "      <td>0</td>\n",
       "    </tr>\n",
       "    <tr>\n",
       "      <th>1547</th>\n",
       "      <td>f5a749dd65924e025b1293c58f95f8d6</td>\n",
       "      <td>Bay Area 511 Capitol Corridor Schedule</td>\n",
       "      <td>2</td>\n",
       "      <td>CC</td>\n",
       "      <td>Capitol Corridor</td>\n",
       "      <td>CC</td>\n",
       "      <td>CC__Capitol Corridor</td>\n",
       "      <td>0</td>\n",
       "      <td>1</td>\n",
       "      <td>1</td>\n",
       "      <td>1</td>\n",
       "      <td>0.00</td>\n",
       "      <td>5cf6811a-2f53-4199-b315-4408eb816e82</td>\n",
       "      <td>Daily train service between Auburn, Sacramento, Oakland and San Jose</td>\n",
       "      <td>143715.40</td>\n",
       "      <td>0</td>\n",
       "      <td>0</td>\n",
       "    </tr>\n",
       "    <tr>\n",
       "      <th>1548</th>\n",
       "      <td>f5a749dd65924e025b1293c58f95f8d6</td>\n",
       "      <td>Bay Area 511 Capitol Corridor Schedule</td>\n",
       "      <td>2</td>\n",
       "      <td>CC</td>\n",
       "      <td>Capitol Corridor</td>\n",
       "      <td>CC</td>\n",
       "      <td>CC__Capitol Corridor</td>\n",
       "      <td>0</td>\n",
       "      <td>0</td>\n",
       "      <td>1</td>\n",
       "      <td>0</td>\n",
       "      <td>1.00</td>\n",
       "      <td>92232e9e-55e8-4f8a-bb86-1aeb515be83e</td>\n",
       "      <td>Daily train service between Auburn, Sacramento, Oakland and San Jose</td>\n",
       "      <td>143684.90</td>\n",
       "      <td>1</td>\n",
       "      <td>0</td>\n",
       "    </tr>\n",
       "  </tbody>\n",
       "</table>\n",
       "</div>"
      ],
      "text/plain": [
       "             schedule_gtfs_dataset_key  \\\n",
       "1545  f5a749dd65924e025b1293c58f95f8d6   \n",
       "1546  f5a749dd65924e025b1293c58f95f8d6   \n",
       "1547  f5a749dd65924e025b1293c58f95f8d6   \n",
       "1548  f5a749dd65924e025b1293c58f95f8d6   \n",
       "\n",
       "                                        name route_type route_id  \\\n",
       "1545  Bay Area 511 Capitol Corridor Schedule          3       SF   \n",
       "1546  Bay Area 511 Capitol Corridor Schedule          3  Shuttle   \n",
       "1547  Bay Area 511 Capitol Corridor Schedule          2       CC   \n",
       "1548  Bay Area 511 Capitol Corridor Schedule          2       CC   \n",
       "\n",
       "       route_long_name route_short_name            combined_name  is_express  \\\n",
       "1545        Shuttle_SF               SF           SF__Shuttle_SF           0   \n",
       "1546    Shuttle_Auburn          Shuttle  Shuttle__Shuttle_Auburn           0   \n",
       "1547  Capitol Corridor               CC     CC__Capitol Corridor           0   \n",
       "1548  Capitol Corridor               CC     CC__Capitol Corridor           0   \n",
       "\n",
       "      is_rapid  is_rail  is_local  direction_id  \\\n",
       "1545         1        0         0          0.00   \n",
       "1546         0        0         0          1.00   \n",
       "1547         1        1         1          0.00   \n",
       "1548         0        1         0          1.00   \n",
       "\n",
       "                           common_shape_id  \\\n",
       "1545                                  cpz2   \n",
       "1546  104dc91b-4f7b-4f93-bea2-ebfe9adabcf3   \n",
       "1547  5cf6811a-2f53-4199-b315-4408eb816e82   \n",
       "1548  92232e9e-55e8-4f8a-bb86-1aeb515be83e   \n",
       "\n",
       "                                                                route_name  \\\n",
       "1545                            Shuttle to San Francisco Transbay Terminal   \n",
       "1546                                                     Shuttle to Auburn   \n",
       "1547  Daily train service between Auburn, Sacramento, Oakland and San Jose   \n",
       "1548  Daily train service between Auburn, Sacramento, Oakland and San Jose   \n",
       "\n",
       "      route_meters  is_coverage  is_downtown_local  \n",
       "1545      13495.52            0                  1  \n",
       "1546      60220.51            1                  0  \n",
       "1547     143715.40            0                  0  \n",
       "1548     143684.90            1                  0  "
      ]
     },
     "execution_count": 38,
     "metadata": {},
     "output_type": "execute_result"
    }
   ],
   "source": [
    "dec_test.loc[dec_test.schedule_gtfs_dataset_key.isin(schd_keys)]"
   ]
  },
  {
   "cell_type": "code",
   "execution_count": null,
   "id": "a9f04bb4-2740-4365-8247-1a6dcc437d99",
   "metadata": {},
   "outputs": [],
   "source": []
  }
 ],
 "metadata": {
  "kernelspec": {
   "display_name": "Python 3 (ipykernel)",
   "language": "python",
   "name": "python3"
  },
  "language_info": {
   "codemirror_mode": {
    "name": "ipython",
    "version": 3
   },
   "file_extension": ".py",
   "mimetype": "text/x-python",
   "name": "python",
   "nbconvert_exporter": "python",
   "pygments_lexer": "ipython3",
   "version": "3.11.6"
  }
 },
 "nbformat": 4,
 "nbformat_minor": 5
}
