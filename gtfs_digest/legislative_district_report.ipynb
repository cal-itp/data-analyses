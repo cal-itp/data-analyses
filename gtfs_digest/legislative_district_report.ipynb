{
 "cells": [
  {
   "cell_type": "code",
   "execution_count": null,
   "id": "feafca21-a1d4-45b5-87ae-5ac5c1b34532",
   "metadata": {},
   "outputs": [],
   "source": [
    "%%capture\n",
    "\n",
    "import warnings\n",
    "\n",
    "warnings.filterwarnings(\"ignore\")\n",
    "import calitp_data_analysis.magics\n",
    "\n",
    "import geopandas as gpd\n",
    "import pandas as pd\n",
    "\n",
    "from great_tables import GT\n",
    "\n",
    "import _report_utils\n",
    "from update_vars import GTFS_DATA_DICT, RT_SCHED_GCS\n",
    "\n",
    "SHARED_GCS = GTFS_DATA_DICT.gcs_paths.SHARED_GCS"
   ]
  },
  {
   "cell_type": "code",
   "execution_count": null,
   "id": "c15333a6-138e-46ac-ba5e-1ba07947ac44",
   "metadata": {
    "tags": [
     "parameters"
    ]
   },
   "outputs": [],
   "source": [
    "# Comment out and leave this cell right below pandas\n",
    "# district = \"SD 01\""
   ]
  },
  {
   "cell_type": "code",
   "execution_count": null,
   "id": "f86359af-8cfe-42e8-8d10-0945dc70fded",
   "metadata": {},
   "outputs": [],
   "source": [
    "legislative_crosswalk = pd.read_parquet(\n",
    "    f\"{SHARED_GCS}crosswalk_transit_operators_legislative_districts.parquet\",\n",
    "    filters = [[(\"legislative_district\", \"==\", district)]]\n",
    ")\n",
    "\n",
    "def readable_district_name(word: str) -> str:\n",
    "    if \"SD\" in word:\n",
    "        return word.replace(\"SD\", \"Senate District\")\n",
    "    elif \"AD\" in word:\n",
    "        return word.replace(\"AD\", \"Assembly District\")\n",
    "\n",
    "district_full_name = readable_district_name(district)"
   ]
  },
  {
   "cell_type": "code",
   "execution_count": null,
   "id": "9af945ff-0887-43d7-b12e-5866205773ba",
   "metadata": {},
   "outputs": [],
   "source": [
    "%%capture_parameters\n",
    "district, district_full_name"
   ]
  },
  {
   "cell_type": "code",
   "execution_count": null,
   "id": "d3d0d0a2-4543-4b30-b2f5-2350a2401bec",
   "metadata": {},
   "outputs": [],
   "source": [
    "# Read in all datasets here with GTFS_DATA_DICT \n",
    "# Reran merge_operator_data.py to test this\n",
    "OPERATOR_FILE = GTFS_DATA_DICT.digest_tables.operator_profiles\n",
    "OPERATOR_ROUTE = GTFS_DATA_DICT.digest_tables.operator_routes_map\n",
    "operator_df = pd.read_parquet(\n",
    "    f\"{RT_SCHED_GCS}{OPERATOR_FILE}.parquet\",\n",
    ").merge(\n",
    "    legislative_crosswalk,\n",
    "    on = \"name\",\n",
    "    how = \"inner\"\n",
    ")\n",
    "\n",
    "# using name instead of schedule_gtfs_dataset_key allows us to get \n",
    "# the last ones for LA Metro without keeping extraneous rows for LA Metro when keys changed\n",
    "operator_df = operator_df.sort_values(\n",
    "    [\"service_date\", \"name\"], \n",
    "    ascending=[False, True]\n",
    ").drop_duplicates(\n",
    "    subset=[\"name\"]\n",
    ").reset_index(drop=True)"
   ]
  },
  {
   "cell_type": "markdown",
   "id": "41f0a970-4646-4147-a596-d41d15517127",
   "metadata": {},
   "source": [
    "# {district}\n",
    "\n",
    "These are district summaries for [GTFS Digest](https://gtfs-digest--cal-itp-data-analyses.netlify.app/). "
   ]
  },
  {
   "cell_type": "code",
   "execution_count": null,
   "id": "06069f65-3a0c-40a7-86dc-ec1321213ccd",
   "metadata": {},
   "outputs": [],
   "source": [
    "district_summary = _report_utils.district_stats(\n",
    "    operator_df, \n",
    "    \"legislative_district\"\n",
    ")"
   ]
  },
  {
   "cell_type": "code",
   "execution_count": null,
   "id": "8eb3a4cc-09a5-49ac-af0c-9e84cfed3d05",
   "metadata": {},
   "outputs": [],
   "source": [
    "summary_table1 = (GT(\n",
    "    district_summary.drop(\n",
    "        columns = [\"arrivals_per_stop\", \"trips_per_operator\"]\n",
    "    ).pipe(\n",
    "        _report_utils.transpose_summary_stats, \n",
    "        district_col = \"legislative_district\"\n",
    "    )\n",
    ")\n",
    " .fmt_integer(columns=\"value\")\n",
    " .cols_label(index=\"\")\n",
    " .tab_header(title = f\"{district_full_name} GTFS summary stats\")\n",
    ")\n",
    "\n",
    "summary_table2 = (GT(\n",
    "    district_summary[\n",
    "        [\"legislative_district\", \"arrivals_per_stop\", \"trips_per_operator\"]\n",
    "    ].pipe(\n",
    "        _report_utils.transpose_summary_stats,\n",
    "        district_col = \"legislative_district\"\n",
    "    )\n",
    ")\n",
    " .fmt_number(\"value\", decimals=1)\n",
    " .cols_label(index=\"\")\n",
    ")"
   ]
  },
  {
   "cell_type": "code",
   "execution_count": null,
   "id": "496f6d82-227e-468d-af9b-b65bc2d0ec57",
   "metadata": {},
   "outputs": [],
   "source": [
    "display(summary_table1)\n",
    "display(summary_table2)"
   ]
  },
  {
   "cell_type": "markdown",
   "id": "b10ecb81-491e-4f65-af8d-0032d6e11d4e",
   "metadata": {},
   "source": [
    "## GTFS Stats by Operator"
   ]
  },
  {
   "cell_type": "code",
   "execution_count": null,
   "id": "1ad2672d-2863-4656-90d6-058e35c52bda",
   "metadata": {},
   "outputs": [],
   "source": [
    "operators_in_district = operator_df.schedule_gtfs_dataset_key.unique()\n",
    "\n",
    "operator_route_gdf = gpd.read_parquet(\n",
    "    f\"{RT_SCHED_GCS}{OPERATOR_ROUTE}.parquet\",\n",
    "    filters = [[\"schedule_gtfs_dataset_key\", \"in\", operators_in_district]],\n",
    "    columns = [\"name\", \"service_date\", \n",
    "               \"route_combined_name\", \"geometry\"]\n",
    ").sort_values(\n",
    "    [\"service_date\", \"name\", \"route_combined_name\"], \n",
    "    ascending=[False, True, True]\n",
    ").drop_duplicates(\n",
    "    subset = [\"name\", \"route_combined_name\"]\n",
    ").drop(\n",
    "    columns = [\"service_date\", \"route_combined_name\"]\n",
    "    # drop route because after the dissolve, all operator routes are combined\n",
    "    # so route would hold only the first row's value\n",
    ").dissolve(by = \"name\").reset_index().pipe(_report_utils.replace_column_names)\n",
    "\n",
    "operator_route_gdf[\"Transit Operator\"] = operator_route_gdf[\"Transit Operator\"].str.replace(\" Schedule\", \"\")"
   ]
  },
  {
   "cell_type": "code",
   "execution_count": null,
   "id": "62d76c7a-8271-45c2-9dce-52b58b04f126",
   "metadata": {},
   "outputs": [],
   "source": [
    "operator_route_gdf.explore(\n",
    "    \"Transit Operator\", \n",
    "    tiles = \"CartoDB Positron\",\n",
    "    categorical=True,\n",
    "    legend=True,\n",
    "    legend_kwds = {\n",
    "        \"width\": 200\n",
    "    }\n",
    ")"
   ]
  },
  {
   "cell_type": "code",
   "execution_count": null,
   "id": "d10e25ae-1904-4d0f-a670-f90232984952",
   "metadata": {},
   "outputs": [],
   "source": [
    "shared_cols = [\"organization_name\", \"name\"]\n",
    "exclude_cols = [\"schedule_gtfs_dataset_key\", \"legislative_district\",\n",
    "                \"organization_source_record_id\", \"service_date\", \n",
    "                \"primary_uza\"]\n",
    "\n",
    "gtfs_service_cols = [\n",
    "    c for c in operator_df.columns \n",
    "    if \"operator_\" in c]"
   ]
  },
  {
   "cell_type": "code",
   "execution_count": null,
   "id": "c9a2ceb0-3511-4161-9c0f-13659a1240c5",
   "metadata": {},
   "outputs": [],
   "source": [
    "gtfs_table_df = operator_df[\n",
    "    shared_cols + gtfs_service_cols\n",
    "].pipe(_report_utils.replace_column_names)"
   ]
  },
  {
   "cell_type": "code",
   "execution_count": null,
   "id": "7f2b427a-c32c-4c2c-b4b3-5a30b0181855",
   "metadata": {},
   "outputs": [],
   "source": [
    "string_cols = gtfs_table_df.select_dtypes(include=\"object\").columns.tolist()\n",
    "\n",
    "gtfs_table = (\n",
    "    GT(gtfs_table_df.sort_values(\"# Trips\", ascending=False))\n",
    "    .fmt_integer(\n",
    "        columns = [\n",
    "            c for c in gtfs_table_df.columns if c not in \n",
    "         [\"Operator Service Miles\", \"Avg Arrivals per Stop\"]\n",
    "            and (c not in string_cols)\n",
    "        ])\n",
    "    .fmt_number(\n",
    "        columns = [\"Operator Service Miles\", \"Avg Arrivals per Stop\"], \n",
    "        decimals = 1)\n",
    "    .data_color(\n",
    "        columns=[\"# Trips\", \"Avg Arrivals per Stop\"],\n",
    "        palette=[\"white\", \"green\"],\n",
    "        na_color=\"lightgray\")\n",
    "    .tab_header(\n",
    "         title = f\"{district_full_name}\",\n",
    "         subtitle = \"Daily GTFS schedule statistics by operator\")\n",
    "    .cols_align(columns = [c for c in gtfs_table_df.columns if c not in [\"Organization\", \"Transit Operator\"]],\n",
    "        align=\"center\")\n",
    "    )\n",
    "\n",
    "gtfs_table = _report_utils.great_table_formatting(gtfs_table)\n",
    "gtfs_table"
   ]
  },
  {
   "cell_type": "code",
   "execution_count": null,
   "id": "7401b5f3-39e3-4148-8443-189b97e60a17",
   "metadata": {},
   "outputs": [],
   "source": []
  }
 ],
 "metadata": {
  "kernelspec": {
   "display_name": "Python 3 (ipykernel)",
   "language": "python",
   "name": "python3"
  },
  "language_info": {
   "codemirror_mode": {
    "name": "ipython",
    "version": 3
   },
   "file_extension": ".py",
   "mimetype": "text/x-python",
   "name": "python",
   "nbconvert_exporter": "python",
   "pygments_lexer": "ipython3",
   "version": "3.9.13"
  }
 },
 "nbformat": 4,
 "nbformat_minor": 5
}
