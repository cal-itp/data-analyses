{
 "cells": [
  {
   "cell_type": "markdown",
   "id": "dc17392f-23a8-48d2-a250-b684b7d578ad",
   "metadata": {},
   "source": [
    "## Merges going wrong\n",
    "* There should only be 6 rows for each route (ideally) when its `sched_rt_category` is `schedule_and_vp`\n",
    "* Dir 1: all day, peak, offpeak\n",
    "* Dir 0: all day, peak, offpeak.\n",
    "* This is impacting the graphs for: Timeliness, Frequency of Trips, Average Speed\n",
    "* December 2024 looks fine but January 2025 is messed up."
   ]
  },
  {
   "cell_type": "code",
   "execution_count": 1,
   "id": "5d0dfa69-aec7-4ae5-9d76-98afb5db9674",
   "metadata": {
    "tags": []
   },
   "outputs": [],
   "source": [
    "import _section1_utils\n",
    "import _section2_utils\n",
    "import geopandas as gpd\n",
    "import merge_data\n",
    "import numpy as np\n",
    "import pandas as pd\n",
    "from segment_speed_utils import gtfs_schedule_wrangling\n",
    "from shared_utils import rt_dates\n",
    "from update_vars import GTFS_DATA_DICT, RT_SCHED_GCS, SCHED_GCS, SEGMENT_GCS"
   ]
  },
  {
   "cell_type": "code",
   "execution_count": 2,
   "id": "7c94e9fa-77ae-4732-95ca-bbd8a06fb654",
   "metadata": {
    "tags": []
   },
   "outputs": [],
   "source": [
    "pd.options.display.max_columns = 100\n",
    "pd.options.display.float_format = \"{:.2f}\".format\n",
    "pd.set_option(\"display.max_rows\", None)\n",
    "pd.set_option(\"display.max_colwidth\", None)"
   ]
  },
  {
   "cell_type": "code",
   "execution_count": 3,
   "id": "a4cc7b40-d755-40a5-bb8e-48b7af6754f9",
   "metadata": {
    "tags": []
   },
   "outputs": [],
   "source": [
    "analysis_date_list = [rt_dates.y2024_dates[-1]] + rt_dates.y2025_dates"
   ]
  },
  {
   "cell_type": "code",
   "execution_count": 4,
   "id": "54c1152c-1eb8-4fec-a719-5b28d159b03b",
   "metadata": {
    "tags": []
   },
   "outputs": [],
   "source": [
    "# Test with SF\n",
    "schd_key = \"7cc0cb1871dfd558f11a2885c145d144\""
   ]
  },
  {
   "cell_type": "code",
   "execution_count": 5,
   "id": "97567f8c-aaa4-4015-ad3a-9e3aca436b15",
   "metadata": {
    "tags": []
   },
   "outputs": [],
   "source": [
    "org_name = \"City and County of San Francisco\""
   ]
  },
  {
   "cell_type": "code",
   "execution_count": 6,
   "id": "2489484c-e5bb-4a37-bc65-1ec3cbb1c6e4",
   "metadata": {
    "tags": []
   },
   "outputs": [],
   "source": [
    "route_id = \"22\""
   ]
  },
  {
   "cell_type": "markdown",
   "id": "f1a38bde-f242-445b-8b2d-a82203abc319",
   "metadata": {},
   "source": [
    "### It seems like `df_sched` is messing everything up because the two values that are supposed to be `peak` and `offpeak` are empty -> Update  `gtfs_funnel/schedule_stats_by_route_direction`"
   ]
  },
  {
   "cell_type": "code",
   "execution_count": 7,
   "id": "792df10d-6e86-4920-bcca-f21038936bf7",
   "metadata": {
    "tags": []
   },
   "outputs": [],
   "source": [
    "df_sched = merge_data.concatenate_schedule_by_route_direction(analysis_date_list)"
   ]
  },
  {
   "cell_type": "code",
   "execution_count": 8,
   "id": "c38e9a20-86a5-4188-9789-889699f7e960",
   "metadata": {
    "tags": []
   },
   "outputs": [],
   "source": [
    "df_sched = df_sched.loc[\n",
    "    (df_sched.schedule_gtfs_dataset_key == schd_key) & (df_sched.route_id == route_id)\n",
    "]"
   ]
  },
  {
   "cell_type": "code",
   "execution_count": 18,
   "id": "115447c1-e631-4df1-81dd-9a0a3087b32e",
   "metadata": {
    "tags": []
   },
   "outputs": [
    {
     "data": {
      "text/html": [
       "<div>\n",
       "<style scoped>\n",
       "    .dataframe tbody tr th:only-of-type {\n",
       "        vertical-align: middle;\n",
       "    }\n",
       "\n",
       "    .dataframe tbody tr th {\n",
       "        vertical-align: top;\n",
       "    }\n",
       "\n",
       "    .dataframe thead th {\n",
       "        text-align: right;\n",
       "    }\n",
       "</style>\n",
       "<table border=\"1\" class=\"dataframe\">\n",
       "  <thead>\n",
       "    <tr style=\"text-align: right;\">\n",
       "      <th></th>\n",
       "      <th>schedule_gtfs_dataset_key</th>\n",
       "      <th>route_id</th>\n",
       "      <th>direction_id</th>\n",
       "      <th>time_period</th>\n",
       "      <th>route_primary_direction</th>\n",
       "      <th>avg_scheduled_service_minutes</th>\n",
       "      <th>avg_stop_miles</th>\n",
       "      <th>n_scheduled_trips</th>\n",
       "      <th>frequency</th>\n",
       "      <th>is_express</th>\n",
       "      <th>is_rapid</th>\n",
       "      <th>is_rail</th>\n",
       "      <th>is_coverage</th>\n",
       "      <th>is_downtown_local</th>\n",
       "      <th>is_local</th>\n",
       "      <th>service_date</th>\n",
       "    </tr>\n",
       "  </thead>\n",
       "  <tbody>\n",
       "    <tr>\n",
       "      <th>9080</th>\n",
       "      <td>7cc0cb1871dfd558f11a2885c145d144</td>\n",
       "      <td>22</td>\n",
       "      <td>0.00</td>\n",
       "      <td>all_day</td>\n",
       "      <td>Southbound</td>\n",
       "      <td>46.87</td>\n",
       "      <td>0.13</td>\n",
       "      <td>186</td>\n",
       "      <td>7.75</td>\n",
       "      <td>0.00</td>\n",
       "      <td>0.00</td>\n",
       "      <td>0.00</td>\n",
       "      <td>0.00</td>\n",
       "      <td>1.00</td>\n",
       "      <td>0.00</td>\n",
       "      <td>2024-12-11</td>\n",
       "    </tr>\n",
       "    <tr>\n",
       "      <th>9081</th>\n",
       "      <td>7cc0cb1871dfd558f11a2885c145d144</td>\n",
       "      <td>22</td>\n",
       "      <td>0.00</td>\n",
       "      <td>all_day</td>\n",
       "      <td>Southbound</td>\n",
       "      <td>46.87</td>\n",
       "      <td>4.75</td>\n",
       "      <td>186</td>\n",
       "      <td>7.75</td>\n",
       "      <td>0.00</td>\n",
       "      <td>0.00</td>\n",
       "      <td>0.00</td>\n",
       "      <td>0.00</td>\n",
       "      <td>1.00</td>\n",
       "      <td>0.00</td>\n",
       "      <td>2025-01-15</td>\n",
       "    </tr>\n",
       "  </tbody>\n",
       "</table>\n",
       "</div>"
      ],
      "text/plain": [
       "             schedule_gtfs_dataset_key route_id  direction_id time_period  \\\n",
       "9080  7cc0cb1871dfd558f11a2885c145d144       22          0.00     all_day   \n",
       "9081  7cc0cb1871dfd558f11a2885c145d144       22          0.00     all_day   \n",
       "\n",
       "     route_primary_direction  avg_scheduled_service_minutes  avg_stop_miles  \\\n",
       "9080              Southbound                          46.87            0.13   \n",
       "9081              Southbound                          46.87            4.75   \n",
       "\n",
       "      n_scheduled_trips  frequency  is_express  is_rapid  is_rail  \\\n",
       "9080                186       7.75        0.00      0.00     0.00   \n",
       "9081                186       7.75        0.00      0.00     0.00   \n",
       "\n",
       "      is_coverage  is_downtown_local  is_local service_date  \n",
       "9080         0.00               1.00      0.00   2024-12-11  \n",
       "9081         0.00               1.00      0.00   2025-01-15  "
      ]
     },
     "execution_count": 18,
     "metadata": {},
     "output_type": "execute_result"
    }
   ],
   "source": [
    "df_sched.head(2)"
   ]
  },
  {
   "cell_type": "code",
   "execution_count": 11,
   "id": "f95e69d7-9b86-4b7b-aeee-a721d4b9ffbf",
   "metadata": {
    "tags": []
   },
   "outputs": [
    {
     "data": {
      "text/html": [
       "<div>\n",
       "<style scoped>\n",
       "    .dataframe tbody tr th:only-of-type {\n",
       "        vertical-align: middle;\n",
       "    }\n",
       "\n",
       "    .dataframe tbody tr th {\n",
       "        vertical-align: top;\n",
       "    }\n",
       "\n",
       "    .dataframe thead th {\n",
       "        text-align: right;\n",
       "    }\n",
       "</style>\n",
       "<table border=\"1\" class=\"dataframe\">\n",
       "  <thead>\n",
       "    <tr style=\"text-align: right;\">\n",
       "      <th></th>\n",
       "      <th>service_date</th>\n",
       "      <th>time_period</th>\n",
       "      <th>direction_id</th>\n",
       "    </tr>\n",
       "  </thead>\n",
       "  <tbody>\n",
       "    <tr>\n",
       "      <th>9080</th>\n",
       "      <td>2024-12-11</td>\n",
       "      <td>all_day</td>\n",
       "      <td>0.00</td>\n",
       "    </tr>\n",
       "    <tr>\n",
       "      <th>9082</th>\n",
       "      <td>2024-12-11</td>\n",
       "      <td>offpeak</td>\n",
       "      <td>0.00</td>\n",
       "    </tr>\n",
       "    <tr>\n",
       "      <th>9083</th>\n",
       "      <td>2024-12-11</td>\n",
       "      <td>peak</td>\n",
       "      <td>0.00</td>\n",
       "    </tr>\n",
       "    <tr>\n",
       "      <th>9086</th>\n",
       "      <td>2024-12-11</td>\n",
       "      <td>all_day</td>\n",
       "      <td>1.00</td>\n",
       "    </tr>\n",
       "    <tr>\n",
       "      <th>9088</th>\n",
       "      <td>2024-12-11</td>\n",
       "      <td>offpeak</td>\n",
       "      <td>1.00</td>\n",
       "    </tr>\n",
       "    <tr>\n",
       "      <th>9089</th>\n",
       "      <td>2024-12-11</td>\n",
       "      <td>peak</td>\n",
       "      <td>1.00</td>\n",
       "    </tr>\n",
       "    <tr>\n",
       "      <th>9081</th>\n",
       "      <td>2025-01-15</td>\n",
       "      <td>all_day</td>\n",
       "      <td>0.00</td>\n",
       "    </tr>\n",
       "    <tr>\n",
       "      <th>9084</th>\n",
       "      <td>2025-01-15</td>\n",
       "      <td>None</td>\n",
       "      <td>0.00</td>\n",
       "    </tr>\n",
       "    <tr>\n",
       "      <th>9085</th>\n",
       "      <td>2025-01-15</td>\n",
       "      <td>None</td>\n",
       "      <td>0.00</td>\n",
       "    </tr>\n",
       "    <tr>\n",
       "      <th>9087</th>\n",
       "      <td>2025-01-15</td>\n",
       "      <td>all_day</td>\n",
       "      <td>1.00</td>\n",
       "    </tr>\n",
       "    <tr>\n",
       "      <th>9090</th>\n",
       "      <td>2025-01-15</td>\n",
       "      <td>None</td>\n",
       "      <td>1.00</td>\n",
       "    </tr>\n",
       "    <tr>\n",
       "      <th>9091</th>\n",
       "      <td>2025-01-15</td>\n",
       "      <td>None</td>\n",
       "      <td>1.00</td>\n",
       "    </tr>\n",
       "  </tbody>\n",
       "</table>\n",
       "</div>"
      ],
      "text/plain": [
       "     service_date time_period  direction_id\n",
       "9080   2024-12-11     all_day          0.00\n",
       "9082   2024-12-11     offpeak          0.00\n",
       "9083   2024-12-11        peak          0.00\n",
       "9086   2024-12-11     all_day          1.00\n",
       "9088   2024-12-11     offpeak          1.00\n",
       "9089   2024-12-11        peak          1.00\n",
       "9081   2025-01-15     all_day          0.00\n",
       "9084   2025-01-15        None          0.00\n",
       "9085   2025-01-15        None          0.00\n",
       "9087   2025-01-15     all_day          1.00\n",
       "9090   2025-01-15        None          1.00\n",
       "9091   2025-01-15        None          1.00"
      ]
     },
     "execution_count": 11,
     "metadata": {},
     "output_type": "execute_result"
    }
   ],
   "source": [
    "df_sched[['service_date','time_period','direction_id']].sort_values(by = ['service_date'])"
   ]
  },
  {
   "cell_type": "code",
   "execution_count": 12,
   "id": "ef5619c2-39a0-4a2b-b3dd-78ac06e035c1",
   "metadata": {
    "tags": []
   },
   "outputs": [],
   "source": [
    "df_avg_speeds = merge_data.concatenate_speeds_by_route_direction(\n",
    "        analysis_date_list\n",
    "    )"
   ]
  },
  {
   "cell_type": "code",
   "execution_count": 13,
   "id": "e2e9da64-3f68-4f62-b162-7ff54903ec46",
   "metadata": {
    "tags": []
   },
   "outputs": [
    {
     "data": {
      "text/html": [
       "<div>\n",
       "<style scoped>\n",
       "    .dataframe tbody tr th:only-of-type {\n",
       "        vertical-align: middle;\n",
       "    }\n",
       "\n",
       "    .dataframe tbody tr th {\n",
       "        vertical-align: top;\n",
       "    }\n",
       "\n",
       "    .dataframe thead th {\n",
       "        text-align: right;\n",
       "    }\n",
       "</style>\n",
       "<table border=\"1\" class=\"dataframe\">\n",
       "  <thead>\n",
       "    <tr style=\"text-align: right;\">\n",
       "      <th></th>\n",
       "      <th>schedule_gtfs_dataset_key</th>\n",
       "      <th>route_id</th>\n",
       "      <th>direction_id</th>\n",
       "      <th>time_period</th>\n",
       "      <th>speed_mph</th>\n",
       "      <th>service_date</th>\n",
       "    </tr>\n",
       "  </thead>\n",
       "  <tbody>\n",
       "    <tr>\n",
       "      <th>7568</th>\n",
       "      <td>7cc0cb1871dfd558f11a2885c145d144</td>\n",
       "      <td>F</td>\n",
       "      <td>0.00</td>\n",
       "      <td>offpeak</td>\n",
       "      <td>6.09</td>\n",
       "      <td>2025-01-15</td>\n",
       "    </tr>\n",
       "  </tbody>\n",
       "</table>\n",
       "</div>"
      ],
      "text/plain": [
       "             schedule_gtfs_dataset_key route_id  direction_id time_period  \\\n",
       "7568  7cc0cb1871dfd558f11a2885c145d144        F          0.00     offpeak   \n",
       "\n",
       "      speed_mph service_date  \n",
       "7568       6.09   2025-01-15  "
      ]
     },
     "execution_count": 13,
     "metadata": {},
     "output_type": "execute_result"
    }
   ],
   "source": [
    "df_avg_speeds.sample()"
   ]
  },
  {
   "cell_type": "code",
   "execution_count": 15,
   "id": "7c71eb88-6623-45df-860f-530745786643",
   "metadata": {
    "tags": []
   },
   "outputs": [],
   "source": [
    "df_avg_speeds = df_avg_speeds.loc[\n",
    "    (df_avg_speeds.schedule_gtfs_dataset_key == schd_key) & (df_avg_speeds.route_id == route_id)\n",
    "]"
   ]
  },
  {
   "cell_type": "code",
   "execution_count": 17,
   "id": "e28355df-996a-4b0d-8b61-959b9c013bf9",
   "metadata": {
    "tags": []
   },
   "outputs": [
    {
     "data": {
      "text/html": [
       "<div>\n",
       "<style scoped>\n",
       "    .dataframe tbody tr th:only-of-type {\n",
       "        vertical-align: middle;\n",
       "    }\n",
       "\n",
       "    .dataframe tbody tr th {\n",
       "        vertical-align: top;\n",
       "    }\n",
       "\n",
       "    .dataframe thead th {\n",
       "        text-align: right;\n",
       "    }\n",
       "</style>\n",
       "<table border=\"1\" class=\"dataframe\">\n",
       "  <thead>\n",
       "    <tr style=\"text-align: right;\">\n",
       "      <th></th>\n",
       "      <th>schedule_gtfs_dataset_key</th>\n",
       "      <th>route_id</th>\n",
       "      <th>direction_id</th>\n",
       "      <th>time_period</th>\n",
       "      <th>speed_mph</th>\n",
       "      <th>service_date</th>\n",
       "    </tr>\n",
       "  </thead>\n",
       "  <tbody>\n",
       "    <tr>\n",
       "      <th>7076</th>\n",
       "      <td>7cc0cb1871dfd558f11a2885c145d144</td>\n",
       "      <td>22</td>\n",
       "      <td>0.00</td>\n",
       "      <td>all_day</td>\n",
       "      <td>5.36</td>\n",
       "      <td>2024-12-11</td>\n",
       "    </tr>\n",
       "    <tr>\n",
       "      <th>7078</th>\n",
       "      <td>7cc0cb1871dfd558f11a2885c145d144</td>\n",
       "      <td>22</td>\n",
       "      <td>0.00</td>\n",
       "      <td>offpeak</td>\n",
       "      <td>5.34</td>\n",
       "      <td>2024-12-11</td>\n",
       "    </tr>\n",
       "    <tr>\n",
       "      <th>7080</th>\n",
       "      <td>7cc0cb1871dfd558f11a2885c145d144</td>\n",
       "      <td>22</td>\n",
       "      <td>0.00</td>\n",
       "      <td>peak</td>\n",
       "      <td>5.37</td>\n",
       "      <td>2024-12-11</td>\n",
       "    </tr>\n",
       "    <tr>\n",
       "      <th>7082</th>\n",
       "      <td>7cc0cb1871dfd558f11a2885c145d144</td>\n",
       "      <td>22</td>\n",
       "      <td>1.00</td>\n",
       "      <td>all_day</td>\n",
       "      <td>6.05</td>\n",
       "      <td>2024-12-11</td>\n",
       "    </tr>\n",
       "    <tr>\n",
       "      <th>7084</th>\n",
       "      <td>7cc0cb1871dfd558f11a2885c145d144</td>\n",
       "      <td>22</td>\n",
       "      <td>1.00</td>\n",
       "      <td>offpeak</td>\n",
       "      <td>6.28</td>\n",
       "      <td>2024-12-11</td>\n",
       "    </tr>\n",
       "    <tr>\n",
       "      <th>7086</th>\n",
       "      <td>7cc0cb1871dfd558f11a2885c145d144</td>\n",
       "      <td>22</td>\n",
       "      <td>1.00</td>\n",
       "      <td>peak</td>\n",
       "      <td>5.80</td>\n",
       "      <td>2024-12-11</td>\n",
       "    </tr>\n",
       "    <tr>\n",
       "      <th>7077</th>\n",
       "      <td>7cc0cb1871dfd558f11a2885c145d144</td>\n",
       "      <td>22</td>\n",
       "      <td>0.00</td>\n",
       "      <td>all_day</td>\n",
       "      <td>5.78</td>\n",
       "      <td>2025-01-15</td>\n",
       "    </tr>\n",
       "    <tr>\n",
       "      <th>7079</th>\n",
       "      <td>7cc0cb1871dfd558f11a2885c145d144</td>\n",
       "      <td>22</td>\n",
       "      <td>0.00</td>\n",
       "      <td>offpeak</td>\n",
       "      <td>5.92</td>\n",
       "      <td>2025-01-15</td>\n",
       "    </tr>\n",
       "    <tr>\n",
       "      <th>7081</th>\n",
       "      <td>7cc0cb1871dfd558f11a2885c145d144</td>\n",
       "      <td>22</td>\n",
       "      <td>0.00</td>\n",
       "      <td>peak</td>\n",
       "      <td>5.63</td>\n",
       "      <td>2025-01-15</td>\n",
       "    </tr>\n",
       "    <tr>\n",
       "      <th>7083</th>\n",
       "      <td>7cc0cb1871dfd558f11a2885c145d144</td>\n",
       "      <td>22</td>\n",
       "      <td>1.00</td>\n",
       "      <td>all_day</td>\n",
       "      <td>6.38</td>\n",
       "      <td>2025-01-15</td>\n",
       "    </tr>\n",
       "    <tr>\n",
       "      <th>7085</th>\n",
       "      <td>7cc0cb1871dfd558f11a2885c145d144</td>\n",
       "      <td>22</td>\n",
       "      <td>1.00</td>\n",
       "      <td>offpeak</td>\n",
       "      <td>6.74</td>\n",
       "      <td>2025-01-15</td>\n",
       "    </tr>\n",
       "    <tr>\n",
       "      <th>7087</th>\n",
       "      <td>7cc0cb1871dfd558f11a2885c145d144</td>\n",
       "      <td>22</td>\n",
       "      <td>1.00</td>\n",
       "      <td>peak</td>\n",
       "      <td>6.01</td>\n",
       "      <td>2025-01-15</td>\n",
       "    </tr>\n",
       "  </tbody>\n",
       "</table>\n",
       "</div>"
      ],
      "text/plain": [
       "             schedule_gtfs_dataset_key route_id  direction_id time_period  \\\n",
       "7076  7cc0cb1871dfd558f11a2885c145d144       22          0.00     all_day   \n",
       "7078  7cc0cb1871dfd558f11a2885c145d144       22          0.00     offpeak   \n",
       "7080  7cc0cb1871dfd558f11a2885c145d144       22          0.00        peak   \n",
       "7082  7cc0cb1871dfd558f11a2885c145d144       22          1.00     all_day   \n",
       "7084  7cc0cb1871dfd558f11a2885c145d144       22          1.00     offpeak   \n",
       "7086  7cc0cb1871dfd558f11a2885c145d144       22          1.00        peak   \n",
       "7077  7cc0cb1871dfd558f11a2885c145d144       22          0.00     all_day   \n",
       "7079  7cc0cb1871dfd558f11a2885c145d144       22          0.00     offpeak   \n",
       "7081  7cc0cb1871dfd558f11a2885c145d144       22          0.00        peak   \n",
       "7083  7cc0cb1871dfd558f11a2885c145d144       22          1.00     all_day   \n",
       "7085  7cc0cb1871dfd558f11a2885c145d144       22          1.00     offpeak   \n",
       "7087  7cc0cb1871dfd558f11a2885c145d144       22          1.00        peak   \n",
       "\n",
       "      speed_mph service_date  \n",
       "7076       5.36   2024-12-11  \n",
       "7078       5.34   2024-12-11  \n",
       "7080       5.37   2024-12-11  \n",
       "7082       6.05   2024-12-11  \n",
       "7084       6.28   2024-12-11  \n",
       "7086       5.80   2024-12-11  \n",
       "7077       5.78   2025-01-15  \n",
       "7079       5.92   2025-01-15  \n",
       "7081       5.63   2025-01-15  \n",
       "7083       6.38   2025-01-15  \n",
       "7085       6.74   2025-01-15  \n",
       "7087       6.01   2025-01-15  "
      ]
     },
     "execution_count": 17,
     "metadata": {},
     "output_type": "execute_result"
    }
   ],
   "source": [
    "df_avg_speeds.sort_values(by = ['service_date'])"
   ]
  }
 ],
 "metadata": {
  "kernelspec": {
   "display_name": "Python 3 (ipykernel)",
   "language": "python",
   "name": "python3"
  },
  "language_info": {
   "codemirror_mode": {
    "name": "ipython",
    "version": 3
   },
   "file_extension": ".py",
   "mimetype": "text/x-python",
   "name": "python",
   "nbconvert_exporter": "python",
   "pygments_lexer": "ipython3",
   "version": "3.11.6"
  }
 },
 "nbformat": 4,
 "nbformat_minor": 5
}
