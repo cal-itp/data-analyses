{
 "cells": [
  {
   "cell_type": "markdown",
   "id": "8bbee9b5-879e-4c27-ab9c-ca0320154f95",
   "metadata": {},
   "source": [
    "# Refactor `merge_operator_data`\n",
    "* i took a look at merge_operator_data, and you should do a refactor. it should be structured very similarly to merge_data. i noticed 2 of the functions are mislabeled, they're swapped (schedule / rt vs schedule), and that it takes the route grain to count categories...which it should take the merged df from that script to do the operator counts. \n",
    "* if you draw out the logic of how merge_operator_data and merge_data is related, like on a piece of paper, you might see where it's a bit convoluted. see if you can straighten them out so they're more like parallel steps, where the steps are relevant regardless of route or operator df. there are slight differences, but the majority are the same. and try to minimize where one depends on the other in a circular way."
   ]
  },
  {
   "cell_type": "code",
   "execution_count": 1,
   "id": "6aa3f207-783d-4dfc-9a7d-5196bbcfa3f4",
   "metadata": {
    "tags": []
   },
   "outputs": [],
   "source": [
    "import _report_operator_section1_utils as section1\n",
    "import geopandas as gpd\n",
    "import merge_operator_data\n",
    "import numpy as np\n",
    "import pandas as pd\n",
    "from segment_speed_utils import gtfs_schedule_wrangling, helpers\n",
    "from segment_speed_utils.project_vars import COMPILED_CACHED_VIEWS, PROJECT_CRS\n",
    "from shared_utils import catalog_utils, portfolio_utils, rt_dates\n",
    "from update_vars import GTFS_DATA_DICT, RT_SCHED_GCS, SCHED_GCS, SEGMENT_GCS"
   ]
  },
  {
   "cell_type": "code",
   "execution_count": 2,
   "id": "756420b5-101d-4b53-b1dd-f691040db920",
   "metadata": {
    "tags": []
   },
   "outputs": [],
   "source": [
    "pd.options.display.max_columns = 100\n",
    "pd.options.display.float_format = \"{:.2f}\".format\n",
    "pd.set_option(\"display.max_rows\", None)\n",
    "pd.set_option(\"display.max_colwidth\", None)"
   ]
  },
  {
   "cell_type": "code",
   "execution_count": 5,
   "id": "e82805f3-57d2-4ff1-8b1e-2bd7765029f5",
   "metadata": {
    "tags": []
   },
   "outputs": [],
   "source": [
    "analysis_date_list = rt_dates.y2024_dates + rt_dates.y2023_dates + rt_dates.y2025_dates"
   ]
  },
  {
   "cell_type": "markdown",
   "id": "c7cab962-de3c-4732-9e73-17c29db8173b",
   "metadata": {},
   "source": [
    "## i noticed 2 of the functions are mislabeled, they're swapped (schedule / rt vs schedule)"
   ]
  },
  {
   "cell_type": "code",
   "execution_count": 3,
   "id": "08318332-85ea-4cd3-a4b0-a579d55c5fdc",
   "metadata": {
    "tags": []
   },
   "outputs": [
    {
     "data": {
      "text/plain": [
       "'vp_operator/operator_metrics'"
      ]
     },
     "execution_count": 3,
     "metadata": {},
     "output_type": "execute_result"
    }
   ],
   "source": [
    "f\"{GTFS_DATA_DICT.rt_vs_schedule_tables.vp_operator_metrics}\""
   ]
  },
  {
   "cell_type": "markdown",
   "id": "d348b615-f1c6-445d-9e4e-2d5977f9f7bb",
   "metadata": {},
   "source": [
    "## it should take the merged df from that script to do the operator counts."
   ]
  },
  {
   "cell_type": "code",
   "execution_count": 6,
   "id": "39a70ffc-78b8-482e-b540-dc0e3f559883",
   "metadata": {
    "tags": []
   },
   "outputs": [],
   "source": [
    "# Concat operator metrics.\n",
    "op_sched_metrics = merge_operator_data.concatenate_schedule_operator_metrics(\n",
    "    analysis_date_list\n",
    ")\n",
    "\n",
    "# Concat operator profiles\n",
    "op_rt_sched_metrics = merge_operator_data.concatenate_rt_vs_schedule_operator_metrics(\n",
    "    analysis_date_list\n",
    ")\n",
    "\n",
    "merge_cols = [\"schedule_gtfs_dataset_key\", \"service_date\"]\n",
    "\n",
    "# Merge the two together\n",
    "operator_profiles_df1 = pd.merge(\n",
    "    op_sched_metrics, op_rt_sched_metrics, on=merge_cols, how=\"outer\"\n",
    ")"
   ]
  },
  {
   "cell_type": "code",
   "execution_count": 12,
   "id": "9186a3e3-91df-4b9a-b825-5a74f9a573a6",
   "metadata": {
    "tags": []
   },
   "outputs": [],
   "source": [
    "operator_category_counts = merge_operator_data.operator_category_counts_by_date(\n",
    ")\n"
   ]
  },
  {
   "cell_type": "code",
   "execution_count": 8,
   "id": "74f62ada-ec16-4ea4-817c-c3088c902a6e",
   "metadata": {
    "tags": []
   },
   "outputs": [],
   "source": [
    "def create_no_rt_data_column(df: pd.DataFrame) -> pd.DataFrame:\n",
    "    \"\"\"\n",
    "    Creates a new column 'no_rt_data' in the dataframe if either\n",
    "    'vp_per_min_agency' or 'spatial_accuracy_agency' is NA or 0.\n",
    "\n",
    "    Args:\n",
    "        df (pd.DataFrame): The input dataframe.\n",
    "\n",
    "    Returns:\n",
    "        pd.DataFrame: The updated dataframe with the new column.\n",
    "    \"\"\"\n",
    "\n",
    "    # Create a new column 'no_rt_data' and initialize it with False\n",
    "    df[\"no_rt_data\"] = False\n",
    "\n",
    "    # Set 'no_rt_data' to True if either 'vp_per_min_agency' or\n",
    "    # 'spatial_accuracy_agency' is NA or 0\n",
    "    df.loc[\n",
    "        (df[\"vp_per_min_agency\"].isna() | (df[\"vp_per_min_agency\"] == 0))\n",
    "        | (df[\"spatial_accuracy_agency\"].isna() | (df[\"spatial_accuracy_agency\"] == 0)),\n",
    "        \"no_rt_data\",\n",
    "    ] = True\n",
    "\n",
    "    return df"
   ]
  },
  {
   "cell_type": "code",
   "execution_count": 9,
   "id": "a274f5ac-02e4-42f1-a9ec-394b12494d94",
   "metadata": {
    "tags": []
   },
   "outputs": [],
   "source": [
    "operator_profiles_df1 = create_no_rt_data_column(operator_profiles_df1)"
   ]
  },
  {
   "cell_type": "code",
   "execution_count": 19,
   "id": "d65fac8e-d08f-4a14-b179-c1a768680286",
   "metadata": {
    "tags": []
   },
   "outputs": [
    {
     "data": {
      "text/plain": [
       "Index(['schedule_gtfs_dataset_key', 'vp_per_min_agency',\n",
       "       'spatial_accuracy_agency', 'service_date', 'operator_n_routes',\n",
       "       'operator_n_trips', 'operator_n_shapes', 'operator_n_stops',\n",
       "       'operator_n_arrivals', 'operator_route_length_miles',\n",
       "       'operator_arrivals_per_stop', 'n_downtown_local_routes',\n",
       "       'n_local_routes', 'n_coverage_routes', 'n_rapid_routes',\n",
       "       'n_express_routes', 'n_rail_routes', 'n_ferry_routes', 'name',\n",
       "       'organization_source_record_id', 'organization_name', 'no_rt_data'],\n",
       "      dtype='object')"
      ]
     },
     "execution_count": 19,
     "metadata": {},
     "output_type": "execute_result"
    }
   ],
   "source": [
    "operator_profiles_df1.columns"
   ]
  },
  {
   "cell_type": "code",
   "execution_count": 11,
   "id": "5bec0f04-a37e-4210-87e0-41eac8d6162f",
   "metadata": {
    "tags": []
   },
   "outputs": [],
   "source": [
    "agg1 = operator_profiles_df1.groupby([\"schedule_gtfs_dataset_key\", \"no_rt_data\"]).agg(\n",
    "    {\"service_date\": \"nunique\"}\n",
    ")"
   ]
  },
  {
   "cell_type": "code",
   "execution_count": 18,
   "id": "bf36eb08-6204-41af-a6fc-c99e1153062e",
   "metadata": {
    "tags": []
   },
   "outputs": [
    {
     "data": {
      "text/html": [
       "<div>\n",
       "<style scoped>\n",
       "    .dataframe tbody tr th:only-of-type {\n",
       "        vertical-align: middle;\n",
       "    }\n",
       "\n",
       "    .dataframe tbody tr th {\n",
       "        vertical-align: top;\n",
       "    }\n",
       "\n",
       "    .dataframe thead th {\n",
       "        text-align: right;\n",
       "    }\n",
       "</style>\n",
       "<table border=\"1\" class=\"dataframe\">\n",
       "  <thead>\n",
       "    <tr style=\"text-align: right;\">\n",
       "      <th></th>\n",
       "      <th>schedule_gtfs_dataset_key</th>\n",
       "      <th>service_date</th>\n",
       "      <th>sched_rt_category</th>\n",
       "      <th>n_trips</th>\n",
       "    </tr>\n",
       "  </thead>\n",
       "  <tbody>\n",
       "    <tr>\n",
       "      <th>0</th>\n",
       "      <td>0139b1253130b33adcd4b3a4490530d2</td>\n",
       "      <td>2023-03-15</td>\n",
       "      <td>schedule_only</td>\n",
       "      <td>0</td>\n",
       "    </tr>\n",
       "    <tr>\n",
       "      <th>1</th>\n",
       "      <td>0139b1253130b33adcd4b3a4490530d2</td>\n",
       "      <td>2023-03-15</td>\n",
       "      <td>vp_only</td>\n",
       "      <td>0</td>\n",
       "    </tr>\n",
       "    <tr>\n",
       "      <th>2</th>\n",
       "      <td>0139b1253130b33adcd4b3a4490530d2</td>\n",
       "      <td>2023-03-15</td>\n",
       "      <td>schedule_and_vp</td>\n",
       "      <td>0</td>\n",
       "    </tr>\n",
       "    <tr>\n",
       "      <th>3</th>\n",
       "      <td>0139b1253130b33adcd4b3a4490530d2</td>\n",
       "      <td>2023-04-12</td>\n",
       "      <td>schedule_only</td>\n",
       "      <td>0</td>\n",
       "    </tr>\n",
       "    <tr>\n",
       "      <th>4</th>\n",
       "      <td>0139b1253130b33adcd4b3a4490530d2</td>\n",
       "      <td>2023-04-12</td>\n",
       "      <td>vp_only</td>\n",
       "      <td>0</td>\n",
       "    </tr>\n",
       "    <tr>\n",
       "      <th>5</th>\n",
       "      <td>0139b1253130b33adcd4b3a4490530d2</td>\n",
       "      <td>2023-04-12</td>\n",
       "      <td>schedule_and_vp</td>\n",
       "      <td>0</td>\n",
       "    </tr>\n",
       "    <tr>\n",
       "      <th>6</th>\n",
       "      <td>0139b1253130b33adcd4b3a4490530d2</td>\n",
       "      <td>2023-05-17</td>\n",
       "      <td>schedule_only</td>\n",
       "      <td>2</td>\n",
       "    </tr>\n",
       "    <tr>\n",
       "      <th>7</th>\n",
       "      <td>0139b1253130b33adcd4b3a4490530d2</td>\n",
       "      <td>2023-05-17</td>\n",
       "      <td>vp_only</td>\n",
       "      <td>0</td>\n",
       "    </tr>\n",
       "    <tr>\n",
       "      <th>8</th>\n",
       "      <td>0139b1253130b33adcd4b3a4490530d2</td>\n",
       "      <td>2023-05-17</td>\n",
       "      <td>schedule_and_vp</td>\n",
       "      <td>345</td>\n",
       "    </tr>\n",
       "    <tr>\n",
       "      <th>9</th>\n",
       "      <td>0139b1253130b33adcd4b3a4490530d2</td>\n",
       "      <td>2023-06-14</td>\n",
       "      <td>schedule_only</td>\n",
       "      <td>0</td>\n",
       "    </tr>\n",
       "  </tbody>\n",
       "</table>\n",
       "</div>"
      ],
      "text/plain": [
       "          schedule_gtfs_dataset_key service_date sched_rt_category  n_trips\n",
       "0  0139b1253130b33adcd4b3a4490530d2   2023-03-15     schedule_only        0\n",
       "1  0139b1253130b33adcd4b3a4490530d2   2023-03-15           vp_only        0\n",
       "2  0139b1253130b33adcd4b3a4490530d2   2023-03-15   schedule_and_vp        0\n",
       "3  0139b1253130b33adcd4b3a4490530d2   2023-04-12     schedule_only        0\n",
       "4  0139b1253130b33adcd4b3a4490530d2   2023-04-12           vp_only        0\n",
       "5  0139b1253130b33adcd4b3a4490530d2   2023-04-12   schedule_and_vp        0\n",
       "6  0139b1253130b33adcd4b3a4490530d2   2023-05-17     schedule_only        2\n",
       "7  0139b1253130b33adcd4b3a4490530d2   2023-05-17           vp_only        0\n",
       "8  0139b1253130b33adcd4b3a4490530d2   2023-05-17   schedule_and_vp      345\n",
       "9  0139b1253130b33adcd4b3a4490530d2   2023-06-14     schedule_only        0"
      ]
     },
     "execution_count": 18,
     "metadata": {},
     "output_type": "execute_result"
    }
   ],
   "source": [
    "operator_category_counts.head(10)"
   ]
  },
  {
   "cell_type": "code",
   "execution_count": 15,
   "id": "865302a6-e857-4181-8287-7c54d5f453db",
   "metadata": {
    "tags": []
   },
   "outputs": [],
   "source": [
    "agg1 = agg1.reset_index().sort_values(by = [\"schedule_gtfs_dataset_key\"])"
   ]
  },
  {
   "cell_type": "code",
   "execution_count": 16,
   "id": "a063d6a0-745c-455b-929c-4926f166cd6f",
   "metadata": {
    "tags": []
   },
   "outputs": [
    {
     "data": {
      "text/html": [
       "<div>\n",
       "<style scoped>\n",
       "    .dataframe tbody tr th:only-of-type {\n",
       "        vertical-align: middle;\n",
       "    }\n",
       "\n",
       "    .dataframe tbody tr th {\n",
       "        vertical-align: top;\n",
       "    }\n",
       "\n",
       "    .dataframe thead th {\n",
       "        text-align: right;\n",
       "    }\n",
       "</style>\n",
       "<table border=\"1\" class=\"dataframe\">\n",
       "  <thead>\n",
       "    <tr style=\"text-align: right;\">\n",
       "      <th></th>\n",
       "      <th>schedule_gtfs_dataset_key</th>\n",
       "      <th>no_rt_data</th>\n",
       "      <th>service_date</th>\n",
       "    </tr>\n",
       "  </thead>\n",
       "  <tbody>\n",
       "    <tr>\n",
       "      <th>0</th>\n",
       "      <td>0139b1253130b33adcd4b3a4490530d2</td>\n",
       "      <td>False</td>\n",
       "      <td>23</td>\n",
       "    </tr>\n",
       "    <tr>\n",
       "      <th>1</th>\n",
       "      <td>014d0998350083249a9eb310635548c2</td>\n",
       "      <td>True</td>\n",
       "      <td>4</td>\n",
       "    </tr>\n",
       "    <tr>\n",
       "      <th>2</th>\n",
       "      <td>015d67d5b75b5cf2b710bbadadfb75f5</td>\n",
       "      <td>False</td>\n",
       "      <td>24</td>\n",
       "    </tr>\n",
       "    <tr>\n",
       "      <th>3</th>\n",
       "      <td>0176c6348ee489139741bc7581074277</td>\n",
       "      <td>True</td>\n",
       "      <td>3</td>\n",
       "    </tr>\n",
       "    <tr>\n",
       "      <th>4</th>\n",
       "      <td>0191525f4461cff4b8d25274249c876f</td>\n",
       "      <td>True</td>\n",
       "      <td>1</td>\n",
       "    </tr>\n",
       "  </tbody>\n",
       "</table>\n",
       "</div>"
      ],
      "text/plain": [
       "          schedule_gtfs_dataset_key  no_rt_data  service_date\n",
       "0  0139b1253130b33adcd4b3a4490530d2       False            23\n",
       "1  014d0998350083249a9eb310635548c2        True             4\n",
       "2  015d67d5b75b5cf2b710bbadadfb75f5       False            24\n",
       "3  0176c6348ee489139741bc7581074277        True             3\n",
       "4  0191525f4461cff4b8d25274249c876f        True             1"
      ]
     },
     "execution_count": 16,
     "metadata": {},
     "output_type": "execute_result"
    }
   ],
   "source": [
    "agg1.head()"
   ]
  }
 ],
 "metadata": {
  "kernelspec": {
   "display_name": "Python 3 (ipykernel)",
   "language": "python",
   "name": "python3"
  },
  "language_info": {
   "codemirror_mode": {
    "name": "ipython",
    "version": 3
   },
   "file_extension": ".py",
   "mimetype": "text/x-python",
   "name": "python",
   "nbconvert_exporter": "python",
   "pygments_lexer": "ipython3",
   "version": "3.11.10"
  }
 },
 "nbformat": 4,
 "nbformat_minor": 5
}
