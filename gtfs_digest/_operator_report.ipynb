{
 "cells": [
  {
   "cell_type": "code",
   "execution_count": null,
   "id": "89102e7d-7aa7-4897-ba5d-e09d0bd08fac",
   "metadata": {},
   "outputs": [],
   "source": [
    "%%capture\n",
    "\n",
    "import warnings\n",
    "\n",
    "warnings.filterwarnings(\"ignore\")\n",
    "\n",
    "import _report_visuals_utils\n",
    "import viz_data_prep\n",
    "import altair as alt\n",
    "import calitp_data_analysis.magics\n",
    "from IPython.display import HTML, Image, Markdown, display, display_html\n",
    "\n",
    "import deploy_portfolio_yaml\n",
    "import pandas as pd\n",
    "\n",
    "from omegaconf import OmegaConf\n",
    "from update_vars import GTFS_DATA_DICT, RT_SCHED_GCS, SCHED_GCS, SEGMENT_GCS\n",
    "readable_dict = OmegaConf.load(\"readable2.yml\")\n"
   ]
  },
  {
   "cell_type": "code",
   "execution_count": null,
   "id": "0197abcb-ff23-4c97-b079-2275fb4ad817",
   "metadata": {},
   "outputs": [],
   "source": [
    "pd.options.display.max_columns = 100\n",
    "pd.options.display.float_format = \"{:.2f}\".format\n",
    "pd.set_option(\"display.max_rows\", None)\n",
    "pd.set_option(\"display.max_colwidth\", None)"
   ]
  },
  {
   "cell_type": "code",
   "execution_count": null,
   "id": "5aecb5b1-1fe0-4c8f-89cd-9fb3ab058a8e",
   "metadata": {
    "tags": [
     "parameters"
    ]
   },
   "outputs": [],
   "source": [
    "# Comment out and leave this cell right below pandas\n",
    "# portfolio_name = \"City of Santa Maria\"\n",
    "portfolio_name = \"City of West Hollywood\""
   ]
  },
  {
   "cell_type": "code",
   "execution_count": null,
   "id": "5d03eacf-096b-41e0-908b-7ade510b3d64",
   "metadata": {
    "tags": [
     "parameters"
    ]
   },
   "outputs": [],
   "source": [
    "# %%capture_parameters\n",
    "# portfolio_name"
   ]
  },
  {
   "cell_type": "code",
   "execution_count": null,
   "id": "62509f92-7787-4769-a443-5fbcf3f546af",
   "metadata": {
    "tags": []
   },
   "outputs": [],
   "source": [
    "FILE = GTFS_DATA_DICT.digest_tables.route_schedule_vp\n",
    "\n",
    "# some of the portfolio grain can be dealt with\n",
    "# but separate out the renaming/replacing/subsetting to separate script\n",
    "\n",
    "route_dir_df = pd.read_parquet(\n",
    "    f\"{RT_SCHED_GCS}{FILE}.parquet\",\n",
    "    filters=[\n",
    "        [\n",
    "            (\"portfolio_organization_name\", \"==\", portfolio_name),\n",
    "        ]\n",
    "    ],\n",
    ").pipe(\n",
    "    viz_data_prep.data_wrangling_for_visualizing,\n",
    "    viz_data_prep.route_direction_cols_for_viz,\n",
    "    viz_data_prep.readable_col_names,\n",
    ")"
   ]
  },
  {
   "cell_type": "code",
   "execution_count": null,
   "id": "fe6e8ffd-78ca-41fa-98f0-5cdd99b68a45",
   "metadata": {
    "tags": []
   },
   "outputs": [],
   "source": [
    "from IPython.display import HTML, display\n",
    "\n",
    "# Set drop down menu to be on the upper right for the charts\n",
    "display(\n",
    "    HTML(\n",
    "        \"\"\"\n",
    "<style>\n",
    "form.vega-bindings {\n",
    "  position: absolute;\n",
    "  right: 0px;\n",
    "  top: 0px;\n",
    "}\n",
    "</style>\n",
    "\"\"\"\n",
    "    )\n",
    ")"
   ]
  },
  {
   "cell_type": "code",
   "execution_count": null,
   "id": "20cc7aea-297a-4033-8082-8af1a1e6f0de",
   "metadata": {
    "tags": []
   },
   "outputs": [],
   "source": [
    "try:\n",
    "    display(_report_visuals_utils.route_filter(route_dir_df))\n",
    "except:\n",
    "    display(Markdown(f\"\"\"{portfolio_name} only has schedule data.\"\"\"))"
   ]
  }
 ],
 "metadata": {
  "kernelspec": {
   "display_name": "Python 3 (ipykernel)",
   "language": "python",
   "name": "python3"
  },
  "language_info": {
   "codemirror_mode": {
    "name": "ipython",
    "version": 3
   },
   "file_extension": ".py",
   "mimetype": "text/x-python",
   "name": "python",
   "nbconvert_exporter": "python",
   "pygments_lexer": "ipython3",
   "version": "3.11.10"
  }
 },
 "nbformat": 4,
 "nbformat_minor": 5
}
