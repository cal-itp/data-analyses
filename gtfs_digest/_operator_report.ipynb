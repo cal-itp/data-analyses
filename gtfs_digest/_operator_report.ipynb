{
 "cells": [
  {
   "cell_type": "code",
   "execution_count": null,
   "id": "89102e7d-7aa7-4897-ba5d-e09d0bd08fac",
   "metadata": {},
   "outputs": [],
   "source": [
    "%%capture\n",
    "\n",
    "import warnings\n",
    "\n",
    "warnings.filterwarnings(\"ignore\")\n",
    "\n",
    "\n",
    "import altair as alt\n",
    "import calitp_data_analysis.magics\n",
    "import deploy_portfolio_yaml\n",
    "import pandas as pd\n",
    "\n",
    "from IPython.display import HTML, Image, Markdown, display, display_html\n",
    "from omegaconf import OmegaConf\n",
    "from update_vars import GTFS_DATA_DICT, RT_SCHED_GCS, SCHED_GCS, SEGMENT_GCS\n",
    "\n",
    "readable_dict = OmegaConf.load(\"readable2.yml\")\n",
    "\n",
    "import viz_data_prep\n",
    "import _report_visuals_utils\n",
    "import aggregate_filter_operator_data\n",
    "import _report_operator_visuals"
   ]
  },
  {
   "cell_type": "code",
   "execution_count": null,
   "id": "0197abcb-ff23-4c97-b079-2275fb4ad817",
   "metadata": {},
   "outputs": [],
   "source": [
    "pd.options.display.max_columns = 100\n",
    "pd.options.display.float_format = \"{:.2f}\".format\n",
    "pd.set_option(\"display.max_rows\", None)\n",
    "pd.set_option(\"display.max_colwidth\", None)"
   ]
  },
  {
   "cell_type": "code",
   "execution_count": null,
   "id": "5aecb5b1-1fe0-4c8f-89cd-9fb3ab058a8e",
   "metadata": {
    "tags": [
     "parameters"
    ]
   },
   "outputs": [],
   "source": [
    "# Comment out and leave this cell right below pandas\n",
    "portfolio_name = \"City and County of San Francisco\"\n",
    "# portfolio_name = \"City of West Hollywood\""
   ]
  },
  {
   "cell_type": "code",
   "execution_count": null,
   "id": "fe6e8ffd-78ca-41fa-98f0-5cdd99b68a45",
   "metadata": {
    "tags": []
   },
   "outputs": [],
   "source": [
    "from IPython.display import HTML, display\n",
    "\n",
    "# Set drop down menu to be on the upper right for the charts\n",
    "display(\n",
    "    HTML(\n",
    "        \"\"\"\n",
    "<style>\n",
    "form.vega-bindings {\n",
    "  position: absolute;\n",
    "  right: 0px;\n",
    "  top: 0px;\n",
    "}\n",
    "</style>\n",
    "\"\"\"\n",
    "    )\n",
    ")"
   ]
  },
  {
   "cell_type": "code",
   "execution_count": null,
   "id": "5d03eacf-096b-41e0-908b-7ade510b3d64",
   "metadata": {
    "tags": [
     "parameters"
    ]
   },
   "outputs": [],
   "source": [
    "# %%capture_parameters\n",
    "# portfolio_name"
   ]
  },
  {
   "cell_type": "code",
   "execution_count": null,
   "id": "62509f92-7787-4769-a443-5fbcf3f546af",
   "metadata": {
    "tags": []
   },
   "outputs": [],
   "source": [
    "ROUTE_DIR_FILE = GTFS_DATA_DICT.digest_tables.route_schedule_vp\n",
    "\n",
    "# some of the portfolio grain can be dealt with\n",
    "# but separate out the renaming/replacing/subsetting to separate script\n",
    "\n",
    "route_dir_df = pd.read_parquet(\n",
    "    f\"{RT_SCHED_GCS}{ROUTE_DIR_FILE}.parquet\",\n",
    "    filters=[\n",
    "        [\n",
    "            (\"portfolio_organization_name\", \"==\", portfolio_name),\n",
    "        ]\n",
    "    ],\n",
    ").pipe(\n",
    "    viz_data_prep.data_wrangling_for_visualizing,\n",
    "    viz_data_prep.route_direction_cols_for_viz,\n",
    "    viz_data_prep.readable_col_names,\n",
    ")"
   ]
  },
  {
   "cell_type": "code",
   "execution_count": null,
   "id": "4643113f-f8e5-4aec-8f4e-d90fb787a017",
   "metadata": {
    "tags": []
   },
   "outputs": [],
   "source": [
    "route_df = aggregate_filter_operator_data.grab_most_recent_geography(portfolio_name)"
   ]
  },
  {
   "cell_type": "code",
   "execution_count": null,
   "id": "27f4ca4d-955d-47a5-8b35-62db2f1e80a1",
   "metadata": {
    "tags": []
   },
   "outputs": [],
   "source": [
    "OPERATOR_PROFILE = GTFS_DATA_DICT.digest_tables.operator_profiles\n",
    "profile_df = pd.read_parquet(\n",
    "    f\"{RT_SCHED_GCS}{OPERATOR_PROFILE}_recent.parquet\",\n",
    "    filters=[\n",
    "        [\n",
    "            (\"portfolio_organization_name\", \"==\", portfolio_name),\n",
    "        ]\n",
    "    ],\n",
    ")"
   ]
  },
  {
   "cell_type": "markdown",
   "id": "78e95141-c977-4a2d-ad1d-ffeb866f3640",
   "metadata": {},
   "source": [
    "# {organization_name}"
   ]
  },
  {
   "cell_type": "markdown",
   "id": "e547a756-4a06-4f68-84c4-46e0eadbfc8a",
   "metadata": {},
   "source": [
    "## Operator Overview"
   ]
  },
  {
   "cell_type": "code",
   "execution_count": null,
   "id": "e36958b0-ead0-4728-a645-a2ffde52c3ab",
   "metadata": {
    "tags": []
   },
   "outputs": [],
   "source": [
    "try:\n",
    "    date = profile_df[\"service_date\"].dt.to_pydatetime()[0]\n",
    "except:\n",
    "    pass"
   ]
  },
  {
   "cell_type": "code",
   "execution_count": null,
   "id": "ea825647-a9a2-450b-b36a-0a636ed8c6cb",
   "metadata": {
    "tags": []
   },
   "outputs": [],
   "source": [
    "service_area = int(profile_df.service_area_sq_miles.values[0])\n",
    "service_area = \"{:,}\".format(service_area)\n",
    "service_pop = int(profile_df.service_area_pop.values[0])\n",
    "service_pop = \"{:,}\".format(service_pop)"
   ]
  },
  {
   "cell_type": "code",
   "execution_count": null,
   "id": "29a3aaac-3921-403b-a8c0-943194617b31",
   "metadata": {
    "tags": []
   },
   "outputs": [],
   "source": [
    "display(\n",
    "    Markdown(\n",
    "        f\"\"\"{portfolio_name} is headquartered in <b>{profile_df.hq_city.values[0]}</b> in the Urbanized Area of <b>{profile_df.primary_uza_name.values[0]}</b>.<br>\n",
    "            This operator provides <b>{service_area}</b> square miles of public transit service, which has a service population of <b>{service_pop}</b>.<br>\n",
    "            This organization is a {profile_df.reporter_type.values[0]}.<br>\n",
    "            <b>Data Source</b>: <a href=\"https://www.transit.dot.gov/ntd/data-product/2022-annual-database-agency-information\">National Transit Database</a> Annual Agency Information.\n",
    "            \"\"\"\n",
    "    )\n",
    ")"
   ]
  },
  {
   "cell_type": "markdown",
   "id": "5687795c-5677-4088-ad86-0f727a6b2826",
   "metadata": {},
   "source": [
    "### Route Typologies"
   ]
  },
  {
   "cell_type": "code",
   "execution_count": null,
   "id": "a6498a56-fa06-45ce-a465-8e7712983fb1",
   "metadata": {},
   "outputs": [],
   "source": [
    "try:\n",
    "    display(\n",
    "        Markdown(\n",
    "            f\"\"\"The following data presents an overview of GTFS characteristics using data from the most recent date of\n",
    "      <b>{date.strftime(\"%B\")} {date.year}</b>.\"\"\"\n",
    "        )\n",
    "    )\n",
    "except:\n",
    "    pass"
   ]
  },
  {
   "cell_type": "code",
   "execution_count": null,
   "id": "7b59bd8f-f605-4f28-afed-dd1775a4143a",
   "metadata": {},
   "outputs": [],
   "source": [
    "try:\n",
    "    n_routes = profile_df[\"operator_n_routes\"].values[0]\n",
    "    n_routes = \"{:,}\".format(n_routes)\n",
    "    display(\n",
    "        Markdown(\n",
    "            f\"\"\"{portfolio_name} runs <b>{n_routes}</b> unique routes. Below is the breakdown of the routes and routes can belong to one or more categories.<p>\n",
    "            Route categories are determined using a approach that looks at GTFS trips data\n",
    "        alongside National Association of City Transportation Officials (NACTO)'s\n",
    "        <a href=\"https://nacto.org/publication/transit-street-design-guide/introduction/service-context/transit-route-types/\">Transit Route Types</a> \n",
    "        and <a href= \"https://nacto.org/publication/transit-street-design-guide/introduction/service-context/transit-frequency-volume/\">Frequency and Volume</a>\n",
    "        guides. Please see the <a href=\"https://github.com/cal-itp/data-analyses/blob/main/gtfs_digest/methodology.md\">methodology docs</a> for more details on this approach.\n",
    "        \"\"\"\n",
    "        )\n",
    "    )\n",
    "except:\n",
    "    display(Markdown(f\"\"\"{portfolio_name} doesn't have an operator profile.\"\"\"))"
   ]
  },
  {
   "cell_type": "code",
   "execution_count": null,
   "id": "c4801444-b546-467a-9c2d-53799ce5c041",
   "metadata": {
    "tags": []
   },
   "outputs": [],
   "source": [
    "try:\n",
    "    display(_report_operator_visuals.route_typology_chart(profile_df))\n",
    "except:\n",
    "    display(\n",
    "        Markdown(f\"\"\"{portfolio_name} doesn't have route typology data available.\"\"\")\n",
    "    )"
   ]
  },
  {
   "cell_type": "markdown",
   "id": "bf909ed5-e0b8-4a8b-b3b1-4c36cc4ed8c1",
   "metadata": {},
   "source": [
    "### Service Area"
   ]
  },
  {
   "cell_type": "code",
   "execution_count": null,
   "id": "f5787d5a-8793-43e8-a949-0fc49869ee67",
   "metadata": {},
   "outputs": [],
   "source": [
    "try:\n",
    "    n_service_miles = int(profile_df.operator_route_length_miles.values[0])\n",
    "    n_service_miles = \"{:,}\".format(n_service_miles)\n",
    "    display(\n",
    "        Markdown(\n",
    "            f\"\"\"{portfolio_name} provides <b>{n_service_miles}</b> miles of public transit.\n",
    "        \"\"\"\n",
    "        )\n",
    "    )\n",
    "\n",
    "except:\n",
    "    pass"
   ]
  },
  {
   "cell_type": "code",
   "execution_count": null,
   "id": "9151f410-a9e3-479b-9f63-7863d6570965",
   "metadata": {
    "tags": []
   },
   "outputs": [],
   "source": [
    "try:\n",
    "    display(_report_operator_visuals.percentile_routes_chart(route_df))\n",
    "except:\n",
    "    pass"
   ]
  },
  {
   "cell_type": "code",
   "execution_count": null,
   "id": "bfc8b886-5d3c-476a-b71a-d8c0ea2080c1",
   "metadata": {
    "tags": []
   },
   "outputs": [],
   "source": [
    "try:\n",
    "    display(\n",
    "        route_df[[\"Route\", \"Route Length (Miles)\", \"geometry\"]].explore(\n",
    "            \"Route\",\n",
    "            cmap=\"Spectral\",\n",
    "            tiles=\"CartoDB positron\",\n",
    "            width=500,\n",
    "            height=300,\n",
    "            style_kwds={\"weight\": 3},\n",
    "            legend=False,\n",
    "            tooltip=[\"Route\", \"Route Length (Miles)\"],\n",
    "        )\n",
    "    )\n",
    "except:\n",
    "    display(Markdown(f\"\"\"{portfolio_name} doesn't have an route geographies.\"\"\"))"
   ]
  },
  {
   "cell_type": "code",
   "execution_count": null,
   "id": "736ff9f9-e5cf-44f2-bdae-3e2f6808d8dc",
   "metadata": {},
   "outputs": [],
   "source": [
    "try:\n",
    "    display(\n",
    "        Markdown(\n",
    "            f\"{portfolio_name} provides public transit in {profile_df['counties_served'].values[0]} counties.\"\n",
    "        )\n",
    "    )\n",
    "except:\n",
    "    display(Markdown(f\"\"\"{portfolio_name} doesn't have an route geographies.\"\"\"))"
   ]
  },
  {
   "cell_type": "code",
   "execution_count": null,
   "id": "cd842bf9-e1b4-425f-a190-4d9cb63bdf0a",
   "metadata": {},
   "outputs": [],
   "source": [
    "try:\n",
    "    n_stops = int(profile_df[\"operator_n_stops\"].values[0])\n",
    "    n_stops = \"{:,}\".format(n_stops)\n",
    "\n",
    "    n_arrivals = int(profile_df[\"operator_n_arrivals\"].values[0])\n",
    "    n_arrivals = \"{:,}\".format(n_arrivals)\n",
    "    display(\n",
    "        Markdown(\n",
    "            f\"\"\"{portfolio_name} stops at <b>{n_stops}</b> unique stops, \n",
    "                totaling to <b>{n_arrivals}</b> arrivals.\n",
    "            \"\"\"\n",
    "        )\n",
    "    )\n",
    "except:\n",
    "    pass"
   ]
  },
  {
   "cell_type": "code",
   "execution_count": null,
   "id": "20cc7aea-297a-4033-8082-8af1a1e6f0de",
   "metadata": {
    "tags": []
   },
   "outputs": [],
   "source": [
    "try:\n",
    "    display(_report_visuals_utils.route_filter(route_dir_df))\n",
    "except:\n",
    "    display(Markdown(f\"\"\"{portfolio_name} only has schedule data.\"\"\"))"
   ]
  }
 ],
 "metadata": {
  "kernelspec": {
   "display_name": "Python 3 (ipykernel)",
   "language": "python",
   "name": "python3"
  },
  "language_info": {
   "codemirror_mode": {
    "name": "ipython",
    "version": 3
   },
   "file_extension": ".py",
   "mimetype": "text/x-python",
   "name": "python",
   "nbconvert_exporter": "python",
   "pygments_lexer": "ipython3",
   "version": "3.11.10"
  }
 },
 "nbformat": 4,
 "nbformat_minor": 5
}
