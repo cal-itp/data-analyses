{
 "cells": [
  {
   "cell_type": "markdown",
   "id": "d7dc2da2-d135-4f1a-bb94-8f2e68c14f5e",
   "metadata": {},
   "source": [
    "## Switch Direction 0/1 to Cardinal\n",
    "* direction_id -> cardinal direction. i want to use stop_times_with_direction and just count, by route-id/direction-id how many stops in each stop_primary_direction group. then whatever is pluraltiy, assign that.\n",
    "* you can take a look at the gtfs_analytics_catalog and find that file and just open it. the script to create it is in gtfs_funnel already, and you can see what that column means.\n",
    "* https://github.com/cal-itp/data-analyses/blob/main/_shared_utils/shared_utils/gtfs_analytics_data.yml\n",
    "* https://github.com/cal-itp/data-analyses/blob/main/gtfs_funnel/stop_times_with_direction.py\n"
   ]
  },
  {
   "cell_type": "code",
   "execution_count": null,
   "id": "ea552b25-87a9-4ffb-b569-3b41b27c855a",
   "metadata": {},
   "outputs": [],
   "source": [
    "from datetime import datetime\n",
    "\n",
    "import _section2_utils as section2_utils\n",
    "import geopandas as gpd\n",
    "import numpy as np\n",
    "import pandas as pd\n",
    "from IPython.display import HTML, Image, Markdown, display, display_html\n",
    "from segment_speed_utils import gtfs_schedule_wrangling, helpers, time_series_utils\n",
    "from segment_speed_utils.project_vars import (\n",
    "    COMPILED_CACHED_VIEWS,\n",
    "    GTFS_DATA_DICT,\n",
    "    PROJECT_CRS,\n",
    "    RT_SCHED_GCS,\n",
    "    SCHED_GCS,\n",
    "    SEGMENT_GCS,\n",
    ")\n",
    "from shared_utils import catalog_utils, rt_dates, rt_utils"
   ]
  },
  {
   "cell_type": "code",
   "execution_count": null,
   "id": "e49be70f-dcb7-4995-97e2-b4d7e24fe461",
   "metadata": {},
   "outputs": [],
   "source": [
    "pd.options.display.max_columns = 100\n",
    "pd.options.display.float_format = \"{:.2f}\".format\n",
    "pd.set_option(\"display.max_rows\", None)\n",
    "pd.set_option(\"display.max_colwidth\", None)"
   ]
  },
  {
   "cell_type": "code",
   "execution_count": null,
   "id": "a5862bda-f374-417c-95c1-5deea0fb4f32",
   "metadata": {},
   "outputs": [],
   "source": [
    "org_name = \"Los Angeles County Metropolitan Transportation Authority\""
   ]
  },
  {
   "cell_type": "markdown",
   "id": "b4e96223-574b-4c20-aa22-a7cd892217c3",
   "metadata": {},
   "source": [
    "### Charts Testing"
   ]
  },
  {
   "cell_type": "code",
   "execution_count": null,
   "id": "0705ee98-7cf9-4847-bd7f-5fef3b3e9257",
   "metadata": {},
   "outputs": [],
   "source": [
    "import altair as alt\n",
    "\n",
    "alt.data_transformers.enable(\"default\", max_rows=None)\n",
    "import _report_utils"
   ]
  },
  {
   "cell_type": "code",
   "execution_count": null,
   "id": "880bafcc-4f66-44b6-ba4d-330b662f4e17",
   "metadata": {},
   "outputs": [],
   "source": [
    "# Data Dictionary\n",
    "GTFS_DATA_DICT = catalog_utils.get_catalog(\"gtfs_analytics_data\")\n",
    "import yaml\n",
    "\n",
    "with open(\"readable.yml\") as f:\n",
    "    readable_dict = yaml.safe_load(f)\n",
    "\n",
    "# Color Palette\n",
    "with open(\"color_palettes.yml\") as f:\n",
    "    color_dict = yaml.safe_load(f)"
   ]
  },
  {
   "cell_type": "code",
   "execution_count": null,
   "id": "31d55032-bf8e-4e9a-b4b2-6759e66fed68",
   "metadata": {},
   "outputs": [],
   "source": [
    "sched_vp_df = section2_utils.load_schedule_vp_metrics(org_name)"
   ]
  },
  {
   "cell_type": "code",
   "execution_count": null,
   "id": "24a0dc38-5dfc-46ad-be00-47d80176c868",
   "metadata": {},
   "outputs": [],
   "source": [
    "sched_vp_df.columns"
   ]
  },
  {
   "cell_type": "code",
   "execution_count": null,
   "id": "232b0659-6884-4484-be43-3dae10159ee4",
   "metadata": {},
   "outputs": [],
   "source": [
    "sched_vp_df[\"Direction\"].value_counts()"
   ]
  },
  {
   "cell_type": "code",
   "execution_count": null,
   "id": "b6c40eed-4235-46c0-a9c8-92eb4b1c8a2a",
   "metadata": {},
   "outputs": [],
   "source": [
    "sched_vp_df.shape"
   ]
  },
  {
   "cell_type": "code",
   "execution_count": null,
   "id": "c1129d4d-b63c-40c1-a100-047a2deecfd1",
   "metadata": {},
   "outputs": [],
   "source": [
    "df = sched_vp_df.copy()"
   ]
  },
  {
   "cell_type": "code",
   "execution_count": null,
   "id": "9764e9c0-e855-4cf2-aa21-59bb3c2af42c",
   "metadata": {},
   "outputs": [],
   "source": [
    "routes_list = df[\"Route\"].unique().tolist()\n",
    "\n",
    "route_dropdown = alt.binding_select(\n",
    "    options=routes_list,\n",
    "    name=\"Routes\",\n",
    ")\n",
    "# Column that controls the bar charts\n",
    "route_selector = alt.selection_point(\n",
    "    fields=[\"Route\"],\n",
    "    bind=route_dropdown,\n",
    ")"
   ]
  },
  {
   "cell_type": "code",
   "execution_count": null,
   "id": "5948366c-ac0e-4238-856c-5522420e4c6c",
   "metadata": {},
   "outputs": [],
   "source": [
    "all_day = df.loc[df[\"Period\"] == \"all_day\"].reset_index(drop=True)"
   ]
  },
  {
   "cell_type": "code",
   "execution_count": null,
   "id": "1990abc9-7bfc-4fb5-9651-be633e8cb22f",
   "metadata": {},
   "outputs": [],
   "source": [
    "all_day.shape"
   ]
  },
  {
   "cell_type": "code",
   "execution_count": null,
   "id": "321111be-85cc-4093-a862-7284aef1d284",
   "metadata": {},
   "outputs": [],
   "source": [
    "route_stats_df = section2_utils.route_stats(df)"
   ]
  },
  {
   "cell_type": "code",
   "execution_count": null,
   "id": "880c6b25-5c99-43f8-b19b-0410e8980ad2",
   "metadata": {},
   "outputs": [],
   "source": [
    "route_stats_df.head(2)"
   ]
  },
  {
   "cell_type": "code",
   "execution_count": null,
   "id": "22eb74a4-f3ea-47d5-902b-7354568ac72b",
   "metadata": {},
   "outputs": [],
   "source": [
    "timeliness_df = section2_utils.timeliness_trips(df)"
   ]
  },
  {
   "cell_type": "code",
   "execution_count": null,
   "id": "11ae852a-3176-4a43-861c-3dcb9b7c4be2",
   "metadata": {},
   "outputs": [],
   "source": [
    "timeliness_df.head(2)"
   ]
  },
  {
   "cell_type": "code",
   "execution_count": null,
   "id": "a298a71a-285f-40cd-82ed-b7347fea12b3",
   "metadata": {},
   "outputs": [],
   "source": [
    "sched_journey_vp = section2_utils.pct_vp_journey(\n",
    "    all_day,\n",
    "    \"% Scheduled Trip w/ 1+ VP/Minute\",\n",
    "    \"% Scheduled Trip w/ 2+ VP/Minute\",\n",
    ")"
   ]
  },
  {
   "cell_type": "code",
   "execution_count": null,
   "id": "9421dc15-7da1-4d4d-8f8a-69f76e0887da",
   "metadata": {},
   "outputs": [],
   "source": [
    "sched_journey_vp.head(2)"
   ]
  },
  {
   "cell_type": "markdown",
   "id": "e6442d0a-778c-4b04-bce4-2987118c06eb",
   "metadata": {},
   "source": [
    "#### Avg Scheduled Min Graph"
   ]
  },
  {
   "cell_type": "code",
   "execution_count": null,
   "id": "7787835d-7964-4e7f-8698-6039760db7d9",
   "metadata": {},
   "outputs": [],
   "source": [
    "(\n",
    "    section2_utils.grouped_bar_chart(\n",
    "        df=all_day,\n",
    "        color_col=\"Direction\",\n",
    "        y_col=\"Average Scheduled Service (trip minutes)\",\n",
    "        offset_col=\"Direction\",\n",
    "        title=readable_dict[\"avg_scheduled_min_graph\"][\"title\"],\n",
    "        subtitle=readable_dict[\"avg_scheduled_min_graph\"][\"subtitle\"],\n",
    "    )\n",
    "    .add_params(route_selector)\n",
    "    .transform_filter(route_selector)\n",
    ")"
   ]
  },
  {
   "cell_type": "markdown",
   "id": "4d3243d8-0404-4fac-983c-af9cc0ff99a4",
   "metadata": {},
   "source": [
    "### Timeliness\n",
    "* Need to change `readable.yml` titles so it displays Eastbound/Westbound instead of 0"
   ]
  },
  {
   "cell_type": "code",
   "execution_count": null,
   "id": "fe5c3d0a-43b3-4f6b-9b94-ec6a0478253c",
   "metadata": {},
   "outputs": [],
   "source": [
    "timeliness_df.head()"
   ]
  },
  {
   "cell_type": "code",
   "execution_count": null,
   "id": "04023c65-44e9-4731-b6cd-b04c984adbea",
   "metadata": {},
   "outputs": [],
   "source": [
    "timeliness_df.info()"
   ]
  },
  {
   "cell_type": "code",
   "execution_count": null,
   "id": "471a3231-d9c3-4a48-b487-b23d45deb191",
   "metadata": {
    "scrolled": true,
    "tags": []
   },
   "outputs": [],
   "source": [
    "(\n",
    "    (\n",
    "        section2_utils.base_facet_chart(\n",
    "            timeliness_df.loc[timeliness_df[\"Direction\"] == \"Eastbound/Westbound\"],\n",
    "            \"value\",\n",
    "            \"variable\",\n",
    "            \"Period\",\n",
    "            readable_dict[\"timeliness_trips_dir_eastwest_graph\"][\"title\"],\n",
    "            readable_dict[\"timeliness_trips_dir_eastwest_graph\"][\"subtitle\"],\n",
    "        )\n",
    "    )\n",
    "    .add_params(route_selector)\n",
    "    .transform_filter(route_selector)\n",
    ")"
   ]
  },
  {
   "cell_type": "markdown",
   "id": "23cda84b-c105-4df5-a94c-671b03e8ccb5",
   "metadata": {},
   "source": [
    "#### Frequency\n",
    "* Add specific direction into tooltip (for all the graphs)"
   ]
  },
  {
   "cell_type": "code",
   "execution_count": null,
   "id": "e8c7c823-638a-4cd6-a330-add760cb2b52",
   "metadata": {},
   "outputs": [],
   "source": [
    "(\n",
    "    section2_utils.frequency_chart(df)\n",
    "    .add_params(route_selector)\n",
    "    .transform_filter(route_selector)\n",
    ")"
   ]
  },
  {
   "cell_type": "markdown",
   "id": "fb4f8939-6094-4a1c-b6d3-7a47bb105cc7",
   "metadata": {},
   "source": [
    "#### Speed"
   ]
  },
  {
   "cell_type": "code",
   "execution_count": null,
   "id": "59aef6ff-8e90-44d5-8abf-a074b53fde41",
   "metadata": {},
   "outputs": [],
   "source": [
    "(\n",
    "        section2_utils.base_facet_line(\n",
    "            df,\n",
    "            \"Speed (MPH)\",\n",
    "            readable_dict[\"speed_graph\"][\"title\"],\n",
    "            readable_dict[\"speed_graph\"][\"subtitle\"],\n",
    "        )\n",
    "        .add_params(route_selector)\n",
    "        .transform_filter(route_selector)\n",
    "    )"
   ]
  },
  {
   "cell_type": "markdown",
   "id": "1406bed5-4f7a-44c7-aeb9-3a4466a34bd2",
   "metadata": {},
   "source": [
    "#### VP Per Min"
   ]
  },
  {
   "cell_type": "code",
   "execution_count": null,
   "id": "d61cb9e1-5c35-4544-a359-02f238638613",
   "metadata": {},
   "outputs": [],
   "source": [
    "(\n",
    "        (\n",
    "            section2_utils.base_facet_with_ruler_chart(\n",
    "                all_day,\n",
    "                \"Average VP per Minute\",\n",
    "                \"ruler_for_vp_per_min\",\n",
    "                readable_dict[\"vp_per_min_graph\"][\"title\"],\n",
    "                readable_dict[\"vp_per_min_graph\"][\"subtitle\"],\n",
    "                color_dict[\"vp_domain\"],\n",
    "                color_dict[\"vp_range\"]\n",
    "            )\n",
    "        )\n",
    "        .add_params(route_selector)\n",
    "        .transform_filter(route_selector)\n",
    "    )"
   ]
  },
  {
   "cell_type": "markdown",
   "id": "0818e49c-769b-4066-a239-874d72f3f208",
   "metadata": {},
   "source": [
    "#### Scheduled VP Per Min"
   ]
  },
  {
   "cell_type": "code",
   "execution_count": null,
   "id": "1eca1093-2098-4b05-bf1e-978358fa781b",
   "metadata": {},
   "outputs": [],
   "source": [
    "sched_journey_vp.head(2)"
   ]
  },
  {
   "cell_type": "code",
   "execution_count": null,
   "id": "7956df17-333e-4c25-8a52-9a5061f525d4",
   "metadata": {
    "scrolled": true,
    "tags": []
   },
   "outputs": [],
   "source": [
    "(\n",
    "        section2_utils.base_facet_circle(\n",
    "            sched_journey_vp,\n",
    "            \"% of Actual Trip Minutes\",\n",
    "            \"Category\",\n",
    "            \"ruler_100_pct\",\n",
    "            readable_dict[\"sched_vp_per_min_graph\"][\"title\"],\n",
    "            readable_dict[\"sched_vp_per_min_graph\"][\"subtitle\"],\n",
    "        )\n",
    "        .add_params(route_selector)\n",
    "        .transform_filter(route_selector)\n",
    "    )"
   ]
  },
  {
   "cell_type": "markdown",
   "id": "8b8fe38f-39a1-4e22-b6b8-938c298c714e",
   "metadata": {},
   "source": [
    "#### Spatial Accuracy"
   ]
  },
  {
   "cell_type": "code",
   "execution_count": null,
   "id": "57318cf3-1486-4c58-8407-f67d7c49e82f",
   "metadata": {},
   "outputs": [],
   "source": [
    "(\n",
    "        section2_utils.base_facet_with_ruler_chart(\n",
    "            all_day,\n",
    "            \"% VP within Scheduled Shape\",\n",
    "            \"ruler_100_pct\",\n",
    "            readable_dict[\"spatial_accuracy_graph\"][\"title\"],\n",
    "            readable_dict[\"spatial_accuracy_graph\"][\"subtitle\"],\n",
    "            color_dict[\"spatial_accuracy_domain\"],\n",
    "            color_dict[\"spatial_accuracy_range\"]\n",
    "        )\n",
    "        .add_params(route_selector)\n",
    "        .transform_filter(route_selector)\n",
    "    )"
   ]
  },
  {
   "cell_type": "markdown",
   "id": "103b335c-a6b5-4901-a3c5-a2cc7a2854a3",
   "metadata": {},
   "source": [
    "#### Text"
   ]
  },
  {
   "cell_type": "code",
   "execution_count": null,
   "id": "d4073864-f5cc-49e6-995b-f7afae023186",
   "metadata": {},
   "outputs": [],
   "source": [
    "(\n",
    "        (section2_utils.create_text_table(route_stats_df, 'Eastbound/Westbound'))\n",
    "        .add_params(route_selector)\n",
    "        .transform_filter(route_selector)\n",
    "    )"
   ]
  },
  {
   "cell_type": "markdown",
   "id": "fa647a96-120e-4e53-972b-e88125e4a104",
   "metadata": {},
   "source": [
    "### Why are there so many unknowns in the Cardinal Direction?\n",
    "* Because I need to clean up route names using [this script](https://github.com/cal-itp/data-analyses/blob/b1e5d4f870400251240eeba4a6515a0848e5d6f8/gtfs_funnel/clean_route_naming.py#L4)."
   ]
  },
  {
   "cell_type": "code",
   "execution_count": null,
   "id": "53d66632-0021-474c-8e82-52f5b55bc835",
   "metadata": {},
   "outputs": [],
   "source": [
    "stop"
   ]
  },
  {
   "cell_type": "code",
   "execution_count": null,
   "id": "282c0d6a-bb20-4662-848d-1f059f561e39",
   "metadata": {},
   "outputs": [],
   "source": [
    "gtfs_keys = list(sched_vp_df.schedule_gtfs_dataset_key.unique())"
   ]
  },
  {
   "cell_type": "code",
   "execution_count": null,
   "id": "19912bb2-63a5-4cf1-841a-307ad671ddcb",
   "metadata": {},
   "outputs": [],
   "source": [
    "date = section2_utils.load_most_current_date()"
   ]
  },
  {
   "cell_type": "code",
   "execution_count": null,
   "id": "cf146c20-f8bb-4f88-b123-15be1e7f22bd",
   "metadata": {},
   "outputs": [],
   "source": [
    "date"
   ]
  },
  {
   "cell_type": "code",
   "execution_count": null,
   "id": "0e0d73ea-d726-48bc-827e-1ce3fbddc57f",
   "metadata": {},
   "outputs": [],
   "source": [
    "all_dates_list = list(sched_vp_df.Date.unique())"
   ]
  },
  {
   "cell_type": "code",
   "execution_count": null,
   "id": "4a245bba-4e5e-40c2-9e67-cf1dfa1bde72",
   "metadata": {},
   "outputs": [],
   "source": [
    "# Need this line of code to turn dates into strings.\n",
    "all_dates_list = [np.datetime_as_string(date, unit=\"D\") for date in all_dates_list]"
   ]
  },
  {
   "cell_type": "markdown",
   "id": "4715bccf-237b-4296-8ae9-abe4c82d34e5",
   "metadata": {},
   "source": [
    "### Use more than one `schedule_gtfs_dataset_key` & date"
   ]
  },
  {
   "cell_type": "code",
   "execution_count": null,
   "id": "65f2d920-8cac-443e-bb2e-58fb0a481348",
   "metadata": {},
   "outputs": [],
   "source": [
    "def load_scheduled_stop_times(date: str, gtfs_schedule_key: list) -> pd.DataFrame:\n",
    "    stop_times_col = [\n",
    "        \"feed_key\",\n",
    "        \"stop_id\",\n",
    "        \"stop_sequence\",\n",
    "        \"schedule_gtfs_dataset_key\",\n",
    "        \"trip_instance_key\",\n",
    "        \"shape_array_key\",\n",
    "        \"stop_name\",\n",
    "        \"prior_stop_sequence\",\n",
    "        \"subseq_stop_sequence\",\n",
    "        \"stop_pair\",\n",
    "        \"stop_pair_name\",\n",
    "        \"stop_primary_direction\",\n",
    "        \"stop_meters\",\n",
    "    ]\n",
    "    stop_times_df = helpers.import_scheduled_stop_times(\n",
    "        date,\n",
    "        filters=[[(\"schedule_gtfs_dataset_key\", \"in\", gtfs_schedule_key)]],\n",
    "        columns=stop_times_col,\n",
    "        get_pandas=True,\n",
    "        with_direction=True,\n",
    "    ).assign(service_date=pd.to_datetime(date))\n",
    "\n",
    "    return stop_times_df"
   ]
  },
  {
   "cell_type": "code",
   "execution_count": null,
   "id": "606d8048-bf3a-41d1-adbe-44849ed3e40d",
   "metadata": {},
   "outputs": [],
   "source": [
    "def load_scheduled_trips(date: str, gtfs_schedule_key: list) -> pd.DataFrame:\n",
    "    scheduled_col = [\n",
    "        \"route_id\",\n",
    "        \"trip_instance_key\",\n",
    "        \"gtfs_dataset_key\",\n",
    "        \"shape_array_key\",\n",
    "        \"direction_id\",\n",
    "        \"route_long_name\",\n",
    "        \"route_short_name\",\n",
    "        \"route_desc\",\n",
    "        \"name\",\n",
    "    ]\n",
    "\n",
    "    scheduled_trips_df = helpers.import_scheduled_trips(\n",
    "        date,\n",
    "        filters=[[(\"gtfs_dataset_key\", \"in\", gtfs_schedule_key)]],\n",
    "        columns=scheduled_col,\n",
    "    ).assign(service_date=pd.to_datetime(date))\n",
    "\n",
    "    return scheduled_trips_df"
   ]
  },
  {
   "cell_type": "code",
   "execution_count": null,
   "id": "53cecf6c-0557-4e8a-813c-57bfb4d12fcb",
   "metadata": {},
   "outputs": [],
   "source": [
    "# test = load_scheduled_trips(all_dates_list[0],gtfs_keys)"
   ]
  },
  {
   "cell_type": "code",
   "execution_count": null,
   "id": "aef08ef3-f981-4e92-92db-018b7708ccb9",
   "metadata": {},
   "outputs": [],
   "source": [
    "def load_stack_all_dates(date_list: list, gtfs_schedule_keys: list) -> pd.DataFrame:\n",
    "    scheduled_stop_times_df = pd.DataFrame()\n",
    "    for i in date_list:\n",
    "        df = load_scheduled_stop_times(i, gtfs_schedule_keys)\n",
    "        scheduled_stop_times_df = pd.concat([scheduled_stop_times_df, df], axis=0)\n",
    "\n",
    "    scheduled_trips_df = pd.DataFrame()\n",
    "    for i in date_list:\n",
    "        df = load_scheduled_trips(i, gtfs_schedule_keys)\n",
    "        scheduled_trips_df = pd.concat([scheduled_trips_df, df], axis=0)\n",
    "\n",
    "    # Need to return scheduled_trips_df to find the most recent route id\n",
    "    return scheduled_stop_times_df, scheduled_trips_df"
   ]
  },
  {
   "cell_type": "code",
   "execution_count": null,
   "id": "22b07bb8-aa16-4fcf-9d9e-efcc5c33e32e",
   "metadata": {},
   "outputs": [],
   "source": [
    "# 10:18\n",
    "# m1, scheduled_trips_df = load_stack_all_dates(all_dates_list, gtfs_keys)"
   ]
  },
  {
   "cell_type": "code",
   "execution_count": null,
   "id": "e4515c60-977e-4ac8-a718-20acbe4ea459",
   "metadata": {},
   "outputs": [],
   "source": [
    "# len(m1)"
   ]
  },
  {
   "cell_type": "markdown",
   "id": "a71e22c4-1948-4b44-b1f8-9cb9ff1d19dd",
   "metadata": {},
   "source": [
    "### Aggregate\n",
    "* DO we want to aggregate by date? "
   ]
  },
  {
   "cell_type": "code",
   "execution_count": null,
   "id": "a8214042-f310-4d5e-9723-e748ef9e1e4a",
   "metadata": {},
   "outputs": [],
   "source": [
    "def find_most_common_dir(df: pd.DataFrame) -> pd.DataFrame:\n",
    "    # Count total stops\n",
    "    agg1 = (\n",
    "        df.groupby(\n",
    "            [\n",
    "                \"route_id\",\n",
    "                \"schedule_gtfs_dataset_key\",\n",
    "                \"direction_id\",\n",
    "                \"stop_primary_direction\",\n",
    "            ]\n",
    "        )\n",
    "        .agg({\"stop_sequence\": \"count\"})\n",
    "        .reset_index()\n",
    "        .rename(columns={\"stop_sequence\": \"total_stops\"})\n",
    "    )\n",
    "\n",
    "    # Sort and drop duplicates so that the\n",
    "    # largest # of stops by stop_primary_direction is at the top\n",
    "    agg2 = agg1.sort_values(\n",
    "        by=[\"route_id\", \"schedule_gtfs_dataset_key\", \"direction_id\", \"total_stops\"],\n",
    "        ascending=[True, True, True, False],\n",
    "    )\n",
    "\n",
    "    # Drop duplicates so only the top stop_primary_direction is kept.\n",
    "    agg3 = agg2.drop_duplicates(\n",
    "        subset=[\n",
    "            \"route_id\",\n",
    "            \"schedule_gtfs_dataset_key\",\n",
    "            \"direction_id\",\n",
    "        ]\n",
    "    ).reset_index(drop=True)\n",
    "\n",
    "    agg3 = agg3.drop(columns=[\"total_stops\"])\n",
    "    return agg3"
   ]
  },
  {
   "cell_type": "code",
   "execution_count": null,
   "id": "a29d25b6-d801-4f7a-b6c3-9ef3805aba32",
   "metadata": {},
   "outputs": [],
   "source": [
    "def find_most_recent_route_id(df: pd.DataFrame) -> pd.DataFrame:\n",
    "    df = df.assign(\n",
    "        route_id=df.route_id.fillna(\"\"),\n",
    "        route_short_name=df.route_short_name.fillna(\"\"),\n",
    "        route_long_name=df.route_long_name.fillna(\"\"),\n",
    "    )\n",
    "\n",
    "    df = df.assign(combined_name=df.route_short_name + \"__\" + df.route_long_name)\n",
    "\n",
    "    df = df.assign(\n",
    "        route_id2=df.apply(\n",
    "            lambda x: gtfs_schedule_wrangling.standardize_route_id(\n",
    "                x, \"name\", \"route_id\"\n",
    "            ),\n",
    "            axis=1,\n",
    "        )\n",
    "    )\n",
    "\n",
    "    route_cols = [\"schedule_gtfs_dataset_key\", \"name\", \"route_id2\"]\n",
    "\n",
    "    df2 = gtfs_schedule_wrangling.most_recent_route_info(\n",
    "        df, group_cols=route_cols, route_col=\"combined_name\"\n",
    "    ).pipe(\n",
    "        gtfs_schedule_wrangling.most_recent_route_info,\n",
    "        group_cols=[\"schedule_gtfs_dataset_key\", \"name\", \"recent_combined_name\"],\n",
    "        route_col=\"route_id2\",\n",
    "    )\n",
    "\n",
    "    sort_order = [True for c in route_cols]\n",
    "    df3 = (\n",
    "        df2.sort_values(route_cols + [\"service_date\"], ascending=sort_order + [False])\n",
    "        .drop_duplicates(subset=route_cols)\n",
    "        .rename(columns={\"combined_name\": \"recent_combined_name\"})\n",
    "    )\n",
    "\n",
    "    df3 = df3[[\"schedule_gtfs_dataset_key\", \"recent_route_id2\", \"route_id\"]]\n",
    "    return df3"
   ]
  },
  {
   "cell_type": "code",
   "execution_count": null,
   "id": "1241e99a-22d5-41bd-a7d1-9515ee356605",
   "metadata": {},
   "outputs": [],
   "source": [
    "# recent_id_df = find_most_recent_route_id(scheduled_trips_df)"
   ]
  },
  {
   "cell_type": "code",
   "execution_count": null,
   "id": "282ab38d-987b-4fcd-b4d7-1efb6a7f6f8e",
   "metadata": {},
   "outputs": [],
   "source": [
    "\"\"\"cardinal_dir_df2 = pd.merge(\n",
    "    recent_id_df,\n",
    "    cardinal_dir_df,\n",
    "    on=[\"schedule_gtfs_dataset_key\", \"route_id\"],\n",
    "    how=\"inner\",\n",
    ")\"\"\""
   ]
  },
  {
   "cell_type": "code",
   "execution_count": null,
   "id": "271b755e-60be-4eaf-b118-27fc61dd2e80",
   "metadata": {},
   "outputs": [],
   "source": [
    "\"\"\" sched_vp_df2 = pd.merge(\n",
    "    sched_vp_df,\n",
    "    cardinal_dir_df2.drop(columns=[\"route_id\"]),\n",
    "    left_on=[\"schedule_gtfs_dataset_key\", \"Direction\", \"Route ID\"],\n",
    "    right_on=[\n",
    "        \"schedule_gtfs_dataset_key\",\n",
    "        \"direction_id\",\n",
    "        \"recent_route_id2\",\n",
    "    ],\n",
    "    how=\"left\",\n",
    ")\"\"\""
   ]
  },
  {
   "cell_type": "code",
   "execution_count": null,
   "id": "5fcc9c58-5229-4bf1-a5d5-5bc420fbb407",
   "metadata": {},
   "outputs": [],
   "source": [
    "def find_cardinal_direction(date_list: list, gtfs_schedule_keys: list) -> pd.DataFrame:\n",
    "    # Grab all available dates for these dataframes\n",
    "    scheduled_stop_times_df, scheduled_trips_df = load_stack_all_dates(\n",
    "        date_list, gtfs_schedule_keys\n",
    "    )\n",
    "\n",
    "    # Merge them\n",
    "    m1 = pd.merge(\n",
    "        scheduled_trips_df,\n",
    "        scheduled_stop_times_df,\n",
    "        on=[\"trip_instance_key\", \"schedule_gtfs_dataset_key\", \"shape_array_key\"],\n",
    "        how=\"inner\",\n",
    "    )\n",
    "\n",
    "    # Find the most common direction for this Route ID\n",
    "    common_stops_df = find_most_common_dir(m1)\n",
    "\n",
    "    # Find the most recent Route ID to connect back to sched_vp_df\n",
    "    recent_ids_df = find_most_recent_route_id(scheduled_trips_df)\n",
    "\n",
    "    # Merge this\n",
    "    m2 = pd.merge(\n",
    "        common_stops_df,\n",
    "        recent_ids_df,\n",
    "        on=[\"schedule_gtfs_dataset_key\", \"route_id\"],\n",
    "        how=\"inner\",\n",
    "    )\n",
    "\n",
    "    m2 = m2.drop(columns=[\"route_id\"])\n",
    "    return m2"
   ]
  },
  {
   "cell_type": "code",
   "execution_count": null,
   "id": "3dad59ab-f628-4b55-b32c-3d457be75e6f",
   "metadata": {},
   "outputs": [],
   "source": [
    "cardinal_dir_df = find_cardinal_direction(all_dates_list, gtfs_keys)"
   ]
  },
  {
   "cell_type": "code",
   "execution_count": null,
   "id": "81d4db9f-b294-46e5-8ae6-9e4665ddc3de",
   "metadata": {},
   "outputs": [],
   "source": [
    "cardinal_dir_df.shape"
   ]
  },
  {
   "cell_type": "code",
   "execution_count": null,
   "id": "efe6ec6b-45d3-434e-86a8-17984f3c03f8",
   "metadata": {},
   "outputs": [],
   "source": [
    "cardinal_dir_df.head(2)"
   ]
  },
  {
   "cell_type": "markdown",
   "id": "afa6119f-d707-4d23-b192-351432f49046",
   "metadata": {},
   "source": [
    "#### Recode 1=East/West, 0=North/South"
   ]
  },
  {
   "cell_type": "code",
   "execution_count": null,
   "id": "1ce15cd0-b468-44c1-bee8-94e717be0add",
   "metadata": {},
   "outputs": [],
   "source": [
    "sched_vp_df.columns"
   ]
  },
  {
   "cell_type": "code",
   "execution_count": null,
   "id": "cd14dab0-a442-4b78-9250-91142e4043dd",
   "metadata": {},
   "outputs": [],
   "source": [
    "sched_vp_df2 = pd.merge(\n",
    "    sched_vp_df.drop(columns=[\"Cardinal Direction\"]),\n",
    "    cardinal_dir_df,\n",
    "    left_on=[\"schedule_gtfs_dataset_key\", \"Direction\", \"Route ID\"],\n",
    "    right_on=[\n",
    "        \"schedule_gtfs_dataset_key\",\n",
    "        \"direction_id\",\n",
    "        \"recent_route_id2\",\n",
    "    ],\n",
    "    how=\"left\",\n",
    ")"
   ]
  },
  {
   "cell_type": "code",
   "execution_count": null,
   "id": "e27b8a91-6f1f-4d84-be6a-9042f052cb83",
   "metadata": {},
   "outputs": [],
   "source": [
    "sched_vp_df2.columns"
   ]
  },
  {
   "cell_type": "code",
   "execution_count": null,
   "id": "697a3077-aa4b-4a23-91b6-dbf7ed684b9a",
   "metadata": {},
   "outputs": [],
   "source": [
    "def assign_cardinal_dir(row):\n",
    "    if row[\"Direction\"] == 0:\n",
    "        return \"Eastbound/Westbound\"\n",
    "    else:\n",
    "        return \"Northbound/Southbound\"\n",
    "\n",
    "\n",
    "# Apply the function\n",
    "sched_vp_df2[\"Cardinal Direction\"] = sched_vp_df2.apply(assign_cardinal_dir, axis=1)"
   ]
  },
  {
   "cell_type": "code",
   "execution_count": null,
   "id": "5c57d6b5-5cdc-44c8-9c8f-d17004efb13c",
   "metadata": {},
   "outputs": [],
   "source": [
    "sched_vp_df2 = sched_vp_df2.rename(\n",
    "    columns={\n",
    "        \"Direction\": \"Direction_filter\",\n",
    "        \"Cardinal Direction\": \"Direction\",\n",
    "        \"stop_primary_direction\": \"Specific Direction\",\n",
    "    }\n",
    ")"
   ]
  },
  {
   "cell_type": "code",
   "execution_count": null,
   "id": "6e3225d5-458b-42a1-aa05-99f14fc4926f",
   "metadata": {},
   "outputs": [],
   "source": [
    "sched_vp_df2.head(1)"
   ]
  },
  {
   "cell_type": "code",
   "execution_count": null,
   "id": "64e0db17-1b90-417a-9186-6d316e51d71a",
   "metadata": {},
   "outputs": [],
   "source": [
    "sched_vp_df2[\"Direction\"].value_counts()"
   ]
  },
  {
   "cell_type": "code",
   "execution_count": null,
   "id": "3027112a-54a2-43c7-b7a9-2cb10e415019",
   "metadata": {},
   "outputs": [],
   "source": [
    "sched_vp_df2[\"Direction\"].unique()"
   ]
  },
  {
   "cell_type": "code",
   "execution_count": null,
   "id": "6a8c8cc0-dffa-4f61-bb0a-8854bf26c84d",
   "metadata": {},
   "outputs": [],
   "source": [
    "section2_utils.filtered_route(sched_vp_df2)"
   ]
  },
  {
   "cell_type": "markdown",
   "id": "7356c330-86c5-4ea0-957d-d2bef6d5d5a4",
   "metadata": {
    "tags": []
   },
   "source": [
    "### Understanding `/gtfs_funnel/clean_route_naming.py` & grabbing the most recent `route_name` and `route_id`\n",
    "* https://github.com/cal-itp/data-analyses/blob/main/gtfs_funnel/clean_route_naming.py"
   ]
  },
  {
   "cell_type": "code",
   "execution_count": null,
   "id": "8cd0c149-23e7-40cc-aa93-8e5ecaaf5e66",
   "metadata": {},
   "outputs": [],
   "source": [
    "stop"
   ]
  },
  {
   "cell_type": "code",
   "execution_count": null,
   "id": "c2442233-46a6-4ba6-9a8b-4ec06b0fe5ed",
   "metadata": {},
   "outputs": [],
   "source": [
    "import sys\n",
    "\n",
    "sys.path.append(\"../gtfs_funnel\")\n",
    "import clean_route_naming"
   ]
  },
  {
   "cell_type": "markdown",
   "id": "1fd7f937-c864-4112-82b6-f2ba2bd67fa7",
   "metadata": {},
   "source": [
    "#### Breaking out `concatenate_routes_across_dates`\n",
    "* This would go into the `helpers.import_scheduled_trips` in my `merge_scheduled_stop_times` function."
   ]
  },
  {
   "cell_type": "code",
   "execution_count": null,
   "id": "8a3e277b-4146-48d5-95cf-1d67a7641ce3",
   "metadata": {},
   "outputs": [],
   "source": [
    "gtfs_funnel_scheduled_trips = pd.concat(\n",
    "    [\n",
    "        helpers.import_scheduled_trips(\n",
    "            analysis_date,\n",
    "            filters=[[(\"gtfs_dataset_key\", \"in\", gtfs_keys)]],\n",
    "            columns=[\n",
    "                \"route_id\",\n",
    "                \"trip_instance_key\",\n",
    "                \"gtfs_dataset_key\",\n",
    "                \"shape_array_key\",\n",
    "                \"direction_id\",\n",
    "                \"route_long_name\",\n",
    "                \"route_short_name\",\n",
    "                \"route_desc\",\n",
    "                \"name\",\n",
    "            ],\n",
    "            get_pandas=True,\n",
    "        ).assign(service_date=pd.to_datetime(analysis_date))\n",
    "        for analysis_date in all_dates_list\n",
    "    ],\n",
    "    axis=0,\n",
    "    ignore_index=True,\n",
    ")"
   ]
  },
  {
   "cell_type": "code",
   "execution_count": null,
   "id": "4db9c319-ffda-4b00-b244-b57fb20993c6",
   "metadata": {},
   "outputs": [],
   "source": [
    "gtfs_funnel_scheduled_trips = gtfs_funnel_scheduled_trips.assign(\n",
    "    route_id=gtfs_funnel_scheduled_trips.route_id.fillna(\"\"),\n",
    "    route_short_name=gtfs_funnel_scheduled_trips.route_short_name.fillna(\"\"),\n",
    "    route_long_name=gtfs_funnel_scheduled_trips.route_long_name.fillna(\"\"),\n",
    ")"
   ]
  },
  {
   "cell_type": "code",
   "execution_count": null,
   "id": "fa833bc7-2536-415f-b13c-55711186a01d",
   "metadata": {},
   "outputs": [],
   "source": [
    "gtfs_funnel_scheduled_trips = gtfs_funnel_scheduled_trips.assign(\n",
    "    combined_name=gtfs_funnel_scheduled_trips.route_short_name\n",
    "    + \"__\"\n",
    "    + gtfs_funnel_scheduled_trips.route_long_name\n",
    ")"
   ]
  },
  {
   "cell_type": "code",
   "execution_count": null,
   "id": "175298fc-c448-4ad0-b08f-69e96da2ac0c",
   "metadata": {},
   "outputs": [],
   "source": [
    "gtfs_funnel_scheduled_trips = gtfs_funnel_scheduled_trips.assign(\n",
    "    route_id2=gtfs_funnel_scheduled_trips.apply(\n",
    "        lambda x: gtfs_schedule_wrangling.standardize_route_id(x, \"name\", \"route_id\"),\n",
    "        axis=1,\n",
    "    )\n",
    ")"
   ]
  },
  {
   "cell_type": "code",
   "execution_count": null,
   "id": "b9869b69-29bd-4265-afbc-ef5d600edbf3",
   "metadata": {},
   "outputs": [],
   "source": [
    "gtfs_funnel_scheduled_trips.head(2)"
   ]
  },
  {
   "cell_type": "code",
   "execution_count": null,
   "id": "10aeb1c5-c592-45d8-81dd-68719fa034d9",
   "metadata": {},
   "outputs": [],
   "source": [
    "gtfs_funnel_scheduled_trips.shape"
   ]
  },
  {
   "cell_type": "markdown",
   "id": "db6be394-eb04-4ede-8a8f-01ad4803d954",
   "metadata": {},
   "source": [
    "#### `gtfs_schedule_wrangling.most_recent_route_info()`"
   ]
  },
  {
   "cell_type": "code",
   "execution_count": null,
   "id": "411a4910-4ecf-435f-8839-942a33201aa0",
   "metadata": {},
   "outputs": [],
   "source": [
    "route_cols = [\"schedule_gtfs_dataset_key\", \"name\", \"route_id2\"]"
   ]
  },
  {
   "cell_type": "code",
   "execution_count": null,
   "id": "64101145-181f-4200-9a8a-26c5fd8cb5c3",
   "metadata": {},
   "outputs": [],
   "source": [
    "df2 = gtfs_schedule_wrangling.most_recent_route_info(\n",
    "    gtfs_funnel_scheduled_trips, group_cols=route_cols, route_col=\"combined_name\"\n",
    ").pipe(\n",
    "    gtfs_schedule_wrangling.most_recent_route_info,\n",
    "    group_cols=[\"schedule_gtfs_dataset_key\", \"name\", \"recent_combined_name\"],\n",
    "    route_col=\"route_id2\",\n",
    ")"
   ]
  },
  {
   "cell_type": "code",
   "execution_count": null,
   "id": "dd9a78b7-ff21-44bf-bb1f-6d4eafc09a2a",
   "metadata": {
    "scrolled": true,
    "tags": []
   },
   "outputs": [],
   "source": [
    "gtfs_schedule_wrangling.most_recent_route_info??"
   ]
  },
  {
   "cell_type": "code",
   "execution_count": null,
   "id": "563e7370-2d17-43fb-a2c7-d9e4bbb8260b",
   "metadata": {},
   "outputs": [],
   "source": [
    "df2.shape"
   ]
  },
  {
   "cell_type": "code",
   "execution_count": null,
   "id": "881869ec-84cf-457c-be2f-84174eedc94b",
   "metadata": {},
   "outputs": [],
   "source": [
    "sort_order = [True for c in route_cols]"
   ]
  },
  {
   "cell_type": "code",
   "execution_count": null,
   "id": "716de43f-9d74-4960-bef2-43fa950dbb43",
   "metadata": {},
   "outputs": [],
   "source": [
    "most_recent = (\n",
    "    gtfs_funnel_scheduled_trips.sort_values(\n",
    "        route_cols + [\"service_date\"], ascending=sort_order + [False]\n",
    "    )\n",
    "    .drop_duplicates(subset=route_cols)\n",
    "    .rename(columns={\"combined_name\": \"recent_combined_name\"})\n",
    ")\n",
    "\n",
    "most_recent2 = (\n",
    "    most_recent.sort_values(\n",
    "        [\"schedule_gtfs_dataset_key\", \"name\", \"recent_combined_name\"]\n",
    "        + [\"service_date\"],\n",
    "        ascending=sort_order + [False],\n",
    "    )\n",
    "    .drop_duplicates(subset=route_cols)\n",
    "    .rename(columns={\"route_id2\": \"recent_route_id2\"})\n",
    ")"
   ]
  },
  {
   "cell_type": "code",
   "execution_count": null,
   "id": "b98ad0b8-f84b-49ae-aca9-554fe523f006",
   "metadata": {},
   "outputs": [],
   "source": [
    "most_recent.head(2)"
   ]
  },
  {
   "cell_type": "code",
   "execution_count": null,
   "id": "a1ab88b5-4a6b-4349-b28c-279b976938ae",
   "metadata": {},
   "outputs": [],
   "source": [
    "most_recent.shape, most_recent.recent_combined_name.nunique()"
   ]
  },
  {
   "cell_type": "code",
   "execution_count": null,
   "id": "3319d003-a649-41e9-a802-e7251fe5e2da",
   "metadata": {},
   "outputs": [],
   "source": [
    "most_recent2.head(2)"
   ]
  },
  {
   "cell_type": "code",
   "execution_count": null,
   "id": "cf014fdd-9484-494c-984e-7074162ab124",
   "metadata": {},
   "outputs": [],
   "source": [
    "most_recent2.shape, most_recent2.recent_route_id2.nunique()"
   ]
  },
  {
   "cell_type": "code",
   "execution_count": null,
   "id": "ee5a30fe-b803-4080-9b2e-f3cbf1847e13",
   "metadata": {},
   "outputs": [],
   "source": [
    "stop"
   ]
  },
  {
   "cell_type": "markdown",
   "id": "80d4369f-7c4f-45df-ac76-f86f7e2c89a9",
   "metadata": {},
   "source": [
    "### Test Merge w/ `sched_vp_df` w/ `standardized_route_ids.parquet`"
   ]
  },
  {
   "cell_type": "code",
   "execution_count": null,
   "id": "ab85b653-c6f1-498d-96ac-d23ab1b74239",
   "metadata": {},
   "outputs": [],
   "source": [
    "std_route_names = (\n",
    "    f\"{SCHED_GCS}{GTFS_DATA_DICT.schedule_tables.route_identification}.parquet\"\n",
    ")"
   ]
  },
  {
   "cell_type": "code",
   "execution_count": null,
   "id": "7866f015-89cf-43bb-b867-0b1e0dcd43ac",
   "metadata": {},
   "outputs": [],
   "source": [
    "# std_route_names_df = pd.read_parquet(std_route_names)"
   ]
  },
  {
   "cell_type": "code",
   "execution_count": null,
   "id": "78d7c613-9ea8-4cd9-91b4-29cd64131295",
   "metadata": {},
   "outputs": [],
   "source": [
    "# std_route_names_df = std_route_names_df.loc[\n",
    "#    std_route_names_df.schedule_gtfs_dataset_key.isin(gtfs_keys)\n",
    "# ]"
   ]
  },
  {
   "cell_type": "code",
   "execution_count": null,
   "id": "996c2e31-fad7-4d09-a30c-5f4652b51bbb",
   "metadata": {},
   "outputs": [],
   "source": [
    "# std_route_names_df.shape, std_route_names_df.route_id2.nunique(), std_route_names_df.recent_combined_name.nunique()"
   ]
  },
  {
   "cell_type": "code",
   "execution_count": null,
   "id": "e359ba0f-6f17-4055-aae2-34ca70d6a37b",
   "metadata": {},
   "outputs": [],
   "source": [
    "len(cardinal_dir_df)"
   ]
  },
  {
   "cell_type": "code",
   "execution_count": null,
   "id": "63d16217-97f1-4b11-94ca-1ae077b2085b",
   "metadata": {},
   "outputs": [],
   "source": [
    "# Delete out cols\n",
    "sched_vp_df = sched_vp_df.drop(columns=[\"Cardinal Direction\"])"
   ]
  },
  {
   "cell_type": "code",
   "execution_count": null,
   "id": "0dcda86e-b6d7-4855-bce9-65457effbdba",
   "metadata": {},
   "outputs": [],
   "source": [
    "sched_vp_df[\"Route ID\"].unique(), sched_vp_df[\"Route ID\"].nunique()"
   ]
  },
  {
   "cell_type": "code",
   "execution_count": null,
   "id": "0dc1d92d-364b-4f0e-aaf1-72423d7dd962",
   "metadata": {},
   "outputs": [],
   "source": [
    "most_recent2.recent_route_id2.unique(), most_recent2[\"recent_route_id2\"].nunique()"
   ]
  },
  {
   "cell_type": "markdown",
   "id": "2e36a559-ce83-4d36-80db-1f854b7c6d20",
   "metadata": {},
   "source": [
    "#### Seeing what are the best columns to match over for names."
   ]
  },
  {
   "cell_type": "code",
   "execution_count": null,
   "id": "d7eedc56-528d-47e0-bd69-107006f008d8",
   "metadata": {},
   "outputs": [],
   "source": [
    "routes3 = set(most_recent2.recent_route_id2.unique().tolist())"
   ]
  },
  {
   "cell_type": "code",
   "execution_count": null,
   "id": "c266b0f9-ef13-461b-802c-75846b11ff89",
   "metadata": {},
   "outputs": [],
   "source": [
    "most_recent2.columns"
   ]
  },
  {
   "cell_type": "code",
   "execution_count": null,
   "id": "e13bdc01-d112-496c-9126-7151bd41042e",
   "metadata": {},
   "outputs": [],
   "source": [
    "route_names1 = set(most_recent2.route_long_name.unique().tolist())"
   ]
  },
  {
   "cell_type": "code",
   "execution_count": null,
   "id": "2d2f5bde-10a3-4c98-b984-eba46d12cbcb",
   "metadata": {},
   "outputs": [],
   "source": [
    "route_names2 = set(sched_vp_df.route_long_name.unique().tolist())"
   ]
  },
  {
   "cell_type": "code",
   "execution_count": null,
   "id": "003f6ef8-a5ab-4a00-bf1c-8db6331cb622",
   "metadata": {},
   "outputs": [],
   "source": [
    "route_names2 - route_names1"
   ]
  },
  {
   "cell_type": "code",
   "execution_count": null,
   "id": "9989446c-0354-4cdb-ba44-cf6bcdd7d1b3",
   "metadata": {},
   "outputs": [],
   "source": [
    "route_names1 - route_names2"
   ]
  },
  {
   "cell_type": "code",
   "execution_count": null,
   "id": "6d3f541e-f0ee-46a3-b5fa-041cf0e45c60",
   "metadata": {},
   "outputs": [],
   "source": [
    "len(routes3)"
   ]
  },
  {
   "cell_type": "code",
   "execution_count": null,
   "id": "adf1e462-87ed-4749-99b7-099bf4c2c351",
   "metadata": {},
   "outputs": [],
   "source": [
    "routes4 = set(most_recent2.route_id.unique().tolist())"
   ]
  },
  {
   "cell_type": "code",
   "execution_count": null,
   "id": "7b88956d-a2b9-4e84-a4b6-97efd0dc2037",
   "metadata": {},
   "outputs": [],
   "source": [
    "len(routes1), len(routes3)"
   ]
  },
  {
   "cell_type": "code",
   "execution_count": null,
   "id": "502cab75-7f3c-41e0-8dd5-38c3c110cff7",
   "metadata": {
    "scrolled": true,
    "tags": []
   },
   "outputs": [],
   "source": [
    "routes3 - routes1"
   ]
  },
  {
   "cell_type": "code",
   "execution_count": null,
   "id": "9922f80f-ab7c-4834-867d-122a8dcb6ef8",
   "metadata": {
    "scrolled": true,
    "tags": []
   },
   "outputs": [],
   "source": [
    "routes1 - routes3"
   ]
  },
  {
   "cell_type": "markdown",
   "id": "cd57f612-97ed-4e76-9e95-50536e8809c9",
   "metadata": {},
   "source": [
    "### Merges"
   ]
  },
  {
   "cell_type": "code",
   "execution_count": null,
   "id": "4609cda2-15e9-4221-974c-4a0e4b8ebd94",
   "metadata": {},
   "outputs": [],
   "source": [
    "pd.merge(\n",
    "    most_recent2,\n",
    "    cardinal_dir_df,\n",
    "    left_on=\"recent_route_id2\",\n",
    "    right_on=\"route_id\",\n",
    "    how=\"left\",\n",
    "    indicator=True,\n",
    ")[[\"_merge\"]].value_counts()"
   ]
  },
  {
   "cell_type": "code",
   "execution_count": null,
   "id": "54afd0c2-1026-4742-b22e-170b0afa0ab2",
   "metadata": {},
   "outputs": [],
   "source": [
    "most_recent2.head(1)"
   ]
  },
  {
   "cell_type": "code",
   "execution_count": null,
   "id": "be748331-47b1-4dd4-8a4f-75d0332e1db5",
   "metadata": {},
   "outputs": [],
   "source": [
    "most_recent2.shape, most_recent2.route_id.nunique()"
   ]
  },
  {
   "cell_type": "code",
   "execution_count": null,
   "id": "f2da339c-454f-455b-b887-4d3d66e7578a",
   "metadata": {},
   "outputs": [],
   "source": [
    "pd.merge(most_recent2, cardinal_dir_df, on=[\"route_id\"], how=\"outer\", indicator=True)[\n",
    "    [\"_merge\"]\n",
    "].value_counts()"
   ]
  },
  {
   "cell_type": "code",
   "execution_count": null,
   "id": "f49bf91e-1dfb-424a-9194-495a59ffe9e3",
   "metadata": {},
   "outputs": [],
   "source": [
    "cardinal_dir_df2 = pd.merge(\n",
    "    most_recent2.drop(columns=[\"direction_id\"]),\n",
    "    cardinal_dir_df,\n",
    "    on=[\"schedule_gtfs_dataset_key\", \"route_id\"],\n",
    "    how=\"inner\",\n",
    ")"
   ]
  },
  {
   "cell_type": "code",
   "execution_count": null,
   "id": "da90f218-ad8e-41cb-bd91-0b39e3976f78",
   "metadata": {},
   "outputs": [],
   "source": [
    "cardinal_dir_df2.head(2)"
   ]
  },
  {
   "cell_type": "code",
   "execution_count": null,
   "id": "741fd976-a60a-43c9-969a-3cb8859b0cee",
   "metadata": {},
   "outputs": [],
   "source": [
    "cardinal_dir_df2.shape, cardinal_dir_df2.route_id.nunique()"
   ]
  },
  {
   "cell_type": "code",
   "execution_count": null,
   "id": "1213af74-2db7-4e73-8b29-d281373443c9",
   "metadata": {},
   "outputs": [],
   "source": [
    "pd.merge(\n",
    "    sched_vp_df,\n",
    "    cardinal_dir_df2,\n",
    "    left_on=[\"schedule_gtfs_dataset_key\", \"Direction\", \"Route ID\", \"route_long_name\"],\n",
    "    right_on=[\n",
    "        \"schedule_gtfs_dataset_key\",\n",
    "        \"direction_id\",\n",
    "        \"recent_route_id2\",\n",
    "        \"route_long_name\",\n",
    "    ],\n",
    "    how=\"left\",\n",
    "    indicator=True,\n",
    ")[[\"_merge\"]].value_counts()"
   ]
  },
  {
   "cell_type": "code",
   "execution_count": null,
   "id": "89fe2124-7678-4ecd-bc65-22798d265349",
   "metadata": {},
   "outputs": [],
   "source": [
    "pd.merge(\n",
    "    sched_vp_df,\n",
    "    cardinal_dir_df2,\n",
    "    left_on=[\"schedule_gtfs_dataset_key\", \"Direction\", \"Route ID\"],\n",
    "    right_on=[\n",
    "        \"schedule_gtfs_dataset_key\",\n",
    "        \"direction_id\",\n",
    "        \"recent_route_id2\",\n",
    "    ],\n",
    "    how=\"left\",\n",
    "    indicator=True,\n",
    ")[[\"_merge\"]].value_counts()"
   ]
  },
  {
   "cell_type": "code",
   "execution_count": null,
   "id": "4de601b1-661e-418d-940d-393d7116e90b",
   "metadata": {},
   "outputs": [],
   "source": [
    "len(sched_vp_df)"
   ]
  },
  {
   "cell_type": "markdown",
   "id": "217f38dd-872e-4a12-8b5b-346c62e7cba2",
   "metadata": {},
   "source": [
    "#### Merging on `route_id` and `route_long_name`"
   ]
  },
  {
   "cell_type": "code",
   "execution_count": null,
   "id": "3e8cca5d-b129-44e5-8263-5f834e7ef816",
   "metadata": {},
   "outputs": [],
   "source": [
    "m1 = pd.merge(\n",
    "    sched_vp_df,\n",
    "    cardinal_dir_df2,\n",
    "    left_on=[\"schedule_gtfs_dataset_key\", \"Direction\", \"Route ID\", \"route_long_name\"],\n",
    "    right_on=[\n",
    "        \"schedule_gtfs_dataset_key\",\n",
    "        \"direction_id\",\n",
    "        \"recent_route_id2\",\n",
    "        \"route_long_name\",\n",
    "    ],\n",
    "    how=\"left\",\n",
    ")"
   ]
  },
  {
   "cell_type": "code",
   "execution_count": null,
   "id": "6faebd9b-54af-4792-88aa-2332fc79284b",
   "metadata": {},
   "outputs": [],
   "source": [
    "m1.head(2)"
   ]
  },
  {
   "cell_type": "code",
   "execution_count": null,
   "id": "d2239729-5786-4732-ae84-ac3bb2870be6",
   "metadata": {},
   "outputs": [],
   "source": [
    "m1.stop_primary_direction = m1.stop_primary_direction.fillna(\"Unknown\")"
   ]
  },
  {
   "cell_type": "code",
   "execution_count": null,
   "id": "1496fb70-2f72-46ef-9c37-4397c0ed8fff",
   "metadata": {},
   "outputs": [],
   "source": [
    "m1.stop_primary_direction.value_counts()"
   ]
  },
  {
   "cell_type": "code",
   "execution_count": null,
   "id": "6e372745-8a0c-4cc2-ad8f-7c7dbe7f1d5c",
   "metadata": {},
   "outputs": [],
   "source": [
    "# Check which routes are always unknown\n",
    "# C & K Line Link (857)\n",
    "# Metro A Line (Blue)\n",
    "unknown_df = m1.groupby(\n",
    "    [\"Route ID\", \"route_long_name\", \"Date\", \"stop_primary_direction\"]\n",
    ").agg({\"Period\": \"count\"})"
   ]
  },
  {
   "cell_type": "code",
   "execution_count": null,
   "id": "af000f15-bd0c-4c58-81bb-10f7fc23a527",
   "metadata": {
    "scrolled": true,
    "tags": []
   },
   "outputs": [],
   "source": [
    "unknown_df"
   ]
  },
  {
   "cell_type": "markdown",
   "id": "ebe0b35a-4d08-44ab-8677-8a8b9dbc01ef",
   "metadata": {},
   "source": [
    "#### Merging on `route_id` ONLY."
   ]
  },
  {
   "cell_type": "code",
   "execution_count": null,
   "id": "6f174362-16e2-4cff-b2b1-84e48318f110",
   "metadata": {},
   "outputs": [],
   "source": [
    "m2 = pd.merge(\n",
    "    sched_vp_df,\n",
    "    cardinal_dir_df2,\n",
    "    left_on=[\"schedule_gtfs_dataset_key\", \"Direction\", \"Route ID\"],\n",
    "    right_on=[\n",
    "        \"schedule_gtfs_dataset_key\",\n",
    "        \"direction_id\",\n",
    "        \"recent_route_id2\",\n",
    "    ],\n",
    "    how=\"left\",\n",
    "    indicator=True,\n",
    ")"
   ]
  },
  {
   "cell_type": "code",
   "execution_count": null,
   "id": "ee61d166-468d-48bc-b117-8609cba3ed99",
   "metadata": {},
   "outputs": [],
   "source": [
    "m2.stop_primary_direction.value_counts()"
   ]
  }
 ],
 "metadata": {
  "kernelspec": {
   "display_name": "Python 3 (ipykernel)",
   "language": "python",
   "name": "python3"
  },
  "language_info": {
   "codemirror_mode": {
    "name": "ipython",
    "version": 3
   },
   "file_extension": ".py",
   "mimetype": "text/x-python",
   "name": "python",
   "nbconvert_exporter": "python",
   "pygments_lexer": "ipython3",
   "version": "3.9.13"
  }
 },
 "nbformat": 4,
 "nbformat_minor": 5
}
