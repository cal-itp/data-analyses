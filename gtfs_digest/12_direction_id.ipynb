{
 "cells": [
  {
   "cell_type": "markdown",
   "id": "d7dc2da2-d135-4f1a-bb94-8f2e68c14f5e",
   "metadata": {},
   "source": [
    "## Switch Direction 0/1 to Cardinal\n",
    "* direction_id -> cardinal direction. i want to use stop_times_with_direction and just count, by route-id/direction-id how many stops in each stop_primary_direction group. then whatever is pluraltiy, assign that.\n",
    "* you can take a look at the gtfs_analytics_catalog and find that file and just open it. the script to create it is in gtfs_funnel already, and you can see what that column means.\n",
    "* https://github.com/cal-itp/data-analyses/blob/main/_shared_utils/shared_utils/gtfs_analytics_data.yml\n",
    "* https://github.com/cal-itp/data-analyses/blob/main/gtfs_funnel/stop_times_with_direction.py\n"
   ]
  },
  {
   "cell_type": "code",
   "execution_count": 1,
   "id": "ea552b25-87a9-4ffb-b569-3b41b27c855a",
   "metadata": {},
   "outputs": [],
   "source": [
    "from datetime import datetime\n",
    "\n",
    "import _section2_utils as section2_utils\n",
    "import geopandas as gpd\n",
    "import numpy as np\n",
    "import pandas as pd\n",
    "from IPython.display import HTML, Image, Markdown, display, display_html\n",
    "from segment_speed_utils import gtfs_schedule_wrangling, helpers, time_series_utils\n",
    "from segment_speed_utils.project_vars import (\n",
    "    COMPILED_CACHED_VIEWS,\n",
    "    GTFS_DATA_DICT,\n",
    "    PROJECT_CRS,\n",
    "    RT_SCHED_GCS,\n",
    "    SCHED_GCS,\n",
    "    SEGMENT_GCS,\n",
    ")\n",
    "from shared_utils import catalog_utils, rt_dates, rt_utils"
   ]
  },
  {
   "cell_type": "code",
   "execution_count": 2,
   "id": "e49be70f-dcb7-4995-97e2-b4d7e24fe461",
   "metadata": {},
   "outputs": [],
   "source": [
    "pd.options.display.max_columns = 100\n",
    "pd.options.display.float_format = \"{:.2f}\".format\n",
    "pd.set_option(\"display.max_rows\", None)\n",
    "pd.set_option(\"display.max_colwidth\", None)"
   ]
  },
  {
   "cell_type": "code",
   "execution_count": 3,
   "id": "a5862bda-f374-417c-95c1-5deea0fb4f32",
   "metadata": {},
   "outputs": [],
   "source": [
    "org_name = \"City of Lawndale\""
   ]
  },
  {
   "cell_type": "code",
   "execution_count": 4,
   "id": "0705ee98-7cf9-4847-bd7f-5fef3b3e9257",
   "metadata": {},
   "outputs": [],
   "source": [
    "import altair as alt\n",
    "\n",
    "alt.data_transformers.enable(\"default\", max_rows=None)\n",
    "import _report_utils"
   ]
  },
  {
   "cell_type": "code",
   "execution_count": 5,
   "id": "880bafcc-4f66-44b6-ba4d-330b662f4e17",
   "metadata": {},
   "outputs": [],
   "source": [
    "# Data Dictionary\n",
    "GTFS_DATA_DICT = catalog_utils.get_catalog(\"gtfs_analytics_data\")\n",
    "import yaml\n",
    "\n",
    "with open(\"readable.yml\") as f:\n",
    "    readable_dict = yaml.safe_load(f)\n",
    "\n",
    "# Color Palette\n",
    "with open(\"color_palettes.yml\") as f:\n",
    "    color_dict = yaml.safe_load(f)"
   ]
  },
  {
   "cell_type": "markdown",
   "id": "99c5ef1a-aa68-4b2d-a357-1082a652e34f",
   "metadata": {},
   "source": [
    "### Check out a LA Metro route...Make sure that the directions are really correct."
   ]
  },
  {
   "cell_type": "code",
   "execution_count": 6,
   "id": "31d55032-bf8e-4e9a-b4b2-6759e66fed68",
   "metadata": {},
   "outputs": [],
   "source": [
    "la_metro_df= section2_utils.load_schedule_vp_metrics(org_name)"
   ]
  },
  {
   "cell_type": "code",
   "execution_count": 7,
   "id": "c1129d4d-b63c-40c1-a100-047a2deecfd1",
   "metadata": {},
   "outputs": [],
   "source": [
    "df = la_metro_df.copy()"
   ]
  },
  {
   "cell_type": "markdown",
   "id": "b4e96223-574b-4c20-aa22-a7cd892217c3",
   "metadata": {
    "tags": []
   },
   "source": [
    "### Charts Testing"
   ]
  },
  {
   "cell_type": "code",
   "execution_count": 8,
   "id": "a47e20d6-f564-4a01-a0b6-d30d927fd22b",
   "metadata": {},
   "outputs": [
    {
     "data": {
      "text/html": [
       "<div>\n",
       "<style scoped>\n",
       "    .dataframe tbody tr th:only-of-type {\n",
       "        vertical-align: middle;\n",
       "    }\n",
       "\n",
       "    .dataframe tbody tr th {\n",
       "        vertical-align: top;\n",
       "    }\n",
       "\n",
       "    .dataframe thead th {\n",
       "        text-align: right;\n",
       "    }\n",
       "</style>\n",
       "<table border=\"1\" class=\"dataframe\">\n",
       "  <thead>\n",
       "    <tr style=\"text-align: right;\">\n",
       "      <th></th>\n",
       "      <th>schedule_gtfs_dataset_key</th>\n",
       "      <th>dir_0_1</th>\n",
       "      <th>Period</th>\n",
       "      <th>Average Scheduled Service (trip minutes)</th>\n",
       "      <th>Average Stop Distance (miles)</th>\n",
       "      <th># scheduled trips</th>\n",
       "      <th>Trips per Hour</th>\n",
       "      <th>is_express</th>\n",
       "      <th>is_rapid</th>\n",
       "      <th>is_rail</th>\n",
       "      <th>is_coverage</th>\n",
       "      <th>is_downtown_local</th>\n",
       "      <th>is_local</th>\n",
       "      <th>Date</th>\n",
       "      <th>Route typology</th>\n",
       "      <th># Minutes with 1+ VP per Minute</th>\n",
       "      <th># Minutes with 2+ VP per Minute</th>\n",
       "      <th>Aggregate Actual Service Minutes</th>\n",
       "      <th>Aggregate Scheduled Service Minutes (all trips)</th>\n",
       "      <th># VP</th>\n",
       "      <th># VP within Scheduled Shape</th>\n",
       "      <th># Early Arrival Trips</th>\n",
       "      <th># On-Time Trips</th>\n",
       "      <th># Late Trips</th>\n",
       "      <th># Trips with VP</th>\n",
       "      <th>Average VP per Minute</th>\n",
       "      <th>% VP within Scheduled Shape</th>\n",
       "      <th>pct_rt_journey_atleast1_vp</th>\n",
       "      <th>pct_rt_journey_atleast2_vp</th>\n",
       "      <th>% Scheduled Trip w/ 1+ VP/Minute</th>\n",
       "      <th>% Scheduled Trip w/ 2+ VP/Minute</th>\n",
       "      <th>Realtime versus Scheduled Service Ratio</th>\n",
       "      <th>Average Actual Service (Trip Minutes)</th>\n",
       "      <th>GTFS Availability</th>\n",
       "      <th>Speed (MPH)</th>\n",
       "      <th>Transit Operator</th>\n",
       "      <th>route_long_name</th>\n",
       "      <th>route_short_name</th>\n",
       "      <th>Route</th>\n",
       "      <th>Route ID</th>\n",
       "      <th>schedule_source_record_id</th>\n",
       "      <th>Base64 Encoded Feed URL</th>\n",
       "      <th>Organization ID</th>\n",
       "      <th>Organization</th>\n",
       "      <th>District</th>\n",
       "      <th>ruler_100_pct</th>\n",
       "      <th>ruler_for_vp_per_min</th>\n",
       "      <th>frequency_in_minutes</th>\n",
       "      <th>direction_id</th>\n",
       "      <th>Direction</th>\n",
       "      <th>recent_route_id2</th>\n",
       "    </tr>\n",
       "  </thead>\n",
       "  <tbody>\n",
       "    <tr>\n",
       "      <th>0</th>\n",
       "      <td>09a703757d1ed14ca9580b1385e39315</td>\n",
       "      <td>0.00</td>\n",
       "      <td>all_day</td>\n",
       "      <td>49.00</td>\n",
       "      <td>0.24</td>\n",
       "      <td>14</td>\n",
       "      <td>0.58</td>\n",
       "      <td>0.00</td>\n",
       "      <td>0.00</td>\n",
       "      <td>0.00</td>\n",
       "      <td>1.00</td>\n",
       "      <td>1.00</td>\n",
       "      <td>0.00</td>\n",
       "      <td>2023-10-11</td>\n",
       "      <td>downtown_local</td>\n",
       "      <td>737</td>\n",
       "      <td>729</td>\n",
       "      <td>774.40</td>\n",
       "      <td>637.00</td>\n",
       "      <td>2180</td>\n",
       "      <td>2150</td>\n",
       "      <td>2</td>\n",
       "      <td>7</td>\n",
       "      <td>4</td>\n",
       "      <td>13</td>\n",
       "      <td>2.82</td>\n",
       "      <td>99.00</td>\n",
       "      <td>95.00</td>\n",
       "      <td>94.00</td>\n",
       "      <td>100.00</td>\n",
       "      <td>100.00</td>\n",
       "      <td>1.22</td>\n",
       "      <td>59.57</td>\n",
       "      <td>schedule_and_vp</td>\n",
       "      <td>9.46</td>\n",
       "      <td>Lawndale Beat GMV Schedule</td>\n",
       "      <td>Residential Route</td>\n",
       "      <td>Res</td>\n",
       "      <td>Residential Route</td>\n",
       "      <td>6116</td>\n",
       "      <td>recOFWnzS8spJsM1h</td>\n",
       "      <td>aHR0cHM6Ly9yaWRlbGF3bmRhbGViZWF0LmNvbS9ndGZz</td>\n",
       "      <td>recj8LXdeSurpSRNU</td>\n",
       "      <td>City of Lawndale</td>\n",
       "      <td>07 - Los Angeles</td>\n",
       "      <td>100</td>\n",
       "      <td>2</td>\n",
       "      <td>103.45</td>\n",
       "      <td>0.00</td>\n",
       "      <td>Southbound</td>\n",
       "      <td>6116</td>\n",
       "    </tr>\n",
       "  </tbody>\n",
       "</table>\n",
       "</div>"
      ],
      "text/plain": [
       "          schedule_gtfs_dataset_key  dir_0_1   Period  \\\n",
       "0  09a703757d1ed14ca9580b1385e39315     0.00  all_day   \n",
       "\n",
       "   Average Scheduled Service (trip minutes)  Average Stop Distance (miles)  \\\n",
       "0                                     49.00                           0.24   \n",
       "\n",
       "   # scheduled trips  Trips per Hour  is_express  is_rapid  is_rail  \\\n",
       "0                 14            0.58        0.00      0.00     0.00   \n",
       "\n",
       "   is_coverage  is_downtown_local  is_local       Date  Route typology  \\\n",
       "0         1.00               1.00      0.00 2023-10-11  downtown_local   \n",
       "\n",
       "   # Minutes with 1+ VP per Minute  # Minutes with 2+ VP per Minute  \\\n",
       "0                              737                              729   \n",
       "\n",
       "   Aggregate Actual Service Minutes  \\\n",
       "0                            774.40   \n",
       "\n",
       "   Aggregate Scheduled Service Minutes (all trips)  # VP  \\\n",
       "0                                           637.00  2180   \n",
       "\n",
       "   # VP within Scheduled Shape  # Early Arrival Trips  # On-Time Trips  \\\n",
       "0                         2150                      2                7   \n",
       "\n",
       "   # Late Trips  # Trips with VP  Average VP per Minute  \\\n",
       "0             4               13                   2.82   \n",
       "\n",
       "   % VP within Scheduled Shape  pct_rt_journey_atleast1_vp  \\\n",
       "0                        99.00                       95.00   \n",
       "\n",
       "   pct_rt_journey_atleast2_vp  % Scheduled Trip w/ 1+ VP/Minute  \\\n",
       "0                       94.00                            100.00   \n",
       "\n",
       "   % Scheduled Trip w/ 2+ VP/Minute  Realtime versus Scheduled Service Ratio  \\\n",
       "0                            100.00                                     1.22   \n",
       "\n",
       "   Average Actual Service (Trip Minutes) GTFS Availability  Speed (MPH)  \\\n",
       "0                                  59.57   schedule_and_vp         9.46   \n",
       "\n",
       "             Transit Operator    route_long_name route_short_name  \\\n",
       "0  Lawndale Beat GMV Schedule  Residential Route              Res   \n",
       "\n",
       "               Route Route ID schedule_source_record_id  \\\n",
       "0  Residential Route     6116         recOFWnzS8spJsM1h   \n",
       "\n",
       "                        Base64 Encoded Feed URL    Organization ID  \\\n",
       "0  aHR0cHM6Ly9yaWRlbGF3bmRhbGViZWF0LmNvbS9ndGZz  recj8LXdeSurpSRNU   \n",
       "\n",
       "       Organization          District  ruler_100_pct  ruler_for_vp_per_min  \\\n",
       "0  City of Lawndale  07 - Los Angeles            100                     2   \n",
       "\n",
       "   frequency_in_minutes  direction_id   Direction recent_route_id2  \n",
       "0                103.45          0.00  Southbound             6116  "
      ]
     },
     "execution_count": 8,
     "metadata": {},
     "output_type": "execute_result"
    }
   ],
   "source": [
    "df.head(1)"
   ]
  },
  {
   "cell_type": "code",
   "execution_count": 9,
   "id": "0d6dfb3f-2c82-4f60-8761-97643691cb28",
   "metadata": {},
   "outputs": [],
   "source": [
    "routes_list = df[\"Route\"].unique().tolist()\n",
    "\n",
    "route_dropdown = alt.binding_select(\n",
    "    options=routes_list,\n",
    "    name=\"Routes: \",\n",
    ")"
   ]
  },
  {
   "cell_type": "code",
   "execution_count": 10,
   "id": "96367d7f-39b1-4a5c-9c3b-72dbc6da4605",
   "metadata": {},
   "outputs": [],
   "source": [
    "xcol_param = alt.selection_point(\n",
    "    fields=[\"Route\"], value=routes_list[0], bind=route_dropdown\n",
    ")"
   ]
  },
  {
   "cell_type": "code",
   "execution_count": 11,
   "id": "5948366c-ac0e-4238-856c-5522420e4c6c",
   "metadata": {},
   "outputs": [],
   "source": [
    "all_day = df.loc[df[\"Period\"] == \"all_day\"].reset_index(drop=True)"
   ]
  },
  {
   "cell_type": "code",
   "execution_count": 12,
   "id": "1990abc9-7bfc-4fb5-9651-be633e8cb22f",
   "metadata": {},
   "outputs": [
    {
     "data": {
      "text/html": [
       "<div>\n",
       "<style scoped>\n",
       "    .dataframe tbody tr th:only-of-type {\n",
       "        vertical-align: middle;\n",
       "    }\n",
       "\n",
       "    .dataframe tbody tr th {\n",
       "        vertical-align: top;\n",
       "    }\n",
       "\n",
       "    .dataframe thead th {\n",
       "        text-align: right;\n",
       "    }\n",
       "</style>\n",
       "<table border=\"1\" class=\"dataframe\">\n",
       "  <thead>\n",
       "    <tr style=\"text-align: right;\">\n",
       "      <th></th>\n",
       "      <th>schedule_gtfs_dataset_key</th>\n",
       "      <th>dir_0_1</th>\n",
       "      <th>Period</th>\n",
       "      <th>Average Scheduled Service (trip minutes)</th>\n",
       "      <th>Average Stop Distance (miles)</th>\n",
       "      <th># scheduled trips</th>\n",
       "      <th>Trips per Hour</th>\n",
       "      <th>is_express</th>\n",
       "      <th>is_rapid</th>\n",
       "      <th>is_rail</th>\n",
       "      <th>is_coverage</th>\n",
       "      <th>is_downtown_local</th>\n",
       "      <th>is_local</th>\n",
       "      <th>Date</th>\n",
       "      <th>Route typology</th>\n",
       "      <th># Minutes with 1+ VP per Minute</th>\n",
       "      <th># Minutes with 2+ VP per Minute</th>\n",
       "      <th>Aggregate Actual Service Minutes</th>\n",
       "      <th>Aggregate Scheduled Service Minutes (all trips)</th>\n",
       "      <th># VP</th>\n",
       "      <th># VP within Scheduled Shape</th>\n",
       "      <th># Early Arrival Trips</th>\n",
       "      <th># On-Time Trips</th>\n",
       "      <th># Late Trips</th>\n",
       "      <th># Trips with VP</th>\n",
       "      <th>Average VP per Minute</th>\n",
       "      <th>% VP within Scheduled Shape</th>\n",
       "      <th>pct_rt_journey_atleast1_vp</th>\n",
       "      <th>pct_rt_journey_atleast2_vp</th>\n",
       "      <th>% Scheduled Trip w/ 1+ VP/Minute</th>\n",
       "      <th>% Scheduled Trip w/ 2+ VP/Minute</th>\n",
       "      <th>Realtime versus Scheduled Service Ratio</th>\n",
       "      <th>Average Actual Service (Trip Minutes)</th>\n",
       "      <th>GTFS Availability</th>\n",
       "      <th>Speed (MPH)</th>\n",
       "      <th>Transit Operator</th>\n",
       "      <th>route_long_name</th>\n",
       "      <th>route_short_name</th>\n",
       "      <th>Route</th>\n",
       "      <th>Route ID</th>\n",
       "      <th>schedule_source_record_id</th>\n",
       "      <th>Base64 Encoded Feed URL</th>\n",
       "      <th>Organization ID</th>\n",
       "      <th>Organization</th>\n",
       "      <th>District</th>\n",
       "      <th>ruler_100_pct</th>\n",
       "      <th>ruler_for_vp_per_min</th>\n",
       "      <th>frequency_in_minutes</th>\n",
       "      <th>direction_id</th>\n",
       "      <th>Direction</th>\n",
       "      <th>recent_route_id2</th>\n",
       "    </tr>\n",
       "  </thead>\n",
       "  <tbody>\n",
       "    <tr>\n",
       "      <th>0</th>\n",
       "      <td>09a703757d1ed14ca9580b1385e39315</td>\n",
       "      <td>0.00</td>\n",
       "      <td>all_day</td>\n",
       "      <td>49.00</td>\n",
       "      <td>0.24</td>\n",
       "      <td>14</td>\n",
       "      <td>0.58</td>\n",
       "      <td>0.00</td>\n",
       "      <td>0.00</td>\n",
       "      <td>0.00</td>\n",
       "      <td>1.00</td>\n",
       "      <td>1.00</td>\n",
       "      <td>0.00</td>\n",
       "      <td>2023-10-11</td>\n",
       "      <td>downtown_local</td>\n",
       "      <td>737</td>\n",
       "      <td>729</td>\n",
       "      <td>774.40</td>\n",
       "      <td>637.00</td>\n",
       "      <td>2180</td>\n",
       "      <td>2150</td>\n",
       "      <td>2</td>\n",
       "      <td>7</td>\n",
       "      <td>4</td>\n",
       "      <td>13</td>\n",
       "      <td>2.82</td>\n",
       "      <td>99.00</td>\n",
       "      <td>95.00</td>\n",
       "      <td>94.00</td>\n",
       "      <td>100.00</td>\n",
       "      <td>100.00</td>\n",
       "      <td>1.22</td>\n",
       "      <td>59.57</td>\n",
       "      <td>schedule_and_vp</td>\n",
       "      <td>9.46</td>\n",
       "      <td>Lawndale Beat GMV Schedule</td>\n",
       "      <td>Residential Route</td>\n",
       "      <td>Res</td>\n",
       "      <td>Residential Route</td>\n",
       "      <td>6116</td>\n",
       "      <td>recOFWnzS8spJsM1h</td>\n",
       "      <td>aHR0cHM6Ly9yaWRlbGF3bmRhbGViZWF0LmNvbS9ndGZz</td>\n",
       "      <td>recj8LXdeSurpSRNU</td>\n",
       "      <td>City of Lawndale</td>\n",
       "      <td>07 - Los Angeles</td>\n",
       "      <td>100</td>\n",
       "      <td>2</td>\n",
       "      <td>103.45</td>\n",
       "      <td>0.00</td>\n",
       "      <td>Southbound</td>\n",
       "      <td>6116</td>\n",
       "    </tr>\n",
       "  </tbody>\n",
       "</table>\n",
       "</div>"
      ],
      "text/plain": [
       "          schedule_gtfs_dataset_key  dir_0_1   Period  \\\n",
       "0  09a703757d1ed14ca9580b1385e39315     0.00  all_day   \n",
       "\n",
       "   Average Scheduled Service (trip minutes)  Average Stop Distance (miles)  \\\n",
       "0                                     49.00                           0.24   \n",
       "\n",
       "   # scheduled trips  Trips per Hour  is_express  is_rapid  is_rail  \\\n",
       "0                 14            0.58        0.00      0.00     0.00   \n",
       "\n",
       "   is_coverage  is_downtown_local  is_local       Date  Route typology  \\\n",
       "0         1.00               1.00      0.00 2023-10-11  downtown_local   \n",
       "\n",
       "   # Minutes with 1+ VP per Minute  # Minutes with 2+ VP per Minute  \\\n",
       "0                              737                              729   \n",
       "\n",
       "   Aggregate Actual Service Minutes  \\\n",
       "0                            774.40   \n",
       "\n",
       "   Aggregate Scheduled Service Minutes (all trips)  # VP  \\\n",
       "0                                           637.00  2180   \n",
       "\n",
       "   # VP within Scheduled Shape  # Early Arrival Trips  # On-Time Trips  \\\n",
       "0                         2150                      2                7   \n",
       "\n",
       "   # Late Trips  # Trips with VP  Average VP per Minute  \\\n",
       "0             4               13                   2.82   \n",
       "\n",
       "   % VP within Scheduled Shape  pct_rt_journey_atleast1_vp  \\\n",
       "0                        99.00                       95.00   \n",
       "\n",
       "   pct_rt_journey_atleast2_vp  % Scheduled Trip w/ 1+ VP/Minute  \\\n",
       "0                       94.00                            100.00   \n",
       "\n",
       "   % Scheduled Trip w/ 2+ VP/Minute  Realtime versus Scheduled Service Ratio  \\\n",
       "0                            100.00                                     1.22   \n",
       "\n",
       "   Average Actual Service (Trip Minutes) GTFS Availability  Speed (MPH)  \\\n",
       "0                                  59.57   schedule_and_vp         9.46   \n",
       "\n",
       "             Transit Operator    route_long_name route_short_name  \\\n",
       "0  Lawndale Beat GMV Schedule  Residential Route              Res   \n",
       "\n",
       "               Route Route ID schedule_source_record_id  \\\n",
       "0  Residential Route     6116         recOFWnzS8spJsM1h   \n",
       "\n",
       "                        Base64 Encoded Feed URL    Organization ID  \\\n",
       "0  aHR0cHM6Ly9yaWRlbGF3bmRhbGViZWF0LmNvbS9ndGZz  recj8LXdeSurpSRNU   \n",
       "\n",
       "       Organization          District  ruler_100_pct  ruler_for_vp_per_min  \\\n",
       "0  City of Lawndale  07 - Los Angeles            100                     2   \n",
       "\n",
       "   frequency_in_minutes  direction_id   Direction recent_route_id2  \n",
       "0                103.45          0.00  Southbound             6116  "
      ]
     },
     "execution_count": 12,
     "metadata": {},
     "output_type": "execute_result"
    }
   ],
   "source": [
    "all_day.head(1)"
   ]
  },
  {
   "cell_type": "code",
   "execution_count": 13,
   "id": "321111be-85cc-4093-a862-7284aef1d284",
   "metadata": {},
   "outputs": [],
   "source": [
    "route_stats_df = section2_utils.route_stats(df)"
   ]
  },
  {
   "cell_type": "code",
   "execution_count": 14,
   "id": "880c6b25-5c99-43f8-b19b-0410e8980ad2",
   "metadata": {},
   "outputs": [
    {
     "data": {
      "text/html": [
       "<div>\n",
       "<style scoped>\n",
       "    .dataframe tbody tr th:only-of-type {\n",
       "        vertical-align: middle;\n",
       "    }\n",
       "\n",
       "    .dataframe tbody tr th {\n",
       "        vertical-align: top;\n",
       "    }\n",
       "\n",
       "    .dataframe thead th {\n",
       "        text-align: right;\n",
       "    }\n",
       "</style>\n",
       "<table border=\"1\" class=\"dataframe\">\n",
       "  <thead>\n",
       "    <tr style=\"text-align: right;\">\n",
       "      <th></th>\n",
       "      <th>Route</th>\n",
       "      <th>Direction</th>\n",
       "      <th>Dir 0 1</th>\n",
       "      <th>Average Scheduled Service (Trip Minutes)</th>\n",
       "      <th>Average Stop Distance (Miles)</th>\n",
       "      <th># Scheduled Trips</th>\n",
       "      <th>Gtfs Availability</th>\n",
       "      <th>Peak Avg Speed</th>\n",
       "      <th>Peak Scheduled Trips</th>\n",
       "      <th>Peak Hourly Freq</th>\n",
       "      <th>Offpeak Avg Speed</th>\n",
       "      <th>Offpeak Scheduled Trips</th>\n",
       "      <th>Trips Per Hour</th>\n",
       "    </tr>\n",
       "  </thead>\n",
       "  <tbody>\n",
       "    <tr>\n",
       "      <th>0</th>\n",
       "      <td>Express Route</td>\n",
       "      <td>Southbound</td>\n",
       "      <td>0.00</td>\n",
       "      <td>35.00</td>\n",
       "      <td>0.27</td>\n",
       "      <td>16</td>\n",
       "      <td>schedule_and_vp</td>\n",
       "      <td>12.84</td>\n",
       "      <td>8</td>\n",
       "      <td>1.00</td>\n",
       "      <td>12.96</td>\n",
       "      <td>8</td>\n",
       "      <td>0.50</td>\n",
       "    </tr>\n",
       "    <tr>\n",
       "      <th>1</th>\n",
       "      <td>Residential Route</td>\n",
       "      <td>Southbound</td>\n",
       "      <td>0.00</td>\n",
       "      <td>49.00</td>\n",
       "      <td>0.24</td>\n",
       "      <td>14</td>\n",
       "      <td>schedule_and_vp</td>\n",
       "      <td>12.25</td>\n",
       "      <td>8</td>\n",
       "      <td>1.00</td>\n",
       "      <td>11.09</td>\n",
       "      <td>6</td>\n",
       "      <td>0.38</td>\n",
       "    </tr>\n",
       "  </tbody>\n",
       "</table>\n",
       "</div>"
      ],
      "text/plain": [
       "               Route   Direction  Dir 0 1  \\\n",
       "0      Express Route  Southbound     0.00   \n",
       "1  Residential Route  Southbound     0.00   \n",
       "\n",
       "   Average Scheduled Service (Trip Minutes)  Average Stop Distance (Miles)  \\\n",
       "0                                     35.00                           0.27   \n",
       "1                                     49.00                           0.24   \n",
       "\n",
       "   # Scheduled Trips Gtfs Availability  Peak Avg Speed  Peak Scheduled Trips  \\\n",
       "0                 16   schedule_and_vp           12.84                     8   \n",
       "1                 14   schedule_and_vp           12.25                     8   \n",
       "\n",
       "   Peak Hourly Freq  Offpeak Avg Speed  Offpeak Scheduled Trips  \\\n",
       "0              1.00              12.96                        8   \n",
       "1              1.00              11.09                        6   \n",
       "\n",
       "   Trips Per Hour  \n",
       "0            0.50  \n",
       "1            0.38  "
      ]
     },
     "execution_count": 14,
     "metadata": {},
     "output_type": "execute_result"
    }
   ],
   "source": [
    "route_stats_df.head(2)"
   ]
  },
  {
   "cell_type": "code",
   "execution_count": 15,
   "id": "a298a71a-285f-40cd-82ed-b7347fea12b3",
   "metadata": {},
   "outputs": [],
   "source": [
    "sched_journey_vp = section2_utils.pct_vp_journey(\n",
    "    all_day,\n",
    "    \"% Scheduled Trip w/ 1+ VP/Minute\",\n",
    "    \"% Scheduled Trip w/ 2+ VP/Minute\",\n",
    ")"
   ]
  },
  {
   "cell_type": "code",
   "execution_count": 16,
   "id": "9421dc15-7da1-4d4d-8f8a-69f76e0887da",
   "metadata": {},
   "outputs": [
    {
     "data": {
      "text/html": [
       "<div>\n",
       "<style scoped>\n",
       "    .dataframe tbody tr th:only-of-type {\n",
       "        vertical-align: middle;\n",
       "    }\n",
       "\n",
       "    .dataframe tbody tr th {\n",
       "        vertical-align: top;\n",
       "    }\n",
       "\n",
       "    .dataframe thead th {\n",
       "        text-align: right;\n",
       "    }\n",
       "</style>\n",
       "<table border=\"1\" class=\"dataframe\">\n",
       "  <thead>\n",
       "    <tr style=\"text-align: right;\">\n",
       "      <th></th>\n",
       "      <th>Date</th>\n",
       "      <th>Organization</th>\n",
       "      <th>Route</th>\n",
       "      <th>Direction</th>\n",
       "      <th>Period</th>\n",
       "      <th>ruler_100_pct</th>\n",
       "      <th>Category</th>\n",
       "      <th>% of Actual Trip Minutes</th>\n",
       "    </tr>\n",
       "  </thead>\n",
       "  <tbody>\n",
       "    <tr>\n",
       "      <th>0</th>\n",
       "      <td>2023-10-11</td>\n",
       "      <td>City of Lawndale</td>\n",
       "      <td>Residential Route</td>\n",
       "      <td>Southbound</td>\n",
       "      <td>all_day</td>\n",
       "      <td>100</td>\n",
       "      <td>% Scheduled Trip w/ 1+ VP/Minute</td>\n",
       "      <td>100.00</td>\n",
       "    </tr>\n",
       "    <tr>\n",
       "      <th>1</th>\n",
       "      <td>2023-11-15</td>\n",
       "      <td>City of Lawndale</td>\n",
       "      <td>Residential Route</td>\n",
       "      <td>Southbound</td>\n",
       "      <td>all_day</td>\n",
       "      <td>100</td>\n",
       "      <td>% Scheduled Trip w/ 1+ VP/Minute</td>\n",
       "      <td>100.00</td>\n",
       "    </tr>\n",
       "  </tbody>\n",
       "</table>\n",
       "</div>"
      ],
      "text/plain": [
       "        Date      Organization              Route   Direction   Period  \\\n",
       "0 2023-10-11  City of Lawndale  Residential Route  Southbound  all_day   \n",
       "1 2023-11-15  City of Lawndale  Residential Route  Southbound  all_day   \n",
       "\n",
       "   ruler_100_pct                          Category  % of Actual Trip Minutes  \n",
       "0            100  % Scheduled Trip w/ 1+ VP/Minute                    100.00  \n",
       "1            100  % Scheduled Trip w/ 1+ VP/Minute                    100.00  "
      ]
     },
     "execution_count": 16,
     "metadata": {},
     "output_type": "execute_result"
    }
   ],
   "source": [
    "sched_journey_vp.head(2)"
   ]
  },
  {
   "cell_type": "markdown",
   "id": "e6442d0a-778c-4b04-bce4-2987118c06eb",
   "metadata": {},
   "source": [
    "#### Avg Scheduled Min Graph"
   ]
  },
  {
   "cell_type": "code",
   "execution_count": 17,
   "id": "7787835d-7964-4e7f-8698-6039760db7d9",
   "metadata": {},
   "outputs": [
    {
     "data": {
      "text/html": [
       "\n",
       "<style>\n",
       "  #altair-viz-4551ee0c49254589ba9fdd0d97bc49ec.vega-embed {\n",
       "    width: 100%;\n",
       "    display: flex;\n",
       "  }\n",
       "\n",
       "  #altair-viz-4551ee0c49254589ba9fdd0d97bc49ec.vega-embed details,\n",
       "  #altair-viz-4551ee0c49254589ba9fdd0d97bc49ec.vega-embed details summary {\n",
       "    position: relative;\n",
       "  }\n",
       "</style>\n",
       "<div id=\"altair-viz-4551ee0c49254589ba9fdd0d97bc49ec\"></div>\n",
       "<script type=\"text/javascript\">\n",
       "  var VEGA_DEBUG = (typeof VEGA_DEBUG == \"undefined\") ? {} : VEGA_DEBUG;\n",
       "  (function(spec, embedOpt){\n",
       "    let outputDiv = document.currentScript.previousElementSibling;\n",
       "    if (outputDiv.id !== \"altair-viz-4551ee0c49254589ba9fdd0d97bc49ec\") {\n",
       "      outputDiv = document.getElementById(\"altair-viz-4551ee0c49254589ba9fdd0d97bc49ec\");\n",
       "    }\n",
       "    const paths = {\n",
       "      \"vega\": \"https://cdn.jsdelivr.net/npm/vega@5?noext\",\n",
       "      \"vega-lib\": \"https://cdn.jsdelivr.net/npm/vega-lib?noext\",\n",
       "      \"vega-lite\": \"https://cdn.jsdelivr.net/npm/vega-lite@5.17.0?noext\",\n",
       "      \"vega-embed\": \"https://cdn.jsdelivr.net/npm/vega-embed@6?noext\",\n",
       "    };\n",
       "\n",
       "    function maybeLoadScript(lib, version) {\n",
       "      var key = `${lib.replace(\"-\", \"\")}_version`;\n",
       "      return (VEGA_DEBUG[key] == version) ?\n",
       "        Promise.resolve(paths[lib]) :\n",
       "        new Promise(function(resolve, reject) {\n",
       "          var s = document.createElement('script');\n",
       "          document.getElementsByTagName(\"head\")[0].appendChild(s);\n",
       "          s.async = true;\n",
       "          s.onload = () => {\n",
       "            VEGA_DEBUG[key] = version;\n",
       "            return resolve(paths[lib]);\n",
       "          };\n",
       "          s.onerror = () => reject(`Error loading script: ${paths[lib]}`);\n",
       "          s.src = paths[lib];\n",
       "        });\n",
       "    }\n",
       "\n",
       "    function showError(err) {\n",
       "      outputDiv.innerHTML = `<div class=\"error\" style=\"color:red;\">${err}</div>`;\n",
       "      throw err;\n",
       "    }\n",
       "\n",
       "    function displayChart(vegaEmbed) {\n",
       "      vegaEmbed(outputDiv, spec, embedOpt)\n",
       "        .catch(err => showError(`Javascript Error: ${err.message}<br>This usually means there's a typo in your chart specification. See the javascript console for the full traceback.`));\n",
       "    }\n",
       "\n",
       "    if(typeof define === \"function\" && define.amd) {\n",
       "      requirejs.config({paths});\n",
       "      require([\"vega-embed\"], displayChart, err => showError(`Error loading script: ${err.message}`));\n",
       "    } else {\n",
       "      maybeLoadScript(\"vega\", \"5\")\n",
       "        .then(() => maybeLoadScript(\"vega-lite\", \"5.17.0\"))\n",
       "        .then(() => maybeLoadScript(\"vega-embed\", \"6\"))\n",
       "        .catch(showError)\n",
       "        .then(() => displayChart(vegaEmbed));\n",
       "    }\n",
       "  })({\"config\": {\"view\": {\"continuousWidth\": 300, \"continuousHeight\": 300}}, \"data\": {\"name\": \"data-6e32458effbfcc8f17a3092e830a670a\"}, \"mark\": {\"type\": \"bar\", \"size\": 10}, \"encoding\": {\"color\": {\"field\": \"Direction\", \"scale\": {\"range\": [\"#fde18d\", \"#49a2b2\", \"#3b56a4\"]}, \"title\": \"Direction\", \"type\": \"nominal\"}, \"tooltip\": [{\"field\": \"Period\", \"type\": \"nominal\"}, {\"field\": \"Route\", \"type\": \"nominal\"}, {\"field\": \"Organization\", \"type\": \"nominal\"}, {\"field\": \"Date\", \"type\": \"temporal\"}, {\"field\": \"Direction\", \"type\": \"nominal\"}, {\"field\": \"Direction\", \"type\": \"nominal\"}, {\"field\": \"Average Scheduled Service (trip minutes)\", \"type\": \"quantitative\"}], \"x\": {\"axis\": {\"format\": \"%b %Y\", \"labelAngle\": -45}, \"field\": \"Date\", \"timeUnit\": \"yearmonthdate\", \"title\": [\"Grouped by Direction ID\", \"Date\"], \"type\": \"ordinal\"}, \"xOffset\": {\"field\": \"Direction\", \"title\": \"Direction\", \"type\": \"nominal\"}, \"y\": {\"field\": \"Average Scheduled Service (trip minutes)\", \"title\": \"Average Scheduled Service (Trip Minutes)\", \"type\": \"quantitative\"}}, \"height\": 250, \"params\": [{\"name\": \"param_1\", \"select\": {\"type\": \"point\", \"fields\": [\"Route\"]}, \"bind\": {\"input\": \"select\", \"options\": [\"Residential Route\", \"Express Route\"], \"name\": \"Routes: \"}, \"value\": \"Residential Route\"}], \"title\": {\"text\": [\"Average Scheduled Minutes\"], \"subtitle\": [\"The average minutes a trip is scheduled to run in each direction.\"]}, \"transform\": [{\"filter\": {\"param\": \"param_1\"}}], \"width\": 400, \"$schema\": \"https://vega.github.io/schema/vega-lite/v5.17.0.json\", \"datasets\": {\"data-6e32458effbfcc8f17a3092e830a670a\": [{\"schedule_gtfs_dataset_key\": \"09a703757d1ed14ca9580b1385e39315\", \"dir_0_1\": 0.0, \"Period\": \"All Day\", \"Average Scheduled Service (trip minutes)\": 49, \"Average Stop Distance (miles)\": 0.24, \"# scheduled trips\": 14, \"Trips per Hour\": 0.58, \"is_express\": 0.0, \"is_rapid\": 0.0, \"is_rail\": 0.0, \"is_coverage\": 1.0, \"is_downtown_local\": 1.0, \"is_local\": 0.0, \"Date\": \"2023-10-11T00:00:00\", \"Route typology\": \"downtown_local\", \"# Minutes with 1+ VP per Minute\": 737, \"# Minutes with 2+ VP per Minute\": 729, \"Aggregate Actual Service Minutes\": 774.4, \"Aggregate Scheduled Service Minutes (all trips)\": 637.0, \"# VP\": 2180, \"# VP within Scheduled Shape\": 2150, \"# Early Arrival Trips\": 2, \"# On-Time Trips\": 7, \"# Late Trips\": 4, \"# Trips with VP\": 13, \"Average VP per Minute\": 2.82, \"% VP within Scheduled Shape\": 99.0, \"pct_rt_journey_atleast1_vp\": 95.0, \"pct_rt_journey_atleast2_vp\": 94.0, \"% Scheduled Trip w/ 1+ VP/Minute\": 100.0, \"% Scheduled Trip w/ 2+ VP/Minute\": 100.0, \"Realtime versus Scheduled Service Ratio\": 1.22, \"Average Actual Service (Trip Minutes)\": 59.57, \"GTFS Availability\": \"schedule_and_vp\", \"Speed (MPH)\": 9.46, \"Transit Operator\": \"Lawndale Beat GMV Schedule\", \"route_long_name\": \"Residential Route\", \"route_short_name\": \"Res\", \"Route\": \"Residential Route\", \"Route ID\": \"6116\", \"schedule_source_record_id\": \"recOFWnzS8spJsM1h\", \"Base64 Encoded Feed URL\": \"aHR0cHM6Ly9yaWRlbGF3bmRhbGViZWF0LmNvbS9ndGZz\", \"Organization ID\": \"recj8LXdeSurpSRNU\", \"Organization\": \"City of Lawndale\", \"District\": \"07 - Los Angeles\", \"ruler_100_pct\": 100, \"ruler_for_vp_per_min\": 2, \"frequency_in_minutes\": 103.44827586206897, \"direction_id\": 0.0, \"Direction\": \"Southbound\", \"recent_route_id2\": \"6116\", \"Average Scheduled Service (trip minutes)_str\": \"49\"}, {\"schedule_gtfs_dataset_key\": \"09a703757d1ed14ca9580b1385e39315\", \"dir_0_1\": 0.0, \"Period\": \"All Day\", \"Average Scheduled Service (trip minutes)\": 49, \"Average Stop Distance (miles)\": 0.24, \"# scheduled trips\": 14, \"Trips per Hour\": 0.58, \"is_express\": 0.0, \"is_rapid\": 0.0, \"is_rail\": 0.0, \"is_coverage\": 1.0, \"is_downtown_local\": 1.0, \"is_local\": 0.0, \"Date\": \"2023-11-15T00:00:00\", \"Route typology\": \"downtown_local\", \"# Minutes with 1+ VP per Minute\": 699, \"# Minutes with 2+ VP per Minute\": 690, \"Aggregate Actual Service Minutes\": 684.72, \"Aggregate Scheduled Service Minutes (all trips)\": 686.0, \"# VP\": 2066, \"# VP within Scheduled Shape\": 2046, \"# Early Arrival Trips\": 3, \"# On-Time Trips\": 8, \"# Late Trips\": 3, \"# Trips with VP\": 14, \"Average VP per Minute\": 3.02, \"% VP within Scheduled Shape\": 99.0, \"pct_rt_journey_atleast1_vp\": 100.0, \"pct_rt_journey_atleast2_vp\": 100.0, \"% Scheduled Trip w/ 1+ VP/Minute\": 100.0, \"% Scheduled Trip w/ 2+ VP/Minute\": 100.0, \"Realtime versus Scheduled Service Ratio\": 1.0, \"Average Actual Service (Trip Minutes)\": 48.91, \"GTFS Availability\": \"schedule_and_vp\", \"Speed (MPH)\": 11.77, \"Transit Operator\": \"Lawndale Beat GMV Schedule\", \"route_long_name\": \"Residential Route\", \"route_short_name\": \"Res\", \"Route\": \"Residential Route\", \"Route ID\": \"6116\", \"schedule_source_record_id\": \"recOFWnzS8spJsM1h\", \"Base64 Encoded Feed URL\": \"aHR0cHM6Ly9yaWRlbGF3bmRhbGViZWF0LmNvbS9ndGZz\", \"Organization ID\": \"recj8LXdeSurpSRNU\", \"Organization\": \"City of Lawndale\", \"District\": \"07 - Los Angeles\", \"ruler_100_pct\": 100, \"ruler_for_vp_per_min\": 2, \"frequency_in_minutes\": 103.44827586206897, \"direction_id\": 0.0, \"Direction\": \"Southbound\", \"recent_route_id2\": \"6116\", \"Average Scheduled Service (trip minutes)_str\": \"49\"}, {\"schedule_gtfs_dataset_key\": \"09a703757d1ed14ca9580b1385e39315\", \"dir_0_1\": 0.0, \"Period\": \"All Day\", \"Average Scheduled Service (trip minutes)\": 49, \"Average Stop Distance (miles)\": 0.24, \"# scheduled trips\": 14, \"Trips per Hour\": 0.58, \"is_express\": 0.0, \"is_rapid\": 0.0, \"is_rail\": 0.0, \"is_coverage\": 1.0, \"is_downtown_local\": 1.0, \"is_local\": 0.0, \"Date\": \"2023-12-13T00:00:00\", \"Route typology\": \"downtown_local\", \"# Minutes with 1+ VP per Minute\": 676, \"# Minutes with 2+ VP per Minute\": 663, \"Aggregate Actual Service Minutes\": 724.59, \"Aggregate Scheduled Service Minutes (all trips)\": 637.0, \"# VP\": 1984, \"# VP within Scheduled Shape\": 1965, \"# Early Arrival Trips\": 1, \"# On-Time Trips\": 9, \"# Late Trips\": 3, \"# Trips with VP\": 13, \"Average VP per Minute\": 2.74, \"% VP within Scheduled Shape\": 99.0, \"pct_rt_journey_atleast1_vp\": 93.0, \"pct_rt_journey_atleast2_vp\": 92.0, \"% Scheduled Trip w/ 1+ VP/Minute\": 100.0, \"% Scheduled Trip w/ 2+ VP/Minute\": 100.0, \"Realtime versus Scheduled Service Ratio\": 1.14, \"Average Actual Service (Trip Minutes)\": 55.74, \"GTFS Availability\": \"schedule_and_vp\", \"Speed (MPH)\": 10.86, \"Transit Operator\": \"Lawndale Beat GMV Schedule\", \"route_long_name\": \"Residential Route\", \"route_short_name\": \"Res\", \"Route\": \"Residential Route\", \"Route ID\": \"6116\", \"schedule_source_record_id\": \"recOFWnzS8spJsM1h\", \"Base64 Encoded Feed URL\": \"aHR0cHM6Ly9yaWRlbGF3bmRhbGViZWF0LmNvbS9ndGZz\", \"Organization ID\": \"recj8LXdeSurpSRNU\", \"Organization\": \"City of Lawndale\", \"District\": \"07 - Los Angeles\", \"ruler_100_pct\": 100, \"ruler_for_vp_per_min\": 2, \"frequency_in_minutes\": 103.44827586206897, \"direction_id\": 0.0, \"Direction\": \"Southbound\", \"recent_route_id2\": \"6116\", \"Average Scheduled Service (trip minutes)_str\": \"49\"}, {\"schedule_gtfs_dataset_key\": \"09a703757d1ed14ca9580b1385e39315\", \"dir_0_1\": 0.0, \"Period\": \"All Day\", \"Average Scheduled Service (trip minutes)\": 49, \"Average Stop Distance (miles)\": 0.24, \"# scheduled trips\": 14, \"Trips per Hour\": 0.58, \"is_express\": 0.0, \"is_rapid\": 0.0, \"is_rail\": 0.0, \"is_coverage\": 1.0, \"is_downtown_local\": 1.0, \"is_local\": 0.0, \"Date\": \"2024-01-17T00:00:00\", \"Route typology\": \"downtown_local\", \"# Minutes with 1+ VP per Minute\": 1037, \"# Minutes with 2+ VP per Minute\": 1021, \"Aggregate Actual Service Minutes\": 2352.34, \"Aggregate Scheduled Service Minutes (all trips)\": 686.0, \"# VP\": 3068, \"# VP within Scheduled Shape\": 2561, \"# Early Arrival Trips\": 0, \"# On-Time Trips\": 8, \"# Late Trips\": 6, \"# Trips with VP\": 14, \"Average VP per Minute\": 1.3, \"% VP within Scheduled Shape\": 84.0, \"pct_rt_journey_atleast1_vp\": 44.0, \"pct_rt_journey_atleast2_vp\": 43.0, \"% Scheduled Trip w/ 1+ VP/Minute\": 100.0, \"% Scheduled Trip w/ 2+ VP/Minute\": 100.0, \"Realtime versus Scheduled Service Ratio\": 3.43, \"Average Actual Service (Trip Minutes)\": 168.02, \"GTFS Availability\": \"schedule_and_vp\", \"Speed (MPH)\": 5.75, \"Transit Operator\": \"Lawndale Beat GMV Schedule\", \"route_long_name\": \"Residential Route\", \"route_short_name\": \"Res\", \"Route\": \"Residential Route\", \"Route ID\": \"6116\", \"schedule_source_record_id\": \"recOFWnzS8spJsM1h\", \"Base64 Encoded Feed URL\": \"aHR0cHM6Ly9yaWRlbGF3bmRhbGViZWF0LmNvbS9ndGZz\", \"Organization ID\": \"recj8LXdeSurpSRNU\", \"Organization\": \"City of Lawndale\", \"District\": \"07 - Los Angeles\", \"ruler_100_pct\": 100, \"ruler_for_vp_per_min\": 2, \"frequency_in_minutes\": 103.44827586206897, \"direction_id\": 0.0, \"Direction\": \"Southbound\", \"recent_route_id2\": \"6116\", \"Average Scheduled Service (trip minutes)_str\": \"49\"}, {\"schedule_gtfs_dataset_key\": \"09a703757d1ed14ca9580b1385e39315\", \"dir_0_1\": 0.0, \"Period\": \"All Day\", \"Average Scheduled Service (trip minutes)\": 49, \"Average Stop Distance (miles)\": 0.24, \"# scheduled trips\": 14, \"Trips per Hour\": 0.58, \"is_express\": 0.0, \"is_rapid\": 0.0, \"is_rail\": 0.0, \"is_coverage\": 1.0, \"is_downtown_local\": 1.0, \"is_local\": 0.0, \"Date\": \"2024-02-14T00:00:00\", \"Route typology\": \"downtown_local\", \"# Minutes with 1+ VP per Minute\": 754, \"# Minutes with 2+ VP per Minute\": 739, \"Aggregate Actual Service Minutes\": 738.69, \"Aggregate Scheduled Service Minutes (all trips)\": 686.0, \"# VP\": 2222, \"# VP within Scheduled Shape\": 2205, \"# Early Arrival Trips\": 0, \"# On-Time Trips\": 10, \"# Late Trips\": 4, \"# Trips with VP\": 14, \"Average VP per Minute\": 3.01, \"% VP within Scheduled Shape\": 99.0, \"pct_rt_journey_atleast1_vp\": 100.0, \"pct_rt_journey_atleast2_vp\": 100.0, \"% Scheduled Trip w/ 1+ VP/Minute\": 100.0, \"% Scheduled Trip w/ 2+ VP/Minute\": 100.0, \"Realtime versus Scheduled Service Ratio\": 1.08, \"Average Actual Service (Trip Minutes)\": 52.76, \"GTFS Availability\": \"schedule_and_vp\", \"Speed (MPH)\": 11.71, \"Transit Operator\": \"Lawndale Beat GMV Schedule\", \"route_long_name\": \"Residential Route\", \"route_short_name\": \"Res\", \"Route\": \"Residential Route\", \"Route ID\": \"6116\", \"schedule_source_record_id\": \"recOFWnzS8spJsM1h\", \"Base64 Encoded Feed URL\": \"aHR0cHM6Ly9yaWRlbGF3bmRhbGViZWF0LmNvbS9ndGZz\", \"Organization ID\": \"recj8LXdeSurpSRNU\", \"Organization\": \"City of Lawndale\", \"District\": \"07 - Los Angeles\", \"ruler_100_pct\": 100, \"ruler_for_vp_per_min\": 2, \"frequency_in_minutes\": 103.44827586206897, \"direction_id\": 0.0, \"Direction\": \"Southbound\", \"recent_route_id2\": \"6116\", \"Average Scheduled Service (trip minutes)_str\": \"49\"}, {\"schedule_gtfs_dataset_key\": \"09a703757d1ed14ca9580b1385e39315\", \"dir_0_1\": 0.0, \"Period\": \"All Day\", \"Average Scheduled Service (trip minutes)\": 49, \"Average Stop Distance (miles)\": 0.24, \"# scheduled trips\": 14, \"Trips per Hour\": 0.58, \"is_express\": 0.0, \"is_rapid\": 0.0, \"is_rail\": 0.0, \"is_coverage\": 1.0, \"is_downtown_local\": 1.0, \"is_local\": 0.0, \"Date\": \"2024-03-13T00:00:00\", \"Route typology\": \"downtown_local\", \"# Minutes with 1+ VP per Minute\": 711, \"# Minutes with 2+ VP per Minute\": 695, \"Aggregate Actual Service Minutes\": 734.61, \"Aggregate Scheduled Service Minutes (all trips)\": 686.0, \"# VP\": 2066, \"# VP within Scheduled Shape\": 2035, \"# Early Arrival Trips\": 3, \"# On-Time Trips\": 7, \"# Late Trips\": 4, \"# Trips with VP\": 14, \"Average VP per Minute\": 2.81, \"% VP within Scheduled Shape\": 98.0, \"pct_rt_journey_atleast1_vp\": 97.0, \"pct_rt_journey_atleast2_vp\": 95.0, \"% Scheduled Trip w/ 1+ VP/Minute\": 100.0, \"% Scheduled Trip w/ 2+ VP/Minute\": 100.0, \"Realtime versus Scheduled Service Ratio\": 1.07, \"Average Actual Service (Trip Minutes)\": 52.47, \"GTFS Availability\": \"schedule_and_vp\", \"Speed (MPH)\": 11.74, \"Transit Operator\": \"Lawndale Beat GMV Schedule\", \"route_long_name\": \"Residential Route\", \"route_short_name\": \"Res\", \"Route\": \"Residential Route\", \"Route ID\": \"6116\", \"schedule_source_record_id\": \"recOFWnzS8spJsM1h\", \"Base64 Encoded Feed URL\": \"aHR0cHM6Ly9yaWRlbGF3bmRhbGViZWF0LmNvbS9ndGZz\", \"Organization ID\": \"recj8LXdeSurpSRNU\", \"Organization\": \"City of Lawndale\", \"District\": \"07 - Los Angeles\", \"ruler_100_pct\": 100, \"ruler_for_vp_per_min\": 2, \"frequency_in_minutes\": 103.44827586206897, \"direction_id\": 0.0, \"Direction\": \"Southbound\", \"recent_route_id2\": \"6116\", \"Average Scheduled Service (trip minutes)_str\": \"49\"}, {\"schedule_gtfs_dataset_key\": \"09a703757d1ed14ca9580b1385e39315\", \"dir_0_1\": 0.0, \"Period\": \"All Day\", \"Average Scheduled Service (trip minutes)\": 35, \"Average Stop Distance (miles)\": 0.27, \"# scheduled trips\": 16, \"Trips per Hour\": 0.67, \"is_express\": 1.0, \"is_rapid\": 0.0, \"is_rail\": 0.0, \"is_coverage\": 0.0, \"is_downtown_local\": 1.0, \"is_local\": 0.0, \"Date\": \"2023-10-11T00:00:00\", \"Route typology\": \"express\", \"# Minutes with 1+ VP per Minute\": 274, \"# Minutes with 2+ VP per Minute\": 272, \"Aggregate Actual Service Minutes\": 269.71, \"Aggregate Scheduled Service Minutes (all trips)\": 210.0, \"# VP\": 815, \"# VP within Scheduled Shape\": 806, \"# Early Arrival Trips\": 0, \"# On-Time Trips\": 4, \"# Late Trips\": 2, \"# Trips with VP\": 6, \"Average VP per Minute\": 3.02, \"% VP within Scheduled Shape\": 99.0, \"pct_rt_journey_atleast1_vp\": 100.0, \"pct_rt_journey_atleast2_vp\": 100.0, \"% Scheduled Trip w/ 1+ VP/Minute\": 100.0, \"% Scheduled Trip w/ 2+ VP/Minute\": 100.0, \"Realtime versus Scheduled Service Ratio\": 1.28, \"Average Actual Service (Trip Minutes)\": 44.95, \"GTFS Availability\": \"schedule_and_vp\", \"Speed (MPH)\": 11.49, \"Transit Operator\": \"Lawndale Beat GMV Schedule\", \"route_long_name\": \"Express Route\", \"route_short_name\": \"EX\", \"Route\": \"Express Route\", \"Route ID\": \"6117\", \"schedule_source_record_id\": \"recOFWnzS8spJsM1h\", \"Base64 Encoded Feed URL\": \"aHR0cHM6Ly9yaWRlbGF3bmRhbGViZWF0LmNvbS9ndGZz\", \"Organization ID\": \"recj8LXdeSurpSRNU\", \"Organization\": \"City of Lawndale\", \"District\": \"07 - Los Angeles\", \"ruler_100_pct\": 100, \"ruler_for_vp_per_min\": 2, \"frequency_in_minutes\": 89.55223880597015, \"direction_id\": 0.0, \"Direction\": \"Southbound\", \"recent_route_id2\": \"6117\", \"Average Scheduled Service (trip minutes)_str\": \"35\"}, {\"schedule_gtfs_dataset_key\": \"09a703757d1ed14ca9580b1385e39315\", \"dir_0_1\": 0.0, \"Period\": \"All Day\", \"Average Scheduled Service (trip minutes)\": 35, \"Average Stop Distance (miles)\": 0.27, \"# scheduled trips\": 16, \"Trips per Hour\": 0.67, \"is_express\": 1.0, \"is_rapid\": 0.0, \"is_rail\": 0.0, \"is_coverage\": 0.0, \"is_downtown_local\": 1.0, \"is_local\": 0.0, \"Date\": \"2023-11-15T00:00:00\", \"Route typology\": \"express\", \"# Minutes with 1+ VP per Minute\": 27, \"# Minutes with 2+ VP per Minute\": 24, \"Aggregate Actual Service Minutes\": 95.63, \"Aggregate Scheduled Service Minutes (all trips)\": 35.0, \"# VP\": 74, \"# VP within Scheduled Shape\": 71, \"# Early Arrival Trips\": 0, \"# On-Time Trips\": 0, \"# Late Trips\": 1, \"# Trips with VP\": 1, \"Average VP per Minute\": 0.77, \"% VP within Scheduled Shape\": 96.0, \"pct_rt_journey_atleast1_vp\": 28.000000000000004, \"pct_rt_journey_atleast2_vp\": 25.0, \"% Scheduled Trip w/ 1+ VP/Minute\": 77.0, \"% Scheduled Trip w/ 2+ VP/Minute\": 69.0, \"Realtime versus Scheduled Service Ratio\": 2.73, \"Average Actual Service (Trip Minutes)\": 95.63, \"GTFS Availability\": \"schedule_and_vp\", \"Speed (MPH)\": null, \"Transit Operator\": \"Lawndale Beat GMV Schedule\", \"route_long_name\": \"Express Route\", \"route_short_name\": \"EX\", \"Route\": \"Express Route\", \"Route ID\": \"6117\", \"schedule_source_record_id\": \"recOFWnzS8spJsM1h\", \"Base64 Encoded Feed URL\": \"aHR0cHM6Ly9yaWRlbGF3bmRhbGViZWF0LmNvbS9ndGZz\", \"Organization ID\": \"recj8LXdeSurpSRNU\", \"Organization\": \"City of Lawndale\", \"District\": \"07 - Los Angeles\", \"ruler_100_pct\": 100, \"ruler_for_vp_per_min\": 2, \"frequency_in_minutes\": 89.55223880597015, \"direction_id\": 0.0, \"Direction\": \"Southbound\", \"recent_route_id2\": \"6117\", \"Average Scheduled Service (trip minutes)_str\": \"35\"}, {\"schedule_gtfs_dataset_key\": \"09a703757d1ed14ca9580b1385e39315\", \"dir_0_1\": 0.0, \"Period\": \"All Day\", \"Average Scheduled Service (trip minutes)\": 35, \"Average Stop Distance (miles)\": 0.27, \"# scheduled trips\": 16, \"Trips per Hour\": 0.67, \"is_express\": 1.0, \"is_rapid\": 0.0, \"is_rail\": 0.0, \"is_coverage\": 0.0, \"is_downtown_local\": 1.0, \"is_local\": 0.0, \"Date\": \"2023-12-13T00:00:00\", \"Route typology\": \"express\", \"# Minutes with 1+ VP per Minute\": 750, \"# Minutes with 2+ VP per Minute\": 738, \"Aggregate Actual Service Minutes\": 1469.17, \"Aggregate Scheduled Service Minutes (all trips)\": 420.0, \"# VP\": 2215, \"# VP within Scheduled Shape\": 2003, \"# Early Arrival Trips\": 1, \"# On-Time Trips\": 2, \"# Late Trips\": 9, \"# Trips with VP\": 12, \"Average VP per Minute\": 1.51, \"% VP within Scheduled Shape\": 90.0, \"pct_rt_journey_atleast1_vp\": 51.0, \"pct_rt_journey_atleast2_vp\": 50.0, \"% Scheduled Trip w/ 1+ VP/Minute\": 100.0, \"% Scheduled Trip w/ 2+ VP/Minute\": 100.0, \"Realtime versus Scheduled Service Ratio\": 3.5, \"Average Actual Service (Trip Minutes)\": 122.43, \"GTFS Availability\": \"schedule_and_vp\", \"Speed (MPH)\": 9.58, \"Transit Operator\": \"Lawndale Beat GMV Schedule\", \"route_long_name\": \"Express Route\", \"route_short_name\": \"EX\", \"Route\": \"Express Route\", \"Route ID\": \"6117\", \"schedule_source_record_id\": \"recOFWnzS8spJsM1h\", \"Base64 Encoded Feed URL\": \"aHR0cHM6Ly9yaWRlbGF3bmRhbGViZWF0LmNvbS9ndGZz\", \"Organization ID\": \"recj8LXdeSurpSRNU\", \"Organization\": \"City of Lawndale\", \"District\": \"07 - Los Angeles\", \"ruler_100_pct\": 100, \"ruler_for_vp_per_min\": 2, \"frequency_in_minutes\": 89.55223880597015, \"direction_id\": 0.0, \"Direction\": \"Southbound\", \"recent_route_id2\": \"6117\", \"Average Scheduled Service (trip minutes)_str\": \"35\"}, {\"schedule_gtfs_dataset_key\": \"09a703757d1ed14ca9580b1385e39315\", \"dir_0_1\": 0.0, \"Period\": \"All Day\", \"Average Scheduled Service (trip minutes)\": 35, \"Average Stop Distance (miles)\": 0.27, \"# scheduled trips\": 16, \"Trips per Hour\": 0.67, \"is_express\": 1.0, \"is_rapid\": 0.0, \"is_rail\": 0.0, \"is_coverage\": 0.0, \"is_downtown_local\": 1.0, \"is_local\": 0.0, \"Date\": \"2024-01-17T00:00:00\", \"Route typology\": \"express\", \"# Minutes with 1+ VP per Minute\": 394, \"# Minutes with 2+ VP per Minute\": 385, \"Aggregate Actual Service Minutes\": 401.54, \"Aggregate Scheduled Service Minutes (all trips)\": 315.0, \"# VP\": 1151, \"# VP within Scheduled Shape\": 1151, \"# Early Arrival Trips\": 0, \"# On-Time Trips\": 5, \"# Late Trips\": 4, \"# Trips with VP\": 9, \"Average VP per Minute\": 2.87, \"% VP within Scheduled Shape\": 100.0, \"pct_rt_journey_atleast1_vp\": 98.0, \"pct_rt_journey_atleast2_vp\": 96.0, \"% Scheduled Trip w/ 1+ VP/Minute\": 100.0, \"% Scheduled Trip w/ 2+ VP/Minute\": 100.0, \"Realtime versus Scheduled Service Ratio\": 1.27, \"Average Actual Service (Trip Minutes)\": 44.62, \"GTFS Availability\": \"schedule_and_vp\", \"Speed (MPH)\": 8.96, \"Transit Operator\": \"Lawndale Beat GMV Schedule\", \"route_long_name\": \"Express Route\", \"route_short_name\": \"EX\", \"Route\": \"Express Route\", \"Route ID\": \"6117\", \"schedule_source_record_id\": \"recOFWnzS8spJsM1h\", \"Base64 Encoded Feed URL\": \"aHR0cHM6Ly9yaWRlbGF3bmRhbGViZWF0LmNvbS9ndGZz\", \"Organization ID\": \"recj8LXdeSurpSRNU\", \"Organization\": \"City of Lawndale\", \"District\": \"07 - Los Angeles\", \"ruler_100_pct\": 100, \"ruler_for_vp_per_min\": 2, \"frequency_in_minutes\": 89.55223880597015, \"direction_id\": 0.0, \"Direction\": \"Southbound\", \"recent_route_id2\": \"6117\", \"Average Scheduled Service (trip minutes)_str\": \"35\"}, {\"schedule_gtfs_dataset_key\": \"09a703757d1ed14ca9580b1385e39315\", \"dir_0_1\": 0.0, \"Period\": \"All Day\", \"Average Scheduled Service (trip minutes)\": 35, \"Average Stop Distance (miles)\": 0.27, \"# scheduled trips\": 16, \"Trips per Hour\": 0.67, \"is_express\": 1.0, \"is_rapid\": 0.0, \"is_rail\": 0.0, \"is_coverage\": 0.0, \"is_downtown_local\": 1.0, \"is_local\": 0.0, \"Date\": \"2024-02-14T00:00:00\", \"Route typology\": \"express\", \"# Minutes with 1+ VP per Minute\": 290, \"# Minutes with 2+ VP per Minute\": 285, \"Aggregate Actual Service Minutes\": 286.24, \"Aggregate Scheduled Service Minutes (all trips)\": 175.0, \"# VP\": 855, \"# VP within Scheduled Shape\": 855, \"# Early Arrival Trips\": 1, \"# On-Time Trips\": 0, \"# Late Trips\": 4, \"# Trips with VP\": 5, \"Average VP per Minute\": 2.99, \"% VP within Scheduled Shape\": 100.0, \"pct_rt_journey_atleast1_vp\": 100.0, \"pct_rt_journey_atleast2_vp\": 100.0, \"% Scheduled Trip w/ 1+ VP/Minute\": 100.0, \"% Scheduled Trip w/ 2+ VP/Minute\": 100.0, \"Realtime versus Scheduled Service Ratio\": 1.64, \"Average Actual Service (Trip Minutes)\": 57.25, \"GTFS Availability\": \"schedule_and_vp\", \"Speed (MPH)\": 5.83, \"Transit Operator\": \"Lawndale Beat GMV Schedule\", \"route_long_name\": \"Express Route\", \"route_short_name\": \"EX\", \"Route\": \"Express Route\", \"Route ID\": \"6117\", \"schedule_source_record_id\": \"recOFWnzS8spJsM1h\", \"Base64 Encoded Feed URL\": \"aHR0cHM6Ly9yaWRlbGF3bmRhbGViZWF0LmNvbS9ndGZz\", \"Organization ID\": \"recj8LXdeSurpSRNU\", \"Organization\": \"City of Lawndale\", \"District\": \"07 - Los Angeles\", \"ruler_100_pct\": 100, \"ruler_for_vp_per_min\": 2, \"frequency_in_minutes\": 89.55223880597015, \"direction_id\": 0.0, \"Direction\": \"Southbound\", \"recent_route_id2\": \"6117\", \"Average Scheduled Service (trip minutes)_str\": \"35\"}, {\"schedule_gtfs_dataset_key\": \"09a703757d1ed14ca9580b1385e39315\", \"dir_0_1\": 0.0, \"Period\": \"All Day\", \"Average Scheduled Service (trip minutes)\": 35, \"Average Stop Distance (miles)\": 0.27, \"# scheduled trips\": 16, \"Trips per Hour\": 0.67, \"is_express\": 1.0, \"is_rapid\": 0.0, \"is_rail\": 0.0, \"is_coverage\": 0.0, \"is_downtown_local\": 1.0, \"is_local\": 0.0, \"Date\": \"2024-03-13T00:00:00\", \"Route typology\": \"express\", \"# Minutes with 1+ VP per Minute\": 688, \"# Minutes with 2+ VP per Minute\": 679, \"Aggregate Actual Service Minutes\": 675.43, \"Aggregate Scheduled Service Minutes (all trips)\": 560.0, \"# VP\": 2031, \"# VP within Scheduled Shape\": 2014, \"# Early Arrival Trips\": 0, \"# On-Time Trips\": 8, \"# Late Trips\": 8, \"# Trips with VP\": 16, \"Average VP per Minute\": 3.01, \"% VP within Scheduled Shape\": 99.0, \"pct_rt_journey_atleast1_vp\": 100.0, \"pct_rt_journey_atleast2_vp\": 100.0, \"% Scheduled Trip w/ 1+ VP/Minute\": 100.0, \"% Scheduled Trip w/ 2+ VP/Minute\": 100.0, \"Realtime versus Scheduled Service Ratio\": 1.21, \"Average Actual Service (Trip Minutes)\": 42.21, \"GTFS Availability\": \"schedule_and_vp\", \"Speed (MPH)\": 12.9, \"Transit Operator\": \"Lawndale Beat GMV Schedule\", \"route_long_name\": \"Express Route\", \"route_short_name\": \"EX\", \"Route\": \"Express Route\", \"Route ID\": \"6117\", \"schedule_source_record_id\": \"recOFWnzS8spJsM1h\", \"Base64 Encoded Feed URL\": \"aHR0cHM6Ly9yaWRlbGF3bmRhbGViZWF0LmNvbS9ndGZz\", \"Organization ID\": \"recj8LXdeSurpSRNU\", \"Organization\": \"City of Lawndale\", \"District\": \"07 - Los Angeles\", \"ruler_100_pct\": 100, \"ruler_for_vp_per_min\": 2, \"frequency_in_minutes\": 89.55223880597015, \"direction_id\": 0.0, \"Direction\": \"Southbound\", \"recent_route_id2\": \"6117\", \"Average Scheduled Service (trip minutes)_str\": \"35\"}, {\"schedule_gtfs_dataset_key\": \"7f75702198137c1a9b53dca78f702ddb\", \"dir_0_1\": 0.0, \"Period\": \"All Day\", \"Average Scheduled Service (trip minutes)\": 49, \"Average Stop Distance (miles)\": 0.24, \"# scheduled trips\": 14, \"Trips per Hour\": 0.58, \"is_express\": 0.0, \"is_rapid\": 0.0, \"is_rail\": 0.0, \"is_coverage\": 1.0, \"is_downtown_local\": 1.0, \"is_local\": 0.0, \"Date\": \"2023-09-13T00:00:00\", \"Route typology\": \"downtown_local\", \"# Minutes with 1+ VP per Minute\": 194, \"# Minutes with 2+ VP per Minute\": 193, \"Aggregate Actual Service Minutes\": 192.03, \"Aggregate Scheduled Service Minutes (all trips)\": 196.0, \"# VP\": 578, \"# VP within Scheduled Shape\": 526, \"# Early Arrival Trips\": 2, \"# On-Time Trips\": 0, \"# Late Trips\": 2, \"# Trips with VP\": 4, \"Average VP per Minute\": 3.01, \"% VP within Scheduled Shape\": 91.0, \"pct_rt_journey_atleast1_vp\": 100.0, \"pct_rt_journey_atleast2_vp\": 100.0, \"% Scheduled Trip w/ 1+ VP/Minute\": 99.0, \"% Scheduled Trip w/ 2+ VP/Minute\": 98.0, \"Realtime versus Scheduled Service Ratio\": 0.98, \"Average Actual Service (Trip Minutes)\": 48.01, \"GTFS Availability\": \"schedule_and_vp\", \"Speed (MPH)\": 12.78, \"Transit Operator\": \"Lawndale Beat GMV Schedule\", \"route_long_name\": \"Residential Route\", \"route_short_name\": \"Res\", \"Route\": \"Residential Route\", \"Route ID\": \"6116\", \"schedule_source_record_id\": \"recOFWnzS8spJsM1h\", \"Base64 Encoded Feed URL\": \"aHR0cHM6Ly9yaWRlbGF3bmRhbGViZWF0LmNvbS9ndGZz\", \"Organization ID\": \"recj8LXdeSurpSRNU\", \"Organization\": \"City of Lawndale\", \"District\": \"07 - Los Angeles\", \"ruler_100_pct\": 100, \"ruler_for_vp_per_min\": 2, \"frequency_in_minutes\": 103.44827586206897, \"direction_id\": 0.0, \"Direction\": \"Southbound\", \"recent_route_id2\": \"6116\", \"Average Scheduled Service (trip minutes)_str\": \"49\"}, {\"schedule_gtfs_dataset_key\": \"7f75702198137c1a9b53dca78f702ddb\", \"dir_0_1\": 0.0, \"Period\": \"All Day\", \"Average Scheduled Service (trip minutes)\": 35, \"Average Stop Distance (miles)\": 0.27, \"# scheduled trips\": 16, \"Trips per Hour\": 0.67, \"is_express\": 1.0, \"is_rapid\": 0.0, \"is_rail\": 0.0, \"is_coverage\": 0.0, \"is_downtown_local\": 1.0, \"is_local\": 0.0, \"Date\": \"2023-09-13T00:00:00\", \"Route typology\": \"express\", \"# Minutes with 1+ VP per Minute\": 554, \"# Minutes with 2+ VP per Minute\": 537, \"Aggregate Actual Service Minutes\": 551.65, \"Aggregate Scheduled Service Minutes (all trips)\": 350.0, \"# VP\": 1614, \"# VP within Scheduled Shape\": 1144, \"# Early Arrival Trips\": 0, \"# On-Time Trips\": 3, \"# Late Trips\": 7, \"# Trips with VP\": 10, \"Average VP per Minute\": 2.93, \"% VP within Scheduled Shape\": 71.0, \"pct_rt_journey_atleast1_vp\": 100.0, \"pct_rt_journey_atleast2_vp\": 97.0, \"% Scheduled Trip w/ 1+ VP/Minute\": 100.0, \"% Scheduled Trip w/ 2+ VP/Minute\": 100.0, \"Realtime versus Scheduled Service Ratio\": 1.58, \"Average Actual Service (Trip Minutes)\": 55.16, \"GTFS Availability\": \"schedule_and_vp\", \"Speed (MPH)\": 11.25, \"Transit Operator\": \"Lawndale Beat GMV Schedule\", \"route_long_name\": \"Express Route\", \"route_short_name\": \"EX\", \"Route\": \"Express Route\", \"Route ID\": \"6117\", \"schedule_source_record_id\": \"recOFWnzS8spJsM1h\", \"Base64 Encoded Feed URL\": \"aHR0cHM6Ly9yaWRlbGF3bmRhbGViZWF0LmNvbS9ndGZz\", \"Organization ID\": \"recj8LXdeSurpSRNU\", \"Organization\": \"City of Lawndale\", \"District\": \"07 - Los Angeles\", \"ruler_100_pct\": 100, \"ruler_for_vp_per_min\": 2, \"frequency_in_minutes\": 89.55223880597015, \"direction_id\": 0.0, \"Direction\": \"Southbound\", \"recent_route_id2\": \"6117\", \"Average Scheduled Service (trip minutes)_str\": \"35\"}]}}, {\"mode\": \"vega-lite\"});\n",
       "</script>"
      ],
      "text/plain": [
       "alt.Chart(...)"
      ]
     },
     "execution_count": 17,
     "metadata": {},
     "output_type": "execute_result"
    }
   ],
   "source": [
    "(\n",
    "    section2_utils.grouped_bar_chart(\n",
    "        df=all_day,\n",
    "        color_col=\"Direction\",\n",
    "        y_col=\"Average Scheduled Service (trip minutes)\",\n",
    "        offset_col=\"Direction\",\n",
    "        title=readable_dict[\"avg_scheduled_min_graph\"][\"title\"],\n",
    "        subtitle=readable_dict[\"avg_scheduled_min_graph\"][\"subtitle\"],\n",
    "    )\n",
    "    .add_params(xcol_param)\n",
    "    .transform_filter(xcol_param)\n",
    ")"
   ]
  },
  {
   "cell_type": "markdown",
   "id": "4d3243d8-0404-4fac-983c-af9cc0ff99a4",
   "metadata": {
    "tags": []
   },
   "source": [
    "### Timeliness\n",
    "* Need to change `readable.yml` titles so it displays Eastbound/Westbound instead of 0"
   ]
  },
  {
   "cell_type": "code",
   "execution_count": 19,
   "id": "7190ed40-7206-4892-bc65-d86a6af823bd",
   "metadata": {},
   "outputs": [],
   "source": [
    "timeliness_df = section2_utils.timeliness_trips(df)"
   ]
  },
  {
   "cell_type": "code",
   "execution_count": 20,
   "id": "a958040d-f793-481b-9d07-b2f5f18796fc",
   "metadata": {},
   "outputs": [
    {
     "data": {
      "text/html": [
       "<div>\n",
       "<style scoped>\n",
       "    .dataframe tbody tr th:only-of-type {\n",
       "        vertical-align: middle;\n",
       "    }\n",
       "\n",
       "    .dataframe tbody tr th {\n",
       "        vertical-align: top;\n",
       "    }\n",
       "\n",
       "    .dataframe thead th {\n",
       "        text-align: right;\n",
       "    }\n",
       "</style>\n",
       "<table border=\"1\" class=\"dataframe\">\n",
       "  <thead>\n",
       "    <tr style=\"text-align: right;\">\n",
       "      <th></th>\n",
       "      <th>Date</th>\n",
       "      <th>Organization</th>\n",
       "      <th>Route</th>\n",
       "      <th>Period</th>\n",
       "      <th>Direction</th>\n",
       "      <th>dir_0_1</th>\n",
       "      <th>variable</th>\n",
       "      <th>value</th>\n",
       "    </tr>\n",
       "  </thead>\n",
       "  <tbody>\n",
       "    <tr>\n",
       "      <th>0</th>\n",
       "      <td>2023-10-11</td>\n",
       "      <td>City of Lawndale</td>\n",
       "      <td>Residential Route</td>\n",
       "      <td>offpeak</td>\n",
       "      <td>Southbound</td>\n",
       "      <td>0.00</td>\n",
       "      <td># Early Arrival Trips</td>\n",
       "      <td>1</td>\n",
       "    </tr>\n",
       "    <tr>\n",
       "      <th>1</th>\n",
       "      <td>2023-11-15</td>\n",
       "      <td>City of Lawndale</td>\n",
       "      <td>Residential Route</td>\n",
       "      <td>offpeak</td>\n",
       "      <td>Southbound</td>\n",
       "      <td>0.00</td>\n",
       "      <td># Early Arrival Trips</td>\n",
       "      <td>2</td>\n",
       "    </tr>\n",
       "  </tbody>\n",
       "</table>\n",
       "</div>"
      ],
      "text/plain": [
       "        Date      Organization              Route   Period   Direction  \\\n",
       "0 2023-10-11  City of Lawndale  Residential Route  offpeak  Southbound   \n",
       "1 2023-11-15  City of Lawndale  Residential Route  offpeak  Southbound   \n",
       "\n",
       "   dir_0_1               variable  value  \n",
       "0     0.00  # Early Arrival Trips      1  \n",
       "1     0.00  # Early Arrival Trips      2  "
      ]
     },
     "execution_count": 20,
     "metadata": {},
     "output_type": "execute_result"
    }
   ],
   "source": [
    "timeliness_df.head(2)"
   ]
  },
  {
   "cell_type": "code",
   "execution_count": 24,
   "id": "73b32434-03f0-4d93-826d-414695bd701f",
   "metadata": {},
   "outputs": [
    {
     "data": {
      "text/plain": [
       "Southbound    75\n",
       "Name: Direction, dtype: int64"
      ]
     },
     "execution_count": 24,
     "metadata": {},
     "output_type": "execute_result"
    }
   ],
   "source": [
    "timeliness_df.Direction.value_counts()"
   ]
  },
  {
   "cell_type": "code",
   "execution_count": 33,
   "id": "bebee5de-2476-4e2f-a4a8-e05e82fa403c",
   "metadata": {},
   "outputs": [
    {
     "ename": "IndexError",
     "evalue": "index 0 is out of bounds for axis 0 with size 0",
     "output_type": "error",
     "traceback": [
      "\u001b[0;31m---------------------------------------------------------------------------\u001b[0m",
      "\u001b[0;31mIndexError\u001b[0m                                Traceback (most recent call last)",
      "Cell \u001b[0;32mIn[33], line 3\u001b[0m\n\u001b[1;32m      1\u001b[0m (\n\u001b[1;32m      2\u001b[0m             (\n\u001b[0;32m----> 3\u001b[0m                 \u001b[43msection2_utils\u001b[49m\u001b[38;5;241;43m.\u001b[39;49m\u001b[43mbase_facet_chart\u001b[49m\u001b[43m(\u001b[49m\n\u001b[1;32m      4\u001b[0m \u001b[43m                    \u001b[49m\u001b[43mtimeliness_df\u001b[49m\u001b[38;5;241;43m.\u001b[39;49m\u001b[43mloc\u001b[49m\u001b[43m[\u001b[49m\u001b[43mtimeliness_df\u001b[49m\u001b[43m[\u001b[49m\u001b[38;5;124;43m\"\u001b[39;49m\u001b[38;5;124;43mdir_0_1\u001b[39;49m\u001b[38;5;124;43m\"\u001b[39;49m\u001b[43m]\u001b[49m\u001b[43m \u001b[49m\u001b[38;5;241;43m==\u001b[39;49m\u001b[43m \u001b[49m\u001b[38;5;241;43m1\u001b[39;49m\u001b[43m]\u001b[49m\u001b[43m,\u001b[49m\n\u001b[1;32m      5\u001b[0m \u001b[43m                    \u001b[49m\u001b[38;5;124;43m\"\u001b[39;49m\u001b[38;5;124;43mvalue\u001b[39;49m\u001b[38;5;124;43m\"\u001b[39;49m\u001b[43m,\u001b[49m\n\u001b[1;32m      6\u001b[0m \u001b[43m                    \u001b[49m\u001b[38;5;124;43m\"\u001b[39;49m\u001b[38;5;124;43mvariable\u001b[39;49m\u001b[38;5;124;43m\"\u001b[39;49m\u001b[43m,\u001b[49m\n\u001b[1;32m      7\u001b[0m \u001b[43m                    \u001b[49m\u001b[38;5;124;43m\"\u001b[39;49m\u001b[38;5;124;43mPeriod\u001b[39;49m\u001b[38;5;124;43m\"\u001b[39;49m\u001b[43m,\u001b[49m\n\u001b[1;32m      8\u001b[0m \u001b[43m                    \u001b[49m\u001b[43mreadable_dict\u001b[49m\u001b[43m[\u001b[49m\u001b[38;5;124;43m\"\u001b[39;49m\u001b[38;5;124;43mtimeliness_trips_graph\u001b[39;49m\u001b[38;5;124;43m\"\u001b[39;49m\u001b[43m]\u001b[49m\u001b[43m[\u001b[49m\u001b[38;5;124;43m\"\u001b[39;49m\u001b[38;5;124;43mtitle\u001b[39;49m\u001b[38;5;124;43m\"\u001b[39;49m\u001b[43m]\u001b[49m\u001b[43m,\u001b[49m\n\u001b[1;32m      9\u001b[0m \u001b[43m                    \u001b[49m\u001b[43mreadable_dict\u001b[49m\u001b[43m[\u001b[49m\u001b[38;5;124;43m\"\u001b[39;49m\u001b[38;5;124;43mtimeliness_trips_graph\u001b[39;49m\u001b[38;5;124;43m\"\u001b[39;49m\u001b[43m]\u001b[49m\u001b[43m[\u001b[49m\u001b[38;5;124;43m\"\u001b[39;49m\u001b[38;5;124;43msubtitle\u001b[39;49m\u001b[38;5;124;43m\"\u001b[39;49m\u001b[43m]\u001b[49m\u001b[43m,\u001b[49m\n\u001b[1;32m     10\u001b[0m \u001b[43m                \u001b[49m\u001b[43m)\u001b[49m\n\u001b[1;32m     11\u001b[0m             )\n\u001b[1;32m     12\u001b[0m             \u001b[38;5;241m.\u001b[39madd_params(xcol_param)\n\u001b[1;32m     13\u001b[0m             \u001b[38;5;241m.\u001b[39mtransform_filter(xcol_param)\n\u001b[1;32m     14\u001b[0m         )\n",
      "File \u001b[0;32m~/data-analyses/gtfs_digest/_section2_utils.py:622\u001b[0m, in \u001b[0;36mbase_facet_chart\u001b[0;34m(df, y_col, color_col, facet_col, title, subtitle)\u001b[0m\n\u001b[1;32m    619\u001b[0m max_y \u001b[38;5;241m=\u001b[39mset_y_axis(df, y_col)\n\u001b[1;32m    620\u001b[0m df \u001b[38;5;241m=\u001b[39m clean_data_charts(df, y_col)\n\u001b[0;32m--> 622\u001b[0m direction \u001b[38;5;241m=\u001b[39m \u001b[43mdf\u001b[49m\u001b[43m[\u001b[49m\u001b[38;5;124;43m\"\u001b[39;49m\u001b[38;5;124;43mDirection\u001b[39;49m\u001b[38;5;124;43m\"\u001b[39;49m\u001b[43m]\u001b[49m\u001b[38;5;241;43m.\u001b[39;49m\u001b[43mvalues\u001b[49m\u001b[43m[\u001b[49m\u001b[38;5;241;43m0\u001b[39;49m\u001b[43m]\u001b[49m\n\u001b[1;32m    623\u001b[0m title \u001b[38;5;241m=\u001b[39m title \u001b[38;5;241m+\u001b[39m direction\n\u001b[1;32m    625\u001b[0m chart \u001b[38;5;241m=\u001b[39m (\n\u001b[1;32m    626\u001b[0m     (\n\u001b[1;32m    627\u001b[0m         alt\u001b[38;5;241m.\u001b[39mChart(df)\n\u001b[0;32m   (...)\u001b[0m\n\u001b[1;32m    646\u001b[0m         )\n\u001b[1;32m    647\u001b[0m     ))\n",
      "\u001b[0;31mIndexError\u001b[0m: index 0 is out of bounds for axis 0 with size 0"
     ]
    }
   ],
   "source": [
    "(\n",
    "            (\n",
    "                section2_utils.base_facet_chart(\n",
    "                    timeliness_df.loc[timeliness_df[\"dir_0_1\"] == 1],\n",
    "                    \"value\",\n",
    "                    \"variable\",\n",
    "                    \"Period\",\n",
    "                    readable_dict[\"timeliness_trips_graph\"][\"title\"],\n",
    "                    readable_dict[\"timeliness_trips_graph\"][\"subtitle\"],\n",
    "                )\n",
    "            )\n",
    "            .add_params(xcol_param)\n",
    "            .transform_filter(xcol_param)\n",
    "        )"
   ]
  },
  {
   "cell_type": "markdown",
   "id": "23cda84b-c105-4df5-a94c-671b03e8ccb5",
   "metadata": {},
   "source": [
    "#### Frequency\n",
    "* Add specific direction into tooltip (for all the graphs)"
   ]
  },
  {
   "cell_type": "code",
   "execution_count": 21,
   "id": "e8c7c823-638a-4cd6-a330-add760cb2b52",
   "metadata": {},
   "outputs": [
    {
     "data": {
      "text/html": [
       "\n",
       "<style>\n",
       "  #altair-viz-4118415a92784413b24f6baadcb41052.vega-embed {\n",
       "    width: 100%;\n",
       "    display: flex;\n",
       "  }\n",
       "\n",
       "  #altair-viz-4118415a92784413b24f6baadcb41052.vega-embed details,\n",
       "  #altair-viz-4118415a92784413b24f6baadcb41052.vega-embed details summary {\n",
       "    position: relative;\n",
       "  }\n",
       "</style>\n",
       "<div id=\"altair-viz-4118415a92784413b24f6baadcb41052\"></div>\n",
       "<script type=\"text/javascript\">\n",
       "  var VEGA_DEBUG = (typeof VEGA_DEBUG == \"undefined\") ? {} : VEGA_DEBUG;\n",
       "  (function(spec, embedOpt){\n",
       "    let outputDiv = document.currentScript.previousElementSibling;\n",
       "    if (outputDiv.id !== \"altair-viz-4118415a92784413b24f6baadcb41052\") {\n",
       "      outputDiv = document.getElementById(\"altair-viz-4118415a92784413b24f6baadcb41052\");\n",
       "    }\n",
       "    const paths = {\n",
       "      \"vega\": \"https://cdn.jsdelivr.net/npm/vega@5?noext\",\n",
       "      \"vega-lib\": \"https://cdn.jsdelivr.net/npm/vega-lib?noext\",\n",
       "      \"vega-lite\": \"https://cdn.jsdelivr.net/npm/vega-lite@5.17.0?noext\",\n",
       "      \"vega-embed\": \"https://cdn.jsdelivr.net/npm/vega-embed@6?noext\",\n",
       "    };\n",
       "\n",
       "    function maybeLoadScript(lib, version) {\n",
       "      var key = `${lib.replace(\"-\", \"\")}_version`;\n",
       "      return (VEGA_DEBUG[key] == version) ?\n",
       "        Promise.resolve(paths[lib]) :\n",
       "        new Promise(function(resolve, reject) {\n",
       "          var s = document.createElement('script');\n",
       "          document.getElementsByTagName(\"head\")[0].appendChild(s);\n",
       "          s.async = true;\n",
       "          s.onload = () => {\n",
       "            VEGA_DEBUG[key] = version;\n",
       "            return resolve(paths[lib]);\n",
       "          };\n",
       "          s.onerror = () => reject(`Error loading script: ${paths[lib]}`);\n",
       "          s.src = paths[lib];\n",
       "        });\n",
       "    }\n",
       "\n",
       "    function showError(err) {\n",
       "      outputDiv.innerHTML = `<div class=\"error\" style=\"color:red;\">${err}</div>`;\n",
       "      throw err;\n",
       "    }\n",
       "\n",
       "    function displayChart(vegaEmbed) {\n",
       "      vegaEmbed(outputDiv, spec, embedOpt)\n",
       "        .catch(err => showError(`Javascript Error: ${err.message}<br>This usually means there's a typo in your chart specification. See the javascript console for the full traceback.`));\n",
       "    }\n",
       "\n",
       "    if(typeof define === \"function\" && define.amd) {\n",
       "      requirejs.config({paths});\n",
       "      require([\"vega-embed\"], displayChart, err => showError(`Error loading script: ${err.message}`));\n",
       "    } else {\n",
       "      maybeLoadScript(\"vega\", \"5\")\n",
       "        .then(() => maybeLoadScript(\"vega-lite\", \"5.17.0\"))\n",
       "        .then(() => maybeLoadScript(\"vega-embed\", \"6\"))\n",
       "        .catch(showError)\n",
       "        .then(() => displayChart(vegaEmbed));\n",
       "    }\n",
       "  })({\"config\": {\"view\": {\"continuousWidth\": 300, \"continuousHeight\": 300}}, \"data\": {\"name\": \"data-f6b789e079c5f25d42da8c6daf47fbcd\"}, \"mark\": {\"type\": \"bar\"}, \"encoding\": {\"color\": {\"field\": \"frequency_in_minutes\", \"scale\": {\"domain\": [0, 15, 30, 45, 60, 120], \"range\": [\"#7cc665\", \"#d2d776\", \"#fde18d\", \"#fcaa5f\", \"#ec5d3b\", \"#ec5d3b\"]}, \"title\": \"Frequency In Minutes\", \"type\": \"quantitative\"}, \"column\": {\"field\": \"Direction\", \"title\": \"Direction\", \"type\": \"nominal\"}, \"row\": {\"field\": \"Period\", \"header\": {\"labelAngle\": 0}, \"title\": \"Period\", \"type\": \"nominal\"}, \"tooltip\": [{\"field\": \"Date\", \"type\": \"temporal\"}, {\"field\": \"Route\", \"type\": \"nominal\"}, {\"field\": \"Frequency in Minutes\", \"type\": \"nominal\"}, {\"field\": \"Period\", \"type\": \"nominal\"}, {\"field\": \"Direction\", \"type\": \"nominal\"}], \"x\": {\"axis\": {\"title\": \"Frequency in Minutes\", \"values\": [0, 30, 60, 90, 120, 150, 180, 210, 240]}, \"field\": \"frequency_in_minutes\", \"title\": \"Frequency In Minutes\", \"type\": \"quantitative\"}, \"y\": {\"axis\": {\"format\": \"%b %Y\"}, \"field\": \"Date\", \"timeUnit\": \"yearmonthdate\", \"title\": \"Date\", \"type\": \"ordinal\"}}, \"height\": {\"step\": 10}, \"params\": [{\"name\": \"param_1\", \"select\": {\"type\": \"point\", \"fields\": [\"Route\"]}, \"bind\": {\"input\": \"select\", \"options\": [\"Residential Route\", \"Express Route\"], \"name\": \"Routes: \"}, \"value\": \"Residential Route\"}], \"title\": {\"text\": \"Frequency of Trips in Minutes\", \"subtitle\": \"Understanding how often a trip comes. If the bar says 120 minutes, that means a trip will pass that particular direction once every 2 hours.\"}, \"transform\": [{\"filter\": {\"param\": \"param_1\"}}], \"width\": 180, \"$schema\": \"https://vega.github.io/schema/vega-lite/v5.17.0.json\", \"datasets\": {\"data-f6b789e079c5f25d42da8c6daf47fbcd\": [{\"schedule_gtfs_dataset_key\": \"09a703757d1ed14ca9580b1385e39315\", \"dir_0_1\": 0.0, \"Period\": \"all_day\", \"Average Scheduled Service (trip minutes)\": 49.0, \"Average Stop Distance (miles)\": 0.24, \"# scheduled trips\": 14, \"Trips per Hour\": 0.58, \"is_express\": 0.0, \"is_rapid\": 0.0, \"is_rail\": 0.0, \"is_coverage\": 1.0, \"is_downtown_local\": 1.0, \"is_local\": 0.0, \"Date\": \"2023-10-11T00:00:00\", \"Route typology\": \"downtown_local\", \"# Minutes with 1+ VP per Minute\": 737, \"# Minutes with 2+ VP per Minute\": 729, \"Aggregate Actual Service Minutes\": 774.4, \"Aggregate Scheduled Service Minutes (all trips)\": 637.0, \"# VP\": 2180, \"# VP within Scheduled Shape\": 2150, \"# Early Arrival Trips\": 2, \"# On-Time Trips\": 7, \"# Late Trips\": 4, \"# Trips with VP\": 13, \"Average VP per Minute\": 2.82, \"% VP within Scheduled Shape\": 99.0, \"pct_rt_journey_atleast1_vp\": 95.0, \"pct_rt_journey_atleast2_vp\": 94.0, \"% Scheduled Trip w/ 1+ VP/Minute\": 100.0, \"% Scheduled Trip w/ 2+ VP/Minute\": 100.0, \"Realtime versus Scheduled Service Ratio\": 1.22, \"Average Actual Service (Trip Minutes)\": 59.57, \"GTFS Availability\": \"schedule_and_vp\", \"Speed (MPH)\": 9.46, \"Transit Operator\": \"Lawndale Beat GMV Schedule\", \"route_long_name\": \"Residential Route\", \"route_short_name\": \"Res\", \"Route\": \"Residential Route\", \"Route ID\": \"6116\", \"schedule_source_record_id\": \"recOFWnzS8spJsM1h\", \"Base64 Encoded Feed URL\": \"aHR0cHM6Ly9yaWRlbGF3bmRhbGViZWF0LmNvbS9ndGZz\", \"Organization ID\": \"recj8LXdeSurpSRNU\", \"Organization\": \"City of Lawndale\", \"District\": \"07 - Los Angeles\", \"ruler_100_pct\": 100, \"ruler_for_vp_per_min\": 2, \"frequency_in_minutes\": 103.44827586206897, \"direction_id\": 0.0, \"Direction\": \"Southbound\", \"recent_route_id2\": \"6116\", \"Frequency in Minutes\": \"A trip going this direction comes every 103 minutes\"}, {\"schedule_gtfs_dataset_key\": \"09a703757d1ed14ca9580b1385e39315\", \"dir_0_1\": 0.0, \"Period\": \"all_day\", \"Average Scheduled Service (trip minutes)\": 49.0, \"Average Stop Distance (miles)\": 0.24, \"# scheduled trips\": 14, \"Trips per Hour\": 0.58, \"is_express\": 0.0, \"is_rapid\": 0.0, \"is_rail\": 0.0, \"is_coverage\": 1.0, \"is_downtown_local\": 1.0, \"is_local\": 0.0, \"Date\": \"2023-11-15T00:00:00\", \"Route typology\": \"downtown_local\", \"# Minutes with 1+ VP per Minute\": 699, \"# Minutes with 2+ VP per Minute\": 690, \"Aggregate Actual Service Minutes\": 684.72, \"Aggregate Scheduled Service Minutes (all trips)\": 686.0, \"# VP\": 2066, \"# VP within Scheduled Shape\": 2046, \"# Early Arrival Trips\": 3, \"# On-Time Trips\": 8, \"# Late Trips\": 3, \"# Trips with VP\": 14, \"Average VP per Minute\": 3.02, \"% VP within Scheduled Shape\": 99.0, \"pct_rt_journey_atleast1_vp\": 100.0, \"pct_rt_journey_atleast2_vp\": 100.0, \"% Scheduled Trip w/ 1+ VP/Minute\": 100.0, \"% Scheduled Trip w/ 2+ VP/Minute\": 100.0, \"Realtime versus Scheduled Service Ratio\": 1.0, \"Average Actual Service (Trip Minutes)\": 48.91, \"GTFS Availability\": \"schedule_and_vp\", \"Speed (MPH)\": 11.77, \"Transit Operator\": \"Lawndale Beat GMV Schedule\", \"route_long_name\": \"Residential Route\", \"route_short_name\": \"Res\", \"Route\": \"Residential Route\", \"Route ID\": \"6116\", \"schedule_source_record_id\": \"recOFWnzS8spJsM1h\", \"Base64 Encoded Feed URL\": \"aHR0cHM6Ly9yaWRlbGF3bmRhbGViZWF0LmNvbS9ndGZz\", \"Organization ID\": \"recj8LXdeSurpSRNU\", \"Organization\": \"City of Lawndale\", \"District\": \"07 - Los Angeles\", \"ruler_100_pct\": 100, \"ruler_for_vp_per_min\": 2, \"frequency_in_minutes\": 103.44827586206897, \"direction_id\": 0.0, \"Direction\": \"Southbound\", \"recent_route_id2\": \"6116\", \"Frequency in Minutes\": \"A trip going this direction comes every 103 minutes\"}, {\"schedule_gtfs_dataset_key\": \"09a703757d1ed14ca9580b1385e39315\", \"dir_0_1\": 0.0, \"Period\": \"all_day\", \"Average Scheduled Service (trip minutes)\": 49.0, \"Average Stop Distance (miles)\": 0.24, \"# scheduled trips\": 14, \"Trips per Hour\": 0.58, \"is_express\": 0.0, \"is_rapid\": 0.0, \"is_rail\": 0.0, \"is_coverage\": 1.0, \"is_downtown_local\": 1.0, \"is_local\": 0.0, \"Date\": \"2023-12-13T00:00:00\", \"Route typology\": \"downtown_local\", \"# Minutes with 1+ VP per Minute\": 676, \"# Minutes with 2+ VP per Minute\": 663, \"Aggregate Actual Service Minutes\": 724.59, \"Aggregate Scheduled Service Minutes (all trips)\": 637.0, \"# VP\": 1984, \"# VP within Scheduled Shape\": 1965, \"# Early Arrival Trips\": 1, \"# On-Time Trips\": 9, \"# Late Trips\": 3, \"# Trips with VP\": 13, \"Average VP per Minute\": 2.74, \"% VP within Scheduled Shape\": 99.0, \"pct_rt_journey_atleast1_vp\": 93.0, \"pct_rt_journey_atleast2_vp\": 92.0, \"% Scheduled Trip w/ 1+ VP/Minute\": 100.0, \"% Scheduled Trip w/ 2+ VP/Minute\": 100.0, \"Realtime versus Scheduled Service Ratio\": 1.14, \"Average Actual Service (Trip Minutes)\": 55.74, \"GTFS Availability\": \"schedule_and_vp\", \"Speed (MPH)\": 10.86, \"Transit Operator\": \"Lawndale Beat GMV Schedule\", \"route_long_name\": \"Residential Route\", \"route_short_name\": \"Res\", \"Route\": \"Residential Route\", \"Route ID\": \"6116\", \"schedule_source_record_id\": \"recOFWnzS8spJsM1h\", \"Base64 Encoded Feed URL\": \"aHR0cHM6Ly9yaWRlbGF3bmRhbGViZWF0LmNvbS9ndGZz\", \"Organization ID\": \"recj8LXdeSurpSRNU\", \"Organization\": \"City of Lawndale\", \"District\": \"07 - Los Angeles\", \"ruler_100_pct\": 100, \"ruler_for_vp_per_min\": 2, \"frequency_in_minutes\": 103.44827586206897, \"direction_id\": 0.0, \"Direction\": \"Southbound\", \"recent_route_id2\": \"6116\", \"Frequency in Minutes\": \"A trip going this direction comes every 103 minutes\"}, {\"schedule_gtfs_dataset_key\": \"09a703757d1ed14ca9580b1385e39315\", \"dir_0_1\": 0.0, \"Period\": \"all_day\", \"Average Scheduled Service (trip minutes)\": 49.0, \"Average Stop Distance (miles)\": 0.24, \"# scheduled trips\": 14, \"Trips per Hour\": 0.58, \"is_express\": 0.0, \"is_rapid\": 0.0, \"is_rail\": 0.0, \"is_coverage\": 1.0, \"is_downtown_local\": 1.0, \"is_local\": 0.0, \"Date\": \"2024-01-17T00:00:00\", \"Route typology\": \"downtown_local\", \"# Minutes with 1+ VP per Minute\": 1037, \"# Minutes with 2+ VP per Minute\": 1021, \"Aggregate Actual Service Minutes\": 2352.34, \"Aggregate Scheduled Service Minutes (all trips)\": 686.0, \"# VP\": 3068, \"# VP within Scheduled Shape\": 2561, \"# Early Arrival Trips\": 0, \"# On-Time Trips\": 8, \"# Late Trips\": 6, \"# Trips with VP\": 14, \"Average VP per Minute\": 1.3, \"% VP within Scheduled Shape\": 84.0, \"pct_rt_journey_atleast1_vp\": 44.0, \"pct_rt_journey_atleast2_vp\": 43.0, \"% Scheduled Trip w/ 1+ VP/Minute\": 100.0, \"% Scheduled Trip w/ 2+ VP/Minute\": 100.0, \"Realtime versus Scheduled Service Ratio\": 3.43, \"Average Actual Service (Trip Minutes)\": 168.02, \"GTFS Availability\": \"schedule_and_vp\", \"Speed (MPH)\": 5.75, \"Transit Operator\": \"Lawndale Beat GMV Schedule\", \"route_long_name\": \"Residential Route\", \"route_short_name\": \"Res\", \"Route\": \"Residential Route\", \"Route ID\": \"6116\", \"schedule_source_record_id\": \"recOFWnzS8spJsM1h\", \"Base64 Encoded Feed URL\": \"aHR0cHM6Ly9yaWRlbGF3bmRhbGViZWF0LmNvbS9ndGZz\", \"Organization ID\": \"recj8LXdeSurpSRNU\", \"Organization\": \"City of Lawndale\", \"District\": \"07 - Los Angeles\", \"ruler_100_pct\": 100, \"ruler_for_vp_per_min\": 2, \"frequency_in_minutes\": 103.44827586206897, \"direction_id\": 0.0, \"Direction\": \"Southbound\", \"recent_route_id2\": \"6116\", \"Frequency in Minutes\": \"A trip going this direction comes every 103 minutes\"}, {\"schedule_gtfs_dataset_key\": \"09a703757d1ed14ca9580b1385e39315\", \"dir_0_1\": 0.0, \"Period\": \"all_day\", \"Average Scheduled Service (trip minutes)\": 49.0, \"Average Stop Distance (miles)\": 0.24, \"# scheduled trips\": 14, \"Trips per Hour\": 0.58, \"is_express\": 0.0, \"is_rapid\": 0.0, \"is_rail\": 0.0, \"is_coverage\": 1.0, \"is_downtown_local\": 1.0, \"is_local\": 0.0, \"Date\": \"2024-02-14T00:00:00\", \"Route typology\": \"downtown_local\", \"# Minutes with 1+ VP per Minute\": 754, \"# Minutes with 2+ VP per Minute\": 739, \"Aggregate Actual Service Minutes\": 738.69, \"Aggregate Scheduled Service Minutes (all trips)\": 686.0, \"# VP\": 2222, \"# VP within Scheduled Shape\": 2205, \"# Early Arrival Trips\": 0, \"# On-Time Trips\": 10, \"# Late Trips\": 4, \"# Trips with VP\": 14, \"Average VP per Minute\": 3.01, \"% VP within Scheduled Shape\": 99.0, \"pct_rt_journey_atleast1_vp\": 100.0, \"pct_rt_journey_atleast2_vp\": 100.0, \"% Scheduled Trip w/ 1+ VP/Minute\": 100.0, \"% Scheduled Trip w/ 2+ VP/Minute\": 100.0, \"Realtime versus Scheduled Service Ratio\": 1.08, \"Average Actual Service (Trip Minutes)\": 52.76, \"GTFS Availability\": \"schedule_and_vp\", \"Speed (MPH)\": 11.71, \"Transit Operator\": \"Lawndale Beat GMV Schedule\", \"route_long_name\": \"Residential Route\", \"route_short_name\": \"Res\", \"Route\": \"Residential Route\", \"Route ID\": \"6116\", \"schedule_source_record_id\": \"recOFWnzS8spJsM1h\", \"Base64 Encoded Feed URL\": \"aHR0cHM6Ly9yaWRlbGF3bmRhbGViZWF0LmNvbS9ndGZz\", \"Organization ID\": \"recj8LXdeSurpSRNU\", \"Organization\": \"City of Lawndale\", \"District\": \"07 - Los Angeles\", \"ruler_100_pct\": 100, \"ruler_for_vp_per_min\": 2, \"frequency_in_minutes\": 103.44827586206897, \"direction_id\": 0.0, \"Direction\": \"Southbound\", \"recent_route_id2\": \"6116\", \"Frequency in Minutes\": \"A trip going this direction comes every 103 minutes\"}, {\"schedule_gtfs_dataset_key\": \"09a703757d1ed14ca9580b1385e39315\", \"dir_0_1\": 0.0, \"Period\": \"all_day\", \"Average Scheduled Service (trip minutes)\": 49.0, \"Average Stop Distance (miles)\": 0.24, \"# scheduled trips\": 14, \"Trips per Hour\": 0.58, \"is_express\": 0.0, \"is_rapid\": 0.0, \"is_rail\": 0.0, \"is_coverage\": 1.0, \"is_downtown_local\": 1.0, \"is_local\": 0.0, \"Date\": \"2024-03-13T00:00:00\", \"Route typology\": \"downtown_local\", \"# Minutes with 1+ VP per Minute\": 711, \"# Minutes with 2+ VP per Minute\": 695, \"Aggregate Actual Service Minutes\": 734.61, \"Aggregate Scheduled Service Minutes (all trips)\": 686.0, \"# VP\": 2066, \"# VP within Scheduled Shape\": 2035, \"# Early Arrival Trips\": 3, \"# On-Time Trips\": 7, \"# Late Trips\": 4, \"# Trips with VP\": 14, \"Average VP per Minute\": 2.81, \"% VP within Scheduled Shape\": 98.0, \"pct_rt_journey_atleast1_vp\": 97.0, \"pct_rt_journey_atleast2_vp\": 95.0, \"% Scheduled Trip w/ 1+ VP/Minute\": 100.0, \"% Scheduled Trip w/ 2+ VP/Minute\": 100.0, \"Realtime versus Scheduled Service Ratio\": 1.07, \"Average Actual Service (Trip Minutes)\": 52.47, \"GTFS Availability\": \"schedule_and_vp\", \"Speed (MPH)\": 11.74, \"Transit Operator\": \"Lawndale Beat GMV Schedule\", \"route_long_name\": \"Residential Route\", \"route_short_name\": \"Res\", \"Route\": \"Residential Route\", \"Route ID\": \"6116\", \"schedule_source_record_id\": \"recOFWnzS8spJsM1h\", \"Base64 Encoded Feed URL\": \"aHR0cHM6Ly9yaWRlbGF3bmRhbGViZWF0LmNvbS9ndGZz\", \"Organization ID\": \"recj8LXdeSurpSRNU\", \"Organization\": \"City of Lawndale\", \"District\": \"07 - Los Angeles\", \"ruler_100_pct\": 100, \"ruler_for_vp_per_min\": 2, \"frequency_in_minutes\": 103.44827586206897, \"direction_id\": 0.0, \"Direction\": \"Southbound\", \"recent_route_id2\": \"6116\", \"Frequency in Minutes\": \"A trip going this direction comes every 103 minutes\"}, {\"schedule_gtfs_dataset_key\": \"09a703757d1ed14ca9580b1385e39315\", \"dir_0_1\": 0.0, \"Period\": \"offpeak\", \"Average Scheduled Service (trip minutes)\": 49.0, \"Average Stop Distance (miles)\": 0.24, \"# scheduled trips\": 6, \"Trips per Hour\": 0.38, \"is_express\": 0.0, \"is_rapid\": 0.0, \"is_rail\": 0.0, \"is_coverage\": 1.0, \"is_downtown_local\": 1.0, \"is_local\": 0.0, \"Date\": \"2023-10-11T00:00:00\", \"Route typology\": \"downtown_local\", \"# Minutes with 1+ VP per Minute\": 305, \"# Minutes with 2+ VP per Minute\": 301, \"Aggregate Actual Service Minutes\": 298.99, \"Aggregate Scheduled Service Minutes (all trips)\": 294.0, \"# VP\": 901, \"# VP within Scheduled Shape\": 901, \"# Early Arrival Trips\": 1, \"# On-Time Trips\": 4, \"# Late Trips\": 1, \"# Trips with VP\": 6, \"Average VP per Minute\": 3.01, \"% VP within Scheduled Shape\": 100.0, \"pct_rt_journey_atleast1_vp\": 100.0, \"pct_rt_journey_atleast2_vp\": 100.0, \"% Scheduled Trip w/ 1+ VP/Minute\": 100.0, \"% Scheduled Trip w/ 2+ VP/Minute\": 100.0, \"Realtime versus Scheduled Service Ratio\": 1.02, \"Average Actual Service (Trip Minutes)\": 49.83, \"GTFS Availability\": \"schedule_and_vp\", \"Speed (MPH)\": 10.86, \"Transit Operator\": \"Lawndale Beat GMV Schedule\", \"route_long_name\": \"Residential Route\", \"route_short_name\": \"Res\", \"Route\": \"Residential Route\", \"Route ID\": \"6116\", \"schedule_source_record_id\": \"recOFWnzS8spJsM1h\", \"Base64 Encoded Feed URL\": \"aHR0cHM6Ly9yaWRlbGF3bmRhbGViZWF0LmNvbS9ndGZz\", \"Organization ID\": \"recj8LXdeSurpSRNU\", \"Organization\": \"City of Lawndale\", \"District\": \"07 - Los Angeles\", \"ruler_100_pct\": 100, \"ruler_for_vp_per_min\": 2, \"frequency_in_minutes\": 157.89473684210526, \"direction_id\": 0.0, \"Direction\": \"Southbound\", \"recent_route_id2\": \"6116\", \"Frequency in Minutes\": \"A trip going this direction comes every 157 minutes\"}, {\"schedule_gtfs_dataset_key\": \"09a703757d1ed14ca9580b1385e39315\", \"dir_0_1\": 0.0, \"Period\": \"offpeak\", \"Average Scheduled Service (trip minutes)\": 49.0, \"Average Stop Distance (miles)\": 0.24, \"# scheduled trips\": 6, \"Trips per Hour\": 0.38, \"is_express\": 0.0, \"is_rapid\": 0.0, \"is_rail\": 0.0, \"is_coverage\": 1.0, \"is_downtown_local\": 1.0, \"is_local\": 0.0, \"Date\": \"2023-11-15T00:00:00\", \"Route typology\": \"downtown_local\", \"# Minutes with 1+ VP per Minute\": 271, \"# Minutes with 2+ VP per Minute\": 266, \"Aggregate Actual Service Minutes\": 265.35, \"Aggregate Scheduled Service Minutes (all trips)\": 294.0, \"# VP\": 802, \"# VP within Scheduled Shape\": 796, \"# Early Arrival Trips\": 2, \"# On-Time Trips\": 4, \"# Late Trips\": 0, \"# Trips with VP\": 6, \"Average VP per Minute\": 3.02, \"% VP within Scheduled Shape\": 99.0, \"pct_rt_journey_atleast1_vp\": 100.0, \"pct_rt_journey_atleast2_vp\": 100.0, \"% Scheduled Trip w/ 1+ VP/Minute\": 92.0, \"% Scheduled Trip w/ 2+ VP/Minute\": 90.0, \"Realtime versus Scheduled Service Ratio\": 0.9, \"Average Actual Service (Trip Minutes)\": 44.22, \"GTFS Availability\": \"schedule_and_vp\", \"Speed (MPH)\": 11.96, \"Transit Operator\": \"Lawndale Beat GMV Schedule\", \"route_long_name\": \"Residential Route\", \"route_short_name\": \"Res\", \"Route\": \"Residential Route\", \"Route ID\": \"6116\", \"schedule_source_record_id\": \"recOFWnzS8spJsM1h\", \"Base64 Encoded Feed URL\": \"aHR0cHM6Ly9yaWRlbGF3bmRhbGViZWF0LmNvbS9ndGZz\", \"Organization ID\": \"recj8LXdeSurpSRNU\", \"Organization\": \"City of Lawndale\", \"District\": \"07 - Los Angeles\", \"ruler_100_pct\": 100, \"ruler_for_vp_per_min\": 2, \"frequency_in_minutes\": 157.89473684210526, \"direction_id\": 0.0, \"Direction\": \"Southbound\", \"recent_route_id2\": \"6116\", \"Frequency in Minutes\": \"A trip going this direction comes every 157 minutes\"}, {\"schedule_gtfs_dataset_key\": \"09a703757d1ed14ca9580b1385e39315\", \"dir_0_1\": 0.0, \"Period\": \"offpeak\", \"Average Scheduled Service (trip minutes)\": 49.0, \"Average Stop Distance (miles)\": 0.24, \"# scheduled trips\": 6, \"Trips per Hour\": 0.38, \"is_express\": 0.0, \"is_rapid\": 0.0, \"is_rail\": 0.0, \"is_coverage\": 1.0, \"is_downtown_local\": 1.0, \"is_local\": 0.0, \"Date\": \"2023-12-13T00:00:00\", \"Route typology\": \"downtown_local\", \"# Minutes with 1+ VP per Minute\": 304, \"# Minutes with 2+ VP per Minute\": 299, \"Aggregate Actual Service Minutes\": 302.32, \"Aggregate Scheduled Service Minutes (all trips)\": 294.0, \"# VP\": 896, \"# VP within Scheduled Shape\": 891, \"# Early Arrival Trips\": 0, \"# On-Time Trips\": 6, \"# Late Trips\": 0, \"# Trips with VP\": 6, \"Average VP per Minute\": 2.96, \"% VP within Scheduled Shape\": 99.0, \"pct_rt_journey_atleast1_vp\": 100.0, \"pct_rt_journey_atleast2_vp\": 99.0, \"% Scheduled Trip w/ 1+ VP/Minute\": 100.0, \"% Scheduled Trip w/ 2+ VP/Minute\": 100.0, \"Realtime versus Scheduled Service Ratio\": 1.03, \"Average Actual Service (Trip Minutes)\": 50.39, \"GTFS Availability\": \"schedule_and_vp\", \"Speed (MPH)\": 12.11, \"Transit Operator\": \"Lawndale Beat GMV Schedule\", \"route_long_name\": \"Residential Route\", \"route_short_name\": \"Res\", \"Route\": \"Residential Route\", \"Route ID\": \"6116\", \"schedule_source_record_id\": \"recOFWnzS8spJsM1h\", \"Base64 Encoded Feed URL\": \"aHR0cHM6Ly9yaWRlbGF3bmRhbGViZWF0LmNvbS9ndGZz\", \"Organization ID\": \"recj8LXdeSurpSRNU\", \"Organization\": \"City of Lawndale\", \"District\": \"07 - Los Angeles\", \"ruler_100_pct\": 100, \"ruler_for_vp_per_min\": 2, \"frequency_in_minutes\": 157.89473684210526, \"direction_id\": 0.0, \"Direction\": \"Southbound\", \"recent_route_id2\": \"6116\", \"Frequency in Minutes\": \"A trip going this direction comes every 157 minutes\"}, {\"schedule_gtfs_dataset_key\": \"09a703757d1ed14ca9580b1385e39315\", \"dir_0_1\": 0.0, \"Period\": \"offpeak\", \"Average Scheduled Service (trip minutes)\": 49.0, \"Average Stop Distance (miles)\": 0.24, \"# scheduled trips\": 6, \"Trips per Hour\": 0.38, \"is_express\": 0.0, \"is_rapid\": 0.0, \"is_rail\": 0.0, \"is_coverage\": 1.0, \"is_downtown_local\": 1.0, \"is_local\": 0.0, \"Date\": \"2024-01-17T00:00:00\", \"Route typology\": \"downtown_local\", \"# Minutes with 1+ VP per Minute\": 301, \"# Minutes with 2+ VP per Minute\": 298, \"Aggregate Actual Service Minutes\": 296.4, \"Aggregate Scheduled Service Minutes (all trips)\": 294.0, \"# VP\": 895, \"# VP within Scheduled Shape\": 893, \"# Early Arrival Trips\": 0, \"# On-Time Trips\": 5, \"# Late Trips\": 1, \"# Trips with VP\": 6, \"Average VP per Minute\": 3.02, \"% VP within Scheduled Shape\": 100.0, \"pct_rt_journey_atleast1_vp\": 100.0, \"pct_rt_journey_atleast2_vp\": 100.0, \"% Scheduled Trip w/ 1+ VP/Minute\": 100.0, \"% Scheduled Trip w/ 2+ VP/Minute\": 100.0, \"Realtime versus Scheduled Service Ratio\": 1.01, \"Average Actual Service (Trip Minutes)\": 49.4, \"GTFS Availability\": \"schedule_and_vp\", \"Speed (MPH)\": 5.72, \"Transit Operator\": \"Lawndale Beat GMV Schedule\", \"route_long_name\": \"Residential Route\", \"route_short_name\": \"Res\", \"Route\": \"Residential Route\", \"Route ID\": \"6116\", \"schedule_source_record_id\": \"recOFWnzS8spJsM1h\", \"Base64 Encoded Feed URL\": \"aHR0cHM6Ly9yaWRlbGF3bmRhbGViZWF0LmNvbS9ndGZz\", \"Organization ID\": \"recj8LXdeSurpSRNU\", \"Organization\": \"City of Lawndale\", \"District\": \"07 - Los Angeles\", \"ruler_100_pct\": 100, \"ruler_for_vp_per_min\": 2, \"frequency_in_minutes\": 157.89473684210526, \"direction_id\": 0.0, \"Direction\": \"Southbound\", \"recent_route_id2\": \"6116\", \"Frequency in Minutes\": \"A trip going this direction comes every 157 minutes\"}, {\"schedule_gtfs_dataset_key\": \"09a703757d1ed14ca9580b1385e39315\", \"dir_0_1\": 0.0, \"Period\": \"offpeak\", \"Average Scheduled Service (trip minutes)\": 49.0, \"Average Stop Distance (miles)\": 0.24, \"# scheduled trips\": 6, \"Trips per Hour\": 0.38, \"is_express\": 0.0, \"is_rapid\": 0.0, \"is_rail\": 0.0, \"is_coverage\": 1.0, \"is_downtown_local\": 1.0, \"is_local\": 0.0, \"Date\": \"2024-02-14T00:00:00\", \"Route typology\": \"downtown_local\", \"# Minutes with 1+ VP per Minute\": 305, \"# Minutes with 2+ VP per Minute\": 299, \"Aggregate Actual Service Minutes\": 298.04, \"Aggregate Scheduled Service Minutes (all trips)\": 294.0, \"# VP\": 899, \"# VP within Scheduled Shape\": 899, \"# Early Arrival Trips\": 0, \"# On-Time Trips\": 5, \"# Late Trips\": 1, \"# Trips with VP\": 6, \"Average VP per Minute\": 3.02, \"% VP within Scheduled Shape\": 100.0, \"pct_rt_journey_atleast1_vp\": 100.0, \"pct_rt_journey_atleast2_vp\": 100.0, \"% Scheduled Trip w/ 1+ VP/Minute\": 100.0, \"% Scheduled Trip w/ 2+ VP/Minute\": 100.0, \"Realtime versus Scheduled Service Ratio\": 1.01, \"Average Actual Service (Trip Minutes)\": 49.67, \"GTFS Availability\": \"schedule_and_vp\", \"Speed (MPH)\": 12.32, \"Transit Operator\": \"Lawndale Beat GMV Schedule\", \"route_long_name\": \"Residential Route\", \"route_short_name\": \"Res\", \"Route\": \"Residential Route\", \"Route ID\": \"6116\", \"schedule_source_record_id\": \"recOFWnzS8spJsM1h\", \"Base64 Encoded Feed URL\": \"aHR0cHM6Ly9yaWRlbGF3bmRhbGViZWF0LmNvbS9ndGZz\", \"Organization ID\": \"recj8LXdeSurpSRNU\", \"Organization\": \"City of Lawndale\", \"District\": \"07 - Los Angeles\", \"ruler_100_pct\": 100, \"ruler_for_vp_per_min\": 2, \"frequency_in_minutes\": 157.89473684210526, \"direction_id\": 0.0, \"Direction\": \"Southbound\", \"recent_route_id2\": \"6116\", \"Frequency in Minutes\": \"A trip going this direction comes every 157 minutes\"}, {\"schedule_gtfs_dataset_key\": \"09a703757d1ed14ca9580b1385e39315\", \"dir_0_1\": 0.0, \"Period\": \"offpeak\", \"Average Scheduled Service (trip minutes)\": 49.0, \"Average Stop Distance (miles)\": 0.24, \"# scheduled trips\": 6, \"Trips per Hour\": 0.38, \"is_express\": 0.0, \"is_rapid\": 0.0, \"is_rail\": 0.0, \"is_coverage\": 1.0, \"is_downtown_local\": 1.0, \"is_local\": 0.0, \"Date\": \"2024-03-13T00:00:00\", \"Route typology\": \"downtown_local\", \"# Minutes with 1+ VP per Minute\": 282, \"# Minutes with 2+ VP per Minute\": 272, \"Aggregate Actual Service Minutes\": 291.42, \"Aggregate Scheduled Service Minutes (all trips)\": 294.0, \"# VP\": 806, \"# VP within Scheduled Shape\": 806, \"# Early Arrival Trips\": 2, \"# On-Time Trips\": 2, \"# Late Trips\": 2, \"# Trips with VP\": 6, \"Average VP per Minute\": 2.77, \"% VP within Scheduled Shape\": 100.0, \"pct_rt_journey_atleast1_vp\": 97.0, \"pct_rt_journey_atleast2_vp\": 93.0, \"% Scheduled Trip w/ 1+ VP/Minute\": 96.0, \"% Scheduled Trip w/ 2+ VP/Minute\": 92.0, \"Realtime versus Scheduled Service Ratio\": 0.99, \"Average Actual Service (Trip Minutes)\": 48.57, \"GTFS Availability\": \"schedule_and_vp\", \"Speed (MPH)\": 11.09, \"Transit Operator\": \"Lawndale Beat GMV Schedule\", \"route_long_name\": \"Residential Route\", \"route_short_name\": \"Res\", \"Route\": \"Residential Route\", \"Route ID\": \"6116\", \"schedule_source_record_id\": \"recOFWnzS8spJsM1h\", \"Base64 Encoded Feed URL\": \"aHR0cHM6Ly9yaWRlbGF3bmRhbGViZWF0LmNvbS9ndGZz\", \"Organization ID\": \"recj8LXdeSurpSRNU\", \"Organization\": \"City of Lawndale\", \"District\": \"07 - Los Angeles\", \"ruler_100_pct\": 100, \"ruler_for_vp_per_min\": 2, \"frequency_in_minutes\": 157.89473684210526, \"direction_id\": 0.0, \"Direction\": \"Southbound\", \"recent_route_id2\": \"6116\", \"Frequency in Minutes\": \"A trip going this direction comes every 157 minutes\"}, {\"schedule_gtfs_dataset_key\": \"09a703757d1ed14ca9580b1385e39315\", \"dir_0_1\": 0.0, \"Period\": \"peak\", \"Average Scheduled Service (trip minutes)\": 49.0, \"Average Stop Distance (miles)\": 0.24, \"# scheduled trips\": 8, \"Trips per Hour\": 1.0, \"is_express\": 0.0, \"is_rapid\": 0.0, \"is_rail\": 0.0, \"is_coverage\": 1.0, \"is_downtown_local\": 1.0, \"is_local\": 0.0, \"Date\": \"2023-10-11T00:00:00\", \"Route typology\": \"downtown_local\", \"# Minutes with 1+ VP per Minute\": 432, \"# Minutes with 2+ VP per Minute\": 428, \"Aggregate Actual Service Minutes\": 475.41, \"Aggregate Scheduled Service Minutes (all trips)\": 343.0, \"# VP\": 1279, \"# VP within Scheduled Shape\": 1249, \"# Early Arrival Trips\": 1, \"# On-Time Trips\": 3, \"# Late Trips\": 3, \"# Trips with VP\": 7, \"Average VP per Minute\": 2.69, \"% VP within Scheduled Shape\": 98.0, \"pct_rt_journey_atleast1_vp\": 91.0, \"pct_rt_journey_atleast2_vp\": 90.0, \"% Scheduled Trip w/ 1+ VP/Minute\": 100.0, \"% Scheduled Trip w/ 2+ VP/Minute\": 100.0, \"Realtime versus Scheduled Service Ratio\": 1.39, \"Average Actual Service (Trip Minutes)\": 67.92, \"GTFS Availability\": \"schedule_and_vp\", \"Speed (MPH)\": 8.5, \"Transit Operator\": \"Lawndale Beat GMV Schedule\", \"route_long_name\": \"Residential Route\", \"route_short_name\": \"Res\", \"Route\": \"Residential Route\", \"Route ID\": \"6116\", \"schedule_source_record_id\": \"recOFWnzS8spJsM1h\", \"Base64 Encoded Feed URL\": \"aHR0cHM6Ly9yaWRlbGF3bmRhbGViZWF0LmNvbS9ndGZz\", \"Organization ID\": \"recj8LXdeSurpSRNU\", \"Organization\": \"City of Lawndale\", \"District\": \"07 - Los Angeles\", \"ruler_100_pct\": 100, \"ruler_for_vp_per_min\": 2, \"frequency_in_minutes\": 60.0, \"direction_id\": 0.0, \"Direction\": \"Southbound\", \"recent_route_id2\": \"6116\", \"Frequency in Minutes\": \"A trip going this direction comes every 60 minutes\"}, {\"schedule_gtfs_dataset_key\": \"09a703757d1ed14ca9580b1385e39315\", \"dir_0_1\": 0.0, \"Period\": \"peak\", \"Average Scheduled Service (trip minutes)\": 49.0, \"Average Stop Distance (miles)\": 0.24, \"# scheduled trips\": 8, \"Trips per Hour\": 1.0, \"is_express\": 0.0, \"is_rapid\": 0.0, \"is_rail\": 0.0, \"is_coverage\": 1.0, \"is_downtown_local\": 1.0, \"is_local\": 0.0, \"Date\": \"2023-11-15T00:00:00\", \"Route typology\": \"downtown_local\", \"# Minutes with 1+ VP per Minute\": 428, \"# Minutes with 2+ VP per Minute\": 424, \"Aggregate Actual Service Minutes\": 419.37, \"Aggregate Scheduled Service Minutes (all trips)\": 392.0, \"# VP\": 1264, \"# VP within Scheduled Shape\": 1250, \"# Early Arrival Trips\": 1, \"# On-Time Trips\": 4, \"# Late Trips\": 3, \"# Trips with VP\": 8, \"Average VP per Minute\": 3.01, \"% VP within Scheduled Shape\": 99.0, \"pct_rt_journey_atleast1_vp\": 100.0, \"pct_rt_journey_atleast2_vp\": 100.0, \"% Scheduled Trip w/ 1+ VP/Minute\": 100.0, \"% Scheduled Trip w/ 2+ VP/Minute\": 100.0, \"Realtime versus Scheduled Service Ratio\": 1.07, \"Average Actual Service (Trip Minutes)\": 52.42, \"GTFS Availability\": \"schedule_and_vp\", \"Speed (MPH)\": 11.65, \"Transit Operator\": \"Lawndale Beat GMV Schedule\", \"route_long_name\": \"Residential Route\", \"route_short_name\": \"Res\", \"Route\": \"Residential Route\", \"Route ID\": \"6116\", \"schedule_source_record_id\": \"recOFWnzS8spJsM1h\", \"Base64 Encoded Feed URL\": \"aHR0cHM6Ly9yaWRlbGF3bmRhbGViZWF0LmNvbS9ndGZz\", \"Organization ID\": \"recj8LXdeSurpSRNU\", \"Organization\": \"City of Lawndale\", \"District\": \"07 - Los Angeles\", \"ruler_100_pct\": 100, \"ruler_for_vp_per_min\": 2, \"frequency_in_minutes\": 60.0, \"direction_id\": 0.0, \"Direction\": \"Southbound\", \"recent_route_id2\": \"6116\", \"Frequency in Minutes\": \"A trip going this direction comes every 60 minutes\"}, {\"schedule_gtfs_dataset_key\": \"09a703757d1ed14ca9580b1385e39315\", \"dir_0_1\": 0.0, \"Period\": \"peak\", \"Average Scheduled Service (trip minutes)\": 49.0, \"Average Stop Distance (miles)\": 0.24, \"# scheduled trips\": 8, \"Trips per Hour\": 1.0, \"is_express\": 0.0, \"is_rapid\": 0.0, \"is_rail\": 0.0, \"is_coverage\": 1.0, \"is_downtown_local\": 1.0, \"is_local\": 0.0, \"Date\": \"2023-12-13T00:00:00\", \"Route typology\": \"downtown_local\", \"# Minutes with 1+ VP per Minute\": 372, \"# Minutes with 2+ VP per Minute\": 364, \"Aggregate Actual Service Minutes\": 422.27, \"Aggregate Scheduled Service Minutes (all trips)\": 343.0, \"# VP\": 1088, \"# VP within Scheduled Shape\": 1074, \"# Early Arrival Trips\": 1, \"# On-Time Trips\": 3, \"# Late Trips\": 3, \"# Trips with VP\": 7, \"Average VP per Minute\": 2.58, \"% VP within Scheduled Shape\": 99.0, \"pct_rt_journey_atleast1_vp\": 88.0, \"pct_rt_journey_atleast2_vp\": 86.0, \"% Scheduled Trip w/ 1+ VP/Minute\": 100.0, \"% Scheduled Trip w/ 2+ VP/Minute\": 100.0, \"Realtime versus Scheduled Service Ratio\": 1.23, \"Average Actual Service (Trip Minutes)\": 60.32, \"GTFS Availability\": \"schedule_and_vp\", \"Speed (MPH)\": 9.71, \"Transit Operator\": \"Lawndale Beat GMV Schedule\", \"route_long_name\": \"Residential Route\", \"route_short_name\": \"Res\", \"Route\": \"Residential Route\", \"Route ID\": \"6116\", \"schedule_source_record_id\": \"recOFWnzS8spJsM1h\", \"Base64 Encoded Feed URL\": \"aHR0cHM6Ly9yaWRlbGF3bmRhbGViZWF0LmNvbS9ndGZz\", \"Organization ID\": \"recj8LXdeSurpSRNU\", \"Organization\": \"City of Lawndale\", \"District\": \"07 - Los Angeles\", \"ruler_100_pct\": 100, \"ruler_for_vp_per_min\": 2, \"frequency_in_minutes\": 60.0, \"direction_id\": 0.0, \"Direction\": \"Southbound\", \"recent_route_id2\": \"6116\", \"Frequency in Minutes\": \"A trip going this direction comes every 60 minutes\"}, {\"schedule_gtfs_dataset_key\": \"09a703757d1ed14ca9580b1385e39315\", \"dir_0_1\": 0.0, \"Period\": \"peak\", \"Average Scheduled Service (trip minutes)\": 49.0, \"Average Stop Distance (miles)\": 0.24, \"# scheduled trips\": 8, \"Trips per Hour\": 1.0, \"is_express\": 0.0, \"is_rapid\": 0.0, \"is_rail\": 0.0, \"is_coverage\": 1.0, \"is_downtown_local\": 1.0, \"is_local\": 0.0, \"Date\": \"2024-01-17T00:00:00\", \"Route typology\": \"downtown_local\", \"# Minutes with 1+ VP per Minute\": 736, \"# Minutes with 2+ VP per Minute\": 723, \"Aggregate Actual Service Minutes\": 2055.94, \"Aggregate Scheduled Service Minutes (all trips)\": 392.0, \"# VP\": 2173, \"# VP within Scheduled Shape\": 1668, \"# Early Arrival Trips\": 0, \"# On-Time Trips\": 3, \"# Late Trips\": 5, \"# Trips with VP\": 8, \"Average VP per Minute\": 1.06, \"% VP within Scheduled Shape\": 77.0, \"pct_rt_journey_atleast1_vp\": 36.0, \"pct_rt_journey_atleast2_vp\": 35.0, \"% Scheduled Trip w/ 1+ VP/Minute\": 100.0, \"% Scheduled Trip w/ 2+ VP/Minute\": 100.0, \"Realtime versus Scheduled Service Ratio\": 5.24, \"Average Actual Service (Trip Minutes)\": 256.99, \"GTFS Availability\": \"schedule_and_vp\", \"Speed (MPH)\": 5.78, \"Transit Operator\": \"Lawndale Beat GMV Schedule\", \"route_long_name\": \"Residential Route\", \"route_short_name\": \"Res\", \"Route\": \"Residential Route\", \"Route ID\": \"6116\", \"schedule_source_record_id\": \"recOFWnzS8spJsM1h\", \"Base64 Encoded Feed URL\": \"aHR0cHM6Ly9yaWRlbGF3bmRhbGViZWF0LmNvbS9ndGZz\", \"Organization ID\": \"recj8LXdeSurpSRNU\", \"Organization\": \"City of Lawndale\", \"District\": \"07 - Los Angeles\", \"ruler_100_pct\": 100, \"ruler_for_vp_per_min\": 2, \"frequency_in_minutes\": 60.0, \"direction_id\": 0.0, \"Direction\": \"Southbound\", \"recent_route_id2\": \"6116\", \"Frequency in Minutes\": \"A trip going this direction comes every 60 minutes\"}, {\"schedule_gtfs_dataset_key\": \"09a703757d1ed14ca9580b1385e39315\", \"dir_0_1\": 0.0, \"Period\": \"peak\", \"Average Scheduled Service (trip minutes)\": 49.0, \"Average Stop Distance (miles)\": 0.24, \"# scheduled trips\": 8, \"Trips per Hour\": 1.0, \"is_express\": 0.0, \"is_rapid\": 0.0, \"is_rail\": 0.0, \"is_coverage\": 1.0, \"is_downtown_local\": 1.0, \"is_local\": 0.0, \"Date\": \"2024-02-14T00:00:00\", \"Route typology\": \"downtown_local\", \"# Minutes with 1+ VP per Minute\": 449, \"# Minutes with 2+ VP per Minute\": 440, \"Aggregate Actual Service Minutes\": 440.65, \"Aggregate Scheduled Service Minutes (all trips)\": 392.0, \"# VP\": 1323, \"# VP within Scheduled Shape\": 1306, \"# Early Arrival Trips\": 0, \"# On-Time Trips\": 5, \"# Late Trips\": 3, \"# Trips with VP\": 8, \"Average VP per Minute\": 3.0, \"% VP within Scheduled Shape\": 99.0, \"pct_rt_journey_atleast1_vp\": 100.0, \"pct_rt_journey_atleast2_vp\": 100.0, \"% Scheduled Trip w/ 1+ VP/Minute\": 100.0, \"% Scheduled Trip w/ 2+ VP/Minute\": 100.0, \"Realtime versus Scheduled Service Ratio\": 1.12, \"Average Actual Service (Trip Minutes)\": 55.08, \"GTFS Availability\": \"schedule_and_vp\", \"Speed (MPH)\": 11.3, \"Transit Operator\": \"Lawndale Beat GMV Schedule\", \"route_long_name\": \"Residential Route\", \"route_short_name\": \"Res\", \"Route\": \"Residential Route\", \"Route ID\": \"6116\", \"schedule_source_record_id\": \"recOFWnzS8spJsM1h\", \"Base64 Encoded Feed URL\": \"aHR0cHM6Ly9yaWRlbGF3bmRhbGViZWF0LmNvbS9ndGZz\", \"Organization ID\": \"recj8LXdeSurpSRNU\", \"Organization\": \"City of Lawndale\", \"District\": \"07 - Los Angeles\", \"ruler_100_pct\": 100, \"ruler_for_vp_per_min\": 2, \"frequency_in_minutes\": 60.0, \"direction_id\": 0.0, \"Direction\": \"Southbound\", \"recent_route_id2\": \"6116\", \"Frequency in Minutes\": \"A trip going this direction comes every 60 minutes\"}, {\"schedule_gtfs_dataset_key\": \"09a703757d1ed14ca9580b1385e39315\", \"dir_0_1\": 0.0, \"Period\": \"peak\", \"Average Scheduled Service (trip minutes)\": 49.0, \"Average Stop Distance (miles)\": 0.24, \"# scheduled trips\": 8, \"Trips per Hour\": 1.0, \"is_express\": 0.0, \"is_rapid\": 0.0, \"is_rail\": 0.0, \"is_coverage\": 1.0, \"is_downtown_local\": 1.0, \"is_local\": 0.0, \"Date\": \"2024-03-13T00:00:00\", \"Route typology\": \"downtown_local\", \"# Minutes with 1+ VP per Minute\": 429, \"# Minutes with 2+ VP per Minute\": 423, \"Aggregate Actual Service Minutes\": 443.19, \"Aggregate Scheduled Service Minutes (all trips)\": 392.0, \"# VP\": 1260, \"# VP within Scheduled Shape\": 1229, \"# Early Arrival Trips\": 1, \"# On-Time Trips\": 5, \"# Late Trips\": 2, \"# Trips with VP\": 8, \"Average VP per Minute\": 2.84, \"% VP within Scheduled Shape\": 98.0, \"pct_rt_journey_atleast1_vp\": 97.0, \"pct_rt_journey_atleast2_vp\": 95.0, \"% Scheduled Trip w/ 1+ VP/Minute\": 100.0, \"% Scheduled Trip w/ 2+ VP/Minute\": 100.0, \"Realtime versus Scheduled Service Ratio\": 1.13, \"Average Actual Service (Trip Minutes)\": 55.4, \"GTFS Availability\": \"schedule_and_vp\", \"Speed (MPH)\": 12.25, \"Transit Operator\": \"Lawndale Beat GMV Schedule\", \"route_long_name\": \"Residential Route\", \"route_short_name\": \"Res\", \"Route\": \"Residential Route\", \"Route ID\": \"6116\", \"schedule_source_record_id\": \"recOFWnzS8spJsM1h\", \"Base64 Encoded Feed URL\": \"aHR0cHM6Ly9yaWRlbGF3bmRhbGViZWF0LmNvbS9ndGZz\", \"Organization ID\": \"recj8LXdeSurpSRNU\", \"Organization\": \"City of Lawndale\", \"District\": \"07 - Los Angeles\", \"ruler_100_pct\": 100, \"ruler_for_vp_per_min\": 2, \"frequency_in_minutes\": 60.0, \"direction_id\": 0.0, \"Direction\": \"Southbound\", \"recent_route_id2\": \"6116\", \"Frequency in Minutes\": \"A trip going this direction comes every 60 minutes\"}, {\"schedule_gtfs_dataset_key\": \"09a703757d1ed14ca9580b1385e39315\", \"dir_0_1\": 0.0, \"Period\": \"all_day\", \"Average Scheduled Service (trip minutes)\": 35.0, \"Average Stop Distance (miles)\": 0.27, \"# scheduled trips\": 16, \"Trips per Hour\": 0.67, \"is_express\": 1.0, \"is_rapid\": 0.0, \"is_rail\": 0.0, \"is_coverage\": 0.0, \"is_downtown_local\": 1.0, \"is_local\": 0.0, \"Date\": \"2023-10-11T00:00:00\", \"Route typology\": \"express\", \"# Minutes with 1+ VP per Minute\": 274, \"# Minutes with 2+ VP per Minute\": 272, \"Aggregate Actual Service Minutes\": 269.71, \"Aggregate Scheduled Service Minutes (all trips)\": 210.0, \"# VP\": 815, \"# VP within Scheduled Shape\": 806, \"# Early Arrival Trips\": 0, \"# On-Time Trips\": 4, \"# Late Trips\": 2, \"# Trips with VP\": 6, \"Average VP per Minute\": 3.02, \"% VP within Scheduled Shape\": 99.0, \"pct_rt_journey_atleast1_vp\": 100.0, \"pct_rt_journey_atleast2_vp\": 100.0, \"% Scheduled Trip w/ 1+ VP/Minute\": 100.0, \"% Scheduled Trip w/ 2+ VP/Minute\": 100.0, \"Realtime versus Scheduled Service Ratio\": 1.28, \"Average Actual Service (Trip Minutes)\": 44.95, \"GTFS Availability\": \"schedule_and_vp\", \"Speed (MPH)\": 11.49, \"Transit Operator\": \"Lawndale Beat GMV Schedule\", \"route_long_name\": \"Express Route\", \"route_short_name\": \"EX\", \"Route\": \"Express Route\", \"Route ID\": \"6117\", \"schedule_source_record_id\": \"recOFWnzS8spJsM1h\", \"Base64 Encoded Feed URL\": \"aHR0cHM6Ly9yaWRlbGF3bmRhbGViZWF0LmNvbS9ndGZz\", \"Organization ID\": \"recj8LXdeSurpSRNU\", \"Organization\": \"City of Lawndale\", \"District\": \"07 - Los Angeles\", \"ruler_100_pct\": 100, \"ruler_for_vp_per_min\": 2, \"frequency_in_minutes\": 89.55223880597015, \"direction_id\": 0.0, \"Direction\": \"Southbound\", \"recent_route_id2\": \"6117\", \"Frequency in Minutes\": \"A trip going this direction comes every 89 minutes\"}, {\"schedule_gtfs_dataset_key\": \"09a703757d1ed14ca9580b1385e39315\", \"dir_0_1\": 0.0, \"Period\": \"all_day\", \"Average Scheduled Service (trip minutes)\": 35.0, \"Average Stop Distance (miles)\": 0.27, \"# scheduled trips\": 16, \"Trips per Hour\": 0.67, \"is_express\": 1.0, \"is_rapid\": 0.0, \"is_rail\": 0.0, \"is_coverage\": 0.0, \"is_downtown_local\": 1.0, \"is_local\": 0.0, \"Date\": \"2023-11-15T00:00:00\", \"Route typology\": \"express\", \"# Minutes with 1+ VP per Minute\": 27, \"# Minutes with 2+ VP per Minute\": 24, \"Aggregate Actual Service Minutes\": 95.63, \"Aggregate Scheduled Service Minutes (all trips)\": 35.0, \"# VP\": 74, \"# VP within Scheduled Shape\": 71, \"# Early Arrival Trips\": 0, \"# On-Time Trips\": 0, \"# Late Trips\": 1, \"# Trips with VP\": 1, \"Average VP per Minute\": 0.77, \"% VP within Scheduled Shape\": 96.0, \"pct_rt_journey_atleast1_vp\": 28.000000000000004, \"pct_rt_journey_atleast2_vp\": 25.0, \"% Scheduled Trip w/ 1+ VP/Minute\": 77.0, \"% Scheduled Trip w/ 2+ VP/Minute\": 69.0, \"Realtime versus Scheduled Service Ratio\": 2.73, \"Average Actual Service (Trip Minutes)\": 95.63, \"GTFS Availability\": \"schedule_and_vp\", \"Speed (MPH)\": null, \"Transit Operator\": \"Lawndale Beat GMV Schedule\", \"route_long_name\": \"Express Route\", \"route_short_name\": \"EX\", \"Route\": \"Express Route\", \"Route ID\": \"6117\", \"schedule_source_record_id\": \"recOFWnzS8spJsM1h\", \"Base64 Encoded Feed URL\": \"aHR0cHM6Ly9yaWRlbGF3bmRhbGViZWF0LmNvbS9ndGZz\", \"Organization ID\": \"recj8LXdeSurpSRNU\", \"Organization\": \"City of Lawndale\", \"District\": \"07 - Los Angeles\", \"ruler_100_pct\": 100, \"ruler_for_vp_per_min\": 2, \"frequency_in_minutes\": 89.55223880597015, \"direction_id\": 0.0, \"Direction\": \"Southbound\", \"recent_route_id2\": \"6117\", \"Frequency in Minutes\": \"A trip going this direction comes every 89 minutes\"}, {\"schedule_gtfs_dataset_key\": \"09a703757d1ed14ca9580b1385e39315\", \"dir_0_1\": 0.0, \"Period\": \"all_day\", \"Average Scheduled Service (trip minutes)\": 35.0, \"Average Stop Distance (miles)\": 0.27, \"# scheduled trips\": 16, \"Trips per Hour\": 0.67, \"is_express\": 1.0, \"is_rapid\": 0.0, \"is_rail\": 0.0, \"is_coverage\": 0.0, \"is_downtown_local\": 1.0, \"is_local\": 0.0, \"Date\": \"2023-12-13T00:00:00\", \"Route typology\": \"express\", \"# Minutes with 1+ VP per Minute\": 750, \"# Minutes with 2+ VP per Minute\": 738, \"Aggregate Actual Service Minutes\": 1469.17, \"Aggregate Scheduled Service Minutes (all trips)\": 420.0, \"# VP\": 2215, \"# VP within Scheduled Shape\": 2003, \"# Early Arrival Trips\": 1, \"# On-Time Trips\": 2, \"# Late Trips\": 9, \"# Trips with VP\": 12, \"Average VP per Minute\": 1.51, \"% VP within Scheduled Shape\": 90.0, \"pct_rt_journey_atleast1_vp\": 51.0, \"pct_rt_journey_atleast2_vp\": 50.0, \"% Scheduled Trip w/ 1+ VP/Minute\": 100.0, \"% Scheduled Trip w/ 2+ VP/Minute\": 100.0, \"Realtime versus Scheduled Service Ratio\": 3.5, \"Average Actual Service (Trip Minutes)\": 122.43, \"GTFS Availability\": \"schedule_and_vp\", \"Speed (MPH)\": 9.58, \"Transit Operator\": \"Lawndale Beat GMV Schedule\", \"route_long_name\": \"Express Route\", \"route_short_name\": \"EX\", \"Route\": \"Express Route\", \"Route ID\": \"6117\", \"schedule_source_record_id\": \"recOFWnzS8spJsM1h\", \"Base64 Encoded Feed URL\": \"aHR0cHM6Ly9yaWRlbGF3bmRhbGViZWF0LmNvbS9ndGZz\", \"Organization ID\": \"recj8LXdeSurpSRNU\", \"Organization\": \"City of Lawndale\", \"District\": \"07 - Los Angeles\", \"ruler_100_pct\": 100, \"ruler_for_vp_per_min\": 2, \"frequency_in_minutes\": 89.55223880597015, \"direction_id\": 0.0, \"Direction\": \"Southbound\", \"recent_route_id2\": \"6117\", \"Frequency in Minutes\": \"A trip going this direction comes every 89 minutes\"}, {\"schedule_gtfs_dataset_key\": \"09a703757d1ed14ca9580b1385e39315\", \"dir_0_1\": 0.0, \"Period\": \"all_day\", \"Average Scheduled Service (trip minutes)\": 35.0, \"Average Stop Distance (miles)\": 0.27, \"# scheduled trips\": 16, \"Trips per Hour\": 0.67, \"is_express\": 1.0, \"is_rapid\": 0.0, \"is_rail\": 0.0, \"is_coverage\": 0.0, \"is_downtown_local\": 1.0, \"is_local\": 0.0, \"Date\": \"2024-01-17T00:00:00\", \"Route typology\": \"express\", \"# Minutes with 1+ VP per Minute\": 394, \"# Minutes with 2+ VP per Minute\": 385, \"Aggregate Actual Service Minutes\": 401.54, \"Aggregate Scheduled Service Minutes (all trips)\": 315.0, \"# VP\": 1151, \"# VP within Scheduled Shape\": 1151, \"# Early Arrival Trips\": 0, \"# On-Time Trips\": 5, \"# Late Trips\": 4, \"# Trips with VP\": 9, \"Average VP per Minute\": 2.87, \"% VP within Scheduled Shape\": 100.0, \"pct_rt_journey_atleast1_vp\": 98.0, \"pct_rt_journey_atleast2_vp\": 96.0, \"% Scheduled Trip w/ 1+ VP/Minute\": 100.0, \"% Scheduled Trip w/ 2+ VP/Minute\": 100.0, \"Realtime versus Scheduled Service Ratio\": 1.27, \"Average Actual Service (Trip Minutes)\": 44.62, \"GTFS Availability\": \"schedule_and_vp\", \"Speed (MPH)\": 8.96, \"Transit Operator\": \"Lawndale Beat GMV Schedule\", \"route_long_name\": \"Express Route\", \"route_short_name\": \"EX\", \"Route\": \"Express Route\", \"Route ID\": \"6117\", \"schedule_source_record_id\": \"recOFWnzS8spJsM1h\", \"Base64 Encoded Feed URL\": \"aHR0cHM6Ly9yaWRlbGF3bmRhbGViZWF0LmNvbS9ndGZz\", \"Organization ID\": \"recj8LXdeSurpSRNU\", \"Organization\": \"City of Lawndale\", \"District\": \"07 - Los Angeles\", \"ruler_100_pct\": 100, \"ruler_for_vp_per_min\": 2, \"frequency_in_minutes\": 89.55223880597015, \"direction_id\": 0.0, \"Direction\": \"Southbound\", \"recent_route_id2\": \"6117\", \"Frequency in Minutes\": \"A trip going this direction comes every 89 minutes\"}, {\"schedule_gtfs_dataset_key\": \"09a703757d1ed14ca9580b1385e39315\", \"dir_0_1\": 0.0, \"Period\": \"all_day\", \"Average Scheduled Service (trip minutes)\": 35.0, \"Average Stop Distance (miles)\": 0.27, \"# scheduled trips\": 16, \"Trips per Hour\": 0.67, \"is_express\": 1.0, \"is_rapid\": 0.0, \"is_rail\": 0.0, \"is_coverage\": 0.0, \"is_downtown_local\": 1.0, \"is_local\": 0.0, \"Date\": \"2024-02-14T00:00:00\", \"Route typology\": \"express\", \"# Minutes with 1+ VP per Minute\": 290, \"# Minutes with 2+ VP per Minute\": 285, \"Aggregate Actual Service Minutes\": 286.24, \"Aggregate Scheduled Service Minutes (all trips)\": 175.0, \"# VP\": 855, \"# VP within Scheduled Shape\": 855, \"# Early Arrival Trips\": 1, \"# On-Time Trips\": 0, \"# Late Trips\": 4, \"# Trips with VP\": 5, \"Average VP per Minute\": 2.99, \"% VP within Scheduled Shape\": 100.0, \"pct_rt_journey_atleast1_vp\": 100.0, \"pct_rt_journey_atleast2_vp\": 100.0, \"% Scheduled Trip w/ 1+ VP/Minute\": 100.0, \"% Scheduled Trip w/ 2+ VP/Minute\": 100.0, \"Realtime versus Scheduled Service Ratio\": 1.64, \"Average Actual Service (Trip Minutes)\": 57.25, \"GTFS Availability\": \"schedule_and_vp\", \"Speed (MPH)\": 5.83, \"Transit Operator\": \"Lawndale Beat GMV Schedule\", \"route_long_name\": \"Express Route\", \"route_short_name\": \"EX\", \"Route\": \"Express Route\", \"Route ID\": \"6117\", \"schedule_source_record_id\": \"recOFWnzS8spJsM1h\", \"Base64 Encoded Feed URL\": \"aHR0cHM6Ly9yaWRlbGF3bmRhbGViZWF0LmNvbS9ndGZz\", \"Organization ID\": \"recj8LXdeSurpSRNU\", \"Organization\": \"City of Lawndale\", \"District\": \"07 - Los Angeles\", \"ruler_100_pct\": 100, \"ruler_for_vp_per_min\": 2, \"frequency_in_minutes\": 89.55223880597015, \"direction_id\": 0.0, \"Direction\": \"Southbound\", \"recent_route_id2\": \"6117\", \"Frequency in Minutes\": \"A trip going this direction comes every 89 minutes\"}, {\"schedule_gtfs_dataset_key\": \"09a703757d1ed14ca9580b1385e39315\", \"dir_0_1\": 0.0, \"Period\": \"all_day\", \"Average Scheduled Service (trip minutes)\": 35.0, \"Average Stop Distance (miles)\": 0.27, \"# scheduled trips\": 16, \"Trips per Hour\": 0.67, \"is_express\": 1.0, \"is_rapid\": 0.0, \"is_rail\": 0.0, \"is_coverage\": 0.0, \"is_downtown_local\": 1.0, \"is_local\": 0.0, \"Date\": \"2024-03-13T00:00:00\", \"Route typology\": \"express\", \"# Minutes with 1+ VP per Minute\": 688, \"# Minutes with 2+ VP per Minute\": 679, \"Aggregate Actual Service Minutes\": 675.43, \"Aggregate Scheduled Service Minutes (all trips)\": 560.0, \"# VP\": 2031, \"# VP within Scheduled Shape\": 2014, \"# Early Arrival Trips\": 0, \"# On-Time Trips\": 8, \"# Late Trips\": 8, \"# Trips with VP\": 16, \"Average VP per Minute\": 3.01, \"% VP within Scheduled Shape\": 99.0, \"pct_rt_journey_atleast1_vp\": 100.0, \"pct_rt_journey_atleast2_vp\": 100.0, \"% Scheduled Trip w/ 1+ VP/Minute\": 100.0, \"% Scheduled Trip w/ 2+ VP/Minute\": 100.0, \"Realtime versus Scheduled Service Ratio\": 1.21, \"Average Actual Service (Trip Minutes)\": 42.21, \"GTFS Availability\": \"schedule_and_vp\", \"Speed (MPH)\": 12.9, \"Transit Operator\": \"Lawndale Beat GMV Schedule\", \"route_long_name\": \"Express Route\", \"route_short_name\": \"EX\", \"Route\": \"Express Route\", \"Route ID\": \"6117\", \"schedule_source_record_id\": \"recOFWnzS8spJsM1h\", \"Base64 Encoded Feed URL\": \"aHR0cHM6Ly9yaWRlbGF3bmRhbGViZWF0LmNvbS9ndGZz\", \"Organization ID\": \"recj8LXdeSurpSRNU\", \"Organization\": \"City of Lawndale\", \"District\": \"07 - Los Angeles\", \"ruler_100_pct\": 100, \"ruler_for_vp_per_min\": 2, \"frequency_in_minutes\": 89.55223880597015, \"direction_id\": 0.0, \"Direction\": \"Southbound\", \"recent_route_id2\": \"6117\", \"Frequency in Minutes\": \"A trip going this direction comes every 89 minutes\"}, {\"schedule_gtfs_dataset_key\": \"09a703757d1ed14ca9580b1385e39315\", \"dir_0_1\": 0.0, \"Period\": \"offpeak\", \"Average Scheduled Service (trip minutes)\": 35.0, \"Average Stop Distance (miles)\": 0.27, \"# scheduled trips\": 8, \"Trips per Hour\": 0.5, \"is_express\": 1.0, \"is_rapid\": 0.0, \"is_rail\": 0.0, \"is_coverage\": 0.0, \"is_downtown_local\": 1.0, \"is_local\": 0.0, \"Date\": \"2023-10-11T00:00:00\", \"Route typology\": \"express\", \"# Minutes with 1+ VP per Minute\": 274, \"# Minutes with 2+ VP per Minute\": 272, \"Aggregate Actual Service Minutes\": 269.71, \"Aggregate Scheduled Service Minutes (all trips)\": 210.0, \"# VP\": 815, \"# VP within Scheduled Shape\": 806, \"# Early Arrival Trips\": 0, \"# On-Time Trips\": 4, \"# Late Trips\": 2, \"# Trips with VP\": 6, \"Average VP per Minute\": 3.02, \"% VP within Scheduled Shape\": 99.0, \"pct_rt_journey_atleast1_vp\": 100.0, \"pct_rt_journey_atleast2_vp\": 100.0, \"% Scheduled Trip w/ 1+ VP/Minute\": 100.0, \"% Scheduled Trip w/ 2+ VP/Minute\": 100.0, \"Realtime versus Scheduled Service Ratio\": 1.28, \"Average Actual Service (Trip Minutes)\": 44.95, \"GTFS Availability\": \"schedule_and_vp\", \"Speed (MPH)\": 11.49, \"Transit Operator\": \"Lawndale Beat GMV Schedule\", \"route_long_name\": \"Express Route\", \"route_short_name\": \"EX\", \"Route\": \"Express Route\", \"Route ID\": \"6117\", \"schedule_source_record_id\": \"recOFWnzS8spJsM1h\", \"Base64 Encoded Feed URL\": \"aHR0cHM6Ly9yaWRlbGF3bmRhbGViZWF0LmNvbS9ndGZz\", \"Organization ID\": \"recj8LXdeSurpSRNU\", \"Organization\": \"City of Lawndale\", \"District\": \"07 - Los Angeles\", \"ruler_100_pct\": 100, \"ruler_for_vp_per_min\": 2, \"frequency_in_minutes\": 120.0, \"direction_id\": 0.0, \"Direction\": \"Southbound\", \"recent_route_id2\": \"6117\", \"Frequency in Minutes\": \"A trip going this direction comes every 120 minutes\"}, {\"schedule_gtfs_dataset_key\": \"09a703757d1ed14ca9580b1385e39315\", \"dir_0_1\": 0.0, \"Period\": \"offpeak\", \"Average Scheduled Service (trip minutes)\": 35.0, \"Average Stop Distance (miles)\": 0.27, \"# scheduled trips\": 8, \"Trips per Hour\": 0.5, \"is_express\": 1.0, \"is_rapid\": 0.0, \"is_rail\": 0.0, \"is_coverage\": 0.0, \"is_downtown_local\": 1.0, \"is_local\": 0.0, \"Date\": \"2023-12-13T00:00:00\", \"Route typology\": \"express\", \"# Minutes with 1+ VP per Minute\": 286, \"# Minutes with 2+ VP per Minute\": 282, \"Aggregate Actual Service Minutes\": 283.42, \"Aggregate Scheduled Service Minutes (all trips)\": 175.0, \"# VP\": 846, \"# VP within Scheduled Shape\": 846, \"# Early Arrival Trips\": 0, \"# On-Time Trips\": 1, \"# Late Trips\": 4, \"# Trips with VP\": 5, \"Average VP per Minute\": 2.98, \"% VP within Scheduled Shape\": 100.0, \"pct_rt_journey_atleast1_vp\": 100.0, \"pct_rt_journey_atleast2_vp\": 100.0, \"% Scheduled Trip w/ 1+ VP/Minute\": 100.0, \"% Scheduled Trip w/ 2+ VP/Minute\": 100.0, \"Realtime versus Scheduled Service Ratio\": 1.62, \"Average Actual Service (Trip Minutes)\": 56.68, \"GTFS Availability\": \"schedule_and_vp\", \"Speed (MPH)\": 9.8, \"Transit Operator\": \"Lawndale Beat GMV Schedule\", \"route_long_name\": \"Express Route\", \"route_short_name\": \"EX\", \"Route\": \"Express Route\", \"Route ID\": \"6117\", \"schedule_source_record_id\": \"recOFWnzS8spJsM1h\", \"Base64 Encoded Feed URL\": \"aHR0cHM6Ly9yaWRlbGF3bmRhbGViZWF0LmNvbS9ndGZz\", \"Organization ID\": \"recj8LXdeSurpSRNU\", \"Organization\": \"City of Lawndale\", \"District\": \"07 - Los Angeles\", \"ruler_100_pct\": 100, \"ruler_for_vp_per_min\": 2, \"frequency_in_minutes\": 120.0, \"direction_id\": 0.0, \"Direction\": \"Southbound\", \"recent_route_id2\": \"6117\", \"Frequency in Minutes\": \"A trip going this direction comes every 120 minutes\"}, {\"schedule_gtfs_dataset_key\": \"09a703757d1ed14ca9580b1385e39315\", \"dir_0_1\": 0.0, \"Period\": \"offpeak\", \"Average Scheduled Service (trip minutes)\": 35.0, \"Average Stop Distance (miles)\": 0.27, \"# scheduled trips\": 8, \"Trips per Hour\": 0.5, \"is_express\": 1.0, \"is_rapid\": 0.0, \"is_rail\": 0.0, \"is_coverage\": 0.0, \"is_downtown_local\": 1.0, \"is_local\": 0.0, \"Date\": \"2024-01-17T00:00:00\", \"Route typology\": \"express\", \"# Minutes with 1+ VP per Minute\": 192, \"# Minutes with 2+ VP per Minute\": 189, \"Aggregate Actual Service Minutes\": 187.97, \"Aggregate Scheduled Service Minutes (all trips)\": 175.0, \"# VP\": 564, \"# VP within Scheduled Shape\": 564, \"# Early Arrival Trips\": 0, \"# On-Time Trips\": 4, \"# Late Trips\": 1, \"# Trips with VP\": 5, \"Average VP per Minute\": 3.0, \"% VP within Scheduled Shape\": 100.0, \"pct_rt_journey_atleast1_vp\": 100.0, \"pct_rt_journey_atleast2_vp\": 100.0, \"% Scheduled Trip w/ 1+ VP/Minute\": 100.0, \"% Scheduled Trip w/ 2+ VP/Minute\": 100.0, \"Realtime versus Scheduled Service Ratio\": 1.07, \"Average Actual Service (Trip Minutes)\": 37.59, \"GTFS Availability\": \"schedule_and_vp\", \"Speed (MPH)\": 12.68, \"Transit Operator\": \"Lawndale Beat GMV Schedule\", \"route_long_name\": \"Express Route\", \"route_short_name\": \"EX\", \"Route\": \"Express Route\", \"Route ID\": \"6117\", \"schedule_source_record_id\": \"recOFWnzS8spJsM1h\", \"Base64 Encoded Feed URL\": \"aHR0cHM6Ly9yaWRlbGF3bmRhbGViZWF0LmNvbS9ndGZz\", \"Organization ID\": \"recj8LXdeSurpSRNU\", \"Organization\": \"City of Lawndale\", \"District\": \"07 - Los Angeles\", \"ruler_100_pct\": 100, \"ruler_for_vp_per_min\": 2, \"frequency_in_minutes\": 120.0, \"direction_id\": 0.0, \"Direction\": \"Southbound\", \"recent_route_id2\": \"6117\", \"Frequency in Minutes\": \"A trip going this direction comes every 120 minutes\"}, {\"schedule_gtfs_dataset_key\": \"09a703757d1ed14ca9580b1385e39315\", \"dir_0_1\": 0.0, \"Period\": \"offpeak\", \"Average Scheduled Service (trip minutes)\": 35.0, \"Average Stop Distance (miles)\": 0.27, \"# scheduled trips\": 8, \"Trips per Hour\": 0.5, \"is_express\": 1.0, \"is_rapid\": 0.0, \"is_rail\": 0.0, \"is_coverage\": 0.0, \"is_downtown_local\": 1.0, \"is_local\": 0.0, \"Date\": \"2024-02-14T00:00:00\", \"Route typology\": \"express\", \"# Minutes with 1+ VP per Minute\": 200, \"# Minutes with 2+ VP per Minute\": 195, \"Aggregate Actual Service Minutes\": 197.24, \"Aggregate Scheduled Service Minutes (all trips)\": 105.0, \"# VP\": 586, \"# VP within Scheduled Shape\": 586, \"# Early Arrival Trips\": 0, \"# On-Time Trips\": 0, \"# Late Trips\": 3, \"# Trips with VP\": 3, \"Average VP per Minute\": 2.97, \"% VP within Scheduled Shape\": 100.0, \"pct_rt_journey_atleast1_vp\": 100.0, \"pct_rt_journey_atleast2_vp\": 99.0, \"% Scheduled Trip w/ 1+ VP/Minute\": 100.0, \"% Scheduled Trip w/ 2+ VP/Minute\": 100.0, \"Realtime versus Scheduled Service Ratio\": 1.88, \"Average Actual Service (Trip Minutes)\": 65.75, \"GTFS Availability\": \"schedule_and_vp\", \"Speed (MPH)\": 8.32, \"Transit Operator\": \"Lawndale Beat GMV Schedule\", \"route_long_name\": \"Express Route\", \"route_short_name\": \"EX\", \"Route\": \"Express Route\", \"Route ID\": \"6117\", \"schedule_source_record_id\": \"recOFWnzS8spJsM1h\", \"Base64 Encoded Feed URL\": \"aHR0cHM6Ly9yaWRlbGF3bmRhbGViZWF0LmNvbS9ndGZz\", \"Organization ID\": \"recj8LXdeSurpSRNU\", \"Organization\": \"City of Lawndale\", \"District\": \"07 - Los Angeles\", \"ruler_100_pct\": 100, \"ruler_for_vp_per_min\": 2, \"frequency_in_minutes\": 120.0, \"direction_id\": 0.0, \"Direction\": \"Southbound\", \"recent_route_id2\": \"6117\", \"Frequency in Minutes\": \"A trip going this direction comes every 120 minutes\"}, {\"schedule_gtfs_dataset_key\": \"09a703757d1ed14ca9580b1385e39315\", \"dir_0_1\": 0.0, \"Period\": \"offpeak\", \"Average Scheduled Service (trip minutes)\": 35.0, \"Average Stop Distance (miles)\": 0.27, \"# scheduled trips\": 8, \"Trips per Hour\": 0.5, \"is_express\": 1.0, \"is_rapid\": 0.0, \"is_rail\": 0.0, \"is_coverage\": 0.0, \"is_downtown_local\": 1.0, \"is_local\": 0.0, \"Date\": \"2024-03-13T00:00:00\", \"Route typology\": \"express\", \"# Minutes with 1+ VP per Minute\": 326, \"# Minutes with 2+ VP per Minute\": 323, \"Aggregate Actual Service Minutes\": 320.01, \"Aggregate Scheduled Service Minutes (all trips)\": 280.0, \"# VP\": 967, \"# VP within Scheduled Shape\": 967, \"# Early Arrival Trips\": 0, \"# On-Time Trips\": 5, \"# Late Trips\": 3, \"# Trips with VP\": 8, \"Average VP per Minute\": 3.02, \"% VP within Scheduled Shape\": 100.0, \"pct_rt_journey_atleast1_vp\": 100.0, \"pct_rt_journey_atleast2_vp\": 100.0, \"% Scheduled Trip w/ 1+ VP/Minute\": 100.0, \"% Scheduled Trip w/ 2+ VP/Minute\": 100.0, \"Realtime versus Scheduled Service Ratio\": 1.14, \"Average Actual Service (Trip Minutes)\": 40.0, \"GTFS Availability\": \"schedule_and_vp\", \"Speed (MPH)\": 12.96, \"Transit Operator\": \"Lawndale Beat GMV Schedule\", \"route_long_name\": \"Express Route\", \"route_short_name\": \"EX\", \"Route\": \"Express Route\", \"Route ID\": \"6117\", \"schedule_source_record_id\": \"recOFWnzS8spJsM1h\", \"Base64 Encoded Feed URL\": \"aHR0cHM6Ly9yaWRlbGF3bmRhbGViZWF0LmNvbS9ndGZz\", \"Organization ID\": \"recj8LXdeSurpSRNU\", \"Organization\": \"City of Lawndale\", \"District\": \"07 - Los Angeles\", \"ruler_100_pct\": 100, \"ruler_for_vp_per_min\": 2, \"frequency_in_minutes\": 120.0, \"direction_id\": 0.0, \"Direction\": \"Southbound\", \"recent_route_id2\": \"6117\", \"Frequency in Minutes\": \"A trip going this direction comes every 120 minutes\"}, {\"schedule_gtfs_dataset_key\": \"09a703757d1ed14ca9580b1385e39315\", \"dir_0_1\": 0.0, \"Period\": \"peak\", \"Average Scheduled Service (trip minutes)\": 35.0, \"Average Stop Distance (miles)\": 0.27, \"# scheduled trips\": 8, \"Trips per Hour\": 1.0, \"is_express\": 1.0, \"is_rapid\": 0.0, \"is_rail\": 0.0, \"is_coverage\": 0.0, \"is_downtown_local\": 1.0, \"is_local\": 0.0, \"Date\": \"2023-11-15T00:00:00\", \"Route typology\": \"express\", \"# Minutes with 1+ VP per Minute\": 27, \"# Minutes with 2+ VP per Minute\": 24, \"Aggregate Actual Service Minutes\": 95.63, \"Aggregate Scheduled Service Minutes (all trips)\": 35.0, \"# VP\": 74, \"# VP within Scheduled Shape\": 71, \"# Early Arrival Trips\": 0, \"# On-Time Trips\": 0, \"# Late Trips\": 1, \"# Trips with VP\": 1, \"Average VP per Minute\": 0.77, \"% VP within Scheduled Shape\": 96.0, \"pct_rt_journey_atleast1_vp\": 28.000000000000004, \"pct_rt_journey_atleast2_vp\": 25.0, \"% Scheduled Trip w/ 1+ VP/Minute\": 77.0, \"% Scheduled Trip w/ 2+ VP/Minute\": 69.0, \"Realtime versus Scheduled Service Ratio\": 2.73, \"Average Actual Service (Trip Minutes)\": 95.63, \"GTFS Availability\": \"schedule_and_vp\", \"Speed (MPH)\": null, \"Transit Operator\": \"Lawndale Beat GMV Schedule\", \"route_long_name\": \"Express Route\", \"route_short_name\": \"EX\", \"Route\": \"Express Route\", \"Route ID\": \"6117\", \"schedule_source_record_id\": \"recOFWnzS8spJsM1h\", \"Base64 Encoded Feed URL\": \"aHR0cHM6Ly9yaWRlbGF3bmRhbGViZWF0LmNvbS9ndGZz\", \"Organization ID\": \"recj8LXdeSurpSRNU\", \"Organization\": \"City of Lawndale\", \"District\": \"07 - Los Angeles\", \"ruler_100_pct\": 100, \"ruler_for_vp_per_min\": 2, \"frequency_in_minutes\": 60.0, \"direction_id\": 0.0, \"Direction\": \"Southbound\", \"recent_route_id2\": \"6117\", \"Frequency in Minutes\": \"A trip going this direction comes every 60 minutes\"}, {\"schedule_gtfs_dataset_key\": \"09a703757d1ed14ca9580b1385e39315\", \"dir_0_1\": 0.0, \"Period\": \"peak\", \"Average Scheduled Service (trip minutes)\": 35.0, \"Average Stop Distance (miles)\": 0.27, \"# scheduled trips\": 8, \"Trips per Hour\": 1.0, \"is_express\": 1.0, \"is_rapid\": 0.0, \"is_rail\": 0.0, \"is_coverage\": 0.0, \"is_downtown_local\": 1.0, \"is_local\": 0.0, \"Date\": \"2023-12-13T00:00:00\", \"Route typology\": \"express\", \"# Minutes with 1+ VP per Minute\": 464, \"# Minutes with 2+ VP per Minute\": 456, \"Aggregate Actual Service Minutes\": 1185.75, \"Aggregate Scheduled Service Minutes (all trips)\": 245.0, \"# VP\": 1369, \"# VP within Scheduled Shape\": 1157, \"# Early Arrival Trips\": 1, \"# On-Time Trips\": 1, \"# Late Trips\": 5, \"# Trips with VP\": 7, \"Average VP per Minute\": 1.15, \"% VP within Scheduled Shape\": 84.0, \"pct_rt_journey_atleast1_vp\": 39.0, \"pct_rt_journey_atleast2_vp\": 38.0, \"% Scheduled Trip w/ 1+ VP/Minute\": 100.0, \"% Scheduled Trip w/ 2+ VP/Minute\": 100.0, \"Realtime versus Scheduled Service Ratio\": 4.84, \"Average Actual Service (Trip Minutes)\": 169.39, \"GTFS Availability\": \"schedule_and_vp\", \"Speed (MPH)\": 9.38, \"Transit Operator\": \"Lawndale Beat GMV Schedule\", \"route_long_name\": \"Express Route\", \"route_short_name\": \"EX\", \"Route\": \"Express Route\", \"Route ID\": \"6117\", \"schedule_source_record_id\": \"recOFWnzS8spJsM1h\", \"Base64 Encoded Feed URL\": \"aHR0cHM6Ly9yaWRlbGF3bmRhbGViZWF0LmNvbS9ndGZz\", \"Organization ID\": \"recj8LXdeSurpSRNU\", \"Organization\": \"City of Lawndale\", \"District\": \"07 - Los Angeles\", \"ruler_100_pct\": 100, \"ruler_for_vp_per_min\": 2, \"frequency_in_minutes\": 60.0, \"direction_id\": 0.0, \"Direction\": \"Southbound\", \"recent_route_id2\": \"6117\", \"Frequency in Minutes\": \"A trip going this direction comes every 60 minutes\"}, {\"schedule_gtfs_dataset_key\": \"09a703757d1ed14ca9580b1385e39315\", \"dir_0_1\": 0.0, \"Period\": \"peak\", \"Average Scheduled Service (trip minutes)\": 35.0, \"Average Stop Distance (miles)\": 0.27, \"# scheduled trips\": 8, \"Trips per Hour\": 1.0, \"is_express\": 1.0, \"is_rapid\": 0.0, \"is_rail\": 0.0, \"is_coverage\": 0.0, \"is_downtown_local\": 1.0, \"is_local\": 0.0, \"Date\": \"2024-01-17T00:00:00\", \"Route typology\": \"express\", \"# Minutes with 1+ VP per Minute\": 202, \"# Minutes with 2+ VP per Minute\": 196, \"Aggregate Actual Service Minutes\": 213.57, \"Aggregate Scheduled Service Minutes (all trips)\": 140.0, \"# VP\": 587, \"# VP within Scheduled Shape\": 587, \"# Early Arrival Trips\": 0, \"# On-Time Trips\": 1, \"# Late Trips\": 3, \"# Trips with VP\": 4, \"Average VP per Minute\": 2.75, \"% VP within Scheduled Shape\": 100.0, \"pct_rt_journey_atleast1_vp\": 95.0, \"pct_rt_journey_atleast2_vp\": 92.0, \"% Scheduled Trip w/ 1+ VP/Minute\": 100.0, \"% Scheduled Trip w/ 2+ VP/Minute\": 100.0, \"Realtime versus Scheduled Service Ratio\": 1.53, \"Average Actual Service (Trip Minutes)\": 53.39, \"GTFS Availability\": \"schedule_and_vp\", \"Speed (MPH)\": 6.64, \"Transit Operator\": \"Lawndale Beat GMV Schedule\", \"route_long_name\": \"Express Route\", \"route_short_name\": \"EX\", \"Route\": \"Express Route\", \"Route ID\": \"6117\", \"schedule_source_record_id\": \"recOFWnzS8spJsM1h\", \"Base64 Encoded Feed URL\": \"aHR0cHM6Ly9yaWRlbGF3bmRhbGViZWF0LmNvbS9ndGZz\", \"Organization ID\": \"recj8LXdeSurpSRNU\", \"Organization\": \"City of Lawndale\", \"District\": \"07 - Los Angeles\", \"ruler_100_pct\": 100, \"ruler_for_vp_per_min\": 2, \"frequency_in_minutes\": 60.0, \"direction_id\": 0.0, \"Direction\": \"Southbound\", \"recent_route_id2\": \"6117\", \"Frequency in Minutes\": \"A trip going this direction comes every 60 minutes\"}, {\"schedule_gtfs_dataset_key\": \"09a703757d1ed14ca9580b1385e39315\", \"dir_0_1\": 0.0, \"Period\": \"peak\", \"Average Scheduled Service (trip minutes)\": 35.0, \"Average Stop Distance (miles)\": 0.27, \"# scheduled trips\": 8, \"Trips per Hour\": 1.0, \"is_express\": 1.0, \"is_rapid\": 0.0, \"is_rail\": 0.0, \"is_coverage\": 0.0, \"is_downtown_local\": 1.0, \"is_local\": 0.0, \"Date\": \"2024-02-14T00:00:00\", \"Route typology\": \"express\", \"# Minutes with 1+ VP per Minute\": 90, \"# Minutes with 2+ VP per Minute\": 90, \"Aggregate Actual Service Minutes\": 89.0, \"Aggregate Scheduled Service Minutes (all trips)\": 70.0, \"# VP\": 269, \"# VP within Scheduled Shape\": 269, \"# Early Arrival Trips\": 1, \"# On-Time Trips\": 0, \"# Late Trips\": 1, \"# Trips with VP\": 2, \"Average VP per Minute\": 3.02, \"% VP within Scheduled Shape\": 100.0, \"pct_rt_journey_atleast1_vp\": 100.0, \"pct_rt_journey_atleast2_vp\": 100.0, \"% Scheduled Trip w/ 1+ VP/Minute\": 100.0, \"% Scheduled Trip w/ 2+ VP/Minute\": 100.0, \"Realtime versus Scheduled Service Ratio\": 1.27, \"Average Actual Service (Trip Minutes)\": 44.5, \"GTFS Availability\": \"schedule_and_vp\", \"Speed (MPH)\": 3.24, \"Transit Operator\": \"Lawndale Beat GMV Schedule\", \"route_long_name\": \"Express Route\", \"route_short_name\": \"EX\", \"Route\": \"Express Route\", \"Route ID\": \"6117\", \"schedule_source_record_id\": \"recOFWnzS8spJsM1h\", \"Base64 Encoded Feed URL\": \"aHR0cHM6Ly9yaWRlbGF3bmRhbGViZWF0LmNvbS9ndGZz\", \"Organization ID\": \"recj8LXdeSurpSRNU\", \"Organization\": \"City of Lawndale\", \"District\": \"07 - Los Angeles\", \"ruler_100_pct\": 100, \"ruler_for_vp_per_min\": 2, \"frequency_in_minutes\": 60.0, \"direction_id\": 0.0, \"Direction\": \"Southbound\", \"recent_route_id2\": \"6117\", \"Frequency in Minutes\": \"A trip going this direction comes every 60 minutes\"}, {\"schedule_gtfs_dataset_key\": \"09a703757d1ed14ca9580b1385e39315\", \"dir_0_1\": 0.0, \"Period\": \"peak\", \"Average Scheduled Service (trip minutes)\": 35.0, \"Average Stop Distance (miles)\": 0.27, \"# scheduled trips\": 8, \"Trips per Hour\": 1.0, \"is_express\": 1.0, \"is_rapid\": 0.0, \"is_rail\": 0.0, \"is_coverage\": 0.0, \"is_downtown_local\": 1.0, \"is_local\": 0.0, \"Date\": \"2024-03-13T00:00:00\", \"Route typology\": \"express\", \"# Minutes with 1+ VP per Minute\": 362, \"# Minutes with 2+ VP per Minute\": 356, \"Aggregate Actual Service Minutes\": 355.42, \"Aggregate Scheduled Service Minutes (all trips)\": 280.0, \"# VP\": 1064, \"# VP within Scheduled Shape\": 1047, \"# Early Arrival Trips\": 0, \"# On-Time Trips\": 3, \"# Late Trips\": 5, \"# Trips with VP\": 8, \"Average VP per Minute\": 2.99, \"% VP within Scheduled Shape\": 98.0, \"pct_rt_journey_atleast1_vp\": 100.0, \"pct_rt_journey_atleast2_vp\": 100.0, \"% Scheduled Trip w/ 1+ VP/Minute\": 100.0, \"% Scheduled Trip w/ 2+ VP/Minute\": 100.0, \"Realtime versus Scheduled Service Ratio\": 1.27, \"Average Actual Service (Trip Minutes)\": 44.43, \"GTFS Availability\": \"schedule_and_vp\", \"Speed (MPH)\": 12.84, \"Transit Operator\": \"Lawndale Beat GMV Schedule\", \"route_long_name\": \"Express Route\", \"route_short_name\": \"EX\", \"Route\": \"Express Route\", \"Route ID\": \"6117\", \"schedule_source_record_id\": \"recOFWnzS8spJsM1h\", \"Base64 Encoded Feed URL\": \"aHR0cHM6Ly9yaWRlbGF3bmRhbGViZWF0LmNvbS9ndGZz\", \"Organization ID\": \"recj8LXdeSurpSRNU\", \"Organization\": \"City of Lawndale\", \"District\": \"07 - Los Angeles\", \"ruler_100_pct\": 100, \"ruler_for_vp_per_min\": 2, \"frequency_in_minutes\": 60.0, \"direction_id\": 0.0, \"Direction\": \"Southbound\", \"recent_route_id2\": \"6117\", \"Frequency in Minutes\": \"A trip going this direction comes every 60 minutes\"}, {\"schedule_gtfs_dataset_key\": \"7f75702198137c1a9b53dca78f702ddb\", \"dir_0_1\": 0.0, \"Period\": \"all_day\", \"Average Scheduled Service (trip minutes)\": 49.0, \"Average Stop Distance (miles)\": 0.24, \"# scheduled trips\": 14, \"Trips per Hour\": 0.58, \"is_express\": 0.0, \"is_rapid\": 0.0, \"is_rail\": 0.0, \"is_coverage\": 1.0, \"is_downtown_local\": 1.0, \"is_local\": 0.0, \"Date\": \"2023-09-13T00:00:00\", \"Route typology\": \"downtown_local\", \"# Minutes with 1+ VP per Minute\": 194, \"# Minutes with 2+ VP per Minute\": 193, \"Aggregate Actual Service Minutes\": 192.03, \"Aggregate Scheduled Service Minutes (all trips)\": 196.0, \"# VP\": 578, \"# VP within Scheduled Shape\": 526, \"# Early Arrival Trips\": 2, \"# On-Time Trips\": 0, \"# Late Trips\": 2, \"# Trips with VP\": 4, \"Average VP per Minute\": 3.01, \"% VP within Scheduled Shape\": 91.0, \"pct_rt_journey_atleast1_vp\": 100.0, \"pct_rt_journey_atleast2_vp\": 100.0, \"% Scheduled Trip w/ 1+ VP/Minute\": 99.0, \"% Scheduled Trip w/ 2+ VP/Minute\": 98.0, \"Realtime versus Scheduled Service Ratio\": 0.98, \"Average Actual Service (Trip Minutes)\": 48.01, \"GTFS Availability\": \"schedule_and_vp\", \"Speed (MPH)\": 12.78, \"Transit Operator\": \"Lawndale Beat GMV Schedule\", \"route_long_name\": \"Residential Route\", \"route_short_name\": \"Res\", \"Route\": \"Residential Route\", \"Route ID\": \"6116\", \"schedule_source_record_id\": \"recOFWnzS8spJsM1h\", \"Base64 Encoded Feed URL\": \"aHR0cHM6Ly9yaWRlbGF3bmRhbGViZWF0LmNvbS9ndGZz\", \"Organization ID\": \"recj8LXdeSurpSRNU\", \"Organization\": \"City of Lawndale\", \"District\": \"07 - Los Angeles\", \"ruler_100_pct\": 100, \"ruler_for_vp_per_min\": 2, \"frequency_in_minutes\": 103.44827586206897, \"direction_id\": 0.0, \"Direction\": \"Southbound\", \"recent_route_id2\": \"6116\", \"Frequency in Minutes\": \"A trip going this direction comes every 103 minutes\"}, {\"schedule_gtfs_dataset_key\": \"7f75702198137c1a9b53dca78f702ddb\", \"dir_0_1\": 0.0, \"Period\": \"peak\", \"Average Scheduled Service (trip minutes)\": 49.0, \"Average Stop Distance (miles)\": 0.24, \"# scheduled trips\": 8, \"Trips per Hour\": 1.0, \"is_express\": 0.0, \"is_rapid\": 0.0, \"is_rail\": 0.0, \"is_coverage\": 1.0, \"is_downtown_local\": 1.0, \"is_local\": 0.0, \"Date\": \"2023-09-13T00:00:00\", \"Route typology\": \"downtown_local\", \"# Minutes with 1+ VP per Minute\": 194, \"# Minutes with 2+ VP per Minute\": 193, \"Aggregate Actual Service Minutes\": 192.03, \"Aggregate Scheduled Service Minutes (all trips)\": 196.0, \"# VP\": 578, \"# VP within Scheduled Shape\": 526, \"# Early Arrival Trips\": 2, \"# On-Time Trips\": 0, \"# Late Trips\": 2, \"# Trips with VP\": 4, \"Average VP per Minute\": 3.01, \"% VP within Scheduled Shape\": 91.0, \"pct_rt_journey_atleast1_vp\": 100.0, \"pct_rt_journey_atleast2_vp\": 100.0, \"% Scheduled Trip w/ 1+ VP/Minute\": 99.0, \"% Scheduled Trip w/ 2+ VP/Minute\": 98.0, \"Realtime versus Scheduled Service Ratio\": 0.98, \"Average Actual Service (Trip Minutes)\": 48.01, \"GTFS Availability\": \"schedule_and_vp\", \"Speed (MPH)\": 12.78, \"Transit Operator\": \"Lawndale Beat GMV Schedule\", \"route_long_name\": \"Residential Route\", \"route_short_name\": \"Res\", \"Route\": \"Residential Route\", \"Route ID\": \"6116\", \"schedule_source_record_id\": \"recOFWnzS8spJsM1h\", \"Base64 Encoded Feed URL\": \"aHR0cHM6Ly9yaWRlbGF3bmRhbGViZWF0LmNvbS9ndGZz\", \"Organization ID\": \"recj8LXdeSurpSRNU\", \"Organization\": \"City of Lawndale\", \"District\": \"07 - Los Angeles\", \"ruler_100_pct\": 100, \"ruler_for_vp_per_min\": 2, \"frequency_in_minutes\": 60.0, \"direction_id\": 0.0, \"Direction\": \"Southbound\", \"recent_route_id2\": \"6116\", \"Frequency in Minutes\": \"A trip going this direction comes every 60 minutes\"}, {\"schedule_gtfs_dataset_key\": \"7f75702198137c1a9b53dca78f702ddb\", \"dir_0_1\": 0.0, \"Period\": \"all_day\", \"Average Scheduled Service (trip minutes)\": 35.0, \"Average Stop Distance (miles)\": 0.27, \"# scheduled trips\": 16, \"Trips per Hour\": 0.67, \"is_express\": 1.0, \"is_rapid\": 0.0, \"is_rail\": 0.0, \"is_coverage\": 0.0, \"is_downtown_local\": 1.0, \"is_local\": 0.0, \"Date\": \"2023-09-13T00:00:00\", \"Route typology\": \"express\", \"# Minutes with 1+ VP per Minute\": 554, \"# Minutes with 2+ VP per Minute\": 537, \"Aggregate Actual Service Minutes\": 551.65, \"Aggregate Scheduled Service Minutes (all trips)\": 350.0, \"# VP\": 1614, \"# VP within Scheduled Shape\": 1144, \"# Early Arrival Trips\": 0, \"# On-Time Trips\": 3, \"# Late Trips\": 7, \"# Trips with VP\": 10, \"Average VP per Minute\": 2.93, \"% VP within Scheduled Shape\": 71.0, \"pct_rt_journey_atleast1_vp\": 100.0, \"pct_rt_journey_atleast2_vp\": 97.0, \"% Scheduled Trip w/ 1+ VP/Minute\": 100.0, \"% Scheduled Trip w/ 2+ VP/Minute\": 100.0, \"Realtime versus Scheduled Service Ratio\": 1.58, \"Average Actual Service (Trip Minutes)\": 55.16, \"GTFS Availability\": \"schedule_and_vp\", \"Speed (MPH)\": 11.25, \"Transit Operator\": \"Lawndale Beat GMV Schedule\", \"route_long_name\": \"Express Route\", \"route_short_name\": \"EX\", \"Route\": \"Express Route\", \"Route ID\": \"6117\", \"schedule_source_record_id\": \"recOFWnzS8spJsM1h\", \"Base64 Encoded Feed URL\": \"aHR0cHM6Ly9yaWRlbGF3bmRhbGViZWF0LmNvbS9ndGZz\", \"Organization ID\": \"recj8LXdeSurpSRNU\", \"Organization\": \"City of Lawndale\", \"District\": \"07 - Los Angeles\", \"ruler_100_pct\": 100, \"ruler_for_vp_per_min\": 2, \"frequency_in_minutes\": 89.55223880597015, \"direction_id\": 0.0, \"Direction\": \"Southbound\", \"recent_route_id2\": \"6117\", \"Frequency in Minutes\": \"A trip going this direction comes every 89 minutes\"}, {\"schedule_gtfs_dataset_key\": \"7f75702198137c1a9b53dca78f702ddb\", \"dir_0_1\": 0.0, \"Period\": \"offpeak\", \"Average Scheduled Service (trip minutes)\": 35.0, \"Average Stop Distance (miles)\": 0.27, \"# scheduled trips\": 8, \"Trips per Hour\": 0.5, \"is_express\": 1.0, \"is_rapid\": 0.0, \"is_rail\": 0.0, \"is_coverage\": 0.0, \"is_downtown_local\": 1.0, \"is_local\": 0.0, \"Date\": \"2023-09-13T00:00:00\", \"Route typology\": \"express\", \"# Minutes with 1+ VP per Minute\": 214, \"# Minutes with 2+ VP per Minute\": 204, \"Aggregate Actual Service Minutes\": 207.93, \"Aggregate Scheduled Service Minutes (all trips)\": 175.0, \"# VP\": 615, \"# VP within Scheduled Shape\": 615, \"# Early Arrival Trips\": 0, \"# On-Time Trips\": 3, \"# Late Trips\": 2, \"# Trips with VP\": 5, \"Average VP per Minute\": 2.96, \"% VP within Scheduled Shape\": 100.0, \"pct_rt_journey_atleast1_vp\": 100.0, \"pct_rt_journey_atleast2_vp\": 98.0, \"% Scheduled Trip w/ 1+ VP/Minute\": 100.0, \"% Scheduled Trip w/ 2+ VP/Minute\": 100.0, \"Realtime versus Scheduled Service Ratio\": 1.19, \"Average Actual Service (Trip Minutes)\": 41.59, \"GTFS Availability\": \"schedule_and_vp\", \"Speed (MPH)\": 12.0, \"Transit Operator\": \"Lawndale Beat GMV Schedule\", \"route_long_name\": \"Express Route\", \"route_short_name\": \"EX\", \"Route\": \"Express Route\", \"Route ID\": \"6117\", \"schedule_source_record_id\": \"recOFWnzS8spJsM1h\", \"Base64 Encoded Feed URL\": \"aHR0cHM6Ly9yaWRlbGF3bmRhbGViZWF0LmNvbS9ndGZz\", \"Organization ID\": \"recj8LXdeSurpSRNU\", \"Organization\": \"City of Lawndale\", \"District\": \"07 - Los Angeles\", \"ruler_100_pct\": 100, \"ruler_for_vp_per_min\": 2, \"frequency_in_minutes\": 120.0, \"direction_id\": 0.0, \"Direction\": \"Southbound\", \"recent_route_id2\": \"6117\", \"Frequency in Minutes\": \"A trip going this direction comes every 120 minutes\"}, {\"schedule_gtfs_dataset_key\": \"7f75702198137c1a9b53dca78f702ddb\", \"dir_0_1\": 0.0, \"Period\": \"peak\", \"Average Scheduled Service (trip minutes)\": 35.0, \"Average Stop Distance (miles)\": 0.27, \"# scheduled trips\": 8, \"Trips per Hour\": 1.0, \"is_express\": 1.0, \"is_rapid\": 0.0, \"is_rail\": 0.0, \"is_coverage\": 0.0, \"is_downtown_local\": 1.0, \"is_local\": 0.0, \"Date\": \"2023-09-13T00:00:00\", \"Route typology\": \"express\", \"# Minutes with 1+ VP per Minute\": 340, \"# Minutes with 2+ VP per Minute\": 333, \"Aggregate Actual Service Minutes\": 343.72, \"Aggregate Scheduled Service Minutes (all trips)\": 175.0, \"# VP\": 999, \"# VP within Scheduled Shape\": 529, \"# Early Arrival Trips\": 0, \"# On-Time Trips\": 0, \"# Late Trips\": 5, \"# Trips with VP\": 5, \"Average VP per Minute\": 2.91, \"% VP within Scheduled Shape\": 53.0, \"pct_rt_journey_atleast1_vp\": 99.0, \"pct_rt_journey_atleast2_vp\": 97.0, \"% Scheduled Trip w/ 1+ VP/Minute\": 100.0, \"% Scheduled Trip w/ 2+ VP/Minute\": 100.0, \"Realtime versus Scheduled Service Ratio\": 1.96, \"Average Actual Service (Trip Minutes)\": 68.74, \"GTFS Availability\": \"schedule_and_vp\", \"Speed (MPH)\": 10.21, \"Transit Operator\": \"Lawndale Beat GMV Schedule\", \"route_long_name\": \"Express Route\", \"route_short_name\": \"EX\", \"Route\": \"Express Route\", \"Route ID\": \"6117\", \"schedule_source_record_id\": \"recOFWnzS8spJsM1h\", \"Base64 Encoded Feed URL\": \"aHR0cHM6Ly9yaWRlbGF3bmRhbGViZWF0LmNvbS9ndGZz\", \"Organization ID\": \"recj8LXdeSurpSRNU\", \"Organization\": \"City of Lawndale\", \"District\": \"07 - Los Angeles\", \"ruler_100_pct\": 100, \"ruler_for_vp_per_min\": 2, \"frequency_in_minutes\": 60.0, \"direction_id\": 0.0, \"Direction\": \"Southbound\", \"recent_route_id2\": \"6117\", \"Frequency in Minutes\": \"A trip going this direction comes every 60 minutes\"}]}}, {\"mode\": \"vega-lite\"});\n",
       "</script>"
      ],
      "text/plain": [
       "alt.Chart(...)"
      ]
     },
     "execution_count": 21,
     "metadata": {},
     "output_type": "execute_result"
    }
   ],
   "source": [
    "(\n",
    "    section2_utils.frequency_chart(df)\n",
    "    .add_params(xcol_param)\n",
    "    .transform_filter(xcol_param)\n",
    ")"
   ]
  },
  {
   "cell_type": "markdown",
   "id": "fb4f8939-6094-4a1c-b6d3-7a47bb105cc7",
   "metadata": {},
   "source": [
    "#### Speed"
   ]
  },
  {
   "cell_type": "code",
   "execution_count": 22,
   "id": "59aef6ff-8e90-44d5-8abf-a074b53fde41",
   "metadata": {},
   "outputs": [
    {
     "data": {
      "text/html": [
       "\n",
       "<style>\n",
       "  #altair-viz-050ae4c9571a4e0a844ee3567f46d2ff.vega-embed {\n",
       "    width: 100%;\n",
       "    display: flex;\n",
       "  }\n",
       "\n",
       "  #altair-viz-050ae4c9571a4e0a844ee3567f46d2ff.vega-embed details,\n",
       "  #altair-viz-050ae4c9571a4e0a844ee3567f46d2ff.vega-embed details summary {\n",
       "    position: relative;\n",
       "  }\n",
       "</style>\n",
       "<div id=\"altair-viz-050ae4c9571a4e0a844ee3567f46d2ff\"></div>\n",
       "<script type=\"text/javascript\">\n",
       "  var VEGA_DEBUG = (typeof VEGA_DEBUG == \"undefined\") ? {} : VEGA_DEBUG;\n",
       "  (function(spec, embedOpt){\n",
       "    let outputDiv = document.currentScript.previousElementSibling;\n",
       "    if (outputDiv.id !== \"altair-viz-050ae4c9571a4e0a844ee3567f46d2ff\") {\n",
       "      outputDiv = document.getElementById(\"altair-viz-050ae4c9571a4e0a844ee3567f46d2ff\");\n",
       "    }\n",
       "    const paths = {\n",
       "      \"vega\": \"https://cdn.jsdelivr.net/npm/vega@5?noext\",\n",
       "      \"vega-lib\": \"https://cdn.jsdelivr.net/npm/vega-lib?noext\",\n",
       "      \"vega-lite\": \"https://cdn.jsdelivr.net/npm/vega-lite@5.17.0?noext\",\n",
       "      \"vega-embed\": \"https://cdn.jsdelivr.net/npm/vega-embed@6?noext\",\n",
       "    };\n",
       "\n",
       "    function maybeLoadScript(lib, version) {\n",
       "      var key = `${lib.replace(\"-\", \"\")}_version`;\n",
       "      return (VEGA_DEBUG[key] == version) ?\n",
       "        Promise.resolve(paths[lib]) :\n",
       "        new Promise(function(resolve, reject) {\n",
       "          var s = document.createElement('script');\n",
       "          document.getElementsByTagName(\"head\")[0].appendChild(s);\n",
       "          s.async = true;\n",
       "          s.onload = () => {\n",
       "            VEGA_DEBUG[key] = version;\n",
       "            return resolve(paths[lib]);\n",
       "          };\n",
       "          s.onerror = () => reject(`Error loading script: ${paths[lib]}`);\n",
       "          s.src = paths[lib];\n",
       "        });\n",
       "    }\n",
       "\n",
       "    function showError(err) {\n",
       "      outputDiv.innerHTML = `<div class=\"error\" style=\"color:red;\">${err}</div>`;\n",
       "      throw err;\n",
       "    }\n",
       "\n",
       "    function displayChart(vegaEmbed) {\n",
       "      vegaEmbed(outputDiv, spec, embedOpt)\n",
       "        .catch(err => showError(`Javascript Error: ${err.message}<br>This usually means there's a typo in your chart specification. See the javascript console for the full traceback.`));\n",
       "    }\n",
       "\n",
       "    if(typeof define === \"function\" && define.amd) {\n",
       "      requirejs.config({paths});\n",
       "      require([\"vega-embed\"], displayChart, err => showError(`Error loading script: ${err.message}`));\n",
       "    } else {\n",
       "      maybeLoadScript(\"vega\", \"5\")\n",
       "        .then(() => maybeLoadScript(\"vega-lite\", \"5.17.0\"))\n",
       "        .then(() => maybeLoadScript(\"vega-embed\", \"6\"))\n",
       "        .catch(showError)\n",
       "        .then(() => displayChart(vegaEmbed));\n",
       "    }\n",
       "  })({\"config\": {\"view\": {\"continuousWidth\": 300, \"continuousHeight\": 300}}, \"data\": {\"name\": \"data-0535789dc247333c3ef0b5b30852d028\"}, \"facet\": {\"column\": {\"field\": \"Direction\", \"title\": \"Direction\", \"type\": \"nominal\"}}, \"spec\": {\"mark\": {\"type\": \"line\", \"size\": 3}, \"encoding\": {\"color\": {\"field\": \"Period\", \"scale\": {\"range\": [\"#fde18d\", \"#49a2b2\", \"#3b56a4\"]}, \"title\": \"Period\", \"type\": \"nominal\"}, \"tooltip\": [{\"field\": \"Route\", \"type\": \"nominal\"}, {\"field\": \"Period\", \"type\": \"nominal\"}, {\"field\": \"Speed (MPH)_str\", \"type\": \"nominal\"}, {\"field\": \"Direction\", \"type\": \"nominal\"}], \"x\": {\"axis\": {\"format\": \"%b %Y\", \"labelAngle\": -45}, \"field\": \"Date\", \"timeUnit\": \"yearmonthdate\", \"title\": \"Date\", \"type\": \"ordinal\"}, \"y\": {\"field\": \"Speed (MPH)\", \"scale\": {\"domain\": [0, 15.0]}, \"title\": \"Speed (Mph)\", \"type\": \"quantitative\"}}, \"height\": 250, \"name\": \"view_1\", \"width\": 200}, \"params\": [{\"name\": \"param_1\", \"select\": {\"type\": \"point\", \"fields\": [\"Route\"]}, \"bind\": {\"input\": \"select\", \"options\": [\"Residential Route\", \"Express Route\"], \"name\": \"Routes: \"}, \"value\": \"Residential Route\", \"views\": [\"view_1\"]}], \"title\": {\"text\": [\"Average Speed (MPH)\"], \"subtitle\": [\"The average miles per hour the bus travels by direction and time of day.\"]}, \"transform\": [{\"filter\": {\"param\": \"param_1\"}}], \"$schema\": \"https://vega.github.io/schema/vega-lite/v5.17.0.json\", \"datasets\": {\"data-0535789dc247333c3ef0b5b30852d028\": [{\"schedule_gtfs_dataset_key\": \"09a703757d1ed14ca9580b1385e39315\", \"dir_0_1\": 0.0, \"Period\": \"All Day\", \"Average Scheduled Service (trip minutes)\": 49.0, \"Average Stop Distance (miles)\": 0.24, \"# scheduled trips\": 14, \"Trips per Hour\": 0.58, \"is_express\": 0.0, \"is_rapid\": 0.0, \"is_rail\": 0.0, \"is_coverage\": 1.0, \"is_downtown_local\": 1.0, \"is_local\": 0.0, \"Date\": \"2023-10-11T00:00:00\", \"Route typology\": \"downtown_local\", \"# Minutes with 1+ VP per Minute\": 737, \"# Minutes with 2+ VP per Minute\": 729, \"Aggregate Actual Service Minutes\": 774.4, \"Aggregate Scheduled Service Minutes (all trips)\": 637.0, \"# VP\": 2180, \"# VP within Scheduled Shape\": 2150, \"# Early Arrival Trips\": 2, \"# On-Time Trips\": 7, \"# Late Trips\": 4, \"# Trips with VP\": 13, \"Average VP per Minute\": 2.82, \"% VP within Scheduled Shape\": 99.0, \"pct_rt_journey_atleast1_vp\": 95.0, \"pct_rt_journey_atleast2_vp\": 94.0, \"% Scheduled Trip w/ 1+ VP/Minute\": 100.0, \"% Scheduled Trip w/ 2+ VP/Minute\": 100.0, \"Realtime versus Scheduled Service Ratio\": 1.22, \"Average Actual Service (Trip Minutes)\": 59.57, \"GTFS Availability\": \"schedule_and_vp\", \"Speed (MPH)\": 9, \"Transit Operator\": \"Lawndale Beat GMV Schedule\", \"route_long_name\": \"Residential Route\", \"route_short_name\": \"Res\", \"Route\": \"Residential Route\", \"Route ID\": \"6116\", \"schedule_source_record_id\": \"recOFWnzS8spJsM1h\", \"Base64 Encoded Feed URL\": \"aHR0cHM6Ly9yaWRlbGF3bmRhbGViZWF0LmNvbS9ndGZz\", \"Organization ID\": \"recj8LXdeSurpSRNU\", \"Organization\": \"City of Lawndale\", \"District\": \"07 - Los Angeles\", \"ruler_100_pct\": 100, \"ruler_for_vp_per_min\": 2, \"frequency_in_minutes\": 103.44827586206897, \"direction_id\": 0.0, \"Direction\": \"Southbound\", \"recent_route_id2\": \"6116\", \"Frequency in Minutes\": \"A trip going this direction comes every 103 minutes\", \"Speed (MPH)_str\": \"9\"}, {\"schedule_gtfs_dataset_key\": \"09a703757d1ed14ca9580b1385e39315\", \"dir_0_1\": 0.0, \"Period\": \"All Day\", \"Average Scheduled Service (trip minutes)\": 49.0, \"Average Stop Distance (miles)\": 0.24, \"# scheduled trips\": 14, \"Trips per Hour\": 0.58, \"is_express\": 0.0, \"is_rapid\": 0.0, \"is_rail\": 0.0, \"is_coverage\": 1.0, \"is_downtown_local\": 1.0, \"is_local\": 0.0, \"Date\": \"2023-11-15T00:00:00\", \"Route typology\": \"downtown_local\", \"# Minutes with 1+ VP per Minute\": 699, \"# Minutes with 2+ VP per Minute\": 690, \"Aggregate Actual Service Minutes\": 684.72, \"Aggregate Scheduled Service Minutes (all trips)\": 686.0, \"# VP\": 2066, \"# VP within Scheduled Shape\": 2046, \"# Early Arrival Trips\": 3, \"# On-Time Trips\": 8, \"# Late Trips\": 3, \"# Trips with VP\": 14, \"Average VP per Minute\": 3.02, \"% VP within Scheduled Shape\": 99.0, \"pct_rt_journey_atleast1_vp\": 100.0, \"pct_rt_journey_atleast2_vp\": 100.0, \"% Scheduled Trip w/ 1+ VP/Minute\": 100.0, \"% Scheduled Trip w/ 2+ VP/Minute\": 100.0, \"Realtime versus Scheduled Service Ratio\": 1.0, \"Average Actual Service (Trip Minutes)\": 48.91, \"GTFS Availability\": \"schedule_and_vp\", \"Speed (MPH)\": 11, \"Transit Operator\": \"Lawndale Beat GMV Schedule\", \"route_long_name\": \"Residential Route\", \"route_short_name\": \"Res\", \"Route\": \"Residential Route\", \"Route ID\": \"6116\", \"schedule_source_record_id\": \"recOFWnzS8spJsM1h\", \"Base64 Encoded Feed URL\": \"aHR0cHM6Ly9yaWRlbGF3bmRhbGViZWF0LmNvbS9ndGZz\", \"Organization ID\": \"recj8LXdeSurpSRNU\", \"Organization\": \"City of Lawndale\", \"District\": \"07 - Los Angeles\", \"ruler_100_pct\": 100, \"ruler_for_vp_per_min\": 2, \"frequency_in_minutes\": 103.44827586206897, \"direction_id\": 0.0, \"Direction\": \"Southbound\", \"recent_route_id2\": \"6116\", \"Frequency in Minutes\": \"A trip going this direction comes every 103 minutes\", \"Speed (MPH)_str\": \"11\"}, {\"schedule_gtfs_dataset_key\": \"09a703757d1ed14ca9580b1385e39315\", \"dir_0_1\": 0.0, \"Period\": \"All Day\", \"Average Scheduled Service (trip minutes)\": 49.0, \"Average Stop Distance (miles)\": 0.24, \"# scheduled trips\": 14, \"Trips per Hour\": 0.58, \"is_express\": 0.0, \"is_rapid\": 0.0, \"is_rail\": 0.0, \"is_coverage\": 1.0, \"is_downtown_local\": 1.0, \"is_local\": 0.0, \"Date\": \"2023-12-13T00:00:00\", \"Route typology\": \"downtown_local\", \"# Minutes with 1+ VP per Minute\": 676, \"# Minutes with 2+ VP per Minute\": 663, \"Aggregate Actual Service Minutes\": 724.59, \"Aggregate Scheduled Service Minutes (all trips)\": 637.0, \"# VP\": 1984, \"# VP within Scheduled Shape\": 1965, \"# Early Arrival Trips\": 1, \"# On-Time Trips\": 9, \"# Late Trips\": 3, \"# Trips with VP\": 13, \"Average VP per Minute\": 2.74, \"% VP within Scheduled Shape\": 99.0, \"pct_rt_journey_atleast1_vp\": 93.0, \"pct_rt_journey_atleast2_vp\": 92.0, \"% Scheduled Trip w/ 1+ VP/Minute\": 100.0, \"% Scheduled Trip w/ 2+ VP/Minute\": 100.0, \"Realtime versus Scheduled Service Ratio\": 1.14, \"Average Actual Service (Trip Minutes)\": 55.74, \"GTFS Availability\": \"schedule_and_vp\", \"Speed (MPH)\": 10, \"Transit Operator\": \"Lawndale Beat GMV Schedule\", \"route_long_name\": \"Residential Route\", \"route_short_name\": \"Res\", \"Route\": \"Residential Route\", \"Route ID\": \"6116\", \"schedule_source_record_id\": \"recOFWnzS8spJsM1h\", \"Base64 Encoded Feed URL\": \"aHR0cHM6Ly9yaWRlbGF3bmRhbGViZWF0LmNvbS9ndGZz\", \"Organization ID\": \"recj8LXdeSurpSRNU\", \"Organization\": \"City of Lawndale\", \"District\": \"07 - Los Angeles\", \"ruler_100_pct\": 100, \"ruler_for_vp_per_min\": 2, \"frequency_in_minutes\": 103.44827586206897, \"direction_id\": 0.0, \"Direction\": \"Southbound\", \"recent_route_id2\": \"6116\", \"Frequency in Minutes\": \"A trip going this direction comes every 103 minutes\", \"Speed (MPH)_str\": \"10\"}, {\"schedule_gtfs_dataset_key\": \"09a703757d1ed14ca9580b1385e39315\", \"dir_0_1\": 0.0, \"Period\": \"All Day\", \"Average Scheduled Service (trip minutes)\": 49.0, \"Average Stop Distance (miles)\": 0.24, \"# scheduled trips\": 14, \"Trips per Hour\": 0.58, \"is_express\": 0.0, \"is_rapid\": 0.0, \"is_rail\": 0.0, \"is_coverage\": 1.0, \"is_downtown_local\": 1.0, \"is_local\": 0.0, \"Date\": \"2024-01-17T00:00:00\", \"Route typology\": \"downtown_local\", \"# Minutes with 1+ VP per Minute\": 1037, \"# Minutes with 2+ VP per Minute\": 1021, \"Aggregate Actual Service Minutes\": 2352.34, \"Aggregate Scheduled Service Minutes (all trips)\": 686.0, \"# VP\": 3068, \"# VP within Scheduled Shape\": 2561, \"# Early Arrival Trips\": 0, \"# On-Time Trips\": 8, \"# Late Trips\": 6, \"# Trips with VP\": 14, \"Average VP per Minute\": 1.3, \"% VP within Scheduled Shape\": 84.0, \"pct_rt_journey_atleast1_vp\": 44.0, \"pct_rt_journey_atleast2_vp\": 43.0, \"% Scheduled Trip w/ 1+ VP/Minute\": 100.0, \"% Scheduled Trip w/ 2+ VP/Minute\": 100.0, \"Realtime versus Scheduled Service Ratio\": 3.43, \"Average Actual Service (Trip Minutes)\": 168.02, \"GTFS Availability\": \"schedule_and_vp\", \"Speed (MPH)\": 5, \"Transit Operator\": \"Lawndale Beat GMV Schedule\", \"route_long_name\": \"Residential Route\", \"route_short_name\": \"Res\", \"Route\": \"Residential Route\", \"Route ID\": \"6116\", \"schedule_source_record_id\": \"recOFWnzS8spJsM1h\", \"Base64 Encoded Feed URL\": \"aHR0cHM6Ly9yaWRlbGF3bmRhbGViZWF0LmNvbS9ndGZz\", \"Organization ID\": \"recj8LXdeSurpSRNU\", \"Organization\": \"City of Lawndale\", \"District\": \"07 - Los Angeles\", \"ruler_100_pct\": 100, \"ruler_for_vp_per_min\": 2, \"frequency_in_minutes\": 103.44827586206897, \"direction_id\": 0.0, \"Direction\": \"Southbound\", \"recent_route_id2\": \"6116\", \"Frequency in Minutes\": \"A trip going this direction comes every 103 minutes\", \"Speed (MPH)_str\": \"5\"}, {\"schedule_gtfs_dataset_key\": \"09a703757d1ed14ca9580b1385e39315\", \"dir_0_1\": 0.0, \"Period\": \"All Day\", \"Average Scheduled Service (trip minutes)\": 49.0, \"Average Stop Distance (miles)\": 0.24, \"# scheduled trips\": 14, \"Trips per Hour\": 0.58, \"is_express\": 0.0, \"is_rapid\": 0.0, \"is_rail\": 0.0, \"is_coverage\": 1.0, \"is_downtown_local\": 1.0, \"is_local\": 0.0, \"Date\": \"2024-02-14T00:00:00\", \"Route typology\": \"downtown_local\", \"# Minutes with 1+ VP per Minute\": 754, \"# Minutes with 2+ VP per Minute\": 739, \"Aggregate Actual Service Minutes\": 738.69, \"Aggregate Scheduled Service Minutes (all trips)\": 686.0, \"# VP\": 2222, \"# VP within Scheduled Shape\": 2205, \"# Early Arrival Trips\": 0, \"# On-Time Trips\": 10, \"# Late Trips\": 4, \"# Trips with VP\": 14, \"Average VP per Minute\": 3.01, \"% VP within Scheduled Shape\": 99.0, \"pct_rt_journey_atleast1_vp\": 100.0, \"pct_rt_journey_atleast2_vp\": 100.0, \"% Scheduled Trip w/ 1+ VP/Minute\": 100.0, \"% Scheduled Trip w/ 2+ VP/Minute\": 100.0, \"Realtime versus Scheduled Service Ratio\": 1.08, \"Average Actual Service (Trip Minutes)\": 52.76, \"GTFS Availability\": \"schedule_and_vp\", \"Speed (MPH)\": 11, \"Transit Operator\": \"Lawndale Beat GMV Schedule\", \"route_long_name\": \"Residential Route\", \"route_short_name\": \"Res\", \"Route\": \"Residential Route\", \"Route ID\": \"6116\", \"schedule_source_record_id\": \"recOFWnzS8spJsM1h\", \"Base64 Encoded Feed URL\": \"aHR0cHM6Ly9yaWRlbGF3bmRhbGViZWF0LmNvbS9ndGZz\", \"Organization ID\": \"recj8LXdeSurpSRNU\", \"Organization\": \"City of Lawndale\", \"District\": \"07 - Los Angeles\", \"ruler_100_pct\": 100, \"ruler_for_vp_per_min\": 2, \"frequency_in_minutes\": 103.44827586206897, \"direction_id\": 0.0, \"Direction\": \"Southbound\", \"recent_route_id2\": \"6116\", \"Frequency in Minutes\": \"A trip going this direction comes every 103 minutes\", \"Speed (MPH)_str\": \"11\"}, {\"schedule_gtfs_dataset_key\": \"09a703757d1ed14ca9580b1385e39315\", \"dir_0_1\": 0.0, \"Period\": \"All Day\", \"Average Scheduled Service (trip minutes)\": 49.0, \"Average Stop Distance (miles)\": 0.24, \"# scheduled trips\": 14, \"Trips per Hour\": 0.58, \"is_express\": 0.0, \"is_rapid\": 0.0, \"is_rail\": 0.0, \"is_coverage\": 1.0, \"is_downtown_local\": 1.0, \"is_local\": 0.0, \"Date\": \"2024-03-13T00:00:00\", \"Route typology\": \"downtown_local\", \"# Minutes with 1+ VP per Minute\": 711, \"# Minutes with 2+ VP per Minute\": 695, \"Aggregate Actual Service Minutes\": 734.61, \"Aggregate Scheduled Service Minutes (all trips)\": 686.0, \"# VP\": 2066, \"# VP within Scheduled Shape\": 2035, \"# Early Arrival Trips\": 3, \"# On-Time Trips\": 7, \"# Late Trips\": 4, \"# Trips with VP\": 14, \"Average VP per Minute\": 2.81, \"% VP within Scheduled Shape\": 98.0, \"pct_rt_journey_atleast1_vp\": 97.0, \"pct_rt_journey_atleast2_vp\": 95.0, \"% Scheduled Trip w/ 1+ VP/Minute\": 100.0, \"% Scheduled Trip w/ 2+ VP/Minute\": 100.0, \"Realtime versus Scheduled Service Ratio\": 1.07, \"Average Actual Service (Trip Minutes)\": 52.47, \"GTFS Availability\": \"schedule_and_vp\", \"Speed (MPH)\": 11, \"Transit Operator\": \"Lawndale Beat GMV Schedule\", \"route_long_name\": \"Residential Route\", \"route_short_name\": \"Res\", \"Route\": \"Residential Route\", \"Route ID\": \"6116\", \"schedule_source_record_id\": \"recOFWnzS8spJsM1h\", \"Base64 Encoded Feed URL\": \"aHR0cHM6Ly9yaWRlbGF3bmRhbGViZWF0LmNvbS9ndGZz\", \"Organization ID\": \"recj8LXdeSurpSRNU\", \"Organization\": \"City of Lawndale\", \"District\": \"07 - Los Angeles\", \"ruler_100_pct\": 100, \"ruler_for_vp_per_min\": 2, \"frequency_in_minutes\": 103.44827586206897, \"direction_id\": 0.0, \"Direction\": \"Southbound\", \"recent_route_id2\": \"6116\", \"Frequency in Minutes\": \"A trip going this direction comes every 103 minutes\", \"Speed (MPH)_str\": \"11\"}, {\"schedule_gtfs_dataset_key\": \"09a703757d1ed14ca9580b1385e39315\", \"dir_0_1\": 0.0, \"Period\": \"Offpeak\", \"Average Scheduled Service (trip minutes)\": 49.0, \"Average Stop Distance (miles)\": 0.24, \"# scheduled trips\": 6, \"Trips per Hour\": 0.38, \"is_express\": 0.0, \"is_rapid\": 0.0, \"is_rail\": 0.0, \"is_coverage\": 1.0, \"is_downtown_local\": 1.0, \"is_local\": 0.0, \"Date\": \"2023-10-11T00:00:00\", \"Route typology\": \"downtown_local\", \"# Minutes with 1+ VP per Minute\": 305, \"# Minutes with 2+ VP per Minute\": 301, \"Aggregate Actual Service Minutes\": 298.99, \"Aggregate Scheduled Service Minutes (all trips)\": 294.0, \"# VP\": 901, \"# VP within Scheduled Shape\": 901, \"# Early Arrival Trips\": 1, \"# On-Time Trips\": 4, \"# Late Trips\": 1, \"# Trips with VP\": 6, \"Average VP per Minute\": 3.01, \"% VP within Scheduled Shape\": 100.0, \"pct_rt_journey_atleast1_vp\": 100.0, \"pct_rt_journey_atleast2_vp\": 100.0, \"% Scheduled Trip w/ 1+ VP/Minute\": 100.0, \"% Scheduled Trip w/ 2+ VP/Minute\": 100.0, \"Realtime versus Scheduled Service Ratio\": 1.02, \"Average Actual Service (Trip Minutes)\": 49.83, \"GTFS Availability\": \"schedule_and_vp\", \"Speed (MPH)\": 10, \"Transit Operator\": \"Lawndale Beat GMV Schedule\", \"route_long_name\": \"Residential Route\", \"route_short_name\": \"Res\", \"Route\": \"Residential Route\", \"Route ID\": \"6116\", \"schedule_source_record_id\": \"recOFWnzS8spJsM1h\", \"Base64 Encoded Feed URL\": \"aHR0cHM6Ly9yaWRlbGF3bmRhbGViZWF0LmNvbS9ndGZz\", \"Organization ID\": \"recj8LXdeSurpSRNU\", \"Organization\": \"City of Lawndale\", \"District\": \"07 - Los Angeles\", \"ruler_100_pct\": 100, \"ruler_for_vp_per_min\": 2, \"frequency_in_minutes\": 157.89473684210526, \"direction_id\": 0.0, \"Direction\": \"Southbound\", \"recent_route_id2\": \"6116\", \"Frequency in Minutes\": \"A trip going this direction comes every 157 minutes\", \"Speed (MPH)_str\": \"10\"}, {\"schedule_gtfs_dataset_key\": \"09a703757d1ed14ca9580b1385e39315\", \"dir_0_1\": 0.0, \"Period\": \"Offpeak\", \"Average Scheduled Service (trip minutes)\": 49.0, \"Average Stop Distance (miles)\": 0.24, \"# scheduled trips\": 6, \"Trips per Hour\": 0.38, \"is_express\": 0.0, \"is_rapid\": 0.0, \"is_rail\": 0.0, \"is_coverage\": 1.0, \"is_downtown_local\": 1.0, \"is_local\": 0.0, \"Date\": \"2023-11-15T00:00:00\", \"Route typology\": \"downtown_local\", \"# Minutes with 1+ VP per Minute\": 271, \"# Minutes with 2+ VP per Minute\": 266, \"Aggregate Actual Service Minutes\": 265.35, \"Aggregate Scheduled Service Minutes (all trips)\": 294.0, \"# VP\": 802, \"# VP within Scheduled Shape\": 796, \"# Early Arrival Trips\": 2, \"# On-Time Trips\": 4, \"# Late Trips\": 0, \"# Trips with VP\": 6, \"Average VP per Minute\": 3.02, \"% VP within Scheduled Shape\": 99.0, \"pct_rt_journey_atleast1_vp\": 100.0, \"pct_rt_journey_atleast2_vp\": 100.0, \"% Scheduled Trip w/ 1+ VP/Minute\": 92.0, \"% Scheduled Trip w/ 2+ VP/Minute\": 90.0, \"Realtime versus Scheduled Service Ratio\": 0.9, \"Average Actual Service (Trip Minutes)\": 44.22, \"GTFS Availability\": \"schedule_and_vp\", \"Speed (MPH)\": 11, \"Transit Operator\": \"Lawndale Beat GMV Schedule\", \"route_long_name\": \"Residential Route\", \"route_short_name\": \"Res\", \"Route\": \"Residential Route\", \"Route ID\": \"6116\", \"schedule_source_record_id\": \"recOFWnzS8spJsM1h\", \"Base64 Encoded Feed URL\": \"aHR0cHM6Ly9yaWRlbGF3bmRhbGViZWF0LmNvbS9ndGZz\", \"Organization ID\": \"recj8LXdeSurpSRNU\", \"Organization\": \"City of Lawndale\", \"District\": \"07 - Los Angeles\", \"ruler_100_pct\": 100, \"ruler_for_vp_per_min\": 2, \"frequency_in_minutes\": 157.89473684210526, \"direction_id\": 0.0, \"Direction\": \"Southbound\", \"recent_route_id2\": \"6116\", \"Frequency in Minutes\": \"A trip going this direction comes every 157 minutes\", \"Speed (MPH)_str\": \"11\"}, {\"schedule_gtfs_dataset_key\": \"09a703757d1ed14ca9580b1385e39315\", \"dir_0_1\": 0.0, \"Period\": \"Offpeak\", \"Average Scheduled Service (trip minutes)\": 49.0, \"Average Stop Distance (miles)\": 0.24, \"# scheduled trips\": 6, \"Trips per Hour\": 0.38, \"is_express\": 0.0, \"is_rapid\": 0.0, \"is_rail\": 0.0, \"is_coverage\": 1.0, \"is_downtown_local\": 1.0, \"is_local\": 0.0, \"Date\": \"2023-12-13T00:00:00\", \"Route typology\": \"downtown_local\", \"# Minutes with 1+ VP per Minute\": 304, \"# Minutes with 2+ VP per Minute\": 299, \"Aggregate Actual Service Minutes\": 302.32, \"Aggregate Scheduled Service Minutes (all trips)\": 294.0, \"# VP\": 896, \"# VP within Scheduled Shape\": 891, \"# Early Arrival Trips\": 0, \"# On-Time Trips\": 6, \"# Late Trips\": 0, \"# Trips with VP\": 6, \"Average VP per Minute\": 2.96, \"% VP within Scheduled Shape\": 99.0, \"pct_rt_journey_atleast1_vp\": 100.0, \"pct_rt_journey_atleast2_vp\": 99.0, \"% Scheduled Trip w/ 1+ VP/Minute\": 100.0, \"% Scheduled Trip w/ 2+ VP/Minute\": 100.0, \"Realtime versus Scheduled Service Ratio\": 1.03, \"Average Actual Service (Trip Minutes)\": 50.39, \"GTFS Availability\": \"schedule_and_vp\", \"Speed (MPH)\": 12, \"Transit Operator\": \"Lawndale Beat GMV Schedule\", \"route_long_name\": \"Residential Route\", \"route_short_name\": \"Res\", \"Route\": \"Residential Route\", \"Route ID\": \"6116\", \"schedule_source_record_id\": \"recOFWnzS8spJsM1h\", \"Base64 Encoded Feed URL\": \"aHR0cHM6Ly9yaWRlbGF3bmRhbGViZWF0LmNvbS9ndGZz\", \"Organization ID\": \"recj8LXdeSurpSRNU\", \"Organization\": \"City of Lawndale\", \"District\": \"07 - Los Angeles\", \"ruler_100_pct\": 100, \"ruler_for_vp_per_min\": 2, \"frequency_in_minutes\": 157.89473684210526, \"direction_id\": 0.0, \"Direction\": \"Southbound\", \"recent_route_id2\": \"6116\", \"Frequency in Minutes\": \"A trip going this direction comes every 157 minutes\", \"Speed (MPH)_str\": \"12\"}, {\"schedule_gtfs_dataset_key\": \"09a703757d1ed14ca9580b1385e39315\", \"dir_0_1\": 0.0, \"Period\": \"Offpeak\", \"Average Scheduled Service (trip minutes)\": 49.0, \"Average Stop Distance (miles)\": 0.24, \"# scheduled trips\": 6, \"Trips per Hour\": 0.38, \"is_express\": 0.0, \"is_rapid\": 0.0, \"is_rail\": 0.0, \"is_coverage\": 1.0, \"is_downtown_local\": 1.0, \"is_local\": 0.0, \"Date\": \"2024-01-17T00:00:00\", \"Route typology\": \"downtown_local\", \"# Minutes with 1+ VP per Minute\": 301, \"# Minutes with 2+ VP per Minute\": 298, \"Aggregate Actual Service Minutes\": 296.4, \"Aggregate Scheduled Service Minutes (all trips)\": 294.0, \"# VP\": 895, \"# VP within Scheduled Shape\": 893, \"# Early Arrival Trips\": 0, \"# On-Time Trips\": 5, \"# Late Trips\": 1, \"# Trips with VP\": 6, \"Average VP per Minute\": 3.02, \"% VP within Scheduled Shape\": 100.0, \"pct_rt_journey_atleast1_vp\": 100.0, \"pct_rt_journey_atleast2_vp\": 100.0, \"% Scheduled Trip w/ 1+ VP/Minute\": 100.0, \"% Scheduled Trip w/ 2+ VP/Minute\": 100.0, \"Realtime versus Scheduled Service Ratio\": 1.01, \"Average Actual Service (Trip Minutes)\": 49.4, \"GTFS Availability\": \"schedule_and_vp\", \"Speed (MPH)\": 5, \"Transit Operator\": \"Lawndale Beat GMV Schedule\", \"route_long_name\": \"Residential Route\", \"route_short_name\": \"Res\", \"Route\": \"Residential Route\", \"Route ID\": \"6116\", \"schedule_source_record_id\": \"recOFWnzS8spJsM1h\", \"Base64 Encoded Feed URL\": \"aHR0cHM6Ly9yaWRlbGF3bmRhbGViZWF0LmNvbS9ndGZz\", \"Organization ID\": \"recj8LXdeSurpSRNU\", \"Organization\": \"City of Lawndale\", \"District\": \"07 - Los Angeles\", \"ruler_100_pct\": 100, \"ruler_for_vp_per_min\": 2, \"frequency_in_minutes\": 157.89473684210526, \"direction_id\": 0.0, \"Direction\": \"Southbound\", \"recent_route_id2\": \"6116\", \"Frequency in Minutes\": \"A trip going this direction comes every 157 minutes\", \"Speed (MPH)_str\": \"5\"}, {\"schedule_gtfs_dataset_key\": \"09a703757d1ed14ca9580b1385e39315\", \"dir_0_1\": 0.0, \"Period\": \"Offpeak\", \"Average Scheduled Service (trip minutes)\": 49.0, \"Average Stop Distance (miles)\": 0.24, \"# scheduled trips\": 6, \"Trips per Hour\": 0.38, \"is_express\": 0.0, \"is_rapid\": 0.0, \"is_rail\": 0.0, \"is_coverage\": 1.0, \"is_downtown_local\": 1.0, \"is_local\": 0.0, \"Date\": \"2024-02-14T00:00:00\", \"Route typology\": \"downtown_local\", \"# Minutes with 1+ VP per Minute\": 305, \"# Minutes with 2+ VP per Minute\": 299, \"Aggregate Actual Service Minutes\": 298.04, \"Aggregate Scheduled Service Minutes (all trips)\": 294.0, \"# VP\": 899, \"# VP within Scheduled Shape\": 899, \"# Early Arrival Trips\": 0, \"# On-Time Trips\": 5, \"# Late Trips\": 1, \"# Trips with VP\": 6, \"Average VP per Minute\": 3.02, \"% VP within Scheduled Shape\": 100.0, \"pct_rt_journey_atleast1_vp\": 100.0, \"pct_rt_journey_atleast2_vp\": 100.0, \"% Scheduled Trip w/ 1+ VP/Minute\": 100.0, \"% Scheduled Trip w/ 2+ VP/Minute\": 100.0, \"Realtime versus Scheduled Service Ratio\": 1.01, \"Average Actual Service (Trip Minutes)\": 49.67, \"GTFS Availability\": \"schedule_and_vp\", \"Speed (MPH)\": 12, \"Transit Operator\": \"Lawndale Beat GMV Schedule\", \"route_long_name\": \"Residential Route\", \"route_short_name\": \"Res\", \"Route\": \"Residential Route\", \"Route ID\": \"6116\", \"schedule_source_record_id\": \"recOFWnzS8spJsM1h\", \"Base64 Encoded Feed URL\": \"aHR0cHM6Ly9yaWRlbGF3bmRhbGViZWF0LmNvbS9ndGZz\", \"Organization ID\": \"recj8LXdeSurpSRNU\", \"Organization\": \"City of Lawndale\", \"District\": \"07 - Los Angeles\", \"ruler_100_pct\": 100, \"ruler_for_vp_per_min\": 2, \"frequency_in_minutes\": 157.89473684210526, \"direction_id\": 0.0, \"Direction\": \"Southbound\", \"recent_route_id2\": \"6116\", \"Frequency in Minutes\": \"A trip going this direction comes every 157 minutes\", \"Speed (MPH)_str\": \"12\"}, {\"schedule_gtfs_dataset_key\": \"09a703757d1ed14ca9580b1385e39315\", \"dir_0_1\": 0.0, \"Period\": \"Offpeak\", \"Average Scheduled Service (trip minutes)\": 49.0, \"Average Stop Distance (miles)\": 0.24, \"# scheduled trips\": 6, \"Trips per Hour\": 0.38, \"is_express\": 0.0, \"is_rapid\": 0.0, \"is_rail\": 0.0, \"is_coverage\": 1.0, \"is_downtown_local\": 1.0, \"is_local\": 0.0, \"Date\": \"2024-03-13T00:00:00\", \"Route typology\": \"downtown_local\", \"# Minutes with 1+ VP per Minute\": 282, \"# Minutes with 2+ VP per Minute\": 272, \"Aggregate Actual Service Minutes\": 291.42, \"Aggregate Scheduled Service Minutes (all trips)\": 294.0, \"# VP\": 806, \"# VP within Scheduled Shape\": 806, \"# Early Arrival Trips\": 2, \"# On-Time Trips\": 2, \"# Late Trips\": 2, \"# Trips with VP\": 6, \"Average VP per Minute\": 2.77, \"% VP within Scheduled Shape\": 100.0, \"pct_rt_journey_atleast1_vp\": 97.0, \"pct_rt_journey_atleast2_vp\": 93.0, \"% Scheduled Trip w/ 1+ VP/Minute\": 96.0, \"% Scheduled Trip w/ 2+ VP/Minute\": 92.0, \"Realtime versus Scheduled Service Ratio\": 0.99, \"Average Actual Service (Trip Minutes)\": 48.57, \"GTFS Availability\": \"schedule_and_vp\", \"Speed (MPH)\": 11, \"Transit Operator\": \"Lawndale Beat GMV Schedule\", \"route_long_name\": \"Residential Route\", \"route_short_name\": \"Res\", \"Route\": \"Residential Route\", \"Route ID\": \"6116\", \"schedule_source_record_id\": \"recOFWnzS8spJsM1h\", \"Base64 Encoded Feed URL\": \"aHR0cHM6Ly9yaWRlbGF3bmRhbGViZWF0LmNvbS9ndGZz\", \"Organization ID\": \"recj8LXdeSurpSRNU\", \"Organization\": \"City of Lawndale\", \"District\": \"07 - Los Angeles\", \"ruler_100_pct\": 100, \"ruler_for_vp_per_min\": 2, \"frequency_in_minutes\": 157.89473684210526, \"direction_id\": 0.0, \"Direction\": \"Southbound\", \"recent_route_id2\": \"6116\", \"Frequency in Minutes\": \"A trip going this direction comes every 157 minutes\", \"Speed (MPH)_str\": \"11\"}, {\"schedule_gtfs_dataset_key\": \"09a703757d1ed14ca9580b1385e39315\", \"dir_0_1\": 0.0, \"Period\": \"Peak\", \"Average Scheduled Service (trip minutes)\": 49.0, \"Average Stop Distance (miles)\": 0.24, \"# scheduled trips\": 8, \"Trips per Hour\": 1.0, \"is_express\": 0.0, \"is_rapid\": 0.0, \"is_rail\": 0.0, \"is_coverage\": 1.0, \"is_downtown_local\": 1.0, \"is_local\": 0.0, \"Date\": \"2023-10-11T00:00:00\", \"Route typology\": \"downtown_local\", \"# Minutes with 1+ VP per Minute\": 432, \"# Minutes with 2+ VP per Minute\": 428, \"Aggregate Actual Service Minutes\": 475.41, \"Aggregate Scheduled Service Minutes (all trips)\": 343.0, \"# VP\": 1279, \"# VP within Scheduled Shape\": 1249, \"# Early Arrival Trips\": 1, \"# On-Time Trips\": 3, \"# Late Trips\": 3, \"# Trips with VP\": 7, \"Average VP per Minute\": 2.69, \"% VP within Scheduled Shape\": 98.0, \"pct_rt_journey_atleast1_vp\": 91.0, \"pct_rt_journey_atleast2_vp\": 90.0, \"% Scheduled Trip w/ 1+ VP/Minute\": 100.0, \"% Scheduled Trip w/ 2+ VP/Minute\": 100.0, \"Realtime versus Scheduled Service Ratio\": 1.39, \"Average Actual Service (Trip Minutes)\": 67.92, \"GTFS Availability\": \"schedule_and_vp\", \"Speed (MPH)\": 8, \"Transit Operator\": \"Lawndale Beat GMV Schedule\", \"route_long_name\": \"Residential Route\", \"route_short_name\": \"Res\", \"Route\": \"Residential Route\", \"Route ID\": \"6116\", \"schedule_source_record_id\": \"recOFWnzS8spJsM1h\", \"Base64 Encoded Feed URL\": \"aHR0cHM6Ly9yaWRlbGF3bmRhbGViZWF0LmNvbS9ndGZz\", \"Organization ID\": \"recj8LXdeSurpSRNU\", \"Organization\": \"City of Lawndale\", \"District\": \"07 - Los Angeles\", \"ruler_100_pct\": 100, \"ruler_for_vp_per_min\": 2, \"frequency_in_minutes\": 60.0, \"direction_id\": 0.0, \"Direction\": \"Southbound\", \"recent_route_id2\": \"6116\", \"Frequency in Minutes\": \"A trip going this direction comes every 60 minutes\", \"Speed (MPH)_str\": \"8\"}, {\"schedule_gtfs_dataset_key\": \"09a703757d1ed14ca9580b1385e39315\", \"dir_0_1\": 0.0, \"Period\": \"Peak\", \"Average Scheduled Service (trip minutes)\": 49.0, \"Average Stop Distance (miles)\": 0.24, \"# scheduled trips\": 8, \"Trips per Hour\": 1.0, \"is_express\": 0.0, \"is_rapid\": 0.0, \"is_rail\": 0.0, \"is_coverage\": 1.0, \"is_downtown_local\": 1.0, \"is_local\": 0.0, \"Date\": \"2023-11-15T00:00:00\", \"Route typology\": \"downtown_local\", \"# Minutes with 1+ VP per Minute\": 428, \"# Minutes with 2+ VP per Minute\": 424, \"Aggregate Actual Service Minutes\": 419.37, \"Aggregate Scheduled Service Minutes (all trips)\": 392.0, \"# VP\": 1264, \"# VP within Scheduled Shape\": 1250, \"# Early Arrival Trips\": 1, \"# On-Time Trips\": 4, \"# Late Trips\": 3, \"# Trips with VP\": 8, \"Average VP per Minute\": 3.01, \"% VP within Scheduled Shape\": 99.0, \"pct_rt_journey_atleast1_vp\": 100.0, \"pct_rt_journey_atleast2_vp\": 100.0, \"% Scheduled Trip w/ 1+ VP/Minute\": 100.0, \"% Scheduled Trip w/ 2+ VP/Minute\": 100.0, \"Realtime versus Scheduled Service Ratio\": 1.07, \"Average Actual Service (Trip Minutes)\": 52.42, \"GTFS Availability\": \"schedule_and_vp\", \"Speed (MPH)\": 11, \"Transit Operator\": \"Lawndale Beat GMV Schedule\", \"route_long_name\": \"Residential Route\", \"route_short_name\": \"Res\", \"Route\": \"Residential Route\", \"Route ID\": \"6116\", \"schedule_source_record_id\": \"recOFWnzS8spJsM1h\", \"Base64 Encoded Feed URL\": \"aHR0cHM6Ly9yaWRlbGF3bmRhbGViZWF0LmNvbS9ndGZz\", \"Organization ID\": \"recj8LXdeSurpSRNU\", \"Organization\": \"City of Lawndale\", \"District\": \"07 - Los Angeles\", \"ruler_100_pct\": 100, \"ruler_for_vp_per_min\": 2, \"frequency_in_minutes\": 60.0, \"direction_id\": 0.0, \"Direction\": \"Southbound\", \"recent_route_id2\": \"6116\", \"Frequency in Minutes\": \"A trip going this direction comes every 60 minutes\", \"Speed (MPH)_str\": \"11\"}, {\"schedule_gtfs_dataset_key\": \"09a703757d1ed14ca9580b1385e39315\", \"dir_0_1\": 0.0, \"Period\": \"Peak\", \"Average Scheduled Service (trip minutes)\": 49.0, \"Average Stop Distance (miles)\": 0.24, \"# scheduled trips\": 8, \"Trips per Hour\": 1.0, \"is_express\": 0.0, \"is_rapid\": 0.0, \"is_rail\": 0.0, \"is_coverage\": 1.0, \"is_downtown_local\": 1.0, \"is_local\": 0.0, \"Date\": \"2023-12-13T00:00:00\", \"Route typology\": \"downtown_local\", \"# Minutes with 1+ VP per Minute\": 372, \"# Minutes with 2+ VP per Minute\": 364, \"Aggregate Actual Service Minutes\": 422.27, \"Aggregate Scheduled Service Minutes (all trips)\": 343.0, \"# VP\": 1088, \"# VP within Scheduled Shape\": 1074, \"# Early Arrival Trips\": 1, \"# On-Time Trips\": 3, \"# Late Trips\": 3, \"# Trips with VP\": 7, \"Average VP per Minute\": 2.58, \"% VP within Scheduled Shape\": 99.0, \"pct_rt_journey_atleast1_vp\": 88.0, \"pct_rt_journey_atleast2_vp\": 86.0, \"% Scheduled Trip w/ 1+ VP/Minute\": 100.0, \"% Scheduled Trip w/ 2+ VP/Minute\": 100.0, \"Realtime versus Scheduled Service Ratio\": 1.23, \"Average Actual Service (Trip Minutes)\": 60.32, \"GTFS Availability\": \"schedule_and_vp\", \"Speed (MPH)\": 9, \"Transit Operator\": \"Lawndale Beat GMV Schedule\", \"route_long_name\": \"Residential Route\", \"route_short_name\": \"Res\", \"Route\": \"Residential Route\", \"Route ID\": \"6116\", \"schedule_source_record_id\": \"recOFWnzS8spJsM1h\", \"Base64 Encoded Feed URL\": \"aHR0cHM6Ly9yaWRlbGF3bmRhbGViZWF0LmNvbS9ndGZz\", \"Organization ID\": \"recj8LXdeSurpSRNU\", \"Organization\": \"City of Lawndale\", \"District\": \"07 - Los Angeles\", \"ruler_100_pct\": 100, \"ruler_for_vp_per_min\": 2, \"frequency_in_minutes\": 60.0, \"direction_id\": 0.0, \"Direction\": \"Southbound\", \"recent_route_id2\": \"6116\", \"Frequency in Minutes\": \"A trip going this direction comes every 60 minutes\", \"Speed (MPH)_str\": \"9\"}, {\"schedule_gtfs_dataset_key\": \"09a703757d1ed14ca9580b1385e39315\", \"dir_0_1\": 0.0, \"Period\": \"Peak\", \"Average Scheduled Service (trip minutes)\": 49.0, \"Average Stop Distance (miles)\": 0.24, \"# scheduled trips\": 8, \"Trips per Hour\": 1.0, \"is_express\": 0.0, \"is_rapid\": 0.0, \"is_rail\": 0.0, \"is_coverage\": 1.0, \"is_downtown_local\": 1.0, \"is_local\": 0.0, \"Date\": \"2024-01-17T00:00:00\", \"Route typology\": \"downtown_local\", \"# Minutes with 1+ VP per Minute\": 736, \"# Minutes with 2+ VP per Minute\": 723, \"Aggregate Actual Service Minutes\": 2055.94, \"Aggregate Scheduled Service Minutes (all trips)\": 392.0, \"# VP\": 2173, \"# VP within Scheduled Shape\": 1668, \"# Early Arrival Trips\": 0, \"# On-Time Trips\": 3, \"# Late Trips\": 5, \"# Trips with VP\": 8, \"Average VP per Minute\": 1.06, \"% VP within Scheduled Shape\": 77.0, \"pct_rt_journey_atleast1_vp\": 36.0, \"pct_rt_journey_atleast2_vp\": 35.0, \"% Scheduled Trip w/ 1+ VP/Minute\": 100.0, \"% Scheduled Trip w/ 2+ VP/Minute\": 100.0, \"Realtime versus Scheduled Service Ratio\": 5.24, \"Average Actual Service (Trip Minutes)\": 256.99, \"GTFS Availability\": \"schedule_and_vp\", \"Speed (MPH)\": 5, \"Transit Operator\": \"Lawndale Beat GMV Schedule\", \"route_long_name\": \"Residential Route\", \"route_short_name\": \"Res\", \"Route\": \"Residential Route\", \"Route ID\": \"6116\", \"schedule_source_record_id\": \"recOFWnzS8spJsM1h\", \"Base64 Encoded Feed URL\": \"aHR0cHM6Ly9yaWRlbGF3bmRhbGViZWF0LmNvbS9ndGZz\", \"Organization ID\": \"recj8LXdeSurpSRNU\", \"Organization\": \"City of Lawndale\", \"District\": \"07 - Los Angeles\", \"ruler_100_pct\": 100, \"ruler_for_vp_per_min\": 2, \"frequency_in_minutes\": 60.0, \"direction_id\": 0.0, \"Direction\": \"Southbound\", \"recent_route_id2\": \"6116\", \"Frequency in Minutes\": \"A trip going this direction comes every 60 minutes\", \"Speed (MPH)_str\": \"5\"}, {\"schedule_gtfs_dataset_key\": \"09a703757d1ed14ca9580b1385e39315\", \"dir_0_1\": 0.0, \"Period\": \"Peak\", \"Average Scheduled Service (trip minutes)\": 49.0, \"Average Stop Distance (miles)\": 0.24, \"# scheduled trips\": 8, \"Trips per Hour\": 1.0, \"is_express\": 0.0, \"is_rapid\": 0.0, \"is_rail\": 0.0, \"is_coverage\": 1.0, \"is_downtown_local\": 1.0, \"is_local\": 0.0, \"Date\": \"2024-02-14T00:00:00\", \"Route typology\": \"downtown_local\", \"# Minutes with 1+ VP per Minute\": 449, \"# Minutes with 2+ VP per Minute\": 440, \"Aggregate Actual Service Minutes\": 440.65, \"Aggregate Scheduled Service Minutes (all trips)\": 392.0, \"# VP\": 1323, \"# VP within Scheduled Shape\": 1306, \"# Early Arrival Trips\": 0, \"# On-Time Trips\": 5, \"# Late Trips\": 3, \"# Trips with VP\": 8, \"Average VP per Minute\": 3.0, \"% VP within Scheduled Shape\": 99.0, \"pct_rt_journey_atleast1_vp\": 100.0, \"pct_rt_journey_atleast2_vp\": 100.0, \"% Scheduled Trip w/ 1+ VP/Minute\": 100.0, \"% Scheduled Trip w/ 2+ VP/Minute\": 100.0, \"Realtime versus Scheduled Service Ratio\": 1.12, \"Average Actual Service (Trip Minutes)\": 55.08, \"GTFS Availability\": \"schedule_and_vp\", \"Speed (MPH)\": 11, \"Transit Operator\": \"Lawndale Beat GMV Schedule\", \"route_long_name\": \"Residential Route\", \"route_short_name\": \"Res\", \"Route\": \"Residential Route\", \"Route ID\": \"6116\", \"schedule_source_record_id\": \"recOFWnzS8spJsM1h\", \"Base64 Encoded Feed URL\": \"aHR0cHM6Ly9yaWRlbGF3bmRhbGViZWF0LmNvbS9ndGZz\", \"Organization ID\": \"recj8LXdeSurpSRNU\", \"Organization\": \"City of Lawndale\", \"District\": \"07 - Los Angeles\", \"ruler_100_pct\": 100, \"ruler_for_vp_per_min\": 2, \"frequency_in_minutes\": 60.0, \"direction_id\": 0.0, \"Direction\": \"Southbound\", \"recent_route_id2\": \"6116\", \"Frequency in Minutes\": \"A trip going this direction comes every 60 minutes\", \"Speed (MPH)_str\": \"11\"}, {\"schedule_gtfs_dataset_key\": \"09a703757d1ed14ca9580b1385e39315\", \"dir_0_1\": 0.0, \"Period\": \"Peak\", \"Average Scheduled Service (trip minutes)\": 49.0, \"Average Stop Distance (miles)\": 0.24, \"# scheduled trips\": 8, \"Trips per Hour\": 1.0, \"is_express\": 0.0, \"is_rapid\": 0.0, \"is_rail\": 0.0, \"is_coverage\": 1.0, \"is_downtown_local\": 1.0, \"is_local\": 0.0, \"Date\": \"2024-03-13T00:00:00\", \"Route typology\": \"downtown_local\", \"# Minutes with 1+ VP per Minute\": 429, \"# Minutes with 2+ VP per Minute\": 423, \"Aggregate Actual Service Minutes\": 443.19, \"Aggregate Scheduled Service Minutes (all trips)\": 392.0, \"# VP\": 1260, \"# VP within Scheduled Shape\": 1229, \"# Early Arrival Trips\": 1, \"# On-Time Trips\": 5, \"# Late Trips\": 2, \"# Trips with VP\": 8, \"Average VP per Minute\": 2.84, \"% VP within Scheduled Shape\": 98.0, \"pct_rt_journey_atleast1_vp\": 97.0, \"pct_rt_journey_atleast2_vp\": 95.0, \"% Scheduled Trip w/ 1+ VP/Minute\": 100.0, \"% Scheduled Trip w/ 2+ VP/Minute\": 100.0, \"Realtime versus Scheduled Service Ratio\": 1.13, \"Average Actual Service (Trip Minutes)\": 55.4, \"GTFS Availability\": \"schedule_and_vp\", \"Speed (MPH)\": 12, \"Transit Operator\": \"Lawndale Beat GMV Schedule\", \"route_long_name\": \"Residential Route\", \"route_short_name\": \"Res\", \"Route\": \"Residential Route\", \"Route ID\": \"6116\", \"schedule_source_record_id\": \"recOFWnzS8spJsM1h\", \"Base64 Encoded Feed URL\": \"aHR0cHM6Ly9yaWRlbGF3bmRhbGViZWF0LmNvbS9ndGZz\", \"Organization ID\": \"recj8LXdeSurpSRNU\", \"Organization\": \"City of Lawndale\", \"District\": \"07 - Los Angeles\", \"ruler_100_pct\": 100, \"ruler_for_vp_per_min\": 2, \"frequency_in_minutes\": 60.0, \"direction_id\": 0.0, \"Direction\": \"Southbound\", \"recent_route_id2\": \"6116\", \"Frequency in Minutes\": \"A trip going this direction comes every 60 minutes\", \"Speed (MPH)_str\": \"12\"}, {\"schedule_gtfs_dataset_key\": \"09a703757d1ed14ca9580b1385e39315\", \"dir_0_1\": 0.0, \"Period\": \"All Day\", \"Average Scheduled Service (trip minutes)\": 35.0, \"Average Stop Distance (miles)\": 0.27, \"# scheduled trips\": 16, \"Trips per Hour\": 0.67, \"is_express\": 1.0, \"is_rapid\": 0.0, \"is_rail\": 0.0, \"is_coverage\": 0.0, \"is_downtown_local\": 1.0, \"is_local\": 0.0, \"Date\": \"2023-10-11T00:00:00\", \"Route typology\": \"express\", \"# Minutes with 1+ VP per Minute\": 274, \"# Minutes with 2+ VP per Minute\": 272, \"Aggregate Actual Service Minutes\": 269.71, \"Aggregate Scheduled Service Minutes (all trips)\": 210.0, \"# VP\": 815, \"# VP within Scheduled Shape\": 806, \"# Early Arrival Trips\": 0, \"# On-Time Trips\": 4, \"# Late Trips\": 2, \"# Trips with VP\": 6, \"Average VP per Minute\": 3.02, \"% VP within Scheduled Shape\": 99.0, \"pct_rt_journey_atleast1_vp\": 100.0, \"pct_rt_journey_atleast2_vp\": 100.0, \"% Scheduled Trip w/ 1+ VP/Minute\": 100.0, \"% Scheduled Trip w/ 2+ VP/Minute\": 100.0, \"Realtime versus Scheduled Service Ratio\": 1.28, \"Average Actual Service (Trip Minutes)\": 44.95, \"GTFS Availability\": \"schedule_and_vp\", \"Speed (MPH)\": 11, \"Transit Operator\": \"Lawndale Beat GMV Schedule\", \"route_long_name\": \"Express Route\", \"route_short_name\": \"EX\", \"Route\": \"Express Route\", \"Route ID\": \"6117\", \"schedule_source_record_id\": \"recOFWnzS8spJsM1h\", \"Base64 Encoded Feed URL\": \"aHR0cHM6Ly9yaWRlbGF3bmRhbGViZWF0LmNvbS9ndGZz\", \"Organization ID\": \"recj8LXdeSurpSRNU\", \"Organization\": \"City of Lawndale\", \"District\": \"07 - Los Angeles\", \"ruler_100_pct\": 100, \"ruler_for_vp_per_min\": 2, \"frequency_in_minutes\": 89.55223880597015, \"direction_id\": 0.0, \"Direction\": \"Southbound\", \"recent_route_id2\": \"6117\", \"Frequency in Minutes\": \"A trip going this direction comes every 89 minutes\", \"Speed (MPH)_str\": \"11\"}, {\"schedule_gtfs_dataset_key\": \"09a703757d1ed14ca9580b1385e39315\", \"dir_0_1\": 0.0, \"Period\": \"All Day\", \"Average Scheduled Service (trip minutes)\": 35.0, \"Average Stop Distance (miles)\": 0.27, \"# scheduled trips\": 16, \"Trips per Hour\": 0.67, \"is_express\": 1.0, \"is_rapid\": 0.0, \"is_rail\": 0.0, \"is_coverage\": 0.0, \"is_downtown_local\": 1.0, \"is_local\": 0.0, \"Date\": \"2023-11-15T00:00:00\", \"Route typology\": \"express\", \"# Minutes with 1+ VP per Minute\": 27, \"# Minutes with 2+ VP per Minute\": 24, \"Aggregate Actual Service Minutes\": 95.63, \"Aggregate Scheduled Service Minutes (all trips)\": 35.0, \"# VP\": 74, \"# VP within Scheduled Shape\": 71, \"# Early Arrival Trips\": 0, \"# On-Time Trips\": 0, \"# Late Trips\": 1, \"# Trips with VP\": 1, \"Average VP per Minute\": 0.77, \"% VP within Scheduled Shape\": 96.0, \"pct_rt_journey_atleast1_vp\": 28.000000000000004, \"pct_rt_journey_atleast2_vp\": 25.0, \"% Scheduled Trip w/ 1+ VP/Minute\": 77.0, \"% Scheduled Trip w/ 2+ VP/Minute\": 69.0, \"Realtime versus Scheduled Service Ratio\": 2.73, \"Average Actual Service (Trip Minutes)\": 95.63, \"GTFS Availability\": \"schedule_and_vp\", \"Speed (MPH)\": 0, \"Transit Operator\": \"Lawndale Beat GMV Schedule\", \"route_long_name\": \"Express Route\", \"route_short_name\": \"EX\", \"Route\": \"Express Route\", \"Route ID\": \"6117\", \"schedule_source_record_id\": \"recOFWnzS8spJsM1h\", \"Base64 Encoded Feed URL\": \"aHR0cHM6Ly9yaWRlbGF3bmRhbGViZWF0LmNvbS9ndGZz\", \"Organization ID\": \"recj8LXdeSurpSRNU\", \"Organization\": \"City of Lawndale\", \"District\": \"07 - Los Angeles\", \"ruler_100_pct\": 100, \"ruler_for_vp_per_min\": 2, \"frequency_in_minutes\": 89.55223880597015, \"direction_id\": 0.0, \"Direction\": \"Southbound\", \"recent_route_id2\": \"6117\", \"Frequency in Minutes\": \"A trip going this direction comes every 89 minutes\", \"Speed (MPH)_str\": \"0\"}, {\"schedule_gtfs_dataset_key\": \"09a703757d1ed14ca9580b1385e39315\", \"dir_0_1\": 0.0, \"Period\": \"All Day\", \"Average Scheduled Service (trip minutes)\": 35.0, \"Average Stop Distance (miles)\": 0.27, \"# scheduled trips\": 16, \"Trips per Hour\": 0.67, \"is_express\": 1.0, \"is_rapid\": 0.0, \"is_rail\": 0.0, \"is_coverage\": 0.0, \"is_downtown_local\": 1.0, \"is_local\": 0.0, \"Date\": \"2023-12-13T00:00:00\", \"Route typology\": \"express\", \"# Minutes with 1+ VP per Minute\": 750, \"# Minutes with 2+ VP per Minute\": 738, \"Aggregate Actual Service Minutes\": 1469.17, \"Aggregate Scheduled Service Minutes (all trips)\": 420.0, \"# VP\": 2215, \"# VP within Scheduled Shape\": 2003, \"# Early Arrival Trips\": 1, \"# On-Time Trips\": 2, \"# Late Trips\": 9, \"# Trips with VP\": 12, \"Average VP per Minute\": 1.51, \"% VP within Scheduled Shape\": 90.0, \"pct_rt_journey_atleast1_vp\": 51.0, \"pct_rt_journey_atleast2_vp\": 50.0, \"% Scheduled Trip w/ 1+ VP/Minute\": 100.0, \"% Scheduled Trip w/ 2+ VP/Minute\": 100.0, \"Realtime versus Scheduled Service Ratio\": 3.5, \"Average Actual Service (Trip Minutes)\": 122.43, \"GTFS Availability\": \"schedule_and_vp\", \"Speed (MPH)\": 9, \"Transit Operator\": \"Lawndale Beat GMV Schedule\", \"route_long_name\": \"Express Route\", \"route_short_name\": \"EX\", \"Route\": \"Express Route\", \"Route ID\": \"6117\", \"schedule_source_record_id\": \"recOFWnzS8spJsM1h\", \"Base64 Encoded Feed URL\": \"aHR0cHM6Ly9yaWRlbGF3bmRhbGViZWF0LmNvbS9ndGZz\", \"Organization ID\": \"recj8LXdeSurpSRNU\", \"Organization\": \"City of Lawndale\", \"District\": \"07 - Los Angeles\", \"ruler_100_pct\": 100, \"ruler_for_vp_per_min\": 2, \"frequency_in_minutes\": 89.55223880597015, \"direction_id\": 0.0, \"Direction\": \"Southbound\", \"recent_route_id2\": \"6117\", \"Frequency in Minutes\": \"A trip going this direction comes every 89 minutes\", \"Speed (MPH)_str\": \"9\"}, {\"schedule_gtfs_dataset_key\": \"09a703757d1ed14ca9580b1385e39315\", \"dir_0_1\": 0.0, \"Period\": \"All Day\", \"Average Scheduled Service (trip minutes)\": 35.0, \"Average Stop Distance (miles)\": 0.27, \"# scheduled trips\": 16, \"Trips per Hour\": 0.67, \"is_express\": 1.0, \"is_rapid\": 0.0, \"is_rail\": 0.0, \"is_coverage\": 0.0, \"is_downtown_local\": 1.0, \"is_local\": 0.0, \"Date\": \"2024-01-17T00:00:00\", \"Route typology\": \"express\", \"# Minutes with 1+ VP per Minute\": 394, \"# Minutes with 2+ VP per Minute\": 385, \"Aggregate Actual Service Minutes\": 401.54, \"Aggregate Scheduled Service Minutes (all trips)\": 315.0, \"# VP\": 1151, \"# VP within Scheduled Shape\": 1151, \"# Early Arrival Trips\": 0, \"# On-Time Trips\": 5, \"# Late Trips\": 4, \"# Trips with VP\": 9, \"Average VP per Minute\": 2.87, \"% VP within Scheduled Shape\": 100.0, \"pct_rt_journey_atleast1_vp\": 98.0, \"pct_rt_journey_atleast2_vp\": 96.0, \"% Scheduled Trip w/ 1+ VP/Minute\": 100.0, \"% Scheduled Trip w/ 2+ VP/Minute\": 100.0, \"Realtime versus Scheduled Service Ratio\": 1.27, \"Average Actual Service (Trip Minutes)\": 44.62, \"GTFS Availability\": \"schedule_and_vp\", \"Speed (MPH)\": 8, \"Transit Operator\": \"Lawndale Beat GMV Schedule\", \"route_long_name\": \"Express Route\", \"route_short_name\": \"EX\", \"Route\": \"Express Route\", \"Route ID\": \"6117\", \"schedule_source_record_id\": \"recOFWnzS8spJsM1h\", \"Base64 Encoded Feed URL\": \"aHR0cHM6Ly9yaWRlbGF3bmRhbGViZWF0LmNvbS9ndGZz\", \"Organization ID\": \"recj8LXdeSurpSRNU\", \"Organization\": \"City of Lawndale\", \"District\": \"07 - Los Angeles\", \"ruler_100_pct\": 100, \"ruler_for_vp_per_min\": 2, \"frequency_in_minutes\": 89.55223880597015, \"direction_id\": 0.0, \"Direction\": \"Southbound\", \"recent_route_id2\": \"6117\", \"Frequency in Minutes\": \"A trip going this direction comes every 89 minutes\", \"Speed (MPH)_str\": \"8\"}, {\"schedule_gtfs_dataset_key\": \"09a703757d1ed14ca9580b1385e39315\", \"dir_0_1\": 0.0, \"Period\": \"All Day\", \"Average Scheduled Service (trip minutes)\": 35.0, \"Average Stop Distance (miles)\": 0.27, \"# scheduled trips\": 16, \"Trips per Hour\": 0.67, \"is_express\": 1.0, \"is_rapid\": 0.0, \"is_rail\": 0.0, \"is_coverage\": 0.0, \"is_downtown_local\": 1.0, \"is_local\": 0.0, \"Date\": \"2024-02-14T00:00:00\", \"Route typology\": \"express\", \"# Minutes with 1+ VP per Minute\": 290, \"# Minutes with 2+ VP per Minute\": 285, \"Aggregate Actual Service Minutes\": 286.24, \"Aggregate Scheduled Service Minutes (all trips)\": 175.0, \"# VP\": 855, \"# VP within Scheduled Shape\": 855, \"# Early Arrival Trips\": 1, \"# On-Time Trips\": 0, \"# Late Trips\": 4, \"# Trips with VP\": 5, \"Average VP per Minute\": 2.99, \"% VP within Scheduled Shape\": 100.0, \"pct_rt_journey_atleast1_vp\": 100.0, \"pct_rt_journey_atleast2_vp\": 100.0, \"% Scheduled Trip w/ 1+ VP/Minute\": 100.0, \"% Scheduled Trip w/ 2+ VP/Minute\": 100.0, \"Realtime versus Scheduled Service Ratio\": 1.64, \"Average Actual Service (Trip Minutes)\": 57.25, \"GTFS Availability\": \"schedule_and_vp\", \"Speed (MPH)\": 5, \"Transit Operator\": \"Lawndale Beat GMV Schedule\", \"route_long_name\": \"Express Route\", \"route_short_name\": \"EX\", \"Route\": \"Express Route\", \"Route ID\": \"6117\", \"schedule_source_record_id\": \"recOFWnzS8spJsM1h\", \"Base64 Encoded Feed URL\": \"aHR0cHM6Ly9yaWRlbGF3bmRhbGViZWF0LmNvbS9ndGZz\", \"Organization ID\": \"recj8LXdeSurpSRNU\", \"Organization\": \"City of Lawndale\", \"District\": \"07 - Los Angeles\", \"ruler_100_pct\": 100, \"ruler_for_vp_per_min\": 2, \"frequency_in_minutes\": 89.55223880597015, \"direction_id\": 0.0, \"Direction\": \"Southbound\", \"recent_route_id2\": \"6117\", \"Frequency in Minutes\": \"A trip going this direction comes every 89 minutes\", \"Speed (MPH)_str\": \"5\"}, {\"schedule_gtfs_dataset_key\": \"09a703757d1ed14ca9580b1385e39315\", \"dir_0_1\": 0.0, \"Period\": \"All Day\", \"Average Scheduled Service (trip minutes)\": 35.0, \"Average Stop Distance (miles)\": 0.27, \"# scheduled trips\": 16, \"Trips per Hour\": 0.67, \"is_express\": 1.0, \"is_rapid\": 0.0, \"is_rail\": 0.0, \"is_coverage\": 0.0, \"is_downtown_local\": 1.0, \"is_local\": 0.0, \"Date\": \"2024-03-13T00:00:00\", \"Route typology\": \"express\", \"# Minutes with 1+ VP per Minute\": 688, \"# Minutes with 2+ VP per Minute\": 679, \"Aggregate Actual Service Minutes\": 675.43, \"Aggregate Scheduled Service Minutes (all trips)\": 560.0, \"# VP\": 2031, \"# VP within Scheduled Shape\": 2014, \"# Early Arrival Trips\": 0, \"# On-Time Trips\": 8, \"# Late Trips\": 8, \"# Trips with VP\": 16, \"Average VP per Minute\": 3.01, \"% VP within Scheduled Shape\": 99.0, \"pct_rt_journey_atleast1_vp\": 100.0, \"pct_rt_journey_atleast2_vp\": 100.0, \"% Scheduled Trip w/ 1+ VP/Minute\": 100.0, \"% Scheduled Trip w/ 2+ VP/Minute\": 100.0, \"Realtime versus Scheduled Service Ratio\": 1.21, \"Average Actual Service (Trip Minutes)\": 42.21, \"GTFS Availability\": \"schedule_and_vp\", \"Speed (MPH)\": 12, \"Transit Operator\": \"Lawndale Beat GMV Schedule\", \"route_long_name\": \"Express Route\", \"route_short_name\": \"EX\", \"Route\": \"Express Route\", \"Route ID\": \"6117\", \"schedule_source_record_id\": \"recOFWnzS8spJsM1h\", \"Base64 Encoded Feed URL\": \"aHR0cHM6Ly9yaWRlbGF3bmRhbGViZWF0LmNvbS9ndGZz\", \"Organization ID\": \"recj8LXdeSurpSRNU\", \"Organization\": \"City of Lawndale\", \"District\": \"07 - Los Angeles\", \"ruler_100_pct\": 100, \"ruler_for_vp_per_min\": 2, \"frequency_in_minutes\": 89.55223880597015, \"direction_id\": 0.0, \"Direction\": \"Southbound\", \"recent_route_id2\": \"6117\", \"Frequency in Minutes\": \"A trip going this direction comes every 89 minutes\", \"Speed (MPH)_str\": \"12\"}, {\"schedule_gtfs_dataset_key\": \"09a703757d1ed14ca9580b1385e39315\", \"dir_0_1\": 0.0, \"Period\": \"Offpeak\", \"Average Scheduled Service (trip minutes)\": 35.0, \"Average Stop Distance (miles)\": 0.27, \"# scheduled trips\": 8, \"Trips per Hour\": 0.5, \"is_express\": 1.0, \"is_rapid\": 0.0, \"is_rail\": 0.0, \"is_coverage\": 0.0, \"is_downtown_local\": 1.0, \"is_local\": 0.0, \"Date\": \"2023-10-11T00:00:00\", \"Route typology\": \"express\", \"# Minutes with 1+ VP per Minute\": 274, \"# Minutes with 2+ VP per Minute\": 272, \"Aggregate Actual Service Minutes\": 269.71, \"Aggregate Scheduled Service Minutes (all trips)\": 210.0, \"# VP\": 815, \"# VP within Scheduled Shape\": 806, \"# Early Arrival Trips\": 0, \"# On-Time Trips\": 4, \"# Late Trips\": 2, \"# Trips with VP\": 6, \"Average VP per Minute\": 3.02, \"% VP within Scheduled Shape\": 99.0, \"pct_rt_journey_atleast1_vp\": 100.0, \"pct_rt_journey_atleast2_vp\": 100.0, \"% Scheduled Trip w/ 1+ VP/Minute\": 100.0, \"% Scheduled Trip w/ 2+ VP/Minute\": 100.0, \"Realtime versus Scheduled Service Ratio\": 1.28, \"Average Actual Service (Trip Minutes)\": 44.95, \"GTFS Availability\": \"schedule_and_vp\", \"Speed (MPH)\": 11, \"Transit Operator\": \"Lawndale Beat GMV Schedule\", \"route_long_name\": \"Express Route\", \"route_short_name\": \"EX\", \"Route\": \"Express Route\", \"Route ID\": \"6117\", \"schedule_source_record_id\": \"recOFWnzS8spJsM1h\", \"Base64 Encoded Feed URL\": \"aHR0cHM6Ly9yaWRlbGF3bmRhbGViZWF0LmNvbS9ndGZz\", \"Organization ID\": \"recj8LXdeSurpSRNU\", \"Organization\": \"City of Lawndale\", \"District\": \"07 - Los Angeles\", \"ruler_100_pct\": 100, \"ruler_for_vp_per_min\": 2, \"frequency_in_minutes\": 120.0, \"direction_id\": 0.0, \"Direction\": \"Southbound\", \"recent_route_id2\": \"6117\", \"Frequency in Minutes\": \"A trip going this direction comes every 120 minutes\", \"Speed (MPH)_str\": \"11\"}, {\"schedule_gtfs_dataset_key\": \"09a703757d1ed14ca9580b1385e39315\", \"dir_0_1\": 0.0, \"Period\": \"Offpeak\", \"Average Scheduled Service (trip minutes)\": 35.0, \"Average Stop Distance (miles)\": 0.27, \"# scheduled trips\": 8, \"Trips per Hour\": 0.5, \"is_express\": 1.0, \"is_rapid\": 0.0, \"is_rail\": 0.0, \"is_coverage\": 0.0, \"is_downtown_local\": 1.0, \"is_local\": 0.0, \"Date\": \"2023-12-13T00:00:00\", \"Route typology\": \"express\", \"# Minutes with 1+ VP per Minute\": 286, \"# Minutes with 2+ VP per Minute\": 282, \"Aggregate Actual Service Minutes\": 283.42, \"Aggregate Scheduled Service Minutes (all trips)\": 175.0, \"# VP\": 846, \"# VP within Scheduled Shape\": 846, \"# Early Arrival Trips\": 0, \"# On-Time Trips\": 1, \"# Late Trips\": 4, \"# Trips with VP\": 5, \"Average VP per Minute\": 2.98, \"% VP within Scheduled Shape\": 100.0, \"pct_rt_journey_atleast1_vp\": 100.0, \"pct_rt_journey_atleast2_vp\": 100.0, \"% Scheduled Trip w/ 1+ VP/Minute\": 100.0, \"% Scheduled Trip w/ 2+ VP/Minute\": 100.0, \"Realtime versus Scheduled Service Ratio\": 1.62, \"Average Actual Service (Trip Minutes)\": 56.68, \"GTFS Availability\": \"schedule_and_vp\", \"Speed (MPH)\": 9, \"Transit Operator\": \"Lawndale Beat GMV Schedule\", \"route_long_name\": \"Express Route\", \"route_short_name\": \"EX\", \"Route\": \"Express Route\", \"Route ID\": \"6117\", \"schedule_source_record_id\": \"recOFWnzS8spJsM1h\", \"Base64 Encoded Feed URL\": \"aHR0cHM6Ly9yaWRlbGF3bmRhbGViZWF0LmNvbS9ndGZz\", \"Organization ID\": \"recj8LXdeSurpSRNU\", \"Organization\": \"City of Lawndale\", \"District\": \"07 - Los Angeles\", \"ruler_100_pct\": 100, \"ruler_for_vp_per_min\": 2, \"frequency_in_minutes\": 120.0, \"direction_id\": 0.0, \"Direction\": \"Southbound\", \"recent_route_id2\": \"6117\", \"Frequency in Minutes\": \"A trip going this direction comes every 120 minutes\", \"Speed (MPH)_str\": \"9\"}, {\"schedule_gtfs_dataset_key\": \"09a703757d1ed14ca9580b1385e39315\", \"dir_0_1\": 0.0, \"Period\": \"Offpeak\", \"Average Scheduled Service (trip minutes)\": 35.0, \"Average Stop Distance (miles)\": 0.27, \"# scheduled trips\": 8, \"Trips per Hour\": 0.5, \"is_express\": 1.0, \"is_rapid\": 0.0, \"is_rail\": 0.0, \"is_coverage\": 0.0, \"is_downtown_local\": 1.0, \"is_local\": 0.0, \"Date\": \"2024-01-17T00:00:00\", \"Route typology\": \"express\", \"# Minutes with 1+ VP per Minute\": 192, \"# Minutes with 2+ VP per Minute\": 189, \"Aggregate Actual Service Minutes\": 187.97, \"Aggregate Scheduled Service Minutes (all trips)\": 175.0, \"# VP\": 564, \"# VP within Scheduled Shape\": 564, \"# Early Arrival Trips\": 0, \"# On-Time Trips\": 4, \"# Late Trips\": 1, \"# Trips with VP\": 5, \"Average VP per Minute\": 3.0, \"% VP within Scheduled Shape\": 100.0, \"pct_rt_journey_atleast1_vp\": 100.0, \"pct_rt_journey_atleast2_vp\": 100.0, \"% Scheduled Trip w/ 1+ VP/Minute\": 100.0, \"% Scheduled Trip w/ 2+ VP/Minute\": 100.0, \"Realtime versus Scheduled Service Ratio\": 1.07, \"Average Actual Service (Trip Minutes)\": 37.59, \"GTFS Availability\": \"schedule_and_vp\", \"Speed (MPH)\": 12, \"Transit Operator\": \"Lawndale Beat GMV Schedule\", \"route_long_name\": \"Express Route\", \"route_short_name\": \"EX\", \"Route\": \"Express Route\", \"Route ID\": \"6117\", \"schedule_source_record_id\": \"recOFWnzS8spJsM1h\", \"Base64 Encoded Feed URL\": \"aHR0cHM6Ly9yaWRlbGF3bmRhbGViZWF0LmNvbS9ndGZz\", \"Organization ID\": \"recj8LXdeSurpSRNU\", \"Organization\": \"City of Lawndale\", \"District\": \"07 - Los Angeles\", \"ruler_100_pct\": 100, \"ruler_for_vp_per_min\": 2, \"frequency_in_minutes\": 120.0, \"direction_id\": 0.0, \"Direction\": \"Southbound\", \"recent_route_id2\": \"6117\", \"Frequency in Minutes\": \"A trip going this direction comes every 120 minutes\", \"Speed (MPH)_str\": \"12\"}, {\"schedule_gtfs_dataset_key\": \"09a703757d1ed14ca9580b1385e39315\", \"dir_0_1\": 0.0, \"Period\": \"Offpeak\", \"Average Scheduled Service (trip minutes)\": 35.0, \"Average Stop Distance (miles)\": 0.27, \"# scheduled trips\": 8, \"Trips per Hour\": 0.5, \"is_express\": 1.0, \"is_rapid\": 0.0, \"is_rail\": 0.0, \"is_coverage\": 0.0, \"is_downtown_local\": 1.0, \"is_local\": 0.0, \"Date\": \"2024-02-14T00:00:00\", \"Route typology\": \"express\", \"# Minutes with 1+ VP per Minute\": 200, \"# Minutes with 2+ VP per Minute\": 195, \"Aggregate Actual Service Minutes\": 197.24, \"Aggregate Scheduled Service Minutes (all trips)\": 105.0, \"# VP\": 586, \"# VP within Scheduled Shape\": 586, \"# Early Arrival Trips\": 0, \"# On-Time Trips\": 0, \"# Late Trips\": 3, \"# Trips with VP\": 3, \"Average VP per Minute\": 2.97, \"% VP within Scheduled Shape\": 100.0, \"pct_rt_journey_atleast1_vp\": 100.0, \"pct_rt_journey_atleast2_vp\": 99.0, \"% Scheduled Trip w/ 1+ VP/Minute\": 100.0, \"% Scheduled Trip w/ 2+ VP/Minute\": 100.0, \"Realtime versus Scheduled Service Ratio\": 1.88, \"Average Actual Service (Trip Minutes)\": 65.75, \"GTFS Availability\": \"schedule_and_vp\", \"Speed (MPH)\": 8, \"Transit Operator\": \"Lawndale Beat GMV Schedule\", \"route_long_name\": \"Express Route\", \"route_short_name\": \"EX\", \"Route\": \"Express Route\", \"Route ID\": \"6117\", \"schedule_source_record_id\": \"recOFWnzS8spJsM1h\", \"Base64 Encoded Feed URL\": \"aHR0cHM6Ly9yaWRlbGF3bmRhbGViZWF0LmNvbS9ndGZz\", \"Organization ID\": \"recj8LXdeSurpSRNU\", \"Organization\": \"City of Lawndale\", \"District\": \"07 - Los Angeles\", \"ruler_100_pct\": 100, \"ruler_for_vp_per_min\": 2, \"frequency_in_minutes\": 120.0, \"direction_id\": 0.0, \"Direction\": \"Southbound\", \"recent_route_id2\": \"6117\", \"Frequency in Minutes\": \"A trip going this direction comes every 120 minutes\", \"Speed (MPH)_str\": \"8\"}, {\"schedule_gtfs_dataset_key\": \"09a703757d1ed14ca9580b1385e39315\", \"dir_0_1\": 0.0, \"Period\": \"Offpeak\", \"Average Scheduled Service (trip minutes)\": 35.0, \"Average Stop Distance (miles)\": 0.27, \"# scheduled trips\": 8, \"Trips per Hour\": 0.5, \"is_express\": 1.0, \"is_rapid\": 0.0, \"is_rail\": 0.0, \"is_coverage\": 0.0, \"is_downtown_local\": 1.0, \"is_local\": 0.0, \"Date\": \"2024-03-13T00:00:00\", \"Route typology\": \"express\", \"# Minutes with 1+ VP per Minute\": 326, \"# Minutes with 2+ VP per Minute\": 323, \"Aggregate Actual Service Minutes\": 320.01, \"Aggregate Scheduled Service Minutes (all trips)\": 280.0, \"# VP\": 967, \"# VP within Scheduled Shape\": 967, \"# Early Arrival Trips\": 0, \"# On-Time Trips\": 5, \"# Late Trips\": 3, \"# Trips with VP\": 8, \"Average VP per Minute\": 3.02, \"% VP within Scheduled Shape\": 100.0, \"pct_rt_journey_atleast1_vp\": 100.0, \"pct_rt_journey_atleast2_vp\": 100.0, \"% Scheduled Trip w/ 1+ VP/Minute\": 100.0, \"% Scheduled Trip w/ 2+ VP/Minute\": 100.0, \"Realtime versus Scheduled Service Ratio\": 1.14, \"Average Actual Service (Trip Minutes)\": 40.0, \"GTFS Availability\": \"schedule_and_vp\", \"Speed (MPH)\": 12, \"Transit Operator\": \"Lawndale Beat GMV Schedule\", \"route_long_name\": \"Express Route\", \"route_short_name\": \"EX\", \"Route\": \"Express Route\", \"Route ID\": \"6117\", \"schedule_source_record_id\": \"recOFWnzS8spJsM1h\", \"Base64 Encoded Feed URL\": \"aHR0cHM6Ly9yaWRlbGF3bmRhbGViZWF0LmNvbS9ndGZz\", \"Organization ID\": \"recj8LXdeSurpSRNU\", \"Organization\": \"City of Lawndale\", \"District\": \"07 - Los Angeles\", \"ruler_100_pct\": 100, \"ruler_for_vp_per_min\": 2, \"frequency_in_minutes\": 120.0, \"direction_id\": 0.0, \"Direction\": \"Southbound\", \"recent_route_id2\": \"6117\", \"Frequency in Minutes\": \"A trip going this direction comes every 120 minutes\", \"Speed (MPH)_str\": \"12\"}, {\"schedule_gtfs_dataset_key\": \"09a703757d1ed14ca9580b1385e39315\", \"dir_0_1\": 0.0, \"Period\": \"Peak\", \"Average Scheduled Service (trip minutes)\": 35.0, \"Average Stop Distance (miles)\": 0.27, \"# scheduled trips\": 8, \"Trips per Hour\": 1.0, \"is_express\": 1.0, \"is_rapid\": 0.0, \"is_rail\": 0.0, \"is_coverage\": 0.0, \"is_downtown_local\": 1.0, \"is_local\": 0.0, \"Date\": \"2023-11-15T00:00:00\", \"Route typology\": \"express\", \"# Minutes with 1+ VP per Minute\": 27, \"# Minutes with 2+ VP per Minute\": 24, \"Aggregate Actual Service Minutes\": 95.63, \"Aggregate Scheduled Service Minutes (all trips)\": 35.0, \"# VP\": 74, \"# VP within Scheduled Shape\": 71, \"# Early Arrival Trips\": 0, \"# On-Time Trips\": 0, \"# Late Trips\": 1, \"# Trips with VP\": 1, \"Average VP per Minute\": 0.77, \"% VP within Scheduled Shape\": 96.0, \"pct_rt_journey_atleast1_vp\": 28.000000000000004, \"pct_rt_journey_atleast2_vp\": 25.0, \"% Scheduled Trip w/ 1+ VP/Minute\": 77.0, \"% Scheduled Trip w/ 2+ VP/Minute\": 69.0, \"Realtime versus Scheduled Service Ratio\": 2.73, \"Average Actual Service (Trip Minutes)\": 95.63, \"GTFS Availability\": \"schedule_and_vp\", \"Speed (MPH)\": 0, \"Transit Operator\": \"Lawndale Beat GMV Schedule\", \"route_long_name\": \"Express Route\", \"route_short_name\": \"EX\", \"Route\": \"Express Route\", \"Route ID\": \"6117\", \"schedule_source_record_id\": \"recOFWnzS8spJsM1h\", \"Base64 Encoded Feed URL\": \"aHR0cHM6Ly9yaWRlbGF3bmRhbGViZWF0LmNvbS9ndGZz\", \"Organization ID\": \"recj8LXdeSurpSRNU\", \"Organization\": \"City of Lawndale\", \"District\": \"07 - Los Angeles\", \"ruler_100_pct\": 100, \"ruler_for_vp_per_min\": 2, \"frequency_in_minutes\": 60.0, \"direction_id\": 0.0, \"Direction\": \"Southbound\", \"recent_route_id2\": \"6117\", \"Frequency in Minutes\": \"A trip going this direction comes every 60 minutes\", \"Speed (MPH)_str\": \"0\"}, {\"schedule_gtfs_dataset_key\": \"09a703757d1ed14ca9580b1385e39315\", \"dir_0_1\": 0.0, \"Period\": \"Peak\", \"Average Scheduled Service (trip minutes)\": 35.0, \"Average Stop Distance (miles)\": 0.27, \"# scheduled trips\": 8, \"Trips per Hour\": 1.0, \"is_express\": 1.0, \"is_rapid\": 0.0, \"is_rail\": 0.0, \"is_coverage\": 0.0, \"is_downtown_local\": 1.0, \"is_local\": 0.0, \"Date\": \"2023-12-13T00:00:00\", \"Route typology\": \"express\", \"# Minutes with 1+ VP per Minute\": 464, \"# Minutes with 2+ VP per Minute\": 456, \"Aggregate Actual Service Minutes\": 1185.75, \"Aggregate Scheduled Service Minutes (all trips)\": 245.0, \"# VP\": 1369, \"# VP within Scheduled Shape\": 1157, \"# Early Arrival Trips\": 1, \"# On-Time Trips\": 1, \"# Late Trips\": 5, \"# Trips with VP\": 7, \"Average VP per Minute\": 1.15, \"% VP within Scheduled Shape\": 84.0, \"pct_rt_journey_atleast1_vp\": 39.0, \"pct_rt_journey_atleast2_vp\": 38.0, \"% Scheduled Trip w/ 1+ VP/Minute\": 100.0, \"% Scheduled Trip w/ 2+ VP/Minute\": 100.0, \"Realtime versus Scheduled Service Ratio\": 4.84, \"Average Actual Service (Trip Minutes)\": 169.39, \"GTFS Availability\": \"schedule_and_vp\", \"Speed (MPH)\": 9, \"Transit Operator\": \"Lawndale Beat GMV Schedule\", \"route_long_name\": \"Express Route\", \"route_short_name\": \"EX\", \"Route\": \"Express Route\", \"Route ID\": \"6117\", \"schedule_source_record_id\": \"recOFWnzS8spJsM1h\", \"Base64 Encoded Feed URL\": \"aHR0cHM6Ly9yaWRlbGF3bmRhbGViZWF0LmNvbS9ndGZz\", \"Organization ID\": \"recj8LXdeSurpSRNU\", \"Organization\": \"City of Lawndale\", \"District\": \"07 - Los Angeles\", \"ruler_100_pct\": 100, \"ruler_for_vp_per_min\": 2, \"frequency_in_minutes\": 60.0, \"direction_id\": 0.0, \"Direction\": \"Southbound\", \"recent_route_id2\": \"6117\", \"Frequency in Minutes\": \"A trip going this direction comes every 60 minutes\", \"Speed (MPH)_str\": \"9\"}, {\"schedule_gtfs_dataset_key\": \"09a703757d1ed14ca9580b1385e39315\", \"dir_0_1\": 0.0, \"Period\": \"Peak\", \"Average Scheduled Service (trip minutes)\": 35.0, \"Average Stop Distance (miles)\": 0.27, \"# scheduled trips\": 8, \"Trips per Hour\": 1.0, \"is_express\": 1.0, \"is_rapid\": 0.0, \"is_rail\": 0.0, \"is_coverage\": 0.0, \"is_downtown_local\": 1.0, \"is_local\": 0.0, \"Date\": \"2024-01-17T00:00:00\", \"Route typology\": \"express\", \"# Minutes with 1+ VP per Minute\": 202, \"# Minutes with 2+ VP per Minute\": 196, \"Aggregate Actual Service Minutes\": 213.57, \"Aggregate Scheduled Service Minutes (all trips)\": 140.0, \"# VP\": 587, \"# VP within Scheduled Shape\": 587, \"# Early Arrival Trips\": 0, \"# On-Time Trips\": 1, \"# Late Trips\": 3, \"# Trips with VP\": 4, \"Average VP per Minute\": 2.75, \"% VP within Scheduled Shape\": 100.0, \"pct_rt_journey_atleast1_vp\": 95.0, \"pct_rt_journey_atleast2_vp\": 92.0, \"% Scheduled Trip w/ 1+ VP/Minute\": 100.0, \"% Scheduled Trip w/ 2+ VP/Minute\": 100.0, \"Realtime versus Scheduled Service Ratio\": 1.53, \"Average Actual Service (Trip Minutes)\": 53.39, \"GTFS Availability\": \"schedule_and_vp\", \"Speed (MPH)\": 6, \"Transit Operator\": \"Lawndale Beat GMV Schedule\", \"route_long_name\": \"Express Route\", \"route_short_name\": \"EX\", \"Route\": \"Express Route\", \"Route ID\": \"6117\", \"schedule_source_record_id\": \"recOFWnzS8spJsM1h\", \"Base64 Encoded Feed URL\": \"aHR0cHM6Ly9yaWRlbGF3bmRhbGViZWF0LmNvbS9ndGZz\", \"Organization ID\": \"recj8LXdeSurpSRNU\", \"Organization\": \"City of Lawndale\", \"District\": \"07 - Los Angeles\", \"ruler_100_pct\": 100, \"ruler_for_vp_per_min\": 2, \"frequency_in_minutes\": 60.0, \"direction_id\": 0.0, \"Direction\": \"Southbound\", \"recent_route_id2\": \"6117\", \"Frequency in Minutes\": \"A trip going this direction comes every 60 minutes\", \"Speed (MPH)_str\": \"6\"}, {\"schedule_gtfs_dataset_key\": \"09a703757d1ed14ca9580b1385e39315\", \"dir_0_1\": 0.0, \"Period\": \"Peak\", \"Average Scheduled Service (trip minutes)\": 35.0, \"Average Stop Distance (miles)\": 0.27, \"# scheduled trips\": 8, \"Trips per Hour\": 1.0, \"is_express\": 1.0, \"is_rapid\": 0.0, \"is_rail\": 0.0, \"is_coverage\": 0.0, \"is_downtown_local\": 1.0, \"is_local\": 0.0, \"Date\": \"2024-02-14T00:00:00\", \"Route typology\": \"express\", \"# Minutes with 1+ VP per Minute\": 90, \"# Minutes with 2+ VP per Minute\": 90, \"Aggregate Actual Service Minutes\": 89.0, \"Aggregate Scheduled Service Minutes (all trips)\": 70.0, \"# VP\": 269, \"# VP within Scheduled Shape\": 269, \"# Early Arrival Trips\": 1, \"# On-Time Trips\": 0, \"# Late Trips\": 1, \"# Trips with VP\": 2, \"Average VP per Minute\": 3.02, \"% VP within Scheduled Shape\": 100.0, \"pct_rt_journey_atleast1_vp\": 100.0, \"pct_rt_journey_atleast2_vp\": 100.0, \"% Scheduled Trip w/ 1+ VP/Minute\": 100.0, \"% Scheduled Trip w/ 2+ VP/Minute\": 100.0, \"Realtime versus Scheduled Service Ratio\": 1.27, \"Average Actual Service (Trip Minutes)\": 44.5, \"GTFS Availability\": \"schedule_and_vp\", \"Speed (MPH)\": 3, \"Transit Operator\": \"Lawndale Beat GMV Schedule\", \"route_long_name\": \"Express Route\", \"route_short_name\": \"EX\", \"Route\": \"Express Route\", \"Route ID\": \"6117\", \"schedule_source_record_id\": \"recOFWnzS8spJsM1h\", \"Base64 Encoded Feed URL\": \"aHR0cHM6Ly9yaWRlbGF3bmRhbGViZWF0LmNvbS9ndGZz\", \"Organization ID\": \"recj8LXdeSurpSRNU\", \"Organization\": \"City of Lawndale\", \"District\": \"07 - Los Angeles\", \"ruler_100_pct\": 100, \"ruler_for_vp_per_min\": 2, \"frequency_in_minutes\": 60.0, \"direction_id\": 0.0, \"Direction\": \"Southbound\", \"recent_route_id2\": \"6117\", \"Frequency in Minutes\": \"A trip going this direction comes every 60 minutes\", \"Speed (MPH)_str\": \"3\"}, {\"schedule_gtfs_dataset_key\": \"09a703757d1ed14ca9580b1385e39315\", \"dir_0_1\": 0.0, \"Period\": \"Peak\", \"Average Scheduled Service (trip minutes)\": 35.0, \"Average Stop Distance (miles)\": 0.27, \"# scheduled trips\": 8, \"Trips per Hour\": 1.0, \"is_express\": 1.0, \"is_rapid\": 0.0, \"is_rail\": 0.0, \"is_coverage\": 0.0, \"is_downtown_local\": 1.0, \"is_local\": 0.0, \"Date\": \"2024-03-13T00:00:00\", \"Route typology\": \"express\", \"# Minutes with 1+ VP per Minute\": 362, \"# Minutes with 2+ VP per Minute\": 356, \"Aggregate Actual Service Minutes\": 355.42, \"Aggregate Scheduled Service Minutes (all trips)\": 280.0, \"# VP\": 1064, \"# VP within Scheduled Shape\": 1047, \"# Early Arrival Trips\": 0, \"# On-Time Trips\": 3, \"# Late Trips\": 5, \"# Trips with VP\": 8, \"Average VP per Minute\": 2.99, \"% VP within Scheduled Shape\": 98.0, \"pct_rt_journey_atleast1_vp\": 100.0, \"pct_rt_journey_atleast2_vp\": 100.0, \"% Scheduled Trip w/ 1+ VP/Minute\": 100.0, \"% Scheduled Trip w/ 2+ VP/Minute\": 100.0, \"Realtime versus Scheduled Service Ratio\": 1.27, \"Average Actual Service (Trip Minutes)\": 44.43, \"GTFS Availability\": \"schedule_and_vp\", \"Speed (MPH)\": 12, \"Transit Operator\": \"Lawndale Beat GMV Schedule\", \"route_long_name\": \"Express Route\", \"route_short_name\": \"EX\", \"Route\": \"Express Route\", \"Route ID\": \"6117\", \"schedule_source_record_id\": \"recOFWnzS8spJsM1h\", \"Base64 Encoded Feed URL\": \"aHR0cHM6Ly9yaWRlbGF3bmRhbGViZWF0LmNvbS9ndGZz\", \"Organization ID\": \"recj8LXdeSurpSRNU\", \"Organization\": \"City of Lawndale\", \"District\": \"07 - Los Angeles\", \"ruler_100_pct\": 100, \"ruler_for_vp_per_min\": 2, \"frequency_in_minutes\": 60.0, \"direction_id\": 0.0, \"Direction\": \"Southbound\", \"recent_route_id2\": \"6117\", \"Frequency in Minutes\": \"A trip going this direction comes every 60 minutes\", \"Speed (MPH)_str\": \"12\"}, {\"schedule_gtfs_dataset_key\": \"7f75702198137c1a9b53dca78f702ddb\", \"dir_0_1\": 0.0, \"Period\": \"All Day\", \"Average Scheduled Service (trip minutes)\": 49.0, \"Average Stop Distance (miles)\": 0.24, \"# scheduled trips\": 14, \"Trips per Hour\": 0.58, \"is_express\": 0.0, \"is_rapid\": 0.0, \"is_rail\": 0.0, \"is_coverage\": 1.0, \"is_downtown_local\": 1.0, \"is_local\": 0.0, \"Date\": \"2023-09-13T00:00:00\", \"Route typology\": \"downtown_local\", \"# Minutes with 1+ VP per Minute\": 194, \"# Minutes with 2+ VP per Minute\": 193, \"Aggregate Actual Service Minutes\": 192.03, \"Aggregate Scheduled Service Minutes (all trips)\": 196.0, \"# VP\": 578, \"# VP within Scheduled Shape\": 526, \"# Early Arrival Trips\": 2, \"# On-Time Trips\": 0, \"# Late Trips\": 2, \"# Trips with VP\": 4, \"Average VP per Minute\": 3.01, \"% VP within Scheduled Shape\": 91.0, \"pct_rt_journey_atleast1_vp\": 100.0, \"pct_rt_journey_atleast2_vp\": 100.0, \"% Scheduled Trip w/ 1+ VP/Minute\": 99.0, \"% Scheduled Trip w/ 2+ VP/Minute\": 98.0, \"Realtime versus Scheduled Service Ratio\": 0.98, \"Average Actual Service (Trip Minutes)\": 48.01, \"GTFS Availability\": \"schedule_and_vp\", \"Speed (MPH)\": 12, \"Transit Operator\": \"Lawndale Beat GMV Schedule\", \"route_long_name\": \"Residential Route\", \"route_short_name\": \"Res\", \"Route\": \"Residential Route\", \"Route ID\": \"6116\", \"schedule_source_record_id\": \"recOFWnzS8spJsM1h\", \"Base64 Encoded Feed URL\": \"aHR0cHM6Ly9yaWRlbGF3bmRhbGViZWF0LmNvbS9ndGZz\", \"Organization ID\": \"recj8LXdeSurpSRNU\", \"Organization\": \"City of Lawndale\", \"District\": \"07 - Los Angeles\", \"ruler_100_pct\": 100, \"ruler_for_vp_per_min\": 2, \"frequency_in_minutes\": 103.44827586206897, \"direction_id\": 0.0, \"Direction\": \"Southbound\", \"recent_route_id2\": \"6116\", \"Frequency in Minutes\": \"A trip going this direction comes every 103 minutes\", \"Speed (MPH)_str\": \"12\"}, {\"schedule_gtfs_dataset_key\": \"7f75702198137c1a9b53dca78f702ddb\", \"dir_0_1\": 0.0, \"Period\": \"Peak\", \"Average Scheduled Service (trip minutes)\": 49.0, \"Average Stop Distance (miles)\": 0.24, \"# scheduled trips\": 8, \"Trips per Hour\": 1.0, \"is_express\": 0.0, \"is_rapid\": 0.0, \"is_rail\": 0.0, \"is_coverage\": 1.0, \"is_downtown_local\": 1.0, \"is_local\": 0.0, \"Date\": \"2023-09-13T00:00:00\", \"Route typology\": \"downtown_local\", \"# Minutes with 1+ VP per Minute\": 194, \"# Minutes with 2+ VP per Minute\": 193, \"Aggregate Actual Service Minutes\": 192.03, \"Aggregate Scheduled Service Minutes (all trips)\": 196.0, \"# VP\": 578, \"# VP within Scheduled Shape\": 526, \"# Early Arrival Trips\": 2, \"# On-Time Trips\": 0, \"# Late Trips\": 2, \"# Trips with VP\": 4, \"Average VP per Minute\": 3.01, \"% VP within Scheduled Shape\": 91.0, \"pct_rt_journey_atleast1_vp\": 100.0, \"pct_rt_journey_atleast2_vp\": 100.0, \"% Scheduled Trip w/ 1+ VP/Minute\": 99.0, \"% Scheduled Trip w/ 2+ VP/Minute\": 98.0, \"Realtime versus Scheduled Service Ratio\": 0.98, \"Average Actual Service (Trip Minutes)\": 48.01, \"GTFS Availability\": \"schedule_and_vp\", \"Speed (MPH)\": 12, \"Transit Operator\": \"Lawndale Beat GMV Schedule\", \"route_long_name\": \"Residential Route\", \"route_short_name\": \"Res\", \"Route\": \"Residential Route\", \"Route ID\": \"6116\", \"schedule_source_record_id\": \"recOFWnzS8spJsM1h\", \"Base64 Encoded Feed URL\": \"aHR0cHM6Ly9yaWRlbGF3bmRhbGViZWF0LmNvbS9ndGZz\", \"Organization ID\": \"recj8LXdeSurpSRNU\", \"Organization\": \"City of Lawndale\", \"District\": \"07 - Los Angeles\", \"ruler_100_pct\": 100, \"ruler_for_vp_per_min\": 2, \"frequency_in_minutes\": 60.0, \"direction_id\": 0.0, \"Direction\": \"Southbound\", \"recent_route_id2\": \"6116\", \"Frequency in Minutes\": \"A trip going this direction comes every 60 minutes\", \"Speed (MPH)_str\": \"12\"}, {\"schedule_gtfs_dataset_key\": \"7f75702198137c1a9b53dca78f702ddb\", \"dir_0_1\": 0.0, \"Period\": \"All Day\", \"Average Scheduled Service (trip minutes)\": 35.0, \"Average Stop Distance (miles)\": 0.27, \"# scheduled trips\": 16, \"Trips per Hour\": 0.67, \"is_express\": 1.0, \"is_rapid\": 0.0, \"is_rail\": 0.0, \"is_coverage\": 0.0, \"is_downtown_local\": 1.0, \"is_local\": 0.0, \"Date\": \"2023-09-13T00:00:00\", \"Route typology\": \"express\", \"# Minutes with 1+ VP per Minute\": 554, \"# Minutes with 2+ VP per Minute\": 537, \"Aggregate Actual Service Minutes\": 551.65, \"Aggregate Scheduled Service Minutes (all trips)\": 350.0, \"# VP\": 1614, \"# VP within Scheduled Shape\": 1144, \"# Early Arrival Trips\": 0, \"# On-Time Trips\": 3, \"# Late Trips\": 7, \"# Trips with VP\": 10, \"Average VP per Minute\": 2.93, \"% VP within Scheduled Shape\": 71.0, \"pct_rt_journey_atleast1_vp\": 100.0, \"pct_rt_journey_atleast2_vp\": 97.0, \"% Scheduled Trip w/ 1+ VP/Minute\": 100.0, \"% Scheduled Trip w/ 2+ VP/Minute\": 100.0, \"Realtime versus Scheduled Service Ratio\": 1.58, \"Average Actual Service (Trip Minutes)\": 55.16, \"GTFS Availability\": \"schedule_and_vp\", \"Speed (MPH)\": 11, \"Transit Operator\": \"Lawndale Beat GMV Schedule\", \"route_long_name\": \"Express Route\", \"route_short_name\": \"EX\", \"Route\": \"Express Route\", \"Route ID\": \"6117\", \"schedule_source_record_id\": \"recOFWnzS8spJsM1h\", \"Base64 Encoded Feed URL\": \"aHR0cHM6Ly9yaWRlbGF3bmRhbGViZWF0LmNvbS9ndGZz\", \"Organization ID\": \"recj8LXdeSurpSRNU\", \"Organization\": \"City of Lawndale\", \"District\": \"07 - Los Angeles\", \"ruler_100_pct\": 100, \"ruler_for_vp_per_min\": 2, \"frequency_in_minutes\": 89.55223880597015, \"direction_id\": 0.0, \"Direction\": \"Southbound\", \"recent_route_id2\": \"6117\", \"Frequency in Minutes\": \"A trip going this direction comes every 89 minutes\", \"Speed (MPH)_str\": \"11\"}, {\"schedule_gtfs_dataset_key\": \"7f75702198137c1a9b53dca78f702ddb\", \"dir_0_1\": 0.0, \"Period\": \"Offpeak\", \"Average Scheduled Service (trip minutes)\": 35.0, \"Average Stop Distance (miles)\": 0.27, \"# scheduled trips\": 8, \"Trips per Hour\": 0.5, \"is_express\": 1.0, \"is_rapid\": 0.0, \"is_rail\": 0.0, \"is_coverage\": 0.0, \"is_downtown_local\": 1.0, \"is_local\": 0.0, \"Date\": \"2023-09-13T00:00:00\", \"Route typology\": \"express\", \"# Minutes with 1+ VP per Minute\": 214, \"# Minutes with 2+ VP per Minute\": 204, \"Aggregate Actual Service Minutes\": 207.93, \"Aggregate Scheduled Service Minutes (all trips)\": 175.0, \"# VP\": 615, \"# VP within Scheduled Shape\": 615, \"# Early Arrival Trips\": 0, \"# On-Time Trips\": 3, \"# Late Trips\": 2, \"# Trips with VP\": 5, \"Average VP per Minute\": 2.96, \"% VP within Scheduled Shape\": 100.0, \"pct_rt_journey_atleast1_vp\": 100.0, \"pct_rt_journey_atleast2_vp\": 98.0, \"% Scheduled Trip w/ 1+ VP/Minute\": 100.0, \"% Scheduled Trip w/ 2+ VP/Minute\": 100.0, \"Realtime versus Scheduled Service Ratio\": 1.19, \"Average Actual Service (Trip Minutes)\": 41.59, \"GTFS Availability\": \"schedule_and_vp\", \"Speed (MPH)\": 12, \"Transit Operator\": \"Lawndale Beat GMV Schedule\", \"route_long_name\": \"Express Route\", \"route_short_name\": \"EX\", \"Route\": \"Express Route\", \"Route ID\": \"6117\", \"schedule_source_record_id\": \"recOFWnzS8spJsM1h\", \"Base64 Encoded Feed URL\": \"aHR0cHM6Ly9yaWRlbGF3bmRhbGViZWF0LmNvbS9ndGZz\", \"Organization ID\": \"recj8LXdeSurpSRNU\", \"Organization\": \"City of Lawndale\", \"District\": \"07 - Los Angeles\", \"ruler_100_pct\": 100, \"ruler_for_vp_per_min\": 2, \"frequency_in_minutes\": 120.0, \"direction_id\": 0.0, \"Direction\": \"Southbound\", \"recent_route_id2\": \"6117\", \"Frequency in Minutes\": \"A trip going this direction comes every 120 minutes\", \"Speed (MPH)_str\": \"12\"}, {\"schedule_gtfs_dataset_key\": \"7f75702198137c1a9b53dca78f702ddb\", \"dir_0_1\": 0.0, \"Period\": \"Peak\", \"Average Scheduled Service (trip minutes)\": 35.0, \"Average Stop Distance (miles)\": 0.27, \"# scheduled trips\": 8, \"Trips per Hour\": 1.0, \"is_express\": 1.0, \"is_rapid\": 0.0, \"is_rail\": 0.0, \"is_coverage\": 0.0, \"is_downtown_local\": 1.0, \"is_local\": 0.0, \"Date\": \"2023-09-13T00:00:00\", \"Route typology\": \"express\", \"# Minutes with 1+ VP per Minute\": 340, \"# Minutes with 2+ VP per Minute\": 333, \"Aggregate Actual Service Minutes\": 343.72, \"Aggregate Scheduled Service Minutes (all trips)\": 175.0, \"# VP\": 999, \"# VP within Scheduled Shape\": 529, \"# Early Arrival Trips\": 0, \"# On-Time Trips\": 0, \"# Late Trips\": 5, \"# Trips with VP\": 5, \"Average VP per Minute\": 2.91, \"% VP within Scheduled Shape\": 53.0, \"pct_rt_journey_atleast1_vp\": 99.0, \"pct_rt_journey_atleast2_vp\": 97.0, \"% Scheduled Trip w/ 1+ VP/Minute\": 100.0, \"% Scheduled Trip w/ 2+ VP/Minute\": 100.0, \"Realtime versus Scheduled Service Ratio\": 1.96, \"Average Actual Service (Trip Minutes)\": 68.74, \"GTFS Availability\": \"schedule_and_vp\", \"Speed (MPH)\": 10, \"Transit Operator\": \"Lawndale Beat GMV Schedule\", \"route_long_name\": \"Express Route\", \"route_short_name\": \"EX\", \"Route\": \"Express Route\", \"Route ID\": \"6117\", \"schedule_source_record_id\": \"recOFWnzS8spJsM1h\", \"Base64 Encoded Feed URL\": \"aHR0cHM6Ly9yaWRlbGF3bmRhbGViZWF0LmNvbS9ndGZz\", \"Organization ID\": \"recj8LXdeSurpSRNU\", \"Organization\": \"City of Lawndale\", \"District\": \"07 - Los Angeles\", \"ruler_100_pct\": 100, \"ruler_for_vp_per_min\": 2, \"frequency_in_minutes\": 60.0, \"direction_id\": 0.0, \"Direction\": \"Southbound\", \"recent_route_id2\": \"6117\", \"Frequency in Minutes\": \"A trip going this direction comes every 60 minutes\", \"Speed (MPH)_str\": \"10\"}]}}, {\"mode\": \"vega-lite\"});\n",
       "</script>"
      ],
      "text/plain": [
       "alt.FacetChart(...)"
      ]
     },
     "execution_count": 22,
     "metadata": {},
     "output_type": "execute_result"
    }
   ],
   "source": [
    "(\n",
    "        section2_utils.base_facet_line(\n",
    "            df,\n",
    "            \"Speed (MPH)\",\n",
    "            readable_dict[\"speed_graph\"][\"title\"],\n",
    "            readable_dict[\"speed_graph\"][\"subtitle\"],\n",
    "        )\n",
    "        .add_params(xcol_param)\n",
    "        .transform_filter(xcol_param)\n",
    "    )"
   ]
  },
  {
   "cell_type": "markdown",
   "id": "1406bed5-4f7a-44c7-aeb9-3a4466a34bd2",
   "metadata": {},
   "source": [
    "#### VP Per Min"
   ]
  },
  {
   "cell_type": "code",
   "execution_count": 23,
   "id": "d61cb9e1-5c35-4544-a359-02f238638613",
   "metadata": {},
   "outputs": [
    {
     "data": {
      "text/html": [
       "\n",
       "<style>\n",
       "  #altair-viz-217852f2d0664fc2b550c2986f5efde1.vega-embed {\n",
       "    width: 100%;\n",
       "    display: flex;\n",
       "  }\n",
       "\n",
       "  #altair-viz-217852f2d0664fc2b550c2986f5efde1.vega-embed details,\n",
       "  #altair-viz-217852f2d0664fc2b550c2986f5efde1.vega-embed details summary {\n",
       "    position: relative;\n",
       "  }\n",
       "</style>\n",
       "<div id=\"altair-viz-217852f2d0664fc2b550c2986f5efde1\"></div>\n",
       "<script type=\"text/javascript\">\n",
       "  var VEGA_DEBUG = (typeof VEGA_DEBUG == \"undefined\") ? {} : VEGA_DEBUG;\n",
       "  (function(spec, embedOpt){\n",
       "    let outputDiv = document.currentScript.previousElementSibling;\n",
       "    if (outputDiv.id !== \"altair-viz-217852f2d0664fc2b550c2986f5efde1\") {\n",
       "      outputDiv = document.getElementById(\"altair-viz-217852f2d0664fc2b550c2986f5efde1\");\n",
       "    }\n",
       "    const paths = {\n",
       "      \"vega\": \"https://cdn.jsdelivr.net/npm/vega@5?noext\",\n",
       "      \"vega-lib\": \"https://cdn.jsdelivr.net/npm/vega-lib?noext\",\n",
       "      \"vega-lite\": \"https://cdn.jsdelivr.net/npm/vega-lite@5.17.0?noext\",\n",
       "      \"vega-embed\": \"https://cdn.jsdelivr.net/npm/vega-embed@6?noext\",\n",
       "    };\n",
       "\n",
       "    function maybeLoadScript(lib, version) {\n",
       "      var key = `${lib.replace(\"-\", \"\")}_version`;\n",
       "      return (VEGA_DEBUG[key] == version) ?\n",
       "        Promise.resolve(paths[lib]) :\n",
       "        new Promise(function(resolve, reject) {\n",
       "          var s = document.createElement('script');\n",
       "          document.getElementsByTagName(\"head\")[0].appendChild(s);\n",
       "          s.async = true;\n",
       "          s.onload = () => {\n",
       "            VEGA_DEBUG[key] = version;\n",
       "            return resolve(paths[lib]);\n",
       "          };\n",
       "          s.onerror = () => reject(`Error loading script: ${paths[lib]}`);\n",
       "          s.src = paths[lib];\n",
       "        });\n",
       "    }\n",
       "\n",
       "    function showError(err) {\n",
       "      outputDiv.innerHTML = `<div class=\"error\" style=\"color:red;\">${err}</div>`;\n",
       "      throw err;\n",
       "    }\n",
       "\n",
       "    function displayChart(vegaEmbed) {\n",
       "      vegaEmbed(outputDiv, spec, embedOpt)\n",
       "        .catch(err => showError(`Javascript Error: ${err.message}<br>This usually means there's a typo in your chart specification. See the javascript console for the full traceback.`));\n",
       "    }\n",
       "\n",
       "    if(typeof define === \"function\" && define.amd) {\n",
       "      requirejs.config({paths});\n",
       "      require([\"vega-embed\"], displayChart, err => showError(`Error loading script: ${err.message}`));\n",
       "    } else {\n",
       "      maybeLoadScript(\"vega\", \"5\")\n",
       "        .then(() => maybeLoadScript(\"vega-lite\", \"5.17.0\"))\n",
       "        .then(() => maybeLoadScript(\"vega-embed\", \"6\"))\n",
       "        .catch(showError)\n",
       "        .then(() => displayChart(vegaEmbed));\n",
       "    }\n",
       "  })({\"config\": {\"view\": {\"continuousWidth\": 300, \"continuousHeight\": 300}}, \"data\": {\"name\": \"data-9e3e1b41505d9e0261306165288592a9\"}, \"facet\": {\"column\": {\"field\": \"Direction\", \"type\": \"nominal\"}}, \"spec\": {\"layer\": [{\"mark\": {\"type\": \"bar\", \"clip\": true, \"size\": 7}, \"encoding\": {\"color\": {\"field\": \"Average VP per Minute\", \"scale\": {\"domain\": [0, 1, 2, 3], \"range\": [\"#ec5d3b\", \"#fcaa5f\", \"#d2d776\", \"#7cc665\"]}, \"title\": \"Average VP Per Minute\", \"type\": \"quantitative\"}, \"tooltip\": [{\"field\": \"Period\", \"type\": \"nominal\"}, {\"field\": \"Route\", \"type\": \"nominal\"}, {\"field\": \"Organization\", \"type\": \"nominal\"}, {\"field\": \"Date\", \"type\": \"temporal\"}, {\"field\": \"Direction\", \"type\": \"nominal\"}, {\"field\": \"Average VP per Minute\", \"type\": \"quantitative\"}], \"x\": {\"axis\": {\"format\": \"%b %Y\", \"labelAngle\": -45}, \"field\": \"Date\", \"timeUnit\": \"yearmonthdate\", \"title\": [\"Date\"], \"type\": \"ordinal\"}, \"y\": {\"field\": \"Average VP per Minute\", \"scale\": {\"domain\": [0, 3]}, \"title\": \"Average VP Per Minute\", \"type\": \"quantitative\"}}, \"name\": \"view_2\"}, {\"mark\": {\"type\": \"rule\", \"color\": \"red\", \"strokeDash\": [10, 7]}, \"encoding\": {\"y\": {\"aggregate\": \"mean\", \"field\": \"ruler_for_vp_per_min\", \"type\": \"quantitative\"}}}], \"height\": 250, \"width\": 200}, \"params\": [{\"name\": \"param_1\", \"select\": {\"type\": \"point\", \"fields\": [\"Route\"]}, \"bind\": {\"input\": \"select\", \"options\": [\"Residential Route\", \"Express Route\"], \"name\": \"Routes: \"}, \"value\": \"Residential Route\", \"views\": [\"view_2\"]}], \"title\": {\"text\": \"Vehicle Positions per Minute\", \"subtitle\": [\"Trips should have 2+ VPs per minute. This metric reflects the accuracy of the temporal data collected.\"]}, \"transform\": [{\"filter\": {\"param\": \"param_1\"}}], \"$schema\": \"https://vega.github.io/schema/vega-lite/v5.17.0.json\", \"datasets\": {\"data-9e3e1b41505d9e0261306165288592a9\": [{\"schedule_gtfs_dataset_key\": \"09a703757d1ed14ca9580b1385e39315\", \"dir_0_1\": 0.0, \"Period\": \"All Day\", \"Average Scheduled Service (trip minutes)\": 49, \"Average Stop Distance (miles)\": 0.24, \"# scheduled trips\": 14, \"Trips per Hour\": 0.58, \"is_express\": 0.0, \"is_rapid\": 0.0, \"is_rail\": 0.0, \"is_coverage\": 1.0, \"is_downtown_local\": 1.0, \"is_local\": 0.0, \"Date\": \"2023-10-11T00:00:00\", \"Route typology\": \"downtown_local\", \"# Minutes with 1+ VP per Minute\": 737, \"# Minutes with 2+ VP per Minute\": 729, \"Aggregate Actual Service Minutes\": 774.4, \"Aggregate Scheduled Service Minutes (all trips)\": 637.0, \"# VP\": 2180, \"# VP within Scheduled Shape\": 2150, \"# Early Arrival Trips\": 2, \"# On-Time Trips\": 7, \"# Late Trips\": 4, \"# Trips with VP\": 13, \"Average VP per Minute\": 2, \"% VP within Scheduled Shape\": 99.0, \"pct_rt_journey_atleast1_vp\": 95.0, \"pct_rt_journey_atleast2_vp\": 94.0, \"% Scheduled Trip w/ 1+ VP/Minute\": 100.0, \"% Scheduled Trip w/ 2+ VP/Minute\": 100.0, \"Realtime versus Scheduled Service Ratio\": 1.22, \"Average Actual Service (Trip Minutes)\": 59.57, \"GTFS Availability\": \"schedule_and_vp\", \"Speed (MPH)\": 9.46, \"Transit Operator\": \"Lawndale Beat GMV Schedule\", \"route_long_name\": \"Residential Route\", \"route_short_name\": \"Res\", \"Route\": \"Residential Route\", \"Route ID\": \"6116\", \"schedule_source_record_id\": \"recOFWnzS8spJsM1h\", \"Base64 Encoded Feed URL\": \"aHR0cHM6Ly9yaWRlbGF3bmRhbGViZWF0LmNvbS9ndGZz\", \"Organization ID\": \"recj8LXdeSurpSRNU\", \"Organization\": \"City of Lawndale\", \"District\": \"07 - Los Angeles\", \"ruler_100_pct\": 100, \"ruler_for_vp_per_min\": 2, \"frequency_in_minutes\": 103.44827586206897, \"direction_id\": 0.0, \"Direction\": \"Southbound\", \"recent_route_id2\": \"6116\", \"Average Scheduled Service (trip minutes)_str\": \"49\", \"Average VP per Minute_str\": \"2\"}, {\"schedule_gtfs_dataset_key\": \"09a703757d1ed14ca9580b1385e39315\", \"dir_0_1\": 0.0, \"Period\": \"All Day\", \"Average Scheduled Service (trip minutes)\": 49, \"Average Stop Distance (miles)\": 0.24, \"# scheduled trips\": 14, \"Trips per Hour\": 0.58, \"is_express\": 0.0, \"is_rapid\": 0.0, \"is_rail\": 0.0, \"is_coverage\": 1.0, \"is_downtown_local\": 1.0, \"is_local\": 0.0, \"Date\": \"2023-11-15T00:00:00\", \"Route typology\": \"downtown_local\", \"# Minutes with 1+ VP per Minute\": 699, \"# Minutes with 2+ VP per Minute\": 690, \"Aggregate Actual Service Minutes\": 684.72, \"Aggregate Scheduled Service Minutes (all trips)\": 686.0, \"# VP\": 2066, \"# VP within Scheduled Shape\": 2046, \"# Early Arrival Trips\": 3, \"# On-Time Trips\": 8, \"# Late Trips\": 3, \"# Trips with VP\": 14, \"Average VP per Minute\": 3, \"% VP within Scheduled Shape\": 99.0, \"pct_rt_journey_atleast1_vp\": 100.0, \"pct_rt_journey_atleast2_vp\": 100.0, \"% Scheduled Trip w/ 1+ VP/Minute\": 100.0, \"% Scheduled Trip w/ 2+ VP/Minute\": 100.0, \"Realtime versus Scheduled Service Ratio\": 1.0, \"Average Actual Service (Trip Minutes)\": 48.91, \"GTFS Availability\": \"schedule_and_vp\", \"Speed (MPH)\": 11.77, \"Transit Operator\": \"Lawndale Beat GMV Schedule\", \"route_long_name\": \"Residential Route\", \"route_short_name\": \"Res\", \"Route\": \"Residential Route\", \"Route ID\": \"6116\", \"schedule_source_record_id\": \"recOFWnzS8spJsM1h\", \"Base64 Encoded Feed URL\": \"aHR0cHM6Ly9yaWRlbGF3bmRhbGViZWF0LmNvbS9ndGZz\", \"Organization ID\": \"recj8LXdeSurpSRNU\", \"Organization\": \"City of Lawndale\", \"District\": \"07 - Los Angeles\", \"ruler_100_pct\": 100, \"ruler_for_vp_per_min\": 2, \"frequency_in_minutes\": 103.44827586206897, \"direction_id\": 0.0, \"Direction\": \"Southbound\", \"recent_route_id2\": \"6116\", \"Average Scheduled Service (trip minutes)_str\": \"49\", \"Average VP per Minute_str\": \"3\"}, {\"schedule_gtfs_dataset_key\": \"09a703757d1ed14ca9580b1385e39315\", \"dir_0_1\": 0.0, \"Period\": \"All Day\", \"Average Scheduled Service (trip minutes)\": 49, \"Average Stop Distance (miles)\": 0.24, \"# scheduled trips\": 14, \"Trips per Hour\": 0.58, \"is_express\": 0.0, \"is_rapid\": 0.0, \"is_rail\": 0.0, \"is_coverage\": 1.0, \"is_downtown_local\": 1.0, \"is_local\": 0.0, \"Date\": \"2023-12-13T00:00:00\", \"Route typology\": \"downtown_local\", \"# Minutes with 1+ VP per Minute\": 676, \"# Minutes with 2+ VP per Minute\": 663, \"Aggregate Actual Service Minutes\": 724.59, \"Aggregate Scheduled Service Minutes (all trips)\": 637.0, \"# VP\": 1984, \"# VP within Scheduled Shape\": 1965, \"# Early Arrival Trips\": 1, \"# On-Time Trips\": 9, \"# Late Trips\": 3, \"# Trips with VP\": 13, \"Average VP per Minute\": 2, \"% VP within Scheduled Shape\": 99.0, \"pct_rt_journey_atleast1_vp\": 93.0, \"pct_rt_journey_atleast2_vp\": 92.0, \"% Scheduled Trip w/ 1+ VP/Minute\": 100.0, \"% Scheduled Trip w/ 2+ VP/Minute\": 100.0, \"Realtime versus Scheduled Service Ratio\": 1.14, \"Average Actual Service (Trip Minutes)\": 55.74, \"GTFS Availability\": \"schedule_and_vp\", \"Speed (MPH)\": 10.86, \"Transit Operator\": \"Lawndale Beat GMV Schedule\", \"route_long_name\": \"Residential Route\", \"route_short_name\": \"Res\", \"Route\": \"Residential Route\", \"Route ID\": \"6116\", \"schedule_source_record_id\": \"recOFWnzS8spJsM1h\", \"Base64 Encoded Feed URL\": \"aHR0cHM6Ly9yaWRlbGF3bmRhbGViZWF0LmNvbS9ndGZz\", \"Organization ID\": \"recj8LXdeSurpSRNU\", \"Organization\": \"City of Lawndale\", \"District\": \"07 - Los Angeles\", \"ruler_100_pct\": 100, \"ruler_for_vp_per_min\": 2, \"frequency_in_minutes\": 103.44827586206897, \"direction_id\": 0.0, \"Direction\": \"Southbound\", \"recent_route_id2\": \"6116\", \"Average Scheduled Service (trip minutes)_str\": \"49\", \"Average VP per Minute_str\": \"2\"}, {\"schedule_gtfs_dataset_key\": \"09a703757d1ed14ca9580b1385e39315\", \"dir_0_1\": 0.0, \"Period\": \"All Day\", \"Average Scheduled Service (trip minutes)\": 49, \"Average Stop Distance (miles)\": 0.24, \"# scheduled trips\": 14, \"Trips per Hour\": 0.58, \"is_express\": 0.0, \"is_rapid\": 0.0, \"is_rail\": 0.0, \"is_coverage\": 1.0, \"is_downtown_local\": 1.0, \"is_local\": 0.0, \"Date\": \"2024-01-17T00:00:00\", \"Route typology\": \"downtown_local\", \"# Minutes with 1+ VP per Minute\": 1037, \"# Minutes with 2+ VP per Minute\": 1021, \"Aggregate Actual Service Minutes\": 2352.34, \"Aggregate Scheduled Service Minutes (all trips)\": 686.0, \"# VP\": 3068, \"# VP within Scheduled Shape\": 2561, \"# Early Arrival Trips\": 0, \"# On-Time Trips\": 8, \"# Late Trips\": 6, \"# Trips with VP\": 14, \"Average VP per Minute\": 1, \"% VP within Scheduled Shape\": 84.0, \"pct_rt_journey_atleast1_vp\": 44.0, \"pct_rt_journey_atleast2_vp\": 43.0, \"% Scheduled Trip w/ 1+ VP/Minute\": 100.0, \"% Scheduled Trip w/ 2+ VP/Minute\": 100.0, \"Realtime versus Scheduled Service Ratio\": 3.43, \"Average Actual Service (Trip Minutes)\": 168.02, \"GTFS Availability\": \"schedule_and_vp\", \"Speed (MPH)\": 5.75, \"Transit Operator\": \"Lawndale Beat GMV Schedule\", \"route_long_name\": \"Residential Route\", \"route_short_name\": \"Res\", \"Route\": \"Residential Route\", \"Route ID\": \"6116\", \"schedule_source_record_id\": \"recOFWnzS8spJsM1h\", \"Base64 Encoded Feed URL\": \"aHR0cHM6Ly9yaWRlbGF3bmRhbGViZWF0LmNvbS9ndGZz\", \"Organization ID\": \"recj8LXdeSurpSRNU\", \"Organization\": \"City of Lawndale\", \"District\": \"07 - Los Angeles\", \"ruler_100_pct\": 100, \"ruler_for_vp_per_min\": 2, \"frequency_in_minutes\": 103.44827586206897, \"direction_id\": 0.0, \"Direction\": \"Southbound\", \"recent_route_id2\": \"6116\", \"Average Scheduled Service (trip minutes)_str\": \"49\", \"Average VP per Minute_str\": \"1\"}, {\"schedule_gtfs_dataset_key\": \"09a703757d1ed14ca9580b1385e39315\", \"dir_0_1\": 0.0, \"Period\": \"All Day\", \"Average Scheduled Service (trip minutes)\": 49, \"Average Stop Distance (miles)\": 0.24, \"# scheduled trips\": 14, \"Trips per Hour\": 0.58, \"is_express\": 0.0, \"is_rapid\": 0.0, \"is_rail\": 0.0, \"is_coverage\": 1.0, \"is_downtown_local\": 1.0, \"is_local\": 0.0, \"Date\": \"2024-02-14T00:00:00\", \"Route typology\": \"downtown_local\", \"# Minutes with 1+ VP per Minute\": 754, \"# Minutes with 2+ VP per Minute\": 739, \"Aggregate Actual Service Minutes\": 738.69, \"Aggregate Scheduled Service Minutes (all trips)\": 686.0, \"# VP\": 2222, \"# VP within Scheduled Shape\": 2205, \"# Early Arrival Trips\": 0, \"# On-Time Trips\": 10, \"# Late Trips\": 4, \"# Trips with VP\": 14, \"Average VP per Minute\": 3, \"% VP within Scheduled Shape\": 99.0, \"pct_rt_journey_atleast1_vp\": 100.0, \"pct_rt_journey_atleast2_vp\": 100.0, \"% Scheduled Trip w/ 1+ VP/Minute\": 100.0, \"% Scheduled Trip w/ 2+ VP/Minute\": 100.0, \"Realtime versus Scheduled Service Ratio\": 1.08, \"Average Actual Service (Trip Minutes)\": 52.76, \"GTFS Availability\": \"schedule_and_vp\", \"Speed (MPH)\": 11.71, \"Transit Operator\": \"Lawndale Beat GMV Schedule\", \"route_long_name\": \"Residential Route\", \"route_short_name\": \"Res\", \"Route\": \"Residential Route\", \"Route ID\": \"6116\", \"schedule_source_record_id\": \"recOFWnzS8spJsM1h\", \"Base64 Encoded Feed URL\": \"aHR0cHM6Ly9yaWRlbGF3bmRhbGViZWF0LmNvbS9ndGZz\", \"Organization ID\": \"recj8LXdeSurpSRNU\", \"Organization\": \"City of Lawndale\", \"District\": \"07 - Los Angeles\", \"ruler_100_pct\": 100, \"ruler_for_vp_per_min\": 2, \"frequency_in_minutes\": 103.44827586206897, \"direction_id\": 0.0, \"Direction\": \"Southbound\", \"recent_route_id2\": \"6116\", \"Average Scheduled Service (trip minutes)_str\": \"49\", \"Average VP per Minute_str\": \"3\"}, {\"schedule_gtfs_dataset_key\": \"09a703757d1ed14ca9580b1385e39315\", \"dir_0_1\": 0.0, \"Period\": \"All Day\", \"Average Scheduled Service (trip minutes)\": 49, \"Average Stop Distance (miles)\": 0.24, \"# scheduled trips\": 14, \"Trips per Hour\": 0.58, \"is_express\": 0.0, \"is_rapid\": 0.0, \"is_rail\": 0.0, \"is_coverage\": 1.0, \"is_downtown_local\": 1.0, \"is_local\": 0.0, \"Date\": \"2024-03-13T00:00:00\", \"Route typology\": \"downtown_local\", \"# Minutes with 1+ VP per Minute\": 711, \"# Minutes with 2+ VP per Minute\": 695, \"Aggregate Actual Service Minutes\": 734.61, \"Aggregate Scheduled Service Minutes (all trips)\": 686.0, \"# VP\": 2066, \"# VP within Scheduled Shape\": 2035, \"# Early Arrival Trips\": 3, \"# On-Time Trips\": 7, \"# Late Trips\": 4, \"# Trips with VP\": 14, \"Average VP per Minute\": 2, \"% VP within Scheduled Shape\": 98.0, \"pct_rt_journey_atleast1_vp\": 97.0, \"pct_rt_journey_atleast2_vp\": 95.0, \"% Scheduled Trip w/ 1+ VP/Minute\": 100.0, \"% Scheduled Trip w/ 2+ VP/Minute\": 100.0, \"Realtime versus Scheduled Service Ratio\": 1.07, \"Average Actual Service (Trip Minutes)\": 52.47, \"GTFS Availability\": \"schedule_and_vp\", \"Speed (MPH)\": 11.74, \"Transit Operator\": \"Lawndale Beat GMV Schedule\", \"route_long_name\": \"Residential Route\", \"route_short_name\": \"Res\", \"Route\": \"Residential Route\", \"Route ID\": \"6116\", \"schedule_source_record_id\": \"recOFWnzS8spJsM1h\", \"Base64 Encoded Feed URL\": \"aHR0cHM6Ly9yaWRlbGF3bmRhbGViZWF0LmNvbS9ndGZz\", \"Organization ID\": \"recj8LXdeSurpSRNU\", \"Organization\": \"City of Lawndale\", \"District\": \"07 - Los Angeles\", \"ruler_100_pct\": 100, \"ruler_for_vp_per_min\": 2, \"frequency_in_minutes\": 103.44827586206897, \"direction_id\": 0.0, \"Direction\": \"Southbound\", \"recent_route_id2\": \"6116\", \"Average Scheduled Service (trip minutes)_str\": \"49\", \"Average VP per Minute_str\": \"2\"}, {\"schedule_gtfs_dataset_key\": \"09a703757d1ed14ca9580b1385e39315\", \"dir_0_1\": 0.0, \"Period\": \"All Day\", \"Average Scheduled Service (trip minutes)\": 35, \"Average Stop Distance (miles)\": 0.27, \"# scheduled trips\": 16, \"Trips per Hour\": 0.67, \"is_express\": 1.0, \"is_rapid\": 0.0, \"is_rail\": 0.0, \"is_coverage\": 0.0, \"is_downtown_local\": 1.0, \"is_local\": 0.0, \"Date\": \"2023-10-11T00:00:00\", \"Route typology\": \"express\", \"# Minutes with 1+ VP per Minute\": 274, \"# Minutes with 2+ VP per Minute\": 272, \"Aggregate Actual Service Minutes\": 269.71, \"Aggregate Scheduled Service Minutes (all trips)\": 210.0, \"# VP\": 815, \"# VP within Scheduled Shape\": 806, \"# Early Arrival Trips\": 0, \"# On-Time Trips\": 4, \"# Late Trips\": 2, \"# Trips with VP\": 6, \"Average VP per Minute\": 3, \"% VP within Scheduled Shape\": 99.0, \"pct_rt_journey_atleast1_vp\": 100.0, \"pct_rt_journey_atleast2_vp\": 100.0, \"% Scheduled Trip w/ 1+ VP/Minute\": 100.0, \"% Scheduled Trip w/ 2+ VP/Minute\": 100.0, \"Realtime versus Scheduled Service Ratio\": 1.28, \"Average Actual Service (Trip Minutes)\": 44.95, \"GTFS Availability\": \"schedule_and_vp\", \"Speed (MPH)\": 11.49, \"Transit Operator\": \"Lawndale Beat GMV Schedule\", \"route_long_name\": \"Express Route\", \"route_short_name\": \"EX\", \"Route\": \"Express Route\", \"Route ID\": \"6117\", \"schedule_source_record_id\": \"recOFWnzS8spJsM1h\", \"Base64 Encoded Feed URL\": \"aHR0cHM6Ly9yaWRlbGF3bmRhbGViZWF0LmNvbS9ndGZz\", \"Organization ID\": \"recj8LXdeSurpSRNU\", \"Organization\": \"City of Lawndale\", \"District\": \"07 - Los Angeles\", \"ruler_100_pct\": 100, \"ruler_for_vp_per_min\": 2, \"frequency_in_minutes\": 89.55223880597015, \"direction_id\": 0.0, \"Direction\": \"Southbound\", \"recent_route_id2\": \"6117\", \"Average Scheduled Service (trip minutes)_str\": \"35\", \"Average VP per Minute_str\": \"3\"}, {\"schedule_gtfs_dataset_key\": \"09a703757d1ed14ca9580b1385e39315\", \"dir_0_1\": 0.0, \"Period\": \"All Day\", \"Average Scheduled Service (trip minutes)\": 35, \"Average Stop Distance (miles)\": 0.27, \"# scheduled trips\": 16, \"Trips per Hour\": 0.67, \"is_express\": 1.0, \"is_rapid\": 0.0, \"is_rail\": 0.0, \"is_coverage\": 0.0, \"is_downtown_local\": 1.0, \"is_local\": 0.0, \"Date\": \"2023-11-15T00:00:00\", \"Route typology\": \"express\", \"# Minutes with 1+ VP per Minute\": 27, \"# Minutes with 2+ VP per Minute\": 24, \"Aggregate Actual Service Minutes\": 95.63, \"Aggregate Scheduled Service Minutes (all trips)\": 35.0, \"# VP\": 74, \"# VP within Scheduled Shape\": 71, \"# Early Arrival Trips\": 0, \"# On-Time Trips\": 0, \"# Late Trips\": 1, \"# Trips with VP\": 1, \"Average VP per Minute\": 0, \"% VP within Scheduled Shape\": 96.0, \"pct_rt_journey_atleast1_vp\": 28.000000000000004, \"pct_rt_journey_atleast2_vp\": 25.0, \"% Scheduled Trip w/ 1+ VP/Minute\": 77.0, \"% Scheduled Trip w/ 2+ VP/Minute\": 69.0, \"Realtime versus Scheduled Service Ratio\": 2.73, \"Average Actual Service (Trip Minutes)\": 95.63, \"GTFS Availability\": \"schedule_and_vp\", \"Speed (MPH)\": null, \"Transit Operator\": \"Lawndale Beat GMV Schedule\", \"route_long_name\": \"Express Route\", \"route_short_name\": \"EX\", \"Route\": \"Express Route\", \"Route ID\": \"6117\", \"schedule_source_record_id\": \"recOFWnzS8spJsM1h\", \"Base64 Encoded Feed URL\": \"aHR0cHM6Ly9yaWRlbGF3bmRhbGViZWF0LmNvbS9ndGZz\", \"Organization ID\": \"recj8LXdeSurpSRNU\", \"Organization\": \"City of Lawndale\", \"District\": \"07 - Los Angeles\", \"ruler_100_pct\": 100, \"ruler_for_vp_per_min\": 2, \"frequency_in_minutes\": 89.55223880597015, \"direction_id\": 0.0, \"Direction\": \"Southbound\", \"recent_route_id2\": \"6117\", \"Average Scheduled Service (trip minutes)_str\": \"35\", \"Average VP per Minute_str\": \"0\"}, {\"schedule_gtfs_dataset_key\": \"09a703757d1ed14ca9580b1385e39315\", \"dir_0_1\": 0.0, \"Period\": \"All Day\", \"Average Scheduled Service (trip minutes)\": 35, \"Average Stop Distance (miles)\": 0.27, \"# scheduled trips\": 16, \"Trips per Hour\": 0.67, \"is_express\": 1.0, \"is_rapid\": 0.0, \"is_rail\": 0.0, \"is_coverage\": 0.0, \"is_downtown_local\": 1.0, \"is_local\": 0.0, \"Date\": \"2023-12-13T00:00:00\", \"Route typology\": \"express\", \"# Minutes with 1+ VP per Minute\": 750, \"# Minutes with 2+ VP per Minute\": 738, \"Aggregate Actual Service Minutes\": 1469.17, \"Aggregate Scheduled Service Minutes (all trips)\": 420.0, \"# VP\": 2215, \"# VP within Scheduled Shape\": 2003, \"# Early Arrival Trips\": 1, \"# On-Time Trips\": 2, \"# Late Trips\": 9, \"# Trips with VP\": 12, \"Average VP per Minute\": 1, \"% VP within Scheduled Shape\": 90.0, \"pct_rt_journey_atleast1_vp\": 51.0, \"pct_rt_journey_atleast2_vp\": 50.0, \"% Scheduled Trip w/ 1+ VP/Minute\": 100.0, \"% Scheduled Trip w/ 2+ VP/Minute\": 100.0, \"Realtime versus Scheduled Service Ratio\": 3.5, \"Average Actual Service (Trip Minutes)\": 122.43, \"GTFS Availability\": \"schedule_and_vp\", \"Speed (MPH)\": 9.58, \"Transit Operator\": \"Lawndale Beat GMV Schedule\", \"route_long_name\": \"Express Route\", \"route_short_name\": \"EX\", \"Route\": \"Express Route\", \"Route ID\": \"6117\", \"schedule_source_record_id\": \"recOFWnzS8spJsM1h\", \"Base64 Encoded Feed URL\": \"aHR0cHM6Ly9yaWRlbGF3bmRhbGViZWF0LmNvbS9ndGZz\", \"Organization ID\": \"recj8LXdeSurpSRNU\", \"Organization\": \"City of Lawndale\", \"District\": \"07 - Los Angeles\", \"ruler_100_pct\": 100, \"ruler_for_vp_per_min\": 2, \"frequency_in_minutes\": 89.55223880597015, \"direction_id\": 0.0, \"Direction\": \"Southbound\", \"recent_route_id2\": \"6117\", \"Average Scheduled Service (trip minutes)_str\": \"35\", \"Average VP per Minute_str\": \"1\"}, {\"schedule_gtfs_dataset_key\": \"09a703757d1ed14ca9580b1385e39315\", \"dir_0_1\": 0.0, \"Period\": \"All Day\", \"Average Scheduled Service (trip minutes)\": 35, \"Average Stop Distance (miles)\": 0.27, \"# scheduled trips\": 16, \"Trips per Hour\": 0.67, \"is_express\": 1.0, \"is_rapid\": 0.0, \"is_rail\": 0.0, \"is_coverage\": 0.0, \"is_downtown_local\": 1.0, \"is_local\": 0.0, \"Date\": \"2024-01-17T00:00:00\", \"Route typology\": \"express\", \"# Minutes with 1+ VP per Minute\": 394, \"# Minutes with 2+ VP per Minute\": 385, \"Aggregate Actual Service Minutes\": 401.54, \"Aggregate Scheduled Service Minutes (all trips)\": 315.0, \"# VP\": 1151, \"# VP within Scheduled Shape\": 1151, \"# Early Arrival Trips\": 0, \"# On-Time Trips\": 5, \"# Late Trips\": 4, \"# Trips with VP\": 9, \"Average VP per Minute\": 2, \"% VP within Scheduled Shape\": 100.0, \"pct_rt_journey_atleast1_vp\": 98.0, \"pct_rt_journey_atleast2_vp\": 96.0, \"% Scheduled Trip w/ 1+ VP/Minute\": 100.0, \"% Scheduled Trip w/ 2+ VP/Minute\": 100.0, \"Realtime versus Scheduled Service Ratio\": 1.27, \"Average Actual Service (Trip Minutes)\": 44.62, \"GTFS Availability\": \"schedule_and_vp\", \"Speed (MPH)\": 8.96, \"Transit Operator\": \"Lawndale Beat GMV Schedule\", \"route_long_name\": \"Express Route\", \"route_short_name\": \"EX\", \"Route\": \"Express Route\", \"Route ID\": \"6117\", \"schedule_source_record_id\": \"recOFWnzS8spJsM1h\", \"Base64 Encoded Feed URL\": \"aHR0cHM6Ly9yaWRlbGF3bmRhbGViZWF0LmNvbS9ndGZz\", \"Organization ID\": \"recj8LXdeSurpSRNU\", \"Organization\": \"City of Lawndale\", \"District\": \"07 - Los Angeles\", \"ruler_100_pct\": 100, \"ruler_for_vp_per_min\": 2, \"frequency_in_minutes\": 89.55223880597015, \"direction_id\": 0.0, \"Direction\": \"Southbound\", \"recent_route_id2\": \"6117\", \"Average Scheduled Service (trip minutes)_str\": \"35\", \"Average VP per Minute_str\": \"2\"}, {\"schedule_gtfs_dataset_key\": \"09a703757d1ed14ca9580b1385e39315\", \"dir_0_1\": 0.0, \"Period\": \"All Day\", \"Average Scheduled Service (trip minutes)\": 35, \"Average Stop Distance (miles)\": 0.27, \"# scheduled trips\": 16, \"Trips per Hour\": 0.67, \"is_express\": 1.0, \"is_rapid\": 0.0, \"is_rail\": 0.0, \"is_coverage\": 0.0, \"is_downtown_local\": 1.0, \"is_local\": 0.0, \"Date\": \"2024-02-14T00:00:00\", \"Route typology\": \"express\", \"# Minutes with 1+ VP per Minute\": 290, \"# Minutes with 2+ VP per Minute\": 285, \"Aggregate Actual Service Minutes\": 286.24, \"Aggregate Scheduled Service Minutes (all trips)\": 175.0, \"# VP\": 855, \"# VP within Scheduled Shape\": 855, \"# Early Arrival Trips\": 1, \"# On-Time Trips\": 0, \"# Late Trips\": 4, \"# Trips with VP\": 5, \"Average VP per Minute\": 2, \"% VP within Scheduled Shape\": 100.0, \"pct_rt_journey_atleast1_vp\": 100.0, \"pct_rt_journey_atleast2_vp\": 100.0, \"% Scheduled Trip w/ 1+ VP/Minute\": 100.0, \"% Scheduled Trip w/ 2+ VP/Minute\": 100.0, \"Realtime versus Scheduled Service Ratio\": 1.64, \"Average Actual Service (Trip Minutes)\": 57.25, \"GTFS Availability\": \"schedule_and_vp\", \"Speed (MPH)\": 5.83, \"Transit Operator\": \"Lawndale Beat GMV Schedule\", \"route_long_name\": \"Express Route\", \"route_short_name\": \"EX\", \"Route\": \"Express Route\", \"Route ID\": \"6117\", \"schedule_source_record_id\": \"recOFWnzS8spJsM1h\", \"Base64 Encoded Feed URL\": \"aHR0cHM6Ly9yaWRlbGF3bmRhbGViZWF0LmNvbS9ndGZz\", \"Organization ID\": \"recj8LXdeSurpSRNU\", \"Organization\": \"City of Lawndale\", \"District\": \"07 - Los Angeles\", \"ruler_100_pct\": 100, \"ruler_for_vp_per_min\": 2, \"frequency_in_minutes\": 89.55223880597015, \"direction_id\": 0.0, \"Direction\": \"Southbound\", \"recent_route_id2\": \"6117\", \"Average Scheduled Service (trip minutes)_str\": \"35\", \"Average VP per Minute_str\": \"2\"}, {\"schedule_gtfs_dataset_key\": \"09a703757d1ed14ca9580b1385e39315\", \"dir_0_1\": 0.0, \"Period\": \"All Day\", \"Average Scheduled Service (trip minutes)\": 35, \"Average Stop Distance (miles)\": 0.27, \"# scheduled trips\": 16, \"Trips per Hour\": 0.67, \"is_express\": 1.0, \"is_rapid\": 0.0, \"is_rail\": 0.0, \"is_coverage\": 0.0, \"is_downtown_local\": 1.0, \"is_local\": 0.0, \"Date\": \"2024-03-13T00:00:00\", \"Route typology\": \"express\", \"# Minutes with 1+ VP per Minute\": 688, \"# Minutes with 2+ VP per Minute\": 679, \"Aggregate Actual Service Minutes\": 675.43, \"Aggregate Scheduled Service Minutes (all trips)\": 560.0, \"# VP\": 2031, \"# VP within Scheduled Shape\": 2014, \"# Early Arrival Trips\": 0, \"# On-Time Trips\": 8, \"# Late Trips\": 8, \"# Trips with VP\": 16, \"Average VP per Minute\": 3, \"% VP within Scheduled Shape\": 99.0, \"pct_rt_journey_atleast1_vp\": 100.0, \"pct_rt_journey_atleast2_vp\": 100.0, \"% Scheduled Trip w/ 1+ VP/Minute\": 100.0, \"% Scheduled Trip w/ 2+ VP/Minute\": 100.0, \"Realtime versus Scheduled Service Ratio\": 1.21, \"Average Actual Service (Trip Minutes)\": 42.21, \"GTFS Availability\": \"schedule_and_vp\", \"Speed (MPH)\": 12.9, \"Transit Operator\": \"Lawndale Beat GMV Schedule\", \"route_long_name\": \"Express Route\", \"route_short_name\": \"EX\", \"Route\": \"Express Route\", \"Route ID\": \"6117\", \"schedule_source_record_id\": \"recOFWnzS8spJsM1h\", \"Base64 Encoded Feed URL\": \"aHR0cHM6Ly9yaWRlbGF3bmRhbGViZWF0LmNvbS9ndGZz\", \"Organization ID\": \"recj8LXdeSurpSRNU\", \"Organization\": \"City of Lawndale\", \"District\": \"07 - Los Angeles\", \"ruler_100_pct\": 100, \"ruler_for_vp_per_min\": 2, \"frequency_in_minutes\": 89.55223880597015, \"direction_id\": 0.0, \"Direction\": \"Southbound\", \"recent_route_id2\": \"6117\", \"Average Scheduled Service (trip minutes)_str\": \"35\", \"Average VP per Minute_str\": \"3\"}, {\"schedule_gtfs_dataset_key\": \"7f75702198137c1a9b53dca78f702ddb\", \"dir_0_1\": 0.0, \"Period\": \"All Day\", \"Average Scheduled Service (trip minutes)\": 49, \"Average Stop Distance (miles)\": 0.24, \"# scheduled trips\": 14, \"Trips per Hour\": 0.58, \"is_express\": 0.0, \"is_rapid\": 0.0, \"is_rail\": 0.0, \"is_coverage\": 1.0, \"is_downtown_local\": 1.0, \"is_local\": 0.0, \"Date\": \"2023-09-13T00:00:00\", \"Route typology\": \"downtown_local\", \"# Minutes with 1+ VP per Minute\": 194, \"# Minutes with 2+ VP per Minute\": 193, \"Aggregate Actual Service Minutes\": 192.03, \"Aggregate Scheduled Service Minutes (all trips)\": 196.0, \"# VP\": 578, \"# VP within Scheduled Shape\": 526, \"# Early Arrival Trips\": 2, \"# On-Time Trips\": 0, \"# Late Trips\": 2, \"# Trips with VP\": 4, \"Average VP per Minute\": 3, \"% VP within Scheduled Shape\": 91.0, \"pct_rt_journey_atleast1_vp\": 100.0, \"pct_rt_journey_atleast2_vp\": 100.0, \"% Scheduled Trip w/ 1+ VP/Minute\": 99.0, \"% Scheduled Trip w/ 2+ VP/Minute\": 98.0, \"Realtime versus Scheduled Service Ratio\": 0.98, \"Average Actual Service (Trip Minutes)\": 48.01, \"GTFS Availability\": \"schedule_and_vp\", \"Speed (MPH)\": 12.78, \"Transit Operator\": \"Lawndale Beat GMV Schedule\", \"route_long_name\": \"Residential Route\", \"route_short_name\": \"Res\", \"Route\": \"Residential Route\", \"Route ID\": \"6116\", \"schedule_source_record_id\": \"recOFWnzS8spJsM1h\", \"Base64 Encoded Feed URL\": \"aHR0cHM6Ly9yaWRlbGF3bmRhbGViZWF0LmNvbS9ndGZz\", \"Organization ID\": \"recj8LXdeSurpSRNU\", \"Organization\": \"City of Lawndale\", \"District\": \"07 - Los Angeles\", \"ruler_100_pct\": 100, \"ruler_for_vp_per_min\": 2, \"frequency_in_minutes\": 103.44827586206897, \"direction_id\": 0.0, \"Direction\": \"Southbound\", \"recent_route_id2\": \"6116\", \"Average Scheduled Service (trip minutes)_str\": \"49\", \"Average VP per Minute_str\": \"3\"}, {\"schedule_gtfs_dataset_key\": \"7f75702198137c1a9b53dca78f702ddb\", \"dir_0_1\": 0.0, \"Period\": \"All Day\", \"Average Scheduled Service (trip minutes)\": 35, \"Average Stop Distance (miles)\": 0.27, \"# scheduled trips\": 16, \"Trips per Hour\": 0.67, \"is_express\": 1.0, \"is_rapid\": 0.0, \"is_rail\": 0.0, \"is_coverage\": 0.0, \"is_downtown_local\": 1.0, \"is_local\": 0.0, \"Date\": \"2023-09-13T00:00:00\", \"Route typology\": \"express\", \"# Minutes with 1+ VP per Minute\": 554, \"# Minutes with 2+ VP per Minute\": 537, \"Aggregate Actual Service Minutes\": 551.65, \"Aggregate Scheduled Service Minutes (all trips)\": 350.0, \"# VP\": 1614, \"# VP within Scheduled Shape\": 1144, \"# Early Arrival Trips\": 0, \"# On-Time Trips\": 3, \"# Late Trips\": 7, \"# Trips with VP\": 10, \"Average VP per Minute\": 2, \"% VP within Scheduled Shape\": 71.0, \"pct_rt_journey_atleast1_vp\": 100.0, \"pct_rt_journey_atleast2_vp\": 97.0, \"% Scheduled Trip w/ 1+ VP/Minute\": 100.0, \"% Scheduled Trip w/ 2+ VP/Minute\": 100.0, \"Realtime versus Scheduled Service Ratio\": 1.58, \"Average Actual Service (Trip Minutes)\": 55.16, \"GTFS Availability\": \"schedule_and_vp\", \"Speed (MPH)\": 11.25, \"Transit Operator\": \"Lawndale Beat GMV Schedule\", \"route_long_name\": \"Express Route\", \"route_short_name\": \"EX\", \"Route\": \"Express Route\", \"Route ID\": \"6117\", \"schedule_source_record_id\": \"recOFWnzS8spJsM1h\", \"Base64 Encoded Feed URL\": \"aHR0cHM6Ly9yaWRlbGF3bmRhbGViZWF0LmNvbS9ndGZz\", \"Organization ID\": \"recj8LXdeSurpSRNU\", \"Organization\": \"City of Lawndale\", \"District\": \"07 - Los Angeles\", \"ruler_100_pct\": 100, \"ruler_for_vp_per_min\": 2, \"frequency_in_minutes\": 89.55223880597015, \"direction_id\": 0.0, \"Direction\": \"Southbound\", \"recent_route_id2\": \"6117\", \"Average Scheduled Service (trip minutes)_str\": \"35\", \"Average VP per Minute_str\": \"2\"}]}}, {\"mode\": \"vega-lite\"});\n",
       "</script>"
      ],
      "text/plain": [
       "alt.FacetChart(...)"
      ]
     },
     "execution_count": 23,
     "metadata": {},
     "output_type": "execute_result"
    }
   ],
   "source": [
    "(\n",
    "        (\n",
    "            section2_utils.base_facet_with_ruler_chart(\n",
    "                all_day,\n",
    "                \"Average VP per Minute\",\n",
    "                \"ruler_for_vp_per_min\",\n",
    "                readable_dict[\"vp_per_min_graph\"][\"title\"],\n",
    "                readable_dict[\"vp_per_min_graph\"][\"subtitle\"],\n",
    "                color_dict[\"vp_domain\"],\n",
    "                color_dict[\"vp_range\"]\n",
    "            )\n",
    "        )\n",
    "        .add_params(xcol_param)\n",
    "        .transform_filter(xcol_param)\n",
    "    )"
   ]
  },
  {
   "cell_type": "markdown",
   "id": "0818e49c-769b-4066-a239-874d72f3f208",
   "metadata": {},
   "source": [
    "#### Scheduled VP Per Min"
   ]
  },
  {
   "cell_type": "code",
   "execution_count": 25,
   "id": "1eca1093-2098-4b05-bf1e-978358fa781b",
   "metadata": {},
   "outputs": [
    {
     "data": {
      "text/html": [
       "<div>\n",
       "<style scoped>\n",
       "    .dataframe tbody tr th:only-of-type {\n",
       "        vertical-align: middle;\n",
       "    }\n",
       "\n",
       "    .dataframe tbody tr th {\n",
       "        vertical-align: top;\n",
       "    }\n",
       "\n",
       "    .dataframe thead th {\n",
       "        text-align: right;\n",
       "    }\n",
       "</style>\n",
       "<table border=\"1\" class=\"dataframe\">\n",
       "  <thead>\n",
       "    <tr style=\"text-align: right;\">\n",
       "      <th></th>\n",
       "      <th>Date</th>\n",
       "      <th>Organization</th>\n",
       "      <th>Route</th>\n",
       "      <th>Direction</th>\n",
       "      <th>Period</th>\n",
       "      <th>ruler_100_pct</th>\n",
       "      <th>Category</th>\n",
       "      <th>% of Actual Trip Minutes</th>\n",
       "    </tr>\n",
       "  </thead>\n",
       "  <tbody>\n",
       "    <tr>\n",
       "      <th>0</th>\n",
       "      <td>2023-10-11</td>\n",
       "      <td>City of Lawndale</td>\n",
       "      <td>Residential Route</td>\n",
       "      <td>Southbound</td>\n",
       "      <td>all_day</td>\n",
       "      <td>100</td>\n",
       "      <td>% Scheduled Trip w/ 1+ VP/Minute</td>\n",
       "      <td>100.00</td>\n",
       "    </tr>\n",
       "    <tr>\n",
       "      <th>1</th>\n",
       "      <td>2023-11-15</td>\n",
       "      <td>City of Lawndale</td>\n",
       "      <td>Residential Route</td>\n",
       "      <td>Southbound</td>\n",
       "      <td>all_day</td>\n",
       "      <td>100</td>\n",
       "      <td>% Scheduled Trip w/ 1+ VP/Minute</td>\n",
       "      <td>100.00</td>\n",
       "    </tr>\n",
       "  </tbody>\n",
       "</table>\n",
       "</div>"
      ],
      "text/plain": [
       "        Date      Organization              Route   Direction   Period  \\\n",
       "0 2023-10-11  City of Lawndale  Residential Route  Southbound  all_day   \n",
       "1 2023-11-15  City of Lawndale  Residential Route  Southbound  all_day   \n",
       "\n",
       "   ruler_100_pct                          Category  % of Actual Trip Minutes  \n",
       "0            100  % Scheduled Trip w/ 1+ VP/Minute                    100.00  \n",
       "1            100  % Scheduled Trip w/ 1+ VP/Minute                    100.00  "
      ]
     },
     "execution_count": 25,
     "metadata": {},
     "output_type": "execute_result"
    }
   ],
   "source": [
    "sched_journey_vp.head(2)"
   ]
  },
  {
   "cell_type": "code",
   "execution_count": 26,
   "id": "7956df17-333e-4c25-8a52-9a5061f525d4",
   "metadata": {
    "tags": []
   },
   "outputs": [
    {
     "data": {
      "text/html": [
       "\n",
       "<style>\n",
       "  #altair-viz-54d70f1fba5945a6960a54051db8116f.vega-embed {\n",
       "    width: 100%;\n",
       "    display: flex;\n",
       "  }\n",
       "\n",
       "  #altair-viz-54d70f1fba5945a6960a54051db8116f.vega-embed details,\n",
       "  #altair-viz-54d70f1fba5945a6960a54051db8116f.vega-embed details summary {\n",
       "    position: relative;\n",
       "  }\n",
       "</style>\n",
       "<div id=\"altair-viz-54d70f1fba5945a6960a54051db8116f\"></div>\n",
       "<script type=\"text/javascript\">\n",
       "  var VEGA_DEBUG = (typeof VEGA_DEBUG == \"undefined\") ? {} : VEGA_DEBUG;\n",
       "  (function(spec, embedOpt){\n",
       "    let outputDiv = document.currentScript.previousElementSibling;\n",
       "    if (outputDiv.id !== \"altair-viz-54d70f1fba5945a6960a54051db8116f\") {\n",
       "      outputDiv = document.getElementById(\"altair-viz-54d70f1fba5945a6960a54051db8116f\");\n",
       "    }\n",
       "    const paths = {\n",
       "      \"vega\": \"https://cdn.jsdelivr.net/npm/vega@5?noext\",\n",
       "      \"vega-lib\": \"https://cdn.jsdelivr.net/npm/vega-lib?noext\",\n",
       "      \"vega-lite\": \"https://cdn.jsdelivr.net/npm/vega-lite@5.17.0?noext\",\n",
       "      \"vega-embed\": \"https://cdn.jsdelivr.net/npm/vega-embed@6?noext\",\n",
       "    };\n",
       "\n",
       "    function maybeLoadScript(lib, version) {\n",
       "      var key = `${lib.replace(\"-\", \"\")}_version`;\n",
       "      return (VEGA_DEBUG[key] == version) ?\n",
       "        Promise.resolve(paths[lib]) :\n",
       "        new Promise(function(resolve, reject) {\n",
       "          var s = document.createElement('script');\n",
       "          document.getElementsByTagName(\"head\")[0].appendChild(s);\n",
       "          s.async = true;\n",
       "          s.onload = () => {\n",
       "            VEGA_DEBUG[key] = version;\n",
       "            return resolve(paths[lib]);\n",
       "          };\n",
       "          s.onerror = () => reject(`Error loading script: ${paths[lib]}`);\n",
       "          s.src = paths[lib];\n",
       "        });\n",
       "    }\n",
       "\n",
       "    function showError(err) {\n",
       "      outputDiv.innerHTML = `<div class=\"error\" style=\"color:red;\">${err}</div>`;\n",
       "      throw err;\n",
       "    }\n",
       "\n",
       "    function displayChart(vegaEmbed) {\n",
       "      vegaEmbed(outputDiv, spec, embedOpt)\n",
       "        .catch(err => showError(`Javascript Error: ${err.message}<br>This usually means there's a typo in your chart specification. See the javascript console for the full traceback.`));\n",
       "    }\n",
       "\n",
       "    if(typeof define === \"function\" && define.amd) {\n",
       "      requirejs.config({paths});\n",
       "      require([\"vega-embed\"], displayChart, err => showError(`Error loading script: ${err.message}`));\n",
       "    } else {\n",
       "      maybeLoadScript(\"vega\", \"5\")\n",
       "        .then(() => maybeLoadScript(\"vega-lite\", \"5.17.0\"))\n",
       "        .then(() => maybeLoadScript(\"vega-embed\", \"6\"))\n",
       "        .catch(showError)\n",
       "        .then(() => displayChart(vegaEmbed));\n",
       "    }\n",
       "  })({\"config\": {\"view\": {\"continuousWidth\": 300, \"continuousHeight\": 300}}, \"data\": {\"name\": \"data-06e8e38c798f4635f7fb8fe98ce1ca89\"}, \"facet\": {\"column\": {\"field\": \"Direction\", \"title\": \"Direction\", \"type\": \"nominal\"}}, \"spec\": {\"layer\": [{\"mark\": {\"type\": \"circle\", \"size\": 150}, \"encoding\": {\"color\": {\"field\": \"Category\", \"scale\": {\"range\": [\"#fde18d\", \"#49a2b2\", \"#3b56a4\"]}, \"title\": \"Category\", \"type\": \"nominal\"}, \"tooltip\": [{\"field\": \"Period\", \"type\": \"nominal\"}, {\"field\": \"Route\", \"type\": \"nominal\"}, {\"field\": \"Date\", \"type\": \"temporal\"}, {\"field\": \"Direction\", \"type\": \"nominal\"}, {\"field\": \"% of Actual Trip Minutes_str\", \"type\": \"nominal\"}, {\"field\": \"Category\", \"type\": \"nominal\"}], \"x\": {\"axis\": {\"format\": \"%b %Y\", \"labelAngle\": -45}, \"field\": \"Date\", \"timeUnit\": \"yearmonthdate\", \"title\": \"Date\", \"type\": \"ordinal\"}, \"y\": {\"field\": \"% of Actual Trip Minutes\", \"scale\": {\"domain\": [0, 100]}, \"title\": \"% Of Actual Trip Minutes\", \"type\": \"quantitative\"}}, \"name\": \"view_3\"}, {\"mark\": {\"type\": \"rule\", \"color\": \"red\", \"strokeDash\": [10, 7]}, \"encoding\": {\"y\": {\"field\": \"ruler_100_pct\", \"type\": \"quantitative\"}}}], \"height\": 250, \"width\": 200}, \"params\": [{\"name\": \"param_1\", \"select\": {\"type\": \"point\", \"fields\": [\"Route\"]}, \"bind\": {\"input\": \"select\", \"options\": [\"Residential Route\", \"Express Route\"], \"name\": \"Routes: \"}, \"value\": \"Residential Route\", \"views\": [\"view_3\"]}], \"title\": {\"text\": [\"Percentage of Scheduled Trip Journey with 1+/2+ Vehicle Positions\"], \"subtitle\": [\"The goal is for ~100% of a trip's duration to have 2 or more Vehicle Positions per minute.\"]}, \"transform\": [{\"filter\": {\"param\": \"param_1\"}}], \"$schema\": \"https://vega.github.io/schema/vega-lite/v5.17.0.json\", \"datasets\": {\"data-06e8e38c798f4635f7fb8fe98ce1ca89\": [{\"Date\": \"2023-10-11T00:00:00\", \"Organization\": \"City of Lawndale\", \"Route\": \"Residential Route\", \"Direction\": \"Southbound\", \"Period\": \"All Day\", \"ruler_100_pct\": 100, \"Category\": \"% Scheduled Trip w/ 1+ VP/Minute\", \"% of Actual Trip Minutes\": 100, \"% of Actual Trip Minutes_str\": \"100\"}, {\"Date\": \"2023-11-15T00:00:00\", \"Organization\": \"City of Lawndale\", \"Route\": \"Residential Route\", \"Direction\": \"Southbound\", \"Period\": \"All Day\", \"ruler_100_pct\": 100, \"Category\": \"% Scheduled Trip w/ 1+ VP/Minute\", \"% of Actual Trip Minutes\": 100, \"% of Actual Trip Minutes_str\": \"100\"}, {\"Date\": \"2023-12-13T00:00:00\", \"Organization\": \"City of Lawndale\", \"Route\": \"Residential Route\", \"Direction\": \"Southbound\", \"Period\": \"All Day\", \"ruler_100_pct\": 100, \"Category\": \"% Scheduled Trip w/ 1+ VP/Minute\", \"% of Actual Trip Minutes\": 100, \"% of Actual Trip Minutes_str\": \"100\"}, {\"Date\": \"2024-01-17T00:00:00\", \"Organization\": \"City of Lawndale\", \"Route\": \"Residential Route\", \"Direction\": \"Southbound\", \"Period\": \"All Day\", \"ruler_100_pct\": 100, \"Category\": \"% Scheduled Trip w/ 1+ VP/Minute\", \"% of Actual Trip Minutes\": 100, \"% of Actual Trip Minutes_str\": \"100\"}, {\"Date\": \"2024-02-14T00:00:00\", \"Organization\": \"City of Lawndale\", \"Route\": \"Residential Route\", \"Direction\": \"Southbound\", \"Period\": \"All Day\", \"ruler_100_pct\": 100, \"Category\": \"% Scheduled Trip w/ 1+ VP/Minute\", \"% of Actual Trip Minutes\": 100, \"% of Actual Trip Minutes_str\": \"100\"}, {\"Date\": \"2024-03-13T00:00:00\", \"Organization\": \"City of Lawndale\", \"Route\": \"Residential Route\", \"Direction\": \"Southbound\", \"Period\": \"All Day\", \"ruler_100_pct\": 100, \"Category\": \"% Scheduled Trip w/ 1+ VP/Minute\", \"% of Actual Trip Minutes\": 100, \"% of Actual Trip Minutes_str\": \"100\"}, {\"Date\": \"2023-10-11T00:00:00\", \"Organization\": \"City of Lawndale\", \"Route\": \"Express Route\", \"Direction\": \"Southbound\", \"Period\": \"All Day\", \"ruler_100_pct\": 100, \"Category\": \"% Scheduled Trip w/ 1+ VP/Minute\", \"% of Actual Trip Minutes\": 100, \"% of Actual Trip Minutes_str\": \"100\"}, {\"Date\": \"2023-11-15T00:00:00\", \"Organization\": \"City of Lawndale\", \"Route\": \"Express Route\", \"Direction\": \"Southbound\", \"Period\": \"All Day\", \"ruler_100_pct\": 100, \"Category\": \"% Scheduled Trip w/ 1+ VP/Minute\", \"% of Actual Trip Minutes\": 77, \"% of Actual Trip Minutes_str\": \"77\"}, {\"Date\": \"2023-12-13T00:00:00\", \"Organization\": \"City of Lawndale\", \"Route\": \"Express Route\", \"Direction\": \"Southbound\", \"Period\": \"All Day\", \"ruler_100_pct\": 100, \"Category\": \"% Scheduled Trip w/ 1+ VP/Minute\", \"% of Actual Trip Minutes\": 100, \"% of Actual Trip Minutes_str\": \"100\"}, {\"Date\": \"2024-01-17T00:00:00\", \"Organization\": \"City of Lawndale\", \"Route\": \"Express Route\", \"Direction\": \"Southbound\", \"Period\": \"All Day\", \"ruler_100_pct\": 100, \"Category\": \"% Scheduled Trip w/ 1+ VP/Minute\", \"% of Actual Trip Minutes\": 100, \"% of Actual Trip Minutes_str\": \"100\"}, {\"Date\": \"2024-02-14T00:00:00\", \"Organization\": \"City of Lawndale\", \"Route\": \"Express Route\", \"Direction\": \"Southbound\", \"Period\": \"All Day\", \"ruler_100_pct\": 100, \"Category\": \"% Scheduled Trip w/ 1+ VP/Minute\", \"% of Actual Trip Minutes\": 100, \"% of Actual Trip Minutes_str\": \"100\"}, {\"Date\": \"2024-03-13T00:00:00\", \"Organization\": \"City of Lawndale\", \"Route\": \"Express Route\", \"Direction\": \"Southbound\", \"Period\": \"All Day\", \"ruler_100_pct\": 100, \"Category\": \"% Scheduled Trip w/ 1+ VP/Minute\", \"% of Actual Trip Minutes\": 100, \"% of Actual Trip Minutes_str\": \"100\"}, {\"Date\": \"2023-09-13T00:00:00\", \"Organization\": \"City of Lawndale\", \"Route\": \"Residential Route\", \"Direction\": \"Southbound\", \"Period\": \"All Day\", \"ruler_100_pct\": 100, \"Category\": \"% Scheduled Trip w/ 1+ VP/Minute\", \"% of Actual Trip Minutes\": 99, \"% of Actual Trip Minutes_str\": \"99\"}, {\"Date\": \"2023-09-13T00:00:00\", \"Organization\": \"City of Lawndale\", \"Route\": \"Express Route\", \"Direction\": \"Southbound\", \"Period\": \"All Day\", \"ruler_100_pct\": 100, \"Category\": \"% Scheduled Trip w/ 1+ VP/Minute\", \"% of Actual Trip Minutes\": 100, \"% of Actual Trip Minutes_str\": \"100\"}, {\"Date\": \"2023-10-11T00:00:00\", \"Organization\": \"City of Lawndale\", \"Route\": \"Residential Route\", \"Direction\": \"Southbound\", \"Period\": \"All Day\", \"ruler_100_pct\": 100, \"Category\": \"% Scheduled Trip w/ 2+ VP/Minute\", \"% of Actual Trip Minutes\": 100, \"% of Actual Trip Minutes_str\": \"100\"}, {\"Date\": \"2023-11-15T00:00:00\", \"Organization\": \"City of Lawndale\", \"Route\": \"Residential Route\", \"Direction\": \"Southbound\", \"Period\": \"All Day\", \"ruler_100_pct\": 100, \"Category\": \"% Scheduled Trip w/ 2+ VP/Minute\", \"% of Actual Trip Minutes\": 100, \"% of Actual Trip Minutes_str\": \"100\"}, {\"Date\": \"2023-12-13T00:00:00\", \"Organization\": \"City of Lawndale\", \"Route\": \"Residential Route\", \"Direction\": \"Southbound\", \"Period\": \"All Day\", \"ruler_100_pct\": 100, \"Category\": \"% Scheduled Trip w/ 2+ VP/Minute\", \"% of Actual Trip Minutes\": 100, \"% of Actual Trip Minutes_str\": \"100\"}, {\"Date\": \"2024-01-17T00:00:00\", \"Organization\": \"City of Lawndale\", \"Route\": \"Residential Route\", \"Direction\": \"Southbound\", \"Period\": \"All Day\", \"ruler_100_pct\": 100, \"Category\": \"% Scheduled Trip w/ 2+ VP/Minute\", \"% of Actual Trip Minutes\": 100, \"% of Actual Trip Minutes_str\": \"100\"}, {\"Date\": \"2024-02-14T00:00:00\", \"Organization\": \"City of Lawndale\", \"Route\": \"Residential Route\", \"Direction\": \"Southbound\", \"Period\": \"All Day\", \"ruler_100_pct\": 100, \"Category\": \"% Scheduled Trip w/ 2+ VP/Minute\", \"% of Actual Trip Minutes\": 100, \"% of Actual Trip Minutes_str\": \"100\"}, {\"Date\": \"2024-03-13T00:00:00\", \"Organization\": \"City of Lawndale\", \"Route\": \"Residential Route\", \"Direction\": \"Southbound\", \"Period\": \"All Day\", \"ruler_100_pct\": 100, \"Category\": \"% Scheduled Trip w/ 2+ VP/Minute\", \"% of Actual Trip Minutes\": 100, \"% of Actual Trip Minutes_str\": \"100\"}, {\"Date\": \"2023-10-11T00:00:00\", \"Organization\": \"City of Lawndale\", \"Route\": \"Express Route\", \"Direction\": \"Southbound\", \"Period\": \"All Day\", \"ruler_100_pct\": 100, \"Category\": \"% Scheduled Trip w/ 2+ VP/Minute\", \"% of Actual Trip Minutes\": 100, \"% of Actual Trip Minutes_str\": \"100\"}, {\"Date\": \"2023-11-15T00:00:00\", \"Organization\": \"City of Lawndale\", \"Route\": \"Express Route\", \"Direction\": \"Southbound\", \"Period\": \"All Day\", \"ruler_100_pct\": 100, \"Category\": \"% Scheduled Trip w/ 2+ VP/Minute\", \"% of Actual Trip Minutes\": 69, \"% of Actual Trip Minutes_str\": \"69\"}, {\"Date\": \"2023-12-13T00:00:00\", \"Organization\": \"City of Lawndale\", \"Route\": \"Express Route\", \"Direction\": \"Southbound\", \"Period\": \"All Day\", \"ruler_100_pct\": 100, \"Category\": \"% Scheduled Trip w/ 2+ VP/Minute\", \"% of Actual Trip Minutes\": 100, \"% of Actual Trip Minutes_str\": \"100\"}, {\"Date\": \"2024-01-17T00:00:00\", \"Organization\": \"City of Lawndale\", \"Route\": \"Express Route\", \"Direction\": \"Southbound\", \"Period\": \"All Day\", \"ruler_100_pct\": 100, \"Category\": \"% Scheduled Trip w/ 2+ VP/Minute\", \"% of Actual Trip Minutes\": 100, \"% of Actual Trip Minutes_str\": \"100\"}, {\"Date\": \"2024-02-14T00:00:00\", \"Organization\": \"City of Lawndale\", \"Route\": \"Express Route\", \"Direction\": \"Southbound\", \"Period\": \"All Day\", \"ruler_100_pct\": 100, \"Category\": \"% Scheduled Trip w/ 2+ VP/Minute\", \"% of Actual Trip Minutes\": 100, \"% of Actual Trip Minutes_str\": \"100\"}, {\"Date\": \"2024-03-13T00:00:00\", \"Organization\": \"City of Lawndale\", \"Route\": \"Express Route\", \"Direction\": \"Southbound\", \"Period\": \"All Day\", \"ruler_100_pct\": 100, \"Category\": \"% Scheduled Trip w/ 2+ VP/Minute\", \"% of Actual Trip Minutes\": 100, \"% of Actual Trip Minutes_str\": \"100\"}, {\"Date\": \"2023-09-13T00:00:00\", \"Organization\": \"City of Lawndale\", \"Route\": \"Residential Route\", \"Direction\": \"Southbound\", \"Period\": \"All Day\", \"ruler_100_pct\": 100, \"Category\": \"% Scheduled Trip w/ 2+ VP/Minute\", \"% of Actual Trip Minutes\": 98, \"% of Actual Trip Minutes_str\": \"98\"}, {\"Date\": \"2023-09-13T00:00:00\", \"Organization\": \"City of Lawndale\", \"Route\": \"Express Route\", \"Direction\": \"Southbound\", \"Period\": \"All Day\", \"ruler_100_pct\": 100, \"Category\": \"% Scheduled Trip w/ 2+ VP/Minute\", \"% of Actual Trip Minutes\": 100, \"% of Actual Trip Minutes_str\": \"100\"}]}}, {\"mode\": \"vega-lite\"});\n",
       "</script>"
      ],
      "text/plain": [
       "alt.FacetChart(...)"
      ]
     },
     "execution_count": 26,
     "metadata": {},
     "output_type": "execute_result"
    }
   ],
   "source": [
    "(\n",
    "        section2_utils.base_facet_circle(\n",
    "            sched_journey_vp,\n",
    "            \"% of Actual Trip Minutes\",\n",
    "            \"Category\",\n",
    "            \"ruler_100_pct\",\n",
    "            readable_dict[\"sched_vp_per_min_graph\"][\"title\"],\n",
    "            readable_dict[\"sched_vp_per_min_graph\"][\"subtitle\"],\n",
    "        )\n",
    "        .add_params(xcol_param)\n",
    "        .transform_filter(xcol_param)\n",
    "    )"
   ]
  },
  {
   "cell_type": "markdown",
   "id": "8b8fe38f-39a1-4e22-b6b8-938c298c714e",
   "metadata": {},
   "source": [
    "#### Spatial Accuracy"
   ]
  },
  {
   "cell_type": "code",
   "execution_count": 27,
   "id": "57318cf3-1486-4c58-8407-f67d7c49e82f",
   "metadata": {},
   "outputs": [
    {
     "data": {
      "text/html": [
       "\n",
       "<style>\n",
       "  #altair-viz-b231b9fbd03c4872a61cdd9c0e7fed12.vega-embed {\n",
       "    width: 100%;\n",
       "    display: flex;\n",
       "  }\n",
       "\n",
       "  #altair-viz-b231b9fbd03c4872a61cdd9c0e7fed12.vega-embed details,\n",
       "  #altair-viz-b231b9fbd03c4872a61cdd9c0e7fed12.vega-embed details summary {\n",
       "    position: relative;\n",
       "  }\n",
       "</style>\n",
       "<div id=\"altair-viz-b231b9fbd03c4872a61cdd9c0e7fed12\"></div>\n",
       "<script type=\"text/javascript\">\n",
       "  var VEGA_DEBUG = (typeof VEGA_DEBUG == \"undefined\") ? {} : VEGA_DEBUG;\n",
       "  (function(spec, embedOpt){\n",
       "    let outputDiv = document.currentScript.previousElementSibling;\n",
       "    if (outputDiv.id !== \"altair-viz-b231b9fbd03c4872a61cdd9c0e7fed12\") {\n",
       "      outputDiv = document.getElementById(\"altair-viz-b231b9fbd03c4872a61cdd9c0e7fed12\");\n",
       "    }\n",
       "    const paths = {\n",
       "      \"vega\": \"https://cdn.jsdelivr.net/npm/vega@5?noext\",\n",
       "      \"vega-lib\": \"https://cdn.jsdelivr.net/npm/vega-lib?noext\",\n",
       "      \"vega-lite\": \"https://cdn.jsdelivr.net/npm/vega-lite@5.17.0?noext\",\n",
       "      \"vega-embed\": \"https://cdn.jsdelivr.net/npm/vega-embed@6?noext\",\n",
       "    };\n",
       "\n",
       "    function maybeLoadScript(lib, version) {\n",
       "      var key = `${lib.replace(\"-\", \"\")}_version`;\n",
       "      return (VEGA_DEBUG[key] == version) ?\n",
       "        Promise.resolve(paths[lib]) :\n",
       "        new Promise(function(resolve, reject) {\n",
       "          var s = document.createElement('script');\n",
       "          document.getElementsByTagName(\"head\")[0].appendChild(s);\n",
       "          s.async = true;\n",
       "          s.onload = () => {\n",
       "            VEGA_DEBUG[key] = version;\n",
       "            return resolve(paths[lib]);\n",
       "          };\n",
       "          s.onerror = () => reject(`Error loading script: ${paths[lib]}`);\n",
       "          s.src = paths[lib];\n",
       "        });\n",
       "    }\n",
       "\n",
       "    function showError(err) {\n",
       "      outputDiv.innerHTML = `<div class=\"error\" style=\"color:red;\">${err}</div>`;\n",
       "      throw err;\n",
       "    }\n",
       "\n",
       "    function displayChart(vegaEmbed) {\n",
       "      vegaEmbed(outputDiv, spec, embedOpt)\n",
       "        .catch(err => showError(`Javascript Error: ${err.message}<br>This usually means there's a typo in your chart specification. See the javascript console for the full traceback.`));\n",
       "    }\n",
       "\n",
       "    if(typeof define === \"function\" && define.amd) {\n",
       "      requirejs.config({paths});\n",
       "      require([\"vega-embed\"], displayChart, err => showError(`Error loading script: ${err.message}`));\n",
       "    } else {\n",
       "      maybeLoadScript(\"vega\", \"5\")\n",
       "        .then(() => maybeLoadScript(\"vega-lite\", \"5.17.0\"))\n",
       "        .then(() => maybeLoadScript(\"vega-embed\", \"6\"))\n",
       "        .catch(showError)\n",
       "        .then(() => displayChart(vegaEmbed));\n",
       "    }\n",
       "  })({\"config\": {\"view\": {\"continuousWidth\": 300, \"continuousHeight\": 300}}, \"data\": {\"name\": \"data-6759fd88b462405e6327af52a3dc3830\"}, \"facet\": {\"column\": {\"field\": \"Direction\", \"type\": \"nominal\"}}, \"spec\": {\"layer\": [{\"mark\": {\"type\": \"bar\", \"clip\": true, \"size\": 7}, \"encoding\": {\"color\": {\"field\": \"% VP within Scheduled Shape\", \"scale\": {\"domain\": [0, 20, 40, 60, 80, 100], \"range\": [\"#ec5d3b\", \"#ec5d3b\", \"#fcaa5f\", \"#fde18d\", \"#d2d776\", \"#7cc665\"]}, \"title\": \"% VP Within Scheduled Shape\", \"type\": \"quantitative\"}, \"tooltip\": [{\"field\": \"Period\", \"type\": \"nominal\"}, {\"field\": \"Route\", \"type\": \"nominal\"}, {\"field\": \"Organization\", \"type\": \"nominal\"}, {\"field\": \"Date\", \"type\": \"temporal\"}, {\"field\": \"Direction\", \"type\": \"nominal\"}, {\"field\": \"% VP within Scheduled Shape\", \"type\": \"quantitative\"}], \"x\": {\"axis\": {\"format\": \"%b %Y\", \"labelAngle\": -45}, \"field\": \"Date\", \"timeUnit\": \"yearmonthdate\", \"title\": [\"Date\"], \"type\": \"ordinal\"}, \"y\": {\"field\": \"% VP within Scheduled Shape\", \"scale\": {\"domain\": [0, 100]}, \"title\": \"% VP Within Scheduled Shape\", \"type\": \"quantitative\"}}, \"name\": \"view_4\"}, {\"mark\": {\"type\": \"rule\", \"color\": \"red\", \"strokeDash\": [10, 7]}, \"encoding\": {\"y\": {\"aggregate\": \"mean\", \"field\": \"ruler_100_pct\", \"type\": \"quantitative\"}}}], \"height\": 250, \"width\": 200}, \"params\": [{\"name\": \"param_1\", \"select\": {\"type\": \"point\", \"fields\": [\"Route\"]}, \"bind\": {\"input\": \"select\", \"options\": [\"Residential Route\", \"Express Route\"], \"name\": \"Routes: \"}, \"value\": \"Residential Route\", \"views\": [\"view_4\"]}], \"title\": {\"text\": \"Spatial Accuracy\", \"subtitle\": [\"The percentage of vehicle positions that fall within 35 meters of a route's scheduled shape (path) reflects the accuracy of the collected spatial data.\"]}, \"transform\": [{\"filter\": {\"param\": \"param_1\"}}], \"$schema\": \"https://vega.github.io/schema/vega-lite/v5.17.0.json\", \"datasets\": {\"data-6759fd88b462405e6327af52a3dc3830\": [{\"schedule_gtfs_dataset_key\": \"09a703757d1ed14ca9580b1385e39315\", \"dir_0_1\": 0.0, \"Period\": \"All Day\", \"Average Scheduled Service (trip minutes)\": 49, \"Average Stop Distance (miles)\": 0.24, \"# scheduled trips\": 14, \"Trips per Hour\": 0.58, \"is_express\": 0.0, \"is_rapid\": 0.0, \"is_rail\": 0.0, \"is_coverage\": 1.0, \"is_downtown_local\": 1.0, \"is_local\": 0.0, \"Date\": \"2023-10-11T00:00:00\", \"Route typology\": \"downtown_local\", \"# Minutes with 1+ VP per Minute\": 737, \"# Minutes with 2+ VP per Minute\": 729, \"Aggregate Actual Service Minutes\": 774.4, \"Aggregate Scheduled Service Minutes (all trips)\": 637.0, \"# VP\": 2180, \"# VP within Scheduled Shape\": 2150, \"# Early Arrival Trips\": 2, \"# On-Time Trips\": 7, \"# Late Trips\": 4, \"# Trips with VP\": 13, \"Average VP per Minute\": 2, \"% VP within Scheduled Shape\": 99, \"pct_rt_journey_atleast1_vp\": 95.0, \"pct_rt_journey_atleast2_vp\": 94.0, \"% Scheduled Trip w/ 1+ VP/Minute\": 100.0, \"% Scheduled Trip w/ 2+ VP/Minute\": 100.0, \"Realtime versus Scheduled Service Ratio\": 1.22, \"Average Actual Service (Trip Minutes)\": 59.57, \"GTFS Availability\": \"schedule_and_vp\", \"Speed (MPH)\": 9.46, \"Transit Operator\": \"Lawndale Beat GMV Schedule\", \"route_long_name\": \"Residential Route\", \"route_short_name\": \"Res\", \"Route\": \"Residential Route\", \"Route ID\": \"6116\", \"schedule_source_record_id\": \"recOFWnzS8spJsM1h\", \"Base64 Encoded Feed URL\": \"aHR0cHM6Ly9yaWRlbGF3bmRhbGViZWF0LmNvbS9ndGZz\", \"Organization ID\": \"recj8LXdeSurpSRNU\", \"Organization\": \"City of Lawndale\", \"District\": \"07 - Los Angeles\", \"ruler_100_pct\": 100, \"ruler_for_vp_per_min\": 2, \"frequency_in_minutes\": 103.44827586206897, \"direction_id\": 0.0, \"Direction\": \"Southbound\", \"recent_route_id2\": \"6116\", \"Average Scheduled Service (trip minutes)_str\": \"49\", \"Average VP per Minute_str\": \"2\", \"% VP within Scheduled Shape_str\": \"99\"}, {\"schedule_gtfs_dataset_key\": \"09a703757d1ed14ca9580b1385e39315\", \"dir_0_1\": 0.0, \"Period\": \"All Day\", \"Average Scheduled Service (trip minutes)\": 49, \"Average Stop Distance (miles)\": 0.24, \"# scheduled trips\": 14, \"Trips per Hour\": 0.58, \"is_express\": 0.0, \"is_rapid\": 0.0, \"is_rail\": 0.0, \"is_coverage\": 1.0, \"is_downtown_local\": 1.0, \"is_local\": 0.0, \"Date\": \"2023-11-15T00:00:00\", \"Route typology\": \"downtown_local\", \"# Minutes with 1+ VP per Minute\": 699, \"# Minutes with 2+ VP per Minute\": 690, \"Aggregate Actual Service Minutes\": 684.72, \"Aggregate Scheduled Service Minutes (all trips)\": 686.0, \"# VP\": 2066, \"# VP within Scheduled Shape\": 2046, \"# Early Arrival Trips\": 3, \"# On-Time Trips\": 8, \"# Late Trips\": 3, \"# Trips with VP\": 14, \"Average VP per Minute\": 3, \"% VP within Scheduled Shape\": 99, \"pct_rt_journey_atleast1_vp\": 100.0, \"pct_rt_journey_atleast2_vp\": 100.0, \"% Scheduled Trip w/ 1+ VP/Minute\": 100.0, \"% Scheduled Trip w/ 2+ VP/Minute\": 100.0, \"Realtime versus Scheduled Service Ratio\": 1.0, \"Average Actual Service (Trip Minutes)\": 48.91, \"GTFS Availability\": \"schedule_and_vp\", \"Speed (MPH)\": 11.77, \"Transit Operator\": \"Lawndale Beat GMV Schedule\", \"route_long_name\": \"Residential Route\", \"route_short_name\": \"Res\", \"Route\": \"Residential Route\", \"Route ID\": \"6116\", \"schedule_source_record_id\": \"recOFWnzS8spJsM1h\", \"Base64 Encoded Feed URL\": \"aHR0cHM6Ly9yaWRlbGF3bmRhbGViZWF0LmNvbS9ndGZz\", \"Organization ID\": \"recj8LXdeSurpSRNU\", \"Organization\": \"City of Lawndale\", \"District\": \"07 - Los Angeles\", \"ruler_100_pct\": 100, \"ruler_for_vp_per_min\": 2, \"frequency_in_minutes\": 103.44827586206897, \"direction_id\": 0.0, \"Direction\": \"Southbound\", \"recent_route_id2\": \"6116\", \"Average Scheduled Service (trip minutes)_str\": \"49\", \"Average VP per Minute_str\": \"3\", \"% VP within Scheduled Shape_str\": \"99\"}, {\"schedule_gtfs_dataset_key\": \"09a703757d1ed14ca9580b1385e39315\", \"dir_0_1\": 0.0, \"Period\": \"All Day\", \"Average Scheduled Service (trip minutes)\": 49, \"Average Stop Distance (miles)\": 0.24, \"# scheduled trips\": 14, \"Trips per Hour\": 0.58, \"is_express\": 0.0, \"is_rapid\": 0.0, \"is_rail\": 0.0, \"is_coverage\": 1.0, \"is_downtown_local\": 1.0, \"is_local\": 0.0, \"Date\": \"2023-12-13T00:00:00\", \"Route typology\": \"downtown_local\", \"# Minutes with 1+ VP per Minute\": 676, \"# Minutes with 2+ VP per Minute\": 663, \"Aggregate Actual Service Minutes\": 724.59, \"Aggregate Scheduled Service Minutes (all trips)\": 637.0, \"# VP\": 1984, \"# VP within Scheduled Shape\": 1965, \"# Early Arrival Trips\": 1, \"# On-Time Trips\": 9, \"# Late Trips\": 3, \"# Trips with VP\": 13, \"Average VP per Minute\": 2, \"% VP within Scheduled Shape\": 99, \"pct_rt_journey_atleast1_vp\": 93.0, \"pct_rt_journey_atleast2_vp\": 92.0, \"% Scheduled Trip w/ 1+ VP/Minute\": 100.0, \"% Scheduled Trip w/ 2+ VP/Minute\": 100.0, \"Realtime versus Scheduled Service Ratio\": 1.14, \"Average Actual Service (Trip Minutes)\": 55.74, \"GTFS Availability\": \"schedule_and_vp\", \"Speed (MPH)\": 10.86, \"Transit Operator\": \"Lawndale Beat GMV Schedule\", \"route_long_name\": \"Residential Route\", \"route_short_name\": \"Res\", \"Route\": \"Residential Route\", \"Route ID\": \"6116\", \"schedule_source_record_id\": \"recOFWnzS8spJsM1h\", \"Base64 Encoded Feed URL\": \"aHR0cHM6Ly9yaWRlbGF3bmRhbGViZWF0LmNvbS9ndGZz\", \"Organization ID\": \"recj8LXdeSurpSRNU\", \"Organization\": \"City of Lawndale\", \"District\": \"07 - Los Angeles\", \"ruler_100_pct\": 100, \"ruler_for_vp_per_min\": 2, \"frequency_in_minutes\": 103.44827586206897, \"direction_id\": 0.0, \"Direction\": \"Southbound\", \"recent_route_id2\": \"6116\", \"Average Scheduled Service (trip minutes)_str\": \"49\", \"Average VP per Minute_str\": \"2\", \"% VP within Scheduled Shape_str\": \"99\"}, {\"schedule_gtfs_dataset_key\": \"09a703757d1ed14ca9580b1385e39315\", \"dir_0_1\": 0.0, \"Period\": \"All Day\", \"Average Scheduled Service (trip minutes)\": 49, \"Average Stop Distance (miles)\": 0.24, \"# scheduled trips\": 14, \"Trips per Hour\": 0.58, \"is_express\": 0.0, \"is_rapid\": 0.0, \"is_rail\": 0.0, \"is_coverage\": 1.0, \"is_downtown_local\": 1.0, \"is_local\": 0.0, \"Date\": \"2024-01-17T00:00:00\", \"Route typology\": \"downtown_local\", \"# Minutes with 1+ VP per Minute\": 1037, \"# Minutes with 2+ VP per Minute\": 1021, \"Aggregate Actual Service Minutes\": 2352.34, \"Aggregate Scheduled Service Minutes (all trips)\": 686.0, \"# VP\": 3068, \"# VP within Scheduled Shape\": 2561, \"# Early Arrival Trips\": 0, \"# On-Time Trips\": 8, \"# Late Trips\": 6, \"# Trips with VP\": 14, \"Average VP per Minute\": 1, \"% VP within Scheduled Shape\": 84, \"pct_rt_journey_atleast1_vp\": 44.0, \"pct_rt_journey_atleast2_vp\": 43.0, \"% Scheduled Trip w/ 1+ VP/Minute\": 100.0, \"% Scheduled Trip w/ 2+ VP/Minute\": 100.0, \"Realtime versus Scheduled Service Ratio\": 3.43, \"Average Actual Service (Trip Minutes)\": 168.02, \"GTFS Availability\": \"schedule_and_vp\", \"Speed (MPH)\": 5.75, \"Transit Operator\": \"Lawndale Beat GMV Schedule\", \"route_long_name\": \"Residential Route\", \"route_short_name\": \"Res\", \"Route\": \"Residential Route\", \"Route ID\": \"6116\", \"schedule_source_record_id\": \"recOFWnzS8spJsM1h\", \"Base64 Encoded Feed URL\": \"aHR0cHM6Ly9yaWRlbGF3bmRhbGViZWF0LmNvbS9ndGZz\", \"Organization ID\": \"recj8LXdeSurpSRNU\", \"Organization\": \"City of Lawndale\", \"District\": \"07 - Los Angeles\", \"ruler_100_pct\": 100, \"ruler_for_vp_per_min\": 2, \"frequency_in_minutes\": 103.44827586206897, \"direction_id\": 0.0, \"Direction\": \"Southbound\", \"recent_route_id2\": \"6116\", \"Average Scheduled Service (trip minutes)_str\": \"49\", \"Average VP per Minute_str\": \"1\", \"% VP within Scheduled Shape_str\": \"84\"}, {\"schedule_gtfs_dataset_key\": \"09a703757d1ed14ca9580b1385e39315\", \"dir_0_1\": 0.0, \"Period\": \"All Day\", \"Average Scheduled Service (trip minutes)\": 49, \"Average Stop Distance (miles)\": 0.24, \"# scheduled trips\": 14, \"Trips per Hour\": 0.58, \"is_express\": 0.0, \"is_rapid\": 0.0, \"is_rail\": 0.0, \"is_coverage\": 1.0, \"is_downtown_local\": 1.0, \"is_local\": 0.0, \"Date\": \"2024-02-14T00:00:00\", \"Route typology\": \"downtown_local\", \"# Minutes with 1+ VP per Minute\": 754, \"# Minutes with 2+ VP per Minute\": 739, \"Aggregate Actual Service Minutes\": 738.69, \"Aggregate Scheduled Service Minutes (all trips)\": 686.0, \"# VP\": 2222, \"# VP within Scheduled Shape\": 2205, \"# Early Arrival Trips\": 0, \"# On-Time Trips\": 10, \"# Late Trips\": 4, \"# Trips with VP\": 14, \"Average VP per Minute\": 3, \"% VP within Scheduled Shape\": 99, \"pct_rt_journey_atleast1_vp\": 100.0, \"pct_rt_journey_atleast2_vp\": 100.0, \"% Scheduled Trip w/ 1+ VP/Minute\": 100.0, \"% Scheduled Trip w/ 2+ VP/Minute\": 100.0, \"Realtime versus Scheduled Service Ratio\": 1.08, \"Average Actual Service (Trip Minutes)\": 52.76, \"GTFS Availability\": \"schedule_and_vp\", \"Speed (MPH)\": 11.71, \"Transit Operator\": \"Lawndale Beat GMV Schedule\", \"route_long_name\": \"Residential Route\", \"route_short_name\": \"Res\", \"Route\": \"Residential Route\", \"Route ID\": \"6116\", \"schedule_source_record_id\": \"recOFWnzS8spJsM1h\", \"Base64 Encoded Feed URL\": \"aHR0cHM6Ly9yaWRlbGF3bmRhbGViZWF0LmNvbS9ndGZz\", \"Organization ID\": \"recj8LXdeSurpSRNU\", \"Organization\": \"City of Lawndale\", \"District\": \"07 - Los Angeles\", \"ruler_100_pct\": 100, \"ruler_for_vp_per_min\": 2, \"frequency_in_minutes\": 103.44827586206897, \"direction_id\": 0.0, \"Direction\": \"Southbound\", \"recent_route_id2\": \"6116\", \"Average Scheduled Service (trip minutes)_str\": \"49\", \"Average VP per Minute_str\": \"3\", \"% VP within Scheduled Shape_str\": \"99\"}, {\"schedule_gtfs_dataset_key\": \"09a703757d1ed14ca9580b1385e39315\", \"dir_0_1\": 0.0, \"Period\": \"All Day\", \"Average Scheduled Service (trip minutes)\": 49, \"Average Stop Distance (miles)\": 0.24, \"# scheduled trips\": 14, \"Trips per Hour\": 0.58, \"is_express\": 0.0, \"is_rapid\": 0.0, \"is_rail\": 0.0, \"is_coverage\": 1.0, \"is_downtown_local\": 1.0, \"is_local\": 0.0, \"Date\": \"2024-03-13T00:00:00\", \"Route typology\": \"downtown_local\", \"# Minutes with 1+ VP per Minute\": 711, \"# Minutes with 2+ VP per Minute\": 695, \"Aggregate Actual Service Minutes\": 734.61, \"Aggregate Scheduled Service Minutes (all trips)\": 686.0, \"# VP\": 2066, \"# VP within Scheduled Shape\": 2035, \"# Early Arrival Trips\": 3, \"# On-Time Trips\": 7, \"# Late Trips\": 4, \"# Trips with VP\": 14, \"Average VP per Minute\": 2, \"% VP within Scheduled Shape\": 98, \"pct_rt_journey_atleast1_vp\": 97.0, \"pct_rt_journey_atleast2_vp\": 95.0, \"% Scheduled Trip w/ 1+ VP/Minute\": 100.0, \"% Scheduled Trip w/ 2+ VP/Minute\": 100.0, \"Realtime versus Scheduled Service Ratio\": 1.07, \"Average Actual Service (Trip Minutes)\": 52.47, \"GTFS Availability\": \"schedule_and_vp\", \"Speed (MPH)\": 11.74, \"Transit Operator\": \"Lawndale Beat GMV Schedule\", \"route_long_name\": \"Residential Route\", \"route_short_name\": \"Res\", \"Route\": \"Residential Route\", \"Route ID\": \"6116\", \"schedule_source_record_id\": \"recOFWnzS8spJsM1h\", \"Base64 Encoded Feed URL\": \"aHR0cHM6Ly9yaWRlbGF3bmRhbGViZWF0LmNvbS9ndGZz\", \"Organization ID\": \"recj8LXdeSurpSRNU\", \"Organization\": \"City of Lawndale\", \"District\": \"07 - Los Angeles\", \"ruler_100_pct\": 100, \"ruler_for_vp_per_min\": 2, \"frequency_in_minutes\": 103.44827586206897, \"direction_id\": 0.0, \"Direction\": \"Southbound\", \"recent_route_id2\": \"6116\", \"Average Scheduled Service (trip minutes)_str\": \"49\", \"Average VP per Minute_str\": \"2\", \"% VP within Scheduled Shape_str\": \"98\"}, {\"schedule_gtfs_dataset_key\": \"09a703757d1ed14ca9580b1385e39315\", \"dir_0_1\": 0.0, \"Period\": \"All Day\", \"Average Scheduled Service (trip minutes)\": 35, \"Average Stop Distance (miles)\": 0.27, \"# scheduled trips\": 16, \"Trips per Hour\": 0.67, \"is_express\": 1.0, \"is_rapid\": 0.0, \"is_rail\": 0.0, \"is_coverage\": 0.0, \"is_downtown_local\": 1.0, \"is_local\": 0.0, \"Date\": \"2023-10-11T00:00:00\", \"Route typology\": \"express\", \"# Minutes with 1+ VP per Minute\": 274, \"# Minutes with 2+ VP per Minute\": 272, \"Aggregate Actual Service Minutes\": 269.71, \"Aggregate Scheduled Service Minutes (all trips)\": 210.0, \"# VP\": 815, \"# VP within Scheduled Shape\": 806, \"# Early Arrival Trips\": 0, \"# On-Time Trips\": 4, \"# Late Trips\": 2, \"# Trips with VP\": 6, \"Average VP per Minute\": 3, \"% VP within Scheduled Shape\": 99, \"pct_rt_journey_atleast1_vp\": 100.0, \"pct_rt_journey_atleast2_vp\": 100.0, \"% Scheduled Trip w/ 1+ VP/Minute\": 100.0, \"% Scheduled Trip w/ 2+ VP/Minute\": 100.0, \"Realtime versus Scheduled Service Ratio\": 1.28, \"Average Actual Service (Trip Minutes)\": 44.95, \"GTFS Availability\": \"schedule_and_vp\", \"Speed (MPH)\": 11.49, \"Transit Operator\": \"Lawndale Beat GMV Schedule\", \"route_long_name\": \"Express Route\", \"route_short_name\": \"EX\", \"Route\": \"Express Route\", \"Route ID\": \"6117\", \"schedule_source_record_id\": \"recOFWnzS8spJsM1h\", \"Base64 Encoded Feed URL\": \"aHR0cHM6Ly9yaWRlbGF3bmRhbGViZWF0LmNvbS9ndGZz\", \"Organization ID\": \"recj8LXdeSurpSRNU\", \"Organization\": \"City of Lawndale\", \"District\": \"07 - Los Angeles\", \"ruler_100_pct\": 100, \"ruler_for_vp_per_min\": 2, \"frequency_in_minutes\": 89.55223880597015, \"direction_id\": 0.0, \"Direction\": \"Southbound\", \"recent_route_id2\": \"6117\", \"Average Scheduled Service (trip minutes)_str\": \"35\", \"Average VP per Minute_str\": \"3\", \"% VP within Scheduled Shape_str\": \"99\"}, {\"schedule_gtfs_dataset_key\": \"09a703757d1ed14ca9580b1385e39315\", \"dir_0_1\": 0.0, \"Period\": \"All Day\", \"Average Scheduled Service (trip minutes)\": 35, \"Average Stop Distance (miles)\": 0.27, \"# scheduled trips\": 16, \"Trips per Hour\": 0.67, \"is_express\": 1.0, \"is_rapid\": 0.0, \"is_rail\": 0.0, \"is_coverage\": 0.0, \"is_downtown_local\": 1.0, \"is_local\": 0.0, \"Date\": \"2023-11-15T00:00:00\", \"Route typology\": \"express\", \"# Minutes with 1+ VP per Minute\": 27, \"# Minutes with 2+ VP per Minute\": 24, \"Aggregate Actual Service Minutes\": 95.63, \"Aggregate Scheduled Service Minutes (all trips)\": 35.0, \"# VP\": 74, \"# VP within Scheduled Shape\": 71, \"# Early Arrival Trips\": 0, \"# On-Time Trips\": 0, \"# Late Trips\": 1, \"# Trips with VP\": 1, \"Average VP per Minute\": 0, \"% VP within Scheduled Shape\": 96, \"pct_rt_journey_atleast1_vp\": 28.000000000000004, \"pct_rt_journey_atleast2_vp\": 25.0, \"% Scheduled Trip w/ 1+ VP/Minute\": 77.0, \"% Scheduled Trip w/ 2+ VP/Minute\": 69.0, \"Realtime versus Scheduled Service Ratio\": 2.73, \"Average Actual Service (Trip Minutes)\": 95.63, \"GTFS Availability\": \"schedule_and_vp\", \"Speed (MPH)\": null, \"Transit Operator\": \"Lawndale Beat GMV Schedule\", \"route_long_name\": \"Express Route\", \"route_short_name\": \"EX\", \"Route\": \"Express Route\", \"Route ID\": \"6117\", \"schedule_source_record_id\": \"recOFWnzS8spJsM1h\", \"Base64 Encoded Feed URL\": \"aHR0cHM6Ly9yaWRlbGF3bmRhbGViZWF0LmNvbS9ndGZz\", \"Organization ID\": \"recj8LXdeSurpSRNU\", \"Organization\": \"City of Lawndale\", \"District\": \"07 - Los Angeles\", \"ruler_100_pct\": 100, \"ruler_for_vp_per_min\": 2, \"frequency_in_minutes\": 89.55223880597015, \"direction_id\": 0.0, \"Direction\": \"Southbound\", \"recent_route_id2\": \"6117\", \"Average Scheduled Service (trip minutes)_str\": \"35\", \"Average VP per Minute_str\": \"0\", \"% VP within Scheduled Shape_str\": \"96\"}, {\"schedule_gtfs_dataset_key\": \"09a703757d1ed14ca9580b1385e39315\", \"dir_0_1\": 0.0, \"Period\": \"All Day\", \"Average Scheduled Service (trip minutes)\": 35, \"Average Stop Distance (miles)\": 0.27, \"# scheduled trips\": 16, \"Trips per Hour\": 0.67, \"is_express\": 1.0, \"is_rapid\": 0.0, \"is_rail\": 0.0, \"is_coverage\": 0.0, \"is_downtown_local\": 1.0, \"is_local\": 0.0, \"Date\": \"2023-12-13T00:00:00\", \"Route typology\": \"express\", \"# Minutes with 1+ VP per Minute\": 750, \"# Minutes with 2+ VP per Minute\": 738, \"Aggregate Actual Service Minutes\": 1469.17, \"Aggregate Scheduled Service Minutes (all trips)\": 420.0, \"# VP\": 2215, \"# VP within Scheduled Shape\": 2003, \"# Early Arrival Trips\": 1, \"# On-Time Trips\": 2, \"# Late Trips\": 9, \"# Trips with VP\": 12, \"Average VP per Minute\": 1, \"% VP within Scheduled Shape\": 90, \"pct_rt_journey_atleast1_vp\": 51.0, \"pct_rt_journey_atleast2_vp\": 50.0, \"% Scheduled Trip w/ 1+ VP/Minute\": 100.0, \"% Scheduled Trip w/ 2+ VP/Minute\": 100.0, \"Realtime versus Scheduled Service Ratio\": 3.5, \"Average Actual Service (Trip Minutes)\": 122.43, \"GTFS Availability\": \"schedule_and_vp\", \"Speed (MPH)\": 9.58, \"Transit Operator\": \"Lawndale Beat GMV Schedule\", \"route_long_name\": \"Express Route\", \"route_short_name\": \"EX\", \"Route\": \"Express Route\", \"Route ID\": \"6117\", \"schedule_source_record_id\": \"recOFWnzS8spJsM1h\", \"Base64 Encoded Feed URL\": \"aHR0cHM6Ly9yaWRlbGF3bmRhbGViZWF0LmNvbS9ndGZz\", \"Organization ID\": \"recj8LXdeSurpSRNU\", \"Organization\": \"City of Lawndale\", \"District\": \"07 - Los Angeles\", \"ruler_100_pct\": 100, \"ruler_for_vp_per_min\": 2, \"frequency_in_minutes\": 89.55223880597015, \"direction_id\": 0.0, \"Direction\": \"Southbound\", \"recent_route_id2\": \"6117\", \"Average Scheduled Service (trip minutes)_str\": \"35\", \"Average VP per Minute_str\": \"1\", \"% VP within Scheduled Shape_str\": \"90\"}, {\"schedule_gtfs_dataset_key\": \"09a703757d1ed14ca9580b1385e39315\", \"dir_0_1\": 0.0, \"Period\": \"All Day\", \"Average Scheduled Service (trip minutes)\": 35, \"Average Stop Distance (miles)\": 0.27, \"# scheduled trips\": 16, \"Trips per Hour\": 0.67, \"is_express\": 1.0, \"is_rapid\": 0.0, \"is_rail\": 0.0, \"is_coverage\": 0.0, \"is_downtown_local\": 1.0, \"is_local\": 0.0, \"Date\": \"2024-01-17T00:00:00\", \"Route typology\": \"express\", \"# Minutes with 1+ VP per Minute\": 394, \"# Minutes with 2+ VP per Minute\": 385, \"Aggregate Actual Service Minutes\": 401.54, \"Aggregate Scheduled Service Minutes (all trips)\": 315.0, \"# VP\": 1151, \"# VP within Scheduled Shape\": 1151, \"# Early Arrival Trips\": 0, \"# On-Time Trips\": 5, \"# Late Trips\": 4, \"# Trips with VP\": 9, \"Average VP per Minute\": 2, \"% VP within Scheduled Shape\": 100, \"pct_rt_journey_atleast1_vp\": 98.0, \"pct_rt_journey_atleast2_vp\": 96.0, \"% Scheduled Trip w/ 1+ VP/Minute\": 100.0, \"% Scheduled Trip w/ 2+ VP/Minute\": 100.0, \"Realtime versus Scheduled Service Ratio\": 1.27, \"Average Actual Service (Trip Minutes)\": 44.62, \"GTFS Availability\": \"schedule_and_vp\", \"Speed (MPH)\": 8.96, \"Transit Operator\": \"Lawndale Beat GMV Schedule\", \"route_long_name\": \"Express Route\", \"route_short_name\": \"EX\", \"Route\": \"Express Route\", \"Route ID\": \"6117\", \"schedule_source_record_id\": \"recOFWnzS8spJsM1h\", \"Base64 Encoded Feed URL\": \"aHR0cHM6Ly9yaWRlbGF3bmRhbGViZWF0LmNvbS9ndGZz\", \"Organization ID\": \"recj8LXdeSurpSRNU\", \"Organization\": \"City of Lawndale\", \"District\": \"07 - Los Angeles\", \"ruler_100_pct\": 100, \"ruler_for_vp_per_min\": 2, \"frequency_in_minutes\": 89.55223880597015, \"direction_id\": 0.0, \"Direction\": \"Southbound\", \"recent_route_id2\": \"6117\", \"Average Scheduled Service (trip minutes)_str\": \"35\", \"Average VP per Minute_str\": \"2\", \"% VP within Scheduled Shape_str\": \"100\"}, {\"schedule_gtfs_dataset_key\": \"09a703757d1ed14ca9580b1385e39315\", \"dir_0_1\": 0.0, \"Period\": \"All Day\", \"Average Scheduled Service (trip minutes)\": 35, \"Average Stop Distance (miles)\": 0.27, \"# scheduled trips\": 16, \"Trips per Hour\": 0.67, \"is_express\": 1.0, \"is_rapid\": 0.0, \"is_rail\": 0.0, \"is_coverage\": 0.0, \"is_downtown_local\": 1.0, \"is_local\": 0.0, \"Date\": \"2024-02-14T00:00:00\", \"Route typology\": \"express\", \"# Minutes with 1+ VP per Minute\": 290, \"# Minutes with 2+ VP per Minute\": 285, \"Aggregate Actual Service Minutes\": 286.24, \"Aggregate Scheduled Service Minutes (all trips)\": 175.0, \"# VP\": 855, \"# VP within Scheduled Shape\": 855, \"# Early Arrival Trips\": 1, \"# On-Time Trips\": 0, \"# Late Trips\": 4, \"# Trips with VP\": 5, \"Average VP per Minute\": 2, \"% VP within Scheduled Shape\": 100, \"pct_rt_journey_atleast1_vp\": 100.0, \"pct_rt_journey_atleast2_vp\": 100.0, \"% Scheduled Trip w/ 1+ VP/Minute\": 100.0, \"% Scheduled Trip w/ 2+ VP/Minute\": 100.0, \"Realtime versus Scheduled Service Ratio\": 1.64, \"Average Actual Service (Trip Minutes)\": 57.25, \"GTFS Availability\": \"schedule_and_vp\", \"Speed (MPH)\": 5.83, \"Transit Operator\": \"Lawndale Beat GMV Schedule\", \"route_long_name\": \"Express Route\", \"route_short_name\": \"EX\", \"Route\": \"Express Route\", \"Route ID\": \"6117\", \"schedule_source_record_id\": \"recOFWnzS8spJsM1h\", \"Base64 Encoded Feed URL\": \"aHR0cHM6Ly9yaWRlbGF3bmRhbGViZWF0LmNvbS9ndGZz\", \"Organization ID\": \"recj8LXdeSurpSRNU\", \"Organization\": \"City of Lawndale\", \"District\": \"07 - Los Angeles\", \"ruler_100_pct\": 100, \"ruler_for_vp_per_min\": 2, \"frequency_in_minutes\": 89.55223880597015, \"direction_id\": 0.0, \"Direction\": \"Southbound\", \"recent_route_id2\": \"6117\", \"Average Scheduled Service (trip minutes)_str\": \"35\", \"Average VP per Minute_str\": \"2\", \"% VP within Scheduled Shape_str\": \"100\"}, {\"schedule_gtfs_dataset_key\": \"09a703757d1ed14ca9580b1385e39315\", \"dir_0_1\": 0.0, \"Period\": \"All Day\", \"Average Scheduled Service (trip minutes)\": 35, \"Average Stop Distance (miles)\": 0.27, \"# scheduled trips\": 16, \"Trips per Hour\": 0.67, \"is_express\": 1.0, \"is_rapid\": 0.0, \"is_rail\": 0.0, \"is_coverage\": 0.0, \"is_downtown_local\": 1.0, \"is_local\": 0.0, \"Date\": \"2024-03-13T00:00:00\", \"Route typology\": \"express\", \"# Minutes with 1+ VP per Minute\": 688, \"# Minutes with 2+ VP per Minute\": 679, \"Aggregate Actual Service Minutes\": 675.43, \"Aggregate Scheduled Service Minutes (all trips)\": 560.0, \"# VP\": 2031, \"# VP within Scheduled Shape\": 2014, \"# Early Arrival Trips\": 0, \"# On-Time Trips\": 8, \"# Late Trips\": 8, \"# Trips with VP\": 16, \"Average VP per Minute\": 3, \"% VP within Scheduled Shape\": 99, \"pct_rt_journey_atleast1_vp\": 100.0, \"pct_rt_journey_atleast2_vp\": 100.0, \"% Scheduled Trip w/ 1+ VP/Minute\": 100.0, \"% Scheduled Trip w/ 2+ VP/Minute\": 100.0, \"Realtime versus Scheduled Service Ratio\": 1.21, \"Average Actual Service (Trip Minutes)\": 42.21, \"GTFS Availability\": \"schedule_and_vp\", \"Speed (MPH)\": 12.9, \"Transit Operator\": \"Lawndale Beat GMV Schedule\", \"route_long_name\": \"Express Route\", \"route_short_name\": \"EX\", \"Route\": \"Express Route\", \"Route ID\": \"6117\", \"schedule_source_record_id\": \"recOFWnzS8spJsM1h\", \"Base64 Encoded Feed URL\": \"aHR0cHM6Ly9yaWRlbGF3bmRhbGViZWF0LmNvbS9ndGZz\", \"Organization ID\": \"recj8LXdeSurpSRNU\", \"Organization\": \"City of Lawndale\", \"District\": \"07 - Los Angeles\", \"ruler_100_pct\": 100, \"ruler_for_vp_per_min\": 2, \"frequency_in_minutes\": 89.55223880597015, \"direction_id\": 0.0, \"Direction\": \"Southbound\", \"recent_route_id2\": \"6117\", \"Average Scheduled Service (trip minutes)_str\": \"35\", \"Average VP per Minute_str\": \"3\", \"% VP within Scheduled Shape_str\": \"99\"}, {\"schedule_gtfs_dataset_key\": \"7f75702198137c1a9b53dca78f702ddb\", \"dir_0_1\": 0.0, \"Period\": \"All Day\", \"Average Scheduled Service (trip minutes)\": 49, \"Average Stop Distance (miles)\": 0.24, \"# scheduled trips\": 14, \"Trips per Hour\": 0.58, \"is_express\": 0.0, \"is_rapid\": 0.0, \"is_rail\": 0.0, \"is_coverage\": 1.0, \"is_downtown_local\": 1.0, \"is_local\": 0.0, \"Date\": \"2023-09-13T00:00:00\", \"Route typology\": \"downtown_local\", \"# Minutes with 1+ VP per Minute\": 194, \"# Minutes with 2+ VP per Minute\": 193, \"Aggregate Actual Service Minutes\": 192.03, \"Aggregate Scheduled Service Minutes (all trips)\": 196.0, \"# VP\": 578, \"# VP within Scheduled Shape\": 526, \"# Early Arrival Trips\": 2, \"# On-Time Trips\": 0, \"# Late Trips\": 2, \"# Trips with VP\": 4, \"Average VP per Minute\": 3, \"% VP within Scheduled Shape\": 91, \"pct_rt_journey_atleast1_vp\": 100.0, \"pct_rt_journey_atleast2_vp\": 100.0, \"% Scheduled Trip w/ 1+ VP/Minute\": 99.0, \"% Scheduled Trip w/ 2+ VP/Minute\": 98.0, \"Realtime versus Scheduled Service Ratio\": 0.98, \"Average Actual Service (Trip Minutes)\": 48.01, \"GTFS Availability\": \"schedule_and_vp\", \"Speed (MPH)\": 12.78, \"Transit Operator\": \"Lawndale Beat GMV Schedule\", \"route_long_name\": \"Residential Route\", \"route_short_name\": \"Res\", \"Route\": \"Residential Route\", \"Route ID\": \"6116\", \"schedule_source_record_id\": \"recOFWnzS8spJsM1h\", \"Base64 Encoded Feed URL\": \"aHR0cHM6Ly9yaWRlbGF3bmRhbGViZWF0LmNvbS9ndGZz\", \"Organization ID\": \"recj8LXdeSurpSRNU\", \"Organization\": \"City of Lawndale\", \"District\": \"07 - Los Angeles\", \"ruler_100_pct\": 100, \"ruler_for_vp_per_min\": 2, \"frequency_in_minutes\": 103.44827586206897, \"direction_id\": 0.0, \"Direction\": \"Southbound\", \"recent_route_id2\": \"6116\", \"Average Scheduled Service (trip minutes)_str\": \"49\", \"Average VP per Minute_str\": \"3\", \"% VP within Scheduled Shape_str\": \"91\"}, {\"schedule_gtfs_dataset_key\": \"7f75702198137c1a9b53dca78f702ddb\", \"dir_0_1\": 0.0, \"Period\": \"All Day\", \"Average Scheduled Service (trip minutes)\": 35, \"Average Stop Distance (miles)\": 0.27, \"# scheduled trips\": 16, \"Trips per Hour\": 0.67, \"is_express\": 1.0, \"is_rapid\": 0.0, \"is_rail\": 0.0, \"is_coverage\": 0.0, \"is_downtown_local\": 1.0, \"is_local\": 0.0, \"Date\": \"2023-09-13T00:00:00\", \"Route typology\": \"express\", \"# Minutes with 1+ VP per Minute\": 554, \"# Minutes with 2+ VP per Minute\": 537, \"Aggregate Actual Service Minutes\": 551.65, \"Aggregate Scheduled Service Minutes (all trips)\": 350.0, \"# VP\": 1614, \"# VP within Scheduled Shape\": 1144, \"# Early Arrival Trips\": 0, \"# On-Time Trips\": 3, \"# Late Trips\": 7, \"# Trips with VP\": 10, \"Average VP per Minute\": 2, \"% VP within Scheduled Shape\": 71, \"pct_rt_journey_atleast1_vp\": 100.0, \"pct_rt_journey_atleast2_vp\": 97.0, \"% Scheduled Trip w/ 1+ VP/Minute\": 100.0, \"% Scheduled Trip w/ 2+ VP/Minute\": 100.0, \"Realtime versus Scheduled Service Ratio\": 1.58, \"Average Actual Service (Trip Minutes)\": 55.16, \"GTFS Availability\": \"schedule_and_vp\", \"Speed (MPH)\": 11.25, \"Transit Operator\": \"Lawndale Beat GMV Schedule\", \"route_long_name\": \"Express Route\", \"route_short_name\": \"EX\", \"Route\": \"Express Route\", \"Route ID\": \"6117\", \"schedule_source_record_id\": \"recOFWnzS8spJsM1h\", \"Base64 Encoded Feed URL\": \"aHR0cHM6Ly9yaWRlbGF3bmRhbGViZWF0LmNvbS9ndGZz\", \"Organization ID\": \"recj8LXdeSurpSRNU\", \"Organization\": \"City of Lawndale\", \"District\": \"07 - Los Angeles\", \"ruler_100_pct\": 100, \"ruler_for_vp_per_min\": 2, \"frequency_in_minutes\": 89.55223880597015, \"direction_id\": 0.0, \"Direction\": \"Southbound\", \"recent_route_id2\": \"6117\", \"Average Scheduled Service (trip minutes)_str\": \"35\", \"Average VP per Minute_str\": \"2\", \"% VP within Scheduled Shape_str\": \"71\"}]}}, {\"mode\": \"vega-lite\"});\n",
       "</script>"
      ],
      "text/plain": [
       "alt.FacetChart(...)"
      ]
     },
     "execution_count": 27,
     "metadata": {},
     "output_type": "execute_result"
    }
   ],
   "source": [
    "(\n",
    "        section2_utils.base_facet_with_ruler_chart(\n",
    "            all_day,\n",
    "            \"% VP within Scheduled Shape\",\n",
    "            \"ruler_100_pct\",\n",
    "            readable_dict[\"spatial_accuracy_graph\"][\"title\"],\n",
    "            readable_dict[\"spatial_accuracy_graph\"][\"subtitle\"],\n",
    "            color_dict[\"spatial_accuracy_domain\"],\n",
    "            color_dict[\"spatial_accuracy_range\"]\n",
    "        )\n",
    "        .add_params(xcol_param)\n",
    "        .transform_filter(xcol_param)\n",
    "    )"
   ]
  },
  {
   "cell_type": "markdown",
   "id": "103b335c-a6b5-4901-a3c5-a2cc7a2854a3",
   "metadata": {},
   "source": [
    "#### Text"
   ]
  },
  {
   "cell_type": "code",
   "execution_count": null,
   "id": "f351d1df-d4a3-490f-8d80-8ea5f83f0595",
   "metadata": {},
   "outputs": [],
   "source": [
    "df.sample()"
   ]
  },
  {
   "cell_type": "code",
   "execution_count": null,
   "id": "9e028808-621b-408e-b4f8-78803e5a14fb",
   "metadata": {},
   "outputs": [],
   "source": [
    "route_stats_df.head(1)"
   ]
  },
  {
   "cell_type": "code",
   "execution_count": 28,
   "id": "d4073864-f5cc-49e6-995b-f7afae023186",
   "metadata": {},
   "outputs": [
    {
     "data": {
      "text/html": [
       "\n",
       "<style>\n",
       "  #altair-viz-426f4ecef4c5492a9173980098375343.vega-embed {\n",
       "    width: 100%;\n",
       "    display: flex;\n",
       "  }\n",
       "\n",
       "  #altair-viz-426f4ecef4c5492a9173980098375343.vega-embed details,\n",
       "  #altair-viz-426f4ecef4c5492a9173980098375343.vega-embed details summary {\n",
       "    position: relative;\n",
       "  }\n",
       "</style>\n",
       "<div id=\"altair-viz-426f4ecef4c5492a9173980098375343\"></div>\n",
       "<script type=\"text/javascript\">\n",
       "  var VEGA_DEBUG = (typeof VEGA_DEBUG == \"undefined\") ? {} : VEGA_DEBUG;\n",
       "  (function(spec, embedOpt){\n",
       "    let outputDiv = document.currentScript.previousElementSibling;\n",
       "    if (outputDiv.id !== \"altair-viz-426f4ecef4c5492a9173980098375343\") {\n",
       "      outputDiv = document.getElementById(\"altair-viz-426f4ecef4c5492a9173980098375343\");\n",
       "    }\n",
       "    const paths = {\n",
       "      \"vega\": \"https://cdn.jsdelivr.net/npm/vega@5?noext\",\n",
       "      \"vega-lib\": \"https://cdn.jsdelivr.net/npm/vega-lib?noext\",\n",
       "      \"vega-lite\": \"https://cdn.jsdelivr.net/npm/vega-lite@5.17.0?noext\",\n",
       "      \"vega-embed\": \"https://cdn.jsdelivr.net/npm/vega-embed@6?noext\",\n",
       "    };\n",
       "\n",
       "    function maybeLoadScript(lib, version) {\n",
       "      var key = `${lib.replace(\"-\", \"\")}_version`;\n",
       "      return (VEGA_DEBUG[key] == version) ?\n",
       "        Promise.resolve(paths[lib]) :\n",
       "        new Promise(function(resolve, reject) {\n",
       "          var s = document.createElement('script');\n",
       "          document.getElementsByTagName(\"head\")[0].appendChild(s);\n",
       "          s.async = true;\n",
       "          s.onload = () => {\n",
       "            VEGA_DEBUG[key] = version;\n",
       "            return resolve(paths[lib]);\n",
       "          };\n",
       "          s.onerror = () => reject(`Error loading script: ${paths[lib]}`);\n",
       "          s.src = paths[lib];\n",
       "        });\n",
       "    }\n",
       "\n",
       "    function showError(err) {\n",
       "      outputDiv.innerHTML = `<div class=\"error\" style=\"color:red;\">${err}</div>`;\n",
       "      throw err;\n",
       "    }\n",
       "\n",
       "    function displayChart(vegaEmbed) {\n",
       "      vegaEmbed(outputDiv, spec, embedOpt)\n",
       "        .catch(err => showError(`Javascript Error: ${err.message}<br>This usually means there's a typo in your chart specification. See the javascript console for the full traceback.`));\n",
       "    }\n",
       "\n",
       "    if(typeof define === \"function\" && define.amd) {\n",
       "      requirejs.config({paths});\n",
       "      require([\"vega-embed\"], displayChart, err => showError(`Error loading script: ${err.message}`));\n",
       "    } else {\n",
       "      maybeLoadScript(\"vega\", \"5\")\n",
       "        .then(() => maybeLoadScript(\"vega-lite\", \"5.17.0\"))\n",
       "        .then(() => maybeLoadScript(\"vega-embed\", \"6\"))\n",
       "        .catch(showError)\n",
       "        .then(() => displayChart(vegaEmbed));\n",
       "    }\n",
       "  })({\"config\": {\"view\": {\"continuousWidth\": 300, \"continuousHeight\": 300}}, \"data\": {\"name\": \"data-1b5679fbacc775d707a61769eb58fc75\"}, \"mark\": {\"type\": \"text\"}, \"encoding\": {\"text\": {\"field\": \"combo_col\", \"type\": \"nominal\"}, \"x\": {\"axis\": null, \"field\": \"Zero\", \"type\": \"quantitative\"}, \"y\": {\"axis\": null, \"field\": \"combo_col\", \"type\": \"nominal\"}}, \"height\": 250, \"params\": [{\"name\": \"param_1\", \"select\": {\"type\": \"point\", \"fields\": [\"Route\"]}, \"bind\": {\"input\": \"select\", \"options\": [\"Residential Route\", \"Express Route\"], \"name\": \"Routes: \"}, \"value\": \"Residential Route\"}], \"title\": \"Route Statistics for Southbound\", \"transform\": [{\"filter\": {\"param\": \"param_1\"}}], \"width\": 400, \"$schema\": \"https://vega.github.io/schema/vega-lite/v5.17.0.json\", \"datasets\": {\"data-1b5679fbacc775d707a61769eb58fc75\": [{\"Route\": \"Express Route\", \"Direction\": \"Southbound\", \"variable\": \"Average Scheduled Service (Trip Minutes)\", \"value\": 35.0, \"Zero\": 0, \"combo_col\": \"Average Scheduled Service (Trip Minutes): 35.0\"}, {\"Route\": \"Residential Route\", \"Direction\": \"Southbound\", \"variable\": \"Average Scheduled Service (Trip Minutes)\", \"value\": 49.0, \"Zero\": 0, \"combo_col\": \"Average Scheduled Service (Trip Minutes): 49.0\"}, {\"Route\": \"Express Route\", \"Direction\": \"Southbound\", \"variable\": \"Average Stop Distance (Miles)\", \"value\": 0.27, \"Zero\": 0, \"combo_col\": \"Average Stop Distance (Miles): 0.27\"}, {\"Route\": \"Residential Route\", \"Direction\": \"Southbound\", \"variable\": \"Average Stop Distance (Miles)\", \"value\": 0.24, \"Zero\": 0, \"combo_col\": \"Average Stop Distance (Miles): 0.24\"}, {\"Route\": \"Express Route\", \"Direction\": \"Southbound\", \"variable\": \"# Scheduled Trips\", \"value\": 16, \"Zero\": 0, \"combo_col\": \"# Scheduled Trips: 16\"}, {\"Route\": \"Residential Route\", \"Direction\": \"Southbound\", \"variable\": \"# Scheduled Trips\", \"value\": 14, \"Zero\": 0, \"combo_col\": \"# Scheduled Trips: 14\"}, {\"Route\": \"Express Route\", \"Direction\": \"Southbound\", \"variable\": \"Gtfs Availability\", \"value\": \"schedule_and_vp\", \"Zero\": 0, \"combo_col\": \"GTFS Availability: Schedule and Realtime Data\"}, {\"Route\": \"Residential Route\", \"Direction\": \"Southbound\", \"variable\": \"Gtfs Availability\", \"value\": \"schedule_and_vp\", \"Zero\": 0, \"combo_col\": \"GTFS Availability: Schedule and Realtime Data\"}, {\"Route\": \"Express Route\", \"Direction\": \"Southbound\", \"variable\": \"Peak Avg Speed\", \"value\": 12.84, \"Zero\": 0, \"combo_col\": \"Peak Avg Speed: 12.84\"}, {\"Route\": \"Residential Route\", \"Direction\": \"Southbound\", \"variable\": \"Peak Avg Speed\", \"value\": 12.25, \"Zero\": 0, \"combo_col\": \"Peak Avg Speed: 12.25\"}, {\"Route\": \"Express Route\", \"Direction\": \"Southbound\", \"variable\": \"Peak Scheduled Trips\", \"value\": 8, \"Zero\": 0, \"combo_col\": \"Peak Scheduled Trips: 8\"}, {\"Route\": \"Residential Route\", \"Direction\": \"Southbound\", \"variable\": \"Peak Scheduled Trips\", \"value\": 8, \"Zero\": 0, \"combo_col\": \"Peak Scheduled Trips: 8\"}, {\"Route\": \"Express Route\", \"Direction\": \"Southbound\", \"variable\": \"Peak Hourly Freq\", \"value\": 1.0, \"Zero\": 0, \"combo_col\": \"Peak Hourly Freq: 1.0\"}, {\"Route\": \"Residential Route\", \"Direction\": \"Southbound\", \"variable\": \"Peak Hourly Freq\", \"value\": 1.0, \"Zero\": 0, \"combo_col\": \"Peak Hourly Freq: 1.0\"}, {\"Route\": \"Express Route\", \"Direction\": \"Southbound\", \"variable\": \"Offpeak Avg Speed\", \"value\": 12.96, \"Zero\": 0, \"combo_col\": \"Offpeak Avg Speed: 12.96\"}, {\"Route\": \"Residential Route\", \"Direction\": \"Southbound\", \"variable\": \"Offpeak Avg Speed\", \"value\": 11.09, \"Zero\": 0, \"combo_col\": \"Offpeak Avg Speed: 11.09\"}, {\"Route\": \"Express Route\", \"Direction\": \"Southbound\", \"variable\": \"Offpeak Scheduled Trips\", \"value\": 8, \"Zero\": 0, \"combo_col\": \"Offpeak Scheduled Trips: 8\"}, {\"Route\": \"Residential Route\", \"Direction\": \"Southbound\", \"variable\": \"Offpeak Scheduled Trips\", \"value\": 6, \"Zero\": 0, \"combo_col\": \"Offpeak Scheduled Trips: 6\"}, {\"Route\": \"Express Route\", \"Direction\": \"Southbound\", \"variable\": \"Trips Per Hour\", \"value\": 0.5, \"Zero\": 0, \"combo_col\": \"Trips Per Hour: 0.5\"}, {\"Route\": \"Residential Route\", \"Direction\": \"Southbound\", \"variable\": \"Trips Per Hour\", \"value\": 0.38, \"Zero\": 0, \"combo_col\": \"Trips Per Hour: 0.38\"}]}}, {\"mode\": \"vega-lite\"});\n",
       "</script>"
      ],
      "text/plain": [
       "alt.Chart(...)"
      ]
     },
     "execution_count": 28,
     "metadata": {},
     "output_type": "execute_result"
    }
   ],
   "source": [
    "(\n",
    "        (section2_utils.create_text_table(route_stats_df, 0))\n",
    "        .add_params(xcol_param)\n",
    "        .transform_filter(xcol_param)\n",
    "    )"
   ]
  },
  {
   "cell_type": "code",
   "execution_count": 31,
   "id": "ff5fb2b1-8d23-4efd-a1c5-194d2f2c24d9",
   "metadata": {},
   "outputs": [],
   "source": [
    "def create_text_table(df: pd.DataFrame, direction: int):\n",
    "\n",
    "    df = df.loc[df[\"Dir 0 1\"] == direction].drop_duplicates().reset_index(drop=True)\n",
    "    \n",
    "    try:\n",
    "        direction = df[\"Direction\"].values[0]\n",
    "    except:\n",
    "        pass\n",
    "    \n",
    "    df2 = df.melt(\n",
    "            id_vars=[\n",
    "                \"Route\",\n",
    "                \"Direction\",\n",
    "            ],\n",
    "            value_vars=[\n",
    "                \"Average Scheduled Service (Trip Minutes)\",\n",
    "                \"Average Stop Distance (Miles)\",\n",
    "                \"# Scheduled Trips\",\n",
    "                \"Gtfs Availability\",\n",
    "                \"Peak Avg Speed\",\n",
    "                \"Peak Scheduled Trips\",\n",
    "                \"Peak Hourly Freq\",\n",
    "                \"Offpeak Avg Speed\",\n",
    "                \"Offpeak Scheduled Trips\",\n",
    "                \"Trips Per Hour\",\n",
    "            ],\n",
    "        )\n",
    "    # Create a decoy column to center all the text\n",
    "    df2[\"Zero\"] = 0\n",
    "\n",
    "    df2[\"combo_col\"] = df2.variable.astype(str) + \": \" + df2.value.astype(str)\n",
    "    df2.combo_col = df2.combo_col.str.replace(\n",
    "            \"schedule_and_vp\", \"Schedule and Realtime Data\",\n",
    "        ).str.replace(\"Gtfs\", \"GTFS\")\n",
    "    text_chart = (\n",
    "            alt.Chart(df2)\n",
    "            .mark_text()\n",
    "            .encode(x=alt.X(\"Zero:Q\", axis=None), y=alt.Y(\"combo_col\", axis=None))\n",
    "        )\n",
    "    \n",
    "    text_chart = text_chart.encode(text=\"combo_col:N\").properties(\n",
    "            title=f\"Route Statistics for {direction}\",\n",
    "            width=400,\n",
    "            height=250,\n",
    "        )\n",
    "    return text_chart"
   ]
  },
  {
   "cell_type": "code",
   "execution_count": 32,
   "id": "22352f41-80a9-41ff-95f7-e85428d35b82",
   "metadata": {},
   "outputs": [
    {
     "name": "stderr",
     "output_type": "stream",
     "text": [
      "/opt/conda/lib/python3.9/site-packages/altair/utils/core.py:236: UserWarning: I don't know how to infer vegalite type from 'empty'.  Defaulting to nominal.\n",
      "  warnings.warn(\n"
     ]
    },
    {
     "data": {
      "text/html": [
       "\n",
       "<style>\n",
       "  #altair-viz-3db57cd13b434745a2a1cc19c0e86ff8.vega-embed {\n",
       "    width: 100%;\n",
       "    display: flex;\n",
       "  }\n",
       "\n",
       "  #altair-viz-3db57cd13b434745a2a1cc19c0e86ff8.vega-embed details,\n",
       "  #altair-viz-3db57cd13b434745a2a1cc19c0e86ff8.vega-embed details summary {\n",
       "    position: relative;\n",
       "  }\n",
       "</style>\n",
       "<div id=\"altair-viz-3db57cd13b434745a2a1cc19c0e86ff8\"></div>\n",
       "<script type=\"text/javascript\">\n",
       "  var VEGA_DEBUG = (typeof VEGA_DEBUG == \"undefined\") ? {} : VEGA_DEBUG;\n",
       "  (function(spec, embedOpt){\n",
       "    let outputDiv = document.currentScript.previousElementSibling;\n",
       "    if (outputDiv.id !== \"altair-viz-3db57cd13b434745a2a1cc19c0e86ff8\") {\n",
       "      outputDiv = document.getElementById(\"altair-viz-3db57cd13b434745a2a1cc19c0e86ff8\");\n",
       "    }\n",
       "    const paths = {\n",
       "      \"vega\": \"https://cdn.jsdelivr.net/npm/vega@5?noext\",\n",
       "      \"vega-lib\": \"https://cdn.jsdelivr.net/npm/vega-lib?noext\",\n",
       "      \"vega-lite\": \"https://cdn.jsdelivr.net/npm/vega-lite@5.17.0?noext\",\n",
       "      \"vega-embed\": \"https://cdn.jsdelivr.net/npm/vega-embed@6?noext\",\n",
       "    };\n",
       "\n",
       "    function maybeLoadScript(lib, version) {\n",
       "      var key = `${lib.replace(\"-\", \"\")}_version`;\n",
       "      return (VEGA_DEBUG[key] == version) ?\n",
       "        Promise.resolve(paths[lib]) :\n",
       "        new Promise(function(resolve, reject) {\n",
       "          var s = document.createElement('script');\n",
       "          document.getElementsByTagName(\"head\")[0].appendChild(s);\n",
       "          s.async = true;\n",
       "          s.onload = () => {\n",
       "            VEGA_DEBUG[key] = version;\n",
       "            return resolve(paths[lib]);\n",
       "          };\n",
       "          s.onerror = () => reject(`Error loading script: ${paths[lib]}`);\n",
       "          s.src = paths[lib];\n",
       "        });\n",
       "    }\n",
       "\n",
       "    function showError(err) {\n",
       "      outputDiv.innerHTML = `<div class=\"error\" style=\"color:red;\">${err}</div>`;\n",
       "      throw err;\n",
       "    }\n",
       "\n",
       "    function displayChart(vegaEmbed) {\n",
       "      vegaEmbed(outputDiv, spec, embedOpt)\n",
       "        .catch(err => showError(`Javascript Error: ${err.message}<br>This usually means there's a typo in your chart specification. See the javascript console for the full traceback.`));\n",
       "    }\n",
       "\n",
       "    if(typeof define === \"function\" && define.amd) {\n",
       "      requirejs.config({paths});\n",
       "      require([\"vega-embed\"], displayChart, err => showError(`Error loading script: ${err.message}`));\n",
       "    } else {\n",
       "      maybeLoadScript(\"vega\", \"5\")\n",
       "        .then(() => maybeLoadScript(\"vega-lite\", \"5.17.0\"))\n",
       "        .then(() => maybeLoadScript(\"vega-embed\", \"6\"))\n",
       "        .catch(showError)\n",
       "        .then(() => displayChart(vegaEmbed));\n",
       "    }\n",
       "  })({\"config\": {\"view\": {\"continuousWidth\": 300, \"continuousHeight\": 300}}, \"data\": {\"name\": \"data-4f53cda18c2baa0c0354bb5f9a3ecbe5\"}, \"mark\": {\"type\": \"text\"}, \"encoding\": {\"text\": {\"field\": \"combo_col\", \"type\": \"nominal\"}, \"x\": {\"axis\": null, \"field\": \"Zero\", \"type\": \"quantitative\"}, \"y\": {\"axis\": null, \"field\": \"combo_col\", \"type\": \"nominal\"}}, \"height\": 250, \"params\": [{\"name\": \"param_1\", \"select\": {\"type\": \"point\", \"fields\": [\"Route\"]}, \"bind\": {\"input\": \"select\", \"options\": [\"Residential Route\", \"Express Route\"], \"name\": \"Routes: \"}, \"value\": \"Residential Route\"}], \"title\": \"Route Statistics for 1\", \"transform\": [{\"filter\": {\"param\": \"param_1\"}}], \"width\": 400, \"$schema\": \"https://vega.github.io/schema/vega-lite/v5.17.0.json\", \"datasets\": {\"data-4f53cda18c2baa0c0354bb5f9a3ecbe5\": []}}, {\"mode\": \"vega-lite\"});\n",
       "</script>"
      ],
      "text/plain": [
       "alt.Chart(...)"
      ]
     },
     "execution_count": 32,
     "metadata": {},
     "output_type": "execute_result"
    }
   ],
   "source": [
    "(\n",
    "        (create_text_table(route_stats_df, 1))\n",
    "        .add_params(xcol_param)\n",
    "        .transform_filter(xcol_param)\n",
    "    )"
   ]
  },
  {
   "cell_type": "code",
   "execution_count": null,
   "id": "e914a415-612d-40b8-8c79-85eb19afa64e",
   "metadata": {},
   "outputs": [],
   "source": []
  },
  {
   "cell_type": "markdown",
   "id": "5348efb8-c997-4db2-915b-1bdebcfe94c8",
   "metadata": {},
   "source": [
    "### Double checking to ensure the cardinal directions are correct"
   ]
  },
  {
   "cell_type": "code",
   "execution_count": null,
   "id": "18c23a39-bfec-4d2c-ae06-c38fbaff3416",
   "metadata": {},
   "outputs": [],
   "source": [
    "stop"
   ]
  },
  {
   "cell_type": "code",
   "execution_count": null,
   "id": "24a0dc38-5dfc-46ad-be00-47d80176c868",
   "metadata": {},
   "outputs": [],
   "source": [
    "all_dates_list = list(df.Date.unique())\n",
    "gtfs_keys = list(df.schedule_gtfs_dataset_key.unique())\n",
    "all_dates_list = [np.datetime_as_string(date, unit=\"D\") for date in all_dates_list]"
   ]
  },
  {
   "cell_type": "code",
   "execution_count": null,
   "id": "7f955f2d-7d6e-4c74-99f8-755b0e69d192",
   "metadata": {},
   "outputs": [],
   "source": [
    "#scheduled_stop_times, scheduled_trips = section2_utils.load_stack_all_dates(all_dates_list, gtfs_keys)"
   ]
  },
  {
   "cell_type": "code",
   "execution_count": null,
   "id": "eed1d68c-1b9e-4e72-b1f3-cb35e1f13591",
   "metadata": {},
   "outputs": [],
   "source": [
    "cardinal_dir_before_routeid1 = (\n",
    "        m1.groupby(\n",
    "            [\n",
    "                \"route_id\",\n",
    "                \"schedule_gtfs_dataset_key\",\n",
    "                \"direction_id\",\n",
    "                \"stop_primary_direction\",\n",
    "            ]\n",
    "        )\n",
    "        .agg({\"stop_sequence\": \"count\"})\n",
    "        .reset_index()\n",
    "        .rename(columns={\"stop_sequence\": \"total_stops\"})\n",
    "    )"
   ]
  },
  {
   "cell_type": "code",
   "execution_count": null,
   "id": "91ad2825-df80-4ee9-90ba-fb290bd700a4",
   "metadata": {},
   "outputs": [],
   "source": [
    "cardinal_dir_before_routeid1.head(2)"
   ]
  },
  {
   "cell_type": "code",
   "execution_count": null,
   "id": "6800bced-fb7e-497a-be4e-1317399b05af",
   "metadata": {},
   "outputs": [],
   "source": [
    "# Sort and drop duplicates so that the\n",
    "    # largest # of stops by stop_primary_direction is at the top\n",
    "cardinal_dir_before_routeid2 = cardinal_dir_before_routeid1.sort_values(\n",
    "        by=[\"route_id\", \"schedule_gtfs_dataset_key\", \"direction_id\", \"total_stops\"],\n",
    "        ascending=[True, True, True, False],\n",
    "    )"
   ]
  },
  {
   "cell_type": "code",
   "execution_count": null,
   "id": "bad3c78e-1a72-4d60-aff2-d25b79e65467",
   "metadata": {},
   "outputs": [],
   "source": [
    "recent_ids_df = section2_utils.find_most_recent_route_id(scheduled_trips)"
   ]
  },
  {
   "cell_type": "code",
   "execution_count": null,
   "id": "28916cea-71e8-425b-81ee-ccbab75231d8",
   "metadata": {},
   "outputs": [],
   "source": [
    "m1 = pd.merge(\n",
    "        scheduled_stop_times,\n",
    "        scheduled_trips,\n",
    "        on=[\"trip_instance_key\", \"schedule_gtfs_dataset_key\", \"shape_array_key\"],\n",
    "        how=\"inner\",\n",
    "    )"
   ]
  },
  {
   "cell_type": "code",
   "execution_count": null,
   "id": "662309c9-9ab7-4627-9349-4268e55e0b34",
   "metadata": {},
   "outputs": [],
   "source": [
    "m2 = pd.merge(cardinal_dir_before_routeid2, \n",
    "             recent_ids_df,\n",
    "             on=[\"schedule_gtfs_dataset_key\", \"route_id\"],\n",
    "        how=\"inner\",)"
   ]
  },
  {
   "cell_type": "code",
   "execution_count": null,
   "id": "1c9822dc-c3f3-4eff-b3e5-044f7e7b1cad",
   "metadata": {},
   "outputs": [],
   "source": [
    "m2.head(2)"
   ]
  },
  {
   "cell_type": "code",
   "execution_count": null,
   "id": "5c9f6abc-4538-492a-8fb2-0f4b09fb6bbe",
   "metadata": {},
   "outputs": [],
   "source": [
    "m2.loc[m2.recent_route_id2 == \"111\"]"
   ]
  },
  {
   "cell_type": "code",
   "execution_count": null,
   "id": "9257cfc4-d374-46f7-a0cc-b9709b5d3c77",
   "metadata": {},
   "outputs": [],
   "source": [
    "cardinal_dir_before_routeid3 = cardinal_dir_before_routeid2.drop_duplicates(\n",
    "        subset=[\n",
    "            \"route_id\",\n",
    "            \"schedule_gtfs_dataset_key\",\n",
    "            \"direction_id\",\n",
    "        ]\n",
    "    ).reset_index(drop=True)"
   ]
  },
  {
   "cell_type": "markdown",
   "id": "fa647a96-120e-4e53-972b-e88125e4a104",
   "metadata": {},
   "source": [
    "### Why are there so many unknowns in the Cardinal Direction?\n",
    "* Because I need to clean up route names using [this script](https://github.com/cal-itp/data-analyses/blob/b1e5d4f870400251240eeba4a6515a0848e5d6f8/gtfs_funnel/clean_route_naming.py#L4)."
   ]
  },
  {
   "cell_type": "code",
   "execution_count": null,
   "id": "53d66632-0021-474c-8e82-52f5b55bc835",
   "metadata": {},
   "outputs": [],
   "source": [
    "stop"
   ]
  },
  {
   "cell_type": "code",
   "execution_count": null,
   "id": "282c0d6a-bb20-4662-848d-1f059f561e39",
   "metadata": {},
   "outputs": [],
   "source": [
    "gtfs_keys = list(sched_vp_df.schedule_gtfs_dataset_key.unique())"
   ]
  },
  {
   "cell_type": "code",
   "execution_count": null,
   "id": "19912bb2-63a5-4cf1-841a-307ad671ddcb",
   "metadata": {},
   "outputs": [],
   "source": [
    "date = section2_utils.load_most_current_date()"
   ]
  },
  {
   "cell_type": "code",
   "execution_count": null,
   "id": "cf146c20-f8bb-4f88-b123-15be1e7f22bd",
   "metadata": {},
   "outputs": [],
   "source": [
    "date"
   ]
  },
  {
   "cell_type": "code",
   "execution_count": null,
   "id": "0e0d73ea-d726-48bc-827e-1ce3fbddc57f",
   "metadata": {},
   "outputs": [],
   "source": [
    "all_dates_list = list(sched_vp_df.Date.unique())"
   ]
  },
  {
   "cell_type": "code",
   "execution_count": null,
   "id": "4a245bba-4e5e-40c2-9e67-cf1dfa1bde72",
   "metadata": {},
   "outputs": [],
   "source": [
    "# Need this line of code to turn dates into strings.\n",
    "all_dates_list = [np.datetime_as_string(date, unit=\"D\") for date in all_dates_list]"
   ]
  },
  {
   "cell_type": "markdown",
   "id": "4715bccf-237b-4296-8ae9-abe4c82d34e5",
   "metadata": {},
   "source": [
    "### Use more than one `schedule_gtfs_dataset_key` & date"
   ]
  },
  {
   "cell_type": "code",
   "execution_count": null,
   "id": "65f2d920-8cac-443e-bb2e-58fb0a481348",
   "metadata": {},
   "outputs": [],
   "source": [
    "def load_scheduled_stop_times(date: str, gtfs_schedule_key: list) -> pd.DataFrame:\n",
    "    stop_times_col = [\n",
    "        \"feed_key\",\n",
    "        \"stop_id\",\n",
    "        \"stop_sequence\",\n",
    "        \"schedule_gtfs_dataset_key\",\n",
    "        \"trip_instance_key\",\n",
    "        \"shape_array_key\",\n",
    "        \"stop_name\",\n",
    "        \"prior_stop_sequence\",\n",
    "        \"subseq_stop_sequence\",\n",
    "        \"stop_pair\",\n",
    "        \"stop_pair_name\",\n",
    "        \"stop_primary_direction\",\n",
    "        \"stop_meters\",\n",
    "    ]\n",
    "    stop_times_df = helpers.import_scheduled_stop_times(\n",
    "        date,\n",
    "        filters=[[(\"schedule_gtfs_dataset_key\", \"in\", gtfs_schedule_key)]],\n",
    "        columns=stop_times_col,\n",
    "        get_pandas=True,\n",
    "        with_direction=True,\n",
    "    ).assign(service_date=pd.to_datetime(date))\n",
    "\n",
    "    return stop_times_df"
   ]
  },
  {
   "cell_type": "code",
   "execution_count": null,
   "id": "606d8048-bf3a-41d1-adbe-44849ed3e40d",
   "metadata": {},
   "outputs": [],
   "source": [
    "def load_scheduled_trips(date: str, gtfs_schedule_key: list) -> pd.DataFrame:\n",
    "    scheduled_col = [\n",
    "        \"route_id\",\n",
    "        \"trip_instance_key\",\n",
    "        \"gtfs_dataset_key\",\n",
    "        \"shape_array_key\",\n",
    "        \"direction_id\",\n",
    "        \"route_long_name\",\n",
    "        \"route_short_name\",\n",
    "        \"route_desc\",\n",
    "        \"name\",\n",
    "    ]\n",
    "\n",
    "    scheduled_trips_df = helpers.import_scheduled_trips(\n",
    "        date,\n",
    "        filters=[[(\"gtfs_dataset_key\", \"in\", gtfs_schedule_key)]],\n",
    "        columns=scheduled_col,\n",
    "    ).assign(service_date=pd.to_datetime(date))\n",
    "\n",
    "    return scheduled_trips_df"
   ]
  },
  {
   "cell_type": "code",
   "execution_count": null,
   "id": "53cecf6c-0557-4e8a-813c-57bfb4d12fcb",
   "metadata": {},
   "outputs": [],
   "source": [
    "# test = load_scheduled_trips(all_dates_list[0],gtfs_keys)"
   ]
  },
  {
   "cell_type": "code",
   "execution_count": null,
   "id": "aef08ef3-f981-4e92-92db-018b7708ccb9",
   "metadata": {},
   "outputs": [],
   "source": [
    "def load_stack_all_dates(date_list: list, gtfs_schedule_keys: list) -> pd.DataFrame:\n",
    "    scheduled_stop_times_df = pd.DataFrame()\n",
    "    for i in date_list:\n",
    "        df = load_scheduled_stop_times(i, gtfs_schedule_keys)\n",
    "        scheduled_stop_times_df = pd.concat([scheduled_stop_times_df, df], axis=0)\n",
    "\n",
    "    scheduled_trips_df = pd.DataFrame()\n",
    "    for i in date_list:\n",
    "        df = load_scheduled_trips(i, gtfs_schedule_keys)\n",
    "        scheduled_trips_df = pd.concat([scheduled_trips_df, df], axis=0)\n",
    "\n",
    "    # Need to return scheduled_trips_df to find the most recent route id\n",
    "    return scheduled_stop_times_df, scheduled_trips_df"
   ]
  },
  {
   "cell_type": "code",
   "execution_count": null,
   "id": "22b07bb8-aa16-4fcf-9d9e-efcc5c33e32e",
   "metadata": {},
   "outputs": [],
   "source": [
    "# 10:18\n",
    "# m1, scheduled_trips_df = load_stack_all_dates(all_dates_list, gtfs_keys)"
   ]
  },
  {
   "cell_type": "code",
   "execution_count": null,
   "id": "e4515c60-977e-4ac8-a718-20acbe4ea459",
   "metadata": {},
   "outputs": [],
   "source": [
    "# len(m1)"
   ]
  },
  {
   "cell_type": "markdown",
   "id": "a71e22c4-1948-4b44-b1f8-9cb9ff1d19dd",
   "metadata": {},
   "source": [
    "### Aggregate\n",
    "* DO we want to aggregate by date? "
   ]
  },
  {
   "cell_type": "code",
   "execution_count": null,
   "id": "a8214042-f310-4d5e-9723-e748ef9e1e4a",
   "metadata": {},
   "outputs": [],
   "source": [
    "def find_most_common_dir(df: pd.DataFrame) -> pd.DataFrame:\n",
    "    # Count total stops\n",
    "    agg1 = (\n",
    "        df.groupby(\n",
    "            [\n",
    "                \"route_id\",\n",
    "                \"schedule_gtfs_dataset_key\",\n",
    "                \"direction_id\",\n",
    "                \"stop_primary_direction\",\n",
    "            ]\n",
    "        )\n",
    "        .agg({\"stop_sequence\": \"count\"})\n",
    "        .reset_index()\n",
    "        .rename(columns={\"stop_sequence\": \"total_stops\"})\n",
    "    )\n",
    "\n",
    "    # Sort and drop duplicates so that the\n",
    "    # largest # of stops by stop_primary_direction is at the top\n",
    "    agg2 = agg1.sort_values(\n",
    "        by=[\"route_id\", \"schedule_gtfs_dataset_key\", \"direction_id\", \"total_stops\"],\n",
    "        ascending=[True, True, True, False],\n",
    "    )\n",
    "\n",
    "    # Drop duplicates so only the top stop_primary_direction is kept.\n",
    "    agg3 = agg2.drop_duplicates(\n",
    "        subset=[\n",
    "            \"route_id\",\n",
    "            \"schedule_gtfs_dataset_key\",\n",
    "            \"direction_id\",\n",
    "        ]\n",
    "    ).reset_index(drop=True)\n",
    "\n",
    "    agg3 = agg3.drop(columns=[\"total_stops\"])\n",
    "    return agg3"
   ]
  },
  {
   "cell_type": "code",
   "execution_count": null,
   "id": "a29d25b6-d801-4f7a-b6c3-9ef3805aba32",
   "metadata": {},
   "outputs": [],
   "source": [
    "def find_most_recent_route_id(df: pd.DataFrame) -> pd.DataFrame:\n",
    "    df = df.assign(\n",
    "        route_id=df.route_id.fillna(\"\"),\n",
    "        route_short_name=df.route_short_name.fillna(\"\"),\n",
    "        route_long_name=df.route_long_name.fillna(\"\"),\n",
    "    )\n",
    "\n",
    "    df = df.assign(combined_name=df.route_short_name + \"__\" + df.route_long_name)\n",
    "\n",
    "    df = df.assign(\n",
    "        route_id2=df.apply(\n",
    "            lambda x: gtfs_schedule_wrangling.standardize_route_id(\n",
    "                x, \"name\", \"route_id\"\n",
    "            ),\n",
    "            axis=1,\n",
    "        )\n",
    "    )\n",
    "\n",
    "    route_cols = [\"schedule_gtfs_dataset_key\", \"name\", \"route_id2\"]\n",
    "\n",
    "    df2 = gtfs_schedule_wrangling.most_recent_route_info(\n",
    "        df, group_cols=route_cols, route_col=\"combined_name\"\n",
    "    ).pipe(\n",
    "        gtfs_schedule_wrangling.most_recent_route_info,\n",
    "        group_cols=[\"schedule_gtfs_dataset_key\", \"name\", \"recent_combined_name\"],\n",
    "        route_col=\"route_id2\",\n",
    "    )\n",
    "\n",
    "    sort_order = [True for c in route_cols]\n",
    "    df3 = (\n",
    "        df2.sort_values(route_cols + [\"service_date\"], ascending=sort_order + [False])\n",
    "        .drop_duplicates(subset=route_cols)\n",
    "        .rename(columns={\"combined_name\": \"recent_combined_name\"})\n",
    "    )\n",
    "\n",
    "    df3 = df3[[\"schedule_gtfs_dataset_key\", \"recent_route_id2\", \"route_id\"]]\n",
    "    return df3"
   ]
  },
  {
   "cell_type": "code",
   "execution_count": null,
   "id": "1241e99a-22d5-41bd-a7d1-9515ee356605",
   "metadata": {},
   "outputs": [],
   "source": [
    "# recent_id_df = find_most_recent_route_id(scheduled_trips_df)"
   ]
  },
  {
   "cell_type": "code",
   "execution_count": null,
   "id": "282ab38d-987b-4fcd-b4d7-1efb6a7f6f8e",
   "metadata": {},
   "outputs": [],
   "source": [
    "\"\"\"cardinal_dir_df2 = pd.merge(\n",
    "    recent_id_df,\n",
    "    cardinal_dir_df,\n",
    "    on=[\"schedule_gtfs_dataset_key\", \"route_id\"],\n",
    "    how=\"inner\",\n",
    ")\"\"\""
   ]
  },
  {
   "cell_type": "code",
   "execution_count": null,
   "id": "271b755e-60be-4eaf-b118-27fc61dd2e80",
   "metadata": {},
   "outputs": [],
   "source": [
    "\"\"\" sched_vp_df2 = pd.merge(\n",
    "    sched_vp_df,\n",
    "    cardinal_dir_df2.drop(columns=[\"route_id\"]),\n",
    "    left_on=[\"schedule_gtfs_dataset_key\", \"Direction\", \"Route ID\"],\n",
    "    right_on=[\n",
    "        \"schedule_gtfs_dataset_key\",\n",
    "        \"direction_id\",\n",
    "        \"recent_route_id2\",\n",
    "    ],\n",
    "    how=\"left\",\n",
    ")\"\"\""
   ]
  },
  {
   "cell_type": "code",
   "execution_count": null,
   "id": "5fcc9c58-5229-4bf1-a5d5-5bc420fbb407",
   "metadata": {},
   "outputs": [],
   "source": [
    "def find_cardinal_direction(date_list: list, gtfs_schedule_keys: list) -> pd.DataFrame:\n",
    "    # Grab all available dates for these dataframes\n",
    "    scheduled_stop_times_df, scheduled_trips_df = load_stack_all_dates(\n",
    "        date_list, gtfs_schedule_keys\n",
    "    )\n",
    "\n",
    "    # Merge them\n",
    "    m1 = pd.merge(\n",
    "        scheduled_trips_df,\n",
    "        scheduled_stop_times_df,\n",
    "        on=[\"trip_instance_key\", \"schedule_gtfs_dataset_key\", \"shape_array_key\"],\n",
    "        how=\"inner\",\n",
    "    )\n",
    "\n",
    "    # Find the most common direction for this Route ID\n",
    "    common_stops_df = find_most_common_dir(m1)\n",
    "\n",
    "    # Find the most recent Route ID to connect back to sched_vp_df\n",
    "    recent_ids_df = find_most_recent_route_id(scheduled_trips_df)\n",
    "\n",
    "    # Merge this\n",
    "    m2 = pd.merge(\n",
    "        common_stops_df,\n",
    "        recent_ids_df,\n",
    "        on=[\"schedule_gtfs_dataset_key\", \"route_id\"],\n",
    "        how=\"inner\",\n",
    "    )\n",
    "\n",
    "    m2 = m2.drop(columns=[\"route_id\"])\n",
    "    return m2"
   ]
  },
  {
   "cell_type": "code",
   "execution_count": null,
   "id": "3dad59ab-f628-4b55-b32c-3d457be75e6f",
   "metadata": {},
   "outputs": [],
   "source": [
    "cardinal_dir_df = find_cardinal_direction(all_dates_list, gtfs_keys)"
   ]
  },
  {
   "cell_type": "code",
   "execution_count": null,
   "id": "81d4db9f-b294-46e5-8ae6-9e4665ddc3de",
   "metadata": {},
   "outputs": [],
   "source": [
    "cardinal_dir_df.shape"
   ]
  },
  {
   "cell_type": "code",
   "execution_count": null,
   "id": "efe6ec6b-45d3-434e-86a8-17984f3c03f8",
   "metadata": {},
   "outputs": [],
   "source": [
    "cardinal_dir_df.head(2)"
   ]
  },
  {
   "cell_type": "markdown",
   "id": "afa6119f-d707-4d23-b192-351432f49046",
   "metadata": {},
   "source": [
    "#### Recode 1=East/West, 0=North/South"
   ]
  },
  {
   "cell_type": "code",
   "execution_count": null,
   "id": "1ce15cd0-b468-44c1-bee8-94e717be0add",
   "metadata": {},
   "outputs": [],
   "source": [
    "sched_vp_df.columns"
   ]
  },
  {
   "cell_type": "code",
   "execution_count": null,
   "id": "cd14dab0-a442-4b78-9250-91142e4043dd",
   "metadata": {},
   "outputs": [],
   "source": [
    "sched_vp_df2 = pd.merge(\n",
    "    sched_vp_df.drop(columns=[\"Cardinal Direction\"]),\n",
    "    cardinal_dir_df,\n",
    "    left_on=[\"schedule_gtfs_dataset_key\", \"Direction\", \"Route ID\"],\n",
    "    right_on=[\n",
    "        \"schedule_gtfs_dataset_key\",\n",
    "        \"direction_id\",\n",
    "        \"recent_route_id2\",\n",
    "    ],\n",
    "    how=\"left\",\n",
    ")"
   ]
  },
  {
   "cell_type": "code",
   "execution_count": null,
   "id": "e27b8a91-6f1f-4d84-be6a-9042f052cb83",
   "metadata": {},
   "outputs": [],
   "source": [
    "sched_vp_df2.columns"
   ]
  },
  {
   "cell_type": "code",
   "execution_count": null,
   "id": "697a3077-aa4b-4a23-91b6-dbf7ed684b9a",
   "metadata": {},
   "outputs": [],
   "source": [
    "def assign_cardinal_dir(row):\n",
    "    if row[\"Direction\"] == 0:\n",
    "        return \"Eastbound/Westbound\"\n",
    "    else:\n",
    "        return \"Northbound/Southbound\"\n",
    "\n",
    "\n",
    "# Apply the function\n",
    "sched_vp_df2[\"Cardinal Direction\"] = sched_vp_df2.apply(assign_cardinal_dir, axis=1)"
   ]
  },
  {
   "cell_type": "code",
   "execution_count": null,
   "id": "5c57d6b5-5cdc-44c8-9c8f-d17004efb13c",
   "metadata": {},
   "outputs": [],
   "source": [
    "sched_vp_df2 = sched_vp_df2.rename(\n",
    "    columns={\n",
    "        \"Direction\": \"Direction_filter\",\n",
    "        \"Cardinal Direction\": \"Direction\",\n",
    "        \"stop_primary_direction\": \"Specific Direction\",\n",
    "    }\n",
    ")"
   ]
  },
  {
   "cell_type": "code",
   "execution_count": null,
   "id": "6e3225d5-458b-42a1-aa05-99f14fc4926f",
   "metadata": {},
   "outputs": [],
   "source": [
    "sched_vp_df2.head(1)"
   ]
  },
  {
   "cell_type": "code",
   "execution_count": null,
   "id": "64e0db17-1b90-417a-9186-6d316e51d71a",
   "metadata": {},
   "outputs": [],
   "source": [
    "sched_vp_df2[\"Direction\"].value_counts()"
   ]
  },
  {
   "cell_type": "code",
   "execution_count": null,
   "id": "3027112a-54a2-43c7-b7a9-2cb10e415019",
   "metadata": {},
   "outputs": [],
   "source": [
    "sched_vp_df2[\"Direction\"].unique()"
   ]
  },
  {
   "cell_type": "code",
   "execution_count": null,
   "id": "6a8c8cc0-dffa-4f61-bb0a-8854bf26c84d",
   "metadata": {},
   "outputs": [],
   "source": [
    "section2_utils.filtered_route(sched_vp_df2)"
   ]
  },
  {
   "cell_type": "markdown",
   "id": "7356c330-86c5-4ea0-957d-d2bef6d5d5a4",
   "metadata": {
    "tags": []
   },
   "source": [
    "### Understanding `/gtfs_funnel/clean_route_naming.py` & grabbing the most recent `route_name` and `route_id`\n",
    "* https://github.com/cal-itp/data-analyses/blob/main/gtfs_funnel/clean_route_naming.py"
   ]
  },
  {
   "cell_type": "code",
   "execution_count": null,
   "id": "8cd0c149-23e7-40cc-aa93-8e5ecaaf5e66",
   "metadata": {},
   "outputs": [],
   "source": [
    "stop"
   ]
  },
  {
   "cell_type": "code",
   "execution_count": null,
   "id": "c2442233-46a6-4ba6-9a8b-4ec06b0fe5ed",
   "metadata": {},
   "outputs": [],
   "source": [
    "import sys\n",
    "\n",
    "sys.path.append(\"../gtfs_funnel\")\n",
    "import clean_route_naming"
   ]
  },
  {
   "cell_type": "markdown",
   "id": "1fd7f937-c864-4112-82b6-f2ba2bd67fa7",
   "metadata": {},
   "source": [
    "#### Breaking out `concatenate_routes_across_dates`\n",
    "* This would go into the `helpers.import_scheduled_trips` in my `merge_scheduled_stop_times` function."
   ]
  },
  {
   "cell_type": "code",
   "execution_count": null,
   "id": "8a3e277b-4146-48d5-95cf-1d67a7641ce3",
   "metadata": {},
   "outputs": [],
   "source": [
    "gtfs_funnel_scheduled_trips = pd.concat(\n",
    "    [\n",
    "        helpers.import_scheduled_trips(\n",
    "            analysis_date,\n",
    "            filters=[[(\"gtfs_dataset_key\", \"in\", gtfs_keys)]],\n",
    "            columns=[\n",
    "                \"route_id\",\n",
    "                \"trip_instance_key\",\n",
    "                \"gtfs_dataset_key\",\n",
    "                \"shape_array_key\",\n",
    "                \"direction_id\",\n",
    "                \"route_long_name\",\n",
    "                \"route_short_name\",\n",
    "                \"route_desc\",\n",
    "                \"name\",\n",
    "            ],\n",
    "            get_pandas=True,\n",
    "        ).assign(service_date=pd.to_datetime(analysis_date))\n",
    "        for analysis_date in all_dates_list\n",
    "    ],\n",
    "    axis=0,\n",
    "    ignore_index=True,\n",
    ")"
   ]
  },
  {
   "cell_type": "code",
   "execution_count": null,
   "id": "4db9c319-ffda-4b00-b244-b57fb20993c6",
   "metadata": {},
   "outputs": [],
   "source": [
    "gtfs_funnel_scheduled_trips = gtfs_funnel_scheduled_trips.assign(\n",
    "    route_id=gtfs_funnel_scheduled_trips.route_id.fillna(\"\"),\n",
    "    route_short_name=gtfs_funnel_scheduled_trips.route_short_name.fillna(\"\"),\n",
    "    route_long_name=gtfs_funnel_scheduled_trips.route_long_name.fillna(\"\"),\n",
    ")"
   ]
  },
  {
   "cell_type": "code",
   "execution_count": null,
   "id": "fa833bc7-2536-415f-b13c-55711186a01d",
   "metadata": {},
   "outputs": [],
   "source": [
    "gtfs_funnel_scheduled_trips = gtfs_funnel_scheduled_trips.assign(\n",
    "    combined_name=gtfs_funnel_scheduled_trips.route_short_name\n",
    "    + \"__\"\n",
    "    + gtfs_funnel_scheduled_trips.route_long_name\n",
    ")"
   ]
  },
  {
   "cell_type": "code",
   "execution_count": null,
   "id": "175298fc-c448-4ad0-b08f-69e96da2ac0c",
   "metadata": {},
   "outputs": [],
   "source": [
    "gtfs_funnel_scheduled_trips = gtfs_funnel_scheduled_trips.assign(\n",
    "    route_id2=gtfs_funnel_scheduled_trips.apply(\n",
    "        lambda x: gtfs_schedule_wrangling.standardize_route_id(x, \"name\", \"route_id\"),\n",
    "        axis=1,\n",
    "    )\n",
    ")"
   ]
  },
  {
   "cell_type": "code",
   "execution_count": null,
   "id": "b9869b69-29bd-4265-afbc-ef5d600edbf3",
   "metadata": {},
   "outputs": [],
   "source": [
    "gtfs_funnel_scheduled_trips.head(2)"
   ]
  },
  {
   "cell_type": "code",
   "execution_count": null,
   "id": "10aeb1c5-c592-45d8-81dd-68719fa034d9",
   "metadata": {},
   "outputs": [],
   "source": [
    "gtfs_funnel_scheduled_trips.shape"
   ]
  },
  {
   "cell_type": "markdown",
   "id": "db6be394-eb04-4ede-8a8f-01ad4803d954",
   "metadata": {},
   "source": [
    "#### `gtfs_schedule_wrangling.most_recent_route_info()`"
   ]
  },
  {
   "cell_type": "code",
   "execution_count": null,
   "id": "411a4910-4ecf-435f-8839-942a33201aa0",
   "metadata": {},
   "outputs": [],
   "source": [
    "route_cols = [\"schedule_gtfs_dataset_key\", \"name\", \"route_id2\"]"
   ]
  },
  {
   "cell_type": "code",
   "execution_count": null,
   "id": "64101145-181f-4200-9a8a-26c5fd8cb5c3",
   "metadata": {},
   "outputs": [],
   "source": [
    "df2 = gtfs_schedule_wrangling.most_recent_route_info(\n",
    "    gtfs_funnel_scheduled_trips, group_cols=route_cols, route_col=\"combined_name\"\n",
    ").pipe(\n",
    "    gtfs_schedule_wrangling.most_recent_route_info,\n",
    "    group_cols=[\"schedule_gtfs_dataset_key\", \"name\", \"recent_combined_name\"],\n",
    "    route_col=\"route_id2\",\n",
    ")"
   ]
  },
  {
   "cell_type": "code",
   "execution_count": null,
   "id": "dd9a78b7-ff21-44bf-bb1f-6d4eafc09a2a",
   "metadata": {
    "scrolled": true,
    "tags": []
   },
   "outputs": [],
   "source": [
    "gtfs_schedule_wrangling.most_recent_route_info??"
   ]
  },
  {
   "cell_type": "code",
   "execution_count": null,
   "id": "563e7370-2d17-43fb-a2c7-d9e4bbb8260b",
   "metadata": {},
   "outputs": [],
   "source": [
    "df2.shape"
   ]
  },
  {
   "cell_type": "code",
   "execution_count": null,
   "id": "881869ec-84cf-457c-be2f-84174eedc94b",
   "metadata": {},
   "outputs": [],
   "source": [
    "sort_order = [True for c in route_cols]"
   ]
  },
  {
   "cell_type": "code",
   "execution_count": null,
   "id": "716de43f-9d74-4960-bef2-43fa950dbb43",
   "metadata": {},
   "outputs": [],
   "source": [
    "most_recent = (\n",
    "    gtfs_funnel_scheduled_trips.sort_values(\n",
    "        route_cols + [\"service_date\"], ascending=sort_order + [False]\n",
    "    )\n",
    "    .drop_duplicates(subset=route_cols)\n",
    "    .rename(columns={\"combined_name\": \"recent_combined_name\"})\n",
    ")\n",
    "\n",
    "most_recent2 = (\n",
    "    most_recent.sort_values(\n",
    "        [\"schedule_gtfs_dataset_key\", \"name\", \"recent_combined_name\"]\n",
    "        + [\"service_date\"],\n",
    "        ascending=sort_order + [False],\n",
    "    )\n",
    "    .drop_duplicates(subset=route_cols)\n",
    "    .rename(columns={\"route_id2\": \"recent_route_id2\"})\n",
    ")"
   ]
  },
  {
   "cell_type": "code",
   "execution_count": null,
   "id": "b98ad0b8-f84b-49ae-aca9-554fe523f006",
   "metadata": {},
   "outputs": [],
   "source": [
    "most_recent.head(2)"
   ]
  },
  {
   "cell_type": "code",
   "execution_count": null,
   "id": "a1ab88b5-4a6b-4349-b28c-279b976938ae",
   "metadata": {},
   "outputs": [],
   "source": [
    "most_recent.shape, most_recent.recent_combined_name.nunique()"
   ]
  },
  {
   "cell_type": "code",
   "execution_count": null,
   "id": "3319d003-a649-41e9-a802-e7251fe5e2da",
   "metadata": {},
   "outputs": [],
   "source": [
    "most_recent2.head(2)"
   ]
  },
  {
   "cell_type": "code",
   "execution_count": null,
   "id": "cf014fdd-9484-494c-984e-7074162ab124",
   "metadata": {},
   "outputs": [],
   "source": [
    "most_recent2.shape, most_recent2.recent_route_id2.nunique()"
   ]
  },
  {
   "cell_type": "code",
   "execution_count": null,
   "id": "ee5a30fe-b803-4080-9b2e-f3cbf1847e13",
   "metadata": {},
   "outputs": [],
   "source": [
    "stop"
   ]
  },
  {
   "cell_type": "markdown",
   "id": "80d4369f-7c4f-45df-ac76-f86f7e2c89a9",
   "metadata": {},
   "source": [
    "### Test Merge w/ `sched_vp_df` w/ `standardized_route_ids.parquet`"
   ]
  },
  {
   "cell_type": "code",
   "execution_count": null,
   "id": "ab85b653-c6f1-498d-96ac-d23ab1b74239",
   "metadata": {},
   "outputs": [],
   "source": [
    "std_route_names = (\n",
    "    f\"{SCHED_GCS}{GTFS_DATA_DICT.schedule_tables.route_identification}.parquet\"\n",
    ")"
   ]
  },
  {
   "cell_type": "code",
   "execution_count": null,
   "id": "7866f015-89cf-43bb-b867-0b1e0dcd43ac",
   "metadata": {},
   "outputs": [],
   "source": [
    "# std_route_names_df = pd.read_parquet(std_route_names)"
   ]
  },
  {
   "cell_type": "code",
   "execution_count": null,
   "id": "78d7c613-9ea8-4cd9-91b4-29cd64131295",
   "metadata": {},
   "outputs": [],
   "source": [
    "# std_route_names_df = std_route_names_df.loc[\n",
    "#    std_route_names_df.schedule_gtfs_dataset_key.isin(gtfs_keys)\n",
    "# ]"
   ]
  },
  {
   "cell_type": "code",
   "execution_count": null,
   "id": "996c2e31-fad7-4d09-a30c-5f4652b51bbb",
   "metadata": {},
   "outputs": [],
   "source": [
    "# std_route_names_df.shape, std_route_names_df.route_id2.nunique(), std_route_names_df.recent_combined_name.nunique()"
   ]
  },
  {
   "cell_type": "code",
   "execution_count": null,
   "id": "e359ba0f-6f17-4055-aae2-34ca70d6a37b",
   "metadata": {},
   "outputs": [],
   "source": [
    "len(cardinal_dir_df)"
   ]
  },
  {
   "cell_type": "code",
   "execution_count": null,
   "id": "63d16217-97f1-4b11-94ca-1ae077b2085b",
   "metadata": {},
   "outputs": [],
   "source": [
    "# Delete out cols\n",
    "sched_vp_df = sched_vp_df.drop(columns=[\"Cardinal Direction\"])"
   ]
  },
  {
   "cell_type": "code",
   "execution_count": null,
   "id": "0dcda86e-b6d7-4855-bce9-65457effbdba",
   "metadata": {},
   "outputs": [],
   "source": [
    "sched_vp_df[\"Route ID\"].unique(), sched_vp_df[\"Route ID\"].nunique()"
   ]
  },
  {
   "cell_type": "code",
   "execution_count": null,
   "id": "0dc1d92d-364b-4f0e-aaf1-72423d7dd962",
   "metadata": {},
   "outputs": [],
   "source": [
    "most_recent2.recent_route_id2.unique(), most_recent2[\"recent_route_id2\"].nunique()"
   ]
  },
  {
   "cell_type": "markdown",
   "id": "2e36a559-ce83-4d36-80db-1f854b7c6d20",
   "metadata": {},
   "source": [
    "#### Seeing what are the best columns to match over for names."
   ]
  },
  {
   "cell_type": "code",
   "execution_count": null,
   "id": "d7eedc56-528d-47e0-bd69-107006f008d8",
   "metadata": {},
   "outputs": [],
   "source": [
    "routes3 = set(most_recent2.recent_route_id2.unique().tolist())"
   ]
  },
  {
   "cell_type": "code",
   "execution_count": null,
   "id": "c266b0f9-ef13-461b-802c-75846b11ff89",
   "metadata": {},
   "outputs": [],
   "source": [
    "most_recent2.columns"
   ]
  },
  {
   "cell_type": "code",
   "execution_count": null,
   "id": "e13bdc01-d112-496c-9126-7151bd41042e",
   "metadata": {},
   "outputs": [],
   "source": [
    "route_names1 = set(most_recent2.route_long_name.unique().tolist())"
   ]
  },
  {
   "cell_type": "code",
   "execution_count": null,
   "id": "2d2f5bde-10a3-4c98-b984-eba46d12cbcb",
   "metadata": {},
   "outputs": [],
   "source": [
    "route_names2 = set(sched_vp_df.route_long_name.unique().tolist())"
   ]
  },
  {
   "cell_type": "code",
   "execution_count": null,
   "id": "003f6ef8-a5ab-4a00-bf1c-8db6331cb622",
   "metadata": {},
   "outputs": [],
   "source": [
    "route_names2 - route_names1"
   ]
  },
  {
   "cell_type": "code",
   "execution_count": null,
   "id": "9989446c-0354-4cdb-ba44-cf6bcdd7d1b3",
   "metadata": {},
   "outputs": [],
   "source": [
    "route_names1 - route_names2"
   ]
  },
  {
   "cell_type": "code",
   "execution_count": null,
   "id": "6d3f541e-f0ee-46a3-b5fa-041cf0e45c60",
   "metadata": {},
   "outputs": [],
   "source": [
    "len(routes3)"
   ]
  },
  {
   "cell_type": "code",
   "execution_count": null,
   "id": "adf1e462-87ed-4749-99b7-099bf4c2c351",
   "metadata": {},
   "outputs": [],
   "source": [
    "routes4 = set(most_recent2.route_id.unique().tolist())"
   ]
  },
  {
   "cell_type": "code",
   "execution_count": null,
   "id": "7b88956d-a2b9-4e84-a4b6-97efd0dc2037",
   "metadata": {},
   "outputs": [],
   "source": [
    "len(routes1), len(routes3)"
   ]
  },
  {
   "cell_type": "code",
   "execution_count": null,
   "id": "502cab75-7f3c-41e0-8dd5-38c3c110cff7",
   "metadata": {
    "scrolled": true,
    "tags": []
   },
   "outputs": [],
   "source": [
    "routes3 - routes1"
   ]
  },
  {
   "cell_type": "code",
   "execution_count": null,
   "id": "9922f80f-ab7c-4834-867d-122a8dcb6ef8",
   "metadata": {
    "scrolled": true,
    "tags": []
   },
   "outputs": [],
   "source": [
    "routes1 - routes3"
   ]
  },
  {
   "cell_type": "markdown",
   "id": "cd57f612-97ed-4e76-9e95-50536e8809c9",
   "metadata": {},
   "source": [
    "### Merges"
   ]
  },
  {
   "cell_type": "code",
   "execution_count": null,
   "id": "4609cda2-15e9-4221-974c-4a0e4b8ebd94",
   "metadata": {},
   "outputs": [],
   "source": [
    "pd.merge(\n",
    "    most_recent2,\n",
    "    cardinal_dir_df,\n",
    "    left_on=\"recent_route_id2\",\n",
    "    right_on=\"route_id\",\n",
    "    how=\"left\",\n",
    "    indicator=True,\n",
    ")[[\"_merge\"]].value_counts()"
   ]
  },
  {
   "cell_type": "code",
   "execution_count": null,
   "id": "54afd0c2-1026-4742-b22e-170b0afa0ab2",
   "metadata": {},
   "outputs": [],
   "source": [
    "most_recent2.head(1)"
   ]
  },
  {
   "cell_type": "code",
   "execution_count": null,
   "id": "be748331-47b1-4dd4-8a4f-75d0332e1db5",
   "metadata": {},
   "outputs": [],
   "source": [
    "most_recent2.shape, most_recent2.route_id.nunique()"
   ]
  },
  {
   "cell_type": "code",
   "execution_count": null,
   "id": "f2da339c-454f-455b-b887-4d3d66e7578a",
   "metadata": {},
   "outputs": [],
   "source": [
    "pd.merge(most_recent2, cardinal_dir_df, on=[\"route_id\"], how=\"outer\", indicator=True)[\n",
    "    [\"_merge\"]\n",
    "].value_counts()"
   ]
  },
  {
   "cell_type": "code",
   "execution_count": null,
   "id": "f49bf91e-1dfb-424a-9194-495a59ffe9e3",
   "metadata": {},
   "outputs": [],
   "source": [
    "cardinal_dir_df2 = pd.merge(\n",
    "    most_recent2.drop(columns=[\"direction_id\"]),\n",
    "    cardinal_dir_df,\n",
    "    on=[\"schedule_gtfs_dataset_key\", \"route_id\"],\n",
    "    how=\"inner\",\n",
    ")"
   ]
  },
  {
   "cell_type": "code",
   "execution_count": null,
   "id": "da90f218-ad8e-41cb-bd91-0b39e3976f78",
   "metadata": {},
   "outputs": [],
   "source": [
    "cardinal_dir_df2.head(2)"
   ]
  },
  {
   "cell_type": "code",
   "execution_count": null,
   "id": "741fd976-a60a-43c9-969a-3cb8859b0cee",
   "metadata": {},
   "outputs": [],
   "source": [
    "cardinal_dir_df2.shape, cardinal_dir_df2.route_id.nunique()"
   ]
  },
  {
   "cell_type": "code",
   "execution_count": null,
   "id": "1213af74-2db7-4e73-8b29-d281373443c9",
   "metadata": {},
   "outputs": [],
   "source": [
    "pd.merge(\n",
    "    sched_vp_df,\n",
    "    cardinal_dir_df2,\n",
    "    left_on=[\"schedule_gtfs_dataset_key\", \"Direction\", \"Route ID\", \"route_long_name\"],\n",
    "    right_on=[\n",
    "        \"schedule_gtfs_dataset_key\",\n",
    "        \"direction_id\",\n",
    "        \"recent_route_id2\",\n",
    "        \"route_long_name\",\n",
    "    ],\n",
    "    how=\"left\",\n",
    "    indicator=True,\n",
    ")[[\"_merge\"]].value_counts()"
   ]
  },
  {
   "cell_type": "code",
   "execution_count": null,
   "id": "89fe2124-7678-4ecd-bc65-22798d265349",
   "metadata": {},
   "outputs": [],
   "source": [
    "pd.merge(\n",
    "    sched_vp_df,\n",
    "    cardinal_dir_df2,\n",
    "    left_on=[\"schedule_gtfs_dataset_key\", \"Direction\", \"Route ID\"],\n",
    "    right_on=[\n",
    "        \"schedule_gtfs_dataset_key\",\n",
    "        \"direction_id\",\n",
    "        \"recent_route_id2\",\n",
    "    ],\n",
    "    how=\"left\",\n",
    "    indicator=True,\n",
    ")[[\"_merge\"]].value_counts()"
   ]
  },
  {
   "cell_type": "code",
   "execution_count": null,
   "id": "4de601b1-661e-418d-940d-393d7116e90b",
   "metadata": {},
   "outputs": [],
   "source": [
    "len(sched_vp_df)"
   ]
  },
  {
   "cell_type": "markdown",
   "id": "217f38dd-872e-4a12-8b5b-346c62e7cba2",
   "metadata": {},
   "source": [
    "#### Merging on `route_id` and `route_long_name`"
   ]
  },
  {
   "cell_type": "code",
   "execution_count": null,
   "id": "3e8cca5d-b129-44e5-8263-5f834e7ef816",
   "metadata": {},
   "outputs": [],
   "source": [
    "m1 = pd.merge(\n",
    "    sched_vp_df,\n",
    "    cardinal_dir_df2,\n",
    "    left_on=[\"schedule_gtfs_dataset_key\", \"Direction\", \"Route ID\", \"route_long_name\"],\n",
    "    right_on=[\n",
    "        \"schedule_gtfs_dataset_key\",\n",
    "        \"direction_id\",\n",
    "        \"recent_route_id2\",\n",
    "        \"route_long_name\",\n",
    "    ],\n",
    "    how=\"left\",\n",
    ")"
   ]
  },
  {
   "cell_type": "code",
   "execution_count": null,
   "id": "6faebd9b-54af-4792-88aa-2332fc79284b",
   "metadata": {},
   "outputs": [],
   "source": [
    "m1.head(2)"
   ]
  },
  {
   "cell_type": "code",
   "execution_count": null,
   "id": "d2239729-5786-4732-ae84-ac3bb2870be6",
   "metadata": {},
   "outputs": [],
   "source": [
    "m1.stop_primary_direction = m1.stop_primary_direction.fillna(\"Unknown\")"
   ]
  },
  {
   "cell_type": "code",
   "execution_count": null,
   "id": "1496fb70-2f72-46ef-9c37-4397c0ed8fff",
   "metadata": {},
   "outputs": [],
   "source": [
    "m1.stop_primary_direction.value_counts()"
   ]
  },
  {
   "cell_type": "code",
   "execution_count": null,
   "id": "6e372745-8a0c-4cc2-ad8f-7c7dbe7f1d5c",
   "metadata": {},
   "outputs": [],
   "source": [
    "# Check which routes are always unknown\n",
    "# C & K Line Link (857)\n",
    "# Metro A Line (Blue)\n",
    "unknown_df = m1.groupby(\n",
    "    [\"Route ID\", \"route_long_name\", \"Date\", \"stop_primary_direction\"]\n",
    ").agg({\"Period\": \"count\"})"
   ]
  },
  {
   "cell_type": "code",
   "execution_count": null,
   "id": "af000f15-bd0c-4c58-81bb-10f7fc23a527",
   "metadata": {
    "scrolled": true,
    "tags": []
   },
   "outputs": [],
   "source": [
    "unknown_df"
   ]
  },
  {
   "cell_type": "markdown",
   "id": "ebe0b35a-4d08-44ab-8677-8a8b9dbc01ef",
   "metadata": {},
   "source": [
    "#### Merging on `route_id` ONLY."
   ]
  },
  {
   "cell_type": "code",
   "execution_count": null,
   "id": "6f174362-16e2-4cff-b2b1-84e48318f110",
   "metadata": {},
   "outputs": [],
   "source": [
    "m2 = pd.merge(\n",
    "    sched_vp_df,\n",
    "    cardinal_dir_df2,\n",
    "    left_on=[\"schedule_gtfs_dataset_key\", \"Direction\", \"Route ID\"],\n",
    "    right_on=[\n",
    "        \"schedule_gtfs_dataset_key\",\n",
    "        \"direction_id\",\n",
    "        \"recent_route_id2\",\n",
    "    ],\n",
    "    how=\"left\",\n",
    "    indicator=True,\n",
    ")"
   ]
  },
  {
   "cell_type": "code",
   "execution_count": null,
   "id": "ee61d166-468d-48bc-b117-8609cba3ed99",
   "metadata": {},
   "outputs": [],
   "source": [
    "m2.stop_primary_direction.value_counts()"
   ]
  }
 ],
 "metadata": {
  "kernelspec": {
   "display_name": "Python 3 (ipykernel)",
   "language": "python",
   "name": "python3"
  },
  "language_info": {
   "codemirror_mode": {
    "name": "ipython",
    "version": 3
   },
   "file_extension": ".py",
   "mimetype": "text/x-python",
   "name": "python",
   "nbconvert_exporter": "python",
   "pygments_lexer": "ipython3",
   "version": "3.9.13"
  }
 },
 "nbformat": 4,
 "nbformat_minor": 5
}
