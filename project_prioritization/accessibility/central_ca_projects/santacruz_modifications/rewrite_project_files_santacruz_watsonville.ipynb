{
 "cells": [
  {
   "cell_type": "code",
   "execution_count": 1,
   "id": "802cbc3f-6b13-4644-aaea-5f1febdc5558",
   "metadata": {},
   "outputs": [],
   "source": [
    "# import os\n",
    "# os.environ[\"CALITP_BQ_MAX_BYTES\"] = str(800_000_000_000) "
   ]
  },
  {
   "cell_type": "code",
   "execution_count": 1,
   "id": "8a0f9f1b-174e-431b-9131-84c111a3b238",
   "metadata": {},
   "outputs": [
    {
     "name": "stderr",
     "output_type": "stream",
     "text": [
      "/opt/conda/lib/python3.9/site-packages/geopandas/_compat.py:124: UserWarning: The Shapely GEOS version (3.11.1-CAPI-1.17.1) is incompatible with the GEOS version PyGEOS was compiled with (3.10.1-CAPI-1.16.0). Conversions between both will be slow.\n",
      "  warnings.warn(\n",
      "/tmp/ipykernel_438/3465571729.py:2: DeprecationWarning: Shapely 2.0 is installed, but because PyGEOS is also installed, GeoPandas still uses PyGEOS by default. However, starting with version 0.14, the default will switch to Shapely. To force to use Shapely 2.0 now, you can either uninstall PyGEOS or set the environment variable USE_PYGEOS=0. You can do this before starting the Python process, or in your code before importing geopandas:\n",
      "\n",
      "import os\n",
      "os.environ['USE_PYGEOS'] = '0'\n",
      "import geopandas\n",
      "\n",
      "In the next release, GeoPandas will switch to using Shapely by default, even if PyGEOS is installed. If you only have PyGEOS installed to get speed-ups, this switch should be smooth. However, if you are using PyGEOS directly (calling PyGEOS functions on geometries from GeoPandas), this will then stop working and you are encouraged to migrate from PyGEOS to Shapely 2.0 (https://shapely.readthedocs.io/en/latest/migration_pygeos.html).\n",
      "  import geopandas as gpd\n"
     ]
    }
   ],
   "source": [
    "import pandas as pd\n",
    "import geopandas as gpd\n",
    "import matplotlib.pyplot as plt"
   ]
  },
  {
   "cell_type": "code",
   "execution_count": 2,
   "id": "84de755f-2d67-4dbf-b6ca-620c8d633572",
   "metadata": {},
   "outputs": [],
   "source": [
    "pd.set_option('display.max_columns', None)"
   ]
  },
  {
   "cell_type": "code",
   "execution_count": 3,
   "id": "62473c52-3c7a-40cb-846a-f554be252fb9",
   "metadata": {},
   "outputs": [],
   "source": [
    "import json"
   ]
  },
  {
   "cell_type": "code",
   "execution_count": 1,
   "id": "86291e8c-4b80-46b7-99eb-ef2f43b5bff8",
   "metadata": {},
   "outputs": [],
   "source": [
    "from calitp_data_analysis import utils"
   ]
  },
  {
   "cell_type": "code",
   "execution_count": 5,
   "id": "58f6be83-d014-49c1-923f-d415e4ead66d",
   "metadata": {},
   "outputs": [],
   "source": [
    "local_path = \"/home/jovyan/data-analyses/project_prioritization/accessibility/santacruz_modifications\""
   ]
  },
  {
   "cell_type": "code",
   "execution_count": 6,
   "id": "c8f53fea-68b1-4908-80a6-9a537e7c074c",
   "metadata": {},
   "outputs": [],
   "source": [
    "GCS_PATH = \"gs://calitp-analytics-data/data-analyses/project_prioritization/SantaCruz_Watsonville_Project_SHP_files\""
   ]
  },
  {
   "cell_type": "code",
   "execution_count": 7,
   "id": "56f90c33-af6f-4b47-b2f0-defb427fc141",
   "metadata": {},
   "outputs": [],
   "source": [
    "file = (pd.read_json(\"santacruz_auxiliary_lane.geojson\"))"
   ]
  },
  {
   "cell_type": "code",
   "execution_count": 8,
   "id": "7c169ff8-8111-4d97-84eb-338f16913303",
   "metadata": {},
   "outputs": [
    {
     "data": {
      "text/html": [
       "<div>\n",
       "<style scoped>\n",
       "    .dataframe tbody tr th:only-of-type {\n",
       "        vertical-align: middle;\n",
       "    }\n",
       "\n",
       "    .dataframe tbody tr th {\n",
       "        vertical-align: top;\n",
       "    }\n",
       "\n",
       "    .dataframe thead th {\n",
       "        text-align: right;\n",
       "    }\n",
       "</style>\n",
       "<table border=\"1\" class=\"dataframe\">\n",
       "  <thead>\n",
       "    <tr style=\"text-align: right;\">\n",
       "      <th></th>\n",
       "      <th>type</th>\n",
       "      <th>features</th>\n",
       "    </tr>\n",
       "  </thead>\n",
       "  <tbody>\n",
       "    <tr>\n",
       "      <th>0</th>\n",
       "      <td>FeatureCollection</td>\n",
       "      <td>{'geometry': {'type': 'MultiLineString', 'coor...</td>\n",
       "    </tr>\n",
       "  </tbody>\n",
       "</table>\n",
       "</div>"
      ],
      "text/plain": [
       "                type                                           features\n",
       "0  FeatureCollection  {'geometry': {'type': 'MultiLineString', 'coor..."
      ]
     },
     "execution_count": 8,
     "metadata": {},
     "output_type": "execute_result"
    }
   ],
   "source": [
    "file"
   ]
  },
  {
   "cell_type": "code",
   "execution_count": null,
   "id": "4ef23f03-4efb-42d8-a8e8-f61a61f2fb87",
   "metadata": {},
   "outputs": [],
   "source": []
  },
  {
   "cell_type": "code",
   "execution_count": 33,
   "id": "95957c78-fa7a-4272-a8c8-79f9184bff15",
   "metadata": {},
   "outputs": [],
   "source": [
    "# import json\n",
    "# with open('project_location.json') as json_file: \n",
    "#     data = json.load(json_file) \n",
    "# print(data['polygons'][0]['geometry']['coordinates'][0])"
   ]
  },
  {
   "cell_type": "code",
   "execution_count": null,
   "id": "759d0709-f645-4c7b-9c3e-9ebbc4205dbc",
   "metadata": {},
   "outputs": [],
   "source": [
    "#### Reading in json using pandas"
   ]
  },
  {
   "cell_type": "code",
   "execution_count": 37,
   "id": "dfc99d3c-bcf1-4cf3-be07-8e86cb3dfad9",
   "metadata": {},
   "outputs": [
    {
     "ename": "ValueError",
     "evalue": "All arrays must be of the same length",
     "output_type": "error",
     "traceback": [
      "\u001b[0;31m---------------------------------------------------------------------------\u001b[0m",
      "\u001b[0;31mValueError\u001b[0m                                Traceback (most recent call last)",
      "Cell \u001b[0;32mIn[37], line 2\u001b[0m\n\u001b[1;32m      1\u001b[0m \u001b[38;5;66;03m## error reading due to len of arrays not matching\u001b[39;00m\n\u001b[0;32m----> 2\u001b[0m line \u001b[38;5;241m=\u001b[39m \u001b[43mpd\u001b[49m\u001b[38;5;241;43m.\u001b[39;49m\u001b[43mread_json\u001b[49m\u001b[43m(\u001b[49m\u001b[38;5;124;43m\"\u001b[39;49m\u001b[38;5;124;43mproject_location.json\u001b[39;49m\u001b[38;5;124;43m\"\u001b[39;49m\u001b[43m)\u001b[49m\n",
      "File \u001b[0;32m/opt/conda/lib/python3.9/site-packages/pandas/util/_decorators.py:211\u001b[0m, in \u001b[0;36mdeprecate_kwarg.<locals>._deprecate_kwarg.<locals>.wrapper\u001b[0;34m(*args, **kwargs)\u001b[0m\n\u001b[1;32m    209\u001b[0m     \u001b[38;5;28;01melse\u001b[39;00m:\n\u001b[1;32m    210\u001b[0m         kwargs[new_arg_name] \u001b[38;5;241m=\u001b[39m new_arg_value\n\u001b[0;32m--> 211\u001b[0m \u001b[38;5;28;01mreturn\u001b[39;00m \u001b[43mfunc\u001b[49m\u001b[43m(\u001b[49m\u001b[38;5;241;43m*\u001b[39;49m\u001b[43margs\u001b[49m\u001b[43m,\u001b[49m\u001b[43m \u001b[49m\u001b[38;5;241;43m*\u001b[39;49m\u001b[38;5;241;43m*\u001b[39;49m\u001b[43mkwargs\u001b[49m\u001b[43m)\u001b[49m\n",
      "File \u001b[0;32m/opt/conda/lib/python3.9/site-packages/pandas/util/_decorators.py:331\u001b[0m, in \u001b[0;36mdeprecate_nonkeyword_arguments.<locals>.decorate.<locals>.wrapper\u001b[0;34m(*args, **kwargs)\u001b[0m\n\u001b[1;32m    325\u001b[0m \u001b[38;5;28;01mif\u001b[39;00m \u001b[38;5;28mlen\u001b[39m(args) \u001b[38;5;241m>\u001b[39m num_allow_args:\n\u001b[1;32m    326\u001b[0m     warnings\u001b[38;5;241m.\u001b[39mwarn(\n\u001b[1;32m    327\u001b[0m         msg\u001b[38;5;241m.\u001b[39mformat(arguments\u001b[38;5;241m=\u001b[39m_format_argument_list(allow_args)),\n\u001b[1;32m    328\u001b[0m         \u001b[38;5;167;01mFutureWarning\u001b[39;00m,\n\u001b[1;32m    329\u001b[0m         stacklevel\u001b[38;5;241m=\u001b[39mfind_stack_level(),\n\u001b[1;32m    330\u001b[0m     )\n\u001b[0;32m--> 331\u001b[0m \u001b[38;5;28;01mreturn\u001b[39;00m \u001b[43mfunc\u001b[49m\u001b[43m(\u001b[49m\u001b[38;5;241;43m*\u001b[39;49m\u001b[43margs\u001b[49m\u001b[43m,\u001b[49m\u001b[43m \u001b[49m\u001b[38;5;241;43m*\u001b[39;49m\u001b[38;5;241;43m*\u001b[39;49m\u001b[43mkwargs\u001b[49m\u001b[43m)\u001b[49m\n",
      "File \u001b[0;32m/opt/conda/lib/python3.9/site-packages/pandas/io/json/_json.py:757\u001b[0m, in \u001b[0;36mread_json\u001b[0;34m(path_or_buf, orient, typ, dtype, convert_axes, convert_dates, keep_default_dates, numpy, precise_float, date_unit, encoding, encoding_errors, lines, chunksize, compression, nrows, storage_options)\u001b[0m\n\u001b[1;32m    754\u001b[0m     \u001b[38;5;28;01mreturn\u001b[39;00m json_reader\n\u001b[1;32m    756\u001b[0m \u001b[38;5;28;01mwith\u001b[39;00m json_reader:\n\u001b[0;32m--> 757\u001b[0m     \u001b[38;5;28;01mreturn\u001b[39;00m \u001b[43mjson_reader\u001b[49m\u001b[38;5;241;43m.\u001b[39;49m\u001b[43mread\u001b[49m\u001b[43m(\u001b[49m\u001b[43m)\u001b[49m\n",
      "File \u001b[0;32m/opt/conda/lib/python3.9/site-packages/pandas/io/json/_json.py:915\u001b[0m, in \u001b[0;36mJsonReader.read\u001b[0;34m(self)\u001b[0m\n\u001b[1;32m    913\u001b[0m         obj \u001b[38;5;241m=\u001b[39m \u001b[38;5;28mself\u001b[39m\u001b[38;5;241m.\u001b[39m_get_object_parser(\u001b[38;5;28mself\u001b[39m\u001b[38;5;241m.\u001b[39m_combine_lines(data_lines))\n\u001b[1;32m    914\u001b[0m \u001b[38;5;28;01melse\u001b[39;00m:\n\u001b[0;32m--> 915\u001b[0m     obj \u001b[38;5;241m=\u001b[39m \u001b[38;5;28;43mself\u001b[39;49m\u001b[38;5;241;43m.\u001b[39;49m\u001b[43m_get_object_parser\u001b[49m\u001b[43m(\u001b[49m\u001b[38;5;28;43mself\u001b[39;49m\u001b[38;5;241;43m.\u001b[39;49m\u001b[43mdata\u001b[49m\u001b[43m)\u001b[49m\n\u001b[1;32m    916\u001b[0m \u001b[38;5;28mself\u001b[39m\u001b[38;5;241m.\u001b[39mclose()\n\u001b[1;32m    917\u001b[0m \u001b[38;5;28;01mreturn\u001b[39;00m obj\n",
      "File \u001b[0;32m/opt/conda/lib/python3.9/site-packages/pandas/io/json/_json.py:937\u001b[0m, in \u001b[0;36mJsonReader._get_object_parser\u001b[0;34m(self, json)\u001b[0m\n\u001b[1;32m    935\u001b[0m obj \u001b[38;5;241m=\u001b[39m \u001b[38;5;28;01mNone\u001b[39;00m\n\u001b[1;32m    936\u001b[0m \u001b[38;5;28;01mif\u001b[39;00m typ \u001b[38;5;241m==\u001b[39m \u001b[38;5;124m\"\u001b[39m\u001b[38;5;124mframe\u001b[39m\u001b[38;5;124m\"\u001b[39m:\n\u001b[0;32m--> 937\u001b[0m     obj \u001b[38;5;241m=\u001b[39m \u001b[43mFrameParser\u001b[49m\u001b[43m(\u001b[49m\u001b[43mjson\u001b[49m\u001b[43m,\u001b[49m\u001b[43m \u001b[49m\u001b[38;5;241;43m*\u001b[39;49m\u001b[38;5;241;43m*\u001b[39;49m\u001b[43mkwargs\u001b[49m\u001b[43m)\u001b[49m\u001b[38;5;241;43m.\u001b[39;49m\u001b[43mparse\u001b[49m\u001b[43m(\u001b[49m\u001b[43m)\u001b[49m\n\u001b[1;32m    939\u001b[0m \u001b[38;5;28;01mif\u001b[39;00m typ \u001b[38;5;241m==\u001b[39m \u001b[38;5;124m\"\u001b[39m\u001b[38;5;124mseries\u001b[39m\u001b[38;5;124m\"\u001b[39m \u001b[38;5;129;01mor\u001b[39;00m obj \u001b[38;5;129;01mis\u001b[39;00m \u001b[38;5;28;01mNone\u001b[39;00m:\n\u001b[1;32m    940\u001b[0m     \u001b[38;5;28;01mif\u001b[39;00m \u001b[38;5;129;01mnot\u001b[39;00m \u001b[38;5;28misinstance\u001b[39m(dtype, \u001b[38;5;28mbool\u001b[39m):\n",
      "File \u001b[0;32m/opt/conda/lib/python3.9/site-packages/pandas/io/json/_json.py:1064\u001b[0m, in \u001b[0;36mParser.parse\u001b[0;34m(self)\u001b[0m\n\u001b[1;32m   1062\u001b[0m     \u001b[38;5;28mself\u001b[39m\u001b[38;5;241m.\u001b[39m_parse_numpy()\n\u001b[1;32m   1063\u001b[0m \u001b[38;5;28;01melse\u001b[39;00m:\n\u001b[0;32m-> 1064\u001b[0m     \u001b[38;5;28;43mself\u001b[39;49m\u001b[38;5;241;43m.\u001b[39;49m\u001b[43m_parse_no_numpy\u001b[49m\u001b[43m(\u001b[49m\u001b[43m)\u001b[49m\n\u001b[1;32m   1066\u001b[0m \u001b[38;5;28;01mif\u001b[39;00m \u001b[38;5;28mself\u001b[39m\u001b[38;5;241m.\u001b[39mobj \u001b[38;5;129;01mis\u001b[39;00m \u001b[38;5;28;01mNone\u001b[39;00m:\n\u001b[1;32m   1067\u001b[0m     \u001b[38;5;28;01mreturn\u001b[39;00m \u001b[38;5;28;01mNone\u001b[39;00m\n",
      "File \u001b[0;32m/opt/conda/lib/python3.9/site-packages/pandas/io/json/_json.py:1320\u001b[0m, in \u001b[0;36mFrameParser._parse_no_numpy\u001b[0;34m(self)\u001b[0m\n\u001b[1;32m   1317\u001b[0m orient \u001b[38;5;241m=\u001b[39m \u001b[38;5;28mself\u001b[39m\u001b[38;5;241m.\u001b[39morient\n\u001b[1;32m   1319\u001b[0m \u001b[38;5;28;01mif\u001b[39;00m orient \u001b[38;5;241m==\u001b[39m \u001b[38;5;124m\"\u001b[39m\u001b[38;5;124mcolumns\u001b[39m\u001b[38;5;124m\"\u001b[39m:\n\u001b[0;32m-> 1320\u001b[0m     \u001b[38;5;28mself\u001b[39m\u001b[38;5;241m.\u001b[39mobj \u001b[38;5;241m=\u001b[39m \u001b[43mDataFrame\u001b[49m\u001b[43m(\u001b[49m\n\u001b[1;32m   1321\u001b[0m \u001b[43m        \u001b[49m\u001b[43mloads\u001b[49m\u001b[43m(\u001b[49m\u001b[43mjson\u001b[49m\u001b[43m,\u001b[49m\u001b[43m \u001b[49m\u001b[43mprecise_float\u001b[49m\u001b[38;5;241;43m=\u001b[39;49m\u001b[38;5;28;43mself\u001b[39;49m\u001b[38;5;241;43m.\u001b[39;49m\u001b[43mprecise_float\u001b[49m\u001b[43m)\u001b[49m\u001b[43m,\u001b[49m\u001b[43m \u001b[49m\u001b[43mdtype\u001b[49m\u001b[38;5;241;43m=\u001b[39;49m\u001b[38;5;28;43;01mNone\u001b[39;49;00m\n\u001b[1;32m   1322\u001b[0m \u001b[43m    \u001b[49m\u001b[43m)\u001b[49m\n\u001b[1;32m   1323\u001b[0m \u001b[38;5;28;01melif\u001b[39;00m orient \u001b[38;5;241m==\u001b[39m \u001b[38;5;124m\"\u001b[39m\u001b[38;5;124msplit\u001b[39m\u001b[38;5;124m\"\u001b[39m:\n\u001b[1;32m   1324\u001b[0m     decoded \u001b[38;5;241m=\u001b[39m {\n\u001b[1;32m   1325\u001b[0m         \u001b[38;5;28mstr\u001b[39m(k): v\n\u001b[1;32m   1326\u001b[0m         \u001b[38;5;28;01mfor\u001b[39;00m k, v \u001b[38;5;129;01min\u001b[39;00m loads(json, precise_float\u001b[38;5;241m=\u001b[39m\u001b[38;5;28mself\u001b[39m\u001b[38;5;241m.\u001b[39mprecise_float)\u001b[38;5;241m.\u001b[39mitems()\n\u001b[1;32m   1327\u001b[0m     }\n",
      "File \u001b[0;32m/opt/conda/lib/python3.9/site-packages/pandas/core/frame.py:664\u001b[0m, in \u001b[0;36mDataFrame.__init__\u001b[0;34m(self, data, index, columns, dtype, copy)\u001b[0m\n\u001b[1;32m    658\u001b[0m     mgr \u001b[38;5;241m=\u001b[39m \u001b[38;5;28mself\u001b[39m\u001b[38;5;241m.\u001b[39m_init_mgr(\n\u001b[1;32m    659\u001b[0m         data, axes\u001b[38;5;241m=\u001b[39m{\u001b[38;5;124m\"\u001b[39m\u001b[38;5;124mindex\u001b[39m\u001b[38;5;124m\"\u001b[39m: index, \u001b[38;5;124m\"\u001b[39m\u001b[38;5;124mcolumns\u001b[39m\u001b[38;5;124m\"\u001b[39m: columns}, dtype\u001b[38;5;241m=\u001b[39mdtype, copy\u001b[38;5;241m=\u001b[39mcopy\n\u001b[1;32m    660\u001b[0m     )\n\u001b[1;32m    662\u001b[0m \u001b[38;5;28;01melif\u001b[39;00m \u001b[38;5;28misinstance\u001b[39m(data, \u001b[38;5;28mdict\u001b[39m):\n\u001b[1;32m    663\u001b[0m     \u001b[38;5;66;03m# GH#38939 de facto copy defaults to False only in non-dict cases\u001b[39;00m\n\u001b[0;32m--> 664\u001b[0m     mgr \u001b[38;5;241m=\u001b[39m \u001b[43mdict_to_mgr\u001b[49m\u001b[43m(\u001b[49m\u001b[43mdata\u001b[49m\u001b[43m,\u001b[49m\u001b[43m \u001b[49m\u001b[43mindex\u001b[49m\u001b[43m,\u001b[49m\u001b[43m \u001b[49m\u001b[43mcolumns\u001b[49m\u001b[43m,\u001b[49m\u001b[43m \u001b[49m\u001b[43mdtype\u001b[49m\u001b[38;5;241;43m=\u001b[39;49m\u001b[43mdtype\u001b[49m\u001b[43m,\u001b[49m\u001b[43m \u001b[49m\u001b[43mcopy\u001b[49m\u001b[38;5;241;43m=\u001b[39;49m\u001b[43mcopy\u001b[49m\u001b[43m,\u001b[49m\u001b[43m \u001b[49m\u001b[43mtyp\u001b[49m\u001b[38;5;241;43m=\u001b[39;49m\u001b[43mmanager\u001b[49m\u001b[43m)\u001b[49m\n\u001b[1;32m    665\u001b[0m \u001b[38;5;28;01melif\u001b[39;00m \u001b[38;5;28misinstance\u001b[39m(data, ma\u001b[38;5;241m.\u001b[39mMaskedArray):\n\u001b[1;32m    666\u001b[0m     \u001b[38;5;28;01mimport\u001b[39;00m \u001b[38;5;21;01mnumpy\u001b[39;00m\u001b[38;5;21;01m.\u001b[39;00m\u001b[38;5;21;01mma\u001b[39;00m\u001b[38;5;21;01m.\u001b[39;00m\u001b[38;5;21;01mmrecords\u001b[39;00m \u001b[38;5;28;01mas\u001b[39;00m \u001b[38;5;21;01mmrecords\u001b[39;00m\n",
      "File \u001b[0;32m/opt/conda/lib/python3.9/site-packages/pandas/core/internals/construction.py:493\u001b[0m, in \u001b[0;36mdict_to_mgr\u001b[0;34m(data, index, columns, dtype, typ, copy)\u001b[0m\n\u001b[1;32m    489\u001b[0m     \u001b[38;5;28;01melse\u001b[39;00m:\n\u001b[1;32m    490\u001b[0m         \u001b[38;5;66;03m# dtype check to exclude e.g. range objects, scalars\u001b[39;00m\n\u001b[1;32m    491\u001b[0m         arrays \u001b[38;5;241m=\u001b[39m [x\u001b[38;5;241m.\u001b[39mcopy() \u001b[38;5;28;01mif\u001b[39;00m \u001b[38;5;28mhasattr\u001b[39m(x, \u001b[38;5;124m\"\u001b[39m\u001b[38;5;124mdtype\u001b[39m\u001b[38;5;124m\"\u001b[39m) \u001b[38;5;28;01melse\u001b[39;00m x \u001b[38;5;28;01mfor\u001b[39;00m x \u001b[38;5;129;01min\u001b[39;00m arrays]\n\u001b[0;32m--> 493\u001b[0m \u001b[38;5;28;01mreturn\u001b[39;00m \u001b[43marrays_to_mgr\u001b[49m\u001b[43m(\u001b[49m\u001b[43marrays\u001b[49m\u001b[43m,\u001b[49m\u001b[43m \u001b[49m\u001b[43mcolumns\u001b[49m\u001b[43m,\u001b[49m\u001b[43m \u001b[49m\u001b[43mindex\u001b[49m\u001b[43m,\u001b[49m\u001b[43m \u001b[49m\u001b[43mdtype\u001b[49m\u001b[38;5;241;43m=\u001b[39;49m\u001b[43mdtype\u001b[49m\u001b[43m,\u001b[49m\u001b[43m \u001b[49m\u001b[43mtyp\u001b[49m\u001b[38;5;241;43m=\u001b[39;49m\u001b[43mtyp\u001b[49m\u001b[43m,\u001b[49m\u001b[43m \u001b[49m\u001b[43mconsolidate\u001b[49m\u001b[38;5;241;43m=\u001b[39;49m\u001b[43mcopy\u001b[49m\u001b[43m)\u001b[49m\n",
      "File \u001b[0;32m/opt/conda/lib/python3.9/site-packages/pandas/core/internals/construction.py:118\u001b[0m, in \u001b[0;36marrays_to_mgr\u001b[0;34m(arrays, columns, index, dtype, verify_integrity, typ, consolidate)\u001b[0m\n\u001b[1;32m    115\u001b[0m \u001b[38;5;28;01mif\u001b[39;00m verify_integrity:\n\u001b[1;32m    116\u001b[0m     \u001b[38;5;66;03m# figure out the index, if necessary\u001b[39;00m\n\u001b[1;32m    117\u001b[0m     \u001b[38;5;28;01mif\u001b[39;00m index \u001b[38;5;129;01mis\u001b[39;00m \u001b[38;5;28;01mNone\u001b[39;00m:\n\u001b[0;32m--> 118\u001b[0m         index \u001b[38;5;241m=\u001b[39m \u001b[43m_extract_index\u001b[49m\u001b[43m(\u001b[49m\u001b[43marrays\u001b[49m\u001b[43m)\u001b[49m\n\u001b[1;32m    119\u001b[0m     \u001b[38;5;28;01melse\u001b[39;00m:\n\u001b[1;32m    120\u001b[0m         index \u001b[38;5;241m=\u001b[39m ensure_index(index)\n",
      "File \u001b[0;32m/opt/conda/lib/python3.9/site-packages/pandas/core/internals/construction.py:666\u001b[0m, in \u001b[0;36m_extract_index\u001b[0;34m(data)\u001b[0m\n\u001b[1;32m    664\u001b[0m lengths \u001b[38;5;241m=\u001b[39m \u001b[38;5;28mlist\u001b[39m(\u001b[38;5;28mset\u001b[39m(raw_lengths))\n\u001b[1;32m    665\u001b[0m \u001b[38;5;28;01mif\u001b[39;00m \u001b[38;5;28mlen\u001b[39m(lengths) \u001b[38;5;241m>\u001b[39m \u001b[38;5;241m1\u001b[39m:\n\u001b[0;32m--> 666\u001b[0m     \u001b[38;5;28;01mraise\u001b[39;00m \u001b[38;5;167;01mValueError\u001b[39;00m(\u001b[38;5;124m\"\u001b[39m\u001b[38;5;124mAll arrays must be of the same length\u001b[39m\u001b[38;5;124m\"\u001b[39m)\n\u001b[1;32m    668\u001b[0m \u001b[38;5;28;01mif\u001b[39;00m have_dicts:\n\u001b[1;32m    669\u001b[0m     \u001b[38;5;28;01mraise\u001b[39;00m \u001b[38;5;167;01mValueError\u001b[39;00m(\n\u001b[1;32m    670\u001b[0m         \u001b[38;5;124m\"\u001b[39m\u001b[38;5;124mMixing dicts with non-Series may lead to ambiguous ordering.\u001b[39m\u001b[38;5;124m\"\u001b[39m\n\u001b[1;32m    671\u001b[0m     )\n",
      "\u001b[0;31mValueError\u001b[0m: All arrays must be of the same length"
     ]
    }
   ],
   "source": [
    "## error reading due to len of arrays not matching\n",
    "line = pd.read_json(\"project_location.json\")"
   ]
  },
  {
   "cell_type": "code",
   "execution_count": 15,
   "id": "627ddf66-a527-43f2-b97e-92e0072be0d5",
   "metadata": {},
   "outputs": [],
   "source": [
    "input_file=json.load(open(\"project_location.json\", \"r\", encoding=\"utf-8\"))"
   ]
  },
  {
   "cell_type": "code",
   "execution_count": 16,
   "id": "05469f5b-c960-4fa7-a701-b352b6bcd2a2",
   "metadata": {},
   "outputs": [
    {
     "data": {
      "text/plain": [
       "{'description': '',\n",
       " 'name': 'East_Bay_Greenway2',\n",
       " 'allowedModes': ['BICYCLE', 'WALK', 'CAR'],\n",
       " 'bikeTimeFactor': 1,\n",
       " 'bikeLts': 1,\n",
       " 'carSpeedKph': 64,\n",
       " 'lineStrings': [[[-122.264614, 37.798344],\n",
       "   [-122.253103, 37.790666],\n",
       "   [-122.236232, 37.782242],\n",
       "   [-122.226696, 37.776169],\n",
       "   [-122.226997, 37.775288],\n",
       "   [-122.216908, 37.770577],\n",
       "   [-122.207489, 37.762719],\n",
       "   [-122.195695, 37.752455],\n",
       "   [-122.189072, 37.747044]],\n",
       "  [[-122.188866, 37.747123],\n",
       "   [-122.166714, 37.72922],\n",
       "   [-122.161212, 37.723988],\n",
       "   [-122.158006, 37.718641],\n",
       "   [-122.150451, 37.713519],\n",
       "   [-122.145514, 37.713248],\n",
       "   [-122.142809, 37.715351],\n",
       "   [-122.130088, 37.706307],\n",
       "   [-122.119125, 37.698943],\n",
       "   [-122.106279, 37.689975],\n",
       "   [-122.084974, 37.673342],\n",
       "   [-122.08177, 37.670128]]],\n",
       " 'walkTimeFactor': 1}"
      ]
     },
     "execution_count": 16,
     "metadata": {},
     "output_type": "execute_result"
    }
   ],
   "source": [
    "input_file"
   ]
  },
  {
   "cell_type": "code",
   "execution_count": 21,
   "id": "a8ae713f-d001-4b18-bb61-0bc5583ff98d",
   "metadata": {},
   "outputs": [],
   "source": [
    "data = pd.json_normalize(input_file, max_level=0)"
   ]
  },
  {
   "cell_type": "code",
   "execution_count": 22,
   "id": "ad65e799-fcf4-4846-8a8a-c663837a2aa9",
   "metadata": {},
   "outputs": [
    {
     "data": {
      "text/html": [
       "<div>\n",
       "<style scoped>\n",
       "    .dataframe tbody tr th:only-of-type {\n",
       "        vertical-align: middle;\n",
       "    }\n",
       "\n",
       "    .dataframe tbody tr th {\n",
       "        vertical-align: top;\n",
       "    }\n",
       "\n",
       "    .dataframe thead th {\n",
       "        text-align: right;\n",
       "    }\n",
       "</style>\n",
       "<table border=\"1\" class=\"dataframe\">\n",
       "  <thead>\n",
       "    <tr style=\"text-align: right;\">\n",
       "      <th></th>\n",
       "      <th>description</th>\n",
       "      <th>name</th>\n",
       "      <th>allowedModes</th>\n",
       "      <th>bikeTimeFactor</th>\n",
       "      <th>bikeLts</th>\n",
       "      <th>carSpeedKph</th>\n",
       "      <th>lineStrings</th>\n",
       "      <th>walkTimeFactor</th>\n",
       "    </tr>\n",
       "  </thead>\n",
       "  <tbody>\n",
       "    <tr>\n",
       "      <th>0</th>\n",
       "      <td></td>\n",
       "      <td>East_Bay_Greenway2</td>\n",
       "      <td>[BICYCLE, WALK, CAR]</td>\n",
       "      <td>1</td>\n",
       "      <td>1</td>\n",
       "      <td>64</td>\n",
       "      <td>[[[-122.264614, 37.798344], [-122.253103, 37.7...</td>\n",
       "      <td>1</td>\n",
       "    </tr>\n",
       "  </tbody>\n",
       "</table>\n",
       "</div>"
      ],
      "text/plain": [
       "  description                name          allowedModes  bikeTimeFactor  \\\n",
       "0              East_Bay_Greenway2  [BICYCLE, WALK, CAR]               1   \n",
       "\n",
       "   bikeLts  carSpeedKph                                        lineStrings  \\\n",
       "0        1           64  [[[-122.264614, 37.798344], [-122.253103, 37.7...   \n",
       "\n",
       "   walkTimeFactor  \n",
       "0               1  "
      ]
     },
     "execution_count": 22,
     "metadata": {},
     "output_type": "execute_result"
    }
   ],
   "source": [
    "data.sample()"
   ]
  },
  {
   "cell_type": "code",
   "execution_count": 24,
   "id": "9c1e3d7d-bb36-43d1-9a52-5e7cd4dd0a8d",
   "metadata": {},
   "outputs": [],
   "source": [
    "from siuba import *"
   ]
  },
  {
   "cell_type": "code",
   "execution_count": 25,
   "id": "ff06194d-37e6-4c60-94e3-4029258990bd",
   "metadata": {},
   "outputs": [],
   "source": [
    "data = data>>select(_.name, _.lineStrings)"
   ]
  },
  {
   "cell_type": "code",
   "execution_count": 26,
   "id": "a026e0f3-1834-47c5-997b-04261b26f843",
   "metadata": {},
   "outputs": [
    {
     "data": {
      "text/html": [
       "<div>\n",
       "<style scoped>\n",
       "    .dataframe tbody tr th:only-of-type {\n",
       "        vertical-align: middle;\n",
       "    }\n",
       "\n",
       "    .dataframe tbody tr th {\n",
       "        vertical-align: top;\n",
       "    }\n",
       "\n",
       "    .dataframe thead th {\n",
       "        text-align: right;\n",
       "    }\n",
       "</style>\n",
       "<table border=\"1\" class=\"dataframe\">\n",
       "  <thead>\n",
       "    <tr style=\"text-align: right;\">\n",
       "      <th></th>\n",
       "      <th>name</th>\n",
       "      <th>lineStrings</th>\n",
       "    </tr>\n",
       "  </thead>\n",
       "  <tbody>\n",
       "    <tr>\n",
       "      <th>0</th>\n",
       "      <td>East_Bay_Greenway2</td>\n",
       "      <td>[[[-122.264614, 37.798344], [-122.253103, 37.7...</td>\n",
       "    </tr>\n",
       "  </tbody>\n",
       "</table>\n",
       "</div>"
      ],
      "text/plain": [
       "                 name                                        lineStrings\n",
       "0  East_Bay_Greenway2  [[[-122.264614, 37.798344], [-122.253103, 37.7..."
      ]
     },
     "execution_count": 26,
     "metadata": {},
     "output_type": "execute_result"
    }
   ],
   "source": [
    "data"
   ]
  },
  {
   "cell_type": "code",
   "execution_count": 38,
   "id": "36b2851b-9055-4c17-83dd-fba06ce4c0aa",
   "metadata": {},
   "outputs": [
    {
     "ename": "TypeError",
     "evalue": "Input must be valid geometry objects: [[[-122.264614, 37.798344], [-122.253103, 37.790666], [-122.236232, 37.782242], [-122.226696, 37.776169], [-122.226997, 37.775288], [-122.216908, 37.770577], [-122.207489, 37.762719], [-122.195695, 37.752455], [-122.189072, 37.747044]], [[-122.188866, 37.747123], [-122.166714, 37.72922], [-122.161212, 37.723988], [-122.158006, 37.718641], [-122.150451, 37.713519], [-122.145514, 37.713248], [-122.142809, 37.715351], [-122.130088, 37.706307], [-122.119125, 37.698943], [-122.106279, 37.689975], [-122.084974, 37.673342], [-122.08177, 37.670128]]]",
     "output_type": "error",
     "traceback": [
      "\u001b[0;31m---------------------------------------------------------------------------\u001b[0m",
      "\u001b[0;31mTypeError\u001b[0m                                 Traceback (most recent call last)",
      "Cell \u001b[0;32mIn[38], line 2\u001b[0m\n\u001b[1;32m      1\u001b[0m \u001b[38;5;66;03m### Putting into a geodataframe\u001b[39;00m\n\u001b[0;32m----> 2\u001b[0m geo_data \u001b[38;5;241m=\u001b[39m \u001b[43mgpd\u001b[49m\u001b[38;5;241;43m.\u001b[39;49m\u001b[43mGeoDataFrame\u001b[49m\u001b[43m(\u001b[49m\u001b[43mdata\u001b[49m\u001b[43m,\u001b[49m\u001b[43m \u001b[49m\u001b[43mgeometry\u001b[49m\u001b[38;5;241;43m=\u001b[39;49m\u001b[38;5;124;43m'\u001b[39;49m\u001b[38;5;124;43mlineStrings\u001b[39;49m\u001b[38;5;124;43m'\u001b[39;49m\u001b[43m)\u001b[49m\n",
      "File \u001b[0;32m/opt/conda/lib/python3.9/site-packages/geopandas/geodataframe.py:191\u001b[0m, in \u001b[0;36mGeoDataFrame.__init__\u001b[0;34m(self, data, geometry, crs, *args, **kwargs)\u001b[0m\n\u001b[1;32m    183\u001b[0m     \u001b[38;5;28;01mif\u001b[39;00m (\n\u001b[1;32m    184\u001b[0m         \u001b[38;5;28mhasattr\u001b[39m(geometry, \u001b[38;5;124m\"\u001b[39m\u001b[38;5;124mcrs\u001b[39m\u001b[38;5;124m\"\u001b[39m)\n\u001b[1;32m    185\u001b[0m         \u001b[38;5;129;01mand\u001b[39;00m geometry\u001b[38;5;241m.\u001b[39mcrs\n\u001b[1;32m    186\u001b[0m         \u001b[38;5;129;01mand\u001b[39;00m crs\n\u001b[1;32m    187\u001b[0m         \u001b[38;5;129;01mand\u001b[39;00m \u001b[38;5;129;01mnot\u001b[39;00m geometry\u001b[38;5;241m.\u001b[39mcrs \u001b[38;5;241m==\u001b[39m crs\n\u001b[1;32m    188\u001b[0m     ):\n\u001b[1;32m    189\u001b[0m         \u001b[38;5;28;01mraise\u001b[39;00m \u001b[38;5;167;01mValueError\u001b[39;00m(crs_mismatch_error)\n\u001b[0;32m--> 191\u001b[0m     \u001b[38;5;28;43mself\u001b[39;49m\u001b[38;5;241;43m.\u001b[39;49m\u001b[43mset_geometry\u001b[49m\u001b[43m(\u001b[49m\u001b[43mgeometry\u001b[49m\u001b[43m,\u001b[49m\u001b[43m \u001b[49m\u001b[43minplace\u001b[49m\u001b[38;5;241;43m=\u001b[39;49m\u001b[38;5;28;43;01mTrue\u001b[39;49;00m\u001b[43m,\u001b[49m\u001b[43m \u001b[49m\u001b[43mcrs\u001b[49m\u001b[38;5;241;43m=\u001b[39;49m\u001b[43mcrs\u001b[49m\u001b[43m)\u001b[49m\n\u001b[1;32m    193\u001b[0m \u001b[38;5;28;01mif\u001b[39;00m geometry \u001b[38;5;129;01mis\u001b[39;00m \u001b[38;5;28;01mNone\u001b[39;00m \u001b[38;5;129;01mand\u001b[39;00m crs:\n\u001b[1;32m    194\u001b[0m     \u001b[38;5;28;01mraise\u001b[39;00m \u001b[38;5;167;01mValueError\u001b[39;00m(\n\u001b[1;32m    195\u001b[0m         \u001b[38;5;124m\"\u001b[39m\u001b[38;5;124mAssigning CRS to a GeoDataFrame without a geometry column is not \u001b[39m\u001b[38;5;124m\"\u001b[39m\n\u001b[1;32m    196\u001b[0m         \u001b[38;5;124m\"\u001b[39m\u001b[38;5;124msupported. Supply geometry using the \u001b[39m\u001b[38;5;124m'\u001b[39m\u001b[38;5;124mgeometry=\u001b[39m\u001b[38;5;124m'\u001b[39m\u001b[38;5;124m keyword argument, \u001b[39m\u001b[38;5;124m\"\u001b[39m\n\u001b[1;32m    197\u001b[0m         \u001b[38;5;124m\"\u001b[39m\u001b[38;5;124mor by providing a DataFrame with column name \u001b[39m\u001b[38;5;124m'\u001b[39m\u001b[38;5;124mgeometry\u001b[39m\u001b[38;5;124m'\u001b[39m\u001b[38;5;124m\"\u001b[39m,\n\u001b[1;32m    198\u001b[0m     )\n",
      "File \u001b[0;32m/opt/conda/lib/python3.9/site-packages/geopandas/geodataframe.py:348\u001b[0m, in \u001b[0;36mGeoDataFrame.set_geometry\u001b[0;34m(self, col, drop, inplace, crs)\u001b[0m\n\u001b[1;32m    345\u001b[0m     level\u001b[38;5;241m.\u001b[39mcrs \u001b[38;5;241m=\u001b[39m crs\n\u001b[1;32m    347\u001b[0m \u001b[38;5;66;03m# Check that we are using a listlike of geometries\u001b[39;00m\n\u001b[0;32m--> 348\u001b[0m level \u001b[38;5;241m=\u001b[39m \u001b[43m_ensure_geometry\u001b[49m\u001b[43m(\u001b[49m\u001b[43mlevel\u001b[49m\u001b[43m,\u001b[49m\u001b[43m \u001b[49m\u001b[43mcrs\u001b[49m\u001b[38;5;241;43m=\u001b[39;49m\u001b[43mcrs\u001b[49m\u001b[43m)\u001b[49m\n\u001b[1;32m    349\u001b[0m \u001b[38;5;66;03m# update _geometry_column_name prior to assignment\u001b[39;00m\n\u001b[1;32m    350\u001b[0m \u001b[38;5;66;03m# to avoid default is None warning\u001b[39;00m\n\u001b[1;32m    351\u001b[0m frame\u001b[38;5;241m.\u001b[39m_geometry_column_name \u001b[38;5;241m=\u001b[39m geo_column_name\n",
      "File \u001b[0;32m/opt/conda/lib/python3.9/site-packages/geopandas/geodataframe.py:56\u001b[0m, in \u001b[0;36m_ensure_geometry\u001b[0;34m(data, crs)\u001b[0m\n\u001b[1;32m     54\u001b[0m \u001b[38;5;28;01melse\u001b[39;00m:\n\u001b[1;32m     55\u001b[0m     \u001b[38;5;28;01mif\u001b[39;00m \u001b[38;5;28misinstance\u001b[39m(data, Series):\n\u001b[0;32m---> 56\u001b[0m         out \u001b[38;5;241m=\u001b[39m \u001b[43mfrom_shapely\u001b[49m\u001b[43m(\u001b[49m\u001b[43mnp\u001b[49m\u001b[38;5;241;43m.\u001b[39;49m\u001b[43masarray\u001b[49m\u001b[43m(\u001b[49m\u001b[43mdata\u001b[49m\u001b[43m)\u001b[49m\u001b[43m,\u001b[49m\u001b[43m \u001b[49m\u001b[43mcrs\u001b[49m\u001b[38;5;241;43m=\u001b[39;49m\u001b[43mcrs\u001b[49m\u001b[43m)\u001b[49m\n\u001b[1;32m     57\u001b[0m         \u001b[38;5;28;01mreturn\u001b[39;00m GeoSeries(out, index\u001b[38;5;241m=\u001b[39mdata\u001b[38;5;241m.\u001b[39mindex, name\u001b[38;5;241m=\u001b[39mdata\u001b[38;5;241m.\u001b[39mname)\n\u001b[1;32m     58\u001b[0m     \u001b[38;5;28;01melse\u001b[39;00m:\n",
      "File \u001b[0;32m/opt/conda/lib/python3.9/site-packages/geopandas/array.py:158\u001b[0m, in \u001b[0;36mfrom_shapely\u001b[0;34m(data, crs)\u001b[0m\n\u001b[1;32m    142\u001b[0m \u001b[38;5;28;01mdef\u001b[39;00m \u001b[38;5;21mfrom_shapely\u001b[39m(data, crs\u001b[38;5;241m=\u001b[39m\u001b[38;5;28;01mNone\u001b[39;00m):\n\u001b[1;32m    143\u001b[0m \u001b[38;5;250m    \u001b[39m\u001b[38;5;124;03m\"\"\"\u001b[39;00m\n\u001b[1;32m    144\u001b[0m \u001b[38;5;124;03m    Convert a list or array of shapely objects to a GeometryArray.\u001b[39;00m\n\u001b[1;32m    145\u001b[0m \n\u001b[0;32m   (...)\u001b[0m\n\u001b[1;32m    156\u001b[0m \n\u001b[1;32m    157\u001b[0m \u001b[38;5;124;03m    \"\"\"\u001b[39;00m\n\u001b[0;32m--> 158\u001b[0m     \u001b[38;5;28;01mreturn\u001b[39;00m GeometryArray(\u001b[43mvectorized\u001b[49m\u001b[38;5;241;43m.\u001b[39;49m\u001b[43mfrom_shapely\u001b[49m\u001b[43m(\u001b[49m\u001b[43mdata\u001b[49m\u001b[43m)\u001b[49m, crs\u001b[38;5;241m=\u001b[39mcrs)\n",
      "File \u001b[0;32m/opt/conda/lib/python3.9/site-packages/geopandas/_vectorized.py:148\u001b[0m, in \u001b[0;36mfrom_shapely\u001b[0;34m(data)\u001b[0m\n\u001b[1;32m    146\u001b[0m         out\u001b[38;5;241m.\u001b[39mappend(\u001b[38;5;28;01mNone\u001b[39;00m)\n\u001b[1;32m    147\u001b[0m     \u001b[38;5;28;01melse\u001b[39;00m:\n\u001b[0;32m--> 148\u001b[0m         \u001b[38;5;28;01mraise\u001b[39;00m \u001b[38;5;167;01mTypeError\u001b[39;00m(\u001b[38;5;124m\"\u001b[39m\u001b[38;5;124mInput must be valid geometry objects: \u001b[39m\u001b[38;5;132;01m{0}\u001b[39;00m\u001b[38;5;124m\"\u001b[39m\u001b[38;5;241m.\u001b[39mformat(geom))\n\u001b[1;32m    150\u001b[0m \u001b[38;5;28;01mif\u001b[39;00m compat\u001b[38;5;241m.\u001b[39mUSE_PYGEOS:\n\u001b[1;32m    151\u001b[0m     \u001b[38;5;28;01mreturn\u001b[39;00m np\u001b[38;5;241m.\u001b[39marray(out, dtype\u001b[38;5;241m=\u001b[39m\u001b[38;5;28mobject\u001b[39m)\n",
      "\u001b[0;31mTypeError\u001b[0m: Input must be valid geometry objects: [[[-122.264614, 37.798344], [-122.253103, 37.790666], [-122.236232, 37.782242], [-122.226696, 37.776169], [-122.226997, 37.775288], [-122.216908, 37.770577], [-122.207489, 37.762719], [-122.195695, 37.752455], [-122.189072, 37.747044]], [[-122.188866, 37.747123], [-122.166714, 37.72922], [-122.161212, 37.723988], [-122.158006, 37.718641], [-122.150451, 37.713519], [-122.145514, 37.713248], [-122.142809, 37.715351], [-122.130088, 37.706307], [-122.119125, 37.698943], [-122.106279, 37.689975], [-122.084974, 37.673342], [-122.08177, 37.670128]]]"
     ]
    }
   ],
   "source": [
    "### Putting into a geodataframe\n",
    "geo_data = gpd.GeoDataFrame(data, geometry='lineStrings')"
   ]
  },
  {
   "cell_type": "code",
   "execution_count": 27,
   "id": "a41533e0-dc29-4fea-816a-eb92c4d53fee",
   "metadata": {},
   "outputs": [],
   "source": [
    "result = data.to_json(orient=\"index\")"
   ]
  },
  {
   "cell_type": "code",
   "execution_count": 28,
   "id": "112185b0-9b5e-4859-88ee-f78886cbda7f",
   "metadata": {},
   "outputs": [
    {
     "data": {
      "text/plain": [
       "'{\"0\":{\"name\":\"East_Bay_Greenway2\",\"lineStrings\":[[[-122.264614,37.798344],[-122.253103,37.790666],[-122.236232,37.782242],[-122.226696,37.776169],[-122.226997,37.775288],[-122.216908,37.770577],[-122.207489,37.762719],[-122.195695,37.752455],[-122.189072,37.747044]],[[-122.188866,37.747123],[-122.166714,37.72922],[-122.161212,37.723988],[-122.158006,37.718641],[-122.150451,37.713519],[-122.145514,37.713248],[-122.142809,37.715351],[-122.130088,37.706307],[-122.119125,37.698943],[-122.106279,37.689975],[-122.084974,37.673342],[-122.08177,37.670128]]]}}'"
      ]
     },
     "execution_count": 28,
     "metadata": {},
     "output_type": "execute_result"
    }
   ],
   "source": [
    "result"
   ]
  },
  {
   "cell_type": "code",
   "execution_count": null,
   "id": "7be5d75d-cd1c-4bdf-83d7-9fd16ea4845c",
   "metadata": {},
   "outputs": [],
   "source": []
  },
  {
   "cell_type": "code",
   "execution_count": null,
   "id": "34e2379d-38ad-424b-b7a6-98785ddbb811",
   "metadata": {},
   "outputs": [],
   "source": []
  },
  {
   "cell_type": "code",
   "execution_count": null,
   "id": "379e8591-c16c-459e-9e38-3ca5c6ede4c2",
   "metadata": {},
   "outputs": [],
   "source": []
  },
  {
   "cell_type": "code",
   "execution_count": null,
   "id": "f6958c5c-4a7f-49ce-bbff-e7b863eda1db",
   "metadata": {},
   "outputs": [],
   "source": []
  },
  {
   "cell_type": "markdown",
   "id": "495dd1aa-05b7-4dda-9769-d1a5ae3a3ab8",
   "metadata": {},
   "source": [
    "#### Project to Shape file"
   ]
  },
  {
   "cell_type": "code",
   "execution_count": null,
   "id": "671ebcf6-7e64-4dec-ac7a-6a669036f6e6",
   "metadata": {},
   "outputs": [],
   "source": [
    "multimodal_street = gpd.read_file('santacruz_multimodal_street.geojson')"
   ]
  },
  {
   "cell_type": "code",
   "execution_count": null,
   "id": "a6f45547-9eda-42c2-9836-9aabc6336ea9",
   "metadata": {},
   "outputs": [
    {
     "data": {
      "text/html": [
       "<div>\n",
       "<style scoped>\n",
       "    .dataframe tbody tr th:only-of-type {\n",
       "        vertical-align: middle;\n",
       "    }\n",
       "\n",
       "    .dataframe tbody tr th {\n",
       "        vertical-align: top;\n",
       "    }\n",
       "\n",
       "    .dataframe thead th {\n",
       "        text-align: right;\n",
       "    }\n",
       "</style>\n",
       "<table border=\"1\" class=\"dataframe\">\n",
       "  <thead>\n",
       "    <tr style=\"text-align: right;\">\n",
       "      <th></th>\n",
       "      <th>geometry</th>\n",
       "    </tr>\n",
       "  </thead>\n",
       "  <tbody>\n",
       "    <tr>\n",
       "      <th>0</th>\n",
       "      <td>POLYGON ((-121.87154 36.97216, -121.87173 36.9...</td>\n",
       "    </tr>\n",
       "  </tbody>\n",
       "</table>\n",
       "</div>"
      ],
      "text/plain": [
       "                                            geometry\n",
       "0  POLYGON ((-121.87154 36.97216, -121.87173 36.9..."
      ]
     },
     "execution_count": 13,
     "metadata": {},
     "output_type": "execute_result"
    }
   ],
   "source": [
    "multimodal_street"
   ]
  },
  {
   "cell_type": "code",
   "execution_count": null,
   "id": "08935f2a-d932-42e0-ba03-f3af9ba6620e",
   "metadata": {},
   "outputs": [
    {
     "data": {
      "image/png": "[encoded data removed]",
      "text/plain": [
       "<Figure size 640x480 with 1 Axes>"
      ]
     },
     "metadata": {},
     "output_type": "display_data"
    }
   ],
   "source": [
    "ax = multimodal_street.plot(color='blue')"
   ]
  },
  {
   "cell_type": "code",
   "execution_count": null,
   "id": "cf57fa32-4c3c-4f6a-b808-bc1e443cf34d",
   "metadata": {},
   "outputs": [],
   "source": [
    "# multimodal_street.to_file('sc_multimodal_street.shp')  "
   ]
  },
  {
   "cell_type": "code",
   "execution_count": null,
   "id": "ce85076a-e973-4e87-b705-a37b09617fd9",
   "metadata": {},
   "outputs": [
    {
     "name": "stdout",
     "output_type": "stream",
     "text": [
      "Path name: sc_multimodal_street.zip\n",
      "Dirname (1st element of path): sc_multimodal_street\n",
      "Shapefile name: sc_multimodal_street.shp\n",
      "Shapefile component parts folder: sc_multimodal_street/sc_multimodal_street.shp\n"
     ]
    }
   ],
   "source": [
    "utils.make_zipped_shapefile(multimodal_street,\n",
    "                             \"sc_multimodal_street.zip\", \n",
    "                            # gcs_folder = f\"{GCS_PATH}/\"\n",
    "                           )"
   ]
  },
  {
   "cell_type": "code",
   "execution_count": null,
   "id": "464c3e3b-1b62-4af6-b46e-845542b0c119",
   "metadata": {},
   "outputs": [],
   "source": []
  },
  {
   "cell_type": "code",
   "execution_count": null,
   "id": "ee090c2e-94ff-49d6-a493-3401584609a3",
   "metadata": {},
   "outputs": [],
   "source": []
  },
  {
   "cell_type": "code",
   "execution_count": null,
   "id": "05e8e67a-498e-4477-8f32-5ca8cf721765",
   "metadata": {},
   "outputs": [],
   "source": [
    "bikeped_overcrossing = gpd.read_file('santacruz_bikeped_overcrossing.geojson')"
   ]
  },
  {
   "cell_type": "code",
   "execution_count": null,
   "id": "7a1eee5a-35e6-43dc-bfcc-7b37707b5aae",
   "metadata": {},
   "outputs": [
    {
     "data": {
      "text/html": [
       "<div>\n",
       "<style scoped>\n",
       "    .dataframe tbody tr th:only-of-type {\n",
       "        vertical-align: middle;\n",
       "    }\n",
       "\n",
       "    .dataframe tbody tr th {\n",
       "        vertical-align: top;\n",
       "    }\n",
       "\n",
       "    .dataframe thead th {\n",
       "        text-align: right;\n",
       "    }\n",
       "</style>\n",
       "<table border=\"1\" class=\"dataframe\">\n",
       "  <thead>\n",
       "    <tr style=\"text-align: right;\">\n",
       "      <th></th>\n",
       "      <th>geometry</th>\n",
       "    </tr>\n",
       "  </thead>\n",
       "  <tbody>\n",
       "    <tr>\n",
       "      <th>0</th>\n",
       "      <td>MULTILINESTRING ((-121.91180 36.97533, -121.90...</td>\n",
       "    </tr>\n",
       "  </tbody>\n",
       "</table>\n",
       "</div>"
      ],
      "text/plain": [
       "                                            geometry\n",
       "0  MULTILINESTRING ((-121.91180 36.97533, -121.90..."
      ]
     },
     "execution_count": 18,
     "metadata": {},
     "output_type": "execute_result"
    }
   ],
   "source": [
    "bikeped_overcrossing"
   ]
  },
  {
   "cell_type": "code",
   "execution_count": null,
   "id": "9bc34cdd-4758-49c4-9368-b531700cb7f7",
   "metadata": {},
   "outputs": [
    {
     "data": {
      "image/png": "[encoded data removed]",
      "text/plain": [
       "<Figure size 640x480 with 1 Axes>"
      ]
     },
     "metadata": {},
     "output_type": "display_data"
    }
   ],
   "source": [
    "ax2 = bikeped_overcrossing.plot(color=\"green\")"
   ]
  },
  {
   "cell_type": "code",
   "execution_count": null,
   "id": "0636d33c-1eb4-4836-8559-508cb5a2c47b",
   "metadata": {},
   "outputs": [],
   "source": [
    "# bikeped_overcrossing.to_file('sc_bikeped_overcrossing.shp')  "
   ]
  },
  {
   "cell_type": "code",
   "execution_count": null,
   "id": "6001ecca-cf9a-4ad6-a6a0-1cde3ada05c3",
   "metadata": {},
   "outputs": [
    {
     "name": "stdout",
     "output_type": "stream",
     "text": [
      "Path name: sc_bikeped_overcrossing.zip\n",
      "Dirname (1st element of path): sc_bikeped_overcrossing\n",
      "Shapefile name: sc_bikeped_overcrossing.shp\n",
      "Shapefile component parts folder: sc_bikeped_overcrossing/sc_bikeped_overcrossing.shp\n"
     ]
    }
   ],
   "source": [
    "utils.make_zipped_shapefile(bikeped_overcrossing,\n",
    "                             \"sc_bikeped_overcrossing.zip\", \n",
    "                            # gcs_folder = f\"{GCS_PATH}/\"\n",
    "                           )"
   ]
  },
  {
   "cell_type": "code",
   "execution_count": null,
   "id": "6d6594d5-3567-4440-867c-31f848e952cc",
   "metadata": {},
   "outputs": [],
   "source": []
  },
  {
   "cell_type": "code",
   "execution_count": null,
   "id": "ff604cf2-63fb-42da-b968-ad50984729ca",
   "metadata": {},
   "outputs": [],
   "source": []
  },
  {
   "cell_type": "code",
   "execution_count": null,
   "id": "d329dbef-3cdf-4449-b29a-8f5671d97687",
   "metadata": {},
   "outputs": [],
   "source": [
    "auxiliary_lane = gpd.read_file('santacruz_auxiliary_lane.geojson')"
   ]
  },
  {
   "cell_type": "code",
   "execution_count": null,
   "id": "7fe25a0d-1bf7-4aca-9425-cd4a0f1d3680",
   "metadata": {},
   "outputs": [
    {
     "data": {
      "text/html": [
       "<div>\n",
       "<style scoped>\n",
       "    .dataframe tbody tr th:only-of-type {\n",
       "        vertical-align: middle;\n",
       "    }\n",
       "\n",
       "    .dataframe tbody tr th {\n",
       "        vertical-align: top;\n",
       "    }\n",
       "\n",
       "    .dataframe thead th {\n",
       "        text-align: right;\n",
       "    }\n",
       "</style>\n",
       "<table border=\"1\" class=\"dataframe\">\n",
       "  <thead>\n",
       "    <tr style=\"text-align: right;\">\n",
       "      <th></th>\n",
       "      <th>geometry</th>\n",
       "    </tr>\n",
       "  </thead>\n",
       "  <tbody>\n",
       "    <tr>\n",
       "      <th>0</th>\n",
       "      <td>MULTILINESTRING ((-121.88405 36.97408, -121.88...</td>\n",
       "    </tr>\n",
       "  </tbody>\n",
       "</table>\n",
       "</div>"
      ],
      "text/plain": [
       "                                            geometry\n",
       "0  MULTILINESTRING ((-121.88405 36.97408, -121.88..."
      ]
     },
     "execution_count": 23,
     "metadata": {},
     "output_type": "execute_result"
    }
   ],
   "source": [
    "auxiliary_lane"
   ]
  },
  {
   "cell_type": "code",
   "execution_count": null,
   "id": "c3815cfc-6137-4889-9430-dc00a70d33c8",
   "metadata": {},
   "outputs": [
    {
     "data": {
      "image/png": "[encoded data removed]",
      "text/plain": [
       "<Figure size 640x480 with 1 Axes>"
      ]
     },
     "metadata": {},
     "output_type": "display_data"
    }
   ],
   "source": [
    "ax3 = auxiliary_lane.plot(color=\"orange\")"
   ]
  },
  {
   "cell_type": "code",
   "execution_count": null,
   "id": "a64f3947-ad2c-4ba6-bfea-d1f73e635b29",
   "metadata": {},
   "outputs": [],
   "source": [
    "# proj3.to_file('sc_auxiliary_lane.shp')  "
   ]
  },
  {
   "cell_type": "code",
   "execution_count": null,
   "id": "6e11af1c-3475-4744-a20f-21fcca83d2ac",
   "metadata": {},
   "outputs": [
    {
     "name": "stdout",
     "output_type": "stream",
     "text": [
      "Path name: sc_auxiliary_lane.zip\n",
      "Dirname (1st element of path): sc_auxiliary_lane\n",
      "Shapefile name: sc_auxiliary_lane.shp\n",
      "Shapefile component parts folder: sc_auxiliary_lane/sc_auxiliary_lane.shp\n"
     ]
    }
   ],
   "source": [
    "utils.make_zipped_shapefile(auxiliary_lane,\n",
    "                             \"sc_auxiliary_lane.zip\", \n",
    "                            # gcs_folder = f\"{GCS_PATH}/\"\n",
    "                           )"
   ]
  },
  {
   "cell_type": "code",
   "execution_count": null,
   "id": "fe14934d-a0f2-4490-ab3d-c287692f7c87",
   "metadata": {},
   "outputs": [],
   "source": []
  },
  {
   "cell_type": "code",
   "execution_count": null,
   "id": "37ed5aee-44a8-4ab4-b01c-fc1de7e4a274",
   "metadata": {},
   "outputs": [],
   "source": []
  },
  {
   "cell_type": "code",
   "execution_count": null,
   "id": "84abc271-b01a-4224-9b38-5212cef29ecb",
   "metadata": {},
   "outputs": [],
   "source": [
    "bus_on_shoulder = gpd.read_file('santacruz_bus_on_shoulder.geojson')"
   ]
  },
  {
   "cell_type": "code",
   "execution_count": null,
   "id": "34895de6-6645-4947-be52-9fdaa7b571f7",
   "metadata": {},
   "outputs": [
    {
     "data": {
      "text/html": [
       "<div>\n",
       "<style scoped>\n",
       "    .dataframe tbody tr th:only-of-type {\n",
       "        vertical-align: middle;\n",
       "    }\n",
       "\n",
       "    .dataframe tbody tr th {\n",
       "        vertical-align: top;\n",
       "    }\n",
       "\n",
       "    .dataframe thead th {\n",
       "        text-align: right;\n",
       "    }\n",
       "</style>\n",
       "<table border=\"1\" class=\"dataframe\">\n",
       "  <thead>\n",
       "    <tr style=\"text-align: right;\">\n",
       "      <th></th>\n",
       "      <th>geometry</th>\n",
       "    </tr>\n",
       "  </thead>\n",
       "  <tbody>\n",
       "    <tr>\n",
       "      <th>0</th>\n",
       "      <td>MULTILINESTRING ((-121.89204 36.97521, -121.89...</td>\n",
       "    </tr>\n",
       "  </tbody>\n",
       "</table>\n",
       "</div>"
      ],
      "text/plain": [
       "                                            geometry\n",
       "0  MULTILINESTRING ((-121.89204 36.97521, -121.89..."
      ]
     },
     "execution_count": 28,
     "metadata": {},
     "output_type": "execute_result"
    }
   ],
   "source": [
    "bus_on_shoulder"
   ]
  },
  {
   "cell_type": "code",
   "execution_count": null,
   "id": "3ded44c2-7180-442b-8efc-0544d83f31cf",
   "metadata": {},
   "outputs": [
    {
     "data": {
      "image/png": "[encoded data removed]",
      "text/plain": [
       "<Figure size 640x480 with 1 Axes>"
      ]
     },
     "metadata": {},
     "output_type": "display_data"
    }
   ],
   "source": [
    "ax4 = bus_on_shoulder.plot(color=\"purple\")"
   ]
  },
  {
   "cell_type": "code",
   "execution_count": null,
   "id": "41761c88-81ff-4498-9118-45f859b84492",
   "metadata": {},
   "outputs": [],
   "source": [
    "# bus_on_shoulder.to_file('sc_bus_on_shoulder.shp')  "
   ]
  },
  {
   "cell_type": "code",
   "execution_count": null,
   "id": "94fb618e-fafd-4472-b6a5-c47f1f5c1144",
   "metadata": {},
   "outputs": [
    {
     "name": "stdout",
     "output_type": "stream",
     "text": [
      "Path name: sc_bus_on_shoulder.zip\n",
      "Dirname (1st element of path): sc_bus_on_shoulder\n",
      "Shapefile name: sc_bus_on_shoulder.shp\n",
      "Shapefile component parts folder: sc_bus_on_shoulder/sc_bus_on_shoulder.shp\n"
     ]
    }
   ],
   "source": [
    "utils.make_zipped_shapefile(bus_on_shoulder,\n",
    "                             \"sc_bus_on_shoulder.zip\", \n",
    "                            # gcs_folder = f\"{GCS_PATH}/\"\n",
    "                           )"
   ]
  },
  {
   "cell_type": "code",
   "execution_count": null,
   "id": "e146a90a-0485-4eeb-bf89-0ace5568da5c",
   "metadata": {},
   "outputs": [],
   "source": []
  },
  {
   "cell_type": "code",
   "execution_count": null,
   "id": "e74d3f87-29e9-41a4-8a1e-f71f14e92db1",
   "metadata": {},
   "outputs": [],
   "source": []
  },
  {
   "cell_type": "markdown",
   "id": "9f0f2a33-e0b0-4528-b930-06431b8b8aa1",
   "metadata": {},
   "source": [
    "#### Concat Project locations"
   ]
  },
  {
   "cell_type": "markdown",
   "id": "eb4b52da-3b7f-4762-8216-d6d52b70bb24",
   "metadata": {},
   "source": [
    "**issue:** zipping combined projects returns folder containing individual shapefiles. Different types of strings is determining factor"
   ]
  },
  {
   "cell_type": "code",
   "execution_count": null,
   "id": "dc967fca-8405-4edf-ada1-8ad6a566602b",
   "metadata": {},
   "outputs": [],
   "source": [
    "#### for bike ped\n",
    "proj_bike_ped = gpd.GeoDataFrame(pd.concat([multimodal_street, bikeped_overcrossing]))"
   ]
  },
  {
   "cell_type": "code",
   "execution_count": null,
   "id": "75bd4661-8f8f-4d31-b801-909693ae13f9",
   "metadata": {},
   "outputs": [
    {
     "data": {
      "text/plain": [
       "<AxesSubplot:>"
      ]
     },
     "execution_count": 33,
     "metadata": {},
     "output_type": "execute_result"
    },
    {
     "data": {
      "image/png": "[encoded data removed]",
      "text/plain": [
       "<Figure size 640x480 with 1 Axes>"
      ]
     },
     "metadata": {},
     "output_type": "display_data"
    }
   ],
   "source": [
    "proj_bike_ped.plot()"
   ]
  },
  {
   "cell_type": "code",
   "execution_count": null,
   "id": "785abcb2-aa64-4211-b03e-c8cba251a16b",
   "metadata": {},
   "outputs": [],
   "source": [
    "# proj_bike_ped.to_file('sc_proj_bike_ped.shp')  "
   ]
  },
  {
   "cell_type": "code",
   "execution_count": null,
   "id": "ad838877-d1e5-4cc4-b78c-aceb874ee3cf",
   "metadata": {},
   "outputs": [],
   "source": [
    "# utils.make_zipped_shapefile(proj_bike_ped,\n",
    "#                              \"sc_proj_bike_ped.zip\", \n",
    "#                             # gcs_folder = f\"{GCS_PATH}/\"\n",
    "#                            )"
   ]
  },
  {
   "cell_type": "code",
   "execution_count": null,
   "id": "97e27570-387f-43fa-9d6f-53ae9ed6a4b0",
   "metadata": {},
   "outputs": [],
   "source": []
  },
  {
   "cell_type": "code",
   "execution_count": null,
   "id": "17707b0b-58e2-4320-8ab4-b53a76d22cca",
   "metadata": {},
   "outputs": [],
   "source": []
  },
  {
   "cell_type": "code",
   "execution_count": null,
   "id": "5c8b41a6-11ef-4644-a4a7-46e3bd537211",
   "metadata": {},
   "outputs": [],
   "source": [
    "## for car \n",
    "\n",
    "proj_car = gpd.GeoDataFrame(pd.concat([multimodal_street, auxiliary_lane]))"
   ]
  },
  {
   "cell_type": "code",
   "execution_count": null,
   "id": "81237f01-73fa-4b38-bf4b-bc15d0d0c638",
   "metadata": {},
   "outputs": [
    {
     "data": {
      "text/plain": [
       "<AxesSubplot:>"
      ]
     },
     "execution_count": 37,
     "metadata": {},
     "output_type": "execute_result"
    },
    {
     "data": {
      "image/png": "[encoded data removed]",
      "text/plain": [
       "<Figure size 640x480 with 1 Axes>"
      ]
     },
     "metadata": {},
     "output_type": "display_data"
    }
   ],
   "source": [
    "proj_car.plot()"
   ]
  },
  {
   "cell_type": "code",
   "execution_count": null,
   "id": "299e1f69-a8b3-4b73-aa49-1a5068f0667d",
   "metadata": {},
   "outputs": [],
   "source": [
    "# proj_car.to_file('sc_proj_car.shp')  "
   ]
  },
  {
   "cell_type": "code",
   "execution_count": null,
   "id": "fad2865e-049d-4058-b9db-09d65b03f152",
   "metadata": {},
   "outputs": [],
   "source": [
    "# utils.make_zipped_shapefile(proj_car,\n",
    "#                              \"sc_proj_car.zip\", \n",
    "#                             # gcs_folder = f\"{GCS_PATH}/\"\n",
    "#                            )"
   ]
  },
  {
   "cell_type": "code",
   "execution_count": null,
   "id": "039cc842-8e2b-460a-86c8-ea62bd743a9c",
   "metadata": {},
   "outputs": [],
   "source": []
  },
  {
   "cell_type": "code",
   "execution_count": null,
   "id": "5e5d5297-badf-4dad-b67e-2f22130d1e4b",
   "metadata": {},
   "outputs": [],
   "source": []
  },
  {
   "cell_type": "code",
   "execution_count": null,
   "id": "7f34a28c-9298-443a-b543-2647f8197a39",
   "metadata": {},
   "outputs": [],
   "source": [
    "## for transit\n",
    "\n",
    "proj_transit = gpd.GeoDataFrame(pd.concat([multimodal_street, bus_on_shoulder]))"
   ]
  },
  {
   "cell_type": "code",
   "execution_count": null,
   "id": "1dff568d-e533-4686-a47c-edbabb35511f",
   "metadata": {},
   "outputs": [
    {
     "data": {
      "text/plain": [
       "<AxesSubplot:>"
      ]
     },
     "execution_count": 41,
     "metadata": {},
     "output_type": "execute_result"
    },
    {
     "data": {
      "image/png": "[encoded data removed]",
      "text/plain": [
       "<Figure size 640x480 with 1 Axes>"
      ]
     },
     "metadata": {},
     "output_type": "display_data"
    }
   ],
   "source": [
    "proj_transit.plot()"
   ]
  },
  {
   "cell_type": "code",
   "execution_count": null,
   "id": "2aa7dcc7-c7ed-4541-9868-76365df02173",
   "metadata": {},
   "outputs": [],
   "source": [
    "# proj_transit.to_file('sc_proj_transit.shp')  "
   ]
  },
  {
   "cell_type": "code",
   "execution_count": null,
   "id": "a42e5f93-5a18-4851-b98e-54f601eaa102",
   "metadata": {},
   "outputs": [],
   "source": [
    "# utils.make_zipped_shapefile(proj_transit,\n",
    "#                              \"sc_proj_transit.zip\", \n",
    "#                             # gcs_folder = f\"{GCS_PATH}/\"\n",
    "#                            )"
   ]
  },
  {
   "cell_type": "code",
   "execution_count": null,
   "id": "da5077f0-0a14-4de5-8e6e-499fa5141134",
   "metadata": {},
   "outputs": [],
   "source": []
  },
  {
   "cell_type": "code",
   "execution_count": null,
   "id": "f25dee78-e0bd-4b6f-ab51-3cd9c24589ae",
   "metadata": {},
   "outputs": [],
   "source": []
  },
  {
   "cell_type": "markdown",
   "id": "c466daa3-0fc4-420d-9315-84c43be01d8e",
   "metadata": {},
   "source": [
    "### Get Routes from GTFS Data"
   ]
  },
  {
   "cell_type": "code",
   "execution_count": null,
   "id": "d21c2854-d13d-4b39-bfe4-da9279b80611",
   "metadata": {},
   "outputs": [],
   "source": []
  },
  {
   "cell_type": "code",
   "execution_count": null,
   "id": "d0331f7b-e8ce-4459-85bc-e03af04a4b20",
   "metadata": {},
   "outputs": [],
   "source": [
    "from shared_utils import gtfs_utils_v2\n",
    "# from shared_utils import gtfs_utils\n",
    "from calitp_data_analysis import geography_utils\n",
    "import datetime\n",
    "from siuba import *"
   ]
  },
  {
   "cell_type": "code",
   "execution_count": null,
   "id": "e0cda6b6-535c-4cdd-8441-0b29fc960b05",
   "metadata": {},
   "outputs": [],
   "source": [
    "analysis_date = datetime.date(2022, 11, 28)"
   ]
  },
  {
   "cell_type": "code",
   "execution_count": null,
   "id": "bf3f1579-bf87-4b56-912f-6aaf7205da7d",
   "metadata": {},
   "outputs": [],
   "source": [
    "FEED = '02fbd8719f99b906e65b2cf86cbb7cae'\n"
   ]
  },
  {
   "cell_type": "code",
   "execution_count": null,
   "id": "def3191d-ee9f-4a74-be4a-b14eedf0e50e",
   "metadata": {},
   "outputs": [],
   "source": [
    "keep_shape_cols = [\n",
    "       \"feed_key\", \"activity_date\", \n",
    "       \"shape_id\", \"shape_array_key\",\n",
    "       \"n_trips\"]"
   ]
  },
  {
   "cell_type": "code",
   "execution_count": null,
   "id": "a589a933-5968-46f3-89d8-e5449f795bdb",
   "metadata": {},
   "outputs": [],
   "source": [
    "test_feed_keys = [\n",
    "    \"02fbd8719f99b906e65b2cf86cbb7cae\", # Santa Cruz Schedule\n",
    "]\n",
    "test_cases = [\n",
    "    \"Santa Cruz\", \n",
    "]"
   ]
  },
  {
   "cell_type": "code",
   "execution_count": null,
   "id": "5c6c664f-2420-4971-83bc-e6ff367b3ea7",
   "metadata": {},
   "outputs": [],
   "source": []
  },
  {
   "cell_type": "code",
   "execution_count": null,
   "id": "10b8f89e-580c-49ab-bc23-a6e026276a69",
   "metadata": {
    "tags": []
   },
   "outputs": [
    {
     "name": "stderr",
     "output_type": "stream",
     "text": [
      "/opt/conda/lib/python3.9/site-packages/sqlalchemy_bigquery/_types.py:101: SAWarning: Did not recognize type 'GEOGRAPHY' of column 'pt_array'\n"
     ]
    }
   ],
   "source": [
    "shapes = gtfs_utils_v2.get_shapes(\n",
    "    selected_date = analysis_date,\n",
    "    operator_feeds = test_feed_keys,\n",
    "    shape_cols = [\"feed_key\", \"shape_id\", \"shape_array_key\",\n",
    "                 \"n_trips\"],\n",
    "    get_df = True,\n",
    "    crs = \"EPSG:3310\",\n",
    ")"
   ]
  },
  {
   "cell_type": "code",
   "execution_count": null,
   "id": "0c19040e-4b91-4722-b403-a4d30a13df2e",
   "metadata": {},
   "outputs": [
    {
     "data": {
      "text/html": [
       "<div>\n",
       "<style scoped>\n",
       "    .dataframe tbody tr th:only-of-type {\n",
       "        vertical-align: middle;\n",
       "    }\n",
       "\n",
       "    .dataframe tbody tr th {\n",
       "        vertical-align: top;\n",
       "    }\n",
       "\n",
       "    .dataframe thead th {\n",
       "        text-align: right;\n",
       "    }\n",
       "</style>\n",
       "<table border=\"1\" class=\"dataframe\">\n",
       "  <thead>\n",
       "    <tr style=\"text-align: right;\">\n",
       "      <th></th>\n",
       "      <th>feed_key</th>\n",
       "      <th>shape_id</th>\n",
       "      <th>shape_array_key</th>\n",
       "      <th>n_trips</th>\n",
       "      <th>geometry</th>\n",
       "    </tr>\n",
       "  </thead>\n",
       "  <tbody>\n",
       "    <tr>\n",
       "      <th>0</th>\n",
       "      <td>02fbd8719f99b906e65b2cf86cbb7cae</td>\n",
       "      <td>350073</td>\n",
       "      <td>6b6b5e540abfd7c534ea2aab75117f87</td>\n",
       "      <td>1</td>\n",
       "      <td>LINESTRING (-185470.812 -95192.760, -185479.31...</td>\n",
       "    </tr>\n",
       "    <tr>\n",
       "      <th>1</th>\n",
       "      <td>02fbd8719f99b906e65b2cf86cbb7cae</td>\n",
       "      <td>660010</td>\n",
       "      <td>4ab6871d6667b6b81e3689e60f34fd18</td>\n",
       "      <td>1</td>\n",
       "      <td>LINESTRING (-179972.670 -114317.287, -179934.5...</td>\n",
       "    </tr>\n",
       "    <tr>\n",
       "      <th>2</th>\n",
       "      <td>02fbd8719f99b906e65b2cf86cbb7cae</td>\n",
       "      <td>350084</td>\n",
       "      <td>5d133e126244f825379bb0b6d9ff1b10</td>\n",
       "      <td>1</td>\n",
       "      <td>LINESTRING (-188298.722 -96873.513, -188301.96...</td>\n",
       "    </tr>\n",
       "    <tr>\n",
       "      <th>3</th>\n",
       "      <td>02fbd8719f99b906e65b2cf86cbb7cae</td>\n",
       "      <td>350071</td>\n",
       "      <td>4a16ac936ef04254c3c8d32b520fb82d</td>\n",
       "      <td>1</td>\n",
       "      <td>LINESTRING (-190183.875 -89076.487, -190184.09...</td>\n",
       "    </tr>\n",
       "    <tr>\n",
       "      <th>4</th>\n",
       "      <td>02fbd8719f99b906e65b2cf86cbb7cae</td>\n",
       "      <td>350067</td>\n",
       "      <td>995941e075ee891a866bd7d69f5cf880</td>\n",
       "      <td>1</td>\n",
       "      <td>LINESTRING (-184682.089 -104159.840, -184682.6...</td>\n",
       "    </tr>\n",
       "    <tr>\n",
       "      <th>5</th>\n",
       "      <td>02fbd8719f99b906e65b2cf86cbb7cae</td>\n",
       "      <td>660011</td>\n",
       "      <td>83ac025461fa9e3d70693faa7a13854c</td>\n",
       "      <td>1</td>\n",
       "      <td>LINESTRING (-174775.662 -113900.251, -174774.2...</td>\n",
       "    </tr>\n",
       "    <tr>\n",
       "      <th>6</th>\n",
       "      <td>02fbd8719f99b906e65b2cf86cbb7cae</td>\n",
       "      <td>74S0003</td>\n",
       "      <td>ab8ee62afdc185dc11a5df12edc005d0</td>\n",
       "      <td>1</td>\n",
       "      <td>LINESTRING (-156602.745 -121551.079, -156584.8...</td>\n",
       "    </tr>\n",
       "    <tr>\n",
       "      <th>7</th>\n",
       "      <td>02fbd8719f99b906e65b2cf86cbb7cae</td>\n",
       "      <td>350034</td>\n",
       "      <td>34322dc04ea0f4aa70aaaf5059c519bf</td>\n",
       "      <td>1</td>\n",
       "      <td>LINESTRING (-188298.722 -96873.513, -188301.96...</td>\n",
       "    </tr>\n",
       "    <tr>\n",
       "      <th>8</th>\n",
       "      <td>02fbd8719f99b906e65b2cf86cbb7cae</td>\n",
       "      <td>350087</td>\n",
       "      <td>3f6a5124f4180eb7f31cc7f1af7634d6</td>\n",
       "      <td>1</td>\n",
       "      <td>LINESTRING (-190183.875 -89076.487, -190184.09...</td>\n",
       "    </tr>\n",
       "    <tr>\n",
       "      <th>9</th>\n",
       "      <td>02fbd8719f99b906e65b2cf86cbb7cae</td>\n",
       "      <td>350066</td>\n",
       "      <td>d9b6ee346d02334b957aea08689ec7a4</td>\n",
       "      <td>1</td>\n",
       "      <td>LINESTRING (-184682.089 -104159.840, -184682.6...</td>\n",
       "    </tr>\n",
       "    <tr>\n",
       "      <th>10</th>\n",
       "      <td>02fbd8719f99b906e65b2cf86cbb7cae</td>\n",
       "      <td>74S0004</td>\n",
       "      <td>85a29b24b386a0feb3d6fc90c2294fb6</td>\n",
       "      <td>1</td>\n",
       "      <td>LINESTRING (-156602.745 -121551.079, -156584.8...</td>\n",
       "    </tr>\n",
       "    <tr>\n",
       "      <th>11</th>\n",
       "      <td>02fbd8719f99b906e65b2cf86cbb7cae</td>\n",
       "      <td>350033</td>\n",
       "      <td>b5735fd62d2115c66518de7efdb91304</td>\n",
       "      <td>1</td>\n",
       "      <td>LINESTRING (-188312.457 -96947.922, -188345.47...</td>\n",
       "    </tr>\n",
       "    <tr>\n",
       "      <th>12</th>\n",
       "      <td>02fbd8719f99b906e65b2cf86cbb7cae</td>\n",
       "      <td>410011</td>\n",
       "      <td>be7b443bee5ae49aa7b337a888e76749</td>\n",
       "      <td>2</td>\n",
       "      <td>LINESTRING (-179971.512 -114317.201, -180012.4...</td>\n",
       "    </tr>\n",
       "    <tr>\n",
       "      <th>13</th>\n",
       "      <td>02fbd8719f99b906e65b2cf86cbb7cae</td>\n",
       "      <td>350090</td>\n",
       "      <td>b38bab56e049379e2d03ba124bda2872</td>\n",
       "      <td>2</td>\n",
       "      <td>LINESTRING (-179977.422 -114285.833, -179976.1...</td>\n",
       "    </tr>\n",
       "    <tr>\n",
       "      <th>14</th>\n",
       "      <td>02fbd8719f99b906e65b2cf86cbb7cae</td>\n",
       "      <td>170064</td>\n",
       "      <td>5ef44f373069b4873cfeb8a8a616d461</td>\n",
       "      <td>2</td>\n",
       "      <td>LINESTRING (-179979.207 -114286.129, -179977.4...</td>\n",
       "    </tr>\n",
       "    <tr>\n",
       "      <th>15</th>\n",
       "      <td>02fbd8719f99b906e65b2cf86cbb7cae</td>\n",
       "      <td>410009</td>\n",
       "      <td>e6fd0a432d3d8514c7204bfcb1d5d1f2</td>\n",
       "      <td>2</td>\n",
       "      <td>LINESTRING (-191005.828 -106152.219, -190997.2...</td>\n",
       "    </tr>\n",
       "    <tr>\n",
       "      <th>16</th>\n",
       "      <td>02fbd8719f99b906e65b2cf86cbb7cae</td>\n",
       "      <td>35E0002</td>\n",
       "      <td>953bd7d786c43c084ee42e01465f03ba</td>\n",
       "      <td>3</td>\n",
       "      <td>LINESTRING (-179977.422 -114285.833, -179976.1...</td>\n",
       "    </tr>\n",
       "    <tr>\n",
       "      <th>17</th>\n",
       "      <td>02fbd8719f99b906e65b2cf86cbb7cae</td>\n",
       "      <td>350089</td>\n",
       "      <td>d195ab7d9f58031ca52620ecf64e2645</td>\n",
       "      <td>3</td>\n",
       "      <td>LINESTRING (-179977.422 -114285.833, -179976.1...</td>\n",
       "    </tr>\n",
       "    <tr>\n",
       "      <th>18</th>\n",
       "      <td>02fbd8719f99b906e65b2cf86cbb7cae</td>\n",
       "      <td>400020</td>\n",
       "      <td>67fe599a0f88340c653fa106413d1e5f</td>\n",
       "      <td>3</td>\n",
       "      <td>LINESTRING (-195028.581 -109406.755, -194994.2...</td>\n",
       "    </tr>\n",
       "    <tr>\n",
       "      <th>19</th>\n",
       "      <td>02fbd8719f99b906e65b2cf86cbb7cae</td>\n",
       "      <td>170067</td>\n",
       "      <td>4fd8a9d5edd8dafa098daaf4bc61d130</td>\n",
       "      <td>3</td>\n",
       "      <td>LINESTRING (-166599.089 -73846.140, -166666.39...</td>\n",
       "    </tr>\n",
       "    <tr>\n",
       "      <th>20</th>\n",
       "      <td>02fbd8719f99b906e65b2cf86cbb7cae</td>\n",
       "      <td>170068</td>\n",
       "      <td>f8d18f1db271f816e08ecb9171d62b8b</td>\n",
       "      <td>3</td>\n",
       "      <td>LINESTRING (-166599.089 -73846.140, -166666.39...</td>\n",
       "    </tr>\n",
       "    <tr>\n",
       "      <th>21</th>\n",
       "      <td>02fbd8719f99b906e65b2cf86cbb7cae</td>\n",
       "      <td>35E0004</td>\n",
       "      <td>135784e3d35f5833d913455041e0ac7e</td>\n",
       "      <td>3</td>\n",
       "      <td>LINESTRING (-191802.144 -92424.475, -191793.47...</td>\n",
       "    </tr>\n",
       "    <tr>\n",
       "      <th>22</th>\n",
       "      <td>02fbd8719f99b906e65b2cf86cbb7cae</td>\n",
       "      <td>400021</td>\n",
       "      <td>903d70f825f5ae504d956f870717ba82</td>\n",
       "      <td>3</td>\n",
       "      <td>LINESTRING (-179971.512 -114317.201, -180012.4...</td>\n",
       "    </tr>\n",
       "    <tr>\n",
       "      <th>23</th>\n",
       "      <td>02fbd8719f99b906e65b2cf86cbb7cae</td>\n",
       "      <td>550011</td>\n",
       "      <td>5ca9aa66dd24a6f8dec7b5b601b5910e</td>\n",
       "      <td>3</td>\n",
       "      <td>LINESTRING (-174776.807 -113873.990, -174778.3...</td>\n",
       "    </tr>\n",
       "    <tr>\n",
       "      <th>24</th>\n",
       "      <td>02fbd8719f99b906e65b2cf86cbb7cae</td>\n",
       "      <td>420015</td>\n",
       "      <td>e1622aee0a52de467449ec4eb85ff61a</td>\n",
       "      <td>4</td>\n",
       "      <td>LINESTRING (-179971.512 -114317.201, -180012.4...</td>\n",
       "    </tr>\n",
       "    <tr>\n",
       "      <th>25</th>\n",
       "      <td>02fbd8719f99b906e65b2cf86cbb7cae</td>\n",
       "      <td>170063</td>\n",
       "      <td>2dff360188693fb293a2491a39d2de00</td>\n",
       "      <td>4</td>\n",
       "      <td>LINESTRING (-179979.207 -114286.129, -179977.4...</td>\n",
       "    </tr>\n",
       "    <tr>\n",
       "      <th>26</th>\n",
       "      <td>02fbd8719f99b906e65b2cf86cbb7cae</td>\n",
       "      <td>350095</td>\n",
       "      <td>b755444d2ad7890bbbf33a1dc72d3384</td>\n",
       "      <td>5</td>\n",
       "      <td>LINESTRING (-191802.144 -92424.475, -191793.47...</td>\n",
       "    </tr>\n",
       "    <tr>\n",
       "      <th>27</th>\n",
       "      <td>02fbd8719f99b906e65b2cf86cbb7cae</td>\n",
       "      <td>550012</td>\n",
       "      <td>80766cbd3a89566b2bf63f13bf2c7f18</td>\n",
       "      <td>5</td>\n",
       "      <td>LINESTRING (-174776.807 -113873.990, -174778.3...</td>\n",
       "    </tr>\n",
       "    <tr>\n",
       "      <th>28</th>\n",
       "      <td>02fbd8719f99b906e65b2cf86cbb7cae</td>\n",
       "      <td>91X0010</td>\n",
       "      <td>a5ae240fd06c7891c3a1adc885b5592b</td>\n",
       "      <td>7</td>\n",
       "      <td>LINESTRING (-179972.670 -114317.287, -179934.5...</td>\n",
       "    </tr>\n",
       "    <tr>\n",
       "      <th>29</th>\n",
       "      <td>02fbd8719f99b906e65b2cf86cbb7cae</td>\n",
       "      <td>WC0002</td>\n",
       "      <td>e5b15af2c473331acd9b8e04ea947c93</td>\n",
       "      <td>8</td>\n",
       "      <td>LINESTRING (-156602.745 -121551.079, -156584.8...</td>\n",
       "    </tr>\n",
       "    <tr>\n",
       "      <th>30</th>\n",
       "      <td>02fbd8719f99b906e65b2cf86cbb7cae</td>\n",
       "      <td>91X0014</td>\n",
       "      <td>820413f98f8a7f3c2997d1f4eee82419</td>\n",
       "      <td>8</td>\n",
       "      <td>LINESTRING (-156600.649 -121553.231, -156631.1...</td>\n",
       "    </tr>\n",
       "    <tr>\n",
       "      <th>31</th>\n",
       "      <td>02fbd8719f99b906e65b2cf86cbb7cae</td>\n",
       "      <td>35E0005</td>\n",
       "      <td>e3a90de6dbc8d4693b95ee79901b19c8</td>\n",
       "      <td>8</td>\n",
       "      <td>LINESTRING (-188223.299 -97191.190, -188184.57...</td>\n",
       "    </tr>\n",
       "    <tr>\n",
       "      <th>32</th>\n",
       "      <td>02fbd8719f99b906e65b2cf86cbb7cae</td>\n",
       "      <td>35E0003</td>\n",
       "      <td>5e300ad98034f517259f1f77d1929103</td>\n",
       "      <td>8</td>\n",
       "      <td>LINESTRING (-179977.422 -114285.833, -179976.1...</td>\n",
       "    </tr>\n",
       "    <tr>\n",
       "      <th>33</th>\n",
       "      <td>02fbd8719f99b906e65b2cf86cbb7cae</td>\n",
       "      <td>170062</td>\n",
       "      <td>ab865f51f1ac8e26bb0a088ecbb1460a</td>\n",
       "      <td>9</td>\n",
       "      <td>LINESTRING (-179979.207 -114286.129, -179977.4...</td>\n",
       "    </tr>\n",
       "    <tr>\n",
       "      <th>34</th>\n",
       "      <td>02fbd8719f99b906e65b2cf86cbb7cae</td>\n",
       "      <td>170066</td>\n",
       "      <td>3f014d31cbd66ede940de43b1525fe5d</td>\n",
       "      <td>9</td>\n",
       "      <td>LINESTRING (-166599.089 -73846.140, -166666.39...</td>\n",
       "    </tr>\n",
       "    <tr>\n",
       "      <th>35</th>\n",
       "      <td>02fbd8719f99b906e65b2cf86cbb7cae</td>\n",
       "      <td>040009</td>\n",
       "      <td>5703a53f91537b48eb6038ff47720526</td>\n",
       "      <td>10</td>\n",
       "      <td>LINESTRING (-179977.422 -114285.833, -179976.1...</td>\n",
       "    </tr>\n",
       "    <tr>\n",
       "      <th>36</th>\n",
       "      <td>02fbd8719f99b906e65b2cf86cbb7cae</td>\n",
       "      <td>200028</td>\n",
       "      <td>a743c2e0ece7372ff4d6a7cdfa664d51</td>\n",
       "      <td>11</td>\n",
       "      <td>LINESTRING (-179978.136 -114285.929, -179989.7...</td>\n",
       "    </tr>\n",
       "    <tr>\n",
       "      <th>37</th>\n",
       "      <td>02fbd8719f99b906e65b2cf86cbb7cae</td>\n",
       "      <td>790008</td>\n",
       "      <td>3b90889a77d9f7a4bd5560cd1aaefc9e</td>\n",
       "      <td>11</td>\n",
       "      <td>LINESTRING (-156602.745 -121551.079, -156584.8...</td>\n",
       "    </tr>\n",
       "    <tr>\n",
       "      <th>38</th>\n",
       "      <td>02fbd8719f99b906e65b2cf86cbb7cae</td>\n",
       "      <td>720004</td>\n",
       "      <td>7de23b8696b2d376937b034c281f785a</td>\n",
       "      <td>12</td>\n",
       "      <td>LINESTRING (-156600.649 -121553.231, -156631.1...</td>\n",
       "    </tr>\n",
       "    <tr>\n",
       "      <th>39</th>\n",
       "      <td>02fbd8719f99b906e65b2cf86cbb7cae</td>\n",
       "      <td>69A0006</td>\n",
       "      <td>9c7b0cbce320ff6a7a20f1fafd184577</td>\n",
       "      <td>12</td>\n",
       "      <td>LINESTRING (-156600.649 -121553.231, -156631.1...</td>\n",
       "    </tr>\n",
       "    <tr>\n",
       "      <th>40</th>\n",
       "      <td>02fbd8719f99b906e65b2cf86cbb7cae</td>\n",
       "      <td>040008</td>\n",
       "      <td>1eaf44c88083e2674aa2e041855ed5fa</td>\n",
       "      <td>12</td>\n",
       "      <td>LINESTRING (-180616.805 -112100.496, -180590.8...</td>\n",
       "    </tr>\n",
       "    <tr>\n",
       "      <th>41</th>\n",
       "      <td>02fbd8719f99b906e65b2cf86cbb7cae</td>\n",
       "      <td>69A0005</td>\n",
       "      <td>eabe33987121e3333bf22b231dcbaa65</td>\n",
       "      <td>12</td>\n",
       "      <td>LINESTRING (-179972.670 -114317.287, -179934.5...</td>\n",
       "    </tr>\n",
       "    <tr>\n",
       "      <th>42</th>\n",
       "      <td>02fbd8719f99b906e65b2cf86cbb7cae</td>\n",
       "      <td>100011</td>\n",
       "      <td>6b2c19b162e6faade6cfc5f0e703f96b</td>\n",
       "      <td>13</td>\n",
       "      <td>LINESTRING (-179978.136 -114285.929, -179989.7...</td>\n",
       "    </tr>\n",
       "    <tr>\n",
       "      <th>43</th>\n",
       "      <td>02fbd8719f99b906e65b2cf86cbb7cae</td>\n",
       "      <td>680013</td>\n",
       "      <td>0c9d3e815dee0c035ca47ffc1cfb1d95</td>\n",
       "      <td>13</td>\n",
       "      <td>LINESTRING (-179972.670 -114317.287, -179934.5...</td>\n",
       "    </tr>\n",
       "    <tr>\n",
       "      <th>44</th>\n",
       "      <td>02fbd8719f99b906e65b2cf86cbb7cae</td>\n",
       "      <td>750009</td>\n",
       "      <td>eb3d55d5b0c97912aaea150dde8f56a8</td>\n",
       "      <td>14</td>\n",
       "      <td>LINESTRING (-157232.679 -113560.684, -157242.3...</td>\n",
       "    </tr>\n",
       "    <tr>\n",
       "      <th>45</th>\n",
       "      <td>02fbd8719f99b906e65b2cf86cbb7cae</td>\n",
       "      <td>680012</td>\n",
       "      <td>196d9214a556b294e2408dbb48801ba5</td>\n",
       "      <td>14</td>\n",
       "      <td>LINESTRING (-174775.662 -113900.251, -174774.2...</td>\n",
       "    </tr>\n",
       "    <tr>\n",
       "      <th>46</th>\n",
       "      <td>02fbd8719f99b906e65b2cf86cbb7cae</td>\n",
       "      <td>750008</td>\n",
       "      <td>31394f3b4ad6570c0c6c9f527f4302a4</td>\n",
       "      <td>14</td>\n",
       "      <td>LINESTRING (-156602.745 -121551.079, -156584.8...</td>\n",
       "    </tr>\n",
       "    <tr>\n",
       "      <th>47</th>\n",
       "      <td>02fbd8719f99b906e65b2cf86cbb7cae</td>\n",
       "      <td>660009</td>\n",
       "      <td>1265b8f903c612a529f5ea512587039b</td>\n",
       "      <td>14</td>\n",
       "      <td>LINESTRING (-179972.670 -114317.287, -179934.5...</td>\n",
       "    </tr>\n",
       "    <tr>\n",
       "      <th>48</th>\n",
       "      <td>02fbd8719f99b906e65b2cf86cbb7cae</td>\n",
       "      <td>710035</td>\n",
       "      <td>c293ca3200873db500b033e0ee5ad50d</td>\n",
       "      <td>14</td>\n",
       "      <td>LINESTRING (-179972.670 -114317.287, -179934.5...</td>\n",
       "    </tr>\n",
       "    <tr>\n",
       "      <th>49</th>\n",
       "      <td>02fbd8719f99b906e65b2cf86cbb7cae</td>\n",
       "      <td>69W0005</td>\n",
       "      <td>a449254b090da5a87c286e5c12fce94c</td>\n",
       "      <td>15</td>\n",
       "      <td>LINESTRING (-179972.670 -114317.287, -179934.5...</td>\n",
       "    </tr>\n",
       "    <tr>\n",
       "      <th>50</th>\n",
       "      <td>02fbd8719f99b906e65b2cf86cbb7cae</td>\n",
       "      <td>350088</td>\n",
       "      <td>feded7d3a085c928fd0a2adce6eb0b21</td>\n",
       "      <td>15</td>\n",
       "      <td>LINESTRING (-179977.422 -114285.833, -179976.1...</td>\n",
       "    </tr>\n",
       "    <tr>\n",
       "      <th>51</th>\n",
       "      <td>02fbd8719f99b906e65b2cf86cbb7cae</td>\n",
       "      <td>710039</td>\n",
       "      <td>1d71ff9291f99f4f91c78107d994c5e9</td>\n",
       "      <td>15</td>\n",
       "      <td>LINESTRING (-156602.745 -121551.079, -156584.8...</td>\n",
       "    </tr>\n",
       "    <tr>\n",
       "      <th>52</th>\n",
       "      <td>02fbd8719f99b906e65b2cf86cbb7cae</td>\n",
       "      <td>660007</td>\n",
       "      <td>28d093ef1314e4374cdc072301a53c86</td>\n",
       "      <td>15</td>\n",
       "      <td>LINESTRING (-174775.662 -113900.251, -174774.2...</td>\n",
       "    </tr>\n",
       "    <tr>\n",
       "      <th>53</th>\n",
       "      <td>02fbd8719f99b906e65b2cf86cbb7cae</td>\n",
       "      <td>350092</td>\n",
       "      <td>34689da11349d670ec1fd11c599b24db</td>\n",
       "      <td>16</td>\n",
       "      <td>LINESTRING (-189179.133 -93646.375, -189193.53...</td>\n",
       "    </tr>\n",
       "    <tr>\n",
       "      <th>54</th>\n",
       "      <td>02fbd8719f99b906e65b2cf86cbb7cae</td>\n",
       "      <td>69W0006</td>\n",
       "      <td>e7e5eb37c35d550e6ed98214e6cb6894</td>\n",
       "      <td>16</td>\n",
       "      <td>LINESTRING (-156600.649 -121553.231, -156631.1...</td>\n",
       "    </tr>\n",
       "    <tr>\n",
       "      <th>55</th>\n",
       "      <td>02fbd8719f99b906e65b2cf86cbb7cae</td>\n",
       "      <td>710038</td>\n",
       "      <td>0d82cfd01fa86f303b034a688fed8418</td>\n",
       "      <td>18</td>\n",
       "      <td>LINESTRING (-179972.670 -114317.287, -179934.5...</td>\n",
       "    </tr>\n",
       "    <tr>\n",
       "      <th>56</th>\n",
       "      <td>02fbd8719f99b906e65b2cf86cbb7cae</td>\n",
       "      <td>710040</td>\n",
       "      <td>063eb558b19255d18cda5da01a5e1d2b</td>\n",
       "      <td>18</td>\n",
       "      <td>LINESTRING (-156602.745 -121551.079, -156584.8...</td>\n",
       "    </tr>\n",
       "    <tr>\n",
       "      <th>57</th>\n",
       "      <td>02fbd8719f99b906e65b2cf86cbb7cae</td>\n",
       "      <td>150010</td>\n",
       "      <td>74a5df527cef86fcf8ade1542aabc087</td>\n",
       "      <td>29</td>\n",
       "      <td>LINESTRING (-179978.136 -114285.929, -179989.7...</td>\n",
       "    </tr>\n",
       "    <tr>\n",
       "      <th>58</th>\n",
       "      <td>02fbd8719f99b906e65b2cf86cbb7cae</td>\n",
       "      <td>190013</td>\n",
       "      <td>275e766d4c5b156de1b4ca6cb8037092</td>\n",
       "      <td>35</td>\n",
       "      <td>LINESTRING (-179978.136 -114285.929, -179989.7...</td>\n",
       "    </tr>\n",
       "    <tr>\n",
       "      <th>59</th>\n",
       "      <td>02fbd8719f99b906e65b2cf86cbb7cae</td>\n",
       "      <td>180004</td>\n",
       "      <td>5f0d8f26b2a157bf88248bdcbaad4d23</td>\n",
       "      <td>39</td>\n",
       "      <td>LINESTRING (-179978.136 -114285.929, -179989.7...</td>\n",
       "    </tr>\n",
       "  </tbody>\n",
       "</table>\n",
       "</div>"
      ],
      "text/plain": [
       "                            feed_key shape_id  \\\n",
       "0   02fbd8719f99b906e65b2cf86cbb7cae   350073   \n",
       "1   02fbd8719f99b906e65b2cf86cbb7cae   660010   \n",
       "2   02fbd8719f99b906e65b2cf86cbb7cae   350084   \n",
       "3   02fbd8719f99b906e65b2cf86cbb7cae   350071   \n",
       "4   02fbd8719f99b906e65b2cf86cbb7cae   350067   \n",
       "5   02fbd8719f99b906e65b2cf86cbb7cae   660011   \n",
       "6   02fbd8719f99b906e65b2cf86cbb7cae  74S0003   \n",
       "7   02fbd8719f99b906e65b2cf86cbb7cae   350034   \n",
       "8   02fbd8719f99b906e65b2cf86cbb7cae   350087   \n",
       "9   02fbd8719f99b906e65b2cf86cbb7cae   350066   \n",
       "10  02fbd8719f99b906e65b2cf86cbb7cae  74S0004   \n",
       "11  02fbd8719f99b906e65b2cf86cbb7cae   350033   \n",
       "12  02fbd8719f99b906e65b2cf86cbb7cae   410011   \n",
       "13  02fbd8719f99b906e65b2cf86cbb7cae   350090   \n",
       "14  02fbd8719f99b906e65b2cf86cbb7cae   170064   \n",
       "15  02fbd8719f99b906e65b2cf86cbb7cae   410009   \n",
       "16  02fbd8719f99b906e65b2cf86cbb7cae  35E0002   \n",
       "17  02fbd8719f99b906e65b2cf86cbb7cae   350089   \n",
       "18  02fbd8719f99b906e65b2cf86cbb7cae   400020   \n",
       "19  02fbd8719f99b906e65b2cf86cbb7cae   170067   \n",
       "20  02fbd8719f99b906e65b2cf86cbb7cae   170068   \n",
       "21  02fbd8719f99b906e65b2cf86cbb7cae  35E0004   \n",
       "22  02fbd8719f99b906e65b2cf86cbb7cae   400021   \n",
       "23  02fbd8719f99b906e65b2cf86cbb7cae   550011   \n",
       "24  02fbd8719f99b906e65b2cf86cbb7cae   420015   \n",
       "25  02fbd8719f99b906e65b2cf86cbb7cae   170063   \n",
       "26  02fbd8719f99b906e65b2cf86cbb7cae   350095   \n",
       "27  02fbd8719f99b906e65b2cf86cbb7cae   550012   \n",
       "28  02fbd8719f99b906e65b2cf86cbb7cae  91X0010   \n",
       "29  02fbd8719f99b906e65b2cf86cbb7cae   WC0002   \n",
       "30  02fbd8719f99b906e65b2cf86cbb7cae  91X0014   \n",
       "31  02fbd8719f99b906e65b2cf86cbb7cae  35E0005   \n",
       "32  02fbd8719f99b906e65b2cf86cbb7cae  35E0003   \n",
       "33  02fbd8719f99b906e65b2cf86cbb7cae   170062   \n",
       "34  02fbd8719f99b906e65b2cf86cbb7cae   170066   \n",
       "35  02fbd8719f99b906e65b2cf86cbb7cae   040009   \n",
       "36  02fbd8719f99b906e65b2cf86cbb7cae   200028   \n",
       "37  02fbd8719f99b906e65b2cf86cbb7cae   790008   \n",
       "38  02fbd8719f99b906e65b2cf86cbb7cae   720004   \n",
       "39  02fbd8719f99b906e65b2cf86cbb7cae  69A0006   \n",
       "40  02fbd8719f99b906e65b2cf86cbb7cae   040008   \n",
       "41  02fbd8719f99b906e65b2cf86cbb7cae  69A0005   \n",
       "42  02fbd8719f99b906e65b2cf86cbb7cae   100011   \n",
       "43  02fbd8719f99b906e65b2cf86cbb7cae   680013   \n",
       "44  02fbd8719f99b906e65b2cf86cbb7cae   750009   \n",
       "45  02fbd8719f99b906e65b2cf86cbb7cae   680012   \n",
       "46  02fbd8719f99b906e65b2cf86cbb7cae   750008   \n",
       "47  02fbd8719f99b906e65b2cf86cbb7cae   660009   \n",
       "48  02fbd8719f99b906e65b2cf86cbb7cae   710035   \n",
       "49  02fbd8719f99b906e65b2cf86cbb7cae  69W0005   \n",
       "50  02fbd8719f99b906e65b2cf86cbb7cae   350088   \n",
       "51  02fbd8719f99b906e65b2cf86cbb7cae   710039   \n",
       "52  02fbd8719f99b906e65b2cf86cbb7cae   660007   \n",
       "53  02fbd8719f99b906e65b2cf86cbb7cae   350092   \n",
       "54  02fbd8719f99b906e65b2cf86cbb7cae  69W0006   \n",
       "55  02fbd8719f99b906e65b2cf86cbb7cae   710038   \n",
       "56  02fbd8719f99b906e65b2cf86cbb7cae   710040   \n",
       "57  02fbd8719f99b906e65b2cf86cbb7cae   150010   \n",
       "58  02fbd8719f99b906e65b2cf86cbb7cae   190013   \n",
       "59  02fbd8719f99b906e65b2cf86cbb7cae   180004   \n",
       "\n",
       "                     shape_array_key  n_trips  \\\n",
       "0   6b6b5e540abfd7c534ea2aab75117f87        1   \n",
       "1   4ab6871d6667b6b81e3689e60f34fd18        1   \n",
       "2   5d133e126244f825379bb0b6d9ff1b10        1   \n",
       "3   4a16ac936ef04254c3c8d32b520fb82d        1   \n",
       "4   995941e075ee891a866bd7d69f5cf880        1   \n",
       "5   83ac025461fa9e3d70693faa7a13854c        1   \n",
       "6   ab8ee62afdc185dc11a5df12edc005d0        1   \n",
       "7   34322dc04ea0f4aa70aaaf5059c519bf        1   \n",
       "8   3f6a5124f4180eb7f31cc7f1af7634d6        1   \n",
       "9   d9b6ee346d02334b957aea08689ec7a4        1   \n",
       "10  85a29b24b386a0feb3d6fc90c2294fb6        1   \n",
       "11  b5735fd62d2115c66518de7efdb91304        1   \n",
       "12  be7b443bee5ae49aa7b337a888e76749        2   \n",
       "13  b38bab56e049379e2d03ba124bda2872        2   \n",
       "14  5ef44f373069b4873cfeb8a8a616d461        2   \n",
       "15  e6fd0a432d3d8514c7204bfcb1d5d1f2        2   \n",
       "16  953bd7d786c43c084ee42e01465f03ba        3   \n",
       "17  d195ab7d9f58031ca52620ecf64e2645        3   \n",
       "18  67fe599a0f88340c653fa106413d1e5f        3   \n",
       "19  4fd8a9d5edd8dafa098daaf4bc61d130        3   \n",
       "20  f8d18f1db271f816e08ecb9171d62b8b        3   \n",
       "21  135784e3d35f5833d913455041e0ac7e        3   \n",
       "22  903d70f825f5ae504d956f870717ba82        3   \n",
       "23  5ca9aa66dd24a6f8dec7b5b601b5910e        3   \n",
       "24  e1622aee0a52de467449ec4eb85ff61a        4   \n",
       "25  2dff360188693fb293a2491a39d2de00        4   \n",
       "26  b755444d2ad7890bbbf33a1dc72d3384        5   \n",
       "27  80766cbd3a89566b2bf63f13bf2c7f18        5   \n",
       "28  a5ae240fd06c7891c3a1adc885b5592b        7   \n",
       "29  e5b15af2c473331acd9b8e04ea947c93        8   \n",
       "30  820413f98f8a7f3c2997d1f4eee82419        8   \n",
       "31  e3a90de6dbc8d4693b95ee79901b19c8        8   \n",
       "32  5e300ad98034f517259f1f77d1929103        8   \n",
       "33  ab865f51f1ac8e26bb0a088ecbb1460a        9   \n",
       "34  3f014d31cbd66ede940de43b1525fe5d        9   \n",
       "35  5703a53f91537b48eb6038ff47720526       10   \n",
       "36  a743c2e0ece7372ff4d6a7cdfa664d51       11   \n",
       "37  3b90889a77d9f7a4bd5560cd1aaefc9e       11   \n",
       "38  7de23b8696b2d376937b034c281f785a       12   \n",
       "39  9c7b0cbce320ff6a7a20f1fafd184577       12   \n",
       "40  1eaf44c88083e2674aa2e041855ed5fa       12   \n",
       "41  eabe33987121e3333bf22b231dcbaa65       12   \n",
       "42  6b2c19b162e6faade6cfc5f0e703f96b       13   \n",
       "43  0c9d3e815dee0c035ca47ffc1cfb1d95       13   \n",
       "44  eb3d55d5b0c97912aaea150dde8f56a8       14   \n",
       "45  196d9214a556b294e2408dbb48801ba5       14   \n",
       "46  31394f3b4ad6570c0c6c9f527f4302a4       14   \n",
       "47  1265b8f903c612a529f5ea512587039b       14   \n",
       "48  c293ca3200873db500b033e0ee5ad50d       14   \n",
       "49  a449254b090da5a87c286e5c12fce94c       15   \n",
       "50  feded7d3a085c928fd0a2adce6eb0b21       15   \n",
       "51  1d71ff9291f99f4f91c78107d994c5e9       15   \n",
       "52  28d093ef1314e4374cdc072301a53c86       15   \n",
       "53  34689da11349d670ec1fd11c599b24db       16   \n",
       "54  e7e5eb37c35d550e6ed98214e6cb6894       16   \n",
       "55  0d82cfd01fa86f303b034a688fed8418       18   \n",
       "56  063eb558b19255d18cda5da01a5e1d2b       18   \n",
       "57  74a5df527cef86fcf8ade1542aabc087       29   \n",
       "58  275e766d4c5b156de1b4ca6cb8037092       35   \n",
       "59  5f0d8f26b2a157bf88248bdcbaad4d23       39   \n",
       "\n",
       "                                             geometry  \n",
       "0   LINESTRING (-185470.812 -95192.760, -185479.31...  \n",
       "1   LINESTRING (-179972.670 -114317.287, -179934.5...  \n",
       "2   LINESTRING (-188298.722 -96873.513, -188301.96...  \n",
       "3   LINESTRING (-190183.875 -89076.487, -190184.09...  \n",
       "4   LINESTRING (-184682.089 -104159.840, -184682.6...  \n",
       "5   LINESTRING (-174775.662 -113900.251, -174774.2...  \n",
       "6   LINESTRING (-156602.745 -121551.079, -156584.8...  \n",
       "7   LINESTRING (-188298.722 -96873.513, -188301.96...  \n",
       "8   LINESTRING (-190183.875 -89076.487, -190184.09...  \n",
       "9   LINESTRING (-184682.089 -104159.840, -184682.6...  \n",
       "10  LINESTRING (-156602.745 -121551.079, -156584.8...  \n",
       "11  LINESTRING (-188312.457 -96947.922, -188345.47...  \n",
       "12  LINESTRING (-179971.512 -114317.201, -180012.4...  \n",
       "13  LINESTRING (-179977.422 -114285.833, -179976.1...  \n",
       "14  LINESTRING (-179979.207 -114286.129, -179977.4...  \n",
       "15  LINESTRING (-191005.828 -106152.219, -190997.2...  \n",
       "16  LINESTRING (-179977.422 -114285.833, -179976.1...  \n",
       "17  LINESTRING (-179977.422 -114285.833, -179976.1...  \n",
       "18  LINESTRING (-195028.581 -109406.755, -194994.2...  \n",
       "19  LINESTRING (-166599.089 -73846.140, -166666.39...  \n",
       "20  LINESTRING (-166599.089 -73846.140, -166666.39...  \n",
       "21  LINESTRING (-191802.144 -92424.475, -191793.47...  \n",
       "22  LINESTRING (-179971.512 -114317.201, -180012.4...  \n",
       "23  LINESTRING (-174776.807 -113873.990, -174778.3...  \n",
       "24  LINESTRING (-179971.512 -114317.201, -180012.4...  \n",
       "25  LINESTRING (-179979.207 -114286.129, -179977.4...  \n",
       "26  LINESTRING (-191802.144 -92424.475, -191793.47...  \n",
       "27  LINESTRING (-174776.807 -113873.990, -174778.3...  \n",
       "28  LINESTRING (-179972.670 -114317.287, -179934.5...  \n",
       "29  LINESTRING (-156602.745 -121551.079, -156584.8...  \n",
       "30  LINESTRING (-156600.649 -121553.231, -156631.1...  \n",
       "31  LINESTRING (-188223.299 -97191.190, -188184.57...  \n",
       "32  LINESTRING (-179977.422 -114285.833, -179976.1...  \n",
       "33  LINESTRING (-179979.207 -114286.129, -179977.4...  \n",
       "34  LINESTRING (-166599.089 -73846.140, -166666.39...  \n",
       "35  LINESTRING (-179977.422 -114285.833, -179976.1...  \n",
       "36  LINESTRING (-179978.136 -114285.929, -179989.7...  \n",
       "37  LINESTRING (-156602.745 -121551.079, -156584.8...  \n",
       "38  LINESTRING (-156600.649 -121553.231, -156631.1...  \n",
       "39  LINESTRING (-156600.649 -121553.231, -156631.1...  \n",
       "40  LINESTRING (-180616.805 -112100.496, -180590.8...  \n",
       "41  LINESTRING (-179972.670 -114317.287, -179934.5...  \n",
       "42  LINESTRING (-179978.136 -114285.929, -179989.7...  \n",
       "43  LINESTRING (-179972.670 -114317.287, -179934.5...  \n",
       "44  LINESTRING (-157232.679 -113560.684, -157242.3...  \n",
       "45  LINESTRING (-174775.662 -113900.251, -174774.2...  \n",
       "46  LINESTRING (-156602.745 -121551.079, -156584.8...  \n",
       "47  LINESTRING (-179972.670 -114317.287, -179934.5...  \n",
       "48  LINESTRING (-179972.670 -114317.287, -179934.5...  \n",
       "49  LINESTRING (-179972.670 -114317.287, -179934.5...  \n",
       "50  LINESTRING (-179977.422 -114285.833, -179976.1...  \n",
       "51  LINESTRING (-156602.745 -121551.079, -156584.8...  \n",
       "52  LINESTRING (-174775.662 -113900.251, -174774.2...  \n",
       "53  LINESTRING (-189179.133 -93646.375, -189193.53...  \n",
       "54  LINESTRING (-156600.649 -121553.231, -156631.1...  \n",
       "55  LINESTRING (-179972.670 -114317.287, -179934.5...  \n",
       "56  LINESTRING (-156602.745 -121551.079, -156584.8...  \n",
       "57  LINESTRING (-179978.136 -114285.929, -179989.7...  \n",
       "58  LINESTRING (-179978.136 -114285.929, -179989.7...  \n",
       "59  LINESTRING (-179978.136 -114285.929, -179989.7...  "
      ]
     },
     "execution_count": 50,
     "metadata": {},
     "output_type": "execute_result"
    }
   ],
   "source": [
    "shapes"
   ]
  },
  {
   "cell_type": "code",
   "execution_count": null,
   "id": "f643004d-fd4b-415e-9e99-bc6ae4263b4d",
   "metadata": {},
   "outputs": [
    {
     "data": {
      "text/plain": [
       "<AxesSubplot:>"
      ]
     },
     "execution_count": 51,
     "metadata": {},
     "output_type": "execute_result"
    },
    {
     "data": {
      "image/png": "[encoded data removed]",
      "text/plain": [
       "<Figure size 640x480 with 1 Axes>"
      ]
     },
     "metadata": {},
     "output_type": "display_data"
    }
   ],
   "source": [
    "shapes.plot()"
   ]
  },
  {
   "cell_type": "code",
   "execution_count": null,
   "id": "b010bb7a-dd0f-4193-a950-73062de25567",
   "metadata": {},
   "outputs": [],
   "source": []
  },
  {
   "cell_type": "code",
   "execution_count": 59,
   "id": "c85394e5-8e2b-43db-b8b4-2ec2b88e60b7",
   "metadata": {},
   "outputs": [],
   "source": [
    "import siuba\n",
    "from calitp_data_analysis.tables import tbls\n",
    "from typing import Literal, Union\n"
   ]
  },
  {
   "cell_type": "code",
   "execution_count": 60,
   "id": "d2910093-a267-4102-aa00-a87c35aaf17e",
   "metadata": {
    "tags": []
   },
   "outputs": [],
   "source": [
    "def subset_cols(cols: list) -> siuba.dply.verbs.Pipeable:\n",
    "    \"\"\"\n",
    "    Select subset of columns, if column list is present.\n",
    "    Otherwise, skip.\n",
    "    \"\"\"\n",
    "    if cols:\n",
    "        return select(*cols)\n",
    "    elif not cols or len(cols) == 0:\n",
    "        # Can't use select(), because we'll select no columns\n",
    "        # But, without knowing full list of columns, let's just\n",
    "        # filter out nothing\n",
    "        return filter()\n",
    "def filter_date(\n",
    "    selected_date: Union[str, datetime.date], date_col: Literal[\"service_date\", \"activity_date\"]\n",
    ") -> siuba.dply.verbs.Pipeable:\n",
    "    return filter(_[date_col] == selected_date)\n",
    "\n",
    "def filter_operator(operator_feeds: list, include_name: bool = False) -> siuba.dply.verbs.Pipeable:\n",
    "    \"\"\"\n",
    "    Filter if operator_list is present.\n",
    "    For trips table, operator_feeds can be a list of names or feed_keys.\n",
    "    For stops, shapes, stop_times, operator_feeds can only be a list of feed_keys.\n",
    "    \"\"\"\n",
    "    # in testing, using _.feed_key or _.name came up with a\n",
    "    # siuba verb not implemented\n",
    "    # https://github.com/machow/siuba/issues/407\n",
    "    # put brackets around should work\n",
    "    if include_name:\n",
    "        return filter(_[\"feed_key\"].isin(operator_feeds) | _[\"name\"].isin(operator_feeds))\n",
    "    else:\n",
    "        return filter(_[\"feed_key\"].isin(operator_feeds))\n"
   ]
  },
  {
   "cell_type": "code",
   "execution_count": 61,
   "id": "4ffe9616-a37a-4a67-9631-524506990777",
   "metadata": {},
   "outputs": [],
   "source": [
    "##### TRIPS\n",
    "\n",
    "keep_trip_cols = [\n",
    "            \"feed_key\", \"name\", \"regional_feed_type\", \n",
    "            \"service_date\", \"trip_key\", \"trip_id\",\n",
    "            \"route_key\", \"route_id\", \"route_type\", \n",
    "            \"route_short_name\", \"route_long_name\", \"route_desc\",\n",
    "            \"direction_id\", \n",
    "            \"shape_array_key\", \"shape_id\",\n",
    "            \"trip_first_departure_sec\", \"trip_last_arrival_sec\",\n",
    "            \"service_hours\"]"
   ]
  },
  {
   "cell_type": "code",
   "execution_count": 62,
   "id": "dacd899e-53d9-4148-b0e1-070b4d678c29",
   "metadata": {
    "tags": []
   },
   "outputs": [],
   "source": [
    "trips = (\n",
    "        tbls.mart_gtfs.fct_daily_scheduled_trips()\n",
    "        >> filter_date(analysis_date, date_col=\"service_date\")\n",
    "        >> filter_operator(test_feed_keys, include_name=True)\n",
    ")\n",
    "\n",
    "trips = trips >> subset_cols(keep_trip_cols) >> collect()\n"
   ]
  },
  {
   "cell_type": "code",
   "execution_count": 63,
   "id": "9e74b32b-8d6b-49c2-b90f-4716c74424fa",
   "metadata": {},
   "outputs": [
    {
     "data": {
      "text/html": [
       "<div>\n",
       "<style scoped>\n",
       "    .dataframe tbody tr th:only-of-type {\n",
       "        vertical-align: middle;\n",
       "    }\n",
       "\n",
       "    .dataframe tbody tr th {\n",
       "        vertical-align: top;\n",
       "    }\n",
       "\n",
       "    .dataframe thead th {\n",
       "        text-align: right;\n",
       "    }\n",
       "</style>\n",
       "<table border=\"1\" class=\"dataframe\">\n",
       "  <thead>\n",
       "    <tr style=\"text-align: right;\">\n",
       "      <th></th>\n",
       "      <th>feed_key</th>\n",
       "      <th>name</th>\n",
       "      <th>regional_feed_type</th>\n",
       "      <th>service_date</th>\n",
       "      <th>trip_key</th>\n",
       "      <th>trip_id</th>\n",
       "      <th>route_key</th>\n",
       "      <th>route_id</th>\n",
       "      <th>route_type</th>\n",
       "      <th>route_short_name</th>\n",
       "      <th>route_long_name</th>\n",
       "      <th>route_desc</th>\n",
       "      <th>direction_id</th>\n",
       "      <th>shape_array_key</th>\n",
       "      <th>shape_id</th>\n",
       "      <th>trip_first_departure_sec</th>\n",
       "      <th>trip_last_arrival_sec</th>\n",
       "      <th>service_hours</th>\n",
       "    </tr>\n",
       "  </thead>\n",
       "  <tbody>\n",
       "    <tr>\n",
       "      <th>0</th>\n",
       "      <td>02fbd8719f99b906e65b2cf86cbb7cae</td>\n",
       "      <td>Santa Cruz Schedule</td>\n",
       "      <td>None</td>\n",
       "      <td>2022-11-28</td>\n",
       "      <td>6167e9d932d9f5a879e444259651b435</td>\n",
       "      <td>3802759-202310S-vs20231S-Weekday-04</td>\n",
       "      <td>4a887925f8478d1af869bc42941476dd</td>\n",
       "      <td>15</td>\n",
       "      <td>3</td>\n",
       "      <td>15</td>\n",
       "      <td>UCSC via Main Gate - Laurel</td>\n",
       "      <td>None</td>\n",
       "      <td>0</td>\n",
       "      <td>74a5df527cef86fcf8ade1542aabc087</td>\n",
       "      <td>150010</td>\n",
       "      <td>76500</td>\n",
       "      <td>78720</td>\n",
       "      <td>0.616667</td>\n",
       "    </tr>\n",
       "    <tr>\n",
       "      <th>1</th>\n",
       "      <td>02fbd8719f99b906e65b2cf86cbb7cae</td>\n",
       "      <td>Santa Cruz Schedule</td>\n",
       "      <td>None</td>\n",
       "      <td>2022-11-28</td>\n",
       "      <td>8cd1f350cf263566a7df0e71abb5a553</td>\n",
       "      <td>3802527-202310S-vs20231S-Weekday-04</td>\n",
       "      <td>85edfcd275ffa87af6e1bfa570f52451</td>\n",
       "      <td>68</td>\n",
       "      <td>3</td>\n",
       "      <td>68</td>\n",
       "      <td>Broadway/Portola</td>\n",
       "      <td>None</td>\n",
       "      <td>0</td>\n",
       "      <td>0c9d3e815dee0c035ca47ffc1cfb1d95</td>\n",
       "      <td>680013</td>\n",
       "      <td>36900</td>\n",
       "      <td>38280</td>\n",
       "      <td>0.383333</td>\n",
       "    </tr>\n",
       "    <tr>\n",
       "      <th>2</th>\n",
       "      <td>02fbd8719f99b906e65b2cf86cbb7cae</td>\n",
       "      <td>Santa Cruz Schedule</td>\n",
       "      <td>None</td>\n",
       "      <td>2022-11-28</td>\n",
       "      <td>da1631559c2d72bd2ff7386b69e97ef5</td>\n",
       "      <td>3802584-202310S-vs20231S-Weekday-04</td>\n",
       "      <td>ce261da1009b3a483a263263677c1b31</td>\n",
       "      <td>72</td>\n",
       "      <td>3</td>\n",
       "      <td>72</td>\n",
       "      <td>Green Valley - Hospital</td>\n",
       "      <td>None</td>\n",
       "      <td>0</td>\n",
       "      <td>7de23b8696b2d376937b034c281f785a</td>\n",
       "      <td>720004</td>\n",
       "      <td>38700</td>\n",
       "      <td>41940</td>\n",
       "      <td>0.900000</td>\n",
       "    </tr>\n",
       "    <tr>\n",
       "      <th>3</th>\n",
       "      <td>02fbd8719f99b906e65b2cf86cbb7cae</td>\n",
       "      <td>Santa Cruz Schedule</td>\n",
       "      <td>None</td>\n",
       "      <td>2022-11-28</td>\n",
       "      <td>06aa47879ff4d2c80c75db8f9d3af97d</td>\n",
       "      <td>3802690-202310S-vs20231S-Weekday-04</td>\n",
       "      <td>fb29236ea16de26b5ce849c9e8c70103</td>\n",
       "      <td>18</td>\n",
       "      <td>3</td>\n",
       "      <td>18</td>\n",
       "      <td>UCSC via Main Gate - Mission</td>\n",
       "      <td>None</td>\n",
       "      <td>0</td>\n",
       "      <td>5f0d8f26b2a157bf88248bdcbaad4d23</td>\n",
       "      <td>180004</td>\n",
       "      <td>41100</td>\n",
       "      <td>44520</td>\n",
       "      <td>0.950000</td>\n",
       "    </tr>\n",
       "    <tr>\n",
       "      <th>4</th>\n",
       "      <td>02fbd8719f99b906e65b2cf86cbb7cae</td>\n",
       "      <td>Santa Cruz Schedule</td>\n",
       "      <td>None</td>\n",
       "      <td>2022-11-28</td>\n",
       "      <td>7e86b6ef5879b5a9a840b4cdb98027c7</td>\n",
       "      <td>3802530-202310S-vs20231S-Weekday-04</td>\n",
       "      <td>85edfcd275ffa87af6e1bfa570f52451</td>\n",
       "      <td>68</td>\n",
       "      <td>3</td>\n",
       "      <td>68</td>\n",
       "      <td>Broadway/Portola</td>\n",
       "      <td>None</td>\n",
       "      <td>0</td>\n",
       "      <td>0c9d3e815dee0c035ca47ffc1cfb1d95</td>\n",
       "      <td>680013</td>\n",
       "      <td>26100</td>\n",
       "      <td>27300</td>\n",
       "      <td>0.333333</td>\n",
       "    </tr>\n",
       "  </tbody>\n",
       "</table>\n",
       "</div>"
      ],
      "text/plain": [
       "                           feed_key                 name regional_feed_type  \\\n",
       "0  02fbd8719f99b906e65b2cf86cbb7cae  Santa Cruz Schedule               None   \n",
       "1  02fbd8719f99b906e65b2cf86cbb7cae  Santa Cruz Schedule               None   \n",
       "2  02fbd8719f99b906e65b2cf86cbb7cae  Santa Cruz Schedule               None   \n",
       "3  02fbd8719f99b906e65b2cf86cbb7cae  Santa Cruz Schedule               None   \n",
       "4  02fbd8719f99b906e65b2cf86cbb7cae  Santa Cruz Schedule               None   \n",
       "\n",
       "  service_date                          trip_key  \\\n",
       "0   2022-11-28  6167e9d932d9f5a879e444259651b435   \n",
       "1   2022-11-28  8cd1f350cf263566a7df0e71abb5a553   \n",
       "2   2022-11-28  da1631559c2d72bd2ff7386b69e97ef5   \n",
       "3   2022-11-28  06aa47879ff4d2c80c75db8f9d3af97d   \n",
       "4   2022-11-28  7e86b6ef5879b5a9a840b4cdb98027c7   \n",
       "\n",
       "                               trip_id                         route_key  \\\n",
       "0  3802759-202310S-vs20231S-Weekday-04  4a887925f8478d1af869bc42941476dd   \n",
       "1  3802527-202310S-vs20231S-Weekday-04  85edfcd275ffa87af6e1bfa570f52451   \n",
       "2  3802584-202310S-vs20231S-Weekday-04  ce261da1009b3a483a263263677c1b31   \n",
       "3  3802690-202310S-vs20231S-Weekday-04  fb29236ea16de26b5ce849c9e8c70103   \n",
       "4  3802530-202310S-vs20231S-Weekday-04  85edfcd275ffa87af6e1bfa570f52451   \n",
       "\n",
       "  route_id route_type route_short_name               route_long_name  \\\n",
       "0       15          3               15   UCSC via Main Gate - Laurel   \n",
       "1       68          3               68              Broadway/Portola   \n",
       "2       72          3               72       Green Valley - Hospital   \n",
       "3       18          3               18  UCSC via Main Gate - Mission   \n",
       "4       68          3               68              Broadway/Portola   \n",
       "\n",
       "  route_desc  direction_id                   shape_array_key shape_id  \\\n",
       "0       None             0  74a5df527cef86fcf8ade1542aabc087   150010   \n",
       "1       None             0  0c9d3e815dee0c035ca47ffc1cfb1d95   680013   \n",
       "2       None             0  7de23b8696b2d376937b034c281f785a   720004   \n",
       "3       None             0  5f0d8f26b2a157bf88248bdcbaad4d23   180004   \n",
       "4       None             0  0c9d3e815dee0c035ca47ffc1cfb1d95   680013   \n",
       "\n",
       "   trip_first_departure_sec  trip_last_arrival_sec  service_hours  \n",
       "0                     76500                  78720       0.616667  \n",
       "1                     36900                  38280       0.383333  \n",
       "2                     38700                  41940       0.900000  \n",
       "3                     41100                  44520       0.950000  \n",
       "4                     26100                  27300       0.333333  "
      ]
     },
     "execution_count": 63,
     "metadata": {},
     "output_type": "execute_result"
    }
   ],
   "source": [
    "trips.head()"
   ]
  },
  {
   "cell_type": "code",
   "execution_count": 64,
   "id": "a2c172df-f4d5-4edc-b33d-3b9df1ae9310",
   "metadata": {},
   "outputs": [
    {
     "data": {
      "text/plain": [
       "526"
      ]
     },
     "execution_count": 64,
     "metadata": {},
     "output_type": "execute_result"
    }
   ],
   "source": [
    "len(trips)"
   ]
  },
  {
   "cell_type": "code",
   "execution_count": 65,
   "id": "74465678-df93-45c4-9011-42abf564e8b5",
   "metadata": {},
   "outputs": [
    {
     "data": {
      "text/plain": [
       "both          526\n",
       "left_only       0\n",
       "right_only      0\n",
       "Name: _merge, dtype: int64"
      ]
     },
     "execution_count": 65,
     "metadata": {},
     "output_type": "execute_result"
    }
   ],
   "source": [
    "(shapes.merge(trips, how=\"outer\", indicator=True))._merge.value_counts()"
   ]
  },
  {
   "cell_type": "code",
   "execution_count": 66,
   "id": "dec375e1-8cae-419e-9358-49d9188aafdd",
   "metadata": {},
   "outputs": [],
   "source": [
    "df = shapes.merge(trips, how=\"outer\", indicator=True)"
   ]
  },
  {
   "cell_type": "code",
   "execution_count": 67,
   "id": "851d0380-f33f-40c0-a68a-8a248a6342e8",
   "metadata": {},
   "outputs": [
    {
     "data": {
      "text/plain": [
       "Index(['feed_key', 'shape_id', 'shape_array_key', 'n_trips', 'geometry',\n",
       "       'name', 'regional_feed_type', 'service_date', 'trip_key', 'trip_id',\n",
       "       'route_key', 'route_id', 'route_type', 'route_short_name',\n",
       "       'route_long_name', 'route_desc', 'direction_id',\n",
       "       'trip_first_departure_sec', 'trip_last_arrival_sec', 'service_hours',\n",
       "       '_merge'],\n",
       "      dtype='object')"
      ]
     },
     "execution_count": 67,
     "metadata": {},
     "output_type": "execute_result"
    }
   ],
   "source": [
    "df.columns"
   ]
  },
  {
   "cell_type": "code",
   "execution_count": 68,
   "id": "c4ca3a4c-ca6b-4edc-b73f-77ced23bed0d",
   "metadata": {},
   "outputs": [
    {
     "data": {
      "text/html": [
       "<div>\n",
       "<style scoped>\n",
       "    .dataframe tbody tr th:only-of-type {\n",
       "        vertical-align: middle;\n",
       "    }\n",
       "\n",
       "    .dataframe tbody tr th {\n",
       "        vertical-align: top;\n",
       "    }\n",
       "\n",
       "    .dataframe thead th {\n",
       "        text-align: right;\n",
       "    }\n",
       "</style>\n",
       "<table border=\"1\" class=\"dataframe\">\n",
       "  <thead>\n",
       "    <tr style=\"text-align: right;\">\n",
       "      <th></th>\n",
       "      <th>feed_key</th>\n",
       "      <th>shape_id</th>\n",
       "      <th>shape_array_key</th>\n",
       "      <th>n_trips</th>\n",
       "      <th>geometry</th>\n",
       "      <th>name</th>\n",
       "      <th>regional_feed_type</th>\n",
       "      <th>service_date</th>\n",
       "      <th>trip_key</th>\n",
       "      <th>trip_id</th>\n",
       "      <th>route_key</th>\n",
       "      <th>route_id</th>\n",
       "      <th>route_type</th>\n",
       "      <th>route_short_name</th>\n",
       "      <th>route_long_name</th>\n",
       "      <th>route_desc</th>\n",
       "      <th>direction_id</th>\n",
       "      <th>trip_first_departure_sec</th>\n",
       "      <th>trip_last_arrival_sec</th>\n",
       "      <th>service_hours</th>\n",
       "      <th>_merge</th>\n",
       "    </tr>\n",
       "  </thead>\n",
       "  <tbody>\n",
       "    <tr>\n",
       "      <th>170</th>\n",
       "      <td>02fbd8719f99b906e65b2cf86cbb7cae</td>\n",
       "      <td>69A0006</td>\n",
       "      <td>9c7b0cbce320ff6a7a20f1fafd184577</td>\n",
       "      <td>12</td>\n",
       "      <td>LINESTRING (-156600.649 -121553.231, -156631.1...</td>\n",
       "      <td>Santa Cruz Schedule</td>\n",
       "      <td>None</td>\n",
       "      <td>2022-11-28</td>\n",
       "      <td>4f33cfbf61705c17783f9d6486ae8824</td>\n",
       "      <td>3802377-202310S-vs20231S-Weekday-04</td>\n",
       "      <td>79cb7673f482127f0c7a21f643e3a296</td>\n",
       "      <td>69A</td>\n",
       "      <td>3</td>\n",
       "      <td>69A</td>\n",
       "      <td>Capitola/Airport</td>\n",
       "      <td>None</td>\n",
       "      <td>1</td>\n",
       "      <td>58800</td>\n",
       "      <td>61980</td>\n",
       "      <td>0.883333</td>\n",
       "      <td>both</td>\n",
       "    </tr>\n",
       "    <tr>\n",
       "      <th>374</th>\n",
       "      <td>02fbd8719f99b906e65b2cf86cbb7cae</td>\n",
       "      <td>69W0006</td>\n",
       "      <td>e7e5eb37c35d550e6ed98214e6cb6894</td>\n",
       "      <td>16</td>\n",
       "      <td>LINESTRING (-156600.649 -121553.231, -156631.1...</td>\n",
       "      <td>Santa Cruz Schedule</td>\n",
       "      <td>None</td>\n",
       "      <td>2022-11-28</td>\n",
       "      <td>bb11591357c432b8c0ce914a996e0c70</td>\n",
       "      <td>3802381-202310S-vs20231S-Weekday-04</td>\n",
       "      <td>b9a2dcc2c127e4c52785b6beb2d7e315</td>\n",
       "      <td>69W</td>\n",
       "      <td>3</td>\n",
       "      <td>69W</td>\n",
       "      <td>Capitola/Cabrillo</td>\n",
       "      <td>None</td>\n",
       "      <td>1</td>\n",
       "      <td>71400</td>\n",
       "      <td>74100</td>\n",
       "      <td>0.750000</td>\n",
       "      <td>both</td>\n",
       "    </tr>\n",
       "    <tr>\n",
       "      <th>49</th>\n",
       "      <td>02fbd8719f99b906e65b2cf86cbb7cae</td>\n",
       "      <td>170063</td>\n",
       "      <td>2dff360188693fb293a2491a39d2de00</td>\n",
       "      <td>4</td>\n",
       "      <td>LINESTRING (-179979.207 -114286.129, -179977.4...</td>\n",
       "      <td>Santa Cruz Schedule</td>\n",
       "      <td>None</td>\n",
       "      <td>2022-11-28</td>\n",
       "      <td>898c9cadd51cf248db05ce36b61fc2a0</td>\n",
       "      <td>3802426-202310S-vs20231S-Weekday-04</td>\n",
       "      <td>c82a6a45c866193dff5be6639c3b2d86</td>\n",
       "      <td>17</td>\n",
       "      <td>3</td>\n",
       "      <td>17</td>\n",
       "      <td>Amtrak Highway 17 Express</td>\n",
       "      <td>None</td>\n",
       "      <td>0</td>\n",
       "      <td>42720</td>\n",
       "      <td>45900</td>\n",
       "      <td>0.883333</td>\n",
       "      <td>both</td>\n",
       "    </tr>\n",
       "    <tr>\n",
       "      <th>263</th>\n",
       "      <td>02fbd8719f99b906e65b2cf86cbb7cae</td>\n",
       "      <td>750008</td>\n",
       "      <td>31394f3b4ad6570c0c6c9f527f4302a4</td>\n",
       "      <td>14</td>\n",
       "      <td>LINESTRING (-156602.745 -121551.079, -156584.8...</td>\n",
       "      <td>Santa Cruz Schedule</td>\n",
       "      <td>None</td>\n",
       "      <td>2022-11-28</td>\n",
       "      <td>a6e7623f0164ec45d2baf36ce4a4ab48</td>\n",
       "      <td>3802585-202310S-vs20231S-Weekday-04</td>\n",
       "      <td>b42dbffeaf2dbfe4f567881e6bd3663d</td>\n",
       "      <td>75</td>\n",
       "      <td>3</td>\n",
       "      <td>75</td>\n",
       "      <td>Green Valley - Wheelock</td>\n",
       "      <td>None</td>\n",
       "      <td>0</td>\n",
       "      <td>44100</td>\n",
       "      <td>45900</td>\n",
       "      <td>0.500000</td>\n",
       "      <td>both</td>\n",
       "    </tr>\n",
       "    <tr>\n",
       "      <th>524</th>\n",
       "      <td>02fbd8719f99b906e65b2cf86cbb7cae</td>\n",
       "      <td>180004</td>\n",
       "      <td>5f0d8f26b2a157bf88248bdcbaad4d23</td>\n",
       "      <td>39</td>\n",
       "      <td>LINESTRING (-179978.136 -114285.929, -179989.7...</td>\n",
       "      <td>Santa Cruz Schedule</td>\n",
       "      <td>None</td>\n",
       "      <td>2022-11-28</td>\n",
       "      <td>c28ace2804e5c7abf9e7f3a53f4a03e0</td>\n",
       "      <td>3802766-202310S-vs20231S-Weekday-04</td>\n",
       "      <td>fb29236ea16de26b5ce849c9e8c70103</td>\n",
       "      <td>18</td>\n",
       "      <td>3</td>\n",
       "      <td>18</td>\n",
       "      <td>UCSC via Main Gate - Mission</td>\n",
       "      <td>None</td>\n",
       "      <td>0</td>\n",
       "      <td>82500</td>\n",
       "      <td>84780</td>\n",
       "      <td>0.633333</td>\n",
       "      <td>both</td>\n",
       "    </tr>\n",
       "  </tbody>\n",
       "</table>\n",
       "</div>"
      ],
      "text/plain": [
       "                             feed_key shape_id  \\\n",
       "170  02fbd8719f99b906e65b2cf86cbb7cae  69A0006   \n",
       "374  02fbd8719f99b906e65b2cf86cbb7cae  69W0006   \n",
       "49   02fbd8719f99b906e65b2cf86cbb7cae   170063   \n",
       "263  02fbd8719f99b906e65b2cf86cbb7cae   750008   \n",
       "524  02fbd8719f99b906e65b2cf86cbb7cae   180004   \n",
       "\n",
       "                      shape_array_key  n_trips  \\\n",
       "170  9c7b0cbce320ff6a7a20f1fafd184577       12   \n",
       "374  e7e5eb37c35d550e6ed98214e6cb6894       16   \n",
       "49   2dff360188693fb293a2491a39d2de00        4   \n",
       "263  31394f3b4ad6570c0c6c9f527f4302a4       14   \n",
       "524  5f0d8f26b2a157bf88248bdcbaad4d23       39   \n",
       "\n",
       "                                              geometry                 name  \\\n",
       "170  LINESTRING (-156600.649 -121553.231, -156631.1...  Santa Cruz Schedule   \n",
       "374  LINESTRING (-156600.649 -121553.231, -156631.1...  Santa Cruz Schedule   \n",
       "49   LINESTRING (-179979.207 -114286.129, -179977.4...  Santa Cruz Schedule   \n",
       "263  LINESTRING (-156602.745 -121551.079, -156584.8...  Santa Cruz Schedule   \n",
       "524  LINESTRING (-179978.136 -114285.929, -179989.7...  Santa Cruz Schedule   \n",
       "\n",
       "    regional_feed_type service_date                          trip_key  \\\n",
       "170               None   2022-11-28  4f33cfbf61705c17783f9d6486ae8824   \n",
       "374               None   2022-11-28  bb11591357c432b8c0ce914a996e0c70   \n",
       "49                None   2022-11-28  898c9cadd51cf248db05ce36b61fc2a0   \n",
       "263               None   2022-11-28  a6e7623f0164ec45d2baf36ce4a4ab48   \n",
       "524               None   2022-11-28  c28ace2804e5c7abf9e7f3a53f4a03e0   \n",
       "\n",
       "                                 trip_id                         route_key  \\\n",
       "170  3802377-202310S-vs20231S-Weekday-04  79cb7673f482127f0c7a21f643e3a296   \n",
       "374  3802381-202310S-vs20231S-Weekday-04  b9a2dcc2c127e4c52785b6beb2d7e315   \n",
       "49   3802426-202310S-vs20231S-Weekday-04  c82a6a45c866193dff5be6639c3b2d86   \n",
       "263  3802585-202310S-vs20231S-Weekday-04  b42dbffeaf2dbfe4f567881e6bd3663d   \n",
       "524  3802766-202310S-vs20231S-Weekday-04  fb29236ea16de26b5ce849c9e8c70103   \n",
       "\n",
       "    route_id route_type route_short_name               route_long_name  \\\n",
       "170      69A          3              69A              Capitola/Airport   \n",
       "374      69W          3              69W             Capitola/Cabrillo   \n",
       "49        17          3               17     Amtrak Highway 17 Express   \n",
       "263       75          3               75       Green Valley - Wheelock   \n",
       "524       18          3               18  UCSC via Main Gate - Mission   \n",
       "\n",
       "    route_desc  direction_id  trip_first_departure_sec  trip_last_arrival_sec  \\\n",
       "170       None             1                     58800                  61980   \n",
       "374       None             1                     71400                  74100   \n",
       "49        None             0                     42720                  45900   \n",
       "263       None             0                     44100                  45900   \n",
       "524       None             0                     82500                  84780   \n",
       "\n",
       "     service_hours _merge  \n",
       "170       0.883333   both  \n",
       "374       0.750000   both  \n",
       "49        0.883333   both  \n",
       "263       0.500000   both  \n",
       "524       0.633333   both  "
      ]
     },
     "execution_count": 68,
     "metadata": {},
     "output_type": "execute_result"
    }
   ],
   "source": [
    "df.sample(5)"
   ]
  },
  {
   "cell_type": "code",
   "execution_count": 69,
   "id": "fc4a4673-f5b4-4785-857b-1e58619c53e4",
   "metadata": {},
   "outputs": [],
   "source": [
    "routes_to_keep = ['69A', '69W', '71', '91X']"
   ]
  },
  {
   "cell_type": "code",
   "execution_count": 70,
   "id": "34a4f982-f5d2-46b2-971a-90c3c9bd3f45",
   "metadata": {},
   "outputs": [],
   "source": [
    "df = df>>filter(_[\"route_short_name\"].isin(routes_to_keep))"
   ]
  },
  {
   "cell_type": "code",
   "execution_count": 71,
   "id": "cfc11c11-a93f-4d98-8e6b-a8330d7e3c8e",
   "metadata": {},
   "outputs": [
    {
     "data": {
      "text/html": [
       "<div>\n",
       "<style scoped>\n",
       "    .dataframe tbody tr th:only-of-type {\n",
       "        vertical-align: middle;\n",
       "    }\n",
       "\n",
       "    .dataframe tbody tr th {\n",
       "        vertical-align: top;\n",
       "    }\n",
       "\n",
       "    .dataframe thead th {\n",
       "        text-align: right;\n",
       "    }\n",
       "</style>\n",
       "<table border=\"1\" class=\"dataframe\">\n",
       "  <thead>\n",
       "    <tr style=\"text-align: right;\">\n",
       "      <th></th>\n",
       "      <th>feed_key</th>\n",
       "      <th>shape_id</th>\n",
       "      <th>shape_array_key</th>\n",
       "      <th>n_trips</th>\n",
       "      <th>geometry</th>\n",
       "      <th>name</th>\n",
       "      <th>regional_feed_type</th>\n",
       "      <th>service_date</th>\n",
       "      <th>trip_key</th>\n",
       "      <th>trip_id</th>\n",
       "      <th>route_key</th>\n",
       "      <th>route_id</th>\n",
       "      <th>route_type</th>\n",
       "      <th>route_short_name</th>\n",
       "      <th>route_long_name</th>\n",
       "      <th>route_desc</th>\n",
       "      <th>direction_id</th>\n",
       "      <th>trip_first_departure_sec</th>\n",
       "      <th>trip_last_arrival_sec</th>\n",
       "      <th>service_hours</th>\n",
       "      <th>_merge</th>\n",
       "    </tr>\n",
       "  </thead>\n",
       "  <tbody>\n",
       "    <tr>\n",
       "      <th>187</th>\n",
       "      <td>02fbd8719f99b906e65b2cf86cbb7cae</td>\n",
       "      <td>69A0005</td>\n",
       "      <td>eabe33987121e3333bf22b231dcbaa65</td>\n",
       "      <td>12</td>\n",
       "      <td>LINESTRING (-179972.670 -114317.287, -179934.5...</td>\n",
       "      <td>Santa Cruz Schedule</td>\n",
       "      <td>None</td>\n",
       "      <td>2022-11-28</td>\n",
       "      <td>71927aa5ccc4750a3db991d7e56fac8d</td>\n",
       "      <td>3802369-202310S-vs20231S-Weekday-04</td>\n",
       "      <td>79cb7673f482127f0c7a21f643e3a296</td>\n",
       "      <td>69A</td>\n",
       "      <td>3</td>\n",
       "      <td>69A</td>\n",
       "      <td>Capitola/Airport</td>\n",
       "      <td>None</td>\n",
       "      <td>0</td>\n",
       "      <td>36420</td>\n",
       "      <td>39480</td>\n",
       "      <td>0.85</td>\n",
       "      <td>both</td>\n",
       "    </tr>\n",
       "  </tbody>\n",
       "</table>\n",
       "</div>"
      ],
      "text/plain": [
       "                             feed_key shape_id  \\\n",
       "187  02fbd8719f99b906e65b2cf86cbb7cae  69A0005   \n",
       "\n",
       "                      shape_array_key  n_trips  \\\n",
       "187  eabe33987121e3333bf22b231dcbaa65       12   \n",
       "\n",
       "                                              geometry                 name  \\\n",
       "187  LINESTRING (-179972.670 -114317.287, -179934.5...  Santa Cruz Schedule   \n",
       "\n",
       "    regional_feed_type service_date                          trip_key  \\\n",
       "187               None   2022-11-28  71927aa5ccc4750a3db991d7e56fac8d   \n",
       "\n",
       "                                 trip_id                         route_key  \\\n",
       "187  3802369-202310S-vs20231S-Weekday-04  79cb7673f482127f0c7a21f643e3a296   \n",
       "\n",
       "    route_id route_type route_short_name   route_long_name route_desc  \\\n",
       "187      69A          3              69A  Capitola/Airport       None   \n",
       "\n",
       "     direction_id  trip_first_departure_sec  trip_last_arrival_sec  \\\n",
       "187             0                     36420                  39480   \n",
       "\n",
       "     service_hours _merge  \n",
       "187           0.85   both  "
      ]
     },
     "execution_count": 71,
     "metadata": {},
     "output_type": "execute_result"
    }
   ],
   "source": [
    "df.sample()"
   ]
  },
  {
   "cell_type": "code",
   "execution_count": 72,
   "id": "0c09e7b5-d609-4f3d-bf25-323d692cb8d0",
   "metadata": {},
   "outputs": [
    {
     "data": {
      "text/plain": [
       "<AxesSubplot:>"
      ]
     },
     "execution_count": 72,
     "metadata": {},
     "output_type": "execute_result"
    },
    {
     "data": {
      "image/png": "[encoded data removed]",
      "text/plain": [
       "<Figure size 640x480 with 1 Axes>"
      ]
     },
     "metadata": {},
     "output_type": "display_data"
    }
   ],
   "source": [
    "df.plot()"
   ]
  },
  {
   "cell_type": "code",
   "execution_count": 73,
   "id": "f4ad628c-232b-4f2b-aa97-38c4a1f762a4",
   "metadata": {},
   "outputs": [],
   "source": [
    "gdf = df>>select(_.shape_id, _.geometry)"
   ]
  },
  {
   "cell_type": "code",
   "execution_count": 74,
   "id": "afa115dc-8e1c-42a3-a52e-26c0853f9443",
   "metadata": {},
   "outputs": [],
   "source": [
    "gdf2 =  gpd.GeoDataFrame(gdf)"
   ]
  },
  {
   "cell_type": "code",
   "execution_count": null,
   "id": "e20f127b-f1c1-4d2c-93c7-1a6ed8f73e11",
   "metadata": {},
   "outputs": [],
   "source": [
    "# gdf2.to_file('transit_route.shp')  "
   ]
  },
  {
   "cell_type": "code",
   "execution_count": 77,
   "id": "29249880-a5a7-4cd3-9ebb-f9e8c90a1d2f",
   "metadata": {},
   "outputs": [
    {
     "name": "stdout",
     "output_type": "stream",
     "text": [
      "Path name: transit_route.zip\n",
      "Dirname (1st element of path): transit_route\n",
      "Shapefile name: transit_route.shp\n",
      "Shapefile component parts folder: transit_route/transit_route.shp\n"
     ]
    }
   ],
   "source": [
    "utils.make_zipped_shapefile(gdf2,\n",
    "                             \"transit_route.zip\", \n",
    "                            # gcs_fol/der = f\"{GCS_PATH}/\"\n",
    "                           )"
   ]
  },
  {
   "cell_type": "code",
   "execution_count": null,
   "id": "77fd58d5-65d0-4c0c-808f-cc7e313018ba",
   "metadata": {},
   "outputs": [],
   "source": []
  }
 ],
 "metadata": {
  "kernelspec": {
   "display_name": "Python 3 (ipykernel)",
   "language": "python",
   "name": "python3"
  },
  "language_info": {
   "codemirror_mode": {
    "name": "ipython",
    "version": 3
   },
   "file_extension": ".py",
   "mimetype": "text/x-python",
   "name": "python",
   "nbconvert_exporter": "python",
   "pygments_lexer": "ipython3",
   "version": "3.9.13"
  },
  "widgets": {
   "application/vnd.jupyter.widget-state+json": {
    "state": {},
    "version_major": 2,
    "version_minor": 0
   }
  }
 },
 "nbformat": 4,
 "nbformat_minor": 5
}
