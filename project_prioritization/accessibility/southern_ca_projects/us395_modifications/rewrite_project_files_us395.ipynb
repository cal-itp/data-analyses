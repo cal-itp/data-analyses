{
 "cells": [
  {
   "cell_type": "code",
   "execution_count": 3,
   "id": "802cbc3f-6b13-4644-aaea-5f1febdc5558",
   "metadata": {},
   "outputs": [],
   "source": [
    "# import os\n",
    "# os.environ[\"CALITP_BQ_MAX_BYTES\"] = str(800_000_000_000) "
   ]
  },
  {
   "cell_type": "code",
   "execution_count": 4,
   "id": "8a0f9f1b-174e-431b-9131-84c111a3b238",
   "metadata": {},
   "outputs": [],
   "source": [
    "import pandas as pd\n",
    "import geopandas as gpd\n",
    "import matplotlib.pyplot as plt"
   ]
  },
  {
   "cell_type": "code",
   "execution_count": 5,
   "id": "84de755f-2d67-4dbf-b6ca-620c8d633572",
   "metadata": {},
   "outputs": [],
   "source": [
    "pd.set_option('display.max_columns', None)"
   ]
  },
  {
   "cell_type": "code",
   "execution_count": 6,
   "id": "62473c52-3c7a-40cb-846a-f554be252fb9",
   "metadata": {},
   "outputs": [],
   "source": [
    "import json"
   ]
  },
  {
   "cell_type": "code",
   "execution_count": 7,
   "id": "86291e8c-4b80-46b7-99eb-ef2f43b5bff8",
   "metadata": {},
   "outputs": [],
   "source": [
    "from calitp_data_analysis import utils"
   ]
  },
  {
   "cell_type": "code",
   "execution_count": 8,
   "id": "58f6be83-d014-49c1-923f-d415e4ead66d",
   "metadata": {},
   "outputs": [],
   "source": [
    "local_path = \"/home/jovyan/data-analyses/project_prioritization/accessibility/us395_modifications\""
   ]
  },
  {
   "cell_type": "code",
   "execution_count": 9,
   "id": "c8f53fea-68b1-4908-80a6-9a537e7c074c",
   "metadata": {},
   "outputs": [],
   "source": [
    "GCS_PATH = \"gs://calitp-analytics-data/data-analyses/project_prioritization/US395_Project_SHP_files\""
   ]
  },
  {
   "cell_type": "code",
   "execution_count": null,
   "id": "4ef23f03-4efb-42d8-a8e8-f61a61f2fb87",
   "metadata": {},
   "outputs": [],
   "source": []
  },
  {
   "cell_type": "code",
   "execution_count": null,
   "id": "95957c78-fa7a-4272-a8c8-79f9184bff15",
   "metadata": {},
   "outputs": [],
   "source": [
    "# import json\n",
    "# with open('project_location2.json') as json_file: \n",
    "#     data = json.load(json_file) \n",
    "# print(data['polygons'][0]['geometry']['coordinates'][0])"
   ]
  },
  {
   "cell_type": "code",
   "execution_count": null,
   "id": "dfc99d3c-bcf1-4cf3-be07-8e86cb3dfad9",
   "metadata": {},
   "outputs": [],
   "source": [
    "## error reading due to len of arrays not matching\n",
    "# line = pd.read_json(\"eb_greenway_files/project_location.json\")"
   ]
  },
  {
   "cell_type": "code",
   "execution_count": null,
   "id": "a8ae713f-d001-4b18-bb61-0bc5583ff98d",
   "metadata": {},
   "outputs": [],
   "source": []
  },
  {
   "cell_type": "code",
   "execution_count": null,
   "id": "a026e0f3-1834-47c5-997b-04261b26f843",
   "metadata": {},
   "outputs": [],
   "source": []
  },
  {
   "cell_type": "markdown",
   "id": "495dd1aa-05b7-4dda-9769-d1a5ae3a3ab8",
   "metadata": {},
   "source": [
    "#### Project to Shape file"
   ]
  },
  {
   "cell_type": "code",
   "execution_count": 10,
   "id": "671ebcf6-7e64-4dec-ac7a-6a669036f6e6",
   "metadata": {},
   "outputs": [],
   "source": [
    "add_lanes = gpd.read_file('us395_add_lanes_geo.geojson')"
   ]
  },
  {
   "cell_type": "code",
   "execution_count": 11,
   "id": "a6f45547-9eda-42c2-9836-9aabc6336ea9",
   "metadata": {},
   "outputs": [
    {
     "data": {
      "text/html": [
       "<div>\n",
       "<style scoped>\n",
       "    .dataframe tbody tr th:only-of-type {\n",
       "        vertical-align: middle;\n",
       "    }\n",
       "\n",
       "    .dataframe tbody tr th {\n",
       "        vertical-align: top;\n",
       "    }\n",
       "\n",
       "    .dataframe thead th {\n",
       "        text-align: right;\n",
       "    }\n",
       "</style>\n",
       "<table border=\"1\" class=\"dataframe\">\n",
       "  <thead>\n",
       "    <tr style=\"text-align: right;\">\n",
       "      <th></th>\n",
       "      <th>geometry</th>\n",
       "    </tr>\n",
       "  </thead>\n",
       "  <tbody>\n",
       "    <tr>\n",
       "      <th>0</th>\n",
       "      <td>MULTILINESTRING ((-117.39977 34.50668, -117.39...</td>\n",
       "    </tr>\n",
       "  </tbody>\n",
       "</table>\n",
       "</div>"
      ],
      "text/plain": [
       "                                            geometry\n",
       "0  MULTILINESTRING ((-117.39977 34.50668, -117.39..."
      ]
     },
     "execution_count": 11,
     "metadata": {},
     "output_type": "execute_result"
    }
   ],
   "source": [
    "add_lanes"
   ]
  },
  {
   "cell_type": "code",
   "execution_count": 12,
   "id": "08935f2a-d932-42e0-ba03-f3af9ba6620e",
   "metadata": {},
   "outputs": [
    {
     "data": {
      "image/png": "[encoded data removed]",
      "text/plain": [
       "<Figure size 640x480 with 1 Axes>"
      ]
     },
     "metadata": {},
     "output_type": "display_data"
    }
   ],
   "source": [
    "ax = add_lanes.plot(color='blue')"
   ]
  },
  {
   "cell_type": "code",
   "execution_count": 14,
   "id": "cf57fa32-4c3c-4f6a-b808-bc1e443cf34d",
   "metadata": {},
   "outputs": [],
   "source": [
    "# add_lanes.to_file('us395_add_lanes.shp')  "
   ]
  },
  {
   "cell_type": "code",
   "execution_count": 15,
   "id": "ce85076a-e973-4e87-b705-a37b09617fd9",
   "metadata": {},
   "outputs": [
    {
     "name": "stdout",
     "output_type": "stream",
     "text": [
      "Path name: us395_add_lanes.zip\n",
      "Dirname (1st element of path): us395_add_lanes\n",
      "Shapefile name: us395_add_lanes.shp\n",
      "Shapefile component parts folder: us395_add_lanes/us395_add_lanes.shp\n"
     ]
    }
   ],
   "source": [
    "utils.make_zipped_shapefile(add_lanes,\n",
    "                             \"us395_add_lanes.zip\", \n",
    "                            # gcs_folder = f\"{GCS_PATH}/\"\n",
    "                           )"
   ]
  },
  {
   "cell_type": "code",
   "execution_count": null,
   "id": "464c3e3b-1b62-4af6-b46e-845542b0c119",
   "metadata": {},
   "outputs": [],
   "source": []
  },
  {
   "cell_type": "code",
   "execution_count": null,
   "id": "ee090c2e-94ff-49d6-a493-3401584609a3",
   "metadata": {},
   "outputs": [],
   "source": []
  },
  {
   "cell_type": "code",
   "execution_count": 16,
   "id": "05e8e67a-498e-4477-8f32-5ca8cf721765",
   "metadata": {},
   "outputs": [],
   "source": [
    "bike_ped = gpd.read_file('us395_bike_ped.geojson')"
   ]
  },
  {
   "cell_type": "code",
   "execution_count": 18,
   "id": "7a1eee5a-35e6-43dc-bfcc-7b37707b5aae",
   "metadata": {},
   "outputs": [
    {
     "data": {
      "text/html": [
       "<div>\n",
       "<style scoped>\n",
       "    .dataframe tbody tr th:only-of-type {\n",
       "        vertical-align: middle;\n",
       "    }\n",
       "\n",
       "    .dataframe tbody tr th {\n",
       "        vertical-align: top;\n",
       "    }\n",
       "\n",
       "    .dataframe thead th {\n",
       "        text-align: right;\n",
       "    }\n",
       "</style>\n",
       "<table border=\"1\" class=\"dataframe\">\n",
       "  <thead>\n",
       "    <tr style=\"text-align: right;\">\n",
       "      <th></th>\n",
       "      <th>geometry</th>\n",
       "    </tr>\n",
       "  </thead>\n",
       "  <tbody>\n",
       "    <tr>\n",
       "      <th>0</th>\n",
       "      <td>POLYGON ((-117.40008 34.50708, -117.39897 34.5...</td>\n",
       "    </tr>\n",
       "  </tbody>\n",
       "</table>\n",
       "</div>"
      ],
      "text/plain": [
       "                                            geometry\n",
       "0  POLYGON ((-117.40008 34.50708, -117.39897 34.5..."
      ]
     },
     "execution_count": 18,
     "metadata": {},
     "output_type": "execute_result"
    }
   ],
   "source": [
    "bike_ped"
   ]
  },
  {
   "cell_type": "code",
   "execution_count": 19,
   "id": "9bc34cdd-4758-49c4-9368-b531700cb7f7",
   "metadata": {},
   "outputs": [
    {
     "data": {
      "image/png": "[encoded data removed]",
      "text/plain": [
       "<Figure size 640x480 with 1 Axes>"
      ]
     },
     "metadata": {},
     "output_type": "display_data"
    }
   ],
   "source": [
    "ax2 = bike_ped.plot(color=\"green\")"
   ]
  },
  {
   "cell_type": "code",
   "execution_count": 20,
   "id": "0636d33c-1eb4-4836-8559-508cb5a2c47b",
   "metadata": {},
   "outputs": [],
   "source": [
    "# bike_ped.to_file('us395_bike_ped.shp')  "
   ]
  },
  {
   "cell_type": "code",
   "execution_count": 21,
   "id": "6001ecca-cf9a-4ad6-a6a0-1cde3ada05c3",
   "metadata": {},
   "outputs": [
    {
     "name": "stdout",
     "output_type": "stream",
     "text": [
      "Path name: us395_bike_ped.zip\n",
      "Dirname (1st element of path): us395_bike_ped\n",
      "Shapefile name: us395_bike_ped.shp\n",
      "Shapefile component parts folder: us395_bike_ped/us395_bike_ped.shp\n"
     ]
    }
   ],
   "source": [
    "utils.make_zipped_shapefile(bike_ped,\n",
    "                             \"us395_bike_ped.zip\", \n",
    "                            # gcs_folder = f\"{GCS_PATH}/\"\n",
    "                           )"
   ]
  },
  {
   "cell_type": "code",
   "execution_count": null,
   "id": "6d6594d5-3567-4440-867c-31f848e952cc",
   "metadata": {},
   "outputs": [],
   "source": []
  },
  {
   "cell_type": "code",
   "execution_count": null,
   "id": "ff604cf2-63fb-42da-b968-ad50984729ca",
   "metadata": {},
   "outputs": [],
   "source": []
  },
  {
   "cell_type": "code",
   "execution_count": null,
   "id": "77fd58d5-65d0-4c0c-808f-cc7e313018ba",
   "metadata": {},
   "outputs": [],
   "source": []
  }
 ],
 "metadata": {
  "kernelspec": {
   "display_name": "Python 3 (ipykernel)",
   "language": "python",
   "name": "python3"
  },
  "language_info": {
   "codemirror_mode": {
    "name": "ipython",
    "version": 3
   },
   "file_extension": ".py",
   "mimetype": "text/x-python",
   "name": "python",
   "nbconvert_exporter": "python",
   "pygments_lexer": "ipython3",
   "version": "3.9.13"
  },
  "widgets": {
   "application/vnd.jupyter.widget-state+json": {
    "state": {},
    "version_major": 2,
    "version_minor": 0
   }
  }
 },
 "nbformat": 4,
 "nbformat_minor": 5
}
