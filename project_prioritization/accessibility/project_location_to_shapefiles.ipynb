{
 "cells": [
  {
   "cell_type": "markdown",
   "id": "20aaf3ca-9186-47ab-bb5a-2779c43de265",
   "metadata": {},
   "source": [
    "# Converting Jsons to Zipped Shapefiles"
   ]
  },
  {
   "cell_type": "code",
   "execution_count": 1,
   "id": "6fcea931-86eb-4cc5-947a-3444e71485a7",
   "metadata": {},
   "outputs": [
    {
     "name": "stderr",
     "output_type": "stream",
     "text": [
      "/opt/conda/lib/python3.9/site-packages/geopandas/_compat.py:124: UserWarning: The Shapely GEOS version (3.11.1-CAPI-1.17.1) is incompatible with the GEOS version PyGEOS was compiled with (3.10.1-CAPI-1.16.0). Conversions between both will be slow.\n",
      "  warnings.warn(\n",
      "/tmp/ipykernel_628/2399529849.py:2: DeprecationWarning: Shapely 2.0 is installed, but because PyGEOS is also installed, GeoPandas still uses PyGEOS by default. However, starting with version 0.14, the default will switch to Shapely. To force to use Shapely 2.0 now, you can either uninstall PyGEOS or set the environment variable USE_PYGEOS=0. You can do this before starting the Python process, or in your code before importing geopandas:\n",
      "\n",
      "import os\n",
      "os.environ['USE_PYGEOS'] = '0'\n",
      "import geopandas\n",
      "\n",
      "In the next release, GeoPandas will switch to using Shapely by default, even if PyGEOS is installed. If you only have PyGEOS installed to get speed-ups, this switch should be smooth. However, if you are using PyGEOS directly (calling PyGEOS functions on geometries from GeoPandas), this will then stop working and you are encouraged to migrate from PyGEOS to Shapely 2.0 (https://shapely.readthedocs.io/en/latest/migration_pygeos.html).\n",
      "  import geopandas as gpd\n"
     ]
    }
   ],
   "source": [
    "import pandas as pd\n",
    "import geopandas as gpd\n",
    "import matplotlib.pyplot as plt\n",
    "\n",
    "import _utils\n",
    "\n",
    "import json\n",
    "import re \n",
    "import ast\n",
    "import gcsfs\n",
    "import os"
   ]
  },
  {
   "cell_type": "markdown",
   "id": "17f7db63-e65e-4821-a467-5a4628c998be",
   "metadata": {},
   "source": [
    "### Use function in [_utils](https://github.com/cal-itp/data-analyses/tree/main/project_prioritization/accessibility/_utils.py)"
   ]
  },
  {
   "cell_type": "markdown",
   "id": "e011563b-e4d8-4738-90f6-761499accfd3",
   "metadata": {},
   "source": [
    "Add the following information for the uploaded to the function `json_to_shpfile`:\n",
    "* json file, \n",
    "* new name for your file output \n",
    "\n",
    "\n",
    "Download your zipped shape file from the Cal-ITP GCS bucket."
   ]
  },
  {
   "cell_type": "markdown",
   "id": "002b5a14-107f-400b-9a54-89ad1295d0b6",
   "metadata": {},
   "source": [
    "#### For Zipped Shape Files"
   ]
  },
  {
   "cell_type": "code",
   "execution_count": 2,
   "id": "05afd750-4490-4485-b2e4-14c46047de2b",
   "metadata": {},
   "outputs": [
    {
     "name": "stdout",
     "output_type": "stream",
     "text": [
      "Path name: test_us101cc\n",
      "Dirname (1st element of path): test_us101cc\n",
      "Shapefile name: test_us101cc.shp\n",
      "Shapefile component parts folder: test_us101cc/test_us101cc.shp\n"
     ]
    }
   ],
   "source": [
    "_utils.json_to_shpfile('us101_cc_bike.json',      ##json file upload here\n",
    "                       'test_us101cc'             ###new name of the final zip file\n",
    "                      )"
   ]
  },
  {
   "cell_type": "code",
   "execution_count": null,
   "id": "34e1d063-d483-4f38-a702-5fd4130f8930",
   "metadata": {},
   "outputs": [],
   "source": []
  },
  {
   "cell_type": "code",
   "execution_count": null,
   "id": "f3ca5cc4-2529-4f1a-87b6-d28a3282a51b",
   "metadata": {},
   "outputs": [],
   "source": []
  }
 ],
 "metadata": {
  "kernelspec": {
   "display_name": "Python 3 (ipykernel)",
   "language": "python",
   "name": "python3"
  },
  "language_info": {
   "codemirror_mode": {
    "name": "ipython",
    "version": 3
   },
   "file_extension": ".py",
   "mimetype": "text/x-python",
   "name": "python",
   "nbconvert_exporter": "python",
   "pygments_lexer": "ipython3",
   "version": "3.9.13"
  },
  "widgets": {
   "application/vnd.jupyter.widget-state+json": {
    "state": {},
    "version_major": 2,
    "version_minor": 0
   }
  }
 },
 "nbformat": 4,
 "nbformat_minor": 5
}
