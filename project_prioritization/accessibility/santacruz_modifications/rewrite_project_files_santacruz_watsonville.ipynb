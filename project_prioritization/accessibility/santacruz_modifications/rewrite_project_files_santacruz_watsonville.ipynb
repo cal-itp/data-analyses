{
 "cells": [
  {
   "cell_type": "code",
   "execution_count": 1,
   "id": "8a0f9f1b-174e-431b-9131-84c111a3b238",
   "metadata": {},
   "outputs": [
    {
     "name": "stderr",
     "output_type": "stream",
     "text": [
      "/opt/conda/lib/python3.9/site-packages/geopandas/_compat.py:123: UserWarning: The Shapely GEOS version (3.11.1-CAPI-1.17.1) is incompatible with the GEOS version PyGEOS was compiled with (3.10.1-CAPI-1.16.0). Conversions between both will be slow.\n",
      "  warnings.warn(\n",
      "/tmp/ipykernel_479/3465571729.py:2: UserWarning: Shapely 2.0 is installed, but because PyGEOS is also installed, GeoPandas will still use PyGEOS by default for now. To force to use and test Shapely 2.0, you have to set the environment variable USE_PYGEOS=0. You can do this before starting the Python process, or in your code before importing geopandas:\n",
      "\n",
      "import os\n",
      "os.environ['USE_PYGEOS'] = '0'\n",
      "import geopandas\n",
      "\n",
      "In a future release, GeoPandas will switch to using Shapely by default. If you are using PyGEOS directly (calling PyGEOS functions on geometries from GeoPandas), this will then stop working and you are encouraged to migrate from PyGEOS to Shapely 2.0 (https://shapely.readthedocs.io/en/latest/migration_pygeos.html).\n",
      "  import geopandas as gpd\n"
     ]
    }
   ],
   "source": [
    "import pandas as pd\n",
    "import geopandas as gpd\n",
    "import matplotlib.pyplot as plt"
   ]
  },
  {
   "cell_type": "code",
   "execution_count": 73,
   "id": "84de755f-2d67-4dbf-b6ca-620c8d633572",
   "metadata": {},
   "outputs": [],
   "source": [
    "pd.set_option('display.max_columns', None)"
   ]
  },
  {
   "cell_type": "code",
   "execution_count": 2,
   "id": "62473c52-3c7a-40cb-846a-f554be252fb9",
   "metadata": {},
   "outputs": [],
   "source": [
    "import json"
   ]
  },
  {
   "cell_type": "code",
   "execution_count": 3,
   "id": "56f90c33-af6f-4b47-b2f0-defb427fc141",
   "metadata": {},
   "outputs": [],
   "source": [
    "# file = (pd.read_json(\"santacruz_auxiliary_lane.geojson\"))"
   ]
  },
  {
   "cell_type": "code",
   "execution_count": 4,
   "id": "7c169ff8-8111-4d97-84eb-338f16913303",
   "metadata": {},
   "outputs": [],
   "source": [
    "# file"
   ]
  },
  {
   "cell_type": "code",
   "execution_count": null,
   "id": "4ef23f03-4efb-42d8-a8e8-f61a61f2fb87",
   "metadata": {},
   "outputs": [],
   "source": []
  },
  {
   "cell_type": "code",
   "execution_count": 5,
   "id": "95957c78-fa7a-4272-a8c8-79f9184bff15",
   "metadata": {},
   "outputs": [],
   "source": [
    "# import json\n",
    "# with open('project_location2.json') as json_file: \n",
    "#     data = json.load(json_file) \n",
    "# print(data['polygons'][0]['geometry']['coordinates'][0])"
   ]
  },
  {
   "cell_type": "code",
   "execution_count": 6,
   "id": "dfc99d3c-bcf1-4cf3-be07-8e86cb3dfad9",
   "metadata": {},
   "outputs": [],
   "source": [
    "## error reading due to len of arrays not matching\n",
    "# line = pd.read_json(\"eb_greenway_files/project_location.json\")"
   ]
  },
  {
   "cell_type": "code",
   "execution_count": null,
   "id": "a8ae713f-d001-4b18-bb61-0bc5583ff98d",
   "metadata": {},
   "outputs": [],
   "source": []
  },
  {
   "cell_type": "code",
   "execution_count": null,
   "id": "a026e0f3-1834-47c5-997b-04261b26f843",
   "metadata": {},
   "outputs": [],
   "source": []
  },
  {
   "cell_type": "markdown",
   "id": "495dd1aa-05b7-4dda-9769-d1a5ae3a3ab8",
   "metadata": {},
   "source": [
    "#### Project to Shape file"
   ]
  },
  {
   "cell_type": "code",
   "execution_count": 7,
   "id": "671ebcf6-7e64-4dec-ac7a-6a669036f6e6",
   "metadata": {},
   "outputs": [],
   "source": [
    "multimodal_street = gpd.read_file('santacruz_multimodal_street.geojson')"
   ]
  },
  {
   "cell_type": "code",
   "execution_count": 8,
   "id": "a6f45547-9eda-42c2-9836-9aabc6336ea9",
   "metadata": {},
   "outputs": [
    {
     "data": {
      "text/html": [
       "<div>\n",
       "<style scoped>\n",
       "    .dataframe tbody tr th:only-of-type {\n",
       "        vertical-align: middle;\n",
       "    }\n",
       "\n",
       "    .dataframe tbody tr th {\n",
       "        vertical-align: top;\n",
       "    }\n",
       "\n",
       "    .dataframe thead th {\n",
       "        text-align: right;\n",
       "    }\n",
       "</style>\n",
       "<table border=\"1\" class=\"dataframe\">\n",
       "  <thead>\n",
       "    <tr style=\"text-align: right;\">\n",
       "      <th></th>\n",
       "      <th>geometry</th>\n",
       "    </tr>\n",
       "  </thead>\n",
       "  <tbody>\n",
       "    <tr>\n",
       "      <th>0</th>\n",
       "      <td>POLYGON ((-121.87154 36.97216, -121.87173 36.9...</td>\n",
       "    </tr>\n",
       "  </tbody>\n",
       "</table>\n",
       "</div>"
      ],
      "text/plain": [
       "                                            geometry\n",
       "0  POLYGON ((-121.87154 36.97216, -121.87173 36.9..."
      ]
     },
     "execution_count": 8,
     "metadata": {},
     "output_type": "execute_result"
    }
   ],
   "source": [
    "multimodal_street"
   ]
  },
  {
   "cell_type": "code",
   "execution_count": 9,
   "id": "08935f2a-d932-42e0-ba03-f3af9ba6620e",
   "metadata": {},
   "outputs": [
    {
     "data": {
      "image/png": "[encoded data removed]",
      "text/plain": [
       "<Figure size 640x480 with 1 Axes>"
      ]
     },
     "metadata": {},
     "output_type": "display_data"
    }
   ],
   "source": [
    "ax = multimodal_street.plot(color='blue')"
   ]
  },
  {
   "cell_type": "code",
   "execution_count": 10,
   "id": "cf57fa32-4c3c-4f6a-b808-bc1e443cf34d",
   "metadata": {},
   "outputs": [],
   "source": [
    "# multimodal_street.to_file('sc_multimodal_street.shp')  "
   ]
  },
  {
   "cell_type": "code",
   "execution_count": null,
   "id": "ee090c2e-94ff-49d6-a493-3401584609a3",
   "metadata": {},
   "outputs": [],
   "source": []
  },
  {
   "cell_type": "code",
   "execution_count": 11,
   "id": "05e8e67a-498e-4477-8f32-5ca8cf721765",
   "metadata": {},
   "outputs": [],
   "source": [
    "bikeped_overcrossing = gpd.read_file('santacruz_bikeped_overcrossing.geojson')"
   ]
  },
  {
   "cell_type": "code",
   "execution_count": 12,
   "id": "7a1eee5a-35e6-43dc-bfcc-7b37707b5aae",
   "metadata": {},
   "outputs": [
    {
     "data": {
      "text/html": [
       "<div>\n",
       "<style scoped>\n",
       "    .dataframe tbody tr th:only-of-type {\n",
       "        vertical-align: middle;\n",
       "    }\n",
       "\n",
       "    .dataframe tbody tr th {\n",
       "        vertical-align: top;\n",
       "    }\n",
       "\n",
       "    .dataframe thead th {\n",
       "        text-align: right;\n",
       "    }\n",
       "</style>\n",
       "<table border=\"1\" class=\"dataframe\">\n",
       "  <thead>\n",
       "    <tr style=\"text-align: right;\">\n",
       "      <th></th>\n",
       "      <th>geometry</th>\n",
       "    </tr>\n",
       "  </thead>\n",
       "  <tbody>\n",
       "    <tr>\n",
       "      <th>0</th>\n",
       "      <td>MULTILINESTRING ((-121.91180 36.97533, -121.90...</td>\n",
       "    </tr>\n",
       "  </tbody>\n",
       "</table>\n",
       "</div>"
      ],
      "text/plain": [
       "                                            geometry\n",
       "0  MULTILINESTRING ((-121.91180 36.97533, -121.90..."
      ]
     },
     "execution_count": 12,
     "metadata": {},
     "output_type": "execute_result"
    }
   ],
   "source": [
    "bikeped_overcrossing"
   ]
  },
  {
   "cell_type": "code",
   "execution_count": 13,
   "id": "9bc34cdd-4758-49c4-9368-b531700cb7f7",
   "metadata": {},
   "outputs": [
    {
     "data": {
      "image/png": "[encoded data removed]",
      "text/plain": [
       "<Figure size 640x480 with 1 Axes>"
      ]
     },
     "metadata": {},
     "output_type": "display_data"
    }
   ],
   "source": [
    "ax2 = bikeped_overcrossing.plot(color=\"green\")"
   ]
  },
  {
   "cell_type": "code",
   "execution_count": 14,
   "id": "0636d33c-1eb4-4836-8559-508cb5a2c47b",
   "metadata": {},
   "outputs": [],
   "source": [
    "# bikeped_overcrossing.to_file('sc_bikeped_overcrossing.shp')  "
   ]
  },
  {
   "cell_type": "code",
   "execution_count": null,
   "id": "ff604cf2-63fb-42da-b968-ad50984729ca",
   "metadata": {},
   "outputs": [],
   "source": []
  },
  {
   "cell_type": "code",
   "execution_count": 15,
   "id": "d329dbef-3cdf-4449-b29a-8f5671d97687",
   "metadata": {},
   "outputs": [],
   "source": [
    "auxiliary_lane = gpd.read_file('santacruz_auxiliary_lane.geojson')"
   ]
  },
  {
   "cell_type": "code",
   "execution_count": 16,
   "id": "7fe25a0d-1bf7-4aca-9425-cd4a0f1d3680",
   "metadata": {},
   "outputs": [
    {
     "data": {
      "text/html": [
       "<div>\n",
       "<style scoped>\n",
       "    .dataframe tbody tr th:only-of-type {\n",
       "        vertical-align: middle;\n",
       "    }\n",
       "\n",
       "    .dataframe tbody tr th {\n",
       "        vertical-align: top;\n",
       "    }\n",
       "\n",
       "    .dataframe thead th {\n",
       "        text-align: right;\n",
       "    }\n",
       "</style>\n",
       "<table border=\"1\" class=\"dataframe\">\n",
       "  <thead>\n",
       "    <tr style=\"text-align: right;\">\n",
       "      <th></th>\n",
       "      <th>geometry</th>\n",
       "    </tr>\n",
       "  </thead>\n",
       "  <tbody>\n",
       "    <tr>\n",
       "      <th>0</th>\n",
       "      <td>MULTILINESTRING ((-121.88405 36.97408, -121.88...</td>\n",
       "    </tr>\n",
       "  </tbody>\n",
       "</table>\n",
       "</div>"
      ],
      "text/plain": [
       "                                            geometry\n",
       "0  MULTILINESTRING ((-121.88405 36.97408, -121.88..."
      ]
     },
     "execution_count": 16,
     "metadata": {},
     "output_type": "execute_result"
    }
   ],
   "source": [
    "auxiliary_lane"
   ]
  },
  {
   "cell_type": "code",
   "execution_count": 17,
   "id": "c3815cfc-6137-4889-9430-dc00a70d33c8",
   "metadata": {},
   "outputs": [
    {
     "data": {
      "image/png": "[encoded data removed]",
      "text/plain": [
       "<Figure size 640x480 with 1 Axes>"
      ]
     },
     "metadata": {},
     "output_type": "display_data"
    }
   ],
   "source": [
    "ax3 = auxiliary_lane.plot(color=\"orange\")"
   ]
  },
  {
   "cell_type": "code",
   "execution_count": 18,
   "id": "a64f3947-ad2c-4ba6-bfea-d1f73e635b29",
   "metadata": {},
   "outputs": [],
   "source": [
    "# proj3.to_file('sc_auxiliary_lane.shp')  "
   ]
  },
  {
   "cell_type": "code",
   "execution_count": null,
   "id": "37ed5aee-44a8-4ab4-b01c-fc1de7e4a274",
   "metadata": {},
   "outputs": [],
   "source": []
  },
  {
   "cell_type": "code",
   "execution_count": 19,
   "id": "84abc271-b01a-4224-9b38-5212cef29ecb",
   "metadata": {},
   "outputs": [],
   "source": [
    "bus_on_shoulder = gpd.read_file('santacruz_bus_on_shoulder.geojson')"
   ]
  },
  {
   "cell_type": "code",
   "execution_count": 20,
   "id": "34895de6-6645-4947-be52-9fdaa7b571f7",
   "metadata": {},
   "outputs": [
    {
     "data": {
      "text/html": [
       "<div>\n",
       "<style scoped>\n",
       "    .dataframe tbody tr th:only-of-type {\n",
       "        vertical-align: middle;\n",
       "    }\n",
       "\n",
       "    .dataframe tbody tr th {\n",
       "        vertical-align: top;\n",
       "    }\n",
       "\n",
       "    .dataframe thead th {\n",
       "        text-align: right;\n",
       "    }\n",
       "</style>\n",
       "<table border=\"1\" class=\"dataframe\">\n",
       "  <thead>\n",
       "    <tr style=\"text-align: right;\">\n",
       "      <th></th>\n",
       "      <th>geometry</th>\n",
       "    </tr>\n",
       "  </thead>\n",
       "  <tbody>\n",
       "    <tr>\n",
       "      <th>0</th>\n",
       "      <td>MULTILINESTRING ((-121.89204 36.97521, -121.89...</td>\n",
       "    </tr>\n",
       "  </tbody>\n",
       "</table>\n",
       "</div>"
      ],
      "text/plain": [
       "                                            geometry\n",
       "0  MULTILINESTRING ((-121.89204 36.97521, -121.89..."
      ]
     },
     "execution_count": 20,
     "metadata": {},
     "output_type": "execute_result"
    }
   ],
   "source": [
    "bus_on_shoulder"
   ]
  },
  {
   "cell_type": "code",
   "execution_count": 21,
   "id": "3ded44c2-7180-442b-8efc-0544d83f31cf",
   "metadata": {},
   "outputs": [
    {
     "data": {
      "image/png": "[encoded data removed]",
      "text/plain": [
       "<Figure size 640x480 with 1 Axes>"
      ]
     },
     "metadata": {},
     "output_type": "display_data"
    }
   ],
   "source": [
    "ax4 = bus_on_shoulder.plot(color=\"purple\")"
   ]
  },
  {
   "cell_type": "code",
   "execution_count": 22,
   "id": "41761c88-81ff-4498-9118-45f859b84492",
   "metadata": {},
   "outputs": [],
   "source": [
    "# bus_on_shoulder.to_file('sc_bus_on_shoulder.shp')  "
   ]
  },
  {
   "cell_type": "code",
   "execution_count": null,
   "id": "e74d3f87-29e9-41a4-8a1e-f71f14e92db1",
   "metadata": {},
   "outputs": [],
   "source": []
  },
  {
   "cell_type": "markdown",
   "id": "9f0f2a33-e0b0-4528-b930-06431b8b8aa1",
   "metadata": {},
   "source": [
    "#### Concat Project locations"
   ]
  },
  {
   "cell_type": "code",
   "execution_count": 23,
   "id": "dc967fca-8405-4edf-ada1-8ad6a566602b",
   "metadata": {},
   "outputs": [],
   "source": [
    "#### for bike ped\n",
    "proj_bike_ped = gpd.GeoDataFrame(pd.concat([multimodal_street, bikeped_overcrossing]))"
   ]
  },
  {
   "cell_type": "code",
   "execution_count": 24,
   "id": "75bd4661-8f8f-4d31-b801-909693ae13f9",
   "metadata": {},
   "outputs": [
    {
     "data": {
      "text/plain": [
       "<AxesSubplot:>"
      ]
     },
     "execution_count": 24,
     "metadata": {},
     "output_type": "execute_result"
    },
    {
     "data": {
      "image/png": "[encoded data removed]",
      "text/plain": [
       "<Figure size 640x480 with 1 Axes>"
      ]
     },
     "metadata": {},
     "output_type": "display_data"
    }
   ],
   "source": [
    "proj_bike_ped.plot()"
   ]
  },
  {
   "cell_type": "code",
   "execution_count": 25,
   "id": "785abcb2-aa64-4211-b03e-c8cba251a16b",
   "metadata": {},
   "outputs": [],
   "source": [
    "# proj_bike_ped.to_file('sc_proj_bike_ped.shp')  "
   ]
  },
  {
   "cell_type": "code",
   "execution_count": null,
   "id": "17707b0b-58e2-4320-8ab4-b53a76d22cca",
   "metadata": {},
   "outputs": [],
   "source": []
  },
  {
   "cell_type": "code",
   "execution_count": 26,
   "id": "5c8b41a6-11ef-4644-a4a7-46e3bd537211",
   "metadata": {},
   "outputs": [],
   "source": [
    "## for car \n",
    "\n",
    "proj_car = gpd.GeoDataFrame(pd.concat([multimodal_street, auxiliary_lane]))"
   ]
  },
  {
   "cell_type": "code",
   "execution_count": 27,
   "id": "81237f01-73fa-4b38-bf4b-bc15d0d0c638",
   "metadata": {},
   "outputs": [
    {
     "data": {
      "text/plain": [
       "<AxesSubplot:>"
      ]
     },
     "execution_count": 27,
     "metadata": {},
     "output_type": "execute_result"
    },
    {
     "data": {
      "image/png": "[encoded data removed]",
      "text/plain": [
       "<Figure size 640x480 with 1 Axes>"
      ]
     },
     "metadata": {},
     "output_type": "display_data"
    }
   ],
   "source": [
    "proj_car.plot()"
   ]
  },
  {
   "cell_type": "code",
   "execution_count": 28,
   "id": "299e1f69-a8b3-4b73-aa49-1a5068f0667d",
   "metadata": {},
   "outputs": [],
   "source": [
    "# proj_car.to_file('sc_proj_car.shp')  "
   ]
  },
  {
   "cell_type": "code",
   "execution_count": null,
   "id": "5e5d5297-badf-4dad-b67e-2f22130d1e4b",
   "metadata": {},
   "outputs": [],
   "source": []
  },
  {
   "cell_type": "code",
   "execution_count": 29,
   "id": "7f34a28c-9298-443a-b543-2647f8197a39",
   "metadata": {},
   "outputs": [],
   "source": [
    "## for transit\n",
    "\n",
    "proj_transit = gpd.GeoDataFrame(pd.concat([multimodal_street, bus_on_shoulder]))"
   ]
  },
  {
   "cell_type": "code",
   "execution_count": 30,
   "id": "1dff568d-e533-4686-a47c-edbabb35511f",
   "metadata": {},
   "outputs": [
    {
     "data": {
      "text/plain": [
       "<AxesSubplot:>"
      ]
     },
     "execution_count": 30,
     "metadata": {},
     "output_type": "execute_result"
    },
    {
     "data": {
      "image/png": "[encoded data removed]",
      "text/plain": [
       "<Figure size 640x480 with 1 Axes>"
      ]
     },
     "metadata": {},
     "output_type": "display_data"
    }
   ],
   "source": [
    "proj_transit.plot()"
   ]
  },
  {
   "cell_type": "code",
   "execution_count": 31,
   "id": "2aa7dcc7-c7ed-4541-9868-76365df02173",
   "metadata": {},
   "outputs": [],
   "source": [
    "# proj_transit.to_file('sc_proj_transit.shp')  "
   ]
  },
  {
   "cell_type": "code",
   "execution_count": null,
   "id": "da5077f0-0a14-4de5-8e6e-499fa5141134",
   "metadata": {},
   "outputs": [],
   "source": []
  },
  {
   "cell_type": "code",
   "execution_count": null,
   "id": "f25dee78-e0bd-4b6f-ab51-3cd9c24589ae",
   "metadata": {},
   "outputs": [],
   "source": []
  },
  {
   "cell_type": "markdown",
   "id": "c466daa3-0fc4-420d-9315-84c43be01d8e",
   "metadata": {},
   "source": [
    "### Get Routes from GTFS Data"
   ]
  },
  {
   "cell_type": "code",
   "execution_count": 32,
   "id": "d21c2854-d13d-4b39-bfe4-da9279b80611",
   "metadata": {},
   "outputs": [],
   "source": [
    "import os\n",
    "os.environ[\"CALITP_BQ_MAX_BYTES\"] = str(800_000_000_000) ## 800GB?"
   ]
  },
  {
   "cell_type": "code",
   "execution_count": 33,
   "id": "d0331f7b-e8ce-4459-85bc-e03af04a4b20",
   "metadata": {},
   "outputs": [],
   "source": [
    "from shared_utils import gtfs_utils_v2\n",
    "from shared_utils import gtfs_utils\n",
    "from shared_utils import geography_utils\n",
    "import datetime\n",
    "from siuba import *"
   ]
  },
  {
   "cell_type": "code",
   "execution_count": 34,
   "id": "e0cda6b6-535c-4cdd-8441-0b29fc960b05",
   "metadata": {},
   "outputs": [],
   "source": [
    "analysis_date = datetime.date(2022, 11, 28)"
   ]
  },
  {
   "cell_type": "code",
   "execution_count": 35,
   "id": "bf3f1579-bf87-4b56-912f-6aaf7205da7d",
   "metadata": {},
   "outputs": [],
   "source": [
    "FEED = '02fbd8719f99b906e65b2cf86cbb7cae'\n"
   ]
  },
  {
   "cell_type": "code",
   "execution_count": 36,
   "id": "def3191d-ee9f-4a74-be4a-b14eedf0e50e",
   "metadata": {},
   "outputs": [],
   "source": [
    "keep_shape_cols = [\n",
    "       \"feed_key\", \"activity_date\", \n",
    "       \"shape_id\", \"shape_array_key\",\n",
    "       \"n_trips\"]"
   ]
  },
  {
   "cell_type": "code",
   "execution_count": 37,
   "id": "a589a933-5968-46f3-89d8-e5449f795bdb",
   "metadata": {},
   "outputs": [],
   "source": [
    "test_feed_keys = [\n",
    "    \"02fbd8719f99b906e65b2cf86cbb7cae\", # Santa Cruz Schedule\n",
    "    # \"f8d3bfd9e780aa3b3ce1340b2116513f\" # Long Beach Schedule\n",
    "]\n",
    "test_cases = [\n",
    "    \"Santa Cruz\", \n",
    "    # \"Metrolink Schedule\"\n",
    "]"
   ]
  },
  {
   "cell_type": "code",
   "execution_count": null,
   "id": "5c6c664f-2420-4971-83bc-e6ff367b3ea7",
   "metadata": {},
   "outputs": [],
   "source": []
  },
  {
   "cell_type": "code",
   "execution_count": 41,
   "id": "10b8f89e-580c-49ab-bc23-a6e026276a69",
   "metadata": {
    "tags": []
   },
   "outputs": [
    {
     "name": "stderr",
     "output_type": "stream",
     "text": [
      "/opt/conda/lib/python3.9/site-packages/sqlalchemy_bigquery/_types.py:101: SAWarning: Did not recognize type 'GEOGRAPHY' of column 'pt_array'\n"
     ]
    }
   ],
   "source": [
    "shapes = gtfs_utils_v2.get_shapes(\n",
    "    selected_date = analysis_date,\n",
    "    operator_feeds = test_feed_keys,\n",
    "    shape_cols = [\"feed_key\", \"shape_id\", \"shape_array_key\",\n",
    "                 \"n_trips\"],\n",
    "    get_df = True,\n",
    "    crs = \"EPSG:3310\",\n",
    ")"
   ]
  },
  {
   "cell_type": "code",
   "execution_count": 42,
   "id": "0c19040e-4b91-4722-b403-a4d30a13df2e",
   "metadata": {},
   "outputs": [
    {
     "data": {
      "text/html": [
       "<div>\n",
       "<style scoped>\n",
       "    .dataframe tbody tr th:only-of-type {\n",
       "        vertical-align: middle;\n",
       "    }\n",
       "\n",
       "    .dataframe tbody tr th {\n",
       "        vertical-align: top;\n",
       "    }\n",
       "\n",
       "    .dataframe thead th {\n",
       "        text-align: right;\n",
       "    }\n",
       "</style>\n",
       "<table border=\"1\" class=\"dataframe\">\n",
       "  <thead>\n",
       "    <tr style=\"text-align: right;\">\n",
       "      <th></th>\n",
       "      <th>feed_key</th>\n",
       "      <th>shape_id</th>\n",
       "      <th>shape_array_key</th>\n",
       "      <th>n_trips</th>\n",
       "      <th>geometry</th>\n",
       "    </tr>\n",
       "  </thead>\n",
       "  <tbody>\n",
       "    <tr>\n",
       "      <th>0</th>\n",
       "      <td>02fbd8719f99b906e65b2cf86cbb7cae</td>\n",
       "      <td>74S0003</td>\n",
       "      <td>ab8ee62afdc185dc11a5df12edc005d0</td>\n",
       "      <td>1</td>\n",
       "      <td>LINESTRING (-156602.745 -121551.079, -156584.8...</td>\n",
       "    </tr>\n",
       "    <tr>\n",
       "      <th>1</th>\n",
       "      <td>02fbd8719f99b906e65b2cf86cbb7cae</td>\n",
       "      <td>350034</td>\n",
       "      <td>34322dc04ea0f4aa70aaaf5059c519bf</td>\n",
       "      <td>1</td>\n",
       "      <td>LINESTRING (-188298.722 -96873.513, -188301.96...</td>\n",
       "    </tr>\n",
       "    <tr>\n",
       "      <th>2</th>\n",
       "      <td>02fbd8719f99b906e65b2cf86cbb7cae</td>\n",
       "      <td>350067</td>\n",
       "      <td>995941e075ee891a866bd7d69f5cf880</td>\n",
       "      <td>1</td>\n",
       "      <td>LINESTRING (-184682.089 -104159.840, -184682.6...</td>\n",
       "    </tr>\n",
       "    <tr>\n",
       "      <th>3</th>\n",
       "      <td>02fbd8719f99b906e65b2cf86cbb7cae</td>\n",
       "      <td>660010</td>\n",
       "      <td>4ab6871d6667b6b81e3689e60f34fd18</td>\n",
       "      <td>1</td>\n",
       "      <td>LINESTRING (-179972.670 -114317.287, -179934.5...</td>\n",
       "    </tr>\n",
       "    <tr>\n",
       "      <th>4</th>\n",
       "      <td>02fbd8719f99b906e65b2cf86cbb7cae</td>\n",
       "      <td>350073</td>\n",
       "      <td>6b6b5e540abfd7c534ea2aab75117f87</td>\n",
       "      <td>1</td>\n",
       "      <td>LINESTRING (-185470.812 -95192.760, -185479.31...</td>\n",
       "    </tr>\n",
       "    <tr>\n",
       "      <th>5</th>\n",
       "      <td>02fbd8719f99b906e65b2cf86cbb7cae</td>\n",
       "      <td>350033</td>\n",
       "      <td>b5735fd62d2115c66518de7efdb91304</td>\n",
       "      <td>1</td>\n",
       "      <td>LINESTRING (-188312.457 -96947.922, -188345.47...</td>\n",
       "    </tr>\n",
       "    <tr>\n",
       "      <th>6</th>\n",
       "      <td>02fbd8719f99b906e65b2cf86cbb7cae</td>\n",
       "      <td>350087</td>\n",
       "      <td>3f6a5124f4180eb7f31cc7f1af7634d6</td>\n",
       "      <td>1</td>\n",
       "      <td>LINESTRING (-190183.875 -89076.487, -190184.09...</td>\n",
       "    </tr>\n",
       "    <tr>\n",
       "      <th>7</th>\n",
       "      <td>02fbd8719f99b906e65b2cf86cbb7cae</td>\n",
       "      <td>350084</td>\n",
       "      <td>5d133e126244f825379bb0b6d9ff1b10</td>\n",
       "      <td>1</td>\n",
       "      <td>LINESTRING (-188298.722 -96873.513, -188301.96...</td>\n",
       "    </tr>\n",
       "    <tr>\n",
       "      <th>8</th>\n",
       "      <td>02fbd8719f99b906e65b2cf86cbb7cae</td>\n",
       "      <td>350066</td>\n",
       "      <td>d9b6ee346d02334b957aea08689ec7a4</td>\n",
       "      <td>1</td>\n",
       "      <td>LINESTRING (-184682.089 -104159.840, -184682.6...</td>\n",
       "    </tr>\n",
       "    <tr>\n",
       "      <th>9</th>\n",
       "      <td>02fbd8719f99b906e65b2cf86cbb7cae</td>\n",
       "      <td>74S0004</td>\n",
       "      <td>85a29b24b386a0feb3d6fc90c2294fb6</td>\n",
       "      <td>1</td>\n",
       "      <td>LINESTRING (-156602.745 -121551.079, -156584.8...</td>\n",
       "    </tr>\n",
       "    <tr>\n",
       "      <th>10</th>\n",
       "      <td>02fbd8719f99b906e65b2cf86cbb7cae</td>\n",
       "      <td>660011</td>\n",
       "      <td>83ac025461fa9e3d70693faa7a13854c</td>\n",
       "      <td>1</td>\n",
       "      <td>LINESTRING (-174775.662 -113900.251, -174774.2...</td>\n",
       "    </tr>\n",
       "    <tr>\n",
       "      <th>11</th>\n",
       "      <td>02fbd8719f99b906e65b2cf86cbb7cae</td>\n",
       "      <td>350071</td>\n",
       "      <td>4a16ac936ef04254c3c8d32b520fb82d</td>\n",
       "      <td>1</td>\n",
       "      <td>LINESTRING (-190183.875 -89076.487, -190184.09...</td>\n",
       "    </tr>\n",
       "    <tr>\n",
       "      <th>12</th>\n",
       "      <td>02fbd8719f99b906e65b2cf86cbb7cae</td>\n",
       "      <td>350090</td>\n",
       "      <td>b38bab56e049379e2d03ba124bda2872</td>\n",
       "      <td>2</td>\n",
       "      <td>LINESTRING (-179977.422 -114285.833, -179976.1...</td>\n",
       "    </tr>\n",
       "    <tr>\n",
       "      <th>13</th>\n",
       "      <td>02fbd8719f99b906e65b2cf86cbb7cae</td>\n",
       "      <td>410011</td>\n",
       "      <td>be7b443bee5ae49aa7b337a888e76749</td>\n",
       "      <td>2</td>\n",
       "      <td>LINESTRING (-179971.512 -114317.201, -180012.4...</td>\n",
       "    </tr>\n",
       "    <tr>\n",
       "      <th>14</th>\n",
       "      <td>02fbd8719f99b906e65b2cf86cbb7cae</td>\n",
       "      <td>410009</td>\n",
       "      <td>e6fd0a432d3d8514c7204bfcb1d5d1f2</td>\n",
       "      <td>2</td>\n",
       "      <td>LINESTRING (-191005.828 -106152.219, -190997.2...</td>\n",
       "    </tr>\n",
       "    <tr>\n",
       "      <th>15</th>\n",
       "      <td>02fbd8719f99b906e65b2cf86cbb7cae</td>\n",
       "      <td>170064</td>\n",
       "      <td>5ef44f373069b4873cfeb8a8a616d461</td>\n",
       "      <td>2</td>\n",
       "      <td>LINESTRING (-179979.207 -114286.129, -179977.4...</td>\n",
       "    </tr>\n",
       "    <tr>\n",
       "      <th>16</th>\n",
       "      <td>02fbd8719f99b906e65b2cf86cbb7cae</td>\n",
       "      <td>170068</td>\n",
       "      <td>f8d18f1db271f816e08ecb9171d62b8b</td>\n",
       "      <td>3</td>\n",
       "      <td>LINESTRING (-166599.089 -73846.140, -166666.39...</td>\n",
       "    </tr>\n",
       "    <tr>\n",
       "      <th>17</th>\n",
       "      <td>02fbd8719f99b906e65b2cf86cbb7cae</td>\n",
       "      <td>350089</td>\n",
       "      <td>d195ab7d9f58031ca52620ecf64e2645</td>\n",
       "      <td>3</td>\n",
       "      <td>LINESTRING (-179977.422 -114285.833, -179976.1...</td>\n",
       "    </tr>\n",
       "    <tr>\n",
       "      <th>18</th>\n",
       "      <td>02fbd8719f99b906e65b2cf86cbb7cae</td>\n",
       "      <td>170067</td>\n",
       "      <td>4fd8a9d5edd8dafa098daaf4bc61d130</td>\n",
       "      <td>3</td>\n",
       "      <td>LINESTRING (-166599.089 -73846.140, -166666.39...</td>\n",
       "    </tr>\n",
       "    <tr>\n",
       "      <th>19</th>\n",
       "      <td>02fbd8719f99b906e65b2cf86cbb7cae</td>\n",
       "      <td>35E0004</td>\n",
       "      <td>135784e3d35f5833d913455041e0ac7e</td>\n",
       "      <td>3</td>\n",
       "      <td>LINESTRING (-191802.144 -92424.475, -191793.47...</td>\n",
       "    </tr>\n",
       "    <tr>\n",
       "      <th>20</th>\n",
       "      <td>02fbd8719f99b906e65b2cf86cbb7cae</td>\n",
       "      <td>35E0002</td>\n",
       "      <td>953bd7d786c43c084ee42e01465f03ba</td>\n",
       "      <td>3</td>\n",
       "      <td>LINESTRING (-179977.422 -114285.833, -179976.1...</td>\n",
       "    </tr>\n",
       "    <tr>\n",
       "      <th>21</th>\n",
       "      <td>02fbd8719f99b906e65b2cf86cbb7cae</td>\n",
       "      <td>400021</td>\n",
       "      <td>903d70f825f5ae504d956f870717ba82</td>\n",
       "      <td>3</td>\n",
       "      <td>LINESTRING (-179971.512 -114317.201, -180012.4...</td>\n",
       "    </tr>\n",
       "    <tr>\n",
       "      <th>22</th>\n",
       "      <td>02fbd8719f99b906e65b2cf86cbb7cae</td>\n",
       "      <td>550011</td>\n",
       "      <td>5ca9aa66dd24a6f8dec7b5b601b5910e</td>\n",
       "      <td>3</td>\n",
       "      <td>LINESTRING (-174776.807 -113873.990, -174778.3...</td>\n",
       "    </tr>\n",
       "    <tr>\n",
       "      <th>23</th>\n",
       "      <td>02fbd8719f99b906e65b2cf86cbb7cae</td>\n",
       "      <td>400020</td>\n",
       "      <td>67fe599a0f88340c653fa106413d1e5f</td>\n",
       "      <td>3</td>\n",
       "      <td>LINESTRING (-195028.581 -109406.755, -194994.2...</td>\n",
       "    </tr>\n",
       "    <tr>\n",
       "      <th>24</th>\n",
       "      <td>02fbd8719f99b906e65b2cf86cbb7cae</td>\n",
       "      <td>420015</td>\n",
       "      <td>e1622aee0a52de467449ec4eb85ff61a</td>\n",
       "      <td>4</td>\n",
       "      <td>LINESTRING (-179971.512 -114317.201, -180012.4...</td>\n",
       "    </tr>\n",
       "    <tr>\n",
       "      <th>25</th>\n",
       "      <td>02fbd8719f99b906e65b2cf86cbb7cae</td>\n",
       "      <td>170063</td>\n",
       "      <td>2dff360188693fb293a2491a39d2de00</td>\n",
       "      <td>4</td>\n",
       "      <td>LINESTRING (-179979.207 -114286.129, -179977.4...</td>\n",
       "    </tr>\n",
       "    <tr>\n",
       "      <th>26</th>\n",
       "      <td>02fbd8719f99b906e65b2cf86cbb7cae</td>\n",
       "      <td>350095</td>\n",
       "      <td>b755444d2ad7890bbbf33a1dc72d3384</td>\n",
       "      <td>5</td>\n",
       "      <td>LINESTRING (-191802.144 -92424.475, -191793.47...</td>\n",
       "    </tr>\n",
       "    <tr>\n",
       "      <th>27</th>\n",
       "      <td>02fbd8719f99b906e65b2cf86cbb7cae</td>\n",
       "      <td>550012</td>\n",
       "      <td>80766cbd3a89566b2bf63f13bf2c7f18</td>\n",
       "      <td>5</td>\n",
       "      <td>LINESTRING (-174776.807 -113873.990, -174778.3...</td>\n",
       "    </tr>\n",
       "    <tr>\n",
       "      <th>28</th>\n",
       "      <td>02fbd8719f99b906e65b2cf86cbb7cae</td>\n",
       "      <td>91X0010</td>\n",
       "      <td>a5ae240fd06c7891c3a1adc885b5592b</td>\n",
       "      <td>7</td>\n",
       "      <td>LINESTRING (-179972.670 -114317.287, -179934.5...</td>\n",
       "    </tr>\n",
       "    <tr>\n",
       "      <th>29</th>\n",
       "      <td>02fbd8719f99b906e65b2cf86cbb7cae</td>\n",
       "      <td>WC0002</td>\n",
       "      <td>e5b15af2c473331acd9b8e04ea947c93</td>\n",
       "      <td>8</td>\n",
       "      <td>LINESTRING (-156602.745 -121551.079, -156584.8...</td>\n",
       "    </tr>\n",
       "    <tr>\n",
       "      <th>30</th>\n",
       "      <td>02fbd8719f99b906e65b2cf86cbb7cae</td>\n",
       "      <td>35E0003</td>\n",
       "      <td>5e300ad98034f517259f1f77d1929103</td>\n",
       "      <td>8</td>\n",
       "      <td>LINESTRING (-179977.422 -114285.833, -179976.1...</td>\n",
       "    </tr>\n",
       "    <tr>\n",
       "      <th>31</th>\n",
       "      <td>02fbd8719f99b906e65b2cf86cbb7cae</td>\n",
       "      <td>91X0014</td>\n",
       "      <td>820413f98f8a7f3c2997d1f4eee82419</td>\n",
       "      <td>8</td>\n",
       "      <td>LINESTRING (-156600.649 -121553.231, -156631.1...</td>\n",
       "    </tr>\n",
       "    <tr>\n",
       "      <th>32</th>\n",
       "      <td>02fbd8719f99b906e65b2cf86cbb7cae</td>\n",
       "      <td>35E0005</td>\n",
       "      <td>e3a90de6dbc8d4693b95ee79901b19c8</td>\n",
       "      <td>8</td>\n",
       "      <td>LINESTRING (-188223.299 -97191.190, -188184.57...</td>\n",
       "    </tr>\n",
       "    <tr>\n",
       "      <th>33</th>\n",
       "      <td>02fbd8719f99b906e65b2cf86cbb7cae</td>\n",
       "      <td>170062</td>\n",
       "      <td>ab865f51f1ac8e26bb0a088ecbb1460a</td>\n",
       "      <td>9</td>\n",
       "      <td>LINESTRING (-179979.207 -114286.129, -179977.4...</td>\n",
       "    </tr>\n",
       "    <tr>\n",
       "      <th>34</th>\n",
       "      <td>02fbd8719f99b906e65b2cf86cbb7cae</td>\n",
       "      <td>170066</td>\n",
       "      <td>3f014d31cbd66ede940de43b1525fe5d</td>\n",
       "      <td>9</td>\n",
       "      <td>LINESTRING (-166599.089 -73846.140, -166666.39...</td>\n",
       "    </tr>\n",
       "    <tr>\n",
       "      <th>35</th>\n",
       "      <td>02fbd8719f99b906e65b2cf86cbb7cae</td>\n",
       "      <td>040009</td>\n",
       "      <td>5703a53f91537b48eb6038ff47720526</td>\n",
       "      <td>10</td>\n",
       "      <td>LINESTRING (-179977.422 -114285.833, -179976.1...</td>\n",
       "    </tr>\n",
       "    <tr>\n",
       "      <th>36</th>\n",
       "      <td>02fbd8719f99b906e65b2cf86cbb7cae</td>\n",
       "      <td>790008</td>\n",
       "      <td>3b90889a77d9f7a4bd5560cd1aaefc9e</td>\n",
       "      <td>11</td>\n",
       "      <td>LINESTRING (-156602.745 -121551.079, -156584.8...</td>\n",
       "    </tr>\n",
       "    <tr>\n",
       "      <th>37</th>\n",
       "      <td>02fbd8719f99b906e65b2cf86cbb7cae</td>\n",
       "      <td>200028</td>\n",
       "      <td>a743c2e0ece7372ff4d6a7cdfa664d51</td>\n",
       "      <td>11</td>\n",
       "      <td>LINESTRING (-179978.136 -114285.929, -179989.7...</td>\n",
       "    </tr>\n",
       "    <tr>\n",
       "      <th>38</th>\n",
       "      <td>02fbd8719f99b906e65b2cf86cbb7cae</td>\n",
       "      <td>69A0006</td>\n",
       "      <td>9c7b0cbce320ff6a7a20f1fafd184577</td>\n",
       "      <td>12</td>\n",
       "      <td>LINESTRING (-156600.649 -121553.231, -156631.1...</td>\n",
       "    </tr>\n",
       "    <tr>\n",
       "      <th>39</th>\n",
       "      <td>02fbd8719f99b906e65b2cf86cbb7cae</td>\n",
       "      <td>69A0005</td>\n",
       "      <td>eabe33987121e3333bf22b231dcbaa65</td>\n",
       "      <td>12</td>\n",
       "      <td>LINESTRING (-179972.670 -114317.287, -179934.5...</td>\n",
       "    </tr>\n",
       "    <tr>\n",
       "      <th>40</th>\n",
       "      <td>02fbd8719f99b906e65b2cf86cbb7cae</td>\n",
       "      <td>720004</td>\n",
       "      <td>7de23b8696b2d376937b034c281f785a</td>\n",
       "      <td>12</td>\n",
       "      <td>LINESTRING (-156600.649 -121553.231, -156631.1...</td>\n",
       "    </tr>\n",
       "    <tr>\n",
       "      <th>41</th>\n",
       "      <td>02fbd8719f99b906e65b2cf86cbb7cae</td>\n",
       "      <td>040008</td>\n",
       "      <td>1eaf44c88083e2674aa2e041855ed5fa</td>\n",
       "      <td>12</td>\n",
       "      <td>LINESTRING (-180616.805 -112100.496, -180590.8...</td>\n",
       "    </tr>\n",
       "    <tr>\n",
       "      <th>42</th>\n",
       "      <td>02fbd8719f99b906e65b2cf86cbb7cae</td>\n",
       "      <td>680013</td>\n",
       "      <td>0c9d3e815dee0c035ca47ffc1cfb1d95</td>\n",
       "      <td>13</td>\n",
       "      <td>LINESTRING (-179972.670 -114317.287, -179934.5...</td>\n",
       "    </tr>\n",
       "    <tr>\n",
       "      <th>43</th>\n",
       "      <td>02fbd8719f99b906e65b2cf86cbb7cae</td>\n",
       "      <td>100011</td>\n",
       "      <td>6b2c19b162e6faade6cfc5f0e703f96b</td>\n",
       "      <td>13</td>\n",
       "      <td>LINESTRING (-179978.136 -114285.929, -179989.7...</td>\n",
       "    </tr>\n",
       "    <tr>\n",
       "      <th>44</th>\n",
       "      <td>02fbd8719f99b906e65b2cf86cbb7cae</td>\n",
       "      <td>660009</td>\n",
       "      <td>1265b8f903c612a529f5ea512587039b</td>\n",
       "      <td>14</td>\n",
       "      <td>LINESTRING (-179972.670 -114317.287, -179934.5...</td>\n",
       "    </tr>\n",
       "    <tr>\n",
       "      <th>45</th>\n",
       "      <td>02fbd8719f99b906e65b2cf86cbb7cae</td>\n",
       "      <td>680012</td>\n",
       "      <td>196d9214a556b294e2408dbb48801ba5</td>\n",
       "      <td>14</td>\n",
       "      <td>LINESTRING (-174775.662 -113900.251, -174774.2...</td>\n",
       "    </tr>\n",
       "    <tr>\n",
       "      <th>46</th>\n",
       "      <td>02fbd8719f99b906e65b2cf86cbb7cae</td>\n",
       "      <td>750009</td>\n",
       "      <td>eb3d55d5b0c97912aaea150dde8f56a8</td>\n",
       "      <td>14</td>\n",
       "      <td>LINESTRING (-157232.679 -113560.684, -157242.3...</td>\n",
       "    </tr>\n",
       "    <tr>\n",
       "      <th>47</th>\n",
       "      <td>02fbd8719f99b906e65b2cf86cbb7cae</td>\n",
       "      <td>750008</td>\n",
       "      <td>31394f3b4ad6570c0c6c9f527f4302a4</td>\n",
       "      <td>14</td>\n",
       "      <td>LINESTRING (-156602.745 -121551.079, -156584.8...</td>\n",
       "    </tr>\n",
       "    <tr>\n",
       "      <th>48</th>\n",
       "      <td>02fbd8719f99b906e65b2cf86cbb7cae</td>\n",
       "      <td>710035</td>\n",
       "      <td>c293ca3200873db500b033e0ee5ad50d</td>\n",
       "      <td>14</td>\n",
       "      <td>LINESTRING (-179972.670 -114317.287, -179934.5...</td>\n",
       "    </tr>\n",
       "    <tr>\n",
       "      <th>49</th>\n",
       "      <td>02fbd8719f99b906e65b2cf86cbb7cae</td>\n",
       "      <td>710039</td>\n",
       "      <td>1d71ff9291f99f4f91c78107d994c5e9</td>\n",
       "      <td>15</td>\n",
       "      <td>LINESTRING (-156602.745 -121551.079, -156584.8...</td>\n",
       "    </tr>\n",
       "    <tr>\n",
       "      <th>50</th>\n",
       "      <td>02fbd8719f99b906e65b2cf86cbb7cae</td>\n",
       "      <td>69W0005</td>\n",
       "      <td>a449254b090da5a87c286e5c12fce94c</td>\n",
       "      <td>15</td>\n",
       "      <td>LINESTRING (-179972.670 -114317.287, -179934.5...</td>\n",
       "    </tr>\n",
       "    <tr>\n",
       "      <th>51</th>\n",
       "      <td>02fbd8719f99b906e65b2cf86cbb7cae</td>\n",
       "      <td>350088</td>\n",
       "      <td>feded7d3a085c928fd0a2adce6eb0b21</td>\n",
       "      <td>15</td>\n",
       "      <td>LINESTRING (-179977.422 -114285.833, -179976.1...</td>\n",
       "    </tr>\n",
       "    <tr>\n",
       "      <th>52</th>\n",
       "      <td>02fbd8719f99b906e65b2cf86cbb7cae</td>\n",
       "      <td>660007</td>\n",
       "      <td>28d093ef1314e4374cdc072301a53c86</td>\n",
       "      <td>15</td>\n",
       "      <td>LINESTRING (-174775.662 -113900.251, -174774.2...</td>\n",
       "    </tr>\n",
       "    <tr>\n",
       "      <th>53</th>\n",
       "      <td>02fbd8719f99b906e65b2cf86cbb7cae</td>\n",
       "      <td>350092</td>\n",
       "      <td>34689da11349d670ec1fd11c599b24db</td>\n",
       "      <td>16</td>\n",
       "      <td>LINESTRING (-189179.133 -93646.375, -189193.53...</td>\n",
       "    </tr>\n",
       "    <tr>\n",
       "      <th>54</th>\n",
       "      <td>02fbd8719f99b906e65b2cf86cbb7cae</td>\n",
       "      <td>69W0006</td>\n",
       "      <td>e7e5eb37c35d550e6ed98214e6cb6894</td>\n",
       "      <td>16</td>\n",
       "      <td>LINESTRING (-156600.649 -121553.231, -156631.1...</td>\n",
       "    </tr>\n",
       "    <tr>\n",
       "      <th>55</th>\n",
       "      <td>02fbd8719f99b906e65b2cf86cbb7cae</td>\n",
       "      <td>710040</td>\n",
       "      <td>063eb558b19255d18cda5da01a5e1d2b</td>\n",
       "      <td>18</td>\n",
       "      <td>LINESTRING (-156602.745 -121551.079, -156584.8...</td>\n",
       "    </tr>\n",
       "    <tr>\n",
       "      <th>56</th>\n",
       "      <td>02fbd8719f99b906e65b2cf86cbb7cae</td>\n",
       "      <td>710038</td>\n",
       "      <td>0d82cfd01fa86f303b034a688fed8418</td>\n",
       "      <td>18</td>\n",
       "      <td>LINESTRING (-179972.670 -114317.287, -179934.5...</td>\n",
       "    </tr>\n",
       "    <tr>\n",
       "      <th>57</th>\n",
       "      <td>02fbd8719f99b906e65b2cf86cbb7cae</td>\n",
       "      <td>150010</td>\n",
       "      <td>74a5df527cef86fcf8ade1542aabc087</td>\n",
       "      <td>29</td>\n",
       "      <td>LINESTRING (-179978.136 -114285.929, -179989.7...</td>\n",
       "    </tr>\n",
       "    <tr>\n",
       "      <th>58</th>\n",
       "      <td>02fbd8719f99b906e65b2cf86cbb7cae</td>\n",
       "      <td>190013</td>\n",
       "      <td>275e766d4c5b156de1b4ca6cb8037092</td>\n",
       "      <td>35</td>\n",
       "      <td>LINESTRING (-179978.136 -114285.929, -179989.7...</td>\n",
       "    </tr>\n",
       "    <tr>\n",
       "      <th>59</th>\n",
       "      <td>02fbd8719f99b906e65b2cf86cbb7cae</td>\n",
       "      <td>180004</td>\n",
       "      <td>5f0d8f26b2a157bf88248bdcbaad4d23</td>\n",
       "      <td>39</td>\n",
       "      <td>LINESTRING (-179978.136 -114285.929, -179989.7...</td>\n",
       "    </tr>\n",
       "  </tbody>\n",
       "</table>\n",
       "</div>"
      ],
      "text/plain": [
       "                            feed_key shape_id  \\\n",
       "0   02fbd8719f99b906e65b2cf86cbb7cae  74S0003   \n",
       "1   02fbd8719f99b906e65b2cf86cbb7cae   350034   \n",
       "2   02fbd8719f99b906e65b2cf86cbb7cae   350067   \n",
       "3   02fbd8719f99b906e65b2cf86cbb7cae   660010   \n",
       "4   02fbd8719f99b906e65b2cf86cbb7cae   350073   \n",
       "5   02fbd8719f99b906e65b2cf86cbb7cae   350033   \n",
       "6   02fbd8719f99b906e65b2cf86cbb7cae   350087   \n",
       "7   02fbd8719f99b906e65b2cf86cbb7cae   350084   \n",
       "8   02fbd8719f99b906e65b2cf86cbb7cae   350066   \n",
       "9   02fbd8719f99b906e65b2cf86cbb7cae  74S0004   \n",
       "10  02fbd8719f99b906e65b2cf86cbb7cae   660011   \n",
       "11  02fbd8719f99b906e65b2cf86cbb7cae   350071   \n",
       "12  02fbd8719f99b906e65b2cf86cbb7cae   350090   \n",
       "13  02fbd8719f99b906e65b2cf86cbb7cae   410011   \n",
       "14  02fbd8719f99b906e65b2cf86cbb7cae   410009   \n",
       "15  02fbd8719f99b906e65b2cf86cbb7cae   170064   \n",
       "16  02fbd8719f99b906e65b2cf86cbb7cae   170068   \n",
       "17  02fbd8719f99b906e65b2cf86cbb7cae   350089   \n",
       "18  02fbd8719f99b906e65b2cf86cbb7cae   170067   \n",
       "19  02fbd8719f99b906e65b2cf86cbb7cae  35E0004   \n",
       "20  02fbd8719f99b906e65b2cf86cbb7cae  35E0002   \n",
       "21  02fbd8719f99b906e65b2cf86cbb7cae   400021   \n",
       "22  02fbd8719f99b906e65b2cf86cbb7cae   550011   \n",
       "23  02fbd8719f99b906e65b2cf86cbb7cae   400020   \n",
       "24  02fbd8719f99b906e65b2cf86cbb7cae   420015   \n",
       "25  02fbd8719f99b906e65b2cf86cbb7cae   170063   \n",
       "26  02fbd8719f99b906e65b2cf86cbb7cae   350095   \n",
       "27  02fbd8719f99b906e65b2cf86cbb7cae   550012   \n",
       "28  02fbd8719f99b906e65b2cf86cbb7cae  91X0010   \n",
       "29  02fbd8719f99b906e65b2cf86cbb7cae   WC0002   \n",
       "30  02fbd8719f99b906e65b2cf86cbb7cae  35E0003   \n",
       "31  02fbd8719f99b906e65b2cf86cbb7cae  91X0014   \n",
       "32  02fbd8719f99b906e65b2cf86cbb7cae  35E0005   \n",
       "33  02fbd8719f99b906e65b2cf86cbb7cae   170062   \n",
       "34  02fbd8719f99b906e65b2cf86cbb7cae   170066   \n",
       "35  02fbd8719f99b906e65b2cf86cbb7cae   040009   \n",
       "36  02fbd8719f99b906e65b2cf86cbb7cae   790008   \n",
       "37  02fbd8719f99b906e65b2cf86cbb7cae   200028   \n",
       "38  02fbd8719f99b906e65b2cf86cbb7cae  69A0006   \n",
       "39  02fbd8719f99b906e65b2cf86cbb7cae  69A0005   \n",
       "40  02fbd8719f99b906e65b2cf86cbb7cae   720004   \n",
       "41  02fbd8719f99b906e65b2cf86cbb7cae   040008   \n",
       "42  02fbd8719f99b906e65b2cf86cbb7cae   680013   \n",
       "43  02fbd8719f99b906e65b2cf86cbb7cae   100011   \n",
       "44  02fbd8719f99b906e65b2cf86cbb7cae   660009   \n",
       "45  02fbd8719f99b906e65b2cf86cbb7cae   680012   \n",
       "46  02fbd8719f99b906e65b2cf86cbb7cae   750009   \n",
       "47  02fbd8719f99b906e65b2cf86cbb7cae   750008   \n",
       "48  02fbd8719f99b906e65b2cf86cbb7cae   710035   \n",
       "49  02fbd8719f99b906e65b2cf86cbb7cae   710039   \n",
       "50  02fbd8719f99b906e65b2cf86cbb7cae  69W0005   \n",
       "51  02fbd8719f99b906e65b2cf86cbb7cae   350088   \n",
       "52  02fbd8719f99b906e65b2cf86cbb7cae   660007   \n",
       "53  02fbd8719f99b906e65b2cf86cbb7cae   350092   \n",
       "54  02fbd8719f99b906e65b2cf86cbb7cae  69W0006   \n",
       "55  02fbd8719f99b906e65b2cf86cbb7cae   710040   \n",
       "56  02fbd8719f99b906e65b2cf86cbb7cae   710038   \n",
       "57  02fbd8719f99b906e65b2cf86cbb7cae   150010   \n",
       "58  02fbd8719f99b906e65b2cf86cbb7cae   190013   \n",
       "59  02fbd8719f99b906e65b2cf86cbb7cae   180004   \n",
       "\n",
       "                     shape_array_key  n_trips  \\\n",
       "0   ab8ee62afdc185dc11a5df12edc005d0        1   \n",
       "1   34322dc04ea0f4aa70aaaf5059c519bf        1   \n",
       "2   995941e075ee891a866bd7d69f5cf880        1   \n",
       "3   4ab6871d6667b6b81e3689e60f34fd18        1   \n",
       "4   6b6b5e540abfd7c534ea2aab75117f87        1   \n",
       "5   b5735fd62d2115c66518de7efdb91304        1   \n",
       "6   3f6a5124f4180eb7f31cc7f1af7634d6        1   \n",
       "7   5d133e126244f825379bb0b6d9ff1b10        1   \n",
       "8   d9b6ee346d02334b957aea08689ec7a4        1   \n",
       "9   85a29b24b386a0feb3d6fc90c2294fb6        1   \n",
       "10  83ac025461fa9e3d70693faa7a13854c        1   \n",
       "11  4a16ac936ef04254c3c8d32b520fb82d        1   \n",
       "12  b38bab56e049379e2d03ba124bda2872        2   \n",
       "13  be7b443bee5ae49aa7b337a888e76749        2   \n",
       "14  e6fd0a432d3d8514c7204bfcb1d5d1f2        2   \n",
       "15  5ef44f373069b4873cfeb8a8a616d461        2   \n",
       "16  f8d18f1db271f816e08ecb9171d62b8b        3   \n",
       "17  d195ab7d9f58031ca52620ecf64e2645        3   \n",
       "18  4fd8a9d5edd8dafa098daaf4bc61d130        3   \n",
       "19  135784e3d35f5833d913455041e0ac7e        3   \n",
       "20  953bd7d786c43c084ee42e01465f03ba        3   \n",
       "21  903d70f825f5ae504d956f870717ba82        3   \n",
       "22  5ca9aa66dd24a6f8dec7b5b601b5910e        3   \n",
       "23  67fe599a0f88340c653fa106413d1e5f        3   \n",
       "24  e1622aee0a52de467449ec4eb85ff61a        4   \n",
       "25  2dff360188693fb293a2491a39d2de00        4   \n",
       "26  b755444d2ad7890bbbf33a1dc72d3384        5   \n",
       "27  80766cbd3a89566b2bf63f13bf2c7f18        5   \n",
       "28  a5ae240fd06c7891c3a1adc885b5592b        7   \n",
       "29  e5b15af2c473331acd9b8e04ea947c93        8   \n",
       "30  5e300ad98034f517259f1f77d1929103        8   \n",
       "31  820413f98f8a7f3c2997d1f4eee82419        8   \n",
       "32  e3a90de6dbc8d4693b95ee79901b19c8        8   \n",
       "33  ab865f51f1ac8e26bb0a088ecbb1460a        9   \n",
       "34  3f014d31cbd66ede940de43b1525fe5d        9   \n",
       "35  5703a53f91537b48eb6038ff47720526       10   \n",
       "36  3b90889a77d9f7a4bd5560cd1aaefc9e       11   \n",
       "37  a743c2e0ece7372ff4d6a7cdfa664d51       11   \n",
       "38  9c7b0cbce320ff6a7a20f1fafd184577       12   \n",
       "39  eabe33987121e3333bf22b231dcbaa65       12   \n",
       "40  7de23b8696b2d376937b034c281f785a       12   \n",
       "41  1eaf44c88083e2674aa2e041855ed5fa       12   \n",
       "42  0c9d3e815dee0c035ca47ffc1cfb1d95       13   \n",
       "43  6b2c19b162e6faade6cfc5f0e703f96b       13   \n",
       "44  1265b8f903c612a529f5ea512587039b       14   \n",
       "45  196d9214a556b294e2408dbb48801ba5       14   \n",
       "46  eb3d55d5b0c97912aaea150dde8f56a8       14   \n",
       "47  31394f3b4ad6570c0c6c9f527f4302a4       14   \n",
       "48  c293ca3200873db500b033e0ee5ad50d       14   \n",
       "49  1d71ff9291f99f4f91c78107d994c5e9       15   \n",
       "50  a449254b090da5a87c286e5c12fce94c       15   \n",
       "51  feded7d3a085c928fd0a2adce6eb0b21       15   \n",
       "52  28d093ef1314e4374cdc072301a53c86       15   \n",
       "53  34689da11349d670ec1fd11c599b24db       16   \n",
       "54  e7e5eb37c35d550e6ed98214e6cb6894       16   \n",
       "55  063eb558b19255d18cda5da01a5e1d2b       18   \n",
       "56  0d82cfd01fa86f303b034a688fed8418       18   \n",
       "57  74a5df527cef86fcf8ade1542aabc087       29   \n",
       "58  275e766d4c5b156de1b4ca6cb8037092       35   \n",
       "59  5f0d8f26b2a157bf88248bdcbaad4d23       39   \n",
       "\n",
       "                                             geometry  \n",
       "0   LINESTRING (-156602.745 -121551.079, -156584.8...  \n",
       "1   LINESTRING (-188298.722 -96873.513, -188301.96...  \n",
       "2   LINESTRING (-184682.089 -104159.840, -184682.6...  \n",
       "3   LINESTRING (-179972.670 -114317.287, -179934.5...  \n",
       "4   LINESTRING (-185470.812 -95192.760, -185479.31...  \n",
       "5   LINESTRING (-188312.457 -96947.922, -188345.47...  \n",
       "6   LINESTRING (-190183.875 -89076.487, -190184.09...  \n",
       "7   LINESTRING (-188298.722 -96873.513, -188301.96...  \n",
       "8   LINESTRING (-184682.089 -104159.840, -184682.6...  \n",
       "9   LINESTRING (-156602.745 -121551.079, -156584.8...  \n",
       "10  LINESTRING (-174775.662 -113900.251, -174774.2...  \n",
       "11  LINESTRING (-190183.875 -89076.487, -190184.09...  \n",
       "12  LINESTRING (-179977.422 -114285.833, -179976.1...  \n",
       "13  LINESTRING (-179971.512 -114317.201, -180012.4...  \n",
       "14  LINESTRING (-191005.828 -106152.219, -190997.2...  \n",
       "15  LINESTRING (-179979.207 -114286.129, -179977.4...  \n",
       "16  LINESTRING (-166599.089 -73846.140, -166666.39...  \n",
       "17  LINESTRING (-179977.422 -114285.833, -179976.1...  \n",
       "18  LINESTRING (-166599.089 -73846.140, -166666.39...  \n",
       "19  LINESTRING (-191802.144 -92424.475, -191793.47...  \n",
       "20  LINESTRING (-179977.422 -114285.833, -179976.1...  \n",
       "21  LINESTRING (-179971.512 -114317.201, -180012.4...  \n",
       "22  LINESTRING (-174776.807 -113873.990, -174778.3...  \n",
       "23  LINESTRING (-195028.581 -109406.755, -194994.2...  \n",
       "24  LINESTRING (-179971.512 -114317.201, -180012.4...  \n",
       "25  LINESTRING (-179979.207 -114286.129, -179977.4...  \n",
       "26  LINESTRING (-191802.144 -92424.475, -191793.47...  \n",
       "27  LINESTRING (-174776.807 -113873.990, -174778.3...  \n",
       "28  LINESTRING (-179972.670 -114317.287, -179934.5...  \n",
       "29  LINESTRING (-156602.745 -121551.079, -156584.8...  \n",
       "30  LINESTRING (-179977.422 -114285.833, -179976.1...  \n",
       "31  LINESTRING (-156600.649 -121553.231, -156631.1...  \n",
       "32  LINESTRING (-188223.299 -97191.190, -188184.57...  \n",
       "33  LINESTRING (-179979.207 -114286.129, -179977.4...  \n",
       "34  LINESTRING (-166599.089 -73846.140, -166666.39...  \n",
       "35  LINESTRING (-179977.422 -114285.833, -179976.1...  \n",
       "36  LINESTRING (-156602.745 -121551.079, -156584.8...  \n",
       "37  LINESTRING (-179978.136 -114285.929, -179989.7...  \n",
       "38  LINESTRING (-156600.649 -121553.231, -156631.1...  \n",
       "39  LINESTRING (-179972.670 -114317.287, -179934.5...  \n",
       "40  LINESTRING (-156600.649 -121553.231, -156631.1...  \n",
       "41  LINESTRING (-180616.805 -112100.496, -180590.8...  \n",
       "42  LINESTRING (-179972.670 -114317.287, -179934.5...  \n",
       "43  LINESTRING (-179978.136 -114285.929, -179989.7...  \n",
       "44  LINESTRING (-179972.670 -114317.287, -179934.5...  \n",
       "45  LINESTRING (-174775.662 -113900.251, -174774.2...  \n",
       "46  LINESTRING (-157232.679 -113560.684, -157242.3...  \n",
       "47  LINESTRING (-156602.745 -121551.079, -156584.8...  \n",
       "48  LINESTRING (-179972.670 -114317.287, -179934.5...  \n",
       "49  LINESTRING (-156602.745 -121551.079, -156584.8...  \n",
       "50  LINESTRING (-179972.670 -114317.287, -179934.5...  \n",
       "51  LINESTRING (-179977.422 -114285.833, -179976.1...  \n",
       "52  LINESTRING (-174775.662 -113900.251, -174774.2...  \n",
       "53  LINESTRING (-189179.133 -93646.375, -189193.53...  \n",
       "54  LINESTRING (-156600.649 -121553.231, -156631.1...  \n",
       "55  LINESTRING (-156602.745 -121551.079, -156584.8...  \n",
       "56  LINESTRING (-179972.670 -114317.287, -179934.5...  \n",
       "57  LINESTRING (-179978.136 -114285.929, -179989.7...  \n",
       "58  LINESTRING (-179978.136 -114285.929, -179989.7...  \n",
       "59  LINESTRING (-179978.136 -114285.929, -179989.7...  "
      ]
     },
     "execution_count": 42,
     "metadata": {},
     "output_type": "execute_result"
    }
   ],
   "source": [
    "shapes"
   ]
  },
  {
   "cell_type": "code",
   "execution_count": 43,
   "id": "f643004d-fd4b-415e-9e99-bc6ae4263b4d",
   "metadata": {},
   "outputs": [
    {
     "data": {
      "text/plain": [
       "<AxesSubplot:>"
      ]
     },
     "execution_count": 43,
     "metadata": {},
     "output_type": "execute_result"
    },
    {
     "data": {
      "image/png": "[encoded data removed]",
      "text/plain": [
       "<Figure size 640x480 with 1 Axes>"
      ]
     },
     "metadata": {},
     "output_type": "display_data"
    }
   ],
   "source": [
    "shapes.plot()"
   ]
  },
  {
   "cell_type": "code",
   "execution_count": null,
   "id": "b010bb7a-dd0f-4193-a950-73062de25567",
   "metadata": {},
   "outputs": [],
   "source": []
  },
  {
   "cell_type": "code",
   "execution_count": 56,
   "id": "c85394e5-8e2b-43db-b8b4-2ec2b88e60b7",
   "metadata": {},
   "outputs": [],
   "source": [
    "import siuba\n",
    "from calitp_data_analysis.tables import tbls\n",
    "from typing import Literal, Union\n"
   ]
  },
  {
   "cell_type": "code",
   "execution_count": 57,
   "id": "d2910093-a267-4102-aa00-a87c35aaf17e",
   "metadata": {
    "jupyter": {
     "source_hidden": true
    },
    "tags": []
   },
   "outputs": [],
   "source": [
    "def subset_cols(cols: list) -> siuba.dply.verbs.Pipeable:\n",
    "    \"\"\"\n",
    "    Select subset of columns, if column list is present.\n",
    "    Otherwise, skip.\n",
    "    \"\"\"\n",
    "    if cols:\n",
    "        return select(*cols)\n",
    "    elif not cols or len(cols) == 0:\n",
    "        # Can't use select(), because we'll select no columns\n",
    "        # But, without knowing full list of columns, let's just\n",
    "        # filter out nothing\n",
    "        return filter()\n",
    "def filter_date(\n",
    "    selected_date: Union[str, datetime.date], date_col: Literal[\"service_date\", \"activity_date\"]\n",
    ") -> siuba.dply.verbs.Pipeable:\n",
    "    return filter(_[date_col] == selected_date)\n",
    "\n",
    "def filter_operator(operator_feeds: list, include_name: bool = False) -> siuba.dply.verbs.Pipeable:\n",
    "    \"\"\"\n",
    "    Filter if operator_list is present.\n",
    "    For trips table, operator_feeds can be a list of names or feed_keys.\n",
    "    For stops, shapes, stop_times, operator_feeds can only be a list of feed_keys.\n",
    "    \"\"\"\n",
    "    # in testing, using _.feed_key or _.name came up with a\n",
    "    # siuba verb not implemented\n",
    "    # https://github.com/machow/siuba/issues/407\n",
    "    # put brackets around should work\n",
    "    if include_name:\n",
    "        return filter(_[\"feed_key\"].isin(operator_feeds) | _[\"name\"].isin(operator_feeds))\n",
    "    else:\n",
    "        return filter(_[\"feed_key\"].isin(operator_feeds))\n"
   ]
  },
  {
   "cell_type": "code",
   "execution_count": 58,
   "id": "4ffe9616-a37a-4a67-9631-524506990777",
   "metadata": {},
   "outputs": [],
   "source": [
    "##### TRIPS\n",
    "\n",
    "keep_trip_cols = [\n",
    "            \"feed_key\", \"name\", \"regional_feed_type\", \n",
    "            \"service_date\", \"trip_key\", \"trip_id\",\n",
    "            \"route_key\", \"route_id\", \"route_type\", \n",
    "            \"route_short_name\", \"route_long_name\", \"route_desc\",\n",
    "            \"direction_id\", \n",
    "            \"shape_array_key\", \"shape_id\",\n",
    "            \"trip_first_departure_sec\", \"trip_last_arrival_sec\",\n",
    "            \"service_hours\"]"
   ]
  },
  {
   "cell_type": "code",
   "execution_count": 64,
   "id": "dacd899e-53d9-4148-b0e1-070b4d678c29",
   "metadata": {},
   "outputs": [],
   "source": [
    "trips = (\n",
    "        tbls.mart_gtfs.fct_daily_scheduled_trips()\n",
    "        >> filter_date(analysis_date, date_col=\"service_date\")\n",
    "        >> filter_operator(test_feed_keys, include_name=True)\n",
    ")\n",
    "\n",
    "trips = trips >> subset_cols(keep_trip_cols) >> collect()\n"
   ]
  },
  {
   "cell_type": "code",
   "execution_count": 74,
   "id": "9e74b32b-8d6b-49c2-b90f-4716c74424fa",
   "metadata": {},
   "outputs": [
    {
     "data": {
      "text/html": [
       "<div>\n",
       "<style scoped>\n",
       "    .dataframe tbody tr th:only-of-type {\n",
       "        vertical-align: middle;\n",
       "    }\n",
       "\n",
       "    .dataframe tbody tr th {\n",
       "        vertical-align: top;\n",
       "    }\n",
       "\n",
       "    .dataframe thead th {\n",
       "        text-align: right;\n",
       "    }\n",
       "</style>\n",
       "<table border=\"1\" class=\"dataframe\">\n",
       "  <thead>\n",
       "    <tr style=\"text-align: right;\">\n",
       "      <th></th>\n",
       "      <th>feed_key</th>\n",
       "      <th>name</th>\n",
       "      <th>regional_feed_type</th>\n",
       "      <th>service_date</th>\n",
       "      <th>trip_key</th>\n",
       "      <th>trip_id</th>\n",
       "      <th>route_key</th>\n",
       "      <th>route_id</th>\n",
       "      <th>route_type</th>\n",
       "      <th>route_short_name</th>\n",
       "      <th>route_long_name</th>\n",
       "      <th>route_desc</th>\n",
       "      <th>direction_id</th>\n",
       "      <th>shape_array_key</th>\n",
       "      <th>shape_id</th>\n",
       "      <th>trip_first_departure_sec</th>\n",
       "      <th>trip_last_arrival_sec</th>\n",
       "      <th>service_hours</th>\n",
       "    </tr>\n",
       "  </thead>\n",
       "  <tbody>\n",
       "    <tr>\n",
       "      <th>0</th>\n",
       "      <td>02fbd8719f99b906e65b2cf86cbb7cae</td>\n",
       "      <td>Santa Cruz Schedule</td>\n",
       "      <td>None</td>\n",
       "      <td>2022-11-28</td>\n",
       "      <td>8f21880aa023f2e64eecd93ddc392351</td>\n",
       "      <td>3802657-202310S-vs20231S-Weekday-04</td>\n",
       "      <td>43a5d7bb3213d922be95a0429cd55495</td>\n",
       "      <td>18</td>\n",
       "      <td>3</td>\n",
       "      <td>18</td>\n",
       "      <td>UCSC via Main Gate - Mission</td>\n",
       "      <td>None</td>\n",
       "      <td>0</td>\n",
       "      <td>5f0d8f26b2a157bf88248bdcbaad4d23</td>\n",
       "      <td>180004</td>\n",
       "      <td>23100</td>\n",
       "      <td>25380</td>\n",
       "      <td>0.633333</td>\n",
       "    </tr>\n",
       "    <tr>\n",
       "      <th>1</th>\n",
       "      <td>02fbd8719f99b906e65b2cf86cbb7cae</td>\n",
       "      <td>Santa Cruz Schedule</td>\n",
       "      <td>None</td>\n",
       "      <td>2022-11-28</td>\n",
       "      <td>f5b3f18d2a9a494bfa36f0b56186dbe9</td>\n",
       "      <td>3802329-202310S-vs20231S-Weekday-04</td>\n",
       "      <td>aaa8ae8bce252c57c4da59834f0adc54</td>\n",
       "      <td>71</td>\n",
       "      <td>3</td>\n",
       "      <td>71</td>\n",
       "      <td>Soquel/Freedom</td>\n",
       "      <td>None</td>\n",
       "      <td>0</td>\n",
       "      <td>c293ca3200873db500b033e0ee5ad50d</td>\n",
       "      <td>710035</td>\n",
       "      <td>62100</td>\n",
       "      <td>66300</td>\n",
       "      <td>1.166667</td>\n",
       "    </tr>\n",
       "    <tr>\n",
       "      <th>2</th>\n",
       "      <td>02fbd8719f99b906e65b2cf86cbb7cae</td>\n",
       "      <td>Santa Cruz Schedule</td>\n",
       "      <td>None</td>\n",
       "      <td>2022-11-28</td>\n",
       "      <td>45cae98c622593ea050a02aa156ca518</td>\n",
       "      <td>3802820-202310S-vs20231S-Weekday-04</td>\n",
       "      <td>0b5c818915a1ec543ad4a94e22dd4af0</td>\n",
       "      <td>04</td>\n",
       "      <td>3</td>\n",
       "      <td>04</td>\n",
       "      <td>Harvey West</td>\n",
       "      <td>None</td>\n",
       "      <td>0</td>\n",
       "      <td>1eaf44c88083e2674aa2e041855ed5fa</td>\n",
       "      <td>040008</td>\n",
       "      <td>62580</td>\n",
       "      <td>63540</td>\n",
       "      <td>0.266667</td>\n",
       "    </tr>\n",
       "    <tr>\n",
       "      <th>3</th>\n",
       "      <td>02fbd8719f99b906e65b2cf86cbb7cae</td>\n",
       "      <td>Santa Cruz Schedule</td>\n",
       "      <td>None</td>\n",
       "      <td>2022-11-28</td>\n",
       "      <td>ab7e276a4039042be836eb72e3da5c64</td>\n",
       "      <td>3802638-202310S-vs20231S-Weekday-04</td>\n",
       "      <td>f4cefae8087f5b8e6c2b44ec29359b08</td>\n",
       "      <td>74S</td>\n",
       "      <td>3</td>\n",
       "      <td>74S</td>\n",
       "      <td>PVHS/Hospital</td>\n",
       "      <td>None</td>\n",
       "      <td>0</td>\n",
       "      <td>ab8ee62afdc185dc11a5df12edc005d0</td>\n",
       "      <td>74S0003</td>\n",
       "      <td>27000</td>\n",
       "      <td>30360</td>\n",
       "      <td>0.933333</td>\n",
       "    </tr>\n",
       "    <tr>\n",
       "      <th>4</th>\n",
       "      <td>02fbd8719f99b906e65b2cf86cbb7cae</td>\n",
       "      <td>Santa Cruz Schedule</td>\n",
       "      <td>None</td>\n",
       "      <td>2022-11-28</td>\n",
       "      <td>6a4a55305095853719f3442232ee5142</td>\n",
       "      <td>3802427-202310S-vs20231S-Weekday-04</td>\n",
       "      <td>b9a2dcc2c127e4c52785b6beb2d7e315</td>\n",
       "      <td>17</td>\n",
       "      <td>3</td>\n",
       "      <td>17</td>\n",
       "      <td>Amtrak Highway 17 Express</td>\n",
       "      <td>None</td>\n",
       "      <td>1</td>\n",
       "      <td>f8d18f1db271f816e08ecb9171d62b8b</td>\n",
       "      <td>170068</td>\n",
       "      <td>51900</td>\n",
       "      <td>55440</td>\n",
       "      <td>0.983333</td>\n",
       "    </tr>\n",
       "  </tbody>\n",
       "</table>\n",
       "</div>"
      ],
      "text/plain": [
       "                           feed_key                 name regional_feed_type  \\\n",
       "0  02fbd8719f99b906e65b2cf86cbb7cae  Santa Cruz Schedule               None   \n",
       "1  02fbd8719f99b906e65b2cf86cbb7cae  Santa Cruz Schedule               None   \n",
       "2  02fbd8719f99b906e65b2cf86cbb7cae  Santa Cruz Schedule               None   \n",
       "3  02fbd8719f99b906e65b2cf86cbb7cae  Santa Cruz Schedule               None   \n",
       "4  02fbd8719f99b906e65b2cf86cbb7cae  Santa Cruz Schedule               None   \n",
       "\n",
       "  service_date                          trip_key  \\\n",
       "0   2022-11-28  8f21880aa023f2e64eecd93ddc392351   \n",
       "1   2022-11-28  f5b3f18d2a9a494bfa36f0b56186dbe9   \n",
       "2   2022-11-28  45cae98c622593ea050a02aa156ca518   \n",
       "3   2022-11-28  ab7e276a4039042be836eb72e3da5c64   \n",
       "4   2022-11-28  6a4a55305095853719f3442232ee5142   \n",
       "\n",
       "                               trip_id                         route_key  \\\n",
       "0  3802657-202310S-vs20231S-Weekday-04  43a5d7bb3213d922be95a0429cd55495   \n",
       "1  3802329-202310S-vs20231S-Weekday-04  aaa8ae8bce252c57c4da59834f0adc54   \n",
       "2  3802820-202310S-vs20231S-Weekday-04  0b5c818915a1ec543ad4a94e22dd4af0   \n",
       "3  3802638-202310S-vs20231S-Weekday-04  f4cefae8087f5b8e6c2b44ec29359b08   \n",
       "4  3802427-202310S-vs20231S-Weekday-04  b9a2dcc2c127e4c52785b6beb2d7e315   \n",
       "\n",
       "  route_id route_type route_short_name               route_long_name  \\\n",
       "0       18          3               18  UCSC via Main Gate - Mission   \n",
       "1       71          3               71                Soquel/Freedom   \n",
       "2       04          3               04                   Harvey West   \n",
       "3      74S          3              74S                 PVHS/Hospital   \n",
       "4       17          3               17     Amtrak Highway 17 Express   \n",
       "\n",
       "  route_desc  direction_id                   shape_array_key shape_id  \\\n",
       "0       None             0  5f0d8f26b2a157bf88248bdcbaad4d23   180004   \n",
       "1       None             0  c293ca3200873db500b033e0ee5ad50d   710035   \n",
       "2       None             0  1eaf44c88083e2674aa2e041855ed5fa   040008   \n",
       "3       None             0  ab8ee62afdc185dc11a5df12edc005d0  74S0003   \n",
       "4       None             1  f8d18f1db271f816e08ecb9171d62b8b   170068   \n",
       "\n",
       "   trip_first_departure_sec  trip_last_arrival_sec  service_hours  \n",
       "0                     23100                  25380       0.633333  \n",
       "1                     62100                  66300       1.166667  \n",
       "2                     62580                  63540       0.266667  \n",
       "3                     27000                  30360       0.933333  \n",
       "4                     51900                  55440       0.983333  "
      ]
     },
     "execution_count": 74,
     "metadata": {},
     "output_type": "execute_result"
    }
   ],
   "source": [
    "trips.head()"
   ]
  },
  {
   "cell_type": "code",
   "execution_count": 66,
   "id": "a2c172df-f4d5-4edc-b33d-3b9df1ae9310",
   "metadata": {},
   "outputs": [
    {
     "data": {
      "text/plain": [
       "526"
      ]
     },
     "execution_count": 66,
     "metadata": {},
     "output_type": "execute_result"
    }
   ],
   "source": [
    "len(trips)"
   ]
  },
  {
   "cell_type": "code",
   "execution_count": 69,
   "id": "74465678-df93-45c4-9011-42abf564e8b5",
   "metadata": {},
   "outputs": [
    {
     "data": {
      "text/plain": [
       "both          526\n",
       "left_only       0\n",
       "right_only      0\n",
       "Name: _merge, dtype: int64"
      ]
     },
     "execution_count": 69,
     "metadata": {},
     "output_type": "execute_result"
    }
   ],
   "source": [
    "(shapes.merge(trips, how=\"outer\", indicator=True))._merge.value_counts()"
   ]
  },
  {
   "cell_type": "code",
   "execution_count": 70,
   "id": "dec375e1-8cae-419e-9358-49d9188aafdd",
   "metadata": {},
   "outputs": [],
   "source": [
    "df = shapes.merge(trips, how=\"outer\", indicator=True)"
   ]
  },
  {
   "cell_type": "code",
   "execution_count": 72,
   "id": "851d0380-f33f-40c0-a68a-8a248a6342e8",
   "metadata": {},
   "outputs": [
    {
     "data": {
      "text/plain": [
       "Index(['feed_key', 'shape_id', 'shape_array_key', 'n_trips', 'geometry',\n",
       "       'name', 'regional_feed_type', 'service_date', 'trip_key', 'trip_id',\n",
       "       'route_key', 'route_id', 'route_type', 'route_short_name',\n",
       "       'route_long_name', 'route_desc', 'direction_id',\n",
       "       'trip_first_departure_sec', 'trip_last_arrival_sec', 'service_hours',\n",
       "       '_merge'],\n",
       "      dtype='object')"
      ]
     },
     "execution_count": 72,
     "metadata": {},
     "output_type": "execute_result"
    }
   ],
   "source": [
    "df.columns"
   ]
  },
  {
   "cell_type": "code",
   "execution_count": 76,
   "id": "c4ca3a4c-ca6b-4edc-b73f-77ced23bed0d",
   "metadata": {},
   "outputs": [
    {
     "data": {
      "text/html": [
       "<div>\n",
       "<style scoped>\n",
       "    .dataframe tbody tr th:only-of-type {\n",
       "        vertical-align: middle;\n",
       "    }\n",
       "\n",
       "    .dataframe tbody tr th {\n",
       "        vertical-align: top;\n",
       "    }\n",
       "\n",
       "    .dataframe thead th {\n",
       "        text-align: right;\n",
       "    }\n",
       "</style>\n",
       "<table border=\"1\" class=\"dataframe\">\n",
       "  <thead>\n",
       "    <tr style=\"text-align: right;\">\n",
       "      <th></th>\n",
       "      <th>feed_key</th>\n",
       "      <th>shape_id</th>\n",
       "      <th>shape_array_key</th>\n",
       "      <th>n_trips</th>\n",
       "      <th>geometry</th>\n",
       "      <th>name</th>\n",
       "      <th>regional_feed_type</th>\n",
       "      <th>service_date</th>\n",
       "      <th>trip_key</th>\n",
       "      <th>trip_id</th>\n",
       "      <th>route_key</th>\n",
       "      <th>route_id</th>\n",
       "      <th>route_type</th>\n",
       "      <th>route_short_name</th>\n",
       "      <th>route_long_name</th>\n",
       "      <th>route_desc</th>\n",
       "      <th>direction_id</th>\n",
       "      <th>trip_first_departure_sec</th>\n",
       "      <th>trip_last_arrival_sec</th>\n",
       "      <th>service_hours</th>\n",
       "      <th>_merge</th>\n",
       "    </tr>\n",
       "  </thead>\n",
       "  <tbody>\n",
       "    <tr>\n",
       "      <th>231</th>\n",
       "      <td>02fbd8719f99b906e65b2cf86cbb7cae</td>\n",
       "      <td>660009</td>\n",
       "      <td>1265b8f903c612a529f5ea512587039b</td>\n",
       "      <td>14</td>\n",
       "      <td>LINESTRING (-179972.670 -114317.287, -179934.5...</td>\n",
       "      <td>Santa Cruz Schedule</td>\n",
       "      <td>None</td>\n",
       "      <td>2022-11-28</td>\n",
       "      <td>fe5d7469fe31610d10cc5896cdb08b33</td>\n",
       "      <td>3802452-202310S-vs20231S-Weekday-04</td>\n",
       "      <td>3cdfe2f4fff26aaabe6ce386ff875ffc</td>\n",
       "      <td>66</td>\n",
       "      <td>3</td>\n",
       "      <td>66</td>\n",
       "      <td>Live Oak/17th</td>\n",
       "      <td>None</td>\n",
       "      <td>0</td>\n",
       "      <td>42300</td>\n",
       "      <td>44040</td>\n",
       "      <td>0.483333</td>\n",
       "      <td>both</td>\n",
       "    </tr>\n",
       "    <tr>\n",
       "      <th>169</th>\n",
       "      <td>02fbd8719f99b906e65b2cf86cbb7cae</td>\n",
       "      <td>69A0005</td>\n",
       "      <td>eabe33987121e3333bf22b231dcbaa65</td>\n",
       "      <td>12</td>\n",
       "      <td>LINESTRING (-179972.670 -114317.287, -179934.5...</td>\n",
       "      <td>Santa Cruz Schedule</td>\n",
       "      <td>None</td>\n",
       "      <td>2022-11-28</td>\n",
       "      <td>e8314160edc2bcd52f3709400a6812f4</td>\n",
       "      <td>3802384-202310S-vs20231S-Weekday-04</td>\n",
       "      <td>96170e59868f0b20e63dd083f3f8b85f</td>\n",
       "      <td>69A</td>\n",
       "      <td>3</td>\n",
       "      <td>69A</td>\n",
       "      <td>Capitola/Airport</td>\n",
       "      <td>None</td>\n",
       "      <td>0</td>\n",
       "      <td>25620</td>\n",
       "      <td>28680</td>\n",
       "      <td>0.850000</td>\n",
       "      <td>both</td>\n",
       "    </tr>\n",
       "    <tr>\n",
       "      <th>439</th>\n",
       "      <td>02fbd8719f99b906e65b2cf86cbb7cae</td>\n",
       "      <td>150010</td>\n",
       "      <td>74a5df527cef86fcf8ade1542aabc087</td>\n",
       "      <td>29</td>\n",
       "      <td>LINESTRING (-179978.136 -114285.929, -179989.7...</td>\n",
       "      <td>Santa Cruz Schedule</td>\n",
       "      <td>None</td>\n",
       "      <td>2022-11-28</td>\n",
       "      <td>eeaad4440480f4ad2bd5ff13a2beef06</td>\n",
       "      <td>3802675-202310S-vs20231S-Weekday-04</td>\n",
       "      <td>85edfcd275ffa87af6e1bfa570f52451</td>\n",
       "      <td>15</td>\n",
       "      <td>3</td>\n",
       "      <td>15</td>\n",
       "      <td>UCSC via Main Gate - Laurel</td>\n",
       "      <td>None</td>\n",
       "      <td>0</td>\n",
       "      <td>33300</td>\n",
       "      <td>35820</td>\n",
       "      <td>0.700000</td>\n",
       "      <td>both</td>\n",
       "    </tr>\n",
       "    <tr>\n",
       "      <th>61</th>\n",
       "      <td>02fbd8719f99b906e65b2cf86cbb7cae</td>\n",
       "      <td>550012</td>\n",
       "      <td>80766cbd3a89566b2bf63f13bf2c7f18</td>\n",
       "      <td>5</td>\n",
       "      <td>LINESTRING (-174776.807 -113873.990, -174778.3...</td>\n",
       "      <td>Santa Cruz Schedule</td>\n",
       "      <td>None</td>\n",
       "      <td>2022-11-28</td>\n",
       "      <td>97cea35df78e93c55ce216045b5a4087</td>\n",
       "      <td>3802608-202310S-vs20231S-Weekday-04</td>\n",
       "      <td>21ccd7dbd03ae7db5fb5778f9d7b9c79</td>\n",
       "      <td>55</td>\n",
       "      <td>3</td>\n",
       "      <td>55</td>\n",
       "      <td>Cabrillo - Rio Del Mar</td>\n",
       "      <td>None</td>\n",
       "      <td>0</td>\n",
       "      <td>44100</td>\n",
       "      <td>47700</td>\n",
       "      <td>1.000000</td>\n",
       "      <td>both</td>\n",
       "    </tr>\n",
       "    <tr>\n",
       "      <th>123</th>\n",
       "      <td>02fbd8719f99b906e65b2cf86cbb7cae</td>\n",
       "      <td>040009</td>\n",
       "      <td>5703a53f91537b48eb6038ff47720526</td>\n",
       "      <td>10</td>\n",
       "      <td>LINESTRING (-179977.422 -114285.833, -179976.1...</td>\n",
       "      <td>Santa Cruz Schedule</td>\n",
       "      <td>None</td>\n",
       "      <td>2022-11-28</td>\n",
       "      <td>e6653c0735da89606bd438cd8677ad5a</td>\n",
       "      <td>3802816-202310S-vs20231S-Weekday-04</td>\n",
       "      <td>0b5c818915a1ec543ad4a94e22dd4af0</td>\n",
       "      <td>04</td>\n",
       "      <td>3</td>\n",
       "      <td>04</td>\n",
       "      <td>Harvey West</td>\n",
       "      <td>None</td>\n",
       "      <td>1</td>\n",
       "      <td>49980</td>\n",
       "      <td>50940</td>\n",
       "      <td>0.266667</td>\n",
       "      <td>both</td>\n",
       "    </tr>\n",
       "  </tbody>\n",
       "</table>\n",
       "</div>"
      ],
      "text/plain": [
       "                             feed_key shape_id  \\\n",
       "231  02fbd8719f99b906e65b2cf86cbb7cae   660009   \n",
       "169  02fbd8719f99b906e65b2cf86cbb7cae  69A0005   \n",
       "439  02fbd8719f99b906e65b2cf86cbb7cae   150010   \n",
       "61   02fbd8719f99b906e65b2cf86cbb7cae   550012   \n",
       "123  02fbd8719f99b906e65b2cf86cbb7cae   040009   \n",
       "\n",
       "                      shape_array_key  n_trips  \\\n",
       "231  1265b8f903c612a529f5ea512587039b       14   \n",
       "169  eabe33987121e3333bf22b231dcbaa65       12   \n",
       "439  74a5df527cef86fcf8ade1542aabc087       29   \n",
       "61   80766cbd3a89566b2bf63f13bf2c7f18        5   \n",
       "123  5703a53f91537b48eb6038ff47720526       10   \n",
       "\n",
       "                                              geometry                 name  \\\n",
       "231  LINESTRING (-179972.670 -114317.287, -179934.5...  Santa Cruz Schedule   \n",
       "169  LINESTRING (-179972.670 -114317.287, -179934.5...  Santa Cruz Schedule   \n",
       "439  LINESTRING (-179978.136 -114285.929, -179989.7...  Santa Cruz Schedule   \n",
       "61   LINESTRING (-174776.807 -113873.990, -174778.3...  Santa Cruz Schedule   \n",
       "123  LINESTRING (-179977.422 -114285.833, -179976.1...  Santa Cruz Schedule   \n",
       "\n",
       "    regional_feed_type service_date                          trip_key  \\\n",
       "231               None   2022-11-28  fe5d7469fe31610d10cc5896cdb08b33   \n",
       "169               None   2022-11-28  e8314160edc2bcd52f3709400a6812f4   \n",
       "439               None   2022-11-28  eeaad4440480f4ad2bd5ff13a2beef06   \n",
       "61                None   2022-11-28  97cea35df78e93c55ce216045b5a4087   \n",
       "123               None   2022-11-28  e6653c0735da89606bd438cd8677ad5a   \n",
       "\n",
       "                                 trip_id                         route_key  \\\n",
       "231  3802452-202310S-vs20231S-Weekday-04  3cdfe2f4fff26aaabe6ce386ff875ffc   \n",
       "169  3802384-202310S-vs20231S-Weekday-04  96170e59868f0b20e63dd083f3f8b85f   \n",
       "439  3802675-202310S-vs20231S-Weekday-04  85edfcd275ffa87af6e1bfa570f52451   \n",
       "61   3802608-202310S-vs20231S-Weekday-04  21ccd7dbd03ae7db5fb5778f9d7b9c79   \n",
       "123  3802816-202310S-vs20231S-Weekday-04  0b5c818915a1ec543ad4a94e22dd4af0   \n",
       "\n",
       "    route_id route_type route_short_name              route_long_name  \\\n",
       "231       66          3               66                Live Oak/17th   \n",
       "169      69A          3              69A             Capitola/Airport   \n",
       "439       15          3               15  UCSC via Main Gate - Laurel   \n",
       "61        55          3               55       Cabrillo - Rio Del Mar   \n",
       "123       04          3               04                  Harvey West   \n",
       "\n",
       "    route_desc  direction_id  trip_first_departure_sec  trip_last_arrival_sec  \\\n",
       "231       None             0                     42300                  44040   \n",
       "169       None             0                     25620                  28680   \n",
       "439       None             0                     33300                  35820   \n",
       "61        None             0                     44100                  47700   \n",
       "123       None             1                     49980                  50940   \n",
       "\n",
       "     service_hours _merge  \n",
       "231       0.483333   both  \n",
       "169       0.850000   both  \n",
       "439       0.700000   both  \n",
       "61        1.000000   both  \n",
       "123       0.266667   both  "
      ]
     },
     "execution_count": 76,
     "metadata": {},
     "output_type": "execute_result"
    }
   ],
   "source": [
    "df.sample(5)"
   ]
  },
  {
   "cell_type": "code",
   "execution_count": 79,
   "id": "fc4a4673-f5b4-4785-857b-1e58619c53e4",
   "metadata": {},
   "outputs": [],
   "source": [
    "routes_to_keep = ['69A', '69W', '71', '91X']"
   ]
  },
  {
   "cell_type": "code",
   "execution_count": 82,
   "id": "34a4f982-f5d2-46b2-971a-90c3c9bd3f45",
   "metadata": {},
   "outputs": [],
   "source": [
    "df = df>>filter(_[\"route_short_name\"].isin(routes_to_keep))"
   ]
  },
  {
   "cell_type": "code",
   "execution_count": 84,
   "id": "cfc11c11-a93f-4d98-8e6b-a8330d7e3c8e",
   "metadata": {},
   "outputs": [
    {
     "data": {
      "text/html": [
       "<div>\n",
       "<style scoped>\n",
       "    .dataframe tbody tr th:only-of-type {\n",
       "        vertical-align: middle;\n",
       "    }\n",
       "\n",
       "    .dataframe tbody tr th {\n",
       "        vertical-align: top;\n",
       "    }\n",
       "\n",
       "    .dataframe thead th {\n",
       "        text-align: right;\n",
       "    }\n",
       "</style>\n",
       "<table border=\"1\" class=\"dataframe\">\n",
       "  <thead>\n",
       "    <tr style=\"text-align: right;\">\n",
       "      <th></th>\n",
       "      <th>feed_key</th>\n",
       "      <th>shape_id</th>\n",
       "      <th>shape_array_key</th>\n",
       "      <th>n_trips</th>\n",
       "      <th>geometry</th>\n",
       "      <th>name</th>\n",
       "      <th>regional_feed_type</th>\n",
       "      <th>service_date</th>\n",
       "      <th>trip_key</th>\n",
       "      <th>trip_id</th>\n",
       "      <th>route_key</th>\n",
       "      <th>route_id</th>\n",
       "      <th>route_type</th>\n",
       "      <th>route_short_name</th>\n",
       "      <th>route_long_name</th>\n",
       "      <th>route_desc</th>\n",
       "      <th>direction_id</th>\n",
       "      <th>trip_first_departure_sec</th>\n",
       "      <th>trip_last_arrival_sec</th>\n",
       "      <th>service_hours</th>\n",
       "      <th>_merge</th>\n",
       "    </tr>\n",
       "  </thead>\n",
       "  <tbody>\n",
       "    <tr>\n",
       "      <th>292</th>\n",
       "      <td>02fbd8719f99b906e65b2cf86cbb7cae</td>\n",
       "      <td>710035</td>\n",
       "      <td>c293ca3200873db500b033e0ee5ad50d</td>\n",
       "      <td>14</td>\n",
       "      <td>LINESTRING (-179972.670 -114317.287, -179934.5...</td>\n",
       "      <td>Santa Cruz Schedule</td>\n",
       "      <td>None</td>\n",
       "      <td>2022-11-28</td>\n",
       "      <td>7341e69bf64cda7d577156f658c6b6e2</td>\n",
       "      <td>3802349-202310S-vs20231S-Weekday-04</td>\n",
       "      <td>aaa8ae8bce252c57c4da59834f0adc54</td>\n",
       "      <td>71</td>\n",
       "      <td>3</td>\n",
       "      <td>71</td>\n",
       "      <td>Soquel/Freedom</td>\n",
       "      <td>None</td>\n",
       "      <td>0</td>\n",
       "      <td>29700</td>\n",
       "      <td>33600</td>\n",
       "      <td>1.083333</td>\n",
       "      <td>both</td>\n",
       "    </tr>\n",
       "  </tbody>\n",
       "</table>\n",
       "</div>"
      ],
      "text/plain": [
       "                             feed_key shape_id  \\\n",
       "292  02fbd8719f99b906e65b2cf86cbb7cae   710035   \n",
       "\n",
       "                      shape_array_key  n_trips  \\\n",
       "292  c293ca3200873db500b033e0ee5ad50d       14   \n",
       "\n",
       "                                              geometry                 name  \\\n",
       "292  LINESTRING (-179972.670 -114317.287, -179934.5...  Santa Cruz Schedule   \n",
       "\n",
       "    regional_feed_type service_date                          trip_key  \\\n",
       "292               None   2022-11-28  7341e69bf64cda7d577156f658c6b6e2   \n",
       "\n",
       "                                 trip_id                         route_key  \\\n",
       "292  3802349-202310S-vs20231S-Weekday-04  aaa8ae8bce252c57c4da59834f0adc54   \n",
       "\n",
       "    route_id route_type route_short_name route_long_name route_desc  \\\n",
       "292       71          3               71  Soquel/Freedom       None   \n",
       "\n",
       "     direction_id  trip_first_departure_sec  trip_last_arrival_sec  \\\n",
       "292             0                     29700                  33600   \n",
       "\n",
       "     service_hours _merge  \n",
       "292       1.083333   both  "
      ]
     },
     "execution_count": 84,
     "metadata": {},
     "output_type": "execute_result"
    }
   ],
   "source": [
    "df.sample()"
   ]
  },
  {
   "cell_type": "code",
   "execution_count": 85,
   "id": "0c09e7b5-d609-4f3d-bf25-323d692cb8d0",
   "metadata": {},
   "outputs": [
    {
     "data": {
      "text/plain": [
       "<AxesSubplot:>"
      ]
     },
     "execution_count": 85,
     "metadata": {},
     "output_type": "execute_result"
    },
    {
     "data": {
      "image/png": "[encoded data removed]",
      "text/plain": [
       "<Figure size 640x480 with 1 Axes>"
      ]
     },
     "metadata": {},
     "output_type": "display_data"
    }
   ],
   "source": [
    "df.plot()"
   ]
  },
  {
   "cell_type": "code",
   "execution_count": null,
   "id": "f4ad628c-232b-4f2b-aa97-38c4a1f762a4",
   "metadata": {},
   "outputs": [],
   "source": []
  },
  {
   "cell_type": "code",
   "execution_count": null,
   "id": "afa115dc-8e1c-42a3-a52e-26c0853f9443",
   "metadata": {},
   "outputs": [],
   "source": []
  },
  {
   "cell_type": "code",
   "execution_count": null,
   "id": "e20f127b-f1c1-4d2c-93c7-1a6ed8f73e11",
   "metadata": {},
   "outputs": [],
   "source": []
  },
  {
   "cell_type": "code",
   "execution_count": null,
   "id": "29249880-a5a7-4cd3-9ebb-f9e8c90a1d2f",
   "metadata": {},
   "outputs": [],
   "source": []
  },
  {
   "cell_type": "code",
   "execution_count": null,
   "id": "77fd58d5-65d0-4c0c-808f-cc7e313018ba",
   "metadata": {},
   "outputs": [],
   "source": []
  }
 ],
 "metadata": {
  "kernelspec": {
   "display_name": "Python 3 (ipykernel)",
   "language": "python",
   "name": "python3"
  },
  "language_info": {
   "codemirror_mode": {
    "name": "ipython",
    "version": 3
   },
   "file_extension": ".py",
   "mimetype": "text/x-python",
   "name": "python",
   "nbconvert_exporter": "python",
   "pygments_lexer": "ipython3",
   "version": "3.9.13"
  },
  "widgets": {
   "application/vnd.jupyter.widget-state+json": {
    "state": {},
    "version_major": 2,
    "version_minor": 0
   }
  }
 },
 "nbformat": 4,
 "nbformat_minor": 5
}
