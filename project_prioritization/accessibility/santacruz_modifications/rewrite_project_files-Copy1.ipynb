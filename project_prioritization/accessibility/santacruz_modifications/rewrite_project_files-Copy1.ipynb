{
 "cells": [
  {
   "cell_type": "code",
   "execution_count": 1,
   "id": "8a0f9f1b-174e-431b-9131-84c111a3b238",
   "metadata": {},
   "outputs": [
    {
     "name": "stderr",
     "output_type": "stream",
     "text": [
      "/opt/conda/lib/python3.9/site-packages/geopandas/_compat.py:123: UserWarning: The Shapely GEOS version (3.11.1-CAPI-1.17.1) is incompatible with the GEOS version PyGEOS was compiled with (3.10.1-CAPI-1.16.0). Conversions between both will be slow.\n",
      "  warnings.warn(\n",
      "/tmp/ipykernel_309/3465571729.py:2: UserWarning: Shapely 2.0 is installed, but because PyGEOS is also installed, GeoPandas will still use PyGEOS by default for now. To force to use and test Shapely 2.0, you have to set the environment variable USE_PYGEOS=0. You can do this before starting the Python process, or in your code before importing geopandas:\n",
      "\n",
      "import os\n",
      "os.environ['USE_PYGEOS'] = '0'\n",
      "import geopandas\n",
      "\n",
      "In a future release, GeoPandas will switch to using Shapely by default. If you are using PyGEOS directly (calling PyGEOS functions on geometries from GeoPandas), this will then stop working and you are encouraged to migrate from PyGEOS to Shapely 2.0 (https://shapely.readthedocs.io/en/latest/migration_pygeos.html).\n",
      "  import geopandas as gpd\n"
     ]
    }
   ],
   "source": [
    "import pandas as pd\n",
    "import geopandas as gpd\n",
    "import matplotlib.pyplot as plt"
   ]
  },
  {
   "cell_type": "code",
   "execution_count": 2,
   "id": "62473c52-3c7a-40cb-846a-f554be252fb9",
   "metadata": {},
   "outputs": [],
   "source": [
    "import json"
   ]
  },
  {
   "cell_type": "code",
   "execution_count": 3,
   "id": "56f90c33-af6f-4b47-b2f0-defb427fc141",
   "metadata": {},
   "outputs": [],
   "source": [
    "# file = (pd.read_json(\"santacruz_auxiliary_lane.geojson\"))"
   ]
  },
  {
   "cell_type": "code",
   "execution_count": 4,
   "id": "7c169ff8-8111-4d97-84eb-338f16913303",
   "metadata": {},
   "outputs": [],
   "source": [
    "# file"
   ]
  },
  {
   "cell_type": "code",
   "execution_count": null,
   "id": "4ef23f03-4efb-42d8-a8e8-f61a61f2fb87",
   "metadata": {},
   "outputs": [],
   "source": []
  },
  {
   "cell_type": "code",
   "execution_count": 5,
   "id": "95957c78-fa7a-4272-a8c8-79f9184bff15",
   "metadata": {},
   "outputs": [],
   "source": [
    "# import json\n",
    "# with open('project_location2.json') as json_file: \n",
    "#     data = json.load(json_file) \n",
    "# print(data['polygons'][0]['geometry']['coordinates'][0])"
   ]
  },
  {
   "cell_type": "code",
   "execution_count": 6,
   "id": "dfc99d3c-bcf1-4cf3-be07-8e86cb3dfad9",
   "metadata": {},
   "outputs": [],
   "source": [
    "## error reading due to len of arrays not matching\n",
    "# line = pd.read_json(\"eb_greenway_files/project_location.json\")"
   ]
  },
  {
   "cell_type": "code",
   "execution_count": null,
   "id": "a8ae713f-d001-4b18-bb61-0bc5583ff98d",
   "metadata": {},
   "outputs": [],
   "source": []
  },
  {
   "cell_type": "code",
   "execution_count": null,
   "id": "a026e0f3-1834-47c5-997b-04261b26f843",
   "metadata": {},
   "outputs": [],
   "source": []
  },
  {
   "cell_type": "markdown",
   "id": "495dd1aa-05b7-4dda-9769-d1a5ae3a3ab8",
   "metadata": {},
   "source": [
    "#### Project to Shape file"
   ]
  },
  {
   "cell_type": "code",
   "execution_count": 7,
   "id": "671ebcf6-7e64-4dec-ac7a-6a669036f6e6",
   "metadata": {},
   "outputs": [],
   "source": [
    "proj1 = gpd.read_file('santacruz_multimodal_street.geojson')"
   ]
  },
  {
   "cell_type": "code",
   "execution_count": 8,
   "id": "a6f45547-9eda-42c2-9836-9aabc6336ea9",
   "metadata": {},
   "outputs": [
    {
     "data": {
      "text/html": [
       "<div>\n",
       "<style scoped>\n",
       "    .dataframe tbody tr th:only-of-type {\n",
       "        vertical-align: middle;\n",
       "    }\n",
       "\n",
       "    .dataframe tbody tr th {\n",
       "        vertical-align: top;\n",
       "    }\n",
       "\n",
       "    .dataframe thead th {\n",
       "        text-align: right;\n",
       "    }\n",
       "</style>\n",
       "<table border=\"1\" class=\"dataframe\">\n",
       "  <thead>\n",
       "    <tr style=\"text-align: right;\">\n",
       "      <th></th>\n",
       "      <th>geometry</th>\n",
       "    </tr>\n",
       "  </thead>\n",
       "  <tbody>\n",
       "    <tr>\n",
       "      <th>0</th>\n",
       "      <td>POLYGON ((-121.87154 36.97216, -121.87173 36.9...</td>\n",
       "    </tr>\n",
       "  </tbody>\n",
       "</table>\n",
       "</div>"
      ],
      "text/plain": [
       "                                            geometry\n",
       "0  POLYGON ((-121.87154 36.97216, -121.87173 36.9..."
      ]
     },
     "execution_count": 8,
     "metadata": {},
     "output_type": "execute_result"
    }
   ],
   "source": [
    "proj1"
   ]
  },
  {
   "cell_type": "code",
   "execution_count": 9,
   "id": "08935f2a-d932-42e0-ba03-f3af9ba6620e",
   "metadata": {},
   "outputs": [
    {
     "data": {
      "image/png": "[encoded data removed]",
      "text/plain": [
       "<Figure size 640x480 with 1 Axes>"
      ]
     },
     "metadata": {},
     "output_type": "display_data"
    }
   ],
   "source": [
    "ax = proj1.plot(color='blue')"
   ]
  },
  {
   "cell_type": "code",
   "execution_count": 11,
   "id": "cf57fa32-4c3c-4f6a-b808-bc1e443cf34d",
   "metadata": {},
   "outputs": [],
   "source": [
    "# proj1.to_file('sc_multimodal_street.shp')  "
   ]
  },
  {
   "cell_type": "code",
   "execution_count": null,
   "id": "ee090c2e-94ff-49d6-a493-3401584609a3",
   "metadata": {},
   "outputs": [],
   "source": []
  },
  {
   "cell_type": "code",
   "execution_count": 15,
   "id": "05e8e67a-498e-4477-8f32-5ca8cf721765",
   "metadata": {},
   "outputs": [],
   "source": [
    "proj2 = gpd.read_file('santacruz_bikeped_overcrossing.geojson')"
   ]
  },
  {
   "cell_type": "code",
   "execution_count": 16,
   "id": "7a1eee5a-35e6-43dc-bfcc-7b37707b5aae",
   "metadata": {},
   "outputs": [
    {
     "data": {
      "text/html": [
       "<div>\n",
       "<style scoped>\n",
       "    .dataframe tbody tr th:only-of-type {\n",
       "        vertical-align: middle;\n",
       "    }\n",
       "\n",
       "    .dataframe tbody tr th {\n",
       "        vertical-align: top;\n",
       "    }\n",
       "\n",
       "    .dataframe thead th {\n",
       "        text-align: right;\n",
       "    }\n",
       "</style>\n",
       "<table border=\"1\" class=\"dataframe\">\n",
       "  <thead>\n",
       "    <tr style=\"text-align: right;\">\n",
       "      <th></th>\n",
       "      <th>geometry</th>\n",
       "    </tr>\n",
       "  </thead>\n",
       "  <tbody>\n",
       "    <tr>\n",
       "      <th>0</th>\n",
       "      <td>MULTILINESTRING ((-121.91180 36.97533, -121.90...</td>\n",
       "    </tr>\n",
       "  </tbody>\n",
       "</table>\n",
       "</div>"
      ],
      "text/plain": [
       "                                            geometry\n",
       "0  MULTILINESTRING ((-121.91180 36.97533, -121.90..."
      ]
     },
     "execution_count": 16,
     "metadata": {},
     "output_type": "execute_result"
    }
   ],
   "source": [
    "proj2"
   ]
  },
  {
   "cell_type": "code",
   "execution_count": 17,
   "id": "9bc34cdd-4758-49c4-9368-b531700cb7f7",
   "metadata": {},
   "outputs": [
    {
     "data": {
      "image/png": "[encoded data removed]",
      "text/plain": [
       "<Figure size 640x480 with 1 Axes>"
      ]
     },
     "metadata": {},
     "output_type": "display_data"
    }
   ],
   "source": [
    "ax2 = proj2.plot(color=\"green\")"
   ]
  },
  {
   "cell_type": "code",
   "execution_count": 19,
   "id": "0636d33c-1eb4-4836-8559-508cb5a2c47b",
   "metadata": {},
   "outputs": [],
   "source": [
    "# proj2.to_file('sc_bikeped_overcrossing.shp')  "
   ]
  },
  {
   "cell_type": "code",
   "execution_count": null,
   "id": "fb3a7c06-342c-4cec-a307-baa11ce73f54",
   "metadata": {},
   "outputs": [],
   "source": []
  },
  {
   "cell_type": "code",
   "execution_count": null,
   "id": "3c419acf-8074-43aa-abbd-3c37ba31511d",
   "metadata": {},
   "outputs": [],
   "source": []
  },
  {
   "cell_type": "code",
   "execution_count": 30,
   "id": "d329dbef-3cdf-4449-b29a-8f5671d97687",
   "metadata": {},
   "outputs": [],
   "source": [
    "proj3 = gpd.read_file('santacruz_auxiliary_lane.geojson')"
   ]
  },
  {
   "cell_type": "code",
   "execution_count": 31,
   "id": "7fe25a0d-1bf7-4aca-9425-cd4a0f1d3680",
   "metadata": {},
   "outputs": [
    {
     "data": {
      "text/html": [
       "<div>\n",
       "<style scoped>\n",
       "    .dataframe tbody tr th:only-of-type {\n",
       "        vertical-align: middle;\n",
       "    }\n",
       "\n",
       "    .dataframe tbody tr th {\n",
       "        vertical-align: top;\n",
       "    }\n",
       "\n",
       "    .dataframe thead th {\n",
       "        text-align: right;\n",
       "    }\n",
       "</style>\n",
       "<table border=\"1\" class=\"dataframe\">\n",
       "  <thead>\n",
       "    <tr style=\"text-align: right;\">\n",
       "      <th></th>\n",
       "      <th>geometry</th>\n",
       "    </tr>\n",
       "  </thead>\n",
       "  <tbody>\n",
       "    <tr>\n",
       "      <th>0</th>\n",
       "      <td>MULTILINESTRING ((-121.88405 36.97408, -121.88...</td>\n",
       "    </tr>\n",
       "  </tbody>\n",
       "</table>\n",
       "</div>"
      ],
      "text/plain": [
       "                                            geometry\n",
       "0  MULTILINESTRING ((-121.88405 36.97408, -121.88..."
      ]
     },
     "execution_count": 31,
     "metadata": {},
     "output_type": "execute_result"
    }
   ],
   "source": [
    "proj3"
   ]
  },
  {
   "cell_type": "code",
   "execution_count": 32,
   "id": "c3815cfc-6137-4889-9430-dc00a70d33c8",
   "metadata": {},
   "outputs": [
    {
     "data": {
      "image/png": "[encoded data removed]",
      "text/plain": [
       "<Figure size 640x480 with 1 Axes>"
      ]
     },
     "metadata": {},
     "output_type": "display_data"
    }
   ],
   "source": [
    "ax3 = proj3.plot(color=\"orange\")"
   ]
  },
  {
   "cell_type": "code",
   "execution_count": 26,
   "id": "a64f3947-ad2c-4ba6-bfea-d1f73e635b29",
   "metadata": {},
   "outputs": [],
   "source": [
    "# proj3.to_file('sc_auxiliary_lane.shp')  "
   ]
  },
  {
   "cell_type": "code",
   "execution_count": null,
   "id": "37ed5aee-44a8-4ab4-b01c-fc1de7e4a274",
   "metadata": {},
   "outputs": [],
   "source": []
  },
  {
   "cell_type": "code",
   "execution_count": null,
   "id": "84abc271-b01a-4224-9b38-5212cef29ecb",
   "metadata": {},
   "outputs": [],
   "source": []
  },
  {
   "cell_type": "code",
   "execution_count": null,
   "id": "34895de6-6645-4947-be52-9fdaa7b571f7",
   "metadata": {},
   "outputs": [],
   "source": []
  },
  {
   "cell_type": "code",
   "execution_count": null,
   "id": "3ded44c2-7180-442b-8efc-0544d83f31cf",
   "metadata": {},
   "outputs": [],
   "source": []
  },
  {
   "cell_type": "code",
   "execution_count": null,
   "id": "41761c88-81ff-4498-9118-45f859b84492",
   "metadata": {},
   "outputs": [],
   "source": []
  },
  {
   "cell_type": "code",
   "execution_count": null,
   "id": "e74d3f87-29e9-41a4-8a1e-f71f14e92db1",
   "metadata": {},
   "outputs": [],
   "source": []
  },
  {
   "cell_type": "code",
   "execution_count": null,
   "id": "e20f127b-f1c1-4d2c-93c7-1a6ed8f73e11",
   "metadata": {},
   "outputs": [],
   "source": []
  },
  {
   "cell_type": "code",
   "execution_count": null,
   "id": "29249880-a5a7-4cd3-9ebb-f9e8c90a1d2f",
   "metadata": {},
   "outputs": [],
   "source": []
  },
  {
   "cell_type": "markdown",
   "id": "d2316f80-182d-4000-82e1-a512e67b1980",
   "metadata": {
    "jp-MarkdownHeadingCollapsed": true,
    "tags": []
   },
   "source": [
    "#### Project 210 Median Shapefile"
   ]
  },
  {
   "cell_type": "code",
   "execution_count": 12,
   "id": "3402d9c1-6575-4c88-86fe-a0a699f8674b",
   "metadata": {},
   "outputs": [],
   "source": [
    "proj_210median = gpd.read_file('210_files/210median.geojson')"
   ]
  },
  {
   "cell_type": "code",
   "execution_count": 13,
   "id": "165ba392-977e-499d-9f9b-839aaebdf2ad",
   "metadata": {},
   "outputs": [
    {
     "data": {
      "image/png": "[encoded data removed]",
      "text/plain": [
       "<Figure size 640x480 with 1 Axes>"
      ]
     },
     "metadata": {},
     "output_type": "display_data"
    }
   ],
   "source": [
    "ax = proj_210median.plot(color='blue')"
   ]
  },
  {
   "cell_type": "code",
   "execution_count": 14,
   "id": "4dfb982b-a00e-4582-a93c-a96217975217",
   "metadata": {},
   "outputs": [],
   "source": [
    "# proj_210median.to_file('proj_210median.shp')  "
   ]
  },
  {
   "cell_type": "code",
   "execution_count": null,
   "id": "c9b4d8ae-9d87-4326-bd8a-981119cec6fd",
   "metadata": {},
   "outputs": [],
   "source": []
  },
  {
   "cell_type": "code",
   "execution_count": 12,
   "id": "3b06f841-35ae-4bd8-ad44-f297a24df0b1",
   "metadata": {},
   "outputs": [],
   "source": []
  },
  {
   "cell_type": "code",
   "execution_count": null,
   "id": "77fd58d5-65d0-4c0c-808f-cc7e313018ba",
   "metadata": {},
   "outputs": [],
   "source": []
  }
 ],
 "metadata": {
  "kernelspec": {
   "display_name": "Python 3 (ipykernel)",
   "language": "python",
   "name": "python3"
  },
  "language_info": {
   "codemirror_mode": {
    "name": "ipython",
    "version": 3
   },
   "file_extension": ".py",
   "mimetype": "text/x-python",
   "name": "python",
   "nbconvert_exporter": "python",
   "pygments_lexer": "ipython3",
   "version": "3.9.13"
  },
  "widgets": {
   "application/vnd.jupyter.widget-state+json": {
    "state": {},
    "version_major": 2,
    "version_minor": 0
   }
  }
 },
 "nbformat": 4,
 "nbformat_minor": 5
}
