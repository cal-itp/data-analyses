{
 "cells": [
  {
   "cell_type": "code",
   "execution_count": 1,
   "id": "8a0f9f1b-174e-431b-9131-84c111a3b238",
   "metadata": {},
   "outputs": [
    {
     "name": "stderr",
     "output_type": "stream",
     "text": [
      "/opt/conda/lib/python3.9/site-packages/geopandas/_compat.py:124: UserWarning: The Shapely GEOS version (3.11.1-CAPI-1.17.1) is incompatible with the GEOS version PyGEOS was compiled with (3.10.1-CAPI-1.16.0). Conversions between both will be slow.\n",
      "  warnings.warn(\n",
      "/tmp/ipykernel_312/3465571729.py:2: DeprecationWarning: Shapely 2.0 is installed, but because PyGEOS is also installed, GeoPandas still uses PyGEOS by default. However, starting with version 0.14, the default will switch to Shapely. To force to use Shapely 2.0 now, you can either uninstall PyGEOS or set the environment variable USE_PYGEOS=0. You can do this before starting the Python process, or in your code before importing geopandas:\n",
      "\n",
      "import os\n",
      "os.environ['USE_PYGEOS'] = '0'\n",
      "import geopandas\n",
      "\n",
      "In the next release, GeoPandas will switch to using Shapely by default, even if PyGEOS is installed. If you only have PyGEOS installed to get speed-ups, this switch should be smooth. However, if you are using PyGEOS directly (calling PyGEOS functions on geometries from GeoPandas), this will then stop working and you are encouraged to migrate from PyGEOS to Shapely 2.0 (https://shapely.readthedocs.io/en/latest/migration_pygeos.html).\n",
      "  import geopandas as gpd\n"
     ]
    }
   ],
   "source": [
    "import pandas as pd\n",
    "import geopandas as gpd\n",
    "import matplotlib.pyplot as plt"
   ]
  },
  {
   "cell_type": "code",
   "execution_count": 2,
   "id": "62473c52-3c7a-40cb-846a-f554be252fb9",
   "metadata": {},
   "outputs": [],
   "source": [
    "import json"
   ]
  },
  {
   "cell_type": "code",
   "execution_count": 3,
   "id": "15202851-6cf5-42be-ba27-021e536c15eb",
   "metadata": {},
   "outputs": [],
   "source": [
    "# import geojson\n"
   ]
  },
  {
   "cell_type": "code",
   "execution_count": 4,
   "id": "56f90c33-af6f-4b47-b2f0-defb427fc141",
   "metadata": {},
   "outputs": [],
   "source": [
    "file = (pd.read_json(\"eb_greenway_files/project_location2.json\"))"
   ]
  },
  {
   "cell_type": "code",
   "execution_count": 5,
   "id": "7c169ff8-8111-4d97-84eb-338f16913303",
   "metadata": {},
   "outputs": [
    {
     "data": {
      "text/html": [
       "<div>\n",
       "<style scoped>\n",
       "    .dataframe tbody tr th:only-of-type {\n",
       "        vertical-align: middle;\n",
       "    }\n",
       "\n",
       "    .dataframe tbody tr th {\n",
       "        vertical-align: top;\n",
       "    }\n",
       "\n",
       "    .dataframe thead th {\n",
       "        text-align: right;\n",
       "    }\n",
       "</style>\n",
       "<table border=\"1\" class=\"dataframe\">\n",
       "  <thead>\n",
       "    <tr style=\"text-align: right;\">\n",
       "      <th></th>\n",
       "      <th>description</th>\n",
       "      <th>name</th>\n",
       "      <th>allowedModes</th>\n",
       "      <th>bikeTimeFactor</th>\n",
       "      <th>bikeLts</th>\n",
       "      <th>carSpeedKph</th>\n",
       "      <th>polygons</th>\n",
       "      <th>walkTimeFactor</th>\n",
       "    </tr>\n",
       "  </thead>\n",
       "  <tbody>\n",
       "    <tr>\n",
       "      <th>0</th>\n",
       "      <td></td>\n",
       "      <td>East_Bay_Greenway_modify</td>\n",
       "      <td>BICYCLE</td>\n",
       "      <td>1</td>\n",
       "      <td>1</td>\n",
       "      <td>56</td>\n",
       "      <td>[[-122.264843, 37.798396], [-122.226477, 37.77...</td>\n",
       "      <td>1</td>\n",
       "    </tr>\n",
       "  </tbody>\n",
       "</table>\n",
       "</div>"
      ],
      "text/plain": [
       "  description                      name allowedModes  bikeTimeFactor  bikeLts  \\\n",
       "0              East_Bay_Greenway_modify      BICYCLE               1        1   \n",
       "\n",
       "   carSpeedKph                                           polygons  \\\n",
       "0           56  [[-122.264843, 37.798396], [-122.226477, 37.77...   \n",
       "\n",
       "   walkTimeFactor  \n",
       "0               1  "
      ]
     },
     "execution_count": 5,
     "metadata": {},
     "output_type": "execute_result"
    }
   ],
   "source": [
    "file"
   ]
  },
  {
   "cell_type": "code",
   "execution_count": null,
   "id": "4ef23f03-4efb-42d8-a8e8-f61a61f2fb87",
   "metadata": {},
   "outputs": [],
   "source": []
  },
  {
   "cell_type": "code",
   "execution_count": 6,
   "id": "95957c78-fa7a-4272-a8c8-79f9184bff15",
   "metadata": {},
   "outputs": [],
   "source": [
    "# import json\n",
    "# with open('project_location2.json') as json_file: \n",
    "#     data = json.load(json_file) \n",
    "# print(data['polygons'][0]['geometry']['coordinates'][0])"
   ]
  },
  {
   "cell_type": "code",
   "execution_count": 7,
   "id": "dfc99d3c-bcf1-4cf3-be07-8e86cb3dfad9",
   "metadata": {},
   "outputs": [],
   "source": [
    "## error reading due to len of arrays not matching\n",
    "# line = pd.read_json(\"eb_greenway_files/project_location.json\")"
   ]
  },
  {
   "cell_type": "code",
   "execution_count": null,
   "id": "a8ae713f-d001-4b18-bb61-0bc5583ff98d",
   "metadata": {},
   "outputs": [],
   "source": []
  },
  {
   "cell_type": "code",
   "execution_count": null,
   "id": "a026e0f3-1834-47c5-997b-04261b26f843",
   "metadata": {},
   "outputs": [],
   "source": []
  },
  {
   "cell_type": "markdown",
   "id": "495dd1aa-05b7-4dda-9769-d1a5ae3a3ab8",
   "metadata": {},
   "source": [
    "#### EB Greenway Shape file"
   ]
  },
  {
   "cell_type": "code",
   "execution_count": 8,
   "id": "671ebcf6-7e64-4dec-ac7a-6a669036f6e6",
   "metadata": {},
   "outputs": [],
   "source": [
    "proj_ebgreenway = gpd.read_file('eb_greenway_files/project_location_3.geojson')"
   ]
  },
  {
   "cell_type": "code",
   "execution_count": 9,
   "id": "a6f45547-9eda-42c2-9836-9aabc6336ea9",
   "metadata": {},
   "outputs": [
    {
     "data": {
      "text/html": [
       "<div>\n",
       "<style scoped>\n",
       "    .dataframe tbody tr th:only-of-type {\n",
       "        vertical-align: middle;\n",
       "    }\n",
       "\n",
       "    .dataframe tbody tr th {\n",
       "        vertical-align: top;\n",
       "    }\n",
       "\n",
       "    .dataframe thead th {\n",
       "        text-align: right;\n",
       "    }\n",
       "</style>\n",
       "<table border=\"1\" class=\"dataframe\">\n",
       "  <thead>\n",
       "    <tr style=\"text-align: right;\">\n",
       "      <th></th>\n",
       "      <th>geometry</th>\n",
       "    </tr>\n",
       "  </thead>\n",
       "  <tbody>\n",
       "    <tr>\n",
       "      <th>0</th>\n",
       "      <td>POLYGON ((-122.26427 37.79894, -122.25929 37.7...</td>\n",
       "    </tr>\n",
       "  </tbody>\n",
       "</table>\n",
       "</div>"
      ],
      "text/plain": [
       "                                            geometry\n",
       "0  POLYGON ((-122.26427 37.79894, -122.25929 37.7..."
      ]
     },
     "execution_count": 9,
     "metadata": {},
     "output_type": "execute_result"
    }
   ],
   "source": [
    "proj_ebgreenway"
   ]
  },
  {
   "cell_type": "code",
   "execution_count": 10,
   "id": "08935f2a-d932-42e0-ba03-f3af9ba6620e",
   "metadata": {},
   "outputs": [
    {
     "data": {
      "image/png": "[encoded data removed]",
      "text/plain": [
       "<Figure size 640x480 with 1 Axes>"
      ]
     },
     "metadata": {},
     "output_type": "display_data"
    }
   ],
   "source": [
    "ax = proj_ebgreenway.plot(color='blue')"
   ]
  },
  {
   "cell_type": "code",
   "execution_count": 11,
   "id": "403042d9-b747-4cee-99d0-c90cb3b601fa",
   "metadata": {},
   "outputs": [],
   "source": [
    "import _utils"
   ]
  },
  {
   "cell_type": "code",
   "execution_count": 14,
   "id": "a3f83bc1-6a3c-4103-a96f-7277f7458c06",
   "metadata": {},
   "outputs": [
    {
     "name": "stdout",
     "output_type": "stream",
     "text": [
      "Path name: eb_greenway.zip\n",
      "Dirname (1st element of path): eb_greenway\n",
      "Shapefile name: eb_greenway.shp\n",
      "Shapefile component parts folder: eb_greenway/eb_greenway.shp\n"
     ]
    }
   ],
   "source": [
    "_utils.read_and_create_shpfiles('eb_greenway_files/project_location_3.geojson', \"eb_greenway.zip\")"
   ]
  },
  {
   "cell_type": "code",
   "execution_count": null,
   "id": "49174287-58ec-48f3-9194-88925f28a67f",
   "metadata": {},
   "outputs": [],
   "source": []
  },
  {
   "cell_type": "code",
   "execution_count": 17,
   "id": "cf57fa32-4c3c-4f6a-b808-bc1e443cf34d",
   "metadata": {},
   "outputs": [],
   "source": [
    "# proj_ebgreenway.to_file('EB_Greenway_project_location.shp')  "
   ]
  },
  {
   "cell_type": "code",
   "execution_count": null,
   "id": "29249880-a5a7-4cd3-9ebb-f9e8c90a1d2f",
   "metadata": {},
   "outputs": [],
   "source": []
  },
  {
   "cell_type": "markdown",
   "id": "d2316f80-182d-4000-82e1-a512e67b1980",
   "metadata": {},
   "source": [
    "#### Project 210 Median Shapefile"
   ]
  },
  {
   "cell_type": "code",
   "execution_count": 12,
   "id": "3402d9c1-6575-4c88-86fe-a0a699f8674b",
   "metadata": {},
   "outputs": [],
   "source": [
    "proj_210median = gpd.read_file('210_files/210median.geojson')"
   ]
  },
  {
   "cell_type": "code",
   "execution_count": 13,
   "id": "165ba392-977e-499d-9f9b-839aaebdf2ad",
   "metadata": {},
   "outputs": [
    {
     "data": {
      "image/png": "[encoded data removed]",
      "text/plain": [
       "<Figure size 640x480 with 1 Axes>"
      ]
     },
     "metadata": {},
     "output_type": "display_data"
    }
   ],
   "source": [
    "ax = proj_210median.plot(color='blue')"
   ]
  },
  {
   "cell_type": "code",
   "execution_count": 14,
   "id": "4dfb982b-a00e-4582-a93c-a96217975217",
   "metadata": {},
   "outputs": [],
   "source": [
    "# proj_210median.to_file('proj_210median.shp')  "
   ]
  },
  {
   "cell_type": "code",
   "execution_count": null,
   "id": "c9b4d8ae-9d87-4326-bd8a-981119cec6fd",
   "metadata": {},
   "outputs": [],
   "source": []
  },
  {
   "cell_type": "code",
   "execution_count": 3,
   "id": "3b06f841-35ae-4bd8-ad44-f297a24df0b1",
   "metadata": {},
   "outputs": [],
   "source": [
    "import _utils"
   ]
  },
  {
   "cell_type": "code",
   "execution_count": 5,
   "id": "68aaec2d-004d-4a90-9cd8-10b700c0fc97",
   "metadata": {},
   "outputs": [
    {
     "name": "stdout",
     "output_type": "stream",
     "text": [
      "Path name: yolo80_50_bikepath\n",
      "Dirname (1st element of path): yolo80_50_bikepath\n",
      "Shapefile name: yolo80_50_bikepath.shp\n",
      "Shapefile component parts folder: yolo80_50_bikepath/yolo80_50_bikepath.shp\n"
     ]
    }
   ],
   "source": [
    "_utils.read_and_create_shpfiles('yolo_80_50_bikepath.geojson', 'yolo80_50_bikepath')"
   ]
  },
  {
   "cell_type": "code",
   "execution_count": null,
   "id": "fdf7f513-537c-49f2-8bae-5a3b5504fcf7",
   "metadata": {},
   "outputs": [],
   "source": []
  },
  {
   "cell_type": "code",
   "execution_count": 5,
   "id": "77fd58d5-65d0-4c0c-808f-cc7e313018ba",
   "metadata": {},
   "outputs": [
    {
     "name": "stdout",
     "output_type": "stream",
     "text": [
      "Path name: us101_cc_ped_undercrossing\n",
      "Dirname (1st element of path): us101_cc_ped_undercrossing\n",
      "Shapefile name: us101_cc_ped_undercrossing.shp\n",
      "Shapefile component parts folder: us101_cc_ped_undercrossing/us101_cc_ped_undercrossing.shp\n"
     ]
    }
   ],
   "source": [
    "_utils.read_and_create_shpfiles('us101_cc_pedundercrossing.geojson', 'us101_cc_ped_undercrossing')"
   ]
  },
  {
   "cell_type": "code",
   "execution_count": null,
   "id": "3fd7469d-cb9a-436f-b828-fba779b239dc",
   "metadata": {},
   "outputs": [],
   "source": []
  },
  {
   "cell_type": "code",
   "execution_count": null,
   "id": "eec8a2ad-cc96-4ab2-baa0-783cfbff4ad0",
   "metadata": {},
   "outputs": [],
   "source": []
  },
  {
   "cell_type": "code",
   "execution_count": 5,
   "id": "7ac57753-7a4c-407b-a2ae-cc4fbca7d41c",
   "metadata": {},
   "outputs": [
    {
     "data": {
      "image/png": "[encoded data removed]",
      "text/plain": [
       "<Figure size 640x480 with 1 Axes>"
      ]
     },
     "metadata": {},
     "output_type": "display_data"
    }
   ],
   "source": [
    "test = gpd.read_file('us101_SR92.geojson')\n",
    "ax = test.plot(color='blue')"
   ]
  },
  {
   "cell_type": "code",
   "execution_count": 6,
   "id": "a5306d86-b691-4c48-800f-8b0ce242b4b7",
   "metadata": {},
   "outputs": [
    {
     "name": "stdout",
     "output_type": "stream",
     "text": [
      "Path name: us101_SR92_locations\n",
      "Dirname (1st element of path): us101_SR92_locations\n",
      "Shapefile name: us101_SR92_locations.shp\n",
      "Shapefile component parts folder: us101_SR92_locations/us101_SR92_locations.shp\n"
     ]
    }
   ],
   "source": [
    "_utils.read_and_create_shpfiles('us101_SR92.geojson', 'us101_SR92_locations')"
   ]
  },
  {
   "cell_type": "code",
   "execution_count": null,
   "id": "cb27fa6f-03e3-4b0c-ae62-840d043dbce4",
   "metadata": {},
   "outputs": [],
   "source": []
  },
  {
   "cell_type": "code",
   "execution_count": null,
   "id": "0659377f-f646-4749-9f03-9253f86f2d2f",
   "metadata": {},
   "outputs": [],
   "source": []
  },
  {
   "cell_type": "code",
   "execution_count": null,
   "id": "5cca3910-9b2f-4272-bec1-d7fe07adb99c",
   "metadata": {},
   "outputs": [],
   "source": []
  },
  {
   "cell_type": "code",
   "execution_count": null,
   "id": "9cb6514d-998b-499d-88a8-082d19831ed9",
   "metadata": {},
   "outputs": [],
   "source": []
  },
  {
   "cell_type": "code",
   "execution_count": 4,
   "id": "c731db6e-8d51-4b7f-b72c-61011db95055",
   "metadata": {},
   "outputs": [],
   "source": [
    "## mapping this first"
   ]
  },
  {
   "cell_type": "code",
   "execution_count": 6,
   "id": "55af1a25-fc42-4ba1-828f-b0d9b1896313",
   "metadata": {},
   "outputs": [],
   "source": [
    "# ontario = gpd.read_file('ontario_transit_tunnel.geojson')\n",
    "# ax = ontario.plot(color='blue')"
   ]
  },
  {
   "cell_type": "code",
   "execution_count": null,
   "id": "656f258a-6e04-4f55-b228-396c2c77ef7a",
   "metadata": {},
   "outputs": [],
   "source": []
  }
 ],
 "metadata": {
  "kernelspec": {
   "display_name": "Python 3 (ipykernel)",
   "language": "python",
   "name": "python3"
  },
  "language_info": {
   "codemirror_mode": {
    "name": "ipython",
    "version": 3
   },
   "file_extension": ".py",
   "mimetype": "text/x-python",
   "name": "python",
   "nbconvert_exporter": "python",
   "pygments_lexer": "ipython3",
   "version": "3.9.13"
  },
  "widgets": {
   "application/vnd.jupyter.widget-state+json": {
    "state": {},
    "version_major": 2,
    "version_minor": 0
   }
  }
 },
 "nbformat": 4,
 "nbformat_minor": 5
}
