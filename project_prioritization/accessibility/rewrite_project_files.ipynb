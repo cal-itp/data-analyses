{
 "cells": [
  {
   "cell_type": "code",
   "execution_count": 4,
   "id": "8a0f9f1b-174e-431b-9131-84c111a3b238",
   "metadata": {},
   "outputs": [],
   "source": [
    "import pandas as pd\n",
    "import geopandas as gpd\n",
    "import matplotlib.pyplot as plt"
   ]
  },
  {
   "cell_type": "code",
   "execution_count": 3,
   "id": "62473c52-3c7a-40cb-846a-f554be252fb9",
   "metadata": {},
   "outputs": [],
   "source": [
    "import json"
   ]
  },
  {
   "cell_type": "code",
   "execution_count": 2,
   "id": "15202851-6cf5-42be-ba27-021e536c15eb",
   "metadata": {},
   "outputs": [],
   "source": [
    "# import geojson\n"
   ]
  },
  {
   "cell_type": "code",
   "execution_count": 6,
   "id": "56f90c33-af6f-4b47-b2f0-defb427fc141",
   "metadata": {},
   "outputs": [],
   "source": [
    "file = (pd.read_json(\"eb_greenway_files/project_location2.json\"))"
   ]
  },
  {
   "cell_type": "code",
   "execution_count": 7,
   "id": "7c169ff8-8111-4d97-84eb-338f16913303",
   "metadata": {},
   "outputs": [
    {
     "data": {
      "text/html": [
       "<div>\n",
       "<style scoped>\n",
       "    .dataframe tbody tr th:only-of-type {\n",
       "        vertical-align: middle;\n",
       "    }\n",
       "\n",
       "    .dataframe tbody tr th {\n",
       "        vertical-align: top;\n",
       "    }\n",
       "\n",
       "    .dataframe thead th {\n",
       "        text-align: right;\n",
       "    }\n",
       "</style>\n",
       "<table border=\"1\" class=\"dataframe\">\n",
       "  <thead>\n",
       "    <tr style=\"text-align: right;\">\n",
       "      <th></th>\n",
       "      <th>description</th>\n",
       "      <th>name</th>\n",
       "      <th>allowedModes</th>\n",
       "      <th>bikeTimeFactor</th>\n",
       "      <th>bikeLts</th>\n",
       "      <th>carSpeedKph</th>\n",
       "      <th>polygons</th>\n",
       "      <th>walkTimeFactor</th>\n",
       "    </tr>\n",
       "  </thead>\n",
       "  <tbody>\n",
       "    <tr>\n",
       "      <th>0</th>\n",
       "      <td></td>\n",
       "      <td>East_Bay_Greenway_modify</td>\n",
       "      <td>BICYCLE</td>\n",
       "      <td>1</td>\n",
       "      <td>1</td>\n",
       "      <td>56</td>\n",
       "      <td>[[-122.264843, 37.798396], [-122.226477, 37.77...</td>\n",
       "      <td>1</td>\n",
       "    </tr>\n",
       "  </tbody>\n",
       "</table>\n",
       "</div>"
      ],
      "text/plain": [
       "  description                      name allowedModes  bikeTimeFactor  bikeLts  \\\n",
       "0              East_Bay_Greenway_modify      BICYCLE               1        1   \n",
       "\n",
       "   carSpeedKph                                           polygons  \\\n",
       "0           56  [[-122.264843, 37.798396], [-122.226477, 37.77...   \n",
       "\n",
       "   walkTimeFactor  \n",
       "0               1  "
      ]
     },
     "execution_count": 7,
     "metadata": {},
     "output_type": "execute_result"
    }
   ],
   "source": [
    "file"
   ]
  },
  {
   "cell_type": "code",
   "execution_count": null,
   "id": "4ef23f03-4efb-42d8-a8e8-f61a61f2fb87",
   "metadata": {},
   "outputs": [],
   "source": []
  },
  {
   "cell_type": "code",
   "execution_count": 19,
   "id": "95957c78-fa7a-4272-a8c8-79f9184bff15",
   "metadata": {},
   "outputs": [],
   "source": [
    "# import json\n",
    "# with open('project_location2.json') as json_file: \n",
    "#     data = json.load(json_file) \n",
    "# print(data['polygons'][0]['geometry']['coordinates'][0])"
   ]
  },
  {
   "cell_type": "code",
   "execution_count": 11,
   "id": "dfc99d3c-bcf1-4cf3-be07-8e86cb3dfad9",
   "metadata": {},
   "outputs": [],
   "source": [
    "## error reading due to len of arrays not matching\n",
    "# line = pd.read_json(\"eb_greenway_files/project_location.json\")"
   ]
  },
  {
   "cell_type": "code",
   "execution_count": null,
   "id": "a8ae713f-d001-4b18-bb61-0bc5583ff98d",
   "metadata": {},
   "outputs": [],
   "source": []
  },
  {
   "cell_type": "code",
   "execution_count": null,
   "id": "a026e0f3-1834-47c5-997b-04261b26f843",
   "metadata": {},
   "outputs": [],
   "source": []
  },
  {
   "cell_type": "markdown",
   "id": "495dd1aa-05b7-4dda-9769-d1a5ae3a3ab8",
   "metadata": {},
   "source": [
    "#### EB Greenway Shape file"
   ]
  },
  {
   "cell_type": "code",
   "execution_count": 8,
   "id": "671ebcf6-7e64-4dec-ac7a-6a669036f6e6",
   "metadata": {},
   "outputs": [],
   "source": [
    "proj_ebgreenway = gpd.read_file('eb_greenway_files/project_location_3.geojson')"
   ]
  },
  {
   "cell_type": "code",
   "execution_count": 9,
   "id": "a6f45547-9eda-42c2-9836-9aabc6336ea9",
   "metadata": {},
   "outputs": [
    {
     "data": {
      "text/html": [
       "<div>\n",
       "<style scoped>\n",
       "    .dataframe tbody tr th:only-of-type {\n",
       "        vertical-align: middle;\n",
       "    }\n",
       "\n",
       "    .dataframe tbody tr th {\n",
       "        vertical-align: top;\n",
       "    }\n",
       "\n",
       "    .dataframe thead th {\n",
       "        text-align: right;\n",
       "    }\n",
       "</style>\n",
       "<table border=\"1\" class=\"dataframe\">\n",
       "  <thead>\n",
       "    <tr style=\"text-align: right;\">\n",
       "      <th></th>\n",
       "      <th>geometry</th>\n",
       "    </tr>\n",
       "  </thead>\n",
       "  <tbody>\n",
       "    <tr>\n",
       "      <th>0</th>\n",
       "      <td>POLYGON ((-122.26427 37.79894, -122.25929 37.7...</td>\n",
       "    </tr>\n",
       "  </tbody>\n",
       "</table>\n",
       "</div>"
      ],
      "text/plain": [
       "                                            geometry\n",
       "0  POLYGON ((-122.26427 37.79894, -122.25929 37.7..."
      ]
     },
     "execution_count": 9,
     "metadata": {},
     "output_type": "execute_result"
    }
   ],
   "source": [
    "proj_ebgreenway"
   ]
  },
  {
   "cell_type": "code",
   "execution_count": 10,
   "id": "08935f2a-d932-42e0-ba03-f3af9ba6620e",
   "metadata": {},
   "outputs": [
    {
     "data": {
      "image/png": "[encoded data removed]",
      "text/plain": [
       "<Figure size 640x480 with 1 Axes>"
      ]
     },
     "metadata": {},
     "output_type": "display_data"
    }
   ],
   "source": [
    "ax = proj_ebgreenway.plot(color='blue')"
   ]
  },
  {
   "cell_type": "code",
   "execution_count": 17,
   "id": "cf57fa32-4c3c-4f6a-b808-bc1e443cf34d",
   "metadata": {},
   "outputs": [],
   "source": [
    "# proj_ebgreenway.to_file('EB_Greenway_project_location.shp')  "
   ]
  },
  {
   "cell_type": "code",
   "execution_count": null,
   "id": "29249880-a5a7-4cd3-9ebb-f9e8c90a1d2f",
   "metadata": {},
   "outputs": [],
   "source": []
  },
  {
   "cell_type": "markdown",
   "id": "d2316f80-182d-4000-82e1-a512e67b1980",
   "metadata": {},
   "source": [
    "#### Project 210 Median Shapefile"
   ]
  },
  {
   "cell_type": "code",
   "execution_count": 12,
   "id": "3402d9c1-6575-4c88-86fe-a0a699f8674b",
   "metadata": {},
   "outputs": [],
   "source": [
    "proj_210median = gpd.read_file('210_files/210median.geojson')"
   ]
  },
  {
   "cell_type": "code",
   "execution_count": 13,
   "id": "165ba392-977e-499d-9f9b-839aaebdf2ad",
   "metadata": {},
   "outputs": [
    {
     "data": {
      "image/png": "[encoded data removed]",
      "text/plain": [
       "<Figure size 640x480 with 1 Axes>"
      ]
     },
     "metadata": {},
     "output_type": "display_data"
    }
   ],
   "source": [
    "ax = proj_210median.plot(color='blue')"
   ]
  },
  {
   "cell_type": "code",
   "execution_count": 14,
   "id": "4dfb982b-a00e-4582-a93c-a96217975217",
   "metadata": {},
   "outputs": [],
   "source": [
    "# proj_210median.to_file('proj_210median.shp')  "
   ]
  },
  {
   "cell_type": "code",
   "execution_count": null,
   "id": "c9b4d8ae-9d87-4326-bd8a-981119cec6fd",
   "metadata": {},
   "outputs": [],
   "source": []
  },
  {
   "cell_type": "code",
   "execution_count": 12,
   "id": "3b06f841-35ae-4bd8-ad44-f297a24df0b1",
   "metadata": {},
   "outputs": [],
   "source": []
  },
  {
   "cell_type": "code",
   "execution_count": null,
   "id": "77fd58d5-65d0-4c0c-808f-cc7e313018ba",
   "metadata": {},
   "outputs": [],
   "source": []
  }
 ],
 "metadata": {
  "kernelspec": {
   "display_name": "Python 3 (ipykernel)",
   "language": "python",
   "name": "python3"
  },
  "language_info": {
   "codemirror_mode": {
    "name": "ipython",
    "version": 3
   },
   "file_extension": ".py",
   "mimetype": "text/x-python",
   "name": "python",
   "nbconvert_exporter": "python",
   "pygments_lexer": "ipython3",
   "version": "3.9.13"
  },
  "widgets": {
   "application/vnd.jupyter.widget-state+json": {
    "state": {},
    "version_major": 2,
    "version_minor": 0
   }
  }
 },
 "nbformat": 4,
 "nbformat_minor": 5
}
