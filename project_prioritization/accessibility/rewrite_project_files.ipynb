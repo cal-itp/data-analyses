{
 "cells": [
  {
   "cell_type": "markdown",
   "id": "417263bf-3588-49d2-aea0-845a7554fc2d",
   "metadata": {},
   "source": [
    "# Converting Jsons to Zipped GeoJsons"
   ]
  },
  {
   "cell_type": "code",
   "execution_count": 1,
   "id": "8a0f9f1b-174e-431b-9131-84c111a3b238",
   "metadata": {},
   "outputs": [
    {
     "name": "stderr",
     "output_type": "stream",
     "text": [
      "/opt/conda/lib/python3.9/site-packages/geopandas/_compat.py:124: UserWarning: The Shapely GEOS version (3.11.1-CAPI-1.17.1) is incompatible with the GEOS version PyGEOS was compiled with (3.10.1-CAPI-1.16.0). Conversions between both will be slow.\n",
      "  warnings.warn(\n",
      "/tmp/ipykernel_1117/2096858892.py:2: DeprecationWarning: Shapely 2.0 is installed, but because PyGEOS is also installed, GeoPandas still uses PyGEOS by default. However, starting with version 0.14, the default will switch to Shapely. To force to use Shapely 2.0 now, you can either uninstall PyGEOS or set the environment variable USE_PYGEOS=0. You can do this before starting the Python process, or in your code before importing geopandas:\n",
      "\n",
      "import os\n",
      "os.environ['USE_PYGEOS'] = '0'\n",
      "import geopandas\n",
      "\n",
      "In the next release, GeoPandas will switch to using Shapely by default, even if PyGEOS is installed. If you only have PyGEOS installed to get speed-ups, this switch should be smooth. However, if you are using PyGEOS directly (calling PyGEOS functions on geometries from GeoPandas), this will then stop working and you are encouraged to migrate from PyGEOS to Shapely 2.0 (https://shapely.readthedocs.io/en/latest/migration_pygeos.html).\n",
      "  import geopandas as gpd\n"
     ]
    }
   ],
   "source": [
    "import pandas as pd\n",
    "import geopandas as gpd\n",
    "import matplotlib.pyplot as plt\n",
    "\n",
    "import _utils"
   ]
  },
  {
   "cell_type": "code",
   "execution_count": 2,
   "id": "62473c52-3c7a-40cb-846a-f554be252fb9",
   "metadata": {},
   "outputs": [],
   "source": [
    "import json"
   ]
  },
  {
   "cell_type": "code",
   "execution_count": 3,
   "id": "1b0f83bb-f25e-446e-b61d-be64864267cc",
   "metadata": {},
   "outputs": [],
   "source": [
    "import re \n",
    "\n",
    "import ast"
   ]
  },
  {
   "cell_type": "code",
   "execution_count": 4,
   "id": "d7170b9c-af73-4d8b-8f61-d6362c1bdbf1",
   "metadata": {},
   "outputs": [],
   "source": [
    "import gcsfs\n",
    "import os"
   ]
  },
  {
   "cell_type": "code",
   "execution_count": null,
   "id": "f17ba138-3002-4196-b333-792972414439",
   "metadata": {},
   "outputs": [],
   "source": []
  },
  {
   "cell_type": "markdown",
   "id": "0024b805-8020-4160-a5ba-9dad627208d2",
   "metadata": {
    "jp-MarkdownHeadingCollapsed": true,
    "tags": []
   },
   "source": [
    "### Read in Json"
   ]
  },
  {
   "cell_type": "code",
   "execution_count": 3,
   "id": "dfc99d3c-bcf1-4cf3-be07-8e86cb3dfad9",
   "metadata": {},
   "outputs": [],
   "source": [
    "# error reading due to len of arrays not matching\n",
    "# line = json.load(\"us101_cc_bike.json\")\n",
    "with open(\"us101_cc_bike.json\", \"r\") as file:\n",
    "    line = json.load(file)\n",
    "    "
   ]
  },
  {
   "cell_type": "code",
   "execution_count": 4,
   "id": "a8ae713f-d001-4b18-bb61-0bc5583ff98d",
   "metadata": {
    "scrolled": true,
    "tags": []
   },
   "outputs": [
    {
     "data": {
      "text/plain": [
       "{'description': 'do not use for analyses',\n",
       " 'name': ' US101CCCR_BikeTrail_Location_only',\n",
       " 'allowedModes': ['BICYCLE', 'WALK'],\n",
       " 'bikeTimeFactor': 1,\n",
       " 'bikeLts': 1,\n",
       " 'carSpeedKph': 30,\n",
       " 'lineStrings': [[[-119.20599, 34.250277], [-119.196317, 34.251772]],\n",
       "  [[-119.196948, 34.251643],\n",
       "   [-119.195589, 34.251858],\n",
       "   [-119.194615, 34.25208],\n",
       "   [-119.193859, 34.252327],\n",
       "   [-119.193069, 34.25265],\n",
       "   [-119.192468, 34.25296],\n",
       "   [-119.192388, 34.253005],\n",
       "   [-119.1916, 34.253455],\n",
       "   [-119.190431, 34.254183],\n",
       "   [-119.189196, 34.254962],\n",
       "   [-119.187524, 34.255969],\n",
       "   [-119.185058, 34.257473]],\n",
       "  [[-119.185329, 34.257272],\n",
       "   [-119.182834, 34.258829],\n",
       "   [-119.180142, 34.260506],\n",
       "   [-119.177185, 34.262288]],\n",
       "  [[-119.177373, 34.262152],\n",
       "   [-119.176, 34.263],\n",
       "   [-119.173854, 34.264333],\n",
       "   [-119.173536, 34.26451],\n",
       "   [-119.172733, 34.265006]],\n",
       "  [[-119.172865, 34.264891],\n",
       "   [-119.171317, 34.265883],\n",
       "   [-119.170109, 34.266607],\n",
       "   [-119.169344, 34.267059],\n",
       "   [-119.167152, 34.268394]],\n",
       "  [[-119.167385, 34.268291],\n",
       "   [-119.166173, 34.269023],\n",
       "   [-119.164632, 34.269948],\n",
       "   [-119.162433, 34.27128],\n",
       "   [-119.161232, 34.272059],\n",
       "   [-119.159627, 34.273002],\n",
       "   [-119.157879, 34.274092],\n",
       "   [-119.156145, 34.27514],\n",
       "   [-119.155026, 34.275816]],\n",
       "  [[-119.155166, 34.27571],\n",
       "   [-119.154719, 34.275994],\n",
       "   [-119.154347, 34.276339],\n",
       "   [-119.153807, 34.277018],\n",
       "   [-119.153314, 34.277704],\n",
       "   [-119.152896, 34.278161],\n",
       "   [-119.152191, 34.279007]],\n",
       "  [[-119.152286, 34.278935],\n",
       "   [-119.15145, 34.279547],\n",
       "   [-119.150667, 34.280309],\n",
       "   [-119.149598, 34.281301],\n",
       "   [-119.148436, 34.282379]],\n",
       "  [[-119.148769, 34.282122], [-119.147707, 34.283067]],\n",
       "  [[-119.147796, 34.282964],\n",
       "   [-119.146577, 34.284136],\n",
       "   [-119.146163, 34.284508],\n",
       "   [-119.144731, 34.285896],\n",
       "   [-119.144226, 34.286324],\n",
       "   [-119.143708, 34.286844]],\n",
       "  [[-119.033554, 34.216947], [-119.033039, 34.216747]]],\n",
       " 'walkTimeFactor': 1}"
      ]
     },
     "execution_count": 4,
     "metadata": {},
     "output_type": "execute_result"
    }
   ],
   "source": [
    "line"
   ]
  },
  {
   "cell_type": "code",
   "execution_count": 5,
   "id": "14db7fc5-be94-4bad-bb65-cca84594b131",
   "metadata": {},
   "outputs": [],
   "source": [
    "keys_you_dont_want = {'description','name', 'allowedModes',\n",
    "                      'bikeTimeFactor', 'bikeLts', 'carSpeedKph', 'walkTimeFactor'}"
   ]
  },
  {
   "cell_type": "code",
   "execution_count": 6,
   "id": "1dda9a69-1a8d-46c6-a672-95b371ed95d9",
   "metadata": {},
   "outputs": [],
   "source": [
    "for key in keys_you_dont_want:\n",
    "    line.pop(key)"
   ]
  },
  {
   "cell_type": "code",
   "execution_count": 7,
   "id": "b0118bc9-6fad-4581-a18c-d0d3246963bb",
   "metadata": {},
   "outputs": [],
   "source": [
    "line['coordinates'] = line.pop('lineStrings')"
   ]
  },
  {
   "cell_type": "code",
   "execution_count": 8,
   "id": "74c21742-211e-404a-8b10-5ba75d3f05b8",
   "metadata": {},
   "outputs": [
    {
     "data": {
      "text/plain": [
       "{'coordinates': [[[-119.20599, 34.250277], [-119.196317, 34.251772]],\n",
       "  [[-119.196948, 34.251643],\n",
       "   [-119.195589, 34.251858],\n",
       "   [-119.194615, 34.25208],\n",
       "   [-119.193859, 34.252327],\n",
       "   [-119.193069, 34.25265],\n",
       "   [-119.192468, 34.25296],\n",
       "   [-119.192388, 34.253005],\n",
       "   [-119.1916, 34.253455],\n",
       "   [-119.190431, 34.254183],\n",
       "   [-119.189196, 34.254962],\n",
       "   [-119.187524, 34.255969],\n",
       "   [-119.185058, 34.257473]],\n",
       "  [[-119.185329, 34.257272],\n",
       "   [-119.182834, 34.258829],\n",
       "   [-119.180142, 34.260506],\n",
       "   [-119.177185, 34.262288]],\n",
       "  [[-119.177373, 34.262152],\n",
       "   [-119.176, 34.263],\n",
       "   [-119.173854, 34.264333],\n",
       "   [-119.173536, 34.26451],\n",
       "   [-119.172733, 34.265006]],\n",
       "  [[-119.172865, 34.264891],\n",
       "   [-119.171317, 34.265883],\n",
       "   [-119.170109, 34.266607],\n",
       "   [-119.169344, 34.267059],\n",
       "   [-119.167152, 34.268394]],\n",
       "  [[-119.167385, 34.268291],\n",
       "   [-119.166173, 34.269023],\n",
       "   [-119.164632, 34.269948],\n",
       "   [-119.162433, 34.27128],\n",
       "   [-119.161232, 34.272059],\n",
       "   [-119.159627, 34.273002],\n",
       "   [-119.157879, 34.274092],\n",
       "   [-119.156145, 34.27514],\n",
       "   [-119.155026, 34.275816]],\n",
       "  [[-119.155166, 34.27571],\n",
       "   [-119.154719, 34.275994],\n",
       "   [-119.154347, 34.276339],\n",
       "   [-119.153807, 34.277018],\n",
       "   [-119.153314, 34.277704],\n",
       "   [-119.152896, 34.278161],\n",
       "   [-119.152191, 34.279007]],\n",
       "  [[-119.152286, 34.278935],\n",
       "   [-119.15145, 34.279547],\n",
       "   [-119.150667, 34.280309],\n",
       "   [-119.149598, 34.281301],\n",
       "   [-119.148436, 34.282379]],\n",
       "  [[-119.148769, 34.282122], [-119.147707, 34.283067]],\n",
       "  [[-119.147796, 34.282964],\n",
       "   [-119.146577, 34.284136],\n",
       "   [-119.146163, 34.284508],\n",
       "   [-119.144731, 34.285896],\n",
       "   [-119.144226, 34.286324],\n",
       "   [-119.143708, 34.286844]],\n",
       "  [[-119.033554, 34.216947], [-119.033039, 34.216747]]]}"
      ]
     },
     "execution_count": 8,
     "metadata": {},
     "output_type": "execute_result"
    }
   ],
   "source": [
    "line"
   ]
  },
  {
   "cell_type": "code",
   "execution_count": 9,
   "id": "27a6e172-536d-4673-8982-7f6242998d31",
   "metadata": {},
   "outputs": [],
   "source": [
    "new_dict = {\"type\": \"FeatureCollection\"\n",
    "#            , \"features\"[{\"geometry\": {\"type\": \"MultiLineString\",\n",
    "#         },\n",
    "#         \"type\": \"Feature\",\n",
    " \n",
    "#     }]\n",
    "}\n",
    "# # \"features\": [{\"geometry\": {\"type\": \"MultiLineString\",'"
   ]
  },
  {
   "cell_type": "code",
   "execution_count": 10,
   "id": "34eb8fa5-8c0f-4b3c-86ed-6f75b7fc6bdc",
   "metadata": {},
   "outputs": [
    {
     "data": {
      "text/plain": [
       "{'type': 'FeatureCollection'}"
      ]
     },
     "execution_count": 10,
     "metadata": {},
     "output_type": "execute_result"
    }
   ],
   "source": [
    "new_dict"
   ]
  },
  {
   "cell_type": "code",
   "execution_count": 12,
   "id": "f1608541-94b4-4038-9661-c86b358618c5",
   "metadata": {},
   "outputs": [],
   "source": [
    "new_dict.update(line)"
   ]
  },
  {
   "cell_type": "code",
   "execution_count": 71,
   "id": "6abd710f-ab36-481f-b9d4-3c922ded3866",
   "metadata": {},
   "outputs": [],
   "source": [
    "### way to append the values in keys to test\n",
    "# keys_to_add[\"games\"].append(['Post 3', 'post 3 description'])"
   ]
  },
  {
   "cell_type": "code",
   "execution_count": 13,
   "id": "95cec4ac-054e-44e8-949a-b957f6e05e99",
   "metadata": {},
   "outputs": [
    {
     "data": {
      "text/plain": [
       "{'type': 'FeatureCollection',\n",
       " 'coordinates': [[[-119.20599, 34.250277], [-119.196317, 34.251772]],\n",
       "  [[-119.196948, 34.251643],\n",
       "   [-119.195589, 34.251858],\n",
       "   [-119.194615, 34.25208],\n",
       "   [-119.193859, 34.252327],\n",
       "   [-119.193069, 34.25265],\n",
       "   [-119.192468, 34.25296],\n",
       "   [-119.192388, 34.253005],\n",
       "   [-119.1916, 34.253455],\n",
       "   [-119.190431, 34.254183],\n",
       "   [-119.189196, 34.254962],\n",
       "   [-119.187524, 34.255969],\n",
       "   [-119.185058, 34.257473]],\n",
       "  [[-119.185329, 34.257272],\n",
       "   [-119.182834, 34.258829],\n",
       "   [-119.180142, 34.260506],\n",
       "   [-119.177185, 34.262288]],\n",
       "  [[-119.177373, 34.262152],\n",
       "   [-119.176, 34.263],\n",
       "   [-119.173854, 34.264333],\n",
       "   [-119.173536, 34.26451],\n",
       "   [-119.172733, 34.265006]],\n",
       "  [[-119.172865, 34.264891],\n",
       "   [-119.171317, 34.265883],\n",
       "   [-119.170109, 34.266607],\n",
       "   [-119.169344, 34.267059],\n",
       "   [-119.167152, 34.268394]],\n",
       "  [[-119.167385, 34.268291],\n",
       "   [-119.166173, 34.269023],\n",
       "   [-119.164632, 34.269948],\n",
       "   [-119.162433, 34.27128],\n",
       "   [-119.161232, 34.272059],\n",
       "   [-119.159627, 34.273002],\n",
       "   [-119.157879, 34.274092],\n",
       "   [-119.156145, 34.27514],\n",
       "   [-119.155026, 34.275816]],\n",
       "  [[-119.155166, 34.27571],\n",
       "   [-119.154719, 34.275994],\n",
       "   [-119.154347, 34.276339],\n",
       "   [-119.153807, 34.277018],\n",
       "   [-119.153314, 34.277704],\n",
       "   [-119.152896, 34.278161],\n",
       "   [-119.152191, 34.279007]],\n",
       "  [[-119.152286, 34.278935],\n",
       "   [-119.15145, 34.279547],\n",
       "   [-119.150667, 34.280309],\n",
       "   [-119.149598, 34.281301],\n",
       "   [-119.148436, 34.282379]],\n",
       "  [[-119.148769, 34.282122], [-119.147707, 34.283067]],\n",
       "  [[-119.147796, 34.282964],\n",
       "   [-119.146577, 34.284136],\n",
       "   [-119.146163, 34.284508],\n",
       "   [-119.144731, 34.285896],\n",
       "   [-119.144226, 34.286324],\n",
       "   [-119.143708, 34.286844]],\n",
       "  [[-119.033554, 34.216947], [-119.033039, 34.216747]]]}"
      ]
     },
     "execution_count": 13,
     "metadata": {},
     "output_type": "execute_result"
    }
   ],
   "source": [
    "new_dict"
   ]
  },
  {
   "cell_type": "code",
   "execution_count": 10,
   "id": "c6ae976a-0cdc-4066-ba14-eb5573db95c7",
   "metadata": {},
   "outputs": [],
   "source": [
    "#### https://docs.python.org/3/library/json.html\n",
    "#### https://docs.python.org/3/tutorial/datastructures.html#dictionaries\n",
    "#### https://docs.python.org/3/tutorial/inputoutput.html#tut-files"
   ]
  },
  {
   "cell_type": "code",
   "execution_count": null,
   "id": "557c2543-1003-488b-a39b-88ad15c71923",
   "metadata": {},
   "outputs": [],
   "source": []
  },
  {
   "cell_type": "code",
   "execution_count": null,
   "id": "43889500-6fcd-4e74-b9c6-798bb28b7982",
   "metadata": {},
   "outputs": [],
   "source": []
  },
  {
   "cell_type": "code",
   "execution_count": null,
   "id": "209b6b62-1e0e-47d5-a4cb-219bc8ee4315",
   "metadata": {},
   "outputs": [],
   "source": []
  },
  {
   "cell_type": "code",
   "execution_count": null,
   "id": "c9c53150-1977-41ea-b90a-ad12dd5ffd76",
   "metadata": {},
   "outputs": [],
   "source": []
  },
  {
   "cell_type": "code",
   "execution_count": null,
   "id": "0c1d089f-93d7-460e-95e6-e5e7c74eb95a",
   "metadata": {},
   "outputs": [],
   "source": []
  },
  {
   "cell_type": "code",
   "execution_count": null,
   "id": "dd29423f-8cf4-48db-ad40-cb320a250ba7",
   "metadata": {},
   "outputs": [],
   "source": []
  },
  {
   "cell_type": "code",
   "execution_count": null,
   "id": "a026e0f3-1834-47c5-997b-04261b26f843",
   "metadata": {},
   "outputs": [],
   "source": []
  },
  {
   "cell_type": "markdown",
   "id": "495dd1aa-05b7-4dda-9769-d1a5ae3a3ab8",
   "metadata": {
    "jp-MarkdownHeadingCollapsed": true,
    "tags": []
   },
   "source": [
    "#### EB Greenway Shape file"
   ]
  },
  {
   "cell_type": "code",
   "execution_count": null,
   "id": "671ebcf6-7e64-4dec-ac7a-6a669036f6e6",
   "metadata": {},
   "outputs": [],
   "source": [
    "# proj_ebgreenway = gpd.read_file('eb_greenway_files/project_location_3.geojson')"
   ]
  },
  {
   "cell_type": "code",
   "execution_count": 7,
   "id": "a6f45547-9eda-42c2-9836-9aabc6336ea9",
   "metadata": {},
   "outputs": [],
   "source": [
    "# proj_ebgreenway"
   ]
  },
  {
   "cell_type": "code",
   "execution_count": 8,
   "id": "08935f2a-d932-42e0-ba03-f3af9ba6620e",
   "metadata": {},
   "outputs": [],
   "source": [
    "# ax = proj_ebgreenway.plot(color='blue')"
   ]
  },
  {
   "cell_type": "code",
   "execution_count": null,
   "id": "d4a88e9d-1597-4059-a269-3d45b1bf4817",
   "metadata": {},
   "outputs": [],
   "source": []
  },
  {
   "cell_type": "code",
   "execution_count": 10,
   "id": "a3f83bc1-6a3c-4103-a96f-7277f7458c06",
   "metadata": {},
   "outputs": [],
   "source": [
    "# _utils.read_and_create_shpfiles('eb_greenway_files/project_location_3.geojson', \"eb_greenway.zip\")"
   ]
  },
  {
   "cell_type": "code",
   "execution_count": null,
   "id": "49174287-58ec-48f3-9194-88925f28a67f",
   "metadata": {},
   "outputs": [],
   "source": []
  },
  {
   "cell_type": "code",
   "execution_count": 17,
   "id": "cf57fa32-4c3c-4f6a-b808-bc1e443cf34d",
   "metadata": {},
   "outputs": [],
   "source": [
    "# proj_ebgreenway.to_file('EB_Greenway_project_location.shp')  "
   ]
  },
  {
   "cell_type": "code",
   "execution_count": null,
   "id": "29249880-a5a7-4cd3-9ebb-f9e8c90a1d2f",
   "metadata": {},
   "outputs": [],
   "source": []
  },
  {
   "cell_type": "markdown",
   "id": "d2316f80-182d-4000-82e1-a512e67b1980",
   "metadata": {
    "jp-MarkdownHeadingCollapsed": true,
    "tags": []
   },
   "source": [
    "#### Project 210 Median Shapefile"
   ]
  },
  {
   "cell_type": "code",
   "execution_count": 11,
   "id": "3402d9c1-6575-4c88-86fe-a0a699f8674b",
   "metadata": {},
   "outputs": [],
   "source": [
    "# proj_210median = gpd.read_file('210_files/210median.geojson')"
   ]
  },
  {
   "cell_type": "code",
   "execution_count": 12,
   "id": "165ba392-977e-499d-9f9b-839aaebdf2ad",
   "metadata": {},
   "outputs": [],
   "source": [
    "# ax = proj_210median.plot(color='blue')"
   ]
  },
  {
   "cell_type": "code",
   "execution_count": 14,
   "id": "4dfb982b-a00e-4582-a93c-a96217975217",
   "metadata": {},
   "outputs": [],
   "source": [
    "# proj_210median.to_file('proj_210median.shp')  "
   ]
  },
  {
   "cell_type": "code",
   "execution_count": null,
   "id": "c9b4d8ae-9d87-4326-bd8a-981119cec6fd",
   "metadata": {},
   "outputs": [],
   "source": []
  },
  {
   "cell_type": "code",
   "execution_count": 15,
   "id": "68aaec2d-004d-4a90-9cd8-10b700c0fc97",
   "metadata": {},
   "outputs": [],
   "source": [
    "# _utils.read_and_create_shpfiles('yolo_80_50_bikepath.geojson', 'yolo80_50_bikepath')"
   ]
  },
  {
   "cell_type": "code",
   "execution_count": null,
   "id": "fdf7f513-537c-49f2-8bae-5a3b5504fcf7",
   "metadata": {},
   "outputs": [],
   "source": []
  },
  {
   "cell_type": "code",
   "execution_count": 16,
   "id": "77fd58d5-65d0-4c0c-808f-cc7e313018ba",
   "metadata": {},
   "outputs": [],
   "source": [
    "# _utils.read_and_create_shpfiles('us101_cc_pedundercrossing.geojson', 'us101_cc_ped_undercrossing')"
   ]
  },
  {
   "cell_type": "code",
   "execution_count": null,
   "id": "eec8a2ad-cc96-4ab2-baa0-783cfbff4ad0",
   "metadata": {},
   "outputs": [],
   "source": []
  },
  {
   "cell_type": "code",
   "execution_count": 18,
   "id": "7ac57753-7a4c-407b-a2ae-cc4fbca7d41c",
   "metadata": {},
   "outputs": [],
   "source": [
    "# test = gpd.read_file('us101_woodside.geojson')\n",
    "# ax = test.plot(color='blue')"
   ]
  },
  {
   "cell_type": "code",
   "execution_count": 19,
   "id": "a5306d86-b691-4c48-800f-8b0ce242b4b7",
   "metadata": {},
   "outputs": [],
   "source": [
    "# _utils.read_and_create_shpfiles('us101_woodside.geojson', 'us101_woodside_locations')"
   ]
  },
  {
   "cell_type": "code",
   "execution_count": null,
   "id": "2beca20d-1965-4f61-9323-7fe9b98a3358",
   "metadata": {},
   "outputs": [],
   "source": []
  },
  {
   "cell_type": "code",
   "execution_count": 29,
   "id": "39f1192c-f6b6-4188-b51e-38c7f1d1be41",
   "metadata": {},
   "outputs": [],
   "source": [
    "## error to read in json\n",
    "# test_json = gpd.read_file('us101_cc_bike.json')\n",
    "# ax_json = test_geojson.plot(color='blue')\n"
   ]
  },
  {
   "cell_type": "code",
   "execution_count": null,
   "id": "0f50aa1e-d1b7-4313-895d-37cef23ac7af",
   "metadata": {},
   "outputs": [],
   "source": []
  },
  {
   "cell_type": "code",
   "execution_count": null,
   "id": "f7febe43-f14b-4a12-a010-bdacc7d968f1",
   "metadata": {},
   "outputs": [],
   "source": []
  },
  {
   "cell_type": "markdown",
   "id": "feb23034-8500-4b9c-8580-bc68c94ee539",
   "metadata": {
    "jp-MarkdownHeadingCollapsed": true,
    "tags": []
   },
   "source": [
    "#### Project US 101 connected communities"
   ]
  },
  {
   "cell_type": "code",
   "execution_count": 53,
   "id": "0659377f-f646-4749-9f03-9253f86f2d2f",
   "metadata": {},
   "outputs": [
    {
     "data": {
      "image/png": "[encoded data removed]",
      "text/plain": [
       "<Figure size 640x480 with 1 Axes>"
      ]
     },
     "metadata": {},
     "output_type": "display_data"
    }
   ],
   "source": [
    "test_geojson = gpd.read_file('us101cc_bikeped.geojson')\n",
    "ax_geojson = test_geojson.plot(color='blue')\n",
    "\n",
    "## geojson works"
   ]
  },
  {
   "cell_type": "code",
   "execution_count": 5,
   "id": "5cca3910-9b2f-4272-bec1-d7fe07adb99c",
   "metadata": {},
   "outputs": [],
   "source": [
    "# _utils.read_and_create_shpfiles('us101cc_bikeped.geojson', 'us101cc_bikeped_locations')"
   ]
  },
  {
   "cell_type": "code",
   "execution_count": null,
   "id": "f605eb56-f955-4c07-bc7d-3942fe11431b",
   "metadata": {
    "tags": []
   },
   "outputs": [],
   "source": []
  },
  {
   "cell_type": "markdown",
   "id": "c84b0133-7c7a-422a-b804-36665235f75e",
   "metadata": {
    "jp-MarkdownHeadingCollapsed": true,
    "tags": []
   },
   "source": [
    "### testing way to get json to geojson without manually manipulating \n"
   ]
  },
  {
   "cell_type": "code",
   "execution_count": 14,
   "id": "fbafab4d-b8a5-464d-a6c4-1a16b46c281d",
   "metadata": {},
   "outputs": [],
   "source": [
    "input_file = json.load(open(\"us101_cc_bike.json\", \"r\", encoding=\"utf-8\"))"
   ]
  },
  {
   "cell_type": "code",
   "execution_count": 15,
   "id": "859a6f9f-9517-4aa6-ab7f-a0229fc5ab10",
   "metadata": {
    "scrolled": true,
    "tags": []
   },
   "outputs": [
    {
     "data": {
      "text/plain": [
       "{'description': 'do not use for analyses',\n",
       " 'name': ' US101CCCR_BikeTrail_Location_only',\n",
       " 'allowedModes': ['BICYCLE', 'WALK'],\n",
       " 'bikeTimeFactor': 1,\n",
       " 'bikeLts': 1,\n",
       " 'carSpeedKph': 30,\n",
       " 'lineStrings': [[[-119.20599, 34.250277], [-119.196317, 34.251772]],\n",
       "  [[-119.196948, 34.251643],\n",
       "   [-119.195589, 34.251858],\n",
       "   [-119.194615, 34.25208],\n",
       "   [-119.193859, 34.252327],\n",
       "   [-119.193069, 34.25265],\n",
       "   [-119.192468, 34.25296],\n",
       "   [-119.192388, 34.253005],\n",
       "   [-119.1916, 34.253455],\n",
       "   [-119.190431, 34.254183],\n",
       "   [-119.189196, 34.254962],\n",
       "   [-119.187524, 34.255969],\n",
       "   [-119.185058, 34.257473]],\n",
       "  [[-119.185329, 34.257272],\n",
       "   [-119.182834, 34.258829],\n",
       "   [-119.180142, 34.260506],\n",
       "   [-119.177185, 34.262288]],\n",
       "  [[-119.177373, 34.262152],\n",
       "   [-119.176, 34.263],\n",
       "   [-119.173854, 34.264333],\n",
       "   [-119.173536, 34.26451],\n",
       "   [-119.172733, 34.265006]],\n",
       "  [[-119.172865, 34.264891],\n",
       "   [-119.171317, 34.265883],\n",
       "   [-119.170109, 34.266607],\n",
       "   [-119.169344, 34.267059],\n",
       "   [-119.167152, 34.268394]],\n",
       "  [[-119.167385, 34.268291],\n",
       "   [-119.166173, 34.269023],\n",
       "   [-119.164632, 34.269948],\n",
       "   [-119.162433, 34.27128],\n",
       "   [-119.161232, 34.272059],\n",
       "   [-119.159627, 34.273002],\n",
       "   [-119.157879, 34.274092],\n",
       "   [-119.156145, 34.27514],\n",
       "   [-119.155026, 34.275816]],\n",
       "  [[-119.155166, 34.27571],\n",
       "   [-119.154719, 34.275994],\n",
       "   [-119.154347, 34.276339],\n",
       "   [-119.153807, 34.277018],\n",
       "   [-119.153314, 34.277704],\n",
       "   [-119.152896, 34.278161],\n",
       "   [-119.152191, 34.279007]],\n",
       "  [[-119.152286, 34.278935],\n",
       "   [-119.15145, 34.279547],\n",
       "   [-119.150667, 34.280309],\n",
       "   [-119.149598, 34.281301],\n",
       "   [-119.148436, 34.282379]],\n",
       "  [[-119.148769, 34.282122], [-119.147707, 34.283067]],\n",
       "  [[-119.147796, 34.282964],\n",
       "   [-119.146577, 34.284136],\n",
       "   [-119.146163, 34.284508],\n",
       "   [-119.144731, 34.285896],\n",
       "   [-119.144226, 34.286324],\n",
       "   [-119.143708, 34.286844]],\n",
       "  [[-119.033554, 34.216947], [-119.033039, 34.216747]]],\n",
       " 'walkTimeFactor': 1}"
      ]
     },
     "execution_count": 15,
     "metadata": {},
     "output_type": "execute_result"
    }
   ],
   "source": [
    "(input_file)"
   ]
  },
  {
   "cell_type": "code",
   "execution_count": null,
   "id": "21890e5d-cc7c-427c-803f-c0129dec3ec0",
   "metadata": {},
   "outputs": [],
   "source": []
  },
  {
   "cell_type": "markdown",
   "id": "04e271cc-daa3-453f-8f68-8baf780eded6",
   "metadata": {
    "jp-MarkdownHeadingCollapsed": true,
    "tags": []
   },
   "source": [
    "### Convert to string then to geojson\n",
    "attempting to convert file to text using `json.dumps`, extract the part of the json I want to keep, then add the geojson parts"
   ]
  },
  {
   "cell_type": "code",
   "execution_count": 3,
   "id": "ab29d2bc-d6bc-4bfd-a017-3b648033b229",
   "metadata": {},
   "outputs": [],
   "source": [
    "#https://stackoverflow.com/questions/20199126/reading-json-from-a-file\n",
    "import re\n",
    "\n",
    "## help from https://stackoverflow.com/questions/988228/convert-a-string-representation-of-a-dictionary-to-a-dictionary\n",
    "import ast"
   ]
  },
  {
   "cell_type": "code",
   "execution_count": 17,
   "id": "9aea30b3-a021-46b2-8d4f-a4f556b2ca4b",
   "metadata": {},
   "outputs": [],
   "source": [
    "text = json.dumps(input_file)"
   ]
  },
  {
   "cell_type": "code",
   "execution_count": 18,
   "id": "d2acb700-d693-4245-a4cc-56083843ef9d",
   "metadata": {},
   "outputs": [
    {
     "data": {
      "text/plain": [
       "'{\"description\": \"do not use for analyses\", \"name\": \" US101CCCR_BikeTrail_Location_only\", \"allowedModes\": [\"BICYCLE\", \"WALK\"], \"bikeTimeFactor\": 1, \"bikeLts\": 1, \"carSpeedKph\": 30, \"lineStrings\": [[[-119.20599, 34.250277], [-119.196317, 34.251772]], [[-119.196948, 34.251643], [-119.195589, 34.251858], [-119.194615, 34.25208], [-119.193859, 34.252327], [-119.193069, 34.25265], [-119.192468, 34.25296], [-119.192388, 34.253005], [-119.1916, 34.253455], [-119.190431, 34.254183], [-119.189196, 34.254962], [-119.187524, 34.255969], [-119.185058, 34.257473]], [[-119.185329, 34.257272], [-119.182834, 34.258829], [-119.180142, 34.260506], [-119.177185, 34.262288]], [[-119.177373, 34.262152], [-119.176, 34.263], [-119.173854, 34.264333], [-119.173536, 34.26451], [-119.172733, 34.265006]], [[-119.172865, 34.264891], [-119.171317, 34.265883], [-119.170109, 34.266607], [-119.169344, 34.267059], [-119.167152, 34.268394]], [[-119.167385, 34.268291], [-119.166173, 34.269023], [-119.164632, 34.269948], [-119.162433, 34.27128], [-119.161232, 34.272059], [-119.159627, 34.273002], [-119.157879, 34.274092], [-119.156145, 34.27514], [-119.155026, 34.275816]], [[-119.155166, 34.27571], [-119.154719, 34.275994], [-119.154347, 34.276339], [-119.153807, 34.277018], [-119.153314, 34.277704], [-119.152896, 34.278161], [-119.152191, 34.279007]], [[-119.152286, 34.278935], [-119.15145, 34.279547], [-119.150667, 34.280309], [-119.149598, 34.281301], [-119.148436, 34.282379]], [[-119.148769, 34.282122], [-119.147707, 34.283067]], [[-119.147796, 34.282964], [-119.146577, 34.284136], [-119.146163, 34.284508], [-119.144731, 34.285896], [-119.144226, 34.286324], [-119.143708, 34.286844]], [[-119.033554, 34.216947], [-119.033039, 34.216747]]], \"walkTimeFactor\": 1}'"
      ]
     },
     "execution_count": 18,
     "metadata": {},
     "output_type": "execute_result"
    }
   ],
   "source": [
    "text"
   ]
  },
  {
   "cell_type": "code",
   "execution_count": 19,
   "id": "cd779331-b816-4877-aa33-7e8e1fde47b7",
   "metadata": {},
   "outputs": [],
   "source": [
    "# my_keword1 = \", \"\n",
    "# text_split = text.split(my_keword1)\n",
    "# text_split"
   ]
  },
  {
   "cell_type": "code",
   "execution_count": null,
   "id": "4c3c69d7-52c7-41f4-9fd3-34b3acc5db2f",
   "metadata": {},
   "outputs": [],
   "source": []
  },
  {
   "cell_type": "code",
   "execution_count": 65,
   "id": "3413938f-637f-4a5d-861b-a2f402db76ad",
   "metadata": {
    "scrolled": true,
    "tags": []
   },
   "outputs": [],
   "source": [
    "# text2 = json.loads(json.dumps(input_file))"
   ]
  },
  {
   "cell_type": "code",
   "execution_count": 21,
   "id": "d63b8192-3bfc-4cbb-afe4-b132f08f531a",
   "metadata": {},
   "outputs": [],
   "source": [
    "# text2"
   ]
  },
  {
   "cell_type": "code",
   "execution_count": 63,
   "id": "ba3be98a-b1bc-414a-b0ff-51dcdeb5fd11",
   "metadata": {},
   "outputs": [],
   "source": [
    "### using re\n",
    "###https://stackoverflow.com/questions/4666973/how-to-extract-the-substring-between-two-markers\n",
    "\n",
    "m = re.search('lineStrings\": (.+?), \"walkTimeFactor', text)\n",
    "if m:\n",
    "    found = m.group(1)"
   ]
  },
  {
   "cell_type": "code",
   "execution_count": 23,
   "id": "ca5957b1-537f-4260-a0b8-4452b2173724",
   "metadata": {},
   "outputs": [
    {
     "data": {
      "text/plain": [
       "'[[[-119.20599, 34.250277], [-119.196317, 34.251772]], [[-119.196948, 34.251643], [-119.195589, 34.251858], [-119.194615, 34.25208], [-119.193859, 34.252327], [-119.193069, 34.25265], [-119.192468, 34.25296], [-119.192388, 34.253005], [-119.1916, 34.253455], [-119.190431, 34.254183], [-119.189196, 34.254962], [-119.187524, 34.255969], [-119.185058, 34.257473]], [[-119.185329, 34.257272], [-119.182834, 34.258829], [-119.180142, 34.260506], [-119.177185, 34.262288]], [[-119.177373, 34.262152], [-119.176, 34.263], [-119.173854, 34.264333], [-119.173536, 34.26451], [-119.172733, 34.265006]], [[-119.172865, 34.264891], [-119.171317, 34.265883], [-119.170109, 34.266607], [-119.169344, 34.267059], [-119.167152, 34.268394]], [[-119.167385, 34.268291], [-119.166173, 34.269023], [-119.164632, 34.269948], [-119.162433, 34.27128], [-119.161232, 34.272059], [-119.159627, 34.273002], [-119.157879, 34.274092], [-119.156145, 34.27514], [-119.155026, 34.275816]], [[-119.155166, 34.27571], [-119.154719, 34.275994], [-119.154347, 34.276339], [-119.153807, 34.277018], [-119.153314, 34.277704], [-119.152896, 34.278161], [-119.152191, 34.279007]], [[-119.152286, 34.278935], [-119.15145, 34.279547], [-119.150667, 34.280309], [-119.149598, 34.281301], [-119.148436, 34.282379]], [[-119.148769, 34.282122], [-119.147707, 34.283067]], [[-119.147796, 34.282964], [-119.146577, 34.284136], [-119.146163, 34.284508], [-119.144731, 34.285896], [-119.144226, 34.286324], [-119.143708, 34.286844]], [[-119.033554, 34.216947], [-119.033039, 34.216747]]]'"
      ]
     },
     "execution_count": 23,
     "metadata": {},
     "output_type": "execute_result"
    }
   ],
   "source": [
    "found"
   ]
  },
  {
   "cell_type": "code",
   "execution_count": null,
   "id": "f0b5d10e-e9e5-4b60-a7d4-28c1da5e8cf3",
   "metadata": {},
   "outputs": [],
   "source": []
  },
  {
   "cell_type": "code",
   "execution_count": 24,
   "id": "9eb51b0f-863b-46c8-be63-5481f822b1bb",
   "metadata": {},
   "outputs": [],
   "source": [
    "start_text = ('{\"type\": \"FeatureCollection\", \"features\": [{\"geometry\": { \"type\": \"MultiLineString\", \"coordinates\":')"
   ]
  },
  {
   "cell_type": "code",
   "execution_count": 25,
   "id": "cba4035f-5a25-4457-b7dc-5b547bdeb51a",
   "metadata": {},
   "outputs": [],
   "source": [
    "end_text = ('}, \"type\": \"Feature\", }] }')"
   ]
  },
  {
   "cell_type": "code",
   "execution_count": 26,
   "id": "98220914-eead-4f29-a7cb-71387e5b0f46",
   "metadata": {},
   "outputs": [],
   "source": [
    "new_file = start_text + found + end_text"
   ]
  },
  {
   "cell_type": "code",
   "execution_count": 38,
   "id": "9ad6ade6-ee70-468e-8851-c0802383ca8e",
   "metadata": {},
   "outputs": [
    {
     "data": {
      "text/plain": [
       "'{\"type\": \"FeatureCollection\", \"features\": [{\"geometry\": { \"type\": \"MultiLineString\", \"coordinates\":[[[-119.20599, 34.250277], [-119.196317, 34.251772]], [[-119.196948, 34.251643], [-119.195589, 34.251858], [-119.194615, 34.25208], [-119.193859, 34.252327], [-119.193069, 34.25265], [-119.192468, 34.25296], [-119.192388, 34.253005], [-119.1916, 34.253455], [-119.190431, 34.254183], [-119.189196, 34.254962], [-119.187524, 34.255969], [-119.185058, 34.257473]], [[-119.185329, 34.257272], [-119.182834, 34.258829], [-119.180142, 34.260506], [-119.177185, 34.262288]], [[-119.177373, 34.262152], [-119.176, 34.263], [-119.173854, 34.264333], [-119.173536, 34.26451], [-119.172733, 34.265006]], [[-119.172865, 34.264891], [-119.171317, 34.265883], [-119.170109, 34.266607], [-119.169344, 34.267059], [-119.167152, 34.268394]], [[-119.167385, 34.268291], [-119.166173, 34.269023], [-119.164632, 34.269948], [-119.162433, 34.27128], [-119.161232, 34.272059], [-119.159627, 34.273002], [-119.157879, 34.274092], [-119.156145, 34.27514], [-119.155026, 34.275816]], [[-119.155166, 34.27571], [-119.154719, 34.275994], [-119.154347, 34.276339], [-119.153807, 34.277018], [-119.153314, 34.277704], [-119.152896, 34.278161], [-119.152191, 34.279007]], [[-119.152286, 34.278935], [-119.15145, 34.279547], [-119.150667, 34.280309], [-119.149598, 34.281301], [-119.148436, 34.282379]], [[-119.148769, 34.282122], [-119.147707, 34.283067]], [[-119.147796, 34.282964], [-119.146577, 34.284136], [-119.146163, 34.284508], [-119.144731, 34.285896], [-119.144226, 34.286324], [-119.143708, 34.286844]], [[-119.033554, 34.216947], [-119.033039, 34.216747]]]}, \"type\": \"Feature\", }] }'"
      ]
     },
     "execution_count": 38,
     "metadata": {},
     "output_type": "execute_result"
    }
   ],
   "source": [
    "new_file"
   ]
  },
  {
   "cell_type": "code",
   "execution_count": 50,
   "id": "08de06de-2399-45ce-84f6-dbfb0f9c8d9e",
   "metadata": {},
   "outputs": [],
   "source": [
    "## the format were looking for"
   ]
  },
  {
   "cell_type": "code",
   "execution_count": 40,
   "id": "5dfd99c0-d5a0-46a9-8ca9-1fc1bb10353a",
   "metadata": {},
   "outputs": [],
   "source": [
    "# d = json.loads(new_file)"
   ]
  },
  {
   "cell_type": "code",
   "execution_count": null,
   "id": "3e4fa30f-b5b9-4e9a-abe4-97cb81f7dd18",
   "metadata": {},
   "outputs": [],
   "source": []
  },
  {
   "cell_type": "code",
   "execution_count": 59,
   "id": "59609876-7946-4a7d-9b9f-b3a854aa952b",
   "metadata": {},
   "outputs": [],
   "source": [
    "d = ast.literal_eval(new_file)"
   ]
  },
  {
   "cell_type": "code",
   "execution_count": 61,
   "id": "3b541ef8-7037-4a3d-9cb5-a1473aa73177",
   "metadata": {},
   "outputs": [],
   "source": [
    "## can also use eval but looks like theres some hesitancy about using this\n",
    "# d = eval(new_file)"
   ]
  },
  {
   "cell_type": "code",
   "execution_count": 47,
   "id": "ac62c66f-279d-42ed-8931-d3b2cb6a3380",
   "metadata": {
    "scrolled": true,
    "tags": []
   },
   "outputs": [
    {
     "data": {
      "text/plain": [
       "{'type': 'FeatureCollection',\n",
       " 'features': [{'geometry': {'type': 'MultiLineString',\n",
       "    'coordinates': [[[-119.20599, 34.250277], [-119.196317, 34.251772]],\n",
       "     [[-119.196948, 34.251643],\n",
       "      [-119.195589, 34.251858],\n",
       "      [-119.194615, 34.25208],\n",
       "      [-119.193859, 34.252327],\n",
       "      [-119.193069, 34.25265],\n",
       "      [-119.192468, 34.25296],\n",
       "      [-119.192388, 34.253005],\n",
       "      [-119.1916, 34.253455],\n",
       "      [-119.190431, 34.254183],\n",
       "      [-119.189196, 34.254962],\n",
       "      [-119.187524, 34.255969],\n",
       "      [-119.185058, 34.257473]],\n",
       "     [[-119.185329, 34.257272],\n",
       "      [-119.182834, 34.258829],\n",
       "      [-119.180142, 34.260506],\n",
       "      [-119.177185, 34.262288]],\n",
       "     [[-119.177373, 34.262152],\n",
       "      [-119.176, 34.263],\n",
       "      [-119.173854, 34.264333],\n",
       "      [-119.173536, 34.26451],\n",
       "      [-119.172733, 34.265006]],\n",
       "     [[-119.172865, 34.264891],\n",
       "      [-119.171317, 34.265883],\n",
       "      [-119.170109, 34.266607],\n",
       "      [-119.169344, 34.267059],\n",
       "      [-119.167152, 34.268394]],\n",
       "     [[-119.167385, 34.268291],\n",
       "      [-119.166173, 34.269023],\n",
       "      [-119.164632, 34.269948],\n",
       "      [-119.162433, 34.27128],\n",
       "      [-119.161232, 34.272059],\n",
       "      [-119.159627, 34.273002],\n",
       "      [-119.157879, 34.274092],\n",
       "      [-119.156145, 34.27514],\n",
       "      [-119.155026, 34.275816]],\n",
       "     [[-119.155166, 34.27571],\n",
       "      [-119.154719, 34.275994],\n",
       "      [-119.154347, 34.276339],\n",
       "      [-119.153807, 34.277018],\n",
       "      [-119.153314, 34.277704],\n",
       "      [-119.152896, 34.278161],\n",
       "      [-119.152191, 34.279007]],\n",
       "     [[-119.152286, 34.278935],\n",
       "      [-119.15145, 34.279547],\n",
       "      [-119.150667, 34.280309],\n",
       "      [-119.149598, 34.281301],\n",
       "      [-119.148436, 34.282379]],\n",
       "     [[-119.148769, 34.282122], [-119.147707, 34.283067]],\n",
       "     [[-119.147796, 34.282964],\n",
       "      [-119.146577, 34.284136],\n",
       "      [-119.146163, 34.284508],\n",
       "      [-119.144731, 34.285896],\n",
       "      [-119.144226, 34.286324],\n",
       "      [-119.143708, 34.286844]],\n",
       "     [[-119.033554, 34.216947], [-119.033039, 34.216747]]]},\n",
       "   'type': 'Feature'}]}"
      ]
     },
     "execution_count": 47,
     "metadata": {},
     "output_type": "execute_result"
    }
   ],
   "source": [
    "d"
   ]
  },
  {
   "cell_type": "code",
   "execution_count": 50,
   "id": "c7397886-7595-4c3e-813d-6e37e8b89f4e",
   "metadata": {},
   "outputs": [],
   "source": [
    "with open(\"file_test.geojson\", \"w\") as f:\n",
    "        json.dump(d, f)"
   ]
  },
  {
   "cell_type": "code",
   "execution_count": 51,
   "id": "133d2ba4-f2ff-4875-92f1-6725515f2a28",
   "metadata": {},
   "outputs": [],
   "source": [
    "test_export  = gpd.read_file('file_test.geojson')"
   ]
  },
  {
   "cell_type": "code",
   "execution_count": 52,
   "id": "6446320c-c790-4e7c-97c7-3b6ac7f4e6c0",
   "metadata": {},
   "outputs": [
    {
     "data": {
      "text/html": [
       "<div>\n",
       "<style scoped>\n",
       "    .dataframe tbody tr th:only-of-type {\n",
       "        vertical-align: middle;\n",
       "    }\n",
       "\n",
       "    .dataframe tbody tr th {\n",
       "        vertical-align: top;\n",
       "    }\n",
       "\n",
       "    .dataframe thead th {\n",
       "        text-align: right;\n",
       "    }\n",
       "</style>\n",
       "<table border=\"1\" class=\"dataframe\">\n",
       "  <thead>\n",
       "    <tr style=\"text-align: right;\">\n",
       "      <th></th>\n",
       "      <th>geometry</th>\n",
       "    </tr>\n",
       "  </thead>\n",
       "  <tbody>\n",
       "    <tr>\n",
       "      <th>0</th>\n",
       "      <td>MULTILINESTRING ((-119.20599 34.25028, -119.19...</td>\n",
       "    </tr>\n",
       "  </tbody>\n",
       "</table>\n",
       "</div>"
      ],
      "text/plain": [
       "                                            geometry\n",
       "0  MULTILINESTRING ((-119.20599 34.25028, -119.19..."
      ]
     },
     "execution_count": 52,
     "metadata": {},
     "output_type": "execute_result"
    }
   ],
   "source": [
    "test_export"
   ]
  },
  {
   "cell_type": "code",
   "execution_count": 64,
   "id": "9b79a647-92a8-4764-89c9-6d182b5e6687",
   "metadata": {},
   "outputs": [],
   "source": [
    "# _utils.read_and_create_shpfiles('file_test.geojson', 'file_test')"
   ]
  },
  {
   "cell_type": "markdown",
   "id": "adeb4383-1fa5-4f2a-9728-5a445de0938f",
   "metadata": {},
   "source": [
    "Uploaded the output of this file in arcMap to check the output and it worked! "
   ]
  },
  {
   "cell_type": "code",
   "execution_count": null,
   "id": "5da28486-9086-4f5a-a2e6-85c532e7b330",
   "metadata": {},
   "outputs": [],
   "source": []
  },
  {
   "cell_type": "code",
   "execution_count": null,
   "id": "4c92b690-19a7-4af1-85f9-2c511be4c185",
   "metadata": {},
   "outputs": [],
   "source": []
  },
  {
   "cell_type": "markdown",
   "id": "2c68a0c2-caa8-4699-808c-6e684de7961e",
   "metadata": {},
   "source": [
    "## Test the function to get a shapefile from the json"
   ]
  },
  {
   "cell_type": "code",
   "execution_count": 5,
   "id": "74a99223-c3c6-467d-a1ab-562be28fdadf",
   "metadata": {},
   "outputs": [
    {
     "name": "stdout",
     "output_type": "stream",
     "text": [
      "Path name: test_zipped_us101cc\n",
      "Dirname (1st element of path): test_zipped_us101cc\n",
      "Shapefile name: test_zipped_us101cc.shp\n",
      "Shapefile component parts folder: test_zipped_us101cc/test_zipped_us101cc.shp\n"
     ]
    },
    {
     "ename": "TypeError",
     "evalue": "_put() missing 1 required positional argument: 'rpath'",
     "output_type": "error",
     "traceback": [
      "\u001b[0;31m---------------------------------------------------------------------------\u001b[0m",
      "\u001b[0;31mTypeError\u001b[0m                                 Traceback (most recent call last)",
      "Cell \u001b[0;32mIn[5], line 1\u001b[0m\n\u001b[0;32m----> 1\u001b[0m \u001b[43m_utils\u001b[49m\u001b[38;5;241;43m.\u001b[39;49m\u001b[43mjson_to_shpfile\u001b[49m\u001b[43m(\u001b[49m\u001b[38;5;124;43m'\u001b[39;49m\u001b[38;5;124;43mus101_cc_bike.json\u001b[39;49m\u001b[38;5;124;43m'\u001b[39;49m\u001b[43m,\u001b[49m\u001b[43m \u001b[49m\u001b[38;5;124;43m'\u001b[39;49m\u001b[38;5;124;43mtest_us101cc\u001b[39;49m\u001b[38;5;124;43m'\u001b[39;49m\u001b[43m,\u001b[49m\u001b[43m \u001b[49m\u001b[38;5;124;43m'\u001b[39;49m\u001b[38;5;124;43mtest_zipped_us101cc\u001b[39;49m\u001b[38;5;124;43m'\u001b[39;49m\u001b[43m)\u001b[49m\n",
      "File \u001b[0;32m~/data-analyses/project_prioritization/accessibility/_utils.py:73\u001b[0m, in \u001b[0;36mjson_to_shpfile\u001b[0;34m(json_file, geojson_file_name, zip_name, gcs_folder)\u001b[0m\n\u001b[1;32m     70\u001b[0m \u001b[38;5;66;03m## run through function to get shpfiles\u001b[39;00m\n\u001b[1;32m     71\u001b[0m read_and_create_shpfiles(\u001b[38;5;124mf\u001b[39m\u001b[38;5;124m\"\u001b[39m\u001b[38;5;132;01m{\u001b[39;00mgeojson_file_name\u001b[38;5;132;01m}\u001b[39;00m\u001b[38;5;124m.geojson\u001b[39m\u001b[38;5;124m\"\u001b[39m, zip_name)     \n\u001b[0;32m---> 73\u001b[0m \u001b[43mfs\u001b[49m\u001b[38;5;241;43m.\u001b[39;49m\u001b[43mput\u001b[49m\u001b[43m(\u001b[49m\n\u001b[1;32m     74\u001b[0m \u001b[43m    \u001b[49m\u001b[38;5;124;43mf\u001b[39;49m\u001b[38;5;124;43m\"\u001b[39;49m\u001b[38;5;132;43;01m{\u001b[39;49;00m\u001b[43mzip_name\u001b[49m\u001b[38;5;132;43;01m}\u001b[39;49;00m\u001b[38;5;124;43m.zip\u001b[39;49m\u001b[38;5;124;43m\"\u001b[39;49m\n\u001b[1;32m     75\u001b[0m \u001b[43m    \u001b[49m\u001b[38;5;124;43mf\u001b[39;49m\u001b[38;5;124;43m\"\u001b[39;49m\u001b[38;5;132;43;01m{\u001b[39;49;00m\u001b[43mGCS_PATH\u001b[49m\u001b[38;5;132;43;01m}\u001b[39;49;00m\u001b[38;5;132;43;01m{\u001b[39;49;00m\u001b[43mzip_name\u001b[49m\u001b[38;5;132;43;01m}\u001b[39;49;00m\u001b[38;5;124;43m.zip\u001b[39;49m\u001b[38;5;124;43m\"\u001b[39;49m\n\u001b[1;32m     76\u001b[0m \u001b[43m\u001b[49m\u001b[43m)\u001b[49m\n",
      "File \u001b[0;32m/opt/conda/lib/python3.9/site-packages/fsspec/asyn.py:121\u001b[0m, in \u001b[0;36msync_wrapper.<locals>.wrapper\u001b[0;34m(*args, **kwargs)\u001b[0m\n\u001b[1;32m    118\u001b[0m \u001b[38;5;129m@functools\u001b[39m\u001b[38;5;241m.\u001b[39mwraps(func)\n\u001b[1;32m    119\u001b[0m \u001b[38;5;28;01mdef\u001b[39;00m \u001b[38;5;21mwrapper\u001b[39m(\u001b[38;5;241m*\u001b[39margs, \u001b[38;5;241m*\u001b[39m\u001b[38;5;241m*\u001b[39mkwargs):\n\u001b[1;32m    120\u001b[0m     \u001b[38;5;28mself\u001b[39m \u001b[38;5;241m=\u001b[39m obj \u001b[38;5;129;01mor\u001b[39;00m args[\u001b[38;5;241m0\u001b[39m]\n\u001b[0;32m--> 121\u001b[0m     \u001b[38;5;28;01mreturn\u001b[39;00m \u001b[43msync\u001b[49m\u001b[43m(\u001b[49m\u001b[38;5;28;43mself\u001b[39;49m\u001b[38;5;241;43m.\u001b[39;49m\u001b[43mloop\u001b[49m\u001b[43m,\u001b[49m\u001b[43m \u001b[49m\u001b[43mfunc\u001b[49m\u001b[43m,\u001b[49m\u001b[43m \u001b[49m\u001b[38;5;241;43m*\u001b[39;49m\u001b[43margs\u001b[49m\u001b[43m,\u001b[49m\u001b[43m \u001b[49m\u001b[38;5;241;43m*\u001b[39;49m\u001b[38;5;241;43m*\u001b[39;49m\u001b[43mkwargs\u001b[49m\u001b[43m)\u001b[49m\n",
      "File \u001b[0;32m/opt/conda/lib/python3.9/site-packages/fsspec/asyn.py:88\u001b[0m, in \u001b[0;36msync\u001b[0;34m(loop, func, timeout, *args, **kwargs)\u001b[0m\n\u001b[1;32m     86\u001b[0m \u001b[38;5;28;01mexcept\u001b[39;00m \u001b[38;5;167;01mRuntimeError\u001b[39;00m:\n\u001b[1;32m     87\u001b[0m     \u001b[38;5;28;01mpass\u001b[39;00m\n\u001b[0;32m---> 88\u001b[0m coro \u001b[38;5;241m=\u001b[39m \u001b[43mfunc\u001b[49m\u001b[43m(\u001b[49m\u001b[38;5;241;43m*\u001b[39;49m\u001b[43margs\u001b[49m\u001b[43m,\u001b[49m\u001b[43m \u001b[49m\u001b[38;5;241;43m*\u001b[39;49m\u001b[38;5;241;43m*\u001b[39;49m\u001b[43mkwargs\u001b[49m\u001b[43m)\u001b[49m\n\u001b[1;32m     89\u001b[0m result \u001b[38;5;241m=\u001b[39m [\u001b[38;5;28;01mNone\u001b[39;00m]\n\u001b[1;32m     90\u001b[0m event \u001b[38;5;241m=\u001b[39m threading\u001b[38;5;241m.\u001b[39mEvent()\n",
      "\u001b[0;31mTypeError\u001b[0m: _put() missing 1 required positional argument: 'rpath'"
     ]
    }
   ],
   "source": [
    "_utils.json_to_shpfile('us101_cc_bike.json', 'test_us101cc', 'test_zipped_us101cc')"
   ]
  },
  {
   "cell_type": "code",
   "execution_count": null,
   "id": "3393da36-6ec9-49f8-949c-ead5e2fc5a5b",
   "metadata": {},
   "outputs": [],
   "source": []
  },
  {
   "cell_type": "code",
   "execution_count": null,
   "id": "243283f2-f306-4766-8200-675a9d9932fe",
   "metadata": {},
   "outputs": [],
   "source": []
  },
  {
   "cell_type": "markdown",
   "id": "b20fbddd-23b9-4531-8b67-d51a7d8eb186",
   "metadata": {},
   "source": [
    "### Reading in Conveyal's scenario which has a geojson export option"
   ]
  },
  {
   "cell_type": "code",
   "execution_count": 26,
   "id": "cf7e9350-5f11-4112-b509-c67df7df51b3",
   "metadata": {},
   "outputs": [],
   "source": [
    "scenario_geojson = gpd.read_file('CSIS-3.0 Accessibility Analysis-US101_Woodside_BikePed-new-stops.geojson')"
   ]
  },
  {
   "cell_type": "code",
   "execution_count": 27,
   "id": "e6448926-999b-4b12-aeb1-f539ee584c22",
   "metadata": {},
   "outputs": [
    {
     "data": {
      "text/html": [
       "<div>\n",
       "<style scoped>\n",
       "    .dataframe tbody tr th:only-of-type {\n",
       "        vertical-align: middle;\n",
       "    }\n",
       "\n",
       "    .dataframe tbody tr th {\n",
       "        vertical-align: top;\n",
       "    }\n",
       "\n",
       "    .dataframe thead th {\n",
       "        text-align: right;\n",
       "    }\n",
       "</style>\n",
       "<table border=\"1\" class=\"dataframe\">\n",
       "  <thead>\n",
       "    <tr style=\"text-align: right;\">\n",
       "      <th></th>\n",
       "      <th>geometry</th>\n",
       "    </tr>\n",
       "  </thead>\n",
       "  <tbody>\n",
       "  </tbody>\n",
       "</table>\n",
       "</div>"
      ],
      "text/plain": [
       "Empty GeoDataFrame\n",
       "Columns: [geometry]\n",
       "Index: []"
      ]
     },
     "execution_count": 27,
     "metadata": {},
     "output_type": "execute_result"
    }
   ],
   "source": [
    "scenario_geojson"
   ]
  },
  {
   "cell_type": "code",
   "execution_count": 46,
   "id": "92a9c12f-681f-4ff6-88d0-23dd2671c4e1",
   "metadata": {},
   "outputs": [],
   "source": [
    "## empty.."
   ]
  },
  {
   "cell_type": "code",
   "execution_count": null,
   "id": "2238b085-9d7d-4186-9234-c70192ac1445",
   "metadata": {},
   "outputs": [],
   "source": []
  },
  {
   "cell_type": "code",
   "execution_count": null,
   "id": "9ee9eccb-d758-431a-871f-5126180b5888",
   "metadata": {},
   "outputs": [],
   "source": []
  }
 ],
 "metadata": {
  "kernelspec": {
   "display_name": "Python 3 (ipykernel)",
   "language": "python",
   "name": "python3"
  },
  "language_info": {
   "codemirror_mode": {
    "name": "ipython",
    "version": 3
   },
   "file_extension": ".py",
   "mimetype": "text/x-python",
   "name": "python",
   "nbconvert_exporter": "python",
   "pygments_lexer": "ipython3",
   "version": "3.9.13"
  },
  "widgets": {
   "application/vnd.jupyter.widget-state+json": {
    "state": {},
    "version_major": 2,
    "version_minor": 0
   }
  }
 },
 "nbformat": 4,
 "nbformat_minor": 5
}
