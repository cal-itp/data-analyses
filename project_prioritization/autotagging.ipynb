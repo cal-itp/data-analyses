{
 "cells": [
  {
   "cell_type": "markdown",
   "id": "366bbf07-25c1-4e2b-9f36-3da9300eed01",
   "metadata": {},
   "source": [
    "## Autotagging projects\n",
    "* Who is the lead agency? \n",
    "    * Agency in this project = the entity who is receiving funding for this project?\n",
    "* Is this project on or off the SHS? Or even both?\n",
    "* How to tell if a project criss-crosses the SHS?"
   ]
  },
  {
   "cell_type": "code",
   "execution_count": null,
   "id": "cb0acac2-b33c-4110-a5ca-f6fbb3a3b077",
   "metadata": {},
   "outputs": [],
   "source": [
    "import pandas as pd\n",
    "\n",
    "# Settings\n",
    "pd.options.display.max_columns = 100\n",
    "pd.set_option(\"display.max_rows\", None)\n",
    "pd.set_option(\"display.max_colwidth\", None)\n",
    "pd.options.display.float_format = \"{:,.2f}\".format\n",
    "\n",
    "GCS_FILE_PATH = \"gs://calitp-analytics-data/data-analyses/project_prioritization/\"\n",
    "FILE = \"fake_data.xlsx\"\n",
    "\n",
    "# My utilities\n",
    "import _utils"
   ]
  },
  {
   "cell_type": "markdown",
   "id": "68cea8db-e858-4692-9257-f2d04e1d6a5f",
   "metadata": {},
   "source": [
    "### Preliminary\n",
    "* Subsetting and cleaning up strings.\n",
    "* Previewing the different values in cols."
   ]
  },
  {
   "cell_type": "code",
   "execution_count": 152,
   "id": "8f62cd95-e8f5-4e4a-9289-8ac8b72e0f3f",
   "metadata": {},
   "outputs": [],
   "source": [
    "# Read in file\n",
    "df = pd.read_excel(f\"{GCS_FILE_PATH}{FILE}\", sheet_name=\"fake\")"
   ]
  },
  {
   "cell_type": "code",
   "execution_count": 153,
   "id": "393b29b4-3fa3-45ec-97c4-b2a007251600",
   "metadata": {},
   "outputs": [],
   "source": [
    "# Subset to columns I want. \n",
    "df2 = df[['project_name', 'lead_agency','primary_mode',\n",
    "       'secondary_mode_s_','shs_capacity_increase_detail',]]"
   ]
  },
  {
   "cell_type": "code",
   "execution_count": 154,
   "id": "443aba65-e973-4b31-b88e-823c6f2bc405",
   "metadata": {},
   "outputs": [
    {
     "name": "stderr",
     "output_type": "stream",
     "text": [
      "/tmp/ipykernel_1181/2268786294.py:4: SettingWithCopyWarning: \n",
      "A value is trying to be set on a copy of a slice from a DataFrame.\n",
      "Try using .loc[row_indexer,col_indexer] = value instead\n",
      "\n",
      "See the caveats in the documentation: https://pandas.pydata.org/pandas-docs/stable/user_guide/indexing.html#returning-a-view-versus-a-copy\n"
     ]
    }
   ],
   "source": [
    "# Lowercase all strings\n",
    "for i in ['primary_mode',\n",
    "       'secondary_mode_s_','shs_capacity_increase_detail',]:\n",
    "    df2[i] = df2[i].str.lower()"
   ]
  },
  {
   "cell_type": "code",
   "execution_count": 155,
   "id": "88cb3f33-7454-4d48-b56e-6d50f1edcc10",
   "metadata": {
    "scrolled": true,
    "tags": []
   },
   "outputs": [
    {
     "name": "stdout",
     "output_type": "stream",
     "text": [
      "primary_mode              \n",
      "highway                       203\n",
      "rail (passenger)              122\n",
      "bike/pedestrian                90\n",
      "interchange (modification)     62\n",
      "rail (freight)                 37\n",
      "interchange (new)              33\n",
      "grade crossing                 32\n",
      "interchange (widening)         32\n",
      "complete streets               27\n",
      "port                           26\n",
      "transit                        22\n",
      "bridge                         17\n",
      "grade separation               11\n",
      "local roadway                  10\n",
      "its                             6\n",
      "zev                             6\n",
      "roundabout                      4\n",
      "truck parking                   2\n",
      "none                            1\n",
      "dtype: int64\n",
      "secondary_mode_s_                                                                                \n",
      "none                                                                                                 492\n",
      "highway                                                                                               57\n",
      "bike/pedestrian                                                                                       41\n",
      "zev                                                                                                   32\n",
      "complete streets                                                                                      14\n",
      "transit                                                                                               11\n",
      "bridge                                                                                                 9\n",
      "bike/pedestrian\\ncomplete streets\\nits\\ntransit                                                        5\n",
      "rail (passenger)                                                                                       5\n",
      "its                                                                                                    4\n",
      "bike/pedestrian\\ntransit                                                                               4\n",
      "bike/pedestrian\\nits                                                                                   4\n",
      "bike/pedestrian\\ncomplete streets                                                                      4\n",
      "bike/pedestrian\\nhighway                                                                               3\n",
      "bike/pedestrian\\nbridge                                                                                3\n",
      "local roadway                                                                                          3\n",
      "bike/pedestrian\\nlocal roadway                                                                         3\n",
      "port                                                                                                   3\n",
      "bike/pedestrian\\ninterchange (modification)                                                            3\n",
      "rail (freight)                                                                                         3\n",
      "bike/pedestrian\\ncomplete streets\\ntransit                                                             3\n",
      "bike/pedestrian\\ngrade crossing\\nrail (freight)                                                        2\n",
      "bike/pedestrian\\ncomplete streets\\nrail (passenger)                                                    2\n",
      "rail (passenger)\\ntransit                                                                              2\n",
      "bike/pedestrian\\ncomplete streets\\ngrade crossing\\nport\\nrail (freight)\\ntransit                       2\n",
      "grade separation                                                                                       2\n",
      "bike/pedestrian\\nbridge\\ncomplete streets                                                              1\n",
      "roundabout                                                                                             1\n",
      "truck parking                                                                                          1\n",
      "its\\nzev                                                                                               1\n",
      "its\\ntransit                                                                                           1\n",
      "wildlife crossing                                                                                      1\n",
      "highway\\nzev                                                                                           1\n",
      "highway\\nits\\ntransit\\nzev                                                                             1\n",
      "highway\\nits                                                                                           1\n",
      "bike/pedestrian\\ncomplete streets\\ngrade crossing\\nhighway\\nrail (freight)                             1\n",
      "grade separation\\ninterchange (new)                                                                    1\n",
      "bike/pedestrian\\ngrade crossing\\nrail (freight)\\ntransit                                               1\n",
      "bike/pedestrian\\ncomplete streets\\ngrade crossing\\nits\\nrail (freight)\\nrail (passenger)\\ntransit      1\n",
      "bike/pedestrian\\ncomplete streets\\nhighway                                                             1\n",
      "bike/pedestrian\\ncomplete streets\\nhighway\\nits\\ntransit                                               1\n",
      "bike/pedestrian\\ncomplete streets\\nhighway\\ntransit                                                    1\n",
      "bike/pedestrian\\ncomplete streets\\nrail (freight)\\nrail (passenger)\\ntransit                           1\n",
      "bike/pedestrian\\ngrade crossing\\nits\\nrail (freight)\\ntransit                                          1\n",
      "bike/pedestrian\\nits\\ntransit                                                                          1\n",
      "grade crossing\\nhighway\\nrail (freight)                                                                1\n",
      "bike/pedestrian\\nrail (passenger)                                                                      1\n",
      "bike/pedestrian\\nzev                                                                                   1\n",
      "bike/pedestrian\\ncomplete streets\\ngrade crossing\\nits\\nport\\nrail (freight)\\ntransit                  1\n",
      "complete streets\\nits                                                                                  1\n",
      "cvef                                                                                                   1\n",
      "grade crossing\\nhighway                                                                                1\n",
      "complete streets\\nhighway                                                                              1\n",
      "dtype: int64\n",
      "shs_capacity_increase_detail                                             \n",
      "none                                                                         461\n",
      "general purpose lane                                                          81\n",
      "interchange (modification)                                                    35\n",
      "interchange (new)                                                             29\n",
      "managed lane                                                                  22\n",
      "interchange (widening)                                                        17\n",
      "auxiliary lane                                                                16\n",
      "express lane                                                                  13\n",
      "general purpose lane\\ninterchange (widening)                                  10\n",
      "general purpose lane\\ninterchange (new)                                        6\n",
      "truck climbing lane                                                            5\n",
      "general purpose lane\\ninterchange (modification)                               4\n",
      "local roadway                                                                  4\n",
      "managed lanes addition                                                         4\n",
      "express lane (conversion)                                                      3\n",
      "auxiliary lane\\ngeneral purpose lane                                           3\n",
      "express lane (addition)                                                        2\n",
      "auxiliary lane\\ninterchange (modification)                                     2\n",
      "auxiliary lane\\nexpress lane (addition)                                        2\n",
      "auxiliary lane\\ninterchange (widening)                                         2\n",
      "new connector road                                                             1\n",
      "auxiliary lane\\nbus on shoulder                                                1\n",
      "transit/bus-only lane (addition)                                               1\n",
      "managed lane (conversion)                                                      1\n",
      "managed lane (addition)                                                        1\n",
      "auxiliary lane\\nbus on shoulder\\ninterchange (modification)                    1\n",
      "truck-only lane                                                                1\n",
      "interchange (widening)\\nmanaged lane                                           1\n",
      "auxiliary lane\\ninterchange (new)\\nlocal roadway                               1\n",
      "general purpose lane\\ntruck climbing lane                                      1\n",
      "interchange (modification)\\nlocal roadway                                      1\n",
      "auxiliary lane\\ngeneral purpose lane\\ninterchange (widening)                   1\n",
      "general purpose lane\\nmanaged lane (addition)\\ntruck-only lane (addition)      1\n",
      "general purpose lane\\nmanaged lane                                             1\n",
      "general purpose lane\\ninterchange (widening)\\nmanaged lane                     1\n",
      "auxiliary lane\\nbridge\\ninterchange (new)                                      1\n",
      "express lane (addition)\\nexpress lane (conversion)                             1\n",
      "auxiliary lane\\ninterchange (new)                                              1\n",
      "auxiliary lane\\ntruck climbing lane                                            1\n",
      "auxiliary lane\\nmanaged lane (addition)                                        1\n",
      "auxiliary lane\\ninterchange (widening)\\nlocal roadway                          1\n",
      "truck-only lane (addition)                                                     1\n",
      "dtype: int64\n"
     ]
    }
   ],
   "source": [
    "# Check out all values\n",
    "for i in ['primary_mode',\n",
    "       'secondary_mode_s_','shs_capacity_increase_detail',]:\n",
    "    print(df2[[i]].value_counts())"
   ]
  },
  {
   "cell_type": "markdown",
   "id": "db1646bf-457a-48a0-bf19-6f2e5732f7eb",
   "metadata": {},
   "source": [
    "### Function #1\n",
    "* Tag the columns as \"highway related\", just in general before figuring out if they are on the SHS or not. "
   ]
  },
  {
   "cell_type": "code",
   "execution_count": 156,
   "id": "cabda91c-378b-44f2-901a-7c99df1cb8a1",
   "metadata": {},
   "outputs": [],
   "source": [
    "def tagging_columns(df, tagging_col:str, new_col:str, keyword_list: list):\n",
    "    \n",
    "    # Delinate items in keywords list using |\n",
    "    keywords = f\"({'|'.join(keyword_list)})\"\n",
    "    \n",
    "    # Create a new column that captures whether or not the keyword appears\n",
    "    # Using str contains so interchange (new) and interchange (modifying) will appear.\n",
    "    df[\"keyword_appears_bool\"] = df[tagging_col].str.contains(keywords)\n",
    "    \n",
    "    # Function to categorize whether something is highway related or not. \n",
    "    def highway_or_not(row):\n",
    "        if row[\"keyword_appears_bool\"] == True:\n",
    "            return \"highway related\"\n",
    "        else:\n",
    "            return \"not highway related\"\n",
    "             \n",
    "    # Apply function \n",
    "    df[new_col] = df.apply(lambda x: highway_or_not(x), axis=1)\n",
    "             \n",
    "    # Drop keyword col\n",
    "    df = df.drop(columns = [\"keyword_appears_bool\"]) \n",
    "   \n",
    "    return df "
   ]
  },
  {
   "cell_type": "code",
   "execution_count": 157,
   "id": "cdcdb580-0806-426a-85f5-fd9a806633cb",
   "metadata": {},
   "outputs": [],
   "source": [
    "keywords = f\"({'|'.join(['highway', 'its','interchange',])})\""
   ]
  },
  {
   "cell_type": "code",
   "execution_count": 158,
   "id": "d074dc8f-7907-4455-8e34-6087f29d254c",
   "metadata": {},
   "outputs": [
    {
     "data": {
      "text/plain": [
       "'(highway|its|interchange)'"
      ]
     },
     "execution_count": 158,
     "metadata": {},
     "output_type": "execute_result"
    }
   ],
   "source": [
    "keywords"
   ]
  },
  {
   "cell_type": "code",
   "execution_count": 159,
   "id": "66b52ebe-5766-4120-b826-6c778a58e9fa",
   "metadata": {},
   "outputs": [
    {
     "name": "stderr",
     "output_type": "stream",
     "text": [
      "/tmp/ipykernel_1181/2427608141.py:8: UserWarning: This pattern is interpreted as a regular expression, and has match groups. To actually get the groups, use str.extract.\n",
      "/tmp/ipykernel_1181/2427608141.py:8: SettingWithCopyWarning: \n",
      "A value is trying to be set on a copy of a slice from a DataFrame.\n",
      "Try using .loc[row_indexer,col_indexer] = value instead\n",
      "\n",
      "See the caveats in the documentation: https://pandas.pydata.org/pandas-docs/stable/user_guide/indexing.html#returning-a-view-versus-a-copy\n",
      "/tmp/ipykernel_1181/2427608141.py:18: SettingWithCopyWarning: \n",
      "A value is trying to be set on a copy of a slice from a DataFrame.\n",
      "Try using .loc[row_indexer,col_indexer] = value instead\n",
      "\n",
      "See the caveats in the documentation: https://pandas.pydata.org/pandas-docs/stable/user_guide/indexing.html#returning-a-view-versus-a-copy\n"
     ]
    }
   ],
   "source": [
    "df3 = tagging_columns(df2, \"primary_mode\", \"primary_mode_SHS\", ['highway', 'its',\n",
    "       'interchange',] ).head(5)"
   ]
  },
  {
   "cell_type": "code",
   "execution_count": 160,
   "id": "d8060217-6459-4e72-9dbd-a9eabfa6d6bd",
   "metadata": {},
   "outputs": [
    {
     "name": "stderr",
     "output_type": "stream",
     "text": [
      "/tmp/ipykernel_1181/2427608141.py:8: UserWarning: This pattern is interpreted as a regular expression, and has match groups. To actually get the groups, use str.extract.\n",
      "/tmp/ipykernel_1181/2427608141.py:8: SettingWithCopyWarning: \n",
      "A value is trying to be set on a copy of a slice from a DataFrame.\n",
      "Try using .loc[row_indexer,col_indexer] = value instead\n",
      "\n",
      "See the caveats in the documentation: https://pandas.pydata.org/pandas-docs/stable/user_guide/indexing.html#returning-a-view-versus-a-copy\n",
      "/tmp/ipykernel_1181/2427608141.py:18: SettingWithCopyWarning: \n",
      "A value is trying to be set on a copy of a slice from a DataFrame.\n",
      "Try using .loc[row_indexer,col_indexer] = value instead\n",
      "\n",
      "See the caveats in the documentation: https://pandas.pydata.org/pandas-docs/stable/user_guide/indexing.html#returning-a-view-versus-a-copy\n"
     ]
    }
   ],
   "source": [
    "df3 = tagging_columns(df2, \"secondary_mode_s_\", \"secondary_mode_SHS\", [\"highway\", \"lane\", \"interchange\"])"
   ]
  },
  {
   "cell_type": "code",
   "execution_count": 161,
   "id": "a000d9b0-f4db-4a0b-b31e-a3ec2346c941",
   "metadata": {},
   "outputs": [],
   "source": [
    "# df3['length_of_lead_agency'] = df3['lead_agency'].map(lambda x: len(x)) "
   ]
  },
  {
   "cell_type": "code",
   "execution_count": 162,
   "id": "83b5cbd8-ecb0-42fd-88fd-c74b0b3263f6",
   "metadata": {},
   "outputs": [],
   "source": [
    "# df3.sample(5)"
   ]
  },
  {
   "cell_type": "markdown",
   "id": "2f1d46b3-dcd1-42ea-909e-0832f349de37",
   "metadata": {},
   "source": [
    "### Function 2\n",
    "* After tagging whether primary mode and secondary modes are highway related, write complete the function.\n",
    "    * SHS Capacity Increase Detail is only populated  with something besides \"None\" if SHS related, so there's no need to apply the function.\n",
    "* Tag whether a lead agency is Caltrans or a partner.\n",
    "* Tag various combinations of secondary mode/primary mode/lead agency are determine whether they are on SHS or not. \n",
    "* Create a sentence to summarize everything."
   ]
  },
  {
   "cell_type": "code",
   "execution_count": 163,
   "id": "477cc8a6-0af8-4ee1-b7ae-6c5319d8fb52",
   "metadata": {},
   "outputs": [],
   "source": [
    "def SHS_lead_agency_info(df): \n",
    "    \n",
    "    # Tag if it's Caltrans or a partner project\n",
    "    df['caltrans_or_partner'] = df['lead_agency'].map(lambda x: 'Caltrans' if x == 'Caltrans' else 'a partner')     \n",
    "    \n",
    "    # Tagging if a project is on the SHS or not thorugh various combos.\n",
    "    def on_SHS(row):\n",
    "        # If secondary mode are highway related and shs_capacity_increase_detail isn't none: on SHS. \n",
    "        if (row.secondary_mode_SHS == \"highway related\") and (row.shs_capacity_increase_detail != \"none\"):\n",
    "            return \"on SHS\"\n",
    "        # Same thing as above but primary mode. \n",
    "        if (row.primary_mode_SHS == \"highway related\") and (row.shs_capacity_increase_detail != \"none\"):\n",
    "            return \"on SHS\"\n",
    "        # If all secondary & primary are highway, SHS isn't none, and lead agency is Caltrans: on SHS.\n",
    "        if (row.secondary_mode_SHS == \"highway related\") and (row.primary_mode_SHS == \"highway related\") and (row.shs_capacity_increase_detail != \"none\")  and (row.caltrans_or_partner == \"Caltrans\"):\n",
    "            return \"on SHS\"\n",
    "        # If all secondary & primary are highway  and lead agency is Caltrans: on SHS.\n",
    "        if (row.secondary_mode_SHS == \"highway related\") and (row.primary_mode_SHS == \"highway related\") and (row.caltrans_or_partner == \"Caltrans\"):\n",
    "            return \"on SHS\"\n",
    "        # If SHS is anything but none, tag it as SHS. \n",
    "        if (row.shs_capacity_increase_detail != \"none\"):\n",
    "            return \"on the SHS\" \n",
    "        # Everything else is not on SHS.\n",
    "        else:\n",
    "            return \"not on the SHS\"\n",
    "    \n",
    "    # Apply the function\n",
    "    df[\"On_SHS\"] = df.apply(on_SHS, axis=1)\n",
    "    \n",
    "    # Create a sentence that summarizes the lead agency and whether the project is on the SHS or not. \n",
    "    df['sentence'] = 'The lead agency is ' + df['caltrans_or_partner'] + ' and the project is ' + df['On_SHS'] + '.'\n",
    "    \n",
    "    return df"
   ]
  },
  {
   "cell_type": "code",
   "execution_count": 164,
   "id": "709b50b3-8fc9-43b0-9ebe-0445ad94a775",
   "metadata": {
    "tags": []
   },
   "outputs": [],
   "source": [
    "df4 = SHS_lead_agency_info(df3) "
   ]
  },
  {
   "cell_type": "code",
   "execution_count": 165,
   "id": "c081ebd3-a356-4253-80dc-e8cf61d4dcac",
   "metadata": {},
   "outputs": [
    {
     "data": {
      "text/plain": [
       "The lead agency is a partner and the project is not on the SHS.    380\n",
       "The lead agency is a partner and the project is on SHS.            195\n",
       "The lead agency is Caltrans and the project is on SHS.              79\n",
       "The lead agency is Caltrans and the project is not on the SHS.      77\n",
       "The lead agency is Caltrans and the project is on the SHS.           6\n",
       "The lead agency is a partner and the project is on the SHS.          6\n",
       "Name: sentence, dtype: int64"
      ]
     },
     "execution_count": 165,
     "metadata": {},
     "output_type": "execute_result"
    }
   ],
   "source": [
    "df4.sentence.value_counts()"
   ]
  },
  {
   "cell_type": "code",
   "execution_count": 166,
   "id": "68656cd7-36be-46f6-bcf7-13a573bf6b74",
   "metadata": {
    "tags": []
   },
   "outputs": [
    {
     "data": {
      "text/html": [
       "<div>\n",
       "<style scoped>\n",
       "    .dataframe tbody tr th:only-of-type {\n",
       "        vertical-align: middle;\n",
       "    }\n",
       "\n",
       "    .dataframe tbody tr th {\n",
       "        vertical-align: top;\n",
       "    }\n",
       "\n",
       "    .dataframe thead th {\n",
       "        text-align: right;\n",
       "    }\n",
       "</style>\n",
       "<table border=\"1\" class=\"dataframe\">\n",
       "  <thead>\n",
       "    <tr style=\"text-align: right;\">\n",
       "      <th></th>\n",
       "      <th>project_name</th>\n",
       "      <th>lead_agency</th>\n",
       "      <th>primary_mode</th>\n",
       "      <th>secondary_mode_s_</th>\n",
       "      <th>shs_capacity_increase_detail</th>\n",
       "      <th>primary_mode_SHS</th>\n",
       "      <th>secondary_mode_SHS</th>\n",
       "      <th>caltrans_or_partner</th>\n",
       "      <th>On_SHS</th>\n",
       "      <th>sentence</th>\n",
       "    </tr>\n",
       "  </thead>\n",
       "  <tbody>\n",
       "    <tr>\n",
       "      <th>552</th>\n",
       "      <td>La-Sb Dedicated Passenger Corridor: Construct 3Rd Main Track On The Bnsf Sb Route</td>\n",
       "      <td>Metrolink</td>\n",
       "      <td>rail (passenger)</td>\n",
       "      <td>none</td>\n",
       "      <td>none</td>\n",
       "      <td>not highway related</td>\n",
       "      <td>not highway related</td>\n",
       "      <td>a partner</td>\n",
       "      <td>not on the SHS</td>\n",
       "      <td>The lead agency is a partner and the project is not on the SHS.</td>\n",
       "    </tr>\n",
       "    <tr>\n",
       "      <th>205</th>\n",
       "      <td>Freeman Gulch Widening - Phase 3</td>\n",
       "      <td>None</td>\n",
       "      <td>highway</td>\n",
       "      <td>none</td>\n",
       "      <td>general purpose lane</td>\n",
       "      <td>highway related</td>\n",
       "      <td>not highway related</td>\n",
       "      <td>a partner</td>\n",
       "      <td>on SHS</td>\n",
       "      <td>The lead agency is a partner and the project is on SHS.</td>\n",
       "    </tr>\n",
       "    <tr>\n",
       "      <th>394</th>\n",
       "      <td>Sr-71 Corridor Enhancement Project\\nRiverside County Route 71 Widening</td>\n",
       "      <td>None</td>\n",
       "      <td>highway</td>\n",
       "      <td>bike/pedestrian\\nrail (passenger)</td>\n",
       "      <td>general purpose lane</td>\n",
       "      <td>highway related</td>\n",
       "      <td>not highway related</td>\n",
       "      <td>a partner</td>\n",
       "      <td>on SHS</td>\n",
       "      <td>The lead agency is a partner and the project is on SHS.</td>\n",
       "    </tr>\n",
       "    <tr>\n",
       "      <th>304</th>\n",
       "      <td>Sr-60/7Th Street Interchange Improvement</td>\n",
       "      <td>Caltrans</td>\n",
       "      <td>interchange (modification)</td>\n",
       "      <td>none</td>\n",
       "      <td>interchange (modification)</td>\n",
       "      <td>highway related</td>\n",
       "      <td>not highway related</td>\n",
       "      <td>Caltrans</td>\n",
       "      <td>on SHS</td>\n",
       "      <td>The lead agency is Caltrans and the project is on SHS.</td>\n",
       "    </tr>\n",
       "    <tr>\n",
       "      <th>741</th>\n",
       "      <td>Camp Pendleton Cct</td>\n",
       "      <td>None</td>\n",
       "      <td>bike/pedestrian</td>\n",
       "      <td>none</td>\n",
       "      <td>none</td>\n",
       "      <td>not highway related</td>\n",
       "      <td>not highway related</td>\n",
       "      <td>a partner</td>\n",
       "      <td>not on the SHS</td>\n",
       "      <td>The lead agency is a partner and the project is not on the SHS.</td>\n",
       "    </tr>\n",
       "  </tbody>\n",
       "</table>\n",
       "</div>"
      ],
      "text/plain": [
       "                                                                          project_name  \\\n",
       "552  La-Sb Dedicated Passenger Corridor: Construct 3Rd Main Track On The Bnsf Sb Route   \n",
       "205                                                   Freeman Gulch Widening - Phase 3   \n",
       "394             Sr-71 Corridor Enhancement Project\\nRiverside County Route 71 Widening   \n",
       "304                                           Sr-60/7Th Street Interchange Improvement   \n",
       "741                                                                 Camp Pendleton Cct   \n",
       "\n",
       "    lead_agency                primary_mode  \\\n",
       "552   Metrolink            rail (passenger)   \n",
       "205        None                     highway   \n",
       "394        None                     highway   \n",
       "304    Caltrans  interchange (modification)   \n",
       "741        None             bike/pedestrian   \n",
       "\n",
       "                     secondary_mode_s_ shs_capacity_increase_detail  \\\n",
       "552                               none                         none   \n",
       "205                               none         general purpose lane   \n",
       "394  bike/pedestrian\\nrail (passenger)         general purpose lane   \n",
       "304                               none   interchange (modification)   \n",
       "741                               none                         none   \n",
       "\n",
       "        primary_mode_SHS   secondary_mode_SHS caltrans_or_partner  \\\n",
       "552  not highway related  not highway related           a partner   \n",
       "205      highway related  not highway related           a partner   \n",
       "394      highway related  not highway related           a partner   \n",
       "304      highway related  not highway related            Caltrans   \n",
       "741  not highway related  not highway related           a partner   \n",
       "\n",
       "             On_SHS  \\\n",
       "552  not on the SHS   \n",
       "205          on SHS   \n",
       "394          on SHS   \n",
       "304          on SHS   \n",
       "741  not on the SHS   \n",
       "\n",
       "                                                            sentence  \n",
       "552  The lead agency is a partner and the project is not on the SHS.  \n",
       "205          The lead agency is a partner and the project is on SHS.  \n",
       "394          The lead agency is a partner and the project is on SHS.  \n",
       "304           The lead agency is Caltrans and the project is on SHS.  \n",
       "741  The lead agency is a partner and the project is not on the SHS.  "
      ]
     },
     "execution_count": 166,
     "metadata": {},
     "output_type": "execute_result"
    }
   ],
   "source": [
    "df4.sample(5)"
   ]
  }
 ],
 "metadata": {
  "kernelspec": {
   "display_name": "Python 3 (ipykernel)",
   "language": "python",
   "name": "python3"
  },
  "language_info": {
   "codemirror_mode": {
    "name": "ipython",
    "version": 3
   },
   "file_extension": ".py",
   "mimetype": "text/x-python",
   "name": "python",
   "nbconvert_exporter": "python",
   "pygments_lexer": "ipython3",
   "version": "3.10.6"
  }
 },
 "nbformat": 4,
 "nbformat_minor": 5
}
