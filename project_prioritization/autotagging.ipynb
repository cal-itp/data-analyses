{
 "cells": [
  {
   "cell_type": "markdown",
   "id": "366bbf07-25c1-4e2b-9f36-3da9300eed01",
   "metadata": {},
   "source": [
    "## Autotagging projects\n",
    "* Who is the lead agency? \n",
    "    * Agency in this project = the entity who is receiving funding for this project.\n",
    "* Is this project on or off the SHS or both?\n",
    "* How to tell if a project criss-crosses the SHS?"
   ]
  },
  {
   "cell_type": "code",
   "execution_count": 1,
   "id": "cb0acac2-b33c-4110-a5ca-f6fbb3a3b077",
   "metadata": {},
   "outputs": [
    {
     "name": "stderr",
     "output_type": "stream",
     "text": [
      "/opt/conda/lib/python3.10/site-packages/geopandas/_compat.py:123: UserWarning: The Shapely GEOS version (3.10.3-CAPI-1.16.1) is incompatible with the GEOS version PyGEOS was compiled with (3.10.1-CAPI-1.16.0). Conversions between both will be slow.\n"
     ]
    }
   ],
   "source": [
    "import pandas as pd\n",
    "\n",
    "# Settings\n",
    "pd.options.display.max_columns = 100\n",
    "pd.set_option(\"display.max_rows\", None)\n",
    "pd.set_option(\"display.max_colwidth\", None)\n",
    "pd.options.display.float_format = \"{:,.2f}\".format\n",
    "\n",
    "GCS_FILE_PATH = \"gs://calitp-analytics-data/data-analyses/project_prioritization/\"\n",
    "FILE = \"fake_data.xlsx\"\n",
    "\n",
    "# My utilities\n",
    "import _utils\n",
    "from calitp import *"
   ]
  },
  {
   "cell_type": "markdown",
   "id": "68cea8db-e858-4692-9257-f2d04e1d6a5f",
   "metadata": {},
   "source": [
    "### Preliminary"
   ]
  },
  {
   "cell_type": "code",
   "execution_count": 2,
   "id": "8f62cd95-e8f5-4e4a-9289-8ac8b72e0f3f",
   "metadata": {},
   "outputs": [],
   "source": [
    "# Read in file\n",
    "df = to_snakecase(pd.read_excel(f\"{GCS_FILE_PATH}{FILE}\", sheet_name=\"fake\"))"
   ]
  },
  {
   "cell_type": "code",
   "execution_count": 3,
   "id": "393b29b4-3fa3-45ec-97c4-b2a007251600",
   "metadata": {},
   "outputs": [],
   "source": [
    "# Subset to columns I want. \n",
    "df2 = df[['project_name', 'lead_agency','primary_mode',\n",
    "       'secondary_mode_s','shs_capacity_increase_detail',]]"
   ]
  },
  {
   "cell_type": "code",
   "execution_count": 4,
   "id": "f3c56061-c7b6-4172-b165-91eb988d49c0",
   "metadata": {
    "scrolled": true,
    "tags": []
   },
   "outputs": [],
   "source": [
    "# Count combos\n",
    "combos = df2.groupby(['primary_mode',\n",
    "        'secondary_mode_s','shs_capacity_increase_detail']).size().reset_index().rename(columns={0:'count'})"
   ]
  },
  {
   "cell_type": "code",
   "execution_count": 5,
   "id": "994b7fa1-48b0-4f07-a85e-dffd2cea3c7f",
   "metadata": {
    "tags": []
   },
   "outputs": [
    {
     "data": {
      "text/html": [
       "<div>\n",
       "<style scoped>\n",
       "    .dataframe tbody tr th:only-of-type {\n",
       "        vertical-align: middle;\n",
       "    }\n",
       "\n",
       "    .dataframe tbody tr th {\n",
       "        vertical-align: top;\n",
       "    }\n",
       "\n",
       "    .dataframe thead th {\n",
       "        text-align: right;\n",
       "    }\n",
       "</style>\n",
       "<table border=\"1\" class=\"dataframe\">\n",
       "  <thead>\n",
       "    <tr style=\"text-align: right;\">\n",
       "      <th></th>\n",
       "      <th>primary_mode</th>\n",
       "      <th>secondary_mode_s</th>\n",
       "      <th>shs_capacity_increase_detail</th>\n",
       "      <th>count</th>\n",
       "    </tr>\n",
       "  </thead>\n",
       "  <tbody>\n",
       "    <tr>\n",
       "      <th>171</th>\n",
       "      <td>Rail (Passenger)</td>\n",
       "      <td>None</td>\n",
       "      <td>None</td>\n",
       "      <td>111</td>\n",
       "    </tr>\n",
       "    <tr>\n",
       "      <th>78</th>\n",
       "      <td>Highway</td>\n",
       "      <td>None</td>\n",
       "      <td>General Purpose Lane</td>\n",
       "      <td>62</td>\n",
       "    </tr>\n",
       "    <tr>\n",
       "      <th>10</th>\n",
       "      <td>Bike/Pedestrian</td>\n",
       "      <td>None</td>\n",
       "      <td>None</td>\n",
       "      <td>57</td>\n",
       "    </tr>\n",
       "    <tr>\n",
       "      <th>37</th>\n",
       "      <td>Grade Crossing</td>\n",
       "      <td>None</td>\n",
       "      <td>None</td>\n",
       "      <td>29</td>\n",
       "    </tr>\n",
       "    <tr>\n",
       "      <th>164</th>\n",
       "      <td>Rail (Freight)</td>\n",
       "      <td>None</td>\n",
       "      <td>None</td>\n",
       "      <td>28</td>\n",
       "    </tr>\n",
       "  </tbody>\n",
       "</table>\n",
       "</div>"
      ],
      "text/plain": [
       "         primary_mode secondary_mode_s shs_capacity_increase_detail  count\n",
       "171  Rail (Passenger)             None                         None    111\n",
       "78            Highway             None         General Purpose Lane     62\n",
       "10    Bike/Pedestrian             None                         None     57\n",
       "37     Grade Crossing             None                         None     29\n",
       "164    Rail (Freight)             None                         None     28"
      ]
     },
     "execution_count": 5,
     "metadata": {},
     "output_type": "execute_result"
    }
   ],
   "source": [
    "combos.sort_values(['count'], ascending = False).head()"
   ]
  },
  {
   "cell_type": "markdown",
   "id": "db1646bf-457a-48a0-bf19-6f2e5732f7eb",
   "metadata": {},
   "source": [
    "### Function #1\n",
    "* Tag whether values in a column are \"highway related\" before figuring out if they are on the SHS or not. "
   ]
  },
  {
   "cell_type": "code",
   "execution_count": 6,
   "id": "cabda91c-378b-44f2-901a-7c99df1cb8a1",
   "metadata": {},
   "outputs": [],
   "source": [
    "def tagging_columns(df, tagging_col:str, new_col:str, keyword_list: list):\n",
    "    '''\n",
    "    Search through a column for keywords. \n",
    "    \n",
    "    Args\n",
    "    df: the dataframe.\n",
    "    tagging_col (str): the column to search for the appearance of keywords. \n",
    "    new_col (str): input whether or not the keyword was found.\n",
    "    keyword_list (list): list of keywords to search through.\n",
    "    \n",
    "    Returns: a dataframe with a new column stating whether \n",
    "    the keyword(s) were found or not.\n",
    "    '''\n",
    "    # Delinate items in keywords list using |\n",
    "    keywords = f\"({'|'.join(keyword_list)})\"\n",
    "    \n",
    "    # Lower the strings in the column of interest \n",
    "    df[tagging_col] =  df[tagging_col].str.lower()\n",
    "    \n",
    "    # Create a new column that captures whether or not the keyword appears\n",
    "    # Using str contains so interchange (new) and interchange (modifying) will appear.\n",
    "    df[\"keyword_appears_bool\"] = df[tagging_col].str.contains(keywords)\n",
    "    \n",
    "    # Function to categorize whether something is highway related or not. \n",
    "    def highway_or_not(row):\n",
    "        if row[\"keyword_appears_bool\"] == True:\n",
    "            return \"highway related\"\n",
    "        else:\n",
    "            return \"not highway related\"\n",
    "             \n",
    "    # Apply function \n",
    "    df[new_col] = df.apply(lambda x: highway_or_not(x), axis=1)\n",
    "             \n",
    "    # Drop keyword col\n",
    "    df = df.drop(columns = [\"keyword_appears_bool\"]) \n",
    "   \n",
    "    return df "
   ]
  },
  {
   "cell_type": "code",
   "execution_count": 7,
   "id": "66b52ebe-5766-4120-b826-6c778a58e9fa",
   "metadata": {},
   "outputs": [
    {
     "name": "stderr",
     "output_type": "stream",
     "text": [
      "/tmp/ipykernel_1997/3589511927.py:18: SettingWithCopyWarning: \n",
      "A value is trying to be set on a copy of a slice from a DataFrame.\n",
      "Try using .loc[row_indexer,col_indexer] = value instead\n",
      "\n",
      "See the caveats in the documentation: https://pandas.pydata.org/pandas-docs/stable/user_guide/indexing.html#returning-a-view-versus-a-copy\n",
      "/tmp/ipykernel_1997/3589511927.py:22: UserWarning: This pattern is interpreted as a regular expression, and has match groups. To actually get the groups, use str.extract.\n",
      "/tmp/ipykernel_1997/3589511927.py:22: SettingWithCopyWarning: \n",
      "A value is trying to be set on a copy of a slice from a DataFrame.\n",
      "Try using .loc[row_indexer,col_indexer] = value instead\n",
      "\n",
      "See the caveats in the documentation: https://pandas.pydata.org/pandas-docs/stable/user_guide/indexing.html#returning-a-view-versus-a-copy\n",
      "/tmp/ipykernel_1997/3589511927.py:32: SettingWithCopyWarning: \n",
      "A value is trying to be set on a copy of a slice from a DataFrame.\n",
      "Try using .loc[row_indexer,col_indexer] = value instead\n",
      "\n",
      "See the caveats in the documentation: https://pandas.pydata.org/pandas-docs/stable/user_guide/indexing.html#returning-a-view-versus-a-copy\n"
     ]
    }
   ],
   "source": [
    "df3 = tagging_columns(df2, \"primary_mode\", \"primary_mode_SHS\", ['highway', 'its',\n",
    "       'interchange',])"
   ]
  },
  {
   "cell_type": "code",
   "execution_count": 8,
   "id": "8d920876-22b5-4e25-ad82-7d8d8bf75f91",
   "metadata": {},
   "outputs": [
    {
     "data": {
      "text/html": [
       "<div>\n",
       "<style scoped>\n",
       "    .dataframe tbody tr th:only-of-type {\n",
       "        vertical-align: middle;\n",
       "    }\n",
       "\n",
       "    .dataframe tbody tr th {\n",
       "        vertical-align: top;\n",
       "    }\n",
       "\n",
       "    .dataframe thead th {\n",
       "        text-align: right;\n",
       "    }\n",
       "</style>\n",
       "<table border=\"1\" class=\"dataframe\">\n",
       "  <thead>\n",
       "    <tr style=\"text-align: right;\">\n",
       "      <th></th>\n",
       "      <th>primary_mode</th>\n",
       "      <th>primary_mode_SHS</th>\n",
       "    </tr>\n",
       "  </thead>\n",
       "  <tbody>\n",
       "    <tr>\n",
       "      <th>108</th>\n",
       "      <td>highway</td>\n",
       "      <td>highway related</td>\n",
       "    </tr>\n",
       "    <tr>\n",
       "      <th>259</th>\n",
       "      <td>interchange (widening)</td>\n",
       "      <td>highway related</td>\n",
       "    </tr>\n",
       "    <tr>\n",
       "      <th>69</th>\n",
       "      <td>highway</td>\n",
       "      <td>highway related</td>\n",
       "    </tr>\n",
       "    <tr>\n",
       "      <th>456</th>\n",
       "      <td>interchange (widening)</td>\n",
       "      <td>highway related</td>\n",
       "    </tr>\n",
       "    <tr>\n",
       "      <th>55</th>\n",
       "      <td>highway</td>\n",
       "      <td>highway related</td>\n",
       "    </tr>\n",
       "    <tr>\n",
       "      <th>524</th>\n",
       "      <td>rail (passenger)</td>\n",
       "      <td>not highway related</td>\n",
       "    </tr>\n",
       "    <tr>\n",
       "      <th>408</th>\n",
       "      <td>highway</td>\n",
       "      <td>highway related</td>\n",
       "    </tr>\n",
       "    <tr>\n",
       "      <th>94</th>\n",
       "      <td>highway</td>\n",
       "      <td>highway related</td>\n",
       "    </tr>\n",
       "    <tr>\n",
       "      <th>297</th>\n",
       "      <td>interchange (widening)</td>\n",
       "      <td>highway related</td>\n",
       "    </tr>\n",
       "    <tr>\n",
       "      <th>98</th>\n",
       "      <td>local roadway</td>\n",
       "      <td>not highway related</td>\n",
       "    </tr>\n",
       "  </tbody>\n",
       "</table>\n",
       "</div>"
      ],
      "text/plain": [
       "               primary_mode     primary_mode_SHS\n",
       "108                 highway      highway related\n",
       "259  interchange (widening)      highway related\n",
       "69                  highway      highway related\n",
       "456  interchange (widening)      highway related\n",
       "55                  highway      highway related\n",
       "524        rail (passenger)  not highway related\n",
       "408                 highway      highway related\n",
       "94                  highway      highway related\n",
       "297  interchange (widening)      highway related\n",
       "98            local roadway  not highway related"
      ]
     },
     "execution_count": 8,
     "metadata": {},
     "output_type": "execute_result"
    }
   ],
   "source": [
    "# Preview that this is correct\n",
    "df3[['primary_mode','primary_mode_SHS']].sample(10)"
   ]
  },
  {
   "cell_type": "code",
   "execution_count": 9,
   "id": "d8060217-6459-4e72-9dbd-a9eabfa6d6bd",
   "metadata": {},
   "outputs": [
    {
     "name": "stderr",
     "output_type": "stream",
     "text": [
      "/tmp/ipykernel_1997/3589511927.py:18: SettingWithCopyWarning: \n",
      "A value is trying to be set on a copy of a slice from a DataFrame.\n",
      "Try using .loc[row_indexer,col_indexer] = value instead\n",
      "\n",
      "See the caveats in the documentation: https://pandas.pydata.org/pandas-docs/stable/user_guide/indexing.html#returning-a-view-versus-a-copy\n",
      "/tmp/ipykernel_1997/3589511927.py:22: UserWarning: This pattern is interpreted as a regular expression, and has match groups. To actually get the groups, use str.extract.\n",
      "/tmp/ipykernel_1997/3589511927.py:22: SettingWithCopyWarning: \n",
      "A value is trying to be set on a copy of a slice from a DataFrame.\n",
      "Try using .loc[row_indexer,col_indexer] = value instead\n",
      "\n",
      "See the caveats in the documentation: https://pandas.pydata.org/pandas-docs/stable/user_guide/indexing.html#returning-a-view-versus-a-copy\n",
      "/tmp/ipykernel_1997/3589511927.py:32: SettingWithCopyWarning: \n",
      "A value is trying to be set on a copy of a slice from a DataFrame.\n",
      "Try using .loc[row_indexer,col_indexer] = value instead\n",
      "\n",
      "See the caveats in the documentation: https://pandas.pydata.org/pandas-docs/stable/user_guide/indexing.html#returning-a-view-versus-a-copy\n"
     ]
    }
   ],
   "source": [
    "df3 = tagging_columns(df2,  'secondary_mode_s', \"secondary_mode_SHS\", [\"highway\", \"lane\", \"interchange\"])"
   ]
  },
  {
   "cell_type": "code",
   "execution_count": 10,
   "id": "2562c0ef-56bb-40b8-ae15-b2d6696e4ad7",
   "metadata": {},
   "outputs": [
    {
     "name": "stderr",
     "output_type": "stream",
     "text": [
      "/tmp/ipykernel_1997/3589511927.py:18: SettingWithCopyWarning: \n",
      "A value is trying to be set on a copy of a slice from a DataFrame.\n",
      "Try using .loc[row_indexer,col_indexer] = value instead\n",
      "\n",
      "See the caveats in the documentation: https://pandas.pydata.org/pandas-docs/stable/user_guide/indexing.html#returning-a-view-versus-a-copy\n",
      "/tmp/ipykernel_1997/3589511927.py:22: UserWarning: This pattern is interpreted as a regular expression, and has match groups. To actually get the groups, use str.extract.\n",
      "/tmp/ipykernel_1997/3589511927.py:22: SettingWithCopyWarning: \n",
      "A value is trying to be set on a copy of a slice from a DataFrame.\n",
      "Try using .loc[row_indexer,col_indexer] = value instead\n",
      "\n",
      "See the caveats in the documentation: https://pandas.pydata.org/pandas-docs/stable/user_guide/indexing.html#returning-a-view-versus-a-copy\n",
      "/tmp/ipykernel_1997/3589511927.py:32: SettingWithCopyWarning: \n",
      "A value is trying to be set on a copy of a slice from a DataFrame.\n",
      "Try using .loc[row_indexer,col_indexer] = value instead\n",
      "\n",
      "See the caveats in the documentation: https://pandas.pydata.org/pandas-docs/stable/user_guide/indexing.html#returning-a-view-versus-a-copy\n"
     ]
    }
   ],
   "source": [
    "df3 = tagging_columns(df2,  'shs_capacity_increase_detail', \"shs_capacity_increase_detail_SHS\", [\"highway\", \"lane\", \"interchange\"])"
   ]
  },
  {
   "cell_type": "markdown",
   "id": "2f1d46b3-dcd1-42ea-909e-0832f349de37",
   "metadata": {},
   "source": [
    "### Function 2\n",
    "* Apply a function to summarize the results in a comprehensive sentence.\n",
    "    "
   ]
  },
  {
   "cell_type": "code",
   "execution_count": 11,
   "id": "477cc8a6-0af8-4ee1-b7ae-6c5319d8fb52",
   "metadata": {},
   "outputs": [],
   "source": [
    "def SHS_lead_agency_info(df): \n",
    "    \n",
    "    # Lower strings. \n",
    "    for i in ['primary_mode','secondary_mode_s','shs_capacity_increase_detail',]:\n",
    "        df[i] = df[i].str.lower()\n",
    "    \n",
    "    # Tag if the lead agency is Caltrans or a partner. \n",
    "    def CT_or_partner(row):\n",
    "        # If SHS is filled with somethign BESIDES none: on SHS. \n",
    "        if (row.lead_agency == \"None\"):\n",
    "            return \"unknown\" \n",
    "        # Everything else is not on SHS.\n",
    "        if (row.lead_agency == \"Caltrans\"):\n",
    "            return \"Caltrans\" \n",
    "        else:\n",
    "            return \"a partner\"     \n",
    "        \n",
    "    # Apply the function\n",
    "    df[\"caltrans_or_partner\"] = df.apply(CT_or_partner, axis=1)  \n",
    "    \n",
    "    # Tag if a project is on the SHS or not thorugh various combos.\n",
    "    def on_SHS(row):\n",
    "         # If both secondary, primary, and SHS are highway related and lead agency is Caltrans: on SHS\n",
    "        if (row.secondary_mode_SHS == \"highway related\") and (row.primary_mode_SHS == \"highway related\") and (row.shs_capacity_increase_detail_SHS == \"highway related\") and (row.caltrans_or_partner == \"Caltrans\"):\n",
    "            return \"on the SHS\"\n",
    "        # If secondary, primary, and SHS are all highway related: on the SHS. Or perhaps possibly? \n",
    "        elif (row.secondary_mode_SHS == \"highway related\") and (row.primary_mode_SHS == \"highway related\") and (row.shs_capacity_increase_detail_SHS == \"highway related\"):\n",
    "            return \"on the SHS\"\n",
    "          # If nothing is highway related: not on SHS. \n",
    "        elif (row.shs_capacity_increase_detail_SHS == \"not highway related\") and (row.secondary_mode_SHS == \"not highway related\") and (row.primary_mode_SHS == \"not highway related\"):\n",
    "            return \"not on the SHS\" \n",
    "        # Everything else is not on SHS.\n",
    "        else:\n",
    "            return \"possibly on the SHS\"\n",
    "    \n",
    "    # Apply the function\n",
    "    df[\"On_SHS\"] = df.apply(on_SHS, axis=1)\n",
    "    \n",
    "    # Create a sentence that summarizes the lead agency and whether the project is on the SHS or not. \n",
    "    df['sentence'] = 'The lead agency is ' + df['caltrans_or_partner'] + ' and the project is ' + df['On_SHS'] + '.'\n",
    "    \n",
    "    return df"
   ]
  },
  {
   "cell_type": "code",
   "execution_count": 12,
   "id": "709b50b3-8fc9-43b0-9ebe-0445ad94a775",
   "metadata": {
    "tags": []
   },
   "outputs": [],
   "source": [
    "df4 = SHS_lead_agency_info(df3) "
   ]
  },
  {
   "cell_type": "code",
   "execution_count": 13,
   "id": "073b5c2d-9e4e-4a65-9a00-03235557ad4b",
   "metadata": {},
   "outputs": [
    {
     "data": {
      "text/plain": [
       "a partner    350\n",
       "unknown      231\n",
       "Caltrans     162\n",
       "Name: caltrans_or_partner, dtype: int64"
      ]
     },
     "execution_count": 13,
     "metadata": {},
     "output_type": "execute_result"
    }
   ],
   "source": [
    "# Check value counts.\n",
    "df4.caltrans_or_partner.value_counts()"
   ]
  },
  {
   "cell_type": "code",
   "execution_count": 21,
   "id": "c7c95e2c-c80e-4e58-b627-85a13ce5ec0c",
   "metadata": {},
   "outputs": [
    {
     "data": {
      "text/plain": [
       "not on the SHS         378\n",
       "possibly on the SHS    318\n",
       "on the SHS              47\n",
       "Name: On_SHS, dtype: int64"
      ]
     },
     "execution_count": 21,
     "metadata": {},
     "output_type": "execute_result"
    }
   ],
   "source": [
    "# Check value counts.\n",
    "df4.On_SHS.value_counts()"
   ]
  },
  {
   "cell_type": "code",
   "execution_count": 14,
   "id": "5cc153fd-3d92-4efa-9e32-5a94e418bbd0",
   "metadata": {},
   "outputs": [
    {
     "data": {
      "text/plain": [
       "9"
      ]
     },
     "execution_count": 14,
     "metadata": {},
     "output_type": "execute_result"
    }
   ],
   "source": [
    "# Total sentences\n",
    "df4.sentence.nunique()"
   ]
  },
  {
   "cell_type": "code",
   "execution_count": 15,
   "id": "c081ebd3-a356-4253-80dc-e8cf61d4dcac",
   "metadata": {},
   "outputs": [
    {
     "data": {
      "text/plain": [
       "The lead agency is a partner and the project is not on the SHS.         252\n",
       "The lead agency is unknown and the project is possibly on the SHS.      137\n",
       "The lead agency is Caltrans and the project is possibly on the SHS.      92\n",
       "The lead agency is a partner and the project is possibly on the SHS.     89\n",
       "The lead agency is unknown and the project is not on the SHS.            69\n",
       "The lead agency is Caltrans and the project is not on the SHS.           57\n",
       "The lead agency is unknown and the project is on the SHS.                25\n",
       "The lead agency is Caltrans and the project is on the SHS.               13\n",
       "The lead agency is a partner and the project is on the SHS.               9\n",
       "Name: sentence, dtype: int64"
      ]
     },
     "execution_count": 15,
     "metadata": {},
     "output_type": "execute_result"
    }
   ],
   "source": [
    "# Check value counts.\n",
    "df4.sentence.value_counts()"
   ]
  },
  {
   "cell_type": "code",
   "execution_count": 16,
   "id": "805ece0e-6619-4ecf-962e-d1ffbb5ac88a",
   "metadata": {},
   "outputs": [],
   "source": [
    "# Count combos with new dataframe to check results -> less rows because primary mode and secondary mode are \n",
    "# only coded as highway related or not highway related\n",
    "combos2 = df4.groupby(['sentence','shs_capacity_increase_detail_SHS', 'primary_mode_SHS',\n",
    "       'secondary_mode_SHS','caltrans_or_partner']).size().reset_index().rename(columns={0:'count'})"
   ]
  },
  {
   "cell_type": "code",
   "execution_count": 17,
   "id": "39e5b3e9-e756-482c-8aa2-87f25792a164",
   "metadata": {},
   "outputs": [
    {
     "data": {
      "text/html": [
       "<div>\n",
       "<style scoped>\n",
       "    .dataframe tbody tr th:only-of-type {\n",
       "        vertical-align: middle;\n",
       "    }\n",
       "\n",
       "    .dataframe tbody tr th {\n",
       "        vertical-align: top;\n",
       "    }\n",
       "\n",
       "    .dataframe thead th {\n",
       "        text-align: right;\n",
       "    }\n",
       "</style>\n",
       "<table border=\"1\" class=\"dataframe\">\n",
       "  <thead>\n",
       "    <tr style=\"text-align: right;\">\n",
       "      <th></th>\n",
       "      <th></th>\n",
       "      <th></th>\n",
       "      <th></th>\n",
       "      <th></th>\n",
       "      <th>count</th>\n",
       "    </tr>\n",
       "    <tr>\n",
       "      <th>sentence</th>\n",
       "      <th>shs_capacity_increase_detail_SHS</th>\n",
       "      <th>primary_mode_SHS</th>\n",
       "      <th>secondary_mode_SHS</th>\n",
       "      <th>caltrans_or_partner</th>\n",
       "      <th></th>\n",
       "    </tr>\n",
       "  </thead>\n",
       "  <tbody>\n",
       "    <tr>\n",
       "      <th>The lead agency is Caltrans and the project is not on the SHS.</th>\n",
       "      <th>not highway related</th>\n",
       "      <th>not highway related</th>\n",
       "      <th>not highway related</th>\n",
       "      <th>Caltrans</th>\n",
       "      <td>57</td>\n",
       "    </tr>\n",
       "    <tr>\n",
       "      <th>The lead agency is Caltrans and the project is on the SHS.</th>\n",
       "      <th>highway related</th>\n",
       "      <th>highway related</th>\n",
       "      <th>highway related</th>\n",
       "      <th>Caltrans</th>\n",
       "      <td>13</td>\n",
       "    </tr>\n",
       "    <tr>\n",
       "      <th rowspan=\"5\" valign=\"top\">The lead agency is Caltrans and the project is possibly on the SHS.</th>\n",
       "      <th rowspan=\"2\" valign=\"top\">highway related</th>\n",
       "      <th>highway related</th>\n",
       "      <th>not highway related</th>\n",
       "      <th>Caltrans</th>\n",
       "      <td>60</td>\n",
       "    </tr>\n",
       "    <tr>\n",
       "      <th>not highway related</th>\n",
       "      <th>not highway related</th>\n",
       "      <th>Caltrans</th>\n",
       "      <td>6</td>\n",
       "    </tr>\n",
       "    <tr>\n",
       "      <th rowspan=\"3\" valign=\"top\">not highway related</th>\n",
       "      <th rowspan=\"2\" valign=\"top\">highway related</th>\n",
       "      <th>highway related</th>\n",
       "      <th>Caltrans</th>\n",
       "      <td>6</td>\n",
       "    </tr>\n",
       "    <tr>\n",
       "      <th>not highway related</th>\n",
       "      <th>Caltrans</th>\n",
       "      <td>15</td>\n",
       "    </tr>\n",
       "    <tr>\n",
       "      <th>not highway related</th>\n",
       "      <th>highway related</th>\n",
       "      <th>Caltrans</th>\n",
       "      <td>5</td>\n",
       "    </tr>\n",
       "    <tr>\n",
       "      <th>The lead agency is a partner and the project is not on the SHS.</th>\n",
       "      <th>not highway related</th>\n",
       "      <th>not highway related</th>\n",
       "      <th>not highway related</th>\n",
       "      <th>a partner</th>\n",
       "      <td>252</td>\n",
       "    </tr>\n",
       "    <tr>\n",
       "      <th>The lead agency is a partner and the project is on the SHS.</th>\n",
       "      <th>highway related</th>\n",
       "      <th>highway related</th>\n",
       "      <th>highway related</th>\n",
       "      <th>a partner</th>\n",
       "      <td>9</td>\n",
       "    </tr>\n",
       "    <tr>\n",
       "      <th rowspan=\"6\" valign=\"top\">The lead agency is a partner and the project is possibly on the SHS.</th>\n",
       "      <th rowspan=\"3\" valign=\"top\">highway related</th>\n",
       "      <th>highway related</th>\n",
       "      <th>not highway related</th>\n",
       "      <th>a partner</th>\n",
       "      <td>50</td>\n",
       "    </tr>\n",
       "    <tr>\n",
       "      <th rowspan=\"2\" valign=\"top\">not highway related</th>\n",
       "      <th>highway related</th>\n",
       "      <th>a partner</th>\n",
       "      <td>1</td>\n",
       "    </tr>\n",
       "    <tr>\n",
       "      <th>not highway related</th>\n",
       "      <th>a partner</th>\n",
       "      <td>1</td>\n",
       "    </tr>\n",
       "    <tr>\n",
       "      <th rowspan=\"3\" valign=\"top\">not highway related</th>\n",
       "      <th rowspan=\"2\" valign=\"top\">highway related</th>\n",
       "      <th>highway related</th>\n",
       "      <th>a partner</th>\n",
       "      <td>1</td>\n",
       "    </tr>\n",
       "    <tr>\n",
       "      <th>not highway related</th>\n",
       "      <th>a partner</th>\n",
       "      <td>30</td>\n",
       "    </tr>\n",
       "    <tr>\n",
       "      <th>not highway related</th>\n",
       "      <th>highway related</th>\n",
       "      <th>a partner</th>\n",
       "      <td>6</td>\n",
       "    </tr>\n",
       "    <tr>\n",
       "      <th>The lead agency is unknown and the project is not on the SHS.</th>\n",
       "      <th>not highway related</th>\n",
       "      <th>not highway related</th>\n",
       "      <th>not highway related</th>\n",
       "      <th>unknown</th>\n",
       "      <td>69</td>\n",
       "    </tr>\n",
       "    <tr>\n",
       "      <th>The lead agency is unknown and the project is on the SHS.</th>\n",
       "      <th>highway related</th>\n",
       "      <th>highway related</th>\n",
       "      <th>highway related</th>\n",
       "      <th>unknown</th>\n",
       "      <td>25</td>\n",
       "    </tr>\n",
       "    <tr>\n",
       "      <th rowspan=\"6\" valign=\"top\">The lead agency is unknown and the project is possibly on the SHS.</th>\n",
       "      <th rowspan=\"3\" valign=\"top\">highway related</th>\n",
       "      <th>highway related</th>\n",
       "      <th>not highway related</th>\n",
       "      <th>unknown</th>\n",
       "      <td>108</td>\n",
       "    </tr>\n",
       "    <tr>\n",
       "      <th rowspan=\"2\" valign=\"top\">not highway related</th>\n",
       "      <th>highway related</th>\n",
       "      <th>unknown</th>\n",
       "      <td>1</td>\n",
       "    </tr>\n",
       "    <tr>\n",
       "      <th>not highway related</th>\n",
       "      <th>unknown</th>\n",
       "      <td>3</td>\n",
       "    </tr>\n",
       "    <tr>\n",
       "      <th rowspan=\"3\" valign=\"top\">not highway related</th>\n",
       "      <th rowspan=\"2\" valign=\"top\">highway related</th>\n",
       "      <th>highway related</th>\n",
       "      <th>unknown</th>\n",
       "      <td>1</td>\n",
       "    </tr>\n",
       "    <tr>\n",
       "      <th>not highway related</th>\n",
       "      <th>unknown</th>\n",
       "      <td>18</td>\n",
       "    </tr>\n",
       "    <tr>\n",
       "      <th>not highway related</th>\n",
       "      <th>highway related</th>\n",
       "      <th>unknown</th>\n",
       "      <td>6</td>\n",
       "    </tr>\n",
       "  </tbody>\n",
       "</table>\n",
       "</div>"
      ],
      "text/plain": [
       "                                                                                                                                                                   count\n",
       "sentence                                                             shs_capacity_increase_detail_SHS primary_mode_SHS    secondary_mode_SHS  caltrans_or_partner       \n",
       "The lead agency is Caltrans and the project is not on the SHS.       not highway related              not highway related not highway related Caltrans                57\n",
       "The lead agency is Caltrans and the project is on the SHS.           highway related                  highway related     highway related     Caltrans                13\n",
       "The lead agency is Caltrans and the project is possibly on the SHS.  highway related                  highway related     not highway related Caltrans                60\n",
       "                                                                                                      not highway related not highway related Caltrans                 6\n",
       "                                                                     not highway related              highway related     highway related     Caltrans                 6\n",
       "                                                                                                                          not highway related Caltrans                15\n",
       "                                                                                                      not highway related highway related     Caltrans                 5\n",
       "The lead agency is a partner and the project is not on the SHS.      not highway related              not highway related not highway related a partner              252\n",
       "The lead agency is a partner and the project is on the SHS.          highway related                  highway related     highway related     a partner                9\n",
       "The lead agency is a partner and the project is possibly on the SHS. highway related                  highway related     not highway related a partner               50\n",
       "                                                                                                      not highway related highway related     a partner                1\n",
       "                                                                                                                          not highway related a partner                1\n",
       "                                                                     not highway related              highway related     highway related     a partner                1\n",
       "                                                                                                                          not highway related a partner               30\n",
       "                                                                                                      not highway related highway related     a partner                6\n",
       "The lead agency is unknown and the project is not on the SHS.        not highway related              not highway related not highway related unknown                 69\n",
       "The lead agency is unknown and the project is on the SHS.            highway related                  highway related     highway related     unknown                 25\n",
       "The lead agency is unknown and the project is possibly on the SHS.   highway related                  highway related     not highway related unknown                108\n",
       "                                                                                                      not highway related highway related     unknown                  1\n",
       "                                                                                                                          not highway related unknown                  3\n",
       "                                                                     not highway related              highway related     highway related     unknown                  1\n",
       "                                                                                                                          not highway related unknown                 18\n",
       "                                                                                                      not highway related highway related     unknown                  6"
      ]
     },
     "execution_count": 17,
     "metadata": {},
     "output_type": "execute_result"
    }
   ],
   "source": [
    "combos2.groupby(['sentence','shs_capacity_increase_detail_SHS', 'primary_mode_SHS',\n",
    "       'secondary_mode_SHS','caltrans_or_partner']).agg({'count':'sum'})"
   ]
  },
  {
   "cell_type": "code",
   "execution_count": 18,
   "id": "6473847b-1921-42a6-a58a-d2e2368eaf55",
   "metadata": {
    "scrolled": true,
    "tags": []
   },
   "outputs": [],
   "source": [
    "# combos2.sort_values('count',ascending = False)"
   ]
  },
  {
   "cell_type": "code",
   "execution_count": 19,
   "id": "8c047eaf-f2b0-4aa3-9902-26f4985cc2de",
   "metadata": {
    "tags": []
   },
   "outputs": [],
   "source": [
    "# (df4.loc[df4['sentence'] == \"The lead agency is Caltrans and the project is on the SHS.\"])"
   ]
  }
 ],
 "metadata": {
  "kernelspec": {
   "display_name": "Python 3 (ipykernel)",
   "language": "python",
   "name": "python3"
  },
  "language_info": {
   "codemirror_mode": {
    "name": "ipython",
    "version": 3
   },
   "file_extension": ".py",
   "mimetype": "text/x-python",
   "name": "python",
   "nbconvert_exporter": "python",
   "pygments_lexer": "ipython3",
   "version": "3.10.6"
  }
 },
 "nbformat": 4,
 "nbformat_minor": 5
}
