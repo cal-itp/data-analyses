{
 "cells": [
  {
   "cell_type": "markdown",
   "id": "366bbf07-25c1-4e2b-9f36-3da9300eed01",
   "metadata": {},
   "source": [
    "## Autotagging projects\n",
    "* Who is the lead agency? \n",
    "    * Agency in this project = the entity who is receiving funding for this project.\n",
    "* Is this project on or off the SHS or both?\n",
    "* How to tell if a project criss-crosses the SHS?"
   ]
  },
  {
   "cell_type": "code",
   "execution_count": 1,
   "id": "cb0acac2-b33c-4110-a5ca-f6fbb3a3b077",
   "metadata": {},
   "outputs": [
    {
     "name": "stderr",
     "output_type": "stream",
     "text": [
      "/opt/conda/lib/python3.10/site-packages/geopandas/_compat.py:123: UserWarning: The Shapely GEOS version (3.10.3-CAPI-1.16.1) is incompatible with the GEOS version PyGEOS was compiled with (3.10.1-CAPI-1.16.0). Conversions between both will be slow.\n"
     ]
    }
   ],
   "source": [
    "import pandas as pd\n",
    "\n",
    "# Settings\n",
    "pd.options.display.max_columns = 100\n",
    "pd.set_option(\"display.max_rows\", None)\n",
    "pd.set_option(\"display.max_colwidth\", None)\n",
    "pd.options.display.float_format = \"{:,.2f}\".format\n",
    "\n",
    "GCS_FILE_PATH = \"gs://calitp-analytics-data/data-analyses/project_prioritization/\"\n",
    "FILE = \"fake_data.xlsx\"\n",
    "\n",
    "# My utilities\n",
    "import _utils"
   ]
  },
  {
   "cell_type": "markdown",
   "id": "68cea8db-e858-4692-9257-f2d04e1d6a5f",
   "metadata": {},
   "source": [
    "### Preliminary"
   ]
  },
  {
   "cell_type": "code",
   "execution_count": 2,
   "id": "8f62cd95-e8f5-4e4a-9289-8ac8b72e0f3f",
   "metadata": {},
   "outputs": [],
   "source": [
    "# Read in file\n",
    "df = pd.read_excel(f\"{GCS_FILE_PATH}{FILE}\", sheet_name=\"fake\")"
   ]
  },
  {
   "cell_type": "code",
   "execution_count": 3,
   "id": "393b29b4-3fa3-45ec-97c4-b2a007251600",
   "metadata": {},
   "outputs": [],
   "source": [
    "# Subset to columns I want. \n",
    "df2 = df[['project_name', 'lead_agency','primary_mode',\n",
    "       'secondary_mode_s_','shs_capacity_increase_detail',]]"
   ]
  },
  {
   "cell_type": "code",
   "execution_count": 4,
   "id": "5c528d8f-75d2-4e93-8510-a4e46d1dd5b3",
   "metadata": {},
   "outputs": [
    {
     "data": {
      "text/plain": [
       "\"\\nfor i in ['primary_mode',\\n       'secondary_mode_s_','shs_capacity_increase_detail',]:\\n    df2[i] = df2[i].str.lower()\\n\""
      ]
     },
     "execution_count": 4,
     "metadata": {},
     "output_type": "execute_result"
    }
   ],
   "source": [
    "\"\"\"\n",
    "for i in ['primary_mode',\n",
    "       'secondary_mode_s_','shs_capacity_increase_detail',]:\n",
    "    df2[i] = df2[i].str.lower()\n",
    "\"\"\""
   ]
  },
  {
   "cell_type": "code",
   "execution_count": 5,
   "id": "88cb3f33-7454-4d48-b56e-6d50f1edcc10",
   "metadata": {
    "scrolled": true,
    "tags": []
   },
   "outputs": [
    {
     "name": "stdout",
     "output_type": "stream",
     "text": [
      "primary_mode              \n",
      "Highway                       203\n",
      "Rail (Passenger)              122\n",
      "Bike/Pedestrian                90\n",
      "Interchange (Modification)     62\n",
      "Rail (Freight)                 37\n",
      "Interchange (New)              33\n",
      "Grade Crossing                 32\n",
      "Interchange (Widening)         32\n",
      "Complete Streets               27\n",
      "Port                           26\n",
      "Transit                        22\n",
      "Bridge                         17\n",
      "Grade Separation               11\n",
      "Local Roadway                  10\n",
      "Its                             6\n",
      "Zev                             6\n",
      "Roundabout                      4\n",
      "Truck Parking                   2\n",
      "None                            1\n",
      "dtype: int64\n",
      "secondary_mode_s_                                                                                \n",
      "None                                                                                                 492\n",
      "Highway                                                                                               57\n",
      "Bike/Pedestrian                                                                                       41\n",
      "ZEV                                                                                                   32\n",
      "Complete Streets                                                                                      14\n",
      "Transit                                                                                               11\n",
      "Bridge                                                                                                 9\n",
      "Bike/Pedestrian\\nComplete Streets\\nITS\\nTransit                                                        5\n",
      "Rail (Passenger)                                                                                       5\n",
      "Bike/Pedestrian\\nComplete Streets                                                                      4\n",
      "Bike/Pedestrian\\nITS                                                                                   4\n",
      "ITS                                                                                                    4\n",
      "Bike/Pedestrian\\nTransit                                                                               4\n",
      "Local Roadway                                                                                          3\n",
      "Bike/Pedestrian\\nBridge                                                                                3\n",
      "Port                                                                                                   3\n",
      "Rail (Freight)                                                                                         3\n",
      "Bike/Pedestrian\\nLocal Roadway                                                                         3\n",
      "Bike/Pedestrian\\nInterchange (Modification)                                                            3\n",
      "Bike/Pedestrian\\nHighway                                                                               3\n",
      "Bike/Pedestrian\\nComplete Streets\\nTransit                                                             3\n",
      "Grade Separation                                                                                       2\n",
      "Rail (Passenger)\\nTransit                                                                              2\n",
      "Bike/Pedestrian\\nComplete Streets\\nRail (Passenger)                                                    2\n",
      "Bike/Pedestrian\\nComplete Streets\\nGrade Crossing\\nPort\\nRail (Freight)\\nTransit                       2\n",
      "Bike/Pedestrian\\nGrade Crossing\\nRail (Freight)                                                        2\n",
      "Roundabout                                                                                             1\n",
      "Bike/Pedestrian\\nComplete Streets\\nGrade Crossing\\nITS\\nRail (Freight)\\nRail (Passenger)\\nTransit      1\n",
      "Truck Parking                                                                                          1\n",
      "ITS\\nZEV                                                                                               1\n",
      "ITS\\nTransit                                                                                           1\n",
      "Wildlife Crossing                                                                                      1\n",
      "Highway\\nZEV                                                                                           1\n",
      "Highway\\nITS                                                                                           1\n",
      "Highway\\nITS\\nTransit\\nZEV                                                                             1\n",
      "Bike/Pedestrian\\nBridge\\nComplete Streets                                                              1\n",
      "Complete Streets\\nITS                                                                                  1\n",
      "Grade Separation\\nInterchange (New)                                                                    1\n",
      "Grade Crossing\\nHighway\\nRail (Freight)                                                                1\n",
      "Grade Crossing\\nHighway                                                                                1\n",
      "Bike/Pedestrian\\nComplete Streets\\nHighway                                                             1\n",
      "Complete Streets\\nHighway                                                                              1\n",
      "Bike/Pedestrian\\nComplete Streets\\nGrade Crossing\\nITS\\nPort\\nRail (Freight)\\nTransit                  1\n",
      "CVEF                                                                                                   1\n",
      "Bike/Pedestrian\\nZEV                                                                                   1\n",
      "Bike/Pedestrian\\nRail (Passenger)                                                                      1\n",
      "Bike/Pedestrian\\nITS\\nTransit                                                                          1\n",
      "Bike/Pedestrian\\nGrade Crossing\\nRail (Freight)\\nTransit                                               1\n",
      "Bike/Pedestrian\\nGrade Crossing\\nITS\\nRail (Freight)\\nTransit                                          1\n",
      "Bike/Pedestrian\\nComplete Streets\\nRail (Freight)\\nRail (Passenger)\\nTransit                           1\n",
      "Bike/Pedestrian\\nComplete Streets\\nHighway\\nTransit                                                    1\n",
      "Bike/Pedestrian\\nComplete Streets\\nHighway\\nITS\\nTransit                                               1\n",
      "Bike/Pedestrian\\nComplete Streets\\nGrade Crossing\\nHighway\\nRail (Freight)                             1\n",
      "dtype: int64\n",
      "shs_capacity_increase_detail                                             \n",
      "None                                                                         461\n",
      "General Purpose Lane                                                          81\n",
      "Interchange (Modification)                                                    35\n",
      "Interchange (New)                                                             29\n",
      "Managed Lane                                                                  22\n",
      "Interchange (Widening)                                                        17\n",
      "Auxiliary Lane                                                                16\n",
      "Express Lane                                                                  13\n",
      "General Purpose Lane\\nInterchange (Widening)                                  10\n",
      "General Purpose Lane\\nInterchange (New)                                        6\n",
      "General Purpose Lane\\nInterchange (Modification)                               4\n",
      "Local Roadway                                                                  4\n",
      "Truck Climbing Lane                                                            4\n",
      "Managed Lanes Addition                                                         4\n",
      "Auxiliary Lane\\nGeneral Purpose Lane                                           3\n",
      "Express Lane (Conversion)                                                      3\n",
      "Auxiliary Lane\\nInterchange (Modification)                                     2\n",
      "Auxiliary Lane\\nInterchange (Widening)                                         2\n",
      "Auxiliary Lane\\nExpress Lane (Addition)                                        2\n",
      "Express Lane (Addition)                                                        2\n",
      "Interchange (Widening)\\nManaged Lane                                           1\n",
      "Auxiliary Lane\\nBus on Shoulder                                                1\n",
      "New Connector Road                                                             1\n",
      "Managed Lane (Conversion)                                                      1\n",
      "Managed Lane (Addition)                                                        1\n",
      "Auxiliary Lane\\nBus on Shoulder\\nInterchange (Modification)                    1\n",
      "Transit/Bus-Only Lane (Addition)                                               1\n",
      "Truck climbing lane                                                            1\n",
      "Truck-Only Lane (Addition)                                                     1\n",
      "Auxiliary Lane\\nInterchange (New)\\nLocal roadway                               1\n",
      "Auxiliary Lane\\nGeneral Purpose Lane\\nInterchange (Widening)                   1\n",
      "Interchange (Modification)\\nLocal Roadway                                      1\n",
      "General Purpose Lane\\nTruck Climbing Lane                                      1\n",
      "General Purpose Lane\\nManaged Lane (Addition)\\nTruck-Only Lane (Addition)      1\n",
      "General Purpose Lane\\nManaged Lane                                             1\n",
      "General Purpose Lane\\nInterchange (Widening)\\nManaged Lane                     1\n",
      "Auxiliary Lane\\nBridge\\nInterchange (New)                                      1\n",
      "Express Lane (Addition)\\nExpress Lane (Conversion)                             1\n",
      "Auxiliary Lane\\nInterchange (New)                                              1\n",
      "Auxiliary Lane\\nTruck Climbing Lane                                            1\n",
      "Auxiliary Lane\\nManaged Lane (Addition)                                        1\n",
      "Auxiliary Lane\\nInterchange (Widening)\\nLocal Roadway                          1\n",
      "Truck-only lane                                                                1\n",
      "dtype: int64\n"
     ]
    }
   ],
   "source": [
    "# Check out all values\n",
    "for i in ['primary_mode',\n",
    "       'secondary_mode_s_','shs_capacity_increase_detail',]:\n",
    "    print(df2[[i]].value_counts())"
   ]
  },
  {
   "cell_type": "markdown",
   "id": "db1646bf-457a-48a0-bf19-6f2e5732f7eb",
   "metadata": {},
   "source": [
    "### Function #1\n",
    "* Tag whether values in a column are \"highway related\" before figuring out if they are on the SHS or not. \n",
    "* SHS Capacity Increase Detail is only populated with something besides \"None\" if it isn't SHS related, so there's no need to apply the function.\n",
    "* Only have to tag primary and secondary mode."
   ]
  },
  {
   "cell_type": "code",
   "execution_count": 6,
   "id": "cabda91c-378b-44f2-901a-7c99df1cb8a1",
   "metadata": {},
   "outputs": [],
   "source": [
    "def tagging_columns(df, tagging_col:str, new_col:str, keyword_list: list):\n",
    "    '''\n",
    "    Search through a column for keywords. \n",
    "    \n",
    "    Args\n",
    "    df: the dataframe.\n",
    "    tagging_col (str): the column to search for the appearance of keywords. \n",
    "    new_col (str): input whether or not the keyword was found.\n",
    "    keyword_list (list): list of keywords to search through.\n",
    "    \n",
    "    Returns: a dataframe with a new column stating whether \n",
    "    the keyword(s) were found or not.\n",
    "    '''\n",
    "    # Delinate items in keywords list using |\n",
    "    keywords = f\"({'|'.join(keyword_list)})\"\n",
    "    \n",
    "    # Lower the strings in the column of interest \n",
    "    df[tagging_col] =  df[tagging_col].str.lower()\n",
    "    \n",
    "    # Create a new column that captures whether or not the keyword appears\n",
    "    # Using str contains so interchange (new) and interchange (modifying) will appear.\n",
    "    df[\"keyword_appears_bool\"] = df[tagging_col].str.contains(keywords)\n",
    "    \n",
    "    # Function to categorize whether something is highway related or not. \n",
    "    def highway_or_not(row):\n",
    "        if row[\"keyword_appears_bool\"] == True:\n",
    "            return \"highway related\"\n",
    "        else:\n",
    "            return \"not highway related\"\n",
    "             \n",
    "    # Apply function \n",
    "    df[new_col] = df.apply(lambda x: highway_or_not(x), axis=1)\n",
    "             \n",
    "    # Drop keyword col\n",
    "    df = df.drop(columns = [\"keyword_appears_bool\"]) \n",
    "   \n",
    "    return df "
   ]
  },
  {
   "cell_type": "code",
   "execution_count": 7,
   "id": "66b52ebe-5766-4120-b826-6c778a58e9fa",
   "metadata": {},
   "outputs": [
    {
     "name": "stderr",
     "output_type": "stream",
     "text": [
      "/tmp/ipykernel_1457/3589511927.py:18: SettingWithCopyWarning: \n",
      "A value is trying to be set on a copy of a slice from a DataFrame.\n",
      "Try using .loc[row_indexer,col_indexer] = value instead\n",
      "\n",
      "See the caveats in the documentation: https://pandas.pydata.org/pandas-docs/stable/user_guide/indexing.html#returning-a-view-versus-a-copy\n",
      "/tmp/ipykernel_1457/3589511927.py:22: UserWarning: This pattern is interpreted as a regular expression, and has match groups. To actually get the groups, use str.extract.\n",
      "/tmp/ipykernel_1457/3589511927.py:22: SettingWithCopyWarning: \n",
      "A value is trying to be set on a copy of a slice from a DataFrame.\n",
      "Try using .loc[row_indexer,col_indexer] = value instead\n",
      "\n",
      "See the caveats in the documentation: https://pandas.pydata.org/pandas-docs/stable/user_guide/indexing.html#returning-a-view-versus-a-copy\n",
      "/tmp/ipykernel_1457/3589511927.py:32: SettingWithCopyWarning: \n",
      "A value is trying to be set on a copy of a slice from a DataFrame.\n",
      "Try using .loc[row_indexer,col_indexer] = value instead\n",
      "\n",
      "See the caveats in the documentation: https://pandas.pydata.org/pandas-docs/stable/user_guide/indexing.html#returning-a-view-versus-a-copy\n"
     ]
    }
   ],
   "source": [
    "df3 = tagging_columns(df2, \"primary_mode\", \"primary_mode_SHS\", ['highway', 'its',\n",
    "       'interchange',])"
   ]
  },
  {
   "cell_type": "code",
   "execution_count": 8,
   "id": "8d920876-22b5-4e25-ad82-7d8d8bf75f91",
   "metadata": {},
   "outputs": [
    {
     "data": {
      "text/html": [
       "<div>\n",
       "<style scoped>\n",
       "    .dataframe tbody tr th:only-of-type {\n",
       "        vertical-align: middle;\n",
       "    }\n",
       "\n",
       "    .dataframe tbody tr th {\n",
       "        vertical-align: top;\n",
       "    }\n",
       "\n",
       "    .dataframe thead th {\n",
       "        text-align: right;\n",
       "    }\n",
       "</style>\n",
       "<table border=\"1\" class=\"dataframe\">\n",
       "  <thead>\n",
       "    <tr style=\"text-align: right;\">\n",
       "      <th></th>\n",
       "      <th>primary_mode</th>\n",
       "      <th>primary_mode_SHS</th>\n",
       "    </tr>\n",
       "  </thead>\n",
       "  <tbody>\n",
       "    <tr>\n",
       "      <th>231</th>\n",
       "      <td>highway</td>\n",
       "      <td>highway related</td>\n",
       "    </tr>\n",
       "    <tr>\n",
       "      <th>564</th>\n",
       "      <td>rail (passenger)</td>\n",
       "      <td>not highway related</td>\n",
       "    </tr>\n",
       "    <tr>\n",
       "      <th>689</th>\n",
       "      <td>highway</td>\n",
       "      <td>highway related</td>\n",
       "    </tr>\n",
       "    <tr>\n",
       "      <th>141</th>\n",
       "      <td>roundabout</td>\n",
       "      <td>not highway related</td>\n",
       "    </tr>\n",
       "    <tr>\n",
       "      <th>196</th>\n",
       "      <td>interchange (modification)</td>\n",
       "      <td>highway related</td>\n",
       "    </tr>\n",
       "    <tr>\n",
       "      <th>176</th>\n",
       "      <td>highway</td>\n",
       "      <td>highway related</td>\n",
       "    </tr>\n",
       "    <tr>\n",
       "      <th>213</th>\n",
       "      <td>interchange (new)</td>\n",
       "      <td>highway related</td>\n",
       "    </tr>\n",
       "    <tr>\n",
       "      <th>392</th>\n",
       "      <td>highway</td>\n",
       "      <td>highway related</td>\n",
       "    </tr>\n",
       "    <tr>\n",
       "      <th>242</th>\n",
       "      <td>highway</td>\n",
       "      <td>highway related</td>\n",
       "    </tr>\n",
       "    <tr>\n",
       "      <th>108</th>\n",
       "      <td>highway</td>\n",
       "      <td>highway related</td>\n",
       "    </tr>\n",
       "  </tbody>\n",
       "</table>\n",
       "</div>"
      ],
      "text/plain": [
       "                   primary_mode     primary_mode_SHS\n",
       "231                     highway      highway related\n",
       "564            rail (passenger)  not highway related\n",
       "689                     highway      highway related\n",
       "141                  roundabout  not highway related\n",
       "196  interchange (modification)      highway related\n",
       "176                     highway      highway related\n",
       "213           interchange (new)      highway related\n",
       "392                     highway      highway related\n",
       "242                     highway      highway related\n",
       "108                     highway      highway related"
      ]
     },
     "execution_count": 8,
     "metadata": {},
     "output_type": "execute_result"
    }
   ],
   "source": [
    "# Preview that this is correct\n",
    "df3[['primary_mode','primary_mode_SHS']].sample(10)"
   ]
  },
  {
   "cell_type": "code",
   "execution_count": 9,
   "id": "d8060217-6459-4e72-9dbd-a9eabfa6d6bd",
   "metadata": {},
   "outputs": [
    {
     "name": "stderr",
     "output_type": "stream",
     "text": [
      "/tmp/ipykernel_1457/3589511927.py:18: SettingWithCopyWarning: \n",
      "A value is trying to be set on a copy of a slice from a DataFrame.\n",
      "Try using .loc[row_indexer,col_indexer] = value instead\n",
      "\n",
      "See the caveats in the documentation: https://pandas.pydata.org/pandas-docs/stable/user_guide/indexing.html#returning-a-view-versus-a-copy\n",
      "/tmp/ipykernel_1457/3589511927.py:22: UserWarning: This pattern is interpreted as a regular expression, and has match groups. To actually get the groups, use str.extract.\n",
      "/tmp/ipykernel_1457/3589511927.py:22: SettingWithCopyWarning: \n",
      "A value is trying to be set on a copy of a slice from a DataFrame.\n",
      "Try using .loc[row_indexer,col_indexer] = value instead\n",
      "\n",
      "See the caveats in the documentation: https://pandas.pydata.org/pandas-docs/stable/user_guide/indexing.html#returning-a-view-versus-a-copy\n",
      "/tmp/ipykernel_1457/3589511927.py:32: SettingWithCopyWarning: \n",
      "A value is trying to be set on a copy of a slice from a DataFrame.\n",
      "Try using .loc[row_indexer,col_indexer] = value instead\n",
      "\n",
      "See the caveats in the documentation: https://pandas.pydata.org/pandas-docs/stable/user_guide/indexing.html#returning-a-view-versus-a-copy\n"
     ]
    }
   ],
   "source": [
    "df3 = tagging_columns(df2, \"secondary_mode_s_\", \"secondary_mode_SHS\", [\"highway\", \"lane\", \"interchange\"])"
   ]
  },
  {
   "cell_type": "code",
   "execution_count": 11,
   "id": "4932e4ba-0c16-4e02-ba5f-e135c33dd03c",
   "metadata": {},
   "outputs": [],
   "source": [
    "# Apply the function\n",
    "df3[\"testing\"] = df3.apply(CT_or_partner, axis=1)"
   ]
  },
  {
   "cell_type": "markdown",
   "id": "2f1d46b3-dcd1-42ea-909e-0832f349de37",
   "metadata": {},
   "source": [
    "### Function 2\n",
    "* Apply a function to summarizes the results in a comprehensive sentence.\n",
    "    "
   ]
  },
  {
   "cell_type": "code",
   "execution_count": 12,
   "id": "477cc8a6-0af8-4ee1-b7ae-6c5319d8fb52",
   "metadata": {},
   "outputs": [],
   "source": [
    "def SHS_lead_agency_info(df): \n",
    "    \n",
    "    # Lower strings. \n",
    "    for i in ['primary_mode','secondary_mode_s_','shs_capacity_increase_detail',]:\n",
    "        df[i] = df[i].str.lower()\n",
    "    \n",
    "    # Tag if the lead agency is Caltrans or a partner. \n",
    "    def CT_or_partner(row):\n",
    "        # If SHS is filled with somethign BESIDES none: on SHS. \n",
    "        if (row.lead_agency == \"None\"):\n",
    "            return \"unknown\" \n",
    "        # Everything else is not on SHS.\n",
    "        if (row.lead_agency == \"Caltrans\"):\n",
    "            return \"Caltrans\" \n",
    "        else:\n",
    "            return \"a partner\"     \n",
    "        \n",
    "    # Apply the function\n",
    "    df[\"caltrans_or_partner\"] = df.apply(CT_or_partner, axis=1)  \n",
    "    \n",
    "    # Tag if a project is on the SHS or not thorugh various combos.\n",
    "    def on_SHS(row):\n",
    "        # If secondary mode is highway related and shs_capacity_increase_detail isn't none: on SHS. \n",
    "        if (row.secondary_mode_SHS == \"highway related\") and (row.shs_capacity_increase_detail != \"none\"):\n",
    "            return \"on the SHS\"\n",
    "        # Same thing as above but with primary mode. \n",
    "        if (row.primary_mode_SHS == \"highway related\") and (row.shs_capacity_increase_detail != \"none\"):\n",
    "            return \"on the SHS\"\n",
    "        # If both secondary & primary are highway, SHS isn't none, and lead agency is Caltrans: on SHS.\n",
    "        if (row.secondary_mode_SHS == \"highway related\") and (row.primary_mode_SHS == \"highway related\") and (row.shs_capacity_increase_detail != \"none\")  and (row.caltrans_or_partner == \"Caltrans\"):\n",
    "            return \"on the SHS\"\n",
    "        # If both secondary & primary are highway related and lead agency is Caltrans: on SHS.\n",
    "        if (row.secondary_mode_SHS == \"highway related\") and (row.primary_mode_SHS == \"highway related\") and (row.caltrans_or_partner == \"Caltrans\"):\n",
    "            return \"on the SHS\"\n",
    "        # If SHS is filled with somethign BESIDES none: on SHS. \n",
    "        if (row.shs_capacity_increase_detail != \"none\"):\n",
    "            return \"on the SHS\" \n",
    "        # Everything else is not on SHS.\n",
    "        else:\n",
    "            return \"not on the SHS\"\n",
    "    \n",
    "    # Apply the function\n",
    "    df[\"On_SHS\"] = df.apply(on_SHS, axis=1)\n",
    "    \n",
    "    # Create a sentence that summarizes the lead agency and whether the project is on the SHS or not. \n",
    "    df['sentence'] = 'The lead agency is ' + df['caltrans_or_partner'] + ' and the project is ' + df['On_SHS'] + '.'\n",
    "    \n",
    "    return df"
   ]
  },
  {
   "cell_type": "code",
   "execution_count": 13,
   "id": "709b50b3-8fc9-43b0-9ebe-0445ad94a775",
   "metadata": {
    "tags": []
   },
   "outputs": [],
   "source": [
    "df4 = SHS_lead_agency_info(df3) "
   ]
  },
  {
   "cell_type": "code",
   "execution_count": 14,
   "id": "c081ebd3-a356-4253-80dc-e8cf61d4dcac",
   "metadata": {},
   "outputs": [
    {
     "data": {
      "text/plain": [
       "The lead agency is a partner and the project is not on the SHS.    287\n",
       "The lead agency is unknown and the project is on the SHS.          138\n",
       "The lead agency is unknown and the project is not on the SHS.       93\n",
       "The lead agency is Caltrans and the project is on the SHS.          85\n",
       "The lead agency is Caltrans and the project is not on the SHS.      77\n",
       "The lead agency is a partner and the project is on the SHS.         63\n",
       "Name: sentence, dtype: int64"
      ]
     },
     "execution_count": 14,
     "metadata": {},
     "output_type": "execute_result"
    }
   ],
   "source": [
    "# Check value counts.\n",
    "df4.sentence.value_counts()"
   ]
  },
  {
   "cell_type": "code",
   "execution_count": 15,
   "id": "073b5c2d-9e4e-4a65-9a00-03235557ad4b",
   "metadata": {},
   "outputs": [
    {
     "data": {
      "text/plain": [
       "a partner    350\n",
       "unknown      231\n",
       "Caltrans     162\n",
       "Name: caltrans_or_partner, dtype: int64"
      ]
     },
     "execution_count": 15,
     "metadata": {},
     "output_type": "execute_result"
    }
   ],
   "source": [
    "# Check value counts.\n",
    "df4.caltrans_or_partner.value_counts()"
   ]
  },
  {
   "cell_type": "code",
   "execution_count": 16,
   "id": "0d24be89-1540-45c7-b849-949dbae8e20f",
   "metadata": {},
   "outputs": [
    {
     "data": {
      "text/plain": [
       "(743, 743)"
      ]
     },
     "execution_count": 16,
     "metadata": {},
     "output_type": "execute_result"
    }
   ],
   "source": [
    "# Make sure every row is tagged. \n",
    "df4.sentence.count(), len(df4)"
   ]
  },
  {
   "cell_type": "code",
   "execution_count": 19,
   "id": "68656cd7-36be-46f6-bcf7-13a573bf6b74",
   "metadata": {
    "tags": []
   },
   "outputs": [
    {
     "data": {
      "text/html": [
       "<div>\n",
       "<style scoped>\n",
       "    .dataframe tbody tr th:only-of-type {\n",
       "        vertical-align: middle;\n",
       "    }\n",
       "\n",
       "    .dataframe tbody tr th {\n",
       "        vertical-align: top;\n",
       "    }\n",
       "\n",
       "    .dataframe thead th {\n",
       "        text-align: right;\n",
       "    }\n",
       "</style>\n",
       "<table border=\"1\" class=\"dataframe\">\n",
       "  <thead>\n",
       "    <tr style=\"text-align: right;\">\n",
       "      <th></th>\n",
       "      <th>project_name</th>\n",
       "      <th>lead_agency</th>\n",
       "      <th>primary_mode</th>\n",
       "      <th>secondary_mode_s_</th>\n",
       "      <th>shs_capacity_increase_detail</th>\n",
       "      <th>primary_mode_SHS</th>\n",
       "      <th>secondary_mode_SHS</th>\n",
       "      <th>testing</th>\n",
       "      <th>caltrans_or_partner</th>\n",
       "      <th>On_SHS</th>\n",
       "      <th>sentence</th>\n",
       "    </tr>\n",
       "  </thead>\n",
       "  <tbody>\n",
       "    <tr>\n",
       "      <th>700</th>\n",
       "      <td>Jackson Street In Riverside</td>\n",
       "      <td>Caltrans</td>\n",
       "      <td>grade separation</td>\n",
       "      <td>none</td>\n",
       "      <td>none</td>\n",
       "      <td>not highway related</td>\n",
       "      <td>not highway related</td>\n",
       "      <td>Caltrans</td>\n",
       "      <td>Caltrans</td>\n",
       "      <td>not on the SHS</td>\n",
       "      <td>The lead agency is Caltrans and the project is not on the SHS.</td>\n",
       "    </tr>\n",
       "    <tr>\n",
       "      <th>25</th>\n",
       "      <td>Sagehen Adin Its</td>\n",
       "      <td>Caltrans</td>\n",
       "      <td>its</td>\n",
       "      <td>none</td>\n",
       "      <td>none</td>\n",
       "      <td>highway related</td>\n",
       "      <td>not highway related</td>\n",
       "      <td>Caltrans</td>\n",
       "      <td>Caltrans</td>\n",
       "      <td>not on the SHS</td>\n",
       "      <td>The lead agency is Caltrans and the project is not on the SHS.</td>\n",
       "    </tr>\n",
       "    <tr>\n",
       "      <th>2</th>\n",
       "      <td>Arcata Cap &amp; Humboldt Area Rapid Transit</td>\n",
       "      <td>Caltrans</td>\n",
       "      <td>transit</td>\n",
       "      <td>highway</td>\n",
       "      <td>none</td>\n",
       "      <td>not highway related</td>\n",
       "      <td>highway related</td>\n",
       "      <td>Caltrans</td>\n",
       "      <td>Caltrans</td>\n",
       "      <td>not on the SHS</td>\n",
       "      <td>The lead agency is Caltrans and the project is not on the SHS.</td>\n",
       "    </tr>\n",
       "  </tbody>\n",
       "</table>\n",
       "</div>"
      ],
      "text/plain": [
       "                                 project_name lead_agency      primary_mode  \\\n",
       "700               Jackson Street In Riverside    Caltrans  grade separation   \n",
       "25                           Sagehen Adin Its    Caltrans               its   \n",
       "2    Arcata Cap & Humboldt Area Rapid Transit    Caltrans           transit   \n",
       "\n",
       "    secondary_mode_s_ shs_capacity_increase_detail     primary_mode_SHS  \\\n",
       "700              none                         none  not highway related   \n",
       "25               none                         none      highway related   \n",
       "2             highway                         none  not highway related   \n",
       "\n",
       "      secondary_mode_SHS   testing caltrans_or_partner          On_SHS  \\\n",
       "700  not highway related  Caltrans            Caltrans  not on the SHS   \n",
       "25   not highway related  Caltrans            Caltrans  not on the SHS   \n",
       "2        highway related  Caltrans            Caltrans  not on the SHS   \n",
       "\n",
       "                                                           sentence  \n",
       "700  The lead agency is Caltrans and the project is not on the SHS.  \n",
       "25   The lead agency is Caltrans and the project is not on the SHS.  \n",
       "2    The lead agency is Caltrans and the project is not on the SHS.  "
      ]
     },
     "execution_count": 19,
     "metadata": {},
     "output_type": "execute_result"
    }
   ],
   "source": [
    "df4.loc[df4['sentence'] == 'The lead agency is Caltrans and the project is not on the SHS.'].sample(3)"
   ]
  }
 ],
 "metadata": {
  "kernelspec": {
   "display_name": "Python 3 (ipykernel)",
   "language": "python",
   "name": "python3"
  },
  "language_info": {
   "codemirror_mode": {
    "name": "ipython",
    "version": 3
   },
   "file_extension": ".py",
   "mimetype": "text/x-python",
   "name": "python",
   "nbconvert_exporter": "python",
   "pygments_lexer": "ipython3",
   "version": "3.10.6"
  }
 },
 "nbformat": 4,
 "nbformat_minor": 5
}
