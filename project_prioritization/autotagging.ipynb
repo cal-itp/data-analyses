{
 "cells": [
  {
   "cell_type": "markdown",
   "id": "366bbf07-25c1-4e2b-9f36-3da9300eed01",
   "metadata": {},
   "source": [
    "## Autotagging projects\n",
    "* Who is the lead agency? \n",
    "    * Agency in this project = the entity who is receiving funding for this project.\n",
    "* Is this project on or off the SHS or both?\n",
    "* How to tell if a project criss-crosses the SHS?"
   ]
  },
  {
   "cell_type": "code",
   "execution_count": 1,
   "id": "cb0acac2-b33c-4110-a5ca-f6fbb3a3b077",
   "metadata": {},
   "outputs": [
    {
     "name": "stderr",
     "output_type": "stream",
     "text": [
      "/opt/conda/lib/python3.10/site-packages/geopandas/_compat.py:123: UserWarning: The Shapely GEOS version (3.10.3-CAPI-1.16.1) is incompatible with the GEOS version PyGEOS was compiled with (3.10.1-CAPI-1.16.0). Conversions between both will be slow.\n"
     ]
    }
   ],
   "source": [
    "import pandas as pd\n",
    "\n",
    "# Settings\n",
    "pd.options.display.max_columns = 100\n",
    "pd.set_option(\"display.max_rows\", None)\n",
    "pd.set_option(\"display.max_colwidth\", None)\n",
    "pd.options.display.float_format = \"{:,.2f}\".format\n",
    "\n",
    "GCS_FILE_PATH = \"gs://calitp-analytics-data/data-analyses/project_prioritization/\"\n",
    "FILE = \"fake_data.xlsx\"\n",
    "\n",
    "# My utilities\n",
    "import _utils\n",
    "from calitp import *"
   ]
  },
  {
   "cell_type": "markdown",
   "id": "68cea8db-e858-4692-9257-f2d04e1d6a5f",
   "metadata": {},
   "source": [
    "### Preliminary"
   ]
  },
  {
   "cell_type": "code",
   "execution_count": 2,
   "id": "8f62cd95-e8f5-4e4a-9289-8ac8b72e0f3f",
   "metadata": {},
   "outputs": [],
   "source": [
    "# Read in file\n",
    "df = to_snakecase(pd.read_excel(f\"{GCS_FILE_PATH}{FILE}\", sheet_name=\"fake\"))"
   ]
  },
  {
   "cell_type": "code",
   "execution_count": 3,
   "id": "393b29b4-3fa3-45ec-97c4-b2a007251600",
   "metadata": {},
   "outputs": [],
   "source": [
    "# Subset to columns I want.\n",
    "df2 = df[\n",
    "    [\n",
    "        \"project_name\",\n",
    "        \"lead_agency\",\n",
    "        \"primary_mode\",\n",
    "        \"secondary_mode_s\",\n",
    "        \"shs_capacity_increase_detail\",\n",
    "    ]\n",
    "]"
   ]
  },
  {
   "cell_type": "code",
   "execution_count": 4,
   "id": "f3c56061-c7b6-4172-b165-91eb988d49c0",
   "metadata": {
    "scrolled": true,
    "tags": []
   },
   "outputs": [],
   "source": [
    "# Count combos\n",
    "combos = (\n",
    "    df2.groupby([\"primary_mode\", \"secondary_mode_s\", \"shs_capacity_increase_detail\"])\n",
    "    .size()\n",
    "    .reset_index()\n",
    "    .rename(columns={0: \"count\"})\n",
    ")"
   ]
  },
  {
   "cell_type": "code",
   "execution_count": 5,
   "id": "994b7fa1-48b0-4f07-a85e-dffd2cea3c7f",
   "metadata": {
    "tags": []
   },
   "outputs": [
    {
     "data": {
      "text/html": [
       "<div>\n",
       "<style scoped>\n",
       "    .dataframe tbody tr th:only-of-type {\n",
       "        vertical-align: middle;\n",
       "    }\n",
       "\n",
       "    .dataframe tbody tr th {\n",
       "        vertical-align: top;\n",
       "    }\n",
       "\n",
       "    .dataframe thead th {\n",
       "        text-align: right;\n",
       "    }\n",
       "</style>\n",
       "<table border=\"1\" class=\"dataframe\">\n",
       "  <thead>\n",
       "    <tr style=\"text-align: right;\">\n",
       "      <th></th>\n",
       "      <th>primary_mode</th>\n",
       "      <th>secondary_mode_s</th>\n",
       "      <th>shs_capacity_increase_detail</th>\n",
       "      <th>count</th>\n",
       "    </tr>\n",
       "  </thead>\n",
       "  <tbody>\n",
       "    <tr>\n",
       "      <th>171</th>\n",
       "      <td>Rail (Passenger)</td>\n",
       "      <td>None</td>\n",
       "      <td>None</td>\n",
       "      <td>111</td>\n",
       "    </tr>\n",
       "    <tr>\n",
       "      <th>78</th>\n",
       "      <td>Highway</td>\n",
       "      <td>None</td>\n",
       "      <td>General Purpose Lane</td>\n",
       "      <td>62</td>\n",
       "    </tr>\n",
       "    <tr>\n",
       "      <th>10</th>\n",
       "      <td>Bike/Pedestrian</td>\n",
       "      <td>None</td>\n",
       "      <td>None</td>\n",
       "      <td>57</td>\n",
       "    </tr>\n",
       "    <tr>\n",
       "      <th>37</th>\n",
       "      <td>Grade Crossing</td>\n",
       "      <td>None</td>\n",
       "      <td>None</td>\n",
       "      <td>29</td>\n",
       "    </tr>\n",
       "    <tr>\n",
       "      <th>164</th>\n",
       "      <td>Rail (Freight)</td>\n",
       "      <td>None</td>\n",
       "      <td>None</td>\n",
       "      <td>28</td>\n",
       "    </tr>\n",
       "  </tbody>\n",
       "</table>\n",
       "</div>"
      ],
      "text/plain": [
       "         primary_mode secondary_mode_s shs_capacity_increase_detail  count\n",
       "171  Rail (Passenger)             None                         None    111\n",
       "78            Highway             None         General Purpose Lane     62\n",
       "10    Bike/Pedestrian             None                         None     57\n",
       "37     Grade Crossing             None                         None     29\n",
       "164    Rail (Freight)             None                         None     28"
      ]
     },
     "execution_count": 5,
     "metadata": {},
     "output_type": "execute_result"
    }
   ],
   "source": [
    "# Find most commmon combos\n",
    "combos.sort_values([\"count\"], ascending=False).head()"
   ]
  },
  {
   "cell_type": "markdown",
   "id": "db1646bf-457a-48a0-bf19-6f2e5732f7eb",
   "metadata": {},
   "source": [
    "### Function #1\n",
    "* Tag whether values in a column are \"highway related\" before figuring out if they are on the SHS or not. "
   ]
  },
  {
   "cell_type": "code",
   "execution_count": 6,
   "id": "cabda91c-378b-44f2-901a-7c99df1cb8a1",
   "metadata": {},
   "outputs": [],
   "source": [
    "def tagging_columns(df, tagging_col: str, new_col: str, keyword_list: list):\n",
    "    \"\"\"\n",
    "    Search through a column for keywords.\n",
    "\n",
    "    Args\n",
    "    df: the dataframe.\n",
    "    tagging_col (str): the column to search for the appearance of keywords.\n",
    "    new_col (str): input whether or not the keyword was found.\n",
    "    keyword_list (list): list of keywords to search through.\n",
    "\n",
    "    Returns: a dataframe with a new column stating whether\n",
    "    the keyword(s) were found or not.\n",
    "    \"\"\"\n",
    "    # Delinate items in keywords list using |\n",
    "    keywords = f\"({'|'.join(keyword_list)})\"\n",
    "\n",
    "    # Lower the strings in the column of interest\n",
    "    df[tagging_col] = df[tagging_col].str.lower()\n",
    "\n",
    "    # Create a new column that captures whether or not the keyword appears\n",
    "    # Using str contains so interchange (new) and interchange (modifying) will appear.\n",
    "    df[\"keyword_appears_bool\"] = df[tagging_col].str.contains(keywords)\n",
    "\n",
    "    # Function to categorize whether something is highway related or not.\n",
    "    def highway_or_not(row):\n",
    "        if row[\"keyword_appears_bool\"] == True:\n",
    "            return \"highway related\"\n",
    "        else:\n",
    "            return \"not highway related\"\n",
    "\n",
    "    # Apply function\n",
    "    df[new_col] = df.apply(lambda x: highway_or_not(x), axis=1)\n",
    "\n",
    "    # Drop keyword col\n",
    "    df = df.drop(columns=[\"keyword_appears_bool\"])\n",
    "\n",
    "    return df"
   ]
  },
  {
   "cell_type": "code",
   "execution_count": 7,
   "id": "66b52ebe-5766-4120-b826-6c778a58e9fa",
   "metadata": {},
   "outputs": [
    {
     "name": "stderr",
     "output_type": "stream",
     "text": [
      "/tmp/ipykernel_1339/420774837.py:18: SettingWithCopyWarning: \n",
      "A value is trying to be set on a copy of a slice from a DataFrame.\n",
      "Try using .loc[row_indexer,col_indexer] = value instead\n",
      "\n",
      "See the caveats in the documentation: https://pandas.pydata.org/pandas-docs/stable/user_guide/indexing.html#returning-a-view-versus-a-copy\n",
      "/tmp/ipykernel_1339/420774837.py:22: UserWarning: This pattern is interpreted as a regular expression, and has match groups. To actually get the groups, use str.extract.\n",
      "/tmp/ipykernel_1339/420774837.py:22: SettingWithCopyWarning: \n",
      "A value is trying to be set on a copy of a slice from a DataFrame.\n",
      "Try using .loc[row_indexer,col_indexer] = value instead\n",
      "\n",
      "See the caveats in the documentation: https://pandas.pydata.org/pandas-docs/stable/user_guide/indexing.html#returning-a-view-versus-a-copy\n",
      "/tmp/ipykernel_1339/420774837.py:32: SettingWithCopyWarning: \n",
      "A value is trying to be set on a copy of a slice from a DataFrame.\n",
      "Try using .loc[row_indexer,col_indexer] = value instead\n",
      "\n",
      "See the caveats in the documentation: https://pandas.pydata.org/pandas-docs/stable/user_guide/indexing.html#returning-a-view-versus-a-copy\n"
     ]
    }
   ],
   "source": [
    "# Search through primary mode.\n",
    "df3 = tagging_columns(\n",
    "    df2,\n",
    "    \"primary_mode\",\n",
    "    \"primary_mode_SHS\",\n",
    "    [\n",
    "        \"highway\",\n",
    "        \"its\",\n",
    "        \"interchange\",\n",
    "    ],\n",
    ")"
   ]
  },
  {
   "cell_type": "code",
   "execution_count": 8,
   "id": "8d920876-22b5-4e25-ad82-7d8d8bf75f91",
   "metadata": {},
   "outputs": [
    {
     "data": {
      "text/html": [
       "<div>\n",
       "<style scoped>\n",
       "    .dataframe tbody tr th:only-of-type {\n",
       "        vertical-align: middle;\n",
       "    }\n",
       "\n",
       "    .dataframe tbody tr th {\n",
       "        vertical-align: top;\n",
       "    }\n",
       "\n",
       "    .dataframe thead th {\n",
       "        text-align: right;\n",
       "    }\n",
       "</style>\n",
       "<table border=\"1\" class=\"dataframe\">\n",
       "  <thead>\n",
       "    <tr style=\"text-align: right;\">\n",
       "      <th></th>\n",
       "      <th>primary_mode</th>\n",
       "      <th>primary_mode_SHS</th>\n",
       "    </tr>\n",
       "  </thead>\n",
       "  <tbody>\n",
       "    <tr>\n",
       "      <th>100</th>\n",
       "      <td>complete streets</td>\n",
       "      <td>not highway related</td>\n",
       "    </tr>\n",
       "    <tr>\n",
       "      <th>596</th>\n",
       "      <td>bridge</td>\n",
       "      <td>not highway related</td>\n",
       "    </tr>\n",
       "    <tr>\n",
       "      <th>536</th>\n",
       "      <td>rail (freight)</td>\n",
       "      <td>not highway related</td>\n",
       "    </tr>\n",
       "    <tr>\n",
       "      <th>534</th>\n",
       "      <td>highway</td>\n",
       "      <td>highway related</td>\n",
       "    </tr>\n",
       "    <tr>\n",
       "      <th>445</th>\n",
       "      <td>bike/pedestrian</td>\n",
       "      <td>not highway related</td>\n",
       "    </tr>\n",
       "    <tr>\n",
       "      <th>460</th>\n",
       "      <td>highway</td>\n",
       "      <td>highway related</td>\n",
       "    </tr>\n",
       "    <tr>\n",
       "      <th>689</th>\n",
       "      <td>highway</td>\n",
       "      <td>highway related</td>\n",
       "    </tr>\n",
       "    <tr>\n",
       "      <th>583</th>\n",
       "      <td>rail (passenger)</td>\n",
       "      <td>not highway related</td>\n",
       "    </tr>\n",
       "    <tr>\n",
       "      <th>173</th>\n",
       "      <td>highway</td>\n",
       "      <td>highway related</td>\n",
       "    </tr>\n",
       "    <tr>\n",
       "      <th>502</th>\n",
       "      <td>highway</td>\n",
       "      <td>highway related</td>\n",
       "    </tr>\n",
       "  </tbody>\n",
       "</table>\n",
       "</div>"
      ],
      "text/plain": [
       "         primary_mode     primary_mode_SHS\n",
       "100  complete streets  not highway related\n",
       "596            bridge  not highway related\n",
       "536    rail (freight)  not highway related\n",
       "534           highway      highway related\n",
       "445   bike/pedestrian  not highway related\n",
       "460           highway      highway related\n",
       "689           highway      highway related\n",
       "583  rail (passenger)  not highway related\n",
       "173           highway      highway related\n",
       "502           highway      highway related"
      ]
     },
     "execution_count": 8,
     "metadata": {},
     "output_type": "execute_result"
    }
   ],
   "source": [
    "# Preview that this is correct\n",
    "df3[[\"primary_mode\", \"primary_mode_SHS\"]].sample(10)"
   ]
  },
  {
   "cell_type": "code",
   "execution_count": 9,
   "id": "d8060217-6459-4e72-9dbd-a9eabfa6d6bd",
   "metadata": {},
   "outputs": [
    {
     "name": "stderr",
     "output_type": "stream",
     "text": [
      "/tmp/ipykernel_1339/420774837.py:18: SettingWithCopyWarning: \n",
      "A value is trying to be set on a copy of a slice from a DataFrame.\n",
      "Try using .loc[row_indexer,col_indexer] = value instead\n",
      "\n",
      "See the caveats in the documentation: https://pandas.pydata.org/pandas-docs/stable/user_guide/indexing.html#returning-a-view-versus-a-copy\n",
      "/tmp/ipykernel_1339/420774837.py:22: UserWarning: This pattern is interpreted as a regular expression, and has match groups. To actually get the groups, use str.extract.\n",
      "/tmp/ipykernel_1339/420774837.py:22: SettingWithCopyWarning: \n",
      "A value is trying to be set on a copy of a slice from a DataFrame.\n",
      "Try using .loc[row_indexer,col_indexer] = value instead\n",
      "\n",
      "See the caveats in the documentation: https://pandas.pydata.org/pandas-docs/stable/user_guide/indexing.html#returning-a-view-versus-a-copy\n",
      "/tmp/ipykernel_1339/420774837.py:32: SettingWithCopyWarning: \n",
      "A value is trying to be set on a copy of a slice from a DataFrame.\n",
      "Try using .loc[row_indexer,col_indexer] = value instead\n",
      "\n",
      "See the caveats in the documentation: https://pandas.pydata.org/pandas-docs/stable/user_guide/indexing.html#returning-a-view-versus-a-copy\n"
     ]
    }
   ],
   "source": [
    "# Search through secondary mode.\n",
    "df3 = tagging_columns(\n",
    "    df2, \"secondary_mode_s\", \"secondary_mode_SHS\", [\"highway\", \"lane\", \"interchange\"]\n",
    ")"
   ]
  },
  {
   "cell_type": "code",
   "execution_count": 10,
   "id": "2562c0ef-56bb-40b8-ae15-b2d6696e4ad7",
   "metadata": {},
   "outputs": [
    {
     "name": "stderr",
     "output_type": "stream",
     "text": [
      "/tmp/ipykernel_1339/420774837.py:18: SettingWithCopyWarning: \n",
      "A value is trying to be set on a copy of a slice from a DataFrame.\n",
      "Try using .loc[row_indexer,col_indexer] = value instead\n",
      "\n",
      "See the caveats in the documentation: https://pandas.pydata.org/pandas-docs/stable/user_guide/indexing.html#returning-a-view-versus-a-copy\n",
      "/tmp/ipykernel_1339/420774837.py:22: UserWarning: This pattern is interpreted as a regular expression, and has match groups. To actually get the groups, use str.extract.\n",
      "/tmp/ipykernel_1339/420774837.py:22: SettingWithCopyWarning: \n",
      "A value is trying to be set on a copy of a slice from a DataFrame.\n",
      "Try using .loc[row_indexer,col_indexer] = value instead\n",
      "\n",
      "See the caveats in the documentation: https://pandas.pydata.org/pandas-docs/stable/user_guide/indexing.html#returning-a-view-versus-a-copy\n",
      "/tmp/ipykernel_1339/420774837.py:32: SettingWithCopyWarning: \n",
      "A value is trying to be set on a copy of a slice from a DataFrame.\n",
      "Try using .loc[row_indexer,col_indexer] = value instead\n",
      "\n",
      "See the caveats in the documentation: https://pandas.pydata.org/pandas-docs/stable/user_guide/indexing.html#returning-a-view-versus-a-copy\n"
     ]
    }
   ],
   "source": [
    "# Search through SHS Capacity Detail.\n",
    "df3 = tagging_columns(\n",
    "    df2,\n",
    "    \"shs_capacity_increase_detail\",\n",
    "    \"shs_capacity_increase_detail_SHS\",\n",
    "    [\"highway\", \"lane\", \"interchange\"],\n",
    ")"
   ]
  },
  {
   "cell_type": "markdown",
   "id": "2f1d46b3-dcd1-42ea-909e-0832f349de37",
   "metadata": {},
   "source": [
    "### Function 2\n",
    "* Apply a function to summarize the results in a single sentence.\n",
    "    "
   ]
  },
  {
   "cell_type": "code",
   "execution_count": 11,
   "id": "477cc8a6-0af8-4ee1-b7ae-6c5319d8fb52",
   "metadata": {},
   "outputs": [],
   "source": [
    "def SHS_lead_agency_info(df):\n",
    "\n",
    "    # Lower strings.\n",
    "    for i in [\n",
    "        \"primary_mode\",\n",
    "        \"secondary_mode_s\",\n",
    "        \"shs_capacity_increase_detail\",\n",
    "  \n",
    "    ]:\n",
    "        df[i] = df[i].str.lower()\n",
    "\n",
    "    # Tag if the lead agency is Caltrans or a partner.\n",
    "    def CT_or_partner(row):\n",
    "        # If partner is none, return Unknown.\n",
    "        if row.lead_agency == \"None\":\n",
    "            return \"unknown\"\n",
    "        # If only Caltrans, return Caltrans\n",
    "        if row.lead_agency == \"Caltrans\":\n",
    "            return \"Caltrans\"\n",
    "        # Everything else is a partner agency\n",
    "        else:\n",
    "            return \"a partner\"\n",
    "\n",
    "    # Apply the function\n",
    "    df[\"caltrans_or_partner\"] = df.apply(CT_or_partner, axis=1)\n",
    "\n",
    "    # Tag if a project is on the SHS or not thorugh various combos.\n",
    "    def on_SHS(row):\n",
    "        # If both secondary, primary, and SHS are highway related and lead agency is Caltrans: on SHS\n",
    "        if (\n",
    "            (row.secondary_mode_SHS == \"highway related\")\n",
    "            and (row.primary_mode_SHS == \"highway related\")\n",
    "            and (row.shs_capacity_increase_detail_SHS == \"highway related\")\n",
    "            and (row.caltrans_or_partner == \"Caltrans\")\n",
    "        ):\n",
    "            return \"on the SHS\"\n",
    "        # If secondary, primary, and SHS are all highway related: on the SHS. Or perhaps possibly?\n",
    "        elif (\n",
    "            (row.secondary_mode_SHS == \"highway related\")\n",
    "            and (row.primary_mode_SHS == \"highway related\")\n",
    "            and (row.shs_capacity_increase_detail_SHS == \"highway related\")\n",
    "        ):\n",
    "            return \"on the SHS\"\n",
    "        # If nothing is highway related: not on SHS.\n",
    "        elif (\n",
    "            (row.shs_capacity_increase_detail_SHS == \"not highway related\")\n",
    "            and (row.secondary_mode_SHS == \"not highway related\")\n",
    "            and (row.primary_mode_SHS == \"not highway related\")\n",
    "        ):\n",
    "            return \"not on the SHS\"\n",
    "        # Everything else is not on SHS.\n",
    "        else:\n",
    "            return \"possibly on the SHS\"\n",
    "\n",
    "    # Apply the function\n",
    "    df[\"On_SHS\"] = df.apply(on_SHS, axis=1)\n",
    "\n",
    "    # Create a summary sentence \n",
    "    df[\"sentence\"] = (\n",
    "        \"The lead agency is \"\n",
    "        + df[\"caltrans_or_partner\"] \n",
    "        + \" and the project is \"\n",
    "        + df[\"On_SHS\"]\n",
    "        + \".\"\n",
    "    )\n",
    "\n",
    "    return df"
   ]
  },
  {
   "cell_type": "code",
   "execution_count": 12,
   "id": "709b50b3-8fc9-43b0-9ebe-0445ad94a775",
   "metadata": {
    "tags": []
   },
   "outputs": [],
   "source": [
    "df4 = SHS_lead_agency_info(df3)"
   ]
  },
  {
   "cell_type": "code",
   "execution_count": 14,
   "id": "073b5c2d-9e4e-4a65-9a00-03235557ad4b",
   "metadata": {},
   "outputs": [
    {
     "data": {
      "text/plain": [
       "a partner    350\n",
       "unknown      231\n",
       "Caltrans     162\n",
       "Name: caltrans_or_partner, dtype: int64"
      ]
     },
     "execution_count": 14,
     "metadata": {},
     "output_type": "execute_result"
    }
   ],
   "source": [
    "# Check value counts.\n",
    "df4.caltrans_or_partner.value_counts()"
   ]
  },
  {
   "cell_type": "code",
   "execution_count": 15,
   "id": "c7c95e2c-c80e-4e58-b627-85a13ce5ec0c",
   "metadata": {},
   "outputs": [
    {
     "data": {
      "text/plain": [
       "not on the SHS         378\n",
       "possibly on the SHS    318\n",
       "on the SHS              47\n",
       "Name: On_SHS, dtype: int64"
      ]
     },
     "execution_count": 15,
     "metadata": {},
     "output_type": "execute_result"
    }
   ],
   "source": [
    "# Check value counts.\n",
    "df4.On_SHS.value_counts()"
   ]
  },
  {
   "cell_type": "code",
   "execution_count": 16,
   "id": "5cc153fd-3d92-4efa-9e32-5a94e418bbd0",
   "metadata": {},
   "outputs": [
    {
     "data": {
      "text/plain": [
       "9"
      ]
     },
     "execution_count": 16,
     "metadata": {},
     "output_type": "execute_result"
    }
   ],
   "source": [
    "# Total sentences\n",
    "df4.sentence.nunique()"
   ]
  },
  {
   "cell_type": "code",
   "execution_count": 17,
   "id": "c081ebd3-a356-4253-80dc-e8cf61d4dcac",
   "metadata": {},
   "outputs": [
    {
     "data": {
      "text/plain": [
       "The lead agency is a partner and the project is not on the SHS.         252\n",
       "The lead agency is unknown and the project is possibly on the SHS.      137\n",
       "The lead agency is Caltrans and the project is possibly on the SHS.      92\n",
       "The lead agency is a partner and the project is possibly on the SHS.     89\n",
       "The lead agency is unknown and the project is not on the SHS.            69\n",
       "The lead agency is Caltrans and the project is not on the SHS.           57\n",
       "The lead agency is unknown and the project is on the SHS.                25\n",
       "The lead agency is Caltrans and the project is on the SHS.               13\n",
       "The lead agency is a partner and the project is on the SHS.               9\n",
       "Name: sentence, dtype: int64"
      ]
     },
     "execution_count": 17,
     "metadata": {},
     "output_type": "execute_result"
    }
   ],
   "source": [
    "# Check value counts.\n",
    "df4.sentence.value_counts()"
   ]
  },
  {
   "cell_type": "code",
   "execution_count": 18,
   "id": "805ece0e-6619-4ecf-962e-d1ffbb5ac88a",
   "metadata": {},
   "outputs": [],
   "source": [
    "# Count combos with new dataframe to check results -> less rows because primary mode and secondary mode are\n",
    "# only coded as highway related or not highway related\n",
    "combos2 = (\n",
    "    df4.groupby(\n",
    "        [    \"caltrans_or_partner\",\n",
    "            \"sentence\",\n",
    "            \"shs_capacity_increase_detail_SHS\",\n",
    "            \"primary_mode_SHS\",\n",
    "            \"secondary_mode_SHS\",\n",
    "           \n",
    "        ]\n",
    "    )\n",
    "    .size()\n",
    "    .reset_index()\n",
    "    .rename(columns={0: \"count\"})\n",
    ")"
   ]
  },
  {
   "cell_type": "code",
   "execution_count": 19,
   "id": "39e5b3e9-e756-482c-8aa2-87f25792a164",
   "metadata": {},
   "outputs": [
    {
     "data": {
      "text/html": [
       "<div>\n",
       "<style scoped>\n",
       "    .dataframe tbody tr th:only-of-type {\n",
       "        vertical-align: middle;\n",
       "    }\n",
       "\n",
       "    .dataframe tbody tr th {\n",
       "        vertical-align: top;\n",
       "    }\n",
       "\n",
       "    .dataframe thead th {\n",
       "        text-align: right;\n",
       "    }\n",
       "</style>\n",
       "<table border=\"1\" class=\"dataframe\">\n",
       "  <thead>\n",
       "    <tr style=\"text-align: right;\">\n",
       "      <th></th>\n",
       "      <th></th>\n",
       "      <th></th>\n",
       "      <th></th>\n",
       "      <th></th>\n",
       "      <th>count</th>\n",
       "    </tr>\n",
       "    <tr>\n",
       "      <th>caltrans_or_partner</th>\n",
       "      <th>sentence</th>\n",
       "      <th>shs_capacity_increase_detail_SHS</th>\n",
       "      <th>primary_mode_SHS</th>\n",
       "      <th>secondary_mode_SHS</th>\n",
       "      <th></th>\n",
       "    </tr>\n",
       "  </thead>\n",
       "  <tbody>\n",
       "    <tr>\n",
       "      <th rowspan=\"7\" valign=\"top\">Caltrans</th>\n",
       "      <th>The lead agency is Caltrans and the project is not on the SHS.</th>\n",
       "      <th>not highway related</th>\n",
       "      <th>not highway related</th>\n",
       "      <th>not highway related</th>\n",
       "      <td>57</td>\n",
       "    </tr>\n",
       "    <tr>\n",
       "      <th>The lead agency is Caltrans and the project is on the SHS.</th>\n",
       "      <th>highway related</th>\n",
       "      <th>highway related</th>\n",
       "      <th>highway related</th>\n",
       "      <td>13</td>\n",
       "    </tr>\n",
       "    <tr>\n",
       "      <th rowspan=\"5\" valign=\"top\">The lead agency is Caltrans and the project is possibly on the SHS.</th>\n",
       "      <th rowspan=\"2\" valign=\"top\">highway related</th>\n",
       "      <th>highway related</th>\n",
       "      <th>not highway related</th>\n",
       "      <td>60</td>\n",
       "    </tr>\n",
       "    <tr>\n",
       "      <th>not highway related</th>\n",
       "      <th>not highway related</th>\n",
       "      <td>6</td>\n",
       "    </tr>\n",
       "    <tr>\n",
       "      <th rowspan=\"3\" valign=\"top\">not highway related</th>\n",
       "      <th rowspan=\"2\" valign=\"top\">highway related</th>\n",
       "      <th>highway related</th>\n",
       "      <td>6</td>\n",
       "    </tr>\n",
       "    <tr>\n",
       "      <th>not highway related</th>\n",
       "      <td>15</td>\n",
       "    </tr>\n",
       "    <tr>\n",
       "      <th>not highway related</th>\n",
       "      <th>highway related</th>\n",
       "      <td>5</td>\n",
       "    </tr>\n",
       "    <tr>\n",
       "      <th rowspan=\"8\" valign=\"top\">a partner</th>\n",
       "      <th>The lead agency is a partner and the project is not on the SHS.</th>\n",
       "      <th>not highway related</th>\n",
       "      <th>not highway related</th>\n",
       "      <th>not highway related</th>\n",
       "      <td>252</td>\n",
       "    </tr>\n",
       "    <tr>\n",
       "      <th>The lead agency is a partner and the project is on the SHS.</th>\n",
       "      <th>highway related</th>\n",
       "      <th>highway related</th>\n",
       "      <th>highway related</th>\n",
       "      <td>9</td>\n",
       "    </tr>\n",
       "    <tr>\n",
       "      <th rowspan=\"6\" valign=\"top\">The lead agency is a partner and the project is possibly on the SHS.</th>\n",
       "      <th rowspan=\"3\" valign=\"top\">highway related</th>\n",
       "      <th>highway related</th>\n",
       "      <th>not highway related</th>\n",
       "      <td>50</td>\n",
       "    </tr>\n",
       "    <tr>\n",
       "      <th rowspan=\"2\" valign=\"top\">not highway related</th>\n",
       "      <th>highway related</th>\n",
       "      <td>1</td>\n",
       "    </tr>\n",
       "    <tr>\n",
       "      <th>not highway related</th>\n",
       "      <td>1</td>\n",
       "    </tr>\n",
       "    <tr>\n",
       "      <th rowspan=\"3\" valign=\"top\">not highway related</th>\n",
       "      <th rowspan=\"2\" valign=\"top\">highway related</th>\n",
       "      <th>highway related</th>\n",
       "      <td>1</td>\n",
       "    </tr>\n",
       "    <tr>\n",
       "      <th>not highway related</th>\n",
       "      <td>30</td>\n",
       "    </tr>\n",
       "    <tr>\n",
       "      <th>not highway related</th>\n",
       "      <th>highway related</th>\n",
       "      <td>6</td>\n",
       "    </tr>\n",
       "    <tr>\n",
       "      <th rowspan=\"8\" valign=\"top\">unknown</th>\n",
       "      <th>The lead agency is unknown and the project is not on the SHS.</th>\n",
       "      <th>not highway related</th>\n",
       "      <th>not highway related</th>\n",
       "      <th>not highway related</th>\n",
       "      <td>69</td>\n",
       "    </tr>\n",
       "    <tr>\n",
       "      <th>The lead agency is unknown and the project is on the SHS.</th>\n",
       "      <th>highway related</th>\n",
       "      <th>highway related</th>\n",
       "      <th>highway related</th>\n",
       "      <td>25</td>\n",
       "    </tr>\n",
       "    <tr>\n",
       "      <th rowspan=\"6\" valign=\"top\">The lead agency is unknown and the project is possibly on the SHS.</th>\n",
       "      <th rowspan=\"3\" valign=\"top\">highway related</th>\n",
       "      <th>highway related</th>\n",
       "      <th>not highway related</th>\n",
       "      <td>108</td>\n",
       "    </tr>\n",
       "    <tr>\n",
       "      <th rowspan=\"2\" valign=\"top\">not highway related</th>\n",
       "      <th>highway related</th>\n",
       "      <td>1</td>\n",
       "    </tr>\n",
       "    <tr>\n",
       "      <th>not highway related</th>\n",
       "      <td>3</td>\n",
       "    </tr>\n",
       "    <tr>\n",
       "      <th rowspan=\"3\" valign=\"top\">not highway related</th>\n",
       "      <th rowspan=\"2\" valign=\"top\">highway related</th>\n",
       "      <th>highway related</th>\n",
       "      <td>1</td>\n",
       "    </tr>\n",
       "    <tr>\n",
       "      <th>not highway related</th>\n",
       "      <td>18</td>\n",
       "    </tr>\n",
       "    <tr>\n",
       "      <th>not highway related</th>\n",
       "      <th>highway related</th>\n",
       "      <td>6</td>\n",
       "    </tr>\n",
       "  </tbody>\n",
       "</table>\n",
       "</div>"
      ],
      "text/plain": [
       "                                                                                                                                                                   count\n",
       "caltrans_or_partner sentence                                                             shs_capacity_increase_detail_SHS primary_mode_SHS    secondary_mode_SHS        \n",
       "Caltrans            The lead agency is Caltrans and the project is not on the SHS.       not highway related              not highway related not highway related     57\n",
       "                    The lead agency is Caltrans and the project is on the SHS.           highway related                  highway related     highway related         13\n",
       "                    The lead agency is Caltrans and the project is possibly on the SHS.  highway related                  highway related     not highway related     60\n",
       "                                                                                                                          not highway related not highway related      6\n",
       "                                                                                         not highway related              highway related     highway related          6\n",
       "                                                                                                                                              not highway related     15\n",
       "                                                                                                                          not highway related highway related          5\n",
       "a partner           The lead agency is a partner and the project is not on the SHS.      not highway related              not highway related not highway related    252\n",
       "                    The lead agency is a partner and the project is on the SHS.          highway related                  highway related     highway related          9\n",
       "                    The lead agency is a partner and the project is possibly on the SHS. highway related                  highway related     not highway related     50\n",
       "                                                                                                                          not highway related highway related          1\n",
       "                                                                                                                                              not highway related      1\n",
       "                                                                                         not highway related              highway related     highway related          1\n",
       "                                                                                                                                              not highway related     30\n",
       "                                                                                                                          not highway related highway related          6\n",
       "unknown             The lead agency is unknown and the project is not on the SHS.        not highway related              not highway related not highway related     69\n",
       "                    The lead agency is unknown and the project is on the SHS.            highway related                  highway related     highway related         25\n",
       "                    The lead agency is unknown and the project is possibly on the SHS.   highway related                  highway related     not highway related    108\n",
       "                                                                                                                          not highway related highway related          1\n",
       "                                                                                                                                              not highway related      3\n",
       "                                                                                         not highway related              highway related     highway related          1\n",
       "                                                                                                                                              not highway related     18\n",
       "                                                                                                                          not highway related highway related          6"
      ]
     },
     "execution_count": 19,
     "metadata": {},
     "output_type": "execute_result"
    }
   ],
   "source": [
    "# Group again\n",
    "combos2.groupby(\n",
    "    [\n",
    "        \"caltrans_or_partner\",\"sentence\",\n",
    "        \"shs_capacity_increase_detail_SHS\",\n",
    "        \"primary_mode_SHS\",\n",
    "        \"secondary_mode_SHS\",\n",
    "        \n",
    "    ]\n",
    ").agg({\"count\": \"sum\"}) \n"
   ]
  }
 ],
 "metadata": {
  "kernelspec": {
   "display_name": "Python 3 (ipykernel)",
   "language": "python",
   "name": "python3"
  },
  "language_info": {
   "codemirror_mode": {
    "name": "ipython",
    "version": 3
   },
   "file_extension": ".py",
   "mimetype": "text/x-python",
   "name": "python",
   "nbconvert_exporter": "python",
   "pygments_lexer": "ipython3",
   "version": "3.10.6"
  }
 },
 "nbformat": 4,
 "nbformat_minor": 5
}
