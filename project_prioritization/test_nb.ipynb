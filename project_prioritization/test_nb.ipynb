{
 "cells": [
  {
   "cell_type": "code",
   "execution_count": 1,
   "id": "d274a12f-77cb-4d15-8e51-36110676f886",
   "metadata": {},
   "outputs": [],
   "source": [
    "%%capture\n",
    "\n",
    "# Turn off warnings\n",
    "import warnings\n",
    "\n",
    "warnings.filterwarnings(\"ignore\")\n",
    "\n",
    "# Normal packages\n",
    "import geopandas as gpd\n",
    "import numpy as np\n",
    "import pandas as pd\n",
    "\n",
    "# Format\n",
    "from babel.numbers import format_currency\n",
    "\n",
    "# Display\n",
    "from IPython.display import HTML, Image, Markdown, display, display_html\n",
    "\n",
    "# Settings\n",
    "pd.options.display.max_columns = 100\n",
    "pd.set_option(\"display.max_rows\", None)\n",
    "pd.set_option(\"display.max_colwidth\", None)\n",
    "pd.options.display.float_format = \"{:,.2f}\".format\n",
    "\n",
    "# GCS, del later since this will presumbly be read from a script that cleans up the data\n",
    "GCS_FILE_PATH = \"gs://calitp-analytics-data/data-analyses/project_prioritization/\"\n",
    "FILE = \"fake_data.xlsx\"\n",
    "\n",
    "# My utilities\n",
    "import _utils"
   ]
  },
  {
   "cell_type": "code",
   "execution_count": 2,
   "id": "b0490430-70cc-4ae6-8e14-d26dbd6a8ab8",
   "metadata": {},
   "outputs": [],
   "source": [
    "# Charts\n",
    "import altair as alt\n",
    "from shared_utils import altair_utils\n",
    "from shared_utils import calitp_color_palette as cp"
   ]
  },
  {
   "cell_type": "code",
   "execution_count": 31,
   "id": "b2f959bf-816d-40da-a08f-63d640de313d",
   "metadata": {
    "tags": [
     "parameters"
    ]
   },
   "outputs": [],
   "source": [
    "# Parameter Cell - the county of interest\n",
    "parameter_county = \"Alameda\""
   ]
  },
  {
   "cell_type": "code",
   "execution_count": 32,
   "id": "7db23b58-f3f3-4b38-bf80-4f311696e777",
   "metadata": {},
   "outputs": [],
   "source": [
    "# Create dfs\n",
    "df_statewide = pd.read_excel(f\"{GCS_FILE_PATH}{FILE}\", sheet_name=\"fake\")"
   ]
  },
  {
   "cell_type": "code",
   "execution_count": 33,
   "id": "0176933b-98b2-495c-b137-b83ab2a43f48",
   "metadata": {},
   "outputs": [],
   "source": [
    "# Filter out a df for the county set in the parameter cell\n",
    "df_parameter = df_statewide.loc[\n",
    "    df_statewide[\"full_county_name\"] == parameter_county\n",
    "].reset_index(drop=True)"
   ]
  },
  {
   "cell_type": "code",
   "execution_count": 34,
   "id": "7040c2ae-6788-4cbe-9172-dab323b30668",
   "metadata": {},
   "outputs": [],
   "source": [
    "# Grab the district this county is in\n",
    "parameter_county_district = df_parameter[\"district\"][0]\n",
    "\n",
    "# Grab the full district name\n",
    "parameter_county_district_full_name = df_parameter[\"district_full_name\"][0]"
   ]
  },
  {
   "cell_type": "code",
   "execution_count": 35,
   "id": "ff6ca991-c767-44e3-8004-d8b88bd903b0",
   "metadata": {},
   "outputs": [],
   "source": [
    "# Dataframe just for the district the parameter county is located in\n",
    "df_parameter_district = df_statewide.loc[\n",
    "    df_statewide[\"district\"] == parameter_county_district\n",
    "].reset_index(drop=True)"
   ]
  },
  {
   "cell_type": "code",
   "execution_count": 36,
   "id": "5ab7f359-db75-48cc-9394-36bd86634d4e",
   "metadata": {},
   "outputs": [
    {
     "data": {
      "text/plain": [
       "'04 - Oakland'"
      ]
     },
     "execution_count": 36,
     "metadata": {},
     "output_type": "execute_result"
    }
   ],
   "source": [
    "df_parameter_district[\"district_full_name\"][0]"
   ]
  },
  {
   "cell_type": "code",
   "execution_count": 37,
   "id": "187c74f9-2bb6-4d00-bc66-85f4b0f6ab24",
   "metadata": {},
   "outputs": [],
   "source": [
    "concat1 = _utils.county_district_comparison(df_parameter, df_parameter_district)"
   ]
  },
  {
   "cell_type": "code",
   "execution_count": 38,
   "id": "ae503b1a-7bdb-481b-a7d0-0a8bc7a842ff",
   "metadata": {},
   "outputs": [
    {
     "data": {
      "text/html": [
       "<div>\n",
       "<style scoped>\n",
       "    .dataframe tbody tr th:only-of-type {\n",
       "        vertical-align: middle;\n",
       "    }\n",
       "\n",
       "    .dataframe tbody tr th {\n",
       "        vertical-align: top;\n",
       "    }\n",
       "\n",
       "    .dataframe thead th {\n",
       "        text-align: right;\n",
       "    }\n",
       "</style>\n",
       "<table border=\"1\" class=\"dataframe\">\n",
       "  <thead>\n",
       "    <tr style=\"text-align: right;\">\n",
       "      <th></th>\n",
       "      <th>Total Projects</th>\n",
       "      <th>Total Project Cost  $1,000</th>\n",
       "      <th>Current Fake Fund Requested</th>\n",
       "      <th>Geography</th>\n",
       "      <th>Total Project ($1000) Formatted</th>\n",
       "      <th>Fake Fund Formatted</th>\n",
       "    </tr>\n",
       "  </thead>\n",
       "  <tbody>\n",
       "    <tr>\n",
       "      <th>0</th>\n",
       "      <td>88.00</td>\n",
       "      <td>33,502,945.00</td>\n",
       "      <td>26,015,757.65</td>\n",
       "      <td>04 - Oakland</td>\n",
       "      <td>$33,502,945.00</td>\n",
       "      <td>$26,015,757.65</td>\n",
       "    </tr>\n",
       "    <tr>\n",
       "      <th>1</th>\n",
       "      <td>30.00</td>\n",
       "      <td>8,126,126.00</td>\n",
       "      <td>9,042,850.83</td>\n",
       "      <td>Alameda</td>\n",
       "      <td>$8,126,126.00</td>\n",
       "      <td>$9,042,850.83</td>\n",
       "    </tr>\n",
       "  </tbody>\n",
       "</table>\n",
       "</div>"
      ],
      "text/plain": [
       "   Total Projects  Total Project Cost  $1,000  Current Fake Fund Requested  \\\n",
       "0           88.00               33,502,945.00                26,015,757.65   \n",
       "1           30.00                8,126,126.00                 9,042,850.83   \n",
       "\n",
       "      Geography Total Project ($1000) Formatted Fake Fund Formatted  \n",
       "0  04 - Oakland                  $33,502,945.00      $26,015,757.65  \n",
       "1       Alameda                   $8,126,126.00       $9,042,850.83  "
      ]
     },
     "execution_count": 38,
     "metadata": {},
     "output_type": "execute_result"
    }
   ],
   "source": [
    "concat1"
   ]
  },
  {
   "cell_type": "code",
   "execution_count": 41,
   "id": "edad92c0-4e15-4156-b8bb-cebbac67cbab",
   "metadata": {},
   "outputs": [],
   "source": [
    "def repeated_charts(\n",
    "    df,\n",
    "    color_col: str,\n",
    "    y_encoding_list: list,\n",
    "    x_encoding_list: list,\n",
    "    chart_title: str,\n",
    "    tooltip_col: list,\n",
    "):\n",
    "    base = (\n",
    "        alt.Chart()\n",
    "        .mark_bar()\n",
    "        .encode(\n",
    "            color=alt.Color(\n",
    "                color_col, scale=alt.Scale(range=cp.CALITP_DIVERGING_COLORS), \n",
    "                legend = None\n",
    "            ),\n",
    "            tooltip= y_encoding_list + tooltip_col,\n",
    "        )\n",
    "        .properties(width=150, height=100)\n",
    "        .interactive()\n",
    "    )\n",
    "\n",
    "    chart = alt.vconcat(data=df)\n",
    "    for y_encoding in y_encoding_list:\n",
    "        row = alt.hconcat()\n",
    "        for x_encoding in x_encoding_list:\n",
    "            row |= base.encode(x=x_encoding, y=y_encoding)\n",
    "        chart &= row\n",
    "\n",
    "    return chart.properties(title=chart_title)"
   ]
  },
  {
   "cell_type": "code",
   "execution_count": 42,
   "id": "78312b03-a248-4547-8fc2-1cb4b97a2d7f",
   "metadata": {
    "tags": []
   },
   "outputs": [
    {
     "data": {
      "text/html": [
       "\n",
       "<div id=\"altair-viz-1b52ad52c1b2450787fb766c26b67e65\"></div>\n",
       "<script type=\"text/javascript\">\n",
       "  var VEGA_DEBUG = (typeof VEGA_DEBUG == \"undefined\") ? {} : VEGA_DEBUG;\n",
       "  (function(spec, embedOpt){\n",
       "    let outputDiv = document.currentScript.previousElementSibling;\n",
       "    if (outputDiv.id !== \"altair-viz-1b52ad52c1b2450787fb766c26b67e65\") {\n",
       "      outputDiv = document.getElementById(\"altair-viz-1b52ad52c1b2450787fb766c26b67e65\");\n",
       "    }\n",
       "    const paths = {\n",
       "      \"vega\": \"https://cdn.jsdelivr.net/npm//vega@5?noext\",\n",
       "      \"vega-lib\": \"https://cdn.jsdelivr.net/npm//vega-lib?noext\",\n",
       "      \"vega-lite\": \"https://cdn.jsdelivr.net/npm//vega-lite@4.17.0?noext\",\n",
       "      \"vega-embed\": \"https://cdn.jsdelivr.net/npm//vega-embed@6?noext\",\n",
       "    };\n",
       "\n",
       "    function maybeLoadScript(lib, version) {\n",
       "      var key = `${lib.replace(\"-\", \"\")}_version`;\n",
       "      return (VEGA_DEBUG[key] == version) ?\n",
       "        Promise.resolve(paths[lib]) :\n",
       "        new Promise(function(resolve, reject) {\n",
       "          var s = document.createElement('script');\n",
       "          document.getElementsByTagName(\"head\")[0].appendChild(s);\n",
       "          s.async = true;\n",
       "          s.onload = () => {\n",
       "            VEGA_DEBUG[key] = version;\n",
       "            return resolve(paths[lib]);\n",
       "          };\n",
       "          s.onerror = () => reject(`Error loading script: ${paths[lib]}`);\n",
       "          s.src = paths[lib];\n",
       "        });\n",
       "    }\n",
       "\n",
       "    function showError(err) {\n",
       "      outputDiv.innerHTML = `<div class=\"error\" style=\"color:red;\">${err}</div>`;\n",
       "      throw err;\n",
       "    }\n",
       "\n",
       "    function displayChart(vegaEmbed) {\n",
       "      vegaEmbed(outputDiv, spec, embedOpt)\n",
       "        .catch(err => showError(`Javascript Error: ${err.message}<br>This usually means there's a typo in your chart specification. See the javascript console for the full traceback.`));\n",
       "    }\n",
       "\n",
       "    if(typeof define === \"function\" && define.amd) {\n",
       "      requirejs.config({paths});\n",
       "      require([\"vega-embed\"], displayChart, err => showError(`Error loading script: ${err.message}`));\n",
       "    } else {\n",
       "      maybeLoadScript(\"vega\", \"5\")\n",
       "        .then(() => maybeLoadScript(\"vega-lite\", \"4.17.0\"))\n",
       "        .then(() => maybeLoadScript(\"vega-embed\", \"6\"))\n",
       "        .catch(showError)\n",
       "        .then(() => displayChart(vegaEmbed));\n",
       "    }\n",
       "  })({\"config\": {\"view\": {\"continuousWidth\": 400, \"continuousHeight\": 300}}, \"vconcat\": [{\"hconcat\": [{\"mark\": \"bar\", \"encoding\": {\"color\": {\"field\": \"Geography\", \"legend\": null, \"scale\": {\"range\": [\"#E16B26\", \"#EB9F3C\", \"#f6e7e1\", \"#8CBCCB\", \"#2EA8CE\", \"#136C97\"]}, \"type\": \"nominal\"}, \"tooltip\": [{\"field\": \"Geography\", \"type\": \"nominal\"}, {\"field\": \"Total Project ($1000) Formatted\", \"type\": \"nominal\"}, {\"field\": \"Fake Fund Formatted\", \"type\": \"nominal\"}, {\"field\": \"Total Projects\", \"type\": \"quantitative\"}], \"x\": {\"field\": \"Total Projects\", \"type\": \"quantitative\"}, \"y\": {\"field\": \"Geography\", \"type\": \"nominal\"}}, \"height\": 100, \"selection\": {\"selector012\": {\"type\": \"interval\", \"bind\": \"scales\", \"encodings\": [\"x\", \"y\"]}}, \"width\": 150}, {\"mark\": \"bar\", \"encoding\": {\"color\": {\"field\": \"Geography\", \"legend\": null, \"scale\": {\"range\": [\"#E16B26\", \"#EB9F3C\", \"#f6e7e1\", \"#8CBCCB\", \"#2EA8CE\", \"#136C97\"]}, \"type\": \"nominal\"}, \"tooltip\": [{\"field\": \"Geography\", \"type\": \"nominal\"}, {\"field\": \"Total Project ($1000) Formatted\", \"type\": \"nominal\"}, {\"field\": \"Fake Fund Formatted\", \"type\": \"nominal\"}, {\"field\": \"Total Projects\", \"type\": \"quantitative\"}], \"x\": {\"field\": \"Total Project Cost  $1,000\", \"type\": \"quantitative\"}, \"y\": {\"field\": \"Geography\", \"type\": \"nominal\"}}, \"height\": 100, \"selection\": {\"selector012\": {\"type\": \"interval\", \"bind\": \"scales\", \"encodings\": [\"x\", \"y\"]}}, \"width\": 150}, {\"mark\": \"bar\", \"encoding\": {\"color\": {\"field\": \"Geography\", \"legend\": null, \"scale\": {\"range\": [\"#E16B26\", \"#EB9F3C\", \"#f6e7e1\", \"#8CBCCB\", \"#2EA8CE\", \"#136C97\"]}, \"type\": \"nominal\"}, \"tooltip\": [{\"field\": \"Geography\", \"type\": \"nominal\"}, {\"field\": \"Total Project ($1000) Formatted\", \"type\": \"nominal\"}, {\"field\": \"Fake Fund Formatted\", \"type\": \"nominal\"}, {\"field\": \"Total Projects\", \"type\": \"quantitative\"}], \"x\": {\"field\": \"Current Fake Fund Requested\", \"type\": \"quantitative\"}, \"y\": {\"field\": \"Geography\", \"type\": \"nominal\"}}, \"height\": 100, \"selection\": {\"selector012\": {\"type\": \"interval\", \"bind\": \"scales\", \"encodings\": [\"x\", \"y\"]}}, \"width\": 150}]}], \"data\": {\"name\": \"data-c91bf1ea77f5543d61bf3da9c649e06b\"}, \"title\": \"My Title\", \"$schema\": \"https://vega.github.io/schema/vega-lite/v4.17.0.json\", \"datasets\": {\"data-c91bf1ea77f5543d61bf3da9c649e06b\": [{\"Total Projects\": 88.0, \"Total Project Cost  $1,000\": 33502945.0, \"Current Fake Fund Requested\": 26015757.65, \"Geography\": \"04 - Oakland\", \"Total Project ($1000) Formatted\": \"$33,502,945.00\", \"Fake Fund Formatted\": \"$26,015,757.65\"}, {\"Total Projects\": 30.0, \"Total Project Cost  $1,000\": 8126126.0, \"Current Fake Fund Requested\": 9042850.83, \"Geography\": \"Alameda\", \"Total Project ($1000) Formatted\": \"$8,126,126.00\", \"Fake Fund Formatted\": \"$9,042,850.83\"}]}}, {\"mode\": \"vega-lite\"});\n",
       "</script>"
      ],
      "text/plain": [
       "alt.VConcatChart(...)"
      ]
     },
     "execution_count": 42,
     "metadata": {},
     "output_type": "execute_result"
    }
   ],
   "source": [
    "repeated_charts(\n",
    "    concat1,\n",
    "    \"Geography:N\",\n",
    "    [\"Geography:N\"],\n",
    "    [\n",
    "        \"Total Projects:Q\",\n",
    "        \"Total Project Cost  $1,000:Q\",\n",
    "        \"Current Fake Fund Requested:Q\",\n",
    "    ],\n",
    "    \"My Title\",\n",
    "    [ \n",
    "        \"Total Project ($1000) Formatted\",\n",
    "        \"Fake Fund Formatted\",\n",
    "        \"Total Projects\",\n",
    "    ],\n",
    ")"
   ]
  }
 ],
 "metadata": {
  "kernelspec": {
   "display_name": "Python 3 (ipykernel)",
   "language": "python",
   "name": "python3"
  },
  "language_info": {
   "codemirror_mode": {
    "name": "ipython",
    "version": 3
   },
   "file_extension": ".py",
   "mimetype": "text/x-python",
   "name": "python",
   "nbconvert_exporter": "python",
   "pygments_lexer": "ipython3",
   "version": "3.10.5"
  }
 },
 "nbformat": 4,
 "nbformat_minor": 5
}
