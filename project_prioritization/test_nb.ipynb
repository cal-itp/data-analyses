{
 "cells": [
  {
   "cell_type": "code",
   "execution_count": null,
   "id": "d274a12f-77cb-4d15-8e51-36110676f886",
   "metadata": {},
   "outputs": [],
   "source": [
    "%%capture\n",
    "\n",
    "# Turn off warnings\n",
    "import warnings\n",
    "\n",
    "warnings.filterwarnings(\"ignore\")\n",
    "\n",
    "# Normal packages\n",
    "import geopandas as gpd\n",
    "import numpy as np\n",
    "import pandas as pd\n",
    "\n",
    "# Format\n",
    "from babel.numbers import format_currency\n",
    "\n",
    "# Display\n",
    "from IPython.display import HTML, Image, Markdown, display, display_html\n",
    "\n",
    "# Settings\n",
    "pd.options.display.max_columns = 100\n",
    "pd.set_option(\"display.max_rows\", None)\n",
    "pd.set_option(\"display.max_colwidth\", None)\n",
    "pd.options.display.float_format = \"{:,.2f}\".format\n",
    "\n",
    "# GCS, del later since this will presumbly be read from a script that cleans up the data\n",
    "GCS_FILE_PATH = \"gs://calitp-analytics-data/data-analyses/project_prioritization/\"\n",
    "FILE = \"fake_data.xlsx\"\n",
    "\n",
    "# My utilities\n",
    "import _utils"
   ]
  },
  {
   "cell_type": "code",
   "execution_count": null,
   "id": "b0490430-70cc-4ae6-8e14-d26dbd6a8ab8",
   "metadata": {},
   "outputs": [],
   "source": [
    "# Charts\n",
    "import altair as alt\n",
    "from shared_utils import altair_utils\n",
    "from shared_utils import calitp_color_palette as cp"
   ]
  },
  {
   "cell_type": "code",
   "execution_count": null,
   "id": "b2f959bf-816d-40da-a08f-63d640de313d",
   "metadata": {
    "tags": [
     "parameters"
    ]
   },
   "outputs": [],
   "source": [
    "# Parameter Cell - the county of interest\n",
    "parameter_county = \"Inyo\""
   ]
  },
  {
   "cell_type": "code",
   "execution_count": null,
   "id": "7db23b58-f3f3-4b38-bf80-4f311696e777",
   "metadata": {},
   "outputs": [],
   "source": [
    "# Create dfs\n",
    "df_statewide = pd.read_excel(f\"{GCS_FILE_PATH}{FILE}\", sheet_name=\"fake\")"
   ]
  },
  {
   "cell_type": "code",
   "execution_count": null,
   "id": "0176933b-98b2-495c-b137-b83ab2a43f48",
   "metadata": {},
   "outputs": [],
   "source": [
    "# Filter out a df for the county set in the parameter cell\n",
    "df_parameter = df_statewide.loc[\n",
    "    df_statewide[\"full_county_name\"] == parameter_county\n",
    "].reset_index(drop=True)"
   ]
  },
  {
   "cell_type": "code",
   "execution_count": null,
   "id": "7040c2ae-6788-4cbe-9172-dab323b30668",
   "metadata": {},
   "outputs": [],
   "source": [
    "# Grab the district this county is in\n",
    "parameter_county_district = df_parameter[\"district\"][0]\n",
    "\n",
    "# Grab the full district name\n",
    "parameter_county_district_full_name = df_parameter[\"district_full_name\"][0]"
   ]
  },
  {
   "cell_type": "code",
   "execution_count": null,
   "id": "ff6ca991-c767-44e3-8004-d8b88bd903b0",
   "metadata": {},
   "outputs": [],
   "source": [
    "# Dataframe just for the district the parameter county is located in\n",
    "df_parameter_district = df_statewide.loc[\n",
    "    df_statewide[\"district\"] == parameter_county_district\n",
    "].reset_index(drop=True)"
   ]
  },
  {
   "cell_type": "code",
   "execution_count": null,
   "id": "5ab7f359-db75-48cc-9394-36bd86634d4e",
   "metadata": {},
   "outputs": [],
   "source": [
    "df_parameter_district[\"district_full_name\"][0]"
   ]
  },
  {
   "cell_type": "code",
   "execution_count": null,
   "id": "c9b3503e-362c-4098-9dce-df87e46840db",
   "metadata": {},
   "outputs": [],
   "source": [
    "def county_district_comparison(df_parameter_county, df_parameter_district):\n",
    "    # Grab the full district name\n",
    "    district_full_name = df_parameter_district[\"district_full_name\"][0]\n",
    "\n",
    "    # Grab the full county name\n",
    "    county_full_name = df_parameter_county[\"full_county_name\"][0]\n",
    "\n",
    "    # Create summary table for district\n",
    "    district = _utils.summarize_by_project_names(df_parameter_district, \"primary_mode\")\n",
    "\n",
    "    # Create summary table for county\n",
    "    county = _utils.summarize_by_project_names(df_parameter_county, \"primary_mode\")\n",
    "\n",
    "    # Append grand total and keep only that row...doesn't work when I try to do this with a for loop\n",
    "    district = (\n",
    "        district.append(district.sum(numeric_only=True), ignore_index=True)\n",
    "        .tail(1)\n",
    "        .reset_index(drop=True)\n",
    "    )\n",
    "    county = (\n",
    "        county.append(county.sum(numeric_only=True), ignore_index=True)\n",
    "        .tail(1)\n",
    "        .reset_index(drop=True)\n",
    "    )\n",
    "\n",
    "    # Concat\n",
    "    concat1 = pd.concat([district, county]).reset_index(drop=True)\n",
    "    \n",
    "    # Declare a list that is to be converted into a column\n",
    "    geography = [district_full_name, county_full_name]\n",
    "    concat1[\"Geography\"] = geography\n",
    "    \n",
    "      \n",
    "    # Divide to find % of county against district \n",
    "    concat1.loc[2] = (concat1.loc[1]/concat1.loc[0])*100\n",
    "\n",
    "    # Drop old cols\n",
    "    concat1 = concat1.drop(\n",
    "        columns=[\n",
    "            \"Primary Mode\",\n",
    "            \"Fake Fund Formatted\",\n",
    "            \"Total Project ($1000) Formatted\",\n",
    "        ]\n",
    "    )\n",
    "\n",
    "    # Create new formatted monetary cols\n",
    "    concat1[\"Total Project ($1000) Formatted\"] = concat1[\n",
    "        \"Total Project Cost  $1,000\"\n",
    "    ].apply(lambda x: format_currency(x, currency=\"USD\", locale=\"en_US\"))\n",
    "\n",
    "    concat1[\"Fake Fund Formatted\"] = concat1[\"Current Fake Fund Requested\"].apply(\n",
    "        lambda x: format_currency(x, currency=\"USD\", locale=\"en_US\")\n",
    "    )\n",
    "\n",
    "    return concat1"
   ]
  },
  {
   "cell_type": "code",
   "execution_count": null,
   "id": "187c74f9-2bb6-4d00-bc66-85f4b0f6ab24",
   "metadata": {},
   "outputs": [],
   "source": [
    "concat1 = county_district_comparison(df_parameter, df_parameter_district)"
   ]
  },
  {
   "cell_type": "code",
   "execution_count": null,
   "id": "ae503b1a-7bdb-481b-a7d0-0a8bc7a842ff",
   "metadata": {},
   "outputs": [],
   "source": [
    "concat1"
   ]
  },
  {
   "cell_type": "code",
   "execution_count": null,
   "id": "edad92c0-4e15-4156-b8bb-cebbac67cbab",
   "metadata": {},
   "outputs": [],
   "source": [
    "def repeated_charts(\n",
    "    df,\n",
    "    color_col: str,\n",
    "    y_encoding_list: list,\n",
    "    x_encoding_list: list,\n",
    "    chart_title: str,\n",
    "    tooltip_col: list,\n",
    "):\n",
    "    base = (\n",
    "        alt.Chart()\n",
    "        .mark_bar()\n",
    "        .encode(\n",
    "            color=alt.Color(\n",
    "                color_col, scale=alt.Scale(range=cp.CALITP_DIVERGING_COLORS)\n",
    "            ),\n",
    "            tooltip= y_encoding_list + tooltip_col,\n",
    "        )\n",
    "        .properties(width=200, height=200)\n",
    "        .interactive()\n",
    "    )\n",
    "\n",
    "    chart = alt.vconcat(data=df)\n",
    "    for y_encoding in y_encoding_list:\n",
    "        row = alt.hconcat()\n",
    "        for x_encoding in x_encoding_list:\n",
    "            row |= base.encode(x=x_encoding, y=y_encoding)\n",
    "        chart &= row\n",
    "\n",
    "    return chart.properties(title=chart_title)"
   ]
  },
  {
   "cell_type": "code",
   "execution_count": null,
   "id": "78312b03-a248-4547-8fc2-1cb4b97a2d7f",
   "metadata": {
    "tags": []
   },
   "outputs": [],
   "source": [
    "repeated_charts(\n",
    "    concat1,\n",
    "    \"Geography:N\",\n",
    "    [\"Geography:N\"],\n",
    "    [\n",
    "        \"Total Projects:Q\",\n",
    "        \"Total Project Cost  $1,000:Q\",\n",
    "        \"Current Fake Fund Requested:Q\",\n",
    "    ],\n",
    "    \"My Title\",\n",
    "    [ \n",
    "        \"Total Project ($1000) Formatted\",\n",
    "        \"Fake Fund Formatted\",\n",
    "        \"Total Projects\",\n",
    "    ],\n",
    ")"
   ]
  }
 ],
 "metadata": {
  "kernelspec": {
   "display_name": "Python 3 (ipykernel)",
   "language": "python",
   "name": "python3"
  },
  "language_info": {
   "codemirror_mode": {
    "name": "ipython",
    "version": 3
   },
   "file_extension": ".py",
   "mimetype": "text/x-python",
   "name": "python",
   "nbconvert_exporter": "python",
   "pygments_lexer": "ipython3",
   "version": "3.10.5"
  }
 },
 "nbformat": 4,
 "nbformat_minor": 5
}
