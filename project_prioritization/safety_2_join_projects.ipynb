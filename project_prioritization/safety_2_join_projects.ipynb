{
 "cells": [
  {
   "cell_type": "code",
   "execution_count": 3,
   "id": "2b4fcc6c-a72a-4763-b222-9cc4aa31de8c",
   "metadata": {},
   "outputs": [
    {
     "ename": "ModuleNotFoundError",
     "evalue": "No module named 'calitp'",
     "output_type": "error",
     "traceback": [
      "\u001b[0;31m---------------------------------------------------------------------------\u001b[0m",
      "\u001b[0;31mModuleNotFoundError\u001b[0m                       Traceback (most recent call last)",
      "Cell \u001b[0;32mIn[3], line 10\u001b[0m\n\u001b[1;32m      7\u001b[0m \u001b[38;5;28;01mimport\u001b[39;00m \u001b[38;5;21;01mgeopandas\u001b[39;00m \u001b[38;5;28;01mas\u001b[39;00m \u001b[38;5;21;01mgpd\u001b[39;00m\n\u001b[1;32m      8\u001b[0m \u001b[38;5;28;01mfrom\u001b[39;00m \u001b[38;5;21;01msiuba\u001b[39;00m \u001b[38;5;28;01mimport\u001b[39;00m \u001b[38;5;241m*\u001b[39m\n\u001b[0;32m---> 10\u001b[0m \u001b[38;5;28;01mimport\u001b[39;00m \u001b[38;5;21;01mshared_utils\u001b[39;00m\n\u001b[1;32m     11\u001b[0m \u001b[38;5;28;01mimport\u001b[39;00m \u001b[38;5;21;01mdatetime\u001b[39;00m \u001b[38;5;28;01mas\u001b[39;00m \u001b[38;5;21;01mdt\u001b[39;00m\n\u001b[1;32m     13\u001b[0m \u001b[38;5;28;01mimport\u001b[39;00m \u001b[38;5;21;01mgcsfs\u001b[39;00m\n",
      "File \u001b[0;32m~/data-analyses/_shared_utils/shared_utils/__init__.py:1\u001b[0m\n\u001b[0;32m----> 1\u001b[0m \u001b[38;5;28;01mfrom\u001b[39;00m \u001b[38;5;21;01m.\u001b[39;00m \u001b[38;5;28;01mimport\u001b[39;00m (\n\u001b[1;32m      2\u001b[0m     calitp_color_palette,\n\u001b[1;32m      3\u001b[0m     dask_utils,\n\u001b[1;32m      4\u001b[0m     geography_utils,\n\u001b[1;32m      5\u001b[0m     gtfs_utils,\n\u001b[1;32m      6\u001b[0m     gtfs_utils_v2,\n\u001b[1;32m      7\u001b[0m     map_utils,\n\u001b[1;32m      8\u001b[0m     portfolio_utils,\n\u001b[1;32m      9\u001b[0m     rt_dates,\n\u001b[1;32m     10\u001b[0m     rt_utils,\n\u001b[1;32m     11\u001b[0m     styleguide,\n\u001b[1;32m     12\u001b[0m     utils,\n\u001b[1;32m     13\u001b[0m )\n\u001b[1;32m     15\u001b[0m __all__ \u001b[38;5;241m=\u001b[39m [\n\u001b[1;32m     16\u001b[0m     \u001b[38;5;124m\"\u001b[39m\u001b[38;5;124mcalitp_color_palette\u001b[39m\u001b[38;5;124m\"\u001b[39m,\n\u001b[1;32m     17\u001b[0m     \u001b[38;5;124m\"\u001b[39m\u001b[38;5;124mdask_utils\u001b[39m\u001b[38;5;124m\"\u001b[39m,\n\u001b[0;32m   (...)\u001b[0m\n\u001b[1;32m     26\u001b[0m     \u001b[38;5;124m\"\u001b[39m\u001b[38;5;124mutils\u001b[39m\u001b[38;5;124m\"\u001b[39m,\n\u001b[1;32m     27\u001b[0m ]\n",
      "File \u001b[0;32m~/data-analyses/_shared_utils/shared_utils/dask_utils.py:11\u001b[0m\n\u001b[1;32m      9\u001b[0m \u001b[38;5;28;01mfrom\u001b[39;00m \u001b[38;5;21;01mdask\u001b[39;00m \u001b[38;5;28;01mimport\u001b[39;00m compute\n\u001b[1;32m     10\u001b[0m \u001b[38;5;28;01mfrom\u001b[39;00m \u001b[38;5;21;01mdask\u001b[39;00m\u001b[38;5;21;01m.\u001b[39;00m\u001b[38;5;21;01mdelayed\u001b[39;00m \u001b[38;5;28;01mimport\u001b[39;00m Delayed  \u001b[38;5;66;03m# type hint\u001b[39;00m\n\u001b[0;32m---> 11\u001b[0m \u001b[38;5;28;01mfrom\u001b[39;00m \u001b[38;5;21;01mshared_utils\u001b[39;00m \u001b[38;5;28;01mimport\u001b[39;00m utils\n\u001b[1;32m     13\u001b[0m fs \u001b[38;5;241m=\u001b[39m gcsfs\u001b[38;5;241m.\u001b[39mGCSFileSystem()\n\u001b[1;32m     16\u001b[0m \u001b[38;5;28;01mdef\u001b[39;00m \u001b[38;5;21mconcat_and_export\u001b[39m(\n\u001b[1;32m     17\u001b[0m     gcs_folder: \u001b[38;5;28mstr\u001b[39m, file_name: \u001b[38;5;28mstr\u001b[39m, filetype: Literal[\u001b[38;5;124m\"\u001b[39m\u001b[38;5;124mdf\u001b[39m\u001b[38;5;124m\"\u001b[39m, \u001b[38;5;124m\"\u001b[39m\u001b[38;5;124mgdf\u001b[39m\u001b[38;5;124m\"\u001b[39m] \u001b[38;5;241m=\u001b[39m \u001b[38;5;124m\"\u001b[39m\u001b[38;5;124mdf\u001b[39m\u001b[38;5;124m\"\u001b[39m\n\u001b[1;32m     18\u001b[0m ):\n",
      "File \u001b[0;32m~/data-analyses/_shared_utils/shared_utils/utils.py:13\u001b[0m\n\u001b[1;32m     11\u001b[0m \u001b[38;5;28;01mimport\u001b[39;00m \u001b[38;5;21;01mgeopandas\u001b[39;00m \u001b[38;5;28;01mas\u001b[39;00m \u001b[38;5;21;01mgpd\u001b[39;00m\n\u001b[1;32m     12\u001b[0m \u001b[38;5;28;01mimport\u001b[39;00m \u001b[38;5;21;01mrequests\u001b[39;00m\n\u001b[0;32m---> 13\u001b[0m \u001b[38;5;28;01mfrom\u001b[39;00m \u001b[38;5;21;01mcalitp\u001b[39;00m\u001b[38;5;21;01m.\u001b[39;00m\u001b[38;5;21;01mstorage\u001b[39;00m \u001b[38;5;28;01mimport\u001b[39;00m get_fs\n\u001b[1;32m     15\u001b[0m fs \u001b[38;5;241m=\u001b[39m get_fs()\n\u001b[1;32m     18\u001b[0m \u001b[38;5;28;01mdef\u001b[39;00m \u001b[38;5;21msanitize_file_path\u001b[39m(file_name: \u001b[38;5;28mstr\u001b[39m) \u001b[38;5;241m-\u001b[39m\u001b[38;5;241m>\u001b[39m \u001b[38;5;28mstr\u001b[39m:\n",
      "\u001b[0;31mModuleNotFoundError\u001b[0m: No module named 'calitp'"
     ]
    }
   ],
   "source": [
    "import os\n",
    "os.environ[\"CALITP_BQ_MAX_BYTES\"] = str(1_000_000_000_000) ## 1TB?\n",
    "\n",
    "# import _utils # amanda's collected utils\n",
    "\n",
    "import pandas as pd\n",
    "import geopandas as gpd\n",
    "from siuba import *\n",
    "\n",
    "import shared_utils\n",
    "import datetime as dt\n",
    "\n",
    "import gcsfs\n",
    "\n",
    "from calitp_data.storage import get_fs\n",
    "fs = get_fs()\n",
    "\n",
    "GCS_FILE_PATH = \"gs://calitp-analytics-data/data-analyses/project_prioritization/\""
   ]
  },
  {
   "cell_type": "markdown",
   "id": "6804dc0b-fd05-46e0-b206-0876b1576924",
   "metadata": {},
   "source": [
    "# Spatially Join SWITRS Data to Projects"
   ]
  },
  {
   "cell_type": "code",
   "execution_count": null,
   "id": "06f614bb-e87f-43b0-a1d1-a698108a4894",
   "metadata": {},
   "outputs": [],
   "source": [
    "# load projects\n",
    "with get_fs().open(f'{GCS_FILE_PATH}nonshopp_gdf.geojson') as f:\n",
    "    all_proj = gpd.read_file(f)"
   ]
  },
  {
   "cell_type": "code",
   "execution_count": null,
   "id": "2bce276e-ebeb-4e7f-8d2b-c996e486b3c3",
   "metadata": {},
   "outputs": [],
   "source": [
    "all_proj.head()"
   ]
  },
  {
   "cell_type": "code",
   "execution_count": null,
   "id": "33d2ded8-9b0f-4f45-b57c-43e8b8e23a92",
   "metadata": {},
   "outputs": [],
   "source": [
    "# buffer the projects w/ geometry - start w/ 100ft?\n",
    "all_proj_geom = (all_proj\n",
    "                   >> filter(_.geometry.is_valid)\n",
    "                   )"
   ]
  },
  {
   "cell_type": "code",
   "execution_count": null,
   "id": "d11f15d9-7a60-4fe8-b38a-d07d9c1a2a79",
   "metadata": {},
   "outputs": [],
   "source": [
    "# re-project\n",
    "all_proj_geom = all_proj_geom.to_crs(shared_utils.geography_utils.CA_NAD83Albers)"
   ]
  },
  {
   "cell_type": "code",
   "execution_count": null,
   "id": "1f4b8c15-4b78-4640-bf0c-7f44096c4142",
   "metadata": {},
   "outputs": [],
   "source": [
    "all_proj_geom.explore(tiles=\"cartodbpositron\")"
   ]
  },
  {
   "cell_type": "code",
   "execution_count": null,
   "id": "ba045d44-e3ff-4e76-869c-af5a35c7b52f",
   "metadata": {},
   "outputs": [],
   "source": [
    "# add buffer - 100 ft ~ 30m\n",
    "all_proj_geom['b100'] = all_proj_geom.buffer(30)\n",
    "all_proj_geom['b200'] = all_proj_geom.buffer(61)"
   ]
  },
  {
   "cell_type": "code",
   "execution_count": null,
   "id": "60810975-9a80-4b46-9fa1-57bd447d046f",
   "metadata": {},
   "outputs": [],
   "source": [
    "all_proj_geom = all_proj_geom.set_geometry('b100')"
   ]
  },
  {
   "cell_type": "code",
   "execution_count": null,
   "id": "e534e259-74b8-4624-9dae-b8055750bfb4",
   "metadata": {},
   "outputs": [],
   "source": [
    "# load safety data\n",
    "switrs = gpd.read_parquet(f'{GCS_FILE_PATH}SWITRS_clean.parquet')"
   ]
  },
  {
   "cell_type": "code",
   "execution_count": null,
   "id": "2a1481c2-998c-41a5-8993-97ae1fb23dbe",
   "metadata": {},
   "outputs": [],
   "source": [
    "# drop dt for folium mapping\n",
    "switrs = (switrs >> select(-_.collision_dt))"
   ]
  },
  {
   "cell_type": "code",
   "execution_count": null,
   "id": "b9dc269e-b2db-4aac-a64d-9e0b6a961c54",
   "metadata": {},
   "outputs": [],
   "source": [
    "# test mapping crashes only\n",
    "switrs.head(100).explore(tiles=\"cartodbpositron\")"
   ]
  },
  {
   "cell_type": "code",
   "execution_count": null,
   "id": "8835488d-b144-4ea7-9f3c-d271ab5d3a58",
   "metadata": {},
   "outputs": [],
   "source": [
    "# overlay all crashes w/ projects\n",
    "m2 = switrs.explore(m=m\n",
    ")"
   ]
  },
  {
   "cell_type": "code",
   "execution_count": null,
   "id": "cd4987bb-b827-4964-b428-855e15dd3f26",
   "metadata": {},
   "outputs": [],
   "source": [
    "m2"
   ]
  },
  {
   "cell_type": "code",
   "execution_count": null,
   "id": "7cb479e6-15c9-483f-a2a7-c3ad7f99e037",
   "metadata": {},
   "outputs": [],
   "source": [
    "# clip crashes to those within buffer\n",
    "switrs_clip = switrs.clip(all_proj_geom)"
   ]
  },
  {
   "cell_type": "code",
   "execution_count": null,
   "id": "0e95ca6a-2c86-48a8-a0fb-c2970868afd2",
   "metadata": {},
   "outputs": [],
   "source": [
    "switrs_clip.plot()"
   ]
  },
  {
   "cell_type": "code",
   "execution_count": null,
   "id": "fde21ea9-48c9-4ce0-9841-0dd345a2bdb3",
   "metadata": {},
   "outputs": [],
   "source": [
    "# spatial join - left side is safety data. Aggregate up fatals, severely injured, etc to each project"
   ]
  },
  {
   "cell_type": "markdown",
   "id": "af31c634-da1a-4df7-aa2e-c7dfef750402",
   "metadata": {},
   "source": [
    "Test Metrics:\n",
    "* n fatalities within 100ft buffer of project area over 5 year lookback period\n",
    "    * test different temporal study periods; rural may need more time\n",
    "    * test different buffers; different project types may need different sizes\n",
    "* n fatalities+severely injured (KSIs) w/in buffer area\n",
    "* n ped/bike crashes w/in buffer area\n",
    "* % ped/bike crashes out of all crashes w/in buffer area"
   ]
  }
 ],
 "metadata": {
  "kernelspec": {
   "display_name": "Python 3 (ipykernel)",
   "language": "python",
   "name": "python3"
  },
  "language_info": {
   "codemirror_mode": {
    "name": "ipython",
    "version": 3
   },
   "file_extension": ".py",
   "mimetype": "text/x-python",
   "name": "python",
   "nbconvert_exporter": "python",
   "pygments_lexer": "ipython3",
   "version": "3.9.13"
  }
 },
 "nbformat": 4,
 "nbformat_minor": 5
}
