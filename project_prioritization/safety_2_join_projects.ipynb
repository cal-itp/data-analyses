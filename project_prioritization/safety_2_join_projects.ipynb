{
 "cells": [
  {
   "cell_type": "code",
   "execution_count": null,
   "id": "2b4fcc6c-a72a-4763-b222-9cc4aa31de8c",
   "metadata": {},
   "outputs": [],
   "source": [
    "import os\n",
    "os.environ[\"CALITP_BQ_MAX_BYTES\"] = str(1_000_000_000_000) ## 1TB?\n",
    "\n",
    "# import _utils # amanda's collected utils\n",
    "\n",
    "import pandas as pd\n",
    "import geopandas as gpd\n",
    "from siuba import *\n",
    "\n",
    "import shared_utils\n",
    "import datetime as dt\n",
    "\n",
    "import gcsfs\n",
    "\n",
    "from calitp_data.storage import get_fs\n",
    "fs = get_fs()\n",
    "\n",
    "GCS_FILE_PATH = \"gs://calitp-analytics-data/data-analyses/project_prioritization/\""
   ]
  },
  {
   "cell_type": "markdown",
   "id": "6804dc0b-fd05-46e0-b206-0876b1576924",
   "metadata": {},
   "source": [
    "# Spatially Join SWITRS Data to Projects"
   ]
  },
  {
   "cell_type": "code",
   "execution_count": null,
   "id": "06f614bb-e87f-43b0-a1d1-a698108a4894",
   "metadata": {},
   "outputs": [],
   "source": [
    "# load projects\n",
    "with get_fs().open(f'{GCS_FILE_PATH}nonshopp_gdf.geojson') as f:\n",
    "    all_proj = gpd.read_file(f)"
   ]
  },
  {
   "cell_type": "code",
   "execution_count": null,
   "id": "2bce276e-ebeb-4e7f-8d2b-c996e486b3c3",
   "metadata": {
    "tags": []
   },
   "outputs": [],
   "source": [
    "all_proj.head()"
   ]
  },
  {
   "cell_type": "code",
   "execution_count": null,
   "id": "33d2ded8-9b0f-4f45-b57c-43e8b8e23a92",
   "metadata": {},
   "outputs": [],
   "source": [
    "# buffer the projects w/ geometry - start w/ 100ft?\n",
    "all_proj_geom = (all_proj\n",
    "                   >> filter(_.geometry.is_valid)\n",
    "                   )"
   ]
  },
  {
   "cell_type": "code",
   "execution_count": null,
   "id": "d11f15d9-7a60-4fe8-b38a-d07d9c1a2a79",
   "metadata": {},
   "outputs": [],
   "source": [
    "# re-project\n",
    "all_proj_geom = all_proj_geom.to_crs(shared_utils.geography_utils.CA_NAD83Albers)"
   ]
  },
  {
   "cell_type": "code",
   "execution_count": null,
   "id": "1f4b8c15-4b78-4640-bf0c-7f44096c4142",
   "metadata": {},
   "outputs": [],
   "source": [
    "all_proj_geom.explore(tiles=\"cartodbpositron\")"
   ]
  },
  {
   "cell_type": "code",
   "execution_count": null,
   "id": "ba045d44-e3ff-4e76-869c-af5a35c7b52f",
   "metadata": {},
   "outputs": [],
   "source": [
    "# add buffer - 100 ft ~ 30m\n",
    "all_proj_geom['b100'] = all_proj_geom.buffer(30)\n",
    "all_proj_geom['b200'] = all_proj_geom.buffer(61)"
   ]
  },
  {
   "cell_type": "code",
   "execution_count": null,
   "id": "60810975-9a80-4b46-9fa1-57bd447d046f",
   "metadata": {},
   "outputs": [],
   "source": [
    "all_proj_geom = all_proj_geom.set_geometry('b200')"
   ]
  },
  {
   "cell_type": "code",
   "execution_count": null,
   "id": "e534e259-74b8-4624-9dae-b8055750bfb4",
   "metadata": {},
   "outputs": [],
   "source": [
    "# load safety data\n",
    "switrs = gpd.read_parquet(f'{GCS_FILE_PATH}SWITRS_clean.parquet')"
   ]
  },
  {
   "cell_type": "code",
   "execution_count": null,
   "id": "2a1481c2-998c-41a5-8993-97ae1fb23dbe",
   "metadata": {},
   "outputs": [],
   "source": [
    "# drop dt for folium mapping\n",
    "switrs = (switrs >> select(-_.collision_dt))"
   ]
  },
  {
   "cell_type": "code",
   "execution_count": null,
   "id": "b022b8dc-e276-4ad2-ad26-f70fb511711c",
   "metadata": {},
   "outputs": [],
   "source": [
    "switrs.groupby(switrs.sc_collision_severity).count()"
   ]
  },
  {
   "cell_type": "code",
   "execution_count": null,
   "id": "b9dc269e-b2db-4aac-a64d-9e0b6a961c54",
   "metadata": {},
   "outputs": [],
   "source": [
    "# test mapping crashes only\n",
    "switrs.head(100).explore(tiles=\"cartodbpositron\")"
   ]
  },
  {
   "cell_type": "code",
   "execution_count": null,
   "id": "7cb479e6-15c9-483f-a2a7-c3ad7f99e037",
   "metadata": {},
   "outputs": [],
   "source": [
    "# clip crashes to those within buffer\n",
    "switrs_clip = switrs.clip(all_proj_geom)"
   ]
  },
  {
   "cell_type": "code",
   "execution_count": null,
   "id": "75193b24-9162-4e22-b63d-824f9b0d3d16",
   "metadata": {},
   "outputs": [],
   "source": [
    "len(switrs_clip)"
   ]
  },
  {
   "cell_type": "code",
   "execution_count": null,
   "id": "0e95ca6a-2c86-48a8-a0fb-c2970868afd2",
   "metadata": {},
   "outputs": [],
   "source": [
    "switrs_clip.explore(\"sc_collision_severity\",tiles=\"cartodbpositron\")"
   ]
  },
  {
   "cell_type": "code",
   "execution_count": null,
   "id": "c31605be-8227-442c-a937-34353b1c1452",
   "metadata": {},
   "outputs": [],
   "source": [
    "# spatial join - left side is safety data, each obs will be a crash point intersecting the project area\n",
    "switrs_proj = switrs.sjoin(all_proj_geom, how='right', predicate='intersects')"
   ]
  },
  {
   "cell_type": "code",
   "execution_count": null,
   "id": "933eda22-bf4d-4cf3-98ee-47a773c586d6",
   "metadata": {},
   "outputs": [],
   "source": [
    "# convert ped, bike accident to numeric flags\n",
    "switrs_proj = (switrs_proj\n",
    "              >> mutate(pedflag = if_else(_.pedestrian_accident=='Y',1,0),\n",
    "                        bikeflag = if_else(_.bicycle_accident=='Y',1,0)\n",
    "                ))"
   ]
  },
  {
   "cell_type": "code",
   "execution_count": null,
   "id": "f5c534be-d69f-454e-9a17-440e84979df4",
   "metadata": {},
   "outputs": [],
   "source": [
    "# Aggregate up fatals, severely injured, etc to each project\n",
    "# can't group by geometry because it's not orderable and there are different types\n",
    "switrs_proj_agg = (switrs_proj\n",
    "                    >> group_by(_.ppno, _.project_name, _.detailed_project_title)\n",
    "                    >> summarize(sum_fatals = _.number_killed.sum(),\n",
    "                                 sum_injured = _.number_injured.sum(),\n",
    "                                 sum_ped = _.pedflag.sum(),\n",
    "                                 sum_bike = _.bikeflag.sum()\n",
    "                    )\n",
    "                                )"
   ]
  },
  {
   "cell_type": "code",
   "execution_count": null,
   "id": "84e8068d-9d7f-4ffe-b3d1-e5a738eed6a7",
   "metadata": {},
   "outputs": [],
   "source": [
    "# put back project geometry\n",
    "switrs_proj_agg_geo = gpd.GeoDataFrame(data=(all_proj_geom\n",
    "                  >> select(_.geometry,_.ppno,_.project_name,_.detailed_project_title)\n",
    "                  >> right_join(_,switrs_proj_agg)\n",
    "                  ))"
   ]
  },
  {
   "cell_type": "code",
   "execution_count": null,
   "id": "ffb52ee2-ca05-43cb-825d-5615674c10f0",
   "metadata": {},
   "outputs": [],
   "source": [
    "switrs_proj_agg_geo.explore(tiles=\"cartodbpositron\")"
   ]
  },
  {
   "cell_type": "markdown",
   "id": "af31c634-da1a-4df7-aa2e-c7dfef750402",
   "metadata": {},
   "source": [
    "Test Metrics:\n",
    "* n fatalities within 100ft buffer of project area over 5 year lookback period\n",
    "    * test different temporal study periods; rural may need more time\n",
    "    * test different buffers; different project types may need different sizes\n",
    "* n fatalities+severely injured (KSIs) w/in buffer area\n",
    "* n ped/bike crashes w/in buffer area\n",
    "* % ped/bike crashes out of all crashes w/in buffer area"
   ]
  }
 ],
 "metadata": {
  "kernelspec": {
   "display_name": "Python 3 (ipykernel)",
   "language": "python",
   "name": "python3"
  },
  "language_info": {
   "codemirror_mode": {
    "name": "ipython",
    "version": 3
   },
   "file_extension": ".py",
   "mimetype": "text/x-python",
   "name": "python",
   "nbconvert_exporter": "python",
   "pygments_lexer": "ipython3",
   "version": "3.9.13"
  }
 },
 "nbformat": 4,
 "nbformat_minor": 5
}
