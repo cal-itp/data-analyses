{
 "cells": [
  {
   "cell_type": "markdown",
   "id": "790b78aa-99ac-4e5b-92a9-b91f05aea3ae",
   "metadata": {},
   "source": [
    "### Cleaning up Survey123 Geometry\n"
   ]
  },
  {
   "cell_type": "markdown",
   "id": "e86fa321-ccaf-44b7-abec-846ca483546e",
   "metadata": {},
   "source": [
    "* Monica's geojsons into our GCS?\n",
    "* It would be great to save a parquet with one row per project element and a common project id.\n",
    "* https://pypi.org/project/fs-gcsfs/\n",
    "* Pip install `pip install fs-gcsfs` and `calitp_data_infra`"
   ]
  },
  {
   "cell_type": "code",
   "execution_count": null,
   "id": "9579627f-0a7e-41f9-aed9-af96f0f273d9",
   "metadata": {},
   "outputs": [],
   "source": [
    "import geopandas as gpd\n",
    "import pandas as pd\n",
    "from shared_utils import utils, geography_utils"
   ]
  },
  {
   "cell_type": "code",
   "execution_count": null,
   "id": "750a9acb-3c0d-47e1-b52a-8a6bf6130a7b",
   "metadata": {},
   "outputs": [],
   "source": [
    "from calitp_data_analysis import get_fs\n",
    "fs = get_fs()\n",
    "import os\n",
    "import _utils\n",
    "import fiona"
   ]
  },
  {
   "cell_type": "code",
   "execution_count": null,
   "id": "bcaa3f89-ae5f-440f-96c3-4c58c00f1b3f",
   "metadata": {},
   "outputs": [],
   "source": [
    "pd.options.display.max_columns = 100\n",
    "pd.options.display.float_format = \"{:.2f}\".format\n",
    "pd.set_option(\"display.max_rows\", None)\n",
    "pd.set_option(\"display.max_colwidth\", None)"
   ]
  },
  {
   "cell_type": "markdown",
   "id": "c4926fe2-7260-428c-8404-64f803b9d8c8",
   "metadata": {},
   "source": [
    "#### Geometry Intake geojson\n",
    "* Same thing as layer 0 below"
   ]
  },
  {
   "cell_type": "code",
   "execution_count": null,
   "id": "e847d06d-7838-49b8-aeef-1ddc2e29b170",
   "metadata": {},
   "outputs": [],
   "source": [
    "def to_snakecase(df):\n",
    "    df.columns = df.columns.str.lower().str.replace(' ', '_') \n",
    "    return df"
   ]
  },
  {
   "cell_type": "code",
   "execution_count": null,
   "id": "7b5d0437-0176-4ad4-b115-647d743629e3",
   "metadata": {},
   "outputs": [],
   "source": [
    "geo_path = \"TCEP_SCCP_GeometryIntake_geojson_20230801.zip\""
   ]
  },
  {
   "cell_type": "code",
   "execution_count": null,
   "id": "4426c5e9-eb2f-47a3-ab8f-44673e5e0411",
   "metadata": {},
   "outputs": [],
   "source": [
    "#with get_fs().open(f\"{TCEP_SCCP_GCS}{geo_path}\") as f:\n",
    "#     tcep_sccp_geo = to_snakecase(gpd.read_file(f))\n"
   ]
  },
  {
   "cell_type": "code",
   "execution_count": null,
   "id": "0c7089ce-2fb5-4279-9c23-60b23b73cac3",
   "metadata": {},
   "outputs": [],
   "source": [
    "# tcep_sccp_geo.sample()"
   ]
  },
  {
   "cell_type": "code",
   "execution_count": null,
   "id": "d0ab3fd2-bb59-4fce-bf77-2e637498a66b",
   "metadata": {},
   "outputs": [],
   "source": [
    "#tcep_sccp_geo.shape"
   ]
  },
  {
   "cell_type": "code",
   "execution_count": null,
   "id": "80efecda-c922-4eb8-8ba7-85fe86c526d7",
   "metadata": {},
   "outputs": [],
   "source": [
    "#tcep_sccp_geo.project_name.nunique()"
   ]
  },
  {
   "cell_type": "code",
   "execution_count": null,
   "id": "ff24799e-400e-47e2-a3f2-907bc2ff6efa",
   "metadata": {
    "scrolled": true,
    "tags": []
   },
   "outputs": [],
   "source": [
    "#tcep_sccp_geo.drop(columns = ['geometry'])"
   ]
  },
  {
   "cell_type": "code",
   "execution_count": null,
   "id": "51650a2c-64db-47e8-b9dd-c6dce1b7b25b",
   "metadata": {
    "scrolled": true,
    "tags": []
   },
   "outputs": [],
   "source": [
    "# tcep_sccp_geo.sort_values(by = ['project_name'])[['project_name','which_type_of_infrastructure_does_the_geometry_above_correspond_to?','geometry']]"
   ]
  },
  {
   "cell_type": "code",
   "execution_count": null,
   "id": "899f87f4-88e9-4c25-a484-e6cb62c6a5a0",
   "metadata": {},
   "outputs": [],
   "source": [
    "# tcep_sccp_geo.explore(style_kwds = {'weight':5}, height = 400, width = 1000)"
   ]
  },
  {
   "cell_type": "markdown",
   "id": "375f7f0a-4e03-4a42-b703-85924f2599a6",
   "metadata": {},
   "source": [
    "#### Geometry Scores\n",
    "* https://stackoverflow.com/questions/64277987/python-geopandas-failing-to-read-misread-750mb-zip-esri-gdb-file-but-not-200mb\n",
    "* https://fiona.readthedocs.io/en/latest/README.html\n",
    "* https://fiona.readthedocs.io/en/stable/manual.html"
   ]
  },
  {
   "cell_type": "code",
   "execution_count": null,
   "id": "cb3b0a24-f85e-4552-8fe6-0b9686cdb119",
   "metadata": {},
   "outputs": [],
   "source": [
    "def open_survey123(save_to_gsc:bool = False):\n",
    "    # https://gis.stackexchange.com/questions/255138/reading-the-names-of-geodatabase-file-layers-in-python\n",
    "    file = \"TCEP_SCCP_Score_Geometry_20230801.gdb.zip\"\n",
    "    GCS_PATH = f\"{_utils.GCS_FILE_PATH}Survey123_Geo/\"\n",
    "    fs.get(f'{GCS_PATH}{file}', 'tmp.gdb.zip')\n",
    "    geo_layers = fiona.listlayers('tmp.gdb.zip')\n",
    "    \n",
    "    print(f\"layers = {geo_layers}\")\n",
    "    \n",
    "    gdf = pd.DataFrame()\n",
    "    \n",
    "    for i in geo_layers:\n",
    "        temp = to_snakecase(gpd.read_file('tmp.gdb.zip', layer = i))\n",
    "        gdf = pd.concat([gdf, temp], axis=0)\n",
    "        \n",
    "    print(\"invalid geo rows:\")\n",
    "    display(gdf[~gdf.geometry.is_valid][['lyr','projname','geometry','geopoint_comments']])\n",
    "    \n",
    "    print(\"repeated geos rows:\")\n",
    "    \n",
    "    repeated_cols = ['geometry','parentglobalid','projname','creator']\n",
    "    repeated_geo = (gdf\n",
    "                .groupby(repeated_cols)\n",
    "                .agg({'editor':'count'})\n",
    "                .reset_index()\n",
    "               ) \n",
    "    \n",
    "    repeated_geo = repeated_geo.loc[repeated_geo.editor > 1]\n",
    "    display(repeated_geo) \n",
    "    \n",
    "    \n",
    "    # Keep only valid geometries\n",
    "    gdf = gdf[gdf.geometry.is_valid].reset_index(drop = True)\n",
    "    gdf = gdf.drop(columns = ['creationdate', 'editdate'])\n",
    "    \n",
    "    # Drop duplicates\n",
    "    #gdf = gdf.drop_duplicates(subset = repeated_cols)\n",
    "    \n",
    "    gdf = gdf.fillna(gdf.dtypes.replace({'float64': 0.0, 'object': 'None'}))\n",
    "    \n",
    "    # Save to GCS\n",
    "    if save_to_gsc == True:\n",
    "        utils.geoparquet_gcs_export(gdf, GCS_PATH, \"cleaned_survey123_sample13\")\n",
    "        \n",
    "    return gdf"
   ]
  },
  {
   "cell_type": "code",
   "execution_count": null,
   "id": "3ef92766-ce0e-4a0e-8217-64f446d8ae0b",
   "metadata": {
    "tags": []
   },
   "outputs": [],
   "source": [
    "all_results = open_survey123(False)"
   ]
  },
  {
   "cell_type": "code",
   "execution_count": null,
   "id": "3332dc12-d18f-45a8-92b2-2a8c32637fd2",
   "metadata": {},
   "outputs": [],
   "source": [
    "all_results.projname.nunique()"
   ]
  },
  {
   "cell_type": "code",
   "execution_count": null,
   "id": "c6465125-580b-45b4-ac0b-b9fd7c0182a6",
   "metadata": {},
   "outputs": [],
   "source": [
    "all_results.geopoint_type.value_counts()"
   ]
  },
  {
   "cell_type": "code",
   "execution_count": null,
   "id": "8ff53d36-3c43-4000-a857-14ebf9f9085d",
   "metadata": {},
   "outputs": [],
   "source": [
    "projects_list = all_results.projname.sort_values().unique()"
   ]
  },
  {
   "cell_type": "code",
   "execution_count": null,
   "id": "13880d89-92ff-415e-a331-6b48fd4cd972",
   "metadata": {},
   "outputs": [],
   "source": [
    "all_results.groupby(['projname']).agg({'lyr':'count'}).sort_values('lyr')"
   ]
  },
  {
   "cell_type": "code",
   "execution_count": null,
   "id": "976befb6-bfbf-4a53-8689-eac0340d71e6",
   "metadata": {
    "scrolled": true,
    "tags": []
   },
   "outputs": [],
   "source": [
    "# all_results[cols].explore('projname', cmap='tab10', style_kwds = {'weight':5}, height = 400, width = 1000, legend = True)"
   ]
  },
  {
   "cell_type": "code",
   "execution_count": null,
   "id": "ec9881d3-33c0-4eaa-a06d-7b42bf3256ca",
   "metadata": {},
   "outputs": [],
   "source": [
    "def preview_one_project(project_name:str):\n",
    "    one_project = all_results.loc[all_results.projname == project_name]\n",
    "    map_cols = ['geometry','parentglobalid','geopoint_type','geopoint_type_existing','geopoint_comments']\n",
    "    display(one_project[map_cols].explore('geopoint_type', cmap='tab10', style_kwds = {'weight':6}, height = 400, width = 1000, legend = True))\n",
    "    drop_cols = ['parentglobalid','lyr_globalid','editor','shape_length','geometry']\n",
    "    one_project = one_project.sort_values(by = ['projname']).drop(columns = drop_cols)\n",
    "    print(f\"{len(one_project)} geometries\")\n",
    "    display(one_project)"
   ]
  },
  {
   "cell_type": "code",
   "execution_count": null,
   "id": "8f0aa4c6-c21e-479e-b346-e7af5190287c",
   "metadata": {},
   "outputs": [],
   "source": [
    "# preview_one_project(\"National Highway Freight Network Improvement Program - State Route 47-Seaside Avenue & Navy Way Interchange Improvement Project\")"
   ]
  },
  {
   "cell_type": "code",
   "execution_count": null,
   "id": "630a84e3-af2a-4815-8b09-d429e3a9e8a0",
   "metadata": {},
   "outputs": [],
   "source": [
    "# preview_one_project('Watsonville-Santa Cruz Multimodal Corridor Program')"
   ]
  },
  {
   "cell_type": "code",
   "execution_count": null,
   "id": "ac486133-7151-4a29-8dfe-f8ca2197af27",
   "metadata": {},
   "outputs": [],
   "source": [
    "cols = ['parentglobalid','projname','geopoint_type','geopoint_type_existing','geopoint_comments','geometry']"
   ]
  },
  {
   "cell_type": "code",
   "execution_count": null,
   "id": "2f7c23f3-6798-43ad-969f-77238310aaaf",
   "metadata": {},
   "outputs": [],
   "source": [
    "def preview_one_geotype_route(project_name:str, geopoint_type:str):\n",
    "    \n",
    "    map_cols = ['lyr','lyr_globalid','geopoint_type','geopoint_type_existing','geopoint_comments','geometry']\n",
    "    one_project = all_results.loc[(all_results.projname == project_name) & (all_results.geopoint_type == geopoint_type)]\n",
    "    display(one_project[map_cols].explore('lyr_globalid', cmap='tab10', style_kwds = {'weight':6}, height = 400, width = 1000, legend = True))\n",
    "    "
   ]
  },
  {
   "cell_type": "code",
   "execution_count": null,
   "id": "6b7175d9-f97e-4e85-90b8-fd0b2a728b34",
   "metadata": {
    "scrolled": true,
    "tags": []
   },
   "outputs": [],
   "source": [
    "all_results[cols].loc[all_results.parentglobalid== \"{4D60FABF-CDFB-4C4A-870E-DC8F29664447}\"]"
   ]
  },
  {
   "cell_type": "code",
   "execution_count": null,
   "id": "696eeecb-962d-4ab9-9a36-7a1b0cd6fa99",
   "metadata": {},
   "outputs": [],
   "source": [
    "preview_one_geotype_route('Fix 5 Cascade Gateway','ITS')"
   ]
  },
  {
   "cell_type": "code",
   "execution_count": null,
   "id": "efd8c711-fd99-4d28-8eaf-28e43eeff050",
   "metadata": {},
   "outputs": [],
   "source": [
    "preview_one_project('Fix 5 Cascade Gateway')"
   ]
  },
  {
   "cell_type": "code",
   "execution_count": null,
   "id": "19c9eee3-13f1-4255-8714-56b5c4d1dd3c",
   "metadata": {},
   "outputs": [],
   "source": [
    "preview_one_project('U.S. 101 Connected Communities Corridor Rail and Active Transportation Improvements')"
   ]
  },
  {
   "cell_type": "code",
   "execution_count": null,
   "id": "265bffeb-eb24-458a-8c93-3e8c64a22f1a",
   "metadata": {},
   "outputs": [],
   "source": [
    "preview_one_project('Fix 5 Cascade Gateway')"
   ]
  },
  {
   "cell_type": "markdown",
   "id": "3912ad42-3b9b-42c5-b930-634b79af514a",
   "metadata": {},
   "source": [
    "### GCS"
   ]
  },
  {
   "cell_type": "code",
   "execution_count": null,
   "id": "3343d716-20de-4f8a-a260-c91ee29a5fe2",
   "metadata": {},
   "outputs": [],
   "source": [
    "test_geoparquet = gpd.read_parquet(\"gs://calitp-analytics-data/data-analyses/project_prioritization/Survey123_Geo/cleaned_survey123_sample13.parquet\")"
   ]
  },
  {
   "cell_type": "code",
   "execution_count": null,
   "id": "dd83f1fc-3fb6-4036-b607-a9bb6a96fe3b",
   "metadata": {},
   "outputs": [],
   "source": [
    "test_geoparquet.shape"
   ]
  },
  {
   "cell_type": "code",
   "execution_count": null,
   "id": "1e1507c5-f7cb-4c9f-8027-91b1b3ee5085",
   "metadata": {},
   "outputs": [],
   "source": [
    "test_geoparquet.projname.nunique()"
   ]
  },
  {
   "cell_type": "code",
   "execution_count": null,
   "id": "bbfacc5f-5529-4314-a688-b7bc9468ea7d",
   "metadata": {},
   "outputs": [],
   "source": [
    "test_geoparquet.explore('projname')"
   ]
  }
 ],
 "metadata": {
  "kernelspec": {
   "display_name": "Python 3 (ipykernel)",
   "language": "python",
   "name": "python3"
  },
  "language_info": {
   "codemirror_mode": {
    "name": "ipython",
    "version": 3
   },
   "file_extension": ".py",
   "mimetype": "text/x-python",
   "name": "python",
   "nbconvert_exporter": "python",
   "pygments_lexer": "ipython3",
   "version": "3.9.13"
  }
 },
 "nbformat": 4,
 "nbformat_minor": 5
}
