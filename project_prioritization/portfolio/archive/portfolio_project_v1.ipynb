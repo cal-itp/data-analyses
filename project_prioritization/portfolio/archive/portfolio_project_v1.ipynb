{
 "cells": [
  {
   "cell_type": "code",
   "execution_count": 116,
   "id": "67b24686-e8a3-494b-8596-0afa2caabe6a",
   "metadata": {},
   "outputs": [],
   "source": [
    "%%capture\n",
    "import numpy as np\n",
    "import pandas as pd\n",
    "\n",
    "import warnings\n",
    "warnings.filterwarnings(\"ignore\")\n",
    "\n",
    "# Format \n",
    "from babel.numbers import format_currency\n",
    "from calitp import to_snakecase\n",
    "\n",
    "# Display\n",
    "from IPython.display import HTML, Image, Markdown, display, display_html\n",
    "from shared_utils import altair_utils, styleguide\n",
    "\n",
    "# Settings\n",
    "pd.options.display.max_columns = 100\n",
    "pd.set_option(\"display.max_rows\", None)\n",
    "pd.set_option(\"display.max_colwidth\", None)\n",
    "pd.options.display.float_format = '{:,.2f}'.format\n",
    "\n",
    "# GCS, del later since this will presumbly be read from a script that cleans up the data\n",
    "GCS_FILE_PATH = \"gs://calitp-analytics-data/data-analyses/project_prioritization/\"\n",
    "FILE = \"fake_data.xlsx\"\n",
    "\n",
    "# My utilities\n",
    "import _utils"
   ]
  },
  {
   "cell_type": "code",
   "execution_count": 117,
   "id": "aa2cff56-bda5-4c9a-a513-573fec1ed97f",
   "metadata": {},
   "outputs": [],
   "source": [
    "df = pd.read_excel(f\"{GCS_FILE_PATH}{FILE}\", sheet_name=\"fake\")"
   ]
  },
  {
   "cell_type": "code",
   "execution_count": 118,
   "id": "9df6e6d8-26d8-4789-8ea1-b2545ad69695",
   "metadata": {
    "tags": [
     "parameters"
    ]
   },
   "outputs": [],
   "source": [
    "# Parameter Cell\n",
    "# 'Eureka-Arcata Sea Level Rise Project 1.0' in D1 2589\n",
    "# 'Marin Sonoma Narrows (Msn B7) Hov Lanes' in D4 0361M\n",
    "# 'Us 395 Freight Mobility And Safety Project' in D8 0195J\n",
    "# 'Forrester Rd Widening And Realignment' in D11\n",
    "ppno = '0195J'"
   ]
  },
  {
   "cell_type": "code",
   "execution_count": 119,
   "id": "2d26ea00-3e87-41fb-80ec-bb68f18c9df1",
   "metadata": {},
   "outputs": [],
   "source": [
    "# Objects\n",
    "\n",
    "# DF with project that was set in the parameter cell\n",
    "df2 = df.loc[df[\"ppno\"] == ppno].reset_index(drop=True)\n",
    "\n",
    "# Grab district of parameter cell project\n",
    "district_object = df2[\"district\"].values[0]\n",
    "\n",
    "# DF with projects in the same district as project\n",
    "df_district = df.loc[df[\"district\"] == district_object]\n",
    "\n",
    "# Median benefit score  in district\n",
    "district_median_benefit_score = int(df_district.fake_benefit_score.median())\n",
    "\n",
    "# Median project cost in district\n",
    "district_median_cost = format_currency(\n",
    "    (df_district[\"total_project_cost__$1,000_\"].median()),\n",
    "    currency=\"USD\",\n",
    ")\n",
    "\n",
    "# Median money requested.\n",
    "district_median_req = format_currency(\n",
    "    (df_district[\"current_fake_fund_requested\"].median()),\n",
    "    currency=\"USD\",\n",
    ")"
   ]
  },
  {
   "cell_type": "code",
   "execution_count": 120,
   "id": "f009033c-db97-44d5-a953-8e690f9af0dc",
   "metadata": {},
   "outputs": [],
   "source": [
    "# Formatting\n",
    "# Format some currency columns\n",
    "df2[\"formatted_total_project\"] = df2[\"total_project_cost__$1,000_\"].apply(\n",
    "    lambda x: format_currency(x, currency=\"USD\", locale=\"en_US\")\n",
    ")\n",
    "\n",
    "df2[\"formatted_requested\"] = df2[\"current_fake_fund_requested\"].apply(\n",
    "    lambda x: format_currency(x, currency=\"USD\", locale=\"en_US\")\n",
    ")"
   ]
  },
  {
   "cell_type": "code",
   "execution_count": 121,
   "id": "1d6e0152-e945-4ce7-bccd-851ff96d4ce8",
   "metadata": {
    "tags": []
   },
   "outputs": [
    {
     "data": {
      "text/markdown": [
       "<h1><b>Sbd-210 Construct Victoria Ave Ic</b></h1>\n",
       "        <br> This project (PPNO:0195J) is led by <b>None</b> in <b>District 08 - San Bernardino</b> and \n",
       "        is in its <b>ON HOLD</b> phase.\n",
       "        <br><br>The project proposes to construct a Type 8 cloverleaf interchange by either braiding on and off ramps with existing Highland Avenue interchange on and off ramps (Alternative 2) or by removing the existing highland Avenue eastbound entrance and westbound exit ramps (Alternative 3). Both Alternatives include aux lanes, ramp metering, CHP enforcement areas, maintenance pads, retaining walls, and proposed mainland, interchange, and local intersection improvements (At Highland Avenue Eastbound/westbound exit ramp, Victoria Avenue eastbound/westbound exit ramp, Arden Avenue eastbound entrance ramp, Victoria Avenue eastbound/westbound entrance ramps, and Highland Avenue at Victoria).\n",
       "        "
      ],
      "text/plain": [
       "<IPython.core.display.Markdown object>"
      ]
     },
     "metadata": {},
     "output_type": "display_data"
    }
   ],
   "source": [
    "display(\n",
    "    Markdown(\n",
    "        f\"\"\"<h1><b>{df2.project_name.values[0]}</b></h1>\n",
    "        <br> This project (PPNO:{df2.ppno.values[0]}) is led by <b>{df2.lead_agency.values[0]}</b> \n",
    "        in <b>District {df2['district_full_name'].values[0]}</b> and \n",
    "        is in its <b>{df2.current_phase[0]}</b> phase.\n",
    "        <br><br>{df2['project_description'].values[0]}\n",
    "        \"\"\"\n",
    "    )\n",
    ")"
   ]
  },
  {
   "cell_type": "code",
   "execution_count": 122,
   "id": "06f37fcb-78f8-472f-b445-2ed33800e9ee",
   "metadata": {
    "tags": []
   },
   "outputs": [
    {
     "data": {
      "text/markdown": [
       "<h2>Basic Project Statistics</h2>\n",
       "        <li>Project Category: <b>Interchange (New)</b></li>\n",
       "        <li>Benefit Score: <b>8</b></li>\n",
       "        <li>Statewide Benefit Rank: <b>407</b> out of 717</li>\n",
       "        <li>District Benefit Rank: <b>40</b> out of 68</li>\n",
       "        <br><b>Important Dates</b><br>\n",
       "        <li>PID Approval: <b>datetime64[ns]</b>\n",
       "        <li>PA/ED: <b>None</b>\n",
       "        <li>RTL: <b>datetime64[ns]</b>\n",
       "        <li>Construction: <b>datetime64[ns]</b>\n",
       "        "
      ],
      "text/plain": [
       "<IPython.core.display.Markdown object>"
      ]
     },
     "metadata": {},
     "output_type": "display_data"
    }
   ],
   "source": [
    "display(\n",
    "    Markdown(\n",
    "        f\"\"\"<h2>Basic Project Statistics</h2>\n",
    "        <li>Project Category: <b>{df2['primary_mode'].values[0]}</b></li>\n",
    "        <li>Benefit Score: <b>{df2['fake_benefit_score'].values[0].astype('int64')}</b></li>\n",
    "        <li>Statewide Benefit Rank: <b>{df2['statewide_rank'].values[0]}</b> out of {len(df)}</li>\n",
    "        <li>District Benefit Rank: <b>{df2['district_rank'].values[0]}</b> out of {len(df.loc[df[\"district\"]==district_object])}</li>\n",
    "        <br><b>Important Dates</b><br>\n",
    "        <li>PID Approval: <b>{df['pid_approval_date'].values[0]}</b>\n",
    "        <li>PA/ED: <b>{df['target_pa_ed'].values[0]}</b>\n",
    "        <li>RTL: <b>{df['rtl_date'].values[0]}</b>\n",
    "        <li>Construction: <b>{df['con_start_date'].values[0]}</b>\n",
    "        \"\"\"\n",
    "    )\n",
    ")"
   ]
  },
  {
   "cell_type": "code",
   "execution_count": 123,
   "id": "158e2e47-a88d-4866-8afe-790feeb4a02b",
   "metadata": {
    "tags": []
   },
   "outputs": [],
   "source": [
    "# Calculate funded %\n",
    "df2[\"funded\"] = (\n",
    "    df2[\"current_fake_fund_requested\"] / df2[\"total_project_cost__$1,000_\"]\n",
    ")\n",
    "\n",
    "\n",
    "# Remaining project cost\n",
    "df2[\"unfunded\"] = (1-df2[\"funded\"]\n",
    ")\n",
    "\n",
    "# Format\n",
    "df2[\"percentage_req_formatted\"] = (\n",
    "    df2[\"funded\"].astype(float).map(\"{:.0%}\".format)\n",
    ")\n",
    "\n",
    "df2[\"unfunded_percentage_formatted\"] = (\n",
    "    df2[\"unfunded\"].astype(float).map(\"{:.0%}\".format)\n",
    ")\n",
    "\n"
   ]
  },
  {
   "cell_type": "code",
   "execution_count": 124,
   "id": "3f3f1326-29c4-4ce8-8033-c6ad2b984b77",
   "metadata": {},
   "outputs": [],
   "source": [
    "#  In comparison,the median total cost of projects in {df2.district[0]} is {district_median_cost} and the median amount requested is {district_median_req}. "
   ]
  },
  {
   "cell_type": "code",
   "execution_count": 125,
   "id": "234f10df-7369-4156-ab32-514ac2285270",
   "metadata": {},
   "outputs": [
    {
     "data": {
      "text/markdown": [
       "<h2>Funding</h2>\n",
       "        Sbd-210 Construct Victoria Ave Ic costs <b>$888,888.00</b> in total.\n",
       "        They have requested <b>$358,869.59</b>, which covers about <b>40%</b> of the project's cost.\n",
       "        <br> This project could potentially qualify for additional fund(s) from Congestion Relief.\n",
       "        \n",
       "        "
      ],
      "text/plain": [
       "<IPython.core.display.Markdown object>"
      ]
     },
     "metadata": {},
     "output_type": "display_data"
    }
   ],
   "source": [
    "display(\n",
    "    Markdown(\n",
    "        f\"\"\"<h2>Funding</h2>\n",
    "        {df2.project_name[0]} costs <b>{df2.formatted_total_project[0]}</b> in total.\n",
    "        They have requested <b>{df2.formatted_requested[0]}</b>, which covers about <b>{df2.percentage_req_formatted[0]}</b> of the project's cost.\n",
    "        <br> This project could potentially qualify for additional fund(s) from {df2.potential_funding_program_s_[0]}.\n",
    "        \n",
    "        \"\"\"\n",
    "    )\n",
    ")"
   ]
  },
  {
   "cell_type": "code",
   "execution_count": 126,
   "id": "1dd41857-b4eb-4515-a9ed-7571e400f53c",
   "metadata": {},
   "outputs": [],
   "source": [
    "# Create a new dataframe for percentage funded\n",
    "\n",
    "# Transform\n",
    "percentage = df2.T.reset_index().rename(columns={\"index\": \"Percentage\", 0: \"Value\"})\n",
    "\n",
    "# Select only certain values\n",
    "percentage = percentage[\n",
    "    percentage[\"Percentage\"].isin(\n",
    "        [\n",
    "            \"unfunded\",\n",
    "            \"funded\",\n",
    "            \n",
    "        ]\n",
    "    )\n",
    "]\n",
    "\n",
    "# Remove underscores off of old column names\n",
    "percentage[\"Percentage\"] = (\n",
    "    percentage[\"Percentage\"].str.replace(\"_\", \" \").str.title()\n",
    ")\n",
    "\n",
    "# Reset Index\n",
    "percentage = percentage.reset_index(drop=True)"
   ]
  },
  {
   "cell_type": "code",
   "execution_count": 127,
   "id": "3b48e83b-627d-4770-bed5-92b033731590",
   "metadata": {},
   "outputs": [],
   "source": [
    "funding_pie_chart = _utils.basic_pie_chart(percentage,  \"Value:Q\", \"Percentage:N\", \"Percentage:N\",\n",
    "                  \"Percentage Funded vs. Unfunded\")"
   ]
  },
  {
   "cell_type": "code",
   "execution_count": 128,
   "id": "685315b3-0d21-4db3-9821-bd3d1ab22f0a",
   "metadata": {},
   "outputs": [],
   "source": [
    "# Create a new dataframe for funding\n",
    "\n",
    "# Transform\n",
    "funding = df2.T.reset_index().rename(columns={\"index\": \"Monetary Columns\", 0: \"Value\"})\n",
    "\n",
    "# Select only certain values\n",
    "funding = funding[\n",
    "    funding[\"Monetary Columns\"].isin(\n",
    "        [\n",
    "            \"total_project_cost__$1,000_\",\n",
    "            \"current_fake_fund_requested\",\n",
    "        ]\n",
    "    )\n",
    "]\n",
    "\n",
    "# Remove underscores off of old column names\n",
    "funding[\"Monetary Columns\"] = (\n",
    "    funding[\"Monetary Columns\"].str.replace(\"_\", \" \").str.title()\n",
    ")\n",
    "\n",
    "# Add a column with formatted values\n",
    "funding[\"Total\"] = funding[\"Value\"].apply(\n",
    "    lambda x: format_currency(x, currency=\"USD\", locale=\"en_US\")\n",
    ")\n",
    "\n",
    "# Reset Index\n",
    "funding = funding.reset_index(drop=True)"
   ]
  },
  {
   "cell_type": "code",
   "execution_count": 129,
   "id": "fe3ab1bf-554c-453f-ab57-613a2210fea1",
   "metadata": {},
   "outputs": [],
   "source": [
    "requested_bar_chart = _utils.basic_bar_chart_custom_tooltip(\n",
    "    funding,\n",
    "    \"Value\",\n",
    "    \"Monetary Columns\",\n",
    "    \"Total\",\n",
    "    \"Monetary Columns\",\n",
    "    chart_title=\"Total Project Cost versus Requested\",\n",
    ")"
   ]
  },
  {
   "cell_type": "code",
   "execution_count": 130,
   "id": "332948e2-90ba-43e4-9fbb-c51dd40d355a",
   "metadata": {},
   "outputs": [
    {
     "data": {
      "text/html": [
       "\n",
       "<div id=\"altair-viz-347ae6f701ab4150ad0264fd013695db\"></div>\n",
       "<script type=\"text/javascript\">\n",
       "  var VEGA_DEBUG = (typeof VEGA_DEBUG == \"undefined\") ? {} : VEGA_DEBUG;\n",
       "  (function(spec, embedOpt){\n",
       "    let outputDiv = document.currentScript.previousElementSibling;\n",
       "    if (outputDiv.id !== \"altair-viz-347ae6f701ab4150ad0264fd013695db\") {\n",
       "      outputDiv = document.getElementById(\"altair-viz-347ae6f701ab4150ad0264fd013695db\");\n",
       "    }\n",
       "    const paths = {\n",
       "      \"vega\": \"https://cdn.jsdelivr.net/npm//vega@5?noext\",\n",
       "      \"vega-lib\": \"https://cdn.jsdelivr.net/npm//vega-lib?noext\",\n",
       "      \"vega-lite\": \"https://cdn.jsdelivr.net/npm//vega-lite@4.17.0?noext\",\n",
       "      \"vega-embed\": \"https://cdn.jsdelivr.net/npm//vega-embed@6?noext\",\n",
       "    };\n",
       "\n",
       "    function maybeLoadScript(lib, version) {\n",
       "      var key = `${lib.replace(\"-\", \"\")}_version`;\n",
       "      return (VEGA_DEBUG[key] == version) ?\n",
       "        Promise.resolve(paths[lib]) :\n",
       "        new Promise(function(resolve, reject) {\n",
       "          var s = document.createElement('script');\n",
       "          document.getElementsByTagName(\"head\")[0].appendChild(s);\n",
       "          s.async = true;\n",
       "          s.onload = () => {\n",
       "            VEGA_DEBUG[key] = version;\n",
       "            return resolve(paths[lib]);\n",
       "          };\n",
       "          s.onerror = () => reject(`Error loading script: ${paths[lib]}`);\n",
       "          s.src = paths[lib];\n",
       "        });\n",
       "    }\n",
       "\n",
       "    function showError(err) {\n",
       "      outputDiv.innerHTML = `<div class=\"error\" style=\"color:red;\">${err}</div>`;\n",
       "      throw err;\n",
       "    }\n",
       "\n",
       "    function displayChart(vegaEmbed) {\n",
       "      vegaEmbed(outputDiv, spec, embedOpt)\n",
       "        .catch(err => showError(`Javascript Error: ${err.message}<br>This usually means there's a typo in your chart specification. See the javascript console for the full traceback.`));\n",
       "    }\n",
       "\n",
       "    if(typeof define === \"function\" && define.amd) {\n",
       "      requirejs.config({paths});\n",
       "      require([\"vega-embed\"], displayChart, err => showError(`Error loading script: ${err.message}`));\n",
       "    } else {\n",
       "      maybeLoadScript(\"vega\", \"5\")\n",
       "        .then(() => maybeLoadScript(\"vega-lite\", \"4.17.0\"))\n",
       "        .then(() => maybeLoadScript(\"vega-embed\", \"6\"))\n",
       "        .catch(showError)\n",
       "        .then(() => displayChart(vegaEmbed));\n",
       "    }\n",
       "  })({\"config\": {\"view\": {\"continuousWidth\": 400, \"continuousHeight\": 300}}, \"hconcat\": [{\"data\": {\"name\": \"data-c63e56a1eeb1a56f4239b74d7894b79f\"}, \"mark\": \"bar\", \"encoding\": {\"color\": {\"field\": \"Monetary Columns\", \"legend\": {\"title\": \"Monetary Columns\"}, \"scale\": {\"range\": [\"#2EA8CE\", \"#EB9F3C\", \"#F4D837\", \"#51BF9D\", \"#8CBCCB\", \"#9487C0\"]}, \"type\": \"nominal\"}, \"tooltip\": [{\"field\": \"Total\", \"type\": \"nominal\"}], \"x\": {\"axis\": {\"labels\": false}, \"field\": \"Value\", \"title\": \"Value\", \"type\": \"quantitative\"}, \"y\": {\"field\": \"Monetary Columns\", \"sort\": \"-x\", \"title\": \"Monetary Columns\", \"type\": \"nominal\"}}, \"height\": 188, \"title\": \"Total Project Cost versus Requested\", \"width\": 300}, {\"layer\": [{\"mark\": {\"type\": \"arc\", \"outerRadius\": 80}, \"encoding\": {\"color\": {\"field\": \"Percentage\", \"legend\": {\"title\": \"Percentage:N\"}, \"scale\": {\"range\": [\"#2EA8CE\", \"#EB9F3C\", \"#F4D837\", \"#51BF9D\", \"#8CBCCB\", \"#9487C0\"]}, \"type\": \"nominal\"}, \"theta\": {\"field\": \"Value\", \"stack\": true, \"type\": \"quantitative\"}, \"tooltip\": [{\"field\": \"Percentage\", \"type\": \"nominal\"}, {\"field\": \"Value\", \"type\": \"quantitative\"}]}, \"title\": \"Percentage Funded vs. Unfunded\"}, {\"mark\": {\"type\": \"text\", \"radius\": 100, \"size\": 10}, \"encoding\": {\"color\": {\"field\": \"Percentage\", \"legend\": {\"title\": \"Percentage:N\"}, \"scale\": {\"range\": [\"#2EA8CE\", \"#EB9F3C\", \"#F4D837\", \"#51BF9D\", \"#8CBCCB\", \"#9487C0\"]}, \"type\": \"nominal\"}, \"text\": {\"field\": \"Percentage\", \"type\": \"nominal\"}, \"theta\": {\"field\": \"Value\", \"stack\": true, \"type\": \"quantitative\"}, \"tooltip\": [{\"field\": \"Percentage\", \"type\": \"nominal\"}, {\"field\": \"Value\", \"type\": \"quantitative\"}]}, \"title\": \"Percentage Funded vs. Unfunded\"}], \"data\": {\"name\": \"data-c7b7db6a43e921cc40191795b8485e1e\"}, \"height\": 188, \"width\": 300}], \"$schema\": \"https://vega.github.io/schema/vega-lite/v4.17.0.json\", \"datasets\": {\"data-c63e56a1eeb1a56f4239b74d7894b79f\": [{\"Monetary Columns\": \"Total Project Cost  $1,000 \", \"Value\": 888888, \"Total\": \"$888,888.00\"}, {\"Monetary Columns\": \"Current Fake Fund Requested\", \"Value\": 358869.59, \"Total\": \"$358,869.59\"}], \"data-c7b7db6a43e921cc40191795b8485e1e\": [{\"Percentage\": \"Funded\", \"Value\": 0.40372869247869253}, {\"Percentage\": \"Unfunded\", \"Value\": 0.5962713075213075}]}}, {\"mode\": \"vega-lite\"});\n",
       "</script>"
      ],
      "text/plain": [
       "alt.HConcatChart(...)"
      ]
     },
     "execution_count": 130,
     "metadata": {},
     "output_type": "execute_result"
    }
   ],
   "source": [
    "requested_bar_chart | funding_pie_chart"
   ]
  },
  {
   "cell_type": "code",
   "execution_count": 131,
   "id": "31c5c1d0-4f54-4338-9ffd-ac03cf1cafdb",
   "metadata": {},
   "outputs": [
    {
     "data": {
      "text/markdown": [
       "<h2>Score Card</h2>\n",
       "        The total score is <b>8</b>, compared to the median score of \n",
       "        <b>9</b> of other projects in District 8. \n",
       "        <br>Click on the bar for more detail.\n",
       "        "
      ],
      "text/plain": [
       "<IPython.core.display.Markdown object>"
      ]
     },
     "metadata": {},
     "output_type": "display_data"
    }
   ],
   "source": [
    "display(\n",
    "    Markdown(\n",
    "        f\"\"\"<h2>Score Card</h2>\n",
    "        The total score is <b>{(df2.fake_benefit_score[0]).astype('int64')}</b>, compared to the median score of \n",
    "        <b>{district_median_benefit_score}</b> of other projects in District {df2.district[0]}. \n",
    "        <br>Click on the bar for more detail.\n",
    "        \"\"\"\n",
    "    )\n",
    ")"
   ]
  },
  {
   "cell_type": "code",
   "execution_count": 132,
   "id": "525febbe-9e90-4893-ab49-b01353d7f143",
   "metadata": {},
   "outputs": [],
   "source": [
    "# df2.drop(columns=[\"project_description\"]).head()"
   ]
  },
  {
   "cell_type": "code",
   "execution_count": 133,
   "id": "0c0c8b2e-d00a-45ca-a1be-b1117bbb61da",
   "metadata": {
    "tags": []
   },
   "outputs": [],
   "source": [
    "# Create new df for score card\n",
    "score_card = df2[\n",
    "    [\n",
    "        \"increase_peak_person_throughput\",\n",
    "        \"reduction_in_peak_period_delay\",\n",
    "        \"reduction_in_fatal_and_injury_crashes\",\n",
    "        \"reduction_in_injury_rates\",\n",
    "        \"increase_access_to_jobs\",\n",
    "        \"increase_access_jobs_to_DAC\",\n",
    "        \"commercial_dev_developed\",\n",
    "        \"tons_of_goods_impacted\",\n",
    "        \"improve_air_quality\",\n",
    "        \"impact_natural_resources\",\n",
    "        \"support_of_trasnportation\",\n",
    "    ]\n",
    "]"
   ]
  },
  {
   "cell_type": "code",
   "execution_count": 134,
   "id": "6a911586-6290-4f91-b63e-b921870016c6",
   "metadata": {
    "tags": []
   },
   "outputs": [],
   "source": [
    "# Transform\n",
    "score_card = score_card.T.reset_index().rename(\n",
    "    columns={\"index\": \"Measure\", 0: \"Measure Score\"}\n",
    ")\n",
    "# Remove underscores off of old column names\n",
    "score_card[\"Measure\"] = score_card[\"Measure\"].str.replace(\"_\", \" \").str.title()\n",
    "\n",
    "# New column with broader Measures\n",
    "score_card[\"Category\"] = score_card[\"Measure\"]\n",
    "\n",
    "score_card[\"Category\"] = score_card[\"Category\"].replace(\n",
    "    {\n",
    "        \"Increase Peak Person Throughput\": \"Congestion Mitigation\",\n",
    "        \"Reduction In Peak Period Delay\": \"Congestion Mitigation\",\n",
    "        \"Reduction In Fatal And Injury Crashes\": \"Safety\",\n",
    "        \"Reduction In Injury Rates\": \"Safety\",\n",
    "        \"Increase Access To Jobs\": \"Accessibility Increase\",\n",
    "        \"Increase Access Jobs To Dac\": \"Accessibility Increase\",\n",
    "        \"Commercial Dev Developed\": \"Economic Dev.\",\n",
    "        \"Tons Of Goods Impacted\": \"Economic Dev.\",\n",
    "        \"Improve Air Quality\": \"Environment\",\n",
    "        \"Impact Natural Resources\": \"Environment\",\n",
    "        \"Support Of Trasnportation\": \"Land Use\",\n",
    "    }\n",
    ")\n",
    "\n",
    "# Get total scores\n",
    "total = (\n",
    "    score_card.groupby([\"Category\"])\n",
    "    .agg({\"Measure Score\": \"sum\"})\n",
    "    .rename(columns={\"Measure Score\": \"Total Category Score\"})\n",
    ")\n",
    "score_card = pd.merge(score_card, total, how=\"left\", on=[\"Category\"])"
   ]
  },
  {
   "cell_type": "code",
   "execution_count": 135,
   "id": "f40b0dcd-0a68-4303-882a-9cdb41240aca",
   "metadata": {},
   "outputs": [],
   "source": [
    "for i in ['Measure Description', 'Factor Weight', 'Weighted Factor Value', 'Category Description']:\n",
    "    score_card[i]  = 'Text Here'"
   ]
  },
  {
   "cell_type": "code",
   "execution_count": 136,
   "id": "fb8ed615-de19-40b1-b0ae-c5741e72b9b8",
   "metadata": {},
   "outputs": [
    {
     "data": {
      "text/html": [
       "\n",
       "<div id=\"altair-viz-7fb0a0b1edcc484ca18c97c636bf97dc\"></div>\n",
       "<script type=\"text/javascript\">\n",
       "  var VEGA_DEBUG = (typeof VEGA_DEBUG == \"undefined\") ? {} : VEGA_DEBUG;\n",
       "  (function(spec, embedOpt){\n",
       "    let outputDiv = document.currentScript.previousElementSibling;\n",
       "    if (outputDiv.id !== \"altair-viz-7fb0a0b1edcc484ca18c97c636bf97dc\") {\n",
       "      outputDiv = document.getElementById(\"altair-viz-7fb0a0b1edcc484ca18c97c636bf97dc\");\n",
       "    }\n",
       "    const paths = {\n",
       "      \"vega\": \"https://cdn.jsdelivr.net/npm//vega@5?noext\",\n",
       "      \"vega-lib\": \"https://cdn.jsdelivr.net/npm//vega-lib?noext\",\n",
       "      \"vega-lite\": \"https://cdn.jsdelivr.net/npm//vega-lite@4.17.0?noext\",\n",
       "      \"vega-embed\": \"https://cdn.jsdelivr.net/npm//vega-embed@6?noext\",\n",
       "    };\n",
       "\n",
       "    function maybeLoadScript(lib, version) {\n",
       "      var key = `${lib.replace(\"-\", \"\")}_version`;\n",
       "      return (VEGA_DEBUG[key] == version) ?\n",
       "        Promise.resolve(paths[lib]) :\n",
       "        new Promise(function(resolve, reject) {\n",
       "          var s = document.createElement('script');\n",
       "          document.getElementsByTagName(\"head\")[0].appendChild(s);\n",
       "          s.async = true;\n",
       "          s.onload = () => {\n",
       "            VEGA_DEBUG[key] = version;\n",
       "            return resolve(paths[lib]);\n",
       "          };\n",
       "          s.onerror = () => reject(`Error loading script: ${paths[lib]}`);\n",
       "          s.src = paths[lib];\n",
       "        });\n",
       "    }\n",
       "\n",
       "    function showError(err) {\n",
       "      outputDiv.innerHTML = `<div class=\"error\" style=\"color:red;\">${err}</div>`;\n",
       "      throw err;\n",
       "    }\n",
       "\n",
       "    function displayChart(vegaEmbed) {\n",
       "      vegaEmbed(outputDiv, spec, embedOpt)\n",
       "        .catch(err => showError(`Javascript Error: ${err.message}<br>This usually means there's a typo in your chart specification. See the javascript console for the full traceback.`));\n",
       "    }\n",
       "\n",
       "    if(typeof define === \"function\" && define.amd) {\n",
       "      requirejs.config({paths});\n",
       "      require([\"vega-embed\"], displayChart, err => showError(`Error loading script: ${err.message}`));\n",
       "    } else {\n",
       "      maybeLoadScript(\"vega\", \"5\")\n",
       "        .then(() => maybeLoadScript(\"vega-lite\", \"4.17.0\"))\n",
       "        .then(() => maybeLoadScript(\"vega-embed\", \"6\"))\n",
       "        .catch(showError)\n",
       "        .then(() => displayChart(vegaEmbed));\n",
       "    }\n",
       "  })({\"config\": {\"view\": {\"continuousWidth\": 400, \"continuousHeight\": 300}}, \"hconcat\": [{\"mark\": \"bar\", \"encoding\": {\"color\": {\"field\": \"Total Category Score\", \"legend\": null, \"scale\": {\"range\": [\"#2EA8CE\", \"#EB9F3C\", \"#F4D837\", \"#51BF9D\", \"#8CBCCB\", \"#9487C0\"]}, \"type\": \"quantitative\"}, \"tooltip\": [{\"field\": \"Category\", \"type\": \"nominal\"}, {\"field\": \"Total Category Score\", \"type\": \"quantitative\"}, {\"field\": \"Category Description\", \"type\": \"nominal\"}], \"x\": {\"axis\": {\"labels\": false}, \"field\": \"Total Category Score\", \"type\": \"quantitative\"}, \"y\": {\"field\": \"Category\", \"type\": \"nominal\"}}, \"height\": 188, \"selection\": {\"selector007\": {\"type\": \"multi\", \"fields\": [\"Category\"]}}, \"width\": 300}, {\"mark\": \"bar\", \"encoding\": {\"color\": {\"field\": \"Measure Score\", \"legend\": null, \"scale\": {\"range\": [\"#2EA8CE\", \"#EB9F3C\", \"#F4D837\", \"#51BF9D\", \"#8CBCCB\", \"#9487C0\"]}, \"type\": \"quantitative\"}, \"tooltip\": [{\"field\": \"Measure\", \"type\": \"nominal\"}, {\"field\": \"Measure Description\", \"type\": \"nominal\"}, {\"field\": \"Measure Score\", \"type\": \"quantitative\"}, {\"field\": \"Factor Weight\", \"type\": \"nominal\"}, {\"field\": \"Weighted Factor Value\", \"type\": \"nominal\"}], \"x\": {\"axis\": {\"labels\": false}, \"field\": \"Measure Score\", \"type\": \"quantitative\"}, \"y\": {\"field\": \"Measure\", \"type\": \"nominal\"}}, \"height\": 188, \"transform\": [{\"filter\": {\"selection\": \"selector007\"}}], \"width\": 300}], \"data\": {\"name\": \"data-5b0eed727909f82b57d1abaa2f68f8f7\"}, \"$schema\": \"https://vega.github.io/schema/vega-lite/v4.17.0.json\", \"datasets\": {\"data-5b0eed727909f82b57d1abaa2f68f8f7\": [{\"Measure\": \"Increase Peak Person Throughput\", \"Measure Score\": 5.94, \"Category\": \"Congestion Mitigation\", \"Total Category Score\": 45.91, \"Measure Description\": \"Text Here\", \"Factor Weight\": \"Text Here\", \"Weighted Factor Value\": \"Text Here\", \"Category Description\": \"Text Here\"}, {\"Measure\": \"Reduction In Peak Period Delay\", \"Measure Score\": 39.97, \"Category\": \"Congestion Mitigation\", \"Total Category Score\": 45.91, \"Measure Description\": \"Text Here\", \"Factor Weight\": \"Text Here\", \"Weighted Factor Value\": \"Text Here\", \"Category Description\": \"Text Here\"}, {\"Measure\": \"Reduction In Fatal And Injury Crashes\", \"Measure Score\": 27.98, \"Category\": \"Safety\", \"Total Category Score\": 43.41, \"Measure Description\": \"Text Here\", \"Factor Weight\": \"Text Here\", \"Weighted Factor Value\": \"Text Here\", \"Category Description\": \"Text Here\"}, {\"Measure\": \"Reduction In Injury Rates\", \"Measure Score\": 15.43, \"Category\": \"Safety\", \"Total Category Score\": 43.41, \"Measure Description\": \"Text Here\", \"Factor Weight\": \"Text Here\", \"Weighted Factor Value\": \"Text Here\", \"Category Description\": \"Text Here\"}, {\"Measure\": \"Increase Access To Jobs\", \"Measure Score\": 29.63, \"Category\": \"Accessibility Increase\", \"Total Category Score\": 75.3, \"Measure Description\": \"Text Here\", \"Factor Weight\": \"Text Here\", \"Weighted Factor Value\": \"Text Here\", \"Category Description\": \"Text Here\"}, {\"Measure\": \"Increase Access Jobs To Dac\", \"Measure Score\": 45.67, \"Category\": \"Accessibility Increase\", \"Total Category Score\": 75.3, \"Measure Description\": \"Text Here\", \"Factor Weight\": \"Text Here\", \"Weighted Factor Value\": \"Text Here\", \"Category Description\": \"Text Here\"}, {\"Measure\": \"Commercial Dev Developed\", \"Measure Score\": 25.92, \"Category\": \"Economic Dev.\", \"Total Category Score\": 69.21000000000001, \"Measure Description\": \"Text Here\", \"Factor Weight\": \"Text Here\", \"Weighted Factor Value\": \"Text Here\", \"Category Description\": \"Text Here\"}, {\"Measure\": \"Tons Of Goods Impacted\", \"Measure Score\": 43.29, \"Category\": \"Economic Dev.\", \"Total Category Score\": 69.21000000000001, \"Measure Description\": \"Text Here\", \"Factor Weight\": \"Text Here\", \"Weighted Factor Value\": \"Text Here\", \"Category Description\": \"Text Here\"}, {\"Measure\": \"Improve Air Quality\", \"Measure Score\": 6.28, \"Category\": \"Environment\", \"Total Category Score\": 43.13, \"Measure Description\": \"Text Here\", \"Factor Weight\": \"Text Here\", \"Weighted Factor Value\": \"Text Here\", \"Category Description\": \"Text Here\"}, {\"Measure\": \"Impact Natural Resources\", \"Measure Score\": 36.85, \"Category\": \"Environment\", \"Total Category Score\": 43.13, \"Measure Description\": \"Text Here\", \"Factor Weight\": \"Text Here\", \"Weighted Factor Value\": \"Text Here\", \"Category Description\": \"Text Here\"}, {\"Measure\": \"Support Of Trasnportation\", \"Measure Score\": 18.22, \"Category\": \"Land Use\", \"Total Category Score\": 18.22, \"Measure Description\": \"Text Here\", \"Factor Weight\": \"Text Here\", \"Weighted Factor Value\": \"Text Here\", \"Category Description\": \"Text Here\"}]}}, {\"mode\": \"vega-lite\"});\n",
       "</script>"
      ],
      "text/plain": [
       "alt.HConcatChart(...)"
      ]
     },
     "execution_count": 136,
     "metadata": {},
     "output_type": "execute_result"
    }
   ],
   "source": [
    "_utils.dual_bar_chart(\n",
    "    score_card,\n",
    "    \"Category\",\n",
    "    \"Category:N\",\n",
    "    \"Total Category Score:Q\",\n",
    "    \"Measure:N\",\n",
    "    \"Measure Score:Q\",\n",
    "    ['Category', 'Total Category Score', 'Category Description'],\n",
    "    ['Measure', 'Measure Description', 'Measure Score', 'Factor Weight', 'Weighted Factor Value'],\n",
    "    \n",
    ")"
   ]
  }
 ],
 "metadata": {
  "kernelspec": {
   "display_name": "Python 3 (ipykernel)",
   "language": "python",
   "name": "python3"
  },
  "language_info": {
   "codemirror_mode": {
    "name": "ipython",
    "version": 3
   },
   "file_extension": ".py",
   "mimetype": "text/x-python",
   "name": "python",
   "nbconvert_exporter": "python",
   "pygments_lexer": "ipython3",
   "version": "3.10.6"
  }
 },
 "nbformat": 4,
 "nbformat_minor": 5
}
