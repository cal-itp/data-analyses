{
 "cells": [
  {
   "cell_type": "code",
   "execution_count": 1,
   "id": "c7ef3057-5c4f-4fc2-a5bf-ad54807e58df",
   "metadata": {},
   "outputs": [],
   "source": [
    "import pandas as pd\n",
    "import yaml\n",
    "\n",
    "MY_SITE_YAML = \"./test.yml\""
   ]
  },
  {
   "cell_type": "code",
   "execution_count": 2,
   "id": "72ae20d4-34a5-4ef6-a1c3-c6a1686788bd",
   "metadata": {},
   "outputs": [],
   "source": [
    "GCS_FILE_PATH = \"gs://calitp-analytics-data/data-analyses/project_prioritization/\"\n",
    "FILE = \"fake_data.xlsx\""
   ]
  },
  {
   "cell_type": "code",
   "execution_count": 3,
   "id": "b3151121-d9a5-4d40-8487-bd0fb9435a8f",
   "metadata": {},
   "outputs": [],
   "source": [
    "df = pd.read_excel(f\"{GCS_FILE_PATH}{FILE}\", sheet_name=\"fake\")"
   ]
  },
  {
   "cell_type": "code",
   "execution_count": 4,
   "id": "47a5f036-718a-4836-b1dc-4879c176aaa3",
   "metadata": {},
   "outputs": [],
   "source": [
    "districts = sorted(df.district.fillna(0).unique().tolist())\n",
    "counties = sorted(df.full_county_name.fillna(\"Various\").unique().tolist())"
   ]
  },
  {
   "cell_type": "code",
   "execution_count": 5,
   "id": "19c7ddb7-8bd7-4952-87a7-bfdff9a27f0c",
   "metadata": {},
   "outputs": [],
   "source": [
    "with open(MY_SITE_YAML) as analyses:\n",
    "    analyses_data = yaml.load(analyses, yaml.Loader)"
   ]
  },
  {
   "cell_type": "code",
   "execution_count": 6,
   "id": "940c4e66-a5e4-4e41-90d9-3dfc6b65053a",
   "metadata": {},
   "outputs": [
    {
     "data": {
      "text/plain": [
       "{'directory': './project_prioritization/',\n",
       " 'notebook': './project_prioritization/my-notebook.ipynb',\n",
       " 'parts': [{'chapters': [{'caption': 'District 1',\n",
       "     'params': {'district': 1},\n",
       "     'sections': [{'county': 'Los Angeles'}]},\n",
       "    {'caption': 'District 2',\n",
       "     'params': {'district': 2},\n",
       "     'sections': [{'county': 'Los Angeles'}]}]}]}"
      ]
     },
     "execution_count": 6,
     "metadata": {},
     "output_type": "execute_result"
    }
   ],
   "source": [
    "analyses_data"
   ]
  },
  {
   "cell_type": "code",
   "execution_count": 7,
   "id": "0b68985b-cda2-4060-9ad0-7811798ec859",
   "metadata": {},
   "outputs": [],
   "source": [
    "test_districts = districts[:2]"
   ]
  },
  {
   "cell_type": "code",
   "execution_count": 8,
   "id": "be8ff6cf-87d0-412f-86f4-e5aafdd38076",
   "metadata": {},
   "outputs": [
    {
     "name": "stdout",
     "output_type": "stream",
     "text": [
      "directory: ./project_prioritization/\n",
      "notebook: ./project_prioritization/my-notebook.ipynb\n",
      "parts:\n",
      "- chapters:\n",
      "  - caption: District 0\n",
      "    params:\n",
      "      district: 0\n",
      "    sections:\n",
      "    - county: Various\n",
      "  - caption: District 1\n",
      "    params:\n",
      "      district: 1\n",
      "    sections:\n",
      "    - county: Del Norte\n",
      "    - county: Humboldt\n",
      "    - county: Lake\n",
      "    - county: Mendocino\n",
      "    - county: Various\n",
      "\n"
     ]
    }
   ],
   "source": [
    "# Loop through each district, grab the valid itp_ids\n",
    "# populate each dict key (caption, params, sections) needed to go into analyses.yml\n",
    "chapters_list = []\n",
    "for district in sorted(test_districts):\n",
    "    chapter_dict = {}\n",
    "    \n",
    "    subset = df[df.district == district]\n",
    "    \n",
    "    # Only grab the counties found in this district\n",
    "    counties_in_district = sorted(subset.full_county_name.fillna(\"Various\")\n",
    "                                   .unique().tolist())\n",
    "    \n",
    "    chapter_dict['caption'] = f'District {district}'\n",
    "    chapter_dict['params'] = {'district': district}\n",
    "    chapter_dict['sections'] = [{'county': county} for county in \n",
    "                                counties_in_district]\n",
    "    chapters_list += [chapter_dict]\n",
    "\n",
    "# Make this into a list item\n",
    "parts_list = [{'chapters': chapters_list}]\n",
    "\n",
    "analyses_data['parts'] = parts_list\n",
    "\n",
    "output = yaml.dump(analyses_data)\n",
    "\n",
    "print(output)"
   ]
  },
  {
   "cell_type": "code",
   "execution_count": 9,
   "id": "fa50c1ba-79c2-4b91-bb00-d24d17e0aba7",
   "metadata": {},
   "outputs": [],
   "source": [
    "with open(\"./test2.yml\", 'w') as analyses:\n",
    "    analyses.write(output)"
   ]
  },
  {
   "cell_type": "code",
   "execution_count": null,
   "id": "701cc6da-f946-4db6-ab60-2e7ad0d37b68",
   "metadata": {},
   "outputs": [],
   "source": []
  }
 ],
 "metadata": {
  "kernelspec": {
   "display_name": "Python 3 (ipykernel)",
   "language": "python",
   "name": "python3"
  },
  "language_info": {
   "codemirror_mode": {
    "name": "ipython",
    "version": 3
   },
   "file_extension": ".py",
   "mimetype": "text/x-python",
   "name": "python",
   "nbconvert_exporter": "python",
   "pygments_lexer": "ipython3",
   "version": "3.10.5"
  }
 },
 "nbformat": 4,
 "nbformat_minor": 5
}
