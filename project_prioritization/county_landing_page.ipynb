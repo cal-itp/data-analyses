{
 "cells": [
  {
   "cell_type": "code",
   "execution_count": null,
   "id": "2b5f2826-619d-4d18-8f9d-e7f2f3a1f970",
   "metadata": {},
   "outputs": [],
   "source": [
    "# Turn off warnings\n",
    "import warnings\n",
    "\n",
    "warnings.filterwarnings(\"ignore\")\n",
    "\n",
    "# Normal packages\n",
    "import geopandas as gpd\n",
    "import numpy as np\n",
    "import pandas as pd\n",
    "\n",
    "# Format\n",
    "from babel.numbers import format_currency\n",
    "\n",
    "# Display\n",
    "from IPython.display import HTML, Image, Markdown, display, display_html\n",
    "\n",
    "# Settings\n",
    "pd.options.display.max_columns = 100\n",
    "pd.set_option(\"display.max_rows\", None)\n",
    "pd.set_option(\"display.max_colwidth\", None)\n",
    "pd.options.display.float_format = \"{:,.2f}\".format\n",
    "\n",
    "# GCS, del later since this will presumbly be read from a script that cleans up the data\n",
    "GCS_FILE_PATH = \"gs://calitp-analytics-data/data-analyses/project_prioritization/\"\n",
    "FILE = \"fake_data.xlsx\"\n",
    "\n",
    "# My utilities\n",
    "import _utils"
   ]
  },
  {
   "cell_type": "code",
   "execution_count": null,
   "id": "652b830f-fa86-41c0-b4b9-75b50198afa1",
   "metadata": {},
   "outputs": [],
   "source": [
    "df = pd.read_excel(f\"{GCS_FILE_PATH}{FILE}\", sheet_name=\"fake\")"
   ]
  },
  {
   "cell_type": "code",
   "execution_count": null,
   "id": "c76f02f5-5205-4318-a2ae-1004b2ab9806",
   "metadata": {
    "scrolled": true,
    "tags": []
   },
   "outputs": [],
   "source": [
    "df[\"full_county_name\"] = df[\"full_county_name\"].fillna(\"Various\")"
   ]
  },
  {
   "cell_type": "code",
   "execution_count": null,
   "id": "e540de2f-ac90-47f7-a9d3-8d0f72a1c9e5",
   "metadata": {},
   "outputs": [],
   "source": [
    "# Set some objects\n",
    "# Number of projects\n",
    "total_projects = df.project_name.nunique()\n",
    "\n",
    "# Number of Unique counties\n",
    "unique_counties = df.county.nunique()\n",
    "\n",
    "# Count of projects across ALL  counties - for mapping\n",
    "counties_gdf = _utils.summarize_by_project_names(df, \"county\")\n",
    "\n",
    "# Count of projects by county\n",
    "counties_df = _utils.summarize_by_project_names(df, \"full_county_name\")\n",
    "\n",
    "# Create a few columns to rank\n",
    "counties_df[\"Project Rank\"] = (\n",
    "    counties_df[\"Total Projects\"].rank(ascending=False).astype(\"int64\")\n",
    ")\n",
    "counties_df[\"Project Cost\"] = (\n",
    "    counties_df[\"Total Project Cost  $1,000\"].rank(ascending=False).astype(\"int64\")\n",
    ")\n",
    "\n",
    "# Median benefit score\n",
    "county_median_benefit_score = int(df.fake_benefit_score.median())"
   ]
  },
  {
   "cell_type": "code",
   "execution_count": null,
   "id": "8452ed98-8108-437c-96db-22788f1e410d",
   "metadata": {},
   "outputs": [],
   "source": [
    "# df_full[\"full_county_name\"].unique()"
   ]
  },
  {
   "cell_type": "code",
   "execution_count": null,
   "id": "d3ffe23d-04eb-42f8-bde2-c73cde9c4c5a",
   "metadata": {
    "tags": [
     "parameters"
    ]
   },
   "outputs": [],
   "source": [
    "# Parameter Cell\n",
    "parameter_county = 'Riverside'"
   ]
  },
  {
   "cell_type": "code",
   "execution_count": null,
   "id": "9c4d01f6-79a7-4aa5-a1b8-7ee8b4a2ed58",
   "metadata": {},
   "outputs": [],
   "source": [
    "# df with project that was set in the parameter cell\n",
    "df = df.loc[df[\"full_county_name\"] == parameter_county].reset_index(drop=True)"
   ]
  },
  {
   "cell_type": "code",
   "execution_count": null,
   "id": "74d625c4-af96-4ba1-bbce-74b7a72920ba",
   "metadata": {},
   "outputs": [],
   "source": [
    "# Summary tables\n",
    "# Count of projects by phases it is in\n",
    "phases_df = _utils.summarize_by_project_names(df, \"current_phase\")\n",
    "\n",
    "# Count of projects whether it is rural or urban\n",
    "rural_urban_df = _utils.summarize_by_project_names(df, \"urban_rural\")\n",
    "\n",
    "# Count of projects by project type\n",
    "projects_df = _utils.summarize_by_project_names(df, \"primary_mode\")\n",
    "\n",
    "# Count of projects by lead agency\n",
    "agency_df = _utils.summarize_by_project_names(df, \"lead_agency\")\n",
    "\n",
    "# Get a line of where the county ranks.\n",
    "county_rank = (\n",
    "    counties_df[\n",
    "        [\n",
    "            \"Full County Name\",\n",
    "            \"Project Rank\",\n",
    "            \"Project Cost\",\n",
    "        ]\n",
    "    ]\n",
    "    .loc[counties_df[\"Full County Name\"] == parameter_county]\n",
    "    .reset_index(drop=True)\n",
    ")"
   ]
  },
  {
   "cell_type": "code",
   "execution_count": null,
   "id": "a38dae4d-30ba-420e-bfdf-8eb1b6307c1d",
   "metadata": {},
   "outputs": [],
   "source": [
    "# District Objects\n",
    "# Median benefit score\n",
    "median_benefit_score = int(df.fake_benefit_score.median())\n",
    "\n",
    "# Total Requested Funds\n",
    "total_cost = format_currency(\n",
    "    (df[\"total_project_cost__$1,000_\"].sum()),\n",
    "    currency=\"USD\",\n",
    ")\n",
    "\n",
    "# Median project cost\n",
    "median_cost = format_currency(\n",
    "    (df[\"total_project_cost__$1,000_\"].median()),\n",
    "    currency=\"USD\",\n",
    ")\n",
    "\n",
    "# Total Requested Funds\n",
    "total_req = format_currency(\n",
    "    (df[\"current_fake_fund_requested\"].sum()),\n",
    "    currency=\"USD\",\n",
    ")\n",
    "\n",
    "# Median Requested Funds\n",
    "median_req = format_currency(\n",
    "    (df[\"current_fake_fund_requested\"].median()),\n",
    "    currency=\"USD\",\n",
    ")"
   ]
  },
  {
   "cell_type": "code",
   "execution_count": null,
   "id": "43e24020-f529-41d2-9df8-29b8e40bfccf",
   "metadata": {},
   "outputs": [],
   "source": [
    "display(\n",
    "    Markdown(\n",
    "        f\"\"\"<h1>Overview of <b>{parameter_county}</b> County</h1>\n",
    "        <li><b>{total_req}</b> in total funds requested across all the agencies.\n",
    "        <li>The total cost of all the projects is <b>{total_cost}</b>.\n",
    "        <li><b>{counties_df['Total Projects'][0]}</b> out of {total_projects} projects are in {parameter_county} County.\n",
    "        <li>The most common project category is <b>{projects_df['Primary Mode'][0]}</b>.\n",
    "        <li>Most projects are in the <b>{phases_df['Current Phase'][0]}</b> phase.\n",
    "        <li><b>{median_benefit_score}</b> is the median benefit score. \n",
    "        \n",
    "        \"\"\"\n",
    "    )\n",
    ")"
   ]
  },
  {
   "cell_type": "code",
   "execution_count": null,
   "id": "35dc685b-2278-47cc-a3b2-f19cdaedf04e",
   "metadata": {},
   "outputs": [],
   "source": [
    "display(\n",
    "    Markdown(\n",
    "        f\"\"\"<h2>Rural versus Urban</h2>\n",
    "        Most projects are in a(n) <b>{rural_urban_df['Urban Rural'][0]}</b> area, \n",
    "        totaling to <b>{rural_urban_df['Total Project ($1000) Formatted'][0]}</b>. \n",
    "        \"\"\"\n",
    "    )\n",
    ")"
   ]
  },
  {
   "cell_type": "code",
   "execution_count": null,
   "id": "07229e24-1945-4a79-bcf1-81531e35c76d",
   "metadata": {},
   "outputs": [],
   "source": [
    "total_urban_rural_bar = _utils.basic_bar_chart_custom_tooltip(\n",
    "    rural_urban_df,\n",
    "    \"Total Project Cost  $1,000\",\n",
    "    \"Urban Rural\",\n",
    "    \"Total Project ($1000) Formatted\",\n",
    "    \"Urban Rural\",\n",
    "    \"Cost of Projects\",\n",
    ")"
   ]
  },
  {
   "cell_type": "code",
   "execution_count": null,
   "id": "5f66d56e-b858-40b7-94c6-2832c9987f9a",
   "metadata": {},
   "outputs": [],
   "source": [
    "total_urban_rural_pie = _utils.basic_pie_chart(\n",
    "    rural_urban_df,\n",
    "    \"Total Projects:Q\",\n",
    "    \"Urban Rural:N\",\n",
    "    \"Total Projects\",\n",
    "    \"Total Projects\",\n",
    ")"
   ]
  },
  {
   "cell_type": "code",
   "execution_count": null,
   "id": "8dfc9189-9561-4dcc-a61d-81a15126cf30",
   "metadata": {},
   "outputs": [],
   "source": [
    "total_urban_rural_pie | total_urban_rural_bar"
   ]
  },
  {
   "cell_type": "code",
   "execution_count": null,
   "id": "4af11d2a-a361-4972-a643-acbbc652dcdf",
   "metadata": {},
   "outputs": [],
   "source": [
    "display(\n",
    "    Markdown(\n",
    "        f\"\"\"<h2>County Map Comparison</h2>\n",
    "        There are {counties_df['Full County Name'].nunique()} different counties, including various. \n",
    "        {parameter_county} ranks {county_rank['Project Rank'][0]} in total projects and \n",
    "        {county_rank['Project Cost'][0]} in project costs. \n",
    "        \"\"\"\n",
    "    )\n",
    ")"
   ]
  },
  {
   "cell_type": "code",
   "execution_count": null,
   "id": "74b9ea36-6571-419c-9175-1af8b1c682d3",
   "metadata": {
    "scrolled": true,
    "tags": []
   },
   "outputs": [],
   "source": [
    "county_map = _utils.create_county_map(\n",
    "    counties_gdf,\n",
    "    \"COUNTY_ABBREV\",\n",
    "    \"County\",\n",
    ")\n",
    "county_map = county_map.drop(columns=\"County\").rename(columns={\"COUNTY_NAME\": \"County\"})"
   ]
  },
  {
   "cell_type": "code",
   "execution_count": null,
   "id": "fb22dcdd-fb5b-4569-8a02-da11a655c922",
   "metadata": {},
   "outputs": [],
   "source": [
    "county_geojson = gpd.read_file(\"https://opendata.arcgis.com/datasets/8713ced9b78a4abb97dc130a691a8695_0.geojson\").to_crs(epsg=4326)"
   ]
  },
  {
   "cell_type": "code",
   "execution_count": null,
   "id": "ead8ffd3-dcd9-46b5-ab0c-fa316e6a488d",
   "metadata": {},
   "outputs": [],
   "source": [
    " # Keep only the columns we want\n",
    "county_geojson = county_geojson[['COUNTY_NAME', 'COUNTY_ABBREV','geometry']]\n",
    "\n",
    "# Replace: where's monterey?? \n",
    "county_geojson['COUNTY_ABBREV'] = county_geojson['COUNTY_ABBREV'].replace(\n",
    "                {'LOS':'LA',\n",
    "                 'DEL':'DN',\n",
    "                 'SFO':'SF',\n",
    "                 'SMT':'SM',\n",
    "                 'MON':'MNO',\n",
    "                 'SDG':'SD',\n",
    "                 'CON':'CC',\n",
    "                 'SCZ':'SCR',\n",
    "                 'SJQ':'SJ',\n",
    "                 'SBA':'SB'})"
   ]
  },
  {
   "cell_type": "code",
   "execution_count": null,
   "id": "91598f8c-d340-4e8c-a5d1-4377dd3de2ea",
   "metadata": {},
   "outputs": [],
   "source": [
    "# Inner merge \n",
    "county_test = county_geojson.merge(\n",
    "    counties_gdf, how=\"inner\", left_on='COUNTY_ABBREV',right_on=\"County\",  indicator = True)"
   ]
  },
  {
   "cell_type": "code",
   "execution_count": null,
   "id": "424d8db1-9307-460d-8789-a6c32f6110be",
   "metadata": {},
   "outputs": [],
   "source": [
    "county_test.explore(\n",
    "    \"Total Projects\",\n",
    "    cmap=\"Set3\",\n",
    "    width=800,\n",
    "    height=400,\n",
    "    #tooltip=[\"County\", \"Total Projects\", \"Total Project ($1000) Formatted\"],\n",
    "    highlight=True,\n",
    "    style_kwds={\"fillOpacity\": 1},\n",
    ")"
   ]
  },
  {
   "cell_type": "code",
   "execution_count": null,
   "id": "3c5101ea-979f-4a96-9ff0-ddfd33cacc2c",
   "metadata": {},
   "outputs": [],
   "source": [
    "project_cat_most_money = (\n",
    "    projects_df.sort_values(\"Total Project Cost  $1,000\")\n",
    "    .tail(1)\n",
    "    .iloc[0][\"Primary Mode\"]\n",
    ")\n",
    "project_most_money = (\n",
    "    projects_df.sort_values(\"Total Project Cost  $1,000\")\n",
    "    .tail(1)\n",
    "    .iloc[0][\"Total Project ($1000) Formatted\"]\n",
    ")"
   ]
  },
  {
   "cell_type": "code",
   "execution_count": null,
   "id": "20c2b64c-e364-480d-815c-35069756d3c3",
   "metadata": {},
   "outputs": [],
   "source": [
    "display(\n",
    "    Markdown(\n",
    "        f\"\"\"<h2>Project Categories</h2>\n",
    "        Most projects ({projects_df['Total Projects'][0]}) are in the <b>{projects_df['Primary Mode'][0]}</b> category,\n",
    "        followed by <b>{projects_df['Primary Mode'][1]}</b>. \n",
    "        <b>{project_cat_most_money}</b> received the most money ({project_most_money}). \n",
    "        \"\"\"\n",
    "    )\n",
    ")"
   ]
  },
  {
   "cell_type": "code",
   "execution_count": null,
   "id": "024f30db-e33b-42a9-8257-3bc3c9df3dc4",
   "metadata": {},
   "outputs": [],
   "source": [
    "_utils.dual_bar_chart(\n",
    "    projects_df,\n",
    "    \"Primary Mode\",\n",
    "    \"Primary Mode:N\",\n",
    "    \"Total Project Cost  $1,000:Q\",\n",
    "    \"Primary Mode:N\",\n",
    "    \"Total Projects:Q\",\n",
    "    [\"Total Project ($1000) Formatted\"],\n",
    "    [\"Total Projects\"],\n",
    ")"
   ]
  },
  {
   "cell_type": "code",
   "execution_count": null,
   "id": "7a5b1be9-acbd-4636-8850-b09e75a41894",
   "metadata": {},
   "outputs": [],
   "source": [
    "display(\n",
    "    Markdown(\n",
    "        f\"\"\"<h2>Project Details</h2>\n",
    "       Below is a list of all the projects in {df.full_county_name[0]} County ranked by benefit score. \n",
    "       The median benefit score is <b>{median_benefit_score}</b>, compared with {county_median_benefit_score} for projects across the state.\n",
    "        \"\"\"\n",
    "    )\n",
    ")"
   ]
  },
  {
   "cell_type": "code",
   "execution_count": null,
   "id": "0cc24419-d7e0-4e45-87a7-529591b632e0",
   "metadata": {},
   "outputs": [],
   "source": [
    "# Subset\n",
    "df_subset = df[\n",
    "    [\n",
    "        \"fake_benefit_score\",\n",
    "        \"lead_agency\",\n",
    "        \"primary_mode\",\n",
    "        \"project_name\",\n",
    "        \"current_fake_fund_requested\",\n",
    "        \"total_project_cost__$1,000_\",\n",
    "    ]\n",
    "]\n",
    "\n",
    "# Format\n",
    "df_subset[\"total_project_cost__$1,000_\"] = df_subset[\n",
    "    \"total_project_cost__$1,000_\"\n",
    "].apply(lambda x: format_currency(x, currency=\"USD\", locale=\"en_US\"))\n",
    "\n",
    "df_subset[\"current_fake_fund_requested\"] = df_subset[\n",
    "    \"current_fake_fund_requested\"\n",
    "].apply(lambda x: format_currency(x, currency=\"USD\", locale=\"en_US\"))\n",
    "df[\"fake_benefit_score\"] = df[\"fake_benefit_score\"].apply(lambda x: round(x, 2))\n",
    "\n",
    "# Clean up Col Names\n",
    "df_subset = _utils.clean_up_columns(df_subset)\n",
    "\n",
    "# Sort by score\n",
    "df_subset = df_subset.sort_values(\"Fake Benefit Score\", ascending=False)"
   ]
  },
  {
   "cell_type": "code",
   "execution_count": null,
   "id": "d74ded6b-976b-4de8-bb43-8a2be46e58cf",
   "metadata": {},
   "outputs": [],
   "source": [
    "_utils.styled_df(df_subset)"
   ]
  },
  {
   "cell_type": "code",
   "execution_count": null,
   "id": "6c0d6c22-af02-4996-8c31-a2c2ca089148",
   "metadata": {},
   "outputs": [],
   "source": [
    "score_card = _utils.create_fake_score_card(df)\n",
    "score_card = _utils.clean_up_columns(score_card)"
   ]
  },
  {
   "cell_type": "code",
   "execution_count": null,
   "id": "4fb267e5-0759-4e88-8fd6-70e5f2b6eb1a",
   "metadata": {},
   "outputs": [],
   "source": [
    "project_dropdown = score_card[\"Project Name\"].unique().tolist()"
   ]
  },
  {
   "cell_type": "code",
   "execution_count": null,
   "id": "9e636003-98d1-4670-ba10-1e916dfede29",
   "metadata": {},
   "outputs": [],
   "source": [
    "score_card_tooltip = [\n",
    "    \"Project Name\",\n",
    "    \"Total Category Score\",\n",
    "    \"Factor Weight\",\n",
    "    \"Weighted Factor Value\",\n",
    "    \"Category Description\",\n",
    "]"
   ]
  },
  {
   "cell_type": "code",
   "execution_count": null,
   "id": "addf736d-7287-41da-8650-32fb01c7fb81",
   "metadata": {},
   "outputs": [],
   "source": [
    "_utils.bar_chart_with_dropdown(\n",
    "    score_card,\n",
    "    project_dropdown,\n",
    "    \"Project Name\",\n",
    "    \"Total Category Score:Q\",\n",
    "    \"Category:N\",\n",
    "    \"Category:N\",\n",
    "    score_card_tooltip,\n",
    "    f\"View Benefit Scores for Individual Projects in {parameter_county} County\",\n",
    ")"
   ]
  },
  {
   "cell_type": "code",
   "execution_count": null,
   "id": "352d0a6d-210f-4cf1-b138-403f728d5cd9",
   "metadata": {},
   "outputs": [],
   "source": [
    "agency_most_money = (\n",
    "    agency_df.sort_values(\"Total Project Cost  $1,000\").tail(1).iloc[0][\"Lead Agency\"]\n",
    ")"
   ]
  },
  {
   "cell_type": "code",
   "execution_count": null,
   "id": "a3d916b8-2eb7-4c11-8ed8-bf06c7c50ebc",
   "metadata": {},
   "outputs": [],
   "source": [
    "display(\n",
    "    Markdown(\n",
    "        f\"\"\"<h2>Lead Agencies</h2>\n",
    "        There are <b>{len(agency_df)}</b> unique agencies with projects located in this county. \n",
    "        <b>{agency_df['Lead Agency'][0]}</b> is the agency with the most projects and  \n",
    "       <b>{agency_most_money}</b> is the agency with highest project costs. \n",
    "        \"\"\"\n",
    "    )\n",
    ")"
   ]
  },
  {
   "cell_type": "code",
   "execution_count": null,
   "id": "2bf8fb6d-626d-46eb-bd7e-f2ec1bcaa592",
   "metadata": {
    "tags": []
   },
   "outputs": [],
   "source": [
    "_utils.styled_df(agency_df.drop(columns=[\"Total Project Cost  $1,000\"]))"
   ]
  }
 ],
 "metadata": {
  "kernelspec": {
   "display_name": "Python 3 (ipykernel)",
   "language": "python",
   "name": "python3"
  },
  "language_info": {
   "codemirror_mode": {
    "name": "ipython",
    "version": 3
   },
   "file_extension": ".py",
   "mimetype": "text/x-python",
   "name": "python",
   "nbconvert_exporter": "python",
   "pygments_lexer": "ipython3",
   "version": "3.10.5"
  }
 },
 "nbformat": 4,
 "nbformat_minor": 5
}
