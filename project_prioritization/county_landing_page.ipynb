{
 "cells": [
  {
   "cell_type": "markdown",
   "id": "da66538b-2b61-45e6-bf07-d60e190c87db",
   "metadata": {},
   "source": [
    "# {county_title}"
   ]
  },
  {
   "cell_type": "code",
   "execution_count": null,
   "id": "2b5f2826-619d-4d18-8f9d-e7f2f3a1f970",
   "metadata": {},
   "outputs": [],
   "source": [
    "%%capture\n",
    "\n",
    "# Turn off warnings\n",
    "import warnings\n",
    "warnings.filterwarnings(\"ignore\")\n",
    "\n",
    "# Normal packages\n",
    "import geopandas as gpd\n",
    "import numpy as np\n",
    "import pandas as pd\n",
    "\n",
    "# Format\n",
    "from babel.numbers import format_currency\n",
    "\n",
    "# Display\n",
    "from IPython.display import HTML, Image, Markdown, display, display_html\n",
    "\n",
    "# Settings\n",
    "pd.options.display.max_columns = 100\n",
    "pd.set_option(\"display.max_rows\", None)\n",
    "pd.set_option(\"display.max_colwidth\", None)\n",
    "pd.options.display.float_format = \"{:,.2f}\".format\n",
    "\n",
    "# GCS, del later since this will presumbly be read from a script that cleans up the data\n",
    "GCS_FILE_PATH = \"gs://calitp-analytics-data/data-analyses/project_prioritization/\"\n",
    "FILE = \"fake_data.xlsx\"\n",
    "\n",
    "# My utilities\n",
    "import _utils"
   ]
  },
  {
   "cell_type": "code",
   "execution_count": null,
   "id": "d3ffe23d-04eb-42f8-bde2-c73cde9c4c5a",
   "metadata": {
    "tags": [
     "parameters"
    ]
   },
   "outputs": [],
   "source": [
    "# Parameter Cell - the county of interest\n",
    "parameter_county = \"Inyo\""
   ]
  },
  {
   "cell_type": "code",
   "execution_count": null,
   "id": "652b830f-fa86-41c0-b4b9-75b50198afa1",
   "metadata": {},
   "outputs": [],
   "source": [
    "# Create dfs\n",
    "df_statewide = pd.read_excel(f\"{GCS_FILE_PATH}{FILE}\", sheet_name=\"fake\")"
   ]
  },
  {
   "cell_type": "code",
   "execution_count": null,
   "id": "c76f02f5-5205-4318-a2ae-1004b2ab9806",
   "metadata": {
    "scrolled": true,
    "tags": []
   },
   "outputs": [],
   "source": [
    "# Fill in empty county names with various\n",
    "df_statewide[\"full_county_name\"] = df_statewide[\"full_county_name\"].fillna(\"Various\")"
   ]
  },
  {
   "cell_type": "code",
   "execution_count": null,
   "id": "9c4d01f6-79a7-4aa5-a1b8-7ee8b4a2ed58",
   "metadata": {},
   "outputs": [],
   "source": [
    "# Filter out a df for the county set in the parameter cell\n",
    "df_parameter = df_statewide.loc[\n",
    "    df_statewide[\"full_county_name\"] == parameter_county\n",
    "].reset_index(drop=True)"
   ]
  },
  {
   "cell_type": "code",
   "execution_count": null,
   "id": "649462e8-f276-44ce-b9e3-1f401b5d7b7c",
   "metadata": {},
   "outputs": [],
   "source": [
    "# Grab the district this county is in\n",
    "parameter_county_district = df_parameter[\"district\"][0]\n",
    "\n",
    "# Grab the full district name\n",
    "parameter_county_district_full_name = df_parameter[\"district_full_name\"][0]"
   ]
  },
  {
   "cell_type": "code",
   "execution_count": null,
   "id": "108c726f-87b8-4c10-ae3f-2673954ffcc9",
   "metadata": {},
   "outputs": [],
   "source": [
    "# Dataframe just for the district the parameter county is located in\n",
    "df_parameter_district = df_statewide.loc[\n",
    "    df_statewide[\"district\"] == parameter_county_district\n",
    "].reset_index(drop=True)"
   ]
  },
  {
   "cell_type": "code",
   "execution_count": null,
   "id": "e540de2f-ac90-47f7-a9d3-8d0f72a1c9e5",
   "metadata": {},
   "outputs": [],
   "source": [
    "# Statewide Objects/DF\n",
    "# Number of projects\n",
    "total_projects_statewide = df_statewide.project_name.nunique()\n",
    "\n",
    "# Number of unique counties\n",
    "unique_counties_statewide = df_statewide.county.nunique()\n",
    "\n",
    "# Count of projects across ALL counties - for mapping\n",
    "# Using county abbreviations.\n",
    "counties_gdf_statewide = _utils.summarize_by_project_names(df_statewide, \"county\")\n",
    "\n",
    "# Count of projects by county\n",
    "counties_df_statewide = _utils.summarize_by_project_names(df_statewide, \"full_county_name\")\n",
    "\n",
    "# Rank counties by number of total projects\n",
    "counties_df_statewide[\"Project Rank\"] = (\n",
    "    counties_df_statewide[\"Total Projects\"].rank(ascending=False).astype(\"int64\")\n",
    ")\n",
    "\n",
    "# Rank counties by total project costs\n",
    "counties_df_statewide[\"Project Cost\"] = (\n",
    "    counties_df_statewide[\"Total Project Cost  $1,000\"].rank(ascending=False).astype(\"int64\")\n",
    ")\n",
    "\n",
    "# Median benefit score\n",
    "statewide_benefit_score = int(df_statewide.fake_benefit_score.median())"
   ]
  },
  {
   "cell_type": "code",
   "execution_count": null,
   "id": "74d625c4-af96-4ba1-bbce-74b7a72920ba",
   "metadata": {},
   "outputs": [],
   "source": [
    "# County Objects/Df\n",
    "# Count of projects by phases it is in\n",
    "phases_df_county = _utils.summarize_by_project_names(df_parameter, \"current_phase\")\n",
    "\n",
    "# Count of projects whether it is rural or urban\n",
    "rural_urban_df_county = _utils.summarize_by_project_names(df_parameter, \"urban_rural\")\n",
    "\n",
    "# Count of projects by project type\n",
    "projects_df_county = _utils.summarize_by_project_names(df_parameter, \"primary_mode\")\n",
    "\n",
    "# Count of projects by lead agency\n",
    "agency_df_county = _utils.summarize_by_project_names(df_parameter, \"lead_agency\")"
   ]
  },
  {
   "cell_type": "code",
   "execution_count": null,
   "id": "a38dae4d-30ba-420e-bfdf-8eb1b6307c1d",
   "metadata": {},
   "outputs": [],
   "source": [
    "# County Objects\n",
    "# Number of projects in this county by project name\n",
    "total_number_projects_county = df_parameter[\"project_name\"].nunique()\n",
    "\n",
    "# Median benefit score\n",
    "median_benefit_score_county = int(df_parameter.fake_benefit_score.median())\n",
    "\n",
    "# Total Requested Funds\n",
    "total_cost_county = format_currency(\n",
    "    (df_parameter[\"total_project_cost__$1,000_\"].sum()),\n",
    "    currency=\"USD\",\n",
    ")\n",
    "\n",
    "# Median project cost\n",
    "median_cost_county = format_currency(\n",
    "    (df_parameter[\"total_project_cost__$1,000_\"].median()),\n",
    "    currency=\"USD\",\n",
    ")\n",
    "\n",
    "# Total Requested Funds\n",
    "total_req_county = format_currency(\n",
    "    (df_parameter[\"current_fake_fund_requested\"].sum()),\n",
    "    currency=\"USD\",\n",
    ")\n",
    "\n",
    "# Median Requested Funds\n",
    "median_req_county = format_currency(\n",
    "    (df_parameter[\"current_fake_fund_requested\"].median()),\n",
    "    currency=\"USD\",\n",
    ")\n",
    "\n",
    "# Project category with the most funding\n",
    "project_cat_most_money_county = (\n",
    "    projects_df_county.sort_values(\"Total Project Cost  $1,000\")\n",
    "    .tail(1)\n",
    "    .iloc[0][\"Primary Mode\"]\n",
    ")\n",
    "\n",
    "# Project that costs the most\n",
    "project_cat_most_money_county = (\n",
    "    projects_df_county.sort_values(\"Total Project Cost  $1,000\")\n",
    "    .tail(1)\n",
    "    .iloc[0][\"Total Project ($1000) Formatted\"]\n",
    ")\n",
    "\n",
    "# Get a line of where the county ranks.\n",
    "county_rank_county = (\n",
    "    counties_df_statewide[\n",
    "        [\n",
    "            \"Full County Name\",\n",
    "            \"Project Rank\",\n",
    "            \"Project Cost\",\n",
    "        ]\n",
    "    ]\n",
    "    .loc[counties_df_statewide[\"Full County Name\"] == parameter_county]\n",
    "    .reset_index(drop=True)\n",
    ")\n",
    "\n",
    "# Find the agency that has the highest project cost among a county\n",
    "agency_most_money = (\n",
    "    agency_df_county.sort_values(\"Total Project Cost  $1,000\").tail(1).iloc[0][\"Lead Agency\"]\n",
    ")"
   ]
  },
  {
   "cell_type": "code",
   "execution_count": null,
   "id": "fb02beb1-24ba-4f65-99c3-da40bc094870",
   "metadata": {},
   "outputs": [],
   "source": [
    "# District Objects\n",
    "# Number of projects\n",
    "total_district_projects = df_parameter_district['project_name'].nunique()\n",
    "\n",
    "# Count of projects by districts across the whole state\n",
    "df_summary_district = _utils.summarize_by_project_names(\n",
    "    df_statewide, \"district_full_name\"\n",
    ")\n",
    "\n",
    "# Rank districts by number of total projects\n",
    "df_summary_district[\"Project Rank\"] = (\n",
    "    df_summary_district[\"Total Projects\"].rank(ascending=False).astype(\"int64\")\n",
    ")\n",
    "\n",
    "# Rank districts by total project costs\n",
    "df_summary_district[\"Project Cost\"] = (\n",
    "    df_summary_district[\"Total Project Cost  $1,000\"]\n",
    "    .rank(ascending=False)\n",
    "    .astype(\"int64\")\n",
    ")\n",
    "\n",
    "# Count of projects by district - for mapping\n",
    "gdf_summary_district = _utils.create_caltrans_map(\n",
    "    _utils.summarize_by_project_names(df_statewide, \"district\")\n",
    ")\n",
    "\n",
    "# Median benefit score across all districts\n",
    "district_benefit_score = int(df_parameter_district.fake_benefit_score.median())\n",
    "\n",
    "# Total Requested Funds\n",
    "total_district_req = format_currency(\n",
    "    (df_parameter_district[\"current_fake_fund_requested\"].sum()),\n",
    "    currency=\"USD\",\n",
    ")\n",
    "\n",
    "# Total Requested Funds\n",
    "total_district_project_cost = format_currency(\n",
    "    (df_parameter_district[\"total_project_cost__$1,000_\"].sum()),\n",
    "    currency=\"USD\",\n",
    ")\n",
    "\n",
    "# Get a line of where the district ranks.\n",
    "district_rank = (\n",
    "    df_summary_district[\n",
    "        [\n",
    "            \"District Full Name\",\n",
    "            \"Project Rank\",\n",
    "            \"Project Cost\",\n",
    "        ]\n",
    "    ]\n",
    "    .loc[\n",
    "        df_summary_district[\"District Full Name\"] == parameter_county_district_full_name\n",
    "    ]\n",
    "    .reset_index(drop=True)\n",
    ")"
   ]
  },
  {
   "cell_type": "code",
   "execution_count": null,
   "id": "43e24020-f529-41d2-9df8-29b8e40bfccf",
   "metadata": {},
   "outputs": [],
   "source": [
    "display(\n",
    "    Markdown(\n",
    "        f\"\"\"<h4>Overview for {parameter_county} County</h4>\n",
    "         <li><b>NOTE</b>: the data below is partially composed of placeholder values.\n",
    "        <li><b>{total_number_projects_county}</b> out of {total_projects_statewide} projects are in {parameter_county} County.\n",
    "        <li>Agencies requested a total of total  <b>{total_req_county}</b> in funds.\n",
    "        <li>The total cost of all the projects is <b>{total_cost_county}</b>.\n",
    "        <li>The most common project phases_df_county is <b>{projects_df_county['Primary Mode'][0]}</b>.\n",
    "        <li>Most projects are in the <b>{phases_df_county['Current Phase'][0]}</b> phase.\n",
    "        <li><b>{median_benefit_score_county}</b> is the median benefit score. \n",
    "        <h4>{parameter_county_district_full_name} Overview</h4>\n",
    "        <li>There are <b>{total_district_projects}</b> projects in this district.\n",
    "        <li><b>{format((total_number_projects_county)/(total_district_projects),\".1%\")}</b> of projects in District {parameter_county_district} \n",
    "      are located in {parameter_county} County\n",
    "        <li>The total amount requested for projects in District {parameter_county_district} is <b>{total_district_req}</b>.\n",
    "        <li>The total cost of all the projects is <b>{total_district_project_cost}</b>.\n",
    "        <li><b>{district_benefit_score}</b> is the median benefit score of projects. \n",
    "        <li>District {parameter_county_district} ranks {district_rank['Project Rank'][0]} in total projects\n",
    "        and {district_rank['Project Cost'][0]} in costs compared to other districts.\n",
    "        \"\"\"\n",
    "    )\n",
    ")"
   ]
  },
  {
   "cell_type": "code",
   "execution_count": null,
   "id": "9ce6daf9-8bb1-480c-8c6c-80e06797d3c2",
   "metadata": {},
   "outputs": [],
   "source": [
    "gdf_summary_district.explore(\n",
    "    \"Total Projects\",\n",
    "    cmap=\"GnBu_r\",\n",
    "    width=800,\n",
    "    height=400,\n",
    "    tooltip=[\"District\", \"Total Projects\", \"Total Project ($1000) Formatted\"],\n",
    "    highlight=True,\n",
    "    legend=True,\n",
    "    style_kwds={\"fillOpacity\": 1},\n",
    ")"
   ]
  },
  {
   "cell_type": "code",
   "execution_count": null,
   "id": "35dc685b-2278-47cc-a3b2-f19cdaedf04e",
   "metadata": {},
   "outputs": [],
   "source": [
    "display(\n",
    "    Markdown(\n",
    "        f\"\"\"<h4>Rural versus Urban</h4>\n",
    "        Most projects in {parameter_county} County are in a(n) <b>{rural_urban_df_county['Urban Rural'][0]}</b> area, \n",
    "        totaling to <b>{rural_urban_df_county['Total Project ($1000) Formatted'][0]}</b> in project costs. \n",
    "        \"\"\"\n",
    "    )\n",
    ")"
   ]
  },
  {
   "cell_type": "code",
   "execution_count": null,
   "id": "07229e24-1945-4a79-bcf1-81531e35c76d",
   "metadata": {},
   "outputs": [],
   "source": [
    "total_urban_rural_bar = _utils.basic_bar_chart_custom_tooltip(\n",
    "    rural_urban_df_county,\n",
    "    \"Total Project Cost  $1,000\",\n",
    "    \"Urban Rural\",\n",
    "    \"Total Project ($1000) Formatted\",\n",
    "    \"Urban Rural\",\n",
    "    \"Cost of Projects\",\n",
    ")"
   ]
  },
  {
   "cell_type": "code",
   "execution_count": null,
   "id": "5f66d56e-b858-40b7-94c6-2832c9987f9a",
   "metadata": {},
   "outputs": [],
   "source": [
    "total_urban_rural_pie = _utils.basic_pie_chart(\n",
    "    rural_urban_df_county,\n",
    "    \"Total Projects:Q\",\n",
    "    \"Urban Rural:N\",\n",
    "    \"Total Projects\",\n",
    "    \"Total Projects\",\n",
    ")"
   ]
  },
  {
   "cell_type": "code",
   "execution_count": null,
   "id": "8dfc9189-9561-4dcc-a61d-81a15126cf30",
   "metadata": {},
   "outputs": [],
   "source": [
    "total_urban_rural_pie | total_urban_rural_bar"
   ]
  },
  {
   "cell_type": "code",
   "execution_count": null,
   "id": "4af11d2a-a361-4972-a643-acbbc652dcdf",
   "metadata": {},
   "outputs": [],
   "source": [
    "display(\n",
    "    Markdown(\n",
    "        f\"\"\"<h4>County Comparison</h4>\n",
    "        There are {unique_counties_statewide} different counties \n",
    "        (including projects that fall in multiple counties and are coded as 'Various'). \n",
    "        {parameter_county} County ranks <b>{county_rank_county['Project Rank'][0]}</b> in total number of projects and \n",
    "        <b>{county_rank_county['Project Cost'][0]}</b> in project costs among all the other counties. \n",
    "        \"\"\"\n",
    "    )\n",
    ")"
   ]
  },
  {
   "cell_type": "code",
   "execution_count": null,
   "id": "74b9ea36-6571-419c-9175-1af8b1c682d3",
   "metadata": {
    "scrolled": true,
    "tags": []
   },
   "outputs": [],
   "source": [
    "county_map = _utils.create_county_map(\n",
    "    counties_gdf_statewide,\n",
    "    \"COUNTY_ABBREV\",\n",
    "    \"County\",\n",
    ")\n",
    "county_map = county_map.drop(columns=\"County\").rename(columns={\"COUNTY_NAME\": \"County\"})"
   ]
  },
  {
   "cell_type": "code",
   "execution_count": null,
   "id": "424d8db1-9307-460d-8789-a6c32f6110be",
   "metadata": {},
   "outputs": [],
   "source": [
    "county_map.explore(\n",
    "    \"Total Projects\",\n",
    "    cmap=\"Oranges\",\n",
    "    width=800,\n",
    "    height=400,\n",
    "    tooltip=[\"County\", \"Total Projects\", \"Total Project ($1000) Formatted\"],\n",
    "    highlight=True,\n",
    "    style_kwds={\"fillOpacity\": 1},\n",
    ")"
   ]
  },
  {
   "cell_type": "code",
   "execution_count": null,
   "id": "20c2b64c-e364-480d-815c-35069756d3c3",
   "metadata": {},
   "outputs": [],
   "source": [
    "display(\n",
    "    Markdown(\n",
    "        f\"\"\"<h4>Project Categories</h4>\n",
    "        Most projects ({projects_df_county['Total Projects'][0]}) are in the <b>{projects_df_county['Primary Mode'][0]}</b> category,\n",
    "        followed by <b>{projects_df_county['Primary Mode'][1]}</b>. \n",
    "        <b>{project_cat_most_money_county}</b> received the most money ({project_cat_most_money_county}). \n",
    "        \"\"\"\n",
    "    )\n",
    ")"
   ]
  },
  {
   "cell_type": "code",
   "execution_count": null,
   "id": "024f30db-e33b-42a9-8257-3bc3c9df3dc4",
   "metadata": {},
   "outputs": [],
   "source": [
    "_utils.dual_bar_chart(\n",
    "    projects_df_county,\n",
    "    \"Primary Mode\",\n",
    "    \"Primary Mode:N\",\n",
    "    \"Total Project Cost  $1,000:Q\",\n",
    "    \"Primary Mode:N\",\n",
    "    \"Total Projects:Q\",\n",
    "    [\"Total Project ($1000) Formatted\"],\n",
    "    [\"Total Projects\"],\n",
    "    \"Categories by Cost and Total Projects - Click on the first graph to highlight the second\",\n",
    ")"
   ]
  },
  {
   "cell_type": "code",
   "execution_count": null,
   "id": "7a5b1be9-acbd-4636-8850-b09e75a41894",
   "metadata": {},
   "outputs": [],
   "source": [
    "display(\n",
    "    Markdown(\n",
    "        f\"\"\"<h4>Project Details</h4>\n",
    "       All the projects in {parameter_county} County are listed below, ranked by benefit score. \n",
    "       The median benefit score is <b>{median_benefit_score_county}</b>, \n",
    "       compared with {district_benefit_score} for projects across the districts and {statewide_benefit_score} for projects across California.\n",
    "        \"\"\"\n",
    "    )\n",
    ")"
   ]
  },
  {
   "cell_type": "code",
   "execution_count": null,
   "id": "0cc24419-d7e0-4e45-87a7-529591b632e0",
   "metadata": {},
   "outputs": [],
   "source": [
    "# Subset\n",
    "df_subset = df_parameter[\n",
    "    [\n",
    "        \"fake_benefit_score\",\n",
    "        \"lead_agency\",\n",
    "        \"primary_mode\",\n",
    "        \"project_name\",\n",
    "        \"current_fake_fund_requested\",\n",
    "        \"total_project_cost__$1,000_\",\n",
    "    ]\n",
    "]\n",
    "\n",
    "# Format\n",
    "df_subset[\"total_project_cost__$1,000_\"] = df_subset[\n",
    "    \"total_project_cost__$1,000_\"\n",
    "].apply(lambda x: format_currency(x, currency=\"USD\", locale=\"en_US\"))\n",
    "\n",
    "df_subset[\"current_fake_fund_requested\"] = df_subset[\n",
    "    \"current_fake_fund_requested\"\n",
    "].apply(lambda x: format_currency(x, currency=\"USD\", locale=\"en_US\"))\n",
    "df_parameter[\"fake_benefit_score\"] = df_parameter[\"fake_benefit_score\"].apply(\n",
    "    lambda x: round(x, 2)\n",
    ")\n",
    "\n",
    "# Clean up Col Names\n",
    "df_subset = _utils.clean_up_columns(df_subset)\n",
    "\n",
    "# Sort by score\n",
    "df_subset = df_subset.sort_values(\"Fake Benefit Score\", ascending=False)"
   ]
  },
  {
   "cell_type": "code",
   "execution_count": null,
   "id": "d74ded6b-976b-4de8-bb43-8a2be46e58cf",
   "metadata": {},
   "outputs": [],
   "source": [
    "_utils.styled_df(df_subset)"
   ]
  },
  {
   "cell_type": "code",
   "execution_count": null,
   "id": "6c0d6c22-af02-4996-8c31-a2c2ca089148",
   "metadata": {},
   "outputs": [],
   "source": [
    "score_card = _utils.create_fake_score_card(df_parameter)\n",
    "score_card = _utils.clean_up_columns(score_card)"
   ]
  },
  {
   "cell_type": "code",
   "execution_count": null,
   "id": "af6eb052-bcf0-4e6b-992e-02b3cf340175",
   "metadata": {},
   "outputs": [],
   "source": [
    "score_card = score_card.rename(\n",
    "    columns={\"Value X\": \"Measure\", \"Value Y\": \"Monetary Values\"}\n",
    ")"
   ]
  },
  {
   "cell_type": "code",
   "execution_count": null,
   "id": "4fb267e5-0759-4e88-8fd6-70e5f2b6eb1a",
   "metadata": {},
   "outputs": [],
   "source": [
    "project_dropdown = score_card[\"Project Name\"].unique().tolist()"
   ]
  },
  {
   "cell_type": "code",
   "execution_count": null,
   "id": "9e636003-98d1-4670-ba10-1e916dfede29",
   "metadata": {},
   "outputs": [],
   "source": [
    "score_card_tooltip = [\n",
    "    \"Project Name\",\n",
    "    \"Total Category Score\",\n",
    "    \"Factor Weight\",\n",
    "    \"Weighted Factor Value\",\n",
    "    \"Category Description\",\n",
    "]"
   ]
  },
  {
   "cell_type": "code",
   "execution_count": null,
   "id": "c3770dfa-a023-4c7a-aabe-7139a417df33",
   "metadata": {},
   "outputs": [],
   "source": [
    "project_desc_tooltip = [\n",
    "    \"Project Name\",\n",
    "    \"Project Description\",\n",
    "    \"Monetary\",\n",
    "    \"Monetary Values\",\n",
    "]"
   ]
  },
  {
   "cell_type": "code",
   "execution_count": null,
   "id": "2502fcfd-e96d-43f8-b494-8a8a83ddf577",
   "metadata": {},
   "outputs": [],
   "source": [
    "display(\n",
    "    Markdown(\n",
    "        f\"\"\"Use the dropdown menu below to retrive information for a specific project. Hover over the bars for more detail.\n",
    "        \"\"\"\n",
    "    )\n",
    ")"
   ]
  },
  {
   "cell_type": "code",
   "execution_count": null,
   "id": "addf736d-7287-41da-8650-32fb01c7fb81",
   "metadata": {},
   "outputs": [],
   "source": [
    "_utils.dual_chart_with_dropdown(\n",
    "    score_card,\n",
    "    project_dropdown,\n",
    "    \"Project Name\",\n",
    "    \"Monetary:N\",\n",
    "    \"Monetary Values:Q\",\n",
    "    \"Monetary:N\",\n",
    "    project_desc_tooltip,\n",
    "    \"Total Category Score:Q\",\n",
    "    \"Category:N\",\n",
    "    \"Category:N\",\n",
    "    score_card_tooltip,\n",
    "    f\"View Individual Projects in {parameter_county} County\",\n",
    ")"
   ]
  },
  {
   "cell_type": "code",
   "execution_count": null,
   "id": "a3d916b8-2eb7-4c11-8ed8-bf06c7c50ebc",
   "metadata": {},
   "outputs": [],
   "source": [
    "display(\n",
    "    Markdown(\n",
    "        f\"\"\"<h4>Lead Agencies</h4>\n",
    "        There are <b>{len(agency_df_county)}</b> unique agencies with projects located in {parameter_county} County. \n",
    "        <b>{agency_df_county['Lead Agency'][0]}</b> is the agency with the most projects and  \n",
    "       <b>{agency_most_money}</b> is the agency with highest project costs. \n",
    "        \"\"\"\n",
    "    )\n",
    ")"
   ]
  },
  {
   "cell_type": "code",
   "execution_count": null,
   "id": "2bf8fb6d-626d-46eb-bd7e-f2ec1bcaa592",
   "metadata": {
    "tags": []
   },
   "outputs": [],
   "source": [
    "_utils.styled_df(agency_df_county.drop(columns=[\"Total Project Cost  $1,000\"]))"
   ]
  }
 ],
 "metadata": {
  "kernelspec": {
   "display_name": "Python 3 (ipykernel)",
   "language": "python",
   "name": "python3"
  },
  "language_info": {
   "codemirror_mode": {
    "name": "ipython",
    "version": 3
   },
   "file_extension": ".py",
   "mimetype": "text/x-python",
   "name": "python",
   "nbconvert_exporter": "python",
   "pygments_lexer": "ipython3",
   "version": "3.10.5"
  }
 },
 "nbformat": 4,
 "nbformat_minor": 5
}
