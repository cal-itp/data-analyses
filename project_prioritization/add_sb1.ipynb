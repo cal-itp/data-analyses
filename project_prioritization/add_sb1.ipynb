{
 "cells": [
  {
   "cell_type": "markdown",
   "id": "1a173285-41bd-4523-8d4b-b5474ec1b034",
   "metadata": {},
   "source": [
    "## Add SB1 geographic information."
   ]
  },
  {
   "cell_type": "code",
   "execution_count": 1,
   "id": "22b768e0-0316-4684-a4b2-683dcd82a323",
   "metadata": {},
   "outputs": [
    {
     "name": "stderr",
     "output_type": "stream",
     "text": [
      "/opt/conda/lib/python3.9/site-packages/geopandas/_compat.py:123: UserWarning: The Shapely GEOS version (3.10.3-CAPI-1.16.1) is incompatible with the GEOS version PyGEOS was compiled with (3.10.1-CAPI-1.16.0). Conversions between both will be slow.\n",
      "  warnings.warn(\n"
     ]
    }
   ],
   "source": [
    "import _utils\n",
    "import geopandas as gpd\n",
    "import numpy as np\n",
    "import pandas as pd\n",
    "from calitp.sql import to_snakecase"
   ]
  },
  {
   "cell_type": "code",
   "execution_count": 2,
   "id": "c375e3ed-515c-4762-a8aa-2c448a5433f9",
   "metadata": {},
   "outputs": [],
   "source": [
    "import fsspec\n",
    "from calitp import *\n",
    "from calitp.storage import get_fs\n",
    "\n",
    "fs = get_fs()\n",
    "import os"
   ]
  },
  {
   "cell_type": "code",
   "execution_count": 3,
   "id": "c7bbc54d-4a75-4b6d-8ed8-a44ec2685cd9",
   "metadata": {},
   "outputs": [],
   "source": [
    "pd.options.display.max_columns = 200\n",
    "pd.set_option(\"display.max_rows\", None)\n",
    "pd.set_option(\"display.max_colwidth\", None)"
   ]
  },
  {
   "cell_type": "code",
   "execution_count": 4,
   "id": "237a5df4-60b9-4b73-858e-0468dad85d15",
   "metadata": {},
   "outputs": [],
   "source": [
    "def basic_cleaning(df, agency_col: str, project_name_col:str, project_id_col: str, project_desc_col:str):\n",
    "    \n",
    "    df = _utils.organization_cleaning(df, agency_col)\n",
    "    \n",
    "    # Remove all punctation, lowercase, and strip whitespaces from \n",
    "    # project titles & descriptions\n",
    "    for i in [project_name_col, project_desc_col]:\n",
    "        df[i] = (df[i].str.lower().str.replace('[^\\w\\s]','').str.strip())\n",
    "                 \n",
    "    # Some project names contain the year. Remove anything after 20..\n",
    "    df[project_name_col] = df[project_name_col].str.split(\"20\").str[0]\n",
    "    \n",
    "    # Project ID, remove all commas and lowercase if there are strings\n",
    "    df[project_id_col] = (df[project_id_col].str.replace(\"'\", \"\").str.lower().str.strip())\n",
    "    \n",
    "    # Get rid of | in object cols\n",
    "    # https://stackoverflow.com/questions/68152902/extracting-only-object-type-columns-in-a-separate-list-from-a-data-frame-in-pand\n",
    "    string_cols = df.select_dtypes(include=['object']).columns.to_list()\n",
    "    try:\n",
    "        for i in string_cols:\n",
    "            df[i] = df[i].str.replace(\"|\", \"\")\n",
    "    except:\n",
    "        pass\n",
    "        \n",
    "    # Fill in NA\n",
    "    df = df.fillna(df.dtypes.replace({\"float64\": 0.0, \"object\": \"None\"}))\n",
    "\n",
    "    return df"
   ]
  },
  {
   "cell_type": "markdown",
   "id": "76e4f5c3-7968-49e6-97d3-a1d165e50af3",
   "metadata": {
    "tags": []
   },
   "source": [
    "### Non SHOPP-ATP-TIRCP\n",
    "* No year information for projects."
   ]
  },
  {
   "cell_type": "code",
   "execution_count": 5,
   "id": "6b483a64-786d-4d9c-96e8-0bfe429ffd2a",
   "metadata": {},
   "outputs": [],
   "source": [
    "# Read in 10 Year non SHOPP with ATP and TIRCP\n",
    "nonshopp = to_snakecase(\n",
    "    pd.read_excel(f\"{_utils.GCS_FILE_PATH}cleaned_data_atp_tircp.xlsx\")\n",
    ")"
   ]
  },
  {
   "cell_type": "code",
   "execution_count": 6,
   "id": "aa0c6362-1f89-4112-a55f-6928841266ce",
   "metadata": {},
   "outputs": [],
   "source": [
    "# Subset to join.\n",
    "non_shopp_subset = [\n",
    "    \"ppno\",\n",
    "    \"ct_project_id\",\n",
    "    \"ea\",\n",
    "    \"project_name\",\n",
    "    \"lead_agency\",\n",
    "    \"previous_caltrans_nominations\",\n",
    "    \"full_county_name\",\n",
    "    \"county\",\n",
    "    \"district_full_name\",\n",
    "    \"district\",\n",
    "    \"project_description\",\n",
    "    \"current_phase\",\n",
    "    \"primary_mode\",\n",
    "    \"urban_rural\",\n",
    "    \"total_project_cost__$1,000\",\n",
    "    \"total_unfunded_need__$1,000\",\n",
    "    \"shs_capacity_increase_detail\",\n",
    "    \"current_phase\",\n",
    "]"
   ]
  },
  {
   "cell_type": "code",
   "execution_count": 7,
   "id": "a63dc3e3-2485-4331-b370-c6fdf2c57952",
   "metadata": {},
   "outputs": [],
   "source": [
    "# nonshopp = nonshopp[non_shopp_subset]"
   ]
  },
  {
   "cell_type": "code",
   "execution_count": 8,
   "id": "06967d23-860f-4d11-a4ed-18675a5070e6",
   "metadata": {},
   "outputs": [],
   "source": [
    "# Add a digit in front of single digits\n",
    "nonshopp.district = nonshopp.district.map(\"{:02}\".format)"
   ]
  },
  {
   "cell_type": "code",
   "execution_count": 9,
   "id": "388aab8a-a885-4cd2-98b2-7dd6e5b24b82",
   "metadata": {},
   "outputs": [
    {
     "name": "stderr",
     "output_type": "stream",
     "text": [
      "/tmp/ipykernel_1801/3292077459.py:8: FutureWarning: The default value of regex will change from True to False in a future version.\n",
      "/tmp/ipykernel_1801/3292077459.py:21: FutureWarning: The default value of regex will change from True to False in a future version. In addition, single character regular expressions will *not* be treated as literal strings when regex=True.\n"
     ]
    }
   ],
   "source": [
    "nonshopp = basic_cleaning(nonshopp, \"lead_agency\", \"project_name\", \"ct_project_id\", \"project_description\")"
   ]
  },
  {
   "cell_type": "markdown",
   "id": "69f2f3b4-c1d0-4d4b-87c5-d2158e115dcc",
   "metadata": {
    "tags": []
   },
   "source": [
    "### 9 Sample Non SHOPP "
   ]
  },
  {
   "cell_type": "code",
   "execution_count": 10,
   "id": "3e217738-36f1-4c7e-939d-dda2c86dc95d",
   "metadata": {},
   "outputs": [],
   "source": [
    "nine_projects_names = [\n",
    "    \"LA-210 Median Concrete Barrier Renovation\",\n",
    "    \"SR-14 Widening Project\",\n",
    "    \"US 395 Freight Mobility and Safety Project\",\n",
    "    \"East Bay Greenway Multimodal Corridor Project\",\n",
    "    \"Watsonville-Santa Cruz Multimodal Corridor Program\",\n",
    "    \"SM 101 Woodside Road Interchange and Port Access Project\",\n",
    "    \"I-710 Integrated Corridor Management\",\n",
    "    \"Five Cities Multimodal Transportation Network Enhancement Project\",\n",
    "    \"SR-86/Avenue 50 New Interchange (Phase II)\",\n",
    "]"
   ]
  },
  {
   "cell_type": "code",
   "execution_count": 11,
   "id": "8834ce41-93b4-4978-a1bf-d4595dad14a6",
   "metadata": {},
   "outputs": [],
   "source": [
    "nine_projects_names = [x.lower() for x in nine_projects_names]"
   ]
  },
  {
   "cell_type": "code",
   "execution_count": 12,
   "id": "8b7deddf-30b5-4071-8a9c-2bd91c9cdc25",
   "metadata": {},
   "outputs": [],
   "source": [
    "nine_projects_id = [\n",
    "    \"0422000202\",\n",
    "    \"0414000032\",\n",
    "    \"0520000083\",\n",
    "    \"0515000063\",\n",
    "    \"0721000056\",\n",
    "    \"0716000370\",\n",
    "    \"0813000222\",\n",
    "    \"0814000144\",\n",
    "    \"0414000032\",\n",
    "    \"0720000165\",\n",
    "]"
   ]
  },
  {
   "cell_type": "code",
   "execution_count": 13,
   "id": "86fcc2e9-e7d2-413e-bf0f-a133f9e1d628",
   "metadata": {},
   "outputs": [],
   "source": [
    "nine_sample_projects = (nonshopp[nonshopp.ct_project_id.isin(nine_projects_id)].reset_index(drop=True))"
   ]
  },
  {
   "cell_type": "markdown",
   "id": "87abc3fd-7d93-45da-ac5c-886f01e00d0b",
   "metadata": {},
   "source": [
    "* Solutions for Congest Corridors (SCCP): 1\n",
    "* Trade Corridor Enhancement Program (TCEP): 3\n",
    "* Only 3 projects seem to have been awarded. \n",
    "    * east bay greenway multimodal corridor project phase 1\n",
    "    * us 101woodside road interchange and port access project\n",
    "    * watsonvillesanta cruz multimodal corridor program wscmcp cycle 3 project contract 1 sr 1 freedom to state park aux lanes bus on shoulders and coastal rail trail segment 12"
   ]
  },
  {
   "cell_type": "code",
   "execution_count": 14,
   "id": "d001144d-7528-43d7-8b60-32d925ccf080",
   "metadata": {
    "scrolled": true,
    "tags": []
   },
   "outputs": [],
   "source": [
    "# nine_sample_projects[['project_name','project_description','county','previous_caltrans_nominations']]"
   ]
  },
  {
   "cell_type": "markdown",
   "id": "da7daae5-7482-4535-aa72-08a3145b757e",
   "metadata": {},
   "source": [
    "### Sb1 Geo\n",
    "* https://odpsvcs.dot.ca.gov/arcgis/rest/services/RCA/RCA_Projects_032022/FeatureServer"
   ]
  },
  {
   "cell_type": "markdown",
   "id": "1ea8e6ea-1ab7-42f4-be6d-d0de4d4a4113",
   "metadata": {
    "tags": []
   },
   "source": [
    "#### Step 1: Read in files with geometry "
   ]
  },
  {
   "cell_type": "code",
   "execution_count": 15,
   "id": "66078fe9-1813-4114-8cd3-f202d767d42f",
   "metadata": {},
   "outputs": [],
   "source": [
    "url_pt1 = \"https://odpsvcs.dot.ca.gov/arcgis/rest/services/RCA/RCA_Projects_032022/FeatureServer/\"\n",
    "url_pt2 = \"/query?where=1%3D1&objectIds=&time=&geometry=&geometryType=esriGeometryEnvelope&inSR=&spatialRel=esriSpatialRelIntersects&distance=&units=esriSRUnit_Foot&relationParam=&outFields=*+&returnGeometry=true&maxAllowableOffset=&geometryPrecision=&outSR=&gdbVersion=&historicMoment=&returnDistinctValues=false&returnIdsOnly=false&returnCountOnly=false&returnExtentOnly=false&orderByFields=&groupByFieldsForStatistics=&outStatistics=&returnZ=false&returnM=false&multipatchOption=&resultOffset=&resultRecordCount=&returnTrueCurves=false&sqlFormat=none&f=geojson\""
   ]
  },
  {
   "cell_type": "code",
   "execution_count": 16,
   "id": "1d4ea347-27e9-46e0-896b-d46d31cb583c",
   "metadata": {},
   "outputs": [],
   "source": [
    "def rest_server():\n",
    "    full_gdf = pd.DataFrame()\n",
    "    for i in [*range(0,22)]:\n",
    "        df = to_snakecase(gpd.read_file(f\"{url_pt1}{i}{url_pt2}\"))\n",
    "        full_gdf = pd.concat([full_gdf, df], axis=0)\n",
    "    return full_gdf"
   ]
  },
  {
   "cell_type": "code",
   "execution_count": 17,
   "id": "8871efb7-866e-4eba-8de0-47aba5974e09",
   "metadata": {},
   "outputs": [],
   "source": [
    "sb1_geo1 = rest_server()"
   ]
  },
  {
   "cell_type": "code",
   "execution_count": 18,
   "id": "bf8f1b02-f703-487f-b0af-6b3b5aa494f0",
   "metadata": {},
   "outputs": [
    {
     "data": {
      "text/plain": [
       "Index(['objectid', 'agencyids', 'agencies', 'programcodes', 'iijaprogram',\n",
       "       'iijacodes', 'projectstatuscodes', 'fiscalyears', 'fiscalyearcodes',\n",
       "       'projectstatuses', 'sb1funds', 'iijafunds', 'totalcost', 'dateupdated',\n",
       "       'projectcount', 'assemblydistricts', 'senatedistricts',\n",
       "       'congressionaldistricts', 'assemblycodes', 'senatecodes',\n",
       "       'congressionalcodes', 'countynames', 'citynames', 'countycodes',\n",
       "       'citycodes', 'ct_codes', 'ct_districts', 'issb1', 'isiija', 'isonshs',\n",
       "       'issb1codes', 'isiijacode', 'isonshscodes', 'popup', 'geometry',\n",
       "       'projectid', 'projecttitle', 'projectdescription'],\n",
       "      dtype='object')"
      ]
     },
     "execution_count": 18,
     "metadata": {},
     "output_type": "execute_result"
    }
   ],
   "source": [
    "sb1_geo1.columns"
   ]
  },
  {
   "cell_type": "code",
   "execution_count": 19,
   "id": "2f810e79-6227-4c12-940d-3b8f92f7e1fd",
   "metadata": {},
   "outputs": [
    {
     "name": "stderr",
     "output_type": "stream",
     "text": [
      "/tmp/ipykernel_1801/3292077459.py:8: FutureWarning: The default value of regex will change from True to False in a future version.\n",
      "/tmp/ipykernel_1801/3292077459.py:21: FutureWarning: The default value of regex will change from True to False in a future version. In addition, single character regular expressions will *not* be treated as literal strings when regex=True.\n"
     ]
    }
   ],
   "source": [
    "sb1_geo2 = basic_cleaning(sb1_geo1, 'agencies','projecttitle','projectid',\n",
    "                         'projectdescription')"
   ]
  },
  {
   "cell_type": "code",
   "execution_count": 20,
   "id": "52ac67ea-44e6-43d4-b5d5-c2f345554418",
   "metadata": {},
   "outputs": [],
   "source": [
    "# sb1_geo = sb1_geo.drop(columns = 'popup')"
   ]
  },
  {
   "cell_type": "code",
   "execution_count": 21,
   "id": "d7bec9fb-c72f-4644-91c8-b8d019843a70",
   "metadata": {},
   "outputs": [
    {
     "data": {
      "text/plain": [
       "SHOPP    2741\n",
       "HM       1163\n",
       "LSR       509\n",
       "ATP       321\n",
       "SHOPA     165\n",
       "SGR       161\n",
       "STIP      126\n",
       "TIRCP      96\n",
       "LPP-F      68\n",
       "TCEP       63\n",
       "LPP-C      57\n",
       "STA        49\n",
       "SCCP       40\n",
       "FM         12\n",
       "SRA        11\n",
       "Name: programcodes, dtype: int64"
      ]
     },
     "execution_count": 21,
     "metadata": {},
     "output_type": "execute_result"
    }
   ],
   "source": [
    "sb1_geo2.programcodes.value_counts()"
   ]
  },
  {
   "cell_type": "code",
   "execution_count": 22,
   "id": "3a14fd39-d217-42dc-9d8d-b8a1b1f7b559",
   "metadata": {},
   "outputs": [
    {
     "data": {
      "text/plain": [
       "True"
      ]
     },
     "execution_count": 22,
     "metadata": {},
     "output_type": "execute_result"
    }
   ],
   "source": [
    "# All geometry is valid\n",
    "sb1_geo2.geometry.is_valid.sum() == len(sb1_geo2)"
   ]
  },
  {
   "cell_type": "code",
   "execution_count": 23,
   "id": "f51de107-8fb6-4d05-86a6-6111753452c6",
   "metadata": {},
   "outputs": [
    {
     "name": "stderr",
     "output_type": "stream",
     "text": [
      "/tmp/ipykernel_1801/3707436155.py:1: UserWarning: GeoSeries.notna() previously returned False for both missing (None) and empty geometries. Now, it only returns False for missing values. Since the calling GeoSeries contains empty geometries, the result has changed compared to previous versions of GeoPandas.\n",
      "Given a GeoSeries 's', you can use '~s.is_empty & s.notna()' to get back the old behaviour.\n",
      "\n",
      "To further ignore this warning, you can do: \n",
      "import warnings; warnings.filterwarnings('ignore', 'GeoSeries.notna', UserWarning)\n"
     ]
    },
    {
     "data": {
      "text/plain": [
       "True"
      ]
     },
     "execution_count": 23,
     "metadata": {},
     "output_type": "execute_result"
    }
   ],
   "source": [
    "sb1_geo2.geometry.notna().sum()  == len(sb1_geo2)"
   ]
  },
  {
   "cell_type": "code",
   "execution_count": 24,
   "id": "3a14399a-65f7-4c4a-8dff-770a5a8428c0",
   "metadata": {},
   "outputs": [
    {
     "data": {
      "text/plain": [
       "5581"
      ]
     },
     "execution_count": 24,
     "metadata": {},
     "output_type": "execute_result"
    }
   ],
   "source": [
    "len(sb1_geo2[~sb1_geo2.geometry.is_empty]) "
   ]
  },
  {
   "cell_type": "code",
   "execution_count": 25,
   "id": "225588db-cf65-4420-91f5-529f94f04e0f",
   "metadata": {
    "scrolled": true,
    "tags": []
   },
   "outputs": [],
   "source": [
    "# Throw out missing geometry\n",
    "missing_geo = sb1_geo2[sb1_geo2.geometry.is_empty]"
   ]
  },
  {
   "cell_type": "code",
   "execution_count": 26,
   "id": "52e55d21-d807-4bf8-ac14-6e0d7c1b624f",
   "metadata": {},
   "outputs": [],
   "source": [
    "sb1_geo2 = sb1_geo2[~sb1_geo2.geometry.is_empty].reset_index(drop = True)"
   ]
  },
  {
   "cell_type": "code",
   "execution_count": 27,
   "id": "cd71460f-35f5-46ae-a93a-5191bdde60f7",
   "metadata": {},
   "outputs": [
    {
     "data": {
      "text/plain": [
       "True"
      ]
     },
     "execution_count": 27,
     "metadata": {},
     "output_type": "execute_result"
    }
   ],
   "source": [
    "len(sb1_geo2) == len(sb1_geo2[~sb1_geo2.geometry.is_empty]) "
   ]
  },
  {
   "cell_type": "code",
   "execution_count": 28,
   "id": "9f70a4a8-8b23-4bd8-b362-2d27c7e642e1",
   "metadata": {},
   "outputs": [
    {
     "data": {
      "text/plain": [
       "None                        1321\n",
       "major damage restoration     465\n",
       "safety improvements          366\n",
       "pavement rehabilitation      305\n",
       "pavement  hm1                220\n",
       "Name: projecttitle, dtype: int64"
      ]
     },
     "execution_count": 28,
     "metadata": {},
     "output_type": "execute_result"
    }
   ],
   "source": [
    "sb1_geo2.projecttitle.value_counts().head()"
   ]
  },
  {
   "cell_type": "code",
   "execution_count": 29,
   "id": "a8e5a8eb-23bb-4741-a674-06d3448b1431",
   "metadata": {},
   "outputs": [],
   "source": [
    "# sb1_geo.countynames.sort_values().unique()"
   ]
  },
  {
   "cell_type": "code",
   "execution_count": 30,
   "id": "a4f51702-caca-4c01-b7d6-23de04012ead",
   "metadata": {},
   "outputs": [],
   "source": [
    "# sb1_geo.explore()"
   ]
  },
  {
   "cell_type": "markdown",
   "id": "a91b5261-4f89-439a-b82e-7877b7707551",
   "metadata": {},
   "source": [
    "#### Compare with 9 Sample Projects"
   ]
  },
  {
   "cell_type": "code",
   "execution_count": 31,
   "id": "7fbba442-b295-4a9b-b94d-68dc41c0131f",
   "metadata": {},
   "outputs": [],
   "source": [
    "# Subset sb1_geo to only programs these 9 projects have applied for\n",
    "tcep_sccp1 = sb1_geo2[sb1_geo2[\"programcodes\"].str.contains(('TCEP|SCCP'))].reset_index(drop = True)"
   ]
  },
  {
   "cell_type": "code",
   "execution_count": 32,
   "id": "729a5f9b-34ce-4802-8195-2319a38bc857",
   "metadata": {},
   "outputs": [],
   "source": [
    "# Subset sb1_geo to only programs these 9 projects are located in\n",
    "tcep_sccp2 = sb1_geo2[sb1_geo2[\"countynames\"].str.contains(('Alameda|San Mateo|Santa Cruz|San Luis Obispo|Los Angeles|San Bernardino|Riverside'))].reset_index(drop = True)"
   ]
  },
  {
   "cell_type": "code",
   "execution_count": 33,
   "id": "9002f8e2-75d1-4b3a-a7b6-b01efa548b5c",
   "metadata": {},
   "outputs": [],
   "source": [
    "# Subset sb1_geo to only programs these 9 projects have applied for\n",
    "tcep_sccp2 = tcep_sccp2[tcep_sccp2[\"programcodes\"].str.contains(('TCEP|SCCP'))].reset_index(drop = True)"
   ]
  },
  {
   "cell_type": "code",
   "execution_count": 34,
   "id": "cb74fc0e-5ed1-4a40-acd7-84aa24a72733",
   "metadata": {},
   "outputs": [
    {
     "data": {
      "text/plain": [
       "(37, 38)"
      ]
     },
     "execution_count": 34,
     "metadata": {},
     "output_type": "execute_result"
    }
   ],
   "source": [
    "tcep_sccp2.shape"
   ]
  },
  {
   "cell_type": "code",
   "execution_count": 35,
   "id": "3fef812f-a54c-403e-992b-6bb51dcebdd7",
   "metadata": {},
   "outputs": [
    {
     "data": {
      "text/plain": [
       "TCEP    26\n",
       "SCCP    11\n",
       "Name: programcodes, dtype: int64"
      ]
     },
     "execution_count": 35,
     "metadata": {},
     "output_type": "execute_result"
    }
   ],
   "source": [
    "tcep_sccp2.programcodes.value_counts()"
   ]
  },
  {
   "cell_type": "code",
   "execution_count": 36,
   "id": "d9ed4ea2-9e66-4ddd-b1b6-1c65d7ceaf97",
   "metadata": {},
   "outputs": [
    {
     "data": {
      "text/plain": [
       "_merge    \n",
       "right_only    37\n",
       "left_only      9\n",
       "both           0\n",
       "dtype: int64"
      ]
     },
     "execution_count": 36,
     "metadata": {},
     "output_type": "execute_result"
    }
   ],
   "source": [
    "pd.merge(\n",
    "    nine_sample_projects,\n",
    "    tcep_sccp2,\n",
    "    how=\"outer\",\n",
    "    left_on=[\"ct_project_id\"],\n",
    "    right_on=[\"projectid\"],\n",
    "    indicator=True,\n",
    ")[[\"_merge\"]].value_counts()"
   ]
  },
  {
   "cell_type": "code",
   "execution_count": 37,
   "id": "a7475dba-a1dc-414c-8f13-c94d34003069",
   "metadata": {},
   "outputs": [
    {
     "data": {
      "text/plain": [
       "_merge    \n",
       "right_only    37\n",
       "left_only      9\n",
       "both           0\n",
       "dtype: int64"
      ]
     },
     "execution_count": 37,
     "metadata": {},
     "output_type": "execute_result"
    }
   ],
   "source": [
    "pd.merge(\n",
    "    nine_sample_projects,\n",
    "    tcep_sccp2,\n",
    "    how=\"outer\",\n",
    "    left_on=[\"project_name\"],\n",
    "    right_on=[\"projecttitle\"],\n",
    "    indicator=True,\n",
    ")[[\"_merge\"]].value_counts()"
   ]
  },
  {
   "cell_type": "markdown",
   "id": "f3a52b8f-aa23-44c6-aee4-59bae929ce38",
   "metadata": {},
   "source": [
    "* Eyeballing matches\n",
    "    * route 395 widening from sr 18 to chamberlaine way in SB1 could match us 395 freight mobility and safety project in Non SHOPP\n",
    "    * state route 1 state park to bayporter auxiliary lanes in SB1 is watsonvillesanta cruz multimodal corridor program wscmcp cycle 3 project contract 1 sr 1 freedom to state park aux lanes bus on shoulders and coastal rail trail segment 12 in non SHOPP"
   ]
  },
  {
   "cell_type": "code",
   "execution_count": 57,
   "id": "c03ada7e-43f2-4f22-9ff2-d6ad9704337f",
   "metadata": {
    "scrolled": true,
    "tags": []
   },
   "outputs": [],
   "source": [
    "# tcep_sccp2[['projecttitle','agencies','countynames', 'projectdescription']].sort_values(['countynames','projecttitle'])"
   ]
  },
  {
   "cell_type": "code",
   "execution_count": 53,
   "id": "2eec244d-6141-4655-898d-d10e23cca51d",
   "metadata": {
    "scrolled": true,
    "tags": []
   },
   "outputs": [],
   "source": [
    "# nine_sample_projects[['project_name','lead_agency','full_county_name','project_description']].sort_values(['full_county_name','project_name'])"
   ]
  },
  {
   "cell_type": "code",
   "execution_count": 58,
   "id": "bc283dad-5081-4d09-b160-006c9992472a",
   "metadata": {},
   "outputs": [],
   "source": [
    "non_shopp_projects_sb1_list = ['route 395 widening from sr 18 to chamberlaine way', \n",
    "                             'state route 1  state park to bayporter auxiliary lanes']"
   ]
  },
  {
   "cell_type": "code",
   "execution_count": 67,
   "id": "3d20cf2c-ed33-4e69-90ea-f4e29b5911f5",
   "metadata": {},
   "outputs": [],
   "source": [
    "test = sb1_geo2[sb1_geo2[\"projecttitle\"].isin(non_shopp_projects_sb1_list)].reset_index(drop = True)"
   ]
  },
  {
   "cell_type": "code",
   "execution_count": 72,
   "id": "a0ebf374-ea77-4a93-b8eb-c40bab0f3f1d",
   "metadata": {
    "scrolled": true,
    "tags": []
   },
   "outputs": [],
   "source": [
    "# test[['geometry','projecttitle']]"
   ]
  },
  {
   "cell_type": "code",
   "execution_count": 59,
   "id": "2e3dad1e-5626-49a9-aff0-746fb54858e9",
   "metadata": {},
   "outputs": [],
   "source": [
    "non_shopp_projects_in_sb1 = tcep_sccp2[tcep_sccp2[\"projecttitle\"].isin(non_shopp_projects_sb1_list)].reset_index(drop = True)"
   ]
  },
  {
   "cell_type": "code",
   "execution_count": 60,
   "id": "3586edee-5451-481b-b3b1-2713acae7dc7",
   "metadata": {},
   "outputs": [],
   "source": [
    "non_shopp_projects_in_sb1.projecttitle = non_shopp_projects_in_sb1.projecttitle.replace({\n",
    "    'route 395 widening from sr 18 to chamberlaine way': 'us 395 freight mobility and safety project',\n",
    "    'state route 1  state park to bayporter auxiliary lanes': 'watsonvillesanta cruz multimodal corridor program wscmcp cycle 3 project contract 1  sr 1 freedom to state park aux lanes bus on shoulders and coastal rail trail segment 12'\n",
    "})"
   ]
  },
  {
   "cell_type": "code",
   "execution_count": 61,
   "id": "08269d32-1146-4680-970e-b1a93c02c7d6",
   "metadata": {},
   "outputs": [
    {
     "data": {
      "text/plain": [
       "2"
      ]
     },
     "execution_count": 61,
     "metadata": {},
     "output_type": "execute_result"
    }
   ],
   "source": [
    "len(non_shopp_projects_in_sb1)"
   ]
  },
  {
   "cell_type": "code",
   "execution_count": 63,
   "id": "5d02f7da-fb30-4fe6-a62c-f73e2efd872e",
   "metadata": {},
   "outputs": [],
   "source": [
    "nine_sample_projects_geo = pd.merge(\n",
    "    non_shopp_projects_in_sb1[['projecttitle','geometry', 'projectdescription']],\n",
    "    nine_sample_projects,\n",
    "    how=\"outer\",\n",
    "    left_on=[\"projecttitle\"],\n",
    "    right_on=[\"project_name\"],\n",
    ")"
   ]
  },
  {
   "cell_type": "code",
   "execution_count": 64,
   "id": "d6cf4ff9-e128-41e2-9b0b-2ad5d810022c",
   "metadata": {},
   "outputs": [
    {
     "data": {
      "text/plain": [
       "9"
      ]
     },
     "execution_count": 64,
     "metadata": {},
     "output_type": "execute_result"
    }
   ],
   "source": [
    "len(nine_sample_projects_geo)"
   ]
  },
  {
   "cell_type": "code",
   "execution_count": 74,
   "id": "a22c7ff3-a633-4582-b464-1a3d41f43fde",
   "metadata": {},
   "outputs": [
    {
     "data": {
      "text/plain": [
       "geopandas.geodataframe.GeoDataFrame"
      ]
     },
     "execution_count": 74,
     "metadata": {},
     "output_type": "execute_result"
    }
   ],
   "source": [
    "type(nine_sample_projects_geo)"
   ]
  },
  {
   "cell_type": "code",
   "execution_count": 73,
   "id": "660faea4-9c6d-4041-b131-8f3905342a8a",
   "metadata": {},
   "outputs": [],
   "source": [
    "# nine_sample_projects_geo[['project_name','projecttitle','project_description','projectdescription', 'full_county_name']]"
   ]
  },
  {
   "cell_type": "code",
   "execution_count": 75,
   "id": "b1ffa7f6-a4d1-4ffb-986d-5f9681dc2f00",
   "metadata": {},
   "outputs": [],
   "source": [
    " _utils.geojson_gcs_export(nine_sample_projects_geo,_utils.GCS_FILE_PATH, 'nine_sample_projects_geom')"
   ]
  },
  {
   "cell_type": "markdown",
   "id": "418cf408-395b-4129-9627-c194bb7eee7b",
   "metadata": {
    "tags": []
   },
   "source": [
    "#### Step 2: Read in all projects\n",
    "* Compare with CSV.\n",
    "* Clean it up."
   ]
  },
  {
   "cell_type": "code",
   "execution_count": null,
   "id": "57760f7c-453e-4d1e-9055-911fdc5dd74b",
   "metadata": {},
   "outputs": [],
   "source": [
    "sb1_all_projects_url = \"https://odpsvcs.dot.ca.gov/arcgis/rest/services/RCA/RCA_Projects_032022/FeatureServer/22/query?where=1%3D1&objectIds=&time=&geometry=&geometryType=esriGeometryEnvelope&inSR=&spatialRel=esriSpatialRelIntersects&distance=&units=esriSRUnit_Foot&relationParam=&outFields=*+&returnGeometry=true&maxAllowableOffset=&geometryPrecision=&outSR=&gdbVersion=&historicMoment=&returnDistinctValues=false&returnIdsOnly=false&returnCountOnly=false&returnExtentOnly=false&orderByFields=&groupByFieldsForStatistics=&outStatistics=&returnZ=false&returnM=false&multipatchOption=&resultOffset=&resultRecordCount=&returnTrueCurves=false&sqlFormat=none&f=geojson\""
   ]
  },
  {
   "cell_type": "code",
   "execution_count": null,
   "id": "a316c10a-3ba0-4d96-a2a3-16a7324fdf60",
   "metadata": {},
   "outputs": [],
   "source": [
    "# Read in SB1 csv\n",
    "# sb1_csv = to_snakecase(pd.read_csv(f\"{_utils.GCS_FILE_PATH}RebuildingCA_map_Data.csv\"))"
   ]
  },
  {
   "cell_type": "code",
   "execution_count": null,
   "id": "98ad0ce0-1ec1-4686-b088-51f1d5d4ea72",
   "metadata": {},
   "outputs": [],
   "source": [
    "sb1_all_projects = to_snakecase(gpd.read_file(sb1_all_projects_url))"
   ]
  },
  {
   "cell_type": "code",
   "execution_count": null,
   "id": "cd7b978f-e0fe-4cf9-9cfa-fe0993b78e27",
   "metadata": {},
   "outputs": [],
   "source": [
    "sb1_all_projects.shape, sb1_all_projects.projecttitle.nunique()"
   ]
  },
  {
   "cell_type": "code",
   "execution_count": null,
   "id": "1c2e3f9f-55fc-4d4d-a6a4-931da4a68d84",
   "metadata": {},
   "outputs": [],
   "source": [
    "# Same rows, different columns.\n",
    "# sb1_all_projects.shape, sb1_csv.shape"
   ]
  },
  {
   "cell_type": "code",
   "execution_count": null,
   "id": "24de4776-90e4-4862-9224-fe1fedf4ef60",
   "metadata": {},
   "outputs": [],
   "source": [
    "# Project ID matches\n",
    "# csv_projectid = set(sb1_csv.project_id.unique().tolist())\n",
    "# geojson_projectid = set(sb1_all_projects.projectid.unique().tolist())\n",
    "# csv_projectid - geojson_projectid"
   ]
  },
  {
   "cell_type": "code",
   "execution_count": null,
   "id": "3961c1b6-eb36-44ba-8a78-aca089cd2035",
   "metadata": {},
   "outputs": [],
   "source": [
    "# set(sb1_all_projects.columns).difference(set(sb1_csv.columns))"
   ]
  },
  {
   "cell_type": "code",
   "execution_count": null,
   "id": "98b60f3e-8875-4cc2-807a-98266ac56bbb",
   "metadata": {},
   "outputs": [],
   "source": [
    "# Align funding\n",
    "sb1_all_projects = _utils.align_funding_numbers(\n",
    "    sb1_all_projects,\n",
    "    [\n",
    "        \"totalcost\",\n",
    "        \"sb1funds\",\n",
    "    ],\n",
    ")"
   ]
  },
  {
   "cell_type": "code",
   "execution_count": null,
   "id": "bf24ac71-79a4-417f-906b-9ca4824b499f",
   "metadata": {},
   "outputs": [],
   "source": [
    "# Lower case and clean project names\n",
    "sb1_all_projects.projecttitle = (\n",
    "    sb1_all_projects.projecttitle.str.lower().str.strip().str.split(\"20\").str[0]\n",
    ")"
   ]
  },
  {
   "cell_type": "code",
   "execution_count": null,
   "id": "a87ebb9b-4ca9-45d0-9e58-01a13ab873ef",
   "metadata": {},
   "outputs": [],
   "source": [
    "# No geometry, just drop it\n",
    "sb1_all_projects = sb1_all_projects.drop(columns=[\"geometry\"])"
   ]
  },
  {
   "cell_type": "markdown",
   "id": "59a4eef7-4b8b-40bd-af1a-f15f81a077ba",
   "metadata": {},
   "source": [
    "#### Step 3: Figure out why the rows differ between `sb1_all_projects` and `sb1_geo2`"
   ]
  },
  {
   "cell_type": "code",
   "execution_count": null,
   "id": "7412b06d-e243-497a-8402-01c34f598f5e",
   "metadata": {},
   "outputs": [],
   "source": [
    "# Subset to join back to the 9,000 projects above\n",
    "# subset = ['objectid', 'agencyids', 'projecttitle','programcodes', 'projectid','geometry']"
   ]
  },
  {
   "cell_type": "code",
   "execution_count": null,
   "id": "52ae80b3-b737-45cc-901c-6dbd8334204a",
   "metadata": {},
   "outputs": [],
   "source": [
    "full_gdf2.projectid.nunique(), sb1_project_id.project_id.nunique(), len(sb1_project_id)"
   ]
  },
  {
   "cell_type": "code",
   "execution_count": null,
   "id": "307fd968-aec1-4e26-a2b3-88c80c5a1ab4",
   "metadata": {},
   "outputs": [],
   "source": [
    "pd.merge(\n",
    "    sb1_project_id,\n",
    "    full_gdf2,\n",
    "    how=\"outer\",\n",
    "    left_on=[\"project_id\"],\n",
    "    right_on=[\"projectid\"],\n",
    "    indicator=True,\n",
    ")[[\"_merge\"]].value_counts()"
   ]
  },
  {
   "cell_type": "code",
   "execution_count": null,
   "id": "c05a86f1-6c69-484e-b6bd-5d3324742824",
   "metadata": {},
   "outputs": [],
   "source": [
    "sb1_m = pd.merge(\n",
    "    full_gdf2,\n",
    "    sb1_project_id,\n",
    "    how=\"left\",\n",
    "    left_on=[\"projectid\"],\n",
    "    right_on=[\"project_id\"],\n",
    ")"
   ]
  },
  {
   "cell_type": "code",
   "execution_count": null,
   "id": "e4b1d2d3-7b68-460b-a2eb-dd5f6e59c381",
   "metadata": {},
   "outputs": [],
   "source": [
    "sb1_m.project_name = sb1_m.project_name.fillna(sb1_m.projecttitle)"
   ]
  },
  {
   "cell_type": "code",
   "execution_count": null,
   "id": "92fc5d14-d99c-470f-9bc5-d903d7b212db",
   "metadata": {},
   "outputs": [],
   "source": [
    "pd.merge(nonshopp, sb1_m, how=\"outer\", on=[\"project_name\"], indicator=True)[\n",
    "    [\"_merge\"]\n",
    "].value_counts()"
   ]
  },
  {
   "cell_type": "code",
   "execution_count": null,
   "id": "805ac0f5-36dc-40bd-b7b5-582baadc339a",
   "metadata": {},
   "outputs": [],
   "source": [
    "sb1.shape, sb1.project_name.nunique()"
   ]
  },
  {
   "cell_type": "code",
   "execution_count": null,
   "id": "34a06b31-dd37-48a2-83d6-06abd8d4b615",
   "metadata": {},
   "outputs": [],
   "source": [
    "# Titles are not necessarily specifically named.\n",
    "# Tends to be very general\n",
    "# sb1.project_name.value_counts()"
   ]
  },
  {
   "cell_type": "code",
   "execution_count": null,
   "id": "11af211e-6647-49b7-b818-d3bc5209ab43",
   "metadata": {},
   "outputs": [],
   "source": [
    "sb1_subset = [\n",
    "    \"project_name\",\n",
    "    \"implementing_agency\",\n",
    "    \"sb1_program\",\n",
    "    \"fiscal_year\",\n",
    "    \"project_description\",\n",
    "    \"total_cost\",\n",
    "    \"sb1_funds\",\n",
    "    \"is_sb1?\",\n",
    "    \"project_status\",\n",
    "    \"assembly_districts\",\n",
    "    \"senate_districts\",\n",
    "    \"congressional_districts\",\n",
    "    \"counties\",\n",
    "    \"cities\",\n",
    "    \"caltrans_districts\",\n",
    "    \"on_shs?\",\n",
    "]"
   ]
  },
  {
   "cell_type": "code",
   "execution_count": null,
   "id": "1c970a13-2b8a-4c24-afca-7f2f8fbe229d",
   "metadata": {},
   "outputs": [],
   "source": [
    "sb1_2 = sb1[sb1_subset]"
   ]
  },
  {
   "cell_type": "code",
   "execution_count": null,
   "id": "0b6f73ab-706d-4c31-8fae-fe830a3fc260",
   "metadata": {},
   "outputs": [],
   "source": [
    "sb1.sb1_program.value_counts()"
   ]
  },
  {
   "cell_type": "code",
   "execution_count": null,
   "id": "ad12e624-e1cd-4e0f-a98e-c533490fc3d4",
   "metadata": {},
   "outputs": [],
   "source": [
    "sb1_2.shape"
   ]
  },
  {
   "cell_type": "code",
   "execution_count": null,
   "id": "7510fd40-c15e-42ba-a4f1-68031c2e6b3e",
   "metadata": {},
   "outputs": [],
   "source": [
    "# Align funding\n",
    "sb1_2 = _utils.align_funding_numbers(\n",
    "    sb1_2,\n",
    "    [\n",
    "        \"total_cost\",\n",
    "        \"sb1_funds\",\n",
    "    ],\n",
    ")"
   ]
  },
  {
   "cell_type": "code",
   "execution_count": null,
   "id": "d2b42344-6b49-4b26-83f4-f70f02a46c32",
   "metadata": {},
   "outputs": [],
   "source": [
    "# sb1_geo2 = sb1_geo[subset]"
   ]
  },
  {
   "cell_type": "code",
   "execution_count": null,
   "id": "05b55d0d-dea9-4951-bbb2-569277934a01",
   "metadata": {},
   "outputs": [],
   "source": [
    "sb1_all_projects.shape, sb1_geo.shape"
   ]
  },
  {
   "cell_type": "code",
   "execution_count": null,
   "id": "78804134-baa0-405e-91b2-4f27da5b53cf",
   "metadata": {},
   "outputs": [],
   "source": [
    "# Objectid: no cleaning for either of dfs\n",
    "# This is a int64 dtype...yet zero merges\n",
    "pd.merge(\n",
    "    sb1_all_projects,\n",
    "    sb1_geo,\n",
    "    how=\"outer\",\n",
    "    on=[\"objectid\"],\n",
    "    indicator=True,\n",
    ")[[\"_merge\"]].value_counts()"
   ]
  },
  {
   "cell_type": "code",
   "execution_count": null,
   "id": "80cdc34b-7646-4c0d-8086-5e43b1b13c9e",
   "metadata": {},
   "outputs": [],
   "source": [
    "sb1_all_projects = clean_project_names_id(sb1_all_projects, 'projectid', 'projecttitle')"
   ]
  },
  {
   "cell_type": "code",
   "execution_count": null,
   "id": "6f511481-9d2f-4f8d-9a68-ed21efd96d25",
   "metadata": {},
   "outputs": [],
   "source": [
    "sb1_geo2 = clean_project_names_id(sb1_geo, 'projectid','projecttitle')"
   ]
  },
  {
   "cell_type": "code",
   "execution_count": null,
   "id": "d1163bba-8831-41d4-9238-dac16c5bc144",
   "metadata": {},
   "outputs": [],
   "source": [
    "pd.merge(\n",
    "    sb1_all_projects,\n",
    "    sb1_geo2,\n",
    "    how=\"outer\",\n",
    "    left_on=[\"projectid\"],\n",
    "    right_on = [\"projectid\"],\n",
    "    indicator=True,\n",
    ")[[\"_merge\"]].value_counts()"
   ]
  },
  {
   "cell_type": "code",
   "execution_count": null,
   "id": "f839c3db-9bff-4653-9be0-537aa1cfa5d0",
   "metadata": {},
   "outputs": [],
   "source": [
    "pd.merge(\n",
    "    sb1_all_projects,\n",
    "    sb1_geo2,\n",
    "    how=\"outer\",\n",
    "    left_on=[\"projecttitle\", \"ct_districts\", \"agencyid\", \"fiscalyear\"],\n",
    "    right_on=[\"projecttitle\", \"ct_districts\", \"agencyids\", \"fiscalyears\"],\n",
    "    indicator=True,\n",
    ")[[\"_merge\"]].value_counts()"
   ]
  },
  {
   "cell_type": "markdown",
   "id": "8e56b218-b6c8-4bec-bc97-300e1ebd1229",
   "metadata": {},
   "source": [
    "### Merge all other Projects"
   ]
  },
  {
   "cell_type": "code",
   "execution_count": null,
   "id": "ccede347-cbfe-4ee3-9346-71b8f538258f",
   "metadata": {},
   "outputs": [],
   "source": [
    "# 62 matches\n",
    "pd.merge(\n",
    "    nonshopp,\n",
    "    sb1_all_projects,\n",
    "    how=\"outer\",\n",
    "    left_on=[\"project_name\"],\n",
    "    right_on=[\"projecttitle\"],\n",
    "    indicator=True,\n",
    ")[[\"_merge\"]].value_counts()"
   ]
  },
  {
   "cell_type": "markdown",
   "id": "9bd3b888-c935-4029-81ca-e8cc5d3eedb5",
   "metadata": {},
   "source": [
    "### Tircp\n",
    "* None of the projects from TIRCP are mapping, even though the names appear the same."
   ]
  },
  {
   "cell_type": "code",
   "execution_count": null,
   "id": "182020ac-5310-48a9-96d5-0227b89f6231",
   "metadata": {},
   "outputs": [],
   "source": [
    "# sb1_tircp = sb1_2.loc[sb1_2.sb1_program == \"Transit and Intercity Rail Capital Program\"].reset_index(drop = True)"
   ]
  },
  {
   "cell_type": "code",
   "execution_count": null,
   "id": "81191fad-bd8a-4d7b-b75b-bcf7c542fc71",
   "metadata": {},
   "outputs": [],
   "source": [
    "# sb1_tircp[['project_name','caltrans_districts','counties']].sort_values('project_name').head(2)"
   ]
  },
  {
   "cell_type": "code",
   "execution_count": null,
   "id": "80ca7f9b-043b-4f18-a79a-3e5d69161af4",
   "metadata": {
    "scrolled": true,
    "tags": []
   },
   "outputs": [],
   "source": [
    "# tircp_sb[['project_name']].sort_values(by = 'project_name')"
   ]
  },
  {
   "cell_type": "code",
   "execution_count": null,
   "id": "417df614-c9e4-4b8e-9ffa-b4f21889e974",
   "metadata": {
    "scrolled": true,
    "tags": []
   },
   "outputs": [],
   "source": [
    "# tircp_shopp[['project_name']].sort_values(by = 'project_name')"
   ]
  },
  {
   "cell_type": "code",
   "execution_count": null,
   "id": "25c0f244-c284-4de8-a8d9-872be7c74c0d",
   "metadata": {
    "scrolled": true,
    "tags": []
   },
   "outputs": [],
   "source": [
    "tircp_shopp = df.loc[\n",
    "    df.previous_caltrans_nominations.str.contains(\"TIRCP\")\n",
    "].reset_index(drop=True)"
   ]
  },
  {
   "cell_type": "code",
   "execution_count": null,
   "id": "4f74adae-6714-4e3b-b288-911be3d67c27",
   "metadata": {},
   "outputs": [],
   "source": [
    "# why are there no matches??\n",
    "pd.merge(tircp_shopp, tircp_sb, how=\"outer\", on=[\"project_name\"], indicator=True)[\n",
    "    [\"_merge\"]\n",
    "].value_counts()"
   ]
  }
 ],
 "metadata": {
  "kernelspec": {
   "display_name": "Python 3 (ipykernel)",
   "language": "python",
   "name": "python3"
  },
  "language_info": {
   "codemirror_mode": {
    "name": "ipython",
    "version": 3
   },
   "file_extension": ".py",
   "mimetype": "text/x-python",
   "name": "python",
   "nbconvert_exporter": "python",
   "pygments_lexer": "ipython3",
   "version": "3.9.13"
  }
 },
 "nbformat": 4,
 "nbformat_minor": 5
}
