{
 "cells": [
  {
   "cell_type": "markdown",
   "id": "1a173285-41bd-4523-8d4b-b5474ec1b034",
   "metadata": {},
   "source": [
    "## Add SB1 geographic information."
   ]
  },
  {
   "cell_type": "code",
   "execution_count": null,
   "id": "22b768e0-0316-4684-a4b2-683dcd82a323",
   "metadata": {},
   "outputs": [],
   "source": [
    "import _utils\n",
    "import geopandas as gpd\n",
    "import numpy as np\n",
    "import pandas as pd\n",
    "from calitp.sql import to_snakecase"
   ]
  },
  {
   "cell_type": "code",
   "execution_count": null,
   "id": "c375e3ed-515c-4762-a8aa-2c448a5433f9",
   "metadata": {},
   "outputs": [],
   "source": [
    "import fsspec\n",
    "from calitp import *\n",
    "from calitp.storage import get_fs\n",
    "\n",
    "fs = get_fs()\n",
    "import os"
   ]
  },
  {
   "cell_type": "code",
   "execution_count": null,
   "id": "c7bbc54d-4a75-4b6d-8ed8-a44ec2685cd9",
   "metadata": {},
   "outputs": [],
   "source": [
    "pd.options.display.max_columns = 200\n",
    "pd.set_option(\"display.max_rows\", None)\n",
    "pd.set_option(\"display.max_colwidth\", None)"
   ]
  },
  {
   "cell_type": "markdown",
   "id": "76e4f5c3-7968-49e6-97d3-a1d165e50af3",
   "metadata": {
    "tags": []
   },
   "source": [
    "### Non SHOPP-ATP-TIRCP"
   ]
  },
  {
   "cell_type": "code",
   "execution_count": null,
   "id": "6b483a64-786d-4d9c-96e8-0bfe429ffd2a",
   "metadata": {},
   "outputs": [],
   "source": [
    "# Read in 10 Year non SHOPP with ATP and TIRCP\n",
    "nonshopp = to_snakecase(\n",
    "    pd.read_excel(f\"{_utils.GCS_FILE_PATH}cleaned_data_atp_tircp.xlsx\")\n",
    ")"
   ]
  },
  {
   "cell_type": "code",
   "execution_count": null,
   "id": "aa0c6362-1f89-4112-a55f-6928841266ce",
   "metadata": {},
   "outputs": [],
   "source": [
    "# Subset to join.\n",
    "non_shopp_subset = [\n",
    "    \"ppno\",\n",
    "    \"ct_project_id\",\n",
    "    \"ea\",\n",
    "    \"project_name\",\n",
    "    \"lead_agency\",\n",
    "    \"previous_caltrans_nominations\",\n",
    "    \"full_county_name\",\n",
    "    \"district\",\n",
    "    \"project_description\",\n",
    "    \"current_phase\",\n",
    "    \"primary_mode\",\n",
    "    \"urban_rural\",\n",
    "    \"total_project_cost__$1,000\",\n",
    "    \"total_unfunded_need__$1,000\",\n",
    "    \"notes\",\n",
    "    \"shs_capacity_increase_detail\",\n",
    "    \"current_phase\",\n",
    "]"
   ]
  },
  {
   "cell_type": "code",
   "execution_count": null,
   "id": "a63dc3e3-2485-4331-b370-c6fdf2c57952",
   "metadata": {},
   "outputs": [],
   "source": [
    "nonshopp = nonshopp[non_shopp_subset]"
   ]
  },
  {
   "cell_type": "code",
   "execution_count": null,
   "id": "06967d23-860f-4d11-a4ed-18675a5070e6",
   "metadata": {},
   "outputs": [],
   "source": [
    "nonshopp.district = nonshopp.district.map(\"{:02}\".format)"
   ]
  },
  {
   "cell_type": "markdown",
   "id": "5ba81d8f-2aaa-4138-be99-ed6687892a8a",
   "metadata": {},
   "source": [
    "### Sb1 Geo\n",
    "* https://odpsvcs.dot.ca.gov/arcgis/rest/services/RCA/RCA_Projects_032022/FeatureServer\n",
    "\n",
    "#### Step 1: Read in all projects\n",
    "* Compare with CSV.\n",
    "* Clean it up."
   ]
  },
  {
   "cell_type": "code",
   "execution_count": null,
   "id": "57760f7c-453e-4d1e-9055-911fdc5dd74b",
   "metadata": {},
   "outputs": [],
   "source": [
    "sb1_all_projects_url = \"https://odpsvcs.dot.ca.gov/arcgis/rest/services/RCA/RCA_Projects_032022/FeatureServer/22/query?where=1%3D1&objectIds=&time=&geometry=&geometryType=esriGeometryEnvelope&inSR=&spatialRel=esriSpatialRelIntersects&distance=&units=esriSRUnit_Foot&relationParam=&outFields=*+&returnGeometry=true&maxAllowableOffset=&geometryPrecision=&outSR=&gdbVersion=&historicMoment=&returnDistinctValues=false&returnIdsOnly=false&returnCountOnly=false&returnExtentOnly=false&orderByFields=&groupByFieldsForStatistics=&outStatistics=&returnZ=false&returnM=false&multipatchOption=&resultOffset=&resultRecordCount=&returnTrueCurves=false&sqlFormat=none&f=geojson\""
   ]
  },
  {
   "cell_type": "code",
   "execution_count": null,
   "id": "a316c10a-3ba0-4d96-a2a3-16a7324fdf60",
   "metadata": {},
   "outputs": [],
   "source": [
    "# Read in SB1 csv\n",
    "# sb1_csv = to_snakecase(pd.read_csv(f\"{_utils.GCS_FILE_PATH}RebuildingCA_map_Data.csv\"))"
   ]
  },
  {
   "cell_type": "code",
   "execution_count": null,
   "id": "98ad0ce0-1ec1-4686-b088-51f1d5d4ea72",
   "metadata": {},
   "outputs": [],
   "source": [
    "sb1_all_projects = to_snakecase(gpd.read_file(sb1_all_projects_url))"
   ]
  },
  {
   "cell_type": "code",
   "execution_count": null,
   "id": "1c2e3f9f-55fc-4d4d-a6a4-931da4a68d84",
   "metadata": {},
   "outputs": [],
   "source": [
    "# Same rows, different columns.\n",
    "# sb1_all_projects.shape, sb1_csv.shape"
   ]
  },
  {
   "cell_type": "code",
   "execution_count": null,
   "id": "24de4776-90e4-4862-9224-fe1fedf4ef60",
   "metadata": {},
   "outputs": [],
   "source": [
    "# Project ID matches\n",
    "# csv_projectid = set(sb1_csv.project_id.unique().tolist())\n",
    "# geojson_projectid = set(sb1_all_projects.projectid.unique().tolist())\n",
    "# csv_projectid - geojson_projectid"
   ]
  },
  {
   "cell_type": "code",
   "execution_count": null,
   "id": "3961c1b6-eb36-44ba-8a78-aca089cd2035",
   "metadata": {},
   "outputs": [],
   "source": [
    "# set(sb1_all_projects.columns).difference(set(sb1_csv.columns))"
   ]
  },
  {
   "cell_type": "code",
   "execution_count": null,
   "id": "1b5ae135-7dd9-43f3-a063-36c415b4de5d",
   "metadata": {},
   "outputs": [],
   "source": [
    "subset = [\n",
    "    \"projectid\",\n",
    "    \"agencyids\",\n",
    "    \"agencies\",\n",
    "    \"programcodes\",\n",
    "    \"fiscalyears\",\n",
    "    \"projectstatuses\",\n",
    "    \"sb1funds\",\n",
    "    \"iijafunds\",\n",
    "    \"totalcost\",\n",
    "    \"assemblydistricts\",\n",
    "    \"senatedistricts\",\n",
    "    \"congressionaldistricts\",\n",
    "    \"countynames\",\n",
    "    \"citynames\",\n",
    "    \"ct_districts\",\n",
    "    \"issb1codes\",\n",
    "    \"isiijacode\",\n",
    "    \"isonshscodes\",\n",
    "    \"geometry\",\n",
    "    \"projecttitle\",\n",
    "    \"projectdescription\",\n",
    "]"
   ]
  },
  {
   "cell_type": "code",
   "execution_count": null,
   "id": "98b60f3e-8875-4cc2-807a-98266ac56bbb",
   "metadata": {},
   "outputs": [],
   "source": [
    "# Align funding\n",
    "sb1_all_projects = _utils.align_funding_numbers(\n",
    "    sb1_all_projects,\n",
    "    [\n",
    "        \"totalcost\",\n",
    "        \"sb1funds\",\n",
    "    ],\n",
    ")"
   ]
  },
  {
   "cell_type": "code",
   "execution_count": null,
   "id": "bf24ac71-79a4-417f-906b-9ca4824b499f",
   "metadata": {},
   "outputs": [],
   "source": [
    "# Lower case and clean project names\n",
    "sb1_all_projects.projecttitle = (\n",
    "    sb1_all_projects.projecttitle.str.lower().str.strip().str.split(\"20\").str[0]\n",
    ")"
   ]
  },
  {
   "cell_type": "code",
   "execution_count": null,
   "id": "921e3b0a-eec5-471e-aeff-9a04dd1d5a6e",
   "metadata": {},
   "outputs": [],
   "source": [
    "# Get rid of |\n",
    "for i in [\"programcodes\", \"issb1code\", \"projecttitle\", \"isiijacode\", \"isonshscode\"]:\n",
    "    sb1_all_projects[i] = sb1_all_projects[i].str.replace(\"|\", \"\")"
   ]
  },
  {
   "cell_type": "code",
   "execution_count": null,
   "id": "a87ebb9b-4ca9-45d0-9e58-01a13ab873ef",
   "metadata": {},
   "outputs": [],
   "source": [
    "# No geometry, just drop it\n",
    "sb1_all_projects = sb1_all_projects.drop(columns=[\"geometry\"])"
   ]
  },
  {
   "cell_type": "code",
   "execution_count": null,
   "id": "563d4da0-7985-429a-9a88-a2d7929fe765",
   "metadata": {},
   "outputs": [],
   "source": [
    "full_gdf2.programcodes.unique()"
   ]
  },
  {
   "cell_type": "code",
   "execution_count": null,
   "id": "3479af91-30bc-494a-82d7-cbbe1045841f",
   "metadata": {
    "scrolled": true,
    "tags": []
   },
   "outputs": [],
   "source": [
    "tircp_atp = full_gdf2.loc[full_gdf2.programcodes.str.contains(\"TIRCP|ATP\")].reset_index(\n",
    "    drop=True\n",
    ")"
   ]
  },
  {
   "cell_type": "code",
   "execution_count": null,
   "id": "ad603d43-2605-4df0-b671-2870222af678",
   "metadata": {
    "scrolled": true,
    "tags": []
   },
   "outputs": [],
   "source": [
    "tircp_atp_nonshopp = nonshopp.loc[\n",
    "    nonshopp.previous_caltrans_nominations.str.contains(\"TIRCP|ATP\")\n",
    "].reset_index(drop=True)"
   ]
  },
  {
   "cell_type": "code",
   "execution_count": null,
   "id": "5a61b35c-5e67-4ea4-b1b0-da721486fdc5",
   "metadata": {},
   "outputs": [],
   "source": [
    "def clean_project_id(df, project_id_col: str):\n",
    "    df[project_id_col] = df[project_id_col].str.replace(\"'\", \"\").str.lower().str.strip()\n",
    "    return df"
   ]
  },
  {
   "cell_type": "code",
   "execution_count": null,
   "id": "b1616bcb-efe6-451c-9310-7ca2629dcb37",
   "metadata": {},
   "outputs": [],
   "source": [
    "# Fill in NA\n",
    "# sb1_2 = sb1_2.fillna(sb1_2.dtypes.replace({\"float64\": 0.0, \"object\": \"None\"}))"
   ]
  },
  {
   "cell_type": "markdown",
   "id": "1ea8e6ea-1ab7-42f4-be6d-d0de4d4a4113",
   "metadata": {},
   "source": [
    "#### Step 2: Read in files with geometry "
   ]
  },
  {
   "cell_type": "code",
   "execution_count": null,
   "id": "120f70b4-586f-4e63-a178-0f68ae97bf41",
   "metadata": {},
   "outputs": [],
   "source": [
    "# Stopped at Trade Corridor Enhancement Program Pt for testing\n",
    "url_list = [\n",
    "    \"https://odpsvcs.dot.ca.gov/arcgis/rest/services/RCA/RCA_Projects_032022/FeatureServer/1/query?where=1%3D1&objectIds=&time=&geometry=&geometryType=esriGeometryEnvelope&inSR=&spatialRel=esriSpatialRelIntersects&distance=&units=esriSRUnit_Foot&relationParam=&outFields=*+&returnGeometry=true&maxAllowableOffset=&geometryPrecision=&outSR=&gdbVersion=&historicMoment=&returnDistinctValues=false&returnIdsOnly=false&returnCountOnly=false&returnExtentOnly=false&orderByFields=&groupByFieldsForStatistics=&outStatistics=&returnZ=false&returnM=false&multipatchOption=&resultOffset=&resultRecordCount=&returnTrueCurves=false&sqlFormat=none&f=geojson\",\n",
    "    \"https://odpsvcs.dot.ca.gov/arcgis/rest/services/RCA/RCA_Projects_032022/FeatureServer/2/query?where=1%3D1&objectIds=&time=&geometry=&geometryType=esriGeometryEnvelope&inSR=&spatialRel=esriSpatialRelIntersects&distance=&units=esriSRUnit_Foot&relationParam=&outFields=*+&returnGeometry=true&maxAllowableOffset=&geometryPrecision=&outSR=&gdbVersion=&historicMoment=&returnDistinctValues=false&returnIdsOnly=false&returnCountOnly=false&returnExtentOnly=false&orderByFields=&groupByFieldsForStatistics=&outStatistics=&returnZ=false&returnM=false&multipatchOption=&resultOffset=&resultRecordCount=&returnTrueCurves=false&sqlFormat=none&f=geojson\",\n",
    "    \"https://odpsvcs.dot.ca.gov/arcgis/rest/services/RCA/RCA_Projects_032022/FeatureServer/3/query?where=1%3D1&objectIds=&time=&geometry=&geometryType=esriGeometryEnvelope&inSR=&spatialRel=esriSpatialRelIntersects&distance=&units=esriSRUnit_Foot&relationParam=&outFields=*+&returnGeometry=true&maxAllowableOffset=&geometryPrecision=&outSR=&gdbVersion=&historicMoment=&returnDistinctValues=false&returnIdsOnly=false&returnCountOnly=false&returnExtentOnly=false&orderByFields=&groupByFieldsForStatistics=&outStatistics=&returnZ=false&returnM=false&multipatchOption=&resultOffset=&resultRecordCount=&returnTrueCurves=false&sqlFormat=none&f=geojson\",\n",
    "]"
   ]
  },
  {
   "cell_type": "code",
   "execution_count": null,
   "id": "8871efb7-866e-4eba-8de0-47aba5974e09",
   "metadata": {},
   "outputs": [],
   "source": [
    "full_gdf = pd.DataFrame()"
   ]
  },
  {
   "cell_type": "code",
   "execution_count": null,
   "id": "167e85ce-39cf-4b61-9391-0eb47640580a",
   "metadata": {},
   "outputs": [],
   "source": [
    "for i in url_list:\n",
    "    df = to_snakecase(gpd.read_file(i))[\n",
    "        [\"object_id\", \"projectid\", \"projecttitle\", \"geometry\", \"programcodes\"]\n",
    "    ]\n",
    "    full_gdf = pd.concat([full_gdf, df], axis=0)"
   ]
  },
  {
   "cell_type": "code",
   "execution_count": null,
   "id": "2e24f8f8-64df-4743-ae7f-47b51c4105c1",
   "metadata": {
    "tags": []
   },
   "outputs": [],
   "source": [
    "full_gdf.shape"
   ]
  },
  {
   "cell_type": "code",
   "execution_count": null,
   "id": "b8413685-db5a-43c8-81a4-46e7f98175c0",
   "metadata": {},
   "outputs": [],
   "source": [
    "sb1_project_id = clean_project_id(sb1_project_id, \"project_id\")"
   ]
  },
  {
   "cell_type": "code",
   "execution_count": null,
   "id": "76b3ea1c-9750-4f68-9659-96de5f83bbc5",
   "metadata": {},
   "outputs": [],
   "source": [
    "full_gdf2 = clean_project_id(full_gdf2, \"projectid\")"
   ]
  },
  {
   "cell_type": "code",
   "execution_count": null,
   "id": "52ae80b3-b737-45cc-901c-6dbd8334204a",
   "metadata": {},
   "outputs": [],
   "source": [
    "full_gdf2.projectid.nunique(), sb1_project_id.project_id.nunique(), len(sb1_project_id)"
   ]
  },
  {
   "cell_type": "code",
   "execution_count": null,
   "id": "307fd968-aec1-4e26-a2b3-88c80c5a1ab4",
   "metadata": {},
   "outputs": [],
   "source": [
    "pd.merge(\n",
    "    sb1_project_id,\n",
    "    full_gdf2,\n",
    "    how=\"outer\",\n",
    "    left_on=[\"project_id\"],\n",
    "    right_on=[\"projectid\"],\n",
    "    indicator=True,\n",
    ")[[\"_merge\"]].value_counts()"
   ]
  },
  {
   "cell_type": "code",
   "execution_count": null,
   "id": "c05a86f1-6c69-484e-b6bd-5d3324742824",
   "metadata": {},
   "outputs": [],
   "source": [
    "sb1_m = pd.merge(\n",
    "    full_gdf2,\n",
    "    sb1_project_id,\n",
    "    how=\"left\",\n",
    "    left_on=[\"projectid\"],\n",
    "    right_on=[\"project_id\"],\n",
    ")"
   ]
  },
  {
   "cell_type": "code",
   "execution_count": null,
   "id": "e4b1d2d3-7b68-460b-a2eb-dd5f6e59c381",
   "metadata": {},
   "outputs": [],
   "source": [
    "sb1_m.project_name = sb1_m.project_name.fillna(sb1_m.projecttitle)"
   ]
  },
  {
   "cell_type": "code",
   "execution_count": null,
   "id": "92fc5d14-d99c-470f-9bc5-d903d7b212db",
   "metadata": {},
   "outputs": [],
   "source": [
    "pd.merge(nonshopp, sb1_m, how=\"outer\", on=[\"project_name\"], indicator=True)[\n",
    "    [\"_merge\"]\n",
    "].value_counts()"
   ]
  },
  {
   "cell_type": "code",
   "execution_count": null,
   "id": "805ac0f5-36dc-40bd-b7b5-582baadc339a",
   "metadata": {},
   "outputs": [],
   "source": [
    "sb1.shape, sb1.project_name.nunique()"
   ]
  },
  {
   "cell_type": "code",
   "execution_count": null,
   "id": "34a06b31-dd37-48a2-83d6-06abd8d4b615",
   "metadata": {},
   "outputs": [],
   "source": [
    "# Titles are not necessarily specifically named.\n",
    "# Tends to be very general\n",
    "# sb1.project_name.value_counts()"
   ]
  },
  {
   "cell_type": "code",
   "execution_count": null,
   "id": "11af211e-6647-49b7-b818-d3bc5209ab43",
   "metadata": {},
   "outputs": [],
   "source": [
    "sb1_subset = [\n",
    "    \"project_name\",\n",
    "    \"implementing_agency\",\n",
    "    \"sb1_program\",\n",
    "    \"fiscal_year\",\n",
    "    \"project_description\",\n",
    "    \"total_cost\",\n",
    "    \"sb1_funds\",\n",
    "    \"is_sb1?\",\n",
    "    \"project_status\",\n",
    "    \"assembly_districts\",\n",
    "    \"senate_districts\",\n",
    "    \"congressional_districts\",\n",
    "    \"counties\",\n",
    "    \"cities\",\n",
    "    \"caltrans_districts\",\n",
    "    \"on_shs?\",\n",
    "]"
   ]
  },
  {
   "cell_type": "code",
   "execution_count": null,
   "id": "1c970a13-2b8a-4c24-afca-7f2f8fbe229d",
   "metadata": {},
   "outputs": [],
   "source": [
    "sb1_2 = sb1[sb1_subset]"
   ]
  },
  {
   "cell_type": "code",
   "execution_count": null,
   "id": "0b6f73ab-706d-4c31-8fae-fe830a3fc260",
   "metadata": {},
   "outputs": [],
   "source": [
    "sb1.sb1_program.value_counts()"
   ]
  },
  {
   "cell_type": "code",
   "execution_count": null,
   "id": "ad12e624-e1cd-4e0f-a98e-c533490fc3d4",
   "metadata": {},
   "outputs": [],
   "source": [
    "sb1_2.shape"
   ]
  },
  {
   "cell_type": "code",
   "execution_count": null,
   "id": "f3a9fb1a-9cbf-45a9-a0a6-cc96dbb16b09",
   "metadata": {},
   "outputs": [],
   "source": [
    "# Fill in NA\n",
    "sb1_2 = sb1_2.fillna(sb1_2.dtypes.replace({\"float64\": 0.0, \"object\": \"None\"}))"
   ]
  },
  {
   "cell_type": "code",
   "execution_count": null,
   "id": "7510fd40-c15e-42ba-a4f1-68031c2e6b3e",
   "metadata": {},
   "outputs": [],
   "source": [
    "# Align funding\n",
    "sb1_2 = _utils.align_funding_numbers(\n",
    "    sb1_2,\n",
    "    [\n",
    "        \"total_cost\",\n",
    "        \"sb1_funds\",\n",
    "    ],\n",
    ")"
   ]
  },
  {
   "cell_type": "markdown",
   "id": "69f2f3b4-c1d0-4d4b-87c5-d2158e115dcc",
   "metadata": {},
   "source": [
    "### Merge 9 Sample Non SHOPP with Geojson"
   ]
  },
  {
   "cell_type": "code",
   "execution_count": null,
   "id": "3e217738-36f1-4c7e-939d-dda2c86dc95d",
   "metadata": {},
   "outputs": [],
   "source": [
    "nine_projects_names = [\n",
    "    \"LA-210 Median Concrete Barrier Renovation\",\n",
    "    \"SR-14 Widening Project\",\n",
    "    \"US 395 Freight Mobility and Safety Project\",\n",
    "    \"East Bay Greenway Multimodal Corridor Project\",\n",
    "    \"Watsonville-Santa Cruz Multimodal Corridor Program\",\n",
    "    \"SM 101 Woodside Road Interchange and Port Access Project\",\n",
    "    \"I-710 Integrated Corridor Management\",\n",
    "    \"Five Cities Multimodal Transportation Network Enhancement Project\",\n",
    "    \"SR-86/Avenue 50 New Interchange (Phase II)\",\n",
    "]"
   ]
  },
  {
   "cell_type": "code",
   "execution_count": null,
   "id": "8834ce41-93b4-4978-a1bf-d4595dad14a6",
   "metadata": {},
   "outputs": [],
   "source": [
    "nine_projects_names = [x.lower() for x in nine_projects_names]"
   ]
  },
  {
   "cell_type": "code",
   "execution_count": null,
   "id": "f603d690-cc3d-490e-93e5-760297de703a",
   "metadata": {},
   "outputs": [],
   "source": [
    "nine_projects_ea = [\n",
    "    \"33560\",\n",
    "    \"N/A (PID)\",\n",
    "    \"0F633\",\n",
    "    \"4W850 \",\n",
    "    \"0C734\",\n",
    "    \"23536\",\n",
    "    \"37510K\",\n",
    "]"
   ]
  },
  {
   "cell_type": "code",
   "execution_count": null,
   "id": "56021431-34cf-4433-af4b-daf4888bc0a7",
   "metadata": {},
   "outputs": [],
   "source": [
    "nine_projects_ea = [x.lower() for x in nine_projects_ea]"
   ]
  },
  {
   "cell_type": "code",
   "execution_count": null,
   "id": "8b7deddf-30b5-4071-8a9c-2bd91c9cdc25",
   "metadata": {},
   "outputs": [],
   "source": [
    "nine_projects_id = [\n",
    "    \"0422000202\",\n",
    "    \"0414000032\",\n",
    "    \"0520000083\",\n",
    "    \"0515000063\",\n",
    "    \"0721000056\",\n",
    "    \"0716000370\",\n",
    "    \"0813000222\",\n",
    "    \"0814000144\",\n",
    "    \"0414000032\",\n",
    "    \"0720000165\",\n",
    "]"
   ]
  },
  {
   "cell_type": "code",
   "execution_count": null,
   "id": "2258812c-fed6-4b48-84f7-10367a9b8839",
   "metadata": {},
   "outputs": [],
   "source": [
    "# .str.split(\"20\").str[0]\n",
    "for i in [\"project_name\", \"ea\", \"ppno\"]:\n",
    "    nonshopp[i] = nonshopp[i].str.lower()"
   ]
  },
  {
   "cell_type": "code",
   "execution_count": null,
   "id": "1166af6b-cbcc-45b7-81a8-3f4dfde5a0a7",
   "metadata": {},
   "outputs": [],
   "source": [
    "(nonshopp[nonshopp.project_name.isin(nine_projects_names)].reset_index(drop=True))[\n",
    "    [\"project_name\"]\n",
    "]"
   ]
  },
  {
   "cell_type": "markdown",
   "id": "c6b3ec7b-d8d1-452e-9323-12861951f41b",
   "metadata": {},
   "source": [
    "* Missing SM 101 Woodside Road Interchange and Port Access Project\n",
    " and SR-14 Widening Project"
   ]
  },
  {
   "cell_type": "code",
   "execution_count": null,
   "id": "86fcc2e9-e7d2-413e-bf0f-a133f9e1d628",
   "metadata": {},
   "outputs": [],
   "source": [
    "(nonshopp[nonshopp.ct_project_id.isin(nine_projects_id)].reset_index(drop=True))[\n",
    "    [\"project_name\"]\n",
    "]"
   ]
  },
  {
   "cell_type": "code",
   "execution_count": null,
   "id": "76e719a2-21fa-4b8f-bce4-100d612e3484",
   "metadata": {
    "scrolled": true,
    "tags": []
   },
   "outputs": [],
   "source": [
    "# Lower case and clean project names\n",
    "for i in [sb1_2, df]:\n",
    "    i[\"project_name\"] = i[\"project_name\"].str.lower().str.strip().str.split(\"20\").str[0]"
   ]
  },
  {
   "cell_type": "code",
   "execution_count": null,
   "id": "b4deeadc-c568-466e-9325-b8e491f5e51f",
   "metadata": {},
   "outputs": [],
   "source": [
    "# 67 without accounting for districts\n",
    "pd.merge(df, sb1_2, how=\"outer\", on=[\"project_name\"], indicator=True)[\n",
    "    [\"_merge\"]\n",
    "].value_counts()"
   ]
  },
  {
   "cell_type": "code",
   "execution_count": null,
   "id": "ccede347-cbfe-4ee3-9346-71b8f538258f",
   "metadata": {},
   "outputs": [],
   "source": [
    "# 62 matches\n",
    "pd.merge(\n",
    "    df,\n",
    "    sb1_2,\n",
    "    how=\"outer\",\n",
    "    left_on=[\"project_name\", \"district\"],\n",
    "    right_on=[\"project_name\", \"caltrans_districts\"],\n",
    "    indicator=True,\n",
    ")[[\"_merge\"]].value_counts()"
   ]
  },
  {
   "cell_type": "code",
   "execution_count": null,
   "id": "fbdc6b9d-9f9b-41cc-965b-6602a7ceb15f",
   "metadata": {},
   "outputs": [],
   "source": [
    "project_title_m = pd.merge(\n",
    "    df,\n",
    "    sb1_2,\n",
    "    how=\"left\",\n",
    "    left_on=[\"project_name\", \"district\"],\n",
    "    right_on=[\"project_name\", \"caltrans_districts\"],\n",
    "    indicator=True,\n",
    ")"
   ]
  },
  {
   "cell_type": "code",
   "execution_count": null,
   "id": "3366c8f6-0ddf-4b57-8f01-0a7d9101d8d2",
   "metadata": {},
   "outputs": [],
   "source": [
    "preview = [\n",
    "    \"project_name\",\n",
    "    \"district\",\n",
    "    \"caltrans_districts\",\n",
    "    \"counties\",\n",
    "    \"full_county_name\",\n",
    "    \"project_description_x\",\n",
    "    \"project_description_y\",\n",
    "    \"previous_caltrans_nominations\",\n",
    "    \"sb1_program\",\n",
    "    \"total_project_cost__$1,000\",\n",
    "    \"total_cost\",\n",
    "]"
   ]
  },
  {
   "cell_type": "code",
   "execution_count": null,
   "id": "e3e4e316-b22f-4278-8c41-6bd048104212",
   "metadata": {},
   "outputs": [],
   "source": [
    "# project_title_m.loc[project_title_m._merge == 'both'][preview]"
   ]
  },
  {
   "cell_type": "code",
   "execution_count": null,
   "id": "3522a920-706f-4475-9b23-0f2759eef3ba",
   "metadata": {},
   "outputs": [],
   "source": [
    "project_title_m.sb1_program.value_counts()"
   ]
  },
  {
   "cell_type": "code",
   "execution_count": null,
   "id": "40591042-e292-424c-9a08-cc0fc7148ae1",
   "metadata": {
    "scrolled": true,
    "tags": []
   },
   "outputs": [],
   "source": [
    "sb1_csv = project_title_m.project_name.unique().tolist()"
   ]
  },
  {
   "cell_type": "markdown",
   "id": "9bd3b888-c935-4029-81ca-e8cc5d3eedb5",
   "metadata": {},
   "source": [
    "### Tircp\n",
    "* None of the projects from TIRCP are mapping, even though the names appear the same."
   ]
  },
  {
   "cell_type": "code",
   "execution_count": null,
   "id": "182020ac-5310-48a9-96d5-0227b89f6231",
   "metadata": {},
   "outputs": [],
   "source": [
    "# sb1_tircp = sb1_2.loc[sb1_2.sb1_program == \"Transit and Intercity Rail Capital Program\"].reset_index(drop = True)"
   ]
  },
  {
   "cell_type": "code",
   "execution_count": null,
   "id": "81191fad-bd8a-4d7b-b75b-bcf7c542fc71",
   "metadata": {},
   "outputs": [],
   "source": [
    "# sb1_tircp[['project_name','caltrans_districts','counties']].sort_values('project_name').head(2)"
   ]
  },
  {
   "cell_type": "code",
   "execution_count": null,
   "id": "80ca7f9b-043b-4f18-a79a-3e5d69161af4",
   "metadata": {
    "scrolled": true,
    "tags": []
   },
   "outputs": [],
   "source": [
    "# tircp_sb[['project_name']].sort_values(by = 'project_name')"
   ]
  },
  {
   "cell_type": "code",
   "execution_count": null,
   "id": "417df614-c9e4-4b8e-9ffa-b4f21889e974",
   "metadata": {
    "scrolled": true,
    "tags": []
   },
   "outputs": [],
   "source": [
    "# tircp_shopp[['project_name']].sort_values(by = 'project_name')"
   ]
  },
  {
   "cell_type": "code",
   "execution_count": null,
   "id": "25c0f244-c284-4de8-a8d9-872be7c74c0d",
   "metadata": {
    "scrolled": true,
    "tags": []
   },
   "outputs": [],
   "source": [
    "tircp_shopp = df.loc[\n",
    "    df.previous_caltrans_nominations.str.contains(\"TIRCP\")\n",
    "].reset_index(drop=True)"
   ]
  },
  {
   "cell_type": "code",
   "execution_count": null,
   "id": "4f74adae-6714-4e3b-b288-911be3d67c27",
   "metadata": {},
   "outputs": [],
   "source": [
    "# why are there no matches??\n",
    "pd.merge(tircp_shopp, tircp_sb, how=\"outer\", on=[\"project_name\"], indicator=True)[\n",
    "    [\"_merge\"]\n",
    "].value_counts()"
   ]
  },
  {
   "cell_type": "code",
   "execution_count": null,
   "id": "ddd3fc5f-e17f-45a4-96d1-9151ff066edf",
   "metadata": {},
   "outputs": [],
   "source": [
    "import urllib.parse\n",
    "\n",
    "import requests"
   ]
  },
  {
   "cell_type": "code",
   "execution_count": null,
   "id": "a7e8656d-12dc-4ab1-9996-b7ac5dcc8ce4",
   "metadata": {},
   "outputs": [],
   "source": [
    "url = r\"https://odpsvcs.dot.ca.gov/arcgis/rest/services/RCA/RCA_Projects_032022/FeatureServer/query\""
   ]
  },
  {
   "cell_type": "code",
   "execution_count": null,
   "id": "37e6f914-1cc7-4515-bb23-930331fe0955",
   "metadata": {},
   "outputs": [],
   "source": [
    "# params = {\n",
    "#    'geometry': '-118.21637221791077, 34.094916196179504',\n",
    "#    'geometryType': 'esriGeometryPoint',\n",
    "#    'returnGeometry': 'true',\n",
    "#    'f': 'pjson'\n",
    "# }"
   ]
  },
  {
   "cell_type": "code",
   "execution_count": null,
   "id": "bacfe953-b85b-4cf0-b07c-6a918817e8df",
   "metadata": {},
   "outputs": [],
   "source": [
    "# url_final = url + urllib.parse.urlencode(params)"
   ]
  },
  {
   "cell_type": "code",
   "execution_count": null,
   "id": "9b118605-a8bf-477c-b070-3ad76211ce8d",
   "metadata": {},
   "outputs": [],
   "source": [
    "# response = requests.get(url=url_final)"
   ]
  },
  {
   "cell_type": "code",
   "execution_count": null,
   "id": "5286b27a-87be-4c90-a4ac-7bca4d018790",
   "metadata": {},
   "outputs": [],
   "source": [
    "# data = response.text"
   ]
  },
  {
   "cell_type": "code",
   "execution_count": null,
   "id": "933b3718-e5ab-4da8-b671-cace2f32b1a4",
   "metadata": {
    "scrolled": true,
    "tags": []
   },
   "outputs": [],
   "source": [
    "# test = gpd.read_file(data)"
   ]
  },
  {
   "cell_type": "code",
   "execution_count": null,
   "id": "6b1090ff-25b8-48cb-a70d-cb0fdfd0ab86",
   "metadata": {},
   "outputs": [],
   "source": [
    "# https://services.arcgisonline.com/arcgis/rest/services/Elevation/World_Hillshade/MapServer?f=json"
   ]
  },
  {
   "cell_type": "code",
   "execution_count": null,
   "id": "5e0ce5fb-389d-4a9c-acb2-183ceaf72a72",
   "metadata": {},
   "outputs": [],
   "source": [
    "# https://services.arcgisonline.com/arcgis/rest/services/Elevation/World_Hillshade/MapServer/tilemap/0/0/0/8/8?f=json"
   ]
  }
 ],
 "metadata": {
  "kernelspec": {
   "display_name": "Python 3 (ipykernel)",
   "language": "python",
   "name": "python3"
  },
  "language_info": {
   "codemirror_mode": {
    "name": "ipython",
    "version": 3
   },
   "file_extension": ".py",
   "mimetype": "text/x-python",
   "name": "python",
   "nbconvert_exporter": "python",
   "pygments_lexer": "ipython3",
   "version": "3.9.13"
  }
 },
 "nbformat": 4,
 "nbformat_minor": 5
}
