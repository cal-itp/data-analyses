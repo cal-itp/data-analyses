{
 "cells": [
  {
   "cell_type": "markdown",
   "id": "1a173285-41bd-4523-8d4b-b5474ec1b034",
   "metadata": {},
   "source": [
    "## Add SB1 geographic information."
   ]
  },
  {
   "cell_type": "code",
   "execution_count": 1,
   "id": "22b768e0-0316-4684-a4b2-683dcd82a323",
   "metadata": {},
   "outputs": [
    {
     "name": "stderr",
     "output_type": "stream",
     "text": [
      "/opt/conda/lib/python3.9/site-packages/geopandas/_compat.py:123: UserWarning: The Shapely GEOS version (3.10.3-CAPI-1.16.1) is incompatible with the GEOS version PyGEOS was compiled with (3.10.1-CAPI-1.16.0). Conversions between both will be slow.\n",
      "  warnings.warn(\n"
     ]
    }
   ],
   "source": [
    "import _utils\n",
    "import numpy as np\n",
    "import pandas as pd\n",
    "import geopandas as gpd\n",
    "from calitp.sql import to_snakecase"
   ]
  },
  {
   "cell_type": "code",
   "execution_count": 2,
   "id": "c375e3ed-515c-4762-a8aa-2c448a5433f9",
   "metadata": {},
   "outputs": [],
   "source": [
    "import fsspec\n",
    "from calitp import *\n",
    "from calitp.storage import get_fs\n",
    "fs = get_fs()\n",
    "import os"
   ]
  },
  {
   "cell_type": "code",
   "execution_count": 3,
   "id": "a4ba3617-394e-4277-ab7f-0103120dcd3c",
   "metadata": {},
   "outputs": [],
   "source": [
    "import dask_geopandas as dg\n",
    "import pyogrio"
   ]
  },
  {
   "cell_type": "code",
   "execution_count": 4,
   "id": "c7bbc54d-4a75-4b6d-8ed8-a44ec2685cd9",
   "metadata": {},
   "outputs": [],
   "source": [
    "pd.options.display.max_columns = 200\n",
    "pd.set_option(\"display.max_rows\", None)\n",
    "pd.set_option(\"display.max_colwidth\", None)"
   ]
  },
  {
   "cell_type": "markdown",
   "id": "76e4f5c3-7968-49e6-97d3-a1d165e50af3",
   "metadata": {},
   "source": [
    "### Non SHOPP-ATP-TIRCP"
   ]
  },
  {
   "cell_type": "code",
   "execution_count": 5,
   "id": "6b483a64-786d-4d9c-96e8-0bfe429ffd2a",
   "metadata": {},
   "outputs": [],
   "source": [
    "# Read in 10 Year non SHOPP with ATP and TIRCP\n",
    "df = to_snakecase(pd.read_excel(f\"{_utils.GCS_FILE_PATH}cleaned_data_atp_tircp.xlsx\"))"
   ]
  },
  {
   "cell_type": "code",
   "execution_count": 6,
   "id": "aa0c6362-1f89-4112-a55f-6928841266ce",
   "metadata": {},
   "outputs": [],
   "source": [
    "# Subset to join.\n",
    "non_shopp_subset = [\n",
    "    \"ppno\",\n",
    "    \"project_name\",\n",
    "    \"lead_agency\",\n",
    "    \"previous_caltrans_nominations\",\n",
    "    \"full_county_name\",\n",
    "    \"district\",\n",
    "    \"project_description\",\n",
    "    \"current_phase\",\n",
    "    \"primary_mode\",\n",
    "    \"urban_rural\",\n",
    "    \"total_project_cost__$1,000\",\n",
    "    \"total_unfunded_need__$1,000\",\n",
    "    \"notes\",\n",
    "    \"shs_capacity_increase_detail\",\n",
    "    \"current_phase\",\n",
    "]"
   ]
  },
  {
   "cell_type": "code",
   "execution_count": 7,
   "id": "a63dc3e3-2485-4331-b370-c6fdf2c57952",
   "metadata": {},
   "outputs": [],
   "source": [
    "df = df[non_shopp_subset]"
   ]
  },
  {
   "cell_type": "code",
   "execution_count": 8,
   "id": "06967d23-860f-4d11-a4ed-18675a5070e6",
   "metadata": {},
   "outputs": [],
   "source": [
    "df.district = df.district.map(\"{:02}\".format)"
   ]
  },
  {
   "cell_type": "markdown",
   "id": "9080657d-b4de-453c-9663-55bb5e004915",
   "metadata": {},
   "source": [
    "### SB1 CSV"
   ]
  },
  {
   "cell_type": "code",
   "execution_count": 9,
   "id": "a316c10a-3ba0-4d96-a2a3-16a7324fdf60",
   "metadata": {},
   "outputs": [],
   "source": [
    "# Read in SB1\n",
    "sb1 = to_snakecase(pd.read_csv(f\"{_utils.GCS_FILE_PATH}RebuildingCA_map_Data.csv\"))"
   ]
  },
  {
   "cell_type": "code",
   "execution_count": 10,
   "id": "11af211e-6647-49b7-b818-d3bc5209ab43",
   "metadata": {},
   "outputs": [],
   "source": [
    "sb1_subset = [\n",
    "    \"project_name\",\n",
    "    \"implementing_agency\",\n",
    "    \"sb1_program\",\n",
    "    \"fiscal_year\",\n",
    "    \"project_description\",\n",
    "    \"total_cost\",\n",
    "    \"sb1_funds\",\n",
    "    \"is_sb1?\",\n",
    "    \"project_status\",\n",
    "    \"assembly_districts\",\n",
    "    \"senate_districts\",\n",
    "    \"congressional_districts\",\n",
    "    \"counties\",\n",
    "    \"cities\",\n",
    "    \"caltrans_districts\",\n",
    "    \"on_shs?\",\n",
    "]"
   ]
  },
  {
   "cell_type": "code",
   "execution_count": 11,
   "id": "1c970a13-2b8a-4c24-afca-7f2f8fbe229d",
   "metadata": {},
   "outputs": [],
   "source": [
    "sb1_2 = sb1[sb1_subset]"
   ]
  },
  {
   "cell_type": "code",
   "execution_count": 12,
   "id": "0b6f73ab-706d-4c31-8fae-fe830a3fc260",
   "metadata": {},
   "outputs": [
    {
     "data": {
      "text/plain": [
       "Local Streets and Roads                              3345\n",
       "State Hwy Operations & Protection Program Major      2771\n",
       "Highway Maintenance                                  1002\n",
       "Active Transportation Program                         923\n",
       "State of Good Repair                                  536\n",
       "State Transit Assistance                              196\n",
       "State Transportation Improvement Program              188\n",
       "State Hwy Operations & Protection Program Minor A     169\n",
       "Local Partnership Program - Formulaic                 135\n",
       "Transit and Intercity Rail Capital Program             96\n",
       "Trade Corridor Enhancement Program                     66\n",
       "Local Partnership Program - Competitive                62\n",
       "State Rail Assistance                                  53\n",
       "Field Maintenance                                      48\n",
       "Solutions for Congested Corridors Program              42\n",
       "Name: sb1_program, dtype: int64"
      ]
     },
     "execution_count": 12,
     "metadata": {},
     "output_type": "execute_result"
    }
   ],
   "source": [
    "sb1.sb1_program.value_counts()"
   ]
  },
  {
   "cell_type": "code",
   "execution_count": 13,
   "id": "ad12e624-e1cd-4e0f-a98e-c533490fc3d4",
   "metadata": {},
   "outputs": [
    {
     "data": {
      "text/plain": [
       "(9632, 16)"
      ]
     },
     "execution_count": 13,
     "metadata": {},
     "output_type": "execute_result"
    }
   ],
   "source": [
    "sb1_2.shape"
   ]
  },
  {
   "cell_type": "code",
   "execution_count": 14,
   "id": "f3a9fb1a-9cbf-45a9-a0a6-cc96dbb16b09",
   "metadata": {},
   "outputs": [],
   "source": [
    "# Fill in NA\n",
    "sb1_2 = sb1_2.fillna(sb1_2.dtypes.replace({\"float64\": 0.0, \"object\": \"None\"}))"
   ]
  },
  {
   "cell_type": "code",
   "execution_count": 15,
   "id": "7510fd40-c15e-42ba-a4f1-68031c2e6b3e",
   "metadata": {},
   "outputs": [],
   "source": [
    "# Align funding\n",
    "sb1_2 = _utils.align_funding_numbers(sb1_2, [\"total_cost\", \"sb1_funds\",])"
   ]
  },
  {
   "cell_type": "markdown",
   "id": "69f2f3b4-c1d0-4d4b-87c5-d2158e115dcc",
   "metadata": {},
   "source": [
    "#### Merge on Project Names"
   ]
  },
  {
   "cell_type": "code",
   "execution_count": 16,
   "id": "76e719a2-21fa-4b8f-bce4-100d612e3484",
   "metadata": {
    "scrolled": true,
    "tags": []
   },
   "outputs": [],
   "source": [
    "# Lower case and clean project names\n",
    "for i in [sb1_2, df]:\n",
    "    i['project_name'] = i['project_name'].str.lower().str.strip().str.split(\"20\").str[0]"
   ]
  },
  {
   "cell_type": "code",
   "execution_count": 17,
   "id": "b4deeadc-c568-466e-9325-b8e491f5e51f",
   "metadata": {},
   "outputs": [
    {
     "data": {
      "text/plain": [
       "_merge    \n",
       "right_only    9563\n",
       "left_only      840\n",
       "both            69\n",
       "dtype: int64"
      ]
     },
     "execution_count": 17,
     "metadata": {},
     "output_type": "execute_result"
    }
   ],
   "source": [
    "# 67 without accounting for districts\n",
    "pd.merge(df, sb1_2, how=\"outer\", on=[\"project_name\"], indicator=True)[[\"_merge\"]].value_counts()"
   ]
  },
  {
   "cell_type": "code",
   "execution_count": 20,
   "id": "ccede347-cbfe-4ee3-9346-71b8f538258f",
   "metadata": {},
   "outputs": [
    {
     "data": {
      "text/plain": [
       "_merge    \n",
       "right_only    9569\n",
       "left_only      845\n",
       "both            63\n",
       "dtype: int64"
      ]
     },
     "execution_count": 20,
     "metadata": {},
     "output_type": "execute_result"
    }
   ],
   "source": [
    "# 62 matches\n",
    "pd.merge(df, sb1_2, how=\"outer\", left_on=[\"project_name\",\"district\"], right_on = [\"project_name\", \"caltrans_districts\"], indicator=True)[[\"_merge\"]].value_counts()"
   ]
  },
  {
   "cell_type": "code",
   "execution_count": 21,
   "id": "fbdc6b9d-9f9b-41cc-965b-6602a7ceb15f",
   "metadata": {},
   "outputs": [],
   "source": [
    "project_title_m = pd.merge(df, sb1_2, how=\"left\", left_on=[\"project_name\",\"district\"], right_on = [\"project_name\", \"caltrans_districts\"], indicator=True)"
   ]
  },
  {
   "cell_type": "code",
   "execution_count": 22,
   "id": "3366c8f6-0ddf-4b57-8f01-0a7d9101d8d2",
   "metadata": {},
   "outputs": [],
   "source": [
    "preview =['project_name','district','caltrans_districts', 'counties','full_county_name','project_description_x','project_description_y', \"previous_caltrans_nominations\",\n",
    "                \"sb1_program\", \"total_project_cost__$1,000\", \"total_cost\"]"
   ]
  },
  {
   "cell_type": "code",
   "execution_count": 23,
   "id": "e3e4e316-b22f-4278-8c41-6bd048104212",
   "metadata": {},
   "outputs": [],
   "source": [
    "# project_title_m.loc[project_title_m._merge == 'both'][preview]"
   ]
  },
  {
   "cell_type": "code",
   "execution_count": null,
   "id": "3522a920-706f-4475-9b23-0f2759eef3ba",
   "metadata": {},
   "outputs": [
    {
     "data": {
      "text/plain": [
       "Active Transportation Program                52\n",
       "Local Partnership Program - Formulaic         3\n",
       "Local Partnership Program - Competitive       2\n",
       "Trade Corridor Enhancement Program            2\n",
       "Solutions for Congested Corridors Program     2\n",
       "State Transportation Improvement Program      2\n",
       "Name: sb1_program, dtype: int64"
      ]
     },
     "execution_count": 24,
     "metadata": {},
     "output_type": "execute_result"
    }
   ],
   "source": [
    "project_title_m.sb1_program.value_counts()"
   ]
  },
  {
   "cell_type": "markdown",
   "id": "9bd3b888-c935-4029-81ca-e8cc5d3eedb5",
   "metadata": {},
   "source": [
    "### Tircp\n",
    "* None of the projects from TIRCP are mapping, even though the names appear the same."
   ]
  },
  {
   "cell_type": "code",
   "execution_count": 25,
   "id": "182020ac-5310-48a9-96d5-0227b89f6231",
   "metadata": {},
   "outputs": [],
   "source": [
    "# sb1_tircp = sb1_2.loc[sb1_2.sb1_program == \"Transit and Intercity Rail Capital Program\"].reset_index(drop = True)"
   ]
  },
  {
   "cell_type": "code",
   "execution_count": 26,
   "id": "81191fad-bd8a-4d7b-b75b-bcf7c542fc71",
   "metadata": {},
   "outputs": [],
   "source": [
    "# sb1_tircp[['project_name','caltrans_districts','counties']].sort_values('project_name').head(2)"
   ]
  },
  {
   "cell_type": "code",
   "execution_count": 35,
   "id": "38542d47-6129-4bac-bb97-d6ee4e158d06",
   "metadata": {
    "scrolled": true,
    "tags": []
   },
   "outputs": [],
   "source": [
    "tircp_sb = sb1_2.loc[sb1_2.sb1_program.str.contains('Transit and Intercity')].reset_index(drop = True)"
   ]
  },
  {
   "cell_type": "code",
   "execution_count": 42,
   "id": "80ca7f9b-043b-4f18-a79a-3e5d69161af4",
   "metadata": {
    "scrolled": true,
    "tags": []
   },
   "outputs": [],
   "source": [
    "# tircp_sb[['project_name']].sort_values(by = 'project_name')"
   ]
  },
  {
   "cell_type": "code",
   "execution_count": 43,
   "id": "417df614-c9e4-4b8e-9ffa-b4f21889e974",
   "metadata": {
    "scrolled": true,
    "tags": []
   },
   "outputs": [],
   "source": [
    "# tircp_shopp[['project_name']].sort_values(by = 'project_name')"
   ]
  },
  {
   "cell_type": "code",
   "execution_count": 36,
   "id": "25c0f244-c284-4de8-a8d9-872be7c74c0d",
   "metadata": {
    "scrolled": true,
    "tags": []
   },
   "outputs": [],
   "source": [
    "tircp_shopp = df.loc[df.previous_caltrans_nominations.str.contains('TIRCP')].reset_index(drop = True)"
   ]
  },
  {
   "cell_type": "code",
   "execution_count": 37,
   "id": "4f74adae-6714-4e3b-b288-911be3d67c27",
   "metadata": {},
   "outputs": [
    {
     "data": {
      "text/plain": [
       "_merge    \n",
       "right_only    95\n",
       "left_only     93\n",
       "both           1\n",
       "dtype: int64"
      ]
     },
     "execution_count": 37,
     "metadata": {},
     "output_type": "execute_result"
    }
   ],
   "source": [
    "# why are there no matches??\n",
    "pd.merge(tircp_shopp, tircp_sb, how=\"outer\", on=[\"project_name\"], indicator=True)[[\"_merge\"]].value_counts()"
   ]
  },
  {
   "cell_type": "markdown",
   "id": "b69c71eb-66fc-4e92-9d53-554ef18f190d",
   "metadata": {
    "tags": []
   },
   "source": [
    "### SB1 Geojson\n",
    "* https://odpsvcs.dot.ca.gov/arcgis/rest/services/RCA/RCA_Projects_032022/FeatureServer\n",
    "* https://odpsvcs.dot.ca.gov/arcgis/rest/services/RCA/RCA_Projects_032022/FeatureServer/query\n",
    "* https://medium.com/@thomas.deboer/how-to-download-from-an-arcgis-rest-server-using-python-df900db3e364"
   ]
  },
  {
   "cell_type": "code",
   "execution_count": 101,
   "id": "ddd3fc5f-e17f-45a4-96d1-9151ff066edf",
   "metadata": {},
   "outputs": [],
   "source": [
    "import requests\n",
    "import urllib.parse"
   ]
  },
  {
   "cell_type": "code",
   "execution_count": 102,
   "id": "a7e8656d-12dc-4ab1-9996-b7ac5dcc8ce4",
   "metadata": {},
   "outputs": [],
   "source": [
    "url = r\"https://odpsvcs.dot.ca.gov/arcgis/rest/services/RCA/RCA_Projects_032022/FeatureServer/query\""
   ]
  },
  {
   "cell_type": "code",
   "execution_count": 103,
   "id": "37e6f914-1cc7-4515-bb23-930331fe0955",
   "metadata": {},
   "outputs": [],
   "source": [
    "#params = {\n",
    "#    'geometry': '-118.21637221791077, 34.094916196179504',\n",
    "#    'geometryType': 'esriGeometryPoint',\n",
    "#    'returnGeometry': 'true', \n",
    "#    'f': 'pjson'\n",
    "# }"
   ]
  },
  {
   "cell_type": "code",
   "execution_count": 104,
   "id": "bacfe953-b85b-4cf0-b07c-6a918817e8df",
   "metadata": {},
   "outputs": [],
   "source": [
    "# url_final = url + urllib.parse.urlencode(params)"
   ]
  },
  {
   "cell_type": "code",
   "execution_count": 105,
   "id": "9b118605-a8bf-477c-b070-3ad76211ce8d",
   "metadata": {},
   "outputs": [],
   "source": [
    "# response = requests.get(url=url_final)"
   ]
  },
  {
   "cell_type": "code",
   "execution_count": 106,
   "id": "5286b27a-87be-4c90-a4ac-7bca4d018790",
   "metadata": {},
   "outputs": [],
   "source": [
    "# data = response.text"
   ]
  },
  {
   "cell_type": "code",
   "execution_count": 108,
   "id": "933b3718-e5ab-4da8-b671-cace2f32b1a4",
   "metadata": {
    "scrolled": true,
    "tags": []
   },
   "outputs": [],
   "source": [
    "# test = gpd.read_file(data)"
   ]
  },
  {
   "cell_type": "code",
   "execution_count": 110,
   "id": "6b1090ff-25b8-48cb-a70d-cb0fdfd0ab86",
   "metadata": {},
   "outputs": [],
   "source": [
    "# https://services.arcgisonline.com/arcgis/rest/services/Elevation/World_Hillshade/MapServer?f=json"
   ]
  },
  {
   "cell_type": "code",
   "execution_count": 109,
   "id": "5e0ce5fb-389d-4a9c-acb2-183ceaf72a72",
   "metadata": {},
   "outputs": [],
   "source": [
    "# https://services.arcgisonline.com/arcgis/rest/services/Elevation/World_Hillshade/MapServer/tilemap/0/0/0/8/8?f=json"
   ]
  }
 ],
 "metadata": {
  "kernelspec": {
   "display_name": "Python 3 (ipykernel)",
   "language": "python",
   "name": "python3"
  },
  "language_info": {
   "codemirror_mode": {
    "name": "ipython",
    "version": 3
   },
   "file_extension": ".py",
   "mimetype": "text/x-python",
   "name": "python",
   "nbconvert_exporter": "python",
   "pygments_lexer": "ipython3",
   "version": "3.9.13"
  }
 },
 "nbformat": 4,
 "nbformat_minor": 5
}
