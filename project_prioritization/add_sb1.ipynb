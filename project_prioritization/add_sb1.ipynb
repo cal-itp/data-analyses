{
 "cells": [
  {
   "cell_type": "markdown",
   "id": "1a173285-41bd-4523-8d4b-b5474ec1b034",
   "metadata": {},
   "source": [
    "## Add SB1 geographic information."
   ]
  },
  {
   "cell_type": "code",
   "execution_count": 1,
   "id": "22b768e0-0316-4684-a4b2-683dcd82a323",
   "metadata": {},
   "outputs": [
    {
     "name": "stderr",
     "output_type": "stream",
     "text": [
      "/opt/conda/lib/python3.9/site-packages/geopandas/_compat.py:123: UserWarning: The Shapely GEOS version (3.10.3-CAPI-1.16.1) is incompatible with the GEOS version PyGEOS was compiled with (3.10.1-CAPI-1.16.0). Conversions between both will be slow.\n",
      "  warnings.warn(\n"
     ]
    }
   ],
   "source": [
    "import _utils\n",
    "import geopandas as gpd\n",
    "import numpy as np\n",
    "import pandas as pd\n",
    "from calitp.sql import to_snakecase"
   ]
  },
  {
   "cell_type": "code",
   "execution_count": 2,
   "id": "c375e3ed-515c-4762-a8aa-2c448a5433f9",
   "metadata": {},
   "outputs": [],
   "source": [
    "import fsspec\n",
    "from calitp import *\n",
    "from calitp.storage import get_fs\n",
    "\n",
    "fs = get_fs()\n",
    "import os"
   ]
  },
  {
   "cell_type": "markdown",
   "id": "76e4f5c3-7968-49e6-97d3-a1d165e50af3",
   "metadata": {
    "tags": []
   },
   "source": [
    "### Non SHOPP-ATP-TIRCP"
   ]
  },
  {
   "cell_type": "code",
   "execution_count": 59,
   "id": "6b483a64-786d-4d9c-96e8-0bfe429ffd2a",
   "metadata": {},
   "outputs": [],
   "source": [
    "# Read in 10 Year non SHOPP with ATP and TIRCP\n",
    "nonshopp = to_snakecase(pd.read_excel(f\"{_utils.GCS_FILE_PATH}cleaned_data_atp_tircp.xlsx\"))"
   ]
  },
  {
   "cell_type": "code",
   "execution_count": 60,
   "id": "aa0c6362-1f89-4112-a55f-6928841266ce",
   "metadata": {},
   "outputs": [],
   "source": [
    "# Subset to join.\n",
    "non_shopp_subset = [\n",
    "    \"ppno\",\n",
    "    \"project_name\",\n",
    "    \"lead_agency\",\n",
    "    \"previous_caltrans_nominations\",\n",
    "    \"full_county_name\",\n",
    "    \"district\",\n",
    "    \"project_description\",\n",
    "    \"current_phase\",\n",
    "    \"primary_mode\",\n",
    "    \"urban_rural\",\n",
    "    \"total_project_cost__$1,000\",\n",
    "    \"total_unfunded_need__$1,000\",\n",
    "    \"notes\",\n",
    "    \"shs_capacity_increase_detail\",\n",
    "    \"current_phase\",\n",
    "]"
   ]
  },
  {
   "cell_type": "code",
   "execution_count": 62,
   "id": "a63dc3e3-2485-4331-b370-c6fdf2c57952",
   "metadata": {},
   "outputs": [],
   "source": [
    "nonshopp = nonshopp[non_shopp_subset]"
   ]
  },
  {
   "cell_type": "code",
   "execution_count": 63,
   "id": "06967d23-860f-4d11-a4ed-18675a5070e6",
   "metadata": {},
   "outputs": [],
   "source": [
    "nonshopp.district = nonshopp.district.map(\"{:02}\".format)"
   ]
  },
  {
   "cell_type": "code",
   "execution_count": 64,
   "id": "2258812c-fed6-4b48-84f7-10367a9b8839",
   "metadata": {},
   "outputs": [],
   "source": [
    "nonshopp.project_name = nonshopp.project_name.str.lower().str.strip().str.split(\"20\").str[0]"
   ]
  },
  {
   "cell_type": "markdown",
   "id": "5ba81d8f-2aaa-4138-be99-ed6687892a8a",
   "metadata": {},
   "source": [
    "### Sb1 Geo\n",
    "* Not every dataset has project names..."
   ]
  },
  {
   "cell_type": "code",
   "execution_count": 8,
   "id": "c7bbc54d-4a75-4b6d-8ed8-a44ec2685cd9",
   "metadata": {},
   "outputs": [],
   "source": [
    "pd.options.display.max_columns = 200\n",
    "pd.set_option(\"display.max_rows\", None)\n",
    "pd.set_option(\"display.max_colwidth\", None)"
   ]
  },
  {
   "cell_type": "code",
   "execution_count": 9,
   "id": "9f4ed958-a976-4c2b-8def-63a575f74d21",
   "metadata": {},
   "outputs": [],
   "source": [
    "def get_sb1_files():\n",
    "\n",
    "    sb1_gcs_path = f\"{_utils.GCS_FILE_PATH}SB1_geojsons\"\n",
    "\n",
    "    # Create a list of all the files in my folder\n",
    "    files = fs.ls(sb1_gcs_path)\n",
    "\n",
    "    # Lower case\n",
    "    files = [i for i in files if \".geojson\" in i]\n",
    "\n",
    "    # For now, delete out any Pt geometries\n",
    "    # So the df isn't extremely large\n",
    "    # files= [ x for x in files if \"Pt\" not in x ]\n",
    "    # files= [ x for x in files if \"pt\" not in x ]\n",
    "\n",
    "    # String to add to read the files\n",
    "    my_string = \"gs://\"\n",
    "    files = [my_string + i for i in files]\n",
    "\n",
    "    return files"
   ]
  },
  {
   "cell_type": "code",
   "execution_count": 10,
   "id": "f2d48c49-7b67-472f-a3a5-d4f6e11e3352",
   "metadata": {},
   "outputs": [],
   "source": [
    "sb1_files = get_sb1_files()"
   ]
  },
  {
   "cell_type": "code",
   "execution_count": 11,
   "id": "40027b1a-07ec-45d1-be50-386900e1f72d",
   "metadata": {},
   "outputs": [
    {
     "data": {
      "text/plain": [
       "22"
      ]
     },
     "execution_count": 11,
     "metadata": {},
     "output_type": "execute_result"
    }
   ],
   "source": [
    "len(sb1_files)"
   ]
  },
  {
   "cell_type": "code",
   "execution_count": 12,
   "id": "2e049563-3660-4bcf-8dcf-9ca5f55fb9af",
   "metadata": {},
   "outputs": [],
   "source": [
    "with get_fs().open(\"gs://calitp-analytics-data/data-analyses/project_prioritization/SB1_geojsons/SB1_RCA_Projects_032022_Transit_and_Intercity_Rail_Capital_Program.geojson\") as f:\n",
    "    tircp = to_snakecase(gpd.read_file(f))"
   ]
  },
  {
   "cell_type": "code",
   "execution_count": 13,
   "id": "0956687a-ec80-4b83-951d-54cd4af8864f",
   "metadata": {},
   "outputs": [],
   "source": [
    "with get_fs().open(sb1_files[0]) as f:\n",
    "    atp = to_snakecase(gpd.read_file(f))"
   ]
  },
  {
   "cell_type": "code",
   "execution_count": 14,
   "id": "affd5c72-1f1a-4048-b93e-9dc47764e63a",
   "metadata": {},
   "outputs": [],
   "source": [
    "full_gdf = pd.DataFrame()"
   ]
  },
  {
   "cell_type": "code",
   "execution_count": 15,
   "id": "b16b7b3d-abbb-4f44-81c2-e50868f9a305",
   "metadata": {
    "scrolled": true,
    "tags": []
   },
   "outputs": [],
   "source": [
    "for i in sb1_files:\n",
    "    with get_fs().open(i) as f:\n",
    "        df = to_snakecase(gpd.read_file(f))\n",
    "    full_gdf = pd.concat([full_gdf, df], axis=0)"
   ]
  },
  {
   "cell_type": "code",
   "execution_count": 16,
   "id": "474ab647-776f-4341-80f0-46d8cd874b0f",
   "metadata": {},
   "outputs": [
    {
     "data": {
      "text/plain": [
       "|SHOPP|    2741\n",
       "|HM|       1163\n",
       "|LSR|       509\n",
       "|ATP|       321\n",
       "|SHOPA|     165\n",
       "|SGR|       161\n",
       "|STIP|      126\n",
       "|TIRCP|      96\n",
       "|LPP-F|      68\n",
       "|TCEP|       63\n",
       "|LPP-C|      57\n",
       "|STA|        49\n",
       "|SCCP|       40\n",
       "|FM|         12\n",
       "|SRA|        11\n",
       "Name: programcodes, dtype: int64"
      ]
     },
     "execution_count": 16,
     "metadata": {},
     "output_type": "execute_result"
    }
   ],
   "source": [
    "full_gdf.programcodes.value_counts()"
   ]
  },
  {
   "cell_type": "code",
   "execution_count": 17,
   "id": "9fcb5510-3b08-4ffc-b5db-ff584c49f407",
   "metadata": {},
   "outputs": [
    {
     "data": {
      "text/plain": [
       "(5582, 38)"
      ]
     },
     "execution_count": 17,
     "metadata": {},
     "output_type": "execute_result"
    }
   ],
   "source": [
    "full_gdf.shape"
   ]
  },
  {
   "cell_type": "code",
   "execution_count": 18,
   "id": "948200e3-eb60-4f0b-8d4d-bf0a65caf65d",
   "metadata": {},
   "outputs": [],
   "source": [
    "full_gdf[\"project_title2\"] = (\n",
    "    full_gdf[\"programcodes\"]\n",
    "    + \" \"\n",
    "    + full_gdf[\"agencies\"]\n",
    "    + \" \"\n",
    "    + full_gdf[\"countynames\"]\n",
    "    + \" \"\n",
    "    + full_gdf[\"fiscalyears\"]\n",
    "    + \" \"\n",
    "    + full_gdf[\"totalcost\"].astype(str)\n",
    ")"
   ]
  },
  {
   "cell_type": "code",
   "execution_count": 19,
   "id": "114d0f9e-00bc-43e9-9698-55918bcb4cb2",
   "metadata": {
    "scrolled": true,
    "tags": []
   },
   "outputs": [],
   "source": [
    "full_gdf.projecttitle = full_gdf.projecttitle.fillna(full_gdf.project_title2)"
   ]
  },
  {
   "cell_type": "code",
   "execution_count": 20,
   "id": "9b7b1538-2ad7-4a82-9519-d581d616153e",
   "metadata": {},
   "outputs": [],
   "source": [
    "# Drop duplicates...since opened all ln/pt file?\n",
    "full_gdf2 = (\n",
    "    full_gdf.drop_duplicates(\n",
    "        subset=[\n",
    "            \"agencies\",\n",
    "            \"programcodes\",\n",
    "            \"sb1funds\",\n",
    "            \"projectid\",\n",
    "            \"projecttitle\",\n",
    "            \"totalcost\",\n",
    "        ]\n",
    "    )\n",
    ").reset_index(drop=True)"
   ]
  },
  {
   "cell_type": "code",
   "execution_count": 21,
   "id": "8e96fc92-c2ed-455a-bef6-c3889e4e3bb3",
   "metadata": {},
   "outputs": [
    {
     "data": {
      "text/plain": [
       "|SHOPP|    2741\n",
       "|HM|        913\n",
       "|LSR|       509\n",
       "|ATP|       321\n",
       "|SHOPA|     164\n",
       "|SGR|       161\n",
       "|STIP|      126\n",
       "|TIRCP|      96\n",
       "|LPP-F|      68\n",
       "|TCEP|       60\n",
       "|LPP-C|      57\n",
       "|STA|        49\n",
       "|SCCP|       40\n",
       "|FM|         12\n",
       "|SRA|        11\n",
       "Name: programcodes, dtype: int64"
      ]
     },
     "execution_count": 21,
     "metadata": {},
     "output_type": "execute_result"
    }
   ],
   "source": [
    "full_gdf2.programcodes.value_counts()"
   ]
  },
  {
   "cell_type": "code",
   "execution_count": 22,
   "id": "1b5ae135-7dd9-43f3-a063-36c415b4de5d",
   "metadata": {},
   "outputs": [],
   "source": [
    "subset = [\n",
    "    \"projectid\",\n",
    "    \"agencyids\",\n",
    "    \"agencies\",\n",
    "    \"programcodes\",\n",
    "    \"fiscalyears\",\n",
    "    \"projectstatuses\",\n",
    "    \"sb1funds\",\n",
    "    \"iijafunds\",\n",
    "    \"totalcost\",\n",
    "    \"assemblydistricts\",\n",
    "    \"senatedistricts\",\n",
    "    \"congressionaldistricts\",\n",
    "    \"countynames\",\n",
    "    \"citynames\",\n",
    "    \"ct_districts\",\n",
    "    \"issb1codes\",\n",
    "    \"isiijacode\",\n",
    "    \"isonshscodes\",\n",
    "    \"geometry\",\n",
    "    \"projecttitle\",\n",
    "    \"projectdescription\",\n",
    "]"
   ]
  },
  {
   "cell_type": "code",
   "execution_count": 23,
   "id": "09b254a3-ae7d-4de3-8238-afaa0d35c6e9",
   "metadata": {},
   "outputs": [],
   "source": [
    "# Fill in NA\n",
    "full_gdf2 = full_gdf2.fillna(\n",
    "    full_gdf.dtypes.replace({\"float64\": 0.0, \"object\": \"None\"})\n",
    ")"
   ]
  },
  {
   "cell_type": "code",
   "execution_count": 24,
   "id": "ad31dbbc-592b-4082-b64d-bd5f411ad553",
   "metadata": {},
   "outputs": [],
   "source": [
    "full_gdf2 = full_gdf2[subset]"
   ]
  },
  {
   "cell_type": "code",
   "execution_count": 25,
   "id": "0257f8fa-b724-48c3-a171-57a403ad754b",
   "metadata": {},
   "outputs": [
    {
     "data": {
      "text/plain": [
       "((5328, 21), 1565)"
      ]
     },
     "execution_count": 25,
     "metadata": {},
     "output_type": "execute_result"
    }
   ],
   "source": [
    "full_gdf2.shape, full_gdf2.projecttitle.nunique()"
   ]
  },
  {
   "cell_type": "code",
   "execution_count": 26,
   "id": "98b60f3e-8875-4cc2-807a-98266ac56bbb",
   "metadata": {},
   "outputs": [],
   "source": [
    "# Align funding\n",
    "full_gdf2 = _utils.align_funding_numbers(\n",
    "    full_gdf2,\n",
    "    [\n",
    "        \"totalcost\",\n",
    "        \"sb1funds\",\n",
    "    ],\n",
    ")"
   ]
  },
  {
   "cell_type": "code",
   "execution_count": 27,
   "id": "bf24ac71-79a4-417f-906b-9ca4824b499f",
   "metadata": {},
   "outputs": [],
   "source": [
    "# Lower case and clean project names\n",
    "full_gdf2.projecttitle = (\n",
    "    full_gdf2.projecttitle.str.lower().str.strip().str.split(\"20\").str[0]\n",
    ")"
   ]
  },
  {
   "cell_type": "code",
   "execution_count": 28,
   "id": "921e3b0a-eec5-471e-aeff-9a04dd1d5a6e",
   "metadata": {},
   "outputs": [
    {
     "name": "stderr",
     "output_type": "stream",
     "text": [
      "/tmp/ipykernel_2293/1072677451.py:3: FutureWarning: The default value of regex will change from True to False in a future version. In addition, single character regular expressions will *not* be treated as literal strings when regex=True.\n"
     ]
    }
   ],
   "source": [
    "# Get rid of |\n",
    "for i in ['programcodes','issb1codes','projecttitle','isiijacode', 'isonshscodes']:\n",
    "    full_gdf2[i] = full_gdf2[i].str.replace(\"|\", \"\")"
   ]
  },
  {
   "cell_type": "markdown",
   "id": "41757458-fdcb-4b34-8bd6-b2e6995230b6",
   "metadata": {},
   "source": [
    "#### Low hanging fruit, TIRCP & ATP"
   ]
  },
  {
   "cell_type": "code",
   "execution_count": 71,
   "id": "563d4da0-7985-429a-9a88-a2d7929fe765",
   "metadata": {},
   "outputs": [
    {
     "data": {
      "text/plain": [
       "array(['ATP', 'FM', 'LPP-C', 'LPP-F', 'LSR', 'SCCP', 'SHOPP', 'SHOPA',\n",
       "       'HM', 'SRA', 'STA', 'STIP', 'SGR', 'TCEP', 'TIRCP'], dtype=object)"
      ]
     },
     "execution_count": 71,
     "metadata": {},
     "output_type": "execute_result"
    }
   ],
   "source": [
    "full_gdf2.programcodes.unique()"
   ]
  },
  {
   "cell_type": "code",
   "execution_count": 82,
   "id": "3479af91-30bc-494a-82d7-cbbe1045841f",
   "metadata": {
    "scrolled": true,
    "tags": []
   },
   "outputs": [],
   "source": [
    "tircp_atp = full_gdf2.loc[full_gdf2.programcodes.str.contains(\"TIRCP|ATP\")].reset_index(drop = True)"
   ]
  },
  {
   "cell_type": "code",
   "execution_count": 84,
   "id": "ad603d43-2605-4df0-b671-2870222af678",
   "metadata": {
    "scrolled": true,
    "tags": []
   },
   "outputs": [],
   "source": [
    "tircp_atp_nonshopp = nonshopp.loc[\n",
    "    nonshopp.previous_caltrans_nominations.str.contains(\"TIRCP|ATP\")\n",
    "].reset_index(drop=True)"
   ]
  },
  {
   "cell_type": "markdown",
   "id": "52d2dcca-c3ad-4c60-bb64-713eeeb70f5b",
   "metadata": {
    "tags": []
   },
   "source": [
    "#### Try to merge CSV project ids with Geojson\n",
    "* CSV version has cleaner project names."
   ]
  },
  {
   "cell_type": "code",
   "execution_count": 45,
   "id": "5a61b35c-5e67-4ea4-b1b0-da721486fdc5",
   "metadata": {},
   "outputs": [],
   "source": [
    "def clean_project_id(df, project_id_col:str):\n",
    "    df[project_id_col] = (df[project_id_col].str.replace(\"'\",\"\")\n",
    "                          .str.lower()\n",
    "                          .str.strip()\n",
    "                         )\n",
    "    return df"
   ]
  },
  {
   "cell_type": "code",
   "execution_count": 29,
   "id": "a316c10a-3ba0-4d96-a2a3-16a7324fdf60",
   "metadata": {},
   "outputs": [],
   "source": [
    "# Read in SB1\n",
    "sb1_project_id = to_snakecase(pd.read_csv(f\"{_utils.GCS_FILE_PATH}RebuildingCA_map_Data.csv\"))[['project_id','project_name']]"
   ]
  },
  {
   "cell_type": "code",
   "execution_count": 46,
   "id": "b8413685-db5a-43c8-81a4-46e7f98175c0",
   "metadata": {},
   "outputs": [
    {
     "name": "stderr",
     "output_type": "stream",
     "text": [
      "/tmp/ipykernel_2293/2537473179.py:2: SettingWithCopyWarning: \n",
      "A value is trying to be set on a copy of a slice from a DataFrame.\n",
      "Try using .loc[row_indexer,col_indexer] = value instead\n",
      "\n",
      "See the caveats in the documentation: https://pandas.pydata.org/pandas-docs/stable/user_guide/indexing.html#returning-a-view-versus-a-copy\n"
     ]
    }
   ],
   "source": [
    "sb1_project_id = clean_project_id(sb1_project_id, \"project_id\")"
   ]
  },
  {
   "cell_type": "code",
   "execution_count": 47,
   "id": "76b3ea1c-9750-4f68-9659-96de5f83bbc5",
   "metadata": {},
   "outputs": [],
   "source": [
    "full_gdf2 = clean_project_id(full_gdf2, \"projectid\")"
   ]
  },
  {
   "cell_type": "code",
   "execution_count": 69,
   "id": "52ae80b3-b737-45cc-901c-6dbd8334204a",
   "metadata": {},
   "outputs": [
    {
     "data": {
      "text/plain": [
       "(4050, 9544, 9632)"
      ]
     },
     "execution_count": 69,
     "metadata": {},
     "output_type": "execute_result"
    }
   ],
   "source": [
    "full_gdf2.projectid.nunique(), sb1_project_id.project_id.nunique(), len(sb1_project_id)"
   ]
  },
  {
   "cell_type": "code",
   "execution_count": 48,
   "id": "307fd968-aec1-4e26-a2b3-88c80c5a1ab4",
   "metadata": {},
   "outputs": [
    {
     "data": {
      "text/plain": [
       "_merge    \n",
       "left_only     5595\n",
       "both          4174\n",
       "right_only    1321\n",
       "dtype: int64"
      ]
     },
     "execution_count": 48,
     "metadata": {},
     "output_type": "execute_result"
    }
   ],
   "source": [
    "pd.merge(sb1_project_id, full_gdf2, how=\"outer\",left_on=[\"project_id\"], right_on=['projectid'], indicator=True)[\n",
    "    [\"_merge\"]\n",
    "].value_counts()"
   ]
  },
  {
   "cell_type": "code",
   "execution_count": 55,
   "id": "c05a86f1-6c69-484e-b6bd-5d3324742824",
   "metadata": {},
   "outputs": [],
   "source": [
    "sb1_m = pd.merge(full_gdf2, sb1_project_id, how=\"left\",left_on=[\"projectid\"], right_on=['project_id']) "
   ]
  },
  {
   "cell_type": "code",
   "execution_count": 56,
   "id": "e4b1d2d3-7b68-460b-a2eb-dd5f6e59c381",
   "metadata": {},
   "outputs": [],
   "source": [
    "sb1_m.project_name = sb1_m.project_name.fillna(sb1_m.projecttitle)"
   ]
  },
  {
   "cell_type": "markdown",
   "id": "bb97717c-265b-4564-8a7a-dc99f0168119",
   "metadata": {},
   "source": [
    "### Merge 1 with Non SHOPP\n",
    "* Didn't work on project names :( "
   ]
  },
  {
   "cell_type": "code",
   "execution_count": 65,
   "id": "92fc5d14-d99c-470f-9bc5-d903d7b212db",
   "metadata": {},
   "outputs": [
    {
     "data": {
      "text/plain": [
       "_merge    \n",
       "right_only    5495\n",
       "left_only      905\n",
       "both             0\n",
       "dtype: int64"
      ]
     },
     "execution_count": 65,
     "metadata": {},
     "output_type": "execute_result"
    }
   ],
   "source": [
    "pd.merge(nonshopp, sb1_m, how=\"outer\", on = ['project_name'], indicator=True)[\n",
    "    [\"_merge\"]\n",
    "].value_counts()"
   ]
  },
  {
   "cell_type": "markdown",
   "id": "9080657d-b4de-453c-9663-55bb5e004915",
   "metadata": {},
   "source": [
    "### SB1 CSV"
   ]
  },
  {
   "cell_type": "code",
   "execution_count": null,
   "id": "805ac0f5-36dc-40bd-b7b5-582baadc339a",
   "metadata": {},
   "outputs": [],
   "source": [
    "sb1.shape, sb1.project_name.nunique()"
   ]
  },
  {
   "cell_type": "code",
   "execution_count": null,
   "id": "34a06b31-dd37-48a2-83d6-06abd8d4b615",
   "metadata": {},
   "outputs": [],
   "source": [
    "# Titles are not necessarily specifically named.\n",
    "# Tends to be very general\n",
    "# sb1.project_name.value_counts()"
   ]
  },
  {
   "cell_type": "code",
   "execution_count": null,
   "id": "11af211e-6647-49b7-b818-d3bc5209ab43",
   "metadata": {},
   "outputs": [],
   "source": [
    "sb1_subset = [\n",
    "    \"project_name\",\n",
    "    \"implementing_agency\",\n",
    "    \"sb1_program\",\n",
    "    \"fiscal_year\",\n",
    "    \"project_description\",\n",
    "    \"total_cost\",\n",
    "    \"sb1_funds\",\n",
    "    \"is_sb1?\",\n",
    "    \"project_status\",\n",
    "    \"assembly_districts\",\n",
    "    \"senate_districts\",\n",
    "    \"congressional_districts\",\n",
    "    \"counties\",\n",
    "    \"cities\",\n",
    "    \"caltrans_districts\",\n",
    "    \"on_shs?\",\n",
    "]"
   ]
  },
  {
   "cell_type": "code",
   "execution_count": null,
   "id": "1c970a13-2b8a-4c24-afca-7f2f8fbe229d",
   "metadata": {},
   "outputs": [],
   "source": [
    "sb1_2 = sb1[sb1_subset]"
   ]
  },
  {
   "cell_type": "code",
   "execution_count": null,
   "id": "0b6f73ab-706d-4c31-8fae-fe830a3fc260",
   "metadata": {},
   "outputs": [],
   "source": [
    "sb1.sb1_program.value_counts()"
   ]
  },
  {
   "cell_type": "code",
   "execution_count": null,
   "id": "ad12e624-e1cd-4e0f-a98e-c533490fc3d4",
   "metadata": {},
   "outputs": [],
   "source": [
    "sb1_2.shape"
   ]
  },
  {
   "cell_type": "code",
   "execution_count": null,
   "id": "f3a9fb1a-9cbf-45a9-a0a6-cc96dbb16b09",
   "metadata": {},
   "outputs": [],
   "source": [
    "# Fill in NA\n",
    "sb1_2 = sb1_2.fillna(sb1_2.dtypes.replace({\"float64\": 0.0, \"object\": \"None\"}))"
   ]
  },
  {
   "cell_type": "code",
   "execution_count": null,
   "id": "7510fd40-c15e-42ba-a4f1-68031c2e6b3e",
   "metadata": {},
   "outputs": [],
   "source": [
    "# Align funding\n",
    "sb1_2 = _utils.align_funding_numbers(\n",
    "    sb1_2,\n",
    "    [\n",
    "        \"total_cost\",\n",
    "        \"sb1_funds\",\n",
    "    ],\n",
    ")"
   ]
  },
  {
   "cell_type": "markdown",
   "id": "69f2f3b4-c1d0-4d4b-87c5-d2158e115dcc",
   "metadata": {},
   "source": [
    "#### Merge on Project Names"
   ]
  },
  {
   "cell_type": "code",
   "execution_count": null,
   "id": "76e719a2-21fa-4b8f-bce4-100d612e3484",
   "metadata": {
    "scrolled": true,
    "tags": []
   },
   "outputs": [],
   "source": [
    "# Lower case and clean project names\n",
    "for i in [sb1_2, df]:\n",
    "    i[\"project_name\"] = i[\"project_name\"].str.lower().str.strip().str.split(\"20\").str[0]"
   ]
  },
  {
   "cell_type": "code",
   "execution_count": null,
   "id": "b4deeadc-c568-466e-9325-b8e491f5e51f",
   "metadata": {},
   "outputs": [],
   "source": [
    "# 67 without accounting for districts\n",
    "pd.merge(df, sb1_2, how=\"outer\", on=[\"project_name\"], indicator=True)[\n",
    "    [\"_merge\"]\n",
    "].value_counts()"
   ]
  },
  {
   "cell_type": "code",
   "execution_count": null,
   "id": "ccede347-cbfe-4ee3-9346-71b8f538258f",
   "metadata": {},
   "outputs": [],
   "source": [
    "# 62 matches\n",
    "pd.merge(\n",
    "    df,\n",
    "    sb1_2,\n",
    "    how=\"outer\",\n",
    "    left_on=[\"project_name\", \"district\"],\n",
    "    right_on=[\"project_name\", \"caltrans_districts\"],\n",
    "    indicator=True,\n",
    ")[[\"_merge\"]].value_counts()"
   ]
  },
  {
   "cell_type": "code",
   "execution_count": null,
   "id": "fbdc6b9d-9f9b-41cc-965b-6602a7ceb15f",
   "metadata": {},
   "outputs": [],
   "source": [
    "project_title_m = pd.merge(\n",
    "    df,\n",
    "    sb1_2,\n",
    "    how=\"left\",\n",
    "    left_on=[\"project_name\", \"district\"],\n",
    "    right_on=[\"project_name\", \"caltrans_districts\"],\n",
    "    indicator=True,\n",
    ")"
   ]
  },
  {
   "cell_type": "code",
   "execution_count": null,
   "id": "3366c8f6-0ddf-4b57-8f01-0a7d9101d8d2",
   "metadata": {},
   "outputs": [],
   "source": [
    "preview = [\n",
    "    \"project_name\",\n",
    "    \"district\",\n",
    "    \"caltrans_districts\",\n",
    "    \"counties\",\n",
    "    \"full_county_name\",\n",
    "    \"project_description_x\",\n",
    "    \"project_description_y\",\n",
    "    \"previous_caltrans_nominations\",\n",
    "    \"sb1_program\",\n",
    "    \"total_project_cost__$1,000\",\n",
    "    \"total_cost\",\n",
    "]"
   ]
  },
  {
   "cell_type": "code",
   "execution_count": null,
   "id": "e3e4e316-b22f-4278-8c41-6bd048104212",
   "metadata": {},
   "outputs": [],
   "source": [
    "# project_title_m.loc[project_title_m._merge == 'both'][preview]"
   ]
  },
  {
   "cell_type": "code",
   "execution_count": null,
   "id": "3522a920-706f-4475-9b23-0f2759eef3ba",
   "metadata": {},
   "outputs": [],
   "source": [
    "project_title_m.sb1_program.value_counts()"
   ]
  },
  {
   "cell_type": "code",
   "execution_count": null,
   "id": "40591042-e292-424c-9a08-cc0fc7148ae1",
   "metadata": {
    "scrolled": true,
    "tags": []
   },
   "outputs": [],
   "source": [
    "sb1_csv = project_title_m.project_name.unique().tolist()"
   ]
  },
  {
   "cell_type": "markdown",
   "id": "9bd3b888-c935-4029-81ca-e8cc5d3eedb5",
   "metadata": {},
   "source": [
    "### Tircp\n",
    "* None of the projects from TIRCP are mapping, even though the names appear the same."
   ]
  },
  {
   "cell_type": "code",
   "execution_count": null,
   "id": "182020ac-5310-48a9-96d5-0227b89f6231",
   "metadata": {},
   "outputs": [],
   "source": [
    "# sb1_tircp = sb1_2.loc[sb1_2.sb1_program == \"Transit and Intercity Rail Capital Program\"].reset_index(drop = True)"
   ]
  },
  {
   "cell_type": "code",
   "execution_count": null,
   "id": "81191fad-bd8a-4d7b-b75b-bcf7c542fc71",
   "metadata": {},
   "outputs": [],
   "source": [
    "# sb1_tircp[['project_name','caltrans_districts','counties']].sort_values('project_name').head(2)"
   ]
  },
  {
   "cell_type": "code",
   "execution_count": null,
   "id": "80ca7f9b-043b-4f18-a79a-3e5d69161af4",
   "metadata": {
    "scrolled": true,
    "tags": []
   },
   "outputs": [],
   "source": [
    "# tircp_sb[['project_name']].sort_values(by = 'project_name')"
   ]
  },
  {
   "cell_type": "code",
   "execution_count": null,
   "id": "417df614-c9e4-4b8e-9ffa-b4f21889e974",
   "metadata": {
    "scrolled": true,
    "tags": []
   },
   "outputs": [],
   "source": [
    "# tircp_shopp[['project_name']].sort_values(by = 'project_name')"
   ]
  },
  {
   "cell_type": "code",
   "execution_count": null,
   "id": "25c0f244-c284-4de8-a8d9-872be7c74c0d",
   "metadata": {
    "scrolled": true,
    "tags": []
   },
   "outputs": [],
   "source": [
    "tircp_shopp = df.loc[\n",
    "    df.previous_caltrans_nominations.str.contains(\"TIRCP\")\n",
    "].reset_index(drop=True)"
   ]
  },
  {
   "cell_type": "code",
   "execution_count": null,
   "id": "4f74adae-6714-4e3b-b288-911be3d67c27",
   "metadata": {},
   "outputs": [],
   "source": [
    "# why are there no matches??\n",
    "pd.merge(tircp_shopp, tircp_sb, how=\"outer\", on=[\"project_name\"], indicator=True)[\n",
    "    [\"_merge\"]\n",
    "].value_counts()"
   ]
  },
  {
   "cell_type": "code",
   "execution_count": null,
   "id": "ddd3fc5f-e17f-45a4-96d1-9151ff066edf",
   "metadata": {},
   "outputs": [],
   "source": [
    "import urllib.parse\n",
    "\n",
    "import requests"
   ]
  },
  {
   "cell_type": "code",
   "execution_count": null,
   "id": "a7e8656d-12dc-4ab1-9996-b7ac5dcc8ce4",
   "metadata": {},
   "outputs": [],
   "source": [
    "url = r\"https://odpsvcs.dot.ca.gov/arcgis/rest/services/RCA/RCA_Projects_032022/FeatureServer/query\""
   ]
  },
  {
   "cell_type": "code",
   "execution_count": null,
   "id": "37e6f914-1cc7-4515-bb23-930331fe0955",
   "metadata": {},
   "outputs": [],
   "source": [
    "# params = {\n",
    "#    'geometry': '-118.21637221791077, 34.094916196179504',\n",
    "#    'geometryType': 'esriGeometryPoint',\n",
    "#    'returnGeometry': 'true',\n",
    "#    'f': 'pjson'\n",
    "# }"
   ]
  },
  {
   "cell_type": "code",
   "execution_count": null,
   "id": "bacfe953-b85b-4cf0-b07c-6a918817e8df",
   "metadata": {},
   "outputs": [],
   "source": [
    "# url_final = url + urllib.parse.urlencode(params)"
   ]
  },
  {
   "cell_type": "code",
   "execution_count": null,
   "id": "9b118605-a8bf-477c-b070-3ad76211ce8d",
   "metadata": {},
   "outputs": [],
   "source": [
    "# response = requests.get(url=url_final)"
   ]
  },
  {
   "cell_type": "code",
   "execution_count": null,
   "id": "5286b27a-87be-4c90-a4ac-7bca4d018790",
   "metadata": {},
   "outputs": [],
   "source": [
    "# data = response.text"
   ]
  },
  {
   "cell_type": "code",
   "execution_count": null,
   "id": "933b3718-e5ab-4da8-b671-cace2f32b1a4",
   "metadata": {
    "scrolled": true,
    "tags": []
   },
   "outputs": [],
   "source": [
    "# test = gpd.read_file(data)"
   ]
  },
  {
   "cell_type": "code",
   "execution_count": null,
   "id": "6b1090ff-25b8-48cb-a70d-cb0fdfd0ab86",
   "metadata": {},
   "outputs": [],
   "source": [
    "# https://services.arcgisonline.com/arcgis/rest/services/Elevation/World_Hillshade/MapServer?f=json"
   ]
  },
  {
   "cell_type": "code",
   "execution_count": null,
   "id": "5e0ce5fb-389d-4a9c-acb2-183ceaf72a72",
   "metadata": {},
   "outputs": [],
   "source": [
    "# https://services.arcgisonline.com/arcgis/rest/services/Elevation/World_Hillshade/MapServer/tilemap/0/0/0/8/8?f=json"
   ]
  }
 ],
 "metadata": {
  "kernelspec": {
   "display_name": "Python 3 (ipykernel)",
   "language": "python",
   "name": "python3"
  },
  "language_info": {
   "codemirror_mode": {
    "name": "ipython",
    "version": 3
   },
   "file_extension": ".py",
   "mimetype": "text/x-python",
   "name": "python",
   "nbconvert_exporter": "python",
   "pygments_lexer": "ipython3",
   "version": "3.9.13"
  }
 },
 "nbformat": 4,
 "nbformat_minor": 5
}
