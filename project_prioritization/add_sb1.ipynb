{
 "cells": [
  {
   "cell_type": "markdown",
   "id": "1a173285-41bd-4523-8d4b-b5474ec1b034",
   "metadata": {},
   "source": [
    "## Add SB1 geographic information."
   ]
  },
  {
   "cell_type": "code",
   "execution_count": 1,
   "id": "22b768e0-0316-4684-a4b2-683dcd82a323",
   "metadata": {},
   "outputs": [
    {
     "name": "stderr",
     "output_type": "stream",
     "text": [
      "/opt/conda/lib/python3.9/site-packages/geopandas/_compat.py:123: UserWarning: The Shapely GEOS version (3.10.3-CAPI-1.16.1) is incompatible with the GEOS version PyGEOS was compiled with (3.10.1-CAPI-1.16.0). Conversions between both will be slow.\n",
      "  warnings.warn(\n",
      "/opt/conda/lib/python3.9/site-packages/fuzzywuzzy/fuzz.py:11: UserWarning: Using slow pure-python SequenceMatcher. Install python-Levenshtein to remove this warning\n"
     ]
    }
   ],
   "source": [
    "import _utils\n",
    "import _sb1_utils as sb1_utils\n",
    "from shared_utils import utils\n",
    "import geopandas as gpd\n",
    "import numpy as np\n",
    "import pandas as pd\n",
    "from calitp_data_analysis.sql import to_snakecase"
   ]
  },
  {
   "cell_type": "code",
   "execution_count": 2,
   "id": "736a052e-ea23-4b87-bdf9-43d5b396c9e7",
   "metadata": {},
   "outputs": [],
   "source": [
    "import fuzzywuzzy\n",
    "from fuzzywuzzy import process"
   ]
  },
  {
   "cell_type": "code",
   "execution_count": 3,
   "id": "c7bbc54d-4a75-4b6d-8ed8-a44ec2685cd9",
   "metadata": {},
   "outputs": [],
   "source": [
    "pd.options.display.max_columns = 200\n",
    "pd.set_option(\"display.max_rows\", None)\n",
    "pd.set_option(\"display.max_colwidth\", None)"
   ]
  },
  {
   "cell_type": "markdown",
   "id": "648c5012-12e3-4f04-8abe-8b254bca0665",
   "metadata": {
    "tags": []
   },
   "source": [
    "#### Non SHOPP Sample Projects\n",
    "* Solutions for Congest Corridors (SCCP): 1\n",
    "* Trade Corridor Enhancement Program (TCEP): 3\n",
    "* Only 3 projects seem to have been awarded. \n",
    "    * east bay greenway multimodal corridor project phase 1\n",
    "    * us 101woodside road interchange and port access project\n",
    "    * watsonvillesanta cruz multimodal corridor program wscmcp cycle 3 project contract 1 sr 1 freedom to state park aux lanes bus on shoulders and coastal rail trail segment 12"
   ]
  },
  {
   "cell_type": "code",
   "execution_count": 4,
   "id": "5bd1c146-98fc-4e64-b7cb-f56e07a1ab07",
   "metadata": {},
   "outputs": [
    {
     "name": "stderr",
     "output_type": "stream",
     "text": [
      "/home/jovyan/data-analyses/project_prioritization/_sb1_utils.py:28: FutureWarning: The default value of regex will change from True to False in a future version.\n",
      "/home/jovyan/data-analyses/project_prioritization/_sb1_utils.py:42: FutureWarning: The default value of regex will change from True to False in a future version. In addition, single character regular expressions will *not* be treated as literal strings when regex=True.\n"
     ]
    }
   ],
   "source": [
    "nonshopp, nine_sample_projects = sb1_utils.load_nonshopp(\"cleaned_data_atp_tircp.xlsx\")"
   ]
  },
  {
   "cell_type": "code",
   "execution_count": 5,
   "id": "0ca238a2-afe0-4175-8dab-c15eb3a27f2a",
   "metadata": {},
   "outputs": [
    {
     "name": "stderr",
     "output_type": "stream",
     "text": [
      "/home/jovyan/data-analyses/project_prioritization/_sb1_utils.py:28: FutureWarning: The default value of regex will change from True to False in a future version.\n",
      "/home/jovyan/data-analyses/project_prioritization/_sb1_utils.py:42: FutureWarning: The default value of regex will change from True to False in a future version. In addition, single character regular expressions will *not* be treated as literal strings when regex=True.\n",
      "/home/jovyan/data-analyses/project_prioritization/_sb1_utils.py:48: FutureWarning: The default value of regex will change from True to False in a future version.\n",
      "/home/jovyan/data-analyses/project_prioritization/_sb1_utils.py:28: FutureWarning: The default value of regex will change from True to False in a future version.\n",
      "/home/jovyan/data-analyses/project_prioritization/_sb1_utils.py:42: FutureWarning: The default value of regex will change from True to False in a future version. In addition, single character regular expressions will *not* be treated as literal strings when regex=True.\n"
     ]
    }
   ],
   "source": [
    "# Load SB1\n",
    "sb1 = sb1_utils.sb1_final()"
   ]
  },
  {
   "cell_type": "code",
   "execution_count": 6,
   "id": "d001144d-7528-43d7-8b60-32d925ccf080",
   "metadata": {
    "scrolled": true,
    "tags": []
   },
   "outputs": [],
   "source": [
    "# nine_sample_projects[['project_name','project_description','county','previous_caltrans_nominations']]"
   ]
  },
  {
   "cell_type": "code",
   "execution_count": 7,
   "id": "ee700505-ed9f-41b8-80ad-7d748540ace8",
   "metadata": {},
   "outputs": [],
   "source": [
    "m1 = sb1_utils.m_nonshopp_sb1_project_titles(nonshopp, sb1)"
   ]
  },
  {
   "cell_type": "code",
   "execution_count": 8,
   "id": "bcfff1a2-7fa7-4dd8-891f-d8f1555f4af4",
   "metadata": {},
   "outputs": [],
   "source": [
    "m2 = sb1_utils.m_nonshopp_sb1_fuzzy(m1, nonshopp, sb1)"
   ]
  },
  {
   "cell_type": "markdown",
   "id": "ac47ac56-29ba-46b0-9174-7894068ca007",
   "metadata": {},
   "source": [
    "### Max row limit signifier\n",
    "* Test with a few dataframes"
   ]
  },
  {
   "cell_type": "code",
   "execution_count": 9,
   "id": "30278fba-93fa-4fff-a5e8-b3bfd62cc40e",
   "metadata": {},
   "outputs": [],
   "source": [
    "# Test with TIRCP\n",
    "tircp = to_snakecase(gpd.read_file(\"https://odpsvcs.dot.ca.gov/arcgis/rest/services/RCA/RCA_Projects_032022/FeatureServer/5/query?where=1%3D1&objectIds=&time=&geometry=&geometryType=esriGeometryEnvelope&inSR=&spatialRel=esriSpatialRelIntersects&distance=&units=esriSRUnit_Foot&relationParam=&outFields=*+&returnGeometry=true&maxAllowableOffset=&geometryPrecision=&outSR=&gdbVersion=&historicMoment=&returnDistinctValues=false&returnIdsOnly=false&returnCountOnly=false&returnExtentOnly=false&orderByFields=&groupByFieldsForStatistics=&outStatistics=&returnZ=false&returnM=false&multipatchOption=&resultOffset=&resultRecordCount=&returnTrueCurves=false&sqlFormat=none&f=geojson\"))"
   ]
  },
  {
   "cell_type": "code",
   "execution_count": 10,
   "id": "70cfdea6-b8e7-454e-822a-1bf9dcdb2bea",
   "metadata": {},
   "outputs": [],
   "source": [
    "atp = to_snakecase(gpd.read_file(\"https://odpsvcs.dot.ca.gov/arcgis/rest/services/RCA/RCA_Projects_032022/FeatureServer/12/query?where=1%3D1&objectIds=&time=&geometry=&geometryType=esriGeometryEnvelope&inSR=&spatialRel=esriSpatialRelIntersects&distance=&units=esriSRUnit_Foot&relationParam=&outFields=*+&returnGeometry=true&maxAllowableOffset=&geometryPrecision=&outSR=&gdbVersion=&historicMoment=&returnDistinctValues=false&returnIdsOnly=false&returnCountOnly=false&returnExtentOnly=false&orderByFields=&groupByFieldsForStatistics=&outStatistics=&returnZ=false&returnM=false&multipatchOption=&resultOffset=&resultRecordCount=&returnTrueCurves=false&sqlFormat=none&f=geojson\"))"
   ]
  },
  {
   "cell_type": "code",
   "execution_count": 11,
   "id": "03088369-0370-4944-b7d5-db31408a8dc8",
   "metadata": {},
   "outputs": [],
   "source": [
    "congested_corridors = to_snakecase(gpd.read_file(\"https://odpsvcs.dot.ca.gov/arcgis/rest/services/RCA/RCA_Projects_032022/FeatureServer/1/query?where=1%3D1&objectIds=&time=&geometry=&geometryType=esriGeometryEnvelope&inSR=&spatialRel=esriSpatialRelIntersects&distance=&units=esriSRUnit_Foot&relationParam=&outFields=*+&returnGeometry=true&maxAllowableOffset=&geometryPrecision=&outSR=&gdbVersion=&historicMoment=&returnDistinctValues=false&returnIdsOnly=false&returnCountOnly=false&returnExtentOnly=false&orderByFields=&groupByFieldsForStatistics=&outStatistics=&returnZ=false&returnM=false&multipatchOption=&resultOffset=&resultRecordCount=&returnTrueCurves=false&sqlFormat=none&f=geojson\"))"
   ]
  },
  {
   "cell_type": "code",
   "execution_count": 12,
   "id": "0fbc7187-d26f-4003-8ad5-0b52fbce1ae3",
   "metadata": {},
   "outputs": [
    {
     "name": "stdout",
     "output_type": "stream",
     "text": [
      "96 rows -> over max limit\n",
      "321 rows -> over max limit\n",
      "12 rows -> under max limit\n"
     ]
    }
   ],
   "source": [
    "for i in [tircp,atp,congested_corridors]:\n",
    "    print(sb1_utils.row_limit(i, 96))"
   ]
  },
  {
   "cell_type": "code",
   "execution_count": 13,
   "id": "b75a157e-f460-432b-8334-7acbd861490e",
   "metadata": {},
   "outputs": [
    {
     "name": "stdout",
     "output_type": "stream",
     "text": [
      "96 rows -> under max limit\n",
      "321 rows -> under max limit\n",
      "12 rows -> under max limit\n"
     ]
    }
   ],
   "source": [
    "for i in [tircp,atp,congested_corridors]:\n",
    "    print(sb1_utils.row_limit(i))"
   ]
  },
  {
   "cell_type": "code",
   "execution_count": 14,
   "id": "569fabbe-78eb-4f85-a8ec-4ff5aaf74c8e",
   "metadata": {},
   "outputs": [],
   "source": [
    "# Subset to preview SB1 vs Nonshopp. Nonshopp is on the left, sb1 on the right\n",
    "preview_cols =  ['project_name','projecttitle','project_description','projectdescription', 'full_county_name', 'countynames']"
   ]
  },
  {
   "cell_type": "markdown",
   "id": "3c3c71db-b030-44a5-a4e0-868648820924",
   "metadata": {},
   "source": [
    "### Merge Non-Shopp with SB1 - Fuzzy Matches"
   ]
  },
  {
   "cell_type": "markdown",
   "id": "a17a882e-2308-443c-8a48-cbc2d1059c54",
   "metadata": {},
   "source": [
    "##### Try with project description since titles are very vague."
   ]
  },
  {
   "cell_type": "code",
   "execution_count": null,
   "id": "7d999b4e-4865-4bf6-98fb-bcf8cacf820d",
   "metadata": {},
   "outputs": [],
   "source": [
    "def replace_matches_set_ratio(df, column, new_col_name, string_to_match, min_ratio):\n",
    "    # Get a list of unique strings\n",
    "    strings = df[column].unique()\n",
    "\n",
    "    # Get the top 10 closest matches to our input string\n",
    "    matches = fuzzywuzzy.process.extract(\n",
    "        string_to_match, strings, limit=10, scorer=fuzzywuzzy.fuzz.token_set_ratio\n",
    "    )\n",
    "\n",
    "    # Only get matches with a  min ratio\n",
    "    close_matches = [matches[0] for matches in matches if matches[1] > min_ratio]\n",
    "\n",
    "    # Get the rows of all the close matches in our dataframe\n",
    "    rows_with_matches = df[column].isin(close_matches)\n",
    "\n",
    "    # replace all rows with close matches with the input matches\n",
    "    df.loc[rows_with_matches, new_col_name] = string_to_match"
   ]
  },
  {
   "cell_type": "code",
   "execution_count": null,
   "id": "4aefc612-ebac-4e64-a9c9-a8aa21269ba0",
   "metadata": {},
   "outputs": [],
   "source": [
    "# Only include projects with a long enough desc\n",
    "# Drop dups\n",
    "sb1_w_projectdesc = ((m3.loc[m3.projectdescription_count > 10])\n",
    ".drop_duplicates(subset = [\"projecttitle_x\", \"projectdescription\", \"countynames\"])\n",
    ".reset_index(drop = True)\n",
    "                    )"
   ]
  },
  {
   "cell_type": "code",
   "execution_count": null,
   "id": "798db401-5957-4851-a7b5-365c5896252b",
   "metadata": {},
   "outputs": [],
   "source": [
    "# Test with nonshopp \n",
    "nonshopp_with_desc = ((nonshopp2.loc[nonshopp2.project_description_count > 10])\n",
    "                     .drop_duplicates(subset = [\"project_name\", \"project_description\", \"full_county_name\"]).reset_index(drop = True)\n",
    "                    )"
   ]
  },
  {
   "cell_type": "code",
   "execution_count": null,
   "id": "90ccce9c-5e97-4d5a-a3b7-d119978eaa14",
   "metadata": {},
   "outputs": [],
   "source": [
    "# Reverse -> replace \n",
    "#for i in sb1_w_projectdesc[\"projectdescription\"].loc[1001:3000].unique().tolist():\n",
    "#    replace_matches_set_ratio(\n",
    "#        nonshopp_with_desc, \"project_description\", \"project_desc_fuzzy_match\", i, 95\n",
    "#  )"
   ]
  },
  {
   "cell_type": "code",
   "execution_count": null,
   "id": "53965952-73b7-4fc9-a106-32411f76cabc",
   "metadata": {},
   "outputs": [],
   "source": [
    "# nonshopp_with_desc = nonshopp_with_desc.loc[nonshopp_with_desc.project_desc_fuzzy_match.notnull()].reset_index(drop = True)"
   ]
  },
  {
   "cell_type": "code",
   "execution_count": null,
   "id": "ea8b9fd1-b8f0-42b3-af97-9d978f92c4ba",
   "metadata": {},
   "outputs": [],
   "source": [
    "# len(nonshopp_with_desc)"
   ]
  },
  {
   "cell_type": "code",
   "execution_count": null,
   "id": "25931d75-bd25-4596-abcd-7d0db8d8d41c",
   "metadata": {},
   "outputs": [],
   "source": [
    "#nonshopp_with_desc[['project_description','project_desc_fuzzy_match']]"
   ]
  },
  {
   "cell_type": "code",
   "execution_count": null,
   "id": "401c2009-b88f-42d1-a945-d92821134461",
   "metadata": {},
   "outputs": [],
   "source": [
    "# fuzzy_desc_list = nonshopp_with_desc.project_description.unique().tolist()"
   ]
  },
  {
   "cell_type": "code",
   "execution_count": null,
   "id": "089a3202-045d-4c21-b2b0-a9d84476891e",
   "metadata": {},
   "outputs": [],
   "source": [
    "fuzzy_desc_list = ['in humboldt county on us 101 between the 6th street interchange pm 984 and the trinidadmain street interchange pm 1007 and along scenic drive and westhaven drive between the community of westhaven and trinidad construction of a new interchange on us 101 and new road connections from us 101 to scenic drive and westhaven drive associated pedestrian and bicycle improvements through the new interchange and along scenic drive and westhaven drive other work will include associated grading drainage utility relocations signage and striping retaining walls etckim floyd 707 4415739',\n",
    " 'on route 70 from laurellen to yubabutte county line continuous passing lanes\\n\\nconstruction 192 of passing lane miles on the state highway',\n",
    " 'eastbound sr12 to eastbound i80 connector  this project would construct a new connector from eastbound sr12 to eastbound i80 which will also connect two previous cmia projects icp and jameson canyon widening projects reconstruction of the i80i680sr12 interchange complex phase 1 includes remaining packages 3 7\\n\\nmodifyimprovereconstruct 1 interchange and 1 bridge and construct 1 new bridge',\n",
    " 'on state route 68 from josselyn canyon road to spreckels blvd operational improvements replaces signalized intersections with roundabouts to achieve smooth traffic flow provide active transportation facilities at intersections and achieve transit benefits achieving these improvements on the existing corridor will preempt need for previouslyconsidered bypass alignment',\n",
    " 'in fresno and kings county about 6 miles north of lemoore from 03 mile north of excelsior avenue undercrossing to 10 mile north of elkhorn avenue widen from 2lane conventional highway to 4lane expressway this project will eliminate the only remaining bottleneck 2lane section of sr 41 between fresno and lemoore on this interregional route between the san joaquin valley and the central coast and reduce accident rates\\n\\nconstruct 24 miles of mixed flow lanes 24 miles of mixed flow mainline 8 new curb ramps and 2 intersectionsignal improvements',\n",
    " 'in fresno county in and near fresno from 04 mile south of american avenue to 04 mile north of north avenue modify interchanges',\n",
    " 'in and near lost hills from 1 mile west of browns material road to california aquaduct  convert from 2lane conventional highway to 4lane expressway\\n\\nnew roadway lane miles 69',\n",
    " 'in diamond bar and the city of industry on route 60 from eb 60 to sb 57 connector overcrossing to near golden springs drive undercrossing and route 57 from nb 57 to wb 60 connector overcrossing to south 5760 separation interchange modifications including auxiliary lanes and three new bridges\\n\\npse completion target date  22822\\n4 interchange modifications 15 miles of auxilary lanes 163929 sqft of new bridgestunnels',\n",
    " 'add one eastbound auxiliary lane 086 miles on sr91 in the city of long beach on sr91 from i710 to cherry avenue undercrossing the proposed improvements consist of adding one auxiliary lane in the eastbound direction extending the outside 5 lane beyond the atlantic ave eb offramp to cherry ave then dropping it before the cherry ave undercrossing and widening the orange ave and walnut ave undercrossing',\n",
    " 'replace eastbound rte 91 to northbound rte 71 loop connector with a direct connector ramp realign the green river road eastbound entrance ramp to rte 91 and construct a collectordistributor system on rte 91 in the eastbound direction between the green river road and serfas club drive\\n1  traffic monitoring detection station\\n1  interchange modification\\n1 mile  aux lane constructed\\n1  freeway ramp meter\\n10000 sqft  new local road bridge structuretunnel\\n1  grade separation  rail crossing improvements\\n2  new curb ramp installed\\n05 miles  aux lanes\\n2000 lf  culvert\\n25 miles  ramp and connector constructed\\n2000000 sqft  modifiedimproved interchange\\n1  ramp modification',\n",
    " 'realign approximately 3 miles of a segment of sr 4 from west of hunt road to appaloosa way beginning approximately 38 miles east of copperopolis and ending approximately 52 miles west of the sr 4sr 49 junction in altaville calaveras county\\n\\nproject will provide 5 curve and vertical alignment corrections construct 7 turn pocket to improve operations construct 624 miles of mainline shoulders and construct 642 miles of new roadway lane miles',\n",
    " 'located in the city of tracy at the i580 and international parkwaypatterson pass rd interchange the project proposes to modify the interchange from the existing compact diamond type l1 to a diverging diamond interchange ddi to accommodate increased commercial truck and traffic demand from existing fulfillment distribution center growth and planned future development in san joaquin county the project will improve interregional goods movement for trucks traveling between the port of oakland bay area local warehouses southern california and outofstate while reducing congestion increases truck throughput and eliminate bottleneck for trucks accessing i580 a key freight highway\\n\\nprovide 1 interchange modifications 2 intersectionsignal improvements 056 miles of communications fiber optics 14 miles of bikeped facilities and modifyimprove 18680 sqft of interchange']"
   ]
  },
  {
   "cell_type": "code",
   "execution_count": null,
   "id": "36c2446b-f22f-4ae2-8e30-17733af6b473",
   "metadata": {},
   "outputs": [],
   "source": [
    "nonshopp_sb1_m3 = pd.merge(\n",
    "    m3,\n",
    "    nonshopp_with_desc[nonshopp_with_desc.project_description.isin(fuzzy_desc_list)],\n",
    "    how=\"inner\",\n",
    "    left_on=[\"projectdescription\", \"countynames\"],\n",
    "    right_on=[\"project_desc_fuzzy_match\", \"full_county_name\"],)"
   ]
  },
  {
   "cell_type": "code",
   "execution_count": null,
   "id": "ec112401-ae32-4ef9-932c-cc9c10307e97",
   "metadata": {},
   "outputs": [],
   "source": [
    "len(nonshopp_sb1_m3)"
   ]
  },
  {
   "cell_type": "code",
   "execution_count": null,
   "id": "2db08e4b-7803-4a4b-80f3-6dc68a371d47",
   "metadata": {},
   "outputs": [],
   "source": [
    "type(nonshopp_sb1_m3)"
   ]
  },
  {
   "cell_type": "code",
   "execution_count": null,
   "id": "9647af54-a774-44c1-9947-97f61cf229b0",
   "metadata": {},
   "outputs": [],
   "source": [
    "# nonshopp_sb1_m3"
   ]
  },
  {
   "cell_type": "markdown",
   "id": "a91b5261-4f89-439a-b82e-7877b7707551",
   "metadata": {
    "tags": []
   },
   "source": [
    "### Compare with 9 Sample Projects"
   ]
  },
  {
   "cell_type": "code",
   "execution_count": null,
   "id": "33ec20f8-9d29-412e-a75b-83db6c644aba",
   "metadata": {},
   "outputs": [],
   "source": [
    "nine_projects_id = [\n",
    "    \"0422000202\",\n",
    "    \"0414000032\",\n",
    "    \"0520000083\",\n",
    "    \"0515000063\",\n",
    "    \"0721000056\",\n",
    "    \"0716000370\",\n",
    "    \"0813000222\",\n",
    "    \"0814000144\",\n",
    "    \"0414000032\",\n",
    "    \"0720000165\",\n",
    "]"
   ]
  },
  {
   "cell_type": "code",
   "execution_count": null,
   "id": "714557b2-469c-42ba-a793-06c9c96c0a20",
   "metadata": {},
   "outputs": [],
   "source": [
    "nine_sample_projects = (nonshopp2[nonshopp2.ct_project_id.isin(nine_projects_id)].reset_index(drop=True))"
   ]
  },
  {
   "cell_type": "code",
   "execution_count": null,
   "id": "fff0ccf4-9cae-4627-988b-3499c329a3f4",
   "metadata": {},
   "outputs": [],
   "source": [
    "len(nine_sample_projects)"
   ]
  },
  {
   "cell_type": "code",
   "execution_count": null,
   "id": "7fbba442-b295-4a9b-b94d-68dc41c0131f",
   "metadata": {},
   "outputs": [],
   "source": [
    "# Subset sb1_geo to only programs these 9 projects have applied for\n",
    "tcep_sccp1 = m3[m3[\"programcodes\"].str.contains(('TCEP|SCCP'))].reset_index(drop = True)"
   ]
  },
  {
   "cell_type": "code",
   "execution_count": null,
   "id": "729a5f9b-34ce-4802-8195-2319a38bc857",
   "metadata": {},
   "outputs": [],
   "source": [
    "# Subset sb1_geo to only programs these 9 projects are located in\n",
    "tcep_sccp2 = m3[m3[\"countynames\"].str.contains(('Alameda|San Mateo|Santa Cruz|San Luis Obispo|Los Angeles|San Bernardino|Riverside'))].reset_index(drop = True)"
   ]
  },
  {
   "cell_type": "code",
   "execution_count": null,
   "id": "cb74fc0e-5ed1-4a40-acd7-84aa24a72733",
   "metadata": {},
   "outputs": [],
   "source": [
    "tcep_sccp2.shape"
   ]
  },
  {
   "cell_type": "code",
   "execution_count": null,
   "id": "3fef812f-a54c-403e-992b-6bb51dcebdd7",
   "metadata": {},
   "outputs": [],
   "source": [
    "tcep_sccp2.programcodes.value_counts()"
   ]
  },
  {
   "cell_type": "code",
   "execution_count": null,
   "id": "3ca74ed0-ffef-4d99-8c7a-970705429169",
   "metadata": {},
   "outputs": [],
   "source": [
    "tcep_sccp2.columns"
   ]
  },
  {
   "cell_type": "code",
   "execution_count": null,
   "id": "d9ed4ea2-9e66-4ddd-b1b6-1c65d7ceaf97",
   "metadata": {},
   "outputs": [],
   "source": [
    "pd.merge(\n",
    "    nine_sample_projects,\n",
    "    tcep_sccp2.drop(columns = [\"_merge\"]),\n",
    "    how=\"outer\",\n",
    "    left_on=[\"ct_project_id\"],\n",
    "    right_on=[\"projectid\"],\n",
    "    indicator=True,\n",
    ")[[\"_merge\"]].value_counts()"
   ]
  },
  {
   "cell_type": "code",
   "execution_count": null,
   "id": "a7475dba-a1dc-414c-8f13-c94d34003069",
   "metadata": {},
   "outputs": [],
   "source": [
    "pd.merge(\n",
    "    nine_sample_projects,\n",
    "    tcep_sccp2.drop(columns = [\"_merge\"]),\n",
    "    how=\"outer\",\n",
    "    left_on=[\"project_name\"],\n",
    "    right_on=[\"projecttitle_x\"],\n",
    "    indicator=True,\n",
    ")[[\"_merge\"]].value_counts()"
   ]
  },
  {
   "cell_type": "markdown",
   "id": "f3a52b8f-aa23-44c6-aee4-59bae929ce38",
   "metadata": {},
   "source": [
    "* Eyeballing matches\n",
    "    * route 395 widening from sr 18 to chamberlaine way in SB1 could match us 395 freight mobility and safety project in Non SHOPP\n",
    "    * state route 1 state park to bayporter auxiliary lanes in SB1 is watsonvillesanta cruz multimodal corridor program wscmcp cycle 3 project contract 1 sr 1 freedom to state park aux lanes bus on shoulders and coastal rail trail segment 12 in non SHOPP"
   ]
  },
  {
   "cell_type": "code",
   "execution_count": null,
   "id": "c03ada7e-43f2-4f22-9ff2-d6ad9704337f",
   "metadata": {
    "scrolled": true,
    "tags": []
   },
   "outputs": [],
   "source": [
    "# tcep_sccp2[['projecttitle_x','agencies','countynames', 'projectdescription']].sort_values(['countynames','projecttitle_x'])"
   ]
  },
  {
   "cell_type": "code",
   "execution_count": null,
   "id": "2eec244d-6141-4655-898d-d10e23cca51d",
   "metadata": {
    "scrolled": true,
    "tags": []
   },
   "outputs": [],
   "source": [
    "# nine_sample_projects[['project_name','lead_agency','full_county_name','project_description']].sort_values(['full_county_name','project_name'])"
   ]
  },
  {
   "cell_type": "code",
   "execution_count": null,
   "id": "bc283dad-5081-4d09-b160-006c9992472a",
   "metadata": {},
   "outputs": [],
   "source": [
    "non_shopp_projects_sb1_list = ['route 395 widening from sr 18 to chamberlaine way', \n",
    "                             'state route 1  state park to bayporter auxiliary lanes']"
   ]
  },
  {
   "cell_type": "code",
   "execution_count": null,
   "id": "2e3dad1e-5626-49a9-aff0-746fb54858e9",
   "metadata": {},
   "outputs": [],
   "source": [
    "non_shopp_projects_in_sb1 = tcep_sccp2[tcep_sccp2[\"projecttitle_x\"].isin(non_shopp_projects_sb1_list)].reset_index(drop = True)"
   ]
  },
  {
   "cell_type": "code",
   "execution_count": null,
   "id": "3586edee-5451-481b-b3b1-2713acae7dc7",
   "metadata": {},
   "outputs": [],
   "source": [
    "non_shopp_projects_in_sb1.projecttitle_x = non_shopp_projects_in_sb1.projecttitle_x.replace({\n",
    "    'route 395 widening from sr 18 to chamberlaine way': 'us 395 freight mobility and safety project',\n",
    "    'state route 1  state park to bayporter auxiliary lanes': 'watsonvillesanta cruz multimodal corridor program wscmcp cycle 3 project contract 1  sr 1 freedom to state park aux lanes bus on shoulders and coastal rail trail segment 12'\n",
    "})"
   ]
  },
  {
   "cell_type": "code",
   "execution_count": null,
   "id": "3be58107-c5b9-48b6-bfdd-571247169e81",
   "metadata": {},
   "outputs": [],
   "source": [
    "non_shopp_projects_in_sb1[['agencies','programcodes', 'countynames','projecttitle_x','projectdescription']]"
   ]
  },
  {
   "cell_type": "code",
   "execution_count": null,
   "id": "5d02f7da-fb30-4fe6-a62c-f73e2efd872e",
   "metadata": {},
   "outputs": [],
   "source": [
    "nonshopp_sb1_m4 = pd.merge(\n",
    "    non_shopp_projects_in_sb1,\n",
    "    nine_sample_projects,\n",
    "    how=\"inner\",\n",
    "    left_on=[\"projecttitle_x\"],\n",
    "    right_on=[\"project_name\"],\n",
    ")"
   ]
  },
  {
   "cell_type": "code",
   "execution_count": null,
   "id": "d6cf4ff9-e128-41e2-9b0b-2ad5d810022c",
   "metadata": {},
   "outputs": [],
   "source": [
    "len(nonshopp_sb1_m4)"
   ]
  },
  {
   "cell_type": "code",
   "execution_count": null,
   "id": "660faea4-9c6d-4041-b131-8f3905342a8a",
   "metadata": {},
   "outputs": [],
   "source": [
    "# nine_sample_projects_geo[['project_name','projecttitle','project_description','projectdescription', 'full_county_name']]"
   ]
  },
  {
   "cell_type": "code",
   "execution_count": null,
   "id": "b1ffa7f6-a4d1-4ffb-986d-5f9681dc2f00",
   "metadata": {},
   "outputs": [],
   "source": [
    "#  _utils.geojson_gcs_export(nine_sample_projects_geo,_utils.GCS_FILE_PATH, 'nine_sample_projects_geom')"
   ]
  },
  {
   "cell_type": "markdown",
   "id": "9f788f4a-dec6-4125-8fcf-f07bbc146b13",
   "metadata": {},
   "source": [
    "### Concat all the matches"
   ]
  },
  {
   "cell_type": "code",
   "execution_count": null,
   "id": "365cd38c-1f5e-46b8-befe-d0e856deb421",
   "metadata": {},
   "outputs": [],
   "source": [
    "nonshopp_geo = pd.concat([nonshopp_sb1_m1, nonshopp_sb1_m2, nonshopp_sb1_m3, nonshopp_sb1_m4], sort=False)"
   ]
  },
  {
   "cell_type": "code",
   "execution_count": null,
   "id": "83994359-cd6b-4830-bac4-8046b12aea00",
   "metadata": {},
   "outputs": [],
   "source": [
    "type(nonshopp_geo)"
   ]
  },
  {
   "cell_type": "code",
   "execution_count": null,
   "id": "7dfea856-f368-4b5e-8d57-c461f72eaaa2",
   "metadata": {},
   "outputs": [],
   "source": [
    "len(nonshopp_geo)"
   ]
  },
  {
   "cell_type": "code",
   "execution_count": null,
   "id": "28ea2190-4a8c-4dce-884f-7b4ee665c6ce",
   "metadata": {},
   "outputs": [],
   "source": [
    "sb1_cols = m3.columns.tolist()"
   ]
  },
  {
   "cell_type": "code",
   "execution_count": null,
   "id": "0b94e432-f19c-48fd-92d6-229823d8b05b",
   "metadata": {},
   "outputs": [],
   "source": [
    "sb1_cols.remove('geometry')"
   ]
  },
  {
   "cell_type": "code",
   "execution_count": null,
   "id": "ce03cc58-8dc1-4ff5-90b9-1ceee1647d5c",
   "metadata": {},
   "outputs": [],
   "source": [
    "sb1_cols.extend(['project_name_count',\n",
    " 'project_description_count',\n",
    " 'project_title_fuzzy_match',\n",
    " 'project_desc_fuzzy_match'])"
   ]
  },
  {
   "cell_type": "code",
   "execution_count": null,
   "id": "46b5a636-0bd4-4871-aa82-f014402497d2",
   "metadata": {},
   "outputs": [],
   "source": [
    "# Delete out the columns from SB1 except geometry\n",
    "nonshopp_geo2 = nonshopp_geo.drop(columns = sb1_cols)"
   ]
  },
  {
   "cell_type": "code",
   "execution_count": null,
   "id": "1f1203d5-47d9-442f-abb9-9d6573678c78",
   "metadata": {},
   "outputs": [],
   "source": [
    "nonshopp_geo2[['previous_caltrans_nominations']].drop_duplicates()"
   ]
  },
  {
   "cell_type": "code",
   "execution_count": null,
   "id": "b6b53590-458b-45f5-9ea7-fcac62cb6479",
   "metadata": {},
   "outputs": [],
   "source": [
    "# nonshopp_geo2.explore(tooltip = ['project_name','project_description', 'lead_agency', 'previous_caltrans_nominations'], marker_type='marker', marker_kwds={\"radius\":3})"
   ]
  },
  {
   "cell_type": "code",
   "execution_count": null,
   "id": "e74124f1-fb8c-4615-9cd4-cc72ac8778e1",
   "metadata": {},
   "outputs": [],
   "source": [
    "# utils.geoparquet_gcs_export(nonshopp_geo2,_utils.GCS_FILE_PATH, 'nonshopp_gdf')"
   ]
  },
  {
   "cell_type": "markdown",
   "id": "078d8da9-5f7f-4a41-ad87-3f98705bb586",
   "metadata": {
    "tags": []
   },
   "source": [
    "### Save as Geoparquet"
   ]
  },
  {
   "cell_type": "code",
   "execution_count": null,
   "id": "b8dd3a06-0a87-4873-9566-b72edd8e08b7",
   "metadata": {},
   "outputs": [],
   "source": [
    "#with get_fs().open(f\"{_utils.GCS_FILE_PATH}nine_sample_projects_geom.geojson\") as f:\n",
    " #   nine_projects = to_snakecase(gpd.read_file(f))"
   ]
  },
  {
   "cell_type": "code",
   "execution_count": null,
   "id": "090398ae-e541-4b20-b0c0-24b4a6c8c05f",
   "metadata": {},
   "outputs": [],
   "source": [
    "# nine_projects"
   ]
  },
  {
   "cell_type": "code",
   "execution_count": null,
   "id": "151ca5c5-f05a-494e-a9f0-f9d8d772afd6",
   "metadata": {},
   "outputs": [],
   "source": [
    "# utils.geoparquet_gcs_export(nine_projects, _utils.GCS_FILE_PATH, \"nine_sample_projects\")"
   ]
  },
  {
   "cell_type": "code",
   "execution_count": null,
   "id": "365e8b5b-28c0-47a5-9f94-099f0dfac7c7",
   "metadata": {},
   "outputs": [],
   "source": [
    "#with get_fs().open(f\"{_utils.GCS_FILE_PATH}nonshopp_gdf.geojson\") as f:\n",
    "#    nonshopp_with_geo = to_snakecase(gpd.read_file(f))"
   ]
  },
  {
   "cell_type": "code",
   "execution_count": null,
   "id": "f8608de6-6a43-455a-9e12-fee6aaa21855",
   "metadata": {},
   "outputs": [],
   "source": [
    "# utils.geoparquet_gcs_export(nonshopp_with_geo, _utils.GCS_FILE_PATH, \"nonshopp_with_geo\")"
   ]
  },
  {
   "cell_type": "code",
   "execution_count": null,
   "id": "a570f16b-30bf-4dfa-b1ee-f6745baec02f",
   "metadata": {},
   "outputs": [],
   "source": [
    "#test1 = gpd.read_parquet(\n",
    "#    \"gs://calitp-analytics-data/data-analyses/project_prioritization/nine_sample_projects.parquet\"\n",
    "#)"
   ]
  },
  {
   "cell_type": "code",
   "execution_count": null,
   "id": "24230a75-9f53-4aac-be1b-984e78567802",
   "metadata": {},
   "outputs": [],
   "source": [
    "#test2 = gpd.read_parquet(\n",
    "#    \"gs://calitp-analytics-data/data-analyses/project_prioritization/nonshopp_with_geo.parquet\"\n",
    "#)"
   ]
  },
  {
   "cell_type": "code",
   "execution_count": null,
   "id": "432d0813-6322-4dc0-936f-4959c05c4b27",
   "metadata": {},
   "outputs": [],
   "source": [
    "# test2.explore()"
   ]
  }
 ],
 "metadata": {
  "kernelspec": {
   "display_name": "Python 3 (ipykernel)",
   "language": "python",
   "name": "python3"
  },
  "language_info": {
   "codemirror_mode": {
    "name": "ipython",
    "version": 3
   },
   "file_extension": ".py",
   "mimetype": "text/x-python",
   "name": "python",
   "nbconvert_exporter": "python",
   "pygments_lexer": "ipython3",
   "version": "3.9.13"
  }
 },
 "nbformat": 4,
 "nbformat_minor": 5
}
