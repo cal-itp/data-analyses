{
 "cells": [
  {
   "cell_type": "markdown",
   "id": "1a173285-41bd-4523-8d4b-b5474ec1b034",
   "metadata": {},
   "source": [
    "## Add SB1 geographic information."
   ]
  },
  {
   "cell_type": "code",
   "execution_count": 1,
   "id": "22b768e0-0316-4684-a4b2-683dcd82a323",
   "metadata": {},
   "outputs": [
    {
     "name": "stderr",
     "output_type": "stream",
     "text": [
      "/opt/conda/lib/python3.9/site-packages/geopandas/_compat.py:123: UserWarning: The Shapely GEOS version (3.10.3-CAPI-1.16.1) is incompatible with the GEOS version PyGEOS was compiled with (3.10.1-CAPI-1.16.0). Conversions between both will be slow.\n",
      "  warnings.warn(\n"
     ]
    }
   ],
   "source": [
    "import _utils\n",
    "import geopandas as gpd\n",
    "import numpy as np\n",
    "import pandas as pd\n",
    "from calitp.sql import to_snakecase"
   ]
  },
  {
   "cell_type": "code",
   "execution_count": 2,
   "id": "736a052e-ea23-4b87-bdf9-43d5b396c9e7",
   "metadata": {},
   "outputs": [
    {
     "name": "stderr",
     "output_type": "stream",
     "text": [
      "/opt/conda/lib/python3.9/site-packages/fuzzywuzzy/fuzz.py:11: UserWarning: Using slow pure-python SequenceMatcher. Install python-Levenshtein to remove this warning\n"
     ]
    }
   ],
   "source": [
    "import fuzzywuzzy\n",
    "from fuzzywuzzy import process"
   ]
  },
  {
   "cell_type": "code",
   "execution_count": 3,
   "id": "c375e3ed-515c-4762-a8aa-2c448a5433f9",
   "metadata": {},
   "outputs": [],
   "source": [
    "import fsspec\n",
    "from calitp import *\n",
    "from calitp.storage import get_fs\n",
    "\n",
    "fs = get_fs()\n",
    "import os"
   ]
  },
  {
   "cell_type": "code",
   "execution_count": 4,
   "id": "c7bbc54d-4a75-4b6d-8ed8-a44ec2685cd9",
   "metadata": {},
   "outputs": [],
   "source": [
    "pd.options.display.max_columns = 200\n",
    "pd.set_option(\"display.max_rows\", None)\n",
    "pd.set_option(\"display.max_colwidth\", None)"
   ]
  },
  {
   "cell_type": "code",
   "execution_count": 5,
   "id": "237a5df4-60b9-4b73-858e-0468dad85d15",
   "metadata": {},
   "outputs": [],
   "source": [
    "def basic_cleaning(df, agency_col: str,\n",
    "                   project_name_col:str,\n",
    "                   project_id_col: str, \n",
    "                   project_desc_col:str,\n",
    "                   data:str):\n",
    "    \n",
    "    df = _utils.organization_cleaning(df, agency_col)\n",
    "    \n",
    "    # Remove all punctation, lowercase, and strip whitespaces from \n",
    "    # project titles & descriptions. Count number of strings.\n",
    "    for i in [project_name_col, project_desc_col]:\n",
    "        df[i] = (df[i].str.lower().str.replace('[^\\w\\s]','').str.strip())\n",
    "        df[f\"{i}_count\"] = df[i].str.count('\\w+')\n",
    "                 \n",
    "    # Some project names contain the year. Remove anything after 20..\n",
    "    df[project_name_col] = df[project_name_col].str.split(\"20\").str[0]\n",
    "    \n",
    "    # Project ID, remove all commas and lowercase if there are strings\n",
    "    df[project_id_col] = (df[project_id_col].str.replace(\"'\", \"\").str.lower().str.strip())\n",
    "    \n",
    "    # Get rid of | in object cols\n",
    "    # https://stackoverflow.com/questions/68152902/extracting-only-object-type-columns-in-a-separate-list-from-a-data-frame-in-pand\n",
    "    string_cols = df.select_dtypes(include=['object']).columns.to_list()\n",
    "    try:\n",
    "        for i in string_cols:\n",
    "            df[i] = df[i].str.replace(\"|\", \"\")\n",
    "    except:\n",
    "        pass\n",
    "    \n",
    "    # Try to extract titles from popups\n",
    "    try:\n",
    "        df[\"popup\"] = df['popup'].str.split(\"<br  />\").str[1].str.split(\"20\").str[0].str.lower().str.strip().str.replace('[^\\w\\s]','')\n",
    "    except:\n",
    "        pass\n",
    " \n",
    "    return df"
   ]
  },
  {
   "cell_type": "markdown",
   "id": "648c5012-12e3-4f04-8abe-8b254bca0665",
   "metadata": {
    "tags": []
   },
   "source": [
    "### Non SHOPP\n",
    "* No year information for projects."
   ]
  },
  {
   "cell_type": "code",
   "execution_count": 6,
   "id": "6b483a64-786d-4d9c-96e8-0bfe429ffd2a",
   "metadata": {},
   "outputs": [],
   "source": [
    "# Read in 10 Year non SHOPP with ATP and TIRCP\n",
    "nonshopp = to_snakecase(\n",
    "    pd.read_excel(f\"{_utils.GCS_FILE_PATH}cleaned_data_atp_tircp.xlsx\")\n",
    ")"
   ]
  },
  {
   "cell_type": "code",
   "execution_count": 7,
   "id": "aa0c6362-1f89-4112-a55f-6928841266ce",
   "metadata": {},
   "outputs": [],
   "source": [
    "# Subset to join.\n",
    "non_shopp_subset = [\n",
    "    \"ppno\",\n",
    "    \"ct_project_id\",\n",
    "    \"ea\",\n",
    "    \"project_name\",\n",
    "    \"lead_agency\",\n",
    "    \"previous_caltrans_nominations\",\n",
    "    \"full_county_name\",\n",
    "    \"county\",\n",
    "    \"district_full_name\",\n",
    "    \"district\",\n",
    "    \"project_description\",\n",
    "    \"current_phase\",\n",
    "    \"primary_mode\",\n",
    "    \"urban_rural\",\n",
    "    \"total_project_cost__$1,000\",\n",
    "    \"total_unfunded_need__$1,000\",\n",
    "    \"shs_capacity_increase_detail\",\n",
    "    \"current_phase\",\n",
    "]"
   ]
  },
  {
   "cell_type": "code",
   "execution_count": 8,
   "id": "a63dc3e3-2485-4331-b370-c6fdf2c57952",
   "metadata": {},
   "outputs": [],
   "source": [
    "# nonshopp = nonshopp[non_shopp_subset]"
   ]
  },
  {
   "cell_type": "code",
   "execution_count": 9,
   "id": "06967d23-860f-4d11-a4ed-18675a5070e6",
   "metadata": {},
   "outputs": [],
   "source": [
    "# Add a digit in front of single digits\n",
    "nonshopp.district = nonshopp.district.map(\"{:02}\".format)"
   ]
  },
  {
   "cell_type": "code",
   "execution_count": 10,
   "id": "388aab8a-a885-4cd2-98b2-7dd6e5b24b82",
   "metadata": {},
   "outputs": [
    {
     "name": "stderr",
     "output_type": "stream",
     "text": [
      "/tmp/ipykernel_1370/4071008590.py:12: FutureWarning: The default value of regex will change from True to False in a future version.\n",
      "/tmp/ipykernel_1370/4071008590.py:26: FutureWarning: The default value of regex will change from True to False in a future version. In addition, single character regular expressions will *not* be treated as literal strings when regex=True.\n"
     ]
    }
   ],
   "source": [
    "nonshopp = basic_cleaning(nonshopp, \"lead_agency\", \"project_name\", \"ct_project_id\", \"project_description\", \"nonshopp\")"
   ]
  },
  {
   "cell_type": "code",
   "execution_count": 11,
   "id": "6f70af1c-f0c1-4eee-863e-4461c4e15b16",
   "metadata": {},
   "outputs": [
    {
     "data": {
      "text/html": [
       "<div>\n",
       "<style scoped>\n",
       "    .dataframe tbody tr th:only-of-type {\n",
       "        vertical-align: middle;\n",
       "    }\n",
       "\n",
       "    .dataframe tbody tr th {\n",
       "        vertical-align: top;\n",
       "    }\n",
       "\n",
       "    .dataframe thead th {\n",
       "        text-align: right;\n",
       "    }\n",
       "</style>\n",
       "<table border=\"1\" class=\"dataframe\">\n",
       "  <thead>\n",
       "    <tr style=\"text-align: right;\">\n",
       "      <th></th>\n",
       "      <th>project_name</th>\n",
       "      <th>project_name_count</th>\n",
       "    </tr>\n",
       "  </thead>\n",
       "  <tbody>\n",
       "    <tr>\n",
       "      <th>583</th>\n",
       "      <td>valley link ios  southfront to dublinpleasanton</td>\n",
       "      <td>6</td>\n",
       "    </tr>\n",
       "    <tr>\n",
       "      <th>503</th>\n",
       "      <td>sr 91 from east la palma avenue to route 55 improve complex interchanges \\n segment 2</td>\n",
       "      <td>15</td>\n",
       "    </tr>\n",
       "    <tr>\n",
       "      <th>296</th>\n",
       "      <td>operationalsafety improvement</td>\n",
       "      <td>2</td>\n",
       "    </tr>\n",
       "  </tbody>\n",
       "</table>\n",
       "</div>"
      ],
      "text/plain": [
       "                                                                              project_name  \\\n",
       "583                                        valley link ios  southfront to dublinpleasanton   \n",
       "503  sr 91 from east la palma avenue to route 55 improve complex interchanges \\n segment 2   \n",
       "296                                                          operationalsafety improvement   \n",
       "\n",
       "     project_name_count  \n",
       "583                   6  \n",
       "503                  15  \n",
       "296                   2  "
      ]
     },
     "execution_count": 11,
     "metadata": {},
     "output_type": "execute_result"
    }
   ],
   "source": [
    "nonshopp[['project_name', 'project_name_count']].sample(3)"
   ]
  },
  {
   "cell_type": "code",
   "execution_count": null,
   "id": "3e217738-36f1-4c7e-939d-dda2c86dc95d",
   "metadata": {},
   "outputs": [],
   "source": [
    "nine_projects_names = [\n",
    "    \"LA-210 Median Concrete Barrier Renovation\",\n",
    "    \"SR-14 Widening Project\",\n",
    "    \"US 395 Freight Mobility and Safety Project\",\n",
    "    \"East Bay Greenway Multimodal Corridor Project\",\n",
    "    \"Watsonville-Santa Cruz Multimodal Corridor Program\",\n",
    "    \"SM 101 Woodside Road Interchange and Port Access Project\",\n",
    "    \"I-710 Integrated Corridor Management\",\n",
    "    \"Five Cities Multimodal Transportation Network Enhancement Project\",\n",
    "    \"SR-86/Avenue 50 New Interchange (Phase II)\",\n",
    "]"
   ]
  },
  {
   "cell_type": "code",
   "execution_count": null,
   "id": "8834ce41-93b4-4978-a1bf-d4595dad14a6",
   "metadata": {},
   "outputs": [],
   "source": [
    "# nine_projects_names = [x.lower() for x in nine_projects_names]"
   ]
  },
  {
   "cell_type": "code",
   "execution_count": null,
   "id": "8b7deddf-30b5-4071-8a9c-2bd91c9cdc25",
   "metadata": {},
   "outputs": [],
   "source": [
    "nine_projects_id = [\n",
    "    \"0422000202\",\n",
    "    \"0414000032\",\n",
    "    \"0520000083\",\n",
    "    \"0515000063\",\n",
    "    \"0721000056\",\n",
    "    \"0716000370\",\n",
    "    \"0813000222\",\n",
    "    \"0814000144\",\n",
    "    \"0414000032\",\n",
    "    \"0720000165\",\n",
    "]"
   ]
  },
  {
   "cell_type": "code",
   "execution_count": 15,
   "id": "86fcc2e9-e7d2-413e-bf0f-a133f9e1d628",
   "metadata": {},
   "outputs": [],
   "source": [
    " nine_sample_projects = (nonshopp[nonshopp.ct_project_id.isin(nine_projects_id)].reset_index(drop=True))"
   ]
  },
  {
   "cell_type": "markdown",
   "id": "87abc3fd-7d93-45da-ac5c-886f01e00d0b",
   "metadata": {},
   "source": [
    "* Solutions for Congest Corridors (SCCP): 1\n",
    "* Trade Corridor Enhancement Program (TCEP): 3\n",
    "* Only 3 projects seem to have been awarded. \n",
    "    * east bay greenway multimodal corridor project phase 1\n",
    "    * us 101woodside road interchange and port access project\n",
    "    * watsonvillesanta cruz multimodal corridor program wscmcp cycle 3 project contract 1 sr 1 freedom to state park aux lanes bus on shoulders and coastal rail trail segment 12"
   ]
  },
  {
   "cell_type": "code",
   "execution_count": 16,
   "id": "d001144d-7528-43d7-8b60-32d925ccf080",
   "metadata": {
    "scrolled": true,
    "tags": []
   },
   "outputs": [],
   "source": [
    "# nine_sample_projects[['project_name','project_description','county','previous_caltrans_nominations']]"
   ]
  },
  {
   "cell_type": "markdown",
   "id": "fdb18805-5114-4180-ab25-911c37435f42",
   "metadata": {},
   "source": [
    "### Sb1 Geo\n",
    "* https://odpsvcs.dot.ca.gov/arcgis/rest/services/RCA/RCA_Projects_032022/FeatureServer"
   ]
  },
  {
   "cell_type": "code",
   "execution_count": 17,
   "id": "569fabbe-78eb-4f85-a8ec-4ff5aaf74c8e",
   "metadata": {},
   "outputs": [],
   "source": [
    "# Subset to preview SB1 vs Nonshopp. Nonshopp is on the left, sb1 on the right\n",
    "preview_cols =  ['project_name','projecttitle','project_description','projectdescription', 'full_county_name', 'countynames']"
   ]
  },
  {
   "cell_type": "code",
   "execution_count": 18,
   "id": "66078fe9-1813-4114-8cd3-f202d767d42f",
   "metadata": {},
   "outputs": [],
   "source": [
    "url_pt1 = \"https://odpsvcs.dot.ca.gov/arcgis/rest/services/RCA/RCA_Projects_032022/FeatureServer/\"\n",
    "url_pt2 = \"/query?where=1%3D1&objectIds=&time=&geometry=&geometryType=esriGeometryEnvelope&inSR=&spatialRel=esriSpatialRelIntersects&distance=&units=esriSRUnit_Foot&relationParam=&outFields=*+&returnGeometry=true&maxAllowableOffset=&geometryPrecision=&outSR=&gdbVersion=&historicMoment=&returnDistinctValues=false&returnIdsOnly=false&returnCountOnly=false&returnExtentOnly=false&orderByFields=&groupByFieldsForStatistics=&outStatistics=&returnZ=false&returnM=false&multipatchOption=&resultOffset=&resultRecordCount=&returnTrueCurves=false&sqlFormat=none&f=geojson\""
   ]
  },
  {
   "cell_type": "code",
   "execution_count": 19,
   "id": "1d4ea347-27e9-46e0-896b-d46d31cb583c",
   "metadata": {},
   "outputs": [],
   "source": [
    "def rest_server():\n",
    "    full_gdf = pd.DataFrame()\n",
    "    for i in [*range(0,22)]:\n",
    "        df = to_snakecase(gpd.read_file(f\"{url_pt1}{i}{url_pt2}\"))\n",
    "        full_gdf = pd.concat([full_gdf, df], axis=0)\n",
    "    return full_gdf"
   ]
  },
  {
   "cell_type": "code",
   "execution_count": 20,
   "id": "8871efb7-866e-4eba-8de0-47aba5974e09",
   "metadata": {},
   "outputs": [],
   "source": [
    "sb1_geo1 = rest_server()"
   ]
  },
  {
   "cell_type": "code",
   "execution_count": 21,
   "id": "b71026af-d108-4686-8461-c1e50f6c4442",
   "metadata": {},
   "outputs": [],
   "source": [
    "# tircp = to_snakecase(gpd.read_file(\"https://odpsvcs.dot.ca.gov/arcgis/rest/services/RCA/RCA_Projects_032022/FeatureServer/5/query?where=1%3D1&objectIds=&time=&geometry=&geometryType=esriGeometryEnvelope&inSR=&spatialRel=esriSpatialRelIntersects&distance=&units=esriSRUnit_Foot&relationParam=&outFields=*+&returnGeometry=true&maxAllowableOffset=&geometryPrecision=&outSR=&gdbVersion=&historicMoment=&returnDistinctValues=false&returnIdsOnly=false&returnCountOnly=false&returnExtentOnly=false&orderByFields=&groupByFieldsForStatistics=&outStatistics=&returnZ=false&returnM=false&multipatchOption=&resultOffset=&resultRecordCount=&returnTrueCurves=false&sqlFormat=none&f=geojson\"))"
   ]
  },
  {
   "cell_type": "code",
   "execution_count": 150,
   "id": "8d25287d-ffd9-476c-bbe9-85ffcc3e86f4",
   "metadata": {},
   "outputs": [],
   "source": [
    "# atp = to_snakecase(gpd.read_file(\"https://odpsvcs.dot.ca.gov/arcgis/rest/services/RCA/RCA_Projects_032022/FeatureServer/12/query?where=1%3D1&objectIds=&time=&geometry=&geometryType=esriGeometryEnvelope&inSR=&spatialRel=esriSpatialRelIntersects&distance=&units=esriSRUnit_Foot&relationParam=&outFields=*+&returnGeometry=true&maxAllowableOffset=&geometryPrecision=&outSR=&gdbVersion=&historicMoment=&returnDistinctValues=false&returnIdsOnly=false&returnCountOnly=false&returnExtentOnly=false&orderByFields=&groupByFieldsForStatistics=&outStatistics=&returnZ=false&returnM=false&multipatchOption=&resultOffset=&resultRecordCount=&returnTrueCurves=false&sqlFormat=none&f=geojson\"))"
   ]
  },
  {
   "cell_type": "code",
   "execution_count": 24,
   "id": "2f810e79-6227-4c12-940d-3b8f92f7e1fd",
   "metadata": {},
   "outputs": [
    {
     "name": "stderr",
     "output_type": "stream",
     "text": [
      "/tmp/ipykernel_1370/4071008590.py:12: FutureWarning: The default value of regex will change from True to False in a future version.\n",
      "/tmp/ipykernel_1370/4071008590.py:26: FutureWarning: The default value of regex will change from True to False in a future version. In addition, single character regular expressions will *not* be treated as literal strings when regex=True.\n",
      "/tmp/ipykernel_1370/4071008590.py:32: FutureWarning: The default value of regex will change from True to False in a future version.\n"
     ]
    }
   ],
   "source": [
    "sb1_geo2 = basic_cleaning(sb1_geo1, 'agencies','projecttitle','projectid',\n",
    "                         'projectdescription', 'sb1')"
   ]
  },
  {
   "cell_type": "code",
   "execution_count": 25,
   "id": "dc719fd3-0939-4d6f-9ada-e31dacdbc6af",
   "metadata": {},
   "outputs": [],
   "source": [
    "sb1_geo2['projecttitle'] = sb1_geo2['projecttitle'].fillna(sb1_geo2['popup'])"
   ]
  },
  {
   "cell_type": "code",
   "execution_count": 26,
   "id": "d7bec9fb-c72f-4644-91c8-b8d019843a70",
   "metadata": {},
   "outputs": [
    {
     "data": {
      "text/plain": [
       "SHOPP    2741\n",
       "HM       1163\n",
       "LSR       509\n",
       "ATP       321\n",
       "SHOPA     165\n",
       "SGR       161\n",
       "STIP      126\n",
       "TIRCP      96\n",
       "LPP-F      68\n",
       "TCEP       63\n",
       "LPP-C      57\n",
       "SCCP       49\n",
       "STA        49\n",
       "FM         12\n",
       "SRA        11\n",
       "Name: programcodes, dtype: int64"
      ]
     },
     "execution_count": 26,
     "metadata": {},
     "output_type": "execute_result"
    }
   ],
   "source": [
    "sb1_geo2.programcodes.value_counts()"
   ]
  },
  {
   "cell_type": "markdown",
   "id": "c19c4979-756b-4d03-8ef4-4c1e05da7102",
   "metadata": {},
   "source": [
    "#### Check geometries\n",
    "* Take away invalid row."
   ]
  },
  {
   "cell_type": "code",
   "execution_count": 27,
   "id": "3a14fd39-d217-42dc-9d8d-b8a1b1f7b559",
   "metadata": {},
   "outputs": [],
   "source": [
    "# All geometry is valid\n",
    "#sb1_geo2.geometry.is_valid.sum() == len(sb1_geo2)"
   ]
  },
  {
   "cell_type": "code",
   "execution_count": 28,
   "id": "f51de107-8fb6-4d05-86a6-6111753452c6",
   "metadata": {},
   "outputs": [],
   "source": [
    "#sb1_geo2.geometry.notna().sum()  == len(sb1_geo2)"
   ]
  },
  {
   "cell_type": "code",
   "execution_count": 29,
   "id": "3a14399a-65f7-4c4a-8dff-770a5a8428c0",
   "metadata": {},
   "outputs": [],
   "source": [
    "#len(sb1_geo2[~sb1_geo2.geometry.is_empty]) "
   ]
  },
  {
   "cell_type": "code",
   "execution_count": 30,
   "id": "225588db-cf65-4420-91f5-529f94f04e0f",
   "metadata": {
    "scrolled": true,
    "tags": []
   },
   "outputs": [],
   "source": [
    "# Throw out missing geometry\n",
    "missing_geo = sb1_geo2[sb1_geo2.geometry.is_empty]"
   ]
  },
  {
   "cell_type": "code",
   "execution_count": 31,
   "id": "99ca9efa-a295-4a43-bf7d-866fe5def071",
   "metadata": {},
   "outputs": [
    {
     "data": {
      "text/plain": [
       "1"
      ]
     },
     "execution_count": 31,
     "metadata": {},
     "output_type": "execute_result"
    }
   ],
   "source": [
    "len(missing_geo)"
   ]
  },
  {
   "cell_type": "code",
   "execution_count": 32,
   "id": "52e55d21-d807-4bf8-ac14-6e0d7c1b624f",
   "metadata": {},
   "outputs": [],
   "source": [
    "sb1_geo2 = sb1_geo2[~sb1_geo2.geometry.is_empty].reset_index(drop = True)"
   ]
  },
  {
   "cell_type": "code",
   "execution_count": 33,
   "id": "cd71460f-35f5-46ae-a93a-5191bdde60f7",
   "metadata": {},
   "outputs": [],
   "source": [
    "# len(sb1_geo2) == len(sb1_geo2[~sb1_geo2.geometry.is_empty]) "
   ]
  },
  {
   "cell_type": "code",
   "execution_count": 34,
   "id": "adde595b-1aeb-467f-a6f7-a0fb2b41db63",
   "metadata": {},
   "outputs": [
    {
     "data": {
      "text/plain": [
       "(5590, 40)"
      ]
     },
     "execution_count": 34,
     "metadata": {},
     "output_type": "execute_result"
    }
   ],
   "source": [
    "sb1_geo2.shape"
   ]
  },
  {
   "cell_type": "code",
   "execution_count": 35,
   "id": "a8e5a8eb-23bb-4741-a674-06d3448b1431",
   "metadata": {},
   "outputs": [],
   "source": [
    "# sb1_geo.countynames.sort_values().unique()"
   ]
  },
  {
   "cell_type": "code",
   "execution_count": 36,
   "id": "a4f51702-caca-4c01-b7d6-23de04012ead",
   "metadata": {},
   "outputs": [],
   "source": [
    "# sb1_geo.explore()"
   ]
  },
  {
   "cell_type": "markdown",
   "id": "418cf408-395b-4129-9627-c194bb7eee7b",
   "metadata": {
    "tags": []
   },
   "source": [
    "### Read in all projects\n",
    "* Need this because not every file has project names."
   ]
  },
  {
   "cell_type": "code",
   "execution_count": 37,
   "id": "57760f7c-453e-4d1e-9055-911fdc5dd74b",
   "metadata": {},
   "outputs": [],
   "source": [
    "sb1_all_projects_url = f\"{url_pt1}22{url_pt2}\""
   ]
  },
  {
   "cell_type": "code",
   "execution_count": 38,
   "id": "98ad0ce0-1ec1-4686-b088-51f1d5d4ea72",
   "metadata": {},
   "outputs": [],
   "source": [
    "sb1_all_projects = to_snakecase(gpd.read_file(sb1_all_projects_url))"
   ]
  },
  {
   "cell_type": "code",
   "execution_count": 39,
   "id": "f097a019-a828-4117-bd5f-b26adb5c7ca1",
   "metadata": {},
   "outputs": [
    {
     "data": {
      "text/plain": [
       "Series([], Name: geometry, dtype: int64)"
      ]
     },
     "execution_count": 39,
     "metadata": {},
     "output_type": "execute_result"
    }
   ],
   "source": [
    "sb1_all_projects.geometry.value_counts()"
   ]
  },
  {
   "cell_type": "code",
   "execution_count": 40,
   "id": "a87ebb9b-4ca9-45d0-9e58-01a13ab873ef",
   "metadata": {},
   "outputs": [],
   "source": [
    "# No geometry, just drop it\n",
    "sb1_all_projects = sb1_all_projects.drop(columns=[\"geometry\"])"
   ]
  },
  {
   "cell_type": "code",
   "execution_count": 41,
   "id": "f55b97c2-29d6-4d66-a602-a87c0a649f12",
   "metadata": {},
   "outputs": [
    {
     "name": "stderr",
     "output_type": "stream",
     "text": [
      "/tmp/ipykernel_1370/4071008590.py:12: FutureWarning: The default value of regex will change from True to False in a future version.\n",
      "/tmp/ipykernel_1370/4071008590.py:26: FutureWarning: The default value of regex will change from True to False in a future version. In addition, single character regular expressions will *not* be treated as literal strings when regex=True.\n"
     ]
    }
   ],
   "source": [
    "sb1_all_projects = basic_cleaning(sb1_all_projects, 'implementingagency','projecttitle','projectid',\n",
    "                         'projectdescription', 'sb1')"
   ]
  },
  {
   "cell_type": "code",
   "execution_count": 42,
   "id": "cd7b978f-e0fe-4cf9-9cfa-fe0993b78e27",
   "metadata": {},
   "outputs": [
    {
     "data": {
      "text/plain": [
       "((9656, 38), 5063)"
      ]
     },
     "execution_count": 42,
     "metadata": {},
     "output_type": "execute_result"
    }
   ],
   "source": [
    "sb1_all_projects.shape, sb1_all_projects.projecttitle.nunique()"
   ]
  },
  {
   "cell_type": "code",
   "execution_count": 43,
   "id": "57860ae6-3745-414b-8d28-c1425a128550",
   "metadata": {},
   "outputs": [],
   "source": [
    "# Project ID matches...\n",
    "all_projects_project_id = set(sb1_all_projects.projectid.unique().tolist())\n",
    "sb1_geo2_project_id = set(sb1_geo2.projectid.unique().tolist())"
   ]
  },
  {
   "cell_type": "code",
   "execution_count": 44,
   "id": "220737ab-2e7b-4f76-8c44-4982d9333f1c",
   "metadata": {},
   "outputs": [
    {
     "data": {
      "text/plain": [
       "3959"
      ]
     },
     "execution_count": 44,
     "metadata": {},
     "output_type": "execute_result"
    }
   ],
   "source": [
    "len(list(set(sb1_geo2_project_id).intersection(all_projects_project_id)))"
   ]
  },
  {
   "cell_type": "code",
   "execution_count": 45,
   "id": "a8f515e0-b357-4ac8-82ca-059445cea508",
   "metadata": {},
   "outputs": [
    {
     "data": {
      "text/plain": [
       "96"
      ]
     },
     "execution_count": 45,
     "metadata": {},
     "output_type": "execute_result"
    }
   ],
   "source": [
    "len(sb1_geo2_project_id - all_projects_project_id)"
   ]
  },
  {
   "cell_type": "code",
   "execution_count": 46,
   "id": "62a854ea-7b10-47d0-bcd8-3b47e80768ad",
   "metadata": {},
   "outputs": [
    {
     "data": {
      "text/plain": [
       "5590"
      ]
     },
     "execution_count": 46,
     "metadata": {},
     "output_type": "execute_result"
    }
   ],
   "source": [
    "len(sb1_geo2)"
   ]
  },
  {
   "cell_type": "code",
   "execution_count": 47,
   "id": "0ac51b72-a375-49ea-a527-d320557c2d21",
   "metadata": {},
   "outputs": [],
   "source": [
    "# None of the object id matches \n",
    "all_projects_object_id = set(sb1_all_projects.objectid.unique().tolist())\n",
    "sb1_geo2_object_id = set(sb1_geo2.objectid.unique().tolist())"
   ]
  },
  {
   "cell_type": "code",
   "execution_count": 48,
   "id": "344f6e3d-ef45-41fa-85c7-9e058719c571",
   "metadata": {},
   "outputs": [
    {
     "data": {
      "text/plain": [
       "(4606, 4606)"
      ]
     },
     "execution_count": 48,
     "metadata": {},
     "output_type": "execute_result"
    }
   ],
   "source": [
    "len(sb1_geo2_object_id - all_projects_object_id), len(sb1_geo2_object_id)"
   ]
  },
  {
   "cell_type": "code",
   "execution_count": 49,
   "id": "8f535692-86d8-47af-b71d-d64ff0c68a0f",
   "metadata": {},
   "outputs": [
    {
     "data": {
      "text/plain": [
       "9656"
      ]
     },
     "execution_count": 49,
     "metadata": {},
     "output_type": "execute_result"
    }
   ],
   "source": [
    "len(all_projects_object_id - sb1_geo2_object_id)"
   ]
  },
  {
   "cell_type": "code",
   "execution_count": 50,
   "id": "3961c1b6-eb36-44ba-8a78-aca089cd2035",
   "metadata": {},
   "outputs": [],
   "source": [
    "# set(sb1_all_projects.columns).difference(set(sb1_csv.columns))"
   ]
  },
  {
   "cell_type": "code",
   "execution_count": 51,
   "id": "307fd968-aec1-4e26-a2b3-88c80c5a1ab4",
   "metadata": {},
   "outputs": [],
   "source": [
    "m1 = pd.merge(\n",
    "    sb1_geo2,\n",
    "    sb1_all_projects[['projectid','projecttitle']],\n",
    "    how=\"left\",\n",
    "    on=[\"projectid\"],\n",
    ")"
   ]
  },
  {
   "cell_type": "code",
   "execution_count": 52,
   "id": "1c49d643-f117-4d72-9262-39b2aa2e02d9",
   "metadata": {},
   "outputs": [
    {
     "data": {
      "text/plain": [
       "major damage restoration    467\n",
       "safety improvements         368\n",
       "pavement rehabilitation     305\n",
       "pavement  hm1               220\n",
       "permanent restoration       149\n",
       "Name: projecttitle_x, dtype: int64"
      ]
     },
     "execution_count": 52,
     "metadata": {},
     "output_type": "execute_result"
    }
   ],
   "source": [
    "m1.projecttitle_x.value_counts().head()"
   ]
  },
  {
   "cell_type": "code",
   "execution_count": 53,
   "id": "72deeb71-1114-41f5-881c-c1c87c69ed35",
   "metadata": {},
   "outputs": [
    {
     "data": {
      "text/plain": [
       "1322"
      ]
     },
     "execution_count": 53,
     "metadata": {},
     "output_type": "execute_result"
    }
   ],
   "source": [
    "m1.projecttitle_y.isna().sum()"
   ]
  },
  {
   "cell_type": "code",
   "execution_count": 55,
   "id": "2edf88c6-f597-41ad-b82a-e303bf7ca595",
   "metadata": {},
   "outputs": [
    {
     "data": {
      "text/plain": [
       "(9656, 5590, 9928)"
      ]
     },
     "execution_count": 55,
     "metadata": {},
     "output_type": "execute_result"
    }
   ],
   "source": [
    "len(sb1_all_projects), len(sb1_geo2), 5513+4415"
   ]
  },
  {
   "cell_type": "code",
   "execution_count": 56,
   "id": "f839c3db-9bff-4653-9be0-537aa1cfa5d0",
   "metadata": {},
   "outputs": [
    {
     "data": {
      "text/plain": [
       "_merge    \n",
       "left_only     5531\n",
       "both          4527\n",
       "right_only       0\n",
       "dtype: int64"
      ]
     },
     "execution_count": 56,
     "metadata": {},
     "output_type": "execute_result"
    }
   ],
   "source": [
    "pd.merge(\n",
    "    sb1_all_projects,\n",
    "    sb1_geo2,\n",
    "    how=\"left\",\n",
    "    left_on=[ \"ct_districts\", \"agencyid\", \"totalcost\", \"fiscalyearcode\"],\n",
    "    right_on=[\"ct_districts\", \"agencyids\", \"totalcost\", \"fiscalyearcodes\"],\n",
    "    indicator=True,\n",
    ")[[\"_merge\"]].value_counts()"
   ]
  },
  {
   "cell_type": "code",
   "execution_count": 57,
   "id": "acadfc08-e05c-4a15-b71e-37ba95fba362",
   "metadata": {},
   "outputs": [],
   "source": [
    "m1 = pd.merge(\n",
    "    sb1_all_projects,\n",
    "    sb1_geo2[['projecttitle', \"programcodes\", \"totalcost\", \"agencies\", \"countynames\"]],\n",
    "    how=\"right\",\n",
    "    left_on=[\"programcodes\", \"totalcost\", \"implementingagency\", \"countynames\"],\n",
    "    right_on=[\"programcodes\", \"totalcost\", \"agencies\", \"countynames\"],\n",
    "    indicator=True,\n",
    ")"
   ]
  },
  {
   "cell_type": "code",
   "execution_count": 58,
   "id": "a89073c0-5eb5-4433-b70f-39da23db3869",
   "metadata": {
    "scrolled": true,
    "tags": []
   },
   "outputs": [],
   "source": [
    "m1.projecttitle_x = m1.projecttitle_x.fillna(m1.projecttitle_y)"
   ]
  },
  {
   "cell_type": "code",
   "execution_count": 59,
   "id": "5f1f6da0-f729-4669-8a0e-6e55d1b8801c",
   "metadata": {},
   "outputs": [
    {
     "data": {
      "text/plain": [
       "(both          4578\n",
       " right_only    1102\n",
       " left_only        0\n",
       " Name: _merge, dtype: int64,\n",
       " 5680)"
      ]
     },
     "execution_count": 59,
     "metadata": {},
     "output_type": "execute_result"
    }
   ],
   "source": [
    "m1._merge.value_counts(), len(m1)"
   ]
  },
  {
   "cell_type": "code",
   "execution_count": 60,
   "id": "e2ff3d67-95ff-49c3-857a-daf946bb5936",
   "metadata": {},
   "outputs": [
    {
     "data": {
      "text/html": [
       "<div>\n",
       "<style scoped>\n",
       "    .dataframe tbody tr th:only-of-type {\n",
       "        vertical-align: middle;\n",
       "    }\n",
       "\n",
       "    .dataframe tbody tr th {\n",
       "        vertical-align: top;\n",
       "    }\n",
       "\n",
       "    .dataframe thead th {\n",
       "        text-align: right;\n",
       "    }\n",
       "</style>\n",
       "<table border=\"1\" class=\"dataframe\">\n",
       "  <thead>\n",
       "    <tr style=\"text-align: right;\">\n",
       "      <th></th>\n",
       "      <th>projecttitle_x</th>\n",
       "      <th>programcodes</th>\n",
       "    </tr>\n",
       "  </thead>\n",
       "  <tbody>\n",
       "    <tr>\n",
       "      <th>1238</th>\n",
       "      <td>NaN</td>\n",
       "      <td>ATP</td>\n",
       "    </tr>\n",
       "    <tr>\n",
       "      <th>1323</th>\n",
       "      <td>blue lake annie and mary trail phase 1</td>\n",
       "      <td>ATP</td>\n",
       "    </tr>\n",
       "    <tr>\n",
       "      <th>1324</th>\n",
       "      <td>NaN</td>\n",
       "      <td>ATP</td>\n",
       "    </tr>\n",
       "    <tr>\n",
       "      <th>1325</th>\n",
       "      <td>central corridor bike and pedestrian safety improvements</td>\n",
       "      <td>ATP</td>\n",
       "    </tr>\n",
       "    <tr>\n",
       "      <th>1326</th>\n",
       "      <td>NaN</td>\n",
       "      <td>ATP</td>\n",
       "    </tr>\n",
       "  </tbody>\n",
       "</table>\n",
       "</div>"
      ],
      "text/plain": [
       "                                                projecttitle_x programcodes\n",
       "1238                                                       NaN          ATP\n",
       "1323                    blue lake annie and mary trail phase 1          ATP\n",
       "1324                                                       NaN          ATP\n",
       "1325  central corridor bike and pedestrian safety improvements          ATP\n",
       "1326                                                       NaN          ATP"
      ]
     },
     "execution_count": 60,
     "metadata": {},
     "output_type": "execute_result"
    }
   ],
   "source": [
    "m1[['projecttitle_x','programcodes',]].sort_values('programcodes').head()"
   ]
  },
  {
   "cell_type": "code",
   "execution_count": 61,
   "id": "38e8f1b2-6955-40d6-8b16-a6322d230409",
   "metadata": {},
   "outputs": [],
   "source": [
    "m3 = pd.merge(\n",
    "    sb1_geo2,\n",
    "    sb1_all_projects[['projecttitle', \"programcodes\", \"totalcost\", \"implementingagency\", \"fiscalyearcode\"]],\n",
    "    how=\"left\",\n",
    "    left_on=[ \"programcodes\", \"totalcost\", \"agencies\",\"fiscalyearcodes\"],\n",
    "    right_on=[ \"programcodes\", \"totalcost\", \"implementingagency\",\"fiscalyearcode\"],\n",
    "    indicator = True\n",
    ")"
   ]
  },
  {
   "cell_type": "code",
   "execution_count": 62,
   "id": "7912cb87-8f36-4456-83c0-2f553e8e13c8",
   "metadata": {},
   "outputs": [
    {
     "data": {
      "text/plain": [
       "both          4988\n",
       "left_only     1099\n",
       "right_only       0\n",
       "Name: _merge, dtype: int64"
      ]
     },
     "execution_count": 62,
     "metadata": {},
     "output_type": "execute_result"
    }
   ],
   "source": [
    "m3._merge.value_counts()"
   ]
  },
  {
   "cell_type": "code",
   "execution_count": 63,
   "id": "b9261778-4049-4299-8f85-b75cfceb0cbf",
   "metadata": {},
   "outputs": [],
   "source": [
    "m3.projecttitle_x = m3.projecttitle_x.fillna(m3.projecttitle_y)"
   ]
  },
  {
   "cell_type": "code",
   "execution_count": 64,
   "id": "1e579842-900d-43cf-b840-cbcbc1f2dc54",
   "metadata": {},
   "outputs": [],
   "source": [
    "m3.projecttitle_x = m3.projecttitle_x.fillna('None')"
   ]
  },
  {
   "cell_type": "code",
   "execution_count": 65,
   "id": "2ce25752-6444-4821-a42e-4135c52b7a76",
   "metadata": {},
   "outputs": [
    {
     "data": {
      "text/html": [
       "<div>\n",
       "<style scoped>\n",
       "    .dataframe tbody tr th:only-of-type {\n",
       "        vertical-align: middle;\n",
       "    }\n",
       "\n",
       "    .dataframe tbody tr th {\n",
       "        vertical-align: top;\n",
       "    }\n",
       "\n",
       "    .dataframe thead th {\n",
       "        text-align: right;\n",
       "    }\n",
       "</style>\n",
       "<table border=\"1\" class=\"dataframe\">\n",
       "  <thead>\n",
       "    <tr style=\"text-align: right;\">\n",
       "      <th></th>\n",
       "      <th>projecttitle_x</th>\n",
       "      <th>programcodes</th>\n",
       "    </tr>\n",
       "  </thead>\n",
       "  <tbody>\n",
       "    <tr>\n",
       "      <th>1668</th>\n",
       "      <td>sr2s improvements at intersection of highway 246 and sycamore drive</td>\n",
       "      <td>ATP</td>\n",
       "    </tr>\n",
       "    <tr>\n",
       "      <th>1656</th>\n",
       "      <td>loomis town center implementation plan  phase 2</td>\n",
       "      <td>ATP</td>\n",
       "    </tr>\n",
       "    <tr>\n",
       "      <th>1655</th>\n",
       "      <td>None</td>\n",
       "      <td>ATP</td>\n",
       "    </tr>\n",
       "    <tr>\n",
       "      <th>1654</th>\n",
       "      <td>mammoth creek gap closure project</td>\n",
       "      <td>ATP</td>\n",
       "    </tr>\n",
       "    <tr>\n",
       "      <th>1653</th>\n",
       "      <td>east palo alto highway 101 pedestrian and bicycle overcrossing</td>\n",
       "      <td>ATP</td>\n",
       "    </tr>\n",
       "  </tbody>\n",
       "</table>\n",
       "</div>"
      ],
      "text/plain": [
       "                                                           projecttitle_x  \\\n",
       "1668  sr2s improvements at intersection of highway 246 and sycamore drive   \n",
       "1656                      loomis town center implementation plan  phase 2   \n",
       "1655                                                                 None   \n",
       "1654                                    mammoth creek gap closure project   \n",
       "1653       east palo alto highway 101 pedestrian and bicycle overcrossing   \n",
       "\n",
       "     programcodes  \n",
       "1668          ATP  \n",
       "1656          ATP  \n",
       "1655          ATP  \n",
       "1654          ATP  \n",
       "1653          ATP  "
      ]
     },
     "execution_count": 65,
     "metadata": {},
     "output_type": "execute_result"
    }
   ],
   "source": [
    "m3[['projecttitle_x','programcodes',]].sort_values('programcodes').head()"
   ]
  },
  {
   "cell_type": "code",
   "execution_count": 66,
   "id": "339dc623-9d2e-4d88-ac6b-6171539be798",
   "metadata": {
    "scrolled": true,
    "tags": []
   },
   "outputs": [],
   "source": [
    "# m2[['projecttitle_x','projecttitle_y', 'programcodes',]].sort_values('programcodes')"
   ]
  },
  {
   "cell_type": "markdown",
   "id": "88d14b0f-ae25-42db-9130-3617662e7da7",
   "metadata": {
    "tags": []
   },
   "source": [
    "### Compare with ALL Projects\n",
    "* m3 is the merge with the most results."
   ]
  },
  {
   "cell_type": "code",
   "execution_count": 72,
   "id": "31462c70-1b96-4b89-a8b8-8ef3dc25b09d",
   "metadata": {},
   "outputs": [],
   "source": [
    "nonshopp_sb1_m1 = pd.merge(\n",
    "    m3.loc[m3.projecttitle_x != \"None\"].drop(columns = [\"_merge\"])[['projecttitle_x','projectdescription','countynames','geometry']],\n",
    "    nonshopp,\n",
    "    how=\"inner\",\n",
    "    left_on=[ \"projecttitle_x\"],\n",
    "    right_on=[\"project_name\",],\n",
    "    indicator=True,\n",
    ")"
   ]
  },
  {
   "cell_type": "code",
   "execution_count": 73,
   "id": "1a0caec5-3dfe-4299-82e9-43417cd9b557",
   "metadata": {},
   "outputs": [
    {
     "data": {
      "text/plain": [
       "(112, geopandas.geodataframe.GeoDataFrame)"
      ]
     },
     "execution_count": 73,
     "metadata": {},
     "output_type": "execute_result"
    }
   ],
   "source": [
    "len(nonshopp_sb1_m1), type(nonshopp_sb1_m1)"
   ]
  },
  {
   "cell_type": "code",
   "execution_count": 74,
   "id": "05eda467-88ad-49cf-a513-71f1af02d741",
   "metadata": {},
   "outputs": [],
   "source": [
    "# nonshopp_sb1_m1.explore()"
   ]
  },
  {
   "cell_type": "code",
   "execution_count": 75,
   "id": "f3aec76e-82f4-4e82-a24c-ded5d19cc839",
   "metadata": {},
   "outputs": [],
   "source": [
    "# nonshopp_sb1_m1[['previous_caltrans_nominations','project_name','projecttitle_x','project_description','projectdescription', 'full_county_name', 'countynames']]"
   ]
  },
  {
   "cell_type": "code",
   "execution_count": 76,
   "id": "cdef9fba-de7b-42cf-955b-b3473ee309e3",
   "metadata": {},
   "outputs": [],
   "source": [
    "found_projects = nonshopp_sb1_m1.projecttitle_x.unique().tolist()"
   ]
  },
  {
   "cell_type": "code",
   "execution_count": 77,
   "id": "1add032e-3b13-41bf-abfb-27893490b7ad",
   "metadata": {},
   "outputs": [],
   "source": [
    "# Filter out results before fuzzy matching\n",
    "m3 = m3[~m3[\"projecttitle_x\"].isin(found_projects)].reset_index(drop = True)"
   ]
  },
  {
   "cell_type": "code",
   "execution_count": 78,
   "id": "f92e4856-ff68-4d19-8e1a-1d60b80da39b",
   "metadata": {},
   "outputs": [],
   "source": [
    "# Filter out the projects already found above.\n",
    "nonshopp2 = nonshopp[~nonshopp[\"project_name\"].isin(found_projects)].reset_index(drop = True)"
   ]
  },
  {
   "cell_type": "markdown",
   "id": "3c3c71db-b030-44a5-a4e0-868648820924",
   "metadata": {},
   "source": [
    "#### Fuzzy Matches"
   ]
  },
  {
   "cell_type": "markdown",
   "id": "b269ba27-10b3-47d9-9146-e6ad9defc30a",
   "metadata": {},
   "source": [
    "##### Try with Project Titles"
   ]
  },
  {
   "cell_type": "code",
   "execution_count": 79,
   "id": "b50375e7-147a-49b6-b8dc-f7a4cf26458e",
   "metadata": {},
   "outputs": [],
   "source": [
    "# Replace all rows in agency column with a min ratio with  \"string_to_match value\"\n",
    "def replace_matches_in_column(df, column, new_col_name, string_to_match, min_ratio):\n",
    "    # Get a list of unique strings\n",
    "    strings = df[column].unique()\n",
    "\n",
    "    # Get the top 10 closest matches to our input string\n",
    "    matches = fuzzywuzzy.process.extract(\n",
    "        string_to_match, strings, limit=10, scorer=fuzzywuzzy.fuzz.token_sort_ratio\n",
    "    )\n",
    "\n",
    "    # Only get matches with a  min ratio\n",
    "    close_matches = [matches[0] for matches in matches if matches[1] > min_ratio]\n",
    "\n",
    "    # Get the rows of all the close matches in our dataframe\n",
    "    rows_with_matches = df[column].isin(close_matches)\n",
    "\n",
    "    # replace all rows with close matches with the input matches\n",
    "    df.loc[rows_with_matches, new_col_name] = string_to_match"
   ]
  },
  {
   "cell_type": "code",
   "execution_count": 80,
   "id": "e9858197-0dc1-4ea3-846e-8773a954ba15",
   "metadata": {},
   "outputs": [],
   "source": [
    "nonshopp_projects = nonshopp2.project_name.unique().tolist()"
   ]
  },
  {
   "cell_type": "code",
   "execution_count": 81,
   "id": "3e93871b-cb73-40e1-b78e-3112f308735d",
   "metadata": {},
   "outputs": [],
   "source": [
    "m3[\"projecttitle_x_count\"] = m3[\"projecttitle_x\"].str.count('\\w+')"
   ]
  },
  {
   "cell_type": "code",
   "execution_count": 82,
   "id": "44b972d1-376b-4cd7-8623-8d5de2c45e5a",
   "metadata": {},
   "outputs": [],
   "source": [
    "# Delete project titles that are short\n",
    "sb1_w_projectnames = (m3.loc[m3.projecttitle_x_count > 3]).reset_index(drop = True)"
   ]
  },
  {
   "cell_type": "code",
   "execution_count": 83,
   "id": "a29521cf-3c8c-426a-8f5e-b5dc48bc3028",
   "metadata": {},
   "outputs": [
    {
     "data": {
      "text/plain": [
       "(856, 45)"
      ]
     },
     "execution_count": 83,
     "metadata": {},
     "output_type": "execute_result"
    }
   ],
   "source": [
    "sb1_w_projectnames.shape"
   ]
  },
  {
   "cell_type": "code",
   "execution_count": 84,
   "id": "873f5b33-90d9-4cdd-a512-63cfd7af4120",
   "metadata": {},
   "outputs": [],
   "source": [
    "for i in nonshopp_projects:\n",
    "    replace_matches_in_column(\n",
    "        sb1_w_projectnames\n",
    "        , \"projecttitle_x\", \"project_title_fuzzy_match\", i,90 \n",
    "    )"
   ]
  },
  {
   "cell_type": "code",
   "execution_count": 85,
   "id": "7e0dc785-b0f5-4f99-953a-0e5637e8f30b",
   "metadata": {},
   "outputs": [],
   "source": [
    "# Drop nulls and duplicates\n",
    "fuzzy_match_results = (sb1_w_projectnames.loc[sb1_w_projectnames.project_title_fuzzy_match.notnull()]\n",
    "                       .drop_duplicates(subset = [\"projecttitle_x\", \"project_title_fuzzy_match\", \"projectdescription\"])\n",
    "                       .reset_index(drop = True)\n",
    "                       .sort_values('projecttitle_x')\n",
    "                      )"
   ]
  },
  {
   "cell_type": "code",
   "execution_count": 86,
   "id": "4ba99d95-b034-4d2b-86f3-0662b4ac96cc",
   "metadata": {},
   "outputs": [
    {
     "data": {
      "text/plain": [
       "5"
      ]
     },
     "execution_count": 86,
     "metadata": {},
     "output_type": "execute_result"
    }
   ],
   "source": [
    "len(fuzzy_match_results)"
   ]
  },
  {
   "cell_type": "code",
   "execution_count": 87,
   "id": "424c79fd-ef66-44f6-bb89-71bf6e875f69",
   "metadata": {
    "tags": []
   },
   "outputs": [
    {
     "data": {
      "text/html": [
       "<div>\n",
       "<style scoped>\n",
       "    .dataframe tbody tr th:only-of-type {\n",
       "        vertical-align: middle;\n",
       "    }\n",
       "\n",
       "    .dataframe tbody tr th {\n",
       "        vertical-align: top;\n",
       "    }\n",
       "\n",
       "    .dataframe thead th {\n",
       "        text-align: right;\n",
       "    }\n",
       "</style>\n",
       "<table border=\"1\" class=\"dataframe\">\n",
       "  <thead>\n",
       "    <tr style=\"text-align: right;\">\n",
       "      <th></th>\n",
       "      <th>projecttitle_x</th>\n",
       "      <th>project_title_fuzzy_match</th>\n",
       "      <th>countynames</th>\n",
       "      <th>fiscalyears</th>\n",
       "    </tr>\n",
       "  </thead>\n",
       "  <tbody>\n",
       "    <tr>\n",
       "      <th>4</th>\n",
       "      <td>etiwanda avenue grade separation</td>\n",
       "      <td>etiwanda ave grade separation</td>\n",
       "      <td>San Bernardino</td>\n",
       "      <td>19/20</td>\n",
       "    </tr>\n",
       "    <tr>\n",
       "      <th>1</th>\n",
       "      <td>inglewood transit connector project</td>\n",
       "      <td>inglewood transit connector itc project</td>\n",
       "      <td>Los Angeles</td>\n",
       "      <td>20/21</td>\n",
       "    </tr>\n",
       "    <tr>\n",
       "      <th>0</th>\n",
       "      <td>north county corridor project  phase 1 from claribel road to clause road</td>\n",
       "      <td>north county corridor phase 1 from claribel road to claus road</td>\n",
       "      <td>Stanislaus</td>\n",
       "      <td>22/23</td>\n",
       "    </tr>\n",
       "    <tr>\n",
       "      <th>3</th>\n",
       "      <td>redding to anderson six lane  phase 1  2</td>\n",
       "      <td>redding to anderson six lane  phase 1 and 2</td>\n",
       "      <td>Shasta</td>\n",
       "      <td>17/18</td>\n",
       "    </tr>\n",
       "    <tr>\n",
       "      <th>2</th>\n",
       "      <td>route 46 expressway segment 4c</td>\n",
       "      <td>route 46 expressway segment 4b</td>\n",
       "      <td>Kern</td>\n",
       "      <td>20/21</td>\n",
       "    </tr>\n",
       "  </tbody>\n",
       "</table>\n",
       "</div>"
      ],
      "text/plain": [
       "                                                             projecttitle_x  \\\n",
       "4                                          etiwanda avenue grade separation   \n",
       "1                                       inglewood transit connector project   \n",
       "0  north county corridor project  phase 1 from claribel road to clause road   \n",
       "3                                  redding to anderson six lane  phase 1  2   \n",
       "2                                            route 46 expressway segment 4c   \n",
       "\n",
       "                                        project_title_fuzzy_match  \\\n",
       "4                                   etiwanda ave grade separation   \n",
       "1                         inglewood transit connector itc project   \n",
       "0  north county corridor phase 1 from claribel road to claus road   \n",
       "3                     redding to anderson six lane  phase 1 and 2   \n",
       "2                                  route 46 expressway segment 4b   \n",
       "\n",
       "      countynames fiscalyears  \n",
       "4  San Bernardino       19/20  \n",
       "1     Los Angeles       20/21  \n",
       "0      Stanislaus       22/23  \n",
       "3          Shasta       17/18  \n",
       "2            Kern       20/21  "
      ]
     },
     "execution_count": 87,
     "metadata": {},
     "output_type": "execute_result"
    }
   ],
   "source": [
    "# Last one isn't the same.\n",
    "fuzzy_match_results[['projecttitle_x','project_title_fuzzy_match', 'countynames', 'fiscalyears']]"
   ]
  },
  {
   "cell_type": "code",
   "execution_count": 88,
   "id": "ef8e50d6-105b-4b92-8319-a526dd7f4634",
   "metadata": {},
   "outputs": [],
   "source": [
    "nonshopp_sb1_m2 = pd.merge(\n",
    "    fuzzy_match_results.drop(columns = [\"_merge\"]).head(4)[['projecttitle_x','project_title_fuzzy_match','projectdescription','countynames','geometry']],\n",
    "    nonshopp2,\n",
    "    how=\"inner\",\n",
    "    left_on=[\"project_title_fuzzy_match\", \"countynames\"],\n",
    "    right_on=[\"project_name\", \"full_county_name\"],\n",
    ")"
   ]
  },
  {
   "cell_type": "code",
   "execution_count": 89,
   "id": "1c0b4c0d-e7aa-43a9-bc72-3c594c68d8c6",
   "metadata": {},
   "outputs": [
    {
     "data": {
      "text/plain": [
       "(geopandas.geodataframe.GeoDataFrame, 4)"
      ]
     },
     "execution_count": 89,
     "metadata": {},
     "output_type": "execute_result"
    }
   ],
   "source": [
    "type(nonshopp_sb1_m2), len(nonshopp_sb1_m2)"
   ]
  },
  {
   "cell_type": "code",
   "execution_count": 90,
   "id": "63028507-93d2-4bf7-929a-9dd798fc77f0",
   "metadata": {},
   "outputs": [],
   "source": [
    "found_projects2 = nonshopp_sb1_m2.projecttitle_x.unique().tolist()"
   ]
  },
  {
   "cell_type": "code",
   "execution_count": 91,
   "id": "082fdfba-9105-471a-858d-8ec1601627e7",
   "metadata": {},
   "outputs": [],
   "source": [
    "found_projects3 = nonshopp_sb1_m2.project_title_fuzzy_match.unique().tolist()"
   ]
  },
  {
   "cell_type": "code",
   "execution_count": 92,
   "id": "0d3ae962-84d2-4e10-9d80-d87d22cedf1c",
   "metadata": {},
   "outputs": [],
   "source": [
    "# Filter out the projects already found above.\n",
    "m3 = m3[~m3[\"projecttitle_x\"].isin(found_projects2)].reset_index(drop = True)"
   ]
  },
  {
   "cell_type": "code",
   "execution_count": 93,
   "id": "84062295-8e00-4940-9d9e-a8d4a770f4f0",
   "metadata": {},
   "outputs": [],
   "source": [
    "# Filter out the projects already found above.\n",
    "nonshopp2 = nonshopp2[~nonshopp2[\"project_name\"].isin(found_projects3)].reset_index(drop = True)"
   ]
  },
  {
   "cell_type": "markdown",
   "id": "a17a882e-2308-443c-8a48-cbc2d1059c54",
   "metadata": {},
   "source": [
    "##### Try with project description since titles are very vague."
   ]
  },
  {
   "cell_type": "code",
   "execution_count": 112,
   "id": "7d999b4e-4865-4bf6-98fb-bcf8cacf820d",
   "metadata": {},
   "outputs": [],
   "source": [
    "def replace_matches_set_ratio(df, column, new_col_name, string_to_match, min_ratio):\n",
    "    # Get a list of unique strings\n",
    "    strings = df[column].unique()\n",
    "\n",
    "    # Get the top 10 closest matches to our input string\n",
    "    matches = fuzzywuzzy.process.extract(\n",
    "        string_to_match, strings, limit=10, scorer=fuzzywuzzy.fuzz.token_set_ratio\n",
    "    )\n",
    "\n",
    "    # Only get matches with a  min ratio\n",
    "    close_matches = [matches[0] for matches in matches if matches[1] > min_ratio]\n",
    "\n",
    "    # Get the rows of all the close matches in our dataframe\n",
    "    rows_with_matches = df[column].isin(close_matches)\n",
    "\n",
    "    # replace all rows with close matches with the input matches\n",
    "    df.loc[rows_with_matches, new_col_name] = string_to_match"
   ]
  },
  {
   "cell_type": "code",
   "execution_count": 113,
   "id": "4aefc612-ebac-4e64-a9c9-a8aa21269ba0",
   "metadata": {},
   "outputs": [],
   "source": [
    "# Only include projects with a long enough desc\n",
    "# Drop dups\n",
    "sb1_w_projectdesc = ((m3.loc[m3.projectdescription_count > 10])\n",
    ".drop_duplicates(subset = [\"projecttitle_x\", \"projectdescription\", \"countynames\"])\n",
    ".reset_index(drop = True)\n",
    "                    )"
   ]
  },
  {
   "cell_type": "code",
   "execution_count": 114,
   "id": "798db401-5957-4851-a7b5-365c5896252b",
   "metadata": {},
   "outputs": [],
   "source": [
    "# Test with nonshopp \n",
    "nonshopp_with_desc = ((nonshopp2.loc[nonshopp2.project_description_count > 10])\n",
    "                     .drop_duplicates(subset = [\"project_name\", \"project_description\", \"full_county_name\"]).reset_index(drop = True)\n",
    "                    )"
   ]
  },
  {
   "cell_type": "code",
   "execution_count": 138,
   "id": "90ccce9c-5e97-4d5a-a3b7-d119978eaa14",
   "metadata": {},
   "outputs": [],
   "source": [
    "# Reverse -> replace \n",
    "#for i in sb1_w_projectdesc[\"projectdescription\"].loc[1001:3000].unique().tolist():\n",
    "#    replace_matches_set_ratio(\n",
    "#        nonshopp_with_desc, \"project_description\", \"project_desc_fuzzy_match\", i, 95\n",
    "#  )"
   ]
  },
  {
   "cell_type": "code",
   "execution_count": 139,
   "id": "53965952-73b7-4fc9-a106-32411f76cabc",
   "metadata": {},
   "outputs": [],
   "source": [
    "# nonshopp_with_desc = nonshopp_with_desc.loc[nonshopp_with_desc.project_desc_fuzzy_match.notnull()].reset_index(drop = True)"
   ]
  },
  {
   "cell_type": "code",
   "execution_count": 140,
   "id": "ea8b9fd1-b8f0-42b3-af97-9d978f92c4ba",
   "metadata": {},
   "outputs": [
    {
     "data": {
      "text/plain": [
       "12"
      ]
     },
     "execution_count": 140,
     "metadata": {},
     "output_type": "execute_result"
    }
   ],
   "source": [
    "# len(nonshopp_with_desc)"
   ]
  },
  {
   "cell_type": "code",
   "execution_count": 141,
   "id": "25931d75-bd25-4596-abcd-7d0db8d8d41c",
   "metadata": {},
   "outputs": [],
   "source": [
    "#nonshopp_with_desc[['project_description','project_desc_fuzzy_match']]"
   ]
  },
  {
   "cell_type": "code",
   "execution_count": 130,
   "id": "401c2009-b88f-42d1-a945-d92821134461",
   "metadata": {},
   "outputs": [],
   "source": [
    "# fuzzy_desc_list = nonshopp_with_desc.project_description.unique().tolist()"
   ]
  },
  {
   "cell_type": "code",
   "execution_count": 142,
   "id": "089a3202-045d-4c21-b2b0-a9d84476891e",
   "metadata": {},
   "outputs": [],
   "source": [
    "fuzzy_desc_list = ['in humboldt county on us 101 between the 6th street interchange pm 984 and the trinidadmain street interchange pm 1007 and along scenic drive and westhaven drive between the community of westhaven and trinidad construction of a new interchange on us 101 and new road connections from us 101 to scenic drive and westhaven drive associated pedestrian and bicycle improvements through the new interchange and along scenic drive and westhaven drive other work will include associated grading drainage utility relocations signage and striping retaining walls etckim floyd 707 4415739',\n",
    " 'on route 70 from laurellen to yubabutte county line continuous passing lanes\\n\\nconstruction 192 of passing lane miles on the state highway',\n",
    " 'eastbound sr12 to eastbound i80 connector  this project would construct a new connector from eastbound sr12 to eastbound i80 which will also connect two previous cmia projects icp and jameson canyon widening projects reconstruction of the i80i680sr12 interchange complex phase 1 includes remaining packages 3 7\\n\\nmodifyimprovereconstruct 1 interchange and 1 bridge and construct 1 new bridge',\n",
    " 'on state route 68 from josselyn canyon road to spreckels blvd operational improvements replaces signalized intersections with roundabouts to achieve smooth traffic flow provide active transportation facilities at intersections and achieve transit benefits achieving these improvements on the existing corridor will preempt need for previouslyconsidered bypass alignment',\n",
    " 'in fresno and kings county about 6 miles north of lemoore from 03 mile north of excelsior avenue undercrossing to 10 mile north of elkhorn avenue widen from 2lane conventional highway to 4lane expressway this project will eliminate the only remaining bottleneck 2lane section of sr 41 between fresno and lemoore on this interregional route between the san joaquin valley and the central coast and reduce accident rates\\n\\nconstruct 24 miles of mixed flow lanes 24 miles of mixed flow mainline 8 new curb ramps and 2 intersectionsignal improvements',\n",
    " 'in fresno county in and near fresno from 04 mile south of american avenue to 04 mile north of north avenue modify interchanges',\n",
    " 'in and near lost hills from 1 mile west of browns material road to california aquaduct  convert from 2lane conventional highway to 4lane expressway\\n\\nnew roadway lane miles 69',\n",
    " 'in diamond bar and the city of industry on route 60 from eb 60 to sb 57 connector overcrossing to near golden springs drive undercrossing and route 57 from nb 57 to wb 60 connector overcrossing to south 5760 separation interchange modifications including auxiliary lanes and three new bridges\\n\\npse completion target date  22822\\n4 interchange modifications 15 miles of auxilary lanes 163929 sqft of new bridgestunnels',\n",
    " 'add one eastbound auxiliary lane 086 miles on sr91 in the city of long beach on sr91 from i710 to cherry avenue undercrossing the proposed improvements consist of adding one auxiliary lane in the eastbound direction extending the outside 5 lane beyond the atlantic ave eb offramp to cherry ave then dropping it before the cherry ave undercrossing and widening the orange ave and walnut ave undercrossing',\n",
    " 'replace eastbound rte 91 to northbound rte 71 loop connector with a direct connector ramp realign the green river road eastbound entrance ramp to rte 91 and construct a collectordistributor system on rte 91 in the eastbound direction between the green river road and serfas club drive\\n1  traffic monitoring detection station\\n1  interchange modification\\n1 mile  aux lane constructed\\n1  freeway ramp meter\\n10000 sqft  new local road bridge structuretunnel\\n1  grade separation  rail crossing improvements\\n2  new curb ramp installed\\n05 miles  aux lanes\\n2000 lf  culvert\\n25 miles  ramp and connector constructed\\n2000000 sqft  modifiedimproved interchange\\n1  ramp modification',\n",
    " 'realign approximately 3 miles of a segment of sr 4 from west of hunt road to appaloosa way beginning approximately 38 miles east of copperopolis and ending approximately 52 miles west of the sr 4sr 49 junction in altaville calaveras county\\n\\nproject will provide 5 curve and vertical alignment corrections construct 7 turn pocket to improve operations construct 624 miles of mainline shoulders and construct 642 miles of new roadway lane miles',\n",
    " 'located in the city of tracy at the i580 and international parkwaypatterson pass rd interchange the project proposes to modify the interchange from the existing compact diamond type l1 to a diverging diamond interchange ddi to accommodate increased commercial truck and traffic demand from existing fulfillment distribution center growth and planned future development in san joaquin county the project will improve interregional goods movement for trucks traveling between the port of oakland bay area local warehouses southern california and outofstate while reducing congestion increases truck throughput and eliminate bottleneck for trucks accessing i580 a key freight highway\\n\\nprovide 1 interchange modifications 2 intersectionsignal improvements 056 miles of communications fiber optics 14 miles of bikeped facilities and modifyimprove 18680 sqft of interchange']"
   ]
  },
  {
   "cell_type": "code",
   "execution_count": 132,
   "id": "36c2446b-f22f-4ae2-8e30-17733af6b473",
   "metadata": {},
   "outputs": [],
   "source": [
    "nonshopp_sb1_m3 = pd.merge(\n",
    "    m3,\n",
    "    nonshopp_with_desc[nonshopp_with_desc.project_description.isin(fuzzy_desc_list)],\n",
    "    how=\"inner\",\n",
    "    left_on=[\"projectdescription\", \"countynames\"],\n",
    "    right_on=[\"project_desc_fuzzy_match\", \"full_county_name\"],)"
   ]
  },
  {
   "cell_type": "code",
   "execution_count": 133,
   "id": "ec112401-ae32-4ef9-932c-cc9c10307e97",
   "metadata": {},
   "outputs": [
    {
     "data": {
      "text/plain": [
       "12"
      ]
     },
     "execution_count": 133,
     "metadata": {},
     "output_type": "execute_result"
    }
   ],
   "source": [
    "len(nonshopp_sb1_m3)"
   ]
  },
  {
   "cell_type": "code",
   "execution_count": 143,
   "id": "2db08e4b-7803-4a4b-80f3-6dc68a371d47",
   "metadata": {},
   "outputs": [
    {
     "data": {
      "text/plain": [
       "geopandas.geodataframe.GeoDataFrame"
      ]
     },
     "execution_count": 143,
     "metadata": {},
     "output_type": "execute_result"
    }
   ],
   "source": [
    "type(nonshopp_sb1_m3)"
   ]
  },
  {
   "cell_type": "code",
   "execution_count": 121,
   "id": "9647af54-a774-44c1-9947-97f61cf229b0",
   "metadata": {},
   "outputs": [],
   "source": [
    "# nonshopp_sb1_m3"
   ]
  },
  {
   "cell_type": "markdown",
   "id": "a91b5261-4f89-439a-b82e-7877b7707551",
   "metadata": {
    "tags": []
   },
   "source": [
    "### Compare with 9 Sample Projects"
   ]
  },
  {
   "cell_type": "code",
   "execution_count": 152,
   "id": "33ec20f8-9d29-412e-a75b-83db6c644aba",
   "metadata": {},
   "outputs": [],
   "source": [
    "nine_projects_id = [\n",
    "    \"0422000202\",\n",
    "    \"0414000032\",\n",
    "    \"0520000083\",\n",
    "    \"0515000063\",\n",
    "    \"0721000056\",\n",
    "    \"0716000370\",\n",
    "    \"0813000222\",\n",
    "    \"0814000144\",\n",
    "    \"0414000032\",\n",
    "    \"0720000165\",\n",
    "]"
   ]
  },
  {
   "cell_type": "code",
   "execution_count": 153,
   "id": "714557b2-469c-42ba-a793-06c9c96c0a20",
   "metadata": {},
   "outputs": [],
   "source": [
    "nine_sample_projects = (nonshopp2[nonshopp2.ct_project_id.isin(nine_projects_id)].reset_index(drop=True))"
   ]
  },
  {
   "cell_type": "code",
   "execution_count": 154,
   "id": "fff0ccf4-9cae-4627-988b-3499c329a3f4",
   "metadata": {},
   "outputs": [
    {
     "data": {
      "text/plain": [
       "9"
      ]
     },
     "execution_count": 154,
     "metadata": {},
     "output_type": "execute_result"
    }
   ],
   "source": [
    "len(nine_sample_projects)"
   ]
  },
  {
   "cell_type": "code",
   "execution_count": 145,
   "id": "7fbba442-b295-4a9b-b94d-68dc41c0131f",
   "metadata": {},
   "outputs": [],
   "source": [
    "# Subset sb1_geo to only programs these 9 projects have applied for\n",
    "tcep_sccp1 = m3[m3[\"programcodes\"].str.contains(('TCEP|SCCP'))].reset_index(drop = True)"
   ]
  },
  {
   "cell_type": "code",
   "execution_count": 146,
   "id": "729a5f9b-34ce-4802-8195-2319a38bc857",
   "metadata": {},
   "outputs": [],
   "source": [
    "# Subset sb1_geo to only programs these 9 projects are located in\n",
    "tcep_sccp2 = m3[m3[\"countynames\"].str.contains(('Alameda|San Mateo|Santa Cruz|San Luis Obispo|Los Angeles|San Bernardino|Riverside'))].reset_index(drop = True)"
   ]
  },
  {
   "cell_type": "code",
   "execution_count": 147,
   "id": "9002f8e2-75d1-4b3a-a7b6-b01efa548b5c",
   "metadata": {},
   "outputs": [],
   "source": [
    "# Subset sb1_geo to only programs these 9 projects have applied for\n",
    "tcep_sccp2 = m3[m3[\"programcodes\"].str.contains(('TCEP|SCCP'))].reset_index(drop = True)"
   ]
  },
  {
   "cell_type": "code",
   "execution_count": 148,
   "id": "cb74fc0e-5ed1-4a40-acd7-84aa24a72733",
   "metadata": {},
   "outputs": [
    {
     "data": {
      "text/plain": [
       "(103, 45)"
      ]
     },
     "execution_count": 148,
     "metadata": {},
     "output_type": "execute_result"
    }
   ],
   "source": [
    "tcep_sccp2.shape"
   ]
  },
  {
   "cell_type": "code",
   "execution_count": 149,
   "id": "3fef812f-a54c-403e-992b-6bb51dcebdd7",
   "metadata": {},
   "outputs": [
    {
     "data": {
      "text/plain": [
       "TCEP    56\n",
       "SCCP    47\n",
       "Name: programcodes, dtype: int64"
      ]
     },
     "execution_count": 149,
     "metadata": {},
     "output_type": "execute_result"
    }
   ],
   "source": [
    "tcep_sccp2.programcodes.value_counts()"
   ]
  },
  {
   "cell_type": "code",
   "execution_count": 156,
   "id": "3ca74ed0-ffef-4d99-8c7a-970705429169",
   "metadata": {},
   "outputs": [
    {
     "data": {
      "text/plain": [
       "Index(['objectid', 'agencyids', 'agencies', 'programcodes', 'iijaprogram',\n",
       "       'iijacodes', 'projectstatuscodes', 'fiscalyears', 'fiscalyearcodes',\n",
       "       'projectstatuses', 'sb1funds', 'iijafunds', 'totalcost', 'dateupdated',\n",
       "       'projectcount', 'assemblydistricts', 'senatedistricts',\n",
       "       'congressionaldistricts', 'assemblycodes', 'senatecodes',\n",
       "       'congressionalcodes', 'countynames', 'citynames', 'countycodes',\n",
       "       'citycodes', 'ct_codes', 'ct_districts', 'issb1', 'isiija', 'isonshs',\n",
       "       'issb1codes', 'isiijacode', 'isonshscodes', 'popup', 'geometry',\n",
       "       'projectid', 'projecttitle_x', 'projectdescription',\n",
       "       'projecttitle_count', 'projectdescription_count', 'projecttitle_y',\n",
       "       'implementingagency', 'fiscalyearcode', '_merge',\n",
       "       'projecttitle_x_count'],\n",
       "      dtype='object')"
      ]
     },
     "execution_count": 156,
     "metadata": {},
     "output_type": "execute_result"
    }
   ],
   "source": [
    "tcep_sccp2.columns"
   ]
  },
  {
   "cell_type": "code",
   "execution_count": 157,
   "id": "d9ed4ea2-9e66-4ddd-b1b6-1c65d7ceaf97",
   "metadata": {},
   "outputs": [
    {
     "data": {
      "text/plain": [
       "_merge    \n",
       "right_only    103\n",
       "left_only       9\n",
       "both            0\n",
       "dtype: int64"
      ]
     },
     "execution_count": 157,
     "metadata": {},
     "output_type": "execute_result"
    }
   ],
   "source": [
    "pd.merge(\n",
    "    nine_sample_projects,\n",
    "    tcep_sccp2.drop(columns = [\"_merge\"]),\n",
    "    how=\"outer\",\n",
    "    left_on=[\"ct_project_id\"],\n",
    "    right_on=[\"projectid\"],\n",
    "    indicator=True,\n",
    ")[[\"_merge\"]].value_counts()"
   ]
  },
  {
   "cell_type": "code",
   "execution_count": 159,
   "id": "a7475dba-a1dc-414c-8f13-c94d34003069",
   "metadata": {},
   "outputs": [
    {
     "data": {
      "text/plain": [
       "_merge    \n",
       "right_only    103\n",
       "left_only       9\n",
       "both            0\n",
       "dtype: int64"
      ]
     },
     "execution_count": 159,
     "metadata": {},
     "output_type": "execute_result"
    }
   ],
   "source": [
    "pd.merge(\n",
    "    nine_sample_projects,\n",
    "    tcep_sccp2.drop(columns = [\"_merge\"]),\n",
    "    how=\"outer\",\n",
    "    left_on=[\"project_name\"],\n",
    "    right_on=[\"projecttitle_x\"],\n",
    "    indicator=True,\n",
    ")[[\"_merge\"]].value_counts()"
   ]
  },
  {
   "cell_type": "markdown",
   "id": "f3a52b8f-aa23-44c6-aee4-59bae929ce38",
   "metadata": {},
   "source": [
    "* Eyeballing matches\n",
    "    * route 395 widening from sr 18 to chamberlaine way in SB1 could match us 395 freight mobility and safety project in Non SHOPP\n",
    "    * state route 1 state park to bayporter auxiliary lanes in SB1 is watsonvillesanta cruz multimodal corridor program wscmcp cycle 3 project contract 1 sr 1 freedom to state park aux lanes bus on shoulders and coastal rail trail segment 12 in non SHOPP"
   ]
  },
  {
   "cell_type": "code",
   "execution_count": 177,
   "id": "c03ada7e-43f2-4f22-9ff2-d6ad9704337f",
   "metadata": {
    "scrolled": true,
    "tags": []
   },
   "outputs": [],
   "source": [
    "# tcep_sccp2[['projecttitle_x','agencies','countynames', 'projectdescription']].sort_values(['countynames','projecttitle_x'])"
   ]
  },
  {
   "cell_type": "code",
   "execution_count": 176,
   "id": "2eec244d-6141-4655-898d-d10e23cca51d",
   "metadata": {
    "scrolled": true,
    "tags": []
   },
   "outputs": [],
   "source": [
    "# nine_sample_projects[['project_name','lead_agency','full_county_name','project_description']].sort_values(['full_county_name','project_name'])"
   ]
  },
  {
   "cell_type": "code",
   "execution_count": 162,
   "id": "bc283dad-5081-4d09-b160-006c9992472a",
   "metadata": {},
   "outputs": [],
   "source": [
    "non_shopp_projects_sb1_list = ['route 395 widening from sr 18 to chamberlaine way', \n",
    "                             'state route 1  state park to bayporter auxiliary lanes']"
   ]
  },
  {
   "cell_type": "code",
   "execution_count": 165,
   "id": "2e3dad1e-5626-49a9-aff0-746fb54858e9",
   "metadata": {},
   "outputs": [],
   "source": [
    "non_shopp_projects_in_sb1 = tcep_sccp2[tcep_sccp2[\"projecttitle_x\"].isin(non_shopp_projects_sb1_list)].reset_index(drop = True)"
   ]
  },
  {
   "cell_type": "code",
   "execution_count": 167,
   "id": "3586edee-5451-481b-b3b1-2713acae7dc7",
   "metadata": {},
   "outputs": [],
   "source": [
    "non_shopp_projects_in_sb1.projecttitle_x = non_shopp_projects_in_sb1.projecttitle_x.replace({\n",
    "    'route 395 widening from sr 18 to chamberlaine way': 'us 395 freight mobility and safety project',\n",
    "    'state route 1  state park to bayporter auxiliary lanes': 'watsonvillesanta cruz multimodal corridor program wscmcp cycle 3 project contract 1  sr 1 freedom to state park aux lanes bus on shoulders and coastal rail trail segment 12'\n",
    "})"
   ]
  },
  {
   "cell_type": "code",
   "execution_count": 169,
   "id": "3be58107-c5b9-48b6-bfdd-571247169e81",
   "metadata": {},
   "outputs": [
    {
     "data": {
      "text/html": [
       "<div>\n",
       "<style scoped>\n",
       "    .dataframe tbody tr th:only-of-type {\n",
       "        vertical-align: middle;\n",
       "    }\n",
       "\n",
       "    .dataframe tbody tr th {\n",
       "        vertical-align: top;\n",
       "    }\n",
       "\n",
       "    .dataframe thead th {\n",
       "        text-align: right;\n",
       "    }\n",
       "</style>\n",
       "<table border=\"1\" class=\"dataframe\">\n",
       "  <thead>\n",
       "    <tr style=\"text-align: right;\">\n",
       "      <th></th>\n",
       "      <th>agencies</th>\n",
       "      <th>programcodes</th>\n",
       "      <th>countynames</th>\n",
       "      <th>projecttitle_x</th>\n",
       "      <th>projectdescription</th>\n",
       "    </tr>\n",
       "  </thead>\n",
       "  <tbody>\n",
       "    <tr>\n",
       "      <th>0</th>\n",
       "      <td>None</td>\n",
       "      <td>TCEP</td>\n",
       "      <td>San Bernardino</td>\n",
       "      <td>us 395 freight mobility and safety project</td>\n",
       "      <td>on us 395 between sr 18 and chamberlaine way in the city of adelanto widen this section of us 395 from two to four lanes proposed improvements also include operational improvements such as adding turn lanes and signal improvements at intersections</td>\n",
       "    </tr>\n",
       "  </tbody>\n",
       "</table>\n",
       "</div>"
      ],
      "text/plain": [
       "  agencies programcodes     countynames  \\\n",
       "0     None         TCEP  San Bernardino   \n",
       "\n",
       "                               projecttitle_x  \\\n",
       "0  us 395 freight mobility and safety project   \n",
       "\n",
       "                                                                                                                                                                                                                                        projectdescription  \n",
       "0  on us 395 between sr 18 and chamberlaine way in the city of adelanto widen this section of us 395 from two to four lanes proposed improvements also include operational improvements such as adding turn lanes and signal improvements at intersections  "
      ]
     },
     "execution_count": 169,
     "metadata": {},
     "output_type": "execute_result"
    }
   ],
   "source": [
    "non_shopp_projects_in_sb1[['agencies','programcodes', 'countynames','projecttitle_x','projectdescription']]"
   ]
  },
  {
   "cell_type": "code",
   "execution_count": 183,
   "id": "5d02f7da-fb30-4fe6-a62c-f73e2efd872e",
   "metadata": {},
   "outputs": [],
   "source": [
    "nonshopp_sb1_m4 = pd.merge(\n",
    "    non_shopp_projects_in_sb1,\n",
    "    nine_sample_projects,\n",
    "    how=\"inner\",\n",
    "    left_on=[\"projecttitle_x\"],\n",
    "    right_on=[\"project_name\"],\n",
    ")"
   ]
  },
  {
   "cell_type": "code",
   "execution_count": 184,
   "id": "d6cf4ff9-e128-41e2-9b0b-2ad5d810022c",
   "metadata": {},
   "outputs": [
    {
     "data": {
      "text/plain": [
       "1"
      ]
     },
     "execution_count": 184,
     "metadata": {},
     "output_type": "execute_result"
    }
   ],
   "source": [
    "len(nonshopp_sb1_m4)"
   ]
  },
  {
   "cell_type": "code",
   "execution_count": null,
   "id": "660faea4-9c6d-4041-b131-8f3905342a8a",
   "metadata": {},
   "outputs": [],
   "source": [
    "# nine_sample_projects_geo[['project_name','projecttitle','project_description','projectdescription', 'full_county_name']]"
   ]
  },
  {
   "cell_type": "code",
   "execution_count": null,
   "id": "b1ffa7f6-a4d1-4ffb-986d-5f9681dc2f00",
   "metadata": {},
   "outputs": [],
   "source": [
    "#  _utils.geojson_gcs_export(nine_sample_projects_geo,_utils.GCS_FILE_PATH, 'nine_sample_projects_geom')"
   ]
  },
  {
   "cell_type": "markdown",
   "id": "9f788f4a-dec6-4125-8fcf-f07bbc146b13",
   "metadata": {},
   "source": [
    "### Concat all the matches"
   ]
  },
  {
   "cell_type": "code",
   "execution_count": 185,
   "id": "365cd38c-1f5e-46b8-befe-d0e856deb421",
   "metadata": {},
   "outputs": [],
   "source": [
    "nonshopp_geo = pd.concat([nonshopp_sb1_m1, nonshopp_sb1_m2, nonshopp_sb1_m3, nonshopp_sb1_m4], sort=False)"
   ]
  },
  {
   "cell_type": "code",
   "execution_count": 186,
   "id": "83994359-cd6b-4830-bac4-8046b12aea00",
   "metadata": {},
   "outputs": [
    {
     "data": {
      "text/plain": [
       "geopandas.geodataframe.GeoDataFrame"
      ]
     },
     "execution_count": 186,
     "metadata": {},
     "output_type": "execute_result"
    }
   ],
   "source": [
    "type(nonshopp_geo)"
   ]
  },
  {
   "cell_type": "code",
   "execution_count": 187,
   "id": "7dfea856-f368-4b5e-8d57-c461f72eaaa2",
   "metadata": {},
   "outputs": [
    {
     "data": {
      "text/plain": [
       "129"
      ]
     },
     "execution_count": 187,
     "metadata": {},
     "output_type": "execute_result"
    }
   ],
   "source": [
    "len(nonshopp_geo)"
   ]
  },
  {
   "cell_type": "code",
   "execution_count": 202,
   "id": "28ea2190-4a8c-4dce-884f-7b4ee665c6ce",
   "metadata": {},
   "outputs": [],
   "source": [
    "sb1_cols = m3.columns.tolist()"
   ]
  },
  {
   "cell_type": "code",
   "execution_count": 204,
   "id": "0b94e432-f19c-48fd-92d6-229823d8b05b",
   "metadata": {},
   "outputs": [],
   "source": [
    "sb1_cols.remove('geometry')"
   ]
  },
  {
   "cell_type": "code",
   "execution_count": 209,
   "id": "ce03cc58-8dc1-4ff5-90b9-1ceee1647d5c",
   "metadata": {},
   "outputs": [],
   "source": [
    "sb1_cols.extend(['project_name_count',\n",
    " 'project_description_count',\n",
    " 'project_title_fuzzy_match',\n",
    " 'project_desc_fuzzy_match'])"
   ]
  },
  {
   "cell_type": "code",
   "execution_count": 211,
   "id": "46b5a636-0bd4-4871-aa82-f014402497d2",
   "metadata": {},
   "outputs": [],
   "source": [
    "# Delete out the columns from SB1 except geometry\n",
    "nonshopp_geo2 = nonshopp_geo.drop(columns = sb1_cols)"
   ]
  },
  {
   "cell_type": "code",
   "execution_count": 232,
   "id": "1f1203d5-47d9-442f-abb9-9d6573678c78",
   "metadata": {},
   "outputs": [
    {
     "data": {
      "text/html": [
       "<div>\n",
       "<style scoped>\n",
       "    .dataframe tbody tr th:only-of-type {\n",
       "        vertical-align: middle;\n",
       "    }\n",
       "\n",
       "    .dataframe tbody tr th {\n",
       "        vertical-align: top;\n",
       "    }\n",
       "\n",
       "    .dataframe thead th {\n",
       "        text-align: right;\n",
       "    }\n",
       "</style>\n",
       "<table border=\"1\" class=\"dataframe\">\n",
       "  <thead>\n",
       "    <tr style=\"text-align: right;\">\n",
       "      <th></th>\n",
       "      <th>previous_caltrans_nominations</th>\n",
       "    </tr>\n",
       "  </thead>\n",
       "  <tbody>\n",
       "    <tr>\n",
       "      <th>0</th>\n",
       "      <td>TIRCP Cycle 2</td>\n",
       "    </tr>\n",
       "    <tr>\n",
       "      <th>2</th>\n",
       "      <td>TIRCP Cycle 3</td>\n",
       "    </tr>\n",
       "    <tr>\n",
       "      <th>5</th>\n",
       "      <td>TIRCP Cycle 4</td>\n",
       "    </tr>\n",
       "    <tr>\n",
       "      <th>8</th>\n",
       "      <td>TIRCP Cycle 5</td>\n",
       "    </tr>\n",
       "    <tr>\n",
       "      <th>11</th>\n",
       "      <td>TIRCP Cycle 1</td>\n",
       "    </tr>\n",
       "    <tr>\n",
       "      <th>95</th>\n",
       "      <td>Federal Community Projects 2021 LOS Signed\\nACCESS Project List</td>\n",
       "    </tr>\n",
       "    <tr>\n",
       "      <th>96</th>\n",
       "      <td>No Previous ATP Projects</td>\n",
       "    </tr>\n",
       "    <tr>\n",
       "      <th>97</th>\n",
       "      <td>ATP 2021 Cycle 5 Application - 7\\nFederal Community Projects 2021 Sponsored\\nStimulus Drill 2021</td>\n",
       "    </tr>\n",
       "    <tr>\n",
       "      <th>103</th>\n",
       "      <td>Active Transportation Program Previous Projects</td>\n",
       "    </tr>\n",
       "    <tr>\n",
       "      <th>105</th>\n",
       "      <td>RAISE 2022 LOS Signed</td>\n",
       "    </tr>\n",
       "    <tr>\n",
       "      <th>108</th>\n",
       "      <td>Stimulus Drill 2021</td>\n",
       "    </tr>\n",
       "    <tr>\n",
       "      <th>109</th>\n",
       "      <td>SCCP Cycle 2 Priority 9 of 10 (Not Awarded)\\nStimulus Drill 2021\\nACCESS Project List</td>\n",
       "    </tr>\n",
       "    <tr>\n",
       "      <th>110</th>\n",
       "      <td>RAISE 2021 LOS Not Signed\\nStimulus Drill 2021\\nTCEP Cycle 2 submittal by Contra Costa TA (Awarded)</td>\n",
       "    </tr>\n",
       "    <tr>\n",
       "      <th>111</th>\n",
       "      <td>2020 STIP (RIP)</td>\n",
       "    </tr>\n",
       "    <tr>\n",
       "      <th>0</th>\n",
       "      <td>DRMT Consolidated Statewide Project List\\nTCEP Cycle 2 Nomination (was not submitted)</td>\n",
       "    </tr>\n",
       "    <tr>\n",
       "      <th>1</th>\n",
       "      <td>TIRCP Award was downscaled\\nSCCP Cycle 3 Priority 05 of 14\\nAwarded RAISE 2022 (not Caltrans)</td>\n",
       "    </tr>\n",
       "    <tr>\n",
       "      <th>2</th>\n",
       "      <td>ACCESS Project List</td>\n",
       "    </tr>\n",
       "    <tr>\n",
       "      <th>3</th>\n",
       "      <td>TCEP Cycle 2 Nomination (was not submitted)</td>\n",
       "    </tr>\n",
       "    <tr>\n",
       "      <th>0</th>\n",
       "      <td>Submitted to TCEP Cycle 2 by Calaveras County COG; funded by other program\\nFederal Community Projects 2021 LOS Signed\\nACCESS Project List</td>\n",
       "    </tr>\n",
       "    <tr>\n",
       "      <th>2</th>\n",
       "      <td>TCEP Cycle 2 Priority 19 of 26 (Awarded)\\nSubmitted to SCCP Cycle 2 by RCTC (No Award; Recommended TCEP)\\nACCESS Project List</td>\n",
       "    </tr>\n",
       "    <tr>\n",
       "      <th>3</th>\n",
       "      <td>TCEP Cycle 2 Priority 13 of 26 (Awarded)\\nACCESS Project List</td>\n",
       "    </tr>\n",
       "    <tr>\n",
       "      <th>6</th>\n",
       "      <td>Received partial funding TCEP Cycle 1\\nTCEP Cycle 2 Submittal, Priority 3 of 26 (Awarded)\\n28x28\\nINFRA 2021 LOS Not Signed\\nFederal Community Projects 2021 LOS Signed\\nACCESS Project List</td>\n",
       "    </tr>\n",
       "    <tr>\n",
       "      <th>7</th>\n",
       "      <td>TCEP Cycle 2 Award\\nACCESS Project List</td>\n",
       "    </tr>\n",
       "    <tr>\n",
       "      <th>8</th>\n",
       "      <td>RAISE 2021 LOS Signed\\nTCEP Cycle 2 Priority 11 of 26 (Awarded $25 M)\\nACCESS Project List</td>\n",
       "    </tr>\n",
       "    <tr>\n",
       "      <th>9</th>\n",
       "      <td>Programmed State Transportation Improvement Program (STIP)\\nMONSTER</td>\n",
       "    </tr>\n",
       "    <tr>\n",
       "      <th>11</th>\n",
       "      <td>RAISE 2021 - Letter of commitment (letter from Caltrans needed if funded through RAISE  - Caltrans is the implementing agency)\\nINFRA 2021 LOS Signed\\nRAISE 2022 Letter of Commitment\\nMPDG 2022  Letter of Commitment\\nACCESS Project List</td>\n",
       "    </tr>\n",
       "    <tr>\n",
       "      <th>0</th>\n",
       "      <td>TCEP Cycle 3 Deleted</td>\n",
       "    </tr>\n",
       "  </tbody>\n",
       "</table>\n",
       "</div>"
      ],
      "text/plain": [
       "                                                                                                                                                                                                                    previous_caltrans_nominations\n",
       "0                                                                                                                                                                                                                                   TIRCP Cycle 2\n",
       "2                                                                                                                                                                                                                                   TIRCP Cycle 3\n",
       "5                                                                                                                                                                                                                                   TIRCP Cycle 4\n",
       "8                                                                                                                                                                                                                                   TIRCP Cycle 5\n",
       "11                                                                                                                                                                                                                                  TIRCP Cycle 1\n",
       "95                                                                                                                                                                                Federal Community Projects 2021 LOS Signed\\nACCESS Project List\n",
       "96                                                                                                                                                                                                                       No Previous ATP Projects\n",
       "97                                                                                                                                               ATP 2021 Cycle 5 Application - 7\\nFederal Community Projects 2021 Sponsored\\nStimulus Drill 2021\n",
       "103                                                                                                                                                                                               Active Transportation Program Previous Projects\n",
       "105                                                                                                                                                                                                                         RAISE 2022 LOS Signed\n",
       "108                                                                                                                                                                                                                           Stimulus Drill 2021\n",
       "109                                                                                                                                                         SCCP Cycle 2 Priority 9 of 10 (Not Awarded)\\nStimulus Drill 2021\\nACCESS Project List\n",
       "110                                                                                                                                           RAISE 2021 LOS Not Signed\\nStimulus Drill 2021\\nTCEP Cycle 2 submittal by Contra Costa TA (Awarded)\n",
       "111                                                                                                                                                                                                                               2020 STIP (RIP)\n",
       "0                                                                                                                                                           DRMT Consolidated Statewide Project List\\nTCEP Cycle 2 Nomination (was not submitted)\n",
       "1                                                                                                                                                   TIRCP Award was downscaled\\nSCCP Cycle 3 Priority 05 of 14\\nAwarded RAISE 2022 (not Caltrans)\n",
       "2                                                                                                                                                                                                                             ACCESS Project List\n",
       "3                                                                                                                                                                                                     TCEP Cycle 2 Nomination (was not submitted)\n",
       "0                                                                                                     Submitted to TCEP Cycle 2 by Calaveras County COG; funded by other program\\nFederal Community Projects 2021 LOS Signed\\nACCESS Project List\n",
       "2                                                                                                                   TCEP Cycle 2 Priority 19 of 26 (Awarded)\\nSubmitted to SCCP Cycle 2 by RCTC (No Award; Recommended TCEP)\\nACCESS Project List\n",
       "3                                                                                                                                                                                   TCEP Cycle 2 Priority 13 of 26 (Awarded)\\nACCESS Project List\n",
       "6                                                    Received partial funding TCEP Cycle 1\\nTCEP Cycle 2 Submittal, Priority 3 of 26 (Awarded)\\n28x28\\nINFRA 2021 LOS Not Signed\\nFederal Community Projects 2021 LOS Signed\\nACCESS Project List\n",
       "7                                                                                                                                                                                                         TCEP Cycle 2 Award\\nACCESS Project List\n",
       "8                                                                                                                                                      RAISE 2021 LOS Signed\\nTCEP Cycle 2 Priority 11 of 26 (Awarded $25 M)\\nACCESS Project List\n",
       "9                                                                                                                                                                             Programmed State Transportation Improvement Program (STIP)\\nMONSTER\n",
       "11   RAISE 2021 - Letter of commitment (letter from Caltrans needed if funded through RAISE  - Caltrans is the implementing agency)\\nINFRA 2021 LOS Signed\\nRAISE 2022 Letter of Commitment\\nMPDG 2022  Letter of Commitment\\nACCESS Project List\n",
       "0                                                                                                                                                                                                                            TCEP Cycle 3 Deleted"
      ]
     },
     "execution_count": 232,
     "metadata": {},
     "output_type": "execute_result"
    }
   ],
   "source": [
    "nonshopp_geo2[['previous_caltrans_nominations']].drop_duplicates()"
   ]
  },
  {
   "cell_type": "code",
   "execution_count": 228,
   "id": "b6b53590-458b-45f5-9ea7-fcac62cb6479",
   "metadata": {},
   "outputs": [],
   "source": [
    "# nonshopp_geo2.explore(tooltip = ['project_name','project_description', 'lead_agency', 'previous_caltrans_nominations'], marker_type='marker', marker_kwds={\"radius\":3})"
   ]
  },
  {
   "cell_type": "code",
   "execution_count": 229,
   "id": "3ae1940f-690e-4e79-bba6-b66a432ca5c0",
   "metadata": {},
   "outputs": [],
   "source": [
    "_utils.geojson_gcs_export(nonshopp_geo2,_utils.GCS_FILE_PATH, 'nonshopp_gdf')"
   ]
  }
 ],
 "metadata": {
  "kernelspec": {
   "display_name": "Python 3 (ipykernel)",
   "language": "python",
   "name": "python3"
  },
  "language_info": {
   "codemirror_mode": {
    "name": "ipython",
    "version": 3
   },
   "file_extension": ".py",
   "mimetype": "text/x-python",
   "name": "python",
   "nbconvert_exporter": "python",
   "pygments_lexer": "ipython3",
   "version": "3.9.13"
  }
 },
 "nbformat": 4,
 "nbformat_minor": 5
}
