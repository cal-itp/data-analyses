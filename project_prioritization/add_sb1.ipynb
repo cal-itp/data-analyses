{
 "cells": [
  {
   "cell_type": "markdown",
   "id": "1a173285-41bd-4523-8d4b-b5474ec1b034",
   "metadata": {},
   "source": [
    "## Add SB1 geographic information."
   ]
  },
  {
   "cell_type": "code",
   "execution_count": 1,
   "id": "22b768e0-0316-4684-a4b2-683dcd82a323",
   "metadata": {},
   "outputs": [
    {
     "name": "stderr",
     "output_type": "stream",
     "text": [
      "/opt/conda/lib/python3.9/site-packages/geopandas/_compat.py:123: UserWarning: The Shapely GEOS version (3.10.3-CAPI-1.16.1) is incompatible with the GEOS version PyGEOS was compiled with (3.10.1-CAPI-1.16.0). Conversions between both will be slow.\n",
      "  warnings.warn(\n"
     ]
    }
   ],
   "source": [
    "import _utils\n",
    "import geopandas as gpd\n",
    "import numpy as np\n",
    "import pandas as pd\n",
    "from calitp.sql import to_snakecase"
   ]
  },
  {
   "cell_type": "code",
   "execution_count": 2,
   "id": "736a052e-ea23-4b87-bdf9-43d5b396c9e7",
   "metadata": {},
   "outputs": [
    {
     "name": "stderr",
     "output_type": "stream",
     "text": [
      "/opt/conda/lib/python3.9/site-packages/fuzzywuzzy/fuzz.py:11: UserWarning: Using slow pure-python SequenceMatcher. Install python-Levenshtein to remove this warning\n"
     ]
    }
   ],
   "source": [
    "import fuzzywuzzy\n",
    "from fuzzywuzzy import process"
   ]
  },
  {
   "cell_type": "code",
   "execution_count": 3,
   "id": "c375e3ed-515c-4762-a8aa-2c448a5433f9",
   "metadata": {},
   "outputs": [],
   "source": [
    "import fsspec\n",
    "from calitp import *\n",
    "from calitp.storage import get_fs\n",
    "\n",
    "fs = get_fs()\n",
    "import os"
   ]
  },
  {
   "cell_type": "code",
   "execution_count": 4,
   "id": "c7bbc54d-4a75-4b6d-8ed8-a44ec2685cd9",
   "metadata": {},
   "outputs": [],
   "source": [
    "pd.options.display.max_columns = 200\n",
    "pd.set_option(\"display.max_rows\", None)\n",
    "pd.set_option(\"display.max_colwidth\", None)"
   ]
  },
  {
   "cell_type": "code",
   "execution_count": 5,
   "id": "237a5df4-60b9-4b73-858e-0468dad85d15",
   "metadata": {},
   "outputs": [],
   "source": [
    "def basic_cleaning(df, agency_col: str, project_name_col:str, project_id_col: str, project_desc_col:str):\n",
    "    \n",
    "    df = _utils.organization_cleaning(df, agency_col)\n",
    "    \n",
    "    # Remove all punctation, lowercase, and strip whitespaces from \n",
    "    # project titles & descriptions\n",
    "    for i in [project_name_col, project_desc_col]:\n",
    "        df[i] = (df[i].str.lower().str.replace('[^\\w\\s]','').str.strip())\n",
    "                 \n",
    "    # Some project names contain the year. Remove anything after 20..\n",
    "    df[project_name_col] = df[project_name_col].str.split(\"20\").str[0]\n",
    "    \n",
    "    # Project ID, remove all commas and lowercase if there are strings\n",
    "    df[project_id_col] = (df[project_id_col].str.replace(\"'\", \"\").str.lower().str.strip())\n",
    "    \n",
    "    # Get rid of | in object cols\n",
    "    # https://stackoverflow.com/questions/68152902/extracting-only-object-type-columns-in-a-separate-list-from-a-data-frame-in-pand\n",
    "    string_cols = df.select_dtypes(include=['object']).columns.to_list()\n",
    "    try:\n",
    "        for i in string_cols:\n",
    "            df[i] = df[i].str.replace(\"|\", \"\")\n",
    "    except:\n",
    "        pass\n",
    "        \n",
    "    # Fill in NA\n",
    "    df = df.fillna(df.dtypes.replace({\"float64\": 0.0, \"object\": \"None\"}))\n",
    "\n",
    "    return df"
   ]
  },
  {
   "cell_type": "markdown",
   "id": "76e4f5c3-7968-49e6-97d3-a1d165e50af3",
   "metadata": {
    "tags": []
   },
   "source": [
    "### Non SHOPP-ATP-TIRCP\n",
    "* No year information for projects."
   ]
  },
  {
   "cell_type": "code",
   "execution_count": 6,
   "id": "6b483a64-786d-4d9c-96e8-0bfe429ffd2a",
   "metadata": {},
   "outputs": [],
   "source": [
    "# Read in 10 Year non SHOPP with ATP and TIRCP\n",
    "nonshopp = to_snakecase(\n",
    "    pd.read_excel(f\"{_utils.GCS_FILE_PATH}cleaned_data_atp_tircp.xlsx\")\n",
    ")"
   ]
  },
  {
   "cell_type": "code",
   "execution_count": 7,
   "id": "aa0c6362-1f89-4112-a55f-6928841266ce",
   "metadata": {},
   "outputs": [],
   "source": [
    "# Subset to join.\n",
    "non_shopp_subset = [\n",
    "    \"ppno\",\n",
    "    \"ct_project_id\",\n",
    "    \"ea\",\n",
    "    \"project_name\",\n",
    "    \"lead_agency\",\n",
    "    \"previous_caltrans_nominations\",\n",
    "    \"full_county_name\",\n",
    "    \"county\",\n",
    "    \"district_full_name\",\n",
    "    \"district\",\n",
    "    \"project_description\",\n",
    "    \"current_phase\",\n",
    "    \"primary_mode\",\n",
    "    \"urban_rural\",\n",
    "    \"total_project_cost__$1,000\",\n",
    "    \"total_unfunded_need__$1,000\",\n",
    "    \"shs_capacity_increase_detail\",\n",
    "    \"current_phase\",\n",
    "]"
   ]
  },
  {
   "cell_type": "code",
   "execution_count": 8,
   "id": "a63dc3e3-2485-4331-b370-c6fdf2c57952",
   "metadata": {},
   "outputs": [],
   "source": [
    "# nonshopp = nonshopp[non_shopp_subset]"
   ]
  },
  {
   "cell_type": "code",
   "execution_count": 9,
   "id": "06967d23-860f-4d11-a4ed-18675a5070e6",
   "metadata": {},
   "outputs": [],
   "source": [
    "# Add a digit in front of single digits\n",
    "nonshopp.district = nonshopp.district.map(\"{:02}\".format)"
   ]
  },
  {
   "cell_type": "code",
   "execution_count": 10,
   "id": "388aab8a-a885-4cd2-98b2-7dd6e5b24b82",
   "metadata": {},
   "outputs": [
    {
     "name": "stderr",
     "output_type": "stream",
     "text": [
      "/tmp/ipykernel_2784/3292077459.py:8: FutureWarning: The default value of regex will change from True to False in a future version.\n",
      "/tmp/ipykernel_2784/3292077459.py:21: FutureWarning: The default value of regex will change from True to False in a future version. In addition, single character regular expressions will *not* be treated as literal strings when regex=True.\n"
     ]
    }
   ],
   "source": [
    "nonshopp = basic_cleaning(nonshopp, \"lead_agency\", \"project_name\", \"ct_project_id\", \"project_description\")"
   ]
  },
  {
   "cell_type": "markdown",
   "id": "69f2f3b4-c1d0-4d4b-87c5-d2158e115dcc",
   "metadata": {
    "tags": []
   },
   "source": [
    "### 9 Sample Non SHOPP "
   ]
  },
  {
   "cell_type": "code",
   "execution_count": 11,
   "id": "3e217738-36f1-4c7e-939d-dda2c86dc95d",
   "metadata": {},
   "outputs": [],
   "source": [
    "nine_projects_names = [\n",
    "    \"LA-210 Median Concrete Barrier Renovation\",\n",
    "    \"SR-14 Widening Project\",\n",
    "    \"US 395 Freight Mobility and Safety Project\",\n",
    "    \"East Bay Greenway Multimodal Corridor Project\",\n",
    "    \"Watsonville-Santa Cruz Multimodal Corridor Program\",\n",
    "    \"SM 101 Woodside Road Interchange and Port Access Project\",\n",
    "    \"I-710 Integrated Corridor Management\",\n",
    "    \"Five Cities Multimodal Transportation Network Enhancement Project\",\n",
    "    \"SR-86/Avenue 50 New Interchange (Phase II)\",\n",
    "]"
   ]
  },
  {
   "cell_type": "code",
   "execution_count": 12,
   "id": "8834ce41-93b4-4978-a1bf-d4595dad14a6",
   "metadata": {},
   "outputs": [],
   "source": [
    "nine_projects_names = [x.lower() for x in nine_projects_names]"
   ]
  },
  {
   "cell_type": "code",
   "execution_count": 13,
   "id": "8b7deddf-30b5-4071-8a9c-2bd91c9cdc25",
   "metadata": {},
   "outputs": [],
   "source": [
    "nine_projects_id = [\n",
    "    \"0422000202\",\n",
    "    \"0414000032\",\n",
    "    \"0520000083\",\n",
    "    \"0515000063\",\n",
    "    \"0721000056\",\n",
    "    \"0716000370\",\n",
    "    \"0813000222\",\n",
    "    \"0814000144\",\n",
    "    \"0414000032\",\n",
    "    \"0720000165\",\n",
    "]"
   ]
  },
  {
   "cell_type": "code",
   "execution_count": 14,
   "id": "86fcc2e9-e7d2-413e-bf0f-a133f9e1d628",
   "metadata": {},
   "outputs": [],
   "source": [
    "nine_sample_projects = (nonshopp[nonshopp.ct_project_id.isin(nine_projects_id)].reset_index(drop=True))"
   ]
  },
  {
   "cell_type": "markdown",
   "id": "87abc3fd-7d93-45da-ac5c-886f01e00d0b",
   "metadata": {},
   "source": [
    "* Solutions for Congest Corridors (SCCP): 1\n",
    "* Trade Corridor Enhancement Program (TCEP): 3\n",
    "* Only 3 projects seem to have been awarded. \n",
    "    * east bay greenway multimodal corridor project phase 1\n",
    "    * us 101woodside road interchange and port access project\n",
    "    * watsonvillesanta cruz multimodal corridor program wscmcp cycle 3 project contract 1 sr 1 freedom to state park aux lanes bus on shoulders and coastal rail trail segment 12"
   ]
  },
  {
   "cell_type": "code",
   "execution_count": 15,
   "id": "d001144d-7528-43d7-8b60-32d925ccf080",
   "metadata": {
    "scrolled": true,
    "tags": []
   },
   "outputs": [],
   "source": [
    "# nine_sample_projects[['project_name','project_description','county','previous_caltrans_nominations']]"
   ]
  },
  {
   "cell_type": "markdown",
   "id": "fdb18805-5114-4180-ab25-911c37435f42",
   "metadata": {},
   "source": [
    "### Sb1 Geo\n",
    "* https://odpsvcs.dot.ca.gov/arcgis/rest/services/RCA/RCA_Projects_032022/FeatureServer"
   ]
  },
  {
   "cell_type": "code",
   "execution_count": 16,
   "id": "569fabbe-78eb-4f85-a8ec-4ff5aaf74c8e",
   "metadata": {},
   "outputs": [],
   "source": [
    "# Subset to preview SB1 vs Nonshopp. Nonshopp is on the left, sb1 on the right\n",
    "preview_cols =  ['project_name','projecttitle','project_description','projectdescription', 'full_county_name', 'countynames']"
   ]
  },
  {
   "cell_type": "markdown",
   "id": "1ea8e6ea-1ab7-42f4-be6d-d0de4d4a4113",
   "metadata": {
    "tags": []
   },
   "source": [
    "#### Step 1: Read in files with geometry "
   ]
  },
  {
   "cell_type": "code",
   "execution_count": 17,
   "id": "66078fe9-1813-4114-8cd3-f202d767d42f",
   "metadata": {},
   "outputs": [],
   "source": [
    "url_pt1 = \"https://odpsvcs.dot.ca.gov/arcgis/rest/services/RCA/RCA_Projects_032022/FeatureServer/\"\n",
    "url_pt2 = \"/query?where=1%3D1&objectIds=&time=&geometry=&geometryType=esriGeometryEnvelope&inSR=&spatialRel=esriSpatialRelIntersects&distance=&units=esriSRUnit_Foot&relationParam=&outFields=*+&returnGeometry=true&maxAllowableOffset=&geometryPrecision=&outSR=&gdbVersion=&historicMoment=&returnDistinctValues=false&returnIdsOnly=false&returnCountOnly=false&returnExtentOnly=false&orderByFields=&groupByFieldsForStatistics=&outStatistics=&returnZ=false&returnM=false&multipatchOption=&resultOffset=&resultRecordCount=&returnTrueCurves=false&sqlFormat=none&f=geojson\""
   ]
  },
  {
   "cell_type": "code",
   "execution_count": 18,
   "id": "1d4ea347-27e9-46e0-896b-d46d31cb583c",
   "metadata": {},
   "outputs": [],
   "source": [
    "def rest_server():\n",
    "    full_gdf = pd.DataFrame()\n",
    "    for i in [*range(0,22)]:\n",
    "        df = to_snakecase(gpd.read_file(f\"{url_pt1}{i}{url_pt2}\"))\n",
    "        full_gdf = pd.concat([full_gdf, df], axis=0)\n",
    "    return full_gdf"
   ]
  },
  {
   "cell_type": "code",
   "execution_count": 19,
   "id": "8871efb7-866e-4eba-8de0-47aba5974e09",
   "metadata": {},
   "outputs": [],
   "source": [
    "sb1_geo1 = rest_server()"
   ]
  },
  {
   "cell_type": "code",
   "execution_count": 20,
   "id": "bf8f1b02-f703-487f-b0af-6b3b5aa494f0",
   "metadata": {},
   "outputs": [
    {
     "data": {
      "text/plain": [
       "Index(['objectid', 'agencyids', 'agencies', 'programcodes', 'iijaprogram',\n",
       "       'iijacodes', 'projectstatuscodes', 'fiscalyears', 'fiscalyearcodes',\n",
       "       'projectstatuses', 'sb1funds', 'iijafunds', 'totalcost', 'dateupdated',\n",
       "       'projectcount', 'assemblydistricts', 'senatedistricts',\n",
       "       'congressionaldistricts', 'assemblycodes', 'senatecodes',\n",
       "       'congressionalcodes', 'countynames', 'citynames', 'countycodes',\n",
       "       'citycodes', 'ct_codes', 'ct_districts', 'issb1', 'isiija', 'isonshs',\n",
       "       'issb1codes', 'isiijacode', 'isonshscodes', 'popup', 'geometry',\n",
       "       'projectid', 'projecttitle', 'projectdescription'],\n",
       "      dtype='object')"
      ]
     },
     "execution_count": 20,
     "metadata": {},
     "output_type": "execute_result"
    }
   ],
   "source": [
    "sb1_geo1.columns"
   ]
  },
  {
   "cell_type": "code",
   "execution_count": 21,
   "id": "2f810e79-6227-4c12-940d-3b8f92f7e1fd",
   "metadata": {},
   "outputs": [
    {
     "name": "stderr",
     "output_type": "stream",
     "text": [
      "/tmp/ipykernel_2784/3292077459.py:8: FutureWarning: The default value of regex will change from True to False in a future version.\n",
      "/tmp/ipykernel_2784/3292077459.py:21: FutureWarning: The default value of regex will change from True to False in a future version. In addition, single character regular expressions will *not* be treated as literal strings when regex=True.\n"
     ]
    }
   ],
   "source": [
    "sb1_geo2 = basic_cleaning(sb1_geo1, 'agencies','projecttitle','projectid',\n",
    "                         'projectdescription')"
   ]
  },
  {
   "cell_type": "code",
   "execution_count": 22,
   "id": "52ac67ea-44e6-43d4-b5d5-c2f345554418",
   "metadata": {},
   "outputs": [],
   "source": [
    "# sb1_geo = sb1_geo.drop(columns = 'popup')"
   ]
  },
  {
   "cell_type": "code",
   "execution_count": 23,
   "id": "d7bec9fb-c72f-4644-91c8-b8d019843a70",
   "metadata": {},
   "outputs": [
    {
     "data": {
      "text/plain": [
       "SHOPP    2741\n",
       "HM       1163\n",
       "LSR       509\n",
       "ATP       321\n",
       "SHOPA     165\n",
       "SGR       161\n",
       "STIP      126\n",
       "TIRCP      96\n",
       "LPP-F      68\n",
       "TCEP       63\n",
       "LPP-C      57\n",
       "STA        49\n",
       "SCCP       40\n",
       "FM         12\n",
       "SRA        11\n",
       "Name: programcodes, dtype: int64"
      ]
     },
     "execution_count": 23,
     "metadata": {},
     "output_type": "execute_result"
    }
   ],
   "source": [
    "sb1_geo2.programcodes.value_counts()"
   ]
  },
  {
   "cell_type": "code",
   "execution_count": 24,
   "id": "3a14fd39-d217-42dc-9d8d-b8a1b1f7b559",
   "metadata": {},
   "outputs": [
    {
     "data": {
      "text/plain": [
       "True"
      ]
     },
     "execution_count": 24,
     "metadata": {},
     "output_type": "execute_result"
    }
   ],
   "source": [
    "# All geometry is valid\n",
    "sb1_geo2.geometry.is_valid.sum() == len(sb1_geo2)"
   ]
  },
  {
   "cell_type": "code",
   "execution_count": 25,
   "id": "f51de107-8fb6-4d05-86a6-6111753452c6",
   "metadata": {},
   "outputs": [
    {
     "name": "stderr",
     "output_type": "stream",
     "text": [
      "/tmp/ipykernel_2784/3707436155.py:1: UserWarning: GeoSeries.notna() previously returned False for both missing (None) and empty geometries. Now, it only returns False for missing values. Since the calling GeoSeries contains empty geometries, the result has changed compared to previous versions of GeoPandas.\n",
      "Given a GeoSeries 's', you can use '~s.is_empty & s.notna()' to get back the old behaviour.\n",
      "\n",
      "To further ignore this warning, you can do: \n",
      "import warnings; warnings.filterwarnings('ignore', 'GeoSeries.notna', UserWarning)\n"
     ]
    },
    {
     "data": {
      "text/plain": [
       "True"
      ]
     },
     "execution_count": 25,
     "metadata": {},
     "output_type": "execute_result"
    }
   ],
   "source": [
    "sb1_geo2.geometry.notna().sum()  == len(sb1_geo2)"
   ]
  },
  {
   "cell_type": "code",
   "execution_count": 26,
   "id": "3a14399a-65f7-4c4a-8dff-770a5a8428c0",
   "metadata": {},
   "outputs": [
    {
     "data": {
      "text/plain": [
       "5581"
      ]
     },
     "execution_count": 26,
     "metadata": {},
     "output_type": "execute_result"
    }
   ],
   "source": [
    "len(sb1_geo2[~sb1_geo2.geometry.is_empty]) "
   ]
  },
  {
   "cell_type": "code",
   "execution_count": 27,
   "id": "225588db-cf65-4420-91f5-529f94f04e0f",
   "metadata": {
    "scrolled": true,
    "tags": []
   },
   "outputs": [],
   "source": [
    "# Throw out missing geometry\n",
    "missing_geo = sb1_geo2[sb1_geo2.geometry.is_empty]"
   ]
  },
  {
   "cell_type": "code",
   "execution_count": 28,
   "id": "52e55d21-d807-4bf8-ac14-6e0d7c1b624f",
   "metadata": {},
   "outputs": [],
   "source": [
    "sb1_geo2 = sb1_geo2[~sb1_geo2.geometry.is_empty].reset_index(drop = True)"
   ]
  },
  {
   "cell_type": "code",
   "execution_count": 29,
   "id": "cd71460f-35f5-46ae-a93a-5191bdde60f7",
   "metadata": {},
   "outputs": [
    {
     "data": {
      "text/plain": [
       "True"
      ]
     },
     "execution_count": 29,
     "metadata": {},
     "output_type": "execute_result"
    }
   ],
   "source": [
    "len(sb1_geo2) == len(sb1_geo2[~sb1_geo2.geometry.is_empty]) "
   ]
  },
  {
   "cell_type": "code",
   "execution_count": 30,
   "id": "9f70a4a8-8b23-4bd8-b362-2d27c7e642e1",
   "metadata": {},
   "outputs": [
    {
     "data": {
      "text/plain": [
       "None                        1321\n",
       "major damage restoration     465\n",
       "safety improvements          366\n",
       "pavement rehabilitation      305\n",
       "pavement  hm1                220\n",
       "Name: projecttitle, dtype: int64"
      ]
     },
     "execution_count": 30,
     "metadata": {},
     "output_type": "execute_result"
    }
   ],
   "source": [
    "sb1_geo2.projecttitle.value_counts().head()"
   ]
  },
  {
   "cell_type": "code",
   "execution_count": 31,
   "id": "adde595b-1aeb-467f-a6f7-a0fb2b41db63",
   "metadata": {},
   "outputs": [
    {
     "data": {
      "text/plain": [
       "(5581, 38)"
      ]
     },
     "execution_count": 31,
     "metadata": {},
     "output_type": "execute_result"
    }
   ],
   "source": [
    "sb1_geo2.shape"
   ]
  },
  {
   "cell_type": "code",
   "execution_count": 32,
   "id": "a8e5a8eb-23bb-4741-a674-06d3448b1431",
   "metadata": {},
   "outputs": [],
   "source": [
    "# sb1_geo.countynames.sort_values().unique()"
   ]
  },
  {
   "cell_type": "code",
   "execution_count": 33,
   "id": "a4f51702-caca-4c01-b7d6-23de04012ead",
   "metadata": {},
   "outputs": [],
   "source": [
    "# sb1_geo.explore()"
   ]
  },
  {
   "cell_type": "markdown",
   "id": "a91b5261-4f89-439a-b82e-7877b7707551",
   "metadata": {},
   "source": [
    "### Compare with 9 Sample Projects"
   ]
  },
  {
   "cell_type": "code",
   "execution_count": 34,
   "id": "7fbba442-b295-4a9b-b94d-68dc41c0131f",
   "metadata": {},
   "outputs": [],
   "source": [
    "# Subset sb1_geo to only programs these 9 projects have applied for\n",
    "tcep_sccp1 = sb1_geo2[sb1_geo2[\"programcodes\"].str.contains(('TCEP|SCCP'))].reset_index(drop = True)"
   ]
  },
  {
   "cell_type": "code",
   "execution_count": 35,
   "id": "729a5f9b-34ce-4802-8195-2319a38bc857",
   "metadata": {},
   "outputs": [],
   "source": [
    "# Subset sb1_geo to only programs these 9 projects are located in\n",
    "tcep_sccp2 = sb1_geo2[sb1_geo2[\"countynames\"].str.contains(('Alameda|San Mateo|Santa Cruz|San Luis Obispo|Los Angeles|San Bernardino|Riverside'))].reset_index(drop = True)"
   ]
  },
  {
   "cell_type": "code",
   "execution_count": 36,
   "id": "9002f8e2-75d1-4b3a-a7b6-b01efa548b5c",
   "metadata": {},
   "outputs": [],
   "source": [
    "# Subset sb1_geo to only programs these 9 projects have applied for\n",
    "tcep_sccp2 = tcep_sccp2[tcep_sccp2[\"programcodes\"].str.contains(('TCEP|SCCP'))].reset_index(drop = True)"
   ]
  },
  {
   "cell_type": "code",
   "execution_count": 37,
   "id": "cb74fc0e-5ed1-4a40-acd7-84aa24a72733",
   "metadata": {},
   "outputs": [
    {
     "data": {
      "text/plain": [
       "(37, 38)"
      ]
     },
     "execution_count": 37,
     "metadata": {},
     "output_type": "execute_result"
    }
   ],
   "source": [
    "tcep_sccp2.shape"
   ]
  },
  {
   "cell_type": "code",
   "execution_count": 38,
   "id": "3fef812f-a54c-403e-992b-6bb51dcebdd7",
   "metadata": {},
   "outputs": [
    {
     "data": {
      "text/plain": [
       "TCEP    26\n",
       "SCCP    11\n",
       "Name: programcodes, dtype: int64"
      ]
     },
     "execution_count": 38,
     "metadata": {},
     "output_type": "execute_result"
    }
   ],
   "source": [
    "tcep_sccp2.programcodes.value_counts()"
   ]
  },
  {
   "cell_type": "code",
   "execution_count": 39,
   "id": "d9ed4ea2-9e66-4ddd-b1b6-1c65d7ceaf97",
   "metadata": {},
   "outputs": [
    {
     "data": {
      "text/plain": [
       "_merge    \n",
       "right_only    37\n",
       "left_only      9\n",
       "both           0\n",
       "dtype: int64"
      ]
     },
     "execution_count": 39,
     "metadata": {},
     "output_type": "execute_result"
    }
   ],
   "source": [
    "pd.merge(\n",
    "    nine_sample_projects,\n",
    "    tcep_sccp2,\n",
    "    how=\"outer\",\n",
    "    left_on=[\"ct_project_id\"],\n",
    "    right_on=[\"projectid\"],\n",
    "    indicator=True,\n",
    ")[[\"_merge\"]].value_counts()"
   ]
  },
  {
   "cell_type": "code",
   "execution_count": 40,
   "id": "a7475dba-a1dc-414c-8f13-c94d34003069",
   "metadata": {},
   "outputs": [
    {
     "data": {
      "text/plain": [
       "_merge    \n",
       "right_only    37\n",
       "left_only      9\n",
       "both           0\n",
       "dtype: int64"
      ]
     },
     "execution_count": 40,
     "metadata": {},
     "output_type": "execute_result"
    }
   ],
   "source": [
    "pd.merge(\n",
    "    nine_sample_projects,\n",
    "    tcep_sccp2,\n",
    "    how=\"outer\",\n",
    "    left_on=[\"project_name\"],\n",
    "    right_on=[\"projecttitle\"],\n",
    "    indicator=True,\n",
    ")[[\"_merge\"]].value_counts()"
   ]
  },
  {
   "cell_type": "markdown",
   "id": "f3a52b8f-aa23-44c6-aee4-59bae929ce38",
   "metadata": {},
   "source": [
    "* Eyeballing matches\n",
    "    * route 395 widening from sr 18 to chamberlaine way in SB1 could match us 395 freight mobility and safety project in Non SHOPP\n",
    "    * state route 1 state park to bayporter auxiliary lanes in SB1 is watsonvillesanta cruz multimodal corridor program wscmcp cycle 3 project contract 1 sr 1 freedom to state park aux lanes bus on shoulders and coastal rail trail segment 12 in non SHOPP"
   ]
  },
  {
   "cell_type": "code",
   "execution_count": 41,
   "id": "c03ada7e-43f2-4f22-9ff2-d6ad9704337f",
   "metadata": {
    "scrolled": true,
    "tags": []
   },
   "outputs": [],
   "source": [
    "# tcep_sccp2[['projecttitle','agencies','countynames', 'projectdescription']].sort_values(['countynames','projecttitle'])"
   ]
  },
  {
   "cell_type": "code",
   "execution_count": 42,
   "id": "2eec244d-6141-4655-898d-d10e23cca51d",
   "metadata": {
    "scrolled": true,
    "tags": []
   },
   "outputs": [],
   "source": [
    "# nine_sample_projects[['project_name','lead_agency','full_county_name','project_description']].sort_values(['full_county_name','project_name'])"
   ]
  },
  {
   "cell_type": "code",
   "execution_count": 43,
   "id": "bc283dad-5081-4d09-b160-006c9992472a",
   "metadata": {},
   "outputs": [],
   "source": [
    "non_shopp_projects_sb1_list = ['route 395 widening from sr 18 to chamberlaine way', \n",
    "                             'state route 1  state park to bayporter auxiliary lanes']"
   ]
  },
  {
   "cell_type": "code",
   "execution_count": 44,
   "id": "2e3dad1e-5626-49a9-aff0-746fb54858e9",
   "metadata": {},
   "outputs": [],
   "source": [
    "non_shopp_projects_in_sb1 = tcep_sccp2[tcep_sccp2[\"projecttitle\"].isin(non_shopp_projects_sb1_list)].reset_index(drop = True)"
   ]
  },
  {
   "cell_type": "code",
   "execution_count": 45,
   "id": "3586edee-5451-481b-b3b1-2713acae7dc7",
   "metadata": {},
   "outputs": [],
   "source": [
    "non_shopp_projects_in_sb1.projecttitle = non_shopp_projects_in_sb1.projecttitle.replace({\n",
    "    'route 395 widening from sr 18 to chamberlaine way': 'us 395 freight mobility and safety project',\n",
    "    'state route 1  state park to bayporter auxiliary lanes': 'watsonvillesanta cruz multimodal corridor program wscmcp cycle 3 project contract 1  sr 1 freedom to state park aux lanes bus on shoulders and coastal rail trail segment 12'\n",
    "})"
   ]
  },
  {
   "cell_type": "code",
   "execution_count": 46,
   "id": "3be58107-c5b9-48b6-bfdd-571247169e81",
   "metadata": {},
   "outputs": [
    {
     "data": {
      "text/html": [
       "<div>\n",
       "<style scoped>\n",
       "    .dataframe tbody tr th:only-of-type {\n",
       "        vertical-align: middle;\n",
       "    }\n",
       "\n",
       "    .dataframe tbody tr th {\n",
       "        vertical-align: top;\n",
       "    }\n",
       "\n",
       "    .dataframe thead th {\n",
       "        text-align: right;\n",
       "    }\n",
       "</style>\n",
       "<table border=\"1\" class=\"dataframe\">\n",
       "  <thead>\n",
       "    <tr style=\"text-align: right;\">\n",
       "      <th></th>\n",
       "      <th>agencies</th>\n",
       "      <th>programcodes</th>\n",
       "      <th>countynames</th>\n",
       "      <th>projecttitle</th>\n",
       "      <th>projectdescription</th>\n",
       "    </tr>\n",
       "  </thead>\n",
       "  <tbody>\n",
       "    <tr>\n",
       "      <th>0</th>\n",
       "      <td>Caltrans</td>\n",
       "      <td>SCCP</td>\n",
       "      <td>Santa Cruz</td>\n",
       "      <td>watsonvillesanta cruz multimodal corridor program wscmcp cycle 3 project contract 1  sr 1 freedom to state park aux lanes bus on shoulders and coastal rail trail segment 12</td>\n",
       "      <td>near capitola and aptos state route 1 from state park drive to bayporter interchanges  construct auxiliary lanes between interchanges  includes reconstruction of the capitola avenue overcrossing to accommodate new lanes on state route 1</td>\n",
       "    </tr>\n",
       "    <tr>\n",
       "      <th>1</th>\n",
       "      <td>None</td>\n",
       "      <td>TCEP</td>\n",
       "      <td>San Bernardino</td>\n",
       "      <td>us 395 freight mobility and safety project</td>\n",
       "      <td>on us 395 between sr 18 and chamberlaine way in the city of adelanto widen this section of us 395 from two to four lanes proposed improvements also include operational improvements such as adding turn lanes and signal improvements at intersections</td>\n",
       "    </tr>\n",
       "  </tbody>\n",
       "</table>\n",
       "</div>"
      ],
      "text/plain": [
       "   agencies programcodes     countynames  \\\n",
       "0  Caltrans         SCCP      Santa Cruz   \n",
       "1      None         TCEP  San Bernardino   \n",
       "\n",
       "                                                                                                                                                                   projecttitle  \\\n",
       "0  watsonvillesanta cruz multimodal corridor program wscmcp cycle 3 project contract 1  sr 1 freedom to state park aux lanes bus on shoulders and coastal rail trail segment 12   \n",
       "1                                                                                                                                    us 395 freight mobility and safety project   \n",
       "\n",
       "                                                                                                                                                                                                                                        projectdescription  \n",
       "0             near capitola and aptos state route 1 from state park drive to bayporter interchanges  construct auxiliary lanes between interchanges  includes reconstruction of the capitola avenue overcrossing to accommodate new lanes on state route 1  \n",
       "1  on us 395 between sr 18 and chamberlaine way in the city of adelanto widen this section of us 395 from two to four lanes proposed improvements also include operational improvements such as adding turn lanes and signal improvements at intersections  "
      ]
     },
     "execution_count": 46,
     "metadata": {},
     "output_type": "execute_result"
    }
   ],
   "source": [
    "non_shopp_projects_in_sb1[['agencies','programcodes', 'countynames','projecttitle','projectdescription']]"
   ]
  },
  {
   "cell_type": "code",
   "execution_count": 47,
   "id": "08269d32-1146-4680-970e-b1a93c02c7d6",
   "metadata": {},
   "outputs": [
    {
     "data": {
      "text/plain": [
       "2"
      ]
     },
     "execution_count": 47,
     "metadata": {},
     "output_type": "execute_result"
    }
   ],
   "source": [
    "len(non_shopp_projects_in_sb1)"
   ]
  },
  {
   "cell_type": "code",
   "execution_count": 48,
   "id": "5d02f7da-fb30-4fe6-a62c-f73e2efd872e",
   "metadata": {},
   "outputs": [],
   "source": [
    "nine_sample_projects_geo = pd.merge(\n",
    "    non_shopp_projects_in_sb1[['projecttitle','geometry', 'projectdescription']],\n",
    "    nine_sample_projects,\n",
    "    how=\"outer\",\n",
    "    left_on=[\"projecttitle\"],\n",
    "    right_on=[\"project_name\"],\n",
    ")"
   ]
  },
  {
   "cell_type": "code",
   "execution_count": 49,
   "id": "d6cf4ff9-e128-41e2-9b0b-2ad5d810022c",
   "metadata": {},
   "outputs": [
    {
     "data": {
      "text/plain": [
       "9"
      ]
     },
     "execution_count": 49,
     "metadata": {},
     "output_type": "execute_result"
    }
   ],
   "source": [
    "len(nine_sample_projects_geo)"
   ]
  },
  {
   "cell_type": "code",
   "execution_count": 50,
   "id": "a22c7ff3-a633-4582-b464-1a3d41f43fde",
   "metadata": {},
   "outputs": [
    {
     "data": {
      "text/plain": [
       "geopandas.geodataframe.GeoDataFrame"
      ]
     },
     "execution_count": 50,
     "metadata": {},
     "output_type": "execute_result"
    }
   ],
   "source": [
    "type(nine_sample_projects_geo)"
   ]
  },
  {
   "cell_type": "code",
   "execution_count": 51,
   "id": "660faea4-9c6d-4041-b131-8f3905342a8a",
   "metadata": {},
   "outputs": [],
   "source": [
    "# nine_sample_projects_geo[['project_name','projecttitle','project_description','projectdescription', 'full_county_name']]"
   ]
  },
  {
   "cell_type": "code",
   "execution_count": 52,
   "id": "b1ffa7f6-a4d1-4ffb-986d-5f9681dc2f00",
   "metadata": {},
   "outputs": [],
   "source": [
    "#  _utils.geojson_gcs_export(nine_sample_projects_geo,_utils.GCS_FILE_PATH, 'nine_sample_projects_geom')"
   ]
  },
  {
   "cell_type": "markdown",
   "id": "88d14b0f-ae25-42db-9130-3617662e7da7",
   "metadata": {},
   "source": [
    "### Compare with ALL Projects"
   ]
  },
  {
   "cell_type": "markdown",
   "id": "3c3c71db-b030-44a5-a4e0-868648820924",
   "metadata": {},
   "source": [
    "#### Fuzzy Matches"
   ]
  },
  {
   "cell_type": "markdown",
   "id": "b269ba27-10b3-47d9-9146-e6ad9defc30a",
   "metadata": {},
   "source": [
    "##### Try with Project Titles"
   ]
  },
  {
   "cell_type": "code",
   "execution_count": 53,
   "id": "b50375e7-147a-49b6-b8dc-f7a4cf26458e",
   "metadata": {},
   "outputs": [],
   "source": [
    "# Replace all rows in agency column with a min ratio with  \"string_to_match value\"\n",
    "def replace_matches_in_column(df, column, new_col_name, string_to_match, min_ratio):\n",
    "    # Get a list of unique strings\n",
    "    strings = df[column].unique()\n",
    "\n",
    "    # Get the top 10 closest matches to our input string\n",
    "    matches = fuzzywuzzy.process.extract(\n",
    "        string_to_match, strings, limit=10, scorer=fuzzywuzzy.fuzz.token_sort_ratio\n",
    "    )\n",
    "\n",
    "    # Only get matches with a  min ratio\n",
    "    close_matches = [matches[0] for matches in matches if matches[1] > min_ratio]\n",
    "\n",
    "    # Get the rows of all the close matches in our dataframe\n",
    "    rows_with_matches = df[column].isin(close_matches)\n",
    "\n",
    "    # replace all rows with close matches with the input matches\n",
    "    df.loc[rows_with_matches, new_col_name] = string_to_match"
   ]
  },
  {
   "cell_type": "code",
   "execution_count": 54,
   "id": "e9858197-0dc1-4ea3-846e-8773a954ba15",
   "metadata": {},
   "outputs": [],
   "source": [
    "nonshopp_projects = nonshopp.project_name.unique().tolist()"
   ]
  },
  {
   "cell_type": "code",
   "execution_count": 55,
   "id": "321d9525-dfda-44b8-a4b2-8bef515893dc",
   "metadata": {},
   "outputs": [
    {
     "data": {
      "text/plain": [
       "901"
      ]
     },
     "execution_count": 55,
     "metadata": {},
     "output_type": "execute_result"
    }
   ],
   "source": [
    "len(nonshopp_projects)"
   ]
  },
  {
   "cell_type": "code",
   "execution_count": 56,
   "id": "44b972d1-376b-4cd7-8623-8d5de2c45e5a",
   "metadata": {},
   "outputs": [],
   "source": [
    "# Delete project titles that are none\n",
    "sb1_w_projectnames = sb1_geo2.loc[sb1_geo2.projecttitle != \"None\"].reset_index(drop = True)"
   ]
  },
  {
   "cell_type": "code",
   "execution_count": 57,
   "id": "a29521cf-3c8c-426a-8f5e-b5dc48bc3028",
   "metadata": {},
   "outputs": [
    {
     "data": {
      "text/plain": [
       "4260"
      ]
     },
     "execution_count": 57,
     "metadata": {},
     "output_type": "execute_result"
    }
   ],
   "source": [
    "len(sb1_w_projectnames)"
   ]
  },
  {
   "cell_type": "code",
   "execution_count": 58,
   "id": "275b8922-5412-4a5b-8e94-d5c2cb0b9b27",
   "metadata": {},
   "outputs": [
    {
     "data": {
      "text/plain": [
       "291"
      ]
     },
     "execution_count": 58,
     "metadata": {},
     "output_type": "execute_result"
    }
   ],
   "source": [
    "sb1_w_projectnames.projecttitle.nunique()"
   ]
  },
  {
   "cell_type": "code",
   "execution_count": 59,
   "id": "873f5b33-90d9-4cdd-a512-63cfd7af4120",
   "metadata": {},
   "outputs": [],
   "source": [
    "for i in nonshopp_projects:\n",
    "    replace_matches_in_column(\n",
    "        sb1_w_projectnames\n",
    "        , \"projecttitle\", \"project_title_fuzzy_match\", i,90 \n",
    "    )"
   ]
  },
  {
   "cell_type": "code",
   "execution_count": 60,
   "id": "7e0dc785-b0f5-4f99-953a-0e5637e8f30b",
   "metadata": {},
   "outputs": [],
   "source": [
    "fuzzy_match_results = sb1_w_projectnames.loc[sb1_w_projectnames.project_title_fuzzy_match.notnull()].reset_index(drop = True)"
   ]
  },
  {
   "cell_type": "code",
   "execution_count": 61,
   "id": "424c79fd-ef66-44f6-bb89-71bf6e875f69",
   "metadata": {
    "tags": []
   },
   "outputs": [
    {
     "data": {
      "text/html": [
       "<div>\n",
       "<style scoped>\n",
       "    .dataframe tbody tr th:only-of-type {\n",
       "        vertical-align: middle;\n",
       "    }\n",
       "\n",
       "    .dataframe tbody tr th {\n",
       "        vertical-align: top;\n",
       "    }\n",
       "\n",
       "    .dataframe thead th {\n",
       "        text-align: right;\n",
       "    }\n",
       "</style>\n",
       "<table border=\"1\" class=\"dataframe\">\n",
       "  <thead>\n",
       "    <tr style=\"text-align: right;\">\n",
       "      <th></th>\n",
       "      <th>projecttitle</th>\n",
       "      <th>project_title_fuzzy_match</th>\n",
       "    </tr>\n",
       "  </thead>\n",
       "  <tbody>\n",
       "    <tr>\n",
       "      <th>1</th>\n",
       "      <td>caldwell interchange</td>\n",
       "      <td>caldwell interchange</td>\n",
       "    </tr>\n",
       "    <tr>\n",
       "      <th>10</th>\n",
       "      <td>etiwanda avenue grade separation</td>\n",
       "      <td>etiwanda ave grade separation</td>\n",
       "    </tr>\n",
       "    <tr>\n",
       "      <th>15</th>\n",
       "      <td>eurekaarcata corridor improvement</td>\n",
       "      <td>eurekaarcata corridor improvement</td>\n",
       "    </tr>\n",
       "    <tr>\n",
       "      <th>18</th>\n",
       "      <td>excelsior expressway</td>\n",
       "      <td>excelsior expressway ii</td>\n",
       "    </tr>\n",
       "    <tr>\n",
       "      <th>13</th>\n",
       "      <td>i680sr4 interchange improvements  phases 1 2 a</td>\n",
       "      <td>i680sr4 interchange improvements  phases 1 2 a</td>\n",
       "    </tr>\n",
       "    <tr>\n",
       "      <th>5</th>\n",
       "      <td>interstate 680 southbound express lane from state route 84 to alcosta blvd</td>\n",
       "      <td>interstate 680 southbound express lane from state route 84 to alcosta blvd</td>\n",
       "    </tr>\n",
       "    <tr>\n",
       "      <th>4</th>\n",
       "      <td>interstate 680 southbound express lane from state route 84 to alcosta blvdtoll system</td>\n",
       "      <td>interstate 680 southbound express lane from state route 84 to alcosta blvd</td>\n",
       "    </tr>\n",
       "    <tr>\n",
       "      <th>19</th>\n",
       "      <td>livingston widening northbound</td>\n",
       "      <td>livingston widening  southbound</td>\n",
       "    </tr>\n",
       "    <tr>\n",
       "      <th>14</th>\n",
       "      <td>north county corridor project  phase 1 from claribel road to clause road</td>\n",
       "      <td>north county corridor phase 1 from claribel road to claus road</td>\n",
       "    </tr>\n",
       "    <tr>\n",
       "      <th>16</th>\n",
       "      <td>redding to anderson six lane  phase 1  2</td>\n",
       "      <td>redding to anderson six lane  phase 1 and 2</td>\n",
       "    </tr>\n",
       "    <tr>\n",
       "      <th>7</th>\n",
       "      <td>redlands passenger rail project</td>\n",
       "      <td>redlands passenger rail project</td>\n",
       "    </tr>\n",
       "    <tr>\n",
       "      <th>8</th>\n",
       "      <td>route 46 expressway segment 4c</td>\n",
       "      <td>route 46 expressway segment 4b</td>\n",
       "    </tr>\n",
       "    <tr>\n",
       "      <th>12</th>\n",
       "      <td>solano 80 managed lanes</td>\n",
       "      <td>solano 80 managed lanes</td>\n",
       "    </tr>\n",
       "    <tr>\n",
       "      <th>6</th>\n",
       "      <td>state route 1  state park to bayporter auxiliary lanes</td>\n",
       "      <td>state route 1  state park to bayporter auxiliary lanes</td>\n",
       "    </tr>\n",
       "  </tbody>\n",
       "</table>\n",
       "</div>"
      ],
      "text/plain": [
       "                                                                             projecttitle  \\\n",
       "1                                                                    caldwell interchange   \n",
       "10                                                       etiwanda avenue grade separation   \n",
       "15                                                      eurekaarcata corridor improvement   \n",
       "18                                                                   excelsior expressway   \n",
       "13                                         i680sr4 interchange improvements  phases 1 2 a   \n",
       "5              interstate 680 southbound express lane from state route 84 to alcosta blvd   \n",
       "4   interstate 680 southbound express lane from state route 84 to alcosta blvdtoll system   \n",
       "19                                                         livingston widening northbound   \n",
       "14               north county corridor project  phase 1 from claribel road to clause road   \n",
       "16                                               redding to anderson six lane  phase 1  2   \n",
       "7                                                         redlands passenger rail project   \n",
       "8                                                          route 46 expressway segment 4c   \n",
       "12                                                                solano 80 managed lanes   \n",
       "6                                  state route 1  state park to bayporter auxiliary lanes   \n",
       "\n",
       "                                                     project_title_fuzzy_match  \n",
       "1                                                         caldwell interchange  \n",
       "10                                               etiwanda ave grade separation  \n",
       "15                                           eurekaarcata corridor improvement  \n",
       "18                                                     excelsior expressway ii  \n",
       "13                              i680sr4 interchange improvements  phases 1 2 a  \n",
       "5   interstate 680 southbound express lane from state route 84 to alcosta blvd  \n",
       "4   interstate 680 southbound express lane from state route 84 to alcosta blvd  \n",
       "19                                             livingston widening  southbound  \n",
       "14              north county corridor phase 1 from claribel road to claus road  \n",
       "16                                 redding to anderson six lane  phase 1 and 2  \n",
       "7                                              redlands passenger rail project  \n",
       "8                                               route 46 expressway segment 4b  \n",
       "12                                                     solano 80 managed lanes  \n",
       "6                       state route 1  state park to bayporter auxiliary lanes  "
      ]
     },
     "execution_count": 61,
     "metadata": {},
     "output_type": "execute_result"
    }
   ],
   "source": [
    "fuzzy_match_results[['projecttitle','project_title_fuzzy_match']].sort_values('projecttitle').drop_duplicates()"
   ]
  },
  {
   "cell_type": "code",
   "execution_count": 62,
   "id": "ef8e50d6-105b-4b92-8319-a526dd7f4634",
   "metadata": {},
   "outputs": [],
   "source": [
    "outer_m_project_titles = pd.merge(\n",
    "    fuzzy_match_results,\n",
    "    nonshopp,\n",
    "    how=\"outer\",\n",
    "    left_on=[\"project_title_fuzzy_match\"],\n",
    "    right_on=[\"project_name\"],\n",
    "    indicator=True)"
   ]
  },
  {
   "cell_type": "code",
   "execution_count": 63,
   "id": "1c0b4c0d-e7aa-43a9-bc72-3c594c68d8c6",
   "metadata": {},
   "outputs": [
    {
     "data": {
      "text/plain": [
       "geopandas.geodataframe.GeoDataFrame"
      ]
     },
     "execution_count": 63,
     "metadata": {},
     "output_type": "execute_result"
    }
   ],
   "source": [
    "type(outer_m_project_titles)"
   ]
  },
  {
   "cell_type": "code",
   "execution_count": 69,
   "id": "be3e1cd9-2bc3-4fb3-825e-07100dd50d15",
   "metadata": {},
   "outputs": [],
   "source": [
    "# outer_m_project_titles.loc[outer_m_project_titles._merge == 'both'][preview_cols]"
   ]
  },
  {
   "cell_type": "markdown",
   "id": "5aa4e30b-4a42-4d2a-8134-9e7ef6c8efc9",
   "metadata": {},
   "source": [
    "##### Try with project description since titles are very vague."
   ]
  },
  {
   "cell_type": "code",
   "execution_count": 65,
   "id": "7d999b4e-4865-4bf6-98fb-bcf8cacf820d",
   "metadata": {},
   "outputs": [],
   "source": [
    "def replace_matches_set_ratio(df, column, new_col_name, string_to_match, min_ratio):\n",
    "    # Get a list of unique strings\n",
    "    strings = df[column].unique()\n",
    "\n",
    "    # Get the top 10 closest matches to our input string\n",
    "    matches = fuzzywuzzy.process.extract(\n",
    "        string_to_match, strings, limit=10, scorer=fuzzywuzzy.fuzz.token_set_ratio\n",
    "    )\n",
    "\n",
    "    # Only get matches with a  min ratio\n",
    "    close_matches = [matches[0] for matches in matches if matches[1] > min_ratio]\n",
    "\n",
    "    # Get the rows of all the close matches in our dataframe\n",
    "    rows_with_matches = df[column].isin(close_matches)\n",
    "\n",
    "    # replace all rows with close matches with the input matches\n",
    "    df.loc[rows_with_matches, new_col_name] = string_to_match"
   ]
  },
  {
   "cell_type": "code",
   "execution_count": 88,
   "id": "dd72498d-f734-4a74-87f0-0f9cfb14476c",
   "metadata": {},
   "outputs": [],
   "source": [
    "# Only include project descriptions that are \n",
    "# more than 10 strings long\n",
    "sb1_geo2[\"project_str_count\"] = sb1_geo2['projectdescription'].str.count('\\w+')"
   ]
  },
  {
   "cell_type": "code",
   "execution_count": 89,
   "id": "4aefc612-ebac-4e64-a9c9-a8aa21269ba0",
   "metadata": {},
   "outputs": [
    {
     "data": {
      "text/plain": [
       "3638"
      ]
     },
     "execution_count": 89,
     "metadata": {},
     "output_type": "execute_result"
    }
   ],
   "source": [
    "len(sb1_geo2.loc[sb1_geo2.project_str_count > 10])"
   ]
  },
  {
   "cell_type": "code",
   "execution_count": 94,
   "id": "34283c34-ceba-4fc7-bfd0-9f5c57f2a743",
   "metadata": {},
   "outputs": [
    {
     "data": {
      "text/plain": [
       "3501"
      ]
     },
     "execution_count": 94,
     "metadata": {},
     "output_type": "execute_result"
    }
   ],
   "source": [
    "sb1_geo2.loc[sb1_geo2.project_str_count > 10]['projectdescription'].nunique()"
   ]
  },
  {
   "cell_type": "code",
   "execution_count": 95,
   "id": "d4138105-6ed4-40ba-9b78-f537f7ec4efa",
   "metadata": {},
   "outputs": [],
   "source": [
    "sb1_w_projectdesc = sb1_geo2.loc[sb1_geo2.project_str_count > 10].head(500)[\"projectdescription\"].unique().tolist()"
   ]
  },
  {
   "cell_type": "code",
   "execution_count": 96,
   "id": "d37f4b7a-cbef-470c-9308-f0052250e858",
   "metadata": {},
   "outputs": [
    {
     "data": {
      "text/plain": [
       "476"
      ]
     },
     "execution_count": 96,
     "metadata": {},
     "output_type": "execute_result"
    }
   ],
   "source": [
    "len(sb1_w_projectdesc)"
   ]
  },
  {
   "cell_type": "code",
   "execution_count": 97,
   "id": "c0457ff4-e6ec-41c1-aefe-bb386e73a36b",
   "metadata": {},
   "outputs": [],
   "source": [
    "for i in sb1_w_projectdesc:\n",
    "    replace_matches_set_ratio(\n",
    "        nonshopp\n",
    "        , \"project_description\", \"project_desc_fuzzy_match\", i, 95\n",
    "    )"
   ]
  },
  {
   "cell_type": "code",
   "execution_count": 98,
   "id": "36c2446b-f22f-4ae2-8e30-17733af6b473",
   "metadata": {},
   "outputs": [
    {
     "data": {
      "text/html": [
       "<div>\n",
       "<style scoped>\n",
       "    .dataframe tbody tr th:only-of-type {\n",
       "        vertical-align: middle;\n",
       "    }\n",
       "\n",
       "    .dataframe tbody tr th {\n",
       "        vertical-align: top;\n",
       "    }\n",
       "\n",
       "    .dataframe thead th {\n",
       "        text-align: right;\n",
       "    }\n",
       "</style>\n",
       "<table border=\"1\" class=\"dataframe\">\n",
       "  <thead>\n",
       "    <tr style=\"text-align: right;\">\n",
       "      <th></th>\n",
       "      <th>project_description</th>\n",
       "      <th>project_desc_fuzzy_match</th>\n",
       "    </tr>\n",
       "  </thead>\n",
       "  <tbody>\n",
       "    <tr>\n",
       "      <th>0</th>\n",
       "      <td>pavement preservation</td>\n",
       "      <td>this project will perform preservation activities on approximately 32 lane miles of pavement on route 90 in orange county</td>\n",
       "    </tr>\n",
       "    <tr>\n",
       "      <th>1</th>\n",
       "      <td>on route 101 in marin county in and near city of novato from just south of the franklin avenue overhead to 03 miles south of the marinsonoma county line  the project will widen route 101 to construct a southbound hov lane from 03 miles south of the marinsonoma county line to just south of the franklin avenue overhead 60 miles and a northbound hov lane from 17 miles north of the atherton avenue overcrossing to 03 miles south of the marinsonoma county line 35 miles the project includes roadway and bridge widening for hov lanes and standard shoulders the project will also upgrade the horizontal and vertical roadway alignment for a 70 mph design speed modify the redwood landfill interchange ramps to conform with the new alignment and restripe a frontage road redwood boulevard for class ii bike lanes in novato\\n\\nconstruct 16 miles of mainline shoulder 9130 lf culverts 076 miles of bikeped facilities 95 miles of hothov mainline widen 4 shoulders modify 4 ramps and provide corrects to 10 curve and vertical alignments install 3 traffic monitoring detection stations 2 changeable message signs 1 extinguishable message signs 6 freeway ramp meters and 3 close circuit television cameras</td>\n",
       "      <td>on route 101 in marin county in and near city of novato from just south of the franklin avenue overhead to 03 miles south of the marinsonoma county line  the project will widen route 101 to construct a southbound hov lane from 03 miles south of the marinsonoma county line to just south of the franklin avenue overhead 60 miles and a northbound hov lane from 17 miles north of the atherton avenue overcrossing to 03 miles south of the marinsonoma county line 35 miles the project includes roadway and bridge widening for hov lanes and standard shoulders the project will also upgrade the horizontal and vertical roadway alignment for a 70 mph design speed modify the redwood landfill interchange ramps to conform with the new alignment and restripe a frontage road redwood boulevard for class ii bike lanes in novato</td>\n",
       "    </tr>\n",
       "    <tr>\n",
       "      <th>2</th>\n",
       "      <td>on state route 68 from josselyn canyon road to spreckels blvd operational improvements replaces signalized intersections with roundabouts to achieve smooth traffic flow provide active transportation facilities at intersections and achieve transit benefits achieving these improvements on the existing corridor will preempt need for previouslyconsidered bypass alignment</td>\n",
       "      <td>on state route 68 from josselyn canyon road to spreckels blvd operational improvements</td>\n",
       "    </tr>\n",
       "    <tr>\n",
       "      <th>3</th>\n",
       "      <td>in monterey county at castroville boulevard from post mile r16 to 14  build a new interchange at castroville boulevard and highway 156</td>\n",
       "      <td>in monterey county at castroville boulevard from post mile r16 to 14  build a new interchange at castroville boulevard and highway 156</td>\n",
       "    </tr>\n",
       "    <tr>\n",
       "      <th>4</th>\n",
       "      <td>reconstruct interchange</td>\n",
       "      <td>on route 99 in tulare county between 03 miles south of the avenue 280 caldwell avenue overcrossing to 04 miles north of the avenue 280 overcrossing  reconstruct interchange</td>\n",
       "    </tr>\n",
       "    <tr>\n",
       "      <th>5</th>\n",
       "      <td>reconstruct interchange</td>\n",
       "      <td>on route 99 in tulare county between 03 miles south of the avenue 280 caldwell avenue overcrossing to 04 miles north of the avenue 280 overcrossing  reconstruct interchange</td>\n",
       "    </tr>\n",
       "    <tr>\n",
       "      <th>6</th>\n",
       "      <td>turnbull canyon road</td>\n",
       "      <td>in the city of industry and unincorporated los angeles county along the alameda corridoreast trade corridor at turnbull canyon road replace atgrade crossing with a new grade separated undercrossing add sidewalks and bike lanes</td>\n",
       "    </tr>\n",
       "    <tr>\n",
       "      <th>7</th>\n",
       "      <td>realign intersection</td>\n",
       "      <td>in stockton on the northern limits of the navy drive bridge at the san joaquin river to the port of stockton west complex entrance construct a grade separated crossing four lane overcrossing over the fyffe avenue rail line realign mccloy avenue south of its current location to form a stopcontrolled intersection</td>\n",
       "    </tr>\n",
       "    <tr>\n",
       "      <th>8</th>\n",
       "      <td>the north county corridor project phase 2 of 4</td>\n",
       "      <td>the north county corridor project consists of 4 separate phases of construction totaling 18 miles in length the scope of this project is for phase 1 the corridor will be a high capacity bypass around the cities of modesto riverbank and oakdale as shown in exhibit 1 the phase 1 project will be an ultimate 6lane divided expressway beginning at the intersection of claribel road  oakdale road extending eastward to the intersection of claribel road  claus road it will be access controlled with a 4070median with grade separations over roselle avenue terminal avenue and the burlington northern santa fe railroad tracks this new alignment will build a westeast expressway that will improve regional network circulation connecting from the western end of downtown modesto to the eastward end joining sr120 east of the city of oakdale segments 1 to 4</td>\n",
       "    </tr>\n",
       "    <tr>\n",
       "      <th>9</th>\n",
       "      <td>roadway grade separation</td>\n",
       "      <td>in elk grove at lent ranch parkway to interstate 5  construct a 2 lane roadway modification of the i5hood franklin interchange and grade separation at the uprr tracks class 2 bike lanes class 1 path and signalized intersections  the project will design and acquire rightofway for 2 lanes that excludes the class 1 path</td>\n",
       "    </tr>\n",
       "    <tr>\n",
       "      <th>10</th>\n",
       "      <td>roadway grade separation</td>\n",
       "      <td>in elk grove at lent ranch parkway to interstate 5  construct a 2 lane roadway modification of the i5hood franklin interchange and grade separation at the uprr tracks class 2 bike lanes class 1 path and signalized intersections  the project will design and acquire rightofway for 2 lanes that excludes the class 1 path</td>\n",
       "    </tr>\n",
       "    <tr>\n",
       "      <th>11</th>\n",
       "      <td>roadway grade separation</td>\n",
       "      <td>in elk grove at lent ranch parkway to interstate 5  construct a 2 lane roadway modification of the i5hood franklin interchange and grade separation at the uprr tracks class 2 bike lanes class 1 path and signalized intersections  the project will design and acquire rightofway for 2 lanes that excludes the class 1 path</td>\n",
       "    </tr>\n",
       "    <tr>\n",
       "      <th>12</th>\n",
       "      <td>roadway grade separation</td>\n",
       "      <td>in elk grove at lent ranch parkway to interstate 5  construct a 2 lane roadway modification of the i5hood franklin interchange and grade separation at the uprr tracks class 2 bike lanes class 1 path and signalized intersections  the project will design and acquire rightofway for 2 lanes that excludes the class 1 path</td>\n",
       "    </tr>\n",
       "  </tbody>\n",
       "</table>\n",
       "</div>"
      ],
      "text/plain": [
       "                                                                                                                                                                                                                                                                                                                                                                                                                                                                                                                                                                                                                                                                                                                                                                                                                                                                                                                                                                                                                                                                                                                                                                                                                          project_description  \\\n",
       "0                                                                                                                                                                                                                                                                                                                                                                                                                                                                                                                                                                                                                                                                                                                                                                                                                                                                                                                                                                                                                                                                                                                                                                                                                       pavement preservation   \n",
       "1   on route 101 in marin county in and near city of novato from just south of the franklin avenue overhead to 03 miles south of the marinsonoma county line  the project will widen route 101 to construct a southbound hov lane from 03 miles south of the marinsonoma county line to just south of the franklin avenue overhead 60 miles and a northbound hov lane from 17 miles north of the atherton avenue overcrossing to 03 miles south of the marinsonoma county line 35 miles the project includes roadway and bridge widening for hov lanes and standard shoulders the project will also upgrade the horizontal and vertical roadway alignment for a 70 mph design speed modify the redwood landfill interchange ramps to conform with the new alignment and restripe a frontage road redwood boulevard for class ii bike lanes in novato\\n\\nconstruct 16 miles of mainline shoulder 9130 lf culverts 076 miles of bikeped facilities 95 miles of hothov mainline widen 4 shoulders modify 4 ramps and provide corrects to 10 curve and vertical alignments install 3 traffic monitoring detection stations 2 changeable message signs 1 extinguishable message signs 6 freeway ramp meters and 3 close circuit television cameras   \n",
       "2                                                                                                                                                                                                                                                                                                                                                                                                                                                                                                                                                                                                                                                                                                                                                                                                                                                           on state route 68 from josselyn canyon road to spreckels blvd operational improvements replaces signalized intersections with roundabouts to achieve smooth traffic flow provide active transportation facilities at intersections and achieve transit benefits achieving these improvements on the existing corridor will preempt need for previouslyconsidered bypass alignment   \n",
       "3                                                                                                                                                                                                                                                                                                                                                                                                                                                                                                                                                                                                                                                                                                                                                                                                                                                                                                                                                                                                                                                                                                      in monterey county at castroville boulevard from post mile r16 to 14  build a new interchange at castroville boulevard and highway 156   \n",
       "4                                                                                                                                                                                                                                                                                                                                                                                                                                                                                                                                                                                                                                                                                                                                                                                                                                                                                                                                                                                                                                                                                                                                                                                                                     reconstruct interchange   \n",
       "5                                                                                                                                                                                                                                                                                                                                                                                                                                                                                                                                                                                                                                                                                                                                                                                                                                                                                                                                                                                                                                                                                                                                                                                                                     reconstruct interchange   \n",
       "6                                                                                                                                                                                                                                                                                                                                                                                                                                                                                                                                                                                                                                                                                                                                                                                                                                                                                                                                                                                                                                                                                                                                                                                                                        turnbull canyon road   \n",
       "7                                                                                                                                                                                                                                                                                                                                                                                                                                                                                                                                                                                                                                                                                                                                                                                                                                                                                                                                                                                                                                                                                                                                                                                                                        realign intersection   \n",
       "8                                                                                                                                                                                                                                                                                                                                                                                                                                                                                                                                                                                                                                                                                                                                                                                                                                                                                                                                                                                                                                                                                                                                                                                              the north county corridor project phase 2 of 4   \n",
       "9                                                                                                                                                                                                                                                                                                                                                                                                                                                                                                                                                                                                                                                                                                                                                                                                                                                                                                                                                                                                                                                                                                                                                                                                                    roadway grade separation   \n",
       "10                                                                                                                                                                                                                                                                                                                                                                                                                                                                                                                                                                                                                                                                                                                                                                                                                                                                                                                                                                                                                                                                                                                                                                                                                   roadway grade separation   \n",
       "11                                                                                                                                                                                                                                                                                                                                                                                                                                                                                                                                                                                                                                                                                                                                                                                                                                                                                                                                                                                                                                                                                                                                                                                                                   roadway grade separation   \n",
       "12                                                                                                                                                                                                                                                                                                                                                                                                                                                                                                                                                                                                                                                                                                                                                                                                                                                                                                                                                                                                                                                                                                                                                                                                                   roadway grade separation   \n",
       "\n",
       "                                                                                                                                                                                                                                                                                                                                                                                                                                                                                                                                                                                                                                                                                                                                                                                                                                                           project_desc_fuzzy_match  \n",
       "0                                                                                                                                                                                                                                                                                                                                                                                                                                                                                                                                                                                                                                                                                                                                                         this project will perform preservation activities on approximately 32 lane miles of pavement on route 90 in orange county  \n",
       "1                                  on route 101 in marin county in and near city of novato from just south of the franklin avenue overhead to 03 miles south of the marinsonoma county line  the project will widen route 101 to construct a southbound hov lane from 03 miles south of the marinsonoma county line to just south of the franklin avenue overhead 60 miles and a northbound hov lane from 17 miles north of the atherton avenue overcrossing to 03 miles south of the marinsonoma county line 35 miles the project includes roadway and bridge widening for hov lanes and standard shoulders the project will also upgrade the horizontal and vertical roadway alignment for a 70 mph design speed modify the redwood landfill interchange ramps to conform with the new alignment and restripe a frontage road redwood boulevard for class ii bike lanes in novato  \n",
       "2                                                                                                                                                                                                                                                                                                                                                                                                                                                                                                                                                                                                                                                                                                                                                                                            on state route 68 from josselyn canyon road to spreckels blvd operational improvements  \n",
       "3                                                                                                                                                                                                                                                                                                                                                                                                                                                                                                                                                                                                                                                                                                                                            in monterey county at castroville boulevard from post mile r16 to 14  build a new interchange at castroville boulevard and highway 156  \n",
       "4                                                                                                                                                                                                                                                                                                                                                                                                                                                                                                                                                                                                                                                                                                      on route 99 in tulare county between 03 miles south of the avenue 280 caldwell avenue overcrossing to 04 miles north of the avenue 280 overcrossing  reconstruct interchange  \n",
       "5                                                                                                                                                                                                                                                                                                                                                                                                                                                                                                                                                                                                                                                                                                      on route 99 in tulare county between 03 miles south of the avenue 280 caldwell avenue overcrossing to 04 miles north of the avenue 280 overcrossing  reconstruct interchange  \n",
       "6                                                                                                                                                                                                                                                                                                                                                                                                                                                                                                                                                                                                                                                in the city of industry and unincorporated los angeles county along the alameda corridoreast trade corridor at turnbull canyon road replace atgrade crossing with a new grade separated undercrossing add sidewalks and bike lanes  \n",
       "7                                                                                                                                                                                                                                                                                                                                                                                                                                                                                                                                                          in stockton on the northern limits of the navy drive bridge at the san joaquin river to the port of stockton west complex entrance construct a grade separated crossing four lane overcrossing over the fyffe avenue rail line realign mccloy avenue south of its current location to form a stopcontrolled intersection  \n",
       "8   the north county corridor project consists of 4 separate phases of construction totaling 18 miles in length the scope of this project is for phase 1 the corridor will be a high capacity bypass around the cities of modesto riverbank and oakdale as shown in exhibit 1 the phase 1 project will be an ultimate 6lane divided expressway beginning at the intersection of claribel road  oakdale road extending eastward to the intersection of claribel road  claus road it will be access controlled with a 4070median with grade separations over roselle avenue terminal avenue and the burlington northern santa fe railroad tracks this new alignment will build a westeast expressway that will improve regional network circulation connecting from the western end of downtown modesto to the eastward end joining sr120 east of the city of oakdale segments 1 to 4  \n",
       "9                                                                                                                                                                                                                                                                                                                                                                                                                                                                                                                                                    in elk grove at lent ranch parkway to interstate 5  construct a 2 lane roadway modification of the i5hood franklin interchange and grade separation at the uprr tracks class 2 bike lanes class 1 path and signalized intersections  the project will design and acquire rightofway for 2 lanes that excludes the class 1 path  \n",
       "10                                                                                                                                                                                                                                                                                                                                                                                                                                                                                                                                                   in elk grove at lent ranch parkway to interstate 5  construct a 2 lane roadway modification of the i5hood franklin interchange and grade separation at the uprr tracks class 2 bike lanes class 1 path and signalized intersections  the project will design and acquire rightofway for 2 lanes that excludes the class 1 path  \n",
       "11                                                                                                                                                                                                                                                                                                                                                                                                                                                                                                                                                   in elk grove at lent ranch parkway to interstate 5  construct a 2 lane roadway modification of the i5hood franklin interchange and grade separation at the uprr tracks class 2 bike lanes class 1 path and signalized intersections  the project will design and acquire rightofway for 2 lanes that excludes the class 1 path  \n",
       "12                                                                                                                                                                                                                                                                                                                                                                                                                                                                                                                                                   in elk grove at lent ranch parkway to interstate 5  construct a 2 lane roadway modification of the i5hood franklin interchange and grade separation at the uprr tracks class 2 bike lanes class 1 path and signalized intersections  the project will design and acquire rightofway for 2 lanes that excludes the class 1 path  "
      ]
     },
     "execution_count": 98,
     "metadata": {},
     "output_type": "execute_result"
    }
   ],
   "source": [
    "nonshopp.loc[nonshopp.project_desc_fuzzy_match.notnull()].reset_index(drop = True)[['project_description','project_desc_fuzzy_match']]"
   ]
  },
  {
   "cell_type": "markdown",
   "id": "418cf408-395b-4129-9627-c194bb7eee7b",
   "metadata": {
    "tags": []
   },
   "source": [
    "### Read in all projects\n",
    "* Compare with CSV.\n",
    "* Clean it up."
   ]
  },
  {
   "cell_type": "code",
   "execution_count": null,
   "id": "57760f7c-453e-4d1e-9055-911fdc5dd74b",
   "metadata": {},
   "outputs": [],
   "source": [
    "sb1_all_projects_url = \"https://odpsvcs.dot.ca.gov/arcgis/rest/services/RCA/RCA_Projects_032022/FeatureServer/22/query?where=1%3D1&objectIds=&time=&geometry=&geometryType=esriGeometryEnvelope&inSR=&spatialRel=esriSpatialRelIntersects&distance=&units=esriSRUnit_Foot&relationParam=&outFields=*+&returnGeometry=true&maxAllowableOffset=&geometryPrecision=&outSR=&gdbVersion=&historicMoment=&returnDistinctValues=false&returnIdsOnly=false&returnCountOnly=false&returnExtentOnly=false&orderByFields=&groupByFieldsForStatistics=&outStatistics=&returnZ=false&returnM=false&multipatchOption=&resultOffset=&resultRecordCount=&returnTrueCurves=false&sqlFormat=none&f=geojson\""
   ]
  },
  {
   "cell_type": "code",
   "execution_count": null,
   "id": "a316c10a-3ba0-4d96-a2a3-16a7324fdf60",
   "metadata": {},
   "outputs": [],
   "source": [
    "# Read in SB1 csv\n",
    "# sb1_csv = to_snakecase(pd.read_csv(f\"{_utils.GCS_FILE_PATH}RebuildingCA_map_Data.csv\"))"
   ]
  },
  {
   "cell_type": "code",
   "execution_count": null,
   "id": "98ad0ce0-1ec1-4686-b088-51f1d5d4ea72",
   "metadata": {},
   "outputs": [],
   "source": [
    "sb1_all_projects = to_snakecase(gpd.read_file(sb1_all_projects_url))"
   ]
  },
  {
   "cell_type": "code",
   "execution_count": null,
   "id": "cd7b978f-e0fe-4cf9-9cfa-fe0993b78e27",
   "metadata": {},
   "outputs": [],
   "source": [
    "sb1_all_projects.shape, sb1_all_projects.projecttitle.nunique()"
   ]
  },
  {
   "cell_type": "code",
   "execution_count": null,
   "id": "1c2e3f9f-55fc-4d4d-a6a4-931da4a68d84",
   "metadata": {},
   "outputs": [],
   "source": [
    "# Same rows, different columns.\n",
    "# sb1_all_projects.shape, sb1_csv.shape"
   ]
  },
  {
   "cell_type": "code",
   "execution_count": null,
   "id": "24de4776-90e4-4862-9224-fe1fedf4ef60",
   "metadata": {},
   "outputs": [],
   "source": [
    "# Project ID matches\n",
    "# csv_projectid = set(sb1_csv.project_id.unique().tolist())\n",
    "# geojson_projectid = set(sb1_all_projects.projectid.unique().tolist())\n",
    "# csv_projectid - geojson_projectid"
   ]
  },
  {
   "cell_type": "code",
   "execution_count": null,
   "id": "3961c1b6-eb36-44ba-8a78-aca089cd2035",
   "metadata": {},
   "outputs": [],
   "source": [
    "# set(sb1_all_projects.columns).difference(set(sb1_csv.columns))"
   ]
  },
  {
   "cell_type": "code",
   "execution_count": null,
   "id": "98b60f3e-8875-4cc2-807a-98266ac56bbb",
   "metadata": {},
   "outputs": [],
   "source": [
    "# Align funding\n",
    "sb1_all_projects = _utils.align_funding_numbers(\n",
    "    sb1_all_projects,\n",
    "    [\n",
    "        \"totalcost\",\n",
    "        \"sb1funds\",\n",
    "    ],\n",
    ")"
   ]
  },
  {
   "cell_type": "code",
   "execution_count": null,
   "id": "bf24ac71-79a4-417f-906b-9ca4824b499f",
   "metadata": {},
   "outputs": [],
   "source": [
    "# Lower case and clean project names\n",
    "sb1_all_projects.projecttitle = (\n",
    "    sb1_all_projects.projecttitle.str.lower().str.strip().str.split(\"20\").str[0]\n",
    ")"
   ]
  },
  {
   "cell_type": "code",
   "execution_count": null,
   "id": "a87ebb9b-4ca9-45d0-9e58-01a13ab873ef",
   "metadata": {},
   "outputs": [],
   "source": [
    "# No geometry, just drop it\n",
    "sb1_all_projects = sb1_all_projects.drop(columns=[\"geometry\"])"
   ]
  },
  {
   "cell_type": "markdown",
   "id": "59a4eef7-4b8b-40bd-af1a-f15f81a077ba",
   "metadata": {},
   "source": [
    "### Figure out why the rows differ between `sb1_all_projects` and `sb1_geo2`"
   ]
  },
  {
   "cell_type": "code",
   "execution_count": null,
   "id": "7412b06d-e243-497a-8402-01c34f598f5e",
   "metadata": {},
   "outputs": [],
   "source": [
    "# Subset to join back to the 9,000 projects above\n",
    "# subset = ['objectid', 'agencyids', 'projecttitle','programcodes', 'projectid','geometry']"
   ]
  },
  {
   "cell_type": "code",
   "execution_count": null,
   "id": "52ae80b3-b737-45cc-901c-6dbd8334204a",
   "metadata": {},
   "outputs": [],
   "source": [
    "full_gdf2.projectid.nunique(), sb1_project_id.project_id.nunique(), len(sb1_project_id)"
   ]
  },
  {
   "cell_type": "code",
   "execution_count": null,
   "id": "307fd968-aec1-4e26-a2b3-88c80c5a1ab4",
   "metadata": {},
   "outputs": [],
   "source": [
    "pd.merge(\n",
    "    sb1_project_id,\n",
    "    full_gdf2,\n",
    "    how=\"outer\",\n",
    "    left_on=[\"project_id\"],\n",
    "    right_on=[\"projectid\"],\n",
    "    indicator=True,\n",
    ")[[\"_merge\"]].value_counts()"
   ]
  },
  {
   "cell_type": "code",
   "execution_count": null,
   "id": "c05a86f1-6c69-484e-b6bd-5d3324742824",
   "metadata": {},
   "outputs": [],
   "source": [
    "sb1_m = pd.merge(\n",
    "    full_gdf2,\n",
    "    sb1_project_id,\n",
    "    how=\"left\",\n",
    "    left_on=[\"projectid\"],\n",
    "    right_on=[\"project_id\"],\n",
    ")"
   ]
  },
  {
   "cell_type": "code",
   "execution_count": null,
   "id": "e4b1d2d3-7b68-460b-a2eb-dd5f6e59c381",
   "metadata": {},
   "outputs": [],
   "source": [
    "sb1_m.project_name = sb1_m.project_name.fillna(sb1_m.projecttitle)"
   ]
  },
  {
   "cell_type": "code",
   "execution_count": null,
   "id": "92fc5d14-d99c-470f-9bc5-d903d7b212db",
   "metadata": {},
   "outputs": [],
   "source": [
    "pd.merge(nonshopp, sb1_m, how=\"outer\", on=[\"project_name\"], indicator=True)[\n",
    "    [\"_merge\"]\n",
    "].value_counts()"
   ]
  },
  {
   "cell_type": "code",
   "execution_count": null,
   "id": "805ac0f5-36dc-40bd-b7b5-582baadc339a",
   "metadata": {},
   "outputs": [],
   "source": [
    "sb1.shape, sb1.project_name.nunique()"
   ]
  },
  {
   "cell_type": "code",
   "execution_count": null,
   "id": "34a06b31-dd37-48a2-83d6-06abd8d4b615",
   "metadata": {},
   "outputs": [],
   "source": [
    "# Titles are not necessarily specifically named.\n",
    "# Tends to be very general\n",
    "# sb1.project_name.value_counts()"
   ]
  },
  {
   "cell_type": "code",
   "execution_count": null,
   "id": "11af211e-6647-49b7-b818-d3bc5209ab43",
   "metadata": {},
   "outputs": [],
   "source": [
    "sb1_subset = [\n",
    "    \"project_name\",\n",
    "    \"implementing_agency\",\n",
    "    \"sb1_program\",\n",
    "    \"fiscal_year\",\n",
    "    \"project_description\",\n",
    "    \"total_cost\",\n",
    "    \"sb1_funds\",\n",
    "    \"is_sb1?\",\n",
    "    \"project_status\",\n",
    "    \"assembly_districts\",\n",
    "    \"senate_districts\",\n",
    "    \"congressional_districts\",\n",
    "    \"counties\",\n",
    "    \"cities\",\n",
    "    \"caltrans_districts\",\n",
    "    \"on_shs?\",\n",
    "]"
   ]
  },
  {
   "cell_type": "code",
   "execution_count": null,
   "id": "1c970a13-2b8a-4c24-afca-7f2f8fbe229d",
   "metadata": {},
   "outputs": [],
   "source": [
    "sb1_2 = sb1[sb1_subset]"
   ]
  },
  {
   "cell_type": "code",
   "execution_count": null,
   "id": "0b6f73ab-706d-4c31-8fae-fe830a3fc260",
   "metadata": {},
   "outputs": [],
   "source": [
    "sb1.sb1_program.value_counts()"
   ]
  },
  {
   "cell_type": "code",
   "execution_count": null,
   "id": "ad12e624-e1cd-4e0f-a98e-c533490fc3d4",
   "metadata": {},
   "outputs": [],
   "source": [
    "sb1_2.shape"
   ]
  },
  {
   "cell_type": "code",
   "execution_count": null,
   "id": "7510fd40-c15e-42ba-a4f1-68031c2e6b3e",
   "metadata": {},
   "outputs": [],
   "source": [
    "# Align funding\n",
    "sb1_2 = _utils.align_funding_numbers(\n",
    "    sb1_2,\n",
    "    [\n",
    "        \"total_cost\",\n",
    "        \"sb1_funds\",\n",
    "    ],\n",
    ")"
   ]
  },
  {
   "cell_type": "code",
   "execution_count": null,
   "id": "d2b42344-6b49-4b26-83f4-f70f02a46c32",
   "metadata": {},
   "outputs": [],
   "source": [
    "# sb1_geo2 = sb1_geo[subset]"
   ]
  },
  {
   "cell_type": "code",
   "execution_count": null,
   "id": "05b55d0d-dea9-4951-bbb2-569277934a01",
   "metadata": {},
   "outputs": [],
   "source": [
    "sb1_all_projects.shape, sb1_geo.shape"
   ]
  },
  {
   "cell_type": "code",
   "execution_count": null,
   "id": "78804134-baa0-405e-91b2-4f27da5b53cf",
   "metadata": {},
   "outputs": [],
   "source": [
    "# Objectid: no cleaning for either of dfs\n",
    "# This is a int64 dtype...yet zero merges\n",
    "pd.merge(\n",
    "    sb1_all_projects,\n",
    "    sb1_geo,\n",
    "    how=\"outer\",\n",
    "    on=[\"objectid\"],\n",
    "    indicator=True,\n",
    ")[[\"_merge\"]].value_counts()"
   ]
  },
  {
   "cell_type": "code",
   "execution_count": null,
   "id": "80cdc34b-7646-4c0d-8086-5e43b1b13c9e",
   "metadata": {},
   "outputs": [],
   "source": [
    "sb1_all_projects = clean_project_names_id(sb1_all_projects, 'projectid', 'projecttitle')"
   ]
  },
  {
   "cell_type": "code",
   "execution_count": null,
   "id": "6f511481-9d2f-4f8d-9a68-ed21efd96d25",
   "metadata": {},
   "outputs": [],
   "source": [
    "sb1_geo2 = clean_project_names_id(sb1_geo, 'projectid','projecttitle')"
   ]
  },
  {
   "cell_type": "code",
   "execution_count": null,
   "id": "d1163bba-8831-41d4-9238-dac16c5bc144",
   "metadata": {},
   "outputs": [],
   "source": [
    "pd.merge(\n",
    "    sb1_all_projects,\n",
    "    sb1_geo2,\n",
    "    how=\"outer\",\n",
    "    left_on=[\"projectid\"],\n",
    "    right_on = [\"projectid\"],\n",
    "    indicator=True,\n",
    ")[[\"_merge\"]].value_counts()"
   ]
  },
  {
   "cell_type": "code",
   "execution_count": null,
   "id": "f839c3db-9bff-4653-9be0-537aa1cfa5d0",
   "metadata": {},
   "outputs": [],
   "source": [
    "pd.merge(\n",
    "    sb1_all_projects,\n",
    "    sb1_geo2,\n",
    "    how=\"outer\",\n",
    "    left_on=[\"projecttitle\", \"ct_districts\", \"agencyid\", \"fiscalyear\"],\n",
    "    right_on=[\"projecttitle\", \"ct_districts\", \"agencyids\", \"fiscalyears\"],\n",
    "    indicator=True,\n",
    ")[[\"_merge\"]].value_counts()"
   ]
  },
  {
   "cell_type": "markdown",
   "id": "8e56b218-b6c8-4bec-bc97-300e1ebd1229",
   "metadata": {},
   "source": [
    "### Merge all other Projects"
   ]
  },
  {
   "cell_type": "code",
   "execution_count": null,
   "id": "ccede347-cbfe-4ee3-9346-71b8f538258f",
   "metadata": {},
   "outputs": [],
   "source": [
    "# 62 matches\n",
    "pd.merge(\n",
    "    nonshopp,\n",
    "    sb1_all_projects,\n",
    "    how=\"outer\",\n",
    "    left_on=[\"project_name\"],\n",
    "    right_on=[\"projecttitle\"],\n",
    "    indicator=True,\n",
    ")[[\"_merge\"]].value_counts()"
   ]
  },
  {
   "cell_type": "markdown",
   "id": "9bd3b888-c935-4029-81ca-e8cc5d3eedb5",
   "metadata": {},
   "source": [
    "### Tircp\n",
    "* None of the projects from TIRCP are mapping, even though the names appear the same."
   ]
  },
  {
   "cell_type": "code",
   "execution_count": null,
   "id": "182020ac-5310-48a9-96d5-0227b89f6231",
   "metadata": {},
   "outputs": [],
   "source": [
    "# sb1_tircp = sb1_2.loc[sb1_2.sb1_program == \"Transit and Intercity Rail Capital Program\"].reset_index(drop = True)"
   ]
  },
  {
   "cell_type": "code",
   "execution_count": null,
   "id": "81191fad-bd8a-4d7b-b75b-bcf7c542fc71",
   "metadata": {},
   "outputs": [],
   "source": [
    "# sb1_tircp[['project_name','caltrans_districts','counties']].sort_values('project_name').head(2)"
   ]
  },
  {
   "cell_type": "code",
   "execution_count": null,
   "id": "80ca7f9b-043b-4f18-a79a-3e5d69161af4",
   "metadata": {
    "scrolled": true,
    "tags": []
   },
   "outputs": [],
   "source": [
    "# tircp_sb[['project_name']].sort_values(by = 'project_name')"
   ]
  },
  {
   "cell_type": "code",
   "execution_count": null,
   "id": "417df614-c9e4-4b8e-9ffa-b4f21889e974",
   "metadata": {
    "scrolled": true,
    "tags": []
   },
   "outputs": [],
   "source": [
    "# tircp_shopp[['project_name']].sort_values(by = 'project_name')"
   ]
  },
  {
   "cell_type": "code",
   "execution_count": null,
   "id": "25c0f244-c284-4de8-a8d9-872be7c74c0d",
   "metadata": {
    "scrolled": true,
    "tags": []
   },
   "outputs": [],
   "source": [
    "tircp_shopp = df.loc[\n",
    "    df.previous_caltrans_nominations.str.contains(\"TIRCP\")\n",
    "].reset_index(drop=True)"
   ]
  },
  {
   "cell_type": "code",
   "execution_count": null,
   "id": "4f74adae-6714-4e3b-b288-911be3d67c27",
   "metadata": {},
   "outputs": [],
   "source": [
    "# why are there no matches??\n",
    "pd.merge(tircp_shopp, tircp_sb, how=\"outer\", on=[\"project_name\"], indicator=True)[\n",
    "    [\"_merge\"]\n",
    "].value_counts()"
   ]
  }
 ],
 "metadata": {
  "kernelspec": {
   "display_name": "Python 3 (ipykernel)",
   "language": "python",
   "name": "python3"
  },
  "language_info": {
   "codemirror_mode": {
    "name": "ipython",
    "version": 3
   },
   "file_extension": ".py",
   "mimetype": "text/x-python",
   "name": "python",
   "nbconvert_exporter": "python",
   "pygments_lexer": "ipython3",
   "version": "3.9.13"
  }
 },
 "nbformat": 4,
 "nbformat_minor": 5
}
