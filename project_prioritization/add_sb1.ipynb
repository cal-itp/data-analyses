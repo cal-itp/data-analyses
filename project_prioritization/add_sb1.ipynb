{
 "cells": [
  {
   "cell_type": "markdown",
   "id": "1a173285-41bd-4523-8d4b-b5474ec1b034",
   "metadata": {},
   "source": [
    "## Add SB1 geographic information."
   ]
  },
  {
   "cell_type": "code",
   "execution_count": 55,
   "id": "22b768e0-0316-4684-a4b2-683dcd82a323",
   "metadata": {},
   "outputs": [],
   "source": [
    "import _utils\n",
    "import numpy as np\n",
    "import pandas as pd\n",
    "from calitp.sql import to_snakecase"
   ]
  },
  {
   "cell_type": "code",
   "execution_count": 56,
   "id": "c7bbc54d-4a75-4b6d-8ed8-a44ec2685cd9",
   "metadata": {},
   "outputs": [],
   "source": [
    "pd.options.display.max_columns = 200\n",
    "pd.set_option(\"display.max_rows\", None)\n",
    "pd.set_option(\"display.max_colwidth\", None)"
   ]
  },
  {
   "cell_type": "markdown",
   "id": "76e4f5c3-7968-49e6-97d3-a1d165e50af3",
   "metadata": {},
   "source": [
    "### Non SHOPP-ATP-TIRCP"
   ]
  },
  {
   "cell_type": "code",
   "execution_count": 57,
   "id": "6b483a64-786d-4d9c-96e8-0bfe429ffd2a",
   "metadata": {},
   "outputs": [],
   "source": [
    "# Read in 10 Year non SHOPP with ATP and TIRCP\n",
    "df = to_snakecase(pd.read_excel(f\"{_utils.GCS_FILE_PATH}cleaned_data_atp_tircp.xlsx\"))"
   ]
  },
  {
   "cell_type": "code",
   "execution_count": 58,
   "id": "aa0c6362-1f89-4112-a55f-6928841266ce",
   "metadata": {},
   "outputs": [],
   "source": [
    "# Subset to join.\n",
    "non_shopp_subset = [\n",
    "    \"ppno\",\n",
    "    \"project_name\",\n",
    "    \"lead_agency\",\n",
    "    \"previous_caltrans_nominations\",\n",
    "    \"full_county_name\",\n",
    "    \"district\",\n",
    "    \"project_description\",\n",
    "    \"current_phase\",\n",
    "    \"primary_mode\",\n",
    "    \"urban_rural\",\n",
    "    \"total_project_cost__$1,000\",\n",
    "    \"total_unfunded_need__$1,000\",\n",
    "    \"notes\",\n",
    "    \"shs_capacity_increase_detail\",\n",
    "    \"current_phase\",\n",
    "]"
   ]
  },
  {
   "cell_type": "code",
   "execution_count": 59,
   "id": "a63dc3e3-2485-4331-b370-c6fdf2c57952",
   "metadata": {},
   "outputs": [],
   "source": [
    "df = df[non_shopp_subset]"
   ]
  },
  {
   "cell_type": "markdown",
   "id": "b69c71eb-66fc-4e92-9d53-554ef18f190d",
   "metadata": {},
   "source": [
    "### SB1"
   ]
  },
  {
   "cell_type": "code",
   "execution_count": 60,
   "id": "a316c10a-3ba0-4d96-a2a3-16a7324fdf60",
   "metadata": {},
   "outputs": [],
   "source": [
    "# Read in SB1\n",
    "sb1 = to_snakecase(pd.read_csv(f\"{_utils.GCS_FILE_PATH}RebuildingCA_map_Data.csv\"))"
   ]
  },
  {
   "cell_type": "code",
   "execution_count": 70,
   "id": "1aa20f7d-3acf-463b-b9a4-ad0426c59978",
   "metadata": {},
   "outputs": [
    {
     "data": {
      "text/html": [
       "<div>\n",
       "<style scoped>\n",
       "    .dataframe tbody tr th:only-of-type {\n",
       "        vertical-align: middle;\n",
       "    }\n",
       "\n",
       "    .dataframe tbody tr th {\n",
       "        vertical-align: top;\n",
       "    }\n",
       "\n",
       "    .dataframe thead th {\n",
       "        text-align: right;\n",
       "    }\n",
       "</style>\n",
       "<table border=\"1\" class=\"dataframe\">\n",
       "  <thead>\n",
       "    <tr style=\"text-align: right;\">\n",
       "      <th></th>\n",
       "      <th>project_id</th>\n",
       "      <th>project_name</th>\n",
       "      <th>implementing_agency</th>\n",
       "      <th>sb1_program</th>\n",
       "      <th>federal_program</th>\n",
       "      <th>fiscal_year</th>\n",
       "      <th>project_description</th>\n",
       "      <th>total_cost</th>\n",
       "      <th>sb1_funds</th>\n",
       "      <th>is_sb1?</th>\n",
       "      <th>federal_funds</th>\n",
       "      <th>is_federal?</th>\n",
       "      <th>project_status</th>\n",
       "      <th>assembly_districts</th>\n",
       "      <th>senate_districts</th>\n",
       "      <th>congressional_districts</th>\n",
       "      <th>counties</th>\n",
       "      <th>cities</th>\n",
       "      <th>caltrans_districts</th>\n",
       "      <th>on_shs?</th>\n",
       "      <th>date_updated</th>\n",
       "    </tr>\n",
       "  </thead>\n",
       "  <tbody>\n",
       "    <tr>\n",
       "      <th>4098</th>\n",
       "      <td>'0418000347</td>\n",
       "      <td>Roadside</td>\n",
       "      <td>Caltrans</td>\n",
       "      <td>State Hwy Operations &amp; Protection Program Minor A</td>\n",
       "      <td>NaN</td>\n",
       "      <td>'18/19</td>\n",
       "      <td>In Napa, on Routes 121 and 128.  Replace trees after fire.</td>\n",
       "      <td>778700.0</td>\n",
       "      <td>0.0</td>\n",
       "      <td>N</td>\n",
       "      <td>NaN</td>\n",
       "      <td>NaN</td>\n",
       "      <td>In Progress</td>\n",
       "      <td>04</td>\n",
       "      <td>03</td>\n",
       "      <td>05</td>\n",
       "      <td>Napa</td>\n",
       "      <td>NaN</td>\n",
       "      <td>04</td>\n",
       "      <td>Y</td>\n",
       "      <td>10/08/2021</td>\n",
       "    </tr>\n",
       "  </tbody>\n",
       "</table>\n",
       "</div>"
      ],
      "text/plain": [
       "       project_id project_name implementing_agency  \\\n",
       "4098  '0418000347     Roadside            Caltrans   \n",
       "\n",
       "                                            sb1_program federal_program  \\\n",
       "4098  State Hwy Operations & Protection Program Minor A             NaN   \n",
       "\n",
       "     fiscal_year                                         project_description  \\\n",
       "4098      '18/19  In Napa, on Routes 121 and 128.  Replace trees after fire.   \n",
       "\n",
       "      total_cost  sb1_funds is_sb1?  federal_funds is_federal? project_status  \\\n",
       "4098    778700.0        0.0       N            NaN         NaN    In Progress   \n",
       "\n",
       "     assembly_districts senate_districts congressional_districts counties  \\\n",
       "4098                 04               03                      05     Napa   \n",
       "\n",
       "     cities caltrans_districts on_shs? date_updated  \n",
       "4098    NaN                 04       Y   10/08/2021  "
      ]
     },
     "execution_count": 70,
     "metadata": {},
     "output_type": "execute_result"
    }
   ],
   "source": [
    "sb1.sample()"
   ]
  },
  {
   "cell_type": "code",
   "execution_count": 61,
   "id": "11af211e-6647-49b7-b818-d3bc5209ab43",
   "metadata": {},
   "outputs": [],
   "source": [
    "sb1_subset = [\n",
    "    \"project_name\",\n",
    "    \"implementing_agency\",\n",
    "    \"sb1_program\",\n",
    "    \"fiscal_year\",\n",
    "    \"project_description\",\n",
    "    \"total_cost\",\n",
    "    \"sb1_funds\",\n",
    "    \"is_sb1?\",\n",
    "    \"project_status\",\n",
    "    \"assembly_districts\",\n",
    "    \"senate_districts\",\n",
    "    \"congressional_districts\",\n",
    "    \"counties\",\n",
    "    \"cities\",\n",
    "    \"caltrans_districts\",\n",
    "    \"on_shs?\",\n",
    "]"
   ]
  },
  {
   "cell_type": "code",
   "execution_count": 62,
   "id": "0b6f73ab-706d-4c31-8fae-fe830a3fc260",
   "metadata": {},
   "outputs": [
    {
     "data": {
      "text/plain": [
       "Local Streets and Roads                              3345\n",
       "State Hwy Operations & Protection Program Major      2771\n",
       "Highway Maintenance                                  1002\n",
       "Active Transportation Program                         923\n",
       "State of Good Repair                                  536\n",
       "State Transit Assistance                              196\n",
       "State Transportation Improvement Program              188\n",
       "State Hwy Operations & Protection Program Minor A     169\n",
       "Local Partnership Program - Formulaic                 135\n",
       "Transit and Intercity Rail Capital Program             96\n",
       "Trade Corridor Enhancement Program                     66\n",
       "Local Partnership Program - Competitive                62\n",
       "State Rail Assistance                                  53\n",
       "Field Maintenance                                      48\n",
       "Solutions for Congested Corridors Program              42\n",
       "Name: sb1_program, dtype: int64"
      ]
     },
     "execution_count": 62,
     "metadata": {},
     "output_type": "execute_result"
    }
   ],
   "source": [
    "sb1.sb1_program.value_counts()"
   ]
  },
  {
   "cell_type": "code",
   "execution_count": 63,
   "id": "1c970a13-2b8a-4c24-afca-7f2f8fbe229d",
   "metadata": {},
   "outputs": [],
   "source": [
    "sb1_2 = sb1[sb1_subset]"
   ]
  },
  {
   "cell_type": "code",
   "execution_count": 64,
   "id": "9d7d179d-cdf5-4254-a076-0e8175c3fbfb",
   "metadata": {},
   "outputs": [
    {
     "data": {
      "text/plain": [
       "Completed      4838\n",
       "Planned        2517\n",
       "In Progress    2277\n",
       "Name: project_status, dtype: int64"
      ]
     },
     "execution_count": 64,
     "metadata": {},
     "output_type": "execute_result"
    }
   ],
   "source": [
    "# Filter out completed projects\n",
    "sb1.project_status.value_counts()"
   ]
  },
  {
   "cell_type": "code",
   "execution_count": 65,
   "id": "557537af-c710-453c-8ea1-4f3552c89881",
   "metadata": {},
   "outputs": [],
   "source": [
    "sb1_2 = sb1_2.loc[sb1_2.project_status != \"Completed\"].reset_index(drop=True)"
   ]
  },
  {
   "cell_type": "code",
   "execution_count": 66,
   "id": "f3a9fb1a-9cbf-45a9-a0a6-cc96dbb16b09",
   "metadata": {},
   "outputs": [],
   "source": [
    "# Fill in NA\n",
    "sb1_2 = sb1_2.fillna(sb1_2.dtypes.replace({\"float64\": 0.0, \"object\": \"None\"}))"
   ]
  },
  {
   "cell_type": "code",
   "execution_count": 67,
   "id": "7510fd40-c15e-42ba-a4f1-68031c2e6b3e",
   "metadata": {},
   "outputs": [],
   "source": [
    "# Align funding\n",
    "sb1_2 = _utils.align_funding_numbers(sb1_2, [\"total_cost\", \"sb1_funds\",])"
   ]
  },
  {
   "cell_type": "code",
   "execution_count": 68,
   "id": "76e719a2-21fa-4b8f-bce4-100d612e3484",
   "metadata": {
    "scrolled": true,
    "tags": []
   },
   "outputs": [
    {
     "data": {
      "text/html": [
       "<div>\n",
       "<style scoped>\n",
       "    .dataframe tbody tr th:only-of-type {\n",
       "        vertical-align: middle;\n",
       "    }\n",
       "\n",
       "    .dataframe tbody tr th {\n",
       "        vertical-align: top;\n",
       "    }\n",
       "\n",
       "    .dataframe thead th {\n",
       "        text-align: right;\n",
       "    }\n",
       "</style>\n",
       "<table border=\"1\" class=\"dataframe\">\n",
       "  <thead>\n",
       "    <tr style=\"text-align: right;\">\n",
       "      <th></th>\n",
       "      <th>ppno</th>\n",
       "      <th>project_name</th>\n",
       "      <th>lead_agency</th>\n",
       "      <th>previous_caltrans_nominations</th>\n",
       "      <th>full_county_name</th>\n",
       "      <th>district</th>\n",
       "      <th>project_description</th>\n",
       "      <th>current_phase</th>\n",
       "      <th>primary_mode</th>\n",
       "      <th>urban_rural</th>\n",
       "      <th>total_project_cost__$1,000</th>\n",
       "      <th>total_unfunded_need__$1,000</th>\n",
       "      <th>notes</th>\n",
       "      <th>shs_capacity_increase_detail</th>\n",
       "      <th>current_phase</th>\n",
       "    </tr>\n",
       "  </thead>\n",
       "  <tbody>\n",
       "    <tr>\n",
       "      <th>345</th>\n",
       "      <td>None</td>\n",
       "      <td>La River Bikeway - Segment 8</td>\n",
       "      <td>La Metro</td>\n",
       "      <td>None</td>\n",
       "      <td>Los Angeles</td>\n",
       "      <td>7</td>\n",
       "      <td>This project will construct at least 4.65 miles of high-quality bicycle infrastructure and pedestrian enhancements along the LA River and through the east San Fernando Valley, providing a safe and continuous active transportation network that will expand non-auto commute options increase access to high-quality transit lines and employment hubs, and improve access to recreation for LA residents and visitors. This project will include 3.2 miles of Class I bike, path greenway, and pedestrian path (as feasible), along the LA river between Whitsett Ave to Lankershim Blvd, which will also include five (5) at grade crossings at, and four (4) at grade crossings located at Whitsett Ave, Laurel Canyon Blvd, and Tujunga Ave, as well as two (2) bridges located at Radford Ave/over the Tujunga Wash as and a pedestrian bridge over the LA River. Class IV bike path on Whitsett, Radford, and Vineland will be constructed and approximately 0.45 miles of Class III bike path on Laurel Grove leading to the River will be constructed. This project will also try to upgrade to the maximum extent feasible the Vineland Ave corridor from Whipple to San Fernando Road, which stretches approximately 5 miles. These upgrades include putting in bollards along buffer areas and painting conflict zones. Other scope includes lighting, bioswales, retaining walls (as needed), and other pedestrian amenities, such as bike racks, benches, trash cans, and pet waste stations, and pedestrian enhancements.</td>\n",
       "      <td>UNKNOWN</td>\n",
       "      <td>Bike/Pedestrian</td>\n",
       "      <td>Urban</td>\n",
       "      <td>34108.0</td>\n",
       "      <td>23409.0</td>\n",
       "      <td>Partner agency = Implementing Agency</td>\n",
       "      <td>None</td>\n",
       "      <td>UNKNOWN</td>\n",
       "    </tr>\n",
       "  </tbody>\n",
       "</table>\n",
       "</div>"
      ],
      "text/plain": [
       "     ppno                  project_name lead_agency  \\\n",
       "345  None  La River Bikeway - Segment 8    La Metro   \n",
       "\n",
       "    previous_caltrans_nominations full_county_name  district  \\\n",
       "345                          None      Los Angeles         7   \n",
       "\n",
       "                                                                                                                                                                                                                                                                                                                                                                                                                                                                                                                                                                                                                                                                                                                                                                                                                                                                                                                                                                                                                                                                                                                                                                                                                                                                                                                                                                                                                                                                                                                            project_description  \\\n",
       "345  This project will construct at least 4.65 miles of high-quality bicycle infrastructure and pedestrian enhancements along the LA River and through the east San Fernando Valley, providing a safe and continuous active transportation network that will expand non-auto commute options increase access to high-quality transit lines and employment hubs, and improve access to recreation for LA residents and visitors. This project will include 3.2 miles of Class I bike, path greenway, and pedestrian path (as feasible), along the LA river between Whitsett Ave to Lankershim Blvd, which will also include five (5) at grade crossings at, and four (4) at grade crossings located at Whitsett Ave, Laurel Canyon Blvd, and Tujunga Ave, as well as two (2) bridges located at Radford Ave/over the Tujunga Wash as and a pedestrian bridge over the LA River. Class IV bike path on Whitsett, Radford, and Vineland will be constructed and approximately 0.45 miles of Class III bike path on Laurel Grove leading to the River will be constructed. This project will also try to upgrade to the maximum extent feasible the Vineland Ave corridor from Whipple to San Fernando Road, which stretches approximately 5 miles. These upgrades include putting in bollards along buffer areas and painting conflict zones. Other scope includes lighting, bioswales, retaining walls (as needed), and other pedestrian amenities, such as bike racks, benches, trash cans, and pet waste stations, and pedestrian enhancements.   \n",
       "\n",
       "    current_phase     primary_mode urban_rural  total_project_cost__$1,000  \\\n",
       "345       UNKNOWN  Bike/Pedestrian       Urban                     34108.0   \n",
       "\n",
       "     total_unfunded_need__$1,000                                 notes  \\\n",
       "345                      23409.0  Partner agency = Implementing Agency   \n",
       "\n",
       "    shs_capacity_increase_detail current_phase  \n",
       "345                         None       UNKNOWN  "
      ]
     },
     "execution_count": 68,
     "metadata": {},
     "output_type": "execute_result"
    }
   ],
   "source": [
    "df.sample()"
   ]
  },
  {
   "cell_type": "code",
   "execution_count": 69,
   "id": "ccede347-cbfe-4ee3-9346-71b8f538258f",
   "metadata": {},
   "outputs": [
    {
     "data": {
      "text/html": [
       "<div>\n",
       "<style scoped>\n",
       "    .dataframe tbody tr th:only-of-type {\n",
       "        vertical-align: middle;\n",
       "    }\n",
       "\n",
       "    .dataframe tbody tr th {\n",
       "        vertical-align: top;\n",
       "    }\n",
       "\n",
       "    .dataframe thead th {\n",
       "        text-align: right;\n",
       "    }\n",
       "</style>\n",
       "<table border=\"1\" class=\"dataframe\">\n",
       "  <thead>\n",
       "    <tr style=\"text-align: right;\">\n",
       "      <th></th>\n",
       "      <th>project_name</th>\n",
       "      <th>implementing_agency</th>\n",
       "      <th>sb1_program</th>\n",
       "      <th>fiscal_year</th>\n",
       "      <th>project_description</th>\n",
       "      <th>total_cost</th>\n",
       "      <th>sb1_funds</th>\n",
       "      <th>is_sb1?</th>\n",
       "      <th>project_status</th>\n",
       "      <th>assembly_districts</th>\n",
       "      <th>senate_districts</th>\n",
       "      <th>congressional_districts</th>\n",
       "      <th>counties</th>\n",
       "      <th>cities</th>\n",
       "      <th>caltrans_districts</th>\n",
       "      <th>on_shs?</th>\n",
       "    </tr>\n",
       "  </thead>\n",
       "  <tbody>\n",
       "    <tr>\n",
       "      <th>922</th>\n",
       "      <td>Drainage - HM251</td>\n",
       "      <td>Caltrans</td>\n",
       "      <td>Highway Maintenance</td>\n",
       "      <td>'21/22</td>\n",
       "      <td>Repair/Replace Culverts</td>\n",
       "      <td>333.0</td>\n",
       "      <td>333.0</td>\n",
       "      <td>Y</td>\n",
       "      <td>In Progress</td>\n",
       "      <td>28</td>\n",
       "      <td>13, 15</td>\n",
       "      <td>18</td>\n",
       "      <td>Santa Clara</td>\n",
       "      <td>Saratoga</td>\n",
       "      <td>04</td>\n",
       "      <td>N</td>\n",
       "    </tr>\n",
       "  </tbody>\n",
       "</table>\n",
       "</div>"
      ],
      "text/plain": [
       "         project_name implementing_agency          sb1_program fiscal_year  \\\n",
       "922  Drainage - HM251            Caltrans  Highway Maintenance      '21/22   \n",
       "\n",
       "         project_description  total_cost  sb1_funds is_sb1? project_status  \\\n",
       "922  Repair/Replace Culverts       333.0      333.0       Y    In Progress   \n",
       "\n",
       "    assembly_districts senate_districts congressional_districts     counties  \\\n",
       "922                 28           13, 15                      18  Santa Clara   \n",
       "\n",
       "       cities caltrans_districts on_shs?  \n",
       "922  Saratoga                 04       N  "
      ]
     },
     "execution_count": 69,
     "metadata": {},
     "output_type": "execute_result"
    }
   ],
   "source": [
    "sb1_2.sample()"
   ]
  }
 ],
 "metadata": {
  "kernelspec": {
   "display_name": "Python 3 (ipykernel)",
   "language": "python",
   "name": "python3"
  },
  "language_info": {
   "codemirror_mode": {
    "name": "ipython",
    "version": 3
   },
   "file_extension": ".py",
   "mimetype": "text/x-python",
   "name": "python",
   "nbconvert_exporter": "python",
   "pygments_lexer": "ipython3",
   "version": "3.9.13"
  }
 },
 "nbformat": 4,
 "nbformat_minor": 5
}
