{
 "cells": [
  {
   "cell_type": "markdown",
   "id": "1a173285-41bd-4523-8d4b-b5474ec1b034",
   "metadata": {},
   "source": [
    "## Add SB1 geographic information."
   ]
  },
  {
   "cell_type": "code",
   "execution_count": 1,
   "id": "22b768e0-0316-4684-a4b2-683dcd82a323",
   "metadata": {},
   "outputs": [
    {
     "name": "stderr",
     "output_type": "stream",
     "text": [
      "/opt/conda/lib/python3.9/site-packages/geopandas/_compat.py:123: UserWarning: The Shapely GEOS version (3.10.3-CAPI-1.16.1) is incompatible with the GEOS version PyGEOS was compiled with (3.10.1-CAPI-1.16.0). Conversions between both will be slow.\n",
      "  warnings.warn(\n"
     ]
    }
   ],
   "source": [
    "import _utils\n",
    "import geopandas as gpd\n",
    "import numpy as np\n",
    "import pandas as pd\n",
    "from calitp.sql import to_snakecase"
   ]
  },
  {
   "cell_type": "code",
   "execution_count": 2,
   "id": "c375e3ed-515c-4762-a8aa-2c448a5433f9",
   "metadata": {},
   "outputs": [],
   "source": [
    "import fsspec\n",
    "from calitp import *\n",
    "from calitp.storage import get_fs\n",
    "\n",
    "fs = get_fs()\n",
    "import os"
   ]
  },
  {
   "cell_type": "code",
   "execution_count": 3,
   "id": "c7bbc54d-4a75-4b6d-8ed8-a44ec2685cd9",
   "metadata": {},
   "outputs": [],
   "source": [
    "pd.options.display.max_columns = 200\n",
    "pd.set_option(\"display.max_rows\", None)\n",
    "pd.set_option(\"display.max_colwidth\", None)"
   ]
  },
  {
   "cell_type": "markdown",
   "id": "76e4f5c3-7968-49e6-97d3-a1d165e50af3",
   "metadata": {
    "tags": []
   },
   "source": [
    "### Non SHOPP-ATP-TIRCP"
   ]
  },
  {
   "cell_type": "code",
   "execution_count": 4,
   "id": "6b483a64-786d-4d9c-96e8-0bfe429ffd2a",
   "metadata": {},
   "outputs": [],
   "source": [
    "# Read in 10 Year non SHOPP with ATP and TIRCP\n",
    "nonshopp = to_snakecase(\n",
    "    pd.read_excel(f\"{_utils.GCS_FILE_PATH}cleaned_data_atp_tircp.xlsx\")\n",
    ")"
   ]
  },
  {
   "cell_type": "code",
   "execution_count": 5,
   "id": "aa0c6362-1f89-4112-a55f-6928841266ce",
   "metadata": {},
   "outputs": [],
   "source": [
    "# Subset to join.\n",
    "non_shopp_subset = [\n",
    "    \"ppno\",\n",
    "    \"ct_project_id\",\n",
    "    \"ea\",\n",
    "    \"project_name\",\n",
    "    \"lead_agency\",\n",
    "    \"previous_caltrans_nominations\",\n",
    "    \"full_county_name\",\n",
    "    \"district\",\n",
    "    \"project_description\",\n",
    "    \"current_phase\",\n",
    "    \"primary_mode\",\n",
    "    \"urban_rural\",\n",
    "    \"total_project_cost__$1,000\",\n",
    "    \"total_unfunded_need__$1,000\",\n",
    "    \"shs_capacity_increase_detail\",\n",
    "    \"current_phase\",\n",
    "]"
   ]
  },
  {
   "cell_type": "code",
   "execution_count": 6,
   "id": "a63dc3e3-2485-4331-b370-c6fdf2c57952",
   "metadata": {},
   "outputs": [],
   "source": [
    "nonshopp = nonshopp[non_shopp_subset]"
   ]
  },
  {
   "cell_type": "code",
   "execution_count": 7,
   "id": "831b6492-b46d-4b82-b11a-87d25b87bcdb",
   "metadata": {},
   "outputs": [],
   "source": [
    "# Lower case and clean project names\n",
    "nonshopp.project_name = (\n",
    "    nonshopp.project_name.str.lower().str.strip().str.split(\"20\").str[0]\n",
    ")"
   ]
  },
  {
   "cell_type": "code",
   "execution_count": 8,
   "id": "06967d23-860f-4d11-a4ed-18675a5070e6",
   "metadata": {},
   "outputs": [],
   "source": [
    "nonshopp.district = nonshopp.district.map(\"{:02}\".format)"
   ]
  },
  {
   "cell_type": "markdown",
   "id": "5ba81d8f-2aaa-4138-be99-ed6687892a8a",
   "metadata": {},
   "source": [
    "### Sb1 Geo\n",
    "* https://odpsvcs.dot.ca.gov/arcgis/rest/services/RCA/RCA_Projects_032022/FeatureServer\n",
    "\n",
    "#### Step 1: Read in all projects\n",
    "* Compare with CSV.\n",
    "* Clean it up."
   ]
  },
  {
   "cell_type": "code",
   "execution_count": 9,
   "id": "57760f7c-453e-4d1e-9055-911fdc5dd74b",
   "metadata": {},
   "outputs": [],
   "source": [
    "sb1_all_projects_url = \"https://odpsvcs.dot.ca.gov/arcgis/rest/services/RCA/RCA_Projects_032022/FeatureServer/22/query?where=1%3D1&objectIds=&time=&geometry=&geometryType=esriGeometryEnvelope&inSR=&spatialRel=esriSpatialRelIntersects&distance=&units=esriSRUnit_Foot&relationParam=&outFields=*+&returnGeometry=true&maxAllowableOffset=&geometryPrecision=&outSR=&gdbVersion=&historicMoment=&returnDistinctValues=false&returnIdsOnly=false&returnCountOnly=false&returnExtentOnly=false&orderByFields=&groupByFieldsForStatistics=&outStatistics=&returnZ=false&returnM=false&multipatchOption=&resultOffset=&resultRecordCount=&returnTrueCurves=false&sqlFormat=none&f=geojson\""
   ]
  },
  {
   "cell_type": "code",
   "execution_count": 10,
   "id": "a316c10a-3ba0-4d96-a2a3-16a7324fdf60",
   "metadata": {},
   "outputs": [],
   "source": [
    "# Read in SB1 csv\n",
    "# sb1_csv = to_snakecase(pd.read_csv(f\"{_utils.GCS_FILE_PATH}RebuildingCA_map_Data.csv\"))"
   ]
  },
  {
   "cell_type": "code",
   "execution_count": 11,
   "id": "98ad0ce0-1ec1-4686-b088-51f1d5d4ea72",
   "metadata": {},
   "outputs": [],
   "source": [
    "sb1_all_projects = to_snakecase(gpd.read_file(sb1_all_projects_url))"
   ]
  },
  {
   "cell_type": "code",
   "execution_count": 12,
   "id": "cd7b978f-e0fe-4cf9-9cfa-fe0993b78e27",
   "metadata": {},
   "outputs": [
    {
     "data": {
      "text/plain": [
       "((9632, 37), 5453)"
      ]
     },
     "execution_count": 12,
     "metadata": {},
     "output_type": "execute_result"
    }
   ],
   "source": [
    "sb1_all_projects.shape, sb1_all_projects.projecttitle.nunique()"
   ]
  },
  {
   "cell_type": "code",
   "execution_count": 13,
   "id": "1c2e3f9f-55fc-4d4d-a6a4-931da4a68d84",
   "metadata": {},
   "outputs": [],
   "source": [
    "# Same rows, different columns.\n",
    "# sb1_all_projects.shape, sb1_csv.shape"
   ]
  },
  {
   "cell_type": "code",
   "execution_count": 14,
   "id": "24de4776-90e4-4862-9224-fe1fedf4ef60",
   "metadata": {},
   "outputs": [],
   "source": [
    "# Project ID matches\n",
    "# csv_projectid = set(sb1_csv.project_id.unique().tolist())\n",
    "# geojson_projectid = set(sb1_all_projects.projectid.unique().tolist())\n",
    "# csv_projectid - geojson_projectid"
   ]
  },
  {
   "cell_type": "code",
   "execution_count": 15,
   "id": "3961c1b6-eb36-44ba-8a78-aca089cd2035",
   "metadata": {},
   "outputs": [],
   "source": [
    "# set(sb1_all_projects.columns).difference(set(sb1_csv.columns))"
   ]
  },
  {
   "cell_type": "code",
   "execution_count": 16,
   "id": "98b60f3e-8875-4cc2-807a-98266ac56bbb",
   "metadata": {},
   "outputs": [],
   "source": [
    "# Align funding\n",
    "sb1_all_projects = _utils.align_funding_numbers(\n",
    "    sb1_all_projects,\n",
    "    [\n",
    "        \"totalcost\",\n",
    "        \"sb1funds\",\n",
    "    ],\n",
    ")"
   ]
  },
  {
   "cell_type": "code",
   "execution_count": 17,
   "id": "bf24ac71-79a4-417f-906b-9ca4824b499f",
   "metadata": {},
   "outputs": [],
   "source": [
    "# Lower case and clean project names\n",
    "sb1_all_projects.projecttitle = (\n",
    "    sb1_all_projects.projecttitle.str.lower().str.strip().str.split(\"20\").str[0]\n",
    ")"
   ]
  },
  {
   "cell_type": "code",
   "execution_count": 18,
   "id": "a87ebb9b-4ca9-45d0-9e58-01a13ab873ef",
   "metadata": {},
   "outputs": [],
   "source": [
    "# No geometry, just drop it\n",
    "sb1_all_projects = sb1_all_projects.drop(columns=[\"geometry\"])"
   ]
  },
  {
   "cell_type": "code",
   "execution_count": 19,
   "id": "563d4da0-7985-429a-9a88-a2d7929fe765",
   "metadata": {},
   "outputs": [
    {
     "ename": "NameError",
     "evalue": "name 'full_gdf2' is not defined",
     "output_type": "error",
     "traceback": [
      "\u001b[0;31m---------------------------------------------------------------------------\u001b[0m",
      "\u001b[0;31mNameError\u001b[0m                                 Traceback (most recent call last)",
      "Cell \u001b[0;32mIn[19], line 1\u001b[0m\n\u001b[0;32m----> 1\u001b[0m \u001b[43mfull_gdf2\u001b[49m\u001b[38;5;241m.\u001b[39mprogramcodes\u001b[38;5;241m.\u001b[39munique()\n",
      "\u001b[0;31mNameError\u001b[0m: name 'full_gdf2' is not defined"
     ]
    }
   ],
   "source": [
    "full_gdf2.programcodes.unique()"
   ]
  },
  {
   "cell_type": "code",
   "execution_count": null,
   "id": "3479af91-30bc-494a-82d7-cbbe1045841f",
   "metadata": {
    "scrolled": true,
    "tags": []
   },
   "outputs": [],
   "source": [
    "tircp_atp = full_gdf2.loc[full_gdf2.programcodes.str.contains(\"TIRCP|ATP\")].reset_index(\n",
    "    drop=True\n",
    ")"
   ]
  },
  {
   "cell_type": "code",
   "execution_count": null,
   "id": "ad603d43-2605-4df0-b671-2870222af678",
   "metadata": {
    "scrolled": true,
    "tags": []
   },
   "outputs": [],
   "source": [
    "tircp_atp_nonshopp = nonshopp.loc[\n",
    "    nonshopp.previous_caltrans_nominations.str.contains(\"TIRCP|ATP\")\n",
    "].reset_index(drop=True)"
   ]
  },
  {
   "cell_type": "code",
   "execution_count": 20,
   "id": "b1616bcb-efe6-451c-9310-7ca2629dcb37",
   "metadata": {},
   "outputs": [],
   "source": [
    "# Fill in NA\n",
    "sb1_all_projects = sb1_all_projects.fillna(sb1_all_projects.dtypes.replace({\"float64\": 0.0, \"object\": \"None\"}))"
   ]
  },
  {
   "cell_type": "markdown",
   "id": "1ea8e6ea-1ab7-42f4-be6d-d0de4d4a4113",
   "metadata": {},
   "source": [
    "#### Step 2: Read in files with geometry \n",
    "* https://odpsvcs.dot.ca.gov/arcgis/rest/services/RCA/RCA_Projects_032022/FeatureServer"
   ]
  },
  {
   "cell_type": "code",
   "execution_count": 21,
   "id": "66078fe9-1813-4114-8cd3-f202d767d42f",
   "metadata": {},
   "outputs": [],
   "source": [
    "url_pt1 = \"https://odpsvcs.dot.ca.gov/arcgis/rest/services/RCA/RCA_Projects_032022/FeatureServer/\"\n",
    "url_pt2 = \"/query?where=1%3D1&objectIds=&time=&geometry=&geometryType=esriGeometryEnvelope&inSR=&spatialRel=esriSpatialRelIntersects&distance=&units=esriSRUnit_Foot&relationParam=&outFields=*+&returnGeometry=true&maxAllowableOffset=&geometryPrecision=&outSR=&gdbVersion=&historicMoment=&returnDistinctValues=false&returnIdsOnly=false&returnCountOnly=false&returnExtentOnly=false&orderByFields=&groupByFieldsForStatistics=&outStatistics=&returnZ=false&returnM=false&multipatchOption=&resultOffset=&resultRecordCount=&returnTrueCurves=false&sqlFormat=none&f=geojson\""
   ]
  },
  {
   "cell_type": "code",
   "execution_count": 22,
   "id": "1d4ea347-27e9-46e0-896b-d46d31cb583c",
   "metadata": {},
   "outputs": [],
   "source": [
    "def rest_server():\n",
    "    full_gdf = pd.DataFrame()\n",
    "    for i in [*range(0,22)]:\n",
    "        df = to_snakecase(gpd.read_file(f\"{url_pt1}{i}{url_pt2}\"))\n",
    "        full_gdf = pd.concat([full_gdf, df], axis=0)\n",
    "    return full_gdf"
   ]
  },
  {
   "cell_type": "code",
   "execution_count": 23,
   "id": "8871efb7-866e-4eba-8de0-47aba5974e09",
   "metadata": {},
   "outputs": [],
   "source": [
    "sb1_geo = rest_server()"
   ]
  },
  {
   "cell_type": "code",
   "execution_count": 27,
   "id": "90737e33-59b9-4ad1-bf45-1e933b4cc099",
   "metadata": {},
   "outputs": [
    {
     "data": {
      "text/plain": [
       "<AxesSubplot:>"
      ]
     },
     "execution_count": 27,
     "metadata": {},
     "output_type": "execute_result"
    },
    {
     "data": {
      "image/png": "[encoded data removed]",
      "text/plain": [
       "<Figure size 640x480 with 1 Axes>"
      ]
     },
     "metadata": {},
     "output_type": "display_data"
    }
   ],
   "source": [
    "sb1_geo.plot()"
   ]
  },
  {
   "cell_type": "code",
   "execution_count": null,
   "id": "32d51a96-370e-4d14-aa2e-bf3bd69e3383",
   "metadata": {},
   "outputs": [],
   "source": [
    "# Fill in NA..turn this into a func\n",
    "sb1_geo = sb1_geo.fillna(sb1_geo.dtypes.replace({\"float64\": 0.0, \"object\": \"None\"}))"
   ]
  },
  {
   "cell_type": "code",
   "execution_count": null,
   "id": "7412b06d-e243-497a-8402-01c34f598f5e",
   "metadata": {},
   "outputs": [],
   "source": [
    "# Subset to join back to the 9,000 projects above\n",
    "# subset = ['objectid', 'agencyids', 'projecttitle','programcodes', 'projectid','geometry']"
   ]
  },
  {
   "cell_type": "code",
   "execution_count": null,
   "id": "b8413685-db5a-43c8-81a4-46e7f98175c0",
   "metadata": {},
   "outputs": [],
   "source": [
    "sb1_project_id = clean_project_id(sb1_project_id, \"project_id\")"
   ]
  },
  {
   "cell_type": "code",
   "execution_count": null,
   "id": "76b3ea1c-9750-4f68-9659-96de5f83bbc5",
   "metadata": {},
   "outputs": [],
   "source": [
    "full_gdf2 = clean_project_id(full_gdf2, \"projectid\")"
   ]
  },
  {
   "cell_type": "code",
   "execution_count": null,
   "id": "52ae80b3-b737-45cc-901c-6dbd8334204a",
   "metadata": {},
   "outputs": [],
   "source": [
    "full_gdf2.projectid.nunique(), sb1_project_id.project_id.nunique(), len(sb1_project_id)"
   ]
  },
  {
   "cell_type": "code",
   "execution_count": null,
   "id": "307fd968-aec1-4e26-a2b3-88c80c5a1ab4",
   "metadata": {},
   "outputs": [],
   "source": [
    "pd.merge(\n",
    "    sb1_project_id,\n",
    "    full_gdf2,\n",
    "    how=\"outer\",\n",
    "    left_on=[\"project_id\"],\n",
    "    right_on=[\"projectid\"],\n",
    "    indicator=True,\n",
    ")[[\"_merge\"]].value_counts()"
   ]
  },
  {
   "cell_type": "code",
   "execution_count": null,
   "id": "c05a86f1-6c69-484e-b6bd-5d3324742824",
   "metadata": {},
   "outputs": [],
   "source": [
    "sb1_m = pd.merge(\n",
    "    full_gdf2,\n",
    "    sb1_project_id,\n",
    "    how=\"left\",\n",
    "    left_on=[\"projectid\"],\n",
    "    right_on=[\"project_id\"],\n",
    ")"
   ]
  },
  {
   "cell_type": "code",
   "execution_count": null,
   "id": "e4b1d2d3-7b68-460b-a2eb-dd5f6e59c381",
   "metadata": {},
   "outputs": [],
   "source": [
    "sb1_m.project_name = sb1_m.project_name.fillna(sb1_m.projecttitle)"
   ]
  },
  {
   "cell_type": "code",
   "execution_count": null,
   "id": "92fc5d14-d99c-470f-9bc5-d903d7b212db",
   "metadata": {},
   "outputs": [],
   "source": [
    "pd.merge(nonshopp, sb1_m, how=\"outer\", on=[\"project_name\"], indicator=True)[\n",
    "    [\"_merge\"]\n",
    "].value_counts()"
   ]
  },
  {
   "cell_type": "code",
   "execution_count": null,
   "id": "805ac0f5-36dc-40bd-b7b5-582baadc339a",
   "metadata": {},
   "outputs": [],
   "source": [
    "sb1.shape, sb1.project_name.nunique()"
   ]
  },
  {
   "cell_type": "code",
   "execution_count": null,
   "id": "34a06b31-dd37-48a2-83d6-06abd8d4b615",
   "metadata": {},
   "outputs": [],
   "source": [
    "# Titles are not necessarily specifically named.\n",
    "# Tends to be very general\n",
    "# sb1.project_name.value_counts()"
   ]
  },
  {
   "cell_type": "code",
   "execution_count": null,
   "id": "11af211e-6647-49b7-b818-d3bc5209ab43",
   "metadata": {},
   "outputs": [],
   "source": [
    "sb1_subset = [\n",
    "    \"project_name\",\n",
    "    \"implementing_agency\",\n",
    "    \"sb1_program\",\n",
    "    \"fiscal_year\",\n",
    "    \"project_description\",\n",
    "    \"total_cost\",\n",
    "    \"sb1_funds\",\n",
    "    \"is_sb1?\",\n",
    "    \"project_status\",\n",
    "    \"assembly_districts\",\n",
    "    \"senate_districts\",\n",
    "    \"congressional_districts\",\n",
    "    \"counties\",\n",
    "    \"cities\",\n",
    "    \"caltrans_districts\",\n",
    "    \"on_shs?\",\n",
    "]"
   ]
  },
  {
   "cell_type": "code",
   "execution_count": null,
   "id": "1c970a13-2b8a-4c24-afca-7f2f8fbe229d",
   "metadata": {},
   "outputs": [],
   "source": [
    "sb1_2 = sb1[sb1_subset]"
   ]
  },
  {
   "cell_type": "code",
   "execution_count": null,
   "id": "0b6f73ab-706d-4c31-8fae-fe830a3fc260",
   "metadata": {},
   "outputs": [],
   "source": [
    "sb1.sb1_program.value_counts()"
   ]
  },
  {
   "cell_type": "code",
   "execution_count": null,
   "id": "ad12e624-e1cd-4e0f-a98e-c533490fc3d4",
   "metadata": {},
   "outputs": [],
   "source": [
    "sb1_2.shape"
   ]
  },
  {
   "cell_type": "code",
   "execution_count": null,
   "id": "f3a9fb1a-9cbf-45a9-a0a6-cc96dbb16b09",
   "metadata": {},
   "outputs": [],
   "source": [
    "# Fill in NA\n",
    "sb1_2 = sb1_2.fillna(sb1_2.dtypes.replace({\"float64\": 0.0, \"object\": \"None\"}))"
   ]
  },
  {
   "cell_type": "code",
   "execution_count": null,
   "id": "7510fd40-c15e-42ba-a4f1-68031c2e6b3e",
   "metadata": {},
   "outputs": [],
   "source": [
    "# Align funding\n",
    "sb1_2 = _utils.align_funding_numbers(\n",
    "    sb1_2,\n",
    "    [\n",
    "        \"total_cost\",\n",
    "        \"sb1_funds\",\n",
    "    ],\n",
    ")"
   ]
  },
  {
   "cell_type": "code",
   "execution_count": null,
   "id": "d2b42344-6b49-4b26-83f4-f70f02a46c32",
   "metadata": {},
   "outputs": [],
   "source": [
    "# sb1_geo2 = sb1_geo[subset]"
   ]
  },
  {
   "cell_type": "markdown",
   "id": "12bf83bd-dd26-42e0-b339-0738fa2c5365",
   "metadata": {},
   "source": [
    "#### Step 3: Figure out why the rows differ between `sb1_all_projects` and `sb1_geo2`"
   ]
  },
  {
   "cell_type": "code",
   "execution_count": null,
   "id": "237a5df4-60b9-4b73-858e-0468dad85d15",
   "metadata": {},
   "outputs": [],
   "source": [
    "def clean_project_names_id(df, project_name_col:str, project_id_col: str):\n",
    "    df[project_name_col] = (df[project_name_col].str.lower().str.strip().str.split(\"20\").str[0])\n",
    "    \n",
    "    df[project_id_col] = df[project_id_col].str.replace(\"'\", \"\").str.lower().str.strip()\n",
    "    \n",
    "    # Get rid of | in object cols\n",
    "    # https://stackoverflow.com/questions/68152902/extracting-only-object-type-columns-in-a-separate-list-from-a-data-frame-in-pand\n",
    "    for i in df.select_dtypes(include=['object']).columns.to_list():\n",
    "        df[i] = df[i].str.replace(\"|\", \"\")\n",
    "    return df"
   ]
  },
  {
   "cell_type": "code",
   "execution_count": null,
   "id": "05b55d0d-dea9-4951-bbb2-569277934a01",
   "metadata": {},
   "outputs": [],
   "source": [
    "sb1_all_projects.shape, sb1_geo.shape"
   ]
  },
  {
   "cell_type": "code",
   "execution_count": null,
   "id": "78804134-baa0-405e-91b2-4f27da5b53cf",
   "metadata": {},
   "outputs": [],
   "source": [
    "# Objectid: no cleaning for either of dfs\n",
    "# This is a int64 dtype...yet zero merges\n",
    "pd.merge(\n",
    "    sb1_all_projects,\n",
    "    sb1_geo,\n",
    "    how=\"outer\",\n",
    "    on=[\"objectid\"],\n",
    "    indicator=True,\n",
    ")[[\"_merge\"]].value_counts()"
   ]
  },
  {
   "cell_type": "code",
   "execution_count": null,
   "id": "80cdc34b-7646-4c0d-8086-5e43b1b13c9e",
   "metadata": {},
   "outputs": [],
   "source": [
    "sb1_all_projects = clean_project_names_id(sb1_all_projects, 'projectid', 'projecttitle')"
   ]
  },
  {
   "cell_type": "code",
   "execution_count": null,
   "id": "6f511481-9d2f-4f8d-9a68-ed21efd96d25",
   "metadata": {},
   "outputs": [],
   "source": [
    "sb1_geo2 = clean_project_names_id(sb1_geo, 'projectid','projecttitle')"
   ]
  },
  {
   "cell_type": "code",
   "execution_count": null,
   "id": "d1163bba-8831-41d4-9238-dac16c5bc144",
   "metadata": {},
   "outputs": [],
   "source": [
    "pd.merge(\n",
    "    sb1_all_projects,\n",
    "    sb1_geo2,\n",
    "    how=\"outer\",\n",
    "    left_on=[\"projectid\"],\n",
    "    right_on = [\"projectid\"],\n",
    "    indicator=True,\n",
    ")[[\"_merge\"]].value_counts()"
   ]
  },
  {
   "cell_type": "code",
   "execution_count": null,
   "id": "f839c3db-9bff-4653-9be0-537aa1cfa5d0",
   "metadata": {},
   "outputs": [],
   "source": [
    "pd.merge(\n",
    "    sb1_all_projects,\n",
    "    sb1_geo2,\n",
    "    how=\"outer\",\n",
    "    left_on=[\"projecttitle\", \"ct_districts\", \"agencyid\", \"fiscalyear\"],\n",
    "    right_on=[\"projecttitle\", \"ct_districts\", \"agencyids\", \"fiscalyears\"],\n",
    "    indicator=True,\n",
    ")[[\"_merge\"]].value_counts()"
   ]
  },
  {
   "cell_type": "markdown",
   "id": "69f2f3b4-c1d0-4d4b-87c5-d2158e115dcc",
   "metadata": {},
   "source": [
    "### Merge 9 Sample Non SHOPP with Geojson"
   ]
  },
  {
   "cell_type": "code",
   "execution_count": null,
   "id": "2258812c-fed6-4b48-84f7-10367a9b8839",
   "metadata": {},
   "outputs": [],
   "source": [
    "for i in [\"project_name\", \"ea\", \"ppno\"]:\n",
    "    nonshopp[i] = nonshopp[i].str.lower()"
   ]
  },
  {
   "cell_type": "code",
   "execution_count": null,
   "id": "3e217738-36f1-4c7e-939d-dda2c86dc95d",
   "metadata": {},
   "outputs": [],
   "source": [
    "nine_projects_names = [\n",
    "    \"LA-210 Median Concrete Barrier Renovation\",\n",
    "    \"SR-14 Widening Project\",\n",
    "    \"US 395 Freight Mobility and Safety Project\",\n",
    "    \"East Bay Greenway Multimodal Corridor Project\",\n",
    "    \"Watsonville-Santa Cruz Multimodal Corridor Program\",\n",
    "    \"SM 101 Woodside Road Interchange and Port Access Project\",\n",
    "    \"I-710 Integrated Corridor Management\",\n",
    "    \"Five Cities Multimodal Transportation Network Enhancement Project\",\n",
    "    \"SR-86/Avenue 50 New Interchange (Phase II)\",\n",
    "]"
   ]
  },
  {
   "cell_type": "code",
   "execution_count": null,
   "id": "8834ce41-93b4-4978-a1bf-d4595dad14a6",
   "metadata": {},
   "outputs": [],
   "source": [
    "nine_projects_names = [x.lower() for x in nine_projects_names]"
   ]
  },
  {
   "cell_type": "code",
   "execution_count": null,
   "id": "8b7deddf-30b5-4071-8a9c-2bd91c9cdc25",
   "metadata": {},
   "outputs": [],
   "source": [
    "nine_projects_id = [\n",
    "    \"0422000202\",\n",
    "    \"0414000032\",\n",
    "    \"0520000083\",\n",
    "    \"0515000063\",\n",
    "    \"0721000056\",\n",
    "    \"0716000370\",\n",
    "    \"0813000222\",\n",
    "    \"0814000144\",\n",
    "    \"0414000032\",\n",
    "    \"0720000165\",\n",
    "]"
   ]
  },
  {
   "cell_type": "code",
   "execution_count": null,
   "id": "86fcc2e9-e7d2-413e-bf0f-a133f9e1d628",
   "metadata": {},
   "outputs": [],
   "source": [
    "nine_sample_projects = (nonshopp[nonshopp.ct_project_id.isin(nine_projects_id)].reset_index(drop=True))"
   ]
  },
  {
   "cell_type": "code",
   "execution_count": null,
   "id": "7fbba442-b295-4a9b-b94d-68dc41c0131f",
   "metadata": {},
   "outputs": [],
   "source": [
    "# Subset sb1_geo to only districts these 9 projects are located in\n",
    "sb1_geo3 = sb1_geo2[sb1_geo2[\"ct_districts\"].str.contains(('05|07|04|08'))].reset_index(drop = True)"
   ]
  },
  {
   "cell_type": "code",
   "execution_count": null,
   "id": "02d7a5b9-36fd-463d-8bb8-710335d9c752",
   "metadata": {
    "scrolled": true,
    "tags": []
   },
   "outputs": [],
   "source": [
    "sb1_geo3.explore()"
   ]
  },
  {
   "cell_type": "markdown",
   "id": "8e56b218-b6c8-4bec-bc97-300e1ebd1229",
   "metadata": {},
   "source": [
    "### Merge all other Projects"
   ]
  },
  {
   "cell_type": "code",
   "execution_count": null,
   "id": "ccede347-cbfe-4ee3-9346-71b8f538258f",
   "metadata": {},
   "outputs": [],
   "source": [
    "# 62 matches\n",
    "pd.merge(\n",
    "    nonshopp,\n",
    "    sb1_all_projects,\n",
    "    how=\"outer\",\n",
    "    left_on=[\"project_name\"],\n",
    "    right_on=[\"projecttitle\"],\n",
    "    indicator=True,\n",
    ")[[\"_merge\"]].value_counts()"
   ]
  },
  {
   "cell_type": "markdown",
   "id": "9bd3b888-c935-4029-81ca-e8cc5d3eedb5",
   "metadata": {},
   "source": [
    "### Tircp\n",
    "* None of the projects from TIRCP are mapping, even though the names appear the same."
   ]
  },
  {
   "cell_type": "code",
   "execution_count": null,
   "id": "182020ac-5310-48a9-96d5-0227b89f6231",
   "metadata": {},
   "outputs": [],
   "source": [
    "# sb1_tircp = sb1_2.loc[sb1_2.sb1_program == \"Transit and Intercity Rail Capital Program\"].reset_index(drop = True)"
   ]
  },
  {
   "cell_type": "code",
   "execution_count": null,
   "id": "81191fad-bd8a-4d7b-b75b-bcf7c542fc71",
   "metadata": {},
   "outputs": [],
   "source": [
    "# sb1_tircp[['project_name','caltrans_districts','counties']].sort_values('project_name').head(2)"
   ]
  },
  {
   "cell_type": "code",
   "execution_count": null,
   "id": "80ca7f9b-043b-4f18-a79a-3e5d69161af4",
   "metadata": {
    "scrolled": true,
    "tags": []
   },
   "outputs": [],
   "source": [
    "# tircp_sb[['project_name']].sort_values(by = 'project_name')"
   ]
  },
  {
   "cell_type": "code",
   "execution_count": null,
   "id": "417df614-c9e4-4b8e-9ffa-b4f21889e974",
   "metadata": {
    "scrolled": true,
    "tags": []
   },
   "outputs": [],
   "source": [
    "# tircp_shopp[['project_name']].sort_values(by = 'project_name')"
   ]
  },
  {
   "cell_type": "code",
   "execution_count": null,
   "id": "25c0f244-c284-4de8-a8d9-872be7c74c0d",
   "metadata": {
    "scrolled": true,
    "tags": []
   },
   "outputs": [],
   "source": [
    "tircp_shopp = df.loc[\n",
    "    df.previous_caltrans_nominations.str.contains(\"TIRCP\")\n",
    "].reset_index(drop=True)"
   ]
  },
  {
   "cell_type": "code",
   "execution_count": null,
   "id": "4f74adae-6714-4e3b-b288-911be3d67c27",
   "metadata": {},
   "outputs": [],
   "source": [
    "# why are there no matches??\n",
    "pd.merge(tircp_shopp, tircp_sb, how=\"outer\", on=[\"project_name\"], indicator=True)[\n",
    "    [\"_merge\"]\n",
    "].value_counts()"
   ]
  }
 ],
 "metadata": {
  "kernelspec": {
   "display_name": "Python 3 (ipykernel)",
   "language": "python",
   "name": "python3"
  },
  "language_info": {
   "codemirror_mode": {
    "name": "ipython",
    "version": 3
   },
   "file_extension": ".py",
   "mimetype": "text/x-python",
   "name": "python",
   "nbconvert_exporter": "python",
   "pygments_lexer": "ipython3",
   "version": "3.9.13"
  }
 },
 "nbformat": 4,
 "nbformat_minor": 5
}
