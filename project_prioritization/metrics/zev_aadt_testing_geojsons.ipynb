{
 "cells": [
  {
   "cell_type": "code",
   "execution_count": 1,
   "id": "7041e554-4ab0-4fae-81a6-35d2a089b4f4",
   "metadata": {
    "tags": []
   },
   "outputs": [
    {
     "name": "stdout",
     "output_type": "stream",
     "text": [
      "Requirement already satisfied: geojson in /opt/conda/lib/python3.11/site-packages (3.2.0)\n",
      "Note: you may need to restart the kernel to use updated packages.\n"
     ]
    }
   ],
   "source": [
    "pip install geojson"
   ]
  },
  {
   "cell_type": "code",
   "execution_count": 2,
   "id": "e8f4d0f4-b003-4950-9c1e-ca58e8c0c3fd",
   "metadata": {
    "tags": []
   },
   "outputs": [],
   "source": [
    "import os \n",
    "import pandas as pd\n",
    "import geopandas as gpd\n",
    "import gcsfs\n",
    "import shapely\n",
    "import shared_utils\n",
    "import geojson\n",
    "import numpy as np\n",
    "import math\n",
    "from calitp_data_analysis import get_fs\n",
    "from calitp_data_analysis import geography_utils, utils\n",
    "from shapely.geometry import Point, LineString\n",
    "\n",
    "fs = get_fs()\n",
    "from shared_utils import arcgis_query"
   ]
  },
  {
   "cell_type": "code",
   "execution_count": 3,
   "id": "eadbf261-1b16-499e-9f8f-89275a695dab",
   "metadata": {
    "tags": []
   },
   "outputs": [],
   "source": [
    "All_Vehicle_AADT_URL = \"https://caltrans-gis.dot.ca.gov/arcgis/rest/services/CHhighway/Traffic_AADT/FeatureServer/0\" # Caltrans Open Data Portal All Vehicles AADT data\n",
    "All_Vehicle_AADT = arcgis_query.query_arcgis_feature_server(All_Vehicle_AADT_URL)"
   ]
  },
  {
   "cell_type": "code",
   "execution_count": 4,
   "id": "a628f2f2-a2db-4cd2-8bd5-52b50b2c3c22",
   "metadata": {
    "tags": []
   },
   "outputs": [],
   "source": [
    "Truck_AADT_URL = \"https://caltrans-gis.dot.ca.gov/arcgis/rest/services/CHhighway/Truck_Volumes_AADT/FeatureServer/0\" # Caltrans Open Data Portal Truck AADT data\n",
    "Truck_AADT = arcgis_query.query_arcgis_feature_server(Truck_AADT_URL)"
   ]
  },
  {
   "cell_type": "code",
   "execution_count": 5,
   "id": "142e0c2f-9516-4f18-9577-338b4448f0c3",
   "metadata": {
    "tags": []
   },
   "outputs": [],
   "source": [
    "postmile_URL = \"https://caltrans-gis.dot.ca.gov/arcgis/rest/services/CHhighway/SHN_Postmiles_Tenth/FeatureServer/0/\" #Caltrans Posmiles SHN data \n",
    "gdf_postmiles = arcgis_query.query_arcgis_feature_server(postmile_URL)"
   ]
  },
  {
   "cell_type": "code",
   "execution_count": 6,
   "id": "d1632afb-7080-4cad-90e8-a9a56f67083d",
   "metadata": {},
   "outputs": [],
   "source": [
    "shn_URL = \"https://caltrans-gis.dot.ca.gov/arcgis/rest/services/CHhighway/SHN_Lines/FeatureServer/0/\" # Caltrans SHN URL \n",
    "gdf_shn = arcgis_query.query_arcgis_feature_server(shn_URL)"
   ]
  },
  {
   "cell_type": "code",
   "execution_count": 7,
   "id": "2165d3d1-ec6d-4c45-8e04-5ca256b10021",
   "metadata": {
    "tags": []
   },
   "outputs": [
    {
     "name": "stdout",
     "output_type": "stream",
     "text": [
      "Saved All_Vehicle_AADT.geojson to gs://calitp-analytics-data/data-analyses/general_csis/2026_CSIS_testing/ZEV/All_Vehicle_AADT.geojson\n",
      "Saved Truck_AADT.geojson to gs://calitp-analytics-data/data-analyses/general_csis/2026_CSIS_testing/ZEV/Truck_AADT.geojson\n",
      "Saved postmiles.geojson to gs://calitp-analytics-data/data-analyses/general_csis/2026_CSIS_testing/ZEV/postmiles.geojson\n",
      "Saved shn.geojson to gs://calitp-analytics-data/data-analyses/general_csis/2026_CSIS_testing/ZEV/shn.geojson\n"
     ]
    }
   ],
   "source": [
    "datasets = {\n",
    "    'All_Vehicle_AADT.geojson': All_Vehicle_AADT,\n",
    "    'Truck_AADT.geojson': Truck_AADT,\n",
    "    'postmiles.geojson': gdf_postmiles,\n",
    "    'shn.geojson': gdf_shn\n",
    "}\n",
    "\n",
    "gcs_folder_path = 'gs://calitp-analytics-data/data-analyses/general_csis/2026_CSIS_testing/ZEV'\n",
    "fs = gcsfs.GCSFileSystem()\n",
    "\n",
    "for filename, gdf in datasets.items():\n",
    "    # Convert to GeoJSON string\n",
    "    geojson_str = gdf.to_json()\n",
    "    \n",
    "    # Full GCS path\n",
    "    full_path = f\"{gcs_folder_path}/{filename}\"\n",
    "    \n",
    "    # Write GeoJSON string to GCS\n",
    "    with fs.open(full_path, 'w') as f:\n",
    "        f.write(geojson_str)\n",
    "    \n",
    "    print(f\"Saved {filename} to {full_path}\")\n"
   ]
  },
  {
   "cell_type": "code",
   "execution_count": null,
   "id": "10366d77-6e4b-4a09-858e-6ba838a74478",
   "metadata": {},
   "outputs": [],
   "source": []
  }
 ],
 "metadata": {
  "kernelspec": {
   "display_name": "Python 3 (ipykernel)",
   "language": "python",
   "name": "python3"
  },
  "language_info": {
   "codemirror_mode": {
    "name": "ipython",
    "version": 3
   },
   "file_extension": ".py",
   "mimetype": "text/x-python",
   "name": "python",
   "nbconvert_exporter": "python",
   "pygments_lexer": "ipython3",
   "version": "3.11.10"
  }
 },
 "nbformat": 4,
 "nbformat_minor": 5
}
