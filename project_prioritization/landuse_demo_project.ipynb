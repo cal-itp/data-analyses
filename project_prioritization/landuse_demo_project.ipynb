{
 "cells": [
  {
   "cell_type": "code",
   "execution_count": 1,
   "id": "75a975d9-7ce6-41ce-ad73-b36a276cc277",
   "metadata": {},
   "outputs": [
    {
     "name": "stderr",
     "output_type": "stream",
     "text": [
      "/opt/conda/lib/python3.9/site-packages/geopandas/_compat.py:123: UserWarning: The Shapely GEOS version (3.11.1-CAPI-1.17.1) is incompatible with the GEOS version PyGEOS was compiled with (3.10.1-CAPI-1.16.0). Conversions between both will be slow.\n",
      "  warnings.warn(\n",
      "/tmp/ipykernel_601/529163112.py:7: UserWarning: Shapely 2.0 is installed, but because PyGEOS is also installed, GeoPandas will still use PyGEOS by default for now. To force to use and test Shapely 2.0, you have to set the environment variable USE_PYGEOS=0. You can do this before starting the Python process, or in your code before importing geopandas:\n",
      "\n",
      "import os\n",
      "os.environ['USE_PYGEOS'] = '0'\n",
      "import geopandas\n",
      "\n",
      "In a future release, GeoPandas will switch to using Shapely by default. If you are using PyGEOS directly (calling PyGEOS functions on geometries from GeoPandas), this will then stop working and you are encouraged to migrate from PyGEOS to Shapely 2.0 (https://shapely.readthedocs.io/en/latest/migration_pygeos.html).\n",
      "  import geopandas as gpd\n"
     ]
    }
   ],
   "source": [
    "import os\n",
    "os.environ[\"CALITP_BQ_MAX_BYTES\"] = str(1_000_000_000_000) ## 1TB?\n",
    "\n",
    "# import _utils # amanda's collected utils\n",
    "\n",
    "import pandas as pd\n",
    "import geopandas as gpd\n",
    "from siuba import *\n",
    "\n",
    "import shared_utils\n",
    "import datetime as dt\n",
    "import numpy as np\n",
    "\n",
    "import gcsfs\n",
    "\n",
    "from calitp_data.storage import get_fs\n",
    "fs = get_fs()\n",
    "\n",
    "GCS_FILE_PATH = \"gs://calitp-analytics-data/data-analyses/project_prioritization/\"\n",
    "\n",
    "import intake\n",
    "\n",
    "catalog = intake.open_catalog(\"./metrics_catalog.yml\")"
   ]
  },
  {
   "cell_type": "markdown",
   "id": "1453062c-bee8-40e2-8613-d40e1c6e80f1",
   "metadata": {},
   "source": [
    "# Land Use Metric Demo"
   ]
  },
  {
   "cell_type": "code",
   "execution_count": 3,
   "id": "14bb3b8b-7d0c-449e-b44e-b245e9066314",
   "metadata": {},
   "outputs": [],
   "source": [
    "# load in incorporated cities\n",
    "# in terminal, from same folder: \n",
    "'''\n",
    "pip install esridump\n",
    "esri2geojson https://services1.arcgis.com/jUJYIo9tSA7EHvfZ/arcgis/rest/services/City_Boundaries/FeatureServer/0 city_boundaries.geojson\n",
    "'''\n",
    "\n",
    "cities = gpd.read_file(\"./city_boundaries.geojson\")"
   ]
  },
  {
   "cell_type": "code",
   "execution_count": 4,
   "id": "69263dce-5001-4e5d-9cbe-e72d86e09a48",
   "metadata": {},
   "outputs": [
    {
     "name": "stdout",
     "output_type": "stream",
     "text": [
      "<class 'geopandas.geodataframe.GeoDataFrame'>\n",
      "RangeIndex: 482 entries, 0 to 481\n",
      "Data columns (total 7 columns):\n",
      " #   Column         Non-Null Count  Dtype   \n",
      "---  ------         --------------  -----   \n",
      " 0   OBJECTID       482 non-null    int64   \n",
      " 1   COUNTY         482 non-null    object  \n",
      " 2   CITY           482 non-null    object  \n",
      " 3   Shape__Area    482 non-null    float64 \n",
      " 4   Shape__Length  482 non-null    float64 \n",
      " 5   GlobalID       482 non-null    object  \n",
      " 6   geometry       482 non-null    geometry\n",
      "dtypes: float64(2), geometry(1), int64(1), object(3)\n",
      "memory usage: 26.5+ KB\n"
     ]
    }
   ],
   "source": [
    "cities.info()"
   ]
  },
  {
   "cell_type": "code",
   "execution_count": null,
   "id": "ff5c873e-4fab-467a-83c5-a3b81bd86baa",
   "metadata": {},
   "outputs": [],
   "source": []
  }
 ],
 "metadata": {
  "kernelspec": {
   "display_name": "Python 3 (ipykernel)",
   "language": "python",
   "name": "python3"
  },
  "language_info": {
   "codemirror_mode": {
    "name": "ipython",
    "version": 3
   },
   "file_extension": ".py",
   "mimetype": "text/x-python",
   "name": "python",
   "nbconvert_exporter": "python",
   "pygments_lexer": "ipython3",
   "version": "3.9.13"
  }
 },
 "nbformat": 4,
 "nbformat_minor": 5
}
