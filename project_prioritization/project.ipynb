{
 "cells": [
  {
   "cell_type": "code",
   "execution_count": 1,
   "id": "67b24686-e8a3-494b-8596-0afa2caabe6a",
   "metadata": {},
   "outputs": [],
   "source": [
    "%%capture\n",
    "import numpy as np\n",
    "import pandas as pd\n",
    "\n",
    "# import warnings\n",
    "# warnings.filterwarnings(\"ignore\")\n",
    "from babel.numbers import format_currency\n",
    "from calitp import to_snakecase\n",
    "\n",
    "# Display\n",
    "from IPython.display import HTML, Image, Markdown, display, display_html\n",
    "from shared_utils import altair_utils, styleguide\n",
    "\n",
    "# Settings\n",
    "pd.options.display.max_columns = 100\n",
    "pd.set_option(\"display.max_rows\", None)\n",
    "pd.set_option(\"display.max_colwidth\", None)\n",
    "\n",
    "# Charts\n",
    "import altair as alt\n",
    "from shared_utils import calitp_color_palette as cp\n",
    "\n",
    "# GCS, del later since this will presumbly be read from a script that cleans up the data\n",
    "GCS_FILE_PATH = \"gs://calitp-analytics-data/data-analyses/project_prioritization/\"\n",
    "FILE = \"fake_data.xlsx\"\n",
    "\n",
    "# My utilities\n",
    "import _utils"
   ]
  },
  {
   "cell_type": "code",
   "execution_count": 2,
   "id": "aa2cff56-bda5-4c9a-a513-573fec1ed97f",
   "metadata": {},
   "outputs": [],
   "source": [
    "df = pd.read_excel(f\"{GCS_FILE_PATH}{FILE}\", sheet_name=\"fake\")"
   ]
  },
  {
   "cell_type": "code",
   "execution_count": 3,
   "id": "9df6e6d8-26d8-4789-8ea1-b2545ad69695",
   "metadata": {},
   "outputs": [],
   "source": [
    "# Parameter Cell\n",
    "# Other projects: 'Equitable And Sustainable Public Transit Planning For Rural America' in D1\n",
    "# 'I-880/Decoto Interchange Modernization Project' in D4\n",
    "# 'Monroe Street Bridge Project' in D8\n",
    "# 'Forrester Rd Widening And Realignment' in D11\n",
    "project_name = 'Forrester Rd Widening And Realignment'"
   ]
  },
  {
   "cell_type": "code",
   "execution_count": 4,
   "id": "2d26ea00-3e87-41fb-80ec-bb68f18c9df1",
   "metadata": {},
   "outputs": [],
   "source": [
    "# Objects\n",
    "\n",
    "# DF with project that was set in the parameter cell\n",
    "df2 = df.loc[df[\"project_name\"] == project_name].reset_index(drop=True)\n",
    "\n",
    "# Grab district of parameter cell project\n",
    "district_object = df2[\"district\"].values[0]\n",
    "\n",
    "# DF with projects in the same district as project\n",
    "df_district = df.loc[df[\"district\"] == district_object]\n",
    "\n",
    "# Median benefit score  in district\n",
    "district_median_benefit_score = int(df_district.fake_benefit_score.median())\n",
    "\n",
    "# Median project cost in district\n",
    "district_median_cost = format_currency(\n",
    "    (df_district[\"total_project_cost__$1,000_\"].median()),\n",
    "    currency=\"USD\",\n",
    ")\n",
    "\n",
    "# Median money requested.\n",
    "district_median_req = format_currency(\n",
    "    (df_district[\"current_fake_fund_requested\"].median()),\n",
    "    currency=\"USD\",\n",
    ")"
   ]
  },
  {
   "cell_type": "code",
   "execution_count": 5,
   "id": "f009033c-db97-44d5-a953-8e690f9af0dc",
   "metadata": {},
   "outputs": [],
   "source": [
    "# Formatting\n",
    "# Format some currency columns\n",
    "df2[\"formatted_total_project\"] = df2[\"total_project_cost__$1,000_\"].apply(\n",
    "    lambda x: format_currency(x, currency=\"USD\", locale=\"en_US\")\n",
    ")\n",
    "\n",
    "df2[\"formatted_requested\"] = df2[\"current_fake_fund_requested\"].apply(\n",
    "    lambda x: format_currency(x, currency=\"USD\", locale=\"en_US\")\n",
    ")"
   ]
  },
  {
   "cell_type": "code",
   "execution_count": 6,
   "id": "1d6e0152-e945-4ce7-bccd-851ff96d4ce8",
   "metadata": {
    "tags": []
   },
   "outputs": [
    {
     "data": {
      "text/markdown": [
       "<h1><b>Forrester Rd Widening And Realignment</b></h1>\n",
       "        <br> This project (PPNO:1217) is led by <b>None</b> in <b>District 11</b> and \n",
       "        is in its <b>PID</b> phase.\n",
       "        <br><br><b>Project Description:</b> Imperial County’s 2013 Transportation Plan lists this project in its Mid-term Constrained Plan and proposes to build Forrester Road as a four-lane expressway from I-8 to the SR 78 intersection in the City of Westmorland. This project will improve the transportation of goods and people along Forrester Road by upgrading the existing roadway to one that can handle the anticipated increase in traffic.  The project also includes a truck by-pass to the City of Westmorland. \n",
       "\n",
       "This project addresses the use of Forrester Road as a bypass to the Cities of El Centro, Imperial, and Brawley. It is also the preferred route to take the place of the relinquished portion of SR 86.\n",
       "Forrester Road is currently being used to bypass the Cities of El Centro, Imperial, Brawley, and Westmorland. It provides a travel times savings between the southern portion of Imperial County and the Indio/Palm Springs area. Within the Cities of El Centro, Brawley, and Westmorland, SR 86 operates more like a city arterial and serves as a Main Street with a high concentration of access points including pedestrian crossings. The State of California has already relinquished to the City of Imperial the portion of SR 86 within their city limits. The long-term plan is to relinquish all of SR 86 between SR 111 (at Heber Road) and the Fredericks Road/SR 78 Junction to the local agencies.\n",
       "        "
      ],
      "text/plain": [
       "<IPython.core.display.Markdown object>"
      ]
     },
     "metadata": {},
     "output_type": "display_data"
    }
   ],
   "source": [
    "# Fake title\n",
    "display(\n",
    "    Markdown(\n",
    "        f\"\"\"<h1><b>{df2.project_name.values[0]}</b></h1>\n",
    "        <br> This project (PPNO:{df2.ppno.values[0]}) is led by <b>{df2.lead_agency.values[0]}</b> in <b>District {df2.district.values[0]}</b> and \n",
    "        is in its <b>{df2.current_phase[0]}</b> phase.\n",
    "        <br><br><b>Project Description:</b> {df2['project_description'].values[0]}\n",
    "        \"\"\"\n",
    "    )\n",
    ")"
   ]
  },
  {
   "cell_type": "code",
   "execution_count": 7,
   "id": "06f37fcb-78f8-472f-b445-2ed33800e9ee",
   "metadata": {
    "tags": []
   },
   "outputs": [
    {
     "data": {
      "text/markdown": [
       "<h2>Basic Project Statistics</h2>\n",
       "        <li>Project Category: <b>Highway</b></li>\n",
       "        <li>Benefit Score: <b>7</b></li>\n",
       "        <li>Statewide Benefit Rank: <b>469</b> out of 717</li>\n",
       "        <li>District Benefit Rank: <b>22</b> out of 35</li>\n",
       "        <br><b>Important Dates</b><br>\n",
       "        <li>PID Approval: <b>datetime64[ns]</b>\n",
       "        <li>PA/ED: <b>None</b>\n",
       "        <li>RTL: <b>datetime64[ns]</b>\n",
       "        <li>Construction: <b>datetime64[ns]</b>\n",
       "        "
      ],
      "text/plain": [
       "<IPython.core.display.Markdown object>"
      ]
     },
     "metadata": {},
     "output_type": "display_data"
    }
   ],
   "source": [
    "display(\n",
    "    Markdown(\n",
    "        f\"\"\"<h2>Basic Project Statistics</h2>\n",
    "        <li>Project Category: <b>{df2['primary_mode'].values[0]}</b></li>\n",
    "        <li>Benefit Score: <b>{df2['fake_benefit_score'].values[0].astype('int64')}</b></li>\n",
    "        <li>Statewide Benefit Rank: <b>{df2['statewide_rank'].values[0]}</b> out of {len(df)}</li>\n",
    "        <li>District Benefit Rank: <b>{df2['district_rank'].values[0]}</b> out of {len(df.loc[df[\"district\"]==district_object])}</li>\n",
    "        <br><b>Important Dates</b><br>\n",
    "        <li>PID Approval: <b>{df['pid_approval_date'].values[0]}</b>\n",
    "        <li>PA/ED: <b>{df['target_pa_ed'].values[0]}</b>\n",
    "        <li>RTL: <b>{df['rtl_date'].values[0]}</b>\n",
    "        <li>Construction: <b>{df['con_start_date'].values[0]}</b>\n",
    "        \"\"\"\n",
    "    )\n",
    ")"
   ]
  },
  {
   "cell_type": "code",
   "execution_count": 8,
   "id": "158e2e47-a88d-4866-8afe-790feeb4a02b",
   "metadata": {
    "tags": []
   },
   "outputs": [],
   "source": [
    "# Calculate funded %\n",
    "df2[\"funded\"] = (\n",
    "    df2[\"current_fake_fund_requested\"] / df2[\"total_project_cost__$1,000_\"]\n",
    ")\n",
    "\n",
    "\n",
    "# Remaining project cost\n",
    "df2[\"unfunded\"] = (1-df2[\"funded\"]\n",
    ")\n",
    "\n",
    "# Format\n",
    "df2[\"percentage_req_formatted\"] = (\n",
    "    df2[\"funded\"].astype(float).map(\"{:.0%}\".format)\n",
    ")\n",
    "\n",
    "df2[\"unfunded_percentage_formatted\"] = (\n",
    "    df2[\"unfunded\"].astype(float).map(\"{:.0%}\".format)\n",
    ")\n",
    "\n"
   ]
  },
  {
   "cell_type": "code",
   "execution_count": 9,
   "id": "3f3f1326-29c4-4ce8-8033-c6ad2b984b77",
   "metadata": {},
   "outputs": [],
   "source": [
    "#  In comparison,the median total cost of projects in {df2.district[0]} is {district_median_cost} and the median amount requested is {district_median_req}. "
   ]
  },
  {
   "cell_type": "code",
   "execution_count": 10,
   "id": "234f10df-7369-4156-ab32-514ac2285270",
   "metadata": {},
   "outputs": [
    {
     "data": {
      "text/markdown": [
       "<h2>Funding</h2>\n",
       "        Forrester Rd Widening And Realignment costs <b>$888,888.00</b> in total.\n",
       "        They have requested <b>$367,809.57</b>, which covers about <b>41%</b> of the project's cost.\n",
       "        <br> This project could potentially qualify for additional fund(s) from Tcep.\n",
       "        \n",
       "        "
      ],
      "text/plain": [
       "<IPython.core.display.Markdown object>"
      ]
     },
     "metadata": {},
     "output_type": "display_data"
    }
   ],
   "source": [
    "display(\n",
    "    Markdown(\n",
    "        f\"\"\"<h2>Funding</h2>\n",
    "        {df2.project_name[0]} costs <b>{df2.formatted_total_project[0]}</b> in total.\n",
    "        They have requested <b>{df2.formatted_requested[0]}</b>, which covers about <b>{df2.percentage_req_formatted[0]}</b> of the project's cost.\n",
    "        <br> This project could potentially qualify for additional fund(s) from {df2.potential_funding_program_s_[0]}.\n",
    "        \n",
    "        \"\"\"\n",
    "    )\n",
    ")"
   ]
  },
  {
   "cell_type": "code",
   "execution_count": 11,
   "id": "1dd41857-b4eb-4515-a9ed-7571e400f53c",
   "metadata": {},
   "outputs": [],
   "source": [
    "# Create a new dataframe for percentage funded\n",
    "\n",
    "# Transform\n",
    "percentage = df2.T.reset_index().rename(columns={\"index\": \"Percentage\", 0: \"Value\"})\n",
    "\n",
    "# Select only certain values\n",
    "percentage = percentage[\n",
    "    percentage[\"Percentage\"].isin(\n",
    "        [\n",
    "            \"unfunded\",\n",
    "            \"funded\",\n",
    "            \n",
    "        ]\n",
    "    )\n",
    "]\n",
    "\n",
    "# Remove underscores off of old column names\n",
    "percentage[\"Percentage\"] = (\n",
    "    percentage[\"Percentage\"].str.replace(\"_\", \" \").str.title()\n",
    ")\n",
    "\n",
    "# Reset Index\n",
    "percentage = percentage.reset_index(drop=True)"
   ]
  },
  {
   "cell_type": "code",
   "execution_count": 12,
   "id": "3b48e83b-627d-4770-bed5-92b033731590",
   "metadata": {},
   "outputs": [],
   "source": [
    "funding_pie_chart = _utils.basic_pie_chart(percentage,  \"Value:Q\", \"Percentage:N\", \"Percentage:N\",\n",
    "                  \"Percentage Funded vs. Unfunded\")"
   ]
  },
  {
   "cell_type": "code",
   "execution_count": 13,
   "id": "685315b3-0d21-4db3-9821-bd3d1ab22f0a",
   "metadata": {},
   "outputs": [],
   "source": [
    "# Create a new dataframe for funding\n",
    "\n",
    "# Transform\n",
    "funding = df2.T.reset_index().rename(columns={\"index\": \"Monetary Columns\", 0: \"Value\"})\n",
    "\n",
    "# Select only certain values\n",
    "funding = funding[\n",
    "    funding[\"Monetary Columns\"].isin(\n",
    "        [\n",
    "            \"total_project_cost__$1,000_\",\n",
    "            \"current_fake_fund_requested\",\n",
    "        ]\n",
    "    )\n",
    "]\n",
    "\n",
    "# Remove underscores off of old column names\n",
    "funding[\"Monetary Columns\"] = (\n",
    "    funding[\"Monetary Columns\"].str.replace(\"_\", \" \").str.title()\n",
    ")\n",
    "\n",
    "# Add a column with formatted values\n",
    "funding[\"Total\"] = funding[\"Value\"].apply(\n",
    "    lambda x: format_currency(x, currency=\"USD\", locale=\"en_US\")\n",
    ")\n",
    "\n",
    "# Reset Index\n",
    "funding = funding.reset_index(drop=True)"
   ]
  },
  {
   "cell_type": "code",
   "execution_count": 14,
   "id": "fe3ab1bf-554c-453f-ab57-613a2210fea1",
   "metadata": {},
   "outputs": [],
   "source": [
    "requested_bar_chart = _utils.basic_bar_chart_custom_tooltip(\n",
    "    funding,\n",
    "    \"Value\",\n",
    "    \"Monetary Columns\",\n",
    "    \"Total\",\n",
    "    \"Monetary Columns\",\n",
    "    chart_title=\"Total Project Cost versus Requested\",\n",
    ")"
   ]
  },
  {
   "cell_type": "code",
   "execution_count": 15,
   "id": "332948e2-90ba-43e4-9fbb-c51dd40d355a",
   "metadata": {},
   "outputs": [
    {
     "data": {
      "text/html": [
       "\n",
       "<div id=\"altair-viz-75cb1b7e85e34c5aaa8a1d601f6c5df5\"></div>\n",
       "<script type=\"text/javascript\">\n",
       "  var VEGA_DEBUG = (typeof VEGA_DEBUG == \"undefined\") ? {} : VEGA_DEBUG;\n",
       "  (function(spec, embedOpt){\n",
       "    let outputDiv = document.currentScript.previousElementSibling;\n",
       "    if (outputDiv.id !== \"altair-viz-75cb1b7e85e34c5aaa8a1d601f6c5df5\") {\n",
       "      outputDiv = document.getElementById(\"altair-viz-75cb1b7e85e34c5aaa8a1d601f6c5df5\");\n",
       "    }\n",
       "    const paths = {\n",
       "      \"vega\": \"https://cdn.jsdelivr.net/npm//vega@5?noext\",\n",
       "      \"vega-lib\": \"https://cdn.jsdelivr.net/npm//vega-lib?noext\",\n",
       "      \"vega-lite\": \"https://cdn.jsdelivr.net/npm//vega-lite@4.17.0?noext\",\n",
       "      \"vega-embed\": \"https://cdn.jsdelivr.net/npm//vega-embed@6?noext\",\n",
       "    };\n",
       "\n",
       "    function maybeLoadScript(lib, version) {\n",
       "      var key = `${lib.replace(\"-\", \"\")}_version`;\n",
       "      return (VEGA_DEBUG[key] == version) ?\n",
       "        Promise.resolve(paths[lib]) :\n",
       "        new Promise(function(resolve, reject) {\n",
       "          var s = document.createElement('script');\n",
       "          document.getElementsByTagName(\"head\")[0].appendChild(s);\n",
       "          s.async = true;\n",
       "          s.onload = () => {\n",
       "            VEGA_DEBUG[key] = version;\n",
       "            return resolve(paths[lib]);\n",
       "          };\n",
       "          s.onerror = () => reject(`Error loading script: ${paths[lib]}`);\n",
       "          s.src = paths[lib];\n",
       "        });\n",
       "    }\n",
       "\n",
       "    function showError(err) {\n",
       "      outputDiv.innerHTML = `<div class=\"error\" style=\"color:red;\">${err}</div>`;\n",
       "      throw err;\n",
       "    }\n",
       "\n",
       "    function displayChart(vegaEmbed) {\n",
       "      vegaEmbed(outputDiv, spec, embedOpt)\n",
       "        .catch(err => showError(`Javascript Error: ${err.message}<br>This usually means there's a typo in your chart specification. See the javascript console for the full traceback.`));\n",
       "    }\n",
       "\n",
       "    if(typeof define === \"function\" && define.amd) {\n",
       "      requirejs.config({paths});\n",
       "      require([\"vega-embed\"], displayChart, err => showError(`Error loading script: ${err.message}`));\n",
       "    } else {\n",
       "      maybeLoadScript(\"vega\", \"5\")\n",
       "        .then(() => maybeLoadScript(\"vega-lite\", \"4.17.0\"))\n",
       "        .then(() => maybeLoadScript(\"vega-embed\", \"6\"))\n",
       "        .catch(showError)\n",
       "        .then(() => displayChart(vegaEmbed));\n",
       "    }\n",
       "  })({\"config\": {\"view\": {\"continuousWidth\": 400, \"continuousHeight\": 300}}, \"hconcat\": [{\"data\": {\"name\": \"data-dac3db716262cccdcea74d55b594e462\"}, \"mark\": \"bar\", \"encoding\": {\"color\": {\"field\": \"Monetary Columns\", \"legend\": {\"title\": \"Monetary Columns\"}, \"scale\": {\"range\": [\"#2EA8CE\", \"#EB9F3C\", \"#F4D837\", \"#51BF9D\", \"#8CBCCB\", \"#9487C0\"]}, \"type\": \"nominal\"}, \"tooltip\": [{\"field\": \"Total\", \"type\": \"nominal\"}], \"x\": {\"axis\": {\"labels\": false}, \"field\": \"Value\", \"title\": \"Value\", \"type\": \"quantitative\"}, \"y\": {\"field\": \"Monetary Columns\", \"sort\": \"-x\", \"title\": \"Monetary Columns\", \"type\": \"nominal\"}}, \"height\": 188, \"title\": \"Total Project Cost versus Requested\", \"width\": 300}, {\"layer\": [{\"mark\": {\"type\": \"arc\", \"outerRadius\": 80}, \"encoding\": {\"color\": {\"field\": \"Percentage\", \"legend\": {\"title\": \"Percentage:N\"}, \"scale\": {\"range\": [\"#2EA8CE\", \"#EB9F3C\", \"#F4D837\", \"#51BF9D\", \"#8CBCCB\", \"#9487C0\"]}, \"type\": \"nominal\"}, \"theta\": {\"field\": \"Value\", \"stack\": true, \"type\": \"quantitative\"}, \"tooltip\": [{\"field\": \"Percentage\", \"type\": \"nominal\"}, {\"field\": \"Value\", \"type\": \"quantitative\"}]}, \"title\": \"Percentage Funded vs. Unfunded\"}, {\"mark\": {\"type\": \"text\", \"radius\": 100, \"size\": 10}, \"encoding\": {\"color\": {\"field\": \"Percentage\", \"legend\": {\"title\": \"Percentage:N\"}, \"scale\": {\"range\": [\"#2EA8CE\", \"#EB9F3C\", \"#F4D837\", \"#51BF9D\", \"#8CBCCB\", \"#9487C0\"]}, \"type\": \"nominal\"}, \"text\": {\"field\": \"Percentage\", \"type\": \"nominal\"}, \"theta\": {\"field\": \"Value\", \"stack\": true, \"type\": \"quantitative\"}, \"tooltip\": [{\"field\": \"Percentage\", \"type\": \"nominal\"}, {\"field\": \"Value\", \"type\": \"quantitative\"}]}, \"title\": \"Percentage Funded vs. Unfunded\"}], \"data\": {\"name\": \"data-e46cda08c834fc2736f672824e9f6785\"}, \"height\": 188, \"width\": 300}], \"$schema\": \"https://vega.github.io/schema/vega-lite/v4.17.0.json\", \"datasets\": {\"data-dac3db716262cccdcea74d55b594e462\": [{\"Monetary Columns\": \"Total Project Cost  $1,000 \", \"Value\": 888888, \"Total\": \"$888,888.00\"}, {\"Monetary Columns\": \"Current Fake Fund Requested\", \"Value\": 367809.57, \"Total\": \"$367,809.57\"}], \"data-e46cda08c834fc2736f672824e9f6785\": [{\"Percentage\": \"Funded\", \"Value\": 0.41378618003618006}, {\"Percentage\": \"Unfunded\", \"Value\": 0.5862138199638199}]}}, {\"mode\": \"vega-lite\"});\n",
       "</script>"
      ],
      "text/plain": [
       "alt.HConcatChart(...)"
      ]
     },
     "execution_count": 15,
     "metadata": {},
     "output_type": "execute_result"
    }
   ],
   "source": [
    "requested_bar_chart | funding_pie_chart"
   ]
  },
  {
   "cell_type": "code",
   "execution_count": 16,
   "id": "31c5c1d0-4f54-4338-9ffd-ac03cf1cafdb",
   "metadata": {},
   "outputs": [
    {
     "data": {
      "text/markdown": [
       "<h2>Score Card</h2>\n",
       "        The total score is <b>7</b>, compared to the median score of \n",
       "        <b>8</b> of other projects in District 11. \n",
       "        <br>Click on the bar for more detail.\n",
       "        "
      ],
      "text/plain": [
       "<IPython.core.display.Markdown object>"
      ]
     },
     "metadata": {},
     "output_type": "display_data"
    }
   ],
   "source": [
    "display(\n",
    "    Markdown(\n",
    "        f\"\"\"<h2>Score Card</h2>\n",
    "        The total score is <b>{(df2.fake_benefit_score[0]).astype('int64')}</b>, compared to the median score of \n",
    "        <b>{district_median_benefit_score}</b> of other projects in District {df2.district[0]}. \n",
    "        <br>Click on the bar for more detail.\n",
    "        \"\"\"\n",
    "    )\n",
    ")"
   ]
  },
  {
   "cell_type": "code",
   "execution_count": 17,
   "id": "525febbe-9e90-4893-ab49-b01353d7f143",
   "metadata": {},
   "outputs": [],
   "source": [
    "# df2.drop(columns=[\"project_description\"]).head()"
   ]
  },
  {
   "cell_type": "code",
   "execution_count": 18,
   "id": "0c0c8b2e-d00a-45ca-a1be-b1117bbb61da",
   "metadata": {
    "tags": []
   },
   "outputs": [],
   "source": [
    "# Create new df for score card\n",
    "score_card = df2[\n",
    "    [\n",
    "        \"increase_peak_person_throughput\",\n",
    "        \"reduction_in_peak_period_delay\",\n",
    "        \"reduction_in_fatal_and_injury_crashes\",\n",
    "        \"reduction_in_injury_rates\",\n",
    "        \"increase_access_to_jobs\",\n",
    "        \"increase_access_jobs_to_DAC\",\n",
    "        \"commercial_dev_developed\",\n",
    "        \"tons_of_goods_impacted\",\n",
    "        \"improve_air_quality\",\n",
    "        \"impact_natural_resources\",\n",
    "        \"support_of_trasnportation\",\n",
    "    ]\n",
    "]"
   ]
  },
  {
   "cell_type": "code",
   "execution_count": 19,
   "id": "6a911586-6290-4f91-b63e-b921870016c6",
   "metadata": {
    "tags": []
   },
   "outputs": [],
   "source": [
    "# Transform\n",
    "score_card = score_card.T.reset_index().rename(\n",
    "    columns={\"index\": \"Measure\", 0: \"Measure Score\"}\n",
    ")\n",
    "# Remove underscores off of old column names\n",
    "score_card[\"Measure\"] = score_card[\"Measure\"].str.replace(\"_\", \" \").str.title()\n",
    "\n",
    "# New column with broader Measures\n",
    "score_card[\"Category\"] = score_card[\"Measure\"]\n",
    "\n",
    "score_card[\"Category\"] = score_card[\"Category\"].replace(\n",
    "    {\n",
    "        \"Increase Peak Person Throughput\": \"Congestion Mitigation\",\n",
    "        \"Reduction In Peak Period Delay\": \"Congestion Mitigation\",\n",
    "        \"Reduction In Fatal And Injury Crashes\": \"Safety\",\n",
    "        \"Reduction In Injury Rates\": \"Safety\",\n",
    "        \"Increase Access To Jobs\": \"Accessibility Increase\",\n",
    "        \"Increase Access Jobs To Dac\": \"Accessibility Increase\",\n",
    "        \"Commercial Dev Developed\": \"Economic Dev.\",\n",
    "        \"Tons Of Goods Impacted\": \"Economic Dev.\",\n",
    "        \"Improve Air Quality\": \"Environment\",\n",
    "        \"Impact Natural Resources\": \"Environment\",\n",
    "        \"Support Of Trasnportation\": \"Land Use\",\n",
    "    }\n",
    ")\n",
    "\n",
    "# Get total scores\n",
    "total = (\n",
    "    score_card.groupby([\"Category\"])\n",
    "    .agg({\"Measure Score\": \"sum\"})\n",
    "    .rename(columns={\"Measure Score\": \"Total Category Score\"})\n",
    ")\n",
    "score_card = pd.merge(score_card, total, how=\"left\", on=[\"Category\"])"
   ]
  },
  {
   "cell_type": "code",
   "execution_count": 20,
   "id": "fb8ed615-de19-40b1-b0ae-c5741e72b9b8",
   "metadata": {},
   "outputs": [
    {
     "data": {
      "text/html": [
       "\n",
       "<div id=\"altair-viz-db0c021d49b14010b283a060d30e9105\"></div>\n",
       "<script type=\"text/javascript\">\n",
       "  var VEGA_DEBUG = (typeof VEGA_DEBUG == \"undefined\") ? {} : VEGA_DEBUG;\n",
       "  (function(spec, embedOpt){\n",
       "    let outputDiv = document.currentScript.previousElementSibling;\n",
       "    if (outputDiv.id !== \"altair-viz-db0c021d49b14010b283a060d30e9105\") {\n",
       "      outputDiv = document.getElementById(\"altair-viz-db0c021d49b14010b283a060d30e9105\");\n",
       "    }\n",
       "    const paths = {\n",
       "      \"vega\": \"https://cdn.jsdelivr.net/npm//vega@5?noext\",\n",
       "      \"vega-lib\": \"https://cdn.jsdelivr.net/npm//vega-lib?noext\",\n",
       "      \"vega-lite\": \"https://cdn.jsdelivr.net/npm//vega-lite@4.17.0?noext\",\n",
       "      \"vega-embed\": \"https://cdn.jsdelivr.net/npm//vega-embed@6?noext\",\n",
       "    };\n",
       "\n",
       "    function maybeLoadScript(lib, version) {\n",
       "      var key = `${lib.replace(\"-\", \"\")}_version`;\n",
       "      return (VEGA_DEBUG[key] == version) ?\n",
       "        Promise.resolve(paths[lib]) :\n",
       "        new Promise(function(resolve, reject) {\n",
       "          var s = document.createElement('script');\n",
       "          document.getElementsByTagName(\"head\")[0].appendChild(s);\n",
       "          s.async = true;\n",
       "          s.onload = () => {\n",
       "            VEGA_DEBUG[key] = version;\n",
       "            return resolve(paths[lib]);\n",
       "          };\n",
       "          s.onerror = () => reject(`Error loading script: ${paths[lib]}`);\n",
       "          s.src = paths[lib];\n",
       "        });\n",
       "    }\n",
       "\n",
       "    function showError(err) {\n",
       "      outputDiv.innerHTML = `<div class=\"error\" style=\"color:red;\">${err}</div>`;\n",
       "      throw err;\n",
       "    }\n",
       "\n",
       "    function displayChart(vegaEmbed) {\n",
       "      vegaEmbed(outputDiv, spec, embedOpt)\n",
       "        .catch(err => showError(`Javascript Error: ${err.message}<br>This usually means there's a typo in your chart specification. See the javascript console for the full traceback.`));\n",
       "    }\n",
       "\n",
       "    if(typeof define === \"function\" && define.amd) {\n",
       "      requirejs.config({paths});\n",
       "      require([\"vega-embed\"], displayChart, err => showError(`Error loading script: ${err.message}`));\n",
       "    } else {\n",
       "      maybeLoadScript(\"vega\", \"5\")\n",
       "        .then(() => maybeLoadScript(\"vega-lite\", \"4.17.0\"))\n",
       "        .then(() => maybeLoadScript(\"vega-embed\", \"6\"))\n",
       "        .catch(showError)\n",
       "        .then(() => displayChart(vegaEmbed));\n",
       "    }\n",
       "  })({\"config\": {\"view\": {\"continuousWidth\": 400, \"continuousHeight\": 300}}, \"hconcat\": [{\"mark\": \"bar\", \"encoding\": {\"color\": {\"field\": \"Total Category Score\", \"legend\": null, \"scale\": {\"range\": [\"#2EA8CE\", \"#EB9F3C\", \"#F4D837\", \"#51BF9D\", \"#8CBCCB\", \"#9487C0\"]}, \"type\": \"quantitative\"}, \"tooltip\": [{\"field\": \"Category\", \"type\": \"nominal\"}, {\"field\": \"Total Category Score\", \"type\": \"quantitative\"}], \"x\": {\"axis\": {\"labels\": false}, \"field\": \"Total Category Score\", \"type\": \"quantitative\"}, \"y\": {\"field\": \"Category\", \"type\": \"nominal\"}}, \"height\": 188, \"selection\": {\"selector001\": {\"type\": \"multi\", \"fields\": [\"Category\"]}}, \"width\": 300}, {\"mark\": \"bar\", \"encoding\": {\"color\": {\"field\": \"Measure Score\", \"legend\": null, \"scale\": {\"range\": [\"#2EA8CE\", \"#EB9F3C\", \"#F4D837\", \"#51BF9D\", \"#8CBCCB\", \"#9487C0\"]}, \"type\": \"quantitative\"}, \"tooltip\": [{\"field\": \"Measure\", \"type\": \"nominal\"}, {\"field\": \"Measure Score\", \"type\": \"quantitative\"}], \"x\": {\"axis\": {\"labels\": false}, \"field\": \"Measure Score\", \"type\": \"quantitative\"}, \"y\": {\"field\": \"Measure\", \"type\": \"nominal\"}}, \"height\": 188, \"transform\": [{\"filter\": {\"selection\": \"selector001\"}}], \"width\": 300}], \"data\": {\"name\": \"data-59c8a30515b393dd2e0741cb7b07484a\"}, \"$schema\": \"https://vega.github.io/schema/vega-lite/v4.17.0.json\", \"datasets\": {\"data-59c8a30515b393dd2e0741cb7b07484a\": [{\"Measure\": \"Increase Peak Person Throughput\", \"Measure Score\": 23.85, \"Category\": \"Congestion Mitigation\", \"Total Category Score\": 59.68}, {\"Measure\": \"Reduction In Peak Period Delay\", \"Measure Score\": 35.83, \"Category\": \"Congestion Mitigation\", \"Total Category Score\": 59.68}, {\"Measure\": \"Reduction In Fatal And Injury Crashes\", \"Measure Score\": 35.33, \"Category\": \"Safety\", \"Total Category Score\": 36.21}, {\"Measure\": \"Reduction In Injury Rates\", \"Measure Score\": 0.88, \"Category\": \"Safety\", \"Total Category Score\": 36.21}, {\"Measure\": \"Increase Access To Jobs\", \"Measure Score\": 43.31, \"Category\": \"Accessibility Increase\", \"Total Category Score\": 81.75}, {\"Measure\": \"Increase Access Jobs To Dac\", \"Measure Score\": 38.44, \"Category\": \"Accessibility Increase\", \"Total Category Score\": 81.75}, {\"Measure\": \"Commercial Dev Developed\", \"Measure Score\": 41.38, \"Category\": \"Economic Dev.\", \"Total Category Score\": 49.080000000000005}, {\"Measure\": \"Tons Of Goods Impacted\", \"Measure Score\": 7.7, \"Category\": \"Economic Dev.\", \"Total Category Score\": 49.080000000000005}, {\"Measure\": \"Improve Air Quality\", \"Measure Score\": 33.58, \"Category\": \"Environment\", \"Total Category Score\": 41.47}, {\"Measure\": \"Impact Natural Resources\", \"Measure Score\": 7.89, \"Category\": \"Environment\", \"Total Category Score\": 41.47}, {\"Measure\": \"Support Of Trasnportation\", \"Measure Score\": 5.9, \"Category\": \"Land Use\", \"Total Category Score\": 5.9}]}}, {\"mode\": \"vega-lite\"});\n",
       "</script>"
      ],
      "text/plain": [
       "alt.HConcatChart(...)"
      ]
     },
     "execution_count": 20,
     "metadata": {},
     "output_type": "execute_result"
    }
   ],
   "source": [
    "_utils.dual_bar_chart(\n",
    "    score_card,\n",
    "    \"Category\",\n",
    "    \"Category:N\",\n",
    "    \"Total Category Score:Q\",\n",
    "    \"Measure:N\",\n",
    "    \"Measure Score:Q\",\n",
    ")"
   ]
  }
 ],
 "metadata": {
  "kernelspec": {
   "display_name": "Python 3 (ipykernel)",
   "language": "python",
   "name": "python3"
  },
  "language_info": {
   "codemirror_mode": {
    "name": "ipython",
    "version": 3
   },
   "file_extension": ".py",
   "mimetype": "text/x-python",
   "name": "python",
   "nbconvert_exporter": "python",
   "pygments_lexer": "ipython3",
   "version": "3.10.5"
  }
 },
 "nbformat": 4,
 "nbformat_minor": 5
}
