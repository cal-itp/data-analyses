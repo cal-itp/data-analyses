{
 "cells": [
  {
   "cell_type": "code",
   "execution_count": 1,
   "id": "67b24686-e8a3-494b-8596-0afa2caabe6a",
   "metadata": {},
   "outputs": [],
   "source": [
    "%%capture\n",
    "import numpy as np\n",
    "import pandas as pd\n",
    "\n",
    "# import warnings\n",
    "# warnings.filterwarnings(\"ignore\")\n",
    "from babel.numbers import format_currency\n",
    "from calitp import to_snakecase\n",
    "\n",
    "# Display\n",
    "from IPython.display import HTML, Image, Markdown, display, display_html\n",
    "from shared_utils import altair_utils, styleguide\n",
    "\n",
    "# Settings\n",
    "pd.options.display.max_columns = 100\n",
    "pd.set_option(\"display.max_rows\", None)\n",
    "pd.set_option(\"display.max_colwidth\", None)\n",
    "\n",
    "# Charts\n",
    "import altair as alt\n",
    "from shared_utils import calitp_color_palette as cp\n",
    "\n",
    "# GCS, del later since this will presumbly be read from a script that cleans up the data\n",
    "GCS_FILE_PATH = \"gs://calitp-analytics-data/data-analyses/project_prioritization/\"\n",
    "FILE = \"fake_data.xlsx\"\n",
    "\n",
    "# My utilities\n",
    "import _utils"
   ]
  },
  {
   "cell_type": "code",
   "execution_count": 2,
   "id": "aa2cff56-bda5-4c9a-a513-573fec1ed97f",
   "metadata": {},
   "outputs": [],
   "source": [
    "df = pd.read_excel(f\"{GCS_FILE_PATH}{FILE}\", sheet_name=\"fake\")"
   ]
  },
  {
   "cell_type": "code",
   "execution_count": 3,
   "id": "9df6e6d8-26d8-4789-8ea1-b2545ad69695",
   "metadata": {},
   "outputs": [],
   "source": [
    "# Parameter Cell\n",
    "# Other projects: 'Equitable And Sustainable Public Transit Planning For Rural America' in D1\n",
    "# 'I-880/Decoto Interchange Modernization Project' in D4\n",
    "# 'Monroe Street Bridge Project' in D8\n",
    "# 'Forrester Rd Widening And Realignment' in D11\n",
    "project_name = 'Forrester Rd Widening And Realignment'"
   ]
  },
  {
   "cell_type": "code",
   "execution_count": 4,
   "id": "6b55ddab-fe70-40f0-8b83-1bd60a884159",
   "metadata": {},
   "outputs": [],
   "source": [
    "# Objects\n",
    "\n",
    "# DF with project that was set in the parameter cell\n",
    "df2 = df.loc[df[\"project_name\"] == project_name].reset_index(drop=True)\n",
    "\n",
    "# Grab district of parameter cell project\n",
    "district_object = df2[\"district\"].values[0]\n",
    "\n",
    "# DF with projects in the same district as project\n",
    "df_district = df.loc[df[\"district\"] == district_object]\n",
    "\n",
    "# Median benefit score  in district\n",
    "district_median_benefit_score = int(df_district.fake_benefit_score.median())\n",
    "\n",
    "# Median project cost in district\n",
    "district_median_cost = format_currency(\n",
    "    (df_district[\"total_project_cost__$1,000_\"].median()),\n",
    "    currency=\"USD\",\n",
    ")\n",
    "\n",
    "# Median money requested.\n",
    "district_median_req = format_currency(\n",
    "    (df_district[\"fake_fund_requested\"].median()),\n",
    "    currency=\"USD\",\n",
    ")"
   ]
  },
  {
   "cell_type": "code",
   "execution_count": 5,
   "id": "1d6e0152-e945-4ce7-bccd-851ff96d4ce8",
   "metadata": {
    "tags": []
   },
   "outputs": [
    {
     "data": {
      "text/markdown": [
       "<h1><b>Forrester Rd Widening And Realignment</b></h1>\n",
       "        <br> This project is led by <b>None</b> in <b>District 11</b>. \n",
       "        This project is in its <b>Pid</b> phase.\n",
       "        <br><br><b>Project Details:</b> Imperial County’s 2013 Transportation Plan lists this project in its Mid-term Constrained Plan and proposes to build Forrester Road as a four-lane expressway from I-8 to the SR 78 intersection in the City of Westmorland. This project will improve the transportation of goods and people along Forrester Road by upgrading the existing roadway to one that can handle the anticipated increase in traffic.  The project also includes a truck by-pass to the City of Westmorland. \n",
       "\n",
       "This project addresses the use of Forrester Road as a bypass to the Cities of El Centro, Imperial, and Brawley. It is also the preferred route to take the place of the relinquished portion of SR 86.\n",
       "Forrester Road is currently being used to bypass the Cities of El Centro, Imperial, Brawley, and Westmorland. It provides a travel times savings between the southern portion of Imperial County and the Indio/Palm Springs area. Within the Cities of El Centro, Brawley, and Westmorland, SR 86 operates more like a city arterial and serves as a Main Street with a high concentration of access points including pedestrian crossings. The State of California has already relinquished to the City of Imperial the portion of SR 86 within their city limits. The long-term plan is to relinquish all of SR 86 between SR 111 (at Heber Road) and the Fredericks Road/SR 78 Junction to the local agencies.\n",
       "        "
      ],
      "text/plain": [
       "<IPython.core.display.Markdown object>"
      ]
     },
     "metadata": {},
     "output_type": "display_data"
    }
   ],
   "source": [
    "# Fake title\n",
    "display(\n",
    "    Markdown(\n",
    "        f\"\"\"<h1><b>{df2.project_name.values[0]}</b></h1>\n",
    "        <br> This project is led by <b>{df2.lead_agency.values[0]}</b> in <b>District {df2.district.values[0]}</b>. \n",
    "        This project is in its <b>{df2.current_phase[0]}</b> phase.\n",
    "        <br><br><b>Project Details:</b> {df2['project_description'].values[0]}\n",
    "        \"\"\"\n",
    "    )\n",
    ")"
   ]
  },
  {
   "cell_type": "code",
   "execution_count": 6,
   "id": "06f37fcb-78f8-472f-b445-2ed33800e9ee",
   "metadata": {
    "tags": []
   },
   "outputs": [
    {
     "data": {
      "text/markdown": [
       "<h2>Basic Project Statistics</h2>\n",
       "        <li>Project Category: <b>Highway</b>.</li>\n",
       "        <li>Benefit Score: <b>14</b>.</li>\n",
       "        <li>Statewide Benefit Rank: <b>469</b> out of 717.</li>\n",
       "        <li>District Benefit Rank: <b>22</b> out of 35.</li>\n",
       "        \n",
       "        "
      ],
      "text/plain": [
       "<IPython.core.display.Markdown object>"
      ]
     },
     "metadata": {},
     "output_type": "display_data"
    }
   ],
   "source": [
    "display(\n",
    "    Markdown(\n",
    "        f\"\"\"<h2>Basic Project Statistics</h2>\n",
    "        <li>Project Category: <b>{df2['primary_mode'].values[0]}</b>.</li>\n",
    "        <li>Benefit Score: <b>{df2['fake_benefit_score'].values[0].astype('int64')}</b>.</li>\n",
    "        <li>Statewide Benefit Rank: <b>{df2['statewide_rank'].values[0]}</b> out of {len(df)}.</li>\n",
    "        <li>District Benefit Rank: <b>{df2['district_rank'].values[0]}</b> out of {len(df.loc[df[\"district\"]==district_object])}.</li>\n",
    "        \n",
    "        \"\"\"\n",
    "    )\n",
    ")"
   ]
  },
  {
   "cell_type": "code",
   "execution_count": 7,
   "id": "b6346137-deab-4512-98e6-8f346d697dbd",
   "metadata": {
    "tags": []
   },
   "outputs": [],
   "source": [
    "# Format some currency columns\n",
    "df2[\"formatted_total_project\"] = df2[\"total_project_cost__$1,000_\"].apply(\n",
    "    lambda x: format_currency(x, currency=\"USD\", locale=\"en_US\")\n",
    ")\n",
    "\n",
    "df2[\"formatted_requested\"] = df2[\"fake_fund_requested\"].apply(\n",
    "    lambda x: format_currency(x, currency=\"USD\", locale=\"en_US\")\n",
    ")"
   ]
  },
  {
   "cell_type": "code",
   "execution_count": 8,
   "id": "158e2e47-a88d-4866-8afe-790feeb4a02b",
   "metadata": {
    "tags": []
   },
   "outputs": [],
   "source": [
    "# Calculate funded %\n",
    "df2[\"percentage_req_vs_total_project\"] = (\n",
    "    df2[\"fake_fund_requested\"] / df2[\"total_project_cost__$1,000_\"]\n",
    ")\n",
    "\n",
    "# Format\n",
    "df2[\"percentage_req_vs_total_project\"] = (\n",
    "    df2[\"percentage_req_vs_total_project\"].astype(float).map(\"{:.0%}\".format)\n",
    ")"
   ]
  },
  {
   "cell_type": "code",
   "execution_count": 9,
   "id": "3f3f1326-29c4-4ce8-8033-c6ad2b984b77",
   "metadata": {},
   "outputs": [],
   "source": [
    "#  In comparison,the median total cost of projects in {df2.district[0]} is {district_median_cost} and the median amount requested is {district_median_req}. "
   ]
  },
  {
   "cell_type": "code",
   "execution_count": 10,
   "id": "234f10df-7369-4156-ab32-514ac2285270",
   "metadata": {},
   "outputs": [
    {
     "data": {
      "text/markdown": [
       "<h2>Funding</h2>\n",
       "        Forrester Rd Widening And Realignment's total project cost is <b>$88,888,888.00</b>.\n",
       "        They have requested <b>$367,809.57</b>, which covers about <b>0%</b> of the project's cost.\n",
       "        This project could potentially qualify for fund(s) from Tcep. \n",
       "        \n",
       "        "
      ],
      "text/plain": [
       "<IPython.core.display.Markdown object>"
      ]
     },
     "metadata": {},
     "output_type": "display_data"
    }
   ],
   "source": [
    "display(\n",
    "    Markdown(\n",
    "        f\"\"\"<h2>Funding</h2>\n",
    "        {df2.project_name[0]}'s total project cost is <b>{df2.formatted_total_project[0]}</b>.\n",
    "        They have requested <b>{df2.formatted_requested[0]}</b>, which covers about <b>{df2.percentage_req_vs_total_project[0]}</b> of the project's cost.\n",
    "        This project could potentially qualify for fund(s) from {df2.potential_funding_program_s_[0]}. \n",
    "        \n",
    "        \"\"\"\n",
    "    )\n",
    ")"
   ]
  },
  {
   "cell_type": "code",
   "execution_count": 11,
   "id": "685315b3-0d21-4db3-9821-bd3d1ab22f0a",
   "metadata": {},
   "outputs": [],
   "source": [
    "# Create a new dataframe for funding\n",
    "\n",
    "# Transform\n",
    "funding = df2.T.reset_index().rename(columns={\"index\": \"Monetary Columns\", 0: \"Value\"})\n",
    "\n",
    "# Select only certain values\n",
    "funding = funding[\n",
    "    funding[\"Monetary Columns\"].isin(\n",
    "        [\n",
    "            \"total_project_cost__$1,000_\",\n",
    "            \"fake_fund_requested\",\n",
    "        ]\n",
    "    )\n",
    "]\n",
    "\n",
    "# Remove underscores off of old column names\n",
    "funding[\"Monetary Columns\"] = (\n",
    "    funding[\"Monetary Columns\"].str.replace(\"_\", \" \").str.title()\n",
    ")\n",
    "\n",
    "# Add a column with formatted values\n",
    "funding[\"Total\"] = funding[\"Value\"].apply(\n",
    "    lambda x: format_currency(x, currency=\"USD\", locale=\"en_US\")\n",
    ")\n",
    "\n",
    "# Reset Index\n",
    "funding = funding.reset_index(drop=True)"
   ]
  },
  {
   "cell_type": "code",
   "execution_count": 12,
   "id": "fe3ab1bf-554c-453f-ab57-613a2210fea1",
   "metadata": {},
   "outputs": [
    {
     "data": {
      "text/html": [
       "\n",
       "<div id=\"altair-viz-34766de293f943aeb73b1614cb828d71\"></div>\n",
       "<script type=\"text/javascript\">\n",
       "  var VEGA_DEBUG = (typeof VEGA_DEBUG == \"undefined\") ? {} : VEGA_DEBUG;\n",
       "  (function(spec, embedOpt){\n",
       "    let outputDiv = document.currentScript.previousElementSibling;\n",
       "    if (outputDiv.id !== \"altair-viz-34766de293f943aeb73b1614cb828d71\") {\n",
       "      outputDiv = document.getElementById(\"altair-viz-34766de293f943aeb73b1614cb828d71\");\n",
       "    }\n",
       "    const paths = {\n",
       "      \"vega\": \"https://cdn.jsdelivr.net/npm//vega@5?noext\",\n",
       "      \"vega-lib\": \"https://cdn.jsdelivr.net/npm//vega-lib?noext\",\n",
       "      \"vega-lite\": \"https://cdn.jsdelivr.net/npm//vega-lite@4.17.0?noext\",\n",
       "      \"vega-embed\": \"https://cdn.jsdelivr.net/npm//vega-embed@6?noext\",\n",
       "    };\n",
       "\n",
       "    function maybeLoadScript(lib, version) {\n",
       "      var key = `${lib.replace(\"-\", \"\")}_version`;\n",
       "      return (VEGA_DEBUG[key] == version) ?\n",
       "        Promise.resolve(paths[lib]) :\n",
       "        new Promise(function(resolve, reject) {\n",
       "          var s = document.createElement('script');\n",
       "          document.getElementsByTagName(\"head\")[0].appendChild(s);\n",
       "          s.async = true;\n",
       "          s.onload = () => {\n",
       "            VEGA_DEBUG[key] = version;\n",
       "            return resolve(paths[lib]);\n",
       "          };\n",
       "          s.onerror = () => reject(`Error loading script: ${paths[lib]}`);\n",
       "          s.src = paths[lib];\n",
       "        });\n",
       "    }\n",
       "\n",
       "    function showError(err) {\n",
       "      outputDiv.innerHTML = `<div class=\"error\" style=\"color:red;\">${err}</div>`;\n",
       "      throw err;\n",
       "    }\n",
       "\n",
       "    function displayChart(vegaEmbed) {\n",
       "      vegaEmbed(outputDiv, spec, embedOpt)\n",
       "        .catch(err => showError(`Javascript Error: ${err.message}<br>This usually means there's a typo in your chart specification. See the javascript console for the full traceback.`));\n",
       "    }\n",
       "\n",
       "    if(typeof define === \"function\" && define.amd) {\n",
       "      requirejs.config({paths});\n",
       "      require([\"vega-embed\"], displayChart, err => showError(`Error loading script: ${err.message}`));\n",
       "    } else {\n",
       "      maybeLoadScript(\"vega\", \"5\")\n",
       "        .then(() => maybeLoadScript(\"vega-lite\", \"4.17.0\"))\n",
       "        .then(() => maybeLoadScript(\"vega-embed\", \"6\"))\n",
       "        .catch(showError)\n",
       "        .then(() => displayChart(vegaEmbed));\n",
       "    }\n",
       "  })({\"config\": {\"view\": {\"continuousWidth\": 400, \"continuousHeight\": 300}}, \"data\": {\"name\": \"data-8e78471e686c4b16c03662dd10866c2e\"}, \"mark\": \"bar\", \"encoding\": {\"color\": {\"field\": \"Monetary Columns\", \"legend\": {\"title\": \"Monetary Columns\"}, \"scale\": {\"range\": [\"#2EA8CE\", \"#EB9F3C\", \"#F4D837\", \"#51BF9D\", \"#8CBCCB\", \"#9487C0\"]}, \"type\": \"nominal\"}, \"tooltip\": [{\"field\": \"Total\", \"type\": \"nominal\"}], \"x\": {\"field\": \"Value\", \"title\": \"Value\", \"type\": \"quantitative\"}, \"y\": {\"field\": \"Monetary Columns\", \"sort\": \"-x\", \"title\": \"Monetary Columns\", \"type\": \"nominal\"}}, \"height\": 188, \"title\": \"Total Project Cost versus Requested\", \"width\": 300, \"$schema\": \"https://vega.github.io/schema/vega-lite/v4.17.0.json\", \"datasets\": {\"data-8e78471e686c4b16c03662dd10866c2e\": [{\"Monetary Columns\": \"Total Project Cost  $1,000 \", \"Value\": 88888888, \"Total\": \"$88,888,888.00\"}, {\"Monetary Columns\": \"Fake Fund Requested\", \"Value\": 367809.57, \"Total\": \"$367,809.57\"}]}}, {\"mode\": \"vega-lite\"});\n",
       "</script>"
      ],
      "text/plain": [
       "alt.Chart(...)"
      ]
     },
     "execution_count": 12,
     "metadata": {},
     "output_type": "execute_result"
    }
   ],
   "source": [
    "_utils.basic_bar_chart_custom_tooltip(\n",
    "    funding,\n",
    "    \"Value\",\n",
    "    \"Monetary Columns\",\n",
    "    \"Total\",\n",
    "    \"Monetary Columns\",\n",
    "    chart_title=\"Total Project Cost versus Requested\",\n",
    ")"
   ]
  },
  {
   "cell_type": "code",
   "execution_count": 13,
   "id": "31c5c1d0-4f54-4338-9ffd-ac03cf1cafdb",
   "metadata": {},
   "outputs": [
    {
     "data": {
      "text/markdown": [
       "<h2>Score Card</h2>\n",
       "        The total score is <b>14</b>, compared to the median score of \n",
       "        <b>16</b> of other projects in District 11. Select the first chart of categories to view the associated measures.\n",
       "        "
      ],
      "text/plain": [
       "<IPython.core.display.Markdown object>"
      ]
     },
     "metadata": {},
     "output_type": "display_data"
    }
   ],
   "source": [
    "display(\n",
    "    Markdown(\n",
    "        f\"\"\"<h2>Score Card</h2>\n",
    "        The total score is <b>{(df2.fake_benefit_score[0]).astype('int64')}</b>, compared to the median score of \n",
    "        <b>{district_median_benefit_score}</b> of other projects in District {df2.district[0]}. Select the first chart of categories to view the associated measures.\n",
    "        \"\"\"\n",
    "    )\n",
    ")"
   ]
  },
  {
   "cell_type": "code",
   "execution_count": 14,
   "id": "525febbe-9e90-4893-ab49-b01353d7f143",
   "metadata": {},
   "outputs": [],
   "source": [
    "# df2.drop(columns=[\"project_description\"]).head()"
   ]
  },
  {
   "cell_type": "code",
   "execution_count": 15,
   "id": "0c0c8b2e-d00a-45ca-a1be-b1117bbb61da",
   "metadata": {
    "tags": []
   },
   "outputs": [],
   "source": [
    "# Create new df for score card\n",
    "score_card = df2[\n",
    "    [\n",
    "        \"increase_peak_person_throughput\",\n",
    "        \"reduction_in_peak_period_delay\",\n",
    "        \"reduction_in_fatal_and_injury_crashes\",\n",
    "        \"reduction_in_injury_rates\",\n",
    "        \"increase_access_to_jobs\",\n",
    "        \"increase_access_jobs_to_DAC\",\n",
    "        \"commercial_dev_developed\",\n",
    "        \"tons_of_goods_impacted\",\n",
    "        \"improve_air_quality\",\n",
    "        \"impact_natural_resources\",\n",
    "        \"support_of_trasnportation\",\n",
    "    ]\n",
    "]"
   ]
  },
  {
   "cell_type": "code",
   "execution_count": 16,
   "id": "6a911586-6290-4f91-b63e-b921870016c6",
   "metadata": {
    "tags": []
   },
   "outputs": [],
   "source": [
    "# Transform\n",
    "score_card = score_card.T.reset_index().rename(\n",
    "    columns={\"index\": \"Measure\", 0: \"Measure Score\"}\n",
    ")\n",
    "# Remove underscores off of old column names\n",
    "score_card[\"Measure\"] = score_card[\"Measure\"].str.replace(\"_\", \" \").str.title()\n",
    "\n",
    "# New column with broader Measures\n",
    "score_card[\"Category\"] = score_card[\"Measure\"]\n",
    "\n",
    "score_card[\"Category\"] = score_card[\"Category\"].replace(\n",
    "    {\n",
    "        \"Increase Peak Person Throughput\": \"Congestion Mitigation\",\n",
    "        \"Reduction In Peak Period Delay\": \"Congestion Mitigation\",\n",
    "        \"Reduction In Fatal And Injury Crashes\": \"Safety\",\n",
    "        \"Reduction In Injury Rates\": \"Safety\",\n",
    "        \"Increase Access To Jobs\": \"Accessibility Increase\",\n",
    "        \"Increase Access Jobs To Dac\": \"Accessibility Increase\",\n",
    "        \"Commercial Dev Developed\": \"Economic Dev.\",\n",
    "        \"Tons Of Goods Impacted\": \"Economic Dev.\",\n",
    "        \"Improve Air Quality\": \"Environment\",\n",
    "        \"Impact Natural Resources\": \"Environment\",\n",
    "        \"Support Of Trasnportation\": \"Land Use\",\n",
    "    }\n",
    ")\n",
    "\n",
    "# Get total scores\n",
    "total = (\n",
    "    score_card.groupby([\"Category\"])\n",
    "    .agg({\"Measure Score\": \"sum\"})\n",
    "    .rename(columns={\"Measure Score\": \"Total Category Score\"})\n",
    ")\n",
    "score_card = pd.merge(score_card, total, how=\"left\", on=[\"Category\"])"
   ]
  },
  {
   "cell_type": "code",
   "execution_count": 17,
   "id": "fb8ed615-de19-40b1-b0ae-c5741e72b9b8",
   "metadata": {},
   "outputs": [
    {
     "data": {
      "text/html": [
       "\n",
       "<div id=\"altair-viz-64b534d5f72a40faa6ab755584a8642b\"></div>\n",
       "<script type=\"text/javascript\">\n",
       "  var VEGA_DEBUG = (typeof VEGA_DEBUG == \"undefined\") ? {} : VEGA_DEBUG;\n",
       "  (function(spec, embedOpt){\n",
       "    let outputDiv = document.currentScript.previousElementSibling;\n",
       "    if (outputDiv.id !== \"altair-viz-64b534d5f72a40faa6ab755584a8642b\") {\n",
       "      outputDiv = document.getElementById(\"altair-viz-64b534d5f72a40faa6ab755584a8642b\");\n",
       "    }\n",
       "    const paths = {\n",
       "      \"vega\": \"https://cdn.jsdelivr.net/npm//vega@5?noext\",\n",
       "      \"vega-lib\": \"https://cdn.jsdelivr.net/npm//vega-lib?noext\",\n",
       "      \"vega-lite\": \"https://cdn.jsdelivr.net/npm//vega-lite@4.17.0?noext\",\n",
       "      \"vega-embed\": \"https://cdn.jsdelivr.net/npm//vega-embed@6?noext\",\n",
       "    };\n",
       "\n",
       "    function maybeLoadScript(lib, version) {\n",
       "      var key = `${lib.replace(\"-\", \"\")}_version`;\n",
       "      return (VEGA_DEBUG[key] == version) ?\n",
       "        Promise.resolve(paths[lib]) :\n",
       "        new Promise(function(resolve, reject) {\n",
       "          var s = document.createElement('script');\n",
       "          document.getElementsByTagName(\"head\")[0].appendChild(s);\n",
       "          s.async = true;\n",
       "          s.onload = () => {\n",
       "            VEGA_DEBUG[key] = version;\n",
       "            return resolve(paths[lib]);\n",
       "          };\n",
       "          s.onerror = () => reject(`Error loading script: ${paths[lib]}`);\n",
       "          s.src = paths[lib];\n",
       "        });\n",
       "    }\n",
       "\n",
       "    function showError(err) {\n",
       "      outputDiv.innerHTML = `<div class=\"error\" style=\"color:red;\">${err}</div>`;\n",
       "      throw err;\n",
       "    }\n",
       "\n",
       "    function displayChart(vegaEmbed) {\n",
       "      vegaEmbed(outputDiv, spec, embedOpt)\n",
       "        .catch(err => showError(`Javascript Error: ${err.message}<br>This usually means there's a typo in your chart specification. See the javascript console for the full traceback.`));\n",
       "    }\n",
       "\n",
       "    if(typeof define === \"function\" && define.amd) {\n",
       "      requirejs.config({paths});\n",
       "      require([\"vega-embed\"], displayChart, err => showError(`Error loading script: ${err.message}`));\n",
       "    } else {\n",
       "      maybeLoadScript(\"vega\", \"5\")\n",
       "        .then(() => maybeLoadScript(\"vega-lite\", \"4.17.0\"))\n",
       "        .then(() => maybeLoadScript(\"vega-embed\", \"6\"))\n",
       "        .catch(showError)\n",
       "        .then(() => displayChart(vegaEmbed));\n",
       "    }\n",
       "  })({\"config\": {\"view\": {\"continuousWidth\": 400, \"continuousHeight\": 300}}, \"hconcat\": [{\"mark\": \"bar\", \"encoding\": {\"color\": {\"field\": \"Total Category Score\", \"legend\": null, \"scale\": {\"range\": [\"#2EA8CE\", \"#EB9F3C\", \"#F4D837\", \"#51BF9D\", \"#8CBCCB\", \"#9487C0\"]}, \"type\": \"quantitative\"}, \"tooltip\": [{\"field\": \"Category\", \"type\": \"nominal\"}, {\"field\": \"Total Category Score\", \"type\": \"quantitative\"}], \"x\": {\"field\": \"Total Category Score\", \"type\": \"quantitative\"}, \"y\": {\"field\": \"Category\", \"type\": \"nominal\"}}, \"height\": 188, \"selection\": {\"selector001\": {\"type\": \"multi\", \"fields\": [\"Category\"]}}, \"width\": 300}, {\"mark\": \"bar\", \"encoding\": {\"color\": {\"field\": \"Measure Score\", \"legend\": null, \"scale\": {\"range\": [\"#2EA8CE\", \"#EB9F3C\", \"#F4D837\", \"#51BF9D\", \"#8CBCCB\", \"#9487C0\"]}, \"type\": \"quantitative\"}, \"tooltip\": [{\"field\": \"Measure\", \"type\": \"nominal\"}, {\"field\": \"Measure Score\", \"type\": \"quantitative\"}], \"x\": {\"field\": \"Measure Score\", \"type\": \"quantitative\"}, \"y\": {\"field\": \"Measure\", \"type\": \"nominal\"}}, \"height\": 188, \"transform\": [{\"filter\": {\"selection\": \"selector001\"}}], \"width\": 300}], \"data\": {\"name\": \"data-6e93005fb36719cb080baf872817ae09\"}, \"$schema\": \"https://vega.github.io/schema/vega-lite/v4.17.0.json\", \"datasets\": {\"data-6e93005fb36719cb080baf872817ae09\": [{\"Measure\": \"Increase Peak Person Throughput\", \"Measure Score\": 47.71, \"Category\": \"Congestion Mitigation\", \"Total Category Score\": 119.37}, {\"Measure\": \"Reduction In Peak Period Delay\", \"Measure Score\": 71.66, \"Category\": \"Congestion Mitigation\", \"Total Category Score\": 119.37}, {\"Measure\": \"Reduction In Fatal And Injury Crashes\", \"Measure Score\": 70.67, \"Category\": \"Safety\", \"Total Category Score\": 72.44}, {\"Measure\": \"Reduction In Injury Rates\", \"Measure Score\": 1.77, \"Category\": \"Safety\", \"Total Category Score\": 72.44}, {\"Measure\": \"Increase Access To Jobs\", \"Measure Score\": 86.63, \"Category\": \"Accessibility Increase\", \"Total Category Score\": 163.51999999999998}, {\"Measure\": \"Increase Access Jobs To Dac\", \"Measure Score\": 76.89, \"Category\": \"Accessibility Increase\", \"Total Category Score\": 163.51999999999998}, {\"Measure\": \"Commercial Dev Developed\", \"Measure Score\": 82.77, \"Category\": \"Economic Dev.\", \"Total Category Score\": 98.17999999999999}, {\"Measure\": \"Tons Of Goods Impacted\", \"Measure Score\": 15.41, \"Category\": \"Economic Dev.\", \"Total Category Score\": 98.17999999999999}, {\"Measure\": \"Improve Air Quality\", \"Measure Score\": 67.17, \"Category\": \"Environment\", \"Total Category Score\": 82.95}, {\"Measure\": \"Impact Natural Resources\", \"Measure Score\": 15.78, \"Category\": \"Environment\", \"Total Category Score\": 82.95}, {\"Measure\": \"Support Of Trasnportation\", \"Measure Score\": 11.8, \"Category\": \"Land Use\", \"Total Category Score\": 11.8}]}}, {\"mode\": \"vega-lite\"});\n",
       "</script>"
      ],
      "text/plain": [
       "alt.HConcatChart(...)"
      ]
     },
     "execution_count": 17,
     "metadata": {},
     "output_type": "execute_result"
    }
   ],
   "source": [
    "_utils.dual_bar_chart(\n",
    "    score_card,\n",
    "    \"Category\",\n",
    "    \"Category:N\",\n",
    "    \"Total Category Score:Q\",\n",
    "    \"Measure:N\",\n",
    "    \"Measure Score:Q\",\n",
    ")"
   ]
  }
 ],
 "metadata": {
  "kernelspec": {
   "display_name": "Python 3 (ipykernel)",
   "language": "python",
   "name": "python3"
  },
  "language_info": {
   "codemirror_mode": {
    "name": "ipython",
    "version": 3
   },
   "file_extension": ".py",
   "mimetype": "text/x-python",
   "name": "python",
   "nbconvert_exporter": "python",
   "pygments_lexer": "ipython3",
   "version": "3.10.5"
  }
 },
 "nbformat": 4,
 "nbformat_minor": 5
}
