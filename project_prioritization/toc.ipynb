{
 "cells": [
  {
   "cell_type": "markdown",
   "id": "ec5d5080-96a1-47de-804f-ac1d7024f0de",
   "metadata": {},
   "source": [
    "# Portfolio Yml"
   ]
  },
  {
   "cell_type": "code",
   "execution_count": 1,
   "id": "3dfb4b7e-c4d3-43a2-a251-f1b58562bcb1",
   "metadata": {},
   "outputs": [],
   "source": [
    "import intake\n",
    "import pandas as pd\n",
    "import yaml\n",
    "from yaml import SafeDumper"
   ]
  },
  {
   "cell_type": "code",
   "execution_count": 2,
   "id": "89e35d47-86c0-4e4d-8bfe-11bcc3b91bf3",
   "metadata": {},
   "outputs": [],
   "source": [
    "pd.options.display.max_columns = 100\n",
    "pd.set_option(\"display.max_rows\", None)\n",
    "pd.set_option(\"display.max_colwidth\", None)\n",
    "pd.options.display.float_format = \"{:,.2f}\".format"
   ]
  },
  {
   "cell_type": "code",
   "execution_count": 3,
   "id": "6e1ef384-bdc0-455b-a186-cee7fcda85f8",
   "metadata": {},
   "outputs": [],
   "source": [
    "GCS_FILE_PATH = \"gs://calitp-analytics-data/data-analyses/project_prioritization/\"\n",
    "FILE = \"fake_data.xlsx\""
   ]
  },
  {
   "cell_type": "code",
   "execution_count": 4,
   "id": "def3df35-da1b-4653-9231-28c531bcb52a",
   "metadata": {},
   "outputs": [],
   "source": [
    "catalog = intake.open_catalog(\"./project_prioritization/*.yml\")"
   ]
  },
  {
   "cell_type": "code",
   "execution_count": 5,
   "id": "dfba23d4-4508-4041-bbef-1c51229fd5f5",
   "metadata": {},
   "outputs": [],
   "source": [
    "# Read original df\n",
    "df_statewide = pd.read_excel(f\"{GCS_FILE_PATH}{FILE}\", sheet_name=\"fake\")"
   ]
  },
  {
   "cell_type": "code",
   "execution_count": 6,
   "id": "a07e71b3-f264-4409-b51f-9822a604ef46",
   "metadata": {},
   "outputs": [],
   "source": [
    "# Fill in empty county names with various\n",
    "df_statewide[\"full_county_name\"] = df_statewide[\"full_county_name\"].fillna(\"Various\")"
   ]
  },
  {
   "cell_type": "code",
   "execution_count": 7,
   "id": "bc339dcc-c0aa-4b53-b680-ae69847191e7",
   "metadata": {},
   "outputs": [],
   "source": [
    "# DELETE LATER\n",
    "df_statewide = df_statewide.sample(6)"
   ]
  },
  {
   "cell_type": "code",
   "execution_count": 8,
   "id": "3746dd83-3f8c-4aea-8cab-cc68f0d3bc7f",
   "metadata": {},
   "outputs": [],
   "source": [
    "# Create a sorted, unique list of all the counties in dataset\n",
    "parameter_counties = df_statewide.full_county_name.sort_values().unique().tolist()"
   ]
  },
  {
   "cell_type": "code",
   "execution_count": 9,
   "id": "9c5f13bb-8ac2-4942-96ec-c5e68ecd5066",
   "metadata": {},
   "outputs": [
    {
     "data": {
      "text/plain": [
       "['Los Angeles', 'Orange', 'San Diego', 'Stanislaus', 'Various', 'Ventura']"
      ]
     },
     "execution_count": 9,
     "metadata": {},
     "output_type": "execute_result"
    }
   ],
   "source": [
    "parameter_counties"
   ]
  },
  {
   "cell_type": "code",
   "execution_count": 10,
   "id": "661c71f5-9556-4267-bf6a-e0155fdb1b73",
   "metadata": {},
   "outputs": [],
   "source": [
    "# Open my test yml\n",
    "with open(\"../project_prioritization/test.yml\") as test:\n",
    "    analyses_data = yaml.load(test, yaml.Loader)\n",
    "\n",
    "# Empty chapter list\n",
    "chapters_list = []\n",
    "\n",
    "# Loop through my list of parameter_counties\n",
    "for county in parameter_counties:\n",
    "    # Empty dictionary\n",
    "    chapter_dict = {}\n",
    "    chapter_dict[\"-chapters\"] = None\n",
    "    chapter_dict[\"-params\"] = {'county': county}\n",
    "    chapters_list += [chapter_dict]\n",
    "\n",
    "parts_list = [{\"parts\": chapters_list}]\n",
    "\n",
    "# doesn't work for me?? \n",
    "# analyses_data['parts'] = chapters_list\n",
    "\n",
    "# yaml.dump(parts_list) produces the document as a UTF-8 encoded str object.\n",
    "# https://pyyaml.org/wiki/PyYAMLDocumentation\n",
    "output = yaml.dump(parts_list)\n",
    "\n",
    "with open(\"../project_prioritization/test.yml\", \"w\") as test:\n",
    "    test.write(output)"
   ]
  }
 ],
 "metadata": {
  "kernelspec": {
   "display_name": "Python 3 (ipykernel)",
   "language": "python",
   "name": "python3"
  },
  "language_info": {
   "codemirror_mode": {
    "name": "ipython",
    "version": 3
   },
   "file_extension": ".py",
   "mimetype": "text/x-python",
   "name": "python",
   "nbconvert_exporter": "python",
   "pygments_lexer": "ipython3",
   "version": "3.10.5"
  }
 },
 "nbformat": 4,
 "nbformat_minor": 5
}
