{
 "cells": [
  {
   "cell_type": "markdown",
   "id": "ec5d5080-96a1-47de-804f-ac1d7024f0de",
   "metadata": {},
   "source": [
    "# Portfolio Yml"
   ]
  },
  {
   "cell_type": "code",
   "execution_count": 148,
   "id": "3dfb4b7e-c4d3-43a2-a251-f1b58562bcb1",
   "metadata": {},
   "outputs": [],
   "source": [
    "import intake\n",
    "import pandas as pd\n",
    "import yaml\n",
    "from yaml import SafeDumper"
   ]
  },
  {
   "cell_type": "code",
   "execution_count": 149,
   "id": "89e35d47-86c0-4e4d-8bfe-11bcc3b91bf3",
   "metadata": {},
   "outputs": [],
   "source": [
    "pd.options.display.max_columns = 100\n",
    "pd.set_option(\"display.max_rows\", None)\n",
    "pd.set_option(\"display.max_colwidth\", None)\n",
    "pd.options.display.float_format = \"{:,.2f}\".format"
   ]
  },
  {
   "cell_type": "code",
   "execution_count": 150,
   "id": "6e1ef384-bdc0-455b-a186-cee7fcda85f8",
   "metadata": {},
   "outputs": [],
   "source": [
    "GCS_FILE_PATH = \"gs://calitp-analytics-data/data-analyses/project_prioritization/\"\n",
    "FILE = \"fake_data.xlsx\""
   ]
  },
  {
   "cell_type": "code",
   "execution_count": 151,
   "id": "dfba23d4-4508-4041-bbef-1c51229fd5f5",
   "metadata": {},
   "outputs": [],
   "source": [
    "# Read original df\n",
    "df = pd.read_excel(f\"{GCS_FILE_PATH}{FILE}\", sheet_name=\"fake\")"
   ]
  },
  {
   "cell_type": "code",
   "execution_count": 152,
   "id": "f5e33120-1117-4bd3-bcf7-fb1e6e223ad1",
   "metadata": {},
   "outputs": [],
   "source": [
    "df['full_county_name'] = df['full_county_name'].fillna(\"Various\")"
   ]
  },
  {
   "cell_type": "code",
   "execution_count": 153,
   "id": "a07e71b3-f264-4409-b51f-9822a604ef46",
   "metadata": {},
   "outputs": [],
   "source": [
    "districts = sorted(df.district.fillna(0).unique().tolist())"
   ]
  },
  {
   "cell_type": "code",
   "execution_count": 154,
   "id": "75b8db48-a9e5-4640-add1-310c510597c1",
   "metadata": {},
   "outputs": [
    {
     "data": {
      "text/plain": [
       "[0, 1, 2, 3, 4, 5, 6, 7, 8, 9, 10, 11, 12, 74, 75]"
      ]
     },
     "execution_count": 154,
     "metadata": {},
     "output_type": "execute_result"
    }
   ],
   "source": [
    "districts"
   ]
  },
  {
   "cell_type": "code",
   "execution_count": 155,
   "id": "f5040f54-741b-49f9-b4c2-129a76f94f4f",
   "metadata": {},
   "outputs": [],
   "source": [
    "# Open my test yml\n",
    "with open(\"./test.yml\") as test:\n",
    "    analyses_data = yaml.load(test, yaml.Loader) #what does this do??"
   ]
  },
  {
   "cell_type": "code",
   "execution_count": 156,
   "id": "01ec2b6e-200e-45d7-9c86-961a629ab46c",
   "metadata": {},
   "outputs": [
    {
     "data": {
      "text/plain": [
       "{'title': 'Project Prioritization - 10 Year Non-SHOPP',\n",
       " 'directory': './project_prioritization/',\n",
       " 'readme': './project_prioritization/README.md',\n",
       " 'notebook': './project_prioritization/county_landing_page.ipynb',\n",
       " 'parts': [{'chapters': [{'caption': 'District 8',\n",
       "     'params': {'district': 8},\n",
       "     'sections': [{'county': 'Los Angeles'},\n",
       "      {'county': 'Riverside'},\n",
       "      {'county': 'San Bernardino'},\n",
       "      {'county': 'Various'}]},\n",
       "    {'caption': 'District 9',\n",
       "     'params': {'district': 9},\n",
       "     'sections': [{'county': 'Inyo'},\n",
       "      {'county': 'Kern'},\n",
       "      {'county': 'Mono'}]}]}]}"
      ]
     },
     "execution_count": 156,
     "metadata": {},
     "output_type": "execute_result"
    }
   ],
   "source": [
    "analyses_data"
   ]
  },
  {
   "cell_type": "code",
   "execution_count": 157,
   "id": "4fc23c93-485d-4a76-a310-7a7867db2aac",
   "metadata": {},
   "outputs": [],
   "source": [
    "# Slice list for test districts\n",
    "test_districts = districts[6:8]"
   ]
  },
  {
   "cell_type": "code",
   "execution_count": 158,
   "id": "bcf965fa-374e-4eac-be70-9a58ad38e3ca",
   "metadata": {},
   "outputs": [
    {
     "data": {
      "text/plain": [
       "[6, 7]"
      ]
     },
     "execution_count": 158,
     "metadata": {},
     "output_type": "execute_result"
    }
   ],
   "source": [
    "test_districts"
   ]
  },
  {
   "cell_type": "code",
   "execution_count": 159,
   "id": "d012d025-e0c3-4dca-a98c-83de50b6c5de",
   "metadata": {},
   "outputs": [
    {
     "name": "stdout",
     "output_type": "stream",
     "text": [
      "directory: ./project_prioritization/\n",
      "notebook: ./project_prioritization/county_landing_page.ipynb\n",
      "parts:\n",
      "- chapters:\n",
      "  - caption: District 6\n",
      "    params:\n",
      "      district: 6\n",
      "    sections:\n",
      "    - county: Fresno\n",
      "    - county: Kern\n",
      "    - county: Kings\n",
      "    - county: Madera\n",
      "    - county: Tulare\n",
      "    - county: Various\n",
      "  - caption: District 7\n",
      "    params:\n",
      "      district: 7\n",
      "    sections:\n",
      "    - county: Los Angeles\n",
      "    - county: Various\n",
      "    - county: Ventura\n",
      "readme: ./project_prioritization/README.md\n",
      "title: Project Prioritization - 10 Year Non-SHOPP\n",
      "\n"
     ]
    }
   ],
   "source": [
    "# Loop through each district, grab the valid itp_ids\n",
    "# populate each dict key (caption, params, sections) needed to go into analyses.yml\n",
    "chapters_list = []\n",
    "for district in sorted(test_districts):\n",
    "    chapter_dict = {}\n",
    "    \n",
    "    subset = df[df.district == district]\n",
    "    \n",
    "    # Only grab the counties found in this district\n",
    "    counties_in_district = sorted(subset.full_county_name.fillna(\"Various\")\n",
    "                                   .unique().tolist())\n",
    "    \n",
    "    chapter_dict['caption'] = f'District {district}'\n",
    "    chapter_dict['params'] = {'district': district}\n",
    "    chapter_dict['sections'] = [{'county': county} for county in \n",
    "                                counties_in_district]\n",
    "    chapters_list += [chapter_dict]\n",
    "\n",
    "# Make this into a list item\n",
    "parts_list = [{'chapters': chapters_list}]\n",
    "\n",
    "analyses_data['parts'] = parts_list\n",
    "\n",
    "output = yaml.dump(analyses_data)\n",
    "\n",
    "with open(\"./test.yml\", 'w') as analyses:\n",
    "    analyses.write(output)\n",
    "    \n",
    "print(output)"
   ]
  },
  {
   "cell_type": "code",
   "execution_count": 160,
   "id": "f9a033e4-1f90-4fb7-bf2c-db892b8f4cf9",
   "metadata": {},
   "outputs": [],
   "source": [
    "for district in sorted(test_districts):\n",
    "    test = df[df.district == district]"
   ]
  },
  {
   "cell_type": "code",
   "execution_count": 161,
   "id": "18656b2b-e03f-47a1-b112-e25ac82be3f0",
   "metadata": {
    "tags": []
   },
   "outputs": [
    {
     "data": {
      "text/plain": [
       "(99, 41)"
      ]
     },
     "execution_count": 161,
     "metadata": {},
     "output_type": "execute_result"
    }
   ],
   "source": [
    "test.shape"
   ]
  },
  {
   "cell_type": "code",
   "execution_count": 162,
   "id": "79f7ad50-1f07-427b-8398-1e48f885a672",
   "metadata": {},
   "outputs": [
    {
     "data": {
      "text/plain": [
       "array(['LA', 'LA\\nVEN', 'MULTI', 'VEN'], dtype=object)"
      ]
     },
     "execution_count": 162,
     "metadata": {},
     "output_type": "execute_result"
    }
   ],
   "source": [
    "test.county.unique()"
   ]
  },
  {
   "cell_type": "code",
   "execution_count": 163,
   "id": "a65caa38-615a-4267-94ca-a47a17fba90e",
   "metadata": {},
   "outputs": [
    {
     "data": {
      "text/html": [
       "<div>\n",
       "<style scoped>\n",
       "    .dataframe tbody tr th:only-of-type {\n",
       "        vertical-align: middle;\n",
       "    }\n",
       "\n",
       "    .dataframe tbody tr th {\n",
       "        vertical-align: top;\n",
       "    }\n",
       "\n",
       "    .dataframe thead th {\n",
       "        text-align: right;\n",
       "    }\n",
       "</style>\n",
       "<table border=\"1\" class=\"dataframe\">\n",
       "  <thead>\n",
       "    <tr style=\"text-align: right;\">\n",
       "      <th></th>\n",
       "      <th>county</th>\n",
       "      <th>district</th>\n",
       "    </tr>\n",
       "  </thead>\n",
       "  <tbody>\n",
       "    <tr>\n",
       "      <th>250</th>\n",
       "      <td>LA</td>\n",
       "      <td>7</td>\n",
       "    </tr>\n",
       "    <tr>\n",
       "      <th>251</th>\n",
       "      <td>LA</td>\n",
       "      <td>7</td>\n",
       "    </tr>\n",
       "    <tr>\n",
       "      <th>252</th>\n",
       "      <td>LA</td>\n",
       "      <td>7</td>\n",
       "    </tr>\n",
       "    <tr>\n",
       "      <th>253</th>\n",
       "      <td>LA</td>\n",
       "      <td>7</td>\n",
       "    </tr>\n",
       "    <tr>\n",
       "      <th>254</th>\n",
       "      <td>LA</td>\n",
       "      <td>7</td>\n",
       "    </tr>\n",
       "  </tbody>\n",
       "</table>\n",
       "</div>"
      ],
      "text/plain": [
       "    county  district\n",
       "250     LA         7\n",
       "251     LA         7\n",
       "252     LA         7\n",
       "253     LA         7\n",
       "254     LA         7"
      ]
     },
     "execution_count": 163,
     "metadata": {},
     "output_type": "execute_result"
    }
   ],
   "source": [
    "test[['county','district']].head()"
   ]
  },
  {
   "cell_type": "code",
   "execution_count": 164,
   "id": "7b8e4c88-2318-4432-8bfa-98f44cb542e2",
   "metadata": {},
   "outputs": [],
   "source": [
    "counties_test = sorted(test.full_county_name.fillna(\"Various\")\n",
    "                                   .unique().tolist())"
   ]
  },
  {
   "cell_type": "code",
   "execution_count": 165,
   "id": "8cb6b5df-1366-4435-83eb-f0b3bb490f9b",
   "metadata": {},
   "outputs": [
    {
     "data": {
      "text/plain": [
       "['Los Angeles', 'Various', 'Ventura']"
      ]
     },
     "execution_count": 165,
     "metadata": {},
     "output_type": "execute_result"
    }
   ],
   "source": [
    "counties_test"
   ]
  },
  {
   "cell_type": "code",
   "execution_count": 166,
   "id": "5a1050ca-5284-4ba0-81eb-0a54bd221209",
   "metadata": {},
   "outputs": [],
   "source": [
    "test_list = []"
   ]
  },
  {
   "cell_type": "code",
   "execution_count": 167,
   "id": "b883025e-67a8-49cd-ae30-12cc3f512381",
   "metadata": {},
   "outputs": [
    {
     "data": {
      "text/plain": [
       "[]"
      ]
     },
     "execution_count": 167,
     "metadata": {},
     "output_type": "execute_result"
    }
   ],
   "source": [
    "test_list"
   ]
  },
  {
   "cell_type": "code",
   "execution_count": 168,
   "id": "097dfca7-1d3c-44b9-a964-a4b700f5b406",
   "metadata": {},
   "outputs": [],
   "source": [
    "test_dict = {}"
   ]
  },
  {
   "cell_type": "code",
   "execution_count": 169,
   "id": "5383fb1e-c651-49aa-baf4-688946d5ea6f",
   "metadata": {},
   "outputs": [],
   "source": [
    "test_dict['caption'] = f'District {district}'"
   ]
  },
  {
   "cell_type": "code",
   "execution_count": 170,
   "id": "07bbf37c-6277-4f4f-843a-a5ca911d13f1",
   "metadata": {},
   "outputs": [],
   "source": [
    "test_dict['params'] = {'district': district}"
   ]
  },
  {
   "cell_type": "code",
   "execution_count": 171,
   "id": "3d8d8dd9-fba3-4d0e-aa54-c1e92aa20098",
   "metadata": {},
   "outputs": [],
   "source": [
    "test_dict['sections'] = [{'county': county} for county in \n",
    "                                counties_test]"
   ]
  },
  {
   "cell_type": "code",
   "execution_count": 172,
   "id": "917d282f-8598-4844-8a6c-ff9362e5146a",
   "metadata": {},
   "outputs": [
    {
     "data": {
      "text/plain": [
       "{'caption': 'District 7',\n",
       " 'params': {'district': 7},\n",
       " 'sections': [{'county': 'Los Angeles'},\n",
       "  {'county': 'Various'},\n",
       "  {'county': 'Ventura'}]}"
      ]
     },
     "execution_count": 172,
     "metadata": {},
     "output_type": "execute_result"
    }
   ],
   "source": [
    "test_dict"
   ]
  },
  {
   "cell_type": "code",
   "execution_count": 173,
   "id": "893ccc04-ae2a-45f1-a733-caef0a0d8724",
   "metadata": {},
   "outputs": [],
   "source": [
    "# Add everything\n",
    "test_list += [test_dict]"
   ]
  },
  {
   "cell_type": "code",
   "execution_count": 174,
   "id": "730a0549-262b-4ecb-8980-c1dfac1b172d",
   "metadata": {},
   "outputs": [
    {
     "data": {
      "text/plain": [
       "[{'caption': 'District 7',\n",
       "  'params': {'district': 7},\n",
       "  'sections': [{'county': 'Los Angeles'},\n",
       "   {'county': 'Various'},\n",
       "   {'county': 'Ventura'}]}]"
      ]
     },
     "execution_count": 174,
     "metadata": {},
     "output_type": "execute_result"
    }
   ],
   "source": [
    "test_list"
   ]
  },
  {
   "cell_type": "code",
   "execution_count": 175,
   "id": "1184f35c-c4c4-4764-a293-57709a9f2b9a",
   "metadata": {},
   "outputs": [],
   "source": [
    "parts_list = [{'chapters': test_list}]\n"
   ]
  },
  {
   "cell_type": "code",
   "execution_count": 176,
   "id": "0fcf9ddc-b928-46cd-9e9b-9b52d2b08865",
   "metadata": {},
   "outputs": [
    {
     "data": {
      "text/plain": [
       "[{'chapters': [{'caption': 'District 7',\n",
       "    'params': {'district': 7},\n",
       "    'sections': [{'county': 'Los Angeles'},\n",
       "     {'county': 'Various'},\n",
       "     {'county': 'Ventura'}]}]}]"
      ]
     },
     "execution_count": 176,
     "metadata": {},
     "output_type": "execute_result"
    }
   ],
   "source": [
    "parts_list"
   ]
  },
  {
   "cell_type": "code",
   "execution_count": 177,
   "id": "24bc41d3-c1ff-4694-bfe6-c4082041fb71",
   "metadata": {},
   "outputs": [],
   "source": [
    "analyses_data['parts'] = parts_list"
   ]
  },
  {
   "cell_type": "code",
   "execution_count": 178,
   "id": "34743538-847a-4cdb-b460-540f21f48aa1",
   "metadata": {},
   "outputs": [
    {
     "name": "stdout",
     "output_type": "stream",
     "text": [
      "directory: ./project_prioritization/\n",
      "notebook: ./project_prioritization/county_landing_page.ipynb\n",
      "parts:\n",
      "- chapters:\n",
      "  - caption: District 6\n",
      "    params:\n",
      "      district: 6\n",
      "    sections:\n",
      "    - county: Fresno\n",
      "    - county: Kern\n",
      "    - county: Kings\n",
      "    - county: Madera\n",
      "    - county: Tulare\n",
      "    - county: Various\n",
      "  - caption: District 7\n",
      "    params:\n",
      "      district: 7\n",
      "    sections:\n",
      "    - county: Los Angeles\n",
      "    - county: Various\n",
      "    - county: Ventura\n",
      "readme: ./project_prioritization/README.md\n",
      "title: Project Prioritization - 10 Year Non-SHOPP\n",
      "\n"
     ]
    }
   ],
   "source": [
    "# Loop through each district, grab the valid itp_ids\n",
    "# populate each dict key (caption, params, sections) needed to go into analyses.yml\n",
    "chapters_list = []\n",
    "for district in sorted(test_districts):\n",
    "    chapter_dict = {}\n",
    "    \n",
    "    subset = df[df.district == district]\n",
    "    \n",
    "    # Only grab the counties found in this district\n",
    "    counties_in_district = sorted(subset.full_county_name.fillna(\"Various\")\n",
    "                                   .unique().tolist())\n",
    "    \n",
    "    chapter_dict['caption'] = f'District {district}'\n",
    "    chapter_dict['params'] = {'district': district}\n",
    "    chapter_dict['sections'] = [{'county': county} for county in \n",
    "                                counties_in_district]\n",
    "    chapters_list += [chapter_dict]\n",
    "\n",
    "# Make this into a list item\n",
    "parts_list = [{'chapters': chapters_list}]\n",
    "\n",
    "analyses_data['parts'] = parts_list\n",
    "\n",
    "output = yaml.dump(analyses_data)\n",
    "\n",
    "with open(\"./test.yml\", 'w') as analyses:\n",
    "    analyses.write(output)\n",
    "print(output)"
   ]
  }
 ],
 "metadata": {
  "kernelspec": {
   "display_name": "Python 3 (ipykernel)",
   "language": "python",
   "name": "python3"
  },
  "language_info": {
   "codemirror_mode": {
    "name": "ipython",
    "version": 3
   },
   "file_extension": ".py",
   "mimetype": "text/x-python",
   "name": "python",
   "nbconvert_exporter": "python",
   "pygments_lexer": "ipython3",
   "version": "3.10.5"
  }
 },
 "nbformat": 4,
 "nbformat_minor": 5
}
