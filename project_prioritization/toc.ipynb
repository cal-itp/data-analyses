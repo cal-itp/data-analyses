{
 "cells": [
  {
   "cell_type": "markdown",
   "id": "ec5d5080-96a1-47de-804f-ac1d7024f0de",
   "metadata": {},
   "source": [
    "# Portfolio Yml"
   ]
  },
  {
   "cell_type": "code",
   "execution_count": 1,
   "id": "3dfb4b7e-c4d3-43a2-a251-f1b58562bcb1",
   "metadata": {},
   "outputs": [],
   "source": [
    "import intake\n",
    "import pandas as pd\n",
    "import yaml\n",
    "from yaml import SafeDumper"
   ]
  },
  {
   "cell_type": "code",
   "execution_count": 2,
   "id": "89e35d47-86c0-4e4d-8bfe-11bcc3b91bf3",
   "metadata": {},
   "outputs": [],
   "source": [
    "pd.options.display.max_columns = 100\n",
    "pd.set_option(\"display.max_rows\", None)\n",
    "pd.set_option(\"display.max_colwidth\", None)\n",
    "pd.options.display.float_format = \"{:,.2f}\".format"
   ]
  },
  {
   "cell_type": "code",
   "execution_count": 3,
   "id": "6e1ef384-bdc0-455b-a186-cee7fcda85f8",
   "metadata": {},
   "outputs": [],
   "source": [
    "GCS_FILE_PATH = \"gs://calitp-analytics-data/data-analyses/project_prioritization/\"\n",
    "FILE = \"fake_data.xlsx\""
   ]
  },
  {
   "cell_type": "code",
   "execution_count": 4,
   "id": "def3df35-da1b-4653-9231-28c531bcb52a",
   "metadata": {},
   "outputs": [],
   "source": [
    "catalog = intake.open_catalog(\"./project_prioritization/*.yml\")"
   ]
  },
  {
   "cell_type": "code",
   "execution_count": 5,
   "id": "dfba23d4-4508-4041-bbef-1c51229fd5f5",
   "metadata": {},
   "outputs": [],
   "source": [
    "# Read original df\n",
    "df_statewide = pd.read_excel(f\"{GCS_FILE_PATH}{FILE}\", sheet_name=\"fake\")"
   ]
  },
  {
   "cell_type": "code",
   "execution_count": 6,
   "id": "a07e71b3-f264-4409-b51f-9822a604ef46",
   "metadata": {},
   "outputs": [],
   "source": [
    "# Fill in empty county names with various\n",
    "df_statewide[\"full_county_name\"] = df_statewide[\"full_county_name\"].fillna(\"Various\")"
   ]
  },
  {
   "cell_type": "code",
   "execution_count": 7,
   "id": "a7fb5129-e3bf-412c-9d6b-1b374d56f5d4",
   "metadata": {},
   "outputs": [
    {
     "data": {
      "text/plain": [
       "'\\ntoc = (\\n    df_statewide[[\"full_county_name\"]]\\n    .drop_duplicates()\\n    .sort_values(\"full_county_name\")\\n    .reset_index(drop=True)\\n)\\n'"
      ]
     },
     "execution_count": 7,
     "metadata": {},
     "output_type": "execute_result"
    }
   ],
   "source": [
    "# Filter for unique full county names\n",
    "\"\"\"\n",
    "toc = (\n",
    "    df_statewide[[\"full_county_name\"]]\n",
    "    .drop_duplicates()\n",
    "    .sort_values(\"full_county_name\")\n",
    "    .reset_index(drop=True)\n",
    ")\n",
    "\"\"\""
   ]
  },
  {
   "cell_type": "code",
   "execution_count": 8,
   "id": "dc4314e8-eb4f-4ef7-8402-fb70c41b9f41",
   "metadata": {},
   "outputs": [],
   "source": [
    "# Add quotes to every full county name\n",
    "# https://stackoverflow.com/questions/41960346/how-to-add-quotes-to-every-element-in-non-numeric-column-of-a-dataframe-save\n",
    "# df_statewide.update(df_statewide[[\"full_county_name\"]].applymap('\"{}\"'.format))"
   ]
  },
  {
   "cell_type": "code",
   "execution_count": 9,
   "id": "3746dd83-3f8c-4aea-8cab-cc68f0d3bc7f",
   "metadata": {},
   "outputs": [],
   "source": [
    "# Create a sorted, unique list of all the counties in dataset\n",
    "# parameter_counties = df_statewide.full_county_name.sort_values().unique().tolist()"
   ]
  },
  {
   "cell_type": "code",
   "execution_count": 10,
   "id": "6a3abde1-fb3f-4bdd-9f36-596237a1491a",
   "metadata": {},
   "outputs": [],
   "source": [
    "# Open my test yml as called \"test\" and load it as \"analyses_data\"\n",
    "with open(\"../project_prioritization/test.yml\") as test:\n",
    "    analyses_data = yaml.load(test, yaml.Loader)"
   ]
  },
  {
   "cell_type": "code",
   "execution_count": 11,
   "id": "ced86b3d-ef29-4954-9b28-9111505a22d5",
   "metadata": {},
   "outputs": [],
   "source": [
    "# Empty chapter list\n",
    "chapters_list = []"
   ]
  },
  {
   "cell_type": "code",
   "execution_count": 12,
   "id": "661c71f5-9556-4267-bf6a-e0155fdb1b73",
   "metadata": {},
   "outputs": [],
   "source": [
    "# For every county in my list of counties, loop through and create\n",
    "# chapters and parameters\n",
    "for county in (df_statewide.full_county_name.sort_values().unique()):\n",
    "    # Empty dictionary\n",
    "    chapter_dict = {}\n",
    "    chapter_dict[\"params\"] = {\n",
    "        \"parameter_county\": county,\n",
    "        \"county_title\": f'{county} County'}\n",
    "    chapters_list += [chapter_dict]"
   ]
  },
  {
   "cell_type": "code",
   "execution_count": 13,
   "id": "b6735f46-f62c-4416-9a0c-10625ebbde00",
   "metadata": {},
   "outputs": [],
   "source": [
    "parts_list = [{\"chapters\": chapters_list}]\n",
    "\n",
    "# doesn't work for me\n",
    "# analyses_data['parts'] = parts_list\n"
   ]
  },
  {
   "cell_type": "code",
   "execution_count": 14,
   "id": "2fdd2a94-4e5b-4c9e-889e-368865b6c8b9",
   "metadata": {},
   "outputs": [],
   "source": [
    "# yaml.dump(parts_list) produces the document as a UTF-8 encoded str object.\n",
    "# https://pyyaml.org/wiki/PyYAMLDocumentation\n",
    "output = yaml.dump(parts_list)"
   ]
  },
  {
   "cell_type": "code",
   "execution_count": 15,
   "id": "4252cd92-4a79-4ea4-b463-f68371536f20",
   "metadata": {},
   "outputs": [],
   "source": [
    "with open(\"../project_prioritization/test.yml\", \"w\") as test:\n",
    "    test.write(output)"
   ]
  }
 ],
 "metadata": {
  "kernelspec": {
   "display_name": "Python 3 (ipykernel)",
   "language": "python",
   "name": "python3"
  },
  "language_info": {
   "codemirror_mode": {
    "name": "ipython",
    "version": 3
   },
   "file_extension": ".py",
   "mimetype": "text/x-python",
   "name": "python",
   "nbconvert_exporter": "python",
   "pygments_lexer": "ipython3",
   "version": "3.10.5"
  }
 },
 "nbformat": 4,
 "nbformat_minor": 5
}
