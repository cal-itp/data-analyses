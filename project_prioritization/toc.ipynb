{
 "cells": [
  {
   "cell_type": "markdown",
   "id": "ec5d5080-96a1-47de-804f-ac1d7024f0de",
   "metadata": {},
   "source": [
    "# Portfolio Yml"
   ]
  },
  {
   "cell_type": "code",
   "execution_count": 1,
   "id": "3dfb4b7e-c4d3-43a2-a251-f1b58562bcb1",
   "metadata": {},
   "outputs": [],
   "source": [
    "import pandas as pd"
   ]
  },
  {
   "cell_type": "code",
   "execution_count": 7,
   "id": "89e35d47-86c0-4e4d-8bfe-11bcc3b91bf3",
   "metadata": {},
   "outputs": [],
   "source": [
    "pd.options.display.max_columns = 100\n",
    "pd.set_option(\"display.max_rows\", None)\n",
    "pd.set_option(\"display.max_colwidth\", None)\n",
    "pd.options.display.float_format = \"{:,.2f}\".format"
   ]
  },
  {
   "cell_type": "code",
   "execution_count": 2,
   "id": "6e1ef384-bdc0-455b-a186-cee7fcda85f8",
   "metadata": {},
   "outputs": [],
   "source": [
    "GCS_FILE_PATH = \"gs://calitp-analytics-data/data-analyses/project_prioritization/\"\n",
    "FILE = \"fake_data.xlsx\""
   ]
  },
  {
   "cell_type": "code",
   "execution_count": 3,
   "id": "dfba23d4-4508-4041-bbef-1c51229fd5f5",
   "metadata": {},
   "outputs": [],
   "source": [
    "df_statewide = pd.read_excel(f\"{GCS_FILE_PATH}{FILE}\", sheet_name=\"fake\")"
   ]
  },
  {
   "cell_type": "code",
   "execution_count": 9,
   "id": "a07e71b3-f264-4409-b51f-9822a604ef46",
   "metadata": {},
   "outputs": [],
   "source": [
    "# Fill in empty county names with various\n",
    "df_statewide[\"full_county_name\"] = df_statewide[\"full_county_name\"].fillna(\"Various\")"
   ]
  },
  {
   "cell_type": "code",
   "execution_count": 20,
   "id": "a7fb5129-e3bf-412c-9d6b-1b374d56f5d4",
   "metadata": {},
   "outputs": [],
   "source": [
    "# Filter for unique full county names\n",
    "toc = df_statewide[['full_county_name']].drop_duplicates().sort_values('full_county_name').reset_index(drop = True)"
   ]
  },
  {
   "cell_type": "code",
   "execution_count": 24,
   "id": "94a67abe-a029-4021-ae19-5db55ee23a64",
   "metadata": {},
   "outputs": [],
   "source": [
    "# Add a column for County\n",
    "toc['County'] = ' County'"
   ]
  },
  {
   "cell_type": "code",
   "execution_count": 26,
   "id": "49a68b5c-fa8e-47a4-88e8-4d6d44620558",
   "metadata": {},
   "outputs": [],
   "source": [
    "# Combine two columns into a new one for chapter title\n",
    "toc['chapter_title'] = toc['full_county_name'] + toc['County']"
   ]
  },
  {
   "cell_type": "code",
   "execution_count": 28,
   "id": "8f5fa2b5-ff16-46fd-9d67-1211f274bdae",
   "metadata": {},
   "outputs": [],
   "source": [
    "# Change various\n",
    "toc['chapter_title'] = toc['chapter_title'].replace({'Various County':'Various Counties'})"
   ]
  },
  {
   "cell_type": "code",
   "execution_count": 30,
   "id": "3da4a374-169e-4144-94c6-04873984d45b",
   "metadata": {},
   "outputs": [],
   "source": [
    "# Drop unnecessary column\n",
    "toc = toc.drop(columns = ['County'])"
   ]
  },
  {
   "cell_type": "code",
   "execution_count": 31,
   "id": "bf46013e-1cb5-47ed-9765-ba2cabe61872",
   "metadata": {},
   "outputs": [],
   "source": [
    "toc.to_excel(f\"{GCS_FILE_PATH}toc.xlsx\", index= False)  "
   ]
  }
 ],
 "metadata": {
  "kernelspec": {
   "display_name": "Python 3 (ipykernel)",
   "language": "python",
   "name": "python3"
  },
  "language_info": {
   "codemirror_mode": {
    "name": "ipython",
    "version": 3
   },
   "file_extension": ".py",
   "mimetype": "text/x-python",
   "name": "python",
   "nbconvert_exporter": "python",
   "pygments_lexer": "ipython3",
   "version": "3.10.5"
  }
 },
 "nbformat": 4,
 "nbformat_minor": 5
}
