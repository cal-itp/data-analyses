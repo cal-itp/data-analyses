{
 "cells": [
  {
   "cell_type": "markdown",
   "id": "cb6a1a41-5a4c-4178-8651-5cee12f3ec13",
   "metadata": {},
   "source": [
    "## Add TIRCP"
   ]
  },
  {
   "cell_type": "code",
   "execution_count": 2,
   "id": "c2bbe80b-66c4-44d6-9888-93b8ae4f8ab2",
   "metadata": {},
   "outputs": [
    {
     "name": "stderr",
     "output_type": "stream",
     "text": [
      "/opt/conda/lib/python3.9/site-packages/geopandas/_compat.py:123: UserWarning: The Shapely GEOS version (3.10.3-CAPI-1.16.1) is incompatible with the GEOS version PyGEOS was compiled with (3.10.1-CAPI-1.16.0). Conversions between both will be slow.\n",
      "  warnings.warn(\n"
     ]
    }
   ],
   "source": [
    "import _utils\n",
    "import numpy as np\n",
    "import pandas as pd\n",
    "from calitp.sql import to_snakecase"
   ]
  },
  {
   "cell_type": "code",
   "execution_count": 3,
   "id": "85238cd5-f743-480b-968e-c9b4dae07d66",
   "metadata": {},
   "outputs": [],
   "source": [
    "pd.options.display.max_columns = 200\n",
    "pd.set_option(\"display.max_rows\", None)\n",
    "pd.set_option(\"display.max_colwidth\", None)"
   ]
  },
  {
   "cell_type": "code",
   "execution_count": 4,
   "id": "d9ae83e2-c80f-4ea9-a125-bf5d5695fbb7",
   "metadata": {},
   "outputs": [],
   "source": [
    "# import fuzzywuzzy\n",
    "# from fuzzywuzzy import process"
   ]
  },
  {
   "cell_type": "markdown",
   "id": "bf5d9247-a4cf-4a4d-9a14-8019b2183ba2",
   "metadata": {},
   "source": [
    "### ATP - 10 Year Non SHOPP Prep"
   ]
  },
  {
   "cell_type": "code",
   "execution_count": 5,
   "id": "fd66609e-464a-4bd0-b430-848e2dfcd895",
   "metadata": {},
   "outputs": [],
   "source": [
    "# Read in 10 Year non SHOPP\n",
    "atp_shopp = to_snakecase(\n",
    "    pd.read_excel(f\"{_utils.GCS_FILE_PATH}cleaned_data_with_fake_metrics_plus_atp.xlsx\")\n",
    ")"
   ]
  },
  {
   "cell_type": "code",
   "execution_count": 6,
   "id": "51fc1e91-cd82-4eca-a6cc-78267acfc8fb",
   "metadata": {},
   "outputs": [],
   "source": [
    "# list(atp_shopp.columns)"
   ]
  },
  {
   "cell_type": "code",
   "execution_count": 7,
   "id": "ce97edf3-0cb5-4008-8e18-287fe7bdc372",
   "metadata": {},
   "outputs": [],
   "source": [
    "# Subset\n",
    "atp_shopp_subset = [\n",
    "    \"ppno\",\n",
    "    \"project_name\",\n",
    "    \"lead_agency\",\n",
    "    \"previous_caltrans_nominations\",\n",
    "    \"full_county_name\",\n",
    "    \"district\",\n",
    "    \"project_description\",\n",
    "    \"current_phase\",\n",
    "    \"primary_mode\",\n",
    "    \"urban_rural\",\n",
    "    \"total_project_cost__$1,000\",\n",
    "    \"total_unfunded_need__$1,000\",\n",
    "    \"notes\",\n",
    "    \"shs_capacity_increase_detail\",\n",
    "    \"current_phase\",\n",
    "]"
   ]
  },
  {
   "cell_type": "code",
   "execution_count": 8,
   "id": "cd738aa0-e3da-4aca-860e-d6eca9ce2226",
   "metadata": {},
   "outputs": [],
   "source": [
    "# Column for testing stuff\n",
    "atp_shopp2 = atp_shopp[atp_shopp_subset]"
   ]
  },
  {
   "cell_type": "code",
   "execution_count": 9,
   "id": "15004a48-f44b-4342-8e93-9ead6ab1fc6e",
   "metadata": {},
   "outputs": [],
   "source": [
    "# atp_shopp2.sample()"
   ]
  },
  {
   "cell_type": "code",
   "execution_count": 10,
   "id": "6a609e26-856b-47af-997e-0d92e6ccb43b",
   "metadata": {},
   "outputs": [],
   "source": [
    "# Function to clean agency/organization names\n",
    "def organization_cleaning(df, column_wanted: str):\n",
    "    df[column_wanted] = (\n",
    "        df[column_wanted]\n",
    "        .str.strip()\n",
    "        .str.split(\",\")\n",
    "        .str[0]\n",
    "        .str.replace(\"/\", \"\")\n",
    "        .str.split(\"(\")\n",
    "        .str[0]\n",
    "        .str.split(\"/\")\n",
    "        .str[0]\n",
    "        .str.title()\n",
    "        .str.replace(\"Trasit\", \"Transit\")\n",
    "        .str.strip()  # strip again after getting rid of certain things\n",
    "    )\n",
    "    return df"
   ]
  },
  {
   "cell_type": "code",
   "execution_count": 11,
   "id": "72b8f0e8-574b-4ab3-8f01-98fb375d135c",
   "metadata": {},
   "outputs": [
    {
     "name": "stderr",
     "output_type": "stream",
     "text": [
      "/opt/conda/lib/python3.9/site-packages/pandas/core/generic.py:5516: SettingWithCopyWarning: \n",
      "A value is trying to be set on a copy of a slice from a DataFrame.\n",
      "Try using .loc[row_indexer,col_indexer] = value instead\n",
      "\n",
      "See the caveats in the documentation: https://pandas.pydata.org/pandas-docs/stable/user_guide/indexing.html#returning-a-view-versus-a-copy\n"
     ]
    }
   ],
   "source": [
    "# Lowercase previous caltrans nominations\n",
    "atp_shopp2.previous_caltrans_nominations = (\n",
    "    atp_shopp2.previous_caltrans_nominations.str.lower()\n",
    ")"
   ]
  },
  {
   "cell_type": "code",
   "execution_count": 12,
   "id": "861271c5-7843-4f05-85b9-bc7b6f384c33",
   "metadata": {},
   "outputs": [
    {
     "name": "stderr",
     "output_type": "stream",
     "text": [
      "/tmp/ipykernel_1422/2101408362.py:3: SettingWithCopyWarning: \n",
      "A value is trying to be set on a copy of a slice from a DataFrame.\n",
      "Try using .loc[row_indexer,col_indexer] = value instead\n",
      "\n",
      "See the caveats in the documentation: https://pandas.pydata.org/pandas-docs/stable/user_guide/indexing.html#returning-a-view-versus-a-copy\n"
     ]
    }
   ],
   "source": [
    "# Clean ATP\n",
    "atp_shopp2 = organization_cleaning(atp_shopp2, \"lead_agency\")"
   ]
  },
  {
   "cell_type": "code",
   "execution_count": 13,
   "id": "f6b4f1d5-8576-4551-8ce3-8ab77a8f9e63",
   "metadata": {
    "scrolled": true,
    "tags": []
   },
   "outputs": [],
   "source": [
    "# atp_shopp2.head(100)"
   ]
  },
  {
   "cell_type": "markdown",
   "id": "96241d8e-fa10-4c07-9159-a1d41b80fdb5",
   "metadata": {},
   "source": [
    "### TIRCP Prep\n",
    "* Filter out projects in which total cost equals total award "
   ]
  },
  {
   "cell_type": "code",
   "execution_count": 14,
   "id": "b58732d7-ca56-46ed-b7d1-0d41b4d9ff84",
   "metadata": {},
   "outputs": [],
   "source": [
    "# Read in TIRCP. Last updated November 2022.\n",
    "tircp = to_snakecase(\n",
    "    pd.read_excel(\n",
    "        \"gs://calitp-analytics-data/data-analyses/tircp/Tableau_Workbook.xlsx\"\n",
    "    )\n",
    ")"
   ]
  },
  {
   "cell_type": "code",
   "execution_count": 15,
   "id": "91556902-a9f6-4d19-921c-6c8f7de6d370",
   "metadata": {},
   "outputs": [],
   "source": [
    "# tircp.columns"
   ]
  },
  {
   "cell_type": "code",
   "execution_count": 16,
   "id": "d9f48b3b-2a22-4108-a525-3eb2fcbf6f1f",
   "metadata": {},
   "outputs": [],
   "source": [
    "# Subset TIRCP with only the basic information\n",
    "tircp_subset = [\n",
    "    \"award_year\",\n",
    "    \"grant_recipient\",\n",
    "    \"title\",\n",
    "    \"ppno\",\n",
    "    \"district\",\n",
    "    \"county\",\n",
    "    \"description\",\n",
    "    \"total__cost\",\n",
    "    \"tircp\",\n",
    "    \"award_cycle\",\n",
    "    \"on_shs?\",\n",
    "    \"comments_additional_contacts\",\n",
    "]"
   ]
  },
  {
   "cell_type": "code",
   "execution_count": 17,
   "id": "d772cd9a-c59f-4d37-920c-2ad1f7f64265",
   "metadata": {},
   "outputs": [],
   "source": [
    "tircp2 = tircp[tircp_subset]"
   ]
  },
  {
   "cell_type": "code",
   "execution_count": 18,
   "id": "5782e128-b6f7-451f-8cad-af9c0115e98c",
   "metadata": {},
   "outputs": [
    {
     "name": "stderr",
     "output_type": "stream",
     "text": [
      "/tmp/ipykernel_1422/2189071234.py:2: SettingWithCopyWarning: \n",
      "A value is trying to be set on a copy of a slice from a DataFrame.\n",
      "Try using .loc[row_indexer,col_indexer] = value instead\n",
      "\n",
      "See the caveats in the documentation: https://pandas.pydata.org/pandas-docs/stable/user_guide/indexing.html#returning-a-view-versus-a-copy\n"
     ]
    }
   ],
   "source": [
    "# Create a column with cycle + tircp for previous CT nominations\n",
    "tircp2[\"previous_caltrans_nominations\"] = (\n",
    "    \"TIRCP\" + \" Cycle \" + tircp2[\"award_cycle\"].astype(\"str\")\n",
    ")"
   ]
  },
  {
   "cell_type": "code",
   "execution_count": 19,
   "id": "682a34c6-76d6-4fcb-8a9e-ef1437469533",
   "metadata": {},
   "outputs": [
    {
     "name": "stderr",
     "output_type": "stream",
     "text": [
      "/tmp/ipykernel_1422/2212343423.py:2: SettingWithCopyWarning: \n",
      "A value is trying to be set on a copy of a slice from a DataFrame.\n",
      "Try using .loc[row_indexer,col_indexer] = value instead\n",
      "\n",
      "See the caveats in the documentation: https://pandas.pydata.org/pandas-docs/stable/user_guide/indexing.html#returning-a-view-versus-a-copy\n"
     ]
    }
   ],
   "source": [
    "# Create column for unmet needs\n",
    "tircp2[\"total_unfunded_need__$1,000\"] = tircp2[\"total__cost\"] - tircp2[\"tircp\"]"
   ]
  },
  {
   "cell_type": "code",
   "execution_count": 20,
   "id": "9910645c-7b2a-4d6d-9dac-a1113786ffca",
   "metadata": {},
   "outputs": [
    {
     "name": "stderr",
     "output_type": "stream",
     "text": [
      "/tmp/ipykernel_1422/2822305151.py:3: SettingWithCopyWarning: \n",
      "A value is trying to be set on a copy of a slice from a DataFrame.\n",
      "Try using .loc[row_indexer,col_indexer] = value instead\n",
      "\n",
      "See the caveats in the documentation: https://pandas.pydata.org/pandas-docs/stable/user_guide/indexing.html#returning-a-view-versus-a-copy\n"
     ]
    }
   ],
   "source": [
    "# Perhaps to narrow down projects\n",
    "# Figure out which TIRCP projects' total cost are completely covered by TIRCP requested\n",
    "tircp2[\"total_cost_vs_tircp_req\"] = tircp2[\"tircp\"] / tircp2[\"total__cost\"]"
   ]
  },
  {
   "cell_type": "code",
   "execution_count": 21,
   "id": "972a6e04-7d07-42a6-9ae3-764051f14ee3",
   "metadata": {
    "scrolled": true,
    "tags": []
   },
   "outputs": [],
   "source": [
    "# tircp2.total_cost_vs_tircp_req.value_counts()"
   ]
  },
  {
   "cell_type": "code",
   "execution_count": 22,
   "id": "7eb933ed-977f-430d-88c3-6d46293403d6",
   "metadata": {},
   "outputs": [],
   "source": [
    "# Filter out projects in which total cost equals total award\n",
    "tircp2 = (tircp2.loc[tircp2.total_cost_vs_tircp_req != 1]).reset_index(drop=True)"
   ]
  },
  {
   "cell_type": "code",
   "execution_count": 23,
   "id": "003abcb7-2179-4edf-831a-0cd5bba49bad",
   "metadata": {},
   "outputs": [],
   "source": [
    "# Drop some columns\n",
    "tircp_cols_drop = [\"tircp\", \"total_cost_vs_tircp_req\", \"award_cycle\"]"
   ]
  },
  {
   "cell_type": "code",
   "execution_count": 24,
   "id": "c44b9a50-d0eb-4658-bebc-799264b50262",
   "metadata": {},
   "outputs": [],
   "source": [
    "tircp2 = tircp2.drop(columns=tircp_cols_drop)"
   ]
  },
  {
   "cell_type": "code",
   "execution_count": 25,
   "id": "206297b2-cdc8-446d-8f7c-3407105fab95",
   "metadata": {},
   "outputs": [
    {
     "data": {
      "text/plain": [
       "(93, 12)"
      ]
     },
     "execution_count": 25,
     "metadata": {},
     "output_type": "execute_result"
    }
   ],
   "source": [
    "tircp2.shape"
   ]
  },
  {
   "cell_type": "markdown",
   "id": "56a85a4c-c620-49e1-9e4c-81b3ef6e7ac8",
   "metadata": {},
   "source": [
    "#### Get current phase & amounts."
   ]
  },
  {
   "cell_type": "code",
   "execution_count": 26,
   "id": "5deb8193-f0b8-4244-9e6b-614d05830ead",
   "metadata": {},
   "outputs": [
    {
     "name": "stderr",
     "output_type": "stream",
     "text": [
      "/tmp/ipykernel_1422/3824326962.py:2: FutureWarning: Inferring datetime64[ns] from data containing strings is deprecated and will be removed in a future version. To retain the old behavior explicitly pass Series(data, dtype={value.dtype})\n"
     ]
    }
   ],
   "source": [
    "allocation = to_snakecase(\n",
    "    pd.read_excel(\n",
    "        f\"gs://calitp-analytics-data/data-analyses/tircp/clean_tircp.xlsx\",\n",
    "        sheet_name=\"clean_allocation\",\n",
    "    )\n",
    ")"
   ]
  },
  {
   "cell_type": "code",
   "execution_count": 27,
   "id": "0bfc76f9-5eec-4f27-bea4-b8f0f8a5c753",
   "metadata": {},
   "outputs": [],
   "source": [
    "# allocation.isna().sum()"
   ]
  },
  {
   "cell_type": "code",
   "execution_count": 28,
   "id": "4ecb04a7-9cec-45b6-ba7a-1b05906137e5",
   "metadata": {},
   "outputs": [],
   "source": [
    "# Subset - date is allocation date and has the least # of missing values in the date field\n",
    "allocation2 = allocation[[\"award_year\", \"ppno\", \"phase\", \"date\"]]"
   ]
  },
  {
   "cell_type": "code",
   "execution_count": 29,
   "id": "ff78feda-20e1-4ba9-a791-cf4cd04c99a3",
   "metadata": {},
   "outputs": [],
   "source": [
    "# Find the most recent allocation date & phase.\n",
    "allocation3 = (\n",
    "    allocation2.groupby([\"award_year\", \"ppno\", \"phase\"]).agg({\"date\": \"max\"})\n",
    ").reset_index()"
   ]
  },
  {
   "cell_type": "code",
   "execution_count": 30,
   "id": "1f8d4abd-9e4d-4b07-80b5-7bebacd3e70c",
   "metadata": {},
   "outputs": [],
   "source": [
    "# Only keep the most recent allocation date & phase.\n",
    "allocation3 = allocation3.sort_values(\n",
    "    [\"ppno\", \"date\"], ascending=[True, False]\n",
    ").drop_duplicates(\"ppno\")"
   ]
  },
  {
   "cell_type": "code",
   "execution_count": 31,
   "id": "65e0b008-3fa4-4cc4-ac11-9e15bce5edb1",
   "metadata": {},
   "outputs": [],
   "source": [
    "# Drop date\n",
    "allocation3 = allocation3.drop(columns=[\"date\"])"
   ]
  },
  {
   "cell_type": "code",
   "execution_count": 32,
   "id": "35c43b35-1e9b-46c4-932f-6aa0e2f00feb",
   "metadata": {},
   "outputs": [],
   "source": [
    "# Merge\n",
    "tircp2 = pd.merge(\n",
    "    tircp2,\n",
    "    allocation3,\n",
    "    how=\"left\",\n",
    "    on=[\"ppno\", \"award_year\"],\n",
    ")"
   ]
  },
  {
   "cell_type": "code",
   "execution_count": 33,
   "id": "e81d13c1-adc5-4e6c-b756-40fc308e9335",
   "metadata": {},
   "outputs": [
    {
     "data": {
      "text/plain": [
       "93"
      ]
     },
     "execution_count": 33,
     "metadata": {},
     "output_type": "execute_result"
    }
   ],
   "source": [
    "len(tircp2)"
   ]
  },
  {
   "cell_type": "markdown",
   "id": "209663bb-9b81-4977-92fd-0d7b8e5100c5",
   "metadata": {},
   "source": [
    "#### Harmonize the way columns are named/formatted.\n",
    "* TIRCP: `Total_cost` and `unmet needs` should be floats and divided by 1000. `District` should be int64. "
   ]
  },
  {
   "cell_type": "code",
   "execution_count": 34,
   "id": "e7d3bc6f-3660-45f5-97ca-1171b25a6b41",
   "metadata": {},
   "outputs": [
    {
     "data": {
      "text/plain": [
       "(242, 814)"
      ]
     },
     "execution_count": 34,
     "metadata": {},
     "output_type": "execute_result"
    }
   ],
   "source": [
    "atp_shopp2.previous_caltrans_nominations.nunique(), len(atp_shopp2)"
   ]
  },
  {
   "cell_type": "code",
   "execution_count": 35,
   "id": "d6155648-fe73-4d3c-a4a7-c95f9d682410",
   "metadata": {
    "scrolled": true,
    "tags": []
   },
   "outputs": [],
   "source": [
    "# Find projects that have DRMT in previous caltrans nominations\n",
    "# The CT nominations column has been casted to lower case. \n",
    "atp_shopp_drmt = (\n",
    "    atp_shopp2[atp_shopp2[\"previous_caltrans_nominations\"].str.contains((\"tircp|drmt\"))]\n",
    ").reset_index(drop=True)"
   ]
  },
  {
   "cell_type": "code",
   "execution_count": 36,
   "id": "86db0fc2-43c1-4ada-a304-b1fed8014368",
   "metadata": {},
   "outputs": [],
   "source": [
    "# Check out that the filtering was correct.\n",
    "# atp_shopp_drmt.previous_caltrans_nominations.value_counts()"
   ]
  },
  {
   "cell_type": "code",
   "execution_count": 37,
   "id": "8aa7dac1-bec7-404d-8929-02c7fbd314af",
   "metadata": {},
   "outputs": [],
   "source": [
    "# Natalie's function\n",
    "def align_funding_numbers(df, list_of_cols):\n",
    "    for col in list_of_cols:\n",
    "        df[col] = df[col] / 1000\n",
    "\n",
    "    return df"
   ]
  },
  {
   "cell_type": "code",
   "execution_count": 38,
   "id": "c61b5e48-e4d9-4338-a1dc-1171c1e87ce5",
   "metadata": {},
   "outputs": [],
   "source": [
    "tircp2 = align_funding_numbers(\n",
    "    tircp2,\n",
    "    [\n",
    "        \"total_unfunded_need__$1,000\",\n",
    "        \"total__cost\",\n",
    "    ],\n",
    ")"
   ]
  },
  {
   "cell_type": "code",
   "execution_count": 39,
   "id": "84bf700b-c053-4a05-a8ef-a738814945a7",
   "metadata": {},
   "outputs": [],
   "source": [
    "# (tircp2[[\"total_unfunded_need__$1,000\"]]/1000).astype('int64')*1000"
   ]
  },
  {
   "cell_type": "code",
   "execution_count": 40,
   "id": "8046f854-af91-4cde-bd3a-b7d3b0708147",
   "metadata": {},
   "outputs": [],
   "source": [
    "tircp2[[\"total_unfunded_need__$1,000\", \"total__cost\",]] = tircp2[\n",
    "    [\n",
    "        \"total_unfunded_need__$1,000\",\n",
    "        \"total__cost\",\n",
    "    ]\n",
    "].fillna(0)"
   ]
  },
  {
   "cell_type": "code",
   "execution_count": 41,
   "id": "75035054-4c67-417c-91ab-810cb81e75a9",
   "metadata": {},
   "outputs": [],
   "source": [
    "tircp2[\"district_full_name\"] = tircp2[\"district\"]"
   ]
  },
  {
   "cell_type": "code",
   "execution_count": 42,
   "id": "3a354c4e-f069-40e7-9af5-7f4a2312b196",
   "metadata": {},
   "outputs": [],
   "source": [
    "# Extract digit from district. Fill \"Various\" districts with \"0\" and change to int64\n",
    "tircp2[\"district\"] = tircp2[\"district\"].str.extract(\"(\\d+)\").fillna(0).astype(\"int64\")"
   ]
  },
  {
   "cell_type": "code",
   "execution_count": 43,
   "id": "e8b8da34-2011-49e1-a4bf-f7f9f5625fd3",
   "metadata": {},
   "outputs": [],
   "source": [
    "# Rename columns\n",
    "tircp_new_cols = {\n",
    "    \"grant_recipient\": \"lead_agency\",\n",
    "    \"title\": \"project_name\",\n",
    "    \"county\": \"full_county_name\",\n",
    "    \"description\": \"project_description\",\n",
    "    \"total__cost\": \"total_project_cost__$1,000\",\n",
    "    \"on_shs?\": \"shs_capacity_increase_detail\",\n",
    "    \"comments_additional_contacts\": \"notes\",\n",
    "    \"phase\": \"current_phase\",\n",
    "}"
   ]
  },
  {
   "cell_type": "code",
   "execution_count": 44,
   "id": "7919d1b1-9e22-43b0-ab92-d46ea3e87bcb",
   "metadata": {},
   "outputs": [],
   "source": [
    "# atp_shopp_drmt.info(), tircp2.info()"
   ]
  },
  {
   "cell_type": "code",
   "execution_count": 45,
   "id": "566af02a-aea5-41b8-b0a7-06b27a9175b4",
   "metadata": {},
   "outputs": [],
   "source": [
    "tircp2 = tircp2.rename(columns=tircp_new_cols)"
   ]
  },
  {
   "cell_type": "code",
   "execution_count": 46,
   "id": "b892dc7e-10b5-4f47-a306-6895a1384af9",
   "metadata": {},
   "outputs": [],
   "source": [
    "# Drop columns\n",
    "tircp2 = tircp2.drop(columns=[\"award_year\"])"
   ]
  },
  {
   "cell_type": "code",
   "execution_count": 47,
   "id": "9f2edd46-937c-47a2-9a2c-506acb677126",
   "metadata": {},
   "outputs": [],
   "source": [
    "# Add column for primary mode.\n",
    "tircp2[\"primary_mode\"] = \"Transit/Zev/Rail (Passenger)\""
   ]
  },
  {
   "cell_type": "code",
   "execution_count": 48,
   "id": "d43ecf31-ad12-45a3-86ee-19fbe366af89",
   "metadata": {},
   "outputs": [
    {
     "data": {
      "text/plain": [
       "Index(['lead_agency', 'project_name', 'ppno', 'district', 'full_county_name',\n",
       "       'project_description', 'total_project_cost__$1,000',\n",
       "       'shs_capacity_increase_detail', 'notes',\n",
       "       'previous_caltrans_nominations', 'total_unfunded_need__$1,000',\n",
       "       'current_phase', 'district_full_name', 'primary_mode'],\n",
       "      dtype='object')"
      ]
     },
     "execution_count": 48,
     "metadata": {},
     "output_type": "execute_result"
    }
   ],
   "source": [
    "tircp2.columns"
   ]
  },
  {
   "cell_type": "code",
   "execution_count": 49,
   "id": "fd71f573-2fe6-4a79-823a-e27690e44544",
   "metadata": {},
   "outputs": [],
   "source": [
    "district_replace = {\n",
    "    \"District 7: Los Angeles\": \"07 - Los Angeles\",\n",
    "    \"District 4: Bay Area / Oakland\": \"04 - Oakland\",\n",
    "    \"District 5: San Luis Obispo / Santa Barbara\": \"05 - San Luis Obispo\",\n",
    "    \"District 12: Orange County\": \"12 - Irvine\",\n",
    "    \"District 3: Marysville / Sacramento\": \"03 - Marysville\",\n",
    "    \"District 11: San Diego\": \"11 - San Diego\",\n",
    "    \"District 10: Stockton\": \"10 - Stockton\",\n",
    "    \"District 6: Fresno / Bakersfield\": \"06 - Fresno\",\n",
    "    \"District 8: San Bernardino / Riverside\": \"08 - San Bernardino\",\n",
    "    \"District 2:Redding\": \"02 - Redding\",\n",
    "    \"District 1: Eureka\": \"01 - Eureka\",\n",
    "}"
   ]
  },
  {
   "cell_type": "code",
   "execution_count": 50,
   "id": "e93416a9-6bad-4c23-9f9b-d0150da4f404",
   "metadata": {},
   "outputs": [],
   "source": [
    "# Replace district name to match\n",
    "tircp2.district = tircp2.district.replace(district_replace)"
   ]
  },
  {
   "cell_type": "markdown",
   "id": "096a1d7d-9977-4fbb-9bfb-d35fda70d2f1",
   "metadata": {},
   "source": [
    "### Find TIRCP projects that are already in the 10 year Non SHOPP. "
   ]
  },
  {
   "cell_type": "markdown",
   "id": "bfd690a2-b799-4b69-bb56-9ee7ad8038e9",
   "metadata": {},
   "source": [
    "#### Test with Merges\n",
    "* Zero merges across the board. "
   ]
  },
  {
   "cell_type": "code",
   "execution_count": 51,
   "id": "e18a2ae0-f833-40d8-9ba3-0ad63c5f5304",
   "metadata": {},
   "outputs": [],
   "source": [
    "# Make a copy of tircp\n",
    "# tircp_test = tircp2.copy()"
   ]
  },
  {
   "cell_type": "code",
   "execution_count": 52,
   "id": "b7a6d4b5-6f10-459a-8b81-53a0a5bee8c6",
   "metadata": {},
   "outputs": [],
   "source": [
    "# Round numbers\n",
    "# tircp_test[\"total_unfunded_need__$1,000\"] = (tircp_test[[\"total_unfunded_need__$1,000\"]]/1000).astype('int64')*1000"
   ]
  },
  {
   "cell_type": "code",
   "execution_count": 53,
   "id": "8664892c-1858-45f7-850c-c0c55aee2efb",
   "metadata": {},
   "outputs": [],
   "source": [
    "# tircp_test[\"total_project_cost__$1,000\"] = (tircp_test[[\"total_project_cost__$1,000\"]]/1000).astype('int64')*1000"
   ]
  },
  {
   "cell_type": "code",
   "execution_count": 54,
   "id": "0dee73f8-f072-4362-b78b-a8180d2896f7",
   "metadata": {},
   "outputs": [],
   "source": [
    "# atp_shopp_drmt[\"total_project_cost__$1,000\"] = ((atp_shopp_drmt[[\"total_project_cost__$1,000\"]]/1000).astype('int64')*1000).astype('int64')\n",
    "# atp_shopp_drmt[\"total_project_cost__$1,000\"] = ((atp_shopp_drmt[[\"total_project_cost__$1,000\"]]/1000).astype('int64')*1000).astype('int64')"
   ]
  },
  {
   "cell_type": "code",
   "execution_count": 55,
   "id": "9bb2b535-ed53-4ee7-a0d2-5ed36d816cad",
   "metadata": {},
   "outputs": [],
   "source": [
    "# Merge on district and unfunded needs\n",
    "# test1 = pd.merge(atp_shopp_drmt, tircp2, how= \"outer\", on=[\"district\", \"total_unfunded_need__$1,000\"], indicator = True)"
   ]
  },
  {
   "cell_type": "code",
   "execution_count": 56,
   "id": "081af521-a523-4bfd-9ef5-6e55ab6bf413",
   "metadata": {},
   "outputs": [],
   "source": [
    "# test1._merge.value_counts()"
   ]
  },
  {
   "cell_type": "code",
   "execution_count": 57,
   "id": "3b716695-f3b9-455c-afa1-e543de6657a2",
   "metadata": {},
   "outputs": [],
   "source": [
    "# Merge on county and unfunded needs\n",
    "# test2 = pd.merge(atp_shopp_drmt, tircp2, how= \"left\", on=[\"full_county_name\", \"total_unfunded_need__$1,000\"], indicator = True, suffixes = [\"_shopp\", \"_tircp\"])"
   ]
  },
  {
   "cell_type": "code",
   "execution_count": 58,
   "id": "3d8741cd-40a2-49ad-8dc7-e922903f278d",
   "metadata": {},
   "outputs": [],
   "source": [
    "# test2._merge.value_counts()"
   ]
  },
  {
   "cell_type": "code",
   "execution_count": 59,
   "id": "afdd6d7f-ca92-4314-9009-23a736d274c5",
   "metadata": {},
   "outputs": [],
   "source": [
    "# test2.loc[test2._merge == \"both\"][[\"project_name_shopp\",\"project_name_tircp\", \"full_county_name\", \"project_description_shopp\",\"project_description_tircp\"]]"
   ]
  },
  {
   "cell_type": "code",
   "execution_count": 60,
   "id": "5cd991f8-8dea-4eee-a56f-bb6908f8df70",
   "metadata": {},
   "outputs": [],
   "source": [
    "# Merge on district and total costs\n",
    "# test2 = pd.merge(atp_shopp_drmt, tircp2, how= \"outer\", on=[\"district\", \"total_project_cost__$1,000\"], indicator = True)"
   ]
  },
  {
   "cell_type": "markdown",
   "id": "3ca8739f-73dc-4c14-b3ef-c88ace71b133",
   "metadata": {},
   "source": [
    "#### Observation: \n",
    "* Total Project Cost, project titles, lead agency, and districts are potentially listed differently across datasets.\n",
    "* Inglewood Transit Connector Project\t  is listed as $1,016,000.000 in TIRCP but 1,666,466.0 in non SHOPP.\n",
    "    * City Of Inglewood is the grant recipient in TIRCP but Caltrans is the lead agency in Non SHOPP.\n",
    "* Valley Rail Expansion: Altamont Corridor Express (ACE) Ceres to Turlock Extension (the TIRCP title) is listed as D6 in TIRCP but D10 in Stanislaus.\n",
    "    * Fresno Subdivision (Ceres To Turlock) Double Tracking is the non SHOPP title."
   ]
  },
  {
   "cell_type": "code",
   "execution_count": 61,
   "id": "1884f7bf-ab50-4a98-81c0-e3de3429169d",
   "metadata": {},
   "outputs": [],
   "source": [
    "tircp_already_entered = [\n",
    "    \"Inglewood Transit Connector Project\",\n",
    "    \"Valley Rail Expansion: Altamont Corridor Express (ACE) Ceres to Turlock Extension\",\n",
    "]"
   ]
  },
  {
   "cell_type": "code",
   "execution_count": 120,
   "id": "87384c4a-6815-4cc2-9120-1ed1509916bd",
   "metadata": {},
   "outputs": [
    {
     "data": {
      "text/html": [
       "<div>\n",
       "<style scoped>\n",
       "    .dataframe tbody tr th:only-of-type {\n",
       "        vertical-align: middle;\n",
       "    }\n",
       "\n",
       "    .dataframe tbody tr th {\n",
       "        vertical-align: top;\n",
       "    }\n",
       "\n",
       "    .dataframe thead th {\n",
       "        text-align: right;\n",
       "    }\n",
       "</style>\n",
       "<table border=\"1\" class=\"dataframe\">\n",
       "  <thead>\n",
       "    <tr style=\"text-align: right;\">\n",
       "      <th></th>\n",
       "      <th>district</th>\n",
       "      <th>description</th>\n",
       "    </tr>\n",
       "  </thead>\n",
       "  <tbody>\n",
       "    <tr>\n",
       "      <th>59</th>\n",
       "      <td>District 7: Los Angeles</td>\n",
       "      <td>Construction of a 1.6-mile electrically powered automated people mover (APM) system and three new stations in the City of Inglewood. The project will create a new connection for passengers directly from the LA Metro Crenshaw/LAX Line’s Downtown Inglewood Station to new housing and employment centers, and regionally serving sports and entertainment including the Los Angeles Sports and Entertainment District (LASED) at Hollywood Park/SoFi Stadium and the proposed Inglewood Basketball and Entertainment Center (IBEC) Project. The project will connect the City of Inglewood’s high growth areas with LA Metro’s regional rail system.</td>\n",
       "    </tr>\n",
       "    <tr>\n",
       "      <th>91</th>\n",
       "      <td>District 6: Fresno / Bakersfield</td>\n",
       "      <td>Extends ACE from Ceres to Turlock, which is an interim phase of the Ceres to Merced extension. Includes a new Turlock Station and layover track, and provides a direct connection with Turlock Transit</td>\n",
       "    </tr>\n",
       "  </tbody>\n",
       "</table>\n",
       "</div>"
      ],
      "text/plain": [
       "                            district  \\\n",
       "59           District 7: Los Angeles   \n",
       "91  District 6: Fresno / Bakersfield   \n",
       "\n",
       "                                                                                                                                                                                                                                                                                                                                                                                                                                                                                                                                                                                                                                                 description  \n",
       "59  Construction of a 1.6-mile electrically powered automated people mover (APM) system and three new stations in the City of Inglewood. The project will create a new connection for passengers directly from the LA Metro Crenshaw/LAX Line’s Downtown Inglewood Station to new housing and employment centers, and regionally serving sports and entertainment including the Los Angeles Sports and Entertainment District (LASED) at Hollywood Park/SoFi Stadium and the proposed Inglewood Basketball and Entertainment Center (IBEC) Project. The project will connect the City of Inglewood’s high growth areas with LA Metro’s regional rail system.  \n",
       "91                                                                                                                                                                                                                                                                                                                                                                                                                                                    Extends ACE from Ceres to Turlock, which is an interim phase of the Ceres to Merced extension. Includes a new Turlock Station and layover track, and provides a direct connection with Turlock Transit  "
      ]
     },
     "execution_count": 120,
     "metadata": {},
     "output_type": "execute_result"
    }
   ],
   "source": [
    "tircp.loc[tircp.title.isin(tircp_already_entered)][['district','description']]"
   ]
  },
  {
   "cell_type": "code",
   "execution_count": 121,
   "id": "8e02f629-88c7-4f2f-b4a7-67b2708de360",
   "metadata": {},
   "outputs": [
    {
     "data": {
      "text/html": [
       "<div>\n",
       "<style scoped>\n",
       "    .dataframe tbody tr th:only-of-type {\n",
       "        vertical-align: middle;\n",
       "    }\n",
       "\n",
       "    .dataframe tbody tr th {\n",
       "        vertical-align: top;\n",
       "    }\n",
       "\n",
       "    .dataframe thead th {\n",
       "        text-align: right;\n",
       "    }\n",
       "</style>\n",
       "<table border=\"1\" class=\"dataframe\">\n",
       "  <thead>\n",
       "    <tr style=\"text-align: right;\">\n",
       "      <th></th>\n",
       "      <th>project_name</th>\n",
       "      <th>district</th>\n",
       "      <th>project_description</th>\n",
       "      <th>primary_mode</th>\n",
       "      <th>previous_caltrans_nominations</th>\n",
       "    </tr>\n",
       "  </thead>\n",
       "  <tbody>\n",
       "    <tr>\n",
       "      <th>4</th>\n",
       "      <td>Los Angeles Metro Light Rail Capital, Operational And Rehabilitation Enhancements (Core) Capacity &amp; System Integration Project</td>\n",
       "      <td>7</td>\n",
       "      <td>The project will eliminate a two-car capacity constraint on the integrated Crenshaw/LAX and Green (C) light rail lines, which operate within the congested I-405 and I-105 corridors and the area around Los Angeles International Airport (LAX), by:\\n1) Extending the aerial platforms at four Green Line stations (Redondo Beach, Douglas, Mariposa, and Aviation/LAX)\\n2) State of good repair work and station improvements at all of those four stations plus El Segundo Station\\n3) Adding two new traction power substations (TPSS) on the Crenshaw/LAX Line in the cities of Inglewood and Los Angeles</td>\n",
       "      <td>Rail (Passenger)</td>\n",
       "      <td>sccp cycle 3 priority 13 of 14\\nnot awarded tircp</td>\n",
       "    </tr>\n",
       "    <tr>\n",
       "      <th>6</th>\n",
       "      <td>Inglewood Transit Connector (Itc) Project</td>\n",
       "      <td>7</td>\n",
       "      <td>The Project consists of an approximately 1.6-mile fully elevated transit system in the City of Inglewood with three transit station connecting passengers from the Metro Crenshaw/LAX (K) Line to the City's new housing and employment centers and sports and entertainment venues. The Project is primarily located along Market Street, Manchester Boulevard and Prairie Avenue and includes a fully elevated guideway and supporting infrastructure, automated trains, a maintenance and storage facility, power distribution substations, and new public parking lots.</td>\n",
       "      <td>Transit</td>\n",
       "      <td>tircp award was downscaled\\nsccp cycle 3 priority 05 of 14\\nawarded raise 2022 (not caltrans)</td>\n",
       "    </tr>\n",
       "    <tr>\n",
       "      <th>7</th>\n",
       "      <td>Fresno Subdivision (Ceres To Turlock) Double Tracking</td>\n",
       "      <td>10</td>\n",
       "      <td>Construct double tracking of 8.1 miles of existing single-track UPRR mainline rail corridor to alleviate congestion, increase capacity, improve safety, and allow for more efficient freight rail movement. A secondary benefit is the project is also necessary for the extension of Altamont Corridor Express (ACE) passenger rail services from Ceres to Turlock.</td>\n",
       "      <td>Rail (Freight)</td>\n",
       "      <td>tircp 2021  application - pending award\\ninfra 2022 application - pending award\\ntcep cycle 3 priority 04 of 24\\nmpdg los 2022 signed</td>\n",
       "    </tr>\n",
       "  </tbody>\n",
       "</table>\n",
       "</div>"
      ],
      "text/plain": [
       "                                                                                                                     project_name  \\\n",
       "4  Los Angeles Metro Light Rail Capital, Operational And Rehabilitation Enhancements (Core) Capacity & System Integration Project   \n",
       "6                                                                                       Inglewood Transit Connector (Itc) Project   \n",
       "7                                                                           Fresno Subdivision (Ceres To Turlock) Double Tracking   \n",
       "\n",
       "   district  \\\n",
       "4         7   \n",
       "6         7   \n",
       "7        10   \n",
       "\n",
       "                                                                                                                                                                                                                                                                                                                                                                                                                                                                                                                                                                                               project_description  \\\n",
       "4  The project will eliminate a two-car capacity constraint on the integrated Crenshaw/LAX and Green (C) light rail lines, which operate within the congested I-405 and I-105 corridors and the area around Los Angeles International Airport (LAX), by:\\n1) Extending the aerial platforms at four Green Line stations (Redondo Beach, Douglas, Mariposa, and Aviation/LAX)\\n2) State of good repair work and station improvements at all of those four stations plus El Segundo Station\\n3) Adding two new traction power substations (TPSS) on the Crenshaw/LAX Line in the cities of Inglewood and Los Angeles   \n",
       "6                                      The Project consists of an approximately 1.6-mile fully elevated transit system in the City of Inglewood with three transit station connecting passengers from the Metro Crenshaw/LAX (K) Line to the City's new housing and employment centers and sports and entertainment venues. The Project is primarily located along Market Street, Manchester Boulevard and Prairie Avenue and includes a fully elevated guideway and supporting infrastructure, automated trains, a maintenance and storage facility, power distribution substations, and new public parking lots.   \n",
       "7                                                                                                                                                                                                                                             Construct double tracking of 8.1 miles of existing single-track UPRR mainline rail corridor to alleviate congestion, increase capacity, improve safety, and allow for more efficient freight rail movement. A secondary benefit is the project is also necessary for the extension of Altamont Corridor Express (ACE) passenger rail services from Ceres to Turlock.   \n",
       "\n",
       "       primary_mode  \\\n",
       "4  Rail (Passenger)   \n",
       "6           Transit   \n",
       "7    Rail (Freight)   \n",
       "\n",
       "                                                                                                           previous_caltrans_nominations  \n",
       "4                                                                                      sccp cycle 3 priority 13 of 14\\nnot awarded tircp  \n",
       "6                                          tircp award was downscaled\\nsccp cycle 3 priority 05 of 14\\nawarded raise 2022 (not caltrans)  \n",
       "7  tircp 2021  application - pending award\\ninfra 2022 application - pending award\\ntcep cycle 3 priority 04 of 24\\nmpdg los 2022 signed  "
      ]
     },
     "execution_count": 121,
     "metadata": {},
     "output_type": "execute_result"
    }
   ],
   "source": [
    "# Projects with only TIRCP in the previous nomination.\n",
    "atp_shopp_drmt[atp_shopp_drmt[\"previous_caltrans_nominations\"].str.contains((\"tircp\"))][['project_name','district','project_description','primary_mode','previous_caltrans_nominations']]"
   ]
  },
  {
   "cell_type": "code",
   "execution_count": 63,
   "id": "bc85ae55-080c-4c06-a38c-80dcedb7f463",
   "metadata": {
    "scrolled": true,
    "tags": []
   },
   "outputs": [],
   "source": [
    "# Delete TIRCP projects that are already in non SHOPP\n",
    "# One project below in non SHOPP mentions TIRCP but that project\n",
    "# was ultimately not nominated.\n",
    "tircp2 = (tircp2[~tircp2[\"project_name\"].isin(tircp_already_entered)]).reset_index(\n",
    "    drop=True\n",
    ")"
   ]
  },
  {
   "cell_type": "code",
   "execution_count": 64,
   "id": "ed2fe568-d816-4b68-862c-916a1d174b65",
   "metadata": {},
   "outputs": [
    {
     "data": {
      "text/plain": [
       "91"
      ]
     },
     "execution_count": 64,
     "metadata": {},
     "output_type": "execute_result"
    }
   ],
   "source": [
    "len(tircp2)"
   ]
  },
  {
   "cell_type": "code",
   "execution_count": 66,
   "id": "27b67771-a209-4feb-acb2-7b5edd04bc0a",
   "metadata": {
    "scrolled": true,
    "tags": []
   },
   "outputs": [],
   "source": [
    "# atp_shopp_drmt[atp_shopp_drmt[\"previous_caltrans_nominations\"].str.contains((\"tircp\"))].drop(columns = \"notes\")"
   ]
  },
  {
   "cell_type": "markdown",
   "id": "d181517d-464e-4fbf-b53f-9d91f6de02cf",
   "metadata": {},
   "source": [
    "#### Test with Project Names"
   ]
  },
  {
   "cell_type": "code",
   "execution_count": 67,
   "id": "a3d51990-832b-4085-b272-669174c5a9d3",
   "metadata": {},
   "outputs": [],
   "source": [
    "# tircp2[\"project_test\"] = tircp2[\"project_name\"]"
   ]
  },
  {
   "cell_type": "code",
   "execution_count": 68,
   "id": "b60d9694-cd93-4089-bc51-1b853ed8b44f",
   "metadata": {},
   "outputs": [],
   "source": [
    "# atp_shopp_drmt[\"project_test\"] = atp_shopp_drmt[\"project_name\"]"
   ]
  },
  {
   "cell_type": "code",
   "execution_count": 69,
   "id": "1779e25b-e302-484f-9740-4cc7162f5bdb",
   "metadata": {},
   "outputs": [],
   "source": [
    "def simplify_project_names(df, column_wanted: str):\n",
    "    df[column_wanted] = (\n",
    "        df[column_wanted]\n",
    "        .str.strip()\n",
    "        .str.lower()\n",
    "        .str.replace(\"/\", \"\")\n",
    "        .str.replace(\"-\", \"\")\n",
    "        .str.replace(\"!\", \"\")\n",
    "        .str.replace(\"&\", \"\")\n",
    "        .str.replace(\"#\", \"\")\n",
    "        .str.replace(\"(\", \"\")\n",
    "        .str.replace(\")\", \"\")\n",
    "        .str.replace(\":\", \"\")\n",
    "        .str.replace(\"the\", \"\")\n",
    "        .str.strip()  # strip again after getting rid of certain things\n",
    "    )\n",
    "    return df"
   ]
  },
  {
   "cell_type": "code",
   "execution_count": 70,
   "id": "13a0beb2-fb7a-40b6-8725-ae7dfe043221",
   "metadata": {},
   "outputs": [],
   "source": [
    "# tircp2 = simplify_project_names(tircp2, \"project_test\")"
   ]
  },
  {
   "cell_type": "code",
   "execution_count": 71,
   "id": "77698d2e-ed0f-4a50-80a2-8e6651fc86cf",
   "metadata": {},
   "outputs": [],
   "source": [
    "# atp_shopp_drmt = simplify_project_names(atp_shopp_drmt, \"project_test\")"
   ]
  },
  {
   "cell_type": "code",
   "execution_count": 72,
   "id": "771563fd-ef89-400c-87fd-4ea22ba8e170",
   "metadata": {
    "scrolled": true,
    "tags": []
   },
   "outputs": [],
   "source": [
    "# atp_shopp_drmt[[\"project_name\",\"project_test\"]].sort_values(by = [\"project_name\"])"
   ]
  },
  {
   "cell_type": "code",
   "execution_count": 73,
   "id": "07c7c782-2091-4fa8-bb17-461210bda2ed",
   "metadata": {},
   "outputs": [],
   "source": [
    "# Merge on project names\n",
    "# test3 = pd.merge(atp_shopp_drmt, tircp2, how= \"outer\", on=[\"project_test\"], indicator = True, suffixes = [\"_shopp\", \"_tircp\"] )"
   ]
  },
  {
   "cell_type": "code",
   "execution_count": 74,
   "id": "1cadc113-4e40-47bc-a9fe-fa9c7a236225",
   "metadata": {},
   "outputs": [],
   "source": [
    "# test3._merge.value_counts()"
   ]
  },
  {
   "cell_type": "code",
   "execution_count": 75,
   "id": "d339dafd-9b46-485d-830f-f03b9fcf9457",
   "metadata": {
    "scrolled": true,
    "tags": []
   },
   "outputs": [],
   "source": [
    "# atp_shopp_drmt[[\"project_test\"]].sort_values(\"project_test\")"
   ]
  },
  {
   "cell_type": "code",
   "execution_count": 76,
   "id": "79fcc908-95b4-4c5d-8d49-69e9684f36d5",
   "metadata": {
    "scrolled": true,
    "tags": []
   },
   "outputs": [],
   "source": [
    "# tircp2[[\"project_test\"]].sort_values(\"project_test\")"
   ]
  },
  {
   "cell_type": "markdown",
   "id": "e9aeddb1-686d-4a61-a5fb-d09fe50ee310",
   "metadata": {
    "tags": []
   },
   "source": [
    "#### Test 1 with Fuzzy Matching on Project Names\n",
    "* Unsuccessful with project names. Only 2 matches and after looking at descriptions/districts manually, they aren't similar enough."
   ]
  },
  {
   "cell_type": "code",
   "execution_count": 77,
   "id": "97a0a86a-936c-4f16-927f-f8da313bd310",
   "metadata": {},
   "outputs": [],
   "source": [
    "# Replace all rows in agency column with a min ratio with  \"string_to_match value\"\n",
    "def replace_matches_in_column(df, column, new_col_name, string_to_match, min_ratio):\n",
    "    # Get a list of unique strings\n",
    "    strings = df[column].unique()\n",
    "\n",
    "    # Get the top 10 closest matches to our input string\n",
    "    matches = fuzzywuzzy.process.extract(\n",
    "        string_to_match, strings, limit=10, scorer=fuzzywuzzy.fuzz.token_sort_ratio\n",
    "    )\n",
    "\n",
    "    # Only get matches with a  min ratio\n",
    "    close_matches = [matches[0] for matches in matches if matches[1] > min_ratio]\n",
    "\n",
    "    # Get the rows of all the close matches in our dataframe\n",
    "    rows_with_matches = df[column].isin(close_matches)\n",
    "\n",
    "    # replace all rows with close matches with the input matches\n",
    "    df.loc[rows_with_matches, new_col_name] = string_to_match"
   ]
  },
  {
   "cell_type": "code",
   "execution_count": 78,
   "id": "f51fea69-60b9-4599-b637-69acf0e76aa1",
   "metadata": {},
   "outputs": [],
   "source": [
    "# Create a list of all the TIRCP names\n",
    "# tircp_projects = tircp2.project_name.unique().tolist()"
   ]
  },
  {
   "cell_type": "code",
   "execution_count": 79,
   "id": "3db3e68b-022b-4f33-ac76-3ac7dca1ea69",
   "metadata": {},
   "outputs": [],
   "source": [
    "# atp_shopp_projects = atp_shopp_drmt.project_name.unique().tolist()"
   ]
  },
  {
   "cell_type": "code",
   "execution_count": 80,
   "id": "7a4526d9-62c4-4881-aaf5-fc2ecf94b964",
   "metadata": {},
   "outputs": [],
   "source": [
    "# for i in atp_shopp_projects:\n",
    "#    replace_matches_in_column(\n",
    "#        tircp2, \"project_name\", \"project_name_fuzzy_match\", i, 80\n",
    "#    )"
   ]
  },
  {
   "cell_type": "code",
   "execution_count": 81,
   "id": "a9884e76-7190-4cee-9cec-b7eee80c3541",
   "metadata": {
    "scrolled": true,
    "tags": []
   },
   "outputs": [],
   "source": [
    "# tircp2[[\"project_description\", \"project_description\",\"project_description_fuzzy_match\"]]"
   ]
  },
  {
   "cell_type": "code",
   "execution_count": 82,
   "id": "2d28b9a4-9b71-40f0-a9d3-82ce21c28d84",
   "metadata": {},
   "outputs": [],
   "source": [
    "# Merge on project names\n",
    "# test4 = pd.merge(atp_shopp_drmt, tircp2, how= \"outer\", left_on=[\"project_test\"], right_on = [\"project_name_fuzzy_match\"], indicator = True, suffixes = [\"_shopp\", \"_tircp\"] )"
   ]
  },
  {
   "cell_type": "code",
   "execution_count": 83,
   "id": "acc8ca9b-7107-4662-8e5d-d29a45e58028",
   "metadata": {},
   "outputs": [],
   "source": [
    "# test4._merge.value_counts()"
   ]
  },
  {
   "cell_type": "code",
   "execution_count": 84,
   "id": "13b5a594-6899-403f-a5f0-be142c494d4c",
   "metadata": {},
   "outputs": [],
   "source": [
    "# test4.loc[test4._merge == \"both\"][[\"district_shopp\",\"district_tircp\",\"project_name_tircp\",\"project_name_shopp\", \"project_description_shopp\", \"project_description_tircp\"]]"
   ]
  },
  {
   "cell_type": "markdown",
   "id": "5ca3979e-f827-4e8e-87ce-4ba9d8c5bdd5",
   "metadata": {},
   "source": [
    "### Concat & Clean\n",
    "* After only finding 2 projects that are already entered in, concat TIRCP information. \n",
    "    * Already filtered out those 2 projects in TIRCP.\n",
    "    * Also filtered out any projects where TIRCP amount equals Total Project Cost, since presumbly they don't need any more $.\n",
    "* Concat with original ATP SHOPP."
   ]
  },
  {
   "cell_type": "code",
   "execution_count": 85,
   "id": "3f3c562f-4131-4728-b53d-e82c0b80a888",
   "metadata": {},
   "outputs": [],
   "source": [
    "atp_drop = [\"unnamed:_0\", \"update_complete\",  'merge',\n",
    " 'detailed_project_title',]"
   ]
  },
  {
   "cell_type": "code",
   "execution_count": 86,
   "id": "3202dc48-927d-44ae-848e-57ed50a8fc74",
   "metadata": {},
   "outputs": [],
   "source": [
    "atp_shopp = atp_shopp.drop(columns=atp_drop)"
   ]
  },
  {
   "cell_type": "code",
   "execution_count": 87,
   "id": "69917da4-acf0-47bc-bb6e-0cc72701594e",
   "metadata": {},
   "outputs": [],
   "source": [
    "concat1 = pd.concat([atp_shopp, tircp2])"
   ]
  },
  {
   "cell_type": "code",
   "execution_count": 88,
   "id": "012bfea4-ecb2-437c-90c9-b786c896d16d",
   "metadata": {},
   "outputs": [],
   "source": [
    "# Fill NA based on dtypes\n",
    "concat1 = concat1.fillna(concat1.dtypes.replace({\"float64\": 0.0, \"object\": \"None\"}))"
   ]
  },
  {
   "cell_type": "code",
   "execution_count": 89,
   "id": "1601987f-a5cd-4efb-a289-c7ed8ec67b94",
   "metadata": {},
   "outputs": [],
   "source": [
    "# concat1.info(verbose=True)"
   ]
  },
  {
   "cell_type": "code",
   "execution_count": 90,
   "id": "b19fbf47-b654-4a65-b312-7d2deb2c862e",
   "metadata": {
    "scrolled": true,
    "tags": []
   },
   "outputs": [],
   "source": [
    "# concat1.tail(1)"
   ]
  },
  {
   "cell_type": "markdown",
   "id": "ddcb5021-d415-4fdb-a86c-f9a05e602293",
   "metadata": {},
   "source": [
    "#### Add Detailed District Name"
   ]
  },
  {
   "cell_type": "code",
   "execution_count": 91,
   "id": "5e65c7ff-803d-4ff7-8d89-b2f1f733089a",
   "metadata": {},
   "outputs": [],
   "source": [
    "concat1['detailed_project_title'] =  ('District '+ concat1.district.astype('str') + '-' + concat1.project_name)"
   ]
  },
  {
   "cell_type": "markdown",
   "id": "3a1123e7-df58-40a9-8dc0-9977e05be171",
   "metadata": {
    "tags": []
   },
   "source": [
    "#### Add Fake Values"
   ]
  },
  {
   "cell_type": "code",
   "execution_count": 92,
   "id": "463b63a9-b6c9-47c7-b360-efdd7b2d877e",
   "metadata": {},
   "outputs": [],
   "source": [
    "# https://stackoverflow.com/questions/64093880/how-to-create-random-floats-and-add-them-as-a-dataframe-column\n",
    "np.random.seed(365)"
   ]
  },
  {
   "cell_type": "code",
   "execution_count": 93,
   "id": "d0d9d487-0c50-40fd-9939-2fade126f157",
   "metadata": {},
   "outputs": [],
   "source": [
    "fake_columns = [\n",
    "    \"increase_peak_person_throughput\",\n",
    "    \"reduction_in_peak_period_delay\",\n",
    "    \"reduction_in_fatal_and_injury_crashes\",\n",
    "    \"reduction_in_injury_rates\",\n",
    "    \"increase_access_to_jobs\",\n",
    "    \"increase_access_jobs_to_DAC\",\n",
    "    \"commercial_dev_developed\",\n",
    "    \"tons_of_goods_impacted\",\n",
    "    \"improve_air_quality\",\n",
    "    \"impact_natural_resources\",\n",
    "    \"support_of_transportation\",\n",
    "]"
   ]
  },
  {
   "cell_type": "code",
   "execution_count": 94,
   "id": "daf39ccc-dff0-4e00-8396-11baaa609673",
   "metadata": {
    "scrolled": true,
    "tags": []
   },
   "outputs": [],
   "source": [
    "# Add fake metric columns: I want a random value between 0 to 50.\n",
    "for i in fake_columns:\n",
    "    concat1[i] = np.round(np.random.uniform(0.0, 50.0, size=(len(concat1), 1)), 2)"
   ]
  },
  {
   "cell_type": "markdown",
   "id": "781ab525-1756-47e8-ac90-4201d757f69e",
   "metadata": {
    "tags": []
   },
   "source": [
    "#### Create fake benefit score and ranks."
   ]
  },
  {
   "cell_type": "code",
   "execution_count": 95,
   "id": "b2afcb56-2a22-4134-bb7f-9619dee3b79b",
   "metadata": {},
   "outputs": [],
   "source": [
    "# Create the fake benefit score based off of Virginia DOT.\n",
    "concat1[\"fake_benefit_score\"] = (\n",
    "    (concat1[fake_columns].sum(axis=1))\n",
    "    / (concat1[\"total_unfunded_need__$1,000\"])\n",
    "    .apply(pd.to_numeric, errors=\"coerce\")\n",
    "    .fillna(0)\n",
    "    .sum()\n",
    ") * 1000000"
   ]
  },
  {
   "cell_type": "code",
   "execution_count": 96,
   "id": "e0d9eeb7-6c95-4c17-83d4-c8c83ae36740",
   "metadata": {
    "tags": []
   },
   "outputs": [],
   "source": [
    "# Create a fake statewide project rank\n",
    "concat1[\"statewide_rank\"] = concat1[\"fake_benefit_score\"].rank(ascending=False)"
   ]
  },
  {
   "cell_type": "code",
   "execution_count": 97,
   "id": "bddf88d4-1f28-402f-b2e5-dc1e00d2b4e5",
   "metadata": {},
   "outputs": [],
   "source": [
    "# Create fake project rank by district\n",
    "concat1[\"district_rank\"] = concat1.groupby(\"district\")[\"fake_benefit_score\"].rank(\n",
    "    method=\"dense\", ascending=False\n",
    ")"
   ]
  },
  {
   "cell_type": "code",
   "execution_count": 98,
   "id": "1e5e936a-1995-4e5d-a640-d1f3fccb518a",
   "metadata": {},
   "outputs": [],
   "source": [
    "# Assign percentile of project among all projects in the state.\n",
    "concat1 = _utils.project_size_rating(\n",
    "    concat1, \"statewide_rank\", \"fake_benefit_score_statewide_percentile\"\n",
    ")"
   ]
  },
  {
   "cell_type": "code",
   "execution_count": 99,
   "id": "968df76b-7a4e-4919-8112-96579926ee12",
   "metadata": {
    "scrolled": true,
    "tags": []
   },
   "outputs": [],
   "source": [
    "# Make sure this makes sense\n",
    "# concat1[['district_rank','statewide_rank','fake_benefit_score','fake_benefit_score_statewide_percentile']].sort_values('fake_benefit_score', ascending= False)"
   ]
  },
  {
   "cell_type": "code",
   "execution_count": 100,
   "id": "c0f8d02a-b4f5-4dfd-be5e-b71091dbf413",
   "metadata": {},
   "outputs": [
    {
     "data": {
      "text/plain": [
       "120"
      ]
     },
     "execution_count": 100,
     "metadata": {},
     "output_type": "execute_result"
    }
   ],
   "source": [
    "# D4 only projects\n",
    "len(concat1.loc[concat1[\"district\"] == 4])"
   ]
  },
  {
   "cell_type": "code",
   "execution_count": 101,
   "id": "9570caef-7cbf-41fd-a6f2-7dbde15eefc7",
   "metadata": {},
   "outputs": [],
   "source": [
    "# list(concat1.columns)"
   ]
  },
  {
   "cell_type": "markdown",
   "id": "a6433819-50c3-449d-af72-3ccf0aa1a069",
   "metadata": {
    "tags": []
   },
   "source": [
    "#### Add median across districts\n",
    "Suggestion from Nick to add medians across the district. \n",
    "* Project cost\n",
    "* unfunded needs\n",
    "* benefit score"
   ]
  },
  {
   "cell_type": "code",
   "execution_count": 102,
   "id": "416b79a8-2d71-494b-9f18-0c50989f0e25",
   "metadata": {
    "scrolled": true,
    "tags": []
   },
   "outputs": [],
   "source": [
    "# Grab medians\n",
    "summary_district_state = (\n",
    "    concat1.groupby([\"district\"])\n",
    "    .agg(\n",
    "        {\n",
    "            \"total_unfunded_need__$1,000\": \"median\",\n",
    "            \"fake_benefit_score\": \"median\",\n",
    "            \"total_project_cost__$1,000\": \"median\",\n",
    "            \"csis_total_score__out_of_45\": \"median\",\n",
    "            \"atp_total_score__out_of_100\": \"median\",\n",
    "        }\n",
    "    )\n",
    "    .reset_index()\n",
    ")"
   ]
  },
  {
   "cell_type": "code",
   "execution_count": 103,
   "id": "2d2bbea0-6092-4cf1-944c-8bdebe2391b8",
   "metadata": {},
   "outputs": [],
   "source": [
    "# Add suffixes\n",
    "summary_district_state = summary_district_state.add_suffix(\"_district_median_\")"
   ]
  },
  {
   "cell_type": "code",
   "execution_count": 104,
   "id": "bd5eeab8-e023-443f-9559-f72c679a1225",
   "metadata": {},
   "outputs": [],
   "source": [
    "concat1 = pd.merge(\n",
    "    concat1,\n",
    "    summary_district_state,\n",
    "    left_on=\"district\",\n",
    "    right_on=\"district_district_median_\",\n",
    "    how=\"left\",\n",
    ")"
   ]
  },
  {
   "cell_type": "markdown",
   "id": "f83ccefa-fb21-49ca-9ff5-25c5826a5819",
   "metadata": {},
   "source": [
    "#### Clean Up\n",
    "* Best to look at full district & county names\n",
    "* Replace county \"None\" with \"full county name\" values. "
   ]
  },
  {
   "cell_type": "code",
   "execution_count": 105,
   "id": "645d746d-6595-47c0-9271-0a51d925cfa8",
   "metadata": {},
   "outputs": [],
   "source": [
    "concat1 = _utils.clean_up_columns(concat1)"
   ]
  },
  {
   "cell_type": "code",
   "execution_count": 106,
   "id": "86e9c78d-e393-4a3b-960f-5d099ba3df5e",
   "metadata": {},
   "outputs": [
    {
     "data": {
      "text/plain": [
       "905"
      ]
     },
     "execution_count": 106,
     "metadata": {},
     "output_type": "execute_result"
    }
   ],
   "source": [
    "len(concat1)"
   ]
  },
  {
   "cell_type": "code",
   "execution_count": 107,
   "id": "f29b32b0-8dd8-47dc-ac9b-f6c4c20acd6f",
   "metadata": {},
   "outputs": [],
   "source": [
    "concat1['County'] = np.where(concat1['County'] == \"None\", concat1['Full County Name'], concat1['County'])"
   ]
  },
  {
   "cell_type": "code",
   "execution_count": 108,
   "id": "a10f783d-790a-4efc-855d-1b8380cfbcf3",
   "metadata": {},
   "outputs": [],
   "source": [
    "tircp3 = concat1.loc[concat1['Previous Caltrans Nominations'] == \"TIRCP Cycle 3\"]"
   ]
  },
  {
   "cell_type": "code",
   "execution_count": 115,
   "id": "030ad903-8eb8-4707-953c-c6e20fc7f0a1",
   "metadata": {},
   "outputs": [
    {
     "data": {
      "text/html": [
       "<div>\n",
       "<style scoped>\n",
       "    .dataframe tbody tr th:only-of-type {\n",
       "        vertical-align: middle;\n",
       "    }\n",
       "\n",
       "    .dataframe tbody tr th {\n",
       "        vertical-align: top;\n",
       "    }\n",
       "\n",
       "    .dataframe thead th {\n",
       "        text-align: right;\n",
       "    }\n",
       "</style>\n",
       "<table border=\"1\" class=\"dataframe\">\n",
       "  <thead>\n",
       "    <tr style=\"text-align: right;\">\n",
       "      <th></th>\n",
       "      <th>Rail Project Id</th>\n",
       "      <th>10 Year Plan</th>\n",
       "      <th>Ct Project Id</th>\n",
       "      <th>Ea</th>\n",
       "      <th>Ppno</th>\n",
       "      <th>Project Name</th>\n",
       "      <th>District</th>\n",
       "      <th>County</th>\n",
       "      <th>Route</th>\n",
       "      <th>Project Description</th>\n",
       "      <th>Current Phase</th>\n",
       "      <th>Con Existing Source S  Of Funds</th>\n",
       "      <th>Con Anticipated Source Of Funds</th>\n",
       "      <th>Target Opening Year</th>\n",
       "      <th>Beg Pm</th>\n",
       "      <th>End Pm</th>\n",
       "      <th>Primary Mode</th>\n",
       "      <th>Previous Caltrans Nominations</th>\n",
       "      <th>Urban Rural</th>\n",
       "      <th>Notes</th>\n",
       "      <th>Lead Agency</th>\n",
       "      <th>Pid Approval Date  M010</th>\n",
       "      <th>Target Pa Ed  M200</th>\n",
       "      <th>Rtl Date  M460</th>\n",
       "      <th>Con Start Date  M500</th>\n",
       "      <th>Funding Need Phase S</th>\n",
       "      <th>Pa Ed Cost  $1,000</th>\n",
       "      <th>Ps E Cost  $1,000</th>\n",
       "      <th>Row Cost  $1,000</th>\n",
       "      <th>Con Support Cost  $1,000</th>\n",
       "      <th>Non Infrastructure   Plan Cost  $1,000</th>\n",
       "      <th>Total Unfunded Need  $1,000</th>\n",
       "      <th>Previous Funding Request Phase</th>\n",
       "      <th>Last Scored</th>\n",
       "      <th>Csis Alignment</th>\n",
       "      <th>Csis Total Score  Out Of 45</th>\n",
       "      <th>Mode Shift  Csis  Score</th>\n",
       "      <th>Mode Shift  Csis  Comment</th>\n",
       "      <th>Vmt  Csis  Score</th>\n",
       "      <th>Vmt  Csis  Comment</th>\n",
       "      <th>Public Engagement  Csis  Score</th>\n",
       "      <th>Public Engagement  Csis  Comment</th>\n",
       "      <th>Dac Local Community Needs  Csis  Score</th>\n",
       "      <th>Dac Local Community Needs  Csis  Comment</th>\n",
       "      <th>Safety  Csis  Score</th>\n",
       "      <th>Safety  Csis  Comment</th>\n",
       "      <th>Zev  Csis  Score</th>\n",
       "      <th>Zev  Csis  Comment</th>\n",
       "      <th>Climate Resiliency  Csis  Score</th>\n",
       "      <th>Climate Resiliency  Csis  Comment</th>\n",
       "      <th>Natural Resources And Ecosystems  Csis  Score</th>\n",
       "      <th>Natural Resources And Ecosystems  Csis  Comment</th>\n",
       "      <th>Infill Development And Land Use  Csis  Score</th>\n",
       "      <th>Infill Development And Land Use  Csis  Comment</th>\n",
       "      <th>Benefits To Dac And Advancing Equity  Atp  Score</th>\n",
       "      <th>Community Need  Atp  Score</th>\n",
       "      <th>Safety  Atp  Score</th>\n",
       "      <th>Public Participation  Atp  Score</th>\n",
       "      <th>Community Feedback  Atp  Score</th>\n",
       "      <th>Continued Engagement  Atp  Score</th>\n",
       "      <th>Context Sensitive And Innovation  Atp  Score</th>\n",
       "      <th>Transformative  Atp  Score</th>\n",
       "      <th>Atp Total Score  Out Of 100</th>\n",
       "      <th>Atp Alignment</th>\n",
       "      <th>Access Alignment</th>\n",
       "      <th>2023</th>\n",
       "      <th>2024</th>\n",
       "      <th>2025</th>\n",
       "      <th>2026</th>\n",
       "      <th>2027</th>\n",
       "      <th>2028</th>\n",
       "      <th>2029</th>\n",
       "      <th>2030</th>\n",
       "      <th>2031</th>\n",
       "      <th>2032</th>\n",
       "      <th>2033</th>\n",
       "      <th>Previous Funding Request</th>\n",
       "      <th>Purpose   Need</th>\n",
       "      <th>Parcel Counts</th>\n",
       "      <th>Total Project Cost  $1,000</th>\n",
       "      <th>Con Capital Cost  $1,000</th>\n",
       "      <th>Hq Priority</th>\n",
       "      <th>District Priority</th>\n",
       "      <th>Potential Funding Program S</th>\n",
       "      <th>Located In Dac</th>\n",
       "      <th>Shs Capacity Increase Detail</th>\n",
       "      <th>Secondary Mode S</th>\n",
       "      <th>Full County Name</th>\n",
       "      <th>Abbrev</th>\n",
       "      <th>District Full Name</th>\n",
       "      <th>Ppno1</th>\n",
       "      <th>Total Project Cost  $1,000 1</th>\n",
       "      <th>Pa Ed Cost  $1,000 1</th>\n",
       "      <th>Ps E Cost  $1,000 1</th>\n",
       "      <th>Non Infrastructure   Plan Cost  $1,000 1</th>\n",
       "      <th>Detailed Project Title</th>\n",
       "      <th>Increase Peak Person Throughput</th>\n",
       "      <th>Reduction In Peak Period Delay</th>\n",
       "      <th>Reduction In Fatal And Injury Crashes</th>\n",
       "      <th>Reduction In Injury Rates</th>\n",
       "      <th>Increase Access To Jobs</th>\n",
       "      <th>Increase Access Jobs To Dac</th>\n",
       "      <th>Commercial Dev Developed</th>\n",
       "      <th>Tons Of Goods Impacted</th>\n",
       "      <th>Improve Air Quality</th>\n",
       "      <th>Impact Natural Resources</th>\n",
       "      <th>Support Of Transportation</th>\n",
       "      <th>Fake Benefit Score</th>\n",
       "      <th>Statewide Rank</th>\n",
       "      <th>District Rank</th>\n",
       "      <th>Fake Benefit Score Statewide Percentile</th>\n",
       "      <th>District District Median</th>\n",
       "      <th>Total Unfunded Need  $1,000 District Median</th>\n",
       "      <th>Fake Benefit Score District Median</th>\n",
       "      <th>Total Project Cost  $1,000 District Median</th>\n",
       "      <th>Csis Total Score  Out Of 45 District Median</th>\n",
       "      <th>Atp Total Score  Out Of 100 District Median</th>\n",
       "    </tr>\n",
       "  </thead>\n",
       "  <tbody>\n",
       "    <tr>\n",
       "      <th>867</th>\n",
       "      <td>None</td>\n",
       "      <td>0.0</td>\n",
       "      <td>None</td>\n",
       "      <td>None</td>\n",
       "      <td>1155A</td>\n",
       "      <td>Extend rail service to Monterey County</td>\n",
       "      <td>0</td>\n",
       "      <td>Various</td>\n",
       "      <td>None</td>\n",
       "      <td>This project will implement the extension of two round trip passenger rail services from Gilroy to Salinas, track improvements, positive train control, and a two-train layover facility.  There has only been one allocation of $500,000 for Network Integration.</td>\n",
       "      <td>CONST</td>\n",
       "      <td>None</td>\n",
       "      <td>None</td>\n",
       "      <td>None</td>\n",
       "      <td>None</td>\n",
       "      <td>None</td>\n",
       "      <td>Transit/Zev/Rail (Passenger)</td>\n",
       "      <td>TIRCP Cycle 3</td>\n",
       "      <td>None</td>\n",
       "      <td>None</td>\n",
       "      <td>Transportation Agency For Monterey County</td>\n",
       "      <td>None</td>\n",
       "      <td>None</td>\n",
       "      <td>None</td>\n",
       "      <td>None</td>\n",
       "      <td>0.0</td>\n",
       "      <td>0.0</td>\n",
       "      <td>0.0</td>\n",
       "      <td>0.0</td>\n",
       "      <td>0.0</td>\n",
       "      <td>0.0</td>\n",
       "      <td>71371.0</td>\n",
       "      <td>None</td>\n",
       "      <td>0.0</td>\n",
       "      <td>None</td>\n",
       "      <td>0.0</td>\n",
       "      <td>0.0</td>\n",
       "      <td>None</td>\n",
       "      <td>0.0</td>\n",
       "      <td>None</td>\n",
       "      <td>0.0</td>\n",
       "      <td>None</td>\n",
       "      <td>0.0</td>\n",
       "      <td>0.0</td>\n",
       "      <td>0.0</td>\n",
       "      <td>None</td>\n",
       "      <td>0.0</td>\n",
       "      <td>None</td>\n",
       "      <td>0.0</td>\n",
       "      <td>None</td>\n",
       "      <td>0.0</td>\n",
       "      <td>None</td>\n",
       "      <td>0.0</td>\n",
       "      <td>None</td>\n",
       "      <td>0.0</td>\n",
       "      <td>0.0</td>\n",
       "      <td>0.0</td>\n",
       "      <td>0.0</td>\n",
       "      <td>0.0</td>\n",
       "      <td>0.0</td>\n",
       "      <td>0.0</td>\n",
       "      <td>0.0</td>\n",
       "      <td>0.0</td>\n",
       "      <td>None</td>\n",
       "      <td>None</td>\n",
       "      <td>None</td>\n",
       "      <td>None</td>\n",
       "      <td>0.0</td>\n",
       "      <td>None</td>\n",
       "      <td>0.0</td>\n",
       "      <td>0.0</td>\n",
       "      <td>0.0</td>\n",
       "      <td>0.0</td>\n",
       "      <td>0.0</td>\n",
       "      <td>0.0</td>\n",
       "      <td>0.0</td>\n",
       "      <td>None</td>\n",
       "      <td>0.0</td>\n",
       "      <td>None</td>\n",
       "      <td>81519.0</td>\n",
       "      <td>0.0</td>\n",
       "      <td>0.0</td>\n",
       "      <td>0.0</td>\n",
       "      <td>None</td>\n",
       "      <td>None</td>\n",
       "      <td>0</td>\n",
       "      <td>None</td>\n",
       "      <td>Various</td>\n",
       "      <td>None</td>\n",
       "      <td>Various</td>\n",
       "      <td>None</td>\n",
       "      <td>0.0</td>\n",
       "      <td>0.0</td>\n",
       "      <td>0.0</td>\n",
       "      <td>0.0</td>\n",
       "      <td>District 0-Extend rail service to Monterey County</td>\n",
       "      <td>31.26</td>\n",
       "      <td>4.83</td>\n",
       "      <td>46.3</td>\n",
       "      <td>41.49</td>\n",
       "      <td>3.07</td>\n",
       "      <td>13.24</td>\n",
       "      <td>30.05</td>\n",
       "      <td>14.85</td>\n",
       "      <td>13.62</td>\n",
       "      <td>0.55</td>\n",
       "      <td>37.9</td>\n",
       "      <td>1.312896</td>\n",
       "      <td>694.0</td>\n",
       "      <td>5.0</td>\n",
       "      <td>75th percentile</td>\n",
       "      <td>0</td>\n",
       "      <td>53739.0</td>\n",
       "      <td>1.623072</td>\n",
       "      <td>87196.969</td>\n",
       "      <td>0.0</td>\n",
       "      <td>0.0</td>\n",
       "    </tr>\n",
       "  </tbody>\n",
       "</table>\n",
       "</div>"
      ],
      "text/plain": [
       "    Rail Project Id  10 Year Plan Ct Project Id    Ea   Ppno  \\\n",
       "867            None           0.0          None  None  1155A   \n",
       "\n",
       "                               Project Name  District   County Route  \\\n",
       "867  Extend rail service to Monterey County         0  Various  None   \n",
       "\n",
       "                                                                                                                                                                                                                                                     Project Description  \\\n",
       "867  This project will implement the extension of two round trip passenger rail services from Gilroy to Salinas, track improvements, positive train control, and a two-train layover facility.  There has only been one allocation of $500,000 for Network Integration.    \n",
       "\n",
       "    Current Phase Con Existing Source S  Of Funds  \\\n",
       "867         CONST                            None   \n",
       "\n",
       "    Con Anticipated Source Of Funds Target Opening Year Beg Pm End Pm  \\\n",
       "867                            None                None   None   None   \n",
       "\n",
       "                     Primary Mode Previous Caltrans Nominations Urban Rural  \\\n",
       "867  Transit/Zev/Rail (Passenger)                 TIRCP Cycle 3        None   \n",
       "\n",
       "    Notes                                Lead Agency Pid Approval Date  M010  \\\n",
       "867  None  Transportation Agency For Monterey County                    None   \n",
       "\n",
       "    Target Pa Ed  M200 Rtl Date  M460 Con Start Date  M500  \\\n",
       "867               None           None                 None   \n",
       "\n",
       "     Funding Need Phase S  Pa Ed Cost  $1,000  Ps E Cost  $1,000  \\\n",
       "867                   0.0                 0.0                0.0   \n",
       "\n",
       "     Row Cost  $1,000  Con Support Cost  $1,000  \\\n",
       "867               0.0                       0.0   \n",
       "\n",
       "     Non Infrastructure   Plan Cost  $1,000  Total Unfunded Need  $1,000  \\\n",
       "867                                     0.0                      71371.0   \n",
       "\n",
       "    Previous Funding Request Phase  Last Scored Csis Alignment  \\\n",
       "867                           None          0.0           None   \n",
       "\n",
       "     Csis Total Score  Out Of 45  Mode Shift  Csis  Score  \\\n",
       "867                          0.0                      0.0   \n",
       "\n",
       "    Mode Shift  Csis  Comment  Vmt  Csis  Score Vmt  Csis  Comment  \\\n",
       "867                      None               0.0               None   \n",
       "\n",
       "     Public Engagement  Csis  Score Public Engagement  Csis  Comment  \\\n",
       "867                             0.0                             None   \n",
       "\n",
       "     Dac Local Community Needs  Csis  Score  \\\n",
       "867                                     0.0   \n",
       "\n",
       "     Dac Local Community Needs  Csis  Comment  Safety  Csis  Score  \\\n",
       "867                                       0.0                  0.0   \n",
       "\n",
       "    Safety  Csis  Comment  Zev  Csis  Score Zev  Csis  Comment  \\\n",
       "867                  None               0.0               None   \n",
       "\n",
       "     Climate Resiliency  Csis  Score Climate Resiliency  Csis  Comment  \\\n",
       "867                              0.0                              None   \n",
       "\n",
       "     Natural Resources And Ecosystems  Csis  Score  \\\n",
       "867                                            0.0   \n",
       "\n",
       "    Natural Resources And Ecosystems  Csis  Comment  \\\n",
       "867                                            None   \n",
       "\n",
       "     Infill Development And Land Use  Csis  Score  \\\n",
       "867                                           0.0   \n",
       "\n",
       "    Infill Development And Land Use  Csis  Comment  \\\n",
       "867                                           None   \n",
       "\n",
       "     Benefits To Dac And Advancing Equity  Atp  Score  \\\n",
       "867                                               0.0   \n",
       "\n",
       "     Community Need  Atp  Score  Safety  Atp  Score  \\\n",
       "867                         0.0                 0.0   \n",
       "\n",
       "     Public Participation  Atp  Score  Community Feedback  Atp  Score  \\\n",
       "867                               0.0                             0.0   \n",
       "\n",
       "     Continued Engagement  Atp  Score  \\\n",
       "867                               0.0   \n",
       "\n",
       "     Context Sensitive And Innovation  Atp  Score  Transformative  Atp  Score  \\\n",
       "867                                           0.0                         0.0   \n",
       "\n",
       "     Atp Total Score  Out Of 100 Atp Alignment Access Alignment  2023  2024  \\\n",
       "867                          0.0          None             None  None  None   \n",
       "\n",
       "     2025  2026  2027  2028  2029  2030  2031  2032  2033  \\\n",
       "867   0.0  None   0.0   0.0   0.0   0.0   0.0   0.0   0.0   \n",
       "\n",
       "    Previous Funding Request  Purpose   Need Parcel Counts  \\\n",
       "867                     None             0.0          None   \n",
       "\n",
       "     Total Project Cost  $1,000  Con Capital Cost  $1,000  Hq Priority  \\\n",
       "867                     81519.0                       0.0          0.0   \n",
       "\n",
       "     District Priority Potential Funding Program S Located In Dac  \\\n",
       "867                0.0                        None           None   \n",
       "\n",
       "    Shs Capacity Increase Detail Secondary Mode S Full County Name Abbrev  \\\n",
       "867                            0             None          Various   None   \n",
       "\n",
       "    District Full Name Ppno1  Total Project Cost  $1,000 1  \\\n",
       "867            Various  None                           0.0   \n",
       "\n",
       "     Pa Ed Cost  $1,000 1  Ps E Cost  $1,000 1  \\\n",
       "867                   0.0                  0.0   \n",
       "\n",
       "     Non Infrastructure   Plan Cost  $1,000 1  \\\n",
       "867                                       0.0   \n",
       "\n",
       "                                Detailed Project Title  \\\n",
       "867  District 0-Extend rail service to Monterey County   \n",
       "\n",
       "     Increase Peak Person Throughput  Reduction In Peak Period Delay  \\\n",
       "867                            31.26                            4.83   \n",
       "\n",
       "     Reduction In Fatal And Injury Crashes  Reduction In Injury Rates  \\\n",
       "867                                   46.3                      41.49   \n",
       "\n",
       "     Increase Access To Jobs  Increase Access Jobs To Dac  \\\n",
       "867                     3.07                        13.24   \n",
       "\n",
       "     Commercial Dev Developed  Tons Of Goods Impacted  Improve Air Quality  \\\n",
       "867                     30.05                   14.85                13.62   \n",
       "\n",
       "     Impact Natural Resources  Support Of Transportation  Fake Benefit Score  \\\n",
       "867                      0.55                       37.9            1.312896   \n",
       "\n",
       "     Statewide Rank  District Rank Fake Benefit Score Statewide Percentile  \\\n",
       "867           694.0            5.0                         75th percentile   \n",
       "\n",
       "     District District Median  Total Unfunded Need  $1,000 District Median  \\\n",
       "867                         0                                      53739.0   \n",
       "\n",
       "     Fake Benefit Score District Median  \\\n",
       "867                            1.623072   \n",
       "\n",
       "     Total Project Cost  $1,000 District Median  \\\n",
       "867                                   87196.969   \n",
       "\n",
       "     Csis Total Score  Out Of 45 District Median  \\\n",
       "867                                          0.0   \n",
       "\n",
       "     Atp Total Score  Out Of 100 District Median  \n",
       "867                                          0.0  "
      ]
     },
     "execution_count": 115,
     "metadata": {},
     "output_type": "execute_result"
    }
   ],
   "source": [
    "tircp3.sample()"
   ]
  },
  {
   "cell_type": "code",
   "execution_count": 111,
   "id": "e29fc0fe-3bab-47d8-b626-6673c56360c4",
   "metadata": {},
   "outputs": [
    {
     "data": {
      "text/html": [
       "<div>\n",
       "<style scoped>\n",
       "    .dataframe tbody tr th:only-of-type {\n",
       "        vertical-align: middle;\n",
       "    }\n",
       "\n",
       "    .dataframe tbody tr th {\n",
       "        vertical-align: top;\n",
       "    }\n",
       "\n",
       "    .dataframe thead th {\n",
       "        text-align: right;\n",
       "    }\n",
       "</style>\n",
       "<table border=\"1\" class=\"dataframe\">\n",
       "  <thead>\n",
       "    <tr style=\"text-align: right;\">\n",
       "      <th></th>\n",
       "      <th>Rail Project Id</th>\n",
       "      <th>10 Year Plan</th>\n",
       "      <th>Ct Project Id</th>\n",
       "      <th>Ea</th>\n",
       "      <th>Ppno</th>\n",
       "      <th>Project Name</th>\n",
       "      <th>District</th>\n",
       "      <th>County</th>\n",
       "      <th>Route</th>\n",
       "      <th>Project Description</th>\n",
       "      <th>Current Phase</th>\n",
       "      <th>Con Existing Source S  Of Funds</th>\n",
       "      <th>Con Anticipated Source Of Funds</th>\n",
       "      <th>Target Opening Year</th>\n",
       "      <th>Beg Pm</th>\n",
       "      <th>End Pm</th>\n",
       "      <th>Primary Mode</th>\n",
       "      <th>Previous Caltrans Nominations</th>\n",
       "      <th>Urban Rural</th>\n",
       "      <th>Notes</th>\n",
       "      <th>Lead Agency</th>\n",
       "      <th>Pid Approval Date  M010</th>\n",
       "      <th>Target Pa Ed  M200</th>\n",
       "      <th>Rtl Date  M460</th>\n",
       "      <th>Con Start Date  M500</th>\n",
       "      <th>Funding Need Phase S</th>\n",
       "      <th>Pa Ed Cost  $1,000</th>\n",
       "      <th>Ps E Cost  $1,000</th>\n",
       "      <th>Row Cost  $1,000</th>\n",
       "      <th>Con Support Cost  $1,000</th>\n",
       "      <th>Non Infrastructure   Plan Cost  $1,000</th>\n",
       "      <th>Total Unfunded Need  $1,000</th>\n",
       "      <th>Previous Funding Request Phase</th>\n",
       "      <th>Last Scored</th>\n",
       "      <th>Csis Alignment</th>\n",
       "      <th>Csis Total Score  Out Of 45</th>\n",
       "      <th>Mode Shift  Csis  Score</th>\n",
       "      <th>Mode Shift  Csis  Comment</th>\n",
       "      <th>Vmt  Csis  Score</th>\n",
       "      <th>Vmt  Csis  Comment</th>\n",
       "      <th>Public Engagement  Csis  Score</th>\n",
       "      <th>Public Engagement  Csis  Comment</th>\n",
       "      <th>Dac Local Community Needs  Csis  Score</th>\n",
       "      <th>Dac Local Community Needs  Csis  Comment</th>\n",
       "      <th>Safety  Csis  Score</th>\n",
       "      <th>Safety  Csis  Comment</th>\n",
       "      <th>Zev  Csis  Score</th>\n",
       "      <th>Zev  Csis  Comment</th>\n",
       "      <th>Climate Resiliency  Csis  Score</th>\n",
       "      <th>Climate Resiliency  Csis  Comment</th>\n",
       "      <th>Natural Resources And Ecosystems  Csis  Score</th>\n",
       "      <th>Natural Resources And Ecosystems  Csis  Comment</th>\n",
       "      <th>Infill Development And Land Use  Csis  Score</th>\n",
       "      <th>Infill Development And Land Use  Csis  Comment</th>\n",
       "      <th>Benefits To Dac And Advancing Equity  Atp  Score</th>\n",
       "      <th>Community Need  Atp  Score</th>\n",
       "      <th>Safety  Atp  Score</th>\n",
       "      <th>Public Participation  Atp  Score</th>\n",
       "      <th>Community Feedback  Atp  Score</th>\n",
       "      <th>Continued Engagement  Atp  Score</th>\n",
       "      <th>Context Sensitive And Innovation  Atp  Score</th>\n",
       "      <th>Transformative  Atp  Score</th>\n",
       "      <th>Atp Total Score  Out Of 100</th>\n",
       "      <th>Atp Alignment</th>\n",
       "      <th>Access Alignment</th>\n",
       "      <th>2023</th>\n",
       "      <th>2024</th>\n",
       "      <th>2025</th>\n",
       "      <th>2026</th>\n",
       "      <th>2027</th>\n",
       "      <th>2028</th>\n",
       "      <th>2029</th>\n",
       "      <th>2030</th>\n",
       "      <th>2031</th>\n",
       "      <th>2032</th>\n",
       "      <th>2033</th>\n",
       "      <th>Previous Funding Request</th>\n",
       "      <th>Purpose   Need</th>\n",
       "      <th>Parcel Counts</th>\n",
       "      <th>Total Project Cost  $1,000</th>\n",
       "      <th>Con Capital Cost  $1,000</th>\n",
       "      <th>Hq Priority</th>\n",
       "      <th>District Priority</th>\n",
       "      <th>Potential Funding Program S</th>\n",
       "      <th>Located In Dac</th>\n",
       "      <th>Shs Capacity Increase Detail</th>\n",
       "      <th>Secondary Mode S</th>\n",
       "      <th>Full County Name</th>\n",
       "      <th>Abbrev</th>\n",
       "      <th>District Full Name</th>\n",
       "      <th>Ppno1</th>\n",
       "      <th>Total Project Cost  $1,000 1</th>\n",
       "      <th>Pa Ed Cost  $1,000 1</th>\n",
       "      <th>Ps E Cost  $1,000 1</th>\n",
       "      <th>Non Infrastructure   Plan Cost  $1,000 1</th>\n",
       "      <th>Detailed Project Title</th>\n",
       "      <th>Increase Peak Person Throughput</th>\n",
       "      <th>Reduction In Peak Period Delay</th>\n",
       "      <th>Reduction In Fatal And Injury Crashes</th>\n",
       "      <th>Reduction In Injury Rates</th>\n",
       "      <th>Increase Access To Jobs</th>\n",
       "      <th>Increase Access Jobs To Dac</th>\n",
       "      <th>Commercial Dev Developed</th>\n",
       "      <th>Tons Of Goods Impacted</th>\n",
       "      <th>Improve Air Quality</th>\n",
       "      <th>Impact Natural Resources</th>\n",
       "      <th>Support Of Transportation</th>\n",
       "      <th>Fake Benefit Score</th>\n",
       "      <th>Statewide Rank</th>\n",
       "      <th>District Rank</th>\n",
       "      <th>Fake Benefit Score Statewide Percentile</th>\n",
       "      <th>District District Median</th>\n",
       "      <th>Total Unfunded Need  $1,000 District Median</th>\n",
       "      <th>Fake Benefit Score District Median</th>\n",
       "      <th>Total Project Cost  $1,000 District Median</th>\n",
       "      <th>Csis Total Score  Out Of 45 District Median</th>\n",
       "      <th>Atp Total Score  Out Of 100 District Median</th>\n",
       "    </tr>\n",
       "  </thead>\n",
       "  <tbody>\n",
       "    <tr>\n",
       "      <th>846</th>\n",
       "      <td>None</td>\n",
       "      <td>0.0</td>\n",
       "      <td>None</td>\n",
       "      <td>None</td>\n",
       "      <td>CP029</td>\n",
       "      <td>Los Angeles City: Leading the Transformation to Zero-Emission Electric Bus Transit Service</td>\n",
       "      <td>7</td>\n",
       "      <td>Los Angeles</td>\n",
       "      <td>None</td>\n",
       "      <td>Acquire 112 zero-emission buses to replace existing propane vehicles and add new vehicles, in order to increase frequency of all existing DASH routes to 15-minute service and add 4 new routes, serving communities throughout the City of Los Angeles as recommended in the comprehensive Transit Service Analysis.</td>\n",
       "      <td>CONST</td>\n",
       "      <td>None</td>\n",
       "      <td>None</td>\n",
       "      <td>None</td>\n",
       "      <td>None</td>\n",
       "      <td>None</td>\n",
       "      <td>Transit/Zev/Rail (Passenger)</td>\n",
       "      <td>TIRCP Cycle 3</td>\n",
       "      <td>None</td>\n",
       "      <td>None</td>\n",
       "      <td>City Of Los Angeles</td>\n",
       "      <td>None</td>\n",
       "      <td>None</td>\n",
       "      <td>None</td>\n",
       "      <td>None</td>\n",
       "      <td>0.0</td>\n",
       "      <td>0.0</td>\n",
       "      <td>0.0</td>\n",
       "      <td>0.0</td>\n",
       "      <td>0.0</td>\n",
       "      <td>0.0</td>\n",
       "      <td>66686.0</td>\n",
       "      <td>None</td>\n",
       "      <td>0.0</td>\n",
       "      <td>None</td>\n",
       "      <td>0.0</td>\n",
       "      <td>0.0</td>\n",
       "      <td>None</td>\n",
       "      <td>0.0</td>\n",
       "      <td>None</td>\n",
       "      <td>0.0</td>\n",
       "      <td>None</td>\n",
       "      <td>0.0</td>\n",
       "      <td>0.0</td>\n",
       "      <td>0.0</td>\n",
       "      <td>None</td>\n",
       "      <td>0.0</td>\n",
       "      <td>None</td>\n",
       "      <td>0.0</td>\n",
       "      <td>None</td>\n",
       "      <td>0.0</td>\n",
       "      <td>None</td>\n",
       "      <td>0.0</td>\n",
       "      <td>None</td>\n",
       "      <td>0.0</td>\n",
       "      <td>0.0</td>\n",
       "      <td>0.0</td>\n",
       "      <td>0.0</td>\n",
       "      <td>0.0</td>\n",
       "      <td>0.0</td>\n",
       "      <td>0.0</td>\n",
       "      <td>0.0</td>\n",
       "      <td>0.0</td>\n",
       "      <td>None</td>\n",
       "      <td>None</td>\n",
       "      <td>None</td>\n",
       "      <td>None</td>\n",
       "      <td>0.0</td>\n",
       "      <td>None</td>\n",
       "      <td>0.0</td>\n",
       "      <td>0.0</td>\n",
       "      <td>0.0</td>\n",
       "      <td>0.0</td>\n",
       "      <td>0.0</td>\n",
       "      <td>0.0</td>\n",
       "      <td>0.0</td>\n",
       "      <td>None</td>\n",
       "      <td>0.0</td>\n",
       "      <td>None</td>\n",
       "      <td>102790.0</td>\n",
       "      <td>0.0</td>\n",
       "      <td>0.0</td>\n",
       "      <td>0.0</td>\n",
       "      <td>None</td>\n",
       "      <td>None</td>\n",
       "      <td>0</td>\n",
       "      <td>None</td>\n",
       "      <td>Los Angeles</td>\n",
       "      <td>None</td>\n",
       "      <td>District 7: Los Angeles</td>\n",
       "      <td>None</td>\n",
       "      <td>0.0</td>\n",
       "      <td>0.0</td>\n",
       "      <td>0.0</td>\n",
       "      <td>0.0</td>\n",
       "      <td>District 7-Los Angeles City: Leading the Transformation to Zero-Emission Electric Bus Transit Service</td>\n",
       "      <td>21.64</td>\n",
       "      <td>14.13</td>\n",
       "      <td>2.21</td>\n",
       "      <td>23.05</td>\n",
       "      <td>24.64</td>\n",
       "      <td>45.63</td>\n",
       "      <td>9.36</td>\n",
       "      <td>37.88</td>\n",
       "      <td>48.37</td>\n",
       "      <td>27.53</td>\n",
       "      <td>19.38</td>\n",
       "      <td>1.515842</td>\n",
       "      <td>450.0</td>\n",
       "      <td>61.0</td>\n",
       "      <td>50th percentile</td>\n",
       "      <td>7</td>\n",
       "      <td>0.0</td>\n",
       "      <td>1.501587</td>\n",
       "      <td>20500.0</td>\n",
       "      <td>0.0</td>\n",
       "      <td>0.0</td>\n",
       "    </tr>\n",
       "  </tbody>\n",
       "</table>\n",
       "</div>"
      ],
      "text/plain": [
       "    Rail Project Id  10 Year Plan Ct Project Id    Ea   Ppno  \\\n",
       "846            None           0.0          None  None  CP029   \n",
       "\n",
       "                                                                                   Project Name  \\\n",
       "846  Los Angeles City: Leading the Transformation to Zero-Emission Electric Bus Transit Service   \n",
       "\n",
       "     District       County Route  \\\n",
       "846         7  Los Angeles  None   \n",
       "\n",
       "                                                                                                                                                                                                                                                                                                       Project Description  \\\n",
       "846  Acquire 112 zero-emission buses to replace existing propane vehicles and add new vehicles, in order to increase frequency of all existing DASH routes to 15-minute service and add 4 new routes, serving communities throughout the City of Los Angeles as recommended in the comprehensive Transit Service Analysis.   \n",
       "\n",
       "    Current Phase Con Existing Source S  Of Funds  \\\n",
       "846         CONST                            None   \n",
       "\n",
       "    Con Anticipated Source Of Funds Target Opening Year Beg Pm End Pm  \\\n",
       "846                            None                None   None   None   \n",
       "\n",
       "                     Primary Mode Previous Caltrans Nominations Urban Rural  \\\n",
       "846  Transit/Zev/Rail (Passenger)                 TIRCP Cycle 3        None   \n",
       "\n",
       "    Notes          Lead Agency Pid Approval Date  M010 Target Pa Ed  M200  \\\n",
       "846  None  City Of Los Angeles                    None               None   \n",
       "\n",
       "    Rtl Date  M460 Con Start Date  M500  Funding Need Phase S  \\\n",
       "846           None                 None                   0.0   \n",
       "\n",
       "     Pa Ed Cost  $1,000  Ps E Cost  $1,000  Row Cost  $1,000  \\\n",
       "846                 0.0                0.0               0.0   \n",
       "\n",
       "     Con Support Cost  $1,000  Non Infrastructure   Plan Cost  $1,000  \\\n",
       "846                       0.0                                     0.0   \n",
       "\n",
       "     Total Unfunded Need  $1,000 Previous Funding Request Phase  Last Scored  \\\n",
       "846                      66686.0                           None          0.0   \n",
       "\n",
       "    Csis Alignment  Csis Total Score  Out Of 45  Mode Shift  Csis  Score  \\\n",
       "846           None                          0.0                      0.0   \n",
       "\n",
       "    Mode Shift  Csis  Comment  Vmt  Csis  Score Vmt  Csis  Comment  \\\n",
       "846                      None               0.0               None   \n",
       "\n",
       "     Public Engagement  Csis  Score Public Engagement  Csis  Comment  \\\n",
       "846                             0.0                             None   \n",
       "\n",
       "     Dac Local Community Needs  Csis  Score  \\\n",
       "846                                     0.0   \n",
       "\n",
       "     Dac Local Community Needs  Csis  Comment  Safety  Csis  Score  \\\n",
       "846                                       0.0                  0.0   \n",
       "\n",
       "    Safety  Csis  Comment  Zev  Csis  Score Zev  Csis  Comment  \\\n",
       "846                  None               0.0               None   \n",
       "\n",
       "     Climate Resiliency  Csis  Score Climate Resiliency  Csis  Comment  \\\n",
       "846                              0.0                              None   \n",
       "\n",
       "     Natural Resources And Ecosystems  Csis  Score  \\\n",
       "846                                            0.0   \n",
       "\n",
       "    Natural Resources And Ecosystems  Csis  Comment  \\\n",
       "846                                            None   \n",
       "\n",
       "     Infill Development And Land Use  Csis  Score  \\\n",
       "846                                           0.0   \n",
       "\n",
       "    Infill Development And Land Use  Csis  Comment  \\\n",
       "846                                           None   \n",
       "\n",
       "     Benefits To Dac And Advancing Equity  Atp  Score  \\\n",
       "846                                               0.0   \n",
       "\n",
       "     Community Need  Atp  Score  Safety  Atp  Score  \\\n",
       "846                         0.0                 0.0   \n",
       "\n",
       "     Public Participation  Atp  Score  Community Feedback  Atp  Score  \\\n",
       "846                               0.0                             0.0   \n",
       "\n",
       "     Continued Engagement  Atp  Score  \\\n",
       "846                               0.0   \n",
       "\n",
       "     Context Sensitive And Innovation  Atp  Score  Transformative  Atp  Score  \\\n",
       "846                                           0.0                         0.0   \n",
       "\n",
       "     Atp Total Score  Out Of 100 Atp Alignment Access Alignment  2023  2024  \\\n",
       "846                          0.0          None             None  None  None   \n",
       "\n",
       "     2025  2026  2027  2028  2029  2030  2031  2032  2033  \\\n",
       "846   0.0  None   0.0   0.0   0.0   0.0   0.0   0.0   0.0   \n",
       "\n",
       "    Previous Funding Request  Purpose   Need Parcel Counts  \\\n",
       "846                     None             0.0          None   \n",
       "\n",
       "     Total Project Cost  $1,000  Con Capital Cost  $1,000  Hq Priority  \\\n",
       "846                    102790.0                       0.0          0.0   \n",
       "\n",
       "     District Priority Potential Funding Program S Located In Dac  \\\n",
       "846                0.0                        None           None   \n",
       "\n",
       "    Shs Capacity Increase Detail Secondary Mode S Full County Name Abbrev  \\\n",
       "846                            0             None      Los Angeles   None   \n",
       "\n",
       "          District Full Name Ppno1  Total Project Cost  $1,000 1  \\\n",
       "846  District 7: Los Angeles  None                           0.0   \n",
       "\n",
       "     Pa Ed Cost  $1,000 1  Ps E Cost  $1,000 1  \\\n",
       "846                   0.0                  0.0   \n",
       "\n",
       "     Non Infrastructure   Plan Cost  $1,000 1  \\\n",
       "846                                       0.0   \n",
       "\n",
       "                                                                                    Detailed Project Title  \\\n",
       "846  District 7-Los Angeles City: Leading the Transformation to Zero-Emission Electric Bus Transit Service   \n",
       "\n",
       "     Increase Peak Person Throughput  Reduction In Peak Period Delay  \\\n",
       "846                            21.64                           14.13   \n",
       "\n",
       "     Reduction In Fatal And Injury Crashes  Reduction In Injury Rates  \\\n",
       "846                                   2.21                      23.05   \n",
       "\n",
       "     Increase Access To Jobs  Increase Access Jobs To Dac  \\\n",
       "846                    24.64                        45.63   \n",
       "\n",
       "     Commercial Dev Developed  Tons Of Goods Impacted  Improve Air Quality  \\\n",
       "846                      9.36                   37.88                48.37   \n",
       "\n",
       "     Impact Natural Resources  Support Of Transportation  Fake Benefit Score  \\\n",
       "846                     27.53                      19.38            1.515842   \n",
       "\n",
       "     Statewide Rank  District Rank Fake Benefit Score Statewide Percentile  \\\n",
       "846           450.0           61.0                         50th percentile   \n",
       "\n",
       "     District District Median  Total Unfunded Need  $1,000 District Median  \\\n",
       "846                         7                                          0.0   \n",
       "\n",
       "     Fake Benefit Score District Median  \\\n",
       "846                            1.501587   \n",
       "\n",
       "     Total Project Cost  $1,000 District Median  \\\n",
       "846                                     20500.0   \n",
       "\n",
       "     Csis Total Score  Out Of 45 District Median  \\\n",
       "846                                          0.0   \n",
       "\n",
       "     Atp Total Score  Out Of 100 District Median  \n",
       "846                                          0.0  "
      ]
     },
     "execution_count": 111,
     "metadata": {},
     "output_type": "execute_result"
    }
   ],
   "source": [
    "concat1.sample()"
   ]
  }
 ],
 "metadata": {
  "kernelspec": {
   "display_name": "Python 3 (ipykernel)",
   "language": "python",
   "name": "python3"
  },
  "language_info": {
   "codemirror_mode": {
    "name": "ipython",
    "version": 3
   },
   "file_extension": ".py",
   "mimetype": "text/x-python",
   "name": "python",
   "nbconvert_exporter": "python",
   "pygments_lexer": "ipython3",
   "version": "3.9.13"
  }
 },
 "nbformat": 4,
 "nbformat_minor": 5
}
