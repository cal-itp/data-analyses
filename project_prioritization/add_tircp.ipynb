{
 "cells": [
  {
   "cell_type": "markdown",
   "id": "cb6a1a41-5a4c-4178-8651-5cee12f3ec13",
   "metadata": {},
   "source": [
    "## Add TIRCP"
   ]
  },
  {
   "cell_type": "code",
   "execution_count": 1,
   "id": "c2bbe80b-66c4-44d6-9888-93b8ae4f8ab2",
   "metadata": {},
   "outputs": [
    {
     "name": "stderr",
     "output_type": "stream",
     "text": [
      "/opt/conda/lib/python3.9/site-packages/geopandas/_compat.py:123: UserWarning: The Shapely GEOS version (3.10.3-CAPI-1.16.1) is incompatible with the GEOS version PyGEOS was compiled with (3.10.1-CAPI-1.16.0). Conversions between both will be slow.\n"
     ]
    }
   ],
   "source": [
    "import _utils\n",
    "import pandas as pd\n",
    "from calitp.sql import to_snakecase"
   ]
  },
  {
   "cell_type": "code",
   "execution_count": 2,
   "id": "85238cd5-f743-480b-968e-c9b4dae07d66",
   "metadata": {},
   "outputs": [],
   "source": [
    "pd.options.display.max_columns = 100\n",
    "pd.set_option(\"display.max_rows\", None)\n",
    "pd.set_option(\"display.max_colwidth\", None)"
   ]
  },
  {
   "cell_type": "code",
   "execution_count": 3,
   "id": "d9ae83e2-c80f-4ea9-a125-bf5d5695fbb7",
   "metadata": {},
   "outputs": [
    {
     "name": "stderr",
     "output_type": "stream",
     "text": [
      "/opt/conda/lib/python3.9/site-packages/fuzzywuzzy/fuzz.py:11: UserWarning: Using slow pure-python SequenceMatcher. Install python-Levenshtein to remove this warning\n"
     ]
    }
   ],
   "source": [
    "import fuzzywuzzy\n",
    "from fuzzywuzzy import process"
   ]
  },
  {
   "cell_type": "markdown",
   "id": "bf5d9247-a4cf-4a4d-9a14-8019b2183ba2",
   "metadata": {},
   "source": [
    "### ATP - 10 Year Non SHOPP "
   ]
  },
  {
   "cell_type": "code",
   "execution_count": 4,
   "id": "fd66609e-464a-4bd0-b430-848e2dfcd895",
   "metadata": {},
   "outputs": [],
   "source": [
    "# Read in 10 Year non SHOPP\n",
    "atp_shopp = to_snakecase(\n",
    "    pd.read_excel(f\"{_utils.GCS_FILE_PATH}cleaned_data_with_fake_metrics_plus_atp.xlsx\")\n",
    ")"
   ]
  },
  {
   "cell_type": "code",
   "execution_count": 5,
   "id": "ce97edf3-0cb5-4008-8e18-287fe7bdc372",
   "metadata": {},
   "outputs": [],
   "source": [
    "# Subset\n",
    "atp_shopp_subset = [\n",
    "    \"ppno\",\n",
    "    \"project_name\",\n",
    "    \"lead_agency\",\n",
    "    \"previous_caltrans_nominations\",\n",
    "    \"full_county_name\",\n",
    "    \"district\",\n",
    "    \"project_description\",\n",
    "    \"current_phase\",\n",
    "    \"primary_mode\",\n",
    "    \"urban_rural\",\n",
    "    'total_project_cost__$1,000',\n",
    "    \"total_unfunded_need__$1,000\",\n",
    "    \"notes\",\n",
    "    'shs_capacity_increase_detail'\n",
    "]"
   ]
  },
  {
   "cell_type": "code",
   "execution_count": 6,
   "id": "cd738aa0-e3da-4aca-860e-d6eca9ce2226",
   "metadata": {},
   "outputs": [],
   "source": [
    "atp_shopp2 = atp_shopp[atp_shopp_subset]"
   ]
  },
  {
   "cell_type": "code",
   "execution_count": 7,
   "id": "15004a48-f44b-4342-8e93-9ead6ab1fc6e",
   "metadata": {},
   "outputs": [],
   "source": [
    "# atp_shopp2.sample()"
   ]
  },
  {
   "cell_type": "code",
   "execution_count": 8,
   "id": "6a609e26-856b-47af-997e-0d92e6ccb43b",
   "metadata": {},
   "outputs": [],
   "source": [
    "# Function to clean agency/organization names\n",
    "def organization_cleaning(df, column_wanted: str):\n",
    "    df[column_wanted] = (\n",
    "        df[column_wanted]\n",
    "        .str.strip()\n",
    "        .str.split(\",\")\n",
    "        .str[0]\n",
    "        .str.replace(\"/\", \"\")\n",
    "        .str.split(\"(\")\n",
    "        .str[0]\n",
    "        .str.split(\"/\")\n",
    "        .str[0]\n",
    "        .str.title()\n",
    "        .str.replace(\"Trasit\", \"Transit\")\n",
    "        .str.strip()  # strip again after getting rid of certain things\n",
    "    )\n",
    "    return df"
   ]
  },
  {
   "cell_type": "code",
   "execution_count": 9,
   "id": "72b8f0e8-574b-4ab3-8f01-98fb375d135c",
   "metadata": {},
   "outputs": [
    {
     "name": "stderr",
     "output_type": "stream",
     "text": [
      "/opt/conda/lib/python3.9/site-packages/pandas/core/generic.py:5516: SettingWithCopyWarning: \n",
      "A value is trying to be set on a copy of a slice from a DataFrame.\n",
      "Try using .loc[row_indexer,col_indexer] = value instead\n",
      "\n",
      "See the caveats in the documentation: https://pandas.pydata.org/pandas-docs/stable/user_guide/indexing.html#returning-a-view-versus-a-copy\n"
     ]
    }
   ],
   "source": [
    "# Lowercase previous caltrans nominations\n",
    "atp_shopp2.previous_caltrans_nominations = (\n",
    "    atp_shopp2.previous_caltrans_nominations.str.lower()\n",
    ")"
   ]
  },
  {
   "cell_type": "code",
   "execution_count": 10,
   "id": "861271c5-7843-4f05-85b9-bc7b6f384c33",
   "metadata": {},
   "outputs": [
    {
     "name": "stderr",
     "output_type": "stream",
     "text": [
      "/tmp/ipykernel_2355/2101408362.py:3: SettingWithCopyWarning: \n",
      "A value is trying to be set on a copy of a slice from a DataFrame.\n",
      "Try using .loc[row_indexer,col_indexer] = value instead\n",
      "\n",
      "See the caveats in the documentation: https://pandas.pydata.org/pandas-docs/stable/user_guide/indexing.html#returning-a-view-versus-a-copy\n"
     ]
    }
   ],
   "source": [
    "# Clean ATP \n",
    "atp_shopp2 = organization_cleaning(atp_shopp2, \"lead_agency\")"
   ]
  },
  {
   "cell_type": "code",
   "execution_count": 11,
   "id": "f6b4f1d5-8576-4551-8ce3-8ab77a8f9e63",
   "metadata": {
    "scrolled": true,
    "tags": []
   },
   "outputs": [],
   "source": [
    "# atp_shopp2.head(100)"
   ]
  },
  {
   "cell_type": "markdown",
   "id": "96241d8e-fa10-4c07-9159-a1d41b80fdb5",
   "metadata": {},
   "source": [
    "### TIRCP \n",
    "* Filter out projects in which total cost equals total award "
   ]
  },
  {
   "cell_type": "code",
   "execution_count": 12,
   "id": "b58732d7-ca56-46ed-b7d1-0d41b4d9ff84",
   "metadata": {},
   "outputs": [],
   "source": [
    "# Read in TIRCP. Last updated November 2022.\n",
    "tircp = to_snakecase(\n",
    "    pd.read_excel(\n",
    "        \"gs://calitp-analytics-data/data-analyses/tircp/Tableau_Workbook.xlsx\"\n",
    "    )\n",
    ")"
   ]
  },
  {
   "cell_type": "code",
   "execution_count": 13,
   "id": "91556902-a9f6-4d19-921c-6c8f7de6d370",
   "metadata": {},
   "outputs": [],
   "source": [
    "# tircp.columns"
   ]
  },
  {
   "cell_type": "code",
   "execution_count": 14,
   "id": "d9f48b3b-2a22-4108-a525-3eb2fcbf6f1f",
   "metadata": {},
   "outputs": [],
   "source": [
    "# Subset TIRCP with only the basic information\n",
    "tircp_subset = [\n",
    "    \"award_year\",\n",
    "    \"grant_recipient\",\n",
    "    \"title\",\n",
    "    \"ppno\",\n",
    "    \"district\",\n",
    "    \"county\",\n",
    "    \"description\",\n",
    "    \"total__cost\",\n",
    "    \"tircp\",\n",
    "    \"award_cycle\",\n",
    "    \"on_shs?\",\n",
    "    \"comments_additional_contacts\"\n",
    "]"
   ]
  },
  {
   "cell_type": "code",
   "execution_count": 15,
   "id": "d772cd9a-c59f-4d37-920c-2ad1f7f64265",
   "metadata": {},
   "outputs": [],
   "source": [
    "tircp2 = tircp[tircp_subset]"
   ]
  },
  {
   "cell_type": "code",
   "execution_count": 16,
   "id": "5782e128-b6f7-451f-8cad-af9c0115e98c",
   "metadata": {},
   "outputs": [
    {
     "name": "stderr",
     "output_type": "stream",
     "text": [
      "/tmp/ipykernel_2355/3217889362.py:2: SettingWithCopyWarning: \n",
      "A value is trying to be set on a copy of a slice from a DataFrame.\n",
      "Try using .loc[row_indexer,col_indexer] = value instead\n",
      "\n",
      "See the caveats in the documentation: https://pandas.pydata.org/pandas-docs/stable/user_guide/indexing.html#returning-a-view-versus-a-copy\n"
     ]
    }
   ],
   "source": [
    "# Create a column with cycle + tircp for previous CT nominations\n",
    "tircp2[\"previous_caltrans_nominations\"] = \"TIRCP\" + \" Cycle \" + tircp2[\"award_cycle\"].astype(\"str\")"
   ]
  },
  {
   "cell_type": "code",
   "execution_count": 17,
   "id": "682a34c6-76d6-4fcb-8a9e-ef1437469533",
   "metadata": {},
   "outputs": [
    {
     "name": "stderr",
     "output_type": "stream",
     "text": [
      "/tmp/ipykernel_2355/2212343423.py:2: SettingWithCopyWarning: \n",
      "A value is trying to be set on a copy of a slice from a DataFrame.\n",
      "Try using .loc[row_indexer,col_indexer] = value instead\n",
      "\n",
      "See the caveats in the documentation: https://pandas.pydata.org/pandas-docs/stable/user_guide/indexing.html#returning-a-view-versus-a-copy\n"
     ]
    }
   ],
   "source": [
    "# Create column for unmet needs\n",
    "tircp2[\"total_unfunded_need__$1,000\"] = tircp2[\"total__cost\"] - tircp2[\"tircp\"]"
   ]
  },
  {
   "cell_type": "code",
   "execution_count": 18,
   "id": "9910645c-7b2a-4d6d-9dac-a1113786ffca",
   "metadata": {},
   "outputs": [
    {
     "name": "stderr",
     "output_type": "stream",
     "text": [
      "/tmp/ipykernel_2355/2443383145.py:3: SettingWithCopyWarning: \n",
      "A value is trying to be set on a copy of a slice from a DataFrame.\n",
      "Try using .loc[row_indexer,col_indexer] = value instead\n",
      "\n",
      "See the caveats in the documentation: https://pandas.pydata.org/pandas-docs/stable/user_guide/indexing.html#returning-a-view-versus-a-copy\n"
     ]
    }
   ],
   "source": [
    "# Perhaps to narrow down projects\n",
    "# Figure out which TIRCP projects' total cost are completely covered by TIRCP requested\n",
    "tircp2[\"total_cost_vs_tircp_req\"] =  tircp2[\"tircp\"]/tircp2[\"total__cost\"]"
   ]
  },
  {
   "cell_type": "code",
   "execution_count": 19,
   "id": "972a6e04-7d07-42a6-9ae3-764051f14ee3",
   "metadata": {
    "scrolled": true,
    "tags": []
   },
   "outputs": [],
   "source": [
    "# tircp2.total_cost_vs_tircp_req.value_counts()"
   ]
  },
  {
   "cell_type": "code",
   "execution_count": 20,
   "id": "7eb933ed-977f-430d-88c3-6d46293403d6",
   "metadata": {},
   "outputs": [],
   "source": [
    "# Filter out projects in which total cost equals total award \n",
    "tircp2 = (tircp2.loc[tircp2.total_cost_vs_tircp_req != 1]).reset_index(drop=True)"
   ]
  },
  {
   "cell_type": "code",
   "execution_count": 21,
   "id": "003abcb7-2179-4edf-831a-0cd5bba49bad",
   "metadata": {},
   "outputs": [],
   "source": [
    "# Drop some columns\n",
    "tircp_cols_drop = ['tircp', 'total_cost_vs_tircp_req', 'award_cycle']"
   ]
  },
  {
   "cell_type": "code",
   "execution_count": 22,
   "id": "c44b9a50-d0eb-4658-bebc-799264b50262",
   "metadata": {},
   "outputs": [],
   "source": [
    "tircp2 = tircp2.drop(columns = tircp_cols_drop)"
   ]
  },
  {
   "cell_type": "code",
   "execution_count": 23,
   "id": "206297b2-cdc8-446d-8f7c-3407105fab95",
   "metadata": {},
   "outputs": [
    {
     "data": {
      "text/plain": [
       "(93, 12)"
      ]
     },
     "execution_count": 23,
     "metadata": {},
     "output_type": "execute_result"
    }
   ],
   "source": [
    "tircp2.shape"
   ]
  },
  {
   "cell_type": "markdown",
   "id": "096a1d7d-9977-4fbb-9bfb-d35fda70d2f1",
   "metadata": {},
   "source": [
    "### Find TIRCP projects that are already in the 10 year Non SHOPP. "
   ]
  },
  {
   "cell_type": "markdown",
   "id": "209663bb-9b81-4977-92fd-0d7b8e5100c5",
   "metadata": {},
   "source": [
    "#### Harmonize the way columns are named/formatted.\n",
    "* TIRCP: `Total_cost` and `unmet needs` should be floats and divided by 1000. `District` should be int64. "
   ]
  },
  {
   "cell_type": "code",
   "execution_count": 24,
   "id": "e7d3bc6f-3660-45f5-97ca-1171b25a6b41",
   "metadata": {},
   "outputs": [
    {
     "data": {
      "text/plain": [
       "(242, 814)"
      ]
     },
     "execution_count": 24,
     "metadata": {},
     "output_type": "execute_result"
    }
   ],
   "source": [
    "atp_shopp2.previous_caltrans_nominations.nunique(), len(atp_shopp2)"
   ]
  },
  {
   "cell_type": "code",
   "execution_count": 25,
   "id": "d6155648-fe73-4d3c-a4a7-c95f9d682410",
   "metadata": {
    "scrolled": true,
    "tags": []
   },
   "outputs": [],
   "source": [
    "# Find projects that have DRMT in previous caltrans nominations\n",
    "atp_shopp_drmt = (\n",
    "    atp_shopp2[atp_shopp2[\"previous_caltrans_nominations\"].str.contains((\"tircp|drmt\"))]\n",
    ").reset_index(drop=True)"
   ]
  },
  {
   "cell_type": "code",
   "execution_count": 26,
   "id": "86db0fc2-43c1-4ada-a304-b1fed8014368",
   "metadata": {},
   "outputs": [],
   "source": [
    "# Check out that the filtering was correct. \n",
    "# atp_shopp_drmt.previous_caltrans_nominations.value_counts()"
   ]
  },
  {
   "cell_type": "code",
   "execution_count": 27,
   "id": "8aa7dac1-bec7-404d-8929-02c7fbd314af",
   "metadata": {},
   "outputs": [],
   "source": [
    "# Natalie's function\n",
    "def align_funding_numbers(df, list_of_cols):\n",
    "    for col in list_of_cols:\n",
    "        df[col] = df[col]/1000\n",
    "        \n",
    "    return df"
   ]
  },
  {
   "cell_type": "code",
   "execution_count": 28,
   "id": "c61b5e48-e4d9-4338-a1dc-1171c1e87ce5",
   "metadata": {},
   "outputs": [],
   "source": [
    "tircp2 = align_funding_numbers(tircp2, [\"total_unfunded_need__$1,000\", \"total__cost\",])"
   ]
  },
  {
   "cell_type": "code",
   "execution_count": 29,
   "id": "84bf700b-c053-4a05-a8ef-a738814945a7",
   "metadata": {},
   "outputs": [],
   "source": [
    "# (tircp2[[\"total_unfunded_need__$1,000\"]]/1000).astype('int64')*1000"
   ]
  },
  {
   "cell_type": "code",
   "execution_count": 30,
   "id": "8046f854-af91-4cde-bd3a-b7d3b0708147",
   "metadata": {},
   "outputs": [],
   "source": [
    "tircp2[[\"total_unfunded_need__$1,000\", \"total__cost\",]] = tircp2[[\"total_unfunded_need__$1,000\", \"total__cost\",]].fillna(0)"
   ]
  },
  {
   "cell_type": "code",
   "execution_count": 31,
   "id": "75035054-4c67-417c-91ab-810cb81e75a9",
   "metadata": {},
   "outputs": [],
   "source": [
    "tircp2[\"district_full_name\"] = tircp2[\"district\"]"
   ]
  },
  {
   "cell_type": "code",
   "execution_count": 32,
   "id": "3a354c4e-f069-40e7-9af5-7f4a2312b196",
   "metadata": {},
   "outputs": [],
   "source": [
    "# Extract digit from district. Fill \"Various\" districts with \"0\" and change to int64\n",
    "tircp2[\"district\"] = tircp2[\"district\"].str.extract('(\\d+)').fillna(0).astype('int64')"
   ]
  },
  {
   "cell_type": "code",
   "execution_count": 33,
   "id": "e8b8da34-2011-49e1-a4bf-f7f9f5625fd3",
   "metadata": {},
   "outputs": [],
   "source": [
    "# Rename columns\n",
    "tircp_new_cols = {'grant_recipient': 'lead_agency',\n",
    "                  'title': 'project_name',\n",
    "                  'county': 'full_county_name', \n",
    "                  'description': 'project_description',\n",
    "                  'total__cost': 'total_project_cost__$1,000', \n",
    "                  'on_shs?': 'shs_capacity_increase_detail',\n",
    "                  'comments_additional_contacts': 'notes',\n",
    "                 }"
   ]
  },
  {
   "cell_type": "code",
   "execution_count": 34,
   "id": "7919d1b1-9e22-43b0-ab92-d46ea3e87bcb",
   "metadata": {},
   "outputs": [],
   "source": [
    "# atp_shopp_drmt.info(), tircp2.info()"
   ]
  },
  {
   "cell_type": "code",
   "execution_count": 35,
   "id": "566af02a-aea5-41b8-b0a7-06b27a9175b4",
   "metadata": {},
   "outputs": [],
   "source": [
    "tircp2 = tircp2.rename(columns = tircp_new_cols)"
   ]
  },
  {
   "cell_type": "markdown",
   "id": "bfd690a2-b799-4b69-bb56-9ee7ad8038e9",
   "metadata": {},
   "source": [
    "#### Test with Merges\n",
    "* Zero merges across the board. "
   ]
  },
  {
   "cell_type": "code",
   "execution_count": 36,
   "id": "e18a2ae0-f833-40d8-9ba3-0ad63c5f5304",
   "metadata": {},
   "outputs": [],
   "source": [
    "# Make a copy of tircp\n",
    "# tircp_test = tircp2.copy()"
   ]
  },
  {
   "cell_type": "code",
   "execution_count": 37,
   "id": "b7a6d4b5-6f10-459a-8b81-53a0a5bee8c6",
   "metadata": {},
   "outputs": [],
   "source": [
    "# Round numbers\n",
    "# tircp_test[\"total_unfunded_need__$1,000\"] = (tircp_test[[\"total_unfunded_need__$1,000\"]]/1000).astype('int64')*1000"
   ]
  },
  {
   "cell_type": "code",
   "execution_count": 38,
   "id": "8664892c-1858-45f7-850c-c0c55aee2efb",
   "metadata": {},
   "outputs": [],
   "source": [
    "# tircp_test[\"total_project_cost__$1,000\"] = (tircp_test[[\"total_project_cost__$1,000\"]]/1000).astype('int64')*1000"
   ]
  },
  {
   "cell_type": "code",
   "execution_count": 39,
   "id": "0dee73f8-f072-4362-b78b-a8180d2896f7",
   "metadata": {},
   "outputs": [],
   "source": [
    "# atp_shopp_drmt[\"total_project_cost__$1,000\"] = ((atp_shopp_drmt[[\"total_project_cost__$1,000\"]]/1000).astype('int64')*1000).astype('int64')\n",
    "# atp_shopp_drmt[\"total_project_cost__$1,000\"] = ((atp_shopp_drmt[[\"total_project_cost__$1,000\"]]/1000).astype('int64')*1000).astype('int64')"
   ]
  },
  {
   "cell_type": "code",
   "execution_count": 40,
   "id": "9bb2b535-ed53-4ee7-a0d2-5ed36d816cad",
   "metadata": {},
   "outputs": [],
   "source": [
    "# Merge on district and unfunded needs\n",
    "# test1 = pd.merge(atp_shopp_drmt, tircp2, how= \"outer\", on=[\"district\", \"total_unfunded_need__$1,000\"], indicator = True)"
   ]
  },
  {
   "cell_type": "code",
   "execution_count": 41,
   "id": "081af521-a523-4bfd-9ef5-6e55ab6bf413",
   "metadata": {},
   "outputs": [],
   "source": [
    "# test1._merge.value_counts()"
   ]
  },
  {
   "cell_type": "code",
   "execution_count": 42,
   "id": "3b716695-f3b9-455c-afa1-e543de6657a2",
   "metadata": {},
   "outputs": [],
   "source": [
    "# Merge on county and unfunded needs\n",
    "# test2 = pd.merge(atp_shopp_drmt, tircp2, how= \"left\", on=[\"full_county_name\", \"total_unfunded_need__$1,000\"], indicator = True, suffixes = [\"_shopp\", \"_tircp\"])"
   ]
  },
  {
   "cell_type": "code",
   "execution_count": 43,
   "id": "3d8741cd-40a2-49ad-8dc7-e922903f278d",
   "metadata": {},
   "outputs": [],
   "source": [
    "# test2._merge.value_counts()"
   ]
  },
  {
   "cell_type": "code",
   "execution_count": 44,
   "id": "afdd6d7f-ca92-4314-9009-23a736d274c5",
   "metadata": {},
   "outputs": [],
   "source": [
    "# test2.loc[test2._merge == \"both\"][[\"project_name_shopp\",\"project_name_tircp\", \"full_county_name\", \"project_description_shopp\",\"project_description_tircp\"]]"
   ]
  },
  {
   "cell_type": "code",
   "execution_count": 45,
   "id": "5cd991f8-8dea-4eee-a56f-bb6908f8df70",
   "metadata": {},
   "outputs": [],
   "source": [
    "# Merge on district and total costs \n",
    "# test2 = pd.merge(atp_shopp_drmt, tircp2, how= \"outer\", on=[\"district\", \"total_project_cost__$1,000\"], indicator = True)"
   ]
  },
  {
   "cell_type": "markdown",
   "id": "3ca8739f-73dc-4c14-b3ef-c88ace71b133",
   "metadata": {},
   "source": [
    "#### Observation: \n",
    "* Total Project Cost, project titles, lead agency, and districts are potentially listed differently across datasets.\n",
    "* Inglewood Transit Connector Project\t  is listed as $1,016,000.000 in TIRCP but 1,666,466.0 in non SHOPP.\n",
    "    * City Of Inglewood is the grant recipient in TIRCP but Caltrans is the lead agency in Non SHOPP.\n",
    "* Valley Rail Expansion: Altamont Corridor Express (ACE) Ceres to Turlock Extension (the TIRCP title) is listed as D6 in TIRCP but D10 in Stanislaus.\n",
    "    * Fresno Subdivision (Ceres To Turlock) Double Tracking is the non SHOPP title."
   ]
  },
  {
   "cell_type": "code",
   "execution_count": 46,
   "id": "1884f7bf-ab50-4a98-81c0-e3de3429169d",
   "metadata": {},
   "outputs": [],
   "source": [
    "tircp_already_entered = ['Inglewood Transit Connector Project','Valley Rail Expansion: Altamont Corridor Express (ACE) Ceres to Turlock Extension',]"
   ]
  },
  {
   "cell_type": "code",
   "execution_count": 47,
   "id": "8e02f629-88c7-4f2f-b4a7-67b2708de360",
   "metadata": {},
   "outputs": [
    {
     "data": {
      "text/plain": [
       "3"
      ]
     },
     "execution_count": 47,
     "metadata": {},
     "output_type": "execute_result"
    }
   ],
   "source": [
    "# Projects with only TIRCP in the previous nomination.\n",
    "len(atp_shopp_drmt[atp_shopp_drmt[\"previous_caltrans_nominations\"].str.contains((\"tircp\"))])"
   ]
  },
  {
   "cell_type": "code",
   "execution_count": 48,
   "id": "bc85ae55-080c-4c06-a38c-80dcedb7f463",
   "metadata": {
    "scrolled": true,
    "tags": []
   },
   "outputs": [],
   "source": [
    "# Delete TIRCP projects that are already in non SHOPP\n",
    "# One project below in non SHOPP mentions TIRCP but that project\n",
    "# was ultimately not nominated.\n",
    "tircp2 = (tircp2[~tircp2[\"project_name\"].isin(tircp_already_entered)]).reset_index(drop = True)"
   ]
  },
  {
   "cell_type": "code",
   "execution_count": 49,
   "id": "27b67771-a209-4feb-acb2-7b5edd04bc0a",
   "metadata": {
    "scrolled": true,
    "tags": []
   },
   "outputs": [],
   "source": [
    "# atp_shopp_drmt[atp_shopp_drmt[\"previous_caltrans_nominations\"].str.contains((\"tircp\"))].drop(columns = \"notes\")"
   ]
  },
  {
   "cell_type": "markdown",
   "id": "d181517d-464e-4fbf-b53f-9d91f6de02cf",
   "metadata": {},
   "source": [
    "#### Test with Project Names"
   ]
  },
  {
   "cell_type": "code",
   "execution_count": 50,
   "id": "a3d51990-832b-4085-b272-669174c5a9d3",
   "metadata": {},
   "outputs": [],
   "source": [
    "tircp2[\"project_test\"] = tircp2[\"project_name\"]"
   ]
  },
  {
   "cell_type": "code",
   "execution_count": 51,
   "id": "b60d9694-cd93-4089-bc51-1b853ed8b44f",
   "metadata": {},
   "outputs": [],
   "source": [
    "atp_shopp_drmt[\"project_test\"] = atp_shopp_drmt[\"project_name\"]"
   ]
  },
  {
   "cell_type": "code",
   "execution_count": 52,
   "id": "1779e25b-e302-484f-9740-4cc7162f5bdb",
   "metadata": {},
   "outputs": [],
   "source": [
    "def simplify_project_names(df, column_wanted: str):\n",
    "    df[column_wanted] = (\n",
    "        df[column_wanted]\n",
    "        .str.strip()\n",
    "        .str.lower()\n",
    "        .str.replace(\"/\", \"\")\n",
    "        .str.replace(\"-\",\"\")\n",
    "        .str.replace(\"!\",\"\")\n",
    "        .str.replace(\"&\",\"\")\n",
    "        .str.replace(\"#\",\"\")\n",
    "        .str.replace(\"(\", \"\")\n",
    "        .str.replace(\")\", \"\")\n",
    "        .str.replace(\":\",\"\")\n",
    "        .str.replace(\"the\",\"\")\n",
    "        .str.strip() # strip again after getting rid of certain things\n",
    "    )\n",
    "    return df"
   ]
  },
  {
   "cell_type": "code",
   "execution_count": 53,
   "id": "13a0beb2-fb7a-40b6-8725-ae7dfe043221",
   "metadata": {},
   "outputs": [
    {
     "name": "stderr",
     "output_type": "stream",
     "text": [
      "/tmp/ipykernel_2355/1193460345.py:3: FutureWarning: The default value of regex will change from True to False in a future version. In addition, single character regular expressions will *not* be treated as literal strings when regex=True.\n"
     ]
    }
   ],
   "source": [
    "tircp2 = simplify_project_names(tircp2, \"project_test\")"
   ]
  },
  {
   "cell_type": "code",
   "execution_count": 54,
   "id": "77698d2e-ed0f-4a50-80a2-8e6651fc86cf",
   "metadata": {},
   "outputs": [
    {
     "name": "stderr",
     "output_type": "stream",
     "text": [
      "/tmp/ipykernel_2355/1193460345.py:3: FutureWarning: The default value of regex will change from True to False in a future version. In addition, single character regular expressions will *not* be treated as literal strings when regex=True.\n"
     ]
    }
   ],
   "source": [
    "atp_shopp_drmt = simplify_project_names(atp_shopp_drmt, \"project_test\")"
   ]
  },
  {
   "cell_type": "code",
   "execution_count": 55,
   "id": "771563fd-ef89-400c-87fd-4ea22ba8e170",
   "metadata": {
    "scrolled": true,
    "tags": []
   },
   "outputs": [],
   "source": [
    "# atp_shopp_drmt[[\"project_name\",\"project_test\"]].sort_values(by = [\"project_name\"])"
   ]
  },
  {
   "cell_type": "code",
   "execution_count": 56,
   "id": "07c7c782-2091-4fa8-bb17-461210bda2ed",
   "metadata": {},
   "outputs": [],
   "source": [
    "# Merge on project names\n",
    "test3 = pd.merge(atp_shopp_drmt, tircp2, how= \"outer\", on=[\"project_test\"], indicator = True, suffixes = [\"_shopp\", \"_tircp\"] )"
   ]
  },
  {
   "cell_type": "code",
   "execution_count": 57,
   "id": "1cadc113-4e40-47bc-a9fe-fa9c7a236225",
   "metadata": {},
   "outputs": [
    {
     "data": {
      "text/plain": [
       "left_only     167\n",
       "right_only     91\n",
       "both            0\n",
       "Name: _merge, dtype: int64"
      ]
     },
     "execution_count": 57,
     "metadata": {},
     "output_type": "execute_result"
    }
   ],
   "source": [
    "test3._merge.value_counts()"
   ]
  },
  {
   "cell_type": "code",
   "execution_count": 58,
   "id": "d339dafd-9b46-485d-830f-f03b9fcf9457",
   "metadata": {
    "scrolled": true,
    "tags": []
   },
   "outputs": [],
   "source": [
    "# atp_shopp_drmt[[\"project_test\"]].sort_values(\"project_test\")"
   ]
  },
  {
   "cell_type": "code",
   "execution_count": 59,
   "id": "79fcc908-95b4-4c5d-8d49-69e9684f36d5",
   "metadata": {
    "scrolled": true,
    "tags": []
   },
   "outputs": [],
   "source": [
    "# tircp2[[\"project_test\"]].sort_values(\"project_test\")"
   ]
  },
  {
   "cell_type": "markdown",
   "id": "e9aeddb1-686d-4a61-a5fb-d09fe50ee310",
   "metadata": {
    "tags": []
   },
   "source": [
    "#### Test 1 with Fuzzy Matching on Project Names\n",
    "* Unsuccessful with project names. Only 2 matches and after looking at descriptions/districts manually, they aren't similar enough."
   ]
  },
  {
   "cell_type": "code",
   "execution_count": 60,
   "id": "97a0a86a-936c-4f16-927f-f8da313bd310",
   "metadata": {},
   "outputs": [],
   "source": [
    "# Replace all rows in agency column with a min ratio with  \"string_to_match value\"\n",
    "def replace_matches_in_column(df, column, new_col_name, string_to_match, min_ratio):\n",
    "    # Get a list of unique strings\n",
    "    strings = df[column].unique()\n",
    "\n",
    "    # Get the top 10 closest matches to our input string\n",
    "    matches = fuzzywuzzy.process.extract(\n",
    "        string_to_match, strings, limit=10, scorer=fuzzywuzzy.fuzz.token_sort_ratio\n",
    "    )\n",
    "\n",
    "    # Only get matches with a  min ratio\n",
    "    close_matches = [matches[0] for matches in matches if matches[1] > min_ratio]\n",
    "\n",
    "    # Get the rows of all the close matches in our dataframe\n",
    "    rows_with_matches = df[column].isin(close_matches)\n",
    "\n",
    "    # replace all rows with close matches with the input matches\n",
    "    df.loc[rows_with_matches, new_col_name] = string_to_match"
   ]
  },
  {
   "cell_type": "code",
   "execution_count": 61,
   "id": "f51fea69-60b9-4599-b637-69acf0e76aa1",
   "metadata": {},
   "outputs": [],
   "source": [
    "# Create a list of all the TIRCP names \n",
    "tircp_projects = tircp2.project_name.unique().tolist()"
   ]
  },
  {
   "cell_type": "code",
   "execution_count": 62,
   "id": "3db3e68b-022b-4f33-ac76-3ac7dca1ea69",
   "metadata": {},
   "outputs": [],
   "source": [
    "atp_shopp_projects = atp_shopp_drmt.project_name.unique().tolist()"
   ]
  },
  {
   "cell_type": "code",
   "execution_count": 63,
   "id": "7a4526d9-62c4-4881-aaf5-fc2ecf94b964",
   "metadata": {},
   "outputs": [],
   "source": [
    "#for i in atp_shopp_projects:\n",
    "#    replace_matches_in_column(\n",
    "#        tircp2, \"project_name\", \"project_name_fuzzy_match\", i, 80\n",
    "#    )"
   ]
  },
  {
   "cell_type": "code",
   "execution_count": 64,
   "id": "a9884e76-7190-4cee-9cec-b7eee80c3541",
   "metadata": {
    "scrolled": true,
    "tags": []
   },
   "outputs": [],
   "source": [
    "# tircp2[[\"project_description\", \"project_description\",\"project_description_fuzzy_match\"]]"
   ]
  },
  {
   "cell_type": "code",
   "execution_count": 65,
   "id": "2d28b9a4-9b71-40f0-a9d3-82ce21c28d84",
   "metadata": {},
   "outputs": [],
   "source": [
    "# Merge on project names\n",
    "# test4 = pd.merge(atp_shopp_drmt, tircp2, how= \"outer\", left_on=[\"project_test\"], right_on = [\"project_name_fuzzy_match\"], indicator = True, suffixes = [\"_shopp\", \"_tircp\"] )"
   ]
  },
  {
   "cell_type": "code",
   "execution_count": 66,
   "id": "acc8ca9b-7107-4662-8e5d-d29a45e58028",
   "metadata": {},
   "outputs": [],
   "source": [
    "# test4._merge.value_counts()"
   ]
  },
  {
   "cell_type": "code",
   "execution_count": 67,
   "id": "13b5a594-6899-403f-a5f0-be142c494d4c",
   "metadata": {},
   "outputs": [],
   "source": [
    "# test4.loc[test4._merge == \"both\"][[\"district_shopp\",\"district_tircp\",\"project_name_tircp\",\"project_name_shopp\", \"project_description_shopp\", \"project_description_tircp\"]]"
   ]
  },
  {
   "cell_type": "markdown",
   "id": "5ca3979e-f827-4e8e-87ce-4ba9d8c5bdd5",
   "metadata": {},
   "source": [
    "### Concat"
   ]
  },
  {
   "cell_type": "code",
   "execution_count": 68,
   "id": "e5d99b52-ad02-4f71-a0a0-19f0e96c8ce1",
   "metadata": {},
   "outputs": [],
   "source": [
    "# Drop columns\n",
    "tircp2 = tircp2.drop(columns = ['project_test', 'award_year'])"
   ]
  },
  {
   "cell_type": "code",
   "execution_count": 69,
   "id": "5d95657e-b8d6-4f1a-a325-c725e2d9dd9f",
   "metadata": {},
   "outputs": [],
   "source": [
    "# Add column for primary mode. \n",
    "tircp2[\"primary_mode\"] = \"Transit/Zev/Rail (Passenger)\" "
   ]
  },
  {
   "cell_type": "code",
   "execution_count": 70,
   "id": "3f3c562f-4131-4728-b53d-e82c0b80a888",
   "metadata": {},
   "outputs": [],
   "source": [
    "atp_drop = ['unnamed:_0','update_complete','modified',\n",
    " 'modified_by',] "
   ]
  },
  {
   "cell_type": "code",
   "execution_count": 71,
   "id": "3202dc48-927d-44ae-848e-57ed50a8fc74",
   "metadata": {},
   "outputs": [],
   "source": [
    "atp_shopp = atp_shopp.drop(columns = atp_drop)"
   ]
  },
  {
   "cell_type": "code",
   "execution_count": 72,
   "id": "2e5c1eda-a3f1-42e8-b7d1-0d327fe832b7",
   "metadata": {
    "scrolled": true,
    "tags": []
   },
   "outputs": [],
   "source": [
    "# tircp2"
   ]
  },
  {
   "cell_type": "code",
   "execution_count": 73,
   "id": "69917da4-acf0-47bc-bb6e-0cc72701594e",
   "metadata": {},
   "outputs": [],
   "source": [
    "concat1 = pd.concat([atp_shopp, tircp2])"
   ]
  },
  {
   "cell_type": "code",
   "execution_count": 74,
   "id": "012bfea4-ecb2-437c-90c9-b786c896d16d",
   "metadata": {},
   "outputs": [],
   "source": [
    "# Fill NA based on dtypes\n",
    "concat1 = concat1.fillna(\n",
    "    concat1.dtypes.replace({\"float64\": 0.0, \"object\": \"None\"})\n",
    ")"
   ]
  },
  {
   "cell_type": "code",
   "execution_count": 75,
   "id": "645d746d-6595-47c0-9271-0a51d925cfa8",
   "metadata": {},
   "outputs": [],
   "source": [
    "concat1 = _utils.clean_up_columns(concat1)"
   ]
  },
  {
   "cell_type": "code",
   "execution_count": 76,
   "id": "1601987f-a5cd-4efb-a289-c7ed8ec67b94",
   "metadata": {},
   "outputs": [
    {
     "name": "stdout",
     "output_type": "stream",
     "text": [
      "<class 'pandas.core.frame.DataFrame'>\n",
      "Int64Index: 905 entries, 0 to 90\n",
      "Data columns (total 101 columns):\n",
      " #    Column                                            Dtype  \n",
      "---   ------                                            -----  \n",
      " 0    Rail Project Id                                   object \n",
      " 1    10 Year Plan                                      float64\n",
      " 2    Ct Project Id                                     object \n",
      " 3    Ea                                                object \n",
      " 4    Ppno                                              object \n",
      " 5    Project Name                                      object \n",
      " 6    District                                          int64  \n",
      " 7    County                                            object \n",
      " 8    Route                                             object \n",
      " 9    Project Description                               object \n",
      " 10   Current Phase                                     object \n",
      " 11   Con Existing Source S  Of Funds                   object \n",
      " 12   Con Anticipated Source Of Funds                   object \n",
      " 13   Target Opening Year                               object \n",
      " 14   Beg Pm                                            object \n",
      " 15   End Pm                                            object \n",
      " 16   Primary Mode                                      object \n",
      " 17   Previous Caltrans Nominations                     object \n",
      " 18   Urban Rural                                       object \n",
      " 19   Notes                                             object \n",
      " 20   Lead Agency                                       object \n",
      " 21   Pid Approval Date  M010                           object \n",
      " 22   Target Pa Ed  M200                                object \n",
      " 23   Rtl Date  M460                                    object \n",
      " 24   Con Start Date  M500                              object \n",
      " 25   Funding Need Phase S                              float64\n",
      " 26   Pa Ed Cost  $1,000                                float64\n",
      " 27   Ps E Cost  $1,000                                 float64\n",
      " 28   Row Cost  $1,000                                  float64\n",
      " 29   Con Support Cost  $1,000                          float64\n",
      " 30   Non Infrastructure   Plan Cost  $1,000            float64\n",
      " 31   Total Unfunded Need  $1,000                       float64\n",
      " 32   Previous Funding Request Phase                    object \n",
      " 33   Last Scored                                       float64\n",
      " 34   Csis Alignment                                    object \n",
      " 35   Csis Total Score  Out Of 45                       float64\n",
      " 36   Mode Shift  Csis  Score                           float64\n",
      " 37   Mode Shift  Csis  Comment                         object \n",
      " 38   Vmt  Csis  Score                                  float64\n",
      " 39   Vmt  Csis  Comment                                object \n",
      " 40   Public Engagement  Csis  Score                    float64\n",
      " 41   Public Engagement  Csis  Comment                  object \n",
      " 42   Dac Local Community Needs  Csis  Score            float64\n",
      " 43   Dac Local Community Needs  Csis  Comment          float64\n",
      " 44   Safety  Csis  Score                               float64\n",
      " 45   Safety  Csis  Comment                             object \n",
      " 46   Zev  Csis  Score                                  float64\n",
      " 47   Zev  Csis  Comment                                object \n",
      " 48   Climate Resiliency  Csis  Score                   float64\n",
      " 49   Climate Resiliency  Csis  Comment                 object \n",
      " 50   Natural Resources And Ecosystems  Csis  Score     float64\n",
      " 51   Natural Resources And Ecosystems  Csis  Comment   object \n",
      " 52   Infill Development And Land Use  Csis  Score      float64\n",
      " 53   Infill Development And Land Use  Csis  Comment    object \n",
      " 54   Benefits To Dac And Advancing Equity  Atp  Score  float64\n",
      " 55   Community Need  Atp  Score                        float64\n",
      " 56   Safety  Atp  Score                                float64\n",
      " 57   Public Participation  Atp  Score                  float64\n",
      " 58   Community Feedback  Atp  Score                    float64\n",
      " 59   Continued Engagement  Atp  Score                  float64\n",
      " 60   Context Sensitive And Innovation  Atp  Score      float64\n",
      " 61   Transformative  Atp  Score                        float64\n",
      " 62   Atp Total Score  Out Of 100                       float64\n",
      " 63   Atp Alignment                                     object \n",
      " 64   Access Alignment                                  object \n",
      " 65   Previous Funding Request                          object \n",
      " 66   Purpose   Need                                    float64\n",
      " 67   Parcel Counts                                     object \n",
      " 68   Total Project Cost  $1,000                        float64\n",
      " 69   Con Capital Cost  $1,000                          float64\n",
      " 70   Hq Priority                                       float64\n",
      " 71   District Priority                                 float64\n",
      " 72   Potential Funding Program S                       object \n",
      " 73   Located In Dac                                    object \n",
      " 74   Shs Capacity Increase Detail                      object \n",
      " 75   Secondary Mode S                                  object \n",
      " 76   Full County Name                                  object \n",
      " 77   Detailed Project Title                            object \n",
      " 78   District Full Name                                object \n",
      " 79   Increase Peak Person Throughput                   float64\n",
      " 80   Reduction In Peak Period Delay                    float64\n",
      " 81   Reduction In Fatal And Injury Crashes             float64\n",
      " 82   Reduction In Injury Rates                         float64\n",
      " 83   Increase Access To Jobs                           float64\n",
      " 84   Increase Access Jobs To Dac                       float64\n",
      " 85   Commercial Dev Developed                          float64\n",
      " 86   Tons Of Goods Impacted                            float64\n",
      " 87   Improve Air Quality                               float64\n",
      " 88   Impact Natural Resources                          float64\n",
      " 89   Support Of Transportation                         float64\n",
      " 90   Fake Benefit Score                                float64\n",
      " 91   Statewide Rank                                    float64\n",
      " 92   District Rank                                     float64\n",
      " 93   Fake Benefit Score Statewide Percentile           object \n",
      " 94   District District Median                          float64\n",
      " 95   Total Project Cost  $1,000  District Median       float64\n",
      " 96   Fake Benefit Score District Median                float64\n",
      " 97   Total Unfunded Need  $1,000  District Median      float64\n",
      " 98   Csis Total Score  Out Of 45  District Median      float64\n",
      " 99   Atp Total Score  Out Of 100  District Median      float64\n",
      " 100  Ppno1                                             object \n",
      "dtypes: float64(54), int64(1), object(46)\n",
      "memory usage: 721.2+ KB\n"
     ]
    }
   ],
   "source": [
    "concat1.info(verbose=True)"
   ]
  },
  {
   "cell_type": "code",
   "execution_count": 77,
   "id": "f7180b6d-f164-47ae-85d2-90df80055b89",
   "metadata": {},
   "outputs": [
    {
     "ename": "AttributeError",
     "evalue": "'DataFrame' object has no attribute 'get_value'",
     "output_type": "error",
     "traceback": [
      "\u001b[0;31m---------------------------------------------------------------------------\u001b[0m",
      "\u001b[0;31mAttributeError\u001b[0m                            Traceback (most recent call last)",
      "Cell \u001b[0;32mIn[77], line 4\u001b[0m\n\u001b[1;32m      1\u001b[0m matched_vendors \u001b[38;5;241m=\u001b[39m []\n\u001b[1;32m      3\u001b[0m \u001b[38;5;28;01mfor\u001b[39;00m row \u001b[38;5;129;01min\u001b[39;00m tircp2\u001b[38;5;241m.\u001b[39mindex:\n\u001b[0;32m----> 4\u001b[0m     tircp_projects \u001b[38;5;241m=\u001b[39m \u001b[43mtircp2\u001b[49m\u001b[38;5;241;43m.\u001b[39;49m\u001b[43mget_value\u001b[49m(row,\u001b[38;5;124m\"\u001b[39m\u001b[38;5;124mproject_test\u001b[39m\u001b[38;5;124m\"\u001b[39m)\n\u001b[1;32m      5\u001b[0m     \u001b[38;5;28;01mfor\u001b[39;00m columns \u001b[38;5;129;01min\u001b[39;00m atp_shopp_drmt\u001b[38;5;241m.\u001b[39mindex:\n\u001b[1;32m      6\u001b[0m         shopp_projects\u001b[38;5;241m=\u001b[39matp_shopp_drmt\u001b[38;5;241m.\u001b[39mget_value(columns,\u001b[38;5;124m\"\u001b[39m\u001b[38;5;124mproject_test\u001b[39m\u001b[38;5;124m\"\u001b[39m)\n",
      "File \u001b[0;32m/opt/conda/lib/python3.9/site-packages/pandas/core/generic.py:5487\u001b[0m, in \u001b[0;36mNDFrame.__getattr__\u001b[0;34m(self, name)\u001b[0m\n\u001b[1;32m   5480\u001b[0m \u001b[38;5;28;01mif\u001b[39;00m (\n\u001b[1;32m   5481\u001b[0m     name \u001b[38;5;129;01mnot\u001b[39;00m \u001b[38;5;129;01min\u001b[39;00m \u001b[38;5;28mself\u001b[39m\u001b[38;5;241m.\u001b[39m_internal_names_set\n\u001b[1;32m   5482\u001b[0m     \u001b[38;5;129;01mand\u001b[39;00m name \u001b[38;5;129;01mnot\u001b[39;00m \u001b[38;5;129;01min\u001b[39;00m \u001b[38;5;28mself\u001b[39m\u001b[38;5;241m.\u001b[39m_metadata\n\u001b[1;32m   5483\u001b[0m     \u001b[38;5;129;01mand\u001b[39;00m name \u001b[38;5;129;01mnot\u001b[39;00m \u001b[38;5;129;01min\u001b[39;00m \u001b[38;5;28mself\u001b[39m\u001b[38;5;241m.\u001b[39m_accessors\n\u001b[1;32m   5484\u001b[0m     \u001b[38;5;129;01mand\u001b[39;00m \u001b[38;5;28mself\u001b[39m\u001b[38;5;241m.\u001b[39m_info_axis\u001b[38;5;241m.\u001b[39m_can_hold_identifiers_and_holds_name(name)\n\u001b[1;32m   5485\u001b[0m ):\n\u001b[1;32m   5486\u001b[0m     \u001b[38;5;28;01mreturn\u001b[39;00m \u001b[38;5;28mself\u001b[39m[name]\n\u001b[0;32m-> 5487\u001b[0m \u001b[38;5;28;01mreturn\u001b[39;00m \u001b[38;5;28;43mobject\u001b[39;49m\u001b[38;5;241;43m.\u001b[39;49m\u001b[38;5;21;43m__getattribute__\u001b[39;49m\u001b[43m(\u001b[49m\u001b[38;5;28;43mself\u001b[39;49m\u001b[43m,\u001b[49m\u001b[43m \u001b[49m\u001b[43mname\u001b[49m\u001b[43m)\u001b[49m\n",
      "\u001b[0;31mAttributeError\u001b[0m: 'DataFrame' object has no attribute 'get_value'"
     ]
    }
   ],
   "source": [
    "matched_vendors = []\n",
    "\n",
    "for row in tircp2.index:\n",
    "    tircp_projects = tircp2.get_value(row,\"project_test\")\n",
    "    for columns in atp_shopp_drmt.index:\n",
    "        shopp_projects=atp_shopp_drmt.get_value(columns,\"project_test\")\n",
    "        matched_token=fuzz.partial_ratio(tircp_projects,shopp_projects)\n",
    "        if matched_token> 80:\n",
    "            matched_vendors.append([shopp_projects,tircp_projects,matched_token])"
   ]
  },
  {
   "cell_type": "code",
   "execution_count": 79,
   "id": "b19fbf47-b654-4a65-b312-7d2deb2c862e",
   "metadata": {
    "scrolled": true,
    "tags": []
   },
   "outputs": [
    {
     "data": {
      "text/html": [
       "<div>\n",
       "<style scoped>\n",
       "    .dataframe tbody tr th:only-of-type {\n",
       "        vertical-align: middle;\n",
       "    }\n",
       "\n",
       "    .dataframe tbody tr th {\n",
       "        vertical-align: top;\n",
       "    }\n",
       "\n",
       "    .dataframe thead th {\n",
       "        text-align: right;\n",
       "    }\n",
       "</style>\n",
       "<table border=\"1\" class=\"dataframe\">\n",
       "  <thead>\n",
       "    <tr style=\"text-align: right;\">\n",
       "      <th></th>\n",
       "      <th>Rail Project Id</th>\n",
       "      <th>10 Year Plan</th>\n",
       "      <th>Ct Project Id</th>\n",
       "      <th>Ea</th>\n",
       "      <th>Ppno</th>\n",
       "      <th>Project Name</th>\n",
       "      <th>District</th>\n",
       "      <th>County</th>\n",
       "      <th>Route</th>\n",
       "      <th>Project Description</th>\n",
       "      <th>Current Phase</th>\n",
       "      <th>Con Existing Source S  Of Funds</th>\n",
       "      <th>Con Anticipated Source Of Funds</th>\n",
       "      <th>Target Opening Year</th>\n",
       "      <th>Beg Pm</th>\n",
       "      <th>End Pm</th>\n",
       "      <th>Primary Mode</th>\n",
       "      <th>Previous Caltrans Nominations</th>\n",
       "      <th>Urban Rural</th>\n",
       "      <th>Notes</th>\n",
       "      <th>Lead Agency</th>\n",
       "      <th>Pid Approval Date  M010</th>\n",
       "      <th>Target Pa Ed  M200</th>\n",
       "      <th>Rtl Date  M460</th>\n",
       "      <th>Con Start Date  M500</th>\n",
       "      <th>Funding Need Phase S</th>\n",
       "      <th>Pa Ed Cost  $1,000</th>\n",
       "      <th>Ps E Cost  $1,000</th>\n",
       "      <th>Row Cost  $1,000</th>\n",
       "      <th>Con Support Cost  $1,000</th>\n",
       "      <th>Non Infrastructure   Plan Cost  $1,000</th>\n",
       "      <th>Total Unfunded Need  $1,000</th>\n",
       "      <th>Previous Funding Request Phase</th>\n",
       "      <th>Last Scored</th>\n",
       "      <th>Csis Alignment</th>\n",
       "      <th>Csis Total Score  Out Of 45</th>\n",
       "      <th>Mode Shift  Csis  Score</th>\n",
       "      <th>Mode Shift  Csis  Comment</th>\n",
       "      <th>Vmt  Csis  Score</th>\n",
       "      <th>Vmt  Csis  Comment</th>\n",
       "      <th>Public Engagement  Csis  Score</th>\n",
       "      <th>Public Engagement  Csis  Comment</th>\n",
       "      <th>Dac Local Community Needs  Csis  Score</th>\n",
       "      <th>Dac Local Community Needs  Csis  Comment</th>\n",
       "      <th>Safety  Csis  Score</th>\n",
       "      <th>Safety  Csis  Comment</th>\n",
       "      <th>Zev  Csis  Score</th>\n",
       "      <th>Zev  Csis  Comment</th>\n",
       "      <th>Climate Resiliency  Csis  Score</th>\n",
       "      <th>Climate Resiliency  Csis  Comment</th>\n",
       "      <th>...</th>\n",
       "      <th>Natural Resources And Ecosystems  Csis  Comment</th>\n",
       "      <th>Infill Development And Land Use  Csis  Score</th>\n",
       "      <th>Infill Development And Land Use  Csis  Comment</th>\n",
       "      <th>Benefits To Dac And Advancing Equity  Atp  Score</th>\n",
       "      <th>Community Need  Atp  Score</th>\n",
       "      <th>Safety  Atp  Score</th>\n",
       "      <th>Public Participation  Atp  Score</th>\n",
       "      <th>Community Feedback  Atp  Score</th>\n",
       "      <th>Continued Engagement  Atp  Score</th>\n",
       "      <th>Context Sensitive And Innovation  Atp  Score</th>\n",
       "      <th>Transformative  Atp  Score</th>\n",
       "      <th>Atp Total Score  Out Of 100</th>\n",
       "      <th>Atp Alignment</th>\n",
       "      <th>Access Alignment</th>\n",
       "      <th>Previous Funding Request</th>\n",
       "      <th>Purpose   Need</th>\n",
       "      <th>Parcel Counts</th>\n",
       "      <th>Total Project Cost  $1,000</th>\n",
       "      <th>Con Capital Cost  $1,000</th>\n",
       "      <th>Hq Priority</th>\n",
       "      <th>District Priority</th>\n",
       "      <th>Potential Funding Program S</th>\n",
       "      <th>Located In Dac</th>\n",
       "      <th>Shs Capacity Increase Detail</th>\n",
       "      <th>Secondary Mode S</th>\n",
       "      <th>Full County Name</th>\n",
       "      <th>Detailed Project Title</th>\n",
       "      <th>District Full Name</th>\n",
       "      <th>Increase Peak Person Throughput</th>\n",
       "      <th>Reduction In Peak Period Delay</th>\n",
       "      <th>Reduction In Fatal And Injury Crashes</th>\n",
       "      <th>Reduction In Injury Rates</th>\n",
       "      <th>Increase Access To Jobs</th>\n",
       "      <th>Increase Access Jobs To Dac</th>\n",
       "      <th>Commercial Dev Developed</th>\n",
       "      <th>Tons Of Goods Impacted</th>\n",
       "      <th>Improve Air Quality</th>\n",
       "      <th>Impact Natural Resources</th>\n",
       "      <th>Support Of Transportation</th>\n",
       "      <th>Fake Benefit Score</th>\n",
       "      <th>Statewide Rank</th>\n",
       "      <th>District Rank</th>\n",
       "      <th>Fake Benefit Score Statewide Percentile</th>\n",
       "      <th>District District Median</th>\n",
       "      <th>Total Project Cost  $1,000  District Median</th>\n",
       "      <th>Fake Benefit Score District Median</th>\n",
       "      <th>Total Unfunded Need  $1,000  District Median</th>\n",
       "      <th>Csis Total Score  Out Of 45  District Median</th>\n",
       "      <th>Atp Total Score  Out Of 100  District Median</th>\n",
       "      <th>Ppno1</th>\n",
       "    </tr>\n",
       "  </thead>\n",
       "  <tbody>\n",
       "    <tr>\n",
       "      <th>86</th>\n",
       "      <td>None</td>\n",
       "      <td>0.0</td>\n",
       "      <td>None</td>\n",
       "      <td>None</td>\n",
       "      <td>CP103</td>\n",
       "      <td>SFMTA Core Capacity Program</td>\n",
       "      <td>4</td>\n",
       "      <td>None</td>\n",
       "      <td>None</td>\n",
       "      <td>Implements the Muni Forward program on three key corridors (K, N, and the 38R Geary lines) to enhance reliability, efficiency, travel times, and rider comfort. Also invests in Phase 9 and 1 of the Train Control Upgrade Project, including upgrades from Embarcadero and 3rd Street to Muni Metro East, improving the reliability of the overall Muni Metro service up to a key location of current system delay.</td>\n",
       "      <td>None</td>\n",
       "      <td>None</td>\n",
       "      <td>None</td>\n",
       "      <td>None</td>\n",
       "      <td>None</td>\n",
       "      <td>None</td>\n",
       "      <td>Transit/Zev/Rail (Passenger)</td>\n",
       "      <td>TIRCP Cycle 5</td>\n",
       "      <td>None</td>\n",
       "      <td>Primary Contact/ Joel Goldberg(Joel.Goldberg@sfmta.com) additional contact</td>\n",
       "      <td>San Francisco Municipal Transportation Agency</td>\n",
       "      <td>None</td>\n",
       "      <td>None</td>\n",
       "      <td>None</td>\n",
       "      <td>None</td>\n",
       "      <td>0.0</td>\n",
       "      <td>0.0</td>\n",
       "      <td>0.0</td>\n",
       "      <td>0.0</td>\n",
       "      <td>0.0</td>\n",
       "      <td>0.0</td>\n",
       "      <td>262215.062</td>\n",
       "      <td>None</td>\n",
       "      <td>0.0</td>\n",
       "      <td>None</td>\n",
       "      <td>0.0</td>\n",
       "      <td>0.0</td>\n",
       "      <td>None</td>\n",
       "      <td>0.0</td>\n",
       "      <td>None</td>\n",
       "      <td>0.0</td>\n",
       "      <td>None</td>\n",
       "      <td>0.0</td>\n",
       "      <td>0.0</td>\n",
       "      <td>0.0</td>\n",
       "      <td>None</td>\n",
       "      <td>0.0</td>\n",
       "      <td>None</td>\n",
       "      <td>0.0</td>\n",
       "      <td>None</td>\n",
       "      <td>...</td>\n",
       "      <td>None</td>\n",
       "      <td>0.0</td>\n",
       "      <td>None</td>\n",
       "      <td>0.0</td>\n",
       "      <td>0.0</td>\n",
       "      <td>0.0</td>\n",
       "      <td>0.0</td>\n",
       "      <td>0.0</td>\n",
       "      <td>0.0</td>\n",
       "      <td>0.0</td>\n",
       "      <td>0.0</td>\n",
       "      <td>0.0</td>\n",
       "      <td>None</td>\n",
       "      <td>None</td>\n",
       "      <td>None</td>\n",
       "      <td>0.0</td>\n",
       "      <td>None</td>\n",
       "      <td>378291.062</td>\n",
       "      <td>0.0</td>\n",
       "      <td>0.0</td>\n",
       "      <td>0.0</td>\n",
       "      <td>None</td>\n",
       "      <td>None</td>\n",
       "      <td>0</td>\n",
       "      <td>None</td>\n",
       "      <td>San Francisco</td>\n",
       "      <td>None</td>\n",
       "      <td>District 4: Bay Area / Oakland</td>\n",
       "      <td>0.0</td>\n",
       "      <td>0.0</td>\n",
       "      <td>0.0</td>\n",
       "      <td>0.0</td>\n",
       "      <td>0.0</td>\n",
       "      <td>0.0</td>\n",
       "      <td>0.0</td>\n",
       "      <td>0.0</td>\n",
       "      <td>0.0</td>\n",
       "      <td>0.0</td>\n",
       "      <td>0.0</td>\n",
       "      <td>0.0</td>\n",
       "      <td>0.0</td>\n",
       "      <td>0.0</td>\n",
       "      <td>None</td>\n",
       "      <td>0.0</td>\n",
       "      <td>0.0</td>\n",
       "      <td>0.0</td>\n",
       "      <td>0.0</td>\n",
       "      <td>0.0</td>\n",
       "      <td>0.0</td>\n",
       "      <td>None</td>\n",
       "    </tr>\n",
       "    <tr>\n",
       "      <th>87</th>\n",
       "      <td>None</td>\n",
       "      <td>0.0</td>\n",
       "      <td>None</td>\n",
       "      <td>None</td>\n",
       "      <td>CP091</td>\n",
       "      <td>Next Wave: Expanding MTD's Electric Legacy on the South Coast</td>\n",
       "      <td>5</td>\n",
       "      <td>None</td>\n",
       "      <td>None</td>\n",
       "      <td>Purchases eight battery-electric buses and 3 electric microtransit vans, continuing fleet conversion and allowing expansion of microtransit service into additional zones serving the City of Goleta, UC Santa Barbara, and the Goleta rail station. Funds general transit improvements including signal priority, contactless payment deployment, additional bike racks, and bus shelter improvements, and constructs facility improvements at two terminals including the construction of new ZEB infrastructure.</td>\n",
       "      <td>None</td>\n",
       "      <td>None</td>\n",
       "      <td>None</td>\n",
       "      <td>None</td>\n",
       "      <td>None</td>\n",
       "      <td>None</td>\n",
       "      <td>Transit/Zev/Rail (Passenger)</td>\n",
       "      <td>TIRCP Cycle 5</td>\n",
       "      <td>None</td>\n",
       "      <td>None</td>\n",
       "      <td>Santa Barbara Metropolitan Transit District</td>\n",
       "      <td>None</td>\n",
       "      <td>None</td>\n",
       "      <td>None</td>\n",
       "      <td>None</td>\n",
       "      <td>0.0</td>\n",
       "      <td>0.0</td>\n",
       "      <td>0.0</td>\n",
       "      <td>0.0</td>\n",
       "      <td>0.0</td>\n",
       "      <td>0.0</td>\n",
       "      <td>18561.520</td>\n",
       "      <td>None</td>\n",
       "      <td>0.0</td>\n",
       "      <td>None</td>\n",
       "      <td>0.0</td>\n",
       "      <td>0.0</td>\n",
       "      <td>None</td>\n",
       "      <td>0.0</td>\n",
       "      <td>None</td>\n",
       "      <td>0.0</td>\n",
       "      <td>None</td>\n",
       "      <td>0.0</td>\n",
       "      <td>0.0</td>\n",
       "      <td>0.0</td>\n",
       "      <td>None</td>\n",
       "      <td>0.0</td>\n",
       "      <td>None</td>\n",
       "      <td>0.0</td>\n",
       "      <td>None</td>\n",
       "      <td>...</td>\n",
       "      <td>None</td>\n",
       "      <td>0.0</td>\n",
       "      <td>None</td>\n",
       "      <td>0.0</td>\n",
       "      <td>0.0</td>\n",
       "      <td>0.0</td>\n",
       "      <td>0.0</td>\n",
       "      <td>0.0</td>\n",
       "      <td>0.0</td>\n",
       "      <td>0.0</td>\n",
       "      <td>0.0</td>\n",
       "      <td>0.0</td>\n",
       "      <td>None</td>\n",
       "      <td>None</td>\n",
       "      <td>None</td>\n",
       "      <td>0.0</td>\n",
       "      <td>None</td>\n",
       "      <td>33041.520</td>\n",
       "      <td>0.0</td>\n",
       "      <td>0.0</td>\n",
       "      <td>0.0</td>\n",
       "      <td>None</td>\n",
       "      <td>None</td>\n",
       "      <td>0</td>\n",
       "      <td>None</td>\n",
       "      <td>San Barbara</td>\n",
       "      <td>None</td>\n",
       "      <td>District 5: San Luis Obispo / Santa Barbara</td>\n",
       "      <td>0.0</td>\n",
       "      <td>0.0</td>\n",
       "      <td>0.0</td>\n",
       "      <td>0.0</td>\n",
       "      <td>0.0</td>\n",
       "      <td>0.0</td>\n",
       "      <td>0.0</td>\n",
       "      <td>0.0</td>\n",
       "      <td>0.0</td>\n",
       "      <td>0.0</td>\n",
       "      <td>0.0</td>\n",
       "      <td>0.0</td>\n",
       "      <td>0.0</td>\n",
       "      <td>0.0</td>\n",
       "      <td>None</td>\n",
       "      <td>0.0</td>\n",
       "      <td>0.0</td>\n",
       "      <td>0.0</td>\n",
       "      <td>0.0</td>\n",
       "      <td>0.0</td>\n",
       "      <td>0.0</td>\n",
       "      <td>None</td>\n",
       "    </tr>\n",
       "    <tr>\n",
       "      <th>88</th>\n",
       "      <td>None</td>\n",
       "      <td>0.0</td>\n",
       "      <td>None</td>\n",
       "      <td>None</td>\n",
       "      <td>CP100</td>\n",
       "      <td>Sonoma Regional Bus and Rail Connectivity Improvements</td>\n",
       "      <td>4</td>\n",
       "      <td>None</td>\n",
       "      <td>None</td>\n",
       "      <td>Includes the purchase of 30 zero-emission buses and associated charging infrastructure and passenger amenities for Petaluma Transit, Santa Rosa CityBus and Sonoma County Transit, construction of the SMART Petaluma North commuter rail station, and improved network integration among all application partners and other transit operators in Sonoma County, including contactless payment equipment for Mendocino Transit Authority</td>\n",
       "      <td>None</td>\n",
       "      <td>None</td>\n",
       "      <td>None</td>\n",
       "      <td>None</td>\n",
       "      <td>None</td>\n",
       "      <td>None</td>\n",
       "      <td>Transit/Zev/Rail (Passenger)</td>\n",
       "      <td>TIRCP Cycle 5</td>\n",
       "      <td>None</td>\n",
       "      <td>None</td>\n",
       "      <td>Sonoma County Transportation Authority</td>\n",
       "      <td>None</td>\n",
       "      <td>None</td>\n",
       "      <td>None</td>\n",
       "      <td>None</td>\n",
       "      <td>0.0</td>\n",
       "      <td>0.0</td>\n",
       "      <td>0.0</td>\n",
       "      <td>0.0</td>\n",
       "      <td>0.0</td>\n",
       "      <td>0.0</td>\n",
       "      <td>28944.000</td>\n",
       "      <td>None</td>\n",
       "      <td>0.0</td>\n",
       "      <td>None</td>\n",
       "      <td>0.0</td>\n",
       "      <td>0.0</td>\n",
       "      <td>None</td>\n",
       "      <td>0.0</td>\n",
       "      <td>None</td>\n",
       "      <td>0.0</td>\n",
       "      <td>None</td>\n",
       "      <td>0.0</td>\n",
       "      <td>0.0</td>\n",
       "      <td>0.0</td>\n",
       "      <td>None</td>\n",
       "      <td>0.0</td>\n",
       "      <td>None</td>\n",
       "      <td>0.0</td>\n",
       "      <td>None</td>\n",
       "      <td>...</td>\n",
       "      <td>None</td>\n",
       "      <td>0.0</td>\n",
       "      <td>None</td>\n",
       "      <td>0.0</td>\n",
       "      <td>0.0</td>\n",
       "      <td>0.0</td>\n",
       "      <td>0.0</td>\n",
       "      <td>0.0</td>\n",
       "      <td>0.0</td>\n",
       "      <td>0.0</td>\n",
       "      <td>0.0</td>\n",
       "      <td>0.0</td>\n",
       "      <td>None</td>\n",
       "      <td>None</td>\n",
       "      <td>None</td>\n",
       "      <td>0.0</td>\n",
       "      <td>None</td>\n",
       "      <td>53769.000</td>\n",
       "      <td>0.0</td>\n",
       "      <td>0.0</td>\n",
       "      <td>0.0</td>\n",
       "      <td>None</td>\n",
       "      <td>None</td>\n",
       "      <td>0</td>\n",
       "      <td>None</td>\n",
       "      <td>SON</td>\n",
       "      <td>None</td>\n",
       "      <td>District 4: Bay Area / Oakland</td>\n",
       "      <td>0.0</td>\n",
       "      <td>0.0</td>\n",
       "      <td>0.0</td>\n",
       "      <td>0.0</td>\n",
       "      <td>0.0</td>\n",
       "      <td>0.0</td>\n",
       "      <td>0.0</td>\n",
       "      <td>0.0</td>\n",
       "      <td>0.0</td>\n",
       "      <td>0.0</td>\n",
       "      <td>0.0</td>\n",
       "      <td>0.0</td>\n",
       "      <td>0.0</td>\n",
       "      <td>0.0</td>\n",
       "      <td>None</td>\n",
       "      <td>0.0</td>\n",
       "      <td>0.0</td>\n",
       "      <td>0.0</td>\n",
       "      <td>0.0</td>\n",
       "      <td>0.0</td>\n",
       "      <td>0.0</td>\n",
       "      <td>None</td>\n",
       "    </tr>\n",
       "    <tr>\n",
       "      <th>89</th>\n",
       "      <td>None</td>\n",
       "      <td>0.0</td>\n",
       "      <td>None</td>\n",
       "      <td>None</td>\n",
       "      <td>CP081</td>\n",
       "      <td>Metrolink Perris Valley Line Capacity Improvements</td>\n",
       "      <td>7</td>\n",
       "      <td>None</td>\n",
       "      <td>None</td>\n",
       "      <td>Improvements Completes the final design and construction of three capacity improvements on Metrolink’s 91/Perris Valley Line (91/PVL) that allow for bi-directional, peak-period service to be increased: 1) PerrisSouth Station Expansion, 2) Perris-South Layover 4th Track, and 3) CP Eastridge to Moreno Valley/March Field Double Track.</td>\n",
       "      <td>None</td>\n",
       "      <td>None</td>\n",
       "      <td>None</td>\n",
       "      <td>None</td>\n",
       "      <td>None</td>\n",
       "      <td>None</td>\n",
       "      <td>Transit/Zev/Rail (Passenger)</td>\n",
       "      <td>TIRCP Cycle 5</td>\n",
       "      <td>None</td>\n",
       "      <td>None</td>\n",
       "      <td>Southern California Regional Rail Authority</td>\n",
       "      <td>None</td>\n",
       "      <td>None</td>\n",
       "      <td>None</td>\n",
       "      <td>None</td>\n",
       "      <td>0.0</td>\n",
       "      <td>0.0</td>\n",
       "      <td>0.0</td>\n",
       "      <td>0.0</td>\n",
       "      <td>0.0</td>\n",
       "      <td>0.0</td>\n",
       "      <td>32000.279</td>\n",
       "      <td>None</td>\n",
       "      <td>0.0</td>\n",
       "      <td>None</td>\n",
       "      <td>0.0</td>\n",
       "      <td>0.0</td>\n",
       "      <td>None</td>\n",
       "      <td>0.0</td>\n",
       "      <td>None</td>\n",
       "      <td>0.0</td>\n",
       "      <td>None</td>\n",
       "      <td>0.0</td>\n",
       "      <td>0.0</td>\n",
       "      <td>0.0</td>\n",
       "      <td>None</td>\n",
       "      <td>0.0</td>\n",
       "      <td>None</td>\n",
       "      <td>0.0</td>\n",
       "      <td>None</td>\n",
       "      <td>...</td>\n",
       "      <td>None</td>\n",
       "      <td>0.0</td>\n",
       "      <td>None</td>\n",
       "      <td>0.0</td>\n",
       "      <td>0.0</td>\n",
       "      <td>0.0</td>\n",
       "      <td>0.0</td>\n",
       "      <td>0.0</td>\n",
       "      <td>0.0</td>\n",
       "      <td>0.0</td>\n",
       "      <td>0.0</td>\n",
       "      <td>0.0</td>\n",
       "      <td>None</td>\n",
       "      <td>None</td>\n",
       "      <td>None</td>\n",
       "      <td>0.0</td>\n",
       "      <td>None</td>\n",
       "      <td>57042.279</td>\n",
       "      <td>0.0</td>\n",
       "      <td>0.0</td>\n",
       "      <td>0.0</td>\n",
       "      <td>None</td>\n",
       "      <td>None</td>\n",
       "      <td>0</td>\n",
       "      <td>None</td>\n",
       "      <td>Various</td>\n",
       "      <td>None</td>\n",
       "      <td>District 7: Los Angeles</td>\n",
       "      <td>0.0</td>\n",
       "      <td>0.0</td>\n",
       "      <td>0.0</td>\n",
       "      <td>0.0</td>\n",
       "      <td>0.0</td>\n",
       "      <td>0.0</td>\n",
       "      <td>0.0</td>\n",
       "      <td>0.0</td>\n",
       "      <td>0.0</td>\n",
       "      <td>0.0</td>\n",
       "      <td>0.0</td>\n",
       "      <td>0.0</td>\n",
       "      <td>0.0</td>\n",
       "      <td>0.0</td>\n",
       "      <td>None</td>\n",
       "      <td>0.0</td>\n",
       "      <td>0.0</td>\n",
       "      <td>0.0</td>\n",
       "      <td>0.0</td>\n",
       "      <td>0.0</td>\n",
       "      <td>0.0</td>\n",
       "      <td>None</td>\n",
       "    </tr>\n",
       "    <tr>\n",
       "      <th>90</th>\n",
       "      <td>None</td>\n",
       "      <td>0.0</td>\n",
       "      <td>None</td>\n",
       "      <td>None</td>\n",
       "      <td>CP093</td>\n",
       "      <td>Tulare Cross-Valley Corridor ZEB Expansion</td>\n",
       "      <td>6</td>\n",
       "      <td>None</td>\n",
       "      <td>None</td>\n",
       "      <td>Supports the phased development of an east-west Cross Valley Corridor by purchasing 14 zero-emission feeder buses in multiple cities in and along the corridor (as well as 16 micro-transit vehicles to be operated in selected cities) that will provide comprehensive access to the future rail system for all these communities and will connect to the California High Speed Rail system.</td>\n",
       "      <td>None</td>\n",
       "      <td>None</td>\n",
       "      <td>None</td>\n",
       "      <td>None</td>\n",
       "      <td>None</td>\n",
       "      <td>None</td>\n",
       "      <td>Transit/Zev/Rail (Passenger)</td>\n",
       "      <td>TIRCP Cycle 5</td>\n",
       "      <td>None</td>\n",
       "      <td>None</td>\n",
       "      <td>Tulare County Regional Transit Agency</td>\n",
       "      <td>None</td>\n",
       "      <td>None</td>\n",
       "      <td>None</td>\n",
       "      <td>None</td>\n",
       "      <td>0.0</td>\n",
       "      <td>0.0</td>\n",
       "      <td>0.0</td>\n",
       "      <td>0.0</td>\n",
       "      <td>0.0</td>\n",
       "      <td>0.0</td>\n",
       "      <td>0.000</td>\n",
       "      <td>None</td>\n",
       "      <td>0.0</td>\n",
       "      <td>None</td>\n",
       "      <td>0.0</td>\n",
       "      <td>0.0</td>\n",
       "      <td>None</td>\n",
       "      <td>0.0</td>\n",
       "      <td>None</td>\n",
       "      <td>0.0</td>\n",
       "      <td>None</td>\n",
       "      <td>0.0</td>\n",
       "      <td>0.0</td>\n",
       "      <td>0.0</td>\n",
       "      <td>None</td>\n",
       "      <td>0.0</td>\n",
       "      <td>None</td>\n",
       "      <td>0.0</td>\n",
       "      <td>None</td>\n",
       "      <td>...</td>\n",
       "      <td>None</td>\n",
       "      <td>0.0</td>\n",
       "      <td>None</td>\n",
       "      <td>0.0</td>\n",
       "      <td>0.0</td>\n",
       "      <td>0.0</td>\n",
       "      <td>0.0</td>\n",
       "      <td>0.0</td>\n",
       "      <td>0.0</td>\n",
       "      <td>0.0</td>\n",
       "      <td>0.0</td>\n",
       "      <td>0.0</td>\n",
       "      <td>None</td>\n",
       "      <td>None</td>\n",
       "      <td>None</td>\n",
       "      <td>0.0</td>\n",
       "      <td>None</td>\n",
       "      <td>0.000</td>\n",
       "      <td>0.0</td>\n",
       "      <td>0.0</td>\n",
       "      <td>0.0</td>\n",
       "      <td>None</td>\n",
       "      <td>None</td>\n",
       "      <td>0</td>\n",
       "      <td>None</td>\n",
       "      <td>TUL</td>\n",
       "      <td>None</td>\n",
       "      <td>District 6: Fresno / Bakersfield</td>\n",
       "      <td>0.0</td>\n",
       "      <td>0.0</td>\n",
       "      <td>0.0</td>\n",
       "      <td>0.0</td>\n",
       "      <td>0.0</td>\n",
       "      <td>0.0</td>\n",
       "      <td>0.0</td>\n",
       "      <td>0.0</td>\n",
       "      <td>0.0</td>\n",
       "      <td>0.0</td>\n",
       "      <td>0.0</td>\n",
       "      <td>0.0</td>\n",
       "      <td>0.0</td>\n",
       "      <td>0.0</td>\n",
       "      <td>None</td>\n",
       "      <td>0.0</td>\n",
       "      <td>0.0</td>\n",
       "      <td>0.0</td>\n",
       "      <td>0.0</td>\n",
       "      <td>0.0</td>\n",
       "      <td>0.0</td>\n",
       "      <td>None</td>\n",
       "    </tr>\n",
       "  </tbody>\n",
       "</table>\n",
       "<p>5 rows × 101 columns</p>\n",
       "</div>"
      ],
      "text/plain": [
       "   Rail Project Id  10 Year Plan Ct Project Id    Ea   Ppno  \\\n",
       "86            None           0.0          None  None  CP103   \n",
       "87            None           0.0          None  None  CP091   \n",
       "88            None           0.0          None  None  CP100   \n",
       "89            None           0.0          None  None  CP081   \n",
       "90            None           0.0          None  None  CP093   \n",
       "\n",
       "                                                     Project Name  District  \\\n",
       "86                                    SFMTA Core Capacity Program         4   \n",
       "87  Next Wave: Expanding MTD's Electric Legacy on the South Coast         5   \n",
       "88         Sonoma Regional Bus and Rail Connectivity Improvements         4   \n",
       "89             Metrolink Perris Valley Line Capacity Improvements         7   \n",
       "90                     Tulare Cross-Valley Corridor ZEB Expansion         6   \n",
       "\n",
       "   County Route  \\\n",
       "86   None  None   \n",
       "87   None  None   \n",
       "88   None  None   \n",
       "89   None  None   \n",
       "90   None  None   \n",
       "\n",
       "                                                                                                                                                                                                                                                                                                                                                                                                                                                                                                    Project Description  \\\n",
       "86                                                                                                Implements the Muni Forward program on three key corridors (K, N, and the 38R Geary lines) to enhance reliability, efficiency, travel times, and rider comfort. Also invests in Phase 9 and 1 of the Train Control Upgrade Project, including upgrades from Embarcadero and 3rd Street to Muni Metro East, improving the reliability of the overall Muni Metro service up to a key location of current system delay.    \n",
       "87  Purchases eight battery-electric buses and 3 electric microtransit vans, continuing fleet conversion and allowing expansion of microtransit service into additional zones serving the City of Goleta, UC Santa Barbara, and the Goleta rail station. Funds general transit improvements including signal priority, contactless payment deployment, additional bike racks, and bus shelter improvements, and constructs facility improvements at two terminals including the construction of new ZEB infrastructure.   \n",
       "88                                                                             Includes the purchase of 30 zero-emission buses and associated charging infrastructure and passenger amenities for Petaluma Transit, Santa Rosa CityBus and Sonoma County Transit, construction of the SMART Petaluma North commuter rail station, and improved network integration among all application partners and other transit operators in Sonoma County, including contactless payment equipment for Mendocino Transit Authority   \n",
       "89                                                                                                                                                                        Improvements Completes the final design and construction of three capacity improvements on Metrolink’s 91/Perris Valley Line (91/PVL) that allow for bi-directional, peak-period service to be increased: 1) PerrisSouth Station Expansion, 2) Perris-South Layover 4th Track, and 3) CP Eastridge to Moreno Valley/March Field Double Track.   \n",
       "90                                                                                                                        Supports the phased development of an east-west Cross Valley Corridor by purchasing 14 zero-emission feeder buses in multiple cities in and along the corridor (as well as 16 micro-transit vehicles to be operated in selected cities) that will provide comprehensive access to the future rail system for all these communities and will connect to the California High Speed Rail system.   \n",
       "\n",
       "   Current Phase Con Existing Source S  Of Funds  \\\n",
       "86          None                            None   \n",
       "87          None                            None   \n",
       "88          None                            None   \n",
       "89          None                            None   \n",
       "90          None                            None   \n",
       "\n",
       "   Con Anticipated Source Of Funds Target Opening Year Beg Pm End Pm  \\\n",
       "86                            None                None   None   None   \n",
       "87                            None                None   None   None   \n",
       "88                            None                None   None   None   \n",
       "89                            None                None   None   None   \n",
       "90                            None                None   None   None   \n",
       "\n",
       "                    Primary Mode Previous Caltrans Nominations Urban Rural  \\\n",
       "86  Transit/Zev/Rail (Passenger)                 TIRCP Cycle 5        None   \n",
       "87  Transit/Zev/Rail (Passenger)                 TIRCP Cycle 5        None   \n",
       "88  Transit/Zev/Rail (Passenger)                 TIRCP Cycle 5        None   \n",
       "89  Transit/Zev/Rail (Passenger)                 TIRCP Cycle 5        None   \n",
       "90  Transit/Zev/Rail (Passenger)                 TIRCP Cycle 5        None   \n",
       "\n",
       "                                                                         Notes  \\\n",
       "86  Primary Contact/ Joel Goldberg(Joel.Goldberg@sfmta.com) additional contact   \n",
       "87                                                                        None   \n",
       "88                                                                        None   \n",
       "89                                                                        None   \n",
       "90                                                                        None   \n",
       "\n",
       "                                      Lead Agency Pid Approval Date  M010  \\\n",
       "86  San Francisco Municipal Transportation Agency                    None   \n",
       "87    Santa Barbara Metropolitan Transit District                    None   \n",
       "88         Sonoma County Transportation Authority                    None   \n",
       "89    Southern California Regional Rail Authority                    None   \n",
       "90          Tulare County Regional Transit Agency                    None   \n",
       "\n",
       "   Target Pa Ed  M200 Rtl Date  M460 Con Start Date  M500  \\\n",
       "86               None           None                 None   \n",
       "87               None           None                 None   \n",
       "88               None           None                 None   \n",
       "89               None           None                 None   \n",
       "90               None           None                 None   \n",
       "\n",
       "    Funding Need Phase S  Pa Ed Cost  $1,000  Ps E Cost  $1,000  \\\n",
       "86                   0.0                 0.0                0.0   \n",
       "87                   0.0                 0.0                0.0   \n",
       "88                   0.0                 0.0                0.0   \n",
       "89                   0.0                 0.0                0.0   \n",
       "90                   0.0                 0.0                0.0   \n",
       "\n",
       "    Row Cost  $1,000  Con Support Cost  $1,000  \\\n",
       "86               0.0                       0.0   \n",
       "87               0.0                       0.0   \n",
       "88               0.0                       0.0   \n",
       "89               0.0                       0.0   \n",
       "90               0.0                       0.0   \n",
       "\n",
       "    Non Infrastructure   Plan Cost  $1,000  Total Unfunded Need  $1,000  \\\n",
       "86                                     0.0                   262215.062   \n",
       "87                                     0.0                    18561.520   \n",
       "88                                     0.0                    28944.000   \n",
       "89                                     0.0                    32000.279   \n",
       "90                                     0.0                        0.000   \n",
       "\n",
       "   Previous Funding Request Phase  Last Scored Csis Alignment  \\\n",
       "86                           None          0.0           None   \n",
       "87                           None          0.0           None   \n",
       "88                           None          0.0           None   \n",
       "89                           None          0.0           None   \n",
       "90                           None          0.0           None   \n",
       "\n",
       "    Csis Total Score  Out Of 45  Mode Shift  Csis  Score  \\\n",
       "86                          0.0                      0.0   \n",
       "87                          0.0                      0.0   \n",
       "88                          0.0                      0.0   \n",
       "89                          0.0                      0.0   \n",
       "90                          0.0                      0.0   \n",
       "\n",
       "   Mode Shift  Csis  Comment  Vmt  Csis  Score Vmt  Csis  Comment  \\\n",
       "86                      None               0.0               None   \n",
       "87                      None               0.0               None   \n",
       "88                      None               0.0               None   \n",
       "89                      None               0.0               None   \n",
       "90                      None               0.0               None   \n",
       "\n",
       "    Public Engagement  Csis  Score Public Engagement  Csis  Comment  \\\n",
       "86                             0.0                             None   \n",
       "87                             0.0                             None   \n",
       "88                             0.0                             None   \n",
       "89                             0.0                             None   \n",
       "90                             0.0                             None   \n",
       "\n",
       "    Dac Local Community Needs  Csis  Score  \\\n",
       "86                                     0.0   \n",
       "87                                     0.0   \n",
       "88                                     0.0   \n",
       "89                                     0.0   \n",
       "90                                     0.0   \n",
       "\n",
       "    Dac Local Community Needs  Csis  Comment  Safety  Csis  Score  \\\n",
       "86                                       0.0                  0.0   \n",
       "87                                       0.0                  0.0   \n",
       "88                                       0.0                  0.0   \n",
       "89                                       0.0                  0.0   \n",
       "90                                       0.0                  0.0   \n",
       "\n",
       "   Safety  Csis  Comment  Zev  Csis  Score Zev  Csis  Comment  \\\n",
       "86                  None               0.0               None   \n",
       "87                  None               0.0               None   \n",
       "88                  None               0.0               None   \n",
       "89                  None               0.0               None   \n",
       "90                  None               0.0               None   \n",
       "\n",
       "    Climate Resiliency  Csis  Score Climate Resiliency  Csis  Comment  ...  \\\n",
       "86                              0.0                              None  ...   \n",
       "87                              0.0                              None  ...   \n",
       "88                              0.0                              None  ...   \n",
       "89                              0.0                              None  ...   \n",
       "90                              0.0                              None  ...   \n",
       "\n",
       "    Natural Resources And Ecosystems  Csis  Comment  \\\n",
       "86                                             None   \n",
       "87                                             None   \n",
       "88                                             None   \n",
       "89                                             None   \n",
       "90                                             None   \n",
       "\n",
       "   Infill Development And Land Use  Csis  Score  \\\n",
       "86                                          0.0   \n",
       "87                                          0.0   \n",
       "88                                          0.0   \n",
       "89                                          0.0   \n",
       "90                                          0.0   \n",
       "\n",
       "    Infill Development And Land Use  Csis  Comment  \\\n",
       "86                                            None   \n",
       "87                                            None   \n",
       "88                                            None   \n",
       "89                                            None   \n",
       "90                                            None   \n",
       "\n",
       "   Benefits To Dac And Advancing Equity  Atp  Score  \\\n",
       "86                                              0.0   \n",
       "87                                              0.0   \n",
       "88                                              0.0   \n",
       "89                                              0.0   \n",
       "90                                              0.0   \n",
       "\n",
       "    Community Need  Atp  Score  Safety  Atp  Score  \\\n",
       "86                         0.0                 0.0   \n",
       "87                         0.0                 0.0   \n",
       "88                         0.0                 0.0   \n",
       "89                         0.0                 0.0   \n",
       "90                         0.0                 0.0   \n",
       "\n",
       "    Public Participation  Atp  Score  Community Feedback  Atp  Score  \\\n",
       "86                               0.0                             0.0   \n",
       "87                               0.0                             0.0   \n",
       "88                               0.0                             0.0   \n",
       "89                               0.0                             0.0   \n",
       "90                               0.0                             0.0   \n",
       "\n",
       "    Continued Engagement  Atp  Score  \\\n",
       "86                               0.0   \n",
       "87                               0.0   \n",
       "88                               0.0   \n",
       "89                               0.0   \n",
       "90                               0.0   \n",
       "\n",
       "    Context Sensitive And Innovation  Atp  Score  Transformative  Atp  Score  \\\n",
       "86                                           0.0                         0.0   \n",
       "87                                           0.0                         0.0   \n",
       "88                                           0.0                         0.0   \n",
       "89                                           0.0                         0.0   \n",
       "90                                           0.0                         0.0   \n",
       "\n",
       "    Atp Total Score  Out Of 100  Atp Alignment Access Alignment  \\\n",
       "86                          0.0           None             None   \n",
       "87                          0.0           None             None   \n",
       "88                          0.0           None             None   \n",
       "89                          0.0           None             None   \n",
       "90                          0.0           None             None   \n",
       "\n",
       "   Previous Funding Request Purpose   Need  Parcel Counts  \\\n",
       "86                     None            0.0           None   \n",
       "87                     None            0.0           None   \n",
       "88                     None            0.0           None   \n",
       "89                     None            0.0           None   \n",
       "90                     None            0.0           None   \n",
       "\n",
       "   Total Project Cost  $1,000  Con Capital Cost  $1,000  Hq Priority  \\\n",
       "86                 378291.062                       0.0          0.0   \n",
       "87                  33041.520                       0.0          0.0   \n",
       "88                  53769.000                       0.0          0.0   \n",
       "89                  57042.279                       0.0          0.0   \n",
       "90                      0.000                       0.0          0.0   \n",
       "\n",
       "    District Priority  Potential Funding Program S Located In Dac  \\\n",
       "86                0.0                         None           None   \n",
       "87                0.0                         None           None   \n",
       "88                0.0                         None           None   \n",
       "89                0.0                         None           None   \n",
       "90                0.0                         None           None   \n",
       "\n",
       "   Shs Capacity Increase Detail Secondary Mode S Full County Name  \\\n",
       "86                            0             None    San Francisco   \n",
       "87                            0             None      San Barbara   \n",
       "88                            0             None              SON   \n",
       "89                            0             None          Various   \n",
       "90                            0             None              TUL   \n",
       "\n",
       "   Detailed Project Title                           District Full Name  \\\n",
       "86                   None               District 4: Bay Area / Oakland   \n",
       "87                   None  District 5: San Luis Obispo / Santa Barbara   \n",
       "88                   None               District 4: Bay Area / Oakland   \n",
       "89                   None                      District 7: Los Angeles   \n",
       "90                   None             District 6: Fresno / Bakersfield   \n",
       "\n",
       "   Increase Peak Person Throughput  Reduction In Peak Period Delay  \\\n",
       "86                             0.0                             0.0   \n",
       "87                             0.0                             0.0   \n",
       "88                             0.0                             0.0   \n",
       "89                             0.0                             0.0   \n",
       "90                             0.0                             0.0   \n",
       "\n",
       "    Reduction In Fatal And Injury Crashes  Reduction In Injury Rates  \\\n",
       "86                                    0.0                        0.0   \n",
       "87                                    0.0                        0.0   \n",
       "88                                    0.0                        0.0   \n",
       "89                                    0.0                        0.0   \n",
       "90                                    0.0                        0.0   \n",
       "\n",
       "    Increase Access To Jobs  Increase Access Jobs To Dac  \\\n",
       "86                      0.0                          0.0   \n",
       "87                      0.0                          0.0   \n",
       "88                      0.0                          0.0   \n",
       "89                      0.0                          0.0   \n",
       "90                      0.0                          0.0   \n",
       "\n",
       "    Commercial Dev Developed  Tons Of Goods Impacted  Improve Air Quality  \\\n",
       "86                       0.0                     0.0                  0.0   \n",
       "87                       0.0                     0.0                  0.0   \n",
       "88                       0.0                     0.0                  0.0   \n",
       "89                       0.0                     0.0                  0.0   \n",
       "90                       0.0                     0.0                  0.0   \n",
       "\n",
       "    Impact Natural Resources  Support Of Transportation  Fake Benefit Score  \\\n",
       "86                       0.0                        0.0                 0.0   \n",
       "87                       0.0                        0.0                 0.0   \n",
       "88                       0.0                        0.0                 0.0   \n",
       "89                       0.0                        0.0                 0.0   \n",
       "90                       0.0                        0.0                 0.0   \n",
       "\n",
       "    Statewide Rank  District Rank  Fake Benefit Score Statewide Percentile  \\\n",
       "86             0.0            0.0                                     None   \n",
       "87             0.0            0.0                                     None   \n",
       "88             0.0            0.0                                     None   \n",
       "89             0.0            0.0                                     None   \n",
       "90             0.0            0.0                                     None   \n",
       "\n",
       "   District District Median  Total Project Cost  $1,000  District Median  \\\n",
       "86                      0.0                                          0.0   \n",
       "87                      0.0                                          0.0   \n",
       "88                      0.0                                          0.0   \n",
       "89                      0.0                                          0.0   \n",
       "90                      0.0                                          0.0   \n",
       "\n",
       "    Fake Benefit Score District Median  \\\n",
       "86                                 0.0   \n",
       "87                                 0.0   \n",
       "88                                 0.0   \n",
       "89                                 0.0   \n",
       "90                                 0.0   \n",
       "\n",
       "    Total Unfunded Need  $1,000  District Median  \\\n",
       "86                                           0.0   \n",
       "87                                           0.0   \n",
       "88                                           0.0   \n",
       "89                                           0.0   \n",
       "90                                           0.0   \n",
       "\n",
       "    Csis Total Score  Out Of 45  District Median  \\\n",
       "86                                           0.0   \n",
       "87                                           0.0   \n",
       "88                                           0.0   \n",
       "89                                           0.0   \n",
       "90                                           0.0   \n",
       "\n",
       "    Atp Total Score  Out Of 100  District Median  Ppno1  \n",
       "86                                           0.0   None  \n",
       "87                                           0.0   None  \n",
       "88                                           0.0   None  \n",
       "89                                           0.0   None  \n",
       "90                                           0.0   None  \n",
       "\n",
       "[5 rows x 101 columns]"
      ]
     },
     "execution_count": 79,
     "metadata": {},
     "output_type": "execute_result"
    }
   ],
   "source": [
    "concat1.tail()"
   ]
  }
 ],
 "metadata": {
  "kernelspec": {
   "display_name": "Python 3 (ipykernel)",
   "language": "python",
   "name": "python3"
  },
  "language_info": {
   "codemirror_mode": {
    "name": "ipython",
    "version": 3
   },
   "file_extension": ".py",
   "mimetype": "text/x-python",
   "name": "python",
   "nbconvert_exporter": "python",
   "pygments_lexer": "ipython3",
   "version": "3.9.13"
  }
 },
 "nbformat": 4,
 "nbformat_minor": 5
}
