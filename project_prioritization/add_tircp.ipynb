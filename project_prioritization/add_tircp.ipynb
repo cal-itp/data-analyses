{
 "cells": [
  {
   "cell_type": "markdown",
   "id": "cb6a1a41-5a4c-4178-8651-5cee12f3ec13",
   "metadata": {},
   "source": [
    "## Add TIRCP"
   ]
  },
  {
   "cell_type": "code",
   "execution_count": 1,
   "id": "c2bbe80b-66c4-44d6-9888-93b8ae4f8ab2",
   "metadata": {},
   "outputs": [
    {
     "name": "stderr",
     "output_type": "stream",
     "text": [
      "/opt/conda/lib/python3.9/site-packages/geopandas/_compat.py:123: UserWarning: The Shapely GEOS version (3.10.3-CAPI-1.16.1) is incompatible with the GEOS version PyGEOS was compiled with (3.10.1-CAPI-1.16.0). Conversions between both will be slow.\n",
      "  warnings.warn(\n"
     ]
    }
   ],
   "source": [
    "import _utils\n",
    "import pandas as pd\n",
    "import numpy as np\n",
    "from calitp.sql import to_snakecase"
   ]
  },
  {
   "cell_type": "code",
   "execution_count": 2,
   "id": "85238cd5-f743-480b-968e-c9b4dae07d66",
   "metadata": {},
   "outputs": [],
   "source": [
    "pd.options.display.max_columns = 100\n",
    "pd.set_option(\"display.max_rows\", None)\n",
    "pd.set_option(\"display.max_colwidth\", None)"
   ]
  },
  {
   "cell_type": "code",
   "execution_count": 3,
   "id": "d9ae83e2-c80f-4ea9-a125-bf5d5695fbb7",
   "metadata": {},
   "outputs": [],
   "source": [
    "# import fuzzywuzzy\n",
    "# from fuzzywuzzy import process"
   ]
  },
  {
   "cell_type": "markdown",
   "id": "bf5d9247-a4cf-4a4d-9a14-8019b2183ba2",
   "metadata": {},
   "source": [
    "### ATP - 10 Year Non SHOPP Prep"
   ]
  },
  {
   "cell_type": "code",
   "execution_count": 4,
   "id": "fd66609e-464a-4bd0-b430-848e2dfcd895",
   "metadata": {},
   "outputs": [],
   "source": [
    "# Read in 10 Year non SHOPP\n",
    "atp_shopp = to_snakecase(\n",
    "    pd.read_excel(f\"{_utils.GCS_FILE_PATH}cleaned_data_with_fake_metrics_plus_atp.xlsx\")\n",
    ")"
   ]
  },
  {
   "cell_type": "code",
   "execution_count": 5,
   "id": "71393642-ae14-40b5-9b54-6c27ff571fda",
   "metadata": {},
   "outputs": [
    {
     "data": {
      "text/html": [
       "<div>\n",
       "<style scoped>\n",
       "    .dataframe tbody tr th:only-of-type {\n",
       "        vertical-align: middle;\n",
       "    }\n",
       "\n",
       "    .dataframe tbody tr th {\n",
       "        vertical-align: top;\n",
       "    }\n",
       "\n",
       "    .dataframe thead th {\n",
       "        text-align: right;\n",
       "    }\n",
       "</style>\n",
       "<table border=\"1\" class=\"dataframe\">\n",
       "  <thead>\n",
       "    <tr style=\"text-align: right;\">\n",
       "      <th></th>\n",
       "      <th>unnamed:_0</th>\n",
       "      <th>rail_project_id</th>\n",
       "      <th>_10_year_plan</th>\n",
       "      <th>ct_project_id</th>\n",
       "      <th>update_complete</th>\n",
       "      <th>ea</th>\n",
       "      <th>ppno</th>\n",
       "      <th>project_name</th>\n",
       "      <th>district</th>\n",
       "      <th>county</th>\n",
       "      <th>route</th>\n",
       "      <th>project_description</th>\n",
       "      <th>current_phase</th>\n",
       "      <th>con_existing_source_s__of_funds</th>\n",
       "      <th>con_anticipated_source_of_funds</th>\n",
       "      <th>target_opening_year</th>\n",
       "      <th>beg_pm</th>\n",
       "      <th>end_pm</th>\n",
       "      <th>primary_mode</th>\n",
       "      <th>previous_caltrans_nominations</th>\n",
       "      <th>urban_rural</th>\n",
       "      <th>notes</th>\n",
       "      <th>lead_agency</th>\n",
       "      <th>pid_approval_date__m010</th>\n",
       "      <th>target_pa_ed__m200</th>\n",
       "      <th>rtl_date__m460</th>\n",
       "      <th>con_start_date__m500</th>\n",
       "      <th>funding_need_phase_s</th>\n",
       "      <th>pa_ed_cost__$1,000</th>\n",
       "      <th>ps_e_cost__$1,000</th>\n",
       "      <th>row_cost__$1,000</th>\n",
       "      <th>con_support_cost__$1,000</th>\n",
       "      <th>non_infrastructure___plan_cost__$1,000</th>\n",
       "      <th>total_unfunded_need__$1,000</th>\n",
       "      <th>previous_funding_request_phase</th>\n",
       "      <th>last_scored</th>\n",
       "      <th>csis_alignment</th>\n",
       "      <th>csis_total_score__out_of_45</th>\n",
       "      <th>mode_shift__csis__score</th>\n",
       "      <th>mode_shift__csis__comment</th>\n",
       "      <th>vmt__csis__score</th>\n",
       "      <th>vmt__csis__comment</th>\n",
       "      <th>public_engagement__csis__score</th>\n",
       "      <th>public_engagement__csis__comment</th>\n",
       "      <th>dac_local_community_needs__csis__score</th>\n",
       "      <th>dac_local_community_needs__csis__comment</th>\n",
       "      <th>safety__csis__score</th>\n",
       "      <th>safety__csis__comment</th>\n",
       "      <th>zev__csis__score</th>\n",
       "      <th>zev__csis__comment</th>\n",
       "      <th>climate_resiliency__csis__score</th>\n",
       "      <th>climate_resiliency__csis__comment</th>\n",
       "      <th>natural_resources_and_ecosystems__csis__score</th>\n",
       "      <th>natural_resources_and_ecosystems__csis__comment</th>\n",
       "      <th>infill_development_and_land_use__csis__score</th>\n",
       "      <th>infill_development_and_land_use__csis__comment</th>\n",
       "      <th>benefits_to_dac_and_advancing_equity__atp__score</th>\n",
       "      <th>community_need__atp__score</th>\n",
       "      <th>safety__atp__score</th>\n",
       "      <th>public_participation__atp__score</th>\n",
       "      <th>community_feedback__atp__score</th>\n",
       "      <th>continued_engagement__atp__score</th>\n",
       "      <th>context_sensitive_and_innovation__atp__score</th>\n",
       "      <th>transformative__atp__score</th>\n",
       "      <th>atp_total_score__out_of_100</th>\n",
       "      <th>atp_alignment</th>\n",
       "      <th>access_alignment</th>\n",
       "      <th>_2023</th>\n",
       "      <th>_2024</th>\n",
       "      <th>_2025</th>\n",
       "      <th>_2026</th>\n",
       "      <th>_2027</th>\n",
       "      <th>_2028</th>\n",
       "      <th>_2029</th>\n",
       "      <th>_2030</th>\n",
       "      <th>_2031</th>\n",
       "      <th>_2032</th>\n",
       "      <th>_2033</th>\n",
       "      <th>previous_funding_request</th>\n",
       "      <th>purpose___need</th>\n",
       "      <th>parcel_counts</th>\n",
       "      <th>total_project_cost__$1,000</th>\n",
       "      <th>con_capital_cost__$1,000</th>\n",
       "      <th>hq_priority</th>\n",
       "      <th>district_priority</th>\n",
       "      <th>potential_funding_program_s</th>\n",
       "      <th>located_in_dac</th>\n",
       "      <th>shs_capacity_increase_detail</th>\n",
       "      <th>secondary_mode_s</th>\n",
       "      <th>full_county_name</th>\n",
       "      <th>abbrev</th>\n",
       "      <th>merge</th>\n",
       "      <th>detailed_project_title</th>\n",
       "      <th>district_full_name</th>\n",
       "      <th>ppno1</th>\n",
       "      <th>total_project_cost__$1,000_1</th>\n",
       "      <th>pa_ed_cost__$1,000_1</th>\n",
       "      <th>ps_e_cost__$1,000_1</th>\n",
       "      <th>non_infrastructure___plan_cost__$1,000_1</th>\n",
       "    </tr>\n",
       "  </thead>\n",
       "  <tbody>\n",
       "    <tr>\n",
       "      <th>0</th>\n",
       "      <td>0</td>\n",
       "      <td>None</td>\n",
       "      <td>0.0</td>\n",
       "      <td>0118000113</td>\n",
       "      <td>1.0</td>\n",
       "      <td>0H830</td>\n",
       "      <td>2503</td>\n",
       "      <td>Koster Couplet</td>\n",
       "      <td>1</td>\n",
       "      <td>HUM</td>\n",
       "      <td>NaN</td>\n",
       "      <td>US 101 Couplet for Safety, Livability, and Sustainability. Add three lanes of travel for vehicle operations with two lanes southbound using Koster Street and one additional lane northbound for one alternative. Traffic Calming features include adding Class II bike lanes, widen sidewalks, add parking, and other complete streets features.</td>\n",
       "      <td>REMOVE/END</td>\n",
       "      <td>Information currently not available</td>\n",
       "      <td>Information currently not available</td>\n",
       "      <td>2030</td>\n",
       "      <td>77.2</td>\n",
       "      <td>78.113</td>\n",
       "      <td>Complete Streets</td>\n",
       "      <td>SHOPP</td>\n",
       "      <td>Rural</td>\n",
       "      <td>PID Completed</td>\n",
       "      <td>Caltrans</td>\n",
       "      <td>datetime64[ns]</td>\n",
       "      <td>2023-04-03 00:00:00</td>\n",
       "      <td>datetime64[ns]</td>\n",
       "      <td>datetime64[ns]</td>\n",
       "      <td>0.0</td>\n",
       "      <td>0.0</td>\n",
       "      <td>0.0</td>\n",
       "      <td>0.0</td>\n",
       "      <td>0.0</td>\n",
       "      <td>0.0</td>\n",
       "      <td>0.0</td>\n",
       "      <td>None</td>\n",
       "      <td>0.0</td>\n",
       "      <td>Not Well-Aligned</td>\n",
       "      <td>0.0</td>\n",
       "      <td>0.0</td>\n",
       "      <td>None</td>\n",
       "      <td>0.0</td>\n",
       "      <td>None</td>\n",
       "      <td>0.0</td>\n",
       "      <td>None</td>\n",
       "      <td>0.0</td>\n",
       "      <td>0.0</td>\n",
       "      <td>0.0</td>\n",
       "      <td>None</td>\n",
       "      <td>0.0</td>\n",
       "      <td>None</td>\n",
       "      <td>0.0</td>\n",
       "      <td>None</td>\n",
       "      <td>0.0</td>\n",
       "      <td>None</td>\n",
       "      <td>0.0</td>\n",
       "      <td>None</td>\n",
       "      <td>0.0</td>\n",
       "      <td>0.0</td>\n",
       "      <td>0.0</td>\n",
       "      <td>0.0</td>\n",
       "      <td>0.0</td>\n",
       "      <td>0.0</td>\n",
       "      <td>0.0</td>\n",
       "      <td>0.0</td>\n",
       "      <td>0.0</td>\n",
       "      <td>Not Well-Aligned</td>\n",
       "      <td>None</td>\n",
       "      <td>None</td>\n",
       "      <td>None</td>\n",
       "      <td>0.0</td>\n",
       "      <td>None</td>\n",
       "      <td>0.0</td>\n",
       "      <td>0.0</td>\n",
       "      <td>0.0</td>\n",
       "      <td>0.0</td>\n",
       "      <td>0.0</td>\n",
       "      <td>0.0</td>\n",
       "      <td>0.0</td>\n",
       "      <td>None</td>\n",
       "      <td>0.0</td>\n",
       "      <td>0</td>\n",
       "      <td>62500.0</td>\n",
       "      <td>0.0</td>\n",
       "      <td>0.0</td>\n",
       "      <td>0.0</td>\n",
       "      <td>Atp\\nActive Transportation Infrastructure Investment Program\\nRaise</td>\n",
       "      <td>None</td>\n",
       "      <td>General Purpose Lane</td>\n",
       "      <td>None</td>\n",
       "      <td>Humboldt</td>\n",
       "      <td>HUM</td>\n",
       "      <td>both</td>\n",
       "      <td>District 1-Koster Couplet</td>\n",
       "      <td>01 - Eureka</td>\n",
       "      <td>NaN</td>\n",
       "      <td>NaN</td>\n",
       "      <td>NaN</td>\n",
       "      <td>NaN</td>\n",
       "      <td>NaN</td>\n",
       "    </tr>\n",
       "  </tbody>\n",
       "</table>\n",
       "</div>"
      ],
      "text/plain": [
       "   unnamed:_0 rail_project_id  _10_year_plan ct_project_id  update_complete  \\\n",
       "0           0            None            0.0    0118000113              1.0   \n",
       "\n",
       "      ea  ppno    project_name  district county route  \\\n",
       "0  0H830  2503  Koster Couplet         1    HUM   NaN   \n",
       "\n",
       "                                                                                                                                                                                                                                                                                                                                 project_description  \\\n",
       "0  US 101 Couplet for Safety, Livability, and Sustainability. Add three lanes of travel for vehicle operations with two lanes southbound using Koster Street and one additional lane northbound for one alternative. Traffic Calming features include adding Class II bike lanes, widen sidewalks, add parking, and other complete streets features.   \n",
       "\n",
       "  current_phase      con_existing_source_s__of_funds  \\\n",
       "0    REMOVE/END  Information currently not available   \n",
       "\n",
       "       con_anticipated_source_of_funds target_opening_year beg_pm  end_pm  \\\n",
       "0  Information currently not available                2030   77.2  78.113   \n",
       "\n",
       "       primary_mode previous_caltrans_nominations urban_rural          notes  \\\n",
       "0  Complete Streets                         SHOPP       Rural  PID Completed   \n",
       "\n",
       "  lead_agency pid_approval_date__m010   target_pa_ed__m200  rtl_date__m460  \\\n",
       "0    Caltrans          datetime64[ns]  2023-04-03 00:00:00  datetime64[ns]   \n",
       "\n",
       "  con_start_date__m500  funding_need_phase_s  pa_ed_cost__$1,000  \\\n",
       "0       datetime64[ns]                   0.0                 0.0   \n",
       "\n",
       "   ps_e_cost__$1,000  row_cost__$1,000  con_support_cost__$1,000  \\\n",
       "0                0.0               0.0                       0.0   \n",
       "\n",
       "   non_infrastructure___plan_cost__$1,000  total_unfunded_need__$1,000  \\\n",
       "0                                     0.0                          0.0   \n",
       "\n",
       "  previous_funding_request_phase  last_scored    csis_alignment  \\\n",
       "0                           None          0.0  Not Well-Aligned   \n",
       "\n",
       "   csis_total_score__out_of_45  mode_shift__csis__score  \\\n",
       "0                          0.0                      0.0   \n",
       "\n",
       "  mode_shift__csis__comment  vmt__csis__score vmt__csis__comment  \\\n",
       "0                      None               0.0               None   \n",
       "\n",
       "   public_engagement__csis__score public_engagement__csis__comment  \\\n",
       "0                             0.0                             None   \n",
       "\n",
       "   dac_local_community_needs__csis__score  \\\n",
       "0                                     0.0   \n",
       "\n",
       "   dac_local_community_needs__csis__comment  safety__csis__score  \\\n",
       "0                                       0.0                  0.0   \n",
       "\n",
       "  safety__csis__comment  zev__csis__score zev__csis__comment  \\\n",
       "0                  None               0.0               None   \n",
       "\n",
       "   climate_resiliency__csis__score climate_resiliency__csis__comment  \\\n",
       "0                              0.0                              None   \n",
       "\n",
       "   natural_resources_and_ecosystems__csis__score  \\\n",
       "0                                            0.0   \n",
       "\n",
       "  natural_resources_and_ecosystems__csis__comment  \\\n",
       "0                                            None   \n",
       "\n",
       "   infill_development_and_land_use__csis__score  \\\n",
       "0                                           0.0   \n",
       "\n",
       "  infill_development_and_land_use__csis__comment  \\\n",
       "0                                           None   \n",
       "\n",
       "   benefits_to_dac_and_advancing_equity__atp__score  \\\n",
       "0                                               0.0   \n",
       "\n",
       "   community_need__atp__score  safety__atp__score  \\\n",
       "0                         0.0                 0.0   \n",
       "\n",
       "   public_participation__atp__score  community_feedback__atp__score  \\\n",
       "0                               0.0                             0.0   \n",
       "\n",
       "   continued_engagement__atp__score  \\\n",
       "0                               0.0   \n",
       "\n",
       "   context_sensitive_and_innovation__atp__score  transformative__atp__score  \\\n",
       "0                                           0.0                         0.0   \n",
       "\n",
       "   atp_total_score__out_of_100     atp_alignment access_alignment _2023 _2024  \\\n",
       "0                          0.0  Not Well-Aligned             None  None  None   \n",
       "\n",
       "   _2025 _2026  _2027  _2028  _2029  _2030  _2031  _2032  _2033  \\\n",
       "0    0.0  None    0.0    0.0    0.0    0.0    0.0    0.0    0.0   \n",
       "\n",
       "  previous_funding_request  purpose___need parcel_counts  \\\n",
       "0                     None             0.0             0   \n",
       "\n",
       "   total_project_cost__$1,000  con_capital_cost__$1,000  hq_priority  \\\n",
       "0                     62500.0                       0.0          0.0   \n",
       "\n",
       "   district_priority  \\\n",
       "0                0.0   \n",
       "\n",
       "                                           potential_funding_program_s  \\\n",
       "0  Atp\\nActive Transportation Infrastructure Investment Program\\nRaise   \n",
       "\n",
       "  located_in_dac shs_capacity_increase_detail secondary_mode_s  \\\n",
       "0           None         General Purpose Lane             None   \n",
       "\n",
       "  full_county_name abbrev merge     detailed_project_title district_full_name  \\\n",
       "0         Humboldt    HUM  both  District 1-Koster Couplet        01 - Eureka   \n",
       "\n",
       "  ppno1  total_project_cost__$1,000_1  pa_ed_cost__$1,000_1  \\\n",
       "0   NaN                           NaN                   NaN   \n",
       "\n",
       "   ps_e_cost__$1,000_1  non_infrastructure___plan_cost__$1,000_1  \n",
       "0                  NaN                                       NaN  "
      ]
     },
     "execution_count": 5,
     "metadata": {},
     "output_type": "execute_result"
    }
   ],
   "source": [
    "atp_shopp.head(1)"
   ]
  },
  {
   "cell_type": "code",
   "execution_count": 6,
   "id": "ce97edf3-0cb5-4008-8e18-287fe7bdc372",
   "metadata": {},
   "outputs": [],
   "source": [
    "# Subset\n",
    "atp_shopp_subset = [\n",
    "    \"ppno\",\n",
    "    \"project_name\",\n",
    "    \"lead_agency\",\n",
    "    \"previous_caltrans_nominations\",\n",
    "    \"full_county_name\",\n",
    "    \"district\",\n",
    "    \"project_description\",\n",
    "    \"current_phase\",\n",
    "    \"primary_mode\",\n",
    "    \"urban_rural\",\n",
    "    'total_project_cost__$1,000',\n",
    "    \"total_unfunded_need__$1,000\",\n",
    "    \"notes\",\n",
    "    'shs_capacity_increase_detail'\n",
    "]"
   ]
  },
  {
   "cell_type": "code",
   "execution_count": 7,
   "id": "cd738aa0-e3da-4aca-860e-d6eca9ce2226",
   "metadata": {},
   "outputs": [],
   "source": [
    "atp_shopp2 = atp_shopp[atp_shopp_subset]"
   ]
  },
  {
   "cell_type": "code",
   "execution_count": 8,
   "id": "15004a48-f44b-4342-8e93-9ead6ab1fc6e",
   "metadata": {},
   "outputs": [],
   "source": [
    "# atp_shopp2.sample()"
   ]
  },
  {
   "cell_type": "code",
   "execution_count": 9,
   "id": "6a609e26-856b-47af-997e-0d92e6ccb43b",
   "metadata": {},
   "outputs": [],
   "source": [
    "# Function to clean agency/organization names\n",
    "def organization_cleaning(df, column_wanted: str):\n",
    "    df[column_wanted] = (\n",
    "        df[column_wanted]\n",
    "        .str.strip()\n",
    "        .str.split(\",\")\n",
    "        .str[0]\n",
    "        .str.replace(\"/\", \"\")\n",
    "        .str.split(\"(\")\n",
    "        .str[0]\n",
    "        .str.split(\"/\")\n",
    "        .str[0]\n",
    "        .str.title()\n",
    "        .str.replace(\"Trasit\", \"Transit\")\n",
    "        .str.strip()  # strip again after getting rid of certain things\n",
    "    )\n",
    "    return df"
   ]
  },
  {
   "cell_type": "code",
   "execution_count": 10,
   "id": "72b8f0e8-574b-4ab3-8f01-98fb375d135c",
   "metadata": {},
   "outputs": [
    {
     "name": "stderr",
     "output_type": "stream",
     "text": [
      "/opt/conda/lib/python3.9/site-packages/pandas/core/generic.py:5516: SettingWithCopyWarning: \n",
      "A value is trying to be set on a copy of a slice from a DataFrame.\n",
      "Try using .loc[row_indexer,col_indexer] = value instead\n",
      "\n",
      "See the caveats in the documentation: https://pandas.pydata.org/pandas-docs/stable/user_guide/indexing.html#returning-a-view-versus-a-copy\n"
     ]
    }
   ],
   "source": [
    "# Lowercase previous caltrans nominations\n",
    "atp_shopp2.previous_caltrans_nominations = (\n",
    "    atp_shopp2.previous_caltrans_nominations.str.lower()\n",
    ")"
   ]
  },
  {
   "cell_type": "code",
   "execution_count": 11,
   "id": "861271c5-7843-4f05-85b9-bc7b6f384c33",
   "metadata": {},
   "outputs": [
    {
     "name": "stderr",
     "output_type": "stream",
     "text": [
      "/tmp/ipykernel_1929/2101408362.py:3: SettingWithCopyWarning: \n",
      "A value is trying to be set on a copy of a slice from a DataFrame.\n",
      "Try using .loc[row_indexer,col_indexer] = value instead\n",
      "\n",
      "See the caveats in the documentation: https://pandas.pydata.org/pandas-docs/stable/user_guide/indexing.html#returning-a-view-versus-a-copy\n"
     ]
    }
   ],
   "source": [
    "# Clean ATP \n",
    "atp_shopp2 = organization_cleaning(atp_shopp2, \"lead_agency\")"
   ]
  },
  {
   "cell_type": "code",
   "execution_count": 12,
   "id": "f6b4f1d5-8576-4551-8ce3-8ab77a8f9e63",
   "metadata": {
    "scrolled": true,
    "tags": []
   },
   "outputs": [],
   "source": [
    "# atp_shopp2.head(100)"
   ]
  },
  {
   "cell_type": "markdown",
   "id": "96241d8e-fa10-4c07-9159-a1d41b80fdb5",
   "metadata": {},
   "source": [
    "### TIRCP Prep\n",
    "* Filter out projects in which total cost equals total award "
   ]
  },
  {
   "cell_type": "code",
   "execution_count": 13,
   "id": "b58732d7-ca56-46ed-b7d1-0d41b4d9ff84",
   "metadata": {},
   "outputs": [],
   "source": [
    "# Read in TIRCP. Last updated November 2022.\n",
    "tircp = to_snakecase(\n",
    "    pd.read_excel(\n",
    "        \"gs://calitp-analytics-data/data-analyses/tircp/Tableau_Workbook.xlsx\"\n",
    "    )\n",
    ")"
   ]
  },
  {
   "cell_type": "code",
   "execution_count": 14,
   "id": "91556902-a9f6-4d19-921c-6c8f7de6d370",
   "metadata": {},
   "outputs": [],
   "source": [
    "# tircp.columns"
   ]
  },
  {
   "cell_type": "code",
   "execution_count": 15,
   "id": "d9f48b3b-2a22-4108-a525-3eb2fcbf6f1f",
   "metadata": {},
   "outputs": [],
   "source": [
    "# Subset TIRCP with only the basic information\n",
    "tircp_subset = [\n",
    "    \"award_year\",\n",
    "    \"grant_recipient\",\n",
    "    \"title\",\n",
    "    \"ppno\",\n",
    "    \"district\",\n",
    "    \"county\",\n",
    "    \"description\",\n",
    "    \"total__cost\",\n",
    "    \"tircp\",\n",
    "    \"award_cycle\",\n",
    "    \"on_shs?\",\n",
    "    \"comments_additional_contacts\"\n",
    "]"
   ]
  },
  {
   "cell_type": "code",
   "execution_count": 16,
   "id": "d772cd9a-c59f-4d37-920c-2ad1f7f64265",
   "metadata": {},
   "outputs": [],
   "source": [
    "tircp2 = tircp[tircp_subset]"
   ]
  },
  {
   "cell_type": "code",
   "execution_count": 17,
   "id": "5782e128-b6f7-451f-8cad-af9c0115e98c",
   "metadata": {},
   "outputs": [
    {
     "name": "stderr",
     "output_type": "stream",
     "text": [
      "/tmp/ipykernel_1929/3217889362.py:2: SettingWithCopyWarning: \n",
      "A value is trying to be set on a copy of a slice from a DataFrame.\n",
      "Try using .loc[row_indexer,col_indexer] = value instead\n",
      "\n",
      "See the caveats in the documentation: https://pandas.pydata.org/pandas-docs/stable/user_guide/indexing.html#returning-a-view-versus-a-copy\n"
     ]
    }
   ],
   "source": [
    "# Create a column with cycle + tircp for previous CT nominations\n",
    "tircp2[\"previous_caltrans_nominations\"] = \"TIRCP\" + \" Cycle \" + tircp2[\"award_cycle\"].astype(\"str\")"
   ]
  },
  {
   "cell_type": "code",
   "execution_count": 18,
   "id": "682a34c6-76d6-4fcb-8a9e-ef1437469533",
   "metadata": {},
   "outputs": [
    {
     "name": "stderr",
     "output_type": "stream",
     "text": [
      "/tmp/ipykernel_1929/2212343423.py:2: SettingWithCopyWarning: \n",
      "A value is trying to be set on a copy of a slice from a DataFrame.\n",
      "Try using .loc[row_indexer,col_indexer] = value instead\n",
      "\n",
      "See the caveats in the documentation: https://pandas.pydata.org/pandas-docs/stable/user_guide/indexing.html#returning-a-view-versus-a-copy\n"
     ]
    }
   ],
   "source": [
    "# Create column for unmet needs\n",
    "tircp2[\"total_unfunded_need__$1,000\"] = tircp2[\"total__cost\"] - tircp2[\"tircp\"]"
   ]
  },
  {
   "cell_type": "code",
   "execution_count": 19,
   "id": "9910645c-7b2a-4d6d-9dac-a1113786ffca",
   "metadata": {},
   "outputs": [
    {
     "name": "stderr",
     "output_type": "stream",
     "text": [
      "/tmp/ipykernel_1929/2443383145.py:3: SettingWithCopyWarning: \n",
      "A value is trying to be set on a copy of a slice from a DataFrame.\n",
      "Try using .loc[row_indexer,col_indexer] = value instead\n",
      "\n",
      "See the caveats in the documentation: https://pandas.pydata.org/pandas-docs/stable/user_guide/indexing.html#returning-a-view-versus-a-copy\n"
     ]
    }
   ],
   "source": [
    "# Perhaps to narrow down projects\n",
    "# Figure out which TIRCP projects' total cost are completely covered by TIRCP requested\n",
    "tircp2[\"total_cost_vs_tircp_req\"] =  tircp2[\"tircp\"]/tircp2[\"total__cost\"]"
   ]
  },
  {
   "cell_type": "code",
   "execution_count": 20,
   "id": "972a6e04-7d07-42a6-9ae3-764051f14ee3",
   "metadata": {
    "scrolled": true,
    "tags": []
   },
   "outputs": [],
   "source": [
    "# tircp2.total_cost_vs_tircp_req.value_counts()"
   ]
  },
  {
   "cell_type": "code",
   "execution_count": 21,
   "id": "7eb933ed-977f-430d-88c3-6d46293403d6",
   "metadata": {},
   "outputs": [],
   "source": [
    "# Filter out projects in which total cost equals total award \n",
    "tircp2 = (tircp2.loc[tircp2.total_cost_vs_tircp_req != 1]).reset_index(drop=True)"
   ]
  },
  {
   "cell_type": "code",
   "execution_count": 22,
   "id": "003abcb7-2179-4edf-831a-0cd5bba49bad",
   "metadata": {},
   "outputs": [],
   "source": [
    "# Drop some columns\n",
    "tircp_cols_drop = ['tircp', 'total_cost_vs_tircp_req', 'award_cycle']"
   ]
  },
  {
   "cell_type": "code",
   "execution_count": 23,
   "id": "c44b9a50-d0eb-4658-bebc-799264b50262",
   "metadata": {},
   "outputs": [],
   "source": [
    "tircp2 = tircp2.drop(columns = tircp_cols_drop)"
   ]
  },
  {
   "cell_type": "code",
   "execution_count": 24,
   "id": "206297b2-cdc8-446d-8f7c-3407105fab95",
   "metadata": {},
   "outputs": [
    {
     "data": {
      "text/plain": [
       "(93, 12)"
      ]
     },
     "execution_count": 24,
     "metadata": {},
     "output_type": "execute_result"
    }
   ],
   "source": [
    "tircp2.shape"
   ]
  },
  {
   "cell_type": "markdown",
   "id": "096a1d7d-9977-4fbb-9bfb-d35fda70d2f1",
   "metadata": {},
   "source": [
    "### Find TIRCP projects that are already in the 10 year Non SHOPP. "
   ]
  },
  {
   "cell_type": "markdown",
   "id": "209663bb-9b81-4977-92fd-0d7b8e5100c5",
   "metadata": {},
   "source": [
    "#### Harmonize the way columns are named/formatted.\n",
    "* TIRCP: `Total_cost` and `unmet needs` should be floats and divided by 1000. `District` should be int64. "
   ]
  },
  {
   "cell_type": "code",
   "execution_count": 25,
   "id": "e7d3bc6f-3660-45f5-97ca-1171b25a6b41",
   "metadata": {},
   "outputs": [
    {
     "data": {
      "text/plain": [
       "(242, 814)"
      ]
     },
     "execution_count": 25,
     "metadata": {},
     "output_type": "execute_result"
    }
   ],
   "source": [
    "atp_shopp2.previous_caltrans_nominations.nunique(), len(atp_shopp2)"
   ]
  },
  {
   "cell_type": "code",
   "execution_count": 26,
   "id": "d6155648-fe73-4d3c-a4a7-c95f9d682410",
   "metadata": {
    "scrolled": true,
    "tags": []
   },
   "outputs": [],
   "source": [
    "# Find projects that have DRMT in previous caltrans nominations\n",
    "atp_shopp_drmt = (\n",
    "    atp_shopp2[atp_shopp2[\"previous_caltrans_nominations\"].str.contains((\"tircp|drmt\"))]\n",
    ").reset_index(drop=True)"
   ]
  },
  {
   "cell_type": "code",
   "execution_count": 27,
   "id": "86db0fc2-43c1-4ada-a304-b1fed8014368",
   "metadata": {},
   "outputs": [],
   "source": [
    "# Check out that the filtering was correct. \n",
    "# atp_shopp_drmt.previous_caltrans_nominations.value_counts()"
   ]
  },
  {
   "cell_type": "code",
   "execution_count": 28,
   "id": "8aa7dac1-bec7-404d-8929-02c7fbd314af",
   "metadata": {},
   "outputs": [],
   "source": [
    "# Natalie's function\n",
    "def align_funding_numbers(df, list_of_cols):\n",
    "    for col in list_of_cols:\n",
    "        df[col] = df[col]/1000\n",
    "        \n",
    "    return df"
   ]
  },
  {
   "cell_type": "code",
   "execution_count": 29,
   "id": "c61b5e48-e4d9-4338-a1dc-1171c1e87ce5",
   "metadata": {},
   "outputs": [],
   "source": [
    "tircp2 = align_funding_numbers(tircp2, [\"total_unfunded_need__$1,000\", \"total__cost\",])"
   ]
  },
  {
   "cell_type": "code",
   "execution_count": 30,
   "id": "84bf700b-c053-4a05-a8ef-a738814945a7",
   "metadata": {},
   "outputs": [],
   "source": [
    "# (tircp2[[\"total_unfunded_need__$1,000\"]]/1000).astype('int64')*1000"
   ]
  },
  {
   "cell_type": "code",
   "execution_count": 31,
   "id": "8046f854-af91-4cde-bd3a-b7d3b0708147",
   "metadata": {},
   "outputs": [],
   "source": [
    "tircp2[[\"total_unfunded_need__$1,000\", \"total__cost\",]] = tircp2[[\"total_unfunded_need__$1,000\", \"total__cost\",]].fillna(0)"
   ]
  },
  {
   "cell_type": "code",
   "execution_count": 32,
   "id": "75035054-4c67-417c-91ab-810cb81e75a9",
   "metadata": {},
   "outputs": [],
   "source": [
    "tircp2[\"district_full_name\"] = tircp2[\"district\"]"
   ]
  },
  {
   "cell_type": "code",
   "execution_count": 33,
   "id": "3a354c4e-f069-40e7-9af5-7f4a2312b196",
   "metadata": {},
   "outputs": [],
   "source": [
    "# Extract digit from district. Fill \"Various\" districts with \"0\" and change to int64\n",
    "tircp2[\"district\"] = tircp2[\"district\"].str.extract('(\\d+)').fillna(0).astype('int64')"
   ]
  },
  {
   "cell_type": "code",
   "execution_count": 34,
   "id": "e8b8da34-2011-49e1-a4bf-f7f9f5625fd3",
   "metadata": {},
   "outputs": [],
   "source": [
    "# Rename columns\n",
    "tircp_new_cols = {'grant_recipient': 'lead_agency',\n",
    "                  'title': 'project_name',\n",
    "                  'county': 'full_county_name', \n",
    "                  'description': 'project_description',\n",
    "                  'total__cost': 'total_project_cost__$1,000', \n",
    "                  'on_shs?': 'shs_capacity_increase_detail',\n",
    "                  'comments_additional_contacts': 'notes',\n",
    "                 }"
   ]
  },
  {
   "cell_type": "code",
   "execution_count": 35,
   "id": "7919d1b1-9e22-43b0-ab92-d46ea3e87bcb",
   "metadata": {},
   "outputs": [],
   "source": [
    "# atp_shopp_drmt.info(), tircp2.info()"
   ]
  },
  {
   "cell_type": "code",
   "execution_count": 36,
   "id": "566af02a-aea5-41b8-b0a7-06b27a9175b4",
   "metadata": {},
   "outputs": [],
   "source": [
    "tircp2 = tircp2.rename(columns = tircp_new_cols)"
   ]
  },
  {
   "cell_type": "markdown",
   "id": "bfd690a2-b799-4b69-bb56-9ee7ad8038e9",
   "metadata": {},
   "source": [
    "#### Test with Merges\n",
    "* Zero merges across the board. "
   ]
  },
  {
   "cell_type": "code",
   "execution_count": 37,
   "id": "e18a2ae0-f833-40d8-9ba3-0ad63c5f5304",
   "metadata": {},
   "outputs": [],
   "source": [
    "# Make a copy of tircp\n",
    "# tircp_test = tircp2.copy()"
   ]
  },
  {
   "cell_type": "code",
   "execution_count": 38,
   "id": "b7a6d4b5-6f10-459a-8b81-53a0a5bee8c6",
   "metadata": {},
   "outputs": [],
   "source": [
    "# Round numbers\n",
    "# tircp_test[\"total_unfunded_need__$1,000\"] = (tircp_test[[\"total_unfunded_need__$1,000\"]]/1000).astype('int64')*1000"
   ]
  },
  {
   "cell_type": "code",
   "execution_count": 39,
   "id": "8664892c-1858-45f7-850c-c0c55aee2efb",
   "metadata": {},
   "outputs": [],
   "source": [
    "# tircp_test[\"total_project_cost__$1,000\"] = (tircp_test[[\"total_project_cost__$1,000\"]]/1000).astype('int64')*1000"
   ]
  },
  {
   "cell_type": "code",
   "execution_count": 40,
   "id": "0dee73f8-f072-4362-b78b-a8180d2896f7",
   "metadata": {},
   "outputs": [],
   "source": [
    "# atp_shopp_drmt[\"total_project_cost__$1,000\"] = ((atp_shopp_drmt[[\"total_project_cost__$1,000\"]]/1000).astype('int64')*1000).astype('int64')\n",
    "# atp_shopp_drmt[\"total_project_cost__$1,000\"] = ((atp_shopp_drmt[[\"total_project_cost__$1,000\"]]/1000).astype('int64')*1000).astype('int64')"
   ]
  },
  {
   "cell_type": "code",
   "execution_count": 41,
   "id": "9bb2b535-ed53-4ee7-a0d2-5ed36d816cad",
   "metadata": {},
   "outputs": [],
   "source": [
    "# Merge on district and unfunded needs\n",
    "# test1 = pd.merge(atp_shopp_drmt, tircp2, how= \"outer\", on=[\"district\", \"total_unfunded_need__$1,000\"], indicator = True)"
   ]
  },
  {
   "cell_type": "code",
   "execution_count": 42,
   "id": "081af521-a523-4bfd-9ef5-6e55ab6bf413",
   "metadata": {},
   "outputs": [],
   "source": [
    "# test1._merge.value_counts()"
   ]
  },
  {
   "cell_type": "code",
   "execution_count": 43,
   "id": "3b716695-f3b9-455c-afa1-e543de6657a2",
   "metadata": {},
   "outputs": [],
   "source": [
    "# Merge on county and unfunded needs\n",
    "# test2 = pd.merge(atp_shopp_drmt, tircp2, how= \"left\", on=[\"full_county_name\", \"total_unfunded_need__$1,000\"], indicator = True, suffixes = [\"_shopp\", \"_tircp\"])"
   ]
  },
  {
   "cell_type": "code",
   "execution_count": 44,
   "id": "3d8741cd-40a2-49ad-8dc7-e922903f278d",
   "metadata": {},
   "outputs": [],
   "source": [
    "# test2._merge.value_counts()"
   ]
  },
  {
   "cell_type": "code",
   "execution_count": 45,
   "id": "afdd6d7f-ca92-4314-9009-23a736d274c5",
   "metadata": {},
   "outputs": [],
   "source": [
    "# test2.loc[test2._merge == \"both\"][[\"project_name_shopp\",\"project_name_tircp\", \"full_county_name\", \"project_description_shopp\",\"project_description_tircp\"]]"
   ]
  },
  {
   "cell_type": "code",
   "execution_count": 46,
   "id": "5cd991f8-8dea-4eee-a56f-bb6908f8df70",
   "metadata": {},
   "outputs": [],
   "source": [
    "# Merge on district and total costs \n",
    "# test2 = pd.merge(atp_shopp_drmt, tircp2, how= \"outer\", on=[\"district\", \"total_project_cost__$1,000\"], indicator = True)"
   ]
  },
  {
   "cell_type": "markdown",
   "id": "3ca8739f-73dc-4c14-b3ef-c88ace71b133",
   "metadata": {},
   "source": [
    "#### Observation: \n",
    "* Total Project Cost, project titles, lead agency, and districts are potentially listed differently across datasets.\n",
    "* Inglewood Transit Connector Project\t  is listed as $1,016,000.000 in TIRCP but 1,666,466.0 in non SHOPP.\n",
    "    * City Of Inglewood is the grant recipient in TIRCP but Caltrans is the lead agency in Non SHOPP.\n",
    "* Valley Rail Expansion: Altamont Corridor Express (ACE) Ceres to Turlock Extension (the TIRCP title) is listed as D6 in TIRCP but D10 in Stanislaus.\n",
    "    * Fresno Subdivision (Ceres To Turlock) Double Tracking is the non SHOPP title."
   ]
  },
  {
   "cell_type": "code",
   "execution_count": 47,
   "id": "1884f7bf-ab50-4a98-81c0-e3de3429169d",
   "metadata": {},
   "outputs": [],
   "source": [
    "tircp_already_entered = ['Inglewood Transit Connector Project','Valley Rail Expansion: Altamont Corridor Express (ACE) Ceres to Turlock Extension',]"
   ]
  },
  {
   "cell_type": "code",
   "execution_count": 48,
   "id": "8e02f629-88c7-4f2f-b4a7-67b2708de360",
   "metadata": {},
   "outputs": [
    {
     "data": {
      "text/plain": [
       "3"
      ]
     },
     "execution_count": 48,
     "metadata": {},
     "output_type": "execute_result"
    }
   ],
   "source": [
    "# Projects with only TIRCP in the previous nomination.\n",
    "len(atp_shopp_drmt[atp_shopp_drmt[\"previous_caltrans_nominations\"].str.contains((\"tircp\"))])"
   ]
  },
  {
   "cell_type": "code",
   "execution_count": 49,
   "id": "bc85ae55-080c-4c06-a38c-80dcedb7f463",
   "metadata": {
    "scrolled": true,
    "tags": []
   },
   "outputs": [],
   "source": [
    "# Delete TIRCP projects that are already in non SHOPP\n",
    "# One project below in non SHOPP mentions TIRCP but that project\n",
    "# was ultimately not nominated.\n",
    "tircp2 = (tircp2[~tircp2[\"project_name\"].isin(tircp_already_entered)]).reset_index(drop = True)"
   ]
  },
  {
   "cell_type": "code",
   "execution_count": 50,
   "id": "27b67771-a209-4feb-acb2-7b5edd04bc0a",
   "metadata": {
    "scrolled": true,
    "tags": []
   },
   "outputs": [],
   "source": [
    "# atp_shopp_drmt[atp_shopp_drmt[\"previous_caltrans_nominations\"].str.contains((\"tircp\"))].drop(columns = \"notes\")"
   ]
  },
  {
   "cell_type": "markdown",
   "id": "d181517d-464e-4fbf-b53f-9d91f6de02cf",
   "metadata": {},
   "source": [
    "#### Test with Project Names"
   ]
  },
  {
   "cell_type": "code",
   "execution_count": 51,
   "id": "a3d51990-832b-4085-b272-669174c5a9d3",
   "metadata": {},
   "outputs": [],
   "source": [
    "tircp2[\"project_test\"] = tircp2[\"project_name\"]"
   ]
  },
  {
   "cell_type": "code",
   "execution_count": 52,
   "id": "b60d9694-cd93-4089-bc51-1b853ed8b44f",
   "metadata": {},
   "outputs": [],
   "source": [
    "atp_shopp_drmt[\"project_test\"] = atp_shopp_drmt[\"project_name\"]"
   ]
  },
  {
   "cell_type": "code",
   "execution_count": 53,
   "id": "1779e25b-e302-484f-9740-4cc7162f5bdb",
   "metadata": {},
   "outputs": [],
   "source": [
    "def simplify_project_names(df, column_wanted: str):\n",
    "    df[column_wanted] = (\n",
    "        df[column_wanted]\n",
    "        .str.strip()\n",
    "        .str.lower()\n",
    "        .str.replace(\"/\", \"\")\n",
    "        .str.replace(\"-\",\"\")\n",
    "        .str.replace(\"!\",\"\")\n",
    "        .str.replace(\"&\",\"\")\n",
    "        .str.replace(\"#\",\"\")\n",
    "        .str.replace(\"(\", \"\")\n",
    "        .str.replace(\")\", \"\")\n",
    "        .str.replace(\":\",\"\")\n",
    "        .str.replace(\"the\",\"\")\n",
    "        .str.strip() # strip again after getting rid of certain things\n",
    "    )\n",
    "    return df"
   ]
  },
  {
   "cell_type": "code",
   "execution_count": 54,
   "id": "13a0beb2-fb7a-40b6-8725-ae7dfe043221",
   "metadata": {},
   "outputs": [
    {
     "name": "stderr",
     "output_type": "stream",
     "text": [
      "/tmp/ipykernel_1929/1193460345.py:3: FutureWarning: The default value of regex will change from True to False in a future version. In addition, single character regular expressions will *not* be treated as literal strings when regex=True.\n"
     ]
    }
   ],
   "source": [
    "tircp2 = simplify_project_names(tircp2, \"project_test\")"
   ]
  },
  {
   "cell_type": "code",
   "execution_count": 55,
   "id": "77698d2e-ed0f-4a50-80a2-8e6651fc86cf",
   "metadata": {},
   "outputs": [
    {
     "name": "stderr",
     "output_type": "stream",
     "text": [
      "/tmp/ipykernel_1929/1193460345.py:3: FutureWarning: The default value of regex will change from True to False in a future version. In addition, single character regular expressions will *not* be treated as literal strings when regex=True.\n"
     ]
    }
   ],
   "source": [
    "atp_shopp_drmt = simplify_project_names(atp_shopp_drmt, \"project_test\")"
   ]
  },
  {
   "cell_type": "code",
   "execution_count": 56,
   "id": "771563fd-ef89-400c-87fd-4ea22ba8e170",
   "metadata": {
    "scrolled": true,
    "tags": []
   },
   "outputs": [],
   "source": [
    "# atp_shopp_drmt[[\"project_name\",\"project_test\"]].sort_values(by = [\"project_name\"])"
   ]
  },
  {
   "cell_type": "code",
   "execution_count": 57,
   "id": "07c7c782-2091-4fa8-bb17-461210bda2ed",
   "metadata": {},
   "outputs": [],
   "source": [
    "# Merge on project names\n",
    "test3 = pd.merge(atp_shopp_drmt, tircp2, how= \"outer\", on=[\"project_test\"], indicator = True, suffixes = [\"_shopp\", \"_tircp\"] )"
   ]
  },
  {
   "cell_type": "code",
   "execution_count": 58,
   "id": "1cadc113-4e40-47bc-a9fe-fa9c7a236225",
   "metadata": {},
   "outputs": [
    {
     "data": {
      "text/plain": [
       "left_only     167\n",
       "right_only     91\n",
       "both            0\n",
       "Name: _merge, dtype: int64"
      ]
     },
     "execution_count": 58,
     "metadata": {},
     "output_type": "execute_result"
    }
   ],
   "source": [
    "test3._merge.value_counts()"
   ]
  },
  {
   "cell_type": "code",
   "execution_count": 59,
   "id": "d339dafd-9b46-485d-830f-f03b9fcf9457",
   "metadata": {
    "scrolled": true,
    "tags": []
   },
   "outputs": [],
   "source": [
    "# atp_shopp_drmt[[\"project_test\"]].sort_values(\"project_test\")"
   ]
  },
  {
   "cell_type": "code",
   "execution_count": 60,
   "id": "79fcc908-95b4-4c5d-8d49-69e9684f36d5",
   "metadata": {
    "scrolled": true,
    "tags": []
   },
   "outputs": [],
   "source": [
    "# tircp2[[\"project_test\"]].sort_values(\"project_test\")"
   ]
  },
  {
   "cell_type": "markdown",
   "id": "e9aeddb1-686d-4a61-a5fb-d09fe50ee310",
   "metadata": {
    "tags": []
   },
   "source": [
    "#### Test 1 with Fuzzy Matching on Project Names\n",
    "* Unsuccessful with project names. Only 2 matches and after looking at descriptions/districts manually, they aren't similar enough."
   ]
  },
  {
   "cell_type": "code",
   "execution_count": 61,
   "id": "97a0a86a-936c-4f16-927f-f8da313bd310",
   "metadata": {},
   "outputs": [],
   "source": [
    "# Replace all rows in agency column with a min ratio with  \"string_to_match value\"\n",
    "def replace_matches_in_column(df, column, new_col_name, string_to_match, min_ratio):\n",
    "    # Get a list of unique strings\n",
    "    strings = df[column].unique()\n",
    "\n",
    "    # Get the top 10 closest matches to our input string\n",
    "    matches = fuzzywuzzy.process.extract(\n",
    "        string_to_match, strings, limit=10, scorer=fuzzywuzzy.fuzz.token_sort_ratio\n",
    "    )\n",
    "\n",
    "    # Only get matches with a  min ratio\n",
    "    close_matches = [matches[0] for matches in matches if matches[1] > min_ratio]\n",
    "\n",
    "    # Get the rows of all the close matches in our dataframe\n",
    "    rows_with_matches = df[column].isin(close_matches)\n",
    "\n",
    "    # replace all rows with close matches with the input matches\n",
    "    df.loc[rows_with_matches, new_col_name] = string_to_match"
   ]
  },
  {
   "cell_type": "code",
   "execution_count": 62,
   "id": "f51fea69-60b9-4599-b637-69acf0e76aa1",
   "metadata": {},
   "outputs": [],
   "source": [
    "# Create a list of all the TIRCP names \n",
    "# tircp_projects = tircp2.project_name.unique().tolist()"
   ]
  },
  {
   "cell_type": "code",
   "execution_count": 63,
   "id": "3db3e68b-022b-4f33-ac76-3ac7dca1ea69",
   "metadata": {},
   "outputs": [],
   "source": [
    "# atp_shopp_projects = atp_shopp_drmt.project_name.unique().tolist()"
   ]
  },
  {
   "cell_type": "code",
   "execution_count": 64,
   "id": "7a4526d9-62c4-4881-aaf5-fc2ecf94b964",
   "metadata": {},
   "outputs": [],
   "source": [
    "#for i in atp_shopp_projects:\n",
    "#    replace_matches_in_column(\n",
    "#        tircp2, \"project_name\", \"project_name_fuzzy_match\", i, 80\n",
    "#    )"
   ]
  },
  {
   "cell_type": "code",
   "execution_count": 65,
   "id": "a9884e76-7190-4cee-9cec-b7eee80c3541",
   "metadata": {
    "scrolled": true,
    "tags": []
   },
   "outputs": [],
   "source": [
    "# tircp2[[\"project_description\", \"project_description\",\"project_description_fuzzy_match\"]]"
   ]
  },
  {
   "cell_type": "code",
   "execution_count": 66,
   "id": "2d28b9a4-9b71-40f0-a9d3-82ce21c28d84",
   "metadata": {},
   "outputs": [],
   "source": [
    "# Merge on project names\n",
    "# test4 = pd.merge(atp_shopp_drmt, tircp2, how= \"outer\", left_on=[\"project_test\"], right_on = [\"project_name_fuzzy_match\"], indicator = True, suffixes = [\"_shopp\", \"_tircp\"] )"
   ]
  },
  {
   "cell_type": "code",
   "execution_count": 67,
   "id": "acc8ca9b-7107-4662-8e5d-d29a45e58028",
   "metadata": {},
   "outputs": [],
   "source": [
    "# test4._merge.value_counts()"
   ]
  },
  {
   "cell_type": "code",
   "execution_count": 68,
   "id": "13b5a594-6899-403f-a5f0-be142c494d4c",
   "metadata": {},
   "outputs": [],
   "source": [
    "# test4.loc[test4._merge == \"both\"][[\"district_shopp\",\"district_tircp\",\"project_name_tircp\",\"project_name_shopp\", \"project_description_shopp\", \"project_description_tircp\"]]"
   ]
  },
  {
   "cell_type": "markdown",
   "id": "5ca3979e-f827-4e8e-87ce-4ba9d8c5bdd5",
   "metadata": {},
   "source": [
    "### Concat\n",
    "* After only finding 2 projects that are already entered in, concat TIRCP information."
   ]
  },
  {
   "cell_type": "code",
   "execution_count": 69,
   "id": "e5d99b52-ad02-4f71-a0a0-19f0e96c8ce1",
   "metadata": {},
   "outputs": [],
   "source": [
    "# Drop columns\n",
    "tircp2 = tircp2.drop(columns = ['project_test', 'award_year'])"
   ]
  },
  {
   "cell_type": "code",
   "execution_count": 70,
   "id": "5d95657e-b8d6-4f1a-a325-c725e2d9dd9f",
   "metadata": {},
   "outputs": [],
   "source": [
    "# Add column for primary mode. \n",
    "tircp2[\"primary_mode\"] = \"Transit/Zev/Rail (Passenger)\" "
   ]
  },
  {
   "cell_type": "code",
   "execution_count": 71,
   "id": "3f3c562f-4131-4728-b53d-e82c0b80a888",
   "metadata": {},
   "outputs": [],
   "source": [
    "atp_drop = ['unnamed:_0','update_complete'] "
   ]
  },
  {
   "cell_type": "code",
   "execution_count": 72,
   "id": "3202dc48-927d-44ae-848e-57ed50a8fc74",
   "metadata": {},
   "outputs": [],
   "source": [
    "atp_shopp = atp_shopp.drop(columns = atp_drop)"
   ]
  },
  {
   "cell_type": "code",
   "execution_count": 73,
   "id": "69917da4-acf0-47bc-bb6e-0cc72701594e",
   "metadata": {},
   "outputs": [],
   "source": [
    "concat1 = pd.concat([atp_shopp, tircp2])"
   ]
  },
  {
   "cell_type": "code",
   "execution_count": 74,
   "id": "012bfea4-ecb2-437c-90c9-b786c896d16d",
   "metadata": {},
   "outputs": [],
   "source": [
    "# Fill NA based on dtypes\n",
    "concat1 = concat1.fillna(\n",
    "    concat1.dtypes.replace({\"float64\": 0.0, \"object\": \"None\"})\n",
    ")"
   ]
  },
  {
   "cell_type": "code",
   "execution_count": 75,
   "id": "1601987f-a5cd-4efb-a289-c7ed8ec67b94",
   "metadata": {},
   "outputs": [],
   "source": [
    "# concat1.info(verbose=True)"
   ]
  },
  {
   "cell_type": "code",
   "execution_count": 76,
   "id": "b19fbf47-b654-4a65-b312-7d2deb2c862e",
   "metadata": {
    "scrolled": true,
    "tags": []
   },
   "outputs": [],
   "source": [
    "# concat1.tail(1)"
   ]
  },
  {
   "cell_type": "markdown",
   "id": "3a1123e7-df58-40a9-8dc0-9977e05be171",
   "metadata": {
    "tags": []
   },
   "source": [
    "### Add Fake Values"
   ]
  },
  {
   "cell_type": "code",
   "execution_count": 77,
   "id": "463b63a9-b6c9-47c7-b360-efdd7b2d877e",
   "metadata": {},
   "outputs": [],
   "source": [
    "# https://stackoverflow.com/questions/64093880/how-to-create-random-floats-and-add-them-as-a-dataframe-column\n",
    "np.random.seed(365)"
   ]
  },
  {
   "cell_type": "code",
   "execution_count": 78,
   "id": "d0d9d487-0c50-40fd-9939-2fade126f157",
   "metadata": {},
   "outputs": [],
   "source": [
    "fake_columns = [\n",
    "    \"increase_peak_person_throughput\",\n",
    "    \"reduction_in_peak_period_delay\",\n",
    "    \"reduction_in_fatal_and_injury_crashes\",\n",
    "    \"reduction_in_injury_rates\",\n",
    "    \"increase_access_to_jobs\",\n",
    "    \"increase_access_jobs_to_DAC\",\n",
    "    \"commercial_dev_developed\",\n",
    "    \"tons_of_goods_impacted\",\n",
    "    \"improve_air_quality\",\n",
    "    \"impact_natural_resources\",\n",
    "    \"support_of_transportation\",\n",
    "]"
   ]
  },
  {
   "cell_type": "code",
   "execution_count": 79,
   "id": "daf39ccc-dff0-4e00-8396-11baaa609673",
   "metadata": {
    "scrolled": true,
    "tags": []
   },
   "outputs": [],
   "source": [
    "# Add fake metric columns: I want a random value between 0 to 50. \n",
    "for i in fake_columns:\n",
    "    concat1[i] = np.round(np.random.uniform(0.0, 50.0, size=(len(concat1), 1)), 2)"
   ]
  },
  {
   "cell_type": "markdown",
   "id": "781ab525-1756-47e8-ac90-4201d757f69e",
   "metadata": {
    "tags": []
   },
   "source": [
    "#### Create fake benefit score and ranks."
   ]
  },
  {
   "cell_type": "code",
   "execution_count": 80,
   "id": "b2afcb56-2a22-4134-bb7f-9619dee3b79b",
   "metadata": {},
   "outputs": [],
   "source": [
    "# Create the fake benefit score based off of Virginia DOT.\n",
    "concat1[\"fake_benefit_score\"] = ((concat1[fake_columns].sum(axis=1))/ \n",
    "                                             (concat1[\"total_unfunded_need__$1,000\"]).apply(pd.to_numeric, errors = 'coerce').fillna(0).sum()\n",
    ") * 1000000"
   ]
  },
  {
   "cell_type": "code",
   "execution_count": 81,
   "id": "e0d9eeb7-6c95-4c17-83d4-c8c83ae36740",
   "metadata": {
    "tags": []
   },
   "outputs": [],
   "source": [
    "# Create a fake statewide project rank\n",
    "concat1[\"statewide_rank\"] = concat1[\"fake_benefit_score\"].rank(\n",
    "    ascending=False\n",
    ")"
   ]
  },
  {
   "cell_type": "code",
   "execution_count": 82,
   "id": "bddf88d4-1f28-402f-b2e5-dc1e00d2b4e5",
   "metadata": {},
   "outputs": [],
   "source": [
    "# Create fake project rank by district\n",
    "concat1[\"district_rank\"] = concat1.groupby(\"district\")[\n",
    "    \"fake_benefit_score\"\n",
    "].rank(method=\"dense\", ascending=False)"
   ]
  },
  {
   "cell_type": "code",
   "execution_count": 83,
   "id": "1e5e936a-1995-4e5d-a640-d1f3fccb518a",
   "metadata": {},
   "outputs": [],
   "source": [
    "# Assign percentile of project among all projects in the state. \n",
    "concat1 = _utils.project_size_rating(concat1, 'statewide_rank', 'fake_benefit_score_statewide_percentile')"
   ]
  },
  {
   "cell_type": "code",
   "execution_count": 92,
   "id": "968df76b-7a4e-4919-8112-96579926ee12",
   "metadata": {
    "scrolled": true,
    "tags": []
   },
   "outputs": [],
   "source": [
    "# Make sure this makes sense\n",
    "# concat1[['district_rank','statewide_rank','fake_benefit_score','fake_benefit_score_statewide_percentile']].sort_values('fake_benefit_score', ascending= False)"
   ]
  },
  {
   "cell_type": "code",
   "execution_count": 85,
   "id": "c0f8d02a-b4f5-4dfd-be5e-b71091dbf413",
   "metadata": {},
   "outputs": [
    {
     "data": {
      "text/plain": [
       "120"
      ]
     },
     "execution_count": 85,
     "metadata": {},
     "output_type": "execute_result"
    }
   ],
   "source": [
    "# D4 only projects\n",
    "len(concat1.loc[concat1[\"district\"] == 4])"
   ]
  },
  {
   "cell_type": "code",
   "execution_count": 93,
   "id": "9570caef-7cbf-41fd-a6f2-7dbde15eefc7",
   "metadata": {},
   "outputs": [],
   "source": [
    "# list(concat1.columns)"
   ]
  },
  {
   "cell_type": "markdown",
   "id": "a6433819-50c3-449d-af72-3ccf0aa1a069",
   "metadata": {
    "tags": []
   },
   "source": [
    "#### Add median across districts\n",
    "Suggestion from Nick to add medians across the district. \n",
    "* Project cost\n",
    "* unfunded needs\n",
    "* benefit score"
   ]
  },
  {
   "cell_type": "code",
   "execution_count": 87,
   "id": "416b79a8-2d71-494b-9f18-0c50989f0e25",
   "metadata": {
    "scrolled": true,
    "tags": []
   },
   "outputs": [],
   "source": [
    "# Grab medians\n",
    "summary_district_state = (\n",
    "    concat1.groupby([\"district\"])\n",
    "    .agg(\n",
    "        {\n",
    "           'total_unfunded_need__$1,000': \"median\",\n",
    "            \"fake_benefit_score\": \"median\",\n",
    "            'total_project_cost__$1,000': \"median\",\n",
    "           'csis_total_score__out_of_45': \"median\",\n",
    "            'atp_total_score__out_of_100': \"median\"\n",
    "        }\n",
    "    )\n",
    "    .reset_index()\n",
    ")"
   ]
  },
  {
   "cell_type": "code",
   "execution_count": 88,
   "id": "2d2bbea0-6092-4cf1-944c-8bdebe2391b8",
   "metadata": {},
   "outputs": [],
   "source": [
    "# Add suffixes\n",
    "summary_district_state = summary_district_state.add_suffix(\"_district_median_\")"
   ]
  },
  {
   "cell_type": "code",
   "execution_count": 89,
   "id": "bd5eeab8-e023-443f-9559-f72c679a1225",
   "metadata": {},
   "outputs": [],
   "source": [
    "concat1 = pd.merge(\n",
    "    concat1,\n",
    "    summary_district_state,\n",
    "    left_on=\"district\",\n",
    "    right_on=\"district_district_median_\",\n",
    "    how=\"left\",\n",
    ")"
   ]
  },
  {
   "cell_type": "markdown",
   "id": "f83ccefa-fb21-49ca-9ff5-25c5826a5819",
   "metadata": {},
   "source": [
    "### Save and Clean Up"
   ]
  },
  {
   "cell_type": "code",
   "execution_count": 90,
   "id": "645d746d-6595-47c0-9271-0a51d925cfa8",
   "metadata": {},
   "outputs": [],
   "source": [
    "concat1 = _utils.clean_up_columns(concat1)"
   ]
  },
  {
   "cell_type": "code",
   "execution_count": 94,
   "id": "e29fc0fe-3bab-47d8-b626-6673c56360c4",
   "metadata": {},
   "outputs": [],
   "source": [
    "# concat1.sample()"
   ]
  }
 ],
 "metadata": {
  "kernelspec": {
   "display_name": "Python 3 (ipykernel)",
   "language": "python",
   "name": "python3"
  },
  "language_info": {
   "codemirror_mode": {
    "name": "ipython",
    "version": 3
   },
   "file_extension": ".py",
   "mimetype": "text/x-python",
   "name": "python",
   "nbconvert_exporter": "python",
   "pygments_lexer": "ipython3",
   "version": "3.9.13"
  }
 },
 "nbformat": 4,
 "nbformat_minor": 5
}
