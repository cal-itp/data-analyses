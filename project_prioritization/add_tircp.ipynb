{
 "cells": [
  {
   "cell_type": "markdown",
   "id": "cb6a1a41-5a4c-4178-8651-5cee12f3ec13",
   "metadata": {},
   "source": [
    "## Add TIRCP"
   ]
  },
  {
   "cell_type": "code",
   "execution_count": 1,
   "id": "c2bbe80b-66c4-44d6-9888-93b8ae4f8ab2",
   "metadata": {},
   "outputs": [
    {
     "name": "stderr",
     "output_type": "stream",
     "text": [
      "/opt/conda/lib/python3.9/site-packages/geopandas/_compat.py:123: UserWarning: The Shapely GEOS version (3.10.3-CAPI-1.16.1) is incompatible with the GEOS version PyGEOS was compiled with (3.10.1-CAPI-1.16.0). Conversions between both will be slow.\n"
     ]
    }
   ],
   "source": [
    "import numpy as np\n",
    "import pandas as pd\n",
    "from calitp.sql import to_snakecase\n",
    "import _utils"
   ]
  },
  {
   "cell_type": "code",
   "execution_count": 14,
   "id": "85238cd5-f743-480b-968e-c9b4dae07d66",
   "metadata": {},
   "outputs": [],
   "source": [
    "pd.options.display.max_columns = 100\n",
    "pd.set_option(\"display.max_rows\", None)\n",
    "pd.set_option(\"display.max_colwidth\", None)"
   ]
  },
  {
   "cell_type": "markdown",
   "id": "bf5d9247-a4cf-4a4d-9a14-8019b2183ba2",
   "metadata": {},
   "source": [
    "### ATP "
   ]
  },
  {
   "cell_type": "code",
   "execution_count": 3,
   "id": "fd66609e-464a-4bd0-b430-848e2dfcd895",
   "metadata": {},
   "outputs": [],
   "source": [
    "# Read in ATP-10 Year non SHOPP\n",
    "atp_shopp = to_snakecase(pd.read_excel(f\"{_utils.GCS_FILE_PATH}cleaned_data_with_fake_metrics_plus_atp.xlsx\"))"
   ]
  },
  {
   "cell_type": "code",
   "execution_count": 22,
   "id": "ce97edf3-0cb5-4008-8e18-287fe7bdc372",
   "metadata": {},
   "outputs": [],
   "source": [
    "# Subset\n",
    "atp_shopp_subset = ['ppno','project_name', 'lead_agency', 'previous_caltrans_nominations', 'county',\n",
    " 'district','project_description',\n",
    " 'current_phase','primary_mode','urban_rural', 'notes',]"
   ]
  },
  {
   "cell_type": "code",
   "execution_count": 23,
   "id": "cd738aa0-e3da-4aca-860e-d6eca9ce2226",
   "metadata": {},
   "outputs": [],
   "source": [
    "atp_shopp2 = atp_shopp[atp_shopp_subset]"
   ]
  },
  {
   "cell_type": "code",
   "execution_count": 36,
   "id": "72b8f0e8-574b-4ab3-8f01-98fb375d135c",
   "metadata": {},
   "outputs": [
    {
     "name": "stderr",
     "output_type": "stream",
     "text": [
      "/opt/conda/lib/python3.9/site-packages/pandas/core/generic.py:5516: SettingWithCopyWarning: \n",
      "A value is trying to be set on a copy of a slice from a DataFrame.\n",
      "Try using .loc[row_indexer,col_indexer] = value instead\n",
      "\n",
      "See the caveats in the documentation: https://pandas.pydata.org/pandas-docs/stable/user_guide/indexing.html#returning-a-view-versus-a-copy\n"
     ]
    }
   ],
   "source": [
    "# Lowercase previous caltrans nominations\n",
    "atp_shopp2.previous_caltrans_nominations = atp_shopp2.previous_caltrans_nominations.str.lower()"
   ]
  },
  {
   "cell_type": "code",
   "execution_count": 41,
   "id": "d6155648-fe73-4d3c-a4a7-c95f9d682410",
   "metadata": {
    "scrolled": true,
    "tags": []
   },
   "outputs": [],
   "source": [
    "# Find projects that have DRMT in previous caltrans nominations\n",
    "atp_shopp_drmt = (atp_shopp2[atp_shopp2[\"previous_caltrans_nominations\"].str.contains((\"tircp|drmt\"))]).reset_index(drop = True)"
   ]
  },
  {
   "cell_type": "code",
   "execution_count": 43,
   "id": "f7e5fa18-78f9-4e14-9a3a-127d7c79c8e5",
   "metadata": {
    "tags": []
   },
   "outputs": [
    {
     "data": {
      "text/plain": [
       "167"
      ]
     },
     "execution_count": 43,
     "metadata": {},
     "output_type": "execute_result"
    }
   ],
   "source": [
    "len(atp_shopp_drmt)"
   ]
  },
  {
   "cell_type": "code",
   "execution_count": 72,
   "id": "c3ed10ab-f087-41e7-bf00-d2f635f6fa86",
   "metadata": {
    "tags": []
   },
   "outputs": [
    {
     "data": {
      "text/plain": [
       "Index(['ppno', 'project_name', 'lead_agency', 'previous_caltrans_nominations',\n",
       "       'county', 'district', 'project_description', 'current_phase',\n",
       "       'primary_mode', 'urban_rural', 'notes'],\n",
       "      dtype='object')"
      ]
     },
     "execution_count": 72,
     "metadata": {},
     "output_type": "execute_result"
    }
   ],
   "source": [
    "atp_shopp_drmt.columns"
   ]
  },
  {
   "cell_type": "markdown",
   "id": "96241d8e-fa10-4c07-9159-a1d41b80fdb5",
   "metadata": {},
   "source": [
    "### TIRCP "
   ]
  },
  {
   "cell_type": "code",
   "execution_count": 57,
   "id": "b58732d7-ca56-46ed-b7d1-0d41b4d9ff84",
   "metadata": {},
   "outputs": [],
   "source": [
    "# Read in TIRCP. Last updated December 2022\n",
    "tircp = to_snakecase(pd.read_excel(\"gs://calitp-analytics-data/data-analyses/tircp/Tableau_Workbook.xlsx\"))"
   ]
  },
  {
   "cell_type": "code",
   "execution_count": 58,
   "id": "d9f48b3b-2a22-4108-a525-3eb2fcbf6f1f",
   "metadata": {},
   "outputs": [],
   "source": [
    "# Subset TIRCP with only the basic information\n",
    "tircp_subset = ['award_year','grant_recipient', 'title', 'ppno', 'district',\n",
    "       'county', 'description','total__cost', 'tircp',\n",
    "       'allocated_amount', 'unallocated_amount',\n",
    "       'expended_amount', 'award_cycle','on_shs?']"
   ]
  },
  {
   "cell_type": "code",
   "execution_count": 59,
   "id": "d772cd9a-c59f-4d37-920c-2ad1f7f64265",
   "metadata": {},
   "outputs": [],
   "source": [
    "tircp = tircp[tircp_subset]"
   ]
  },
  {
   "cell_type": "code",
   "execution_count": 60,
   "id": "5782e128-b6f7-451f-8cad-af9c0115e98c",
   "metadata": {},
   "outputs": [],
   "source": [
    "# Create a column with cycle + tircp\n",
    "tircp['award_cycle'] = 'TIRCP' + ' Cycle ' + tircp['award_cycle'].astype('str') "
   ]
  },
  {
   "cell_type": "code",
   "execution_count": 61,
   "id": "9910645c-7b2a-4d6d-9dac-a1113786ffca",
   "metadata": {},
   "outputs": [],
   "source": [
    "# Perhaps to narrow down projects\n",
    "# Figure out which TIRCP projects' total cost are completely covered by \n",
    "# TIRCP requested\n",
    "tircp['total_cost_vs_tircp_req'] = tircp.total__cost/tircp.tircp"
   ]
  },
  {
   "cell_type": "code",
   "execution_count": 62,
   "id": "7eb933ed-977f-430d-88c3-6d46293403d6",
   "metadata": {},
   "outputs": [],
   "source": [
    "# Maybe filter these out\n",
    "tircp = (tircp.loc[tircp.total_cost_vs_tircp_req != 1]).reset_index(drop = True)"
   ]
  },
  {
   "cell_type": "code",
   "execution_count": 63,
   "id": "206297b2-cdc8-446d-8f7c-3407105fab95",
   "metadata": {},
   "outputs": [
    {
     "data": {
      "text/plain": [
       "(93, 15)"
      ]
     },
     "execution_count": 63,
     "metadata": {},
     "output_type": "execute_result"
    }
   ],
   "source": [
    "tircp.shape"
   ]
  },
  {
   "cell_type": "markdown",
   "id": "10545df1-b64f-47a4-a510-561b77b53104",
   "metadata": {},
   "source": [
    "### Try to match"
   ]
  },
  {
   "cell_type": "code",
   "execution_count": 65,
   "id": "6a609e26-856b-47af-997e-0d92e6ccb43b",
   "metadata": {},
   "outputs": [],
   "source": [
    "# Function to clean agency/organization names\n",
    "def organization_cleaning(df, column_wanted: str):\n",
    "    df[column_wanted] = (\n",
    "        df[column_wanted]\n",
    "        .str.strip()\n",
    "        .str.split(\",\")\n",
    "        .str[0]\n",
    "        .str.replace(\"/\", \"\")\n",
    "        .str.split(\"(\")\n",
    "        .str[0]\n",
    "        .str.split(\"/\")\n",
    "        .str[0]\n",
    "        .str.title()\n",
    "        .str.replace(\"Trasit\", \"Transit\")\n",
    "        .str.strip()  # strip again after getting rid of certain things\n",
    "    )\n",
    "    return df"
   ]
  },
  {
   "cell_type": "code",
   "execution_count": 66,
   "id": "29ad740e-f792-4e28-9406-bf5512590c45",
   "metadata": {},
   "outputs": [],
   "source": [
    "tircp = organization_cleaning(tircp, \"grant_recipient\")"
   ]
  },
  {
   "cell_type": "code",
   "execution_count": 67,
   "id": "861271c5-7843-4f05-85b9-bc7b6f384c33",
   "metadata": {},
   "outputs": [],
   "source": [
    "atp_shopp_drmt = organization_cleaning(atp_shopp_drmt, \"lead_agency\")"
   ]
  },
  {
   "cell_type": "code",
   "execution_count": 75,
   "id": "f52459dd-1330-4e13-8fcc-3454f6ad164e",
   "metadata": {},
   "outputs": [],
   "source": [
    "# Merge on titles\n",
    "m1 = pd.merge(tircp, atp_shopp_drmt, how=\"outer\", left_on=[\"title\"], right_on=[\"project_name\"], indicator = True)"
   ]
  },
  {
   "cell_type": "code",
   "execution_count": 76,
   "id": "b87665dc-aa23-4acb-a72b-ba4f193e8265",
   "metadata": {},
   "outputs": [
    {
     "data": {
      "text/plain": [
       "right_only    167\n",
       "left_only      93\n",
       "both            0\n",
       "Name: _merge, dtype: int64"
      ]
     },
     "execution_count": 76,
     "metadata": {},
     "output_type": "execute_result"
    }
   ],
   "source": [
    "m1._merge.value_counts()"
   ]
  }
 ],
 "metadata": {
  "kernelspec": {
   "display_name": "Python 3 (ipykernel)",
   "language": "python",
   "name": "python3"
  },
  "language_info": {
   "codemirror_mode": {
    "name": "ipython",
    "version": 3
   },
   "file_extension": ".py",
   "mimetype": "text/x-python",
   "name": "python",
   "nbconvert_exporter": "python",
   "pygments_lexer": "ipython3",
   "version": "3.9.13"
  }
 },
 "nbformat": 4,
 "nbformat_minor": 5
}
