{
 "cells": [
  {
   "cell_type": "markdown",
   "id": "c97654de-9428-4e4b-9ae9-323e8469a52a",
   "metadata": {},
   "source": [
    "# 10 Year Non Shopp Data\n",
    "* Generating fake data.\n",
    "* Initial exploration.\n",
    "* [Using Smart Sheet.](https://app.smartsheet.com/workspaces/8MgpHcXR4GJVM5GvWWMmQg7M8gqhJj88Gfh54Pr1)"
   ]
  },
  {
   "cell_type": "code",
   "execution_count": 1,
   "id": "961bd8c3-fc92-4a72-a106-bb542fdf4e87",
   "metadata": {},
   "outputs": [
    {
     "name": "stderr",
     "output_type": "stream",
     "text": [
      "/opt/conda/lib/python3.10/site-packages/geopandas/_compat.py:123: UserWarning: The Shapely GEOS version (3.10.3-CAPI-1.16.1) is incompatible with the GEOS version PyGEOS was compiled with (3.10.1-CAPI-1.16.0). Conversions between both will be slow.\n"
     ]
    }
   ],
   "source": [
    "import numpy as np\n",
    "import pandas as pd\n",
    "from babel.numbers import format_currency\n",
    "from calitp import *\n",
    "from shared_utils import portfolio_utils"
   ]
  },
  {
   "cell_type": "code",
   "execution_count": 2,
   "id": "9057dd1d-8c22-42bf-a2fd-6cfae1710ee4",
   "metadata": {},
   "outputs": [],
   "source": [
    "pd.options.display.max_columns = 100\n",
    "pd.set_option(\"display.max_rows\", None)\n",
    "pd.set_option(\"display.max_colwidth\", None)"
   ]
  },
  {
   "cell_type": "code",
   "execution_count": 3,
   "id": "f31abc44-d445-44b6-a04b-5d9a3cfb2eab",
   "metadata": {},
   "outputs": [],
   "source": [
    "import _utils"
   ]
  },
  {
   "cell_type": "code",
   "execution_count": 4,
   "id": "ec08614f-a868-48ea-9106-dd02ac2906fd",
   "metadata": {},
   "outputs": [],
   "source": [
    "GCS_FILE_PATH = \"gs://calitp-analytics-data/data-analyses/project_prioritization/\""
   ]
  },
  {
   "cell_type": "code",
   "execution_count": 5,
   "id": "6847a64e-af90-41ef-ba56-096851faa798",
   "metadata": {},
   "outputs": [
    {
     "name": "stderr",
     "output_type": "stream",
     "text": [
      "/opt/conda/lib/python3.10/site-packages/openpyxl/styles/stylesheet.py:226: UserWarning: Workbook contains no default style, apply openpyxl's default\n"
     ]
    }
   ],
   "source": [
    "# Open first sheet.\n",
    "df_investment_plan = to_snakecase(\n",
    "    pd.read_excel(f\"{GCS_FILE_PATH}10 Year Non-SHOPP Investment Plan Project List 11-7-22.xlsx\")\n",
    ")"
   ]
  },
  {
   "cell_type": "markdown",
   "id": "007a66e8-9d05-4156-9ecc-6a17d0603ac9",
   "metadata": {},
   "source": [
    "### Cleaning"
   ]
  },
  {
   "cell_type": "code",
   "execution_count": 6,
   "id": "4b7d4d5e-a9d0-44ed-95b8-95a3cd005de8",
   "metadata": {},
   "outputs": [],
   "source": [
    "# Clean up monetary columns, clean up some of the values. \n",
    "df_investment_plan[\"total_project_cost__$1,000_\"] = df_investment_plan[\n",
    "    \"total_project_cost__$1,000_\"\n",
    "].replace(\n",
    "    {\n",
    "        \"Phase 1 (SR-60 to Mission Blvd) - $174,000\\nPhase 2 (Mission Blvd to I-10) - $170,000\": 344000,\n",
    "        \"$85,738 (Cycle 2)\": 85738,\n",
    "        \"Oxnard to Camarillo 2nd Main Track: $15,000\\nOxnard Station North Platform: $20,000\": 35000,\n",
    "        \"$214,000\\nPhase 1: $82,000\\nPhase 2: $132,000\": 214000,\n",
    "        \"$-\": 0,\n",
    "        \"TBD\": 0,\n",
    "    }\n",
    ")"
   ]
  },
  {
   "cell_type": "code",
   "execution_count": 7,
   "id": "81573a9b-5327-4329-8711-729a5bccc00a",
   "metadata": {},
   "outputs": [],
   "source": [
    "# Fill in total project cost with fake number and cast to float64\n",
    "#df_investment_plan[\"total_project_cost__$1,000_\"] = (\n",
    "    #df_investment_plan[\"total_project_cost__$1,000_\"].astype(\"float64\").fillna(888888.0)\n",
    "#)"
   ]
  },
  {
   "cell_type": "code",
   "execution_count": 8,
   "id": "25401eb4-7bde-40c6-b7d6-0ad29101642a",
   "metadata": {},
   "outputs": [],
   "source": [
    "# Coerce dates to right format\n",
    "date_cols = [\n",
    "    \"pid_approval_date\",\n",
    "    \"rtl_date\",\n",
    "    \"con_start_date\",\n",
    "]\n",
    "for c in date_cols:\n",
    "    df_investment_plan[c] = df_investment_plan[c].apply(pd.to_datetime, errors=\"coerce\")"
   ]
  },
  {
   "cell_type": "code",
   "execution_count": 9,
   "id": "49ef853e-ff0b-4f76-828e-ab2937f8374c",
   "metadata": {},
   "outputs": [],
   "source": [
    "# Fill na based on dtypes\n",
    "df_investment_plan = df_investment_plan.fillna(\n",
    "    df_investment_plan.dtypes.replace({\"float64\": 0.0, \"object\": \"None\"})\n",
    ")"
   ]
  },
  {
   "cell_type": "code",
   "execution_count": 10,
   "id": "337544b0-ac42-434d-9ea8-1c39b9ffd492",
   "metadata": {},
   "outputs": [],
   "source": [
    "# Titlecase string columns\n",
    "string_cols = [\n",
    "    \"route\",\n",
    "    \"potential_funding_program_s_\",\n",
    "    \"lead_agency\",\n",
    "    \"primary_mode\",\n",
    "    \"urban_rural\",\n",
    "    \"current_phase\",\n",
    "    \"project_name\",\n",
    "    \"potential_funding_program_s_\",\n",
    "]"
   ]
  },
  {
   "cell_type": "code",
   "execution_count": 11,
   "id": "10eee598-5957-4996-9e1d-edb2ad957f62",
   "metadata": {},
   "outputs": [],
   "source": [
    "for c in string_cols:\n",
    "    df_investment_plan[c] = df_investment_plan[c].str.title().str.strip()"
   ]
  },
  {
   "cell_type": "code",
   "execution_count": 12,
   "id": "b700754a-22e9-408b-955e-ac09f1272e68",
   "metadata": {},
   "outputs": [],
   "source": [
    "# Correct some curent phase values that read in weirdly\n",
    "df_investment_plan[\"current_phase\"] = df_investment_plan[\"current_phase\"].replace(\n",
    "    {\n",
    "        \"ps&e\\nr/w\": \"ps&e\",\n",
    "        \"other\\nplan/concept\": \"other\\plan\\concept\",\n",
    "        \"pid\\nplan/concept\": \"pid\\plan\\concept\",\n",
    "        \"ps&e\\nrow\": \"ps&e\\row\",\n",
    "    }\n",
    ")"
   ]
  },
  {
   "cell_type": "code",
   "execution_count": 13,
   "id": "95cde04f-8358-40f7-abd8-73d3676093c1",
   "metadata": {},
   "outputs": [],
   "source": [
    "# Upper case phases & counties\n",
    "uppercase_cols = [\"current_phase\", \"county\"]\n",
    "for c in uppercase_cols:\n",
    "    df_investment_plan[c] = df_investment_plan[c].str.upper().str.strip()"
   ]
  },
  {
   "cell_type": "code",
   "execution_count": 14,
   "id": "eda335e0-7ac2-4c3d-b67a-68a359f55d8b",
   "metadata": {},
   "outputs": [],
   "source": [
    "# Clean up counties\n",
    "def count_by_commas(df, col_to_count: str, new_col_name:str): \n",
    "    df[new_col_name] = (\n",
    "    df[col_to_count]\n",
    "    .apply(lambda x: len(x.split(\",\")))\n",
    "    .astype(\"int64\")) \n",
    "    return df "
   ]
  },
  {
   "cell_type": "code",
   "execution_count": 15,
   "id": "d7c99b17-f684-43ba-a53e-3be866cf7087",
   "metadata": {},
   "outputs": [],
   "source": [
    "# Count number of counties this project crosses multiple counties.\n",
    "df_investment_plan = count_by_commas(df_investment_plan, 'county','number_of_counties')"
   ]
  },
  {
   "cell_type": "code",
   "execution_count": 16,
   "id": "38cc32eb-86df-42ea-bd0c-e20864810acf",
   "metadata": {},
   "outputs": [],
   "source": [
    "# New column that summarizes whether a project is in one or more counties\n",
    "def various_counties(row):\n",
    "    if row[\"number_of_counties\"] == 1:\n",
    "        return \"One County\"\n",
    "    else:\n",
    "        return \"Multiple Counties\""
   ]
  },
  {
   "cell_type": "code",
   "execution_count": 17,
   "id": "4d4b6fb8-3e60-46be-94e3-c24378e446ed",
   "metadata": {},
   "outputs": [],
   "source": [
    "df_investment_plan['various_or_single_county'] = df_investment_plan.apply(lambda x: various_counties(x), axis=1)"
   ]
  },
  {
   "cell_type": "markdown",
   "id": "dd995978-ac23-4b7b-bec9-50184302b3d6",
   "metadata": {
    "tags": []
   },
   "source": [
    "### Correct Projects that are in the wrong district"
   ]
  },
  {
   "cell_type": "code",
   "execution_count": 18,
   "id": "546b0bef-93fa-4a1c-a7b0-67a17c59df21",
   "metadata": {},
   "outputs": [],
   "source": [
    "df_investment_plan.loc[(df_investment_plan[\"project_name\"] == \"Polb Terminal Island Wye Track Realignment\"), \"district\"] = \"7\""
   ]
  },
  {
   "cell_type": "code",
   "execution_count": 19,
   "id": "a6a4eca5-dad4-4c35-804f-b3386fa44b0f",
   "metadata": {},
   "outputs": [],
   "source": [
    "df_investment_plan.loc[(df_investment_plan[\"project_name\"] == 'Sr 58 Truck Climbing Lanes Segment 2'), \"district\"] = \"6\"\n",
    "df_investment_plan.loc[(df_investment_plan[\"project_name\"] == 'Mojave To Boron Freeway'), \"district\"] = \"6\"\n",
    "df_investment_plan.loc[(df_investment_plan[\"project_name\"] == 'Sr 58/California City Blvd. Extension'), \"district\"] = \"6\""
   ]
  },
  {
   "cell_type": "code",
   "execution_count": 20,
   "id": "bbe94eca-2f2a-479a-be4a-e37afb6a0138",
   "metadata": {
    "scrolled": true,
    "tags": []
   },
   "outputs": [],
   "source": [
    "#df_investment_plan.groupby(['county', 'district']).agg({'ppno':'nunique'})"
   ]
  },
  {
   "cell_type": "markdown",
   "id": "48d660ae-6408-4803-a283-16c4f8c06521",
   "metadata": {
    "tags": []
   },
   "source": [
    "### Duplicated PPNO?"
   ]
  },
  {
   "cell_type": "code",
   "execution_count": 21,
   "id": "8b092fc6-457e-4cda-b9fe-c47852c54a72",
   "metadata": {},
   "outputs": [
    {
     "name": "stdout",
     "output_type": "stream",
     "text": [
      "ppno : 204\n",
      "ct_project_id : 300\n",
      "project_name : 742\n"
     ]
    }
   ],
   "source": [
    "# Check that each row represents a different project\n",
    "# PPNO and Project ID have a lot less unique value b/c 70% and 56% of each col are not filled in\n",
    "for i in [\"ppno\", \"ct_project_id\", \"project_name\"]:\n",
    "    print(f\"{i} : {df_investment_plan[i].nunique()}\")"
   ]
  },
  {
   "cell_type": "code",
   "execution_count": 22,
   "id": "be2a2837-d30a-43cb-86e7-b37b3d0a458d",
   "metadata": {},
   "outputs": [
    {
     "data": {
      "text/plain": [
       "Delano To Pixely 6-Lane                                                       2\n",
       "Crescent City Ada                                                             1\n",
       "Rte 55 Btw Sr 73 And I-5, Managed Lanes Project                               1\n",
       "Reconnecting Grand Avenue \"Complete Streets To Transit\" And Safety Project    1\n",
       "I-5 Btw Rte 73 And Sd Co, Managed Lanes Project                               1\n",
       "Name: project_name, dtype: int64"
      ]
     },
     "execution_count": 22,
     "metadata": {},
     "output_type": "execute_result"
    }
   ],
   "source": [
    "# One project is included twice\n",
    "df_investment_plan[\"project_name\"].value_counts().head()"
   ]
  },
  {
   "cell_type": "code",
   "execution_count": 23,
   "id": "84f52222-6fd0-4fb5-9169-d5e2fc5a75f6",
   "metadata": {
    "scrolled": true,
    "tags": []
   },
   "outputs": [],
   "source": [
    "# Check and make sure there aren't duplicate PPNO-Project Name combos\n",
    "duplicate_ppno = (\n",
    "    df_investment_plan[~df_investment_plan[\"ppno\"].isin([0, \"None\"])]\n",
    "    .groupby(\"ppno\")\n",
    "    .agg({\"project_name\": \"count\"})\n",
    "    .sort_values(\"project_name\")\n",
    "    .reset_index()\n",
    ")"
   ]
  },
  {
   "cell_type": "code",
   "execution_count": 24,
   "id": "3b0568a2-a2c1-4338-8871-daff1c6ee7d0",
   "metadata": {},
   "outputs": [],
   "source": [
    "# Filter out for ppno with more than 2 project names.\n",
    "# Save those projects into a list\n",
    "duplicate_ppno = duplicate_ppno[duplicate_ppno[\"project_name\"] > 1]"
   ]
  },
  {
   "cell_type": "code",
   "execution_count": 25,
   "id": "8b3e96ab-afc5-4e61-bb77-7921cea45151",
   "metadata": {},
   "outputs": [],
   "source": [
    "duplicate_ppno_list = duplicate_ppno[\"ppno\"].to_list()"
   ]
  },
  {
   "cell_type": "code",
   "execution_count": 26,
   "id": "5a136870-aac2-45d4-a5dd-0fee8637afb9",
   "metadata": {
    "tags": []
   },
   "outputs": [
    {
     "data": {
      "text/plain": [
       "24"
      ]
     },
     "execution_count": 26,
     "metadata": {},
     "output_type": "execute_result"
    }
   ],
   "source": [
    "# Check out these rows in our df\n",
    "# are these duplicates?\n",
    "len(df_investment_plan[df_investment_plan[\"ppno\"].isin(duplicate_ppno_list)])"
   ]
  },
  {
   "cell_type": "code",
   "execution_count": 27,
   "id": "acb4c8e3-9d2d-4339-a92a-fea03c8b1fdd",
   "metadata": {
    "scrolled": true,
    "tags": []
   },
   "outputs": [],
   "source": [
    "duplicate_projects_df = df_investment_plan[\n",
    "    df_investment_plan[\"ppno\"].isin(duplicate_ppno_list)\n",
    "]"
   ]
  },
  {
   "cell_type": "code",
   "execution_count": 28,
   "id": "8ba62f22-f419-4ee0-a573-2a215a0a1aa2",
   "metadata": {
    "scrolled": true,
    "tags": []
   },
   "outputs": [
    {
     "data": {
      "text/html": [
       "<div>\n",
       "<style scoped>\n",
       "    .dataframe tbody tr th:only-of-type {\n",
       "        vertical-align: middle;\n",
       "    }\n",
       "\n",
       "    .dataframe tbody tr th {\n",
       "        vertical-align: top;\n",
       "    }\n",
       "\n",
       "    .dataframe thead th {\n",
       "        text-align: right;\n",
       "    }\n",
       "</style>\n",
       "<table border=\"1\" class=\"dataframe\">\n",
       "  <thead>\n",
       "    <tr style=\"text-align: right;\">\n",
       "      <th></th>\n",
       "      <th>ppno</th>\n",
       "      <th>project_name</th>\n",
       "      <th>current_phase</th>\n",
       "      <th>ea</th>\n",
       "      <th>project_description</th>\n",
       "    </tr>\n",
       "  </thead>\n",
       "  <tbody>\n",
       "    <tr>\n",
       "      <th>184</th>\n",
       "      <td>7036</td>\n",
       "      <td>180 West Extension</td>\n",
       "      <td>PID</td>\n",
       "      <td>0Y230</td>\n",
       "      <td>Construct highway</td>\n",
       "    </tr>\n",
       "    <tr>\n",
       "      <th>233</th>\n",
       "      <td>6421</td>\n",
       "      <td>Caldwell I/C</td>\n",
       "      <td>PS&amp;E\\nR/W</td>\n",
       "      <td>48740</td>\n",
       "      <td>Reconstruct interchange</td>\n",
       "    </tr>\n",
       "    <tr>\n",
       "      <th>244</th>\n",
       "      <td>6421</td>\n",
       "      <td>Caldwell Interchange</td>\n",
       "      <td>PS&amp;E</td>\n",
       "      <td>48740</td>\n",
       "      <td>In Tulare County, from 0.6 mile south of the Avenue 280 (Caldwell Ave) Interchange to 0.7 mile north of the Ave 280 (Caldwell Ave) Interchange, reconstruct interchange.</td>\n",
       "    </tr>\n",
       "    <tr>\n",
       "      <th>220</th>\n",
       "      <td>6642</td>\n",
       "      <td>Chowchilla 99/233 I/C</td>\n",
       "      <td>PA&amp;ED</td>\n",
       "      <td>0P910</td>\n",
       "      <td>Reconstruct interchange</td>\n",
       "    </tr>\n",
       "    <tr>\n",
       "      <th>245</th>\n",
       "      <td>6940</td>\n",
       "      <td>Commercial Ave Interchange</td>\n",
       "      <td>PS&amp;E</td>\n",
       "      <td>0U880</td>\n",
       "      <td>In Tulare County near the City of Tulare at Commercial Avenue and State Route 99 between 0.9 mile north of Avenue 200 OC and Paige Avenue OC; Construct new interchange and construct north and south bound auxiliary lanes</td>\n",
       "    </tr>\n",
       "    <tr>\n",
       "      <th>193</th>\n",
       "      <td>6694</td>\n",
       "      <td>Grapevine I/C</td>\n",
       "      <td>PA&amp;ED</td>\n",
       "      <td>0R100</td>\n",
       "      <td>Relocate I/C</td>\n",
       "    </tr>\n",
       "    <tr>\n",
       "      <th>203</th>\n",
       "      <td>6694</td>\n",
       "      <td>Grapevine Interchange</td>\n",
       "      <td>NONE</td>\n",
       "      <td>0R100</td>\n",
       "      <td>In Kern County, near Grapevine from 0.7 mile south of the Grapevine UC to 0.5 mile south of the California Aqueduct, relocate interchange.\\nThis project is mitigation to the Grapevine Specific and Community Plan EIR.</td>\n",
       "    </tr>\n",
       "    <tr>\n",
       "      <th>232</th>\n",
       "      <td>6940</td>\n",
       "      <td>International Agri-Center Way Interchange</td>\n",
       "      <td>PS&amp;E\\nR/W</td>\n",
       "      <td>0U880</td>\n",
       "      <td>Construct interchange</td>\n",
       "    </tr>\n",
       "    <tr>\n",
       "      <th>241</th>\n",
       "      <td>0104</td>\n",
       "      <td>Lindsay And Route 198/245 Operational Improvements</td>\n",
       "      <td>NONE</td>\n",
       "      <td>43080</td>\n",
       "      <td>Near Lindsay at various locations from Avenue 224 (Lindmore Street) to west of Cedar Ave and on Route 198 at the SR 245 (Spruce Ave) junction, realignment and operational improvements. This project is not truly capacity increasing. The short amount of new pavement creates a shortcut bypassing local intersections. The project is not likely to induce additional demand. The additional expressway construction has been removed from the project.</td>\n",
       "    </tr>\n",
       "    <tr>\n",
       "      <th>229</th>\n",
       "      <td>0104</td>\n",
       "      <td>Lindsay And Rte 198/245 Operational Improvements</td>\n",
       "      <td>PA&amp;ED</td>\n",
       "      <td>43080</td>\n",
       "      <td>Construct 4E along a 2-lane county road</td>\n",
       "    </tr>\n",
       "    <tr>\n",
       "      <th>226</th>\n",
       "      <td>7004</td>\n",
       "      <td>North 99 Madera Widening</td>\n",
       "      <td>NONE</td>\n",
       "      <td>0Y360</td>\n",
       "      <td>In Madera County, from 0.5 mile north of the Avenue 17 Overcrossing to 1.0 mile south of the Ave 21 1/2 OC, 4F to 6F. This project will eliminate a 5 mile bottleneck between the City of Madera and a 6-lane SR 99 facility south of SR 152. The project will improve interregional goods movement and passenger travel, and reduce severe accident rates along State Route 99 by median widening from 4 to 6 lanes. It will also upgrade Caltrans assets such as drainage systems and median barrier.</td>\n",
       "    </tr>\n",
       "    <tr>\n",
       "      <th>219</th>\n",
       "      <td>7004</td>\n",
       "      <td>North Madera 99 Widening</td>\n",
       "      <td>PID</td>\n",
       "      <td>0Y360</td>\n",
       "      <td>Widen freeway from 4 to 6 lanes</td>\n",
       "    </tr>\n",
       "    <tr>\n",
       "      <th>178</th>\n",
       "      <td>6288</td>\n",
       "      <td>South Fresno I/C Project</td>\n",
       "      <td>PA&amp;ED</td>\n",
       "      <td>0H240</td>\n",
       "      <td>Modify interchanges</td>\n",
       "    </tr>\n",
       "    <tr>\n",
       "      <th>189</th>\n",
       "      <td>6288</td>\n",
       "      <td>South Fresno State Route 99 Corridor Project</td>\n",
       "      <td>PA&amp;ED</td>\n",
       "      <td>0H240</td>\n",
       "      <td>In Fresno County, in and near Fresno, from 0.4 mile south of American Avenue to 0.4 mile north of North Avenue. Modify interchanges.</td>\n",
       "    </tr>\n",
       "    <tr>\n",
       "      <th>182</th>\n",
       "      <td>7036</td>\n",
       "      <td>Sr 180 West Extension</td>\n",
       "      <td>CANDIDATE</td>\n",
       "      <td>0Y230</td>\n",
       "      <td>In Fresno County, near Mendota from I-5 to Route 33, construct 2-lane conventional highway on new alignment. This project would propose to construct new alignments and covert existing County roadways to a State Route.</td>\n",
       "    </tr>\n",
       "    <tr>\n",
       "      <th>225</th>\n",
       "      <td>6642</td>\n",
       "      <td>Sr 233 Chowchilla Interchange Improvement\\nMad 99/233 Chowchilla Interchange Improvement</td>\n",
       "      <td>PA&amp;ED</td>\n",
       "      <td>0P910</td>\n",
       "      <td>At the SR 99/233 Separation in Madera County, from 2.6 miles north of the Avenue 24 Overcrossing to 1.3 miles south of the Le Grande Ave OC.  This project proposes to provide multimodal accessibility/connectivity by providing safe bicycle and pedestrian access through the SR 99/233 interchange.  This project will also improve operations at the interchange, improving access to local businesses and services.</td>\n",
       "    </tr>\n",
       "    <tr>\n",
       "      <th>194</th>\n",
       "      <td>3386E</td>\n",
       "      <td>Sr 46 Gap Closure Segment 4C</td>\n",
       "      <td>PS&amp;E/ROW</td>\n",
       "      <td>44256</td>\n",
       "      <td>From Brown Material Rd to Farnsworth Ave, 2C to 4E</td>\n",
       "    </tr>\n",
       "    <tr>\n",
       "      <th>430</th>\n",
       "      <td>3162A</td>\n",
       "      <td>Sr 99/120 Connector Phase 1A</td>\n",
       "      <td>PS&amp;E</td>\n",
       "      <td>1M290</td>\n",
       "      <td>In San Joaquin County, in and near the City of Manteca widen eastbound SR120 to southbound SR99 connector ramp</td>\n",
       "    </tr>\n",
       "    <tr>\n",
       "      <th>206</th>\n",
       "      <td>3386E</td>\n",
       "      <td>Sr-46 Expressway - Segment 4C (Kern)\\nSr 46 Gap Closure Segment 4C</td>\n",
       "      <td>CON</td>\n",
       "      <td>44256</td>\n",
       "      <td>44256 In and near Lost Hills, from 1 mile west of Browns Material Road to California Aquaduct.  Convert from 2-lane conventional highway to 4-lane expressway.\\n\\nFrom Brown Material Road to Farnsworth Avenue, convert 2-lane conventional highway to a 4-lane expressway. Possibly drop if it is fully funded.</td>\n",
       "    </tr>\n",
       "    <tr>\n",
       "      <th>242</th>\n",
       "      <td>6369</td>\n",
       "      <td>State Route 99 Tulare City Widening Project (Tulare Six-Lane And Paige Avenue Interchange Improvements</td>\n",
       "      <td>PA&amp;ED</td>\n",
       "      <td>48950</td>\n",
       "      <td>The project would add a lane in each direction to the freeway median to convert the existing 4-lane facility to a 6-lane freeway. The goal is to mitigate congestion.</td>\n",
       "    </tr>\n",
       "    <tr>\n",
       "      <th>433</th>\n",
       "      <td>3162A</td>\n",
       "      <td>State Route 99/State Route 120 Interchange Connector Project</td>\n",
       "      <td>PS&amp;E</td>\n",
       "      <td>Before Phases: 1E740\\nPhase 1A: 1M290\\nPhase 1B: 1M300</td>\n",
       "      <td>The project would implement realignments, widenings, and reconstructions of bridges, on-ramps, and off-ramps to improve circulation at an interchange.</td>\n",
       "    </tr>\n",
       "    <tr>\n",
       "      <th>231</th>\n",
       "      <td>6369</td>\n",
       "      <td>Tulare Six-Lane And Paige Avenue Interchange Improvement Project</td>\n",
       "      <td>PA&amp;ED</td>\n",
       "      <td>48950</td>\n",
       "      <td>4F to 6F</td>\n",
       "    </tr>\n",
       "    <tr>\n",
       "      <th>159</th>\n",
       "      <td>2830</td>\n",
       "      <td>Us 101 Avila Beach Dr. Interchange</td>\n",
       "      <td>PS&amp;E</td>\n",
       "      <td>1G480</td>\n",
       "      <td>Construct operational improvements and a park-and-ride lot.  A roundabout is proposed to be constructed at the intersection of the US 101 southbound ramps, Avila Beach Dr., and Shell Beach Rd. Operational and-or additional safety enhancements will be considered for the US 101 northbound ramps-Monte Rd. intersection.</td>\n",
       "    </tr>\n",
       "    <tr>\n",
       "      <th>162</th>\n",
       "      <td>2830</td>\n",
       "      <td>Us 101/ Avila Beach Rd I/C Improvement And Park-And-Ride Lot</td>\n",
       "      <td>PS&amp;E\\nR/W</td>\n",
       "      <td>1G480</td>\n",
       "      <td>Interchange operational improvements for US 101 SB ramps  at Avila Beach Dr. at Shell Beach Rd. Construct Park-and-Ride Lot at southwest corner of Avila Beach Dr. and Shell Beach Rd near Pismo Beach</td>\n",
       "    </tr>\n",
       "  </tbody>\n",
       "</table>\n",
       "</div>"
      ],
      "text/plain": [
       "      ppno  \\\n",
       "184   7036   \n",
       "233   6421   \n",
       "244   6421   \n",
       "220   6642   \n",
       "245   6940   \n",
       "193   6694   \n",
       "203   6694   \n",
       "232   6940   \n",
       "241   0104   \n",
       "229   0104   \n",
       "226   7004   \n",
       "219   7004   \n",
       "178   6288   \n",
       "189   6288   \n",
       "182   7036   \n",
       "225   6642   \n",
       "194  3386E   \n",
       "430  3162A   \n",
       "206  3386E   \n",
       "242   6369   \n",
       "433  3162A   \n",
       "231   6369   \n",
       "159   2830   \n",
       "162   2830   \n",
       "\n",
       "                                                                                               project_name  \\\n",
       "184                                                                                      180 West Extension   \n",
       "233                                                                                            Caldwell I/C   \n",
       "244                                                                                    Caldwell Interchange   \n",
       "220                                                                                   Chowchilla 99/233 I/C   \n",
       "245                                                                              Commercial Ave Interchange   \n",
       "193                                                                                           Grapevine I/C   \n",
       "203                                                                                   Grapevine Interchange   \n",
       "232                                                               International Agri-Center Way Interchange   \n",
       "241                                                      Lindsay And Route 198/245 Operational Improvements   \n",
       "229                                                        Lindsay And Rte 198/245 Operational Improvements   \n",
       "226                                                                                North 99 Madera Widening   \n",
       "219                                                                                North Madera 99 Widening   \n",
       "178                                                                                South Fresno I/C Project   \n",
       "189                                                            South Fresno State Route 99 Corridor Project   \n",
       "182                                                                                   Sr 180 West Extension   \n",
       "225                Sr 233 Chowchilla Interchange Improvement\\nMad 99/233 Chowchilla Interchange Improvement   \n",
       "194                                                                            Sr 46 Gap Closure Segment 4C   \n",
       "430                                                                            Sr 99/120 Connector Phase 1A   \n",
       "206                                      Sr-46 Expressway - Segment 4C (Kern)\\nSr 46 Gap Closure Segment 4C   \n",
       "242  State Route 99 Tulare City Widening Project (Tulare Six-Lane And Paige Avenue Interchange Improvements   \n",
       "433                                            State Route 99/State Route 120 Interchange Connector Project   \n",
       "231                                        Tulare Six-Lane And Paige Avenue Interchange Improvement Project   \n",
       "159                                                                      Us 101 Avila Beach Dr. Interchange   \n",
       "162                                            Us 101/ Avila Beach Rd I/C Improvement And Park-And-Ride Lot   \n",
       "\n",
       "    current_phase                                                      ea  \\\n",
       "184           PID                                                   0Y230   \n",
       "233     PS&E\\nR/W                                                   48740   \n",
       "244          PS&E                                                   48740   \n",
       "220         PA&ED                                                   0P910   \n",
       "245          PS&E                                                   0U880   \n",
       "193         PA&ED                                                   0R100   \n",
       "203          NONE                                                   0R100   \n",
       "232     PS&E\\nR/W                                                   0U880   \n",
       "241          NONE                                                   43080   \n",
       "229         PA&ED                                                   43080   \n",
       "226          NONE                                                   0Y360   \n",
       "219           PID                                                   0Y360   \n",
       "178         PA&ED                                                   0H240   \n",
       "189         PA&ED                                                   0H240   \n",
       "182     CANDIDATE                                                   0Y230   \n",
       "225         PA&ED                                                   0P910   \n",
       "194      PS&E/ROW                                                   44256   \n",
       "430          PS&E                                                   1M290   \n",
       "206           CON                                                   44256   \n",
       "242         PA&ED                                                   48950   \n",
       "433          PS&E  Before Phases: 1E740\\nPhase 1A: 1M290\\nPhase 1B: 1M300   \n",
       "231         PA&ED                                                   48950   \n",
       "159          PS&E                                                   1G480   \n",
       "162     PS&E\\nR/W                                                   1G480   \n",
       "\n",
       "                                                                                                                                                                                                                                                                                                                                                                                                                                                                                         project_description  \n",
       "184                                                                                                                                                                                                                                                                                                                                                                                                                                                                                        Construct highway  \n",
       "233                                                                                                                                                                                                                                                                                                                                                                                                                                                                                  Reconstruct interchange  \n",
       "244                                                                                                                                                                                                                                                                                                                                 In Tulare County, from 0.6 mile south of the Avenue 280 (Caldwell Ave) Interchange to 0.7 mile north of the Ave 280 (Caldwell Ave) Interchange, reconstruct interchange.  \n",
       "220                                                                                                                                                                                                                                                                                                                                                                                                                                                                                  Reconstruct interchange  \n",
       "245                                                                                                                                                                                                                                                                              In Tulare County near the City of Tulare at Commercial Avenue and State Route 99 between 0.9 mile north of Avenue 200 OC and Paige Avenue OC; Construct new interchange and construct north and south bound auxiliary lanes  \n",
       "193                                                                                                                                                                                                                                                                                                                                                                                                                                                                                             Relocate I/C  \n",
       "203                                                                                                                                                                                                                                                                                 In Kern County, near Grapevine from 0.7 mile south of the Grapevine UC to 0.5 mile south of the California Aqueduct, relocate interchange.\\nThis project is mitigation to the Grapevine Specific and Community Plan EIR.  \n",
       "232                                                                                                                                                                                                                                                                                                                                                                                                                                                                                    Construct interchange  \n",
       "241                                              Near Lindsay at various locations from Avenue 224 (Lindmore Street) to west of Cedar Ave and on Route 198 at the SR 245 (Spruce Ave) junction, realignment and operational improvements. This project is not truly capacity increasing. The short amount of new pavement creates a shortcut bypassing local intersections. The project is not likely to induce additional demand. The additional expressway construction has been removed from the project.  \n",
       "229                                                                                                                                                                                                                                                                                                                                                                                                                                                                  Construct 4E along a 2-lane county road  \n",
       "226  In Madera County, from 0.5 mile north of the Avenue 17 Overcrossing to 1.0 mile south of the Ave 21 1/2 OC, 4F to 6F. This project will eliminate a 5 mile bottleneck between the City of Madera and a 6-lane SR 99 facility south of SR 152. The project will improve interregional goods movement and passenger travel, and reduce severe accident rates along State Route 99 by median widening from 4 to 6 lanes. It will also upgrade Caltrans assets such as drainage systems and median barrier.  \n",
       "219                                                                                                                                                                                                                                                                                                                                                                                                                                                                          Widen freeway from 4 to 6 lanes  \n",
       "178                                                                                                                                                                                                                                                                                                                                                                                                                                                                                      Modify interchanges  \n",
       "189                                                                                                                                                                                                                                                                                                                                                                     In Fresno County, in and near Fresno, from 0.4 mile south of American Avenue to 0.4 mile north of North Avenue. Modify interchanges.  \n",
       "182                                                                                                                                                                                                                                                                                In Fresno County, near Mendota from I-5 to Route 33, construct 2-lane conventional highway on new alignment. This project would propose to construct new alignments and covert existing County roadways to a State Route.  \n",
       "225                                                                                At the SR 99/233 Separation in Madera County, from 2.6 miles north of the Avenue 24 Overcrossing to 1.3 miles south of the Le Grande Ave OC.  This project proposes to provide multimodal accessibility/connectivity by providing safe bicycle and pedestrian access through the SR 99/233 interchange.  This project will also improve operations at the interchange, improving access to local businesses and services.  \n",
       "194                                                                                                                                                                                                                                                                                                                                                                                                                                                       From Brown Material Rd to Farnsworth Ave, 2C to 4E  \n",
       "430                                                                                                                                                                                                                                                                                                                                                                                           In San Joaquin County, in and near the City of Manteca widen eastbound SR120 to southbound SR99 connector ramp  \n",
       "206                                                                                                                                                                                        44256 In and near Lost Hills, from 1 mile west of Browns Material Road to California Aquaduct.  Convert from 2-lane conventional highway to 4-lane expressway.\\n\\nFrom Brown Material Road to Farnsworth Avenue, convert 2-lane conventional highway to a 4-lane expressway. Possibly drop if it is fully funded.  \n",
       "242                                                                                                                                                                                                                                                                                                                                    The project would add a lane in each direction to the freeway median to convert the existing 4-lane facility to a 6-lane freeway. The goal is to mitigate congestion.  \n",
       "433                                                                                                                                                                                                                                                                                                                                                   The project would implement realignments, widenings, and reconstructions of bridges, on-ramps, and off-ramps to improve circulation at an interchange.  \n",
       "231                                                                                                                                                                                                                                                                                                                                                                                                                                                                                                 4F to 6F  \n",
       "159                                                                                                                                                                            Construct operational improvements and a park-and-ride lot.  A roundabout is proposed to be constructed at the intersection of the US 101 southbound ramps, Avila Beach Dr., and Shell Beach Rd. Operational and-or additional safety enhancements will be considered for the US 101 northbound ramps-Monte Rd. intersection.  \n",
       "162                                                                                                                                                                                                                                                                                                   Interchange operational improvements for US 101 SB ramps  at Avila Beach Dr. at Shell Beach Rd. Construct Park-and-Ride Lot at southwest corner of Avila Beach Dr. and Shell Beach Rd near Pismo Beach  "
      ]
     },
     "execution_count": 28,
     "metadata": {},
     "output_type": "execute_result"
    }
   ],
   "source": [
    "duplicate_projects_df[\n",
    "    [\"ppno\", \"project_name\", \"current_phase\", \"ea\", \"project_description\"]\n",
    "].sort_values('project_name')"
   ]
  },
  {
   "cell_type": "markdown",
   "id": "f6716d25-4b8e-4995-bcac-fede8750e069",
   "metadata": {},
   "source": [
    "### Add Fake Values"
   ]
  },
  {
   "cell_type": "code",
   "execution_count": 29,
   "id": "cb918292-983d-4914-bcf6-886281a28af3",
   "metadata": {},
   "outputs": [],
   "source": [
    "df_investment_plan2 = df_investment_plan.copy()"
   ]
  },
  {
   "cell_type": "markdown",
   "id": "48757aa0-e11e-4728-98e2-ff320cb28c1e",
   "metadata": {},
   "source": [
    "#### Create fake metrics"
   ]
  },
  {
   "cell_type": "code",
   "execution_count": 30,
   "id": "c2d352aa-86dd-4db8-b70f-9d9c7c03a3ea",
   "metadata": {},
   "outputs": [],
   "source": [
    "# https://stackoverflow.com/questions/64093880/how-to-create-random-floats-and-add-them-as-a-dataframe-column\n",
    "np.random.seed(365)"
   ]
  },
  {
   "cell_type": "code",
   "execution_count": 31,
   "id": "e48f080f-5d68-4d39-8b27-e90c34074fb8",
   "metadata": {},
   "outputs": [],
   "source": [
    "# Fake columns\n",
    "fake_columns = [\n",
    "    \"increase_peak_person_throughput\",\n",
    "    \"reduction_in_peak_period_delay\",\n",
    "    \"reduction_in_fatal_and_injury_crashes\",\n",
    "    \"reduction_in_injury_rates\",\n",
    "    \"increase_access_to_jobs\",\n",
    "    \"increase_access_jobs_to_DAC\",\n",
    "    \"commercial_dev_developed\",\n",
    "    \"tons_of_goods_impacted\",\n",
    "    \"improve_air_quality\",\n",
    "    \"impact_natural_resources\",\n",
    "    \"support_of_trasnportation\",\n",
    "]"
   ]
  },
  {
   "cell_type": "code",
   "execution_count": 32,
   "id": "2c0f3925-f69a-455a-825a-4051c0f01782",
   "metadata": {
    "scrolled": true,
    "tags": []
   },
   "outputs": [],
   "source": [
    "# Add fake metric columns\n",
    "for i in fake_columns:\n",
    "    df_investment_plan2[i] = np.round(\n",
    "        np.random.uniform(0.0, 50.0, size=(len(df_investment_plan), 1)), 2\n",
    "    )"
   ]
  },
  {
   "cell_type": "markdown",
   "id": "72017f1b-4c0c-43d2-a060-0196f6cc792b",
   "metadata": {},
   "source": [
    "#### Create fake benefit score and ranks."
   ]
  },
  {
   "cell_type": "code",
   "execution_count": 33,
   "id": "2492d87a-e52d-4bae-ba2a-273abefa214d",
   "metadata": {},
   "outputs": [],
   "source": [
    "# Create a fake benefit score\n",
    "df_investment_plan2[\"fake_benefit_score\"] = (\n",
    "    (df_investment_plan2[fake_columns].sum(axis=1))\n",
    "    / (df_investment_plan2['total_unfunded_need__$1,000_']).sum()\n",
    ") * 10000"
   ]
  },
  {
   "cell_type": "code",
   "execution_count": 34,
   "id": "24aa08db-f1fb-4c4a-8508-e5f24665cb04",
   "metadata": {
    "tags": []
   },
   "outputs": [],
   "source": [
    "# Create a fake statewide project rank\n",
    "df_investment_plan2[\"statewide_rank\"] = df_investment_plan2[\"fake_benefit_score\"].rank(\n",
    "    ascending=False\n",
    ")"
   ]
  },
  {
   "cell_type": "code",
   "execution_count": 35,
   "id": "5ecd9fa9-caa7-489f-b3f6-d79dfa77f6e5",
   "metadata": {},
   "outputs": [],
   "source": [
    "df_investment_plan2[\"district_rank\"] = df_investment_plan2.groupby(\"district\")[\"fake_benefit_score\"].rank(method=\"dense\", ascending=False)"
   ]
  },
  {
   "cell_type": "markdown",
   "id": "102ae1ee-64f8-47f3-ab78-cfa181993f8e",
   "metadata": {},
   "source": [
    "##### Double test district rank is what I expect"
   ]
  },
  {
   "cell_type": "code",
   "execution_count": 36,
   "id": "69a8b1f5-dbc7-469f-904b-9503009e60fa",
   "metadata": {},
   "outputs": [
    {
     "data": {
      "text/plain": [
       "97"
      ]
     },
     "execution_count": 36,
     "metadata": {},
     "output_type": "execute_result"
    }
   ],
   "source": [
    "# D4 only projects\n",
    "len(df_investment_plan2.loc[df_investment_plan2['district'] == 4])"
   ]
  },
  {
   "cell_type": "code",
   "execution_count": 37,
   "id": "a1b4a5a7-7571-41f0-b9c3-d4197bcf71f7",
   "metadata": {
    "scrolled": true,
    "tags": []
   },
   "outputs": [],
   "source": [
    "# df_investment_plan2.loc[df_investment_plan2['district'] == 4][['fake_benefit_score','district_rank']].sort_values('district_rank')"
   ]
  },
  {
   "cell_type": "markdown",
   "id": "2e02208b-4c29-4890-afd5-d7ca21e1b86a",
   "metadata": {},
   "source": [
    "#### Add median across districts\n",
    "* project cost\n",
    "* unfunded needs\n",
    "* benefit score"
   ]
  },
  {
   "cell_type": "markdown",
   "id": "dd8e486b-58fd-47ad-a093-86a8292bd228",
   "metadata": {},
   "source": [
    "### Portfolio Prep"
   ]
  },
  {
   "cell_type": "markdown",
   "id": "dfa7931e-e62f-4f4b-a19b-4b5a122cd4b6",
   "metadata": {},
   "source": [
    "#### Add Full County Names & Remap Districts to avoid 75/74"
   ]
  },
  {
   "cell_type": "code",
   "execution_count": 38,
   "id": "b7df603c-a761-4912-9793-81375513cc19",
   "metadata": {},
   "outputs": [],
   "source": [
    "# Map full county names & districts \n",
    "# To avoid certain counties being under 75/74/etc\n",
    "df_county = to_snakecase(\n",
    "    pd.read_excel(f\"{GCS_FILE_PATH}full_counties.xlsx\")\n",
    ")\n",
    "\n",
    "df_county = (df_county\n",
    "             .rename(columns = {'county':'full_county_name',\n",
    "                               'district':'district_not_original_df'})\n",
    "            )"
   ]
  },
  {
   "cell_type": "code",
   "execution_count": 39,
   "id": "430eb682-958c-48bd-b560-8ed7680d33c2",
   "metadata": {},
   "outputs": [],
   "source": [
    "df_investment_plan2 = pd.merge(\n",
    "    df_investment_plan2,\n",
    "    df_county,\n",
    "    left_on=\"county\",\n",
    "    right_on=\"abbrev_\",\n",
    "    how=\"left\",\n",
    "    indicator = True\n",
    ")"
   ]
  },
  {
   "cell_type": "markdown",
   "id": "5f781e36-39d3-4dd2-bc13-2b43c0a7a262",
   "metadata": {},
   "source": [
    "#### Rename Districts to mimic portfolio"
   ]
  },
  {
   "cell_type": "code",
   "execution_count": 40,
   "id": "7e33099b-de86-439e-b699-c986dd77fc63",
   "metadata": {},
   "outputs": [],
   "source": [
    "df_investment_plan2[\"district\"] = df_investment_plan2[\"district\"].astype(\"int64\")"
   ]
  },
  {
   "cell_type": "code",
   "execution_count": 41,
   "id": "7afa3cb9-fbb8-4b39-af8d-fe5e3001f78d",
   "metadata": {},
   "outputs": [],
   "source": [
    "# Add official Caltrans District names\n",
    "district_dictionary = {\n",
    "    7: \"07 - Los Angeles\",\n",
    "    4: \"04 - Oakland\",\n",
    "    2: \"02 - Redding\",\n",
    "    9: \"09 - Bishop\",\n",
    "    10: \"10 - Stockton\",\n",
    "    11: \"11 - San Diego\",\n",
    "    3: \"03 - Marysville\",\n",
    "    12: \"12 - Irvine\",\n",
    "    8: \"08 - San Bernardino\",\n",
    "    5: \"05 - San Luis Obispo\",\n",
    "    6: \"06 - Fresno\",\n",
    "    1: \"01 - Eureka\",\n",
    "    75: \"75 - HQ\",\n",
    "    74: \"74 - HQ\",\n",
    "    0: \"None\",\n",
    "}"
   ]
  },
  {
   "cell_type": "code",
   "execution_count": 42,
   "id": "7812bf76-50c4-461a-bab7-1b1f27867ef0",
   "metadata": {},
   "outputs": [],
   "source": [
    "df_investment_plan2[\"district\"] = df_investment_plan2[\"district\"].replace(\n",
    "    district_dictionary\n",
    ")"
   ]
  },
  {
   "cell_type": "code",
   "execution_count": 60,
   "id": "d21241e2-d7e8-4361-8565-ed5a7a52aad3",
   "metadata": {},
   "outputs": [],
   "source": [
    "df_investment_plan2[\"full_county_name\"] = df_investment_plan2[\"full_county_name\"].fillna(\"Various\")"
   ]
  },
  {
   "cell_type": "code",
   "execution_count": 63,
   "id": "76c00219-be6d-4815-b410-b14724434988",
   "metadata": {
    "scrolled": true,
    "tags": []
   },
   "outputs": [],
   "source": [
    "# Check and make sure counties - district relationship makes sense. \n",
    "# df_investment_plan2[['county','full_county_name']].loc[df_investment_plan2['full_county_name'] == 'Various']"
   ]
  },
  {
   "cell_type": "markdown",
   "id": "6b4fe97e-cfa5-4312-abf2-da97052f22a3",
   "metadata": {
    "tags": []
   },
   "source": [
    "#### Drop unwanted columns"
   ]
  },
  {
   "cell_type": "code",
   "execution_count": 56,
   "id": "86d4884e-a593-4900-ab24-0d83061f1eae",
   "metadata": {},
   "outputs": [],
   "source": [
    "unwanted_cols = ['district_not_original_df',\n",
    "       'abbrev_', '_merge', '_2023', '_2024', '_2025', '_2026', '_2027', '_2028', '_2029', '_2030',\n",
    "       '_2031', '_2032', '_2033', 'number_of_counties',]"
   ]
  },
  {
   "cell_type": "code",
   "execution_count": 57,
   "id": "ad758c6a-6734-4b69-9085-d17d7030b080",
   "metadata": {},
   "outputs": [],
   "source": [
    "df_investment_plan2 = df_investment_plan2.drop(columns = unwanted_cols)"
   ]
  },
  {
   "cell_type": "markdown",
   "id": "9de85d34-0362-4993-981a-5eb0f5a196b2",
   "metadata": {},
   "source": [
    "### Some more checks "
   ]
  },
  {
   "cell_type": "code",
   "execution_count": 45,
   "id": "29bc8c57-996b-4209-b059-feea9e778d0c",
   "metadata": {},
   "outputs": [
    {
     "data": {
      "text/plain": [
       "742"
      ]
     },
     "execution_count": 45,
     "metadata": {},
     "output_type": "execute_result"
    }
   ],
   "source": [
    "df_investment_plan2.project_name.nunique()"
   ]
  },
  {
   "cell_type": "code",
   "execution_count": 46,
   "id": "150078bf-26f0-4fe2-b458-21c2c0db0a3b",
   "metadata": {},
   "outputs": [
    {
     "data": {
      "text/plain": [
       "743"
      ]
     },
     "execution_count": 46,
     "metadata": {},
     "output_type": "execute_result"
    }
   ],
   "source": [
    "len(df_investment_plan2)"
   ]
  },
  {
   "cell_type": "code",
   "execution_count": 47,
   "id": "cc61dd60-080b-46f6-94fb-7cac266891f0",
   "metadata": {},
   "outputs": [
    {
     "data": {
      "text/plain": [
       "743"
      ]
     },
     "execution_count": 47,
     "metadata": {},
     "output_type": "execute_result"
    }
   ],
   "source": [
    "df_investment_plan2.district.value_counts().sum()"
   ]
  },
  {
   "cell_type": "markdown",
   "id": "3cb7c706-dab0-4bb4-865b-701fb5bbb8ee",
   "metadata": {},
   "source": [
    "### Save"
   ]
  },
  {
   "cell_type": "code",
   "execution_count": 65,
   "id": "2cb93d6d-acd1-4349-930a-306155e5a16a",
   "metadata": {},
   "outputs": [],
   "source": [
    "df_investment_plan2 = _utils.clean_up_columns(df_investment_plan2)"
   ]
  },
  {
   "cell_type": "code",
   "execution_count": 67,
   "id": "a3e60806-a07b-4477-9533-90bbfb1d5a9d",
   "metadata": {
    "scrolled": true,
    "tags": []
   },
   "outputs": [],
   "source": [
    "# df_investment_plan2.to_excel(f\"{GCS_FILE_PATH}fake_data.xlsx\", sheet_name='fake', index= False)"
   ]
  }
 ],
 "metadata": {
  "kernelspec": {
   "display_name": "Python 3 (ipykernel)",
   "language": "python",
   "name": "python3"
  },
  "language_info": {
   "codemirror_mode": {
    "name": "ipython",
    "version": 3
   },
   "file_extension": ".py",
   "mimetype": "text/x-python",
   "name": "python",
   "nbconvert_exporter": "python",
   "pygments_lexer": "ipython3",
   "version": "3.10.6"
  }
 },
 "nbformat": 4,
 "nbformat_minor": 5
}
