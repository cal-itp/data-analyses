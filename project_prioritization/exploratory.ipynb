{
 "cells": [
  {
   "cell_type": "markdown",
   "id": "c97654de-9428-4e4b-9ae9-323e8469a52a",
   "metadata": {},
   "source": [
    "# 10 Year Non Shopp Data\n",
    "* Generating fake data.\n",
    "* Cleaning the current data.\n",
    "* Initial exploration.\n",
    "* [Using Smart Sheet.](https://app.smartsheet.com/workspaces/8MgpHcXR4GJVM5GvWWMmQg7M8gqhJj88Gfh54Pr1)"
   ]
  },
  {
   "cell_type": "code",
   "execution_count": 1,
   "id": "961bd8c3-fc92-4a72-a106-bb542fdf4e87",
   "metadata": {},
   "outputs": [
    {
     "name": "stderr",
     "output_type": "stream",
     "text": [
      "/opt/conda/lib/python3.9/site-packages/geopandas/_compat.py:123: UserWarning: The Shapely GEOS version (3.10.3-CAPI-1.16.1) is incompatible with the GEOS version PyGEOS was compiled with (3.10.1-CAPI-1.16.0). Conversions between both will be slow.\n"
     ]
    }
   ],
   "source": [
    "import numpy as np\n",
    "import pandas as pd\n",
    "from babel.numbers import format_currency\n",
    "from calitp import *\n",
    "from shared_utils import portfolio_utils"
   ]
  },
  {
   "cell_type": "code",
   "execution_count": 2,
   "id": "f31abc44-d445-44b6-a04b-5d9a3cfb2eab",
   "metadata": {},
   "outputs": [],
   "source": [
    "import _utils"
   ]
  },
  {
   "cell_type": "code",
   "execution_count": 3,
   "id": "9057dd1d-8c22-42bf-a2fd-6cfae1710ee4",
   "metadata": {},
   "outputs": [],
   "source": [
    "pd.options.display.max_columns = 100\n",
    "pd.set_option(\"display.max_rows\", None)\n",
    "pd.set_option(\"display.max_colwidth\", None)"
   ]
  },
  {
   "cell_type": "code",
   "execution_count": 4,
   "id": "ec08614f-a868-48ea-9106-dd02ac2906fd",
   "metadata": {},
   "outputs": [],
   "source": [
    "GCS_FILE_PATH = \"gs://calitp-analytics-data/data-analyses/project_prioritization/\""
   ]
  },
  {
   "cell_type": "markdown",
   "id": "9ae0c70d-1667-495d-99c7-6a0d32c9d205",
   "metadata": {},
   "source": [
    "### Opening the File\n",
    "<b> Google Sheets/ Smart Sheet </b> \n",
    "* Connecting to Smartsheet directly requires a premium account/subscription to Smartsheet to generate the API key. \n",
    "* Can export a Smartsheet to Google Sheets, but have to do it manually each time and move it from my Cal-ITP account to the Data Services Team drive. \n",
    "    * This is just as time consuming as downloading the sheet in Excel and uploading it to GCS.\n",
    "    * Can't figure out how to read the csv file from Google Sheets properly. It downloads looking alright, but can't read using `pd.read_csv`."
   ]
  },
  {
   "cell_type": "code",
   "execution_count": 5,
   "id": "66a66fc7-ab46-4cf0-8dd6-5122aad71aa0",
   "metadata": {},
   "outputs": [],
   "source": [
    "# Open sheet with Google Sheets\n",
    "sheet_id = \"1O0rLyt96El6RQkVu5SYl0CwWqQRysryQn6_xANUYFkw\"\n",
    "sheet_name = \"main\""
   ]
  },
  {
   "cell_type": "code",
   "execution_count": 6,
   "id": "c0eb1ea1-e54c-4ad3-ad15-96538dca055e",
   "metadata": {},
   "outputs": [],
   "source": [
    "url = f\"https://docs.google.com/spreadsheets/d/{sheet_id}/gviz/tq?tqx=out:csv&sheet={sheet_name}\""
   ]
  },
  {
   "cell_type": "code",
   "execution_count": 7,
   "id": "02cb43a3-70a9-4fda-8423-dc93812aa101",
   "metadata": {},
   "outputs": [],
   "source": [
    "csv = pd.read_csv(url, sep='\\t')"
   ]
  },
  {
   "cell_type": "code",
   "execution_count": 8,
   "id": "6847a64e-af90-41ef-ba56-096851faa798",
   "metadata": {},
   "outputs": [
    {
     "name": "stderr",
     "output_type": "stream",
     "text": [
      "/opt/conda/lib/python3.9/site-packages/openpyxl/styles/stylesheet.py:226: UserWarning: Workbook contains no default style, apply openpyxl's default\n"
     ]
    }
   ],
   "source": [
    "# Open first sheet.\n",
    "df_investment_plan = to_snakecase(\n",
    "    pd.read_excel(\n",
    "        f\"{GCS_FILE_PATH}10 Year Non-SHOPP Investment Plan Project List.xlsx\"\n",
    "    )\n",
    ")"
   ]
  },
  {
   "cell_type": "markdown",
   "id": "007a66e8-9d05-4156-9ecc-6a17d0603ac9",
   "metadata": {},
   "source": [
    "### Cleaning"
   ]
  },
  {
   "cell_type": "code",
   "execution_count": 9,
   "id": "205ddb97-a85b-43f4-b991-4886b0c5fe8b",
   "metadata": {},
   "outputs": [
    {
     "data": {
      "text/plain": [
       "(765, 90)"
      ]
     },
     "execution_count": 9,
     "metadata": {},
     "output_type": "execute_result"
    }
   ],
   "source": [
    "df_investment_plan.shape"
   ]
  },
  {
   "cell_type": "code",
   "execution_count": 10,
   "id": "29212b58-6634-4ed9-b0d0-1a291fc834a8",
   "metadata": {},
   "outputs": [],
   "source": [
    "# df_investment_plan[[\"_10_year_plan\"]].sample(30)"
   ]
  },
  {
   "cell_type": "code",
   "execution_count": 11,
   "id": "de78890c-0f81-4764-9763-bfb6fb08f1f2",
   "metadata": {},
   "outputs": [],
   "source": [
    "# Look at nulls by % for each column\n",
    "# (df_investment_plan.isnull().sum() / len(df_investment_plan)) * 100"
   ]
  },
  {
   "cell_type": "code",
   "execution_count": 12,
   "id": "abd816c6-7579-4a98-a462-5e4ae08fac63",
   "metadata": {},
   "outputs": [],
   "source": [
    "# df_investment_plan.info()"
   ]
  },
  {
   "cell_type": "markdown",
   "id": "383e1537-dde4-43be-925b-5b195240a54c",
   "metadata": {},
   "source": [
    "#### Fix monetary & date values "
   ]
  },
  {
   "cell_type": "code",
   "execution_count": 13,
   "id": "3ee756e2-2e03-45f2-8425-2e189b6e45d5",
   "metadata": {
    "scrolled": true,
    "tags": []
   },
   "outputs": [],
   "source": [
    "# df_investment_plan[\"total_project_cost__$1,000_\"].unique().tolist()"
   ]
  },
  {
   "cell_type": "code",
   "execution_count": 14,
   "id": "4b7d4d5e-a9d0-44ed-95b8-95a3cd005de8",
   "metadata": {},
   "outputs": [],
   "source": [
    "# Manually clean up some values that are strings/etc\n",
    "df_investment_plan[\"total_project_cost__$1,000_\"] = df_investment_plan[\"total_project_cost__$1,000_\"\n",
    "].replace(\n",
    "    {\n",
    "        \"Phase 1 (SR-60 to Mission Blvd) - $174,000\\nPhase 2 (Mission Blvd to I-10) - $170,000\": 344000,\n",
    "        \"$85,738 (Cycle 2)\": 85738,\n",
    "        \"Oxnard to Camarillo 2nd Main Track: $15,000\\nOxnard Station North Platform: $20,000\": 35000,\n",
    "        \"$214,000\\nPhase 1: $82,000\\nPhase 2: $132,000\": 214000,\n",
    "        \"$-\": 0,\n",
    "        \"TBD\": 0,\n",
    "        \"Info not currently available\":0,\n",
    "    }\n",
    ")"
   ]
  },
  {
   "cell_type": "code",
   "execution_count": 15,
   "id": "da68484e-8139-4999-ae60-4d0998a44767",
   "metadata": {},
   "outputs": [],
   "source": [
    "# Find all date related cols\n",
    "date_cols = [col for col in df_investment_plan.columns if 'date' in col]"
   ]
  },
  {
   "cell_type": "code",
   "execution_count": 16,
   "id": "ddfe0560-5ed0-463f-9c17-784888f814d3",
   "metadata": {},
   "outputs": [],
   "source": [
    "# Remove update complete\n",
    "date_cols.remove('update_complete')"
   ]
  },
  {
   "cell_type": "code",
   "execution_count": 17,
   "id": "25401eb4-7bde-40c6-b7d6-0ad29101642a",
   "metadata": {},
   "outputs": [],
   "source": [
    "for c in date_cols:\n",
    "    df_investment_plan[c] = df_investment_plan[c].apply(pd.to_datetime, errors=\"coerce\")"
   ]
  },
  {
   "cell_type": "code",
   "execution_count": 18,
   "id": "49ef853e-ff0b-4f76-828e-ab2937f8374c",
   "metadata": {},
   "outputs": [],
   "source": [
    "# Fill na based on dtypes\n",
    "df_investment_plan = df_investment_plan.fillna(\n",
    "    df_investment_plan.dtypes.replace({\"float64\": 0.0, \"object\": \"None\"})\n",
    ")"
   ]
  },
  {
   "cell_type": "code",
   "execution_count": 19,
   "id": "0f84664e-594e-402b-98b4-9dd9b03a42c8",
   "metadata": {},
   "outputs": [],
   "source": [
    "# Filling in na by data type didn't work with route\n",
    "df_investment_plan.route = df_investment_plan.route.fillna('None')"
   ]
  },
  {
   "cell_type": "markdown",
   "id": "071b9bb7-be91-4b48-b2d9-fb43af8feb67",
   "metadata": {},
   "source": [
    "#### Current Phase"
   ]
  },
  {
   "cell_type": "code",
   "execution_count": 20,
   "id": "d0550e2d-7765-4a2c-a757-e6c56f7b4ae3",
   "metadata": {},
   "outputs": [],
   "source": [
    "# df_investment_plan[\"current_phase\"].value_counts()"
   ]
  },
  {
   "cell_type": "code",
   "execution_count": 21,
   "id": "b700754a-22e9-408b-955e-ac09f1272e68",
   "metadata": {},
   "outputs": [],
   "source": [
    "# Correct some curent phase values that read in messily\n",
    "df_investment_plan[\"current_phase\"] = df_investment_plan[\"current_phase\"].replace(\n",
    "    {\n",
    "        \"REMOVE/END\\nSHELF\": \"remove/end/shelf\",\n",
    "        \"INACTIVE\\nON HOLD\": \"inactive/onhold\",\n",
    "        \"INACTIVE\\nPS&E/ROW\": \"inactive/ps&e/row\",\n",
    "    }\n",
    ")"
   ]
  },
  {
   "cell_type": "markdown",
   "id": "478d501e-e504-4c6c-aeb4-1e2e6f2cf294",
   "metadata": {},
   "source": [
    "#### Change cases of certain columns"
   ]
  },
  {
   "cell_type": "code",
   "execution_count": 22,
   "id": "10eee598-5957-4996-9e1d-edb2ad957f62",
   "metadata": {},
   "outputs": [],
   "source": [
    "# Titlecase some string columns\n",
    "titlecase_cols = [\n",
    "    \"route\",\n",
    "    \"potential_funding_program_s_\",\n",
    "    \"lead_agency\",\n",
    "    \"primary_mode\",\n",
    "    \"project_name\",\n",
    "    \"potential_funding_program_s_\",\n",
    "    \"urban_rural\", \n",
    "]\n",
    "\n",
    "# Title case certain columns\n",
    "for c in titlecase_cols:\n",
    "    df_investment_plan[c] = df_investment_plan[c].str.title().str.strip()"
   ]
  },
  {
   "cell_type": "code",
   "execution_count": 23,
   "id": "95cde04f-8358-40f7-abd8-73d3676093c1",
   "metadata": {},
   "outputs": [],
   "source": [
    "# Upper case phases & counties\n",
    "uppercase_cols = [\"county\",\"current_phase\"]\n",
    "for c in uppercase_cols:\n",
    "    df_investment_plan[c] = df_investment_plan[c].str.upper().str.strip()"
   ]
  },
  {
   "cell_type": "markdown",
   "id": "dd995978-ac23-4b7b-bec9-50184302b3d6",
   "metadata": {
    "tags": []
   },
   "source": [
    "#### Correct Projects that are in the wrong district"
   ]
  },
  {
   "cell_type": "code",
   "execution_count": 24,
   "id": "4e967619-1803-4886-951a-6b7bb0a25e5d",
   "metadata": {
    "scrolled": true,
    "tags": []
   },
   "outputs": [],
   "source": [
    "# df_investment_plan[['project_name','county','district']]"
   ]
  },
  {
   "cell_type": "code",
   "execution_count": 25,
   "id": "546b0bef-93fa-4a1c-a7b0-67a17c59df21",
   "metadata": {},
   "outputs": [],
   "source": [
    "df_investment_plan.loc[\n",
    "    (\n",
    "        df_investment_plan[\"project_name\"]\n",
    "        == \"Polb Terminal Island Wye Track Realignment\"\n",
    "    ),\n",
    "    \"district\",\n",
    "] = \"7\""
   ]
  },
  {
   "cell_type": "code",
   "execution_count": 26,
   "id": "a6a4eca5-dad4-4c35-804f-b3386fa44b0f",
   "metadata": {},
   "outputs": [],
   "source": [
    "df_investment_plan.loc[\n",
    "    (df_investment_plan[\"project_name\"] == \"Sr 58 Truck Climbing Lanes Segment 2\"),\n",
    "    \"district\",\n",
    "] = \"6\"\n",
    "df_investment_plan.loc[\n",
    "    (df_investment_plan[\"project_name\"] == \"Mojave To Boron Freeway\"), \"district\"\n",
    "] = \"6\"\n",
    "df_investment_plan.loc[\n",
    "    (df_investment_plan[\"project_name\"] == \"Sr 58/California City Blvd. Extension\"),\n",
    "    \"district\",\n",
    "] = \"6\""
   ]
  },
  {
   "cell_type": "markdown",
   "id": "e850a705-34a3-46ed-9744-a32055fb486c",
   "metadata": {},
   "source": [
    "#### Ensure Lead Agencies are not duplicated\n",
    "* Does Metro correspond with LA Metro or Metrolink?"
   ]
  },
  {
   "cell_type": "code",
   "execution_count": 27,
   "id": "b5d38e13-ba99-42bf-a8b1-07b1c8e2c4d5",
   "metadata": {},
   "outputs": [],
   "source": [
    "agency_dict = {'Drmt':'Caltrans',\n",
    "  'Mtc':'Mtc - Bay Area Toll Authority',\n",
    "  'Pola':'Port of Los Angeles',\n",
    "  'Polb':'Port of Long Beach',\n",
    "  'Rctc':'Riverside County Transportation Commission',\n",
    "  'Vctc':'Ventura County Transportation Commission',\n",
    "  'Vta': 'Santa Clara Valley Transportation Authority (Vta)'}"
   ]
  },
  {
   "cell_type": "code",
   "execution_count": 28,
   "id": "544dd092-4bfd-429c-a251-0e9288d04070",
   "metadata": {},
   "outputs": [],
   "source": [
    "df_investment_plan[\"lead_agency\"] = df_investment_plan[\"lead_agency\"].replace(agency_dict)"
   ]
  },
  {
   "cell_type": "code",
   "execution_count": 29,
   "id": "7c22d5d5-7448-49a5-be78-4239dbede4ee",
   "metadata": {
    "scrolled": true,
    "tags": []
   },
   "outputs": [],
   "source": [
    "# df_investment_plan.lead_agency.sort_values().unique().tolist()"
   ]
  },
  {
   "cell_type": "code",
   "execution_count": 30,
   "id": "9f258841-6b12-4fe7-8b21-680f31397a89",
   "metadata": {
    "scrolled": true,
    "tags": []
   },
   "outputs": [],
   "source": [
    "# df_investment_plan.lead_agency.value_counts()"
   ]
  },
  {
   "cell_type": "markdown",
   "id": "dd8e486b-58fd-47ad-a093-86a8292bd228",
   "metadata": {
    "tags": []
   },
   "source": [
    "#### Add Full County Names "
   ]
  },
  {
   "cell_type": "code",
   "execution_count": 31,
   "id": "b7df603c-a761-4912-9793-81375513cc19",
   "metadata": {},
   "outputs": [],
   "source": [
    "# Load Excel workbook with abbreviations and full county names\n",
    "# Example: ALA is Alameda\n",
    "# https://cwwp2.dot.ca.gov/documentation/district-map-county-chart.htm\n",
    "df_county = to_snakecase(pd.read_excel(f\"{GCS_FILE_PATH}full_counties.xlsx\"))\n",
    "\n",
    "df_county = df_county.rename(columns={\"county\": \"full_county_name\"}).drop(columns=[\"district\"])"
   ]
  },
  {
   "cell_type": "code",
   "execution_count": 32,
   "id": "430eb682-958c-48bd-b560-8ed7680d33c2",
   "metadata": {},
   "outputs": [],
   "source": [
    "# Merge \n",
    "df_investment_plan = pd.merge(\n",
    "    df_investment_plan,\n",
    "    df_county,\n",
    "    left_on=\"county\",\n",
    "    right_on=\"abbrev_\",\n",
    "    how=\"left\",\n",
    "    indicator=True,\n",
    ")"
   ]
  },
  {
   "cell_type": "code",
   "execution_count": 33,
   "id": "a8d6762b-6f57-45c5-a786-ad7937af0e08",
   "metadata": {},
   "outputs": [],
   "source": [
    "# Double check that these all make sense.\n",
    "# df_investment_plan[[\"county\",\"abbrev_\",\"full_county_name\"]].drop_duplicates().sort_values('abbrev_')"
   ]
  },
  {
   "cell_type": "code",
   "execution_count": 34,
   "id": "adbf9638-cb96-4f8a-84f3-4bd56bcaedd8",
   "metadata": {},
   "outputs": [],
   "source": [
    "# Fill full_county_name column with none if it's none in the county column\n",
    "df_investment_plan.loc[\n",
    "    (df_investment_plan[\"county\"] == \"NONE\"),\n",
    "    \"full_county_name\",\n",
    "] = \"None\""
   ]
  },
  {
   "cell_type": "code",
   "execution_count": 35,
   "id": "d21241e2-d7e8-4361-8565-ed5a7a52aad3",
   "metadata": {},
   "outputs": [],
   "source": [
    "# Any projects that don't have a full county name because the project crosses\n",
    "# various counties, fill it with Various\n",
    "df_investment_plan[\"full_county_name\"] = df_investment_plan[\n",
    "    \"full_county_name\"\n",
    "].fillna(\"Various\")"
   ]
  },
  {
   "cell_type": "code",
   "execution_count": 36,
   "id": "76c00219-be6d-4815-b410-b14724434988",
   "metadata": {
    "scrolled": true,
    "tags": []
   },
   "outputs": [],
   "source": [
    "# Check and make sure counties - district relationship makes sense.\n",
    "# df_investment_plan[['county','full_county_name']].loc[df_investment_plan['full_county_name'] == 'Various']"
   ]
  },
  {
   "cell_type": "markdown",
   "id": "d0a5a3f8-9863-41e9-9beb-9a1b376e0e48",
   "metadata": {
    "tags": []
   },
   "source": [
    "#### Create new project titles: District + Title\n",
    "* Roy's request: wants the dropdown menu to show projects by by districts first in ascending order. "
   ]
  },
  {
   "cell_type": "code",
   "execution_count": 37,
   "id": "e16048c3-e693-40bc-9017-87c357885754",
   "metadata": {},
   "outputs": [],
   "source": [
    "# Cast district as all integers \n",
    "df_investment_plan.district = df_investment_plan.district.astype('int64')"
   ]
  },
  {
   "cell_type": "code",
   "execution_count": 38,
   "id": "c808c594-ba17-47f9-9817-c554335f1f43",
   "metadata": {},
   "outputs": [],
   "source": [
    "# Sort values by District\n",
    "df_investment_plan = df_investment_plan.sort_values(by = ['district']).reset_index(drop = True) "
   ]
  },
  {
   "cell_type": "code",
   "execution_count": 39,
   "id": "723d4e6f-31e0-4c59-b4c8-4587bae27422",
   "metadata": {
    "scrolled": true,
    "tags": []
   },
   "outputs": [],
   "source": [
    "# New column with project titles\n",
    "df_investment_plan[\"detailed_project_title\"] = ('District '+ df_investment_plan.district.astype('str') + '-' + df_investment_plan.project_name)"
   ]
  },
  {
   "cell_type": "code",
   "execution_count": 40,
   "id": "a8794a56-e335-40c7-9fa2-77010571fd6f",
   "metadata": {
    "tags": []
   },
   "outputs": [],
   "source": [
    "# df_investment_plan[\"detailed_project_title\"].sample(4).tolist()"
   ]
  },
  {
   "cell_type": "code",
   "execution_count": 41,
   "id": "a2b0815f-51bf-4218-b94c-0620f10cee23",
   "metadata": {
    "scrolled": true,
    "tags": []
   },
   "outputs": [],
   "source": [
    "# df_investment_plan[[\"detailed_project_title\"]]"
   ]
  },
  {
   "cell_type": "markdown",
   "id": "5f781e36-39d3-4dd2-bc13-2b43c0a7a262",
   "metadata": {},
   "source": [
    "#### Rename Districts to mimic portfolio"
   ]
  },
  {
   "cell_type": "code",
   "execution_count": 42,
   "id": "7afa3cb9-fbb8-4b39-af8d-fe5e3001f78d",
   "metadata": {},
   "outputs": [],
   "source": [
    "# Add official Caltrans District names\n",
    "district_dictionary = {\n",
    "    7: \"07 - Los Angeles\",\n",
    "    4: \"04 - Oakland\",\n",
    "    2: \"02 - Redding\",\n",
    "    9: \"09 - Bishop\",\n",
    "    10: \"10 - Stockton\",\n",
    "    11: \"11 - San Diego\",\n",
    "    3: \"03 - Marysville\",\n",
    "    12: \"12 - Irvine\",\n",
    "    8: \"08 - San Bernardino\",\n",
    "    5: \"05 - San Luis Obispo\",\n",
    "    6: \"06 - Fresno\",\n",
    "    1: \"01 - Eureka\",\n",
    "    75: \"75 - HQ\",\n",
    "    74: \"74 - HQ\",\n",
    "    0: \"None\",\n",
    "}"
   ]
  },
  {
   "cell_type": "code",
   "execution_count": 43,
   "id": "7812bf76-50c4-461a-bab7-1b1f27867ef0",
   "metadata": {},
   "outputs": [],
   "source": [
    "df_investment_plan[\"district_full_name\"] = df_investment_plan[\"district\"].replace(\n",
    "    district_dictionary\n",
    ")"
   ]
  },
  {
   "cell_type": "markdown",
   "id": "48d660ae-6408-4803-a283-16c4f8c06521",
   "metadata": {
    "tags": []
   },
   "source": [
    "### Investigate: Duplication\n",
    "* Rows of projects corresponds exactly with project names"
   ]
  },
  {
   "cell_type": "code",
   "execution_count": 44,
   "id": "93c35488-1b8e-4f63-8cdd-227bb9d068ba",
   "metadata": {},
   "outputs": [],
   "source": [
    "# Subset of df for when I just want to preview pertinent info.\n",
    "preview_cols = [\"district\", \"ppno\", \"project_name\", \"current_phase\", \"ct_project_id\", \"ea\", \"project_description\", 'total_project_cost__$1,000_']"
   ]
  },
  {
   "cell_type": "code",
   "execution_count": 45,
   "id": "8b092fc6-457e-4cda-b9fe-c47852c54a72",
   "metadata": {},
   "outputs": [
    {
     "name": "stdout",
     "output_type": "stream",
     "text": [
      "ppno : 234\n",
      "ct_project_id : 331\n",
      "project_name : 765\n"
     ]
    },
    {
     "data": {
      "text/plain": [
       "'The dataframe contains 765 rows.'"
      ]
     },
     "execution_count": 45,
     "metadata": {},
     "output_type": "execute_result"
    }
   ],
   "source": [
    "# Check that each row represents a different project\n",
    "for i in [\"ppno\", \"ct_project_id\", \"project_name\"]:\n",
    "    print(f\"{i} : {df_investment_plan[i].nunique()}\")\n",
    "f\"The dataframe contains {len(df_investment_plan)} rows.\""
   ]
  },
  {
   "cell_type": "code",
   "execution_count": 46,
   "id": "e19877dc-8c4d-4c36-892d-502059a22056",
   "metadata": {},
   "outputs": [
    {
     "data": {
      "text/plain": [
       "525"
      ]
     },
     "execution_count": 46,
     "metadata": {},
     "output_type": "execute_result"
    }
   ],
   "source": [
    "len(df_investment_plan.loc[df_investment_plan.ppno == \"None\"])"
   ]
  },
  {
   "cell_type": "code",
   "execution_count": 47,
   "id": "776f931b-b5a0-4327-83ec-6a49a33e43a3",
   "metadata": {},
   "outputs": [
    {
     "data": {
      "text/plain": [
       "430"
      ]
     },
     "execution_count": 47,
     "metadata": {},
     "output_type": "execute_result"
    }
   ],
   "source": [
    "len(df_investment_plan.loc[df_investment_plan.ct_project_id == \"None\"])"
   ]
  },
  {
   "cell_type": "markdown",
   "id": "8487a02c-df3b-4229-bf2f-0caae1b04e13",
   "metadata": {},
   "source": [
    "#### PPNO Investigation\n",
    "* Some projects are 1:1 matches such as South Fresno State Route 99 Corridor Project and South Fresno I/C Project\n",
    "* Others are not as clear. Like Sr 233 Chowchilla Interchange Improvement\\nMad 99/233 Chowchilla Interchange Improvement and Chowchilla 99/233 I/C\t"
   ]
  },
  {
   "cell_type": "code",
   "execution_count": 48,
   "id": "84f52222-6fd0-4fb5-9169-d5e2fc5a75f6",
   "metadata": {
    "scrolled": true,
    "tags": []
   },
   "outputs": [],
   "source": [
    "# Check the duplicate PPNO-Project Name combos\n",
    "duplicate_ppno = (\n",
    "    df_investment_plan[~df_investment_plan[\"ppno\"].isin([0, \"None\"])]\n",
    "    .groupby(\"ppno\")\n",
    "    .agg({\"project_name\": \"count\"})\n",
    "    .sort_values(\"project_name\")\n",
    "    .reset_index()\n",
    ")"
   ]
  },
  {
   "cell_type": "code",
   "execution_count": 49,
   "id": "3b0568a2-a2c1-4338-8871-daff1c6ee7d0",
   "metadata": {},
   "outputs": [],
   "source": [
    "# Filter out for ppno with more than 2 project names.\n",
    "# Save those projects into a list\n",
    "duplicate_ppno = duplicate_ppno[duplicate_ppno[\"project_name\"] > 1]"
   ]
  },
  {
   "cell_type": "code",
   "execution_count": 50,
   "id": "8b3e96ab-afc5-4e61-bb77-7921cea45151",
   "metadata": {},
   "outputs": [],
   "source": [
    "duplicate_ppno_list = duplicate_ppno[\"ppno\"].to_list()"
   ]
  },
  {
   "cell_type": "code",
   "execution_count": 51,
   "id": "acb4c8e3-9d2d-4339-a92a-fea03c8b1fdd",
   "metadata": {
    "scrolled": true,
    "tags": []
   },
   "outputs": [],
   "source": [
    "duplicate_ppno_df = df_investment_plan[\n",
    "    df_investment_plan[\"ppno\"].isin(duplicate_ppno_list)\n",
    "]"
   ]
  },
  {
   "cell_type": "code",
   "execution_count": 52,
   "id": "8ba62f22-f419-4ee0-a573-2a215a0a1aa2",
   "metadata": {
    "scrolled": true,
    "tags": []
   },
   "outputs": [],
   "source": [
    "# duplicate_ppno_df[preview_cols].sort_values('district')"
   ]
  },
  {
   "cell_type": "markdown",
   "id": "dcf46200-b29b-4691-941f-b76773eeb15c",
   "metadata": {},
   "source": [
    "#### Project ID Investigation\n",
    "* Overlaps with PPNO?"
   ]
  },
  {
   "cell_type": "code",
   "execution_count": 53,
   "id": "43e4987b-05f6-4021-86fb-eb9b3b1ee431",
   "metadata": {},
   "outputs": [],
   "source": [
    "# Check the duplicate Project ID-Project Name combos\n",
    "duplicate_project_ids = (\n",
    "    df_investment_plan[~df_investment_plan[\"ct_project_id\"].isin([0, \"None\"])]\n",
    "    .groupby(\"ct_project_id\")\n",
    "    .agg({\"project_name\": \"count\"})\n",
    "    .sort_values(\"project_name\")\n",
    "    .reset_index()\n",
    ")"
   ]
  },
  {
   "cell_type": "code",
   "execution_count": 54,
   "id": "2e8c1007-16f0-486c-a402-ab7d8d0a6c34",
   "metadata": {},
   "outputs": [],
   "source": [
    "# Filter out for ppno with more than 2 project names.\n",
    "# Save those projects into a list\n",
    "duplicate_projects_ids = duplicate_project_ids[duplicate_project_ids[\"project_name\"] > 1]"
   ]
  },
  {
   "cell_type": "code",
   "execution_count": 55,
   "id": "085ec43b-6dfe-48a7-8eef-286d5b3e0464",
   "metadata": {},
   "outputs": [],
   "source": [
    "duplicate_project_id_list = duplicate_projects_ids[\"ct_project_id\"].to_list()"
   ]
  },
  {
   "cell_type": "code",
   "execution_count": 64,
   "id": "5b9b586a-e669-47a2-aec5-b73c534be675",
   "metadata": {},
   "outputs": [],
   "source": [
    "duplicate_project_id_df = df_investment_plan[\n",
    "    df_investment_plan[\"ct_project_id\"].isin(duplicate_project_id_list)\n",
    "]"
   ]
  },
  {
   "cell_type": "code",
   "execution_count": 65,
   "id": "a67920cd-07ab-4219-a2e9-4b64568e7274",
   "metadata": {},
   "outputs": [],
   "source": [
    "# duplicate_project_id_df[preview_cols].sort_values('district')"
   ]
  },
  {
   "cell_type": "markdown",
   "id": "f6716d25-4b8e-4995-bcac-fede8750e069",
   "metadata": {
    "tags": []
   },
   "source": [
    "### Add Fake Values"
   ]
  },
  {
   "cell_type": "markdown",
   "id": "48757aa0-e11e-4728-98e2-ff320cb28c1e",
   "metadata": {},
   "source": [
    "#### Create fake metrics"
   ]
  },
  {
   "cell_type": "code",
   "execution_count": 66,
   "id": "34b8dded-f8ce-431b-8ca9-c37751c72740",
   "metadata": {},
   "outputs": [],
   "source": [
    "df_investment_plan2 = df_investment_plan.copy()"
   ]
  },
  {
   "cell_type": "code",
   "execution_count": 67,
   "id": "c2d352aa-86dd-4db8-b70f-9d9c7c03a3ea",
   "metadata": {},
   "outputs": [],
   "source": [
    "# https://stackoverflow.com/questions/64093880/how-to-create-random-floats-and-add-them-as-a-dataframe-column\n",
    "np.random.seed(365)"
   ]
  },
  {
   "cell_type": "code",
   "execution_count": 68,
   "id": "e48f080f-5d68-4d39-8b27-e90c34074fb8",
   "metadata": {},
   "outputs": [],
   "source": [
    "# Fake columns\n",
    "fake_columns = [\n",
    "    \"increase_peak_person_throughput\",\n",
    "    \"reduction_in_peak_period_delay\",\n",
    "    \"reduction_in_fatal_and_injury_crashes\",\n",
    "    \"reduction_in_injury_rates\",\n",
    "    \"increase_access_to_jobs\",\n",
    "    \"increase_access_jobs_to_DAC\",\n",
    "    \"commercial_dev_developed\",\n",
    "    \"tons_of_goods_impacted\",\n",
    "    \"improve_air_quality\",\n",
    "    \"impact_natural_resources\",\n",
    "    \"support_of_transportation\",\n",
    "]"
   ]
  },
  {
   "cell_type": "code",
   "execution_count": 69,
   "id": "2c0f3925-f69a-455a-825a-4051c0f01782",
   "metadata": {
    "scrolled": true,
    "tags": []
   },
   "outputs": [],
   "source": [
    "# Add fake metric columns\n",
    "for i in fake_columns:\n",
    "    df_investment_plan2[i] = np.round(np.random.uniform(0.0, 50.0, size=(len(df_investment_plan2), 1)), 2)"
   ]
  },
  {
   "cell_type": "code",
   "execution_count": 70,
   "id": "9f262924-828b-486c-ab07-f0461b28f7fc",
   "metadata": {},
   "outputs": [],
   "source": [
    "# df_investment_plan[\"total_unfunded_need__$1,000_\"].value_counts()"
   ]
  },
  {
   "cell_type": "markdown",
   "id": "72017f1b-4c0c-43d2-a060-0196f6cc792b",
   "metadata": {},
   "source": [
    "#### Create fake benefit score and ranks."
   ]
  },
  {
   "cell_type": "code",
   "execution_count": 71,
   "id": "2492d87a-e52d-4bae-ba2a-273abefa214d",
   "metadata": {},
   "outputs": [],
   "source": [
    "# Create a fake benefit score\n",
    "df_investment_plan2[\"fake_benefit_score\"] = ((df_investment_plan2[fake_columns].sum(axis=1))/ \n",
    "                                             (df_investment_plan2[\"total_unfunded_need__$1,000_\"]).apply(pd.to_numeric, errors = 'coerce').fillna(0).sum()\n",
    ") * 1000000"
   ]
  },
  {
   "cell_type": "code",
   "execution_count": 72,
   "id": "24aa08db-f1fb-4c4a-8508-e5f24665cb04",
   "metadata": {
    "tags": []
   },
   "outputs": [],
   "source": [
    "# Create a fake statewide project rank\n",
    "df_investment_plan2[\"statewide_rank\"] = df_investment_plan2[\"fake_benefit_score\"].rank(\n",
    "    ascending=False\n",
    ")"
   ]
  },
  {
   "cell_type": "code",
   "execution_count": 73,
   "id": "5ecd9fa9-caa7-489f-b3f6-d79dfa77f6e5",
   "metadata": {},
   "outputs": [],
   "source": [
    "# Create fake project rank by district\n",
    "df_investment_plan2[\"district_rank\"] = df_investment_plan2.groupby(\"district\")[\n",
    "    \"fake_benefit_score\"\n",
    "].rank(method=\"dense\", ascending=False)"
   ]
  },
  {
   "cell_type": "code",
   "execution_count": 74,
   "id": "6eb94702-2c35-40cb-865e-815144a965ba",
   "metadata": {},
   "outputs": [],
   "source": [
    "# Assign percentile of project among all projects in the state. \n",
    "df_investment_plan2 = _utils.project_size_rating(df_investment_plan2, 'statewide_rank', 'fake_benefit_score_statewide_percentile')"
   ]
  },
  {
   "cell_type": "code",
   "execution_count": 75,
   "id": "b573cf6a-7494-4fe3-8a1a-5a01aecb0a36",
   "metadata": {
    "scrolled": true,
    "tags": []
   },
   "outputs": [],
   "source": [
    "# Make sure this makes sense\n",
    "# df_investment_plan2[['district_rank','statewide_rank','fake_benefit_score','fake_benefit_score_statewide_percentile']].sort_values('fake_benefit_score', ascending= False)"
   ]
  },
  {
   "cell_type": "code",
   "execution_count": 83,
   "id": "29b04ece-b4f6-4cfd-922c-8d9891ecf0d4",
   "metadata": {},
   "outputs": [
    {
     "data": {
      "text/plain": [
       "Index(['rail_project_id', '_10_year_plan', 'ct_project_id', 'update_complete',\n",
       "       'ea', 'ppno', 'project_name', 'district', 'county', 'route',\n",
       "       ...\n",
       "       'increase_access_jobs_to_DAC', 'commercial_dev_developed',\n",
       "       'tons_of_goods_impacted', 'improve_air_quality',\n",
       "       'impact_natural_resources', 'support_of_transportation',\n",
       "       'fake_benefit_score', 'statewide_rank', 'district_rank',\n",
       "       'fake_benefit_score_statewide_percentile'],\n",
       "      dtype='object', length=110)"
      ]
     },
     "execution_count": 83,
     "metadata": {},
     "output_type": "execute_result"
    }
   ],
   "source": [
    "df_investment_plan2.columns"
   ]
  },
  {
   "cell_type": "markdown",
   "id": "102ae1ee-64f8-47f3-ab78-cfa181993f8e",
   "metadata": {},
   "source": [
    "#### Double test district rank is what I expect"
   ]
  },
  {
   "cell_type": "code",
   "execution_count": 81,
   "id": "69a8b1f5-dbc7-469f-904b-9503009e60fa",
   "metadata": {},
   "outputs": [
    {
     "data": {
      "text/plain": [
       "0"
      ]
     },
     "execution_count": 81,
     "metadata": {},
     "output_type": "execute_result"
    }
   ],
   "source": [
    "# D4 only projects\n",
    "len(df_investment_plan2.loc[df_investment_plan2[\"district\"] == \"4\"])"
   ]
  },
  {
   "cell_type": "code",
   "execution_count": 78,
   "id": "a1b4a5a7-7571-41f0-b9c3-d4197bcf71f7",
   "metadata": {
    "scrolled": true,
    "tags": []
   },
   "outputs": [],
   "source": [
    "# df_investment_plan2.loc[df_investment_plan2['district'] == \"4\"][['fake_benefit_score','district_rank']].sort_values('district_rank')"
   ]
  },
  {
   "cell_type": "markdown",
   "id": "2e02208b-4c29-4890-afd5-d7ca21e1b86a",
   "metadata": {
    "tags": []
   },
   "source": [
    "#### Add median across districts\n",
    "\n",
    "Based on \n",
    "* project cost\n",
    "* unfunded needs\n",
    "* benefit score"
   ]
  },
  {
   "cell_type": "code",
   "execution_count": 79,
   "id": "e17d8e48-58fe-469d-a21c-0c00ca2df5d7",
   "metadata": {},
   "outputs": [
    {
     "ename": "TypeError",
     "evalue": "could not convert string to float: 'None'",
     "output_type": "error",
     "traceback": [
      "\u001b[0;31m---------------------------------------------------------------------------\u001b[0m",
      "\u001b[0;31mNotImplementedError\u001b[0m                       Traceback (most recent call last)",
      "File \u001b[0;32m/opt/conda/lib/python3.9/site-packages/pandas/core/groupby/generic.py:340\u001b[0m, in \u001b[0;36mSeriesGroupBy._cython_agg_general.<locals>.array_func\u001b[0;34m(values)\u001b[0m\n\u001b[1;32m    339\u001b[0m \u001b[38;5;28;01mtry\u001b[39;00m:\n\u001b[0;32m--> 340\u001b[0m     result \u001b[38;5;241m=\u001b[39m \u001b[38;5;28;43mself\u001b[39;49m\u001b[38;5;241;43m.\u001b[39;49m\u001b[43mgrouper\u001b[49m\u001b[38;5;241;43m.\u001b[39;49m\u001b[43m_cython_operation\u001b[49m\u001b[43m(\u001b[49m\n\u001b[1;32m    341\u001b[0m \u001b[43m        \u001b[49m\u001b[38;5;124;43m\"\u001b[39;49m\u001b[38;5;124;43maggregate\u001b[39;49m\u001b[38;5;124;43m\"\u001b[39;49m\u001b[43m,\u001b[49m\u001b[43m \u001b[49m\u001b[43mvalues\u001b[49m\u001b[43m,\u001b[49m\u001b[43m \u001b[49m\u001b[43mhow\u001b[49m\u001b[43m,\u001b[49m\u001b[43m \u001b[49m\u001b[43maxis\u001b[49m\u001b[38;5;241;43m=\u001b[39;49m\u001b[43mdata\u001b[49m\u001b[38;5;241;43m.\u001b[39;49m\u001b[43mndim\u001b[49m\u001b[43m \u001b[49m\u001b[38;5;241;43m-\u001b[39;49m\u001b[43m \u001b[49m\u001b[38;5;241;43m1\u001b[39;49m\u001b[43m,\u001b[49m\u001b[43m \u001b[49m\u001b[43mmin_count\u001b[49m\u001b[38;5;241;43m=\u001b[39;49m\u001b[43mmin_count\u001b[49m\n\u001b[1;32m    342\u001b[0m \u001b[43m    \u001b[49m\u001b[43m)\u001b[49m\n\u001b[1;32m    343\u001b[0m \u001b[38;5;28;01mexcept\u001b[39;00m \u001b[38;5;167;01mNotImplementedError\u001b[39;00m:\n\u001b[1;32m    344\u001b[0m     \u001b[38;5;66;03m# generally if we have numeric_only=False\u001b[39;00m\n\u001b[1;32m    345\u001b[0m     \u001b[38;5;66;03m# and non-applicable functions\u001b[39;00m\n\u001b[1;32m    346\u001b[0m     \u001b[38;5;66;03m# try to python agg\u001b[39;00m\n\u001b[1;32m    347\u001b[0m     \u001b[38;5;66;03m# TODO: shouldn't min_count matter?\u001b[39;00m\n",
      "File \u001b[0;32m/opt/conda/lib/python3.9/site-packages/pandas/core/groupby/ops.py:978\u001b[0m, in \u001b[0;36mBaseGrouper._cython_operation\u001b[0;34m(self, kind, values, how, axis, min_count, **kwargs)\u001b[0m\n\u001b[1;32m    977\u001b[0m ngroups \u001b[38;5;241m=\u001b[39m \u001b[38;5;28mself\u001b[39m\u001b[38;5;241m.\u001b[39mngroups\n\u001b[0;32m--> 978\u001b[0m \u001b[38;5;28;01mreturn\u001b[39;00m \u001b[43mcy_op\u001b[49m\u001b[38;5;241;43m.\u001b[39;49m\u001b[43mcython_operation\u001b[49m\u001b[43m(\u001b[49m\n\u001b[1;32m    979\u001b[0m \u001b[43m    \u001b[49m\u001b[43mvalues\u001b[49m\u001b[38;5;241;43m=\u001b[39;49m\u001b[43mvalues\u001b[49m\u001b[43m,\u001b[49m\n\u001b[1;32m    980\u001b[0m \u001b[43m    \u001b[49m\u001b[43maxis\u001b[49m\u001b[38;5;241;43m=\u001b[39;49m\u001b[43maxis\u001b[49m\u001b[43m,\u001b[49m\n\u001b[1;32m    981\u001b[0m \u001b[43m    \u001b[49m\u001b[43mmin_count\u001b[49m\u001b[38;5;241;43m=\u001b[39;49m\u001b[43mmin_count\u001b[49m\u001b[43m,\u001b[49m\n\u001b[1;32m    982\u001b[0m \u001b[43m    \u001b[49m\u001b[43mcomp_ids\u001b[49m\u001b[38;5;241;43m=\u001b[39;49m\u001b[43mids\u001b[49m\u001b[43m,\u001b[49m\n\u001b[1;32m    983\u001b[0m \u001b[43m    \u001b[49m\u001b[43mngroups\u001b[49m\u001b[38;5;241;43m=\u001b[39;49m\u001b[43mngroups\u001b[49m\u001b[43m,\u001b[49m\n\u001b[1;32m    984\u001b[0m \u001b[43m    \u001b[49m\u001b[38;5;241;43m*\u001b[39;49m\u001b[38;5;241;43m*\u001b[39;49m\u001b[43mkwargs\u001b[49m\u001b[43m,\u001b[49m\n\u001b[1;32m    985\u001b[0m \u001b[43m\u001b[49m\u001b[43m)\u001b[49m\n",
      "File \u001b[0;32m/opt/conda/lib/python3.9/site-packages/pandas/core/groupby/ops.py:639\u001b[0m, in \u001b[0;36mWrappedCythonOp.cython_operation\u001b[0;34m(self, values, axis, min_count, comp_ids, ngroups, **kwargs)\u001b[0m\n\u001b[1;32m    631\u001b[0m     \u001b[38;5;28;01mreturn\u001b[39;00m \u001b[38;5;28mself\u001b[39m\u001b[38;5;241m.\u001b[39m_ea_wrap_cython_operation(\n\u001b[1;32m    632\u001b[0m         values,\n\u001b[1;32m    633\u001b[0m         min_count\u001b[38;5;241m=\u001b[39mmin_count,\n\u001b[0;32m   (...)\u001b[0m\n\u001b[1;32m    636\u001b[0m         \u001b[38;5;241m*\u001b[39m\u001b[38;5;241m*\u001b[39mkwargs,\n\u001b[1;32m    637\u001b[0m     )\n\u001b[0;32m--> 639\u001b[0m \u001b[38;5;28;01mreturn\u001b[39;00m \u001b[38;5;28;43mself\u001b[39;49m\u001b[38;5;241;43m.\u001b[39;49m\u001b[43m_cython_op_ndim_compat\u001b[49m\u001b[43m(\u001b[49m\n\u001b[1;32m    640\u001b[0m \u001b[43m    \u001b[49m\u001b[43mvalues\u001b[49m\u001b[43m,\u001b[49m\n\u001b[1;32m    641\u001b[0m \u001b[43m    \u001b[49m\u001b[43mmin_count\u001b[49m\u001b[38;5;241;43m=\u001b[39;49m\u001b[43mmin_count\u001b[49m\u001b[43m,\u001b[49m\n\u001b[1;32m    642\u001b[0m \u001b[43m    \u001b[49m\u001b[43mngroups\u001b[49m\u001b[38;5;241;43m=\u001b[39;49m\u001b[43mngroups\u001b[49m\u001b[43m,\u001b[49m\n\u001b[1;32m    643\u001b[0m \u001b[43m    \u001b[49m\u001b[43mcomp_ids\u001b[49m\u001b[38;5;241;43m=\u001b[39;49m\u001b[43mcomp_ids\u001b[49m\u001b[43m,\u001b[49m\n\u001b[1;32m    644\u001b[0m \u001b[43m    \u001b[49m\u001b[43mmask\u001b[49m\u001b[38;5;241;43m=\u001b[39;49m\u001b[38;5;28;43;01mNone\u001b[39;49;00m\u001b[43m,\u001b[49m\n\u001b[1;32m    645\u001b[0m \u001b[43m    \u001b[49m\u001b[38;5;241;43m*\u001b[39;49m\u001b[38;5;241;43m*\u001b[39;49m\u001b[43mkwargs\u001b[49m\u001b[43m,\u001b[49m\n\u001b[1;32m    646\u001b[0m \u001b[43m\u001b[49m\u001b[43m)\u001b[49m\n",
      "File \u001b[0;32m/opt/conda/lib/python3.9/site-packages/pandas/core/groupby/ops.py:481\u001b[0m, in \u001b[0;36mWrappedCythonOp._cython_op_ndim_compat\u001b[0;34m(self, values, min_count, ngroups, comp_ids, mask, **kwargs)\u001b[0m\n\u001b[1;32m    480\u001b[0m values2d \u001b[38;5;241m=\u001b[39m values[\u001b[38;5;28;01mNone\u001b[39;00m, :]\n\u001b[0;32m--> 481\u001b[0m res \u001b[38;5;241m=\u001b[39m \u001b[38;5;28;43mself\u001b[39;49m\u001b[38;5;241;43m.\u001b[39;49m\u001b[43m_call_cython_op\u001b[49m\u001b[43m(\u001b[49m\n\u001b[1;32m    482\u001b[0m \u001b[43m    \u001b[49m\u001b[43mvalues2d\u001b[49m\u001b[43m,\u001b[49m\n\u001b[1;32m    483\u001b[0m \u001b[43m    \u001b[49m\u001b[43mmin_count\u001b[49m\u001b[38;5;241;43m=\u001b[39;49m\u001b[43mmin_count\u001b[49m\u001b[43m,\u001b[49m\n\u001b[1;32m    484\u001b[0m \u001b[43m    \u001b[49m\u001b[43mngroups\u001b[49m\u001b[38;5;241;43m=\u001b[39;49m\u001b[43mngroups\u001b[49m\u001b[43m,\u001b[49m\n\u001b[1;32m    485\u001b[0m \u001b[43m    \u001b[49m\u001b[43mcomp_ids\u001b[49m\u001b[38;5;241;43m=\u001b[39;49m\u001b[43mcomp_ids\u001b[49m\u001b[43m,\u001b[49m\n\u001b[1;32m    486\u001b[0m \u001b[43m    \u001b[49m\u001b[43mmask\u001b[49m\u001b[38;5;241;43m=\u001b[39;49m\u001b[43mmask\u001b[49m\u001b[43m,\u001b[49m\n\u001b[1;32m    487\u001b[0m \u001b[43m    \u001b[49m\u001b[38;5;241;43m*\u001b[39;49m\u001b[38;5;241;43m*\u001b[39;49m\u001b[43mkwargs\u001b[49m\u001b[43m,\u001b[49m\n\u001b[1;32m    488\u001b[0m \u001b[43m\u001b[49m\u001b[43m)\u001b[49m\n\u001b[1;32m    489\u001b[0m \u001b[38;5;28;01mif\u001b[39;00m res\u001b[38;5;241m.\u001b[39mshape[\u001b[38;5;241m0\u001b[39m] \u001b[38;5;241m==\u001b[39m \u001b[38;5;241m1\u001b[39m:\n",
      "File \u001b[0;32m/opt/conda/lib/python3.9/site-packages/pandas/core/groupby/ops.py:541\u001b[0m, in \u001b[0;36mWrappedCythonOp._call_cython_op\u001b[0;34m(self, values, min_count, ngroups, comp_ids, mask, **kwargs)\u001b[0m\n\u001b[1;32m    540\u001b[0m out_shape \u001b[38;5;241m=\u001b[39m \u001b[38;5;28mself\u001b[39m\u001b[38;5;241m.\u001b[39m_get_output_shape(ngroups, values)\n\u001b[0;32m--> 541\u001b[0m func, values \u001b[38;5;241m=\u001b[39m \u001b[38;5;28;43mself\u001b[39;49m\u001b[38;5;241;43m.\u001b[39;49m\u001b[43mget_cython_func_and_vals\u001b[49m\u001b[43m(\u001b[49m\u001b[43mvalues\u001b[49m\u001b[43m,\u001b[49m\u001b[43m \u001b[49m\u001b[43mis_numeric\u001b[49m\u001b[43m)\u001b[49m\n\u001b[1;32m    542\u001b[0m out_dtype \u001b[38;5;241m=\u001b[39m \u001b[38;5;28mself\u001b[39m\u001b[38;5;241m.\u001b[39mget_out_dtype(values\u001b[38;5;241m.\u001b[39mdtype)\n",
      "File \u001b[0;32m/opt/conda/lib/python3.9/site-packages/pandas/core/groupby/ops.py:197\u001b[0m, in \u001b[0;36mWrappedCythonOp.get_cython_func_and_vals\u001b[0;34m(self, values, is_numeric)\u001b[0m\n\u001b[1;32m    196\u001b[0m \u001b[38;5;28;01melse\u001b[39;00m:\n\u001b[0;32m--> 197\u001b[0m     \u001b[38;5;28;01mraise\u001b[39;00m \u001b[38;5;167;01mNotImplementedError\u001b[39;00m(\n\u001b[1;32m    198\u001b[0m         \u001b[38;5;124mf\u001b[39m\u001b[38;5;124m\"\u001b[39m\u001b[38;5;124mfunction is not implemented for this dtype: \u001b[39m\u001b[38;5;124m\"\u001b[39m\n\u001b[1;32m    199\u001b[0m         \u001b[38;5;124mf\u001b[39m\u001b[38;5;124m\"\u001b[39m\u001b[38;5;124m[how->\u001b[39m\u001b[38;5;132;01m{\u001b[39;00mhow\u001b[38;5;132;01m}\u001b[39;00m\u001b[38;5;124m,dtype->\u001b[39m\u001b[38;5;132;01m{\u001b[39;00mvalues\u001b[38;5;241m.\u001b[39mdtype\u001b[38;5;241m.\u001b[39mname\u001b[38;5;132;01m}\u001b[39;00m\u001b[38;5;124m]\u001b[39m\u001b[38;5;124m\"\u001b[39m\n\u001b[1;32m    200\u001b[0m     )\n\u001b[1;32m    201\u001b[0m func \u001b[38;5;241m=\u001b[39m \u001b[38;5;28mgetattr\u001b[39m(libgroupby, \u001b[38;5;124mf\u001b[39m\u001b[38;5;124m\"\u001b[39m\u001b[38;5;124mgroup_\u001b[39m\u001b[38;5;132;01m{\u001b[39;00mhow\u001b[38;5;132;01m}\u001b[39;00m\u001b[38;5;124m_float64\u001b[39m\u001b[38;5;124m\"\u001b[39m)\n",
      "\u001b[0;31mNotImplementedError\u001b[0m: function is not implemented for this dtype: [how->median,dtype->object]",
      "\nDuring handling of the above exception, another exception occurred:\n",
      "\u001b[0;31mValueError\u001b[0m                                Traceback (most recent call last)",
      "File \u001b[0;32m/opt/conda/lib/python3.9/site-packages/pandas/core/nanops.py:719\u001b[0m, in \u001b[0;36mnanmedian\u001b[0;34m(values, axis, skipna, mask)\u001b[0m\n\u001b[1;32m    718\u001b[0m \u001b[38;5;28;01mtry\u001b[39;00m:\n\u001b[0;32m--> 719\u001b[0m     values \u001b[38;5;241m=\u001b[39m \u001b[43mvalues\u001b[49m\u001b[38;5;241;43m.\u001b[39;49m\u001b[43mastype\u001b[49m\u001b[43m(\u001b[49m\u001b[38;5;124;43m\"\u001b[39;49m\u001b[38;5;124;43mf8\u001b[39;49m\u001b[38;5;124;43m\"\u001b[39;49m\u001b[43m)\u001b[49m\n\u001b[1;32m    720\u001b[0m \u001b[38;5;28;01mexcept\u001b[39;00m \u001b[38;5;167;01mValueError\u001b[39;00m \u001b[38;5;28;01mas\u001b[39;00m err:\n\u001b[1;32m    721\u001b[0m     \u001b[38;5;66;03m# e.g. \"could not convert string to float: 'a'\"\u001b[39;00m\n",
      "\u001b[0;31mValueError\u001b[0m: could not convert string to float: 'None'",
      "\nThe above exception was the direct cause of the following exception:\n",
      "\u001b[0;31mTypeError\u001b[0m                                 Traceback (most recent call last)",
      "Cell \u001b[0;32mIn[79], line 3\u001b[0m\n\u001b[1;32m      1\u001b[0m \u001b[38;5;66;03m# Grab medians\u001b[39;00m\n\u001b[1;32m      2\u001b[0m summary_district_state \u001b[38;5;241m=\u001b[39m (\n\u001b[0;32m----> 3\u001b[0m     \u001b[43mdf_investment_plan2\u001b[49m\u001b[38;5;241;43m.\u001b[39;49m\u001b[43mgroupby\u001b[49m\u001b[43m(\u001b[49m\u001b[43m[\u001b[49m\u001b[38;5;124;43m\"\u001b[39;49m\u001b[38;5;124;43mdistrict\u001b[39;49m\u001b[38;5;124;43m\"\u001b[39;49m\u001b[43m]\u001b[49m\u001b[43m)\u001b[49m\n\u001b[1;32m      4\u001b[0m \u001b[43m    \u001b[49m\u001b[38;5;241;43m.\u001b[39;49m\u001b[43magg\u001b[49m\u001b[43m(\u001b[49m\n\u001b[1;32m      5\u001b[0m \u001b[43m        \u001b[49m\u001b[43m{\u001b[49m\n\u001b[1;32m      6\u001b[0m \u001b[43m            \u001b[49m\u001b[38;5;124;43m\"\u001b[39;49m\u001b[38;5;124;43mtotal_project_cost__$1,000_\u001b[39;49m\u001b[38;5;124;43m\"\u001b[39;49m\u001b[43m:\u001b[49m\u001b[43m \u001b[49m\u001b[38;5;124;43m\"\u001b[39;49m\u001b[38;5;124;43mmedian\u001b[39;49m\u001b[38;5;124;43m\"\u001b[39;49m\u001b[43m,\u001b[49m\n\u001b[1;32m      7\u001b[0m \u001b[43m            \u001b[49m\u001b[38;5;124;43m\"\u001b[39;49m\u001b[38;5;124;43mfake_benefit_score\u001b[39;49m\u001b[38;5;124;43m\"\u001b[39;49m\u001b[43m:\u001b[49m\u001b[43m \u001b[49m\u001b[38;5;124;43m\"\u001b[39;49m\u001b[38;5;124;43mmedian\u001b[39;49m\u001b[38;5;124;43m\"\u001b[39;49m\u001b[43m,\u001b[49m\n\u001b[1;32m      8\u001b[0m \u001b[43m            \u001b[49m\u001b[38;5;124;43m\"\u001b[39;49m\u001b[38;5;124;43mtotal_unfunded_need__$1,000_\u001b[39;49m\u001b[38;5;124;43m\"\u001b[39;49m\u001b[43m:\u001b[49m\u001b[43m \u001b[49m\u001b[38;5;124;43m\"\u001b[39;49m\u001b[38;5;124;43mmedian\u001b[39;49m\u001b[38;5;124;43m\"\u001b[39;49m\u001b[43m,\u001b[49m\n\u001b[1;32m      9\u001b[0m \u001b[43m            \u001b[49m\u001b[38;5;124;43m\"\u001b[39;49m\u001b[38;5;124;43mcsis_total_score__out_of_45_\u001b[39;49m\u001b[38;5;124;43m\"\u001b[39;49m\u001b[43m:\u001b[49m\u001b[43m \u001b[49m\u001b[38;5;124;43m\"\u001b[39;49m\u001b[38;5;124;43mmedian\u001b[39;49m\u001b[38;5;124;43m\"\u001b[39;49m\u001b[43m,\u001b[49m\n\u001b[1;32m     10\u001b[0m \u001b[43m            \u001b[49m\u001b[38;5;124;43m\"\u001b[39;49m\u001b[38;5;124;43matp_total_score__out_of_100_\u001b[39;49m\u001b[38;5;124;43m\"\u001b[39;49m\u001b[43m:\u001b[49m\u001b[43m \u001b[49m\u001b[38;5;124;43m\"\u001b[39;49m\u001b[38;5;124;43mmedian\u001b[39;49m\u001b[38;5;124;43m\"\u001b[39;49m\n\u001b[1;32m     11\u001b[0m \u001b[43m        \u001b[49m\u001b[43m}\u001b[49m\n\u001b[1;32m     12\u001b[0m \u001b[43m    \u001b[49m\u001b[43m)\u001b[49m\n\u001b[1;32m     13\u001b[0m     \u001b[38;5;241m.\u001b[39mreset_index()\n\u001b[1;32m     14\u001b[0m )\n",
      "File \u001b[0;32m/opt/conda/lib/python3.9/site-packages/pandas/core/groupby/generic.py:979\u001b[0m, in \u001b[0;36mDataFrameGroupBy.aggregate\u001b[0;34m(self, func, engine, engine_kwargs, *args, **kwargs)\u001b[0m\n\u001b[1;32m    976\u001b[0m func \u001b[38;5;241m=\u001b[39m maybe_mangle_lambdas(func)\n\u001b[1;32m    978\u001b[0m op \u001b[38;5;241m=\u001b[39m GroupByApply(\u001b[38;5;28mself\u001b[39m, func, args, kwargs)\n\u001b[0;32m--> 979\u001b[0m result \u001b[38;5;241m=\u001b[39m \u001b[43mop\u001b[49m\u001b[38;5;241;43m.\u001b[39;49m\u001b[43magg\u001b[49m\u001b[43m(\u001b[49m\u001b[43m)\u001b[49m\n\u001b[1;32m    980\u001b[0m \u001b[38;5;28;01mif\u001b[39;00m \u001b[38;5;129;01mnot\u001b[39;00m is_dict_like(func) \u001b[38;5;129;01mand\u001b[39;00m result \u001b[38;5;129;01mis\u001b[39;00m \u001b[38;5;129;01mnot\u001b[39;00m \u001b[38;5;28;01mNone\u001b[39;00m:\n\u001b[1;32m    981\u001b[0m     \u001b[38;5;28;01mreturn\u001b[39;00m result\n",
      "File \u001b[0;32m/opt/conda/lib/python3.9/site-packages/pandas/core/apply.py:161\u001b[0m, in \u001b[0;36mApply.agg\u001b[0;34m(self)\u001b[0m\n\u001b[1;32m    158\u001b[0m     \u001b[38;5;28;01mreturn\u001b[39;00m \u001b[38;5;28mself\u001b[39m\u001b[38;5;241m.\u001b[39mapply_str()\n\u001b[1;32m    160\u001b[0m \u001b[38;5;28;01mif\u001b[39;00m is_dict_like(arg):\n\u001b[0;32m--> 161\u001b[0m     \u001b[38;5;28;01mreturn\u001b[39;00m \u001b[38;5;28;43mself\u001b[39;49m\u001b[38;5;241;43m.\u001b[39;49m\u001b[43magg_dict_like\u001b[49m\u001b[43m(\u001b[49m\u001b[43m)\u001b[49m\n\u001b[1;32m    162\u001b[0m \u001b[38;5;28;01melif\u001b[39;00m is_list_like(arg):\n\u001b[1;32m    163\u001b[0m     \u001b[38;5;66;03m# we require a list, but not a 'str'\u001b[39;00m\n\u001b[1;32m    164\u001b[0m     \u001b[38;5;28;01mreturn\u001b[39;00m \u001b[38;5;28mself\u001b[39m\u001b[38;5;241m.\u001b[39magg_list_like()\n",
      "File \u001b[0;32m/opt/conda/lib/python3.9/site-packages/pandas/core/apply.py:435\u001b[0m, in \u001b[0;36mApply.agg_dict_like\u001b[0;34m(self)\u001b[0m\n\u001b[1;32m    432\u001b[0m     results \u001b[38;5;241m=\u001b[39m {key: colg\u001b[38;5;241m.\u001b[39magg(how) \u001b[38;5;28;01mfor\u001b[39;00m key, how \u001b[38;5;129;01min\u001b[39;00m arg\u001b[38;5;241m.\u001b[39mitems()}\n\u001b[1;32m    433\u001b[0m \u001b[38;5;28;01melse\u001b[39;00m:\n\u001b[1;32m    434\u001b[0m     \u001b[38;5;66;03m# key used for column selection and output\u001b[39;00m\n\u001b[0;32m--> 435\u001b[0m     results \u001b[38;5;241m=\u001b[39m {\n\u001b[1;32m    436\u001b[0m         key: obj\u001b[38;5;241m.\u001b[39m_gotitem(key, ndim\u001b[38;5;241m=\u001b[39m\u001b[38;5;241m1\u001b[39m)\u001b[38;5;241m.\u001b[39magg(how) \u001b[38;5;28;01mfor\u001b[39;00m key, how \u001b[38;5;129;01min\u001b[39;00m arg\u001b[38;5;241m.\u001b[39mitems()\n\u001b[1;32m    437\u001b[0m     }\n\u001b[1;32m    439\u001b[0m \u001b[38;5;66;03m# set the final keys\u001b[39;00m\n\u001b[1;32m    440\u001b[0m keys \u001b[38;5;241m=\u001b[39m \u001b[38;5;28mlist\u001b[39m(arg\u001b[38;5;241m.\u001b[39mkeys())\n",
      "File \u001b[0;32m/opt/conda/lib/python3.9/site-packages/pandas/core/apply.py:436\u001b[0m, in \u001b[0;36m<dictcomp>\u001b[0;34m(.0)\u001b[0m\n\u001b[1;32m    432\u001b[0m     results \u001b[38;5;241m=\u001b[39m {key: colg\u001b[38;5;241m.\u001b[39magg(how) \u001b[38;5;28;01mfor\u001b[39;00m key, how \u001b[38;5;129;01min\u001b[39;00m arg\u001b[38;5;241m.\u001b[39mitems()}\n\u001b[1;32m    433\u001b[0m \u001b[38;5;28;01melse\u001b[39;00m:\n\u001b[1;32m    434\u001b[0m     \u001b[38;5;66;03m# key used for column selection and output\u001b[39;00m\n\u001b[1;32m    435\u001b[0m     results \u001b[38;5;241m=\u001b[39m {\n\u001b[0;32m--> 436\u001b[0m         key: \u001b[43mobj\u001b[49m\u001b[38;5;241;43m.\u001b[39;49m\u001b[43m_gotitem\u001b[49m\u001b[43m(\u001b[49m\u001b[43mkey\u001b[49m\u001b[43m,\u001b[49m\u001b[43m \u001b[49m\u001b[43mndim\u001b[49m\u001b[38;5;241;43m=\u001b[39;49m\u001b[38;5;241;43m1\u001b[39;49m\u001b[43m)\u001b[49m\u001b[38;5;241;43m.\u001b[39;49m\u001b[43magg\u001b[49m\u001b[43m(\u001b[49m\u001b[43mhow\u001b[49m\u001b[43m)\u001b[49m \u001b[38;5;28;01mfor\u001b[39;00m key, how \u001b[38;5;129;01min\u001b[39;00m arg\u001b[38;5;241m.\u001b[39mitems()\n\u001b[1;32m    437\u001b[0m     }\n\u001b[1;32m    439\u001b[0m \u001b[38;5;66;03m# set the final keys\u001b[39;00m\n\u001b[1;32m    440\u001b[0m keys \u001b[38;5;241m=\u001b[39m \u001b[38;5;28mlist\u001b[39m(arg\u001b[38;5;241m.\u001b[39mkeys())\n",
      "File \u001b[0;32m/opt/conda/lib/python3.9/site-packages/pandas/core/groupby/generic.py:243\u001b[0m, in \u001b[0;36mSeriesGroupBy.aggregate\u001b[0;34m(self, func, engine, engine_kwargs, *args, **kwargs)\u001b[0m\n\u001b[1;32m    240\u001b[0m     kwargs \u001b[38;5;241m=\u001b[39m {}\n\u001b[1;32m    242\u001b[0m \u001b[38;5;28;01mif\u001b[39;00m \u001b[38;5;28misinstance\u001b[39m(func, \u001b[38;5;28mstr\u001b[39m):\n\u001b[0;32m--> 243\u001b[0m     \u001b[38;5;28;01mreturn\u001b[39;00m \u001b[38;5;28;43mgetattr\u001b[39;49m\u001b[43m(\u001b[49m\u001b[38;5;28;43mself\u001b[39;49m\u001b[43m,\u001b[49m\u001b[43m \u001b[49m\u001b[43mfunc\u001b[49m\u001b[43m)\u001b[49m\u001b[43m(\u001b[49m\u001b[38;5;241;43m*\u001b[39;49m\u001b[43margs\u001b[49m\u001b[43m,\u001b[49m\u001b[43m \u001b[49m\u001b[38;5;241;43m*\u001b[39;49m\u001b[38;5;241;43m*\u001b[39;49m\u001b[43mkwargs\u001b[49m\u001b[43m)\u001b[49m\n\u001b[1;32m    245\u001b[0m \u001b[38;5;28;01melif\u001b[39;00m \u001b[38;5;28misinstance\u001b[39m(func, abc\u001b[38;5;241m.\u001b[39mIterable):\n\u001b[1;32m    246\u001b[0m     \u001b[38;5;66;03m# Catch instances of lists / tuples\u001b[39;00m\n\u001b[1;32m    247\u001b[0m     \u001b[38;5;66;03m# but not the class list / tuple itself.\u001b[39;00m\n\u001b[1;32m    248\u001b[0m     func \u001b[38;5;241m=\u001b[39m maybe_mangle_lambdas(func)\n",
      "File \u001b[0;32m/opt/conda/lib/python3.9/site-packages/pandas/core/groupby/groupby.py:1713\u001b[0m, in \u001b[0;36mGroupBy.median\u001b[0;34m(self, numeric_only)\u001b[0m\n\u001b[1;32m   1695\u001b[0m \u001b[38;5;124;03m\"\"\"\u001b[39;00m\n\u001b[1;32m   1696\u001b[0m \u001b[38;5;124;03mCompute median of groups, excluding missing values.\u001b[39;00m\n\u001b[1;32m   1697\u001b[0m \n\u001b[0;32m   (...)\u001b[0m\n\u001b[1;32m   1709\u001b[0m \u001b[38;5;124;03m    Median of values within each group.\u001b[39;00m\n\u001b[1;32m   1710\u001b[0m \u001b[38;5;124;03m\"\"\"\u001b[39;00m\n\u001b[1;32m   1711\u001b[0m numeric_only \u001b[38;5;241m=\u001b[39m \u001b[38;5;28mself\u001b[39m\u001b[38;5;241m.\u001b[39m_resolve_numeric_only(numeric_only)\n\u001b[0;32m-> 1713\u001b[0m result \u001b[38;5;241m=\u001b[39m \u001b[38;5;28;43mself\u001b[39;49m\u001b[38;5;241;43m.\u001b[39;49m\u001b[43m_cython_agg_general\u001b[49m\u001b[43m(\u001b[49m\n\u001b[1;32m   1714\u001b[0m \u001b[43m    \u001b[49m\u001b[38;5;124;43m\"\u001b[39;49m\u001b[38;5;124;43mmedian\u001b[39;49m\u001b[38;5;124;43m\"\u001b[39;49m\u001b[43m,\u001b[49m\n\u001b[1;32m   1715\u001b[0m \u001b[43m    \u001b[49m\u001b[43malt\u001b[49m\u001b[38;5;241;43m=\u001b[39;49m\u001b[38;5;28;43;01mlambda\u001b[39;49;00m\u001b[43m \u001b[49m\u001b[43mx\u001b[49m\u001b[43m:\u001b[49m\u001b[43m \u001b[49m\u001b[43mSeries\u001b[49m\u001b[43m(\u001b[49m\u001b[43mx\u001b[49m\u001b[43m)\u001b[49m\u001b[38;5;241;43m.\u001b[39;49m\u001b[43mmedian\u001b[49m\u001b[43m(\u001b[49m\u001b[43mnumeric_only\u001b[49m\u001b[38;5;241;43m=\u001b[39;49m\u001b[43mnumeric_only\u001b[49m\u001b[43m)\u001b[49m\u001b[43m,\u001b[49m\n\u001b[1;32m   1716\u001b[0m \u001b[43m    \u001b[49m\u001b[43mnumeric_only\u001b[49m\u001b[38;5;241;43m=\u001b[39;49m\u001b[43mnumeric_only\u001b[49m\u001b[43m,\u001b[49m\n\u001b[1;32m   1717\u001b[0m \u001b[43m\u001b[49m\u001b[43m)\u001b[49m\n\u001b[1;32m   1718\u001b[0m \u001b[38;5;28;01mreturn\u001b[39;00m result\u001b[38;5;241m.\u001b[39m__finalize__(\u001b[38;5;28mself\u001b[39m\u001b[38;5;241m.\u001b[39mobj, method\u001b[38;5;241m=\u001b[39m\u001b[38;5;124m\"\u001b[39m\u001b[38;5;124mgroupby\u001b[39m\u001b[38;5;124m\"\u001b[39m)\n",
      "File \u001b[0;32m/opt/conda/lib/python3.9/site-packages/pandas/core/groupby/generic.py:352\u001b[0m, in \u001b[0;36mSeriesGroupBy._cython_agg_general\u001b[0;34m(self, how, alt, numeric_only, min_count)\u001b[0m\n\u001b[1;32m    348\u001b[0m         result \u001b[38;5;241m=\u001b[39m \u001b[38;5;28mself\u001b[39m\u001b[38;5;241m.\u001b[39m_agg_py_fallback(values, ndim\u001b[38;5;241m=\u001b[39mdata\u001b[38;5;241m.\u001b[39mndim, alt\u001b[38;5;241m=\u001b[39malt)\n\u001b[1;32m    350\u001b[0m     \u001b[38;5;28;01mreturn\u001b[39;00m result\n\u001b[0;32m--> 352\u001b[0m result \u001b[38;5;241m=\u001b[39m \u001b[43marray_func\u001b[49m\u001b[43m(\u001b[49m\u001b[43mobjvals\u001b[49m\u001b[43m)\u001b[49m\n\u001b[1;32m    354\u001b[0m ser \u001b[38;5;241m=\u001b[39m \u001b[38;5;28mself\u001b[39m\u001b[38;5;241m.\u001b[39mobj\u001b[38;5;241m.\u001b[39m_constructor(\n\u001b[1;32m    355\u001b[0m     result, index\u001b[38;5;241m=\u001b[39m\u001b[38;5;28mself\u001b[39m\u001b[38;5;241m.\u001b[39mgrouper\u001b[38;5;241m.\u001b[39mresult_index, name\u001b[38;5;241m=\u001b[39mobj\u001b[38;5;241m.\u001b[39mname\n\u001b[1;32m    356\u001b[0m )\n\u001b[1;32m    357\u001b[0m \u001b[38;5;28;01mreturn\u001b[39;00m \u001b[38;5;28mself\u001b[39m\u001b[38;5;241m.\u001b[39m_reindex_output(ser)\n",
      "File \u001b[0;32m/opt/conda/lib/python3.9/site-packages/pandas/core/groupby/generic.py:348\u001b[0m, in \u001b[0;36mSeriesGroupBy._cython_agg_general.<locals>.array_func\u001b[0;34m(values)\u001b[0m\n\u001b[1;32m    340\u001b[0m     result \u001b[38;5;241m=\u001b[39m \u001b[38;5;28mself\u001b[39m\u001b[38;5;241m.\u001b[39mgrouper\u001b[38;5;241m.\u001b[39m_cython_operation(\n\u001b[1;32m    341\u001b[0m         \u001b[38;5;124m\"\u001b[39m\u001b[38;5;124maggregate\u001b[39m\u001b[38;5;124m\"\u001b[39m, values, how, axis\u001b[38;5;241m=\u001b[39mdata\u001b[38;5;241m.\u001b[39mndim \u001b[38;5;241m-\u001b[39m \u001b[38;5;241m1\u001b[39m, min_count\u001b[38;5;241m=\u001b[39mmin_count\n\u001b[1;32m    342\u001b[0m     )\n\u001b[1;32m    343\u001b[0m \u001b[38;5;28;01mexcept\u001b[39;00m \u001b[38;5;167;01mNotImplementedError\u001b[39;00m:\n\u001b[1;32m    344\u001b[0m     \u001b[38;5;66;03m# generally if we have numeric_only=False\u001b[39;00m\n\u001b[1;32m    345\u001b[0m     \u001b[38;5;66;03m# and non-applicable functions\u001b[39;00m\n\u001b[1;32m    346\u001b[0m     \u001b[38;5;66;03m# try to python agg\u001b[39;00m\n\u001b[1;32m    347\u001b[0m     \u001b[38;5;66;03m# TODO: shouldn't min_count matter?\u001b[39;00m\n\u001b[0;32m--> 348\u001b[0m     result \u001b[38;5;241m=\u001b[39m \u001b[38;5;28;43mself\u001b[39;49m\u001b[38;5;241;43m.\u001b[39;49m\u001b[43m_agg_py_fallback\u001b[49m\u001b[43m(\u001b[49m\u001b[43mvalues\u001b[49m\u001b[43m,\u001b[49m\u001b[43m \u001b[49m\u001b[43mndim\u001b[49m\u001b[38;5;241;43m=\u001b[39;49m\u001b[43mdata\u001b[49m\u001b[38;5;241;43m.\u001b[39;49m\u001b[43mndim\u001b[49m\u001b[43m,\u001b[49m\u001b[43m \u001b[49m\u001b[43malt\u001b[49m\u001b[38;5;241;43m=\u001b[39;49m\u001b[43malt\u001b[49m\u001b[43m)\u001b[49m\n\u001b[1;32m    350\u001b[0m \u001b[38;5;28;01mreturn\u001b[39;00m result\n",
      "File \u001b[0;32m/opt/conda/lib/python3.9/site-packages/pandas/core/groupby/groupby.py:1395\u001b[0m, in \u001b[0;36mGroupBy._agg_py_fallback\u001b[0;34m(self, values, ndim, alt)\u001b[0m\n\u001b[1;32m   1390\u001b[0m     ser \u001b[38;5;241m=\u001b[39m df\u001b[38;5;241m.\u001b[39miloc[:, \u001b[38;5;241m0\u001b[39m]\n\u001b[1;32m   1392\u001b[0m \u001b[38;5;66;03m# We do not get here with UDFs, so we know that our dtype\u001b[39;00m\n\u001b[1;32m   1393\u001b[0m \u001b[38;5;66;03m#  should always be preserved by the implemented aggregations\u001b[39;00m\n\u001b[1;32m   1394\u001b[0m \u001b[38;5;66;03m# TODO: Is this exactly right; see WrappedCythonOp get_result_dtype?\u001b[39;00m\n\u001b[0;32m-> 1395\u001b[0m res_values \u001b[38;5;241m=\u001b[39m \u001b[38;5;28;43mself\u001b[39;49m\u001b[38;5;241;43m.\u001b[39;49m\u001b[43mgrouper\u001b[49m\u001b[38;5;241;43m.\u001b[39;49m\u001b[43magg_series\u001b[49m\u001b[43m(\u001b[49m\u001b[43mser\u001b[49m\u001b[43m,\u001b[49m\u001b[43m \u001b[49m\u001b[43malt\u001b[49m\u001b[43m,\u001b[49m\u001b[43m \u001b[49m\u001b[43mpreserve_dtype\u001b[49m\u001b[38;5;241;43m=\u001b[39;49m\u001b[38;5;28;43;01mTrue\u001b[39;49;00m\u001b[43m)\u001b[49m\n\u001b[1;32m   1397\u001b[0m \u001b[38;5;28;01mif\u001b[39;00m \u001b[38;5;28misinstance\u001b[39m(values, Categorical):\n\u001b[1;32m   1398\u001b[0m     \u001b[38;5;66;03m# Because we only get here with known dtype-preserving\u001b[39;00m\n\u001b[1;32m   1399\u001b[0m     \u001b[38;5;66;03m#  reductions, we cast back to Categorical.\u001b[39;00m\n\u001b[1;32m   1400\u001b[0m     \u001b[38;5;66;03m# TODO: if we ever get \"rank\" working, exclude it here.\u001b[39;00m\n\u001b[1;32m   1401\u001b[0m     res_values \u001b[38;5;241m=\u001b[39m \u001b[38;5;28mtype\u001b[39m(values)\u001b[38;5;241m.\u001b[39m_from_sequence(res_values, dtype\u001b[38;5;241m=\u001b[39mvalues\u001b[38;5;241m.\u001b[39mdtype)\n",
      "File \u001b[0;32m/opt/conda/lib/python3.9/site-packages/pandas/core/groupby/ops.py:1028\u001b[0m, in \u001b[0;36mBaseGrouper.agg_series\u001b[0;34m(self, obj, func, preserve_dtype)\u001b[0m\n\u001b[1;32m   1025\u001b[0m     result \u001b[38;5;241m=\u001b[39m \u001b[38;5;28mself\u001b[39m\u001b[38;5;241m.\u001b[39m_aggregate_series_pure_python(obj, func)\n\u001b[1;32m   1027\u001b[0m \u001b[38;5;28;01melse\u001b[39;00m:\n\u001b[0;32m-> 1028\u001b[0m     result \u001b[38;5;241m=\u001b[39m \u001b[38;5;28;43mself\u001b[39;49m\u001b[38;5;241;43m.\u001b[39;49m\u001b[43m_aggregate_series_fast\u001b[49m\u001b[43m(\u001b[49m\u001b[43mobj\u001b[49m\u001b[43m,\u001b[49m\u001b[43m \u001b[49m\u001b[43mfunc\u001b[49m\u001b[43m)\u001b[49m\n\u001b[1;32m   1030\u001b[0m npvalues \u001b[38;5;241m=\u001b[39m lib\u001b[38;5;241m.\u001b[39mmaybe_convert_objects(result, try_float\u001b[38;5;241m=\u001b[39m\u001b[38;5;28;01mFalse\u001b[39;00m)\n\u001b[1;32m   1031\u001b[0m \u001b[38;5;28;01mif\u001b[39;00m preserve_dtype:\n",
      "File \u001b[0;32m/opt/conda/lib/python3.9/site-packages/pandas/core/groupby/ops.py:1053\u001b[0m, in \u001b[0;36mBaseGrouper._aggregate_series_fast\u001b[0;34m(self, obj, func)\u001b[0m\n\u001b[1;32m   1051\u001b[0m ids \u001b[38;5;241m=\u001b[39m ids\u001b[38;5;241m.\u001b[39mtake(indexer)\n\u001b[1;32m   1052\u001b[0m sgrouper \u001b[38;5;241m=\u001b[39m libreduction\u001b[38;5;241m.\u001b[39mSeriesGrouper(obj, func, ids, ngroups)\n\u001b[0;32m-> 1053\u001b[0m result, _ \u001b[38;5;241m=\u001b[39m \u001b[43msgrouper\u001b[49m\u001b[38;5;241;43m.\u001b[39;49m\u001b[43mget_result\u001b[49m\u001b[43m(\u001b[49m\u001b[43m)\u001b[49m\n\u001b[1;32m   1054\u001b[0m \u001b[38;5;28;01mreturn\u001b[39;00m result\n",
      "File \u001b[0;32m/opt/conda/lib/python3.9/site-packages/pandas/_libs/reduction.pyx:281\u001b[0m, in \u001b[0;36mpandas._libs.reduction.SeriesGrouper.get_result\u001b[0;34m()\u001b[0m\n",
      "File \u001b[0;32m/opt/conda/lib/python3.9/site-packages/pandas/_libs/reduction.pyx:88\u001b[0m, in \u001b[0;36mpandas._libs.reduction._BaseGrouper._apply_to_group\u001b[0;34m()\u001b[0m\n",
      "File \u001b[0;32m/opt/conda/lib/python3.9/site-packages/pandas/core/groupby/groupby.py:1715\u001b[0m, in \u001b[0;36mGroupBy.median.<locals>.<lambda>\u001b[0;34m(x)\u001b[0m\n\u001b[1;32m   1695\u001b[0m \u001b[38;5;124;03m\"\"\"\u001b[39;00m\n\u001b[1;32m   1696\u001b[0m \u001b[38;5;124;03mCompute median of groups, excluding missing values.\u001b[39;00m\n\u001b[1;32m   1697\u001b[0m \n\u001b[0;32m   (...)\u001b[0m\n\u001b[1;32m   1709\u001b[0m \u001b[38;5;124;03m    Median of values within each group.\u001b[39;00m\n\u001b[1;32m   1710\u001b[0m \u001b[38;5;124;03m\"\"\"\u001b[39;00m\n\u001b[1;32m   1711\u001b[0m numeric_only \u001b[38;5;241m=\u001b[39m \u001b[38;5;28mself\u001b[39m\u001b[38;5;241m.\u001b[39m_resolve_numeric_only(numeric_only)\n\u001b[1;32m   1713\u001b[0m result \u001b[38;5;241m=\u001b[39m \u001b[38;5;28mself\u001b[39m\u001b[38;5;241m.\u001b[39m_cython_agg_general(\n\u001b[1;32m   1714\u001b[0m     \u001b[38;5;124m\"\u001b[39m\u001b[38;5;124mmedian\u001b[39m\u001b[38;5;124m\"\u001b[39m,\n\u001b[0;32m-> 1715\u001b[0m     alt\u001b[38;5;241m=\u001b[39m\u001b[38;5;28;01mlambda\u001b[39;00m x: \u001b[43mSeries\u001b[49m\u001b[43m(\u001b[49m\u001b[43mx\u001b[49m\u001b[43m)\u001b[49m\u001b[38;5;241;43m.\u001b[39;49m\u001b[43mmedian\u001b[49m\u001b[43m(\u001b[49m\u001b[43mnumeric_only\u001b[49m\u001b[38;5;241;43m=\u001b[39;49m\u001b[43mnumeric_only\u001b[49m\u001b[43m)\u001b[49m,\n\u001b[1;32m   1716\u001b[0m     numeric_only\u001b[38;5;241m=\u001b[39mnumeric_only,\n\u001b[1;32m   1717\u001b[0m )\n\u001b[1;32m   1718\u001b[0m \u001b[38;5;28;01mreturn\u001b[39;00m result\u001b[38;5;241m.\u001b[39m__finalize__(\u001b[38;5;28mself\u001b[39m\u001b[38;5;241m.\u001b[39mobj, method\u001b[38;5;241m=\u001b[39m\u001b[38;5;124m\"\u001b[39m\u001b[38;5;124mgroupby\u001b[39m\u001b[38;5;124m\"\u001b[39m)\n",
      "File \u001b[0;32m/opt/conda/lib/python3.9/site-packages/pandas/core/generic.py:10802\u001b[0m, in \u001b[0;36mNDFrame._add_numeric_operations.<locals>.median\u001b[0;34m(self, axis, skipna, level, numeric_only, **kwargs)\u001b[0m\n\u001b[1;32m  10789\u001b[0m \u001b[38;5;129m@doc\u001b[39m(\n\u001b[1;32m  10790\u001b[0m     _num_doc,\n\u001b[1;32m  10791\u001b[0m     desc\u001b[38;5;241m=\u001b[39m\u001b[38;5;124m\"\u001b[39m\u001b[38;5;124mReturn the median of the values over the requested axis.\u001b[39m\u001b[38;5;124m\"\u001b[39m,\n\u001b[0;32m   (...)\u001b[0m\n\u001b[1;32m  10800\u001b[0m     \u001b[38;5;28mself\u001b[39m, axis\u001b[38;5;241m=\u001b[39m\u001b[38;5;28;01mNone\u001b[39;00m, skipna\u001b[38;5;241m=\u001b[39m\u001b[38;5;28;01mNone\u001b[39;00m, level\u001b[38;5;241m=\u001b[39m\u001b[38;5;28;01mNone\u001b[39;00m, numeric_only\u001b[38;5;241m=\u001b[39m\u001b[38;5;28;01mNone\u001b[39;00m, \u001b[38;5;241m*\u001b[39m\u001b[38;5;241m*\u001b[39mkwargs\n\u001b[1;32m  10801\u001b[0m ):\n\u001b[0;32m> 10802\u001b[0m     \u001b[38;5;28;01mreturn\u001b[39;00m \u001b[43mNDFrame\u001b[49m\u001b[38;5;241;43m.\u001b[39;49m\u001b[43mmedian\u001b[49m\u001b[43m(\u001b[49m\u001b[38;5;28;43mself\u001b[39;49m\u001b[43m,\u001b[49m\u001b[43m \u001b[49m\u001b[43maxis\u001b[49m\u001b[43m,\u001b[49m\u001b[43m \u001b[49m\u001b[43mskipna\u001b[49m\u001b[43m,\u001b[49m\u001b[43m \u001b[49m\u001b[43mlevel\u001b[49m\u001b[43m,\u001b[49m\u001b[43m \u001b[49m\u001b[43mnumeric_only\u001b[49m\u001b[43m,\u001b[49m\u001b[43m \u001b[49m\u001b[38;5;241;43m*\u001b[39;49m\u001b[38;5;241;43m*\u001b[39;49m\u001b[43mkwargs\u001b[49m\u001b[43m)\u001b[49m\n",
      "File \u001b[0;32m/opt/conda/lib/python3.9/site-packages/pandas/core/generic.py:10374\u001b[0m, in \u001b[0;36mNDFrame.median\u001b[0;34m(self, axis, skipna, level, numeric_only, **kwargs)\u001b[0m\n\u001b[1;32m  10373\u001b[0m \u001b[38;5;28;01mdef\u001b[39;00m \u001b[38;5;21mmedian\u001b[39m(\u001b[38;5;28mself\u001b[39m, axis\u001b[38;5;241m=\u001b[39m\u001b[38;5;28;01mNone\u001b[39;00m, skipna\u001b[38;5;241m=\u001b[39m\u001b[38;5;28;01mNone\u001b[39;00m, level\u001b[38;5;241m=\u001b[39m\u001b[38;5;28;01mNone\u001b[39;00m, numeric_only\u001b[38;5;241m=\u001b[39m\u001b[38;5;28;01mNone\u001b[39;00m, \u001b[38;5;241m*\u001b[39m\u001b[38;5;241m*\u001b[39mkwargs):\n\u001b[0;32m> 10374\u001b[0m     \u001b[38;5;28;01mreturn\u001b[39;00m \u001b[38;5;28;43mself\u001b[39;49m\u001b[38;5;241;43m.\u001b[39;49m\u001b[43m_stat_function\u001b[49m\u001b[43m(\u001b[49m\n\u001b[1;32m  10375\u001b[0m \u001b[43m        \u001b[49m\u001b[38;5;124;43m\"\u001b[39;49m\u001b[38;5;124;43mmedian\u001b[39;49m\u001b[38;5;124;43m\"\u001b[39;49m\u001b[43m,\u001b[49m\u001b[43m \u001b[49m\u001b[43mnanops\u001b[49m\u001b[38;5;241;43m.\u001b[39;49m\u001b[43mnanmedian\u001b[49m\u001b[43m,\u001b[49m\u001b[43m \u001b[49m\u001b[43maxis\u001b[49m\u001b[43m,\u001b[49m\u001b[43m \u001b[49m\u001b[43mskipna\u001b[49m\u001b[43m,\u001b[49m\u001b[43m \u001b[49m\u001b[43mlevel\u001b[49m\u001b[43m,\u001b[49m\u001b[43m \u001b[49m\u001b[43mnumeric_only\u001b[49m\u001b[43m,\u001b[49m\u001b[43m \u001b[49m\u001b[38;5;241;43m*\u001b[39;49m\u001b[38;5;241;43m*\u001b[39;49m\u001b[43mkwargs\u001b[49m\n\u001b[1;32m  10376\u001b[0m \u001b[43m    \u001b[49m\u001b[43m)\u001b[49m\n",
      "File \u001b[0;32m/opt/conda/lib/python3.9/site-packages/pandas/core/generic.py:10354\u001b[0m, in \u001b[0;36mNDFrame._stat_function\u001b[0;34m(self, name, func, axis, skipna, level, numeric_only, **kwargs)\u001b[0m\n\u001b[1;32m  10344\u001b[0m     warnings\u001b[38;5;241m.\u001b[39mwarn(\n\u001b[1;32m  10345\u001b[0m         \u001b[38;5;124m\"\u001b[39m\u001b[38;5;124mUsing the level keyword in DataFrame and Series aggregations is \u001b[39m\u001b[38;5;124m\"\u001b[39m\n\u001b[1;32m  10346\u001b[0m         \u001b[38;5;124m\"\u001b[39m\u001b[38;5;124mdeprecated and will be removed in a future version. Use groupby \u001b[39m\u001b[38;5;124m\"\u001b[39m\n\u001b[0;32m   (...)\u001b[0m\n\u001b[1;32m  10349\u001b[0m         stacklevel\u001b[38;5;241m=\u001b[39m\u001b[38;5;241m4\u001b[39m,\n\u001b[1;32m  10350\u001b[0m     )\n\u001b[1;32m  10351\u001b[0m     \u001b[38;5;28;01mreturn\u001b[39;00m \u001b[38;5;28mself\u001b[39m\u001b[38;5;241m.\u001b[39m_agg_by_level(\n\u001b[1;32m  10352\u001b[0m         name, axis\u001b[38;5;241m=\u001b[39maxis, level\u001b[38;5;241m=\u001b[39mlevel, skipna\u001b[38;5;241m=\u001b[39mskipna, numeric_only\u001b[38;5;241m=\u001b[39mnumeric_only\n\u001b[1;32m  10353\u001b[0m     )\n\u001b[0;32m> 10354\u001b[0m \u001b[38;5;28;01mreturn\u001b[39;00m \u001b[38;5;28;43mself\u001b[39;49m\u001b[38;5;241;43m.\u001b[39;49m\u001b[43m_reduce\u001b[49m\u001b[43m(\u001b[49m\n\u001b[1;32m  10355\u001b[0m \u001b[43m    \u001b[49m\u001b[43mfunc\u001b[49m\u001b[43m,\u001b[49m\u001b[43m \u001b[49m\u001b[43mname\u001b[49m\u001b[38;5;241;43m=\u001b[39;49m\u001b[43mname\u001b[49m\u001b[43m,\u001b[49m\u001b[43m \u001b[49m\u001b[43maxis\u001b[49m\u001b[38;5;241;43m=\u001b[39;49m\u001b[43maxis\u001b[49m\u001b[43m,\u001b[49m\u001b[43m \u001b[49m\u001b[43mskipna\u001b[49m\u001b[38;5;241;43m=\u001b[39;49m\u001b[43mskipna\u001b[49m\u001b[43m,\u001b[49m\u001b[43m \u001b[49m\u001b[43mnumeric_only\u001b[49m\u001b[38;5;241;43m=\u001b[39;49m\u001b[43mnumeric_only\u001b[49m\n\u001b[1;32m  10356\u001b[0m \u001b[43m\u001b[49m\u001b[43m)\u001b[49m\n",
      "File \u001b[0;32m/opt/conda/lib/python3.9/site-packages/pandas/core/series.py:4392\u001b[0m, in \u001b[0;36mSeries._reduce\u001b[0;34m(self, op, name, axis, skipna, numeric_only, filter_type, **kwds)\u001b[0m\n\u001b[1;32m   4388\u001b[0m     \u001b[38;5;28;01mraise\u001b[39;00m \u001b[38;5;167;01mNotImplementedError\u001b[39;00m(\n\u001b[1;32m   4389\u001b[0m         \u001b[38;5;124mf\u001b[39m\u001b[38;5;124m\"\u001b[39m\u001b[38;5;124mSeries.\u001b[39m\u001b[38;5;132;01m{\u001b[39;00mname\u001b[38;5;132;01m}\u001b[39;00m\u001b[38;5;124m does not implement numeric_only.\u001b[39m\u001b[38;5;124m\"\u001b[39m\n\u001b[1;32m   4390\u001b[0m     )\n\u001b[1;32m   4391\u001b[0m \u001b[38;5;28;01mwith\u001b[39;00m np\u001b[38;5;241m.\u001b[39merrstate(\u001b[38;5;28mall\u001b[39m\u001b[38;5;241m=\u001b[39m\u001b[38;5;124m\"\u001b[39m\u001b[38;5;124mignore\u001b[39m\u001b[38;5;124m\"\u001b[39m):\n\u001b[0;32m-> 4392\u001b[0m     \u001b[38;5;28;01mreturn\u001b[39;00m \u001b[43mop\u001b[49m\u001b[43m(\u001b[49m\u001b[43mdelegate\u001b[49m\u001b[43m,\u001b[49m\u001b[43m \u001b[49m\u001b[43mskipna\u001b[49m\u001b[38;5;241;43m=\u001b[39;49m\u001b[43mskipna\u001b[49m\u001b[43m,\u001b[49m\u001b[43m \u001b[49m\u001b[38;5;241;43m*\u001b[39;49m\u001b[38;5;241;43m*\u001b[39;49m\u001b[43mkwds\u001b[49m\u001b[43m)\u001b[49m\n",
      "File \u001b[0;32m/opt/conda/lib/python3.9/site-packages/pandas/core/nanops.py:155\u001b[0m, in \u001b[0;36mbottleneck_switch.__call__.<locals>.f\u001b[0;34m(values, axis, skipna, **kwds)\u001b[0m\n\u001b[1;32m    153\u001b[0m         result \u001b[38;5;241m=\u001b[39m alt(values, axis\u001b[38;5;241m=\u001b[39maxis, skipna\u001b[38;5;241m=\u001b[39mskipna, \u001b[38;5;241m*\u001b[39m\u001b[38;5;241m*\u001b[39mkwds)\n\u001b[1;32m    154\u001b[0m \u001b[38;5;28;01melse\u001b[39;00m:\n\u001b[0;32m--> 155\u001b[0m     result \u001b[38;5;241m=\u001b[39m \u001b[43malt\u001b[49m\u001b[43m(\u001b[49m\u001b[43mvalues\u001b[49m\u001b[43m,\u001b[49m\u001b[43m \u001b[49m\u001b[43maxis\u001b[49m\u001b[38;5;241;43m=\u001b[39;49m\u001b[43maxis\u001b[49m\u001b[43m,\u001b[49m\u001b[43m \u001b[49m\u001b[43mskipna\u001b[49m\u001b[38;5;241;43m=\u001b[39;49m\u001b[43mskipna\u001b[49m\u001b[43m,\u001b[49m\u001b[43m \u001b[49m\u001b[38;5;241;43m*\u001b[39;49m\u001b[38;5;241;43m*\u001b[39;49m\u001b[43mkwds\u001b[49m\u001b[43m)\u001b[49m\n\u001b[1;32m    157\u001b[0m \u001b[38;5;28;01mreturn\u001b[39;00m result\n",
      "File \u001b[0;32m/opt/conda/lib/python3.9/site-packages/pandas/core/nanops.py:722\u001b[0m, in \u001b[0;36mnanmedian\u001b[0;34m(values, axis, skipna, mask)\u001b[0m\n\u001b[1;32m    719\u001b[0m     values \u001b[38;5;241m=\u001b[39m values\u001b[38;5;241m.\u001b[39mastype(\u001b[38;5;124m\"\u001b[39m\u001b[38;5;124mf8\u001b[39m\u001b[38;5;124m\"\u001b[39m)\n\u001b[1;32m    720\u001b[0m \u001b[38;5;28;01mexcept\u001b[39;00m \u001b[38;5;167;01mValueError\u001b[39;00m \u001b[38;5;28;01mas\u001b[39;00m err:\n\u001b[1;32m    721\u001b[0m     \u001b[38;5;66;03m# e.g. \"could not convert string to float: 'a'\"\u001b[39;00m\n\u001b[0;32m--> 722\u001b[0m     \u001b[38;5;28;01mraise\u001b[39;00m \u001b[38;5;167;01mTypeError\u001b[39;00m(\u001b[38;5;28mstr\u001b[39m(err)) \u001b[38;5;28;01mfrom\u001b[39;00m \u001b[38;5;21;01merr\u001b[39;00m\n\u001b[1;32m    723\u001b[0m \u001b[38;5;28;01mif\u001b[39;00m mask \u001b[38;5;129;01mis\u001b[39;00m \u001b[38;5;129;01mnot\u001b[39;00m \u001b[38;5;28;01mNone\u001b[39;00m:\n\u001b[1;32m    724\u001b[0m     values[mask] \u001b[38;5;241m=\u001b[39m np\u001b[38;5;241m.\u001b[39mnan\n",
      "\u001b[0;31mTypeError\u001b[0m: could not convert string to float: 'None'"
     ]
    }
   ],
   "source": [
    "# Grab medians\n",
    "summary_district_state = (\n",
    "    df_investment_plan2.groupby([\"district\"])\n",
    "    .agg(\n",
    "        {\n",
    "            \"total_project_cost__$1,000_\": \"median\",\n",
    "            \"fake_benefit_score\": \"median\",\n",
    "            \"total_unfunded_need__$1,000_\": \"median\",\n",
    "            \"csis_total_score__out_of_45_\": \"median\",\n",
    "            \"atp_total_score__out_of_100_\": \"median\"\n",
    "        }\n",
    "    )\n",
    "    .reset_index()\n",
    ")"
   ]
  },
  {
   "cell_type": "code",
   "execution_count": null,
   "id": "0916c3bc-ccd6-4fd8-8809-8efb714361c4",
   "metadata": {},
   "outputs": [],
   "source": [
    "# Add suffixes\n",
    "summary_district_state = summary_district_state.add_suffix(\"_district_median_\")"
   ]
  },
  {
   "cell_type": "code",
   "execution_count": null,
   "id": "238504cb-a661-4f30-b075-c2ba62d37cbf",
   "metadata": {},
   "outputs": [],
   "source": [
    "df_investment_plan2 = pd.merge(\n",
    "    df_investment_plan2,\n",
    "    summary_district_state,\n",
    "    left_on=\"district\",\n",
    "    right_on=\"district_district_median_\",\n",
    "    how=\"left\",\n",
    ")"
   ]
  },
  {
   "cell_type": "markdown",
   "id": "9de85d34-0362-4993-981a-5eb0f5a196b2",
   "metadata": {},
   "source": [
    "### Final checks before Saving"
   ]
  },
  {
   "cell_type": "code",
   "execution_count": null,
   "id": "29bc8c57-996b-4209-b059-feea9e778d0c",
   "metadata": {},
   "outputs": [],
   "source": [
    "# Make sure the lengths are correct\n",
    "df_investment_plan2.project_name.nunique(), df_investment_plan.project_name.nunique()"
   ]
  },
  {
   "cell_type": "code",
   "execution_count": null,
   "id": "150078bf-26f0-4fe2-b458-21c2c0db0a3b",
   "metadata": {},
   "outputs": [],
   "source": [
    "len(df_investment_plan2)"
   ]
  },
  {
   "cell_type": "code",
   "execution_count": null,
   "id": "86d4884e-a593-4900-ab24-0d83061f1eae",
   "metadata": {},
   "outputs": [],
   "source": [
    "unwanted_cols = [\n",
    "    \"abbrev_\",\n",
    "    \"_merge\",\n",
    "    \"_2023\",\n",
    "    \"_2024\",\n",
    "    \"_2025\",\n",
    "    \"_2026\",\n",
    "    \"_2027\",\n",
    "    \"_2028\",\n",
    "    \"_2029\",\n",
    "    \"_2030\",\n",
    "    \"_2031\",\n",
    "    \"_2032\",\n",
    "    \"_2033\",\n",
    "]"
   ]
  },
  {
   "cell_type": "code",
   "execution_count": null,
   "id": "ad758c6a-6734-4b69-9085-d17d7030b080",
   "metadata": {},
   "outputs": [],
   "source": [
    "df_investment_plan2 = df_investment_plan2.drop(columns=unwanted_cols)"
   ]
  },
  {
   "cell_type": "code",
   "execution_count": null,
   "id": "2cb93d6d-acd1-4349-930a-306155e5a16a",
   "metadata": {},
   "outputs": [],
   "source": [
    "df_investment_plan2 = _utils.clean_up_columns(df_investment_plan2)"
   ]
  },
  {
   "cell_type": "code",
   "execution_count": null,
   "id": "d9563708-f325-44c5-bcc5-71d189079bdd",
   "metadata": {},
   "outputs": [],
   "source": [
    "df_investment_plan2.isnull().sum()"
   ]
  },
  {
   "cell_type": "code",
   "execution_count": null,
   "id": "a3e60806-a07b-4477-9533-90bbfb1d5a9d",
   "metadata": {
    "tags": []
   },
   "outputs": [],
   "source": [
    "\"\"\"\n",
    "df_investment_plan2.to_excel(\n",
    "    f\"{GCS_FILE_PATH}fake_data.xlsx\", sheet_name=\"fake\", index=False\n",
    ")\"\"\""
   ]
  }
 ],
 "metadata": {
  "kernelspec": {
   "display_name": "Python 3 (ipykernel)",
   "language": "python",
   "name": "python3"
  },
  "language_info": {
   "codemirror_mode": {
    "name": "ipython",
    "version": 3
   },
   "file_extension": ".py",
   "mimetype": "text/x-python",
   "name": "python",
   "nbconvert_exporter": "python",
   "pygments_lexer": "ipython3",
   "version": "3.9.13"
  }
 },
 "nbformat": 4,
 "nbformat_minor": 5
}
