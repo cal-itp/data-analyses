{
 "cells": [
  {
   "cell_type": "markdown",
   "id": "c97654de-9428-4e4b-9ae9-323e8469a52a",
   "metadata": {},
   "source": [
    "# Exploring 10 Year Non Shopp Data\n",
    "* [Using Smart Sheet.](https://app.smartsheet.com/workspaces/8MgpHcXR4GJVM5GvWWMmQg7M8gqhJj88Gfh54Pr1)"
   ]
  },
  {
   "cell_type": "code",
   "execution_count": null,
   "id": "961bd8c3-fc92-4a72-a106-bb542fdf4e87",
   "metadata": {},
   "outputs": [],
   "source": [
    "import numpy as np\n",
    "import pandas as pd\n",
    "from babel.numbers import format_currency\n",
    "from calitp import *\n",
    "from shared_utils import portfolio_utils"
   ]
  },
  {
   "cell_type": "code",
   "execution_count": null,
   "id": "9057dd1d-8c22-42bf-a2fd-6cfae1710ee4",
   "metadata": {},
   "outputs": [],
   "source": [
    "pd.options.display.max_columns = 100\n",
    "pd.set_option(\"display.max_rows\", None)\n",
    "pd.set_option(\"display.max_colwidth\", None)"
   ]
  },
  {
   "cell_type": "code",
   "execution_count": null,
   "id": "f31abc44-d445-44b6-a04b-5d9a3cfb2eab",
   "metadata": {},
   "outputs": [],
   "source": [
    "import _utils"
   ]
  },
  {
   "cell_type": "code",
   "execution_count": null,
   "id": "ec08614f-a868-48ea-9106-dd02ac2906fd",
   "metadata": {},
   "outputs": [],
   "source": [
    "GCS_FILE_PATH = \"gs://calitp-analytics-data/data-analyses/project_prioritization/\""
   ]
  },
  {
   "cell_type": "markdown",
   "id": "1d42682a-749d-4275-8272-137eab874cfe",
   "metadata": {},
   "source": [
    "## Investment Plan"
   ]
  },
  {
   "cell_type": "code",
   "execution_count": null,
   "id": "6847a64e-af90-41ef-ba56-096851faa798",
   "metadata": {},
   "outputs": [],
   "source": [
    "# Open first sheet.\n",
    "df_investment_plan = to_snakecase(\n",
    "    pd.read_excel(f\"{GCS_FILE_PATH}10 Year Non-SHOPP Investment Plan.xlsx\")\n",
    ")"
   ]
  },
  {
   "cell_type": "markdown",
   "id": "a3921826-0c96-4692-a9e8-756134ca33d1",
   "metadata": {},
   "source": [
    "### Look at null values for each column"
   ]
  },
  {
   "cell_type": "code",
   "execution_count": null,
   "id": "6555d5cb-5b9a-4437-adf2-6e0bcee03ba5",
   "metadata": {},
   "outputs": [],
   "source": [
    "df_investment_plan.info()"
   ]
  },
  {
   "cell_type": "markdown",
   "id": "007a66e8-9d05-4156-9ecc-6a17d0603ac9",
   "metadata": {},
   "source": [
    "### Some Cleaning"
   ]
  },
  {
   "cell_type": "code",
   "execution_count": null,
   "id": "4b7d4d5e-a9d0-44ed-95b8-95a3cd005de8",
   "metadata": {},
   "outputs": [],
   "source": [
    "# Clean up monetary columns\n",
    "df_investment_plan[\"total_project_cost__$1,000_\"] = df_investment_plan[\n",
    "    \"total_project_cost__$1,000_\"\n",
    "].replace(\n",
    "    {\n",
    "        \"Phase 1 (SR-60 to Mission Blvd) - $174,000\\nPhase 2 (Mission Blvd to I-10) - $170,000\": 344000,\n",
    "        \"$85,738 (Cycle 2)\": 85738,\n",
    "        \"Oxnard to Camarillo 2nd Main Track: $15,000\\nOxnard Station North Platform: $20,000\": 35000,\n",
    "        \"$214,000\\nPhase 1: $82,000\\nPhase 2: $132,000\": 214000,\n",
    "        \"$-\": 0,\n",
    "        \"TBD\": 0,\n",
    "    }\n",
    ")"
   ]
  },
  {
   "cell_type": "code",
   "execution_count": null,
   "id": "81573a9b-5327-4329-8711-729a5bccc00a",
   "metadata": {},
   "outputs": [],
   "source": [
    "# Fill in total project cost with fake number and cast to float64\n",
    "df_investment_plan[\"total_project_cost__$1,000_\"] = (\n",
    "    df_investment_plan[\"total_project_cost__$1,000_\"].astype(\"float64\").fillna(888888.0)\n",
    ")"
   ]
  },
  {
   "cell_type": "code",
   "execution_count": null,
   "id": "25401eb4-7bde-40c6-b7d6-0ad29101642a",
   "metadata": {},
   "outputs": [],
   "source": [
    "# Coerce dates to right format\n",
    "date_cols = [\n",
    "    \"pid_approval_date\",\n",
    "    \"rtl_date\",\n",
    "    \"con_start_date\",\n",
    "]\n",
    "for c in date_cols:\n",
    "    df_investment_plan[c] = df_investment_plan[c].apply(pd.to_datetime, errors=\"coerce\")"
   ]
  },
  {
   "cell_type": "code",
   "execution_count": null,
   "id": "49ef853e-ff0b-4f76-828e-ab2937f8374c",
   "metadata": {},
   "outputs": [],
   "source": [
    "# Fill na based on types\n",
    "df_investment_plan = df_investment_plan.fillna(\n",
    "    df_investment_plan.dtypes.replace({\"float64\": 0.0, \"object\": \"None\"})\n",
    ")"
   ]
  },
  {
   "cell_type": "code",
   "execution_count": null,
   "id": "337544b0-ac42-434d-9ea8-1c39b9ffd492",
   "metadata": {},
   "outputs": [],
   "source": [
    "# Titlecase string columns\n",
    "string_cols = [\n",
    "    \"county\",\n",
    "    \"route\",\n",
    "    \"potential_funding_program_s_\",\n",
    "    \"lead_agency\",\n",
    "    \"primary_mode\",\n",
    "    \"urban_rural\",\n",
    "    \"current_phase\",\n",
    "    \"project_name\",\n",
    "    \"potential_funding_program_s_\",\n",
    "]"
   ]
  },
  {
   "cell_type": "code",
   "execution_count": null,
   "id": "10eee598-5957-4996-9e1d-edb2ad957f62",
   "metadata": {},
   "outputs": [],
   "source": [
    "for c in string_cols:\n",
    "    df_investment_plan[c] = df_investment_plan[c].str.title().str.strip()"
   ]
  },
  {
   "cell_type": "code",
   "execution_count": null,
   "id": "fd93bf79-1134-4800-bb81-a4eeb78dd32c",
   "metadata": {},
   "outputs": [],
   "source": [
    "# Correct some curent phase values that read in weirdly\n",
    "df_investment_plan[\"current_phase\"] = df_investment_plan[\"current_phase\"].replace(\n",
    "    {\n",
    "        \"ps&e\\nr/w\": \"ps&e\",\n",
    "        \"other\\nplan/concept\": \"other\\plan\\concept\",\n",
    "        \"pid\\nplan/concept\": \"pid\\plan\\concept\",\n",
    "        \"ps&e\\nrow\": \"ps&e\\row\",\n",
    "    }\n",
    ")\n",
    "\n",
    "# Upper case everything\n",
    "df_investment_plan[\"current_phase\"] = (\n",
    "    df_investment_plan[\"current_phase\"].str.strip().str.upper()\n",
    ")"
   ]
  },
  {
   "cell_type": "markdown",
   "id": "48d660ae-6408-4803-a283-16c4f8c06521",
   "metadata": {
    "tags": []
   },
   "source": [
    "### Duplicated PPNO?"
   ]
  },
  {
   "cell_type": "code",
   "execution_count": null,
   "id": "8b092fc6-457e-4cda-b9fe-c47852c54a72",
   "metadata": {},
   "outputs": [],
   "source": [
    "# Check that each row represents a different project\n",
    "# PPNO and Project ID have a lot less unique value b/c 70% and 56% of each col are not filled in\n",
    "for i in [\"ppno\", \"ct_project_id\", \"project_name\"]:\n",
    "    print(f\"{i} : {df_investment_plan[i].nunique()}\")"
   ]
  },
  {
   "cell_type": "code",
   "execution_count": null,
   "id": "be2a2837-d30a-43cb-86e7-b37b3d0a458d",
   "metadata": {},
   "outputs": [],
   "source": [
    "# One project is included twice\n",
    "df_investment_plan[\"project_name\"].value_counts().head()"
   ]
  },
  {
   "cell_type": "code",
   "execution_count": null,
   "id": "84f52222-6fd0-4fb5-9169-d5e2fc5a75f6",
   "metadata": {
    "scrolled": true,
    "tags": []
   },
   "outputs": [],
   "source": [
    "# Check and make sure there aren't duplicate PPNO-Project Name combos\n",
    "duplicate_ppno = (\n",
    "    df_investment_plan[~df_investment_plan[\"ppno\"].isin([0, \"None\"])]\n",
    "    .groupby(\"ppno\")\n",
    "    .agg({\"project_name\": \"count\"})\n",
    "    .sort_values(\"project_name\")\n",
    "    .reset_index()\n",
    ")"
   ]
  },
  {
   "cell_type": "code",
   "execution_count": null,
   "id": "3b0568a2-a2c1-4338-8871-daff1c6ee7d0",
   "metadata": {},
   "outputs": [],
   "source": [
    "# Filter out for ppno with more than 2 project names.\n",
    "# Save those projects into a list\n",
    "duplicate_ppno = duplicate_ppno[duplicate_ppno[\"project_name\"] > 1]"
   ]
  },
  {
   "cell_type": "code",
   "execution_count": null,
   "id": "8b3e96ab-afc5-4e61-bb77-7921cea45151",
   "metadata": {},
   "outputs": [],
   "source": [
    "duplicate_ppno_list = duplicate_ppno[\"ppno\"].to_list()"
   ]
  },
  {
   "cell_type": "code",
   "execution_count": null,
   "id": "5a136870-aac2-45d4-a5dd-0fee8637afb9",
   "metadata": {
    "tags": []
   },
   "outputs": [],
   "source": [
    "# Check out these rows in our df\n",
    "# are these duplicates?\n",
    "len(df_investment_plan[df_investment_plan[\"ppno\"].isin(duplicate_ppno_list)])"
   ]
  },
  {
   "cell_type": "code",
   "execution_count": null,
   "id": "acb4c8e3-9d2d-4339-a92a-fea03c8b1fdd",
   "metadata": {
    "scrolled": true,
    "tags": []
   },
   "outputs": [],
   "source": [
    "duplicate_projects_df = df_investment_plan[\n",
    "    df_investment_plan[\"ppno\"].isin(duplicate_ppno_list)\n",
    "]"
   ]
  },
  {
   "cell_type": "code",
   "execution_count": null,
   "id": "8ba62f22-f419-4ee0-a573-2a215a0a1aa2",
   "metadata": {
    "scrolled": true,
    "tags": []
   },
   "outputs": [],
   "source": [
    "duplicate_projects_df[\n",
    "    [\"ppno\", \"project_name\", \"current_phase\", \"ea\", \"project_description\"]\n",
    "]"
   ]
  },
  {
   "cell_type": "markdown",
   "id": "f6716d25-4b8e-4995-bcac-fede8750e069",
   "metadata": {},
   "source": [
    "### Add Fake Values"
   ]
  },
  {
   "cell_type": "code",
   "execution_count": null,
   "id": "309d8429-4692-46e6-a690-0b1b927f338b",
   "metadata": {
    "scrolled": true,
    "tags": []
   },
   "outputs": [],
   "source": [
    "df_investment_plan2 = df_investment_plan[\n",
    "    [\n",
    "        \"ppno\",\n",
    "        \"ct_project_id\",\n",
    "        \"district\",\n",
    "        \"route\",\n",
    "        \"urban_rural\",\n",
    "        \"project_name\",\n",
    "        \"current_phase\",\n",
    "        \"project_description\",\n",
    "        \"priority_project\",\n",
    "        \"previous_caltrans_nominations\",\n",
    "        \"primary_mode\",\n",
    "        \"lead_agency\",\n",
    "        \"pid_approval_date\",\n",
    "        \"target_pa_ed\",\n",
    "        \"rtl_date\",\n",
    "        \"con_start_date\",\n",
    "        \"funding_need_phase_s_\",\n",
    "        \"total_project_cost__$1,000_\",\n",
    "        \"potential_funding_program_s_\",\n",
    "    ]\n",
    "]"
   ]
  },
  {
   "cell_type": "code",
   "execution_count": null,
   "id": "c2d352aa-86dd-4db8-b70f-9d9c7c03a3ea",
   "metadata": {},
   "outputs": [],
   "source": [
    "# https://stackoverflow.com/questions/64093880/how-to-create-random-floats-and-add-them-as-a-dataframe-column\n",
    "np.random.seed(365)"
   ]
  },
  {
   "cell_type": "code",
   "execution_count": null,
   "id": "e48f080f-5d68-4d39-8b27-e90c34074fb8",
   "metadata": {},
   "outputs": [],
   "source": [
    "# Fake columns\n",
    "fake_columns = [\n",
    "    \"increase_peak_person_throughput\",\n",
    "    \"reduction_in_peak_period_delay\",\n",
    "    \"reduction_in_fatal_and_injury_crashes\",\n",
    "    \"reduction_in_injury_rates\",\n",
    "    \"increase_access_to_jobs\",\n",
    "    \"increase_access_jobs_to_DAC\",\n",
    "    \"commercial_dev_developed\",\n",
    "    \"tons_of_goods_impacted\",\n",
    "    \"improve_air_quality\",\n",
    "    \"impact_natural_resources\",\n",
    "    \"support_of_trasnportation\",\n",
    "]"
   ]
  },
  {
   "cell_type": "code",
   "execution_count": null,
   "id": "2c0f3925-f69a-455a-825a-4051c0f01782",
   "metadata": {
    "scrolled": true,
    "tags": []
   },
   "outputs": [],
   "source": [
    "# Add fake metric columns\n",
    "for i in fake_columns:\n",
    "    df_investment_plan2[i] = np.round(\n",
    "        np.random.uniform(0.0, 50.0, size=(len(df_investment_plan), 1)), 2\n",
    "    )"
   ]
  },
  {
   "cell_type": "code",
   "execution_count": null,
   "id": "c7922310-054e-4557-90bf-837933398c2f",
   "metadata": {},
   "outputs": [],
   "source": [
    "# Create a column for fake funds requested - there only seems to be a total project cost col?\n",
    "df_investment_plan2[\"current_fake_fund_requested\"] = np.round(\n",
    "    np.random.uniform(100000, 500000.0, size=(len(df_investment_plan), 1)), 2\n",
    ")"
   ]
  },
  {
   "cell_type": "code",
   "execution_count": null,
   "id": "2492d87a-e52d-4bae-ba2a-273abefa214d",
   "metadata": {},
   "outputs": [],
   "source": [
    "# Create a fake benefit score\n",
    "df_investment_plan2[\"fake_benefit_score\"] = (\n",
    "    (df_investment_plan2[fake_columns].sum(axis=1))\n",
    "    / (df_investment_plan2[\"current_fake_fund_requested\"])\n",
    ") * 10000"
   ]
  },
  {
   "cell_type": "code",
   "execution_count": null,
   "id": "24aa08db-f1fb-4c4a-8508-e5f24665cb04",
   "metadata": {
    "tags": []
   },
   "outputs": [],
   "source": [
    "# Create a fake statewide project rank\n",
    "df_investment_plan2[\"statewide_rank\"] = df_investment_plan2[\"fake_benefit_score\"].rank(\n",
    "    ascending=False\n",
    ")"
   ]
  },
  {
   "cell_type": "code",
   "execution_count": null,
   "id": "6f1ba7d2-9343-4947-a378-0557976c6b9b",
   "metadata": {},
   "outputs": [],
   "source": [
    "# Create a fake district project rank\n",
    "df_investment_plan2[\"district_rank\"] = df_investment_plan2.groupby(\"district\")[\n",
    "    \"fake_benefit_score\"\n",
    "].rank(ascending=False)"
   ]
  },
  {
   "cell_type": "code",
   "execution_count": null,
   "id": "528b821f-8387-4a96-9010-217d81ac20c3",
   "metadata": {},
   "outputs": [],
   "source": [
    "# Add agency names\n",
    "agency_names = portfolio_utils.add_agency_name()"
   ]
  },
  {
   "cell_type": "code",
   "execution_count": null,
   "id": "66216c20-2655-437c-9229-02daa0d6a7f5",
   "metadata": {},
   "outputs": [],
   "source": [
    "df_investment_plan2 = pd.merge(\n",
    "    df_investment_plan2,\n",
    "    agency_names,\n",
    "    left_on=\"lead_agency\",\n",
    "    right_on=\"calitp_agency_name\",\n",
    "    how=\"left\",\n",
    ")"
   ]
  },
  {
   "cell_type": "code",
   "execution_count": null,
   "id": "7e33099b-de86-439e-b699-c986dd77fc63",
   "metadata": {},
   "outputs": [],
   "source": [
    "df_investment_plan2[\"district\"] = df_investment_plan2[\"district\"].astype(\"int64\")"
   ]
  },
  {
   "cell_type": "code",
   "execution_count": null,
   "id": "7afa3cb9-fbb8-4b39-af8d-fe5e3001f78d",
   "metadata": {},
   "outputs": [],
   "source": [
    "# Add official Caltrans District names\n",
    "district_dictionary = {\n",
    "        7: '07 - Los Angeles',\n",
    "        4:  '04 - Oakland',\n",
    "        2: '02 - Redding',\n",
    "        9:'09 - Bishop',\n",
    "        10:'10 - Stockton', \n",
    "        11:'11 - San Diego',\n",
    "        3: '03 - Marysville',\n",
    "        12:  '12 - Irvine',\n",
    "        8:'08 - San Bernardino',\n",
    "        5: '05 - San Luis Obispo', \n",
    "        6: '06 - Fresno',\n",
    "        1:  '01 - Eureka', \n",
    "        75: '75 - Rail',\n",
    "        74: '74 - HQ',\n",
    "        0: 'None'\n",
    "    }"
   ]
  },
  {
   "cell_type": "code",
   "execution_count": null,
   "id": "7812bf76-50c4-461a-bab7-1b1f27867ef0",
   "metadata": {},
   "outputs": [],
   "source": [
    "df_investment_plan2['district_full_name'] = df_investment_plan2['district'].replace(district_dictionary)"
   ]
  },
  {
   "cell_type": "code",
   "execution_count": null,
   "id": "a3e60806-a07b-4477-9533-90bbfb1d5a9d",
   "metadata": {
    "scrolled": true,
    "tags": []
   },
   "outputs": [],
   "source": [
    "# df_investment_plan2.to_excel(f\"{GCS_FILE_PATH}fake_data.xlsx\", sheet_name='fake', index= False)"
   ]
  }
 ],
 "metadata": {
  "kernelspec": {
   "display_name": "Python 3 (ipykernel)",
   "language": "python",
   "name": "python3"
  },
  "language_info": {
   "codemirror_mode": {
    "name": "ipython",
    "version": 3
   },
   "file_extension": ".py",
   "mimetype": "text/x-python",
   "name": "python",
   "nbconvert_exporter": "python",
   "pygments_lexer": "ipython3",
   "version": "3.10.5"
  }
 },
 "nbformat": 4,
 "nbformat_minor": 5
}
