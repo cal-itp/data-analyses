{
 "cells": [
  {
   "cell_type": "markdown",
   "id": "c97654de-9428-4e4b-9ae9-323e8469a52a",
   "metadata": {},
   "source": [
    "# Exploring 10 Year Non Shopp Data\n",
    "* [Using Smart Sheet.](https://app.smartsheet.com/workspaces/8MgpHcXR4GJVM5GvWWMmQg7M8gqhJj88Gfh54Pr1)"
   ]
  },
  {
   "cell_type": "code",
   "execution_count": null,
   "id": "961bd8c3-fc92-4a72-a106-bb542fdf4e87",
   "metadata": {},
   "outputs": [],
   "source": [
    "import numpy as np\n",
    "import pandas as pd\n",
    "from calitp import *"
   ]
  },
  {
   "cell_type": "code",
   "execution_count": null,
   "id": "9057dd1d-8c22-42bf-a2fd-6cfae1710ee4",
   "metadata": {},
   "outputs": [],
   "source": [
    "pd.options.display.max_columns = 100\n",
    "pd.set_option(\"display.max_rows\", None)\n",
    "pd.set_option(\"display.max_colwidth\", None)"
   ]
  },
  {
   "cell_type": "code",
   "execution_count": null,
   "id": "f31abc44-d445-44b6-a04b-5d9a3cfb2eab",
   "metadata": {},
   "outputs": [],
   "source": [
    "import _utils"
   ]
  },
  {
   "cell_type": "code",
   "execution_count": null,
   "id": "ec08614f-a868-48ea-9106-dd02ac2906fd",
   "metadata": {},
   "outputs": [],
   "source": [
    "GCS_FILE_PATH = \"gs://calitp-analytics-data/data-analyses/project_prioritization/\""
   ]
  },
  {
   "cell_type": "markdown",
   "id": "1d42682a-749d-4275-8272-137eab874cfe",
   "metadata": {},
   "source": [
    "## Investment Plan"
   ]
  },
  {
   "cell_type": "code",
   "execution_count": null,
   "id": "6847a64e-af90-41ef-ba56-096851faa798",
   "metadata": {},
   "outputs": [],
   "source": [
    "# Open first sheet.\n",
    "df_investment_plan = to_snakecase(\n",
    "    pd.read_excel(f\"{GCS_FILE_PATH}10 Year Non-SHOPP Investment Plan.xlsx\")\n",
    ")"
   ]
  },
  {
   "cell_type": "markdown",
   "id": "a3921826-0c96-4692-a9e8-756134ca33d1",
   "metadata": {},
   "source": [
    "### Look at null values for each column"
   ]
  },
  {
   "cell_type": "code",
   "execution_count": null,
   "id": "6555d5cb-5b9a-4437-adf2-6e0bcee03ba5",
   "metadata": {},
   "outputs": [],
   "source": [
    "df_investment_plan.info()"
   ]
  },
  {
   "cell_type": "markdown",
   "id": "007a66e8-9d05-4156-9ecc-6a17d0603ac9",
   "metadata": {},
   "source": [
    "### Some Cleaning"
   ]
  },
  {
   "cell_type": "code",
   "execution_count": null,
   "id": "4b7d4d5e-a9d0-44ed-95b8-95a3cd005de8",
   "metadata": {},
   "outputs": [],
   "source": [
    "df_investment_plan[\"total_project_cost__$1,000_\"] = (df_investment_plan[\"total_project_cost__$1,000_\"].replace(\n",
    "    {'Phase 1 (SR-60 to Mission Blvd) - $174,000\\nPhase 2 (Mission Blvd to I-10) - $170,000': 344000,\n",
    "     '$85,738 (Cycle 2)':85738,\n",
    "     'Oxnard to Camarillo 2nd Main Track: $15,000\\nOxnard Station North Platform: $20,000':35000,\n",
    "     '$214,000\\nPhase 1: $82,000\\nPhase 2: $132,000': 214000,\n",
    "     '$-':0,\n",
    "     'TBD':0,}))"
   ]
  },
  {
   "cell_type": "code",
   "execution_count": null,
   "id": "81573a9b-5327-4329-8711-729a5bccc00a",
   "metadata": {},
   "outputs": [],
   "source": [
    "df_investment_plan[\"total_project_cost__$1,000_\"] = df_investment_plan[\"total_project_cost__$1,000_\"].astype(\"float64\")"
   ]
  },
  {
   "cell_type": "code",
   "execution_count": null,
   "id": "25401eb4-7bde-40c6-b7d6-0ad29101642a",
   "metadata": {},
   "outputs": [],
   "source": [
    "# Coerce dates\n",
    "date_cols = [\n",
    "    \"pid_approval_date\",\n",
    "    \"rtl_date\",\n",
    "    \"con_start_date\",\n",
    "]\n",
    "for c in date_cols:\n",
    "    df_investment_plan[c] = df_investment_plan[c].apply(pd.to_datetime, errors=\"coerce\")"
   ]
  },
  {
   "cell_type": "code",
   "execution_count": null,
   "id": "49ef853e-ff0b-4f76-828e-ab2937f8374c",
   "metadata": {},
   "outputs": [],
   "source": [
    "# Fill na based on types\n",
    "df_investment_plan = df_investment_plan.fillna(\n",
    "    df_investment_plan.dtypes.replace({\"float64\": 0.0, \"object\": \"None\"})\n",
    ")"
   ]
  },
  {
   "cell_type": "code",
   "execution_count": null,
   "id": "337544b0-ac42-434d-9ea8-1c39b9ffd492",
   "metadata": {},
   "outputs": [],
   "source": [
    "# Lowercase string columns\n",
    "string_cols = [\n",
    "    \"county\",\n",
    "    \"route\",\n",
    "    \"potential_funding_program_s_\",\n",
    "    \"lead_agency\",\n",
    "    \"primary_mode\",\n",
    "    \"project_description\",\n",
    "    \"urban_rural\",\n",
    "    \"current_phase\",\n",
    "    \"project_name\",\n",
    "    \"potential_funding_program_s_\",\n",
    "]"
   ]
  },
  {
   "cell_type": "code",
   "execution_count": null,
   "id": "10eee598-5957-4996-9e1d-edb2ad957f62",
   "metadata": {},
   "outputs": [],
   "source": [
    "for c in string_cols:\n",
    "    df_investment_plan[c] = df_investment_plan[c].str.lower()"
   ]
  },
  {
   "cell_type": "code",
   "execution_count": null,
   "id": "fd93bf79-1134-4800-bb81-a4eeb78dd32c",
   "metadata": {},
   "outputs": [],
   "source": [
    "# Correct some curent phase values that read in weirdly\n",
    "df_investment_plan[\"current_phase\"] = df_investment_plan[\"current_phase\"].replace(\n",
    "    {\n",
    "        \"ps&e\\nr/w\": \"ps&e\",\n",
    "        \"other\\nplan/concept\": \"other\\plan\\concept\",\n",
    "        \"pid\\nplan/concept\": \"pid\\plan\\concept\",\n",
    "        \"ps&e\\nrow\": \"ps&e\\row\",\n",
    "    }\n",
    ")"
   ]
  },
  {
   "cell_type": "markdown",
   "id": "48d660ae-6408-4803-a283-16c4f8c06521",
   "metadata": {
    "tags": []
   },
   "source": [
    "### Duplicated PPNO?"
   ]
  },
  {
   "cell_type": "code",
   "execution_count": null,
   "id": "8b092fc6-457e-4cda-b9fe-c47852c54a72",
   "metadata": {},
   "outputs": [],
   "source": [
    "# Check that each row represents a different project\n",
    "# PPNO and Project ID have a lot less unique value b/c 70% and 56% of each col are not filled in\n",
    "for i in [\"ppno\", \"ct_project_id\", \"project_name\"]:\n",
    "    print(f\"{i} : {df_investment_plan[i].nunique()}\")"
   ]
  },
  {
   "cell_type": "code",
   "execution_count": null,
   "id": "be2a2837-d30a-43cb-86e7-b37b3d0a458d",
   "metadata": {},
   "outputs": [],
   "source": [
    "# One project is included twice\n",
    "df_investment_plan[\"project_name\"].value_counts().head()"
   ]
  },
  {
   "cell_type": "code",
   "execution_count": null,
   "id": "84f52222-6fd0-4fb5-9169-d5e2fc5a75f6",
   "metadata": {
    "scrolled": true,
    "tags": []
   },
   "outputs": [],
   "source": [
    "# Check and make sure there aren't duplicate PPNO-Project Name combos\n",
    "duplicate_ppno = (\n",
    "    df_investment_plan[~df_investment_plan[\"ppno\"].isin([0, \"None\"])]\n",
    "    .groupby(\"ppno\")\n",
    "    .agg({\"project_name\": \"count\"})\n",
    "    .sort_values(\"project_name\")\n",
    "    .reset_index()\n",
    ")"
   ]
  },
  {
   "cell_type": "code",
   "execution_count": null,
   "id": "3b0568a2-a2c1-4338-8871-daff1c6ee7d0",
   "metadata": {},
   "outputs": [],
   "source": [
    "# Filter out for ppno with more than 2 project names.\n",
    "# Save those projects into a list\n",
    "duplicate_ppno = duplicate_ppno[duplicate_ppno[\"project_name\"] > 1]"
   ]
  },
  {
   "cell_type": "code",
   "execution_count": null,
   "id": "8b3e96ab-afc5-4e61-bb77-7921cea45151",
   "metadata": {},
   "outputs": [],
   "source": [
    "duplicate_ppno_list = duplicate_ppno[\"ppno\"].to_list()"
   ]
  },
  {
   "cell_type": "code",
   "execution_count": null,
   "id": "5a136870-aac2-45d4-a5dd-0fee8637afb9",
   "metadata": {
    "tags": []
   },
   "outputs": [],
   "source": [
    "# Check out these rows in our df\n",
    "# are these duplicates?\n",
    "len(df_investment_plan[df_investment_plan[\"ppno\"].isin(duplicate_ppno_list)])"
   ]
  },
  {
   "cell_type": "code",
   "execution_count": null,
   "id": "4d8bf38c-d52d-4949-a86e-4f776a18af35",
   "metadata": {
    "scrolled": true,
    "tags": []
   },
   "outputs": [],
   "source": [
    "duplicate_projects_df = df_investment_plan[\n",
    "    df_investment_plan[\"ppno\"].isin(duplicate_ppno_list)\n",
    "]\n",
    "duplicate_projects_df[\n",
    "    [\"ppno\", \"project_name\", \"current_phase\", \"ea\", \"project_description\"]\n",
    "]"
   ]
  },
  {
   "cell_type": "markdown",
   "id": "c66d856d-f89b-4739-8a55-b5cf5e44d94a",
   "metadata": {},
   "source": [
    "### Some Analysis\n",
    "#### Are projects in rural or urban areas? \n",
    "* What defines rural versus urban?"
   ]
  },
  {
   "cell_type": "code",
   "execution_count": null,
   "id": "243b9241-64bb-4735-ad54-bcb7508321da",
   "metadata": {},
   "outputs": [],
   "source": [
    "rural_urban_projects = _utils.value_counts_df(df_investment_plan, \"urban_rural\").rename(\n",
    "    columns={\"urban_rural\": \"Total Projects\", \"index\": \"Urban/Rural\"}\n",
    ")"
   ]
  },
  {
   "cell_type": "code",
   "execution_count": null,
   "id": "56b9f843-54b9-4ff0-a583-fe7cc4fcc006",
   "metadata": {},
   "outputs": [],
   "source": [
    "_utils.basic_bar_chart(\n",
    "    rural_urban_projects, \"Urban/Rural\", \"Total Projects\", \"Urban/Rural\"\n",
    ")"
   ]
  },
  {
   "cell_type": "markdown",
   "id": "5afb5d7a-145c-4056-a24c-d000b95b62b1",
   "metadata": {},
   "source": [
    "#### Most Common Lead Agencies."
   ]
  },
  {
   "cell_type": "code",
   "execution_count": null,
   "id": "ea1e607c-fb49-4319-824a-a9682074bbcf",
   "metadata": {
    "tags": []
   },
   "outputs": [],
   "source": [
    "# Filter out for lead agency that says \"none\"\n",
    "df_investment_plan[df_investment_plan[\"lead_agency\"] != \"none\"].groupby(\n",
    "    [\"lead_agency\"]\n",
    ").agg({\"project_name\": \"count\"}).sort_values(\"project_name\", ascending=False).head(\n",
    "    10\n",
    ").style.bar(\n",
    "    subset=[\"project_name\"], color=\"#8CBCCB\"\n",
    ").set_properties(\n",
    "    **{\"background-color\": \"white\"}\n",
    ").set_table_styles(\n",
    "    [dict(selector=\"th\", props=[(\"text-align\", \"center\")])]\n",
    ").set_properties(\n",
    "    **{\"text-align\": \"center\"}\n",
    ")"
   ]
  },
  {
   "cell_type": "markdown",
   "id": "19865478-3f9d-40e0-994b-bb46e1859836",
   "metadata": {},
   "source": [
    "#### Primary Mode"
   ]
  },
  {
   "cell_type": "code",
   "execution_count": null,
   "id": "69832b40-2b37-4ec6-983f-2d007f9414f7",
   "metadata": {},
   "outputs": [],
   "source": [
    "_utils.value_counts_df(df_investment_plan, \"primary_mode\").rename(\n",
    "    columns={\"primary_mode\": \"Total Projects\", \"index\": \"Primary Mode\"}\n",
    ").sort_values(\"Total Projects\", ascending=False).head(10).style.bar(\n",
    "    subset=[\"Total Projects\"], color=\"#8CBCCB\"\n",
    ").set_properties(\n",
    "    **{\"background-color\": \"white\"}\n",
    ").set_table_styles(\n",
    "    [dict(selector=\"th\", props=[(\"text-align\", \"center\")])]\n",
    ").set_properties(\n",
    "    **{\"text-align\": \"center\"}\n",
    ")"
   ]
  },
  {
   "cell_type": "markdown",
   "id": "f09e15fd-c64c-4563-9b5d-9531ff20db4a",
   "metadata": {},
   "source": [
    "#### Costs"
   ]
  },
  {
   "cell_type": "code",
   "execution_count": null,
   "id": "a5375fd4-9cc5-4eaf-aa40-54421e8fdd39",
   "metadata": {},
   "outputs": [],
   "source": [
    "(df_investment_plan\n",
    " .groupby(\"primary_mode\")\n",
    " .agg({\"total_project_cost__$1,000_\":\"sum\"})\n",
    " .sort_values(\"total_project_cost__$1,000_\", ascending = False)\n",
    ")"
   ]
  }
 ],
 "metadata": {
  "kernelspec": {
   "display_name": "Python 3 (ipykernel)",
   "language": "python",
   "name": "python3"
  },
  "language_info": {
   "codemirror_mode": {
    "name": "ipython",
    "version": 3
   },
   "file_extension": ".py",
   "mimetype": "text/x-python",
   "name": "python",
   "nbconvert_exporter": "python",
   "pygments_lexer": "ipython3",
   "version": "3.10.5"
  }
 },
 "nbformat": 4,
 "nbformat_minor": 5
}
