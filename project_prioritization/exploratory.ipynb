{
 "cells": [
  {
   "cell_type": "markdown",
   "id": "c97654de-9428-4e4b-9ae9-323e8469a52a",
   "metadata": {},
   "source": [
    "# Exploring 10 Year Non Shopp Data\n",
    "* [Using Smart Sheet.](https://app.smartsheet.com/workspaces/8MgpHcXR4GJVM5GvWWMmQg7M8gqhJj88Gfh54Pr1)"
   ]
  },
  {
   "cell_type": "code",
   "execution_count": 31,
   "id": "961bd8c3-fc92-4a72-a106-bb542fdf4e87",
   "metadata": {},
   "outputs": [],
   "source": [
    "import numpy as np\n",
    "import pandas as pd\n",
    "from calitp import *\n",
    "from babel.numbers import format_currency"
   ]
  },
  {
   "cell_type": "code",
   "execution_count": 32,
   "id": "9057dd1d-8c22-42bf-a2fd-6cfae1710ee4",
   "metadata": {},
   "outputs": [],
   "source": [
    "pd.options.display.max_columns = 100\n",
    "pd.set_option(\"display.max_rows\", None)\n",
    "pd.set_option(\"display.max_colwidth\", None)"
   ]
  },
  {
   "cell_type": "code",
   "execution_count": 33,
   "id": "f31abc44-d445-44b6-a04b-5d9a3cfb2eab",
   "metadata": {},
   "outputs": [],
   "source": [
    "import _utils"
   ]
  },
  {
   "cell_type": "code",
   "execution_count": 34,
   "id": "ec08614f-a868-48ea-9106-dd02ac2906fd",
   "metadata": {},
   "outputs": [],
   "source": [
    "GCS_FILE_PATH = \"gs://calitp-analytics-data/data-analyses/project_prioritization/\""
   ]
  },
  {
   "cell_type": "markdown",
   "id": "1d42682a-749d-4275-8272-137eab874cfe",
   "metadata": {},
   "source": [
    "## Investment Plan"
   ]
  },
  {
   "cell_type": "code",
   "execution_count": 35,
   "id": "6847a64e-af90-41ef-ba56-096851faa798",
   "metadata": {},
   "outputs": [
    {
     "name": "stderr",
     "output_type": "stream",
     "text": [
      "/opt/conda/lib/python3.10/site-packages/openpyxl/styles/stylesheet.py:226: UserWarning: Workbook contains no default style, apply openpyxl's default\n"
     ]
    }
   ],
   "source": [
    "# Open first sheet.\n",
    "df_investment_plan = to_snakecase(\n",
    "    pd.read_excel(f\"{GCS_FILE_PATH}10 Year Non-SHOPP Investment Plan.xlsx\")\n",
    ")"
   ]
  },
  {
   "cell_type": "markdown",
   "id": "a3921826-0c96-4692-a9e8-756134ca33d1",
   "metadata": {},
   "source": [
    "### Look at null values for each column"
   ]
  },
  {
   "cell_type": "code",
   "execution_count": 36,
   "id": "6555d5cb-5b9a-4437-adf2-6e0bcee03ba5",
   "metadata": {},
   "outputs": [
    {
     "name": "stdout",
     "output_type": "stream",
     "text": [
      "<class 'pandas.core.frame.DataFrame'>\n",
      "RangeIndex: 717 entries, 0 to 716\n",
      "Data columns (total 58 columns):\n",
      " #   Column                                   Non-Null Count  Dtype  \n",
      "---  ------                                   --------------  -----  \n",
      " 0   ppno                                     217 non-null    object \n",
      " 1   ct_project_id                            312 non-null    object \n",
      " 2   district                                 713 non-null    float64\n",
      " 3   county                                   715 non-null    object \n",
      " 4   route                                    713 non-null    object \n",
      " 5   beg_pm                                   330 non-null    object \n",
      " 6   end_pm                                   329 non-null    object \n",
      " 7   urban_rural                              631 non-null    object \n",
      " 8   project_name                             717 non-null    object \n",
      " 9   ea                                       333 non-null    object \n",
      " 10  current_phase                            396 non-null    object \n",
      " 11  project_description                      672 non-null    object \n",
      " 12  priority_project                         126 non-null    float64\n",
      " 13  previous_caltrans_nominations            650 non-null    object \n",
      " 14  primary_mode                             717 non-null    object \n",
      " 15  shs_capacity_increase_detail             282 non-null    object \n",
      " 16  secondary_mode_s_                        251 non-null    object \n",
      " 17  potential_funding_program_s_             564 non-null    object \n",
      " 18  notes                                    469 non-null    object \n",
      " 19  lead_agency                              513 non-null    object \n",
      " 20  district_priority                        1 non-null      float64\n",
      " 21  pid_approval_date                        8 non-null      object \n",
      " 22  target_pa_ed                             35 non-null     object \n",
      " 23  rtl_date                                 147 non-null    object \n",
      " 24  con_start_date                           243 non-null    object \n",
      " 25  funding_need_phase_s_                    15 non-null     object \n",
      " 26  total_project_cost__$1,000_              503 non-null    object \n",
      " 27  pa_ed_cost__$1,000_                      29 non-null     float64\n",
      " 28  ps_e_cost__$1,000_                       25 non-null     float64\n",
      " 29  row_cost__$1,000_                        25 non-null     float64\n",
      " 30  con_cost__$1,000_                        32 non-null     float64\n",
      " 31  non_infrastructure___plan_cost__$1,000_  8 non-null      float64\n",
      " 32  total_unfunded_need__$1,000_             18 non-null     float64\n",
      " 33  previous_funding_request                 147 non-null    object \n",
      " 34  previous_funding_request_phase           48 non-null     object \n",
      " 35  last_scored                              272 non-null    object \n",
      " 36  access_alignment                         176 non-null    object \n",
      " 37  atp_alignment                            10 non-null     object \n",
      " 38  csis_alignment                           80 non-null     object \n",
      " 39  mpdg_alignment                           11 non-null     object \n",
      " 40  raise_alignment                          22 non-null     object \n",
      " 41  rcp_alignment                            16 non-null     object \n",
      " 42  csis_total_score                         74 non-null     float64\n",
      " 43  total_atp_score                          10 non-null     float64\n",
      " 44  rc_total_score                           16 non-null     float64\n",
      " 45  mpdg_total_score                         11 non-null     float64\n",
      " 46  raise_total_score                        22 non-null     float64\n",
      " 47  _2023                                    1 non-null      object \n",
      " 48  _2024                                    1 non-null      object \n",
      " 49  _2025                                    0 non-null      float64\n",
      " 50  _2026                                    1 non-null      object \n",
      " 51  _2027                                    0 non-null      float64\n",
      " 52  _2028                                    0 non-null      float64\n",
      " 53  _2029                                    0 non-null      float64\n",
      " 54  _2030                                    0 non-null      float64\n",
      " 55  _2031                                    0 non-null      float64\n",
      " 56  _2032                                    0 non-null      float64\n",
      " 57  _2033                                    0 non-null      float64\n",
      "dtypes: float64(22), object(36)\n",
      "memory usage: 325.0+ KB\n"
     ]
    }
   ],
   "source": [
    "df_investment_plan.info()"
   ]
  },
  {
   "cell_type": "markdown",
   "id": "007a66e8-9d05-4156-9ecc-6a17d0603ac9",
   "metadata": {},
   "source": [
    "### Some Cleaning"
   ]
  },
  {
   "cell_type": "code",
   "execution_count": 37,
   "id": "4b7d4d5e-a9d0-44ed-95b8-95a3cd005de8",
   "metadata": {},
   "outputs": [],
   "source": [
    "# Clean up monetary columns\n",
    "df_investment_plan[\"total_project_cost__$1,000_\"] = df_investment_plan[\n",
    "    \"total_project_cost__$1,000_\"\n",
    "].replace(\n",
    "    {\n",
    "        \"Phase 1 (SR-60 to Mission Blvd) - $174,000\\nPhase 2 (Mission Blvd to I-10) - $170,000\": 344000,\n",
    "        \"$85,738 (Cycle 2)\": 85738,\n",
    "        \"Oxnard to Camarillo 2nd Main Track: $15,000\\nOxnard Station North Platform: $20,000\": 35000,\n",
    "        \"$214,000\\nPhase 1: $82,000\\nPhase 2: $132,000\": 214000,\n",
    "        \"$-\": 0,\n",
    "        \"TBD\": 0,\n",
    "    }\n",
    ")"
   ]
  },
  {
   "cell_type": "code",
   "execution_count": 38,
   "id": "81573a9b-5327-4329-8711-729a5bccc00a",
   "metadata": {},
   "outputs": [],
   "source": [
    "# Fill in total project cost with fake number and cast to float64\n",
    "df_investment_plan[\"total_project_cost__$1,000_\"] = (\n",
    "    df_investment_plan[\"total_project_cost__$1,000_\"]\n",
    "    .astype(\"float64\")\n",
    "    .fillna(888888.0)\n",
    ")"
   ]
  },
  {
   "cell_type": "code",
   "execution_count": 39,
   "id": "25401eb4-7bde-40c6-b7d6-0ad29101642a",
   "metadata": {},
   "outputs": [],
   "source": [
    "# Coerce dates to right format\n",
    "date_cols = [\n",
    "    \"pid_approval_date\",\n",
    "    \"rtl_date\",\n",
    "    \"con_start_date\",\n",
    "]\n",
    "for c in date_cols:\n",
    "    df_investment_plan[c] = df_investment_plan[c].apply(pd.to_datetime, errors=\"coerce\")"
   ]
  },
  {
   "cell_type": "code",
   "execution_count": 40,
   "id": "49ef853e-ff0b-4f76-828e-ab2937f8374c",
   "metadata": {},
   "outputs": [],
   "source": [
    "# Fill na based on types\n",
    "df_investment_plan = df_investment_plan.fillna(\n",
    "    df_investment_plan.dtypes.replace({\"float64\": 0.0, \"object\": \"None\"})\n",
    ")"
   ]
  },
  {
   "cell_type": "code",
   "execution_count": 41,
   "id": "337544b0-ac42-434d-9ea8-1c39b9ffd492",
   "metadata": {},
   "outputs": [],
   "source": [
    "# Titlecase string columns\n",
    "string_cols = [\n",
    "    \"county\",\n",
    "    \"route\",\n",
    "    \"potential_funding_program_s_\",\n",
    "    \"lead_agency\",\n",
    "    \"primary_mode\",\n",
    "    \"urban_rural\",\n",
    "    \"current_phase\",\n",
    "    \"project_name\",\n",
    "    \"potential_funding_program_s_\",\n",
    "]"
   ]
  },
  {
   "cell_type": "code",
   "execution_count": 42,
   "id": "10eee598-5957-4996-9e1d-edb2ad957f62",
   "metadata": {},
   "outputs": [],
   "source": [
    "for c in string_cols:\n",
    "     df_investment_plan[c] = df_investment_plan[c].str.title().str.strip()"
   ]
  },
  {
   "cell_type": "code",
   "execution_count": 43,
   "id": "fd93bf79-1134-4800-bb81-a4eeb78dd32c",
   "metadata": {},
   "outputs": [],
   "source": [
    "# Correct some curent phase values that read in weirdly\n",
    "df_investment_plan[\"current_phase\"] = df_investment_plan[\"current_phase\"].replace(\n",
    "    {\n",
    "        \"ps&e\\nr/w\": \"ps&e\",\n",
    "        \"other\\nplan/concept\": \"other\\plan\\concept\",\n",
    "        \"pid\\nplan/concept\": \"pid\\plan\\concept\",\n",
    "        \"ps&e\\nrow\": \"ps&e\\row\",\n",
    "    }\n",
    ")\n",
    "\n",
    "# Upper case everything\n",
    "df_investment_plan[\"current_phase\"] = df_investment_plan[\"current_phase\"].str.strip().str.upper()"
   ]
  },
  {
   "cell_type": "markdown",
   "id": "48d660ae-6408-4803-a283-16c4f8c06521",
   "metadata": {
    "tags": []
   },
   "source": [
    "### Duplicated PPNO?"
   ]
  },
  {
   "cell_type": "code",
   "execution_count": 44,
   "id": "8b092fc6-457e-4cda-b9fe-c47852c54a72",
   "metadata": {},
   "outputs": [
    {
     "name": "stdout",
     "output_type": "stream",
     "text": [
      "ppno : 204\n",
      "ct_project_id : 300\n",
      "project_name : 716\n"
     ]
    }
   ],
   "source": [
    "# Check that each row represents a different project\n",
    "# PPNO and Project ID have a lot less unique value b/c 70% and 56% of each col are not filled in\n",
    "for i in [\"ppno\", \"ct_project_id\", \"project_name\"]:\n",
    "    print(f\"{i} : {df_investment_plan[i].nunique()}\")"
   ]
  },
  {
   "cell_type": "code",
   "execution_count": 45,
   "id": "be2a2837-d30a-43cb-86e7-b37b3d0a458d",
   "metadata": {},
   "outputs": [
    {
     "data": {
      "text/plain": [
       "Delano To Pixely 6-Lane                                                                        2\n",
       "I-5 Btw Rte 73 And Sd Co, Managed Lanes Project                                                1\n",
       "San Diego - Coronado Bay Bridge Suicide Deterrent Project                                      1\n",
       "Linking Neighborhoods Of La Jolla Reservation With Bike/Walking Trail On The State Route 76    1\n",
       "Sr-78 Hov/Managed Lanes                                                                        1\n",
       "Name: project_name, dtype: int64"
      ]
     },
     "execution_count": 45,
     "metadata": {},
     "output_type": "execute_result"
    }
   ],
   "source": [
    "# One project is included twice\n",
    "df_investment_plan[\"project_name\"].value_counts().head()"
   ]
  },
  {
   "cell_type": "code",
   "execution_count": 46,
   "id": "84f52222-6fd0-4fb5-9169-d5e2fc5a75f6",
   "metadata": {
    "scrolled": true,
    "tags": []
   },
   "outputs": [],
   "source": [
    "# Check and make sure there aren't duplicate PPNO-Project Name combos\n",
    "duplicate_ppno = (\n",
    "    df_investment_plan[~df_investment_plan[\"ppno\"].isin([0, \"None\"])]\n",
    "    .groupby(\"ppno\")\n",
    "    .agg({\"project_name\": \"count\"})\n",
    "    .sort_values(\"project_name\")\n",
    "    .reset_index()\n",
    ")"
   ]
  },
  {
   "cell_type": "code",
   "execution_count": 47,
   "id": "3b0568a2-a2c1-4338-8871-daff1c6ee7d0",
   "metadata": {},
   "outputs": [],
   "source": [
    "# Filter out for ppno with more than 2 project names.\n",
    "# Save those projects into a list\n",
    "duplicate_ppno = duplicate_ppno[duplicate_ppno[\"project_name\"] > 1]"
   ]
  },
  {
   "cell_type": "code",
   "execution_count": 48,
   "id": "8b3e96ab-afc5-4e61-bb77-7921cea45151",
   "metadata": {},
   "outputs": [],
   "source": [
    "duplicate_ppno_list = duplicate_ppno[\"ppno\"].to_list()"
   ]
  },
  {
   "cell_type": "code",
   "execution_count": 49,
   "id": "5a136870-aac2-45d4-a5dd-0fee8637afb9",
   "metadata": {
    "tags": []
   },
   "outputs": [
    {
     "data": {
      "text/plain": [
       "24"
      ]
     },
     "execution_count": 49,
     "metadata": {},
     "output_type": "execute_result"
    }
   ],
   "source": [
    "# Check out these rows in our df\n",
    "# are these duplicates?\n",
    "len(df_investment_plan[df_investment_plan[\"ppno\"].isin(duplicate_ppno_list)])"
   ]
  },
  {
   "cell_type": "code",
   "execution_count": 50,
   "id": "acb4c8e3-9d2d-4339-a92a-fea03c8b1fdd",
   "metadata": {
    "scrolled": true,
    "tags": []
   },
   "outputs": [],
   "source": [
    "duplicate_projects_df = df_investment_plan[\n",
    "    df_investment_plan[\"ppno\"].isin(duplicate_ppno_list)\n",
    "]"
   ]
  },
  {
   "cell_type": "code",
   "execution_count": 51,
   "id": "8ba62f22-f419-4ee0-a573-2a215a0a1aa2",
   "metadata": {
    "scrolled": true,
    "tags": []
   },
   "outputs": [
    {
     "data": {
      "text/html": [
       "<div>\n",
       "<style scoped>\n",
       "    .dataframe tbody tr th:only-of-type {\n",
       "        vertical-align: middle;\n",
       "    }\n",
       "\n",
       "    .dataframe tbody tr th {\n",
       "        vertical-align: top;\n",
       "    }\n",
       "\n",
       "    .dataframe thead th {\n",
       "        text-align: right;\n",
       "    }\n",
       "</style>\n",
       "<table border=\"1\" class=\"dataframe\">\n",
       "  <thead>\n",
       "    <tr style=\"text-align: right;\">\n",
       "      <th></th>\n",
       "      <th>ppno</th>\n",
       "      <th>project_name</th>\n",
       "      <th>current_phase</th>\n",
       "      <th>ea</th>\n",
       "      <th>project_description</th>\n",
       "    </tr>\n",
       "  </thead>\n",
       "  <tbody>\n",
       "    <tr>\n",
       "      <th>159</th>\n",
       "      <td>2830</td>\n",
       "      <td>Us 101 Avila Beach Dr. Interchange</td>\n",
       "      <td>PS&amp;E</td>\n",
       "      <td>1G480</td>\n",
       "      <td>Construct operational improvements and a park-and-ride lot.  A roundabout is proposed to be constructed at the intersection of the US 101 southbound ramps, Avila Beach Dr., and Shell Beach Rd. Operational and-or additional safety enhancements will be considered for the US 101 northbound ramps-Monte Rd. intersection.</td>\n",
       "    </tr>\n",
       "    <tr>\n",
       "      <th>162</th>\n",
       "      <td>2830</td>\n",
       "      <td>Us 101/ Avila Beach Rd I/C Improvement And Park-And-Ride Lot</td>\n",
       "      <td>PS&amp;E\\nR/W</td>\n",
       "      <td>1G480</td>\n",
       "      <td>Interchange operational improvements for US 101 SB ramps  at Avila Beach Dr. at Shell Beach Rd. Construct Park-and-Ride Lot at southwest corner of Avila Beach Dr. and Shell Beach Rd near Pismo Beach</td>\n",
       "    </tr>\n",
       "    <tr>\n",
       "      <th>178</th>\n",
       "      <td>6288</td>\n",
       "      <td>South Fresno I/C Project</td>\n",
       "      <td>PA&amp;ED</td>\n",
       "      <td>0H240</td>\n",
       "      <td>Modify interchanges</td>\n",
       "    </tr>\n",
       "    <tr>\n",
       "      <th>182</th>\n",
       "      <td>7036</td>\n",
       "      <td>Sr 180 West Extension</td>\n",
       "      <td>CANDIDATE</td>\n",
       "      <td>0Y230</td>\n",
       "      <td>In Fresno County, near Mendota from I-5 to Route 33, construct 2-lane conventional highway on new alignment. This project would propose to construct new alignments and covert existing County roadways to a State Route.</td>\n",
       "    </tr>\n",
       "    <tr>\n",
       "      <th>184</th>\n",
       "      <td>7036</td>\n",
       "      <td>180 West Extension</td>\n",
       "      <td>PID</td>\n",
       "      <td>0Y230</td>\n",
       "      <td>Construct highway</td>\n",
       "    </tr>\n",
       "    <tr>\n",
       "      <th>189</th>\n",
       "      <td>6288</td>\n",
       "      <td>South Fresno State Route 99 Corridor Project</td>\n",
       "      <td>PA&amp;ED</td>\n",
       "      <td>0H240</td>\n",
       "      <td>In Fresno County, in and near Fresno, from 0.4 mile south of American Avenue to 0.4 mile north of North Avenue. Modify interchanges.</td>\n",
       "    </tr>\n",
       "    <tr>\n",
       "      <th>193</th>\n",
       "      <td>6694</td>\n",
       "      <td>Grapevine I/C</td>\n",
       "      <td>PA&amp;ED</td>\n",
       "      <td>0R100</td>\n",
       "      <td>Relocate I/C</td>\n",
       "    </tr>\n",
       "    <tr>\n",
       "      <th>194</th>\n",
       "      <td>3386E</td>\n",
       "      <td>Sr 46 Gap Closure Segment 4C</td>\n",
       "      <td>PS&amp;E/ROW</td>\n",
       "      <td>44256</td>\n",
       "      <td>From Brown Material Rd to Farnsworth Ave, 2C to 4E</td>\n",
       "    </tr>\n",
       "    <tr>\n",
       "      <th>203</th>\n",
       "      <td>6694</td>\n",
       "      <td>Grapevine Interchange</td>\n",
       "      <td>NONE</td>\n",
       "      <td>0R100</td>\n",
       "      <td>In Kern County, near Grapevine from 0.7 mile south of the Grapevine UC to 0.5 mile south of the California Aqueduct, relocate interchange.\\nThis project is mitigation to the Grapevine Specific and Community Plan EIR.</td>\n",
       "    </tr>\n",
       "    <tr>\n",
       "      <th>206</th>\n",
       "      <td>3386E</td>\n",
       "      <td>Sr-46 Expressway - Segment 4C (Kern)\\nSr 46 Gap Closure Segment 4C</td>\n",
       "      <td>CON</td>\n",
       "      <td>44256</td>\n",
       "      <td>44256 In and near Lost Hills, from 1 mile west of Browns Material Road to California Aquaduct.  Convert from 2-lane conventional highway to 4-lane expressway.\\n\\nFrom Brown Material Road to Farnsworth Avenue, convert 2-lane conventional highway to a 4-lane expressway. Possibly drop if it is fully funded.</td>\n",
       "    </tr>\n",
       "    <tr>\n",
       "      <th>220</th>\n",
       "      <td>7004</td>\n",
       "      <td>North Madera 99 Widening</td>\n",
       "      <td>PID</td>\n",
       "      <td>0Y360</td>\n",
       "      <td>Widen freeway from 4 to 6 lanes</td>\n",
       "    </tr>\n",
       "    <tr>\n",
       "      <th>221</th>\n",
       "      <td>6642</td>\n",
       "      <td>Chowchilla 99/233 I/C</td>\n",
       "      <td>PA&amp;ED</td>\n",
       "      <td>0P910</td>\n",
       "      <td>Reconstruct interchange</td>\n",
       "    </tr>\n",
       "    <tr>\n",
       "      <th>226</th>\n",
       "      <td>6642</td>\n",
       "      <td>Sr 233 Chowchilla Interchange Improvement\\nMad 99/233 Chowchilla Interchange Improvement</td>\n",
       "      <td>PA&amp;ED</td>\n",
       "      <td>0P910</td>\n",
       "      <td>At the SR 99/233 Separation in Madera County, from 2.6 miles north of the Avenue 24 Overcrossing to 1.3 miles south of the Le Grande Ave OC.  This project proposes to provide multimodal accessibility/connectivity by providing safe bicycle and pedestrian access through the SR 99/233 interchange.  This project will also improve operations at the interchange, improving access to local businesses and services.</td>\n",
       "    </tr>\n",
       "    <tr>\n",
       "      <th>227</th>\n",
       "      <td>7004</td>\n",
       "      <td>North 99 Madera Widening</td>\n",
       "      <td>NONE</td>\n",
       "      <td>0Y360</td>\n",
       "      <td>In Madera County, from 0.5 mile north of the Avenue 17 Overcrossing to 1.0 mile south of the Ave 21 1/2 OC, 4F to 6F. This project will eliminate a 5 mile bottleneck between the City of Madera and a 6-lane SR 99 facility south of SR 152. The project will improve interregional goods movement and passenger travel, and reduce severe accident rates along State Route 99 by median widening from 4 to 6 lanes. It will also upgrade Caltrans assets such as drainage systems and median barrier.</td>\n",
       "    </tr>\n",
       "    <tr>\n",
       "      <th>230</th>\n",
       "      <td>0104</td>\n",
       "      <td>Lindsay And Rte 198/245 Operational Improvements</td>\n",
       "      <td>PA&amp;ED</td>\n",
       "      <td>43080</td>\n",
       "      <td>Construct 4E along a 2-lane county road</td>\n",
       "    </tr>\n",
       "    <tr>\n",
       "      <th>232</th>\n",
       "      <td>6369</td>\n",
       "      <td>Tulare Six-Lane And Paige Avenue Interchange Improvement Project</td>\n",
       "      <td>PA&amp;ED</td>\n",
       "      <td>48950</td>\n",
       "      <td>4F to 6F</td>\n",
       "    </tr>\n",
       "    <tr>\n",
       "      <th>233</th>\n",
       "      <td>6940</td>\n",
       "      <td>International Agri-Center Way Interchange</td>\n",
       "      <td>PS&amp;E\\nR/W</td>\n",
       "      <td>0U880</td>\n",
       "      <td>Construct interchange</td>\n",
       "    </tr>\n",
       "    <tr>\n",
       "      <th>234</th>\n",
       "      <td>6421</td>\n",
       "      <td>Caldwell I/C</td>\n",
       "      <td>PS&amp;E\\nR/W</td>\n",
       "      <td>48740</td>\n",
       "      <td>Reconstruct interchange</td>\n",
       "    </tr>\n",
       "    <tr>\n",
       "      <th>242</th>\n",
       "      <td>0104</td>\n",
       "      <td>Lindsay And Route 198/245 Operational Improvements</td>\n",
       "      <td>NONE</td>\n",
       "      <td>43080</td>\n",
       "      <td>Near Lindsay at various locations from Avenue 224 (Lindmore Street) to west of Cedar Ave and on Route 198 at the SR 245 (Spruce Ave) junction, realignment and operational improvements. This project is not truly capacity increasing. The short amount of new pavement creates a shortcut bypassing local intersections. The project is not likely to induce additional demand. The additional expressway construction has been removed from the project.</td>\n",
       "    </tr>\n",
       "    <tr>\n",
       "      <th>243</th>\n",
       "      <td>6369</td>\n",
       "      <td>State Route 99 Tulare City Widening Project (Tulare Six-Lane And Paige Avenue Interchange Improvements</td>\n",
       "      <td>PA&amp;ED</td>\n",
       "      <td>48950</td>\n",
       "      <td>The project would add a lane in each direction to the freeway median to convert the existing 4-lane facility to a 6-lane freeway. The goal is to mitigate congestion.</td>\n",
       "    </tr>\n",
       "    <tr>\n",
       "      <th>245</th>\n",
       "      <td>6421</td>\n",
       "      <td>Caldwell Interchange</td>\n",
       "      <td>PS&amp;E</td>\n",
       "      <td>48740</td>\n",
       "      <td>In Tulare County, from 0.6 mile south of the Avenue 280 (Caldwell Ave) Interchange to 0.7 mile north of the Ave 280 (Caldwell Ave) Interchange, reconstruct interchange.</td>\n",
       "    </tr>\n",
       "    <tr>\n",
       "      <th>246</th>\n",
       "      <td>6940</td>\n",
       "      <td>Commercial Ave Interchange</td>\n",
       "      <td>PS&amp;E</td>\n",
       "      <td>0U880</td>\n",
       "      <td>In Tulare County near the City of Tulare at Commercial Avenue and State Route 99 between 0.9 mile north of Avenue 200 OC and Paige Avenue OC; Construct new interchange and construct north and south bound auxiliary lanes</td>\n",
       "    </tr>\n",
       "    <tr>\n",
       "      <th>431</th>\n",
       "      <td>3162A</td>\n",
       "      <td>Sr 99/120 Connector Phase 1A</td>\n",
       "      <td>PS&amp;E</td>\n",
       "      <td>1M290</td>\n",
       "      <td>In San Joaquin County, in and near the City of Manteca widen eastbound SR120 to southbound SR99 connector ramp</td>\n",
       "    </tr>\n",
       "    <tr>\n",
       "      <th>434</th>\n",
       "      <td>3162A</td>\n",
       "      <td>State Route 99/State Route 120 Interchange Connector Project</td>\n",
       "      <td>PS&amp;E</td>\n",
       "      <td>Before Phases: 1E740\\nPhase 1A: 1M290\\nPhase 1B: 1M300</td>\n",
       "      <td>The project would implement realignments, widenings, and reconstructions of bridges, on-ramps, and off-ramps to improve circulation at an interchange.</td>\n",
       "    </tr>\n",
       "  </tbody>\n",
       "</table>\n",
       "</div>"
      ],
      "text/plain": [
       "      ppno  \\\n",
       "159   2830   \n",
       "162   2830   \n",
       "178   6288   \n",
       "182   7036   \n",
       "184   7036   \n",
       "189   6288   \n",
       "193   6694   \n",
       "194  3386E   \n",
       "203   6694   \n",
       "206  3386E   \n",
       "220   7004   \n",
       "221   6642   \n",
       "226   6642   \n",
       "227   7004   \n",
       "230   0104   \n",
       "232   6369   \n",
       "233   6940   \n",
       "234   6421   \n",
       "242   0104   \n",
       "243   6369   \n",
       "245   6421   \n",
       "246   6940   \n",
       "431  3162A   \n",
       "434  3162A   \n",
       "\n",
       "                                                                                               project_name  \\\n",
       "159                                                                      Us 101 Avila Beach Dr. Interchange   \n",
       "162                                            Us 101/ Avila Beach Rd I/C Improvement And Park-And-Ride Lot   \n",
       "178                                                                                South Fresno I/C Project   \n",
       "182                                                                                   Sr 180 West Extension   \n",
       "184                                                                                      180 West Extension   \n",
       "189                                                            South Fresno State Route 99 Corridor Project   \n",
       "193                                                                                           Grapevine I/C   \n",
       "194                                                                            Sr 46 Gap Closure Segment 4C   \n",
       "203                                                                                   Grapevine Interchange   \n",
       "206                                      Sr-46 Expressway - Segment 4C (Kern)\\nSr 46 Gap Closure Segment 4C   \n",
       "220                                                                                North Madera 99 Widening   \n",
       "221                                                                                   Chowchilla 99/233 I/C   \n",
       "226                Sr 233 Chowchilla Interchange Improvement\\nMad 99/233 Chowchilla Interchange Improvement   \n",
       "227                                                                                North 99 Madera Widening   \n",
       "230                                                        Lindsay And Rte 198/245 Operational Improvements   \n",
       "232                                        Tulare Six-Lane And Paige Avenue Interchange Improvement Project   \n",
       "233                                                               International Agri-Center Way Interchange   \n",
       "234                                                                                            Caldwell I/C   \n",
       "242                                                      Lindsay And Route 198/245 Operational Improvements   \n",
       "243  State Route 99 Tulare City Widening Project (Tulare Six-Lane And Paige Avenue Interchange Improvements   \n",
       "245                                                                                    Caldwell Interchange   \n",
       "246                                                                              Commercial Ave Interchange   \n",
       "431                                                                            Sr 99/120 Connector Phase 1A   \n",
       "434                                            State Route 99/State Route 120 Interchange Connector Project   \n",
       "\n",
       "    current_phase                                                      ea  \\\n",
       "159          PS&E                                                   1G480   \n",
       "162     PS&E\\nR/W                                                   1G480   \n",
       "178         PA&ED                                                   0H240   \n",
       "182     CANDIDATE                                                   0Y230   \n",
       "184           PID                                                   0Y230   \n",
       "189         PA&ED                                                   0H240   \n",
       "193         PA&ED                                                   0R100   \n",
       "194      PS&E/ROW                                                   44256   \n",
       "203          NONE                                                   0R100   \n",
       "206           CON                                                   44256   \n",
       "220           PID                                                   0Y360   \n",
       "221         PA&ED                                                   0P910   \n",
       "226         PA&ED                                                   0P910   \n",
       "227          NONE                                                   0Y360   \n",
       "230         PA&ED                                                   43080   \n",
       "232         PA&ED                                                   48950   \n",
       "233     PS&E\\nR/W                                                   0U880   \n",
       "234     PS&E\\nR/W                                                   48740   \n",
       "242          NONE                                                   43080   \n",
       "243         PA&ED                                                   48950   \n",
       "245          PS&E                                                   48740   \n",
       "246          PS&E                                                   0U880   \n",
       "431          PS&E                                                   1M290   \n",
       "434          PS&E  Before Phases: 1E740\\nPhase 1A: 1M290\\nPhase 1B: 1M300   \n",
       "\n",
       "                                                                                                                                                                                                                                                                                                                                                                                                                                                                                         project_description  \n",
       "159                                                                                                                                                                            Construct operational improvements and a park-and-ride lot.  A roundabout is proposed to be constructed at the intersection of the US 101 southbound ramps, Avila Beach Dr., and Shell Beach Rd. Operational and-or additional safety enhancements will be considered for the US 101 northbound ramps-Monte Rd. intersection.  \n",
       "162                                                                                                                                                                                                                                                                                                   Interchange operational improvements for US 101 SB ramps  at Avila Beach Dr. at Shell Beach Rd. Construct Park-and-Ride Lot at southwest corner of Avila Beach Dr. and Shell Beach Rd near Pismo Beach  \n",
       "178                                                                                                                                                                                                                                                                                                                                                                                                                                                                                      Modify interchanges  \n",
       "182                                                                                                                                                                                                                                                                                In Fresno County, near Mendota from I-5 to Route 33, construct 2-lane conventional highway on new alignment. This project would propose to construct new alignments and covert existing County roadways to a State Route.  \n",
       "184                                                                                                                                                                                                                                                                                                                                                                                                                                                                                        Construct highway  \n",
       "189                                                                                                                                                                                                                                                                                                                                                                     In Fresno County, in and near Fresno, from 0.4 mile south of American Avenue to 0.4 mile north of North Avenue. Modify interchanges.  \n",
       "193                                                                                                                                                                                                                                                                                                                                                                                                                                                                                             Relocate I/C  \n",
       "194                                                                                                                                                                                                                                                                                                                                                                                                                                                       From Brown Material Rd to Farnsworth Ave, 2C to 4E  \n",
       "203                                                                                                                                                                                                                                                                                 In Kern County, near Grapevine from 0.7 mile south of the Grapevine UC to 0.5 mile south of the California Aqueduct, relocate interchange.\\nThis project is mitigation to the Grapevine Specific and Community Plan EIR.  \n",
       "206                                                                                                                                                                                        44256 In and near Lost Hills, from 1 mile west of Browns Material Road to California Aquaduct.  Convert from 2-lane conventional highway to 4-lane expressway.\\n\\nFrom Brown Material Road to Farnsworth Avenue, convert 2-lane conventional highway to a 4-lane expressway. Possibly drop if it is fully funded.  \n",
       "220                                                                                                                                                                                                                                                                                                                                                                                                                                                                          Widen freeway from 4 to 6 lanes  \n",
       "221                                                                                                                                                                                                                                                                                                                                                                                                                                                                                  Reconstruct interchange  \n",
       "226                                                                                At the SR 99/233 Separation in Madera County, from 2.6 miles north of the Avenue 24 Overcrossing to 1.3 miles south of the Le Grande Ave OC.  This project proposes to provide multimodal accessibility/connectivity by providing safe bicycle and pedestrian access through the SR 99/233 interchange.  This project will also improve operations at the interchange, improving access to local businesses and services.  \n",
       "227  In Madera County, from 0.5 mile north of the Avenue 17 Overcrossing to 1.0 mile south of the Ave 21 1/2 OC, 4F to 6F. This project will eliminate a 5 mile bottleneck between the City of Madera and a 6-lane SR 99 facility south of SR 152. The project will improve interregional goods movement and passenger travel, and reduce severe accident rates along State Route 99 by median widening from 4 to 6 lanes. It will also upgrade Caltrans assets such as drainage systems and median barrier.  \n",
       "230                                                                                                                                                                                                                                                                                                                                                                                                                                                                  Construct 4E along a 2-lane county road  \n",
       "232                                                                                                                                                                                                                                                                                                                                                                                                                                                                                                 4F to 6F  \n",
       "233                                                                                                                                                                                                                                                                                                                                                                                                                                                                                    Construct interchange  \n",
       "234                                                                                                                                                                                                                                                                                                                                                                                                                                                                                  Reconstruct interchange  \n",
       "242                                              Near Lindsay at various locations from Avenue 224 (Lindmore Street) to west of Cedar Ave and on Route 198 at the SR 245 (Spruce Ave) junction, realignment and operational improvements. This project is not truly capacity increasing. The short amount of new pavement creates a shortcut bypassing local intersections. The project is not likely to induce additional demand. The additional expressway construction has been removed from the project.  \n",
       "243                                                                                                                                                                                                                                                                                                                                    The project would add a lane in each direction to the freeway median to convert the existing 4-lane facility to a 6-lane freeway. The goal is to mitigate congestion.  \n",
       "245                                                                                                                                                                                                                                                                                                                                 In Tulare County, from 0.6 mile south of the Avenue 280 (Caldwell Ave) Interchange to 0.7 mile north of the Ave 280 (Caldwell Ave) Interchange, reconstruct interchange.  \n",
       "246                                                                                                                                                                                                                                                                              In Tulare County near the City of Tulare at Commercial Avenue and State Route 99 between 0.9 mile north of Avenue 200 OC and Paige Avenue OC; Construct new interchange and construct north and south bound auxiliary lanes  \n",
       "431                                                                                                                                                                                                                                                                                                                                                                                           In San Joaquin County, in and near the City of Manteca widen eastbound SR120 to southbound SR99 connector ramp  \n",
       "434                                                                                                                                                                                                                                                                                                                                                   The project would implement realignments, widenings, and reconstructions of bridges, on-ramps, and off-ramps to improve circulation at an interchange.  "
      ]
     },
     "execution_count": 51,
     "metadata": {},
     "output_type": "execute_result"
    }
   ],
   "source": [
    "duplicate_projects_df[\n",
    "    [\"ppno\", \"project_name\", \"current_phase\", \"ea\", \"project_description\"]\n",
    "]"
   ]
  },
  {
   "cell_type": "markdown",
   "id": "f6716d25-4b8e-4995-bcac-fede8750e069",
   "metadata": {},
   "source": [
    "### Add Fake Values"
   ]
  },
  {
   "cell_type": "code",
   "execution_count": 52,
   "id": "309d8429-4692-46e6-a690-0b1b927f338b",
   "metadata": {
    "scrolled": true,
    "tags": []
   },
   "outputs": [],
   "source": [
    "df_investment_plan2 = df_investment_plan[\n",
    "    [\n",
    "        \"ppno\",\n",
    "        \"ct_project_id\",\n",
    "        \"district\",\n",
    "        \"route\",\n",
    "        \"urban_rural\",\n",
    "        \"project_name\",\n",
    "        \"current_phase\",\n",
    "        \"project_description\",\n",
    "        \"priority_project\",\n",
    "        \"previous_caltrans_nominations\",\n",
    "        \"primary_mode\",\n",
    "        \"lead_agency\",\n",
    "        \"pid_approval_date\",\n",
    "        \"target_pa_ed\",\n",
    "        \"rtl_date\",\n",
    "        \"con_start_date\",\n",
    "        \"funding_need_phase_s_\",\n",
    "        \"total_project_cost__$1,000_\",\n",
    "        \"potential_funding_program_s_\"\n",
    "    ]\n",
    "]"
   ]
  },
  {
   "cell_type": "code",
   "execution_count": 53,
   "id": "c2d352aa-86dd-4db8-b70f-9d9c7c03a3ea",
   "metadata": {},
   "outputs": [],
   "source": [
    "# https://stackoverflow.com/questions/64093880/how-to-create-random-floats-and-add-them-as-a-dataframe-column\n",
    "np.random.seed(365)"
   ]
  },
  {
   "cell_type": "code",
   "execution_count": 54,
   "id": "e48f080f-5d68-4d39-8b27-e90c34074fb8",
   "metadata": {},
   "outputs": [],
   "source": [
    "# Fake columns\n",
    "fake_columns = [\n",
    "    \"increase_peak_person_throughput\",\n",
    "    \"reduction_in_peak_period_delay\",\n",
    "    \"reduction_in_fatal_and_injury_crashes\",\n",
    "    \"reduction_in_injury_rates\",\n",
    "    \"increase_access_to_jobs\",\n",
    "    \"increase_access_jobs_to_DAC\",\n",
    "    \"commercial_dev_developed\",\n",
    "    \"tons_of_goods_impacted\",\n",
    "    \"improve_air_quality\",\n",
    "    \"impact_natural_resources\",\n",
    "    \"support_of_trasnportation\",\n",
    "]"
   ]
  },
  {
   "cell_type": "code",
   "execution_count": 55,
   "id": "2c0f3925-f69a-455a-825a-4051c0f01782",
   "metadata": {
    "scrolled": true,
    "tags": []
   },
   "outputs": [
    {
     "name": "stderr",
     "output_type": "stream",
     "text": [
      "/tmp/ipykernel_1231/551594285.py:3: SettingWithCopyWarning: \n",
      "A value is trying to be set on a copy of a slice from a DataFrame.\n",
      "Try using .loc[row_indexer,col_indexer] = value instead\n",
      "\n",
      "See the caveats in the documentation: https://pandas.pydata.org/pandas-docs/stable/user_guide/indexing.html#returning-a-view-versus-a-copy\n",
      "/tmp/ipykernel_1231/551594285.py:3: SettingWithCopyWarning: \n",
      "A value is trying to be set on a copy of a slice from a DataFrame.\n",
      "Try using .loc[row_indexer,col_indexer] = value instead\n",
      "\n",
      "See the caveats in the documentation: https://pandas.pydata.org/pandas-docs/stable/user_guide/indexing.html#returning-a-view-versus-a-copy\n",
      "/tmp/ipykernel_1231/551594285.py:3: SettingWithCopyWarning: \n",
      "A value is trying to be set on a copy of a slice from a DataFrame.\n",
      "Try using .loc[row_indexer,col_indexer] = value instead\n",
      "\n",
      "See the caveats in the documentation: https://pandas.pydata.org/pandas-docs/stable/user_guide/indexing.html#returning-a-view-versus-a-copy\n",
      "/tmp/ipykernel_1231/551594285.py:3: SettingWithCopyWarning: \n",
      "A value is trying to be set on a copy of a slice from a DataFrame.\n",
      "Try using .loc[row_indexer,col_indexer] = value instead\n",
      "\n",
      "See the caveats in the documentation: https://pandas.pydata.org/pandas-docs/stable/user_guide/indexing.html#returning-a-view-versus-a-copy\n",
      "/tmp/ipykernel_1231/551594285.py:3: SettingWithCopyWarning: \n",
      "A value is trying to be set on a copy of a slice from a DataFrame.\n",
      "Try using .loc[row_indexer,col_indexer] = value instead\n",
      "\n",
      "See the caveats in the documentation: https://pandas.pydata.org/pandas-docs/stable/user_guide/indexing.html#returning-a-view-versus-a-copy\n",
      "/tmp/ipykernel_1231/551594285.py:3: SettingWithCopyWarning: \n",
      "A value is trying to be set on a copy of a slice from a DataFrame.\n",
      "Try using .loc[row_indexer,col_indexer] = value instead\n",
      "\n",
      "See the caveats in the documentation: https://pandas.pydata.org/pandas-docs/stable/user_guide/indexing.html#returning-a-view-versus-a-copy\n",
      "/tmp/ipykernel_1231/551594285.py:3: SettingWithCopyWarning: \n",
      "A value is trying to be set on a copy of a slice from a DataFrame.\n",
      "Try using .loc[row_indexer,col_indexer] = value instead\n",
      "\n",
      "See the caveats in the documentation: https://pandas.pydata.org/pandas-docs/stable/user_guide/indexing.html#returning-a-view-versus-a-copy\n",
      "/tmp/ipykernel_1231/551594285.py:3: SettingWithCopyWarning: \n",
      "A value is trying to be set on a copy of a slice from a DataFrame.\n",
      "Try using .loc[row_indexer,col_indexer] = value instead\n",
      "\n",
      "See the caveats in the documentation: https://pandas.pydata.org/pandas-docs/stable/user_guide/indexing.html#returning-a-view-versus-a-copy\n",
      "/tmp/ipykernel_1231/551594285.py:3: SettingWithCopyWarning: \n",
      "A value is trying to be set on a copy of a slice from a DataFrame.\n",
      "Try using .loc[row_indexer,col_indexer] = value instead\n",
      "\n",
      "See the caveats in the documentation: https://pandas.pydata.org/pandas-docs/stable/user_guide/indexing.html#returning-a-view-versus-a-copy\n",
      "/tmp/ipykernel_1231/551594285.py:3: SettingWithCopyWarning: \n",
      "A value is trying to be set on a copy of a slice from a DataFrame.\n",
      "Try using .loc[row_indexer,col_indexer] = value instead\n",
      "\n",
      "See the caveats in the documentation: https://pandas.pydata.org/pandas-docs/stable/user_guide/indexing.html#returning-a-view-versus-a-copy\n",
      "/tmp/ipykernel_1231/551594285.py:3: SettingWithCopyWarning: \n",
      "A value is trying to be set on a copy of a slice from a DataFrame.\n",
      "Try using .loc[row_indexer,col_indexer] = value instead\n",
      "\n",
      "See the caveats in the documentation: https://pandas.pydata.org/pandas-docs/stable/user_guide/indexing.html#returning-a-view-versus-a-copy\n"
     ]
    }
   ],
   "source": [
    "# Add fake metric columns\n",
    "for i in fake_columns:\n",
    "    df_investment_plan2[i] = np.round(\n",
    "        np.random.uniform(0.0, 50.0, size=(len(df_investment_plan), 1)), 2\n",
    "    )"
   ]
  },
  {
   "cell_type": "code",
   "execution_count": 56,
   "id": "c7922310-054e-4557-90bf-837933398c2f",
   "metadata": {},
   "outputs": [
    {
     "name": "stderr",
     "output_type": "stream",
     "text": [
      "/tmp/ipykernel_1231/1099426880.py:2: SettingWithCopyWarning: \n",
      "A value is trying to be set on a copy of a slice from a DataFrame.\n",
      "Try using .loc[row_indexer,col_indexer] = value instead\n",
      "\n",
      "See the caveats in the documentation: https://pandas.pydata.org/pandas-docs/stable/user_guide/indexing.html#returning-a-view-versus-a-copy\n"
     ]
    }
   ],
   "source": [
    "# Create a column for fake funds requested - there only seems to be a total project cost col? \n",
    "df_investment_plan2['current_fake_fund_requested'] = np.round(\n",
    "        np.random.uniform(100000, 500000.0, size=(len(df_investment_plan), 1)), 2\n",
    "    )"
   ]
  },
  {
   "cell_type": "code",
   "execution_count": 58,
   "id": "2492d87a-e52d-4bae-ba2a-273abefa214d",
   "metadata": {},
   "outputs": [
    {
     "name": "stderr",
     "output_type": "stream",
     "text": [
      "/tmp/ipykernel_1231/3724488016.py:2: SettingWithCopyWarning: \n",
      "A value is trying to be set on a copy of a slice from a DataFrame.\n",
      "Try using .loc[row_indexer,col_indexer] = value instead\n",
      "\n",
      "See the caveats in the documentation: https://pandas.pydata.org/pandas-docs/stable/user_guide/indexing.html#returning-a-view-versus-a-copy\n"
     ]
    }
   ],
   "source": [
    "# Create a fake benefit score\n",
    "df_investment_plan2['fake_benefit_score'] = ((df_investment_plan2[fake_columns].sum(axis=1))/(df_investment_plan2['current_fake_fund_requested']))*10000"
   ]
  },
  {
   "cell_type": "code",
   "execution_count": 59,
   "id": "24aa08db-f1fb-4c4a-8508-e5f24665cb04",
   "metadata": {
    "tags": []
   },
   "outputs": [
    {
     "name": "stderr",
     "output_type": "stream",
     "text": [
      "/tmp/ipykernel_1231/1091836817.py:2: SettingWithCopyWarning: \n",
      "A value is trying to be set on a copy of a slice from a DataFrame.\n",
      "Try using .loc[row_indexer,col_indexer] = value instead\n",
      "\n",
      "See the caveats in the documentation: https://pandas.pydata.org/pandas-docs/stable/user_guide/indexing.html#returning-a-view-versus-a-copy\n"
     ]
    }
   ],
   "source": [
    "# Create a fake statewide project rank \n",
    "df_investment_plan2['statewide_rank'] = df_investment_plan2['fake_benefit_score'].rank(ascending=False)"
   ]
  },
  {
   "cell_type": "code",
   "execution_count": 60,
   "id": "6f1ba7d2-9343-4947-a378-0557976c6b9b",
   "metadata": {},
   "outputs": [
    {
     "name": "stderr",
     "output_type": "stream",
     "text": [
      "/tmp/ipykernel_1231/2474862744.py:2: SettingWithCopyWarning: \n",
      "A value is trying to be set on a copy of a slice from a DataFrame.\n",
      "Try using .loc[row_indexer,col_indexer] = value instead\n",
      "\n",
      "See the caveats in the documentation: https://pandas.pydata.org/pandas-docs/stable/user_guide/indexing.html#returning-a-view-versus-a-copy\n"
     ]
    }
   ],
   "source": [
    "# Create a fake district project rank \n",
    "df_investment_plan2['district_rank'] = df_investment_plan2.groupby('district')['fake_benefit_score'].rank(ascending=False)"
   ]
  },
  {
   "cell_type": "code",
   "execution_count": 63,
   "id": "b274db41-5a25-4c9d-92b6-a6c393f2c1e1",
   "metadata": {},
   "outputs": [
    {
     "data": {
      "text/html": [
       "<div>\n",
       "<style scoped>\n",
       "    .dataframe tbody tr th:only-of-type {\n",
       "        vertical-align: middle;\n",
       "    }\n",
       "\n",
       "    .dataframe tbody tr th {\n",
       "        vertical-align: top;\n",
       "    }\n",
       "\n",
       "    .dataframe thead th {\n",
       "        text-align: right;\n",
       "    }\n",
       "</style>\n",
       "<table border=\"1\" class=\"dataframe\">\n",
       "  <thead>\n",
       "    <tr style=\"text-align: right;\">\n",
       "      <th></th>\n",
       "      <th>ppno</th>\n",
       "      <th>ct_project_id</th>\n",
       "      <th>district</th>\n",
       "      <th>route</th>\n",
       "      <th>urban_rural</th>\n",
       "      <th>project_name</th>\n",
       "      <th>current_phase</th>\n",
       "      <th>project_description</th>\n",
       "      <th>priority_project</th>\n",
       "      <th>previous_caltrans_nominations</th>\n",
       "      <th>primary_mode</th>\n",
       "      <th>lead_agency</th>\n",
       "      <th>pid_approval_date</th>\n",
       "      <th>target_pa_ed</th>\n",
       "      <th>rtl_date</th>\n",
       "      <th>con_start_date</th>\n",
       "      <th>funding_need_phase_s_</th>\n",
       "      <th>total_project_cost__$1,000_</th>\n",
       "      <th>potential_funding_program_s_</th>\n",
       "      <th>increase_peak_person_throughput</th>\n",
       "      <th>reduction_in_peak_period_delay</th>\n",
       "      <th>reduction_in_fatal_and_injury_crashes</th>\n",
       "      <th>reduction_in_injury_rates</th>\n",
       "      <th>increase_access_to_jobs</th>\n",
       "      <th>increase_access_jobs_to_DAC</th>\n",
       "      <th>commercial_dev_developed</th>\n",
       "      <th>tons_of_goods_impacted</th>\n",
       "      <th>improve_air_quality</th>\n",
       "      <th>impact_natural_resources</th>\n",
       "      <th>support_of_trasnportation</th>\n",
       "      <th>current_fake_fund_requested</th>\n",
       "      <th>fake_benefit_score</th>\n",
       "      <th>statewide_rank</th>\n",
       "      <th>district_rank</th>\n",
       "    </tr>\n",
       "  </thead>\n",
       "  <tbody>\n",
       "    <tr>\n",
       "      <th>317</th>\n",
       "      <td>None</td>\n",
       "      <td>None</td>\n",
       "      <td>7.0</td>\n",
       "      <td>Off</td>\n",
       "      <td>Urban</td>\n",
       "      <td>La County Freight Rail Efficiency Project At Malabar Yard</td>\n",
       "      <td>NONE</td>\n",
       "      <td>The project would replace intermodal railcar storage capacity from BNSF's West Bank Yard to BNSF's Malabar Yard. Approximately 500 feet of new track would be constructed to connect BNSF Malabar Yard with the Los Angeles Railway Junction through east 46th Street. The 49th Street at-grade railroad crossing would be permanently closed.</td>\n",
       "      <td>0.0</td>\n",
       "      <td>DRMT Consolidated Statewide Project List\\nINFRA 2021 Caltrans Application\\nStimulus Drill 2021\\nTCEP Cycle 2 Priority 6 of 26 (Not Awarded)</td>\n",
       "      <td>Rail (Freight)</td>\n",
       "      <td>Bnsf/La Metro</td>\n",
       "      <td>datetime64[ns]</td>\n",
       "      <td>None</td>\n",
       "      <td>2023-04-30 00:00:00</td>\n",
       "      <td>datetime64[ns]</td>\n",
       "      <td>None</td>\n",
       "      <td>85738.0</td>\n",
       "      <td>Crisi\\nInfra\\nIntercity Pass Rail\\nTcep</td>\n",
       "      <td>27.75</td>\n",
       "      <td>41.47</td>\n",
       "      <td>14.13</td>\n",
       "      <td>37.33</td>\n",
       "      <td>45.61</td>\n",
       "      <td>42.44</td>\n",
       "      <td>40.50</td>\n",
       "      <td>28.94</td>\n",
       "      <td>21.99</td>\n",
       "      <td>31.28</td>\n",
       "      <td>7.03</td>\n",
       "      <td>276499.37</td>\n",
       "      <td>12.241258</td>\n",
       "      <td>191.0</td>\n",
       "      <td>22.0</td>\n",
       "    </tr>\n",
       "    <tr>\n",
       "      <th>550</th>\n",
       "      <td>None</td>\n",
       "      <td>None</td>\n",
       "      <td>75.0</td>\n",
       "      <td>Off</td>\n",
       "      <td>Urban</td>\n",
       "      <td>Signal Respacing: Maple To Solow</td>\n",
       "      <td>NONE</td>\n",
       "      <td>Respace existing intermediate signals</td>\n",
       "      <td>0.0</td>\n",
       "      <td>DRMT Consolidated Statewide Project List</td>\n",
       "      <td>Rail (Passenger)</td>\n",
       "      <td>Metrolink</td>\n",
       "      <td>datetime64[ns]</td>\n",
       "      <td>None</td>\n",
       "      <td>datetime64[ns]</td>\n",
       "      <td>datetime64[ns]</td>\n",
       "      <td>None</td>\n",
       "      <td>4900.0</td>\n",
       "      <td>Crisi\\nIntercity Pass Rail</td>\n",
       "      <td>9.88</td>\n",
       "      <td>6.46</td>\n",
       "      <td>46.86</td>\n",
       "      <td>5.81</td>\n",
       "      <td>10.62</td>\n",
       "      <td>32.77</td>\n",
       "      <td>3.38</td>\n",
       "      <td>27.77</td>\n",
       "      <td>12.62</td>\n",
       "      <td>25.03</td>\n",
       "      <td>40.83</td>\n",
       "      <td>192315.55</td>\n",
       "      <td>11.545088</td>\n",
       "      <td>217.0</td>\n",
       "      <td>51.0</td>\n",
       "    </tr>\n",
       "  </tbody>\n",
       "</table>\n",
       "</div>"
      ],
      "text/plain": [
       "     ppno ct_project_id  district route urban_rural  \\\n",
       "317  None          None       7.0   Off       Urban   \n",
       "550  None          None      75.0   Off       Urban   \n",
       "\n",
       "                                                  project_name current_phase  \\\n",
       "317  La County Freight Rail Efficiency Project At Malabar Yard          NONE   \n",
       "550                           Signal Respacing: Maple To Solow          NONE   \n",
       "\n",
       "                                                                                                                                                                                                                                                                                                                                project_description  \\\n",
       "317  The project would replace intermodal railcar storage capacity from BNSF's West Bank Yard to BNSF's Malabar Yard. Approximately 500 feet of new track would be constructed to connect BNSF Malabar Yard with the Los Angeles Railway Junction through east 46th Street. The 49th Street at-grade railroad crossing would be permanently closed.   \n",
       "550                                                                                                                                                                                                                                                                                                           Respace existing intermediate signals   \n",
       "\n",
       "     priority_project  \\\n",
       "317               0.0   \n",
       "550               0.0   \n",
       "\n",
       "                                                                                                                   previous_caltrans_nominations  \\\n",
       "317  DRMT Consolidated Statewide Project List\\nINFRA 2021 Caltrans Application\\nStimulus Drill 2021\\nTCEP Cycle 2 Priority 6 of 26 (Not Awarded)   \n",
       "550                                                                                                     DRMT Consolidated Statewide Project List   \n",
       "\n",
       "         primary_mode    lead_agency pid_approval_date target_pa_ed  \\\n",
       "317    Rail (Freight)  Bnsf/La Metro    datetime64[ns]         None   \n",
       "550  Rail (Passenger)      Metrolink    datetime64[ns]         None   \n",
       "\n",
       "                rtl_date  con_start_date funding_need_phase_s_  \\\n",
       "317  2023-04-30 00:00:00  datetime64[ns]                  None   \n",
       "550       datetime64[ns]  datetime64[ns]                  None   \n",
       "\n",
       "     total_project_cost__$1,000_             potential_funding_program_s_  \\\n",
       "317                      85738.0  Crisi\\nInfra\\nIntercity Pass Rail\\nTcep   \n",
       "550                       4900.0               Crisi\\nIntercity Pass Rail   \n",
       "\n",
       "     increase_peak_person_throughput  reduction_in_peak_period_delay  \\\n",
       "317                            27.75                           41.47   \n",
       "550                             9.88                            6.46   \n",
       "\n",
       "     reduction_in_fatal_and_injury_crashes  reduction_in_injury_rates  \\\n",
       "317                                  14.13                      37.33   \n",
       "550                                  46.86                       5.81   \n",
       "\n",
       "     increase_access_to_jobs  increase_access_jobs_to_DAC  \\\n",
       "317                    45.61                        42.44   \n",
       "550                    10.62                        32.77   \n",
       "\n",
       "     commercial_dev_developed  tons_of_goods_impacted  improve_air_quality  \\\n",
       "317                     40.50                   28.94                21.99   \n",
       "550                      3.38                   27.77                12.62   \n",
       "\n",
       "     impact_natural_resources  support_of_trasnportation  \\\n",
       "317                     31.28                       7.03   \n",
       "550                     25.03                      40.83   \n",
       "\n",
       "     current_fake_fund_requested  fake_benefit_score  statewide_rank  \\\n",
       "317                    276499.37           12.241258           191.0   \n",
       "550                    192315.55           11.545088           217.0   \n",
       "\n",
       "     district_rank  \n",
       "317           22.0  \n",
       "550           51.0  "
      ]
     },
     "execution_count": 63,
     "metadata": {},
     "output_type": "execute_result"
    }
   ],
   "source": [
    "df_investment_plan2.sample(2)"
   ]
  },
  {
   "cell_type": "code",
   "execution_count": 65,
   "id": "32778dad-87d5-41f2-b11b-c74dff14bd1e",
   "metadata": {},
   "outputs": [],
   "source": [
    "# Create a new monetary columns that is formatted\n",
    "monetary_cols = ['total_project_cost__$1,000_', 'current_fake_fund_requested']"
   ]
  },
  {
   "cell_type": "code",
   "execution_count": 69,
   "id": "a3e60806-a07b-4477-9533-90bbfb1d5a9d",
   "metadata": {
    "scrolled": true,
    "tags": []
   },
   "outputs": [],
   "source": [
    " df_investment_plan2.to_excel(f\"{GCS_FILE_PATH}fake_data.xlsx\", sheet_name='fake', index= False)  "
   ]
  }
 ],
 "metadata": {
  "kernelspec": {
   "display_name": "Python 3 (ipykernel)",
   "language": "python",
   "name": "python3"
  },
  "language_info": {
   "codemirror_mode": {
    "name": "ipython",
    "version": 3
   },
   "file_extension": ".py",
   "mimetype": "text/x-python",
   "name": "python",
   "nbconvert_exporter": "python",
   "pygments_lexer": "ipython3",
   "version": "3.10.5"
  }
 },
 "nbformat": 4,
 "nbformat_minor": 5
}
