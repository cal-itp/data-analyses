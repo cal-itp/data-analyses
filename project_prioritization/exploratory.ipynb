{
 "cells": [
  {
   "cell_type": "markdown",
   "id": "c97654de-9428-4e4b-9ae9-323e8469a52a",
   "metadata": {},
   "source": [
    "# 10 Year Non Shopp Data\n",
    "* Generating fake data.\n",
    "* Initial exploration.\n",
    "* [Using Smart Sheet.](https://app.smartsheet.com/workspaces/8MgpHcXR4GJVM5GvWWMmQg7M8gqhJj88Gfh54Pr1)"
   ]
  },
  {
   "cell_type": "code",
   "execution_count": 70,
   "id": "961bd8c3-fc92-4a72-a106-bb542fdf4e87",
   "metadata": {},
   "outputs": [],
   "source": [
    "import numpy as np\n",
    "import pandas as pd\n",
    "from babel.numbers import format_currency\n",
    "from calitp import *\n",
    "from shared_utils import portfolio_utils"
   ]
  },
  {
   "cell_type": "code",
   "execution_count": 71,
   "id": "9057dd1d-8c22-42bf-a2fd-6cfae1710ee4",
   "metadata": {},
   "outputs": [],
   "source": [
    "pd.options.display.max_columns = 100\n",
    "pd.set_option(\"display.max_rows\", None)\n",
    "pd.set_option(\"display.max_colwidth\", None)"
   ]
  },
  {
   "cell_type": "code",
   "execution_count": 72,
   "id": "f31abc44-d445-44b6-a04b-5d9a3cfb2eab",
   "metadata": {},
   "outputs": [],
   "source": [
    "import _utils"
   ]
  },
  {
   "cell_type": "code",
   "execution_count": 73,
   "id": "ec08614f-a868-48ea-9106-dd02ac2906fd",
   "metadata": {},
   "outputs": [],
   "source": [
    "GCS_FILE_PATH = \"gs://calitp-analytics-data/data-analyses/project_prioritization/\""
   ]
  },
  {
   "cell_type": "code",
   "execution_count": 74,
   "id": "6847a64e-af90-41ef-ba56-096851faa798",
   "metadata": {},
   "outputs": [
    {
     "name": "stderr",
     "output_type": "stream",
     "text": [
      "/opt/conda/lib/python3.10/site-packages/openpyxl/styles/stylesheet.py:226: UserWarning: Workbook contains no default style, apply openpyxl's default\n"
     ]
    }
   ],
   "source": [
    "# Open first sheet.\n",
    "df_investment_plan = to_snakecase(\n",
    "    pd.read_excel(\n",
    "        f\"{GCS_FILE_PATH}10 Year Non-SHOPP Investment Plan Project List 11-7-22.xlsx\"\n",
    "    )\n",
    ")"
   ]
  },
  {
   "cell_type": "markdown",
   "id": "007a66e8-9d05-4156-9ecc-6a17d0603ac9",
   "metadata": {},
   "source": [
    "### Cleaning"
   ]
  },
  {
   "cell_type": "code",
   "execution_count": 75,
   "id": "205ddb97-a85b-43f4-b991-4886b0c5fe8b",
   "metadata": {},
   "outputs": [
    {
     "data": {
      "text/plain": [
       "(743, 69)"
      ]
     },
     "execution_count": 75,
     "metadata": {},
     "output_type": "execute_result"
    }
   ],
   "source": [
    "df_investment_plan.shape"
   ]
  },
  {
   "cell_type": "code",
   "execution_count": 76,
   "id": "de78890c-0f81-4764-9763-bfb6fb08f1f2",
   "metadata": {},
   "outputs": [
    {
     "data": {
      "text/plain": [
       "ea                                             55.181696\n",
       "ppno                                           70.794078\n",
       "ct_project_id                                  58.008075\n",
       "district                                        0.672948\n",
       "county                                          0.403769\n",
       "route                                           2.153432\n",
       "beg_pm                                         53.701211\n",
       "end_pm                                         53.835801\n",
       "urban_rural                                    15.074024\n",
       "project_name                                    0.134590\n",
       "project_description                             6.191117\n",
       "hq_priority                                    88.829071\n",
       "district_priority                              99.865410\n",
       "previous_caltrans_nominations                   9.152086\n",
       "primary_mode                                    0.134590\n",
       "secondary_mode_s_                              66.218035\n",
       "shs_capacity_increase_detail                   62.045760\n",
       "potential_funding_program_s_                   20.592194\n",
       "notes                                          36.877524\n",
       "lead_agency                                    31.090175\n",
       "current_phase                                  46.837147\n",
       "pid_approval_date                              98.923284\n",
       "target_pa_ed                                   95.289367\n",
       "rtl_date                                       80.215343\n",
       "con_start_date                                 65.006729\n",
       "funding_need_phase_s_                          97.981157\n",
       "total_project_cost__$1,000_                    30.013459\n",
       "pa_ed_cost__$1,000_                            95.827725\n",
       "ps_e_cost__$1,000_                             96.635262\n",
       "row_cost__$1,000_                              96.635262\n",
       "con_cost__$1,000_                              95.558546\n",
       "non_infrastructure___plan_cost__$1,000_        98.923284\n",
       "total_unfunded_need__$1,000_                   97.577389\n",
       "previous_funding_request                       80.215343\n",
       "previous_funding_request_phase                 93.539704\n",
       "last_scored                                    62.853297\n",
       "mode_shift__csis_                              86.675639\n",
       "vmt__csis_                                     89.098250\n",
       "dac_local_community_needs__csis_               86.675639\n",
       "public_engagement__csis_                       86.675639\n",
       "safety__csis_                                  86.675639\n",
       "zev__csis_                                     89.098250\n",
       "climate_resiliency__csis_                      89.098250\n",
       "natural_resources_and_ecosystems__csis_        89.098250\n",
       "infill_development_and_land_use__csis_         89.098250\n",
       "csis_total_score__out_of_45_                    0.000000\n",
       "csis_alignment                                  0.000000\n",
       "benefits_to_dac_and_advancing_equity__atp_     98.384926\n",
       "community_need__atp_                           98.384926\n",
       "safety__atp_                                   98.384926\n",
       "public_participation__atp_                     98.384926\n",
       "community_feedback__atp_                       98.384926\n",
       "continued_engagement__atp_                     98.384926\n",
       "context_sensitive_and_innovation__atp_         98.384926\n",
       "transformative__atp_                           98.384926\n",
       "atp_total_score__out_of_100_                    0.000000\n",
       "atp_alignment                                   0.000000\n",
       "access_alignment                               76.312248\n",
       "_2023                                          99.865410\n",
       "_2024                                          99.865410\n",
       "_2025                                         100.000000\n",
       "_2026                                          99.865410\n",
       "_2027                                         100.000000\n",
       "_2028                                         100.000000\n",
       "_2029                                         100.000000\n",
       "_2030                                         100.000000\n",
       "_2031                                         100.000000\n",
       "_2032                                         100.000000\n",
       "_2033                                         100.000000\n",
       "dtype: float64"
      ]
     },
     "execution_count": 76,
     "metadata": {},
     "output_type": "execute_result"
    }
   ],
   "source": [
    "# Look at nulls by % for each column\n",
    "(df_investment_plan.isnull().sum() / len(df_investment_plan)) * 100"
   ]
  },
  {
   "cell_type": "code",
   "execution_count": 77,
   "id": "4b7d4d5e-a9d0-44ed-95b8-95a3cd005de8",
   "metadata": {},
   "outputs": [],
   "source": [
    "# Clean up some of the values.\n",
    "df_investment_plan[\"total_project_cost__$1,000_\"] = df_investment_plan[\n",
    "    \"total_project_cost__$1,000_\"\n",
    "].replace(\n",
    "    {\n",
    "        \"Phase 1 (SR-60 to Mission Blvd) - $174,000\\nPhase 2 (Mission Blvd to I-10) - $170,000\": 344000,\n",
    "        \"$85,738 (Cycle 2)\": 85738,\n",
    "        \"Oxnard to Camarillo 2nd Main Track: $15,000\\nOxnard Station North Platform: $20,000\": 35000,\n",
    "        \"$214,000\\nPhase 1: $82,000\\nPhase 2: $132,000\": 214000,\n",
    "        \"$-\": 0,\n",
    "        \"TBD\": 0,\n",
    "    }\n",
    ")"
   ]
  },
  {
   "cell_type": "code",
   "execution_count": 78,
   "id": "3ee756e2-2e03-45f2-8425-2e189b6e45d5",
   "metadata": {
    "scrolled": true,
    "tags": []
   },
   "outputs": [],
   "source": [
    "# df_investment_plan[\"total_project_cost__$1,000_\"].unique().tolist()"
   ]
  },
  {
   "cell_type": "code",
   "execution_count": 79,
   "id": "25401eb4-7bde-40c6-b7d6-0ad29101642a",
   "metadata": {},
   "outputs": [],
   "source": [
    "# Coerce dates to right format\n",
    "date_cols = [\n",
    "    \"pid_approval_date\",\n",
    "    \"rtl_date\",\n",
    "    \"con_start_date\",\n",
    "]\n",
    "for c in date_cols:\n",
    "    df_investment_plan[c] = df_investment_plan[c].apply(pd.to_datetime, errors=\"coerce\")"
   ]
  },
  {
   "cell_type": "code",
   "execution_count": 80,
   "id": "49ef853e-ff0b-4f76-828e-ab2937f8374c",
   "metadata": {},
   "outputs": [],
   "source": [
    "# Fill na based on dtypes\n",
    "df_investment_plan = df_investment_plan.fillna(\n",
    "    df_investment_plan.dtypes.replace({\"float64\": 0.0, \"object\": \"None\"})\n",
    ")"
   ]
  },
  {
   "cell_type": "code",
   "execution_count": 81,
   "id": "337544b0-ac42-434d-9ea8-1c39b9ffd492",
   "metadata": {},
   "outputs": [],
   "source": [
    "# Titlecase some string columns\n",
    "titlecase_cols = [\n",
    "    \"route\",\n",
    "    \"potential_funding_program_s_\",\n",
    "    \"lead_agency\",\n",
    "    \"primary_mode\",\n",
    "    \"project_name\",\n",
    "    \"potential_funding_program_s_\",\n",
    "]"
   ]
  },
  {
   "cell_type": "code",
   "execution_count": 82,
   "id": "10eee598-5957-4996-9e1d-edb2ad957f62",
   "metadata": {},
   "outputs": [],
   "source": [
    "for c in titlecase_cols:\n",
    "    df_investment_plan[c] = df_investment_plan[c].str.title().str.strip()"
   ]
  },
  {
   "cell_type": "code",
   "execution_count": 83,
   "id": "95cde04f-8358-40f7-abd8-73d3676093c1",
   "metadata": {},
   "outputs": [],
   "source": [
    "# Upper case phases & counties\n",
    "uppercase_cols = [\"current_phase\", \"county\"]\n",
    "for c in uppercase_cols:\n",
    "    df_investment_plan[c] = df_investment_plan[c].str.upper().str.strip()"
   ]
  },
  {
   "cell_type": "code",
   "execution_count": 84,
   "id": "76458ccb-c7aa-4687-9ad8-a32c1893f943",
   "metadata": {},
   "outputs": [],
   "source": [
    "# lower case phases & counties\n",
    "lower_case = [\n",
    "    \"urban_rural\",\n",
    "]\n",
    "for c in lower_case:\n",
    "    df_investment_plan[c] = df_investment_plan[c].str.lower().str.strip()"
   ]
  },
  {
   "cell_type": "code",
   "execution_count": 85,
   "id": "b700754a-22e9-408b-955e-ac09f1272e68",
   "metadata": {},
   "outputs": [],
   "source": [
    "# Correct some curent phase values that read in messily\n",
    "df_investment_plan[\"current_phase\"] = df_investment_plan[\"current_phase\"].replace(\n",
    "    {\n",
    "        \"ps&e\\nr/w\": \"ps&e\",\n",
    "        \"other\\nplan/concept\": \"other\\plan\\concept\",\n",
    "        \"pid\\nplan/concept\": \"pid\\plan\\concept\",\n",
    "        \"ps&e\\nrow\": \"ps&e\\row\",\n",
    "    }\n",
    ")"
   ]
  },
  {
   "cell_type": "markdown",
   "id": "dd995978-ac23-4b7b-bec9-50184302b3d6",
   "metadata": {
    "tags": []
   },
   "source": [
    "#### Correct Projects that are in the wrong district"
   ]
  },
  {
   "cell_type": "code",
   "execution_count": 86,
   "id": "4e967619-1803-4886-951a-6b7bb0a25e5d",
   "metadata": {
    "scrolled": true,
    "tags": []
   },
   "outputs": [],
   "source": [
    "# df_investment_plan[['project_name','county','district']]"
   ]
  },
  {
   "cell_type": "code",
   "execution_count": 87,
   "id": "546b0bef-93fa-4a1c-a7b0-67a17c59df21",
   "metadata": {},
   "outputs": [],
   "source": [
    "df_investment_plan.loc[\n",
    "    (\n",
    "        df_investment_plan[\"project_name\"]\n",
    "        == \"Polb Terminal Island Wye Track Realignment\"\n",
    "    ),\n",
    "    \"district\",\n",
    "] = \"7\""
   ]
  },
  {
   "cell_type": "code",
   "execution_count": 88,
   "id": "a6a4eca5-dad4-4c35-804f-b3386fa44b0f",
   "metadata": {},
   "outputs": [],
   "source": [
    "df_investment_plan.loc[\n",
    "    (df_investment_plan[\"project_name\"] == \"Sr 58 Truck Climbing Lanes Segment 2\"),\n",
    "    \"district\",\n",
    "] = \"6\"\n",
    "df_investment_plan.loc[\n",
    "    (df_investment_plan[\"project_name\"] == \"Mojave To Boron Freeway\"), \"district\"\n",
    "] = \"6\"\n",
    "df_investment_plan.loc[\n",
    "    (df_investment_plan[\"project_name\"] == \"Sr 58/California City Blvd. Extension\"),\n",
    "    \"district\",\n",
    "] = \"6\""
   ]
  },
  {
   "cell_type": "markdown",
   "id": "48d660ae-6408-4803-a283-16c4f8c06521",
   "metadata": {
    "tags": []
   },
   "source": [
    "### Investigate: Duplicated PPNO?"
   ]
  },
  {
   "cell_type": "code",
   "execution_count": 89,
   "id": "8b092fc6-457e-4cda-b9fe-c47852c54a72",
   "metadata": {},
   "outputs": [
    {
     "name": "stdout",
     "output_type": "stream",
     "text": [
      "ppno : 204\n",
      "ct_project_id : 300\n",
      "project_name : 742\n"
     ]
    }
   ],
   "source": [
    "# Check that each row represents a different project\n",
    "for i in [\"ppno\", \"ct_project_id\", \"project_name\"]:\n",
    "    print(f\"{i} : {df_investment_plan[i].nunique()}\")"
   ]
  },
  {
   "cell_type": "code",
   "execution_count": 90,
   "id": "be2a2837-d30a-43cb-86e7-b37b3d0a458d",
   "metadata": {},
   "outputs": [
    {
     "data": {
      "text/plain": [
       "Delano To Pixely 6-Lane                                                       2\n",
       "Crescent City Ada                                                             1\n",
       "Rte 55 Btw Sr 73 And I-5, Managed Lanes Project                               1\n",
       "Reconnecting Grand Avenue \"Complete Streets To Transit\" And Safety Project    1\n",
       "I-5 Btw Rte 73 And Sd Co, Managed Lanes Project                               1\n",
       "Name: project_name, dtype: int64"
      ]
     },
     "execution_count": 90,
     "metadata": {},
     "output_type": "execute_result"
    }
   ],
   "source": [
    "# One project is included twice\n",
    "df_investment_plan[\"project_name\"].value_counts().head()"
   ]
  },
  {
   "cell_type": "code",
   "execution_count": 91,
   "id": "84f52222-6fd0-4fb5-9169-d5e2fc5a75f6",
   "metadata": {
    "scrolled": true,
    "tags": []
   },
   "outputs": [],
   "source": [
    "# Check and make sure there aren't duplicate PPNO-Project Name combos\n",
    "duplicate_ppno = (\n",
    "    df_investment_plan[~df_investment_plan[\"ppno\"].isin([0, \"None\"])]\n",
    "    .groupby(\"ppno\")\n",
    "    .agg({\"project_name\": \"count\"})\n",
    "    .sort_values(\"project_name\")\n",
    "    .reset_index()\n",
    ")"
   ]
  },
  {
   "cell_type": "code",
   "execution_count": 92,
   "id": "3b0568a2-a2c1-4338-8871-daff1c6ee7d0",
   "metadata": {},
   "outputs": [],
   "source": [
    "# Filter out for ppno with more than 2 project names.\n",
    "# Save those projects into a list\n",
    "duplicate_ppno = duplicate_ppno[duplicate_ppno[\"project_name\"] > 1]"
   ]
  },
  {
   "cell_type": "code",
   "execution_count": 93,
   "id": "8b3e96ab-afc5-4e61-bb77-7921cea45151",
   "metadata": {},
   "outputs": [],
   "source": [
    "duplicate_ppno_list = duplicate_ppno[\"ppno\"].to_list()"
   ]
  },
  {
   "cell_type": "code",
   "execution_count": 94,
   "id": "5a136870-aac2-45d4-a5dd-0fee8637afb9",
   "metadata": {
    "tags": []
   },
   "outputs": [
    {
     "data": {
      "text/plain": [
       "24"
      ]
     },
     "execution_count": 94,
     "metadata": {},
     "output_type": "execute_result"
    }
   ],
   "source": [
    "# Check out these rows in our df\n",
    "# are these duplicates?\n",
    "len(df_investment_plan[df_investment_plan[\"ppno\"].isin(duplicate_ppno_list)])"
   ]
  },
  {
   "cell_type": "code",
   "execution_count": 95,
   "id": "acb4c8e3-9d2d-4339-a92a-fea03c8b1fdd",
   "metadata": {
    "scrolled": true,
    "tags": []
   },
   "outputs": [],
   "source": [
    "duplicate_projects_df = df_investment_plan[\n",
    "    df_investment_plan[\"ppno\"].isin(duplicate_ppno_list)\n",
    "]"
   ]
  },
  {
   "cell_type": "code",
   "execution_count": 96,
   "id": "8ba62f22-f419-4ee0-a573-2a215a0a1aa2",
   "metadata": {
    "tags": []
   },
   "outputs": [
    {
     "data": {
      "text/plain": [
       "'\\nduplicate_projects_df[\\n    [\"ppno\", \"project_name\", \"current_phase\", \"ea\", \"project_description\"]\\n].sort_values(\\'project_name\\')'"
      ]
     },
     "execution_count": 96,
     "metadata": {},
     "output_type": "execute_result"
    }
   ],
   "source": [
    "\"\"\"\n",
    "duplicate_projects_df[\n",
    "    [\"ppno\", \"project_name\", \"current_phase\", \"ea\", \"project_description\"]\n",
    "].sort_values('project_name')\"\"\""
   ]
  },
  {
   "cell_type": "markdown",
   "id": "f6716d25-4b8e-4995-bcac-fede8750e069",
   "metadata": {},
   "source": [
    "### Add Fake Values"
   ]
  },
  {
   "cell_type": "code",
   "execution_count": 97,
   "id": "cb918292-983d-4914-bcf6-886281a28af3",
   "metadata": {},
   "outputs": [],
   "source": [
    "df_investment_plan2 = df_investment_plan.copy()"
   ]
  },
  {
   "cell_type": "markdown",
   "id": "48757aa0-e11e-4728-98e2-ff320cb28c1e",
   "metadata": {},
   "source": [
    "#### Create fake metrics"
   ]
  },
  {
   "cell_type": "code",
   "execution_count": 98,
   "id": "c2d352aa-86dd-4db8-b70f-9d9c7c03a3ea",
   "metadata": {},
   "outputs": [],
   "source": [
    "# https://stackoverflow.com/questions/64093880/how-to-create-random-floats-and-add-them-as-a-dataframe-column\n",
    "np.random.seed(365)"
   ]
  },
  {
   "cell_type": "code",
   "execution_count": 99,
   "id": "e48f080f-5d68-4d39-8b27-e90c34074fb8",
   "metadata": {},
   "outputs": [],
   "source": [
    "# Fake columns\n",
    "fake_columns = [\n",
    "    \"increase_peak_person_throughput\",\n",
    "    \"reduction_in_peak_period_delay\",\n",
    "    \"reduction_in_fatal_and_injury_crashes\",\n",
    "    \"reduction_in_injury_rates\",\n",
    "    \"increase_access_to_jobs\",\n",
    "    \"increase_access_jobs_to_DAC\",\n",
    "    \"commercial_dev_developed\",\n",
    "    \"tons_of_goods_impacted\",\n",
    "    \"improve_air_quality\",\n",
    "    \"impact_natural_resources\",\n",
    "    \"support_of_transportation\",\n",
    "]"
   ]
  },
  {
   "cell_type": "code",
   "execution_count": 100,
   "id": "2c0f3925-f69a-455a-825a-4051c0f01782",
   "metadata": {
    "scrolled": true,
    "tags": []
   },
   "outputs": [],
   "source": [
    "# Add fake metric columns\n",
    "for i in fake_columns:\n",
    "    df_investment_plan2[i] = np.round(\n",
    "        np.random.uniform(0.0, 50.0, size=(len(df_investment_plan), 1)), 2\n",
    "    )"
   ]
  },
  {
   "cell_type": "markdown",
   "id": "72017f1b-4c0c-43d2-a060-0196f6cc792b",
   "metadata": {},
   "source": [
    "#### Create fake benefit score and ranks."
   ]
  },
  {
   "cell_type": "code",
   "execution_count": 101,
   "id": "2492d87a-e52d-4bae-ba2a-273abefa214d",
   "metadata": {},
   "outputs": [],
   "source": [
    "# Create a fake benefit score\n",
    "df_investment_plan2[\"fake_benefit_score\"] = (\n",
    "    (df_investment_plan2[fake_columns].sum(axis=1))\n",
    "    / (df_investment_plan2[\"total_unfunded_need__$1,000_\"]).sum()\n",
    ") * 1000000"
   ]
  },
  {
   "cell_type": "code",
   "execution_count": 102,
   "id": "24aa08db-f1fb-4c4a-8508-e5f24665cb04",
   "metadata": {
    "tags": []
   },
   "outputs": [],
   "source": [
    "# Create a fake statewide project rank\n",
    "df_investment_plan2[\"statewide_rank\"] = df_investment_plan2[\"fake_benefit_score\"].rank(\n",
    "    ascending=False\n",
    ")"
   ]
  },
  {
   "cell_type": "code",
   "execution_count": 103,
   "id": "5ecd9fa9-caa7-489f-b3f6-d79dfa77f6e5",
   "metadata": {},
   "outputs": [],
   "source": [
    "df_investment_plan2[\"district_rank\"] = df_investment_plan2.groupby(\"district\")[\n",
    "    \"fake_benefit_score\"\n",
    "].rank(method=\"dense\", ascending=False)"
   ]
  },
  {
   "cell_type": "markdown",
   "id": "102ae1ee-64f8-47f3-ab78-cfa181993f8e",
   "metadata": {},
   "source": [
    "##### Double test district rank is what I expect"
   ]
  },
  {
   "cell_type": "code",
   "execution_count": 104,
   "id": "69a8b1f5-dbc7-469f-904b-9503009e60fa",
   "metadata": {},
   "outputs": [
    {
     "data": {
      "text/plain": [
       "97"
      ]
     },
     "execution_count": 104,
     "metadata": {},
     "output_type": "execute_result"
    }
   ],
   "source": [
    "# D4 only projects\n",
    "len(df_investment_plan2.loc[df_investment_plan2[\"district\"] == 4])"
   ]
  },
  {
   "cell_type": "code",
   "execution_count": 105,
   "id": "a1b4a5a7-7571-41f0-b9c3-d4197bcf71f7",
   "metadata": {
    "scrolled": true,
    "tags": []
   },
   "outputs": [],
   "source": [
    "# df_investment_plan2.loc[df_investment_plan2['district'] == 4][['fake_benefit_score','district_rank']].sort_values('district_rank')"
   ]
  },
  {
   "cell_type": "markdown",
   "id": "2e02208b-4c29-4890-afd5-d7ca21e1b86a",
   "metadata": {},
   "source": [
    "### Add median across districts\n",
    "* project cost\n",
    "* unfunded needs\n",
    "* benefit score"
   ]
  },
  {
   "cell_type": "code",
   "execution_count": 106,
   "id": "7e33099b-de86-439e-b699-c986dd77fc63",
   "metadata": {},
   "outputs": [],
   "source": [
    "df_investment_plan2[\"district\"] = df_investment_plan2[\"district\"].astype(\"int64\")"
   ]
  },
  {
   "cell_type": "code",
   "execution_count": 107,
   "id": "e17d8e48-58fe-469d-a21c-0c00ca2df5d7",
   "metadata": {},
   "outputs": [],
   "source": [
    "# Grab medians\n",
    "summary_district_state = (\n",
    "    df_investment_plan2.groupby([\"district\"])\n",
    "    .agg(\n",
    "        {\n",
    "            \"total_project_cost__$1,000_\": \"median\",\n",
    "            \"fake_benefit_score\": \"median\",\n",
    "            \"total_unfunded_need__$1,000_\": \"median\",\n",
    "            \"csis_total_score__out_of_45_\": \"median\",\n",
    "            \"atp_total_score__out_of_100_\": \"median\"\n",
    "        }\n",
    "    )\n",
    "    .reset_index()\n",
    ")"
   ]
  },
  {
   "cell_type": "code",
   "execution_count": 108,
   "id": "0916c3bc-ccd6-4fd8-8809-8efb714361c4",
   "metadata": {},
   "outputs": [],
   "source": [
    "# Add suffixes\n",
    "summary_district_state = summary_district_state.add_suffix(\"_district_median_\")"
   ]
  },
  {
   "cell_type": "code",
   "execution_count": 109,
   "id": "238504cb-a661-4f30-b075-c2ba62d37cbf",
   "metadata": {},
   "outputs": [],
   "source": [
    "df_investment_plan2 = pd.merge(\n",
    "    df_investment_plan2,\n",
    "    summary_district_state,\n",
    "    left_on=\"district\",\n",
    "    right_on=\"district_district_median_\",\n",
    "    how=\"left\",\n",
    ")"
   ]
  },
  {
   "cell_type": "markdown",
   "id": "dd8e486b-58fd-47ad-a093-86a8292bd228",
   "metadata": {},
   "source": [
    "### District/County"
   ]
  },
  {
   "cell_type": "markdown",
   "id": "dfa7931e-e62f-4f4b-a19b-4b5a122cd4b6",
   "metadata": {},
   "source": [
    "#### Add Full County Names & Remap Districts to avoid 75/74"
   ]
  },
  {
   "cell_type": "code",
   "execution_count": 110,
   "id": "b7df603c-a761-4912-9793-81375513cc19",
   "metadata": {},
   "outputs": [],
   "source": [
    "# Map full county names \n",
    "df_county = to_snakecase(pd.read_excel(f\"{GCS_FILE_PATH}full_counties.xlsx\"))\n",
    "\n",
    "df_county = df_county.rename(\n",
    "    columns={\n",
    "        \"county\": \"full_county_name\",\n",
    "    }\n",
    ").drop(columns=[\"district\"])"
   ]
  },
  {
   "cell_type": "code",
   "execution_count": 111,
   "id": "430eb682-958c-48bd-b560-8ed7680d33c2",
   "metadata": {},
   "outputs": [],
   "source": [
    "# Merge \n",
    "df_investment_plan2 = pd.merge(\n",
    "    df_investment_plan2,\n",
    "    df_county,\n",
    "    left_on=\"county\",\n",
    "    right_on=\"abbrev_\",\n",
    "    how=\"left\",\n",
    "    indicator=True,\n",
    ")"
   ]
  },
  {
   "cell_type": "code",
   "execution_count": 112,
   "id": "adbf9638-cb96-4f8a-84f3-4bd56bcaedd8",
   "metadata": {},
   "outputs": [],
   "source": [
    "# Fill full_county_name column with none if it's none in the county column\n",
    "df_investment_plan2.loc[\n",
    "    (df_investment_plan2[\"county\"] == \"NONE\"),\n",
    "    \"full_county_name\",\n",
    "] = \"None\""
   ]
  },
  {
   "cell_type": "code",
   "execution_count": 113,
   "id": "d21241e2-d7e8-4361-8565-ed5a7a52aad3",
   "metadata": {},
   "outputs": [],
   "source": [
    "# Any projects that don't have a full county name cross Various counties\n",
    "# Fill N/A with various\n",
    "df_investment_plan2[\"full_county_name\"] = df_investment_plan2[\n",
    "    \"full_county_name\"\n",
    "].fillna(\"Various\")"
   ]
  },
  {
   "cell_type": "code",
   "execution_count": 114,
   "id": "76c00219-be6d-4815-b410-b14724434988",
   "metadata": {
    "scrolled": true,
    "tags": []
   },
   "outputs": [],
   "source": [
    "# Check and make sure counties - district relationship makes sense.\n",
    "# df_investment_plan2[['county','full_county_name']].loc[df_investment_plan2['full_county_name'] == 'Various']"
   ]
  },
  {
   "cell_type": "markdown",
   "id": "5f781e36-39d3-4dd2-bc13-2b43c0a7a262",
   "metadata": {},
   "source": [
    "#### Rename Districts to mimic portfolio"
   ]
  },
  {
   "cell_type": "code",
   "execution_count": 115,
   "id": "7afa3cb9-fbb8-4b39-af8d-fe5e3001f78d",
   "metadata": {},
   "outputs": [],
   "source": [
    "# Add official Caltrans District names\n",
    "district_dictionary = {\n",
    "    7: \"07 - Los Angeles\",\n",
    "    4: \"04 - Oakland\",\n",
    "    2: \"02 - Redding\",\n",
    "    9: \"09 - Bishop\",\n",
    "    10: \"10 - Stockton\",\n",
    "    11: \"11 - San Diego\",\n",
    "    3: \"03 - Marysville\",\n",
    "    12: \"12 - Irvine\",\n",
    "    8: \"08 - San Bernardino\",\n",
    "    5: \"05 - San Luis Obispo\",\n",
    "    6: \"06 - Fresno\",\n",
    "    1: \"01 - Eureka\",\n",
    "    75: \"75 - HQ\",\n",
    "    74: \"74 - HQ\",\n",
    "    0: \"None\",\n",
    "}"
   ]
  },
  {
   "cell_type": "code",
   "execution_count": 116,
   "id": "7812bf76-50c4-461a-bab7-1b1f27867ef0",
   "metadata": {},
   "outputs": [],
   "source": [
    "df_investment_plan2[\"district\"] = df_investment_plan2[\"district\"].replace(\n",
    "    district_dictionary\n",
    ")"
   ]
  },
  {
   "cell_type": "markdown",
   "id": "6b4fe97e-cfa5-4312-abf2-da97052f22a3",
   "metadata": {
    "tags": []
   },
   "source": [
    "#### Drop unwanted columns"
   ]
  },
  {
   "cell_type": "code",
   "execution_count": 117,
   "id": "86d4884e-a593-4900-ab24-0d83061f1eae",
   "metadata": {},
   "outputs": [],
   "source": [
    "unwanted_cols = [\n",
    "    \"abbrev_\",\n",
    "    \"_merge\",\n",
    "    \"_2023\",\n",
    "    \"_2024\",\n",
    "    \"_2025\",\n",
    "    \"_2026\",\n",
    "    \"_2027\",\n",
    "    \"_2028\",\n",
    "    \"_2029\",\n",
    "    \"_2030\",\n",
    "    \"_2031\",\n",
    "    \"_2032\",\n",
    "    \"_2033\",\n",
    "    \"district_district_median_\",\n",
    "]"
   ]
  },
  {
   "cell_type": "code",
   "execution_count": 118,
   "id": "ad758c6a-6734-4b69-9085-d17d7030b080",
   "metadata": {},
   "outputs": [],
   "source": [
    "df_investment_plan2 = df_investment_plan2.drop(columns=unwanted_cols)"
   ]
  },
  {
   "cell_type": "markdown",
   "id": "9de85d34-0362-4993-981a-5eb0f5a196b2",
   "metadata": {},
   "source": [
    "### Some more checks "
   ]
  },
  {
   "cell_type": "code",
   "execution_count": 119,
   "id": "29bc8c57-996b-4209-b059-feea9e778d0c",
   "metadata": {},
   "outputs": [
    {
     "data": {
      "text/plain": [
       "(742, 742)"
      ]
     },
     "execution_count": 119,
     "metadata": {},
     "output_type": "execute_result"
    }
   ],
   "source": [
    "df_investment_plan2.project_name.nunique(), df_investment_plan.project_name.nunique()"
   ]
  },
  {
   "cell_type": "code",
   "execution_count": 120,
   "id": "150078bf-26f0-4fe2-b458-21c2c0db0a3b",
   "metadata": {},
   "outputs": [
    {
     "data": {
      "text/plain": [
       "743"
      ]
     },
     "execution_count": 120,
     "metadata": {},
     "output_type": "execute_result"
    }
   ],
   "source": [
    "len(df_investment_plan2)"
   ]
  },
  {
   "cell_type": "code",
   "execution_count": 121,
   "id": "cc61dd60-080b-46f6-94fb-7cac266891f0",
   "metadata": {},
   "outputs": [
    {
     "data": {
      "text/plain": [
       "743"
      ]
     },
     "execution_count": 121,
     "metadata": {},
     "output_type": "execute_result"
    }
   ],
   "source": [
    "df_investment_plan2.district.value_counts().sum()"
   ]
  },
  {
   "cell_type": "markdown",
   "id": "3cb7c706-dab0-4bb4-865b-701fb5bbb8ee",
   "metadata": {},
   "source": [
    "### Save"
   ]
  },
  {
   "cell_type": "code",
   "execution_count": 122,
   "id": "2cb93d6d-acd1-4349-930a-306155e5a16a",
   "metadata": {},
   "outputs": [],
   "source": [
    "df_investment_plan2 = _utils.clean_up_columns(df_investment_plan2)"
   ]
  },
  {
   "cell_type": "code",
   "execution_count": 123,
   "id": "35efcb25-bfa3-47f0-8320-fbdee4739824",
   "metadata": {},
   "outputs": [
    {
     "data": {
      "text/html": [
       "<div>\n",
       "<style scoped>\n",
       "    .dataframe tbody tr th:only-of-type {\n",
       "        vertical-align: middle;\n",
       "    }\n",
       "\n",
       "    .dataframe tbody tr th {\n",
       "        vertical-align: top;\n",
       "    }\n",
       "\n",
       "    .dataframe thead th {\n",
       "        text-align: right;\n",
       "    }\n",
       "</style>\n",
       "<table border=\"1\" class=\"dataframe\">\n",
       "  <thead>\n",
       "    <tr style=\"text-align: right;\">\n",
       "      <th></th>\n",
       "      <th>Ea</th>\n",
       "      <th>Ppno</th>\n",
       "      <th>Ct Project Id</th>\n",
       "      <th>District</th>\n",
       "      <th>County</th>\n",
       "      <th>Route</th>\n",
       "      <th>Beg Pm</th>\n",
       "      <th>End Pm</th>\n",
       "      <th>Urban Rural</th>\n",
       "      <th>Project Name</th>\n",
       "      <th>Project Description</th>\n",
       "      <th>Hq Priority</th>\n",
       "      <th>District Priority</th>\n",
       "      <th>Previous Caltrans Nominations</th>\n",
       "      <th>Primary Mode</th>\n",
       "      <th>Secondary Mode S</th>\n",
       "      <th>Shs Capacity Increase Detail</th>\n",
       "      <th>Potential Funding Program S</th>\n",
       "      <th>Notes</th>\n",
       "      <th>Lead Agency</th>\n",
       "      <th>Current Phase</th>\n",
       "      <th>Pid Approval Date</th>\n",
       "      <th>Target Pa Ed</th>\n",
       "      <th>Rtl Date</th>\n",
       "      <th>Con Start Date</th>\n",
       "      <th>Funding Need Phase S</th>\n",
       "      <th>Total Project Cost  $1,000</th>\n",
       "      <th>Pa Ed Cost  $1,000</th>\n",
       "      <th>Ps E Cost  $1,000</th>\n",
       "      <th>Row Cost  $1,000</th>\n",
       "      <th>Con Cost  $1,000</th>\n",
       "      <th>Non Infrastructure   Plan Cost  $1,000</th>\n",
       "      <th>Total Unfunded Need  $1,000</th>\n",
       "      <th>Previous Funding Request</th>\n",
       "      <th>Previous Funding Request Phase</th>\n",
       "      <th>Last Scored</th>\n",
       "      <th>Mode Shift  Csis</th>\n",
       "      <th>Vmt  Csis</th>\n",
       "      <th>Dac Local Community Needs  Csis</th>\n",
       "      <th>Public Engagement  Csis</th>\n",
       "      <th>Safety  Csis</th>\n",
       "      <th>Zev  Csis</th>\n",
       "      <th>Climate Resiliency  Csis</th>\n",
       "      <th>Natural Resources And Ecosystems  Csis</th>\n",
       "      <th>Infill Development And Land Use  Csis</th>\n",
       "      <th>Csis Total Score  Out Of 45</th>\n",
       "      <th>Csis Alignment</th>\n",
       "      <th>Benefits To Dac And Advancing Equity  Atp</th>\n",
       "      <th>Community Need  Atp</th>\n",
       "      <th>Safety  Atp</th>\n",
       "      <th>Public Participation  Atp</th>\n",
       "      <th>Community Feedback  Atp</th>\n",
       "      <th>Continued Engagement  Atp</th>\n",
       "      <th>Context Sensitive And Innovation  Atp</th>\n",
       "      <th>Transformative  Atp</th>\n",
       "      <th>Atp Total Score  Out Of 100</th>\n",
       "      <th>Atp Alignment</th>\n",
       "      <th>Access Alignment</th>\n",
       "      <th>Increase Peak Person Throughput</th>\n",
       "      <th>Reduction In Peak Period Delay</th>\n",
       "      <th>Reduction In Fatal And Injury Crashes</th>\n",
       "      <th>Reduction In Injury Rates</th>\n",
       "      <th>Increase Access To Jobs</th>\n",
       "      <th>Increase Access Jobs To Dac</th>\n",
       "      <th>Commercial Dev Developed</th>\n",
       "      <th>Tons Of Goods Impacted</th>\n",
       "      <th>Improve Air Quality</th>\n",
       "      <th>Impact Natural Resources</th>\n",
       "      <th>Support Of Transportation</th>\n",
       "      <th>Fake Benefit Score</th>\n",
       "      <th>Statewide Rank</th>\n",
       "      <th>District Rank</th>\n",
       "      <th>Total Project Cost  $1,000  District Median</th>\n",
       "      <th>Fake Benefit Score District Median</th>\n",
       "      <th>Total Unfunded Need  $1,000  District Median</th>\n",
       "      <th>Csis Total Score  Out Of 45  District Median</th>\n",
       "      <th>Atp Total Score  Out Of 100  District Median</th>\n",
       "      <th>Full County Name</th>\n",
       "    </tr>\n",
       "  </thead>\n",
       "  <tbody>\n",
       "    <tr>\n",
       "      <th>0</th>\n",
       "      <td>0C660</td>\n",
       "      <td>1095</td>\n",
       "      <td>0113000023</td>\n",
       "      <td>01 - Eureka</td>\n",
       "      <td>DN</td>\n",
       "      <td>NaN</td>\n",
       "      <td>24.4</td>\n",
       "      <td>R27.80</td>\n",
       "      <td>rural</td>\n",
       "      <td>Crescent City Ada</td>\n",
       "      <td>Traffic calming, non-motorized and multi-modal improvements. Enhance safety for pedestrians and non-motorized vehicles</td>\n",
       "      <td>0.0</td>\n",
       "      <td>0.0</td>\n",
       "      <td>SHOPP</td>\n",
       "      <td>Complete Streets</td>\n",
       "      <td>Bike/Pedestrian</td>\n",
       "      <td>None</td>\n",
       "      <td>At Infra Invest\\nAtp\\nRaise</td>\n",
       "      <td>PID Completed</td>\n",
       "      <td>Caltrans</td>\n",
       "      <td>CLOSEOUT</td>\n",
       "      <td>datetime64[ns]</td>\n",
       "      <td>None</td>\n",
       "      <td>datetime64[ns]</td>\n",
       "      <td>datetime64[ns]</td>\n",
       "      <td>None</td>\n",
       "      <td>4100.0</td>\n",
       "      <td>0.0</td>\n",
       "      <td>0.0</td>\n",
       "      <td>0.0</td>\n",
       "      <td>0.0</td>\n",
       "      <td>0.0</td>\n",
       "      <td>0.0</td>\n",
       "      <td>None</td>\n",
       "      <td>None</td>\n",
       "      <td>None</td>\n",
       "      <td>0.0</td>\n",
       "      <td>0.0</td>\n",
       "      <td>0.0</td>\n",
       "      <td>0.0</td>\n",
       "      <td>0.0</td>\n",
       "      <td>0.0</td>\n",
       "      <td>0.0</td>\n",
       "      <td>0.0</td>\n",
       "      <td>0.0</td>\n",
       "      <td>0</td>\n",
       "      <td>Not Well-Aligned</td>\n",
       "      <td>0.0</td>\n",
       "      <td>0.0</td>\n",
       "      <td>0.0</td>\n",
       "      <td>0.0</td>\n",
       "      <td>0.0</td>\n",
       "      <td>0.0</td>\n",
       "      <td>0.0</td>\n",
       "      <td>0.0</td>\n",
       "      <td>0</td>\n",
       "      <td>Not Well-Aligned</td>\n",
       "      <td>None</td>\n",
       "      <td>47.07</td>\n",
       "      <td>38.24</td>\n",
       "      <td>38.77</td>\n",
       "      <td>39.56</td>\n",
       "      <td>11.96</td>\n",
       "      <td>20.35</td>\n",
       "      <td>25.37</td>\n",
       "      <td>4.59</td>\n",
       "      <td>22.02</td>\n",
       "      <td>42.52</td>\n",
       "      <td>5.77</td>\n",
       "      <td>46.282328</td>\n",
       "      <td>258.0</td>\n",
       "      <td>11.0</td>\n",
       "      <td>5071.0</td>\n",
       "      <td>43.990242</td>\n",
       "      <td>0.0</td>\n",
       "      <td>0.0</td>\n",
       "      <td>0.0</td>\n",
       "      <td>Del Norte</td>\n",
       "    </tr>\n",
       "  </tbody>\n",
       "</table>\n",
       "</div>"
      ],
      "text/plain": [
       "      Ea  Ppno Ct Project Id     District County Route Beg Pm  End Pm  \\\n",
       "0  0C660  1095    0113000023  01 - Eureka     DN   NaN   24.4  R27.80   \n",
       "\n",
       "  Urban Rural       Project Name  \\\n",
       "0       rural  Crescent City Ada   \n",
       "\n",
       "                                                                                                      Project Description  \\\n",
       "0  Traffic calming, non-motorized and multi-modal improvements. Enhance safety for pedestrians and non-motorized vehicles   \n",
       "\n",
       "   Hq Priority  District Priority Previous Caltrans Nominations  \\\n",
       "0          0.0                0.0                         SHOPP   \n",
       "\n",
       "       Primary Mode Secondary Mode S Shs Capacity Increase Detail  \\\n",
       "0  Complete Streets  Bike/Pedestrian                         None   \n",
       "\n",
       "   Potential Funding Program S          Notes Lead Agency Current Phase  \\\n",
       "0  At Infra Invest\\nAtp\\nRaise  PID Completed    Caltrans      CLOSEOUT   \n",
       "\n",
       "  Pid Approval Date Target Pa Ed        Rtl Date  Con Start Date  \\\n",
       "0    datetime64[ns]         None  datetime64[ns]  datetime64[ns]   \n",
       "\n",
       "  Funding Need Phase S  Total Project Cost  $1,000  Pa Ed Cost  $1,000  \\\n",
       "0                 None                      4100.0                 0.0   \n",
       "\n",
       "   Ps E Cost  $1,000  Row Cost  $1,000  Con Cost  $1,000  \\\n",
       "0                0.0               0.0               0.0   \n",
       "\n",
       "   Non Infrastructure   Plan Cost  $1,000  Total Unfunded Need  $1,000  \\\n",
       "0                                     0.0                          0.0   \n",
       "\n",
       "  Previous Funding Request Previous Funding Request Phase Last Scored  \\\n",
       "0                     None                           None        None   \n",
       "\n",
       "   Mode Shift  Csis  Vmt  Csis  Dac Local Community Needs  Csis  \\\n",
       "0               0.0        0.0                              0.0   \n",
       "\n",
       "   Public Engagement  Csis  Safety  Csis  Zev  Csis  Climate Resiliency  Csis  \\\n",
       "0                      0.0           0.0        0.0                       0.0   \n",
       "\n",
       "   Natural Resources And Ecosystems  Csis  \\\n",
       "0                                     0.0   \n",
       "\n",
       "   Infill Development And Land Use  Csis  Csis Total Score  Out Of 45  \\\n",
       "0                                    0.0                            0   \n",
       "\n",
       "     Csis Alignment  Benefits To Dac And Advancing Equity  Atp  \\\n",
       "0  Not Well-Aligned                                        0.0   \n",
       "\n",
       "   Community Need  Atp  Safety  Atp  Public Participation  Atp  \\\n",
       "0                  0.0          0.0                        0.0   \n",
       "\n",
       "   Community Feedback  Atp  Continued Engagement  Atp  \\\n",
       "0                      0.0                        0.0   \n",
       "\n",
       "   Context Sensitive And Innovation  Atp  Transformative  Atp  \\\n",
       "0                                    0.0                  0.0   \n",
       "\n",
       "   Atp Total Score  Out Of 100     Atp Alignment Access Alignment  \\\n",
       "0                            0  Not Well-Aligned             None   \n",
       "\n",
       "   Increase Peak Person Throughput  Reduction In Peak Period Delay  \\\n",
       "0                            47.07                           38.24   \n",
       "\n",
       "   Reduction In Fatal And Injury Crashes  Reduction In Injury Rates  \\\n",
       "0                                  38.77                      39.56   \n",
       "\n",
       "   Increase Access To Jobs  Increase Access Jobs To Dac  \\\n",
       "0                    11.96                        20.35   \n",
       "\n",
       "   Commercial Dev Developed  Tons Of Goods Impacted  Improve Air Quality  \\\n",
       "0                     25.37                    4.59                22.02   \n",
       "\n",
       "   Impact Natural Resources  Support Of Transportation  Fake Benefit Score  \\\n",
       "0                     42.52                       5.77           46.282328   \n",
       "\n",
       "   Statewide Rank  District Rank  Total Project Cost  $1,000  District Median  \\\n",
       "0           258.0           11.0                                       5071.0   \n",
       "\n",
       "   Fake Benefit Score District Median  \\\n",
       "0                           43.990242   \n",
       "\n",
       "   Total Unfunded Need  $1,000  District Median  \\\n",
       "0                                           0.0   \n",
       "\n",
       "   Csis Total Score  Out Of 45  District Median  \\\n",
       "0                                           0.0   \n",
       "\n",
       "   Atp Total Score  Out Of 100  District Median Full County Name  \n",
       "0                                           0.0        Del Norte  "
      ]
     },
     "execution_count": 123,
     "metadata": {},
     "output_type": "execute_result"
    }
   ],
   "source": [
    "df_investment_plan2.head(1)"
   ]
  },
  {
   "cell_type": "code",
   "execution_count": 124,
   "id": "a3e60806-a07b-4477-9533-90bbfb1d5a9d",
   "metadata": {
    "tags": []
   },
   "outputs": [
    {
     "data": {
      "text/plain": [
       "'\\ndf_investment_plan2.to_excel(\\n    f\"{GCS_FILE_PATH}fake_data.xlsx\", sheet_name=\"fake\", index=False\\n)'"
      ]
     },
     "execution_count": 124,
     "metadata": {},
     "output_type": "execute_result"
    }
   ],
   "source": [
    "\"\"\"\n",
    "df_investment_plan2.to_excel(\n",
    "    f\"{GCS_FILE_PATH}fake_data.xlsx\", sheet_name=\"fake\", index=False\n",
    ")\"\"\""
   ]
  }
 ],
 "metadata": {
  "kernelspec": {
   "display_name": "Python 3 (ipykernel)",
   "language": "python",
   "name": "python3"
  },
  "language_info": {
   "codemirror_mode": {
    "name": "ipython",
    "version": 3
   },
   "file_extension": ".py",
   "mimetype": "text/x-python",
   "name": "python",
   "nbconvert_exporter": "python",
   "pygments_lexer": "ipython3",
   "version": "3.10.6"
  }
 },
 "nbformat": 4,
 "nbformat_minor": 5
}
