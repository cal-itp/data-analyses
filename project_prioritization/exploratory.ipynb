{
 "cells": [
  {
   "cell_type": "markdown",
   "id": "c97654de-9428-4e4b-9ae9-323e8469a52a",
   "metadata": {},
   "source": [
    "# 10 Year Non Shopp Data\n",
    "* Generating fake data.\n",
    "* Initial exploration.\n",
    "* [Using Smart Sheet.](https://app.smartsheet.com/workspaces/8MgpHcXR4GJVM5GvWWMmQg7M8gqhJj88Gfh54Pr1)"
   ]
  },
  {
   "cell_type": "code",
   "execution_count": 1,
   "id": "961bd8c3-fc92-4a72-a106-bb542fdf4e87",
   "metadata": {},
   "outputs": [
    {
     "name": "stderr",
     "output_type": "stream",
     "text": [
      "/opt/conda/lib/python3.10/site-packages/geopandas/_compat.py:123: UserWarning: The Shapely GEOS version (3.10.3-CAPI-1.16.1) is incompatible with the GEOS version PyGEOS was compiled with (3.10.1-CAPI-1.16.0). Conversions between both will be slow.\n"
     ]
    }
   ],
   "source": [
    "import numpy as np\n",
    "import pandas as pd\n",
    "from babel.numbers import format_currency\n",
    "from calitp import *\n",
    "from shared_utils import portfolio_utils"
   ]
  },
  {
   "cell_type": "code",
   "execution_count": 2,
   "id": "9057dd1d-8c22-42bf-a2fd-6cfae1710ee4",
   "metadata": {},
   "outputs": [],
   "source": [
    "pd.options.display.max_columns = 100\n",
    "pd.set_option(\"display.max_rows\", None)\n",
    "pd.set_option(\"display.max_colwidth\", None)"
   ]
  },
  {
   "cell_type": "code",
   "execution_count": 3,
   "id": "f31abc44-d445-44b6-a04b-5d9a3cfb2eab",
   "metadata": {},
   "outputs": [],
   "source": [
    "import _utils"
   ]
  },
  {
   "cell_type": "code",
   "execution_count": 4,
   "id": "ec08614f-a868-48ea-9106-dd02ac2906fd",
   "metadata": {},
   "outputs": [],
   "source": [
    "GCS_FILE_PATH = \"gs://calitp-analytics-data/data-analyses/project_prioritization/\""
   ]
  },
  {
   "cell_type": "code",
   "execution_count": 5,
   "id": "6847a64e-af90-41ef-ba56-096851faa798",
   "metadata": {},
   "outputs": [
    {
     "name": "stderr",
     "output_type": "stream",
     "text": [
      "/opt/conda/lib/python3.10/site-packages/openpyxl/styles/stylesheet.py:226: UserWarning: Workbook contains no default style, apply openpyxl's default\n"
     ]
    }
   ],
   "source": [
    "# Open first sheet.\n",
    "df_investment_plan = to_snakecase(\n",
    "    pd.read_excel(\n",
    "        f\"{GCS_FILE_PATH}10 Year Non-SHOPP Investment Plan Project List 11-7-22.xlsx\"\n",
    "    )\n",
    ")"
   ]
  },
  {
   "cell_type": "markdown",
   "id": "007a66e8-9d05-4156-9ecc-6a17d0603ac9",
   "metadata": {},
   "source": [
    "### Cleaning"
   ]
  },
  {
   "cell_type": "code",
   "execution_count": 6,
   "id": "205ddb97-a85b-43f4-b991-4886b0c5fe8b",
   "metadata": {},
   "outputs": [
    {
     "data": {
      "text/plain": [
       "(743, 69)"
      ]
     },
     "execution_count": 6,
     "metadata": {},
     "output_type": "execute_result"
    }
   ],
   "source": [
    "df_investment_plan.shape"
   ]
  },
  {
   "cell_type": "code",
   "execution_count": 7,
   "id": "de78890c-0f81-4764-9763-bfb6fb08f1f2",
   "metadata": {},
   "outputs": [
    {
     "data": {
      "text/plain": [
       "ea                                             55.181696\n",
       "ppno                                           70.794078\n",
       "ct_project_id                                  58.008075\n",
       "district                                        0.672948\n",
       "county                                          0.403769\n",
       "route                                           2.153432\n",
       "beg_pm                                         53.701211\n",
       "end_pm                                         53.835801\n",
       "urban_rural                                    15.074024\n",
       "project_name                                    0.134590\n",
       "project_description                             6.191117\n",
       "hq_priority                                    88.829071\n",
       "district_priority                              99.865410\n",
       "previous_caltrans_nominations                   9.152086\n",
       "primary_mode                                    0.134590\n",
       "secondary_mode_s_                              66.218035\n",
       "shs_capacity_increase_detail                   62.045760\n",
       "potential_funding_program_s_                   20.592194\n",
       "notes                                          36.877524\n",
       "lead_agency                                    31.090175\n",
       "current_phase                                  46.837147\n",
       "pid_approval_date                              98.923284\n",
       "target_pa_ed                                   95.289367\n",
       "rtl_date                                       80.215343\n",
       "con_start_date                                 65.006729\n",
       "funding_need_phase_s_                          97.981157\n",
       "total_project_cost__$1,000_                    30.013459\n",
       "pa_ed_cost__$1,000_                            95.827725\n",
       "ps_e_cost__$1,000_                             96.635262\n",
       "row_cost__$1,000_                              96.635262\n",
       "con_cost__$1,000_                              95.558546\n",
       "non_infrastructure___plan_cost__$1,000_        98.923284\n",
       "total_unfunded_need__$1,000_                   97.577389\n",
       "previous_funding_request                       80.215343\n",
       "previous_funding_request_phase                 93.539704\n",
       "last_scored                                    62.853297\n",
       "mode_shift__csis_                              86.675639\n",
       "vmt__csis_                                     89.098250\n",
       "dac_local_community_needs__csis_               86.675639\n",
       "public_engagement__csis_                       86.675639\n",
       "safety__csis_                                  86.675639\n",
       "zev__csis_                                     89.098250\n",
       "climate_resiliency__csis_                      89.098250\n",
       "natural_resources_and_ecosystems__csis_        89.098250\n",
       "infill_development_and_land_use__csis_         89.098250\n",
       "csis_total_score__out_of_45_                    0.000000\n",
       "csis_alignment                                  0.000000\n",
       "benefits_to_dac_and_advancing_equity__atp_     98.384926\n",
       "community_need__atp_                           98.384926\n",
       "safety__atp_                                   98.384926\n",
       "public_participation__atp_                     98.384926\n",
       "community_feedback__atp_                       98.384926\n",
       "continued_engagement__atp_                     98.384926\n",
       "context_sensitive_and_innovation__atp_         98.384926\n",
       "transformative__atp_                           98.384926\n",
       "atp_total_score__out_of_100_                    0.000000\n",
       "atp_alignment                                   0.000000\n",
       "access_alignment                               76.312248\n",
       "_2023                                          99.865410\n",
       "_2024                                          99.865410\n",
       "_2025                                         100.000000\n",
       "_2026                                          99.865410\n",
       "_2027                                         100.000000\n",
       "_2028                                         100.000000\n",
       "_2029                                         100.000000\n",
       "_2030                                         100.000000\n",
       "_2031                                         100.000000\n",
       "_2032                                         100.000000\n",
       "_2033                                         100.000000\n",
       "dtype: float64"
      ]
     },
     "execution_count": 7,
     "metadata": {},
     "output_type": "execute_result"
    }
   ],
   "source": [
    "# Look at nulls by % for each column\n",
    "(df_investment_plan.isnull().sum() / len(df_investment_plan)) * 100"
   ]
  },
  {
   "cell_type": "markdown",
   "id": "383e1537-dde4-43be-925b-5b195240a54c",
   "metadata": {},
   "source": [
    "#### Fix monetary & date values "
   ]
  },
  {
   "cell_type": "code",
   "execution_count": 8,
   "id": "4b7d4d5e-a9d0-44ed-95b8-95a3cd005de8",
   "metadata": {},
   "outputs": [],
   "source": [
    "# Clean up some of the values.\n",
    "df_investment_plan[\"total_project_cost__$1,000_\"] = df_investment_plan[\n",
    "    \"total_project_cost__$1,000_\"\n",
    "].replace(\n",
    "    {\n",
    "        \"Phase 1 (SR-60 to Mission Blvd) - $174,000\\nPhase 2 (Mission Blvd to I-10) - $170,000\": 344000,\n",
    "        \"$85,738 (Cycle 2)\": 85738,\n",
    "        \"Oxnard to Camarillo 2nd Main Track: $15,000\\nOxnard Station North Platform: $20,000\": 35000,\n",
    "        \"$214,000\\nPhase 1: $82,000\\nPhase 2: $132,000\": 214000,\n",
    "        \"$-\": 0,\n",
    "        \"TBD\": 0,\n",
    "    }\n",
    ")"
   ]
  },
  {
   "cell_type": "code",
   "execution_count": 9,
   "id": "3ee756e2-2e03-45f2-8425-2e189b6e45d5",
   "metadata": {
    "scrolled": true,
    "tags": []
   },
   "outputs": [],
   "source": [
    "# df_investment_plan[\"total_project_cost__$1,000_\"].unique().tolist()"
   ]
  },
  {
   "cell_type": "code",
   "execution_count": 10,
   "id": "25401eb4-7bde-40c6-b7d6-0ad29101642a",
   "metadata": {},
   "outputs": [],
   "source": [
    "# Coerce dates to right format\n",
    "date_cols = [\n",
    "    \"pid_approval_date\",\n",
    "    \"rtl_date\",\n",
    "    \"con_start_date\",\n",
    "]\n",
    "for c in date_cols:\n",
    "    df_investment_plan[c] = df_investment_plan[c].apply(pd.to_datetime, errors=\"coerce\")"
   ]
  },
  {
   "cell_type": "code",
   "execution_count": 11,
   "id": "49ef853e-ff0b-4f76-828e-ab2937f8374c",
   "metadata": {},
   "outputs": [],
   "source": [
    "# Fill na based on dtypes\n",
    "df_investment_plan = df_investment_plan.fillna(\n",
    "    df_investment_plan.dtypes.replace({\"float64\": 0.0, \"object\": \"None\"})\n",
    ")"
   ]
  },
  {
   "cell_type": "code",
   "execution_count": 12,
   "id": "0f84664e-594e-402b-98b4-9dd9b03a42c8",
   "metadata": {},
   "outputs": [],
   "source": [
    "# Filling in na by data type didn't work with route\n",
    "df_investment_plan.route = df_investment_plan.route.fillna('None')"
   ]
  },
  {
   "cell_type": "markdown",
   "id": "071b9bb7-be91-4b48-b2d9-fb43af8feb67",
   "metadata": {},
   "source": [
    "#### Upper/lower/titlecase columns "
   ]
  },
  {
   "cell_type": "code",
   "execution_count": 13,
   "id": "fa28e0a4-58b9-4b2b-b7c2-22ed5c52dd06",
   "metadata": {},
   "outputs": [],
   "source": [
    "# df_investment_plan.info()"
   ]
  },
  {
   "cell_type": "code",
   "execution_count": 14,
   "id": "10eee598-5957-4996-9e1d-edb2ad957f62",
   "metadata": {},
   "outputs": [],
   "source": [
    "# Titlecase some string columns\n",
    "titlecase_cols = [\n",
    "    \"route\",\n",
    "    \"potential_funding_program_s_\",\n",
    "    \"lead_agency\",\n",
    "    \"primary_mode\",\n",
    "    \"project_name\",\n",
    "    \"potential_funding_program_s_\",\n",
    "]\n",
    "\n",
    "# Title case certain columns\n",
    "for c in titlecase_cols:\n",
    "    df_investment_plan[c] = df_investment_plan[c].str.title().str.strip()"
   ]
  },
  {
   "cell_type": "code",
   "execution_count": 15,
   "id": "95cde04f-8358-40f7-abd8-73d3676093c1",
   "metadata": {},
   "outputs": [],
   "source": [
    "# Upper case phases & counties\n",
    "uppercase_cols = [\"current_phase\", \"county\"]\n",
    "for c in uppercase_cols:\n",
    "    df_investment_plan[c] = df_investment_plan[c].str.upper().str.strip()"
   ]
  },
  {
   "cell_type": "code",
   "execution_count": 16,
   "id": "76458ccb-c7aa-4687-9ad8-a32c1893f943",
   "metadata": {},
   "outputs": [],
   "source": [
    "# lower case phases & counties\n",
    "lower_case = [\n",
    "    \"urban_rural\",\n",
    "]\n",
    "for c in lower_case:\n",
    "    df_investment_plan[c] = df_investment_plan[c].str.lower().str.strip()"
   ]
  },
  {
   "cell_type": "code",
   "execution_count": 17,
   "id": "b700754a-22e9-408b-955e-ac09f1272e68",
   "metadata": {},
   "outputs": [],
   "source": [
    "# Correct some curent phase values that read in messily\n",
    "df_investment_plan[\"current_phase\"] = df_investment_plan[\"current_phase\"].replace(\n",
    "    {\n",
    "        \"ps&e\\nr/w\": \"ps&e\",\n",
    "        \"other\\nplan/concept\": \"other\\plan\\concept\",\n",
    "        \"pid\\nplan/concept\": \"pid\\plan\\concept\",\n",
    "        \"ps&e\\nrow\": \"ps&e\\row\",\n",
    "    }\n",
    ")"
   ]
  },
  {
   "cell_type": "markdown",
   "id": "dd995978-ac23-4b7b-bec9-50184302b3d6",
   "metadata": {
    "tags": []
   },
   "source": [
    "#### Correct Projects that are in the wrong district"
   ]
  },
  {
   "cell_type": "code",
   "execution_count": 18,
   "id": "4e967619-1803-4886-951a-6b7bb0a25e5d",
   "metadata": {
    "scrolled": true,
    "tags": []
   },
   "outputs": [],
   "source": [
    "# df_investment_plan[['project_name','county','district']]"
   ]
  },
  {
   "cell_type": "code",
   "execution_count": 19,
   "id": "546b0bef-93fa-4a1c-a7b0-67a17c59df21",
   "metadata": {},
   "outputs": [],
   "source": [
    "df_investment_plan.loc[\n",
    "    (\n",
    "        df_investment_plan[\"project_name\"]\n",
    "        == \"Polb Terminal Island Wye Track Realignment\"\n",
    "    ),\n",
    "    \"district\",\n",
    "] = \"7\""
   ]
  },
  {
   "cell_type": "code",
   "execution_count": 20,
   "id": "a6a4eca5-dad4-4c35-804f-b3386fa44b0f",
   "metadata": {},
   "outputs": [],
   "source": [
    "df_investment_plan.loc[\n",
    "    (df_investment_plan[\"project_name\"] == \"Sr 58 Truck Climbing Lanes Segment 2\"),\n",
    "    \"district\",\n",
    "] = \"6\"\n",
    "df_investment_plan.loc[\n",
    "    (df_investment_plan[\"project_name\"] == \"Mojave To Boron Freeway\"), \"district\"\n",
    "] = \"6\"\n",
    "df_investment_plan.loc[\n",
    "    (df_investment_plan[\"project_name\"] == \"Sr 58/California City Blvd. Extension\"),\n",
    "    \"district\",\n",
    "] = \"6\""
   ]
  },
  {
   "cell_type": "markdown",
   "id": "48d660ae-6408-4803-a283-16c4f8c06521",
   "metadata": {
    "tags": []
   },
   "source": [
    "### Investigate: Duplicated PPNO?"
   ]
  },
  {
   "cell_type": "code",
   "execution_count": 21,
   "id": "8b092fc6-457e-4cda-b9fe-c47852c54a72",
   "metadata": {},
   "outputs": [
    {
     "name": "stdout",
     "output_type": "stream",
     "text": [
      "ppno : 204\n",
      "ct_project_id : 300\n",
      "project_name : 742\n"
     ]
    }
   ],
   "source": [
    "# Check that each row represents a different project\n",
    "for i in [\"ppno\", \"ct_project_id\", \"project_name\"]:\n",
    "    print(f\"{i} : {df_investment_plan[i].nunique()}\")"
   ]
  },
  {
   "cell_type": "code",
   "execution_count": 22,
   "id": "be2a2837-d30a-43cb-86e7-b37b3d0a458d",
   "metadata": {},
   "outputs": [
    {
     "data": {
      "text/plain": [
       "Delano To Pixely 6-Lane                                                       2\n",
       "Crescent City Ada                                                             1\n",
       "Rte 55 Btw Sr 73 And I-5, Managed Lanes Project                               1\n",
       "Reconnecting Grand Avenue \"Complete Streets To Transit\" And Safety Project    1\n",
       "I-5 Btw Rte 73 And Sd Co, Managed Lanes Project                               1\n",
       "Name: project_name, dtype: int64"
      ]
     },
     "execution_count": 22,
     "metadata": {},
     "output_type": "execute_result"
    }
   ],
   "source": [
    "# One project is included twice\n",
    "df_investment_plan[\"project_name\"].value_counts().head()"
   ]
  },
  {
   "cell_type": "code",
   "execution_count": 23,
   "id": "84f52222-6fd0-4fb5-9169-d5e2fc5a75f6",
   "metadata": {
    "scrolled": true,
    "tags": []
   },
   "outputs": [],
   "source": [
    "# Check and make sure there aren't duplicate PPNO-Project Name combos\n",
    "duplicate_ppno = (\n",
    "    df_investment_plan[~df_investment_plan[\"ppno\"].isin([0, \"None\"])]\n",
    "    .groupby(\"ppno\")\n",
    "    .agg({\"project_name\": \"count\"})\n",
    "    .sort_values(\"project_name\")\n",
    "    .reset_index()\n",
    ")"
   ]
  },
  {
   "cell_type": "code",
   "execution_count": 24,
   "id": "3b0568a2-a2c1-4338-8871-daff1c6ee7d0",
   "metadata": {},
   "outputs": [],
   "source": [
    "# Filter out for ppno with more than 2 project names.\n",
    "# Save those projects into a list\n",
    "duplicate_ppno = duplicate_ppno[duplicate_ppno[\"project_name\"] > 1]"
   ]
  },
  {
   "cell_type": "code",
   "execution_count": 25,
   "id": "8b3e96ab-afc5-4e61-bb77-7921cea45151",
   "metadata": {},
   "outputs": [],
   "source": [
    "duplicate_ppno_list = duplicate_ppno[\"ppno\"].to_list()"
   ]
  },
  {
   "cell_type": "code",
   "execution_count": 26,
   "id": "5a136870-aac2-45d4-a5dd-0fee8637afb9",
   "metadata": {
    "tags": []
   },
   "outputs": [
    {
     "data": {
      "text/plain": [
       "24"
      ]
     },
     "execution_count": 26,
     "metadata": {},
     "output_type": "execute_result"
    }
   ],
   "source": [
    "# Check out these rows in our df\n",
    "# are these duplicates?\n",
    "len(df_investment_plan[df_investment_plan[\"ppno\"].isin(duplicate_ppno_list)])"
   ]
  },
  {
   "cell_type": "code",
   "execution_count": 27,
   "id": "acb4c8e3-9d2d-4339-a92a-fea03c8b1fdd",
   "metadata": {
    "scrolled": true,
    "tags": []
   },
   "outputs": [],
   "source": [
    "duplicate_projects_df = df_investment_plan[\n",
    "    df_investment_plan[\"ppno\"].isin(duplicate_ppno_list)\n",
    "]"
   ]
  },
  {
   "cell_type": "code",
   "execution_count": 28,
   "id": "8ba62f22-f419-4ee0-a573-2a215a0a1aa2",
   "metadata": {
    "tags": []
   },
   "outputs": [
    {
     "data": {
      "text/plain": [
       "'\\nduplicate_projects_df[\\n    [\"ppno\", \"project_name\", \"current_phase\", \"ea\", \"project_description\"]\\n].sort_values(\\'project_name\\')'"
      ]
     },
     "execution_count": 28,
     "metadata": {},
     "output_type": "execute_result"
    }
   ],
   "source": [
    "\"\"\"\n",
    "duplicate_projects_df[\n",
    "    [\"ppno\", \"project_name\", \"current_phase\", \"ea\", \"project_description\"]\n",
    "].sort_values('project_name')\"\"\""
   ]
  },
  {
   "cell_type": "markdown",
   "id": "f6716d25-4b8e-4995-bcac-fede8750e069",
   "metadata": {},
   "source": [
    "### Add Fake Values"
   ]
  },
  {
   "cell_type": "code",
   "execution_count": 29,
   "id": "cb918292-983d-4914-bcf6-886281a28af3",
   "metadata": {},
   "outputs": [],
   "source": [
    "df_investment_plan2 = df_investment_plan.copy()"
   ]
  },
  {
   "cell_type": "markdown",
   "id": "48757aa0-e11e-4728-98e2-ff320cb28c1e",
   "metadata": {},
   "source": [
    "#### Create fake metrics"
   ]
  },
  {
   "cell_type": "code",
   "execution_count": 30,
   "id": "c2d352aa-86dd-4db8-b70f-9d9c7c03a3ea",
   "metadata": {},
   "outputs": [],
   "source": [
    "# https://stackoverflow.com/questions/64093880/how-to-create-random-floats-and-add-them-as-a-dataframe-column\n",
    "np.random.seed(365)"
   ]
  },
  {
   "cell_type": "code",
   "execution_count": 31,
   "id": "e48f080f-5d68-4d39-8b27-e90c34074fb8",
   "metadata": {},
   "outputs": [],
   "source": [
    "# Fake columns\n",
    "fake_columns = [\n",
    "    \"increase_peak_person_throughput\",\n",
    "    \"reduction_in_peak_period_delay\",\n",
    "    \"reduction_in_fatal_and_injury_crashes\",\n",
    "    \"reduction_in_injury_rates\",\n",
    "    \"increase_access_to_jobs\",\n",
    "    \"increase_access_jobs_to_DAC\",\n",
    "    \"commercial_dev_developed\",\n",
    "    \"tons_of_goods_impacted\",\n",
    "    \"improve_air_quality\",\n",
    "    \"impact_natural_resources\",\n",
    "    \"support_of_transportation\",\n",
    "]"
   ]
  },
  {
   "cell_type": "code",
   "execution_count": 32,
   "id": "2c0f3925-f69a-455a-825a-4051c0f01782",
   "metadata": {
    "scrolled": true,
    "tags": []
   },
   "outputs": [],
   "source": [
    "# Add fake metric columns\n",
    "for i in fake_columns:\n",
    "    df_investment_plan2[i] = np.round(\n",
    "        np.random.uniform(0.0, 50.0, size=(len(df_investment_plan), 1)), 2\n",
    "    )"
   ]
  },
  {
   "cell_type": "markdown",
   "id": "72017f1b-4c0c-43d2-a060-0196f6cc792b",
   "metadata": {},
   "source": [
    "#### Create fake benefit score and ranks."
   ]
  },
  {
   "cell_type": "code",
   "execution_count": 33,
   "id": "2492d87a-e52d-4bae-ba2a-273abefa214d",
   "metadata": {},
   "outputs": [],
   "source": [
    "# Create a fake benefit score\n",
    "df_investment_plan2[\"fake_benefit_score\"] = (\n",
    "    (df_investment_plan2[fake_columns].sum(axis=1))\n",
    "    / (df_investment_plan2[\"total_unfunded_need__$1,000_\"]).sum()\n",
    ") * 1000000"
   ]
  },
  {
   "cell_type": "code",
   "execution_count": 34,
   "id": "24aa08db-f1fb-4c4a-8508-e5f24665cb04",
   "metadata": {
    "tags": []
   },
   "outputs": [],
   "source": [
    "# Create a fake statewide project rank\n",
    "df_investment_plan2[\"statewide_rank\"] = df_investment_plan2[\"fake_benefit_score\"].rank(\n",
    "    ascending=False\n",
    ")"
   ]
  },
  {
   "cell_type": "code",
   "execution_count": 35,
   "id": "5ecd9fa9-caa7-489f-b3f6-d79dfa77f6e5",
   "metadata": {},
   "outputs": [],
   "source": [
    "# Create fake district project rank\n",
    "df_investment_plan2[\"district_rank\"] = df_investment_plan2.groupby(\"district\")[\n",
    "    \"fake_benefit_score\"\n",
    "].rank(method=\"dense\", ascending=False)"
   ]
  },
  {
   "cell_type": "code",
   "execution_count": 36,
   "id": "6eb94702-2c35-40cb-865e-815144a965ba",
   "metadata": {},
   "outputs": [],
   "source": [
    "# Rank statewide scores by percentile\n",
    "df_investment_plan2 = _utils.project_size_rating(df_investment_plan2, 'statewide_rank', 'fake_benefit_score_statewide_percentile')"
   ]
  },
  {
   "cell_type": "code",
   "execution_count": 37,
   "id": "b573cf6a-7494-4fe3-8a1a-5a01aecb0a36",
   "metadata": {
    "scrolled": true,
    "tags": []
   },
   "outputs": [],
   "source": [
    "# df_investment_plan2[['statewide_rank','fake_benefit_score','fake_benefit_score_statewide_percentile']].sort_values('fake_benefit_score', ascending= False)"
   ]
  },
  {
   "cell_type": "markdown",
   "id": "102ae1ee-64f8-47f3-ab78-cfa181993f8e",
   "metadata": {},
   "source": [
    "##### Double test district rank is what I expect"
   ]
  },
  {
   "cell_type": "code",
   "execution_count": 38,
   "id": "69a8b1f5-dbc7-469f-904b-9503009e60fa",
   "metadata": {},
   "outputs": [
    {
     "data": {
      "text/plain": [
       "97"
      ]
     },
     "execution_count": 38,
     "metadata": {},
     "output_type": "execute_result"
    }
   ],
   "source": [
    "# D4 only projects\n",
    "len(df_investment_plan2.loc[df_investment_plan2[\"district\"] == 4])"
   ]
  },
  {
   "cell_type": "code",
   "execution_count": 39,
   "id": "a1b4a5a7-7571-41f0-b9c3-d4197bcf71f7",
   "metadata": {
    "scrolled": true,
    "tags": []
   },
   "outputs": [],
   "source": [
    "# df_investment_plan2.loc[df_investment_plan2['district'] == 4][['fake_benefit_score','district_rank']].sort_values('district_rank')"
   ]
  },
  {
   "cell_type": "markdown",
   "id": "2e02208b-4c29-4890-afd5-d7ca21e1b86a",
   "metadata": {},
   "source": [
    "### Add median across districts\n",
    "* project cost\n",
    "* unfunded needs\n",
    "* benefit score"
   ]
  },
  {
   "cell_type": "code",
   "execution_count": 40,
   "id": "7e33099b-de86-439e-b699-c986dd77fc63",
   "metadata": {},
   "outputs": [],
   "source": [
    "df_investment_plan2[\"district\"] = df_investment_plan2[\"district\"].astype(\"int64\")"
   ]
  },
  {
   "cell_type": "code",
   "execution_count": 41,
   "id": "e17d8e48-58fe-469d-a21c-0c00ca2df5d7",
   "metadata": {},
   "outputs": [],
   "source": [
    "# Grab medians\n",
    "summary_district_state = (\n",
    "    df_investment_plan2.groupby([\"district\"])\n",
    "    .agg(\n",
    "        {\n",
    "            \"total_project_cost__$1,000_\": \"median\",\n",
    "            \"fake_benefit_score\": \"median\",\n",
    "            \"total_unfunded_need__$1,000_\": \"median\",\n",
    "            \"csis_total_score__out_of_45_\": \"median\",\n",
    "            \"atp_total_score__out_of_100_\": \"median\"\n",
    "        }\n",
    "    )\n",
    "    .reset_index()\n",
    ")"
   ]
  },
  {
   "cell_type": "code",
   "execution_count": 42,
   "id": "0916c3bc-ccd6-4fd8-8809-8efb714361c4",
   "metadata": {},
   "outputs": [],
   "source": [
    "# Add suffixes\n",
    "summary_district_state = summary_district_state.add_suffix(\"_district_median_\")"
   ]
  },
  {
   "cell_type": "code",
   "execution_count": 43,
   "id": "238504cb-a661-4f30-b075-c2ba62d37cbf",
   "metadata": {},
   "outputs": [],
   "source": [
    "df_investment_plan2 = pd.merge(\n",
    "    df_investment_plan2,\n",
    "    summary_district_state,\n",
    "    left_on=\"district\",\n",
    "    right_on=\"district_district_median_\",\n",
    "    how=\"left\",\n",
    ")"
   ]
  },
  {
   "cell_type": "markdown",
   "id": "dd8e486b-58fd-47ad-a093-86a8292bd228",
   "metadata": {},
   "source": [
    "### District/County"
   ]
  },
  {
   "cell_type": "markdown",
   "id": "dfa7931e-e62f-4f4b-a19b-4b5a122cd4b6",
   "metadata": {},
   "source": [
    "#### Add Full County Names & Remap Districts to avoid 75/74"
   ]
  },
  {
   "cell_type": "code",
   "execution_count": 44,
   "id": "b7df603c-a761-4912-9793-81375513cc19",
   "metadata": {},
   "outputs": [],
   "source": [
    "# Map full county names \n",
    "df_county = to_snakecase(pd.read_excel(f\"{GCS_FILE_PATH}full_counties.xlsx\"))\n",
    "\n",
    "df_county = df_county.rename(\n",
    "    columns={\n",
    "        \"county\": \"full_county_name\",\n",
    "    }\n",
    ").drop(columns=[\"district\"])"
   ]
  },
  {
   "cell_type": "code",
   "execution_count": 45,
   "id": "430eb682-958c-48bd-b560-8ed7680d33c2",
   "metadata": {},
   "outputs": [],
   "source": [
    "# Merge \n",
    "df_investment_plan2 = pd.merge(\n",
    "    df_investment_plan2,\n",
    "    df_county,\n",
    "    left_on=\"county\",\n",
    "    right_on=\"abbrev_\",\n",
    "    how=\"left\",\n",
    "    indicator=True,\n",
    ")"
   ]
  },
  {
   "cell_type": "code",
   "execution_count": 46,
   "id": "adbf9638-cb96-4f8a-84f3-4bd56bcaedd8",
   "metadata": {},
   "outputs": [],
   "source": [
    "# Fill full_county_name column with none if it's none in the county column\n",
    "df_investment_plan2.loc[\n",
    "    (df_investment_plan2[\"county\"] == \"NONE\"),\n",
    "    \"full_county_name\",\n",
    "] = \"None\""
   ]
  },
  {
   "cell_type": "code",
   "execution_count": 47,
   "id": "d21241e2-d7e8-4361-8565-ed5a7a52aad3",
   "metadata": {},
   "outputs": [],
   "source": [
    "# Any projects that don't have a full county name cross Various counties\n",
    "# Fill N/A with various\n",
    "df_investment_plan2[\"full_county_name\"] = df_investment_plan2[\n",
    "    \"full_county_name\"\n",
    "].fillna(\"Various\")"
   ]
  },
  {
   "cell_type": "code",
   "execution_count": 48,
   "id": "76c00219-be6d-4815-b410-b14724434988",
   "metadata": {
    "scrolled": true,
    "tags": []
   },
   "outputs": [],
   "source": [
    "# Check and make sure counties - district relationship makes sense.\n",
    "# df_investment_plan2[['county','full_county_name']].loc[df_investment_plan2['full_county_name'] == 'Various']"
   ]
  },
  {
   "cell_type": "markdown",
   "id": "d0a5a3f8-9863-41e9-9beb-9a1b376e0e48",
   "metadata": {
    "tags": []
   },
   "source": [
    "#### New project title: District + Title"
   ]
  },
  {
   "cell_type": "code",
   "execution_count": 49,
   "id": "c808c594-ba17-47f9-9817-c554335f1f43",
   "metadata": {},
   "outputs": [],
   "source": [
    "# Sort values by District\n",
    "df_investment_plan2 = df_investment_plan2.sort_values(by = ['district']).reset_index(drop = True) "
   ]
  },
  {
   "cell_type": "code",
   "execution_count": 50,
   "id": "723d4e6f-31e0-4c59-b4c8-4587bae27422",
   "metadata": {
    "scrolled": true,
    "tags": []
   },
   "outputs": [],
   "source": [
    "df_investment_plan2.project_name = ('District '+ df_investment_plan2.district.astype('int64').astype('str') + '-' + df_investment_plan2.project_name)"
   ]
  },
  {
   "cell_type": "markdown",
   "id": "5f781e36-39d3-4dd2-bc13-2b43c0a7a262",
   "metadata": {},
   "source": [
    "#### Rename Districts to mimic portfolio"
   ]
  },
  {
   "cell_type": "code",
   "execution_count": 51,
   "id": "7afa3cb9-fbb8-4b39-af8d-fe5e3001f78d",
   "metadata": {},
   "outputs": [],
   "source": [
    "# Add official Caltrans District names\n",
    "district_dictionary = {\n",
    "    7: \"07 - Los Angeles\",\n",
    "    4: \"04 - Oakland\",\n",
    "    2: \"02 - Redding\",\n",
    "    9: \"09 - Bishop\",\n",
    "    10: \"10 - Stockton\",\n",
    "    11: \"11 - San Diego\",\n",
    "    3: \"03 - Marysville\",\n",
    "    12: \"12 - Irvine\",\n",
    "    8: \"08 - San Bernardino\",\n",
    "    5: \"05 - San Luis Obispo\",\n",
    "    6: \"06 - Fresno\",\n",
    "    1: \"01 - Eureka\",\n",
    "    75: \"75 - HQ\",\n",
    "    74: \"74 - HQ\",\n",
    "    0: \"None\",\n",
    "}"
   ]
  },
  {
   "cell_type": "code",
   "execution_count": 52,
   "id": "7812bf76-50c4-461a-bab7-1b1f27867ef0",
   "metadata": {},
   "outputs": [],
   "source": [
    "df_investment_plan2[\"district\"] = df_investment_plan2[\"district\"].replace(\n",
    "    district_dictionary\n",
    ")"
   ]
  },
  {
   "cell_type": "markdown",
   "id": "6b4fe97e-cfa5-4312-abf2-da97052f22a3",
   "metadata": {
    "tags": []
   },
   "source": [
    "#### Drop unwanted columns"
   ]
  },
  {
   "cell_type": "code",
   "execution_count": 53,
   "id": "86d4884e-a593-4900-ab24-0d83061f1eae",
   "metadata": {},
   "outputs": [],
   "source": [
    "unwanted_cols = [\n",
    "    \"abbrev_\",\n",
    "    \"_merge\",\n",
    "    \"_2023\",\n",
    "    \"_2024\",\n",
    "    \"_2025\",\n",
    "    \"_2026\",\n",
    "    \"_2027\",\n",
    "    \"_2028\",\n",
    "    \"_2029\",\n",
    "    \"_2030\",\n",
    "    \"_2031\",\n",
    "    \"_2032\",\n",
    "    \"_2033\",\n",
    "    \"district_district_median_\",\n",
    "]"
   ]
  },
  {
   "cell_type": "code",
   "execution_count": 54,
   "id": "ad758c6a-6734-4b69-9085-d17d7030b080",
   "metadata": {},
   "outputs": [],
   "source": [
    "df_investment_plan2 = df_investment_plan2.drop(columns=unwanted_cols)"
   ]
  },
  {
   "cell_type": "markdown",
   "id": "9de85d34-0362-4993-981a-5eb0f5a196b2",
   "metadata": {},
   "source": [
    "### Some more checks "
   ]
  },
  {
   "cell_type": "code",
   "execution_count": 55,
   "id": "29bc8c57-996b-4209-b059-feea9e778d0c",
   "metadata": {},
   "outputs": [
    {
     "data": {
      "text/plain": [
       "(742, 742)"
      ]
     },
     "execution_count": 55,
     "metadata": {},
     "output_type": "execute_result"
    }
   ],
   "source": [
    "# Make sure the lengths are correct\n",
    "df_investment_plan2.project_name.nunique(), df_investment_plan.project_name.nunique()"
   ]
  },
  {
   "cell_type": "code",
   "execution_count": 56,
   "id": "150078bf-26f0-4fe2-b458-21c2c0db0a3b",
   "metadata": {},
   "outputs": [
    {
     "data": {
      "text/plain": [
       "743"
      ]
     },
     "execution_count": 56,
     "metadata": {},
     "output_type": "execute_result"
    }
   ],
   "source": [
    "len(df_investment_plan2)"
   ]
  },
  {
   "cell_type": "code",
   "execution_count": 57,
   "id": "d9563708-f325-44c5-bcc5-71d189079bdd",
   "metadata": {},
   "outputs": [
    {
     "data": {
      "text/plain": [
       "ea                                                 0\n",
       "ppno                                               0\n",
       "ct_project_id                                      0\n",
       "district                                           0\n",
       "county                                             0\n",
       "route                                            227\n",
       "beg_pm                                             0\n",
       "end_pm                                             0\n",
       "urban_rural                                        0\n",
       "project_name                                       0\n",
       "project_description                                0\n",
       "hq_priority                                        0\n",
       "district_priority                                  0\n",
       "previous_caltrans_nominations                      0\n",
       "primary_mode                                       0\n",
       "secondary_mode_s_                                  0\n",
       "shs_capacity_increase_detail                       0\n",
       "potential_funding_program_s_                       0\n",
       "notes                                              0\n",
       "lead_agency                                        0\n",
       "current_phase                                      0\n",
       "pid_approval_date                                  0\n",
       "target_pa_ed                                       0\n",
       "rtl_date                                           0\n",
       "con_start_date                                     0\n",
       "funding_need_phase_s_                              0\n",
       "total_project_cost__$1,000_                        0\n",
       "pa_ed_cost__$1,000_                                0\n",
       "ps_e_cost__$1,000_                                 0\n",
       "row_cost__$1,000_                                  0\n",
       "con_cost__$1,000_                                  0\n",
       "non_infrastructure___plan_cost__$1,000_            0\n",
       "total_unfunded_need__$1,000_                       0\n",
       "previous_funding_request                           0\n",
       "previous_funding_request_phase                     0\n",
       "last_scored                                        0\n",
       "mode_shift__csis_                                  0\n",
       "vmt__csis_                                         0\n",
       "dac_local_community_needs__csis_                   0\n",
       "public_engagement__csis_                           0\n",
       "safety__csis_                                      0\n",
       "zev__csis_                                         0\n",
       "climate_resiliency__csis_                          0\n",
       "natural_resources_and_ecosystems__csis_            0\n",
       "infill_development_and_land_use__csis_             0\n",
       "csis_total_score__out_of_45_                       0\n",
       "csis_alignment                                     0\n",
       "benefits_to_dac_and_advancing_equity__atp_         0\n",
       "community_need__atp_                               0\n",
       "safety__atp_                                       0\n",
       "public_participation__atp_                         0\n",
       "community_feedback__atp_                           0\n",
       "continued_engagement__atp_                         0\n",
       "context_sensitive_and_innovation__atp_             0\n",
       "transformative__atp_                               0\n",
       "atp_total_score__out_of_100_                       0\n",
       "atp_alignment                                      0\n",
       "access_alignment                                   0\n",
       "increase_peak_person_throughput                    0\n",
       "reduction_in_peak_period_delay                     0\n",
       "reduction_in_fatal_and_injury_crashes              0\n",
       "reduction_in_injury_rates                          0\n",
       "increase_access_to_jobs                            0\n",
       "increase_access_jobs_to_DAC                        0\n",
       "commercial_dev_developed                           0\n",
       "tons_of_goods_impacted                             0\n",
       "improve_air_quality                                0\n",
       "impact_natural_resources                           0\n",
       "support_of_transportation                          0\n",
       "fake_benefit_score                                 0\n",
       "statewide_rank                                     0\n",
       "district_rank                                      0\n",
       "fake_benefit_score_statewide_percentile            0\n",
       "total_project_cost__$1,000__district_median_       0\n",
       "fake_benefit_score_district_median_                0\n",
       "total_unfunded_need__$1,000__district_median_      0\n",
       "csis_total_score__out_of_45__district_median_      0\n",
       "atp_total_score__out_of_100__district_median_      0\n",
       "full_county_name                                   0\n",
       "dtype: int64"
      ]
     },
     "execution_count": 57,
     "metadata": {},
     "output_type": "execute_result"
    }
   ],
   "source": [
    "df_investment_plan2.isnull().sum()"
   ]
  },
  {
   "cell_type": "markdown",
   "id": "3cb7c706-dab0-4bb4-865b-701fb5bbb8ee",
   "metadata": {},
   "source": [
    "### Save"
   ]
  },
  {
   "cell_type": "code",
   "execution_count": 58,
   "id": "2cb93d6d-acd1-4349-930a-306155e5a16a",
   "metadata": {},
   "outputs": [],
   "source": [
    "df_investment_plan2 = _utils.clean_up_columns(df_investment_plan2)"
   ]
  },
  {
   "cell_type": "code",
   "execution_count": 59,
   "id": "a3e60806-a07b-4477-9533-90bbfb1d5a9d",
   "metadata": {
    "tags": []
   },
   "outputs": [
    {
     "data": {
      "text/plain": [
       "'\\ndf_investment_plan2.to_excel(\\n    f\"{GCS_FILE_PATH}fake_data.xlsx\", sheet_name=\"fake\", index=False\\n)'"
      ]
     },
     "execution_count": 59,
     "metadata": {},
     "output_type": "execute_result"
    }
   ],
   "source": [
    "\"\"\"\n",
    "df_investment_plan2.to_excel(\n",
    "    f\"{GCS_FILE_PATH}fake_data.xlsx\", sheet_name=\"fake\", index=False\n",
    ")\"\"\""
   ]
  }
 ],
 "metadata": {
  "kernelspec": {
   "display_name": "Python 3 (ipykernel)",
   "language": "python",
   "name": "python3"
  },
  "language_info": {
   "codemirror_mode": {
    "name": "ipython",
    "version": 3
   },
   "file_extension": ".py",
   "mimetype": "text/x-python",
   "name": "python",
   "nbconvert_exporter": "python",
   "pygments_lexer": "ipython3",
   "version": "3.10.6"
  }
 },
 "nbformat": 4,
 "nbformat_minor": 5
}
