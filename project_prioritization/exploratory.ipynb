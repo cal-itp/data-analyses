{
 "cells": [
  {
   "cell_type": "markdown",
   "id": "c97654de-9428-4e4b-9ae9-323e8469a52a",
   "metadata": {},
   "source": [
    "# 10 Year Non Shopp Data\n",
    "* Generating fake data.\n",
    "* Cleaning the current data.\n",
    "* Initial exploration.\n",
    "* [Using Smart Sheet.](https://app.smartsheet.com/workspaces/8MgpHcXR4GJVM5GvWWMmQg7M8gqhJj88Gfh54Pr1)"
   ]
  },
  {
   "cell_type": "code",
   "execution_count": 1,
   "id": "961bd8c3-fc92-4a72-a106-bb542fdf4e87",
   "metadata": {},
   "outputs": [],
   "source": [
    "import numpy as np\n",
    "import pandas as pd\n",
    "from calitp import *"
   ]
  },
  {
   "cell_type": "code",
   "execution_count": 2,
   "id": "f31abc44-d445-44b6-a04b-5d9a3cfb2eab",
   "metadata": {},
   "outputs": [
    {
     "name": "stderr",
     "output_type": "stream",
     "text": [
      "/opt/conda/lib/python3.9/site-packages/geopandas/_compat.py:123: UserWarning: The Shapely GEOS version (3.10.3-CAPI-1.16.1) is incompatible with the GEOS version PyGEOS was compiled with (3.10.1-CAPI-1.16.0). Conversions between both will be slow.\n",
      "  warnings.warn(\n"
     ]
    }
   ],
   "source": [
    "import _utils\n",
    "GCS_FILE_PATH = \"gs://calitp-analytics-data/data-analyses/project_prioritization/\""
   ]
  },
  {
   "cell_type": "code",
   "execution_count": 3,
   "id": "9057dd1d-8c22-42bf-a2fd-6cfae1710ee4",
   "metadata": {},
   "outputs": [],
   "source": [
    "pd.options.display.max_columns = 150\n",
    "pd.set_option(\"display.max_rows\", None)\n",
    "pd.set_option(\"display.max_colwidth\", None)"
   ]
  },
  {
   "cell_type": "markdown",
   "id": "9ae0c70d-1667-495d-99c7-6a0d32c9d205",
   "metadata": {},
   "source": [
    "### Opening the File\n",
    "<b> Google Sheets/ Smart Sheet </b> \n",
    "* Connecting to Smartsheet directly requires a premium account/subscription to Smartsheet to generate the API key. \n",
    "* Can export a Smartsheet to Google Sheets, but have to do it manually each time and move it from my Cal-ITP account to the Data Services Team drive. \n",
    "    * This is just as time consuming as downloading the sheet in Excel and uploading it to GCS.\n",
    "    * Csv file from Google Sheets doesn't read into pandas  properly. It downloads looking alright.\n",
    "* Easiest just to read the downloade Excel sheet from GCS."
   ]
  },
  {
   "cell_type": "code",
   "execution_count": 4,
   "id": "66a66fc7-ab46-4cf0-8dd6-5122aad71aa0",
   "metadata": {},
   "outputs": [],
   "source": [
    "# Open sheet with Google Sheets\n",
    "sheet_id = \"1O0rLyt96El6RQkVu5SYl0CwWqQRysryQn6_xANUYFkw\"\n",
    "sheet_name = \"main\""
   ]
  },
  {
   "cell_type": "code",
   "execution_count": 5,
   "id": "c0eb1ea1-e54c-4ad3-ad15-96538dca055e",
   "metadata": {},
   "outputs": [],
   "source": [
    "# url = f\"https://docs.google.com/spreadsheets/d/{sheet_id}/gviz/tq?tqx=out:csv&sheet={sheet_name}\""
   ]
  },
  {
   "cell_type": "code",
   "execution_count": 6,
   "id": "02cb43a3-70a9-4fda-8423-dc93812aa101",
   "metadata": {},
   "outputs": [],
   "source": [
    "# csv = pd.read_csv(url, sep='\\t')"
   ]
  },
  {
   "cell_type": "code",
   "execution_count": 7,
   "id": "6847a64e-af90-41ef-ba56-096851faa798",
   "metadata": {},
   "outputs": [
    {
     "name": "stderr",
     "output_type": "stream",
     "text": [
      "/opt/conda/lib/python3.9/site-packages/openpyxl/styles/stylesheet.py:226: UserWarning: Workbook contains no default style, apply openpyxl's default\n"
     ]
    }
   ],
   "source": [
    "# Open first sheet.\n",
    "df_investment_plan = to_snakecase(\n",
    "    pd.read_excel(\n",
    "        f\"{GCS_FILE_PATH}10 Year Non-SHOPP Investment Plan Project List.xlsx\"\n",
    "    )\n",
    ")"
   ]
  },
  {
   "cell_type": "markdown",
   "id": "007a66e8-9d05-4156-9ecc-6a17d0603ac9",
   "metadata": {},
   "source": [
    "### Cleaning\n",
    "#### Preview"
   ]
  },
  {
   "cell_type": "code",
   "execution_count": 8,
   "id": "205ddb97-a85b-43f4-b991-4886b0c5fe8b",
   "metadata": {},
   "outputs": [
    {
     "data": {
      "text/plain": [
       "(765, 90)"
      ]
     },
     "execution_count": 8,
     "metadata": {},
     "output_type": "execute_result"
    }
   ],
   "source": [
    "df_investment_plan.shape"
   ]
  },
  {
   "cell_type": "code",
   "execution_count": 9,
   "id": "29212b58-6634-4ed9-b0d0-1a291fc834a8",
   "metadata": {},
   "outputs": [],
   "source": [
    "# df_investment_plan[[\"_10_year_plan\"]].sample(30)"
   ]
  },
  {
   "cell_type": "code",
   "execution_count": 10,
   "id": "5f52cd56-6a63-45f5-b55b-a1f02cfc7dc1",
   "metadata": {},
   "outputs": [],
   "source": [
    "# Drop columns that are already unneeded\n",
    "df_investment_plan = df_investment_plan.drop(columns = [\"modified\", \"modified_by\"])"
   ]
  },
  {
   "cell_type": "code",
   "execution_count": 11,
   "id": "de78890c-0f81-4764-9763-bfb6fb08f1f2",
   "metadata": {},
   "outputs": [
    {
     "data": {
      "text/plain": [
       "rail_project_id                                      73.856209\n",
       "_10_year_plan                                        99.738562\n",
       "ct_project_id                                        56.209150\n",
       "update_complete                                      38.169935\n",
       "ea                                                   54.248366\n",
       "ppno                                                 68.627451\n",
       "project_name                                          0.000000\n",
       "district                                              0.000000\n",
       "county                                                0.000000\n",
       "route                                                 1.568627\n",
       "project_description                                   2.483660\n",
       "current_phase                                         0.000000\n",
       "con_existing_source_s__of_funds                      55.816993\n",
       "con_anticipated_source_of_funds                      58.169935\n",
       "target_opening_year                                  54.248366\n",
       "beg_pm                                               45.751634\n",
       "end_pm                                               46.013072\n",
       "primary_mode                                          0.000000\n",
       "previous_caltrans_nominations                        10.980392\n",
       "urban_rural                                          14.901961\n",
       "notes                                                32.549020\n",
       "lead_agency                                          30.980392\n",
       "pid_approval_date__m010_                             77.516340\n",
       "target_pa_ed__m200_                                  61.568627\n",
       "rtl_date__m460_                                      54.117647\n",
       "con_start_date__m500_                                45.098039\n",
       "funding_need_phase_s_                                82.352941\n",
       "pa_ed_cost__$1,000_                                  74.248366\n",
       "ps_e_cost__$1,000_                                   73.333333\n",
       "row_cost__$1,000_                                    74.379085\n",
       "con_support_cost__$1,000_                            78.692810\n",
       "non_infrastructure___plan_cost__$1,000_              84.052288\n",
       "total_unfunded_need__$1,000_                         55.816993\n",
       "previous_funding_request_phase                       88.496732\n",
       "last_scored                                          62.614379\n",
       "csis_alignment                                        0.000000\n",
       "csis_total_score__out_of_45_                          0.000000\n",
       "mode_shift__csis__score                              86.013072\n",
       "mode_shift__csis__comment                            89.281046\n",
       "vmt__csis__score                                     88.235294\n",
       "vmt__csis__comment                                   89.281046\n",
       "public_engagement__csis__score                       85.751634\n",
       "public_engagement__csis__comment                     89.281046\n",
       "dac_local_community_needs__csis__score               85.751634\n",
       "dac_local_community_needs__csis__comment             89.281046\n",
       "safety__csis__score                                  85.751634\n",
       "safety__csis__comment                                89.281046\n",
       "zev__csis__score                                     87.973856\n",
       "zev__csis__comment                                   89.281046\n",
       "climate_resiliency__csis__score                      87.973856\n",
       "climate_resiliency__csis__comment                    89.281046\n",
       "natural_resources_and_ecosystems__csis__score        88.235294\n",
       "natural_resources_and_ecosystems__csis__comment      89.281046\n",
       "infill_development_and_land_use__csis__score         88.235294\n",
       "infill_development_and_land_use__csis__comment       89.281046\n",
       "benefits_to_dac_and_advancing_equity__atp__score     98.431373\n",
       "community_need__atp__score                           98.431373\n",
       "safety__atp__score                                   98.431373\n",
       "public_participation__atp__score                     98.431373\n",
       "community_feedback__atp__score                       98.431373\n",
       "continued_engagement__atp__score                     98.431373\n",
       "context_sensitive_and_innovation__atp__score         98.431373\n",
       "transformative__atp__score                           98.431373\n",
       "atp_total_score__out_of_100_                          0.000000\n",
       "atp_alignment                                         0.000000\n",
       "access_alignment                                     76.601307\n",
       "_2023                                                98.954248\n",
       "_2024                                                99.607843\n",
       "_2025                                               100.000000\n",
       "_2026                                                99.869281\n",
       "_2027                                               100.000000\n",
       "_2028                                               100.000000\n",
       "_2029                                               100.000000\n",
       "_2030                                               100.000000\n",
       "_2031                                               100.000000\n",
       "_2032                                               100.000000\n",
       "_2033                                               100.000000\n",
       "previous_funding_request                             77.124183\n",
       "purpose___need                                       56.470588\n",
       "parcel_counts                                        54.509804\n",
       "total_project_cost__$1,000_                           8.366013\n",
       "con_capital_cost__$1,000_                            54.117647\n",
       "hq_priority                                          87.058824\n",
       "district_priority                                    99.738562\n",
       "potential_funding_program_s_                         21.307190\n",
       "located_in_dac                                       99.738562\n",
       "shs_capacity_increase_detail                         60.000000\n",
       "secondary_mode_s_                                    67.058824\n",
       "dtype: float64"
      ]
     },
     "execution_count": 11,
     "metadata": {},
     "output_type": "execute_result"
    }
   ],
   "source": [
    "# Look at nulls by % for each column\n",
    "(df_investment_plan.isnull().sum() / len(df_investment_plan)) * 100"
   ]
  },
  {
   "cell_type": "code",
   "execution_count": 12,
   "id": "abd816c6-7579-4a98-a462-5e4ae08fac63",
   "metadata": {},
   "outputs": [],
   "source": [
    "# df_investment_plan.info()"
   ]
  },
  {
   "cell_type": "markdown",
   "id": "383e1537-dde4-43be-925b-5b195240a54c",
   "metadata": {},
   "source": [
    "#### Fix monetary & date values "
   ]
  },
  {
   "cell_type": "code",
   "execution_count": 13,
   "id": "3ee756e2-2e03-45f2-8425-2e189b6e45d5",
   "metadata": {
    "scrolled": true,
    "tags": []
   },
   "outputs": [],
   "source": [
    "# df_investment_plan[\"total_project_cost__$1,000_\"].unique().tolist()"
   ]
  },
  {
   "cell_type": "code",
   "execution_count": 14,
   "id": "4b7d4d5e-a9d0-44ed-95b8-95a3cd005de8",
   "metadata": {},
   "outputs": [],
   "source": [
    "# Manually clean up some values that are strings\n",
    "df_investment_plan[\"total_project_cost__$1,000_\"] = df_investment_plan[\"total_project_cost__$1,000_\"\n",
    "].replace(\n",
    "    {\n",
    "        \"Phase 1 (SR-60 to Mission Blvd) - $174,000\\nPhase 2 (Mission Blvd to I-10) - $170,000\": 344000,\n",
    "        \"$85,738 (Cycle 2)\": 85738,\n",
    "        \"Oxnard to Camarillo 2nd Main Track: $15,000\\nOxnard Station North Platform: $20,000\": 35000,\n",
    "        \"$214,000\\nPhase 1: $82,000\\nPhase 2: $132,000\": 214000,\n",
    "        \"$-\": 0,\n",
    "        \"TBD\": 0,\n",
    "        \"Info not currently available\":0,\n",
    "    }\n",
    ")"
   ]
  },
  {
   "cell_type": "code",
   "execution_count": 15,
   "id": "1c145635-fec2-449f-a621-2da74f543677",
   "metadata": {},
   "outputs": [],
   "source": [
    "# Coerce cost and score columns into numeric.\n",
    "# https://stackoverflow.com/questions/21285380/find-column-whose-name-contains-a-specific-string\n",
    "cost_score_cols = [col for col in df_investment_plan.columns if any(s in col for s in ['score','cost','need'])]"
   ]
  },
  {
   "cell_type": "code",
   "execution_count": 16,
   "id": "e4ecf5a5-7bd0-49f3-a579-7f682db5a6e9",
   "metadata": {},
   "outputs": [],
   "source": [
    "for c in cost_score_cols:\n",
    "    df_investment_plan[c] = df_investment_plan[c].apply(pd.to_numeric, errors = 'coerce').fillna(0)"
   ]
  },
  {
   "cell_type": "code",
   "execution_count": 17,
   "id": "152b7010-e1d1-4d23-9f4d-cc6f51561671",
   "metadata": {},
   "outputs": [],
   "source": [
    "# df_investment_plan.info()"
   ]
  },
  {
   "cell_type": "code",
   "execution_count": 18,
   "id": "da68484e-8139-4999-ae60-4d0998a44767",
   "metadata": {},
   "outputs": [],
   "source": [
    "# Find all date related cols\n",
    "date_cols = [col for col in df_investment_plan.columns if 'date' in col]"
   ]
  },
  {
   "cell_type": "code",
   "execution_count": 19,
   "id": "ddfe0560-5ed0-463f-9c17-784888f814d3",
   "metadata": {},
   "outputs": [],
   "source": [
    "# Remove update complete column from this list.\n",
    "date_cols.remove('update_complete')"
   ]
  },
  {
   "cell_type": "code",
   "execution_count": 20,
   "id": "25401eb4-7bde-40c6-b7d6-0ad29101642a",
   "metadata": {},
   "outputs": [],
   "source": [
    "# Change to the correct format. \n",
    "for c in date_cols:\n",
    "    df_investment_plan[c] = df_investment_plan[c].apply(pd.to_datetime, errors=\"coerce\")"
   ]
  },
  {
   "cell_type": "code",
   "execution_count": 21,
   "id": "49ef853e-ff0b-4f76-828e-ab2937f8374c",
   "metadata": {},
   "outputs": [],
   "source": [
    "# Fill NA based on dtypes\n",
    "df_investment_plan = df_investment_plan.fillna(\n",
    "    df_investment_plan.dtypes.replace({\"float64\": 0.0, \"object\": \"None\"})\n",
    ")"
   ]
  },
  {
   "cell_type": "code",
   "execution_count": 22,
   "id": "0f84664e-594e-402b-98b4-9dd9b03a42c8",
   "metadata": {},
   "outputs": [],
   "source": [
    "# Filling in na by data type didn't work with route\n",
    "df_investment_plan[\"route\"] = df_investment_plan[\"route\"].fillna('None')"
   ]
  },
  {
   "cell_type": "markdown",
   "id": "478d501e-e504-4c6c-aeb4-1e2e6f2cf294",
   "metadata": {},
   "source": [
    "#### Neaten up String Columns"
   ]
  },
  {
   "cell_type": "code",
   "execution_count": 23,
   "id": "d0550e2d-7765-4a2c-a757-e6c56f7b4ae3",
   "metadata": {},
   "outputs": [],
   "source": [
    "# df_investment_plan[\"current_phase\"].value_counts()"
   ]
  },
  {
   "cell_type": "code",
   "execution_count": 24,
   "id": "b700754a-22e9-408b-955e-ac09f1272e68",
   "metadata": {},
   "outputs": [],
   "source": [
    "# Correct some curent phase values that read in messily\n",
    "df_investment_plan[\"current_phase\"] = df_investment_plan[\"current_phase\"].replace(\n",
    "    {\n",
    "        \"REMOVE/END\\nSHELF\": \"remove/end/shelf\",\n",
    "        \"INACTIVE\\nON HOLD\": \"inactive/onhold\",\n",
    "        \"INACTIVE\\nPS&E/ROW\": \"inactive/ps&e/row\",\n",
    "    }\n",
    ")"
   ]
  },
  {
   "cell_type": "code",
   "execution_count": 25,
   "id": "10eee598-5957-4996-9e1d-edb2ad957f62",
   "metadata": {},
   "outputs": [],
   "source": [
    "# Titlecase certain string columns\n",
    "titlecase_cols = [\n",
    "    \"route\",\n",
    "    \"potential_funding_program_s_\",\n",
    "    \"lead_agency\",\n",
    "    \"primary_mode\",\n",
    "    \"project_name\",\n",
    "    \"potential_funding_program_s_\",\n",
    "    \"urban_rural\", \n",
    "]\n",
    "\n",
    "# Title case certain columns\n",
    "for c in titlecase_cols:\n",
    "    df_investment_plan[c] = df_investment_plan[c].str.title().str.strip()"
   ]
  },
  {
   "cell_type": "code",
   "execution_count": 26,
   "id": "95cde04f-8358-40f7-abd8-73d3676093c1",
   "metadata": {},
   "outputs": [],
   "source": [
    "# Upper case phases & counties\n",
    "uppercase_cols = [\"county\",\"current_phase\"]\n",
    "for c in uppercase_cols:\n",
    "    df_investment_plan[c] = df_investment_plan[c].str.upper().str.strip()"
   ]
  },
  {
   "cell_type": "markdown",
   "id": "dd995978-ac23-4b7b-bec9-50184302b3d6",
   "metadata": {
    "tags": []
   },
   "source": [
    "#### Correct Projects that are in the wrong district\n",
    "* Maybe need a more robust way to match the county to the district automatically.\n",
    "* https://cwwp2.dot.ca.gov/documentation/district-map-county-chart.htm"
   ]
  },
  {
   "cell_type": "code",
   "execution_count": 27,
   "id": "4e967619-1803-4886-951a-6b7bb0a25e5d",
   "metadata": {
    "scrolled": true,
    "tags": []
   },
   "outputs": [],
   "source": [
    "# df_investment_plan[['project_name','county','district']]"
   ]
  },
  {
   "cell_type": "code",
   "execution_count": 28,
   "id": "546b0bef-93fa-4a1c-a7b0-67a17c59df21",
   "metadata": {},
   "outputs": [],
   "source": [
    "df_investment_plan.loc[\n",
    "    (\n",
    "        df_investment_plan[\"project_name\"]\n",
    "        == \"Polb Terminal Island Wye Track Realignment\"\n",
    "    ),\n",
    "    \"district\",\n",
    "] = \"7\""
   ]
  },
  {
   "cell_type": "code",
   "execution_count": 29,
   "id": "a6a4eca5-dad4-4c35-804f-b3386fa44b0f",
   "metadata": {},
   "outputs": [],
   "source": [
    "# These are all projects in Kern County, which is district 6. \n",
    "# However they are tagged as district 9. \n",
    "df_investment_plan.loc[\n",
    "    (df_investment_plan[\"project_name\"] == \"Sr 58 Truck Climbing Lanes Segment 2\"),\n",
    "    \"district\",\n",
    "] = \"6\"\n",
    "df_investment_plan.loc[\n",
    "    (df_investment_plan[\"project_name\"] == \"Mojave To Boron Freeway\"), \"district\"\n",
    "] = \"6\"\n",
    "df_investment_plan.loc[\n",
    "    (df_investment_plan[\"project_name\"] == \"Sr 58/California City Blvd. Extension\"),\n",
    "    \"district\",\n",
    "] = \"6\""
   ]
  },
  {
   "cell_type": "markdown",
   "id": "e850a705-34a3-46ed-9744-a32055fb486c",
   "metadata": {},
   "source": [
    "#### Ensure Lead Agencies are not duplicated\n",
    "* Does Metro correspond with LA Metro or Metrolink?\n",
    "* Additionally, some agency names are spelled out while others are referred to as acronyms. \n",
    "* Maybe this should be standardized: either all acronyms or all spelled out. \n"
   ]
  },
  {
   "cell_type": "code",
   "execution_count": 30,
   "id": "b5d38e13-ba99-42bf-a8b1-07b1c8e2c4d5",
   "metadata": {},
   "outputs": [],
   "source": [
    "agency_dict = {'Drmt':'Caltrans',\n",
    "  'Mtc':'Mtc - Bay Area Toll Authority',\n",
    "  'Pola':'Port of Los Angeles',\n",
    "  'Polb':'Port of Long Beach',\n",
    "  'Rctc':'Riverside County Transportation Commission',\n",
    "  'Vctc':'Ventura County Transportation Commission',\n",
    "  'Vta': 'Santa Clara Valley Transportation Authority (Vta)'}"
   ]
  },
  {
   "cell_type": "code",
   "execution_count": 31,
   "id": "544dd092-4bfd-429c-a251-0e9288d04070",
   "metadata": {},
   "outputs": [],
   "source": [
    "df_investment_plan[\"lead_agency\"] = df_investment_plan[\"lead_agency\"].replace(agency_dict)"
   ]
  },
  {
   "cell_type": "code",
   "execution_count": 32,
   "id": "7c22d5d5-7448-49a5-be78-4239dbede4ee",
   "metadata": {
    "scrolled": true,
    "tags": []
   },
   "outputs": [],
   "source": [
    "# df_investment_plan.lead_agency.sort_values().unique().tolist()"
   ]
  },
  {
   "cell_type": "code",
   "execution_count": 33,
   "id": "9f258841-6b12-4fe7-8b21-680f31397a89",
   "metadata": {
    "scrolled": true,
    "tags": []
   },
   "outputs": [],
   "source": [
    "# df_investment_plan.lead_agency.value_counts()"
   ]
  },
  {
   "cell_type": "markdown",
   "id": "dd8e486b-58fd-47ad-a093-86a8292bd228",
   "metadata": {
    "tags": []
   },
   "source": [
    "#### Add Full County Names \n",
    "* Currently, the counties are only referred to as ALA or KER.\n",
    "* Change this to be Alameda or Kern."
   ]
  },
  {
   "cell_type": "code",
   "execution_count": 34,
   "id": "b7df603c-a761-4912-9793-81375513cc19",
   "metadata": {},
   "outputs": [],
   "source": [
    "# Load Excel workbook with abbreviations and full county names\n",
    "# https://cwwp2.dot.ca.gov/documentation/district-map-county-chart.htm\n",
    "df_county = to_snakecase(pd.read_excel(f\"{GCS_FILE_PATH}full_counties.xlsx\"))\n",
    "df_county = df_county.rename(columns={\"county\": \"full_county_name\"}).drop(columns=[\"district\"])"
   ]
  },
  {
   "cell_type": "code",
   "execution_count": 35,
   "id": "430eb682-958c-48bd-b560-8ed7680d33c2",
   "metadata": {},
   "outputs": [],
   "source": [
    "# Merge df_county with dataframe.\n",
    "df_investment_plan = pd.merge(\n",
    "    df_investment_plan,\n",
    "    df_county,\n",
    "    left_on=\"county\",\n",
    "    right_on=\"abbrev_\",\n",
    "    how=\"left\",\n",
    "    indicator=True,\n",
    ")"
   ]
  },
  {
   "cell_type": "code",
   "execution_count": 36,
   "id": "8cff5add-3a04-4d32-a4ba-12ad19b3ef48",
   "metadata": {},
   "outputs": [],
   "source": [
    "# Check left only merges to make sure these are multiple/various county projects\n",
    "# df_investment_plan.loc[df_investment_plan._merge == \"left_only\"][['county']]"
   ]
  },
  {
   "cell_type": "code",
   "execution_count": 37,
   "id": "adbf9638-cb96-4f8a-84f3-4bd56bcaedd8",
   "metadata": {},
   "outputs": [],
   "source": [
    "# Fill full_county_name column with none if it's none in the county column\n",
    "df_investment_plan.loc[\n",
    "    (df_investment_plan[\"county\"] == \"NONE\"),\n",
    "    \"full_county_name\",\n",
    "] = \"None\""
   ]
  },
  {
   "cell_type": "code",
   "execution_count": 38,
   "id": "d21241e2-d7e8-4361-8565-ed5a7a52aad3",
   "metadata": {},
   "outputs": [],
   "source": [
    "# Any projects that don't have a full county name because the project crosses\n",
    "# various counties, fill it with Various\n",
    "df_investment_plan[\"full_county_name\"] = df_investment_plan[\n",
    "    \"full_county_name\"\n",
    "].fillna(\"Various\")"
   ]
  },
  {
   "cell_type": "code",
   "execution_count": 39,
   "id": "a8d6762b-6f57-45c5-a786-ad7937af0e08",
   "metadata": {},
   "outputs": [],
   "source": [
    "# First check\n",
    "# df_investment_plan[[\"county\",\"abbrev_\",\"full_county_name\"]].drop_duplicates().sort_values('abbrev_')"
   ]
  },
  {
   "cell_type": "code",
   "execution_count": 40,
   "id": "76c00219-be6d-4815-b410-b14724434988",
   "metadata": {
    "scrolled": true,
    "tags": []
   },
   "outputs": [],
   "source": [
    "# Second check\n",
    "# df_investment_plan[['county','full_county_name']].loc[df_investment_plan['full_county_name'] == 'Various']"
   ]
  },
  {
   "cell_type": "markdown",
   "id": "d0a5a3f8-9863-41e9-9beb-9a1b376e0e48",
   "metadata": {
    "tags": []
   },
   "source": [
    "#### Create new project titles: District + Title\n",
    "* Roy's request: wants the dropdown menu to show projects by by districts first in ascending order. "
   ]
  },
  {
   "cell_type": "code",
   "execution_count": 41,
   "id": "e16048c3-e693-40bc-9017-87c357885754",
   "metadata": {},
   "outputs": [],
   "source": [
    "# Cast district as all integers \n",
    "df_investment_plan.district = df_investment_plan.district.astype('int64')"
   ]
  },
  {
   "cell_type": "code",
   "execution_count": 42,
   "id": "c808c594-ba17-47f9-9817-c554335f1f43",
   "metadata": {},
   "outputs": [],
   "source": [
    "# Sort values by District\n",
    "df_investment_plan = df_investment_plan.sort_values(by = ['district']).reset_index(drop = True) "
   ]
  },
  {
   "cell_type": "code",
   "execution_count": 43,
   "id": "723d4e6f-31e0-4c59-b4c8-4587bae27422",
   "metadata": {
    "scrolled": true,
    "tags": []
   },
   "outputs": [],
   "source": [
    "# New column with project titles\n",
    "df_investment_plan[\"detailed_project_title\"] = ('District '+ df_investment_plan.district.astype('str') + '-' + df_investment_plan.project_name)"
   ]
  },
  {
   "cell_type": "code",
   "execution_count": 44,
   "id": "a8794a56-e335-40c7-9fa2-77010571fd6f",
   "metadata": {
    "tags": []
   },
   "outputs": [],
   "source": [
    "# df_investment_plan[\"detailed_project_title\"].sample(4).tolist()"
   ]
  },
  {
   "cell_type": "code",
   "execution_count": 45,
   "id": "a2b0815f-51bf-4218-b94c-0620f10cee23",
   "metadata": {
    "scrolled": true,
    "tags": []
   },
   "outputs": [],
   "source": [
    "# df_investment_plan[[\"detailed_project_title\"]]"
   ]
  },
  {
   "cell_type": "markdown",
   "id": "5f781e36-39d3-4dd2-bc13-2b43c0a7a262",
   "metadata": {},
   "source": [
    "#### Rename Districts to mimic portfolio"
   ]
  },
  {
   "cell_type": "code",
   "execution_count": 46,
   "id": "7afa3cb9-fbb8-4b39-af8d-fe5e3001f78d",
   "metadata": {},
   "outputs": [],
   "source": [
    "# Add official Caltrans District names\n",
    "district_dictionary = {\n",
    "    7: \"07 - Los Angeles\",\n",
    "    4: \"04 - Oakland\",\n",
    "    2: \"02 - Redding\",\n",
    "    9: \"09 - Bishop\",\n",
    "    10: \"10 - Stockton\",\n",
    "    11: \"11 - San Diego\",\n",
    "    3: \"03 - Marysville\",\n",
    "    12: \"12 - Irvine\",\n",
    "    8: \"08 - San Bernardino\",\n",
    "    5: \"05 - San Luis Obispo\",\n",
    "    6: \"06 - Fresno\",\n",
    "    1: \"01 - Eureka\",\n",
    "    75: \"75 - HQ\",\n",
    "    74: \"74 - HQ\",\n",
    "    0: \"None\",\n",
    "}"
   ]
  },
  {
   "cell_type": "code",
   "execution_count": 47,
   "id": "7812bf76-50c4-461a-bab7-1b1f27867ef0",
   "metadata": {},
   "outputs": [],
   "source": [
    "# Create a new column called district full name.\n",
    "df_investment_plan[\"district_full_name\"] = df_investment_plan[\"district\"].replace(\n",
    "    district_dictionary\n",
    ")"
   ]
  },
  {
   "cell_type": "code",
   "execution_count": 48,
   "id": "a3e60806-a07b-4477-9533-90bbfb1d5a9d",
   "metadata": {
    "tags": []
   },
   "outputs": [],
   "source": [
    "df_investment_plan.to_excel(\n",
    " f\"{GCS_FILE_PATH}cleaned_data_with_fake_metrics.xlsx\", sheet_name=\"fake\", index=False)"
   ]
  },
  {
   "cell_type": "markdown",
   "id": "48d660ae-6408-4803-a283-16c4f8c06521",
   "metadata": {
    "tags": []
   },
   "source": [
    "### Investigate: Duplication\n",
    "* Rows of projects corresponds exactly with project names"
   ]
  },
  {
   "cell_type": "code",
   "execution_count": null,
   "id": "93c35488-1b8e-4f63-8cdd-227bb9d068ba",
   "metadata": {},
   "outputs": [],
   "source": [
    "# Subset of df for when I just want to preview pertinent info.\n",
    "preview_cols = [\"district\", \"ppno\", \"project_name\", \"current_phase\", \"ct_project_id\", \"ea\", \"project_description\", 'total_project_cost__$1,000_']"
   ]
  },
  {
   "cell_type": "code",
   "execution_count": null,
   "id": "8b092fc6-457e-4cda-b9fe-c47852c54a72",
   "metadata": {},
   "outputs": [],
   "source": [
    "# Check that each row represents a different project\n",
    "for i in [\"ppno\", \"ct_project_id\", \"project_name\"]:\n",
    "    print(f\"{i} : {df_investment_plan[i].nunique()}\")\n",
    "f\"The dataframe contains {len(df_investment_plan)} rows.\""
   ]
  },
  {
   "cell_type": "code",
   "execution_count": null,
   "id": "e19877dc-8c4d-4c36-892d-502059a22056",
   "metadata": {},
   "outputs": [],
   "source": [
    "len(df_investment_plan.loc[df_investment_plan.ppno == \"None\"])/len(df_investment_plan)"
   ]
  },
  {
   "cell_type": "code",
   "execution_count": null,
   "id": "776f931b-b5a0-4327-83ec-6a49a33e43a3",
   "metadata": {},
   "outputs": [],
   "source": [
    "len(df_investment_plan.loc[df_investment_plan.ct_project_id == \"None\"])/len(df_investment_plan)"
   ]
  },
  {
   "cell_type": "markdown",
   "id": "8487a02c-df3b-4229-bf2f-0caae1b04e13",
   "metadata": {},
   "source": [
    "#### PPNO Investigation\n",
    "* Some projects are 1:1 matches such as South Fresno State Route 99 Corridor Project and South Fresno I/C Project\n",
    "* Others are not as clear. Like Sr 233 Chowchilla Interchange Improvement\\nMad 99/233 Chowchilla Interchange Improvement and Chowchilla 99/233 I/C\t"
   ]
  },
  {
   "cell_type": "code",
   "execution_count": null,
   "id": "84f52222-6fd0-4fb5-9169-d5e2fc5a75f6",
   "metadata": {
    "scrolled": true,
    "tags": []
   },
   "outputs": [],
   "source": [
    "# Check the duplicate PPNO-Project Name combos\n",
    "duplicate_ppno = (\n",
    "    df_investment_plan[~df_investment_plan[\"ppno\"].isin([0, \"None\", \"TBD\"])]\n",
    "    .groupby(\"ppno\")\n",
    "    .agg({\"project_name\": \"count\"})\n",
    "    .sort_values(\"project_name\")\n",
    "    .reset_index()\n",
    ")"
   ]
  },
  {
   "cell_type": "code",
   "execution_count": null,
   "id": "3b0568a2-a2c1-4338-8871-daff1c6ee7d0",
   "metadata": {},
   "outputs": [],
   "source": [
    "# Filter out for ppno with more than 2 project names.\n",
    "# Save those projects into a list\n",
    "duplicate_ppno = duplicate_ppno[duplicate_ppno[\"project_name\"] > 1]"
   ]
  },
  {
   "cell_type": "code",
   "execution_count": null,
   "id": "8b3e96ab-afc5-4e61-bb77-7921cea45151",
   "metadata": {},
   "outputs": [],
   "source": [
    "duplicate_ppno_list = duplicate_ppno[\"ppno\"].to_list()"
   ]
  },
  {
   "cell_type": "code",
   "execution_count": null,
   "id": "acb4c8e3-9d2d-4339-a92a-fea03c8b1fdd",
   "metadata": {
    "scrolled": true,
    "tags": []
   },
   "outputs": [],
   "source": [
    "duplicate_ppno_df = df_investment_plan[\n",
    "    df_investment_plan[\"ppno\"].isin(duplicate_ppno_list)\n",
    "]"
   ]
  },
  {
   "cell_type": "code",
   "execution_count": null,
   "id": "4035c129-d52d-4428-a6c9-4dc5cf7225b8",
   "metadata": {},
   "outputs": [],
   "source": [
    "duplicate_ppno_df.project_name.nunique()"
   ]
  },
  {
   "cell_type": "code",
   "execution_count": null,
   "id": "8ba62f22-f419-4ee0-a573-2a215a0a1aa2",
   "metadata": {
    "scrolled": true,
    "tags": []
   },
   "outputs": [],
   "source": [
    "duplicate_ppno_df[preview_cols].sort_values('district')"
   ]
  },
  {
   "cell_type": "markdown",
   "id": "dcf46200-b29b-4691-941f-b76773eeb15c",
   "metadata": {},
   "source": [
    "#### Project ID Investigation\n",
    "* Overlaps with PPNO."
   ]
  },
  {
   "cell_type": "code",
   "execution_count": null,
   "id": "43e4987b-05f6-4021-86fb-eb9b3b1ee431",
   "metadata": {},
   "outputs": [],
   "source": [
    "# Check the duplicate Project ID-Project Name combos\n",
    "duplicate_project_ids = (\n",
    "    df_investment_plan[~df_investment_plan[\"ct_project_id\"].isin([0, \"None\", \"TBD\"])]\n",
    "    .groupby(\"ct_project_id\")\n",
    "    .agg({\"project_name\": \"count\"})\n",
    "    .sort_values(\"project_name\")\n",
    "    .reset_index()\n",
    ")"
   ]
  },
  {
   "cell_type": "code",
   "execution_count": null,
   "id": "2e8c1007-16f0-486c-a402-ab7d8d0a6c34",
   "metadata": {},
   "outputs": [],
   "source": [
    "# Filter out for ppno with more than 2 project names.\n",
    "# Save those projects into a list\n",
    "duplicate_projects_ids = duplicate_project_ids[duplicate_project_ids[\"project_name\"] > 1]"
   ]
  },
  {
   "cell_type": "code",
   "execution_count": null,
   "id": "085ec43b-6dfe-48a7-8eef-286d5b3e0464",
   "metadata": {},
   "outputs": [],
   "source": [
    "duplicate_project_id_list = duplicate_projects_ids[\"ct_project_id\"].to_list()"
   ]
  },
  {
   "cell_type": "code",
   "execution_count": null,
   "id": "5b9b586a-e669-47a2-aec5-b73c534be675",
   "metadata": {},
   "outputs": [],
   "source": [
    "duplicate_project_id_df = df_investment_plan[\n",
    "    df_investment_plan[\"ct_project_id\"].isin(duplicate_project_id_list)\n",
    "]"
   ]
  },
  {
   "cell_type": "code",
   "execution_count": null,
   "id": "a67920cd-07ab-4219-a2e9-4b64568e7274",
   "metadata": {},
   "outputs": [],
   "source": [
    "duplicate_project_id_df[preview_cols].sort_values('district')"
   ]
  },
  {
   "cell_type": "code",
   "execution_count": null,
   "id": "db06f99a-f7d0-45c3-89b0-73431d01fb7b",
   "metadata": {},
   "outputs": [],
   "source": [
    "project_id_set = set(duplicate_project_id_df.project_name.unique().tolist())\n",
    "ppno_set = set(duplicate_ppno_df.project_name.unique().tolist())"
   ]
  },
  {
   "cell_type": "code",
   "execution_count": null,
   "id": "53bfff61-9f16-4226-bd36-cea631d3db1d",
   "metadata": {},
   "outputs": [],
   "source": [
    "project_id_set - ppno_set"
   ]
  },
  {
   "cell_type": "code",
   "execution_count": null,
   "id": "ebf338bc-6fe3-444d-9c81-91b996897741",
   "metadata": {},
   "outputs": [],
   "source": [
    "ppno_set - project_id_set "
   ]
  },
  {
   "cell_type": "markdown",
   "id": "f6716d25-4b8e-4995-bcac-fede8750e069",
   "metadata": {
    "tags": []
   },
   "source": [
    "### DO NOT RUN PAST HERE - Add Fake Values"
   ]
  },
  {
   "cell_type": "markdown",
   "id": "48757aa0-e11e-4728-98e2-ff320cb28c1e",
   "metadata": {},
   "source": [
    "#### Create fake metrics"
   ]
  },
  {
   "cell_type": "code",
   "execution_count": null,
   "id": "34b8dded-f8ce-431b-8ca9-c37751c72740",
   "metadata": {},
   "outputs": [],
   "source": [
    "# Duplicate the dataframe in case we don't want to use a copy with the fake metrics\n",
    "df_investment_plan2 = df_investment_plan.copy()"
   ]
  },
  {
   "cell_type": "code",
   "execution_count": null,
   "id": "c2d352aa-86dd-4db8-b70f-9d9c7c03a3ea",
   "metadata": {},
   "outputs": [],
   "source": [
    "# https://stackoverflow.com/questions/64093880/how-to-create-random-floats-and-add-them-as-a-dataframe-column\n",
    "np.random.seed(365)"
   ]
  },
  {
   "cell_type": "code",
   "execution_count": null,
   "id": "e48f080f-5d68-4d39-8b27-e90c34074fb8",
   "metadata": {},
   "outputs": [],
   "source": [
    "fake_columns = [\n",
    "    \"increase_peak_person_throughput\",\n",
    "    \"reduction_in_peak_period_delay\",\n",
    "    \"reduction_in_fatal_and_injury_crashes\",\n",
    "    \"reduction_in_injury_rates\",\n",
    "    \"increase_access_to_jobs\",\n",
    "    \"increase_access_jobs_to_DAC\",\n",
    "    \"commercial_dev_developed\",\n",
    "    \"tons_of_goods_impacted\",\n",
    "    \"improve_air_quality\",\n",
    "    \"impact_natural_resources\",\n",
    "    \"support_of_transportation\",\n",
    "]"
   ]
  },
  {
   "cell_type": "code",
   "execution_count": null,
   "id": "2c0f3925-f69a-455a-825a-4051c0f01782",
   "metadata": {
    "scrolled": true,
    "tags": []
   },
   "outputs": [],
   "source": [
    "# Add fake metric columns: I want a random value between 0 to 50. \n",
    "for i in fake_columns:\n",
    "    df_investment_plan2[i] = np.round(np.random.uniform(0.0, 50.0, size=(len(df_investment_plan2), 1)), 2)"
   ]
  },
  {
   "cell_type": "code",
   "execution_count": null,
   "id": "9f262924-828b-486c-ab07-f0461b28f7fc",
   "metadata": {},
   "outputs": [],
   "source": [
    "# df_investment_plan2.sample(1)"
   ]
  },
  {
   "cell_type": "markdown",
   "id": "72017f1b-4c0c-43d2-a060-0196f6cc792b",
   "metadata": {
    "tags": []
   },
   "source": [
    "#### Create fake benefit score and ranks."
   ]
  },
  {
   "cell_type": "code",
   "execution_count": null,
   "id": "2492d87a-e52d-4bae-ba2a-273abefa214d",
   "metadata": {},
   "outputs": [],
   "source": [
    "# Create the fake benefit score based off of Virginia DOT.\n",
    "df_investment_plan2[\"fake_benefit_score\"] = ((df_investment_plan2[fake_columns].sum(axis=1))/ \n",
    "                                             (df_investment_plan2[\"total_unfunded_need__$1,000_\"]).apply(pd.to_numeric, errors = 'coerce').fillna(0).sum()\n",
    ") * 1000000"
   ]
  },
  {
   "cell_type": "code",
   "execution_count": null,
   "id": "24aa08db-f1fb-4c4a-8508-e5f24665cb04",
   "metadata": {
    "tags": []
   },
   "outputs": [],
   "source": [
    "# Create a fake statewide project rank\n",
    "df_investment_plan2[\"statewide_rank\"] = df_investment_plan2[\"fake_benefit_score\"].rank(\n",
    "    ascending=False\n",
    ")"
   ]
  },
  {
   "cell_type": "code",
   "execution_count": null,
   "id": "5ecd9fa9-caa7-489f-b3f6-d79dfa77f6e5",
   "metadata": {},
   "outputs": [],
   "source": [
    "# Create fake project rank by district\n",
    "df_investment_plan2[\"district_rank\"] = df_investment_plan2.groupby(\"district\")[\n",
    "    \"fake_benefit_score\"\n",
    "].rank(method=\"dense\", ascending=False)"
   ]
  },
  {
   "cell_type": "code",
   "execution_count": null,
   "id": "6eb94702-2c35-40cb-865e-815144a965ba",
   "metadata": {},
   "outputs": [],
   "source": [
    "# Assign percentile of project among all projects in the state. \n",
    "df_investment_plan2 = _utils.project_size_rating(df_investment_plan2, 'statewide_rank', 'fake_benefit_score_statewide_percentile')"
   ]
  },
  {
   "cell_type": "code",
   "execution_count": null,
   "id": "b573cf6a-7494-4fe3-8a1a-5a01aecb0a36",
   "metadata": {
    "scrolled": true,
    "tags": []
   },
   "outputs": [],
   "source": [
    "# Make sure this makes sense\n",
    "# df_investment_plan2[['district_rank','statewide_rank','fake_benefit_score','fake_benefit_score_statewide_percentile']].sort_values('fake_benefit_score', ascending= False)"
   ]
  },
  {
   "cell_type": "markdown",
   "id": "102ae1ee-64f8-47f3-ab78-cfa181993f8e",
   "metadata": {},
   "source": [
    "##### Double test district rank is what I expect"
   ]
  },
  {
   "cell_type": "code",
   "execution_count": null,
   "id": "69a8b1f5-dbc7-469f-904b-9503009e60fa",
   "metadata": {},
   "outputs": [],
   "source": [
    "# D4 only projects\n",
    "len(df_investment_plan2.loc[df_investment_plan2[\"district\"] == 4])"
   ]
  },
  {
   "cell_type": "code",
   "execution_count": null,
   "id": "a1b4a5a7-7571-41f0-b9c3-d4197bcf71f7",
   "metadata": {
    "scrolled": true,
    "tags": []
   },
   "outputs": [],
   "source": [
    "# df_investment_plan2.loc[df_investment_plan2['district'] == 4][['fake_benefit_score','district_rank']].sort_values('district_rank')"
   ]
  },
  {
   "cell_type": "markdown",
   "id": "2e02208b-4c29-4890-afd5-d7ca21e1b86a",
   "metadata": {
    "tags": []
   },
   "source": [
    "#### Add median across districts\n",
    "Suggestion from Nick to add medians across the district. \n",
    "* Project cost\n",
    "* unfunded needs\n",
    "* benefit score"
   ]
  },
  {
   "cell_type": "code",
   "execution_count": null,
   "id": "e17d8e48-58fe-469d-a21c-0c00ca2df5d7",
   "metadata": {
    "scrolled": true,
    "tags": []
   },
   "outputs": [],
   "source": [
    "# Grab medians\n",
    "summary_district_state = (\n",
    "    df_investment_plan2.groupby([\"district\"])\n",
    "    .agg(\n",
    "        {\n",
    "            \"total_project_cost__$1,000_\": \"median\",\n",
    "            \"fake_benefit_score\": \"median\",\n",
    "            \"total_unfunded_need__$1,000_\": \"median\",\n",
    "            \"csis_total_score__out_of_45_\": \"median\",\n",
    "            \"atp_total_score__out_of_100_\": \"median\"\n",
    "        }\n",
    "    )\n",
    "    .reset_index()\n",
    ")"
   ]
  },
  {
   "cell_type": "code",
   "execution_count": null,
   "id": "0916c3bc-ccd6-4fd8-8809-8efb714361c4",
   "metadata": {},
   "outputs": [],
   "source": [
    "# Add suffixes\n",
    "summary_district_state = summary_district_state.add_suffix(\"_district_median_\")"
   ]
  },
  {
   "cell_type": "code",
   "execution_count": null,
   "id": "238504cb-a661-4f30-b075-c2ba62d37cbf",
   "metadata": {},
   "outputs": [],
   "source": [
    "df_investment_plan2 = pd.merge(\n",
    "    df_investment_plan2,\n",
    "    summary_district_state,\n",
    "    left_on=\"district\",\n",
    "    right_on=\"district_district_median_\",\n",
    "    how=\"left\",\n",
    ")"
   ]
  },
  {
   "cell_type": "markdown",
   "id": "9de85d34-0362-4993-981a-5eb0f5a196b2",
   "metadata": {},
   "source": [
    "### Final checks before Saving"
   ]
  },
  {
   "cell_type": "code",
   "execution_count": null,
   "id": "29bc8c57-996b-4209-b059-feea9e778d0c",
   "metadata": {},
   "outputs": [],
   "source": [
    "# Make sure the lengths are correct\n",
    "df_investment_plan2.project_name.nunique(), df_investment_plan2.project_name.nunique(), len(df_investment_plan2)"
   ]
  },
  {
   "cell_type": "code",
   "execution_count": null,
   "id": "86d4884e-a593-4900-ab24-0d83061f1eae",
   "metadata": {},
   "outputs": [],
   "source": [
    "unwanted_cols = [\n",
    "    \"abbrev_\",\n",
    "    \"_merge\",\n",
    "    \"_2023\",\n",
    "    \"_2024\",\n",
    "    \"_2025\",\n",
    "    \"_2026\",\n",
    "    \"_2027\",\n",
    "    \"_2028\",\n",
    "    \"_2029\",\n",
    "    \"_2030\",\n",
    "    \"_2031\",\n",
    "    \"_2032\",\n",
    "    \"_2033\",\n",
    "]"
   ]
  },
  {
   "cell_type": "code",
   "execution_count": null,
   "id": "ad758c6a-6734-4b69-9085-d17d7030b080",
   "metadata": {},
   "outputs": [],
   "source": [
    "df_investment_plan2 = df_investment_plan2.drop(columns=unwanted_cols)"
   ]
  },
  {
   "cell_type": "code",
   "execution_count": null,
   "id": "2cb93d6d-acd1-4349-930a-306155e5a16a",
   "metadata": {},
   "outputs": [],
   "source": [
    "df_investment_plan2 = _utils.clean_up_columns(df_investment_plan2)"
   ]
  },
  {
   "cell_type": "code",
   "execution_count": null,
   "id": "d9563708-f325-44c5-bcc5-71d189079bdd",
   "metadata": {},
   "outputs": [],
   "source": [
    "df_investment_plan2.isnull().sum()"
   ]
  }
 ],
 "metadata": {
  "kernelspec": {
   "display_name": "Python 3 (ipykernel)",
   "language": "python",
   "name": "python3"
  },
  "language_info": {
   "codemirror_mode": {
    "name": "ipython",
    "version": 3
   },
   "file_extension": ".py",
   "mimetype": "text/x-python",
   "name": "python",
   "nbconvert_exporter": "python",
   "pygments_lexer": "ipython3",
   "version": "3.9.13"
  }
 },
 "nbformat": 4,
 "nbformat_minor": 5
}
