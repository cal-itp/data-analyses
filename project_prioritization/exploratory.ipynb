{
 "cells": [
  {
   "cell_type": "markdown",
   "id": "c97654de-9428-4e4b-9ae9-323e8469a52a",
   "metadata": {},
   "source": [
    "# Exploring 10 Year Non Shopp Data\n",
    "* [Using Smart Sheet.](https://app.smartsheet.com/workspaces/8MgpHcXR4GJVM5GvWWMmQg7M8gqhJj88Gfh54Pr1)"
   ]
  },
  {
   "cell_type": "code",
   "execution_count": 1,
   "id": "961bd8c3-fc92-4a72-a106-bb542fdf4e87",
   "metadata": {},
   "outputs": [
    {
     "name": "stderr",
     "output_type": "stream",
     "text": [
      "/opt/conda/lib/python3.10/site-packages/geopandas/_compat.py:112: UserWarning: The Shapely GEOS version (3.10.3-CAPI-1.16.1) is incompatible with the GEOS version PyGEOS was compiled with (3.10.1-CAPI-1.16.0). Conversions between both will be slow.\n"
     ]
    }
   ],
   "source": [
    "import numpy as np\n",
    "import pandas as pd\n",
    "from babel.numbers import format_currency\n",
    "from calitp import *\n",
    "from shared_utils import portfolio_utils"
   ]
  },
  {
   "cell_type": "code",
   "execution_count": 2,
   "id": "9057dd1d-8c22-42bf-a2fd-6cfae1710ee4",
   "metadata": {},
   "outputs": [],
   "source": [
    "pd.options.display.max_columns = 100\n",
    "pd.set_option(\"display.max_rows\", None)\n",
    "pd.set_option(\"display.max_colwidth\", None)"
   ]
  },
  {
   "cell_type": "code",
   "execution_count": 3,
   "id": "f31abc44-d445-44b6-a04b-5d9a3cfb2eab",
   "metadata": {},
   "outputs": [],
   "source": [
    "import _utils"
   ]
  },
  {
   "cell_type": "code",
   "execution_count": 4,
   "id": "ec08614f-a868-48ea-9106-dd02ac2906fd",
   "metadata": {},
   "outputs": [],
   "source": [
    "GCS_FILE_PATH = \"gs://calitp-analytics-data/data-analyses/project_prioritization/\""
   ]
  },
  {
   "cell_type": "markdown",
   "id": "1d42682a-749d-4275-8272-137eab874cfe",
   "metadata": {},
   "source": [
    "## Investment Plan"
   ]
  },
  {
   "cell_type": "code",
   "execution_count": 5,
   "id": "6847a64e-af90-41ef-ba56-096851faa798",
   "metadata": {},
   "outputs": [
    {
     "name": "stderr",
     "output_type": "stream",
     "text": [
      "/opt/conda/lib/python3.10/site-packages/openpyxl/styles/stylesheet.py:226: UserWarning: Workbook contains no default style, apply openpyxl's default\n"
     ]
    }
   ],
   "source": [
    "# Open first sheet.\n",
    "df_investment_plan = to_snakecase(\n",
    "    pd.read_excel(f\"{GCS_FILE_PATH}10 Year Non-SHOPP Investment Plan.xlsx\")\n",
    ")"
   ]
  },
  {
   "cell_type": "markdown",
   "id": "a3921826-0c96-4692-a9e8-756134ca33d1",
   "metadata": {},
   "source": [
    "### Look at null values for each column"
   ]
  },
  {
   "cell_type": "code",
   "execution_count": 6,
   "id": "6555d5cb-5b9a-4437-adf2-6e0bcee03ba5",
   "metadata": {},
   "outputs": [
    {
     "name": "stdout",
     "output_type": "stream",
     "text": [
      "<class 'pandas.core.frame.DataFrame'>\n",
      "RangeIndex: 717 entries, 0 to 716\n",
      "Data columns (total 58 columns):\n",
      " #   Column                                   Non-Null Count  Dtype  \n",
      "---  ------                                   --------------  -----  \n",
      " 0   ppno                                     217 non-null    object \n",
      " 1   ct_project_id                            312 non-null    object \n",
      " 2   district                                 713 non-null    float64\n",
      " 3   county                                   715 non-null    object \n",
      " 4   route                                    713 non-null    object \n",
      " 5   beg_pm                                   330 non-null    object \n",
      " 6   end_pm                                   329 non-null    object \n",
      " 7   urban_rural                              631 non-null    object \n",
      " 8   project_name                             717 non-null    object \n",
      " 9   ea                                       333 non-null    object \n",
      " 10  current_phase                            396 non-null    object \n",
      " 11  project_description                      672 non-null    object \n",
      " 12  priority_project                         126 non-null    float64\n",
      " 13  previous_caltrans_nominations            650 non-null    object \n",
      " 14  primary_mode                             717 non-null    object \n",
      " 15  shs_capacity_increase_detail             282 non-null    object \n",
      " 16  secondary_mode_s_                        251 non-null    object \n",
      " 17  potential_funding_program_s_             564 non-null    object \n",
      " 18  notes                                    469 non-null    object \n",
      " 19  lead_agency                              513 non-null    object \n",
      " 20  district_priority                        1 non-null      float64\n",
      " 21  pid_approval_date                        8 non-null      object \n",
      " 22  target_pa_ed                             35 non-null     object \n",
      " 23  rtl_date                                 147 non-null    object \n",
      " 24  con_start_date                           243 non-null    object \n",
      " 25  funding_need_phase_s_                    15 non-null     object \n",
      " 26  total_project_cost__$1,000_              503 non-null    object \n",
      " 27  pa_ed_cost__$1,000_                      29 non-null     float64\n",
      " 28  ps_e_cost__$1,000_                       25 non-null     float64\n",
      " 29  row_cost__$1,000_                        25 non-null     float64\n",
      " 30  con_cost__$1,000_                        32 non-null     float64\n",
      " 31  non_infrastructure___plan_cost__$1,000_  8 non-null      float64\n",
      " 32  total_unfunded_need__$1,000_             18 non-null     float64\n",
      " 33  previous_funding_request                 147 non-null    object \n",
      " 34  previous_funding_request_phase           48 non-null     object \n",
      " 35  last_scored                              272 non-null    object \n",
      " 36  access_alignment                         176 non-null    object \n",
      " 37  atp_alignment                            10 non-null     object \n",
      " 38  csis_alignment                           80 non-null     object \n",
      " 39  mpdg_alignment                           11 non-null     object \n",
      " 40  raise_alignment                          22 non-null     object \n",
      " 41  rcp_alignment                            16 non-null     object \n",
      " 42  csis_total_score                         74 non-null     float64\n",
      " 43  total_atp_score                          10 non-null     float64\n",
      " 44  rc_total_score                           16 non-null     float64\n",
      " 45  mpdg_total_score                         11 non-null     float64\n",
      " 46  raise_total_score                        22 non-null     float64\n",
      " 47  _2023                                    1 non-null      object \n",
      " 48  _2024                                    1 non-null      object \n",
      " 49  _2025                                    0 non-null      float64\n",
      " 50  _2026                                    1 non-null      object \n",
      " 51  _2027                                    0 non-null      float64\n",
      " 52  _2028                                    0 non-null      float64\n",
      " 53  _2029                                    0 non-null      float64\n",
      " 54  _2030                                    0 non-null      float64\n",
      " 55  _2031                                    0 non-null      float64\n",
      " 56  _2032                                    0 non-null      float64\n",
      " 57  _2033                                    0 non-null      float64\n",
      "dtypes: float64(22), object(36)\n",
      "memory usage: 325.0+ KB\n"
     ]
    }
   ],
   "source": [
    "df_investment_plan.info()"
   ]
  },
  {
   "cell_type": "markdown",
   "id": "007a66e8-9d05-4156-9ecc-6a17d0603ac9",
   "metadata": {},
   "source": [
    "### Some Cleaning"
   ]
  },
  {
   "cell_type": "code",
   "execution_count": null,
   "id": "4b7d4d5e-a9d0-44ed-95b8-95a3cd005de8",
   "metadata": {},
   "outputs": [],
   "source": [
    "# Clean up monetary columns\n",
    "df_investment_plan[\"total_project_cost__$1,000_\"] = df_investment_plan[\n",
    "    \"total_project_cost__$1,000_\"\n",
    "].replace(\n",
    "    {\n",
    "        \"Phase 1 (SR-60 to Mission Blvd) - $174,000\\nPhase 2 (Mission Blvd to I-10) - $170,000\": 344000,\n",
    "        \"$85,738 (Cycle 2)\": 85738,\n",
    "        \"Oxnard to Camarillo 2nd Main Track: $15,000\\nOxnard Station North Platform: $20,000\": 35000,\n",
    "        \"$214,000\\nPhase 1: $82,000\\nPhase 2: $132,000\": 214000,\n",
    "        \"$-\": 0,\n",
    "        \"TBD\": 0,\n",
    "    }\n",
    ")"
   ]
  },
  {
   "cell_type": "code",
   "execution_count": null,
   "id": "81573a9b-5327-4329-8711-729a5bccc00a",
   "metadata": {},
   "outputs": [],
   "source": [
    "# Fill in total project cost with fake number and cast to float64\n",
    "df_investment_plan[\"total_project_cost__$1,000_\"] = (\n",
    "    df_investment_plan[\"total_project_cost__$1,000_\"].astype(\"float64\").fillna(888888.0)\n",
    ")"
   ]
  },
  {
   "cell_type": "code",
   "execution_count": null,
   "id": "25401eb4-7bde-40c6-b7d6-0ad29101642a",
   "metadata": {},
   "outputs": [],
   "source": [
    "# Coerce dates to right format\n",
    "date_cols = [\n",
    "    \"pid_approval_date\",\n",
    "    \"rtl_date\",\n",
    "    \"con_start_date\",\n",
    "]\n",
    "for c in date_cols:\n",
    "    df_investment_plan[c] = df_investment_plan[c].apply(pd.to_datetime, errors=\"coerce\")"
   ]
  },
  {
   "cell_type": "code",
   "execution_count": null,
   "id": "49ef853e-ff0b-4f76-828e-ab2937f8374c",
   "metadata": {},
   "outputs": [],
   "source": [
    "# Fill na based on types\n",
    "df_investment_plan = df_investment_plan.fillna(\n",
    "    df_investment_plan.dtypes.replace({\"float64\": 0.0, \"object\": \"None\"})\n",
    ")"
   ]
  },
  {
   "cell_type": "code",
   "execution_count": null,
   "id": "337544b0-ac42-434d-9ea8-1c39b9ffd492",
   "metadata": {},
   "outputs": [],
   "source": [
    "# Titlecase string columns\n",
    "string_cols = [\n",
    "    \"route\",\n",
    "    \"potential_funding_program_s_\",\n",
    "    \"lead_agency\",\n",
    "    \"primary_mode\",\n",
    "    \"urban_rural\",\n",
    "    \"current_phase\",\n",
    "    \"project_name\",\n",
    "    \"potential_funding_program_s_\",\n",
    "]"
   ]
  },
  {
   "cell_type": "code",
   "execution_count": null,
   "id": "10eee598-5957-4996-9e1d-edb2ad957f62",
   "metadata": {},
   "outputs": [],
   "source": [
    "for c in string_cols:\n",
    "    df_investment_plan[c] = df_investment_plan[c].str.title().str.strip()"
   ]
  },
  {
   "cell_type": "code",
   "execution_count": null,
   "id": "fd93bf79-1134-4800-bb81-a4eeb78dd32c",
   "metadata": {},
   "outputs": [],
   "source": [
    "# Correct some curent phase values that read in weirdly\n",
    "df_investment_plan[\"current_phase\"] = df_investment_plan[\"current_phase\"].replace(\n",
    "    {\n",
    "        \"ps&e\\nr/w\": \"ps&e\",\n",
    "        \"other\\nplan/concept\": \"other\\plan\\concept\",\n",
    "        \"pid\\nplan/concept\": \"pid\\plan\\concept\",\n",
    "        \"ps&e\\nrow\": \"ps&e\\row\",\n",
    "    }\n",
    ")\n",
    "\n",
    "# Upper case phases & counties\n",
    "uppercase_cols = [\"current_phase\", \"county\"]\n",
    "for c in uppercase_cols:\n",
    "    df_investment_plan[c] = df_investment_plan[c].str.upper().str.strip()"
   ]
  },
  {
   "cell_type": "code",
   "execution_count": null,
   "id": "eda335e0-7ac2-4c3d-b67a-68a359f55d8b",
   "metadata": {},
   "outputs": [],
   "source": [
    "# Clean up counties\n",
    "def count_by_commas(df, col_to_count: str, new_col_name:str): \n",
    "    df[new_col_name] = (\n",
    "    df[col_to_count]\n",
    "    .apply(lambda x: len(x.split(\",\")))\n",
    "    .astype(\"int64\")) \n",
    "    return df "
   ]
  },
  {
   "cell_type": "code",
   "execution_count": null,
   "id": "d7c99b17-f684-43ba-a53e-3be866cf7087",
   "metadata": {},
   "outputs": [],
   "source": [
    "# Count number of counties this project crosses\n",
    "df_investment_plan = count_by_commas(df_investment_plan, 'county','number_of_counties')"
   ]
  },
  {
   "cell_type": "code",
   "execution_count": null,
   "id": "38cc32eb-86df-42ea-bd0c-e20864810acf",
   "metadata": {},
   "outputs": [],
   "source": [
    "# New column that summarizes whether a project is in one or more counties\n",
    "def various_counties(row):\n",
    "    if row[\"number_of_counties\"] == 1:\n",
    "        return \"One County\"\n",
    "    else:\n",
    "        return \"Multiple Counties\""
   ]
  },
  {
   "cell_type": "code",
   "execution_count": null,
   "id": "4d4b6fb8-3e60-46be-94e3-c24378e446ed",
   "metadata": {},
   "outputs": [],
   "source": [
    "df_investment_plan['various_or_single_county'] = df_investment_plan.apply(lambda x: various_counties(x), axis=1)"
   ]
  },
  {
   "cell_type": "code",
   "execution_count": null,
   "id": "13fb1b1b-2ede-4402-8368-9e8f9cc83db1",
   "metadata": {},
   "outputs": [],
   "source": [
    "df_investment_plan.head(1)"
   ]
  },
  {
   "cell_type": "markdown",
   "id": "48d660ae-6408-4803-a283-16c4f8c06521",
   "metadata": {
    "tags": []
   },
   "source": [
    "### Duplicated PPNO?"
   ]
  },
  {
   "cell_type": "code",
   "execution_count": null,
   "id": "8b092fc6-457e-4cda-b9fe-c47852c54a72",
   "metadata": {},
   "outputs": [],
   "source": [
    "# Check that each row represents a different project\n",
    "# PPNO and Project ID have a lot less unique value b/c 70% and 56% of each col are not filled in\n",
    "for i in [\"ppno\", \"ct_project_id\", \"project_name\"]:\n",
    "    print(f\"{i} : {df_investment_plan[i].nunique()}\")"
   ]
  },
  {
   "cell_type": "code",
   "execution_count": null,
   "id": "be2a2837-d30a-43cb-86e7-b37b3d0a458d",
   "metadata": {},
   "outputs": [],
   "source": [
    "# One project is included twice\n",
    "df_investment_plan[\"project_name\"].value_counts().head()"
   ]
  },
  {
   "cell_type": "code",
   "execution_count": null,
   "id": "84f52222-6fd0-4fb5-9169-d5e2fc5a75f6",
   "metadata": {
    "scrolled": true,
    "tags": []
   },
   "outputs": [],
   "source": [
    "# Check and make sure there aren't duplicate PPNO-Project Name combos\n",
    "duplicate_ppno = (\n",
    "    df_investment_plan[~df_investment_plan[\"ppno\"].isin([0, \"None\"])]\n",
    "    .groupby(\"ppno\")\n",
    "    .agg({\"project_name\": \"count\"})\n",
    "    .sort_values(\"project_name\")\n",
    "    .reset_index()\n",
    ")"
   ]
  },
  {
   "cell_type": "code",
   "execution_count": null,
   "id": "3b0568a2-a2c1-4338-8871-daff1c6ee7d0",
   "metadata": {},
   "outputs": [],
   "source": [
    "# Filter out for ppno with more than 2 project names.\n",
    "# Save those projects into a list\n",
    "duplicate_ppno = duplicate_ppno[duplicate_ppno[\"project_name\"] > 1]"
   ]
  },
  {
   "cell_type": "code",
   "execution_count": null,
   "id": "8b3e96ab-afc5-4e61-bb77-7921cea45151",
   "metadata": {},
   "outputs": [],
   "source": [
    "duplicate_ppno_list = duplicate_ppno[\"ppno\"].to_list()"
   ]
  },
  {
   "cell_type": "code",
   "execution_count": null,
   "id": "5a136870-aac2-45d4-a5dd-0fee8637afb9",
   "metadata": {
    "tags": []
   },
   "outputs": [],
   "source": [
    "# Check out these rows in our df\n",
    "# are these duplicates?\n",
    "len(df_investment_plan[df_investment_plan[\"ppno\"].isin(duplicate_ppno_list)])"
   ]
  },
  {
   "cell_type": "code",
   "execution_count": null,
   "id": "acb4c8e3-9d2d-4339-a92a-fea03c8b1fdd",
   "metadata": {
    "scrolled": true,
    "tags": []
   },
   "outputs": [],
   "source": [
    "duplicate_projects_df = df_investment_plan[\n",
    "    df_investment_plan[\"ppno\"].isin(duplicate_ppno_list)\n",
    "]"
   ]
  },
  {
   "cell_type": "code",
   "execution_count": null,
   "id": "8ba62f22-f419-4ee0-a573-2a215a0a1aa2",
   "metadata": {
    "scrolled": true,
    "tags": []
   },
   "outputs": [],
   "source": [
    "duplicate_projects_df[\n",
    "    [\"ppno\", \"project_name\", \"current_phase\", \"ea\", \"project_description\"]\n",
    "]"
   ]
  },
  {
   "cell_type": "markdown",
   "id": "f6716d25-4b8e-4995-bcac-fede8750e069",
   "metadata": {},
   "source": [
    "### Add Fake Values"
   ]
  },
  {
   "cell_type": "code",
   "execution_count": null,
   "id": "309d8429-4692-46e6-a690-0b1b927f338b",
   "metadata": {
    "scrolled": true,
    "tags": []
   },
   "outputs": [],
   "source": [
    "# Subset\n",
    "df_investment_plan2 = df_investment_plan[\n",
    "    [\n",
    "        \"ppno\",\n",
    "        \"county\",\n",
    "        \"various_or_single_county\",\n",
    "        \"ct_project_id\",\n",
    "        \"district\",\n",
    "        \"route\",\n",
    "        \"urban_rural\",\n",
    "        \"project_name\",\n",
    "        \"current_phase\",\n",
    "        \"project_description\",\n",
    "        \"priority_project\",\n",
    "        \"previous_caltrans_nominations\",\n",
    "        \"primary_mode\",\n",
    "        \"lead_agency\",\n",
    "        \"pid_approval_date\",\n",
    "        \"target_pa_ed\",\n",
    "        \"rtl_date\",\n",
    "        \"con_start_date\",\n",
    "        \"funding_need_phase_s_\",\n",
    "        \"total_project_cost__$1,000_\",\n",
    "        \"potential_funding_program_s_\",\n",
    "    ]\n",
    "]"
   ]
  },
  {
   "cell_type": "code",
   "execution_count": null,
   "id": "c2d352aa-86dd-4db8-b70f-9d9c7c03a3ea",
   "metadata": {},
   "outputs": [],
   "source": [
    "# https://stackoverflow.com/questions/64093880/how-to-create-random-floats-and-add-them-as-a-dataframe-column\n",
    "np.random.seed(365)"
   ]
  },
  {
   "cell_type": "code",
   "execution_count": null,
   "id": "e48f080f-5d68-4d39-8b27-e90c34074fb8",
   "metadata": {},
   "outputs": [],
   "source": [
    "# Fake columns\n",
    "fake_columns = [\n",
    "    \"increase_peak_person_throughput\",\n",
    "    \"reduction_in_peak_period_delay\",\n",
    "    \"reduction_in_fatal_and_injury_crashes\",\n",
    "    \"reduction_in_injury_rates\",\n",
    "    \"increase_access_to_jobs\",\n",
    "    \"increase_access_jobs_to_DAC\",\n",
    "    \"commercial_dev_developed\",\n",
    "    \"tons_of_goods_impacted\",\n",
    "    \"improve_air_quality\",\n",
    "    \"impact_natural_resources\",\n",
    "    \"support_of_trasnportation\",\n",
    "]"
   ]
  },
  {
   "cell_type": "code",
   "execution_count": null,
   "id": "2c0f3925-f69a-455a-825a-4051c0f01782",
   "metadata": {
    "scrolled": true,
    "tags": []
   },
   "outputs": [],
   "source": [
    "# Add fake metric columns\n",
    "for i in fake_columns:\n",
    "    df_investment_plan2[i] = np.round(\n",
    "        np.random.uniform(0.0, 50.0, size=(len(df_investment_plan), 1)), 2\n",
    "    )"
   ]
  },
  {
   "cell_type": "code",
   "execution_count": null,
   "id": "c7922310-054e-4557-90bf-837933398c2f",
   "metadata": {},
   "outputs": [],
   "source": [
    "# Create a column for fake funds requested - there only seems to be a total project cost col?\n",
    "df_investment_plan2[\"current_fake_fund_requested\"] = np.round(\n",
    "    np.random.uniform(100000, 500000.0, size=(len(df_investment_plan), 1)), 2\n",
    ")"
   ]
  },
  {
   "cell_type": "code",
   "execution_count": null,
   "id": "2492d87a-e52d-4bae-ba2a-273abefa214d",
   "metadata": {},
   "outputs": [],
   "source": [
    "# Create a fake benefit score\n",
    "df_investment_plan2[\"fake_benefit_score\"] = (\n",
    "    (df_investment_plan2[fake_columns].sum(axis=1))\n",
    "    / (df_investment_plan2[\"current_fake_fund_requested\"])\n",
    ") * 10000"
   ]
  },
  {
   "cell_type": "code",
   "execution_count": null,
   "id": "24aa08db-f1fb-4c4a-8508-e5f24665cb04",
   "metadata": {
    "tags": []
   },
   "outputs": [],
   "source": [
    "# Create a fake statewide project rank\n",
    "df_investment_plan2[\"statewide_rank\"] = df_investment_plan2[\"fake_benefit_score\"].rank(\n",
    "    ascending=False\n",
    ")"
   ]
  },
  {
   "cell_type": "code",
   "execution_count": null,
   "id": "6f1ba7d2-9343-4947-a378-0557976c6b9b",
   "metadata": {},
   "outputs": [],
   "source": [
    "# Create a fake district project rank\n",
    "df_investment_plan2[\"district_rank\"] = df_investment_plan2.groupby(\"district\")[\n",
    "    \"fake_benefit_score\"\n",
    "].rank(ascending=False)"
   ]
  },
  {
   "cell_type": "code",
   "execution_count": null,
   "id": "528b821f-8387-4a96-9010-217d81ac20c3",
   "metadata": {},
   "outputs": [],
   "source": [
    "# Add agency names\n",
    "agency_names = portfolio_utils.add_agency_name()"
   ]
  },
  {
   "cell_type": "code",
   "execution_count": null,
   "id": "66216c20-2655-437c-9229-02daa0d6a7f5",
   "metadata": {},
   "outputs": [],
   "source": [
    "df_investment_plan2 = pd.merge(\n",
    "    df_investment_plan2,\n",
    "    agency_names,\n",
    "    left_on=\"lead_agency\",\n",
    "    right_on=\"calitp_agency_name\",\n",
    "    how=\"left\",\n",
    ")"
   ]
  },
  {
   "cell_type": "code",
   "execution_count": null,
   "id": "7e33099b-de86-439e-b699-c986dd77fc63",
   "metadata": {},
   "outputs": [],
   "source": [
    "df_investment_plan2[\"district\"] = df_investment_plan2[\"district\"].astype(\"int64\")"
   ]
  },
  {
   "cell_type": "code",
   "execution_count": null,
   "id": "7afa3cb9-fbb8-4b39-af8d-fe5e3001f78d",
   "metadata": {},
   "outputs": [],
   "source": [
    "# Add official Caltrans District names\n",
    "district_dictionary = {\n",
    "    7: \"07 - Los Angeles\",\n",
    "    4: \"04 - Oakland\",\n",
    "    2: \"02 - Redding\",\n",
    "    9: \"09 - Bishop\",\n",
    "    10: \"10 - Stockton\",\n",
    "    11: \"11 - San Diego\",\n",
    "    3: \"03 - Marysville\",\n",
    "    12: \"12 - Irvine\",\n",
    "    8: \"08 - San Bernardino\",\n",
    "    5: \"05 - San Luis Obispo\",\n",
    "    6: \"06 - Fresno\",\n",
    "    1: \"01 - Eureka\",\n",
    "    75: \"75 - Rail\",\n",
    "    74: \"74 - HQ\",\n",
    "    0: \"None\",\n",
    "}"
   ]
  },
  {
   "cell_type": "code",
   "execution_count": null,
   "id": "7812bf76-50c4-461a-bab7-1b1f27867ef0",
   "metadata": {},
   "outputs": [],
   "source": [
    "df_investment_plan2[\"district_full_name\"] = df_investment_plan2[\"district\"].replace(\n",
    "    district_dictionary\n",
    ")"
   ]
  },
  {
   "cell_type": "code",
   "execution_count": null,
   "id": "b7df603c-a761-4912-9793-81375513cc19",
   "metadata": {},
   "outputs": [],
   "source": [
    "# Map full county names\n",
    "df_county = to_snakecase(\n",
    "    pd.read_excel(f\"{GCS_FILE_PATH}full_counties.xlsx\")\n",
    ")\n",
    "\n",
    "# Del district from county\n",
    "df_county = (df_county.drop(columns = ['district'])\n",
    "             .rename(columns = {'county':'full_county_name'})\n",
    "            )"
   ]
  },
  {
   "cell_type": "code",
   "execution_count": null,
   "id": "430eb682-958c-48bd-b560-8ed7680d33c2",
   "metadata": {},
   "outputs": [],
   "source": [
    "df_investment_plan2 = pd.merge(\n",
    "    df_investment_plan2,\n",
    "    df_county,\n",
    "    left_on=\"county\",\n",
    "    right_on=\"abbrev_\",\n",
    "    how=\"left\",\n",
    ")"
   ]
  },
  {
   "cell_type": "code",
   "execution_count": null,
   "id": "bbe94eca-2f2a-479a-be4a-e37afb6a0138",
   "metadata": {
    "scrolled": true,
    "tags": []
   },
   "outputs": [],
   "source": [
    "df_investment_plan2['full_county_name'].unique().tolist()"
   ]
  },
  {
   "cell_type": "code",
   "execution_count": null,
   "id": "a3e60806-a07b-4477-9533-90bbfb1d5a9d",
   "metadata": {
    "scrolled": true,
    "tags": []
   },
   "outputs": [],
   "source": [
    "# df_investment_plan2.to_excel(f\"{GCS_FILE_PATH}fake_data.xlsx\", sheet_name='fake', index= False)"
   ]
  }
 ],
 "metadata": {
  "kernelspec": {
   "display_name": "Python 3 (ipykernel)",
   "language": "python",
   "name": "python3"
  },
  "language_info": {
   "codemirror_mode": {
    "name": "ipython",
    "version": 3
   },
   "file_extension": ".py",
   "mimetype": "text/x-python",
   "name": "python",
   "nbconvert_exporter": "python",
   "pygments_lexer": "ipython3",
   "version": "3.10.5"
  }
 },
 "nbformat": 4,
 "nbformat_minor": 5
}
