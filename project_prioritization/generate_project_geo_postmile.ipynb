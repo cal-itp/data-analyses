{
 "cells": [
  {
   "cell_type": "code",
   "execution_count": null,
   "id": "fd422911-5739-4dfd-90f5-6f61437501ae",
   "metadata": {},
   "outputs": [],
   "source": [
    "import os\n",
    "os.environ[\"CALITP_BQ_MAX_BYTES\"] = str(1_000_000_000_000) ## 1TB?\n",
    "\n",
    "import _utils # amanda's collected utils\n",
    "\n",
    "import pandas as pd\n",
    "import geopandas as gpd\n",
    "from siuba import *\n",
    "\n",
    "import shared_utils\n",
    "import datetime as dt\n",
    "\n",
    "import gcsfs\n",
    "\n",
    "from calitp.storage import get_fs\n",
    "fs = get_fs()\n",
    "\n",
    "GCS_FILE_PATH = \"gs://calitp-analytics-data/data-analyses/project_prioritization/\""
   ]
  },
  {
   "cell_type": "markdown",
   "id": "cc3efc34-3f6b-45a1-8712-64c7d5266aea",
   "metadata": {},
   "source": [
    "# Get Project Geographies from Postmile Information\n",
    "testing function to generate project locations from PM\n",
    "References:\n",
    "* [Lines from Points](https://stackoverflow.com/questions/51071365/convert-points-to-lines-geopandas)\n",
    "* [Postmiles from esri Server to GCS](https://github.com/cal-itp/data-analyses/blob/main/facilities_services/A6_arcgis_download_postmiles.py)"
   ]
  },
  {
   "cell_type": "code",
   "execution_count": null,
   "id": "99052b27-fbea-45f5-8838-c5a8c05223e4",
   "metadata": {},
   "outputs": [],
   "source": []
  }
 ],
 "metadata": {
  "kernelspec": {
   "display_name": "Python 3 (ipykernel)",
   "language": "python",
   "name": "python3"
  },
  "language_info": {
   "codemirror_mode": {
    "name": "ipython",
    "version": 3
   },
   "file_extension": ".py",
   "mimetype": "text/x-python",
   "name": "python",
   "nbconvert_exporter": "python",
   "pygments_lexer": "ipython3",
   "version": "3.9.13"
  }
 },
 "nbformat": 4,
 "nbformat_minor": 5
}
