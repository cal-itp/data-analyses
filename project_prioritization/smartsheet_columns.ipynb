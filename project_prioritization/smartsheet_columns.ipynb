{
 "cells": [
  {
   "cell_type": "markdown",
   "id": "479513af-2c0c-4348-8d15-05626d702edd",
   "metadata": {},
   "source": [
    "## Looking at SmartSheet Columns versus QRMS Premade Reports"
   ]
  },
  {
   "cell_type": "code",
   "execution_count": 1,
   "id": "0bb80667-78d0-4bae-b58f-4afe581d0f82",
   "metadata": {},
   "outputs": [
    {
     "name": "stderr",
     "output_type": "stream",
     "text": [
      "/opt/conda/lib/python3.9/site-packages/geopandas/_compat.py:123: UserWarning: The Shapely GEOS version (3.10.3-CAPI-1.16.1) is incompatible with the GEOS version PyGEOS was compiled with (3.10.1-CAPI-1.16.0). Conversions between both will be slow.\n",
      "  warnings.warn(\n",
      "/opt/conda/lib/python3.9/site-packages/fuzzywuzzy/fuzz.py:11: UserWarning: Using slow pure-python SequenceMatcher. Install python-Levenshtein to remove this warning\n"
     ]
    }
   ],
   "source": [
    "import _utils\n",
    "import _string_utils\n",
    "import geopandas as gpd\n",
    "import numpy as np\n",
    "import pandas as pd\n",
    "from calitp.sql import to_snakecase"
   ]
  },
  {
   "cell_type": "code",
   "execution_count": 2,
   "id": "b90ab20b-a4a2-4698-8999-dc992c8d9744",
   "metadata": {},
   "outputs": [],
   "source": [
    "pd.options.display.max_columns = 200\n",
    "pd.set_option(\"display.max_rows\", None)\n",
    "pd.set_option(\"display.max_colwidth\", None)"
   ]
  },
  {
   "cell_type": "code",
   "execution_count": 3,
   "id": "80921b9c-8ab3-4106-b0d0-8142664d8fce",
   "metadata": {},
   "outputs": [],
   "source": [
    "import fuzzywuzzy\n",
    "from fuzzywuzzy import process"
   ]
  },
  {
   "cell_type": "code",
   "execution_count": 4,
   "id": "deb4d7e3-98ea-4bcf-853c-779951c9d119",
   "metadata": {},
   "outputs": [],
   "source": [
    "gcs_path = f\"{_utils.GCS_FILE_PATH}smartsheet_columns/\""
   ]
  },
  {
   "cell_type": "markdown",
   "id": "a6a7f914-1a94-45df-829e-5f158f986b2c",
   "metadata": {},
   "source": [
    "### Looking at SmartSheet Columns\n",
    "* Manually cleaned up Excel sheet to retain only columns drawn from CTIPS/PRSM "
   ]
  },
  {
   "cell_type": "code",
   "execution_count": 5,
   "id": "30bd3485-fc15-48fd-8947-82b78b16b194",
   "metadata": {},
   "outputs": [],
   "source": [
    "smartsheet_cols = to_snakecase(pd.read_excel(f\"{gcs_path}Smartsheet Columns.xlsx\"))"
   ]
  },
  {
   "cell_type": "code",
   "execution_count": 6,
   "id": "ae65530a-31f3-4854-bc2b-2ca7d67d1380",
   "metadata": {},
   "outputs": [],
   "source": [
    "# Replace checkmarks with yes and no\n",
    "smartsheet_cols = smartsheet_cols.replace({'ü':'yes'}).fillna('no')"
   ]
  },
  {
   "cell_type": "code",
   "execution_count": 7,
   "id": "34e372bb-ee97-44cf-a628-fb4947d1939e",
   "metadata": {},
   "outputs": [],
   "source": [
    "# Turn column titles to snakecase\n",
    "smartsheet_cols.column_name = smartsheet_cols.column_name.str.lower().str.replace(\" \",\"_\")"
   ]
  },
  {
   "cell_type": "code",
   "execution_count": 8,
   "id": "3cfe699c-a585-4078-8816-f8861762fde4",
   "metadata": {},
   "outputs": [],
   "source": [
    "# Place names into a list\n",
    "smartsheet_cols_list = smartsheet_cols.column_name.sort_values().unique().tolist()"
   ]
  },
  {
   "cell_type": "code",
   "execution_count": 9,
   "id": "ccdeee69-d300-49eb-9ff1-699bf78dac1d",
   "metadata": {},
   "outputs": [
    {
     "data": {
      "text/plain": [
       "27"
      ]
     },
     "execution_count": 9,
     "metadata": {},
     "output_type": "execute_result"
    }
   ],
   "source": [
    "len(smartsheet_cols_list)"
   ]
  },
  {
   "cell_type": "code",
   "execution_count": 10,
   "id": "dbe8a839-b7b8-45ce-a039-a3fb816643a9",
   "metadata": {},
   "outputs": [],
   "source": [
    "# Read in the full df with data, to compare columns\n",
    "nonshopp_full_df = to_snakecase(\n",
    "    pd.read_excel(f\"{_utils.GCS_FILE_PATH}cleaned_data_atp_tircp.xlsx\")\n",
    ")"
   ]
  },
  {
   "cell_type": "code",
   "execution_count": 11,
   "id": "a468b246-9b99-4fba-97e5-9ba51cf16794",
   "metadata": {
    "scrolled": true,
    "tags": []
   },
   "outputs": [],
   "source": [
    "# nonshopp_full_df.sample().T.reset_index().sort_values('index')"
   ]
  },
  {
   "cell_type": "code",
   "execution_count": 12,
   "id": "11d10505-0461-4b9f-8d0c-158726680671",
   "metadata": {},
   "outputs": [
    {
     "data": {
      "text/plain": [
       "['beg_pm_(pm_back)',\n",
       " 'caltrans_(ct)_project_id',\n",
       " 'con_capital_cost_($1,000)',\n",
       " 'con_existing_source_of_funding',\n",
       " 'con_start_date_(m500)',\n",
       " 'con_support_cost_($1,000)',\n",
       " 'county',\n",
       " 'current_phase',\n",
       " 'district',\n",
       " 'end_pm',\n",
       " 'expenditure_authorization_(ea)',\n",
       " 'funding_need_phase',\n",
       " 'pa&ed_cost_($1,000)',\n",
       " 'parcel_counts',\n",
       " 'pid_approval_date_(m010)',\n",
       " 'project_description',\n",
       " 'project_name',\n",
       " 'project_planning_number_(ppno)',\n",
       " 'ps&e_cost_($1,000)',\n",
       " 'purpose_&_need',\n",
       " 'route',\n",
       " 'row_cost_($1,000)',\n",
       " 'rtl_date_(m460)',\n",
       " 'target_opening_year',\n",
       " 'target_pa&ed_(m200)',\n",
       " 'total_project_cost_($1,000)',\n",
       " 'total_unfunded_need_($1,000)']"
      ]
     },
     "execution_count": 12,
     "metadata": {},
     "output_type": "execute_result"
    }
   ],
   "source": [
    "smartsheet_cols_list"
   ]
  },
  {
   "cell_type": "markdown",
   "id": "a70c736a-acad-4570-a0d0-a812d3456ba2",
   "metadata": {},
   "source": [
    "#### Columns from Capital Improvement Project Report\n",
    "* https://qmrs.dot.ca.gov/qmrs/f?p=CIPOUTNEW:HOME\n",
    "* Per John, this report has all the current PRSM milestone information and programmed CTIPS funding.\n",
    "* No additional information in the \"about\" page. \n",
    "* Maybe around 14 columns in here that match Smartsheet?\n",
    "* QMRS tutorial: https://pdelearning.ctpass.dot.ca.gov/mod/scorm/view.php?id=1503"
   ]
  },
  {
   "cell_type": "code",
   "execution_count": 13,
   "id": "f4603cbe-4adf-4e41-a09c-3a8ff723b536",
   "metadata": {},
   "outputs": [
    {
     "name": "stderr",
     "output_type": "stream",
     "text": [
      "/opt/conda/lib/python3.9/site-packages/openpyxl/styles/stylesheet.py:226: UserWarning: Workbook contains no default style, apply openpyxl's default\n"
     ]
    }
   ],
   "source": [
    "prsm_ctips = to_snakecase(pd.read_excel(f\"{gcs_path}Capital Improvement Project Report.xlsx\"))"
   ]
  },
  {
   "cell_type": "markdown",
   "id": "8ce9b12c-f992-4ee1-bced-ee28218703d8",
   "metadata": {},
   "source": [
    "<b>Manual Check</b>\n",
    "* Left `smartsheet`. Right: `prsm_ctips`\n",
    "\n",
    "<b> Somewhat sure</b>\n",
    "1. 'caltrans_(ct)_project_id': 'project_id'\n",
    "2. 'total_project_cost_($1,000)': 'total_capital_estimate'\n",
    "3. 'project_planning_number_(ppno)': ctips_ppno\n",
    "4. 'con_capital_cost_($1,000)': 'total_capital_estimate\t' \n",
    "5. 'con_capital_cost_($1,000)': 'total_con_capital_est'\n",
    "\n",
    "<b>Unsure</b>\n",
    "1. 'beg_pm'= bpm ???\n",
    "2. 'rtl_date__m460': 'rtl_finish_date'\n",
    "3. 'target_pa&ed_(m200)': 'target_pa_ed__m200'\n",
    "4. 'current_phase':'project_status'\n",
    "5.  'rtl_date_(m460)': 'rtl_finish_date' "
   ]
  },
  {
   "cell_type": "code",
   "execution_count": 14,
   "id": "9a835b2a-cb6a-415a-a89c-86c52ae52887",
   "metadata": {
    "scrolled": true,
    "tags": []
   },
   "outputs": [],
   "source": [
    "# prsm_ctips.sample().T.reset_index().sort_values('index')"
   ]
  },
  {
   "cell_type": "code",
   "execution_count": 15,
   "id": "afe5ef3d-2f0e-4b2a-9dad-b02f16fb19d9",
   "metadata": {},
   "outputs": [],
   "source": [
    "prsm_ctips_cols = list(prsm_ctips.columns.sort_values())"
   ]
  },
  {
   "cell_type": "code",
   "execution_count": 16,
   "id": "f779efa4-1add-4b2a-8b30-e2eda813ff7f",
   "metadata": {},
   "outputs": [
    {
     "data": {
      "text/plain": [
       "165"
      ]
     },
     "execution_count": 16,
     "metadata": {},
     "output_type": "execute_result"
    }
   ],
   "source": [
    "len(prsm_ctips_cols)"
   ]
  },
  {
   "cell_type": "code",
   "execution_count": 17,
   "id": "bd056eb3-8b16-4639-8bd8-834b6cabe993",
   "metadata": {},
   "outputs": [
    {
     "name": "stdout",
     "output_type": "stream",
     "text": [
      "{'county', 'route', 'district'}\n"
     ]
    }
   ],
   "source": [
    "# Only 3 columns overlap for sure\n",
    "print(set(smartsheet_cols_list).intersection(set(prsm_ctips_cols)))"
   ]
  },
  {
   "cell_type": "code",
   "execution_count": 18,
   "id": "9481e231-be34-4e58-8eda-7c28ee61a1c4",
   "metadata": {},
   "outputs": [],
   "source": [
    "# Use fuzzy wuzzy to check out any columns\n",
    "for i in prsm_ctips_cols:\n",
    "    _string_utils.replace_matches_set_ratio(\n",
    "        smartsheet_cols, \"column_name\", \"prsm_ctips_1\", i, 70\n",
    " )"
   ]
  },
  {
   "cell_type": "code",
   "execution_count": 19,
   "id": "f7c87d22-5cbe-4ec7-8c9e-ea63c4377505",
   "metadata": {},
   "outputs": [
    {
     "data": {
      "text/plain": [
       "6"
      ]
     },
     "execution_count": 19,
     "metadata": {},
     "output_type": "execute_result"
    }
   ],
   "source": [
    "len(smartsheet_cols[smartsheet_cols.prsm_ctips_1.notnull()])"
   ]
  },
  {
   "cell_type": "code",
   "execution_count": 20,
   "id": "bee8b0d5-cbac-4e2d-8c36-cc0ad28bb3b3",
   "metadata": {},
   "outputs": [
    {
     "data": {
      "text/html": [
       "<div>\n",
       "<style scoped>\n",
       "    .dataframe tbody tr th:only-of-type {\n",
       "        vertical-align: middle;\n",
       "    }\n",
       "\n",
       "    .dataframe tbody tr th {\n",
       "        vertical-align: top;\n",
       "    }\n",
       "\n",
       "    .dataframe thead th {\n",
       "        text-align: right;\n",
       "    }\n",
       "</style>\n",
       "<table border=\"1\" class=\"dataframe\">\n",
       "  <thead>\n",
       "    <tr style=\"text-align: right;\">\n",
       "      <th></th>\n",
       "      <th>column_name</th>\n",
       "      <th>description_notes</th>\n",
       "      <th>ctips</th>\n",
       "      <th>prsm</th>\n",
       "      <th>prsm_ctips_1</th>\n",
       "    </tr>\n",
       "  </thead>\n",
       "  <tbody>\n",
       "    <tr>\n",
       "      <th>1</th>\n",
       "      <td>expenditure_authorization_(ea)</td>\n",
       "      <td>Unique 5-digit number assigned by Caltrans.</td>\n",
       "      <td>yes</td>\n",
       "      <td>yes</td>\n",
       "      <td>ea</td>\n",
       "    </tr>\n",
       "    <tr>\n",
       "      <th>3</th>\n",
       "      <td>project_name</td>\n",
       "      <td>In CTIPS: “Project Title”</td>\n",
       "      <td>yes</td>\n",
       "      <td>yes</td>\n",
       "      <td>project_nickname</td>\n",
       "    </tr>\n",
       "    <tr>\n",
       "      <th>4</th>\n",
       "      <td>district</td>\n",
       "      <td>Caltrans HQ DOTP is District 74. DRMT is District 75</td>\n",
       "      <td>yes</td>\n",
       "      <td>yes</td>\n",
       "      <td>district</td>\n",
       "    </tr>\n",
       "    <tr>\n",
       "      <th>5</th>\n",
       "      <td>county</td>\n",
       "      <td>Multiple counties = “VAR” in CTIPS</td>\n",
       "      <td>yes</td>\n",
       "      <td>yes</td>\n",
       "      <td>county</td>\n",
       "    </tr>\n",
       "    <tr>\n",
       "      <th>6</th>\n",
       "      <td>route</td>\n",
       "      <td>CTIPS is blank for rail projects; OSIP uses “OFF”</td>\n",
       "      <td>yes</td>\n",
       "      <td>yes</td>\n",
       "      <td>route</td>\n",
       "    </tr>\n",
       "    <tr>\n",
       "      <th>7</th>\n",
       "      <td>project_description</td>\n",
       "      <td>CTIPS: “Description”. Note: CTIPS description often does not match the project description provided in the intake forms.</td>\n",
       "      <td>yes</td>\n",
       "      <td>yes</td>\n",
       "      <td>work_description</td>\n",
       "    </tr>\n",
       "  </tbody>\n",
       "</table>\n",
       "</div>"
      ],
      "text/plain": [
       "                      column_name  \\\n",
       "1  expenditure_authorization_(ea)   \n",
       "3                    project_name   \n",
       "4                        district   \n",
       "5                          county   \n",
       "6                           route   \n",
       "7             project_description   \n",
       "\n",
       "                                                                                                          description_notes  \\\n",
       "1                                                                              Unique 5-digit number assigned by Caltrans.    \n",
       "3                                                                                                 In CTIPS: “Project Title”   \n",
       "4                                                                      Caltrans HQ DOTP is District 74. DRMT is District 75   \n",
       "5                                                                                        Multiple counties = “VAR” in CTIPS   \n",
       "6                                                                         CTIPS is blank for rail projects; OSIP uses “OFF”   \n",
       "7  CTIPS: “Description”. Note: CTIPS description often does not match the project description provided in the intake forms.   \n",
       "\n",
       "  ctips prsm      prsm_ctips_1  \n",
       "1   yes  yes                ea  \n",
       "3   yes  yes  project_nickname  \n",
       "4   yes  yes          district  \n",
       "5   yes  yes            county  \n",
       "6   yes  yes             route  \n",
       "7   yes  yes  work_description  "
      ]
     },
     "execution_count": 20,
     "metadata": {},
     "output_type": "execute_result"
    }
   ],
   "source": [
    "smartsheet_cols[smartsheet_cols.prsm_ctips_1.notnull()]"
   ]
  },
  {
   "cell_type": "markdown",
   "id": "f9068995-c3d7-43f1-b0bf-e412584e6bcd",
   "metadata": {},
   "source": [
    "### Statewide Delivery Plan\n",
    "* Only SHOPP project"
   ]
  },
  {
   "cell_type": "code",
   "execution_count": 21,
   "id": "1b5e2222-a7cf-48cf-921b-9d40c85ee8ea",
   "metadata": {},
   "outputs": [
    {
     "name": "stderr",
     "output_type": "stream",
     "text": [
      "/opt/conda/lib/python3.9/site-packages/openpyxl/styles/stylesheet.py:226: UserWarning: Workbook contains no default style, apply openpyxl's default\n"
     ]
    }
   ],
   "source": [
    "sw_delivery_plans = to_snakecase(pd.read_excel(f\"{gcs_path}Statewide Delivery Plan.xlsx\"))"
   ]
  },
  {
   "cell_type": "code",
   "execution_count": 22,
   "id": "146f739c-5bb0-4d19-83b8-e03cffdac67c",
   "metadata": {},
   "outputs": [
    {
     "data": {
      "text/plain": [
       "SHOPP    200\n",
       "STIP      12\n",
       "Name: document, dtype: int64"
      ]
     },
     "execution_count": 22,
     "metadata": {},
     "output_type": "execute_result"
    }
   ],
   "source": [
    "sw_delivery_plans.document.value_counts()"
   ]
  }
 ],
 "metadata": {
  "kernelspec": {
   "display_name": "Python 3 (ipykernel)",
   "language": "python",
   "name": "python3"
  },
  "language_info": {
   "codemirror_mode": {
    "name": "ipython",
    "version": 3
   },
   "file_extension": ".py",
   "mimetype": "text/x-python",
   "name": "python",
   "nbconvert_exporter": "python",
   "pygments_lexer": "ipython3",
   "version": "3.9.13"
  }
 },
 "nbformat": 4,
 "nbformat_minor": 5
}
