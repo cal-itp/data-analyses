{
 "cells": [
  {
   "cell_type": "code",
   "execution_count": 1,
   "id": "578c5d76-857d-4428-b428-108e88503f00",
   "metadata": {},
   "outputs": [
    {
     "name": "stderr",
     "output_type": "stream",
     "text": [
      "/opt/conda/lib/python3.10/site-packages/geopandas/_compat.py:123: UserWarning: The Shapely GEOS version (3.10.3-CAPI-1.16.1) is incompatible with the GEOS version PyGEOS was compiled with (3.10.1-CAPI-1.16.0). Conversions between both will be slow.\n",
      "  warnings.warn(\n"
     ]
    }
   ],
   "source": [
    "# Display\n",
    "import pandas as pd\n",
    "import geopandas as gpd\n",
    "# Settings\n",
    "pd.options.display.max_columns = 100\n",
    "pd.set_option(\"display.max_rows\", None)\n",
    "pd.set_option(\"display.max_colwidth\", None)\n",
    "pd.options.display.float_format = \"{:,.2f}\".format\n",
    "\n",
    "# GCS, del later since this will presumbly be read from a script that cleans up the data\n",
    "# GCS_FILE_PATH = \"gs://calitp-analytics-data/data-analyses/project_prioritization/\"\n",
    "FILE = \"fake_data.xlsx\"\n",
    "\n",
    "# My utilities\n",
    "import _utils"
   ]
  },
  {
   "cell_type": "code",
   "execution_count": 2,
   "id": "c585cffe-2a32-490d-a6be-ba52eaf22f7a",
   "metadata": {},
   "outputs": [],
   "source": [
    "df_statewide = pd.read_excel(f\"{_utils.GCS_FILE_PATH}{FILE}\", sheet_name=\"fake\")"
   ]
  },
  {
   "cell_type": "code",
   "execution_count": 3,
   "id": "83e726b0-ad0c-48dc-81ea-43f66de4754b",
   "metadata": {},
   "outputs": [],
   "source": [
    "# Count of projects by district - for mapping\n",
    "districts_gdf = _utils.summarize_by_project_names(df_statewide, \"District\")"
   ]
  },
  {
   "cell_type": "code",
   "execution_count": 4,
   "id": "3ab8ccab-149f-46fc-a9fa-c8ff279eb3d7",
   "metadata": {},
   "outputs": [],
   "source": [
    "# Add official Caltrans District names\n",
    "district_dictionary = {\n",
    "    7: \"07 - Los Angeles\",\n",
    "    4: \"04 - Oakland\",\n",
    "    2: \"02 - Redding\",\n",
    "    9: \"09 - Bishop\",\n",
    "    10: \"10 - Stockton\",\n",
    "    11: \"11 - San Diego\",\n",
    "    3: \"03 - Marysville\",\n",
    "    12: \"12 - Irvine\",\n",
    "    8: \"08 - San Bernardino\",\n",
    "    5: \"05 - San Luis Obispo\",\n",
    "    6: \"06 - Fresno\",\n",
    "    1: \"01 - Eureka\",\n",
    "    75: \"75 - HQ\",\n",
    "    74: \"74 - HQ\",\n",
    "    0: \"None\",\n",
    "}"
   ]
  },
  {
   "cell_type": "code",
   "execution_count": 5,
   "id": "f5612d13-8d59-4a87-a89b-04ca47d5fe6a",
   "metadata": {},
   "outputs": [],
   "source": [
    "# Reverse a dictionary\n",
    "# https://stackoverflow.com/questions/483666/reverse-invert-a-dictionary-mapping\n",
    "inv_district_map = {v: k for k, v in district_dictionary.items()}"
   ]
  },
  {
   "cell_type": "code",
   "execution_count": 6,
   "id": "f38ec40c-4db7-4833-a0d9-cb0ab698a7e5",
   "metadata": {},
   "outputs": [],
   "source": [
    "# Remap districts to just the number\n",
    "# 1st create duplicate column\n",
    "districts_gdf['district_number'] = districts_gdf['District']"
   ]
  },
  {
   "cell_type": "code",
   "execution_count": 7,
   "id": "fec6e60e-c1c8-4697-a584-2cee5015ee09",
   "metadata": {},
   "outputs": [],
   "source": [
    "# Map the inverse\n",
    "districts_gdf['district_number'] = districts_gdf['district_number'].replace(\n",
    "    inv_district_map\n",
    ")"
   ]
  },
  {
   "cell_type": "code",
   "execution_count": 8,
   "id": "d2b6ddf1-3afb-4420-81d9-27f92a04d9bd",
   "metadata": {},
   "outputs": [],
   "source": [
    "# Join gdf above with Caltrans shape\n",
    "districts_gdf = _utils.create_caltrans_map(districts_gdf)"
   ]
  },
  {
   "cell_type": "code",
   "execution_count": 9,
   "id": "bfc4b5a6-d09a-4c2e-aa53-f4f3cc25bd20",
   "metadata": {},
   "outputs": [],
   "source": [
    "# Drop cols\n",
    "districts_gdf = districts_gdf.drop(columns = ['DISTRICT','OBJECTID','Region', 'district_number'])"
   ]
  },
  {
   "cell_type": "code",
   "execution_count": 11,
   "id": "89a11b5d-06b7-4a1c-ba42-e72d55231137",
   "metadata": {},
   "outputs": [],
   "source": [
    "_utils.geojson_gcs_export(\n",
    "    districts_gdf,\n",
    "    _utils.GCS_FILE_PATH,\n",
    "    \"districts\",\n",
    ")"
   ]
  }
 ],
 "metadata": {
  "kernelspec": {
   "display_name": "Python 3 (ipykernel)",
   "language": "python",
   "name": "python3"
  },
  "language_info": {
   "codemirror_mode": {
    "name": "ipython",
    "version": 3
   },
   "file_extension": ".py",
   "mimetype": "text/x-python",
   "name": "python",
   "nbconvert_exporter": "python",
   "pygments_lexer": "ipython3",
   "version": "3.10.6"
  }
 },
 "nbformat": 4,
 "nbformat_minor": 5
}
