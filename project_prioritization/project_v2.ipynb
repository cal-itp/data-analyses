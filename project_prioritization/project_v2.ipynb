{
 "cells": [
  {
   "cell_type": "code",
   "execution_count": 1,
   "id": "c4bd2ea1-3302-4a06-a9b4-97aebc89d416",
   "metadata": {},
   "outputs": [],
   "source": [
    "%%capture\n",
    "\n",
    "# Turn off warnings\n",
    "# import warnings\n",
    "# warnings.filterwarnings(\"ignore\")\n",
    "\n",
    "# Normal packages\n",
    "import geopandas as gpd\n",
    "import ipywidgets as widgets\n",
    "import numpy as np\n",
    "import pandas as pd\n",
    "\n",
    "# Format\n",
    "from babel.numbers import format_currency\n",
    "\n",
    "# Display\n",
    "from IPython.display import HTML, Image, Markdown, display, display_html\n",
    "from ipywidgets import AppLayout, Layout, interact\n",
    "from shared_utils import portfolio_utils\n",
    "\n",
    "# Settings\n",
    "pd.options.display.max_columns = 100\n",
    "pd.set_option(\"display.max_rows\", None)\n",
    "pd.set_option(\"display.max_colwidth\", None)\n",
    "pd.options.display.float_format = \"{:,.2f}\".format\n",
    "\n",
    "# GCS, del later since this will presumbly be read from a script that cleans up the data\n",
    "GCS_FILE_PATH = \"gs://calitp-analytics-data/data-analyses/project_prioritization/\"\n",
    "FILE = \"fake_data.xlsx\"\n",
    "\n",
    "# My utilities\n",
    "import _utils"
   ]
  },
  {
   "cell_type": "code",
   "execution_count": 2,
   "id": "9cfa384b-4337-4df9-8660-5e7ea39468fc",
   "metadata": {},
   "outputs": [],
   "source": [
    "# DEL LATER\n",
    "import altair as alt\n",
    "import matplotlib.pyplot as plt\n",
    "from shared_utils import altair_utils\n",
    "from shared_utils import calitp_color_palette as cp\n",
    "from shared_utils import styleguide"
   ]
  },
  {
   "cell_type": "code",
   "execution_count": 3,
   "id": "f52a8a04-8176-4fe2-8cd4-bf41d5d7e640",
   "metadata": {},
   "outputs": [],
   "source": [
    "# Read in file\n",
    "df_statewide = pd.read_excel(f\"{GCS_FILE_PATH}{FILE}\", sheet_name=\"fake\")"
   ]
  },
  {
   "cell_type": "markdown",
   "id": "c648936a-1130-45d9-8b22-cd608d6a4534",
   "metadata": {},
   "source": [
    "### CSIS Dataframe."
   ]
  },
  {
   "cell_type": "code",
   "execution_count": 4,
   "id": "9983f674-85f4-4aeb-a537-ac3865e85855",
   "metadata": {
    "scrolled": true,
    "tags": []
   },
   "outputs": [],
   "source": [
    "csis = df_statewide[\n",
    "    [\n",
    "        \"project_name\",\n",
    "        \"project_description\",\n",
    "        \"mode_shift__csis_\",\n",
    "        \"vmt__csis_\",\n",
    "        \"dac_local_community_needs__csis_\",\n",
    "        \"public_engagement__csis_\",\n",
    "        \"safety__csis_\",\n",
    "        \"zev__csis_\",\n",
    "        \"climate_resiliency__csis_\",\n",
    "        \"natural_resources_and_ecosystems__csis_\",\n",
    "        \"infill_development_and_land_use__csis_\",\n",
    "    ]\n",
    "]"
   ]
  },
  {
   "cell_type": "code",
   "execution_count": 5,
   "id": "05b6bab3-7b85-4d5c-8900-f79daac760ad",
   "metadata": {
    "scrolled": true,
    "tags": []
   },
   "outputs": [],
   "source": [
    "csis = pd.melt(\n",
    "    csis,\n",
    "    id_vars=[\"project_name\", \"project_description\"],\n",
    "    value_vars=[\n",
    "        \"mode_shift__csis_\",\n",
    "        \"vmt__csis_\",\n",
    "        \"dac_local_community_needs__csis_\",\n",
    "        \"public_engagement__csis_\",\n",
    "        \"safety__csis_\",\n",
    "        \"zev__csis_\",\n",
    "        \"climate_resiliency__csis_\",\n",
    "        \"natural_resources_and_ecosystems__csis_\",\n",
    "        \"infill_development_and_land_use__csis_\",\n",
    "    ],\n",
    ")"
   ]
  },
  {
   "cell_type": "code",
   "execution_count": 6,
   "id": "0aca99b5-935f-42db-93c8-ecda895dbc15",
   "metadata": {
    "scrolled": true,
    "tags": []
   },
   "outputs": [],
   "source": [
    "# Remove underscores off of old column names\n",
    "csis[\"variable\"] = csis[\"variable\"].str.replace(\"_\", \" \").str.strip().str.title()\n",
    "csis = csis.rename(columns={\"variable\": \"csis\", \"value\": \"csis values\"})"
   ]
  },
  {
   "cell_type": "markdown",
   "id": "00b1a8c9-b4b5-483a-b3a3-6d583de170e9",
   "metadata": {},
   "source": [
    "### Fake Benefit Dataframe."
   ]
  },
  {
   "cell_type": "code",
   "execution_count": 7,
   "id": "872eea2c-f46b-4358-93a1-8757e21fa5d7",
   "metadata": {},
   "outputs": [],
   "source": [
    "benefit = df_statewide[\n",
    "    [\n",
    "        \"project_name\",\n",
    "        \"increase_peak_person_throughput\",\n",
    "        \"reduction_in_peak_period_delay\",\n",
    "        \"reduction_in_fatal_and_injury_crashes\",\n",
    "        \"reduction_in_injury_rates\",\n",
    "        \"increase_access_to_jobs\",\n",
    "        \"increase_access_jobs_to_DAC\",\n",
    "        \"commercial_dev_developed\",\n",
    "        \"tons_of_goods_impacted\",\n",
    "        \"improve_air_quality\",\n",
    "        \"impact_natural_resources\",\n",
    "        \"support_of_trasnportation\",\n",
    "    ]\n",
    "]"
   ]
  },
  {
   "cell_type": "code",
   "execution_count": 8,
   "id": "b66e7dd5-f1da-4dea-8612-2dcccf90cc2d",
   "metadata": {},
   "outputs": [],
   "source": [
    "benefit = pd.melt(\n",
    "    benefit,\n",
    "    id_vars=[\"project_name\"],\n",
    "    value_vars=[\n",
    "        \"increase_peak_person_throughput\",\n",
    "        \"reduction_in_peak_period_delay\",\n",
    "        \"reduction_in_fatal_and_injury_crashes\",\n",
    "        \"reduction_in_injury_rates\",\n",
    "        \"increase_access_to_jobs\",\n",
    "        \"increase_access_jobs_to_DAC\",\n",
    "        \"commercial_dev_developed\",\n",
    "        \"tons_of_goods_impacted\",\n",
    "        \"improve_air_quality\",\n",
    "        \"impact_natural_resources\",\n",
    "        \"support_of_trasnportation\",\n",
    "    ],\n",
    ")"
   ]
  },
  {
   "cell_type": "code",
   "execution_count": 9,
   "id": "41337ee7-b03b-4bf0-b6c0-c8bb875f353c",
   "metadata": {},
   "outputs": [],
   "source": [
    "benefit[\"variable\"] = benefit[\"variable\"].str.replace(\"_\", \" \").str.strip().str.title()"
   ]
  },
  {
   "cell_type": "code",
   "execution_count": 10,
   "id": "5417e360-8830-4a21-a439-0203158172df",
   "metadata": {},
   "outputs": [],
   "source": [
    "benefit = benefit.rename(columns={\"variable\": \"Benefit\", \"value\": \"Benefit Values\"})"
   ]
  },
  {
   "cell_type": "markdown",
   "id": "9c2685fc-e376-4055-b88c-328a5822115b",
   "metadata": {},
   "source": [
    "### Monetary Dataframe."
   ]
  },
  {
   "cell_type": "code",
   "execution_count": 11,
   "id": "54806547-08ed-4f07-97db-bcb8a964e3a5",
   "metadata": {},
   "outputs": [],
   "source": [
    "monetary_cols = [\n",
    "    \"project_name\",\n",
    "    \"total_project_cost__$1,000_\",\n",
    "    \"pa_ed_cost__$1,000_\",\n",
    "    \"ps_e_cost__$1,000_\",\n",
    "    \"row_cost__$1,000_\",\n",
    "    \"con_cost__$1,000_\",\n",
    "    \"non_infrastructure___plan_cost__$1,000_\",\n",
    "    \"total_unfunded_need__$1,000_\",\n",
    "]"
   ]
  },
  {
   "cell_type": "code",
   "execution_count": 12,
   "id": "d4414063-a326-46a6-880a-f11457fa429c",
   "metadata": {},
   "outputs": [],
   "source": [
    "monetary = df_statewide[monetary_cols]"
   ]
  },
  {
   "cell_type": "code",
   "execution_count": 13,
   "id": "a23c09c7-e119-4fcc-8238-267ba07e70e2",
   "metadata": {},
   "outputs": [],
   "source": [
    "monetary = pd.melt(\n",
    "    monetary,\n",
    "    id_vars=[\"project_name\"],\n",
    "    value_vars=[\n",
    "        \"total_project_cost__$1,000_\",\n",
    "        \"pa_ed_cost__$1,000_\",\n",
    "        \"ps_e_cost__$1,000_\",\n",
    "        \"row_cost__$1,000_\",\n",
    "        \"con_cost__$1,000_\",\n",
    "        \"non_infrastructure___plan_cost__$1,000_\",\n",
    "        \"total_unfunded_need__$1,000_\",\n",
    "    ],\n",
    ")"
   ]
  },
  {
   "cell_type": "code",
   "execution_count": 14,
   "id": "bab6239f-5606-4958-990b-8514d5b3a743",
   "metadata": {},
   "outputs": [],
   "source": [
    "monetary[\"variable\"] = (\n",
    "    monetary[\"variable\"].str.replace(\"_\", \" \").str.strip().str.title()\n",
    ")"
   ]
  },
  {
   "cell_type": "code",
   "execution_count": 15,
   "id": "a9c631a8-b90f-4425-837c-8100e01e4527",
   "metadata": {},
   "outputs": [],
   "source": [
    "monetary = monetary.rename(\n",
    "    columns={\"variable\": \"Monetary Category\", \"value\": \"Monetary Values\"}\n",
    ")"
   ]
  },
  {
   "cell_type": "code",
   "execution_count": 16,
   "id": "1cf0374c-39ac-4d44-a9fd-ab2f3439a020",
   "metadata": {},
   "outputs": [],
   "source": [
    "monetary[\"Monetary Values $\"] = monetary[\"Monetary Values\"].apply(\n",
    "    lambda x: format_currency(x, currency=\"USD\", locale=\"en_US\")\n",
    ")"
   ]
  },
  {
   "cell_type": "markdown",
   "id": "b6ca1af5-875f-47c7-ba1f-34bb7441edf9",
   "metadata": {},
   "source": [
    "### Text table"
   ]
  },
  {
   "cell_type": "code",
   "execution_count": 17,
   "id": "36d0040e-38fc-4196-947e-3b0e6b270460",
   "metadata": {},
   "outputs": [],
   "source": [
    "text_cols = [\n",
    "    \"project_name\",\n",
    "    \"full_county_name\",\n",
    "    \"lead_agency\",\n",
    "    \"district_full_name\",\n",
    "    \"primary_mode\",\n",
    "    \"secondary_mode_s_\",\n",
    "    \"urban_rural\",\n",
    "    \"current_phase\",\n",
    "    \"urban_rural\", \n",
    "    \"route\",\n",
    "]"
   ]
  },
  {
   "cell_type": "code",
   "execution_count": 18,
   "id": "ff449524-f44e-4112-81c8-4c32287c6691",
   "metadata": {},
   "outputs": [],
   "source": [
    "text_table = df_statewide[text_cols]"
   ]
  },
  {
   "cell_type": "code",
   "execution_count": 19,
   "id": "ffc610e1-f28c-4b41-8a83-81af67244ebd",
   "metadata": {},
   "outputs": [],
   "source": [
    "text_table2 = pd.melt(\n",
    "    text_table,\n",
    "    id_vars=[\"project_name\"],\n",
    "    value_vars=[\n",
    "        \"full_county_name\",\n",
    "        \"lead_agency\",\n",
    "        \"district_full_name\",\n",
    "        \"primary_mode\",\n",
    "        \"secondary_mode_s_\",\n",
    "        \"urban_rural\",\n",
    "        \"current_phase\",\n",
    "        \"urban_rural\",\n",
    "        \"route\",\n",
    "    ],\n",
    ")"
   ]
  },
  {
   "cell_type": "code",
   "execution_count": 20,
   "id": "d2d53a7e-5cf5-484b-89d1-a62bebe4dfe3",
   "metadata": {},
   "outputs": [],
   "source": [
    "text_table2[\"variable\"] = (\n",
    "    text_table2[\"variable\"].str.replace(\"_\", \" \").str.strip().str.title()\n",
    ")"
   ]
  },
  {
   "cell_type": "code",
   "execution_count": 21,
   "id": "95f4ff50-334a-49c1-b648-933576792718",
   "metadata": {},
   "outputs": [],
   "source": [
    "text_table2 = text_table2.rename(\n",
    "    columns={\"variable\": \"Basics\", \"value\": \"Basic Values\"}\n",
    ")"
   ]
  },
  {
   "cell_type": "code",
   "execution_count": 22,
   "id": "f5d49e5c-8099-419f-8191-aa35ca63a30a",
   "metadata": {},
   "outputs": [],
   "source": [
    "text_table2[\"Full Information\"] = (\n",
    "    text_table2[\"Basics\"].astype(\"str\")\n",
    "    + \": \"\n",
    "    + text_table2[\"Basic Values\"].astype(\"str\")\n",
    ")"
   ]
  },
  {
   "cell_type": "code",
   "execution_count": 23,
   "id": "2ee6fb44-5e7d-4058-be8a-56a07ec7701d",
   "metadata": {},
   "outputs": [],
   "source": [
    "text_table2['Zero'] = 0"
   ]
  },
  {
   "cell_type": "markdown",
   "id": "4ce5474e-5cf7-43d7-81bb-95f053b0af38",
   "metadata": {},
   "source": [
    "### Ipywidgets \n",
    "\n",
    "* [Styling a widget](https://ipywidgets.readthedocs.io/en/latest/examples/Widget%20Styling.html#Description)\n",
    "* [Altair and Widgets](https://medium.com/@chekos/altair-and-ipywidgets-a-simple-example-f61269c72c02)"
   ]
  },
  {
   "cell_type": "code",
   "execution_count": 26,
   "id": "2d1cda59-1f14-4f14-adce-408e083af2aa",
   "metadata": {},
   "outputs": [],
   "source": [
    "my_list_of_projects = df_statewide.project_name.sort_values().unique().tolist()"
   ]
  },
  {
   "cell_type": "code",
   "execution_count": 27,
   "id": "6a0d2fb7-2998-4914-8abc-15fffbe0e83b",
   "metadata": {},
   "outputs": [],
   "source": [
    "test_widget = widgets.Dropdown(\n",
    "    options=my_list_of_projects,\n",
    "    value=\"Napa Valley Forward Sr 29 Up Valley Roundabout Project\",\n",
    "    description=\"Project:\",\n",
    "    disabled=False,\n",
    "    style={\"description_width\": \"initial\"},\n",
    ")"
   ]
  },
  {
   "cell_type": "code",
   "execution_count": 36,
   "id": "d07065e3-a97d-4e9b-adee-74026b3a7d3c",
   "metadata": {},
   "outputs": [],
   "source": [
    "def all_charts(value):\n",
    "    csis_chart = (\n",
    "        alt.Chart(csis[csis[\"project_name\"] == value])\n",
    "        .mark_bar()\n",
    "        .encode(\n",
    "            x=alt.X(\n",
    "                \"csis values:Q\",\n",
    "                axis=None,\n",
    "            ),\n",
    "            y=alt.Y(\"csis:N\", axis=alt.Axis(title=\"CSIS Category\"), sort=(\"-x\")),\n",
    "            color=alt.Color(\n",
    "                \"csis\", scale=alt.Scale(range=cp.CALITP_DIVERGING_COLORS), legend=None\n",
    "            ),\n",
    "            tooltip=[\"csis values\", \"csis\"],\n",
    "        )\n",
    "        .properties(title=f\"CSIS\")\n",
    "    )\n",
    "\n",
    "    benefit_chart = (\n",
    "        alt.Chart(benefit[benefit[\"project_name\"] == value])\n",
    "        .mark_bar()\n",
    "        .encode(\n",
    "            x=alt.X(\n",
    "                \"Benefit Values:Q\",\n",
    "                axis=None,\n",
    "            ),\n",
    "            y=alt.Y(\"Benefit:N\", axis=alt.Axis(title=\"Benefit Category\"), sort=(\"-x\")),\n",
    "            color=alt.Color(\n",
    "                \"Benefit\",\n",
    "                scale=alt.Scale(range=cp.CALITP_DIVERGING_COLORS),\n",
    "                legend=None,\n",
    "            ),\n",
    "            tooltip=[\"Benefit\", \"Benefit Values\"],\n",
    "        )\n",
    "        .properties(title=\"Benefits Information\")\n",
    "    )\n",
    "\n",
    "    monetary_chart = (\n",
    "        alt.Chart(monetary[monetary[\"project_name\"] == value])\n",
    "        .mark_bar()\n",
    "        .encode(\n",
    "            x=alt.X(\n",
    "                \"Monetary Values:Q\",\n",
    "                axis=None,\n",
    "            ),\n",
    "            y=alt.Y(\n",
    "                \"Monetary Category:N\",\n",
    "                axis=alt.Axis(title=\"Monetary Category\"),\n",
    "                sort=(\"-x\"),\n",
    "            ),\n",
    "            color=alt.Color(\n",
    "                \"Monetary Category\",\n",
    "                scale=alt.Scale(range=cp.CALITP_DIVERGING_COLORS),\n",
    "                legend=None,\n",
    "            ),\n",
    "            tooltip=[\"Monetary Category\", \"Monetary Values $\"],\n",
    "        )\n",
    "        .properties(title=\"Monetary Information\")\n",
    "    )\n",
    "    \n",
    "    basic_chart = (\n",
    "        alt.Chart(text_table2[text_table2[\"project_name\"] == value])\n",
    "            .mark_circle()\n",
    "            .encode(x=alt.X(\"Zero:Q\", axis=None), y=alt.Y(\"Full Information:N\", axis=None))\n",
    "            .properties(title=f\"Overview of {value}\"))\n",
    "    \n",
    "    basic_chart_text = (basic_chart.mark_text(\n",
    "        align=\"center\",\n",
    "        baseline=\"middle\",\n",
    "        dx=3)\n",
    "        .encode(text=\"Full Information:N\")\n",
    "           )\n",
    "    \n",
    "    \n",
    "    csis_chart = _utils.preset_chart_config(csis_chart)\n",
    "    benefit_chart = _utils.preset_chart_config(benefit_chart)\n",
    "    monetary_chart = _utils.preset_chart_config(monetary_chart)\n",
    "    basic_chart_text = _utils.preset_chart_config(basic_chart_text)\n",
    "    \n",
    "    charts =  alt.vconcat(basic_chart_text, monetary_chart,benefit_chart,csis_chart)\n",
    "    return charts"
   ]
  },
  {
   "cell_type": "code",
   "execution_count": 37,
   "id": "e28ac0e0-ba1f-41e7-a4bb-79564d0ac064",
   "metadata": {},
   "outputs": [
    {
     "data": {
      "application/vnd.jupyter.widget-view+json": {
       "model_id": "0713028292604fe4be2695f165f878e7",
       "version_major": 2,
       "version_minor": 0
      },
      "text/plain": [
       "interactive(children=(Dropdown(description='Project:', index=230, options=('#Raisefontana', '180 West Extensio…"
      ]
     },
     "metadata": {},
     "output_type": "display_data"
    },
    {
     "data": {
      "text/plain": [
       "<function __main__.all_charts(value)>"
      ]
     },
     "execution_count": 37,
     "metadata": {},
     "output_type": "execute_result"
    }
   ],
   "source": [
    "interact(all_charts, value=test_widget)"
   ]
  }
 ],
 "metadata": {
  "kernelspec": {
   "display_name": "Python 3 (ipykernel)",
   "language": "python",
   "name": "python3"
  },
  "language_info": {
   "codemirror_mode": {
    "name": "ipython",
    "version": 3
   },
   "file_extension": ".py",
   "mimetype": "text/x-python",
   "name": "python",
   "nbconvert_exporter": "python",
   "pygments_lexer": "ipython3",
   "version": "3.10.6"
  }
 },
 "nbformat": 4,
 "nbformat_minor": 5
}
