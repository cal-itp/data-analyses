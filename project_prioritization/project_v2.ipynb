{
 "cells": [
  {
   "cell_type": "code",
   "execution_count": 121,
   "id": "c4bd2ea1-3302-4a06-a9b4-97aebc89d416",
   "metadata": {},
   "outputs": [],
   "source": [
    "%%capture\n",
    "\n",
    "# Turn off warnings\n",
    "import warnings\n",
    "\n",
    "warnings.filterwarnings(\"ignore\")\n",
    "\n",
    "import functools\n",
    "\n",
    "# Normal packages\n",
    "import geopandas as gpd\n",
    "import ipywidgets as widgets\n",
    "import numpy as np\n",
    "import pandas as pd\n",
    "\n",
    "# Format\n",
    "from babel.numbers import format_currency\n",
    "\n",
    "# Display\n",
    "from IPython.display import HTML, Image, Markdown, display, display_html\n",
    "from ipywidgets import AppLayout, Layout\n",
    "from ipywidgets import interact\n",
    "\n",
    "# Settings\n",
    "pd.options.display.max_columns = 100\n",
    "pd.set_option(\"display.max_rows\", None)\n",
    "pd.set_option(\"display.max_colwidth\", None)\n",
    "pd.options.display.float_format = \"{:,.2f}\".format\n",
    "\n",
    "# GCS, del later since this will presumbly be read from a script that cleans up the data\n",
    "GCS_FILE_PATH = \"gs://calitp-analytics-data/data-analyses/project_prioritization/\"\n",
    "FILE = \"fake_data.xlsx\"\n",
    "\n",
    "# My utilities\n",
    "import _utils"
   ]
  },
  {
   "cell_type": "code",
   "execution_count": 122,
   "id": "9cfa384b-4337-4df9-8660-5e7ea39468fc",
   "metadata": {},
   "outputs": [],
   "source": [
    "# DEL LATER\n",
    "import altair as alt\n",
    "import panel as pn\n",
    "from shared_utils import altair_utils\n",
    "from shared_utils import calitp_color_palette as cp"
   ]
  },
  {
   "cell_type": "code",
   "execution_count": 123,
   "id": "f52a8a04-8176-4fe2-8cd4-bf41d5d7e640",
   "metadata": {},
   "outputs": [],
   "source": [
    "# Read in file\n",
    "df_statewide = pd.read_excel(f\"{GCS_FILE_PATH}{FILE}\", sheet_name=\"fake\")"
   ]
  },
  {
   "cell_type": "markdown",
   "id": "c648936a-1130-45d9-8b22-cd608d6a4534",
   "metadata": {},
   "source": [
    "#### Manipulation"
   ]
  },
  {
   "cell_type": "code",
   "execution_count": 124,
   "id": "9983f674-85f4-4aeb-a537-ac3865e85855",
   "metadata": {
    "scrolled": true,
    "tags": []
   },
   "outputs": [],
   "source": [
    "csis = df_statewide[\n",
    "    [  \"project_name\",\n",
    "     \"project_description\",\n",
    "        \"mode_shift__csis_\",\n",
    "        \"vmt__csis_\",\n",
    "        \"dac_local_community_needs__csis_\",\n",
    "        \"public_engagement__csis_\",\n",
    "        \"safety__csis_\",\n",
    "        \"zev__csis_\",\n",
    "        \"climate_resiliency__csis_\",\n",
    "        \"natural_resources_and_ecosystems__csis_\",\n",
    "        \"infill_development_and_land_use__csis_\",\n",
    "  \n",
    "    ]\n",
    "]"
   ]
  },
  {
   "cell_type": "code",
   "execution_count": 125,
   "id": "05b6bab3-7b85-4d5c-8900-f79daac760ad",
   "metadata": {
    "scrolled": true,
    "tags": []
   },
   "outputs": [],
   "source": [
    "csis = pd.melt(\n",
    "    csis,\n",
    "    id_vars=[\n",
    "        \"project_name\",\n",
    "        \"project_description\"\n",
    "    ],\n",
    "    value_vars=[\n",
    "        \"mode_shift__csis_\",\n",
    "        \"vmt__csis_\",\n",
    "        \"dac_local_community_needs__csis_\",\n",
    "        \"public_engagement__csis_\",\n",
    "        \"safety__csis_\",\n",
    "        \"zev__csis_\",\n",
    "        \"climate_resiliency__csis_\",\n",
    "        \"natural_resources_and_ecosystems__csis_\",\n",
    "        \"infill_development_and_land_use__csis_\",\n",
    "   \n",
    "    ],\n",
    ")"
   ]
  },
  {
   "cell_type": "code",
   "execution_count": 126,
   "id": "0aca99b5-935f-42db-93c8-ecda895dbc15",
   "metadata": {
    "scrolled": true,
    "tags": []
   },
   "outputs": [],
   "source": [
    "# Remove underscores off of old column names\n",
    "csis[\"variable\"] = csis[\"variable\"].str.replace(\"_\", \" \").str.strip().str.title()\n",
    "csis = csis.rename(columns={\"variable\": \"csis\", \"value\": \"csis values\"})"
   ]
  },
  {
   "cell_type": "code",
   "execution_count": 127,
   "id": "3c69bae4-376d-42f9-be4b-902e7f38d93e",
   "metadata": {
    "scrolled": true,
    "tags": []
   },
   "outputs": [],
   "source": [
    "# Second subset\n",
    "csis_2 = df_statewide[\n",
    "    [\n",
    "        \"total_project_cost__$1,000_\",\n",
    "        \"pa_ed_cost__$1,000_\",\n",
    "        \"ps_e_cost__$1,000_\",\n",
    "        \"row_cost__$1,000_\",\n",
    "        \"con_cost__$1,000_\",\n",
    "        \"non_infrastructure___plan_cost__$1,000_\",\n",
    "        \"total_unfunded_need__$1,000_\",\n",
    "        \"project_name\",\n",
    "        \"project_description\",\n",
    "    ]\n",
    "]"
   ]
  },
  {
   "cell_type": "code",
   "execution_count": 128,
   "id": "efb896ae-de36-4433-ac7f-55a7c569504f",
   "metadata": {
    "scrolled": true,
    "tags": []
   },
   "outputs": [],
   "source": [
    "# Melt\n",
    "csis_2 = pd.melt(\n",
    "    csis_2,\n",
    "    id_vars=[\n",
    "        \"project_name\",\n",
    "        \"project_description\",\n",
    "    ],\n",
    "    value_vars=[\n",
    "        \"total_project_cost__$1,000_\",\n",
    "        \"pa_ed_cost__$1,000_\",\n",
    "        \"ps_e_cost__$1,000_\",\n",
    "        \"row_cost__$1,000_\",\n",
    "        \"con_cost__$1,000_\",\n",
    "        \"non_infrastructure___plan_cost__$1,000_\",\n",
    "        \"total_unfunded_need__$1,000_\",\n",
    "    ],\n",
    ")"
   ]
  },
  {
   "cell_type": "code",
   "execution_count": 129,
   "id": "224df81c-32ce-42e7-afcb-7cd82d7cf820",
   "metadata": {
    "scrolled": true,
    "tags": []
   },
   "outputs": [],
   "source": [
    "# Change names\n",
    "csis_2 = csis_2.rename(columns={\"variable\": \"monetary\", \"value\": \"monetary values\"})\n",
    "csis_2[\"monetary\"] = csis_2[\"monetary\"].str.replace(\"_\", \"  \").str.title()"
   ]
  },
  {
   "cell_type": "code",
   "execution_count": 130,
   "id": "a0c8f243-8176-4a91-8ab5-1b2f33c50b7a",
   "metadata": {
    "scrolled": true,
    "tags": []
   },
   "outputs": [],
   "source": [
    "# Final Merge\n",
    "final = pd.merge(csis, csis_2, how=\"inner\", on=[\"project_name\", \"project_description\"])"
   ]
  },
  {
   "cell_type": "markdown",
   "id": "4ce5474e-5cf7-43d7-81bb-95f053b0af38",
   "metadata": {},
   "source": [
    "### Ipywidgets "
   ]
  },
  {
   "cell_type": "code",
   "execution_count": 131,
   "id": "2d1cda59-1f14-4f14-adce-408e083af2aa",
   "metadata": {},
   "outputs": [],
   "source": [
    "my_list_of_projects = df_statewide.project_name.sort_values().unique().tolist()"
   ]
  },
  {
   "cell_type": "code",
   "execution_count": 132,
   "id": "7c2cf6f2-fef5-49c6-a30b-88d5c45ceb0c",
   "metadata": {},
   "outputs": [],
   "source": [
    "subset = df_statewide[['project_name','full_county_name','district_full_name',  'project_description','total_project_cost__$1,000_', 'total_unfunded_need__$1,000_', \n",
    "                       'csis_total_score__out_of_45_',]]"
   ]
  },
  {
   "cell_type": "code",
   "execution_count": 133,
   "id": "457b49f3-7270-4679-9bca-ce05627b17df",
   "metadata": {},
   "outputs": [],
   "source": [
    "def styled_df(df):\n",
    "    display(\n",
    "    HTML(\n",
    "        \"<div style='height: 500px; overflow: auto; width: 800px'>\"\n",
    "        + (\n",
    "            (df)\n",
    "            .style.set_properties(**{\"background-color\": \"white\", \"font-size\": \"10pt\",})\n",
    "            .set_table_styles([dict(selector=\"th\", props=[(\"text-align\", \"center\")])])\n",
    "            .set_properties(**{\"text-align\": \"center\"})\n",
    "            .hide(axis=\"index\")\n",
    "            .render()\n",
    "        )\n",
    "        + \"</div>\"\n",
    "    ))\n"
   ]
  },
  {
   "cell_type": "code",
   "execution_count": 134,
   "id": "fe61b144-fa03-4cdf-98cb-1725069654fe",
   "metadata": {},
   "outputs": [],
   "source": [
    "def show_df(value):\n",
    "    df_statewide\n",
    "    return  styled_df(_utils.clean_up_columns((subset[subset.project_name==value]))) "
   ]
  },
  {
   "cell_type": "code",
   "execution_count": 139,
   "id": "6a0d2fb7-2998-4914-8abc-15fffbe0e83b",
   "metadata": {},
   "outputs": [],
   "source": [
    "test_widget = widgets.Select(\n",
    "    options=my_list_of_projects,\n",
    "    value='Napa Valley Forward Sr 29 Up Valley Roundabout Project',\n",
    "    description='Project:',\n",
    "    disabled=False\n",
    ")"
   ]
  },
  {
   "cell_type": "code",
   "execution_count": 140,
   "id": "a020d93e-1259-46b2-bb0c-4b1cd0466f2c",
   "metadata": {},
   "outputs": [
    {
     "data": {
      "application/vnd.jupyter.widget-view+json": {
       "model_id": "3bd41df4357a427ba6f16d9fb7dabb4f",
       "version_major": 2,
       "version_minor": 0
      },
      "text/plain": [
       "interactive(children=(Select(description='Project:', index=334, options=('#Raisefontana', '180 West Extension'…"
      ]
     },
     "metadata": {},
     "output_type": "display_data"
    },
    {
     "data": {
      "text/plain": [
       "<function __main__.show_df(value)>"
      ]
     },
     "execution_count": 140,
     "metadata": {},
     "output_type": "execute_result"
    }
   ],
   "source": [
    "interact(show_df, value = test_widget)"
   ]
  }
 ],
 "metadata": {
  "kernelspec": {
   "display_name": "Python 3 (ipykernel)",
   "language": "python",
   "name": "python3"
  },
  "language_info": {
   "codemirror_mode": {
    "name": "ipython",
    "version": 3
   },
   "file_extension": ".py",
   "mimetype": "text/x-python",
   "name": "python",
   "nbconvert_exporter": "python",
   "pygments_lexer": "ipython3",
   "version": "3.10.6"
  }
 },
 "nbformat": 4,
 "nbformat_minor": 5
}
