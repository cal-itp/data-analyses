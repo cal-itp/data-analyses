{
 "cells": [
  {
   "cell_type": "markdown",
   "id": "0b6857af-b548-4892-966a-6a3884a1cbb0",
   "metadata": {},
   "source": [
    "# Altair versus Ipywidgets "
   ]
  },
  {
   "cell_type": "code",
   "execution_count": 1,
   "id": "c4bd2ea1-3302-4a06-a9b4-97aebc89d416",
   "metadata": {},
   "outputs": [],
   "source": [
    "%%capture\n",
    "\n",
    "# Turn off warnings\n",
    "import warnings\n",
    "warnings.filterwarnings(\"ignore\")\n",
    "\n",
    "# Normal packages\n",
    "import geopandas as gpd\n",
    "import ipywidgets as widgets\n",
    "import numpy as np\n",
    "import pandas as pd\n",
    "\n",
    "# Format\n",
    "from babel.numbers import format_currency\n",
    "\n",
    "# Display\n",
    "from IPython.display import HTML, Image, Markdown, display, display_html\n",
    "from ipywidgets import AppLayout, Layout, interact\n",
    "from shared_utils import portfolio_utils\n",
    "\n",
    "# Settings\n",
    "pd.options.display.max_columns = 100\n",
    "pd.set_option(\"display.max_rows\", None)\n",
    "pd.set_option(\"display.max_colwidth\", None)\n",
    "pd.options.display.float_format = \"{:,.2f}\".format\n",
    "\n",
    "# GCS, del later since this will presumbly be read from a script that cleans up the data\n",
    "GCS_FILE_PATH = \"gs://calitp-analytics-data/data-analyses/project_prioritization/\"\n",
    "FILE = \"fake_data.xlsx\"\n",
    "\n",
    "# My utilities\n",
    "import _utils"
   ]
  },
  {
   "cell_type": "code",
   "execution_count": 2,
   "id": "9cfa384b-4337-4df9-8660-5e7ea39468fc",
   "metadata": {},
   "outputs": [],
   "source": [
    "# DEL LATER\n",
    "import altair as alt\n",
    "import matplotlib.pyplot as plt\n",
    "from shared_utils import altair_utils\n",
    "from shared_utils import calitp_color_palette as cp\n",
    "from shared_utils import styleguide"
   ]
  },
  {
   "cell_type": "code",
   "execution_count": 3,
   "id": "f52a8a04-8176-4fe2-8cd4-bf41d5d7e640",
   "metadata": {},
   "outputs": [],
   "source": [
    "# Read in file\n",
    "df_statewide = pd.read_excel(f\"{GCS_FILE_PATH}{FILE}\", sheet_name=\"fake\")"
   ]
  },
  {
   "cell_type": "code",
   "execution_count": 4,
   "id": "2df7bb73-083a-4fb6-a4ad-7ddb6331d575",
   "metadata": {},
   "outputs": [],
   "source": [
    "df_statewide = df_statewide.head(15)"
   ]
  },
  {
   "cell_type": "code",
   "execution_count": 5,
   "id": "9983f674-85f4-4aeb-a537-ac3865e85855",
   "metadata": {
    "scrolled": true,
    "tags": []
   },
   "outputs": [],
   "source": [
    "csis = df_statewide[\n",
    "    [\n",
    "        \"project_name\",\n",
    "        \"project_description\",\n",
    "        \"mode_shift__csis_\",\n",
    "        \"vmt__csis_\",\n",
    "        \"dac_local_community_needs__csis_\",\n",
    "        \"public_engagement__csis_\",\n",
    "        \"safety__csis_\",\n",
    "        \"zev__csis_\",\n",
    "        \"climate_resiliency__csis_\",\n",
    "        \"natural_resources_and_ecosystems__csis_\",\n",
    "        \"infill_development_and_land_use__csis_\",\n",
    "    ]\n",
    "]"
   ]
  },
  {
   "cell_type": "code",
   "execution_count": 6,
   "id": "05b6bab3-7b85-4d5c-8900-f79daac760ad",
   "metadata": {
    "scrolled": true,
    "tags": []
   },
   "outputs": [],
   "source": [
    "csis = pd.melt(\n",
    "    csis,\n",
    "    id_vars=[\"project_name\", \"project_description\"],\n",
    "    value_vars=[\n",
    "        \"mode_shift__csis_\",\n",
    "        \"vmt__csis_\",\n",
    "        \"dac_local_community_needs__csis_\",\n",
    "        \"public_engagement__csis_\",\n",
    "        \"safety__csis_\",\n",
    "        \"zev__csis_\",\n",
    "        \"climate_resiliency__csis_\",\n",
    "        \"natural_resources_and_ecosystems__csis_\",\n",
    "        \"infill_development_and_land_use__csis_\",\n",
    "    ],\n",
    ")"
   ]
  },
  {
   "cell_type": "code",
   "execution_count": 7,
   "id": "0aca99b5-935f-42db-93c8-ecda895dbc15",
   "metadata": {
    "scrolled": true,
    "tags": []
   },
   "outputs": [],
   "source": [
    "# Remove underscores off of old column names\n",
    "csis[\"variable\"] = csis[\"variable\"].str.replace(\"_\", \" \").str.strip().str.title()\n",
    "csis = csis.rename(columns={\"variable\": \"csis\", \"value\": \"csis values\"})"
   ]
  },
  {
   "cell_type": "code",
   "execution_count": 8,
   "id": "872eea2c-f46b-4358-93a1-8757e21fa5d7",
   "metadata": {},
   "outputs": [],
   "source": [
    "benefit = df_statewide[\n",
    "    [\n",
    "        \"project_name\",\n",
    "        \"increase_peak_person_throughput\",\n",
    "        \"reduction_in_peak_period_delay\",\n",
    "        \"reduction_in_fatal_and_injury_crashes\",\n",
    "        \"reduction_in_injury_rates\",\n",
    "        \"increase_access_to_jobs\",\n",
    "        \"increase_access_jobs_to_DAC\",\n",
    "        \"commercial_dev_developed\",\n",
    "        \"tons_of_goods_impacted\",\n",
    "        \"improve_air_quality\",\n",
    "        \"impact_natural_resources\",\n",
    "        \"support_of_trasnportation\",\n",
    "    ]\n",
    "]"
   ]
  },
  {
   "cell_type": "code",
   "execution_count": 9,
   "id": "b66e7dd5-f1da-4dea-8612-2dcccf90cc2d",
   "metadata": {},
   "outputs": [],
   "source": [
    "benefit = pd.melt(\n",
    "    benefit,\n",
    "    id_vars=[\"project_name\"],\n",
    "    value_vars=[\n",
    "        \"increase_peak_person_throughput\",\n",
    "        \"reduction_in_peak_period_delay\",\n",
    "        \"reduction_in_fatal_and_injury_crashes\",\n",
    "        \"reduction_in_injury_rates\",\n",
    "        \"increase_access_to_jobs\",\n",
    "        \"increase_access_jobs_to_DAC\",\n",
    "        \"commercial_dev_developed\",\n",
    "        \"tons_of_goods_impacted\",\n",
    "        \"improve_air_quality\",\n",
    "        \"impact_natural_resources\",\n",
    "        \"support_of_trasnportation\",\n",
    "    ],\n",
    ")"
   ]
  },
  {
   "cell_type": "code",
   "execution_count": 10,
   "id": "41337ee7-b03b-4bf0-b6c0-c8bb875f353c",
   "metadata": {},
   "outputs": [],
   "source": [
    "benefit[\"variable\"] = benefit[\"variable\"].str.replace(\"_\", \" \").str.strip().str.title()"
   ]
  },
  {
   "cell_type": "code",
   "execution_count": 11,
   "id": "5417e360-8830-4a21-a439-0203158172df",
   "metadata": {},
   "outputs": [],
   "source": [
    "benefit = benefit.rename(columns={\"variable\": \"Benefit\", \"value\": \"Benefit Values\"})"
   ]
  },
  {
   "cell_type": "code",
   "execution_count": 12,
   "id": "54806547-08ed-4f07-97db-bcb8a964e3a5",
   "metadata": {},
   "outputs": [],
   "source": [
    "monetary_cols = [\n",
    "    \"project_name\",\n",
    "    \"total_project_cost__$1,000_\",\n",
    "    \"pa_ed_cost__$1,000_\",\n",
    "    \"ps_e_cost__$1,000_\",\n",
    "    \"row_cost__$1,000_\",\n",
    "    \"con_cost__$1,000_\",\n",
    "    \"non_infrastructure___plan_cost__$1,000_\",\n",
    "    \"total_unfunded_need__$1,000_\",\n",
    "]"
   ]
  },
  {
   "cell_type": "code",
   "execution_count": 13,
   "id": "d4414063-a326-46a6-880a-f11457fa429c",
   "metadata": {},
   "outputs": [],
   "source": [
    "monetary = df_statewide[monetary_cols]"
   ]
  },
  {
   "cell_type": "code",
   "execution_count": 14,
   "id": "a23c09c7-e119-4fcc-8238-267ba07e70e2",
   "metadata": {},
   "outputs": [],
   "source": [
    "monetary = pd.melt(\n",
    "    monetary,\n",
    "    id_vars=[\"project_name\"],\n",
    "    value_vars=[\n",
    "        \"total_project_cost__$1,000_\",\n",
    "        \"pa_ed_cost__$1,000_\",\n",
    "        \"ps_e_cost__$1,000_\",\n",
    "        \"row_cost__$1,000_\",\n",
    "        \"con_cost__$1,000_\",\n",
    "        \"non_infrastructure___plan_cost__$1,000_\",\n",
    "        \"total_unfunded_need__$1,000_\",\n",
    "    ],\n",
    ")"
   ]
  },
  {
   "cell_type": "code",
   "execution_count": 15,
   "id": "bab6239f-5606-4958-990b-8514d5b3a743",
   "metadata": {},
   "outputs": [],
   "source": [
    "monetary[\"variable\"] = (\n",
    "    monetary[\"variable\"].str.replace(\"_\", \" \").str.strip().str.title()\n",
    ")"
   ]
  },
  {
   "cell_type": "code",
   "execution_count": 16,
   "id": "a9c631a8-b90f-4425-837c-8100e01e4527",
   "metadata": {},
   "outputs": [],
   "source": [
    "monetary = monetary.rename(\n",
    "    columns={\"variable\": \"Monetary Category\", \"value\": \"Monetary Values\"}\n",
    ")"
   ]
  },
  {
   "cell_type": "code",
   "execution_count": 17,
   "id": "1cf0374c-39ac-4d44-a9fd-ab2f3439a020",
   "metadata": {},
   "outputs": [],
   "source": [
    "monetary[\"Monetary Values $\"] = monetary[\"Monetary Values\"].apply(\n",
    "    lambda x: format_currency(x, currency=\"USD\", locale=\"en_US\")\n",
    ")"
   ]
  },
  {
   "cell_type": "code",
   "execution_count": 18,
   "id": "36d0040e-38fc-4196-947e-3b0e6b270460",
   "metadata": {},
   "outputs": [],
   "source": [
    "text_cols = [\n",
    "    \"project_name\",\n",
    "    \"full_county_name\",\n",
    "    \"lead_agency\",\n",
    "    \"district_full_name\",\n",
    "    \"primary_mode\",\n",
    "    \"secondary_mode_s_\",\n",
    "    \"urban_rural\",\n",
    "    \"current_phase\",\n",
    "    \"urban_rural\", \n",
    "    \"route\",\n",
    "]"
   ]
  },
  {
   "cell_type": "code",
   "execution_count": 19,
   "id": "ff449524-f44e-4112-81c8-4c32287c6691",
   "metadata": {},
   "outputs": [],
   "source": [
    "text_table = df_statewide[text_cols]"
   ]
  },
  {
   "cell_type": "code",
   "execution_count": 20,
   "id": "ffc610e1-f28c-4b41-8a83-81af67244ebd",
   "metadata": {},
   "outputs": [],
   "source": [
    "text_table2 = pd.melt(\n",
    "    text_table,\n",
    "    id_vars=[\"project_name\"],\n",
    "    value_vars=[\n",
    "        \"full_county_name\",\n",
    "        \"lead_agency\",\n",
    "        \"district_full_name\",\n",
    "        \"primary_mode\",\n",
    "        \"secondary_mode_s_\",\n",
    "        \"urban_rural\",\n",
    "        \"current_phase\",\n",
    "        \"urban_rural\",\n",
    "        \"route\",\n",
    "    ],\n",
    ")"
   ]
  },
  {
   "cell_type": "code",
   "execution_count": 21,
   "id": "d2d53a7e-5cf5-484b-89d1-a62bebe4dfe3",
   "metadata": {},
   "outputs": [],
   "source": [
    "text_table2[\"variable\"] = (\n",
    "    text_table2[\"variable\"].str.replace(\"_\", \" \").str.strip().str.title()\n",
    ")"
   ]
  },
  {
   "cell_type": "code",
   "execution_count": 22,
   "id": "95f4ff50-334a-49c1-b648-933576792718",
   "metadata": {},
   "outputs": [],
   "source": [
    "text_table2 = text_table2.rename(\n",
    "    columns={\"variable\": \"Basics\", \"value\": \"Basic Values\"}\n",
    ")"
   ]
  },
  {
   "cell_type": "code",
   "execution_count": 23,
   "id": "881a15fa-1434-4e03-b7e9-e8884bdcde4d",
   "metadata": {
    "tags": []
   },
   "outputs": [],
   "source": [
    "text_table2['Basics'] = text_table2['Basics'].fillna('Project Title')"
   ]
  },
  {
   "cell_type": "code",
   "execution_count": 24,
   "id": "2d1cda59-1f14-4f14-adce-408e083af2aa",
   "metadata": {},
   "outputs": [],
   "source": [
    "my_list_of_projects = df_statewide.project_name.sort_values().unique().tolist()"
   ]
  },
  {
   "cell_type": "code",
   "execution_count": 25,
   "id": "d8e2ac71-7a8f-409b-81c0-87ac5d9422d3",
   "metadata": {
    "tags": []
   },
   "outputs": [],
   "source": [
    "for i in my_list_of_projects:\n",
    "    text_table2 = text_table2.append({'Basic Values': i}, ignore_index=True)"
   ]
  },
  {
   "cell_type": "code",
   "execution_count": 26,
   "id": "2ee6fb44-5e7d-4058-be8a-56a07ec7701d",
   "metadata": {},
   "outputs": [],
   "source": [
    "text_table2['Zero'] = 0"
   ]
  },
  {
   "cell_type": "code",
   "execution_count": 30,
   "id": "2ca7dc87-6f32-4853-b276-b79fce6a65fa",
   "metadata": {
    "scrolled": true,
    "tags": []
   },
   "outputs": [],
   "source": [
    "text_table2['Basics'] = text_table2['Basics'].fillna('Project Name')"
   ]
  },
  {
   "cell_type": "code",
   "execution_count": 33,
   "id": "4e94bd75-6d3e-4316-86e1-2b523f5e2559",
   "metadata": {},
   "outputs": [],
   "source": [
    "text_table2['project_name'] = text_table2['project_name'].fillna(text_table2['Basic Values'])"
   ]
  },
  {
   "cell_type": "code",
   "execution_count": 36,
   "id": "f5d49e5c-8099-419f-8191-aa35ca63a30a",
   "metadata": {},
   "outputs": [],
   "source": [
    "text_table2[\"Full Information\"] = (\n",
    "    text_table2[\"Basics\"].astype(\"str\")\n",
    "    + \": \"\n",
    "    + text_table2[\"Basic Values\"].astype(\"str\")\n",
    ")"
   ]
  },
  {
   "cell_type": "code",
   "execution_count": 37,
   "id": "5954f020-fed7-4295-aadc-33d008e94995",
   "metadata": {},
   "outputs": [],
   "source": [
    "# [Styling a widget](https://ipywidgets.readthedocs.io/en/latest/examples/Widget%20Styling.html#Description)\n",
    "# [Altair and Widgets](https://medium.com/@chekos/altair-and-ipywidgets-a-simple-example-f61269c72c02)"
   ]
  },
  {
   "cell_type": "markdown",
   "id": "7a5d0661-5ba1-47b6-b630-ef42d51d542f",
   "metadata": {},
   "source": [
    "### Ipywidget "
   ]
  },
  {
   "cell_type": "code",
   "execution_count": 38,
   "id": "6a0d2fb7-2998-4914-8abc-15fffbe0e83b",
   "metadata": {},
   "outputs": [],
   "source": [
    "test_widget = widgets.Dropdown(\n",
    "    options=my_list_of_projects,\n",
    "    value='Alton Interchange',\n",
    "    description=\"Project:\",\n",
    "    disabled=False,\n",
    "    style={\"description_width\": \"initial\"},\n",
    ")"
   ]
  },
  {
   "cell_type": "code",
   "execution_count": 39,
   "id": "d07065e3-a97d-4e9b-adee-74026b3a7d3c",
   "metadata": {},
   "outputs": [],
   "source": [
    "def all_charts(value):\n",
    "    csis_chart = (\n",
    "        alt.Chart(csis[csis[\"project_name\"] == value])\n",
    "        .mark_bar()\n",
    "        .encode(\n",
    "            x=alt.X(\n",
    "                \"csis values:Q\",\n",
    "                axis=None,\n",
    "            ),\n",
    "            y=alt.Y(\"csis:N\", axis=alt.Axis(title=\"CSIS Category\"), sort=(\"-x\")),\n",
    "            color=alt.Color(\n",
    "                \"csis\", scale=alt.Scale(range=cp.CALITP_DIVERGING_COLORS), legend=None\n",
    "            ),\n",
    "            tooltip=[\"csis values\", \"csis\"],\n",
    "        )\n",
    "        .properties(title=f\"CSIS\")\n",
    "    )\n",
    "\n",
    "    benefit_chart = (\n",
    "        alt.Chart(benefit[benefit[\"project_name\"] == value])\n",
    "        .mark_bar()\n",
    "        .encode(\n",
    "            x=alt.X(\n",
    "                \"Benefit Values:Q\",\n",
    "                axis=None,\n",
    "            ),\n",
    "            y=alt.Y(\"Benefit:N\", axis=alt.Axis(title=\"Benefit Category\"), sort=(\"-x\")),\n",
    "            color=alt.Color(\n",
    "                \"Benefit\",\n",
    "                scale=alt.Scale(range=cp.CALITP_DIVERGING_COLORS),\n",
    "                legend=None,\n",
    "            ),\n",
    "            tooltip=[\"Benefit\", \"Benefit Values\"],\n",
    "        )\n",
    "        .properties(title=\"Benefits Information\")\n",
    "    )\n",
    "\n",
    "    monetary_chart = (\n",
    "        alt.Chart(monetary[monetary[\"project_name\"] == value])\n",
    "        .mark_bar()\n",
    "        .encode(\n",
    "            x=alt.X(\n",
    "                \"Monetary Values:Q\",\n",
    "                axis=None,\n",
    "            ),\n",
    "            y=alt.Y(\n",
    "                \"Monetary Category:N\",\n",
    "                axis=alt.Axis(title=\"Monetary Category\"),\n",
    "                sort=(\"-x\"),\n",
    "            ),\n",
    "            color=alt.Color(\n",
    "                \"Monetary Category\",\n",
    "                scale=alt.Scale(range=cp.CALITP_DIVERGING_COLORS),\n",
    "                legend=None,\n",
    "            ),\n",
    "            tooltip=[\"Monetary Category\", \"Monetary Values $\"],\n",
    "        )\n",
    "        .properties(title=\"Monetary Information\")\n",
    "    )\n",
    "    \n",
    "    basic_chart = (\n",
    "        alt.Chart(text_table2[text_table2[\"project_name\"] == value])\n",
    "            .mark_circle()\n",
    "            .encode(x=alt.X(\"Zero:Q\", axis=None), y=alt.Y(\"Full Information:N\", axis=None))\n",
    "            .properties(title=f\"Overview of {value}\"))\n",
    "    \n",
    "    basic_chart_text = (basic_chart.mark_text(\n",
    "        align=\"center\",\n",
    "        baseline=\"middle\",\n",
    "        dx=3)\n",
    "        .encode(text=\"Full Information:N\")\n",
    "           )\n",
    "    \n",
    "    \n",
    "    csis_chart = _utils.preset_chart_config(csis_chart)\n",
    "    benefit_chart = _utils.preset_chart_config(benefit_chart)\n",
    "    monetary_chart = _utils.preset_chart_config(monetary_chart)\n",
    "    basic_chart_text = _utils.preset_chart_config(basic_chart_text)\n",
    "    \n",
    "    charts =  alt.vconcat(basic_chart_text, monetary_chart,benefit_chart,csis_chart)\n",
    "    return charts"
   ]
  },
  {
   "cell_type": "code",
   "execution_count": 40,
   "id": "e28ac0e0-ba1f-41e7-a4bb-79564d0ac064",
   "metadata": {},
   "outputs": [
    {
     "data": {
      "application/vnd.jupyter.widget-view+json": {
       "model_id": "cb5da0376efc477a8e03b089f3277f1d",
       "version_major": 2,
       "version_minor": 0
      },
      "text/plain": [
       "interactive(children=(Dropdown(description='Project:', options=('Alton Interchange', 'Annie & Mary Trail Phase…"
      ]
     },
     "metadata": {},
     "output_type": "display_data"
    },
    {
     "data": {
      "text/plain": [
       "<function __main__.all_charts(value)>"
      ]
     },
     "execution_count": 40,
     "metadata": {},
     "output_type": "execute_result"
    }
   ],
   "source": [
    "interact(all_charts, value=test_widget)"
   ]
  },
  {
   "cell_type": "markdown",
   "id": "49b42caf-4ec1-4aa0-9179-5b6c9a9e08e7",
   "metadata": {},
   "source": [
    "#### Altair"
   ]
  },
  {
   "cell_type": "code",
   "execution_count": 41,
   "id": "5b995f87-f8dd-4a7d-9ba6-0f66f800f206",
   "metadata": {},
   "outputs": [],
   "source": [
    "input_dropdown = alt.binding_select(options=my_list_of_projects, name=\"Select \")"
   ]
  },
  {
   "cell_type": "code",
   "execution_count": 42,
   "id": "ae39c7d0-79e1-4334-bc48-5bc0fdfd012b",
   "metadata": {},
   "outputs": [],
   "source": [
    "selection = alt.selection_single(fields=[\"project_name\"], bind=input_dropdown)"
   ]
  },
  {
   "cell_type": "code",
   "execution_count": 43,
   "id": "21b198a9-0275-4260-ad21-6dab980da582",
   "metadata": {},
   "outputs": [],
   "source": [
    "input_dropdown = alt.binding_select(options=my_list_of_projects, name=\"Select\")\n",
    "selection = alt.selection_single(fields=[\"project_name\"], bind=input_dropdown, init={'project_name':'Alton Interchange',})\n",
    "\n",
    "csis_chart = (\n",
    "            alt.Chart(csis)\n",
    "            .mark_bar()\n",
    "            .encode(\n",
    "                x=alt.X(\n",
    "                    \"csis values:Q\",\n",
    "                    axis=None,\n",
    "                ),\n",
    "                y=alt.Y(\"csis:N\", axis=alt.Axis(title=\"CSIS Category\"), sort=(\"-x\")),\n",
    "                color=alt.Color(\n",
    "                    \"csis\", scale=alt.Scale(range=cp.CALITP_DIVERGING_COLORS), legend=None\n",
    "                ),\n",
    "                tooltip=[\"csis values\", \"csis\"],\n",
    "            )\n",
    "            .properties(title=f\"CSIS\")\n",
    "            .add_selection(selection)\n",
    "            .transform_filter(selection)\n",
    "        )\n",
    "benefit_chart = (\n",
    "            alt.Chart(benefit)\n",
    "            .mark_bar()\n",
    "            .encode(\n",
    "                x=alt.X(\n",
    "                    \"Benefit Values:Q\",\n",
    "                    axis=None,\n",
    "                ),\n",
    "                y=alt.Y(\"Benefit:N\", axis=alt.Axis(title=\"Benefit Category\"), sort=(\"-x\")),\n",
    "                color=alt.Color(\n",
    "                    \"Benefit\",\n",
    "                    scale=alt.Scale(range=cp.CALITP_DIVERGING_COLORS),\n",
    "                    legend=None,\n",
    "                ),\n",
    "                tooltip=[\"Benefit\", \"Benefit Values\"],\n",
    "            )\n",
    "            .properties(title=\"Benefits Information\")\n",
    "            .add_selection(selection)\n",
    "            .transform_filter(selection)\n",
    "        )\n",
    "monetary_chart = (\n",
    "        alt.Chart(monetary)\n",
    "        .mark_bar()\n",
    "        .encode(\n",
    "            x=alt.X(\n",
    "                \"Monetary Values:Q\",\n",
    "                axis=None,\n",
    "            ),\n",
    "            y=alt.Y(\n",
    "                \"Monetary Category:N\",\n",
    "                axis=alt.Axis(title=\"Monetary Category\"),\n",
    "                sort=(\"-x\"),\n",
    "            ),\n",
    "            color=alt.Color(\n",
    "                \"Monetary Category\",\n",
    "                scale=alt.Scale(range=cp.CALITP_DIVERGING_COLORS),\n",
    "                legend=None,\n",
    "            ),\n",
    "            tooltip=[\"Monetary Category\", \"Monetary Values $\"],\n",
    "        )\n",
    "        .properties(title=\"Monetary Information\")\n",
    "    )\n",
    "basic_chart = (\n",
    "        alt.Chart(text_table2)\n",
    "            .mark_circle()\n",
    "            .encode(x=alt.X(\"Zero:Q\", axis=None), y=alt.Y(\"Full Information:N\", axis=None))\n",
    "            .properties(title=f\"Overview\")\n",
    "            .add_selection(selection)\n",
    "            .transform_filter(selection))\n",
    "    \n",
    "basic_chart_text = (basic_chart.mark_text(\n",
    "        align=\"center\",\n",
    "        baseline=\"middle\",\n",
    "        dx=3)\n",
    "        .encode(text=\"Full Information:N\")\n",
    "           )\n",
    "csis_chart = _utils.preset_chart_config(csis_chart)\n",
    "benefit_chart = _utils.preset_chart_config(benefit_chart)\n",
    "basic_chart_text = _utils.preset_chart_config(basic_chart_text)\n",
    "monetary_chart =  _utils.preset_chart_config(monetary_chart)"
   ]
  },
  {
   "cell_type": "code",
   "execution_count": 44,
   "id": "d38aad16-8ebb-4ea4-8549-25d167793345",
   "metadata": {},
   "outputs": [
    {
     "data": {
      "text/html": [
       "\n",
       "<style>\n",
       "form.vega-bindings {\n",
       "  position: absolute;\n",
       "  right: 0px;\n",
       "  top: 0px;\n",
       "}\n",
       "</style>\n"
      ],
      "text/plain": [
       "<IPython.core.display.HTML object>"
      ]
     },
     "metadata": {},
     "output_type": "display_data"
    }
   ],
   "source": [
    "display(HTML(\"\"\"\n",
    "<style>\n",
    "form.vega-bindings {\n",
    "  position: absolute;\n",
    "  right: 0px;\n",
    "  top: 0px;\n",
    "}\n",
    "</style>\n",
    "\"\"\"))"
   ]
  },
  {
   "cell_type": "code",
   "execution_count": 45,
   "id": "117cb573-d1c5-4925-930d-2d50d41f8ac7",
   "metadata": {},
   "outputs": [
    {
     "data": {
      "text/html": [
       "\n",
       "<div id=\"altair-viz-9332ae069e5244f79daf9531d1042ae6\"></div>\n",
       "<script type=\"text/javascript\">\n",
       "  var VEGA_DEBUG = (typeof VEGA_DEBUG == \"undefined\") ? {} : VEGA_DEBUG;\n",
       "  (function(spec, embedOpt){\n",
       "    let outputDiv = document.currentScript.previousElementSibling;\n",
       "    if (outputDiv.id !== \"altair-viz-9332ae069e5244f79daf9531d1042ae6\") {\n",
       "      outputDiv = document.getElementById(\"altair-viz-9332ae069e5244f79daf9531d1042ae6\");\n",
       "    }\n",
       "    const paths = {\n",
       "      \"vega\": \"https://cdn.jsdelivr.net/npm//vega@5?noext\",\n",
       "      \"vega-lib\": \"https://cdn.jsdelivr.net/npm//vega-lib?noext\",\n",
       "      \"vega-lite\": \"https://cdn.jsdelivr.net/npm//vega-lite@4.17.0?noext\",\n",
       "      \"vega-embed\": \"https://cdn.jsdelivr.net/npm//vega-embed@6?noext\",\n",
       "    };\n",
       "\n",
       "    function maybeLoadScript(lib, version) {\n",
       "      var key = `${lib.replace(\"-\", \"\")}_version`;\n",
       "      return (VEGA_DEBUG[key] == version) ?\n",
       "        Promise.resolve(paths[lib]) :\n",
       "        new Promise(function(resolve, reject) {\n",
       "          var s = document.createElement('script');\n",
       "          document.getElementsByTagName(\"head\")[0].appendChild(s);\n",
       "          s.async = true;\n",
       "          s.onload = () => {\n",
       "            VEGA_DEBUG[key] = version;\n",
       "            return resolve(paths[lib]);\n",
       "          };\n",
       "          s.onerror = () => reject(`Error loading script: ${paths[lib]}`);\n",
       "          s.src = paths[lib];\n",
       "        });\n",
       "    }\n",
       "\n",
       "    function showError(err) {\n",
       "      outputDiv.innerHTML = `<div class=\"error\" style=\"color:red;\">${err}</div>`;\n",
       "      throw err;\n",
       "    }\n",
       "\n",
       "    function displayChart(vegaEmbed) {\n",
       "      vegaEmbed(outputDiv, spec, embedOpt)\n",
       "        .catch(err => showError(`Javascript Error: ${err.message}<br>This usually means there's a typo in your chart specification. See the javascript console for the full traceback.`));\n",
       "    }\n",
       "\n",
       "    if(typeof define === \"function\" && define.amd) {\n",
       "      requirejs.config({paths});\n",
       "      require([\"vega-embed\"], displayChart, err => showError(`Error loading script: ${err.message}`));\n",
       "    } else {\n",
       "      maybeLoadScript(\"vega\", \"5\")\n",
       "        .then(() => maybeLoadScript(\"vega-lite\", \"4.17.0\"))\n",
       "        .then(() => maybeLoadScript(\"vega-embed\", \"6\"))\n",
       "        .catch(showError)\n",
       "        .then(() => displayChart(vegaEmbed));\n",
       "    }\n",
       "  })({\"config\": {\"view\": {\"continuousWidth\": 400, \"continuousHeight\": 300}}, \"vconcat\": [{\"data\": {\"name\": \"data-52fcf4a06f422dd2097c8ca6c1fbd460\"}, \"mark\": {\"type\": \"text\", \"align\": \"center\", \"baseline\": \"middle\", \"dx\": 3}, \"encoding\": {\"text\": {\"field\": \"Full Information\", \"type\": \"nominal\"}, \"x\": {\"axis\": null, \"field\": \"Zero\", \"type\": \"quantitative\"}, \"y\": {\"axis\": null, \"field\": \"Full Information\", \"type\": \"nominal\"}}, \"height\": 250, \"selection\": {\"selector002\": {\"type\": \"single\", \"fields\": [\"project_name\"], \"bind\": {\"input\": \"select\", \"options\": [\"Alton Interchange\", \"Annie & Mary Trail Phase 2\", \"Arcata Cap & Humboldt Area Rapid Transit\", \"Broadway Middle Couplet\", \"Connected Communities Plan Project\", \"Crescent City Ada\", \"Equitable And Sustainable Public Transit Planning For Rural America\", \"Eureka Adaptive Signals Project\", \"Eureka-Arcata Corridor Improvement\", \"Eureka-Arcata Sea Level Rise Project 1.0\", \"Fish Passage Project (Shopp Project)\", \"Koster Couplet (Shopp Project)\", \"South Broadway Shared Path\", \"Trinidad Rancheria Access Project\", \"Willow Creek Charging Station (Shopp Project)\"], \"name\": \"Select\"}, \"init\": {\"project_name\": \"Alton Interchange\"}}}, \"title\": \"Overview\", \"transform\": [{\"filter\": {\"selection\": \"selector002\"}}], \"width\": 400}, {\"data\": {\"name\": \"data-28aa709d75ee20ae6be9aa1761ccd076\"}, \"mark\": \"bar\", \"encoding\": {\"color\": {\"field\": \"Monetary Category\", \"legend\": null, \"scale\": {\"range\": [\"#E16B26\", \"#EB9F3C\", \"#f6e7e1\", \"#8CBCCB\", \"#2EA8CE\", \"#136C97\"]}, \"type\": \"nominal\"}, \"tooltip\": [{\"field\": \"Monetary Category\", \"type\": \"nominal\"}, {\"field\": \"Monetary Values $\", \"type\": \"nominal\"}], \"x\": {\"axis\": null, \"field\": \"Monetary Values\", \"type\": \"quantitative\"}, \"y\": {\"axis\": {\"title\": \"Monetary Category\"}, \"field\": \"Monetary Category\", \"sort\": \"-x\", \"type\": \"nominal\"}}, \"height\": 250, \"title\": \"Monetary Information\", \"width\": 400}, {\"data\": {\"name\": \"data-95bae13649634ff50fedf97311981b6d\"}, \"mark\": \"bar\", \"encoding\": {\"color\": {\"field\": \"csis\", \"legend\": null, \"scale\": {\"range\": [\"#E16B26\", \"#EB9F3C\", \"#f6e7e1\", \"#8CBCCB\", \"#2EA8CE\", \"#136C97\"]}, \"type\": \"nominal\"}, \"tooltip\": [{\"field\": \"csis values\", \"type\": \"quantitative\"}, {\"field\": \"csis\", \"type\": \"nominal\"}], \"x\": {\"axis\": null, \"field\": \"csis values\", \"type\": \"quantitative\"}, \"y\": {\"axis\": {\"title\": \"CSIS Category\"}, \"field\": \"csis\", \"sort\": \"-x\", \"type\": \"nominal\"}}, \"height\": 250, \"selection\": {\"selector002\": {\"type\": \"single\", \"fields\": [\"project_name\"], \"bind\": {\"input\": \"select\", \"options\": [\"Alton Interchange\", \"Annie & Mary Trail Phase 2\", \"Arcata Cap & Humboldt Area Rapid Transit\", \"Broadway Middle Couplet\", \"Connected Communities Plan Project\", \"Crescent City Ada\", \"Equitable And Sustainable Public Transit Planning For Rural America\", \"Eureka Adaptive Signals Project\", \"Eureka-Arcata Corridor Improvement\", \"Eureka-Arcata Sea Level Rise Project 1.0\", \"Fish Passage Project (Shopp Project)\", \"Koster Couplet (Shopp Project)\", \"South Broadway Shared Path\", \"Trinidad Rancheria Access Project\", \"Willow Creek Charging Station (Shopp Project)\"], \"name\": \"Select\"}, \"init\": {\"project_name\": \"Alton Interchange\"}}}, \"title\": \"CSIS\", \"transform\": [{\"filter\": {\"selection\": \"selector002\"}}], \"width\": 400}, {\"data\": {\"name\": \"data-18a766be7b53bf9a8753f8d3f87f9ab4\"}, \"mark\": \"bar\", \"encoding\": {\"color\": {\"field\": \"Benefit\", \"legend\": null, \"scale\": {\"range\": [\"#E16B26\", \"#EB9F3C\", \"#f6e7e1\", \"#8CBCCB\", \"#2EA8CE\", \"#136C97\"]}, \"type\": \"nominal\"}, \"tooltip\": [{\"field\": \"Benefit\", \"type\": \"nominal\"}, {\"field\": \"Benefit Values\", \"type\": \"quantitative\"}], \"x\": {\"axis\": null, \"field\": \"Benefit Values\", \"type\": \"quantitative\"}, \"y\": {\"axis\": {\"title\": \"Benefit Category\"}, \"field\": \"Benefit\", \"sort\": \"-x\", \"type\": \"nominal\"}}, \"height\": 250, \"selection\": {\"selector002\": {\"type\": \"single\", \"fields\": [\"project_name\"], \"bind\": {\"input\": \"select\", \"options\": [\"Alton Interchange\", \"Annie & Mary Trail Phase 2\", \"Arcata Cap & Humboldt Area Rapid Transit\", \"Broadway Middle Couplet\", \"Connected Communities Plan Project\", \"Crescent City Ada\", \"Equitable And Sustainable Public Transit Planning For Rural America\", \"Eureka Adaptive Signals Project\", \"Eureka-Arcata Corridor Improvement\", \"Eureka-Arcata Sea Level Rise Project 1.0\", \"Fish Passage Project (Shopp Project)\", \"Koster Couplet (Shopp Project)\", \"South Broadway Shared Path\", \"Trinidad Rancheria Access Project\", \"Willow Creek Charging Station (Shopp Project)\"], \"name\": \"Select\"}, \"init\": {\"project_name\": \"Alton Interchange\"}}}, \"title\": \"Benefits Information\", \"transform\": [{\"filter\": {\"selection\": \"selector002\"}}], \"width\": 400}], \"$schema\": \"https://vega.github.io/schema/vega-lite/v4.17.0.json\", \"datasets\": {\"data-52fcf4a06f422dd2097c8ca6c1fbd460\": [{\"project_name\": \"Crescent City Ada\", \"Basics\": \"Full County Name\", \"Basic Values\": \"Del Norte\", \"Zero\": 0, \"Full Information\": \"Full County Name: Del Norte\"}, {\"project_name\": \"Connected Communities Plan Project\", \"Basics\": \"Full County Name\", \"Basic Values\": \"Del Norte\", \"Zero\": 0, \"Full Information\": \"Full County Name: Del Norte\"}, {\"project_name\": \"Arcata Cap & Humboldt Area Rapid Transit\", \"Basics\": \"Full County Name\", \"Basic Values\": \"Various\", \"Zero\": 0, \"Full Information\": \"Full County Name: Various\"}, {\"project_name\": \"Trinidad Rancheria Access Project\", \"Basics\": \"Full County Name\", \"Basic Values\": \"Humboldt\", \"Zero\": 0, \"Full Information\": \"Full County Name: Humboldt\"}, {\"project_name\": \"Eureka-Arcata Sea Level Rise Project 1.0\", \"Basics\": \"Full County Name\", \"Basic Values\": \"Humboldt\", \"Zero\": 0, \"Full Information\": \"Full County Name: Humboldt\"}, {\"project_name\": \"Eureka Adaptive Signals Project\", \"Basics\": \"Full County Name\", \"Basic Values\": \"Humboldt\", \"Zero\": 0, \"Full Information\": \"Full County Name: Humboldt\"}, {\"project_name\": \"Koster Couplet (Shopp Project)\", \"Basics\": \"Full County Name\", \"Basic Values\": \"Humboldt\", \"Zero\": 0, \"Full Information\": \"Full County Name: Humboldt\"}, {\"project_name\": \"Equitable And Sustainable Public Transit Planning For Rural America\", \"Basics\": \"Full County Name\", \"Basic Values\": \"Humboldt\", \"Zero\": 0, \"Full Information\": \"Full County Name: Humboldt\"}, {\"project_name\": \"Broadway Middle Couplet\", \"Basics\": \"Full County Name\", \"Basic Values\": \"Humboldt\", \"Zero\": 0, \"Full Information\": \"Full County Name: Humboldt\"}, {\"project_name\": \"Eureka-Arcata Corridor Improvement\", \"Basics\": \"Full County Name\", \"Basic Values\": \"Humboldt\", \"Zero\": 0, \"Full Information\": \"Full County Name: Humboldt\"}, {\"project_name\": \"Alton Interchange\", \"Basics\": \"Full County Name\", \"Basic Values\": \"Humboldt\", \"Zero\": 0, \"Full Information\": \"Full County Name: Humboldt\"}, {\"project_name\": \"South Broadway Shared Path\", \"Basics\": \"Full County Name\", \"Basic Values\": \"Humboldt\", \"Zero\": 0, \"Full Information\": \"Full County Name: Humboldt\"}, {\"project_name\": \"Fish Passage Project (Shopp Project)\", \"Basics\": \"Full County Name\", \"Basic Values\": \"Humboldt\", \"Zero\": 0, \"Full Information\": \"Full County Name: Humboldt\"}, {\"project_name\": \"Annie & Mary Trail Phase 2\", \"Basics\": \"Full County Name\", \"Basic Values\": \"Humboldt\", \"Zero\": 0, \"Full Information\": \"Full County Name: Humboldt\"}, {\"project_name\": \"Willow Creek Charging Station (Shopp Project)\", \"Basics\": \"Full County Name\", \"Basic Values\": \"Humboldt\", \"Zero\": 0, \"Full Information\": \"Full County Name: Humboldt\"}, {\"project_name\": \"Crescent City Ada\", \"Basics\": \"Lead Agency\", \"Basic Values\": \"Caltrans\", \"Zero\": 0, \"Full Information\": \"Lead Agency: Caltrans\"}, {\"project_name\": \"Connected Communities Plan Project\", \"Basics\": \"Lead Agency\", \"Basic Values\": \"Tolowa Dee-Ni Nation\", \"Zero\": 0, \"Full Information\": \"Lead Agency: Tolowa Dee-Ni Nation\"}, {\"project_name\": \"Arcata Cap & Humboldt Area Rapid Transit\", \"Basics\": \"Lead Agency\", \"Basic Values\": \"Caltrans\", \"Zero\": 0, \"Full Information\": \"Lead Agency: Caltrans\"}, {\"project_name\": \"Trinidad Rancheria Access Project\", \"Basics\": \"Lead Agency\", \"Basic Values\": \"Caltrans\", \"Zero\": 0, \"Full Information\": \"Lead Agency: Caltrans\"}, {\"project_name\": \"Eureka-Arcata Sea Level Rise Project 1.0\", \"Basics\": \"Lead Agency\", \"Basic Values\": \"Caltrans\", \"Zero\": 0, \"Full Information\": \"Lead Agency: Caltrans\"}, {\"project_name\": \"Eureka Adaptive Signals Project\", \"Basics\": \"Lead Agency\", \"Basic Values\": \"Caltrans\", \"Zero\": 0, \"Full Information\": \"Lead Agency: Caltrans\"}, {\"project_name\": \"Koster Couplet (Shopp Project)\", \"Basics\": \"Lead Agency\", \"Basic Values\": \"Caltrans\", \"Zero\": 0, \"Full Information\": \"Lead Agency: Caltrans\"}, {\"project_name\": \"Equitable And Sustainable Public Transit Planning For Rural America\", \"Basics\": \"Lead Agency\", \"Basic Values\": \"Humboldt Transit Authority\", \"Zero\": 0, \"Full Information\": \"Lead Agency: Humboldt Transit Authority\"}, {\"project_name\": \"Broadway Middle Couplet\", \"Basics\": \"Lead Agency\", \"Basic Values\": \"Caltrans\", \"Zero\": 0, \"Full Information\": \"Lead Agency: Caltrans\"}, {\"project_name\": \"Eureka-Arcata Corridor Improvement\", \"Basics\": \"Lead Agency\", \"Basic Values\": \"Caltrans\", \"Zero\": 0, \"Full Information\": \"Lead Agency: Caltrans\"}, {\"project_name\": \"Alton Interchange\", \"Basics\": \"Lead Agency\", \"Basic Values\": \"Caltrans\", \"Zero\": 0, \"Full Information\": \"Lead Agency: Caltrans\"}, {\"project_name\": \"South Broadway Shared Path\", \"Basics\": \"Lead Agency\", \"Basic Values\": \"Caltrans\\nCity Of Eureka\", \"Zero\": 0, \"Full Information\": \"Lead Agency: Caltrans\\nCity Of Eureka\"}, {\"project_name\": \"Fish Passage Project (Shopp Project)\", \"Basics\": \"Lead Agency\", \"Basic Values\": \"Caltrans\", \"Zero\": 0, \"Full Information\": \"Lead Agency: Caltrans\"}, {\"project_name\": \"Annie & Mary Trail Phase 2\", \"Basics\": \"Lead Agency\", \"Basic Values\": \"Caltrans\", \"Zero\": 0, \"Full Information\": \"Lead Agency: Caltrans\"}, {\"project_name\": \"Willow Creek Charging Station (Shopp Project)\", \"Basics\": \"Lead Agency\", \"Basic Values\": \"Caltrans\", \"Zero\": 0, \"Full Information\": \"Lead Agency: Caltrans\"}, {\"project_name\": \"Crescent City Ada\", \"Basics\": \"District Full Name\", \"Basic Values\": \"01 - Eureka\", \"Zero\": 0, \"Full Information\": \"District Full Name: 01 - Eureka\"}, {\"project_name\": \"Connected Communities Plan Project\", \"Basics\": \"District Full Name\", \"Basic Values\": \"01 - Eureka\", \"Zero\": 0, \"Full Information\": \"District Full Name: 01 - Eureka\"}, {\"project_name\": \"Arcata Cap & Humboldt Area Rapid Transit\", \"Basics\": \"District Full Name\", \"Basic Values\": \"01 - Eureka\", \"Zero\": 0, \"Full Information\": \"District Full Name: 01 - Eureka\"}, {\"project_name\": \"Trinidad Rancheria Access Project\", \"Basics\": \"District Full Name\", \"Basic Values\": \"01 - Eureka\", \"Zero\": 0, \"Full Information\": \"District Full Name: 01 - Eureka\"}, {\"project_name\": \"Eureka-Arcata Sea Level Rise Project 1.0\", \"Basics\": \"District Full Name\", \"Basic Values\": \"01 - Eureka\", \"Zero\": 0, \"Full Information\": \"District Full Name: 01 - Eureka\"}, {\"project_name\": \"Eureka Adaptive Signals Project\", \"Basics\": \"District Full Name\", \"Basic Values\": \"01 - Eureka\", \"Zero\": 0, \"Full Information\": \"District Full Name: 01 - Eureka\"}, {\"project_name\": \"Koster Couplet (Shopp Project)\", \"Basics\": \"District Full Name\", \"Basic Values\": \"01 - Eureka\", \"Zero\": 0, \"Full Information\": \"District Full Name: 01 - Eureka\"}, {\"project_name\": \"Equitable And Sustainable Public Transit Planning For Rural America\", \"Basics\": \"District Full Name\", \"Basic Values\": \"01 - Eureka\", \"Zero\": 0, \"Full Information\": \"District Full Name: 01 - Eureka\"}, {\"project_name\": \"Broadway Middle Couplet\", \"Basics\": \"District Full Name\", \"Basic Values\": \"01 - Eureka\", \"Zero\": 0, \"Full Information\": \"District Full Name: 01 - Eureka\"}, {\"project_name\": \"Eureka-Arcata Corridor Improvement\", \"Basics\": \"District Full Name\", \"Basic Values\": \"01 - Eureka\", \"Zero\": 0, \"Full Information\": \"District Full Name: 01 - Eureka\"}, {\"project_name\": \"Alton Interchange\", \"Basics\": \"District Full Name\", \"Basic Values\": \"01 - Eureka\", \"Zero\": 0, \"Full Information\": \"District Full Name: 01 - Eureka\"}, {\"project_name\": \"South Broadway Shared Path\", \"Basics\": \"District Full Name\", \"Basic Values\": \"01 - Eureka\", \"Zero\": 0, \"Full Information\": \"District Full Name: 01 - Eureka\"}, {\"project_name\": \"Fish Passage Project (Shopp Project)\", \"Basics\": \"District Full Name\", \"Basic Values\": \"01 - Eureka\", \"Zero\": 0, \"Full Information\": \"District Full Name: 01 - Eureka\"}, {\"project_name\": \"Annie & Mary Trail Phase 2\", \"Basics\": \"District Full Name\", \"Basic Values\": \"01 - Eureka\", \"Zero\": 0, \"Full Information\": \"District Full Name: 01 - Eureka\"}, {\"project_name\": \"Willow Creek Charging Station (Shopp Project)\", \"Basics\": \"District Full Name\", \"Basic Values\": \"01 - Eureka\", \"Zero\": 0, \"Full Information\": \"District Full Name: 01 - Eureka\"}, {\"project_name\": \"Crescent City Ada\", \"Basics\": \"Primary Mode\", \"Basic Values\": \"Complete Streets\", \"Zero\": 0, \"Full Information\": \"Primary Mode: Complete Streets\"}, {\"project_name\": \"Connected Communities Plan Project\", \"Basics\": \"Primary Mode\", \"Basic Values\": \"Bike/Pedestrian\", \"Zero\": 0, \"Full Information\": \"Primary Mode: Bike/Pedestrian\"}, {\"project_name\": \"Arcata Cap & Humboldt Area Rapid Transit\", \"Basics\": \"Primary Mode\", \"Basic Values\": \"Transit\", \"Zero\": 0, \"Full Information\": \"Primary Mode: Transit\"}, {\"project_name\": \"Trinidad Rancheria Access Project\", \"Basics\": \"Primary Mode\", \"Basic Values\": \"Highway\", \"Zero\": 0, \"Full Information\": \"Primary Mode: Highway\"}, {\"project_name\": \"Eureka-Arcata Sea Level Rise Project 1.0\", \"Basics\": \"Primary Mode\", \"Basic Values\": \"Highway\", \"Zero\": 0, \"Full Information\": \"Primary Mode: Highway\"}, {\"project_name\": \"Eureka Adaptive Signals Project\", \"Basics\": \"Primary Mode\", \"Basic Values\": \"Its\", \"Zero\": 0, \"Full Information\": \"Primary Mode: Its\"}, {\"project_name\": \"Koster Couplet (Shopp Project)\", \"Basics\": \"Primary Mode\", \"Basic Values\": \"Complete Streets\", \"Zero\": 0, \"Full Information\": \"Primary Mode: Complete Streets\"}, {\"project_name\": \"Equitable And Sustainable Public Transit Planning For Rural America\", \"Basics\": \"Primary Mode\", \"Basic Values\": \"Transit\", \"Zero\": 0, \"Full Information\": \"Primary Mode: Transit\"}, {\"project_name\": \"Broadway Middle Couplet\", \"Basics\": \"Primary Mode\", \"Basic Values\": \"Complete Streets\", \"Zero\": 0, \"Full Information\": \"Primary Mode: Complete Streets\"}, {\"project_name\": \"Eureka-Arcata Corridor Improvement\", \"Basics\": \"Primary Mode\", \"Basic Values\": \"Highway\", \"Zero\": 0, \"Full Information\": \"Primary Mode: Highway\"}, {\"project_name\": \"Alton Interchange\", \"Basics\": \"Primary Mode\", \"Basic Values\": \"Interchange (New)\", \"Zero\": 0, \"Full Information\": \"Primary Mode: Interchange (New)\"}, {\"project_name\": \"South Broadway Shared Path\", \"Basics\": \"Primary Mode\", \"Basic Values\": \"Highway\", \"Zero\": 0, \"Full Information\": \"Primary Mode: Highway\"}, {\"project_name\": \"Fish Passage Project (Shopp Project)\", \"Basics\": \"Primary Mode\", \"Basic Values\": \"Bridge\", \"Zero\": 0, \"Full Information\": \"Primary Mode: Bridge\"}, {\"project_name\": \"Annie & Mary Trail Phase 2\", \"Basics\": \"Primary Mode\", \"Basic Values\": \"Bike/Pedestrian\", \"Zero\": 0, \"Full Information\": \"Primary Mode: Bike/Pedestrian\"}, {\"project_name\": \"Willow Creek Charging Station (Shopp Project)\", \"Basics\": \"Primary Mode\", \"Basic Values\": \"Zev\", \"Zero\": 0, \"Full Information\": \"Primary Mode: Zev\"}, {\"project_name\": \"Crescent City Ada\", \"Basics\": \"Secondary Mode S\", \"Basic Values\": \"Bike/Pedestrian\", \"Zero\": 0, \"Full Information\": \"Secondary Mode S: Bike/Pedestrian\"}, {\"project_name\": \"Connected Communities Plan Project\", \"Basics\": \"Secondary Mode S\", \"Basic Values\": \"None\", \"Zero\": 0, \"Full Information\": \"Secondary Mode S: None\"}, {\"project_name\": \"Arcata Cap & Humboldt Area Rapid Transit\", \"Basics\": \"Secondary Mode S\", \"Basic Values\": \"Highway\", \"Zero\": 0, \"Full Information\": \"Secondary Mode S: Highway\"}, {\"project_name\": \"Trinidad Rancheria Access Project\", \"Basics\": \"Secondary Mode S\", \"Basic Values\": \"None\", \"Zero\": 0, \"Full Information\": \"Secondary Mode S: None\"}, {\"project_name\": \"Eureka-Arcata Sea Level Rise Project 1.0\", \"Basics\": \"Secondary Mode S\", \"Basic Values\": \"Bike/Pedestrian\\nComplete Streets\", \"Zero\": 0, \"Full Information\": \"Secondary Mode S: Bike/Pedestrian\\nComplete Streets\"}, {\"project_name\": \"Eureka Adaptive Signals Project\", \"Basics\": \"Secondary Mode S\", \"Basic Values\": \"ITS\", \"Zero\": 0, \"Full Information\": \"Secondary Mode S: ITS\"}, {\"project_name\": \"Koster Couplet (Shopp Project)\", \"Basics\": \"Secondary Mode S\", \"Basic Values\": \"None\", \"Zero\": 0, \"Full Information\": \"Secondary Mode S: None\"}, {\"project_name\": \"Equitable And Sustainable Public Transit Planning For Rural America\", \"Basics\": \"Secondary Mode S\", \"Basic Values\": \"ZEV\", \"Zero\": 0, \"Full Information\": \"Secondary Mode S: ZEV\"}, {\"project_name\": \"Broadway Middle Couplet\", \"Basics\": \"Secondary Mode S\", \"Basic Values\": \"Bike/Pedestrian\", \"Zero\": 0, \"Full Information\": \"Secondary Mode S: Bike/Pedestrian\"}, {\"project_name\": \"Eureka-Arcata Corridor Improvement\", \"Basics\": \"Secondary Mode S\", \"Basic Values\": \"None\", \"Zero\": 0, \"Full Information\": \"Secondary Mode S: None\"}, {\"project_name\": \"Alton Interchange\", \"Basics\": \"Secondary Mode S\", \"Basic Values\": \"None\", \"Zero\": 0, \"Full Information\": \"Secondary Mode S: None\"}, {\"project_name\": \"South Broadway Shared Path\", \"Basics\": \"Secondary Mode S\", \"Basic Values\": \"Bike/Pedestrian\\nComplete Streets\", \"Zero\": 0, \"Full Information\": \"Secondary Mode S: Bike/Pedestrian\\nComplete Streets\"}, {\"project_name\": \"Fish Passage Project (Shopp Project)\", \"Basics\": \"Secondary Mode S\", \"Basic Values\": \"Bridge\", \"Zero\": 0, \"Full Information\": \"Secondary Mode S: Bridge\"}, {\"project_name\": \"Annie & Mary Trail Phase 2\", \"Basics\": \"Secondary Mode S\", \"Basic Values\": \"Complete Streets\", \"Zero\": 0, \"Full Information\": \"Secondary Mode S: Complete Streets\"}, {\"project_name\": \"Willow Creek Charging Station (Shopp Project)\", \"Basics\": \"Secondary Mode S\", \"Basic Values\": \"None\", \"Zero\": 0, \"Full Information\": \"Secondary Mode S: None\"}, {\"project_name\": \"Crescent City Ada\", \"Basics\": \"Urban Rural\", \"Basic Values\": \"Rural\", \"Zero\": 0, \"Full Information\": \"Urban Rural: Rural\"}, {\"project_name\": \"Connected Communities Plan Project\", \"Basics\": \"Urban Rural\", \"Basic Values\": \"Rural\", \"Zero\": 0, \"Full Information\": \"Urban Rural: Rural\"}, {\"project_name\": \"Arcata Cap & Humboldt Area Rapid Transit\", \"Basics\": \"Urban Rural\", \"Basic Values\": \"Rural\", \"Zero\": 0, \"Full Information\": \"Urban Rural: Rural\"}, {\"project_name\": \"Trinidad Rancheria Access Project\", \"Basics\": \"Urban Rural\", \"Basic Values\": \"None\", \"Zero\": 0, \"Full Information\": \"Urban Rural: None\"}, {\"project_name\": \"Eureka-Arcata Sea Level Rise Project 1.0\", \"Basics\": \"Urban Rural\", \"Basic Values\": \"Rural\", \"Zero\": 0, \"Full Information\": \"Urban Rural: Rural\"}, {\"project_name\": \"Eureka Adaptive Signals Project\", \"Basics\": \"Urban Rural\", \"Basic Values\": \"Rural\", \"Zero\": 0, \"Full Information\": \"Urban Rural: Rural\"}, {\"project_name\": \"Koster Couplet (Shopp Project)\", \"Basics\": \"Urban Rural\", \"Basic Values\": \"Rural\", \"Zero\": 0, \"Full Information\": \"Urban Rural: Rural\"}, {\"project_name\": \"Equitable And Sustainable Public Transit Planning For Rural America\", \"Basics\": \"Urban Rural\", \"Basic Values\": \"Rural\", \"Zero\": 0, \"Full Information\": \"Urban Rural: Rural\"}, {\"project_name\": \"Broadway Middle Couplet\", \"Basics\": \"Urban Rural\", \"Basic Values\": \"Urban\", \"Zero\": 0, \"Full Information\": \"Urban Rural: Urban\"}, {\"project_name\": \"Eureka-Arcata Corridor Improvement\", \"Basics\": \"Urban Rural\", \"Basic Values\": \"Rural\", \"Zero\": 0, \"Full Information\": \"Urban Rural: Rural\"}, {\"project_name\": \"Alton Interchange\", \"Basics\": \"Urban Rural\", \"Basic Values\": \"None\", \"Zero\": 0, \"Full Information\": \"Urban Rural: None\"}, {\"project_name\": \"South Broadway Shared Path\", \"Basics\": \"Urban Rural\", \"Basic Values\": \"None\", \"Zero\": 0, \"Full Information\": \"Urban Rural: None\"}, {\"project_name\": \"Fish Passage Project (Shopp Project)\", \"Basics\": \"Urban Rural\", \"Basic Values\": \"Rural\", \"Zero\": 0, \"Full Information\": \"Urban Rural: Rural\"}, {\"project_name\": \"Annie & Mary Trail Phase 2\", \"Basics\": \"Urban Rural\", \"Basic Values\": \"Rural\", \"Zero\": 0, \"Full Information\": \"Urban Rural: Rural\"}, {\"project_name\": \"Willow Creek Charging Station (Shopp Project)\", \"Basics\": \"Urban Rural\", \"Basic Values\": \"Rural\", \"Zero\": 0, \"Full Information\": \"Urban Rural: Rural\"}, {\"project_name\": \"Crescent City Ada\", \"Basics\": \"Urban Rural\", \"Basic Values\": \"Rural\", \"Zero\": 0, \"Full Information\": \"Urban Rural: Rural\"}, {\"project_name\": \"Connected Communities Plan Project\", \"Basics\": \"Urban Rural\", \"Basic Values\": \"Rural\", \"Zero\": 0, \"Full Information\": \"Urban Rural: Rural\"}, {\"project_name\": \"Arcata Cap & Humboldt Area Rapid Transit\", \"Basics\": \"Urban Rural\", \"Basic Values\": \"Rural\", \"Zero\": 0, \"Full Information\": \"Urban Rural: Rural\"}, {\"project_name\": \"Trinidad Rancheria Access Project\", \"Basics\": \"Urban Rural\", \"Basic Values\": \"None\", \"Zero\": 0, \"Full Information\": \"Urban Rural: None\"}, {\"project_name\": \"Eureka-Arcata Sea Level Rise Project 1.0\", \"Basics\": \"Urban Rural\", \"Basic Values\": \"Rural\", \"Zero\": 0, \"Full Information\": \"Urban Rural: Rural\"}, {\"project_name\": \"Eureka Adaptive Signals Project\", \"Basics\": \"Urban Rural\", \"Basic Values\": \"Rural\", \"Zero\": 0, \"Full Information\": \"Urban Rural: Rural\"}, {\"project_name\": \"Koster Couplet (Shopp Project)\", \"Basics\": \"Urban Rural\", \"Basic Values\": \"Rural\", \"Zero\": 0, \"Full Information\": \"Urban Rural: Rural\"}, {\"project_name\": \"Equitable And Sustainable Public Transit Planning For Rural America\", \"Basics\": \"Urban Rural\", \"Basic Values\": \"Rural\", \"Zero\": 0, \"Full Information\": \"Urban Rural: Rural\"}, {\"project_name\": \"Broadway Middle Couplet\", \"Basics\": \"Urban Rural\", \"Basic Values\": \"Urban\", \"Zero\": 0, \"Full Information\": \"Urban Rural: Urban\"}, {\"project_name\": \"Eureka-Arcata Corridor Improvement\", \"Basics\": \"Urban Rural\", \"Basic Values\": \"Rural\", \"Zero\": 0, \"Full Information\": \"Urban Rural: Rural\"}, {\"project_name\": \"Alton Interchange\", \"Basics\": \"Urban Rural\", \"Basic Values\": \"None\", \"Zero\": 0, \"Full Information\": \"Urban Rural: None\"}, {\"project_name\": \"South Broadway Shared Path\", \"Basics\": \"Urban Rural\", \"Basic Values\": \"None\", \"Zero\": 0, \"Full Information\": \"Urban Rural: None\"}, {\"project_name\": \"Fish Passage Project (Shopp Project)\", \"Basics\": \"Urban Rural\", \"Basic Values\": \"Rural\", \"Zero\": 0, \"Full Information\": \"Urban Rural: Rural\"}, {\"project_name\": \"Annie & Mary Trail Phase 2\", \"Basics\": \"Urban Rural\", \"Basic Values\": \"Rural\", \"Zero\": 0, \"Full Information\": \"Urban Rural: Rural\"}, {\"project_name\": \"Willow Creek Charging Station (Shopp Project)\", \"Basics\": \"Urban Rural\", \"Basic Values\": \"Rural\", \"Zero\": 0, \"Full Information\": \"Urban Rural: Rural\"}, {\"project_name\": \"Crescent City Ada\", \"Basics\": \"Current Phase\", \"Basic Values\": \"CLOSEOUT\", \"Zero\": 0, \"Full Information\": \"Current Phase: CLOSEOUT\"}, {\"project_name\": \"Connected Communities Plan Project\", \"Basics\": \"Current Phase\", \"Basic Values\": \"PLAN\", \"Zero\": 0, \"Full Information\": \"Current Phase: PLAN\"}, {\"project_name\": \"Arcata Cap & Humboldt Area Rapid Transit\", \"Basics\": \"Current Phase\", \"Basic Values\": \"PRE-PID\", \"Zero\": 0, \"Full Information\": \"Current Phase: PRE-PID\"}, {\"project_name\": \"Trinidad Rancheria Access Project\", \"Basics\": \"Current Phase\", \"Basic Values\": \"PID\", \"Zero\": 0, \"Full Information\": \"Current Phase: PID\"}, {\"project_name\": \"Eureka-Arcata Sea Level Rise Project 1.0\", \"Basics\": \"Current Phase\", \"Basic Values\": \"PID\", \"Zero\": 0, \"Full Information\": \"Current Phase: PID\"}, {\"project_name\": \"Eureka Adaptive Signals Project\", \"Basics\": \"Current Phase\", \"Basic Values\": \"PA&ED\", \"Zero\": 0, \"Full Information\": \"Current Phase: PA&ED\"}, {\"project_name\": \"Koster Couplet (Shopp Project)\", \"Basics\": \"Current Phase\", \"Basic Values\": \"REMOVE/END\", \"Zero\": 0, \"Full Information\": \"Current Phase: REMOVE/END\"}, {\"project_name\": \"Equitable And Sustainable Public Transit Planning For Rural America\", \"Basics\": \"Current Phase\", \"Basic Values\": \"PLAN\", \"Zero\": 0, \"Full Information\": \"Current Phase: PLAN\"}, {\"project_name\": \"Broadway Middle Couplet\", \"Basics\": \"Current Phase\", \"Basic Values\": \"CANDIDATE\", \"Zero\": 0, \"Full Information\": \"Current Phase: CANDIDATE\"}, {\"project_name\": \"Eureka-Arcata Corridor Improvement\", \"Basics\": \"Current Phase\", \"Basic Values\": \"ROW/CON\", \"Zero\": 0, \"Full Information\": \"Current Phase: ROW/CON\"}, {\"project_name\": \"Alton Interchange\", \"Basics\": \"Current Phase\", \"Basic Values\": \"OTHER\", \"Zero\": 0, \"Full Information\": \"Current Phase: OTHER\"}, {\"project_name\": \"South Broadway Shared Path\", \"Basics\": \"Current Phase\", \"Basic Values\": \"PID\", \"Zero\": 0, \"Full Information\": \"Current Phase: PID\"}, {\"project_name\": \"Fish Passage Project (Shopp Project)\", \"Basics\": \"Current Phase\", \"Basic Values\": \"PS&E/ROW\", \"Zero\": 0, \"Full Information\": \"Current Phase: PS&E/ROW\"}, {\"project_name\": \"Annie & Mary Trail Phase 2\", \"Basics\": \"Current Phase\", \"Basic Values\": \"PID\", \"Zero\": 0, \"Full Information\": \"Current Phase: PID\"}, {\"project_name\": \"Willow Creek Charging Station (Shopp Project)\", \"Basics\": \"Current Phase\", \"Basic Values\": \"CLOSEOUT\", \"Zero\": 0, \"Full Information\": \"Current Phase: CLOSEOUT\"}, {\"project_name\": \"Crescent City Ada\", \"Basics\": \"Route\", \"Basic Values\": null, \"Zero\": 0, \"Full Information\": \"Route: nan\"}, {\"project_name\": \"Connected Communities Plan Project\", \"Basics\": \"Route\", \"Basic Values\": null, \"Zero\": 0, \"Full Information\": \"Route: nan\"}, {\"project_name\": \"Arcata Cap & Humboldt Area Rapid Transit\", \"Basics\": \"Route\", \"Basic Values\": null, \"Zero\": 0, \"Full Information\": \"Route: nan\"}, {\"project_name\": \"Trinidad Rancheria Access Project\", \"Basics\": \"Route\", \"Basic Values\": null, \"Zero\": 0, \"Full Information\": \"Route: nan\"}, {\"project_name\": \"Eureka-Arcata Sea Level Rise Project 1.0\", \"Basics\": \"Route\", \"Basic Values\": null, \"Zero\": 0, \"Full Information\": \"Route: nan\"}, {\"project_name\": \"Eureka Adaptive Signals Project\", \"Basics\": \"Route\", \"Basic Values\": null, \"Zero\": 0, \"Full Information\": \"Route: nan\"}, {\"project_name\": \"Koster Couplet (Shopp Project)\", \"Basics\": \"Route\", \"Basic Values\": null, \"Zero\": 0, \"Full Information\": \"Route: nan\"}, {\"project_name\": \"Equitable And Sustainable Public Transit Planning For Rural America\", \"Basics\": \"Route\", \"Basic Values\": null, \"Zero\": 0, \"Full Information\": \"Route: nan\"}, {\"project_name\": \"Broadway Middle Couplet\", \"Basics\": \"Route\", \"Basic Values\": null, \"Zero\": 0, \"Full Information\": \"Route: nan\"}, {\"project_name\": \"Eureka-Arcata Corridor Improvement\", \"Basics\": \"Route\", \"Basic Values\": null, \"Zero\": 0, \"Full Information\": \"Route: nan\"}, {\"project_name\": \"Alton Interchange\", \"Basics\": \"Route\", \"Basic Values\": null, \"Zero\": 0, \"Full Information\": \"Route: nan\"}, {\"project_name\": \"South Broadway Shared Path\", \"Basics\": \"Route\", \"Basic Values\": null, \"Zero\": 0, \"Full Information\": \"Route: nan\"}, {\"project_name\": \"Fish Passage Project (Shopp Project)\", \"Basics\": \"Route\", \"Basic Values\": null, \"Zero\": 0, \"Full Information\": \"Route: nan\"}, {\"project_name\": \"Annie & Mary Trail Phase 2\", \"Basics\": \"Route\", \"Basic Values\": null, \"Zero\": 0, \"Full Information\": \"Route: nan\"}, {\"project_name\": \"Willow Creek Charging Station (Shopp Project)\", \"Basics\": \"Route\", \"Basic Values\": \"096\", \"Zero\": 0, \"Full Information\": \"Route: 096\"}, {\"project_name\": \"Alton Interchange\", \"Basics\": \"Project Name\", \"Basic Values\": \"Alton Interchange\", \"Zero\": 0, \"Full Information\": \"Project Name: Alton Interchange\"}, {\"project_name\": \"Annie & Mary Trail Phase 2\", \"Basics\": \"Project Name\", \"Basic Values\": \"Annie & Mary Trail Phase 2\", \"Zero\": 0, \"Full Information\": \"Project Name: Annie & Mary Trail Phase 2\"}, {\"project_name\": \"Arcata Cap & Humboldt Area Rapid Transit\", \"Basics\": \"Project Name\", \"Basic Values\": \"Arcata Cap & Humboldt Area Rapid Transit\", \"Zero\": 0, \"Full Information\": \"Project Name: Arcata Cap & Humboldt Area Rapid Transit\"}, {\"project_name\": \"Broadway Middle Couplet\", \"Basics\": \"Project Name\", \"Basic Values\": \"Broadway Middle Couplet\", \"Zero\": 0, \"Full Information\": \"Project Name: Broadway Middle Couplet\"}, {\"project_name\": \"Connected Communities Plan Project\", \"Basics\": \"Project Name\", \"Basic Values\": \"Connected Communities Plan Project\", \"Zero\": 0, \"Full Information\": \"Project Name: Connected Communities Plan Project\"}, {\"project_name\": \"Crescent City Ada\", \"Basics\": \"Project Name\", \"Basic Values\": \"Crescent City Ada\", \"Zero\": 0, \"Full Information\": \"Project Name: Crescent City Ada\"}, {\"project_name\": \"Equitable And Sustainable Public Transit Planning For Rural America\", \"Basics\": \"Project Name\", \"Basic Values\": \"Equitable And Sustainable Public Transit Planning For Rural America\", \"Zero\": 0, \"Full Information\": \"Project Name: Equitable And Sustainable Public Transit Planning For Rural America\"}, {\"project_name\": \"Eureka Adaptive Signals Project\", \"Basics\": \"Project Name\", \"Basic Values\": \"Eureka Adaptive Signals Project\", \"Zero\": 0, \"Full Information\": \"Project Name: Eureka Adaptive Signals Project\"}, {\"project_name\": \"Eureka-Arcata Corridor Improvement\", \"Basics\": \"Project Name\", \"Basic Values\": \"Eureka-Arcata Corridor Improvement\", \"Zero\": 0, \"Full Information\": \"Project Name: Eureka-Arcata Corridor Improvement\"}, {\"project_name\": \"Eureka-Arcata Sea Level Rise Project 1.0\", \"Basics\": \"Project Name\", \"Basic Values\": \"Eureka-Arcata Sea Level Rise Project 1.0\", \"Zero\": 0, \"Full Information\": \"Project Name: Eureka-Arcata Sea Level Rise Project 1.0\"}, {\"project_name\": \"Fish Passage Project (Shopp Project)\", \"Basics\": \"Project Name\", \"Basic Values\": \"Fish Passage Project (Shopp Project)\", \"Zero\": 0, \"Full Information\": \"Project Name: Fish Passage Project (Shopp Project)\"}, {\"project_name\": \"Koster Couplet (Shopp Project)\", \"Basics\": \"Project Name\", \"Basic Values\": \"Koster Couplet (Shopp Project)\", \"Zero\": 0, \"Full Information\": \"Project Name: Koster Couplet (Shopp Project)\"}, {\"project_name\": \"South Broadway Shared Path\", \"Basics\": \"Project Name\", \"Basic Values\": \"South Broadway Shared Path\", \"Zero\": 0, \"Full Information\": \"Project Name: South Broadway Shared Path\"}, {\"project_name\": \"Trinidad Rancheria Access Project\", \"Basics\": \"Project Name\", \"Basic Values\": \"Trinidad Rancheria Access Project\", \"Zero\": 0, \"Full Information\": \"Project Name: Trinidad Rancheria Access Project\"}, {\"project_name\": \"Willow Creek Charging Station (Shopp Project)\", \"Basics\": \"Project Name\", \"Basic Values\": \"Willow Creek Charging Station (Shopp Project)\", \"Zero\": 0, \"Full Information\": \"Project Name: Willow Creek Charging Station (Shopp Project)\"}], \"data-28aa709d75ee20ae6be9aa1761ccd076\": [{\"project_name\": \"Crescent City Ada\", \"Monetary Category\": \"Total Project Cost  $1,000\", \"Monetary Values\": 4100, \"Monetary Values $\": \"$4,100.00\"}, {\"project_name\": \"Connected Communities Plan Project\", \"Monetary Category\": \"Total Project Cost  $1,000\", \"Monetary Values\": 150, \"Monetary Values $\": \"$150.00\"}, {\"project_name\": \"Arcata Cap & Humboldt Area Rapid Transit\", \"Monetary Category\": \"Total Project Cost  $1,000\", \"Monetary Values\": 888888, \"Monetary Values $\": \"$888,888.00\"}, {\"project_name\": \"Trinidad Rancheria Access Project\", \"Monetary Category\": \"Total Project Cost  $1,000\", \"Monetary Values\": 5071, \"Monetary Values $\": \"$5,071.00\"}, {\"project_name\": \"Eureka-Arcata Sea Level Rise Project 1.0\", \"Monetary Category\": \"Total Project Cost  $1,000\", \"Monetary Values\": 119575, \"Monetary Values $\": \"$119,575.00\"}, {\"project_name\": \"Eureka Adaptive Signals Project\", \"Monetary Category\": \"Total Project Cost  $1,000\", \"Monetary Values\": 1500, \"Monetary Values $\": \"$1,500.00\"}, {\"project_name\": \"Koster Couplet (Shopp Project)\", \"Monetary Category\": \"Total Project Cost  $1,000\", \"Monetary Values\": 62500, \"Monetary Values $\": \"$62,500.00\"}, {\"project_name\": \"Equitable And Sustainable Public Transit Planning For Rural America\", \"Monetary Category\": \"Total Project Cost  $1,000\", \"Monetary Values\": 3000, \"Monetary Values $\": \"$3,000.00\"}, {\"project_name\": \"Broadway Middle Couplet\", \"Monetary Category\": \"Total Project Cost  $1,000\", \"Monetary Values\": 90457, \"Monetary Values $\": \"$90,457.00\"}, {\"project_name\": \"Eureka-Arcata Corridor Improvement\", \"Monetary Category\": \"Total Project Cost  $1,000\", \"Monetary Values\": 70179, \"Monetary Values $\": \"$70,179.00\"}, {\"project_name\": \"Alton Interchange\", \"Monetary Category\": \"Total Project Cost  $1,000\", \"Monetary Values\": 38454, \"Monetary Values $\": \"$38,454.00\"}, {\"project_name\": \"South Broadway Shared Path\", \"Monetary Category\": \"Total Project Cost  $1,000\", \"Monetary Values\": 11527, \"Monetary Values $\": \"$11,527.00\"}, {\"project_name\": \"Fish Passage Project (Shopp Project)\", \"Monetary Category\": \"Total Project Cost  $1,000\", \"Monetary Values\": 27300, \"Monetary Values $\": \"$27,300.00\"}, {\"project_name\": \"Annie & Mary Trail Phase 2\", \"Monetary Category\": \"Total Project Cost  $1,000\", \"Monetary Values\": 6142, \"Monetary Values $\": \"$6,142.00\"}, {\"project_name\": \"Willow Creek Charging Station (Shopp Project)\", \"Monetary Category\": \"Total Project Cost  $1,000\", \"Monetary Values\": 1200, \"Monetary Values $\": \"$1,200.00\"}, {\"project_name\": \"Crescent City Ada\", \"Monetary Category\": \"Pa Ed Cost  $1,000\", \"Monetary Values\": 0, \"Monetary Values $\": \"$0.00\"}, {\"project_name\": \"Connected Communities Plan Project\", \"Monetary Category\": \"Pa Ed Cost  $1,000\", \"Monetary Values\": 0, \"Monetary Values $\": \"$0.00\"}, {\"project_name\": \"Arcata Cap & Humboldt Area Rapid Transit\", \"Monetary Category\": \"Pa Ed Cost  $1,000\", \"Monetary Values\": 0, \"Monetary Values $\": \"$0.00\"}, {\"project_name\": \"Trinidad Rancheria Access Project\", \"Monetary Category\": \"Pa Ed Cost  $1,000\", \"Monetary Values\": 0, \"Monetary Values $\": \"$0.00\"}, {\"project_name\": \"Eureka-Arcata Sea Level Rise Project 1.0\", \"Monetary Category\": \"Pa Ed Cost  $1,000\", \"Monetary Values\": 0, \"Monetary Values $\": \"$0.00\"}, {\"project_name\": \"Eureka Adaptive Signals Project\", \"Monetary Category\": \"Pa Ed Cost  $1,000\", \"Monetary Values\": 0, \"Monetary Values $\": \"$0.00\"}, {\"project_name\": \"Koster Couplet (Shopp Project)\", \"Monetary Category\": \"Pa Ed Cost  $1,000\", \"Monetary Values\": 0, \"Monetary Values $\": \"$0.00\"}, {\"project_name\": \"Equitable And Sustainable Public Transit Planning For Rural America\", \"Monetary Category\": \"Pa Ed Cost  $1,000\", \"Monetary Values\": 0, \"Monetary Values $\": \"$0.00\"}, {\"project_name\": \"Broadway Middle Couplet\", \"Monetary Category\": \"Pa Ed Cost  $1,000\", \"Monetary Values\": 0, \"Monetary Values $\": \"$0.00\"}, {\"project_name\": \"Eureka-Arcata Corridor Improvement\", \"Monetary Category\": \"Pa Ed Cost  $1,000\", \"Monetary Values\": 0, \"Monetary Values $\": \"$0.00\"}, {\"project_name\": \"Alton Interchange\", \"Monetary Category\": \"Pa Ed Cost  $1,000\", \"Monetary Values\": 0, \"Monetary Values $\": \"$0.00\"}, {\"project_name\": \"South Broadway Shared Path\", \"Monetary Category\": \"Pa Ed Cost  $1,000\", \"Monetary Values\": 0, \"Monetary Values $\": \"$0.00\"}, {\"project_name\": \"Fish Passage Project (Shopp Project)\", \"Monetary Category\": \"Pa Ed Cost  $1,000\", \"Monetary Values\": 0, \"Monetary Values $\": \"$0.00\"}, {\"project_name\": \"Annie & Mary Trail Phase 2\", \"Monetary Category\": \"Pa Ed Cost  $1,000\", \"Monetary Values\": 920, \"Monetary Values $\": \"$920.00\"}, {\"project_name\": \"Willow Creek Charging Station (Shopp Project)\", \"Monetary Category\": \"Pa Ed Cost  $1,000\", \"Monetary Values\": 0, \"Monetary Values $\": \"$0.00\"}, {\"project_name\": \"Crescent City Ada\", \"Monetary Category\": \"Ps E Cost  $1,000\", \"Monetary Values\": 0, \"Monetary Values $\": \"$0.00\"}, {\"project_name\": \"Connected Communities Plan Project\", \"Monetary Category\": \"Ps E Cost  $1,000\", \"Monetary Values\": 0, \"Monetary Values $\": \"$0.00\"}, {\"project_name\": \"Arcata Cap & Humboldt Area Rapid Transit\", \"Monetary Category\": \"Ps E Cost  $1,000\", \"Monetary Values\": 0, \"Monetary Values $\": \"$0.00\"}, {\"project_name\": \"Trinidad Rancheria Access Project\", \"Monetary Category\": \"Ps E Cost  $1,000\", \"Monetary Values\": 0, \"Monetary Values $\": \"$0.00\"}, {\"project_name\": \"Eureka-Arcata Sea Level Rise Project 1.0\", \"Monetary Category\": \"Ps E Cost  $1,000\", \"Monetary Values\": 0, \"Monetary Values $\": \"$0.00\"}, {\"project_name\": \"Eureka Adaptive Signals Project\", \"Monetary Category\": \"Ps E Cost  $1,000\", \"Monetary Values\": 0, \"Monetary Values $\": \"$0.00\"}, {\"project_name\": \"Koster Couplet (Shopp Project)\", \"Monetary Category\": \"Ps E Cost  $1,000\", \"Monetary Values\": 0, \"Monetary Values $\": \"$0.00\"}, {\"project_name\": \"Equitable And Sustainable Public Transit Planning For Rural America\", \"Monetary Category\": \"Ps E Cost  $1,000\", \"Monetary Values\": 0, \"Monetary Values $\": \"$0.00\"}, {\"project_name\": \"Broadway Middle Couplet\", \"Monetary Category\": \"Ps E Cost  $1,000\", \"Monetary Values\": 0, \"Monetary Values $\": \"$0.00\"}, {\"project_name\": \"Eureka-Arcata Corridor Improvement\", \"Monetary Category\": \"Ps E Cost  $1,000\", \"Monetary Values\": 0, \"Monetary Values $\": \"$0.00\"}, {\"project_name\": \"Alton Interchange\", \"Monetary Category\": \"Ps E Cost  $1,000\", \"Monetary Values\": 0, \"Monetary Values $\": \"$0.00\"}, {\"project_name\": \"South Broadway Shared Path\", \"Monetary Category\": \"Ps E Cost  $1,000\", \"Monetary Values\": 0, \"Monetary Values $\": \"$0.00\"}, {\"project_name\": \"Fish Passage Project (Shopp Project)\", \"Monetary Category\": \"Ps E Cost  $1,000\", \"Monetary Values\": 0, \"Monetary Values $\": \"$0.00\"}, {\"project_name\": \"Annie & Mary Trail Phase 2\", \"Monetary Category\": \"Ps E Cost  $1,000\", \"Monetary Values\": 614, \"Monetary Values $\": \"$614.00\"}, {\"project_name\": \"Willow Creek Charging Station (Shopp Project)\", \"Monetary Category\": \"Ps E Cost  $1,000\", \"Monetary Values\": 0, \"Monetary Values $\": \"$0.00\"}, {\"project_name\": \"Crescent City Ada\", \"Monetary Category\": \"Row Cost  $1,000\", \"Monetary Values\": 0, \"Monetary Values $\": \"$0.00\"}, {\"project_name\": \"Connected Communities Plan Project\", \"Monetary Category\": \"Row Cost  $1,000\", \"Monetary Values\": 0, \"Monetary Values $\": \"$0.00\"}, {\"project_name\": \"Arcata Cap & Humboldt Area Rapid Transit\", \"Monetary Category\": \"Row Cost  $1,000\", \"Monetary Values\": 0, \"Monetary Values $\": \"$0.00\"}, {\"project_name\": \"Trinidad Rancheria Access Project\", \"Monetary Category\": \"Row Cost  $1,000\", \"Monetary Values\": 0, \"Monetary Values $\": \"$0.00\"}, {\"project_name\": \"Eureka-Arcata Sea Level Rise Project 1.0\", \"Monetary Category\": \"Row Cost  $1,000\", \"Monetary Values\": 0, \"Monetary Values $\": \"$0.00\"}, {\"project_name\": \"Eureka Adaptive Signals Project\", \"Monetary Category\": \"Row Cost  $1,000\", \"Monetary Values\": 0, \"Monetary Values $\": \"$0.00\"}, {\"project_name\": \"Koster Couplet (Shopp Project)\", \"Monetary Category\": \"Row Cost  $1,000\", \"Monetary Values\": 0, \"Monetary Values $\": \"$0.00\"}, {\"project_name\": \"Equitable And Sustainable Public Transit Planning For Rural America\", \"Monetary Category\": \"Row Cost  $1,000\", \"Monetary Values\": 0, \"Monetary Values $\": \"$0.00\"}, {\"project_name\": \"Broadway Middle Couplet\", \"Monetary Category\": \"Row Cost  $1,000\", \"Monetary Values\": 0, \"Monetary Values $\": \"$0.00\"}, {\"project_name\": \"Eureka-Arcata Corridor Improvement\", \"Monetary Category\": \"Row Cost  $1,000\", \"Monetary Values\": 0, \"Monetary Values $\": \"$0.00\"}, {\"project_name\": \"Alton Interchange\", \"Monetary Category\": \"Row Cost  $1,000\", \"Monetary Values\": 0, \"Monetary Values $\": \"$0.00\"}, {\"project_name\": \"South Broadway Shared Path\", \"Monetary Category\": \"Row Cost  $1,000\", \"Monetary Values\": 0, \"Monetary Values $\": \"$0.00\"}, {\"project_name\": \"Fish Passage Project (Shopp Project)\", \"Monetary Category\": \"Row Cost  $1,000\", \"Monetary Values\": 0, \"Monetary Values $\": \"$0.00\"}, {\"project_name\": \"Annie & Mary Trail Phase 2\", \"Monetary Category\": \"Row Cost  $1,000\", \"Monetary Values\": 200, \"Monetary Values $\": \"$200.00\"}, {\"project_name\": \"Willow Creek Charging Station (Shopp Project)\", \"Monetary Category\": \"Row Cost  $1,000\", \"Monetary Values\": 0, \"Monetary Values $\": \"$0.00\"}, {\"project_name\": \"Crescent City Ada\", \"Monetary Category\": \"Con Cost  $1,000\", \"Monetary Values\": 0, \"Monetary Values $\": \"$0.00\"}, {\"project_name\": \"Connected Communities Plan Project\", \"Monetary Category\": \"Con Cost  $1,000\", \"Monetary Values\": 0, \"Monetary Values $\": \"$0.00\"}, {\"project_name\": \"Arcata Cap & Humboldt Area Rapid Transit\", \"Monetary Category\": \"Con Cost  $1,000\", \"Monetary Values\": 0, \"Monetary Values $\": \"$0.00\"}, {\"project_name\": \"Trinidad Rancheria Access Project\", \"Monetary Category\": \"Con Cost  $1,000\", \"Monetary Values\": 0, \"Monetary Values $\": \"$0.00\"}, {\"project_name\": \"Eureka-Arcata Sea Level Rise Project 1.0\", \"Monetary Category\": \"Con Cost  $1,000\", \"Monetary Values\": 0, \"Monetary Values $\": \"$0.00\"}, {\"project_name\": \"Eureka Adaptive Signals Project\", \"Monetary Category\": \"Con Cost  $1,000\", \"Monetary Values\": 0, \"Monetary Values $\": \"$0.00\"}, {\"project_name\": \"Koster Couplet (Shopp Project)\", \"Monetary Category\": \"Con Cost  $1,000\", \"Monetary Values\": 0, \"Monetary Values $\": \"$0.00\"}, {\"project_name\": \"Equitable And Sustainable Public Transit Planning For Rural America\", \"Monetary Category\": \"Con Cost  $1,000\", \"Monetary Values\": 0, \"Monetary Values $\": \"$0.00\"}, {\"project_name\": \"Broadway Middle Couplet\", \"Monetary Category\": \"Con Cost  $1,000\", \"Monetary Values\": 0, \"Monetary Values $\": \"$0.00\"}, {\"project_name\": \"Eureka-Arcata Corridor Improvement\", \"Monetary Category\": \"Con Cost  $1,000\", \"Monetary Values\": 0, \"Monetary Values $\": \"$0.00\"}, {\"project_name\": \"Alton Interchange\", \"Monetary Category\": \"Con Cost  $1,000\", \"Monetary Values\": 0, \"Monetary Values $\": \"$0.00\"}, {\"project_name\": \"South Broadway Shared Path\", \"Monetary Category\": \"Con Cost  $1,000\", \"Monetary Values\": 0, \"Monetary Values $\": \"$0.00\"}, {\"project_name\": \"Fish Passage Project (Shopp Project)\", \"Monetary Category\": \"Con Cost  $1,000\", \"Monetary Values\": 0, \"Monetary Values $\": \"$0.00\"}, {\"project_name\": \"Annie & Mary Trail Phase 2\", \"Monetary Category\": \"Con Cost  $1,000\", \"Monetary Values\": 6140, \"Monetary Values $\": \"$6,140.00\"}, {\"project_name\": \"Willow Creek Charging Station (Shopp Project)\", \"Monetary Category\": \"Con Cost  $1,000\", \"Monetary Values\": 0, \"Monetary Values $\": \"$0.00\"}, {\"project_name\": \"Crescent City Ada\", \"Monetary Category\": \"Non Infrastructure   Plan Cost  $1,000\", \"Monetary Values\": 0, \"Monetary Values $\": \"$0.00\"}, {\"project_name\": \"Connected Communities Plan Project\", \"Monetary Category\": \"Non Infrastructure   Plan Cost  $1,000\", \"Monetary Values\": 0, \"Monetary Values $\": \"$0.00\"}, {\"project_name\": \"Arcata Cap & Humboldt Area Rapid Transit\", \"Monetary Category\": \"Non Infrastructure   Plan Cost  $1,000\", \"Monetary Values\": 500, \"Monetary Values $\": \"$500.00\"}, {\"project_name\": \"Trinidad Rancheria Access Project\", \"Monetary Category\": \"Non Infrastructure   Plan Cost  $1,000\", \"Monetary Values\": 0, \"Monetary Values $\": \"$0.00\"}, {\"project_name\": \"Eureka-Arcata Sea Level Rise Project 1.0\", \"Monetary Category\": \"Non Infrastructure   Plan Cost  $1,000\", \"Monetary Values\": 0, \"Monetary Values $\": \"$0.00\"}, {\"project_name\": \"Eureka Adaptive Signals Project\", \"Monetary Category\": \"Non Infrastructure   Plan Cost  $1,000\", \"Monetary Values\": 0, \"Monetary Values $\": \"$0.00\"}, {\"project_name\": \"Koster Couplet (Shopp Project)\", \"Monetary Category\": \"Non Infrastructure   Plan Cost  $1,000\", \"Monetary Values\": 0, \"Monetary Values $\": \"$0.00\"}, {\"project_name\": \"Equitable And Sustainable Public Transit Planning For Rural America\", \"Monetary Category\": \"Non Infrastructure   Plan Cost  $1,000\", \"Monetary Values\": 0, \"Monetary Values $\": \"$0.00\"}, {\"project_name\": \"Broadway Middle Couplet\", \"Monetary Category\": \"Non Infrastructure   Plan Cost  $1,000\", \"Monetary Values\": 0, \"Monetary Values $\": \"$0.00\"}, {\"project_name\": \"Eureka-Arcata Corridor Improvement\", \"Monetary Category\": \"Non Infrastructure   Plan Cost  $1,000\", \"Monetary Values\": 0, \"Monetary Values $\": \"$0.00\"}, {\"project_name\": \"Alton Interchange\", \"Monetary Category\": \"Non Infrastructure   Plan Cost  $1,000\", \"Monetary Values\": 0, \"Monetary Values $\": \"$0.00\"}, {\"project_name\": \"South Broadway Shared Path\", \"Monetary Category\": \"Non Infrastructure   Plan Cost  $1,000\", \"Monetary Values\": 0, \"Monetary Values $\": \"$0.00\"}, {\"project_name\": \"Fish Passage Project (Shopp Project)\", \"Monetary Category\": \"Non Infrastructure   Plan Cost  $1,000\", \"Monetary Values\": 0, \"Monetary Values $\": \"$0.00\"}, {\"project_name\": \"Annie & Mary Trail Phase 2\", \"Monetary Category\": \"Non Infrastructure   Plan Cost  $1,000\", \"Monetary Values\": 0, \"Monetary Values $\": \"$0.00\"}, {\"project_name\": \"Willow Creek Charging Station (Shopp Project)\", \"Monetary Category\": \"Non Infrastructure   Plan Cost  $1,000\", \"Monetary Values\": 0, \"Monetary Values $\": \"$0.00\"}, {\"project_name\": \"Crescent City Ada\", \"Monetary Category\": \"Total Unfunded Need  $1,000\", \"Monetary Values\": 0, \"Monetary Values $\": \"$0.00\"}, {\"project_name\": \"Connected Communities Plan Project\", \"Monetary Category\": \"Total Unfunded Need  $1,000\", \"Monetary Values\": 0, \"Monetary Values $\": \"$0.00\"}, {\"project_name\": \"Arcata Cap & Humboldt Area Rapid Transit\", \"Monetary Category\": \"Total Unfunded Need  $1,000\", \"Monetary Values\": 0, \"Monetary Values $\": \"$0.00\"}, {\"project_name\": \"Trinidad Rancheria Access Project\", \"Monetary Category\": \"Total Unfunded Need  $1,000\", \"Monetary Values\": 0, \"Monetary Values $\": \"$0.00\"}, {\"project_name\": \"Eureka-Arcata Sea Level Rise Project 1.0\", \"Monetary Category\": \"Total Unfunded Need  $1,000\", \"Monetary Values\": 0, \"Monetary Values $\": \"$0.00\"}, {\"project_name\": \"Eureka Adaptive Signals Project\", \"Monetary Category\": \"Total Unfunded Need  $1,000\", \"Monetary Values\": 0, \"Monetary Values $\": \"$0.00\"}, {\"project_name\": \"Koster Couplet (Shopp Project)\", \"Monetary Category\": \"Total Unfunded Need  $1,000\", \"Monetary Values\": 0, \"Monetary Values $\": \"$0.00\"}, {\"project_name\": \"Equitable And Sustainable Public Transit Planning For Rural America\", \"Monetary Category\": \"Total Unfunded Need  $1,000\", \"Monetary Values\": 0, \"Monetary Values $\": \"$0.00\"}, {\"project_name\": \"Broadway Middle Couplet\", \"Monetary Category\": \"Total Unfunded Need  $1,000\", \"Monetary Values\": 0, \"Monetary Values $\": \"$0.00\"}, {\"project_name\": \"Eureka-Arcata Corridor Improvement\", \"Monetary Category\": \"Total Unfunded Need  $1,000\", \"Monetary Values\": 0, \"Monetary Values $\": \"$0.00\"}, {\"project_name\": \"Alton Interchange\", \"Monetary Category\": \"Total Unfunded Need  $1,000\", \"Monetary Values\": 0, \"Monetary Values $\": \"$0.00\"}, {\"project_name\": \"South Broadway Shared Path\", \"Monetary Category\": \"Total Unfunded Need  $1,000\", \"Monetary Values\": 0, \"Monetary Values $\": \"$0.00\"}, {\"project_name\": \"Fish Passage Project (Shopp Project)\", \"Monetary Category\": \"Total Unfunded Need  $1,000\", \"Monetary Values\": 0, \"Monetary Values $\": \"$0.00\"}, {\"project_name\": \"Annie & Mary Trail Phase 2\", \"Monetary Category\": \"Total Unfunded Need  $1,000\", \"Monetary Values\": 0, \"Monetary Values $\": \"$0.00\"}, {\"project_name\": \"Willow Creek Charging Station (Shopp Project)\", \"Monetary Category\": \"Total Unfunded Need  $1,000\", \"Monetary Values\": 0, \"Monetary Values $\": \"$0.00\"}], \"data-95bae13649634ff50fedf97311981b6d\": [{\"project_name\": \"Crescent City Ada\", \"project_description\": \"Traffic calming, non-motorized and multi-modal improvements. Enhance safety for pedestrians and non-motorized vehicles\", \"csis\": \"Mode Shift  Csis\", \"csis values\": 0}, {\"project_name\": \"Connected Communities Plan Project\", \"project_description\": \"Provide a vision for a balanced, accessible multi-modal transportation network through the heart of the Tolowa Dee-ni\\u2019 Nation. Develop a multi-use separated path paralleling US 101 to connect active transportation users to various Tribal destinations. Safety measures including traffic calming and street lighting will be incorporated.\", \"csis\": \"Mode Shift  Csis\", \"csis values\": 0}, {\"project_name\": \"Arcata Cap & Humboldt Area Rapid Transit\", \"project_description\": \"The proposed feasibility study includes two distinct efforts\\u2014to restore community connectivity through a freeway cap and to improve peoples\\u2019 lives with high-quality bus rapid transit. \\nA portion of US 101 between 14th Street and Sunset Avenue in Arcata will be studied for the feasibility of an approximately 5-acre freeway cap, which will increase affordable, accessible, multimodal access to daily destinations like jobs, higher education, health care, grocery stores, recreation, and park space. The feasibility study will include a robust public engagement process, generate community-driven urban design alternatives, analyze structural engineering considerations, and identify active transportation and transit connections to the local road network. \\n\\nThe feasibility of bus rapid transit serving Humboldt Bay area, eastern Humboldt County, and Del Norte County will be studied, with the intent of reconnecting rural tribal communities to jobs, education, and healthcare in the Humboldt Bay area as well as encouraging increased transit ridership for daily transportation needs throughout the service area. The study will seek to understand the feasibility of funding construction and operating costs; potential benefits such as increased ridership, safety, and travel time savings; and impacts to equity priority populations. The study will make recommendations for routes and stations, frequency of service and operating times, supporting infrastructure such as transit-priority signals and transit-only lanes, and implementation strategies.\", \"csis\": \"Mode Shift  Csis\", \"csis values\": 4}, {\"project_name\": \"Trinidad Rancheria Access Project\", \"project_description\": \"Kim Floyd 707 441-5739\\u00a0 In Hum Co in and near Trinidad from Sixth Street OC #4-57 to Trinidad Rd UC #4-58\", \"csis\": \"Mode Shift  Csis\", \"csis values\": 0}, {\"project_name\": \"Eureka-Arcata Sea Level Rise Project 1.0\", \"project_description\": \"This project is located in Humboldt County along US-101, between the incorporated communities of Eureka and Arcata. This Segment of US-101 is commonly referred to as the Eureka/Arcata corridor and follows the shoreline of Humboldt Bay. Much of the corridor is low lying with an elevation near 10.0 feet (+/-).  Projected sea level rise indicate over-topping events and inundation could occur as soon as 2030.\\nThis project proposes to raise the roadway fill prisms to a minimum elevation of 13-feet to ensure the corridor maintains climate resiliency in regards to rising sea levels. As the roadway prisms are  elevated, opposing directions of travel will be constructed closer together. This design approach aims to minimize negative environmental impacts and right of way acquisition (if any), by staying within the existing right of way.\", \"csis\": \"Mode Shift  Csis\", \"csis values\": 2}, {\"project_name\": \"Eureka Adaptive Signals Project\", \"project_description\": \"Adaptive signal/Improve safety and efficiency\", \"csis\": \"Mode Shift  Csis\", \"csis values\": 0}, {\"project_name\": \"Koster Couplet (Shopp Project)\", \"project_description\": \"US 101 Couplet for Safety, Livability, and Sustainability. Add three lanes of travel for vehicle operations with two lanes southbound using Koster Street and one additional lane northbound for one alternative. Traffic Calming features include adding Class II bike lanes, widen sidewalks, add parking, and other complete streets features.\", \"csis\": \"Mode Shift  Csis\", \"csis values\": 0}, {\"project_name\": \"Equitable And Sustainable Public Transit Planning For Rural America\", \"project_description\": \"Phase 1: Planning for a zero-emission fleet across existing local transit systems (including Tribal systems) within the County, exploring both electrification and hydrogen options as well as planning for and designing a new transit center, and fueling infrastructure to support the transition.\\nPhase 2: Expand local transit services\\nPhase 3: Conduct a nationwide survey of rural transit operators to obtain insight into the potential market for hydrogen or electric vehicles optimized for rural travel (long range and difficult terrain).\", \"csis\": \"Mode Shift  Csis\", \"csis values\": 0}, {\"project_name\": \"Broadway Middle Couplet\", \"project_description\": \"New southbound alignment to improve multimodal facilities including Class IV bike separated bikeways and transit lanes. Rural main street; serves low-income residents.\", \"csis\": \"Mode Shift  Csis\", \"csis values\": 0}, {\"project_name\": \"Eureka-Arcata Corridor Improvement\", \"project_description\": \"From Eureka Slough Bridge to Route 101/255 separation, upgrade 4 lane facility.\", \"csis\": \"Mode Shift  Csis\", \"csis values\": 0}, {\"project_name\": \"Alton Interchange\", \"project_description\": \"Rte 36 from 0.5 km W of Main St to Main St  In Hum Co near Alton on Rte 101 from Van Duzen River Bridge to 0.6 km N of Drake Hill Rd and on\", \"csis\": \"Mode Shift  Csis\", \"csis values\": 0}, {\"project_name\": \"South Broadway Shared Path\", \"project_description\": \"Add Class I and Class IV bike facilities to Broadway in Eureka\", \"csis\": \"Mode Shift  Csis\", \"csis values\": 0}, {\"project_name\": \"Fish Passage Project (Shopp Project)\", \"project_description\": \"In Humboldt County near Phillipsville at 3.3 miles north of Ohman Creek Bridge. Replace box culvert with bridge at Fish Creek.\", \"csis\": \"Mode Shift  Csis\", \"csis values\": 0}, {\"project_name\": \"Annie & Mary Trail Phase 2\", \"project_description\": \"On Glendale Drive at State Route 299 off/onramp to westbound SR 299 from PM 4.04 to PM 5.43, connect to North Coast Railroad Authority (NCRA) rail corridor, and end project at Chartin Road/Railroad Avenue in the City of Blue Lake. Construct 1.7-miles of Class I bikeway, mark two (2) unmarked crosswalks, and install two (2) speed humps to provide a new non-motorized connection along State Route 299 between the City of Blue Lake and the unincorporated community of Glendale.\", \"csis\": \"Mode Shift  Csis\", \"csis values\": 5}, {\"project_name\": \"Willow Creek Charging Station (Shopp Project)\", \"project_description\": \"Install zero emission charging station\", \"csis\": \"Mode Shift  Csis\", \"csis values\": 0}, {\"project_name\": \"Crescent City Ada\", \"project_description\": \"Traffic calming, non-motorized and multi-modal improvements. Enhance safety for pedestrians and non-motorized vehicles\", \"csis\": \"Vmt  Csis\", \"csis values\": 0}, {\"project_name\": \"Connected Communities Plan Project\", \"project_description\": \"Provide a vision for a balanced, accessible multi-modal transportation network through the heart of the Tolowa Dee-ni\\u2019 Nation. Develop a multi-use separated path paralleling US 101 to connect active transportation users to various Tribal destinations. Safety measures including traffic calming and street lighting will be incorporated.\", \"csis\": \"Vmt  Csis\", \"csis values\": 0}, {\"project_name\": \"Arcata Cap & Humboldt Area Rapid Transit\", \"project_description\": \"The proposed feasibility study includes two distinct efforts\\u2014to restore community connectivity through a freeway cap and to improve peoples\\u2019 lives with high-quality bus rapid transit. \\nA portion of US 101 between 14th Street and Sunset Avenue in Arcata will be studied for the feasibility of an approximately 5-acre freeway cap, which will increase affordable, accessible, multimodal access to daily destinations like jobs, higher education, health care, grocery stores, recreation, and park space. The feasibility study will include a robust public engagement process, generate community-driven urban design alternatives, analyze structural engineering considerations, and identify active transportation and transit connections to the local road network. \\n\\nThe feasibility of bus rapid transit serving Humboldt Bay area, eastern Humboldt County, and Del Norte County will be studied, with the intent of reconnecting rural tribal communities to jobs, education, and healthcare in the Humboldt Bay area as well as encouraging increased transit ridership for daily transportation needs throughout the service area. The study will seek to understand the feasibility of funding construction and operating costs; potential benefits such as increased ridership, safety, and travel time savings; and impacts to equity priority populations. The study will make recommendations for routes and stations, frequency of service and operating times, supporting infrastructure such as transit-priority signals and transit-only lanes, and implementation strategies.\", \"csis\": \"Vmt  Csis\", \"csis values\": 0}, {\"project_name\": \"Trinidad Rancheria Access Project\", \"project_description\": \"Kim Floyd 707 441-5739\\u00a0 In Hum Co in and near Trinidad from Sixth Street OC #4-57 to Trinidad Rd UC #4-58\", \"csis\": \"Vmt  Csis\", \"csis values\": 0}, {\"project_name\": \"Eureka-Arcata Sea Level Rise Project 1.0\", \"project_description\": \"This project is located in Humboldt County along US-101, between the incorporated communities of Eureka and Arcata. This Segment of US-101 is commonly referred to as the Eureka/Arcata corridor and follows the shoreline of Humboldt Bay. Much of the corridor is low lying with an elevation near 10.0 feet (+/-).  Projected sea level rise indicate over-topping events and inundation could occur as soon as 2030.\\nThis project proposes to raise the roadway fill prisms to a minimum elevation of 13-feet to ensure the corridor maintains climate resiliency in regards to rising sea levels. As the roadway prisms are  elevated, opposing directions of travel will be constructed closer together. This design approach aims to minimize negative environmental impacts and right of way acquisition (if any), by staying within the existing right of way.\", \"csis\": \"Vmt  Csis\", \"csis values\": 3}, {\"project_name\": \"Eureka Adaptive Signals Project\", \"project_description\": \"Adaptive signal/Improve safety and efficiency\", \"csis\": \"Vmt  Csis\", \"csis values\": 0}, {\"project_name\": \"Koster Couplet (Shopp Project)\", \"project_description\": \"US 101 Couplet for Safety, Livability, and Sustainability. Add three lanes of travel for vehicle operations with two lanes southbound using Koster Street and one additional lane northbound for one alternative. Traffic Calming features include adding Class II bike lanes, widen sidewalks, add parking, and other complete streets features.\", \"csis\": \"Vmt  Csis\", \"csis values\": 0}, {\"project_name\": \"Equitable And Sustainable Public Transit Planning For Rural America\", \"project_description\": \"Phase 1: Planning for a zero-emission fleet across existing local transit systems (including Tribal systems) within the County, exploring both electrification and hydrogen options as well as planning for and designing a new transit center, and fueling infrastructure to support the transition.\\nPhase 2: Expand local transit services\\nPhase 3: Conduct a nationwide survey of rural transit operators to obtain insight into the potential market for hydrogen or electric vehicles optimized for rural travel (long range and difficult terrain).\", \"csis\": \"Vmt  Csis\", \"csis values\": 0}, {\"project_name\": \"Broadway Middle Couplet\", \"project_description\": \"New southbound alignment to improve multimodal facilities including Class IV bike separated bikeways and transit lanes. Rural main street; serves low-income residents.\", \"csis\": \"Vmt  Csis\", \"csis values\": 0}, {\"project_name\": \"Eureka-Arcata Corridor Improvement\", \"project_description\": \"From Eureka Slough Bridge to Route 101/255 separation, upgrade 4 lane facility.\", \"csis\": \"Vmt  Csis\", \"csis values\": 0}, {\"project_name\": \"Alton Interchange\", \"project_description\": \"Rte 36 from 0.5 km W of Main St to Main St  In Hum Co near Alton on Rte 101 from Van Duzen River Bridge to 0.6 km N of Drake Hill Rd and on\", \"csis\": \"Vmt  Csis\", \"csis values\": 0}, {\"project_name\": \"South Broadway Shared Path\", \"project_description\": \"Add Class I and Class IV bike facilities to Broadway in Eureka\", \"csis\": \"Vmt  Csis\", \"csis values\": 0}, {\"project_name\": \"Fish Passage Project (Shopp Project)\", \"project_description\": \"In Humboldt County near Phillipsville at 3.3 miles north of Ohman Creek Bridge. Replace box culvert with bridge at Fish Creek.\", \"csis\": \"Vmt  Csis\", \"csis values\": 0}, {\"project_name\": \"Annie & Mary Trail Phase 2\", \"project_description\": \"On Glendale Drive at State Route 299 off/onramp to westbound SR 299 from PM 4.04 to PM 5.43, connect to North Coast Railroad Authority (NCRA) rail corridor, and end project at Chartin Road/Railroad Avenue in the City of Blue Lake. Construct 1.7-miles of Class I bikeway, mark two (2) unmarked crosswalks, and install two (2) speed humps to provide a new non-motorized connection along State Route 299 between the City of Blue Lake and the unincorporated community of Glendale.\", \"csis\": \"Vmt  Csis\", \"csis values\": 5}, {\"project_name\": \"Willow Creek Charging Station (Shopp Project)\", \"project_description\": \"Install zero emission charging station\", \"csis\": \"Vmt  Csis\", \"csis values\": 0}, {\"project_name\": \"Crescent City Ada\", \"project_description\": \"Traffic calming, non-motorized and multi-modal improvements. Enhance safety for pedestrians and non-motorized vehicles\", \"csis\": \"Dac Local Community Needs  Csis\", \"csis values\": 0}, {\"project_name\": \"Connected Communities Plan Project\", \"project_description\": \"Provide a vision for a balanced, accessible multi-modal transportation network through the heart of the Tolowa Dee-ni\\u2019 Nation. Develop a multi-use separated path paralleling US 101 to connect active transportation users to various Tribal destinations. Safety measures including traffic calming and street lighting will be incorporated.\", \"csis\": \"Dac Local Community Needs  Csis\", \"csis values\": 0}, {\"project_name\": \"Arcata Cap & Humboldt Area Rapid Transit\", \"project_description\": \"The proposed feasibility study includes two distinct efforts\\u2014to restore community connectivity through a freeway cap and to improve peoples\\u2019 lives with high-quality bus rapid transit. \\nA portion of US 101 between 14th Street and Sunset Avenue in Arcata will be studied for the feasibility of an approximately 5-acre freeway cap, which will increase affordable, accessible, multimodal access to daily destinations like jobs, higher education, health care, grocery stores, recreation, and park space. The feasibility study will include a robust public engagement process, generate community-driven urban design alternatives, analyze structural engineering considerations, and identify active transportation and transit connections to the local road network. \\n\\nThe feasibility of bus rapid transit serving Humboldt Bay area, eastern Humboldt County, and Del Norte County will be studied, with the intent of reconnecting rural tribal communities to jobs, education, and healthcare in the Humboldt Bay area as well as encouraging increased transit ridership for daily transportation needs throughout the service area. The study will seek to understand the feasibility of funding construction and operating costs; potential benefits such as increased ridership, safety, and travel time savings; and impacts to equity priority populations. The study will make recommendations for routes and stations, frequency of service and operating times, supporting infrastructure such as transit-priority signals and transit-only lanes, and implementation strategies.\", \"csis\": \"Dac Local Community Needs  Csis\", \"csis values\": 4}, {\"project_name\": \"Trinidad Rancheria Access Project\", \"project_description\": \"Kim Floyd 707 441-5739\\u00a0 In Hum Co in and near Trinidad from Sixth Street OC #4-57 to Trinidad Rd UC #4-58\", \"csis\": \"Dac Local Community Needs  Csis\", \"csis values\": 0}, {\"project_name\": \"Eureka-Arcata Sea Level Rise Project 1.0\", \"project_description\": \"This project is located in Humboldt County along US-101, between the incorporated communities of Eureka and Arcata. This Segment of US-101 is commonly referred to as the Eureka/Arcata corridor and follows the shoreline of Humboldt Bay. Much of the corridor is low lying with an elevation near 10.0 feet (+/-).  Projected sea level rise indicate over-topping events and inundation could occur as soon as 2030.\\nThis project proposes to raise the roadway fill prisms to a minimum elevation of 13-feet to ensure the corridor maintains climate resiliency in regards to rising sea levels. As the roadway prisms are  elevated, opposing directions of travel will be constructed closer together. This design approach aims to minimize negative environmental impacts and right of way acquisition (if any), by staying within the existing right of way.\", \"csis\": \"Dac Local Community Needs  Csis\", \"csis values\": 4}, {\"project_name\": \"Eureka Adaptive Signals Project\", \"project_description\": \"Adaptive signal/Improve safety and efficiency\", \"csis\": \"Dac Local Community Needs  Csis\", \"csis values\": 0}, {\"project_name\": \"Koster Couplet (Shopp Project)\", \"project_description\": \"US 101 Couplet for Safety, Livability, and Sustainability. Add three lanes of travel for vehicle operations with two lanes southbound using Koster Street and one additional lane northbound for one alternative. Traffic Calming features include adding Class II bike lanes, widen sidewalks, add parking, and other complete streets features.\", \"csis\": \"Dac Local Community Needs  Csis\", \"csis values\": 0}, {\"project_name\": \"Equitable And Sustainable Public Transit Planning For Rural America\", \"project_description\": \"Phase 1: Planning for a zero-emission fleet across existing local transit systems (including Tribal systems) within the County, exploring both electrification and hydrogen options as well as planning for and designing a new transit center, and fueling infrastructure to support the transition.\\nPhase 2: Expand local transit services\\nPhase 3: Conduct a nationwide survey of rural transit operators to obtain insight into the potential market for hydrogen or electric vehicles optimized for rural travel (long range and difficult terrain).\", \"csis\": \"Dac Local Community Needs  Csis\", \"csis values\": 0}, {\"project_name\": \"Broadway Middle Couplet\", \"project_description\": \"New southbound alignment to improve multimodal facilities including Class IV bike separated bikeways and transit lanes. Rural main street; serves low-income residents.\", \"csis\": \"Dac Local Community Needs  Csis\", \"csis values\": 0}, {\"project_name\": \"Eureka-Arcata Corridor Improvement\", \"project_description\": \"From Eureka Slough Bridge to Route 101/255 separation, upgrade 4 lane facility.\", \"csis\": \"Dac Local Community Needs  Csis\", \"csis values\": 0}, {\"project_name\": \"Alton Interchange\", \"project_description\": \"Rte 36 from 0.5 km W of Main St to Main St  In Hum Co near Alton on Rte 101 from Van Duzen River Bridge to 0.6 km N of Drake Hill Rd and on\", \"csis\": \"Dac Local Community Needs  Csis\", \"csis values\": 0}, {\"project_name\": \"South Broadway Shared Path\", \"project_description\": \"Add Class I and Class IV bike facilities to Broadway in Eureka\", \"csis\": \"Dac Local Community Needs  Csis\", \"csis values\": 0}, {\"project_name\": \"Fish Passage Project (Shopp Project)\", \"project_description\": \"In Humboldt County near Phillipsville at 3.3 miles north of Ohman Creek Bridge. Replace box culvert with bridge at Fish Creek.\", \"csis\": \"Dac Local Community Needs  Csis\", \"csis values\": 0}, {\"project_name\": \"Annie & Mary Trail Phase 2\", \"project_description\": \"On Glendale Drive at State Route 299 off/onramp to westbound SR 299 from PM 4.04 to PM 5.43, connect to North Coast Railroad Authority (NCRA) rail corridor, and end project at Chartin Road/Railroad Avenue in the City of Blue Lake. Construct 1.7-miles of Class I bikeway, mark two (2) unmarked crosswalks, and install two (2) speed humps to provide a new non-motorized connection along State Route 299 between the City of Blue Lake and the unincorporated community of Glendale.\", \"csis\": \"Dac Local Community Needs  Csis\", \"csis values\": 5}, {\"project_name\": \"Willow Creek Charging Station (Shopp Project)\", \"project_description\": \"Install zero emission charging station\", \"csis\": \"Dac Local Community Needs  Csis\", \"csis values\": 0}, {\"project_name\": \"Crescent City Ada\", \"project_description\": \"Traffic calming, non-motorized and multi-modal improvements. Enhance safety for pedestrians and non-motorized vehicles\", \"csis\": \"Public Engagement  Csis\", \"csis values\": 0}, {\"project_name\": \"Connected Communities Plan Project\", \"project_description\": \"Provide a vision for a balanced, accessible multi-modal transportation network through the heart of the Tolowa Dee-ni\\u2019 Nation. Develop a multi-use separated path paralleling US 101 to connect active transportation users to various Tribal destinations. Safety measures including traffic calming and street lighting will be incorporated.\", \"csis\": \"Public Engagement  Csis\", \"csis values\": 0}, {\"project_name\": \"Arcata Cap & Humboldt Area Rapid Transit\", \"project_description\": \"The proposed feasibility study includes two distinct efforts\\u2014to restore community connectivity through a freeway cap and to improve peoples\\u2019 lives with high-quality bus rapid transit. \\nA portion of US 101 between 14th Street and Sunset Avenue in Arcata will be studied for the feasibility of an approximately 5-acre freeway cap, which will increase affordable, accessible, multimodal access to daily destinations like jobs, higher education, health care, grocery stores, recreation, and park space. The feasibility study will include a robust public engagement process, generate community-driven urban design alternatives, analyze structural engineering considerations, and identify active transportation and transit connections to the local road network. \\n\\nThe feasibility of bus rapid transit serving Humboldt Bay area, eastern Humboldt County, and Del Norte County will be studied, with the intent of reconnecting rural tribal communities to jobs, education, and healthcare in the Humboldt Bay area as well as encouraging increased transit ridership for daily transportation needs throughout the service area. The study will seek to understand the feasibility of funding construction and operating costs; potential benefits such as increased ridership, safety, and travel time savings; and impacts to equity priority populations. The study will make recommendations for routes and stations, frequency of service and operating times, supporting infrastructure such as transit-priority signals and transit-only lanes, and implementation strategies.\", \"csis\": \"Public Engagement  Csis\", \"csis values\": 4}, {\"project_name\": \"Trinidad Rancheria Access Project\", \"project_description\": \"Kim Floyd 707 441-5739\\u00a0 In Hum Co in and near Trinidad from Sixth Street OC #4-57 to Trinidad Rd UC #4-58\", \"csis\": \"Public Engagement  Csis\", \"csis values\": 0}, {\"project_name\": \"Eureka-Arcata Sea Level Rise Project 1.0\", \"project_description\": \"This project is located in Humboldt County along US-101, between the incorporated communities of Eureka and Arcata. This Segment of US-101 is commonly referred to as the Eureka/Arcata corridor and follows the shoreline of Humboldt Bay. Much of the corridor is low lying with an elevation near 10.0 feet (+/-).  Projected sea level rise indicate over-topping events and inundation could occur as soon as 2030.\\nThis project proposes to raise the roadway fill prisms to a minimum elevation of 13-feet to ensure the corridor maintains climate resiliency in regards to rising sea levels. As the roadway prisms are  elevated, opposing directions of travel will be constructed closer together. This design approach aims to minimize negative environmental impacts and right of way acquisition (if any), by staying within the existing right of way.\", \"csis\": \"Public Engagement  Csis\", \"csis values\": 4}, {\"project_name\": \"Eureka Adaptive Signals Project\", \"project_description\": \"Adaptive signal/Improve safety and efficiency\", \"csis\": \"Public Engagement  Csis\", \"csis values\": 0}, {\"project_name\": \"Koster Couplet (Shopp Project)\", \"project_description\": \"US 101 Couplet for Safety, Livability, and Sustainability. Add three lanes of travel for vehicle operations with two lanes southbound using Koster Street and one additional lane northbound for one alternative. Traffic Calming features include adding Class II bike lanes, widen sidewalks, add parking, and other complete streets features.\", \"csis\": \"Public Engagement  Csis\", \"csis values\": 0}, {\"project_name\": \"Equitable And Sustainable Public Transit Planning For Rural America\", \"project_description\": \"Phase 1: Planning for a zero-emission fleet across existing local transit systems (including Tribal systems) within the County, exploring both electrification and hydrogen options as well as planning for and designing a new transit center, and fueling infrastructure to support the transition.\\nPhase 2: Expand local transit services\\nPhase 3: Conduct a nationwide survey of rural transit operators to obtain insight into the potential market for hydrogen or electric vehicles optimized for rural travel (long range and difficult terrain).\", \"csis\": \"Public Engagement  Csis\", \"csis values\": 0}, {\"project_name\": \"Broadway Middle Couplet\", \"project_description\": \"New southbound alignment to improve multimodal facilities including Class IV bike separated bikeways and transit lanes. Rural main street; serves low-income residents.\", \"csis\": \"Public Engagement  Csis\", \"csis values\": 0}, {\"project_name\": \"Eureka-Arcata Corridor Improvement\", \"project_description\": \"From Eureka Slough Bridge to Route 101/255 separation, upgrade 4 lane facility.\", \"csis\": \"Public Engagement  Csis\", \"csis values\": 0}, {\"project_name\": \"Alton Interchange\", \"project_description\": \"Rte 36 from 0.5 km W of Main St to Main St  In Hum Co near Alton on Rte 101 from Van Duzen River Bridge to 0.6 km N of Drake Hill Rd and on\", \"csis\": \"Public Engagement  Csis\", \"csis values\": 0}, {\"project_name\": \"South Broadway Shared Path\", \"project_description\": \"Add Class I and Class IV bike facilities to Broadway in Eureka\", \"csis\": \"Public Engagement  Csis\", \"csis values\": 0}, {\"project_name\": \"Fish Passage Project (Shopp Project)\", \"project_description\": \"In Humboldt County near Phillipsville at 3.3 miles north of Ohman Creek Bridge. Replace box culvert with bridge at Fish Creek.\", \"csis\": \"Public Engagement  Csis\", \"csis values\": 0}, {\"project_name\": \"Annie & Mary Trail Phase 2\", \"project_description\": \"On Glendale Drive at State Route 299 off/onramp to westbound SR 299 from PM 4.04 to PM 5.43, connect to North Coast Railroad Authority (NCRA) rail corridor, and end project at Chartin Road/Railroad Avenue in the City of Blue Lake. Construct 1.7-miles of Class I bikeway, mark two (2) unmarked crosswalks, and install two (2) speed humps to provide a new non-motorized connection along State Route 299 between the City of Blue Lake and the unincorporated community of Glendale.\", \"csis\": \"Public Engagement  Csis\", \"csis values\": 5}, {\"project_name\": \"Willow Creek Charging Station (Shopp Project)\", \"project_description\": \"Install zero emission charging station\", \"csis\": \"Public Engagement  Csis\", \"csis values\": 0}, {\"project_name\": \"Crescent City Ada\", \"project_description\": \"Traffic calming, non-motorized and multi-modal improvements. Enhance safety for pedestrians and non-motorized vehicles\", \"csis\": \"Safety  Csis\", \"csis values\": 0}, {\"project_name\": \"Connected Communities Plan Project\", \"project_description\": \"Provide a vision for a balanced, accessible multi-modal transportation network through the heart of the Tolowa Dee-ni\\u2019 Nation. Develop a multi-use separated path paralleling US 101 to connect active transportation users to various Tribal destinations. Safety measures including traffic calming and street lighting will be incorporated.\", \"csis\": \"Safety  Csis\", \"csis values\": 0}, {\"project_name\": \"Arcata Cap & Humboldt Area Rapid Transit\", \"project_description\": \"The proposed feasibility study includes two distinct efforts\\u2014to restore community connectivity through a freeway cap and to improve peoples\\u2019 lives with high-quality bus rapid transit. \\nA portion of US 101 between 14th Street and Sunset Avenue in Arcata will be studied for the feasibility of an approximately 5-acre freeway cap, which will increase affordable, accessible, multimodal access to daily destinations like jobs, higher education, health care, grocery stores, recreation, and park space. The feasibility study will include a robust public engagement process, generate community-driven urban design alternatives, analyze structural engineering considerations, and identify active transportation and transit connections to the local road network. \\n\\nThe feasibility of bus rapid transit serving Humboldt Bay area, eastern Humboldt County, and Del Norte County will be studied, with the intent of reconnecting rural tribal communities to jobs, education, and healthcare in the Humboldt Bay area as well as encouraging increased transit ridership for daily transportation needs throughout the service area. The study will seek to understand the feasibility of funding construction and operating costs; potential benefits such as increased ridership, safety, and travel time savings; and impacts to equity priority populations. The study will make recommendations for routes and stations, frequency of service and operating times, supporting infrastructure such as transit-priority signals and transit-only lanes, and implementation strategies.\", \"csis\": \"Safety  Csis\", \"csis values\": 4}, {\"project_name\": \"Trinidad Rancheria Access Project\", \"project_description\": \"Kim Floyd 707 441-5739\\u00a0 In Hum Co in and near Trinidad from Sixth Street OC #4-57 to Trinidad Rd UC #4-58\", \"csis\": \"Safety  Csis\", \"csis values\": 0}, {\"project_name\": \"Eureka-Arcata Sea Level Rise Project 1.0\", \"project_description\": \"This project is located in Humboldt County along US-101, between the incorporated communities of Eureka and Arcata. This Segment of US-101 is commonly referred to as the Eureka/Arcata corridor and follows the shoreline of Humboldt Bay. Much of the corridor is low lying with an elevation near 10.0 feet (+/-).  Projected sea level rise indicate over-topping events and inundation could occur as soon as 2030.\\nThis project proposes to raise the roadway fill prisms to a minimum elevation of 13-feet to ensure the corridor maintains climate resiliency in regards to rising sea levels. As the roadway prisms are  elevated, opposing directions of travel will be constructed closer together. This design approach aims to minimize negative environmental impacts and right of way acquisition (if any), by staying within the existing right of way.\", \"csis\": \"Safety  Csis\", \"csis values\": 4}, {\"project_name\": \"Eureka Adaptive Signals Project\", \"project_description\": \"Adaptive signal/Improve safety and efficiency\", \"csis\": \"Safety  Csis\", \"csis values\": 0}, {\"project_name\": \"Koster Couplet (Shopp Project)\", \"project_description\": \"US 101 Couplet for Safety, Livability, and Sustainability. Add three lanes of travel for vehicle operations with two lanes southbound using Koster Street and one additional lane northbound for one alternative. Traffic Calming features include adding Class II bike lanes, widen sidewalks, add parking, and other complete streets features.\", \"csis\": \"Safety  Csis\", \"csis values\": 0}, {\"project_name\": \"Equitable And Sustainable Public Transit Planning For Rural America\", \"project_description\": \"Phase 1: Planning for a zero-emission fleet across existing local transit systems (including Tribal systems) within the County, exploring both electrification and hydrogen options as well as planning for and designing a new transit center, and fueling infrastructure to support the transition.\\nPhase 2: Expand local transit services\\nPhase 3: Conduct a nationwide survey of rural transit operators to obtain insight into the potential market for hydrogen or electric vehicles optimized for rural travel (long range and difficult terrain).\", \"csis\": \"Safety  Csis\", \"csis values\": 0}, {\"project_name\": \"Broadway Middle Couplet\", \"project_description\": \"New southbound alignment to improve multimodal facilities including Class IV bike separated bikeways and transit lanes. Rural main street; serves low-income residents.\", \"csis\": \"Safety  Csis\", \"csis values\": 0}, {\"project_name\": \"Eureka-Arcata Corridor Improvement\", \"project_description\": \"From Eureka Slough Bridge to Route 101/255 separation, upgrade 4 lane facility.\", \"csis\": \"Safety  Csis\", \"csis values\": 0}, {\"project_name\": \"Alton Interchange\", \"project_description\": \"Rte 36 from 0.5 km W of Main St to Main St  In Hum Co near Alton on Rte 101 from Van Duzen River Bridge to 0.6 km N of Drake Hill Rd and on\", \"csis\": \"Safety  Csis\", \"csis values\": 0}, {\"project_name\": \"South Broadway Shared Path\", \"project_description\": \"Add Class I and Class IV bike facilities to Broadway in Eureka\", \"csis\": \"Safety  Csis\", \"csis values\": 0}, {\"project_name\": \"Fish Passage Project (Shopp Project)\", \"project_description\": \"In Humboldt County near Phillipsville at 3.3 miles north of Ohman Creek Bridge. Replace box culvert with bridge at Fish Creek.\", \"csis\": \"Safety  Csis\", \"csis values\": 0}, {\"project_name\": \"Annie & Mary Trail Phase 2\", \"project_description\": \"On Glendale Drive at State Route 299 off/onramp to westbound SR 299 from PM 4.04 to PM 5.43, connect to North Coast Railroad Authority (NCRA) rail corridor, and end project at Chartin Road/Railroad Avenue in the City of Blue Lake. Construct 1.7-miles of Class I bikeway, mark two (2) unmarked crosswalks, and install two (2) speed humps to provide a new non-motorized connection along State Route 299 between the City of Blue Lake and the unincorporated community of Glendale.\", \"csis\": \"Safety  Csis\", \"csis values\": 5}, {\"project_name\": \"Willow Creek Charging Station (Shopp Project)\", \"project_description\": \"Install zero emission charging station\", \"csis\": \"Safety  Csis\", \"csis values\": 0}, {\"project_name\": \"Crescent City Ada\", \"project_description\": \"Traffic calming, non-motorized and multi-modal improvements. Enhance safety for pedestrians and non-motorized vehicles\", \"csis\": \"Zev  Csis\", \"csis values\": 0}, {\"project_name\": \"Connected Communities Plan Project\", \"project_description\": \"Provide a vision for a balanced, accessible multi-modal transportation network through the heart of the Tolowa Dee-ni\\u2019 Nation. Develop a multi-use separated path paralleling US 101 to connect active transportation users to various Tribal destinations. Safety measures including traffic calming and street lighting will be incorporated.\", \"csis\": \"Zev  Csis\", \"csis values\": 0}, {\"project_name\": \"Arcata Cap & Humboldt Area Rapid Transit\", \"project_description\": \"The proposed feasibility study includes two distinct efforts\\u2014to restore community connectivity through a freeway cap and to improve peoples\\u2019 lives with high-quality bus rapid transit. \\nA portion of US 101 between 14th Street and Sunset Avenue in Arcata will be studied for the feasibility of an approximately 5-acre freeway cap, which will increase affordable, accessible, multimodal access to daily destinations like jobs, higher education, health care, grocery stores, recreation, and park space. The feasibility study will include a robust public engagement process, generate community-driven urban design alternatives, analyze structural engineering considerations, and identify active transportation and transit connections to the local road network. \\n\\nThe feasibility of bus rapid transit serving Humboldt Bay area, eastern Humboldt County, and Del Norte County will be studied, with the intent of reconnecting rural tribal communities to jobs, education, and healthcare in the Humboldt Bay area as well as encouraging increased transit ridership for daily transportation needs throughout the service area. The study will seek to understand the feasibility of funding construction and operating costs; potential benefits such as increased ridership, safety, and travel time savings; and impacts to equity priority populations. The study will make recommendations for routes and stations, frequency of service and operating times, supporting infrastructure such as transit-priority signals and transit-only lanes, and implementation strategies.\", \"csis\": \"Zev  Csis\", \"csis values\": 0}, {\"project_name\": \"Trinidad Rancheria Access Project\", \"project_description\": \"Kim Floyd 707 441-5739\\u00a0 In Hum Co in and near Trinidad from Sixth Street OC #4-57 to Trinidad Rd UC #4-58\", \"csis\": \"Zev  Csis\", \"csis values\": 0}, {\"project_name\": \"Eureka-Arcata Sea Level Rise Project 1.0\", \"project_description\": \"This project is located in Humboldt County along US-101, between the incorporated communities of Eureka and Arcata. This Segment of US-101 is commonly referred to as the Eureka/Arcata corridor and follows the shoreline of Humboldt Bay. Much of the corridor is low lying with an elevation near 10.0 feet (+/-).  Projected sea level rise indicate over-topping events and inundation could occur as soon as 2030.\\nThis project proposes to raise the roadway fill prisms to a minimum elevation of 13-feet to ensure the corridor maintains climate resiliency in regards to rising sea levels. As the roadway prisms are  elevated, opposing directions of travel will be constructed closer together. This design approach aims to minimize negative environmental impacts and right of way acquisition (if any), by staying within the existing right of way.\", \"csis\": \"Zev  Csis\", \"csis values\": 0}, {\"project_name\": \"Eureka Adaptive Signals Project\", \"project_description\": \"Adaptive signal/Improve safety and efficiency\", \"csis\": \"Zev  Csis\", \"csis values\": 0}, {\"project_name\": \"Koster Couplet (Shopp Project)\", \"project_description\": \"US 101 Couplet for Safety, Livability, and Sustainability. Add three lanes of travel for vehicle operations with two lanes southbound using Koster Street and one additional lane northbound for one alternative. Traffic Calming features include adding Class II bike lanes, widen sidewalks, add parking, and other complete streets features.\", \"csis\": \"Zev  Csis\", \"csis values\": 0}, {\"project_name\": \"Equitable And Sustainable Public Transit Planning For Rural America\", \"project_description\": \"Phase 1: Planning for a zero-emission fleet across existing local transit systems (including Tribal systems) within the County, exploring both electrification and hydrogen options as well as planning for and designing a new transit center, and fueling infrastructure to support the transition.\\nPhase 2: Expand local transit services\\nPhase 3: Conduct a nationwide survey of rural transit operators to obtain insight into the potential market for hydrogen or electric vehicles optimized for rural travel (long range and difficult terrain).\", \"csis\": \"Zev  Csis\", \"csis values\": 0}, {\"project_name\": \"Broadway Middle Couplet\", \"project_description\": \"New southbound alignment to improve multimodal facilities including Class IV bike separated bikeways and transit lanes. Rural main street; serves low-income residents.\", \"csis\": \"Zev  Csis\", \"csis values\": 0}, {\"project_name\": \"Eureka-Arcata Corridor Improvement\", \"project_description\": \"From Eureka Slough Bridge to Route 101/255 separation, upgrade 4 lane facility.\", \"csis\": \"Zev  Csis\", \"csis values\": 0}, {\"project_name\": \"Alton Interchange\", \"project_description\": \"Rte 36 from 0.5 km W of Main St to Main St  In Hum Co near Alton on Rte 101 from Van Duzen River Bridge to 0.6 km N of Drake Hill Rd and on\", \"csis\": \"Zev  Csis\", \"csis values\": 0}, {\"project_name\": \"South Broadway Shared Path\", \"project_description\": \"Add Class I and Class IV bike facilities to Broadway in Eureka\", \"csis\": \"Zev  Csis\", \"csis values\": 0}, {\"project_name\": \"Fish Passage Project (Shopp Project)\", \"project_description\": \"In Humboldt County near Phillipsville at 3.3 miles north of Ohman Creek Bridge. Replace box culvert with bridge at Fish Creek.\", \"csis\": \"Zev  Csis\", \"csis values\": 0}, {\"project_name\": \"Annie & Mary Trail Phase 2\", \"project_description\": \"On Glendale Drive at State Route 299 off/onramp to westbound SR 299 from PM 4.04 to PM 5.43, connect to North Coast Railroad Authority (NCRA) rail corridor, and end project at Chartin Road/Railroad Avenue in the City of Blue Lake. Construct 1.7-miles of Class I bikeway, mark two (2) unmarked crosswalks, and install two (2) speed humps to provide a new non-motorized connection along State Route 299 between the City of Blue Lake and the unincorporated community of Glendale.\", \"csis\": \"Zev  Csis\", \"csis values\": 1}, {\"project_name\": \"Willow Creek Charging Station (Shopp Project)\", \"project_description\": \"Install zero emission charging station\", \"csis\": \"Zev  Csis\", \"csis values\": 0}, {\"project_name\": \"Crescent City Ada\", \"project_description\": \"Traffic calming, non-motorized and multi-modal improvements. Enhance safety for pedestrians and non-motorized vehicles\", \"csis\": \"Climate Resiliency  Csis\", \"csis values\": 0}, {\"project_name\": \"Connected Communities Plan Project\", \"project_description\": \"Provide a vision for a balanced, accessible multi-modal transportation network through the heart of the Tolowa Dee-ni\\u2019 Nation. Develop a multi-use separated path paralleling US 101 to connect active transportation users to various Tribal destinations. Safety measures including traffic calming and street lighting will be incorporated.\", \"csis\": \"Climate Resiliency  Csis\", \"csis values\": 0}, {\"project_name\": \"Arcata Cap & Humboldt Area Rapid Transit\", \"project_description\": \"The proposed feasibility study includes two distinct efforts\\u2014to restore community connectivity through a freeway cap and to improve peoples\\u2019 lives with high-quality bus rapid transit. \\nA portion of US 101 between 14th Street and Sunset Avenue in Arcata will be studied for the feasibility of an approximately 5-acre freeway cap, which will increase affordable, accessible, multimodal access to daily destinations like jobs, higher education, health care, grocery stores, recreation, and park space. The feasibility study will include a robust public engagement process, generate community-driven urban design alternatives, analyze structural engineering considerations, and identify active transportation and transit connections to the local road network. \\n\\nThe feasibility of bus rapid transit serving Humboldt Bay area, eastern Humboldt County, and Del Norte County will be studied, with the intent of reconnecting rural tribal communities to jobs, education, and healthcare in the Humboldt Bay area as well as encouraging increased transit ridership for daily transportation needs throughout the service area. The study will seek to understand the feasibility of funding construction and operating costs; potential benefits such as increased ridership, safety, and travel time savings; and impacts to equity priority populations. The study will make recommendations for routes and stations, frequency of service and operating times, supporting infrastructure such as transit-priority signals and transit-only lanes, and implementation strategies.\", \"csis\": \"Climate Resiliency  Csis\", \"csis values\": 0}, {\"project_name\": \"Trinidad Rancheria Access Project\", \"project_description\": \"Kim Floyd 707 441-5739\\u00a0 In Hum Co in and near Trinidad from Sixth Street OC #4-57 to Trinidad Rd UC #4-58\", \"csis\": \"Climate Resiliency  Csis\", \"csis values\": 0}, {\"project_name\": \"Eureka-Arcata Sea Level Rise Project 1.0\", \"project_description\": \"This project is located in Humboldt County along US-101, between the incorporated communities of Eureka and Arcata. This Segment of US-101 is commonly referred to as the Eureka/Arcata corridor and follows the shoreline of Humboldt Bay. Much of the corridor is low lying with an elevation near 10.0 feet (+/-).  Projected sea level rise indicate over-topping events and inundation could occur as soon as 2030.\\nThis project proposes to raise the roadway fill prisms to a minimum elevation of 13-feet to ensure the corridor maintains climate resiliency in regards to rising sea levels. As the roadway prisms are  elevated, opposing directions of travel will be constructed closer together. This design approach aims to minimize negative environmental impacts and right of way acquisition (if any), by staying within the existing right of way.\", \"csis\": \"Climate Resiliency  Csis\", \"csis values\": 5}, {\"project_name\": \"Eureka Adaptive Signals Project\", \"project_description\": \"Adaptive signal/Improve safety and efficiency\", \"csis\": \"Climate Resiliency  Csis\", \"csis values\": 0}, {\"project_name\": \"Koster Couplet (Shopp Project)\", \"project_description\": \"US 101 Couplet for Safety, Livability, and Sustainability. Add three lanes of travel for vehicle operations with two lanes southbound using Koster Street and one additional lane northbound for one alternative. Traffic Calming features include adding Class II bike lanes, widen sidewalks, add parking, and other complete streets features.\", \"csis\": \"Climate Resiliency  Csis\", \"csis values\": 0}, {\"project_name\": \"Equitable And Sustainable Public Transit Planning For Rural America\", \"project_description\": \"Phase 1: Planning for a zero-emission fleet across existing local transit systems (including Tribal systems) within the County, exploring both electrification and hydrogen options as well as planning for and designing a new transit center, and fueling infrastructure to support the transition.\\nPhase 2: Expand local transit services\\nPhase 3: Conduct a nationwide survey of rural transit operators to obtain insight into the potential market for hydrogen or electric vehicles optimized for rural travel (long range and difficult terrain).\", \"csis\": \"Climate Resiliency  Csis\", \"csis values\": 0}, {\"project_name\": \"Broadway Middle Couplet\", \"project_description\": \"New southbound alignment to improve multimodal facilities including Class IV bike separated bikeways and transit lanes. Rural main street; serves low-income residents.\", \"csis\": \"Climate Resiliency  Csis\", \"csis values\": 0}, {\"project_name\": \"Eureka-Arcata Corridor Improvement\", \"project_description\": \"From Eureka Slough Bridge to Route 101/255 separation, upgrade 4 lane facility.\", \"csis\": \"Climate Resiliency  Csis\", \"csis values\": 0}, {\"project_name\": \"Alton Interchange\", \"project_description\": \"Rte 36 from 0.5 km W of Main St to Main St  In Hum Co near Alton on Rte 101 from Van Duzen River Bridge to 0.6 km N of Drake Hill Rd and on\", \"csis\": \"Climate Resiliency  Csis\", \"csis values\": 0}, {\"project_name\": \"South Broadway Shared Path\", \"project_description\": \"Add Class I and Class IV bike facilities to Broadway in Eureka\", \"csis\": \"Climate Resiliency  Csis\", \"csis values\": 0}, {\"project_name\": \"Fish Passage Project (Shopp Project)\", \"project_description\": \"In Humboldt County near Phillipsville at 3.3 miles north of Ohman Creek Bridge. Replace box culvert with bridge at Fish Creek.\", \"csis\": \"Climate Resiliency  Csis\", \"csis values\": 0}, {\"project_name\": \"Annie & Mary Trail Phase 2\", \"project_description\": \"On Glendale Drive at State Route 299 off/onramp to westbound SR 299 from PM 4.04 to PM 5.43, connect to North Coast Railroad Authority (NCRA) rail corridor, and end project at Chartin Road/Railroad Avenue in the City of Blue Lake. Construct 1.7-miles of Class I bikeway, mark two (2) unmarked crosswalks, and install two (2) speed humps to provide a new non-motorized connection along State Route 299 between the City of Blue Lake and the unincorporated community of Glendale.\", \"csis\": \"Climate Resiliency  Csis\", \"csis values\": 3}, {\"project_name\": \"Willow Creek Charging Station (Shopp Project)\", \"project_description\": \"Install zero emission charging station\", \"csis\": \"Climate Resiliency  Csis\", \"csis values\": 0}, {\"project_name\": \"Crescent City Ada\", \"project_description\": \"Traffic calming, non-motorized and multi-modal improvements. Enhance safety for pedestrians and non-motorized vehicles\", \"csis\": \"Natural Resources And Ecosystems  Csis\", \"csis values\": 0}, {\"project_name\": \"Connected Communities Plan Project\", \"project_description\": \"Provide a vision for a balanced, accessible multi-modal transportation network through the heart of the Tolowa Dee-ni\\u2019 Nation. Develop a multi-use separated path paralleling US 101 to connect active transportation users to various Tribal destinations. Safety measures including traffic calming and street lighting will be incorporated.\", \"csis\": \"Natural Resources And Ecosystems  Csis\", \"csis values\": 0}, {\"project_name\": \"Arcata Cap & Humboldt Area Rapid Transit\", \"project_description\": \"The proposed feasibility study includes two distinct efforts\\u2014to restore community connectivity through a freeway cap and to improve peoples\\u2019 lives with high-quality bus rapid transit. \\nA portion of US 101 between 14th Street and Sunset Avenue in Arcata will be studied for the feasibility of an approximately 5-acre freeway cap, which will increase affordable, accessible, multimodal access to daily destinations like jobs, higher education, health care, grocery stores, recreation, and park space. The feasibility study will include a robust public engagement process, generate community-driven urban design alternatives, analyze structural engineering considerations, and identify active transportation and transit connections to the local road network. \\n\\nThe feasibility of bus rapid transit serving Humboldt Bay area, eastern Humboldt County, and Del Norte County will be studied, with the intent of reconnecting rural tribal communities to jobs, education, and healthcare in the Humboldt Bay area as well as encouraging increased transit ridership for daily transportation needs throughout the service area. The study will seek to understand the feasibility of funding construction and operating costs; potential benefits such as increased ridership, safety, and travel time savings; and impacts to equity priority populations. The study will make recommendations for routes and stations, frequency of service and operating times, supporting infrastructure such as transit-priority signals and transit-only lanes, and implementation strategies.\", \"csis\": \"Natural Resources And Ecosystems  Csis\", \"csis values\": 0}, {\"project_name\": \"Trinidad Rancheria Access Project\", \"project_description\": \"Kim Floyd 707 441-5739\\u00a0 In Hum Co in and near Trinidad from Sixth Street OC #4-57 to Trinidad Rd UC #4-58\", \"csis\": \"Natural Resources And Ecosystems  Csis\", \"csis values\": 0}, {\"project_name\": \"Eureka-Arcata Sea Level Rise Project 1.0\", \"project_description\": \"This project is located in Humboldt County along US-101, between the incorporated communities of Eureka and Arcata. This Segment of US-101 is commonly referred to as the Eureka/Arcata corridor and follows the shoreline of Humboldt Bay. Much of the corridor is low lying with an elevation near 10.0 feet (+/-).  Projected sea level rise indicate over-topping events and inundation could occur as soon as 2030.\\nThis project proposes to raise the roadway fill prisms to a minimum elevation of 13-feet to ensure the corridor maintains climate resiliency in regards to rising sea levels. As the roadway prisms are  elevated, opposing directions of travel will be constructed closer together. This design approach aims to minimize negative environmental impacts and right of way acquisition (if any), by staying within the existing right of way.\", \"csis\": \"Natural Resources And Ecosystems  Csis\", \"csis values\": 4}, {\"project_name\": \"Eureka Adaptive Signals Project\", \"project_description\": \"Adaptive signal/Improve safety and efficiency\", \"csis\": \"Natural Resources And Ecosystems  Csis\", \"csis values\": 0}, {\"project_name\": \"Koster Couplet (Shopp Project)\", \"project_description\": \"US 101 Couplet for Safety, Livability, and Sustainability. Add three lanes of travel for vehicle operations with two lanes southbound using Koster Street and one additional lane northbound for one alternative. Traffic Calming features include adding Class II bike lanes, widen sidewalks, add parking, and other complete streets features.\", \"csis\": \"Natural Resources And Ecosystems  Csis\", \"csis values\": 0}, {\"project_name\": \"Equitable And Sustainable Public Transit Planning For Rural America\", \"project_description\": \"Phase 1: Planning for a zero-emission fleet across existing local transit systems (including Tribal systems) within the County, exploring both electrification and hydrogen options as well as planning for and designing a new transit center, and fueling infrastructure to support the transition.\\nPhase 2: Expand local transit services\\nPhase 3: Conduct a nationwide survey of rural transit operators to obtain insight into the potential market for hydrogen or electric vehicles optimized for rural travel (long range and difficult terrain).\", \"csis\": \"Natural Resources And Ecosystems  Csis\", \"csis values\": 0}, {\"project_name\": \"Broadway Middle Couplet\", \"project_description\": \"New southbound alignment to improve multimodal facilities including Class IV bike separated bikeways and transit lanes. Rural main street; serves low-income residents.\", \"csis\": \"Natural Resources And Ecosystems  Csis\", \"csis values\": 0}, {\"project_name\": \"Eureka-Arcata Corridor Improvement\", \"project_description\": \"From Eureka Slough Bridge to Route 101/255 separation, upgrade 4 lane facility.\", \"csis\": \"Natural Resources And Ecosystems  Csis\", \"csis values\": 0}, {\"project_name\": \"Alton Interchange\", \"project_description\": \"Rte 36 from 0.5 km W of Main St to Main St  In Hum Co near Alton on Rte 101 from Van Duzen River Bridge to 0.6 km N of Drake Hill Rd and on\", \"csis\": \"Natural Resources And Ecosystems  Csis\", \"csis values\": 0}, {\"project_name\": \"South Broadway Shared Path\", \"project_description\": \"Add Class I and Class IV bike facilities to Broadway in Eureka\", \"csis\": \"Natural Resources And Ecosystems  Csis\", \"csis values\": 0}, {\"project_name\": \"Fish Passage Project (Shopp Project)\", \"project_description\": \"In Humboldt County near Phillipsville at 3.3 miles north of Ohman Creek Bridge. Replace box culvert with bridge at Fish Creek.\", \"csis\": \"Natural Resources And Ecosystems  Csis\", \"csis values\": 0}, {\"project_name\": \"Annie & Mary Trail Phase 2\", \"project_description\": \"On Glendale Drive at State Route 299 off/onramp to westbound SR 299 from PM 4.04 to PM 5.43, connect to North Coast Railroad Authority (NCRA) rail corridor, and end project at Chartin Road/Railroad Avenue in the City of Blue Lake. Construct 1.7-miles of Class I bikeway, mark two (2) unmarked crosswalks, and install two (2) speed humps to provide a new non-motorized connection along State Route 299 between the City of Blue Lake and the unincorporated community of Glendale.\", \"csis\": \"Natural Resources And Ecosystems  Csis\", \"csis values\": 3}, {\"project_name\": \"Willow Creek Charging Station (Shopp Project)\", \"project_description\": \"Install zero emission charging station\", \"csis\": \"Natural Resources And Ecosystems  Csis\", \"csis values\": 0}, {\"project_name\": \"Crescent City Ada\", \"project_description\": \"Traffic calming, non-motorized and multi-modal improvements. Enhance safety for pedestrians and non-motorized vehicles\", \"csis\": \"Infill Development And Land Use  Csis\", \"csis values\": 0}, {\"project_name\": \"Connected Communities Plan Project\", \"project_description\": \"Provide a vision for a balanced, accessible multi-modal transportation network through the heart of the Tolowa Dee-ni\\u2019 Nation. Develop a multi-use separated path paralleling US 101 to connect active transportation users to various Tribal destinations. Safety measures including traffic calming and street lighting will be incorporated.\", \"csis\": \"Infill Development And Land Use  Csis\", \"csis values\": 0}, {\"project_name\": \"Arcata Cap & Humboldt Area Rapid Transit\", \"project_description\": \"The proposed feasibility study includes two distinct efforts\\u2014to restore community connectivity through a freeway cap and to improve peoples\\u2019 lives with high-quality bus rapid transit. \\nA portion of US 101 between 14th Street and Sunset Avenue in Arcata will be studied for the feasibility of an approximately 5-acre freeway cap, which will increase affordable, accessible, multimodal access to daily destinations like jobs, higher education, health care, grocery stores, recreation, and park space. The feasibility study will include a robust public engagement process, generate community-driven urban design alternatives, analyze structural engineering considerations, and identify active transportation and transit connections to the local road network. \\n\\nThe feasibility of bus rapid transit serving Humboldt Bay area, eastern Humboldt County, and Del Norte County will be studied, with the intent of reconnecting rural tribal communities to jobs, education, and healthcare in the Humboldt Bay area as well as encouraging increased transit ridership for daily transportation needs throughout the service area. The study will seek to understand the feasibility of funding construction and operating costs; potential benefits such as increased ridership, safety, and travel time savings; and impacts to equity priority populations. The study will make recommendations for routes and stations, frequency of service and operating times, supporting infrastructure such as transit-priority signals and transit-only lanes, and implementation strategies.\", \"csis\": \"Infill Development And Land Use  Csis\", \"csis values\": 0}, {\"project_name\": \"Trinidad Rancheria Access Project\", \"project_description\": \"Kim Floyd 707 441-5739\\u00a0 In Hum Co in and near Trinidad from Sixth Street OC #4-57 to Trinidad Rd UC #4-58\", \"csis\": \"Infill Development And Land Use  Csis\", \"csis values\": 0}, {\"project_name\": \"Eureka-Arcata Sea Level Rise Project 1.0\", \"project_description\": \"This project is located in Humboldt County along US-101, between the incorporated communities of Eureka and Arcata. This Segment of US-101 is commonly referred to as the Eureka/Arcata corridor and follows the shoreline of Humboldt Bay. Much of the corridor is low lying with an elevation near 10.0 feet (+/-).  Projected sea level rise indicate over-topping events and inundation could occur as soon as 2030.\\nThis project proposes to raise the roadway fill prisms to a minimum elevation of 13-feet to ensure the corridor maintains climate resiliency in regards to rising sea levels. As the roadway prisms are  elevated, opposing directions of travel will be constructed closer together. This design approach aims to minimize negative environmental impacts and right of way acquisition (if any), by staying within the existing right of way.\", \"csis\": \"Infill Development And Land Use  Csis\", \"csis values\": 3}, {\"project_name\": \"Eureka Adaptive Signals Project\", \"project_description\": \"Adaptive signal/Improve safety and efficiency\", \"csis\": \"Infill Development And Land Use  Csis\", \"csis values\": 0}, {\"project_name\": \"Koster Couplet (Shopp Project)\", \"project_description\": \"US 101 Couplet for Safety, Livability, and Sustainability. Add three lanes of travel for vehicle operations with two lanes southbound using Koster Street and one additional lane northbound for one alternative. Traffic Calming features include adding Class II bike lanes, widen sidewalks, add parking, and other complete streets features.\", \"csis\": \"Infill Development And Land Use  Csis\", \"csis values\": 0}, {\"project_name\": \"Equitable And Sustainable Public Transit Planning For Rural America\", \"project_description\": \"Phase 1: Planning for a zero-emission fleet across existing local transit systems (including Tribal systems) within the County, exploring both electrification and hydrogen options as well as planning for and designing a new transit center, and fueling infrastructure to support the transition.\\nPhase 2: Expand local transit services\\nPhase 3: Conduct a nationwide survey of rural transit operators to obtain insight into the potential market for hydrogen or electric vehicles optimized for rural travel (long range and difficult terrain).\", \"csis\": \"Infill Development And Land Use  Csis\", \"csis values\": 0}, {\"project_name\": \"Broadway Middle Couplet\", \"project_description\": \"New southbound alignment to improve multimodal facilities including Class IV bike separated bikeways and transit lanes. Rural main street; serves low-income residents.\", \"csis\": \"Infill Development And Land Use  Csis\", \"csis values\": 0}, {\"project_name\": \"Eureka-Arcata Corridor Improvement\", \"project_description\": \"From Eureka Slough Bridge to Route 101/255 separation, upgrade 4 lane facility.\", \"csis\": \"Infill Development And Land Use  Csis\", \"csis values\": 0}, {\"project_name\": \"Alton Interchange\", \"project_description\": \"Rte 36 from 0.5 km W of Main St to Main St  In Hum Co near Alton on Rte 101 from Van Duzen River Bridge to 0.6 km N of Drake Hill Rd and on\", \"csis\": \"Infill Development And Land Use  Csis\", \"csis values\": 0}, {\"project_name\": \"South Broadway Shared Path\", \"project_description\": \"Add Class I and Class IV bike facilities to Broadway in Eureka\", \"csis\": \"Infill Development And Land Use  Csis\", \"csis values\": 0}, {\"project_name\": \"Fish Passage Project (Shopp Project)\", \"project_description\": \"In Humboldt County near Phillipsville at 3.3 miles north of Ohman Creek Bridge. Replace box culvert with bridge at Fish Creek.\", \"csis\": \"Infill Development And Land Use  Csis\", \"csis values\": 0}, {\"project_name\": \"Annie & Mary Trail Phase 2\", \"project_description\": \"On Glendale Drive at State Route 299 off/onramp to westbound SR 299 from PM 4.04 to PM 5.43, connect to North Coast Railroad Authority (NCRA) rail corridor, and end project at Chartin Road/Railroad Avenue in the City of Blue Lake. Construct 1.7-miles of Class I bikeway, mark two (2) unmarked crosswalks, and install two (2) speed humps to provide a new non-motorized connection along State Route 299 between the City of Blue Lake and the unincorporated community of Glendale.\", \"csis\": \"Infill Development And Land Use  Csis\", \"csis values\": 4}, {\"project_name\": \"Willow Creek Charging Station (Shopp Project)\", \"project_description\": \"Install zero emission charging station\", \"csis\": \"Infill Development And Land Use  Csis\", \"csis values\": 0}], \"data-18a766be7b53bf9a8753f8d3f87f9ab4\": [{\"project_name\": \"Crescent City Ada\", \"Benefit\": \"Increase Peak Person Throughput\", \"Benefit Values\": 47.07}, {\"project_name\": \"Connected Communities Plan Project\", \"Benefit\": \"Increase Peak Person Throughput\", \"Benefit Values\": 32.08}, {\"project_name\": \"Arcata Cap & Humboldt Area Rapid Transit\", \"Benefit\": \"Increase Peak Person Throughput\", \"Benefit Values\": 34.23}, {\"project_name\": \"Trinidad Rancheria Access Project\", \"Benefit\": \"Increase Peak Person Throughput\", \"Benefit Values\": 29.43}, {\"project_name\": \"Eureka-Arcata Sea Level Rise Project 1.0\", \"Benefit\": \"Increase Peak Person Throughput\", \"Benefit Values\": 27.19}, {\"project_name\": \"Eureka Adaptive Signals Project\", \"Benefit\": \"Increase Peak Person Throughput\", \"Benefit Values\": 18.4}, {\"project_name\": \"Koster Couplet (Shopp Project)\", \"Benefit\": \"Increase Peak Person Throughput\", \"Benefit Values\": 38.33}, {\"project_name\": \"Equitable And Sustainable Public Transit Planning For Rural America\", \"Benefit\": \"Increase Peak Person Throughput\", \"Benefit Values\": 15.25}, {\"project_name\": \"Broadway Middle Couplet\", \"Benefit\": \"Increase Peak Person Throughput\", \"Benefit Values\": 22.1}, {\"project_name\": \"Eureka-Arcata Corridor Improvement\", \"Benefit\": \"Increase Peak Person Throughput\", \"Benefit Values\": 5.52}, {\"project_name\": \"Alton Interchange\", \"Benefit\": \"Increase Peak Person Throughput\", \"Benefit Values\": 21.92}, {\"project_name\": \"South Broadway Shared Path\", \"Benefit\": \"Increase Peak Person Throughput\", \"Benefit Values\": 37.63}, {\"project_name\": \"Fish Passage Project (Shopp Project)\", \"Benefit\": \"Increase Peak Person Throughput\", \"Benefit Values\": 14.58}, {\"project_name\": \"Annie & Mary Trail Phase 2\", \"Benefit\": \"Increase Peak Person Throughput\", \"Benefit Values\": 44.29}, {\"project_name\": \"Willow Creek Charging Station (Shopp Project)\", \"Benefit\": \"Increase Peak Person Throughput\", \"Benefit Values\": 49.83}, {\"project_name\": \"Crescent City Ada\", \"Benefit\": \"Reduction In Peak Period Delay\", \"Benefit Values\": 38.24}, {\"project_name\": \"Connected Communities Plan Project\", \"Benefit\": \"Reduction In Peak Period Delay\", \"Benefit Values\": 40.1}, {\"project_name\": \"Arcata Cap & Humboldt Area Rapid Transit\", \"Benefit\": \"Reduction In Peak Period Delay\", \"Benefit Values\": 22.44}, {\"project_name\": \"Trinidad Rancheria Access Project\", \"Benefit\": \"Reduction In Peak Period Delay\", \"Benefit Values\": 16.45}, {\"project_name\": \"Eureka-Arcata Sea Level Rise Project 1.0\", \"Benefit\": \"Reduction In Peak Period Delay\", \"Benefit Values\": 23.64}, {\"project_name\": \"Eureka Adaptive Signals Project\", \"Benefit\": \"Reduction In Peak Period Delay\", \"Benefit Values\": 3.64}, {\"project_name\": \"Koster Couplet (Shopp Project)\", \"Benefit\": \"Reduction In Peak Period Delay\", \"Benefit Values\": 11.62}, {\"project_name\": \"Equitable And Sustainable Public Transit Planning For Rural America\", \"Benefit\": \"Reduction In Peak Period Delay\", \"Benefit Values\": 48.75}, {\"project_name\": \"Broadway Middle Couplet\", \"Benefit\": \"Reduction In Peak Period Delay\", \"Benefit Values\": 26.21}, {\"project_name\": \"Eureka-Arcata Corridor Improvement\", \"Benefit\": \"Reduction In Peak Period Delay\", \"Benefit Values\": 15.43}, {\"project_name\": \"Alton Interchange\", \"Benefit\": \"Reduction In Peak Period Delay\", \"Benefit Values\": 46.19}, {\"project_name\": \"South Broadway Shared Path\", \"Benefit\": \"Reduction In Peak Period Delay\", \"Benefit Values\": 11.27}, {\"project_name\": \"Fish Passage Project (Shopp Project)\", \"Benefit\": \"Reduction In Peak Period Delay\", \"Benefit Values\": 32.8}, {\"project_name\": \"Annie & Mary Trail Phase 2\", \"Benefit\": \"Reduction In Peak Period Delay\", \"Benefit Values\": 14.89}, {\"project_name\": \"Willow Creek Charging Station (Shopp Project)\", \"Benefit\": \"Reduction In Peak Period Delay\", \"Benefit Values\": 8.05}, {\"project_name\": \"Crescent City Ada\", \"Benefit\": \"Reduction In Fatal And Injury Crashes\", \"Benefit Values\": 38.77}, {\"project_name\": \"Connected Communities Plan Project\", \"Benefit\": \"Reduction In Fatal And Injury Crashes\", \"Benefit Values\": 49.66}, {\"project_name\": \"Arcata Cap & Humboldt Area Rapid Transit\", \"Benefit\": \"Reduction In Fatal And Injury Crashes\", \"Benefit Values\": 3.04}, {\"project_name\": \"Trinidad Rancheria Access Project\", \"Benefit\": \"Reduction In Fatal And Injury Crashes\", \"Benefit Values\": 46.51}, {\"project_name\": \"Eureka-Arcata Sea Level Rise Project 1.0\", \"Benefit\": \"Reduction In Fatal And Injury Crashes\", \"Benefit Values\": 6.62}, {\"project_name\": \"Eureka Adaptive Signals Project\", \"Benefit\": \"Reduction In Fatal And Injury Crashes\", \"Benefit Values\": 1.08}, {\"project_name\": \"Koster Couplet (Shopp Project)\", \"Benefit\": \"Reduction In Fatal And Injury Crashes\", \"Benefit Values\": 13.31}, {\"project_name\": \"Equitable And Sustainable Public Transit Planning For Rural America\", \"Benefit\": \"Reduction In Fatal And Injury Crashes\", \"Benefit Values\": 46.32}, {\"project_name\": \"Broadway Middle Couplet\", \"Benefit\": \"Reduction In Fatal And Injury Crashes\", \"Benefit Values\": 47.14}, {\"project_name\": \"Eureka-Arcata Corridor Improvement\", \"Benefit\": \"Reduction In Fatal And Injury Crashes\", \"Benefit Values\": 4.12}, {\"project_name\": \"Alton Interchange\", \"Benefit\": \"Reduction In Fatal And Injury Crashes\", \"Benefit Values\": 15.88}, {\"project_name\": \"South Broadway Shared Path\", \"Benefit\": \"Reduction In Fatal And Injury Crashes\", \"Benefit Values\": 20.95}, {\"project_name\": \"Fish Passage Project (Shopp Project)\", \"Benefit\": \"Reduction In Fatal And Injury Crashes\", \"Benefit Values\": 45.1}, {\"project_name\": \"Annie & Mary Trail Phase 2\", \"Benefit\": \"Reduction In Fatal And Injury Crashes\", \"Benefit Values\": 17.76}, {\"project_name\": \"Willow Creek Charging Station (Shopp Project)\", \"Benefit\": \"Reduction In Fatal And Injury Crashes\", \"Benefit Values\": 6.42}, {\"project_name\": \"Crescent City Ada\", \"Benefit\": \"Reduction In Injury Rates\", \"Benefit Values\": 39.56}, {\"project_name\": \"Connected Communities Plan Project\", \"Benefit\": \"Reduction In Injury Rates\", \"Benefit Values\": 16.87}, {\"project_name\": \"Arcata Cap & Humboldt Area Rapid Transit\", \"Benefit\": \"Reduction In Injury Rates\", \"Benefit Values\": 12.56}, {\"project_name\": \"Trinidad Rancheria Access Project\", \"Benefit\": \"Reduction In Injury Rates\", \"Benefit Values\": 26.96}, {\"project_name\": \"Eureka-Arcata Sea Level Rise Project 1.0\", \"Benefit\": \"Reduction In Injury Rates\", \"Benefit Values\": 10.67}, {\"project_name\": \"Eureka Adaptive Signals Project\", \"Benefit\": \"Reduction In Injury Rates\", \"Benefit Values\": 35.96}, {\"project_name\": \"Koster Couplet (Shopp Project)\", \"Benefit\": \"Reduction In Injury Rates\", \"Benefit Values\": 24.34}, {\"project_name\": \"Equitable And Sustainable Public Transit Planning For Rural America\", \"Benefit\": \"Reduction In Injury Rates\", \"Benefit Values\": 15.71}, {\"project_name\": \"Broadway Middle Couplet\", \"Benefit\": \"Reduction In Injury Rates\", \"Benefit Values\": 43.57}, {\"project_name\": \"Eureka-Arcata Corridor Improvement\", \"Benefit\": \"Reduction In Injury Rates\", \"Benefit Values\": 11.49}, {\"project_name\": \"Alton Interchange\", \"Benefit\": \"Reduction In Injury Rates\", \"Benefit Values\": 24.1}, {\"project_name\": \"South Broadway Shared Path\", \"Benefit\": \"Reduction In Injury Rates\", \"Benefit Values\": 19.39}, {\"project_name\": \"Fish Passage Project (Shopp Project)\", \"Benefit\": \"Reduction In Injury Rates\", \"Benefit Values\": 4.9}, {\"project_name\": \"Annie & Mary Trail Phase 2\", \"Benefit\": \"Reduction In Injury Rates\", \"Benefit Values\": 2.08}, {\"project_name\": \"Willow Creek Charging Station (Shopp Project)\", \"Benefit\": \"Reduction In Injury Rates\", \"Benefit Values\": 12.7}, {\"project_name\": \"Crescent City Ada\", \"Benefit\": \"Increase Access To Jobs\", \"Benefit Values\": 11.96}, {\"project_name\": \"Connected Communities Plan Project\", \"Benefit\": \"Increase Access To Jobs\", \"Benefit Values\": 15.9}, {\"project_name\": \"Arcata Cap & Humboldt Area Rapid Transit\", \"Benefit\": \"Increase Access To Jobs\", \"Benefit Values\": 18.42}, {\"project_name\": \"Trinidad Rancheria Access Project\", \"Benefit\": \"Increase Access To Jobs\", \"Benefit Values\": 9.53}, {\"project_name\": \"Eureka-Arcata Sea Level Rise Project 1.0\", \"Benefit\": \"Increase Access To Jobs\", \"Benefit Values\": 25.41}, {\"project_name\": \"Eureka Adaptive Signals Project\", \"Benefit\": \"Increase Access To Jobs\", \"Benefit Values\": 15.7}, {\"project_name\": \"Koster Couplet (Shopp Project)\", \"Benefit\": \"Increase Access To Jobs\", \"Benefit Values\": 3.02}, {\"project_name\": \"Equitable And Sustainable Public Transit Planning For Rural America\", \"Benefit\": \"Increase Access To Jobs\", \"Benefit Values\": 36.37}, {\"project_name\": \"Broadway Middle Couplet\", \"Benefit\": \"Increase Access To Jobs\", \"Benefit Values\": 13.88}, {\"project_name\": \"Eureka-Arcata Corridor Improvement\", \"Benefit\": \"Increase Access To Jobs\", \"Benefit Values\": 40.58}, {\"project_name\": \"Alton Interchange\", \"Benefit\": \"Increase Access To Jobs\", \"Benefit Values\": 2.09}, {\"project_name\": \"South Broadway Shared Path\", \"Benefit\": \"Increase Access To Jobs\", \"Benefit Values\": 29.05}, {\"project_name\": \"Fish Passage Project (Shopp Project)\", \"Benefit\": \"Increase Access To Jobs\", \"Benefit Values\": 23.22}, {\"project_name\": \"Annie & Mary Trail Phase 2\", \"Benefit\": \"Increase Access To Jobs\", \"Benefit Values\": 14.89}, {\"project_name\": \"Willow Creek Charging Station (Shopp Project)\", \"Benefit\": \"Increase Access To Jobs\", \"Benefit Values\": 37.54}, {\"project_name\": \"Crescent City Ada\", \"Benefit\": \"Increase Access Jobs To Dac\", \"Benefit Values\": 20.35}, {\"project_name\": \"Connected Communities Plan Project\", \"Benefit\": \"Increase Access Jobs To Dac\", \"Benefit Values\": 4.78}, {\"project_name\": \"Arcata Cap & Humboldt Area Rapid Transit\", \"Benefit\": \"Increase Access Jobs To Dac\", \"Benefit Values\": 0.88}, {\"project_name\": \"Trinidad Rancheria Access Project\", \"Benefit\": \"Increase Access Jobs To Dac\", \"Benefit Values\": 47.31}, {\"project_name\": \"Eureka-Arcata Sea Level Rise Project 1.0\", \"Benefit\": \"Increase Access Jobs To Dac\", \"Benefit Values\": 15.67}, {\"project_name\": \"Eureka Adaptive Signals Project\", \"Benefit\": \"Increase Access Jobs To Dac\", \"Benefit Values\": 34.0}, {\"project_name\": \"Koster Couplet (Shopp Project)\", \"Benefit\": \"Increase Access Jobs To Dac\", \"Benefit Values\": 26.81}, {\"project_name\": \"Equitable And Sustainable Public Transit Planning For Rural America\", \"Benefit\": \"Increase Access Jobs To Dac\", \"Benefit Values\": 24.73}, {\"project_name\": \"Broadway Middle Couplet\", \"Benefit\": \"Increase Access Jobs To Dac\", \"Benefit Values\": 12.39}, {\"project_name\": \"Eureka-Arcata Corridor Improvement\", \"Benefit\": \"Increase Access Jobs To Dac\", \"Benefit Values\": 41.07}, {\"project_name\": \"Alton Interchange\", \"Benefit\": \"Increase Access Jobs To Dac\", \"Benefit Values\": 15.36}, {\"project_name\": \"South Broadway Shared Path\", \"Benefit\": \"Increase Access Jobs To Dac\", \"Benefit Values\": 0.91}, {\"project_name\": \"Fish Passage Project (Shopp Project)\", \"Benefit\": \"Increase Access Jobs To Dac\", \"Benefit Values\": 4.69}, {\"project_name\": \"Annie & Mary Trail Phase 2\", \"Benefit\": \"Increase Access Jobs To Dac\", \"Benefit Values\": 39.66}, {\"project_name\": \"Willow Creek Charging Station (Shopp Project)\", \"Benefit\": \"Increase Access Jobs To Dac\", \"Benefit Values\": 9.36}, {\"project_name\": \"Crescent City Ada\", \"Benefit\": \"Commercial Dev Developed\", \"Benefit Values\": 25.37}, {\"project_name\": \"Connected Communities Plan Project\", \"Benefit\": \"Commercial Dev Developed\", \"Benefit Values\": 25.35}, {\"project_name\": \"Arcata Cap & Humboldt Area Rapid Transit\", \"Benefit\": \"Commercial Dev Developed\", \"Benefit Values\": 32.81}, {\"project_name\": \"Trinidad Rancheria Access Project\", \"Benefit\": \"Commercial Dev Developed\", \"Benefit Values\": 30.03}, {\"project_name\": \"Eureka-Arcata Sea Level Rise Project 1.0\", \"Benefit\": \"Commercial Dev Developed\", \"Benefit Values\": 7.05}, {\"project_name\": \"Eureka Adaptive Signals Project\", \"Benefit\": \"Commercial Dev Developed\", \"Benefit Values\": 34.27}, {\"project_name\": \"Koster Couplet (Shopp Project)\", \"Benefit\": \"Commercial Dev Developed\", \"Benefit Values\": 11.46}, {\"project_name\": \"Equitable And Sustainable Public Transit Planning For Rural America\", \"Benefit\": \"Commercial Dev Developed\", \"Benefit Values\": 18.46}, {\"project_name\": \"Broadway Middle Couplet\", \"Benefit\": \"Commercial Dev Developed\", \"Benefit Values\": 24.64}, {\"project_name\": \"Eureka-Arcata Corridor Improvement\", \"Benefit\": \"Commercial Dev Developed\", \"Benefit Values\": 34.64}, {\"project_name\": \"Alton Interchange\", \"Benefit\": \"Commercial Dev Developed\", \"Benefit Values\": 12.33}, {\"project_name\": \"South Broadway Shared Path\", \"Benefit\": \"Commercial Dev Developed\", \"Benefit Values\": 38.48}, {\"project_name\": \"Fish Passage Project (Shopp Project)\", \"Benefit\": \"Commercial Dev Developed\", \"Benefit Values\": 44.13}, {\"project_name\": \"Annie & Mary Trail Phase 2\", \"Benefit\": \"Commercial Dev Developed\", \"Benefit Values\": 36.31}, {\"project_name\": \"Willow Creek Charging Station (Shopp Project)\", \"Benefit\": \"Commercial Dev Developed\", \"Benefit Values\": 18.76}, {\"project_name\": \"Crescent City Ada\", \"Benefit\": \"Tons Of Goods Impacted\", \"Benefit Values\": 4.59}, {\"project_name\": \"Connected Communities Plan Project\", \"Benefit\": \"Tons Of Goods Impacted\", \"Benefit Values\": 0.32}, {\"project_name\": \"Arcata Cap & Humboldt Area Rapid Transit\", \"Benefit\": \"Tons Of Goods Impacted\", \"Benefit Values\": 13.77}, {\"project_name\": \"Trinidad Rancheria Access Project\", \"Benefit\": \"Tons Of Goods Impacted\", \"Benefit Values\": 26.09}, {\"project_name\": \"Eureka-Arcata Sea Level Rise Project 1.0\", \"Benefit\": \"Tons Of Goods Impacted\", \"Benefit Values\": 29.4}, {\"project_name\": \"Eureka Adaptive Signals Project\", \"Benefit\": \"Tons Of Goods Impacted\", \"Benefit Values\": 16.59}, {\"project_name\": \"Koster Couplet (Shopp Project)\", \"Benefit\": \"Tons Of Goods Impacted\", \"Benefit Values\": 15.49}, {\"project_name\": \"Equitable And Sustainable Public Transit Planning For Rural America\", \"Benefit\": \"Tons Of Goods Impacted\", \"Benefit Values\": 49.09}, {\"project_name\": \"Broadway Middle Couplet\", \"Benefit\": \"Tons Of Goods Impacted\", \"Benefit Values\": 34.85}, {\"project_name\": \"Eureka-Arcata Corridor Improvement\", \"Benefit\": \"Tons Of Goods Impacted\", \"Benefit Values\": 13.73}, {\"project_name\": \"Alton Interchange\", \"Benefit\": \"Tons Of Goods Impacted\", \"Benefit Values\": 23.61}, {\"project_name\": \"South Broadway Shared Path\", \"Benefit\": \"Tons Of Goods Impacted\", \"Benefit Values\": 27.21}, {\"project_name\": \"Fish Passage Project (Shopp Project)\", \"Benefit\": \"Tons Of Goods Impacted\", \"Benefit Values\": 18.27}, {\"project_name\": \"Annie & Mary Trail Phase 2\", \"Benefit\": \"Tons Of Goods Impacted\", \"Benefit Values\": 49.56}, {\"project_name\": \"Willow Creek Charging Station (Shopp Project)\", \"Benefit\": \"Tons Of Goods Impacted\", \"Benefit Values\": 43.3}, {\"project_name\": \"Crescent City Ada\", \"Benefit\": \"Improve Air Quality\", \"Benefit Values\": 22.02}, {\"project_name\": \"Connected Communities Plan Project\", \"Benefit\": \"Improve Air Quality\", \"Benefit Values\": 8.55}, {\"project_name\": \"Arcata Cap & Humboldt Area Rapid Transit\", \"Benefit\": \"Improve Air Quality\", \"Benefit Values\": 44.13}, {\"project_name\": \"Trinidad Rancheria Access Project\", \"Benefit\": \"Improve Air Quality\", \"Benefit Values\": 24.51}, {\"project_name\": \"Eureka-Arcata Sea Level Rise Project 1.0\", \"Benefit\": \"Improve Air Quality\", \"Benefit Values\": 26.28}, {\"project_name\": \"Eureka Adaptive Signals Project\", \"Benefit\": \"Improve Air Quality\", \"Benefit Values\": 49.97}, {\"project_name\": \"Koster Couplet (Shopp Project)\", \"Benefit\": \"Improve Air Quality\", \"Benefit Values\": 3.84}, {\"project_name\": \"Equitable And Sustainable Public Transit Planning For Rural America\", \"Benefit\": \"Improve Air Quality\", \"Benefit Values\": 43.38}, {\"project_name\": \"Broadway Middle Couplet\", \"Benefit\": \"Improve Air Quality\", \"Benefit Values\": 48.93}, {\"project_name\": \"Eureka-Arcata Corridor Improvement\", \"Benefit\": \"Improve Air Quality\", \"Benefit Values\": 10.58}, {\"project_name\": \"Alton Interchange\", \"Benefit\": \"Improve Air Quality\", \"Benefit Values\": 37.09}, {\"project_name\": \"South Broadway Shared Path\", \"Benefit\": \"Improve Air Quality\", \"Benefit Values\": 2.07}, {\"project_name\": \"Fish Passage Project (Shopp Project)\", \"Benefit\": \"Improve Air Quality\", \"Benefit Values\": 28.4}, {\"project_name\": \"Annie & Mary Trail Phase 2\", \"Benefit\": \"Improve Air Quality\", \"Benefit Values\": 5.63}, {\"project_name\": \"Willow Creek Charging Station (Shopp Project)\", \"Benefit\": \"Improve Air Quality\", \"Benefit Values\": 46.33}, {\"project_name\": \"Crescent City Ada\", \"Benefit\": \"Impact Natural Resources\", \"Benefit Values\": 42.52}, {\"project_name\": \"Connected Communities Plan Project\", \"Benefit\": \"Impact Natural Resources\", \"Benefit Values\": 23.52}, {\"project_name\": \"Arcata Cap & Humboldt Area Rapid Transit\", \"Benefit\": \"Impact Natural Resources\", \"Benefit Values\": 48.98}, {\"project_name\": \"Trinidad Rancheria Access Project\", \"Benefit\": \"Impact Natural Resources\", \"Benefit Values\": 34.72}, {\"project_name\": \"Eureka-Arcata Sea Level Rise Project 1.0\", \"Benefit\": \"Impact Natural Resources\", \"Benefit Values\": 31.23}, {\"project_name\": \"Eureka Adaptive Signals Project\", \"Benefit\": \"Impact Natural Resources\", \"Benefit Values\": 30.9}, {\"project_name\": \"Koster Couplet (Shopp Project)\", \"Benefit\": \"Impact Natural Resources\", \"Benefit Values\": 41.46}, {\"project_name\": \"Equitable And Sustainable Public Transit Planning For Rural America\", \"Benefit\": \"Impact Natural Resources\", \"Benefit Values\": 22.69}, {\"project_name\": \"Broadway Middle Couplet\", \"Benefit\": \"Impact Natural Resources\", \"Benefit Values\": 49.37}, {\"project_name\": \"Eureka-Arcata Corridor Improvement\", \"Benefit\": \"Impact Natural Resources\", \"Benefit Values\": 40.19}, {\"project_name\": \"Alton Interchange\", \"Benefit\": \"Impact Natural Resources\", \"Benefit Values\": 5.29}, {\"project_name\": \"South Broadway Shared Path\", \"Benefit\": \"Impact Natural Resources\", \"Benefit Values\": 36.61}, {\"project_name\": \"Fish Passage Project (Shopp Project)\", \"Benefit\": \"Impact Natural Resources\", \"Benefit Values\": 15.67}, {\"project_name\": \"Annie & Mary Trail Phase 2\", \"Benefit\": \"Impact Natural Resources\", \"Benefit Values\": 49.19}, {\"project_name\": \"Willow Creek Charging Station (Shopp Project)\", \"Benefit\": \"Impact Natural Resources\", \"Benefit Values\": 49.88}, {\"project_name\": \"Crescent City Ada\", \"Benefit\": \"Support Of Trasnportation\", \"Benefit Values\": 5.77}, {\"project_name\": \"Connected Communities Plan Project\", \"Benefit\": \"Support Of Trasnportation\", \"Benefit Values\": 15.52}, {\"project_name\": \"Arcata Cap & Humboldt Area Rapid Transit\", \"Benefit\": \"Support Of Trasnportation\", \"Benefit Values\": 2.34}, {\"project_name\": \"Trinidad Rancheria Access Project\", \"Benefit\": \"Support Of Trasnportation\", \"Benefit Values\": 35.73}, {\"project_name\": \"Eureka-Arcata Sea Level Rise Project 1.0\", \"Benefit\": \"Support Of Trasnportation\", \"Benefit Values\": 8.1}, {\"project_name\": \"Eureka Adaptive Signals Project\", \"Benefit\": \"Support Of Trasnportation\", \"Benefit Values\": 43.14}, {\"project_name\": \"Koster Couplet (Shopp Project)\", \"Benefit\": \"Support Of Trasnportation\", \"Benefit Values\": 32.51}, {\"project_name\": \"Equitable And Sustainable Public Transit Planning For Rural America\", \"Benefit\": \"Support Of Trasnportation\", \"Benefit Values\": 2.72}, {\"project_name\": \"Broadway Middle Couplet\", \"Benefit\": \"Support Of Trasnportation\", \"Benefit Values\": 9.44}, {\"project_name\": \"Eureka-Arcata Corridor Improvement\", \"Benefit\": \"Support Of Trasnportation\", \"Benefit Values\": 12.84}, {\"project_name\": \"Alton Interchange\", \"Benefit\": \"Support Of Trasnportation\", \"Benefit Values\": 31.1}, {\"project_name\": \"South Broadway Shared Path\", \"Benefit\": \"Support Of Trasnportation\", \"Benefit Values\": 48.81}, {\"project_name\": \"Fish Passage Project (Shopp Project)\", \"Benefit\": \"Support Of Trasnportation\", \"Benefit Values\": 35.29}, {\"project_name\": \"Annie & Mary Trail Phase 2\", \"Benefit\": \"Support Of Trasnportation\", \"Benefit Values\": 7.29}, {\"project_name\": \"Willow Creek Charging Station (Shopp Project)\", \"Benefit\": \"Support Of Trasnportation\", \"Benefit Values\": 45.75}]}}, {\"mode\": \"vega-lite\"});\n",
       "</script>"
      ],
      "text/plain": [
       "alt.VConcatChart(...)"
      ]
     },
     "execution_count": 45,
     "metadata": {},
     "output_type": "execute_result"
    }
   ],
   "source": [
    "basic_chart_text & monetary_chart & csis_chart & benefit_chart"
   ]
  }
 ],
 "metadata": {
  "kernelspec": {
   "display_name": "Python 3 (ipykernel)",
   "language": "python",
   "name": "python3"
  },
  "language_info": {
   "codemirror_mode": {
    "name": "ipython",
    "version": 3
   },
   "file_extension": ".py",
   "mimetype": "text/x-python",
   "name": "python",
   "nbconvert_exporter": "python",
   "pygments_lexer": "ipython3",
   "version": "3.10.6"
  }
 },
 "nbformat": 4,
 "nbformat_minor": 5
}
