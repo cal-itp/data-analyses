{
 "cells": [
  {
   "cell_type": "markdown",
   "metadata": {},
   "source": [
    "* what is a service?\n",
    "  - gtfs definition\n",
    "  - defines when a trip is active (e.g. \"service schedule\" is a better word?)\n",
    "  - calendar dates: \"some set of trips apply to this day\"\n",
    "* how many schedules active in a specific day?\n",
    "* how many routes have trips scheduled in a specific day?\n",
    "* how many trips scheduled in a specific day?\n",
    "* how many stops scheduled?\n",
    "  - stops vs stop times?"
   ]
  },
  {
   "cell_type": "code",
   "execution_count": 1,
   "metadata": {},
   "outputs": [],
   "source": [
    "# initial setup\n",
    "\n",
    "%run 0_data_model.ipynb\n",
    "\n",
    "pk_str = [\"calitp_itp_id\", \"calitp_url_number\"]\n",
    "pk_col = (_.calitp_itp_id, _.calitp_url_number)"
   ]
  },
  {
   "cell_type": "code",
   "execution_count": 2,
   "metadata": {},
   "outputs": [
    {
     "data": {
      "text/html": [
       "<div><pre># Source: lazy query\n",
       "# DB Conn: Engine(bigquery://cal-itp-data-infra/?maximum_bytes_billed=100000000)\n",
       "# Preview:\n",
       "</pre><table border=\"0\" class=\"dataframe\">\n",
       "  <thead>\n",
       "    <tr style=\"text-align: right;\">\n",
       "      <th></th>\n",
       "      <th>calitp_itp_id</th>\n",
       "      <th>calitp_url_number</th>\n",
       "      <th>service_id</th>\n",
       "      <th>service_cal_start_date</th>\n",
       "      <th>service_cal_end_date</th>\n",
       "      <th>calitp_extracted_at</th>\n",
       "      <th>service_indicator</th>\n",
       "      <th>service_date</th>\n",
       "      <th>service_inclusion</th>\n",
       "      <th>service_exclusion</th>\n",
       "      <th>is_in_service</th>\n",
       "    </tr>\n",
       "  </thead>\n",
       "  <tbody>\n",
       "    <tr>\n",
       "      <th>0</th>\n",
       "      <td>256</td>\n",
       "      <td>0</td>\n",
       "      <td>Sunday</td>\n",
       "      <td>2010-12-31</td>\n",
       "      <td>2020-12-31</td>\n",
       "      <td>2021-04-16</td>\n",
       "      <td>0</td>\n",
       "      <td>2019-06-17</td>\n",
       "      <td>None</td>\n",
       "      <td>None</td>\n",
       "      <td>False</td>\n",
       "    </tr>\n",
       "    <tr>\n",
       "      <th>1</th>\n",
       "      <td>256</td>\n",
       "      <td>0</td>\n",
       "      <td>Sunday</td>\n",
       "      <td>2010-12-31</td>\n",
       "      <td>2020-12-31</td>\n",
       "      <td>2021-04-16</td>\n",
       "      <td>0</td>\n",
       "      <td>2014-08-25</td>\n",
       "      <td>None</td>\n",
       "      <td>None</td>\n",
       "      <td>False</td>\n",
       "    </tr>\n",
       "    <tr>\n",
       "      <th>2</th>\n",
       "      <td>256</td>\n",
       "      <td>0</td>\n",
       "      <td>Sunday</td>\n",
       "      <td>2010-12-31</td>\n",
       "      <td>2020-12-31</td>\n",
       "      <td>2021-04-16</td>\n",
       "      <td>0</td>\n",
       "      <td>2011-12-05</td>\n",
       "      <td>None</td>\n",
       "      <td>None</td>\n",
       "      <td>False</td>\n",
       "    </tr>\n",
       "    <tr>\n",
       "      <th>3</th>\n",
       "      <td>256</td>\n",
       "      <td>0</td>\n",
       "      <td>Saturday</td>\n",
       "      <td>2010-12-31</td>\n",
       "      <td>2020-12-31</td>\n",
       "      <td>2021-04-16</td>\n",
       "      <td>0</td>\n",
       "      <td>2012-06-18</td>\n",
       "      <td>None</td>\n",
       "      <td>None</td>\n",
       "      <td>False</td>\n",
       "    </tr>\n",
       "    <tr>\n",
       "      <th>4</th>\n",
       "      <td>256</td>\n",
       "      <td>0</td>\n",
       "      <td>Saturday</td>\n",
       "      <td>2010-12-31</td>\n",
       "      <td>2020-12-31</td>\n",
       "      <td>2021-04-16</td>\n",
       "      <td>0</td>\n",
       "      <td>2013-02-11</td>\n",
       "      <td>None</td>\n",
       "      <td>None</td>\n",
       "      <td>False</td>\n",
       "    </tr>\n",
       "  </tbody>\n",
       "</table>\n",
       "<p>5 rows × 11 columns</p><p># .. may have more rows</p></div>"
      ],
      "text/plain": [
       "# Source: lazy query\n",
       "# DB Conn: Engine(bigquery://cal-itp-data-infra/?maximum_bytes_billed=100000000)\n",
       "# Preview:\n",
       "   calitp_itp_id  calitp_url_number service_id service_cal_start_date  \\\n",
       "0            256                  0     Sunday             2010-12-31   \n",
       "1            256                  0     Sunday             2010-12-31   \n",
       "2            256                  0     Sunday             2010-12-31   \n",
       "3            256                  0   Saturday             2010-12-31   \n",
       "4            256                  0   Saturday             2010-12-31   \n",
       "\n",
       "  service_cal_end_date calitp_extracted_at service_indicator service_date  \\\n",
       "0           2020-12-31          2021-04-16                 0   2019-06-17   \n",
       "1           2020-12-31          2021-04-16                 0   2014-08-25   \n",
       "2           2020-12-31          2021-04-16                 0   2011-12-05   \n",
       "3           2020-12-31          2021-04-16                 0   2012-06-18   \n",
       "4           2020-12-31          2021-04-16                 0   2013-02-11   \n",
       "\n",
       "  service_inclusion service_exclusion  is_in_service  \n",
       "0              None              None          False  \n",
       "1              None              None          False  \n",
       "2              None              None          False  \n",
       "3              None              None          False  \n",
       "4              None              None          False  \n",
       "# .. may have more rows"
      ]
     },
     "execution_count": 2,
     "metadata": {},
     "output_type": "execute_result"
    }
   ],
   "source": [
    "tbl_schedule_daily"
   ]
  },
  {
   "cell_type": "code",
   "execution_count": 3,
   "metadata": {},
   "outputs": [],
   "source": [
    "from plotnine import *\n",
    "import datetime\n",
    "\n",
    "DATE_START = str(datetime.date.today() - datetime.timedelta(weeks = 2))\n",
    "DATE_END = str(datetime.date.today())"
   ]
  },
  {
   "cell_type": "markdown",
   "metadata": {
    "tags": []
   },
   "source": [
    "# Daily schedules"
   ]
  },
  {
   "cell_type": "markdown",
   "metadata": {},
   "source": [
    "## Total counts and date ranges"
   ]
  },
  {
   "cell_type": "code",
   "execution_count": 4,
   "metadata": {},
   "outputs": [
    {
     "data": {
      "text/html": [
       "<table border=\"0\" class=\"dataframe\">\n",
       "  <thead>\n",
       "    <tr style=\"text-align: right;\">\n",
       "      <th></th>\n",
       "      <th>ttl_schedule_days</th>\n",
       "      <th>ttl_unique_service_ids</th>\n",
       "      <th>min_date</th>\n",
       "      <th>max_date</th>\n",
       "      <th>ttl_inclusions</th>\n",
       "      <th>ttl_exclusions</th>\n",
       "    </tr>\n",
       "  </thead>\n",
       "  <tbody>\n",
       "    <tr>\n",
       "      <th>0</th>\n",
       "      <td>469094</td>\n",
       "      <td>1038</td>\n",
       "      <td>2010-12-31</td>\n",
       "      <td>2050-01-01</td>\n",
       "      <td>6090</td>\n",
       "      <td>0</td>\n",
       "    </tr>\n",
       "  </tbody>\n",
       "</table>\n",
       "<p>1 rows × 6 columns</p>"
      ],
      "text/plain": [
       "   ttl_schedule_days  ttl_unique_service_ids    min_date    max_date  \\\n",
       "0             469094                    1038  2010-12-31  2050-01-01   \n",
       "\n",
       "   ttl_inclusions  ttl_exclusions  \n",
       "0            6090               0  "
      ]
     },
     "execution_count": 4,
     "metadata": {},
     "output_type": "execute_result"
    }
   ],
   "source": [
    "(\n",
    "    tbl_schedule_daily\n",
    "    >> filter(_.is_in_service)\n",
    "    >> summarize(\n",
    "        ttl_schedule_days=n(_),\n",
    "        ttl_unique_service_ids = _.service_id.nunique(),\n",
    "        min_date=_.service_date.min(),\n",
    "        max_date=_.service_date.max(),\n",
    "        ttl_inclusions=_.service_inclusion.count(),\n",
    "        ttl_exclusions=_.service_exclusion.count(),\n",
    "    )\n",
    "    >> collect()\n",
    ")"
   ]
  },
  {
   "cell_type": "code",
   "execution_count": 5,
   "metadata": {},
   "outputs": [
    {
     "data": {
      "image/png": "[encoded data removed]",
      "text/plain": [
       "<Figure size 640x480 with 1 Axes>"
      ]
     },
     "metadata": {},
     "output_type": "display_data"
    },
    {
     "data": {
      "text/plain": [
       "<ggplot: (-9223372036554963305)>"
      ]
     },
     "execution_count": 5,
     "metadata": {},
     "output_type": "execute_result"
    }
   ],
   "source": [
    "(\n",
    "    tbl_schedule_daily\n",
    "    >> count(year=_.service_date.dt.year, is_in_service=_.is_in_service)\n",
    "    >> collect()\n",
    "    >> ggplot(aes(\"year\", \"n\", fill=\"is_in_service\")) + geom_col()\n",
    ")"
   ]
  },
  {
   "cell_type": "markdown",
   "metadata": {},
   "source": [
    "## How many daily schedules are active for the past week?"
   ]
  },
  {
   "cell_type": "code",
   "execution_count": 6,
   "metadata": {},
   "outputs": [
    {
     "data": {
      "text/html": [
       "<table border=\"0\" class=\"dataframe\">\n",
       "  <thead>\n",
       "    <tr style=\"text-align: right;\">\n",
       "      <th></th>\n",
       "      <th>ttl_schedule_days</th>\n",
       "      <th>ttl_unique_service_ids</th>\n",
       "      <th>min_date</th>\n",
       "      <th>max_date</th>\n",
       "      <th>ttl_inclusions</th>\n",
       "      <th>ttl_exclusions</th>\n",
       "    </tr>\n",
       "  </thead>\n",
       "  <tbody>\n",
       "    <tr>\n",
       "      <th>0</th>\n",
       "      <td>7059</td>\n",
       "      <td>830</td>\n",
       "      <td>2021-05-03</td>\n",
       "      <td>2021-05-17</td>\n",
       "      <td>794</td>\n",
       "      <td>0</td>\n",
       "    </tr>\n",
       "  </tbody>\n",
       "</table>\n",
       "<p>1 rows × 6 columns</p>"
      ],
      "text/plain": [
       "   ttl_schedule_days  ttl_unique_service_ids    min_date    max_date  \\\n",
       "0               7059                     830  2021-05-03  2021-05-17   \n",
       "\n",
       "   ttl_inclusions  ttl_exclusions  \n",
       "0             794               0  "
      ]
     },
     "execution_count": 6,
     "metadata": {},
     "output_type": "execute_result"
    }
   ],
   "source": [
    "(\n",
    "    tbl_schedule_daily\n",
    "    >> filter(_.is_in_service, _.service_date.between(DATE_START, DATE_END))\n",
    "    >> summarize(\n",
    "        ttl_schedule_days=n(_),\n",
    "        ttl_unique_service_ids=_.service_id.nunique(),\n",
    "        min_date=_.service_date.min(),\n",
    "        max_date=_.service_date.max(),\n",
    "        ttl_inclusions=_.service_inclusion.count(),\n",
    "        ttl_exclusions=_.service_exclusion.count(),\n",
    "    )\n",
    "    >> collect()\n",
    ")"
   ]
  },
  {
   "cell_type": "markdown",
   "metadata": {},
   "source": [
    "## How does calendar_dates affect daily schedules?"
   ]
  },
  {
   "cell_type": "code",
   "execution_count": 7,
   "metadata": {},
   "outputs": [
    {
     "data": {
      "text/html": [
       "<table border=\"0\" class=\"dataframe\">\n",
       "  <thead>\n",
       "    <tr style=\"text-align: right;\">\n",
       "      <th></th>\n",
       "      <th>service_indicator</th>\n",
       "      <th>service_inclusion</th>\n",
       "      <th>service_exclusion</th>\n",
       "      <th>is_in_service</th>\n",
       "      <th>n</th>\n",
       "    </tr>\n",
       "  </thead>\n",
       "  <tbody>\n",
       "    <tr>\n",
       "      <th>5</th>\n",
       "      <td>0</td>\n",
       "      <td>True</td>\n",
       "      <td>None</td>\n",
       "      <td>True</td>\n",
       "      <td>452</td>\n",
       "    </tr>\n",
       "    <tr>\n",
       "      <th>6</th>\n",
       "      <td>0</td>\n",
       "      <td>None</td>\n",
       "      <td>True</td>\n",
       "      <td>False</td>\n",
       "      <td>107</td>\n",
       "    </tr>\n",
       "    <tr>\n",
       "      <th>0</th>\n",
       "      <td>0</td>\n",
       "      <td>None</td>\n",
       "      <td>None</td>\n",
       "      <td>False</td>\n",
       "      <td>585847</td>\n",
       "    </tr>\n",
       "    <tr>\n",
       "      <th>7</th>\n",
       "      <td>1</td>\n",
       "      <td>True</td>\n",
       "      <td>None</td>\n",
       "      <td>True</td>\n",
       "      <td>3</td>\n",
       "    </tr>\n",
       "    <tr>\n",
       "      <th>3</th>\n",
       "      <td>1</td>\n",
       "      <td>None</td>\n",
       "      <td>True</td>\n",
       "      <td>False</td>\n",
       "      <td>2350</td>\n",
       "    </tr>\n",
       "    <tr>\n",
       "      <th>1</th>\n",
       "      <td>1</td>\n",
       "      <td>None</td>\n",
       "      <td>None</td>\n",
       "      <td>True</td>\n",
       "      <td>463004</td>\n",
       "    </tr>\n",
       "    <tr>\n",
       "      <th>2</th>\n",
       "      <td>None</td>\n",
       "      <td>True</td>\n",
       "      <td>None</td>\n",
       "      <td>True</td>\n",
       "      <td>5635</td>\n",
       "    </tr>\n",
       "    <tr>\n",
       "      <th>4</th>\n",
       "      <td>None</td>\n",
       "      <td>None</td>\n",
       "      <td>True</td>\n",
       "      <td>False</td>\n",
       "      <td>456</td>\n",
       "    </tr>\n",
       "  </tbody>\n",
       "</table>\n",
       "<p>8 rows × 5 columns</p>"
      ],
      "text/plain": [
       "  service_indicator service_inclusion service_exclusion  is_in_service       n\n",
       "5                 0              True              None           True     452\n",
       "6                 0              None              True          False     107\n",
       "0                 0              None              None          False  585847\n",
       "7                 1              True              None           True       3\n",
       "3                 1              None              True          False    2350\n",
       "1                 1              None              None           True  463004\n",
       "2              None              True              None           True    5635\n",
       "4              None              None              True          False     456"
      ]
     },
     "execution_count": 7,
     "metadata": {},
     "output_type": "execute_result"
    }
   ],
   "source": [
    "(\n",
    "    tbl_schedule_daily\n",
    "    >> count(\n",
    "        _.service_indicator, _.service_inclusion, _.service_exclusion, _.is_in_service\n",
    "    )\n",
    "    >> collect()\n",
    "    >> arrange(_.service_indicator, _.service_inclusion, _.service_exclusion)\n",
    ")"
   ]
  },
  {
   "cell_type": "code",
   "execution_count": 8,
   "metadata": {},
   "outputs": [
    {
     "data": {
      "text/html": [
       "<div><pre># Source: lazy query\n",
       "# DB Conn: Engine(bigquery://cal-itp-data-infra/?maximum_bytes_billed=100000000)\n",
       "# Preview:\n",
       "</pre><table border=\"0\" class=\"dataframe\">\n",
       "  <thead>\n",
       "    <tr style=\"text-align: right;\">\n",
       "      <th></th>\n",
       "      <th>ttl_inclusion</th>\n",
       "      <th>ttl_exclusion</th>\n",
       "    </tr>\n",
       "  </thead>\n",
       "  <tbody>\n",
       "    <tr>\n",
       "      <th>0</th>\n",
       "      <td>6090</td>\n",
       "      <td>2913</td>\n",
       "    </tr>\n",
       "  </tbody>\n",
       "</table>\n",
       "<p>1 rows × 2 columns</p><p># .. may have more rows</p></div>"
      ],
      "text/plain": [
       "# Source: lazy query\n",
       "# DB Conn: Engine(bigquery://cal-itp-data-infra/?maximum_bytes_billed=100000000)\n",
       "# Preview:\n",
       "   ttl_inclusion  ttl_exclusion\n",
       "0           6090           2913\n",
       "# .. may have more rows"
      ]
     },
     "execution_count": 8,
     "metadata": {},
     "output_type": "execute_result"
    }
   ],
   "source": [
    "(\n",
    "    tbl_schedule_daily\n",
    "    >> summarize(\n",
    "        ttl_inclusion=_.service_inclusion.count(),\n",
    "        ttl_exclusion=_.service_exclusion.count(),\n",
    "    )\n",
    ")"
   ]
  },
  {
   "cell_type": "markdown",
   "metadata": {},
   "source": [
    "## Which schedules use only `calendar_dates.txt`?"
   ]
  },
  {
   "cell_type": "code",
   "execution_count": 9,
   "metadata": {},
   "outputs": [
    {
     "data": {
      "text/html": [
       "<div><pre># Source: lazy query\n",
       "# DB Conn: Engine(bigquery://cal-itp-data-infra/?maximum_bytes_billed=100000000)\n",
       "# Preview:\n",
       "</pre><table border=\"0\" class=\"dataframe\">\n",
       "  <thead>\n",
       "    <tr style=\"text-align: right;\">\n",
       "      <th></th>\n",
       "      <th>calitp_itp_id</th>\n",
       "      <th>calitp_url_number</th>\n",
       "      <th>service_id</th>\n",
       "      <th>service_cal_start_date</th>\n",
       "      <th>service_cal_end_date</th>\n",
       "      <th>calitp_extracted_at</th>\n",
       "      <th>service_indicator</th>\n",
       "      <th>service_date</th>\n",
       "      <th>service_inclusion</th>\n",
       "      <th>service_exclusion</th>\n",
       "      <th>is_in_service</th>\n",
       "    </tr>\n",
       "  </thead>\n",
       "  <tbody>\n",
       "    <tr>\n",
       "      <th>0</th>\n",
       "      <td>1</td>\n",
       "      <td>4</td>\n",
       "      <td>FEB21-Weekday-72-FEB21-1111100-</td>\n",
       "      <td>None</td>\n",
       "      <td>None</td>\n",
       "      <td>None</td>\n",
       "      <td>None</td>\n",
       "      <td>2021-05-27</td>\n",
       "      <td>True</td>\n",
       "      <td>None</td>\n",
       "      <td>True</td>\n",
       "    </tr>\n",
       "  </tbody>\n",
       "</table>\n",
       "<p>1 rows × 11 columns</p><p># .. may have more rows</p></div>"
      ],
      "text/plain": [
       "# Source: lazy query\n",
       "# DB Conn: Engine(bigquery://cal-itp-data-infra/?maximum_bytes_billed=100000000)\n",
       "# Preview:\n",
       "   calitp_itp_id  calitp_url_number                       service_id  \\\n",
       "0              1                  4  FEB21-Weekday-72-FEB21-1111100-   \n",
       "\n",
       "  service_cal_start_date service_cal_end_date calitp_extracted_at  \\\n",
       "0                   None                 None                None   \n",
       "\n",
       "  service_indicator service_date  service_inclusion service_exclusion  \\\n",
       "0              None   2021-05-27               True              None   \n",
       "\n",
       "   is_in_service  \n",
       "0           True  \n",
       "# .. may have more rows"
      ]
     },
     "execution_count": 9,
     "metadata": {},
     "output_type": "execute_result"
    }
   ],
   "source": [
    "tbl_schedule_daily >> filter(_.service_indicator.isna()) >> head(1)"
   ]
  },
  {
   "cell_type": "code",
   "execution_count": 10,
   "metadata": {},
   "outputs": [
    {
     "data": {
      "text/html": [
       "<table border=\"0\" class=\"dataframe\">\n",
       "  <thead>\n",
       "    <tr style=\"text-align: right;\">\n",
       "      <th></th>\n",
       "      <th>calitp_itp_id</th>\n",
       "      <th>calitp_url_number</th>\n",
       "      <th>service_id</th>\n",
       "      <th>n</th>\n",
       "    </tr>\n",
       "  </thead>\n",
       "  <tbody>\n",
       "    <tr>\n",
       "      <th>0</th>\n",
       "      <td>278</td>\n",
       "      <td>0</td>\n",
       "      <td>73346-1111111-0</td>\n",
       "      <td>126</td>\n",
       "    </tr>\n",
       "    <tr>\n",
       "      <th>1</th>\n",
       "      <td>278</td>\n",
       "      <td>0</td>\n",
       "      <td>72987-1111100-0</td>\n",
       "      <td>90</td>\n",
       "    </tr>\n",
       "    <tr>\n",
       "      <th>2</th>\n",
       "      <td>278</td>\n",
       "      <td>0</td>\n",
       "      <td>72952-1111100-0</td>\n",
       "      <td>88</td>\n",
       "    </tr>\n",
       "    <tr>\n",
       "      <th>3</th>\n",
       "      <td>278</td>\n",
       "      <td>0</td>\n",
       "      <td>72965-1111100-0</td>\n",
       "      <td>88</td>\n",
       "    </tr>\n",
       "    <tr>\n",
       "      <th>4</th>\n",
       "      <td>278</td>\n",
       "      <td>0</td>\n",
       "      <td>72954-1111100-0</td>\n",
       "      <td>88</td>\n",
       "    </tr>\n",
       "    <tr>\n",
       "      <th>...</th>\n",
       "      <td>...</td>\n",
       "      <td>...</td>\n",
       "      <td>...</td>\n",
       "      <td>...</td>\n",
       "    </tr>\n",
       "    <tr>\n",
       "      <th>218</th>\n",
       "      <td>278</td>\n",
       "      <td>0</td>\n",
       "      <td>72982-0000010-0</td>\n",
       "      <td>1</td>\n",
       "    </tr>\n",
       "    <tr>\n",
       "      <th>219</th>\n",
       "      <td>343</td>\n",
       "      <td>0</td>\n",
       "      <td>c_21375_b_29794_d_64</td>\n",
       "      <td>1</td>\n",
       "    </tr>\n",
       "    <tr>\n",
       "      <th>220</th>\n",
       "      <td>48</td>\n",
       "      <td>0</td>\n",
       "      <td>108699a6-0536-4926-bab1-56d4547e77c9</td>\n",
       "      <td>1</td>\n",
       "    </tr>\n",
       "    <tr>\n",
       "      <th>221</th>\n",
       "      <td>278</td>\n",
       "      <td>0</td>\n",
       "      <td>72976-0000001-0</td>\n",
       "      <td>1</td>\n",
       "    </tr>\n",
       "    <tr>\n",
       "      <th>222</th>\n",
       "      <td>182</td>\n",
       "      <td>0</td>\n",
       "      <td>DSE-PP-1615</td>\n",
       "      <td>1</td>\n",
       "    </tr>\n",
       "  </tbody>\n",
       "</table>\n",
       "<p>223 rows × 4 columns</p>"
      ],
      "text/plain": [
       "     calitp_itp_id  calitp_url_number                            service_id  \\\n",
       "0              278                  0                       73346-1111111-0   \n",
       "1              278                  0                       72987-1111100-0   \n",
       "2              278                  0                       72952-1111100-0   \n",
       "3              278                  0                       72965-1111100-0   \n",
       "4              278                  0                       72954-1111100-0   \n",
       "..             ...                ...                                   ...   \n",
       "218            278                  0                       72982-0000010-0   \n",
       "219            343                  0                  c_21375_b_29794_d_64   \n",
       "220             48                  0  108699a6-0536-4926-bab1-56d4547e77c9   \n",
       "221            278                  0                       72976-0000001-0   \n",
       "222            182                  0                           DSE-PP-1615   \n",
       "\n",
       "       n  \n",
       "0    126  \n",
       "1     90  \n",
       "2     88  \n",
       "3     88  \n",
       "4     88  \n",
       "..   ...  \n",
       "218    1  \n",
       "219    1  \n",
       "220    1  \n",
       "221    1  \n",
       "222    1  \n",
       "\n",
       "[223 rows x 4 columns]"
      ]
     },
     "execution_count": 10,
     "metadata": {},
     "output_type": "execute_result"
    }
   ],
   "source": [
    "exception_schedules = (\n",
    "    tbl_schedule_daily\n",
    "    >> group_by(_.calitp_itp_id, _.calitp_url_number, _.service_id)\n",
    "    >> filter(_.service_indicator.isna().all())\n",
    "    >> ungroup()\n",
    ")\n",
    "\n",
    "exception_counts = (\n",
    "    exception_schedules\n",
    "    >> count(_.calitp_itp_id, _.calitp_url_number, _.service_id)\n",
    "    >> arrange(-_.n)\n",
    ")\n",
    "\n",
    "df_exception_counts = exception_counts >> collect()\n",
    "df_exception_counts"
   ]
  },
  {
   "cell_type": "markdown",
   "metadata": {},
   "source": [
    "### Do they occur on specific days?\n",
    "\n",
    "It looks like there are more weekday entries, but seem fairly evenly spread out."
   ]
  },
  {
   "cell_type": "code",
   "execution_count": 11,
   "metadata": {},
   "outputs": [
    {
     "data": {
      "text/html": [
       "<table border=\"0\" class=\"dataframe\">\n",
       "  <thead>\n",
       "    <tr style=\"text-align: right;\">\n",
       "      <th></th>\n",
       "      <th>day_name</th>\n",
       "      <th>n</th>\n",
       "    </tr>\n",
       "  </thead>\n",
       "  <tbody>\n",
       "    <tr>\n",
       "      <th>0</th>\n",
       "      <td>Friday</td>\n",
       "      <td>933</td>\n",
       "    </tr>\n",
       "    <tr>\n",
       "      <th>1</th>\n",
       "      <td>Monday</td>\n",
       "      <td>898</td>\n",
       "    </tr>\n",
       "    <tr>\n",
       "      <th>2</th>\n",
       "      <td>Thursday</td>\n",
       "      <td>863</td>\n",
       "    </tr>\n",
       "    <tr>\n",
       "      <th>3</th>\n",
       "      <td>Tuesday</td>\n",
       "      <td>830</td>\n",
       "    </tr>\n",
       "    <tr>\n",
       "      <th>4</th>\n",
       "      <td>Wednesday</td>\n",
       "      <td>821</td>\n",
       "    </tr>\n",
       "    <tr>\n",
       "      <th>5</th>\n",
       "      <td>Saturday</td>\n",
       "      <td>698</td>\n",
       "    </tr>\n",
       "    <tr>\n",
       "      <th>6</th>\n",
       "      <td>Sunday</td>\n",
       "      <td>626</td>\n",
       "    </tr>\n",
       "  </tbody>\n",
       "</table>\n",
       "<p>7 rows × 2 columns</p>"
      ],
      "text/plain": [
       "    day_name    n\n",
       "0     Friday  933\n",
       "1     Monday  898\n",
       "2   Thursday  863\n",
       "3    Tuesday  830\n",
       "4  Wednesday  821\n",
       "5   Saturday  698\n",
       "6     Sunday  626"
      ]
     },
     "execution_count": 11,
     "metadata": {},
     "output_type": "execute_result"
    }
   ],
   "source": [
    "exception_dates = (\n",
    "    exception_schedules\n",
    "    >> left_join(_, tbl.views_dim_date(), {\"service_date\": \"full_date\"})    \n",
    "    >> mutate(is_weekend = _.day_name.isin([\"Saturday\", \"Sunday\"]))\n",
    ")\n",
    "\n",
    "(exception_dates\n",
    "        >> count(_.day_name) >> collect()\n",
    "#     >> collect()\n",
    "#     >> ggplot(aes(\"service_date\", \"n\")) + geom_col()\n",
    ")"
   ]
  },
  {
   "cell_type": "markdown",
   "metadata": {},
   "source": [
    "### Do they occur on specific dates?"
   ]
  },
  {
   "cell_type": "code",
   "execution_count": 12,
   "metadata": {},
   "outputs": [
    {
     "data": {
      "image/png": "[encoded data removed]",
      "text/plain": [
       "<Figure size 640x480 with 1 Axes>"
      ]
     },
     "metadata": {},
     "output_type": "display_data"
    },
    {
     "data": {
      "text/plain": [
       "<ggplot: (299865457)>"
      ]
     },
     "execution_count": 12,
     "metadata": {},
     "output_type": "execute_result"
    }
   ],
   "source": [
    "join_keys = [\"calitp_itp_id\", \"calitp_url_number\", \"service_id\"]\n",
    "join_cols = [_[k] for k in join_keys]\n",
    "\n",
    "(\n",
    "    exception_dates\n",
    "    >> filter(_.service_date.between(\"2020-01-01\", \"2021-12-31\"))\n",
    "    >> count(_.service_date)\n",
    "    >> collect()\n",
    "    >> mutate(service_date = _.service_date.astype(\"datetime64[ns]\"))\n",
    "    >> ggplot(aes(\"service_date\", \"n\")) + geom_col() + theme(axis_text_x = element_text(angle = 45, hjust = 1))\n",
    ")"
   ]
  },
  {
   "cell_type": "markdown",
   "metadata": {},
   "source": [
    "### Use 1: regular service"
   ]
  },
  {
   "cell_type": "code",
   "execution_count": 13,
   "metadata": {},
   "outputs": [
    {
     "data": {
      "text/html": [
       "<div><pre># Source: lazy query\n",
       "# DB Conn: Engine(bigquery://cal-itp-data-infra/?maximum_bytes_billed=100000000)\n",
       "# Preview:\n",
       "</pre><table border=\"0\" class=\"dataframe\">\n",
       "  <thead>\n",
       "    <tr style=\"text-align: right;\">\n",
       "      <th></th>\n",
       "      <th>calitp_itp_id</th>\n",
       "      <th>calitp_url_number</th>\n",
       "      <th>n</th>\n",
       "    </tr>\n",
       "  </thead>\n",
       "  <tbody>\n",
       "    <tr>\n",
       "      <th>0</th>\n",
       "      <td>8</td>\n",
       "      <td>1</td>\n",
       "      <td>109</td>\n",
       "    </tr>\n",
       "    <tr>\n",
       "      <th>1</th>\n",
       "      <td>278</td>\n",
       "      <td>0</td>\n",
       "      <td>36</td>\n",
       "    </tr>\n",
       "    <tr>\n",
       "      <th>2</th>\n",
       "      <td>182</td>\n",
       "      <td>0</td>\n",
       "      <td>16</td>\n",
       "    </tr>\n",
       "    <tr>\n",
       "      <th>3</th>\n",
       "      <td>310</td>\n",
       "      <td>1</td>\n",
       "      <td>8</td>\n",
       "    </tr>\n",
       "    <tr>\n",
       "      <th>4</th>\n",
       "      <td>343</td>\n",
       "      <td>0</td>\n",
       "      <td>6</td>\n",
       "    </tr>\n",
       "  </tbody>\n",
       "</table>\n",
       "<p>5 rows × 3 columns</p><p># .. may have more rows</p></div>"
      ],
      "text/plain": [
       "# Source: lazy query\n",
       "# DB Conn: Engine(bigquery://cal-itp-data-infra/?maximum_bytes_billed=100000000)\n",
       "# Preview:\n",
       "   calitp_itp_id  calitp_url_number    n\n",
       "0              8                  1  109\n",
       "1            278                  0   36\n",
       "2            182                  0   16\n",
       "3            310                  1    8\n",
       "4            343                  0    6\n",
       "# .. may have more rows"
      ]
     },
     "execution_count": 13,
     "metadata": {},
     "output_type": "execute_result"
    }
   ],
   "source": [
    "(\n",
    "    exception_schedules\n",
    "    >> distinct(_.calitp_itp_id, _.calitp_url_number, _.service_id)\n",
    "    >> count(_.calitp_itp_id, _.calitp_url_number)\n",
    "    >> head()\n",
    ")"
   ]
  },
  {
   "cell_type": "code",
   "execution_count": 14,
   "metadata": {},
   "outputs": [
    {
     "data": {
      "image/png": "[encoded data removed]",
      "text/plain": [
       "<Figure size 640x480 with 1 Axes>"
      ]
     },
     "metadata": {},
     "output_type": "display_data"
    },
    {
     "data": {
      "text/plain": [
       "<ggplot: (-9223372036525444818)>"
      ]
     },
     "execution_count": 14,
     "metadata": {},
     "output_type": "execute_result"
    }
   ],
   "source": [
    "filter_itp8 = filter(_.calitp_itp_id == 8, _.calitp_url_number == 1)\n",
    "\n",
    "(\n",
    "    exception_schedules\n",
    "    >> filter_itp8\n",
    "    >> filter(_.service_date.dt.year.isin([2020, 2021]))\n",
    "    >> collect()\n",
    "    >> count(_.service_date)\n",
    "    >> mutate(service_date = _.service_date.astype(\"datetime64[ns]\"))\n",
    "    >> ggplot(aes(\"service_date\", \"n\")) + geom_col()\n",
    ")"
   ]
  },
  {
   "cell_type": "markdown",
   "metadata": {},
   "source": [
    "Note that they also have a `calendar.txt`, with 4 entries:"
   ]
  },
  {
   "cell_type": "code",
   "execution_count": 15,
   "metadata": {},
   "outputs": [
    {
     "data": {
      "text/html": [
       "<table border=\"0\" class=\"dataframe\">\n",
       "  <thead>\n",
       "    <tr style=\"text-align: right;\">\n",
       "      <th></th>\n",
       "      <th>n</th>\n",
       "    </tr>\n",
       "  </thead>\n",
       "  <tbody>\n",
       "    <tr>\n",
       "      <th>0</th>\n",
       "      <td>4</td>\n",
       "    </tr>\n",
       "  </tbody>\n",
       "</table>\n",
       "<p>1 rows × 1 columns</p>"
      ],
      "text/plain": [
       "   n\n",
       "0  4"
      ]
     },
     "execution_count": 15,
     "metadata": {},
     "output_type": "execute_result"
    }
   ],
   "source": [
    "tbl.gtfs_schedule_calendar() >> filter_itp8 >> count() >> collect()"
   ]
  },
  {
   "cell_type": "markdown",
   "metadata": {},
   "source": [
    "However, it does not have any corresponding trips. In this case, it looks like they rely purely on their `calendar_dates.txt` file!"
   ]
  },
  {
   "cell_type": "code",
   "execution_count": 16,
   "metadata": {},
   "outputs": [
    {
     "data": {
      "text/html": [
       "<div><pre># Source: lazy query\n",
       "# DB Conn: Engine(bigquery://cal-itp-data-infra/?maximum_bytes_billed=100000000)\n",
       "# Preview:\n",
       "</pre><table border=\"0\" class=\"dataframe\">\n",
       "  <thead>\n",
       "    <tr style=\"text-align: right;\">\n",
       "      <th></th>\n",
       "      <th>n</th>\n",
       "    </tr>\n",
       "  </thead>\n",
       "  <tbody>\n",
       "    <tr>\n",
       "      <th>0</th>\n",
       "      <td>0</td>\n",
       "    </tr>\n",
       "  </tbody>\n",
       "</table>\n",
       "<p>1 rows × 1 columns</p><p># .. may have more rows</p></div>"
      ],
      "text/plain": [
       "# Source: lazy query\n",
       "# DB Conn: Engine(bigquery://cal-itp-data-infra/?maximum_bytes_billed=100000000)\n",
       "# Preview:\n",
       "   n\n",
       "0  0\n",
       "# .. may have more rows"
      ]
     },
     "execution_count": 16,
     "metadata": {},
     "output_type": "execute_result"
    }
   ],
   "source": [
    "(\n",
    "    tbl.gtfs_schedule_calendar()\n",
    "    >> filter_itp8\n",
    "    >> inner_join(_, tbl.gtfs_schedule_trips(), [*pk_str, \"service_id\"])\n",
    "    >> count()\n",
    ")"
   ]
  },
  {
   "cell_type": "markdown",
   "metadata": {},
   "source": [
    "### Use 2: rare schedules"
   ]
  },
  {
   "cell_type": "code",
   "execution_count": 17,
   "metadata": {},
   "outputs": [
    {
     "data": {
      "text/html": [
       "<div><pre># Source: lazy query\n",
       "# DB Conn: Engine(bigquery://cal-itp-data-infra/?maximum_bytes_billed=100000000)\n",
       "# Preview:\n",
       "</pre><table border=\"0\" class=\"dataframe\">\n",
       "  <thead>\n",
       "    <tr style=\"text-align: right;\">\n",
       "      <th></th>\n",
       "      <th>route_long_name</th>\n",
       "      <th>route_url</th>\n",
       "      <th>route_type</th>\n",
       "    </tr>\n",
       "  </thead>\n",
       "  <tbody>\n",
       "    <tr>\n",
       "      <th>0</th>\n",
       "      <td>The Link - Baldwin Hills Parklands</td>\n",
       "      <td>https://dpw.lacounty.gov/transit/TheLinkBaldwin.aspx</td>\n",
       "      <td>3</td>\n",
       "    </tr>\n",
       "  </tbody>\n",
       "</table>\n",
       "<p>1 rows × 3 columns</p><p># .. may have more rows</p></div>"
      ],
      "text/plain": [
       "# Source: lazy query\n",
       "# DB Conn: Engine(bigquery://cal-itp-data-infra/?maximum_bytes_billed=100000000)\n",
       "# Preview:\n",
       "                      route_long_name  \\\n",
       "0  The Link - Baldwin Hills Parklands   \n",
       "\n",
       "                                           route_url route_type  \n",
       "0  https://dpw.lacounty.gov/transit/TheLinkBaldwi...          3  \n",
       "# .. may have more rows"
      ]
     },
     "execution_count": 17,
     "metadata": {},
     "output_type": "execute_result"
    }
   ],
   "source": [
    "(\n",
    "    tbl.gtfs_schedule_trips()\n",
    "    >> filter(\n",
    "        _.calitp_itp_id == 177,\n",
    "        _.calitp_url_number == 0,\n",
    "        _.service_id == \"c_17149_b_none_d_0\",\n",
    "    )\n",
    "    >> left_join(\n",
    "        _,\n",
    "        tbl.gtfs_schedule_routes(),\n",
    "        [\"calitp_itp_id\", \"calitp_url_number\", \"route_id\"],\n",
    "    )\n",
    "    >> select(_.route_long_name, _.route_url, _.route_type)\n",
    "    >> head(1)\n",
    ")"
   ]
  }
 ],
 "metadata": {
  "jupytext": {
   "formats": "rmd//Rmd,ipynb//ipynb"
  },
  "kernelspec": {
   "display_name": "venv-notebooks",
   "language": "python",
   "name": "venv-notebooks"
  },
  "language_info": {
   "codemirror_mode": {
    "name": "ipython",
    "version": 3
   },
   "file_extension": ".py",
   "mimetype": "text/x-python",
   "name": "python",
   "nbconvert_exporter": "python",
   "pygments_lexer": "ipython3",
   "version": "3.6.8"
  }
 },
 "nbformat": 4,
 "nbformat_minor": 4
}
