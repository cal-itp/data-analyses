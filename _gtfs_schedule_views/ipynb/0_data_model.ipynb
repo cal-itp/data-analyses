{
 "cells": [
  {
   "cell_type": "markdown",
   "id": "unable-clothing",
   "metadata": {},
   "source": [
    "## Setup"
   ]
  },
  {
   "cell_type": "code",
   "execution_count": 8,
   "id": "ideal-whole",
   "metadata": {},
   "outputs": [],
   "source": [
    "from siuba import *\n",
    "from siuba.sql import LazyTbl\n",
    "from siuba.dply import vector as vec\n",
    "from siuba.dply.vector import n\n",
    "from siuba.sql import sql_raw\n",
    "\n",
    "from sqlalchemy import create_engine\n",
    "\n",
    "%run _setup.ipynb\n",
    "\n",
    "tbl = AutoTable(\n",
    "    engine,\n",
    "    lambda s: s.replace(\".\", \"_\").replace(\"test_\", \"\"),\n",
    "    lambda s: \"test_\" in s and \"__staging\" not in s\n",
    ")"
   ]
  },
  {
   "cell_type": "code",
   "execution_count": 2,
   "id": "abstract-princess",
   "metadata": {},
   "outputs": [],
   "source": [
    "pk_str = (\"calitp_itp_id\", \"calitp_url_number\")\n",
    "pk_cols = (_.calitp_itp_id, _.calitp_url_number)\n",
    "tbl_agency = tbl.gtfs_schedule_agency()\n",
    "tbl_routes = tbl.gtfs_schedule_routes()\n",
    "tbl_trips = tbl.gtfs_schedule_trips()\n"
   ]
  },
  {
   "cell_type": "code",
   "execution_count": 3,
   "id": "formed-satellite",
   "metadata": {},
   "outputs": [],
   "source": [
    "#tbl_agency"
   ]
  },
  {
   "cell_type": "markdown",
   "id": "square-variation",
   "metadata": {
    "incorrectly_encoded_metadata": "toc-hr-collapsed=true toc-nb-collapsed=true"
   },
   "source": [
    "## Main table previews"
   ]
  },
  {
   "cell_type": "code",
   "execution_count": 4,
   "id": "aggressive-italy",
   "metadata": {},
   "outputs": [],
   "source": [
    "#tbl_agency"
   ]
  },
  {
   "cell_type": "code",
   "execution_count": 5,
   "id": "earlier-distinction",
   "metadata": {},
   "outputs": [],
   "source": [
    "#tbl_routes"
   ]
  },
  {
   "cell_type": "code",
   "execution_count": 6,
   "id": "loved-childhood",
   "metadata": {},
   "outputs": [],
   "source": [
    "#tbl_trips"
   ]
  },
  {
   "cell_type": "markdown",
   "id": "careful-synthetic",
   "metadata": {
    "incorrectly_encoded_metadata": "toc-hr-collapsed=true toc-nb-collapsed=true"
   },
   "source": [
    "## Model agency routes view"
   ]
  },
  {
   "cell_type": "markdown",
   "id": "annoying-serum",
   "metadata": {
    "incorrectly_encoded_metadata": "toc-hr-collapsed=true toc-nb-collapsed=true"
   },
   "source": [
    "### Fill in implicit agency_ids"
   ]
  },
  {
   "cell_type": "code",
   "execution_count": 10,
   "id": "tutorial-nurse",
   "metadata": {},
   "outputs": [
    {
     "ename": "NameError",
     "evalue": "name 'tbl_trips' is not defined",
     "output_type": "error",
     "traceback": [
      "\u001b[0;31m---------------------------------------------------------------------------\u001b[0m",
      "\u001b[0;31mNameError\u001b[0m                                 Traceback (most recent call last)",
      "\u001b[0;32m<ipython-input-10-3111c3a19438>\u001b[0m in \u001b[0;36m<module>\u001b[0;34m\u001b[0m\n\u001b[1;32m      4\u001b[0m     \u001b[0mtbl_trips\u001b[0m\u001b[0;34m\u001b[0m\u001b[0;34m\u001b[0m\u001b[0m\n\u001b[1;32m      5\u001b[0m     \u001b[0;34m>>\u001b[0m \u001b[0mleft_join\u001b[0m\u001b[0;34m(\u001b[0m\u001b[0m_\u001b[0m\u001b[0;34m,\u001b[0m \u001b[0mtbl_routes\u001b[0m \u001b[0;34m>>\u001b[0m \u001b[0mmutate\u001b[0m\u001b[0;34m(\u001b[0m\u001b[0magency_id\u001b[0m\u001b[0;34m=\u001b[0m\u001b[0mexpr_fill_id\u001b[0m\u001b[0;34m)\u001b[0m\u001b[0;34m,\u001b[0m \u001b[0;34m[\u001b[0m\u001b[0;34m*\u001b[0m\u001b[0mpk_str\u001b[0m\u001b[0;34m,\u001b[0m \u001b[0;34m\"route_id\"\u001b[0m\u001b[0;34m]\u001b[0m\u001b[0;34m)\u001b[0m\u001b[0;34m\u001b[0m\u001b[0;34m\u001b[0m\u001b[0m\n\u001b[0;32m----> 6\u001b[0;31m     >> left_join(\n\u001b[0m\u001b[1;32m      7\u001b[0m         \u001b[0m_\u001b[0m\u001b[0;34m,\u001b[0m \u001b[0mtbl_agency\u001b[0m \u001b[0;34m>>\u001b[0m \u001b[0mmutate\u001b[0m\u001b[0;34m(\u001b[0m\u001b[0magency_id\u001b[0m\u001b[0;34m=\u001b[0m\u001b[0mexpr_fill_id\u001b[0m\u001b[0;34m)\u001b[0m\u001b[0;34m,\u001b[0m \u001b[0;34m[\u001b[0m\u001b[0;34m*\u001b[0m\u001b[0mpk_str\u001b[0m\u001b[0;34m,\u001b[0m \u001b[0;34m\"agency_id\"\u001b[0m\u001b[0;34m]\u001b[0m\u001b[0;34m\u001b[0m\u001b[0;34m\u001b[0m\u001b[0m\n\u001b[1;32m      8\u001b[0m     )\n",
      "\u001b[0;31mNameError\u001b[0m: name 'tbl_trips' is not defined"
     ]
    }
   ],
   "source": [
    "expr_fill_id = _.agency_id.fillna(_.calitp_itp_id.astype(str))\n",
    "\n",
    "tbl_agency_trips = (\n",
    "    tbl_trips\n",
    "    >> left_join(_, tbl_routes >> mutate(agency_id=expr_fill_id), [*pk_str, \"route_id\"])\n",
    "    >> left_join(\n",
    "        _, tbl_agency >> mutate(agency_id=expr_fill_id), [*pk_str, \"agency_id\"]\n",
    "    )\n",
    ")"
   ]
  },
  {
   "cell_type": "markdown",
   "id": "bigger-module",
   "metadata": {},
   "source": [
    "## Model stops and times"
   ]
  },
  {
   "cell_type": "code",
   "execution_count": 9,
   "id": "answering-centre",
   "metadata": {},
   "outputs": [
    {
     "ename": "NameError",
     "evalue": "name 'pk_str' is not defined",
     "output_type": "error",
     "traceback": [
      "\u001b[0;31m---------------------------------------------------------------------------\u001b[0m",
      "\u001b[0;31mNameError\u001b[0m                                 Traceback (most recent call last)",
      "\u001b[0;32m<ipython-input-9-2d23071e0fef>\u001b[0m in \u001b[0;36m<module>\u001b[0;34m\u001b[0m\n\u001b[1;32m     12\u001b[0m   \u001b[0;31m#   )\u001b[0m\u001b[0;34m\u001b[0m\u001b[0;34m\u001b[0m\u001b[0;34m\u001b[0m\u001b[0m\n\u001b[1;32m     13\u001b[0m   \u001b[0;34m>>\u001b[0m \u001b[0mleft_join\u001b[0m\u001b[0;34m(\u001b[0m\u001b[0m_\u001b[0m\u001b[0;34m,\u001b[0m \u001b[0mtbl\u001b[0m\u001b[0;34m.\u001b[0m\u001b[0mgtfs_schedule_stops\u001b[0m\u001b[0;34m(\u001b[0m\u001b[0;34m)\u001b[0m\u001b[0;34m,\u001b[0m \u001b[0;34m[\u001b[0m\u001b[0;34m*\u001b[0m\u001b[0mpk_str\u001b[0m\u001b[0;34m,\u001b[0m \u001b[0;34m\"stop_id\"\u001b[0m\u001b[0;34m]\u001b[0m\u001b[0;34m)\u001b[0m\u001b[0;34m\u001b[0m\u001b[0;34m\u001b[0m\u001b[0m\n\u001b[0;32m---> 14\u001b[0;31m   \u001b[0;34m>>\u001b[0m \u001b[0mmutate\u001b[0m\u001b[0;34m(\u001b[0m\u001b[0mstop_sequence\u001b[0m \u001b[0;34m=\u001b[0m \u001b[0m_\u001b[0m\u001b[0;34m.\u001b[0m\u001b[0mstop_sequence\u001b[0m\u001b[0;34m.\u001b[0m\u001b[0mastype\u001b[0m\u001b[0;34m(\u001b[0m\u001b[0mint\u001b[0m\u001b[0;34m)\u001b[0m\u001b[0;34m,\u001b[0m \u001b[0mstop_sequence_rank\u001b[0m\u001b[0;34m=\u001b[0m\u001b[0mdense_rank\u001b[0m\u001b[0;34m(\u001b[0m\u001b[0m_\u001b[0m\u001b[0;34m.\u001b[0m\u001b[0mstop_sequence\u001b[0m\u001b[0;34m,\u001b[0m \u001b[0mna_option\u001b[0m\u001b[0;34m=\u001b[0m\u001b[0;34m\"keep\"\u001b[0m\u001b[0;34m)\u001b[0m\u001b[0;34m)\u001b[0m\u001b[0;34m\u001b[0m\u001b[0;34m\u001b[0m\u001b[0m\n\u001b[0m\u001b[1;32m     15\u001b[0m )\n",
      "\u001b[0;31mNameError\u001b[0m: name 'pk_str' is not defined"
     ]
    }
   ],
   "source": [
    "from siuba.dply.vector import dense_rank\n",
    "\n",
    "tbl_stops_and_times = (\n",
    "    tbl.gtfs_schedule_stop_times()\n",
    "    # TODO: note that we can't parse to time here, because times may be\n",
    "    # > 24:00:00. However, bigquery should sort these times okay, so we can\n",
    "    # calc the min and max, and then do some post-processing on them, based\n",
    "    # on their calendar schedules\n",
    "    #   >> mutate(\n",
    "    #       arrival_time = sql_raw('PARSE_TIME(\"%T\", arrival_time)'),\n",
    "    #       departure_time =sql_raw('PARSE_TIME(\"%T\", departure_time)')\n",
    "    #   )\n",
    "    >> left_join(_, tbl.gtfs_schedule_stops(), [*pk_str, \"stop_id\"])\n",
    "    >> group_by(_.trip_id)\n",
    "    >> mutate(\n",
    "        stop_sequence=_.stop_sequence.astype(int),\n",
    "        stop_sequence_rank=dense_rank(_.stop_sequence, na_option=\"keep\"),\n",
    "    )\n",
    "    >> ungroup()\n",
    ")"
   ]
  },
  {
   "cell_type": "markdown",
   "id": "humanitarian-universe",
   "metadata": {},
   "source": [
    "## Model schedule daily"
   ]
  },
  {
   "cell_type": "markdown",
   "id": "brutal-graduation",
   "metadata": {},
   "source": [
    "### Gather function"
   ]
  },
  {
   "cell_type": "code",
   "execution_count": 9,
   "id": "focused-taylor",
   "metadata": {},
   "outputs": [],
   "source": [
    "from siuba import gather\n",
    "from siuba.sql import LazyTbl\n",
    "from siuba.dply.verbs import singledispatch2\n",
    "\n",
    "@gather.register(LazyTbl)\n",
    "def _gather_sql(__data, key=\"key\", value=\"value\", *args, drop_na=False, convert=False):\n",
    "    from siuba.dply.verbs import var_select, var_create\n",
    "    from siuba.sql.verbs import lift_inner_cols\n",
    "    import pandas as pd\n",
    "    from sqlalchemy import sql\n",
    "\n",
    "    if not args:\n",
    "        raise NotImplementedError(\"must specify columns to gather as *args\")\n",
    "\n",
    "    # most recent select statement and inner columns ----\n",
    "    sel = __data.last_op\n",
    "    columns = lift_inner_cols(sel)\n",
    "    \n",
    "    # tidy select variables for gathering ----\n",
    "    var_list = var_create(*args)\n",
    "    od = var_select(pd.Series(columns.keys()), *var_list)\n",
    "\n",
    "    # get sql columns corresponding to variables ----\n",
    "    value_vars = [columns[k] for k in od]\n",
    "    id_vars = [columns[k] for k in columns.keys() if k not in od]\n",
    "\n",
    "    # union each key variable into long format ----\n",
    "    queries = []\n",
    "    for value_col in value_vars:\n",
    "        # TODO: may require CTE\n",
    "        subquery = (\n",
    "            sel\n",
    "            .with_only_columns(\n",
    "                [\n",
    "                    *id_vars,\n",
    "                    sql.literal(value_col.name).label(key),\n",
    "                    value_col.label(value),\n",
    "                ]\n",
    "            )\n",
    "        )\n",
    "        queries.append(subquery)\n",
    "        \n",
    "    # make union all into a subquery for now, just to be safe, since\n",
    "    # siuba might not respond well to a CompoundSelect\n",
    "    return __data.append_op(sql.union_all(*queries).select())\n",
    "\n"
   ]
  },
  {
   "cell_type": "markdown",
   "id": "outside-communications",
   "metadata": {},
   "source": [
    "### Query"
   ]
  },
  {
   "cell_type": "code",
   "execution_count": 22,
   "id": "nasty-orange",
   "metadata": {},
   "outputs": [],
   "source": [
    "from siuba.sql import sql_raw\n",
    "\n",
    "process_cal_dates = mutate(\n",
    "    date=sql_raw('PARSE_DATE(\"%Y%m%d\", date)')\n",
    ") >> select(-_[\"exception_type\", \"calitp_extracted_at\"], _.service_date == _.date)\n",
    "\n",
    "date_include = (\n",
    "    tbl.gtfs_schedule_calendar_dates()\n",
    "    >> filter(_.exception_type == \"1\")\n",
    "    >> mutate(service_inclusion=True)\n",
    "    >> process_cal_dates\n",
    ")\n",
    "date_exclude = (\n",
    "    tbl.gtfs_schedule_calendar_dates()\n",
    "    >> filter(_.exception_type == \"2\")\n",
    "    >> mutate(service_exclusion=True)\n",
    "    >> process_cal_dates\n",
    ")\n",
    "\n",
    "tbl_schedule_daily = (\n",
    "    tbl.gtfs_schedule_calendar()\n",
    "    # parse dates\n",
    "    >> mutate(\n",
    "        start_date=sql_raw('PARSE_DATE(\"%Y%m%d\", start_date)'),\n",
    "        end_date=sql_raw('PARSE_DATE(\"%Y%m%d\", end_date)'),\n",
    "    )\n",
    "    # convert wide weekday to long\n",
    "    >> gather(\"day_name\", \"service_indicator\", _[\"monday\":\"sunday\"])\n",
    "    >> mutate(day_name=_.day_name.str.title())\n",
    "    # expand all dates range using calendar\n",
    "    # needs to be an inner join, in case a scheduled interval is e.g. 1 day,\n",
    "    # since gathering will still produce 7 rows (1 per day of week).\n",
    "    >> inner_join(\n",
    "        _,\n",
    "        tbl.views_dim_date() >> select(_.day_name, _.full_date),\n",
    "        sql_on=(\n",
    "            lambda lhs, rhs: (lhs.day_name == rhs.day_name)\n",
    "            & (lhs.start_date <= rhs.full_date)\n",
    "            & (lhs.end_date >= rhs.full_date)      # end date is inclusive\n",
    "        ),\n",
    "    )\n",
    "    >> select(-_.startswith(\"day_name\"))\n",
    "    >> rename(service_date=\"full_date\", service_cal_start_date=\"start_date\", service_cal_end_date=\"end_date\")\n",
    "    # full join, since an agency can define a schedule using only calendar dates\n",
    "    # e.g. every day a service runs is specified using exceptions\n",
    "    >> full_join(_, date_include, [*pk_str, \"service_id\", \"service_date\"])\n",
    "    >> full_join(_, date_exclude, [*pk_str, \"service_id\", \"service_date\"])\n",
    "    >> mutate(is_in_service = (_.service_indicator == \"1\") & ~_.service_exclusion.fillna(False) | _.service_inclusion.fillna(False))\n",
    ")\n",
    "\n",
    "# sanity check that vals are either 0 or 1\n",
    "#tbl_schedule_daily >> distinct(_.is_in_service)"
   ]
  },
  {
   "cell_type": "code",
   "execution_count": 11,
   "id": "referenced-syndicate",
   "metadata": {},
   "outputs": [],
   "source": [
    "#tbl_schedule_daily >> arrange(_.calitp_itp_id, _.calitp_url_number, _.service_id, _.service_date)"
   ]
  },
  {
   "cell_type": "code",
   "execution_count": 12,
   "id": "electoral-maldives",
   "metadata": {},
   "outputs": [],
   "source": [
    "#tbl_schedule_daily >> count()"
   ]
  },
  {
   "cell_type": "code",
   "execution_count": 14,
   "id": "efficient-teddy",
   "metadata": {},
   "outputs": [],
   "source": [
    "# (        tbl_schedule_daily\n",
    "#         >> filter(_.service_date >= \"2021-04-01\", _.service_date < \"2021-05-01\", _.calitp_itp_id == 3, _.calitp_url_number == 0)\n",
    "#         >> count(_.service_id)\n",
    "        \n",
    "# )"
   ]
  },
  {
   "cell_type": "code",
   "execution_count": 6,
   "id": "formal-crime",
   "metadata": {
    "tags": []
   },
   "outputs": [
    {
     "ename": "NameError",
     "evalue": "name 'tbl_stops_and_times' is not defined",
     "output_type": "error",
     "traceback": [
      "\u001b[0;31m---------------------------------------------------------------------------\u001b[0m",
      "\u001b[0;31mNameError\u001b[0m                                 Traceback (most recent call last)",
      "\u001b[0;32m<ipython-input-6-6815e6181a60>\u001b[0m in \u001b[0;36m<module>\u001b[0;34m\u001b[0m\n\u001b[1;32m     11\u001b[0m     )\n\u001b[1;32m     12\u001b[0m     \u001b[0;34m>>\u001b[0m \u001b[0mright_join\u001b[0m\u001b[0;34m(\u001b[0m\u001b[0m_\u001b[0m\u001b[0;34m,\u001b[0m \u001b[0mtbl\u001b[0m\u001b[0;34m.\u001b[0m\u001b[0mgtfs_schedule_trips\u001b[0m\u001b[0;34m(\u001b[0m\u001b[0;34m)\u001b[0m \u001b[0;34m>>\u001b[0m \u001b[0mselect\u001b[0m\u001b[0;34m(\u001b[0m\u001b[0;34m*\u001b[0m\u001b[0mpk_col\u001b[0m\u001b[0;34m,\u001b[0m \u001b[0m_\u001b[0m\u001b[0;34m.\u001b[0m\u001b[0mtrip_id\u001b[0m\u001b[0;34m)\u001b[0m\u001b[0;34m,\u001b[0m \u001b[0;34m[\u001b[0m\u001b[0;34m*\u001b[0m\u001b[0mpk_str\u001b[0m\u001b[0;34m,\u001b[0m \u001b[0;34m\"trip_id\"\u001b[0m\u001b[0;34m]\u001b[0m\u001b[0;34m)\u001b[0m\u001b[0;34m\u001b[0m\u001b[0;34m\u001b[0m\u001b[0m\n\u001b[0;32m---> 13\u001b[0;31m     \u001b[0;34m>>\u001b[0m \u001b[0mmutate\u001b[0m\u001b[0;34m(\u001b[0m\u001b[0mn_stop_times\u001b[0m\u001b[0;34m=\u001b[0m\u001b[0m_\u001b[0m\u001b[0;34m.\u001b[0m\u001b[0mn_stop_times\u001b[0m\u001b[0;34m.\u001b[0m\u001b[0mfillna\u001b[0m\u001b[0;34m(\u001b[0m\u001b[0;36m0\u001b[0m\u001b[0;34m)\u001b[0m\u001b[0;34m,\u001b[0m \u001b[0mn_stops\u001b[0m\u001b[0;34m=\u001b[0m\u001b[0m_\u001b[0m\u001b[0;34m.\u001b[0m\u001b[0mn_stops\u001b[0m\u001b[0;34m.\u001b[0m\u001b[0mfillna\u001b[0m\u001b[0;34m(\u001b[0m\u001b[0;36m0\u001b[0m\u001b[0;34m)\u001b[0m\u001b[0;34m)\u001b[0m\u001b[0;34m\u001b[0m\u001b[0;34m\u001b[0m\u001b[0m\n\u001b[0m\u001b[1;32m     14\u001b[0m )\n",
      "\u001b[0;31mNameError\u001b[0m: name 'tbl_stops_and_times' is not defined"
     ]
    }
   ],
   "source": []
  }
 ],
 "metadata": {
  "jupytext": {
   "formats": "md//md,ipynb//ipynb"
  },
  "kernelspec": {
   "display_name": "venv-notebooks",
   "language": "python",
   "name": "venv-notebooks"
  },
  "language_info": {
   "codemirror_mode": {
    "name": "ipython",
    "version": 3
   },
   "file_extension": ".py",
   "mimetype": "text/x-python",
   "name": "python",
   "nbconvert_exporter": "python",
   "pygments_lexer": "ipython3",
   "version": "3.6.8"
  },
  "toc-autonumbering": false
 },
 "nbformat": 4,
 "nbformat_minor": 5
}
