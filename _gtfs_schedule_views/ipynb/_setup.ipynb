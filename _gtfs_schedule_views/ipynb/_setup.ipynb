{
 "cells": [
  {
   "cell_type": "code",
   "execution_count": 17,
   "id": "russian-protocol",
   "metadata": {},
   "outputs": [],
   "source": [
    "from siuba import *\n",
    "from siuba.sql import LazyTbl\n",
    "from siuba.dply import vector as vec\n",
    "\n",
    "from sqlalchemy import create_engine\n",
    "\n",
    "# limit at 100 Mbs\n",
    "engine = create_engine(\"bigquery://cal-itp-data-infra/?maximum_bytes_billed=100000000\")"
   ]
  },
  {
   "cell_type": "code",
   "execution_count": 25,
   "id": "cdd73ed2-1024-4b55-9a66-2312d06709c5",
   "metadata": {},
   "outputs": [
    {
     "data": {
      "text/plain": [
       "<function __main__.<lambda>(df)>"
      ]
     },
     "execution_count": 25,
     "metadata": {},
     "output_type": "execute_result"
    }
   ],
   "source": [
    "# special ipython function to get the html formatter\n",
    "import pandas as pd\n",
    "pd.set_option(\"display.max_rows\", 10)\n",
    "\n",
    "# pandas hardcodes style tags onto its output, so we need to strip them off.\n",
    "# this means that we change how ipython generates the html, and flag notebook=False\n",
    "# in pandas' to_html method.\n",
    "# see: https://stackoverflow.com/q/51460112/1144523\n",
    "html_formatter = get_ipython().display_formatter.formatters['text/html']\n",
    "\n",
    "# here, we avoid the default df._repr_html_ method, since it inlines css\n",
    "# which does not work with markdown output\n",
    "f_repr_df = lambda df: df.to_html(max_rows = pd.get_option(\"display.max_rows\"), show_dimensions = True, border=0)\n",
    "\n",
    "html_formatter.for_type(\n",
    "    pd.DataFrame,\n",
    "    f_repr_df,\n",
    ")"
   ]
  },
  {
   "cell_type": "code",
   "execution_count": 26,
   "id": "09b0ede2-68c1-42f5-b623-dcdc2f7b3bce",
   "metadata": {},
   "outputs": [
    {
     "data": {
      "text/plain": [
       "<function __main__.<lambda>(tbl)>"
      ]
     },
     "execution_count": 26,
     "metadata": {},
     "output_type": "execute_result"
    }
   ],
   "source": [
    "# siuba uses pandas' default html representation, so need to overload it too\n",
    "from siuba.sql import LazyTbl\n",
    "# hard-coding template from LazyTbl._repr_html\n",
    "template = (\n",
    "        \"<div>\"\n",
    "        \"<pre>\"\n",
    "        \"# Source: lazy query\\n\"\n",
    "        \"# DB Conn: {}\\n\"\n",
    "        \"# Preview:\\n\"\n",
    "        \"</pre>\"\n",
    "        \"{}\"\n",
    "        \"<p># .. may have more rows</p>\"\n",
    "        \"</div>\"\n",
    "        )\n",
    "\n",
    "\n",
    "html_formatter.for_type(\n",
    "    LazyTbl,\n",
    "    lambda tbl: template.format(tbl.source.engine, f_repr_df(tbl._get_preview()))\n",
    ")"
   ]
  },
  {
   "cell_type": "code",
   "execution_count": 15,
   "id": "proud-cooperative",
   "metadata": {},
   "outputs": [],
   "source": [
    "class AutoTable:\n",
    "    def __init__(self, engine, table_formatter = None, table_filter = None):\n",
    "        self._engine = engine\n",
    "        self._table_names = self._engine.table_names()\n",
    "        \n",
    "        mappings = {}\n",
    "        for name in self._table_names:\n",
    "            if table_filter is not None and not table_filter(name):\n",
    "                continue\n",
    "                \n",
    "            fmt_name = table_formatter(name)\n",
    "            if fmt_name in mappings:\n",
    "                raise Exception(\"multiple tables w/ formatted name: %s\" %fmt_name)\n",
    "            mappings[fmt_name] = name\n",
    "        \n",
    "        self._attach_mappings(mappings)\n",
    "        \n",
    "    def _attach_mappings(self, mappings):\n",
    "        for k, v in mappings.items():\n",
    "            loader = lambda self: self._load_table\n",
    "            setattr(self, k, self._table_factory(v))\n",
    "    \n",
    "    def _table_factory(self, table_name):\n",
    "        def loader():\n",
    "            return self._load_table(table_name)\n",
    "        \n",
    "        return loader\n",
    "    \n",
    "    def _load_table(self, table_name):\n",
    "        return LazyTbl(self._engine, table_name)\n",
    "        "
   ]
  }
 ],
 "metadata": {
  "jupytext": {
   "formats": "rmd//Rmd,ipynb//ipynb"
  },
  "kernelspec": {
   "display_name": "venv-notebooks",
   "language": "python",
   "name": "venv-notebooks"
  },
  "language_info": {
   "codemirror_mode": {
    "name": "ipython",
    "version": 3
   },
   "file_extension": ".py",
   "mimetype": "text/x-python",
   "name": "python",
   "nbconvert_exporter": "python",
   "pygments_lexer": "ipython3",
   "version": "3.6.8"
  }
 },
 "nbformat": 4,
 "nbformat_minor": 5
}
