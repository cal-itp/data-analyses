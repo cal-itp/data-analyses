{
 "cells": [
  {
   "cell_type": "markdown",
   "id": "tracked-headquarters",
   "metadata": {},
   "source": [
    "* [report link](https://docs.google.com/document/d/1-iXNdl4f2EbYayKg3e7jkTALAcNzht9yGQuyIOtPLc4/edit#)"
   ]
  },
  {
   "cell_type": "code",
   "execution_count": null,
   "id": "spoken-colony",
   "metadata": {},
   "outputs": [],
   "source": [
    "%run 0_data_model.ipynb\n",
    "from plotnine import *\n",
    "from siuba import *"
   ]
  },
  {
   "cell_type": "code",
   "execution_count": null,
   "id": "comparable-wrapping",
   "metadata": {},
   "outputs": [],
   "source": [
    "pk_cols = (_.calitp_itp_id, _.calitp_url_number)"
   ]
  },
  {
   "cell_type": "markdown",
   "id": "cosmetic-fancy",
   "metadata": {
    "incorrectly_encoded_metadata": "toc-hr-collapsed=true toc-nb-collapsed=true"
   },
   "source": [
    "## Table previews"
   ]
  },
  {
   "cell_type": "code",
   "execution_count": null,
   "id": "solved-section",
   "metadata": {},
   "outputs": [],
   "source": [
    "tbl.gtfs_schedule_feed_info()"
   ]
  },
  {
   "cell_type": "code",
   "execution_count": null,
   "id": "boring-packaging",
   "metadata": {},
   "outputs": [],
   "source": [
    "# one row per trip [route [ agency]]\n",
    "tbl_feed_trips"
   ]
  },
  {
   "cell_type": "markdown",
   "id": "disabled-ownership",
   "metadata": {},
   "source": [
    "## Metrics for most recent published feed"
   ]
  },
  {
   "cell_type": "code",
   "execution_count": null,
   "id": "seasonal-worth",
   "metadata": {},
   "outputs": [],
   "source": [
    "tbl_feed_trips >> distinct(*pk_cols, _.route_id) >> count(*pk_cols)"
   ]
  },
  {
   "cell_type": "markdown",
   "id": "approximate-electron",
   "metadata": {},
   "source": [
    "* Date published\n",
    "* Number of routes in service\n",
    "* Number of stops in service"
   ]
  },
  {
   "cell_type": "markdown",
   "id": "accompanied-bruce",
   "metadata": {},
   "source": [
    "### Date feed was published"
   ]
  },
  {
   "cell_type": "code",
   "execution_count": null,
   "id": "straight-brain",
   "metadata": {},
   "outputs": [],
   "source": [
    "(\n",
    "    tbl.gtfs_schedule_feed_info()\n",
    "    >> collect()\n",
    "    >> mutate(feed_start_date=_.feed_start_date.astype(\"datetime64[ns]\"))\n",
    "    >> ggplot(aes(\"''\", \"feed_start_date\")) + geom_boxplot()\n",
    ")"
   ]
  },
  {
   "cell_type": "markdown",
   "id": "minor-utilization",
   "metadata": {},
   "source": [
    "### Number of routes in service"
   ]
  },
  {
   "cell_type": "code",
   "execution_count": null,
   "id": "graduate-replacement",
   "metadata": {},
   "outputs": [],
   "source": [
    "from siuba.dply.forcats import fct_reorder\n",
    "\n",
    "caterpiller_plot = lambda d: d >> mutate(\n",
    "    calitp_itp_id=fct_reorder(_.calitp_itp_id, _.n)\n",
    ")\n",
    "\n",
    "(\n",
    "    tbl.gtfs_schedule_routes()\n",
    "    >> count(*pk_cols, sort=True)\n",
    "    >> collect()\n",
    "    >> pipe(caterpiller_plot)\n",
    "    >> ggplot(aes(\"n\")) + geom_histogram() + labs(title=\"Number of routes per feed\")\n",
    "    #     >> mutate(calitp_itp_id=fct_reorder(_.calitp_itp_id, _.n))\n",
    "    #     >> ggplot(aes(\"calitp_itp_id\", \"n\")) + geom_point() + coord_flip()\n",
    ")"
   ]
  },
  {
   "cell_type": "markdown",
   "id": "sized-shipping",
   "metadata": {},
   "source": [
    "### Number of stops in service"
   ]
  },
  {
   "cell_type": "code",
   "execution_count": null,
   "id": "surface-joint",
   "metadata": {},
   "outputs": [],
   "source": [
    "(\n",
    "    tbl.gtfs_schedule_stops()\n",
    "    >> count(*pk_cols, sort=True)\n",
    "    >> collect()\n",
    "    >> pipe(caterpiller_plot)\n",
    "    >> ggplot(aes(\"n\")) + geom_histogram()\n",
    "     + labs(title = \"Number of stops per feed\")\n",
    ")"
   ]
  },
  {
   "cell_type": "markdown",
   "id": "essential-national",
   "metadata": {},
   "source": [
    "## Aggregated metrics"
   ]
  },
  {
   "cell_type": "code",
   "execution_count": null,
   "id": "verified-controversy",
   "metadata": {},
   "outputs": [],
   "source": [
    "trip_metrics = (\n",
    "    tbl_trip_stops\n",
    "    >> group_by(*pk_cols, _.trip_id)\n",
    "    >> summarize(\n",
    "        trip_last_arrival_time=_.arrival_time.max(),\n",
    "        trip_first_arrival_time=_.arrival_time.min(),\n",
    "        trip_last_departure_time=_.departure_time.max(),\n",
    "        trip_first_departure_time=_.departure_time.min(),\n",
    "        n_stop_times = n(_)\n",
    "    )\n",
    "    >> ungroup()\n",
    ")"
   ]
  },
  {
   "cell_type": "code",
   "execution_count": null,
   "id": "sunset-guatemala",
   "metadata": {},
   "outputs": [],
   "source": [
    "trip_metrics"
   ]
  },
  {
   "cell_type": "code",
   "execution_count": null,
   "id": "shaped-niagara",
   "metadata": {},
   "outputs": [],
   "source": [
    "tbl_trip_stops "
   ]
  },
  {
   "cell_type": "markdown",
   "id": "checked-stupid",
   "metadata": {},
   "source": [
    "## Monthly GTFS Quality Report"
   ]
  }
 ],
 "metadata": {
  "jupytext": {
   "formats": "md//md,ipynb//ipynb"
  },
  "kernelspec": {
   "display_name": "venv-notebooks",
   "language": "python",
   "name": "venv-notebooks"
  },
  "language_info": {
   "codemirror_mode": {
    "name": "ipython",
    "version": 3
   },
   "file_extension": ".py",
   "mimetype": "text/x-python",
   "name": "python",
   "nbconvert_exporter": "python",
   "pygments_lexer": "ipython3",
   "version": "3.6.8"
  }
 },
 "nbformat": 4,
 "nbformat_minor": 5
}
