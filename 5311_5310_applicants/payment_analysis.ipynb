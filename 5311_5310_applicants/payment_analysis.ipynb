{
 "cells": [
  {
   "cell_type": "code",
   "execution_count": null,
   "id": "e951f65a-527c-4093-a4ae-2cf07baa1368",
   "metadata": {},
   "outputs": [],
   "source": [
    "import calitp.magics\n",
    "import pandas as pd\n",
    "from calitp import *\n",
    "from calitp.tables import tbl\n",
    "from siuba import *\n",
    "import utils\n",
    "\n",
    "pd.options.display.max_columns = 100\n",
    "pd.set_option(\"display.max_rows\", None)\n",
    "pd.set_option(\"display.max_colwidth\", None)"
   ]
  },
  {
   "cell_type": "markdown",
   "id": "90e18dc2-1962-46b1-b57e-19eddf90bd44",
   "metadata": {},
   "source": [
    "## Black Cat"
   ]
  },
  {
   "cell_type": "code",
   "execution_count": null,
   "id": "661c9914-6d46-46aa-bd44-417d41fa178c",
   "metadata": {},
   "outputs": [],
   "source": [
    "# Read in Black Cat: 5311 and 5310 recipients with projects in past 2 years\n",
    "df_bc = pd.read_parquet(\n",
    "    \"gs://calitp-analytics-data/data-analyses/5311-5310/5311_5310_applicants.parquet\", engine=\"auto\"\n",
    ")"
   ]
  },
  {
   "cell_type": "code",
   "execution_count": null,
   "id": "47f54ab0-8e27-4539-a596-6243d2cbc8bb",
   "metadata": {},
   "outputs": [],
   "source": [
    "# Clean up organization names\n",
    "df_bc = utils.organization_cleaning(df_bc, 'organization_name')"
   ]
  },
  {
   "cell_type": "code",
   "execution_count": null,
   "id": "f344ca80-64a5-4c85-b3b3-9ddf27d5e10d",
   "metadata": {},
   "outputs": [],
   "source": [
    "# Clean up names to match Transit Stacks \n",
    "df_bc[\"organization_name\"] = df_bc[\"organization_name\"].replace(\n",
    "    {\n",
    "    \n",
    "        \"Tuolumne County Transit Agency\": \"Tuolumne County Transit Agency\",\n",
    "        \"Omnitrans\": \"OmniTrans\",\n",
    "        'Eastern Sierra Transit Authority':'Eastern Sierra Transit Authority Community Routes',\n",
    "        'Fresno County Rural Transit Agency':'Fresno County Rural Transit',\n",
    "        'El Dorado County Transit Authority': 'El Dorado Transit',\n",
    "        'Palo Verde Valley Transit Agency':'Palos Verdes Peninsula Transit Authority',\n",
    "        'Kern Regional Transit':'Kern Transit',\n",
    "        'Riverside Transit Agency':'Riverside Transit',\n",
    "        'Tuolumne County Transit Agency ':'Tuolumne County Transit',\n",
    "    }\n",
    ")"
   ]
  },
  {
   "cell_type": "markdown",
   "id": "90e5b76b-d1a6-477e-b436-be61ffa3d5ce",
   "metadata": {},
   "source": [
    "## Transit Stacks, Service Components"
   ]
  },
  {
   "cell_type": "code",
   "execution_count": null,
   "id": "18db74a4-a188-4471-86e2-eb473ee3a388",
   "metadata": {
    "scrolled": true,
    "tags": []
   },
   "outputs": [],
   "source": [
    "# Get service components data \n",
    "%%sql -o df_service_components\n",
    "SELECT \n",
    "  service_name,\n",
    "  product_name,\n",
    "  component_name,\n",
    "FROM cal-itp-data-infra.mart_transit_database.dim_service_components"
   ]
  },
  {
   "cell_type": "code",
   "execution_count": null,
   "id": "3028fd1d-ca31-4f76-847c-bdb2e3a41579",
   "metadata": {},
   "outputs": [],
   "source": [
    "components_wanted = [\n",
    "    \"Mobile ticketing\",\n",
    "    \"Cash Farebox\",\n",
    "    \"Fare card system\",\n",
    "    \"Ticket Vending Machines\",\n",
    "    \"Contactless Payment Validators\",\n",
    "    \"Payment processor\",\n",
    "]"
   ]
  },
  {
   "cell_type": "code",
   "execution_count": null,
   "id": "c412ecb0-98c2-426d-96f2-8630933dfe9c",
   "metadata": {},
   "outputs": [],
   "source": [
    "# Filter for only fare related components\n",
    "df_service_components2 = df_service_components[\n",
    "    df_service_components[\"component_name\"].isin(components_wanted)\n",
    "]"
   ]
  },
  {
   "cell_type": "code",
   "execution_count": null,
   "id": "2ecb1d51-cb2e-436d-bc0b-7fd6b39b2754",
   "metadata": {},
   "outputs": [],
   "source": [
    "df_service_components2 = utils.organization_cleaning(df_service_components2, \"service_name\")"
   ]
  },
  {
   "cell_type": "code",
   "execution_count": null,
   "id": "36a40768-f3cf-449b-a052-1d7bcfb20556",
   "metadata": {},
   "outputs": [],
   "source": [
    "len(df_service_components2)"
   ]
  },
  {
   "cell_type": "code",
   "execution_count": null,
   "id": "218189bf-0ecf-4f8c-9134-097b1571a2b9",
   "metadata": {},
   "outputs": [],
   "source": [
    "# Merge transit stacks with BC\n",
    "m1 = pd.merge(\n",
    "    df_bc,\n",
    "    df_service_components2,\n",
    "    how=\"left\",\n",
    "    left_on=[\"organization_name\"],\n",
    "    right_on=[\"service_name\"],\n",
    "    indicator=True,\n",
    "    validate='1:m'\n",
    ")"
   ]
  },
  {
   "cell_type": "code",
   "execution_count": null,
   "id": "aeb0206a-ebc2-4983-9a99-91760d01031f",
   "metadata": {},
   "outputs": [],
   "source": [
    "m1.shape"
   ]
  },
  {
   "cell_type": "code",
   "execution_count": null,
   "id": "15aac88a-9c80-4aab-abd8-e892aa9d2e3e",
   "metadata": {
    "tags": []
   },
   "outputs": [],
   "source": [
    "m1.head()"
   ]
  },
  {
   "cell_type": "code",
   "execution_count": null,
   "id": "5591e1f8-e3c9-4264-b350-cef7e5e41973",
   "metadata": {
    "scrolled": true,
    "tags": []
   },
   "outputs": [],
   "source": [
    "# df_bc['organization_name'].sort_values().unique().tolist()"
   ]
  }
 ],
 "metadata": {
  "kernelspec": {
   "display_name": "Python 3 (ipykernel)",
   "language": "python",
   "name": "python3"
  },
  "language_info": {
   "codemirror_mode": {
    "name": "ipython",
    "version": 3
   },
   "file_extension": ".py",
   "mimetype": "text/x-python",
   "name": "python",
   "nbconvert_exporter": "python",
   "pygments_lexer": "ipython3",
   "version": "3.10.4"
  }
 },
 "nbformat": 4,
 "nbformat_minor": 5
}
