{
 "cells": [
  {
   "cell_type": "markdown",
   "id": "546ac1d1-a11f-47d6-b8b3-5e74cb2f5ab1",
   "metadata": {},
   "source": [
    "# 5311 and 5310 Applicants\n",
    "* [Research Request](https://github.com/cal-itp/data-analyses/issues/333)"
   ]
  },
  {
   "cell_type": "code",
   "execution_count": null,
   "id": "169bb990-b266-4ccb-9d38-0fe7b98a397a",
   "metadata": {},
   "outputs": [],
   "source": [
    "# Packages to import\n",
    "# Pandas is the full name of the package but call it pd for short.\n",
    "import calitp.magics\n",
    "import pandas as pd\n",
    "from calitp import *\n",
    "from calitp import query_sql\n",
    "\n",
    "# You only need to import these if you want to use something from the warehouse\n",
    "from calitp.tables import tbl\n",
    "from siuba import *\n",
    "\n",
    "# Formatting the notebook\n",
    "# The max columns to display will be 100\n",
    "pd.options.display.max_columns = 100\n",
    "\n",
    "# There will allow you to print all the rows in your data\n",
    "pd.set_option(\"display.max_rows\", None)\n",
    "\n",
    "# This will prevent columns from being truncated\n",
    "pd.set_option(\"display.max_colwidth\", None)"
   ]
  },
  {
   "cell_type": "markdown",
   "id": "c3990900-449b-4e01-8991-5b53f1c6aa78",
   "metadata": {},
   "source": [
    "## Load the Excel Sheet\n",
    "* Can read the original Excel workbook by the specific sheet you want. \n",
    "* Save your sheet as a Pandas dataframe - it can be called anything, but usually it's <i>something_df</i>. \n",
    "    * Dataframe = basically jsut a table of data. \n",
    "    * If you want to open multiple sheets, you'd assign them to different objects and different names. \n",
    "* \"to_snakecase\" changes the column names to all lowercases and replaces any spaces with _."
   ]
  },
  {
   "cell_type": "code",
   "execution_count": null,
   "id": "c1d6fb2f-e483-4405-92fb-1cd826fedc9a",
   "metadata": {},
   "outputs": [],
   "source": [
    "df = to_snakecase(\n",
    "    pd.read_excel(\n",
    "        \"gs://calitp-analytics-data/data-analyses/grants/Grant+Projects_7_30_2022.xlsx\",\n",
    "        sheet_name=\"Grant Projects\",\n",
    "    )\n",
    ")"
   ]
  },
  {
   "cell_type": "code",
   "execution_count": null,
   "id": "693e0fac-963c-4d29-ac29-3c30769722ba",
   "metadata": {},
   "outputs": [],
   "source": [
    "\"\"\"\n",
    "If there are columns that SHOULD be an integer but isn't: input them into the list\n",
    "after this for loop. This strips empty $ and commas from columns, \n",
    "then changes them to the data type of int.\n",
    "\"\"\"\n",
    "for c in [\"column_one\", \"column_two\", \"column_three\"]:\n",
    "    df[c] = df[c].str.replace(\"$\", \"\").str.replace(\",\", \"\").astype(int)"
   ]
  },
  {
   "cell_type": "markdown",
   "id": "6a6326c7-638c-4651-9b5c-1aa4530482a0",
   "metadata": {},
   "source": [
    "### Beware of duplicate values\n",
    "* Grants data might be manually entered by multiple people. As such, values can be inconsistent. \n",
    "* BART, Bay Area Rapid Transit, and Bay Area Rapid Transit (BART) are all the same agency. \n",
    "* However, if you are counting the number of unique agencies, these would be counted as 3 different agencies, which is inaccurate.\n"
   ]
  },
  {
   "cell_type": "code",
   "execution_count": null,
   "id": "c919a9fa-98c7-4437-95a8-0086cc7db447",
   "metadata": {},
   "outputs": [],
   "source": [
    "# Check out your agencies and see if there are any duplicates by\n",
    "# sorting your column of agencies from A-Z and seeing only unique ones\n",
    "df[\"column\"].sort_values().unique()"
   ]
  },
  {
   "cell_type": "code",
   "execution_count": null,
   "id": "4e3ff722-b0e8-419e-9d64-d1f0058a18f2",
   "metadata": {},
   "outputs": [],
   "source": [
    "# Check out total nunique values\n",
    "df[\"column\"].nunique()"
   ]
  },
  {
   "cell_type": "code",
   "execution_count": null,
   "id": "a00b5798-3958-4830-af13-aed51ef9e6a6",
   "metadata": {},
   "outputs": [],
   "source": [
    "\"\"\"\n",
    "If there are duplicate values, you can replace them with an existing one with a dictionary\n",
    "If this cell is irrelevant,  go up to the top where it says \"code\" and change it to \"markdown\". \n",
    "You can also move the three quotation marks at the bottom of this cell to comment out the code.\n",
    "If all the agencies are only listed once.\n",
    "\"\"\"\n",
    "df[\"column\"] = df[\"column\"].replace(\n",
    "    {\"old value 1\": \"correct value 1\", \"old value 2\": \"correct value 2\"}\n",
    ")"
   ]
  },
  {
   "cell_type": "markdown",
   "id": "cf99e5cf-cc3f-4dfe-88bc-a15a43af4744",
   "metadata": {},
   "source": [
    "## Filter what you want\n",
    "* You don't necessarily want all the years, all the programs, etc. \n",
    "* Filter out what you are interested in.\n",
    "\n",
    "### Grants you want"
   ]
  },
  {
   "cell_type": "code",
   "execution_count": null,
   "id": "c767700f-1f17-4b72-b544-57b8aeb3c4b2",
   "metadata": {},
   "outputs": [],
   "source": [
    "# Paste whatever values you want between the brckets.\n",
    "# The values need to be in quotes.\n",
    "grants_wanted = [\n",
    "    \"Section 5311\",\n",
    "    \"5310 Exp\",\n",
    "    \"5310 Trad\",\n",
    "    \"5311(f) Cont\",\n",
    "    \"CMAQ (FTA 5311)\",\n",
    "    \"Section 5311(f)\",\n",
    "    \"5311(f) Round 2\",\n",
    "]"
   ]
  },
  {
   "cell_type": "code",
   "execution_count": null,
   "id": "bc528005-0ad5-4eb9-920a-7b18c3310370",
   "metadata": {},
   "outputs": [],
   "source": [
    "\"\"\"\n",
    "Keep only the grants in my list and create a NEW variable.\n",
    "It's best to create new variables when you make changes, so you can always reference\n",
    "the original variable. \n",
    "\"\"\"\n",
    "df2 = df[df[\"funding_program\"].isin(grants_wanted)]"
   ]
  },
  {
   "cell_type": "code",
   "execution_count": null,
   "id": "f9c5d395-cba8-4609-9019-04faf27011c5",
   "metadata": {},
   "outputs": [],
   "source": [
    "df2[\"funding_program\"].value_counts()"
   ]
  },
  {
   "cell_type": "code",
   "execution_count": null,
   "id": "fb149467-2693-494b-8a7c-a56648064dfd",
   "metadata": {},
   "outputs": [],
   "source": [
    "df2[\"funding_program_broad\"] = df2[\"funding_program\"].replace(\n",
    "    {\n",
    "        \"5310 Exp\": \"5310\",\n",
    "        \"5310 Trad\": \"5310\",\n",
    "        \"Section 5311\": \"5311\",\n",
    "        \"5311(f) Cont\": \"5311\",\n",
    "        \"CMAQ (FTA 5311)\": \"5311\",\n",
    "        \"Section 5311(f)\": \"5311\",\n",
    "        \"5311(f) Round 2\": \"5311\",\n",
    "    }\n",
    ")"
   ]
  },
  {
   "cell_type": "markdown",
   "id": "339b7dbd-2e3f-4305-bd56-403ed5768a63",
   "metadata": {},
   "source": [
    "### Columns you want\n",
    "* Drop irrelvant columns "
   ]
  },
  {
   "cell_type": "code",
   "execution_count": null,
   "id": "b0a8ab7f-d3a7-4d2e-859a-40a2ecc91a8e",
   "metadata": {},
   "outputs": [],
   "source": [
    "# Copy and paste the irrelevant ones into this list below\n",
    "wanted_columns = [\n",
    "    \"grant_fiscal_year\",\n",
    "    \"funding_program_broad\",\n",
    "    \"grant_number\",\n",
    "    \"project_year\",\n",
    "    \"organization_name\",\n",
    "    \"allocationamount\",\n",
    "]"
   ]
  },
  {
   "cell_type": "code",
   "execution_count": null,
   "id": "89b92403-85c4-4666-ba78-5e684a69d607",
   "metadata": {},
   "outputs": [],
   "source": [
    "# Drop them - assign to a new dataframe if you wish\n",
    "df3 = df2[wanted_columns]"
   ]
  },
  {
   "cell_type": "code",
   "execution_count": null,
   "id": "4ce7ad3e-152d-4d06-a3c0-0229ae1c008b",
   "metadata": {},
   "outputs": [],
   "source": [
    "df3.shape"
   ]
  },
  {
   "cell_type": "markdown",
   "id": "6b62f43c-d27a-4e77-b32f-1e93dd8d07ec",
   "metadata": {
    "tags": []
   },
   "source": [
    "## How much funding did each agency receive by each fiscal year and grant, in the past five years? \n",
    "* For Hubspot/CRM"
   ]
  },
  {
   "cell_type": "code",
   "execution_count": null,
   "id": "df8a2e91-c571-4558-b1da-ca77ba27c1a2",
   "metadata": {
    "tags": []
   },
   "outputs": [],
   "source": [
    "\"\"\"\n",
    "Filter out years again with the original dataframe, df2\n",
    "Because this  the request is for a different time frame\n",
    "\"\"\"\n",
    "df4 = df3[df3[\"grant_fiscal_year\"] > 2017]"
   ]
  },
  {
   "cell_type": "code",
   "execution_count": null,
   "id": "7f9ab9b6-3f24-4531-b634-153e670085d0",
   "metadata": {},
   "outputs": [],
   "source": [
    "df4[\"organization_name\"].nunique()"
   ]
  },
  {
   "cell_type": "code",
   "execution_count": null,
   "id": "e6b1d0b6-322e-4e0f-8abd-1e3c2e04a86b",
   "metadata": {},
   "outputs": [],
   "source": [
    "df4.shape"
   ]
  },
  {
   "cell_type": "markdown",
   "id": "da6487a0-ebdc-43e0-b758-f83f44994a5e",
   "metadata": {},
   "source": [
    "#### Add the URL of each agency's website - GTFS agency info"
   ]
  },
  {
   "cell_type": "code",
   "execution_count": null,
   "id": "a669cab4-b4f9-4e73-92f2-15f3eb80cb71",
   "metadata": {},
   "outputs": [],
   "source": [
    "\"\"\"\n",
    "Query agency info from our warehouse\n",
    "\"\"\"\n",
    "agency_info = tbl.gtfs_schedule.agency() >> collect() >> distinct()"
   ]
  },
  {
   "cell_type": "code",
   "execution_count": null,
   "id": "80d2ff39-c3b0-47c4-bb10-4b9bb1865985",
   "metadata": {},
   "outputs": [],
   "source": [
    "# keep only rows I want\n",
    "agency_info = agency_info[[\"calitp_itp_id\", \"agency_id\", \"agency_name\", \"agency_url\"]]"
   ]
  },
  {
   "cell_type": "code",
   "execution_count": null,
   "id": "cc31a35c-2a75-44ce-baf8-d240bd8e833e",
   "metadata": {
    "scrolled": true,
    "tags": []
   },
   "outputs": [],
   "source": [
    "agency_info2 = agency_info.drop_duplicates(\n",
    "    subset=[\"agency_name\"], keep = 'first'\n",
    ")"
   ]
  },
  {
   "cell_type": "code",
   "execution_count": null,
   "id": "829cfda9-b19f-4a63-ab7e-2dbda5d626f5",
   "metadata": {},
   "outputs": [],
   "source": [
    "agency_info2.head(3)"
   ]
  },
  {
   "cell_type": "code",
   "execution_count": null,
   "id": "e5e42658-da4e-4fba-8fcd-c4d91578c05f",
   "metadata": {},
   "outputs": [],
   "source": [
    "agency_info2.dtypes"
   ]
  },
  {
   "cell_type": "code",
   "execution_count": null,
   "id": "c4d14f8d-bc2a-46b5-8184-77f65446113e",
   "metadata": {},
   "outputs": [],
   "source": [
    "len(agency_info2)"
   ]
  },
  {
   "cell_type": "code",
   "execution_count": null,
   "id": "f46cbcee-e68b-4699-b802-a7c38169a94b",
   "metadata": {},
   "outputs": [],
   "source": [
    "m1 = pd.merge(\n",
    "    df4,\n",
    "    agency_info2,\n",
    "    how=\"left\",\n",
    "    left_on=[\"organization_name\"],\n",
    "    right_on=[\"agency_name\"],\n",
    "    indicator=True,\n",
    ")"
   ]
  },
  {
   "cell_type": "code",
   "execution_count": null,
   "id": "f7ee704e-60b5-403c-84b6-dfb5b88c1f19",
   "metadata": {},
   "outputs": [],
   "source": [
    "m1[\"_merge\"].value_counts()"
   ]
  },
  {
   "cell_type": "code",
   "execution_count": null,
   "id": "07e7791e-1636-40bf-8ddc-bf921912a761",
   "metadata": {},
   "outputs": [],
   "source": [
    "m1 = m1.drop(columns = '_merge')"
   ]
  },
  {
   "cell_type": "code",
   "execution_count": null,
   "id": "0a957563-5dac-4a4f-a611-b0704c1edebd",
   "metadata": {},
   "outputs": [],
   "source": [
    "m1['agency_url'].nunique()"
   ]
  },
  {
   "cell_type": "code",
   "execution_count": null,
   "id": "420058b3-08f0-4463-8947-bca1988c64dd",
   "metadata": {},
   "outputs": [],
   "source": [
    "m1.shape"
   ]
  },
  {
   "cell_type": "markdown",
   "id": "20c8109a-eeca-4039-a5f3-8204fe26a635",
   "metadata": {},
   "source": [
    "#### Airtable Organization Data"
   ]
  },
  {
   "cell_type": "code",
   "execution_count": null,
   "id": "3cff62f9-45d6-423e-9ffa-3eb36ea4b3d8",
   "metadata": {},
   "outputs": [],
   "source": [
    "ntd_info  = to_snakecase(pd.read_csv(\"gs://calitp-analytics-data/data-analyses/grants/organizations-All Organizations (1).csv\"))"
   ]
  },
  {
   "cell_type": "code",
   "execution_count": null,
   "id": "57dcb4b2-6784-4ab8-a9ed-4247fbaef317",
   "metadata": {},
   "outputs": [],
   "source": [
    "ntd_info2 = ntd_info[['name','website', \"itp_id\"]]"
   ]
  },
  {
   "cell_type": "code",
   "execution_count": null,
   "id": "4fb9f66c-5288-46ed-ba25-52068e7375a6",
   "metadata": {},
   "outputs": [],
   "source": [
    "ntd_info2.head(2)"
   ]
  },
  {
   "cell_type": "code",
   "execution_count": null,
   "id": "e9a4dc20-6af1-4d50-a6b4-d96b99f7773d",
   "metadata": {},
   "outputs": [],
   "source": [
    "ntd_info2['name'].nunique()"
   ]
  },
  {
   "cell_type": "code",
   "execution_count": null,
   "id": "5fe07d86-2b9d-4a77-bf7b-16497e5ef19e",
   "metadata": {},
   "outputs": [],
   "source": [
    "ntd_info2['itp_id'] = ntd_info2['itp_id'].fillna(0).astype('int64')"
   ]
  },
  {
   "cell_type": "code",
   "execution_count": null,
   "id": "05ed6655-c630-4584-b9ea-edac85a2fcce",
   "metadata": {},
   "outputs": [],
   "source": [
    "ntd_info2.dtypes"
   ]
  },
  {
   "cell_type": "code",
   "execution_count": null,
   "id": "ef48c707-8c44-4865-920c-5a36e828fb18",
   "metadata": {},
   "outputs": [],
   "source": [
    "m1['calitp_itp_id'] = m1['calitp_itp_id'].fillna(0).astype('int64')"
   ]
  },
  {
   "cell_type": "code",
   "execution_count": null,
   "id": "c77b1165-40a5-4bca-89a8-c67d8849789b",
   "metadata": {},
   "outputs": [],
   "source": [
    "m1.dtypes"
   ]
  },
  {
   "cell_type": "code",
   "execution_count": null,
   "id": "c69b722b-2ff4-47cf-a672-c95bffab7b67",
   "metadata": {},
   "outputs": [],
   "source": [
    "'''\n",
    "m3 = pd.merge(\n",
    "    m1,\n",
    "    ntd_info2,\n",
    "    how=\"left\",\n",
    "    left_on=[\"calitp_itp_id\"],\n",
    "    right_on=[\"itp_id\"],\n",
    "    indicator=True,\n",
    ")\n",
    "'''"
   ]
  },
  {
   "cell_type": "code",
   "execution_count": null,
   "id": "416d6e1a-0c18-4279-a46b-86c700cd0b0c",
   "metadata": {},
   "outputs": [],
   "source": [
    "m2 = pd.merge(\n",
    "    m1,\n",
    "    ntd_info2,\n",
    "    how=\"left\",\n",
    "    left_on=[\"organization_name\"],\n",
    "    right_on=[\"name\"],\n",
    "    indicator=True,\n",
    ")"
   ]
  },
  {
   "cell_type": "code",
   "execution_count": null,
   "id": "468ee85d-8c08-4447-b0fb-6f3e96022986",
   "metadata": {},
   "outputs": [],
   "source": [
    "m2['_merge'].value_counts()"
   ]
  },
  {
   "cell_type": "code",
   "execution_count": null,
   "id": "18a34cda-d94b-4aef-875c-554e582ec347",
   "metadata": {},
   "outputs": [],
   "source": [
    "m2['website_use'] = m2['website']"
   ]
  },
  {
   "cell_type": "code",
   "execution_count": null,
   "id": "b13f7536-1b0f-457a-88d9-79007d37a1e2",
   "metadata": {},
   "outputs": [],
   "source": [
    "m2['website_use'] = m2['website_use'].fillna(m2['agency_url'])"
   ]
  },
  {
   "cell_type": "code",
   "execution_count": null,
   "id": "ba87e5bc-3c48-4e6c-b0d5-d2b4a04b3951",
   "metadata": {},
   "outputs": [],
   "source": [
    "m2['website_use'].nunique()"
   ]
  },
  {
   "cell_type": "code",
   "execution_count": null,
   "id": "215422a8-2583-42a2-9389-a1029ac90d30",
   "metadata": {},
   "outputs": [],
   "source": [
    "# fill na\n",
    "m2_na_cols = [\"calitp_itp_id\", \"agency_id\", \"agency_name\", \"website_use\"]"
   ]
  },
  {
   "cell_type": "code",
   "execution_count": null,
   "id": "9f053e68-3136-49c1-9cd2-96addccdaa23",
   "metadata": {},
   "outputs": [],
   "source": [
    "m2[m2_na_cols] = m2[m2_na_cols].fillna(\"N/A\")"
   ]
  },
  {
   "cell_type": "code",
   "execution_count": null,
   "id": "96fd79e4-f550-4063-ad54-7831b553f581",
   "metadata": {},
   "outputs": [],
   "source": [
    "m2.shape"
   ]
  },
  {
   "cell_type": "code",
   "execution_count": null,
   "id": "705e61d3-1a86-43d8-a40b-4f39a2da1fd0",
   "metadata": {
    "scrolled": true,
    "tags": []
   },
   "outputs": [],
   "source": [
    "m3 = pd.melt(m2, id_vars=['grant_fiscal_year', 'organization_name', 'funding_program_broad','website_use','calitp_itp_id'], value_vars=['allocationamount',])"
   ]
  },
  {
   "cell_type": "code",
   "execution_count": null,
   "id": "55067b72-caff-4b0f-a88a-532d66011f0a",
   "metadata": {
    "scrolled": true,
    "tags": []
   },
   "outputs": [],
   "source": [
    "m3 = m3.drop(columns = 'variable')"
   ]
  },
  {
   "cell_type": "code",
   "execution_count": null,
   "id": "fcdbe200-8611-4310-9d66-226f137a27f2",
   "metadata": {},
   "outputs": [],
   "source": [
    "m3.head(3)"
   ]
  },
  {
   "cell_type": "markdown",
   "id": "2186f02f-5ab3-4390-b163-f839cd502038",
   "metadata": {},
   "source": [
    "### Summarize  dataframe\n",
    "* This is exactly the same as creating a pivot table in Excel. \n",
    "* There are certain columns you want to group & ony need once and certain columns you want to get the sum/median/mean/etc of.\n",
    "* [Tutorial](https://docs.calitp.org/data-infra/analytics_new_analysts/data-analysis-intro.html#aggregating)"
   ]
  },
  {
   "cell_type": "code",
   "execution_count": null,
   "id": "1d9ba485-7483-4e4d-a3d2-d2625a120dda",
   "metadata": {
    "scrolled": true,
    "tags": []
   },
   "outputs": [],
   "source": [
    "\"\"\"\n",
    "Once you are happy with your analysis, assign it to a \n",
    "new variable such as agg1 = df3.groupby().\n",
    "When you don't assign something to a variable, the results\n",
    "aren't saved.\n",
    "\"\"\"\n",
    "agg1 = m2.groupby(\n",
    "    [\n",
    "        \"organization_name\",\n",
    "        \"website_use\",\n",
    "        \"funding_program_broad\",\n",
    "        \"grant_fiscal_year\",\n",
    "    ]\n",
    ").agg({\"allocationamount\": \"sum\"})"
   ]
  },
  {
   "cell_type": "code",
   "execution_count": null,
   "id": "c0348fae-021a-4a95-8f76-ed7e476c4a9a",
   "metadata": {
    "tags": []
   },
   "outputs": [],
   "source": [
    "agg1.head()"
   ]
  },
  {
   "cell_type": "code",
   "execution_count": null,
   "id": "71fe91e0-3c6a-49dc-8c17-436c768f4f01",
   "metadata": {},
   "outputs": [],
   "source": [
    "agg2 = agg1.reset_index()"
   ]
  },
  {
   "cell_type": "code",
   "execution_count": null,
   "id": "13eb1eb4-9fc8-45ad-8978-78c6f4a397ea",
   "metadata": {},
   "outputs": [],
   "source": [
    "agg2.columns"
   ]
  },
  {
   "cell_type": "code",
   "execution_count": null,
   "id": "76884544-8182-45cb-ac87-74953a820a16",
   "metadata": {},
   "outputs": [],
   "source": [
    "agg2.head()"
   ]
  },
  {
   "cell_type": "markdown",
   "id": "a54e0507-9298-4ed8-98a2-d782599eb403",
   "metadata": {},
   "source": [
    "## Save your work\n",
    "* You can save all your hardwork into a single Excel workbook to our [Google Cloud Storage](https://console.cloud.google.com/storage/browser/calitp-analytics-data/data-analyses/grants;tab=objects?project=cal-itp-data-infra&prefix=&forceOnObjectsSortingFiltering=false)."
   ]
  },
  {
   "cell_type": "markdown",
   "id": "1e9881c4-ee8a-48c8-af14-ea98f2efe117",
   "metadata": {},
   "source": [
    "# This will be saved to our GCS bucket.\n",
    "with pd.ExcelWriter(\n",
    "    \"gs://calitp-analytics-data/data-analyses/grants/5311_5310_hubspot.xlsx\"\n",
    ") as writer:\n",
    "    agg1.to_excel(writer, sheet_name=\"5311_5310_Applicants\", index= True)"
   ]
  }
 ],
 "metadata": {
  "kernelspec": {
   "display_name": "Python 3 (ipykernel)",
   "language": "python",
   "name": "python3"
  },
  "language_info": {
   "codemirror_mode": {
    "name": "ipython",
    "version": 3
   },
   "file_extension": ".py",
   "mimetype": "text/x-python",
   "name": "python",
   "nbconvert_exporter": "python",
   "pygments_lexer": "ipython3",
   "version": "3.10.4"
  }
 },
 "nbformat": 4,
 "nbformat_minor": 5
}
