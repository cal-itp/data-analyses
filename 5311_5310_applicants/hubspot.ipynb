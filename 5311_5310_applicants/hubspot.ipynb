{
 "cells": [
  {
   "cell_type": "markdown",
   "id": "6b62f43c-d27a-4e77-b32f-1e93dd8d07ec",
   "metadata": {
    "tags": []
   },
   "source": [
    "## How much funding did each agency receive by each fiscal year and grant, in the past five years? \n",
    "* For Hubspot/CRM\n",
    "* [Research Request](https://github.com/cal-itp/data-analyses/issues/333)"
   ]
  },
  {
   "cell_type": "code",
   "execution_count": null,
   "id": "169bb990-b266-4ccb-9d38-0fe7b98a397a",
   "metadata": {},
   "outputs": [],
   "source": [
    "import calitp.magics\n",
    "import pandas as pd\n",
    "from calitp import *\n",
    "from calitp.tables import tbl\n",
    "from siuba import *\n",
    "\n",
    "# Formatting the notebook\n",
    "# The max columns to display will be 100\n",
    "pd.options.display.max_columns = 100\n",
    "\n",
    "# There will allow you to print all the rows in your data\n",
    "pd.set_option(\"display.max_rows\", None)\n",
    "\n",
    "# This will prevent columns from being truncated\n",
    "pd.set_option(\"display.max_colwidth\", None)"
   ]
  },
  {
   "cell_type": "code",
   "execution_count": null,
   "id": "c1d6fb2f-e483-4405-92fb-1cd826fedc9a",
   "metadata": {},
   "outputs": [],
   "source": [
    "df = to_snakecase(\n",
    "    pd.read_excel(\n",
    "        \"gs://calitp-analytics-data/data-analyses/grants/Grant+Projects_7_30_2022.xlsx\",\n",
    "        sheet_name=\"Grant Projects\",\n",
    "    )\n",
    ")"
   ]
  },
  {
   "cell_type": "code",
   "execution_count": null,
   "id": "95ac88ef-c190-4053-90de-71541d927a6b",
   "metadata": {},
   "outputs": [],
   "source": [
    "def organization_cleaning(df, column_wanted: str):\n",
    "    df[column_wanted] = (\n",
    "        df[column_wanted]\n",
    "        .str.strip()\n",
    "        .str.split(\",\")\n",
    "        .str[0]\n",
    "        .str.replace(\"/\", \"\")\n",
    "        .str.split(\"(\")\n",
    "        .str[0]\n",
    "        .str.split(\"/\")\n",
    "        .str[0]\n",
    "    )\n",
    "    return df"
   ]
  },
  {
   "cell_type": "markdown",
   "id": "96070493-1a4b-4f3f-ada3-a65dbf98ceab",
   "metadata": {},
   "source": [
    "### Filter out what I want "
   ]
  },
  {
   "cell_type": "code",
   "execution_count": null,
   "id": "c767700f-1f17-4b72-b544-57b8aeb3c4b2",
   "metadata": {},
   "outputs": [],
   "source": [
    "# Grants wanted\n",
    "grants_wanted = [\n",
    "    \"Section 5311\",\n",
    "    \"5310 Exp\",\n",
    "    \"5310 Trad\",\n",
    "    \"5311(f) Cont\",\n",
    "    \"CMAQ (FTA 5311)\",\n",
    "    \"Section 5311(f)\",\n",
    "    \"5311(f) Round 2\",\n",
    "]"
   ]
  },
  {
   "cell_type": "code",
   "execution_count": null,
   "id": "bc528005-0ad5-4eb9-920a-7b18c3310370",
   "metadata": {},
   "outputs": [],
   "source": [
    "# Filter for grants\n",
    "df2 = df[df[\"funding_program\"].isin(grants_wanted)]"
   ]
  },
  {
   "cell_type": "code",
   "execution_count": null,
   "id": "fb149467-2693-494b-8a7c-a56648064dfd",
   "metadata": {},
   "outputs": [],
   "source": [
    "# Replace the different variations of 5311/5310 with broader names\n",
    "df2[\"funding_program_broad\"] = df2[\"funding_program\"].replace(\n",
    "    {\n",
    "        \"5310 Exp\": \"5310\",\n",
    "        \"5310 Trad\": \"5310\",\n",
    "        \"Section 5311\": \"5311\",\n",
    "        \"5311(f) Cont\": \"5311\",\n",
    "        \"CMAQ (FTA 5311)\": \"5311\",\n",
    "        \"Section 5311(f)\": \"5311\",\n",
    "        \"5311(f) Round 2\": \"5311\",\n",
    "    }\n",
    ")"
   ]
  },
  {
   "cell_type": "code",
   "execution_count": null,
   "id": "b0a8ab7f-d3a7-4d2e-859a-40a2ecc91a8e",
   "metadata": {},
   "outputs": [],
   "source": [
    "# Keep only certain columns\n",
    "wanted_columns = [\n",
    "    \"grant_fiscal_year\",\n",
    "    \"funding_program_broad\",\n",
    "    \"grant_number\",\n",
    "    \"project_year\",\n",
    "    \"organization_name\",\n",
    "    \"allocationamount\",\n",
    "]"
   ]
  },
  {
   "cell_type": "code",
   "execution_count": null,
   "id": "89b92403-85c4-4666-ba78-5e684a69d607",
   "metadata": {},
   "outputs": [],
   "source": [
    "# New subset dataframe\n",
    "df3 = df2[wanted_columns]"
   ]
  },
  {
   "cell_type": "code",
   "execution_count": null,
   "id": "df8a2e91-c571-4558-b1da-ca77ba27c1a2",
   "metadata": {
    "tags": []
   },
   "outputs": [],
   "source": [
    "# Only want data for last five years\n",
    "df4 = df3[df3[\"grant_fiscal_year\"] > 2017]"
   ]
  },
  {
   "cell_type": "code",
   "execution_count": null,
   "id": "1b38f801-37b5-4016-80bd-4dd13b4ef408",
   "metadata": {},
   "outputs": [],
   "source": [
    "# Get a list of the unique organizations\n",
    "original_orgs = set(df4.organization_name.unique().tolist())"
   ]
  },
  {
   "cell_type": "code",
   "execution_count": null,
   "id": "f96d4e4e-3181-46ae-852e-4826a026dd78",
   "metadata": {},
   "outputs": [],
   "source": [
    "len(original_orgs)"
   ]
  },
  {
   "cell_type": "code",
   "execution_count": null,
   "id": "e6b1d0b6-322e-4e0f-8abd-1e3c2e04a86b",
   "metadata": {},
   "outputs": [],
   "source": [
    "df4.shape"
   ]
  },
  {
   "cell_type": "code",
   "execution_count": null,
   "id": "e389743a-0a51-4261-b9e7-daa292402b14",
   "metadata": {},
   "outputs": [],
   "source": [
    "df4 = organization_cleaning(df4, \"organization_name\")"
   ]
  },
  {
   "cell_type": "code",
   "execution_count": null,
   "id": "1d9ba485-7483-4e4d-a3d2-d2625a120dda",
   "metadata": {
    "scrolled": true,
    "tags": []
   },
   "outputs": [],
   "source": [
    "# Group by to summarize information.\n",
    "agg1 = (\n",
    "    df4.groupby(\n",
    "        [\n",
    "            \"organization_name\",\n",
    "            \"funding_program_broad\",\n",
    "            \"grant_fiscal_year\",\n",
    "        ]\n",
    "    )\n",
    "    .agg({\"allocationamount\": \"sum\"})\n",
    "    .reset_index()\n",
    ")"
   ]
  },
  {
   "cell_type": "code",
   "execution_count": null,
   "id": "6648849b-d9f6-41d1-bc3c-f42130a0b75b",
   "metadata": {},
   "outputs": [],
   "source": [
    "agg1.shape"
   ]
  },
  {
   "cell_type": "code",
   "execution_count": null,
   "id": "ca667934-fa2f-4764-8c6a-d6f15fe47f43",
   "metadata": {},
   "outputs": [],
   "source": [
    "agg1[\"organization_name\"].nunique()"
   ]
  },
  {
   "cell_type": "markdown",
   "id": "da6487a0-ebdc-43e0-b758-f83f44994a5e",
   "metadata": {
    "tags": []
   },
   "source": [
    "### Add the URL of each agency's website - Airtable"
   ]
  },
  {
   "cell_type": "code",
   "execution_count": null,
   "id": "a669cab4-b4f9-4e73-92f2-15f3eb80cb71",
   "metadata": {
    "scrolled": true,
    "tags": []
   },
   "outputs": [],
   "source": [
    "%%sql -o airtable_grants\n",
    "SELECT \n",
    "  CAST(itp_id AS INT) AS itp_id,\n",
    "  name,\n",
    "  website\n",
    "FROM cal-itp-data-infra.mart_transit_database.dim_organizations\n",
    "WHERE itp_id IS NOT NULL\n",
    "  AND itp_id > 0\n",
    "    OR website IS NOT NULL\n",
    "ORDER BY itp_id ASC"
   ]
  },
  {
   "cell_type": "code",
   "execution_count": null,
   "id": "98b12df8-86ac-40d0-94dd-ce880fc5efdc",
   "metadata": {},
   "outputs": [],
   "source": [
    "len(airtable_grants)"
   ]
  },
  {
   "cell_type": "code",
   "execution_count": null,
   "id": "20bc1150-88ab-4098-beb1-c6a3261dd88a",
   "metadata": {},
   "outputs": [],
   "source": [
    "# Some orgs that are different share the same Cal ITP ID\n",
    "# EX: RIverside University Health System and Redwood Coast Seniors\n",
    "airtable_grants[\"itp_id\"].nunique()"
   ]
  },
  {
   "cell_type": "code",
   "execution_count": null,
   "id": "200981f8-4897-405f-8a1d-f9fc91ab68fc",
   "metadata": {},
   "outputs": [],
   "source": [
    "airtable_grants2 = airtable_grants.drop_duplicates(subset=[\"itp_id\"])"
   ]
  },
  {
   "cell_type": "code",
   "execution_count": null,
   "id": "68f3f437-0ce9-4ebf-8e72-ebf9e85e32e0",
   "metadata": {},
   "outputs": [],
   "source": [
    "len(airtable_grants2)"
   ]
  },
  {
   "cell_type": "code",
   "execution_count": null,
   "id": "c6642e7a-72f4-4bdc-8ca9-260f636af4d6",
   "metadata": {},
   "outputs": [],
   "source": [
    "airtable_grants.info()"
   ]
  },
  {
   "cell_type": "code",
   "execution_count": null,
   "id": "416d6e1a-0c18-4279-a46b-86c700cd0b0c",
   "metadata": {},
   "outputs": [],
   "source": [
    "m1 = pd.merge(\n",
    "    agg1,\n",
    "    airtable_grants,\n",
    "    how=\"outer\",\n",
    "    left_on=[\"organization_name\"],\n",
    "    right_on=[\"name\"],\n",
    "    indicator=True,\n",
    "    validate=\"m:1\",\n",
    ")"
   ]
  },
  {
   "cell_type": "code",
   "execution_count": null,
   "id": "468ee85d-8c08-4447-b0fb-6f3e96022986",
   "metadata": {},
   "outputs": [],
   "source": [
    "m1[\"_merge\"].value_counts()"
   ]
  },
  {
   "cell_type": "code",
   "execution_count": null,
   "id": "48c5573a-094a-4be6-8289-66662e506827",
   "metadata": {},
   "outputs": [],
   "source": [
    "m1 = m1.drop(columns=[\"_merge\"])"
   ]
  },
  {
   "cell_type": "code",
   "execution_count": null,
   "id": "ef48c707-8c44-4865-920c-5a36e828fb18",
   "metadata": {},
   "outputs": [],
   "source": [
    "# Change the Cal ITP ID to be integer to match m1's Cal ITP\n",
    "m1[\"itp_id\"] = m1[\"itp_id\"].fillna(0).astype(\"int64\")"
   ]
  },
  {
   "cell_type": "code",
   "execution_count": null,
   "id": "a3af8a46-18b7-45df-8ef0-4b25bd95f498",
   "metadata": {},
   "outputs": [],
   "source": [
    "len(m1)"
   ]
  },
  {
   "cell_type": "code",
   "execution_count": null,
   "id": "2d69d131-bff3-40bd-bc0c-a3ff1c2e0e43",
   "metadata": {
    "tags": []
   },
   "outputs": [],
   "source": [
    "m1[\"website\"].nunique()"
   ]
  },
  {
   "cell_type": "markdown",
   "id": "eb2ba31b-8fe4-4c3e-9cb0-092cef8b2331",
   "metadata": {},
   "source": [
    "### Add URL with GTFS Schedule"
   ]
  },
  {
   "cell_type": "code",
   "execution_count": null,
   "id": "00ca41d9-ade2-41f6-8c46-f124c7b61476",
   "metadata": {},
   "outputs": [],
   "source": [
    "gtfs_schedule = tbl.gtfs_schedule.agency() >> collect() >> distinct()"
   ]
  },
  {
   "cell_type": "code",
   "execution_count": null,
   "id": "087769b8-8a44-4d2d-bd93-ffe18fb27ee2",
   "metadata": {},
   "outputs": [],
   "source": [
    "# Subset \n",
    "gtfs_schedule2 = gtfs_schedule[\n",
    "    [\"calitp_itp_id\", \"agency_id\", \"agency_name\", \"agency_url\"]\n",
    "]"
   ]
  },
  {
   "cell_type": "code",
   "execution_count": null,
   "id": "c952490e-50e9-4a31-b0d3-8a74cd391a2e",
   "metadata": {},
   "outputs": [],
   "source": [
    "# There are duplicated Cal ITP IDs, delete duplicates\n",
    "gtfs_schedule3 = gtfs_schedule2.drop_duplicates(subset=[\"calitp_itp_id\"], keep=\"first\")"
   ]
  },
  {
   "cell_type": "code",
   "execution_count": null,
   "id": "c14c3161-cf29-4e3a-a091-34a5c3e5661a",
   "metadata": {},
   "outputs": [],
   "source": [
    "# Check data types\n",
    "gtfs_schedule3.dtypes, m1.dtypes"
   ]
  },
  {
   "cell_type": "code",
   "execution_count": null,
   "id": "c0a1022f-3336-4601-bdb9-49121ba5195c",
   "metadata": {},
   "outputs": [],
   "source": [
    "m2 = pd.merge(\n",
    "    m1,\n",
    "    gtfs_schedule3,\n",
    "    how=\"left\",\n",
    "    left_on=[\"itp_id\"],\n",
    "    right_on=[\"calitp_itp_id\"],\n",
    "    indicator=True,\n",
    "    validate=\"m:1\",\n",
    ")"
   ]
  },
  {
   "cell_type": "code",
   "execution_count": null,
   "id": "45f6571e-07c1-4c09-ad68-ca5775493e83",
   "metadata": {},
   "outputs": [],
   "source": [
    "len(m2)"
   ]
  },
  {
   "cell_type": "markdown",
   "id": "49078b00-4819-4fa2-b790-67d02606dc75",
   "metadata": {},
   "source": [
    "### Clean up "
   ]
  },
  {
   "cell_type": "code",
   "execution_count": null,
   "id": "18a34cda-d94b-4aef-875c-554e582ec347",
   "metadata": {},
   "outputs": [],
   "source": [
    "# Create a new col to populate websites from the two data sets\n",
    "m2[\"website_use\"] = m2[\"website\"]"
   ]
  },
  {
   "cell_type": "code",
   "execution_count": null,
   "id": "b13f7536-1b0f-457a-88d9-79007d37a1e2",
   "metadata": {},
   "outputs": [],
   "source": [
    "m2[\"website_use\"] = m2[\"website_use\"].fillna(m2[\"agency_url\"])"
   ]
  },
  {
   "cell_type": "code",
   "execution_count": null,
   "id": "3ce4f57e-b44d-49e5-a20d-265a33bfa60a",
   "metadata": {},
   "outputs": [],
   "source": [
    "m2_cols_to_keep = [\n",
    "    \"organization_name\",\n",
    "    \"funding_program_broad\",\n",
    "    \"grant_fiscal_year\",\n",
    "    \"allocationamount\",\n",
    "    \"website_use\",\n",
    "]"
   ]
  },
  {
   "cell_type": "code",
   "execution_count": null,
   "id": "14b59a20-178b-4b1b-a76e-06911dd6137a",
   "metadata": {},
   "outputs": [],
   "source": [
    "m3 = m2[m2_cols_to_keep]"
   ]
  },
  {
   "cell_type": "code",
   "execution_count": null,
   "id": "2d11ccc8-a5d9-4a49-bb0c-1d9e5d6c7c3e",
   "metadata": {},
   "outputs": [],
   "source": [
    "# Did an outer join for airtable + black cat. \n",
    "# Delete all the records that are only found in airtable\n",
    "m4 = m3.dropna(subset=[\"organization_name\", \"allocationamount\"])"
   ]
  },
  {
   "cell_type": "code",
   "execution_count": null,
   "id": "ec45ca1d-c649-4e8a-a135-352d56e40a18",
   "metadata": {
    "tags": []
   },
   "outputs": [],
   "source": [
    "m4[\"website_use\"] = m4[\"website_use\"].fillna(\"N/A\")"
   ]
  },
  {
   "cell_type": "markdown",
   "id": "e1c6e863-c653-44c2-b25f-8a6068fe0dd1",
   "metadata": {},
   "source": [
    "### Aggregate Again"
   ]
  },
  {
   "cell_type": "code",
   "execution_count": null,
   "id": "249d421f-4a94-4c2b-a1ff-c9519c23a7cb",
   "metadata": {},
   "outputs": [],
   "source": [
    "m4 = m4.rename(\n",
    "    columns={\n",
    "        \"organization_name\": \"Organization\",\n",
    "        \"website_use\": \"Website\",\n",
    "        \"funding_program_broad\": \"Grant\",\n",
    "        \"allocationamount\": \"Allocation\",\n",
    "        \"grant_fiscal_year\": \"Grant Fiscal Year\",\n",
    "    }\n",
    ")"
   ]
  },
  {
   "cell_type": "code",
   "execution_count": null,
   "id": "5ef36150-5445-4988-b0f8-665961ec9438",
   "metadata": {},
   "outputs": [],
   "source": [
    "# Group by to summarize information.\n",
    "agg2 = m4.groupby(\n",
    "    [\n",
    "        \"Organization\",\n",
    "        \"Website\",\n",
    "        \"Grant\",\n",
    "        \"Grant Fiscal Year\",\n",
    "    ]\n",
    ").agg({\"Allocation\": \"sum\"})"
   ]
  },
  {
   "cell_type": "code",
   "execution_count": null,
   "id": "9c7a564a-6547-46bc-a0c1-2b108b79378b",
   "metadata": {
    "tags": []
   },
   "outputs": [],
   "source": [
    "agg2.sample(4)"
   ]
  },
  {
   "cell_type": "code",
   "execution_count": null,
   "id": "37f8eb2d-1822-4626-aff8-89fa8d38bc75",
   "metadata": {},
   "outputs": [],
   "source": [
    "'''\n",
    "with pd.ExcelWriter(\n",
    "    \"gs://calitp-analytics-data/data-analyses/grants/5311_5310_hubspot.xlsx\"\n",
    ") as writer:\n",
    "    agg2.to_excel(writer, sheet_name=\"5311_5310_Applicants\", index=True)\n",
    "''' "
   ]
  }
 ],
 "metadata": {
  "kernelspec": {
   "display_name": "Python 3 (ipykernel)",
   "language": "python",
   "name": "python3"
  },
  "language_info": {
   "codemirror_mode": {
    "name": "ipython",
    "version": 3
   },
   "file_extension": ".py",
   "mimetype": "text/x-python",
   "name": "python",
   "nbconvert_exporter": "python",
   "pygments_lexer": "ipython3",
   "version": "3.10.4"
  }
 },
 "nbformat": 4,
 "nbformat_minor": 5
}
