{
 "cells": [
  {
   "cell_type": "markdown",
   "id": "6b62f43c-d27a-4e77-b32f-1e93dd8d07ec",
   "metadata": {
    "tags": []
   },
   "source": [
    "## How much funding did each agency receive by each fiscal year and grant, in the past five years? \n",
    "* For Hubspot/CRM\n",
    "* [Research Request](https://github.com/cal-itp/data-analyses/issues/333)"
   ]
  },
  {
   "cell_type": "code",
   "execution_count": null,
   "id": "169bb990-b266-4ccb-9d38-0fe7b98a397a",
   "metadata": {},
   "outputs": [],
   "source": [
    "import calitp.magics\n",
    "import pandas as pd\n",
    "import utils \n",
    "from calitp import *\n",
    "from calitp.tables import tbl\n",
    "from siuba import *\n",
    "\n",
    "# Formatting the notebook\n",
    "pd.options.display.max_columns = 100\n",
    "pd.set_option(\"display.max_rows\", None)\n",
    "pd.set_option(\"display.max_colwidth\", None)"
   ]
  },
  {
   "cell_type": "code",
   "execution_count": null,
   "id": "c1d6fb2f-e483-4405-92fb-1cd826fedc9a",
   "metadata": {},
   "outputs": [],
   "source": [
    "df = to_snakecase(\n",
    "    pd.read_excel(\n",
    "        \"gs://calitp-analytics-data/data-analyses/grants/Grant+Projects_7_30_2022.xlsx\",\n",
    "        sheet_name=\"Grant Projects\",\n",
    "    )\n",
    ")"
   ]
  },
  {
   "cell_type": "markdown",
   "id": "96070493-1a4b-4f3f-ada3-a65dbf98ceab",
   "metadata": {},
   "source": [
    "### Filter out what I want "
   ]
  },
  {
   "cell_type": "code",
   "execution_count": null,
   "id": "c767700f-1f17-4b72-b544-57b8aeb3c4b2",
   "metadata": {},
   "outputs": [],
   "source": [
    "# Grants wanted\n",
    "grants_wanted = [\n",
    "    \"Section 5311\",\n",
    "    \"5310 Exp\",\n",
    "    \"5310 Trad\",\n",
    "    \"5311(f) Cont\",\n",
    "    \"CMAQ (FTA 5311)\",\n",
    "    \"Section 5311(f)\",\n",
    "    \"5311(f) Round 2\",\n",
    "]"
   ]
  },
  {
   "cell_type": "code",
   "execution_count": null,
   "id": "bc528005-0ad5-4eb9-920a-7b18c3310370",
   "metadata": {},
   "outputs": [],
   "source": [
    "# Filter for grants\n",
    "df2 = df[df[\"funding_program\"].isin(grants_wanted)]"
   ]
  },
  {
   "cell_type": "code",
   "execution_count": null,
   "id": "fb149467-2693-494b-8a7c-a56648064dfd",
   "metadata": {},
   "outputs": [],
   "source": [
    "# Replace the different variations of 5311/5310 with broader names\n",
    "df2[\"funding_program_broad\"] = df2[\"funding_program\"].replace(\n",
    "    {\n",
    "        \"5310 Exp\": \"5310\",\n",
    "        \"5310 Trad\": \"5310\",\n",
    "        \"Section 5311\": \"5311\",\n",
    "        \"5311(f) Cont\": \"5311\",\n",
    "        \"CMAQ (FTA 5311)\": \"5311\",\n",
    "        \"Section 5311(f)\": \"5311\",\n",
    "        \"5311(f) Round 2\": \"5311\",\n",
    "    }\n",
    ")"
   ]
  },
  {
   "cell_type": "code",
   "execution_count": null,
   "id": "b0a8ab7f-d3a7-4d2e-859a-40a2ecc91a8e",
   "metadata": {},
   "outputs": [],
   "source": [
    "# Keep only certain columns\n",
    "wanted_columns = [\n",
    "    \"grant_fiscal_year\",\n",
    "    \"funding_program_broad\",\n",
    "    \"grant_number\",\n",
    "    \"project_year\",\n",
    "    \"organization_name\",\n",
    "    \"allocationamount\",\n",
    "]"
   ]
  },
  {
   "cell_type": "code",
   "execution_count": null,
   "id": "89b92403-85c4-4666-ba78-5e684a69d607",
   "metadata": {},
   "outputs": [],
   "source": [
    "# New subset dataframe\n",
    "df3 = df2[wanted_columns]"
   ]
  },
  {
   "cell_type": "code",
   "execution_count": null,
   "id": "df8a2e91-c571-4558-b1da-ca77ba27c1a2",
   "metadata": {
    "tags": []
   },
   "outputs": [],
   "source": [
    "# Only want data for last five years\n",
    "df4 = df3[df3[\"grant_fiscal_year\"] > 2017]"
   ]
  },
  {
   "cell_type": "code",
   "execution_count": null,
   "id": "1b38f801-37b5-4016-80bd-4dd13b4ef408",
   "metadata": {},
   "outputs": [],
   "source": [
    "# Get a list of the unique organizations\n",
    "original_orgs = set(df4.organization_name.unique().tolist())"
   ]
  },
  {
   "cell_type": "code",
   "execution_count": null,
   "id": "f96d4e4e-3181-46ae-852e-4826a026dd78",
   "metadata": {},
   "outputs": [],
   "source": [
    "len(original_orgs)"
   ]
  },
  {
   "cell_type": "code",
   "execution_count": null,
   "id": "e6b1d0b6-322e-4e0f-8abd-1e3c2e04a86b",
   "metadata": {},
   "outputs": [],
   "source": [
    "df4.shape"
   ]
  },
  {
   "cell_type": "code",
   "execution_count": null,
   "id": "e389743a-0a51-4261-b9e7-daa292402b14",
   "metadata": {},
   "outputs": [],
   "source": [
    "df4 = utils.organization_cleaning(df4, \"organization_name\")"
   ]
  },
  {
   "cell_type": "code",
   "execution_count": null,
   "id": "1d9ba485-7483-4e4d-a3d2-d2625a120dda",
   "metadata": {
    "scrolled": true,
    "tags": []
   },
   "outputs": [],
   "source": [
    "# Group by to summarize information.\n",
    "agg1 = (\n",
    "    df4.groupby(\n",
    "        [\n",
    "            \"organization_name\",\n",
    "            \"funding_program_broad\",\n",
    "            \"grant_fiscal_year\",\n",
    "        ]\n",
    "    )\n",
    "    .agg({\"allocationamount\": \"sum\"})\n",
    "    .reset_index()\n",
    ")"
   ]
  },
  {
   "cell_type": "code",
   "execution_count": null,
   "id": "6648849b-d9f6-41d1-bc3c-f42130a0b75b",
   "metadata": {},
   "outputs": [],
   "source": [
    "agg1.shape"
   ]
  },
  {
   "cell_type": "code",
   "execution_count": null,
   "id": "ca667934-fa2f-4764-8c6a-d6f15fe47f43",
   "metadata": {},
   "outputs": [],
   "source": [
    "agg1[\"organization_name\"].nunique()"
   ]
  },
  {
   "cell_type": "markdown",
   "id": "da6487a0-ebdc-43e0-b758-f83f44994a5e",
   "metadata": {
    "tags": []
   },
   "source": [
    "### Add the URL of each agency's website - Airtable"
   ]
  },
  {
   "cell_type": "code",
   "execution_count": null,
   "id": "a669cab4-b4f9-4e73-92f2-15f3eb80cb71",
   "metadata": {
    "scrolled": true,
    "tags": []
   },
   "outputs": [],
   "source": [
    "%%sql -o airtable_grants\n",
    "SELECT \n",
    "  CAST(itp_id AS INT) AS itp_id,\n",
    "  name,\n",
    "  website\n",
    "FROM cal-itp-data-infra.mart_transit_database.dim_organizations\n",
    "WHERE itp_id IS NOT NULL\n",
    "  AND itp_id > 0\n",
    "    OR website IS NOT NULL\n",
    "ORDER BY itp_id ASC"
   ]
  },
  {
   "cell_type": "code",
   "execution_count": null,
   "id": "98b12df8-86ac-40d0-94dd-ce880fc5efdc",
   "metadata": {},
   "outputs": [],
   "source": [
    "len(airtable_grants)"
   ]
  },
  {
   "cell_type": "code",
   "execution_count": null,
   "id": "20bc1150-88ab-4098-beb1-c6a3261dd88a",
   "metadata": {},
   "outputs": [],
   "source": [
    "# Some orgs that are different share the same Cal ITP ID\n",
    "# EX: RIverside University Health System and Redwood Coast Seniors\n",
    "airtable_grants[\"itp_id\"].nunique()"
   ]
  },
  {
   "cell_type": "code",
   "execution_count": null,
   "id": "200981f8-4897-405f-8a1d-f9fc91ab68fc",
   "metadata": {},
   "outputs": [],
   "source": [
    "airtable_grants2 = airtable_grants.drop_duplicates(subset=[\"itp_id\"])"
   ]
  },
  {
   "cell_type": "code",
   "execution_count": null,
   "id": "68f3f437-0ce9-4ebf-8e72-ebf9e85e32e0",
   "metadata": {},
   "outputs": [],
   "source": [
    "len(airtable_grants2)"
   ]
  },
  {
   "cell_type": "code",
   "execution_count": null,
   "id": "c6642e7a-72f4-4bdc-8ca9-260f636af4d6",
   "metadata": {},
   "outputs": [],
   "source": [
    "airtable_grants.info()"
   ]
  },
  {
   "cell_type": "code",
   "execution_count": null,
   "id": "416d6e1a-0c18-4279-a46b-86c700cd0b0c",
   "metadata": {},
   "outputs": [],
   "source": [
    "m1 = pd.merge(\n",
    "    agg1,\n",
    "    airtable_grants,\n",
    "    how=\"outer\",\n",
    "    left_on=[\"organization_name\"],\n",
    "    right_on=[\"name\"],\n",
    "    indicator=True,\n",
    "    validate=\"m:1\",\n",
    ")"
   ]
  },
  {
   "cell_type": "code",
   "execution_count": null,
   "id": "468ee85d-8c08-4447-b0fb-6f3e96022986",
   "metadata": {},
   "outputs": [],
   "source": [
    "m1[\"_merge\"].value_counts()"
   ]
  },
  {
   "cell_type": "code",
   "execution_count": null,
   "id": "48c5573a-094a-4be6-8289-66662e506827",
   "metadata": {},
   "outputs": [],
   "source": [
    "m1 = m1.drop(columns=[\"_merge\"])"
   ]
  },
  {
   "cell_type": "code",
   "execution_count": null,
   "id": "ef48c707-8c44-4865-920c-5a36e828fb18",
   "metadata": {},
   "outputs": [],
   "source": [
    "# Change the Cal ITP ID to be integer to match m1's Cal ITP\n",
    "m1[\"itp_id\"] = m1[\"itp_id\"].fillna(0).astype(\"int64\")"
   ]
  },
  {
   "cell_type": "code",
   "execution_count": null,
   "id": "a3af8a46-18b7-45df-8ef0-4b25bd95f498",
   "metadata": {},
   "outputs": [],
   "source": [
    "len(m1)"
   ]
  },
  {
   "cell_type": "code",
   "execution_count": null,
   "id": "2d69d131-bff3-40bd-bc0c-a3ff1c2e0e43",
   "metadata": {
    "tags": []
   },
   "outputs": [],
   "source": [
    "m1[\"website\"].nunique()"
   ]
  },
  {
   "cell_type": "markdown",
   "id": "eb2ba31b-8fe4-4c3e-9cb0-092cef8b2331",
   "metadata": {},
   "source": [
    "### Add URL with GTFS Schedule"
   ]
  },
  {
   "cell_type": "code",
   "execution_count": null,
   "id": "00ca41d9-ade2-41f6-8c46-f124c7b61476",
   "metadata": {},
   "outputs": [],
   "source": [
    "gtfs_schedule = tbl.gtfs_schedule.agency() >> collect() >> distinct()"
   ]
  },
  {
   "cell_type": "code",
   "execution_count": null,
   "id": "087769b8-8a44-4d2d-bd93-ffe18fb27ee2",
   "metadata": {},
   "outputs": [],
   "source": [
    "# Subset\n",
    "gtfs_schedule2 = gtfs_schedule[\n",
    "    [\"calitp_itp_id\", \"agency_id\", \"agency_name\", \"agency_url\"]\n",
    "]"
   ]
  },
  {
   "cell_type": "code",
   "execution_count": null,
   "id": "c952490e-50e9-4a31-b0d3-8a74cd391a2e",
   "metadata": {},
   "outputs": [],
   "source": [
    "# There are duplicated Cal ITP IDs, delete duplicates\n",
    "gtfs_schedule3 = gtfs_schedule2.drop_duplicates(subset=[\"calitp_itp_id\"], keep=\"first\")"
   ]
  },
  {
   "cell_type": "code",
   "execution_count": null,
   "id": "c14c3161-cf29-4e3a-a091-34a5c3e5661a",
   "metadata": {},
   "outputs": [],
   "source": [
    "# Check data types\n",
    "gtfs_schedule3.dtypes, m1.dtypes"
   ]
  },
  {
   "cell_type": "code",
   "execution_count": null,
   "id": "c0a1022f-3336-4601-bdb9-49121ba5195c",
   "metadata": {},
   "outputs": [],
   "source": [
    "m2 = pd.merge(\n",
    "    m1,\n",
    "    gtfs_schedule3,\n",
    "    how=\"left\",\n",
    "    left_on=[\"itp_id\"],\n",
    "    right_on=[\"calitp_itp_id\"],\n",
    "    indicator=True,\n",
    "    validate=\"m:1\",\n",
    ")"
   ]
  },
  {
   "cell_type": "code",
   "execution_count": null,
   "id": "45f6571e-07c1-4c09-ad68-ca5775493e83",
   "metadata": {},
   "outputs": [],
   "source": [
    "len(m2)"
   ]
  },
  {
   "cell_type": "markdown",
   "id": "49078b00-4819-4fa2-b790-67d02606dc75",
   "metadata": {},
   "source": [
    "### Clean up "
   ]
  },
  {
   "cell_type": "code",
   "execution_count": null,
   "id": "18a34cda-d94b-4aef-875c-554e582ec347",
   "metadata": {},
   "outputs": [],
   "source": [
    "# Create a new col to populate websites from the two data sets\n",
    "m2[\"website_use\"] = m2[\"website\"]"
   ]
  },
  {
   "cell_type": "code",
   "execution_count": null,
   "id": "b13f7536-1b0f-457a-88d9-79007d37a1e2",
   "metadata": {},
   "outputs": [],
   "source": [
    "m2[\"website_use\"] = m2[\"website_use\"].fillna(m2[\"agency_url\"])"
   ]
  },
  {
   "cell_type": "code",
   "execution_count": null,
   "id": "3ce4f57e-b44d-49e5-a20d-265a33bfa60a",
   "metadata": {},
   "outputs": [],
   "source": [
    "m2_cols_to_keep = [\n",
    "    \"organization_name\",\n",
    "    \"funding_program_broad\",\n",
    "    \"grant_fiscal_year\",\n",
    "    \"allocationamount\",\n",
    "    \"website_use\",\n",
    "]"
   ]
  },
  {
   "cell_type": "code",
   "execution_count": null,
   "id": "14b59a20-178b-4b1b-a76e-06911dd6137a",
   "metadata": {},
   "outputs": [],
   "source": [
    "m3 = m2[m2_cols_to_keep]"
   ]
  },
  {
   "cell_type": "code",
   "execution_count": null,
   "id": "2d11ccc8-a5d9-4a49-bb0c-1d9e5d6c7c3e",
   "metadata": {},
   "outputs": [],
   "source": [
    "# Did an outer join for airtable + black cat.\n",
    "# Delete all the records that are only found in airtable\n",
    "m4 = m3.dropna(subset=[\"organization_name\", \"allocationamount\"])"
   ]
  },
  {
   "cell_type": "code",
   "execution_count": null,
   "id": "ec45ca1d-c649-4e8a-a135-352d56e40a18",
   "metadata": {
    "tags": []
   },
   "outputs": [],
   "source": [
    "m4[\"website_use\"] = m4[\"website_use\"].fillna(\"N/A\")"
   ]
  },
  {
   "cell_type": "markdown",
   "id": "e1c6e863-c653-44c2-b25f-8a6068fe0dd1",
   "metadata": {},
   "source": [
    "### Aggregate Again"
   ]
  },
  {
   "cell_type": "code",
   "execution_count": null,
   "id": "249d421f-4a94-4c2b-a1ff-c9519c23a7cb",
   "metadata": {},
   "outputs": [],
   "source": [
    "m4 = m4.rename(\n",
    "    columns={\n",
    "        \"organization_name\": \"Organization\",\n",
    "        \"website_use\": \"Website\",\n",
    "        \"funding_program_broad\": \"Grant\",\n",
    "        \"allocationamount\": \"Allocation\",\n",
    "        \"grant_fiscal_year\": \"Grant Fiscal Year\",\n",
    "    }\n",
    ")"
   ]
  },
  {
   "cell_type": "code",
   "execution_count": null,
   "id": "5ef36150-5445-4988-b0f8-665961ec9438",
   "metadata": {},
   "outputs": [],
   "source": [
    "# Group by to summarize information.\n",
    "agg2 = m4.groupby(\n",
    "    [\n",
    "        \"Organization\",\n",
    "        \"Website\",\n",
    "        \"Grant\",\n",
    "        \"Grant Fiscal Year\",\n",
    "    ]\n",
    ").agg({\"Allocation\": \"sum\"})"
   ]
  },
  {
   "cell_type": "code",
   "execution_count": null,
   "id": "9c7a564a-6547-46bc-a0c1-2b108b79378b",
   "metadata": {
    "tags": []
   },
   "outputs": [],
   "source": [
    "agg2.sample(4)"
   ]
  },
  {
   "cell_type": "code",
   "execution_count": null,
   "id": "37f8eb2d-1822-4626-aff8-89fa8d38bc75",
   "metadata": {},
   "outputs": [],
   "source": [
    "\"\"\"\n",
    "with pd.ExcelWriter(\n",
    "    \"gs://calitp-analytics-data/data-analyses/5311-5310/5311_5310_hubspot.xlsx\"\n",
    ") as writer:\n",
    "    agg2.to_excel(writer, sheet_name=\"5311_5310_Applicants\", index=True)\n",
    "\"\"\""
   ]
  },
  {
   "cell_type": "markdown",
   "id": "48a13ab7-2dfd-4682-aee4-64949a462a9e",
   "metadata": {
    "tags": []
   },
   "source": [
    "## Airtable TEST"
   ]
  },
  {
   "cell_type": "code",
   "execution_count": null,
   "id": "414d2b2b-200a-4c60-8407-a4f186e1dd5e",
   "metadata": {},
   "outputs": [],
   "source": [
    "# Grab the funds I want into a list\n",
    "airtable_wanted = [\n",
    "    \"Section 5311\",\n",
    "    \"5310 Exp\",\n",
    "    \"5310 Trad\",\n",
    "    \"5311(f) Cont\",\n",
    "    \"5339 (National)\",\n",
    "    \"5339 (State)\",\n",
    "    \"CMAQ (FTA 5311)\",\n",
    "    \"Section 5311(f)\",\n",
    "    \"5311(f) Round 2\",\n",
    "]"
   ]
  },
  {
   "cell_type": "code",
   "execution_count": null,
   "id": "aa940bf2-bef2-4095-b754-05c08b9c790a",
   "metadata": {
    "scrolled": true,
    "tags": []
   },
   "outputs": [],
   "source": [
    "# Filter out for the funds I want\n",
    "airtable = df[df[\"funding_program\"].isin(airtable_wanted)]"
   ]
  },
  {
   "cell_type": "code",
   "execution_count": null,
   "id": "eb144584-ff9a-44fa-a19d-46d3d9abad2f",
   "metadata": {},
   "outputs": [],
   "source": [
    "# Check that all the grants are here \n",
    "airtable[\"funding_program\"].value_counts()"
   ]
  },
  {
   "cell_type": "code",
   "execution_count": null,
   "id": "099063ca-fb9c-4501-9281-5ee5b11a1247",
   "metadata": {},
   "outputs": [],
   "source": [
    "# Filter out for projects that are later than 2018\n",
    "airtable = airtable[airtable[\"project_year\"] > 2018]"
   ]
  },
  {
   "cell_type": "code",
   "execution_count": null,
   "id": "d8085803-d1fe-42be-91a1-ab58a131ee5e",
   "metadata": {},
   "outputs": [],
   "source": [
    "# Subset df into a smaller one: since we only care if an organization appeared in \n",
    "# a grant's dataframe at any point after 2018, we don't need the year/etc\n",
    "airtable = airtable[[\"funding_program\", \"organization_name\"]]"
   ]
  },
  {
   "cell_type": "code",
   "execution_count": null,
   "id": "0afb43f8-dd5d-45a5-a05d-b97b8049a33f",
   "metadata": {},
   "outputs": [],
   "source": [
    "airtable.sample(3)"
   ]
  },
  {
   "cell_type": "code",
   "execution_count": null,
   "id": "bc78156c-765b-4c0f-967d-18783cc06e06",
   "metadata": {},
   "outputs": [],
   "source": [
    "# Subset three dfs with for a specific grant\n",
    "df_5311 = airtable[(airtable.funding_program.str.contains(\"5311\", case=False))]"
   ]
  },
  {
   "cell_type": "code",
   "execution_count": null,
   "id": "d5da238c-0760-482d-a5a3-251c313d336f",
   "metadata": {},
   "outputs": [],
   "source": [
    "df_5310 = airtable[(airtable.funding_program.str.contains(\"5310\", case=False))]"
   ]
  },
  {
   "cell_type": "code",
   "execution_count": null,
   "id": "6fc675ef-f240-4336-b36d-3f42bbfe5447",
   "metadata": {},
   "outputs": [],
   "source": [
    "df_5339 = airtable[(airtable.funding_program.str.contains(\"5339\", case=False))]"
   ]
  },
  {
   "cell_type": "code",
   "execution_count": null,
   "id": "382cc2c7-32e1-4fb3-97f5-1f5d6547d0ed",
   "metadata": {},
   "outputs": [],
   "source": [
    "# Using a for loop,we can print out how many rows correspond with each \"flavor\" of the grant program\n",
    "for i in [df_5311, df_5310, df_5339]:\n",
    "    print(i[\"funding_program\"].value_counts())\n",
    "    print(len(i)) "
   ]
  },
  {
   "cell_type": "code",
   "execution_count": null,
   "id": "54cf143a-14ef-4991-9f1c-0182f7981e7f",
   "metadata": {},
   "outputs": [],
   "source": [
    "# First merge: merging 5311 and 5310 \n",
    "m_5311_5310 = pd.merge(\n",
    "    df_5311,\n",
    "    df_5310,\n",
    "    how=\"outer\",\n",
    "    on=[\"organization_name\", \"funding_program\"],\n",
    "    indicator=True,\n",
    ")"
   ]
  },
  {
   "cell_type": "code",
   "execution_count": null,
   "id": "558349c1-e490-4276-ad67-7e4a6a1f04f1",
   "metadata": {},
   "outputs": [],
   "source": [
    "# Check out the results \n",
    "m_5311_5310[\"_merge\"].value_counts()"
   ]
  },
  {
   "cell_type": "code",
   "execution_count": null,
   "id": "199a7557-0df5-469d-8cb4-14ce122f1848",
   "metadata": {},
   "outputs": [],
   "source": [
    "m_5311_5310.sample(10)"
   ]
  },
  {
   "cell_type": "code",
   "execution_count": null,
   "id": "72fb9442-13c6-4d57-84a7-a6594ca64930",
   "metadata": {},
   "outputs": [],
   "source": [
    "# Drop the duplicates of organization names. \n",
    "len(m_5311_5310), len(m_5311_5310.drop_duplicates(subset=[\"organization_name\"]))"
   ]
  },
  {
   "cell_type": "code",
   "execution_count": null,
   "id": "454f56ba-309a-47c8-89bd-2b45992d85b3",
   "metadata": {},
   "outputs": [],
   "source": [
    "# Actually drop the duplicates of agency name, since the same agencies appear multiple times across the years\n",
    "# Dropping a subset allows you to choose which column(s) to drop the duplicates of\n",
    "# When you don't specify, this looks across all the columns of a df\n",
    "m2_5311_5310 = m_5311_5310.drop_duplicates(subset=[\"organization_name\"])"
   ]
  },
  {
   "cell_type": "code",
   "execution_count": null,
   "id": "41b6b19c-a6e3-497a-8233-d390e26b97db",
   "metadata": {},
   "outputs": [],
   "source": [
    "# Rename the merge column to something that is a little clearer \n",
    "m2_5311_5310 = m2_5311_5310.rename(columns = {'_merge': '5311_5310_overlap'}) "
   ]
  },
  {
   "cell_type": "code",
   "execution_count": null,
   "id": "2ddb5c09-0903-4d0f-a8f4-3b9c1ce29655",
   "metadata": {},
   "outputs": [],
   "source": [
    "# Replace right only/left only with clearer definitions \n",
    "m2_5311_5310[\"5311_5310_overlap\"] = m2_5311_5310[\"5311_5310_overlap\"].replace(\n",
    "    {\"left_only\": \"5311 only\", \"right_only\": \"5310 only\", \"both\": \"Both 5311 and 5310\"}\n",
    ")"
   ]
  },
  {
   "cell_type": "code",
   "execution_count": null,
   "id": "9a9e6173-abb1-41ee-af0d-2e178195546b",
   "metadata": {
    "tags": []
   },
   "outputs": [],
   "source": [
    "# Sample a few rows \n",
    "m2_5311_5310.sample(3)"
   ]
  },
  {
   "cell_type": "code",
   "execution_count": null,
   "id": "ca87d37a-ea77-4e96-b88b-2005af49a396",
   "metadata": {},
   "outputs": [],
   "source": [
    "# Now merge in 5339 with the merged 5311 & 5310 stuff\n",
    "m3_all = pd.merge(\n",
    "    m2_5311_5310,\n",
    "    df_5339,\n",
    "    how=\"outer\",\n",
    "    on = [\"organization_name\"],\n",
    "    indicator=True,\n",
    ")"
   ]
  },
  {
   "cell_type": "code",
   "execution_count": null,
   "id": "be6fcbc4-f8a8-41c9-bf76-8c6c708f04b4",
   "metadata": {},
   "outputs": [],
   "source": [
    "# Again drop the duplicates of organizations\n",
    "m4 = m3_all.drop_duplicates(subset=[\"organization_name\"])"
   ]
  },
  {
   "cell_type": "code",
   "execution_count": null,
   "id": "a1b5ac99-d7d9-4bf9-8bbe-82847887a59a",
   "metadata": {},
   "outputs": [],
   "source": [
    "m4[\"_merge\"].value_counts()"
   ]
  },
  {
   "cell_type": "code",
   "execution_count": null,
   "id": "df2c2ccc-d766-4d7e-b0d1-1338706b93be",
   "metadata": {
    "scrolled": true,
    "tags": []
   },
   "outputs": [],
   "source": [
    "# Look at organizations A-Z\n",
    "m4.sort_values('_merge')"
   ]
  },
  {
   "cell_type": "code",
   "execution_count": null,
   "id": "0b9bde0e-aab2-49d3-bdfb-ce359c779293",
   "metadata": {},
   "outputs": [],
   "source": [
    "# Use a function to replace left_only and both \n",
    "# https://github.com/cal-itp/data-analyses/blob/main/grant_misc/A2_dla.ipynb\n",
    "# df is the argument of the function\n",
    "def recategorize(df):   \n",
    "    if (df['_merge']=='right_only') and (df['BC_TIRCP_merge'] == 'Black Cat Only'):\n",
    "        return 'BlackCat Only'\n",
    "    elif (df['_merge']=='right_only') and (df['BC_TIRCP_merge'] == 'TIRCP_Only'):\n",
    "        return 'TIRCP_Only'\n",
    "    elif (df['_merge']=='right_only') and (df['BC_TIRCP_merge'] == 'Both in TIRCP and BlackCat'):\n",
    "        return 'TIRCP and BlackCat'\n",
    "    elif (df['_merge']=='left_only'):\n",
    "        return 'DLA Only'\n",
    "    elif (df['_merge']=='both') and (df['BC_TIRCP_merge'] == 'TIRCP Only'):\n",
    "        return 'TIRCP and DLA'\n",
    "    elif (df['_merge']=='both') and (df['BC_TIRCP_merge'] == 'Black Cat Only'):\n",
    "        return 'BlackCat and DLA'\n",
    "    else: \n",
    "        return \"TIRCP, BlackCat and DLA\"\n",
    "    "
   ]
  },
  {
   "cell_type": "code",
   "execution_count": null,
   "id": "6b9b3419-4ffc-44ef-a61b-bc0f25da6ca6",
   "metadata": {},
   "outputs": [],
   "source": [
    "# Apply a function along an axis of the DataFrame. \n",
    "# Axis = 1 means across each row of the df \n",
    "# Axis = 0 means across each column of the df \n",
    "m4['_merge'] = m4.apply(recategorize, axis = 1)"
   ]
  },
  {
   "cell_type": "code",
   "execution_count": null,
   "id": "f08d6832-2285-442d-8762-672e0bdf94c7",
   "metadata": {},
   "outputs": [],
   "source": [
    "# Drop any columns you don't want \n",
    "m4 = m4.drop(columns = [all the columns you don't want]) "
   ]
  }
 ],
 "metadata": {
  "kernelspec": {
   "display_name": "Python 3 (ipykernel)",
   "language": "python",
   "name": "python3"
  },
  "language_info": {
   "codemirror_mode": {
    "name": "ipython",
    "version": 3
   },
   "file_extension": ".py",
   "mimetype": "text/x-python",
   "name": "python",
   "nbconvert_exporter": "python",
   "pygments_lexer": "ipython3",
   "version": "3.10.5"
  }
 },
 "nbformat": 4,
 "nbformat_minor": 5
}
