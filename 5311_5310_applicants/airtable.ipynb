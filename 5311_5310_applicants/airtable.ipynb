{
 "cells": [
  {
   "cell_type": "markdown",
   "id": "546ac1d1-a11f-47d6-b8b3-5e74cb2f5ab1",
   "metadata": {},
   "source": [
    "# 5311 and 5310 Applicants\n",
    "* [Research Request](https://github.com/cal-itp/data-analyses/issues/333)"
   ]
  },
  {
   "cell_type": "code",
   "execution_count": null,
   "id": "70753eca-2b0c-4114-80e8-a70bccc8ee6f",
   "metadata": {},
   "outputs": [],
   "source": [
    "# Packages to import\n",
    "# Pandas is the full name of the package but call it pd for short.\n",
    "import pandas as pd\n",
    "from calitp import *\n",
    "\n",
    "# Formatting the notebook\n",
    "# The max columns to display will be 100\n",
    "pd.options.display.max_columns = 100\n",
    "\n",
    "# There will allow you to print all the rows in your data\n",
    "pd.set_option(\"display.max_rows\", None)\n",
    "\n",
    "# This will prevent columns from being truncated\n",
    "pd.set_option(\"display.max_colwidth\", None)"
   ]
  },
  {
   "cell_type": "markdown",
   "id": "c3990900-449b-4e01-8991-5b53f1c6aa78",
   "metadata": {},
   "source": [
    "## Load the Excel Sheet\n",
    "* Can read the original Excel workbook by the specific sheet you want. \n",
    "* Save your sheet as a Pandas dataframe - it can be called anything, but usually it's <i>something_df</i>. \n",
    "    * Dataframe = basically jsut a table of data. \n",
    "    * If you want to open multiple sheets, you'd assign them to different objects and different names. \n",
    "* \"to_snakecase\" changes the column names to all lowercases and replaces any spaces with underescores."
   ]
  },
  {
   "cell_type": "code",
   "execution_count": null,
   "id": "c1d6fb2f-e483-4405-92fb-1cd826fedc9a",
   "metadata": {},
   "outputs": [],
   "source": [
    "df = to_snakecase(\n",
    "   pd.read_excel(\"gs://calitp-analytics-data/data-analyses/grants/Grant+Projects_7_30_2022.xlsx\", sheet_name=\"Grant Projects\")\n",
    " )\n",
    "\n",
    "# df = pd.read_excel(\"./Grant+Projects_7_30_2022.xlsx\")"
   ]
  },
  {
   "cell_type": "code",
   "execution_count": null,
   "id": "3ad206f7-5652-43a6-b779-31b7373aada9",
   "metadata": {},
   "outputs": [],
   "source": [
    "# Save your dataframe to the folder you are in\n",
    "# df.to_excel(\"./Grant+Projects_7_30_2022.xlsx\", index=False)"
   ]
  },
  {
   "cell_type": "markdown",
   "id": "d0b83096-fe5c-4d19-9412-2c4f91370192",
   "metadata": {},
   "source": [
    "## Explore the data \n",
    "* Let's check out our data by answering questions such as\n",
    "    * How many columns and rows does it have? \n",
    "    * How many missing values are there? \n",
    "    * What are the mean/median? \n",
    "* Any time you want to do something to your data, chain the function after the object.\n",
    "    * In Excel, you'd do SUM(column you want)\n",
    "    * In Pandas, you'd do df['column you want'].sum()\n",
    "* [Resource](https://pandas.pydata.org/docs/user_guide/basics.html)    "
   ]
  },
  {
   "cell_type": "code",
   "execution_count": null,
   "id": "0cb34614-8bb8-4076-a511-2bae65ac4842",
   "metadata": {},
   "outputs": [],
   "source": [
    "# Check out the first five rows\n",
    "# Any line with a pound symbol in front is a comment and won't be rendered\n",
    "df.sample(40)"
   ]
  },
  {
   "cell_type": "code",
   "execution_count": null,
   "id": "038eac2d-4e92-4438-b8cf-d7f7a7e6a2be",
   "metadata": {
    "scrolled": true,
    "tags": []
   },
   "outputs": [],
   "source": [
    "# Check out the last five rows\n",
    "df.tail()"
   ]
  },
  {
   "cell_type": "code",
   "execution_count": null,
   "id": "d4209ccb-4557-4e65-b90d-222ebb615fbb",
   "metadata": {},
   "outputs": [],
   "source": [
    "# Check out how many rows and columns, # of null values in each column, and the data type of each column\n",
    "df.info()"
   ]
  },
  {
   "cell_type": "code",
   "execution_count": null,
   "id": "e68ec0bc-ef4c-4df9-bf3b-5c5b2449ced6",
   "metadata": {},
   "outputs": [],
   "source": [
    "# The data goes spans between 2011 to 2022. Check out how many projects were funded by year.\n",
    "# df[\"column 1\"].value_counts()"
   ]
  },
  {
   "cell_type": "code",
   "execution_count": null,
   "id": "7aad591f-6266-4519-9f90-cec0a0e1da89",
   "metadata": {},
   "outputs": [],
   "source": [
    "# Not sure what a function does: use help\n",
    "help(sum)"
   ]
  },
  {
   "cell_type": "code",
   "execution_count": null,
   "id": "25a682b9-7b50-45ce-bcbe-61b745e5e9c3",
   "metadata": {},
   "outputs": [],
   "source": [
    "# Get some basic stats\n",
    "df.describe()"
   ]
  },
  {
   "cell_type": "markdown",
   "id": "7dee0166-6091-4393-a287-b7f453439a67",
   "metadata": {},
   "source": [
    "## Clean up\n",
    "* [Tutorial](https://pandas.pydata.org/docs/getting_started/intro_tutorials/03_subset_data.html)\n",
    "\n",
    "### Data type is important. \n",
    "* If you have a column of monetary values presented as $139, 293.92 and you want to find the mean, this won't work. \n",
    "* This column is considered an \"object\" column due to the dollar sign and comma - same way as if you typed \"caltrans\".\n",
    "    * You'll have make sure it's an integer.\n",
    "* Based on df.info() clean up other columns that aren't the right data type"
   ]
  },
  {
   "cell_type": "code",
   "execution_count": null,
   "id": "693e0fac-963c-4d29-ac29-3c30769722ba",
   "metadata": {},
   "outputs": [],
   "source": [
    "\"\"\"\n",
    "If there are columns that SHOULD be an integer but isn't: input them into the list\n",
    "after this for loop. This strips empty $ and commas in the columns you list, \n",
    "then changes them to the data type of int.\n",
    "\n",
    "for c in [\"column_one\", \"column_two\", \"column_three\"]:\n",
    "    df[c] = df[c].str.replace(\"$\", \"\").str.replace(\",\", \"\").astype(int)\n",
    "\"\"\""
   ]
  },
  {
   "cell_type": "markdown",
   "id": "6a6326c7-638c-4651-9b5c-1aa4530482a0",
   "metadata": {},
   "source": [
    "### Beware of duplicate values\n",
    "* Grants data might be manually entered by multiple people. As such, values can be inconsistent. \n",
    "* BART, Bay Area Rapid Transit, and Bay Area Rapid Transit (BART) are all the same agency. \n",
    "* However, if you are counting the number of unique agencies, these would be counted as 3 different agencies, which is inaccurate.\n"
   ]
  },
  {
   "cell_type": "code",
   "execution_count": null,
   "id": "c919a9fa-98c7-4437-95a8-0086cc7db447",
   "metadata": {},
   "outputs": [],
   "source": [
    "# Check out your agencies and see if there are any duplicates by\n",
    "# sorting your column of agencies from A-Z and seeing only unique ones\n",
    "# df[\"column\"].sort_values().unique()"
   ]
  },
  {
   "cell_type": "code",
   "execution_count": null,
   "id": "4e3ff722-b0e8-419e-9d64-d1f0058a18f2",
   "metadata": {},
   "outputs": [],
   "source": [
    "# Check out total nunique values\n",
    "# df[\"column\"].nunique()"
   ]
  },
  {
   "cell_type": "code",
   "execution_count": null,
   "id": "a00b5798-3958-4830-af13-aed51ef9e6a6",
   "metadata": {},
   "outputs": [],
   "source": [
    "\"\"\"\n",
    "If there are duplicate values, you can replace them with an existing one with a dictionary\n",
    "If this cell is irrelevant,  go up to the top where it says \"code\" and change it to \"markdown\". \n",
    "You can also move the three quotation marks at the bottom of this cell to comment out the code.\n",
    "If all the agencies are only listed once.\n",
    "\n",
    "df[\"column\"] = df[\"column\"].replace(\n",
    "    {\"old value 1\": \"correct value 1\", \"old value 2\": \"correct value 2\"}\n",
    ")\n",
    "\n",
    "\"\"\""
   ]
  },
  {
   "cell_type": "markdown",
   "id": "cf99e5cf-cc3f-4dfe-88bc-a15a43af4744",
   "metadata": {},
   "source": [
    "## Filter what you want\n",
    "* You don't necessarily want all the years, all the programs, etc. \n",
    "* Filter out what you are interested in.\n",
    "\n",
    "### Grants you want"
   ]
  },
  {
   "cell_type": "code",
   "execution_count": null,
   "id": "53102841-09ba-4f81-a3bf-abcb86ede07f",
   "metadata": {},
   "outputs": [],
   "source": [
    "\"\"\"\n",
    "Create a list that contains the grants you are interested in. \n",
    "A list is great because you can go in and delete/add items. \n",
    "Line below makes it easy to grab the values.\n",
    "\"\"\"\n",
    "df[\"funding_program\"].unique()"
   ]
  },
  {
   "cell_type": "code",
   "execution_count": null,
   "id": "c767700f-1f17-4b72-b544-57b8aeb3c4b2",
   "metadata": {},
   "outputs": [],
   "source": [
    "# Paste whatever values you want between the brckets.\n",
    "# The values need to be in quotes.\n",
    "grants_wanted = [\n",
    "    \"Section 5311\",\n",
    "    \"5310 Exp\",\n",
    "    \"5310 Trad\",\n",
    "    \"5311(f) Cont\",\n",
    "    \"5339 (National)\",\n",
    "    \"5339 (State)\",\n",
    "    \"CMAQ (FTA 5311)\",\n",
    "    \"Section 5311(f)\",\n",
    "    \"5311(f) Round 2\",\n",
    "]"
   ]
  },
  {
   "cell_type": "code",
   "execution_count": null,
   "id": "bc528005-0ad5-4eb9-920a-7b18c3310370",
   "metadata": {},
   "outputs": [],
   "source": [
    "\"\"\"\n",
    "Keep only the grants in my list and create a NEW variable.\n",
    "It's best to create new objects when you make changes, so you can always reference\n",
    "the original object. \n",
    "\"\"\"\n",
    "df2 = df[df[\"funding_program\"].isin(grants_wanted)]"
   ]
  },
  {
   "cell_type": "markdown",
   "id": "339b7dbd-2e3f-4305-bd56-403ed5768a63",
   "metadata": {},
   "source": [
    "### Columns you want\n",
    "* Drop irrelvant columns "
   ]
  },
  {
   "cell_type": "code",
   "execution_count": null,
   "id": "b4645ed6-83be-4021-9876-6b815e5f1524",
   "metadata": {},
   "outputs": [],
   "source": [
    "df2[\"funding_program\"].value_counts()"
   ]
  },
  {
   "cell_type": "code",
   "execution_count": null,
   "id": "fd3c2e5c-419b-4f52-959d-ca651a0029cf",
   "metadata": {},
   "outputs": [],
   "source": [
    "# List out all your columns\n",
    "df2.columns"
   ]
  },
  {
   "cell_type": "code",
   "execution_count": null,
   "id": "dece096f-abb5-466f-99e3-128ad26f00c1",
   "metadata": {},
   "outputs": [],
   "source": [
    "df2.head()"
   ]
  },
  {
   "cell_type": "code",
   "execution_count": null,
   "id": "b0a8ab7f-d3a7-4d2e-859a-40a2ecc91a8e",
   "metadata": {},
   "outputs": [],
   "source": [
    "# Copy and paste the irrelevant ones into this list below\n",
    "unwanted_columns = [\n",
    "    \"grant_number\",\n",
    "    \"upin\",\n",
    "    \"description\",\n",
    "    \"ali\",\n",
    "    \"contract_number\",\n",
    "    \"allocationamount\",\n",
    "    \"encumbered_amount\",\n",
    "    \"expendedamount\",\n",
    "    \"activebalance\",\n",
    "    \"closedoutbalance\",\n",
    "    \"project_closed_by\",\n",
    "    \"project_closed_date\",\n",
    "    \"project_closed_time\",\n",
    "]"
   ]
  },
  {
   "cell_type": "code",
   "execution_count": null,
   "id": "89b92403-85c4-4666-ba78-5e684a69d607",
   "metadata": {},
   "outputs": [],
   "source": [
    "# Drop them - assign to a new dataframe if you wish\n",
    "df2 = df2.drop(columns=unwanted_columns)"
   ]
  },
  {
   "cell_type": "code",
   "execution_count": null,
   "id": "45f499ef-48ac-4bc5-97a5-2f8fa3470931",
   "metadata": {},
   "outputs": [],
   "source": [
    "# Check out your hard work with 5 random rows. Is this what you want?\n",
    "df2.sample(5)"
   ]
  },
  {
   "cell_type": "code",
   "execution_count": null,
   "id": "a1052396-fc60-4619-bb1f-46d2c0634ef1",
   "metadata": {},
   "outputs": [],
   "source": [
    "\"\"\"\n",
    "Filter out for years. Check the data type of the column you are filtering on. \n",
    "Perhaps years will need quotes because it's an object or maybe it's an integer, so \n",
    "no quotes are necessary.\n",
    "\"\"\"\n",
    "df3 = df2[df2[\"project_year\"] > 2018]"
   ]
  },
  {
   "cell_type": "code",
   "execution_count": null,
   "id": "d4e5ef04-8c87-4182-ac78-3315d3235219",
   "metadata": {},
   "outputs": [],
   "source": [
    "\"\"\"\n",
    "Filter out for only 5311. \n",
    "This ignores the case, so 'ac transit' and 'AC TRANSIT' will show up.\n",
    "\"\"\"\n",
    "df_5311 = df3[(df3.funding_program.str.contains(\"5311\", case=False))]"
   ]
  },
  {
   "cell_type": "code",
   "execution_count": null,
   "id": "4424028f-3f8e-474d-a575-26530b499617",
   "metadata": {},
   "outputs": [],
   "source": [
    "df_5311[\"funding_program\"].value_counts()"
   ]
  },
  {
   "cell_type": "code",
   "execution_count": null,
   "id": "7a3b9cdf-a637-4678-8171-2da05f8aae41",
   "metadata": {},
   "outputs": [],
   "source": [
    "# Check out the length, aka # of rows after filtering\n",
    "len(df_5311)"
   ]
  },
  {
   "cell_type": "code",
   "execution_count": null,
   "id": "cebdffbc-6d37-4241-9159-1056835dda52",
   "metadata": {},
   "outputs": [],
   "source": [
    "# Repeat same steps for 5310, make sure to cast this into a different dataframe"
   ]
  },
  {
   "cell_type": "code",
   "execution_count": null,
   "id": "d479d9f5-5c15-4eaa-8291-657635d5929b",
   "metadata": {},
   "outputs": [],
   "source": [
    "df_5310 = df3[(df3.funding_program.str.contains(\"5310\", case=False))]"
   ]
  },
  {
   "cell_type": "code",
   "execution_count": null,
   "id": "fa568b0c-a9e1-4c59-a817-91a4ba467e65",
   "metadata": {},
   "outputs": [],
   "source": [
    "df_5310[\"funding_program\"].value_counts()"
   ]
  },
  {
   "cell_type": "code",
   "execution_count": null,
   "id": "ab7124c9-d661-4c8a-975c-8fa33c5b8179",
   "metadata": {},
   "outputs": [],
   "source": [
    "df_5339 = df3[(df3.funding_program.str.contains(\"5339\", case=False))]"
   ]
  },
  {
   "cell_type": "code",
   "execution_count": null,
   "id": "7ec8de6c-ad5a-45f2-a9bf-7db03ea3f1c9",
   "metadata": {},
   "outputs": [],
   "source": [
    "df_5339[\"funding_program\"].value_counts()"
   ]
  },
  {
   "cell_type": "code",
   "execution_count": null,
   "id": "99069164-5fbb-4380-a368-1a6d3022e787",
   "metadata": {},
   "outputs": [],
   "source": [
    "len(df3)"
   ]
  },
  {
   "cell_type": "code",
   "execution_count": null,
   "id": "71872159-20c8-4c40-a95e-554bee9d3df6",
   "metadata": {},
   "outputs": [],
   "source": [
    "len(df_5310) + len(df_5311) + len(df_5339)"
   ]
  },
  {
   "cell_type": "code",
   "execution_count": null,
   "id": "68d3e9ef-7dfa-4f6c-be93-6ab4e1e41ce8",
   "metadata": {},
   "outputs": [],
   "source": [
    "len(df3) == (len(df_5310) + len(df_5311) + len(df_5339))"
   ]
  },
  {
   "cell_type": "code",
   "execution_count": null,
   "id": "7396cf0c-fc67-47de-a3b4-42783572dcc0",
   "metadata": {},
   "outputs": [],
   "source": [
    "my_common_cols = df_5311.columns.tolist()"
   ]
  },
  {
   "cell_type": "code",
   "execution_count": null,
   "id": "974cb3f2-c60b-4235-bc38-669925c5ac45",
   "metadata": {},
   "outputs": [],
   "source": [
    "my_common_cols"
   ]
  },
  {
   "cell_type": "markdown",
   "id": "c8a32fec-75e4-46a9-a0f1-f73d9323676f",
   "metadata": {
    "tags": []
   },
   "source": [
    "## Airtable"
   ]
  },
  {
   "cell_type": "markdown",
   "id": "8a5adb69-5079-44da-8933-627e7afac1b9",
   "metadata": {
    "tags": []
   },
   "source": [
    "### Split dataframes and merge them back together\n",
    "<img src= \"download.jfif\"> "
   ]
  },
  {
   "cell_type": "code",
   "execution_count": null,
   "id": "071ffb7c-aabc-4056-802b-96e70539957c",
   "metadata": {},
   "outputs": [],
   "source": [
    "# Grab the funds I want into a list\n",
    "airtable_wanted = [\n",
    "    \"Section 5311\",\n",
    "    \"5310 Exp\",\n",
    "    \"5310 Trad\",\n",
    "    \"5311(f) Cont\",\n",
    "    \"5339 (National)\",\n",
    "    \"5339 (State)\",\n",
    "    \"CMAQ (FTA 5311)\",\n",
    "    \"Section 5311(f)\",\n",
    "    \"5311(f) Round 2\",\n",
    "]"
   ]
  },
  {
   "cell_type": "code",
   "execution_count": null,
   "id": "545e4130-b803-410b-9799-d5621ce946d6",
   "metadata": {
    "scrolled": true,
    "tags": []
   },
   "outputs": [],
   "source": [
    "# Filter out for the funds I want\n",
    "airtable = df[df[\"funding_program\"].isin(airtable_wanted)]"
   ]
  },
  {
   "cell_type": "code",
   "execution_count": null,
   "id": "5ee4bbb9-f79f-4554-93a7-c64d179f675a",
   "metadata": {},
   "outputs": [],
   "source": [
    "# Check that all the grants are here \n",
    "airtable[\"funding_program\"].value_counts()"
   ]
  },
  {
   "cell_type": "code",
   "execution_count": null,
   "id": "c6a0f474-0eea-4dae-ad65-deb14d8a199a",
   "metadata": {},
   "outputs": [],
   "source": [
    "# Filter out for projects that are later than 2018\n",
    "airtable = airtable[airtable[\"project_year\"] > 2018]"
   ]
  },
  {
   "cell_type": "code",
   "execution_count": null,
   "id": "d2b67ed3-73d4-4764-b6fb-f3595fff05f2",
   "metadata": {},
   "outputs": [],
   "source": [
    "# Subset df into a smaller one: since we only care if an organization appeared in \n",
    "# a grant's dataframe at any point after 2018, we don't need the year/other info\n",
    "airtable = airtable[[\"funding_program\", \"organization_name\"]]"
   ]
  },
  {
   "cell_type": "code",
   "execution_count": null,
   "id": "3f7fa179-3754-4516-8162-eb9e96bf7fd3",
   "metadata": {
    "scrolled": true,
    "tags": []
   },
   "outputs": [],
   "source": [
    "airtable.sample(50)"
   ]
  },
  {
   "cell_type": "code",
   "execution_count": null,
   "id": "b3c69931-1e4d-4372-b1e1-9f76f924a375",
   "metadata": {},
   "outputs": [],
   "source": [
    "# Subset three dfs with for a specific grant\n",
    "df_5311 = airtable[(airtable.funding_program.str.contains(\"5311\", case=False))]"
   ]
  },
  {
   "cell_type": "code",
   "execution_count": null,
   "id": "9ba8bf4a-0665-480b-b0f9-b2fb5c064ad3",
   "metadata": {},
   "outputs": [],
   "source": [
    "df_5310 = airtable[(airtable.funding_program.str.contains(\"5310\", case=False))]"
   ]
  },
  {
   "cell_type": "code",
   "execution_count": null,
   "id": "1b6d439b-0569-4bfa-9f86-3f159a230a3e",
   "metadata": {},
   "outputs": [],
   "source": [
    "df_5339 = airtable[(airtable.funding_program.str.contains(\"5339\", case=False))]"
   ]
  },
  {
   "cell_type": "code",
   "execution_count": null,
   "id": "2f453ed8-6693-4d92-90e6-1da510ede43e",
   "metadata": {},
   "outputs": [],
   "source": [
    "# Using a for loop,we can print out how many rows correspond with each \"flavor\" of the grant program\n",
    "for i in [df_5311, df_5310, df_5339]:\n",
    "    print(i[\"funding_program\"].value_counts())\n",
    "    print(len(i)) "
   ]
  },
  {
   "cell_type": "code",
   "execution_count": null,
   "id": "ea3e189e-2ebc-47ea-ac0c-a72427723424",
   "metadata": {},
   "outputs": [],
   "source": [
    "f\"original table length's {len(airtable)} and all three of our subsetted data frames add up to {len(df_5339) + len(df_5310)  + len(df_5311)}\""
   ]
  },
  {
   "cell_type": "markdown",
   "id": "028d259f-8989-4111-bc33-95cc1fb7167d",
   "metadata": {},
   "source": [
    "### First merge: merging 5311 and 5310 "
   ]
  },
  {
   "cell_type": "code",
   "execution_count": null,
   "id": "48693e55-27bb-4e29-b9e8-0ff4f444488e",
   "metadata": {},
   "outputs": [],
   "source": [
    "# First merge: merging 5311 and 5310 \n",
    "m_5311_5310 = pd.merge(\n",
    "    df_5311,\n",
    "    df_5310,\n",
    "    how=\"outer\",\n",
    "    on=[\"organization_name\"],\n",
    "    indicator=True,\n",
    ")"
   ]
  },
  {
   "cell_type": "code",
   "execution_count": null,
   "id": "35b4e002-fe9d-4d0e-ba1a-bfe8538b4166",
   "metadata": {},
   "outputs": [],
   "source": [
    "# Check out the results \n",
    "m_5311_5310[\"_merge\"].value_counts()"
   ]
  },
  {
   "cell_type": "code",
   "execution_count": null,
   "id": "c923e48e-4cb4-4850-b0ad-ad54ffd5c3c0",
   "metadata": {},
   "outputs": [],
   "source": [
    "# Preview what happens to the length when you drop the duplicates.  \n",
    "len(m_5311_5310), len(m_5311_5310.drop_duplicates(subset=[\"organization_name\"]))"
   ]
  },
  {
   "cell_type": "code",
   "execution_count": null,
   "id": "2c480f67-c44e-489d-b213-c1fcdec903cc",
   "metadata": {},
   "outputs": [],
   "source": [
    "# Actually drop the duplicates of agency name, since the same agencies appear multiple times across the years\n",
    "# Which is why the df is super long.\n",
    "# Dropping a subset allows you to choose which column(s) to drop the duplicates of\n",
    "# When you don't specify, this looks across all the columns of a df\n",
    "m2_5311_5310 = m_5311_5310.drop_duplicates(subset=[\"organization_name\"])"
   ]
  },
  {
   "cell_type": "code",
   "execution_count": null,
   "id": "937000bc-d1b4-4c50-a4d6-a9fc4a5016ac",
   "metadata": {},
   "outputs": [],
   "source": [
    "m_5311_5310['_merge'].value_counts()"
   ]
  },
  {
   "cell_type": "code",
   "execution_count": null,
   "id": "90a308ad-b84d-4439-9fe5-b2b680c15fb9",
   "metadata": {},
   "outputs": [],
   "source": [
    "# Rename the merge column to something that is a little clearer \n",
    "m2_5311_5310 = m2_5311_5310.rename(columns = {'_merge': '5311_5310_overlap'}) "
   ]
  },
  {
   "cell_type": "code",
   "execution_count": null,
   "id": "da9bb74f-f43b-40e7-bf02-9f13af662a47",
   "metadata": {},
   "outputs": [],
   "source": [
    "# Replace right only/left only with clearer definitions \n",
    "m2_5311_5310[\"5311_5310_overlap\"] = m2_5311_5310[\"5311_5310_overlap\"].replace(\n",
    "    {\"left_only\": \"5311 only\", \"right_only\": \"5310 only\", \"both\": \"Both 5311 and 5310\"}\n",
    ")"
   ]
  },
  {
   "cell_type": "code",
   "execution_count": null,
   "id": "34d1b434-05b7-4128-84d3-92f15313b924",
   "metadata": {
    "scrolled": true,
    "tags": []
   },
   "outputs": [],
   "source": [
    "# Sample a few rows \n",
    "m2_5311_5310.sample(40)"
   ]
  },
  {
   "cell_type": "markdown",
   "id": "2a1ca02b-2f91-49ac-93ee-57e6d67651e6",
   "metadata": {},
   "source": [
    "### Second merge: df above with 5339"
   ]
  },
  {
   "cell_type": "code",
   "execution_count": null,
   "id": "50ae34e5-fcf4-484d-a9a4-a40ff5e9d902",
   "metadata": {},
   "outputs": [],
   "source": [
    "# Now merge in 5339 with the merged 5311 & 5310 stuff\n",
    "m3_all = pd.merge(\n",
    "    m2_5311_5310,\n",
    "    df_5339,\n",
    "    how=\"outer\",\n",
    "    on = [\"organization_name\"],\n",
    "    indicator=True,\n",
    ")"
   ]
  },
  {
   "cell_type": "code",
   "execution_count": null,
   "id": "7ebbd5f2-d329-4c46-b707-5e015fd49abe",
   "metadata": {},
   "outputs": [],
   "source": [
    "# Again drop the duplicates of organizations\n",
    "m4 = m3_all.drop_duplicates(subset=[\"organization_name\"])"
   ]
  },
  {
   "cell_type": "code",
   "execution_count": null,
   "id": "fe59a2ce-31b3-4026-b566-49c95b6e1a2a",
   "metadata": {},
   "outputs": [],
   "source": [
    "m4[\"_merge\"].value_counts()"
   ]
  },
  {
   "cell_type": "code",
   "execution_count": null,
   "id": "3e73b6e8-b06e-4ee0-a2e8-9260bc4c5615",
   "metadata": {},
   "outputs": [],
   "source": [
    "m4.shape"
   ]
  },
  {
   "cell_type": "code",
   "execution_count": null,
   "id": "442023b2-6dee-4533-a73e-393b5f6144c4",
   "metadata": {
    "scrolled": true,
    "tags": []
   },
   "outputs": [],
   "source": [
    "# Look at organizations A-Z\n",
    "m4[['organization_name','5311_5310_overlap','_merge']].sort_values('_merge')"
   ]
  },
  {
   "cell_type": "code",
   "execution_count": null,
   "id": "a79c494d-0370-446e-8abb-75ab8c638bb9",
   "metadata": {},
   "outputs": [],
   "source": [
    "# Use a function to replace left_only/both/right_only for more clarity\n",
    "# https://github.com/cal-itp/data-analyses/blob/main/grant_misc/A2_dla.ipynb\n",
    "# df is the argument of the function\n",
    "def recategorize(df):   \n",
    "    if (df['_merge']=='left_only') and (df['5311_5310_overlap'] == '5311 only'):\n",
    "        return '5311 Only'\n",
    "    elif (df['_merge']=='left_only') and (df['5311_5310_overlap'] == '5310 only'):\n",
    "        return '5310 only'\n",
    "    elif (df['_merge']=='left_only') and (df['5311_5310_overlap'] == 'Both 5311 and 5310'):\n",
    "        return '5311 and 5310'\n",
    "    elif (df['_merge']=='both') and (df['5311_5310_overlap'] == '5311 only'):\n",
    "        return '5311 and 5339'\n",
    "    elif (df['_merge']=='both') and (df['5311_5310_overlap'] == '5310 only'):\n",
    "        return '5310 and 5339'\n",
    "    else: \n",
    "        return '5310, 5339, 5311'"
   ]
  },
  {
   "cell_type": "code",
   "execution_count": null,
   "id": "54db5518-641d-4bd8-a63d-4328deffe593",
   "metadata": {},
   "outputs": [],
   "source": [
    "# Apply a function along an axis of the DataFrame. \n",
    "# Axis = 1 means across each row of the df \n",
    "# Axis = 0 means across each column of the df \n",
    "m4['_merge'] = m4.apply(recategorize, axis = 1)"
   ]
  },
  {
   "cell_type": "code",
   "execution_count": null,
   "id": "23db8817-48b6-4865-a94b-9621a7994422",
   "metadata": {},
   "outputs": [],
   "source": [
    "# Rename _merge \n",
    "m4 = m4.rename(columns = {'_merge':'5310_5311_5339_overlap'}) "
   ]
  },
  {
   "cell_type": "code",
   "execution_count": null,
   "id": "1bf99f2b-d401-4a7e-ad25-2c6332356ae0",
   "metadata": {},
   "outputs": [],
   "source": [
    "# Remove columns \n",
    "m4 = m4.drop(columns = [\"funding_program_y\", \"funding_program_x\", \"5311_5310_overlap\", \"funding_program\"]) "
   ]
  },
  {
   "cell_type": "code",
   "execution_count": null,
   "id": "1e60cc6f-e487-41a7-b3bc-0312269665c4",
   "metadata": {
    "scrolled": true,
    "tags": []
   },
   "outputs": [],
   "source": [
    "# Sort your dataframe by organization name, A-Z\n",
    "m4.sort_values(['organization_name'])"
   ]
  },
  {
   "cell_type": "markdown",
   "id": "a54e0507-9298-4ed8-98a2-d782599eb403",
   "metadata": {},
   "source": [
    "## Save your work\n",
    "* You can save all your hardwork into a single Excel workbook to our [Google Cloud Storage](https://console.cloud.google.com/storage/browser/calitp-analytics-data/data-analyses/grants;tab=objects?project=cal-itp-data-infra&prefix=&forceOnObjectsSortingFiltering=false)."
   ]
  },
  {
   "cell_type": "code",
   "execution_count": null,
   "id": "b89dd04a-0d26-48a5-9782-b7c73a380421",
   "metadata": {
    "tags": []
   },
   "outputs": [],
   "source": [
    "\"\"\"\n",
    "with pd.ExcelWriter(\n",
    "    \"gs://calitp-analytics-data/data-analyses/5311-5310/5310-5311-5339-agency-overlap.xlsx\"\n",
    ") as writer:\n",
    "    m4.to_excel(writer, sheet_name=\"5310-5311-years\", index= False)\n",
    "\"\"\""
   ]
  },
  {
   "cell_type": "code",
   "execution_count": null,
   "id": "4cb9162a-5c8e-47dd-9c12-e5b59891360d",
   "metadata": {},
   "outputs": [],
   "source": [
    "# with pd.ExcelWriter(\"gs://calitp-analytics-data/data-analyses/grants/5311-5310.xlsx\")  as writer: m2_5311_5310.to_excel(writer,sheet_name=\"5310-5311-years\", index= False)"
   ]
  },
  {
   "cell_type": "code",
   "execution_count": null,
   "id": "34d86817-ec31-479f-ae0d-737d32f19ac1",
   "metadata": {},
   "outputs": [],
   "source": []
  }
 ],
 "metadata": {
  "kernelspec": {
   "display_name": "Python 3 (ipykernel)",
   "language": "python",
   "name": "python3"
  },
  "language_info": {
   "codemirror_mode": {
    "name": "ipython",
    "version": 3
   },
   "file_extension": ".py",
   "mimetype": "text/x-python",
   "name": "python",
   "nbconvert_exporter": "python",
   "pygments_lexer": "ipython3",
   "version": "3.10.5"
  }
 },
 "nbformat": 4,
 "nbformat_minor": 5
}
