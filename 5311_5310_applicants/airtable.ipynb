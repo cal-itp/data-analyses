{
 "cells": [
  {
   "cell_type": "markdown",
   "id": "546ac1d1-a11f-47d6-b8b3-5e74cb2f5ab1",
   "metadata": {},
   "source": [
    "# 5311 and 5310 Applicants\n",
    "* [Research Request](https://github.com/cal-itp/data-analyses/issues/333)"
   ]
  },
  {
   "cell_type": "code",
   "execution_count": 1,
   "id": "70753eca-2b0c-4114-80e8-a70bccc8ee6f",
   "metadata": {},
   "outputs": [
    {
     "name": "stderr",
     "output_type": "stream",
     "text": [
      "/opt/conda/lib/python3.10/site-packages/geopandas/_compat.py:111: UserWarning: The Shapely GEOS version (3.10.2-CAPI-1.16.0) is incompatible with the GEOS version PyGEOS was compiled with (3.10.1-CAPI-1.16.0). Conversions between both will be slow.\n",
      "  warnings.warn(\n"
     ]
    }
   ],
   "source": [
    "# Packages to import\n",
    "# Pandas is the full name of the package but call it pd for short.\n",
    "import pandas as pd\n",
    "from calitp import *\n",
    "\n",
    "# Formatting the notebook\n",
    "# The max columns to display will be 100\n",
    "pd.options.display.max_columns = 100\n",
    "\n",
    "# There will allow you to print all the rows in your data\n",
    "pd.set_option(\"display.max_rows\", None)\n",
    "\n",
    "# This will prevent columns from being truncated\n",
    "pd.set_option(\"display.max_colwidth\", None)"
   ]
  },
  {
   "cell_type": "markdown",
   "id": "c3990900-449b-4e01-8991-5b53f1c6aa78",
   "metadata": {},
   "source": [
    "## Load the Excel Sheet\n",
    "* Can read the original Excel workbook by the specific sheet you want. \n",
    "* Save your sheet as a Pandas dataframe - it can be called anything, but usually it's <i>something_df</i>. \n",
    "    * Dataframe = basically jsut a table of data. \n",
    "    * If you want to open multiple sheets, you'd assign them to different objects and different names. \n",
    "* \"to_snakecase\" changes the column names to all lowercases and replaces any spaces with underescores."
   ]
  },
  {
   "cell_type": "code",
   "execution_count": 2,
   "id": "c1d6fb2f-e483-4405-92fb-1cd826fedc9a",
   "metadata": {},
   "outputs": [],
   "source": [
    "#df = to_snakecase(\n",
    "#    pd.read_excel(\"gs://calitp-analytics-data/data-analyses/grants/Grant+Projects_7_30_2022.xlsx\", sheet_name=\"Grant Projects\")\n",
    "#)\n",
    "\n",
    "df = pd.read_excel(\"./Grant+Projects_7_30_2022.xlsx\")"
   ]
  },
  {
   "cell_type": "code",
   "execution_count": 3,
   "id": "3ad206f7-5652-43a6-b779-31b7373aada9",
   "metadata": {},
   "outputs": [],
   "source": [
    "# Save your dataframe to the folder you are in \n",
    "# df.to_excel(\"./Grant+Projects_7_30_2022.xlsx\", index=False)"
   ]
  },
  {
   "cell_type": "markdown",
   "id": "d0b83096-fe5c-4d19-9412-2c4f91370192",
   "metadata": {},
   "source": [
    "## Explore the data \n",
    "* Let's check out our data by answering questions such as\n",
    "    * How many columns and rows does it have? \n",
    "    * How many missing values are there? \n",
    "    * What are the mean/median? \n",
    "* Any time you want to do something to your data, chain the function after the object.\n",
    "    * In Excel, you'd do SUM(column you want)\n",
    "    * In Pandas, you'd do df['column you want'].sum()\n",
    "* [Resource](https://pandas.pydata.org/docs/user_guide/basics.html)    "
   ]
  },
  {
   "cell_type": "code",
   "execution_count": 4,
   "id": "0cb34614-8bb8-4076-a511-2bae65ac4842",
   "metadata": {},
   "outputs": [
    {
     "data": {
      "text/html": [
       "<div>\n",
       "<style scoped>\n",
       "    .dataframe tbody tr th:only-of-type {\n",
       "        vertical-align: middle;\n",
       "    }\n",
       "\n",
       "    .dataframe tbody tr th {\n",
       "        vertical-align: top;\n",
       "    }\n",
       "\n",
       "    .dataframe thead th {\n",
       "        text-align: right;\n",
       "    }\n",
       "</style>\n",
       "<table border=\"1\" class=\"dataframe\">\n",
       "  <thead>\n",
       "    <tr style=\"text-align: right;\">\n",
       "      <th></th>\n",
       "      <th>grant_fiscal_year</th>\n",
       "      <th>funding_program</th>\n",
       "      <th>grant_number</th>\n",
       "      <th>project_year</th>\n",
       "      <th>organization_name</th>\n",
       "      <th>upin</th>\n",
       "      <th>description</th>\n",
       "      <th>ali</th>\n",
       "      <th>contract_number</th>\n",
       "      <th>allocationamount</th>\n",
       "      <th>encumbered_amount</th>\n",
       "      <th>expendedamount</th>\n",
       "      <th>activebalance</th>\n",
       "      <th>closedoutbalance</th>\n",
       "      <th>project_status</th>\n",
       "      <th>project_closed_by</th>\n",
       "      <th>project_closed_date</th>\n",
       "      <th>project_closed_time</th>\n",
       "    </tr>\n",
       "  </thead>\n",
       "  <tbody>\n",
       "    <tr>\n",
       "      <th>0</th>\n",
       "      <td>2011</td>\n",
       "      <td>Section 5311</td>\n",
       "      <td>CA-18-X047 | 0012000083</td>\n",
       "      <td>2016</td>\n",
       "      <td>City of Chowchilla</td>\n",
       "      <td>BCG0000228</td>\n",
       "      <td>Operating Assistance</td>\n",
       "      <td>300902</td>\n",
       "      <td>64BO17-00368</td>\n",
       "      <td>53221.0</td>\n",
       "      <td>114511.0</td>\n",
       "      <td>53221.00</td>\n",
       "      <td>0.00</td>\n",
       "      <td>0</td>\n",
       "      <td>Open</td>\n",
       "      <td>NaN</td>\n",
       "      <td>NaN</td>\n",
       "      <td>NaN</td>\n",
       "    </tr>\n",
       "    <tr>\n",
       "      <th>1</th>\n",
       "      <td>2011</td>\n",
       "      <td>Section 5311</td>\n",
       "      <td>CA-18-X047 | 0012000083</td>\n",
       "      <td>2016</td>\n",
       "      <td>Madera County</td>\n",
       "      <td>BCG0000283</td>\n",
       "      <td>Buy &lt;30-Ft Bus For Expansion</td>\n",
       "      <td>111304</td>\n",
       "      <td>64BC17-00408</td>\n",
       "      <td>110663.0</td>\n",
       "      <td>110663.0</td>\n",
       "      <td>101352.02</td>\n",
       "      <td>9310.98</td>\n",
       "      <td>0</td>\n",
       "      <td>Open</td>\n",
       "      <td>NaN</td>\n",
       "      <td>NaN</td>\n",
       "      <td>NaN</td>\n",
       "    </tr>\n",
       "    <tr>\n",
       "      <th>2</th>\n",
       "      <td>2011</td>\n",
       "      <td>Section 5311</td>\n",
       "      <td>CA-18-X047 | 0012000083</td>\n",
       "      <td>2016</td>\n",
       "      <td>Madera County</td>\n",
       "      <td>BCG0000284</td>\n",
       "      <td>Purchase Replacement Van</td>\n",
       "      <td>111215</td>\n",
       "      <td>64BC17-00408</td>\n",
       "      <td>20643.0</td>\n",
       "      <td>44265.0</td>\n",
       "      <td>20643.00</td>\n",
       "      <td>0.00</td>\n",
       "      <td>0</td>\n",
       "      <td>Open</td>\n",
       "      <td>NaN</td>\n",
       "      <td>NaN</td>\n",
       "      <td>NaN</td>\n",
       "    </tr>\n",
       "    <tr>\n",
       "      <th>3</th>\n",
       "      <td>2012</td>\n",
       "      <td>Section 5311</td>\n",
       "      <td>CA-18-X052 | 0012000304</td>\n",
       "      <td>2016</td>\n",
       "      <td>Madera County</td>\n",
       "      <td>BCG0000284</td>\n",
       "      <td>Purchase Replacement Van</td>\n",
       "      <td>111215</td>\n",
       "      <td>64BC17-00408</td>\n",
       "      <td>23622.0</td>\n",
       "      <td>44265.0</td>\n",
       "      <td>22868.30</td>\n",
       "      <td>753.70</td>\n",
       "      <td>0</td>\n",
       "      <td>Open</td>\n",
       "      <td>NaN</td>\n",
       "      <td>NaN</td>\n",
       "      <td>NaN</td>\n",
       "    </tr>\n",
       "    <tr>\n",
       "      <th>4</th>\n",
       "      <td>2012</td>\n",
       "      <td>Section 5311</td>\n",
       "      <td>CA-18-X052 | 0012000304</td>\n",
       "      <td>2016</td>\n",
       "      <td>Madera County</td>\n",
       "      <td>BCG0000286</td>\n",
       "      <td>Purchase Expansion &lt;30ft Bus</td>\n",
       "      <td>111304</td>\n",
       "      <td>64BC17-00480</td>\n",
       "      <td>22925.0</td>\n",
       "      <td>113319.0</td>\n",
       "      <td>22655.51</td>\n",
       "      <td>269.49</td>\n",
       "      <td>0</td>\n",
       "      <td>Open</td>\n",
       "      <td>NaN</td>\n",
       "      <td>NaN</td>\n",
       "      <td>NaN</td>\n",
       "    </tr>\n",
       "  </tbody>\n",
       "</table>\n",
       "</div>"
      ],
      "text/plain": [
       "   grant_fiscal_year funding_program             grant_number  project_year  \\\n",
       "0               2011    Section 5311  CA-18-X047 | 0012000083          2016   \n",
       "1               2011    Section 5311  CA-18-X047 | 0012000083          2016   \n",
       "2               2011    Section 5311  CA-18-X047 | 0012000083          2016   \n",
       "3               2012    Section 5311  CA-18-X052 | 0012000304          2016   \n",
       "4               2012    Section 5311  CA-18-X052 | 0012000304          2016   \n",
       "\n",
       "     organization_name        upin                   description     ali  \\\n",
       "0  City of Chowchilla   BCG0000228          Operating Assistance  300902   \n",
       "1        Madera County  BCG0000283  Buy <30-Ft Bus For Expansion  111304   \n",
       "2        Madera County  BCG0000284      Purchase Replacement Van  111215   \n",
       "3        Madera County  BCG0000284      Purchase Replacement Van  111215   \n",
       "4        Madera County  BCG0000286  Purchase Expansion <30ft Bus  111304   \n",
       "\n",
       "  contract_number  allocationamount  encumbered_amount  expendedamount  \\\n",
       "0    64BO17-00368           53221.0           114511.0        53221.00   \n",
       "1    64BC17-00408          110663.0           110663.0       101352.02   \n",
       "2    64BC17-00408           20643.0            44265.0        20643.00   \n",
       "3    64BC17-00408           23622.0            44265.0        22868.30   \n",
       "4    64BC17-00480           22925.0           113319.0        22655.51   \n",
       "\n",
       "   activebalance  closedoutbalance project_status  project_closed_by  \\\n",
       "0           0.00                 0           Open                NaN   \n",
       "1        9310.98                 0           Open                NaN   \n",
       "2           0.00                 0           Open                NaN   \n",
       "3         753.70                 0           Open                NaN   \n",
       "4         269.49                 0           Open                NaN   \n",
       "\n",
       "   project_closed_date  project_closed_time  \n",
       "0                  NaN                  NaN  \n",
       "1                  NaN                  NaN  \n",
       "2                  NaN                  NaN  \n",
       "3                  NaN                  NaN  \n",
       "4                  NaN                  NaN  "
      ]
     },
     "execution_count": 4,
     "metadata": {},
     "output_type": "execute_result"
    }
   ],
   "source": [
    "# Check out the first five rows\n",
    "# Any line with a pound symbol in front is a comment and won't be rendered\n",
    "df.head()"
   ]
  },
  {
   "cell_type": "code",
   "execution_count": 5,
   "id": "038eac2d-4e92-4438-b8cf-d7f7a7e6a2be",
   "metadata": {},
   "outputs": [
    {
     "data": {
      "text/html": [
       "<div>\n",
       "<style scoped>\n",
       "    .dataframe tbody tr th:only-of-type {\n",
       "        vertical-align: middle;\n",
       "    }\n",
       "\n",
       "    .dataframe tbody tr th {\n",
       "        vertical-align: top;\n",
       "    }\n",
       "\n",
       "    .dataframe thead th {\n",
       "        text-align: right;\n",
       "    }\n",
       "</style>\n",
       "<table border=\"1\" class=\"dataframe\">\n",
       "  <thead>\n",
       "    <tr style=\"text-align: right;\">\n",
       "      <th></th>\n",
       "      <th>grant_fiscal_year</th>\n",
       "      <th>funding_program</th>\n",
       "      <th>grant_number</th>\n",
       "      <th>project_year</th>\n",
       "      <th>organization_name</th>\n",
       "      <th>upin</th>\n",
       "      <th>description</th>\n",
       "      <th>ali</th>\n",
       "      <th>contract_number</th>\n",
       "      <th>allocationamount</th>\n",
       "      <th>encumbered_amount</th>\n",
       "      <th>expendedamount</th>\n",
       "      <th>activebalance</th>\n",
       "      <th>closedoutbalance</th>\n",
       "      <th>project_status</th>\n",
       "      <th>project_closed_by</th>\n",
       "      <th>project_closed_date</th>\n",
       "      <th>project_closed_time</th>\n",
       "    </tr>\n",
       "  </thead>\n",
       "  <tbody>\n",
       "    <tr>\n",
       "      <th>2760</th>\n",
       "      <td>2022</td>\n",
       "      <td>Section 5311(f)</td>\n",
       "      <td>TBD | 0022000356-F</td>\n",
       "      <td>2022</td>\n",
       "      <td>Sunline Transit Agency</td>\n",
       "      <td>BCG0003870</td>\n",
       "      <td>Operating Assistance Sliding Scale - 5311(f) - Route10</td>\n",
       "      <td>300902</td>\n",
       "      <td>NaN</td>\n",
       "      <td>257375.0</td>\n",
       "      <td>0.0</td>\n",
       "      <td>0.0</td>\n",
       "      <td>257375.0</td>\n",
       "      <td>0</td>\n",
       "      <td>Open</td>\n",
       "      <td>NaN</td>\n",
       "      <td>NaN</td>\n",
       "      <td>NaN</td>\n",
       "    </tr>\n",
       "    <tr>\n",
       "      <th>2761</th>\n",
       "      <td>2022</td>\n",
       "      <td>Section 5311(f)</td>\n",
       "      <td>TBD | 0022000356-F</td>\n",
       "      <td>2022</td>\n",
       "      <td>Trinity County Department of Transportation</td>\n",
       "      <td>BCG0003993</td>\n",
       "      <td>Operating Assistance Sliding Scale RED/LEW 22/23</td>\n",
       "      <td>300902</td>\n",
       "      <td>NaN</td>\n",
       "      <td>173820.0</td>\n",
       "      <td>0.0</td>\n",
       "      <td>0.0</td>\n",
       "      <td>173820.0</td>\n",
       "      <td>0</td>\n",
       "      <td>Open</td>\n",
       "      <td>NaN</td>\n",
       "      <td>NaN</td>\n",
       "      <td>NaN</td>\n",
       "    </tr>\n",
       "    <tr>\n",
       "      <th>2762</th>\n",
       "      <td>2022</td>\n",
       "      <td>Section 5311(f)</td>\n",
       "      <td>TBD | 0022000356-F</td>\n",
       "      <td>2022</td>\n",
       "      <td>Trinity County Department of Transportation</td>\n",
       "      <td>BCG0003997</td>\n",
       "      <td>Operating Assistance Sliding Scale WC 22/23</td>\n",
       "      <td>300902</td>\n",
       "      <td>NaN</td>\n",
       "      <td>152038.0</td>\n",
       "      <td>0.0</td>\n",
       "      <td>0.0</td>\n",
       "      <td>152038.0</td>\n",
       "      <td>0</td>\n",
       "      <td>Open</td>\n",
       "      <td>NaN</td>\n",
       "      <td>NaN</td>\n",
       "      <td>NaN</td>\n",
       "    </tr>\n",
       "    <tr>\n",
       "      <th>2763</th>\n",
       "      <td>2022</td>\n",
       "      <td>Section 5311(f)</td>\n",
       "      <td>TBD | 0022000356-F</td>\n",
       "      <td>2022</td>\n",
       "      <td>Yosemite Area Regional Transportation System</td>\n",
       "      <td>BCG0004056</td>\n",
       "      <td>Operating Assistance Sliding Scale</td>\n",
       "      <td>300902</td>\n",
       "      <td>NaN</td>\n",
       "      <td>300000.0</td>\n",
       "      <td>0.0</td>\n",
       "      <td>0.0</td>\n",
       "      <td>300000.0</td>\n",
       "      <td>0</td>\n",
       "      <td>Open</td>\n",
       "      <td>NaN</td>\n",
       "      <td>NaN</td>\n",
       "      <td>NaN</td>\n",
       "    </tr>\n",
       "    <tr>\n",
       "      <th>2764</th>\n",
       "      <td>2022</td>\n",
       "      <td>Section 5311(f)</td>\n",
       "      <td>TBD | 0022000356-F</td>\n",
       "      <td>2022</td>\n",
       "      <td>Yurok Tribe Transit</td>\n",
       "      <td>BCG0004031</td>\n",
       "      <td>Operating Assistance Sliding Scale - Orleans to Willow Creek</td>\n",
       "      <td>300902</td>\n",
       "      <td>NaN</td>\n",
       "      <td>116064.0</td>\n",
       "      <td>0.0</td>\n",
       "      <td>0.0</td>\n",
       "      <td>116064.0</td>\n",
       "      <td>0</td>\n",
       "      <td>Open</td>\n",
       "      <td>NaN</td>\n",
       "      <td>NaN</td>\n",
       "      <td>NaN</td>\n",
       "    </tr>\n",
       "  </tbody>\n",
       "</table>\n",
       "</div>"
      ],
      "text/plain": [
       "      grant_fiscal_year  funding_program        grant_number  project_year  \\\n",
       "2760               2022  Section 5311(f)  TBD | 0022000356-F          2022   \n",
       "2761               2022  Section 5311(f)  TBD | 0022000356-F          2022   \n",
       "2762               2022  Section 5311(f)  TBD | 0022000356-F          2022   \n",
       "2763               2022  Section 5311(f)  TBD | 0022000356-F          2022   \n",
       "2764               2022  Section 5311(f)  TBD | 0022000356-F          2022   \n",
       "\n",
       "                                  organization_name        upin  \\\n",
       "2760                         Sunline Transit Agency  BCG0003870   \n",
       "2761   Trinity County Department of Transportation   BCG0003993   \n",
       "2762   Trinity County Department of Transportation   BCG0003997   \n",
       "2763  Yosemite Area Regional Transportation System   BCG0004056   \n",
       "2764                            Yurok Tribe Transit  BCG0004031   \n",
       "\n",
       "                                                       description     ali  \\\n",
       "2760        Operating Assistance Sliding Scale - 5311(f) - Route10  300902   \n",
       "2761              Operating Assistance Sliding Scale RED/LEW 22/23  300902   \n",
       "2762                   Operating Assistance Sliding Scale WC 22/23  300902   \n",
       "2763                            Operating Assistance Sliding Scale  300902   \n",
       "2764  Operating Assistance Sliding Scale - Orleans to Willow Creek  300902   \n",
       "\n",
       "     contract_number  allocationamount  encumbered_amount  expendedamount  \\\n",
       "2760             NaN          257375.0                0.0             0.0   \n",
       "2761             NaN          173820.0                0.0             0.0   \n",
       "2762             NaN          152038.0                0.0             0.0   \n",
       "2763             NaN          300000.0                0.0             0.0   \n",
       "2764             NaN          116064.0                0.0             0.0   \n",
       "\n",
       "      activebalance  closedoutbalance project_status  project_closed_by  \\\n",
       "2760       257375.0                 0           Open                NaN   \n",
       "2761       173820.0                 0           Open                NaN   \n",
       "2762       152038.0                 0           Open                NaN   \n",
       "2763       300000.0                 0           Open                NaN   \n",
       "2764       116064.0                 0           Open                NaN   \n",
       "\n",
       "      project_closed_date  project_closed_time  \n",
       "2760                  NaN                  NaN  \n",
       "2761                  NaN                  NaN  \n",
       "2762                  NaN                  NaN  \n",
       "2763                  NaN                  NaN  \n",
       "2764                  NaN                  NaN  "
      ]
     },
     "execution_count": 5,
     "metadata": {},
     "output_type": "execute_result"
    }
   ],
   "source": [
    "# Check out the last five rows\n",
    "df.tail()"
   ]
  },
  {
   "cell_type": "code",
   "execution_count": 6,
   "id": "d4209ccb-4557-4e65-b90d-222ebb615fbb",
   "metadata": {},
   "outputs": [
    {
     "name": "stdout",
     "output_type": "stream",
     "text": [
      "<class 'pandas.core.frame.DataFrame'>\n",
      "RangeIndex: 2765 entries, 0 to 2764\n",
      "Data columns (total 18 columns):\n",
      " #   Column               Non-Null Count  Dtype  \n",
      "---  ------               --------------  -----  \n",
      " 0   grant_fiscal_year    2765 non-null   int64  \n",
      " 1   funding_program      2765 non-null   object \n",
      " 2   grant_number         2765 non-null   object \n",
      " 3   project_year         2765 non-null   int64  \n",
      " 4   organization_name    2765 non-null   object \n",
      " 5   upin                 2765 non-null   object \n",
      " 6   description          2765 non-null   object \n",
      " 7   ali                  2765 non-null   object \n",
      " 8   contract_number      2498 non-null   object \n",
      " 9   allocationamount     2765 non-null   float64\n",
      " 10  encumbered_amount    2765 non-null   float64\n",
      " 11  expendedamount       2765 non-null   float64\n",
      " 12  activebalance        2765 non-null   float64\n",
      " 13  closedoutbalance     2765 non-null   int64  \n",
      " 14  project_status       2765 non-null   object \n",
      " 15  project_closed_by    0 non-null      float64\n",
      " 16  project_closed_date  0 non-null      float64\n",
      " 17  project_closed_time  0 non-null      float64\n",
      "dtypes: float64(7), int64(3), object(8)\n",
      "memory usage: 389.0+ KB\n"
     ]
    }
   ],
   "source": [
    "# Check out how many rows and columns, # of null values in each column, and the data type of each column\n",
    "df.info()"
   ]
  },
  {
   "cell_type": "code",
   "execution_count": 8,
   "id": "e68ec0bc-ef4c-4df9-bf3b-5c5b2449ced6",
   "metadata": {},
   "outputs": [],
   "source": [
    "# The data goes spans between 2011 to 2022. Check out how many projects were funded by year.\n",
    "# df[\"column 1\"].value_counts()"
   ]
  },
  {
   "cell_type": "code",
   "execution_count": null,
   "id": "7aad591f-6266-4519-9f90-cec0a0e1da89",
   "metadata": {},
   "outputs": [],
   "source": [
    "# Not sure what a function does: use help\n",
    "help(sum)"
   ]
  },
  {
   "cell_type": "code",
   "execution_count": null,
   "id": "25a682b9-7b50-45ce-bcbe-61b745e5e9c3",
   "metadata": {},
   "outputs": [],
   "source": [
    "# Get some basic stats\n",
    "df.describe()"
   ]
  },
  {
   "cell_type": "markdown",
   "id": "7dee0166-6091-4393-a287-b7f453439a67",
   "metadata": {},
   "source": [
    "## Clean up\n",
    "* [Tutorial](https://pandas.pydata.org/docs/getting_started/intro_tutorials/03_subset_data.html)\n",
    "\n",
    "### Data type is important. \n",
    "* If you have a column of monetary values presented as $139, 293.92 and you want to find the mean, this won't work. \n",
    "* This column is considered an \"object\" column due to the dollar sign and comma - same way as if you typed \"caltrans\".\n",
    "    * You'll have make sure it's an integer.\n",
    "* Based on df.info() clean up other columns that aren't the right data type"
   ]
  },
  {
   "cell_type": "code",
   "execution_count": null,
   "id": "693e0fac-963c-4d29-ac29-3c30769722ba",
   "metadata": {},
   "outputs": [],
   "source": [
    "\"\"\"\n",
    "If there are columns that SHOULD be an integer but isn't: input them into the list\n",
    "after this for loop. This strips empty $ and commas in the columns you list, \n",
    "then changes them to the data type of int.\n",
    "\n",
    "for c in [\"column_one\", \"column_two\", \"column_three\"]:\n",
    "    df[c] = df[c].str.replace(\"$\", \"\").str.replace(\",\", \"\").astype(int)\n",
    "\"\"\""
   ]
  },
  {
   "cell_type": "markdown",
   "id": "6a6326c7-638c-4651-9b5c-1aa4530482a0",
   "metadata": {},
   "source": [
    "### Beware of duplicate values\n",
    "* Grants data might be manually entered by multiple people. As such, values can be inconsistent. \n",
    "* BART, Bay Area Rapid Transit, and Bay Area Rapid Transit (BART) are all the same agency. \n",
    "* However, if you are counting the number of unique agencies, these would be counted as 3 different agencies, which is inaccurate.\n"
   ]
  },
  {
   "cell_type": "code",
   "execution_count": null,
   "id": "c919a9fa-98c7-4437-95a8-0086cc7db447",
   "metadata": {},
   "outputs": [],
   "source": [
    "# Check out your agencies and see if there are any duplicates by\n",
    "# sorting your column of agencies from A-Z and seeing only unique ones\n",
    "# df[\"column\"].sort_values().unique()"
   ]
  },
  {
   "cell_type": "code",
   "execution_count": null,
   "id": "4e3ff722-b0e8-419e-9d64-d1f0058a18f2",
   "metadata": {},
   "outputs": [],
   "source": [
    "# Check out total nunique values\n",
    "# df[\"column\"].nunique()"
   ]
  },
  {
   "cell_type": "code",
   "execution_count": null,
   "id": "a00b5798-3958-4830-af13-aed51ef9e6a6",
   "metadata": {},
   "outputs": [],
   "source": [
    "\"\"\"\n",
    "If there are duplicate values, you can replace them with an existing one with a dictionary\n",
    "If this cell is irrelevant,  go up to the top where it says \"code\" and change it to \"markdown\". \n",
    "You can also move the three quotation marks at the bottom of this cell to comment out the code.\n",
    "If all the agencies are only listed once.\n",
    "\n",
    "df[\"column\"] = df[\"column\"].replace(\n",
    "    {\"old value 1\": \"correct value 1\", \"old value 2\": \"correct value 2\"}\n",
    ")\n",
    "\n",
    "\"\"\""
   ]
  },
  {
   "cell_type": "markdown",
   "id": "cf99e5cf-cc3f-4dfe-88bc-a15a43af4744",
   "metadata": {},
   "source": [
    "## Filter what you want\n",
    "* You don't necessarily want all the years, all the programs, etc. \n",
    "* Filter out what you are interested in.\n",
    "\n",
    "### Grants you want"
   ]
  },
  {
   "cell_type": "code",
   "execution_count": 9,
   "id": "53102841-09ba-4f81-a3bf-abcb86ede07f",
   "metadata": {},
   "outputs": [
    {
     "data": {
      "text/plain": [
       "array(['Section 5311', '5310 Exp', '5310 Trad', '5311(f) Cont',\n",
       "       '5339 (National)', '5339 (State)', 'CMAQ (FTA 5311)',\n",
       "       'Section 5311(f)', 'Toll Credits', '5311(f) Round 2', 'CARES Act',\n",
       "       'CARES Act (F)', 'ARPA', 'CRRSAA'], dtype=object)"
      ]
     },
     "execution_count": 9,
     "metadata": {},
     "output_type": "execute_result"
    }
   ],
   "source": [
    "\"\"\"\n",
    "Create a list that contains the grants you are interested in. \n",
    "A list is great because you can go in and delete/add items. \n",
    "Line below makes it easy to grab the values.\n",
    "\"\"\"\n",
    "df[\"funding_program\"].unique()"
   ]
  },
  {
   "cell_type": "code",
   "execution_count": 10,
   "id": "c767700f-1f17-4b72-b544-57b8aeb3c4b2",
   "metadata": {},
   "outputs": [],
   "source": [
    "# Paste whatever values you want between the brckets.\n",
    "# The values need to be in quotes.\n",
    "grants_wanted = ['Section 5311', '5310 Exp', '5310 Trad', '5311(f) Cont',\n",
    "       '5339 (National)', '5339 (State)', 'CMAQ (FTA 5311)',\n",
    "       'Section 5311(f)', '5311(f) Round 2']"
   ]
  },
  {
   "cell_type": "code",
   "execution_count": 11,
   "id": "bc528005-0ad5-4eb9-920a-7b18c3310370",
   "metadata": {},
   "outputs": [],
   "source": [
    "\"\"\"\n",
    "Keep only the grants in my list and create a NEW variable.\n",
    "It's best to create new variables when you make changes, so you can always reference\n",
    "the original variable. \n",
    "\"\"\"\n",
    "df2 = df[df[\"funding_program\"].isin(grants_wanted)]"
   ]
  },
  {
   "cell_type": "markdown",
   "id": "339b7dbd-2e3f-4305-bd56-403ed5768a63",
   "metadata": {},
   "source": [
    "### Columns you want\n",
    "* Drop irrelvant columns "
   ]
  },
  {
   "cell_type": "code",
   "execution_count": 12,
   "id": "b4645ed6-83be-4021-9876-6b815e5f1524",
   "metadata": {},
   "outputs": [
    {
     "data": {
      "text/plain": [
       "5310 Trad          986\n",
       "Section 5311       720\n",
       "5310 Exp           166\n",
       "Section 5311(f)    140\n",
       "5339 (State)       129\n",
       "5339 (National)     48\n",
       "CMAQ (FTA 5311)     44\n",
       "5311(f) Cont        41\n",
       "5311(f) Round 2     27\n",
       "Name: funding_program, dtype: int64"
      ]
     },
     "execution_count": 12,
     "metadata": {},
     "output_type": "execute_result"
    }
   ],
   "source": [
    "df2['funding_program'].value_counts()"
   ]
  },
  {
   "cell_type": "code",
   "execution_count": 13,
   "id": "fd3c2e5c-419b-4f52-959d-ca651a0029cf",
   "metadata": {},
   "outputs": [
    {
     "data": {
      "text/plain": [
       "Index(['grant_fiscal_year', 'funding_program', 'grant_number', 'project_year',\n",
       "       'organization_name', 'upin', 'description', 'ali', 'contract_number',\n",
       "       'allocationamount', 'encumbered_amount', 'expendedamount',\n",
       "       'activebalance', 'closedoutbalance', 'project_status',\n",
       "       'project_closed_by', 'project_closed_date', 'project_closed_time'],\n",
       "      dtype='object')"
      ]
     },
     "execution_count": 13,
     "metadata": {},
     "output_type": "execute_result"
    }
   ],
   "source": [
    "# List out all your columns\n",
    "df2.columns"
   ]
  },
  {
   "cell_type": "code",
   "execution_count": 14,
   "id": "dece096f-abb5-466f-99e3-128ad26f00c1",
   "metadata": {},
   "outputs": [
    {
     "data": {
      "text/html": [
       "<div>\n",
       "<style scoped>\n",
       "    .dataframe tbody tr th:only-of-type {\n",
       "        vertical-align: middle;\n",
       "    }\n",
       "\n",
       "    .dataframe tbody tr th {\n",
       "        vertical-align: top;\n",
       "    }\n",
       "\n",
       "    .dataframe thead th {\n",
       "        text-align: right;\n",
       "    }\n",
       "</style>\n",
       "<table border=\"1\" class=\"dataframe\">\n",
       "  <thead>\n",
       "    <tr style=\"text-align: right;\">\n",
       "      <th></th>\n",
       "      <th>grant_fiscal_year</th>\n",
       "      <th>funding_program</th>\n",
       "      <th>grant_number</th>\n",
       "      <th>project_year</th>\n",
       "      <th>organization_name</th>\n",
       "      <th>upin</th>\n",
       "      <th>description</th>\n",
       "      <th>ali</th>\n",
       "      <th>contract_number</th>\n",
       "      <th>allocationamount</th>\n",
       "      <th>encumbered_amount</th>\n",
       "      <th>expendedamount</th>\n",
       "      <th>activebalance</th>\n",
       "      <th>closedoutbalance</th>\n",
       "      <th>project_status</th>\n",
       "      <th>project_closed_by</th>\n",
       "      <th>project_closed_date</th>\n",
       "      <th>project_closed_time</th>\n",
       "    </tr>\n",
       "  </thead>\n",
       "  <tbody>\n",
       "    <tr>\n",
       "      <th>0</th>\n",
       "      <td>2011</td>\n",
       "      <td>Section 5311</td>\n",
       "      <td>CA-18-X047 | 0012000083</td>\n",
       "      <td>2016</td>\n",
       "      <td>City of Chowchilla</td>\n",
       "      <td>BCG0000228</td>\n",
       "      <td>Operating Assistance</td>\n",
       "      <td>300902</td>\n",
       "      <td>64BO17-00368</td>\n",
       "      <td>53221.0</td>\n",
       "      <td>114511.0</td>\n",
       "      <td>53221.00</td>\n",
       "      <td>0.00</td>\n",
       "      <td>0</td>\n",
       "      <td>Open</td>\n",
       "      <td>NaN</td>\n",
       "      <td>NaN</td>\n",
       "      <td>NaN</td>\n",
       "    </tr>\n",
       "    <tr>\n",
       "      <th>1</th>\n",
       "      <td>2011</td>\n",
       "      <td>Section 5311</td>\n",
       "      <td>CA-18-X047 | 0012000083</td>\n",
       "      <td>2016</td>\n",
       "      <td>Madera County</td>\n",
       "      <td>BCG0000283</td>\n",
       "      <td>Buy &lt;30-Ft Bus For Expansion</td>\n",
       "      <td>111304</td>\n",
       "      <td>64BC17-00408</td>\n",
       "      <td>110663.0</td>\n",
       "      <td>110663.0</td>\n",
       "      <td>101352.02</td>\n",
       "      <td>9310.98</td>\n",
       "      <td>0</td>\n",
       "      <td>Open</td>\n",
       "      <td>NaN</td>\n",
       "      <td>NaN</td>\n",
       "      <td>NaN</td>\n",
       "    </tr>\n",
       "    <tr>\n",
       "      <th>2</th>\n",
       "      <td>2011</td>\n",
       "      <td>Section 5311</td>\n",
       "      <td>CA-18-X047 | 0012000083</td>\n",
       "      <td>2016</td>\n",
       "      <td>Madera County</td>\n",
       "      <td>BCG0000284</td>\n",
       "      <td>Purchase Replacement Van</td>\n",
       "      <td>111215</td>\n",
       "      <td>64BC17-00408</td>\n",
       "      <td>20643.0</td>\n",
       "      <td>44265.0</td>\n",
       "      <td>20643.00</td>\n",
       "      <td>0.00</td>\n",
       "      <td>0</td>\n",
       "      <td>Open</td>\n",
       "      <td>NaN</td>\n",
       "      <td>NaN</td>\n",
       "      <td>NaN</td>\n",
       "    </tr>\n",
       "    <tr>\n",
       "      <th>3</th>\n",
       "      <td>2012</td>\n",
       "      <td>Section 5311</td>\n",
       "      <td>CA-18-X052 | 0012000304</td>\n",
       "      <td>2016</td>\n",
       "      <td>Madera County</td>\n",
       "      <td>BCG0000284</td>\n",
       "      <td>Purchase Replacement Van</td>\n",
       "      <td>111215</td>\n",
       "      <td>64BC17-00408</td>\n",
       "      <td>23622.0</td>\n",
       "      <td>44265.0</td>\n",
       "      <td>22868.30</td>\n",
       "      <td>753.70</td>\n",
       "      <td>0</td>\n",
       "      <td>Open</td>\n",
       "      <td>NaN</td>\n",
       "      <td>NaN</td>\n",
       "      <td>NaN</td>\n",
       "    </tr>\n",
       "    <tr>\n",
       "      <th>4</th>\n",
       "      <td>2012</td>\n",
       "      <td>Section 5311</td>\n",
       "      <td>CA-18-X052 | 0012000304</td>\n",
       "      <td>2016</td>\n",
       "      <td>Madera County</td>\n",
       "      <td>BCG0000286</td>\n",
       "      <td>Purchase Expansion &lt;30ft Bus</td>\n",
       "      <td>111304</td>\n",
       "      <td>64BC17-00480</td>\n",
       "      <td>22925.0</td>\n",
       "      <td>113319.0</td>\n",
       "      <td>22655.51</td>\n",
       "      <td>269.49</td>\n",
       "      <td>0</td>\n",
       "      <td>Open</td>\n",
       "      <td>NaN</td>\n",
       "      <td>NaN</td>\n",
       "      <td>NaN</td>\n",
       "    </tr>\n",
       "  </tbody>\n",
       "</table>\n",
       "</div>"
      ],
      "text/plain": [
       "   grant_fiscal_year funding_program             grant_number  project_year  \\\n",
       "0               2011    Section 5311  CA-18-X047 | 0012000083          2016   \n",
       "1               2011    Section 5311  CA-18-X047 | 0012000083          2016   \n",
       "2               2011    Section 5311  CA-18-X047 | 0012000083          2016   \n",
       "3               2012    Section 5311  CA-18-X052 | 0012000304          2016   \n",
       "4               2012    Section 5311  CA-18-X052 | 0012000304          2016   \n",
       "\n",
       "     organization_name        upin                   description     ali  \\\n",
       "0  City of Chowchilla   BCG0000228          Operating Assistance  300902   \n",
       "1        Madera County  BCG0000283  Buy <30-Ft Bus For Expansion  111304   \n",
       "2        Madera County  BCG0000284      Purchase Replacement Van  111215   \n",
       "3        Madera County  BCG0000284      Purchase Replacement Van  111215   \n",
       "4        Madera County  BCG0000286  Purchase Expansion <30ft Bus  111304   \n",
       "\n",
       "  contract_number  allocationamount  encumbered_amount  expendedamount  \\\n",
       "0    64BO17-00368           53221.0           114511.0        53221.00   \n",
       "1    64BC17-00408          110663.0           110663.0       101352.02   \n",
       "2    64BC17-00408           20643.0            44265.0        20643.00   \n",
       "3    64BC17-00408           23622.0            44265.0        22868.30   \n",
       "4    64BC17-00480           22925.0           113319.0        22655.51   \n",
       "\n",
       "   activebalance  closedoutbalance project_status  project_closed_by  \\\n",
       "0           0.00                 0           Open                NaN   \n",
       "1        9310.98                 0           Open                NaN   \n",
       "2           0.00                 0           Open                NaN   \n",
       "3         753.70                 0           Open                NaN   \n",
       "4         269.49                 0           Open                NaN   \n",
       "\n",
       "   project_closed_date  project_closed_time  \n",
       "0                  NaN                  NaN  \n",
       "1                  NaN                  NaN  \n",
       "2                  NaN                  NaN  \n",
       "3                  NaN                  NaN  \n",
       "4                  NaN                  NaN  "
      ]
     },
     "execution_count": 14,
     "metadata": {},
     "output_type": "execute_result"
    }
   ],
   "source": [
    "df2.head()"
   ]
  },
  {
   "cell_type": "code",
   "execution_count": 15,
   "id": "b0a8ab7f-d3a7-4d2e-859a-40a2ecc91a8e",
   "metadata": {},
   "outputs": [],
   "source": [
    "# Copy and paste the irrelevant ones into this list below\n",
    "unwanted_columns = ['grant_number', \n",
    "     'upin', 'description', 'ali', 'contract_number',\n",
    "       'allocationamount', 'encumbered_amount', 'expendedamount',\n",
    "       'activebalance', 'closedoutbalance', 'project_closed_by', 'project_closed_date', 'project_closed_time']"
   ]
  },
  {
   "cell_type": "code",
   "execution_count": 16,
   "id": "89b92403-85c4-4666-ba78-5e684a69d607",
   "metadata": {},
   "outputs": [],
   "source": [
    "# Drop them - assign to a new dataframe if you wish\n",
    "df2 = df2.drop(columns=unwanted_columns)"
   ]
  },
  {
   "cell_type": "code",
   "execution_count": 17,
   "id": "45f499ef-48ac-4bc5-97a5-2f8fa3470931",
   "metadata": {},
   "outputs": [
    {
     "data": {
      "text/html": [
       "<div>\n",
       "<style scoped>\n",
       "    .dataframe tbody tr th:only-of-type {\n",
       "        vertical-align: middle;\n",
       "    }\n",
       "\n",
       "    .dataframe tbody tr th {\n",
       "        vertical-align: top;\n",
       "    }\n",
       "\n",
       "    .dataframe thead th {\n",
       "        text-align: right;\n",
       "    }\n",
       "</style>\n",
       "<table border=\"1\" class=\"dataframe\">\n",
       "  <thead>\n",
       "    <tr style=\"text-align: right;\">\n",
       "      <th></th>\n",
       "      <th>grant_fiscal_year</th>\n",
       "      <th>funding_program</th>\n",
       "      <th>project_year</th>\n",
       "      <th>organization_name</th>\n",
       "      <th>project_status</th>\n",
       "    </tr>\n",
       "  </thead>\n",
       "  <tbody>\n",
       "    <tr>\n",
       "      <th>2489</th>\n",
       "      <td>2021</td>\n",
       "      <td>Section 5311</td>\n",
       "      <td>2021</td>\n",
       "      <td>County of Tulare</td>\n",
       "      <td>Open</td>\n",
       "    </tr>\n",
       "    <tr>\n",
       "      <th>404</th>\n",
       "      <td>2017</td>\n",
       "      <td>5310 Trad</td>\n",
       "      <td>2017</td>\n",
       "      <td>Inyo-Mono Association for the Handicapped</td>\n",
       "      <td>Open</td>\n",
       "    </tr>\n",
       "    <tr>\n",
       "      <th>625</th>\n",
       "      <td>2017</td>\n",
       "      <td>5310 Trad</td>\n",
       "      <td>2017</td>\n",
       "      <td>Vivalon, Inc.</td>\n",
       "      <td>Open</td>\n",
       "    </tr>\n",
       "    <tr>\n",
       "      <th>665</th>\n",
       "      <td>2017</td>\n",
       "      <td>5339 (State)</td>\n",
       "      <td>2017</td>\n",
       "      <td>City of Rio Vista</td>\n",
       "      <td>Open</td>\n",
       "    </tr>\n",
       "    <tr>\n",
       "      <th>545</th>\n",
       "      <td>2017</td>\n",
       "      <td>5310 Trad</td>\n",
       "      <td>2017</td>\n",
       "      <td>S.M.O.O.T.H.</td>\n",
       "      <td>Open</td>\n",
       "    </tr>\n",
       "  </tbody>\n",
       "</table>\n",
       "</div>"
      ],
      "text/plain": [
       "      grant_fiscal_year funding_program  project_year  \\\n",
       "2489               2021    Section 5311          2021   \n",
       "404                2017       5310 Trad          2017   \n",
       "625                2017       5310 Trad          2017   \n",
       "665                2017    5339 (State)          2017   \n",
       "545                2017       5310 Trad          2017   \n",
       "\n",
       "                              organization_name project_status  \n",
       "2489                           County of Tulare           Open  \n",
       "404   Inyo-Mono Association for the Handicapped           Open  \n",
       "625                               Vivalon, Inc.           Open  \n",
       "665                           City of Rio Vista           Open  \n",
       "545                                S.M.O.O.T.H.           Open  "
      ]
     },
     "execution_count": 17,
     "metadata": {},
     "output_type": "execute_result"
    }
   ],
   "source": [
    "# Check out your hard work with 5 random rows. Is this what you want?\n",
    "df2.sample(5)"
   ]
  },
  {
   "cell_type": "markdown",
   "id": "2cda8c02-d0e9-4f0b-b9ad-992d4543bd7d",
   "metadata": {
    "tags": []
   },
   "source": [
    "## Insights\n",
    "* Now that you have a clean data frame, it's time to get some insights.\n"
   ]
  },
  {
   "cell_type": "markdown",
   "id": "f663f539-2a1c-4c0c-bbb3-00444bcad175",
   "metadata": {
    "tags": []
   },
   "source": [
    "### Do these organizations overlap between 5310 and 5311?\n",
    "* For Airtable\n",
    "* Currently our dataframe contains both 5311 and 5310. \n",
    "* To compare the agencies, we need to break apart the dataframe so each grant will have its own dataframe."
   ]
  },
  {
   "cell_type": "code",
   "execution_count": 18,
   "id": "a1052396-fc60-4619-bb1f-46d2c0634ef1",
   "metadata": {},
   "outputs": [],
   "source": [
    "\"\"\"\n",
    "Filter out for years. Check the data type of the column you are filtering on. \n",
    "Perhaps years will need quotes because it's an object or maybe it's an integer, so \n",
    "no quotes are necessary.\n",
    "\"\"\"\n",
    "df3 = df2[df2[\"project_year\"] > 2018]"
   ]
  },
  {
   "cell_type": "code",
   "execution_count": 19,
   "id": "d4e5ef04-8c87-4182-ac78-3315d3235219",
   "metadata": {},
   "outputs": [],
   "source": [
    "\"\"\"\n",
    "Filter out for only 5311. \n",
    "This ignores the case, so 'ac transit' and 'AC TRANSIT' will show up.\n",
    "\"\"\"\n",
    "df_5311 = df3[(df3.funding_program.str.contains(\"5311\", case=False))]"
   ]
  },
  {
   "cell_type": "code",
   "execution_count": 20,
   "id": "4424028f-3f8e-474d-a575-26530b499617",
   "metadata": {},
   "outputs": [
    {
     "data": {
      "text/plain": [
       "Section 5311       416\n",
       "Section 5311(f)    112\n",
       "5311(f) Round 2     27\n",
       "CMAQ (FTA 5311)     24\n",
       "Name: funding_program, dtype: int64"
      ]
     },
     "execution_count": 20,
     "metadata": {},
     "output_type": "execute_result"
    }
   ],
   "source": [
    "df_5311['funding_program'].value_counts()"
   ]
  },
  {
   "cell_type": "code",
   "execution_count": 21,
   "id": "7a3b9cdf-a637-4678-8171-2da05f8aae41",
   "metadata": {},
   "outputs": [
    {
     "data": {
      "text/plain": [
       "579"
      ]
     },
     "execution_count": 21,
     "metadata": {},
     "output_type": "execute_result"
    }
   ],
   "source": [
    "# Check out the length, aka # of rows after filtering\n",
    "len(df_5311)"
   ]
  },
  {
   "cell_type": "code",
   "execution_count": 22,
   "id": "cebdffbc-6d37-4241-9159-1056835dda52",
   "metadata": {},
   "outputs": [],
   "source": [
    "# Repeat same steps for 5310, make sure to cast this into a different dataframe"
   ]
  },
  {
   "cell_type": "code",
   "execution_count": 23,
   "id": "d479d9f5-5c15-4eaa-8291-657635d5929b",
   "metadata": {},
   "outputs": [],
   "source": [
    "df_5310 = df3[(df3.funding_program.str.contains(\"5310\", case=False))]"
   ]
  },
  {
   "cell_type": "code",
   "execution_count": 24,
   "id": "fa568b0c-a9e1-4c59-a817-91a4ba467e65",
   "metadata": {},
   "outputs": [
    {
     "data": {
      "text/plain": [
       "5310 Trad    547\n",
       "5310 Exp      88\n",
       "Name: funding_program, dtype: int64"
      ]
     },
     "execution_count": 24,
     "metadata": {},
     "output_type": "execute_result"
    }
   ],
   "source": [
    "df_5310['funding_program'].value_counts()"
   ]
  },
  {
   "cell_type": "code",
   "execution_count": 25,
   "id": "ab7124c9-d661-4c8a-975c-8fa33c5b8179",
   "metadata": {},
   "outputs": [],
   "source": [
    "df_5339 = df3[(df3.funding_program.str.contains(\"5339\", case=False))]"
   ]
  },
  {
   "cell_type": "code",
   "execution_count": 26,
   "id": "7ec8de6c-ad5a-45f2-a9bf-7db03ea3f1c9",
   "metadata": {},
   "outputs": [
    {
     "data": {
      "text/plain": [
       "5339 (State)       98\n",
       "5339 (National)    30\n",
       "Name: funding_program, dtype: int64"
      ]
     },
     "execution_count": 26,
     "metadata": {},
     "output_type": "execute_result"
    }
   ],
   "source": [
    "df_5339['funding_program'].value_counts()"
   ]
  },
  {
   "cell_type": "code",
   "execution_count": 27,
   "id": "99069164-5fbb-4380-a368-1a6d3022e787",
   "metadata": {},
   "outputs": [
    {
     "data": {
      "text/plain": [
       "1342"
      ]
     },
     "execution_count": 27,
     "metadata": {},
     "output_type": "execute_result"
    }
   ],
   "source": [
    "len(df3)"
   ]
  },
  {
   "cell_type": "code",
   "execution_count": 28,
   "id": "71872159-20c8-4c40-a95e-554bee9d3df6",
   "metadata": {},
   "outputs": [
    {
     "data": {
      "text/plain": [
       "1342"
      ]
     },
     "execution_count": 28,
     "metadata": {},
     "output_type": "execute_result"
    }
   ],
   "source": [
    "len(df_5310) + len(df_5311) + len(df_5339)"
   ]
  },
  {
   "cell_type": "code",
   "execution_count": 31,
   "id": "68d3e9ef-7dfa-4f6c-be93-6ab4e1e41ce8",
   "metadata": {},
   "outputs": [
    {
     "data": {
      "text/plain": [
       "True"
      ]
     },
     "execution_count": 31,
     "metadata": {},
     "output_type": "execute_result"
    }
   ],
   "source": [
    "len(df3) == (len(df_5310) + len(df_5311) + len(df_5339))"
   ]
  },
  {
   "cell_type": "markdown",
   "id": "8a5adb69-5079-44da-8933-627e7afac1b9",
   "metadata": {
    "tags": []
   },
   "source": [
    "#### Merge the split dataframes together\n",
    "<img src= \"download.jfif\"> "
   ]
  },
  {
   "cell_type": "markdown",
   "id": "d2061427-3b27-4b32-b049-80bdeb0f8f05",
   "metadata": {
    "tags": []
   },
   "source": [
    "* Merging = joining two data sets on any columns they have in common.\n",
    "* [Merge types & tutorials](https://www.datasciencemadesimple.com/join-merge-data-frames-pandas-python/)\n",
    "* Merge agency_info table below and merge it with our df\n",
    "* Now that you have 2 dataframes, compare them with an outer merge.\n",
    "     * By using an outer merge, we can find out whether an agency appears in both 5311 and 5310, only the 5311, or only the 5310 through the indicator column that we turned out\n",
    "     "
   ]
  },
  {
   "cell_type": "code",
   "execution_count": 30,
   "id": "3d02a8aa-899d-47a1-abce-661e482c9a8f",
   "metadata": {
    "tags": []
   },
   "outputs": [
    {
     "ename": "NameError",
     "evalue": "name 'm2' is not defined",
     "output_type": "error",
     "traceback": [
      "\u001b[0;31m---------------------------------------------------------------------------\u001b[0m",
      "\u001b[0;31mNameError\u001b[0m                                 Traceback (most recent call last)",
      "Input \u001b[0;32mIn [30]\u001b[0m, in \u001b[0;36m<cell line: 5>\u001b[0;34m()\u001b[0m\n\u001b[1;32m      1\u001b[0m \u001b[38;5;124;03m\"\"\"\u001b[39;00m\n\u001b[1;32m      2\u001b[0m \u001b[38;5;124;03mSave your merge results into a new dataframe called m1.\u001b[39;00m\n\u001b[1;32m      3\u001b[0m \u001b[38;5;124;03mFYI: you can merge on more than one column! \u001b[39;00m\n\u001b[1;32m      4\u001b[0m \u001b[38;5;124;03m\"\"\"\u001b[39;00m\n\u001b[0;32m----> 5\u001b[0m m2 \u001b[38;5;241m=\u001b[39m \u001b[43mm2\u001b[49m\u001b[38;5;241m.\u001b[39mmerge(\n\u001b[1;32m      6\u001b[0m     your_df1,\n\u001b[1;32m      7\u001b[0m     your_df2,\n\u001b[1;32m      8\u001b[0m     how\u001b[38;5;241m=\u001b[39m\u001b[38;5;124m\"\u001b[39m\u001b[38;5;124mouter\u001b[39m\u001b[38;5;124m\"\u001b[39m,\n\u001b[1;32m      9\u001b[0m     on\u001b[38;5;241m=\u001b[39m[\u001b[38;5;124m\"\u001b[39m\u001b[38;5;124mALL the columns they have in common\u001b[39m\u001b[38;5;124m\"\u001b[39m],\n\u001b[1;32m     10\u001b[0m     indicator\u001b[38;5;241m=\u001b[39m\u001b[38;5;28;01mTrue\u001b[39;00m,\n\u001b[1;32m     11\u001b[0m )\n",
      "\u001b[0;31mNameError\u001b[0m: name 'm2' is not defined"
     ]
    }
   ],
   "source": [
    "\"\"\"\n",
    "Save your merge results into a new dataframe called m1.\n",
    "FYI: you can merge on more than one column! \n",
    "\"\"\"\n",
    "m2 = m2.merge(\n",
    "    your_df1,\n",
    "    your_df2,\n",
    "    how=\"outer\",\n",
    "    on=[\"ALL the columns they have in common\"],\n",
    "    indicator=True,\n",
    ")"
   ]
  },
  {
   "cell_type": "code",
   "execution_count": null,
   "id": "eb307012-04ca-4914-a1b9-e362ebb17cd0",
   "metadata": {},
   "outputs": [],
   "source": [
    "\"\"\"\n",
    "Indicator values are both/left/only. You can \n",
    "change the values to something like 'both 5310 and 5311',\n",
    "'5311 only', etc. Scroll back up to the 'duplicate values'\n",
    "section to change these values with a dictionary.\n",
    "\"\"\"\n",
    "# Create a new copy of column _merge"
   ]
  },
  {
   "cell_type": "code",
   "execution_count": null,
   "id": "658eeb0d-474e-44b7-92e3-eef68f42b037",
   "metadata": {},
   "outputs": [],
   "source": [
    "# Drop _merge column because we can't have two _merge columns in the same dataframe"
   ]
  },
  {
   "cell_type": "code",
   "execution_count": null,
   "id": "8e606bbb-4494-4b30-85eb-c8622e14e1ac",
   "metadata": {},
   "outputs": [],
   "source": [
    "# Map the values "
   ]
  },
  {
   "cell_type": "markdown",
   "id": "00c1268e-39e8-4c58-99eb-1f0ab23a1ab7",
   "metadata": {},
   "source": [
    "### Repeat this step for 5339\n",
    "\n",
    "* [Function from here](https://github.com/cal-itp/data-analyses/blob/main/Agreement_Overlap/add_dla.ipynb)"
   ]
  },
  {
   "cell_type": "code",
   "execution_count": null,
   "id": "6cb220e9-d30b-4cbb-b7f5-5e825ef44cc8",
   "metadata": {},
   "outputs": [],
   "source": []
  },
  {
   "cell_type": "markdown",
   "id": "a54e0507-9298-4ed8-98a2-d782599eb403",
   "metadata": {},
   "source": [
    "## Save your work\n",
    "* You can save all your hardwork into a single Excel workbook to our [Google Cloud Storage](https://console.cloud.google.com/storage/browser/calitp-analytics-data/data-analyses/grants;tab=objects?project=cal-itp-data-infra&prefix=&forceOnObjectsSortingFiltering=false)."
   ]
  },
  {
   "cell_type": "code",
   "execution_count": null,
   "id": "b89dd04a-0d26-48a5-9782-b7c73a380421",
   "metadata": {},
   "outputs": [],
   "source": [
    "# This will be saved to our GCS bucket.\n",
    "with pd.ExcelWriter(\n",
    "    \"gs://calitp-analytics-data/data-analyses/grants/put your file name here.xlsx\"\n",
    ") as writer:\n",
    "    your_df1.to_excel(writer, sheet_name=\"your name\", index=False)\n",
    "    your_df2.to_excel(writer, sheet_name=\"your name\", index=False)"
   ]
  }
 ],
 "metadata": {
  "kernelspec": {
   "display_name": "Python 3 (ipykernel)",
   "language": "python",
   "name": "python3"
  },
  "language_info": {
   "codemirror_mode": {
    "name": "ipython",
    "version": 3
   },
   "file_extension": ".py",
   "mimetype": "text/x-python",
   "name": "python",
   "nbconvert_exporter": "python",
   "pygments_lexer": "ipython3",
   "version": "3.10.4"
  }
 },
 "nbformat": 4,
 "nbformat_minor": 5
}
