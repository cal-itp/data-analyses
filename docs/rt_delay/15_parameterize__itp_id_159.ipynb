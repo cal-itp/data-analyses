{
 "cells": [
  {
   "cell_type": "markdown",
   "id": "046d6d1d-6913-43ef-9aa4-bee60d2a0645",
   "metadata": {
    "papermill": {
     "duration": 0.011984,
     "end_time": "2022-04-12T02:48:32.689687",
     "exception": false,
     "start_time": "2022-04-12T02:48:32.677703",
     "status": "completed"
    },
    "tags": []
   },
   "source": [
    "# RT Delay Analysis for ITP ID 159"
   ]
  },
  {
   "cell_type": "code",
   "execution_count": 1,
   "id": "5019a239-e226-4a6e-b3eb-b9be480f8df7",
   "metadata": {
    "execution": {
     "iopub.execute_input": "2022-04-12T02:48:32.719442Z",
     "iopub.status.busy": "2022-04-12T02:48:32.718925Z",
     "iopub.status.idle": "2022-04-12T02:48:41.819662Z",
     "shell.execute_reply": "2022-04-12T02:48:41.818563Z"
    },
    "jupyter": {
     "source_hidden": true
    },
    "papermill": {
     "duration": 9.119244,
     "end_time": "2022-04-12T02:48:41.823286",
     "exception": false,
     "start_time": "2022-04-12T02:48:32.704042",
     "status": "completed"
    },
    "tags": [
     "remove_input"
    ]
   },
   "outputs": [],
   "source": [
    "%%capture\n",
    "import warnings\n",
    "warnings.filterwarnings('ignore')\n",
    "\n",
    "import os\n",
    "os.environ[\"CALITP_BQ_MAX_BYTES\"] = str(800_000_000_000)\n",
    "import shared_utils\n",
    "import utils\n",
    "\n",
    "from siuba import *\n",
    "import pandas as pd\n",
    "import geopandas as gpd\n",
    "\n",
    "import datetime as dt\n",
    "\n",
    "import importlib\n",
    "import rt_filter_map_plot"
   ]
  },
  {
   "cell_type": "code",
   "execution_count": 2,
   "id": "9f15ed6a-5ab7-4f57-9695-3f762781b74c",
   "metadata": {
    "execution": {
     "iopub.execute_input": "2022-04-12T02:48:41.852328Z",
     "iopub.status.busy": "2022-04-12T02:48:41.851453Z",
     "iopub.status.idle": "2022-04-12T02:48:41.856917Z",
     "shell.execute_reply": "2022-04-12T02:48:41.856002Z"
    },
    "jupyter": {
     "source_hidden": true
    },
    "papermill": {
     "duration": 0.021862,
     "end_time": "2022-04-12T02:48:41.859271",
     "exception": false,
     "start_time": "2022-04-12T02:48:41.837409",
     "status": "completed"
    },
    "tags": [
     "parameters",
     "remove_input"
    ]
   },
   "outputs": [],
   "source": [
    "## parameters cell\n",
    "itp_id = 300"
   ]
  },
  {
   "cell_type": "code",
   "execution_count": 3,
   "id": "2007f546",
   "metadata": {
    "execution": {
     "iopub.execute_input": "2022-04-12T02:48:41.887884Z",
     "iopub.status.busy": "2022-04-12T02:48:41.887295Z",
     "iopub.status.idle": "2022-04-12T02:48:41.893420Z",
     "shell.execute_reply": "2022-04-12T02:48:41.892312Z"
    },
    "jupyter": {
     "source_hidden": true
    },
    "papermill": {
     "duration": 0.023514,
     "end_time": "2022-04-12T02:48:41.896439",
     "exception": false,
     "start_time": "2022-04-12T02:48:41.872925",
     "status": "completed"
    },
    "tags": [
     "injected-parameters",
     "remove_input"
    ]
   },
   "outputs": [],
   "source": [
    "# Parameters\n",
    "itp_id = 159\n"
   ]
  },
  {
   "cell_type": "code",
   "execution_count": 4,
   "id": "306a7053-3fab-4723-a287-111e4eba11f2",
   "metadata": {
    "execution": {
     "iopub.execute_input": "2022-04-12T02:48:41.922873Z",
     "iopub.status.busy": "2022-04-12T02:48:41.922521Z",
     "iopub.status.idle": "2022-04-12T02:48:41.928081Z",
     "shell.execute_reply": "2022-04-12T02:48:41.927289Z"
    },
    "jupyter": {
     "source_hidden": true
    },
    "papermill": {
     "duration": 0.021831,
     "end_time": "2022-04-12T02:48:41.930258",
     "exception": false,
     "start_time": "2022-04-12T02:48:41.908427",
     "status": "completed"
    },
    "tags": [
     "remove_input"
    ]
   },
   "outputs": [],
   "source": [
    "analysis_date = dt.date(2022, 3, 30) ##TODO shift to Mar 30 for all?"
   ]
  },
  {
   "cell_type": "code",
   "execution_count": 5,
   "id": "1739d979-cd4d-456c-a1ad-a016cbf69cad",
   "metadata": {
    "execution": {
     "iopub.execute_input": "2022-04-12T02:48:41.957612Z",
     "iopub.status.busy": "2022-04-12T02:48:41.956817Z",
     "iopub.status.idle": "2022-04-12T02:48:42.302469Z",
     "shell.execute_reply": "2022-04-12T02:48:42.301570Z"
    },
    "jupyter": {
     "source_hidden": true
    },
    "papermill": {
     "duration": 0.36192,
     "end_time": "2022-04-12T02:48:42.304983",
     "exception": false,
     "start_time": "2022-04-12T02:48:41.943063",
     "status": "completed"
    },
    "tags": [
     "remove_input"
    ]
   },
   "outputs": [],
   "source": [
    "trips = pd.read_parquet(f'{utils.GCS_FILE_PATH}rt_trips/{itp_id}_03_30.parquet')"
   ]
  },
  {
   "cell_type": "code",
   "execution_count": 6,
   "id": "b77a9167-4017-4367-8fed-d4e6bf3999b9",
   "metadata": {
    "execution": {
     "iopub.execute_input": "2022-04-12T02:48:42.334752Z",
     "iopub.status.busy": "2022-04-12T02:48:42.333914Z",
     "iopub.status.idle": "2022-04-12T02:48:42.687085Z",
     "shell.execute_reply": "2022-04-12T02:48:42.686391Z"
    },
    "jupyter": {
     "source_hidden": true
    },
    "papermill": {
     "duration": 0.37052,
     "end_time": "2022-04-12T02:48:42.689541",
     "exception": false,
     "start_time": "2022-04-12T02:48:42.319021",
     "status": "completed"
    },
    "tags": [
     "remove_input"
    ]
   },
   "outputs": [],
   "source": [
    "stop_delay = gpd.read_parquet(f'{utils.GCS_FILE_PATH}stop_delay_views/{itp_id}_03_30.parquet')\n",
    "stop_delay['arrival_time'] = stop_delay.arrival_time.map(lambda x: dt.datetime.fromisoformat(x))\n",
    "stop_delay['actual_time'] = stop_delay.actual_time.map(lambda x: dt.datetime.fromisoformat(x))"
   ]
  },
  {
   "cell_type": "code",
   "execution_count": 7,
   "id": "2b2fe439-10af-4140-ab83-69b05c385b40",
   "metadata": {
    "execution": {
     "iopub.execute_input": "2022-04-12T02:48:42.721585Z",
     "iopub.status.busy": "2022-04-12T02:48:42.720431Z",
     "iopub.status.idle": "2022-04-12T02:48:45.893583Z",
     "shell.execute_reply": "2022-04-12T02:48:45.892514Z"
    },
    "jupyter": {
     "source_hidden": true
    },
    "papermill": {
     "duration": 3.192553,
     "end_time": "2022-04-12T02:48:45.896459",
     "exception": false,
     "start_time": "2022-04-12T02:48:42.703906",
     "status": "completed"
    },
    "tags": [
     "remove_input"
    ]
   },
   "outputs": [],
   "source": [
    "%%capture\n",
    "routelines = utils.get_routelines(itp_id, analysis_date)"
   ]
  },
  {
   "cell_type": "code",
   "execution_count": 8,
   "id": "e4cbefc6-9bbb-4989-85b7-1f31da17fcb8",
   "metadata": {
    "execution": {
     "iopub.execute_input": "2022-04-12T02:48:45.929146Z",
     "iopub.status.busy": "2022-04-12T02:48:45.928048Z",
     "iopub.status.idle": "2022-04-12T02:48:45.935838Z",
     "shell.execute_reply": "2022-04-12T02:48:45.935045Z"
    },
    "jupyter": {
     "source_hidden": true
    },
    "papermill": {
     "duration": 0.024212,
     "end_time": "2022-04-12T02:48:45.938242",
     "exception": false,
     "start_time": "2022-04-12T02:48:45.914030",
     "status": "completed"
    },
    "tags": [
     "remove_input"
    ]
   },
   "outputs": [],
   "source": [
    "%%capture\n",
    "rt_day = rt_filter_map_plot.RtFilterMapper(trips, stop_delay, routelines)"
   ]
  },
  {
   "cell_type": "code",
   "execution_count": 9,
   "id": "de86aac8-6181-400c-a991-8e66ec770961",
   "metadata": {
    "execution": {
     "iopub.execute_input": "2022-04-12T02:48:45.966147Z",
     "iopub.status.busy": "2022-04-12T02:48:45.965331Z",
     "iopub.status.idle": "2022-04-12T02:48:45.973655Z",
     "shell.execute_reply": "2022-04-12T02:48:45.972905Z"
    },
    "jupyter": {
     "source_hidden": true
    },
    "papermill": {
     "duration": 0.024717,
     "end_time": "2022-04-12T02:48:45.975986",
     "exception": false,
     "start_time": "2022-04-12T02:48:45.951269",
     "status": "completed"
    },
    "tags": [
     "remove_input"
    ]
   },
   "outputs": [],
   "source": [
    "%%capture\n",
    "rt_day.set_filter(start_time='15:00', end_time='19:00')"
   ]
  },
  {
   "cell_type": "code",
   "execution_count": 10,
   "id": "8e940d3d-c76e-42ba-be8b-739852771ca6",
   "metadata": {
    "execution": {
     "iopub.execute_input": "2022-04-12T02:48:46.003700Z",
     "iopub.status.busy": "2022-04-12T02:48:46.002226Z",
     "iopub.status.idle": "2022-04-12T02:48:46.010431Z",
     "shell.execute_reply": "2022-04-12T02:48:46.009275Z"
    },
    "jupyter": {
     "source_hidden": true
    },
    "papermill": {
     "duration": 0.024809,
     "end_time": "2022-04-12T02:48:46.012867",
     "exception": false,
     "start_time": "2022-04-12T02:48:45.988058",
     "status": "completed"
    },
    "tags": [
     "remove_input"
    ]
   },
   "outputs": [],
   "source": [
    "## avoid papermill errors when map fails to render\n",
    "m = None"
   ]
  },
  {
   "cell_type": "code",
   "execution_count": 11,
   "id": "5e46b095-7bc2-4552-a37b-661d076b2b51",
   "metadata": {
    "execution": {
     "iopub.execute_input": "2022-04-12T02:48:46.043314Z",
     "iopub.status.busy": "2022-04-12T02:48:46.042451Z",
     "iopub.status.idle": "2022-04-12T02:48:47.973138Z",
     "shell.execute_reply": "2022-04-12T02:48:47.972440Z"
    },
    "jupyter": {
     "source_hidden": true
    },
    "papermill": {
     "duration": 1.947261,
     "end_time": "2022-04-12T02:48:47.975279",
     "exception": false,
     "start_time": "2022-04-12T02:48:46.028018",
     "status": "completed"
    },
    "tags": [
     "remove_input"
    ]
   },
   "outputs": [],
   "source": [
    "%%capture\n",
    "m = rt_day.segment_speed_map(how='low_speeds')"
   ]
  },
  {
   "cell_type": "code",
   "execution_count": 12,
   "id": "0393f107-e9fe-4982-961a-032f7bf4e0eb",
   "metadata": {
    "execution": {
     "iopub.execute_input": "2022-04-12T02:48:48.005040Z",
     "iopub.status.busy": "2022-04-12T02:48:48.004656Z",
     "iopub.status.idle": "2022-04-12T02:48:48.017722Z",
     "shell.execute_reply": "2022-04-12T02:48:48.016237Z"
    },
    "jupyter": {
     "source_hidden": true
    },
    "papermill": {
     "duration": 0.030904,
     "end_time": "2022-04-12T02:48:48.020505",
     "exception": false,
     "start_time": "2022-04-12T02:48:47.989601",
     "status": "completed"
    },
    "tags": [
     "remove_input"
    ]
   },
   "outputs": [],
   "source": [
    "m"
   ]
  },
  {
   "cell_type": "code",
   "execution_count": 13,
   "id": "533a64f4-f374-4f2c-94d3-5146ebe7c036",
   "metadata": {
    "execution": {
     "iopub.execute_input": "2022-04-12T02:48:48.052337Z",
     "iopub.status.busy": "2022-04-12T02:48:48.050763Z",
     "iopub.status.idle": "2022-04-12T02:48:48.058774Z",
     "shell.execute_reply": "2022-04-12T02:48:48.058018Z"
    },
    "jupyter": {
     "source_hidden": true
    },
    "papermill": {
     "duration": 0.025496,
     "end_time": "2022-04-12T02:48:48.061459",
     "exception": false,
     "start_time": "2022-04-12T02:48:48.035963",
     "status": "completed"
    },
    "tags": [
     "remove_input"
    ]
   },
   "outputs": [],
   "source": [
    "%%capture\n",
    "rt_day.set_filter(start_time='07:00', end_time='09:00')"
   ]
  },
  {
   "cell_type": "code",
   "execution_count": 14,
   "id": "2f317120-99ee-435b-96cd-1236b8ee2e0b",
   "metadata": {
    "execution": {
     "iopub.execute_input": "2022-04-12T02:48:48.091360Z",
     "iopub.status.busy": "2022-04-12T02:48:48.090709Z",
     "iopub.status.idle": "2022-04-12T02:48:48.161282Z",
     "shell.execute_reply": "2022-04-12T02:48:48.160149Z"
    },
    "jupyter": {
     "source_hidden": true
    },
    "papermill": {
     "duration": 0.089094,
     "end_time": "2022-04-12T02:48:48.164244",
     "exception": false,
     "start_time": "2022-04-12T02:48:48.075150",
     "status": "completed"
    },
    "tags": [
     "remove_input"
    ]
   },
   "outputs": [],
   "source": [
    "%%capture\n",
    "m = rt_day.segment_speed_map(how='low_speeds')"
   ]
  },
  {
   "cell_type": "code",
   "execution_count": 15,
   "id": "275087be-b46d-4acb-95fe-2dc98c2089a2",
   "metadata": {
    "execution": {
     "iopub.execute_input": "2022-04-12T02:48:48.198545Z",
     "iopub.status.busy": "2022-04-12T02:48:48.197122Z",
     "iopub.status.idle": "2022-04-12T02:48:48.203193Z",
     "shell.execute_reply": "2022-04-12T02:48:48.202467Z"
    },
    "jupyter": {
     "source_hidden": true
    },
    "papermill": {
     "duration": 0.024708,
     "end_time": "2022-04-12T02:48:48.205500",
     "exception": false,
     "start_time": "2022-04-12T02:48:48.180792",
     "status": "completed"
    },
    "tags": [
     "remove_input"
    ]
   },
   "outputs": [],
   "source": [
    "m"
   ]
  },
  {
   "cell_type": "code",
   "execution_count": 16,
   "id": "91874f76-635b-4fde-8d61-abc795aca6c6",
   "metadata": {
    "execution": {
     "iopub.execute_input": "2022-04-12T02:48:48.236109Z",
     "iopub.status.busy": "2022-04-12T02:48:48.234954Z",
     "iopub.status.idle": "2022-04-12T02:48:48.269708Z",
     "shell.execute_reply": "2022-04-12T02:48:48.268716Z"
    },
    "jupyter": {
     "source_hidden": true
    },
    "papermill": {
     "duration": 0.052944,
     "end_time": "2022-04-12T02:48:48.272485",
     "exception": false,
     "start_time": "2022-04-12T02:48:48.219541",
     "status": "completed"
    },
    "tags": [
     "remove_input"
    ]
   },
   "outputs": [],
   "source": [
    "try:\n",
    "    metrics_df = (rt_day.rt_trips\n",
    "         >> group_by(_.route_short_name, _.direction_id)\n",
    "         >> summarize(speed_variance = _.mean_speed_mph.var(),\n",
    "                     mean_speed_mph = _.mean_speed_mph.mean(),\n",
    "                     min_hour = _.median_time.min().hour,\n",
    "                     max_hour = _.median_time.max().hour)\n",
    "         >> filter(_.min_hour <= 7, _.max_hour >= 15,\n",
    "                   _.mean_speed_mph < _.mean_speed_mph.quantile(.6),\n",
    "                   _.speed_variance)\n",
    "         >> arrange(-_.speed_variance)\n",
    "         >> head(20)\n",
    "        )\n",
    "    metrics_df\n",
    "except Exception as e:\n",
    "    print(e)\n",
    "## check that route has all-day span..."
   ]
  },
  {
   "cell_type": "code",
   "execution_count": 17,
   "id": "758b0bae-32d0-40dd-a1d1-1d107b0e7e8b",
   "metadata": {
    "execution": {
     "iopub.execute_input": "2022-04-12T02:48:48.304173Z",
     "iopub.status.busy": "2022-04-12T02:48:48.303376Z",
     "iopub.status.idle": "2022-04-12T02:48:48.313624Z",
     "shell.execute_reply": "2022-04-12T02:48:48.312283Z"
    },
    "jupyter": {
     "source_hidden": true
    },
    "papermill": {
     "duration": 0.028296,
     "end_time": "2022-04-12T02:48:48.316091",
     "exception": false,
     "start_time": "2022-04-12T02:48:48.287795",
     "status": "completed"
    },
    "tags": [
     "remove_input"
    ]
   },
   "outputs": [],
   "source": [
    "def map_from_metrics(rt_day, metrics_df):\n",
    "    try:\n",
    "        route_name = metrics_df.iloc[1,0]\n",
    "        direction_id = metrics_df.iloc[1,1]\n",
    "    except Exception as e:\n",
    "        print(e)\n",
    "        return\n",
    "    # route_name = '281'\n",
    "    # direction_id = '1'\n",
    "    rt_day.set_filter(start_time='07:00', end_time='09:00',\n",
    "                      route_names=[route_name], direction_id = direction_id)\n",
    "    try:\n",
    "        am_map = rt_day.segment_speed_map(how='low_speeds')\n",
    "        display(am_map)\n",
    "    except Exception as e:\n",
    "        print(e)\n",
    "        pass\n",
    "    \n",
    "    rt_day.set_filter(start_time='11:00', end_time='14:00',\n",
    "                      route_names=[route_name], direction_id = direction_id)\n",
    "    try:\n",
    "        mid_map = rt_day.segment_speed_map(how='low_speeds')\n",
    "        display(mid_map)\n",
    "    except Exception as e:\n",
    "        print(e)\n",
    "        pass\n",
    "\n",
    "    rt_day.set_filter(start_time='15:00', end_time='19:00',\n",
    "                      route_names=[route_name], direction_id = direction_id)\n",
    "    try:\n",
    "        pm_map = rt_day.segment_speed_map(how='low_speeds')\n",
    "        display(pm_map)\n",
    "    except Exception as e:\n",
    "        print(e)\n",
    "        pass\n",
    "\n",
    "    return"
   ]
  },
  {
   "cell_type": "code",
   "execution_count": 18,
   "id": "c7b4b043-6d15-4d9c-8aac-f0f6649e9552",
   "metadata": {
    "execution": {
     "iopub.execute_input": "2022-04-12T02:48:48.346100Z",
     "iopub.status.busy": "2022-04-12T02:48:48.344935Z",
     "iopub.status.idle": "2022-04-12T02:48:48.387930Z",
     "shell.execute_reply": "2022-04-12T02:48:48.386908Z"
    },
    "jupyter": {
     "source_hidden": true
    },
    "papermill": {
     "duration": 0.060895,
     "end_time": "2022-04-12T02:48:48.390360",
     "exception": false,
     "start_time": "2022-04-12T02:48:48.329465",
     "status": "completed"
    },
    "tags": [
     "remove_input"
    ]
   },
   "outputs": [
    {
     "name": "stdout",
     "output_type": "stream",
     "text": [
      "'GeoDataFrame' object has no attribute 'trip_id'\n",
      "'GeoDataFrame' object has no attribute 'trip_id'\n",
      "'GeoDataFrame' object has no attribute 'trip_id'\n"
     ]
    }
   ],
   "source": [
    "try:\n",
    "    map_from_metrics(rt_day, metrics_df)\n",
    "except Exception as e:\n",
    "    print(e)\n",
    "    pass"
   ]
  },
  {
   "cell_type": "code",
   "execution_count": null,
   "id": "a3a161f7-2a8f-4b9d-a71e-bedad8c7e08d",
   "metadata": {
    "jupyter": {
     "source_hidden": true
    },
    "papermill": {
     "duration": 0.017816,
     "end_time": "2022-04-12T02:48:48.423268",
     "exception": false,
     "start_time": "2022-04-12T02:48:48.405452",
     "status": "completed"
    },
    "tags": [
     "remove_input"
    ]
   },
   "outputs": [],
   "source": []
  }
 ],
 "metadata": {
  "kernelspec": {
   "display_name": "Python 3 (ipykernel)",
   "language": "python",
   "name": "python3"
  },
  "language_info": {
   "codemirror_mode": {
    "name": "ipython",
    "version": 3
   },
   "file_extension": ".py",
   "mimetype": "text/x-python",
   "name": "python",
   "nbconvert_exporter": "python",
   "pygments_lexer": "ipython3",
   "version": "3.9.10"
  },
  "papermill": {
   "default_parameters": {},
   "duration": 20.073655,
   "end_time": "2022-04-12T02:48:51.439396",
   "environment_variables": {},
   "exception": null,
   "input_path": "rt_delay/15_parameterize.ipynb",
   "output_path": "target/rt_delay/15_parameterize__itp_id_159.ipynb",
   "parameters": {
    "itp_id": 159
   },
   "start_time": "2022-04-12T02:48:31.365741",
   "version": "2.3.4"
  }
 },
 "nbformat": 4,
 "nbformat_minor": 5
}