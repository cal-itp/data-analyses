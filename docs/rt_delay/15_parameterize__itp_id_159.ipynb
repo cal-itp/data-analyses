{
 "cells": [
  {
   "cell_type": "code",
   "execution_count": 1,
   "id": "46898b5c-b5cc-4096-ab68-8c3e42fab870",
   "metadata": {
    "execution": {
     "iopub.execute_input": "2022-04-15T23:11:26.195915Z",
     "iopub.status.busy": "2022-04-15T23:11:26.195556Z",
     "iopub.status.idle": "2022-04-15T23:11:34.421039Z",
     "shell.execute_reply": "2022-04-15T23:11:34.420206Z"
    },
    "jupyter": {
     "source_hidden": true
    },
    "papermill": {
     "duration": 8.249987,
     "end_time": "2022-04-15T23:11:34.424085",
     "exception": false,
     "start_time": "2022-04-15T23:11:26.174098",
     "status": "completed"
    },
    "tags": [
     "remove_input"
    ]
   },
   "outputs": [],
   "source": [
    "%%capture\n",
    "import warnings\n",
    "warnings.filterwarnings('ignore')\n",
    "\n",
    "import os\n",
    "os.environ[\"CALITP_BQ_MAX_BYTES\"] = str(800_000_000_000)\n",
    "import shared_utils\n",
    "import utils\n",
    "\n",
    "from calitp.tables import tbl\n",
    "from calitp import query_sql\n",
    "import calitp.magics\n",
    "\n",
    "from siuba import *\n",
    "import pandas as pd\n",
    "import geopandas as gpd\n",
    "\n",
    "import datetime as dt\n",
    "\n",
    "import importlib\n",
    "import rt_filter_map_plot\n",
    "\n",
    "from IPython.display import display, Markdown, Latex, HTML\n",
    "import json"
   ]
  },
  {
   "cell_type": "code",
   "execution_count": 2,
   "id": "9f15ed6a-5ab7-4f57-9695-3f762781b74c",
   "metadata": {
    "execution": {
     "iopub.execute_input": "2022-04-15T23:11:34.463496Z",
     "iopub.status.busy": "2022-04-15T23:11:34.461715Z",
     "iopub.status.idle": "2022-04-15T23:11:34.467565Z",
     "shell.execute_reply": "2022-04-15T23:11:34.466897Z"
    },
    "jupyter": {
     "source_hidden": true
    },
    "papermill": {
     "duration": 0.026661,
     "end_time": "2022-04-15T23:11:34.469523",
     "exception": false,
     "start_time": "2022-04-15T23:11:34.442862",
     "status": "completed"
    },
    "tags": [
     "parameters",
     "remove_input"
    ]
   },
   "outputs": [],
   "source": [
    "## parameters cell\n",
    "itp_id = 273"
   ]
  },
  {
   "cell_type": "code",
   "execution_count": 3,
   "id": "ce312f9e",
   "metadata": {
    "execution": {
     "iopub.execute_input": "2022-04-15T23:11:34.506335Z",
     "iopub.status.busy": "2022-04-15T23:11:34.505601Z",
     "iopub.status.idle": "2022-04-15T23:11:34.510573Z",
     "shell.execute_reply": "2022-04-15T23:11:34.509879Z"
    },
    "jupyter": {
     "source_hidden": true
    },
    "papermill": {
     "duration": 0.026309,
     "end_time": "2022-04-15T23:11:34.512533",
     "exception": false,
     "start_time": "2022-04-15T23:11:34.486224",
     "status": "completed"
    },
    "tags": [
     "injected-parameters",
     "remove_input"
    ]
   },
   "outputs": [],
   "source": [
    "# Parameters\n",
    "itp_id = 159\n"
   ]
  },
  {
   "cell_type": "code",
   "execution_count": 4,
   "id": "6c2e9651-70e4-4403-b43d-da50315ef8fd",
   "metadata": {
    "execution": {
     "iopub.execute_input": "2022-04-15T23:11:34.566213Z",
     "iopub.status.busy": "2022-04-15T23:11:34.565861Z",
     "iopub.status.idle": "2022-04-15T23:11:35.993652Z",
     "shell.execute_reply": "2022-04-15T23:11:35.992154Z"
    },
    "jupyter": {
     "source_hidden": true
    },
    "papermill": {
     "duration": 1.461047,
     "end_time": "2022-04-15T23:11:35.996230",
     "exception": false,
     "start_time": "2022-04-15T23:11:34.535183",
     "status": "completed"
    },
    "tags": [
     "remove_input"
    ]
   },
   "outputs": [],
   "source": [
    "airtable_organizations = (\n",
    "    tbl.airtable.california_transit_organizations()\n",
    "    >> select(_.itp_id, _.name, _.caltrans_district,\n",
    "              _.website, _.ntp_id, _.drmt_organization_name)\n",
    "    >> filter(_.itp_id == itp_id)\n",
    "    >> collect()\n",
    ")"
   ]
  },
  {
   "cell_type": "code",
   "execution_count": 5,
   "id": "cc9c7000-4042-4f64-b7ef-8e8e5f1e706a",
   "metadata": {
    "execution": {
     "iopub.execute_input": "2022-04-15T23:11:36.034329Z",
     "iopub.status.busy": "2022-04-15T23:11:36.033824Z",
     "iopub.status.idle": "2022-04-15T23:11:36.038136Z",
     "shell.execute_reply": "2022-04-15T23:11:36.037547Z"
    },
    "jupyter": {
     "source_hidden": true
    },
    "papermill": {
     "duration": 0.026144,
     "end_time": "2022-04-15T23:11:36.039907",
     "exception": false,
     "start_time": "2022-04-15T23:11:36.013763",
     "status": "completed"
    },
    "tags": [
     "remove_input"
    ]
   },
   "outputs": [],
   "source": [
    "# airtable_organizations"
   ]
  },
  {
   "cell_type": "code",
   "execution_count": 6,
   "id": "306a7053-3fab-4723-a287-111e4eba11f2",
   "metadata": {
    "execution": {
     "iopub.execute_input": "2022-04-15T23:11:36.076291Z",
     "iopub.status.busy": "2022-04-15T23:11:36.075755Z",
     "iopub.status.idle": "2022-04-15T23:11:36.080311Z",
     "shell.execute_reply": "2022-04-15T23:11:36.079751Z"
    },
    "jupyter": {
     "source_hidden": true
    },
    "papermill": {
     "duration": 0.025121,
     "end_time": "2022-04-15T23:11:36.082160",
     "exception": false,
     "start_time": "2022-04-15T23:11:36.057039",
     "status": "completed"
    },
    "tags": [
     "remove_input"
    ]
   },
   "outputs": [],
   "source": [
    "analysis_date = dt.date(2022, 3, 30)\n",
    "if itp_id == 273:\n",
    "    analysis_date = dt.date(2022, 2, 8) # #override for SacRT "
   ]
  },
  {
   "cell_type": "code",
   "execution_count": 7,
   "id": "47c79d99-c82f-4e1e-b11e-2b1e83c13a1b",
   "metadata": {
    "execution": {
     "iopub.execute_input": "2022-04-15T23:11:36.118110Z",
     "iopub.status.busy": "2022-04-15T23:11:36.117580Z",
     "iopub.status.idle": "2022-04-15T23:11:36.121786Z",
     "shell.execute_reply": "2022-04-15T23:11:36.121214Z"
    },
    "jupyter": {
     "source_hidden": true
    },
    "papermill": {
     "duration": 0.024761,
     "end_time": "2022-04-15T23:11:36.123697",
     "exception": false,
     "start_time": "2022-04-15T23:11:36.098936",
     "status": "completed"
    },
    "tags": [
     "remove_input"
    ]
   },
   "outputs": [],
   "source": [
    "month_day = analysis_date.strftime('%m_%d')"
   ]
  },
  {
   "cell_type": "code",
   "execution_count": 8,
   "id": "1739d979-cd4d-456c-a1ad-a016cbf69cad",
   "metadata": {
    "execution": {
     "iopub.execute_input": "2022-04-15T23:11:36.169911Z",
     "iopub.status.busy": "2022-04-15T23:11:36.169141Z",
     "iopub.status.idle": "2022-04-15T23:11:36.548159Z",
     "shell.execute_reply": "2022-04-15T23:11:36.547407Z"
    },
    "jupyter": {
     "source_hidden": true
    },
    "papermill": {
     "duration": 0.408078,
     "end_time": "2022-04-15T23:11:36.551250",
     "exception": false,
     "start_time": "2022-04-15T23:11:36.143172",
     "status": "completed"
    },
    "tags": [
     "remove_input"
    ]
   },
   "outputs": [],
   "source": [
    "trips = pd.read_parquet(f'{utils.GCS_FILE_PATH}rt_trips/{itp_id}_{month_day}.parquet')"
   ]
  },
  {
   "cell_type": "code",
   "execution_count": 9,
   "id": "b77a9167-4017-4367-8fed-d4e6bf3999b9",
   "metadata": {
    "execution": {
     "iopub.execute_input": "2022-04-15T23:11:36.592156Z",
     "iopub.status.busy": "2022-04-15T23:11:36.591408Z",
     "iopub.status.idle": "2022-04-15T23:11:36.992513Z",
     "shell.execute_reply": "2022-04-15T23:11:36.991355Z"
    },
    "jupyter": {
     "source_hidden": true
    },
    "papermill": {
     "duration": 0.426195,
     "end_time": "2022-04-15T23:11:36.996233",
     "exception": false,
     "start_time": "2022-04-15T23:11:36.570038",
     "status": "completed"
    },
    "tags": [
     "remove_input"
    ]
   },
   "outputs": [],
   "source": [
    "stop_delay = gpd.read_parquet(f'{utils.GCS_FILE_PATH}stop_delay_views/{itp_id}_{month_day}.parquet')\n",
    "stop_delay['arrival_time'] = stop_delay.arrival_time.map(lambda x: dt.datetime.fromisoformat(x))\n",
    "stop_delay['actual_time'] = stop_delay.actual_time.map(lambda x: dt.datetime.fromisoformat(x))"
   ]
  },
  {
   "cell_type": "code",
   "execution_count": 10,
   "id": "2b2fe439-10af-4140-ab83-69b05c385b40",
   "metadata": {
    "execution": {
     "iopub.execute_input": "2022-04-15T23:11:37.037895Z",
     "iopub.status.busy": "2022-04-15T23:11:37.037200Z",
     "iopub.status.idle": "2022-04-15T23:11:40.505797Z",
     "shell.execute_reply": "2022-04-15T23:11:40.504807Z"
    },
    "jupyter": {
     "source_hidden": true
    },
    "papermill": {
     "duration": 3.493614,
     "end_time": "2022-04-15T23:11:40.508300",
     "exception": false,
     "start_time": "2022-04-15T23:11:37.014686",
     "status": "completed"
    },
    "tags": [
     "remove_input"
    ]
   },
   "outputs": [],
   "source": [
    "%%capture\n",
    "routelines = utils.get_routelines(itp_id, analysis_date)"
   ]
  },
  {
   "cell_type": "code",
   "execution_count": 11,
   "id": "e4cbefc6-9bbb-4989-85b7-1f31da17fcb8",
   "metadata": {
    "execution": {
     "iopub.execute_input": "2022-04-15T23:11:40.546728Z",
     "iopub.status.busy": "2022-04-15T23:11:40.546354Z",
     "iopub.status.idle": "2022-04-15T23:11:40.579046Z",
     "shell.execute_reply": "2022-04-15T23:11:40.578478Z"
    },
    "jupyter": {
     "source_hidden": true
    },
    "papermill": {
     "duration": 0.053723,
     "end_time": "2022-04-15T23:11:40.580772",
     "exception": false,
     "start_time": "2022-04-15T23:11:40.527049",
     "status": "completed"
    },
    "tags": [
     "remove_input"
    ]
   },
   "outputs": [],
   "source": [
    "%%capture\n",
    "rt_day = rt_filter_map_plot.RtFilterMapper(trips, stop_delay, routelines)"
   ]
  },
  {
   "cell_type": "code",
   "execution_count": 12,
   "id": "6c335d40-7a7b-4641-8a3d-c970b2823cdf",
   "metadata": {
    "execution": {
     "iopub.execute_input": "2022-04-15T23:11:40.619710Z",
     "iopub.status.busy": "2022-04-15T23:11:40.619146Z",
     "iopub.status.idle": "2022-04-15T23:11:40.626269Z",
     "shell.execute_reply": "2022-04-15T23:11:40.624863Z"
    },
    "jupyter": {
     "source_hidden": true
    },
    "papermill": {
     "duration": 0.033839,
     "end_time": "2022-04-15T23:11:40.632511",
     "exception": false,
     "start_time": "2022-04-15T23:11:40.598672",
     "status": "completed"
    },
    "tags": [
     "remove_input"
    ]
   },
   "outputs": [],
   "source": [
    "%%capture_parameters\n",
    "agency_name = rt_day.calitp_agency_name\n",
    "district = airtable_organizations.caltrans_district.iloc[0]\n",
    "agency_name, district"
   ]
  },
  {
   "cell_type": "markdown",
   "id": "52110155-d104-4043-8376-3f83e82a959a",
   "metadata": {
    "papermill": {
     "duration": 0.02891,
     "end_time": "2022-04-15T23:11:40.690011",
     "exception": false,
     "start_time": "2022-04-15T23:11:40.661101",
     "status": "completed"
    },
    "tags": []
   },
   "source": [
    "# Bus Speed and Delay for Lake Transit, District 01 - Eureka"
   ]
  },
  {
   "cell_type": "code",
   "execution_count": 13,
   "id": "8e940d3d-c76e-42ba-be8b-739852771ca6",
   "metadata": {
    "execution": {
     "iopub.execute_input": "2022-04-15T23:11:40.753955Z",
     "iopub.status.busy": "2022-04-15T23:11:40.753330Z",
     "iopub.status.idle": "2022-04-15T23:11:40.757490Z",
     "shell.execute_reply": "2022-04-15T23:11:40.756922Z"
    },
    "jupyter": {
     "source_hidden": true
    },
    "papermill": {
     "duration": 0.03821,
     "end_time": "2022-04-15T23:11:40.759189",
     "exception": false,
     "start_time": "2022-04-15T23:11:40.720979",
     "status": "completed"
    },
    "tags": [
     "remove_input"
    ]
   },
   "outputs": [],
   "source": [
    "## avoid papermill errors when map fails to render\n",
    "m = None"
   ]
  },
  {
   "cell_type": "markdown",
   "id": "74fce4a9-514f-405d-9ce0-1cb1998a696b",
   "metadata": {
    "papermill": {
     "duration": 0.018761,
     "end_time": "2022-04-15T23:11:40.799535",
     "exception": false,
     "start_time": "2022-04-15T23:11:40.780774",
     "status": "completed"
    },
    "tags": []
   },
   "source": [
    "## Morning Peak"
   ]
  },
  {
   "cell_type": "code",
   "execution_count": 14,
   "id": "533a64f4-f374-4f2c-94d3-5146ebe7c036",
   "metadata": {
    "execution": {
     "iopub.execute_input": "2022-04-15T23:11:40.837820Z",
     "iopub.status.busy": "2022-04-15T23:11:40.837252Z",
     "iopub.status.idle": "2022-04-15T23:11:40.843804Z",
     "shell.execute_reply": "2022-04-15T23:11:40.843175Z"
    },
    "jupyter": {
     "source_hidden": true
    },
    "papermill": {
     "duration": 0.027489,
     "end_time": "2022-04-15T23:11:40.845604",
     "exception": false,
     "start_time": "2022-04-15T23:11:40.818115",
     "status": "completed"
    },
    "tags": [
     "remove_input"
    ]
   },
   "outputs": [],
   "source": [
    "%%capture\n",
    "rt_day.set_filter(start_time='06:00', end_time='09:00')"
   ]
  },
  {
   "cell_type": "code",
   "execution_count": 15,
   "id": "2f317120-99ee-435b-96cd-1236b8ee2e0b",
   "metadata": {
    "execution": {
     "iopub.execute_input": "2022-04-15T23:11:40.890355Z",
     "iopub.status.busy": "2022-04-15T23:11:40.889826Z",
     "iopub.status.idle": "2022-04-15T23:11:42.725903Z",
     "shell.execute_reply": "2022-04-15T23:11:42.725033Z"
    },
    "jupyter": {
     "source_hidden": true
    },
    "papermill": {
     "duration": 1.858814,
     "end_time": "2022-04-15T23:11:42.727918",
     "exception": false,
     "start_time": "2022-04-15T23:11:40.869104",
     "status": "completed"
    },
    "tags": [
     "remove_input"
    ]
   },
   "outputs": [],
   "source": [
    "%%capture\n",
    "m = rt_day.segment_speed_map(how='low_speeds', no_title=True)"
   ]
  },
  {
   "cell_type": "code",
   "execution_count": 16,
   "id": "275087be-b46d-4acb-95fe-2dc98c2089a2",
   "metadata": {
    "execution": {
     "iopub.execute_input": "2022-04-15T23:11:42.769539Z",
     "iopub.status.busy": "2022-04-15T23:11:42.768969Z",
     "iopub.status.idle": "2022-04-15T23:11:42.776952Z",
     "shell.execute_reply": "2022-04-15T23:11:42.776218Z"
    },
    "jupyter": {
     "source_hidden": true
    },
    "papermill": {
     "duration": 0.030454,
     "end_time": "2022-04-15T23:11:42.778982",
     "exception": false,
     "start_time": "2022-04-15T23:11:42.748528",
     "status": "completed"
    },
    "tags": [
     "remove_input"
    ]
   },
   "outputs": [],
   "source": [
    "m"
   ]
  },
  {
   "cell_type": "code",
   "execution_count": 17,
   "id": "b0cf9b97-7485-4f36-b5e8-124f22fa9661",
   "metadata": {
    "execution": {
     "iopub.execute_input": "2022-04-15T23:11:42.822265Z",
     "iopub.status.busy": "2022-04-15T23:11:42.821697Z",
     "iopub.status.idle": "2022-04-15T23:11:42.845506Z",
     "shell.execute_reply": "2022-04-15T23:11:42.844502Z"
    },
    "jupyter": {
     "source_hidden": true
    },
    "papermill": {
     "duration": 0.049083,
     "end_time": "2022-04-15T23:11:42.847530",
     "exception": false,
     "start_time": "2022-04-15T23:11:42.798447",
     "status": "completed"
    },
    "tags": [
     "remove_input"
    ]
   },
   "outputs": [
    {
     "name": "stdout",
     "output_type": "stream",
     "text": [
      "describe delayed routes failed!\n"
     ]
    }
   ],
   "source": [
    "rt_day.describe_delayed_routes()"
   ]
  },
  {
   "cell_type": "markdown",
   "id": "3d263ba2-49ae-4e02-9d06-3181b03f51ba",
   "metadata": {
    "papermill": {
     "duration": 0.02211,
     "end_time": "2022-04-15T23:11:42.904719",
     "exception": false,
     "start_time": "2022-04-15T23:11:42.882609",
     "status": "completed"
    },
    "tags": []
   },
   "source": [
    "## Midday"
   ]
  },
  {
   "cell_type": "code",
   "execution_count": 18,
   "id": "f5344e63-89d2-43d6-9783-55a3061c99d2",
   "metadata": {
    "execution": {
     "iopub.execute_input": "2022-04-15T23:11:42.945754Z",
     "iopub.status.busy": "2022-04-15T23:11:42.945450Z",
     "iopub.status.idle": "2022-04-15T23:11:42.951362Z",
     "shell.execute_reply": "2022-04-15T23:11:42.950392Z"
    },
    "jupyter": {
     "source_hidden": true
    },
    "papermill": {
     "duration": 0.029769,
     "end_time": "2022-04-15T23:11:42.953761",
     "exception": false,
     "start_time": "2022-04-15T23:11:42.923992",
     "status": "completed"
    },
    "tags": [
     "remove_input"
    ]
   },
   "outputs": [],
   "source": [
    "%%capture\n",
    "rt_day.set_filter(start_time='10:00', end_time='14:00')"
   ]
  },
  {
   "cell_type": "code",
   "execution_count": 19,
   "id": "a4c40f3c-cf35-45d5-9d87-aa4701bed3aa",
   "metadata": {
    "execution": {
     "iopub.execute_input": "2022-04-15T23:11:42.994387Z",
     "iopub.status.busy": "2022-04-15T23:11:42.994084Z",
     "iopub.status.idle": "2022-04-15T23:11:43.518097Z",
     "shell.execute_reply": "2022-04-15T23:11:43.517245Z"
    },
    "jupyter": {
     "source_hidden": true
    },
    "papermill": {
     "duration": 0.547081,
     "end_time": "2022-04-15T23:11:43.520720",
     "exception": false,
     "start_time": "2022-04-15T23:11:42.973639",
     "status": "completed"
    },
    "tags": [
     "remove_input"
    ]
   },
   "outputs": [],
   "source": [
    "%%capture\n",
    "m = rt_day.segment_speed_map(how='low_speeds', no_title=True)"
   ]
  },
  {
   "cell_type": "code",
   "execution_count": 20,
   "id": "a78b7db5-f43f-4bf1-8036-ae972a87fc53",
   "metadata": {
    "execution": {
     "iopub.execute_input": "2022-04-15T23:11:43.564326Z",
     "iopub.status.busy": "2022-04-15T23:11:43.563964Z",
     "iopub.status.idle": "2022-04-15T23:11:43.594338Z",
     "shell.execute_reply": "2022-04-15T23:11:43.593257Z"
    },
    "jupyter": {
     "source_hidden": true
    },
    "papermill": {
     "duration": 0.055136,
     "end_time": "2022-04-15T23:11:43.597738",
     "exception": false,
     "start_time": "2022-04-15T23:11:43.542602",
     "status": "completed"
    },
    "tags": [
     "remove_input"
    ]
   },
   "outputs": [
    {
     "data": {
      "text/html": [
       "<iframe src=\"about:blank\" width=\"900\" height=\"550\"style=\"border:none !important;\" data-html=%3C%21DOCTYPE%20html%3E%0A%3Chead%3E%20%20%20%20%0A%20%20%20%20%3Cmeta%20http-equiv%3D%22content-type%22%20content%3D%22text/html%3B%20charset%3DUTF-8%22%20/%3E%0A%20%20%20%20%0A%20%20%20%20%20%20%20%20%3Cscript%3E%0A%20%20%20%20%20%20%20%20%20%20%20%20L_NO_TOUCH%20%3D%20false%3B%0A%20%20%20%20%20%20%20%20%20%20%20%20L_DISABLE_3D%20%3D%20false%3B%0A%20%20%20%20%20%20%20%20%3C/script%3E%0A%20%20%20%20%0A%20%20%20%20%3Cstyle%3Ehtml%2C%20body%20%7Bwidth%3A%20100%25%3Bheight%3A%20100%25%3Bmargin%3A%200%3Bpadding%3A%200%3B%7D%3C/style%3E%0A%20%20%20%20%3Cstyle%3E%23map%20%7Bposition%3Aabsolute%3Btop%3A0%3Bbottom%3A0%3Bright%3A0%3Bleft%3A0%3B%7D%3C/style%3E%0A%20%20%20%20%3Cscript%20src%3D%22https%3A//cdn.jsdelivr.net/npm/leaflet%401.6.0/dist/leaflet.js%22%3E%3C/script%3E%0A%20%20%20%20%3Cscript%20src%3D%22https%3A//code.jquery.com/jquery-1.12.4.min.js%22%3E%3C/script%3E%0A%20%20%20%20%3Cscript%20src%3D%22https%3A//maxcdn.bootstrapcdn.com/bootstrap/3.2.0/js/bootstrap.min.js%22%3E%3C/script%3E%0A%20%20%20%20%3Cscript%20src%3D%22https%3A//cdnjs.cloudflare.com/ajax/libs/Leaflet.awesome-markers/2.0.2/leaflet.awesome-markers.js%22%3E%3C/script%3E%0A%20%20%20%20%3Clink%20rel%3D%22stylesheet%22%20href%3D%22https%3A//cdn.jsdelivr.net/npm/leaflet%401.6.0/dist/leaflet.css%22/%3E%0A%20%20%20%20%3Clink%20rel%3D%22stylesheet%22%20href%3D%22https%3A//maxcdn.bootstrapcdn.com/bootstrap/3.2.0/css/bootstrap.min.css%22/%3E%0A%20%20%20%20%3Clink%20rel%3D%22stylesheet%22%20href%3D%22https%3A//maxcdn.bootstrapcdn.com/bootstrap/3.2.0/css/bootstrap-theme.min.css%22/%3E%0A%20%20%20%20%3Clink%20rel%3D%22stylesheet%22%20href%3D%22https%3A//maxcdn.bootstrapcdn.com/font-awesome/4.6.3/css/font-awesome.min.css%22/%3E%0A%20%20%20%20%3Clink%20rel%3D%22stylesheet%22%20href%3D%22https%3A//cdnjs.cloudflare.com/ajax/libs/Leaflet.awesome-markers/2.0.2/leaflet.awesome-markers.css%22/%3E%0A%20%20%20%20%3Clink%20rel%3D%22stylesheet%22%20href%3D%22https%3A//cdn.jsdelivr.net/gh/python-visualization/folium/folium/templates/leaflet.awesome.rotate.min.css%22/%3E%0A%20%20%20%20%0A%20%20%20%20%20%20%20%20%20%20%20%20%3Cmeta%20name%3D%22viewport%22%20content%3D%22width%3Ddevice-width%2C%0A%20%20%20%20%20%20%20%20%20%20%20%20%20%20%20%20initial-scale%3D1.0%2C%20maximum-scale%3D1.0%2C%20user-scalable%3Dno%22%20/%3E%0A%20%20%20%20%20%20%20%20%20%20%20%20%3Cstyle%3E%0A%20%20%20%20%20%20%20%20%20%20%20%20%20%20%20%20%23map_44bea7932e544c9080aef1032fe07640%20%7B%0A%20%20%20%20%20%20%20%20%20%20%20%20%20%20%20%20%20%20%20%20position%3A%20relative%3B%0A%20%20%20%20%20%20%20%20%20%20%20%20%20%20%20%20%20%20%20%20width%3A%20900.0px%3B%0A%20%20%20%20%20%20%20%20%20%20%20%20%20%20%20%20%20%20%20%20height%3A%20550.0px%3B%0A%20%20%20%20%20%20%20%20%20%20%20%20%20%20%20%20%20%20%20%20left%3A%200.0%25%3B%0A%20%20%20%20%20%20%20%20%20%20%20%20%20%20%20%20%20%20%20%20top%3A%200.0%25%3B%0A%20%20%20%20%20%20%20%20%20%20%20%20%20%20%20%20%7D%0A%20%20%20%20%20%20%20%20%20%20%20%20%3C/style%3E%0A%20%20%20%20%20%20%20%20%0A%20%20%20%20%0A%20%20%20%20%20%20%20%20%20%20%20%20%20%20%20%20%20%20%20%20%3Cstyle%3E%0A%20%20%20%20%20%20%20%20%20%20%20%20%20%20%20%20%20%20%20%20%20%20%20%20.foliumtooltip%20%7B%0A%20%20%20%20%20%20%20%20%20%20%20%20%20%20%20%20%20%20%20%20%20%20%20%20%20%20%20%20%0A%20%20%20%20%20%20%20%20%20%20%20%20background-color%3A%20%22gray%22%3B%0A%20%20%20%20%20%20%20%20%20%20%20%20border%3A%200px%20%23FFFFFF%3B%0A%20%20%20%20%20%20%20%20%20%20%20%20border-radius%3A%200px%3B%0A%20%20%20%20%20%20%20%20%20%20%20%20box-shadow%3A%200px%3B%0A%20%20%20%20%20%20%20%20%20%20%20%20font-size%3A%2012px%3B%0A%20%20%20%20%20%20%20%20%0A%20%20%20%20%20%20%20%20%20%20%20%20%20%20%20%20%20%20%20%20%20%20%20%20%7D%0A%20%20%20%20%20%20%20%20%20%20%20%20%20%20%20%20%20%20%20%20%20%20%20.foliumtooltip%20table%7B%0A%20%20%20%20%20%20%20%20%20%20%20%20%20%20%20%20%20%20%20%20%20%20%20%20%20%20%20%20margin%3A%20auto%3B%0A%20%20%20%20%20%20%20%20%20%20%20%20%20%20%20%20%20%20%20%20%20%20%20%20%7D%0A%20%20%20%20%20%20%20%20%20%20%20%20%20%20%20%20%20%20%20%20%20%20%20%20.foliumtooltip%20tr%7B%0A%20%20%20%20%20%20%20%20%20%20%20%20%20%20%20%20%20%20%20%20%20%20%20%20%20%20%20%20text-align%3A%20left%3B%0A%20%20%20%20%20%20%20%20%20%20%20%20%20%20%20%20%20%20%20%20%20%20%20%20%7D%0A%20%20%20%20%20%20%20%20%20%20%20%20%20%20%20%20%20%20%20%20%20%20%20%20.foliumtooltip%20th%7B%0A%20%20%20%20%20%20%20%20%20%20%20%20%20%20%20%20%20%20%20%20%20%20%20%20%20%20%20%20padding%3A%202px%3B%20padding-right%3A%208px%3B%0A%20%20%20%20%20%20%20%20%20%20%20%20%20%20%20%20%20%20%20%20%20%20%20%20%7D%0A%20%20%20%20%20%20%20%20%20%20%20%20%20%20%20%20%20%20%20%20%3C/style%3E%0A%20%20%20%20%20%20%20%20%20%20%20%20%0A%20%20%20%20%0A%20%20%20%20%20%20%20%20%20%20%20%20%20%20%20%20%20%20%20%20%3Cstyle%3E%0A%20%20%20%20%20%20%20%20%20%20%20%20%20%20%20%20%20%20%20%20%20%20%20%20.foliumpopup%20%7B%0A%20%20%20%20%20%20%20%20%20%20%20%20%20%20%20%20%20%20%20%20%20%20%20%20%20%20%20%20background-color%3A%20light_gray%3B%0A%20%20%20%20%20%20%20%20%20%20%20%20%20%20%20%20%20%20%20%20%20%20%20%20%7D%0A%20%20%20%20%20%20%20%20%20%20%20%20%20%20%20%20%20%20%20%20%20%20%20.foliumpopup%20table%7B%0A%20%20%20%20%20%20%20%20%20%20%20%20%20%20%20%20%20%20%20%20%20%20%20%20%20%20%20%20margin%3A%20auto%3B%0A%20%20%20%20%20%20%20%20%20%20%20%20%20%20%20%20%20%20%20%20%20%20%20%20%7D%0A%20%20%20%20%20%20%20%20%20%20%20%20%20%20%20%20%20%20%20%20%20%20%20%20.foliumpopup%20tr%7B%0A%20%20%20%20%20%20%20%20%20%20%20%20%20%20%20%20%20%20%20%20%20%20%20%20%20%20%20%20text-align%3A%20left%3B%0A%20%20%20%20%20%20%20%20%20%20%20%20%20%20%20%20%20%20%20%20%20%20%20%20%7D%0A%20%20%20%20%20%20%20%20%20%20%20%20%20%20%20%20%20%20%20%20%20%20%20%20.foliumpopup%20th%7B%0A%20%20%20%20%20%20%20%20%20%20%20%20%20%20%20%20%20%20%20%20%20%20%20%20%20%20%20%20padding%3A%202px%3B%20padding-right%3A%208px%3B%0A%20%20%20%20%20%20%20%20%20%20%20%20%20%20%20%20%20%20%20%20%20%20%20%20%7D%0A%20%20%20%20%20%20%20%20%20%20%20%20%20%20%20%20%20%20%20%20%3C/style%3E%0A%20%20%20%20%20%20%20%20%20%20%20%20%0A%20%20%20%20%3Cscript%20src%3D%22https%3A//cdnjs.cloudflare.com/ajax/libs/d3/3.5.5/d3.min.js%22%3E%3C/script%3E%0A%3C/head%3E%0A%3Cbody%3E%20%20%20%20%0A%20%20%20%20%0A%20%20%20%20%20%20%20%20%20%20%20%20%20%3Ch3%20align%3D%22center%22%20style%3D%22font-size%3A20px%22%3E%3Cb%3E%3C/b%3E%3C/h3%3E%0A%20%20%20%20%20%20%20%20%20%20%20%20%20%0A%20%20%20%20%0A%20%20%20%20%20%20%20%20%20%20%20%20%3Cdiv%20class%3D%22folium-map%22%20id%3D%22map_44bea7932e544c9080aef1032fe07640%22%20%3E%3C/div%3E%0A%20%20%20%20%20%20%20%20%0A%3C/body%3E%0A%3Cscript%3E%20%20%20%20%0A%20%20%20%20%0A%20%20%20%20%20%20%20%20%20%20%20%20var%20map_44bea7932e544c9080aef1032fe07640%20%3D%20L.map%28%0A%20%20%20%20%20%20%20%20%20%20%20%20%20%20%20%20%22map_44bea7932e544c9080aef1032fe07640%22%2C%0A%20%20%20%20%20%20%20%20%20%20%20%20%20%20%20%20%7B%0A%20%20%20%20%20%20%20%20%20%20%20%20%20%20%20%20%20%20%20%20center%3A%20%5B39.10418300103904%2C%20-122.90842538303619%5D%2C%0A%20%20%20%20%20%20%20%20%20%20%20%20%20%20%20%20%20%20%20%20crs%3A%20L.CRS.EPSG3857%2C%0A%20%20%20%20%20%20%20%20%20%20%20%20%20%20%20%20%20%20%20%20zoom%3A%2013%2C%0A%20%20%20%20%20%20%20%20%20%20%20%20%20%20%20%20%20%20%20%20zoomControl%3A%20true%2C%0A%20%20%20%20%20%20%20%20%20%20%20%20%20%20%20%20%20%20%20%20preferCanvas%3A%20false%2C%0A%20%20%20%20%20%20%20%20%20%20%20%20%20%20%20%20%7D%0A%20%20%20%20%20%20%20%20%20%20%20%20%29%3B%0A%0A%20%20%20%20%20%20%20%20%20%20%20%20%0A%0A%20%20%20%20%20%20%20%20%0A%20%20%20%20%0A%20%20%20%20%20%20%20%20%20%20%20%20var%20tile_layer_5fe955a9ba4645f59869d3a76d30b1dc%20%3D%20L.tileLayer%28%0A%20%20%20%20%20%20%20%20%20%20%20%20%20%20%20%20%22https%3A//cartodb-basemaps-%7Bs%7D.global.ssl.fastly.net/light_all/%7Bz%7D/%7Bx%7D/%7By%7D.png%22%2C%0A%20%20%20%20%20%20%20%20%20%20%20%20%20%20%20%20%7B%22attribution%22%3A%20%22%5Cu0026copy%3B%20%5Cu003ca%20href%3D%5C%22http%3A//www.openstreetmap.org/copyright%5C%22%5Cu003eOpenStreetMap%5Cu003c/a%5Cu003e%20contributors%20%5Cu0026copy%3B%20%5Cu003ca%20href%3D%5C%22http%3A//cartodb.com/attributions%5C%22%5Cu003eCartoDB%5Cu003c/a%5Cu003e%2C%20CartoDB%20%5Cu003ca%20href%20%3D%5C%22http%3A//cartodb.com/attributions%5C%22%5Cu003eattributions%5Cu003c/a%5Cu003e%22%2C%20%22detectRetina%22%3A%20false%2C%20%22maxNativeZoom%22%3A%2018%2C%20%22maxZoom%22%3A%2018%2C%20%22minZoom%22%3A%200%2C%20%22noWrap%22%3A%20false%2C%20%22opacity%22%3A%201%2C%20%22subdomains%22%3A%20%22abc%22%2C%20%22tms%22%3A%20false%7D%0A%20%20%20%20%20%20%20%20%20%20%20%20%29.addTo%28map_44bea7932e544c9080aef1032fe07640%29%3B%0A%20%20%20%20%20%20%20%20%0A%20%20%20%20%0A%20%20%20%20%20%20%20%20function%20geo_json_2fe73a3f80c547679b16baa04be7b760_styler%28feature%29%20%7B%0A%20%20%20%20%20%20%20%20%20%20%20%20switch%28feature.id%29%20%7B%0A%20%20%20%20%20%20%20%20%20%20%20%20%20%20%20%20default%3A%0A%20%20%20%20%20%20%20%20%20%20%20%20%20%20%20%20%20%20%20%20return%20%7B%22color%22%3A%20%22%23FFFFFF%22%2C%20%22fillColor%22%3A%20%22%23a50026ff%22%2C%20%22fillOpacity%22%3A%200.8%2C%20%22weight%22%3A%200.2%7D%3B%0A%20%20%20%20%20%20%20%20%20%20%20%20%7D%0A%20%20%20%20%20%20%20%20%7D%0A%20%20%20%20%20%20%20%20function%20geo_json_2fe73a3f80c547679b16baa04be7b760_highlighter%28feature%29%20%7B%0A%20%20%20%20%20%20%20%20%20%20%20%20switch%28feature.id%29%20%7B%0A%20%20%20%20%20%20%20%20%20%20%20%20%20%20%20%20default%3A%0A%20%20%20%20%20%20%20%20%20%20%20%20%20%20%20%20%20%20%20%20return%20%7B%22fillColor%22%3A%20%22%23DD1C77%22%2C%20%22fillOpacity%22%3A%200.6%7D%3B%0A%20%20%20%20%20%20%20%20%20%20%20%20%7D%0A%20%20%20%20%20%20%20%20%7D%0A%0A%20%20%20%20%20%20%20%20function%20geo_json_2fe73a3f80c547679b16baa04be7b760_onEachFeature%28feature%2C%20layer%29%20%7B%0A%20%20%20%20%20%20%20%20%20%20%20%20layer.on%28%7B%0A%20%20%20%20%20%20%20%20%20%20%20%20%20%20%20%20mouseout%3A%20function%28e%29%20%7B%0A%20%20%20%20%20%20%20%20%20%20%20%20%20%20%20%20%20%20%20%20if%28typeof%20e.target.setStyle%20%3D%3D%3D%20%22function%22%29%7B%0A%20%20%20%20%20%20%20%20%20%20%20%20%20%20%20%20%20%20%20%20%20%20%20%20geo_json_2fe73a3f80c547679b16baa04be7b760.resetStyle%28e.target%29%3B%0A%20%20%20%20%20%20%20%20%20%20%20%20%20%20%20%20%20%20%20%20%7D%0A%20%20%20%20%20%20%20%20%20%20%20%20%20%20%20%20%7D%2C%0A%20%20%20%20%20%20%20%20%20%20%20%20%20%20%20%20mouseover%3A%20function%28e%29%20%7B%0A%20%20%20%20%20%20%20%20%20%20%20%20%20%20%20%20%20%20%20%20if%28typeof%20e.target.setStyle%20%3D%3D%3D%20%22function%22%29%7B%0A%20%20%20%20%20%20%20%20%20%20%20%20%20%20%20%20%20%20%20%20%20%20%20%20const%20highlightStyle%20%3D%20geo_json_2fe73a3f80c547679b16baa04be7b760_highlighter%28e.target.feature%29%0A%20%20%20%20%20%20%20%20%20%20%20%20%20%20%20%20%20%20%20%20%20%20%20%20e.target.setStyle%28highlightStyle%29%3B%0A%20%20%20%20%20%20%20%20%20%20%20%20%20%20%20%20%20%20%20%20%7D%0A%20%20%20%20%20%20%20%20%20%20%20%20%20%20%20%20%7D%2C%0A%20%20%20%20%20%20%20%20%20%20%20%20%7D%29%3B%0A%20%20%20%20%20%20%20%20%7D%3B%0A%20%20%20%20%20%20%20%20var%20geo_json_2fe73a3f80c547679b16baa04be7b760%20%3D%20L.geoJson%28null%2C%20%7B%0A%20%20%20%20%20%20%20%20%20%20%20%20%20%20%20%20onEachFeature%3A%20geo_json_2fe73a3f80c547679b16baa04be7b760_onEachFeature%2C%0A%20%20%20%20%20%20%20%20%20%20%20%20%0A%20%20%20%20%20%20%20%20%20%20%20%20%20%20%20%20style%3A%20geo_json_2fe73a3f80c547679b16baa04be7b760_styler%2C%0A%20%20%20%20%20%20%20%20%7D%29%3B%0A%0A%20%20%20%20%20%20%20%20function%20geo_json_2fe73a3f80c547679b16baa04be7b760_add%20%28data%29%20%7B%0A%20%20%20%20%20%20%20%20%20%20%20%20geo_json_2fe73a3f80c547679b16baa04be7b760%0A%20%20%20%20%20%20%20%20%20%20%20%20%20%20%20%20.addData%28data%29%0A%20%20%20%20%20%20%20%20%20%20%20%20%20%20%20%20.addTo%28map_44bea7932e544c9080aef1032fe07640%29%3B%0A%20%20%20%20%20%20%20%20%7D%0A%20%20%20%20%20%20%20%20%20%20%20%20geo_json_2fe73a3f80c547679b16baa04be7b760_add%28%7B%22bbox%22%3A%20%5B-122.9091959775552%2C%2039.103909827973645%2C%20-122.90767985612997%2C%2039.1045673031292%5D%2C%20%22features%22%3A%20%5B%7B%22bbox%22%3A%20%5B-122.9091959775552%2C%2039.103909827973645%2C%20-122.90767985612997%2C%2039.1045673031292%5D%2C%20%22geometry%22%3A%20%7B%22coordinates%22%3A%20%5B%5B%5B-122.90830455272969%2C%2039.1044144721524%5D%2C%20%5B-122.9081868322164%2C%2039.1045000052552%5D%2C%20%5B-122.90776863607363%2C%2039.1045673031292%5D%2C%20%5B-122.90788651505608%2C%2039.10436604090189%5D%2C%20%5B-122.90767985612997%2C%2039.10421407853905%5D%2C%20%5B-122.90794140725862%2C%2039.104174346777256%5D%2C%20%5B-122.9080868726046%2C%2039.103965750671584%5D%2C%20%5B-122.90824997709916%2C%2039.103909827973645%5D%2C%20%5B-122.90904935520251%2C%2039.10395797311589%5D%2C%20%5B-122.9091959775552%2C%2039.10414747614545%5D%2C%20%5B-122.90901294926664%2C%2039.1043167630623%5D%2C%20%5B-122.90839190162419%2C%2039.104278674717186%5D%2C%20%5B-122.90830455272969%2C%2039.1044144721524%5D%5D%5D%2C%20%22type%22%3A%20%22Polygon%22%7D%2C%20%22id%22%3A%20%220%22%2C%20%22properties%22%3A%20%7B%22_20p_mph%22%3A%200.6%2C%20%22avg_mph%22%3A%200.6%2C%20%22delay_chg_sec%22%3A%200.0%2C%20%22delay_seconds%22%3A%200%2C%20%22direction_id%22%3A%20%221%22%2C%20%22last_loc%22%3A%200.07103455272313809%2C%20%22meters_from_last%22%3A%20272.9789614094451%2C%20%22n_trips%22%3A%201%2C%20%22route_id%22%3A%20%222017%22%2C%20%22route_short_name%22%3A%20%221%22%2C%20%22seconds_from_last%22%3A%20970.0%2C%20%22shape_id%22%3A%20%22p_4709%22%2C%20%22shape_meters%22%3A%20273.0%2C%20%22speed_from_last%22%3A%200.2814216097004589%2C%20%22speed_mph%22%3A%200.6295401408999265%2C%20%22stop_id%22%3A%20%22784119%22%2C%20%22stop_name%22%3A%20%22Lake%20County%20Jail%22%2C%20%22stop_sequence%22%3A%202%2C%20%22trip_id%22%3A%20%22t_1057339_b_25985_tn_0%22%2C%20%22trip_key%22%3A%20-3552072959869154419%2C%20%22trips_per_hour%22%3A%200.2%7D%2C%20%22type%22%3A%20%22Feature%22%7D%5D%2C%20%22type%22%3A%20%22FeatureCollection%22%7D%29%3B%0A%0A%20%20%20%20%20%20%20%20%0A%20%20%20%20%0A%20%20%20%20geo_json_2fe73a3f80c547679b16baa04be7b760.bindTooltip%28%0A%20%20%20%20function%28layer%29%7B%0A%20%20%20%20let%20div%20%3D%20L.DomUtil.create%28%27div%27%29%3B%0A%20%20%20%20%0A%20%20%20%20let%20handleObject%20%3D%20feature%3D%3Etypeof%28feature%29%3D%3D%27object%27%20%3F%20JSON.stringify%28feature%29%20%3A%20feature%3B%0A%20%20%20%20let%20fields%20%3D%20%5B%22_20p_mph%22%2C%20%22shape_meters%22%2C%20%22route_short_name%22%2C%20%22shape_id%22%2C%20%22direction_id%22%2C%20%22stop_id%22%2C%20%22stop_sequence%22%2C%20%22trips_per_hour%22%2C%20%22delay_seconds%22%2C%20%22delay_chg_sec%22%5D%3B%0A%20%20%20%20let%20aliases%20%3D%20%5B%22Speed%20%28miles%20per%20hour%29%22%2C%20%22Distance%20along%20route%20%28meters%29%22%2C%20%22Route%22%2C%20%22Shape%20ID%22%2C%20%22Direction%20ID%22%2C%20%22Next%20Stop%20ID%22%2C%20%22Next%20Stop%20Sequence%22%2C%20%22Trips%20per%20Hour%22%2C%20%22Current%20Delay%20%28seconds%29%22%2C%20%22Change%20in%20Delay%20%28seconds%29%22%5D%3B%0A%20%20%20%20let%20table%20%3D%20%27%3Ctable%3E%27%20%2B%0A%20%20%20%20%20%20%20%20String%28%0A%20%20%20%20%20%20%20%20fields.map%28%0A%20%20%20%20%20%20%20%20%28v%2Ci%29%3D%3E%0A%20%20%20%20%20%20%20%20%60%3Ctr%3E%0A%20%20%20%20%20%20%20%20%20%20%20%20%3Cth%3E%24%7Baliases%5Bi%5D%7D%3C/th%3E%0A%20%20%20%20%20%20%20%20%20%20%20%20%0A%20%20%20%20%20%20%20%20%20%20%20%20%3Ctd%3E%24%7BhandleObject%28layer.feature.properties%5Bv%5D%29%7D%3C/td%3E%0A%20%20%20%20%20%20%20%20%3C/tr%3E%60%29.join%28%27%27%29%29%0A%20%20%20%20%2B%27%3C/table%3E%27%3B%0A%20%20%20%20div.innerHTML%3Dtable%3B%0A%20%20%20%20%0A%20%20%20%20return%20div%0A%20%20%20%20%7D%0A%20%20%20%20%2C%7B%22className%22%3A%20%22foliumtooltip%22%2C%20%22maxWidth%22%3A%20100%2C%20%22minWidth%22%3A%2050%2C%20%22sticky%22%3A%20false%7D%29%3B%0A%20%20%20%20%20%20%20%20%20%20%20%20%20%20%20%20%20%20%20%20%20%0A%20%20%20%20%0A%20%20%20%20geo_json_2fe73a3f80c547679b16baa04be7b760.bindPopup%28%0A%20%20%20%20function%28layer%29%7B%0A%20%20%20%20let%20div%20%3D%20L.DomUtil.create%28%27div%27%29%3B%0A%20%20%20%20%0A%20%20%20%20let%20handleObject%20%3D%20feature%3D%3Etypeof%28feature%29%3D%3D%27object%27%20%3F%20JSON.stringify%28feature%29%20%3A%20feature%3B%0A%20%20%20%20let%20fields%20%3D%20%5B%22_20p_mph%22%2C%20%22shape_meters%22%2C%20%22route_short_name%22%2C%20%22shape_id%22%2C%20%22direction_id%22%2C%20%22stop_id%22%2C%20%22stop_sequence%22%2C%20%22trips_per_hour%22%2C%20%22delay_seconds%22%2C%20%22delay_chg_sec%22%5D%3B%0A%20%20%20%20let%20aliases%20%3D%20%5B%22Speed%20%28miles%20per%20hour%29%22%2C%20%22Distance%20along%20route%20%28meters%29%22%2C%20%22Route%22%2C%20%22Shape%20ID%22%2C%20%22Direction%20ID%22%2C%20%22Next%20Stop%20ID%22%2C%20%22Next%20Stop%20Sequence%22%2C%20%22Trips%20per%20Hour%22%2C%20%22Current%20Delay%20%28seconds%29%22%2C%20%22Change%20in%20Delay%20%28seconds%29%22%5D%3B%0A%20%20%20%20let%20table%20%3D%20%27%3Ctable%3E%27%20%2B%0A%20%20%20%20%20%20%20%20String%28%0A%20%20%20%20%20%20%20%20fields.map%28%0A%20%20%20%20%20%20%20%20%28v%2Ci%29%3D%3E%0A%20%20%20%20%20%20%20%20%60%3Ctr%3E%0A%20%20%20%20%20%20%20%20%20%20%20%20%3Cth%3E%24%7Baliases%5Bi%5D.toLocaleString%28%29%7D%3C/th%3E%0A%20%20%20%20%20%20%20%20%20%20%20%20%0A%20%20%20%20%20%20%20%20%20%20%20%20%3Ctd%3E%24%7BhandleObject%28layer.feature.properties%5Bv%5D%29.toLocaleString%28%29%7D%3C/td%3E%0A%20%20%20%20%20%20%20%20%3C/tr%3E%60%29.join%28%27%27%29%29%0A%20%20%20%20%2B%27%3C/table%3E%27%3B%0A%20%20%20%20div.innerHTML%3Dtable%3B%0A%20%20%20%20%0A%20%20%20%20return%20div%0A%20%20%20%20%7D%0A%20%20%20%20%2C%7B%22className%22%3A%20%22foliumpopup%22%2C%20%22maxWidth%22%3A%20100%2C%20%22minWidth%22%3A%2050%7D%29%3B%0A%20%20%20%20%20%20%20%20%20%20%20%20%20%20%20%20%20%20%20%20%20%0A%20%20%20%20%0A%20%20%20%20var%20color_map_73a5a618285d49d69364dcec4e687f81%20%3D%20%7B%7D%3B%0A%0A%20%20%20%20%0A%20%20%20%20color_map_73a5a618285d49d69364dcec4e687f81.color%20%3D%20d3.scale.threshold%28%29%0A%20%20%20%20%20%20%20%20%20%20%20%20%20%20.domain%28%5B0.0%2C%200.06012024048096192%2C%200.12024048096192384%2C%200.18036072144288579%2C%200.24048096192384769%2C%200.30060120240480964%2C%200.36072144288577157%2C%200.42084168336673344%2C%200.48096192384769537%2C%200.5410821643286573%2C%200.6012024048096193%2C%200.6613226452905812%2C%200.7214428857715431%2C%200.781563126252505%2C%200.8416833667334669%2C%200.9018036072144289%2C%200.9619238476953907%2C%201.0220440881763526%2C%201.0821643286573146%2C%201.1422845691382766%2C%201.2024048096192386%2C%201.2625250501002003%2C%201.3226452905811623%2C%201.3827655310621243%2C%201.4428857715430863%2C%201.503006012024048%2C%201.56312625250501%2C%201.623246492985972%2C%201.6833667334669338%2C%201.7434869739478958%2C%201.8036072144288577%2C%201.8637274549098197%2C%201.9238476953907815%2C%201.9839679358717435%2C%202.0440881763527052%2C%202.1042084168336674%2C%202.164328657314629%2C%202.224448897795591%2C%202.284569138276553%2C%202.344689378757515%2C%202.404809619238477%2C%202.464929859719439%2C%202.5250501002004007%2C%202.585170340681363%2C%202.6452905811623246%2C%202.7054108216432864%2C%202.7655310621242486%2C%202.8256513026052104%2C%202.8857715430861726%2C%202.9458917835671343%2C%203.006012024048096%2C%203.0661322645290583%2C%203.12625250501002%2C%203.186372745490982%2C%203.246492985971944%2C%203.306613226452906%2C%203.3667334669338675%2C%203.4268537074148298%2C%203.4869739478957915%2C%203.5470941883767537%2C%203.6072144288577155%2C%203.6673346693386772%2C%203.7274549098196395%2C%203.787575150300601%2C%203.847695390781563%2C%203.907815631262525%2C%203.967935871743487%2C%204.028056112224449%2C%204.0881763527054105%2C%204.148296593186373%2C%204.208416833667335%2C%204.268537074148297%2C%204.328657314629258%2C%204.38877755511022%2C%204.448897795591182%2C%204.509018036072145%2C%204.569138276553106%2C%204.629258517034068%2C%204.68937875751503%2C%204.749498997995992%2C%204.809619238476954%2C%204.869739478957916%2C%204.929859719438878%2C%204.98997995991984%2C%205.050100200400801%2C%205.110220440881764%2C%205.170340681362726%2C%205.2304609218436875%2C%205.290581162324649%2C%205.350701402805611%2C%205.410821643286573%2C%205.470941883767535%2C%205.531062124248497%2C%205.591182364729459%2C%205.651302605210421%2C%205.7114228456913825%2C%205.771543086172345%2C%205.831663326653307%2C%205.891783567134269%2C%205.95190380761523%2C%206.012024048096192%2C%206.072144288577154%2C%206.132264529058117%2C%206.192384769539078%2C%206.25250501002004%2C%206.312625250501002%2C%206.372745490981964%2C%206.432865731462926%2C%206.492985971943888%2C%206.55310621242485%2C%206.613226452905812%2C%206.673346693386773%2C%206.733466933867735%2C%206.793587174348698%2C%206.8537074148296595%2C%206.913827655310621%2C%206.973947895791583%2C%207.034068136272545%2C%207.094188376753507%2C%207.154308617234469%2C%207.214428857715431%2C%207.274549098196393%2C%207.3346693386773545%2C%207.394789579158316%2C%207.454909819639279%2C%207.515030060120241%2C%207.575150300601202%2C%207.635270541082164%2C%207.695390781563126%2C%207.755511022044089%2C%207.81563126252505%2C%207.875751503006012%2C%207.935871743486974%2C%207.995991983967936%2C%208.056112224448897%2C%208.11623246492986%2C%208.176352705410821%2C%208.236472945891784%2C%208.296593186372746%2C%208.356713426853707%2C%208.41683366733467%2C%208.47695390781563%2C%208.537074148296593%2C%208.597194388777556%2C%208.657314629258517%2C%208.71743486973948%2C%208.77755511022044%2C%208.837675350701403%2C%208.897795591182364%2C%208.957915831663327%2C%209.01803607214429%2C%209.07815631262525%2C%209.138276553106213%2C%209.198396793587174%2C%209.258517034068136%2C%209.318637274549099%2C%209.37875751503006%2C%209.438877755511022%2C%209.498997995991983%2C%209.559118236472946%2C%209.619238476953909%2C%209.67935871743487%2C%209.739478957915832%2C%209.799599198396793%2C%209.859719438877756%2C%209.919839679358718%2C%209.97995991983968%2C%2010.040080160320642%2C%2010.100200400801603%2C%2010.160320641282565%2C%2010.220440881763528%2C%2010.280561122244489%2C%2010.340681362725451%2C%2010.400801603206412%2C%2010.460921843687375%2C%2010.521042084168336%2C%2010.581162324649299%2C%2010.641282565130261%2C%2010.701402805611222%2C%2010.761523046092185%2C%2010.821643286573146%2C%2010.881763527054108%2C%2010.94188376753507%2C%2011.002004008016032%2C%2011.062124248496994%2C%2011.122244488977955%2C%2011.182364729458918%2C%2011.24248496993988%2C%2011.302605210420841%2C%2011.362725450901804%2C%2011.422845691382765%2C%2011.482965931863728%2C%2011.54308617234469%2C%2011.603206412825651%2C%2011.663326653306614%2C%2011.723446893787575%2C%2011.783567134268537%2C%2011.843687374749498%2C%2011.90380761523046%2C%2011.963927855711423%2C%2012.024048096192384%2C%2012.084168336673347%2C%2012.144288577154308%2C%2012.20440881763527%2C%2012.264529058116233%2C%2012.324649298597194%2C%2012.384769539078157%2C%2012.444889779559118%2C%2012.50501002004008%2C%2012.565130260521043%2C%2012.625250501002004%2C%2012.685370741482966%2C%2012.745490981963927%2C%2012.80561122244489%2C%2012.865731462925853%2C%2012.925851703406813%2C%2012.985971943887776%2C%2013.046092184368737%2C%2013.1062124248497%2C%2013.16633266533066%2C%2013.226452905811623%2C%2013.286573146292586%2C%2013.346693386773547%2C%2013.40681362725451%2C%2013.46693386773547%2C%2013.527054108216433%2C%2013.587174348697395%2C%2013.647294589178356%2C%2013.707414829659319%2C%2013.76753507014028%2C%2013.827655310621243%2C%2013.887775551102205%2C%2013.947895791583166%2C%2014.008016032064129%2C%2014.06813627254509%2C%2014.128256513026052%2C%2014.188376753507015%2C%2014.248496993987976%2C%2014.308617234468938%2C%2014.3687374749499%2C%2014.428857715430862%2C%2014.488977955911823%2C%2014.549098196392785%2C%2014.609218436873748%2C%2014.669338677354709%2C%2014.729458917835672%2C%2014.789579158316633%2C%2014.849699398797595%2C%2014.909819639278558%2C%2014.969939879759519%2C%2015.030060120240481%2C%2015.090180360721442%2C%2015.150300601202405%2C%2015.210420841683367%2C%2015.270541082164328%2C%2015.330661322645291%2C%2015.390781563126252%2C%2015.450901803607215%2C%2015.511022044088177%2C%2015.571142284569138%2C%2015.6312625250501%2C%2015.691382765531062%2C%2015.751503006012024%2C%2015.811623246492985%2C%2015.871743486973948%2C%2015.93186372745491%2C%2015.991983967935871%2C%2016.052104208416832%2C%2016.112224448897795%2C%2016.172344689378757%2C%2016.23246492985972%2C%2016.292585170340683%2C%2016.352705410821642%2C%2016.412825651302605%2C%2016.472945891783567%2C%2016.53306613226453%2C%2016.593186372745492%2C%2016.65330661322645%2C%2016.713426853707414%2C%2016.773547094188377%2C%2016.83366733466934%2C%2016.893787575150302%2C%2016.95390781563126%2C%2017.014028056112224%2C%2017.074148296593187%2C%2017.13426853707415%2C%2017.194388777555112%2C%2017.25450901803607%2C%2017.314629258517034%2C%2017.374749498997996%2C%2017.43486973947896%2C%2017.49498997995992%2C%2017.55511022044088%2C%2017.615230460921843%2C%2017.675350701402806%2C%2017.73547094188377%2C%2017.795591182364728%2C%2017.85571142284569%2C%2017.915831663326653%2C%2017.975951903807616%2C%2018.03607214428858%2C%2018.096192384769537%2C%2018.1563126252505%2C%2018.216432865731463%2C%2018.276553106212425%2C%2018.336673346693388%2C%2018.396793587174347%2C%2018.45691382765531%2C%2018.517034068136272%2C%2018.577154308617235%2C%2018.637274549098198%2C%2018.697394789579157%2C%2018.75751503006012%2C%2018.817635270541082%2C%2018.877755511022045%2C%2018.937875751503007%2C%2018.997995991983966%2C%2019.05811623246493%2C%2019.118236472945892%2C%2019.178356713426854%2C%2019.238476953907817%2C%2019.298597194388776%2C%2019.35871743486974%2C%2019.4188376753507%2C%2019.478957915831664%2C%2019.539078156312627%2C%2019.599198396793586%2C%2019.65931863727455%2C%2019.71943887775551%2C%2019.779559118236474%2C%2019.839679358717436%2C%2019.899799599198396%2C%2019.95991983967936%2C%2020.02004008016032%2C%2020.080160320641284%2C%2020.140280561122246%2C%2020.200400801603205%2C%2020.260521042084168%2C%2020.32064128256513%2C%2020.380761523046093%2C%2020.440881763527056%2C%2020.501002004008015%2C%2020.561122244488978%2C%2020.62124248496994%2C%2020.681362725450903%2C%2020.741482965931862%2C%2020.801603206412825%2C%2020.861723446893787%2C%2020.92184368737475%2C%2020.981963927855713%2C%2021.04208416833667%2C%2021.102204408817634%2C%2021.162324649298597%2C%2021.22244488977956%2C%2021.282565130260522%2C%2021.34268537074148%2C%2021.402805611222444%2C%2021.462925851703407%2C%2021.52304609218437%2C%2021.583166332665332%2C%2021.64328657314629%2C%2021.703406813627254%2C%2021.763527054108216%2C%2021.82364729458918%2C%2021.88376753507014%2C%2021.9438877755511%2C%2022.004008016032063%2C%2022.064128256513026%2C%2022.12424849699399%2C%2022.18436873747495%2C%2022.24448897795591%2C%2022.304609218436873%2C%2022.364729458917836%2C%2022.4248496993988%2C%2022.48496993987976%2C%2022.54509018036072%2C%2022.605210420841683%2C%2022.665330661322646%2C%2022.725450901803608%2C%2022.78557114228457%2C%2022.84569138276553%2C%2022.905811623246493%2C%2022.965931863727455%2C%2023.026052104208418%2C%2023.08617234468938%2C%2023.14629258517034%2C%2023.206412825651302%2C%2023.266533066132265%2C%2023.326653306613228%2C%2023.386773547094187%2C%2023.44689378757515%2C%2023.507014028056112%2C%2023.567134268537075%2C%2023.627254509018037%2C%2023.687374749498996%2C%2023.74749498997996%2C%2023.80761523046092%2C%2023.867735470941884%2C%2023.927855711422847%2C%2023.987975951903806%2C%2024.04809619238477%2C%2024.10821643286573%2C%2024.168336673346694%2C%2024.228456913827657%2C%2024.288577154308616%2C%2024.34869739478958%2C%2024.40881763527054%2C%2024.468937875751504%2C%2024.529058116232466%2C%2024.589178356713425%2C%2024.649298597194388%2C%2024.70941883767535%2C%2024.769539078156313%2C%2024.829659318637276%2C%2024.889779559118235%2C%2024.949899799599198%2C%2025.01002004008016%2C%2025.070140280561123%2C%2025.130260521042086%2C%2025.190380761523045%2C%2025.250501002004007%2C%2025.31062124248497%2C%2025.370741482965933%2C%2025.430861723446895%2C%2025.490981963927855%2C%2025.551102204408817%2C%2025.61122244488978%2C%2025.671342685370742%2C%2025.731462925851705%2C%2025.791583166332664%2C%2025.851703406813627%2C%2025.91182364729459%2C%2025.971943887775552%2C%2026.03206412825651%2C%2026.092184368737474%2C%2026.152304609218437%2C%2026.2124248496994%2C%2026.272545090180362%2C%2026.33266533066132%2C%2026.392785571142284%2C%2026.452905811623246%2C%2026.51302605210421%2C%2026.57314629258517%2C%2026.63326653306613%2C%2026.693386773547093%2C%2026.753507014028056%2C%2026.81362725450902%2C%2026.87374749498998%2C%2026.93386773547094%2C%2026.993987975951903%2C%2027.054108216432866%2C%2027.11422845691383%2C%2027.17434869739479%2C%2027.23446893787575%2C%2027.294589178356713%2C%2027.354709418837675%2C%2027.414829659318638%2C%2027.4749498997996%2C%2027.53507014028056%2C%2027.595190380761522%2C%2027.655310621242485%2C%2027.715430861723448%2C%2027.77555110220441%2C%2027.83567134268537%2C%2027.895791583166332%2C%2027.955911823647295%2C%2028.016032064128257%2C%2028.07615230460922%2C%2028.13627254509018%2C%2028.196392785571142%2C%2028.256513026052104%2C%2028.316633266533067%2C%2028.37675350701403%2C%2028.43687374749499%2C%2028.49699398797595%2C%2028.557114228456914%2C%2028.617234468937877%2C%2028.677354709418836%2C%2028.7374749498998%2C%2028.79759519038076%2C%2028.857715430861724%2C%2028.917835671342687%2C%2028.977955911823646%2C%2029.03807615230461%2C%2029.09819639278557%2C%2029.158316633266534%2C%2029.218436873747496%2C%2029.278557114228455%2C%2029.338677354709418%2C%2029.39879759519038%2C%2029.458917835671343%2C%2029.519038076152306%2C%2029.579158316633265%2C%2029.639278557114228%2C%2029.69939879759519%2C%2029.759519038076153%2C%2029.819639278557116%2C%2029.879759519038075%2C%2029.939879759519037%2C%2030.0%5D%29%0A%20%20%20%20%20%20%20%20%20%20%20%20%20%20.range%28%5B%27%23a50026ff%27%2C%20%27%23a50026ff%27%2C%20%27%23a50026ff%27%2C%20%27%23a50026ff%27%2C%20%27%23a50026ff%27%2C%20%27%23a50026ff%27%2C%20%27%23a50026ff%27%2C%20%27%23a50026ff%27%2C%20%27%23a50026ff%27%2C%20%27%23a50026ff%27%2C%20%27%23a50026ff%27%2C%20%27%23a50026ff%27%2C%20%27%23a50026ff%27%2C%20%27%23a50026ff%27%2C%20%27%23a50026ff%27%2C%20%27%23a50026ff%27%2C%20%27%23a50026ff%27%2C%20%27%23a50026ff%27%2C%20%27%23a50026ff%27%2C%20%27%23a50026ff%27%2C%20%27%23a50026ff%27%2C%20%27%23a50026ff%27%2C%20%27%23a50026ff%27%2C%20%27%23a50026ff%27%2C%20%27%23a50026ff%27%2C%20%27%23a50026ff%27%2C%20%27%23a50026ff%27%2C%20%27%23a50026ff%27%2C%20%27%23a50026ff%27%2C%20%27%23a50026ff%27%2C%20%27%23a50026ff%27%2C%20%27%23a50026ff%27%2C%20%27%23a50026ff%27%2C%20%27%23a50026ff%27%2C%20%27%23a50026ff%27%2C%20%27%23a50026ff%27%2C%20%27%23a50026ff%27%2C%20%27%23a50026ff%27%2C%20%27%23a50026ff%27%2C%20%27%23a50026ff%27%2C%20%27%23a50026ff%27%2C%20%27%23a50026ff%27%2C%20%27%23a50026ff%27%2C%20%27%23a50026ff%27%2C%20%27%23a50026ff%27%2C%20%27%23a50026ff%27%2C%20%27%23a50026ff%27%2C%20%27%23a50026ff%27%2C%20%27%23a50026ff%27%2C%20%27%23a50026ff%27%2C%20%27%23d73027ff%27%2C%20%27%23d73027ff%27%2C%20%27%23d73027ff%27%2C%20%27%23d73027ff%27%2C%20%27%23d73027ff%27%2C%20%27%23d73027ff%27%2C%20%27%23d73027ff%27%2C%20%27%23d73027ff%27%2C%20%27%23d73027ff%27%2C%20%27%23d73027ff%27%2C%20%27%23d73027ff%27%2C%20%27%23d73027ff%27%2C%20%27%23d73027ff%27%2C%20%27%23d73027ff%27%2C%20%27%23d73027ff%27%2C%20%27%23d73027ff%27%2C%20%27%23d73027ff%27%2C%20%27%23d73027ff%27%2C%20%27%23d73027ff%27%2C%20%27%23d73027ff%27%2C%20%27%23d73027ff%27%2C%20%27%23d73027ff%27%2C%20%27%23d73027ff%27%2C%20%27%23d73027ff%27%2C%20%27%23d73027ff%27%2C%20%27%23d73027ff%27%2C%20%27%23d73027ff%27%2C%20%27%23d73027ff%27%2C%20%27%23d73027ff%27%2C%20%27%23d73027ff%27%2C%20%27%23d73027ff%27%2C%20%27%23d73027ff%27%2C%20%27%23d73027ff%27%2C%20%27%23d73027ff%27%2C%20%27%23d73027ff%27%2C%20%27%23d73027ff%27%2C%20%27%23d73027ff%27%2C%20%27%23d73027ff%27%2C%20%27%23d73027ff%27%2C%20%27%23d73027ff%27%2C%20%27%23d73027ff%27%2C%20%27%23d73027ff%27%2C%20%27%23d73027ff%27%2C%20%27%23d73027ff%27%2C%20%27%23d73027ff%27%2C%20%27%23d73027ff%27%2C%20%27%23d73027ff%27%2C%20%27%23d73027ff%27%2C%20%27%23d73027ff%27%2C%20%27%23d73027ff%27%2C%20%27%23f46d43ff%27%2C%20%27%23f46d43ff%27%2C%20%27%23f46d43ff%27%2C%20%27%23f46d43ff%27%2C%20%27%23f46d43ff%27%2C%20%27%23f46d43ff%27%2C%20%27%23f46d43ff%27%2C%20%27%23f46d43ff%27%2C%20%27%23f46d43ff%27%2C%20%27%23f46d43ff%27%2C%20%27%23f46d43ff%27%2C%20%27%23f46d43ff%27%2C%20%27%23f46d43ff%27%2C%20%27%23f46d43ff%27%2C%20%27%23f46d43ff%27%2C%20%27%23f46d43ff%27%2C%20%27%23f46d43ff%27%2C%20%27%23f46d43ff%27%2C%20%27%23f46d43ff%27%2C%20%27%23f46d43ff%27%2C%20%27%23f46d43ff%27%2C%20%27%23f46d43ff%27%2C%20%27%23f46d43ff%27%2C%20%27%23f46d43ff%27%2C%20%27%23f46d43ff%27%2C%20%27%23f46d43ff%27%2C%20%27%23f46d43ff%27%2C%20%27%23f46d43ff%27%2C%20%27%23f46d43ff%27%2C%20%27%23f46d43ff%27%2C%20%27%23f46d43ff%27%2C%20%27%23f46d43ff%27%2C%20%27%23f46d43ff%27%2C%20%27%23f46d43ff%27%2C%20%27%23f46d43ff%27%2C%20%27%23f46d43ff%27%2C%20%27%23f46d43ff%27%2C%20%27%23f46d43ff%27%2C%20%27%23f46d43ff%27%2C%20%27%23f46d43ff%27%2C%20%27%23f46d43ff%27%2C%20%27%23f46d43ff%27%2C%20%27%23f46d43ff%27%2C%20%27%23f46d43ff%27%2C%20%27%23f46d43ff%27%2C%20%27%23f46d43ff%27%2C%20%27%23f46d43ff%27%2C%20%27%23f46d43ff%27%2C%20%27%23f46d43ff%27%2C%20%27%23f46d43ff%27%2C%20%27%23fdae61ff%27%2C%20%27%23fdae61ff%27%2C%20%27%23fdae61ff%27%2C%20%27%23fdae61ff%27%2C%20%27%23fdae61ff%27%2C%20%27%23fdae61ff%27%2C%20%27%23fdae61ff%27%2C%20%27%23fdae61ff%27%2C%20%27%23fdae61ff%27%2C%20%27%23fdae61ff%27%2C%20%27%23fdae61ff%27%2C%20%27%23fdae61ff%27%2C%20%27%23fdae61ff%27%2C%20%27%23fdae61ff%27%2C%20%27%23fdae61ff%27%2C%20%27%23fdae61ff%27%2C%20%27%23fdae61ff%27%2C%20%27%23fdae61ff%27%2C%20%27%23fdae61ff%27%2C%20%27%23fdae61ff%27%2C%20%27%23fdae61ff%27%2C%20%27%23fdae61ff%27%2C%20%27%23fdae61ff%27%2C%20%27%23fdae61ff%27%2C%20%27%23fdae61ff%27%2C%20%27%23fdae61ff%27%2C%20%27%23fdae61ff%27%2C%20%27%23fdae61ff%27%2C%20%27%23fdae61ff%27%2C%20%27%23fdae61ff%27%2C%20%27%23fdae61ff%27%2C%20%27%23fdae61ff%27%2C%20%27%23fdae61ff%27%2C%20%27%23fdae61ff%27%2C%20%27%23fdae61ff%27%2C%20%27%23fdae61ff%27%2C%20%27%23fdae61ff%27%2C%20%27%23fdae61ff%27%2C%20%27%23fdae61ff%27%2C%20%27%23fdae61ff%27%2C%20%27%23fdae61ff%27%2C%20%27%23fdae61ff%27%2C%20%27%23fdae61ff%27%2C%20%27%23fdae61ff%27%2C%20%27%23fdae61ff%27%2C%20%27%23fdae61ff%27%2C%20%27%23fdae61ff%27%2C%20%27%23fdae61ff%27%2C%20%27%23fdae61ff%27%2C%20%27%23fdae61ff%27%2C%20%27%23fee08bff%27%2C%20%27%23fee08bff%27%2C%20%27%23fee08bff%27%2C%20%27%23fee08bff%27%2C%20%27%23fee08bff%27%2C%20%27%23fee08bff%27%2C%20%27%23fee08bff%27%2C%20%27%23fee08bff%27%2C%20%27%23fee08bff%27%2C%20%27%23fee08bff%27%2C%20%27%23fee08bff%27%2C%20%27%23fee08bff%27%2C%20%27%23fee08bff%27%2C%20%27%23fee08bff%27%2C%20%27%23fee08bff%27%2C%20%27%23fee08bff%27%2C%20%27%23fee08bff%27%2C%20%27%23fee08bff%27%2C%20%27%23fee08bff%27%2C%20%27%23fee08bff%27%2C%20%27%23fee08bff%27%2C%20%27%23fee08bff%27%2C%20%27%23fee08bff%27%2C%20%27%23fee08bff%27%2C%20%27%23fee08bff%27%2C%20%27%23fee08bff%27%2C%20%27%23fee08bff%27%2C%20%27%23fee08bff%27%2C%20%27%23fee08bff%27%2C%20%27%23fee08bff%27%2C%20%27%23fee08bff%27%2C%20%27%23fee08bff%27%2C%20%27%23fee08bff%27%2C%20%27%23fee08bff%27%2C%20%27%23fee08bff%27%2C%20%27%23fee08bff%27%2C%20%27%23fee08bff%27%2C%20%27%23fee08bff%27%2C%20%27%23fee08bff%27%2C%20%27%23fee08bff%27%2C%20%27%23fee08bff%27%2C%20%27%23fee08bff%27%2C%20%27%23fee08bff%27%2C%20%27%23fee08bff%27%2C%20%27%23fee08bff%27%2C%20%27%23fee08bff%27%2C%20%27%23fee08bff%27%2C%20%27%23fee08bff%27%2C%20%27%23fee08bff%27%2C%20%27%23fee08bff%27%2C%20%27%23d9ef8bff%27%2C%20%27%23d9ef8bff%27%2C%20%27%23d9ef8bff%27%2C%20%27%23d9ef8bff%27%2C%20%27%23d9ef8bff%27%2C%20%27%23d9ef8bff%27%2C%20%27%23d9ef8bff%27%2C%20%27%23d9ef8bff%27%2C%20%27%23d9ef8bff%27%2C%20%27%23d9ef8bff%27%2C%20%27%23d9ef8bff%27%2C%20%27%23d9ef8bff%27%2C%20%27%23d9ef8bff%27%2C%20%27%23d9ef8bff%27%2C%20%27%23d9ef8bff%27%2C%20%27%23d9ef8bff%27%2C%20%27%23d9ef8bff%27%2C%20%27%23d9ef8bff%27%2C%20%27%23d9ef8bff%27%2C%20%27%23d9ef8bff%27%2C%20%27%23d9ef8bff%27%2C%20%27%23d9ef8bff%27%2C%20%27%23d9ef8bff%27%2C%20%27%23d9ef8bff%27%2C%20%27%23d9ef8bff%27%2C%20%27%23d9ef8bff%27%2C%20%27%23d9ef8bff%27%2C%20%27%23d9ef8bff%27%2C%20%27%23d9ef8bff%27%2C%20%27%23d9ef8bff%27%2C%20%27%23d9ef8bff%27%2C%20%27%23d9ef8bff%27%2C%20%27%23d9ef8bff%27%2C%20%27%23d9ef8bff%27%2C%20%27%23d9ef8bff%27%2C%20%27%23d9ef8bff%27%2C%20%27%23d9ef8bff%27%2C%20%27%23d9ef8bff%27%2C%20%27%23d9ef8bff%27%2C%20%27%23d9ef8bff%27%2C%20%27%23d9ef8bff%27%2C%20%27%23d9ef8bff%27%2C%20%27%23d9ef8bff%27%2C%20%27%23d9ef8bff%27%2C%20%27%23d9ef8bff%27%2C%20%27%23d9ef8bff%27%2C%20%27%23d9ef8bff%27%2C%20%27%23d9ef8bff%27%2C%20%27%23d9ef8bff%27%2C%20%27%23d9ef8bff%27%2C%20%27%23a6d96aff%27%2C%20%27%23a6d96aff%27%2C%20%27%23a6d96aff%27%2C%20%27%23a6d96aff%27%2C%20%27%23a6d96aff%27%2C%20%27%23a6d96aff%27%2C%20%27%23a6d96aff%27%2C%20%27%23a6d96aff%27%2C%20%27%23a6d96aff%27%2C%20%27%23a6d96aff%27%2C%20%27%23a6d96aff%27%2C%20%27%23a6d96aff%27%2C%20%27%23a6d96aff%27%2C%20%27%23a6d96aff%27%2C%20%27%23a6d96aff%27%2C%20%27%23a6d96aff%27%2C%20%27%23a6d96aff%27%2C%20%27%23a6d96aff%27%2C%20%27%23a6d96aff%27%2C%20%27%23a6d96aff%27%2C%20%27%23a6d96aff%27%2C%20%27%23a6d96aff%27%2C%20%27%23a6d96aff%27%2C%20%27%23a6d96aff%27%2C%20%27%23a6d96aff%27%2C%20%27%23a6d96aff%27%2C%20%27%23a6d96aff%27%2C%20%27%23a6d96aff%27%2C%20%27%23a6d96aff%27%2C%20%27%23a6d96aff%27%2C%20%27%23a6d96aff%27%2C%20%27%23a6d96aff%27%2C%20%27%23a6d96aff%27%2C%20%27%23a6d96aff%27%2C%20%27%23a6d96aff%27%2C%20%27%23a6d96aff%27%2C%20%27%23a6d96aff%27%2C%20%27%23a6d96aff%27%2C%20%27%23a6d96aff%27%2C%20%27%23a6d96aff%27%2C%20%27%23a6d96aff%27%2C%20%27%23a6d96aff%27%2C%20%27%23a6d96aff%27%2C%20%27%23a6d96aff%27%2C%20%27%23a6d96aff%27%2C%20%27%23a6d96aff%27%2C%20%27%23a6d96aff%27%2C%20%27%23a6d96aff%27%2C%20%27%23a6d96aff%27%2C%20%27%23a6d96aff%27%2C%20%27%2366bd63ff%27%2C%20%27%2366bd63ff%27%2C%20%27%2366bd63ff%27%2C%20%27%2366bd63ff%27%2C%20%27%2366bd63ff%27%2C%20%27%2366bd63ff%27%2C%20%27%2366bd63ff%27%2C%20%27%2366bd63ff%27%2C%20%27%2366bd63ff%27%2C%20%27%2366bd63ff%27%2C%20%27%2366bd63ff%27%2C%20%27%2366bd63ff%27%2C%20%27%2366bd63ff%27%2C%20%27%2366bd63ff%27%2C%20%27%2366bd63ff%27%2C%20%27%2366bd63ff%27%2C%20%27%2366bd63ff%27%2C%20%27%2366bd63ff%27%2C%20%27%2366bd63ff%27%2C%20%27%2366bd63ff%27%2C%20%27%2366bd63ff%27%2C%20%27%2366bd63ff%27%2C%20%27%2366bd63ff%27%2C%20%27%2366bd63ff%27%2C%20%27%2366bd63ff%27%2C%20%27%2366bd63ff%27%2C%20%27%2366bd63ff%27%2C%20%27%2366bd63ff%27%2C%20%27%2366bd63ff%27%2C%20%27%2366bd63ff%27%2C%20%27%2366bd63ff%27%2C%20%27%2366bd63ff%27%2C%20%27%2366bd63ff%27%2C%20%27%2366bd63ff%27%2C%20%27%2366bd63ff%27%2C%20%27%2366bd63ff%27%2C%20%27%2366bd63ff%27%2C%20%27%2366bd63ff%27%2C%20%27%2366bd63ff%27%2C%20%27%2366bd63ff%27%2C%20%27%2366bd63ff%27%2C%20%27%2366bd63ff%27%2C%20%27%2366bd63ff%27%2C%20%27%2366bd63ff%27%2C%20%27%2366bd63ff%27%2C%20%27%2366bd63ff%27%2C%20%27%2366bd63ff%27%2C%20%27%2366bd63ff%27%2C%20%27%2366bd63ff%27%2C%20%27%2366bd63ff%27%2C%20%27%231a9850ff%27%2C%20%27%231a9850ff%27%2C%20%27%231a9850ff%27%2C%20%27%231a9850ff%27%2C%20%27%231a9850ff%27%2C%20%27%231a9850ff%27%2C%20%27%231a9850ff%27%2C%20%27%231a9850ff%27%2C%20%27%231a9850ff%27%2C%20%27%231a9850ff%27%2C%20%27%231a9850ff%27%2C%20%27%231a9850ff%27%2C%20%27%231a9850ff%27%2C%20%27%231a9850ff%27%2C%20%27%231a9850ff%27%2C%20%27%231a9850ff%27%2C%20%27%231a9850ff%27%2C%20%27%231a9850ff%27%2C%20%27%231a9850ff%27%2C%20%27%231a9850ff%27%2C%20%27%231a9850ff%27%2C%20%27%231a9850ff%27%2C%20%27%231a9850ff%27%2C%20%27%231a9850ff%27%2C%20%27%231a9850ff%27%2C%20%27%231a9850ff%27%2C%20%27%231a9850ff%27%2C%20%27%231a9850ff%27%2C%20%27%231a9850ff%27%2C%20%27%231a9850ff%27%2C%20%27%231a9850ff%27%2C%20%27%231a9850ff%27%2C%20%27%231a9850ff%27%2C%20%27%231a9850ff%27%2C%20%27%231a9850ff%27%2C%20%27%231a9850ff%27%2C%20%27%231a9850ff%27%2C%20%27%231a9850ff%27%2C%20%27%231a9850ff%27%2C%20%27%231a9850ff%27%2C%20%27%231a9850ff%27%2C%20%27%231a9850ff%27%2C%20%27%231a9850ff%27%2C%20%27%231a9850ff%27%2C%20%27%231a9850ff%27%2C%20%27%231a9850ff%27%2C%20%27%231a9850ff%27%2C%20%27%231a9850ff%27%2C%20%27%231a9850ff%27%2C%20%27%231a9850ff%27%2C%20%27%23006837ff%27%2C%20%27%23006837ff%27%2C%20%27%23006837ff%27%2C%20%27%23006837ff%27%2C%20%27%23006837ff%27%2C%20%27%23006837ff%27%2C%20%27%23006837ff%27%2C%20%27%23006837ff%27%2C%20%27%23006837ff%27%2C%20%27%23006837ff%27%2C%20%27%23006837ff%27%2C%20%27%23006837ff%27%2C%20%27%23006837ff%27%2C%20%27%23006837ff%27%2C%20%27%23006837ff%27%2C%20%27%23006837ff%27%2C%20%27%23006837ff%27%2C%20%27%23006837ff%27%2C%20%27%23006837ff%27%2C%20%27%23006837ff%27%2C%20%27%23006837ff%27%2C%20%27%23006837ff%27%2C%20%27%23006837ff%27%2C%20%27%23006837ff%27%2C%20%27%23006837ff%27%2C%20%27%23006837ff%27%2C%20%27%23006837ff%27%2C%20%27%23006837ff%27%2C%20%27%23006837ff%27%2C%20%27%23006837ff%27%2C%20%27%23006837ff%27%2C%20%27%23006837ff%27%2C%20%27%23006837ff%27%2C%20%27%23006837ff%27%2C%20%27%23006837ff%27%2C%20%27%23006837ff%27%2C%20%27%23006837ff%27%2C%20%27%23006837ff%27%2C%20%27%23006837ff%27%2C%20%27%23006837ff%27%2C%20%27%23006837ff%27%2C%20%27%23006837ff%27%2C%20%27%23006837ff%27%2C%20%27%23006837ff%27%2C%20%27%23006837ff%27%2C%20%27%23006837ff%27%2C%20%27%23006837ff%27%2C%20%27%23006837ff%27%2C%20%27%23006837ff%27%2C%20%27%23006837ff%27%5D%29%3B%0A%20%20%20%20%0A%0A%20%20%20%20color_map_73a5a618285d49d69364dcec4e687f81.x%20%3D%20d3.scale.linear%28%29%0A%20%20%20%20%20%20%20%20%20%20%20%20%20%20.domain%28%5B0.0%2C%2030.0%5D%29%0A%20%20%20%20%20%20%20%20%20%20%20%20%20%20.range%28%5B0%2C%20400%5D%29%3B%0A%0A%20%20%20%20color_map_73a5a618285d49d69364dcec4e687f81.legend%20%3D%20L.control%28%7Bposition%3A%20%27topright%27%7D%29%3B%0A%20%20%20%20color_map_73a5a618285d49d69364dcec4e687f81.legend.onAdd%20%3D%20function%20%28map%29%20%7Bvar%20div%20%3D%20L.DomUtil.create%28%27div%27%2C%20%27legend%27%29%3B%20return%20div%7D%3B%0A%20%20%20%20color_map_73a5a618285d49d69364dcec4e687f81.legend.addTo%28map_44bea7932e544c9080aef1032fe07640%29%3B%0A%0A%20%20%20%20color_map_73a5a618285d49d69364dcec4e687f81.xAxis%20%3D%20d3.svg.axis%28%29%0A%20%20%20%20%20%20%20%20.scale%28color_map_73a5a618285d49d69364dcec4e687f81.x%29%0A%20%20%20%20%20%20%20%20.orient%28%22top%22%29%0A%20%20%20%20%20%20%20%20.tickSize%281%29%0A%20%20%20%20%20%20%20%20.tickValues%28%5B0.0%2C%20%27%27%2C%206.0%2C%20%27%27%2C%2012.0%2C%20%27%27%2C%2018.0%2C%20%27%27%2C%2024.0%2C%20%27%27%2C%2030.0%2C%20%27%27%5D%29%3B%0A%0A%20%20%20%20color_map_73a5a618285d49d69364dcec4e687f81.svg%20%3D%20d3.select%28%22.legend.leaflet-control%22%29.append%28%22svg%22%29%0A%20%20%20%20%20%20%20%20.attr%28%22id%22%2C%20%27legend%27%29%0A%20%20%20%20%20%20%20%20.attr%28%22width%22%2C%20450%29%0A%20%20%20%20%20%20%20%20.attr%28%22height%22%2C%2040%29%3B%0A%0A%20%20%20%20color_map_73a5a618285d49d69364dcec4e687f81.g%20%3D%20color_map_73a5a618285d49d69364dcec4e687f81.svg.append%28%22g%22%29%0A%20%20%20%20%20%20%20%20.attr%28%22class%22%2C%20%22key%22%29%0A%20%20%20%20%20%20%20%20.attr%28%22transform%22%2C%20%22translate%2825%2C16%29%22%29%3B%0A%0A%20%20%20%20color_map_73a5a618285d49d69364dcec4e687f81.g.selectAll%28%22rect%22%29%0A%20%20%20%20%20%20%20%20.data%28color_map_73a5a618285d49d69364dcec4e687f81.color.range%28%29.map%28function%28d%2C%20i%29%20%7B%0A%20%20%20%20%20%20%20%20%20%20return%20%7B%0A%20%20%20%20%20%20%20%20%20%20%20%20x0%3A%20i%20%3F%20color_map_73a5a618285d49d69364dcec4e687f81.x%28color_map_73a5a618285d49d69364dcec4e687f81.color.domain%28%29%5Bi%20-%201%5D%29%20%3A%20color_map_73a5a618285d49d69364dcec4e687f81.x.range%28%29%5B0%5D%2C%0A%20%20%20%20%20%20%20%20%20%20%20%20x1%3A%20i%20%3C%20color_map_73a5a618285d49d69364dcec4e687f81.color.domain%28%29.length%20%3F%20color_map_73a5a618285d49d69364dcec4e687f81.x%28color_map_73a5a618285d49d69364dcec4e687f81.color.domain%28%29%5Bi%5D%29%20%3A%20color_map_73a5a618285d49d69364dcec4e687f81.x.range%28%29%5B1%5D%2C%0A%20%20%20%20%20%20%20%20%20%20%20%20z%3A%20d%0A%20%20%20%20%20%20%20%20%20%20%7D%3B%0A%20%20%20%20%20%20%20%20%7D%29%29%0A%20%20%20%20%20%20.enter%28%29.append%28%22rect%22%29%0A%20%20%20%20%20%20%20%20.attr%28%22height%22%2C%2010%29%0A%20%20%20%20%20%20%20%20.attr%28%22x%22%2C%20function%28d%29%20%7B%20return%20d.x0%3B%20%7D%29%0A%20%20%20%20%20%20%20%20.attr%28%22width%22%2C%20function%28d%29%20%7B%20return%20d.x1%20-%20d.x0%3B%20%7D%29%0A%20%20%20%20%20%20%20%20.style%28%22fill%22%2C%20function%28d%29%20%7B%20return%20d.z%3B%20%7D%29%3B%0A%0A%20%20%20%20color_map_73a5a618285d49d69364dcec4e687f81.g.call%28color_map_73a5a618285d49d69364dcec4e687f81.xAxis%29.append%28%22text%22%29%0A%20%20%20%20%20%20%20%20.attr%28%22class%22%2C%20%22caption%22%29%0A%20%20%20%20%20%20%20%20.attr%28%22y%22%2C%2021%29%0A%20%20%20%20%20%20%20%20.text%28%27Speed%20%28miles%20per%20hour%29%27%29%3B%0A%3C/script%3E onload=\"this.contentDocument.open();this.contentDocument.write(    decodeURIComponent(this.getAttribute('data-html')));this.contentDocument.close();\" \"allowfullscreen\" \"webkitallowfullscreen\" \"mozallowfullscreen\"></iframe>"
      ],
      "text/plain": [
       "<branca.element.Figure at 0x7f0f7f3c5a00>"
      ]
     },
     "execution_count": 20,
     "metadata": {},
     "output_type": "execute_result"
    }
   ],
   "source": [
    "m"
   ]
  },
  {
   "cell_type": "code",
   "execution_count": 21,
   "id": "6c745570-b50f-4722-b943-2176444f7af6",
   "metadata": {
    "execution": {
     "iopub.execute_input": "2022-04-15T23:11:43.643707Z",
     "iopub.status.busy": "2022-04-15T23:11:43.643306Z",
     "iopub.status.idle": "2022-04-15T23:11:43.675646Z",
     "shell.execute_reply": "2022-04-15T23:11:43.674434Z"
    },
    "jupyter": {
     "source_hidden": true
    },
    "papermill": {
     "duration": 0.059392,
     "end_time": "2022-04-15T23:11:43.677969",
     "exception": false,
     "start_time": "2022-04-15T23:11:43.618577",
     "status": "completed"
    },
    "tags": [
     "remove_input"
    ]
   },
   "outputs": [
    {
     "name": "stdout",
     "output_type": "stream",
     "text": [
      "describe delayed routes failed!\n"
     ]
    }
   ],
   "source": [
    "rt_day.describe_delayed_routes()"
   ]
  },
  {
   "cell_type": "markdown",
   "id": "704f0788-b4a8-497d-b2aa-c7ac6df939f4",
   "metadata": {
    "papermill": {
     "duration": 0.02172,
     "end_time": "2022-04-15T23:11:43.721580",
     "exception": false,
     "start_time": "2022-04-15T23:11:43.699860",
     "status": "completed"
    },
    "tags": []
   },
   "source": [
    "## Afternoon Peak"
   ]
  },
  {
   "cell_type": "code",
   "execution_count": 22,
   "id": "923f1462-b34a-42d2-a632-c5eb3ac16ac6",
   "metadata": {
    "execution": {
     "iopub.execute_input": "2022-04-15T23:11:43.777863Z",
     "iopub.status.busy": "2022-04-15T23:11:43.777500Z",
     "iopub.status.idle": "2022-04-15T23:11:43.784329Z",
     "shell.execute_reply": "2022-04-15T23:11:43.783546Z"
    },
    "jupyter": {
     "source_hidden": true
    },
    "papermill": {
     "duration": 0.039505,
     "end_time": "2022-04-15T23:11:43.786196",
     "exception": false,
     "start_time": "2022-04-15T23:11:43.746691",
     "status": "completed"
    },
    "tags": [
     "remove_input"
    ]
   },
   "outputs": [],
   "source": [
    "%%capture\n",
    "rt_day.set_filter(start_time='15:00', end_time='19:00')"
   ]
  },
  {
   "cell_type": "code",
   "execution_count": 23,
   "id": "5e46b095-7bc2-4552-a37b-661d076b2b51",
   "metadata": {
    "execution": {
     "iopub.execute_input": "2022-04-15T23:11:43.831349Z",
     "iopub.status.busy": "2022-04-15T23:11:43.830808Z",
     "iopub.status.idle": "2022-04-15T23:11:43.904525Z",
     "shell.execute_reply": "2022-04-15T23:11:43.903776Z"
    },
    "jupyter": {
     "source_hidden": true
    },
    "papermill": {
     "duration": 0.099196,
     "end_time": "2022-04-15T23:11:43.906663",
     "exception": false,
     "start_time": "2022-04-15T23:11:43.807467",
     "status": "completed"
    },
    "tags": [
     "remove_input"
    ]
   },
   "outputs": [],
   "source": [
    "%%capture\n",
    "m = rt_day.segment_speed_map(how='low_speeds', no_title=True)"
   ]
  },
  {
   "cell_type": "code",
   "execution_count": 24,
   "id": "0393f107-e9fe-4982-961a-032f7bf4e0eb",
   "metadata": {
    "execution": {
     "iopub.execute_input": "2022-04-15T23:11:43.954519Z",
     "iopub.status.busy": "2022-04-15T23:11:43.952545Z",
     "iopub.status.idle": "2022-04-15T23:11:43.989063Z",
     "shell.execute_reply": "2022-04-15T23:11:43.988157Z"
    },
    "jupyter": {
     "source_hidden": true
    },
    "papermill": {
     "duration": 0.062908,
     "end_time": "2022-04-15T23:11:43.991288",
     "exception": false,
     "start_time": "2022-04-15T23:11:43.928380",
     "status": "completed"
    },
    "tags": [
     "remove_input"
    ]
   },
   "outputs": [
    {
     "data": {
      "text/html": [
       "<iframe src=\"about:blank\" width=\"900\" height=\"550\"style=\"border:none !important;\" data-html=%3C%21DOCTYPE%20html%3E%0A%3Chead%3E%20%20%20%20%0A%20%20%20%20%3Cmeta%20http-equiv%3D%22content-type%22%20content%3D%22text/html%3B%20charset%3DUTF-8%22%20/%3E%0A%20%20%20%20%0A%20%20%20%20%20%20%20%20%3Cscript%3E%0A%20%20%20%20%20%20%20%20%20%20%20%20L_NO_TOUCH%20%3D%20false%3B%0A%20%20%20%20%20%20%20%20%20%20%20%20L_DISABLE_3D%20%3D%20false%3B%0A%20%20%20%20%20%20%20%20%3C/script%3E%0A%20%20%20%20%0A%20%20%20%20%3Cstyle%3Ehtml%2C%20body%20%7Bwidth%3A%20100%25%3Bheight%3A%20100%25%3Bmargin%3A%200%3Bpadding%3A%200%3B%7D%3C/style%3E%0A%20%20%20%20%3Cstyle%3E%23map%20%7Bposition%3Aabsolute%3Btop%3A0%3Bbottom%3A0%3Bright%3A0%3Bleft%3A0%3B%7D%3C/style%3E%0A%20%20%20%20%3Cscript%20src%3D%22https%3A//cdn.jsdelivr.net/npm/leaflet%401.6.0/dist/leaflet.js%22%3E%3C/script%3E%0A%20%20%20%20%3Cscript%20src%3D%22https%3A//code.jquery.com/jquery-1.12.4.min.js%22%3E%3C/script%3E%0A%20%20%20%20%3Cscript%20src%3D%22https%3A//maxcdn.bootstrapcdn.com/bootstrap/3.2.0/js/bootstrap.min.js%22%3E%3C/script%3E%0A%20%20%20%20%3Cscript%20src%3D%22https%3A//cdnjs.cloudflare.com/ajax/libs/Leaflet.awesome-markers/2.0.2/leaflet.awesome-markers.js%22%3E%3C/script%3E%0A%20%20%20%20%3Clink%20rel%3D%22stylesheet%22%20href%3D%22https%3A//cdn.jsdelivr.net/npm/leaflet%401.6.0/dist/leaflet.css%22/%3E%0A%20%20%20%20%3Clink%20rel%3D%22stylesheet%22%20href%3D%22https%3A//maxcdn.bootstrapcdn.com/bootstrap/3.2.0/css/bootstrap.min.css%22/%3E%0A%20%20%20%20%3Clink%20rel%3D%22stylesheet%22%20href%3D%22https%3A//maxcdn.bootstrapcdn.com/bootstrap/3.2.0/css/bootstrap-theme.min.css%22/%3E%0A%20%20%20%20%3Clink%20rel%3D%22stylesheet%22%20href%3D%22https%3A//maxcdn.bootstrapcdn.com/font-awesome/4.6.3/css/font-awesome.min.css%22/%3E%0A%20%20%20%20%3Clink%20rel%3D%22stylesheet%22%20href%3D%22https%3A//cdnjs.cloudflare.com/ajax/libs/Leaflet.awesome-markers/2.0.2/leaflet.awesome-markers.css%22/%3E%0A%20%20%20%20%3Clink%20rel%3D%22stylesheet%22%20href%3D%22https%3A//cdn.jsdelivr.net/gh/python-visualization/folium/folium/templates/leaflet.awesome.rotate.min.css%22/%3E%0A%20%20%20%20%0A%20%20%20%20%20%20%20%20%20%20%20%20%3Cmeta%20name%3D%22viewport%22%20content%3D%22width%3Ddevice-width%2C%0A%20%20%20%20%20%20%20%20%20%20%20%20%20%20%20%20initial-scale%3D1.0%2C%20maximum-scale%3D1.0%2C%20user-scalable%3Dno%22%20/%3E%0A%20%20%20%20%20%20%20%20%20%20%20%20%3Cstyle%3E%0A%20%20%20%20%20%20%20%20%20%20%20%20%20%20%20%20%23map_44bea7932e544c9080aef1032fe07640%20%7B%0A%20%20%20%20%20%20%20%20%20%20%20%20%20%20%20%20%20%20%20%20position%3A%20relative%3B%0A%20%20%20%20%20%20%20%20%20%20%20%20%20%20%20%20%20%20%20%20width%3A%20900.0px%3B%0A%20%20%20%20%20%20%20%20%20%20%20%20%20%20%20%20%20%20%20%20height%3A%20550.0px%3B%0A%20%20%20%20%20%20%20%20%20%20%20%20%20%20%20%20%20%20%20%20left%3A%200.0%25%3B%0A%20%20%20%20%20%20%20%20%20%20%20%20%20%20%20%20%20%20%20%20top%3A%200.0%25%3B%0A%20%20%20%20%20%20%20%20%20%20%20%20%20%20%20%20%7D%0A%20%20%20%20%20%20%20%20%20%20%20%20%3C/style%3E%0A%20%20%20%20%20%20%20%20%0A%20%20%20%20%0A%20%20%20%20%20%20%20%20%20%20%20%20%20%20%20%20%20%20%20%20%3Cstyle%3E%0A%20%20%20%20%20%20%20%20%20%20%20%20%20%20%20%20%20%20%20%20%20%20%20%20.foliumtooltip%20%7B%0A%20%20%20%20%20%20%20%20%20%20%20%20%20%20%20%20%20%20%20%20%20%20%20%20%20%20%20%20%0A%20%20%20%20%20%20%20%20%20%20%20%20background-color%3A%20%22gray%22%3B%0A%20%20%20%20%20%20%20%20%20%20%20%20border%3A%200px%20%23FFFFFF%3B%0A%20%20%20%20%20%20%20%20%20%20%20%20border-radius%3A%200px%3B%0A%20%20%20%20%20%20%20%20%20%20%20%20box-shadow%3A%200px%3B%0A%20%20%20%20%20%20%20%20%20%20%20%20font-size%3A%2012px%3B%0A%20%20%20%20%20%20%20%20%0A%20%20%20%20%20%20%20%20%20%20%20%20%20%20%20%20%20%20%20%20%20%20%20%20%7D%0A%20%20%20%20%20%20%20%20%20%20%20%20%20%20%20%20%20%20%20%20%20%20%20.foliumtooltip%20table%7B%0A%20%20%20%20%20%20%20%20%20%20%20%20%20%20%20%20%20%20%20%20%20%20%20%20%20%20%20%20margin%3A%20auto%3B%0A%20%20%20%20%20%20%20%20%20%20%20%20%20%20%20%20%20%20%20%20%20%20%20%20%7D%0A%20%20%20%20%20%20%20%20%20%20%20%20%20%20%20%20%20%20%20%20%20%20%20%20.foliumtooltip%20tr%7B%0A%20%20%20%20%20%20%20%20%20%20%20%20%20%20%20%20%20%20%20%20%20%20%20%20%20%20%20%20text-align%3A%20left%3B%0A%20%20%20%20%20%20%20%20%20%20%20%20%20%20%20%20%20%20%20%20%20%20%20%20%7D%0A%20%20%20%20%20%20%20%20%20%20%20%20%20%20%20%20%20%20%20%20%20%20%20%20.foliumtooltip%20th%7B%0A%20%20%20%20%20%20%20%20%20%20%20%20%20%20%20%20%20%20%20%20%20%20%20%20%20%20%20%20padding%3A%202px%3B%20padding-right%3A%208px%3B%0A%20%20%20%20%20%20%20%20%20%20%20%20%20%20%20%20%20%20%20%20%20%20%20%20%7D%0A%20%20%20%20%20%20%20%20%20%20%20%20%20%20%20%20%20%20%20%20%3C/style%3E%0A%20%20%20%20%20%20%20%20%20%20%20%20%0A%20%20%20%20%0A%20%20%20%20%20%20%20%20%20%20%20%20%20%20%20%20%20%20%20%20%3Cstyle%3E%0A%20%20%20%20%20%20%20%20%20%20%20%20%20%20%20%20%20%20%20%20%20%20%20%20.foliumpopup%20%7B%0A%20%20%20%20%20%20%20%20%20%20%20%20%20%20%20%20%20%20%20%20%20%20%20%20%20%20%20%20background-color%3A%20light_gray%3B%0A%20%20%20%20%20%20%20%20%20%20%20%20%20%20%20%20%20%20%20%20%20%20%20%20%7D%0A%20%20%20%20%20%20%20%20%20%20%20%20%20%20%20%20%20%20%20%20%20%20%20.foliumpopup%20table%7B%0A%20%20%20%20%20%20%20%20%20%20%20%20%20%20%20%20%20%20%20%20%20%20%20%20%20%20%20%20margin%3A%20auto%3B%0A%20%20%20%20%20%20%20%20%20%20%20%20%20%20%20%20%20%20%20%20%20%20%20%20%7D%0A%20%20%20%20%20%20%20%20%20%20%20%20%20%20%20%20%20%20%20%20%20%20%20%20.foliumpopup%20tr%7B%0A%20%20%20%20%20%20%20%20%20%20%20%20%20%20%20%20%20%20%20%20%20%20%20%20%20%20%20%20text-align%3A%20left%3B%0A%20%20%20%20%20%20%20%20%20%20%20%20%20%20%20%20%20%20%20%20%20%20%20%20%7D%0A%20%20%20%20%20%20%20%20%20%20%20%20%20%20%20%20%20%20%20%20%20%20%20%20.foliumpopup%20th%7B%0A%20%20%20%20%20%20%20%20%20%20%20%20%20%20%20%20%20%20%20%20%20%20%20%20%20%20%20%20padding%3A%202px%3B%20padding-right%3A%208px%3B%0A%20%20%20%20%20%20%20%20%20%20%20%20%20%20%20%20%20%20%20%20%20%20%20%20%7D%0A%20%20%20%20%20%20%20%20%20%20%20%20%20%20%20%20%20%20%20%20%3C/style%3E%0A%20%20%20%20%20%20%20%20%20%20%20%20%0A%20%20%20%20%3Cscript%20src%3D%22https%3A//cdnjs.cloudflare.com/ajax/libs/d3/3.5.5/d3.min.js%22%3E%3C/script%3E%0A%3C/head%3E%0A%3Cbody%3E%20%20%20%20%0A%20%20%20%20%0A%20%20%20%20%20%20%20%20%20%20%20%20%20%3Ch3%20align%3D%22center%22%20style%3D%22font-size%3A20px%22%3E%3Cb%3E%3C/b%3E%3C/h3%3E%0A%20%20%20%20%20%20%20%20%20%20%20%20%20%0A%20%20%20%20%0A%20%20%20%20%20%20%20%20%20%20%20%20%3Cdiv%20class%3D%22folium-map%22%20id%3D%22map_44bea7932e544c9080aef1032fe07640%22%20%3E%3C/div%3E%0A%20%20%20%20%20%20%20%20%0A%3C/body%3E%0A%3Cscript%3E%20%20%20%20%0A%20%20%20%20%0A%20%20%20%20%20%20%20%20%20%20%20%20var%20map_44bea7932e544c9080aef1032fe07640%20%3D%20L.map%28%0A%20%20%20%20%20%20%20%20%20%20%20%20%20%20%20%20%22map_44bea7932e544c9080aef1032fe07640%22%2C%0A%20%20%20%20%20%20%20%20%20%20%20%20%20%20%20%20%7B%0A%20%20%20%20%20%20%20%20%20%20%20%20%20%20%20%20%20%20%20%20center%3A%20%5B39.10418300103904%2C%20-122.90842538303619%5D%2C%0A%20%20%20%20%20%20%20%20%20%20%20%20%20%20%20%20%20%20%20%20crs%3A%20L.CRS.EPSG3857%2C%0A%20%20%20%20%20%20%20%20%20%20%20%20%20%20%20%20%20%20%20%20zoom%3A%2013%2C%0A%20%20%20%20%20%20%20%20%20%20%20%20%20%20%20%20%20%20%20%20zoomControl%3A%20true%2C%0A%20%20%20%20%20%20%20%20%20%20%20%20%20%20%20%20%20%20%20%20preferCanvas%3A%20false%2C%0A%20%20%20%20%20%20%20%20%20%20%20%20%20%20%20%20%7D%0A%20%20%20%20%20%20%20%20%20%20%20%20%29%3B%0A%0A%20%20%20%20%20%20%20%20%20%20%20%20%0A%0A%20%20%20%20%20%20%20%20%0A%20%20%20%20%0A%20%20%20%20%20%20%20%20%20%20%20%20var%20tile_layer_5fe955a9ba4645f59869d3a76d30b1dc%20%3D%20L.tileLayer%28%0A%20%20%20%20%20%20%20%20%20%20%20%20%20%20%20%20%22https%3A//cartodb-basemaps-%7Bs%7D.global.ssl.fastly.net/light_all/%7Bz%7D/%7Bx%7D/%7By%7D.png%22%2C%0A%20%20%20%20%20%20%20%20%20%20%20%20%20%20%20%20%7B%22attribution%22%3A%20%22%5Cu0026copy%3B%20%5Cu003ca%20href%3D%5C%22http%3A//www.openstreetmap.org/copyright%5C%22%5Cu003eOpenStreetMap%5Cu003c/a%5Cu003e%20contributors%20%5Cu0026copy%3B%20%5Cu003ca%20href%3D%5C%22http%3A//cartodb.com/attributions%5C%22%5Cu003eCartoDB%5Cu003c/a%5Cu003e%2C%20CartoDB%20%5Cu003ca%20href%20%3D%5C%22http%3A//cartodb.com/attributions%5C%22%5Cu003eattributions%5Cu003c/a%5Cu003e%22%2C%20%22detectRetina%22%3A%20false%2C%20%22maxNativeZoom%22%3A%2018%2C%20%22maxZoom%22%3A%2018%2C%20%22minZoom%22%3A%200%2C%20%22noWrap%22%3A%20false%2C%20%22opacity%22%3A%201%2C%20%22subdomains%22%3A%20%22abc%22%2C%20%22tms%22%3A%20false%7D%0A%20%20%20%20%20%20%20%20%20%20%20%20%29.addTo%28map_44bea7932e544c9080aef1032fe07640%29%3B%0A%20%20%20%20%20%20%20%20%0A%20%20%20%20%0A%20%20%20%20%20%20%20%20function%20geo_json_2fe73a3f80c547679b16baa04be7b760_styler%28feature%29%20%7B%0A%20%20%20%20%20%20%20%20%20%20%20%20switch%28feature.id%29%20%7B%0A%20%20%20%20%20%20%20%20%20%20%20%20%20%20%20%20default%3A%0A%20%20%20%20%20%20%20%20%20%20%20%20%20%20%20%20%20%20%20%20return%20%7B%22color%22%3A%20%22%23FFFFFF%22%2C%20%22fillColor%22%3A%20%22%23a50026ff%22%2C%20%22fillOpacity%22%3A%200.8%2C%20%22weight%22%3A%200.2%7D%3B%0A%20%20%20%20%20%20%20%20%20%20%20%20%7D%0A%20%20%20%20%20%20%20%20%7D%0A%20%20%20%20%20%20%20%20function%20geo_json_2fe73a3f80c547679b16baa04be7b760_highlighter%28feature%29%20%7B%0A%20%20%20%20%20%20%20%20%20%20%20%20switch%28feature.id%29%20%7B%0A%20%20%20%20%20%20%20%20%20%20%20%20%20%20%20%20default%3A%0A%20%20%20%20%20%20%20%20%20%20%20%20%20%20%20%20%20%20%20%20return%20%7B%22fillColor%22%3A%20%22%23DD1C77%22%2C%20%22fillOpacity%22%3A%200.6%7D%3B%0A%20%20%20%20%20%20%20%20%20%20%20%20%7D%0A%20%20%20%20%20%20%20%20%7D%0A%0A%20%20%20%20%20%20%20%20function%20geo_json_2fe73a3f80c547679b16baa04be7b760_onEachFeature%28feature%2C%20layer%29%20%7B%0A%20%20%20%20%20%20%20%20%20%20%20%20layer.on%28%7B%0A%20%20%20%20%20%20%20%20%20%20%20%20%20%20%20%20mouseout%3A%20function%28e%29%20%7B%0A%20%20%20%20%20%20%20%20%20%20%20%20%20%20%20%20%20%20%20%20if%28typeof%20e.target.setStyle%20%3D%3D%3D%20%22function%22%29%7B%0A%20%20%20%20%20%20%20%20%20%20%20%20%20%20%20%20%20%20%20%20%20%20%20%20geo_json_2fe73a3f80c547679b16baa04be7b760.resetStyle%28e.target%29%3B%0A%20%20%20%20%20%20%20%20%20%20%20%20%20%20%20%20%20%20%20%20%7D%0A%20%20%20%20%20%20%20%20%20%20%20%20%20%20%20%20%7D%2C%0A%20%20%20%20%20%20%20%20%20%20%20%20%20%20%20%20mouseover%3A%20function%28e%29%20%7B%0A%20%20%20%20%20%20%20%20%20%20%20%20%20%20%20%20%20%20%20%20if%28typeof%20e.target.setStyle%20%3D%3D%3D%20%22function%22%29%7B%0A%20%20%20%20%20%20%20%20%20%20%20%20%20%20%20%20%20%20%20%20%20%20%20%20const%20highlightStyle%20%3D%20geo_json_2fe73a3f80c547679b16baa04be7b760_highlighter%28e.target.feature%29%0A%20%20%20%20%20%20%20%20%20%20%20%20%20%20%20%20%20%20%20%20%20%20%20%20e.target.setStyle%28highlightStyle%29%3B%0A%20%20%20%20%20%20%20%20%20%20%20%20%20%20%20%20%20%20%20%20%7D%0A%20%20%20%20%20%20%20%20%20%20%20%20%20%20%20%20%7D%2C%0A%20%20%20%20%20%20%20%20%20%20%20%20%7D%29%3B%0A%20%20%20%20%20%20%20%20%7D%3B%0A%20%20%20%20%20%20%20%20var%20geo_json_2fe73a3f80c547679b16baa04be7b760%20%3D%20L.geoJson%28null%2C%20%7B%0A%20%20%20%20%20%20%20%20%20%20%20%20%20%20%20%20onEachFeature%3A%20geo_json_2fe73a3f80c547679b16baa04be7b760_onEachFeature%2C%0A%20%20%20%20%20%20%20%20%20%20%20%20%0A%20%20%20%20%20%20%20%20%20%20%20%20%20%20%20%20style%3A%20geo_json_2fe73a3f80c547679b16baa04be7b760_styler%2C%0A%20%20%20%20%20%20%20%20%7D%29%3B%0A%0A%20%20%20%20%20%20%20%20function%20geo_json_2fe73a3f80c547679b16baa04be7b760_add%20%28data%29%20%7B%0A%20%20%20%20%20%20%20%20%20%20%20%20geo_json_2fe73a3f80c547679b16baa04be7b760%0A%20%20%20%20%20%20%20%20%20%20%20%20%20%20%20%20.addData%28data%29%0A%20%20%20%20%20%20%20%20%20%20%20%20%20%20%20%20.addTo%28map_44bea7932e544c9080aef1032fe07640%29%3B%0A%20%20%20%20%20%20%20%20%7D%0A%20%20%20%20%20%20%20%20%20%20%20%20geo_json_2fe73a3f80c547679b16baa04be7b760_add%28%7B%22bbox%22%3A%20%5B-122.9091959775552%2C%2039.103909827973645%2C%20-122.90767985612997%2C%2039.1045673031292%5D%2C%20%22features%22%3A%20%5B%7B%22bbox%22%3A%20%5B-122.9091959775552%2C%2039.103909827973645%2C%20-122.90767985612997%2C%2039.1045673031292%5D%2C%20%22geometry%22%3A%20%7B%22coordinates%22%3A%20%5B%5B%5B-122.90830455272969%2C%2039.1044144721524%5D%2C%20%5B-122.9081868322164%2C%2039.1045000052552%5D%2C%20%5B-122.90776863607363%2C%2039.1045673031292%5D%2C%20%5B-122.90788651505608%2C%2039.10436604090189%5D%2C%20%5B-122.90767985612997%2C%2039.10421407853905%5D%2C%20%5B-122.90794140725862%2C%2039.104174346777256%5D%2C%20%5B-122.9080868726046%2C%2039.103965750671584%5D%2C%20%5B-122.90824997709916%2C%2039.103909827973645%5D%2C%20%5B-122.90904935520251%2C%2039.10395797311589%5D%2C%20%5B-122.9091959775552%2C%2039.10414747614545%5D%2C%20%5B-122.90901294926664%2C%2039.1043167630623%5D%2C%20%5B-122.90839190162419%2C%2039.104278674717186%5D%2C%20%5B-122.90830455272969%2C%2039.1044144721524%5D%5D%5D%2C%20%22type%22%3A%20%22Polygon%22%7D%2C%20%22id%22%3A%20%220%22%2C%20%22properties%22%3A%20%7B%22_20p_mph%22%3A%200.6%2C%20%22avg_mph%22%3A%200.6%2C%20%22delay_chg_sec%22%3A%200.0%2C%20%22delay_seconds%22%3A%200%2C%20%22direction_id%22%3A%20%221%22%2C%20%22last_loc%22%3A%200.07103455272313809%2C%20%22meters_from_last%22%3A%20272.9789614094451%2C%20%22n_trips%22%3A%201%2C%20%22route_id%22%3A%20%222017%22%2C%20%22route_short_name%22%3A%20%221%22%2C%20%22seconds_from_last%22%3A%20970.0%2C%20%22shape_id%22%3A%20%22p_4709%22%2C%20%22shape_meters%22%3A%20273.0%2C%20%22speed_from_last%22%3A%200.2814216097004589%2C%20%22speed_mph%22%3A%200.6295401408999265%2C%20%22stop_id%22%3A%20%22784119%22%2C%20%22stop_name%22%3A%20%22Lake%20County%20Jail%22%2C%20%22stop_sequence%22%3A%202%2C%20%22trip_id%22%3A%20%22t_1057339_b_25985_tn_0%22%2C%20%22trip_key%22%3A%20-3552072959869154419%2C%20%22trips_per_hour%22%3A%200.2%7D%2C%20%22type%22%3A%20%22Feature%22%7D%5D%2C%20%22type%22%3A%20%22FeatureCollection%22%7D%29%3B%0A%0A%20%20%20%20%20%20%20%20%0A%20%20%20%20%0A%20%20%20%20geo_json_2fe73a3f80c547679b16baa04be7b760.bindTooltip%28%0A%20%20%20%20function%28layer%29%7B%0A%20%20%20%20let%20div%20%3D%20L.DomUtil.create%28%27div%27%29%3B%0A%20%20%20%20%0A%20%20%20%20let%20handleObject%20%3D%20feature%3D%3Etypeof%28feature%29%3D%3D%27object%27%20%3F%20JSON.stringify%28feature%29%20%3A%20feature%3B%0A%20%20%20%20let%20fields%20%3D%20%5B%22_20p_mph%22%2C%20%22shape_meters%22%2C%20%22route_short_name%22%2C%20%22shape_id%22%2C%20%22direction_id%22%2C%20%22stop_id%22%2C%20%22stop_sequence%22%2C%20%22trips_per_hour%22%2C%20%22delay_seconds%22%2C%20%22delay_chg_sec%22%5D%3B%0A%20%20%20%20let%20aliases%20%3D%20%5B%22Speed%20%28miles%20per%20hour%29%22%2C%20%22Distance%20along%20route%20%28meters%29%22%2C%20%22Route%22%2C%20%22Shape%20ID%22%2C%20%22Direction%20ID%22%2C%20%22Next%20Stop%20ID%22%2C%20%22Next%20Stop%20Sequence%22%2C%20%22Trips%20per%20Hour%22%2C%20%22Current%20Delay%20%28seconds%29%22%2C%20%22Change%20in%20Delay%20%28seconds%29%22%5D%3B%0A%20%20%20%20let%20table%20%3D%20%27%3Ctable%3E%27%20%2B%0A%20%20%20%20%20%20%20%20String%28%0A%20%20%20%20%20%20%20%20fields.map%28%0A%20%20%20%20%20%20%20%20%28v%2Ci%29%3D%3E%0A%20%20%20%20%20%20%20%20%60%3Ctr%3E%0A%20%20%20%20%20%20%20%20%20%20%20%20%3Cth%3E%24%7Baliases%5Bi%5D%7D%3C/th%3E%0A%20%20%20%20%20%20%20%20%20%20%20%20%0A%20%20%20%20%20%20%20%20%20%20%20%20%3Ctd%3E%24%7BhandleObject%28layer.feature.properties%5Bv%5D%29%7D%3C/td%3E%0A%20%20%20%20%20%20%20%20%3C/tr%3E%60%29.join%28%27%27%29%29%0A%20%20%20%20%2B%27%3C/table%3E%27%3B%0A%20%20%20%20div.innerHTML%3Dtable%3B%0A%20%20%20%20%0A%20%20%20%20return%20div%0A%20%20%20%20%7D%0A%20%20%20%20%2C%7B%22className%22%3A%20%22foliumtooltip%22%2C%20%22maxWidth%22%3A%20100%2C%20%22minWidth%22%3A%2050%2C%20%22sticky%22%3A%20false%7D%29%3B%0A%20%20%20%20%20%20%20%20%20%20%20%20%20%20%20%20%20%20%20%20%20%0A%20%20%20%20%0A%20%20%20%20geo_json_2fe73a3f80c547679b16baa04be7b760.bindPopup%28%0A%20%20%20%20function%28layer%29%7B%0A%20%20%20%20let%20div%20%3D%20L.DomUtil.create%28%27div%27%29%3B%0A%20%20%20%20%0A%20%20%20%20let%20handleObject%20%3D%20feature%3D%3Etypeof%28feature%29%3D%3D%27object%27%20%3F%20JSON.stringify%28feature%29%20%3A%20feature%3B%0A%20%20%20%20let%20fields%20%3D%20%5B%22_20p_mph%22%2C%20%22shape_meters%22%2C%20%22route_short_name%22%2C%20%22shape_id%22%2C%20%22direction_id%22%2C%20%22stop_id%22%2C%20%22stop_sequence%22%2C%20%22trips_per_hour%22%2C%20%22delay_seconds%22%2C%20%22delay_chg_sec%22%5D%3B%0A%20%20%20%20let%20aliases%20%3D%20%5B%22Speed%20%28miles%20per%20hour%29%22%2C%20%22Distance%20along%20route%20%28meters%29%22%2C%20%22Route%22%2C%20%22Shape%20ID%22%2C%20%22Direction%20ID%22%2C%20%22Next%20Stop%20ID%22%2C%20%22Next%20Stop%20Sequence%22%2C%20%22Trips%20per%20Hour%22%2C%20%22Current%20Delay%20%28seconds%29%22%2C%20%22Change%20in%20Delay%20%28seconds%29%22%5D%3B%0A%20%20%20%20let%20table%20%3D%20%27%3Ctable%3E%27%20%2B%0A%20%20%20%20%20%20%20%20String%28%0A%20%20%20%20%20%20%20%20fields.map%28%0A%20%20%20%20%20%20%20%20%28v%2Ci%29%3D%3E%0A%20%20%20%20%20%20%20%20%60%3Ctr%3E%0A%20%20%20%20%20%20%20%20%20%20%20%20%3Cth%3E%24%7Baliases%5Bi%5D.toLocaleString%28%29%7D%3C/th%3E%0A%20%20%20%20%20%20%20%20%20%20%20%20%0A%20%20%20%20%20%20%20%20%20%20%20%20%3Ctd%3E%24%7BhandleObject%28layer.feature.properties%5Bv%5D%29.toLocaleString%28%29%7D%3C/td%3E%0A%20%20%20%20%20%20%20%20%3C/tr%3E%60%29.join%28%27%27%29%29%0A%20%20%20%20%2B%27%3C/table%3E%27%3B%0A%20%20%20%20div.innerHTML%3Dtable%3B%0A%20%20%20%20%0A%20%20%20%20return%20div%0A%20%20%20%20%7D%0A%20%20%20%20%2C%7B%22className%22%3A%20%22foliumpopup%22%2C%20%22maxWidth%22%3A%20100%2C%20%22minWidth%22%3A%2050%7D%29%3B%0A%20%20%20%20%20%20%20%20%20%20%20%20%20%20%20%20%20%20%20%20%20%0A%20%20%20%20%0A%20%20%20%20var%20color_map_73a5a618285d49d69364dcec4e687f81%20%3D%20%7B%7D%3B%0A%0A%20%20%20%20%0A%20%20%20%20color_map_73a5a618285d49d69364dcec4e687f81.color%20%3D%20d3.scale.threshold%28%29%0A%20%20%20%20%20%20%20%20%20%20%20%20%20%20.domain%28%5B0.0%2C%200.06012024048096192%2C%200.12024048096192384%2C%200.18036072144288579%2C%200.24048096192384769%2C%200.30060120240480964%2C%200.36072144288577157%2C%200.42084168336673344%2C%200.48096192384769537%2C%200.5410821643286573%2C%200.6012024048096193%2C%200.6613226452905812%2C%200.7214428857715431%2C%200.781563126252505%2C%200.8416833667334669%2C%200.9018036072144289%2C%200.9619238476953907%2C%201.0220440881763526%2C%201.0821643286573146%2C%201.1422845691382766%2C%201.2024048096192386%2C%201.2625250501002003%2C%201.3226452905811623%2C%201.3827655310621243%2C%201.4428857715430863%2C%201.503006012024048%2C%201.56312625250501%2C%201.623246492985972%2C%201.6833667334669338%2C%201.7434869739478958%2C%201.8036072144288577%2C%201.8637274549098197%2C%201.9238476953907815%2C%201.9839679358717435%2C%202.0440881763527052%2C%202.1042084168336674%2C%202.164328657314629%2C%202.224448897795591%2C%202.284569138276553%2C%202.344689378757515%2C%202.404809619238477%2C%202.464929859719439%2C%202.5250501002004007%2C%202.585170340681363%2C%202.6452905811623246%2C%202.7054108216432864%2C%202.7655310621242486%2C%202.8256513026052104%2C%202.8857715430861726%2C%202.9458917835671343%2C%203.006012024048096%2C%203.0661322645290583%2C%203.12625250501002%2C%203.186372745490982%2C%203.246492985971944%2C%203.306613226452906%2C%203.3667334669338675%2C%203.4268537074148298%2C%203.4869739478957915%2C%203.5470941883767537%2C%203.6072144288577155%2C%203.6673346693386772%2C%203.7274549098196395%2C%203.787575150300601%2C%203.847695390781563%2C%203.907815631262525%2C%203.967935871743487%2C%204.028056112224449%2C%204.0881763527054105%2C%204.148296593186373%2C%204.208416833667335%2C%204.268537074148297%2C%204.328657314629258%2C%204.38877755511022%2C%204.448897795591182%2C%204.509018036072145%2C%204.569138276553106%2C%204.629258517034068%2C%204.68937875751503%2C%204.749498997995992%2C%204.809619238476954%2C%204.869739478957916%2C%204.929859719438878%2C%204.98997995991984%2C%205.050100200400801%2C%205.110220440881764%2C%205.170340681362726%2C%205.2304609218436875%2C%205.290581162324649%2C%205.350701402805611%2C%205.410821643286573%2C%205.470941883767535%2C%205.531062124248497%2C%205.591182364729459%2C%205.651302605210421%2C%205.7114228456913825%2C%205.771543086172345%2C%205.831663326653307%2C%205.891783567134269%2C%205.95190380761523%2C%206.012024048096192%2C%206.072144288577154%2C%206.132264529058117%2C%206.192384769539078%2C%206.25250501002004%2C%206.312625250501002%2C%206.372745490981964%2C%206.432865731462926%2C%206.492985971943888%2C%206.55310621242485%2C%206.613226452905812%2C%206.673346693386773%2C%206.733466933867735%2C%206.793587174348698%2C%206.8537074148296595%2C%206.913827655310621%2C%206.973947895791583%2C%207.034068136272545%2C%207.094188376753507%2C%207.154308617234469%2C%207.214428857715431%2C%207.274549098196393%2C%207.3346693386773545%2C%207.394789579158316%2C%207.454909819639279%2C%207.515030060120241%2C%207.575150300601202%2C%207.635270541082164%2C%207.695390781563126%2C%207.755511022044089%2C%207.81563126252505%2C%207.875751503006012%2C%207.935871743486974%2C%207.995991983967936%2C%208.056112224448897%2C%208.11623246492986%2C%208.176352705410821%2C%208.236472945891784%2C%208.296593186372746%2C%208.356713426853707%2C%208.41683366733467%2C%208.47695390781563%2C%208.537074148296593%2C%208.597194388777556%2C%208.657314629258517%2C%208.71743486973948%2C%208.77755511022044%2C%208.837675350701403%2C%208.897795591182364%2C%208.957915831663327%2C%209.01803607214429%2C%209.07815631262525%2C%209.138276553106213%2C%209.198396793587174%2C%209.258517034068136%2C%209.318637274549099%2C%209.37875751503006%2C%209.438877755511022%2C%209.498997995991983%2C%209.559118236472946%2C%209.619238476953909%2C%209.67935871743487%2C%209.739478957915832%2C%209.799599198396793%2C%209.859719438877756%2C%209.919839679358718%2C%209.97995991983968%2C%2010.040080160320642%2C%2010.100200400801603%2C%2010.160320641282565%2C%2010.220440881763528%2C%2010.280561122244489%2C%2010.340681362725451%2C%2010.400801603206412%2C%2010.460921843687375%2C%2010.521042084168336%2C%2010.581162324649299%2C%2010.641282565130261%2C%2010.701402805611222%2C%2010.761523046092185%2C%2010.821643286573146%2C%2010.881763527054108%2C%2010.94188376753507%2C%2011.002004008016032%2C%2011.062124248496994%2C%2011.122244488977955%2C%2011.182364729458918%2C%2011.24248496993988%2C%2011.302605210420841%2C%2011.362725450901804%2C%2011.422845691382765%2C%2011.482965931863728%2C%2011.54308617234469%2C%2011.603206412825651%2C%2011.663326653306614%2C%2011.723446893787575%2C%2011.783567134268537%2C%2011.843687374749498%2C%2011.90380761523046%2C%2011.963927855711423%2C%2012.024048096192384%2C%2012.084168336673347%2C%2012.144288577154308%2C%2012.20440881763527%2C%2012.264529058116233%2C%2012.324649298597194%2C%2012.384769539078157%2C%2012.444889779559118%2C%2012.50501002004008%2C%2012.565130260521043%2C%2012.625250501002004%2C%2012.685370741482966%2C%2012.745490981963927%2C%2012.80561122244489%2C%2012.865731462925853%2C%2012.925851703406813%2C%2012.985971943887776%2C%2013.046092184368737%2C%2013.1062124248497%2C%2013.16633266533066%2C%2013.226452905811623%2C%2013.286573146292586%2C%2013.346693386773547%2C%2013.40681362725451%2C%2013.46693386773547%2C%2013.527054108216433%2C%2013.587174348697395%2C%2013.647294589178356%2C%2013.707414829659319%2C%2013.76753507014028%2C%2013.827655310621243%2C%2013.887775551102205%2C%2013.947895791583166%2C%2014.008016032064129%2C%2014.06813627254509%2C%2014.128256513026052%2C%2014.188376753507015%2C%2014.248496993987976%2C%2014.308617234468938%2C%2014.3687374749499%2C%2014.428857715430862%2C%2014.488977955911823%2C%2014.549098196392785%2C%2014.609218436873748%2C%2014.669338677354709%2C%2014.729458917835672%2C%2014.789579158316633%2C%2014.849699398797595%2C%2014.909819639278558%2C%2014.969939879759519%2C%2015.030060120240481%2C%2015.090180360721442%2C%2015.150300601202405%2C%2015.210420841683367%2C%2015.270541082164328%2C%2015.330661322645291%2C%2015.390781563126252%2C%2015.450901803607215%2C%2015.511022044088177%2C%2015.571142284569138%2C%2015.6312625250501%2C%2015.691382765531062%2C%2015.751503006012024%2C%2015.811623246492985%2C%2015.871743486973948%2C%2015.93186372745491%2C%2015.991983967935871%2C%2016.052104208416832%2C%2016.112224448897795%2C%2016.172344689378757%2C%2016.23246492985972%2C%2016.292585170340683%2C%2016.352705410821642%2C%2016.412825651302605%2C%2016.472945891783567%2C%2016.53306613226453%2C%2016.593186372745492%2C%2016.65330661322645%2C%2016.713426853707414%2C%2016.773547094188377%2C%2016.83366733466934%2C%2016.893787575150302%2C%2016.95390781563126%2C%2017.014028056112224%2C%2017.074148296593187%2C%2017.13426853707415%2C%2017.194388777555112%2C%2017.25450901803607%2C%2017.314629258517034%2C%2017.374749498997996%2C%2017.43486973947896%2C%2017.49498997995992%2C%2017.55511022044088%2C%2017.615230460921843%2C%2017.675350701402806%2C%2017.73547094188377%2C%2017.795591182364728%2C%2017.85571142284569%2C%2017.915831663326653%2C%2017.975951903807616%2C%2018.03607214428858%2C%2018.096192384769537%2C%2018.1563126252505%2C%2018.216432865731463%2C%2018.276553106212425%2C%2018.336673346693388%2C%2018.396793587174347%2C%2018.45691382765531%2C%2018.517034068136272%2C%2018.577154308617235%2C%2018.637274549098198%2C%2018.697394789579157%2C%2018.75751503006012%2C%2018.817635270541082%2C%2018.877755511022045%2C%2018.937875751503007%2C%2018.997995991983966%2C%2019.05811623246493%2C%2019.118236472945892%2C%2019.178356713426854%2C%2019.238476953907817%2C%2019.298597194388776%2C%2019.35871743486974%2C%2019.4188376753507%2C%2019.478957915831664%2C%2019.539078156312627%2C%2019.599198396793586%2C%2019.65931863727455%2C%2019.71943887775551%2C%2019.779559118236474%2C%2019.839679358717436%2C%2019.899799599198396%2C%2019.95991983967936%2C%2020.02004008016032%2C%2020.080160320641284%2C%2020.140280561122246%2C%2020.200400801603205%2C%2020.260521042084168%2C%2020.32064128256513%2C%2020.380761523046093%2C%2020.440881763527056%2C%2020.501002004008015%2C%2020.561122244488978%2C%2020.62124248496994%2C%2020.681362725450903%2C%2020.741482965931862%2C%2020.801603206412825%2C%2020.861723446893787%2C%2020.92184368737475%2C%2020.981963927855713%2C%2021.04208416833667%2C%2021.102204408817634%2C%2021.162324649298597%2C%2021.22244488977956%2C%2021.282565130260522%2C%2021.34268537074148%2C%2021.402805611222444%2C%2021.462925851703407%2C%2021.52304609218437%2C%2021.583166332665332%2C%2021.64328657314629%2C%2021.703406813627254%2C%2021.763527054108216%2C%2021.82364729458918%2C%2021.88376753507014%2C%2021.9438877755511%2C%2022.004008016032063%2C%2022.064128256513026%2C%2022.12424849699399%2C%2022.18436873747495%2C%2022.24448897795591%2C%2022.304609218436873%2C%2022.364729458917836%2C%2022.4248496993988%2C%2022.48496993987976%2C%2022.54509018036072%2C%2022.605210420841683%2C%2022.665330661322646%2C%2022.725450901803608%2C%2022.78557114228457%2C%2022.84569138276553%2C%2022.905811623246493%2C%2022.965931863727455%2C%2023.026052104208418%2C%2023.08617234468938%2C%2023.14629258517034%2C%2023.206412825651302%2C%2023.266533066132265%2C%2023.326653306613228%2C%2023.386773547094187%2C%2023.44689378757515%2C%2023.507014028056112%2C%2023.567134268537075%2C%2023.627254509018037%2C%2023.687374749498996%2C%2023.74749498997996%2C%2023.80761523046092%2C%2023.867735470941884%2C%2023.927855711422847%2C%2023.987975951903806%2C%2024.04809619238477%2C%2024.10821643286573%2C%2024.168336673346694%2C%2024.228456913827657%2C%2024.288577154308616%2C%2024.34869739478958%2C%2024.40881763527054%2C%2024.468937875751504%2C%2024.529058116232466%2C%2024.589178356713425%2C%2024.649298597194388%2C%2024.70941883767535%2C%2024.769539078156313%2C%2024.829659318637276%2C%2024.889779559118235%2C%2024.949899799599198%2C%2025.01002004008016%2C%2025.070140280561123%2C%2025.130260521042086%2C%2025.190380761523045%2C%2025.250501002004007%2C%2025.31062124248497%2C%2025.370741482965933%2C%2025.430861723446895%2C%2025.490981963927855%2C%2025.551102204408817%2C%2025.61122244488978%2C%2025.671342685370742%2C%2025.731462925851705%2C%2025.791583166332664%2C%2025.851703406813627%2C%2025.91182364729459%2C%2025.971943887775552%2C%2026.03206412825651%2C%2026.092184368737474%2C%2026.152304609218437%2C%2026.2124248496994%2C%2026.272545090180362%2C%2026.33266533066132%2C%2026.392785571142284%2C%2026.452905811623246%2C%2026.51302605210421%2C%2026.57314629258517%2C%2026.63326653306613%2C%2026.693386773547093%2C%2026.753507014028056%2C%2026.81362725450902%2C%2026.87374749498998%2C%2026.93386773547094%2C%2026.993987975951903%2C%2027.054108216432866%2C%2027.11422845691383%2C%2027.17434869739479%2C%2027.23446893787575%2C%2027.294589178356713%2C%2027.354709418837675%2C%2027.414829659318638%2C%2027.4749498997996%2C%2027.53507014028056%2C%2027.595190380761522%2C%2027.655310621242485%2C%2027.715430861723448%2C%2027.77555110220441%2C%2027.83567134268537%2C%2027.895791583166332%2C%2027.955911823647295%2C%2028.016032064128257%2C%2028.07615230460922%2C%2028.13627254509018%2C%2028.196392785571142%2C%2028.256513026052104%2C%2028.316633266533067%2C%2028.37675350701403%2C%2028.43687374749499%2C%2028.49699398797595%2C%2028.557114228456914%2C%2028.617234468937877%2C%2028.677354709418836%2C%2028.7374749498998%2C%2028.79759519038076%2C%2028.857715430861724%2C%2028.917835671342687%2C%2028.977955911823646%2C%2029.03807615230461%2C%2029.09819639278557%2C%2029.158316633266534%2C%2029.218436873747496%2C%2029.278557114228455%2C%2029.338677354709418%2C%2029.39879759519038%2C%2029.458917835671343%2C%2029.519038076152306%2C%2029.579158316633265%2C%2029.639278557114228%2C%2029.69939879759519%2C%2029.759519038076153%2C%2029.819639278557116%2C%2029.879759519038075%2C%2029.939879759519037%2C%2030.0%5D%29%0A%20%20%20%20%20%20%20%20%20%20%20%20%20%20.range%28%5B%27%23a50026ff%27%2C%20%27%23a50026ff%27%2C%20%27%23a50026ff%27%2C%20%27%23a50026ff%27%2C%20%27%23a50026ff%27%2C%20%27%23a50026ff%27%2C%20%27%23a50026ff%27%2C%20%27%23a50026ff%27%2C%20%27%23a50026ff%27%2C%20%27%23a50026ff%27%2C%20%27%23a50026ff%27%2C%20%27%23a50026ff%27%2C%20%27%23a50026ff%27%2C%20%27%23a50026ff%27%2C%20%27%23a50026ff%27%2C%20%27%23a50026ff%27%2C%20%27%23a50026ff%27%2C%20%27%23a50026ff%27%2C%20%27%23a50026ff%27%2C%20%27%23a50026ff%27%2C%20%27%23a50026ff%27%2C%20%27%23a50026ff%27%2C%20%27%23a50026ff%27%2C%20%27%23a50026ff%27%2C%20%27%23a50026ff%27%2C%20%27%23a50026ff%27%2C%20%27%23a50026ff%27%2C%20%27%23a50026ff%27%2C%20%27%23a50026ff%27%2C%20%27%23a50026ff%27%2C%20%27%23a50026ff%27%2C%20%27%23a50026ff%27%2C%20%27%23a50026ff%27%2C%20%27%23a50026ff%27%2C%20%27%23a50026ff%27%2C%20%27%23a50026ff%27%2C%20%27%23a50026ff%27%2C%20%27%23a50026ff%27%2C%20%27%23a50026ff%27%2C%20%27%23a50026ff%27%2C%20%27%23a50026ff%27%2C%20%27%23a50026ff%27%2C%20%27%23a50026ff%27%2C%20%27%23a50026ff%27%2C%20%27%23a50026ff%27%2C%20%27%23a50026ff%27%2C%20%27%23a50026ff%27%2C%20%27%23a50026ff%27%2C%20%27%23a50026ff%27%2C%20%27%23a50026ff%27%2C%20%27%23d73027ff%27%2C%20%27%23d73027ff%27%2C%20%27%23d73027ff%27%2C%20%27%23d73027ff%27%2C%20%27%23d73027ff%27%2C%20%27%23d73027ff%27%2C%20%27%23d73027ff%27%2C%20%27%23d73027ff%27%2C%20%27%23d73027ff%27%2C%20%27%23d73027ff%27%2C%20%27%23d73027ff%27%2C%20%27%23d73027ff%27%2C%20%27%23d73027ff%27%2C%20%27%23d73027ff%27%2C%20%27%23d73027ff%27%2C%20%27%23d73027ff%27%2C%20%27%23d73027ff%27%2C%20%27%23d73027ff%27%2C%20%27%23d73027ff%27%2C%20%27%23d73027ff%27%2C%20%27%23d73027ff%27%2C%20%27%23d73027ff%27%2C%20%27%23d73027ff%27%2C%20%27%23d73027ff%27%2C%20%27%23d73027ff%27%2C%20%27%23d73027ff%27%2C%20%27%23d73027ff%27%2C%20%27%23d73027ff%27%2C%20%27%23d73027ff%27%2C%20%27%23d73027ff%27%2C%20%27%23d73027ff%27%2C%20%27%23d73027ff%27%2C%20%27%23d73027ff%27%2C%20%27%23d73027ff%27%2C%20%27%23d73027ff%27%2C%20%27%23d73027ff%27%2C%20%27%23d73027ff%27%2C%20%27%23d73027ff%27%2C%20%27%23d73027ff%27%2C%20%27%23d73027ff%27%2C%20%27%23d73027ff%27%2C%20%27%23d73027ff%27%2C%20%27%23d73027ff%27%2C%20%27%23d73027ff%27%2C%20%27%23d73027ff%27%2C%20%27%23d73027ff%27%2C%20%27%23d73027ff%27%2C%20%27%23d73027ff%27%2C%20%27%23d73027ff%27%2C%20%27%23d73027ff%27%2C%20%27%23f46d43ff%27%2C%20%27%23f46d43ff%27%2C%20%27%23f46d43ff%27%2C%20%27%23f46d43ff%27%2C%20%27%23f46d43ff%27%2C%20%27%23f46d43ff%27%2C%20%27%23f46d43ff%27%2C%20%27%23f46d43ff%27%2C%20%27%23f46d43ff%27%2C%20%27%23f46d43ff%27%2C%20%27%23f46d43ff%27%2C%20%27%23f46d43ff%27%2C%20%27%23f46d43ff%27%2C%20%27%23f46d43ff%27%2C%20%27%23f46d43ff%27%2C%20%27%23f46d43ff%27%2C%20%27%23f46d43ff%27%2C%20%27%23f46d43ff%27%2C%20%27%23f46d43ff%27%2C%20%27%23f46d43ff%27%2C%20%27%23f46d43ff%27%2C%20%27%23f46d43ff%27%2C%20%27%23f46d43ff%27%2C%20%27%23f46d43ff%27%2C%20%27%23f46d43ff%27%2C%20%27%23f46d43ff%27%2C%20%27%23f46d43ff%27%2C%20%27%23f46d43ff%27%2C%20%27%23f46d43ff%27%2C%20%27%23f46d43ff%27%2C%20%27%23f46d43ff%27%2C%20%27%23f46d43ff%27%2C%20%27%23f46d43ff%27%2C%20%27%23f46d43ff%27%2C%20%27%23f46d43ff%27%2C%20%27%23f46d43ff%27%2C%20%27%23f46d43ff%27%2C%20%27%23f46d43ff%27%2C%20%27%23f46d43ff%27%2C%20%27%23f46d43ff%27%2C%20%27%23f46d43ff%27%2C%20%27%23f46d43ff%27%2C%20%27%23f46d43ff%27%2C%20%27%23f46d43ff%27%2C%20%27%23f46d43ff%27%2C%20%27%23f46d43ff%27%2C%20%27%23f46d43ff%27%2C%20%27%23f46d43ff%27%2C%20%27%23f46d43ff%27%2C%20%27%23f46d43ff%27%2C%20%27%23fdae61ff%27%2C%20%27%23fdae61ff%27%2C%20%27%23fdae61ff%27%2C%20%27%23fdae61ff%27%2C%20%27%23fdae61ff%27%2C%20%27%23fdae61ff%27%2C%20%27%23fdae61ff%27%2C%20%27%23fdae61ff%27%2C%20%27%23fdae61ff%27%2C%20%27%23fdae61ff%27%2C%20%27%23fdae61ff%27%2C%20%27%23fdae61ff%27%2C%20%27%23fdae61ff%27%2C%20%27%23fdae61ff%27%2C%20%27%23fdae61ff%27%2C%20%27%23fdae61ff%27%2C%20%27%23fdae61ff%27%2C%20%27%23fdae61ff%27%2C%20%27%23fdae61ff%27%2C%20%27%23fdae61ff%27%2C%20%27%23fdae61ff%27%2C%20%27%23fdae61ff%27%2C%20%27%23fdae61ff%27%2C%20%27%23fdae61ff%27%2C%20%27%23fdae61ff%27%2C%20%27%23fdae61ff%27%2C%20%27%23fdae61ff%27%2C%20%27%23fdae61ff%27%2C%20%27%23fdae61ff%27%2C%20%27%23fdae61ff%27%2C%20%27%23fdae61ff%27%2C%20%27%23fdae61ff%27%2C%20%27%23fdae61ff%27%2C%20%27%23fdae61ff%27%2C%20%27%23fdae61ff%27%2C%20%27%23fdae61ff%27%2C%20%27%23fdae61ff%27%2C%20%27%23fdae61ff%27%2C%20%27%23fdae61ff%27%2C%20%27%23fdae61ff%27%2C%20%27%23fdae61ff%27%2C%20%27%23fdae61ff%27%2C%20%27%23fdae61ff%27%2C%20%27%23fdae61ff%27%2C%20%27%23fdae61ff%27%2C%20%27%23fdae61ff%27%2C%20%27%23fdae61ff%27%2C%20%27%23fdae61ff%27%2C%20%27%23fdae61ff%27%2C%20%27%23fdae61ff%27%2C%20%27%23fee08bff%27%2C%20%27%23fee08bff%27%2C%20%27%23fee08bff%27%2C%20%27%23fee08bff%27%2C%20%27%23fee08bff%27%2C%20%27%23fee08bff%27%2C%20%27%23fee08bff%27%2C%20%27%23fee08bff%27%2C%20%27%23fee08bff%27%2C%20%27%23fee08bff%27%2C%20%27%23fee08bff%27%2C%20%27%23fee08bff%27%2C%20%27%23fee08bff%27%2C%20%27%23fee08bff%27%2C%20%27%23fee08bff%27%2C%20%27%23fee08bff%27%2C%20%27%23fee08bff%27%2C%20%27%23fee08bff%27%2C%20%27%23fee08bff%27%2C%20%27%23fee08bff%27%2C%20%27%23fee08bff%27%2C%20%27%23fee08bff%27%2C%20%27%23fee08bff%27%2C%20%27%23fee08bff%27%2C%20%27%23fee08bff%27%2C%20%27%23fee08bff%27%2C%20%27%23fee08bff%27%2C%20%27%23fee08bff%27%2C%20%27%23fee08bff%27%2C%20%27%23fee08bff%27%2C%20%27%23fee08bff%27%2C%20%27%23fee08bff%27%2C%20%27%23fee08bff%27%2C%20%27%23fee08bff%27%2C%20%27%23fee08bff%27%2C%20%27%23fee08bff%27%2C%20%27%23fee08bff%27%2C%20%27%23fee08bff%27%2C%20%27%23fee08bff%27%2C%20%27%23fee08bff%27%2C%20%27%23fee08bff%27%2C%20%27%23fee08bff%27%2C%20%27%23fee08bff%27%2C%20%27%23fee08bff%27%2C%20%27%23fee08bff%27%2C%20%27%23fee08bff%27%2C%20%27%23fee08bff%27%2C%20%27%23fee08bff%27%2C%20%27%23fee08bff%27%2C%20%27%23fee08bff%27%2C%20%27%23d9ef8bff%27%2C%20%27%23d9ef8bff%27%2C%20%27%23d9ef8bff%27%2C%20%27%23d9ef8bff%27%2C%20%27%23d9ef8bff%27%2C%20%27%23d9ef8bff%27%2C%20%27%23d9ef8bff%27%2C%20%27%23d9ef8bff%27%2C%20%27%23d9ef8bff%27%2C%20%27%23d9ef8bff%27%2C%20%27%23d9ef8bff%27%2C%20%27%23d9ef8bff%27%2C%20%27%23d9ef8bff%27%2C%20%27%23d9ef8bff%27%2C%20%27%23d9ef8bff%27%2C%20%27%23d9ef8bff%27%2C%20%27%23d9ef8bff%27%2C%20%27%23d9ef8bff%27%2C%20%27%23d9ef8bff%27%2C%20%27%23d9ef8bff%27%2C%20%27%23d9ef8bff%27%2C%20%27%23d9ef8bff%27%2C%20%27%23d9ef8bff%27%2C%20%27%23d9ef8bff%27%2C%20%27%23d9ef8bff%27%2C%20%27%23d9ef8bff%27%2C%20%27%23d9ef8bff%27%2C%20%27%23d9ef8bff%27%2C%20%27%23d9ef8bff%27%2C%20%27%23d9ef8bff%27%2C%20%27%23d9ef8bff%27%2C%20%27%23d9ef8bff%27%2C%20%27%23d9ef8bff%27%2C%20%27%23d9ef8bff%27%2C%20%27%23d9ef8bff%27%2C%20%27%23d9ef8bff%27%2C%20%27%23d9ef8bff%27%2C%20%27%23d9ef8bff%27%2C%20%27%23d9ef8bff%27%2C%20%27%23d9ef8bff%27%2C%20%27%23d9ef8bff%27%2C%20%27%23d9ef8bff%27%2C%20%27%23d9ef8bff%27%2C%20%27%23d9ef8bff%27%2C%20%27%23d9ef8bff%27%2C%20%27%23d9ef8bff%27%2C%20%27%23d9ef8bff%27%2C%20%27%23d9ef8bff%27%2C%20%27%23d9ef8bff%27%2C%20%27%23d9ef8bff%27%2C%20%27%23a6d96aff%27%2C%20%27%23a6d96aff%27%2C%20%27%23a6d96aff%27%2C%20%27%23a6d96aff%27%2C%20%27%23a6d96aff%27%2C%20%27%23a6d96aff%27%2C%20%27%23a6d96aff%27%2C%20%27%23a6d96aff%27%2C%20%27%23a6d96aff%27%2C%20%27%23a6d96aff%27%2C%20%27%23a6d96aff%27%2C%20%27%23a6d96aff%27%2C%20%27%23a6d96aff%27%2C%20%27%23a6d96aff%27%2C%20%27%23a6d96aff%27%2C%20%27%23a6d96aff%27%2C%20%27%23a6d96aff%27%2C%20%27%23a6d96aff%27%2C%20%27%23a6d96aff%27%2C%20%27%23a6d96aff%27%2C%20%27%23a6d96aff%27%2C%20%27%23a6d96aff%27%2C%20%27%23a6d96aff%27%2C%20%27%23a6d96aff%27%2C%20%27%23a6d96aff%27%2C%20%27%23a6d96aff%27%2C%20%27%23a6d96aff%27%2C%20%27%23a6d96aff%27%2C%20%27%23a6d96aff%27%2C%20%27%23a6d96aff%27%2C%20%27%23a6d96aff%27%2C%20%27%23a6d96aff%27%2C%20%27%23a6d96aff%27%2C%20%27%23a6d96aff%27%2C%20%27%23a6d96aff%27%2C%20%27%23a6d96aff%27%2C%20%27%23a6d96aff%27%2C%20%27%23a6d96aff%27%2C%20%27%23a6d96aff%27%2C%20%27%23a6d96aff%27%2C%20%27%23a6d96aff%27%2C%20%27%23a6d96aff%27%2C%20%27%23a6d96aff%27%2C%20%27%23a6d96aff%27%2C%20%27%23a6d96aff%27%2C%20%27%23a6d96aff%27%2C%20%27%23a6d96aff%27%2C%20%27%23a6d96aff%27%2C%20%27%23a6d96aff%27%2C%20%27%23a6d96aff%27%2C%20%27%2366bd63ff%27%2C%20%27%2366bd63ff%27%2C%20%27%2366bd63ff%27%2C%20%27%2366bd63ff%27%2C%20%27%2366bd63ff%27%2C%20%27%2366bd63ff%27%2C%20%27%2366bd63ff%27%2C%20%27%2366bd63ff%27%2C%20%27%2366bd63ff%27%2C%20%27%2366bd63ff%27%2C%20%27%2366bd63ff%27%2C%20%27%2366bd63ff%27%2C%20%27%2366bd63ff%27%2C%20%27%2366bd63ff%27%2C%20%27%2366bd63ff%27%2C%20%27%2366bd63ff%27%2C%20%27%2366bd63ff%27%2C%20%27%2366bd63ff%27%2C%20%27%2366bd63ff%27%2C%20%27%2366bd63ff%27%2C%20%27%2366bd63ff%27%2C%20%27%2366bd63ff%27%2C%20%27%2366bd63ff%27%2C%20%27%2366bd63ff%27%2C%20%27%2366bd63ff%27%2C%20%27%2366bd63ff%27%2C%20%27%2366bd63ff%27%2C%20%27%2366bd63ff%27%2C%20%27%2366bd63ff%27%2C%20%27%2366bd63ff%27%2C%20%27%2366bd63ff%27%2C%20%27%2366bd63ff%27%2C%20%27%2366bd63ff%27%2C%20%27%2366bd63ff%27%2C%20%27%2366bd63ff%27%2C%20%27%2366bd63ff%27%2C%20%27%2366bd63ff%27%2C%20%27%2366bd63ff%27%2C%20%27%2366bd63ff%27%2C%20%27%2366bd63ff%27%2C%20%27%2366bd63ff%27%2C%20%27%2366bd63ff%27%2C%20%27%2366bd63ff%27%2C%20%27%2366bd63ff%27%2C%20%27%2366bd63ff%27%2C%20%27%2366bd63ff%27%2C%20%27%2366bd63ff%27%2C%20%27%2366bd63ff%27%2C%20%27%2366bd63ff%27%2C%20%27%2366bd63ff%27%2C%20%27%231a9850ff%27%2C%20%27%231a9850ff%27%2C%20%27%231a9850ff%27%2C%20%27%231a9850ff%27%2C%20%27%231a9850ff%27%2C%20%27%231a9850ff%27%2C%20%27%231a9850ff%27%2C%20%27%231a9850ff%27%2C%20%27%231a9850ff%27%2C%20%27%231a9850ff%27%2C%20%27%231a9850ff%27%2C%20%27%231a9850ff%27%2C%20%27%231a9850ff%27%2C%20%27%231a9850ff%27%2C%20%27%231a9850ff%27%2C%20%27%231a9850ff%27%2C%20%27%231a9850ff%27%2C%20%27%231a9850ff%27%2C%20%27%231a9850ff%27%2C%20%27%231a9850ff%27%2C%20%27%231a9850ff%27%2C%20%27%231a9850ff%27%2C%20%27%231a9850ff%27%2C%20%27%231a9850ff%27%2C%20%27%231a9850ff%27%2C%20%27%231a9850ff%27%2C%20%27%231a9850ff%27%2C%20%27%231a9850ff%27%2C%20%27%231a9850ff%27%2C%20%27%231a9850ff%27%2C%20%27%231a9850ff%27%2C%20%27%231a9850ff%27%2C%20%27%231a9850ff%27%2C%20%27%231a9850ff%27%2C%20%27%231a9850ff%27%2C%20%27%231a9850ff%27%2C%20%27%231a9850ff%27%2C%20%27%231a9850ff%27%2C%20%27%231a9850ff%27%2C%20%27%231a9850ff%27%2C%20%27%231a9850ff%27%2C%20%27%231a9850ff%27%2C%20%27%231a9850ff%27%2C%20%27%231a9850ff%27%2C%20%27%231a9850ff%27%2C%20%27%231a9850ff%27%2C%20%27%231a9850ff%27%2C%20%27%231a9850ff%27%2C%20%27%231a9850ff%27%2C%20%27%231a9850ff%27%2C%20%27%23006837ff%27%2C%20%27%23006837ff%27%2C%20%27%23006837ff%27%2C%20%27%23006837ff%27%2C%20%27%23006837ff%27%2C%20%27%23006837ff%27%2C%20%27%23006837ff%27%2C%20%27%23006837ff%27%2C%20%27%23006837ff%27%2C%20%27%23006837ff%27%2C%20%27%23006837ff%27%2C%20%27%23006837ff%27%2C%20%27%23006837ff%27%2C%20%27%23006837ff%27%2C%20%27%23006837ff%27%2C%20%27%23006837ff%27%2C%20%27%23006837ff%27%2C%20%27%23006837ff%27%2C%20%27%23006837ff%27%2C%20%27%23006837ff%27%2C%20%27%23006837ff%27%2C%20%27%23006837ff%27%2C%20%27%23006837ff%27%2C%20%27%23006837ff%27%2C%20%27%23006837ff%27%2C%20%27%23006837ff%27%2C%20%27%23006837ff%27%2C%20%27%23006837ff%27%2C%20%27%23006837ff%27%2C%20%27%23006837ff%27%2C%20%27%23006837ff%27%2C%20%27%23006837ff%27%2C%20%27%23006837ff%27%2C%20%27%23006837ff%27%2C%20%27%23006837ff%27%2C%20%27%23006837ff%27%2C%20%27%23006837ff%27%2C%20%27%23006837ff%27%2C%20%27%23006837ff%27%2C%20%27%23006837ff%27%2C%20%27%23006837ff%27%2C%20%27%23006837ff%27%2C%20%27%23006837ff%27%2C%20%27%23006837ff%27%2C%20%27%23006837ff%27%2C%20%27%23006837ff%27%2C%20%27%23006837ff%27%2C%20%27%23006837ff%27%2C%20%27%23006837ff%27%2C%20%27%23006837ff%27%5D%29%3B%0A%20%20%20%20%0A%0A%20%20%20%20color_map_73a5a618285d49d69364dcec4e687f81.x%20%3D%20d3.scale.linear%28%29%0A%20%20%20%20%20%20%20%20%20%20%20%20%20%20.domain%28%5B0.0%2C%2030.0%5D%29%0A%20%20%20%20%20%20%20%20%20%20%20%20%20%20.range%28%5B0%2C%20400%5D%29%3B%0A%0A%20%20%20%20color_map_73a5a618285d49d69364dcec4e687f81.legend%20%3D%20L.control%28%7Bposition%3A%20%27topright%27%7D%29%3B%0A%20%20%20%20color_map_73a5a618285d49d69364dcec4e687f81.legend.onAdd%20%3D%20function%20%28map%29%20%7Bvar%20div%20%3D%20L.DomUtil.create%28%27div%27%2C%20%27legend%27%29%3B%20return%20div%7D%3B%0A%20%20%20%20color_map_73a5a618285d49d69364dcec4e687f81.legend.addTo%28map_44bea7932e544c9080aef1032fe07640%29%3B%0A%0A%20%20%20%20color_map_73a5a618285d49d69364dcec4e687f81.xAxis%20%3D%20d3.svg.axis%28%29%0A%20%20%20%20%20%20%20%20.scale%28color_map_73a5a618285d49d69364dcec4e687f81.x%29%0A%20%20%20%20%20%20%20%20.orient%28%22top%22%29%0A%20%20%20%20%20%20%20%20.tickSize%281%29%0A%20%20%20%20%20%20%20%20.tickValues%28%5B0.0%2C%20%27%27%2C%206.0%2C%20%27%27%2C%2012.0%2C%20%27%27%2C%2018.0%2C%20%27%27%2C%2024.0%2C%20%27%27%2C%2030.0%2C%20%27%27%5D%29%3B%0A%0A%20%20%20%20color_map_73a5a618285d49d69364dcec4e687f81.svg%20%3D%20d3.select%28%22.legend.leaflet-control%22%29.append%28%22svg%22%29%0A%20%20%20%20%20%20%20%20.attr%28%22id%22%2C%20%27legend%27%29%0A%20%20%20%20%20%20%20%20.attr%28%22width%22%2C%20450%29%0A%20%20%20%20%20%20%20%20.attr%28%22height%22%2C%2040%29%3B%0A%0A%20%20%20%20color_map_73a5a618285d49d69364dcec4e687f81.g%20%3D%20color_map_73a5a618285d49d69364dcec4e687f81.svg.append%28%22g%22%29%0A%20%20%20%20%20%20%20%20.attr%28%22class%22%2C%20%22key%22%29%0A%20%20%20%20%20%20%20%20.attr%28%22transform%22%2C%20%22translate%2825%2C16%29%22%29%3B%0A%0A%20%20%20%20color_map_73a5a618285d49d69364dcec4e687f81.g.selectAll%28%22rect%22%29%0A%20%20%20%20%20%20%20%20.data%28color_map_73a5a618285d49d69364dcec4e687f81.color.range%28%29.map%28function%28d%2C%20i%29%20%7B%0A%20%20%20%20%20%20%20%20%20%20return%20%7B%0A%20%20%20%20%20%20%20%20%20%20%20%20x0%3A%20i%20%3F%20color_map_73a5a618285d49d69364dcec4e687f81.x%28color_map_73a5a618285d49d69364dcec4e687f81.color.domain%28%29%5Bi%20-%201%5D%29%20%3A%20color_map_73a5a618285d49d69364dcec4e687f81.x.range%28%29%5B0%5D%2C%0A%20%20%20%20%20%20%20%20%20%20%20%20x1%3A%20i%20%3C%20color_map_73a5a618285d49d69364dcec4e687f81.color.domain%28%29.length%20%3F%20color_map_73a5a618285d49d69364dcec4e687f81.x%28color_map_73a5a618285d49d69364dcec4e687f81.color.domain%28%29%5Bi%5D%29%20%3A%20color_map_73a5a618285d49d69364dcec4e687f81.x.range%28%29%5B1%5D%2C%0A%20%20%20%20%20%20%20%20%20%20%20%20z%3A%20d%0A%20%20%20%20%20%20%20%20%20%20%7D%3B%0A%20%20%20%20%20%20%20%20%7D%29%29%0A%20%20%20%20%20%20.enter%28%29.append%28%22rect%22%29%0A%20%20%20%20%20%20%20%20.attr%28%22height%22%2C%2010%29%0A%20%20%20%20%20%20%20%20.attr%28%22x%22%2C%20function%28d%29%20%7B%20return%20d.x0%3B%20%7D%29%0A%20%20%20%20%20%20%20%20.attr%28%22width%22%2C%20function%28d%29%20%7B%20return%20d.x1%20-%20d.x0%3B%20%7D%29%0A%20%20%20%20%20%20%20%20.style%28%22fill%22%2C%20function%28d%29%20%7B%20return%20d.z%3B%20%7D%29%3B%0A%0A%20%20%20%20color_map_73a5a618285d49d69364dcec4e687f81.g.call%28color_map_73a5a618285d49d69364dcec4e687f81.xAxis%29.append%28%22text%22%29%0A%20%20%20%20%20%20%20%20.attr%28%22class%22%2C%20%22caption%22%29%0A%20%20%20%20%20%20%20%20.attr%28%22y%22%2C%2021%29%0A%20%20%20%20%20%20%20%20.text%28%27Speed%20%28miles%20per%20hour%29%27%29%3B%0A%3C/script%3E onload=\"this.contentDocument.open();this.contentDocument.write(    decodeURIComponent(this.getAttribute('data-html')));this.contentDocument.close();\" \"allowfullscreen\" \"webkitallowfullscreen\" \"mozallowfullscreen\"></iframe>"
      ],
      "text/plain": [
       "<branca.element.Figure at 0x7f0f7f3c5a00>"
      ]
     },
     "execution_count": 24,
     "metadata": {},
     "output_type": "execute_result"
    }
   ],
   "source": [
    "m"
   ]
  },
  {
   "cell_type": "code",
   "execution_count": 25,
   "id": "76580953-2a2b-4295-a41c-20442eae883e",
   "metadata": {
    "execution": {
     "iopub.execute_input": "2022-04-15T23:11:44.044445Z",
     "iopub.status.busy": "2022-04-15T23:11:44.044048Z",
     "iopub.status.idle": "2022-04-15T23:11:44.075344Z",
     "shell.execute_reply": "2022-04-15T23:11:44.074250Z"
    },
    "jupyter": {
     "source_hidden": true
    },
    "papermill": {
     "duration": 0.061318,
     "end_time": "2022-04-15T23:11:44.078867",
     "exception": false,
     "start_time": "2022-04-15T23:11:44.017549",
     "status": "completed"
    },
    "tags": [
     "remove_input"
    ]
   },
   "outputs": [
    {
     "name": "stdout",
     "output_type": "stream",
     "text": [
      "describe delayed routes failed!\n"
     ]
    }
   ],
   "source": [
    "rt_day.describe_delayed_routes()"
   ]
  },
  {
   "cell_type": "code",
   "execution_count": 26,
   "id": "91874f76-635b-4fde-8d61-abc795aca6c6",
   "metadata": {
    "execution": {
     "iopub.execute_input": "2022-04-15T23:11:44.130600Z",
     "iopub.status.busy": "2022-04-15T23:11:44.130197Z",
     "iopub.status.idle": "2022-04-15T23:11:44.180692Z",
     "shell.execute_reply": "2022-04-15T23:11:44.179576Z"
    },
    "jupyter": {
     "source_hidden": true
    },
    "papermill": {
     "duration": 0.078076,
     "end_time": "2022-04-15T23:11:44.183239",
     "exception": false,
     "start_time": "2022-04-15T23:11:44.105163",
     "status": "completed"
    },
    "tags": [
     "remove_input"
    ]
   },
   "outputs": [],
   "source": [
    "try:\n",
    "    metrics_df = (rt_day.rt_trips\n",
    "         >> group_by(_.route_short_name, _.direction_id)\n",
    "         >> summarize(speed_variance = _.mean_speed_mph.var(),\n",
    "                     mean_speed_mph = _.mean_speed_mph.mean(),\n",
    "                     min_hour = _.median_time.min().hour,\n",
    "                     max_hour = _.median_time.max().hour)\n",
    "         >> filter(_.min_hour <= 7, _.max_hour >= 15,\n",
    "                   _.mean_speed_mph < _.mean_speed_mph.quantile(.6),\n",
    "                   _.speed_variance)\n",
    "         >> arrange(-_.speed_variance)\n",
    "         >> head(20)\n",
    "        )\n",
    "    metrics_df\n",
    "except Exception as e:\n",
    "    print(e)\n",
    "## check that route has all-day span..."
   ]
  },
  {
   "cell_type": "code",
   "execution_count": 27,
   "id": "758b0bae-32d0-40dd-a1d1-1d107b0e7e8b",
   "metadata": {
    "execution": {
     "iopub.execute_input": "2022-04-15T23:11:44.233535Z",
     "iopub.status.busy": "2022-04-15T23:11:44.233151Z",
     "iopub.status.idle": "2022-04-15T23:11:44.242063Z",
     "shell.execute_reply": "2022-04-15T23:11:44.241028Z"
    },
    "jupyter": {
     "source_hidden": true
    },
    "papermill": {
     "duration": 0.037471,
     "end_time": "2022-04-15T23:11:44.244222",
     "exception": false,
     "start_time": "2022-04-15T23:11:44.206751",
     "status": "completed"
    },
    "tags": [
     "remove_input"
    ]
   },
   "outputs": [],
   "source": [
    "def map_from_metrics(rt_day, metrics_df):\n",
    "    try:\n",
    "        route_name = metrics_df.iloc[1,0]\n",
    "        direction_id = metrics_df.iloc[1,1]\n",
    "    except Exception as e:\n",
    "        print(e)\n",
    "        return\n",
    "    # route_name = '281'\n",
    "    # direction_id = '1'\n",
    "    rt_day.set_filter(start_time='07:00', end_time='09:00',\n",
    "                      route_names=[route_name], direction_id = direction_id)\n",
    "    try:\n",
    "        am_map = rt_day.segment_speed_map(how='low_speeds')\n",
    "        display(am_map)\n",
    "    except Exception as e:\n",
    "        print(e)\n",
    "        pass\n",
    "    \n",
    "    rt_day.set_filter(start_time='11:00', end_time='14:00',\n",
    "                      route_names=[route_name], direction_id = direction_id)\n",
    "    try:\n",
    "        mid_map = rt_day.segment_speed_map(how='low_speeds')\n",
    "        display(mid_map)\n",
    "    except Exception as e:\n",
    "        print(e)\n",
    "        pass\n",
    "\n",
    "    rt_day.set_filter(start_time='15:00', end_time='19:00',\n",
    "                      route_names=[route_name], direction_id = direction_id)\n",
    "    try:\n",
    "        pm_map = rt_day.segment_speed_map(how='low_speeds')\n",
    "        display(pm_map)\n",
    "    except Exception as e:\n",
    "        print(e)\n",
    "        pass\n",
    "\n",
    "    return"
   ]
  },
  {
   "cell_type": "markdown",
   "id": "6ce187c8-c7bf-44f4-970e-b3abd69ddc38",
   "metadata": {
    "papermill": {
     "duration": 0.02293,
     "end_time": "2022-04-15T23:11:44.300662",
     "exception": false,
     "start_time": "2022-04-15T23:11:44.277732",
     "status": "completed"
    },
    "tags": []
   },
   "source": [
    "## Single-Route Detail Example"
   ]
  },
  {
   "cell_type": "code",
   "execution_count": 28,
   "id": "c7b4b043-6d15-4d9c-8aac-f0f6649e9552",
   "metadata": {
    "execution": {
     "iopub.execute_input": "2022-04-15T23:11:44.353065Z",
     "iopub.status.busy": "2022-04-15T23:11:44.352683Z",
     "iopub.status.idle": "2022-04-15T23:11:44.399295Z",
     "shell.execute_reply": "2022-04-15T23:11:44.398217Z"
    },
    "jupyter": {
     "source_hidden": true
    },
    "papermill": {
     "duration": 0.076617,
     "end_time": "2022-04-15T23:11:44.401369",
     "exception": false,
     "start_time": "2022-04-15T23:11:44.324752",
     "status": "completed"
    },
    "tags": [
     "remove_input"
    ]
   },
   "outputs": [
    {
     "name": "stdout",
     "output_type": "stream",
     "text": [
      "'GeoDataFrame' object has no attribute 'trip_id'\n",
      "'GeoDataFrame' object has no attribute 'trip_id'\n",
      "'GeoDataFrame' object has no attribute 'trip_id'\n"
     ]
    }
   ],
   "source": [
    "try:\n",
    "    map_from_metrics(rt_day, metrics_df)\n",
    "except Exception as e:\n",
    "    print(e)\n",
    "    pass"
   ]
  }
 ],
 "metadata": {
  "kernelspec": {
   "display_name": "Python 3 (ipykernel)",
   "language": "python",
   "name": "python3"
  },
  "language_info": {
   "codemirror_mode": {
    "name": "ipython",
    "version": 3
   },
   "file_extension": ".py",
   "mimetype": "text/x-python",
   "name": "python",
   "nbconvert_exporter": "python",
   "pygments_lexer": "ipython3",
   "version": "3.9.10"
  },
  "papermill": {
   "default_parameters": {},
   "duration": 22.099439,
   "end_time": "2022-04-15T23:11:46.953542",
   "environment_variables": {},
   "exception": null,
   "input_path": "rt_delay/15_parameterize.ipynb",
   "output_path": "target/rt_delay/15_parameterize__itp_id_159.ipynb",
   "parameters": {
    "itp_id": 159
   },
   "start_time": "2022-04-15T23:11:24.854103",
   "version": "2.3.4"
  }
 },
 "nbformat": 4,
 "nbformat_minor": 5
}