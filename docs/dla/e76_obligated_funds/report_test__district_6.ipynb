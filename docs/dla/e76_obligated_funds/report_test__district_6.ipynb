{
 "cells": [
  {
   "cell_type": "markdown",
   "id": "4116dd94-0f31-4995-8c3b-b1781e6366a5",
   "metadata": {
    "papermill": {
     "duration": 0.00871,
     "end_time": "2022-04-15T19:59:14.371123",
     "exception": false,
     "start_time": "2022-04-15T19:59:14.362413",
     "status": "completed"
    },
    "tags": []
   },
   "source": [
    "# District 6 Analysis"
   ]
  },
  {
   "cell_type": "code",
   "execution_count": 1,
   "id": "1ecf83bf-a9a9-4e6b-98b6-b0b0400a12e1",
   "metadata": {
    "execution": {
     "iopub.execute_input": "2022-04-15T19:59:14.402651Z",
     "iopub.status.busy": "2022-04-15T19:59:14.402208Z",
     "iopub.status.idle": "2022-04-15T19:59:22.119911Z",
     "shell.execute_reply": "2022-04-15T19:59:22.118862Z"
    },
    "jupyter": {
     "source_hidden": true
    },
    "papermill": {
     "duration": 7.736025,
     "end_time": "2022-04-15T19:59:22.122369",
     "exception": false,
     "start_time": "2022-04-15T19:59:14.386344",
     "status": "completed"
    },
    "tags": [
     "remove_input"
    ]
   },
   "outputs": [
    {
     "name": "stderr",
     "output_type": "stream",
     "text": [
      "E0415 19:59:20.135507157    1759 fork_posix.cc:70]           Fork support is only compatible with the epoll1 and poll polling strategies\n"
     ]
    },
    {
     "name": "stderr",
     "output_type": "stream",
     "text": [
      "E0415 19:59:21.351303877    1759 fork_posix.cc:70]           Fork support is only compatible with the epoll1 and poll polling strategies\n"
     ]
    }
   ],
   "source": [
    "%%capture\n",
    "\n",
    "import warnings\n",
    "\n",
    "warnings.filterwarnings(\"ignore\")\n",
    "\n",
    "\n",
    "import _dla_utils, gen_report\n",
    "\n",
    "#alt.themes.register(\"calitp_theme\", styleguide.calitp_theme)\n",
    "# enable\n",
    "#alt.themes.enable(\"calitp_theme\")\n",
    "import altair as alt\n",
    "alt.renderers.enable('html')"
   ]
  },
  {
   "cell_type": "code",
   "execution_count": 2,
   "id": "69d78638-5ca9-49e5-a909-e282c83aeed1",
   "metadata": {
    "execution": {
     "iopub.execute_input": "2022-04-15T19:59:22.166644Z",
     "iopub.status.busy": "2022-04-15T19:59:22.166339Z",
     "iopub.status.idle": "2022-04-15T19:59:22.246559Z",
     "shell.execute_reply": "2022-04-15T19:59:22.245117Z"
    },
    "jupyter": {
     "source_hidden": true
    },
    "papermill": {
     "duration": 0.101905,
     "end_time": "2022-04-15T19:59:22.249210",
     "exception": false,
     "start_time": "2022-04-15T19:59:22.147305",
     "status": "completed"
    },
    "tags": [
     "remove_input"
    ]
   },
   "outputs": [],
   "source": [
    "import pandas as pd\n",
    "from siuba import *\n",
    "df = pd.read_parquet('dla_df.parquet')"
   ]
  },
  {
   "cell_type": "code",
   "execution_count": 3,
   "id": "92c97609-fba1-470b-8257-8a7533ed0df2",
   "metadata": {
    "execution": {
     "iopub.execute_input": "2022-04-15T19:59:22.275896Z",
     "iopub.status.busy": "2022-04-15T19:59:22.275578Z",
     "iopub.status.idle": "2022-04-15T19:59:22.279583Z",
     "shell.execute_reply": "2022-04-15T19:59:22.278791Z"
    },
    "jupyter": {
     "source_hidden": true
    },
    "papermill": {
     "duration": 0.018556,
     "end_time": "2022-04-15T19:59:22.281501",
     "exception": false,
     "start_time": "2022-04-15T19:59:22.262945",
     "status": "completed"
    },
    "tags": [
     "parameters",
     "remove_input"
    ]
   },
   "outputs": [],
   "source": [
    "#Parameter Cell\n",
    "\n",
    "district = 4"
   ]
  },
  {
   "cell_type": "code",
   "execution_count": 4,
   "id": "e8d90bcd",
   "metadata": {
    "execution": {
     "iopub.execute_input": "2022-04-15T19:59:22.307974Z",
     "iopub.status.busy": "2022-04-15T19:59:22.307421Z",
     "iopub.status.idle": "2022-04-15T19:59:22.311742Z",
     "shell.execute_reply": "2022-04-15T19:59:22.311218Z"
    },
    "jupyter": {
     "source_hidden": true
    },
    "papermill": {
     "duration": 0.02364,
     "end_time": "2022-04-15T19:59:22.313491",
     "exception": false,
     "start_time": "2022-04-15T19:59:22.289851",
     "status": "completed"
    },
    "tags": [
     "injected-parameters",
     "remove_input"
    ]
   },
   "outputs": [],
   "source": [
    "# Parameters\n",
    "district = 6\n"
   ]
  },
  {
   "cell_type": "code",
   "execution_count": 5,
   "id": "f32731e6-fe81-4f58-8128-9cdcac97542d",
   "metadata": {
    "execution": {
     "iopub.execute_input": "2022-04-15T19:59:22.332823Z",
     "iopub.status.busy": "2022-04-15T19:59:22.332261Z",
     "iopub.status.idle": "2022-04-15T19:59:22.336404Z",
     "shell.execute_reply": "2022-04-15T19:59:22.335812Z"
    },
    "jupyter": {
     "source_hidden": true
    },
    "papermill": {
     "duration": 0.016405,
     "end_time": "2022-04-15T19:59:22.338456",
     "exception": false,
     "start_time": "2022-04-15T19:59:22.322051",
     "status": "completed"
    },
    "tags": [
     "remove_input"
    ]
   },
   "outputs": [],
   "source": [
    "#display(HTML(f\"<title> District {district} Analysis </title>\"))"
   ]
  },
  {
   "cell_type": "code",
   "execution_count": 6,
   "id": "67694733-715a-4846-89c1-b9fe393fb8a6",
   "metadata": {
    "execution": {
     "iopub.execute_input": "2022-04-15T19:59:22.357697Z",
     "iopub.status.busy": "2022-04-15T19:59:22.356884Z",
     "iopub.status.idle": "2022-04-15T19:59:23.818605Z",
     "shell.execute_reply": "2022-04-15T19:59:23.818048Z"
    },
    "jupyter": {
     "source_hidden": true
    },
    "papermill": {
     "duration": 1.474483,
     "end_time": "2022-04-15T19:59:23.821379",
     "exception": false,
     "start_time": "2022-04-15T19:59:22.346896",
     "status": "completed"
    },
    "tags": [
     "remove_input"
    ]
   },
   "outputs": [
    {
     "data": {
      "text/html": [
       "<h2>Quick Stats</h2>"
      ],
      "text/plain": [
       "<IPython.core.display.HTML object>"
      ]
     },
     "metadata": {},
     "output_type": "display_data"
    },
    {
     "data": {
      "text/html": [
       "There are <strong>55 Unique Agencies</strong>"
      ],
      "text/plain": [
       "<IPython.core.display.HTML object>"
      ]
     },
     "metadata": {},
     "output_type": "display_data"
    },
    {
     "data": {
      "text/html": [
       "Out of <strong>3206</strong> obligations, <strong>27 are transit-related</strong>."
      ],
      "text/plain": [
       "<IPython.core.display.HTML object>"
      ]
     },
     "metadata": {},
     "output_type": "display_data"
    },
    {
     "data": {
      "text/html": [
       "<strong>Kingsburg</strong> has the <strong>highest transit</strong> obligations"
      ],
      "text/plain": [
       "<IPython.core.display.HTML object>"
      ]
     },
     "metadata": {},
     "output_type": "display_data"
    },
    {
     "data": {
      "text/html": [
       "There are <strong>2 agencies have over 280.00</strong> obligations (95th percentile) since 2013.0"
      ],
      "text/plain": [
       "<IPython.core.display.HTML object>"
      ]
     },
     "metadata": {},
     "output_type": "display_data"
    },
    {
     "data": {
      "text/html": [
       "There are <strong>5 agencies have less than 3.00</strong> obligations (5th percentile) since 2013.0"
      ],
      "text/plain": [
       "<IPython.core.display.HTML object>"
      ]
     },
     "metadata": {},
     "output_type": "display_data"
    },
    {
     "data": {
      "text/html": [
       "<h4><strong>Number of Unique Prefix Codes by Agency</strong></h4>"
      ],
      "text/plain": [
       "<IPython.core.display.HTML object>"
      ]
     },
     "metadata": {},
     "output_type": "display_data"
    },
    {
     "data": {
      "text/html": [
       "<div>\n",
       "<style scoped>\n",
       "    .dataframe tbody tr th:only-of-type {\n",
       "        vertical-align: middle;\n",
       "    }\n",
       "\n",
       "    .dataframe tbody tr th {\n",
       "        vertical-align: top;\n",
       "    }\n",
       "\n",
       "    .dataframe thead th {\n",
       "        text-align: right;\n",
       "    }\n",
       "</style>\n",
       "<table border=\"1\" class=\"dataframe\">\n",
       "  <thead>\n",
       "    <tr style=\"text-align: right;\">\n",
       "      <th></th>\n",
       "      <th>Agency</th>\n",
       "      <th>Number of Unqiue Prefix Codes</th>\n",
       "    </tr>\n",
       "  </thead>\n",
       "  <tbody>\n",
       "    <tr>\n",
       "      <th>19</th>\n",
       "      <td>Fresno County</td>\n",
       "      <td>16</td>\n",
       "    </tr>\n",
       "    <tr>\n",
       "      <th>26</th>\n",
       "      <td>Kern County</td>\n",
       "      <td>16</td>\n",
       "    </tr>\n",
       "    <tr>\n",
       "      <th>51</th>\n",
       "      <td>Tulare County</td>\n",
       "      <td>16</td>\n",
       "    </tr>\n",
       "    <tr>\n",
       "      <th>2</th>\n",
       "      <td>Bakersfield</td>\n",
       "      <td>15</td>\n",
       "    </tr>\n",
       "    <tr>\n",
       "      <th>18</th>\n",
       "      <td>Fresno</td>\n",
       "      <td>15</td>\n",
       "    </tr>\n",
       "  </tbody>\n",
       "</table>\n",
       "</div>"
      ],
      "text/plain": [
       "           Agency  Number of Unqiue Prefix Codes\n",
       "19  Fresno County                             16\n",
       "26    Kern County                             16\n",
       "51  Tulare County                             16\n",
       "2     Bakersfield                             15\n",
       "18         Fresno                             15"
      ]
     },
     "metadata": {},
     "output_type": "display_data"
    },
    {
     "data": {
      "text/html": [
       "<h4><strong>Number of Unique Agencies by Prefix Codes</strong></h4>"
      ],
      "text/plain": [
       "<IPython.core.display.HTML object>"
      ]
     },
     "metadata": {},
     "output_type": "display_data"
    },
    {
     "data": {
      "text/html": [
       "<div>\n",
       "<style scoped>\n",
       "    .dataframe tbody tr th:only-of-type {\n",
       "        vertical-align: middle;\n",
       "    }\n",
       "\n",
       "    .dataframe tbody tr th {\n",
       "        vertical-align: top;\n",
       "    }\n",
       "\n",
       "    .dataframe thead th {\n",
       "        text-align: right;\n",
       "    }\n",
       "</style>\n",
       "<table border=\"1\" class=\"dataframe\">\n",
       "  <thead>\n",
       "    <tr style=\"text-align: right;\">\n",
       "      <th></th>\n",
       "      <th>Prefix</th>\n",
       "      <th>Number of Unqiue Agencies</th>\n",
       "    </tr>\n",
       "  </thead>\n",
       "  <tbody>\n",
       "    <tr>\n",
       "      <th>20</th>\n",
       "      <td>CML</td>\n",
       "      <td>45</td>\n",
       "    </tr>\n",
       "    <tr>\n",
       "      <th>67</th>\n",
       "      <td>STPL</td>\n",
       "      <td>29</td>\n",
       "    </tr>\n",
       "    <tr>\n",
       "      <th>46</th>\n",
       "      <td>HSIPL</td>\n",
       "      <td>26</td>\n",
       "    </tr>\n",
       "    <tr>\n",
       "      <th>23</th>\n",
       "      <td>CMLNI</td>\n",
       "      <td>23</td>\n",
       "    </tr>\n",
       "    <tr>\n",
       "      <th>54</th>\n",
       "      <td>RPSTPL</td>\n",
       "      <td>16</td>\n",
       "    </tr>\n",
       "  </tbody>\n",
       "</table>\n",
       "</div>"
      ],
      "text/plain": [
       "    Prefix  Number of Unqiue Agencies\n",
       "20     CML                         45\n",
       "67    STPL                         29\n",
       "46   HSIPL                         26\n",
       "23   CMLNI                         23\n",
       "54  RPSTPL                         16"
      ]
     },
     "metadata": {},
     "output_type": "display_data"
    },
    {
     "data": {
      "text/html": [
       "<h4><strong>Top 5 Types of Work</strong></h4>"
      ],
      "text/plain": [
       "<IPython.core.display.HTML object>"
      ]
     },
     "metadata": {},
     "output_type": "display_data"
    },
    {
     "data": {
      "text/html": [
       "<div>\n",
       "<style scoped>\n",
       "    .dataframe tbody tr th:only-of-type {\n",
       "        vertical-align: middle;\n",
       "    }\n",
       "\n",
       "    .dataframe tbody tr th {\n",
       "        vertical-align: top;\n",
       "    }\n",
       "\n",
       "    .dataframe thead th {\n",
       "        text-align: right;\n",
       "    }\n",
       "</style>\n",
       "<table border=\"1\" class=\"dataframe\">\n",
       "  <thead>\n",
       "    <tr style=\"text-align: right;\">\n",
       "      <th></th>\n",
       "      <th>Type of Work</th>\n",
       "    </tr>\n",
       "  </thead>\n",
       "  <tbody>\n",
       "    <tr>\n",
       "      <th>4</th>\n",
       "      <td>Purchase (1) One Diesel School Bus</td>\n",
       "    </tr>\n",
       "    <tr>\n",
       "      <th>3</th>\n",
       "      <td>Purchase &amp; Install 10 Bus Shelters</td>\n",
       "    </tr>\n",
       "    <tr>\n",
       "      <th>7</th>\n",
       "      <td>Purchase One Propane Powered School Bus</td>\n",
       "    </tr>\n",
       "    <tr>\n",
       "      <th>10</th>\n",
       "      <td>Railroad  Depot Restoration (tc)</td>\n",
       "    </tr>\n",
       "    <tr>\n",
       "      <th>1</th>\n",
       "      <td>Highway Railroad Grade Crossing Hazards Elimin...</td>\n",
       "    </tr>\n",
       "  </tbody>\n",
       "</table>\n",
       "</div>"
      ],
      "text/plain": [
       "                                         Type of Work\n",
       "4                  Purchase (1) One Diesel School Bus\n",
       "3                  Purchase & Install 10 Bus Shelters\n",
       "7             Purchase One Propane Powered School Bus\n",
       "10                   Railroad  Depot Restoration (tc)\n",
       "1   Highway Railroad Grade Crossing Hazards Elimin..."
      ]
     },
     "metadata": {},
     "output_type": "display_data"
    },
    {
     "data": {
      "text/markdown": [
       "<h2> Number of Obligations </h2>"
      ],
      "text/plain": [
       "<IPython.core.display.Markdown object>"
      ]
     },
     "metadata": {},
     "output_type": "display_data"
    },
    {
     "data": {
      "text/html": [
       "<h4><strong>Obligations by Year</strong></h4>"
      ],
      "text/plain": [
       "<IPython.core.display.HTML object>"
      ]
     },
     "metadata": {},
     "output_type": "display_data"
    },
    {
     "data": {
      "text/html": [
       "\n",
       "<div id=\"altair-viz-1f2fd9ec503746fbbcfda9a1b65e21f1\"></div>\n",
       "<script type=\"text/javascript\">\n",
       "  var VEGA_DEBUG = (typeof VEGA_DEBUG == \"undefined\") ? {} : VEGA_DEBUG;\n",
       "  (function(spec, embedOpt){\n",
       "    let outputDiv = document.currentScript.previousElementSibling;\n",
       "    if (outputDiv.id !== \"altair-viz-1f2fd9ec503746fbbcfda9a1b65e21f1\") {\n",
       "      outputDiv = document.getElementById(\"altair-viz-1f2fd9ec503746fbbcfda9a1b65e21f1\");\n",
       "    }\n",
       "    const paths = {\n",
       "      \"vega\": \"https://cdn.jsdelivr.net/npm//vega@5?noext\",\n",
       "      \"vega-lib\": \"https://cdn.jsdelivr.net/npm//vega-lib?noext\",\n",
       "      \"vega-lite\": \"https://cdn.jsdelivr.net/npm//vega-lite@4.17.0?noext\",\n",
       "      \"vega-embed\": \"https://cdn.jsdelivr.net/npm//vega-embed@6?noext\",\n",
       "    };\n",
       "\n",
       "    function maybeLoadScript(lib, version) {\n",
       "      var key = `${lib.replace(\"-\", \"\")}_version`;\n",
       "      return (VEGA_DEBUG[key] == version) ?\n",
       "        Promise.resolve(paths[lib]) :\n",
       "        new Promise(function(resolve, reject) {\n",
       "          var s = document.createElement('script');\n",
       "          document.getElementsByTagName(\"head\")[0].appendChild(s);\n",
       "          s.async = true;\n",
       "          s.onload = () => {\n",
       "            VEGA_DEBUG[key] = version;\n",
       "            return resolve(paths[lib]);\n",
       "          };\n",
       "          s.onerror = () => reject(`Error loading script: ${paths[lib]}`);\n",
       "          s.src = paths[lib];\n",
       "        });\n",
       "    }\n",
       "\n",
       "    function showError(err) {\n",
       "      outputDiv.innerHTML = `<div class=\"error\" style=\"color:red;\">${err}</div>`;\n",
       "      throw err;\n",
       "    }\n",
       "\n",
       "    function displayChart(vegaEmbed) {\n",
       "      vegaEmbed(outputDiv, spec, embedOpt)\n",
       "        .catch(err => showError(`Javascript Error: ${err.message}<br>This usually means there's a typo in your chart specification. See the javascript console for the full traceback.`));\n",
       "    }\n",
       "\n",
       "    if(typeof define === \"function\" && define.amd) {\n",
       "      requirejs.config({paths});\n",
       "      require([\"vega-embed\"], displayChart, err => showError(`Error loading script: ${err.message}`));\n",
       "    } else {\n",
       "      maybeLoadScript(\"vega\", \"5\")\n",
       "        .then(() => maybeLoadScript(\"vega-lite\", \"4.17.0\"))\n",
       "        .then(() => maybeLoadScript(\"vega-embed\", \"6\"))\n",
       "        .catch(showError)\n",
       "        .then(() => displayChart(vegaEmbed));\n",
       "    }\n",
       "  })({\"config\": {\"view\": {\"continuousWidth\": 400, \"continuousHeight\": 300}, \"axis\": {\"domainColor\": \"#cbcbcb\", \"grid\": true, \"gridColor\": \"#cbcbcb\", \"gridWidth\": 1, \"labelColor\": \"#474747\", \"labelFont\": \"Nunito Sans\", \"labelFontSize\": 10, \"labelPadding\": 4, \"tickColor\": \"#cbcbcb\", \"tickSize\": 10, \"titleColor\": \"#333\", \"titleFont\": \"Raleway\", \"titleFontSize\": 12, \"titlePadding\": 10}, \"axisBand\": {\"grid\": false}, \"background\": \"white\", \"font\": \"Raleway\", \"header\": {\"labelFont\": \"Nunito Sans\", \"titleFont\": \"Raleway\"}, \"legend\": {\"labelColor\": \"#333\", \"labelFont\": \"Nunito Sans\", \"labelFontSize\": 11, \"labelLimit\": 0, \"padding\": 1, \"symbolSize\": 30, \"symbolType\": \"square\", \"titleColor\": \"#333\", \"titleFont\": \"Raleway\", \"titleFontSize\": 14, \"titlePadding\": 10}, \"title\": {\"anchor\": \"middle\", \"font\": \"Raleway\", \"fontSize\": 18, \"fontWeight\": 300, \"offset\": 20}}, \"data\": {\"name\": \"data-bd79701c9999d99562f2815abdbac302\"}, \"mark\": \"line\", \"encoding\": {\"tooltip\": [{\"field\": \"Year\", \"type\": \"quantitative\"}, {\"field\": \"count\", \"type\": \"quantitative\"}], \"x\": {\"field\": \"Year\", \"title\": \"Prepared Year\", \"type\": \"ordinal\"}, \"y\": {\"field\": \"count\", \"title\": \"Count\", \"type\": \"quantitative\"}}, \"height\": 250, \"width\": 400, \"$schema\": \"https://vega.github.io/schema/vega-lite/v4.17.0.json\", \"datasets\": {\"data-bd79701c9999d99562f2815abdbac302\": [{\"Year\": 2015.0, \"count\": 485, \"variable\": \"prepared_y\"}, {\"Year\": 2014.0, \"count\": 412, \"variable\": \"prepared_y\"}, {\"Year\": 2016.0, \"count\": 403, \"variable\": \"prepared_y\"}, {\"Year\": 2018.0, \"count\": 392, \"variable\": \"prepared_y\"}, {\"Year\": 2017.0, \"count\": 380, \"variable\": \"prepared_y\"}, {\"Year\": 2019.0, \"count\": 348, \"variable\": \"prepared_y\"}, {\"Year\": 2021.0, \"count\": 338, \"variable\": \"prepared_y\"}, {\"Year\": 2020.0, \"count\": 335, \"variable\": \"prepared_y\"}, {\"Year\": 2022.0, \"count\": 82, \"variable\": \"prepared_y\"}, {\"Year\": 2013.0, \"count\": 31, \"variable\": \"prepared_y\"}]}}, {\"mode\": \"vega-lite\"});\n",
       "</script>"
      ],
      "text/plain": [
       "alt.Chart(...)"
      ]
     },
     "metadata": {},
     "output_type": "display_data"
    },
    {
     "data": {
      "text/html": [
       "<h4><strong>Number of Unique Agencies by District</strong></h4>"
      ],
      "text/plain": [
       "<IPython.core.display.HTML object>"
      ]
     },
     "metadata": {},
     "output_type": "display_data"
    },
    {
     "data": {
      "text/html": [
       "\n",
       "<div id=\"altair-viz-69ec945aea4046ec825ef0186c2138e7\"></div>\n",
       "<script type=\"text/javascript\">\n",
       "  var VEGA_DEBUG = (typeof VEGA_DEBUG == \"undefined\") ? {} : VEGA_DEBUG;\n",
       "  (function(spec, embedOpt){\n",
       "    let outputDiv = document.currentScript.previousElementSibling;\n",
       "    if (outputDiv.id !== \"altair-viz-69ec945aea4046ec825ef0186c2138e7\") {\n",
       "      outputDiv = document.getElementById(\"altair-viz-69ec945aea4046ec825ef0186c2138e7\");\n",
       "    }\n",
       "    const paths = {\n",
       "      \"vega\": \"https://cdn.jsdelivr.net/npm//vega@5?noext\",\n",
       "      \"vega-lib\": \"https://cdn.jsdelivr.net/npm//vega-lib?noext\",\n",
       "      \"vega-lite\": \"https://cdn.jsdelivr.net/npm//vega-lite@4.17.0?noext\",\n",
       "      \"vega-embed\": \"https://cdn.jsdelivr.net/npm//vega-embed@6?noext\",\n",
       "    };\n",
       "\n",
       "    function maybeLoadScript(lib, version) {\n",
       "      var key = `${lib.replace(\"-\", \"\")}_version`;\n",
       "      return (VEGA_DEBUG[key] == version) ?\n",
       "        Promise.resolve(paths[lib]) :\n",
       "        new Promise(function(resolve, reject) {\n",
       "          var s = document.createElement('script');\n",
       "          document.getElementsByTagName(\"head\")[0].appendChild(s);\n",
       "          s.async = true;\n",
       "          s.onload = () => {\n",
       "            VEGA_DEBUG[key] = version;\n",
       "            return resolve(paths[lib]);\n",
       "          };\n",
       "          s.onerror = () => reject(`Error loading script: ${paths[lib]}`);\n",
       "          s.src = paths[lib];\n",
       "        });\n",
       "    }\n",
       "\n",
       "    function showError(err) {\n",
       "      outputDiv.innerHTML = `<div class=\"error\" style=\"color:red;\">${err}</div>`;\n",
       "      throw err;\n",
       "    }\n",
       "\n",
       "    function displayChart(vegaEmbed) {\n",
       "      vegaEmbed(outputDiv, spec, embedOpt)\n",
       "        .catch(err => showError(`Javascript Error: ${err.message}<br>This usually means there's a typo in your chart specification. See the javascript console for the full traceback.`));\n",
       "    }\n",
       "\n",
       "    if(typeof define === \"function\" && define.amd) {\n",
       "      requirejs.config({paths});\n",
       "      require([\"vega-embed\"], displayChart, err => showError(`Error loading script: ${err.message}`));\n",
       "    } else {\n",
       "      maybeLoadScript(\"vega\", \"5\")\n",
       "        .then(() => maybeLoadScript(\"vega-lite\", \"4.17.0\"))\n",
       "        .then(() => maybeLoadScript(\"vega-embed\", \"6\"))\n",
       "        .catch(showError)\n",
       "        .then(() => displayChart(vegaEmbed));\n",
       "    }\n",
       "  })({\"config\": {\"view\": {\"continuousWidth\": 400, \"continuousHeight\": 300}, \"axis\": {\"domainColor\": \"#cbcbcb\", \"grid\": true, \"gridColor\": \"#cbcbcb\", \"gridWidth\": 1, \"labelColor\": \"#474747\", \"labelFont\": \"Nunito Sans\", \"labelFontSize\": 10, \"labelPadding\": 4, \"tickColor\": \"#cbcbcb\", \"tickSize\": 10, \"titleColor\": \"#333\", \"titleFont\": \"Raleway\", \"titleFontSize\": 12, \"titlePadding\": 10}, \"axisBand\": {\"grid\": false}, \"background\": \"white\", \"font\": \"Raleway\", \"header\": {\"labelFont\": \"Nunito Sans\", \"titleFont\": \"Raleway\"}, \"legend\": {\"labelColor\": \"#333\", \"labelFont\": \"Nunito Sans\", \"labelFontSize\": 11, \"labelLimit\": 0, \"padding\": 1, \"symbolSize\": 30, \"symbolType\": \"square\", \"titleColor\": \"#333\", \"titleFont\": \"Raleway\", \"titleFontSize\": 14, \"titlePadding\": 10}, \"title\": {\"anchor\": \"middle\", \"font\": \"Raleway\", \"fontSize\": 18, \"fontWeight\": 300, \"offset\": 20}}, \"data\": {\"name\": \"data-8e1b8dd5a66a24f70fba9f356817d82d\"}, \"mark\": \"bar\", \"encoding\": {\"color\": {\"field\": \"District\", \"legend\": {\"title\": \"Prepared Year\"}, \"scale\": {\"range\": [\"#B9D6DF\", \"#8CBCCB\", \"#2EA8CE\", \"#136C97\", \"#0B405B\"]}, \"type\": \"nominal\"}, \"column\": {\"field\": \"District\", \"type\": \"nominal\"}, \"tooltip\": [{\"field\": \"prepared_y\", \"type\": \"quantitative\"}, {\"field\": \"Count\", \"type\": \"quantitative\"}], \"x\": {\"field\": \"prepared_y\", \"title\": \"Prepared Year\", \"type\": \"ordinal\"}, \"y\": {\"field\": \"Count\", \"title\": \"Number of Unique Agencies\", \"type\": \"quantitative\"}}, \"height\": 250, \"width\": 400, \"$schema\": \"https://vega.github.io/schema/vega-lite/v4.17.0.json\", \"datasets\": {\"data-8e1b8dd5a66a24f70fba9f356817d82d\": [{\"prepared_y\": 2022.0, \"District\": 6, \"Count\": 26}, {\"prepared_y\": 2021.0, \"District\": 6, \"Count\": 40}, {\"prepared_y\": 2020.0, \"District\": 6, \"Count\": 42}, {\"prepared_y\": 2019.0, \"District\": 6, \"Count\": 40}, {\"prepared_y\": 2018.0, \"District\": 6, \"Count\": 42}, {\"prepared_y\": 2017.0, \"District\": 6, \"Count\": 41}, {\"prepared_y\": 2016.0, \"District\": 6, \"Count\": 47}, {\"prepared_y\": 2015.0, \"District\": 6, \"Count\": 49}, {\"prepared_y\": 2014.0, \"District\": 6, \"Count\": 44}, {\"prepared_y\": 2013.0, \"District\": 6, \"Count\": 17}]}}, {\"mode\": \"vega-lite\"});\n",
       "</script>"
      ],
      "text/plain": [
       "alt.Chart(...)"
      ]
     },
     "metadata": {},
     "output_type": "display_data"
    },
    {
     "data": {
      "text/html": [
       "<h4><strong>Agencies With The Most Obligations</strong></h4>"
      ],
      "text/plain": [
       "<IPython.core.display.HTML object>"
      ]
     },
     "metadata": {},
     "output_type": "display_data"
    },
    {
     "data": {
      "text/html": [
       "\n",
       "<div id=\"altair-viz-c3d2444f50c64badb06a8a9217b5f6e6\"></div>\n",
       "<script type=\"text/javascript\">\n",
       "  var VEGA_DEBUG = (typeof VEGA_DEBUG == \"undefined\") ? {} : VEGA_DEBUG;\n",
       "  (function(spec, embedOpt){\n",
       "    let outputDiv = document.currentScript.previousElementSibling;\n",
       "    if (outputDiv.id !== \"altair-viz-c3d2444f50c64badb06a8a9217b5f6e6\") {\n",
       "      outputDiv = document.getElementById(\"altair-viz-c3d2444f50c64badb06a8a9217b5f6e6\");\n",
       "    }\n",
       "    const paths = {\n",
       "      \"vega\": \"https://cdn.jsdelivr.net/npm//vega@5?noext\",\n",
       "      \"vega-lib\": \"https://cdn.jsdelivr.net/npm//vega-lib?noext\",\n",
       "      \"vega-lite\": \"https://cdn.jsdelivr.net/npm//vega-lite@4.17.0?noext\",\n",
       "      \"vega-embed\": \"https://cdn.jsdelivr.net/npm//vega-embed@6?noext\",\n",
       "    };\n",
       "\n",
       "    function maybeLoadScript(lib, version) {\n",
       "      var key = `${lib.replace(\"-\", \"\")}_version`;\n",
       "      return (VEGA_DEBUG[key] == version) ?\n",
       "        Promise.resolve(paths[lib]) :\n",
       "        new Promise(function(resolve, reject) {\n",
       "          var s = document.createElement('script');\n",
       "          document.getElementsByTagName(\"head\")[0].appendChild(s);\n",
       "          s.async = true;\n",
       "          s.onload = () => {\n",
       "            VEGA_DEBUG[key] = version;\n",
       "            return resolve(paths[lib]);\n",
       "          };\n",
       "          s.onerror = () => reject(`Error loading script: ${paths[lib]}`);\n",
       "          s.src = paths[lib];\n",
       "        });\n",
       "    }\n",
       "\n",
       "    function showError(err) {\n",
       "      outputDiv.innerHTML = `<div class=\"error\" style=\"color:red;\">${err}</div>`;\n",
       "      throw err;\n",
       "    }\n",
       "\n",
       "    function displayChart(vegaEmbed) {\n",
       "      vegaEmbed(outputDiv, spec, embedOpt)\n",
       "        .catch(err => showError(`Javascript Error: ${err.message}<br>This usually means there's a typo in your chart specification. See the javascript console for the full traceback.`));\n",
       "    }\n",
       "\n",
       "    if(typeof define === \"function\" && define.amd) {\n",
       "      requirejs.config({paths});\n",
       "      require([\"vega-embed\"], displayChart, err => showError(`Error loading script: ${err.message}`));\n",
       "    } else {\n",
       "      maybeLoadScript(\"vega\", \"5\")\n",
       "        .then(() => maybeLoadScript(\"vega-lite\", \"4.17.0\"))\n",
       "        .then(() => maybeLoadScript(\"vega-embed\", \"6\"))\n",
       "        .catch(showError)\n",
       "        .then(() => displayChart(vegaEmbed));\n",
       "    }\n",
       "  })({\"config\": {\"view\": {\"continuousWidth\": 400, \"continuousHeight\": 300}, \"axis\": {\"domainColor\": \"#cbcbcb\", \"grid\": true, \"gridColor\": \"#cbcbcb\", \"gridWidth\": 1, \"labelColor\": \"#474747\", \"labelFont\": \"Nunito Sans\", \"labelFontSize\": 10, \"labelPadding\": 4, \"tickColor\": \"#cbcbcb\", \"tickSize\": 10, \"titleColor\": \"#333\", \"titleFont\": \"Raleway\", \"titleFontSize\": 12, \"titlePadding\": 10}, \"axisBand\": {\"grid\": false}, \"background\": \"white\", \"font\": \"Raleway\", \"header\": {\"labelFont\": \"Nunito Sans\", \"titleFont\": \"Raleway\"}, \"legend\": {\"labelColor\": \"#333\", \"labelFont\": \"Nunito Sans\", \"labelFontSize\": 11, \"labelLimit\": 0, \"padding\": 1, \"symbolSize\": 30, \"symbolType\": \"square\", \"titleColor\": \"#333\", \"titleFont\": \"Raleway\", \"titleFontSize\": 14, \"titlePadding\": 10}, \"title\": {\"anchor\": \"middle\", \"font\": \"Raleway\", \"fontSize\": 18, \"fontWeight\": 300, \"offset\": 20}}, \"data\": {\"name\": \"data-0eb4d1014a36c90b4958449c30252088\"}, \"mark\": \"bar\", \"encoding\": {\"color\": {\"field\": \"Agency\", \"legend\": {\"symbolLimit\": 10, \"title\": \"Agency\"}, \"scale\": {\"range\": [\"#2EA8CE\", \"#EB9F3C\", \"#F4D837\", \"#51BF9D\", \"#8CBCCB\", \"#9487C0\"]}, \"type\": \"nominal\"}, \"tooltip\": [{\"field\": \"Agency\", \"type\": \"nominal\"}, {\"field\": \"Number of Obligations\", \"type\": \"quantitative\"}], \"x\": {\"field\": \"Agency\", \"sort\": \"-y\", \"title\": \"Agency\", \"type\": \"nominal\"}, \"y\": {\"field\": \"Number of Obligations\", \"title\": \"Number Of Obligations\", \"type\": \"quantitative\"}}, \"height\": 250, \"width\": 400, \"$schema\": \"https://vega.github.io/schema/vega-lite/v4.17.0.json\", \"datasets\": {\"data-0eb4d1014a36c90b4958449c30252088\": [{\"Agency\": \"Fresno\", \"Number of Obligations\": 471, \"variable\": \"primary_agency_name\"}, {\"Agency\": \"Kern County\", \"Number of Obligations\": 301, \"variable\": \"primary_agency_name\"}, {\"Agency\": \"Bakersfield\", \"Number of Obligations\": 280, \"variable\": \"primary_agency_name\"}, {\"Agency\": \"Fresno County\", \"Number of Obligations\": 280, \"variable\": \"primary_agency_name\"}, {\"Agency\": \"Tulare County\", \"Number of Obligations\": 222, \"variable\": \"primary_agency_name\"}, {\"Agency\": \"Clovis\", \"Number of Obligations\": 164, \"variable\": \"primary_agency_name\"}, {\"Agency\": \"Visalia\", \"Number of Obligations\": 145, \"variable\": \"primary_agency_name\"}, {\"Agency\": \"Madera County\", \"Number of Obligations\": 109, \"variable\": \"primary_agency_name\"}, {\"Agency\": \"Madera\", \"Number of Obligations\": 72, \"variable\": \"primary_agency_name\"}, {\"Agency\": \"Sanger\", \"Number of Obligations\": 69, \"variable\": \"primary_agency_name\"}, {\"Agency\": \"Wasco\", \"Number of Obligations\": 64, \"variable\": \"primary_agency_name\"}, {\"Agency\": \"Kingsburg\", \"Number of Obligations\": 62, \"variable\": \"primary_agency_name\"}, {\"Agency\": \"Kings County\", \"Number of Obligations\": 52, \"variable\": \"primary_agency_name\"}, {\"Agency\": \"Kerman\", \"Number of Obligations\": 46, \"variable\": \"primary_agency_name\"}, {\"Agency\": \"Porterville\", \"Number of Obligations\": 45, \"variable\": \"primary_agency_name\"}, {\"Agency\": \"Reedley\", \"Number of Obligations\": 45, \"variable\": \"primary_agency_name\"}, {\"Agency\": \"Delano\", \"Number of Obligations\": 43, \"variable\": \"primary_agency_name\"}, {\"Agency\": \"Kern County Council of Governments\", \"Number of Obligations\": 43, \"variable\": \"primary_agency_name\"}, {\"Agency\": \"Parlier\", \"Number of Obligations\": 43, \"variable\": \"primary_agency_name\"}, {\"Agency\": \"Hanford\", \"Number of Obligations\": 41, \"variable\": \"primary_agency_name\"}]}}, {\"mode\": \"vega-lite\"});\n",
       "</script>"
      ],
      "text/plain": [
       "alt.Chart(...)"
      ]
     },
     "metadata": {},
     "output_type": "display_data"
    },
    {
     "data": {
      "text/html": [
       "<h2>Prefix Codes</h2>"
      ],
      "text/plain": [
       "<IPython.core.display.HTML object>"
      ]
     },
     "metadata": {},
     "output_type": "display_data"
    },
    {
     "data": {
      "text/html": [
       "<h4><strong>Number of Unique Prefix Codes by District</strong></h4>"
      ],
      "text/plain": [
       "<IPython.core.display.HTML object>"
      ]
     },
     "metadata": {},
     "output_type": "display_data"
    },
    {
     "data": {
      "text/html": [
       "\n",
       "<div id=\"altair-viz-d61f0146399c4e46acee06d786d830f9\"></div>\n",
       "<script type=\"text/javascript\">\n",
       "  var VEGA_DEBUG = (typeof VEGA_DEBUG == \"undefined\") ? {} : VEGA_DEBUG;\n",
       "  (function(spec, embedOpt){\n",
       "    let outputDiv = document.currentScript.previousElementSibling;\n",
       "    if (outputDiv.id !== \"altair-viz-d61f0146399c4e46acee06d786d830f9\") {\n",
       "      outputDiv = document.getElementById(\"altair-viz-d61f0146399c4e46acee06d786d830f9\");\n",
       "    }\n",
       "    const paths = {\n",
       "      \"vega\": \"https://cdn.jsdelivr.net/npm//vega@5?noext\",\n",
       "      \"vega-lib\": \"https://cdn.jsdelivr.net/npm//vega-lib?noext\",\n",
       "      \"vega-lite\": \"https://cdn.jsdelivr.net/npm//vega-lite@4.17.0?noext\",\n",
       "      \"vega-embed\": \"https://cdn.jsdelivr.net/npm//vega-embed@6?noext\",\n",
       "    };\n",
       "\n",
       "    function maybeLoadScript(lib, version) {\n",
       "      var key = `${lib.replace(\"-\", \"\")}_version`;\n",
       "      return (VEGA_DEBUG[key] == version) ?\n",
       "        Promise.resolve(paths[lib]) :\n",
       "        new Promise(function(resolve, reject) {\n",
       "          var s = document.createElement('script');\n",
       "          document.getElementsByTagName(\"head\")[0].appendChild(s);\n",
       "          s.async = true;\n",
       "          s.onload = () => {\n",
       "            VEGA_DEBUG[key] = version;\n",
       "            return resolve(paths[lib]);\n",
       "          };\n",
       "          s.onerror = () => reject(`Error loading script: ${paths[lib]}`);\n",
       "          s.src = paths[lib];\n",
       "        });\n",
       "    }\n",
       "\n",
       "    function showError(err) {\n",
       "      outputDiv.innerHTML = `<div class=\"error\" style=\"color:red;\">${err}</div>`;\n",
       "      throw err;\n",
       "    }\n",
       "\n",
       "    function displayChart(vegaEmbed) {\n",
       "      vegaEmbed(outputDiv, spec, embedOpt)\n",
       "        .catch(err => showError(`Javascript Error: ${err.message}<br>This usually means there's a typo in your chart specification. See the javascript console for the full traceback.`));\n",
       "    }\n",
       "\n",
       "    if(typeof define === \"function\" && define.amd) {\n",
       "      requirejs.config({paths});\n",
       "      require([\"vega-embed\"], displayChart, err => showError(`Error loading script: ${err.message}`));\n",
       "    } else {\n",
       "      maybeLoadScript(\"vega\", \"5\")\n",
       "        .then(() => maybeLoadScript(\"vega-lite\", \"4.17.0\"))\n",
       "        .then(() => maybeLoadScript(\"vega-embed\", \"6\"))\n",
       "        .catch(showError)\n",
       "        .then(() => displayChart(vegaEmbed));\n",
       "    }\n",
       "  })({\"config\": {\"view\": {\"continuousWidth\": 400, \"continuousHeight\": 300}, \"axis\": {\"domainColor\": \"#cbcbcb\", \"grid\": true, \"gridColor\": \"#cbcbcb\", \"gridWidth\": 1, \"labelColor\": \"#474747\", \"labelFont\": \"Nunito Sans\", \"labelFontSize\": 10, \"labelPadding\": 4, \"tickColor\": \"#cbcbcb\", \"tickSize\": 10, \"titleColor\": \"#333\", \"titleFont\": \"Raleway\", \"titleFontSize\": 12, \"titlePadding\": 10}, \"axisBand\": {\"grid\": false}, \"background\": \"white\", \"font\": \"Raleway\", \"header\": {\"labelFont\": \"Nunito Sans\", \"titleFont\": \"Raleway\"}, \"legend\": {\"labelColor\": \"#333\", \"labelFont\": \"Nunito Sans\", \"labelFontSize\": 11, \"labelLimit\": 0, \"padding\": 1, \"symbolSize\": 30, \"symbolType\": \"square\", \"titleColor\": \"#333\", \"titleFont\": \"Raleway\", \"titleFontSize\": 14, \"titlePadding\": 10}, \"title\": {\"anchor\": \"middle\", \"font\": \"Raleway\", \"fontSize\": 18, \"fontWeight\": 300, \"offset\": 20}}, \"data\": {\"name\": \"data-2f69b625fe25e2bcb1750c4914095732\"}, \"mark\": \"bar\", \"encoding\": {\"color\": {\"field\": \"District\", \"legend\": {\"title\": \"District\"}, \"scale\": {\"range\": [\"#B9D6DF\", \"#8CBCCB\", \"#2EA8CE\", \"#136C97\", \"#0B405B\"]}, \"type\": \"nominal\"}, \"column\": {\"field\": \"District\", \"type\": \"nominal\"}, \"tooltip\": [{\"field\": \"prepared_y\", \"type\": \"quantitative\"}, {\"field\": \"Count\", \"type\": \"quantitative\"}], \"x\": {\"field\": \"prepared_y\", \"title\": \"Prepared Year\", \"type\": \"ordinal\"}, \"y\": {\"field\": \"Count\", \"title\": \"Number of Unique Agencies\", \"type\": \"quantitative\"}}, \"height\": 250, \"width\": 400, \"$schema\": \"https://vega.github.io/schema/vega-lite/v4.17.0.json\", \"datasets\": {\"data-2f69b625fe25e2bcb1750c4914095732\": [{\"prepared_y\": 2022.0, \"District\": 6, \"Count\": 19}, {\"prepared_y\": 2021.0, \"District\": 6, \"Count\": 26}, {\"prepared_y\": 2020.0, \"District\": 6, \"Count\": 27}, {\"prepared_y\": 2019.0, \"District\": 6, \"Count\": 28}, {\"prepared_y\": 2018.0, \"District\": 6, \"Count\": 27}, {\"prepared_y\": 2017.0, \"District\": 6, \"Count\": 29}, {\"prepared_y\": 2016.0, \"District\": 6, \"Count\": 30}, {\"prepared_y\": 2015.0, \"District\": 6, \"Count\": 32}, {\"prepared_y\": 2014.0, \"District\": 6, \"Count\": 36}, {\"prepared_y\": 2013.0, \"District\": 6, \"Count\": 10}]}}, {\"mode\": \"vega-lite\"});\n",
       "</script>"
      ],
      "text/plain": [
       "alt.Chart(...)"
      ]
     },
     "metadata": {},
     "output_type": "display_data"
    },
    {
     "data": {
      "text/html": [
       "<h4><strong>Most Used Prefix Codes</strong></h4>"
      ],
      "text/plain": [
       "<IPython.core.display.HTML object>"
      ]
     },
     "metadata": {},
     "output_type": "display_data"
    },
    {
     "data": {
      "text/html": [
       "\n",
       "<div id=\"altair-viz-f59a3912592045ba9750c671e88608ad\"></div>\n",
       "<script type=\"text/javascript\">\n",
       "  var VEGA_DEBUG = (typeof VEGA_DEBUG == \"undefined\") ? {} : VEGA_DEBUG;\n",
       "  (function(spec, embedOpt){\n",
       "    let outputDiv = document.currentScript.previousElementSibling;\n",
       "    if (outputDiv.id !== \"altair-viz-f59a3912592045ba9750c671e88608ad\") {\n",
       "      outputDiv = document.getElementById(\"altair-viz-f59a3912592045ba9750c671e88608ad\");\n",
       "    }\n",
       "    const paths = {\n",
       "      \"vega\": \"https://cdn.jsdelivr.net/npm//vega@5?noext\",\n",
       "      \"vega-lib\": \"https://cdn.jsdelivr.net/npm//vega-lib?noext\",\n",
       "      \"vega-lite\": \"https://cdn.jsdelivr.net/npm//vega-lite@4.17.0?noext\",\n",
       "      \"vega-embed\": \"https://cdn.jsdelivr.net/npm//vega-embed@6?noext\",\n",
       "    };\n",
       "\n",
       "    function maybeLoadScript(lib, version) {\n",
       "      var key = `${lib.replace(\"-\", \"\")}_version`;\n",
       "      return (VEGA_DEBUG[key] == version) ?\n",
       "        Promise.resolve(paths[lib]) :\n",
       "        new Promise(function(resolve, reject) {\n",
       "          var s = document.createElement('script');\n",
       "          document.getElementsByTagName(\"head\")[0].appendChild(s);\n",
       "          s.async = true;\n",
       "          s.onload = () => {\n",
       "            VEGA_DEBUG[key] = version;\n",
       "            return resolve(paths[lib]);\n",
       "          };\n",
       "          s.onerror = () => reject(`Error loading script: ${paths[lib]}`);\n",
       "          s.src = paths[lib];\n",
       "        });\n",
       "    }\n",
       "\n",
       "    function showError(err) {\n",
       "      outputDiv.innerHTML = `<div class=\"error\" style=\"color:red;\">${err}</div>`;\n",
       "      throw err;\n",
       "    }\n",
       "\n",
       "    function displayChart(vegaEmbed) {\n",
       "      vegaEmbed(outputDiv, spec, embedOpt)\n",
       "        .catch(err => showError(`Javascript Error: ${err.message}<br>This usually means there's a typo in your chart specification. See the javascript console for the full traceback.`));\n",
       "    }\n",
       "\n",
       "    if(typeof define === \"function\" && define.amd) {\n",
       "      requirejs.config({paths});\n",
       "      require([\"vega-embed\"], displayChart, err => showError(`Error loading script: ${err.message}`));\n",
       "    } else {\n",
       "      maybeLoadScript(\"vega\", \"5\")\n",
       "        .then(() => maybeLoadScript(\"vega-lite\", \"4.17.0\"))\n",
       "        .then(() => maybeLoadScript(\"vega-embed\", \"6\"))\n",
       "        .catch(showError)\n",
       "        .then(() => displayChart(vegaEmbed));\n",
       "    }\n",
       "  })({\"config\": {\"view\": {\"continuousWidth\": 400, \"continuousHeight\": 300}, \"axis\": {\"domainColor\": \"#cbcbcb\", \"grid\": true, \"gridColor\": \"#cbcbcb\", \"gridWidth\": 1, \"labelColor\": \"#474747\", \"labelFont\": \"Nunito Sans\", \"labelFontSize\": 10, \"labelPadding\": 4, \"tickColor\": \"#cbcbcb\", \"tickSize\": 10, \"titleColor\": \"#333\", \"titleFont\": \"Raleway\", \"titleFontSize\": 12, \"titlePadding\": 10}, \"axisBand\": {\"grid\": false}, \"background\": \"white\", \"font\": \"Raleway\", \"header\": {\"labelFont\": \"Nunito Sans\", \"titleFont\": \"Raleway\"}, \"legend\": {\"labelColor\": \"#333\", \"labelFont\": \"Nunito Sans\", \"labelFontSize\": 11, \"labelLimit\": 0, \"padding\": 1, \"symbolSize\": 30, \"symbolType\": \"square\", \"titleColor\": \"#333\", \"titleFont\": \"Raleway\", \"titleFontSize\": 14, \"titlePadding\": 10}, \"title\": {\"anchor\": \"middle\", \"font\": \"Raleway\", \"fontSize\": 18, \"fontWeight\": 300, \"offset\": 20}}, \"data\": {\"name\": \"data-08107c06fc86c6dde0b71209014f1ac6\"}, \"mark\": \"bar\", \"encoding\": {\"color\": {\"field\": \"Prefix\", \"legend\": {\"symbolLimit\": 10, \"title\": \"Prefix\"}, \"scale\": {\"range\": [\"#2EA8CE\", \"#EB9F3C\", \"#F4D837\", \"#51BF9D\", \"#8CBCCB\", \"#9487C0\"]}, \"type\": \"nominal\"}, \"tooltip\": [{\"field\": \"Prefix\", \"type\": \"nominal\"}, {\"field\": \"Number of Obligations\", \"type\": \"quantitative\"}], \"x\": {\"field\": \"Prefix\", \"sort\": \"-y\", \"title\": \"Prefix\", \"type\": \"nominal\"}, \"y\": {\"field\": \"Number of Obligations\", \"title\": \"Number Of Obligations\", \"type\": \"quantitative\"}}, \"height\": 250, \"width\": 400, \"$schema\": \"https://vega.github.io/schema/vega-lite/v4.17.0.json\", \"datasets\": {\"data-08107c06fc86c6dde0b71209014f1ac6\": [{\"Prefix\": \"CML\", \"Number of Obligations\": 1051, \"variable\": \"prefix\"}, {\"Prefix\": \"STPL\", \"Number of Obligations\": 748, \"variable\": \"prefix\"}, {\"Prefix\": \"HSIPL\", \"Number of Obligations\": 320, \"variable\": \"prefix\"}, {\"Prefix\": \"BRLO\", \"Number of Obligations\": 210, \"variable\": \"prefix\"}, {\"Prefix\": \"CMLNI\", \"Number of Obligations\": 141, \"variable\": \"prefix\"}, {\"Prefix\": \"ATPL\", \"Number of Obligations\": 120, \"variable\": \"prefix\"}, {\"Prefix\": \"BPMP\", \"Number of Obligations\": 76, \"variable\": \"prefix\"}, {\"Prefix\": \"BRLS\", \"Number of Obligations\": 76, \"variable\": \"prefix\"}, {\"Prefix\": \"RPSTPL\", \"Number of Obligations\": 66, \"variable\": \"prefix\"}, {\"Prefix\": \"NCIIPL\", \"Number of Obligations\": 43, \"variable\": \"prefix\"}, {\"Prefix\": \"SRTSL\", \"Number of Obligations\": 37, \"variable\": \"prefix\"}, {\"Prefix\": \"STPCML\", \"Number of Obligations\": 30, \"variable\": \"prefix\"}, {\"Prefix\": \"BHLSZ\", \"Number of Obligations\": 27, \"variable\": \"prefix\"}, {\"Prefix\": \"FTACML\", \"Number of Obligations\": 26, \"variable\": \"prefix\"}, {\"Prefix\": \"STPHIPL\", \"Number of Obligations\": 20, \"variable\": \"prefix\"}, {\"Prefix\": \"STPLNI\", \"Number of Obligations\": 18, \"variable\": \"prefix\"}, {\"Prefix\": \"BHLS\", \"Number of Obligations\": 13, \"variable\": \"prefix\"}, {\"Prefix\": \"PRNSL\", \"Number of Obligations\": 13, \"variable\": \"prefix\"}, {\"Prefix\": \"ER\", \"Number of Obligations\": 10, \"variable\": \"prefix\"}, {\"Prefix\": \"HPLUL\", \"Number of Obligations\": 10, \"variable\": \"prefix\"}]}}, {\"mode\": \"vega-lite\"});\n",
       "</script>"
      ],
      "text/plain": [
       "alt.Chart(...)"
      ]
     },
     "metadata": {},
     "output_type": "display_data"
    },
    {
     "data": {
      "text/html": [
       "<h4><strong>Agencies With The Most Unique Prefix Codes</strong></h4>"
      ],
      "text/plain": [
       "<IPython.core.display.HTML object>"
      ]
     },
     "metadata": {},
     "output_type": "display_data"
    },
    {
     "data": {
      "text/html": [
       "\n",
       "<div id=\"altair-viz-7d4e25b6b16a4773bf00d8021dcb58d2\"></div>\n",
       "<script type=\"text/javascript\">\n",
       "  var VEGA_DEBUG = (typeof VEGA_DEBUG == \"undefined\") ? {} : VEGA_DEBUG;\n",
       "  (function(spec, embedOpt){\n",
       "    let outputDiv = document.currentScript.previousElementSibling;\n",
       "    if (outputDiv.id !== \"altair-viz-7d4e25b6b16a4773bf00d8021dcb58d2\") {\n",
       "      outputDiv = document.getElementById(\"altair-viz-7d4e25b6b16a4773bf00d8021dcb58d2\");\n",
       "    }\n",
       "    const paths = {\n",
       "      \"vega\": \"https://cdn.jsdelivr.net/npm//vega@5?noext\",\n",
       "      \"vega-lib\": \"https://cdn.jsdelivr.net/npm//vega-lib?noext\",\n",
       "      \"vega-lite\": \"https://cdn.jsdelivr.net/npm//vega-lite@4.17.0?noext\",\n",
       "      \"vega-embed\": \"https://cdn.jsdelivr.net/npm//vega-embed@6?noext\",\n",
       "    };\n",
       "\n",
       "    function maybeLoadScript(lib, version) {\n",
       "      var key = `${lib.replace(\"-\", \"\")}_version`;\n",
       "      return (VEGA_DEBUG[key] == version) ?\n",
       "        Promise.resolve(paths[lib]) :\n",
       "        new Promise(function(resolve, reject) {\n",
       "          var s = document.createElement('script');\n",
       "          document.getElementsByTagName(\"head\")[0].appendChild(s);\n",
       "          s.async = true;\n",
       "          s.onload = () => {\n",
       "            VEGA_DEBUG[key] = version;\n",
       "            return resolve(paths[lib]);\n",
       "          };\n",
       "          s.onerror = () => reject(`Error loading script: ${paths[lib]}`);\n",
       "          s.src = paths[lib];\n",
       "        });\n",
       "    }\n",
       "\n",
       "    function showError(err) {\n",
       "      outputDiv.innerHTML = `<div class=\"error\" style=\"color:red;\">${err}</div>`;\n",
       "      throw err;\n",
       "    }\n",
       "\n",
       "    function displayChart(vegaEmbed) {\n",
       "      vegaEmbed(outputDiv, spec, embedOpt)\n",
       "        .catch(err => showError(`Javascript Error: ${err.message}<br>This usually means there's a typo in your chart specification. See the javascript console for the full traceback.`));\n",
       "    }\n",
       "\n",
       "    if(typeof define === \"function\" && define.amd) {\n",
       "      requirejs.config({paths});\n",
       "      require([\"vega-embed\"], displayChart, err => showError(`Error loading script: ${err.message}`));\n",
       "    } else {\n",
       "      maybeLoadScript(\"vega\", \"5\")\n",
       "        .then(() => maybeLoadScript(\"vega-lite\", \"4.17.0\"))\n",
       "        .then(() => maybeLoadScript(\"vega-embed\", \"6\"))\n",
       "        .catch(showError)\n",
       "        .then(() => displayChart(vegaEmbed));\n",
       "    }\n",
       "  })({\"config\": {\"view\": {\"continuousWidth\": 400, \"continuousHeight\": 300}, \"axis\": {\"domainColor\": \"#cbcbcb\", \"grid\": true, \"gridColor\": \"#cbcbcb\", \"gridWidth\": 1, \"labelColor\": \"#474747\", \"labelFont\": \"Nunito Sans\", \"labelFontSize\": 10, \"labelPadding\": 4, \"tickColor\": \"#cbcbcb\", \"tickSize\": 10, \"titleColor\": \"#333\", \"titleFont\": \"Raleway\", \"titleFontSize\": 12, \"titlePadding\": 10}, \"axisBand\": {\"grid\": false}, \"background\": \"white\", \"font\": \"Raleway\", \"header\": {\"labelFont\": \"Nunito Sans\", \"titleFont\": \"Raleway\"}, \"legend\": {\"labelColor\": \"#333\", \"labelFont\": \"Nunito Sans\", \"labelFontSize\": 11, \"labelLimit\": 0, \"padding\": 1, \"symbolSize\": 30, \"symbolType\": \"square\", \"titleColor\": \"#333\", \"titleFont\": \"Raleway\", \"titleFontSize\": 14, \"titlePadding\": 10}, \"title\": {\"anchor\": \"middle\", \"font\": \"Raleway\", \"fontSize\": 18, \"fontWeight\": 300, \"offset\": 20}}, \"data\": {\"name\": \"data-d239b4836c9e010704a0543a5c9a0f5b\"}, \"mark\": \"bar\", \"encoding\": {\"color\": {\"field\": \"primary_agency_name\", \"legend\": {\"symbolLimit\": 10, \"title\": \"Agency\"}, \"scale\": {\"range\": [\"#2EA8CE\", \"#EB9F3C\", \"#F4D837\", \"#51BF9D\", \"#8CBCCB\", \"#9487C0\"]}, \"type\": \"nominal\"}, \"tooltip\": [{\"field\": \"primary_agency_name\", \"type\": \"nominal\"}, {\"field\": \"n\", \"type\": \"quantitative\"}], \"x\": {\"field\": \"primary_agency_name\", \"sort\": \"-y\", \"title\": \"Agency\", \"type\": \"nominal\"}, \"y\": {\"field\": \"n\", \"title\": \"Count\", \"type\": \"quantitative\"}}, \"height\": 250, \"width\": 400, \"$schema\": \"https://vega.github.io/schema/vega-lite/v4.17.0.json\", \"datasets\": {\"data-d239b4836c9e010704a0543a5c9a0f5b\": [{\"primary_agency_name\": \"Fresno County\", \"n\": 16}, {\"primary_agency_name\": \"Kern County\", \"n\": 16}, {\"primary_agency_name\": \"Tulare County\", \"n\": 16}, {\"primary_agency_name\": \"Bakersfield\", \"n\": 15}, {\"primary_agency_name\": \"Fresno\", \"n\": 15}, {\"primary_agency_name\": \"Visalia\", \"n\": 12}, {\"primary_agency_name\": \"Madera\", \"n\": 9}, {\"primary_agency_name\": \"Clovis\", \"n\": 8}, {\"primary_agency_name\": \"Madera County\", \"n\": 8}, {\"primary_agency_name\": \"Reedley\", \"n\": 8}, {\"primary_agency_name\": \"Wasco\", \"n\": 8}, {\"primary_agency_name\": \"Kings County\", \"n\": 7}, {\"primary_agency_name\": \"Porterville\", \"n\": 7}, {\"primary_agency_name\": \"Shafter\", \"n\": 7}, {\"primary_agency_name\": \"Delano\", \"n\": 6}, {\"primary_agency_name\": \"Dinuba\", \"n\": 6}, {\"primary_agency_name\": \"Fowler\", \"n\": 6}, {\"primary_agency_name\": \"Mendota\", \"n\": 6}, {\"primary_agency_name\": \"Parlier\", \"n\": 6}, {\"primary_agency_name\": \"Tulare\", \"n\": 6}, {\"primary_agency_name\": \"Chowchilla\", \"n\": 5}, {\"primary_agency_name\": \"Kerman\", \"n\": 5}, {\"primary_agency_name\": \"Kern County Council of Governments\", \"n\": 5}, {\"primary_agency_name\": \"Kingsburg\", \"n\": 5}, {\"primary_agency_name\": \"San Joaquin\", \"n\": 5}, {\"primary_agency_name\": \"Selma\", \"n\": 5}, {\"primary_agency_name\": \"Taft\", \"n\": 5}, {\"primary_agency_name\": \"Arvin\", \"n\": 4}, {\"primary_agency_name\": \"Coalinga\", \"n\": 4}, {\"primary_agency_name\": \"Department of Water Resources\", \"n\": 4}]}}, {\"mode\": \"vega-lite\"});\n",
       "</script>"
      ],
      "text/plain": [
       "alt.Chart(...)"
      ]
     },
     "metadata": {},
     "output_type": "display_data"
    },
    {
     "data": {
      "text/html": [
       "<h2>Funding Distribution</h2>"
      ],
      "text/plain": [
       "<IPython.core.display.HTML object>"
      ]
     },
     "metadata": {},
     "output_type": "display_data"
    },
    {
     "data": {
      "text/html": [
       "<h4><strong>Average Total Requested Funds by Agency ($2021)</strong></h4>"
      ],
      "text/plain": [
       "<IPython.core.display.HTML object>"
      ]
     },
     "metadata": {},
     "output_type": "display_data"
    },
    {
     "data": {
      "text/html": [
       "\n",
       "<div id=\"altair-viz-830d6d4565ff464a90c9d9a40a0ae10f\"></div>\n",
       "<script type=\"text/javascript\">\n",
       "  var VEGA_DEBUG = (typeof VEGA_DEBUG == \"undefined\") ? {} : VEGA_DEBUG;\n",
       "  (function(spec, embedOpt){\n",
       "    let outputDiv = document.currentScript.previousElementSibling;\n",
       "    if (outputDiv.id !== \"altair-viz-830d6d4565ff464a90c9d9a40a0ae10f\") {\n",
       "      outputDiv = document.getElementById(\"altair-viz-830d6d4565ff464a90c9d9a40a0ae10f\");\n",
       "    }\n",
       "    const paths = {\n",
       "      \"vega\": \"https://cdn.jsdelivr.net/npm//vega@5?noext\",\n",
       "      \"vega-lib\": \"https://cdn.jsdelivr.net/npm//vega-lib?noext\",\n",
       "      \"vega-lite\": \"https://cdn.jsdelivr.net/npm//vega-lite@4.17.0?noext\",\n",
       "      \"vega-embed\": \"https://cdn.jsdelivr.net/npm//vega-embed@6?noext\",\n",
       "    };\n",
       "\n",
       "    function maybeLoadScript(lib, version) {\n",
       "      var key = `${lib.replace(\"-\", \"\")}_version`;\n",
       "      return (VEGA_DEBUG[key] == version) ?\n",
       "        Promise.resolve(paths[lib]) :\n",
       "        new Promise(function(resolve, reject) {\n",
       "          var s = document.createElement('script');\n",
       "          document.getElementsByTagName(\"head\")[0].appendChild(s);\n",
       "          s.async = true;\n",
       "          s.onload = () => {\n",
       "            VEGA_DEBUG[key] = version;\n",
       "            return resolve(paths[lib]);\n",
       "          };\n",
       "          s.onerror = () => reject(`Error loading script: ${paths[lib]}`);\n",
       "          s.src = paths[lib];\n",
       "        });\n",
       "    }\n",
       "\n",
       "    function showError(err) {\n",
       "      outputDiv.innerHTML = `<div class=\"error\" style=\"color:red;\">${err}</div>`;\n",
       "      throw err;\n",
       "    }\n",
       "\n",
       "    function displayChart(vegaEmbed) {\n",
       "      vegaEmbed(outputDiv, spec, embedOpt)\n",
       "        .catch(err => showError(`Javascript Error: ${err.message}<br>This usually means there's a typo in your chart specification. See the javascript console for the full traceback.`));\n",
       "    }\n",
       "\n",
       "    if(typeof define === \"function\" && define.amd) {\n",
       "      requirejs.config({paths});\n",
       "      require([\"vega-embed\"], displayChart, err => showError(`Error loading script: ${err.message}`));\n",
       "    } else {\n",
       "      maybeLoadScript(\"vega\", \"5\")\n",
       "        .then(() => maybeLoadScript(\"vega-lite\", \"4.17.0\"))\n",
       "        .then(() => maybeLoadScript(\"vega-embed\", \"6\"))\n",
       "        .catch(showError)\n",
       "        .then(() => displayChart(vegaEmbed));\n",
       "    }\n",
       "  })({\"config\": {\"view\": {\"continuousWidth\": 400, \"continuousHeight\": 300}, \"axis\": {\"domainColor\": \"#cbcbcb\", \"grid\": true, \"gridColor\": \"#cbcbcb\", \"gridWidth\": 1, \"labelColor\": \"#474747\", \"labelFont\": \"Nunito Sans\", \"labelFontSize\": 10, \"labelPadding\": 4, \"tickColor\": \"#cbcbcb\", \"tickSize\": 10, \"titleColor\": \"#333\", \"titleFont\": \"Raleway\", \"titleFontSize\": 12, \"titlePadding\": 10}, \"axisBand\": {\"grid\": false}, \"background\": \"white\", \"font\": \"Raleway\", \"header\": {\"labelFont\": \"Nunito Sans\", \"titleFont\": \"Raleway\"}, \"legend\": {\"labelColor\": \"#333\", \"labelFont\": \"Nunito Sans\", \"labelFontSize\": 11, \"labelLimit\": 0, \"padding\": 1, \"symbolSize\": 30, \"symbolType\": \"square\", \"titleColor\": \"#333\", \"titleFont\": \"Raleway\", \"titleFontSize\": 14, \"titlePadding\": 10}, \"title\": {\"anchor\": \"middle\", \"font\": \"Raleway\", \"fontSize\": 18, \"fontWeight\": 300, \"offset\": 20}}, \"data\": {\"name\": \"data-c5f3717055447fe8148af9f1d1ade1bd\"}, \"mark\": \"bar\", \"encoding\": {\"color\": {\"field\": \"primary_agency_name\", \"legend\": {\"symbolLimit\": 10, \"title\": \"Agency\"}, \"scale\": {\"range\": [\"#2EA8CE\", \"#EB9F3C\", \"#F4D837\", \"#51BF9D\", \"#8CBCCB\", \"#9487C0\"]}, \"type\": \"nominal\"}, \"tooltip\": [{\"field\": \"primary_agency_name\", \"type\": \"nominal\"}, {\"field\": \"adjusted_total_requested\", \"type\": \"quantitative\"}], \"x\": {\"field\": \"primary_agency_name\", \"sort\": \"-y\", \"title\": \"Agency\", \"type\": \"nominal\"}, \"y\": {\"field\": \"adjusted_total_requested\", \"title\": \"Adjusted Total Requested\", \"type\": \"quantitative\"}}, \"height\": 250, \"width\": 400, \"$schema\": \"https://vega.github.io/schema/vega-lite/v4.17.0.json\", \"datasets\": {\"data-c5f3717055447fe8148af9f1d1ade1bd\": [{\"primary_agency_name\": \"Caltrans\", \"adjusted_total_requested\": 19308706.319729827}, {\"primary_agency_name\": \"Bakersfield\", \"adjusted_total_requested\": 3267594.4735935167}, {\"primary_agency_name\": \"Golden Empire Transit District\", \"adjusted_total_requested\": 1245389.091646646}, {\"primary_agency_name\": \"Kern Regional Transit\", \"adjusted_total_requested\": 1197363.0888950778}, {\"primary_agency_name\": \"Council of Fresno County Governments\", \"adjusted_total_requested\": 908785.9144913657}, {\"primary_agency_name\": \"Woodlake\", \"adjusted_total_requested\": 713923.392417072}, {\"primary_agency_name\": \"Farmersville\", \"adjusted_total_requested\": 645912.2777016698}, {\"primary_agency_name\": \"Kern County Superintendent of Schools\", \"adjusted_total_requested\": 476057.0320497761}, {\"primary_agency_name\": \"Porterville\", \"adjusted_total_requested\": 454358.79390452895}, {\"primary_agency_name\": \"Kings County Area Public Transit Agency\", \"adjusted_total_requested\": 440145.39218638884}, {\"primary_agency_name\": \"Fresno\", \"adjusted_total_requested\": 435600.7151628189}, {\"primary_agency_name\": \"Kern County\", \"adjusted_total_requested\": 419186.697343355}, {\"primary_agency_name\": \"Fresno County\", \"adjusted_total_requested\": 410275.27784219896}, {\"primary_agency_name\": \"Visalia\", \"adjusted_total_requested\": 389994.49829880096}, {\"primary_agency_name\": \"Avenal\", \"adjusted_total_requested\": 364248.8102093138}, {\"primary_agency_name\": \"Central Unified School District\", \"adjusted_total_requested\": 345638.7072344707}, {\"primary_agency_name\": \"Dinuba\", \"adjusted_total_requested\": 296107.80179796455}, {\"primary_agency_name\": \"Fresno County Rural Transit Agency\", \"adjusted_total_requested\": 291529.0886307733}, {\"primary_agency_name\": \"Sanger\", \"adjusted_total_requested\": 288394.7535344351}, {\"primary_agency_name\": \"Coalinga\", \"adjusted_total_requested\": 288308.9077652601}, {\"primary_agency_name\": \"Exeter\", \"adjusted_total_requested\": 284527.3146255975}, {\"primary_agency_name\": \"Tulare County\", \"adjusted_total_requested\": 279815.9180430304}, {\"primary_agency_name\": \"Arvin\", \"adjusted_total_requested\": 279105.6401502471}, {\"primary_agency_name\": \"Reedley\", \"adjusted_total_requested\": 259099.10871553753}, {\"primary_agency_name\": \"Kings Canyon Unified School District\", \"adjusted_total_requested\": 225499.48008540773}, {\"primary_agency_name\": \"Clovis Unified School District\", \"adjusted_total_requested\": 225417.7926542717}, {\"primary_agency_name\": \"Fresno Unified School District\", \"adjusted_total_requested\": 208779.6916702239}, {\"primary_agency_name\": \"Delano\", \"adjusted_total_requested\": 208766.72898471917}, {\"primary_agency_name\": \"Tulare\", \"adjusted_total_requested\": 203358.10248310806}, {\"primary_agency_name\": \"Hanford\", \"adjusted_total_requested\": 201477.21346516733}]}}, {\"mode\": \"vega-lite\"});\n",
       "</script>"
      ],
      "text/plain": [
       "alt.Chart(...)"
      ]
     },
     "metadata": {},
     "output_type": "display_data"
    },
    {
     "data": {
      "text/html": [
       "<h4><strong>Lowest Average Total Funds by Agency ($2021)</strong></h4>"
      ],
      "text/plain": [
       "<IPython.core.display.HTML object>"
      ]
     },
     "metadata": {},
     "output_type": "display_data"
    },
    {
     "data": {
      "text/html": [
       "\n",
       "<div id=\"altair-viz-a90c1d1745c942e18c149dc1103cdcdc\"></div>\n",
       "<script type=\"text/javascript\">\n",
       "  var VEGA_DEBUG = (typeof VEGA_DEBUG == \"undefined\") ? {} : VEGA_DEBUG;\n",
       "  (function(spec, embedOpt){\n",
       "    let outputDiv = document.currentScript.previousElementSibling;\n",
       "    if (outputDiv.id !== \"altair-viz-a90c1d1745c942e18c149dc1103cdcdc\") {\n",
       "      outputDiv = document.getElementById(\"altair-viz-a90c1d1745c942e18c149dc1103cdcdc\");\n",
       "    }\n",
       "    const paths = {\n",
       "      \"vega\": \"https://cdn.jsdelivr.net/npm//vega@5?noext\",\n",
       "      \"vega-lib\": \"https://cdn.jsdelivr.net/npm//vega-lib?noext\",\n",
       "      \"vega-lite\": \"https://cdn.jsdelivr.net/npm//vega-lite@4.17.0?noext\",\n",
       "      \"vega-embed\": \"https://cdn.jsdelivr.net/npm//vega-embed@6?noext\",\n",
       "    };\n",
       "\n",
       "    function maybeLoadScript(lib, version) {\n",
       "      var key = `${lib.replace(\"-\", \"\")}_version`;\n",
       "      return (VEGA_DEBUG[key] == version) ?\n",
       "        Promise.resolve(paths[lib]) :\n",
       "        new Promise(function(resolve, reject) {\n",
       "          var s = document.createElement('script');\n",
       "          document.getElementsByTagName(\"head\")[0].appendChild(s);\n",
       "          s.async = true;\n",
       "          s.onload = () => {\n",
       "            VEGA_DEBUG[key] = version;\n",
       "            return resolve(paths[lib]);\n",
       "          };\n",
       "          s.onerror = () => reject(`Error loading script: ${paths[lib]}`);\n",
       "          s.src = paths[lib];\n",
       "        });\n",
       "    }\n",
       "\n",
       "    function showError(err) {\n",
       "      outputDiv.innerHTML = `<div class=\"error\" style=\"color:red;\">${err}</div>`;\n",
       "      throw err;\n",
       "    }\n",
       "\n",
       "    function displayChart(vegaEmbed) {\n",
       "      vegaEmbed(outputDiv, spec, embedOpt)\n",
       "        .catch(err => showError(`Javascript Error: ${err.message}<br>This usually means there's a typo in your chart specification. See the javascript console for the full traceback.`));\n",
       "    }\n",
       "\n",
       "    if(typeof define === \"function\" && define.amd) {\n",
       "      requirejs.config({paths});\n",
       "      require([\"vega-embed\"], displayChart, err => showError(`Error loading script: ${err.message}`));\n",
       "    } else {\n",
       "      maybeLoadScript(\"vega\", \"5\")\n",
       "        .then(() => maybeLoadScript(\"vega-lite\", \"4.17.0\"))\n",
       "        .then(() => maybeLoadScript(\"vega-embed\", \"6\"))\n",
       "        .catch(showError)\n",
       "        .then(() => displayChart(vegaEmbed));\n",
       "    }\n",
       "  })({\"config\": {\"view\": {\"continuousWidth\": 400, \"continuousHeight\": 300}, \"axis\": {\"domainColor\": \"#cbcbcb\", \"grid\": true, \"gridColor\": \"#cbcbcb\", \"gridWidth\": 1, \"labelColor\": \"#474747\", \"labelFont\": \"Nunito Sans\", \"labelFontSize\": 10, \"labelPadding\": 4, \"tickColor\": \"#cbcbcb\", \"tickSize\": 10, \"titleColor\": \"#333\", \"titleFont\": \"Raleway\", \"titleFontSize\": 12, \"titlePadding\": 10}, \"axisBand\": {\"grid\": false}, \"background\": \"white\", \"font\": \"Raleway\", \"header\": {\"labelFont\": \"Nunito Sans\", \"titleFont\": \"Raleway\"}, \"legend\": {\"labelColor\": \"#333\", \"labelFont\": \"Nunito Sans\", \"labelFontSize\": 11, \"labelLimit\": 0, \"padding\": 1, \"symbolSize\": 30, \"symbolType\": \"square\", \"titleColor\": \"#333\", \"titleFont\": \"Raleway\", \"titleFontSize\": 14, \"titlePadding\": 10}, \"title\": {\"anchor\": \"middle\", \"font\": \"Raleway\", \"fontSize\": 18, \"fontWeight\": 300, \"offset\": 20}}, \"data\": {\"name\": \"data-45f48dc086c89c09a229f7cd01350a74\"}, \"mark\": \"bar\", \"encoding\": {\"color\": {\"field\": \"primary_agency_name\", \"legend\": {\"symbolLimit\": 10, \"title\": \"Agency\"}, \"scale\": {\"range\": [\"#2EA8CE\", \"#EB9F3C\", \"#F4D837\", \"#51BF9D\", \"#8CBCCB\", \"#9487C0\"]}, \"type\": \"nominal\"}, \"tooltip\": [{\"field\": \"primary_agency_name\", \"type\": \"nominal\"}, {\"field\": \"avg_funds\", \"type\": \"quantitative\"}], \"x\": {\"field\": \"primary_agency_name\", \"sort\": \"-y\", \"title\": \"Agency\", \"type\": \"nominal\"}, \"y\": {\"field\": \"avg_funds\", \"title\": \"Avg Funds\", \"type\": \"quantitative\"}}, \"height\": 250, \"width\": 400, \"$schema\": \"https://vega.github.io/schema/vega-lite/v4.17.0.json\", \"datasets\": {\"data-45f48dc086c89c09a229f7cd01350a74\": [{\"primary_agency_name\": \"Central Unified School District\", \"avg_funds\": 345638.70723447076}, {\"primary_agency_name\": \"Dinuba\", \"avg_funds\": 296107.80179796455}, {\"primary_agency_name\": \"Fresno County Rural Transit Agency\", \"avg_funds\": 291529.0886307733}, {\"primary_agency_name\": \"Sanger\", \"avg_funds\": 288394.75353443506}, {\"primary_agency_name\": \"Coalinga\", \"avg_funds\": 288308.90776525997}, {\"primary_agency_name\": \"Exeter\", \"avg_funds\": 284527.3146255975}, {\"primary_agency_name\": \"Tulare County\", \"avg_funds\": 279815.9180430304}, {\"primary_agency_name\": \"Arvin\", \"avg_funds\": 279105.64015024714}, {\"primary_agency_name\": \"Reedley\", \"avg_funds\": 259099.10871553753}, {\"primary_agency_name\": \"Kings Canyon Unified School District\", \"avg_funds\": 225499.48008540773}, {\"primary_agency_name\": \"Clovis Unified School District\", \"avg_funds\": 225417.7926542717}, {\"primary_agency_name\": \"Fresno Unified School District\", \"avg_funds\": 208779.6916702239}, {\"primary_agency_name\": \"Delano\", \"avg_funds\": 208766.7289847191}, {\"primary_agency_name\": \"Tulare\", \"avg_funds\": 203358.1024831081}, {\"primary_agency_name\": \"Hanford\", \"avg_funds\": 201477.21346516733}, {\"primary_agency_name\": \"Selma\", \"avg_funds\": 197066.33100593882}, {\"primary_agency_name\": \"Shafter\", \"avg_funds\": 192754.48730591094}, {\"primary_agency_name\": \"Kings County\", \"avg_funds\": 182081.18078459712}, {\"primary_agency_name\": \"Chowchilla\", \"avg_funds\": 171838.89657519545}, {\"primary_agency_name\": \"Clovis\", \"avg_funds\": 168448.0494757524}, {\"primary_agency_name\": \"SouthWest Transportation Agency\", \"avg_funds\": 168268.5894475504}, {\"primary_agency_name\": \"Fowler\", \"avg_funds\": 162266.67804238317}, {\"primary_agency_name\": \"Madera County\", \"avg_funds\": 157536.47577781393}, {\"primary_agency_name\": \"Mendota\", \"avg_funds\": 142002.72411776686}, {\"primary_agency_name\": \"Lemoore\", \"avg_funds\": 137633.91496273092}, {\"primary_agency_name\": \"Mcfarland\", \"avg_funds\": 135328.50179532781}, {\"primary_agency_name\": \"Parlier\", \"avg_funds\": 133254.15436592128}, {\"primary_agency_name\": \"Wasco\", \"avg_funds\": 124511.63053830463}, {\"primary_agency_name\": \"Taft\", \"avg_funds\": 112465.53489517412}, {\"primary_agency_name\": \"Kerman\", \"avg_funds\": 109596.53198546237}, {\"primary_agency_name\": \"Madera\", \"avg_funds\": 98511.1126793691}, {\"primary_agency_name\": \"Kern County Council of Governments\", \"avg_funds\": 79832.52962301859}, {\"primary_agency_name\": \"Firebaugh\", \"avg_funds\": 75911.09500627454}, {\"primary_agency_name\": \"Huron\", \"avg_funds\": 75672.75684484855}, {\"primary_agency_name\": \"Orange Cove\", \"avg_funds\": 72031.79212176516}, {\"primary_agency_name\": \"Kingsburg\", \"avg_funds\": 52856.24716613737}, {\"primary_agency_name\": \"San Joaquin\", \"avg_funds\": 42310.21369034571}, {\"primary_agency_name\": \"Corcoran\", \"avg_funds\": 31675.617244369467}, {\"primary_agency_name\": \"Parlier Unified School District\", \"avg_funds\": 4201.85659546731}, {\"primary_agency_name\": \"Department of Water Resources\", \"avg_funds\": -87684.44320173924}]}}, {\"mode\": \"vega-lite\"});\n",
       "</script>"
      ],
      "text/plain": [
       "alt.Chart(...)"
      ]
     },
     "metadata": {},
     "output_type": "display_data"
    },
    {
     "data": {
      "text/html": [
       "<h4><strong>Average Total Requested Funds by Prefix ($2021)</strong></h4>"
      ],
      "text/plain": [
       "<IPython.core.display.HTML object>"
      ]
     },
     "metadata": {},
     "output_type": "display_data"
    },
    {
     "data": {
      "text/html": [
       "\n",
       "<div id=\"altair-viz-586216bb80e54371b79832ef970e8443\"></div>\n",
       "<script type=\"text/javascript\">\n",
       "  var VEGA_DEBUG = (typeof VEGA_DEBUG == \"undefined\") ? {} : VEGA_DEBUG;\n",
       "  (function(spec, embedOpt){\n",
       "    let outputDiv = document.currentScript.previousElementSibling;\n",
       "    if (outputDiv.id !== \"altair-viz-586216bb80e54371b79832ef970e8443\") {\n",
       "      outputDiv = document.getElementById(\"altair-viz-586216bb80e54371b79832ef970e8443\");\n",
       "    }\n",
       "    const paths = {\n",
       "      \"vega\": \"https://cdn.jsdelivr.net/npm//vega@5?noext\",\n",
       "      \"vega-lib\": \"https://cdn.jsdelivr.net/npm//vega-lib?noext\",\n",
       "      \"vega-lite\": \"https://cdn.jsdelivr.net/npm//vega-lite@4.17.0?noext\",\n",
       "      \"vega-embed\": \"https://cdn.jsdelivr.net/npm//vega-embed@6?noext\",\n",
       "    };\n",
       "\n",
       "    function maybeLoadScript(lib, version) {\n",
       "      var key = `${lib.replace(\"-\", \"\")}_version`;\n",
       "      return (VEGA_DEBUG[key] == version) ?\n",
       "        Promise.resolve(paths[lib]) :\n",
       "        new Promise(function(resolve, reject) {\n",
       "          var s = document.createElement('script');\n",
       "          document.getElementsByTagName(\"head\")[0].appendChild(s);\n",
       "          s.async = true;\n",
       "          s.onload = () => {\n",
       "            VEGA_DEBUG[key] = version;\n",
       "            return resolve(paths[lib]);\n",
       "          };\n",
       "          s.onerror = () => reject(`Error loading script: ${paths[lib]}`);\n",
       "          s.src = paths[lib];\n",
       "        });\n",
       "    }\n",
       "\n",
       "    function showError(err) {\n",
       "      outputDiv.innerHTML = `<div class=\"error\" style=\"color:red;\">${err}</div>`;\n",
       "      throw err;\n",
       "    }\n",
       "\n",
       "    function displayChart(vegaEmbed) {\n",
       "      vegaEmbed(outputDiv, spec, embedOpt)\n",
       "        .catch(err => showError(`Javascript Error: ${err.message}<br>This usually means there's a typo in your chart specification. See the javascript console for the full traceback.`));\n",
       "    }\n",
       "\n",
       "    if(typeof define === \"function\" && define.amd) {\n",
       "      requirejs.config({paths});\n",
       "      require([\"vega-embed\"], displayChart, err => showError(`Error loading script: ${err.message}`));\n",
       "    } else {\n",
       "      maybeLoadScript(\"vega\", \"5\")\n",
       "        .then(() => maybeLoadScript(\"vega-lite\", \"4.17.0\"))\n",
       "        .then(() => maybeLoadScript(\"vega-embed\", \"6\"))\n",
       "        .catch(showError)\n",
       "        .then(() => displayChart(vegaEmbed));\n",
       "    }\n",
       "  })({\"config\": {\"view\": {\"continuousWidth\": 400, \"continuousHeight\": 300}, \"axis\": {\"domainColor\": \"#cbcbcb\", \"grid\": true, \"gridColor\": \"#cbcbcb\", \"gridWidth\": 1, \"labelColor\": \"#474747\", \"labelFont\": \"Nunito Sans\", \"labelFontSize\": 10, \"labelPadding\": 4, \"tickColor\": \"#cbcbcb\", \"tickSize\": 10, \"titleColor\": \"#333\", \"titleFont\": \"Raleway\", \"titleFontSize\": 12, \"titlePadding\": 10}, \"axisBand\": {\"grid\": false}, \"background\": \"white\", \"font\": \"Raleway\", \"header\": {\"labelFont\": \"Nunito Sans\", \"titleFont\": \"Raleway\"}, \"legend\": {\"labelColor\": \"#333\", \"labelFont\": \"Nunito Sans\", \"labelFontSize\": 11, \"labelLimit\": 0, \"padding\": 1, \"symbolSize\": 30, \"symbolType\": \"square\", \"titleColor\": \"#333\", \"titleFont\": \"Raleway\", \"titleFontSize\": 14, \"titlePadding\": 10}, \"title\": {\"anchor\": \"middle\", \"font\": \"Raleway\", \"fontSize\": 18, \"fontWeight\": 300, \"offset\": 20}}, \"data\": {\"name\": \"data-deabe45b14b416e15139f5057b32121c\"}, \"mark\": \"bar\", \"encoding\": {\"color\": {\"field\": \"prefix\", \"legend\": {\"symbolLimit\": 10, \"title\": \"Prefix\"}, \"scale\": {\"range\": [\"#2EA8CE\", \"#EB9F3C\", \"#F4D837\", \"#51BF9D\", \"#8CBCCB\", \"#9487C0\"]}, \"type\": \"nominal\"}, \"tooltip\": [{\"field\": \"prefix\", \"type\": \"nominal\"}, {\"field\": \"adjusted_total_requested\", \"type\": \"quantitative\"}], \"x\": {\"field\": \"prefix\", \"sort\": \"-y\", \"title\": \"Prefix\", \"type\": \"nominal\"}, \"y\": {\"field\": \"adjusted_total_requested\", \"title\": \"Adjusted Total Requested\", \"type\": \"quantitative\"}}, \"height\": 250, \"width\": 400, \"$schema\": \"https://vega.github.io/schema/vega-lite/v4.17.0.json\", \"datasets\": {\"data-deabe45b14b416e15139f5057b32121c\": [{\"prefix\": \"BGFL\", \"adjusted_total_requested\": 59151208.37560933}, {\"prefix\": \"HP21L\", \"adjusted_total_requested\": 39240124.230500266}, {\"prefix\": \"FERPL\", \"adjusted_total_requested\": 19446845.97638971}, {\"prefix\": \"PNRSL\", \"adjusted_total_requested\": 13204114.105341025}, {\"prefix\": \"PRNSL\", \"adjusted_total_requested\": 12465758.112280505}, {\"prefix\": \"NCIIPL\", \"adjusted_total_requested\": 11572342.333132634}, {\"prefix\": \"TCSPL\", \"adjusted_total_requested\": 5862941.753884197}, {\"prefix\": \"STBHIPL\", \"adjusted_total_requested\": 5567451.967682502}, {\"prefix\": \"CMLSBCG\", \"adjusted_total_requested\": 3769127.6302174595}, {\"prefix\": \"FTACMLST\", \"adjusted_total_requested\": 2531993.772657306}, {\"prefix\": \"FTACML14\", \"adjusted_total_requested\": 2383553.750588939}, {\"prefix\": \"CMLFTA\", \"adjusted_total_requested\": 1501116.041066799}, {\"prefix\": \"HPLUL\", \"adjusted_total_requested\": 1241884.8773156046}, {\"prefix\": \"STHIPCML\", \"adjusted_total_requested\": 1145627.5564091834}, {\"prefix\": \"CMHSIPL\", \"adjusted_total_requested\": 1098245.1361047656}, {\"prefix\": \"STPLR\", \"adjusted_total_requested\": 1046027.9041640569}, {\"prefix\": \"BR\", \"adjusted_total_requested\": 1032196.4797616319}, {\"prefix\": \"RPSTPL\", \"adjusted_total_requested\": 1019470.6831659684}, {\"prefix\": \"FTACML\", \"adjusted_total_requested\": 884126.244782705}, {\"prefix\": \"HSIPLN\", \"adjusted_total_requested\": 850693.7644845598}, {\"prefix\": \"STPCML\", \"adjusted_total_requested\": 754983.8876169164}, {\"prefix\": \"6140000\", \"adjusted_total_requested\": 738983.2732041839}, {\"prefix\": \"STPHIPL\", \"adjusted_total_requested\": 675702.82664139}, {\"prefix\": \"DEMO17\", \"adjusted_total_requested\": 635591.3128000371}, {\"prefix\": \"ATPCML\", \"adjusted_total_requested\": 632240.3664139844}, {\"prefix\": \"BHLS\", \"adjusted_total_requested\": 624405.8351208738}, {\"prefix\": \"HIP\", \"adjusted_total_requested\": 590133.5025820368}, {\"prefix\": \"RSTPL\", \"adjusted_total_requested\": 543466.8210218261}, {\"prefix\": \"BPMPL\", \"adjusted_total_requested\": 447698.1631112435}, {\"prefix\": \"FTACMLNI\", \"adjusted_total_requested\": 427844.30745555105}]}}, {\"mode\": \"vega-lite\"});\n",
       "</script>"
      ],
      "text/plain": [
       "alt.Chart(...)"
      ]
     },
     "metadata": {},
     "output_type": "display_data"
    },
    {
     "data": {
      "text/html": [
       "<h2>Work Categories</h2>"
      ],
      "text/plain": [
       "<IPython.core.display.HTML object>"
      ]
     },
     "metadata": {},
     "output_type": "display_data"
    },
    {
     "data": {
      "application/vnd.jupyter.widget-view+json": {
       "model_id": "32556d3d71cb4e2fb957dec33c389dc5",
       "version_major": 2,
       "version_minor": 0
      },
      "text/plain": [
       "Tab(children=(Output(), Output(), Output(), Output(), Output(), Output(), Output()), _titles={'0': 'Active Tra…"
      ]
     },
     "metadata": {},
     "output_type": "display_data"
    }
   ],
   "source": [
    "gen_report.make_charts(district)"
   ]
  },
  {
   "cell_type": "code",
   "execution_count": null,
   "id": "9739558f-b38e-437a-91d7-c7c86383f8cf",
   "metadata": {
    "jupyter": {
     "source_hidden": true
    },
    "papermill": {
     "duration": 0.025246,
     "end_time": "2022-04-15T19:59:23.935574",
     "exception": false,
     "start_time": "2022-04-15T19:59:23.910328",
     "status": "completed"
    },
    "tags": [
     "remove_input"
    ]
   },
   "outputs": [],
   "source": []
  },
  {
   "cell_type": "code",
   "execution_count": null,
   "id": "1bbc8d31-5b93-4ccb-b369-948c58f7eaed",
   "metadata": {
    "jupyter": {
     "source_hidden": true
    },
    "papermill": {
     "duration": 0.02413,
     "end_time": "2022-04-15T19:59:23.984050",
     "exception": false,
     "start_time": "2022-04-15T19:59:23.959920",
     "status": "completed"
    },
    "tags": [
     "remove_input"
    ]
   },
   "outputs": [],
   "source": []
  },
  {
   "cell_type": "code",
   "execution_count": null,
   "id": "04fdc076-d08a-4b33-9bab-c4cadfe6aa22",
   "metadata": {
    "jupyter": {
     "source_hidden": true
    },
    "papermill": {
     "duration": 0.021965,
     "end_time": "2022-04-15T19:59:24.029738",
     "exception": false,
     "start_time": "2022-04-15T19:59:24.007773",
     "status": "completed"
    },
    "tags": [
     "remove_input"
    ]
   },
   "outputs": [],
   "source": []
  },
  {
   "cell_type": "code",
   "execution_count": null,
   "id": "1f12775e-3973-419a-995c-b96e61c4fa62",
   "metadata": {
    "jupyter": {
     "source_hidden": true
    },
    "papermill": {
     "duration": 0.022321,
     "end_time": "2022-04-15T19:59:24.075072",
     "exception": false,
     "start_time": "2022-04-15T19:59:24.052751",
     "status": "completed"
    },
    "tags": [
     "remove_input"
    ]
   },
   "outputs": [],
   "source": []
  }
 ],
 "metadata": {
  "kernelspec": {
   "display_name": "Python 3 (ipykernel)",
   "language": "python",
   "name": "python3"
  },
  "language_info": {
   "codemirror_mode": {
    "name": "ipython",
    "version": 3
   },
   "file_extension": ".py",
   "mimetype": "text/x-python",
   "name": "python",
   "nbconvert_exporter": "python",
   "pygments_lexer": "ipython3",
   "version": "3.9.10"
  },
  "papermill": {
   "default_parameters": {},
   "duration": 12.116175,
   "end_time": "2022-04-15T19:59:25.334523",
   "environment_variables": {},
   "exception": null,
   "input_path": "dla/e76_obligated_funds/report_test.ipynb",
   "output_path": "target/dla/e76_obligated_funds/report_test__district_6.ipynb",
   "parameters": {
    "district": 6
   },
   "start_time": "2022-04-15T19:59:13.218348",
   "version": "2.3.4"
  },
  "widgets": {
   "application/vnd.jupyter.widget-state+json": {
    "state": {
     "1aff8c288d2d495aa9774d53a0644f1c": {
      "model_module": "@jupyter-widgets/output",
      "model_module_version": "1.0.0",
      "model_name": "OutputModel",
      "state": {
       "_dom_classes": [],
       "_model_module": "@jupyter-widgets/output",
       "_model_module_version": "1.0.0",
       "_model_name": "OutputModel",
       "_view_count": null,
       "_view_module": "@jupyter-widgets/output",
       "_view_module_version": "1.0.0",
       "_view_name": "OutputView",
       "layout": "IPY_MODEL_34785074dd14444597dd7eb82420c82b",
       "msg_id": "",
       "outputs": [
        {
         "data": {
          "text/markdown": "<h2>Top Agencies using Congestion Relief Projects</h2>",
          "text/plain": "<IPython.core.display.Markdown object>"
         },
         "metadata": {},
         "output_type": "display_data"
        },
        {
         "data": {
          "text/html": "<style type=\"text/css\">\n</style>\n<table id=\"T_6ca3a\">\n  <thead>\n    <tr>\n      <th class=\"blank level0\" >&nbsp;</th>\n      <th id=\"T_6ca3a_level0_col0\" class=\"col_heading level0 col0\" >Agency</th>\n      <th id=\"T_6ca3a_level0_col1\" class=\"col_heading level0 col1\" >Congestion Relief Obligations</th>\n      <th id=\"T_6ca3a_level0_col2\" class=\"col_heading level0 col2\" >Percent of Category</th>\n    </tr>\n  </thead>\n  <tbody>\n    <tr>\n      <th id=\"T_6ca3a_level0_row0\" class=\"row_heading level0 row0\" >0</th>\n      <td id=\"T_6ca3a_row0_col0\" class=\"data row0 col0\" >Kern County Council of Governments</td>\n      <td id=\"T_6ca3a_row0_col1\" class=\"data row0 col1\" >20</td>\n      <td id=\"T_6ca3a_row0_col2\" class=\"data row0 col2\" >100.00%</td>\n    </tr>\n  </tbody>\n</table>\n",
          "text/plain": "<pandas.io.formats.style.Styler at 0x7f7a1d3a51c0>"
         },
         "metadata": {},
         "output_type": "display_data"
        }
       ]
      }
     },
     "2d1a2f8ec8094dbdb0c99bd68bcdca59": {
      "model_module": "@jupyter-widgets/base",
      "model_module_version": "1.2.0",
      "model_name": "LayoutModel",
      "state": {
       "_model_module": "@jupyter-widgets/base",
       "_model_module_version": "1.2.0",
       "_model_name": "LayoutModel",
       "_view_count": null,
       "_view_module": "@jupyter-widgets/base",
       "_view_module_version": "1.2.0",
       "_view_name": "LayoutView",
       "align_content": null,
       "align_items": null,
       "align_self": null,
       "border": null,
       "bottom": null,
       "display": null,
       "flex": null,
       "flex_flow": null,
       "grid_area": null,
       "grid_auto_columns": null,
       "grid_auto_flow": null,
       "grid_auto_rows": null,
       "grid_column": null,
       "grid_gap": null,
       "grid_row": null,
       "grid_template_areas": null,
       "grid_template_columns": null,
       "grid_template_rows": null,
       "height": null,
       "justify_content": null,
       "justify_items": null,
       "left": null,
       "margin": null,
       "max_height": null,
       "max_width": null,
       "min_height": null,
       "min_width": null,
       "object_fit": null,
       "object_position": null,
       "order": null,
       "overflow": null,
       "overflow_x": null,
       "overflow_y": null,
       "padding": null,
       "right": null,
       "top": null,
       "visibility": null,
       "width": null
      }
     },
     "32556d3d71cb4e2fb957dec33c389dc5": {
      "model_module": "@jupyter-widgets/controls",
      "model_module_version": "1.5.0",
      "model_name": "TabModel",
      "state": {
       "_dom_classes": [],
       "_model_module": "@jupyter-widgets/controls",
       "_model_module_version": "1.5.0",
       "_model_name": "TabModel",
       "_titles": {
        "0": "Active Transportation",
        "1": "Transit",
        "2": "Bridge",
        "3": "Street",
        "4": "Freeway",
        "5": "Infrastructure & Emergency Relief",
        "6": "Congestion Relief"
       },
       "_view_count": null,
       "_view_module": "@jupyter-widgets/controls",
       "_view_module_version": "1.5.0",
       "_view_name": "TabView",
       "box_style": "",
       "children": [
        "IPY_MODEL_c0c659f23c424e5ebe660e31b600afdf",
        "IPY_MODEL_638d88a01cc64b5cb2bdc036e9754218",
        "IPY_MODEL_3db3f3a47fc44139b7a477967715e657",
        "IPY_MODEL_7e11244cf4bc4401b60e916f289e8319",
        "IPY_MODEL_a55bf98a8cac422e87250138a0a31089",
        "IPY_MODEL_e6c7dc2226484bb1af43eff57e7003f0",
        "IPY_MODEL_1aff8c288d2d495aa9774d53a0644f1c"
       ],
       "layout": "IPY_MODEL_b2a045cd74c74d3db43863533efda9e0",
       "selected_index": 0
      }
     },
     "34785074dd14444597dd7eb82420c82b": {
      "model_module": "@jupyter-widgets/base",
      "model_module_version": "1.2.0",
      "model_name": "LayoutModel",
      "state": {
       "_model_module": "@jupyter-widgets/base",
       "_model_module_version": "1.2.0",
       "_model_name": "LayoutModel",
       "_view_count": null,
       "_view_module": "@jupyter-widgets/base",
       "_view_module_version": "1.2.0",
       "_view_name": "LayoutView",
       "align_content": null,
       "align_items": null,
       "align_self": null,
       "border": null,
       "bottom": null,
       "display": null,
       "flex": null,
       "flex_flow": null,
       "grid_area": null,
       "grid_auto_columns": null,
       "grid_auto_flow": null,
       "grid_auto_rows": null,
       "grid_column": null,
       "grid_gap": null,
       "grid_row": null,
       "grid_template_areas": null,
       "grid_template_columns": null,
       "grid_template_rows": null,
       "height": null,
       "justify_content": null,
       "justify_items": null,
       "left": null,
       "margin": null,
       "max_height": null,
       "max_width": null,
       "min_height": null,
       "min_width": null,
       "object_fit": null,
       "object_position": null,
       "order": null,
       "overflow": null,
       "overflow_x": null,
       "overflow_y": null,
       "padding": null,
       "right": null,
       "top": null,
       "visibility": null,
       "width": null
      }
     },
     "3d2ef9262fd44ad5837febcba3035faa": {
      "model_module": "@jupyter-widgets/base",
      "model_module_version": "1.2.0",
      "model_name": "LayoutModel",
      "state": {
       "_model_module": "@jupyter-widgets/base",
       "_model_module_version": "1.2.0",
       "_model_name": "LayoutModel",
       "_view_count": null,
       "_view_module": "@jupyter-widgets/base",
       "_view_module_version": "1.2.0",
       "_view_name": "LayoutView",
       "align_content": null,
       "align_items": null,
       "align_self": null,
       "border": null,
       "bottom": null,
       "display": null,
       "flex": null,
       "flex_flow": null,
       "grid_area": null,
       "grid_auto_columns": null,
       "grid_auto_flow": null,
       "grid_auto_rows": null,
       "grid_column": null,
       "grid_gap": null,
       "grid_row": null,
       "grid_template_areas": null,
       "grid_template_columns": null,
       "grid_template_rows": null,
       "height": null,
       "justify_content": null,
       "justify_items": null,
       "left": null,
       "margin": null,
       "max_height": null,
       "max_width": null,
       "min_height": null,
       "min_width": null,
       "object_fit": null,
       "object_position": null,
       "order": null,
       "overflow": null,
       "overflow_x": null,
       "overflow_y": null,
       "padding": null,
       "right": null,
       "top": null,
       "visibility": null,
       "width": null
      }
     },
     "3db3f3a47fc44139b7a477967715e657": {
      "model_module": "@jupyter-widgets/output",
      "model_module_version": "1.0.0",
      "model_name": "OutputModel",
      "state": {
       "_dom_classes": [],
       "_model_module": "@jupyter-widgets/output",
       "_model_module_version": "1.0.0",
       "_model_name": "OutputModel",
       "_view_count": null,
       "_view_module": "@jupyter-widgets/output",
       "_view_module_version": "1.0.0",
       "_view_name": "OutputView",
       "layout": "IPY_MODEL_aaf0bafa0d8646a18b6b324534f0cd89",
       "msg_id": "",
       "outputs": [
        {
         "data": {
          "text/markdown": "<h2>Top Agencies using Bridge Projects</h2>",
          "text/plain": "<IPython.core.display.Markdown object>"
         },
         "metadata": {},
         "output_type": "display_data"
        },
        {
         "data": {
          "text/html": "<style type=\"text/css\">\n</style>\n<table id=\"T_b2f37\">\n  <thead>\n    <tr>\n      <th class=\"blank level0\" >&nbsp;</th>\n      <th id=\"T_b2f37_level0_col0\" class=\"col_heading level0 col0\" >Agency</th>\n      <th id=\"T_b2f37_level0_col1\" class=\"col_heading level0 col1\" >Bridge Obligations</th>\n      <th id=\"T_b2f37_level0_col2\" class=\"col_heading level0 col2\" >Percent of Category</th>\n    </tr>\n  </thead>\n  <tbody>\n    <tr>\n      <th id=\"T_b2f37_level0_row0\" class=\"row_heading level0 row0\" >0</th>\n      <td id=\"T_b2f37_row0_col0\" class=\"data row0 col0\" >Tulare County</td>\n      <td id=\"T_b2f37_row0_col1\" class=\"data row0 col1\" >112</td>\n      <td id=\"T_b2f37_row0_col2\" class=\"data row0 col2\" >31.28%</td>\n    </tr>\n    <tr>\n      <th id=\"T_b2f37_level0_row1\" class=\"row_heading level0 row1\" >1</th>\n      <td id=\"T_b2f37_row1_col0\" class=\"data row1 col0\" >Fresno County</td>\n      <td id=\"T_b2f37_row1_col1\" class=\"data row1 col1\" >108</td>\n      <td id=\"T_b2f37_row1_col2\" class=\"data row1 col2\" >30.17%</td>\n    </tr>\n    <tr>\n      <th id=\"T_b2f37_level0_row2\" class=\"row_heading level0 row2\" >2</th>\n      <td id=\"T_b2f37_row2_col0\" class=\"data row2 col0\" >Madera County</td>\n      <td id=\"T_b2f37_row2_col1\" class=\"data row2 col1\" >43</td>\n      <td id=\"T_b2f37_row2_col2\" class=\"data row2 col2\" >12.01%</td>\n    </tr>\n    <tr>\n      <th id=\"T_b2f37_level0_row3\" class=\"row_heading level0 row3\" >3</th>\n      <td id=\"T_b2f37_row3_col0\" class=\"data row3 col0\" >Fresno</td>\n      <td id=\"T_b2f37_row3_col1\" class=\"data row3 col1\" >18</td>\n      <td id=\"T_b2f37_row3_col2\" class=\"data row3 col2\" >5.03%</td>\n    </tr>\n    <tr>\n      <th id=\"T_b2f37_level0_row4\" class=\"row_heading level0 row4\" >4</th>\n      <td id=\"T_b2f37_row4_col0\" class=\"data row4 col0\" >Kings County</td>\n      <td id=\"T_b2f37_row4_col1\" class=\"data row4 col1\" >18</td>\n      <td id=\"T_b2f37_row4_col2\" class=\"data row4 col2\" >5.03%</td>\n    </tr>\n  </tbody>\n</table>\n",
          "text/plain": "<pandas.io.formats.style.Styler at 0x7f7a1d382130>"
         },
         "metadata": {},
         "output_type": "display_data"
        }
       ]
      }
     },
     "638d88a01cc64b5cb2bdc036e9754218": {
      "model_module": "@jupyter-widgets/output",
      "model_module_version": "1.0.0",
      "model_name": "OutputModel",
      "state": {
       "_dom_classes": [],
       "_model_module": "@jupyter-widgets/output",
       "_model_module_version": "1.0.0",
       "_model_name": "OutputModel",
       "_view_count": null,
       "_view_module": "@jupyter-widgets/output",
       "_view_module_version": "1.0.0",
       "_view_name": "OutputView",
       "layout": "IPY_MODEL_2d1a2f8ec8094dbdb0c99bd68bcdca59",
       "msg_id": "",
       "outputs": [
        {
         "data": {
          "text/markdown": "<h2>Top Agencies using Transit Projects</h2>",
          "text/plain": "<IPython.core.display.Markdown object>"
         },
         "metadata": {},
         "output_type": "display_data"
        },
        {
         "data": {
          "text/html": "<style type=\"text/css\">\n</style>\n<table id=\"T_4a767\">\n  <thead>\n    <tr>\n      <th class=\"blank level0\" >&nbsp;</th>\n      <th id=\"T_4a767_level0_col0\" class=\"col_heading level0 col0\" >Agency</th>\n      <th id=\"T_4a767_level0_col1\" class=\"col_heading level0 col1\" >Transit Obligations</th>\n      <th id=\"T_4a767_level0_col2\" class=\"col_heading level0 col2\" >Percent of Category</th>\n    </tr>\n  </thead>\n  <tbody>\n    <tr>\n      <th id=\"T_4a767_level0_row0\" class=\"row_heading level0 row0\" >0</th>\n      <td id=\"T_4a767_row0_col0\" class=\"data row0 col0\" >Kingsburg</td>\n      <td id=\"T_4a767_row0_col1\" class=\"data row0 col1\" >4</td>\n      <td id=\"T_4a767_row0_col2\" class=\"data row0 col2\" >14.81%</td>\n    </tr>\n    <tr>\n      <th id=\"T_4a767_level0_row1\" class=\"row_heading level0 row1\" >1</th>\n      <td id=\"T_4a767_row1_col0\" class=\"data row1 col0\" >Visalia</td>\n      <td id=\"T_4a767_row1_col1\" class=\"data row1 col1\" >4</td>\n      <td id=\"T_4a767_row1_col2\" class=\"data row1 col2\" >14.81%</td>\n    </tr>\n    <tr>\n      <th id=\"T_4a767_level0_row2\" class=\"row_heading level0 row2\" >2</th>\n      <td id=\"T_4a767_row2_col0\" class=\"data row2 col0\" >Taft</td>\n      <td id=\"T_4a767_row2_col1\" class=\"data row2 col1\" >3</td>\n      <td id=\"T_4a767_row2_col2\" class=\"data row2 col2\" >11.11%</td>\n    </tr>\n    <tr>\n      <th id=\"T_4a767_level0_row3\" class=\"row_heading level0 row3\" >3</th>\n      <td id=\"T_4a767_row3_col0\" class=\"data row3 col0\" >Chowchilla</td>\n      <td id=\"T_4a767_row3_col1\" class=\"data row3 col1\" >2</td>\n      <td id=\"T_4a767_row3_col2\" class=\"data row3 col2\" >7.41%</td>\n    </tr>\n    <tr>\n      <th id=\"T_4a767_level0_row4\" class=\"row_heading level0 row4\" >4</th>\n      <td id=\"T_4a767_row4_col0\" class=\"data row4 col0\" >Clovis Unified School District</td>\n      <td id=\"T_4a767_row4_col1\" class=\"data row4 col1\" >2</td>\n      <td id=\"T_4a767_row4_col2\" class=\"data row4 col2\" >7.41%</td>\n    </tr>\n  </tbody>\n</table>\n",
          "text/plain": "<pandas.io.formats.style.Styler at 0x7f7a1d3824f0>"
         },
         "metadata": {},
         "output_type": "display_data"
        }
       ]
      }
     },
     "7e11244cf4bc4401b60e916f289e8319": {
      "model_module": "@jupyter-widgets/output",
      "model_module_version": "1.0.0",
      "model_name": "OutputModel",
      "state": {
       "_dom_classes": [],
       "_model_module": "@jupyter-widgets/output",
       "_model_module_version": "1.0.0",
       "_model_name": "OutputModel",
       "_view_count": null,
       "_view_module": "@jupyter-widgets/output",
       "_view_module_version": "1.0.0",
       "_view_name": "OutputView",
       "layout": "IPY_MODEL_e984c55a177a439e84b99c7de073f006",
       "msg_id": "",
       "outputs": [
        {
         "data": {
          "text/markdown": "<h2>Top Agencies using Street Projects</h2>",
          "text/plain": "<IPython.core.display.Markdown object>"
         },
         "metadata": {},
         "output_type": "display_data"
        },
        {
         "data": {
          "text/html": "<style type=\"text/css\">\n</style>\n<table id=\"T_c7c43\">\n  <thead>\n    <tr>\n      <th class=\"blank level0\" >&nbsp;</th>\n      <th id=\"T_c7c43_level0_col0\" class=\"col_heading level0 col0\" >Agency</th>\n      <th id=\"T_c7c43_level0_col1\" class=\"col_heading level0 col1\" >Street Obligations</th>\n      <th id=\"T_c7c43_level0_col2\" class=\"col_heading level0 col2\" >Percent of Category</th>\n    </tr>\n  </thead>\n  <tbody>\n    <tr>\n      <th id=\"T_c7c43_level0_row0\" class=\"row_heading level0 row0\" >0</th>\n      <td id=\"T_c7c43_row0_col0\" class=\"data row0 col0\" >Fresno</td>\n      <td id=\"T_c7c43_row0_col1\" class=\"data row0 col1\" >196</td>\n      <td id=\"T_c7c43_row0_col2\" class=\"data row0 col2\" >12.94%</td>\n    </tr>\n    <tr>\n      <th id=\"T_c7c43_level0_row1\" class=\"row_heading level0 row1\" >1</th>\n      <td id=\"T_c7c43_row1_col0\" class=\"data row1 col0\" >Kern County</td>\n      <td id=\"T_c7c43_row1_col1\" class=\"data row1 col1\" >178</td>\n      <td id=\"T_c7c43_row1_col2\" class=\"data row1 col2\" >11.75%</td>\n    </tr>\n    <tr>\n      <th id=\"T_c7c43_level0_row2\" class=\"row_heading level0 row2\" >2</th>\n      <td id=\"T_c7c43_row2_col0\" class=\"data row2 col0\" >Bakersfield</td>\n      <td id=\"T_c7c43_row2_col1\" class=\"data row2 col1\" >177</td>\n      <td id=\"T_c7c43_row2_col2\" class=\"data row2 col2\" >11.68%</td>\n    </tr>\n    <tr>\n      <th id=\"T_c7c43_level0_row3\" class=\"row_heading level0 row3\" >3</th>\n      <td id=\"T_c7c43_row3_col0\" class=\"data row3 col0\" >Clovis</td>\n      <td id=\"T_c7c43_row3_col1\" class=\"data row3 col1\" >115</td>\n      <td id=\"T_c7c43_row3_col2\" class=\"data row3 col2\" >7.59%</td>\n    </tr>\n    <tr>\n      <th id=\"T_c7c43_level0_row4\" class=\"row_heading level0 row4\" >4</th>\n      <td id=\"T_c7c43_row4_col0\" class=\"data row4 col0\" >Visalia</td>\n      <td id=\"T_c7c43_row4_col1\" class=\"data row4 col1\" >75</td>\n      <td id=\"T_c7c43_row4_col2\" class=\"data row4 col2\" >4.95%</td>\n    </tr>\n  </tbody>\n</table>\n",
          "text/plain": "<pandas.io.formats.style.Styler at 0x7f7a1d3825e0>"
         },
         "metadata": {},
         "output_type": "display_data"
        }
       ]
      }
     },
     "a55bf98a8cac422e87250138a0a31089": {
      "model_module": "@jupyter-widgets/output",
      "model_module_version": "1.0.0",
      "model_name": "OutputModel",
      "state": {
       "_dom_classes": [],
       "_model_module": "@jupyter-widgets/output",
       "_model_module_version": "1.0.0",
       "_model_name": "OutputModel",
       "_view_count": null,
       "_view_module": "@jupyter-widgets/output",
       "_view_module_version": "1.0.0",
       "_view_name": "OutputView",
       "layout": "IPY_MODEL_3d2ef9262fd44ad5837febcba3035faa",
       "msg_id": "",
       "outputs": [
        {
         "data": {
          "text/markdown": "<h2>Top Agencies using Freeway Projects</h2>",
          "text/plain": "<IPython.core.display.Markdown object>"
         },
         "metadata": {},
         "output_type": "display_data"
        },
        {
         "data": {
          "text/html": "<style type=\"text/css\">\n</style>\n<table id=\"T_1c2aa\">\n  <thead>\n    <tr>\n      <th class=\"blank level0\" >&nbsp;</th>\n      <th id=\"T_1c2aa_level0_col0\" class=\"col_heading level0 col0\" >Agency</th>\n      <th id=\"T_1c2aa_level0_col1\" class=\"col_heading level0 col1\" >Freeway Obligations</th>\n      <th id=\"T_1c2aa_level0_col2\" class=\"col_heading level0 col2\" >Percent of Category</th>\n    </tr>\n  </thead>\n  <tbody>\n    <tr>\n      <th id=\"T_1c2aa_level0_row0\" class=\"row_heading level0 row0\" >0</th>\n      <td id=\"T_1c2aa_row0_col0\" class=\"data row0 col0\" >Bakersfield</td>\n      <td id=\"T_1c2aa_row0_col1\" class=\"data row0 col1\" >13</td>\n      <td id=\"T_1c2aa_row0_col2\" class=\"data row0 col2\" >44.83%</td>\n    </tr>\n    <tr>\n      <th id=\"T_1c2aa_level0_row1\" class=\"row_heading level0 row1\" >1</th>\n      <td id=\"T_1c2aa_row1_col0\" class=\"data row1 col0\" >Kern County</td>\n      <td id=\"T_1c2aa_row1_col1\" class=\"data row1 col1\" >10</td>\n      <td id=\"T_1c2aa_row1_col2\" class=\"data row1 col2\" >34.48%</td>\n    </tr>\n    <tr>\n      <th id=\"T_1c2aa_level0_row2\" class=\"row_heading level0 row2\" >2</th>\n      <td id=\"T_1c2aa_row2_col0\" class=\"data row2 col0\" >Fowler</td>\n      <td id=\"T_1c2aa_row2_col1\" class=\"data row2 col1\" >2</td>\n      <td id=\"T_1c2aa_row2_col2\" class=\"data row2 col2\" >6.90%</td>\n    </tr>\n    <tr>\n      <th id=\"T_1c2aa_level0_row3\" class=\"row_heading level0 row3\" >3</th>\n      <td id=\"T_1c2aa_row3_col0\" class=\"data row3 col0\" >Fresno</td>\n      <td id=\"T_1c2aa_row3_col1\" class=\"data row3 col1\" >2</td>\n      <td id=\"T_1c2aa_row3_col2\" class=\"data row3 col2\" >6.90%</td>\n    </tr>\n    <tr>\n      <th id=\"T_1c2aa_level0_row4\" class=\"row_heading level0 row4\" >4</th>\n      <td id=\"T_1c2aa_row4_col0\" class=\"data row4 col0\" >Mendota</td>\n      <td id=\"T_1c2aa_row4_col1\" class=\"data row4 col1\" >2</td>\n      <td id=\"T_1c2aa_row4_col2\" class=\"data row4 col2\" >6.90%</td>\n    </tr>\n  </tbody>\n</table>\n",
          "text/plain": "<pandas.io.formats.style.Styler at 0x7f7a1cb4fd60>"
         },
         "metadata": {},
         "output_type": "display_data"
        }
       ]
      }
     },
     "a7ee1b90306a41edaba70b9ac22e869b": {
      "model_module": "@jupyter-widgets/base",
      "model_module_version": "1.2.0",
      "model_name": "LayoutModel",
      "state": {
       "_model_module": "@jupyter-widgets/base",
       "_model_module_version": "1.2.0",
       "_model_name": "LayoutModel",
       "_view_count": null,
       "_view_module": "@jupyter-widgets/base",
       "_view_module_version": "1.2.0",
       "_view_name": "LayoutView",
       "align_content": null,
       "align_items": null,
       "align_self": null,
       "border": null,
       "bottom": null,
       "display": null,
       "flex": null,
       "flex_flow": null,
       "grid_area": null,
       "grid_auto_columns": null,
       "grid_auto_flow": null,
       "grid_auto_rows": null,
       "grid_column": null,
       "grid_gap": null,
       "grid_row": null,
       "grid_template_areas": null,
       "grid_template_columns": null,
       "grid_template_rows": null,
       "height": null,
       "justify_content": null,
       "justify_items": null,
       "left": null,
       "margin": null,
       "max_height": null,
       "max_width": null,
       "min_height": null,
       "min_width": null,
       "object_fit": null,
       "object_position": null,
       "order": null,
       "overflow": null,
       "overflow_x": null,
       "overflow_y": null,
       "padding": null,
       "right": null,
       "top": null,
       "visibility": null,
       "width": null
      }
     },
     "aaf0bafa0d8646a18b6b324534f0cd89": {
      "model_module": "@jupyter-widgets/base",
      "model_module_version": "1.2.0",
      "model_name": "LayoutModel",
      "state": {
       "_model_module": "@jupyter-widgets/base",
       "_model_module_version": "1.2.0",
       "_model_name": "LayoutModel",
       "_view_count": null,
       "_view_module": "@jupyter-widgets/base",
       "_view_module_version": "1.2.0",
       "_view_name": "LayoutView",
       "align_content": null,
       "align_items": null,
       "align_self": null,
       "border": null,
       "bottom": null,
       "display": null,
       "flex": null,
       "flex_flow": null,
       "grid_area": null,
       "grid_auto_columns": null,
       "grid_auto_flow": null,
       "grid_auto_rows": null,
       "grid_column": null,
       "grid_gap": null,
       "grid_row": null,
       "grid_template_areas": null,
       "grid_template_columns": null,
       "grid_template_rows": null,
       "height": null,
       "justify_content": null,
       "justify_items": null,
       "left": null,
       "margin": null,
       "max_height": null,
       "max_width": null,
       "min_height": null,
       "min_width": null,
       "object_fit": null,
       "object_position": null,
       "order": null,
       "overflow": null,
       "overflow_x": null,
       "overflow_y": null,
       "padding": null,
       "right": null,
       "top": null,
       "visibility": null,
       "width": null
      }
     },
     "b2a045cd74c74d3db43863533efda9e0": {
      "model_module": "@jupyter-widgets/base",
      "model_module_version": "1.2.0",
      "model_name": "LayoutModel",
      "state": {
       "_model_module": "@jupyter-widgets/base",
       "_model_module_version": "1.2.0",
       "_model_name": "LayoutModel",
       "_view_count": null,
       "_view_module": "@jupyter-widgets/base",
       "_view_module_version": "1.2.0",
       "_view_name": "LayoutView",
       "align_content": null,
       "align_items": null,
       "align_self": null,
       "border": null,
       "bottom": null,
       "display": null,
       "flex": null,
       "flex_flow": null,
       "grid_area": null,
       "grid_auto_columns": null,
       "grid_auto_flow": null,
       "grid_auto_rows": null,
       "grid_column": null,
       "grid_gap": null,
       "grid_row": null,
       "grid_template_areas": null,
       "grid_template_columns": null,
       "grid_template_rows": null,
       "height": null,
       "justify_content": null,
       "justify_items": null,
       "left": null,
       "margin": null,
       "max_height": null,
       "max_width": null,
       "min_height": null,
       "min_width": null,
       "object_fit": null,
       "object_position": null,
       "order": null,
       "overflow": null,
       "overflow_x": null,
       "overflow_y": null,
       "padding": null,
       "right": null,
       "top": null,
       "visibility": null,
       "width": null
      }
     },
     "c0c659f23c424e5ebe660e31b600afdf": {
      "model_module": "@jupyter-widgets/output",
      "model_module_version": "1.0.0",
      "model_name": "OutputModel",
      "state": {
       "_dom_classes": [],
       "_model_module": "@jupyter-widgets/output",
       "_model_module_version": "1.0.0",
       "_model_name": "OutputModel",
       "_view_count": null,
       "_view_module": "@jupyter-widgets/output",
       "_view_module_version": "1.0.0",
       "_view_name": "OutputView",
       "layout": "IPY_MODEL_a7ee1b90306a41edaba70b9ac22e869b",
       "msg_id": "",
       "outputs": [
        {
         "data": {
          "text/markdown": "<h2>Top Agencies using Active Transportation Projects</h2>",
          "text/plain": "<IPython.core.display.Markdown object>"
         },
         "metadata": {},
         "output_type": "display_data"
        },
        {
         "data": {
          "text/html": "<style type=\"text/css\">\n</style>\n<table id=\"T_22315\">\n  <thead>\n    <tr>\n      <th class=\"blank level0\" >&nbsp;</th>\n      <th id=\"T_22315_level0_col0\" class=\"col_heading level0 col0\" >Agency</th>\n      <th id=\"T_22315_level0_col1\" class=\"col_heading level0 col1\" >Active Transportation Obligations</th>\n      <th id=\"T_22315_level0_col2\" class=\"col_heading level0 col2\" >Percent of Category</th>\n    </tr>\n  </thead>\n  <tbody>\n    <tr>\n      <th id=\"T_22315_level0_row0\" class=\"row_heading level0 row0\" >0</th>\n      <td id=\"T_22315_row0_col0\" class=\"data row0 col0\" >Fresno</td>\n      <td id=\"T_22315_row0_col1\" class=\"data row0 col1\" >94</td>\n      <td id=\"T_22315_row0_col2\" class=\"data row0 col2\" >12.97%</td>\n    </tr>\n    <tr>\n      <th id=\"T_22315_level0_row1\" class=\"row_heading level0 row1\" >1</th>\n      <td id=\"T_22315_row1_col0\" class=\"data row1 col0\" >Kern County</td>\n      <td id=\"T_22315_row1_col1\" class=\"data row1 col1\" >54</td>\n      <td id=\"T_22315_row1_col2\" class=\"data row1 col2\" >7.45%</td>\n    </tr>\n    <tr>\n      <th id=\"T_22315_level0_row2\" class=\"row_heading level0 row2\" >2</th>\n      <td id=\"T_22315_row2_col0\" class=\"data row2 col0\" >Visalia</td>\n      <td id=\"T_22315_row2_col1\" class=\"data row2 col1\" >50</td>\n      <td id=\"T_22315_row2_col2\" class=\"data row2 col2\" >6.90%</td>\n    </tr>\n    <tr>\n      <th id=\"T_22315_level0_row3\" class=\"row_heading level0 row3\" >3</th>\n      <td id=\"T_22315_row3_col0\" class=\"data row3 col0\" >Clovis</td>\n      <td id=\"T_22315_row3_col1\" class=\"data row3 col1\" >39</td>\n      <td id=\"T_22315_row3_col2\" class=\"data row3 col2\" >5.38%</td>\n    </tr>\n    <tr>\n      <th id=\"T_22315_level0_row4\" class=\"row_heading level0 row4\" >4</th>\n      <td id=\"T_22315_row4_col0\" class=\"data row4 col0\" >Sanger</td>\n      <td id=\"T_22315_row4_col1\" class=\"data row4 col1\" >33</td>\n      <td id=\"T_22315_row4_col2\" class=\"data row4 col2\" >4.55%</td>\n    </tr>\n  </tbody>\n</table>\n",
          "text/plain": "<pandas.io.formats.style.Styler at 0x7f7a1d393f10>"
         },
         "metadata": {},
         "output_type": "display_data"
        }
       ]
      }
     },
     "d949b0cde7cf4ad8a16df6c0f526a8f1": {
      "model_module": "@jupyter-widgets/base",
      "model_module_version": "1.2.0",
      "model_name": "LayoutModel",
      "state": {
       "_model_module": "@jupyter-widgets/base",
       "_model_module_version": "1.2.0",
       "_model_name": "LayoutModel",
       "_view_count": null,
       "_view_module": "@jupyter-widgets/base",
       "_view_module_version": "1.2.0",
       "_view_name": "LayoutView",
       "align_content": null,
       "align_items": null,
       "align_self": null,
       "border": null,
       "bottom": null,
       "display": null,
       "flex": null,
       "flex_flow": null,
       "grid_area": null,
       "grid_auto_columns": null,
       "grid_auto_flow": null,
       "grid_auto_rows": null,
       "grid_column": null,
       "grid_gap": null,
       "grid_row": null,
       "grid_template_areas": null,
       "grid_template_columns": null,
       "grid_template_rows": null,
       "height": null,
       "justify_content": null,
       "justify_items": null,
       "left": null,
       "margin": null,
       "max_height": null,
       "max_width": null,
       "min_height": null,
       "min_width": null,
       "object_fit": null,
       "object_position": null,
       "order": null,
       "overflow": null,
       "overflow_x": null,
       "overflow_y": null,
       "padding": null,
       "right": null,
       "top": null,
       "visibility": null,
       "width": null
      }
     },
     "e6c7dc2226484bb1af43eff57e7003f0": {
      "model_module": "@jupyter-widgets/output",
      "model_module_version": "1.0.0",
      "model_name": "OutputModel",
      "state": {
       "_dom_classes": [],
       "_model_module": "@jupyter-widgets/output",
       "_model_module_version": "1.0.0",
       "_model_name": "OutputModel",
       "_view_count": null,
       "_view_module": "@jupyter-widgets/output",
       "_view_module_version": "1.0.0",
       "_view_name": "OutputView",
       "layout": "IPY_MODEL_d949b0cde7cf4ad8a16df6c0f526a8f1",
       "msg_id": "",
       "outputs": [
        {
         "data": {
          "text/markdown": "<h2>Top Agencies using Infrastructure & Emergency Relief Projects</h2>",
          "text/plain": "<IPython.core.display.Markdown object>"
         },
         "metadata": {},
         "output_type": "display_data"
        },
        {
         "data": {
          "text/html": "<style type=\"text/css\">\n</style>\n<table id=\"T_c83d1\">\n  <thead>\n    <tr>\n      <th class=\"blank level0\" >&nbsp;</th>\n      <th id=\"T_c83d1_level0_col0\" class=\"col_heading level0 col0\" >Agency</th>\n      <th id=\"T_c83d1_level0_col1\" class=\"col_heading level0 col1\" >Infrastructure & Emergency Relief Obligations</th>\n      <th id=\"T_c83d1_level0_col2\" class=\"col_heading level0 col2\" >Percent of Category</th>\n    </tr>\n  </thead>\n  <tbody>\n    <tr>\n      <th id=\"T_c83d1_level0_row0\" class=\"row_heading level0 row0\" >0</th>\n      <td id=\"T_c83d1_row0_col0\" class=\"data row0 col0\" >Fresno</td>\n      <td id=\"T_c83d1_row0_col1\" class=\"data row0 col1\" >212</td>\n      <td id=\"T_c83d1_row0_col2\" class=\"data row0 col2\" >11.64%</td>\n    </tr>\n    <tr>\n      <th id=\"T_c83d1_level0_row1\" class=\"row_heading level0 row1\" >1</th>\n      <td id=\"T_c83d1_row1_col0\" class=\"data row1 col0\" >Fresno County</td>\n      <td id=\"T_c83d1_row1_col1\" class=\"data row1 col1\" >206</td>\n      <td id=\"T_c83d1_row1_col2\" class=\"data row1 col2\" >11.31%</td>\n    </tr>\n    <tr>\n      <th id=\"T_c83d1_level0_row2\" class=\"row_heading level0 row2\" >2</th>\n      <td id=\"T_c83d1_row2_col0\" class=\"data row2 col0\" >Kern County</td>\n      <td id=\"T_c83d1_row2_col1\" class=\"data row2 col1\" >199</td>\n      <td id=\"T_c83d1_row2_col2\" class=\"data row2 col2\" >10.92%</td>\n    </tr>\n    <tr>\n      <th id=\"T_c83d1_level0_row3\" class=\"row_heading level0 row3\" >3</th>\n      <td id=\"T_c83d1_row3_col0\" class=\"data row3 col0\" >Bakersfield</td>\n      <td id=\"T_c83d1_row3_col1\" class=\"data row3 col1\" >179</td>\n      <td id=\"T_c83d1_row3_col2\" class=\"data row3 col2\" >9.82%</td>\n    </tr>\n    <tr>\n      <th id=\"T_c83d1_level0_row4\" class=\"row_heading level0 row4\" >4</th>\n      <td id=\"T_c83d1_row4_col0\" class=\"data row4 col0\" >Tulare County</td>\n      <td id=\"T_c83d1_row4_col1\" class=\"data row4 col1\" >151</td>\n      <td id=\"T_c83d1_row4_col2\" class=\"data row4 col2\" >8.29%</td>\n    </tr>\n  </tbody>\n</table>\n",
          "text/plain": "<pandas.io.formats.style.Styler at 0x7f7a1d3a5550>"
         },
         "metadata": {},
         "output_type": "display_data"
        }
       ]
      }
     },
     "e984c55a177a439e84b99c7de073f006": {
      "model_module": "@jupyter-widgets/base",
      "model_module_version": "1.2.0",
      "model_name": "LayoutModel",
      "state": {
       "_model_module": "@jupyter-widgets/base",
       "_model_module_version": "1.2.0",
       "_model_name": "LayoutModel",
       "_view_count": null,
       "_view_module": "@jupyter-widgets/base",
       "_view_module_version": "1.2.0",
       "_view_name": "LayoutView",
       "align_content": null,
       "align_items": null,
       "align_self": null,
       "border": null,
       "bottom": null,
       "display": null,
       "flex": null,
       "flex_flow": null,
       "grid_area": null,
       "grid_auto_columns": null,
       "grid_auto_flow": null,
       "grid_auto_rows": null,
       "grid_column": null,
       "grid_gap": null,
       "grid_row": null,
       "grid_template_areas": null,
       "grid_template_columns": null,
       "grid_template_rows": null,
       "height": null,
       "justify_content": null,
       "justify_items": null,
       "left": null,
       "margin": null,
       "max_height": null,
       "max_width": null,
       "min_height": null,
       "min_width": null,
       "object_fit": null,
       "object_position": null,
       "order": null,
       "overflow": null,
       "overflow_x": null,
       "overflow_y": null,
       "padding": null,
       "right": null,
       "top": null,
       "visibility": null,
       "width": null
      }
     }
    },
    "version_major": 2,
    "version_minor": 0
   }
  }
 },
 "nbformat": 4,
 "nbformat_minor": 5
}