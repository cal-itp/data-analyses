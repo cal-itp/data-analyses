{
 "cells": [
  {
   "cell_type": "markdown",
   "id": "4116dd94-0f31-4995-8c3b-b1781e6366a5",
   "metadata": {
    "papermill": {
     "duration": 0.009148,
     "end_time": "2022-04-19T20:21:51.156978",
     "exception": false,
     "start_time": "2022-04-19T20:21:51.147830",
     "status": "completed"
    },
    "tags": []
   },
   "source": [
    "# District 4 Analysis"
   ]
  },
  {
   "cell_type": "code",
   "execution_count": 1,
   "id": "1ecf83bf-a9a9-4e6b-98b6-b0b0400a12e1",
   "metadata": {
    "execution": {
     "iopub.execute_input": "2022-04-19T20:21:51.174207Z",
     "iopub.status.busy": "2022-04-19T20:21:51.173487Z",
     "iopub.status.idle": "2022-04-19T20:22:18.325579Z",
     "shell.execute_reply": "2022-04-19T20:22:18.324486Z"
    },
    "jupyter": {
     "source_hidden": true
    },
    "papermill": {
     "duration": 27.16303,
     "end_time": "2022-04-19T20:22:18.328049",
     "exception": false,
     "start_time": "2022-04-19T20:21:51.165019",
     "status": "completed"
    },
    "tags": [
     "remove_input"
    ]
   },
   "outputs": [
    {
     "name": "stderr",
     "output_type": "stream",
     "text": [
      "E0419 20:22:01.680390427    1100 fork_posix.cc:70]           Fork support is only compatible with the epoll1 and poll polling strategies\n"
     ]
    },
    {
     "name": "stderr",
     "output_type": "stream",
     "text": [
      "E0419 20:22:17.191398407    1100 fork_posix.cc:70]           Fork support is only compatible with the epoll1 and poll polling strategies\n"
     ]
    }
   ],
   "source": [
    "%%capture\n",
    "\n",
    "# import warnings\n",
    "\n",
    "# warnings.filterwarnings(\"ignore\")\n",
    "\n",
    "\n",
    "import _dla_utils, gen_report\n",
    "\n",
    "#alt.themes.register(\"calitp_theme\", styleguide.calitp_theme)\n",
    "# enable\n",
    "#alt.themes.enable(\"calitp_theme\")\n",
    "import altair as alt\n",
    "alt.renderers.enable('html')"
   ]
  },
  {
   "cell_type": "code",
   "execution_count": 2,
   "id": "69d78638-5ca9-49e5-a909-e282c83aeed1",
   "metadata": {
    "execution": {
     "iopub.execute_input": "2022-04-19T20:22:18.345454Z",
     "iopub.status.busy": "2022-04-19T20:22:18.344390Z",
     "iopub.status.idle": "2022-04-19T20:22:18.407894Z",
     "shell.execute_reply": "2022-04-19T20:22:18.406967Z"
    },
    "jupyter": {
     "source_hidden": true
    },
    "papermill": {
     "duration": 0.074673,
     "end_time": "2022-04-19T20:22:18.410945",
     "exception": false,
     "start_time": "2022-04-19T20:22:18.336272",
     "status": "completed"
    },
    "tags": [
     "remove_input"
    ]
   },
   "outputs": [],
   "source": [
    "import pandas as pd\n",
    "from siuba import *\n",
    "df = pd.read_parquet('dla_df.parquet')"
   ]
  },
  {
   "cell_type": "code",
   "execution_count": 3,
   "id": "92c97609-fba1-470b-8257-8a7533ed0df2",
   "metadata": {
    "execution": {
     "iopub.execute_input": "2022-04-19T20:22:18.439058Z",
     "iopub.status.busy": "2022-04-19T20:22:18.438759Z",
     "iopub.status.idle": "2022-04-19T20:22:18.444463Z",
     "shell.execute_reply": "2022-04-19T20:22:18.443406Z"
    },
    "jupyter": {
     "source_hidden": true
    },
    "papermill": {
     "duration": 0.02966,
     "end_time": "2022-04-19T20:22:18.446648",
     "exception": false,
     "start_time": "2022-04-19T20:22:18.416988",
     "status": "completed"
    },
    "tags": [
     "parameters",
     "remove_input"
    ]
   },
   "outputs": [],
   "source": [
    "#Parameter Cell\n",
    "\n",
    "district = 4"
   ]
  },
  {
   "cell_type": "code",
   "execution_count": 4,
   "id": "411f5e69",
   "metadata": {
    "execution": {
     "iopub.execute_input": "2022-04-19T20:22:18.462232Z",
     "iopub.status.busy": "2022-04-19T20:22:18.461942Z",
     "iopub.status.idle": "2022-04-19T20:22:18.465959Z",
     "shell.execute_reply": "2022-04-19T20:22:18.465116Z"
    },
    "jupyter": {
     "source_hidden": true
    },
    "papermill": {
     "duration": 0.013976,
     "end_time": "2022-04-19T20:22:18.467916",
     "exception": false,
     "start_time": "2022-04-19T20:22:18.453940",
     "status": "completed"
    },
    "tags": [
     "injected-parameters",
     "remove_input"
    ]
   },
   "outputs": [],
   "source": [
    "# Parameters\n",
    "district = 4\n"
   ]
  },
  {
   "cell_type": "code",
   "execution_count": 5,
   "id": "f32731e6-fe81-4f58-8128-9cdcac97542d",
   "metadata": {
    "execution": {
     "iopub.execute_input": "2022-04-19T20:22:18.577253Z",
     "iopub.status.busy": "2022-04-19T20:22:18.576944Z",
     "iopub.status.idle": "2022-04-19T20:22:18.581070Z",
     "shell.execute_reply": "2022-04-19T20:22:18.580167Z"
    },
    "jupyter": {
     "source_hidden": true
    },
    "papermill": {
     "duration": 0.013945,
     "end_time": "2022-04-19T20:22:18.583014",
     "exception": false,
     "start_time": "2022-04-19T20:22:18.569069",
     "status": "completed"
    },
    "tags": [
     "remove_input"
    ]
   },
   "outputs": [],
   "source": [
    "#display(HTML(f\"<title> District {district} Analysis </title>\"))"
   ]
  },
  {
   "cell_type": "code",
   "execution_count": 6,
   "id": "67694733-715a-4846-89c1-b9fe393fb8a6",
   "metadata": {
    "execution": {
     "iopub.execute_input": "2022-04-19T20:22:18.600027Z",
     "iopub.status.busy": "2022-04-19T20:22:18.599710Z",
     "iopub.status.idle": "2022-04-19T20:22:20.591609Z",
     "shell.execute_reply": "2022-04-19T20:22:20.590718Z"
    },
    "jupyter": {
     "source_hidden": true
    },
    "papermill": {
     "duration": 2.00429,
     "end_time": "2022-04-19T20:22:20.594819",
     "exception": false,
     "start_time": "2022-04-19T20:22:18.590529",
     "status": "completed"
    },
    "scrolled": true,
    "tags": [
     "remove_input"
    ]
   },
   "outputs": [
    {
     "data": {
      "text/html": [
       "<h1><strong>District 4 Analysis</strong></h1>"
      ],
      "text/plain": [
       "<IPython.core.display.HTML object>"
      ]
     },
     "metadata": {},
     "output_type": "display_data"
    },
    {
     "data": {
      "text/html": [
       "<h2>Quick Stats</h2>"
      ],
      "text/plain": [
       "<IPython.core.display.HTML object>"
      ]
     },
     "metadata": {},
     "output_type": "display_data"
    },
    {
     "data": {
      "text/html": [
       "There are <strong>151 Unique Agencies</strong>"
      ],
      "text/plain": [
       "<IPython.core.display.HTML object>"
      ]
     },
     "metadata": {},
     "output_type": "display_data"
    },
    {
     "data": {
      "text/html": [
       "Out of <strong>3420</strong> obligations, <strong>63 are transit-related</strong>."
      ],
      "text/plain": [
       "<IPython.core.display.HTML object>"
      ]
     },
     "metadata": {},
     "output_type": "display_data"
    },
    {
     "data": {
      "text/html": [
       "<strong>Metropolitan Transportation Commission</strong> has the <strong>highest transit</strong> obligations"
      ],
      "text/plain": [
       "<IPython.core.display.HTML object>"
      ]
     },
     "metadata": {},
     "output_type": "display_data"
    },
    {
     "data": {
      "text/html": [
       "There are <strong>8 agencies have over 93.00</strong> obligations (95th percentile) since 2011.0"
      ],
      "text/plain": [
       "<IPython.core.display.HTML object>"
      ]
     },
     "metadata": {},
     "output_type": "display_data"
    },
    {
     "data": {
      "text/html": [
       "There are <strong>9 agencies have less than 2.00</strong> obligations (5th percentile) since 2011.0"
      ],
      "text/plain": [
       "<IPython.core.display.HTML object>"
      ]
     },
     "metadata": {},
     "output_type": "display_data"
    },
    {
     "data": {
      "text/html": [
       "<strong>Number of Unique Prefix Codes by Agency</stromg>"
      ],
      "text/plain": [
       "<IPython.core.display.HTML object>"
      ]
     },
     "metadata": {},
     "output_type": "display_data"
    },
    {
     "data": {
      "text/html": [
       "<div>\n",
       "<style scoped>\n",
       "    .dataframe tbody tr th:only-of-type {\n",
       "        vertical-align: middle;\n",
       "    }\n",
       "\n",
       "    .dataframe tbody tr th {\n",
       "        vertical-align: top;\n",
       "    }\n",
       "\n",
       "    .dataframe thead th {\n",
       "        text-align: right;\n",
       "    }\n",
       "</style>\n",
       "<table border=\"1\" class=\"dataframe\">\n",
       "  <thead>\n",
       "    <tr style=\"text-align: right;\">\n",
       "      <th></th>\n",
       "      <th>Agency</th>\n",
       "      <th>Number of Unqiue Prefix Codes</th>\n",
       "    </tr>\n",
       "  </thead>\n",
       "  <tbody>\n",
       "    <tr>\n",
       "      <th>28</th>\n",
       "      <td>Contra Costa County</td>\n",
       "      <td>18</td>\n",
       "    </tr>\n",
       "    <tr>\n",
       "      <th>107</th>\n",
       "      <td>San Francisco County</td>\n",
       "      <td>17</td>\n",
       "    </tr>\n",
       "    <tr>\n",
       "      <th>110</th>\n",
       "      <td>San Jose</td>\n",
       "      <td>17</td>\n",
       "    </tr>\n",
       "    <tr>\n",
       "      <th>119</th>\n",
       "      <td>Santa Clara County</td>\n",
       "      <td>17</td>\n",
       "    </tr>\n",
       "    <tr>\n",
       "      <th>2</th>\n",
       "      <td>Alameda County</td>\n",
       "      <td>16</td>\n",
       "    </tr>\n",
       "  </tbody>\n",
       "</table>\n",
       "</div>"
      ],
      "text/plain": [
       "                   Agency  Number of Unqiue Prefix Codes\n",
       "28    Contra Costa County                             18\n",
       "107  San Francisco County                             17\n",
       "110              San Jose                             17\n",
       "119    Santa Clara County                             17\n",
       "2          Alameda County                             16"
      ]
     },
     "metadata": {},
     "output_type": "display_data"
    },
    {
     "data": {
      "text/html": [
       "<strong>Number of Unique Agencies by Prefix Codes</strong>"
      ],
      "text/plain": [
       "<IPython.core.display.HTML object>"
      ]
     },
     "metadata": {},
     "output_type": "display_data"
    },
    {
     "data": {
      "text/html": [
       "<div>\n",
       "<style scoped>\n",
       "    .dataframe tbody tr th:only-of-type {\n",
       "        vertical-align: middle;\n",
       "    }\n",
       "\n",
       "    .dataframe tbody tr th {\n",
       "        vertical-align: top;\n",
       "    }\n",
       "\n",
       "    .dataframe thead th {\n",
       "        text-align: right;\n",
       "    }\n",
       "</style>\n",
       "<table border=\"1\" class=\"dataframe\">\n",
       "  <thead>\n",
       "    <tr style=\"text-align: right;\">\n",
       "      <th></th>\n",
       "      <th>Prefix</th>\n",
       "      <th>Number of Unqiue Agencies</th>\n",
       "    </tr>\n",
       "  </thead>\n",
       "  <tbody>\n",
       "    <tr>\n",
       "      <th>91</th>\n",
       "      <td>STPL</td>\n",
       "      <td>112</td>\n",
       "    </tr>\n",
       "    <tr>\n",
       "      <th>19</th>\n",
       "      <td>CML</td>\n",
       "      <td>90</td>\n",
       "    </tr>\n",
       "    <tr>\n",
       "      <th>62</th>\n",
       "      <td>HSIPL</td>\n",
       "      <td>52</td>\n",
       "    </tr>\n",
       "    <tr>\n",
       "      <th>16</th>\n",
       "      <td>BRLS</td>\n",
       "      <td>32</td>\n",
       "    </tr>\n",
       "    <tr>\n",
       "      <th>75</th>\n",
       "      <td>RPSTPL</td>\n",
       "      <td>30</td>\n",
       "    </tr>\n",
       "  </tbody>\n",
       "</table>\n",
       "</div>"
      ],
      "text/plain": [
       "    Prefix  Number of Unqiue Agencies\n",
       "91    STPL                        112\n",
       "19     CML                         90\n",
       "62   HSIPL                         52\n",
       "16    BRLS                         32\n",
       "75  RPSTPL                         30"
      ]
     },
     "metadata": {},
     "output_type": "display_data"
    },
    {
     "data": {
      "text/html": [
       "<strong>Top 5 Types of Work</strong>"
      ],
      "text/plain": [
       "<IPython.core.display.HTML object>"
      ]
     },
     "metadata": {},
     "output_type": "display_data"
    },
    {
     "data": {
      "text/html": [
       "<div>\n",
       "<style scoped>\n",
       "    .dataframe tbody tr th:only-of-type {\n",
       "        vertical-align: middle;\n",
       "    }\n",
       "\n",
       "    .dataframe tbody tr th {\n",
       "        vertical-align: top;\n",
       "    }\n",
       "\n",
       "    .dataframe thead th {\n",
       "        text-align: right;\n",
       "    }\n",
       "</style>\n",
       "<table border=\"1\" class=\"dataframe\">\n",
       "  <thead>\n",
       "    <tr style=\"text-align: right;\">\n",
       "      <th></th>\n",
       "      <th>Type of Work</th>\n",
       "    </tr>\n",
       "  </thead>\n",
       "  <tbody>\n",
       "    <tr>\n",
       "      <th>6</th>\n",
       "      <td>Construct Pedestrian Safety And Transit Access</td>\n",
       "    </tr>\n",
       "    <tr>\n",
       "      <th>14</th>\n",
       "      <td>Implement Bike, Pedestrian, And Transit Access...</td>\n",
       "    </tr>\n",
       "    <tr>\n",
       "      <th>28</th>\n",
       "      <td>Ped. Crossing, Bike Racks, Bus Shelter</td>\n",
       "    </tr>\n",
       "    <tr>\n",
       "      <th>4</th>\n",
       "      <td>Clipper Fare Collection System Phase 3 (tc)</td>\n",
       "    </tr>\n",
       "    <tr>\n",
       "      <th>7</th>\n",
       "      <td>Construction Of Transit Center Depot Building</td>\n",
       "    </tr>\n",
       "  </tbody>\n",
       "</table>\n",
       "</div>"
      ],
      "text/plain": [
       "                                         Type of Work\n",
       "6      Construct Pedestrian Safety And Transit Access\n",
       "14  Implement Bike, Pedestrian, And Transit Access...\n",
       "28             Ped. Crossing, Bike Racks, Bus Shelter\n",
       "4         Clipper Fare Collection System Phase 3 (tc)\n",
       "7       Construction Of Transit Center Depot Building"
      ]
     },
     "metadata": {},
     "output_type": "display_data"
    },
    {
     "data": {
      "text/html": [
       "<h2>Number of Obligations</h2"
      ],
      "text/plain": [
       "<IPython.core.display.HTML object>"
      ]
     },
     "metadata": {},
     "output_type": "display_data"
    },
    {
     "data": {
      "text/html": [
       "\n",
       "<div id=\"altair-viz-b780ba1a48b74765bd8249e8821800c9\"></div>\n",
       "<script type=\"text/javascript\">\n",
       "  var VEGA_DEBUG = (typeof VEGA_DEBUG == \"undefined\") ? {} : VEGA_DEBUG;\n",
       "  (function(spec, embedOpt){\n",
       "    let outputDiv = document.currentScript.previousElementSibling;\n",
       "    if (outputDiv.id !== \"altair-viz-b780ba1a48b74765bd8249e8821800c9\") {\n",
       "      outputDiv = document.getElementById(\"altair-viz-b780ba1a48b74765bd8249e8821800c9\");\n",
       "    }\n",
       "    const paths = {\n",
       "      \"vega\": \"https://cdn.jsdelivr.net/npm//vega@5?noext\",\n",
       "      \"vega-lib\": \"https://cdn.jsdelivr.net/npm//vega-lib?noext\",\n",
       "      \"vega-lite\": \"https://cdn.jsdelivr.net/npm//vega-lite@4.17.0?noext\",\n",
       "      \"vega-embed\": \"https://cdn.jsdelivr.net/npm//vega-embed@6?noext\",\n",
       "    };\n",
       "\n",
       "    function maybeLoadScript(lib, version) {\n",
       "      var key = `${lib.replace(\"-\", \"\")}_version`;\n",
       "      return (VEGA_DEBUG[key] == version) ?\n",
       "        Promise.resolve(paths[lib]) :\n",
       "        new Promise(function(resolve, reject) {\n",
       "          var s = document.createElement('script');\n",
       "          document.getElementsByTagName(\"head\")[0].appendChild(s);\n",
       "          s.async = true;\n",
       "          s.onload = () => {\n",
       "            VEGA_DEBUG[key] = version;\n",
       "            return resolve(paths[lib]);\n",
       "          };\n",
       "          s.onerror = () => reject(`Error loading script: ${paths[lib]}`);\n",
       "          s.src = paths[lib];\n",
       "        });\n",
       "    }\n",
       "\n",
       "    function showError(err) {\n",
       "      outputDiv.innerHTML = `<div class=\"error\" style=\"color:red;\">${err}</div>`;\n",
       "      throw err;\n",
       "    }\n",
       "\n",
       "    function displayChart(vegaEmbed) {\n",
       "      vegaEmbed(outputDiv, spec, embedOpt)\n",
       "        .catch(err => showError(`Javascript Error: ${err.message}<br>This usually means there's a typo in your chart specification. See the javascript console for the full traceback.`));\n",
       "    }\n",
       "\n",
       "    if(typeof define === \"function\" && define.amd) {\n",
       "      requirejs.config({paths});\n",
       "      require([\"vega-embed\"], displayChart, err => showError(`Error loading script: ${err.message}`));\n",
       "    } else {\n",
       "      maybeLoadScript(\"vega\", \"5\")\n",
       "        .then(() => maybeLoadScript(\"vega-lite\", \"4.17.0\"))\n",
       "        .then(() => maybeLoadScript(\"vega-embed\", \"6\"))\n",
       "        .catch(showError)\n",
       "        .then(() => displayChart(vegaEmbed));\n",
       "    }\n",
       "  })({\"config\": {\"view\": {\"continuousWidth\": 400, \"continuousHeight\": 300}, \"axis\": {\"domainColor\": \"#cbcbcb\", \"grid\": true, \"gridColor\": \"#cbcbcb\", \"gridWidth\": 1, \"labelColor\": \"#474747\", \"labelFont\": \"Nunito Sans\", \"labelFontSize\": 10, \"labelPadding\": 4, \"tickColor\": \"#cbcbcb\", \"tickSize\": 10, \"titleColor\": \"#333\", \"titleFont\": \"Raleway\", \"titleFontSize\": 12, \"titlePadding\": 10}, \"axisBand\": {\"grid\": false}, \"background\": \"white\", \"font\": \"Raleway\", \"header\": {\"labelFont\": \"Nunito Sans\", \"titleFont\": \"Raleway\"}, \"legend\": {\"labelColor\": \"#333\", \"labelFont\": \"Nunito Sans\", \"labelFontSize\": 11, \"labelLimit\": 0, \"padding\": 1, \"symbolSize\": 30, \"symbolType\": \"square\", \"titleColor\": \"#333\", \"titleFont\": \"Raleway\", \"titleFontSize\": 14, \"titlePadding\": 10}, \"title\": {\"anchor\": \"middle\", \"font\": \"Raleway\", \"fontSize\": 18, \"fontWeight\": 300, \"offset\": 20}}, \"data\": {\"name\": \"data-f239b6d3d87ad97816b8cc314f960e9d\"}, \"mark\": \"line\", \"encoding\": {\"tooltip\": [{\"field\": \"Year\", \"type\": \"quantitative\"}, {\"field\": \"count\", \"type\": \"quantitative\"}], \"x\": {\"field\": \"Year\", \"title\": \"Prepared Year\", \"type\": \"ordinal\"}, \"y\": {\"field\": \"count\", \"title\": \"Count\", \"type\": \"quantitative\"}}, \"height\": 250, \"title\": \"Obligations by Year\", \"width\": 400, \"$schema\": \"https://vega.github.io/schema/vega-lite/v4.17.0.json\", \"datasets\": {\"data-f239b6d3d87ad97816b8cc314f960e9d\": [{\"Year\": 2014.0, \"count\": 487, \"variable\": \"prepared_y\"}, {\"Year\": 2018.0, \"count\": 454, \"variable\": \"prepared_y\"}, {\"Year\": 2015.0, \"count\": 449, \"variable\": \"prepared_y\"}, {\"Year\": 2016.0, \"count\": 414, \"variable\": \"prepared_y\"}, {\"Year\": 2021.0, \"count\": 409, \"variable\": \"prepared_y\"}, {\"Year\": 2019.0, \"count\": 400, \"variable\": \"prepared_y\"}, {\"Year\": 2017.0, \"count\": 367, \"variable\": \"prepared_y\"}, {\"Year\": 2020.0, \"count\": 286, \"variable\": \"prepared_y\"}, {\"Year\": 2022.0, \"count\": 109, \"variable\": \"prepared_y\"}, {\"Year\": 2013.0, \"count\": 38, \"variable\": \"prepared_y\"}, {\"Year\": 2012.0, \"count\": 4, \"variable\": \"prepared_y\"}, {\"Year\": 2011.0, \"count\": 1, \"variable\": \"prepared_y\"}]}}, {\"mode\": \"vega-lite\"});\n",
       "</script>"
      ],
      "text/plain": [
       "alt.Chart(...)"
      ]
     },
     "metadata": {},
     "output_type": "display_data"
    },
    {
     "data": {
      "text/html": [
       "\n",
       "<div id=\"altair-viz-9c02264e4b1e40afa44d2e225f21e0fc\"></div>\n",
       "<script type=\"text/javascript\">\n",
       "  var VEGA_DEBUG = (typeof VEGA_DEBUG == \"undefined\") ? {} : VEGA_DEBUG;\n",
       "  (function(spec, embedOpt){\n",
       "    let outputDiv = document.currentScript.previousElementSibling;\n",
       "    if (outputDiv.id !== \"altair-viz-9c02264e4b1e40afa44d2e225f21e0fc\") {\n",
       "      outputDiv = document.getElementById(\"altair-viz-9c02264e4b1e40afa44d2e225f21e0fc\");\n",
       "    }\n",
       "    const paths = {\n",
       "      \"vega\": \"https://cdn.jsdelivr.net/npm//vega@5?noext\",\n",
       "      \"vega-lib\": \"https://cdn.jsdelivr.net/npm//vega-lib?noext\",\n",
       "      \"vega-lite\": \"https://cdn.jsdelivr.net/npm//vega-lite@4.17.0?noext\",\n",
       "      \"vega-embed\": \"https://cdn.jsdelivr.net/npm//vega-embed@6?noext\",\n",
       "    };\n",
       "\n",
       "    function maybeLoadScript(lib, version) {\n",
       "      var key = `${lib.replace(\"-\", \"\")}_version`;\n",
       "      return (VEGA_DEBUG[key] == version) ?\n",
       "        Promise.resolve(paths[lib]) :\n",
       "        new Promise(function(resolve, reject) {\n",
       "          var s = document.createElement('script');\n",
       "          document.getElementsByTagName(\"head\")[0].appendChild(s);\n",
       "          s.async = true;\n",
       "          s.onload = () => {\n",
       "            VEGA_DEBUG[key] = version;\n",
       "            return resolve(paths[lib]);\n",
       "          };\n",
       "          s.onerror = () => reject(`Error loading script: ${paths[lib]}`);\n",
       "          s.src = paths[lib];\n",
       "        });\n",
       "    }\n",
       "\n",
       "    function showError(err) {\n",
       "      outputDiv.innerHTML = `<div class=\"error\" style=\"color:red;\">${err}</div>`;\n",
       "      throw err;\n",
       "    }\n",
       "\n",
       "    function displayChart(vegaEmbed) {\n",
       "      vegaEmbed(outputDiv, spec, embedOpt)\n",
       "        .catch(err => showError(`Javascript Error: ${err.message}<br>This usually means there's a typo in your chart specification. See the javascript console for the full traceback.`));\n",
       "    }\n",
       "\n",
       "    if(typeof define === \"function\" && define.amd) {\n",
       "      requirejs.config({paths});\n",
       "      require([\"vega-embed\"], displayChart, err => showError(`Error loading script: ${err.message}`));\n",
       "    } else {\n",
       "      maybeLoadScript(\"vega\", \"5\")\n",
       "        .then(() => maybeLoadScript(\"vega-lite\", \"4.17.0\"))\n",
       "        .then(() => maybeLoadScript(\"vega-embed\", \"6\"))\n",
       "        .catch(showError)\n",
       "        .then(() => displayChart(vegaEmbed));\n",
       "    }\n",
       "  })({\"config\": {\"view\": {\"continuousWidth\": 400, \"continuousHeight\": 300}, \"axis\": {\"domainColor\": \"#cbcbcb\", \"grid\": true, \"gridColor\": \"#cbcbcb\", \"gridWidth\": 1, \"labelColor\": \"#474747\", \"labelFont\": \"Nunito Sans\", \"labelFontSize\": 10, \"labelPadding\": 4, \"tickColor\": \"#cbcbcb\", \"tickSize\": 10, \"titleColor\": \"#333\", \"titleFont\": \"Raleway\", \"titleFontSize\": 12, \"titlePadding\": 10}, \"axisBand\": {\"grid\": false}, \"background\": \"white\", \"font\": \"Raleway\", \"header\": {\"labelFont\": \"Nunito Sans\", \"titleFont\": \"Raleway\"}, \"legend\": {\"labelColor\": \"#333\", \"labelFont\": \"Nunito Sans\", \"labelFontSize\": 11, \"labelLimit\": 0, \"padding\": 1, \"symbolSize\": 30, \"symbolType\": \"square\", \"titleColor\": \"#333\", \"titleFont\": \"Raleway\", \"titleFontSize\": 14, \"titlePadding\": 10}, \"title\": {\"anchor\": \"middle\", \"font\": \"Raleway\", \"fontSize\": 18, \"fontWeight\": 300, \"offset\": 20}}, \"data\": {\"name\": \"data-810c0b657e06f60c92c15ef9d6c93f36\"}, \"mark\": \"bar\", \"encoding\": {\"color\": {\"field\": \"District\", \"legend\": {\"title\": \"Prepared Year\"}, \"scale\": {\"range\": [\"#B9D6DF\", \"#8CBCCB\", \"#2EA8CE\", \"#136C97\", \"#0B405B\"]}, \"type\": \"nominal\"}, \"column\": {\"field\": \"District\", \"type\": \"nominal\"}, \"tooltip\": [{\"field\": \"prepared_y\", \"type\": \"quantitative\"}, {\"field\": \"Count\", \"type\": \"quantitative\"}], \"x\": {\"field\": \"prepared_y\", \"title\": \"Prepared Year\", \"type\": \"ordinal\"}, \"y\": {\"field\": \"Count\", \"title\": \"Number of Unique Agencies\", \"type\": \"quantitative\"}}, \"height\": 250, \"title\": \"Number of Unique Agencies by District\", \"width\": 400, \"$schema\": \"https://vega.github.io/schema/vega-lite/v4.17.0.json\", \"datasets\": {\"data-810c0b657e06f60c92c15ef9d6c93f36\": [{\"prepared_y\": 2022.0, \"District\": 4, \"Count\": 54}, {\"prepared_y\": 2021.0, \"District\": 4, \"Count\": 102}, {\"prepared_y\": 2020.0, \"District\": 4, \"Count\": 89}, {\"prepared_y\": 2019.0, \"District\": 4, \"Count\": 93}, {\"prepared_y\": 2018.0, \"District\": 4, \"Count\": 97}, {\"prepared_y\": 2017.0, \"District\": 4, \"Count\": 97}, {\"prepared_y\": 2016.0, \"District\": 4, \"Count\": 113}, {\"prepared_y\": 2015.0, \"District\": 4, \"Count\": 109}, {\"prepared_y\": 2014.0, \"District\": 4, \"Count\": 108}, {\"prepared_y\": 2013.0, \"District\": 4, \"Count\": 28}, {\"prepared_y\": 2012.0, \"District\": 4, \"Count\": 3}, {\"prepared_y\": 2011.0, \"District\": 4, \"Count\": 1}]}}, {\"mode\": \"vega-lite\"});\n",
       "</script>"
      ],
      "text/plain": [
       "alt.Chart(...)"
      ]
     },
     "metadata": {},
     "output_type": "display_data"
    },
    {
     "data": {
      "text/html": [
       "\n",
       "<div id=\"altair-viz-0e369820155d47cca3b667a1fc894e48\"></div>\n",
       "<script type=\"text/javascript\">\n",
       "  var VEGA_DEBUG = (typeof VEGA_DEBUG == \"undefined\") ? {} : VEGA_DEBUG;\n",
       "  (function(spec, embedOpt){\n",
       "    let outputDiv = document.currentScript.previousElementSibling;\n",
       "    if (outputDiv.id !== \"altair-viz-0e369820155d47cca3b667a1fc894e48\") {\n",
       "      outputDiv = document.getElementById(\"altair-viz-0e369820155d47cca3b667a1fc894e48\");\n",
       "    }\n",
       "    const paths = {\n",
       "      \"vega\": \"https://cdn.jsdelivr.net/npm//vega@5?noext\",\n",
       "      \"vega-lib\": \"https://cdn.jsdelivr.net/npm//vega-lib?noext\",\n",
       "      \"vega-lite\": \"https://cdn.jsdelivr.net/npm//vega-lite@4.17.0?noext\",\n",
       "      \"vega-embed\": \"https://cdn.jsdelivr.net/npm//vega-embed@6?noext\",\n",
       "    };\n",
       "\n",
       "    function maybeLoadScript(lib, version) {\n",
       "      var key = `${lib.replace(\"-\", \"\")}_version`;\n",
       "      return (VEGA_DEBUG[key] == version) ?\n",
       "        Promise.resolve(paths[lib]) :\n",
       "        new Promise(function(resolve, reject) {\n",
       "          var s = document.createElement('script');\n",
       "          document.getElementsByTagName(\"head\")[0].appendChild(s);\n",
       "          s.async = true;\n",
       "          s.onload = () => {\n",
       "            VEGA_DEBUG[key] = version;\n",
       "            return resolve(paths[lib]);\n",
       "          };\n",
       "          s.onerror = () => reject(`Error loading script: ${paths[lib]}`);\n",
       "          s.src = paths[lib];\n",
       "        });\n",
       "    }\n",
       "\n",
       "    function showError(err) {\n",
       "      outputDiv.innerHTML = `<div class=\"error\" style=\"color:red;\">${err}</div>`;\n",
       "      throw err;\n",
       "    }\n",
       "\n",
       "    function displayChart(vegaEmbed) {\n",
       "      vegaEmbed(outputDiv, spec, embedOpt)\n",
       "        .catch(err => showError(`Javascript Error: ${err.message}<br>This usually means there's a typo in your chart specification. See the javascript console for the full traceback.`));\n",
       "    }\n",
       "\n",
       "    if(typeof define === \"function\" && define.amd) {\n",
       "      requirejs.config({paths});\n",
       "      require([\"vega-embed\"], displayChart, err => showError(`Error loading script: ${err.message}`));\n",
       "    } else {\n",
       "      maybeLoadScript(\"vega\", \"5\")\n",
       "        .then(() => maybeLoadScript(\"vega-lite\", \"4.17.0\"))\n",
       "        .then(() => maybeLoadScript(\"vega-embed\", \"6\"))\n",
       "        .catch(showError)\n",
       "        .then(() => displayChart(vegaEmbed));\n",
       "    }\n",
       "  })({\"config\": {\"view\": {\"continuousWidth\": 400, \"continuousHeight\": 300}, \"axis\": {\"domainColor\": \"#cbcbcb\", \"grid\": true, \"gridColor\": \"#cbcbcb\", \"gridWidth\": 1, \"labelColor\": \"#474747\", \"labelFont\": \"Nunito Sans\", \"labelFontSize\": 10, \"labelPadding\": 4, \"tickColor\": \"#cbcbcb\", \"tickSize\": 10, \"titleColor\": \"#333\", \"titleFont\": \"Raleway\", \"titleFontSize\": 12, \"titlePadding\": 10}, \"axisBand\": {\"grid\": false}, \"background\": \"white\", \"font\": \"Raleway\", \"header\": {\"labelFont\": \"Nunito Sans\", \"titleFont\": \"Raleway\"}, \"legend\": {\"labelColor\": \"#333\", \"labelFont\": \"Nunito Sans\", \"labelFontSize\": 11, \"labelLimit\": 0, \"padding\": 1, \"symbolSize\": 30, \"symbolType\": \"square\", \"titleColor\": \"#333\", \"titleFont\": \"Raleway\", \"titleFontSize\": 14, \"titlePadding\": 10}, \"title\": {\"anchor\": \"middle\", \"font\": \"Raleway\", \"fontSize\": 18, \"fontWeight\": 300, \"offset\": 20}}, \"data\": {\"name\": \"data-055116b2fdc0ef05abef41e5342646b4\"}, \"mark\": \"bar\", \"encoding\": {\"color\": {\"field\": \"Agency\", \"legend\": {\"symbolLimit\": 10, \"title\": \"Agency\"}, \"scale\": {\"range\": [\"#2EA8CE\", \"#EB9F3C\", \"#F4D837\", \"#51BF9D\", \"#8CBCCB\", \"#9487C0\"]}, \"type\": \"nominal\"}, \"tooltip\": [{\"field\": \"Agency\", \"type\": \"nominal\"}, {\"field\": \"Number of Obligations\", \"type\": \"quantitative\"}], \"x\": {\"field\": \"Agency\", \"sort\": \"-y\", \"title\": \"Agency\", \"type\": \"nominal\"}, \"y\": {\"field\": \"Number of Obligations\", \"title\": \"Number Of Obligations\", \"type\": \"quantitative\"}}, \"height\": 250, \"title\": \"Agencies With The Most Obligations\", \"width\": 400, \"$schema\": \"https://vega.github.io/schema/vega-lite/v4.17.0.json\", \"datasets\": {\"data-055116b2fdc0ef05abef41e5342646b4\": [{\"Agency\": \"Contra Costa County\", \"Number of Obligations\": 154, \"variable\": \"primary_agency_name\"}, {\"Agency\": \"Oakland\", \"Number of Obligations\": 145, \"variable\": \"primary_agency_name\"}, {\"Agency\": \"Metropolitan Transportation Commission\", \"Number of Obligations\": 144, \"variable\": \"primary_agency_name\"}, {\"Agency\": \"San Jose\", \"Number of Obligations\": 137, \"variable\": \"primary_agency_name\"}, {\"Agency\": \"Santa Clara County\", \"Number of Obligations\": 133, \"variable\": \"primary_agency_name\"}, {\"Agency\": \"Napa County\", \"Number of Obligations\": 115, \"variable\": \"primary_agency_name\"}, {\"Agency\": \"Sonoma County\", \"Number of Obligations\": 99, \"variable\": \"primary_agency_name\"}, {\"Agency\": \"City & County of San Francisco, MTA/Parking & Traffic\", \"Number of Obligations\": 96, \"variable\": \"primary_agency_name\"}, {\"Agency\": \"Marin County\", \"Number of Obligations\": 90, \"variable\": \"primary_agency_name\"}, {\"Agency\": \"Sunnyvale\", \"Number of Obligations\": 88, \"variable\": \"primary_agency_name\"}, {\"Agency\": \"Alameda County\", \"Number of Obligations\": 85, \"variable\": \"primary_agency_name\"}, {\"Agency\": \"San Francisco County\", \"Number of Obligations\": 79, \"variable\": \"primary_agency_name\"}, {\"Agency\": \"Solano County\", \"Number of Obligations\": 70, \"variable\": \"primary_agency_name\"}, {\"Agency\": \"Santa Clara Valley Transportation Authority\", \"Number of Obligations\": 56, \"variable\": \"primary_agency_name\"}, {\"Agency\": \"Vacaville\", \"Number of Obligations\": 48, \"variable\": \"primary_agency_name\"}, {\"Agency\": \"Fremont\", \"Number of Obligations\": 46, \"variable\": \"primary_agency_name\"}, {\"Agency\": \"Golden Gate Bridge, Highway And Transportation Distri\", \"Number of Obligations\": 44, \"variable\": \"primary_agency_name\"}, {\"Agency\": \"San Francisco Bay Area Rapid Transit District\", \"Number of Obligations\": 41, \"variable\": \"primary_agency_name\"}, {\"Agency\": \"Concord\", \"Number of Obligations\": 39, \"variable\": \"primary_agency_name\"}, {\"Agency\": \"Vallejo\", \"Number of Obligations\": 37, \"variable\": \"primary_agency_name\"}]}}, {\"mode\": \"vega-lite\"});\n",
       "</script>"
      ],
      "text/plain": [
       "alt.Chart(...)"
      ]
     },
     "metadata": {},
     "output_type": "display_data"
    },
    {
     "data": {
      "text/html": [
       "<h2>Prefix Codes</h2>"
      ],
      "text/plain": [
       "<IPython.core.display.HTML object>"
      ]
     },
     "metadata": {},
     "output_type": "display_data"
    },
    {
     "data": {
      "text/html": [
       "\n",
       "<div id=\"altair-viz-bca70f08731941da8021fee4b6a88a8e\"></div>\n",
       "<script type=\"text/javascript\">\n",
       "  var VEGA_DEBUG = (typeof VEGA_DEBUG == \"undefined\") ? {} : VEGA_DEBUG;\n",
       "  (function(spec, embedOpt){\n",
       "    let outputDiv = document.currentScript.previousElementSibling;\n",
       "    if (outputDiv.id !== \"altair-viz-bca70f08731941da8021fee4b6a88a8e\") {\n",
       "      outputDiv = document.getElementById(\"altair-viz-bca70f08731941da8021fee4b6a88a8e\");\n",
       "    }\n",
       "    const paths = {\n",
       "      \"vega\": \"https://cdn.jsdelivr.net/npm//vega@5?noext\",\n",
       "      \"vega-lib\": \"https://cdn.jsdelivr.net/npm//vega-lib?noext\",\n",
       "      \"vega-lite\": \"https://cdn.jsdelivr.net/npm//vega-lite@4.17.0?noext\",\n",
       "      \"vega-embed\": \"https://cdn.jsdelivr.net/npm//vega-embed@6?noext\",\n",
       "    };\n",
       "\n",
       "    function maybeLoadScript(lib, version) {\n",
       "      var key = `${lib.replace(\"-\", \"\")}_version`;\n",
       "      return (VEGA_DEBUG[key] == version) ?\n",
       "        Promise.resolve(paths[lib]) :\n",
       "        new Promise(function(resolve, reject) {\n",
       "          var s = document.createElement('script');\n",
       "          document.getElementsByTagName(\"head\")[0].appendChild(s);\n",
       "          s.async = true;\n",
       "          s.onload = () => {\n",
       "            VEGA_DEBUG[key] = version;\n",
       "            return resolve(paths[lib]);\n",
       "          };\n",
       "          s.onerror = () => reject(`Error loading script: ${paths[lib]}`);\n",
       "          s.src = paths[lib];\n",
       "        });\n",
       "    }\n",
       "\n",
       "    function showError(err) {\n",
       "      outputDiv.innerHTML = `<div class=\"error\" style=\"color:red;\">${err}</div>`;\n",
       "      throw err;\n",
       "    }\n",
       "\n",
       "    function displayChart(vegaEmbed) {\n",
       "      vegaEmbed(outputDiv, spec, embedOpt)\n",
       "        .catch(err => showError(`Javascript Error: ${err.message}<br>This usually means there's a typo in your chart specification. See the javascript console for the full traceback.`));\n",
       "    }\n",
       "\n",
       "    if(typeof define === \"function\" && define.amd) {\n",
       "      requirejs.config({paths});\n",
       "      require([\"vega-embed\"], displayChart, err => showError(`Error loading script: ${err.message}`));\n",
       "    } else {\n",
       "      maybeLoadScript(\"vega\", \"5\")\n",
       "        .then(() => maybeLoadScript(\"vega-lite\", \"4.17.0\"))\n",
       "        .then(() => maybeLoadScript(\"vega-embed\", \"6\"))\n",
       "        .catch(showError)\n",
       "        .then(() => displayChart(vegaEmbed));\n",
       "    }\n",
       "  })({\"config\": {\"view\": {\"continuousWidth\": 400, \"continuousHeight\": 300}, \"axis\": {\"domainColor\": \"#cbcbcb\", \"grid\": true, \"gridColor\": \"#cbcbcb\", \"gridWidth\": 1, \"labelColor\": \"#474747\", \"labelFont\": \"Nunito Sans\", \"labelFontSize\": 10, \"labelPadding\": 4, \"tickColor\": \"#cbcbcb\", \"tickSize\": 10, \"titleColor\": \"#333\", \"titleFont\": \"Raleway\", \"titleFontSize\": 12, \"titlePadding\": 10}, \"axisBand\": {\"grid\": false}, \"background\": \"white\", \"font\": \"Raleway\", \"header\": {\"labelFont\": \"Nunito Sans\", \"titleFont\": \"Raleway\"}, \"legend\": {\"labelColor\": \"#333\", \"labelFont\": \"Nunito Sans\", \"labelFontSize\": 11, \"labelLimit\": 0, \"padding\": 1, \"symbolSize\": 30, \"symbolType\": \"square\", \"titleColor\": \"#333\", \"titleFont\": \"Raleway\", \"titleFontSize\": 14, \"titlePadding\": 10}, \"title\": {\"anchor\": \"middle\", \"font\": \"Raleway\", \"fontSize\": 18, \"fontWeight\": 300, \"offset\": 20}}, \"data\": {\"name\": \"data-989356d9094a6c6cdacdf80dea19492c\"}, \"mark\": \"bar\", \"encoding\": {\"color\": {\"field\": \"District\", \"legend\": {\"title\": \"District\"}, \"scale\": {\"range\": [\"#B9D6DF\", \"#8CBCCB\", \"#2EA8CE\", \"#136C97\", \"#0B405B\"]}, \"type\": \"nominal\"}, \"column\": {\"field\": \"District\", \"type\": \"nominal\"}, \"tooltip\": [{\"field\": \"prepared_y\", \"type\": \"quantitative\"}, {\"field\": \"Count\", \"type\": \"quantitative\"}], \"x\": {\"field\": \"prepared_y\", \"title\": \"Prepared Year\", \"type\": \"ordinal\"}, \"y\": {\"field\": \"Count\", \"title\": \"Number of Unique Agencies\", \"type\": \"quantitative\"}}, \"height\": 250, \"title\": \"Number of Unique Prefix Codes by District\", \"width\": 400, \"$schema\": \"https://vega.github.io/schema/vega-lite/v4.17.0.json\", \"datasets\": {\"data-989356d9094a6c6cdacdf80dea19492c\": [{\"prepared_y\": 2022.0, \"District\": 4, \"Count\": 21}, {\"prepared_y\": 2021.0, \"District\": 4, \"Count\": 42}, {\"prepared_y\": 2020.0, \"District\": 4, \"Count\": 34}, {\"prepared_y\": 2019.0, \"District\": 4, \"Count\": 41}, {\"prepared_y\": 2018.0, \"District\": 4, \"Count\": 51}, {\"prepared_y\": 2017.0, \"District\": 4, \"Count\": 43}, {\"prepared_y\": 2016.0, \"District\": 4, \"Count\": 50}, {\"prepared_y\": 2015.0, \"District\": 4, \"Count\": 48}, {\"prepared_y\": 2014.0, \"District\": 4, \"Count\": 52}, {\"prepared_y\": 2013.0, \"District\": 4, \"Count\": 15}, {\"prepared_y\": 2012.0, \"District\": 4, \"Count\": 2}, {\"prepared_y\": 2011.0, \"District\": 4, \"Count\": 1}]}}, {\"mode\": \"vega-lite\"});\n",
       "</script>"
      ],
      "text/plain": [
       "alt.Chart(...)"
      ]
     },
     "metadata": {},
     "output_type": "display_data"
    },
    {
     "data": {
      "text/html": [
       "\n",
       "<div id=\"altair-viz-fd1a2c78dfdc40e7be4e0142d5a582b5\"></div>\n",
       "<script type=\"text/javascript\">\n",
       "  var VEGA_DEBUG = (typeof VEGA_DEBUG == \"undefined\") ? {} : VEGA_DEBUG;\n",
       "  (function(spec, embedOpt){\n",
       "    let outputDiv = document.currentScript.previousElementSibling;\n",
       "    if (outputDiv.id !== \"altair-viz-fd1a2c78dfdc40e7be4e0142d5a582b5\") {\n",
       "      outputDiv = document.getElementById(\"altair-viz-fd1a2c78dfdc40e7be4e0142d5a582b5\");\n",
       "    }\n",
       "    const paths = {\n",
       "      \"vega\": \"https://cdn.jsdelivr.net/npm//vega@5?noext\",\n",
       "      \"vega-lib\": \"https://cdn.jsdelivr.net/npm//vega-lib?noext\",\n",
       "      \"vega-lite\": \"https://cdn.jsdelivr.net/npm//vega-lite@4.17.0?noext\",\n",
       "      \"vega-embed\": \"https://cdn.jsdelivr.net/npm//vega-embed@6?noext\",\n",
       "    };\n",
       "\n",
       "    function maybeLoadScript(lib, version) {\n",
       "      var key = `${lib.replace(\"-\", \"\")}_version`;\n",
       "      return (VEGA_DEBUG[key] == version) ?\n",
       "        Promise.resolve(paths[lib]) :\n",
       "        new Promise(function(resolve, reject) {\n",
       "          var s = document.createElement('script');\n",
       "          document.getElementsByTagName(\"head\")[0].appendChild(s);\n",
       "          s.async = true;\n",
       "          s.onload = () => {\n",
       "            VEGA_DEBUG[key] = version;\n",
       "            return resolve(paths[lib]);\n",
       "          };\n",
       "          s.onerror = () => reject(`Error loading script: ${paths[lib]}`);\n",
       "          s.src = paths[lib];\n",
       "        });\n",
       "    }\n",
       "\n",
       "    function showError(err) {\n",
       "      outputDiv.innerHTML = `<div class=\"error\" style=\"color:red;\">${err}</div>`;\n",
       "      throw err;\n",
       "    }\n",
       "\n",
       "    function displayChart(vegaEmbed) {\n",
       "      vegaEmbed(outputDiv, spec, embedOpt)\n",
       "        .catch(err => showError(`Javascript Error: ${err.message}<br>This usually means there's a typo in your chart specification. See the javascript console for the full traceback.`));\n",
       "    }\n",
       "\n",
       "    if(typeof define === \"function\" && define.amd) {\n",
       "      requirejs.config({paths});\n",
       "      require([\"vega-embed\"], displayChart, err => showError(`Error loading script: ${err.message}`));\n",
       "    } else {\n",
       "      maybeLoadScript(\"vega\", \"5\")\n",
       "        .then(() => maybeLoadScript(\"vega-lite\", \"4.17.0\"))\n",
       "        .then(() => maybeLoadScript(\"vega-embed\", \"6\"))\n",
       "        .catch(showError)\n",
       "        .then(() => displayChart(vegaEmbed));\n",
       "    }\n",
       "  })({\"config\": {\"view\": {\"continuousWidth\": 400, \"continuousHeight\": 300}, \"axis\": {\"domainColor\": \"#cbcbcb\", \"grid\": true, \"gridColor\": \"#cbcbcb\", \"gridWidth\": 1, \"labelColor\": \"#474747\", \"labelFont\": \"Nunito Sans\", \"labelFontSize\": 10, \"labelPadding\": 4, \"tickColor\": \"#cbcbcb\", \"tickSize\": 10, \"titleColor\": \"#333\", \"titleFont\": \"Raleway\", \"titleFontSize\": 12, \"titlePadding\": 10}, \"axisBand\": {\"grid\": false}, \"background\": \"white\", \"font\": \"Raleway\", \"header\": {\"labelFont\": \"Nunito Sans\", \"titleFont\": \"Raleway\"}, \"legend\": {\"labelColor\": \"#333\", \"labelFont\": \"Nunito Sans\", \"labelFontSize\": 11, \"labelLimit\": 0, \"padding\": 1, \"symbolSize\": 30, \"symbolType\": \"square\", \"titleColor\": \"#333\", \"titleFont\": \"Raleway\", \"titleFontSize\": 14, \"titlePadding\": 10}, \"title\": {\"anchor\": \"middle\", \"font\": \"Raleway\", \"fontSize\": 18, \"fontWeight\": 300, \"offset\": 20}}, \"data\": {\"name\": \"data-6c42defd59770eae27557206359e814c\"}, \"mark\": \"bar\", \"encoding\": {\"color\": {\"field\": \"Prefix\", \"legend\": {\"symbolLimit\": 10, \"title\": \"Prefix\"}, \"scale\": {\"range\": [\"#2EA8CE\", \"#EB9F3C\", \"#F4D837\", \"#51BF9D\", \"#8CBCCB\", \"#9487C0\"]}, \"type\": \"nominal\"}, \"tooltip\": [{\"field\": \"Prefix\", \"type\": \"nominal\"}, {\"field\": \"Number of Obligations\", \"type\": \"quantitative\"}], \"x\": {\"field\": \"Prefix\", \"sort\": \"-y\", \"title\": \"Prefix\", \"type\": \"nominal\"}, \"y\": {\"field\": \"Number of Obligations\", \"title\": \"Number Of Obligations\", \"type\": \"quantitative\"}}, \"height\": 250, \"title\": \"Most Used Prefix Codes\", \"width\": 400, \"$schema\": \"https://vega.github.io/schema/vega-lite/v4.17.0.json\", \"datasets\": {\"data-6c42defd59770eae27557206359e814c\": [{\"Prefix\": \"STPL\", \"Number of Obligations\": 672, \"variable\": \"prefix\"}, {\"Prefix\": \"CML\", \"Number of Obligations\": 552, \"variable\": \"prefix\"}, {\"Prefix\": \"HSIPL\", \"Number of Obligations\": 458, \"variable\": \"prefix\"}, {\"Prefix\": \"BRLS\", \"Number of Obligations\": 170, \"variable\": \"prefix\"}, {\"Prefix\": \"ER\", \"Number of Obligations\": 146, \"variable\": \"prefix\"}, {\"Prefix\": \"BRLO\", \"Number of Obligations\": 129, \"variable\": \"prefix\"}, {\"Prefix\": \"STPLZ\", \"Number of Obligations\": 123, \"variable\": \"prefix\"}, {\"Prefix\": \"RPSTPL\", \"Number of Obligations\": 95, \"variable\": \"prefix\"}, {\"Prefix\": \"BPMP\", \"Number of Obligations\": 94, \"variable\": \"prefix\"}, {\"Prefix\": \"ATPL\", \"Number of Obligations\": 89, \"variable\": \"prefix\"}, {\"Prefix\": \"HPLUL\", \"Number of Obligations\": 83, \"variable\": \"prefix\"}, {\"Prefix\": \"BHLS\", \"Number of Obligations\": 65, \"variable\": \"prefix\"}, {\"Prefix\": \"SRTSL\", \"Number of Obligations\": 63, \"variable\": \"prefix\"}, {\"Prefix\": \"CMLNI\", \"Number of Obligations\": 52, \"variable\": \"prefix\"}, {\"Prefix\": \"FTASTPL\", \"Number of Obligations\": 48, \"variable\": \"prefix\"}, {\"Prefix\": \"STPLNI\", \"Number of Obligations\": 42, \"variable\": \"prefix\"}, {\"Prefix\": \"HRRRL\", \"Number of Obligations\": 38, \"variable\": \"prefix\"}, {\"Prefix\": \"ACSTP\", \"Number of Obligations\": 36, \"variable\": \"prefix\"}, {\"Prefix\": \"FTACML\", \"Number of Obligations\": 33, \"variable\": \"prefix\"}, {\"Prefix\": \"BHLO\", \"Number of Obligations\": 31, \"variable\": \"prefix\"}]}}, {\"mode\": \"vega-lite\"});\n",
       "</script>"
      ],
      "text/plain": [
       "alt.Chart(...)"
      ]
     },
     "metadata": {},
     "output_type": "display_data"
    },
    {
     "data": {
      "text/html": [
       "\n",
       "<div id=\"altair-viz-cdc962c4a0344b588fbb2a3158d06993\"></div>\n",
       "<script type=\"text/javascript\">\n",
       "  var VEGA_DEBUG = (typeof VEGA_DEBUG == \"undefined\") ? {} : VEGA_DEBUG;\n",
       "  (function(spec, embedOpt){\n",
       "    let outputDiv = document.currentScript.previousElementSibling;\n",
       "    if (outputDiv.id !== \"altair-viz-cdc962c4a0344b588fbb2a3158d06993\") {\n",
       "      outputDiv = document.getElementById(\"altair-viz-cdc962c4a0344b588fbb2a3158d06993\");\n",
       "    }\n",
       "    const paths = {\n",
       "      \"vega\": \"https://cdn.jsdelivr.net/npm//vega@5?noext\",\n",
       "      \"vega-lib\": \"https://cdn.jsdelivr.net/npm//vega-lib?noext\",\n",
       "      \"vega-lite\": \"https://cdn.jsdelivr.net/npm//vega-lite@4.17.0?noext\",\n",
       "      \"vega-embed\": \"https://cdn.jsdelivr.net/npm//vega-embed@6?noext\",\n",
       "    };\n",
       "\n",
       "    function maybeLoadScript(lib, version) {\n",
       "      var key = `${lib.replace(\"-\", \"\")}_version`;\n",
       "      return (VEGA_DEBUG[key] == version) ?\n",
       "        Promise.resolve(paths[lib]) :\n",
       "        new Promise(function(resolve, reject) {\n",
       "          var s = document.createElement('script');\n",
       "          document.getElementsByTagName(\"head\")[0].appendChild(s);\n",
       "          s.async = true;\n",
       "          s.onload = () => {\n",
       "            VEGA_DEBUG[key] = version;\n",
       "            return resolve(paths[lib]);\n",
       "          };\n",
       "          s.onerror = () => reject(`Error loading script: ${paths[lib]}`);\n",
       "          s.src = paths[lib];\n",
       "        });\n",
       "    }\n",
       "\n",
       "    function showError(err) {\n",
       "      outputDiv.innerHTML = `<div class=\"error\" style=\"color:red;\">${err}</div>`;\n",
       "      throw err;\n",
       "    }\n",
       "\n",
       "    function displayChart(vegaEmbed) {\n",
       "      vegaEmbed(outputDiv, spec, embedOpt)\n",
       "        .catch(err => showError(`Javascript Error: ${err.message}<br>This usually means there's a typo in your chart specification. See the javascript console for the full traceback.`));\n",
       "    }\n",
       "\n",
       "    if(typeof define === \"function\" && define.amd) {\n",
       "      requirejs.config({paths});\n",
       "      require([\"vega-embed\"], displayChart, err => showError(`Error loading script: ${err.message}`));\n",
       "    } else {\n",
       "      maybeLoadScript(\"vega\", \"5\")\n",
       "        .then(() => maybeLoadScript(\"vega-lite\", \"4.17.0\"))\n",
       "        .then(() => maybeLoadScript(\"vega-embed\", \"6\"))\n",
       "        .catch(showError)\n",
       "        .then(() => displayChart(vegaEmbed));\n",
       "    }\n",
       "  })({\"config\": {\"view\": {\"continuousWidth\": 400, \"continuousHeight\": 300}, \"axis\": {\"domainColor\": \"#cbcbcb\", \"grid\": true, \"gridColor\": \"#cbcbcb\", \"gridWidth\": 1, \"labelColor\": \"#474747\", \"labelFont\": \"Nunito Sans\", \"labelFontSize\": 10, \"labelPadding\": 4, \"tickColor\": \"#cbcbcb\", \"tickSize\": 10, \"titleColor\": \"#333\", \"titleFont\": \"Raleway\", \"titleFontSize\": 12, \"titlePadding\": 10}, \"axisBand\": {\"grid\": false}, \"background\": \"white\", \"font\": \"Raleway\", \"header\": {\"labelFont\": \"Nunito Sans\", \"titleFont\": \"Raleway\"}, \"legend\": {\"labelColor\": \"#333\", \"labelFont\": \"Nunito Sans\", \"labelFontSize\": 11, \"labelLimit\": 0, \"padding\": 1, \"symbolSize\": 30, \"symbolType\": \"square\", \"titleColor\": \"#333\", \"titleFont\": \"Raleway\", \"titleFontSize\": 14, \"titlePadding\": 10}, \"title\": {\"anchor\": \"middle\", \"font\": \"Raleway\", \"fontSize\": 18, \"fontWeight\": 300, \"offset\": 20}}, \"data\": {\"name\": \"data-349d380901e5c625b780dae31a2f39c5\"}, \"mark\": \"bar\", \"encoding\": {\"color\": {\"field\": \"primary_agency_name\", \"legend\": {\"symbolLimit\": 10, \"title\": \"Agency\"}, \"scale\": {\"range\": [\"#2EA8CE\", \"#EB9F3C\", \"#F4D837\", \"#51BF9D\", \"#8CBCCB\", \"#9487C0\"]}, \"type\": \"nominal\"}, \"tooltip\": [{\"field\": \"primary_agency_name\", \"type\": \"nominal\"}, {\"field\": \"n\", \"type\": \"quantitative\"}], \"x\": {\"field\": \"primary_agency_name\", \"sort\": \"-y\", \"title\": \"Agency\", \"type\": \"nominal\"}, \"y\": {\"field\": \"n\", \"title\": \"Count\", \"type\": \"quantitative\"}}, \"height\": 250, \"title\": \"Agencies With The Most Unique Prefix Codes\", \"width\": 400, \"$schema\": \"https://vega.github.io/schema/vega-lite/v4.17.0.json\", \"datasets\": {\"data-349d380901e5c625b780dae31a2f39c5\": [{\"primary_agency_name\": \"Contra Costa County\", \"n\": 18}, {\"primary_agency_name\": \"San Francisco County\", \"n\": 17}, {\"primary_agency_name\": \"San Jose\", \"n\": 17}, {\"primary_agency_name\": \"Santa Clara County\", \"n\": 17}, {\"primary_agency_name\": \"Alameda County\", \"n\": 16}, {\"primary_agency_name\": \"Sonoma County\", \"n\": 16}, {\"primary_agency_name\": \"Metropolitan Transportation Commission\", \"n\": 15}, {\"primary_agency_name\": \"Oakland\", \"n\": 15}, {\"primary_agency_name\": \"City & County of San Francisco, MTA/Parking & Traffic\", \"n\": 14}, {\"primary_agency_name\": \"Marin County\", \"n\": 13}, {\"primary_agency_name\": \"Santa Clara Valley Transportation Authority\", \"n\": 13}, {\"primary_agency_name\": \"Vallejo\", \"n\": 11}, {\"primary_agency_name\": \"Alameda County Transportation Commission\", \"n\": 10}, {\"primary_agency_name\": \"Solano County\", \"n\": 10}, {\"primary_agency_name\": \"Pleasant Hill\", \"n\": 9}, {\"primary_agency_name\": \"Sunnyvale\", \"n\": 9}, {\"primary_agency_name\": \"Alameda\", \"n\": 8}, {\"primary_agency_name\": \"Alameda County Congestion Management Agency\", \"n\": 8}, {\"primary_agency_name\": \"Fairfield\", \"n\": 8}, {\"primary_agency_name\": \"Golden Gate Bridge, Highway And Transportation Distri\", \"n\": 8}, {\"primary_agency_name\": \"Napa\", \"n\": 8}, {\"primary_agency_name\": \"Napa County\", \"n\": 8}, {\"primary_agency_name\": \"Richmond\", \"n\": 8}, {\"primary_agency_name\": \"San Francisco Bay Area Rapid Transit District\", \"n\": 8}, {\"primary_agency_name\": \"San Rafael\", \"n\": 8}, {\"primary_agency_name\": \"Santa Rosa\", \"n\": 8}, {\"primary_agency_name\": \"El Cerrito\", \"n\": 7}, {\"primary_agency_name\": \"San Mateo\", \"n\": 7}, {\"primary_agency_name\": \"Sonoma Marin Area Rail Transit District\", \"n\": 7}, {\"primary_agency_name\": \"South San Francisco\", \"n\": 7}]}}, {\"mode\": \"vega-lite\"});\n",
       "</script>"
      ],
      "text/plain": [
       "alt.Chart(...)"
      ]
     },
     "metadata": {},
     "output_type": "display_data"
    },
    {
     "data": {
      "text/html": [
       "<h2>Funding Distribution</h2>"
      ],
      "text/plain": [
       "<IPython.core.display.HTML object>"
      ]
     },
     "metadata": {},
     "output_type": "display_data"
    },
    {
     "data": {
      "text/html": [
       "\n",
       "<div id=\"altair-viz-92b849681a7743aaac3a1c80d4a60d7e\"></div>\n",
       "<script type=\"text/javascript\">\n",
       "  var VEGA_DEBUG = (typeof VEGA_DEBUG == \"undefined\") ? {} : VEGA_DEBUG;\n",
       "  (function(spec, embedOpt){\n",
       "    let outputDiv = document.currentScript.previousElementSibling;\n",
       "    if (outputDiv.id !== \"altair-viz-92b849681a7743aaac3a1c80d4a60d7e\") {\n",
       "      outputDiv = document.getElementById(\"altair-viz-92b849681a7743aaac3a1c80d4a60d7e\");\n",
       "    }\n",
       "    const paths = {\n",
       "      \"vega\": \"https://cdn.jsdelivr.net/npm//vega@5?noext\",\n",
       "      \"vega-lib\": \"https://cdn.jsdelivr.net/npm//vega-lib?noext\",\n",
       "      \"vega-lite\": \"https://cdn.jsdelivr.net/npm//vega-lite@4.17.0?noext\",\n",
       "      \"vega-embed\": \"https://cdn.jsdelivr.net/npm//vega-embed@6?noext\",\n",
       "    };\n",
       "\n",
       "    function maybeLoadScript(lib, version) {\n",
       "      var key = `${lib.replace(\"-\", \"\")}_version`;\n",
       "      return (VEGA_DEBUG[key] == version) ?\n",
       "        Promise.resolve(paths[lib]) :\n",
       "        new Promise(function(resolve, reject) {\n",
       "          var s = document.createElement('script');\n",
       "          document.getElementsByTagName(\"head\")[0].appendChild(s);\n",
       "          s.async = true;\n",
       "          s.onload = () => {\n",
       "            VEGA_DEBUG[key] = version;\n",
       "            return resolve(paths[lib]);\n",
       "          };\n",
       "          s.onerror = () => reject(`Error loading script: ${paths[lib]}`);\n",
       "          s.src = paths[lib];\n",
       "        });\n",
       "    }\n",
       "\n",
       "    function showError(err) {\n",
       "      outputDiv.innerHTML = `<div class=\"error\" style=\"color:red;\">${err}</div>`;\n",
       "      throw err;\n",
       "    }\n",
       "\n",
       "    function displayChart(vegaEmbed) {\n",
       "      vegaEmbed(outputDiv, spec, embedOpt)\n",
       "        .catch(err => showError(`Javascript Error: ${err.message}<br>This usually means there's a typo in your chart specification. See the javascript console for the full traceback.`));\n",
       "    }\n",
       "\n",
       "    if(typeof define === \"function\" && define.amd) {\n",
       "      requirejs.config({paths});\n",
       "      require([\"vega-embed\"], displayChart, err => showError(`Error loading script: ${err.message}`));\n",
       "    } else {\n",
       "      maybeLoadScript(\"vega\", \"5\")\n",
       "        .then(() => maybeLoadScript(\"vega-lite\", \"4.17.0\"))\n",
       "        .then(() => maybeLoadScript(\"vega-embed\", \"6\"))\n",
       "        .catch(showError)\n",
       "        .then(() => displayChart(vegaEmbed));\n",
       "    }\n",
       "  })({\"config\": {\"view\": {\"continuousWidth\": 400, \"continuousHeight\": 300}, \"axis\": {\"domainColor\": \"#cbcbcb\", \"grid\": true, \"gridColor\": \"#cbcbcb\", \"gridWidth\": 1, \"labelColor\": \"#474747\", \"labelFont\": \"Nunito Sans\", \"labelFontSize\": 10, \"labelPadding\": 4, \"tickColor\": \"#cbcbcb\", \"tickSize\": 10, \"titleColor\": \"#333\", \"titleFont\": \"Raleway\", \"titleFontSize\": 12, \"titlePadding\": 10}, \"axisBand\": {\"grid\": false}, \"background\": \"white\", \"font\": \"Raleway\", \"header\": {\"labelFont\": \"Nunito Sans\", \"titleFont\": \"Raleway\"}, \"legend\": {\"labelColor\": \"#333\", \"labelFont\": \"Nunito Sans\", \"labelFontSize\": 11, \"labelLimit\": 0, \"padding\": 1, \"symbolSize\": 30, \"symbolType\": \"square\", \"titleColor\": \"#333\", \"titleFont\": \"Raleway\", \"titleFontSize\": 14, \"titlePadding\": 10}, \"title\": {\"anchor\": \"middle\", \"font\": \"Raleway\", \"fontSize\": 18, \"fontWeight\": 300, \"offset\": 20}}, \"data\": {\"name\": \"data-4605e68463c9bf3f57869a37e2c7eb6d\"}, \"mark\": \"bar\", \"encoding\": {\"color\": {\"field\": \"primary_agency_name\", \"legend\": {\"symbolLimit\": 10, \"title\": \"Agency\"}, \"scale\": {\"range\": [\"#2EA8CE\", \"#EB9F3C\", \"#F4D837\", \"#51BF9D\", \"#8CBCCB\", \"#9487C0\"]}, \"type\": \"nominal\"}, \"tooltip\": [{\"field\": \"primary_agency_name\", \"type\": \"nominal\"}, {\"field\": \"adjusted_total_requested\", \"type\": \"quantitative\"}], \"x\": {\"field\": \"primary_agency_name\", \"sort\": \"-y\", \"title\": \"Agency\", \"type\": \"nominal\"}, \"y\": {\"field\": \"adjusted_total_requested\", \"title\": \"Adjusted Total Requested\", \"type\": \"quantitative\"}}, \"height\": 250, \"title\": \"Average Total Requested Funds by Agency ($2021)\", \"width\": 400, \"$schema\": \"https://vega.github.io/schema/vega-lite/v4.17.0.json\", \"datasets\": {\"data-4605e68463c9bf3f57869a37e2c7eb6d\": [{\"primary_agency_name\": \"La Jolla Band of Luiseno Indians\", \"adjusted_total_requested\": 7877447.510085349}, {\"primary_agency_name\": \"Caltrans\", \"adjusted_total_requested\": 7200866.508663196}, {\"primary_agency_name\": \"Golden Gate Bridge, Highway And Transportation Distri\", \"adjusted_total_requested\": 5312348.215439361}, {\"primary_agency_name\": \"San Francisco Bay Area Rapid Transit District\", \"adjusted_total_requested\": 4728710.344235635}, {\"primary_agency_name\": \"Alameda - Contra Costa Transit District\", \"adjusted_total_requested\": 4071873.1967900246}, {\"primary_agency_name\": \"San Francisco County\", \"adjusted_total_requested\": 3671402.126303573}, {\"primary_agency_name\": \"Belmont\", \"adjusted_total_requested\": 3013267.069260622}, {\"primary_agency_name\": \"Metropolitan Transportation Commission\", \"adjusted_total_requested\": 2656521.8392282897}, {\"primary_agency_name\": \"Napa Valley Transportation Authority\", \"adjusted_total_requested\": 2634244.293428272}, {\"primary_agency_name\": \"Alameda County Transportation Commission\", \"adjusted_total_requested\": 2480429.7119186674}, {\"primary_agency_name\": \"Larkspur\", \"adjusted_total_requested\": 2010825.69152631}, {\"primary_agency_name\": \"San Francisco County Transportation Authority\", \"adjusted_total_requested\": 1964340.4822520118}, {\"primary_agency_name\": \"Contra Costa Transportation Authority\", \"adjusted_total_requested\": 1846718.0845602741}, {\"primary_agency_name\": \"East Palo Alto\", \"adjusted_total_requested\": 1649833.6643088532}, {\"primary_agency_name\": \"Sonoma Marin Area Rail Transit District\", \"adjusted_total_requested\": 1620767.3394540895}, {\"primary_agency_name\": \"Port of San Francisco\", \"adjusted_total_requested\": 1617689.7604029668}, {\"primary_agency_name\": \"Healdsburg\", \"adjusted_total_requested\": 1561188.8819585806}, {\"primary_agency_name\": \"Metropolitan Transportation Commission - SAFE\", \"adjusted_total_requested\": 1511663.353550646}, {\"primary_agency_name\": \"San Francisco Bay Area Water Transit Authority\", \"adjusted_total_requested\": 1496461.7356790327}, {\"primary_agency_name\": \"San Pablo\", \"adjusted_total_requested\": 1399532.943630013}, {\"primary_agency_name\": \"Fairfield\", \"adjusted_total_requested\": 1302277.447243492}, {\"primary_agency_name\": \"Western Contra Costa Transit Authority\", \"adjusted_total_requested\": 1295883.005146624}, {\"primary_agency_name\": \"Calistoga\", \"adjusted_total_requested\": 1285845.194684056}, {\"primary_agency_name\": \"Morgan Hill\", \"adjusted_total_requested\": 1264783.0232990193}, {\"primary_agency_name\": \"Richmond\", \"adjusted_total_requested\": 1217021.8014740373}, {\"primary_agency_name\": \"Bay Area Air Quality Management District\", \"adjusted_total_requested\": 1156260.885675769}, {\"primary_agency_name\": \"Colma\", \"adjusted_total_requested\": 1146915.3705764515}, {\"primary_agency_name\": \"Peninsula Joint Powers Board\", \"adjusted_total_requested\": 1096244.0408426924}, {\"primary_agency_name\": \"Corte Madera\", \"adjusted_total_requested\": 1084937.8520869836}, {\"primary_agency_name\": \"Palo Alto\", \"adjusted_total_requested\": 1070667.5322808262}]}}, {\"mode\": \"vega-lite\"});\n",
       "</script>"
      ],
      "text/plain": [
       "alt.Chart(...)"
      ]
     },
     "metadata": {},
     "output_type": "display_data"
    },
    {
     "data": {
      "text/html": [
       "\n",
       "<div id=\"altair-viz-d4fd5621668841a192a154cafd10ac13\"></div>\n",
       "<script type=\"text/javascript\">\n",
       "  var VEGA_DEBUG = (typeof VEGA_DEBUG == \"undefined\") ? {} : VEGA_DEBUG;\n",
       "  (function(spec, embedOpt){\n",
       "    let outputDiv = document.currentScript.previousElementSibling;\n",
       "    if (outputDiv.id !== \"altair-viz-d4fd5621668841a192a154cafd10ac13\") {\n",
       "      outputDiv = document.getElementById(\"altair-viz-d4fd5621668841a192a154cafd10ac13\");\n",
       "    }\n",
       "    const paths = {\n",
       "      \"vega\": \"https://cdn.jsdelivr.net/npm//vega@5?noext\",\n",
       "      \"vega-lib\": \"https://cdn.jsdelivr.net/npm//vega-lib?noext\",\n",
       "      \"vega-lite\": \"https://cdn.jsdelivr.net/npm//vega-lite@4.17.0?noext\",\n",
       "      \"vega-embed\": \"https://cdn.jsdelivr.net/npm//vega-embed@6?noext\",\n",
       "    };\n",
       "\n",
       "    function maybeLoadScript(lib, version) {\n",
       "      var key = `${lib.replace(\"-\", \"\")}_version`;\n",
       "      return (VEGA_DEBUG[key] == version) ?\n",
       "        Promise.resolve(paths[lib]) :\n",
       "        new Promise(function(resolve, reject) {\n",
       "          var s = document.createElement('script');\n",
       "          document.getElementsByTagName(\"head\")[0].appendChild(s);\n",
       "          s.async = true;\n",
       "          s.onload = () => {\n",
       "            VEGA_DEBUG[key] = version;\n",
       "            return resolve(paths[lib]);\n",
       "          };\n",
       "          s.onerror = () => reject(`Error loading script: ${paths[lib]}`);\n",
       "          s.src = paths[lib];\n",
       "        });\n",
       "    }\n",
       "\n",
       "    function showError(err) {\n",
       "      outputDiv.innerHTML = `<div class=\"error\" style=\"color:red;\">${err}</div>`;\n",
       "      throw err;\n",
       "    }\n",
       "\n",
       "    function displayChart(vegaEmbed) {\n",
       "      vegaEmbed(outputDiv, spec, embedOpt)\n",
       "        .catch(err => showError(`Javascript Error: ${err.message}<br>This usually means there's a typo in your chart specification. See the javascript console for the full traceback.`));\n",
       "    }\n",
       "\n",
       "    if(typeof define === \"function\" && define.amd) {\n",
       "      requirejs.config({paths});\n",
       "      require([\"vega-embed\"], displayChart, err => showError(`Error loading script: ${err.message}`));\n",
       "    } else {\n",
       "      maybeLoadScript(\"vega\", \"5\")\n",
       "        .then(() => maybeLoadScript(\"vega-lite\", \"4.17.0\"))\n",
       "        .then(() => maybeLoadScript(\"vega-embed\", \"6\"))\n",
       "        .catch(showError)\n",
       "        .then(() => displayChart(vegaEmbed));\n",
       "    }\n",
       "  })({\"config\": {\"view\": {\"continuousWidth\": 400, \"continuousHeight\": 300}, \"axis\": {\"domainColor\": \"#cbcbcb\", \"grid\": true, \"gridColor\": \"#cbcbcb\", \"gridWidth\": 1, \"labelColor\": \"#474747\", \"labelFont\": \"Nunito Sans\", \"labelFontSize\": 10, \"labelPadding\": 4, \"tickColor\": \"#cbcbcb\", \"tickSize\": 10, \"titleColor\": \"#333\", \"titleFont\": \"Raleway\", \"titleFontSize\": 12, \"titlePadding\": 10}, \"axisBand\": {\"grid\": false}, \"background\": \"white\", \"font\": \"Raleway\", \"header\": {\"labelFont\": \"Nunito Sans\", \"titleFont\": \"Raleway\"}, \"legend\": {\"labelColor\": \"#333\", \"labelFont\": \"Nunito Sans\", \"labelFontSize\": 11, \"labelLimit\": 0, \"padding\": 1, \"symbolSize\": 30, \"symbolType\": \"square\", \"titleColor\": \"#333\", \"titleFont\": \"Raleway\", \"titleFontSize\": 14, \"titlePadding\": 10}, \"title\": {\"anchor\": \"middle\", \"font\": \"Raleway\", \"fontSize\": 18, \"fontWeight\": 300, \"offset\": 20}}, \"data\": {\"name\": \"data-6ee773ece2784664aec02a5889ca3716\"}, \"mark\": \"bar\", \"encoding\": {\"color\": {\"field\": \"primary_agency_name\", \"legend\": {\"symbolLimit\": 10, \"title\": \"Agency\"}, \"scale\": {\"range\": [\"#2EA8CE\", \"#EB9F3C\", \"#F4D837\", \"#51BF9D\", \"#8CBCCB\", \"#9487C0\"]}, \"type\": \"nominal\"}, \"tooltip\": [{\"field\": \"primary_agency_name\", \"type\": \"nominal\"}, {\"field\": \"avg_funds\", \"type\": \"quantitative\"}], \"x\": {\"field\": \"primary_agency_name\", \"sort\": \"-y\", \"title\": \"Agency\", \"type\": \"nominal\"}, \"y\": {\"field\": \"avg_funds\", \"title\": \"Avg Funds\", \"type\": \"quantitative\"}}, \"height\": 250, \"title\": \"Lowest Average Total Funds by Agency ($2021\", \"width\": 400, \"$schema\": \"https://vega.github.io/schema/vega-lite/v4.17.0.json\", \"datasets\": {\"data-6ee773ece2784664aec02a5889ca3716\": [{\"primary_agency_name\": \"Sonoma County Transit\", \"avg_funds\": 209400.28628391636}, {\"primary_agency_name\": \"San Carlos\", \"avg_funds\": 195352.6449073997}, {\"primary_agency_name\": \"Piedmont\", \"avg_funds\": 190760.41726856382}, {\"primary_agency_name\": \"Atherton\", \"avg_funds\": 189021.4817482291}, {\"primary_agency_name\": \"Half Moon Bay\", \"avg_funds\": 183097.36457084562}, {\"primary_agency_name\": \"American Canyon\", \"avg_funds\": 181783.35619090492}, {\"primary_agency_name\": \"Dixon\", \"avg_funds\": 159895.18332872592}, {\"primary_agency_name\": \"Sausalito\", \"avg_funds\": 157473.10502418404}, {\"primary_agency_name\": \"Martinez\", \"avg_funds\": 156009.86914391367}, {\"primary_agency_name\": \"Union City\", \"avg_funds\": 155611.1086336373}, {\"primary_agency_name\": \"Los Gatos\", \"avg_funds\": 155434.17508708214}, {\"primary_agency_name\": \"Central Contra Costa Transit Authority\", \"avg_funds\": 154217.75605234606}, {\"primary_agency_name\": \"San Bruno\", \"avg_funds\": 152407.82923896099}, {\"primary_agency_name\": \"Suisun City\", \"avg_funds\": 151418.50574405276}, {\"primary_agency_name\": \"Benicia\", \"avg_funds\": 147780.2993583272}, {\"primary_agency_name\": \"San Leandro\", \"avg_funds\": 141063.9265435573}, {\"primary_agency_name\": \"Marin County Transit District\", \"avg_funds\": 133607.7554954071}, {\"primary_agency_name\": \"Los Altos Hills\", \"avg_funds\": 126359.46557868482}, {\"primary_agency_name\": \"Lafayette\", \"avg_funds\": 113795.81923695427}, {\"primary_agency_name\": \"Brisbane\", \"avg_funds\": 112588.71503767227}, {\"primary_agency_name\": \"Mill Valley\", \"avg_funds\": 109664.46894297254}, {\"primary_agency_name\": \"Yountville\", \"avg_funds\": 84679.82503576957}, {\"primary_agency_name\": \"Portola Valley\", \"avg_funds\": 67766.31412368998}, {\"primary_agency_name\": \"Ross\", \"avg_funds\": 67288.6177957387}, {\"primary_agency_name\": \"Monte Sereno\", \"avg_funds\": 67187.74602751632}, {\"primary_agency_name\": \"Cloverdale\", \"avg_funds\": 58604.39471393052}, {\"primary_agency_name\": \"University Of California\", \"avg_funds\": 57010.98024172055}, {\"primary_agency_name\": \"Rio Vista\", \"avg_funds\": 54416.69340448155}, {\"primary_agency_name\": \"San Anselmo\", \"avg_funds\": 45621.3531559128}, {\"primary_agency_name\": \"Sebastopol\", \"avg_funds\": 43484.853863406526}, {\"primary_agency_name\": \"St Helena\", \"avg_funds\": 37096.32723603044}, {\"primary_agency_name\": \"Albany\", \"avg_funds\": 36486.32899944957}, {\"primary_agency_name\": \"Department of Parks and Recreation\", \"avg_funds\": 5390.479102014346}, {\"primary_agency_name\": \"Napa County Office of Education\", \"avg_funds\": 2289.2037464298137}, {\"primary_agency_name\": \"Alameda County Transportation Improvement Authority\", \"avg_funds\": 0.0}, {\"primary_agency_name\": \"Alameda County Waste Management Authority\", \"avg_funds\": 0.0}, {\"primary_agency_name\": \"Santa Cruz\", \"avg_funds\": -1527.5478423239308}, {\"primary_agency_name\": \"University of California at San Francisco\", \"avg_funds\": -6367.502687761783}, {\"primary_agency_name\": \"Santa Clara Valley Transportation Authority\", \"avg_funds\": -227992.34193115283}, {\"primary_agency_name\": \"Port Of Oakland\", \"avg_funds\": -325706.2192806022}]}}, {\"mode\": \"vega-lite\"});\n",
       "</script>"
      ],
      "text/plain": [
       "alt.Chart(...)"
      ]
     },
     "metadata": {},
     "output_type": "display_data"
    },
    {
     "data": {
      "text/html": [
       "\n",
       "<div id=\"altair-viz-b7f03ccb8f674ab492a3a0aed8d8453d\"></div>\n",
       "<script type=\"text/javascript\">\n",
       "  var VEGA_DEBUG = (typeof VEGA_DEBUG == \"undefined\") ? {} : VEGA_DEBUG;\n",
       "  (function(spec, embedOpt){\n",
       "    let outputDiv = document.currentScript.previousElementSibling;\n",
       "    if (outputDiv.id !== \"altair-viz-b7f03ccb8f674ab492a3a0aed8d8453d\") {\n",
       "      outputDiv = document.getElementById(\"altair-viz-b7f03ccb8f674ab492a3a0aed8d8453d\");\n",
       "    }\n",
       "    const paths = {\n",
       "      \"vega\": \"https://cdn.jsdelivr.net/npm//vega@5?noext\",\n",
       "      \"vega-lib\": \"https://cdn.jsdelivr.net/npm//vega-lib?noext\",\n",
       "      \"vega-lite\": \"https://cdn.jsdelivr.net/npm//vega-lite@4.17.0?noext\",\n",
       "      \"vega-embed\": \"https://cdn.jsdelivr.net/npm//vega-embed@6?noext\",\n",
       "    };\n",
       "\n",
       "    function maybeLoadScript(lib, version) {\n",
       "      var key = `${lib.replace(\"-\", \"\")}_version`;\n",
       "      return (VEGA_DEBUG[key] == version) ?\n",
       "        Promise.resolve(paths[lib]) :\n",
       "        new Promise(function(resolve, reject) {\n",
       "          var s = document.createElement('script');\n",
       "          document.getElementsByTagName(\"head\")[0].appendChild(s);\n",
       "          s.async = true;\n",
       "          s.onload = () => {\n",
       "            VEGA_DEBUG[key] = version;\n",
       "            return resolve(paths[lib]);\n",
       "          };\n",
       "          s.onerror = () => reject(`Error loading script: ${paths[lib]}`);\n",
       "          s.src = paths[lib];\n",
       "        });\n",
       "    }\n",
       "\n",
       "    function showError(err) {\n",
       "      outputDiv.innerHTML = `<div class=\"error\" style=\"color:red;\">${err}</div>`;\n",
       "      throw err;\n",
       "    }\n",
       "\n",
       "    function displayChart(vegaEmbed) {\n",
       "      vegaEmbed(outputDiv, spec, embedOpt)\n",
       "        .catch(err => showError(`Javascript Error: ${err.message}<br>This usually means there's a typo in your chart specification. See the javascript console for the full traceback.`));\n",
       "    }\n",
       "\n",
       "    if(typeof define === \"function\" && define.amd) {\n",
       "      requirejs.config({paths});\n",
       "      require([\"vega-embed\"], displayChart, err => showError(`Error loading script: ${err.message}`));\n",
       "    } else {\n",
       "      maybeLoadScript(\"vega\", \"5\")\n",
       "        .then(() => maybeLoadScript(\"vega-lite\", \"4.17.0\"))\n",
       "        .then(() => maybeLoadScript(\"vega-embed\", \"6\"))\n",
       "        .catch(showError)\n",
       "        .then(() => displayChart(vegaEmbed));\n",
       "    }\n",
       "  })({\"config\": {\"view\": {\"continuousWidth\": 400, \"continuousHeight\": 300}, \"axis\": {\"domainColor\": \"#cbcbcb\", \"grid\": true, \"gridColor\": \"#cbcbcb\", \"gridWidth\": 1, \"labelColor\": \"#474747\", \"labelFont\": \"Nunito Sans\", \"labelFontSize\": 10, \"labelPadding\": 4, \"tickColor\": \"#cbcbcb\", \"tickSize\": 10, \"titleColor\": \"#333\", \"titleFont\": \"Raleway\", \"titleFontSize\": 12, \"titlePadding\": 10}, \"axisBand\": {\"grid\": false}, \"background\": \"white\", \"font\": \"Raleway\", \"header\": {\"labelFont\": \"Nunito Sans\", \"titleFont\": \"Raleway\"}, \"legend\": {\"labelColor\": \"#333\", \"labelFont\": \"Nunito Sans\", \"labelFontSize\": 11, \"labelLimit\": 0, \"padding\": 1, \"symbolSize\": 30, \"symbolType\": \"square\", \"titleColor\": \"#333\", \"titleFont\": \"Raleway\", \"titleFontSize\": 14, \"titlePadding\": 10}, \"title\": {\"anchor\": \"middle\", \"font\": \"Raleway\", \"fontSize\": 18, \"fontWeight\": 300, \"offset\": 20}}, \"data\": {\"name\": \"data-99bf62fdadebd8d65ff9e5f36850bcee\"}, \"mark\": \"bar\", \"encoding\": {\"color\": {\"field\": \"prefix\", \"legend\": {\"symbolLimit\": 10, \"title\": \"Prefix\"}, \"scale\": {\"range\": [\"#2EA8CE\", \"#EB9F3C\", \"#F4D837\", \"#51BF9D\", \"#8CBCCB\", \"#9487C0\"]}, \"type\": \"nominal\"}, \"tooltip\": [{\"field\": \"prefix\", \"type\": \"nominal\"}, {\"field\": \"adjusted_total_requested\", \"type\": \"quantitative\"}], \"x\": {\"field\": \"prefix\", \"sort\": \"-y\", \"title\": \"Prefix\", \"type\": \"nominal\"}, \"y\": {\"field\": \"adjusted_total_requested\", \"title\": \"Adjusted Total Requested\", \"type\": \"quantitative\"}}, \"height\": 250, \"title\": \"Average Total Requested Funds by Prefix ($2021)\", \"width\": 400, \"$schema\": \"https://vega.github.io/schema/vega-lite/v4.17.0.json\", \"datasets\": {\"data-99bf62fdadebd8d65ff9e5f36850bcee\": [{\"prefix\": \"BUILDL\", \"adjusted_total_requested\": 100043553.12716283}, {\"prefix\": \"NCIIPL\", \"adjusted_total_requested\": 31030822.136926275}, {\"prefix\": \"ATCMTD\", \"adjusted_total_requested\": 23274080.53390696}, {\"prefix\": \"ESPLEH\", \"adjusted_total_requested\": 22793698.273744546}, {\"prefix\": \"FTASTPCM\", \"adjusted_total_requested\": 9244428.96573825}, {\"prefix\": \"HPLUN\", \"adjusted_total_requested\": 9022468.88374991}, {\"prefix\": \"FERPL\", \"adjusted_total_requested\": 8784520.256495953}, {\"prefix\": \"ESPSEH\", \"adjusted_total_requested\": 6979458.783465311}, {\"prefix\": \"FTACML\", \"adjusted_total_requested\": 6330609.048928619}, {\"prefix\": \"BHLS\", \"adjusted_total_requested\": 4917558.097209132}, {\"prefix\": \"FTACRRSA\", \"adjusted_total_requested\": 4335003.691867984}, {\"prefix\": \"FTAFERPL\", \"adjusted_total_requested\": 3543087.546328245}, {\"prefix\": \"STPLNI\", \"adjusted_total_requested\": 2888447.7670971584}, {\"prefix\": \"STP\", \"adjusted_total_requested\": 2625815.8366951165}, {\"prefix\": \"TCESB1L\", \"adjusted_total_requested\": 2451624.9202911104}, {\"prefix\": \"FTACMSPL\", \"adjusted_total_requested\": 2439230.897893468}, {\"prefix\": \"ATPSB1L\", \"adjusted_total_requested\": 2239865.8713008775}, {\"prefix\": \"LPPSTPL\", \"adjusted_total_requested\": 2212779.799503621}, {\"prefix\": \"BRLZ\", \"adjusted_total_requested\": 1850302.659280733}, {\"prefix\": \"FTASTPL\", \"adjusted_total_requested\": 1686785.0827721134}, {\"prefix\": \"ATPL\", \"adjusted_total_requested\": 1678747.922242578}, {\"prefix\": \"HP21L\", \"adjusted_total_requested\": 1442323.3873705992}, {\"prefix\": \"FTAATP\", \"adjusted_total_requested\": 1436033.4443832503}, {\"prefix\": \"STPLR\", \"adjusted_total_requested\": 1346890.1934756166}, {\"prefix\": \"STPLZ\", \"adjusted_total_requested\": 1308474.2295569642}, {\"prefix\": \"TCSPCM\", \"adjusted_total_requested\": 1207841.576513245}, {\"prefix\": \"ATPHSIP\", \"adjusted_total_requested\": 1205629.5794587855}, {\"prefix\": \"BRLS\", \"adjusted_total_requested\": 1201146.0527447409}, {\"prefix\": \"CMSTPL\", \"adjusted_total_requested\": 1178893.2241298074}, {\"prefix\": \"FTASTPCML\", \"adjusted_total_requested\": 1150000.979388277}]}}, {\"mode\": \"vega-lite\"});\n",
       "</script>"
      ],
      "text/plain": [
       "alt.Chart(...)"
      ]
     },
     "metadata": {},
     "output_type": "display_data"
    },
    {
     "data": {
      "text/html": [
       "<h2>Work Categories</h2>"
      ],
      "text/plain": [
       "<IPython.core.display.HTML object>"
      ]
     },
     "metadata": {},
     "output_type": "display_data"
    },
    {
     "data": {
      "application/vnd.jupyter.widget-view+json": {
       "model_id": "f82eaa6a7bee453394e2e79a680c7549",
       "version_major": 2,
       "version_minor": 0
      },
      "text/plain": [
       "Tab(children=(Output(), Output(), Output(), Output(), Output(), Output(), Output()), _titles={'0': 'Active Tra…"
      ]
     },
     "metadata": {},
     "output_type": "display_data"
    }
   ],
   "source": [
    "gen_report.make_charts(df, district)"
   ]
  },
  {
   "cell_type": "code",
   "execution_count": null,
   "id": "a9277b94-4ff6-4424-884b-35cf2fa383bc",
   "metadata": {
    "jupyter": {
     "source_hidden": true
    },
    "papermill": {
     "duration": 0.04488,
     "end_time": "2022-04-19T20:22:20.702196",
     "exception": false,
     "start_time": "2022-04-19T20:22:20.657316",
     "status": "completed"
    },
    "tags": [
     "remove_input"
    ]
   },
   "outputs": [],
   "source": []
  },
  {
   "cell_type": "code",
   "execution_count": null,
   "id": "7ca5f79b-fadb-45bb-9a95-5903f17aad97",
   "metadata": {
    "jupyter": {
     "source_hidden": true
    },
    "papermill": {
     "duration": 0.032637,
     "end_time": "2022-04-19T20:22:20.789050",
     "exception": false,
     "start_time": "2022-04-19T20:22:20.756413",
     "status": "completed"
    },
    "tags": [
     "remove_input"
    ]
   },
   "outputs": [],
   "source": []
  }
 ],
 "metadata": {
  "kernelspec": {
   "display_name": "Python 3 (ipykernel)",
   "language": "python",
   "name": "python3"
  },
  "language_info": {
   "codemirror_mode": {
    "name": "ipython",
    "version": 3
   },
   "file_extension": ".py",
   "mimetype": "text/x-python",
   "name": "python",
   "nbconvert_exporter": "python",
   "pygments_lexer": "ipython3",
   "version": "3.9.10"
  },
  "papermill": {
   "default_parameters": {},
   "duration": 33.280798,
   "end_time": "2022-04-19T20:22:22.142401",
   "environment_variables": {},
   "exception": null,
   "input_path": "dla/e76_obligated_funds/report_test.ipynb",
   "output_path": "target/dla/e76_obligated_funds/report_test__district_4.ipynb",
   "parameters": {
    "district": 4
   },
   "start_time": "2022-04-19T20:21:48.861603",
   "version": "2.3.4"
  },
  "widgets": {
   "application/vnd.jupyter.widget-state+json": {
    "state": {
     "17f9043c5e754a0a9c66ce6bccc2f649": {
      "model_module": "@jupyter-widgets/output",
      "model_module_version": "1.0.0",
      "model_name": "OutputModel",
      "state": {
       "_dom_classes": [],
       "_model_module": "@jupyter-widgets/output",
       "_model_module_version": "1.0.0",
       "_model_name": "OutputModel",
       "_view_count": null,
       "_view_module": "@jupyter-widgets/output",
       "_view_module_version": "1.0.0",
       "_view_name": "OutputView",
       "layout": "IPY_MODEL_5f8086650df04521b9d019028996f704",
       "msg_id": "",
       "outputs": [
        {
         "data": {
          "text/markdown": "<h3>Top Agencies using Bridge Projects</h3>",
          "text/plain": "<IPython.core.display.Markdown object>"
         },
         "metadata": {},
         "output_type": "display_data"
        },
        {
         "data": {
          "text/html": "<style type=\"text/css\">\n</style>\n<table id=\"T_9ac53\">\n  <thead>\n    <tr>\n      <th class=\"blank level0\" >&nbsp;</th>\n      <th id=\"T_9ac53_level0_col0\" class=\"col_heading level0 col0\" >Agency</th>\n      <th id=\"T_9ac53_level0_col1\" class=\"col_heading level0 col1\" >Bridge Obligations</th>\n      <th id=\"T_9ac53_level0_col2\" class=\"col_heading level0 col2\" >Percent of Category</th>\n    </tr>\n  </thead>\n  <tbody>\n    <tr>\n      <th id=\"T_9ac53_level0_row0\" class=\"row_heading level0 row0\" >0</th>\n      <td id=\"T_9ac53_row0_col0\" class=\"data row0 col0\" >Santa Clara County</td>\n      <td id=\"T_9ac53_row0_col1\" class=\"data row0 col1\" >68</td>\n      <td id=\"T_9ac53_row0_col2\" class=\"data row0 col2\" >14.17%</td>\n    </tr>\n    <tr>\n      <th id=\"T_9ac53_level0_row1\" class=\"row_heading level0 row1\" >1</th>\n      <td id=\"T_9ac53_row1_col0\" class=\"data row1 col0\" >Contra Costa County</td>\n      <td id=\"T_9ac53_row1_col1\" class=\"data row1 col1\" >44</td>\n      <td id=\"T_9ac53_row1_col2\" class=\"data row1 col2\" >9.17%</td>\n    </tr>\n    <tr>\n      <th id=\"T_9ac53_level0_row2\" class=\"row_heading level0 row2\" >2</th>\n      <td id=\"T_9ac53_row2_col0\" class=\"data row2 col0\" >Sonoma County</td>\n      <td id=\"T_9ac53_row2_col1\" class=\"data row2 col1\" >34</td>\n      <td id=\"T_9ac53_row2_col2\" class=\"data row2 col2\" >7.08%</td>\n    </tr>\n    <tr>\n      <th id=\"T_9ac53_level0_row3\" class=\"row_heading level0 row3\" >3</th>\n      <td id=\"T_9ac53_row3_col0\" class=\"data row3 col0\" >Napa County</td>\n      <td id=\"T_9ac53_row3_col1\" class=\"data row3 col1\" >25</td>\n      <td id=\"T_9ac53_row3_col2\" class=\"data row3 col2\" >5.21%</td>\n    </tr>\n    <tr>\n      <th id=\"T_9ac53_level0_row4\" class=\"row_heading level0 row4\" >4</th>\n      <td id=\"T_9ac53_row4_col0\" class=\"data row4 col0\" >Oakland</td>\n      <td id=\"T_9ac53_row4_col1\" class=\"data row4 col1\" >22</td>\n      <td id=\"T_9ac53_row4_col2\" class=\"data row4 col2\" >4.58%</td>\n    </tr>\n  </tbody>\n</table>\n",
          "text/plain": "<pandas.io.formats.style.Styler at 0x7f1a972032e0>"
         },
         "metadata": {},
         "output_type": "display_data"
        }
       ]
      }
     },
     "3be7741fe24c49a48b9cc56018181393": {
      "model_module": "@jupyter-widgets/base",
      "model_module_version": "1.2.0",
      "model_name": "LayoutModel",
      "state": {
       "_model_module": "@jupyter-widgets/base",
       "_model_module_version": "1.2.0",
       "_model_name": "LayoutModel",
       "_view_count": null,
       "_view_module": "@jupyter-widgets/base",
       "_view_module_version": "1.2.0",
       "_view_name": "LayoutView",
       "align_content": null,
       "align_items": null,
       "align_self": null,
       "border": null,
       "bottom": null,
       "display": null,
       "flex": null,
       "flex_flow": null,
       "grid_area": null,
       "grid_auto_columns": null,
       "grid_auto_flow": null,
       "grid_auto_rows": null,
       "grid_column": null,
       "grid_gap": null,
       "grid_row": null,
       "grid_template_areas": null,
       "grid_template_columns": null,
       "grid_template_rows": null,
       "height": null,
       "justify_content": null,
       "justify_items": null,
       "left": null,
       "margin": null,
       "max_height": null,
       "max_width": null,
       "min_height": null,
       "min_width": null,
       "object_fit": null,
       "object_position": null,
       "order": null,
       "overflow": null,
       "overflow_x": null,
       "overflow_y": null,
       "padding": null,
       "right": null,
       "top": null,
       "visibility": null,
       "width": null
      }
     },
     "54e417ce444f4d4f9a2b90efebcc4508": {
      "model_module": "@jupyter-widgets/output",
      "model_module_version": "1.0.0",
      "model_name": "OutputModel",
      "state": {
       "_dom_classes": [],
       "_model_module": "@jupyter-widgets/output",
       "_model_module_version": "1.0.0",
       "_model_name": "OutputModel",
       "_view_count": null,
       "_view_module": "@jupyter-widgets/output",
       "_view_module_version": "1.0.0",
       "_view_name": "OutputView",
       "layout": "IPY_MODEL_3be7741fe24c49a48b9cc56018181393",
       "msg_id": "",
       "outputs": [
        {
         "data": {
          "text/markdown": "<h3>Top Agencies using Infrastructure & Emergency Relief Projects</h3>",
          "text/plain": "<IPython.core.display.Markdown object>"
         },
         "metadata": {},
         "output_type": "display_data"
        },
        {
         "data": {
          "text/html": "<style type=\"text/css\">\n</style>\n<table id=\"T_a14d0\">\n  <thead>\n    <tr>\n      <th class=\"blank level0\" >&nbsp;</th>\n      <th id=\"T_a14d0_level0_col0\" class=\"col_heading level0 col0\" >Agency</th>\n      <th id=\"T_a14d0_level0_col1\" class=\"col_heading level0 col1\" >Infrastructure & Emergency Relief Obligations</th>\n      <th id=\"T_a14d0_level0_col2\" class=\"col_heading level0 col2\" >Percent of Category</th>\n    </tr>\n  </thead>\n  <tbody>\n    <tr>\n      <th id=\"T_a14d0_level0_row0\" class=\"row_heading level0 row0\" >0</th>\n      <td id=\"T_a14d0_row0_col0\" class=\"data row0 col0\" >Contra Costa County</td>\n      <td id=\"T_a14d0_row0_col1\" class=\"data row0 col1\" >102</td>\n      <td id=\"T_a14d0_row0_col2\" class=\"data row0 col2\" >5.21%</td>\n    </tr>\n    <tr>\n      <th id=\"T_a14d0_level0_row1\" class=\"row_heading level0 row1\" >1</th>\n      <td id=\"T_a14d0_row1_col0\" class=\"data row1 col0\" >Napa County</td>\n      <td id=\"T_a14d0_row1_col1\" class=\"data row1 col1\" >88</td>\n      <td id=\"T_a14d0_row1_col2\" class=\"data row1 col2\" >4.50%</td>\n    </tr>\n    <tr>\n      <th id=\"T_a14d0_level0_row2\" class=\"row_heading level0 row2\" >2</th>\n      <td id=\"T_a14d0_row2_col0\" class=\"data row2 col0\" >Santa Clara County</td>\n      <td id=\"T_a14d0_row2_col1\" class=\"data row2 col1\" >82</td>\n      <td id=\"T_a14d0_row2_col2\" class=\"data row2 col2\" >4.19%</td>\n    </tr>\n    <tr>\n      <th id=\"T_a14d0_level0_row3\" class=\"row_heading level0 row3\" >3</th>\n      <td id=\"T_a14d0_row3_col0\" class=\"data row3 col0\" >Sonoma County</td>\n      <td id=\"T_a14d0_row3_col1\" class=\"data row3 col1\" >71</td>\n      <td id=\"T_a14d0_row3_col2\" class=\"data row3 col2\" >3.63%</td>\n    </tr>\n    <tr>\n      <th id=\"T_a14d0_level0_row4\" class=\"row_heading level0 row4\" >4</th>\n      <td id=\"T_a14d0_row4_col0\" class=\"data row4 col0\" >Oakland</td>\n      <td id=\"T_a14d0_row4_col1\" class=\"data row4 col1\" >70</td>\n      <td id=\"T_a14d0_row4_col2\" class=\"data row4 col2\" >3.58%</td>\n    </tr>\n  </tbody>\n</table>\n",
          "text/plain": "<pandas.io.formats.style.Styler at 0x7f1a97246bb0>"
         },
         "metadata": {},
         "output_type": "display_data"
        }
       ]
      }
     },
     "5be4c814ae78481c81303b4549cf9387": {
      "model_module": "@jupyter-widgets/base",
      "model_module_version": "1.2.0",
      "model_name": "LayoutModel",
      "state": {
       "_model_module": "@jupyter-widgets/base",
       "_model_module_version": "1.2.0",
       "_model_name": "LayoutModel",
       "_view_count": null,
       "_view_module": "@jupyter-widgets/base",
       "_view_module_version": "1.2.0",
       "_view_name": "LayoutView",
       "align_content": null,
       "align_items": null,
       "align_self": null,
       "border": null,
       "bottom": null,
       "display": null,
       "flex": null,
       "flex_flow": null,
       "grid_area": null,
       "grid_auto_columns": null,
       "grid_auto_flow": null,
       "grid_auto_rows": null,
       "grid_column": null,
       "grid_gap": null,
       "grid_row": null,
       "grid_template_areas": null,
       "grid_template_columns": null,
       "grid_template_rows": null,
       "height": null,
       "justify_content": null,
       "justify_items": null,
       "left": null,
       "margin": null,
       "max_height": null,
       "max_width": null,
       "min_height": null,
       "min_width": null,
       "object_fit": null,
       "object_position": null,
       "order": null,
       "overflow": null,
       "overflow_x": null,
       "overflow_y": null,
       "padding": null,
       "right": null,
       "top": null,
       "visibility": null,
       "width": null
      }
     },
     "5f8086650df04521b9d019028996f704": {
      "model_module": "@jupyter-widgets/base",
      "model_module_version": "1.2.0",
      "model_name": "LayoutModel",
      "state": {
       "_model_module": "@jupyter-widgets/base",
       "_model_module_version": "1.2.0",
       "_model_name": "LayoutModel",
       "_view_count": null,
       "_view_module": "@jupyter-widgets/base",
       "_view_module_version": "1.2.0",
       "_view_name": "LayoutView",
       "align_content": null,
       "align_items": null,
       "align_self": null,
       "border": null,
       "bottom": null,
       "display": null,
       "flex": null,
       "flex_flow": null,
       "grid_area": null,
       "grid_auto_columns": null,
       "grid_auto_flow": null,
       "grid_auto_rows": null,
       "grid_column": null,
       "grid_gap": null,
       "grid_row": null,
       "grid_template_areas": null,
       "grid_template_columns": null,
       "grid_template_rows": null,
       "height": null,
       "justify_content": null,
       "justify_items": null,
       "left": null,
       "margin": null,
       "max_height": null,
       "max_width": null,
       "min_height": null,
       "min_width": null,
       "object_fit": null,
       "object_position": null,
       "order": null,
       "overflow": null,
       "overflow_x": null,
       "overflow_y": null,
       "padding": null,
       "right": null,
       "top": null,
       "visibility": null,
       "width": null
      }
     },
     "7379f607daeb49c29c9de5c323a72ff7": {
      "model_module": "@jupyter-widgets/output",
      "model_module_version": "1.0.0",
      "model_name": "OutputModel",
      "state": {
       "_dom_classes": [],
       "_model_module": "@jupyter-widgets/output",
       "_model_module_version": "1.0.0",
       "_model_name": "OutputModel",
       "_view_count": null,
       "_view_module": "@jupyter-widgets/output",
       "_view_module_version": "1.0.0",
       "_view_name": "OutputView",
       "layout": "IPY_MODEL_820f402d0e7e41058fd6805d6f8a95ae",
       "msg_id": "",
       "outputs": [
        {
         "data": {
          "text/markdown": "<h3>Top Agencies using Active Transportation Projects</h3>",
          "text/plain": "<IPython.core.display.Markdown object>"
         },
         "metadata": {},
         "output_type": "display_data"
        },
        {
         "data": {
          "text/html": "<style type=\"text/css\">\n</style>\n<table id=\"T_a84a6\">\n  <thead>\n    <tr>\n      <th class=\"blank level0\" >&nbsp;</th>\n      <th id=\"T_a84a6_level0_col0\" class=\"col_heading level0 col0\" >Agency</th>\n      <th id=\"T_a84a6_level0_col1\" class=\"col_heading level0 col1\" >Active Transportation Obligations</th>\n      <th id=\"T_a84a6_level0_col2\" class=\"col_heading level0 col2\" >Percent of Category</th>\n    </tr>\n  </thead>\n  <tbody>\n    <tr>\n      <th id=\"T_a84a6_level0_row0\" class=\"row_heading level0 row0\" >0</th>\n      <td id=\"T_a84a6_row0_col0\" class=\"data row0 col0\" >San Jose</td>\n      <td id=\"T_a84a6_row0_col1\" class=\"data row0 col1\" >79</td>\n      <td id=\"T_a84a6_row0_col2\" class=\"data row0 col2\" >7.38%</td>\n    </tr>\n    <tr>\n      <th id=\"T_a84a6_level0_row1\" class=\"row_heading level0 row1\" >1</th>\n      <td id=\"T_a84a6_row1_col0\" class=\"data row1 col0\" >Oakland</td>\n      <td id=\"T_a84a6_row1_col1\" class=\"data row1 col1\" >65</td>\n      <td id=\"T_a84a6_row1_col2\" class=\"data row1 col2\" >6.07%</td>\n    </tr>\n    <tr>\n      <th id=\"T_a84a6_level0_row2\" class=\"row_heading level0 row2\" >2</th>\n      <td id=\"T_a84a6_row2_col0\" class=\"data row2 col0\" >City & County of San Francisco, MTA/Parking & Traffic</td>\n      <td id=\"T_a84a6_row2_col1\" class=\"data row2 col1\" >46</td>\n      <td id=\"T_a84a6_row2_col2\" class=\"data row2 col2\" >4.30%</td>\n    </tr>\n    <tr>\n      <th id=\"T_a84a6_level0_row3\" class=\"row_heading level0 row3\" >3</th>\n      <td id=\"T_a84a6_row3_col0\" class=\"data row3 col0\" >Sunnyvale</td>\n      <td id=\"T_a84a6_row3_col1\" class=\"data row3 col1\" >45</td>\n      <td id=\"T_a84a6_row3_col2\" class=\"data row3 col2\" >4.21%</td>\n    </tr>\n    <tr>\n      <th id=\"T_a84a6_level0_row4\" class=\"row_heading level0 row4\" >4</th>\n      <td id=\"T_a84a6_row4_col0\" class=\"data row4 col0\" >Contra Costa County</td>\n      <td id=\"T_a84a6_row4_col1\" class=\"data row4 col1\" >39</td>\n      <td id=\"T_a84a6_row4_col2\" class=\"data row4 col2\" >3.64%</td>\n    </tr>\n  </tbody>\n</table>\n",
          "text/plain": "<pandas.io.formats.style.Styler at 0x7f1a97209dc0>"
         },
         "metadata": {},
         "output_type": "display_data"
        }
       ]
      }
     },
     "73db726aacf04adca4bda934dcb69fd5": {
      "model_module": "@jupyter-widgets/output",
      "model_module_version": "1.0.0",
      "model_name": "OutputModel",
      "state": {
       "_dom_classes": [],
       "_model_module": "@jupyter-widgets/output",
       "_model_module_version": "1.0.0",
       "_model_name": "OutputModel",
       "_view_count": null,
       "_view_module": "@jupyter-widgets/output",
       "_view_module_version": "1.0.0",
       "_view_name": "OutputView",
       "layout": "IPY_MODEL_f9ac54c5981c494ab4f690ec7c5fb644",
       "msg_id": "",
       "outputs": [
        {
         "data": {
          "text/markdown": "<h3>Top Agencies using Congestion Relief Projects</h3>",
          "text/plain": "<IPython.core.display.Markdown object>"
         },
         "metadata": {},
         "output_type": "display_data"
        },
        {
         "data": {
          "text/html": "<style type=\"text/css\">\n</style>\n<table id=\"T_45e3e\">\n  <thead>\n    <tr>\n      <th class=\"blank level0\" >&nbsp;</th>\n      <th id=\"T_45e3e_level0_col0\" class=\"col_heading level0 col0\" >Agency</th>\n      <th id=\"T_45e3e_level0_col1\" class=\"col_heading level0 col1\" >Congestion Relief Obligations</th>\n      <th id=\"T_45e3e_level0_col2\" class=\"col_heading level0 col2\" >Percent of Category</th>\n    </tr>\n  </thead>\n  <tbody>\n    <tr>\n      <th id=\"T_45e3e_level0_row0\" class=\"row_heading level0 row0\" >0</th>\n      <td id=\"T_45e3e_row0_col0\" class=\"data row0 col0\" >Contra Costa Transportation Authority</td>\n      <td id=\"T_45e3e_row0_col1\" class=\"data row0 col1\" >6</td>\n      <td id=\"T_45e3e_row0_col2\" class=\"data row0 col2\" >22.22%</td>\n    </tr>\n    <tr>\n      <th id=\"T_45e3e_level0_row1\" class=\"row_heading level0 row1\" >1</th>\n      <td id=\"T_45e3e_row1_col0\" class=\"data row1 col0\" >Metropolitan Transportation Commission</td>\n      <td id=\"T_45e3e_row1_col1\" class=\"data row1 col1\" >5</td>\n      <td id=\"T_45e3e_row1_col2\" class=\"data row1 col2\" >18.52%</td>\n    </tr>\n    <tr>\n      <th id=\"T_45e3e_level0_row2\" class=\"row_heading level0 row2\" >2</th>\n      <td id=\"T_45e3e_row2_col0\" class=\"data row2 col0\" >Sonoma County Transportation Authority</td>\n      <td id=\"T_45e3e_row2_col1\" class=\"data row2 col1\" >4</td>\n      <td id=\"T_45e3e_row2_col2\" class=\"data row2 col2\" >14.81%</td>\n    </tr>\n    <tr>\n      <th id=\"T_45e3e_level0_row3\" class=\"row_heading level0 row3\" >3</th>\n      <td id=\"T_45e3e_row3_col0\" class=\"data row3 col0\" >San Mateo</td>\n      <td id=\"T_45e3e_row3_col1\" class=\"data row3 col1\" >3</td>\n      <td id=\"T_45e3e_row3_col2\" class=\"data row3 col2\" >11.11%</td>\n    </tr>\n    <tr>\n      <th id=\"T_45e3e_level0_row4\" class=\"row_heading level0 row4\" >4</th>\n      <td id=\"T_45e3e_row4_col0\" class=\"data row4 col0\" >Solano Transportation Authority</td>\n      <td id=\"T_45e3e_row4_col1\" class=\"data row4 col1\" >3</td>\n      <td id=\"T_45e3e_row4_col2\" class=\"data row4 col2\" >11.11%</td>\n    </tr>\n  </tbody>\n</table>\n",
          "text/plain": "<pandas.io.formats.style.Styler at 0x7f1a9723c130>"
         },
         "metadata": {},
         "output_type": "display_data"
        }
       ]
      }
     },
     "820f402d0e7e41058fd6805d6f8a95ae": {
      "model_module": "@jupyter-widgets/base",
      "model_module_version": "1.2.0",
      "model_name": "LayoutModel",
      "state": {
       "_model_module": "@jupyter-widgets/base",
       "_model_module_version": "1.2.0",
       "_model_name": "LayoutModel",
       "_view_count": null,
       "_view_module": "@jupyter-widgets/base",
       "_view_module_version": "1.2.0",
       "_view_name": "LayoutView",
       "align_content": null,
       "align_items": null,
       "align_self": null,
       "border": null,
       "bottom": null,
       "display": null,
       "flex": null,
       "flex_flow": null,
       "grid_area": null,
       "grid_auto_columns": null,
       "grid_auto_flow": null,
       "grid_auto_rows": null,
       "grid_column": null,
       "grid_gap": null,
       "grid_row": null,
       "grid_template_areas": null,
       "grid_template_columns": null,
       "grid_template_rows": null,
       "height": null,
       "justify_content": null,
       "justify_items": null,
       "left": null,
       "margin": null,
       "max_height": null,
       "max_width": null,
       "min_height": null,
       "min_width": null,
       "object_fit": null,
       "object_position": null,
       "order": null,
       "overflow": null,
       "overflow_x": null,
       "overflow_y": null,
       "padding": null,
       "right": null,
       "top": null,
       "visibility": null,
       "width": null
      }
     },
     "8b4c54c2d224447ea9e1ab2a5b6a39c7": {
      "model_module": "@jupyter-widgets/base",
      "model_module_version": "1.2.0",
      "model_name": "LayoutModel",
      "state": {
       "_model_module": "@jupyter-widgets/base",
       "_model_module_version": "1.2.0",
       "_model_name": "LayoutModel",
       "_view_count": null,
       "_view_module": "@jupyter-widgets/base",
       "_view_module_version": "1.2.0",
       "_view_name": "LayoutView",
       "align_content": null,
       "align_items": null,
       "align_self": null,
       "border": null,
       "bottom": null,
       "display": null,
       "flex": null,
       "flex_flow": null,
       "grid_area": null,
       "grid_auto_columns": null,
       "grid_auto_flow": null,
       "grid_auto_rows": null,
       "grid_column": null,
       "grid_gap": null,
       "grid_row": null,
       "grid_template_areas": null,
       "grid_template_columns": null,
       "grid_template_rows": null,
       "height": null,
       "justify_content": null,
       "justify_items": null,
       "left": null,
       "margin": null,
       "max_height": null,
       "max_width": null,
       "min_height": null,
       "min_width": null,
       "object_fit": null,
       "object_position": null,
       "order": null,
       "overflow": null,
       "overflow_x": null,
       "overflow_y": null,
       "padding": null,
       "right": null,
       "top": null,
       "visibility": null,
       "width": null
      }
     },
     "91bd2505af2a41618e4fb536102eed13": {
      "model_module": "@jupyter-widgets/base",
      "model_module_version": "1.2.0",
      "model_name": "LayoutModel",
      "state": {
       "_model_module": "@jupyter-widgets/base",
       "_model_module_version": "1.2.0",
       "_model_name": "LayoutModel",
       "_view_count": null,
       "_view_module": "@jupyter-widgets/base",
       "_view_module_version": "1.2.0",
       "_view_name": "LayoutView",
       "align_content": null,
       "align_items": null,
       "align_self": null,
       "border": null,
       "bottom": null,
       "display": null,
       "flex": null,
       "flex_flow": null,
       "grid_area": null,
       "grid_auto_columns": null,
       "grid_auto_flow": null,
       "grid_auto_rows": null,
       "grid_column": null,
       "grid_gap": null,
       "grid_row": null,
       "grid_template_areas": null,
       "grid_template_columns": null,
       "grid_template_rows": null,
       "height": null,
       "justify_content": null,
       "justify_items": null,
       "left": null,
       "margin": null,
       "max_height": null,
       "max_width": null,
       "min_height": null,
       "min_width": null,
       "object_fit": null,
       "object_position": null,
       "order": null,
       "overflow": null,
       "overflow_x": null,
       "overflow_y": null,
       "padding": null,
       "right": null,
       "top": null,
       "visibility": null,
       "width": null
      }
     },
     "a03b17c71e5547efbc77cf8298d9deaf": {
      "model_module": "@jupyter-widgets/output",
      "model_module_version": "1.0.0",
      "model_name": "OutputModel",
      "state": {
       "_dom_classes": [],
       "_model_module": "@jupyter-widgets/output",
       "_model_module_version": "1.0.0",
       "_model_name": "OutputModel",
       "_view_count": null,
       "_view_module": "@jupyter-widgets/output",
       "_view_module_version": "1.0.0",
       "_view_name": "OutputView",
       "layout": "IPY_MODEL_f19426297c5d4075b9ffe29163c721fc",
       "msg_id": "",
       "outputs": [
        {
         "data": {
          "text/markdown": "<h3>Top Agencies using Street Projects</h3>",
          "text/plain": "<IPython.core.display.Markdown object>"
         },
         "metadata": {},
         "output_type": "display_data"
        },
        {
         "data": {
          "text/html": "<style type=\"text/css\">\n</style>\n<table id=\"T_34e72\">\n  <thead>\n    <tr>\n      <th class=\"blank level0\" >&nbsp;</th>\n      <th id=\"T_34e72_level0_col0\" class=\"col_heading level0 col0\" >Agency</th>\n      <th id=\"T_34e72_level0_col1\" class=\"col_heading level0 col1\" >Street Obligations</th>\n      <th id=\"T_34e72_level0_col2\" class=\"col_heading level0 col2\" >Percent of Category</th>\n    </tr>\n  </thead>\n  <tbody>\n    <tr>\n      <th id=\"T_34e72_level0_row0\" class=\"row_heading level0 row0\" >0</th>\n      <td id=\"T_34e72_row0_col0\" class=\"data row0 col0\" >Oakland</td>\n      <td id=\"T_34e72_row0_col1\" class=\"data row0 col1\" >82</td>\n      <td id=\"T_34e72_row0_col2\" class=\"data row0 col2\" >6.23%</td>\n    </tr>\n    <tr>\n      <th id=\"T_34e72_level0_row1\" class=\"row_heading level0 row1\" >1</th>\n      <td id=\"T_34e72_row1_col0\" class=\"data row1 col0\" >Contra Costa County</td>\n      <td id=\"T_34e72_row1_col1\" class=\"data row1 col1\" >81</td>\n      <td id=\"T_34e72_row1_col2\" class=\"data row1 col2\" >6.15%</td>\n    </tr>\n    <tr>\n      <th id=\"T_34e72_level0_row2\" class=\"row_heading level0 row2\" >2</th>\n      <td id=\"T_34e72_row2_col0\" class=\"data row2 col0\" >San Jose</td>\n      <td id=\"T_34e72_row2_col1\" class=\"data row2 col1\" >66</td>\n      <td id=\"T_34e72_row2_col2\" class=\"data row2 col2\" >5.01%</td>\n    </tr>\n    <tr>\n      <th id=\"T_34e72_level0_row3\" class=\"row_heading level0 row3\" >3</th>\n      <td id=\"T_34e72_row3_col0\" class=\"data row3 col0\" >San Francisco County</td>\n      <td id=\"T_34e72_row3_col1\" class=\"data row3 col1\" >45</td>\n      <td id=\"T_34e72_row3_col2\" class=\"data row3 col2\" >3.42%</td>\n    </tr>\n    <tr>\n      <th id=\"T_34e72_level0_row4\" class=\"row_heading level0 row4\" >4</th>\n      <td id=\"T_34e72_row4_col0\" class=\"data row4 col0\" >Sunnyvale</td>\n      <td id=\"T_34e72_row4_col1\" class=\"data row4 col1\" >45</td>\n      <td id=\"T_34e72_row4_col2\" class=\"data row4 col2\" >3.42%</td>\n    </tr>\n  </tbody>\n</table>\n",
          "text/plain": "<pandas.io.formats.style.Styler at 0x7f1a9724c370>"
         },
         "metadata": {},
         "output_type": "display_data"
        }
       ]
      }
     },
     "d5adb8df24f74479b89e1051f9d6a95b": {
      "model_module": "@jupyter-widgets/output",
      "model_module_version": "1.0.0",
      "model_name": "OutputModel",
      "state": {
       "_dom_classes": [],
       "_model_module": "@jupyter-widgets/output",
       "_model_module_version": "1.0.0",
       "_model_name": "OutputModel",
       "_view_count": null,
       "_view_module": "@jupyter-widgets/output",
       "_view_module_version": "1.0.0",
       "_view_name": "OutputView",
       "layout": "IPY_MODEL_8b4c54c2d224447ea9e1ab2a5b6a39c7",
       "msg_id": "",
       "outputs": [
        {
         "data": {
          "text/markdown": "<h3>Top Agencies using Transit Projects</h3>",
          "text/plain": "<IPython.core.display.Markdown object>"
         },
         "metadata": {},
         "output_type": "display_data"
        },
        {
         "data": {
          "text/html": "<style type=\"text/css\">\n</style>\n<table id=\"T_75e2f\">\n  <thead>\n    <tr>\n      <th class=\"blank level0\" >&nbsp;</th>\n      <th id=\"T_75e2f_level0_col0\" class=\"col_heading level0 col0\" >Agency</th>\n      <th id=\"T_75e2f_level0_col1\" class=\"col_heading level0 col1\" >Transit Obligations</th>\n      <th id=\"T_75e2f_level0_col2\" class=\"col_heading level0 col2\" >Percent of Category</th>\n    </tr>\n  </thead>\n  <tbody>\n    <tr>\n      <th id=\"T_75e2f_level0_row0\" class=\"row_heading level0 row0\" >0</th>\n      <td id=\"T_75e2f_row0_col0\" class=\"data row0 col0\" >Metropolitan Transportation Commission</td>\n      <td id=\"T_75e2f_row0_col1\" class=\"data row0 col1\" >18</td>\n      <td id=\"T_75e2f_row0_col2\" class=\"data row0 col2\" >28.57%</td>\n    </tr>\n    <tr>\n      <th id=\"T_75e2f_level0_row1\" class=\"row_heading level0 row1\" >1</th>\n      <td id=\"T_75e2f_row1_col0\" class=\"data row1 col0\" >Sunnyvale</td>\n      <td id=\"T_75e2f_row1_col1\" class=\"data row1 col1\" >6</td>\n      <td id=\"T_75e2f_row1_col2\" class=\"data row1 col2\" >9.52%</td>\n    </tr>\n    <tr>\n      <th id=\"T_75e2f_level0_row2\" class=\"row_heading level0 row2\" >2</th>\n      <td id=\"T_75e2f_row2_col0\" class=\"data row2 col0\" >Oakland</td>\n      <td id=\"T_75e2f_row2_col1\" class=\"data row2 col1\" >4</td>\n      <td id=\"T_75e2f_row2_col2\" class=\"data row2 col2\" >6.35%</td>\n    </tr>\n    <tr>\n      <th id=\"T_75e2f_level0_row3\" class=\"row_heading level0 row3\" >3</th>\n      <td id=\"T_75e2f_row3_col0\" class=\"data row3 col0\" >San Jose</td>\n      <td id=\"T_75e2f_row3_col1\" class=\"data row3 col1\" >4</td>\n      <td id=\"T_75e2f_row3_col2\" class=\"data row3 col2\" >6.35%</td>\n    </tr>\n    <tr>\n      <th id=\"T_75e2f_level0_row4\" class=\"row_heading level0 row4\" >4</th>\n      <td id=\"T_75e2f_row4_col0\" class=\"data row4 col0\" >San Leandro</td>\n      <td id=\"T_75e2f_row4_col1\" class=\"data row4 col1\" >4</td>\n      <td id=\"T_75e2f_row4_col2\" class=\"data row4 col2\" >6.35%</td>\n    </tr>\n  </tbody>\n</table>\n",
          "text/plain": "<pandas.io.formats.style.Styler at 0x7f1a972033a0>"
         },
         "metadata": {},
         "output_type": "display_data"
        }
       ]
      }
     },
     "db783d7b8aa74249867074467dbebbb2": {
      "model_module": "@jupyter-widgets/output",
      "model_module_version": "1.0.0",
      "model_name": "OutputModel",
      "state": {
       "_dom_classes": [],
       "_model_module": "@jupyter-widgets/output",
       "_model_module_version": "1.0.0",
       "_model_name": "OutputModel",
       "_view_count": null,
       "_view_module": "@jupyter-widgets/output",
       "_view_module_version": "1.0.0",
       "_view_name": "OutputView",
       "layout": "IPY_MODEL_91bd2505af2a41618e4fb536102eed13",
       "msg_id": "",
       "outputs": [
        {
         "data": {
          "text/markdown": "<h3>Top Agencies using Freeway Projects</h3>",
          "text/plain": "<IPython.core.display.Markdown object>"
         },
         "metadata": {},
         "output_type": "display_data"
        },
        {
         "data": {
          "text/html": "<style type=\"text/css\">\n</style>\n<table id=\"T_8597a\">\n  <thead>\n    <tr>\n      <th class=\"blank level0\" >&nbsp;</th>\n      <th id=\"T_8597a_level0_col0\" class=\"col_heading level0 col0\" >Agency</th>\n      <th id=\"T_8597a_level0_col1\" class=\"col_heading level0 col1\" >Freeway Obligations</th>\n      <th id=\"T_8597a_level0_col2\" class=\"col_heading level0 col2\" >Percent of Category</th>\n    </tr>\n  </thead>\n  <tbody>\n    <tr>\n      <th id=\"T_8597a_level0_row0\" class=\"row_heading level0 row0\" >0</th>\n      <td id=\"T_8597a_row0_col0\" class=\"data row0 col0\" >Metropolitan Transportation Commission</td>\n      <td id=\"T_8597a_row0_col1\" class=\"data row0 col1\" >11</td>\n      <td id=\"T_8597a_row0_col2\" class=\"data row0 col2\" >28.21%</td>\n    </tr>\n    <tr>\n      <th id=\"T_8597a_level0_row1\" class=\"row_heading level0 row1\" >1</th>\n      <td id=\"T_8597a_row1_col0\" class=\"data row1 col0\" >Contra Costa County</td>\n      <td id=\"T_8597a_row1_col1\" class=\"data row1 col1\" >7</td>\n      <td id=\"T_8597a_row1_col2\" class=\"data row1 col2\" >17.95%</td>\n    </tr>\n    <tr>\n      <th id=\"T_8597a_level0_row2\" class=\"row_heading level0 row2\" >2</th>\n      <td id=\"T_8597a_row2_col0\" class=\"data row2 col0\" >Caltrans</td>\n      <td id=\"T_8597a_row2_col1\" class=\"data row2 col1\" >4</td>\n      <td id=\"T_8597a_row2_col2\" class=\"data row2 col2\" >10.26%</td>\n    </tr>\n    <tr>\n      <th id=\"T_8597a_level0_row3\" class=\"row_heading level0 row3\" >3</th>\n      <td id=\"T_8597a_row3_col0\" class=\"data row3 col0\" >Metropolitan Transportation Commission - SAFE</td>\n      <td id=\"T_8597a_row3_col1\" class=\"data row3 col1\" >3</td>\n      <td id=\"T_8597a_row3_col2\" class=\"data row3 col2\" >7.69%</td>\n    </tr>\n    <tr>\n      <th id=\"T_8597a_level0_row4\" class=\"row_heading level0 row4\" >4</th>\n      <td id=\"T_8597a_row4_col0\" class=\"data row4 col0\" >Alameda County Congestion Management Agency</td>\n      <td id=\"T_8597a_row4_col1\" class=\"data row4 col1\" >2</td>\n      <td id=\"T_8597a_row4_col2\" class=\"data row4 col2\" >5.13%</td>\n    </tr>\n  </tbody>\n</table>\n",
          "text/plain": "<pandas.io.formats.style.Styler at 0x7f1a97252370>"
         },
         "metadata": {},
         "output_type": "display_data"
        }
       ]
      }
     },
     "f19426297c5d4075b9ffe29163c721fc": {
      "model_module": "@jupyter-widgets/base",
      "model_module_version": "1.2.0",
      "model_name": "LayoutModel",
      "state": {
       "_model_module": "@jupyter-widgets/base",
       "_model_module_version": "1.2.0",
       "_model_name": "LayoutModel",
       "_view_count": null,
       "_view_module": "@jupyter-widgets/base",
       "_view_module_version": "1.2.0",
       "_view_name": "LayoutView",
       "align_content": null,
       "align_items": null,
       "align_self": null,
       "border": null,
       "bottom": null,
       "display": null,
       "flex": null,
       "flex_flow": null,
       "grid_area": null,
       "grid_auto_columns": null,
       "grid_auto_flow": null,
       "grid_auto_rows": null,
       "grid_column": null,
       "grid_gap": null,
       "grid_row": null,
       "grid_template_areas": null,
       "grid_template_columns": null,
       "grid_template_rows": null,
       "height": null,
       "justify_content": null,
       "justify_items": null,
       "left": null,
       "margin": null,
       "max_height": null,
       "max_width": null,
       "min_height": null,
       "min_width": null,
       "object_fit": null,
       "object_position": null,
       "order": null,
       "overflow": null,
       "overflow_x": null,
       "overflow_y": null,
       "padding": null,
       "right": null,
       "top": null,
       "visibility": null,
       "width": null
      }
     },
     "f82eaa6a7bee453394e2e79a680c7549": {
      "model_module": "@jupyter-widgets/controls",
      "model_module_version": "1.5.0",
      "model_name": "TabModel",
      "state": {
       "_dom_classes": [],
       "_model_module": "@jupyter-widgets/controls",
       "_model_module_version": "1.5.0",
       "_model_name": "TabModel",
       "_titles": {
        "0": "Active Transportation",
        "1": "Transit",
        "2": "Bridge",
        "3": "Street",
        "4": "Freeway",
        "5": "Infrastructure & Emergency Relief",
        "6": "Congestion Relief"
       },
       "_view_count": null,
       "_view_module": "@jupyter-widgets/controls",
       "_view_module_version": "1.5.0",
       "_view_name": "TabView",
       "box_style": "",
       "children": [
        "IPY_MODEL_7379f607daeb49c29c9de5c323a72ff7",
        "IPY_MODEL_d5adb8df24f74479b89e1051f9d6a95b",
        "IPY_MODEL_17f9043c5e754a0a9c66ce6bccc2f649",
        "IPY_MODEL_a03b17c71e5547efbc77cf8298d9deaf",
        "IPY_MODEL_db783d7b8aa74249867074467dbebbb2",
        "IPY_MODEL_54e417ce444f4d4f9a2b90efebcc4508",
        "IPY_MODEL_73db726aacf04adca4bda934dcb69fd5"
       ],
       "layout": "IPY_MODEL_5be4c814ae78481c81303b4549cf9387",
       "selected_index": 0
      }
     },
     "f9ac54c5981c494ab4f690ec7c5fb644": {
      "model_module": "@jupyter-widgets/base",
      "model_module_version": "1.2.0",
      "model_name": "LayoutModel",
      "state": {
       "_model_module": "@jupyter-widgets/base",
       "_model_module_version": "1.2.0",
       "_model_name": "LayoutModel",
       "_view_count": null,
       "_view_module": "@jupyter-widgets/base",
       "_view_module_version": "1.2.0",
       "_view_name": "LayoutView",
       "align_content": null,
       "align_items": null,
       "align_self": null,
       "border": null,
       "bottom": null,
       "display": null,
       "flex": null,
       "flex_flow": null,
       "grid_area": null,
       "grid_auto_columns": null,
       "grid_auto_flow": null,
       "grid_auto_rows": null,
       "grid_column": null,
       "grid_gap": null,
       "grid_row": null,
       "grid_template_areas": null,
       "grid_template_columns": null,
       "grid_template_rows": null,
       "height": null,
       "justify_content": null,
       "justify_items": null,
       "left": null,
       "margin": null,
       "max_height": null,
       "max_width": null,
       "min_height": null,
       "min_width": null,
       "object_fit": null,
       "object_position": null,
       "order": null,
       "overflow": null,
       "overflow_x": null,
       "overflow_y": null,
       "padding": null,
       "right": null,
       "top": null,
       "visibility": null,
       "width": null
      }
     }
    },
    "version_major": 2,
    "version_minor": 0
   }
  }
 },
 "nbformat": 4,
 "nbformat_minor": 5
}