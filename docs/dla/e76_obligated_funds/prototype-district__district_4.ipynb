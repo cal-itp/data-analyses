{
 "cells": [
  {
   "cell_type": "markdown",
   "id": "ad2653c5-3725-452f-bfac-d689d5f5877c",
   "metadata": {
    "papermill": {
     "duration": 0.023923,
     "end_time": "2022-03-21T22:30:30.613558",
     "exception": false,
     "start_time": "2022-03-21T22:30:30.589635",
     "status": "completed"
    },
    "tags": []
   },
   "source": [
    "# DLA Analysis for District 4\n",
    "\n",
    "1. Unique obligations at district-level, summary sentence\n",
    "1. Top agencies / core customers\n",
    "1. Top prefixes / core customers\n",
    "1. Type of work, ~5 main categories, show breakdown of spending and number of projects (aggregate values, inflation-adjusted). Need to think of normalizing to % is worthwhile"
   ]
  },
  {
   "cell_type": "code",
   "execution_count": 1,
   "id": "1ce50193-bba7-4b84-b142-689dfa8b86da",
   "metadata": {
    "execution": {
     "iopub.execute_input": "2022-03-21T22:30:30.649672Z",
     "iopub.status.busy": "2022-03-21T22:30:30.649384Z",
     "iopub.status.idle": "2022-03-21T22:30:39.998457Z",
     "shell.execute_reply": "2022-03-21T22:30:39.997723Z"
    },
    "jupyter": {
     "source_hidden": true
    },
    "papermill": {
     "duration": 9.369607,
     "end_time": "2022-03-21T22:30:40.000601",
     "exception": false,
     "start_time": "2022-03-21T22:30:30.630994",
     "status": "completed"
    },
    "tags": [
     "remove_input"
    ]
   },
   "outputs": [],
   "source": [
    "%%capture\n",
    "import warnings\n",
    "warnings.filterwarnings(\"ignore\")\n",
    "\n",
    "import altair as alt\n",
    "import pandas as pd\n",
    "\n",
    "from siuba import *\n",
    "from IPython.display import Markdown\n",
    "\n",
    "import _dla_utils\n",
    "from shared_utils import styleguide, geography_utils\n",
    "from shared_utils import calitp_color_palette as cp\n",
    "\n",
    "alt.themes.register(\"calitp_theme\", styleguide.calitp_theme)\n",
    "# enable\n",
    "alt.themes.enable(\"calitp_theme\")"
   ]
  },
  {
   "cell_type": "code",
   "execution_count": 2,
   "id": "09b1e59a-8573-4700-8d42-6bd02dc11413",
   "metadata": {
    "execution": {
     "iopub.execute_input": "2022-03-21T22:30:40.037771Z",
     "iopub.status.busy": "2022-03-21T22:30:40.037376Z",
     "iopub.status.idle": "2022-03-21T22:30:40.040578Z",
     "shell.execute_reply": "2022-03-21T22:30:40.040103Z"
    },
    "jupyter": {
     "source_hidden": true
    },
    "papermill": {
     "duration": 0.023347,
     "end_time": "2022-03-21T22:30:40.042406",
     "exception": false,
     "start_time": "2022-03-21T22:30:40.019059",
     "status": "completed"
    },
    "tags": [
     "parameters",
     "remove_input"
    ]
   },
   "outputs": [],
   "source": [
    "# Need to get a parameters cell\n",
    "district = 7"
   ]
  },
  {
   "cell_type": "code",
   "execution_count": 3,
   "id": "4d49138e",
   "metadata": {
    "execution": {
     "iopub.execute_input": "2022-03-21T22:30:40.076141Z",
     "iopub.status.busy": "2022-03-21T22:30:40.075823Z",
     "iopub.status.idle": "2022-03-21T22:30:40.078937Z",
     "shell.execute_reply": "2022-03-21T22:30:40.078310Z"
    },
    "jupyter": {
     "source_hidden": true
    },
    "papermill": {
     "duration": 0.022949,
     "end_time": "2022-03-21T22:30:40.080760",
     "exception": false,
     "start_time": "2022-03-21T22:30:40.057811",
     "status": "completed"
    },
    "tags": [
     "injected-parameters",
     "remove_input"
    ]
   },
   "outputs": [],
   "source": [
    "# Parameters\n",
    "district = 4\n"
   ]
  },
  {
   "cell_type": "code",
   "execution_count": 4,
   "id": "30e608de-9f92-492a-b283-0ce388453381",
   "metadata": {
    "execution": {
     "iopub.execute_input": "2022-03-21T22:30:40.113468Z",
     "iopub.status.busy": "2022-03-21T22:30:40.113268Z",
     "iopub.status.idle": "2022-03-21T22:30:40.153418Z",
     "shell.execute_reply": "2022-03-21T22:30:40.152852Z"
    },
    "jupyter": {
     "source_hidden": true
    },
    "papermill": {
     "duration": 0.0576,
     "end_time": "2022-03-21T22:30:40.155329",
     "exception": false,
     "start_time": "2022-03-21T22:30:40.097729",
     "status": "completed"
    },
    "tags": [
     "remove_input"
    ]
   },
   "outputs": [],
   "source": [
    "df= pd.read_parquet(\"dla_df.parquet\")\n",
    "\n",
    "df = df>>filter(_.dist==district)"
   ]
  },
  {
   "cell_type": "markdown",
   "id": "4b5805e9-66b2-422a-b02b-4582a6a543ea",
   "metadata": {
    "papermill": {
     "duration": 0.016247,
     "end_time": "2022-03-21T22:30:40.187926",
     "exception": false,
     "start_time": "2022-03-21T22:30:40.171679",
     "status": "completed"
    },
    "tags": []
   },
   "source": [
    "## Data Wrangling\n",
    "\n",
    "Some of these additional data wrangling steps might be able to be moved into a script.\n",
    "\n",
    "The wrangling specific to making a chart in `altair` can be left in notebook, but any data processing that is done on the entire dataset should be moved off."
   ]
  },
  {
   "cell_type": "code",
   "execution_count": 5,
   "id": "ed8ad7b1-4cdd-45d8-875c-68dd9deb5410",
   "metadata": {
    "execution": {
     "iopub.execute_input": "2022-03-21T22:30:40.219224Z",
     "iopub.status.busy": "2022-03-21T22:30:40.219009Z",
     "iopub.status.idle": "2022-03-21T22:30:40.226545Z",
     "shell.execute_reply": "2022-03-21T22:30:40.225946Z"
    },
    "jupyter": {
     "source_hidden": true
    },
    "papermill": {
     "duration": 0.025309,
     "end_time": "2022-03-21T22:30:40.228436",
     "exception": false,
     "start_time": "2022-03-21T22:30:40.203127",
     "status": "completed"
    },
    "tags": [
     "remove_input"
    ]
   },
   "outputs": [],
   "source": [
    "df = df.assign(\n",
    "    prepared_y = df.prepared_y.astype(\"Int64\"),\n",
    "    processing_days = df[[\"dist_processing_days\", \"hq_processing_days\", \n",
    "                          \"fhwa_processing_days\"]].sum(axis=1)\n",
    ")\n",
    "df = df[df[\"prepared_y\"].notna()]\n",
    "#df[df[\"\"].isna()].head()"
   ]
  },
  {
   "cell_type": "code",
   "execution_count": 6,
   "id": "4988e91f-c869-48cd-9d4b-3bb504f67d81",
   "metadata": {
    "execution": {
     "iopub.execute_input": "2022-03-21T22:30:40.307050Z",
     "iopub.status.busy": "2022-03-21T22:30:40.306663Z",
     "iopub.status.idle": "2022-03-21T22:30:40.385963Z",
     "shell.execute_reply": "2022-03-21T22:30:40.385396Z"
    },
    "jupyter": {
     "source_hidden": true
    },
    "papermill": {
     "duration": 0.104558,
     "end_time": "2022-03-21T22:30:40.387909",
     "exception": false,
     "start_time": "2022-03-21T22:30:40.283351",
     "status": "completed"
    },
    "scrolled": true,
    "tags": [
     "remove_input"
    ]
   },
   "outputs": [],
   "source": [
    "df_years = _dla_utils.count_all_years(df)\n",
    "df_top = _dla_utils.find_top(df)"
   ]
  },
  {
   "cell_type": "markdown",
   "id": "b428030d",
   "metadata": {
    "collapsed": false,
    "papermill": {
     "duration": 0.015321,
     "end_time": "2022-03-21T22:30:40.418101",
     "exception": false,
     "start_time": "2022-03-21T22:30:40.402780",
     "status": "completed"
    },
    "pycharm": {
     "name": "#%% md\n"
    },
    "tags": []
   },
   "source": [
    "## Obligations"
   ]
  },
  {
   "cell_type": "code",
   "execution_count": 7,
   "id": "0cfc624b-3a71-4891-88b7-5d4e053bb68c",
   "metadata": {
    "execution": {
     "iopub.execute_input": "2022-03-21T22:30:40.449909Z",
     "iopub.status.busy": "2022-03-21T22:30:40.449662Z",
     "iopub.status.idle": "2022-03-21T22:30:40.457149Z",
     "shell.execute_reply": "2022-03-21T22:30:40.456696Z"
    },
    "jupyter": {
     "source_hidden": true
    },
    "papermill": {
     "duration": 0.025982,
     "end_time": "2022-03-21T22:30:40.458898",
     "exception": false,
     "start_time": "2022-03-21T22:30:40.432916",
     "status": "completed"
    },
    "tags": [
     "remove_input"
    ]
   },
   "outputs": [
    {
     "data": {
      "text/markdown": [
       "There are 151 unique agencies in District 4."
      ],
      "text/plain": [
       "<IPython.core.display.Markdown object>"
      ]
     },
     "metadata": {},
     "output_type": "display_data"
    }
   ],
   "source": [
    "unique_agencies = (_dla_utils.calculate_data_all(df, 'primary_agency_name', \n",
    "                                                 aggfunc=\"nunique\") \n",
    "                   .primary_agency_name.iloc[0]\n",
    ")\n",
    "\n",
    "display(\n",
    "    Markdown(f\"There are {unique_agencies} unique agencies in District {district}.\")\n",
    ")"
   ]
  },
  {
   "cell_type": "markdown",
   "id": "fc33ea57-4eb8-4e45-bd1e-b5a4bbba81d5",
   "metadata": {
    "papermill": {
     "duration": 0.015284,
     "end_time": "2022-03-21T22:30:40.489400",
     "exception": false,
     "start_time": "2022-03-21T22:30:40.474116",
     "status": "completed"
    },
    "tags": []
   },
   "source": [
    "### Core Customers\n",
    "\n",
    "Of the top 20 primary agencies, what % of funds and projects are they responsible for?\n",
    "\n",
    "Of the top 20 prefixes, what % of funds and projects are they responsible for?"
   ]
  },
  {
   "cell_type": "code",
   "execution_count": 8,
   "id": "1d29909d-050b-4c73-a8c3-2b1eae3877b6",
   "metadata": {
    "execution": {
     "iopub.execute_input": "2022-03-21T22:30:40.520774Z",
     "iopub.status.busy": "2022-03-21T22:30:40.520575Z",
     "iopub.status.idle": "2022-03-21T22:30:40.527231Z",
     "shell.execute_reply": "2022-03-21T22:30:40.526434Z"
    },
    "jupyter": {
     "source_hidden": true
    },
    "papermill": {
     "duration": 0.025734,
     "end_time": "2022-03-21T22:30:40.530065",
     "exception": false,
     "start_time": "2022-03-21T22:30:40.504331",
     "status": "completed"
    },
    "tags": [
     "remove_input"
    ]
   },
   "outputs": [],
   "source": [
    "def core_customer_stat(df, df_top, variable):\n",
    "    list_of_top = list(df_top[df_top.variable==variable].value)\n",
    "    \n",
    "    t1 = geography_utils.aggregate_by_geography(\n",
    "        df[df[variable].isin(list_of_top)], \n",
    "        group_cols = [variable],\n",
    "        sum_cols = [\"adjusted_total_requested\"],\n",
    "        count_cols = [\"project_no\"]\n",
    "    )\n",
    "    \n",
    "    # Add totals as new columns\n",
    "    t2 = t1.assign(\n",
    "        all_total_requested = df.adjusted_total_requested.sum(),\n",
    "        all_projects = df.project_no.count(),\n",
    "    )\n",
    "    \n",
    "    # Calculate percents\n",
    "    t2 = t2.assign(\n",
    "        pct_project = (t2.project_no.divide(t2.all_projects)* 100).round(1),\n",
    "        pct_total_requested = (t2.adjusted_total_requested.divide(\n",
    "            t2.all_total_requested)* 100).round(1),\n",
    "    )\n",
    "    \n",
    "    # Keep summary table?\n",
    "    # But, if we want to drill into specific stuff in the top 20\n",
    "    # like the top agency or top prefix, or top 5, can do so\n",
    "    t3 = (t2 >> mutate(pct_top20_project = _.pct_project.sum(),\n",
    "                      pct_top20_total_requested = _.pct_total_requested.sum(),\n",
    "                     )\n",
    "          >> distinct(_.pct_top20_project, _.pct_top20_total_requested)\n",
    "         )\n",
    "    \n",
    "    for c in t3.columns:\n",
    "        t3[c] = t3[c].round(1)\n",
    "    \n",
    "    return t3"
   ]
  },
  {
   "cell_type": "code",
   "execution_count": 9,
   "id": "6140f112-4e15-492e-84ee-9b260f5bcdb4",
   "metadata": {
    "execution": {
     "iopub.execute_input": "2022-03-21T22:30:40.562303Z",
     "iopub.status.busy": "2022-03-21T22:30:40.561976Z",
     "iopub.status.idle": "2022-03-21T22:30:40.608993Z",
     "shell.execute_reply": "2022-03-21T22:30:40.608432Z"
    },
    "jupyter": {
     "source_hidden": true
    },
    "papermill": {
     "duration": 0.065481,
     "end_time": "2022-03-21T22:30:40.610831",
     "exception": false,
     "start_time": "2022-03-21T22:30:40.545350",
     "status": "completed"
    },
    "tags": [
     "remove_input"
    ]
   },
   "outputs": [],
   "source": [
    "core_prefix = core_customer_stat(df, df_top, \"prefix\")\n",
    "core_agency = core_customer_stat(df, df_top, \"primary_agency_name\")"
   ]
  },
  {
   "cell_type": "code",
   "execution_count": 10,
   "id": "5ffd7ba9-3825-48c2-94b9-625ffc4ec832",
   "metadata": {
    "execution": {
     "iopub.execute_input": "2022-03-21T22:30:40.643331Z",
     "iopub.status.busy": "2022-03-21T22:30:40.643126Z",
     "iopub.status.idle": "2022-03-21T22:30:40.650418Z",
     "shell.execute_reply": "2022-03-21T22:30:40.649893Z"
    },
    "jupyter": {
     "source_hidden": true
    },
    "papermill": {
     "duration": 0.025478,
     "end_time": "2022-03-21T22:30:40.651927",
     "exception": false,
     "start_time": "2022-03-21T22:30:40.626449",
     "status": "completed"
    },
    "tags": [
     "remove_input"
    ]
   },
   "outputs": [],
   "source": [
    "# Add this chart function to take out saving it for now...display directly\n",
    "def labeling(word):\n",
    "    # Add specific use cases where it's not just first letter capitalized\n",
    "    LABEL_DICT = { \"prepared_y\": \"Year\",\n",
    "              \"dist\": \"District\",\n",
    "              \"total_requested\": \"Total Requested\",\n",
    "              \"fed_requested\":\"Fed Requested\",\n",
    "              \"ac_requested\": \"Advance Construction Requested\",\n",
    "              \"nunique\":\"Number of Unique\",\n",
    "              \"project_no\": \"Project Number\"}\n",
    "    \n",
    "    if (word == \"mpo\") or (word == \"rtpa\"):\n",
    "        word = word.upper()\n",
    "    elif word in LABEL_DICT.keys():\n",
    "        word = LABEL_DICT[word]\n",
    "    else:\n",
    "        word = word.replace('n_', 'Number of ').title()\n",
    "        word = word.replace('unique_', \"Number of Unique \").title()\n",
    "        word = word.replace('_', ' ').title()\n",
    "    \n",
    "    return word\n",
    "    \n",
    "def basic_bar_chart(df, x_col, y_col, title=\"\"):\n",
    "    if title == \"\":\n",
    "        title = f\"Highest {labeling(x_col)} by {labeling(y_col)}\"\n",
    "    chart = (alt.Chart(df)\n",
    "             .mark_bar()\n",
    "             .encode(\n",
    "                 x=alt.X(f\"{x_col}:N\", title=labeling(x_col), sort=('-y')),\n",
    "                 y=alt.Y(f\"{y_col}:Q\", title=labeling(y_col)),\n",
    "                 color = alt.Color(y_col,\n",
    "                                  scale=alt.Scale(\n",
    "                                      range=cp.CALITP_SEQUENTIAL_COLORS),\n",
    "                                      legend=alt.Legend(title=(labeling(y_col)))\n",
    "                                  ),\n",
    "                 tooltip=alt.Tooltip([x_col, y_col])\n",
    "             )\n",
    "             .properties(title= title)\n",
    "    )\n",
    "\n",
    "    chart=styleguide.preset_chart_config(chart)\n",
    "    display(chart)"
   ]
  },
  {
   "cell_type": "code",
   "execution_count": 11,
   "id": "0c560d05-629d-4b40-af86-c424efe911a6",
   "metadata": {
    "execution": {
     "iopub.execute_input": "2022-03-21T22:30:40.685375Z",
     "iopub.status.busy": "2022-03-21T22:30:40.685169Z",
     "iopub.status.idle": "2022-03-21T22:30:40.710952Z",
     "shell.execute_reply": "2022-03-21T22:30:40.710453Z"
    },
    "jupyter": {
     "source_hidden": true
    },
    "papermill": {
     "duration": 0.044506,
     "end_time": "2022-03-21T22:30:40.712644",
     "exception": false,
     "start_time": "2022-03-21T22:30:40.668138",
     "status": "completed"
    },
    "tags": [
     "remove_input"
    ]
   },
   "outputs": [
    {
     "data": {
      "text/markdown": [
       "2011-2022: <br>The **top 20 prefixes** were responsible for **88.1% of all projects** and **82.4%** **of total requested funds** (2021\\$)."
      ],
      "text/plain": [
       "<IPython.core.display.Markdown object>"
      ]
     },
     "metadata": {},
     "output_type": "display_data"
    },
    {
     "data": {
      "text/html": [
       "\n",
       "<div id=\"altair-viz-a18585df89b04111a9861a4e8d3dad87\"></div>\n",
       "<script type=\"text/javascript\">\n",
       "  var VEGA_DEBUG = (typeof VEGA_DEBUG == \"undefined\") ? {} : VEGA_DEBUG;\n",
       "  (function(spec, embedOpt){\n",
       "    let outputDiv = document.currentScript.previousElementSibling;\n",
       "    if (outputDiv.id !== \"altair-viz-a18585df89b04111a9861a4e8d3dad87\") {\n",
       "      outputDiv = document.getElementById(\"altair-viz-a18585df89b04111a9861a4e8d3dad87\");\n",
       "    }\n",
       "    const paths = {\n",
       "      \"vega\": \"https://cdn.jsdelivr.net/npm//vega@5?noext\",\n",
       "      \"vega-lib\": \"https://cdn.jsdelivr.net/npm//vega-lib?noext\",\n",
       "      \"vega-lite\": \"https://cdn.jsdelivr.net/npm//vega-lite@4.17.0?noext\",\n",
       "      \"vega-embed\": \"https://cdn.jsdelivr.net/npm//vega-embed@6?noext\",\n",
       "    };\n",
       "\n",
       "    function maybeLoadScript(lib, version) {\n",
       "      var key = `${lib.replace(\"-\", \"\")}_version`;\n",
       "      return (VEGA_DEBUG[key] == version) ?\n",
       "        Promise.resolve(paths[lib]) :\n",
       "        new Promise(function(resolve, reject) {\n",
       "          var s = document.createElement('script');\n",
       "          document.getElementsByTagName(\"head\")[0].appendChild(s);\n",
       "          s.async = true;\n",
       "          s.onload = () => {\n",
       "            VEGA_DEBUG[key] = version;\n",
       "            return resolve(paths[lib]);\n",
       "          };\n",
       "          s.onerror = () => reject(`Error loading script: ${paths[lib]}`);\n",
       "          s.src = paths[lib];\n",
       "        });\n",
       "    }\n",
       "\n",
       "    function showError(err) {\n",
       "      outputDiv.innerHTML = `<div class=\"error\" style=\"color:red;\">${err}</div>`;\n",
       "      throw err;\n",
       "    }\n",
       "\n",
       "    function displayChart(vegaEmbed) {\n",
       "      vegaEmbed(outputDiv, spec, embedOpt)\n",
       "        .catch(err => showError(`Javascript Error: ${err.message}<br>This usually means there's a typo in your chart specification. See the javascript console for the full traceback.`));\n",
       "    }\n",
       "\n",
       "    if(typeof define === \"function\" && define.amd) {\n",
       "      requirejs.config({paths});\n",
       "      require([\"vega-embed\"], displayChart, err => showError(`Error loading script: ${err.message}`));\n",
       "    } else {\n",
       "      maybeLoadScript(\"vega\", \"5\")\n",
       "        .then(() => maybeLoadScript(\"vega-lite\", \"4.17.0\"))\n",
       "        .then(() => maybeLoadScript(\"vega-embed\", \"6\"))\n",
       "        .catch(showError)\n",
       "        .then(() => displayChart(vegaEmbed));\n",
       "    }\n",
       "  })({\"width\": 400, \"height\": 250, \"background\": \"white\", \"config\": {\"title\": {\"fontSize\": 18, \"font\": \"Raleway\", \"anchor\": \"middle\", \"fontColor\": \"#333\", \"fontWeight\": 300, \"offset\": 20}, \"header\": {\"labelFont\": \"Nunito Sans\", \"titleFont\": \"Raleway\"}, \"axis\": {\"domain\": true, \"domainColor\": \"#cbcbcb\", \"grid\": true, \"gridColor\": \"#cbcbcb\", \"gridWidth\": 1, \"labelColor\": \"#474747\", \"labelFontSize\": 10, \"titleColor\": \"#333\", \"tickColor\": \"#cbcbcb\", \"tickSize\": 10, \"titleFontSize\": 12, \"titlePadding\": 10, \"labelPadding\": 4, \"labelFont\": \"Nunito Sans\", \"titleFont\": \"Raleway\"}, \"axisBand\": {\"grid\": false}, \"range\": {\"category_bright\": [\"#2EA8CE\", \"#EB9F3C\", \"#F4D837\", \"#51BF9D\", \"#8CBCCB\", \"#9487C0\"], \"category_bold\": [\"#136C97\", \"#E16B26\", \"#F6BF16\", \"#00896B\", \"#7790A3\", \"#5B559C\"], \"diverging\": [\"#E16B26\", \"#EB9F3C\", \"#f6e7e1\", \"#8CBCCB\", \"#2EA8CE\", \"#136C97\"], \"sequential\": [\"#B9D6DF\", \"#8CBCCB\", \"#2EA8CE\", \"#136C97\", \"#0B405B\"]}, \"legend\": {\"labelFont\": \"Nunito Sans\", \"labelFontSize\": 11, \"symbolType\": \"square\", \"symbolSize\": 30, \"titleFont\": \"Raleway\", \"titleFontSize\": 14, \"titlePadding\": 10, \"padding\": 1, \"orient\": \"right\", \"labelLimit\": 0, \"labelColor\": \"#333\", \"titleColor\": \"#333\"}, \"view\": {\"stroke\": \"transparent\"}, \"group\": {\"fill\": \"white\"}, \"arc\": {\"fill\": \"#8CBCCB\"}, \"area\": {\"fill\": \"#8CBCCB\"}, \"line\": {\"stroke\": \"#8CBCCB\", \"strokeWidth\": 2}, \"trail\": {\"color\": \"#8CBCCB\", \"stroke\": \"#8CBCCB\", \"strokeWidth\": 0, \"size\": 1}, \"path\": {\"stroke\": \"#8CBCCB\", \"strokeWidth\": 0.5}, \"rect\": {\"fill\": \"#8CBCCB\"}, \"point\": {\"filled\": true, \"shape\": \"circle\"}, \"shape\": {\"stroke\": \"#8CBCCB\"}, \"text\": {\"font\": \"Nunito Sans\", \"color\": \"#8CBCCB\", \"fontSize\": 11, \"align\": \"center\", \"fontWeight\": 400, \"size\": 11}, \"bar\": {\"binSpacing\": 2, \"fill\": \"#8CBCCB\", \"stroke\": false}, \"background\": \"white\", \"font\": \"Raleway\"}, \"data\": {\"name\": \"data-2af1a532cd3fe97cfa693ee6dcfc39b2\"}, \"mark\": \"bar\", \"encoding\": {\"color\": {\"field\": \"count\", \"legend\": {\"title\": \"Count\"}, \"scale\": {\"range\": [\"#B9D6DF\", \"#8CBCCB\", \"#2EA8CE\", \"#136C97\", \"#0B405B\"]}, \"type\": \"quantitative\"}, \"tooltip\": [{\"field\": \"value\", \"type\": \"nominal\"}, {\"field\": \"count\", \"type\": \"quantitative\"}], \"x\": {\"field\": \"value\", \"sort\": \"-y\", \"title\": \"Value\", \"type\": \"nominal\"}, \"y\": {\"field\": \"count\", \"title\": \"Count\", \"type\": \"quantitative\"}}, \"title\": \"Top 20 Prefixes\", \"$schema\": \"https://vega.github.io/schema/vega-lite/v4.17.0.json\", \"datasets\": {\"data-2af1a532cd3fe97cfa693ee6dcfc39b2\": [{\"value\": \"STPL\", \"count\": 661, \"variable\": \"prefix\"}, {\"value\": \"CML\", \"count\": 551, \"variable\": \"prefix\"}, {\"value\": \"HSIPL\", \"count\": 456, \"variable\": \"prefix\"}, {\"value\": \"BRLS\", \"count\": 169, \"variable\": \"prefix\"}, {\"value\": \"ER\", \"count\": 147, \"variable\": \"prefix\"}, {\"value\": \"BRLO\", \"count\": 127, \"variable\": \"prefix\"}, {\"value\": \"STPLZ\", \"count\": 119, \"variable\": \"prefix\"}, {\"value\": \"RPSTPL\", \"count\": 95, \"variable\": \"prefix\"}, {\"value\": \"BPMP\", \"count\": 92, \"variable\": \"prefix\"}, {\"value\": \"ATPL\", \"count\": 88, \"variable\": \"prefix\"}, {\"value\": \"HPLUL\", \"count\": 83, \"variable\": \"prefix\"}, {\"value\": \"BHLS\", \"count\": 65, \"variable\": \"prefix\"}, {\"value\": \"SRTSL\", \"count\": 62, \"variable\": \"prefix\"}, {\"value\": \"CMLNI\", \"count\": 52, \"variable\": \"prefix\"}, {\"value\": \"FTASTPL\", \"count\": 45, \"variable\": \"prefix\"}, {\"value\": \"STPLNI\", \"count\": 40, \"variable\": \"prefix\"}, {\"value\": \"HRRRL\", \"count\": 38, \"variable\": \"prefix\"}, {\"value\": \"ACSTP\", \"count\": 36, \"variable\": \"prefix\"}, {\"value\": \"FTACML\", \"count\": 33, \"variable\": \"prefix\"}, {\"value\": \"BHLO\", \"count\": 31, \"variable\": \"prefix\"}]}}, {\"mode\": \"vega-lite\"});\n",
       "</script>"
      ],
      "text/plain": [
       "alt.Chart(...)"
      ]
     },
     "metadata": {},
     "output_type": "display_data"
    }
   ],
   "source": [
    "display(\n",
    "    Markdown(\n",
    "        f\"{df.prepared_y.min()}-{df.prepared_y.max()}: \"\n",
    "        f\"<br>The **top 20 prefixes** were responsible for \"\n",
    "        f\"**{core_prefix.pct_top20_project[0]}% of all projects** and \"\n",
    "        f\"**{core_prefix.pct_top20_total_requested[0]}%** \"\n",
    "        \"**of total requested funds** (2021\\$).\"\n",
    "    )  \n",
    ")\n",
    "\n",
    "basic_bar_chart(df_top[df_top.variable==\"prefix\"], \"value\", \"count\", \n",
    "                title=\"Top 20 Prefixes\")"
   ]
  },
  {
   "cell_type": "code",
   "execution_count": 12,
   "id": "b6930c47-589d-4873-843d-7dfdc036dcf2",
   "metadata": {
    "execution": {
     "iopub.execute_input": "2022-03-21T22:30:40.746052Z",
     "iopub.status.busy": "2022-03-21T22:30:40.745791Z",
     "iopub.status.idle": "2022-03-21T22:30:40.763014Z",
     "shell.execute_reply": "2022-03-21T22:30:40.762421Z"
    },
    "jupyter": {
     "source_hidden": true
    },
    "papermill": {
     "duration": 0.035888,
     "end_time": "2022-03-21T22:30:40.764793",
     "exception": false,
     "start_time": "2022-03-21T22:30:40.728905",
     "status": "completed"
    },
    "tags": [
     "remove_input"
    ]
   },
   "outputs": [
    {
     "data": {
      "text/markdown": [
       "2011-2022: <br>The **top 20 agencies** were responsible for **51.1% of all projects** and **63.1%** **of total requested funds** (2021$)."
      ],
      "text/plain": [
       "<IPython.core.display.Markdown object>"
      ]
     },
     "metadata": {},
     "output_type": "display_data"
    },
    {
     "data": {
      "text/html": [
       "\n",
       "<div id=\"altair-viz-29a3730e450f4ed581e4b46c70d5d96b\"></div>\n",
       "<script type=\"text/javascript\">\n",
       "  var VEGA_DEBUG = (typeof VEGA_DEBUG == \"undefined\") ? {} : VEGA_DEBUG;\n",
       "  (function(spec, embedOpt){\n",
       "    let outputDiv = document.currentScript.previousElementSibling;\n",
       "    if (outputDiv.id !== \"altair-viz-29a3730e450f4ed581e4b46c70d5d96b\") {\n",
       "      outputDiv = document.getElementById(\"altair-viz-29a3730e450f4ed581e4b46c70d5d96b\");\n",
       "    }\n",
       "    const paths = {\n",
       "      \"vega\": \"https://cdn.jsdelivr.net/npm//vega@5?noext\",\n",
       "      \"vega-lib\": \"https://cdn.jsdelivr.net/npm//vega-lib?noext\",\n",
       "      \"vega-lite\": \"https://cdn.jsdelivr.net/npm//vega-lite@4.17.0?noext\",\n",
       "      \"vega-embed\": \"https://cdn.jsdelivr.net/npm//vega-embed@6?noext\",\n",
       "    };\n",
       "\n",
       "    function maybeLoadScript(lib, version) {\n",
       "      var key = `${lib.replace(\"-\", \"\")}_version`;\n",
       "      return (VEGA_DEBUG[key] == version) ?\n",
       "        Promise.resolve(paths[lib]) :\n",
       "        new Promise(function(resolve, reject) {\n",
       "          var s = document.createElement('script');\n",
       "          document.getElementsByTagName(\"head\")[0].appendChild(s);\n",
       "          s.async = true;\n",
       "          s.onload = () => {\n",
       "            VEGA_DEBUG[key] = version;\n",
       "            return resolve(paths[lib]);\n",
       "          };\n",
       "          s.onerror = () => reject(`Error loading script: ${paths[lib]}`);\n",
       "          s.src = paths[lib];\n",
       "        });\n",
       "    }\n",
       "\n",
       "    function showError(err) {\n",
       "      outputDiv.innerHTML = `<div class=\"error\" style=\"color:red;\">${err}</div>`;\n",
       "      throw err;\n",
       "    }\n",
       "\n",
       "    function displayChart(vegaEmbed) {\n",
       "      vegaEmbed(outputDiv, spec, embedOpt)\n",
       "        .catch(err => showError(`Javascript Error: ${err.message}<br>This usually means there's a typo in your chart specification. See the javascript console for the full traceback.`));\n",
       "    }\n",
       "\n",
       "    if(typeof define === \"function\" && define.amd) {\n",
       "      requirejs.config({paths});\n",
       "      require([\"vega-embed\"], displayChart, err => showError(`Error loading script: ${err.message}`));\n",
       "    } else {\n",
       "      maybeLoadScript(\"vega\", \"5\")\n",
       "        .then(() => maybeLoadScript(\"vega-lite\", \"4.17.0\"))\n",
       "        .then(() => maybeLoadScript(\"vega-embed\", \"6\"))\n",
       "        .catch(showError)\n",
       "        .then(() => displayChart(vegaEmbed));\n",
       "    }\n",
       "  })({\"width\": 400, \"height\": 250, \"background\": \"white\", \"config\": {\"title\": {\"fontSize\": 18, \"font\": \"Raleway\", \"anchor\": \"middle\", \"fontColor\": \"#333\", \"fontWeight\": 300, \"offset\": 20}, \"header\": {\"labelFont\": \"Nunito Sans\", \"titleFont\": \"Raleway\"}, \"axis\": {\"domain\": true, \"domainColor\": \"#cbcbcb\", \"grid\": true, \"gridColor\": \"#cbcbcb\", \"gridWidth\": 1, \"labelColor\": \"#474747\", \"labelFontSize\": 10, \"titleColor\": \"#333\", \"tickColor\": \"#cbcbcb\", \"tickSize\": 10, \"titleFontSize\": 12, \"titlePadding\": 10, \"labelPadding\": 4, \"labelFont\": \"Nunito Sans\", \"titleFont\": \"Raleway\"}, \"axisBand\": {\"grid\": false}, \"range\": {\"category_bright\": [\"#2EA8CE\", \"#EB9F3C\", \"#F4D837\", \"#51BF9D\", \"#8CBCCB\", \"#9487C0\"], \"category_bold\": [\"#136C97\", \"#E16B26\", \"#F6BF16\", \"#00896B\", \"#7790A3\", \"#5B559C\"], \"diverging\": [\"#E16B26\", \"#EB9F3C\", \"#f6e7e1\", \"#8CBCCB\", \"#2EA8CE\", \"#136C97\"], \"sequential\": [\"#B9D6DF\", \"#8CBCCB\", \"#2EA8CE\", \"#136C97\", \"#0B405B\"]}, \"legend\": {\"labelFont\": \"Nunito Sans\", \"labelFontSize\": 11, \"symbolType\": \"square\", \"symbolSize\": 30, \"titleFont\": \"Raleway\", \"titleFontSize\": 14, \"titlePadding\": 10, \"padding\": 1, \"orient\": \"right\", \"labelLimit\": 0, \"labelColor\": \"#333\", \"titleColor\": \"#333\"}, \"view\": {\"stroke\": \"transparent\"}, \"group\": {\"fill\": \"white\"}, \"arc\": {\"fill\": \"#8CBCCB\"}, \"area\": {\"fill\": \"#8CBCCB\"}, \"line\": {\"stroke\": \"#8CBCCB\", \"strokeWidth\": 2}, \"trail\": {\"color\": \"#8CBCCB\", \"stroke\": \"#8CBCCB\", \"strokeWidth\": 0, \"size\": 1}, \"path\": {\"stroke\": \"#8CBCCB\", \"strokeWidth\": 0.5}, \"rect\": {\"fill\": \"#8CBCCB\"}, \"point\": {\"filled\": true, \"shape\": \"circle\"}, \"shape\": {\"stroke\": \"#8CBCCB\"}, \"text\": {\"font\": \"Nunito Sans\", \"color\": \"#8CBCCB\", \"fontSize\": 11, \"align\": \"center\", \"fontWeight\": 400, \"size\": 11}, \"bar\": {\"binSpacing\": 2, \"fill\": \"#8CBCCB\", \"stroke\": false}, \"background\": \"white\", \"font\": \"Raleway\"}, \"data\": {\"name\": \"data-0c92b268543c477ff12a3ca1282c87ed\"}, \"mark\": \"bar\", \"encoding\": {\"color\": {\"field\": \"count\", \"legend\": {\"title\": \"Count\"}, \"scale\": {\"range\": [\"#B9D6DF\", \"#8CBCCB\", \"#2EA8CE\", \"#136C97\", \"#0B405B\"]}, \"type\": \"quantitative\"}, \"tooltip\": [{\"field\": \"value\", \"type\": \"nominal\"}, {\"field\": \"count\", \"type\": \"quantitative\"}], \"x\": {\"field\": \"value\", \"sort\": \"-y\", \"title\": \"Value\", \"type\": \"nominal\"}, \"y\": {\"field\": \"count\", \"title\": \"Count\", \"type\": \"quantitative\"}}, \"title\": \"Top 20 Primary Agencies\", \"$schema\": \"https://vega.github.io/schema/vega-lite/v4.17.0.json\", \"datasets\": {\"data-0c92b268543c477ff12a3ca1282c87ed\": [{\"value\": \"Contra Costa County\", \"count\": 153, \"variable\": \"primary_agency_name\"}, {\"value\": \"Oakland\", \"count\": 145, \"variable\": \"primary_agency_name\"}, {\"value\": \"Metropolitan Transportation Commission\", \"count\": 142, \"variable\": \"primary_agency_name\"}, {\"value\": \"San Jose\", \"count\": 137, \"variable\": \"primary_agency_name\"}, {\"value\": \"Santa Clara County\", \"count\": 131, \"variable\": \"primary_agency_name\"}, {\"value\": \"Napa County\", \"count\": 115, \"variable\": \"primary_agency_name\"}, {\"value\": \"Sonoma County\", \"count\": 97, \"variable\": \"primary_agency_name\"}, {\"value\": \"City & County of San Francisco, MTA/Parking & Traffic\", \"count\": 95, \"variable\": \"primary_agency_name\"}, {\"value\": \"Marin County\", \"count\": 89, \"variable\": \"primary_agency_name\"}, {\"value\": \"Sunnyvale\", \"count\": 87, \"variable\": \"primary_agency_name\"}, {\"value\": \"Alameda County\", \"count\": 84, \"variable\": \"primary_agency_name\"}, {\"value\": \"San Francisco County\", \"count\": 79, \"variable\": \"primary_agency_name\"}, {\"value\": \"Solano County\", \"count\": 70, \"variable\": \"primary_agency_name\"}, {\"value\": \"Santa Clara Valley Transportation Authority\", \"count\": 55, \"variable\": \"primary_agency_name\"}, {\"value\": \"Vacaville\", \"count\": 46, \"variable\": \"primary_agency_name\"}, {\"value\": \"Golden Gate Bridge, Highway And Transportation Distri\", \"count\": 44, \"variable\": \"primary_agency_name\"}, {\"value\": \"Fremont\", \"count\": 42, \"variable\": \"primary_agency_name\"}, {\"value\": \"San Francisco Bay Area Rapid Transit District\", \"count\": 41, \"variable\": \"primary_agency_name\"}, {\"value\": \"Concord\", \"count\": 39, \"variable\": \"primary_agency_name\"}, {\"value\": \"Vallejo\", \"count\": 37, \"variable\": \"primary_agency_name\"}]}}, {\"mode\": \"vega-lite\"});\n",
       "</script>"
      ],
      "text/plain": [
       "alt.Chart(...)"
      ]
     },
     "metadata": {},
     "output_type": "display_data"
    }
   ],
   "source": [
    "display(\n",
    "    Markdown(\n",
    "        f\"{df.prepared_y.min()}-{df.prepared_y.max()}: \"\n",
    "        f\"<br>The **top 20 agencies** were responsible for \"\n",
    "        f\"**{core_agency.pct_top20_project[0]}% of all projects** and \"\n",
    "        f\"**{core_agency.pct_top20_total_requested[0]}%** \"\n",
    "        \"**of total requested funds** (2021$).\"\n",
    "    )  \n",
    ")\n",
    "\n",
    "basic_bar_chart(df_top[df_top.variable==\"primary_agency_name\"], \"value\", \"count\", \n",
    "                title=\"Top 20 Primary Agencies\")"
   ]
  },
  {
   "cell_type": "code",
   "execution_count": 13,
   "id": "ad487fc7-1239-446e-87a6-5a39456a3957",
   "metadata": {
    "execution": {
     "iopub.execute_input": "2022-03-21T22:30:40.801622Z",
     "iopub.status.busy": "2022-03-21T22:30:40.801412Z",
     "iopub.status.idle": "2022-03-21T22:30:40.806889Z",
     "shell.execute_reply": "2022-03-21T22:30:40.806427Z"
    },
    "jupyter": {
     "source_hidden": true
    },
    "papermill": {
     "duration": 0.026419,
     "end_time": "2022-03-21T22:30:40.808624",
     "exception": false,
     "start_time": "2022-03-21T22:30:40.782205",
     "status": "completed"
    },
    "tags": [
     "remove_input"
    ]
   },
   "outputs": [],
   "source": [
    "def make_funding_long(df, work_categories_list):\n",
    "    funding_cols = [\n",
    "        'adjusted_total_requested', 'adjusted_fed_requested', 'adjusted_ac_requested'\n",
    "    ]\n",
    "    \n",
    "    final = pd.DataFrame()\n",
    "    \n",
    "    # Since categories are not mutually exclusive, loop over the columns to include\n",
    "    # and create a new df that is long\n",
    "    for i in work_categories_list:\n",
    "        subset = df[df[i]==1]\n",
    "        agg_df = geography_utils.aggregate_by_geography(\n",
    "            subset,\n",
    "            group_cols = ['prepared_y'],\n",
    "            sum_cols = funding_cols,\n",
    "            count_cols = ['project_no'],\n",
    "            mean_cols = [\"processing_days\"],\n",
    "        )\n",
    "        agg_df = agg_df.assign(\n",
    "            category = i\n",
    "        )\n",
    "        \n",
    "        for c in funding_cols:\n",
    "            new_var = f\"mean_{c}\"\n",
    "            agg_df[new_var] = agg_df[c] / agg_df.project_no\n",
    "        \n",
    "        final = pd.concat([final, agg_df], axis=0, ignore_index=True)\n",
    "    \n",
    "    final = (final[final.prepared_y.notna()]\n",
    "             .reset_index(drop=True)\n",
    "             .astype({\"project_no\": \"int64\"}))\n",
    "             \n",
    "    return final"
   ]
  },
  {
   "cell_type": "code",
   "execution_count": 14,
   "id": "2d252bfd-f35f-4f39-9f87-3ec44303d4fd",
   "metadata": {
    "execution": {
     "iopub.execute_input": "2022-03-21T22:30:40.844545Z",
     "iopub.status.busy": "2022-03-21T22:30:40.844293Z",
     "iopub.status.idle": "2022-03-21T22:30:40.991191Z",
     "shell.execute_reply": "2022-03-21T22:30:40.990718Z"
    },
    "jupyter": {
     "source_hidden": true
    },
    "papermill": {
     "duration": 0.16674,
     "end_time": "2022-03-21T22:30:40.993038",
     "exception": false,
     "start_time": "2022-03-21T22:30:40.826298",
     "status": "completed"
    },
    "tags": [
     "remove_input"
    ]
   },
   "outputs": [
    {
     "data": {
      "text/html": [
       "<div>\n",
       "<style scoped>\n",
       "    .dataframe tbody tr th:only-of-type {\n",
       "        vertical-align: middle;\n",
       "    }\n",
       "\n",
       "    .dataframe tbody tr th {\n",
       "        vertical-align: top;\n",
       "    }\n",
       "\n",
       "    .dataframe thead th {\n",
       "        text-align: right;\n",
       "    }\n",
       "</style>\n",
       "<table border=\"1\" class=\"dataframe\">\n",
       "  <thead>\n",
       "    <tr style=\"text-align: right;\">\n",
       "      <th></th>\n",
       "      <th>prepared_y</th>\n",
       "      <th>adjusted_ac_requested</th>\n",
       "      <th>adjusted_fed_requested</th>\n",
       "      <th>adjusted_total_requested</th>\n",
       "      <th>processing_days</th>\n",
       "      <th>project_no</th>\n",
       "      <th>category</th>\n",
       "      <th>mean_adjusted_total_requested</th>\n",
       "      <th>mean_adjusted_fed_requested</th>\n",
       "      <th>mean_adjusted_ac_requested</th>\n",
       "    </tr>\n",
       "  </thead>\n",
       "  <tbody>\n",
       "    <tr>\n",
       "      <th>0</th>\n",
       "      <td>2018</td>\n",
       "      <td>-33,706.84</td>\n",
       "      <td>33,959,849.19</td>\n",
       "      <td>111,632,052.03</td>\n",
       "      <td>20.36</td>\n",
       "      <td>140</td>\n",
       "      <td>active_transp</td>\n",
       "      <td>797,371.80</td>\n",
       "      <td>242,570.35</td>\n",
       "      <td>-240.76</td>\n",
       "    </tr>\n",
       "    <tr>\n",
       "      <th>1</th>\n",
       "      <td>2017</td>\n",
       "      <td>-1,216,006.31</td>\n",
       "      <td>50,920,405.78</td>\n",
       "      <td>87,157,821.24</td>\n",
       "      <td>27.00</td>\n",
       "      <td>130</td>\n",
       "      <td>active_transp</td>\n",
       "      <td>670,444.78</td>\n",
       "      <td>391,695.43</td>\n",
       "      <td>-9,353.89</td>\n",
       "    </tr>\n",
       "  </tbody>\n",
       "</table>\n",
       "</div>"
      ],
      "text/plain": [
       "   prepared_y  adjusted_ac_requested  adjusted_fed_requested  \\\n",
       "0        2018             -33,706.84           33,959,849.19   \n",
       "1        2017          -1,216,006.31           50,920,405.78   \n",
       "\n",
       "   adjusted_total_requested  processing_days  project_no       category  \\\n",
       "0            111,632,052.03            20.36         140  active_transp   \n",
       "1             87,157,821.24            27.00         130  active_transp   \n",
       "\n",
       "   mean_adjusted_total_requested  mean_adjusted_fed_requested  \\\n",
       "0                     797,371.80                   242,570.35   \n",
       "1                     670,444.78                   391,695.43   \n",
       "\n",
       "   mean_adjusted_ac_requested  \n",
       "0                     -240.76  \n",
       "1                   -9,353.89  "
      ]
     },
     "execution_count": 14,
     "metadata": {},
     "output_type": "execute_result"
    }
   ],
   "source": [
    "WORK_CATEGORIES = ['active_transp', 'transit', 'bridge', \n",
    "                   'street', 'freeway', 'infra_resiliency_er',\n",
    "                   'congestion_relief']\n",
    "\n",
    "by_work_categories = make_funding_long(df, WORK_CATEGORIES)\n",
    "\n",
    "by_work_categories.head(2) "
   ]
  },
  {
   "cell_type": "markdown",
   "id": "52ca116e-5c3f-478e-8f22-03e27bcbb94d",
   "metadata": {
    "papermill": {
     "duration": 0.018001,
     "end_time": "2022-03-21T22:30:41.029016",
     "exception": false,
     "start_time": "2022-03-21T22:30:41.011015",
     "status": "completed"
    },
    "tags": []
   },
   "source": [
    "There's a possibility of needing to set the max y-axis value, especially if charts are being displayed side-by-side. Don't want one to be between 1-1M and another to be 1-10_000. \n",
    "\n",
    "May need to use some kind of calculation within chart function to set the Y_MAX"
   ]
  },
  {
   "cell_type": "code",
   "execution_count": 15,
   "id": "7e8c2da7-6a3a-4fa1-b3c0-4c7f168f14ac",
   "metadata": {
    "execution": {
     "iopub.execute_input": "2022-03-21T22:30:41.067123Z",
     "iopub.status.busy": "2022-03-21T22:30:41.066917Z",
     "iopub.status.idle": "2022-03-21T22:30:41.078474Z",
     "shell.execute_reply": "2022-03-21T22:30:41.078002Z"
    },
    "jupyter": {
     "source_hidden": true
    },
    "papermill": {
     "duration": 0.031903,
     "end_time": "2022-03-21T22:30:41.080121",
     "exception": false,
     "start_time": "2022-03-21T22:30:41.048218",
     "status": "completed"
    },
    "tags": [
     "remove_input"
    ]
   },
   "outputs": [
    {
     "data": {
      "text/plain": [
       "258656197.19283813"
      ]
     },
     "execution_count": 15,
     "metadata": {},
     "output_type": "execute_result"
    }
   ],
   "source": [
    "MAX_Y = (df.groupby([\"prepared_y\"] + WORK_CATEGORIES)\n",
    "         .agg({\"adjusted_total_requested\":\"sum\"})\n",
    "         .reset_index()\n",
    "        )[[\"adjusted_total_requested\"]].max()[0]\n",
    "MAX_Y"
   ]
  },
  {
   "cell_type": "markdown",
   "id": "2f1ad9fc-ec73-4708-b396-860762c5f414",
   "metadata": {
    "papermill": {
     "duration": 0.017763,
     "end_time": "2022-03-21T22:30:41.116508",
     "exception": false,
     "start_time": "2022-03-21T22:30:41.098745",
     "status": "completed"
    },
    "tags": []
   },
   "source": [
    "### Multiple Lines on Line Chart\n",
    "\n",
    "Two options for having multiple lines on `altair` chart\n",
    "\n",
    "1. Use `transform_filter`, then label at the end of the chart what that line represents\n",
    "* Labeling at the end of the line: https://stackoverflow.com/questions/61194028/adding-labels-at-end-of-line-chart-in-altair\n",
    "\n",
    "2. To have legend appear, the dataset must be long. It's the `alt.Color` encoding that is passed into the legend.\n",
    "\n",
    "Since each project can be tagged as several, making long dataset would require additional step to create this new aggregated df, not a simple pivot from wide to long."
   ]
  },
  {
   "cell_type": "code",
   "execution_count": 16,
   "id": "7ec273b0-dc07-4e5c-9e23-81475386222b",
   "metadata": {
    "execution": {
     "iopub.execute_input": "2022-03-21T22:30:41.154574Z",
     "iopub.status.busy": "2022-03-21T22:30:41.154362Z",
     "iopub.status.idle": "2022-03-21T22:30:41.160307Z",
     "shell.execute_reply": "2022-03-21T22:30:41.159844Z"
    },
    "jupyter": {
     "source_hidden": true
    },
    "papermill": {
     "duration": 0.027972,
     "end_time": "2022-03-21T22:30:41.162365",
     "exception": false,
     "start_time": "2022-03-21T22:30:41.134393",
     "status": "completed"
    },
    "tags": [
     "remove_input"
    ]
   },
   "outputs": [],
   "source": [
    "from altair import datum\n",
    "\n",
    "\n",
    "def line_chart(df):\n",
    "    category_cols = [\"active_transp\", \"transit\", \"bridge\"]\n",
    "    MAX_Y = (df.groupby([\"prepared_y\"] + category_cols)\n",
    "             .agg({\"total_requested\":\"sum\"})\n",
    "             .reset_index()\n",
    "            )[[\"total_requested\"]].max()[0]\n",
    "    \n",
    "    \n",
    "    base = (alt.Chart(df)\n",
    "        .mark_line()\n",
    "        .encode(\n",
    "            x=alt.X(\"year(prepared_date):O\", title=\"Year\"),\n",
    "            y=alt.Y(\"sum(total_requested):Q\", title=\"Total Requested (2021$)\", \n",
    "                   scale=alt.Scale(domain=[0, 400_000_000])), \n",
    "        )\n",
    "       )\n",
    "    \n",
    "    active = (base\n",
    "             .encode(color=alt.value(\"blue\"),\n",
    "             ).transform_filter(datum.active_transp == 1)\n",
    "            )\n",
    "    \n",
    "    transit = (base\n",
    "             .encode(color=alt.value(\"green\"),\n",
    "             ).transform_filter(datum.transit == 1)\n",
    "            )\n",
    "    \n",
    "    bridge = (base\n",
    "             .encode(color=alt.value(\"orange\"),\n",
    "             ).transform_filter(datum.bridge == 1)\n",
    "            )\n",
    "    \n",
    "    chart = (active + transit + bridge)\n",
    "    return chart"
   ]
  },
  {
   "cell_type": "code",
   "execution_count": 17,
   "id": "3c8a021f-5055-412a-add1-ea6b55c701a0",
   "metadata": {
    "execution": {
     "iopub.execute_input": "2022-03-21T22:30:41.210549Z",
     "iopub.status.busy": "2022-03-21T22:30:41.210095Z",
     "iopub.status.idle": "2022-03-21T22:30:41.214192Z",
     "shell.execute_reply": "2022-03-21T22:30:41.213482Z"
    },
    "jupyter": {
     "source_hidden": true
    },
    "papermill": {
     "duration": 0.035217,
     "end_time": "2022-03-21T22:30:41.216399",
     "exception": false,
     "start_time": "2022-03-21T22:30:41.181182",
     "status": "completed"
    },
    "tags": [
     "remove_input"
    ]
   },
   "outputs": [],
   "source": [
    "#line_chart(df)"
   ]
  },
  {
   "cell_type": "markdown",
   "id": "63ba2307-5356-4e59-b25a-22a7b47cee27",
   "metadata": {
    "papermill": {
     "duration": 0.022295,
     "end_time": "2022-03-21T22:30:41.262264",
     "exception": false,
     "start_time": "2022-03-21T22:30:41.239969",
     "status": "completed"
    },
    "tags": []
   },
   "source": [
    "Do some work to get the highlight/tooltip with selection/legend changes to work.\n",
    "\n",
    "\n",
    "https://github.com/cal-itp/data-analyses/blob/main/msd_dashboard_metric/04_validation_errors.ipynb\n",
    "\n",
    "https://stackoverflow.com/questions/66108224/combine-hover-and-click-selections-in-altair\n",
    "\n",
    "https://altair-viz.github.io/gallery/interactive_legend.html"
   ]
  },
  {
   "cell_type": "code",
   "execution_count": 18,
   "id": "3ede7709-e486-4738-a631-9f7d6edcb4e8",
   "metadata": {
    "execution": {
     "iopub.execute_input": "2022-03-21T22:30:41.308650Z",
     "iopub.status.busy": "2022-03-21T22:30:41.308408Z",
     "iopub.status.idle": "2022-03-21T22:30:41.316400Z",
     "shell.execute_reply": "2022-03-21T22:30:41.315798Z"
    },
    "jupyter": {
     "source_hidden": true
    },
    "papermill": {
     "duration": 0.033585,
     "end_time": "2022-03-21T22:30:41.318210",
     "exception": false,
     "start_time": "2022-03-21T22:30:41.284625",
     "status": "completed"
    },
    "tags": [
     "remove_input"
    ]
   },
   "outputs": [],
   "source": [
    "def line_chart2(df, y_col, chart_title):\n",
    "    \n",
    "    y_title = f\"{y_col.replace('adjusted_', '').replace('_', ' ')}\"\n",
    "    \n",
    "    if chart_title == \"\":\n",
    "        y_title.title()    \n",
    "    \n",
    "    #https://altair-viz.github.io/gallery/multiline_highlight.html\n",
    "    #https://altair-viz.github.io/gallery/interactive_legend.html\n",
    "    highlight = alt.selection(type='single', on=\"mouseover\", \n",
    "                              fields=['category', \"prepared_y\"], nearest=True)\n",
    "    selection = alt.selection_multi(\n",
    "                          fields=['category'], bind='legend')\n",
    "    \n",
    "\n",
    "    \n",
    "    chart = (alt.Chart(df)\n",
    "             .mark_line()\n",
    "             .encode(\n",
    "                 x=alt.X(\"prepared_y:O\", title=\"Year\"),\n",
    "                 y=alt.Y(f\"{y_col}:Q\", title=f\"{y_title} (2021$)\", \n",
    "                        scale=alt.Scale(domain=[0, \n",
    "                                                by_work_categories[y_col].max()\n",
    "                                               ])\n",
    "                        ),\n",
    "                 color=alt.Color(\"category:N\", title = \"Work Category\"),\n",
    "                 tooltip = alt.Tooltip([\"prepared_y\", y_col, \"category\"]),\n",
    "                 opacity=alt.condition(selection, alt.value(1), alt.value(0.2)),\n",
    "                 size=alt.condition(~highlight, alt.value(2), alt.value(5))\n",
    "             ).properties(title={\n",
    "                 \"text\": [f\"{chart_title} Funds\", \"by Work Categories\"],\n",
    "                 \"subtitle\": \"2021$\"\n",
    "             }).add_selection(\n",
    "                 selection, highlight)\n",
    "    )\n",
    "    \n",
    "    \n",
    "    chart = styleguide.preset_chart_config(chart)\n",
    "    return chart"
   ]
  },
  {
   "cell_type": "code",
   "execution_count": 19,
   "id": "1aa0b3cf-32f4-4229-b4ed-dd401f59492f",
   "metadata": {
    "execution": {
     "iopub.execute_input": "2022-03-21T22:30:41.361658Z",
     "iopub.status.busy": "2022-03-21T22:30:41.361336Z",
     "iopub.status.idle": "2022-03-21T22:30:41.408591Z",
     "shell.execute_reply": "2022-03-21T22:30:41.408009Z"
    },
    "jupyter": {
     "source_hidden": true
    },
    "papermill": {
     "duration": 0.069873,
     "end_time": "2022-03-21T22:30:41.410417",
     "exception": false,
     "start_time": "2022-03-21T22:30:41.340544",
     "status": "completed"
    },
    "tags": [
     "remove_input"
    ]
   },
   "outputs": [
    {
     "data": {
      "text/html": [
       "\n",
       "<div id=\"altair-viz-4b54d967abed4d85a6d885070075397d\"></div>\n",
       "<script type=\"text/javascript\">\n",
       "  var VEGA_DEBUG = (typeof VEGA_DEBUG == \"undefined\") ? {} : VEGA_DEBUG;\n",
       "  (function(spec, embedOpt){\n",
       "    let outputDiv = document.currentScript.previousElementSibling;\n",
       "    if (outputDiv.id !== \"altair-viz-4b54d967abed4d85a6d885070075397d\") {\n",
       "      outputDiv = document.getElementById(\"altair-viz-4b54d967abed4d85a6d885070075397d\");\n",
       "    }\n",
       "    const paths = {\n",
       "      \"vega\": \"https://cdn.jsdelivr.net/npm//vega@5?noext\",\n",
       "      \"vega-lib\": \"https://cdn.jsdelivr.net/npm//vega-lib?noext\",\n",
       "      \"vega-lite\": \"https://cdn.jsdelivr.net/npm//vega-lite@4.17.0?noext\",\n",
       "      \"vega-embed\": \"https://cdn.jsdelivr.net/npm//vega-embed@6?noext\",\n",
       "    };\n",
       "\n",
       "    function maybeLoadScript(lib, version) {\n",
       "      var key = `${lib.replace(\"-\", \"\")}_version`;\n",
       "      return (VEGA_DEBUG[key] == version) ?\n",
       "        Promise.resolve(paths[lib]) :\n",
       "        new Promise(function(resolve, reject) {\n",
       "          var s = document.createElement('script');\n",
       "          document.getElementsByTagName(\"head\")[0].appendChild(s);\n",
       "          s.async = true;\n",
       "          s.onload = () => {\n",
       "            VEGA_DEBUG[key] = version;\n",
       "            return resolve(paths[lib]);\n",
       "          };\n",
       "          s.onerror = () => reject(`Error loading script: ${paths[lib]}`);\n",
       "          s.src = paths[lib];\n",
       "        });\n",
       "    }\n",
       "\n",
       "    function showError(err) {\n",
       "      outputDiv.innerHTML = `<div class=\"error\" style=\"color:red;\">${err}</div>`;\n",
       "      throw err;\n",
       "    }\n",
       "\n",
       "    function displayChart(vegaEmbed) {\n",
       "      vegaEmbed(outputDiv, spec, embedOpt)\n",
       "        .catch(err => showError(`Javascript Error: ${err.message}<br>This usually means there's a typo in your chart specification. See the javascript console for the full traceback.`));\n",
       "    }\n",
       "\n",
       "    if(typeof define === \"function\" && define.amd) {\n",
       "      requirejs.config({paths});\n",
       "      require([\"vega-embed\"], displayChart, err => showError(`Error loading script: ${err.message}`));\n",
       "    } else {\n",
       "      maybeLoadScript(\"vega\", \"5\")\n",
       "        .then(() => maybeLoadScript(\"vega-lite\", \"4.17.0\"))\n",
       "        .then(() => maybeLoadScript(\"vega-embed\", \"6\"))\n",
       "        .catch(showError)\n",
       "        .then(() => displayChart(vegaEmbed));\n",
       "    }\n",
       "  })({\"width\": 400, \"height\": 250, \"background\": \"white\", \"config\": {\"title\": {\"fontSize\": 18, \"font\": \"Raleway\", \"anchor\": \"middle\", \"fontColor\": \"#333\", \"fontWeight\": 300, \"offset\": 20}, \"header\": {\"labelFont\": \"Nunito Sans\", \"titleFont\": \"Raleway\"}, \"axis\": {\"domain\": true, \"domainColor\": \"#cbcbcb\", \"grid\": true, \"gridColor\": \"#cbcbcb\", \"gridWidth\": 1, \"labelColor\": \"#474747\", \"labelFontSize\": 10, \"titleColor\": \"#333\", \"tickColor\": \"#cbcbcb\", \"tickSize\": 10, \"titleFontSize\": 12, \"titlePadding\": 10, \"labelPadding\": 4, \"labelFont\": \"Nunito Sans\", \"titleFont\": \"Raleway\"}, \"axisBand\": {\"grid\": false}, \"range\": {\"category_bright\": [\"#2EA8CE\", \"#EB9F3C\", \"#F4D837\", \"#51BF9D\", \"#8CBCCB\", \"#9487C0\"], \"category_bold\": [\"#136C97\", \"#E16B26\", \"#F6BF16\", \"#00896B\", \"#7790A3\", \"#5B559C\"], \"diverging\": [\"#E16B26\", \"#EB9F3C\", \"#f6e7e1\", \"#8CBCCB\", \"#2EA8CE\", \"#136C97\"], \"sequential\": [\"#B9D6DF\", \"#8CBCCB\", \"#2EA8CE\", \"#136C97\", \"#0B405B\"]}, \"legend\": {\"labelFont\": \"Nunito Sans\", \"labelFontSize\": 11, \"symbolType\": \"square\", \"symbolSize\": 30, \"titleFont\": \"Raleway\", \"titleFontSize\": 14, \"titlePadding\": 10, \"padding\": 1, \"orient\": \"right\", \"labelLimit\": 0, \"labelColor\": \"#333\", \"titleColor\": \"#333\"}, \"view\": {\"stroke\": \"transparent\"}, \"group\": {\"fill\": \"white\"}, \"arc\": {\"fill\": \"#8CBCCB\"}, \"area\": {\"fill\": \"#8CBCCB\"}, \"line\": {\"stroke\": \"#8CBCCB\", \"strokeWidth\": 2}, \"trail\": {\"color\": \"#8CBCCB\", \"stroke\": \"#8CBCCB\", \"strokeWidth\": 0, \"size\": 1}, \"path\": {\"stroke\": \"#8CBCCB\", \"strokeWidth\": 0.5}, \"rect\": {\"fill\": \"#8CBCCB\"}, \"point\": {\"filled\": true, \"shape\": \"circle\"}, \"shape\": {\"stroke\": \"#8CBCCB\"}, \"text\": {\"font\": \"Nunito Sans\", \"color\": \"#8CBCCB\", \"fontSize\": 11, \"align\": \"center\", \"fontWeight\": 400, \"size\": 11}, \"bar\": {\"binSpacing\": 2, \"fill\": \"#8CBCCB\", \"stroke\": false}, \"background\": \"white\", \"font\": \"Raleway\"}, \"data\": {\"name\": \"data-3b38091d72aeef718ab3d95786917ee7\"}, \"mark\": \"line\", \"encoding\": {\"color\": {\"field\": \"category\", \"title\": \"Work Category\", \"type\": \"nominal\"}, \"opacity\": {\"condition\": {\"value\": 1, \"selection\": \"selector002\"}, \"value\": 0.2}, \"size\": {\"condition\": {\"value\": 2, \"selection\": {\"not\": \"selector001\"}}, \"value\": 5}, \"tooltip\": [{\"field\": \"prepared_y\", \"type\": \"quantitative\"}, {\"field\": \"adjusted_total_requested\", \"type\": \"quantitative\"}, {\"field\": \"category\", \"type\": \"nominal\"}], \"x\": {\"field\": \"prepared_y\", \"title\": \"Year\", \"type\": \"ordinal\"}, \"y\": {\"field\": \"adjusted_total_requested\", \"scale\": {\"domain\": [0, 411981527.565411]}, \"title\": \"total requested (2021$)\", \"type\": \"quantitative\"}}, \"selection\": {\"selector002\": {\"type\": \"multi\", \"fields\": [\"category\"], \"bind\": \"legend\"}, \"selector001\": {\"type\": \"single\", \"on\": \"mouseover\", \"fields\": [\"category\", \"prepared_y\"], \"nearest\": true}}, \"title\": {\"text\": [\"Total Requested Funds\", \"by Work Categories\"], \"subtitle\": \"2021$\"}, \"$schema\": \"https://vega.github.io/schema/vega-lite/v4.17.0.json\", \"datasets\": {\"data-3b38091d72aeef718ab3d95786917ee7\": [{\"prepared_y\": 2018, \"adjusted_ac_requested\": -33706.84252397611, \"adjusted_fed_requested\": 33959849.185301416, \"adjusted_total_requested\": 111632052.02668883, \"processing_days\": 20.357142857142858, \"project_no\": 140, \"category\": \"active_transp\", \"mean_adjusted_total_requested\": 797371.8001906344, \"mean_adjusted_fed_requested\": 242570.35132358153, \"mean_adjusted_ac_requested\": -240.76316088554367}, {\"prepared_y\": 2017, \"adjusted_ac_requested\": -1216006.314028787, \"adjusted_fed_requested\": 50920405.77727135, \"adjusted_total_requested\": 87157821.23994796, \"processing_days\": 27.0, \"project_no\": 130, \"category\": \"active_transp\", \"mean_adjusted_total_requested\": 670444.7787688305, \"mean_adjusted_fed_requested\": 391695.4290559335, \"mean_adjusted_ac_requested\": -9353.894723298361}, {\"prepared_y\": 2016, \"adjusted_ac_requested\": 1272658.4771543671, \"adjusted_fed_requested\": 76108437.52403393, \"adjusted_total_requested\": 122638664.33685718, \"processing_days\": 28.79432624113475, \"project_no\": 141, \"category\": \"active_transp\", \"mean_adjusted_total_requested\": 869777.7612543063, \"mean_adjusted_fed_requested\": 539776.1526527229, \"mean_adjusted_ac_requested\": 9025.946646484874}, {\"prepared_y\": 2015, \"adjusted_ac_requested\": 0.0, \"adjusted_fed_requested\": 66733904.586173154, \"adjusted_total_requested\": 108694551.97127338, \"processing_days\": 21.67153284671533, \"project_no\": 137, \"category\": \"active_transp\", \"mean_adjusted_total_requested\": 793390.8903012655, \"mean_adjusted_fed_requested\": 487108.79259980406, \"mean_adjusted_ac_requested\": 0.0}, {\"prepared_y\": 2014, \"adjusted_ac_requested\": -571907.7638981405, \"adjusted_fed_requested\": 35368273.90717716, \"adjusted_total_requested\": 87442542.71960801, \"processing_days\": 30.734265734265733, \"project_no\": 143, \"category\": \"active_transp\", \"mean_adjusted_total_requested\": 611486.3127245315, \"mean_adjusted_fed_requested\": 247330.58676347663, \"mean_adjusted_ac_requested\": -3999.354992294689}, {\"prepared_y\": 2013, \"adjusted_ac_requested\": 0.0, \"adjusted_fed_requested\": 2228065.719464233, \"adjusted_total_requested\": 1648045.8538963932, \"processing_days\": 171.53846153846155, \"project_no\": 13, \"category\": \"active_transp\", \"mean_adjusted_total_requested\": 126772.75799203025, \"mean_adjusted_fed_requested\": 171389.67072801793, \"mean_adjusted_ac_requested\": 0.0}, {\"prepared_y\": 2012, \"adjusted_ac_requested\": 0.0, \"adjusted_fed_requested\": 4535197.945075135, \"adjusted_total_requested\": 12483105.149737615, \"processing_days\": 790.3333333333334, \"project_no\": 3, \"category\": \"active_transp\", \"mean_adjusted_total_requested\": 4161035.0499125384, \"mean_adjusted_fed_requested\": 1511732.6483583783, \"mean_adjusted_ac_requested\": 0.0}, {\"prepared_y\": 2019, \"adjusted_ac_requested\": -79492.12979149335, \"adjusted_fed_requested\": 40020254.19492422, \"adjusted_total_requested\": 69902599.39563145, \"processing_days\": 45.706896551724135, \"project_no\": 116, \"category\": \"active_transp\", \"mean_adjusted_total_requested\": 602608.6154795814, \"mean_adjusted_fed_requested\": 345002.19133555365, \"mean_adjusted_ac_requested\": -685.2769809611495}, {\"prepared_y\": 2020, \"adjusted_ac_requested\": 2740992.6096990835, \"adjusted_fed_requested\": 49377570.189716205, \"adjusted_total_requested\": 73185384.96867988, \"processing_days\": 23.96470588235294, \"project_no\": 85, \"category\": \"active_transp\", \"mean_adjusted_total_requested\": 861004.5290432926, \"mean_adjusted_fed_requested\": 580912.5904672495, \"mean_adjusted_ac_requested\": 32246.971878812747}, {\"prepared_y\": 2021, \"adjusted_ac_requested\": -2618002.2295987043, \"adjusted_fed_requested\": 35742012.629372485, \"adjusted_total_requested\": 61300449.96599213, \"processing_days\": 27.442857142857143, \"project_no\": 140, \"category\": \"active_transp\", \"mean_adjusted_total_requested\": 437860.3568999438, \"mean_adjusted_fed_requested\": 255300.09020980346, \"mean_adjusted_ac_requested\": -18700.01592570503}, {\"prepared_y\": 2022, \"adjusted_ac_requested\": 0.0, \"adjusted_fed_requested\": 8576181.387877204, \"adjusted_total_requested\": 9669418.800781796, \"processing_days\": 26.6875, \"project_no\": 16, \"category\": \"active_transp\", \"mean_adjusted_total_requested\": 604338.6750488622, \"mean_adjusted_fed_requested\": 536011.3367423252, \"mean_adjusted_ac_requested\": 0.0}, {\"prepared_y\": 2018, \"adjusted_ac_requested\": 310576.4613531047, \"adjusted_fed_requested\": 14658964.440471984, \"adjusted_total_requested\": 21497450.164805543, \"processing_days\": 29.44, \"project_no\": 25, \"category\": \"transit\", \"mean_adjusted_total_requested\": 859898.0065922217, \"mean_adjusted_fed_requested\": 586358.5776188794, \"mean_adjusted_ac_requested\": 12423.058454124188}, {\"prepared_y\": 2017, \"adjusted_ac_requested\": 0.0, \"adjusted_fed_requested\": 12430849.661091808, \"adjusted_total_requested\": 17401712.524462946, \"processing_days\": 26.357142857142858, \"project_no\": 28, \"category\": \"transit\", \"mean_adjusted_total_requested\": 621489.7330165338, \"mean_adjusted_fed_requested\": 443958.9164675646, \"mean_adjusted_ac_requested\": 0.0}, {\"prepared_y\": 2016, \"adjusted_ac_requested\": 119941.29532677392, \"adjusted_fed_requested\": 17083551.406032003, \"adjusted_total_requested\": 21405260.384746354, \"processing_days\": 34.26086956521739, \"project_no\": 23, \"category\": \"transit\", \"mean_adjusted_total_requested\": 930663.494988972, \"mean_adjusted_fed_requested\": 742763.1046100871, \"mean_adjusted_ac_requested\": 5214.83892725104}, {\"prepared_y\": 2015, \"adjusted_ac_requested\": 0.0, \"adjusted_fed_requested\": 7696154.803507344, \"adjusted_total_requested\": 14676354.956544891, \"processing_days\": 16.791666666666668, \"project_no\": 24, \"category\": \"transit\", \"mean_adjusted_total_requested\": 611514.7898560371, \"mean_adjusted_fed_requested\": 320673.116812806, \"mean_adjusted_ac_requested\": 0.0}, {\"prepared_y\": 2013, \"adjusted_ac_requested\": 0.0, \"adjusted_fed_requested\": -298384.79748332634, \"adjusted_total_requested\": -665627.2672549118, \"processing_days\": 134.83333333333334, \"project_no\": 6, \"category\": \"transit\", \"mean_adjusted_total_requested\": -110937.87787581864, \"mean_adjusted_fed_requested\": -49730.79958055439, \"mean_adjusted_ac_requested\": 0.0}, {\"prepared_y\": 2014, \"adjusted_ac_requested\": 0.0, \"adjusted_fed_requested\": 13169855.437436616, \"adjusted_total_requested\": 13488934.400574157, \"processing_days\": 15.375, \"project_no\": 16, \"category\": \"transit\", \"mean_adjusted_total_requested\": 843058.4000358848, \"mean_adjusted_fed_requested\": 823115.9648397885, \"mean_adjusted_ac_requested\": 0.0}, {\"prepared_y\": 2019, \"adjusted_ac_requested\": 0.0, \"adjusted_fed_requested\": 6477316.237356396, \"adjusted_total_requested\": 8896980.355764868, \"processing_days\": 41.82608695652174, \"project_no\": 23, \"category\": \"transit\", \"mean_adjusted_total_requested\": 386825.23285934207, \"mean_adjusted_fed_requested\": 281622.445102452, \"mean_adjusted_ac_requested\": 0.0}, {\"prepared_y\": 2020, \"adjusted_ac_requested\": 0.0, \"adjusted_fed_requested\": 7310574.206760053, \"adjusted_total_requested\": 12185018.24670168, \"processing_days\": 35.54545454545455, \"project_no\": 11, \"category\": \"transit\", \"mean_adjusted_total_requested\": 1107728.9315183347, \"mean_adjusted_fed_requested\": 664597.6551600047, \"mean_adjusted_ac_requested\": 0.0}, {\"prepared_y\": 2021, \"adjusted_ac_requested\": 4936290.923948997, \"adjusted_fed_requested\": 3047781.4556164234, \"adjusted_total_requested\": 8332800.596556757, \"processing_days\": 37.107142857142854, \"project_no\": 28, \"category\": \"transit\", \"mean_adjusted_total_requested\": 297600.02130559843, \"mean_adjusted_fed_requested\": 108849.33770058655, \"mean_adjusted_ac_requested\": 176296.1044267499}, {\"prepared_y\": 2022, \"adjusted_ac_requested\": -4757585.373249677, \"adjusted_fed_requested\": 7769744.595438702, \"adjusted_total_requested\": 5057410.804202769, \"processing_days\": 16.5, \"project_no\": 8, \"category\": \"transit\", \"mean_adjusted_total_requested\": 632176.3505253461, \"mean_adjusted_fed_requested\": 971218.0744298378, \"mean_adjusted_ac_requested\": -594698.1716562096}, {\"prepared_y\": 2018, \"adjusted_ac_requested\": 21019736.410469647, \"adjusted_fed_requested\": 66262313.18691605, \"adjusted_total_requested\": 112810917.87372606, \"processing_days\": 32.6865671641791, \"project_no\": 67, \"category\": \"bridge\", \"mean_adjusted_total_requested\": 1683745.0428914337, \"mean_adjusted_fed_requested\": 988989.7490584486, \"mean_adjusted_ac_requested\": 313727.4091114873}, {\"prepared_y\": 2017, \"adjusted_ac_requested\": -3393544.1952892705, \"adjusted_fed_requested\": 28318896.48449561, \"adjusted_total_requested\": 27295211.08704354, \"processing_days\": 26.38095238095238, \"project_no\": 42, \"category\": \"bridge\", \"mean_adjusted_total_requested\": 649885.9782629414, \"mean_adjusted_fed_requested\": 674259.4401070384, \"mean_adjusted_ac_requested\": -80798.6713164112}, {\"prepared_y\": 2016, \"adjusted_ac_requested\": 9530253.503685113, \"adjusted_fed_requested\": 39354309.87588441, \"adjusted_total_requested\": 56337336.81317759, \"processing_days\": 31.051724137931036, \"project_no\": 58, \"category\": \"bridge\", \"mean_adjusted_total_requested\": 971333.3933306482, \"mean_adjusted_fed_requested\": 678522.5840669726, \"mean_adjusted_ac_requested\": 164314.71558077782}, {\"prepared_y\": 2015, \"adjusted_ac_requested\": 8741164.749954645, \"adjusted_fed_requested\": 50383808.04374159, \"adjusted_total_requested\": 64570072.832033575, \"processing_days\": 31.071428571428573, \"project_no\": 70, \"category\": \"bridge\", \"mean_adjusted_total_requested\": 922429.611886194, \"mean_adjusted_fed_requested\": 719768.6863391655, \"mean_adjusted_ac_requested\": 124873.78214220921}, {\"prepared_y\": 2014, \"adjusted_ac_requested\": 3969463.6609695316, \"adjusted_fed_requested\": 41861018.54705326, \"adjusted_total_requested\": 54478039.40071797, \"processing_days\": 18.278688524590162, \"project_no\": 61, \"category\": \"bridge\", \"mean_adjusted_total_requested\": 893082.6131265241, \"mean_adjusted_fed_requested\": 686246.2056893978, \"mean_adjusted_ac_requested\": 65073.17476999232}, {\"prepared_y\": 2013, \"adjusted_ac_requested\": -664376.8534282645, \"adjusted_fed_requested\": 22181584.057376698, \"adjusted_total_requested\": 24421739.394200057, \"processing_days\": 128.0, \"project_no\": 6, \"category\": \"bridge\", \"mean_adjusted_total_requested\": 4070289.899033343, \"mean_adjusted_fed_requested\": 3696930.6762294495, \"mean_adjusted_ac_requested\": -110729.47557137742}, {\"prepared_y\": 2019, \"adjusted_ac_requested\": -26765379.68101519, \"adjusted_fed_requested\": 87374842.1244151, \"adjusted_total_requested\": 77867760.57341133, \"processing_days\": 80.04545454545455, \"project_no\": 66, \"category\": \"bridge\", \"mean_adjusted_total_requested\": 1179814.554142596, \"mean_adjusted_fed_requested\": 1323861.2443093196, \"mean_adjusted_ac_requested\": -405536.0557729574}, {\"prepared_y\": 2020, \"adjusted_ac_requested\": 703284.47010517, \"adjusted_fed_requested\": 15513407.750376858, \"adjusted_total_requested\": 18314363.26925112, \"processing_days\": 51.270270270270274, \"project_no\": 37, \"category\": \"bridge\", \"mean_adjusted_total_requested\": 494982.79106084106, \"mean_adjusted_fed_requested\": 419281.2905507259, \"mean_adjusted_ac_requested\": 19007.68838122081}, {\"prepared_y\": 2021, \"adjusted_ac_requested\": 12469547.619581182, \"adjusted_fed_requested\": 17677046.294501886, \"adjusted_total_requested\": 36518551.30070486, \"processing_days\": 36.03174603174603, \"project_no\": 63, \"category\": \"bridge\", \"mean_adjusted_total_requested\": 579659.5444556327, \"mean_adjusted_fed_requested\": 280588.03642066487, \"mean_adjusted_ac_requested\": 197929.3272949394}, {\"prepared_y\": 2022, \"adjusted_ac_requested\": -969751.80933174, \"adjusted_fed_requested\": 6338022.582310029, \"adjusted_total_requested\": 6312012.8240389405, \"processing_days\": 48.0, \"project_no\": 4, \"category\": \"bridge\", \"mean_adjusted_total_requested\": 1578003.2060097351, \"mean_adjusted_fed_requested\": 1584505.6455775073, \"mean_adjusted_ac_requested\": -242437.952332935}, {\"prepared_y\": 2018, \"adjusted_ac_requested\": -1240001.7891349345, \"adjusted_fed_requested\": 42937083.09140323, \"adjusted_total_requested\": 105799983.60073178, \"processing_days\": 25.93548387096774, \"project_no\": 155, \"category\": \"street\", \"mean_adjusted_total_requested\": 682580.5393595599, \"mean_adjusted_fed_requested\": 277013.4392993757, \"mean_adjusted_ac_requested\": -8000.011542806029}, {\"prepared_y\": 2017, \"adjusted_ac_requested\": 430445.23142076633, \"adjusted_fed_requested\": 48142816.69068644, \"adjusted_total_requested\": 68469177.61718418, \"processing_days\": 31.571428571428573, \"project_no\": 133, \"category\": \"street\", \"mean_adjusted_total_requested\": 514805.8467457457, \"mean_adjusted_fed_requested\": 361976.0653435071, \"mean_adjusted_ac_requested\": 3236.4303114343334}, {\"prepared_y\": 2016, \"adjusted_ac_requested\": 66541.29366092614, \"adjusted_fed_requested\": 100217732.49185488, \"adjusted_total_requested\": 138353596.65382963, \"processing_days\": 24.346153846153847, \"project_no\": 156, \"category\": \"street\", \"mean_adjusted_total_requested\": 886882.0298322412, \"mean_adjusted_fed_requested\": 642421.3621272749, \"mean_adjusted_ac_requested\": 426.546754236706}, {\"prepared_y\": 2015, \"adjusted_ac_requested\": 0.0, \"adjusted_fed_requested\": 83172165.72142886, \"adjusted_total_requested\": 116067803.51998423, \"processing_days\": 15.506024096385541, \"project_no\": 166, \"category\": \"street\", \"mean_adjusted_total_requested\": 699203.6356625556, \"mean_adjusted_fed_requested\": 501037.14290017384, \"mean_adjusted_ac_requested\": 0.0}, {\"prepared_y\": 2014, \"adjusted_ac_requested\": 90424.00010397809, \"adjusted_fed_requested\": 46062122.37634384, \"adjusted_total_requested\": 53552684.94925695, \"processing_days\": 26.0225988700565, \"project_no\": 177, \"category\": \"street\", \"mean_adjusted_total_requested\": 302557.54208619747, \"mean_adjusted_fed_requested\": 260237.97952736632, \"mean_adjusted_ac_requested\": 510.870057084622}, {\"prepared_y\": 2012, \"adjusted_ac_requested\": 0.0, \"adjusted_fed_requested\": 2907311.175819583, \"adjusted_total_requested\": 6827234.502906805, \"processing_days\": 855.0, \"project_no\": 2, \"category\": \"street\", \"mean_adjusted_total_requested\": 3413617.2514534025, \"mean_adjusted_fed_requested\": 1453655.5879097914, \"mean_adjusted_ac_requested\": 0.0}, {\"prepared_y\": 2013, \"adjusted_ac_requested\": 0.0, \"adjusted_fed_requested\": 3895013.4801425952, \"adjusted_total_requested\": 5088031.567383493, \"processing_days\": 114.42857142857143, \"project_no\": 7, \"category\": \"street\", \"mean_adjusted_total_requested\": 726861.6524833562, \"mean_adjusted_fed_requested\": 556430.4971632279, \"mean_adjusted_ac_requested\": 0.0}, {\"prepared_y\": 2011, \"adjusted_ac_requested\": 0.0, \"adjusted_fed_requested\": 0.0, \"adjusted_total_requested\": 3822.3609989573256, \"processing_days\": 1140.0, \"project_no\": 1, \"category\": \"street\", \"mean_adjusted_total_requested\": 3822.3609989573256, \"mean_adjusted_fed_requested\": 0.0, \"mean_adjusted_ac_requested\": 0.0}, {\"prepared_y\": 2019, \"adjusted_ac_requested\": 30517162.17373252, \"adjusted_fed_requested\": 69044855.24496433, \"adjusted_total_requested\": 134025730.8080483, \"processing_days\": 47.96894409937888, \"project_no\": 161, \"category\": \"street\", \"mean_adjusted_total_requested\": 832457.9553294925, \"mean_adjusted_fed_requested\": 428850.0325774182, \"mean_adjusted_ac_requested\": 189547.59114119576}, {\"prepared_y\": 2020, \"adjusted_ac_requested\": 3741755.175520585, \"adjusted_fed_requested\": 83835661.44034, \"adjusted_total_requested\": 296499234.152601, \"processing_days\": 29.492753623188406, \"project_no\": 138, \"category\": \"street\", \"mean_adjusted_total_requested\": 2148545.175018848, \"mean_adjusted_fed_requested\": 607504.793045942, \"mean_adjusted_ac_requested\": 27114.16793855496}, {\"prepared_y\": 2021, \"adjusted_ac_requested\": -4287655.721544499, \"adjusted_fed_requested\": 54208277.03600508, \"adjusted_total_requested\": 92556566.87499076, \"processing_days\": 30.815217391304348, \"project_no\": 184, \"category\": \"street\", \"mean_adjusted_total_requested\": 503024.8199727759, \"mean_adjusted_fed_requested\": 294610.2012826363, \"mean_adjusted_ac_requested\": -23302.476747524448}, {\"prepared_y\": 2022, \"adjusted_ac_requested\": -5484748.154845135, \"adjusted_fed_requested\": 16704208.5356588, \"adjusted_total_requested\": 20245345.34367095, \"processing_days\": 18.939393939393938, \"project_no\": 33, \"category\": \"street\", \"mean_adjusted_total_requested\": 613495.3134445742, \"mean_adjusted_fed_requested\": 506188.13744420605, \"mean_adjusted_ac_requested\": -166204.4895407617}, {\"prepared_y\": 2018, \"adjusted_ac_requested\": 0.0, \"adjusted_fed_requested\": 13650645.342819132, \"adjusted_total_requested\": 13650645.342819132, \"processing_days\": 24.2, \"project_no\": 5, \"category\": \"freeway\", \"mean_adjusted_total_requested\": 2730129.0685638264, \"mean_adjusted_fed_requested\": 2730129.0685638264, \"mean_adjusted_ac_requested\": 0.0}, {\"prepared_y\": 2017, \"adjusted_ac_requested\": 0.0, \"adjusted_fed_requested\": 13837885.238735942, \"adjusted_total_requested\": 26817593.289518844, \"processing_days\": 47.75, \"project_no\": 4, \"category\": \"freeway\", \"mean_adjusted_total_requested\": 6704398.322379711, \"mean_adjusted_fed_requested\": 3459471.3096839855, \"mean_adjusted_ac_requested\": 0.0}, {\"prepared_y\": 2016, \"adjusted_ac_requested\": 0.0, \"adjusted_fed_requested\": 9357218.416245926, \"adjusted_total_requested\": 9357218.416245926, \"processing_days\": 17.75, \"project_no\": 4, \"category\": \"freeway\", \"mean_adjusted_total_requested\": 2339304.6040614815, \"mean_adjusted_fed_requested\": 2339304.6040614815, \"mean_adjusted_ac_requested\": 0.0}, {\"prepared_y\": 2015, \"adjusted_ac_requested\": 0.0, \"adjusted_fed_requested\": 1521551.1231021404, \"adjusted_total_requested\": 3862125.3025150103, \"processing_days\": 7.857142857142857, \"project_no\": 7, \"category\": \"freeway\", \"mean_adjusted_total_requested\": 551732.186073573, \"mean_adjusted_fed_requested\": 217364.44615744863, \"mean_adjusted_ac_requested\": 0.0}, {\"prepared_y\": 2013, \"adjusted_ac_requested\": 0.0, \"adjusted_fed_requested\": 16821846.2892801, \"adjusted_total_requested\": 16821846.2892801, \"processing_days\": 112.0, \"project_no\": 1, \"category\": \"freeway\", \"mean_adjusted_total_requested\": 16821846.2892801, \"mean_adjusted_fed_requested\": 16821846.2892801, \"mean_adjusted_ac_requested\": 0.0}, {\"prepared_y\": 2019, \"adjusted_ac_requested\": 0.0, \"adjusted_fed_requested\": 12235717.290526327, \"adjusted_total_requested\": 15552755.746170327, \"processing_days\": 29.0, \"project_no\": 5, \"category\": \"freeway\", \"mean_adjusted_total_requested\": 3110551.1492340653, \"mean_adjusted_fed_requested\": 2447143.458105265, \"mean_adjusted_ac_requested\": 0.0}, {\"prepared_y\": 2020, \"adjusted_ac_requested\": 185378.20911891505, \"adjusted_fed_requested\": 3109529.818553683, \"adjusted_total_requested\": 3318925.781723859, \"processing_days\": 69.5, \"project_no\": 4, \"category\": \"freeway\", \"mean_adjusted_total_requested\": 829731.4454309647, \"mean_adjusted_fed_requested\": 777382.4546384207, \"mean_adjusted_ac_requested\": 46344.55227972876}, {\"prepared_y\": 2021, \"adjusted_ac_requested\": 0.0, \"adjusted_fed_requested\": 5275536.1228642035, \"adjusted_total_requested\": 8727439.522647547, \"processing_days\": 60.125, \"project_no\": 8, \"category\": \"freeway\", \"mean_adjusted_total_requested\": 1090929.9403309433, \"mean_adjusted_fed_requested\": 659442.0153580254, \"mean_adjusted_ac_requested\": 0.0}, {\"prepared_y\": 2022, \"adjusted_ac_requested\": 0.0, \"adjusted_fed_requested\": 0.0, \"adjusted_total_requested\": 210036.2443456827, \"processing_days\": 18.0, \"project_no\": 1, \"category\": \"freeway\", \"mean_adjusted_total_requested\": 210036.2443456827, \"mean_adjusted_fed_requested\": 0.0, \"mean_adjusted_ac_requested\": 0.0}, {\"prepared_y\": 2018, \"adjusted_ac_requested\": -53650.74830953387, \"adjusted_fed_requested\": 224463992.48774916, \"adjusted_total_requested\": 292535298.4434031, \"processing_days\": 34.0, \"project_no\": 269, \"category\": \"infra_resiliency_er\", \"mean_adjusted_total_requested\": 1087491.8157747327, \"mean_adjusted_fed_requested\": 834438.6337834541, \"mean_adjusted_ac_requested\": -199.44516100198464}, {\"prepared_y\": 2017, \"adjusted_ac_requested\": -13241115.150084842, \"adjusted_fed_requested\": 166824744.65796277, \"adjusted_total_requested\": 185068265.83098626, \"processing_days\": 29.75, \"project_no\": 200, \"category\": \"infra_resiliency_er\", \"mean_adjusted_total_requested\": 925341.3291549314, \"mean_adjusted_fed_requested\": 834123.7232898138, \"mean_adjusted_ac_requested\": -66205.5757504242}, {\"prepared_y\": 2016, \"adjusted_ac_requested\": 101385328.24933855, \"adjusted_fed_requested\": 166922557.48785388, \"adjusted_total_requested\": 411818510.6190373, \"processing_days\": 29.03361344537815, \"project_no\": 238, \"category\": \"infra_resiliency_er\", \"mean_adjusted_total_requested\": 1730329.8765505769, \"mean_adjusted_fed_requested\": 701355.2835624113, \"mean_adjusted_ac_requested\": 425988.7741568847}, {\"prepared_y\": 2015, \"adjusted_ac_requested\": 76689596.32515813, \"adjusted_fed_requested\": 206525344.31949946, \"adjusted_total_requested\": 411981527.565411, \"processing_days\": 23.60330578512397, \"project_no\": 242, \"category\": \"infra_resiliency_er\", \"mean_adjusted_total_requested\": 1702403.0064686404, \"mean_adjusted_fed_requested\": 853410.51371694, \"mean_adjusted_ac_requested\": 316899.15836842207}, {\"prepared_y\": 2014, \"adjusted_ac_requested\": 1680644.5026920591, \"adjusted_fed_requested\": 121041094.84639473, \"adjusted_total_requested\": 192906603.98623458, \"processing_days\": 21.42063492063492, \"project_no\": 252, \"category\": \"infra_resiliency_er\", \"mean_adjusted_total_requested\": 765502.3967707722, \"mean_adjusted_fed_requested\": 480321.8049460108, \"mean_adjusted_ac_requested\": 6669.2242170319805}, {\"prepared_y\": 2013, \"adjusted_ac_requested\": 1080386.6256147553, \"adjusted_fed_requested\": 39133021.746785715, \"adjusted_total_requested\": 47749468.13063223, \"processing_days\": 106.61111111111111, \"project_no\": 18, \"category\": \"infra_resiliency_er\", \"mean_adjusted_total_requested\": 2652748.229479568, \"mean_adjusted_fed_requested\": 2174056.7637103177, \"mean_adjusted_ac_requested\": 60021.47920081974}, {\"prepared_y\": 2011, \"adjusted_ac_requested\": 0.0, \"adjusted_fed_requested\": 0.0, \"adjusted_total_requested\": 3822.3609989573256, \"processing_days\": 1140.0, \"project_no\": 1, \"category\": \"infra_resiliency_er\", \"mean_adjusted_total_requested\": 3822.3609989573256, \"mean_adjusted_fed_requested\": 0.0, \"mean_adjusted_ac_requested\": 0.0}, {\"prepared_y\": 2019, \"adjusted_ac_requested\": -95437940.34062737, \"adjusted_fed_requested\": 259355681.81864214, \"adjusted_total_requested\": 193445544.49837282, \"processing_days\": 53.58050847457627, \"project_no\": 236, \"category\": \"infra_resiliency_er\", \"mean_adjusted_total_requested\": 819684.5105863255, \"mean_adjusted_fed_requested\": 1098964.7534688227, \"mean_adjusted_ac_requested\": -404398.052290794}, {\"prepared_y\": 2020, \"adjusted_ac_requested\": -16849949.700414766, \"adjusted_fed_requested\": 192840187.42347723, \"adjusted_total_requested\": 394559971.78885597, \"processing_days\": 34.744565217391305, \"project_no\": 184, \"category\": \"infra_resiliency_er\", \"mean_adjusted_total_requested\": 2144347.672765522, \"mean_adjusted_fed_requested\": 1048044.4968667241, \"mean_adjusted_ac_requested\": -91575.81358921068}, {\"prepared_y\": 2021, \"adjusted_ac_requested\": -4732534.310421458, \"adjusted_fed_requested\": 97883921.61198583, \"adjusted_total_requested\": 129039298.19518983, \"processing_days\": 37.820717131474105, \"project_no\": 251, \"category\": \"infra_resiliency_er\", \"mean_adjusted_total_requested\": 514100.78962227027, \"mean_adjusted_fed_requested\": 389975.7833146846, \"mean_adjusted_ac_requested\": -18854.718368212983}, {\"prepared_y\": 2022, \"adjusted_ac_requested\": -5627564.065902301, \"adjusted_fed_requested\": 24496277.950654816, \"adjusted_total_requested\": 21110397.783064436, \"processing_days\": 19.565217391304348, \"project_no\": 46, \"category\": \"infra_resiliency_er\", \"mean_adjusted_total_requested\": 458921.6909361834, \"mean_adjusted_fed_requested\": 532527.7815359742, \"mean_adjusted_ac_requested\": -122338.34925874567}, {\"prepared_y\": 2018, \"adjusted_ac_requested\": 0.0, \"adjusted_fed_requested\": 5070925.08140044, \"adjusted_total_requested\": 5119722.361642623, \"processing_days\": 17.285714285714285, \"project_no\": 7, \"category\": \"congestion_relief\", \"mean_adjusted_total_requested\": 731388.9088060891, \"mean_adjusted_fed_requested\": 724417.8687714915, \"mean_adjusted_ac_requested\": 0.0}, {\"prepared_y\": 2017, \"adjusted_ac_requested\": 0.0, \"adjusted_fed_requested\": -141587.34230976715, \"adjusted_total_requested\": -401872.3330943292, \"processing_days\": 4.0, \"project_no\": 3, \"category\": \"congestion_relief\", \"mean_adjusted_total_requested\": -133957.4443647764, \"mean_adjusted_fed_requested\": -47195.780769922385, \"mean_adjusted_ac_requested\": 0.0}, {\"prepared_y\": 2016, \"adjusted_ac_requested\": 0.0, \"adjusted_fed_requested\": 10654595.394848809, \"adjusted_total_requested\": 10654595.394848809, \"processing_days\": 28.25, \"project_no\": 4, \"category\": \"congestion_relief\", \"mean_adjusted_total_requested\": 2663648.848712202, \"mean_adjusted_fed_requested\": 2663648.848712202, \"mean_adjusted_ac_requested\": 0.0}, {\"prepared_y\": 2015, \"adjusted_ac_requested\": 0.0, \"adjusted_fed_requested\": 382989.1948678787, \"adjusted_total_requested\": 467477.75450706074, \"processing_days\": 23.666666666666668, \"project_no\": 3, \"category\": \"congestion_relief\", \"mean_adjusted_total_requested\": 155825.91816902024, \"mean_adjusted_fed_requested\": 127663.06495595956, \"mean_adjusted_ac_requested\": 0.0}, {\"prepared_y\": 2014, \"adjusted_ac_requested\": 0.0, \"adjusted_fed_requested\": 979094.5793304134, \"adjusted_total_requested\": 1241953.3017511545, \"processing_days\": 6.333333333333333, \"project_no\": 3, \"category\": \"congestion_relief\", \"mean_adjusted_total_requested\": 413984.4339170515, \"mean_adjusted_fed_requested\": 326364.85977680446, \"mean_adjusted_ac_requested\": 0.0}, {\"prepared_y\": 2019, \"adjusted_ac_requested\": 0.0, \"adjusted_fed_requested\": 0.0, \"adjusted_total_requested\": 0.0, \"processing_days\": 23.0, \"project_no\": 1, \"category\": \"congestion_relief\", \"mean_adjusted_total_requested\": 0.0, \"mean_adjusted_fed_requested\": 0.0, \"mean_adjusted_ac_requested\": 0.0}, {\"prepared_y\": 2020, \"adjusted_ac_requested\": 0.0, \"adjusted_fed_requested\": -63596.95444959126, \"adjusted_total_requested\": -63596.95444959126, \"processing_days\": 9.5, \"project_no\": 4, \"category\": \"congestion_relief\", \"mean_adjusted_total_requested\": -15899.238612397816, \"mean_adjusted_fed_requested\": -15899.238612397816, \"mean_adjusted_ac_requested\": 0.0}, {\"prepared_y\": 2021, \"adjusted_ac_requested\": 0.0, \"adjusted_fed_requested\": 0.0, \"adjusted_total_requested\": 0.0, \"processing_days\": 17.0, \"project_no\": 1, \"category\": \"congestion_relief\", \"mean_adjusted_total_requested\": 0.0, \"mean_adjusted_fed_requested\": 0.0, \"mean_adjusted_ac_requested\": 0.0}, {\"prepared_y\": 2022, \"adjusted_ac_requested\": 0.0, \"adjusted_fed_requested\": 0.0, \"adjusted_total_requested\": 0.0, \"processing_days\": 18.0, \"project_no\": 1, \"category\": \"congestion_relief\", \"mean_adjusted_total_requested\": 0.0, \"mean_adjusted_fed_requested\": 0.0, \"mean_adjusted_ac_requested\": 0.0}]}}, {\"mode\": \"vega-lite\"});\n",
       "</script>"
      ],
      "text/plain": [
       "alt.Chart(...)"
      ]
     },
     "execution_count": 19,
     "metadata": {},
     "output_type": "execute_result"
    }
   ],
   "source": [
    "line_chart2(by_work_categories, \"adjusted_total_requested\", \n",
    "            \"Total Requested\")"
   ]
  },
  {
   "cell_type": "markdown",
   "id": "6ca287eb-e6de-40d0-92b5-29f7ff3e5d24",
   "metadata": {
    "papermill": {
     "duration": 0.019681,
     "end_time": "2022-03-21T22:30:41.452928",
     "exception": false,
     "start_time": "2022-03-21T22:30:41.433247",
     "status": "completed"
    },
    "tags": []
   },
   "source": [
    "### Side-by-side Charts"
   ]
  },
  {
   "cell_type": "code",
   "execution_count": 20,
   "id": "247c18eb-cb08-4ba1-ab85-fcd92b33b7f4",
   "metadata": {
    "execution": {
     "iopub.execute_input": "2022-03-21T22:30:41.492848Z",
     "iopub.status.busy": "2022-03-21T22:30:41.492659Z",
     "iopub.status.idle": "2022-03-21T22:30:41.498831Z",
     "shell.execute_reply": "2022-03-21T22:30:41.498428Z"
    },
    "jupyter": {
     "source_hidden": true
    },
    "papermill": {
     "duration": 0.028605,
     "end_time": "2022-03-21T22:30:41.500554",
     "exception": false,
     "start_time": "2022-03-21T22:30:41.471949",
     "status": "completed"
    },
    "tags": [
     "remove_input"
    ]
   },
   "outputs": [],
   "source": [
    "# Figure out which part of this function needs to be removed\n",
    "# The hconcat needs to be done before, then chart title can be added on combined chart\n",
    "# But sizing only be done on individual chart, not on combined chart\n",
    "\n",
    "from shared_utils.styleguide import *\n",
    "\n",
    "def preset_chart_config(chart):\n",
    "    chart = (\n",
    "        chart\n",
    "        .configure(background=backgroundColor, font=font)\n",
    "        .configure_axis(\n",
    "            domainColor=axisColor,\n",
    "            grid=True,\n",
    "            gridColor=axisColor,\n",
    "            gridWidth=1,\n",
    "            labelColor=guideLabelColor,\n",
    "            labelFont=labelFont,\n",
    "            labelFontSize=10,\n",
    "            titleColor=guideTitleColor,\n",
    "            titleFont=font,\n",
    "            tickColor=axisColor,\n",
    "            tickSize=10,\n",
    "            titleFontSize=12,\n",
    "            titlePadding=10,\n",
    "            labelPadding=4,\n",
    "        )\n",
    "        .configure_axisBand(grid=False)\n",
    "        .configure_title(\n",
    "            font=font,\n",
    "            fontSize=font_size,\n",
    "            anchor=\"middle\",\n",
    "            fontWeight=300,\n",
    "            offset=20,\n",
    "        )\n",
    "        .configure_header(labelFont=labelFont, titleFont=font)\n",
    "        .configure_legend(\n",
    "            labelColor=blackTitle,\n",
    "            labelFont=labelFont,\n",
    "            labelFontSize=11,\n",
    "            padding=1,\n",
    "            symbolSize=30,\n",
    "            symbolType=\"square\",\n",
    "            titleColor=blackTitle,\n",
    "            titleFont=font,\n",
    "            titleFontSize=14,\n",
    "            titlePadding=10,\n",
    "            labelLimit=0,\n",
    "        )\n",
    "    )\n",
    "    return chart"
   ]
  },
  {
   "cell_type": "code",
   "execution_count": 21,
   "id": "d705333b-2c21-4d2f-b6bc-dbc11d44e854",
   "metadata": {
    "execution": {
     "iopub.execute_input": "2022-03-21T22:30:41.540441Z",
     "iopub.status.busy": "2022-03-21T22:30:41.540234Z",
     "iopub.status.idle": "2022-03-21T22:30:41.546262Z",
     "shell.execute_reply": "2022-03-21T22:30:41.545765Z"
    },
    "jupyter": {
     "source_hidden": true
    },
    "papermill": {
     "duration": 0.028074,
     "end_time": "2022-03-21T22:30:41.547884",
     "exception": false,
     "start_time": "2022-03-21T22:30:41.519810",
     "status": "completed"
    },
    "tags": [
     "remove_input"
    ]
   },
   "outputs": [],
   "source": [
    "def setup_bar_chart(df, category_list):\n",
    "    subset = df[df.category.isin(category_list)]\n",
    "    \n",
    "    # Do the relabeling here in function\n",
    "    # Easier to set up lists using column names that contain underscores\n",
    "    CATEGORY_DICT = {\n",
    "        \"active_transp\": \"Active Transportation\",\n",
    "        \"infra_resiliency_er\": \"Infrastructure Resiliency\", \n",
    "    }\n",
    "    def category_labels(word):\n",
    "        if word in CATEGORY_DICT.keys():\n",
    "            word = CATEGORY_DICT[word]\n",
    "        else:\n",
    "            word = word.replace('_', ' ').title()\n",
    "        return word\n",
    "    \n",
    "    subset = subset.assign(\n",
    "        category = subset.apply(lambda x: category_labels(x.category), axis=1)\n",
    "    )\n",
    "    \n",
    "    chart = (alt.Chart(subset)\n",
    "             .mark_bar()\n",
    "             .encode(\n",
    "                 x=alt.X(\"category:N\", title=\"\"),\n",
    "                 y=alt.Y(\"mean(processing_days):Q\", title=\"Average Processing Days\"),\n",
    "                 color=alt.Color(\"category:N\", \n",
    "                                 scale=alt.Scale(range=cp.CALITP_CATEGORY_BRIGHT_COLORS)\n",
    "                                ),\n",
    "                 #https://stackoverflow.com/questions/68584375/how-do-i-limit-altair-tooltip-to-only-two-numbers-after-the-decimal-point\n",
    "                 tooltip=alt.Tooltip([\"category\", \"mean(processing_days)\"], format={'number': '.2f'})\n",
    "             ).properties(width=100, height=200)\n",
    "    )\n",
    "            \n",
    "    return chart\n"
   ]
  },
  {
   "cell_type": "code",
   "execution_count": 22,
   "id": "d706e457-3a96-41b6-83a7-508cdadc8f19",
   "metadata": {
    "execution": {
     "iopub.execute_input": "2022-03-21T22:30:41.588762Z",
     "iopub.status.busy": "2022-03-21T22:30:41.588460Z",
     "iopub.status.idle": "2022-03-21T22:30:41.625287Z",
     "shell.execute_reply": "2022-03-21T22:30:41.624552Z"
    },
    "jupyter": {
     "source_hidden": true
    },
    "papermill": {
     "duration": 0.060052,
     "end_time": "2022-03-21T22:30:41.627308",
     "exception": false,
     "start_time": "2022-03-21T22:30:41.567256",
     "status": "completed"
    },
    "tags": [
     "remove_input"
    ]
   },
   "outputs": [
    {
     "data": {
      "text/html": [
       "\n",
       "<div id=\"altair-viz-f58690509a334ad79ea7299a39d3f94d\"></div>\n",
       "<script type=\"text/javascript\">\n",
       "  var VEGA_DEBUG = (typeof VEGA_DEBUG == \"undefined\") ? {} : VEGA_DEBUG;\n",
       "  (function(spec, embedOpt){\n",
       "    let outputDiv = document.currentScript.previousElementSibling;\n",
       "    if (outputDiv.id !== \"altair-viz-f58690509a334ad79ea7299a39d3f94d\") {\n",
       "      outputDiv = document.getElementById(\"altair-viz-f58690509a334ad79ea7299a39d3f94d\");\n",
       "    }\n",
       "    const paths = {\n",
       "      \"vega\": \"https://cdn.jsdelivr.net/npm//vega@5?noext\",\n",
       "      \"vega-lib\": \"https://cdn.jsdelivr.net/npm//vega-lib?noext\",\n",
       "      \"vega-lite\": \"https://cdn.jsdelivr.net/npm//vega-lite@4.17.0?noext\",\n",
       "      \"vega-embed\": \"https://cdn.jsdelivr.net/npm//vega-embed@6?noext\",\n",
       "    };\n",
       "\n",
       "    function maybeLoadScript(lib, version) {\n",
       "      var key = `${lib.replace(\"-\", \"\")}_version`;\n",
       "      return (VEGA_DEBUG[key] == version) ?\n",
       "        Promise.resolve(paths[lib]) :\n",
       "        new Promise(function(resolve, reject) {\n",
       "          var s = document.createElement('script');\n",
       "          document.getElementsByTagName(\"head\")[0].appendChild(s);\n",
       "          s.async = true;\n",
       "          s.onload = () => {\n",
       "            VEGA_DEBUG[key] = version;\n",
       "            return resolve(paths[lib]);\n",
       "          };\n",
       "          s.onerror = () => reject(`Error loading script: ${paths[lib]}`);\n",
       "          s.src = paths[lib];\n",
       "        });\n",
       "    }\n",
       "\n",
       "    function showError(err) {\n",
       "      outputDiv.innerHTML = `<div class=\"error\" style=\"color:red;\">${err}</div>`;\n",
       "      throw err;\n",
       "    }\n",
       "\n",
       "    function displayChart(vegaEmbed) {\n",
       "      vegaEmbed(outputDiv, spec, embedOpt)\n",
       "        .catch(err => showError(`Javascript Error: ${err.message}<br>This usually means there's a typo in your chart specification. See the javascript console for the full traceback.`));\n",
       "    }\n",
       "\n",
       "    if(typeof define === \"function\" && define.amd) {\n",
       "      requirejs.config({paths});\n",
       "      require([\"vega-embed\"], displayChart, err => showError(`Error loading script: ${err.message}`));\n",
       "    } else {\n",
       "      maybeLoadScript(\"vega\", \"5\")\n",
       "        .then(() => maybeLoadScript(\"vega-lite\", \"4.17.0\"))\n",
       "        .then(() => maybeLoadScript(\"vega-embed\", \"6\"))\n",
       "        .catch(showError)\n",
       "        .then(() => displayChart(vegaEmbed));\n",
       "    }\n",
       "  })({\"width\": 400, \"height\": 250, \"background\": \"white\", \"config\": {\"title\": {\"fontSize\": 18, \"font\": \"Raleway\", \"anchor\": \"middle\", \"fontColor\": \"#333\", \"fontWeight\": 300, \"offset\": 20}, \"header\": {\"labelFont\": \"Nunito Sans\", \"titleFont\": \"Raleway\"}, \"axis\": {\"domain\": true, \"domainColor\": \"#cbcbcb\", \"grid\": true, \"gridColor\": \"#cbcbcb\", \"gridWidth\": 1, \"labelColor\": \"#474747\", \"labelFontSize\": 10, \"titleColor\": \"#333\", \"tickColor\": \"#cbcbcb\", \"tickSize\": 10, \"titleFontSize\": 12, \"titlePadding\": 10, \"labelPadding\": 4, \"labelFont\": \"Nunito Sans\", \"titleFont\": \"Raleway\"}, \"axisBand\": {\"grid\": false}, \"range\": {\"category_bright\": [\"#2EA8CE\", \"#EB9F3C\", \"#F4D837\", \"#51BF9D\", \"#8CBCCB\", \"#9487C0\"], \"category_bold\": [\"#136C97\", \"#E16B26\", \"#F6BF16\", \"#00896B\", \"#7790A3\", \"#5B559C\"], \"diverging\": [\"#E16B26\", \"#EB9F3C\", \"#f6e7e1\", \"#8CBCCB\", \"#2EA8CE\", \"#136C97\"], \"sequential\": [\"#B9D6DF\", \"#8CBCCB\", \"#2EA8CE\", \"#136C97\", \"#0B405B\"]}, \"legend\": {\"labelFont\": \"Nunito Sans\", \"labelFontSize\": 11, \"symbolType\": \"square\", \"symbolSize\": 30, \"titleFont\": \"Raleway\", \"titleFontSize\": 14, \"titlePadding\": 10, \"padding\": 1, \"orient\": \"right\", \"labelLimit\": 0, \"labelColor\": \"#333\", \"titleColor\": \"#333\"}, \"view\": {\"stroke\": \"transparent\"}, \"group\": {\"fill\": \"white\"}, \"arc\": {\"fill\": \"#8CBCCB\"}, \"area\": {\"fill\": \"#8CBCCB\"}, \"line\": {\"stroke\": \"#8CBCCB\", \"strokeWidth\": 2}, \"trail\": {\"color\": \"#8CBCCB\", \"stroke\": \"#8CBCCB\", \"strokeWidth\": 0, \"size\": 1}, \"path\": {\"stroke\": \"#8CBCCB\", \"strokeWidth\": 0.5}, \"rect\": {\"fill\": \"#8CBCCB\"}, \"point\": {\"filled\": true, \"shape\": \"circle\"}, \"shape\": {\"stroke\": \"#8CBCCB\"}, \"text\": {\"font\": \"Nunito Sans\", \"color\": \"#8CBCCB\", \"fontSize\": 11, \"align\": \"center\", \"fontWeight\": 400, \"size\": 11}, \"bar\": {\"binSpacing\": 2, \"fill\": \"#8CBCCB\", \"stroke\": false}, \"background\": \"white\", \"font\": \"Raleway\"}, \"hconcat\": [{\"data\": {\"name\": \"data-b2d3f3597059427d2c9c90a462e35ba5\"}, \"mark\": \"bar\", \"encoding\": {\"color\": {\"field\": \"category\", \"scale\": {\"range\": [\"#2EA8CE\", \"#EB9F3C\", \"#F4D837\", \"#51BF9D\", \"#8CBCCB\", \"#9487C0\"]}, \"type\": \"nominal\"}, \"tooltip\": [{\"field\": \"category\", \"format\": {\"number\": \".2f\"}, \"type\": \"nominal\"}, {\"aggregate\": \"mean\", \"field\": \"processing_days\", \"format\": {\"number\": \".2f\"}, \"type\": \"quantitative\"}], \"x\": {\"field\": \"category\", \"title\": \"\", \"type\": \"nominal\"}, \"y\": {\"aggregate\": \"mean\", \"field\": \"processing_days\", \"title\": \"Average Processing Days\", \"type\": \"quantitative\"}}, \"height\": 200, \"width\": 100}, {\"data\": {\"name\": \"data-638389296ef64d4c1cd66af2d3bda518\"}, \"mark\": \"bar\", \"encoding\": {\"color\": {\"field\": \"category\", \"scale\": {\"range\": [\"#2EA8CE\", \"#EB9F3C\", \"#F4D837\", \"#51BF9D\", \"#8CBCCB\", \"#9487C0\"]}, \"type\": \"nominal\"}, \"tooltip\": [{\"field\": \"category\", \"format\": {\"number\": \".2f\"}, \"type\": \"nominal\"}, {\"aggregate\": \"mean\", \"field\": \"processing_days\", \"format\": {\"number\": \".2f\"}, \"type\": \"quantitative\"}], \"x\": {\"field\": \"category\", \"title\": \"\", \"type\": \"nominal\"}, \"y\": {\"aggregate\": \"mean\", \"field\": \"processing_days\", \"title\": \"Average Processing Days\", \"type\": \"quantitative\"}}, \"height\": 200, \"width\": 100}], \"title\": \"Average Processing Time by Work Category\", \"$schema\": \"https://vega.github.io/schema/vega-lite/v4.17.0.json\", \"datasets\": {\"data-b2d3f3597059427d2c9c90a462e35ba5\": [{\"prepared_y\": 2018, \"adjusted_ac_requested\": -33706.84252397611, \"adjusted_fed_requested\": 33959849.185301416, \"adjusted_total_requested\": 111632052.02668883, \"processing_days\": 20.357142857142858, \"project_no\": 140, \"category\": \"Active Transportation\", \"mean_adjusted_total_requested\": 797371.8001906344, \"mean_adjusted_fed_requested\": 242570.35132358153, \"mean_adjusted_ac_requested\": -240.76316088554367}, {\"prepared_y\": 2017, \"adjusted_ac_requested\": -1216006.314028787, \"adjusted_fed_requested\": 50920405.77727135, \"adjusted_total_requested\": 87157821.23994796, \"processing_days\": 27.0, \"project_no\": 130, \"category\": \"Active Transportation\", \"mean_adjusted_total_requested\": 670444.7787688305, \"mean_adjusted_fed_requested\": 391695.4290559335, \"mean_adjusted_ac_requested\": -9353.894723298361}, {\"prepared_y\": 2016, \"adjusted_ac_requested\": 1272658.4771543671, \"adjusted_fed_requested\": 76108437.52403393, \"adjusted_total_requested\": 122638664.33685718, \"processing_days\": 28.79432624113475, \"project_no\": 141, \"category\": \"Active Transportation\", \"mean_adjusted_total_requested\": 869777.7612543063, \"mean_adjusted_fed_requested\": 539776.1526527229, \"mean_adjusted_ac_requested\": 9025.946646484874}, {\"prepared_y\": 2015, \"adjusted_ac_requested\": 0.0, \"adjusted_fed_requested\": 66733904.586173154, \"adjusted_total_requested\": 108694551.97127338, \"processing_days\": 21.67153284671533, \"project_no\": 137, \"category\": \"Active Transportation\", \"mean_adjusted_total_requested\": 793390.8903012655, \"mean_adjusted_fed_requested\": 487108.79259980406, \"mean_adjusted_ac_requested\": 0.0}, {\"prepared_y\": 2014, \"adjusted_ac_requested\": -571907.7638981405, \"adjusted_fed_requested\": 35368273.90717716, \"adjusted_total_requested\": 87442542.71960801, \"processing_days\": 30.734265734265733, \"project_no\": 143, \"category\": \"Active Transportation\", \"mean_adjusted_total_requested\": 611486.3127245315, \"mean_adjusted_fed_requested\": 247330.58676347663, \"mean_adjusted_ac_requested\": -3999.354992294689}, {\"prepared_y\": 2013, \"adjusted_ac_requested\": 0.0, \"adjusted_fed_requested\": 2228065.719464233, \"adjusted_total_requested\": 1648045.8538963932, \"processing_days\": 171.53846153846155, \"project_no\": 13, \"category\": \"Active Transportation\", \"mean_adjusted_total_requested\": 126772.75799203025, \"mean_adjusted_fed_requested\": 171389.67072801793, \"mean_adjusted_ac_requested\": 0.0}, {\"prepared_y\": 2012, \"adjusted_ac_requested\": 0.0, \"adjusted_fed_requested\": 4535197.945075135, \"adjusted_total_requested\": 12483105.149737615, \"processing_days\": 790.3333333333334, \"project_no\": 3, \"category\": \"Active Transportation\", \"mean_adjusted_total_requested\": 4161035.0499125384, \"mean_adjusted_fed_requested\": 1511732.6483583783, \"mean_adjusted_ac_requested\": 0.0}, {\"prepared_y\": 2019, \"adjusted_ac_requested\": -79492.12979149335, \"adjusted_fed_requested\": 40020254.19492422, \"adjusted_total_requested\": 69902599.39563145, \"processing_days\": 45.706896551724135, \"project_no\": 116, \"category\": \"Active Transportation\", \"mean_adjusted_total_requested\": 602608.6154795814, \"mean_adjusted_fed_requested\": 345002.19133555365, \"mean_adjusted_ac_requested\": -685.2769809611495}, {\"prepared_y\": 2020, \"adjusted_ac_requested\": 2740992.6096990835, \"adjusted_fed_requested\": 49377570.189716205, \"adjusted_total_requested\": 73185384.96867988, \"processing_days\": 23.96470588235294, \"project_no\": 85, \"category\": \"Active Transportation\", \"mean_adjusted_total_requested\": 861004.5290432926, \"mean_adjusted_fed_requested\": 580912.5904672495, \"mean_adjusted_ac_requested\": 32246.971878812747}, {\"prepared_y\": 2021, \"adjusted_ac_requested\": -2618002.2295987043, \"adjusted_fed_requested\": 35742012.629372485, \"adjusted_total_requested\": 61300449.96599213, \"processing_days\": 27.442857142857143, \"project_no\": 140, \"category\": \"Active Transportation\", \"mean_adjusted_total_requested\": 437860.3568999438, \"mean_adjusted_fed_requested\": 255300.09020980346, \"mean_adjusted_ac_requested\": -18700.01592570503}, {\"prepared_y\": 2022, \"adjusted_ac_requested\": 0.0, \"adjusted_fed_requested\": 8576181.387877204, \"adjusted_total_requested\": 9669418.800781796, \"processing_days\": 26.6875, \"project_no\": 16, \"category\": \"Active Transportation\", \"mean_adjusted_total_requested\": 604338.6750488622, \"mean_adjusted_fed_requested\": 536011.3367423252, \"mean_adjusted_ac_requested\": 0.0}, {\"prepared_y\": 2018, \"adjusted_ac_requested\": 310576.4613531047, \"adjusted_fed_requested\": 14658964.440471984, \"adjusted_total_requested\": 21497450.164805543, \"processing_days\": 29.44, \"project_no\": 25, \"category\": \"Transit\", \"mean_adjusted_total_requested\": 859898.0065922217, \"mean_adjusted_fed_requested\": 586358.5776188794, \"mean_adjusted_ac_requested\": 12423.058454124188}, {\"prepared_y\": 2017, \"adjusted_ac_requested\": 0.0, \"adjusted_fed_requested\": 12430849.661091808, \"adjusted_total_requested\": 17401712.524462946, \"processing_days\": 26.357142857142858, \"project_no\": 28, \"category\": \"Transit\", \"mean_adjusted_total_requested\": 621489.7330165338, \"mean_adjusted_fed_requested\": 443958.9164675646, \"mean_adjusted_ac_requested\": 0.0}, {\"prepared_y\": 2016, \"adjusted_ac_requested\": 119941.29532677392, \"adjusted_fed_requested\": 17083551.406032003, \"adjusted_total_requested\": 21405260.384746354, \"processing_days\": 34.26086956521739, \"project_no\": 23, \"category\": \"Transit\", \"mean_adjusted_total_requested\": 930663.494988972, \"mean_adjusted_fed_requested\": 742763.1046100871, \"mean_adjusted_ac_requested\": 5214.83892725104}, {\"prepared_y\": 2015, \"adjusted_ac_requested\": 0.0, \"adjusted_fed_requested\": 7696154.803507344, \"adjusted_total_requested\": 14676354.956544891, \"processing_days\": 16.791666666666668, \"project_no\": 24, \"category\": \"Transit\", \"mean_adjusted_total_requested\": 611514.7898560371, \"mean_adjusted_fed_requested\": 320673.116812806, \"mean_adjusted_ac_requested\": 0.0}, {\"prepared_y\": 2013, \"adjusted_ac_requested\": 0.0, \"adjusted_fed_requested\": -298384.79748332634, \"adjusted_total_requested\": -665627.2672549118, \"processing_days\": 134.83333333333334, \"project_no\": 6, \"category\": \"Transit\", \"mean_adjusted_total_requested\": -110937.87787581864, \"mean_adjusted_fed_requested\": -49730.79958055439, \"mean_adjusted_ac_requested\": 0.0}, {\"prepared_y\": 2014, \"adjusted_ac_requested\": 0.0, \"adjusted_fed_requested\": 13169855.437436616, \"adjusted_total_requested\": 13488934.400574157, \"processing_days\": 15.375, \"project_no\": 16, \"category\": \"Transit\", \"mean_adjusted_total_requested\": 843058.4000358848, \"mean_adjusted_fed_requested\": 823115.9648397885, \"mean_adjusted_ac_requested\": 0.0}, {\"prepared_y\": 2019, \"adjusted_ac_requested\": 0.0, \"adjusted_fed_requested\": 6477316.237356396, \"adjusted_total_requested\": 8896980.355764868, \"processing_days\": 41.82608695652174, \"project_no\": 23, \"category\": \"Transit\", \"mean_adjusted_total_requested\": 386825.23285934207, \"mean_adjusted_fed_requested\": 281622.445102452, \"mean_adjusted_ac_requested\": 0.0}, {\"prepared_y\": 2020, \"adjusted_ac_requested\": 0.0, \"adjusted_fed_requested\": 7310574.206760053, \"adjusted_total_requested\": 12185018.24670168, \"processing_days\": 35.54545454545455, \"project_no\": 11, \"category\": \"Transit\", \"mean_adjusted_total_requested\": 1107728.9315183347, \"mean_adjusted_fed_requested\": 664597.6551600047, \"mean_adjusted_ac_requested\": 0.0}, {\"prepared_y\": 2021, \"adjusted_ac_requested\": 4936290.923948997, \"adjusted_fed_requested\": 3047781.4556164234, \"adjusted_total_requested\": 8332800.596556757, \"processing_days\": 37.107142857142854, \"project_no\": 28, \"category\": \"Transit\", \"mean_adjusted_total_requested\": 297600.02130559843, \"mean_adjusted_fed_requested\": 108849.33770058655, \"mean_adjusted_ac_requested\": 176296.1044267499}, {\"prepared_y\": 2022, \"adjusted_ac_requested\": -4757585.373249677, \"adjusted_fed_requested\": 7769744.595438702, \"adjusted_total_requested\": 5057410.804202769, \"processing_days\": 16.5, \"project_no\": 8, \"category\": \"Transit\", \"mean_adjusted_total_requested\": 632176.3505253461, \"mean_adjusted_fed_requested\": 971218.0744298378, \"mean_adjusted_ac_requested\": -594698.1716562096}, {\"prepared_y\": 2018, \"adjusted_ac_requested\": 0.0, \"adjusted_fed_requested\": 5070925.08140044, \"adjusted_total_requested\": 5119722.361642623, \"processing_days\": 17.285714285714285, \"project_no\": 7, \"category\": \"Congestion Relief\", \"mean_adjusted_total_requested\": 731388.9088060891, \"mean_adjusted_fed_requested\": 724417.8687714915, \"mean_adjusted_ac_requested\": 0.0}, {\"prepared_y\": 2017, \"adjusted_ac_requested\": 0.0, \"adjusted_fed_requested\": -141587.34230976715, \"adjusted_total_requested\": -401872.3330943292, \"processing_days\": 4.0, \"project_no\": 3, \"category\": \"Congestion Relief\", \"mean_adjusted_total_requested\": -133957.4443647764, \"mean_adjusted_fed_requested\": -47195.780769922385, \"mean_adjusted_ac_requested\": 0.0}, {\"prepared_y\": 2016, \"adjusted_ac_requested\": 0.0, \"adjusted_fed_requested\": 10654595.394848809, \"adjusted_total_requested\": 10654595.394848809, \"processing_days\": 28.25, \"project_no\": 4, \"category\": \"Congestion Relief\", \"mean_adjusted_total_requested\": 2663648.848712202, \"mean_adjusted_fed_requested\": 2663648.848712202, \"mean_adjusted_ac_requested\": 0.0}, {\"prepared_y\": 2015, \"adjusted_ac_requested\": 0.0, \"adjusted_fed_requested\": 382989.1948678787, \"adjusted_total_requested\": 467477.75450706074, \"processing_days\": 23.666666666666668, \"project_no\": 3, \"category\": \"Congestion Relief\", \"mean_adjusted_total_requested\": 155825.91816902024, \"mean_adjusted_fed_requested\": 127663.06495595956, \"mean_adjusted_ac_requested\": 0.0}, {\"prepared_y\": 2014, \"adjusted_ac_requested\": 0.0, \"adjusted_fed_requested\": 979094.5793304134, \"adjusted_total_requested\": 1241953.3017511545, \"processing_days\": 6.333333333333333, \"project_no\": 3, \"category\": \"Congestion Relief\", \"mean_adjusted_total_requested\": 413984.4339170515, \"mean_adjusted_fed_requested\": 326364.85977680446, \"mean_adjusted_ac_requested\": 0.0}, {\"prepared_y\": 2019, \"adjusted_ac_requested\": 0.0, \"adjusted_fed_requested\": 0.0, \"adjusted_total_requested\": 0.0, \"processing_days\": 23.0, \"project_no\": 1, \"category\": \"Congestion Relief\", \"mean_adjusted_total_requested\": 0.0, \"mean_adjusted_fed_requested\": 0.0, \"mean_adjusted_ac_requested\": 0.0}, {\"prepared_y\": 2020, \"adjusted_ac_requested\": 0.0, \"adjusted_fed_requested\": -63596.95444959126, \"adjusted_total_requested\": -63596.95444959126, \"processing_days\": 9.5, \"project_no\": 4, \"category\": \"Congestion Relief\", \"mean_adjusted_total_requested\": -15899.238612397816, \"mean_adjusted_fed_requested\": -15899.238612397816, \"mean_adjusted_ac_requested\": 0.0}, {\"prepared_y\": 2021, \"adjusted_ac_requested\": 0.0, \"adjusted_fed_requested\": 0.0, \"adjusted_total_requested\": 0.0, \"processing_days\": 17.0, \"project_no\": 1, \"category\": \"Congestion Relief\", \"mean_adjusted_total_requested\": 0.0, \"mean_adjusted_fed_requested\": 0.0, \"mean_adjusted_ac_requested\": 0.0}, {\"prepared_y\": 2022, \"adjusted_ac_requested\": 0.0, \"adjusted_fed_requested\": 0.0, \"adjusted_total_requested\": 0.0, \"processing_days\": 18.0, \"project_no\": 1, \"category\": \"Congestion Relief\", \"mean_adjusted_total_requested\": 0.0, \"mean_adjusted_fed_requested\": 0.0, \"mean_adjusted_ac_requested\": 0.0}], \"data-638389296ef64d4c1cd66af2d3bda518\": [{\"prepared_y\": 2018, \"adjusted_ac_requested\": 21019736.410469647, \"adjusted_fed_requested\": 66262313.18691605, \"adjusted_total_requested\": 112810917.87372606, \"processing_days\": 32.6865671641791, \"project_no\": 67, \"category\": \"Bridge\", \"mean_adjusted_total_requested\": 1683745.0428914337, \"mean_adjusted_fed_requested\": 988989.7490584486, \"mean_adjusted_ac_requested\": 313727.4091114873}, {\"prepared_y\": 2017, \"adjusted_ac_requested\": -3393544.1952892705, \"adjusted_fed_requested\": 28318896.48449561, \"adjusted_total_requested\": 27295211.08704354, \"processing_days\": 26.38095238095238, \"project_no\": 42, \"category\": \"Bridge\", \"mean_adjusted_total_requested\": 649885.9782629414, \"mean_adjusted_fed_requested\": 674259.4401070384, \"mean_adjusted_ac_requested\": -80798.6713164112}, {\"prepared_y\": 2016, \"adjusted_ac_requested\": 9530253.503685113, \"adjusted_fed_requested\": 39354309.87588441, \"adjusted_total_requested\": 56337336.81317759, \"processing_days\": 31.051724137931036, \"project_no\": 58, \"category\": \"Bridge\", \"mean_adjusted_total_requested\": 971333.3933306482, \"mean_adjusted_fed_requested\": 678522.5840669726, \"mean_adjusted_ac_requested\": 164314.71558077782}, {\"prepared_y\": 2015, \"adjusted_ac_requested\": 8741164.749954645, \"adjusted_fed_requested\": 50383808.04374159, \"adjusted_total_requested\": 64570072.832033575, \"processing_days\": 31.071428571428573, \"project_no\": 70, \"category\": \"Bridge\", \"mean_adjusted_total_requested\": 922429.611886194, \"mean_adjusted_fed_requested\": 719768.6863391655, \"mean_adjusted_ac_requested\": 124873.78214220921}, {\"prepared_y\": 2014, \"adjusted_ac_requested\": 3969463.6609695316, \"adjusted_fed_requested\": 41861018.54705326, \"adjusted_total_requested\": 54478039.40071797, \"processing_days\": 18.278688524590162, \"project_no\": 61, \"category\": \"Bridge\", \"mean_adjusted_total_requested\": 893082.6131265241, \"mean_adjusted_fed_requested\": 686246.2056893978, \"mean_adjusted_ac_requested\": 65073.17476999232}, {\"prepared_y\": 2013, \"adjusted_ac_requested\": -664376.8534282645, \"adjusted_fed_requested\": 22181584.057376698, \"adjusted_total_requested\": 24421739.394200057, \"processing_days\": 128.0, \"project_no\": 6, \"category\": \"Bridge\", \"mean_adjusted_total_requested\": 4070289.899033343, \"mean_adjusted_fed_requested\": 3696930.6762294495, \"mean_adjusted_ac_requested\": -110729.47557137742}, {\"prepared_y\": 2019, \"adjusted_ac_requested\": -26765379.68101519, \"adjusted_fed_requested\": 87374842.1244151, \"adjusted_total_requested\": 77867760.57341133, \"processing_days\": 80.04545454545455, \"project_no\": 66, \"category\": \"Bridge\", \"mean_adjusted_total_requested\": 1179814.554142596, \"mean_adjusted_fed_requested\": 1323861.2443093196, \"mean_adjusted_ac_requested\": -405536.0557729574}, {\"prepared_y\": 2020, \"adjusted_ac_requested\": 703284.47010517, \"adjusted_fed_requested\": 15513407.750376858, \"adjusted_total_requested\": 18314363.26925112, \"processing_days\": 51.270270270270274, \"project_no\": 37, \"category\": \"Bridge\", \"mean_adjusted_total_requested\": 494982.79106084106, \"mean_adjusted_fed_requested\": 419281.2905507259, \"mean_adjusted_ac_requested\": 19007.68838122081}, {\"prepared_y\": 2021, \"adjusted_ac_requested\": 12469547.619581182, \"adjusted_fed_requested\": 17677046.294501886, \"adjusted_total_requested\": 36518551.30070486, \"processing_days\": 36.03174603174603, \"project_no\": 63, \"category\": \"Bridge\", \"mean_adjusted_total_requested\": 579659.5444556327, \"mean_adjusted_fed_requested\": 280588.03642066487, \"mean_adjusted_ac_requested\": 197929.3272949394}, {\"prepared_y\": 2022, \"adjusted_ac_requested\": -969751.80933174, \"adjusted_fed_requested\": 6338022.582310029, \"adjusted_total_requested\": 6312012.8240389405, \"processing_days\": 48.0, \"project_no\": 4, \"category\": \"Bridge\", \"mean_adjusted_total_requested\": 1578003.2060097351, \"mean_adjusted_fed_requested\": 1584505.6455775073, \"mean_adjusted_ac_requested\": -242437.952332935}, {\"prepared_y\": 2018, \"adjusted_ac_requested\": -1240001.7891349345, \"adjusted_fed_requested\": 42937083.09140323, \"adjusted_total_requested\": 105799983.60073178, \"processing_days\": 25.93548387096774, \"project_no\": 155, \"category\": \"Street\", \"mean_adjusted_total_requested\": 682580.5393595599, \"mean_adjusted_fed_requested\": 277013.4392993757, \"mean_adjusted_ac_requested\": -8000.011542806029}, {\"prepared_y\": 2017, \"adjusted_ac_requested\": 430445.23142076633, \"adjusted_fed_requested\": 48142816.69068644, \"adjusted_total_requested\": 68469177.61718418, \"processing_days\": 31.571428571428573, \"project_no\": 133, \"category\": \"Street\", \"mean_adjusted_total_requested\": 514805.8467457457, \"mean_adjusted_fed_requested\": 361976.0653435071, \"mean_adjusted_ac_requested\": 3236.4303114343334}, {\"prepared_y\": 2016, \"adjusted_ac_requested\": 66541.29366092614, \"adjusted_fed_requested\": 100217732.49185488, \"adjusted_total_requested\": 138353596.65382963, \"processing_days\": 24.346153846153847, \"project_no\": 156, \"category\": \"Street\", \"mean_adjusted_total_requested\": 886882.0298322412, \"mean_adjusted_fed_requested\": 642421.3621272749, \"mean_adjusted_ac_requested\": 426.546754236706}, {\"prepared_y\": 2015, \"adjusted_ac_requested\": 0.0, \"adjusted_fed_requested\": 83172165.72142886, \"adjusted_total_requested\": 116067803.51998423, \"processing_days\": 15.506024096385541, \"project_no\": 166, \"category\": \"Street\", \"mean_adjusted_total_requested\": 699203.6356625556, \"mean_adjusted_fed_requested\": 501037.14290017384, \"mean_adjusted_ac_requested\": 0.0}, {\"prepared_y\": 2014, \"adjusted_ac_requested\": 90424.00010397809, \"adjusted_fed_requested\": 46062122.37634384, \"adjusted_total_requested\": 53552684.94925695, \"processing_days\": 26.0225988700565, \"project_no\": 177, \"category\": \"Street\", \"mean_adjusted_total_requested\": 302557.54208619747, \"mean_adjusted_fed_requested\": 260237.97952736632, \"mean_adjusted_ac_requested\": 510.870057084622}, {\"prepared_y\": 2012, \"adjusted_ac_requested\": 0.0, \"adjusted_fed_requested\": 2907311.175819583, \"adjusted_total_requested\": 6827234.502906805, \"processing_days\": 855.0, \"project_no\": 2, \"category\": \"Street\", \"mean_adjusted_total_requested\": 3413617.2514534025, \"mean_adjusted_fed_requested\": 1453655.5879097914, \"mean_adjusted_ac_requested\": 0.0}, {\"prepared_y\": 2013, \"adjusted_ac_requested\": 0.0, \"adjusted_fed_requested\": 3895013.4801425952, \"adjusted_total_requested\": 5088031.567383493, \"processing_days\": 114.42857142857143, \"project_no\": 7, \"category\": \"Street\", \"mean_adjusted_total_requested\": 726861.6524833562, \"mean_adjusted_fed_requested\": 556430.4971632279, \"mean_adjusted_ac_requested\": 0.0}, {\"prepared_y\": 2011, \"adjusted_ac_requested\": 0.0, \"adjusted_fed_requested\": 0.0, \"adjusted_total_requested\": 3822.3609989573256, \"processing_days\": 1140.0, \"project_no\": 1, \"category\": \"Street\", \"mean_adjusted_total_requested\": 3822.3609989573256, \"mean_adjusted_fed_requested\": 0.0, \"mean_adjusted_ac_requested\": 0.0}, {\"prepared_y\": 2019, \"adjusted_ac_requested\": 30517162.17373252, \"adjusted_fed_requested\": 69044855.24496433, \"adjusted_total_requested\": 134025730.8080483, \"processing_days\": 47.96894409937888, \"project_no\": 161, \"category\": \"Street\", \"mean_adjusted_total_requested\": 832457.9553294925, \"mean_adjusted_fed_requested\": 428850.0325774182, \"mean_adjusted_ac_requested\": 189547.59114119576}, {\"prepared_y\": 2020, \"adjusted_ac_requested\": 3741755.175520585, \"adjusted_fed_requested\": 83835661.44034, \"adjusted_total_requested\": 296499234.152601, \"processing_days\": 29.492753623188406, \"project_no\": 138, \"category\": \"Street\", \"mean_adjusted_total_requested\": 2148545.175018848, \"mean_adjusted_fed_requested\": 607504.793045942, \"mean_adjusted_ac_requested\": 27114.16793855496}, {\"prepared_y\": 2021, \"adjusted_ac_requested\": -4287655.721544499, \"adjusted_fed_requested\": 54208277.03600508, \"adjusted_total_requested\": 92556566.87499076, \"processing_days\": 30.815217391304348, \"project_no\": 184, \"category\": \"Street\", \"mean_adjusted_total_requested\": 503024.8199727759, \"mean_adjusted_fed_requested\": 294610.2012826363, \"mean_adjusted_ac_requested\": -23302.476747524448}, {\"prepared_y\": 2022, \"adjusted_ac_requested\": -5484748.154845135, \"adjusted_fed_requested\": 16704208.5356588, \"adjusted_total_requested\": 20245345.34367095, \"processing_days\": 18.939393939393938, \"project_no\": 33, \"category\": \"Street\", \"mean_adjusted_total_requested\": 613495.3134445742, \"mean_adjusted_fed_requested\": 506188.13744420605, \"mean_adjusted_ac_requested\": -166204.4895407617}, {\"prepared_y\": 2018, \"adjusted_ac_requested\": 0.0, \"adjusted_fed_requested\": 13650645.342819132, \"adjusted_total_requested\": 13650645.342819132, \"processing_days\": 24.2, \"project_no\": 5, \"category\": \"Freeway\", \"mean_adjusted_total_requested\": 2730129.0685638264, \"mean_adjusted_fed_requested\": 2730129.0685638264, \"mean_adjusted_ac_requested\": 0.0}, {\"prepared_y\": 2017, \"adjusted_ac_requested\": 0.0, \"adjusted_fed_requested\": 13837885.238735942, \"adjusted_total_requested\": 26817593.289518844, \"processing_days\": 47.75, \"project_no\": 4, \"category\": \"Freeway\", \"mean_adjusted_total_requested\": 6704398.322379711, \"mean_adjusted_fed_requested\": 3459471.3096839855, \"mean_adjusted_ac_requested\": 0.0}, {\"prepared_y\": 2016, \"adjusted_ac_requested\": 0.0, \"adjusted_fed_requested\": 9357218.416245926, \"adjusted_total_requested\": 9357218.416245926, \"processing_days\": 17.75, \"project_no\": 4, \"category\": \"Freeway\", \"mean_adjusted_total_requested\": 2339304.6040614815, \"mean_adjusted_fed_requested\": 2339304.6040614815, \"mean_adjusted_ac_requested\": 0.0}, {\"prepared_y\": 2015, \"adjusted_ac_requested\": 0.0, \"adjusted_fed_requested\": 1521551.1231021404, \"adjusted_total_requested\": 3862125.3025150103, \"processing_days\": 7.857142857142857, \"project_no\": 7, \"category\": \"Freeway\", \"mean_adjusted_total_requested\": 551732.186073573, \"mean_adjusted_fed_requested\": 217364.44615744863, \"mean_adjusted_ac_requested\": 0.0}, {\"prepared_y\": 2013, \"adjusted_ac_requested\": 0.0, \"adjusted_fed_requested\": 16821846.2892801, \"adjusted_total_requested\": 16821846.2892801, \"processing_days\": 112.0, \"project_no\": 1, \"category\": \"Freeway\", \"mean_adjusted_total_requested\": 16821846.2892801, \"mean_adjusted_fed_requested\": 16821846.2892801, \"mean_adjusted_ac_requested\": 0.0}, {\"prepared_y\": 2019, \"adjusted_ac_requested\": 0.0, \"adjusted_fed_requested\": 12235717.290526327, \"adjusted_total_requested\": 15552755.746170327, \"processing_days\": 29.0, \"project_no\": 5, \"category\": \"Freeway\", \"mean_adjusted_total_requested\": 3110551.1492340653, \"mean_adjusted_fed_requested\": 2447143.458105265, \"mean_adjusted_ac_requested\": 0.0}, {\"prepared_y\": 2020, \"adjusted_ac_requested\": 185378.20911891505, \"adjusted_fed_requested\": 3109529.818553683, \"adjusted_total_requested\": 3318925.781723859, \"processing_days\": 69.5, \"project_no\": 4, \"category\": \"Freeway\", \"mean_adjusted_total_requested\": 829731.4454309647, \"mean_adjusted_fed_requested\": 777382.4546384207, \"mean_adjusted_ac_requested\": 46344.55227972876}, {\"prepared_y\": 2021, \"adjusted_ac_requested\": 0.0, \"adjusted_fed_requested\": 5275536.1228642035, \"adjusted_total_requested\": 8727439.522647547, \"processing_days\": 60.125, \"project_no\": 8, \"category\": \"Freeway\", \"mean_adjusted_total_requested\": 1090929.9403309433, \"mean_adjusted_fed_requested\": 659442.0153580254, \"mean_adjusted_ac_requested\": 0.0}, {\"prepared_y\": 2022, \"adjusted_ac_requested\": 0.0, \"adjusted_fed_requested\": 0.0, \"adjusted_total_requested\": 210036.2443456827, \"processing_days\": 18.0, \"project_no\": 1, \"category\": \"Freeway\", \"mean_adjusted_total_requested\": 210036.2443456827, \"mean_adjusted_fed_requested\": 0.0, \"mean_adjusted_ac_requested\": 0.0}]}}, {\"mode\": \"vega-lite\"});\n",
       "</script>"
      ],
      "text/plain": [
       "alt.HConcatChart(...)"
      ]
     },
     "execution_count": 22,
     "metadata": {},
     "output_type": "execute_result"
    }
   ],
   "source": [
    "ACTIVE = ['active_transp', 'transit', 'congestion_relief']\n",
    "ROADS = ['bridge', 'street', 'freeway']\n",
    "\n",
    "active_bar = setup_bar_chart(by_work_categories, ACTIVE)\n",
    "roads_bar = setup_bar_chart(by_work_categories, ROADS)\n",
    "\n",
    "combined_chart = alt.hconcat(active_bar, roads_bar)\n",
    "(preset_chart_config(combined_chart)\n",
    " .properties(title=\"Average Processing Time by Work Category\")\n",
    ")"
   ]
  },
  {
   "cell_type": "code",
   "execution_count": null,
   "id": "79a30064-0a9b-4f4b-b95f-48ea94a6455e",
   "metadata": {
    "jupyter": {
     "source_hidden": true
    },
    "papermill": {
     "duration": 0.021595,
     "end_time": "2022-03-21T22:30:41.670204",
     "exception": false,
     "start_time": "2022-03-21T22:30:41.648609",
     "status": "completed"
    },
    "tags": [
     "remove_input"
    ]
   },
   "outputs": [],
   "source": []
  }
 ],
 "metadata": {
  "kernelspec": {
   "display_name": "Python 3 (ipykernel)",
   "language": "python",
   "name": "python3"
  },
  "language_info": {
   "codemirror_mode": {
    "name": "ipython",
    "version": 3
   },
   "file_extension": ".py",
   "mimetype": "text/x-python",
   "name": "python",
   "nbconvert_exporter": "python",
   "pygments_lexer": "ipython3",
   "version": "3.7.9"
  },
  "papermill": {
   "default_parameters": {},
   "duration": 13.099976,
   "end_time": "2022-03-21T22:30:42.316308",
   "environment_variables": {},
   "exception": null,
   "input_path": "dla/e76_obligated_funds/prototype-district.ipynb",
   "output_path": "target/dla/e76_obligated_funds/prototype-district__district_4.ipynb",
   "parameters": {
    "district": 4
   },
   "start_time": "2022-03-21T22:30:29.216332",
   "version": "2.3.4"
  },
  "widgets": {
   "application/vnd.jupyter.widget-state+json": {
    "state": {},
    "version_major": 2,
    "version_minor": 0
   }
  }
 },
 "nbformat": 4,
 "nbformat_minor": 5
}