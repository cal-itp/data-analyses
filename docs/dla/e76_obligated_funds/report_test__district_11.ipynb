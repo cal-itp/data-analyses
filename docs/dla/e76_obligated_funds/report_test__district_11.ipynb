{
 "cells": [
  {
   "cell_type": "markdown",
   "id": "4116dd94-0f31-4995-8c3b-b1781e6366a5",
   "metadata": {
    "papermill": {
     "duration": 0.010943,
     "end_time": "2022-04-15T19:59:38.723883",
     "exception": false,
     "start_time": "2022-04-15T19:59:38.712940",
     "status": "completed"
    },
    "tags": []
   },
   "source": [
    "# District 11 Analysis"
   ]
  },
  {
   "cell_type": "code",
   "execution_count": 1,
   "id": "1ecf83bf-a9a9-4e6b-98b6-b0b0400a12e1",
   "metadata": {
    "execution": {
     "iopub.execute_input": "2022-04-15T19:59:38.743459Z",
     "iopub.status.busy": "2022-04-15T19:59:38.742912Z",
     "iopub.status.idle": "2022-04-15T19:59:46.456398Z",
     "shell.execute_reply": "2022-04-15T19:59:46.455365Z"
    },
    "jupyter": {
     "source_hidden": true
    },
    "papermill": {
     "duration": 7.725678,
     "end_time": "2022-04-15T19:59:46.458853",
     "exception": false,
     "start_time": "2022-04-15T19:59:38.733175",
     "status": "completed"
    },
    "tags": [
     "remove_input"
    ]
   },
   "outputs": [
    {
     "name": "stderr",
     "output_type": "stream",
     "text": [
      "E0415 19:59:44.299648877    1865 fork_posix.cc:70]           Fork support is only compatible with the epoll1 and poll polling strategies\n"
     ]
    },
    {
     "name": "stderr",
     "output_type": "stream",
     "text": [
      "E0415 19:59:45.680504793    1865 fork_posix.cc:70]           Fork support is only compatible with the epoll1 and poll polling strategies\n"
     ]
    }
   ],
   "source": [
    "%%capture\n",
    "\n",
    "import warnings\n",
    "\n",
    "warnings.filterwarnings(\"ignore\")\n",
    "\n",
    "\n",
    "import _dla_utils, gen_report\n",
    "\n",
    "#alt.themes.register(\"calitp_theme\", styleguide.calitp_theme)\n",
    "# enable\n",
    "#alt.themes.enable(\"calitp_theme\")\n",
    "import altair as alt\n",
    "alt.renderers.enable('html')"
   ]
  },
  {
   "cell_type": "code",
   "execution_count": 2,
   "id": "69d78638-5ca9-49e5-a909-e282c83aeed1",
   "metadata": {
    "execution": {
     "iopub.execute_input": "2022-04-15T19:59:46.479045Z",
     "iopub.status.busy": "2022-04-15T19:59:46.478622Z",
     "iopub.status.idle": "2022-04-15T19:59:46.539693Z",
     "shell.execute_reply": "2022-04-15T19:59:46.539084Z"
    },
    "jupyter": {
     "source_hidden": true
    },
    "papermill": {
     "duration": 0.07428,
     "end_time": "2022-04-15T19:59:46.541938",
     "exception": false,
     "start_time": "2022-04-15T19:59:46.467658",
     "status": "completed"
    },
    "tags": [
     "remove_input"
    ]
   },
   "outputs": [],
   "source": [
    "import pandas as pd\n",
    "from siuba import *\n",
    "df = pd.read_parquet('dla_df.parquet')"
   ]
  },
  {
   "cell_type": "code",
   "execution_count": 3,
   "id": "92c97609-fba1-470b-8257-8a7533ed0df2",
   "metadata": {
    "execution": {
     "iopub.execute_input": "2022-04-15T19:59:46.560560Z",
     "iopub.status.busy": "2022-04-15T19:59:46.560256Z",
     "iopub.status.idle": "2022-04-15T19:59:46.564084Z",
     "shell.execute_reply": "2022-04-15T19:59:46.563252Z"
    },
    "jupyter": {
     "source_hidden": true
    },
    "papermill": {
     "duration": 0.016377,
     "end_time": "2022-04-15T19:59:46.566650",
     "exception": false,
     "start_time": "2022-04-15T19:59:46.550273",
     "status": "completed"
    },
    "tags": [
     "parameters",
     "remove_input"
    ]
   },
   "outputs": [],
   "source": [
    "#Parameter Cell\n",
    "\n",
    "district = 4"
   ]
  },
  {
   "cell_type": "code",
   "execution_count": 4,
   "id": "1fd16725",
   "metadata": {
    "execution": {
     "iopub.execute_input": "2022-04-15T19:59:46.609804Z",
     "iopub.status.busy": "2022-04-15T19:59:46.609515Z",
     "iopub.status.idle": "2022-04-15T19:59:46.613416Z",
     "shell.execute_reply": "2022-04-15T19:59:46.612327Z"
    },
    "jupyter": {
     "source_hidden": true
    },
    "papermill": {
     "duration": 0.036662,
     "end_time": "2022-04-15T19:59:46.616101",
     "exception": false,
     "start_time": "2022-04-15T19:59:46.579439",
     "status": "completed"
    },
    "tags": [
     "injected-parameters",
     "remove_input"
    ]
   },
   "outputs": [],
   "source": [
    "# Parameters\n",
    "district = 11\n"
   ]
  },
  {
   "cell_type": "code",
   "execution_count": 5,
   "id": "f32731e6-fe81-4f58-8128-9cdcac97542d",
   "metadata": {
    "execution": {
     "iopub.execute_input": "2022-04-15T19:59:46.634982Z",
     "iopub.status.busy": "2022-04-15T19:59:46.634682Z",
     "iopub.status.idle": "2022-04-15T19:59:46.638518Z",
     "shell.execute_reply": "2022-04-15T19:59:46.637658Z"
    },
    "jupyter": {
     "source_hidden": true
    },
    "papermill": {
     "duration": 0.016733,
     "end_time": "2022-04-15T19:59:46.641296",
     "exception": false,
     "start_time": "2022-04-15T19:59:46.624563",
     "status": "completed"
    },
    "tags": [
     "remove_input"
    ]
   },
   "outputs": [],
   "source": [
    "#display(HTML(f\"<title> District {district} Analysis </title>\"))"
   ]
  },
  {
   "cell_type": "code",
   "execution_count": 6,
   "id": "67694733-715a-4846-89c1-b9fe393fb8a6",
   "metadata": {
    "execution": {
     "iopub.execute_input": "2022-04-15T19:59:46.661061Z",
     "iopub.status.busy": "2022-04-15T19:59:46.660545Z",
     "iopub.status.idle": "2022-04-15T19:59:48.023094Z",
     "shell.execute_reply": "2022-04-15T19:59:48.022546Z"
    },
    "jupyter": {
     "source_hidden": true
    },
    "papermill": {
     "duration": 1.375318,
     "end_time": "2022-04-15T19:59:48.025362",
     "exception": false,
     "start_time": "2022-04-15T19:59:46.650044",
     "status": "completed"
    },
    "tags": [
     "remove_input"
    ]
   },
   "outputs": [
    {
     "data": {
      "text/html": [
       "<h2>Quick Stats</h2>"
      ],
      "text/plain": [
       "<IPython.core.display.HTML object>"
      ]
     },
     "metadata": {},
     "output_type": "display_data"
    },
    {
     "data": {
      "text/html": [
       "There are <strong>31 Unique Agencies</strong>"
      ],
      "text/plain": [
       "<IPython.core.display.HTML object>"
      ]
     },
     "metadata": {},
     "output_type": "display_data"
    },
    {
     "data": {
      "text/html": [
       "Out of <strong>958</strong> obligations, <strong>4 are transit-related</strong>."
      ],
      "text/plain": [
       "<IPython.core.display.HTML object>"
      ]
     },
     "metadata": {},
     "output_type": "display_data"
    },
    {
     "data": {
      "text/html": [
       "<strong>Chula Vista</strong> has the <strong>highest transit</strong> obligations"
      ],
      "text/plain": [
       "<IPython.core.display.HTML object>"
      ]
     },
     "metadata": {},
     "output_type": "display_data"
    },
    {
     "data": {
      "text/html": [
       "There are <strong>2 agencies have over 92.00</strong> obligations (95th percentile) since 2011.0"
      ],
      "text/plain": [
       "<IPython.core.display.HTML object>"
      ]
     },
     "metadata": {},
     "output_type": "display_data"
    },
    {
     "data": {
      "text/html": [
       "There are <strong>2 agencies have less than 2.00</strong> obligations (5th percentile) since 2011.0"
      ],
      "text/plain": [
       "<IPython.core.display.HTML object>"
      ]
     },
     "metadata": {},
     "output_type": "display_data"
    },
    {
     "data": {
      "text/html": [
       "<h4><strong>Number of Unique Prefix Codes by Agency</strong></h4>"
      ],
      "text/plain": [
       "<IPython.core.display.HTML object>"
      ]
     },
     "metadata": {},
     "output_type": "display_data"
    },
    {
     "data": {
      "text/html": [
       "<div>\n",
       "<style scoped>\n",
       "    .dataframe tbody tr th:only-of-type {\n",
       "        vertical-align: middle;\n",
       "    }\n",
       "\n",
       "    .dataframe tbody tr th {\n",
       "        vertical-align: top;\n",
       "    }\n",
       "\n",
       "    .dataframe thead th {\n",
       "        text-align: right;\n",
       "    }\n",
       "</style>\n",
       "<table border=\"1\" class=\"dataframe\">\n",
       "  <thead>\n",
       "    <tr style=\"text-align: right;\">\n",
       "      <th></th>\n",
       "      <th>Agency</th>\n",
       "      <th>Number of Unqiue Prefix Codes</th>\n",
       "    </tr>\n",
       "  </thead>\n",
       "  <tbody>\n",
       "    <tr>\n",
       "      <th>23</th>\n",
       "      <td>San Diego Association of Governments</td>\n",
       "      <td>20</td>\n",
       "    </tr>\n",
       "    <tr>\n",
       "      <th>15</th>\n",
       "      <td>Imperial County</td>\n",
       "      <td>19</td>\n",
       "    </tr>\n",
       "    <tr>\n",
       "      <th>22</th>\n",
       "      <td>San Diego</td>\n",
       "      <td>19</td>\n",
       "    </tr>\n",
       "    <tr>\n",
       "      <th>24</th>\n",
       "      <td>San Diego County</td>\n",
       "      <td>14</td>\n",
       "    </tr>\n",
       "    <tr>\n",
       "      <th>3</th>\n",
       "      <td>Caltrans</td>\n",
       "      <td>11</td>\n",
       "    </tr>\n",
       "  </tbody>\n",
       "</table>\n",
       "</div>"
      ],
      "text/plain": [
       "                                  Agency  Number of Unqiue Prefix Codes\n",
       "23  San Diego Association of Governments                             20\n",
       "15                       Imperial County                             19\n",
       "22                             San Diego                             19\n",
       "24                      San Diego County                             14\n",
       "3                               Caltrans                             11"
      ]
     },
     "metadata": {},
     "output_type": "display_data"
    },
    {
     "data": {
      "text/html": [
       "<h4><strong>Number of Unique Agencies by Prefix Codes</strong></h4>"
      ],
      "text/plain": [
       "<IPython.core.display.HTML object>"
      ]
     },
     "metadata": {},
     "output_type": "display_data"
    },
    {
     "data": {
      "text/html": [
       "<div>\n",
       "<style scoped>\n",
       "    .dataframe tbody tr th:only-of-type {\n",
       "        vertical-align: middle;\n",
       "    }\n",
       "\n",
       "    .dataframe tbody tr th {\n",
       "        vertical-align: top;\n",
       "    }\n",
       "\n",
       "    .dataframe thead th {\n",
       "        text-align: right;\n",
       "    }\n",
       "</style>\n",
       "<table border=\"1\" class=\"dataframe\">\n",
       "  <thead>\n",
       "    <tr style=\"text-align: right;\">\n",
       "      <th></th>\n",
       "      <th>Prefix</th>\n",
       "      <th>Number of Unqiue Agencies</th>\n",
       "    </tr>\n",
       "  </thead>\n",
       "  <tbody>\n",
       "    <tr>\n",
       "      <th>45</th>\n",
       "      <td>HSIPL</td>\n",
       "      <td>16</td>\n",
       "    </tr>\n",
       "    <tr>\n",
       "      <th>62</th>\n",
       "      <td>STPL</td>\n",
       "      <td>14</td>\n",
       "    </tr>\n",
       "    <tr>\n",
       "      <th>21</th>\n",
       "      <td>CML</td>\n",
       "      <td>12</td>\n",
       "    </tr>\n",
       "    <tr>\n",
       "      <th>33</th>\n",
       "      <td>FERPL</td>\n",
       "      <td>9</td>\n",
       "    </tr>\n",
       "    <tr>\n",
       "      <th>39</th>\n",
       "      <td>HPLU</td>\n",
       "      <td>8</td>\n",
       "    </tr>\n",
       "  </tbody>\n",
       "</table>\n",
       "</div>"
      ],
      "text/plain": [
       "   Prefix  Number of Unqiue Agencies\n",
       "45  HSIPL                         16\n",
       "62   STPL                         14\n",
       "21    CML                         12\n",
       "33  FERPL                          9\n",
       "39   HPLU                          8"
      ]
     },
     "metadata": {},
     "output_type": "display_data"
    },
    {
     "data": {
      "text/html": [
       "<h4><strong>Top 5 Types of Work</strong></h4>"
      ],
      "text/plain": [
       "<IPython.core.display.HTML object>"
      ]
     },
     "metadata": {},
     "output_type": "display_data"
    },
    {
     "data": {
      "text/html": [
       "<div>\n",
       "<style scoped>\n",
       "    .dataframe tbody tr th:only-of-type {\n",
       "        vertical-align: middle;\n",
       "    }\n",
       "\n",
       "    .dataframe tbody tr th {\n",
       "        vertical-align: top;\n",
       "    }\n",
       "\n",
       "    .dataframe thead th {\n",
       "        text-align: right;\n",
       "    }\n",
       "</style>\n",
       "<table border=\"1\" class=\"dataframe\">\n",
       "  <thead>\n",
       "    <tr style=\"text-align: right;\">\n",
       "      <th></th>\n",
       "      <th>Type of Work</th>\n",
       "    </tr>\n",
       "  </thead>\n",
       "  <tbody>\n",
       "    <tr>\n",
       "      <th>1</th>\n",
       "      <td>Conduct Environmental Study For Railroad/ Loca...</td>\n",
       "    </tr>\n",
       "    <tr>\n",
       "      <th>0</th>\n",
       "      <td>Conduct Environmental Study For Railroad/ Loca...</td>\n",
       "    </tr>\n",
       "    <tr>\n",
       "      <th>2</th>\n",
       "      <td>Grade Separated Pedestrian And Bike Underpass ...</td>\n",
       "    </tr>\n",
       "  </tbody>\n",
       "</table>\n",
       "</div>"
      ],
      "text/plain": [
       "                                        Type of Work\n",
       "1  Conduct Environmental Study For Railroad/ Loca...\n",
       "0  Conduct Environmental Study For Railroad/ Loca...\n",
       "2  Grade Separated Pedestrian And Bike Underpass ..."
      ]
     },
     "metadata": {},
     "output_type": "display_data"
    },
    {
     "data": {
      "text/markdown": [
       "<h2> Number of Obligations </h2>"
      ],
      "text/plain": [
       "<IPython.core.display.Markdown object>"
      ]
     },
     "metadata": {},
     "output_type": "display_data"
    },
    {
     "data": {
      "text/html": [
       "<h4><strong>Obligations by Year</strong></h4>"
      ],
      "text/plain": [
       "<IPython.core.display.HTML object>"
      ]
     },
     "metadata": {},
     "output_type": "display_data"
    },
    {
     "data": {
      "text/html": [
       "\n",
       "<div id=\"altair-viz-084817786f8849e0bf3d88a564f706fd\"></div>\n",
       "<script type=\"text/javascript\">\n",
       "  var VEGA_DEBUG = (typeof VEGA_DEBUG == \"undefined\") ? {} : VEGA_DEBUG;\n",
       "  (function(spec, embedOpt){\n",
       "    let outputDiv = document.currentScript.previousElementSibling;\n",
       "    if (outputDiv.id !== \"altair-viz-084817786f8849e0bf3d88a564f706fd\") {\n",
       "      outputDiv = document.getElementById(\"altair-viz-084817786f8849e0bf3d88a564f706fd\");\n",
       "    }\n",
       "    const paths = {\n",
       "      \"vega\": \"https://cdn.jsdelivr.net/npm//vega@5?noext\",\n",
       "      \"vega-lib\": \"https://cdn.jsdelivr.net/npm//vega-lib?noext\",\n",
       "      \"vega-lite\": \"https://cdn.jsdelivr.net/npm//vega-lite@4.17.0?noext\",\n",
       "      \"vega-embed\": \"https://cdn.jsdelivr.net/npm//vega-embed@6?noext\",\n",
       "    };\n",
       "\n",
       "    function maybeLoadScript(lib, version) {\n",
       "      var key = `${lib.replace(\"-\", \"\")}_version`;\n",
       "      return (VEGA_DEBUG[key] == version) ?\n",
       "        Promise.resolve(paths[lib]) :\n",
       "        new Promise(function(resolve, reject) {\n",
       "          var s = document.createElement('script');\n",
       "          document.getElementsByTagName(\"head\")[0].appendChild(s);\n",
       "          s.async = true;\n",
       "          s.onload = () => {\n",
       "            VEGA_DEBUG[key] = version;\n",
       "            return resolve(paths[lib]);\n",
       "          };\n",
       "          s.onerror = () => reject(`Error loading script: ${paths[lib]}`);\n",
       "          s.src = paths[lib];\n",
       "        });\n",
       "    }\n",
       "\n",
       "    function showError(err) {\n",
       "      outputDiv.innerHTML = `<div class=\"error\" style=\"color:red;\">${err}</div>`;\n",
       "      throw err;\n",
       "    }\n",
       "\n",
       "    function displayChart(vegaEmbed) {\n",
       "      vegaEmbed(outputDiv, spec, embedOpt)\n",
       "        .catch(err => showError(`Javascript Error: ${err.message}<br>This usually means there's a typo in your chart specification. See the javascript console for the full traceback.`));\n",
       "    }\n",
       "\n",
       "    if(typeof define === \"function\" && define.amd) {\n",
       "      requirejs.config({paths});\n",
       "      require([\"vega-embed\"], displayChart, err => showError(`Error loading script: ${err.message}`));\n",
       "    } else {\n",
       "      maybeLoadScript(\"vega\", \"5\")\n",
       "        .then(() => maybeLoadScript(\"vega-lite\", \"4.17.0\"))\n",
       "        .then(() => maybeLoadScript(\"vega-embed\", \"6\"))\n",
       "        .catch(showError)\n",
       "        .then(() => displayChart(vegaEmbed));\n",
       "    }\n",
       "  })({\"config\": {\"view\": {\"continuousWidth\": 400, \"continuousHeight\": 300}, \"axis\": {\"domainColor\": \"#cbcbcb\", \"grid\": true, \"gridColor\": \"#cbcbcb\", \"gridWidth\": 1, \"labelColor\": \"#474747\", \"labelFont\": \"Nunito Sans\", \"labelFontSize\": 10, \"labelPadding\": 4, \"tickColor\": \"#cbcbcb\", \"tickSize\": 10, \"titleColor\": \"#333\", \"titleFont\": \"Raleway\", \"titleFontSize\": 12, \"titlePadding\": 10}, \"axisBand\": {\"grid\": false}, \"background\": \"white\", \"font\": \"Raleway\", \"header\": {\"labelFont\": \"Nunito Sans\", \"titleFont\": \"Raleway\"}, \"legend\": {\"labelColor\": \"#333\", \"labelFont\": \"Nunito Sans\", \"labelFontSize\": 11, \"labelLimit\": 0, \"padding\": 1, \"symbolSize\": 30, \"symbolType\": \"square\", \"titleColor\": \"#333\", \"titleFont\": \"Raleway\", \"titleFontSize\": 14, \"titlePadding\": 10}, \"title\": {\"anchor\": \"middle\", \"font\": \"Raleway\", \"fontSize\": 18, \"fontWeight\": 300, \"offset\": 20}}, \"data\": {\"name\": \"data-ddacb47622a87baf8e803a4da68110a8\"}, \"mark\": \"line\", \"encoding\": {\"tooltip\": [{\"field\": \"Year\", \"type\": \"quantitative\"}, {\"field\": \"count\", \"type\": \"quantitative\"}], \"x\": {\"field\": \"Year\", \"title\": \"Prepared Year\", \"type\": \"ordinal\"}, \"y\": {\"field\": \"count\", \"title\": \"Count\", \"type\": \"quantitative\"}}, \"height\": 250, \"width\": 400, \"$schema\": \"https://vega.github.io/schema/vega-lite/v4.17.0.json\", \"datasets\": {\"data-ddacb47622a87baf8e803a4da68110a8\": [{\"Year\": 2020.0, \"count\": 129, \"variable\": \"prepared_y\"}, {\"Year\": 2014.0, \"count\": 125, \"variable\": \"prepared_y\"}, {\"Year\": 2015.0, \"count\": 125, \"variable\": \"prepared_y\"}, {\"Year\": 2016.0, \"count\": 122, \"variable\": \"prepared_y\"}, {\"Year\": 2019.0, \"count\": 109, \"variable\": \"prepared_y\"}, {\"Year\": 2021.0, \"count\": 107, \"variable\": \"prepared_y\"}, {\"Year\": 2018.0, \"count\": 104, \"variable\": \"prepared_y\"}, {\"Year\": 2017.0, \"count\": 102, \"variable\": \"prepared_y\"}, {\"Year\": 2022.0, \"count\": 24, \"variable\": \"prepared_y\"}, {\"Year\": 2013.0, \"count\": 9, \"variable\": \"prepared_y\"}, {\"Year\": 2011.0, \"count\": 1, \"variable\": \"prepared_y\"}]}}, {\"mode\": \"vega-lite\"});\n",
       "</script>"
      ],
      "text/plain": [
       "alt.Chart(...)"
      ]
     },
     "metadata": {},
     "output_type": "display_data"
    },
    {
     "data": {
      "text/html": [
       "<h4><strong>Number of Unique Agencies by District</strong></h4>"
      ],
      "text/plain": [
       "<IPython.core.display.HTML object>"
      ]
     },
     "metadata": {},
     "output_type": "display_data"
    },
    {
     "data": {
      "text/html": [
       "\n",
       "<div id=\"altair-viz-9f754b3101fa421c894a2df7dd641870\"></div>\n",
       "<script type=\"text/javascript\">\n",
       "  var VEGA_DEBUG = (typeof VEGA_DEBUG == \"undefined\") ? {} : VEGA_DEBUG;\n",
       "  (function(spec, embedOpt){\n",
       "    let outputDiv = document.currentScript.previousElementSibling;\n",
       "    if (outputDiv.id !== \"altair-viz-9f754b3101fa421c894a2df7dd641870\") {\n",
       "      outputDiv = document.getElementById(\"altair-viz-9f754b3101fa421c894a2df7dd641870\");\n",
       "    }\n",
       "    const paths = {\n",
       "      \"vega\": \"https://cdn.jsdelivr.net/npm//vega@5?noext\",\n",
       "      \"vega-lib\": \"https://cdn.jsdelivr.net/npm//vega-lib?noext\",\n",
       "      \"vega-lite\": \"https://cdn.jsdelivr.net/npm//vega-lite@4.17.0?noext\",\n",
       "      \"vega-embed\": \"https://cdn.jsdelivr.net/npm//vega-embed@6?noext\",\n",
       "    };\n",
       "\n",
       "    function maybeLoadScript(lib, version) {\n",
       "      var key = `${lib.replace(\"-\", \"\")}_version`;\n",
       "      return (VEGA_DEBUG[key] == version) ?\n",
       "        Promise.resolve(paths[lib]) :\n",
       "        new Promise(function(resolve, reject) {\n",
       "          var s = document.createElement('script');\n",
       "          document.getElementsByTagName(\"head\")[0].appendChild(s);\n",
       "          s.async = true;\n",
       "          s.onload = () => {\n",
       "            VEGA_DEBUG[key] = version;\n",
       "            return resolve(paths[lib]);\n",
       "          };\n",
       "          s.onerror = () => reject(`Error loading script: ${paths[lib]}`);\n",
       "          s.src = paths[lib];\n",
       "        });\n",
       "    }\n",
       "\n",
       "    function showError(err) {\n",
       "      outputDiv.innerHTML = `<div class=\"error\" style=\"color:red;\">${err}</div>`;\n",
       "      throw err;\n",
       "    }\n",
       "\n",
       "    function displayChart(vegaEmbed) {\n",
       "      vegaEmbed(outputDiv, spec, embedOpt)\n",
       "        .catch(err => showError(`Javascript Error: ${err.message}<br>This usually means there's a typo in your chart specification. See the javascript console for the full traceback.`));\n",
       "    }\n",
       "\n",
       "    if(typeof define === \"function\" && define.amd) {\n",
       "      requirejs.config({paths});\n",
       "      require([\"vega-embed\"], displayChart, err => showError(`Error loading script: ${err.message}`));\n",
       "    } else {\n",
       "      maybeLoadScript(\"vega\", \"5\")\n",
       "        .then(() => maybeLoadScript(\"vega-lite\", \"4.17.0\"))\n",
       "        .then(() => maybeLoadScript(\"vega-embed\", \"6\"))\n",
       "        .catch(showError)\n",
       "        .then(() => displayChart(vegaEmbed));\n",
       "    }\n",
       "  })({\"config\": {\"view\": {\"continuousWidth\": 400, \"continuousHeight\": 300}, \"axis\": {\"domainColor\": \"#cbcbcb\", \"grid\": true, \"gridColor\": \"#cbcbcb\", \"gridWidth\": 1, \"labelColor\": \"#474747\", \"labelFont\": \"Nunito Sans\", \"labelFontSize\": 10, \"labelPadding\": 4, \"tickColor\": \"#cbcbcb\", \"tickSize\": 10, \"titleColor\": \"#333\", \"titleFont\": \"Raleway\", \"titleFontSize\": 12, \"titlePadding\": 10}, \"axisBand\": {\"grid\": false}, \"background\": \"white\", \"font\": \"Raleway\", \"header\": {\"labelFont\": \"Nunito Sans\", \"titleFont\": \"Raleway\"}, \"legend\": {\"labelColor\": \"#333\", \"labelFont\": \"Nunito Sans\", \"labelFontSize\": 11, \"labelLimit\": 0, \"padding\": 1, \"symbolSize\": 30, \"symbolType\": \"square\", \"titleColor\": \"#333\", \"titleFont\": \"Raleway\", \"titleFontSize\": 14, \"titlePadding\": 10}, \"title\": {\"anchor\": \"middle\", \"font\": \"Raleway\", \"fontSize\": 18, \"fontWeight\": 300, \"offset\": 20}}, \"data\": {\"name\": \"data-62557f1d28ac4db01b0e5b41f06ad900\"}, \"mark\": \"bar\", \"encoding\": {\"color\": {\"field\": \"District\", \"legend\": {\"title\": \"Prepared Year\"}, \"scale\": {\"range\": [\"#B9D6DF\", \"#8CBCCB\", \"#2EA8CE\", \"#136C97\", \"#0B405B\"]}, \"type\": \"nominal\"}, \"column\": {\"field\": \"District\", \"type\": \"nominal\"}, \"tooltip\": [{\"field\": \"prepared_y\", \"type\": \"quantitative\"}, {\"field\": \"Count\", \"type\": \"quantitative\"}], \"x\": {\"field\": \"prepared_y\", \"title\": \"Prepared Year\", \"type\": \"ordinal\"}, \"y\": {\"field\": \"Count\", \"title\": \"Number of Unique Agencies\", \"type\": \"quantitative\"}}, \"height\": 250, \"width\": 400, \"$schema\": \"https://vega.github.io/schema/vega-lite/v4.17.0.json\", \"datasets\": {\"data-62557f1d28ac4db01b0e5b41f06ad900\": [{\"prepared_y\": 2022.0, \"District\": 11, \"Count\": 13}, {\"prepared_y\": 2021.0, \"District\": 11, \"Count\": 22}, {\"prepared_y\": 2020.0, \"District\": 11, \"Count\": 23}, {\"prepared_y\": 2019.0, \"District\": 11, \"Count\": 22}, {\"prepared_y\": 2018.0, \"District\": 11, \"Count\": 21}, {\"prepared_y\": 2017.0, \"District\": 11, \"Count\": 25}, {\"prepared_y\": 2016.0, \"District\": 11, \"Count\": 23}, {\"prepared_y\": 2015.0, \"District\": 11, \"Count\": 21}, {\"prepared_y\": 2014.0, \"District\": 11, \"Count\": 25}, {\"prepared_y\": 2013.0, \"District\": 11, \"Count\": 8}, {\"prepared_y\": 2011.0, \"District\": 11, \"Count\": 1}]}}, {\"mode\": \"vega-lite\"});\n",
       "</script>"
      ],
      "text/plain": [
       "alt.Chart(...)"
      ]
     },
     "metadata": {},
     "output_type": "display_data"
    },
    {
     "data": {
      "text/html": [
       "<h4><strong>Agencies With The Most Obligations</strong></h4>"
      ],
      "text/plain": [
       "<IPython.core.display.HTML object>"
      ]
     },
     "metadata": {},
     "output_type": "display_data"
    },
    {
     "data": {
      "text/html": [
       "\n",
       "<div id=\"altair-viz-039844d66d094b5e803efd18f89e01f0\"></div>\n",
       "<script type=\"text/javascript\">\n",
       "  var VEGA_DEBUG = (typeof VEGA_DEBUG == \"undefined\") ? {} : VEGA_DEBUG;\n",
       "  (function(spec, embedOpt){\n",
       "    let outputDiv = document.currentScript.previousElementSibling;\n",
       "    if (outputDiv.id !== \"altair-viz-039844d66d094b5e803efd18f89e01f0\") {\n",
       "      outputDiv = document.getElementById(\"altair-viz-039844d66d094b5e803efd18f89e01f0\");\n",
       "    }\n",
       "    const paths = {\n",
       "      \"vega\": \"https://cdn.jsdelivr.net/npm//vega@5?noext\",\n",
       "      \"vega-lib\": \"https://cdn.jsdelivr.net/npm//vega-lib?noext\",\n",
       "      \"vega-lite\": \"https://cdn.jsdelivr.net/npm//vega-lite@4.17.0?noext\",\n",
       "      \"vega-embed\": \"https://cdn.jsdelivr.net/npm//vega-embed@6?noext\",\n",
       "    };\n",
       "\n",
       "    function maybeLoadScript(lib, version) {\n",
       "      var key = `${lib.replace(\"-\", \"\")}_version`;\n",
       "      return (VEGA_DEBUG[key] == version) ?\n",
       "        Promise.resolve(paths[lib]) :\n",
       "        new Promise(function(resolve, reject) {\n",
       "          var s = document.createElement('script');\n",
       "          document.getElementsByTagName(\"head\")[0].appendChild(s);\n",
       "          s.async = true;\n",
       "          s.onload = () => {\n",
       "            VEGA_DEBUG[key] = version;\n",
       "            return resolve(paths[lib]);\n",
       "          };\n",
       "          s.onerror = () => reject(`Error loading script: ${paths[lib]}`);\n",
       "          s.src = paths[lib];\n",
       "        });\n",
       "    }\n",
       "\n",
       "    function showError(err) {\n",
       "      outputDiv.innerHTML = `<div class=\"error\" style=\"color:red;\">${err}</div>`;\n",
       "      throw err;\n",
       "    }\n",
       "\n",
       "    function displayChart(vegaEmbed) {\n",
       "      vegaEmbed(outputDiv, spec, embedOpt)\n",
       "        .catch(err => showError(`Javascript Error: ${err.message}<br>This usually means there's a typo in your chart specification. See the javascript console for the full traceback.`));\n",
       "    }\n",
       "\n",
       "    if(typeof define === \"function\" && define.amd) {\n",
       "      requirejs.config({paths});\n",
       "      require([\"vega-embed\"], displayChart, err => showError(`Error loading script: ${err.message}`));\n",
       "    } else {\n",
       "      maybeLoadScript(\"vega\", \"5\")\n",
       "        .then(() => maybeLoadScript(\"vega-lite\", \"4.17.0\"))\n",
       "        .then(() => maybeLoadScript(\"vega-embed\", \"6\"))\n",
       "        .catch(showError)\n",
       "        .then(() => displayChart(vegaEmbed));\n",
       "    }\n",
       "  })({\"config\": {\"view\": {\"continuousWidth\": 400, \"continuousHeight\": 300}, \"axis\": {\"domainColor\": \"#cbcbcb\", \"grid\": true, \"gridColor\": \"#cbcbcb\", \"gridWidth\": 1, \"labelColor\": \"#474747\", \"labelFont\": \"Nunito Sans\", \"labelFontSize\": 10, \"labelPadding\": 4, \"tickColor\": \"#cbcbcb\", \"tickSize\": 10, \"titleColor\": \"#333\", \"titleFont\": \"Raleway\", \"titleFontSize\": 12, \"titlePadding\": 10}, \"axisBand\": {\"grid\": false}, \"background\": \"white\", \"font\": \"Raleway\", \"header\": {\"labelFont\": \"Nunito Sans\", \"titleFont\": \"Raleway\"}, \"legend\": {\"labelColor\": \"#333\", \"labelFont\": \"Nunito Sans\", \"labelFontSize\": 11, \"labelLimit\": 0, \"padding\": 1, \"symbolSize\": 30, \"symbolType\": \"square\", \"titleColor\": \"#333\", \"titleFont\": \"Raleway\", \"titleFontSize\": 14, \"titlePadding\": 10}, \"title\": {\"anchor\": \"middle\", \"font\": \"Raleway\", \"fontSize\": 18, \"fontWeight\": 300, \"offset\": 20}}, \"data\": {\"name\": \"data-106cdd9bdec4982209897621c6db9270\"}, \"mark\": \"bar\", \"encoding\": {\"color\": {\"field\": \"Agency\", \"legend\": {\"symbolLimit\": 10, \"title\": \"Agency\"}, \"scale\": {\"range\": [\"#2EA8CE\", \"#EB9F3C\", \"#F4D837\", \"#51BF9D\", \"#8CBCCB\", \"#9487C0\"]}, \"type\": \"nominal\"}, \"tooltip\": [{\"field\": \"Agency\", \"type\": \"nominal\"}, {\"field\": \"Number of Obligations\", \"type\": \"quantitative\"}], \"x\": {\"field\": \"Agency\", \"sort\": \"-y\", \"title\": \"Agency\", \"type\": \"nominal\"}, \"y\": {\"field\": \"Number of Obligations\", \"title\": \"Number Of Obligations\", \"type\": \"quantitative\"}}, \"height\": 250, \"width\": 400, \"$schema\": \"https://vega.github.io/schema/vega-lite/v4.17.0.json\", \"datasets\": {\"data-106cdd9bdec4982209897621c6db9270\": [{\"Agency\": \"San Diego County\", \"Number of Obligations\": 104, \"variable\": \"primary_agency_name\"}, {\"Agency\": \"San Diego Association of Governments\", \"Number of Obligations\": 101, \"variable\": \"primary_agency_name\"}, {\"Agency\": \"Imperial County\", \"Number of Obligations\": 83, \"variable\": \"primary_agency_name\"}, {\"Agency\": \"San Diego\", \"Number of Obligations\": 76, \"variable\": \"primary_agency_name\"}, {\"Agency\": \"Chula Vista\", \"Number of Obligations\": 66, \"variable\": \"primary_agency_name\"}, {\"Agency\": \"National City\", \"Number of Obligations\": 45, \"variable\": \"primary_agency_name\"}, {\"Agency\": \"San Marcos\", \"Number of Obligations\": 41, \"variable\": \"primary_agency_name\"}, {\"Agency\": \"El Cajon\", \"Number of Obligations\": 40, \"variable\": \"primary_agency_name\"}, {\"Agency\": \"Brawley\", \"Number of Obligations\": 36, \"variable\": \"primary_agency_name\"}, {\"Agency\": \"Encinitas\", \"Number of Obligations\": 35, \"variable\": \"primary_agency_name\"}, {\"Agency\": \"Holtville\", \"Number of Obligations\": 35, \"variable\": \"primary_agency_name\"}, {\"Agency\": \"La Mesa\", \"Number of Obligations\": 35, \"variable\": \"primary_agency_name\"}, {\"Agency\": \"El Centro\", \"Number of Obligations\": 34, \"variable\": \"primary_agency_name\"}, {\"Agency\": \"Santee\", \"Number of Obligations\": 32, \"variable\": \"primary_agency_name\"}, {\"Agency\": \"Caltrans\", \"Number of Obligations\": 29, \"variable\": \"primary_agency_name\"}, {\"Agency\": \"Imperial\", \"Number of Obligations\": 26, \"variable\": \"primary_agency_name\"}, {\"Agency\": \"Calipatria\", \"Number of Obligations\": 23, \"variable\": \"primary_agency_name\"}, {\"Agency\": \"Vista\", \"Number of Obligations\": 22, \"variable\": \"primary_agency_name\"}, {\"Agency\": \"Carlsbad\", \"Number of Obligations\": 14, \"variable\": \"primary_agency_name\"}, {\"Agency\": \"Oceanside\", \"Number of Obligations\": 14, \"variable\": \"primary_agency_name\"}]}}, {\"mode\": \"vega-lite\"});\n",
       "</script>"
      ],
      "text/plain": [
       "alt.Chart(...)"
      ]
     },
     "metadata": {},
     "output_type": "display_data"
    },
    {
     "data": {
      "text/html": [
       "<h2>Prefix Codes</h2>"
      ],
      "text/plain": [
       "<IPython.core.display.HTML object>"
      ]
     },
     "metadata": {},
     "output_type": "display_data"
    },
    {
     "data": {
      "text/html": [
       "<h4><strong>Number of Unique Prefix Codes by District</strong></h4>"
      ],
      "text/plain": [
       "<IPython.core.display.HTML object>"
      ]
     },
     "metadata": {},
     "output_type": "display_data"
    },
    {
     "data": {
      "text/html": [
       "\n",
       "<div id=\"altair-viz-384f5ebb29b146d59726ce9a532ebfc0\"></div>\n",
       "<script type=\"text/javascript\">\n",
       "  var VEGA_DEBUG = (typeof VEGA_DEBUG == \"undefined\") ? {} : VEGA_DEBUG;\n",
       "  (function(spec, embedOpt){\n",
       "    let outputDiv = document.currentScript.previousElementSibling;\n",
       "    if (outputDiv.id !== \"altair-viz-384f5ebb29b146d59726ce9a532ebfc0\") {\n",
       "      outputDiv = document.getElementById(\"altair-viz-384f5ebb29b146d59726ce9a532ebfc0\");\n",
       "    }\n",
       "    const paths = {\n",
       "      \"vega\": \"https://cdn.jsdelivr.net/npm//vega@5?noext\",\n",
       "      \"vega-lib\": \"https://cdn.jsdelivr.net/npm//vega-lib?noext\",\n",
       "      \"vega-lite\": \"https://cdn.jsdelivr.net/npm//vega-lite@4.17.0?noext\",\n",
       "      \"vega-embed\": \"https://cdn.jsdelivr.net/npm//vega-embed@6?noext\",\n",
       "    };\n",
       "\n",
       "    function maybeLoadScript(lib, version) {\n",
       "      var key = `${lib.replace(\"-\", \"\")}_version`;\n",
       "      return (VEGA_DEBUG[key] == version) ?\n",
       "        Promise.resolve(paths[lib]) :\n",
       "        new Promise(function(resolve, reject) {\n",
       "          var s = document.createElement('script');\n",
       "          document.getElementsByTagName(\"head\")[0].appendChild(s);\n",
       "          s.async = true;\n",
       "          s.onload = () => {\n",
       "            VEGA_DEBUG[key] = version;\n",
       "            return resolve(paths[lib]);\n",
       "          };\n",
       "          s.onerror = () => reject(`Error loading script: ${paths[lib]}`);\n",
       "          s.src = paths[lib];\n",
       "        });\n",
       "    }\n",
       "\n",
       "    function showError(err) {\n",
       "      outputDiv.innerHTML = `<div class=\"error\" style=\"color:red;\">${err}</div>`;\n",
       "      throw err;\n",
       "    }\n",
       "\n",
       "    function displayChart(vegaEmbed) {\n",
       "      vegaEmbed(outputDiv, spec, embedOpt)\n",
       "        .catch(err => showError(`Javascript Error: ${err.message}<br>This usually means there's a typo in your chart specification. See the javascript console for the full traceback.`));\n",
       "    }\n",
       "\n",
       "    if(typeof define === \"function\" && define.amd) {\n",
       "      requirejs.config({paths});\n",
       "      require([\"vega-embed\"], displayChart, err => showError(`Error loading script: ${err.message}`));\n",
       "    } else {\n",
       "      maybeLoadScript(\"vega\", \"5\")\n",
       "        .then(() => maybeLoadScript(\"vega-lite\", \"4.17.0\"))\n",
       "        .then(() => maybeLoadScript(\"vega-embed\", \"6\"))\n",
       "        .catch(showError)\n",
       "        .then(() => displayChart(vegaEmbed));\n",
       "    }\n",
       "  })({\"config\": {\"view\": {\"continuousWidth\": 400, \"continuousHeight\": 300}, \"axis\": {\"domainColor\": \"#cbcbcb\", \"grid\": true, \"gridColor\": \"#cbcbcb\", \"gridWidth\": 1, \"labelColor\": \"#474747\", \"labelFont\": \"Nunito Sans\", \"labelFontSize\": 10, \"labelPadding\": 4, \"tickColor\": \"#cbcbcb\", \"tickSize\": 10, \"titleColor\": \"#333\", \"titleFont\": \"Raleway\", \"titleFontSize\": 12, \"titlePadding\": 10}, \"axisBand\": {\"grid\": false}, \"background\": \"white\", \"font\": \"Raleway\", \"header\": {\"labelFont\": \"Nunito Sans\", \"titleFont\": \"Raleway\"}, \"legend\": {\"labelColor\": \"#333\", \"labelFont\": \"Nunito Sans\", \"labelFontSize\": 11, \"labelLimit\": 0, \"padding\": 1, \"symbolSize\": 30, \"symbolType\": \"square\", \"titleColor\": \"#333\", \"titleFont\": \"Raleway\", \"titleFontSize\": 14, \"titlePadding\": 10}, \"title\": {\"anchor\": \"middle\", \"font\": \"Raleway\", \"fontSize\": 18, \"fontWeight\": 300, \"offset\": 20}}, \"data\": {\"name\": \"data-99c8bc4921f978ca25e99cea33a2f429\"}, \"mark\": \"bar\", \"encoding\": {\"color\": {\"field\": \"District\", \"legend\": {\"title\": \"District\"}, \"scale\": {\"range\": [\"#B9D6DF\", \"#8CBCCB\", \"#2EA8CE\", \"#136C97\", \"#0B405B\"]}, \"type\": \"nominal\"}, \"column\": {\"field\": \"District\", \"type\": \"nominal\"}, \"tooltip\": [{\"field\": \"prepared_y\", \"type\": \"quantitative\"}, {\"field\": \"Count\", \"type\": \"quantitative\"}], \"x\": {\"field\": \"prepared_y\", \"title\": \"Prepared Year\", \"type\": \"ordinal\"}, \"y\": {\"field\": \"Count\", \"title\": \"Number of Unique Agencies\", \"type\": \"quantitative\"}}, \"height\": 250, \"width\": 400, \"$schema\": \"https://vega.github.io/schema/vega-lite/v4.17.0.json\", \"datasets\": {\"data-99c8bc4921f978ca25e99cea33a2f429\": [{\"prepared_y\": 2022.0, \"District\": 11, \"Count\": 11}, {\"prepared_y\": 2021.0, \"District\": 11, \"Count\": 25}, {\"prepared_y\": 2020.0, \"District\": 11, \"Count\": 27}, {\"prepared_y\": 2019.0, \"District\": 11, \"Count\": 22}, {\"prepared_y\": 2018.0, \"District\": 11, \"Count\": 29}, {\"prepared_y\": 2017.0, \"District\": 11, \"Count\": 22}, {\"prepared_y\": 2016.0, \"District\": 11, \"Count\": 29}, {\"prepared_y\": 2015.0, \"District\": 11, \"Count\": 28}, {\"prepared_y\": 2014.0, \"District\": 11, \"Count\": 29}, {\"prepared_y\": 2013.0, \"District\": 11, \"Count\": 7}, {\"prepared_y\": 2011.0, \"District\": 11, \"Count\": 1}]}}, {\"mode\": \"vega-lite\"});\n",
       "</script>"
      ],
      "text/plain": [
       "alt.Chart(...)"
      ]
     },
     "metadata": {},
     "output_type": "display_data"
    },
    {
     "data": {
      "text/html": [
       "<h4><strong>Most Used Prefix Codes</strong></h4>"
      ],
      "text/plain": [
       "<IPython.core.display.HTML object>"
      ]
     },
     "metadata": {},
     "output_type": "display_data"
    },
    {
     "data": {
      "text/html": [
       "\n",
       "<div id=\"altair-viz-da7e59c51da64a8cbe447726c239ea1d\"></div>\n",
       "<script type=\"text/javascript\">\n",
       "  var VEGA_DEBUG = (typeof VEGA_DEBUG == \"undefined\") ? {} : VEGA_DEBUG;\n",
       "  (function(spec, embedOpt){\n",
       "    let outputDiv = document.currentScript.previousElementSibling;\n",
       "    if (outputDiv.id !== \"altair-viz-da7e59c51da64a8cbe447726c239ea1d\") {\n",
       "      outputDiv = document.getElementById(\"altair-viz-da7e59c51da64a8cbe447726c239ea1d\");\n",
       "    }\n",
       "    const paths = {\n",
       "      \"vega\": \"https://cdn.jsdelivr.net/npm//vega@5?noext\",\n",
       "      \"vega-lib\": \"https://cdn.jsdelivr.net/npm//vega-lib?noext\",\n",
       "      \"vega-lite\": \"https://cdn.jsdelivr.net/npm//vega-lite@4.17.0?noext\",\n",
       "      \"vega-embed\": \"https://cdn.jsdelivr.net/npm//vega-embed@6?noext\",\n",
       "    };\n",
       "\n",
       "    function maybeLoadScript(lib, version) {\n",
       "      var key = `${lib.replace(\"-\", \"\")}_version`;\n",
       "      return (VEGA_DEBUG[key] == version) ?\n",
       "        Promise.resolve(paths[lib]) :\n",
       "        new Promise(function(resolve, reject) {\n",
       "          var s = document.createElement('script');\n",
       "          document.getElementsByTagName(\"head\")[0].appendChild(s);\n",
       "          s.async = true;\n",
       "          s.onload = () => {\n",
       "            VEGA_DEBUG[key] = version;\n",
       "            return resolve(paths[lib]);\n",
       "          };\n",
       "          s.onerror = () => reject(`Error loading script: ${paths[lib]}`);\n",
       "          s.src = paths[lib];\n",
       "        });\n",
       "    }\n",
       "\n",
       "    function showError(err) {\n",
       "      outputDiv.innerHTML = `<div class=\"error\" style=\"color:red;\">${err}</div>`;\n",
       "      throw err;\n",
       "    }\n",
       "\n",
       "    function displayChart(vegaEmbed) {\n",
       "      vegaEmbed(outputDiv, spec, embedOpt)\n",
       "        .catch(err => showError(`Javascript Error: ${err.message}<br>This usually means there's a typo in your chart specification. See the javascript console for the full traceback.`));\n",
       "    }\n",
       "\n",
       "    if(typeof define === \"function\" && define.amd) {\n",
       "      requirejs.config({paths});\n",
       "      require([\"vega-embed\"], displayChart, err => showError(`Error loading script: ${err.message}`));\n",
       "    } else {\n",
       "      maybeLoadScript(\"vega\", \"5\")\n",
       "        .then(() => maybeLoadScript(\"vega-lite\", \"4.17.0\"))\n",
       "        .then(() => maybeLoadScript(\"vega-embed\", \"6\"))\n",
       "        .catch(showError)\n",
       "        .then(() => displayChart(vegaEmbed));\n",
       "    }\n",
       "  })({\"config\": {\"view\": {\"continuousWidth\": 400, \"continuousHeight\": 300}, \"axis\": {\"domainColor\": \"#cbcbcb\", \"grid\": true, \"gridColor\": \"#cbcbcb\", \"gridWidth\": 1, \"labelColor\": \"#474747\", \"labelFont\": \"Nunito Sans\", \"labelFontSize\": 10, \"labelPadding\": 4, \"tickColor\": \"#cbcbcb\", \"tickSize\": 10, \"titleColor\": \"#333\", \"titleFont\": \"Raleway\", \"titleFontSize\": 12, \"titlePadding\": 10}, \"axisBand\": {\"grid\": false}, \"background\": \"white\", \"font\": \"Raleway\", \"header\": {\"labelFont\": \"Nunito Sans\", \"titleFont\": \"Raleway\"}, \"legend\": {\"labelColor\": \"#333\", \"labelFont\": \"Nunito Sans\", \"labelFontSize\": 11, \"labelLimit\": 0, \"padding\": 1, \"symbolSize\": 30, \"symbolType\": \"square\", \"titleColor\": \"#333\", \"titleFont\": \"Raleway\", \"titleFontSize\": 14, \"titlePadding\": 10}, \"title\": {\"anchor\": \"middle\", \"font\": \"Raleway\", \"fontSize\": 18, \"fontWeight\": 300, \"offset\": 20}}, \"data\": {\"name\": \"data-5b6d5c713aafb7a7ba049a1ca44bb5b1\"}, \"mark\": \"bar\", \"encoding\": {\"color\": {\"field\": \"Prefix\", \"legend\": {\"symbolLimit\": 10, \"title\": \"Prefix\"}, \"scale\": {\"range\": [\"#2EA8CE\", \"#EB9F3C\", \"#F4D837\", \"#51BF9D\", \"#8CBCCB\", \"#9487C0\"]}, \"type\": \"nominal\"}, \"tooltip\": [{\"field\": \"Prefix\", \"type\": \"nominal\"}, {\"field\": \"Number of Obligations\", \"type\": \"quantitative\"}], \"x\": {\"field\": \"Prefix\", \"sort\": \"-y\", \"title\": \"Prefix\", \"type\": \"nominal\"}, \"y\": {\"field\": \"Number of Obligations\", \"title\": \"Number Of Obligations\", \"type\": \"quantitative\"}}, \"height\": 250, \"width\": 400, \"$schema\": \"https://vega.github.io/schema/vega-lite/v4.17.0.json\", \"datasets\": {\"data-5b6d5c713aafb7a7ba049a1ca44bb5b1\": [{\"Prefix\": \"HSIPL\", \"Number of Obligations\": 281, \"variable\": \"prefix\"}, {\"Prefix\": \"CML\", \"Number of Obligations\": 103, \"variable\": \"prefix\"}, {\"Prefix\": \"STPL\", \"Number of Obligations\": 99, \"variable\": \"prefix\"}, {\"Prefix\": \"BRLS\", \"Number of Obligations\": 45, \"variable\": \"prefix\"}, {\"Prefix\": \"BPMPL\", \"Number of Obligations\": 37, \"variable\": \"prefix\"}, {\"Prefix\": \"ER\", \"Number of Obligations\": 33, \"variable\": \"prefix\"}, {\"Prefix\": \"FERPL\", \"Number of Obligations\": 27, \"variable\": \"prefix\"}, {\"Prefix\": \"RPSTPL\", \"Number of Obligations\": 24, \"variable\": \"prefix\"}, {\"Prefix\": \"ATPL\", \"Number of Obligations\": 23, \"variable\": \"prefix\"}, {\"Prefix\": \"SRTSL\", \"Number of Obligations\": 20, \"variable\": \"prefix\"}, {\"Prefix\": \"BRLO\", \"Number of Obligations\": 19, \"variable\": \"prefix\"}, {\"Prefix\": \"HPLU\", \"Number of Obligations\": 18, \"variable\": \"prefix\"}, {\"Prefix\": \"CMSTPL\", \"Number of Obligations\": 16, \"variable\": \"prefix\"}, {\"Prefix\": \"FTASTPL\", \"Number of Obligations\": 16, \"variable\": \"prefix\"}, {\"Prefix\": \"HSIP\", \"Number of Obligations\": 15, \"variable\": \"prefix\"}, {\"Prefix\": \"BHLS\", \"Number of Obligations\": 12, \"variable\": \"prefix\"}, {\"Prefix\": \"CMLG\", \"Number of Obligations\": 12, \"variable\": \"prefix\"}, {\"Prefix\": \"HPLUL\", \"Number of Obligations\": 9, \"variable\": \"prefix\"}, {\"Prefix\": \"ACSTP\", \"Number of Obligations\": 8, \"variable\": \"prefix\"}, {\"Prefix\": \"SRTSLNI\", \"Number of Obligations\": 8, \"variable\": \"prefix\"}]}}, {\"mode\": \"vega-lite\"});\n",
       "</script>"
      ],
      "text/plain": [
       "alt.Chart(...)"
      ]
     },
     "metadata": {},
     "output_type": "display_data"
    },
    {
     "data": {
      "text/html": [
       "<h4><strong>Agencies With The Most Unique Prefix Codes</strong></h4>"
      ],
      "text/plain": [
       "<IPython.core.display.HTML object>"
      ]
     },
     "metadata": {},
     "output_type": "display_data"
    },
    {
     "data": {
      "text/html": [
       "\n",
       "<div id=\"altair-viz-0ba691a610dc4d8a949f78f63455767e\"></div>\n",
       "<script type=\"text/javascript\">\n",
       "  var VEGA_DEBUG = (typeof VEGA_DEBUG == \"undefined\") ? {} : VEGA_DEBUG;\n",
       "  (function(spec, embedOpt){\n",
       "    let outputDiv = document.currentScript.previousElementSibling;\n",
       "    if (outputDiv.id !== \"altair-viz-0ba691a610dc4d8a949f78f63455767e\") {\n",
       "      outputDiv = document.getElementById(\"altair-viz-0ba691a610dc4d8a949f78f63455767e\");\n",
       "    }\n",
       "    const paths = {\n",
       "      \"vega\": \"https://cdn.jsdelivr.net/npm//vega@5?noext\",\n",
       "      \"vega-lib\": \"https://cdn.jsdelivr.net/npm//vega-lib?noext\",\n",
       "      \"vega-lite\": \"https://cdn.jsdelivr.net/npm//vega-lite@4.17.0?noext\",\n",
       "      \"vega-embed\": \"https://cdn.jsdelivr.net/npm//vega-embed@6?noext\",\n",
       "    };\n",
       "\n",
       "    function maybeLoadScript(lib, version) {\n",
       "      var key = `${lib.replace(\"-\", \"\")}_version`;\n",
       "      return (VEGA_DEBUG[key] == version) ?\n",
       "        Promise.resolve(paths[lib]) :\n",
       "        new Promise(function(resolve, reject) {\n",
       "          var s = document.createElement('script');\n",
       "          document.getElementsByTagName(\"head\")[0].appendChild(s);\n",
       "          s.async = true;\n",
       "          s.onload = () => {\n",
       "            VEGA_DEBUG[key] = version;\n",
       "            return resolve(paths[lib]);\n",
       "          };\n",
       "          s.onerror = () => reject(`Error loading script: ${paths[lib]}`);\n",
       "          s.src = paths[lib];\n",
       "        });\n",
       "    }\n",
       "\n",
       "    function showError(err) {\n",
       "      outputDiv.innerHTML = `<div class=\"error\" style=\"color:red;\">${err}</div>`;\n",
       "      throw err;\n",
       "    }\n",
       "\n",
       "    function displayChart(vegaEmbed) {\n",
       "      vegaEmbed(outputDiv, spec, embedOpt)\n",
       "        .catch(err => showError(`Javascript Error: ${err.message}<br>This usually means there's a typo in your chart specification. See the javascript console for the full traceback.`));\n",
       "    }\n",
       "\n",
       "    if(typeof define === \"function\" && define.amd) {\n",
       "      requirejs.config({paths});\n",
       "      require([\"vega-embed\"], displayChart, err => showError(`Error loading script: ${err.message}`));\n",
       "    } else {\n",
       "      maybeLoadScript(\"vega\", \"5\")\n",
       "        .then(() => maybeLoadScript(\"vega-lite\", \"4.17.0\"))\n",
       "        .then(() => maybeLoadScript(\"vega-embed\", \"6\"))\n",
       "        .catch(showError)\n",
       "        .then(() => displayChart(vegaEmbed));\n",
       "    }\n",
       "  })({\"config\": {\"view\": {\"continuousWidth\": 400, \"continuousHeight\": 300}, \"axis\": {\"domainColor\": \"#cbcbcb\", \"grid\": true, \"gridColor\": \"#cbcbcb\", \"gridWidth\": 1, \"labelColor\": \"#474747\", \"labelFont\": \"Nunito Sans\", \"labelFontSize\": 10, \"labelPadding\": 4, \"tickColor\": \"#cbcbcb\", \"tickSize\": 10, \"titleColor\": \"#333\", \"titleFont\": \"Raleway\", \"titleFontSize\": 12, \"titlePadding\": 10}, \"axisBand\": {\"grid\": false}, \"background\": \"white\", \"font\": \"Raleway\", \"header\": {\"labelFont\": \"Nunito Sans\", \"titleFont\": \"Raleway\"}, \"legend\": {\"labelColor\": \"#333\", \"labelFont\": \"Nunito Sans\", \"labelFontSize\": 11, \"labelLimit\": 0, \"padding\": 1, \"symbolSize\": 30, \"symbolType\": \"square\", \"titleColor\": \"#333\", \"titleFont\": \"Raleway\", \"titleFontSize\": 14, \"titlePadding\": 10}, \"title\": {\"anchor\": \"middle\", \"font\": \"Raleway\", \"fontSize\": 18, \"fontWeight\": 300, \"offset\": 20}}, \"data\": {\"name\": \"data-56a4349596f480a98480a2486b91cfaa\"}, \"mark\": \"bar\", \"encoding\": {\"color\": {\"field\": \"primary_agency_name\", \"legend\": {\"symbolLimit\": 10, \"title\": \"Agency\"}, \"scale\": {\"range\": [\"#2EA8CE\", \"#EB9F3C\", \"#F4D837\", \"#51BF9D\", \"#8CBCCB\", \"#9487C0\"]}, \"type\": \"nominal\"}, \"tooltip\": [{\"field\": \"primary_agency_name\", \"type\": \"nominal\"}, {\"field\": \"n\", \"type\": \"quantitative\"}], \"x\": {\"field\": \"primary_agency_name\", \"sort\": \"-y\", \"title\": \"Agency\", \"type\": \"nominal\"}, \"y\": {\"field\": \"n\", \"title\": \"Count\", \"type\": \"quantitative\"}}, \"height\": 250, \"width\": 400, \"$schema\": \"https://vega.github.io/schema/vega-lite/v4.17.0.json\", \"datasets\": {\"data-56a4349596f480a98480a2486b91cfaa\": [{\"primary_agency_name\": \"San Diego Association of Governments\", \"n\": 20}, {\"primary_agency_name\": \"Imperial County\", \"n\": 19}, {\"primary_agency_name\": \"San Diego\", \"n\": 19}, {\"primary_agency_name\": \"San Diego County\", \"n\": 14}, {\"primary_agency_name\": \"Caltrans\", \"n\": 11}, {\"primary_agency_name\": \"Encinitas\", \"n\": 8}, {\"primary_agency_name\": \"Chula Vista\", \"n\": 7}, {\"primary_agency_name\": \"Imperial\", \"n\": 6}, {\"primary_agency_name\": \"National City\", \"n\": 6}, {\"primary_agency_name\": \"San Marcos\", \"n\": 6}, {\"primary_agency_name\": \"Brawley\", \"n\": 5}, {\"primary_agency_name\": \"Calipatria\", \"n\": 5}, {\"primary_agency_name\": \"El Centro\", \"n\": 5}, {\"primary_agency_name\": \"Escondido\", \"n\": 5}, {\"primary_agency_name\": \"Oceanside\", \"n\": 5}, {\"primary_agency_name\": \"Carlsbad\", \"n\": 4}, {\"primary_agency_name\": \"Holtville\", \"n\": 4}, {\"primary_agency_name\": \"La Mesa\", \"n\": 4}, {\"primary_agency_name\": \"Westmorland\", \"n\": 4}, {\"primary_agency_name\": \"Calexico\", \"n\": 3}, {\"primary_agency_name\": \"Imperial County Transportation Commission\", \"n\": 3}, {\"primary_agency_name\": \"Santee\", \"n\": 3}, {\"primary_agency_name\": \"Vista\", \"n\": 3}, {\"primary_agency_name\": \"Del Mar\", \"n\": 2}, {\"primary_agency_name\": \"El Cajon\", \"n\": 2}, {\"primary_agency_name\": \"Lemon Grove\", \"n\": 2}, {\"primary_agency_name\": \"Chula Vista Elementary School District\", \"n\": 1}, {\"primary_agency_name\": \"Coronado\", \"n\": 1}, {\"primary_agency_name\": \"Poway\", \"n\": 1}, {\"primary_agency_name\": \"San Diego Metropolitan Transit System\", \"n\": 1}]}}, {\"mode\": \"vega-lite\"});\n",
       "</script>"
      ],
      "text/plain": [
       "alt.Chart(...)"
      ]
     },
     "metadata": {},
     "output_type": "display_data"
    },
    {
     "data": {
      "text/html": [
       "<h2>Funding Distribution</h2>"
      ],
      "text/plain": [
       "<IPython.core.display.HTML object>"
      ]
     },
     "metadata": {},
     "output_type": "display_data"
    },
    {
     "data": {
      "text/html": [
       "<h4><strong>Average Total Requested Funds by Agency ($2021)</strong></h4>"
      ],
      "text/plain": [
       "<IPython.core.display.HTML object>"
      ]
     },
     "metadata": {},
     "output_type": "display_data"
    },
    {
     "data": {
      "text/html": [
       "\n",
       "<div id=\"altair-viz-c1e752b00336438dacfc7a47194307c4\"></div>\n",
       "<script type=\"text/javascript\">\n",
       "  var VEGA_DEBUG = (typeof VEGA_DEBUG == \"undefined\") ? {} : VEGA_DEBUG;\n",
       "  (function(spec, embedOpt){\n",
       "    let outputDiv = document.currentScript.previousElementSibling;\n",
       "    if (outputDiv.id !== \"altair-viz-c1e752b00336438dacfc7a47194307c4\") {\n",
       "      outputDiv = document.getElementById(\"altair-viz-c1e752b00336438dacfc7a47194307c4\");\n",
       "    }\n",
       "    const paths = {\n",
       "      \"vega\": \"https://cdn.jsdelivr.net/npm//vega@5?noext\",\n",
       "      \"vega-lib\": \"https://cdn.jsdelivr.net/npm//vega-lib?noext\",\n",
       "      \"vega-lite\": \"https://cdn.jsdelivr.net/npm//vega-lite@4.17.0?noext\",\n",
       "      \"vega-embed\": \"https://cdn.jsdelivr.net/npm//vega-embed@6?noext\",\n",
       "    };\n",
       "\n",
       "    function maybeLoadScript(lib, version) {\n",
       "      var key = `${lib.replace(\"-\", \"\")}_version`;\n",
       "      return (VEGA_DEBUG[key] == version) ?\n",
       "        Promise.resolve(paths[lib]) :\n",
       "        new Promise(function(resolve, reject) {\n",
       "          var s = document.createElement('script');\n",
       "          document.getElementsByTagName(\"head\")[0].appendChild(s);\n",
       "          s.async = true;\n",
       "          s.onload = () => {\n",
       "            VEGA_DEBUG[key] = version;\n",
       "            return resolve(paths[lib]);\n",
       "          };\n",
       "          s.onerror = () => reject(`Error loading script: ${paths[lib]}`);\n",
       "          s.src = paths[lib];\n",
       "        });\n",
       "    }\n",
       "\n",
       "    function showError(err) {\n",
       "      outputDiv.innerHTML = `<div class=\"error\" style=\"color:red;\">${err}</div>`;\n",
       "      throw err;\n",
       "    }\n",
       "\n",
       "    function displayChart(vegaEmbed) {\n",
       "      vegaEmbed(outputDiv, spec, embedOpt)\n",
       "        .catch(err => showError(`Javascript Error: ${err.message}<br>This usually means there's a typo in your chart specification. See the javascript console for the full traceback.`));\n",
       "    }\n",
       "\n",
       "    if(typeof define === \"function\" && define.amd) {\n",
       "      requirejs.config({paths});\n",
       "      require([\"vega-embed\"], displayChart, err => showError(`Error loading script: ${err.message}`));\n",
       "    } else {\n",
       "      maybeLoadScript(\"vega\", \"5\")\n",
       "        .then(() => maybeLoadScript(\"vega-lite\", \"4.17.0\"))\n",
       "        .then(() => maybeLoadScript(\"vega-embed\", \"6\"))\n",
       "        .catch(showError)\n",
       "        .then(() => displayChart(vegaEmbed));\n",
       "    }\n",
       "  })({\"config\": {\"view\": {\"continuousWidth\": 400, \"continuousHeight\": 300}, \"axis\": {\"domainColor\": \"#cbcbcb\", \"grid\": true, \"gridColor\": \"#cbcbcb\", \"gridWidth\": 1, \"labelColor\": \"#474747\", \"labelFont\": \"Nunito Sans\", \"labelFontSize\": 10, \"labelPadding\": 4, \"tickColor\": \"#cbcbcb\", \"tickSize\": 10, \"titleColor\": \"#333\", \"titleFont\": \"Raleway\", \"titleFontSize\": 12, \"titlePadding\": 10}, \"axisBand\": {\"grid\": false}, \"background\": \"white\", \"font\": \"Raleway\", \"header\": {\"labelFont\": \"Nunito Sans\", \"titleFont\": \"Raleway\"}, \"legend\": {\"labelColor\": \"#333\", \"labelFont\": \"Nunito Sans\", \"labelFontSize\": 11, \"labelLimit\": 0, \"padding\": 1, \"symbolSize\": 30, \"symbolType\": \"square\", \"titleColor\": \"#333\", \"titleFont\": \"Raleway\", \"titleFontSize\": 14, \"titlePadding\": 10}, \"title\": {\"anchor\": \"middle\", \"font\": \"Raleway\", \"fontSize\": 18, \"fontWeight\": 300, \"offset\": 20}}, \"data\": {\"name\": \"data-d2e167bed0fad04588ff15cc834ab768\"}, \"mark\": \"bar\", \"encoding\": {\"color\": {\"field\": \"primary_agency_name\", \"legend\": {\"symbolLimit\": 10, \"title\": \"Agency\"}, \"scale\": {\"range\": [\"#2EA8CE\", \"#EB9F3C\", \"#F4D837\", \"#51BF9D\", \"#8CBCCB\", \"#9487C0\"]}, \"type\": \"nominal\"}, \"tooltip\": [{\"field\": \"primary_agency_name\", \"type\": \"nominal\"}, {\"field\": \"adjusted_total_requested\", \"type\": \"quantitative\"}], \"x\": {\"field\": \"primary_agency_name\", \"sort\": \"-y\", \"title\": \"Agency\", \"type\": \"nominal\"}, \"y\": {\"field\": \"adjusted_total_requested\", \"title\": \"Adjusted Total Requested\", \"type\": \"quantitative\"}}, \"height\": 250, \"width\": 400, \"$schema\": \"https://vega.github.io/schema/vega-lite/v4.17.0.json\", \"datasets\": {\"data-d2e167bed0fad04588ff15cc834ab768\": [{\"primary_agency_name\": \"Caltrans\", \"adjusted_total_requested\": 14719662.882284625}, {\"primary_agency_name\": \"Imperial County Transportation Commission\", \"adjusted_total_requested\": 3841476.2598535502}, {\"primary_agency_name\": \"San Diego Association of Governments\", \"adjusted_total_requested\": 3273211.9925696496}, {\"primary_agency_name\": \"San Diego\", \"adjusted_total_requested\": 2795177.723938811}, {\"primary_agency_name\": \"San Diego Metropolitan Transit System\", \"adjusted_total_requested\": 2461123.5608103867}, {\"primary_agency_name\": \"San Marcos\", \"adjusted_total_requested\": 1548849.547744383}, {\"primary_agency_name\": \"Calexico\", \"adjusted_total_requested\": 1133805.362685252}, {\"primary_agency_name\": \"Escondido\", \"adjusted_total_requested\": 881309.6435240433}, {\"primary_agency_name\": \"Chula Vista\", \"adjusted_total_requested\": 734341.9207481712}, {\"primary_agency_name\": \"Coronado\", \"adjusted_total_requested\": 643557.8534245052}, {\"primary_agency_name\": \"Poway\", \"adjusted_total_requested\": 603392.8856609273}, {\"primary_agency_name\": \"Oceanside\", \"adjusted_total_requested\": 435676.0902608746}, {\"primary_agency_name\": \"Del Mar\", \"adjusted_total_requested\": 359884.46589776495}, {\"primary_agency_name\": \"Carlsbad\", \"adjusted_total_requested\": 358836.86881462584}, {\"primary_agency_name\": \"National City\", \"adjusted_total_requested\": 336250.4689205757}, {\"primary_agency_name\": \"El Centro\", \"adjusted_total_requested\": 310606.3187034312}, {\"primary_agency_name\": \"San Diego County\", \"adjusted_total_requested\": 273207.82434499403}, {\"primary_agency_name\": \"San Diego Unified Port District\", \"adjusted_total_requested\": 261995.20970111928}, {\"primary_agency_name\": \"El Cajon\", \"adjusted_total_requested\": 236714.91804264634}, {\"primary_agency_name\": \"Imperial\", \"adjusted_total_requested\": 228428.49752770556}, {\"primary_agency_name\": \"Vista\", \"adjusted_total_requested\": 225241.94229041928}, {\"primary_agency_name\": \"Calipatria\", \"adjusted_total_requested\": 219670.63799721358}, {\"primary_agency_name\": \"La Mesa\", \"adjusted_total_requested\": 208245.8965369442}, {\"primary_agency_name\": \"Imperial County\", \"adjusted_total_requested\": 182182.58998876016}, {\"primary_agency_name\": \"Holtville\", \"adjusted_total_requested\": 137399.7059895034}, {\"primary_agency_name\": \"Santee\", \"adjusted_total_requested\": 121406.24325575367}, {\"primary_agency_name\": \"Encinitas\", \"adjusted_total_requested\": 115126.4132111543}, {\"primary_agency_name\": \"Brawley\", \"adjusted_total_requested\": 103543.09962811094}, {\"primary_agency_name\": \"Westmorland\", \"adjusted_total_requested\": 97414.75697083183}]}}, {\"mode\": \"vega-lite\"});\n",
       "</script>"
      ],
      "text/plain": [
       "alt.Chart(...)"
      ]
     },
     "metadata": {},
     "output_type": "display_data"
    },
    {
     "data": {
      "text/html": [
       "<h4><strong>Lowest Average Total Funds by Agency ($2021)</strong></h4>"
      ],
      "text/plain": [
       "<IPython.core.display.HTML object>"
      ]
     },
     "metadata": {},
     "output_type": "display_data"
    },
    {
     "data": {
      "text/html": [
       "\n",
       "<div id=\"altair-viz-56481f7529ef462ea545b3bc17a4abe6\"></div>\n",
       "<script type=\"text/javascript\">\n",
       "  var VEGA_DEBUG = (typeof VEGA_DEBUG == \"undefined\") ? {} : VEGA_DEBUG;\n",
       "  (function(spec, embedOpt){\n",
       "    let outputDiv = document.currentScript.previousElementSibling;\n",
       "    if (outputDiv.id !== \"altair-viz-56481f7529ef462ea545b3bc17a4abe6\") {\n",
       "      outputDiv = document.getElementById(\"altair-viz-56481f7529ef462ea545b3bc17a4abe6\");\n",
       "    }\n",
       "    const paths = {\n",
       "      \"vega\": \"https://cdn.jsdelivr.net/npm//vega@5?noext\",\n",
       "      \"vega-lib\": \"https://cdn.jsdelivr.net/npm//vega-lib?noext\",\n",
       "      \"vega-lite\": \"https://cdn.jsdelivr.net/npm//vega-lite@4.17.0?noext\",\n",
       "      \"vega-embed\": \"https://cdn.jsdelivr.net/npm//vega-embed@6?noext\",\n",
       "    };\n",
       "\n",
       "    function maybeLoadScript(lib, version) {\n",
       "      var key = `${lib.replace(\"-\", \"\")}_version`;\n",
       "      return (VEGA_DEBUG[key] == version) ?\n",
       "        Promise.resolve(paths[lib]) :\n",
       "        new Promise(function(resolve, reject) {\n",
       "          var s = document.createElement('script');\n",
       "          document.getElementsByTagName(\"head\")[0].appendChild(s);\n",
       "          s.async = true;\n",
       "          s.onload = () => {\n",
       "            VEGA_DEBUG[key] = version;\n",
       "            return resolve(paths[lib]);\n",
       "          };\n",
       "          s.onerror = () => reject(`Error loading script: ${paths[lib]}`);\n",
       "          s.src = paths[lib];\n",
       "        });\n",
       "    }\n",
       "\n",
       "    function showError(err) {\n",
       "      outputDiv.innerHTML = `<div class=\"error\" style=\"color:red;\">${err}</div>`;\n",
       "      throw err;\n",
       "    }\n",
       "\n",
       "    function displayChart(vegaEmbed) {\n",
       "      vegaEmbed(outputDiv, spec, embedOpt)\n",
       "        .catch(err => showError(`Javascript Error: ${err.message}<br>This usually means there's a typo in your chart specification. See the javascript console for the full traceback.`));\n",
       "    }\n",
       "\n",
       "    if(typeof define === \"function\" && define.amd) {\n",
       "      requirejs.config({paths});\n",
       "      require([\"vega-embed\"], displayChart, err => showError(`Error loading script: ${err.message}`));\n",
       "    } else {\n",
       "      maybeLoadScript(\"vega\", \"5\")\n",
       "        .then(() => maybeLoadScript(\"vega-lite\", \"4.17.0\"))\n",
       "        .then(() => maybeLoadScript(\"vega-embed\", \"6\"))\n",
       "        .catch(showError)\n",
       "        .then(() => displayChart(vegaEmbed));\n",
       "    }\n",
       "  })({\"config\": {\"view\": {\"continuousWidth\": 400, \"continuousHeight\": 300}, \"axis\": {\"domainColor\": \"#cbcbcb\", \"grid\": true, \"gridColor\": \"#cbcbcb\", \"gridWidth\": 1, \"labelColor\": \"#474747\", \"labelFont\": \"Nunito Sans\", \"labelFontSize\": 10, \"labelPadding\": 4, \"tickColor\": \"#cbcbcb\", \"tickSize\": 10, \"titleColor\": \"#333\", \"titleFont\": \"Raleway\", \"titleFontSize\": 12, \"titlePadding\": 10}, \"axisBand\": {\"grid\": false}, \"background\": \"white\", \"font\": \"Raleway\", \"header\": {\"labelFont\": \"Nunito Sans\", \"titleFont\": \"Raleway\"}, \"legend\": {\"labelColor\": \"#333\", \"labelFont\": \"Nunito Sans\", \"labelFontSize\": 11, \"labelLimit\": 0, \"padding\": 1, \"symbolSize\": 30, \"symbolType\": \"square\", \"titleColor\": \"#333\", \"titleFont\": \"Raleway\", \"titleFontSize\": 14, \"titlePadding\": 10}, \"title\": {\"anchor\": \"middle\", \"font\": \"Raleway\", \"fontSize\": 18, \"fontWeight\": 300, \"offset\": 20}}, \"data\": {\"name\": \"data-f95998987668230d843f32e74955dbdb\"}, \"mark\": \"bar\", \"encoding\": {\"color\": {\"field\": \"primary_agency_name\", \"legend\": {\"symbolLimit\": 10, \"title\": \"Agency\"}, \"scale\": {\"range\": [\"#2EA8CE\", \"#EB9F3C\", \"#F4D837\", \"#51BF9D\", \"#8CBCCB\", \"#9487C0\"]}, \"type\": \"nominal\"}, \"tooltip\": [{\"field\": \"primary_agency_name\", \"type\": \"nominal\"}, {\"field\": \"avg_funds\", \"type\": \"quantitative\"}], \"x\": {\"field\": \"primary_agency_name\", \"sort\": \"-y\", \"title\": \"Agency\", \"type\": \"nominal\"}, \"y\": {\"field\": \"avg_funds\", \"title\": \"Avg Funds\", \"type\": \"quantitative\"}}, \"height\": 250, \"width\": 400, \"$schema\": \"https://vega.github.io/schema/vega-lite/v4.17.0.json\", \"datasets\": {\"data-f95998987668230d843f32e74955dbdb\": [{\"primary_agency_name\": \"Caltrans\", \"avg_funds\": 14719662.882284623}, {\"primary_agency_name\": \"Imperial County Transportation Commission\", \"avg_funds\": 3841476.2598535502}, {\"primary_agency_name\": \"San Diego Association of Governments\", \"avg_funds\": 3273211.992569649}, {\"primary_agency_name\": \"San Diego\", \"avg_funds\": 2795177.72393881}, {\"primary_agency_name\": \"San Diego Metropolitan Transit System\", \"avg_funds\": 2461123.560810387}, {\"primary_agency_name\": \"San Marcos\", \"avg_funds\": 1548849.5477443836}, {\"primary_agency_name\": \"Calexico\", \"avg_funds\": 1133805.362685252}, {\"primary_agency_name\": \"Escondido\", \"avg_funds\": 881309.6435240434}, {\"primary_agency_name\": \"Chula Vista\", \"avg_funds\": 734341.9207481715}, {\"primary_agency_name\": \"Coronado\", \"avg_funds\": 643557.8534245052}, {\"primary_agency_name\": \"Poway\", \"avg_funds\": 603392.8856609273}, {\"primary_agency_name\": \"Oceanside\", \"avg_funds\": 435676.0902608746}, {\"primary_agency_name\": \"Del Mar\", \"avg_funds\": 359884.46589776495}, {\"primary_agency_name\": \"Carlsbad\", \"avg_funds\": 358836.8688146259}, {\"primary_agency_name\": \"National City\", \"avg_funds\": 336250.46892057575}, {\"primary_agency_name\": \"El Centro\", \"avg_funds\": 310606.3187034312}, {\"primary_agency_name\": \"San Diego County\", \"avg_funds\": 273207.8243449939}, {\"primary_agency_name\": \"San Diego Unified Port District\", \"avg_funds\": 261995.20970111928}, {\"primary_agency_name\": \"El Cajon\", \"avg_funds\": 236714.91804264634}, {\"primary_agency_name\": \"Imperial\", \"avg_funds\": 228428.49752770556}, {\"primary_agency_name\": \"Vista\", \"avg_funds\": 225241.94229041933}, {\"primary_agency_name\": \"Calipatria\", \"avg_funds\": 219670.63799721358}, {\"primary_agency_name\": \"La Mesa\", \"avg_funds\": 208245.8965369443}, {\"primary_agency_name\": \"Imperial County\", \"avg_funds\": 182182.5899887602}, {\"primary_agency_name\": \"Holtville\", \"avg_funds\": 137399.70598950336}, {\"primary_agency_name\": \"Santee\", \"avg_funds\": 121406.24325575367}, {\"primary_agency_name\": \"Encinitas\", \"avg_funds\": 115126.41321115431}, {\"primary_agency_name\": \"Brawley\", \"avg_funds\": 103543.09962811095}, {\"primary_agency_name\": \"Westmorland\", \"avg_funds\": 97414.75697083182}, {\"primary_agency_name\": \"Chula Vista Elementary School District\", \"avg_funds\": -3548.2606562320275}, {\"primary_agency_name\": \"Lemon Grove\", \"avg_funds\": -26033.772906591414}]}}, {\"mode\": \"vega-lite\"});\n",
       "</script>"
      ],
      "text/plain": [
       "alt.Chart(...)"
      ]
     },
     "metadata": {},
     "output_type": "display_data"
    },
    {
     "data": {
      "text/html": [
       "<h4><strong>Average Total Requested Funds by Prefix ($2021)</strong></h4>"
      ],
      "text/plain": [
       "<IPython.core.display.HTML object>"
      ]
     },
     "metadata": {},
     "output_type": "display_data"
    },
    {
     "data": {
      "text/html": [
       "\n",
       "<div id=\"altair-viz-473c81bb21ea499bad56b0e8a508fa50\"></div>\n",
       "<script type=\"text/javascript\">\n",
       "  var VEGA_DEBUG = (typeof VEGA_DEBUG == \"undefined\") ? {} : VEGA_DEBUG;\n",
       "  (function(spec, embedOpt){\n",
       "    let outputDiv = document.currentScript.previousElementSibling;\n",
       "    if (outputDiv.id !== \"altair-viz-473c81bb21ea499bad56b0e8a508fa50\") {\n",
       "      outputDiv = document.getElementById(\"altair-viz-473c81bb21ea499bad56b0e8a508fa50\");\n",
       "    }\n",
       "    const paths = {\n",
       "      \"vega\": \"https://cdn.jsdelivr.net/npm//vega@5?noext\",\n",
       "      \"vega-lib\": \"https://cdn.jsdelivr.net/npm//vega-lib?noext\",\n",
       "      \"vega-lite\": \"https://cdn.jsdelivr.net/npm//vega-lite@4.17.0?noext\",\n",
       "      \"vega-embed\": \"https://cdn.jsdelivr.net/npm//vega-embed@6?noext\",\n",
       "    };\n",
       "\n",
       "    function maybeLoadScript(lib, version) {\n",
       "      var key = `${lib.replace(\"-\", \"\")}_version`;\n",
       "      return (VEGA_DEBUG[key] == version) ?\n",
       "        Promise.resolve(paths[lib]) :\n",
       "        new Promise(function(resolve, reject) {\n",
       "          var s = document.createElement('script');\n",
       "          document.getElementsByTagName(\"head\")[0].appendChild(s);\n",
       "          s.async = true;\n",
       "          s.onload = () => {\n",
       "            VEGA_DEBUG[key] = version;\n",
       "            return resolve(paths[lib]);\n",
       "          };\n",
       "          s.onerror = () => reject(`Error loading script: ${paths[lib]}`);\n",
       "          s.src = paths[lib];\n",
       "        });\n",
       "    }\n",
       "\n",
       "    function showError(err) {\n",
       "      outputDiv.innerHTML = `<div class=\"error\" style=\"color:red;\">${err}</div>`;\n",
       "      throw err;\n",
       "    }\n",
       "\n",
       "    function displayChart(vegaEmbed) {\n",
       "      vegaEmbed(outputDiv, spec, embedOpt)\n",
       "        .catch(err => showError(`Javascript Error: ${err.message}<br>This usually means there's a typo in your chart specification. See the javascript console for the full traceback.`));\n",
       "    }\n",
       "\n",
       "    if(typeof define === \"function\" && define.amd) {\n",
       "      requirejs.config({paths});\n",
       "      require([\"vega-embed\"], displayChart, err => showError(`Error loading script: ${err.message}`));\n",
       "    } else {\n",
       "      maybeLoadScript(\"vega\", \"5\")\n",
       "        .then(() => maybeLoadScript(\"vega-lite\", \"4.17.0\"))\n",
       "        .then(() => maybeLoadScript(\"vega-embed\", \"6\"))\n",
       "        .catch(showError)\n",
       "        .then(() => displayChart(vegaEmbed));\n",
       "    }\n",
       "  })({\"config\": {\"view\": {\"continuousWidth\": 400, \"continuousHeight\": 300}, \"axis\": {\"domainColor\": \"#cbcbcb\", \"grid\": true, \"gridColor\": \"#cbcbcb\", \"gridWidth\": 1, \"labelColor\": \"#474747\", \"labelFont\": \"Nunito Sans\", \"labelFontSize\": 10, \"labelPadding\": 4, \"tickColor\": \"#cbcbcb\", \"tickSize\": 10, \"titleColor\": \"#333\", \"titleFont\": \"Raleway\", \"titleFontSize\": 12, \"titlePadding\": 10}, \"axisBand\": {\"grid\": false}, \"background\": \"white\", \"font\": \"Raleway\", \"header\": {\"labelFont\": \"Nunito Sans\", \"titleFont\": \"Raleway\"}, \"legend\": {\"labelColor\": \"#333\", \"labelFont\": \"Nunito Sans\", \"labelFontSize\": 11, \"labelLimit\": 0, \"padding\": 1, \"symbolSize\": 30, \"symbolType\": \"square\", \"titleColor\": \"#333\", \"titleFont\": \"Raleway\", \"titleFontSize\": 14, \"titlePadding\": 10}, \"title\": {\"anchor\": \"middle\", \"font\": \"Raleway\", \"fontSize\": 18, \"fontWeight\": 300, \"offset\": 20}}, \"data\": {\"name\": \"data-b6a08871cdb66ef0f597b6a9c2e76585\"}, \"mark\": \"bar\", \"encoding\": {\"color\": {\"field\": \"prefix\", \"legend\": {\"symbolLimit\": 10, \"title\": \"Prefix\"}, \"scale\": {\"range\": [\"#2EA8CE\", \"#EB9F3C\", \"#F4D837\", \"#51BF9D\", \"#8CBCCB\", \"#9487C0\"]}, \"type\": \"nominal\"}, \"tooltip\": [{\"field\": \"prefix\", \"type\": \"nominal\"}, {\"field\": \"adjusted_total_requested\", \"type\": \"quantitative\"}], \"x\": {\"field\": \"prefix\", \"sort\": \"-y\", \"title\": \"Prefix\", \"type\": \"nominal\"}, \"y\": {\"field\": \"adjusted_total_requested\", \"title\": \"Adjusted Total Requested\", \"type\": \"quantitative\"}}, \"height\": 250, \"width\": 400, \"$schema\": \"https://vega.github.io/schema/vega-lite/v4.17.0.json\", \"datasets\": {\"data-b6a08871cdb66ef0f597b6a9c2e76585\": [{\"prefix\": \"STPLN\", \"adjusted_total_requested\": 20579014.798635393}, {\"prefix\": \"CMSTPL\", \"adjusted_total_requested\": 17548111.28151744}, {\"prefix\": \"FTACML\", \"adjusted_total_requested\": 16081578.405882575}, {\"prefix\": \"BHLS\", \"adjusted_total_requested\": 15216437.083605044}, {\"prefix\": \"BUILDL\", \"adjusted_total_requested\": 8698359.456302924}, {\"prefix\": \"FTASTPL\", \"adjusted_total_requested\": 5727506.751623254}, {\"prefix\": \"CMAQL\", \"adjusted_total_requested\": 5234898.032274796}, {\"prefix\": \"CMLG\", \"adjusted_total_requested\": 5100742.356804292}, {\"prefix\": \"BHLO\", \"adjusted_total_requested\": 4349676.775017127}, {\"prefix\": \"RSTP\", \"adjusted_total_requested\": 3768832.978652005}, {\"prefix\": \"STPBIPL\", \"adjusted_total_requested\": 3654133.3231288833}, {\"prefix\": \"HPLUL\", \"adjusted_total_requested\": 3150168.0985766337}, {\"prefix\": \"HP21L\", \"adjusted_total_requested\": 2215374.030910765}, {\"prefix\": \"DEM05\", \"adjusted_total_requested\": 2069824.5038288925}, {\"prefix\": \"ATPL\", \"adjusted_total_requested\": 1795367.5332096708}, {\"prefix\": \"RPSTPL\", \"adjusted_total_requested\": 1790841.336831949}, {\"prefix\": \"RSTPL\", \"adjusted_total_requested\": 1789551.9240471493}, {\"prefix\": \"BRLS\", \"adjusted_total_requested\": 1635844.2254854431}, {\"prefix\": \"HIPL\", \"adjusted_total_requested\": 1211866.0320751083}, {\"prefix\": \"BHLSCR\", \"adjusted_total_requested\": 1208459.0309990097}, {\"prefix\": \"ATPSB1\", \"adjusted_total_requested\": 1066924.8580818644}, {\"prefix\": \"STBGL\", \"adjusted_total_requested\": 908045.5366623737}, {\"prefix\": \"BRLO\", \"adjusted_total_requested\": 790170.2432677689}, {\"prefix\": \"FSP\", \"adjusted_total_requested\": 684332.9533742531}, {\"prefix\": \"ATPLSB1\", \"adjusted_total_requested\": 671000.5714517687}, {\"prefix\": \"RPSTPLE\", \"adjusted_total_requested\": 650075.7415389898}, {\"prefix\": \"STPL\", \"adjusted_total_requested\": 521454.4066874827}, {\"prefix\": \"BRLKS\", \"adjusted_total_requested\": 520972.3248175151}, {\"prefix\": \"BRL\", \"adjusted_total_requested\": 400152.46920443734}, {\"prefix\": \"FERPL\", \"adjusted_total_requested\": 339808.3036183488}]}}, {\"mode\": \"vega-lite\"});\n",
       "</script>"
      ],
      "text/plain": [
       "alt.Chart(...)"
      ]
     },
     "metadata": {},
     "output_type": "display_data"
    },
    {
     "data": {
      "text/html": [
       "<h2>Work Categories</h2>"
      ],
      "text/plain": [
       "<IPython.core.display.HTML object>"
      ]
     },
     "metadata": {},
     "output_type": "display_data"
    },
    {
     "data": {
      "application/vnd.jupyter.widget-view+json": {
       "model_id": "5119f3214e4e424c8841ac231942a7a2",
       "version_major": 2,
       "version_minor": 0
      },
      "text/plain": [
       "Tab(children=(Output(), Output(), Output(), Output(), Output(), Output(), Output()), _titles={'0': 'Active Tra…"
      ]
     },
     "metadata": {},
     "output_type": "display_data"
    }
   ],
   "source": [
    "gen_report.make_charts(district)"
   ]
  },
  {
   "cell_type": "code",
   "execution_count": null,
   "id": "9739558f-b38e-437a-91d7-c7c86383f8cf",
   "metadata": {
    "jupyter": {
     "source_hidden": true
    },
    "papermill": {
     "duration": 0.021993,
     "end_time": "2022-04-15T19:59:48.130545",
     "exception": false,
     "start_time": "2022-04-15T19:59:48.108552",
     "status": "completed"
    },
    "tags": [
     "remove_input"
    ]
   },
   "outputs": [],
   "source": []
  },
  {
   "cell_type": "code",
   "execution_count": null,
   "id": "1bbc8d31-5b93-4ccb-b369-948c58f7eaed",
   "metadata": {
    "jupyter": {
     "source_hidden": true
    },
    "papermill": {
     "duration": 0.02209,
     "end_time": "2022-04-15T19:59:48.174249",
     "exception": false,
     "start_time": "2022-04-15T19:59:48.152159",
     "status": "completed"
    },
    "tags": [
     "remove_input"
    ]
   },
   "outputs": [],
   "source": []
  },
  {
   "cell_type": "code",
   "execution_count": null,
   "id": "04fdc076-d08a-4b33-9bab-c4cadfe6aa22",
   "metadata": {
    "jupyter": {
     "source_hidden": true
    },
    "papermill": {
     "duration": 0.023189,
     "end_time": "2022-04-15T19:59:48.224341",
     "exception": false,
     "start_time": "2022-04-15T19:59:48.201152",
     "status": "completed"
    },
    "tags": [
     "remove_input"
    ]
   },
   "outputs": [],
   "source": []
  },
  {
   "cell_type": "code",
   "execution_count": null,
   "id": "1f12775e-3973-419a-995c-b96e61c4fa62",
   "metadata": {
    "jupyter": {
     "source_hidden": true
    },
    "papermill": {
     "duration": 0.022234,
     "end_time": "2022-04-15T19:59:48.269374",
     "exception": false,
     "start_time": "2022-04-15T19:59:48.247140",
     "status": "completed"
    },
    "tags": [
     "remove_input"
    ]
   },
   "outputs": [],
   "source": []
  }
 ],
 "metadata": {
  "kernelspec": {
   "display_name": "Python 3 (ipykernel)",
   "language": "python",
   "name": "python3"
  },
  "language_info": {
   "codemirror_mode": {
    "name": "ipython",
    "version": 3
   },
   "file_extension": ".py",
   "mimetype": "text/x-python",
   "name": "python",
   "nbconvert_exporter": "python",
   "pygments_lexer": "ipython3",
   "version": "3.9.10"
  },
  "papermill": {
   "default_parameters": {},
   "duration": 11.824421,
   "end_time": "2022-04-15T19:59:49.428292",
   "environment_variables": {},
   "exception": null,
   "input_path": "dla/e76_obligated_funds/report_test.ipynb",
   "output_path": "target/dla/e76_obligated_funds/report_test__district_11.ipynb",
   "parameters": {
    "district": 11
   },
   "start_time": "2022-04-15T19:59:37.603871",
   "version": "2.3.4"
  },
  "widgets": {
   "application/vnd.jupyter.widget-state+json": {
    "state": {
     "01321327e4924ac49c3c8095dd2cd5e5": {
      "model_module": "@jupyter-widgets/base",
      "model_module_version": "1.2.0",
      "model_name": "LayoutModel",
      "state": {
       "_model_module": "@jupyter-widgets/base",
       "_model_module_version": "1.2.0",
       "_model_name": "LayoutModel",
       "_view_count": null,
       "_view_module": "@jupyter-widgets/base",
       "_view_module_version": "1.2.0",
       "_view_name": "LayoutView",
       "align_content": null,
       "align_items": null,
       "align_self": null,
       "border": null,
       "bottom": null,
       "display": null,
       "flex": null,
       "flex_flow": null,
       "grid_area": null,
       "grid_auto_columns": null,
       "grid_auto_flow": null,
       "grid_auto_rows": null,
       "grid_column": null,
       "grid_gap": null,
       "grid_row": null,
       "grid_template_areas": null,
       "grid_template_columns": null,
       "grid_template_rows": null,
       "height": null,
       "justify_content": null,
       "justify_items": null,
       "left": null,
       "margin": null,
       "max_height": null,
       "max_width": null,
       "min_height": null,
       "min_width": null,
       "object_fit": null,
       "object_position": null,
       "order": null,
       "overflow": null,
       "overflow_x": null,
       "overflow_y": null,
       "padding": null,
       "right": null,
       "top": null,
       "visibility": null,
       "width": null
      }
     },
     "023f3b7cf8d84ef6b0982fe565384c38": {
      "model_module": "@jupyter-widgets/base",
      "model_module_version": "1.2.0",
      "model_name": "LayoutModel",
      "state": {
       "_model_module": "@jupyter-widgets/base",
       "_model_module_version": "1.2.0",
       "_model_name": "LayoutModel",
       "_view_count": null,
       "_view_module": "@jupyter-widgets/base",
       "_view_module_version": "1.2.0",
       "_view_name": "LayoutView",
       "align_content": null,
       "align_items": null,
       "align_self": null,
       "border": null,
       "bottom": null,
       "display": null,
       "flex": null,
       "flex_flow": null,
       "grid_area": null,
       "grid_auto_columns": null,
       "grid_auto_flow": null,
       "grid_auto_rows": null,
       "grid_column": null,
       "grid_gap": null,
       "grid_row": null,
       "grid_template_areas": null,
       "grid_template_columns": null,
       "grid_template_rows": null,
       "height": null,
       "justify_content": null,
       "justify_items": null,
       "left": null,
       "margin": null,
       "max_height": null,
       "max_width": null,
       "min_height": null,
       "min_width": null,
       "object_fit": null,
       "object_position": null,
       "order": null,
       "overflow": null,
       "overflow_x": null,
       "overflow_y": null,
       "padding": null,
       "right": null,
       "top": null,
       "visibility": null,
       "width": null
      }
     },
     "0790cd02d95d425e938e8d129a1065cb": {
      "model_module": "@jupyter-widgets/output",
      "model_module_version": "1.0.0",
      "model_name": "OutputModel",
      "state": {
       "_dom_classes": [],
       "_model_module": "@jupyter-widgets/output",
       "_model_module_version": "1.0.0",
       "_model_name": "OutputModel",
       "_view_count": null,
       "_view_module": "@jupyter-widgets/output",
       "_view_module_version": "1.0.0",
       "_view_name": "OutputView",
       "layout": "IPY_MODEL_b038fa29bbda436caf91ddd1e828a2fc",
       "msg_id": "",
       "outputs": [
        {
         "data": {
          "text/markdown": "<h2>Top Agencies using Freeway Projects</h2>",
          "text/plain": "<IPython.core.display.Markdown object>"
         },
         "metadata": {},
         "output_type": "display_data"
        },
        {
         "data": {
          "text/html": "<style type=\"text/css\">\n</style>\n<table id=\"T_7650b\">\n  <thead>\n    <tr>\n      <th class=\"blank level0\" >&nbsp;</th>\n      <th id=\"T_7650b_level0_col0\" class=\"col_heading level0 col0\" >Agency</th>\n      <th id=\"T_7650b_level0_col1\" class=\"col_heading level0 col1\" >Freeway Obligations</th>\n      <th id=\"T_7650b_level0_col2\" class=\"col_heading level0 col2\" >Percent of Category</th>\n    </tr>\n  </thead>\n  <tbody>\n    <tr>\n      <th id=\"T_7650b_level0_row0\" class=\"row_heading level0 row0\" >0</th>\n      <td id=\"T_7650b_row0_col0\" class=\"data row0 col0\" >Caltrans</td>\n      <td id=\"T_7650b_row0_col1\" class=\"data row0 col1\" >10</td>\n      <td id=\"T_7650b_row0_col2\" class=\"data row0 col2\" >90.91%</td>\n    </tr>\n    <tr>\n      <th id=\"T_7650b_level0_row1\" class=\"row_heading level0 row1\" >1</th>\n      <td id=\"T_7650b_row1_col0\" class=\"data row1 col0\" >Encinitas</td>\n      <td id=\"T_7650b_row1_col1\" class=\"data row1 col1\" >1</td>\n      <td id=\"T_7650b_row1_col2\" class=\"data row1 col2\" >9.09%</td>\n    </tr>\n  </tbody>\n</table>\n",
          "text/plain": "<pandas.io.formats.style.Styler at 0x7f317405b790>"
         },
         "metadata": {},
         "output_type": "display_data"
        }
       ]
      }
     },
     "190a244feff04e35aca0a54e1aa1f680": {
      "model_module": "@jupyter-widgets/base",
      "model_module_version": "1.2.0",
      "model_name": "LayoutModel",
      "state": {
       "_model_module": "@jupyter-widgets/base",
       "_model_module_version": "1.2.0",
       "_model_name": "LayoutModel",
       "_view_count": null,
       "_view_module": "@jupyter-widgets/base",
       "_view_module_version": "1.2.0",
       "_view_name": "LayoutView",
       "align_content": null,
       "align_items": null,
       "align_self": null,
       "border": null,
       "bottom": null,
       "display": null,
       "flex": null,
       "flex_flow": null,
       "grid_area": null,
       "grid_auto_columns": null,
       "grid_auto_flow": null,
       "grid_auto_rows": null,
       "grid_column": null,
       "grid_gap": null,
       "grid_row": null,
       "grid_template_areas": null,
       "grid_template_columns": null,
       "grid_template_rows": null,
       "height": null,
       "justify_content": null,
       "justify_items": null,
       "left": null,
       "margin": null,
       "max_height": null,
       "max_width": null,
       "min_height": null,
       "min_width": null,
       "object_fit": null,
       "object_position": null,
       "order": null,
       "overflow": null,
       "overflow_x": null,
       "overflow_y": null,
       "padding": null,
       "right": null,
       "top": null,
       "visibility": null,
       "width": null
      }
     },
     "2056a3fb79e44df8837e4265e5064e73": {
      "model_module": "@jupyter-widgets/output",
      "model_module_version": "1.0.0",
      "model_name": "OutputModel",
      "state": {
       "_dom_classes": [],
       "_model_module": "@jupyter-widgets/output",
       "_model_module_version": "1.0.0",
       "_model_name": "OutputModel",
       "_view_count": null,
       "_view_module": "@jupyter-widgets/output",
       "_view_module_version": "1.0.0",
       "_view_name": "OutputView",
       "layout": "IPY_MODEL_190a244feff04e35aca0a54e1aa1f680",
       "msg_id": "",
       "outputs": [
        {
         "data": {
          "text/markdown": "<h2>Top Agencies using Active Transportation Projects</h2>",
          "text/plain": "<IPython.core.display.Markdown object>"
         },
         "metadata": {},
         "output_type": "display_data"
        },
        {
         "data": {
          "text/html": "<style type=\"text/css\">\n</style>\n<table id=\"T_de6cb\">\n  <thead>\n    <tr>\n      <th class=\"blank level0\" >&nbsp;</th>\n      <th id=\"T_de6cb_level0_col0\" class=\"col_heading level0 col0\" >Agency</th>\n      <th id=\"T_de6cb_level0_col1\" class=\"col_heading level0 col1\" >Active Transportation Obligations</th>\n      <th id=\"T_de6cb_level0_col2\" class=\"col_heading level0 col2\" >Percent of Category</th>\n    </tr>\n  </thead>\n  <tbody>\n    <tr>\n      <th id=\"T_de6cb_level0_row0\" class=\"row_heading level0 row0\" >0</th>\n      <td id=\"T_de6cb_row0_col0\" class=\"data row0 col0\" >San Diego Association of Governments</td>\n      <td id=\"T_de6cb_row0_col1\" class=\"data row0 col1\" >36</td>\n      <td id=\"T_de6cb_row0_col2\" class=\"data row0 col2\" >14.63%</td>\n    </tr>\n    <tr>\n      <th id=\"T_de6cb_level0_row1\" class=\"row_heading level0 row1\" >1</th>\n      <td id=\"T_de6cb_row1_col0\" class=\"data row1 col0\" >Chula Vista</td>\n      <td id=\"T_de6cb_row1_col1\" class=\"data row1 col1\" >23</td>\n      <td id=\"T_de6cb_row1_col2\" class=\"data row1 col2\" >9.35%</td>\n    </tr>\n    <tr>\n      <th id=\"T_de6cb_level0_row2\" class=\"row_heading level0 row2\" >2</th>\n      <td id=\"T_de6cb_row2_col0\" class=\"data row2 col0\" >National City</td>\n      <td id=\"T_de6cb_row2_col1\" class=\"data row2 col1\" >19</td>\n      <td id=\"T_de6cb_row2_col2\" class=\"data row2 col2\" >7.72%</td>\n    </tr>\n    <tr>\n      <th id=\"T_de6cb_level0_row3\" class=\"row_heading level0 row3\" >3</th>\n      <td id=\"T_de6cb_row3_col0\" class=\"data row3 col0\" >San Diego</td>\n      <td id=\"T_de6cb_row3_col1\" class=\"data row3 col1\" >19</td>\n      <td id=\"T_de6cb_row3_col2\" class=\"data row3 col2\" >7.72%</td>\n    </tr>\n    <tr>\n      <th id=\"T_de6cb_level0_row4\" class=\"row_heading level0 row4\" >4</th>\n      <td id=\"T_de6cb_row4_col0\" class=\"data row4 col0\" >Holtville</td>\n      <td id=\"T_de6cb_row4_col1\" class=\"data row4 col1\" >18</td>\n      <td id=\"T_de6cb_row4_col2\" class=\"data row4 col2\" >7.32%</td>\n    </tr>\n  </tbody>\n</table>\n",
          "text/plain": "<pandas.io.formats.style.Styler at 0x7f316f4a5ee0>"
         },
         "metadata": {},
         "output_type": "display_data"
        }
       ]
      }
     },
     "2a1c3a24c75a448280bf7bfbf2f529da": {
      "model_module": "@jupyter-widgets/output",
      "model_module_version": "1.0.0",
      "model_name": "OutputModel",
      "state": {
       "_dom_classes": [],
       "_model_module": "@jupyter-widgets/output",
       "_model_module_version": "1.0.0",
       "_model_name": "OutputModel",
       "_view_count": null,
       "_view_module": "@jupyter-widgets/output",
       "_view_module_version": "1.0.0",
       "_view_name": "OutputView",
       "layout": "IPY_MODEL_ad27870035094f2084b9d9e8f20182b0",
       "msg_id": "",
       "outputs": [
        {
         "data": {
          "text/markdown": "<h2>Top Agencies using Bridge Projects</h2>",
          "text/plain": "<IPython.core.display.Markdown object>"
         },
         "metadata": {},
         "output_type": "display_data"
        },
        {
         "data": {
          "text/html": "<style type=\"text/css\">\n</style>\n<table id=\"T_507c9\">\n  <thead>\n    <tr>\n      <th class=\"blank level0\" >&nbsp;</th>\n      <th id=\"T_507c9_level0_col0\" class=\"col_heading level0 col0\" >Agency</th>\n      <th id=\"T_507c9_level0_col1\" class=\"col_heading level0 col1\" >Bridge Obligations</th>\n      <th id=\"T_507c9_level0_col2\" class=\"col_heading level0 col2\" >Percent of Category</th>\n    </tr>\n  </thead>\n  <tbody>\n    <tr>\n      <th id=\"T_507c9_level0_row0\" class=\"row_heading level0 row0\" >0</th>\n      <td id=\"T_507c9_row0_col0\" class=\"data row0 col0\" >San Diego County</td>\n      <td id=\"T_507c9_row0_col1\" class=\"data row0 col1\" >36</td>\n      <td id=\"T_507c9_row0_col2\" class=\"data row0 col2\" >25.17%</td>\n    </tr>\n    <tr>\n      <th id=\"T_507c9_level0_row1\" class=\"row_heading level0 row1\" >1</th>\n      <td id=\"T_507c9_row1_col0\" class=\"data row1 col0\" >San Diego</td>\n      <td id=\"T_507c9_row1_col1\" class=\"data row1 col1\" >32</td>\n      <td id=\"T_507c9_row1_col2\" class=\"data row1 col2\" >22.38%</td>\n    </tr>\n    <tr>\n      <th id=\"T_507c9_level0_row2\" class=\"row_heading level0 row2\" >2</th>\n      <td id=\"T_507c9_row2_col0\" class=\"data row2 col0\" >Imperial County</td>\n      <td id=\"T_507c9_row2_col1\" class=\"data row2 col1\" >16</td>\n      <td id=\"T_507c9_row2_col2\" class=\"data row2 col2\" >11.19%</td>\n    </tr>\n    <tr>\n      <th id=\"T_507c9_level0_row3\" class=\"row_heading level0 row3\" >3</th>\n      <td id=\"T_507c9_row3_col0\" class=\"data row3 col0\" >Chula Vista</td>\n      <td id=\"T_507c9_row3_col1\" class=\"data row3 col1\" >14</td>\n      <td id=\"T_507c9_row3_col2\" class=\"data row3 col2\" >9.79%</td>\n    </tr>\n    <tr>\n      <th id=\"T_507c9_level0_row4\" class=\"row_heading level0 row4\" >4</th>\n      <td id=\"T_507c9_row4_col0\" class=\"data row4 col0\" >San Marcos</td>\n      <td id=\"T_507c9_row4_col1\" class=\"data row4 col1\" >11</td>\n      <td id=\"T_507c9_row4_col2\" class=\"data row4 col2\" >7.69%</td>\n    </tr>\n  </tbody>\n</table>\n",
          "text/plain": "<pandas.io.formats.style.Styler at 0x7f317405b640>"
         },
         "metadata": {},
         "output_type": "display_data"
        }
       ]
      }
     },
     "3103c973eac04748a45c4eb9f98140f8": {
      "model_module": "@jupyter-widgets/base",
      "model_module_version": "1.2.0",
      "model_name": "LayoutModel",
      "state": {
       "_model_module": "@jupyter-widgets/base",
       "_model_module_version": "1.2.0",
       "_model_name": "LayoutModel",
       "_view_count": null,
       "_view_module": "@jupyter-widgets/base",
       "_view_module_version": "1.2.0",
       "_view_name": "LayoutView",
       "align_content": null,
       "align_items": null,
       "align_self": null,
       "border": null,
       "bottom": null,
       "display": null,
       "flex": null,
       "flex_flow": null,
       "grid_area": null,
       "grid_auto_columns": null,
       "grid_auto_flow": null,
       "grid_auto_rows": null,
       "grid_column": null,
       "grid_gap": null,
       "grid_row": null,
       "grid_template_areas": null,
       "grid_template_columns": null,
       "grid_template_rows": null,
       "height": null,
       "justify_content": null,
       "justify_items": null,
       "left": null,
       "margin": null,
       "max_height": null,
       "max_width": null,
       "min_height": null,
       "min_width": null,
       "object_fit": null,
       "object_position": null,
       "order": null,
       "overflow": null,
       "overflow_x": null,
       "overflow_y": null,
       "padding": null,
       "right": null,
       "top": null,
       "visibility": null,
       "width": null
      }
     },
     "39a5e046d5564ed58fa47e91268c0076": {
      "model_module": "@jupyter-widgets/output",
      "model_module_version": "1.0.0",
      "model_name": "OutputModel",
      "state": {
       "_dom_classes": [],
       "_model_module": "@jupyter-widgets/output",
       "_model_module_version": "1.0.0",
       "_model_name": "OutputModel",
       "_view_count": null,
       "_view_module": "@jupyter-widgets/output",
       "_view_module_version": "1.0.0",
       "_view_name": "OutputView",
       "layout": "IPY_MODEL_7f4cd3a1877e423a816deedf3eccf0de",
       "msg_id": "",
       "outputs": [
        {
         "data": {
          "text/markdown": "<h2>Top Agencies using Street Projects</h2>",
          "text/plain": "<IPython.core.display.Markdown object>"
         },
         "metadata": {},
         "output_type": "display_data"
        },
        {
         "data": {
          "text/html": "<style type=\"text/css\">\n</style>\n<table id=\"T_b2d9f\">\n  <thead>\n    <tr>\n      <th class=\"blank level0\" >&nbsp;</th>\n      <th id=\"T_b2d9f_level0_col0\" class=\"col_heading level0 col0\" >Agency</th>\n      <th id=\"T_b2d9f_level0_col1\" class=\"col_heading level0 col1\" >Street Obligations</th>\n      <th id=\"T_b2d9f_level0_col2\" class=\"col_heading level0 col2\" >Percent of Category</th>\n    </tr>\n  </thead>\n  <tbody>\n    <tr>\n      <th id=\"T_b2d9f_level0_row0\" class=\"row_heading level0 row0\" >0</th>\n      <td id=\"T_b2d9f_row0_col0\" class=\"data row0 col0\" >Chula Vista</td>\n      <td id=\"T_b2d9f_row0_col1\" class=\"data row0 col1\" >33</td>\n      <td id=\"T_b2d9f_row0_col2\" class=\"data row0 col2\" >7.82%</td>\n    </tr>\n    <tr>\n      <th id=\"T_b2d9f_level0_row1\" class=\"row_heading level0 row1\" >1</th>\n      <td id=\"T_b2d9f_row1_col0\" class=\"data row1 col0\" >Imperial County</td>\n      <td id=\"T_b2d9f_row1_col1\" class=\"data row1 col1\" >32</td>\n      <td id=\"T_b2d9f_row1_col2\" class=\"data row1 col2\" >7.58%</td>\n    </tr>\n    <tr>\n      <th id=\"T_b2d9f_level0_row2\" class=\"row_heading level0 row2\" >2</th>\n      <td id=\"T_b2d9f_row2_col0\" class=\"data row2 col0\" >National City</td>\n      <td id=\"T_b2d9f_row2_col1\" class=\"data row2 col1\" >31</td>\n      <td id=\"T_b2d9f_row2_col2\" class=\"data row2 col2\" >7.35%</td>\n    </tr>\n    <tr>\n      <th id=\"T_b2d9f_level0_row3\" class=\"row_heading level0 row3\" >3</th>\n      <td id=\"T_b2d9f_row3_col0\" class=\"data row3 col0\" >San Diego County</td>\n      <td id=\"T_b2d9f_row3_col1\" class=\"data row3 col1\" >28</td>\n      <td id=\"T_b2d9f_row3_col2\" class=\"data row3 col2\" >6.64%</td>\n    </tr>\n    <tr>\n      <th id=\"T_b2d9f_level0_row4\" class=\"row_heading level0 row4\" >4</th>\n      <td id=\"T_b2d9f_row4_col0\" class=\"data row4 col0\" >El Cajon</td>\n      <td id=\"T_b2d9f_row4_col1\" class=\"data row4 col1\" >27</td>\n      <td id=\"T_b2d9f_row4_col2\" class=\"data row4 col2\" >6.40%</td>\n    </tr>\n  </tbody>\n</table>\n",
          "text/plain": "<pandas.io.formats.style.Styler at 0x7f317405b6a0>"
         },
         "metadata": {},
         "output_type": "display_data"
        }
       ]
      }
     },
     "446d0a68922f458387cf607cd114564a": {
      "model_module": "@jupyter-widgets/output",
      "model_module_version": "1.0.0",
      "model_name": "OutputModel",
      "state": {
       "_dom_classes": [],
       "_model_module": "@jupyter-widgets/output",
       "_model_module_version": "1.0.0",
       "_model_name": "OutputModel",
       "_view_count": null,
       "_view_module": "@jupyter-widgets/output",
       "_view_module_version": "1.0.0",
       "_view_name": "OutputView",
       "layout": "IPY_MODEL_3103c973eac04748a45c4eb9f98140f8",
       "msg_id": "",
       "outputs": [
        {
         "data": {
          "text/markdown": "<h2>Top Agencies using Infrastructure & Emergency Relief Projects</h2>",
          "text/plain": "<IPython.core.display.Markdown object>"
         },
         "metadata": {},
         "output_type": "display_data"
        },
        {
         "data": {
          "text/html": "<style type=\"text/css\">\n</style>\n<table id=\"T_caa88\">\n  <thead>\n    <tr>\n      <th class=\"blank level0\" >&nbsp;</th>\n      <th id=\"T_caa88_level0_col0\" class=\"col_heading level0 col0\" >Agency</th>\n      <th id=\"T_caa88_level0_col1\" class=\"col_heading level0 col1\" >Infrastructure & Emergency Relief Obligations</th>\n      <th id=\"T_caa88_level0_col2\" class=\"col_heading level0 col2\" >Percent of Category</th>\n    </tr>\n  </thead>\n  <tbody>\n    <tr>\n      <th id=\"T_caa88_level0_row0\" class=\"row_heading level0 row0\" >0</th>\n      <td id=\"T_caa88_row0_col0\" class=\"data row0 col0\" >San Diego County</td>\n      <td id=\"T_caa88_row0_col1\" class=\"data row0 col1\" >59</td>\n      <td id=\"T_caa88_row0_col2\" class=\"data row0 col2\" >12.14%</td>\n    </tr>\n    <tr>\n      <th id=\"T_caa88_level0_row1\" class=\"row_heading level0 row1\" >1</th>\n      <td id=\"T_caa88_row1_col0\" class=\"data row1 col0\" >Imperial County</td>\n      <td id=\"T_caa88_row1_col1\" class=\"data row1 col1\" >53</td>\n      <td id=\"T_caa88_row1_col2\" class=\"data row1 col2\" >10.91%</td>\n    </tr>\n    <tr>\n      <th id=\"T_caa88_level0_row2\" class=\"row_heading level0 row2\" >2</th>\n      <td id=\"T_caa88_row2_col0\" class=\"data row2 col0\" >San Diego Association of Governments</td>\n      <td id=\"T_caa88_row2_col1\" class=\"data row2 col1\" >47</td>\n      <td id=\"T_caa88_row2_col2\" class=\"data row2 col2\" >9.67%</td>\n    </tr>\n    <tr>\n      <th id=\"T_caa88_level0_row3\" class=\"row_heading level0 row3\" >3</th>\n      <td id=\"T_caa88_row3_col0\" class=\"data row3 col0\" >San Diego</td>\n      <td id=\"T_caa88_row3_col1\" class=\"data row3 col1\" >36</td>\n      <td id=\"T_caa88_row3_col2\" class=\"data row3 col2\" >7.41%</td>\n    </tr>\n    <tr>\n      <th id=\"T_caa88_level0_row4\" class=\"row_heading level0 row4\" >4</th>\n      <td id=\"T_caa88_row4_col0\" class=\"data row4 col0\" >Chula Vista</td>\n      <td id=\"T_caa88_row4_col1\" class=\"data row4 col1\" >27</td>\n      <td id=\"T_caa88_row4_col2\" class=\"data row4 col2\" >5.56%</td>\n    </tr>\n  </tbody>\n</table>\n",
          "text/plain": "<pandas.io.formats.style.Styler at 0x7f316f49eb20>"
         },
         "metadata": {},
         "output_type": "display_data"
        }
       ]
      }
     },
     "5119f3214e4e424c8841ac231942a7a2": {
      "model_module": "@jupyter-widgets/controls",
      "model_module_version": "1.5.0",
      "model_name": "TabModel",
      "state": {
       "_dom_classes": [],
       "_model_module": "@jupyter-widgets/controls",
       "_model_module_version": "1.5.0",
       "_model_name": "TabModel",
       "_titles": {
        "0": "Active Transportation",
        "1": "Transit",
        "2": "Bridge",
        "3": "Street",
        "4": "Freeway",
        "5": "Infrastructure & Emergency Relief",
        "6": "Congestion Relief"
       },
       "_view_count": null,
       "_view_module": "@jupyter-widgets/controls",
       "_view_module_version": "1.5.0",
       "_view_name": "TabView",
       "box_style": "",
       "children": [
        "IPY_MODEL_2056a3fb79e44df8837e4265e5064e73",
        "IPY_MODEL_721ec60ad59c4716b9bc41a187b1d08b",
        "IPY_MODEL_2a1c3a24c75a448280bf7bfbf2f529da",
        "IPY_MODEL_39a5e046d5564ed58fa47e91268c0076",
        "IPY_MODEL_0790cd02d95d425e938e8d129a1065cb",
        "IPY_MODEL_446d0a68922f458387cf607cd114564a",
        "IPY_MODEL_8dba7aa014ee4dfcb9619dc373f5be29"
       ],
       "layout": "IPY_MODEL_518ca718fab44948bb8b27e6246eb372",
       "selected_index": 0
      }
     },
     "518ca718fab44948bb8b27e6246eb372": {
      "model_module": "@jupyter-widgets/base",
      "model_module_version": "1.2.0",
      "model_name": "LayoutModel",
      "state": {
       "_model_module": "@jupyter-widgets/base",
       "_model_module_version": "1.2.0",
       "_model_name": "LayoutModel",
       "_view_count": null,
       "_view_module": "@jupyter-widgets/base",
       "_view_module_version": "1.2.0",
       "_view_name": "LayoutView",
       "align_content": null,
       "align_items": null,
       "align_self": null,
       "border": null,
       "bottom": null,
       "display": null,
       "flex": null,
       "flex_flow": null,
       "grid_area": null,
       "grid_auto_columns": null,
       "grid_auto_flow": null,
       "grid_auto_rows": null,
       "grid_column": null,
       "grid_gap": null,
       "grid_row": null,
       "grid_template_areas": null,
       "grid_template_columns": null,
       "grid_template_rows": null,
       "height": null,
       "justify_content": null,
       "justify_items": null,
       "left": null,
       "margin": null,
       "max_height": null,
       "max_width": null,
       "min_height": null,
       "min_width": null,
       "object_fit": null,
       "object_position": null,
       "order": null,
       "overflow": null,
       "overflow_x": null,
       "overflow_y": null,
       "padding": null,
       "right": null,
       "top": null,
       "visibility": null,
       "width": null
      }
     },
     "721ec60ad59c4716b9bc41a187b1d08b": {
      "model_module": "@jupyter-widgets/output",
      "model_module_version": "1.0.0",
      "model_name": "OutputModel",
      "state": {
       "_dom_classes": [],
       "_model_module": "@jupyter-widgets/output",
       "_model_module_version": "1.0.0",
       "_model_name": "OutputModel",
       "_view_count": null,
       "_view_module": "@jupyter-widgets/output",
       "_view_module_version": "1.0.0",
       "_view_name": "OutputView",
       "layout": "IPY_MODEL_023f3b7cf8d84ef6b0982fe565384c38",
       "msg_id": "",
       "outputs": [
        {
         "data": {
          "text/markdown": "<h2>Top Agencies using Transit Projects</h2>",
          "text/plain": "<IPython.core.display.Markdown object>"
         },
         "metadata": {},
         "output_type": "display_data"
        },
        {
         "data": {
          "text/html": "<style type=\"text/css\">\n</style>\n<table id=\"T_7f166\">\n  <thead>\n    <tr>\n      <th class=\"blank level0\" >&nbsp;</th>\n      <th id=\"T_7f166_level0_col0\" class=\"col_heading level0 col0\" >Agency</th>\n      <th id=\"T_7f166_level0_col1\" class=\"col_heading level0 col1\" >Transit Obligations</th>\n      <th id=\"T_7f166_level0_col2\" class=\"col_heading level0 col2\" >Percent of Category</th>\n    </tr>\n  </thead>\n  <tbody>\n    <tr>\n      <th id=\"T_7f166_level0_row0\" class=\"row_heading level0 row0\" >0</th>\n      <td id=\"T_7f166_row0_col0\" class=\"data row0 col0\" >Chula Vista</td>\n      <td id=\"T_7f166_row0_col1\" class=\"data row0 col1\" >3</td>\n      <td id=\"T_7f166_row0_col2\" class=\"data row0 col2\" >75.00%</td>\n    </tr>\n    <tr>\n      <th id=\"T_7f166_level0_row1\" class=\"row_heading level0 row1\" >1</th>\n      <td id=\"T_7f166_row1_col0\" class=\"data row1 col0\" >San Diego Association of Governments</td>\n      <td id=\"T_7f166_row1_col1\" class=\"data row1 col1\" >1</td>\n      <td id=\"T_7f166_row1_col2\" class=\"data row1 col2\" >25.00%</td>\n    </tr>\n  </tbody>\n</table>\n",
          "text/plain": "<pandas.io.formats.style.Styler at 0x7f316f4a2520>"
         },
         "metadata": {},
         "output_type": "display_data"
        }
       ]
      }
     },
     "7f4cd3a1877e423a816deedf3eccf0de": {
      "model_module": "@jupyter-widgets/base",
      "model_module_version": "1.2.0",
      "model_name": "LayoutModel",
      "state": {
       "_model_module": "@jupyter-widgets/base",
       "_model_module_version": "1.2.0",
       "_model_name": "LayoutModel",
       "_view_count": null,
       "_view_module": "@jupyter-widgets/base",
       "_view_module_version": "1.2.0",
       "_view_name": "LayoutView",
       "align_content": null,
       "align_items": null,
       "align_self": null,
       "border": null,
       "bottom": null,
       "display": null,
       "flex": null,
       "flex_flow": null,
       "grid_area": null,
       "grid_auto_columns": null,
       "grid_auto_flow": null,
       "grid_auto_rows": null,
       "grid_column": null,
       "grid_gap": null,
       "grid_row": null,
       "grid_template_areas": null,
       "grid_template_columns": null,
       "grid_template_rows": null,
       "height": null,
       "justify_content": null,
       "justify_items": null,
       "left": null,
       "margin": null,
       "max_height": null,
       "max_width": null,
       "min_height": null,
       "min_width": null,
       "object_fit": null,
       "object_position": null,
       "order": null,
       "overflow": null,
       "overflow_x": null,
       "overflow_y": null,
       "padding": null,
       "right": null,
       "top": null,
       "visibility": null,
       "width": null
      }
     },
     "8dba7aa014ee4dfcb9619dc373f5be29": {
      "model_module": "@jupyter-widgets/output",
      "model_module_version": "1.0.0",
      "model_name": "OutputModel",
      "state": {
       "_dom_classes": [],
       "_model_module": "@jupyter-widgets/output",
       "_model_module_version": "1.0.0",
       "_model_name": "OutputModel",
       "_view_count": null,
       "_view_module": "@jupyter-widgets/output",
       "_view_module_version": "1.0.0",
       "_view_name": "OutputView",
       "layout": "IPY_MODEL_01321327e4924ac49c3c8095dd2cd5e5",
       "msg_id": "",
       "outputs": [
        {
         "data": {
          "text/markdown": "<h2>Top Agencies using Congestion Relief Projects</h2>",
          "text/plain": "<IPython.core.display.Markdown object>"
         },
         "metadata": {},
         "output_type": "display_data"
        },
        {
         "data": {
          "text/html": "<style type=\"text/css\">\n</style>\n<table id=\"T_23225\">\n  <thead>\n    <tr>\n      <th class=\"blank level0\" >&nbsp;</th>\n      <th id=\"T_23225_level0_col0\" class=\"col_heading level0 col0\" >Agency</th>\n      <th id=\"T_23225_level0_col1\" class=\"col_heading level0 col1\" >Congestion Relief Obligations</th>\n      <th id=\"T_23225_level0_col2\" class=\"col_heading level0 col2\" >Percent of Category</th>\n    </tr>\n  </thead>\n  <tbody>\n    <tr>\n      <th id=\"T_23225_level0_row0\" class=\"row_heading level0 row0\" >0</th>\n      <td id=\"T_23225_row0_col0\" class=\"data row0 col0\" >San Diego Association of Governments</td>\n      <td id=\"T_23225_row0_col1\" class=\"data row0 col1\" >12</td>\n      <td id=\"T_23225_row0_col2\" class=\"data row0 col2\" >100.00%</td>\n    </tr>\n  </tbody>\n</table>\n",
          "text/plain": "<pandas.io.formats.style.Styler at 0x7f316eb0b910>"
         },
         "metadata": {},
         "output_type": "display_data"
        }
       ]
      }
     },
     "ad27870035094f2084b9d9e8f20182b0": {
      "model_module": "@jupyter-widgets/base",
      "model_module_version": "1.2.0",
      "model_name": "LayoutModel",
      "state": {
       "_model_module": "@jupyter-widgets/base",
       "_model_module_version": "1.2.0",
       "_model_name": "LayoutModel",
       "_view_count": null,
       "_view_module": "@jupyter-widgets/base",
       "_view_module_version": "1.2.0",
       "_view_name": "LayoutView",
       "align_content": null,
       "align_items": null,
       "align_self": null,
       "border": null,
       "bottom": null,
       "display": null,
       "flex": null,
       "flex_flow": null,
       "grid_area": null,
       "grid_auto_columns": null,
       "grid_auto_flow": null,
       "grid_auto_rows": null,
       "grid_column": null,
       "grid_gap": null,
       "grid_row": null,
       "grid_template_areas": null,
       "grid_template_columns": null,
       "grid_template_rows": null,
       "height": null,
       "justify_content": null,
       "justify_items": null,
       "left": null,
       "margin": null,
       "max_height": null,
       "max_width": null,
       "min_height": null,
       "min_width": null,
       "object_fit": null,
       "object_position": null,
       "order": null,
       "overflow": null,
       "overflow_x": null,
       "overflow_y": null,
       "padding": null,
       "right": null,
       "top": null,
       "visibility": null,
       "width": null
      }
     },
     "b038fa29bbda436caf91ddd1e828a2fc": {
      "model_module": "@jupyter-widgets/base",
      "model_module_version": "1.2.0",
      "model_name": "LayoutModel",
      "state": {
       "_model_module": "@jupyter-widgets/base",
       "_model_module_version": "1.2.0",
       "_model_name": "LayoutModel",
       "_view_count": null,
       "_view_module": "@jupyter-widgets/base",
       "_view_module_version": "1.2.0",
       "_view_name": "LayoutView",
       "align_content": null,
       "align_items": null,
       "align_self": null,
       "border": null,
       "bottom": null,
       "display": null,
       "flex": null,
       "flex_flow": null,
       "grid_area": null,
       "grid_auto_columns": null,
       "grid_auto_flow": null,
       "grid_auto_rows": null,
       "grid_column": null,
       "grid_gap": null,
       "grid_row": null,
       "grid_template_areas": null,
       "grid_template_columns": null,
       "grid_template_rows": null,
       "height": null,
       "justify_content": null,
       "justify_items": null,
       "left": null,
       "margin": null,
       "max_height": null,
       "max_width": null,
       "min_height": null,
       "min_width": null,
       "object_fit": null,
       "object_position": null,
       "order": null,
       "overflow": null,
       "overflow_x": null,
       "overflow_y": null,
       "padding": null,
       "right": null,
       "top": null,
       "visibility": null,
       "width": null
      }
     }
    },
    "version_major": 2,
    "version_minor": 0
   }
  }
 },
 "nbformat": 4,
 "nbformat_minor": 5
}