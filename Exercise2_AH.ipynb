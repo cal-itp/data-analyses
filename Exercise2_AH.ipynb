{
 "cells": [
  {
   "cell_type": "markdown",
   "id": "3dc90996-2d34-4b1a-a07b-12ce83f5f376",
   "metadata": {},
   "source": [
    "# Exercise 2 Data Cleaning\n",
    "---"
   ]
  },
  {
   "cell_type": "markdown",
   "id": "1a2d1098-5181-4bad-99cc-0bb7129022c0",
   "metadata": {},
   "source": [
    "### Download Packages "
   ]
  },
  {
   "cell_type": "code",
   "execution_count": 2,
   "id": "e84b3e44-43e1-4a3c-965f-49435794a5e5",
   "metadata": {},
   "outputs": [],
   "source": [
    "import pandas as pd\n",
    "import numpy as np\n",
    "import shared_utils"
   ]
  },
  {
   "cell_type": "markdown",
   "id": "c9f58877-2b37-4cd4-bb50-a1b169c2b86e",
   "metadata": {},
   "source": [
    "### Read in our Files"
   ]
  },
  {
   "cell_type": "code",
   "execution_count": 3,
   "id": "4053066b-2b78-417c-ae58-ac69e6869f00",
   "metadata": {},
   "outputs": [],
   "source": [
    "GCS_FILE_PATH = \"gs://calitp-analytics-data/data-analyses/bus_service_increase/\"\n",
    "FILE_NAME = \"ntd_metrics_2019.csv\"\n",
    "df_metrics = pd.read_csv(f\"{GCS_FILE_PATH}{FILE_NAME}\")"
   ]
  },
  {
   "cell_type": "code",
   "execution_count": 4,
   "id": "09c94557-d9d2-4fdd-8fd7-3738c587dc3c",
   "metadata": {
    "tags": []
   },
   "outputs": [
    {
     "name": "stdout",
     "output_type": "stream",
     "text": [
      "<class 'pandas.core.frame.DataFrame'>\n",
      "RangeIndex: 3685 entries, 0 to 3684\n",
      "Data columns (total 45 columns):\n",
      " #   Column                                                                   Non-Null Count  Dtype  \n",
      "---  ------                                                                   --------------  -----  \n",
      " 0   Agency                                                                   3680 non-null   object \n",
      " 1   City                                                                     3680 non-null   object \n",
      " 2   State                                                                    3680 non-null   object \n",
      " 3   Legacy NTD ID                                                            3394 non-null   object \n",
      " 4   NTD ID                                                                   3680 non-null   object \n",
      " 5   Organization Type                                                        3680 non-null   object \n",
      " 6   Reporter Type                                                            3680 non-null   object \n",
      " 7   Primary UZA\n",
      " Population                                                  3680 non-null   object \n",
      " 8   Agency VOMS                                                              3680 non-null   object \n",
      " 9   Mode                                                                     3680 non-null   object \n",
      " 10  TOS                                                                      3680 non-null   object \n",
      " 11  Mode VOMS                                                                3680 non-null   object \n",
      " 12  Ratios:                                                                  0 non-null      float64\n",
      " 13  Fare Revenues per Unlinked Passenger Trip                                3680 non-null   object \n",
      " 14  Fare Revenues per Unlinked Passenger Trip Questionable                   43 non-null     object \n",
      " 15  Fare Revenues per Total Operating Expense (Recovery Ratio)               3680 non-null   object \n",
      " 16  Fare Revenues per Total Operating Expense (Recovery Ratio) Questionable  0 non-null      float64\n",
      " 17  Cost per\n",
      " Hour                                                           3680 non-null   object \n",
      " 18  Cost per Hour Questionable                                               18 non-null     object \n",
      " 19  Passengers per Hour                                                      3680 non-null   object \n",
      " 20  Passengers per Hour Questionable                                         45 non-null     object \n",
      " 21  Cost per Passenger                                                       3680 non-null   object \n",
      " 22  Cost per Passenger Questionable                                          43 non-null     object \n",
      " 23  Cost per Passenger Mile                                                  3680 non-null   object \n",
      " 24  Cost per Passenger Mile Questionable                                     78 non-null     object \n",
      " 25  Source Data:                                                             0 non-null      float64\n",
      " 26  Fare Revenues Earned                                                     3680 non-null   object \n",
      " 27  Fare Revenues Earned Questionable                                        0 non-null      float64\n",
      " 28  Total Operating Expenses                                                 3680 non-null   object \n",
      " 29  Total Operating Expenses Questionable                                    0 non-null      float64\n",
      " 30  Unlinked Passenger Trips                                                 3680 non-null   object \n",
      " 31  Unlinked Passenger Trips Questionable                                    43 non-null     object \n",
      " 32  Vehicle Revenue Hours                                                    3680 non-null   object \n",
      " 33  Vehicle Revenue Hours Questionable                                       18 non-null     object \n",
      " 34  Passenger Miles                                                          3680 non-null   object \n",
      " 35  Passenger Miles Questionable                                             78 non-null     object \n",
      " 36  Vehicle Revenue Miles                                                    3680 non-null   object \n",
      " 37  Vehicle Revenue Miles Questionable                                       26 non-null     object \n",
      " 38  Any data questionable?                                                   3685 non-null   object \n",
      " 39  Unnamed: 39                                                              0 non-null      float64\n",
      " 40  Unnamed: 40                                                              1 non-null      float64\n",
      " 41  Unnamed: 41                                                              0 non-null      float64\n",
      " 42  1                                                                        3 non-null      object \n",
      " 43  Unnamed: 43                                                              0 non-null      float64\n",
      " 44  Unnamed: 44                                                              1 non-null      float64\n",
      "dtypes: float64(10), object(35)\n",
      "memory usage: 1.3+ MB\n"
     ]
    }
   ],
   "source": [
    "#check out columns\n",
    "df_metrics.info()"
   ]
  },
  {
   "cell_type": "markdown",
   "id": "6d1ce65a-b0f9-4a71-af39-17bc8c0b9eb2",
   "metadata": {},
   "source": [
    "#### Help\n",
    "Trying to choose the columns to keep, but I keep getting a huge error message when I try to select \n",
    "\"Fare Revenues per unlinked Passenger Trip\" \n",
    "KeyError: \"['Fare Revenues per Unlinked Passenger Trip'] not in index\""
   ]
  },
  {
   "cell_type": "code",
   "execution_count": 5,
   "id": "3192a2ba-ce05-40aa-bdf9-edccb54d343a",
   "metadata": {},
   "outputs": [],
   "source": [
    "#chosing the columns to keep (second way)\n",
    "df_metrics = df_metrics.iloc[:, [0,1,2,13,15,26]]\n",
    "#df_metrics2 = df_metrics[[\"Agency\", \"City\",\"State\",\"Fare Revenues per Unlinked Passenger Trip\",\n",
    "                       #  \"Fare Revenues per Total Operating Expense (Recovery Ratio)\", \"Fare Revenues Earned\"]]"
   ]
  },
  {
   "cell_type": "code",
   "execution_count": 6,
   "id": "987d1627-e16a-4856-8b8f-7a93ea5b6485",
   "metadata": {},
   "outputs": [
    {
     "data": {
      "text/html": [
       "<div>\n",
       "<style scoped>\n",
       "    .dataframe tbody tr th:only-of-type {\n",
       "        vertical-align: middle;\n",
       "    }\n",
       "\n",
       "    .dataframe tbody tr th {\n",
       "        vertical-align: top;\n",
       "    }\n",
       "\n",
       "    .dataframe thead th {\n",
       "        text-align: right;\n",
       "    }\n",
       "</style>\n",
       "<table border=\"1\" class=\"dataframe\">\n",
       "  <thead>\n",
       "    <tr style=\"text-align: right;\">\n",
       "      <th></th>\n",
       "      <th>Agency</th>\n",
       "      <th>City</th>\n",
       "      <th>State</th>\n",
       "      <th>Fare Revenues per Unlinked Passenger Trip</th>\n",
       "      <th>Fare Revenues per Total Operating Expense (Recovery Ratio)</th>\n",
       "      <th>Fare Revenues Earned</th>\n",
       "    </tr>\n",
       "  </thead>\n",
       "  <tbody>\n",
       "    <tr>\n",
       "      <th>0</th>\n",
       "      <td>MTA New York City Transit</td>\n",
       "      <td>New York</td>\n",
       "      <td>NY</td>\n",
       "      <td>$1.34</td>\n",
       "      <td>0.70</td>\n",
       "      <td>$3,643,213,720</td>\n",
       "    </tr>\n",
       "    <tr>\n",
       "      <th>1</th>\n",
       "      <td>MTA New York City Transit</td>\n",
       "      <td>New York</td>\n",
       "      <td>NY</td>\n",
       "      <td>$6.66</td>\n",
       "      <td>0.32</td>\n",
       "      <td>$76,398,352</td>\n",
       "    </tr>\n",
       "  </tbody>\n",
       "</table>\n",
       "</div>"
      ],
      "text/plain": [
       "                      Agency      City State  \\\n",
       "0  MTA New York City Transit  New York    NY   \n",
       "1  MTA New York City Transit  New York    NY   \n",
       "\n",
       "  Fare Revenues per Unlinked Passenger Trip   \\\n",
       "0                                     $1.34    \n",
       "1                                     $6.66    \n",
       "\n",
       "  Fare Revenues per Total Operating Expense (Recovery Ratio)  \\\n",
       "0                                              0.70            \n",
       "1                                              0.32            \n",
       "\n",
       "  Fare Revenues Earned  \n",
       "0      $3,643,213,720   \n",
       "1         $76,398,352   "
      ]
     },
     "execution_count": 6,
     "metadata": {},
     "output_type": "execute_result"
    }
   ],
   "source": [
    "df_metrics.head(2)"
   ]
  },
  {
   "cell_type": "markdown",
   "id": "cf99d41f-93d7-46b1-bb92-645ad368ee35",
   "metadata": {},
   "source": [
    "#### Loading Vehicle dataset"
   ]
  },
  {
   "cell_type": "code",
   "execution_count": 7,
   "id": "393fefa0-d9be-4d94-a782-48393a71da68",
   "metadata": {},
   "outputs": [],
   "source": [
    "FILE_TWO = \"ntd_vehicles_2019.csv\"\n",
    "df_vehicles = pd.read_csv(f\"{GCS_FILE_PATH}{FILE_TWO}\")"
   ]
  },
  {
   "cell_type": "code",
   "execution_count": 8,
   "id": "ffb4b94a-d77a-4fff-8453-3ba32e0ffca9",
   "metadata": {},
   "outputs": [],
   "source": [
    "df_vehicles = df_vehicles.iloc[:, [0,2,5,6,7,93]]"
   ]
  },
  {
   "cell_type": "code",
   "execution_count": 9,
   "id": "00ef0b1c-606f-4689-b930-17f2376562b3",
   "metadata": {},
   "outputs": [
    {
     "name": "stdout",
     "output_type": "stream",
     "text": [
      "<class 'pandas.core.frame.DataFrame'>\n",
      "RangeIndex: 2775 entries, 0 to 2774\n",
      "Data columns (total 6 columns):\n",
      " #   Column                  Non-Null Count  Dtype \n",
      "---  ------                  --------------  ----- \n",
      " 0   Agency                  2775 non-null   object\n",
      " 1   State                   2775 non-null   object\n",
      " 2   Organization Type       2775 non-null   object\n",
      " 3   Reporter Type           2775 non-null   object\n",
      " 4   Primary UZA Population  2775 non-null   object\n",
      " 5   Total Service Vehicles  2775 non-null   object\n",
      "dtypes: object(6)\n",
      "memory usage: 130.2+ KB\n"
     ]
    }
   ],
   "source": [
    "df_vehicles.info()"
   ]
  },
  {
   "cell_type": "markdown",
   "id": "35b6e319-f33e-4c48-8926-dbd6ea6625c4",
   "metadata": {},
   "source": [
    "### Subsetting for only states of interest\n",
    "<i> Question: how can I filter more efficiently? I tried to create a list to filter everything all at once but I kept getting errors or a list of true/falses<i>"
   ]
  },
  {
   "cell_type": "code",
   "execution_count": 10,
   "id": "52313ecc-136b-4048-a2d9-b9614a117d1f",
   "metadata": {},
   "outputs": [],
   "source": [
    "#keeping only the states of interest \n",
    "states_to_keep = [\"CA\", \"NY\", \"TX\", \"ID\", \"MS\"]\n",
    "df_vehicles = df_vehicles[df_vehicles.State.isin(states_to_keep)]"
   ]
  },
  {
   "cell_type": "code",
   "execution_count": 11,
   "id": "f9e2627a-fde7-48bb-87f0-8869c4c3047d",
   "metadata": {},
   "outputs": [
    {
     "data": {
      "text/plain": [
       "['NY', 'CA', 'TX', 'ID', 'MS']"
      ]
     },
     "execution_count": 11,
     "metadata": {},
     "output_type": "execute_result"
    }
   ],
   "source": [
    "#checking that I filtered everything correct \n",
    "df_vehicles['State'].unique().tolist()"
   ]
  },
  {
   "cell_type": "markdown",
   "id": "0339dadc-fc00-4d11-893b-26b98e9918dd",
   "metadata": {},
   "source": [
    "### Merging the data with an inner join\n",
    "\n",
    "<i> Notes: merge1 = pd.merge(df_metrics, df_vehicles, on = \"State\", how = \"left\")\n",
    "\n",
    "merge1.shape </i>"
   ]
  },
  {
   "cell_type": "code",
   "execution_count": 12,
   "id": "de915949-fddf-40f4-87e9-7865907e26f3",
   "metadata": {},
   "outputs": [],
   "source": [
    "merge1 = df_vehicles.merge(df_metrics, how = \"inner\", on = [\"Agency\", \"State\"])\n"
   ]
  },
  {
   "cell_type": "code",
   "execution_count": 13,
   "id": "7cc11cf8-6f3c-4b99-b1bd-cb0e1098aec3",
   "metadata": {},
   "outputs": [
    {
     "data": {
      "text/plain": [
       "CA    436\n",
       "TX    167\n",
       "NY    128\n",
       "MS     29\n",
       "ID     28\n",
       "Name: State, dtype: int64"
      ]
     },
     "execution_count": 13,
     "metadata": {},
     "output_type": "execute_result"
    }
   ],
   "source": [
    "merge1.State.value_counts()"
   ]
  },
  {
   "cell_type": "code",
   "execution_count": 14,
   "id": "669f234e-fe70-4d11-8b75-61f717fd8e53",
   "metadata": {},
   "outputs": [
    {
     "data": {
      "text/html": [
       "<div>\n",
       "<style scoped>\n",
       "    .dataframe tbody tr th:only-of-type {\n",
       "        vertical-align: middle;\n",
       "    }\n",
       "\n",
       "    .dataframe tbody tr th {\n",
       "        vertical-align: top;\n",
       "    }\n",
       "\n",
       "    .dataframe thead th {\n",
       "        text-align: right;\n",
       "    }\n",
       "</style>\n",
       "<table border=\"1\" class=\"dataframe\">\n",
       "  <thead>\n",
       "    <tr style=\"text-align: right;\">\n",
       "      <th></th>\n",
       "      <th>Agency</th>\n",
       "      <th>State</th>\n",
       "      <th>Organization Type</th>\n",
       "      <th>Reporter Type</th>\n",
       "      <th>Primary UZA Population</th>\n",
       "      <th>Total Service Vehicles</th>\n",
       "      <th>City</th>\n",
       "      <th>Fare Revenues per Unlinked Passenger Trip</th>\n",
       "      <th>Fare Revenues per Total Operating Expense (Recovery Ratio)</th>\n",
       "      <th>Fare Revenues Earned</th>\n",
       "    </tr>\n",
       "  </thead>\n",
       "  <tbody>\n",
       "    <tr>\n",
       "      <th>0</th>\n",
       "      <td>MTA New York City Transit</td>\n",
       "      <td>NY</td>\n",
       "      <td>Subsidiary Unit of a Transit Agency, Reporting...</td>\n",
       "      <td>Full Reporter</td>\n",
       "      <td>18,351,295</td>\n",
       "      <td>2,297</td>\n",
       "      <td>New York</td>\n",
       "      <td>$1.34</td>\n",
       "      <td>0.70</td>\n",
       "      <td>$3,643,213,720</td>\n",
       "    </tr>\n",
       "    <tr>\n",
       "      <th>1</th>\n",
       "      <td>MTA New York City Transit</td>\n",
       "      <td>NY</td>\n",
       "      <td>Subsidiary Unit of a Transit Agency, Reporting...</td>\n",
       "      <td>Full Reporter</td>\n",
       "      <td>18,351,295</td>\n",
       "      <td>2,297</td>\n",
       "      <td>New York</td>\n",
       "      <td>$6.66</td>\n",
       "      <td>0.32</td>\n",
       "      <td>$76,398,352</td>\n",
       "    </tr>\n",
       "  </tbody>\n",
       "</table>\n",
       "</div>"
      ],
      "text/plain": [
       "                      Agency State  \\\n",
       "0  MTA New York City Transit    NY   \n",
       "1  MTA New York City Transit    NY   \n",
       "\n",
       "                                   Organization Type  Reporter Type  \\\n",
       "0  Subsidiary Unit of a Transit Agency, Reporting...  Full Reporter   \n",
       "1  Subsidiary Unit of a Transit Agency, Reporting...  Full Reporter   \n",
       "\n",
       "  Primary UZA Population Total Service Vehicles      City  \\\n",
       "0             18,351,295                  2,297  New York   \n",
       "1             18,351,295                  2,297  New York   \n",
       "\n",
       "  Fare Revenues per Unlinked Passenger Trip   \\\n",
       "0                                     $1.34    \n",
       "1                                     $6.66    \n",
       "\n",
       "  Fare Revenues per Total Operating Expense (Recovery Ratio)  \\\n",
       "0                                              0.70            \n",
       "1                                              0.32            \n",
       "\n",
       "  Fare Revenues Earned  \n",
       "0      $3,643,213,720   \n",
       "1         $76,398,352   "
      ]
     },
     "execution_count": 14,
     "metadata": {},
     "output_type": "execute_result"
    }
   ],
   "source": [
    "merge1.head(2)"
   ]
  },
  {
   "cell_type": "markdown",
   "id": "fbd3aefc-281d-4a9a-b417-fce494b9a5fc",
   "metadata": {},
   "source": [
    "### Cleaning up the files to remove (), commas, $, and blanks"
   ]
  },
  {
   "cell_type": "code",
   "execution_count": 15,
   "id": "9a859d93-0146-4071-a27e-b7cb050d8e11",
   "metadata": {
    "tags": []
   },
   "outputs": [],
   "source": [
    "#removing more columns\n",
    "merge1 = merge1.drop(['Organization Type', 'Reporter Type'], axis=1)"
   ]
  },
  {
   "cell_type": "code",
   "execution_count": 16,
   "id": "5ed24ada-9b87-4595-ad58-896905827472",
   "metadata": {
    "tags": []
   },
   "outputs": [],
   "source": [
    "\n",
    "merge1.columns = merge1.columns.str.strip().str.replace(' ', '_')"
   ]
  },
  {
   "cell_type": "code",
   "execution_count": 17,
   "id": "dcfc5845-f0a3-4817-81bd-709153e9a5c0",
   "metadata": {},
   "outputs": [
    {
     "data": {
      "text/html": [
       "<div>\n",
       "<style scoped>\n",
       "    .dataframe tbody tr th:only-of-type {\n",
       "        vertical-align: middle;\n",
       "    }\n",
       "\n",
       "    .dataframe tbody tr th {\n",
       "        vertical-align: top;\n",
       "    }\n",
       "\n",
       "    .dataframe thead th {\n",
       "        text-align: right;\n",
       "    }\n",
       "</style>\n",
       "<table border=\"1\" class=\"dataframe\">\n",
       "  <thead>\n",
       "    <tr style=\"text-align: right;\">\n",
       "      <th></th>\n",
       "      <th>Agency</th>\n",
       "      <th>State</th>\n",
       "      <th>Primary_UZA_Population</th>\n",
       "      <th>Total_Service_Vehicles</th>\n",
       "      <th>City</th>\n",
       "      <th>Fare_Revenues_per_Unlinked_Passenger_Trip</th>\n",
       "      <th>Fare_Revenues_per_Total_Operating_Expense_(Recovery_Ratio)</th>\n",
       "      <th>Fare_Revenues_Earned</th>\n",
       "    </tr>\n",
       "  </thead>\n",
       "  <tbody>\n",
       "    <tr>\n",
       "      <th>0</th>\n",
       "      <td>MTA New York City Transit</td>\n",
       "      <td>NY</td>\n",
       "      <td>18,351,295</td>\n",
       "      <td>2,297</td>\n",
       "      <td>New York</td>\n",
       "      <td>$1.34</td>\n",
       "      <td>0.70</td>\n",
       "      <td>$3,643,213,720</td>\n",
       "    </tr>\n",
       "    <tr>\n",
       "      <th>1</th>\n",
       "      <td>MTA New York City Transit</td>\n",
       "      <td>NY</td>\n",
       "      <td>18,351,295</td>\n",
       "      <td>2,297</td>\n",
       "      <td>New York</td>\n",
       "      <td>$6.66</td>\n",
       "      <td>0.32</td>\n",
       "      <td>$76,398,352</td>\n",
       "    </tr>\n",
       "  </tbody>\n",
       "</table>\n",
       "</div>"
      ],
      "text/plain": [
       "                      Agency State Primary_UZA_Population  \\\n",
       "0  MTA New York City Transit    NY             18,351,295   \n",
       "1  MTA New York City Transit    NY             18,351,295   \n",
       "\n",
       "  Total_Service_Vehicles      City Fare_Revenues_per_Unlinked_Passenger_Trip  \\\n",
       "0                  2,297  New York                                    $1.34    \n",
       "1                  2,297  New York                                    $6.66    \n",
       "\n",
       "  Fare_Revenues_per_Total_Operating_Expense_(Recovery_Ratio)  \\\n",
       "0                                              0.70            \n",
       "1                                              0.32            \n",
       "\n",
       "  Fare_Revenues_Earned  \n",
       "0      $3,643,213,720   \n",
       "1         $76,398,352   "
      ]
     },
     "execution_count": 17,
     "metadata": {},
     "output_type": "execute_result"
    }
   ],
   "source": [
    "merge1.head(2)"
   ]
  },
  {
   "cell_type": "code",
   "execution_count": 18,
   "id": "8ec8e92f-963f-42b0-ab25-1b8fe8f6dc94",
   "metadata": {
    "tags": []
   },
   "outputs": [
    {
     "data": {
      "text/html": [
       "<div>\n",
       "<style scoped>\n",
       "    .dataframe tbody tr th:only-of-type {\n",
       "        vertical-align: middle;\n",
       "    }\n",
       "\n",
       "    .dataframe tbody tr th {\n",
       "        vertical-align: top;\n",
       "    }\n",
       "\n",
       "    .dataframe thead th {\n",
       "        text-align: right;\n",
       "    }\n",
       "</style>\n",
       "<table border=\"1\" class=\"dataframe\">\n",
       "  <thead>\n",
       "    <tr style=\"text-align: right;\">\n",
       "      <th></th>\n",
       "      <th>Agency</th>\n",
       "      <th>State</th>\n",
       "      <th>Primary_UZA_Population</th>\n",
       "      <th>Total_Service_Vehicles</th>\n",
       "      <th>City</th>\n",
       "      <th>Fare_Revenues_per_Unlinked_Passenger_Trip</th>\n",
       "      <th>Fare_Revenues_per_Total_Operating_Expense_(Recovery_Ratio)</th>\n",
       "      <th>Fare_Revenues_Earned</th>\n",
       "    </tr>\n",
       "  </thead>\n",
       "  <tbody>\n",
       "    <tr>\n",
       "      <th>0</th>\n",
       "      <td>MTA New York City Transit</td>\n",
       "      <td>NY</td>\n",
       "      <td>18,351,295</td>\n",
       "      <td>2,297</td>\n",
       "      <td>New York</td>\n",
       "      <td>$1.34</td>\n",
       "      <td>0.70</td>\n",
       "      <td>$3,643,213,720</td>\n",
       "    </tr>\n",
       "  </tbody>\n",
       "</table>\n",
       "</div>"
      ],
      "text/plain": [
       "                      Agency State Primary_UZA_Population  \\\n",
       "0  MTA New York City Transit    NY             18,351,295   \n",
       "\n",
       "  Total_Service_Vehicles      City Fare_Revenues_per_Unlinked_Passenger_Trip  \\\n",
       "0                  2,297  New York                                    $1.34    \n",
       "\n",
       "  Fare_Revenues_per_Total_Operating_Expense_(Recovery_Ratio)  \\\n",
       "0                                              0.70            \n",
       "\n",
       "  Fare_Revenues_Earned  \n",
       "0      $3,643,213,720   "
      ]
     },
     "execution_count": 18,
     "metadata": {},
     "output_type": "execute_result"
    }
   ],
   "source": [
    "#dropping na \n",
    "merge1 = merge1.dropna()\n",
    "merge1.dropna(axis='columns').head(1)"
   ]
  },
  {
   "cell_type": "code",
   "execution_count": 19,
   "id": "07f72a73-a08b-48db-abc2-882220671e51",
   "metadata": {},
   "outputs": [
    {
     "name": "stdout",
     "output_type": "stream",
     "text": [
      "0\n"
     ]
    }
   ],
   "source": [
    "#making sure no nulls\n",
    "print(merge1.isnull().sum().sum())"
   ]
  },
  {
   "cell_type": "code",
   "execution_count": 20,
   "id": "35244172-219c-4f38-90c3-0c441416da0c",
   "metadata": {},
   "outputs": [
    {
     "name": "stdout",
     "output_type": "stream",
     "text": [
      "<class 'pandas.core.frame.DataFrame'>\n",
      "Int64Index: 788 entries, 0 to 787\n",
      "Data columns (total 8 columns):\n",
      " #   Column                                                      Non-Null Count  Dtype \n",
      "---  ------                                                      --------------  ----- \n",
      " 0   Agency                                                      788 non-null    object\n",
      " 1   State                                                       788 non-null    object\n",
      " 2   Primary_UZA_Population                                      788 non-null    object\n",
      " 3   Total_Service_Vehicles                                      788 non-null    object\n",
      " 4   City                                                        788 non-null    object\n",
      " 5   Fare_Revenues_per_Unlinked_Passenger_Trip                   788 non-null    object\n",
      " 6   Fare_Revenues_per_Total_Operating_Expense_(Recovery_Ratio)  788 non-null    object\n",
      " 7   Fare_Revenues_Earned                                        788 non-null    object\n",
      "dtypes: object(8)\n",
      "memory usage: 55.4+ KB\n"
     ]
    }
   ],
   "source": [
    "merge1.info()"
   ]
  },
  {
   "cell_type": "markdown",
   "id": "882a0ecd-de25-42b8-9a5e-f5b228fe5b80",
   "metadata": {
    "tags": []
   },
   "source": [
    "### HELP: \n",
    "\n",
    "<li>I tried to convert the Fare Revenues Recovery Ratio & Unliked Passenger Trip (columns 5 & 6) into the float data type but it gave me an error message. </li>\n",
    "<li> I tried to replace the (126346) in Fare Revnues all on one line, however I keep getting an error when  I try to convert it into an integer...\"invalid literal for int() with base 10: '(126346)'\", so I had to do it in a seperate cell below</li>"
   ]
  },
  {
   "cell_type": "code",
   "execution_count": 21,
   "id": "439f0878-a330-4741-8c55-bd6623978cee",
   "metadata": {
    "tags": []
   },
   "outputs": [],
   "source": [
    "merge1 = merge1.assign(\n",
    "    Agency = merge1.Agency.str.strip(),\n",
    "    Fare_Revenues_per_Unlinked_Passenger_Trip = merge1.Fare_Revenues_per_Unlinked_Passenger_Trip.str.strip().replace({'\\$':''}, regex=True),\n",
    "    City = merge1.City.str.strip(),\n",
    "    State = merge1.State.str.strip(),\n",
    "    Total_Service_Vehicles = merge1.Total_Service_Vehicles.str.strip().replace(',','', regex=True),\n",
    "    Fare_Revenues_Earned = merge1.Fare_Revenues_Earned.str.strip().replace('(126346)', '-126346').replace(',','',regex=True).replace({'\\$':''}, regex=True),\n",
    "    Primary_UZA_Population = merge1.Primary_UZA_Population.str.strip().replace(',','',regex = True)\n",
    ").astype({\n",
    "    \"Primary_UZA_Population\":int,\n",
    "    \"Total_Service_Vehicles\":int,\n",
    "}) "
   ]
  },
  {
   "cell_type": "code",
   "execution_count": 22,
   "id": "20ff8899-fc6a-4842-96e5-78d737a00195",
   "metadata": {},
   "outputs": [
    {
     "data": {
      "text/plain": [
       "Agency                                                        object\n",
       "State                                                         object\n",
       "Primary_UZA_Population                                         int64\n",
       "Total_Service_Vehicles                                         int64\n",
       "City                                                          object\n",
       "Fare_Revenues_per_Unlinked_Passenger_Trip                     object\n",
       "Fare_Revenues_per_Total_Operating_Expense_(Recovery_Ratio)    object\n",
       "Fare_Revenues_Earned                                           int64\n",
       "dtype: object"
      ]
     },
     "execution_count": 22,
     "metadata": {},
     "output_type": "execute_result"
    }
   ],
   "source": [
    "merge1[\"Fare_Revenues_Earned\"].replace({\"(126346)\": \"-126346\"}, inplace=True)\n",
    "merge1.astype({\"Fare_Revenues_Earned\": 'int64'}).dtypes"
   ]
  },
  {
   "cell_type": "code",
   "execution_count": 23,
   "id": "4c401aa8-c7e5-401b-8d16-da299fabfb4d",
   "metadata": {},
   "outputs": [
    {
     "data": {
      "text/html": [
       "<div>\n",
       "<style scoped>\n",
       "    .dataframe tbody tr th:only-of-type {\n",
       "        vertical-align: middle;\n",
       "    }\n",
       "\n",
       "    .dataframe tbody tr th {\n",
       "        vertical-align: top;\n",
       "    }\n",
       "\n",
       "    .dataframe thead th {\n",
       "        text-align: right;\n",
       "    }\n",
       "</style>\n",
       "<table border=\"1\" class=\"dataframe\">\n",
       "  <thead>\n",
       "    <tr style=\"text-align: right;\">\n",
       "      <th></th>\n",
       "      <th>Agency</th>\n",
       "      <th>State</th>\n",
       "      <th>Primary_UZA_Population</th>\n",
       "      <th>Total_Service_Vehicles</th>\n",
       "      <th>City</th>\n",
       "      <th>Fare_Revenues_per_Unlinked_Passenger_Trip</th>\n",
       "      <th>Fare_Revenues_per_Total_Operating_Expense_(Recovery_Ratio)</th>\n",
       "      <th>Fare_Revenues_Earned</th>\n",
       "    </tr>\n",
       "  </thead>\n",
       "  <tbody>\n",
       "    <tr>\n",
       "      <th>0</th>\n",
       "      <td>MTA New York City Transit</td>\n",
       "      <td>NY</td>\n",
       "      <td>18351295</td>\n",
       "      <td>2297</td>\n",
       "      <td>New York</td>\n",
       "      <td>1.34</td>\n",
       "      <td>0.70</td>\n",
       "      <td>3643213720</td>\n",
       "    </tr>\n",
       "    <tr>\n",
       "      <th>1</th>\n",
       "      <td>MTA New York City Transit</td>\n",
       "      <td>NY</td>\n",
       "      <td>18351295</td>\n",
       "      <td>2297</td>\n",
       "      <td>New York</td>\n",
       "      <td>6.66</td>\n",
       "      <td>0.32</td>\n",
       "      <td>76398352</td>\n",
       "    </tr>\n",
       "  </tbody>\n",
       "</table>\n",
       "</div>"
      ],
      "text/plain": [
       "                      Agency State  Primary_UZA_Population  \\\n",
       "0  MTA New York City Transit    NY                18351295   \n",
       "1  MTA New York City Transit    NY                18351295   \n",
       "\n",
       "   Total_Service_Vehicles      City Fare_Revenues_per_Unlinked_Passenger_Trip  \\\n",
       "0                    2297  New York                                      1.34   \n",
       "1                    2297  New York                                      6.66   \n",
       "\n",
       "  Fare_Revenues_per_Total_Operating_Expense_(Recovery_Ratio)  \\\n",
       "0                                              0.70            \n",
       "1                                              0.32            \n",
       "\n",
       "  Fare_Revenues_Earned  \n",
       "0           3643213720  \n",
       "1             76398352  "
      ]
     },
     "execution_count": 23,
     "metadata": {},
     "output_type": "execute_result"
    }
   ],
   "source": [
    "merge1.head(2)"
   ]
  },
  {
   "cell_type": "markdown",
   "id": "8ddb0cee-e7d9-4435-a0aa-741dd9a822b9",
   "metadata": {},
   "source": [
    "#### HELP: When I want to export a CSV, do I always do it in the Google Bucketes area?"
   ]
  },
  {
   "cell_type": "code",
   "execution_count": 24,
   "id": "6008ead5-0aa4-4a6a-845b-dc3a29beed6f",
   "metadata": {},
   "outputs": [],
   "source": [
    "merge1.to_csv(\"gs://calitp-analytics-data/data-analyses/merge1_csv.csv\")"
   ]
  },
  {
   "cell_type": "markdown",
   "id": "e5293556-509c-416e-8ad5-2dbf7331b94b",
   "metadata": {},
   "source": [
    "# Analyzing & Plotting\n",
    "---"
   ]
  },
  {
   "cell_type": "code",
   "execution_count": 25,
   "id": "44919fda-2b65-4312-ac8b-15a1c074b658",
   "metadata": {},
   "outputs": [
    {
     "data": {
      "text/html": [
       "<div>\n",
       "<style scoped>\n",
       "    .dataframe tbody tr th:only-of-type {\n",
       "        vertical-align: middle;\n",
       "    }\n",
       "\n",
       "    .dataframe tbody tr th {\n",
       "        vertical-align: top;\n",
       "    }\n",
       "\n",
       "    .dataframe thead th {\n",
       "        text-align: right;\n",
       "    }\n",
       "</style>\n",
       "<table border=\"1\" class=\"dataframe\">\n",
       "  <thead>\n",
       "    <tr style=\"text-align: right;\">\n",
       "      <th></th>\n",
       "      <th>State</th>\n",
       "      <th>Agency</th>\n",
       "      <th>Primary_UZA_Population</th>\n",
       "      <th>Total_Service_Vehicles</th>\n",
       "      <th>City</th>\n",
       "      <th>Fare_Revenues_Earned</th>\n",
       "    </tr>\n",
       "  </thead>\n",
       "  <tbody>\n",
       "    <tr>\n",
       "      <th>0</th>\n",
       "      <td>CA</td>\n",
       "      <td>436</td>\n",
       "      <td>1872380671</td>\n",
       "      <td>21260</td>\n",
       "      <td>436</td>\n",
       "      <td>3142657749970454298647818202921338498771558099...</td>\n",
       "    </tr>\n",
       "    <tr>\n",
       "      <th>1</th>\n",
       "      <td>ID</td>\n",
       "      <td>28</td>\n",
       "      <td>2240334</td>\n",
       "      <td>88</td>\n",
       "      <td>28</td>\n",
       "      <td>1011733838555107830469098986322257315793518480...</td>\n",
       "    </tr>\n",
       "    <tr>\n",
       "      <th>2</th>\n",
       "      <td>MS</td>\n",
       "      <td>29</td>\n",
       "      <td>1490516</td>\n",
       "      <td>42</td>\n",
       "      <td>29</td>\n",
       "      <td>5130186367552942469975600005732017978700195542...</td>\n",
       "    </tr>\n",
       "    <tr>\n",
       "      <th>3</th>\n",
       "      <td>NY</td>\n",
       "      <td>128</td>\n",
       "      <td>658118380</td>\n",
       "      <td>16683</td>\n",
       "      <td>128</td>\n",
       "      <td>3643213720763983528461117429781667324693006181...</td>\n",
       "    </tr>\n",
       "    <tr>\n",
       "      <th>4</th>\n",
       "      <td>TX</td>\n",
       "      <td>167</td>\n",
       "      <td>234448141</td>\n",
       "      <td>9560</td>\n",
       "      <td>167</td>\n",
       "      <td>4600559551428725780652636441447742381842477165...</td>\n",
       "    </tr>\n",
       "  </tbody>\n",
       "</table>\n",
       "</div>"
      ],
      "text/plain": [
       "  State  Agency  Primary_UZA_Population  Total_Service_Vehicles  City  \\\n",
       "0    CA     436              1872380671                   21260   436   \n",
       "1    ID      28                 2240334                      88    28   \n",
       "2    MS      29                 1490516                      42    29   \n",
       "3    NY     128               658118380                   16683   128   \n",
       "4    TX     167               234448141                    9560   167   \n",
       "\n",
       "                                Fare_Revenues_Earned  \n",
       "0  3142657749970454298647818202921338498771558099...  \n",
       "1  1011733838555107830469098986322257315793518480...  \n",
       "2  5130186367552942469975600005732017978700195542...  \n",
       "3  3643213720763983528461117429781667324693006181...  \n",
       "4  4600559551428725780652636441447742381842477165...  "
      ]
     },
     "execution_count": 25,
     "metadata": {},
     "output_type": "execute_result"
    }
   ],
   "source": [
    "analysis = merge1.groupby(['State']).agg({'Agency':'count', 'Primary_UZA_Population': 'sum', \n",
    "                                                 'Total_Service_Vehicles':'sum','City': 'count',\n",
    "                                         'Fare_Revenues_Earned': 'sum'}).reset_index()\n",
    "analysis.head()"
   ]
  },
  {
   "cell_type": "code",
   "execution_count": 26,
   "id": "6c1a30ba-645d-42c7-bb65-142b885c8d6c",
   "metadata": {},
   "outputs": [
    {
     "data": {
      "text/html": [
       "<div>\n",
       "<style scoped>\n",
       "    .dataframe tbody tr th:only-of-type {\n",
       "        vertical-align: middle;\n",
       "    }\n",
       "\n",
       "    .dataframe tbody tr th {\n",
       "        vertical-align: top;\n",
       "    }\n",
       "\n",
       "    .dataframe thead th {\n",
       "        text-align: right;\n",
       "    }\n",
       "</style>\n",
       "<table border=\"1\" class=\"dataframe\">\n",
       "  <thead>\n",
       "    <tr style=\"text-align: right;\">\n",
       "      <th></th>\n",
       "      <th>State</th>\n",
       "      <th>Agency</th>\n",
       "    </tr>\n",
       "  </thead>\n",
       "  <tbody>\n",
       "    <tr>\n",
       "      <th>0</th>\n",
       "      <td>CA</td>\n",
       "      <td>436</td>\n",
       "    </tr>\n",
       "    <tr>\n",
       "      <th>1</th>\n",
       "      <td>ID</td>\n",
       "      <td>28</td>\n",
       "    </tr>\n",
       "    <tr>\n",
       "      <th>2</th>\n",
       "      <td>MS</td>\n",
       "      <td>29</td>\n",
       "    </tr>\n",
       "    <tr>\n",
       "      <th>3</th>\n",
       "      <td>NY</td>\n",
       "      <td>128</td>\n",
       "    </tr>\n",
       "    <tr>\n",
       "      <th>4</th>\n",
       "      <td>TX</td>\n",
       "      <td>167</td>\n",
       "    </tr>\n",
       "  </tbody>\n",
       "</table>\n",
       "</div>"
      ],
      "text/plain": [
       "  State  Agency\n",
       "0    CA     436\n",
       "1    ID      28\n",
       "2    MS      29\n",
       "3    NY     128\n",
       "4    TX     167"
      ]
     },
     "execution_count": 26,
     "metadata": {},
     "output_type": "execute_result"
    }
   ],
   "source": [
    "agencies = merge1.groupby(['State']).agg({'Agency':'count'}).reset_index()\n",
    "agencies"
   ]
  },
  {
   "cell_type": "code",
   "execution_count": 27,
   "id": "e0f4a639-6691-4f79-9487-02093065fad4",
   "metadata": {},
   "outputs": [
    {
     "data": {
      "text/html": [
       "<div>\n",
       "<style scoped>\n",
       "    .dataframe tbody tr th:only-of-type {\n",
       "        vertical-align: middle;\n",
       "    }\n",
       "\n",
       "    .dataframe tbody tr th {\n",
       "        vertical-align: top;\n",
       "    }\n",
       "\n",
       "    .dataframe thead th {\n",
       "        text-align: right;\n",
       "    }\n",
       "</style>\n",
       "<table border=\"1\" class=\"dataframe\">\n",
       "  <thead>\n",
       "    <tr style=\"text-align: right;\">\n",
       "      <th></th>\n",
       "      <th>State</th>\n",
       "      <th>Primary_UZA_Population</th>\n",
       "    </tr>\n",
       "  </thead>\n",
       "  <tbody>\n",
       "    <tr>\n",
       "      <th>0</th>\n",
       "      <td>CA</td>\n",
       "      <td>1872380671</td>\n",
       "    </tr>\n",
       "    <tr>\n",
       "      <th>1</th>\n",
       "      <td>ID</td>\n",
       "      <td>2240334</td>\n",
       "    </tr>\n",
       "    <tr>\n",
       "      <th>2</th>\n",
       "      <td>MS</td>\n",
       "      <td>1490516</td>\n",
       "    </tr>\n",
       "    <tr>\n",
       "      <th>3</th>\n",
       "      <td>NY</td>\n",
       "      <td>658118380</td>\n",
       "    </tr>\n",
       "    <tr>\n",
       "      <th>4</th>\n",
       "      <td>TX</td>\n",
       "      <td>234448141</td>\n",
       "    </tr>\n",
       "  </tbody>\n",
       "</table>\n",
       "</div>"
      ],
      "text/plain": [
       "  State  Primary_UZA_Population\n",
       "0    CA              1872380671\n",
       "1    ID                 2240334\n",
       "2    MS                 1490516\n",
       "3    NY               658118380\n",
       "4    TX               234448141"
      ]
     },
     "execution_count": 27,
     "metadata": {},
     "output_type": "execute_result"
    }
   ],
   "source": [
    "pop = merge1.groupby(['State']).agg({'Primary_UZA_Population':'sum'}).reset_index()\n",
    "pop"
   ]
  },
  {
   "cell_type": "code",
   "execution_count": 33,
   "id": "e894be46-fa2d-4951-ad18-af2e7a17d14e",
   "metadata": {},
   "outputs": [
    {
     "data": {
      "text/html": [
       "<div>\n",
       "<style scoped>\n",
       "    .dataframe tbody tr th:only-of-type {\n",
       "        vertical-align: middle;\n",
       "    }\n",
       "\n",
       "    .dataframe tbody tr th {\n",
       "        vertical-align: top;\n",
       "    }\n",
       "\n",
       "    .dataframe thead th {\n",
       "        text-align: right;\n",
       "    }\n",
       "</style>\n",
       "<table border=\"1\" class=\"dataframe\">\n",
       "  <thead>\n",
       "    <tr style=\"text-align: right;\">\n",
       "      <th></th>\n",
       "      <th>State</th>\n",
       "      <th>Fare_Revenues_Earned</th>\n",
       "    </tr>\n",
       "  </thead>\n",
       "  <tbody>\n",
       "    <tr>\n",
       "      <th>0</th>\n",
       "      <td>CA</td>\n",
       "      <td>3142657749970454298647818202921338498771558099...</td>\n",
       "    </tr>\n",
       "    <tr>\n",
       "      <th>1</th>\n",
       "      <td>ID</td>\n",
       "      <td>1011733838555107830469098986322257315793518480...</td>\n",
       "    </tr>\n",
       "    <tr>\n",
       "      <th>2</th>\n",
       "      <td>MS</td>\n",
       "      <td>5130186367552942469975600005732017978700195542...</td>\n",
       "    </tr>\n",
       "    <tr>\n",
       "      <th>3</th>\n",
       "      <td>NY</td>\n",
       "      <td>3643213720763983528461117429781667324693006181...</td>\n",
       "    </tr>\n",
       "    <tr>\n",
       "      <th>4</th>\n",
       "      <td>TX</td>\n",
       "      <td>4600559551428725780652636441447742381842477165...</td>\n",
       "    </tr>\n",
       "  </tbody>\n",
       "</table>\n",
       "</div>"
      ],
      "text/plain": [
       "  State                               Fare_Revenues_Earned\n",
       "0    CA  3142657749970454298647818202921338498771558099...\n",
       "1    ID  1011733838555107830469098986322257315793518480...\n",
       "2    MS  5130186367552942469975600005732017978700195542...\n",
       "3    NY  3643213720763983528461117429781667324693006181...\n",
       "4    TX  4600559551428725780652636441447742381842477165..."
      ]
     },
     "execution_count": 33,
     "metadata": {},
     "output_type": "execute_result"
    }
   ],
   "source": [
    "fare = merge1.groupby(['State']).agg({'Fare_Revenues_Earned':'sum'}).reset_index()\n",
    "fare"
   ]
  },
  {
   "cell_type": "markdown",
   "id": "2f1044af-f3f7-41b8-95b1-7d009147bdcf",
   "metadata": {},
   "source": [
    "#### Per Capita Total Service Vehicles Measure Across 5 States"
   ]
  },
  {
   "cell_type": "code",
   "execution_count": null,
   "id": "9788c010-edf2-4b51-92ac-e3bf5898e9be",
   "metadata": {},
   "outputs": [
    {
     "data": {
      "text/html": [
       "<div>\n",
       "<style scoped>\n",
       "    .dataframe tbody tr th:only-of-type {\n",
       "        vertical-align: middle;\n",
       "    }\n",
       "\n",
       "    .dataframe tbody tr th {\n",
       "        vertical-align: top;\n",
       "    }\n",
       "\n",
       "    .dataframe thead th {\n",
       "        text-align: right;\n",
       "    }\n",
       "</style>\n",
       "<table border=\"1\" class=\"dataframe\">\n",
       "  <thead>\n",
       "    <tr style=\"text-align: right;\">\n",
       "      <th></th>\n",
       "      <th>index</th>\n",
       "      <th>State</th>\n",
       "      <th>Agency</th>\n",
       "      <th>Primary_UZA_Population</th>\n",
       "      <th>Total_Service_Vehicles</th>\n",
       "      <th>City</th>\n",
       "      <th>Fare_Revenues_Earned</th>\n",
       "      <th>Per_Capita_Service_Vehicles</th>\n",
       "    </tr>\n",
       "  </thead>\n",
       "  <tbody>\n",
       "    <tr>\n",
       "      <th>0</th>\n",
       "      <td>0</td>\n",
       "      <td>CA</td>\n",
       "      <td>436</td>\n",
       "      <td>1872380671</td>\n",
       "      <td>21260</td>\n",
       "      <td>436</td>\n",
       "      <td>3142657749970454298647818202921338498771558099...</td>\n",
       "      <td>1.135453</td>\n",
       "    </tr>\n",
       "    <tr>\n",
       "      <th>1</th>\n",
       "      <td>1</td>\n",
       "      <td>ID</td>\n",
       "      <td>28</td>\n",
       "      <td>2240334</td>\n",
       "      <td>88</td>\n",
       "      <td>28</td>\n",
       "      <td>1011733838555107830469098986322257315793518480...</td>\n",
       "      <td>3.927986</td>\n",
       "    </tr>\n",
       "    <tr>\n",
       "      <th>2</th>\n",
       "      <td>2</td>\n",
       "      <td>MS</td>\n",
       "      <td>29</td>\n",
       "      <td>1490516</td>\n",
       "      <td>42</td>\n",
       "      <td>29</td>\n",
       "      <td>5130186367552942469975600005732017978700195542...</td>\n",
       "      <td>2.817816</td>\n",
       "    </tr>\n",
       "    <tr>\n",
       "      <th>3</th>\n",
       "      <td>3</td>\n",
       "      <td>NY</td>\n",
       "      <td>128</td>\n",
       "      <td>658118380</td>\n",
       "      <td>16683</td>\n",
       "      <td>128</td>\n",
       "      <td>3643213720763983528461117429781667324693006181...</td>\n",
       "      <td>2.534954</td>\n",
       "    </tr>\n",
       "    <tr>\n",
       "      <th>4</th>\n",
       "      <td>4</td>\n",
       "      <td>TX</td>\n",
       "      <td>167</td>\n",
       "      <td>234448141</td>\n",
       "      <td>9560</td>\n",
       "      <td>167</td>\n",
       "      <td>4600559551428725780652636441447742381842477165...</td>\n",
       "      <td>4.077661</td>\n",
       "    </tr>\n",
       "  </tbody>\n",
       "</table>\n",
       "</div>"
      ],
      "text/plain": [
       "   index State  Agency  Primary_UZA_Population  Total_Service_Vehicles  City  \\\n",
       "0      0    CA     436              1872380671                   21260   436   \n",
       "1      1    ID      28                 2240334                      88    28   \n",
       "2      2    MS      29                 1490516                      42    29   \n",
       "3      3    NY     128               658118380                   16683   128   \n",
       "4      4    TX     167               234448141                    9560   167   \n",
       "\n",
       "                                Fare_Revenues_Earned  \\\n",
       "0  3142657749970454298647818202921338498771558099...   \n",
       "1  1011733838555107830469098986322257315793518480...   \n",
       "2  5130186367552942469975600005732017978700195542...   \n",
       "3  3643213720763983528461117429781667324693006181...   \n",
       "4  4600559551428725780652636441447742381842477165...   \n",
       "\n",
       "   Per_Capita_Service_Vehicles  \n",
       "0                     1.135453  \n",
       "1                     3.927986  \n",
       "2                     2.817816  \n",
       "3                     2.534954  \n",
       "4                     4.077661  "
      ]
     },
     "execution_count": 28,
     "metadata": {},
     "output_type": "execute_result"
    }
   ],
   "source": [
    "per_capita = analysis.assign(Per_Capita_Service_Vehicles = lambda x: (x.Total_Service_Vehicles / x.Primary_UZA_Population)*100000  ).reset_index()\n",
    "per_capita"
   ]
  },
  {
   "cell_type": "markdown",
   "id": "2b017273-8e7a-44ec-9258-4e70019da8ea",
   "metadata": {},
   "source": [
    "### QUESTION: Why do you have to specify importing from shared_utils import altair_utils  again when at the top, I wrote \"import shared_utils\""
   ]
  },
  {
   "cell_type": "code",
   "execution_count": 41,
   "id": "71fe0999-c43c-4a6b-ad96-ca4312307970",
   "metadata": {},
   "outputs": [],
   "source": [
    "from plotnine import *\n",
    "import altair as alt\n",
    "import altair_saver\n",
    "from shared_utils import altair_utils "
   ]
  },
  {
   "cell_type": "code",
   "execution_count": 66,
   "id": "decaccf2-4f6b-4b35-be0a-18710a625b07",
   "metadata": {},
   "outputs": [
    {
     "data": {
      "image/png": "[encoded data removed]",
      "text/plain": [
       "<Figure size 640x480 with 1 Axes>"
      ]
     },
     "metadata": {},
     "output_type": "display_data"
    },
    {
     "data": {
      "text/plain": [
       "<ggplot: (8758506026430)>"
      ]
     },
     "execution_count": 66,
     "metadata": {},
     "output_type": "execute_result"
    }
   ],
   "source": [
    "(ggplot(per_capita, aes('State', 'Per_Capita_Service_Vehicles', shape='State', size=3, color= 'Per_Capita_Service_Vehicles'))\n",
    " + geom_point()) + labs(title = \"Per Capita Service Vehicles by State\", y = \"Per Capita Service Vehicles\", x = \"State\") + scale_color_gradient(low=\"lightgreen\",high=\"darkgreen\")"
   ]
  },
  {
   "cell_type": "code",
   "execution_count": 53,
   "id": "a6df5618-e84f-4ab2-886b-35439bb5c010",
   "metadata": {},
   "outputs": [
    {
     "data": {
      "text/html": [
       "\n",
       "<div id=\"altair-viz-ca7030e21aa8452ca1989dccab0305c5\"></div>\n",
       "<script type=\"text/javascript\">\n",
       "  (function(spec, embedOpt){\n",
       "    let outputDiv = document.currentScript.previousElementSibling;\n",
       "    if (outputDiv.id !== \"altair-viz-ca7030e21aa8452ca1989dccab0305c5\") {\n",
       "      outputDiv = document.getElementById(\"altair-viz-ca7030e21aa8452ca1989dccab0305c5\");\n",
       "    }\n",
       "    const paths = {\n",
       "      \"vega\": \"https://cdn.jsdelivr.net/npm//vega@5?noext\",\n",
       "      \"vega-lib\": \"https://cdn.jsdelivr.net/npm//vega-lib?noext\",\n",
       "      \"vega-lite\": \"https://cdn.jsdelivr.net/npm//vega-lite@4.8.1?noext\",\n",
       "      \"vega-embed\": \"https://cdn.jsdelivr.net/npm//vega-embed@6?noext\",\n",
       "    };\n",
       "\n",
       "    function loadScript(lib) {\n",
       "      return new Promise(function(resolve, reject) {\n",
       "        var s = document.createElement('script');\n",
       "        s.src = paths[lib];\n",
       "        s.async = true;\n",
       "        s.onload = () => resolve(paths[lib]);\n",
       "        s.onerror = () => reject(`Error loading script: ${paths[lib]}`);\n",
       "        document.getElementsByTagName(\"head\")[0].appendChild(s);\n",
       "      });\n",
       "    }\n",
       "\n",
       "    function showError(err) {\n",
       "      outputDiv.innerHTML = `<div class=\"error\" style=\"color:red;\">${err}</div>`;\n",
       "      throw err;\n",
       "    }\n",
       "\n",
       "    function displayChart(vegaEmbed) {\n",
       "      vegaEmbed(outputDiv, spec, embedOpt)\n",
       "        .catch(err => showError(`Javascript Error: ${err.message}<br>This usually means there's a typo in your chart specification. See the javascript console for the full traceback.`));\n",
       "    }\n",
       "\n",
       "    if(typeof define === \"function\" && define.amd) {\n",
       "      requirejs.config({paths});\n",
       "      require([\"vega-embed\"], displayChart, err => showError(`Error loading script: ${err.message}`));\n",
       "    } else if (typeof vegaEmbed === \"function\") {\n",
       "      displayChart(vegaEmbed);\n",
       "    } else {\n",
       "      loadScript(\"vega\")\n",
       "        .then(() => loadScript(\"vega-lite\"))\n",
       "        .then(() => loadScript(\"vega-embed\"))\n",
       "        .catch(showError)\n",
       "        .then(() => displayChart(vegaEmbed));\n",
       "    }\n",
       "  })({\"usermeta\": {\"embedOptions\": {\"theme\": \"fivethirtyeight\"}}, \"config\": {\"view\": {\"continuousWidth\": 400, \"continuousHeight\": 300}, \"axis\": {\"domainColor\": \"#cbcbcb\", \"grid\": true, \"gridColor\": \"#cbcbcb\", \"gridWidth\": 1, \"labelColor\": \"#999\", \"labelFont\": \"Arial\", \"labelFontSize\": 10, \"labelPadding\": 4, \"tickColor\": \"#cbcbcb\", \"tickSize\": 10, \"titleColor\": \"#333\", \"titleFont\": \"Arial\", \"titleFontSize\": 14, \"titlePadding\": 10}, \"axisBand\": {\"grid\": false}, \"background\": \"white\", \"font\": \"Arial\", \"header\": {\"labelFont\": \"Arial\", \"titleFont\": \"Arial\"}, \"legend\": {\"labelColor\": \"#333\", \"labelFont\": \"Arial\", \"labelFontSize\": 11, \"labelLimit\": 0, \"padding\": 1, \"symbolSize\": 30, \"symbolType\": \"square\", \"titleColor\": \"#333\", \"titleFont\": \"Arial\", \"titleFontSize\": 14, \"titlePadding\": 10}, \"title\": {\"anchor\": \"middle\", \"font\": \"Arial\", \"fontSize\": 16, \"fontWeight\": 300, \"offset\": 20}}, \"data\": {\"name\": \"data-9ca33fc1e02b7b877cbcdca77e2bdb74\"}, \"mark\": \"bar\", \"encoding\": {\"color\": {\"type\": \"nominal\", \"field\": \"State\", \"scale\": {\"range\": [\"#cc0020\", \"#e77866\", \"#f6e7e1\", \"#d6e8ed\", \"#91bfd9\", \"#1d78b5\"]}}, \"column\": {\"type\": \"quantitative\", \"field\": \"City\"}, \"x\": {\"type\": \"nominal\", \"field\": \"State\", \"title\": \"State\"}, \"y\": {\"type\": \"quantitative\", \"field\": \"Total_Service_Vehicles\", \"title\": \"Total Service Vehicles\"}}, \"height\": 100, \"title\": \"Total Service Vehicles by State\", \"width\": 250, \"$schema\": \"https://vega.github.io/schema/vega-lite/v4.8.1.json\", \"datasets\": {\"data-9ca33fc1e02b7b877cbcdca77e2bdb74\": [{\"State\": \"CA\", \"Agency\": 436, \"Primary_UZA_Population\": 1872380671, \"Total_Service_Vehicles\": 21260, \"City\": 436, \"Fare_Revenues_Earned\": \"31426577499704542986478182029213384987715580993501318605295672178882943813516030111243017136104534360948373758734637024490634582281738822295392541511084238240085252204135611727212784822718557420055251064270562359012414612767278743886707211198343418872457399397269005231888493686544698656455038104687676359374634255913002961125975837581181425791283756832887587981527378967477745054015934814285101607959643483827051986076362900698120354311249391326806213423681468001178422127020657168825394547672601313862318111413768137902896387282152185326496640598020212752150954140173284332118532081012962410102668114138618133992415037372727913093741133162181999424686622363934224789421386051973989380797877195285841154949616930331642762536138329938716709816762833868551948341821281133786212650144367117253926354902070774120312433467517518732041351694562432212960524651425079438728526203642122339944195367157513822944398522431343237391139175653712941952112583517738219031513372631136422350721135302089147112254716861433233121174431716229089342749389629072715526278544377129588327148681373392835886748601834215009575141225091725582921023813147871133376037601539183163333780916062983956813869295136351275227104565965789572028720465067905690461704982493734824083307268752551251338761246966177096494763822564150225544628980492531773967361496543968912563498806231817494471092985164371510912617183285874984527804113755160114546499440478591990711841873746391399580267779668333333299610114474430217023256589610831971059391861713518342594276683653774608639476476006396027812979354469701268762325128776613923199070199691273003128671550896091753969213440070306120919643865843890792307554353237290146951126794123343160541897868091345901108065117216988738275462662054776270332335314680011310590602570117126652613984841179086973576306165350621926099125684055499369552414722434950391925785040945408879737905110910255921832953168870202544317584232797372821411300408986760811735035271623083919164218196039654124691550677063813534586341038473560200379992170148704017915233475206193085820472388357562016051571461804602522105664100263311812327159035079033384464981090721830642594267856277117797622020276501704132039637632543571778900005957510319661519699264242500653943236283187132215149884068720239210373638245701136672574831839375690338880870417760270202973143351086835263326387834185912106124349394662985201289641619\"}, {\"State\": \"ID\", \"Agency\": 28, \"Primary_UZA_Population\": 2240334, \"Total_Service_Vehicles\": 88, \"City\": 28, \"Fare_Revenues_Earned\": \"101173383855510783046909898632225731579351848040322142947200132070022950008257346330157783233712900\"}, {\"State\": \"MS\", \"Agency\": 29, \"Primary_UZA_Population\": 1490516, \"Total_Service_Vehicles\": 42, \"City\": 29, \"Fare_Revenues_Earned\": \"5130186367552942469975600005732017978700195542814553649777814851091545512300173423151114124076143352258524614136101479250451535634\"}, {\"State\": \"NY\", \"Agency\": 128, \"Primary_UZA_Population\": 658118380, \"Total_Service_Vehicles\": 16683, \"City\": 128, \"Fare_Revenues_Earned\": \"36432137207639835284611174297816673246930061818623647075667807522481159576891768161875729936218495520514163054593443617457511828173950041623637085691062242608222217197079433465293630354226139757621625779345339227423141270932446984843487547441438056238958214222921230481310981143736506648485089489143961225798676390601388227401985346812322366561599377286021178921914651319320017582613331623804837512451228876891617041811136815725826823246073187611862684119737-126346176857159919039207312184124675119067415118103449084685734447364782063260600208320154294797417249210498897406916318925161106922991156786179832544339394020621644100461242999762089994638363711703557351123252292204088018080128121422411499368299325119981166234630110108517\"}, {\"State\": \"TX\", \"Agency\": 167, \"Primary_UZA_Population\": 234448141, \"Total_Service_Vehicles\": 9560, \"City\": 167, \"Fare_Revenues_Earned\": \"460055955142872578065263644144774238184247716597557318088306473278190826015720592334680413919759890796288018488621253069694794795480221138391640959919665707495501526429593957715809034606036451265779006539564845172744686334315074532346232630991151157987442834124940957523351843673497410123196016099044841402750761581822474127386517969360061244002421481532161225734212455045156222131965221723402696336107762271221370009761869006284993817135641288083107459911426614511966540003557472117725719369332321096066638967206758170713626139353924583026760443329796916559711901433267173575621398939803124692226431117819275922245547706428143576040429095041062472108566645047395674103089378127527503552496451037971058247470383610463383805181166170008574101275584331535663303401991817847631180551888910599533388902288031437434351790138415310113764431791934282342027705231828511055286949\"}]}}, {\"mode\": \"vega-lite\"});\n",
       "</script>"
      ],
      "text/plain": [
       "alt.Chart(...)"
      ]
     },
     "execution_count": 53,
     "metadata": {},
     "output_type": "execute_result"
    }
   ],
   "source": [
    "alt.themes.enable(\"fivethirtyeight\")\n",
    "\n",
    "chart = (alt.Chart(analysis)\n",
    "         .mark_bar()\n",
    "         .encode(\n",
    "             x=alt.X(\"State\", title=\"State\"),\n",
    "             y=alt.Y(\"Total_Service_Vehicles\", title=\"Total Service Vehicles\"),\n",
    "             column = \"City\",\n",
    "             color = alt.Color(\"State\", \n",
    "                              scale=alt.Scale(\n",
    "                                  range=altair_utils.FIVETHIRTYEIGHT_DIVERGING_COLORS\n",
    "                              )\n",
    "                              )\n",
    "         )\n",
    ")\n",
    "\n",
    "chart = (altair_utils.preset_chart_config(chart)\n",
    "         # Add further tweaks to configuration after\n",
    "         .properties(width = 250, height =100, \n",
    "                     title=\"Total Service Vehicles by State\")\n",
    "        )\n",
    "\n",
    "chart"
   ]
  }
 ],
 "metadata": {
  "kernelspec": {
   "display_name": "Python 3 (ipykernel)",
   "language": "python",
   "name": "python3"
  },
  "language_info": {
   "codemirror_mode": {
    "name": "ipython",
    "version": 3
   },
   "file_extension": ".py",
   "mimetype": "text/x-python",
   "name": "python",
   "nbconvert_exporter": "python",
   "pygments_lexer": "ipython3",
   "version": "3.9.7"
  }
 },
 "nbformat": 4,
 "nbformat_minor": 5
}
