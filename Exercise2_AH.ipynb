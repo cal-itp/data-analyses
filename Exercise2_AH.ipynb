{
 "cells": [
  {
   "cell_type": "markdown",
   "id": "3dc90996-2d34-4b1a-a07b-12ce83f5f376",
   "metadata": {},
   "source": [
    "# Exercise 2 Data Cleaning\n",
    "---"
   ]
  },
  {
   "cell_type": "markdown",
   "id": "1a2d1098-5181-4bad-99cc-0bb7129022c0",
   "metadata": {},
   "source": [
    "### Download Packages "
   ]
  },
  {
   "cell_type": "code",
   "execution_count": 1,
   "id": "e84b3e44-43e1-4a3c-965f-49435794a5e5",
   "metadata": {},
   "outputs": [
    {
     "name": "stderr",
     "output_type": "stream",
     "text": [
      "/opt/conda/lib/python3.9/site-packages/geopandas/_compat.py:111: UserWarning: The Shapely GEOS version (3.9.1-CAPI-1.14.2) is incompatible with the GEOS version PyGEOS was compiled with (3.10.1-CAPI-1.16.0). Conversions between both will be slow.\n",
      "  warnings.warn(\n"
     ]
    }
   ],
   "source": [
    "import pandas as pd\n",
    "import numpy as np\n",
    "import shared_utils"
   ]
  },
  {
   "cell_type": "markdown",
   "id": "c9f58877-2b37-4cd4-bb50-a1b169c2b86e",
   "metadata": {},
   "source": [
    "### Read in Files"
   ]
  },
  {
   "cell_type": "code",
   "execution_count": 2,
   "id": "4053066b-2b78-417c-ae58-ac69e6869f00",
   "metadata": {},
   "outputs": [],
   "source": [
    "GCS_FILE_PATH = \"gs://calitp-analytics-data/data-analyses/bus_service_increase/\"\n",
    "FILE_NAME = \"ntd_metrics_2019.csv\"\n",
    "df_metrics = pd.read_csv(f\"{GCS_FILE_PATH}{FILE_NAME}\")"
   ]
  },
  {
   "cell_type": "code",
   "execution_count": 3,
   "id": "09c94557-d9d2-4fdd-8fd7-3738c587dc3c",
   "metadata": {
    "scrolled": true,
    "tags": []
   },
   "outputs": [
    {
     "data": {
      "text/plain": [
       "['Agency',\n",
       " 'City',\n",
       " 'State',\n",
       " 'Legacy NTD ID',\n",
       " 'NTD ID',\n",
       " 'Organization Type',\n",
       " 'Reporter Type',\n",
       " 'Primary UZA\\n Population',\n",
       " 'Agency VOMS',\n",
       " 'Mode',\n",
       " 'TOS',\n",
       " 'Mode VOMS',\n",
       " 'Ratios:',\n",
       " 'Fare Revenues per Unlinked Passenger Trip ',\n",
       " 'Fare Revenues per Unlinked Passenger Trip Questionable',\n",
       " 'Fare Revenues per Total Operating Expense (Recovery Ratio)',\n",
       " 'Fare Revenues per Total Operating Expense (Recovery Ratio) Questionable',\n",
       " 'Cost per\\n Hour',\n",
       " 'Cost per Hour Questionable',\n",
       " 'Passengers per Hour',\n",
       " 'Passengers per Hour Questionable',\n",
       " 'Cost per Passenger',\n",
       " 'Cost per Passenger Questionable',\n",
       " 'Cost per Passenger Mile',\n",
       " 'Cost per Passenger Mile Questionable',\n",
       " 'Source Data:',\n",
       " 'Fare Revenues Earned',\n",
       " 'Fare Revenues Earned Questionable',\n",
       " 'Total Operating Expenses',\n",
       " 'Total Operating Expenses Questionable',\n",
       " 'Unlinked Passenger Trips',\n",
       " 'Unlinked Passenger Trips Questionable',\n",
       " 'Vehicle Revenue Hours',\n",
       " 'Vehicle Revenue Hours Questionable',\n",
       " 'Passenger Miles',\n",
       " 'Passenger Miles Questionable',\n",
       " 'Vehicle Revenue Miles',\n",
       " 'Vehicle Revenue Miles Questionable',\n",
       " 'Any data questionable?',\n",
       " 'Unnamed: 39',\n",
       " 'Unnamed: 40',\n",
       " 'Unnamed: 41',\n",
       " '1',\n",
       " 'Unnamed: 43',\n",
       " 'Unnamed: 44']"
      ]
     },
     "execution_count": 3,
     "metadata": {},
     "output_type": "execute_result"
    }
   ],
   "source": [
    "#List out columns to see if there are any trailing spaces and whatnot \n",
    "list(df_metrics.columns)"
   ]
  },
  {
   "cell_type": "markdown",
   "id": "8ecc6c5f-eca8-47e6-b936-7f57e4dc2fb6",
   "metadata": {},
   "source": [
    "#### Loading Metrics  dataset"
   ]
  },
  {
   "cell_type": "code",
   "execution_count": 4,
   "id": "e88816c1-523a-4c04-ba5e-a48ebfd9f5d0",
   "metadata": {},
   "outputs": [],
   "source": [
    "df_metrics = df_metrics[[\"Agency\", \"City\",\"State\",\"Fare Revenues per Unlinked Passenger Trip \", \"Unlinked Passenger Trips\", \"Fare Revenues per Total Operating Expense (Recovery Ratio)\", \"Fare Revenues Earned\"]]"
   ]
  },
  {
   "cell_type": "code",
   "execution_count": 5,
   "id": "987d1627-e16a-4856-8b8f-7a93ea5b6485",
   "metadata": {},
   "outputs": [
    {
     "data": {
      "text/html": [
       "<div>\n",
       "<style scoped>\n",
       "    .dataframe tbody tr th:only-of-type {\n",
       "        vertical-align: middle;\n",
       "    }\n",
       "\n",
       "    .dataframe tbody tr th {\n",
       "        vertical-align: top;\n",
       "    }\n",
       "\n",
       "    .dataframe thead th {\n",
       "        text-align: right;\n",
       "    }\n",
       "</style>\n",
       "<table border=\"1\" class=\"dataframe\">\n",
       "  <thead>\n",
       "    <tr style=\"text-align: right;\">\n",
       "      <th></th>\n",
       "      <th>Agency</th>\n",
       "      <th>City</th>\n",
       "      <th>State</th>\n",
       "      <th>Fare Revenues per Unlinked Passenger Trip</th>\n",
       "      <th>Unlinked Passenger Trips</th>\n",
       "      <th>Fare Revenues per Total Operating Expense (Recovery Ratio)</th>\n",
       "      <th>Fare Revenues Earned</th>\n",
       "    </tr>\n",
       "  </thead>\n",
       "  <tbody>\n",
       "    <tr>\n",
       "      <th>0</th>\n",
       "      <td>MTA New York City Transit</td>\n",
       "      <td>New York</td>\n",
       "      <td>NY</td>\n",
       "      <td>$1.34</td>\n",
       "      <td>2,712,521,697</td>\n",
       "      <td>0.70</td>\n",
       "      <td>$3,643,213,720</td>\n",
       "    </tr>\n",
       "    <tr>\n",
       "      <th>1</th>\n",
       "      <td>MTA New York City Transit</td>\n",
       "      <td>New York</td>\n",
       "      <td>NY</td>\n",
       "      <td>$6.66</td>\n",
       "      <td>11,477,164</td>\n",
       "      <td>0.32</td>\n",
       "      <td>$76,398,352</td>\n",
       "    </tr>\n",
       "  </tbody>\n",
       "</table>\n",
       "</div>"
      ],
      "text/plain": [
       "                      Agency      City State  \\\n",
       "0  MTA New York City Transit  New York    NY   \n",
       "1  MTA New York City Transit  New York    NY   \n",
       "\n",
       "  Fare Revenues per Unlinked Passenger Trip  Unlinked Passenger Trips  \\\n",
       "0                                     $1.34            2,712,521,697    \n",
       "1                                     $6.66               11,477,164    \n",
       "\n",
       "  Fare Revenues per Total Operating Expense (Recovery Ratio)  \\\n",
       "0                                              0.70            \n",
       "1                                              0.32            \n",
       "\n",
       "  Fare Revenues Earned  \n",
       "0      $3,643,213,720   \n",
       "1         $76,398,352   "
      ]
     },
     "execution_count": 5,
     "metadata": {},
     "output_type": "execute_result"
    }
   ],
   "source": [
    "df_metrics.head(2)"
   ]
  },
  {
   "cell_type": "markdown",
   "id": "cf99d41f-93d7-46b1-bb92-645ad368ee35",
   "metadata": {},
   "source": [
    "#### Loading Vehicle dataset"
   ]
  },
  {
   "cell_type": "code",
   "execution_count": 6,
   "id": "393fefa0-d9be-4d94-a782-48393a71da68",
   "metadata": {},
   "outputs": [],
   "source": [
    "FILE_TWO = \"ntd_vehicles_2019.csv\"\n",
    "df_vehicles = pd.read_csv(f\"{GCS_FILE_PATH}{FILE_TWO}\")"
   ]
  },
  {
   "cell_type": "code",
   "execution_count": 7,
   "id": "ffb4b94a-d77a-4fff-8453-3ba32e0ffca9",
   "metadata": {},
   "outputs": [],
   "source": [
    "df_vehicles = df_vehicles.iloc[:, [0,2,5,6,7,93]]"
   ]
  },
  {
   "cell_type": "code",
   "execution_count": 8,
   "id": "00ef0b1c-606f-4689-b930-17f2376562b3",
   "metadata": {},
   "outputs": [
    {
     "name": "stdout",
     "output_type": "stream",
     "text": [
      "<class 'pandas.core.frame.DataFrame'>\n",
      "RangeIndex: 2775 entries, 0 to 2774\n",
      "Data columns (total 6 columns):\n",
      " #   Column                  Non-Null Count  Dtype \n",
      "---  ------                  --------------  ----- \n",
      " 0   Agency                  2775 non-null   object\n",
      " 1   State                   2775 non-null   object\n",
      " 2   Organization Type       2775 non-null   object\n",
      " 3   Reporter Type           2775 non-null   object\n",
      " 4   Primary UZA Population  2775 non-null   object\n",
      " 5   Total Service Vehicles  2775 non-null   object\n",
      "dtypes: object(6)\n",
      "memory usage: 130.2+ KB\n"
     ]
    }
   ],
   "source": [
    "df_vehicles.info()"
   ]
  },
  {
   "cell_type": "markdown",
   "id": "35b6e319-f33e-4c48-8926-dbd6ea6625c4",
   "metadata": {},
   "source": [
    "### Subsetting for only states of interest\n"
   ]
  },
  {
   "cell_type": "code",
   "execution_count": 9,
   "id": "52313ecc-136b-4048-a2d9-b9614a117d1f",
   "metadata": {},
   "outputs": [],
   "source": [
    "#keeping only the states of interest \n",
    "states_to_keep = [\"CA\", \"NY\", \"TX\", \"ID\", \"MS\"]\n",
    "df_vehicles = df_vehicles[df_vehicles.State.isin(states_to_keep)]"
   ]
  },
  {
   "cell_type": "code",
   "execution_count": 10,
   "id": "f9e2627a-fde7-48bb-87f0-8869c4c3047d",
   "metadata": {},
   "outputs": [
    {
     "data": {
      "text/plain": [
       "['NY', 'CA', 'TX', 'ID', 'MS']"
      ]
     },
     "execution_count": 10,
     "metadata": {},
     "output_type": "execute_result"
    }
   ],
   "source": [
    "#checking that I filtered everything correct \n",
    "df_vehicles['State'].unique().tolist()"
   ]
  },
  {
   "cell_type": "markdown",
   "id": "0339dadc-fc00-4d11-893b-26b98e9918dd",
   "metadata": {},
   "source": [
    "### Merging the data with an inner join"
   ]
  },
  {
   "cell_type": "code",
   "execution_count": 11,
   "id": "de915949-fddf-40f4-87e9-7865907e26f3",
   "metadata": {},
   "outputs": [],
   "source": [
    "merge1 = df_vehicles.merge(df_metrics, how = \"inner\", on = [\"Agency\", \"State\"])\n"
   ]
  },
  {
   "cell_type": "code",
   "execution_count": 12,
   "id": "7cc11cf8-6f3c-4b99-b1bd-cb0e1098aec3",
   "metadata": {},
   "outputs": [
    {
     "data": {
      "text/plain": [
       "CA    436\n",
       "TX    167\n",
       "NY    128\n",
       "MS     29\n",
       "ID     28\n",
       "Name: State, dtype: int64"
      ]
     },
     "execution_count": 12,
     "metadata": {},
     "output_type": "execute_result"
    }
   ],
   "source": [
    "merge1.State.value_counts()"
   ]
  },
  {
   "cell_type": "code",
   "execution_count": 13,
   "id": "669f234e-fe70-4d11-8b75-61f717fd8e53",
   "metadata": {},
   "outputs": [
    {
     "data": {
      "text/html": [
       "<div>\n",
       "<style scoped>\n",
       "    .dataframe tbody tr th:only-of-type {\n",
       "        vertical-align: middle;\n",
       "    }\n",
       "\n",
       "    .dataframe tbody tr th {\n",
       "        vertical-align: top;\n",
       "    }\n",
       "\n",
       "    .dataframe thead th {\n",
       "        text-align: right;\n",
       "    }\n",
       "</style>\n",
       "<table border=\"1\" class=\"dataframe\">\n",
       "  <thead>\n",
       "    <tr style=\"text-align: right;\">\n",
       "      <th></th>\n",
       "      <th>Agency</th>\n",
       "      <th>State</th>\n",
       "      <th>Organization Type</th>\n",
       "      <th>Reporter Type</th>\n",
       "      <th>Primary UZA Population</th>\n",
       "      <th>Total Service Vehicles</th>\n",
       "      <th>City</th>\n",
       "      <th>Fare Revenues per Unlinked Passenger Trip</th>\n",
       "      <th>Unlinked Passenger Trips</th>\n",
       "      <th>Fare Revenues per Total Operating Expense (Recovery Ratio)</th>\n",
       "      <th>Fare Revenues Earned</th>\n",
       "    </tr>\n",
       "  </thead>\n",
       "  <tbody>\n",
       "    <tr>\n",
       "      <th>0</th>\n",
       "      <td>MTA New York City Transit</td>\n",
       "      <td>NY</td>\n",
       "      <td>Subsidiary Unit of a Transit Agency, Reporting...</td>\n",
       "      <td>Full Reporter</td>\n",
       "      <td>18,351,295</td>\n",
       "      <td>2,297</td>\n",
       "      <td>New York</td>\n",
       "      <td>$1.34</td>\n",
       "      <td>2,712,521,697</td>\n",
       "      <td>0.70</td>\n",
       "      <td>$3,643,213,720</td>\n",
       "    </tr>\n",
       "    <tr>\n",
       "      <th>1</th>\n",
       "      <td>MTA New York City Transit</td>\n",
       "      <td>NY</td>\n",
       "      <td>Subsidiary Unit of a Transit Agency, Reporting...</td>\n",
       "      <td>Full Reporter</td>\n",
       "      <td>18,351,295</td>\n",
       "      <td>2,297</td>\n",
       "      <td>New York</td>\n",
       "      <td>$6.66</td>\n",
       "      <td>11,477,164</td>\n",
       "      <td>0.32</td>\n",
       "      <td>$76,398,352</td>\n",
       "    </tr>\n",
       "  </tbody>\n",
       "</table>\n",
       "</div>"
      ],
      "text/plain": [
       "                      Agency State  \\\n",
       "0  MTA New York City Transit    NY   \n",
       "1  MTA New York City Transit    NY   \n",
       "\n",
       "                                   Organization Type  Reporter Type  \\\n",
       "0  Subsidiary Unit of a Transit Agency, Reporting...  Full Reporter   \n",
       "1  Subsidiary Unit of a Transit Agency, Reporting...  Full Reporter   \n",
       "\n",
       "  Primary UZA Population Total Service Vehicles      City  \\\n",
       "0             18,351,295                  2,297  New York   \n",
       "1             18,351,295                  2,297  New York   \n",
       "\n",
       "  Fare Revenues per Unlinked Passenger Trip  Unlinked Passenger Trips  \\\n",
       "0                                     $1.34            2,712,521,697    \n",
       "1                                     $6.66               11,477,164    \n",
       "\n",
       "  Fare Revenues per Total Operating Expense (Recovery Ratio)  \\\n",
       "0                                              0.70            \n",
       "1                                              0.32            \n",
       "\n",
       "  Fare Revenues Earned  \n",
       "0      $3,643,213,720   \n",
       "1         $76,398,352   "
      ]
     },
     "execution_count": 13,
     "metadata": {},
     "output_type": "execute_result"
    }
   ],
   "source": [
    "merge1.head(2)"
   ]
  },
  {
   "cell_type": "markdown",
   "id": "fbd3aefc-281d-4a9a-b417-fce494b9a5fc",
   "metadata": {},
   "source": [
    "### Cleaning up the files to remove (), commas, $, and blanks"
   ]
  },
  {
   "cell_type": "code",
   "execution_count": 14,
   "id": "9a859d93-0146-4071-a27e-b7cb050d8e11",
   "metadata": {
    "tags": []
   },
   "outputs": [],
   "source": [
    "#removing more columns\n",
    "merge1 = merge1.drop(['Organization Type', 'Reporter Type'], axis=1)"
   ]
  },
  {
   "cell_type": "code",
   "execution_count": 15,
   "id": "5ed24ada-9b87-4595-ad58-896905827472",
   "metadata": {
    "tags": []
   },
   "outputs": [],
   "source": [
    "\n",
    "merge1.columns = merge1.columns.str.strip().str.replace(' ', '_')"
   ]
  },
  {
   "cell_type": "code",
   "execution_count": 16,
   "id": "8ec8e92f-963f-42b0-ab25-1b8fe8f6dc94",
   "metadata": {
    "tags": []
   },
   "outputs": [
    {
     "data": {
      "text/html": [
       "<div>\n",
       "<style scoped>\n",
       "    .dataframe tbody tr th:only-of-type {\n",
       "        vertical-align: middle;\n",
       "    }\n",
       "\n",
       "    .dataframe tbody tr th {\n",
       "        vertical-align: top;\n",
       "    }\n",
       "\n",
       "    .dataframe thead th {\n",
       "        text-align: right;\n",
       "    }\n",
       "</style>\n",
       "<table border=\"1\" class=\"dataframe\">\n",
       "  <thead>\n",
       "    <tr style=\"text-align: right;\">\n",
       "      <th></th>\n",
       "      <th>Agency</th>\n",
       "      <th>State</th>\n",
       "      <th>Primary_UZA_Population</th>\n",
       "      <th>Total_Service_Vehicles</th>\n",
       "      <th>City</th>\n",
       "      <th>Fare_Revenues_per_Unlinked_Passenger_Trip</th>\n",
       "      <th>Unlinked_Passenger_Trips</th>\n",
       "      <th>Fare_Revenues_per_Total_Operating_Expense_(Recovery_Ratio)</th>\n",
       "      <th>Fare_Revenues_Earned</th>\n",
       "    </tr>\n",
       "  </thead>\n",
       "  <tbody>\n",
       "    <tr>\n",
       "      <th>0</th>\n",
       "      <td>MTA New York City Transit</td>\n",
       "      <td>NY</td>\n",
       "      <td>18,351,295</td>\n",
       "      <td>2,297</td>\n",
       "      <td>New York</td>\n",
       "      <td>$1.34</td>\n",
       "      <td>2,712,521,697</td>\n",
       "      <td>0.70</td>\n",
       "      <td>$3,643,213,720</td>\n",
       "    </tr>\n",
       "  </tbody>\n",
       "</table>\n",
       "</div>"
      ],
      "text/plain": [
       "                      Agency State Primary_UZA_Population  \\\n",
       "0  MTA New York City Transit    NY             18,351,295   \n",
       "\n",
       "  Total_Service_Vehicles      City Fare_Revenues_per_Unlinked_Passenger_Trip  \\\n",
       "0                  2,297  New York                                    $1.34    \n",
       "\n",
       "  Unlinked_Passenger_Trips  \\\n",
       "0           2,712,521,697    \n",
       "\n",
       "  Fare_Revenues_per_Total_Operating_Expense_(Recovery_Ratio)  \\\n",
       "0                                              0.70            \n",
       "\n",
       "  Fare_Revenues_Earned  \n",
       "0      $3,643,213,720   "
      ]
     },
     "execution_count": 16,
     "metadata": {},
     "output_type": "execute_result"
    }
   ],
   "source": [
    "#dropping na \n",
    "merge1 = merge1.dropna()\n",
    "merge1.dropna(axis='columns').head(1)"
   ]
  },
  {
   "cell_type": "code",
   "execution_count": 17,
   "id": "07f72a73-a08b-48db-abc2-882220671e51",
   "metadata": {},
   "outputs": [
    {
     "name": "stdout",
     "output_type": "stream",
     "text": [
      "0\n"
     ]
    }
   ],
   "source": [
    "#making sure no nulls\n",
    "print(merge1.isnull().sum().sum())"
   ]
  },
  {
   "cell_type": "code",
   "execution_count": 18,
   "id": "439f0878-a330-4741-8c55-bd6623978cee",
   "metadata": {
    "tags": []
   },
   "outputs": [],
   "source": [
    "merge1 = merge1.assign(\n",
    "    Agency = merge1.Agency.str.strip(),\n",
    "    Fare_Revenues_per_Unlinked_Passenger_Trip = merge1.Fare_Revenues_per_Unlinked_Passenger_Trip.str.strip().replace({'\\$':''}, regex=True),\n",
    "    City = merge1.City.str.strip(),\n",
    "    State = merge1.State.str.strip(),\n",
    "    Total_Service_Vehicles = merge1.Total_Service_Vehicles.str.strip().replace(',','', regex=True),\n",
    "    Fare_Revenues_Earned = merge1.Fare_Revenues_Earned.str.strip().replace('(126346)', '-126346').replace(',','',regex=True).replace({'\\$':''}, regex=True),\n",
    "    Primary_UZA_Population = merge1.Primary_UZA_Population.str.strip().replace(',','',regex = True),\n",
    "    Unlinked_Passenger_Trips = merge1.Unlinked_Passenger_Trips.str.strip().replace(',','', regex=True) \n",
    ").astype({\n",
    "    \"Primary_UZA_Population\":int,\n",
    "    \"Total_Service_Vehicles\":int,\n",
    "    \"Unlinked_Passenger_Trips\": 'int64'\n",
    "}) "
   ]
  },
  {
   "cell_type": "code",
   "execution_count": 19,
   "id": "46a82536-3408-453e-9708-91aaf943cf8f",
   "metadata": {},
   "outputs": [],
   "source": [
    "merge1[\"Fare_Revenues_Earned\"].replace({\"(126346)\": \"-126346\"}, inplace=True)\n",
    "merge1[\"Fare_Revenues_per_Total_Operating_Expense_(Recovery_Ratio)\"].replace({\"(0.21)\": \"-0.21\"}, inplace=True)\n",
    "merge1[\"Fare_Revenues_per_Unlinked_Passenger_Trip\"].replace({\"(2.35)\": \"-2.35\"}, inplace=True)\n",
    "\n"
   ]
  },
  {
   "cell_type": "code",
   "execution_count": 20,
   "id": "29e8ba29-f47a-4f6f-81bd-adbe91292cb1",
   "metadata": {},
   "outputs": [],
   "source": [
    "merge1 = merge1.astype({\"Fare_Revenues_per_Unlinked_Passenger_Trip\": 'float', \n",
    "                         \"Fare_Revenues_per_Total_Operating_Expense_(Recovery_Ratio)\": 'float',\"Fare_Revenues_Earned\": 'int64'})"
   ]
  },
  {
   "cell_type": "code",
   "execution_count": 21,
   "id": "47844d09-47e0-4bba-a525-54131320853d",
   "metadata": {},
   "outputs": [
    {
     "data": {
      "text/plain": [
       "(788, 9)"
      ]
     },
     "execution_count": 21,
     "metadata": {},
     "output_type": "execute_result"
    }
   ],
   "source": [
    "merge1.shape"
   ]
  },
  {
   "cell_type": "code",
   "execution_count": 22,
   "id": "6008ead5-0aa4-4a6a-845b-dc3a29beed6f",
   "metadata": {},
   "outputs": [],
   "source": [
    "merge1.to_csv(\"./merge1_csv.csv\") #. will save in current directory, .. will go to an outside directory \n",
    "#this is a good way to save files so people can replicate..."
   ]
  },
  {
   "cell_type": "markdown",
   "id": "e5293556-509c-416e-8ad5-2dbf7331b94b",
   "metadata": {
    "tags": []
   },
   "source": [
    "# Analyzing & Plotting\n",
    "---"
   ]
  },
  {
   "cell_type": "code",
   "execution_count": 23,
   "id": "44919fda-2b65-4312-ac8b-15a1c074b658",
   "metadata": {},
   "outputs": [],
   "source": [
    "analysis = merge1.groupby(['State']).agg({'Agency':'nunique','City': 'nunique', 'Fare_Revenues_Earned': 'sum'}).reset_index()\n"
   ]
  },
  {
   "cell_type": "code",
   "execution_count": 24,
   "id": "f812d78e-5441-4dca-8133-8172d3b49acd",
   "metadata": {},
   "outputs": [],
   "source": [
    "pop = merge1[[\"State\", \"Primary_UZA_Population\"]].drop_duplicates().groupby(['State']).agg({\"Primary_UZA_Population\": 'sum'})\n"
   ]
  },
  {
   "cell_type": "code",
   "execution_count": 25,
   "id": "e582f563-7097-4ec3-96ad-5ab360c4b415",
   "metadata": {},
   "outputs": [],
   "source": [
    "vehicles = merge1[[\"State\", \"Total_Service_Vehicles\"]].drop_duplicates().groupby(['State']).agg({\"Total_Service_Vehicles\": 'sum'})\n"
   ]
  },
  {
   "cell_type": "code",
   "execution_count": 26,
   "id": "d5a7f8ce-4ee5-4d86-b1c3-5513c8d33190",
   "metadata": {},
   "outputs": [],
   "source": [
    "merge_analysis = analysis.merge(pop, how = \"inner\", on = [\"State\"])\n",
    "merge_analysis = merge_analysis.merge(vehicles, how = \"inner\", on = [\"State\"])\n"
   ]
  },
  {
   "cell_type": "markdown",
   "id": "2f1044af-f3f7-41b8-95b1-7d009147bdcf",
   "metadata": {},
   "source": [
    "#### Per Capita Total Service Vehicles Measure Across 5 States"
   ]
  },
  {
   "cell_type": "code",
   "execution_count": 27,
   "id": "4713b237-052d-40ac-befc-69ff254a86d5",
   "metadata": {
    "tags": []
   },
   "outputs": [],
   "source": [
    "per_capita = merge_analysis.assign(Per_Capita_Service_Vehicles = lambda x: (x.Total_Service_Vehicles / x.Primary_UZA_Population)*100000  ).reset_index(drop = True)"
   ]
  },
  {
   "cell_type": "code",
   "execution_count": 28,
   "id": "0e5016a1-1072-4885-a6c4-b7e337104201",
   "metadata": {
    "tags": []
   },
   "outputs": [
    {
     "data": {
      "text/html": [
       "<div>\n",
       "<style scoped>\n",
       "    .dataframe tbody tr th:only-of-type {\n",
       "        vertical-align: middle;\n",
       "    }\n",
       "\n",
       "    .dataframe tbody tr th {\n",
       "        vertical-align: top;\n",
       "    }\n",
       "\n",
       "    .dataframe thead th {\n",
       "        text-align: right;\n",
       "    }\n",
       "</style>\n",
       "<table border=\"1\" class=\"dataframe\">\n",
       "  <thead>\n",
       "    <tr style=\"text-align: right;\">\n",
       "      <th></th>\n",
       "      <th>State</th>\n",
       "      <th>Number_of_Agencies</th>\n",
       "      <th>Cities</th>\n",
       "      <th>Fare_Revenues_Earned</th>\n",
       "      <th>Primary_UZA_Population</th>\n",
       "      <th>Total_Service_Vehicles</th>\n",
       "      <th>Per_Capita_Service_Vehicles</th>\n",
       "    </tr>\n",
       "  </thead>\n",
       "  <tbody>\n",
       "    <tr>\n",
       "      <th>0</th>\n",
       "      <td>CA</td>\n",
       "      <td>217</td>\n",
       "      <td>170</td>\n",
       "      <td>1794038102</td>\n",
       "      <td>32275851</td>\n",
       "      <td>4638</td>\n",
       "      <td>14.369877</td>\n",
       "    </tr>\n",
       "    <tr>\n",
       "      <th>1</th>\n",
       "      <td>ID</td>\n",
       "      <td>17</td>\n",
       "      <td>15</td>\n",
       "      <td>2629840</td>\n",
       "      <td>721294</td>\n",
       "      <td>36</td>\n",
       "      <td>4.991030</td>\n",
       "    </tr>\n",
       "    <tr>\n",
       "      <th>2</th>\n",
       "      <td>MS</td>\n",
       "      <td>23</td>\n",
       "      <td>21</td>\n",
       "      <td>2445833</td>\n",
       "      <td>640784</td>\n",
       "      <td>17</td>\n",
       "      <td>2.653000</td>\n",
       "    </tr>\n",
       "    <tr>\n",
       "      <th>3</th>\n",
       "      <td>NY</td>\n",
       "      <td>79</td>\n",
       "      <td>67</td>\n",
       "      <td>6646608450</td>\n",
       "      <td>21841629</td>\n",
       "      <td>4750</td>\n",
       "      <td>21.747462</td>\n",
       "    </tr>\n",
       "    <tr>\n",
       "      <th>4</th>\n",
       "      <td>TX</td>\n",
       "      <td>74</td>\n",
       "      <td>62</td>\n",
       "      <td>226889581</td>\n",
       "      <td>18470791</td>\n",
       "      <td>1484</td>\n",
       "      <td>8.034307</td>\n",
       "    </tr>\n",
       "  </tbody>\n",
       "</table>\n",
       "</div>"
      ],
      "text/plain": [
       "  State  Number_of_Agencies  Cities  Fare_Revenues_Earned  \\\n",
       "0    CA                 217     170            1794038102   \n",
       "1    ID                  17      15               2629840   \n",
       "2    MS                  23      21               2445833   \n",
       "3    NY                  79      67            6646608450   \n",
       "4    TX                  74      62             226889581   \n",
       "\n",
       "   Primary_UZA_Population  Total_Service_Vehicles  Per_Capita_Service_Vehicles  \n",
       "0                32275851                    4638                    14.369877  \n",
       "1                  721294                      36                     4.991030  \n",
       "2                  640784                      17                     2.653000  \n",
       "3                21841629                    4750                    21.747462  \n",
       "4                18470791                    1484                     8.034307  "
      ]
     },
     "execution_count": 28,
     "metadata": {},
     "output_type": "execute_result"
    }
   ],
   "source": [
    "per_capita.rename(columns = {\"City\": \"Cities\", \"Agency\": \"Number_of_Agencies\"})"
   ]
  },
  {
   "cell_type": "markdown",
   "id": "4c8eb693-4e8a-499c-842a-1395fbe6f26c",
   "metadata": {},
   "source": [
    "#### Weighted average fare revenues for unlinked passenger trips"
   ]
  },
  {
   "cell_type": "code",
   "execution_count": 37,
   "id": "a8933dab-acac-4b3f-b93a-45d88a34136f",
   "metadata": {},
   "outputs": [],
   "source": [
    "#only took the columns I was interested in\n",
    "unlinked = merge1[[\"State\", \"Unlinked_Passenger_Trips\", \"Fare_Revenues_per_Unlinked_Passenger_Trip\"]]"
   ]
  },
  {
   "cell_type": "code",
   "execution_count": 39,
   "id": "ec58e20c-cc00-4720-ae66-c7a10cc4823f",
   "metadata": {},
   "outputs": [
    {
     "data": {
      "text/html": [
       "<div>\n",
       "<style scoped>\n",
       "    .dataframe tbody tr th:only-of-type {\n",
       "        vertical-align: middle;\n",
       "    }\n",
       "\n",
       "    .dataframe tbody tr th {\n",
       "        vertical-align: top;\n",
       "    }\n",
       "\n",
       "    .dataframe thead th {\n",
       "        text-align: right;\n",
       "    }\n",
       "</style>\n",
       "<table border=\"1\" class=\"dataframe\">\n",
       "  <thead>\n",
       "    <tr style=\"text-align: right;\">\n",
       "      <th></th>\n",
       "      <th>State</th>\n",
       "      <th>Unlinked_Passenger_Trips</th>\n",
       "      <th>Fare_Revenues_per_Unlinked_Passenger_Trip</th>\n",
       "      <th>Weight</th>\n",
       "    </tr>\n",
       "  </thead>\n",
       "  <tbody>\n",
       "    <tr>\n",
       "      <th>0</th>\n",
       "      <td>NY</td>\n",
       "      <td>2712521697</td>\n",
       "      <td>1.34</td>\n",
       "      <td>3.634779e+09</td>\n",
       "    </tr>\n",
       "    <tr>\n",
       "      <th>1</th>\n",
       "      <td>NY</td>\n",
       "      <td>11477164</td>\n",
       "      <td>6.66</td>\n",
       "      <td>7.643791e+07</td>\n",
       "    </tr>\n",
       "    <tr>\n",
       "      <th>2</th>\n",
       "      <td>NY</td>\n",
       "      <td>691616614</td>\n",
       "      <td>1.22</td>\n",
       "      <td>8.437723e+08</td>\n",
       "    </tr>\n",
       "    <tr>\n",
       "      <th>3</th>\n",
       "      <td>NY</td>\n",
       "      <td>4828423</td>\n",
       "      <td>2.03</td>\n",
       "      <td>9.801699e+06</td>\n",
       "    </tr>\n",
       "    <tr>\n",
       "      <th>4</th>\n",
       "      <td>NY</td>\n",
       "      <td>30695695</td>\n",
       "      <td>1.06</td>\n",
       "      <td>3.253744e+07</td>\n",
       "    </tr>\n",
       "  </tbody>\n",
       "</table>\n",
       "</div>"
      ],
      "text/plain": [
       "  State  Unlinked_Passenger_Trips  Fare_Revenues_per_Unlinked_Passenger_Trip  \\\n",
       "0    NY                2712521697                                       1.34   \n",
       "1    NY                  11477164                                       6.66   \n",
       "2    NY                 691616614                                       1.22   \n",
       "3    NY                   4828423                                       2.03   \n",
       "4    NY                  30695695                                       1.06   \n",
       "\n",
       "         Weight  \n",
       "0  3.634779e+09  \n",
       "1  7.643791e+07  \n",
       "2  8.437723e+08  \n",
       "3  9.801699e+06  \n",
       "4  3.253744e+07  "
      ]
     },
     "execution_count": 39,
     "metadata": {},
     "output_type": "execute_result"
    }
   ],
   "source": [
    "#created a new column that multiples unlinked fare revenue by unlinked trips\n",
    "unlinked = unlinked.assign(Weight = lambda x: x['Unlinked_Passenger_Trips'] * x['Fare_Revenues_per_Unlinked_Passenger_Trip'])\n",
    "unlinked.head(5)"
   ]
  },
  {
   "cell_type": "code",
   "execution_count": 31,
   "id": "54a98e7b-3a3a-47b3-bce9-1323543aa86f",
   "metadata": {},
   "outputs": [],
   "source": [
    "#Third changing data type\n",
    "unlinked = unlinked.astype({\"Weight\": 'int64'})"
   ]
  },
  {
   "cell_type": "code",
   "execution_count": 32,
   "id": "cc5cff28-e6ee-480e-b473-830f2ec1cd62",
   "metadata": {},
   "outputs": [],
   "source": [
    "#Third, I grouped by state & summed up passenger trips and weight\n",
    "final_unlinked = unlinked.drop_duplicates().groupby(['State']).agg({'Unlinked_Passenger_Trips': 'sum', 'Weight':'sum'}).reset_index()"
   ]
  },
  {
   "cell_type": "code",
   "execution_count": 81,
   "id": "4be243cd-63c5-49e2-b10d-2a23762c097e",
   "metadata": {},
   "outputs": [],
   "source": [
    "final_unlinked = final_unlinked.assign(Weighted_Avg = lambda x: x['Weight'] / x['Unlinked_Passenger_Trips']).reset_index(drop=True)"
   ]
  },
  {
   "cell_type": "code",
   "execution_count": 82,
   "id": "bc03f904-2264-4df3-ada6-4d1b14c72044",
   "metadata": {},
   "outputs": [
    {
     "data": {
      "text/plain": [
       "State                        object\n",
       "Unlinked_Passenger_Trips      int64\n",
       "Weight                        int64\n",
       "Weighted_Avg                float64\n",
       "dtype: object"
      ]
     },
     "execution_count": 82,
     "metadata": {},
     "output_type": "execute_result"
    }
   ],
   "source": [
    "final_unlinked.dtypes"
   ]
  },
  {
   "cell_type": "code",
   "execution_count": 40,
   "id": "71fe0999-c43c-4a6b-ad96-ca4312307970",
   "metadata": {},
   "outputs": [],
   "source": [
    "from plotnine import *\n",
    "import altair as alt\n",
    "import altair_saver\n",
    "from shared_utils import altair_utils "
   ]
  },
  {
   "cell_type": "code",
   "execution_count": 64,
   "id": "08c14d38-99ae-4130-9973-861a7c641677",
   "metadata": {},
   "outputs": [],
   "source": [
    "palette = list['#cc0020', '#e77866', '#f6e7e1', '#d6e8ed', '#91bfd9', '#1d78b5']"
   ]
  },
  {
   "cell_type": "code",
   "execution_count": 98,
   "id": "decaccf2-4f6b-4b35-be0a-18710a625b07",
   "metadata": {},
   "outputs": [
    {
     "data": {
      "image/png": "[encoded data removed]",
      "text/plain": [
       "<Figure size 640x480 with 1 Axes>"
      ]
     },
     "metadata": {},
     "output_type": "display_data"
    },
    {
     "data": {
      "text/plain": [
       "<ggplot: (8765062333558)>"
      ]
     },
     "execution_count": 98,
     "metadata": {},
     "output_type": "execute_result"
    }
   ],
   "source": [
    "(ggplot(per_capita, aes('State', 'Per_Capita_Service_Vehicles', size=5, \n",
    "                        fill= 'State'))\n",
    " + geom_point()) + labs(title = \"Per Capita Service Vehicles by State\", y = \"Per Capita Service Vehicles\", x = \"State\") +ylim(0,40) + theme_538() + scale_fill_manual(values=altair_utils.FIVETHIRTYEIGHT_CATEGORY_COLORS)"
   ]
  },
  {
   "cell_type": "code",
   "execution_count": 108,
   "id": "a6df5618-e84f-4ab2-886b-35439bb5c010",
   "metadata": {},
   "outputs": [
    {
     "data": {
      "text/html": [
       "\n",
       "<div id=\"altair-viz-40d144d4aa3c41fbb8f84f9978837c8c\"></div>\n",
       "<script type=\"text/javascript\">\n",
       "  (function(spec, embedOpt){\n",
       "    let outputDiv = document.currentScript.previousElementSibling;\n",
       "    if (outputDiv.id !== \"altair-viz-40d144d4aa3c41fbb8f84f9978837c8c\") {\n",
       "      outputDiv = document.getElementById(\"altair-viz-40d144d4aa3c41fbb8f84f9978837c8c\");\n",
       "    }\n",
       "    const paths = {\n",
       "      \"vega\": \"https://cdn.jsdelivr.net/npm//vega@5?noext\",\n",
       "      \"vega-lib\": \"https://cdn.jsdelivr.net/npm//vega-lib?noext\",\n",
       "      \"vega-lite\": \"https://cdn.jsdelivr.net/npm//vega-lite@4.8.1?noext\",\n",
       "      \"vega-embed\": \"https://cdn.jsdelivr.net/npm//vega-embed@6?noext\",\n",
       "    };\n",
       "\n",
       "    function loadScript(lib) {\n",
       "      return new Promise(function(resolve, reject) {\n",
       "        var s = document.createElement('script');\n",
       "        s.src = paths[lib];\n",
       "        s.async = true;\n",
       "        s.onload = () => resolve(paths[lib]);\n",
       "        s.onerror = () => reject(`Error loading script: ${paths[lib]}`);\n",
       "        document.getElementsByTagName(\"head\")[0].appendChild(s);\n",
       "      });\n",
       "    }\n",
       "\n",
       "    function showError(err) {\n",
       "      outputDiv.innerHTML = `<div class=\"error\" style=\"color:red;\">${err}</div>`;\n",
       "      throw err;\n",
       "    }\n",
       "\n",
       "    function displayChart(vegaEmbed) {\n",
       "      vegaEmbed(outputDiv, spec, embedOpt)\n",
       "        .catch(err => showError(`Javascript Error: ${err.message}<br>This usually means there's a typo in your chart specification. See the javascript console for the full traceback.`));\n",
       "    }\n",
       "\n",
       "    if(typeof define === \"function\" && define.amd) {\n",
       "      requirejs.config({paths});\n",
       "      require([\"vega-embed\"], displayChart, err => showError(`Error loading script: ${err.message}`));\n",
       "    } else if (typeof vegaEmbed === \"function\") {\n",
       "      displayChart(vegaEmbed);\n",
       "    } else {\n",
       "      loadScript(\"vega\")\n",
       "        .then(() => loadScript(\"vega-lite\"))\n",
       "        .then(() => loadScript(\"vega-embed\"))\n",
       "        .catch(showError)\n",
       "        .then(() => displayChart(vegaEmbed));\n",
       "    }\n",
       "  })({\"usermeta\": {\"embedOptions\": {\"theme\": \"fivethirtyeight\"}}, \"config\": {\"view\": {\"continuousWidth\": 400, \"continuousHeight\": 300}}, \"data\": {\"name\": \"data-d5ababf77faddae4252be36caf74a251\"}, \"mark\": \"bar\", \"encoding\": {\"color\": {\"type\": \"nominal\", \"field\": \"State\", \"scale\": {\"range\": [\"#30a2da\", \"#fc4f30\", \"#e5ae38\", \"#6d904f\", \"#8b8b8b\", \"#b96db8\", \"#ff9e27\", \"#56cc60\", \"#52d2ca\", \"#52689e\", \"#545454\", \"#9fe4f8\"]}}, \"tooltip\": [{\"type\": \"nominal\", \"field\": \"State\"}, {\"type\": \"quantitative\", \"field\": \"Weighted_Avg\"}], \"x\": {\"type\": \"nominal\", \"field\": \"State\"}, \"y\": {\"type\": \"quantitative\", \"field\": \"Weighted_Avg\", \"title\": \"Average of Fare Revenue\"}}, \"height\": 250, \"selection\": {\"selector016\": {\"type\": \"interval\", \"bind\": \"scales\", \"encodings\": [\"x\", \"y\"]}}, \"title\": \"Average of Fare Revenue by Unlinked Passengers\", \"width\": 400, \"$schema\": \"https://vega.github.io/schema/vega-lite/v4.8.1.json\", \"datasets\": {\"data-d5ababf77faddae4252be36caf74a251\": [{\"State\": \"CA\", \"Unlinked_Passenger_Trips\": 1267399653, \"Weight\": 1796118580, \"Weighted_Avg\": 1.4171682750176673}, {\"State\": \"ID\", \"Unlinked_Passenger_Trips\": 3416334, \"Weight\": 2628578, \"Weighted_Avg\": 0.7694148171695157}, {\"State\": \"MS\", \"Unlinked_Passenger_Trips\": 4433452, \"Weight\": 2447800, \"Weighted_Avg\": 0.5521205597805051}, {\"State\": \"NY\", \"Unlinked_Passenger_Trips\": 3970913654, \"Weight\": 6635720326, \"Weighted_Avg\": 1.6710814951404631}, {\"State\": \"TX\", \"Unlinked_Passenger_Trips\": 283494332, \"Weight\": 226536481, \"Weighted_Avg\": 0.799086455809635}]}}, {\"mode\": \"vega-lite\"});\n",
       "</script>"
      ],
      "text/plain": [
       "alt.Chart(...)"
      ]
     },
     "execution_count": 108,
     "metadata": {},
     "output_type": "execute_result"
    }
   ],
   "source": [
    "\n",
    "alt.Chart(final_unlinked).mark_bar().encode(\n",
    "    alt.X('State'),\n",
    "    alt.Y('Weighted_Avg', title = \"Average of Fare Revenue\"),\n",
    "    color =alt.Color('State', scale=alt.Scale(\n",
    "                                  range=altair_utils.FIVETHIRTYEIGHT_CATEGORY_COLORS)),\n",
    "    tooltip = [alt.Tooltip('State'),\n",
    "               alt.Tooltip('Weighted_Avg')\n",
    "              ]\n",
    ").interactive().properties(\n",
    "    width=400,\n",
    "    height=250,\n",
    "    title = 'Average of Fare Revenue by Unlinked Passengers'\n",
    ")"
   ]
  }
 ],
 "metadata": {
  "kernelspec": {
   "display_name": "Python 3 (ipykernel)",
   "language": "python",
   "name": "python3"
  },
  "language_info": {
   "codemirror_mode": {
    "name": "ipython",
    "version": 3
   },
   "file_extension": ".py",
   "mimetype": "text/x-python",
   "name": "python",
   "nbconvert_exporter": "python",
   "pygments_lexer": "ipython3",
   "version": "3.9.7"
  },
  "toc-autonumbering": true
 },
 "nbformat": 4,
 "nbformat_minor": 5
}
