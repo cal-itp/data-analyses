{
 "cells": [
  {
   "cell_type": "markdown",
   "id": "3dc90996-2d34-4b1a-a07b-12ce83f5f376",
   "metadata": {},
   "source": [
    "# Exercise 2 Data Cleaning\n",
    "---"
   ]
  },
  {
   "cell_type": "markdown",
   "id": "1a2d1098-5181-4bad-99cc-0bb7129022c0",
   "metadata": {},
   "source": [
    "### Download Packages "
   ]
  },
  {
   "cell_type": "code",
   "execution_count": 1,
   "id": "e84b3e44-43e1-4a3c-965f-49435794a5e5",
   "metadata": {},
   "outputs": [
    {
     "name": "stderr",
     "output_type": "stream",
     "text": [
      "/opt/conda/lib/python3.9/site-packages/geopandas/_compat.py:111: UserWarning: The Shapely GEOS version (3.9.1-CAPI-1.14.2) is incompatible with the GEOS version PyGEOS was compiled with (3.10.1-CAPI-1.16.0). Conversions between both will be slow.\n",
      "  warnings.warn(\n"
     ]
    }
   ],
   "source": [
    "import pandas as pd\n",
    "import numpy as np\n",
    "import shared_utils"
   ]
  },
  {
   "cell_type": "markdown",
   "id": "c9f58877-2b37-4cd4-bb50-a1b169c2b86e",
   "metadata": {},
   "source": [
    "### Read in our Files"
   ]
  },
  {
   "cell_type": "code",
   "execution_count": 2,
   "id": "4053066b-2b78-417c-ae58-ac69e6869f00",
   "metadata": {},
   "outputs": [],
   "source": [
    "GCS_FILE_PATH = \"gs://calitp-analytics-data/data-analyses/bus_service_increase/\"\n",
    "FILE_NAME = \"ntd_metrics_2019.csv\"\n",
    "df_metrics = pd.read_csv(f\"{GCS_FILE_PATH}{FILE_NAME}\")"
   ]
  },
  {
   "cell_type": "code",
   "execution_count": 3,
   "id": "ce959088-b7a9-4743-bcbc-da422cc98ef7",
   "metadata": {},
   "outputs": [
    {
     "data": {
      "text/plain": [
       "['Agency',\n",
       " 'City',\n",
       " 'State',\n",
       " 'Legacy NTD ID',\n",
       " 'NTD ID',\n",
       " 'Organization Type',\n",
       " 'Reporter Type',\n",
       " 'Primary UZA\\n Population',\n",
       " 'Agency VOMS',\n",
       " 'Mode',\n",
       " 'TOS',\n",
       " 'Mode VOMS',\n",
       " 'Ratios:',\n",
       " 'Fare Revenues per Unlinked Passenger Trip ',\n",
       " 'Fare Revenues per Unlinked Passenger Trip Questionable',\n",
       " 'Fare Revenues per Total Operating Expense (Recovery Ratio)',\n",
       " 'Fare Revenues per Total Operating Expense (Recovery Ratio) Questionable',\n",
       " 'Cost per\\n Hour',\n",
       " 'Cost per Hour Questionable',\n",
       " 'Passengers per Hour',\n",
       " 'Passengers per Hour Questionable',\n",
       " 'Cost per Passenger',\n",
       " 'Cost per Passenger Questionable',\n",
       " 'Cost per Passenger Mile',\n",
       " 'Cost per Passenger Mile Questionable',\n",
       " 'Source Data:',\n",
       " 'Fare Revenues Earned',\n",
       " 'Fare Revenues Earned Questionable',\n",
       " 'Total Operating Expenses',\n",
       " 'Total Operating Expenses Questionable',\n",
       " 'Unlinked Passenger Trips',\n",
       " 'Unlinked Passenger Trips Questionable',\n",
       " 'Vehicle Revenue Hours',\n",
       " 'Vehicle Revenue Hours Questionable',\n",
       " 'Passenger Miles',\n",
       " 'Passenger Miles Questionable',\n",
       " 'Vehicle Revenue Miles',\n",
       " 'Vehicle Revenue Miles Questionable',\n",
       " 'Any data questionable?',\n",
       " 'Unnamed: 39',\n",
       " 'Unnamed: 40',\n",
       " 'Unnamed: 41',\n",
       " '1',\n",
       " 'Unnamed: 43',\n",
       " 'Unnamed: 44']"
      ]
     },
     "execution_count": 3,
     "metadata": {},
     "output_type": "execute_result"
    }
   ],
   "source": [
    "#preview columns \n",
    "list(df_metrics.columns)"
   ]
  },
  {
   "cell_type": "code",
   "execution_count": 4,
   "id": "09c94557-d9d2-4fdd-8fd7-3738c587dc3c",
   "metadata": {
    "tags": []
   },
   "outputs": [
    {
     "data": {
      "text/plain": [
       "(3685, 45)"
      ]
     },
     "execution_count": 4,
     "metadata": {},
     "output_type": "execute_result"
    }
   ],
   "source": [
    "#check out number of rows \n",
    "df_metrics.shape"
   ]
  },
  {
   "cell_type": "code",
   "execution_count": 5,
   "id": "3192a2ba-ce05-40aa-bdf9-edccb54d343a",
   "metadata": {},
   "outputs": [],
   "source": [
    "#chosing the columns to keep \n",
    "df_metrics = df_metrics.iloc[:, [0,1,2,13,15,26]]\n"
   ]
  },
  {
   "cell_type": "code",
   "execution_count": 6,
   "id": "987d1627-e16a-4856-8b8f-7a93ea5b6485",
   "metadata": {},
   "outputs": [
    {
     "data": {
      "text/html": [
       "<div>\n",
       "<style scoped>\n",
       "    .dataframe tbody tr th:only-of-type {\n",
       "        vertical-align: middle;\n",
       "    }\n",
       "\n",
       "    .dataframe tbody tr th {\n",
       "        vertical-align: top;\n",
       "    }\n",
       "\n",
       "    .dataframe thead th {\n",
       "        text-align: right;\n",
       "    }\n",
       "</style>\n",
       "<table border=\"1\" class=\"dataframe\">\n",
       "  <thead>\n",
       "    <tr style=\"text-align: right;\">\n",
       "      <th></th>\n",
       "      <th>Agency</th>\n",
       "      <th>City</th>\n",
       "      <th>State</th>\n",
       "      <th>Fare Revenues per Unlinked Passenger Trip</th>\n",
       "      <th>Fare Revenues per Total Operating Expense (Recovery Ratio)</th>\n",
       "      <th>Fare Revenues Earned</th>\n",
       "    </tr>\n",
       "  </thead>\n",
       "  <tbody>\n",
       "    <tr>\n",
       "      <th>0</th>\n",
       "      <td>MTA New York City Transit</td>\n",
       "      <td>New York</td>\n",
       "      <td>NY</td>\n",
       "      <td>$1.34</td>\n",
       "      <td>0.70</td>\n",
       "      <td>$3,643,213,720</td>\n",
       "    </tr>\n",
       "    <tr>\n",
       "      <th>1</th>\n",
       "      <td>MTA New York City Transit</td>\n",
       "      <td>New York</td>\n",
       "      <td>NY</td>\n",
       "      <td>$6.66</td>\n",
       "      <td>0.32</td>\n",
       "      <td>$76,398,352</td>\n",
       "    </tr>\n",
       "  </tbody>\n",
       "</table>\n",
       "</div>"
      ],
      "text/plain": [
       "                      Agency      City State  \\\n",
       "0  MTA New York City Transit  New York    NY   \n",
       "1  MTA New York City Transit  New York    NY   \n",
       "\n",
       "  Fare Revenues per Unlinked Passenger Trip   \\\n",
       "0                                     $1.34    \n",
       "1                                     $6.66    \n",
       "\n",
       "  Fare Revenues per Total Operating Expense (Recovery Ratio)  \\\n",
       "0                                              0.70            \n",
       "1                                              0.32            \n",
       "\n",
       "  Fare Revenues Earned  \n",
       "0      $3,643,213,720   \n",
       "1         $76,398,352   "
      ]
     },
     "execution_count": 6,
     "metadata": {},
     "output_type": "execute_result"
    }
   ],
   "source": [
    "df_metrics.head(2)"
   ]
  },
  {
   "cell_type": "markdown",
   "id": "cf99d41f-93d7-46b1-bb92-645ad368ee35",
   "metadata": {},
   "source": [
    "#### Loading Vehicle dataset"
   ]
  },
  {
   "cell_type": "code",
   "execution_count": 7,
   "id": "393fefa0-d9be-4d94-a782-48393a71da68",
   "metadata": {},
   "outputs": [],
   "source": [
    "FILE_TWO = \"ntd_vehicles_2019.csv\"\n",
    "df_vehicles = pd.read_csv(f\"{GCS_FILE_PATH}{FILE_TWO}\")"
   ]
  },
  {
   "cell_type": "code",
   "execution_count": 8,
   "id": "55c2daa6-ff29-49c7-b655-82efc00d640c",
   "metadata": {
    "tags": []
   },
   "outputs": [
    {
     "name": "stdout",
     "output_type": "stream",
     "text": [
      "<class 'pandas.core.frame.DataFrame'>\n",
      "RangeIndex: 2775 entries, 0 to 2774\n",
      "Data columns (total 99 columns):\n",
      " #   Column                                                        Non-Null Count  Dtype  \n",
      "---  ------                                                        --------------  -----  \n",
      " 0   Agency                                                        2775 non-null   object \n",
      " 1   City                                                          2775 non-null   object \n",
      " 2   State                                                         2775 non-null   object \n",
      " 3   Legacy NTD ID                                                 1987 non-null   object \n",
      " 4   NTD ID                                                        2775 non-null   object \n",
      " 5   Organization Type                                             2775 non-null   object \n",
      " 6   Reporter Type                                                 2775 non-null   object \n",
      " 7   Primary UZA Population                                        2775 non-null   object \n",
      " 8   Agency VOMS                                                   2775 non-null   object \n",
      " 9   Bus                                                           2775 non-null   object \n",
      " 10  Bus with ULB Reported                                         2775 non-null   object \n",
      " 11  Bus  >= ULB                                                   2775 non-null   int64  \n",
      " 12  Articulated Bus                                               2775 non-null   object \n",
      " 13  Articulated Bus with ULB Reported                             2775 non-null   object \n",
      " 14  Articulated Bus  >= ULB                                       2775 non-null   int64  \n",
      " 15  Over-The-Road Bus                                             2775 non-null   object \n",
      " 16  Over-The-Road Bus with ULB Reported                           2775 non-null   object \n",
      " 17  Over-The-Road Bus  >= ULB                                     2775 non-null   int64  \n",
      " 18  Double Decker Bus                                             2775 non-null   int64  \n",
      " 19  Double Decker Bus with ULB Reported                           2775 non-null   int64  \n",
      " 20  Double Decker Bus  >= ULB                                     2775 non-null   int64  \n",
      " 21  School Bus                                                    2775 non-null   int64  \n",
      " 22  School Bus with ULB Reported                                  2775 non-null   int64  \n",
      " 23  School Bus  >= ULB                                            2775 non-null   int64  \n",
      " 24  Van                                                           2775 non-null   object \n",
      " 25  Van with ULB Reported                                         2775 non-null   int64  \n",
      " 26  Van  >= ULB                                                   2775 non-null   int64  \n",
      " 27  Cutaway                                                       2775 non-null   int64  \n",
      " 28  Cutaway with ULB Reported                                     2775 non-null   int64  \n",
      " 29  Cutaway  >= ULB                                               2775 non-null   int64  \n",
      " 30  Automobile                                                    2775 non-null   int64  \n",
      " 31  Automobile with ULB Reported                                  2775 non-null   int64  \n",
      " 32  Automobile  >= ULB                                            2775 non-null   int64  \n",
      " 33  Minivan                                                       2775 non-null   object \n",
      " 34  Minivan with ULB Reported                                     2775 non-null   object \n",
      " 35  Minivan  >= ULB                                               2775 non-null   int64  \n",
      " 36  Sport Utility Vehicle                                         2775 non-null   int64  \n",
      " 37  Sport Utility Vehicle with ULB Reported                       2775 non-null   int64  \n",
      " 38  Sport Utility Vehicle  >= ULB                                 2775 non-null   int64  \n",
      " 39  Trolleybus                                                    2775 non-null   int64  \n",
      " 40  Trolleybus with ULB Reported                                  2775 non-null   int64  \n",
      " 41  Trolleybus  >= ULB                                            2775 non-null   int64  \n",
      " 42  Heavy Rail Passenger Car                                      2775 non-null   object \n",
      " 43  Heavy Rail Passenger Car with ULB Reported                    2775 non-null   object \n",
      " 44  Heavy Rail Passenger Car  >= ULB                              2775 non-null   int64  \n",
      " 45  Light Rail Vehicle                                            2775 non-null   int64  \n",
      " 46  Light Rail Vehicle with ULB Reported                          2775 non-null   int64  \n",
      " 47  Light Rail Vehicle  >= ULB                                    2775 non-null   int64  \n",
      " 48  Commuter Rail Passenger Coach                                 2775 non-null   int64  \n",
      " 49  Commuter Rail Passenger Coach with ULB Reported               2775 non-null   int64  \n",
      " 50  Commuter Rail Passenger Coach  >= ULB                         2775 non-null   int64  \n",
      " 51  Commuter Rail Self-Propelled Passenger Car                    2775 non-null   int64  \n",
      " 52  Commuter Rail Self-Propelled Passenger Car with ULB Reported  2775 non-null   int64  \n",
      " 53  Commuter Rail Self-Propelled Passenger Car  >= ULB            2775 non-null   int64  \n",
      " 54  Locomotive                                                    2775 non-null   int64  \n",
      " 55  Locomotive with ULB Reported                                  2775 non-null   int64  \n",
      " 56  Locomotive  >= ULB                                            2775 non-null   int64  \n",
      " 57  Automated Guideway Vehicle                                    2775 non-null   int64  \n",
      " 58  Automated Guideway Vehicle with ULB Reported                  2775 non-null   int64  \n",
      " 59  Automated Guideway Vehicle  >= ULB                            2775 non-null   int64  \n",
      " 60  Vintage/Historic Trolley                                      2775 non-null   int64  \n",
      " 61  Vintage/Historic Trolley with ULB Reported                    2775 non-null   int64  \n",
      " 62  Vintage/Historic Trolley  >= ULB                              2775 non-null   int64  \n",
      " 63  Streetcar                                                     2775 non-null   int64  \n",
      " 64  Streetcar with ULB Reported                                   2775 non-null   int64  \n",
      " 65  Streetcar  >= ULB                                             2775 non-null   int64  \n",
      " 66  Aerial Tramway                                                2775 non-null   int64  \n",
      " 67  Aerial Tramway with ULB Reported                              2775 non-null   int64  \n",
      " 68  Aerial Tram  >= ULB                                           2775 non-null   int64  \n",
      " 69  Monorail                                                      2775 non-null   int64  \n",
      " 70  Monorail with ULB Reported                                    2775 non-null   int64  \n",
      " 71  Monorail  >= ULB                                              2775 non-null   int64  \n",
      " 72  Cable Car                                                     2775 non-null   int64  \n",
      " 73  Cable Car with ULB Reported                                   2775 non-null   int64  \n",
      " 74  Cable Car  >= ULB                                             2775 non-null   int64  \n",
      " 75  Inclined Plane                                                2775 non-null   int64  \n",
      " 76  Inclined Plane with ULB Reported                              2775 non-null   int64  \n",
      " 77  Inclined Plane  >= ULB                                        2775 non-null   int64  \n",
      " 78  Ferryboat                                                     2775 non-null   int64  \n",
      " 79  Ferryboat with ULB Reported                                   2775 non-null   int64  \n",
      " 80  Ferryboat  >= ULB                                             2775 non-null   int64  \n",
      " 81  Other                                                         2775 non-null   int64  \n",
      " 82  Other with ULB Reported                                       2775 non-null   int64  \n",
      " 83  Other  >= ULB                                                 2775 non-null   int64  \n",
      " 84  Total Revenue Vehicles                                        2775 non-null   object \n",
      " 85  Total Revenue Vehicles with ULB Reported                      2775 non-null   object \n",
      " 86  Total Revenue Vehicles  >= ULB                                2775 non-null   object \n",
      " 87  Automobiles                                                   2775 non-null   int64  \n",
      " 88  Automobiles  >= ULB                                           2775 non-null   int64  \n",
      " 89  Trucks And Other Rubber Tire Vehicles                         2775 non-null   object \n",
      " 90  Trucks And Other Rubber Tire Vehicles  >= ULB                 2775 non-null   int64  \n",
      " 91  Steel Wheel Vehicles                                          2775 non-null   int64  \n",
      " 92  Steel Wheel Vehicles  >= ULB                                  2775 non-null   int64  \n",
      " 93  Total Service Vehicles                                        2775 non-null   object \n",
      " 94  Total Service Vehicles  >= ULB                                2775 non-null   int64  \n",
      " 95  Unnamed: 95                                                   0 non-null      float64\n",
      " 96  Unnamed: 96                                                   0 non-null      float64\n",
      " 97  Unnamed: 97                                                   0 non-null      float64\n",
      " 98  1                                                             3 non-null      object \n",
      "dtypes: float64(3), int64(70), object(26)\n",
      "memory usage: 2.1+ MB\n"
     ]
    }
   ],
   "source": [
    "df_vehicles.info()"
   ]
  },
  {
   "cell_type": "code",
   "execution_count": 9,
   "id": "ffb4b94a-d77a-4fff-8453-3ba32e0ffca9",
   "metadata": {},
   "outputs": [],
   "source": [
    "df_vehicles = df_vehicles.iloc[:, [0,2,5,6,7,93]]"
   ]
  },
  {
   "cell_type": "code",
   "execution_count": 10,
   "id": "00ef0b1c-606f-4689-b930-17f2376562b3",
   "metadata": {},
   "outputs": [
    {
     "name": "stdout",
     "output_type": "stream",
     "text": [
      "<class 'pandas.core.frame.DataFrame'>\n",
      "RangeIndex: 2775 entries, 0 to 2774\n",
      "Data columns (total 6 columns):\n",
      " #   Column                  Non-Null Count  Dtype \n",
      "---  ------                  --------------  ----- \n",
      " 0   Agency                  2775 non-null   object\n",
      " 1   State                   2775 non-null   object\n",
      " 2   Organization Type       2775 non-null   object\n",
      " 3   Reporter Type           2775 non-null   object\n",
      " 4   Primary UZA Population  2775 non-null   object\n",
      " 5   Total Service Vehicles  2775 non-null   object\n",
      "dtypes: object(6)\n",
      "memory usage: 130.2+ KB\n"
     ]
    }
   ],
   "source": [
    "df_vehicles.info()"
   ]
  },
  {
   "cell_type": "markdown",
   "id": "35b6e319-f33e-4c48-8926-dbd6ea6625c4",
   "metadata": {},
   "source": [
    "### Subsetting for only states of interest\n",
    "<i> Question: how can I filter more efficiently? I tried to create a list to filter everything all at once but I kept getting errors or a list of true/falses<i>"
   ]
  },
  {
   "cell_type": "code",
   "execution_count": 11,
   "id": "52313ecc-136b-4048-a2d9-b9614a117d1f",
   "metadata": {},
   "outputs": [],
   "source": [
    "#keeping only the states of interest \n",
    "states_to_keep = [\"CA\", \"NY\", \"TX\", \"ID\", \"MS\"]\n",
    "df_vehicles = df_vehicles[df_vehicles.State.isin(states_to_keep)]"
   ]
  },
  {
   "cell_type": "code",
   "execution_count": 12,
   "id": "f9e2627a-fde7-48bb-87f0-8869c4c3047d",
   "metadata": {},
   "outputs": [
    {
     "data": {
      "text/plain": [
       "['NY', 'CA', 'TX', 'ID', 'MS']"
      ]
     },
     "execution_count": 12,
     "metadata": {},
     "output_type": "execute_result"
    }
   ],
   "source": [
    "#checking that I filtered everything correct \n",
    "df_vehicles['State'].unique().tolist()"
   ]
  },
  {
   "cell_type": "markdown",
   "id": "0339dadc-fc00-4d11-893b-26b98e9918dd",
   "metadata": {},
   "source": [
    "### Merging the data with an inner join\n",
    "\n",
    "<i> Notes: merge1 = pd.merge(df_metrics, df_vehicles, on = \"State\", how = \"left\")\n",
    "\n",
    "merge1.shape </i>"
   ]
  },
  {
   "cell_type": "code",
   "execution_count": 13,
   "id": "de915949-fddf-40f4-87e9-7865907e26f3",
   "metadata": {},
   "outputs": [],
   "source": [
    "merge1 = df_vehicles.merge(df_metrics, how = \"inner\", on = [\"Agency\", \"State\"])\n"
   ]
  },
  {
   "cell_type": "code",
   "execution_count": 14,
   "id": "7cc11cf8-6f3c-4b99-b1bd-cb0e1098aec3",
   "metadata": {},
   "outputs": [
    {
     "data": {
      "text/plain": [
       "CA    436\n",
       "TX    167\n",
       "NY    128\n",
       "MS     29\n",
       "ID     28\n",
       "Name: State, dtype: int64"
      ]
     },
     "execution_count": 14,
     "metadata": {},
     "output_type": "execute_result"
    }
   ],
   "source": [
    "merge1.State.value_counts()"
   ]
  },
  {
   "cell_type": "code",
   "execution_count": 15,
   "id": "669f234e-fe70-4d11-8b75-61f717fd8e53",
   "metadata": {},
   "outputs": [
    {
     "data": {
      "text/html": [
       "<div>\n",
       "<style scoped>\n",
       "    .dataframe tbody tr th:only-of-type {\n",
       "        vertical-align: middle;\n",
       "    }\n",
       "\n",
       "    .dataframe tbody tr th {\n",
       "        vertical-align: top;\n",
       "    }\n",
       "\n",
       "    .dataframe thead th {\n",
       "        text-align: right;\n",
       "    }\n",
       "</style>\n",
       "<table border=\"1\" class=\"dataframe\">\n",
       "  <thead>\n",
       "    <tr style=\"text-align: right;\">\n",
       "      <th></th>\n",
       "      <th>Agency</th>\n",
       "      <th>State</th>\n",
       "      <th>Organization Type</th>\n",
       "      <th>Reporter Type</th>\n",
       "      <th>Primary UZA Population</th>\n",
       "      <th>Total Service Vehicles</th>\n",
       "      <th>City</th>\n",
       "      <th>Fare Revenues per Unlinked Passenger Trip</th>\n",
       "      <th>Fare Revenues per Total Operating Expense (Recovery Ratio)</th>\n",
       "      <th>Fare Revenues Earned</th>\n",
       "    </tr>\n",
       "  </thead>\n",
       "  <tbody>\n",
       "    <tr>\n",
       "      <th>0</th>\n",
       "      <td>MTA New York City Transit</td>\n",
       "      <td>NY</td>\n",
       "      <td>Subsidiary Unit of a Transit Agency, Reporting...</td>\n",
       "      <td>Full Reporter</td>\n",
       "      <td>18,351,295</td>\n",
       "      <td>2,297</td>\n",
       "      <td>New York</td>\n",
       "      <td>$1.34</td>\n",
       "      <td>0.70</td>\n",
       "      <td>$3,643,213,720</td>\n",
       "    </tr>\n",
       "    <tr>\n",
       "      <th>1</th>\n",
       "      <td>MTA New York City Transit</td>\n",
       "      <td>NY</td>\n",
       "      <td>Subsidiary Unit of a Transit Agency, Reporting...</td>\n",
       "      <td>Full Reporter</td>\n",
       "      <td>18,351,295</td>\n",
       "      <td>2,297</td>\n",
       "      <td>New York</td>\n",
       "      <td>$6.66</td>\n",
       "      <td>0.32</td>\n",
       "      <td>$76,398,352</td>\n",
       "    </tr>\n",
       "  </tbody>\n",
       "</table>\n",
       "</div>"
      ],
      "text/plain": [
       "                      Agency State  \\\n",
       "0  MTA New York City Transit    NY   \n",
       "1  MTA New York City Transit    NY   \n",
       "\n",
       "                                   Organization Type  Reporter Type  \\\n",
       "0  Subsidiary Unit of a Transit Agency, Reporting...  Full Reporter   \n",
       "1  Subsidiary Unit of a Transit Agency, Reporting...  Full Reporter   \n",
       "\n",
       "  Primary UZA Population Total Service Vehicles      City  \\\n",
       "0             18,351,295                  2,297  New York   \n",
       "1             18,351,295                  2,297  New York   \n",
       "\n",
       "  Fare Revenues per Unlinked Passenger Trip   \\\n",
       "0                                     $1.34    \n",
       "1                                     $6.66    \n",
       "\n",
       "  Fare Revenues per Total Operating Expense (Recovery Ratio)  \\\n",
       "0                                              0.70            \n",
       "1                                              0.32            \n",
       "\n",
       "  Fare Revenues Earned  \n",
       "0      $3,643,213,720   \n",
       "1         $76,398,352   "
      ]
     },
     "execution_count": 15,
     "metadata": {},
     "output_type": "execute_result"
    }
   ],
   "source": [
    "merge1.head(2)"
   ]
  },
  {
   "cell_type": "markdown",
   "id": "fbd3aefc-281d-4a9a-b417-fce494b9a5fc",
   "metadata": {},
   "source": [
    "### Cleaning up the files to remove (), commas, $, and blanks"
   ]
  },
  {
   "cell_type": "code",
   "execution_count": 16,
   "id": "9a859d93-0146-4071-a27e-b7cb050d8e11",
   "metadata": {
    "tags": []
   },
   "outputs": [],
   "source": [
    "#removing more columns\n",
    "merge1 = merge1.drop(['Organization Type', 'Reporter Type'], axis=1)"
   ]
  },
  {
   "cell_type": "code",
   "execution_count": 17,
   "id": "5ed24ada-9b87-4595-ad58-896905827472",
   "metadata": {
    "tags": []
   },
   "outputs": [],
   "source": [
    "\n",
    "merge1.columns = merge1.columns.str.strip().str.replace(' ', '_')"
   ]
  },
  {
   "cell_type": "code",
   "execution_count": 18,
   "id": "dcfc5845-f0a3-4817-81bd-709153e9a5c0",
   "metadata": {},
   "outputs": [
    {
     "data": {
      "text/html": [
       "<div>\n",
       "<style scoped>\n",
       "    .dataframe tbody tr th:only-of-type {\n",
       "        vertical-align: middle;\n",
       "    }\n",
       "\n",
       "    .dataframe tbody tr th {\n",
       "        vertical-align: top;\n",
       "    }\n",
       "\n",
       "    .dataframe thead th {\n",
       "        text-align: right;\n",
       "    }\n",
       "</style>\n",
       "<table border=\"1\" class=\"dataframe\">\n",
       "  <thead>\n",
       "    <tr style=\"text-align: right;\">\n",
       "      <th></th>\n",
       "      <th>Agency</th>\n",
       "      <th>State</th>\n",
       "      <th>Primary_UZA_Population</th>\n",
       "      <th>Total_Service_Vehicles</th>\n",
       "      <th>City</th>\n",
       "      <th>Fare_Revenues_per_Unlinked_Passenger_Trip</th>\n",
       "      <th>Fare_Revenues_per_Total_Operating_Expense_(Recovery_Ratio)</th>\n",
       "      <th>Fare_Revenues_Earned</th>\n",
       "    </tr>\n",
       "  </thead>\n",
       "  <tbody>\n",
       "    <tr>\n",
       "      <th>0</th>\n",
       "      <td>MTA New York City Transit</td>\n",
       "      <td>NY</td>\n",
       "      <td>18,351,295</td>\n",
       "      <td>2,297</td>\n",
       "      <td>New York</td>\n",
       "      <td>$1.34</td>\n",
       "      <td>0.70</td>\n",
       "      <td>$3,643,213,720</td>\n",
       "    </tr>\n",
       "    <tr>\n",
       "      <th>1</th>\n",
       "      <td>MTA New York City Transit</td>\n",
       "      <td>NY</td>\n",
       "      <td>18,351,295</td>\n",
       "      <td>2,297</td>\n",
       "      <td>New York</td>\n",
       "      <td>$6.66</td>\n",
       "      <td>0.32</td>\n",
       "      <td>$76,398,352</td>\n",
       "    </tr>\n",
       "  </tbody>\n",
       "</table>\n",
       "</div>"
      ],
      "text/plain": [
       "                      Agency State Primary_UZA_Population  \\\n",
       "0  MTA New York City Transit    NY             18,351,295   \n",
       "1  MTA New York City Transit    NY             18,351,295   \n",
       "\n",
       "  Total_Service_Vehicles      City Fare_Revenues_per_Unlinked_Passenger_Trip  \\\n",
       "0                  2,297  New York                                    $1.34    \n",
       "1                  2,297  New York                                    $6.66    \n",
       "\n",
       "  Fare_Revenues_per_Total_Operating_Expense_(Recovery_Ratio)  \\\n",
       "0                                              0.70            \n",
       "1                                              0.32            \n",
       "\n",
       "  Fare_Revenues_Earned  \n",
       "0      $3,643,213,720   \n",
       "1         $76,398,352   "
      ]
     },
     "execution_count": 18,
     "metadata": {},
     "output_type": "execute_result"
    }
   ],
   "source": [
    "merge1.head(2)"
   ]
  },
  {
   "cell_type": "code",
   "execution_count": 19,
   "id": "8ec8e92f-963f-42b0-ab25-1b8fe8f6dc94",
   "metadata": {
    "tags": []
   },
   "outputs": [
    {
     "data": {
      "text/html": [
       "<div>\n",
       "<style scoped>\n",
       "    .dataframe tbody tr th:only-of-type {\n",
       "        vertical-align: middle;\n",
       "    }\n",
       "\n",
       "    .dataframe tbody tr th {\n",
       "        vertical-align: top;\n",
       "    }\n",
       "\n",
       "    .dataframe thead th {\n",
       "        text-align: right;\n",
       "    }\n",
       "</style>\n",
       "<table border=\"1\" class=\"dataframe\">\n",
       "  <thead>\n",
       "    <tr style=\"text-align: right;\">\n",
       "      <th></th>\n",
       "      <th>Agency</th>\n",
       "      <th>State</th>\n",
       "      <th>Primary_UZA_Population</th>\n",
       "      <th>Total_Service_Vehicles</th>\n",
       "      <th>City</th>\n",
       "      <th>Fare_Revenues_per_Unlinked_Passenger_Trip</th>\n",
       "      <th>Fare_Revenues_per_Total_Operating_Expense_(Recovery_Ratio)</th>\n",
       "      <th>Fare_Revenues_Earned</th>\n",
       "    </tr>\n",
       "  </thead>\n",
       "  <tbody>\n",
       "    <tr>\n",
       "      <th>0</th>\n",
       "      <td>MTA New York City Transit</td>\n",
       "      <td>NY</td>\n",
       "      <td>18,351,295</td>\n",
       "      <td>2,297</td>\n",
       "      <td>New York</td>\n",
       "      <td>$1.34</td>\n",
       "      <td>0.70</td>\n",
       "      <td>$3,643,213,720</td>\n",
       "    </tr>\n",
       "  </tbody>\n",
       "</table>\n",
       "</div>"
      ],
      "text/plain": [
       "                      Agency State Primary_UZA_Population  \\\n",
       "0  MTA New York City Transit    NY             18,351,295   \n",
       "\n",
       "  Total_Service_Vehicles      City Fare_Revenues_per_Unlinked_Passenger_Trip  \\\n",
       "0                  2,297  New York                                    $1.34    \n",
       "\n",
       "  Fare_Revenues_per_Total_Operating_Expense_(Recovery_Ratio)  \\\n",
       "0                                              0.70            \n",
       "\n",
       "  Fare_Revenues_Earned  \n",
       "0      $3,643,213,720   "
      ]
     },
     "execution_count": 19,
     "metadata": {},
     "output_type": "execute_result"
    }
   ],
   "source": [
    "#dropping na \n",
    "merge1 = merge1.dropna()\n",
    "merge1.dropna(axis='columns').head(1)"
   ]
  },
  {
   "cell_type": "code",
   "execution_count": 20,
   "id": "07f72a73-a08b-48db-abc2-882220671e51",
   "metadata": {},
   "outputs": [
    {
     "name": "stdout",
     "output_type": "stream",
     "text": [
      "0\n"
     ]
    }
   ],
   "source": [
    "#making sure no nulls\n",
    "print(merge1.isnull().sum().sum())"
   ]
  },
  {
   "cell_type": "code",
   "execution_count": 21,
   "id": "35244172-219c-4f38-90c3-0c441416da0c",
   "metadata": {},
   "outputs": [
    {
     "name": "stdout",
     "output_type": "stream",
     "text": [
      "<class 'pandas.core.frame.DataFrame'>\n",
      "Int64Index: 788 entries, 0 to 787\n",
      "Data columns (total 8 columns):\n",
      " #   Column                                                      Non-Null Count  Dtype \n",
      "---  ------                                                      --------------  ----- \n",
      " 0   Agency                                                      788 non-null    object\n",
      " 1   State                                                       788 non-null    object\n",
      " 2   Primary_UZA_Population                                      788 non-null    object\n",
      " 3   Total_Service_Vehicles                                      788 non-null    object\n",
      " 4   City                                                        788 non-null    object\n",
      " 5   Fare_Revenues_per_Unlinked_Passenger_Trip                   788 non-null    object\n",
      " 6   Fare_Revenues_per_Total_Operating_Expense_(Recovery_Ratio)  788 non-null    object\n",
      " 7   Fare_Revenues_Earned                                        788 non-null    object\n",
      "dtypes: object(8)\n",
      "memory usage: 55.4+ KB\n"
     ]
    }
   ],
   "source": [
    "merge1.info()"
   ]
  },
  {
   "cell_type": "markdown",
   "id": "882a0ecd-de25-42b8-9a5e-f5b228fe5b80",
   "metadata": {
    "tags": []
   },
   "source": [
    "### HELP: \n",
    "\n",
    "<li>I tried to convert the Fare Revenues Recovery Ratio & Unliked Passenger Trip (columns 5 & 6) into the float data type but it gave me an error message. </li>\n",
    "<li> I tried to replace the (126346) in Fare Revnues all on one line, however I keep getting an error when  I try to convert it into an integer...\"invalid literal for int() with base 10: '(126346)'\", so I had to do it in a seperate cell below</li>"
   ]
  },
  {
   "cell_type": "code",
   "execution_count": 24,
   "id": "439f0878-a330-4741-8c55-bd6623978cee",
   "metadata": {
    "tags": []
   },
   "outputs": [],
   "source": [
    "merge1 = merge1.assign(\n",
    "    Agency = merge1.Agency.str.strip(),\n",
    "    Fare_Revenues_per_Unlinked_Passenger_Trip = merge1.Fare_Revenues_per_Unlinked_Passenger_Trip.str.strip().replace({'\\$':''}, regex=True),\n",
    "    City = merge1.City.str.strip(),\n",
    "    State = merge1.State.str.strip(),\n",
    "    Total_Service_Vehicles = merge1.Total_Service_Vehicles.str.strip().replace(',','', regex=True),\n",
    "    Fare_Revenues_Earned = merge1.Fare_Revenues_Earned.str.strip().replace('(126346)', '-126346').replace(',','',regex=True).replace({'\\$':''}, regex=True),\n",
    "    Primary_UZA_Population = merge1.Primary_UZA_Population.str.strip().replace(',','',regex = True)\n",
    ").astype({\n",
    "    \"Primary_UZA_Population\":int,\n",
    "    \"Total_Service_Vehicles\":int,\n",
    "}) "
   ]
  },
  {
   "cell_type": "code",
   "execution_count": 28,
   "id": "20ff8899-fc6a-4842-96e5-78d737a00195",
   "metadata": {},
   "outputs": [
    {
     "data": {
      "text/plain": [
       "Agency                                                        object\n",
       "State                                                         object\n",
       "Primary_UZA_Population                                         int64\n",
       "Total_Service_Vehicles                                         int64\n",
       "City                                                          object\n",
       "Fare_Revenues_per_Unlinked_Passenger_Trip                     object\n",
       "Fare_Revenues_per_Total_Operating_Expense_(Recovery_Ratio)    object\n",
       "Fare_Revenues_Earned                                           int64\n",
       "dtype: object"
      ]
     },
     "execution_count": 28,
     "metadata": {},
     "output_type": "execute_result"
    }
   ],
   "source": [
    "merge1[\"Fare_Revenues_Earned\"].replace({\"(126346)\": \"-126346\"}, inplace=True)\n",
    "merge1.astype({\"Fare_Revenues_Earned\": 'int64'}).dtypes"
   ]
  },
  {
   "cell_type": "code",
   "execution_count": 29,
   "id": "4c401aa8-c7e5-401b-8d16-da299fabfb4d",
   "metadata": {},
   "outputs": [
    {
     "data": {
      "text/html": [
       "<div>\n",
       "<style scoped>\n",
       "    .dataframe tbody tr th:only-of-type {\n",
       "        vertical-align: middle;\n",
       "    }\n",
       "\n",
       "    .dataframe tbody tr th {\n",
       "        vertical-align: top;\n",
       "    }\n",
       "\n",
       "    .dataframe thead th {\n",
       "        text-align: right;\n",
       "    }\n",
       "</style>\n",
       "<table border=\"1\" class=\"dataframe\">\n",
       "  <thead>\n",
       "    <tr style=\"text-align: right;\">\n",
       "      <th></th>\n",
       "      <th>Agency</th>\n",
       "      <th>State</th>\n",
       "      <th>Primary_UZA_Population</th>\n",
       "      <th>Total_Service_Vehicles</th>\n",
       "      <th>City</th>\n",
       "      <th>Fare_Revenues_per_Unlinked_Passenger_Trip</th>\n",
       "      <th>Fare_Revenues_per_Total_Operating_Expense_(Recovery_Ratio)</th>\n",
       "      <th>Fare_Revenues_Earned</th>\n",
       "    </tr>\n",
       "  </thead>\n",
       "  <tbody>\n",
       "    <tr>\n",
       "      <th>0</th>\n",
       "      <td>MTA New York City Transit</td>\n",
       "      <td>NY</td>\n",
       "      <td>18351295</td>\n",
       "      <td>2297</td>\n",
       "      <td>New York</td>\n",
       "      <td>1.34</td>\n",
       "      <td>0.70</td>\n",
       "      <td>3643213720</td>\n",
       "    </tr>\n",
       "    <tr>\n",
       "      <th>1</th>\n",
       "      <td>MTA New York City Transit</td>\n",
       "      <td>NY</td>\n",
       "      <td>18351295</td>\n",
       "      <td>2297</td>\n",
       "      <td>New York</td>\n",
       "      <td>6.66</td>\n",
       "      <td>0.32</td>\n",
       "      <td>76398352</td>\n",
       "    </tr>\n",
       "  </tbody>\n",
       "</table>\n",
       "</div>"
      ],
      "text/plain": [
       "                      Agency State  Primary_UZA_Population  \\\n",
       "0  MTA New York City Transit    NY                18351295   \n",
       "1  MTA New York City Transit    NY                18351295   \n",
       "\n",
       "   Total_Service_Vehicles      City Fare_Revenues_per_Unlinked_Passenger_Trip  \\\n",
       "0                    2297  New York                                      1.34   \n",
       "1                    2297  New York                                      6.66   \n",
       "\n",
       "  Fare_Revenues_per_Total_Operating_Expense_(Recovery_Ratio)  \\\n",
       "0                                              0.70            \n",
       "1                                              0.32            \n",
       "\n",
       "  Fare_Revenues_Earned  \n",
       "0           3643213720  \n",
       "1             76398352  "
      ]
     },
     "execution_count": 29,
     "metadata": {},
     "output_type": "execute_result"
    }
   ],
   "source": [
    "merge1.head(2)"
   ]
  },
  {
   "cell_type": "markdown",
   "id": "e5293556-509c-416e-8ad5-2dbf7331b94b",
   "metadata": {},
   "source": [
    "# Analyzing & Plotting\n",
    "---"
   ]
  },
  {
   "cell_type": "markdown",
   "id": "23394b34-b26d-4d9d-bd65-d43b269851f3",
   "metadata": {},
   "source": [
    "#### Random Aggregates HELP\n",
    "#### Why is the sum something totally crazy??"
   ]
  },
  {
   "cell_type": "code",
   "execution_count": 57,
   "id": "44919fda-2b65-4312-ac8b-15a1c074b658",
   "metadata": {},
   "outputs": [
    {
     "data": {
      "text/html": [
       "<div>\n",
       "<style scoped>\n",
       "    .dataframe tbody tr th:only-of-type {\n",
       "        vertical-align: middle;\n",
       "    }\n",
       "\n",
       "    .dataframe tbody tr th {\n",
       "        vertical-align: top;\n",
       "    }\n",
       "\n",
       "    .dataframe thead th {\n",
       "        text-align: right;\n",
       "    }\n",
       "</style>\n",
       "<table border=\"1\" class=\"dataframe\">\n",
       "  <thead>\n",
       "    <tr style=\"text-align: right;\">\n",
       "      <th></th>\n",
       "      <th>State</th>\n",
       "      <th>Agency</th>\n",
       "      <th>Primary_UZA_Population</th>\n",
       "      <th>Total_Service_Vehicles</th>\n",
       "      <th>City</th>\n",
       "      <th>Fare_Revenues_Earned</th>\n",
       "    </tr>\n",
       "  </thead>\n",
       "  <tbody>\n",
       "    <tr>\n",
       "      <th>0</th>\n",
       "      <td>CA</td>\n",
       "      <td>436</td>\n",
       "      <td>1872380671</td>\n",
       "      <td>21260</td>\n",
       "      <td>436</td>\n",
       "      <td>113433.5</td>\n",
       "    </tr>\n",
       "    <tr>\n",
       "      <th>1</th>\n",
       "      <td>ID</td>\n",
       "      <td>28</td>\n",
       "      <td>2240334</td>\n",
       "      <td>88</td>\n",
       "      <td>28</td>\n",
       "      <td>7584.5</td>\n",
       "    </tr>\n",
       "    <tr>\n",
       "      <th>2</th>\n",
       "      <td>MS</td>\n",
       "      <td>29</td>\n",
       "      <td>1490516</td>\n",
       "      <td>42</td>\n",
       "      <td>29</td>\n",
       "      <td>24614.0</td>\n",
       "    </tr>\n",
       "    <tr>\n",
       "      <th>3</th>\n",
       "      <td>NY</td>\n",
       "      <td>128</td>\n",
       "      <td>658118380</td>\n",
       "      <td>16683</td>\n",
       "      <td>128</td>\n",
       "      <td>99040.5</td>\n",
       "    </tr>\n",
       "    <tr>\n",
       "      <th>4</th>\n",
       "      <td>TX</td>\n",
       "      <td>167</td>\n",
       "      <td>234448141</td>\n",
       "      <td>9560</td>\n",
       "      <td>167</td>\n",
       "      <td>80518.0</td>\n",
       "    </tr>\n",
       "  </tbody>\n",
       "</table>\n",
       "</div>"
      ],
      "text/plain": [
       "  State  Agency  Primary_UZA_Population  Total_Service_Vehicles  City  \\\n",
       "0    CA     436              1872380671                   21260   436   \n",
       "1    ID      28                 2240334                      88    28   \n",
       "2    MS      29                 1490516                      42    29   \n",
       "3    NY     128               658118380                   16683   128   \n",
       "4    TX     167               234448141                    9560   167   \n",
       "\n",
       "   Fare_Revenues_Earned  \n",
       "0              113433.5  \n",
       "1                7584.5  \n",
       "2               24614.0  \n",
       "3               99040.5  \n",
       "4               80518.0  "
      ]
     },
     "execution_count": 57,
     "metadata": {},
     "output_type": "execute_result"
    }
   ],
   "source": [
    "analysis = merge1.groupby(['State']).agg({'Agency':'count', 'Primary_UZA_Population': 'sum', \n",
    "                                                 'Total_Service_Vehicles':'sum','City': 'count',\n",
    "                                         'Fare_Revenues_Earned': 'median'}).reset_index()\n",
    "analysis.head()"
   ]
  },
  {
   "cell_type": "markdown",
   "id": "2f1044af-f3f7-41b8-95b1-7d009147bdcf",
   "metadata": {},
   "source": [
    "#### Per Capita Total Service Vehicles Measure Across 5 States"
   ]
  },
  {
   "cell_type": "code",
   "execution_count": 47,
   "id": "9788c010-edf2-4b51-92ac-e3bf5898e9be",
   "metadata": {},
   "outputs": [
    {
     "data": {
      "text/html": [
       "<div>\n",
       "<style scoped>\n",
       "    .dataframe tbody tr th:only-of-type {\n",
       "        vertical-align: middle;\n",
       "    }\n",
       "\n",
       "    .dataframe tbody tr th {\n",
       "        vertical-align: top;\n",
       "    }\n",
       "\n",
       "    .dataframe thead th {\n",
       "        text-align: right;\n",
       "    }\n",
       "</style>\n",
       "<table border=\"1\" class=\"dataframe\">\n",
       "  <thead>\n",
       "    <tr style=\"text-align: right;\">\n",
       "      <th></th>\n",
       "      <th>index</th>\n",
       "      <th>State</th>\n",
       "      <th>Agency</th>\n",
       "      <th>Primary_UZA_Population</th>\n",
       "      <th>Total_Service_Vehicles</th>\n",
       "      <th>City</th>\n",
       "      <th>Fare_Revenues_Earned</th>\n",
       "      <th>Per_Capita_Service_Vehicles</th>\n",
       "    </tr>\n",
       "  </thead>\n",
       "  <tbody>\n",
       "    <tr>\n",
       "      <th>0</th>\n",
       "      <td>0</td>\n",
       "      <td>CA</td>\n",
       "      <td>436</td>\n",
       "      <td>1872380671</td>\n",
       "      <td>21260</td>\n",
       "      <td>436</td>\n",
       "      <td>113433.5</td>\n",
       "      <td>1.135453</td>\n",
       "    </tr>\n",
       "    <tr>\n",
       "      <th>1</th>\n",
       "      <td>1</td>\n",
       "      <td>ID</td>\n",
       "      <td>28</td>\n",
       "      <td>2240334</td>\n",
       "      <td>88</td>\n",
       "      <td>28</td>\n",
       "      <td>7584.5</td>\n",
       "      <td>3.927986</td>\n",
       "    </tr>\n",
       "    <tr>\n",
       "      <th>2</th>\n",
       "      <td>2</td>\n",
       "      <td>MS</td>\n",
       "      <td>29</td>\n",
       "      <td>1490516</td>\n",
       "      <td>42</td>\n",
       "      <td>29</td>\n",
       "      <td>24614.0</td>\n",
       "      <td>2.817816</td>\n",
       "    </tr>\n",
       "    <tr>\n",
       "      <th>3</th>\n",
       "      <td>3</td>\n",
       "      <td>NY</td>\n",
       "      <td>128</td>\n",
       "      <td>658118380</td>\n",
       "      <td>16683</td>\n",
       "      <td>128</td>\n",
       "      <td>99040.5</td>\n",
       "      <td>2.534954</td>\n",
       "    </tr>\n",
       "    <tr>\n",
       "      <th>4</th>\n",
       "      <td>4</td>\n",
       "      <td>TX</td>\n",
       "      <td>167</td>\n",
       "      <td>234448141</td>\n",
       "      <td>9560</td>\n",
       "      <td>167</td>\n",
       "      <td>80518.0</td>\n",
       "      <td>4.077661</td>\n",
       "    </tr>\n",
       "  </tbody>\n",
       "</table>\n",
       "</div>"
      ],
      "text/plain": [
       "   index State  Agency  Primary_UZA_Population  Total_Service_Vehicles  City  \\\n",
       "0      0    CA     436              1872380671                   21260   436   \n",
       "1      1    ID      28                 2240334                      88    28   \n",
       "2      2    MS      29                 1490516                      42    29   \n",
       "3      3    NY     128               658118380                   16683   128   \n",
       "4      4    TX     167               234448141                    9560   167   \n",
       "\n",
       "   Fare_Revenues_Earned  Per_Capita_Service_Vehicles  \n",
       "0              113433.5                     1.135453  \n",
       "1                7584.5                     3.927986  \n",
       "2               24614.0                     2.817816  \n",
       "3               99040.5                     2.534954  \n",
       "4               80518.0                     4.077661  "
      ]
     },
     "execution_count": 47,
     "metadata": {},
     "output_type": "execute_result"
    }
   ],
   "source": [
    "per_capita = analysis.assign(Per_Capita_Service_Vehicles = lambda x: (x.Total_Service_Vehicles / x.Primary_UZA_Population)*100000  ).reset_index()\n",
    "per_capita"
   ]
  },
  {
   "cell_type": "code",
   "execution_count": 42,
   "id": "71fe0999-c43c-4a6b-ad96-ca4312307970",
   "metadata": {},
   "outputs": [],
   "source": [
    "from plotnine import *"
   ]
  },
  {
   "cell_type": "code",
   "execution_count": 87,
   "id": "decaccf2-4f6b-4b35-be0a-18710a625b07",
   "metadata": {},
   "outputs": [
    {
     "data": {
      "image/png": "[encoded data removed]",
      "text/plain": [
       "<Figure size 640x480 with 1 Axes>"
      ]
     },
     "metadata": {},
     "output_type": "display_data"
    },
    {
     "data": {
      "text/plain": [
       "<ggplot: (8766334221803)>"
      ]
     },
     "execution_count": 87,
     "metadata": {},
     "output_type": "execute_result"
    }
   ],
   "source": [
    "(ggplot(per_capita, aes('State', 'Per_Capita_Service_Vehicles', shape='State', size=3))\n",
    " + geom_point()) + labs(title = \"Per Capita Service Vehicles by State\") "
   ]
  },
  {
   "cell_type": "code",
   "execution_count": 82,
   "id": "c0f71ae3-99d5-424c-8b10-a95ba654a755",
   "metadata": {},
   "outputs": [
    {
     "name": "stderr",
     "output_type": "stream",
     "text": [
      "/opt/conda/lib/python3.9/site-packages/plotnine/guides/guides.py:197: PlotnineWarning: Cannot generate legend for the 'color' aesthetic. Make sure you have mapped a variable to it\n"
     ]
    },
    {
     "data": {
      "image/png": "[encoded data removed]",
      "text/plain": [
       "<Figure size 640x480 with 1 Axes>"
      ]
     },
     "metadata": {},
     "output_type": "display_data"
    },
    {
     "data": {
      "text/plain": [
       "<ggplot: (8766334095662)>"
      ]
     },
     "execution_count": 82,
     "metadata": {},
     "output_type": "execute_result"
    }
   ],
   "source": [
    "ggplot(per_capita) + geom_col(aes(x='State', y='Fare_Revenues_Earned', fill='State')) + labs(\n",
    "    title=\"Average Fare Revenues Earned by  State\") + scale_color_grey()"
   ]
  }
 ],
 "metadata": {
  "kernelspec": {
   "display_name": "Python 3 (ipykernel)",
   "language": "python",
   "name": "python3"
  },
  "language_info": {
   "codemirror_mode": {
    "name": "ipython",
    "version": 3
   },
   "file_extension": ".py",
   "mimetype": "text/x-python",
   "name": "python",
   "nbconvert_exporter": "python",
   "pygments_lexer": "ipython3",
   "version": "3.9.7"
  }
 },
 "nbformat": 4,
 "nbformat_minor": 5
}
