{
 "cells": [
  {
   "cell_type": "code",
   "execution_count": 1,
   "id": "verbal-introduction",
   "metadata": {
    "lines_to_next_cell": 2
   },
   "outputs": [
    {
     "name": "stderr",
     "output_type": "stream",
     "text": [
      "/opt/conda/lib/python3.10/site-packages/geopandas/_compat.py:123: UserWarning: The Shapely GEOS version (3.10.3-CAPI-1.16.1) is incompatible with the GEOS version PyGEOS was compiled with (3.10.1-CAPI-1.16.0). Conversions between both will be slow.\n",
      "  warnings.warn(\n",
      "OMP: Info #276: omp_set_nested routine deprecated, please use omp_set_max_active_levels instead.\n",
      "/opt/conda/lib/python3.10/site-packages/spaghetti/network.py:39: FutureWarning: The next major release of pysal/spaghetti (2.0.0) will drop support for all ``libpysal.cg`` geometries. This change is a first step in refactoring ``spaghetti`` that is expected to result in dramatically reduced runtimes for network instantiation and operations. Users currently requiring network and point pattern input as ``libpysal.cg`` geometries should prepare for this simply by converting to ``shapely`` geometries.\n",
      "  warnings.warn(f\"{dep_msg}\", FutureWarning)\n"
     ]
    },
    {
     "ename": "ImportError",
     "evalue": "cannot import name 'tbl' from 'calitp.tables' (/opt/conda/lib/python3.10/site-packages/calitp/tables.py)",
     "output_type": "error",
     "traceback": [
      "\u001b[0;31m---------------------------------------------------------------------------\u001b[0m",
      "\u001b[0;31mImportError\u001b[0m                               Traceback (most recent call last)",
      "Cell \u001b[0;32mIn [1], line 25\u001b[0m\n\u001b[1;32m     23\u001b[0m \u001b[38;5;28;01mimport\u001b[39;00m \u001b[38;5;21;01mbranca\u001b[39;00m\n\u001b[1;32m     24\u001b[0m \u001b[38;5;28;01mimport\u001b[39;00m \u001b[38;5;21;01mfolium\u001b[39;00m\n\u001b[0;32m---> 25\u001b[0m \u001b[38;5;28;01mimport\u001b[39;00m \u001b[38;5;21;01mshared_utils\u001b[39;00m\n\u001b[1;32m     27\u001b[0m \u001b[38;5;28;01mfrom\u001b[39;00m \u001b[38;5;21;01msiuba\u001b[39;00m \u001b[38;5;28;01mimport\u001b[39;00m \u001b[38;5;241m*\u001b[39m\n\u001b[1;32m     29\u001b[0m pd\u001b[38;5;241m.\u001b[39mset_option(\u001b[38;5;124m'\u001b[39m\u001b[38;5;124mdisplay.max_columns\u001b[39m\u001b[38;5;124m'\u001b[39m, \u001b[38;5;28;01mNone\u001b[39;00m)\n",
      "File \u001b[0;32m~/data-analyses/_shared_utils/shared_utils/__init__.py:1\u001b[0m\n\u001b[0;32m----> 1\u001b[0m \u001b[38;5;28;01mfrom\u001b[39;00m \u001b[38;5;21;01m.\u001b[39;00m \u001b[38;5;28;01mimport\u001b[39;00m (\n\u001b[1;32m      2\u001b[0m     altair_utils,\n\u001b[1;32m      3\u001b[0m     calitp_color_palette,\n\u001b[1;32m      4\u001b[0m     geography_utils,\n\u001b[1;32m      5\u001b[0m     gtfs_utils,\n\u001b[1;32m      6\u001b[0m     map_utils,\n\u001b[1;32m      7\u001b[0m     portfolio_utils,\n\u001b[1;32m      8\u001b[0m     rt_dates,\n\u001b[1;32m      9\u001b[0m     rt_utils,\n\u001b[1;32m     10\u001b[0m     styleguide,\n\u001b[1;32m     11\u001b[0m     utils,\n\u001b[1;32m     12\u001b[0m )\n\u001b[1;32m     14\u001b[0m __version__ \u001b[38;5;241m=\u001b[39m \u001b[38;5;124m\"\u001b[39m\u001b[38;5;124m0.1.2\u001b[39m\u001b[38;5;124m\"\u001b[39m\n\u001b[1;32m     16\u001b[0m __all__ \u001b[38;5;241m=\u001b[39m [\n\u001b[1;32m     17\u001b[0m     \u001b[38;5;124m\"\u001b[39m\u001b[38;5;124maltair_utils\u001b[39m\u001b[38;5;124m\"\u001b[39m,\n\u001b[1;32m     18\u001b[0m     \u001b[38;5;124m\"\u001b[39m\u001b[38;5;124mcalitp_color_palette\u001b[39m\u001b[38;5;124m\"\u001b[39m,\n\u001b[0;32m   (...)\u001b[0m\n\u001b[1;32m     26\u001b[0m     \u001b[38;5;124m\"\u001b[39m\u001b[38;5;124mutils\u001b[39m\u001b[38;5;124m\"\u001b[39m,\n\u001b[1;32m     27\u001b[0m ]\n",
      "File \u001b[0;32m~/data-analyses/_shared_utils/shared_utils/geography_utils.py:11\u001b[0m\n\u001b[1;32m      9\u001b[0m \u001b[38;5;28;01mimport\u001b[39;00m \u001b[38;5;21;01mshapely\u001b[39;00m\n\u001b[1;32m     10\u001b[0m \u001b[38;5;28;01mfrom\u001b[39;00m \u001b[38;5;21;01mcalitp\u001b[39;00m \u001b[38;5;28;01mimport\u001b[39;00m query_sql\n\u001b[0;32m---> 11\u001b[0m \u001b[38;5;28;01mfrom\u001b[39;00m \u001b[38;5;21;01mcalitp\u001b[39;00m\u001b[38;5;21;01m.\u001b[39;00m\u001b[38;5;21;01mtables\u001b[39;00m \u001b[38;5;28;01mimport\u001b[39;00m tbl\n\u001b[1;32m     12\u001b[0m \u001b[38;5;28;01mfrom\u001b[39;00m \u001b[38;5;21;01msiuba\u001b[39;00m \u001b[38;5;28;01mimport\u001b[39;00m \u001b[38;5;241m*\u001b[39m\n\u001b[1;32m     14\u001b[0m WGS84 \u001b[38;5;241m=\u001b[39m \u001b[38;5;124m\"\u001b[39m\u001b[38;5;124mEPSG:4326\u001b[39m\u001b[38;5;124m\"\u001b[39m\n",
      "\u001b[0;31mImportError\u001b[0m: cannot import name 'tbl' from 'calitp.tables' (/opt/conda/lib/python3.10/site-packages/calitp/tables.py)"
     ]
    }
   ],
   "source": [
    "#https://pysal.org/libpysal/notebooks/weights.html\n",
    "import os\n",
    "os.environ[\"CALITP_BQ_MAX_BYTES\"] = str(800_000_000_000) ## 800GB?\n",
    "\n",
    "from libpysal.weights import Queen, Rook, KNN\n",
    "\n",
    "from pysal.lib import weights\n",
    "from pysal.explore import esda\n",
    "from pysal.model import spreg\n",
    "\n",
    "from shapely import wkb\n",
    "from sklearn.cluster import KMeans\n",
    "\n",
    "import matplotlib.pyplot as plt\n",
    "import statsmodels.formula.api as sm\n",
    "\n",
    "# import contextily\n",
    "import geopandas as gpd\n",
    "import numpy as np\n",
    "import pandas as pd\n",
    "import seaborn as sns\n",
    "\n",
    "import branca\n",
    "import folium\n",
    "import shared_utils\n",
    "\n",
    "from siuba import *\n",
    "\n",
    "pd.set_option('display.max_columns', None) "
   ]
  },
  {
   "cell_type": "code",
   "execution_count": null,
   "id": "14673064-5824-46bc-ab59-df9edcf5285e",
   "metadata": {},
   "outputs": [],
   "source": [
    "gdf = gpd.read_parquet('gs://calitp-analytics-data/data-analyses/ahsc_grant/analytical_tbl.parquet')\n",
    "gdf = gdf.dropna()\n",
    "gdf"
   ]
  },
  {
   "cell_type": "code",
   "execution_count": null,
   "id": "c861a558-ea29-4e79-ba2e-e0cf489b1732",
   "metadata": {},
   "outputs": [],
   "source": [
    "gdf['weekday_ons'].describe()"
   ]
  },
  {
   "cell_type": "code",
   "execution_count": null,
   "id": "eb3ca3b4-5893-44a3-8274-0e4d5047c5c7",
   "metadata": {},
   "outputs": [],
   "source": [
    "sns.histplot(gdf['weekday_ons'])"
   ]
  },
  {
   "cell_type": "code",
   "execution_count": null,
   "id": "e0781ccc-17b4-4d44-a679-5ccabcb3160a",
   "metadata": {},
   "outputs": [],
   "source": [
    "sns.histplot(np.log(gdf['weekday_ons']))"
   ]
  },
  {
   "cell_type": "code",
   "execution_count": null,
   "id": "2ae1f36f-0511-420f-9857-38a426063e72",
   "metadata": {},
   "outputs": [],
   "source": [
    "sns.histplot(gdf['pop_density'])"
   ]
  },
  {
   "cell_type": "code",
   "execution_count": null,
   "id": "b2175540-7aba-4330-aaa7-7cd9953c3273",
   "metadata": {},
   "outputs": [],
   "source": [
    "sns.histplot(np.log(gdf['pop_density']))"
   ]
  },
  {
   "cell_type": "code",
   "execution_count": null,
   "id": "59a7de7a-a196-4d78-ad04-b19c4488afb2",
   "metadata": {},
   "outputs": [],
   "source": [
    "sns.histplot(np.log(gdf['job_density']))"
   ]
  },
  {
   "cell_type": "code",
   "execution_count": null,
   "id": "fdca259c-51ca-4770-80d4-c7b9eb7cfd7b",
   "metadata": {},
   "outputs": [],
   "source": [
    "gdf.columns"
   ]
  },
  {
   "cell_type": "code",
   "execution_count": null,
   "id": "4b0f4738-6f35-4c30-89ee-37cd6c4744e4",
   "metadata": {},
   "outputs": [],
   "source": [
    "# Multiply all percentage columns by 100 for easier OLS interpretation\n",
    "for column in gdf.columns:\n",
    "    if 'pct' in column:\n",
    "        gdf[column] = gdf[column] * 100\n",
    "gdf.head()"
   ]
  },
  {
   "cell_type": "code",
   "execution_count": null,
   "id": "9dedc58d-062b-4b4c-bbd7-3700aee95fc6",
   "metadata": {},
   "outputs": [],
   "source": [
    "# add constant to ridership to avoid log(0) - small bias but empirically supported\n",
    "gdf['log_weekday_ons'] = np.log(gdf['weekday_ons']+1)\n",
    "#gdf['log_weekday_ons'] = gdf['log_weekday_ons'].replace(np.NINF, 0) #replace undefined values produced from np.log(0) w/ 0\n",
    "\n",
    "# also log pop and job density\n",
    "gdf['log_pop_density'] = np.log(gdf['pop_density']+1)\n",
    "gdf['log_job_density'] = np.log(gdf['job_density']+1)"
   ]
  },
  {
   "cell_type": "code",
   "execution_count": null,
   "id": "b941299a-1f22-44a0-8638-e55d02f4c96b",
   "metadata": {},
   "outputs": [],
   "source": [
    "# Weekday_ons ~ n_trips_weekday + pop_density + job_density + pct: \n",
    "# Intuition is to only use use pct variables because we don’t want to double count people in areas around multiple stops. Whereas, trips are characteristic of the stop itself\n",
    "\n",
    "explanatory_vars = ['n_trips_weekday','pop_density', 'job_density','pct_not_us_citizen_pop',\n",
    "                    'pct_youth_pop', 'pct_seniors_pop', 'pct_pop_workers_no_car', 'pct_poverty']\n",
    "\n",
    "explanatory_vars_short = ['n_trips_weekday','pop_density', 'pct_not_us_citizen_pop',\n",
    "                    'pct_youth_pop', 'pct_seniors_pop', 'pct_pop_workers_no_car']\n"
   ]
  },
  {
   "cell_type": "markdown",
   "id": "08a3a3b6-1ae2-487c-bff4-cd9f7f6868e7",
   "metadata": {},
   "source": [
    "Comparing version with job_density and poverty to one without, to evaluate multicollinearity. Had race variables, but dropped them due to lack of correlation with ridership."
   ]
  },
  {
   "cell_type": "markdown",
   "id": "bf15aa80-52b3-42a4-92e8-7a701fac3a54",
   "metadata": {},
   "source": [
    "### OLS Untransformed model"
   ]
  },
  {
   "cell_type": "code",
   "execution_count": null,
   "id": "76c4fdd0-6454-48df-8a92-8d3661822bbf",
   "metadata": {},
   "outputs": [],
   "source": [
    "# model with more explanatory variables\n",
    "m = spreg.OLS(gdf[['weekday_ons']].values, gdf[explanatory_vars].values, \n",
    "                  name_y = 'weekday_ons', name_x = explanatory_vars)\n",
    "print(m.summary)"
   ]
  },
  {
   "cell_type": "code",
   "execution_count": null,
   "id": "d7e54887-61a6-4392-9618-6b52516ecd45",
   "metadata": {},
   "outputs": [],
   "source": [
    "# model with fewer explanatory variables\n",
    "m2 = spreg.OLS(gdf[['weekday_ons']].values, gdf[explanatory_vars_short].values, \n",
    "                  name_y = 'weekday_ons', name_x = explanatory_vars_short)\n",
    "print(m2.summary)"
   ]
  },
  {
   "cell_type": "markdown",
   "id": "4a71a1ad-dd2e-4a85-958f-c7f97d865aac",
   "metadata": {},
   "source": [
    "### OLS Log-Linear model"
   ]
  },
  {
   "cell_type": "code",
   "execution_count": null,
   "id": "919f16bd-f265-42ab-9890-3c64b5bc91f9",
   "metadata": {},
   "outputs": [],
   "source": [
    "gdf['log_weekday_ons'].replace(np.NINF, 0).value_counts()"
   ]
  },
  {
   "cell_type": "code",
   "execution_count": null,
   "id": "1375f186-ede7-4639-bb1c-1da235a0f54f",
   "metadata": {},
   "outputs": [],
   "source": [
    "# log model with more vars\n",
    "m_log = spreg.OLS(gdf[['log_weekday_ons']].values, gdf[explanatory_vars].values, \n",
    "                  name_y = 'log_weekday_ons', name_x = explanatory_vars)\n",
    "print(m_log.summary)"
   ]
  },
  {
   "cell_type": "code",
   "execution_count": null,
   "id": "ccdc6e8e-04fd-4007-baed-8aee63db2ed9",
   "metadata": {},
   "outputs": [],
   "source": [
    "# log model with fewer vars\n",
    "m_log2 = spreg.OLS(gdf[['log_weekday_ons']].values, gdf[explanatory_vars_short].values, \n",
    "                  name_y = 'log_weekday_ons', name_x = explanatory_vars_short)\n",
    "print(m_log2.summary)"
   ]
  },
  {
   "cell_type": "code",
   "execution_count": null,
   "id": "09f8a5eb-39dc-401f-bc83-5b9c7566ebce",
   "metadata": {},
   "outputs": [],
   "source": [
    "#exponentiate coefficients to interpret\n",
    "import math\n",
    "\n",
    "m_log_df = pd.DataFrame() \n",
    "m_log_df['Variable']=m_log.name_x\n",
    "m_log_df['Coefficient']=m_log.betas\n",
    "m_log_df.dtypes"
   ]
  },
  {
   "cell_type": "code",
   "execution_count": null,
   "id": "2253fe5d-eee3-4b92-891d-68e2a83e0ae9",
   "metadata": {},
   "outputs": [],
   "source": [
    "pd.set_option('display.float_format', lambda x: '%.5f' % x)\n",
    "\n",
    "m_log_df['Coeff_Exp']=(np.exp(m_log_df['Coefficient'])-1)*100\n",
    "m_log_df"
   ]
  },
  {
   "cell_type": "code",
   "execution_count": null,
   "id": "f4682ffe-68a5-4927-a61f-d0c440b791df",
   "metadata": {},
   "outputs": [],
   "source": [
    "# testing ons-per-capita - doesn't work\n",
    "gdf = (gdf\n",
    "       >> mutate(weekday_ons_per_capita = _.weekday_ons/_.sum_total_pop)\n",
    "      )"
   ]
  },
  {
   "cell_type": "code",
   "execution_count": null,
   "id": "03818ef4-e28c-4e64-91ff-47804a368244",
   "metadata": {},
   "outputs": [],
   "source": [
    "m_log = spreg.OLS(gdf[['weekday_ons_per_capita']].values, gdf[explanatory_vars].values, \n",
    "                  name_y = 'weekday_ons_per_capita', name_x = explanatory_vars)\n",
    "print(m_log.summary)"
   ]
  },
  {
   "cell_type": "markdown",
   "id": "da31d6b2-41fd-4ff9-8589-58936d4d06c2",
   "metadata": {},
   "source": [
    "## Spatial Weights"
   ]
  },
  {
   "cell_type": "code",
   "execution_count": null,
   "id": "confident-maldives",
   "metadata": {},
   "outputs": [],
   "source": [
    "# 3 nearest neighbors\n",
    "knn = weights.KNN.from_dataframe(gdf, k=3)"
   ]
  },
  {
   "cell_type": "code",
   "execution_count": null,
   "id": "06571e7c-512d-48a0-ae7d-d9ee15c705bf",
   "metadata": {},
   "outputs": [],
   "source": [
    "# chart indicates that errors are spatially dependent\n",
    "lag_residual = weights.spatial_lag.lag_spatial(knn, m.u)\n",
    "ax = sns.regplot(\n",
    "    m.u.flatten(),\n",
    "    lag_residual.flatten(),\n",
    "    line_kws=dict(color=\"orangered\"),\n",
    "    ci=None,\n",
    ")\n",
    "ax.set_xlabel(\"Model Residuals - $u$\")\n",
    "ax.set_ylabel(\"Spatial Lag of Model (1) Residuals - $W u$\");"
   ]
  },
  {
   "cell_type": "code",
   "execution_count": null,
   "id": "protected-termination",
   "metadata": {
    "caption": "The relationship between prediction error for an Airbnb and the nearest Airbnb's prediction error. This suggests that if an Airbnb's nightly price is over-predicted, its nearby Airbnbs will also be over-predicted.",
    "tags": []
   },
   "outputs": [],
   "source": [
    "lag_residual = weights.spatial_lag.lag_spatial(knn, m_log.u)\n",
    "ax = sns.regplot(\n",
    "    m_log.u.flatten(),\n",
    "    lag_residual.flatten(),\n",
    "    line_kws=dict(color=\"orangered\"),\n",
    "    ci=None,\n",
    ")\n",
    "ax.set_xlabel(\"Model Residuals - $u$\")\n",
    "ax.set_ylabel(\"Spatial Lag of Log Model Residuals - $W u$\");"
   ]
  },
  {
   "cell_type": "markdown",
   "id": "positive-salad",
   "metadata": {},
   "source": [
    "From context of https://geographicdata.science/book/notebooks/11_regression.html"
   ]
  },
  {
   "cell_type": "code",
   "execution_count": null,
   "id": "e4ff661e-ab94-4a07-abb7-1c2bc1570574",
   "metadata": {
    "caption": "Map of cluters in regression errors, according to the Local Moran's $I_i$.",
    "tags": []
   },
   "outputs": [],
   "source": [
    "# Re-weight W to 3 nearest neighbors\n",
    "knn.reweight(k=3, inplace=True)\n",
    "# Row standardise weights\n",
    "knn.transform = \"R\""
   ]
  },
  {
   "cell_type": "code",
   "execution_count": null,
   "id": "5cc052d0-ea95-4bfc-b32a-d42155caf766",
   "metadata": {
    "caption": "Map of cluters in regression errors, according to the Local Moran's $I_i$.",
    "tags": []
   },
   "outputs": [],
   "source": [
    "# Run LISA on residuals\n",
    "outliers = esda.moran.Moran_Local(m_log.u, knn, permutations=9999)\n",
    "# Select only LISA cluster cores\n",
    "error_clusters = outliers.q % 2 == 1\n",
    "# Filter out non-significant clusters\n",
    "error_clusters &= outliers.p_sim <= 0.001\n",
    "# Add `error_clusters` and `local_I` columns\n",
    "ax = (\n",
    "    gdf.assign(\n",
    "        error_clusters=error_clusters,\n",
    "        local_I=outliers.Is\n",
    "        # Retain error clusters only\n",
    "    )\n",
    "    .query(\n",
    "        \"error_clusters\"\n",
    "        # Sort by I value to largest plot on top\n",
    "    )\n",
    "    .sort_values(\n",
    "        \"local_I\"\n",
    "        # Plot I values\n",
    "    )\n",
    "    .plot(\"local_I\", cmap=\"bwr\", marker=\".\")\n",
    ")\n",
    "# Add basemap\n",
    "contextily.add_basemap(ax, crs=gdf.crs)\n",
    "# Remove axes\n",
    "ax.set_axis_off();"
   ]
  },
  {
   "cell_type": "markdown",
   "id": "indoor-practitioner",
   "metadata": {},
   "source": [
    "And then fit the model using the OLS class in Pysal's `spreg`:"
   ]
  },
  {
   "cell_type": "code",
   "execution_count": null,
   "id": "a879d648-53d8-45bd-b544-3ae8d91627d7",
   "metadata": {},
   "outputs": [],
   "source": [
    "# Fit spatial error model with `spreg`\n",
    "# (GMM estimation allowing for heteroskedasticity)\n",
    "m_knn_err = spreg.GM_Error_Het(\n",
    "    # Dependent variable\n",
    "    gdf[[\"log_weekday_ons\"]].values,\n",
    "    # Independent variables\n",
    "    gdf[explanatory_vars].values,\n",
    "    # Spatial weights matrix\n",
    "    w=knn,#K=3\n",
    "    # Dependent variable name\n",
    "    name_y=\"log_weekday_ons\",\n",
    "    # Independent variables names\n",
    "    name_x=explanatory_vars,\n",
    ")\n",
    "print(m_knn_err.summary)"
   ]
  },
  {
   "cell_type": "code",
   "execution_count": 36,
   "id": "becoming-colorado",
   "metadata": {},
   "outputs": [
    {
     "name": "stdout",
     "output_type": "stream",
     "text": [
      "REGRESSION\n",
      "----------\n",
      "SUMMARY OF OUTPUT: SPATIAL TWO STAGE LEAST SQUARES\n",
      "--------------------------------------------------\n",
      "Data set            :     unknown\n",
      "Weights matrix      :     unknown\n",
      "Dependent Variable  :log_weekday_ons                Number of Observations:       13723\n",
      "Mean dependent var  :      7.5420                Number of Variables   :          10\n",
      "S.D. dependent var  :      2.2350                Degrees of Freedom    :       13713\n",
      "Pseudo R-squared    :      0.5050\n",
      "Spatial Pseudo R-squared:  0.4074\n",
      "\n",
      "------------------------------------------------------------------------------------\n",
      "            Variable     Coefficient       Std.Error     z-Statistic     Probability\n",
      "------------------------------------------------------------------------------------\n",
      "            CONSTANT       4.2757066       0.1964463      21.7652675       0.0000000\n",
      "     n_trips_weekday       0.0154517       0.0004115      37.5534305       0.0000000\n",
      "         pop_density       0.0000986       0.0000076      12.9654012       0.0000000\n",
      "         job_density      -0.0000156       0.0000022      -6.9604261       0.0000000\n",
      "pct_not_us_citizen_pop       1.5223508       0.2558780       5.9495181       0.0000000\n",
      "       pct_youth_pop      -1.0565307       0.2430494      -4.3469803       0.0000138\n",
      "     pct_seniors_pop      -3.1480524       0.3689587      -8.5322628       0.0000000\n",
      "pct_pop_workers_no_car      -4.2906424       0.7588057      -5.6544681       0.0000000\n",
      "         pct_poverty       0.6194936       0.2492860       2.4850721       0.0129525\n",
      "   W_log_weekday_ons       0.3209520       0.0221674      14.4785339       0.0000000\n",
      "------------------------------------------------------------------------------------\n",
      "Instrumented: W_log_weekday_ons\n",
      "Instruments: W_job_density, W_n_trips_weekday, W_pct_not_us_citizen_pop,\n",
      "             W_pct_pop_workers_no_car, W_pct_poverty, W_pct_seniors_pop,\n",
      "             W_pct_youth_pop, W_pop_density\n",
      "================================ END OF REPORT =====================================\n"
     ]
    }
   ],
   "source": [
    "# Fit spatial lag model with `spreg`\n",
    "# (GMM estimation)\n",
    "m_knn = spreg.GM_Lag(\n",
    "    # Dependent variable\n",
    "    gdf[[\"log_weekday_ons\"]].values,\n",
    "    # Independent variables\n",
    "    gdf[explanatory_vars].values,\n",
    "    # Spatial weights matrix\n",
    "    w=knn,#K=3\n",
    "    # Dependent variable name\n",
    "    name_y=\"log_weekday_ons\",\n",
    "    # Independent variables names\n",
    "    name_x=explanatory_vars,\n",
    ")\n",
    "print(m_knn.summary)"
   ]
  },
  {
   "cell_type": "code",
   "execution_count": 37,
   "id": "4746ab7f-4030-4693-8540-97075e514f5f",
   "metadata": {},
   "outputs": [
    {
     "ename": "ValueError",
     "evalue": "Length of values (10) does not match length of index (9)",
     "output_type": "error",
     "traceback": [
      "\u001b[0;31m---------------------------------------------------------------------------\u001b[0m",
      "\u001b[0;31mValueError\u001b[0m                                Traceback (most recent call last)",
      "Cell \u001b[0;32mIn [37], line 6\u001b[0m\n\u001b[1;32m      4\u001b[0m m_knn_df \u001b[38;5;241m=\u001b[39m pd\u001b[38;5;241m.\u001b[39mDataFrame() \n\u001b[1;32m      5\u001b[0m m_knn_df[\u001b[38;5;124m'\u001b[39m\u001b[38;5;124mVariable\u001b[39m\u001b[38;5;124m'\u001b[39m]\u001b[38;5;241m=\u001b[39mm_knn\u001b[38;5;241m.\u001b[39mname_x\n\u001b[0;32m----> 6\u001b[0m \u001b[43mm_knn_df\u001b[49m\u001b[43m[\u001b[49m\u001b[38;5;124;43m'\u001b[39;49m\u001b[38;5;124;43mCoefficient\u001b[39;49m\u001b[38;5;124;43m'\u001b[39;49m\u001b[43m]\u001b[49m\u001b[38;5;241m=\u001b[39mm_knn\u001b[38;5;241m.\u001b[39mbetas\n\u001b[1;32m      7\u001b[0m m_knn_df\u001b[38;5;241m.\u001b[39mdtypes\n",
      "File \u001b[0;32m/opt/conda/lib/python3.10/site-packages/pandas/core/frame.py:3978\u001b[0m, in \u001b[0;36mDataFrame.__setitem__\u001b[0;34m(self, key, value)\u001b[0m\n\u001b[1;32m   3975\u001b[0m     \u001b[38;5;28mself\u001b[39m\u001b[38;5;241m.\u001b[39m_setitem_array([key], value)\n\u001b[1;32m   3976\u001b[0m \u001b[38;5;28;01melse\u001b[39;00m:\n\u001b[1;32m   3977\u001b[0m     \u001b[38;5;66;03m# set column\u001b[39;00m\n\u001b[0;32m-> 3978\u001b[0m     \u001b[38;5;28;43mself\u001b[39;49m\u001b[38;5;241;43m.\u001b[39;49m\u001b[43m_set_item\u001b[49m\u001b[43m(\u001b[49m\u001b[43mkey\u001b[49m\u001b[43m,\u001b[49m\u001b[43m \u001b[49m\u001b[43mvalue\u001b[49m\u001b[43m)\u001b[49m\n",
      "File \u001b[0;32m/opt/conda/lib/python3.10/site-packages/pandas/core/frame.py:4172\u001b[0m, in \u001b[0;36mDataFrame._set_item\u001b[0;34m(self, key, value)\u001b[0m\n\u001b[1;32m   4162\u001b[0m \u001b[38;5;28;01mdef\u001b[39;00m \u001b[38;5;21m_set_item\u001b[39m(\u001b[38;5;28mself\u001b[39m, key, value) \u001b[38;5;241m-\u001b[39m\u001b[38;5;241m>\u001b[39m \u001b[38;5;28;01mNone\u001b[39;00m:\n\u001b[1;32m   4163\u001b[0m     \u001b[38;5;124;03m\"\"\"\u001b[39;00m\n\u001b[1;32m   4164\u001b[0m \u001b[38;5;124;03m    Add series to DataFrame in specified column.\u001b[39;00m\n\u001b[1;32m   4165\u001b[0m \n\u001b[0;32m   (...)\u001b[0m\n\u001b[1;32m   4170\u001b[0m \u001b[38;5;124;03m    ensure homogeneity.\u001b[39;00m\n\u001b[1;32m   4171\u001b[0m \u001b[38;5;124;03m    \"\"\"\u001b[39;00m\n\u001b[0;32m-> 4172\u001b[0m     value \u001b[38;5;241m=\u001b[39m \u001b[38;5;28;43mself\u001b[39;49m\u001b[38;5;241;43m.\u001b[39;49m\u001b[43m_sanitize_column\u001b[49m\u001b[43m(\u001b[49m\u001b[43mvalue\u001b[49m\u001b[43m)\u001b[49m\n\u001b[1;32m   4174\u001b[0m     \u001b[38;5;28;01mif\u001b[39;00m (\n\u001b[1;32m   4175\u001b[0m         key \u001b[38;5;129;01min\u001b[39;00m \u001b[38;5;28mself\u001b[39m\u001b[38;5;241m.\u001b[39mcolumns\n\u001b[1;32m   4176\u001b[0m         \u001b[38;5;129;01mand\u001b[39;00m value\u001b[38;5;241m.\u001b[39mndim \u001b[38;5;241m==\u001b[39m \u001b[38;5;241m1\u001b[39m\n\u001b[1;32m   4177\u001b[0m         \u001b[38;5;129;01mand\u001b[39;00m \u001b[38;5;129;01mnot\u001b[39;00m is_extension_array_dtype(value)\n\u001b[1;32m   4178\u001b[0m     ):\n\u001b[1;32m   4179\u001b[0m         \u001b[38;5;66;03m# broadcast across multiple columns if necessary\u001b[39;00m\n\u001b[1;32m   4180\u001b[0m         \u001b[38;5;28;01mif\u001b[39;00m \u001b[38;5;129;01mnot\u001b[39;00m \u001b[38;5;28mself\u001b[39m\u001b[38;5;241m.\u001b[39mcolumns\u001b[38;5;241m.\u001b[39mis_unique \u001b[38;5;129;01mor\u001b[39;00m \u001b[38;5;28misinstance\u001b[39m(\u001b[38;5;28mself\u001b[39m\u001b[38;5;241m.\u001b[39mcolumns, MultiIndex):\n",
      "File \u001b[0;32m/opt/conda/lib/python3.10/site-packages/pandas/core/frame.py:4905\u001b[0m, in \u001b[0;36mDataFrame._sanitize_column\u001b[0;34m(self, value)\u001b[0m\n\u001b[1;32m   4902\u001b[0m     \u001b[38;5;28;01mreturn\u001b[39;00m _reindex_for_setitem(Series(value), \u001b[38;5;28mself\u001b[39m\u001b[38;5;241m.\u001b[39mindex)\n\u001b[1;32m   4904\u001b[0m \u001b[38;5;28;01mif\u001b[39;00m is_list_like(value):\n\u001b[0;32m-> 4905\u001b[0m     \u001b[43mcom\u001b[49m\u001b[38;5;241;43m.\u001b[39;49m\u001b[43mrequire_length_match\u001b[49m\u001b[43m(\u001b[49m\u001b[43mvalue\u001b[49m\u001b[43m,\u001b[49m\u001b[43m \u001b[49m\u001b[38;5;28;43mself\u001b[39;49m\u001b[38;5;241;43m.\u001b[39;49m\u001b[43mindex\u001b[49m\u001b[43m)\u001b[49m\n\u001b[1;32m   4906\u001b[0m \u001b[38;5;28;01mreturn\u001b[39;00m sanitize_array(value, \u001b[38;5;28mself\u001b[39m\u001b[38;5;241m.\u001b[39mindex, copy\u001b[38;5;241m=\u001b[39m\u001b[38;5;28;01mTrue\u001b[39;00m, allow_2d\u001b[38;5;241m=\u001b[39m\u001b[38;5;28;01mTrue\u001b[39;00m)\n",
      "File \u001b[0;32m/opt/conda/lib/python3.10/site-packages/pandas/core/common.py:561\u001b[0m, in \u001b[0;36mrequire_length_match\u001b[0;34m(data, index)\u001b[0m\n\u001b[1;32m    557\u001b[0m \u001b[38;5;124;03m\"\"\"\u001b[39;00m\n\u001b[1;32m    558\u001b[0m \u001b[38;5;124;03mCheck the length of data matches the length of the index.\u001b[39;00m\n\u001b[1;32m    559\u001b[0m \u001b[38;5;124;03m\"\"\"\u001b[39;00m\n\u001b[1;32m    560\u001b[0m \u001b[38;5;28;01mif\u001b[39;00m \u001b[38;5;28mlen\u001b[39m(data) \u001b[38;5;241m!=\u001b[39m \u001b[38;5;28mlen\u001b[39m(index):\n\u001b[0;32m--> 561\u001b[0m     \u001b[38;5;28;01mraise\u001b[39;00m \u001b[38;5;167;01mValueError\u001b[39;00m(\n\u001b[1;32m    562\u001b[0m         \u001b[38;5;124m\"\u001b[39m\u001b[38;5;124mLength of values \u001b[39m\u001b[38;5;124m\"\u001b[39m\n\u001b[1;32m    563\u001b[0m         \u001b[38;5;124mf\u001b[39m\u001b[38;5;124m\"\u001b[39m\u001b[38;5;124m(\u001b[39m\u001b[38;5;132;01m{\u001b[39;00m\u001b[38;5;28mlen\u001b[39m(data)\u001b[38;5;132;01m}\u001b[39;00m\u001b[38;5;124m) \u001b[39m\u001b[38;5;124m\"\u001b[39m\n\u001b[1;32m    564\u001b[0m         \u001b[38;5;124m\"\u001b[39m\u001b[38;5;124mdoes not match length of index \u001b[39m\u001b[38;5;124m\"\u001b[39m\n\u001b[1;32m    565\u001b[0m         \u001b[38;5;124mf\u001b[39m\u001b[38;5;124m\"\u001b[39m\u001b[38;5;124m(\u001b[39m\u001b[38;5;132;01m{\u001b[39;00m\u001b[38;5;28mlen\u001b[39m(index)\u001b[38;5;132;01m}\u001b[39;00m\u001b[38;5;124m)\u001b[39m\u001b[38;5;124m\"\u001b[39m\n\u001b[1;32m    566\u001b[0m     )\n",
      "\u001b[0;31mValueError\u001b[0m: Length of values (10) does not match length of index (9)"
     ]
    }
   ],
   "source": [
    "#exponentiate coefficients to interpret\n",
    "import math\n",
    "\n",
    "m_knn_df = pd.DataFrame() \n",
    "m_knn_df['Variable']=m_knn.name_x\n",
    "m_knn_df['Coefficient']=m_knn.betas\n",
    "m_knn_df.dtypes"
   ]
  },
  {
   "cell_type": "markdown",
   "id": "0afb1b0c-48fb-44ea-af00-2de10f92686e",
   "metadata": {},
   "source": [
    "Stop here: below spatial weights exploration is for polygons\n",
    "To do: fixed distance weights maybe with distance decay?"
   ]
  },
  {
   "cell_type": "code",
   "execution_count": 3,
   "id": "f867d4ee-3b80-45ba-9524-f9c3de03b8bd",
   "metadata": {},
   "outputs": [
    {
     "ename": "NameError",
     "evalue": "name 'gdf' is not defined",
     "output_type": "error",
     "traceback": [
      "\u001b[0;31m---------------------------------------------------------------------------\u001b[0m",
      "\u001b[0;31mNameError\u001b[0m                                 Traceback (most recent call last)",
      "Cell \u001b[0;32mIn [3], line 1\u001b[0m\n\u001b[0;32m----> 1\u001b[0m \u001b[43mgdf\u001b[49m\u001b[38;5;241m.\u001b[39mcrs\n",
      "\u001b[0;31mNameError\u001b[0m: name 'gdf' is not defined"
     ]
    }
   ],
   "source": [
    "gdf.crs"
   ]
  },
  {
   "cell_type": "code",
   "execution_count": null,
   "id": "54afb91d-6219-45f2-9bdf-2c3eb2c90962",
   "metadata": {},
   "outputs": [],
   "source": [
    "\n",
    "w_dist = knn = weights.DistanceBand.from_dataframe(gdf, k=3)"
   ]
  },
  {
   "cell_type": "code",
   "execution_count": null,
   "id": "2a5829ab-46ee-40d6-94f1-4f2fb9a7921d",
   "metadata": {},
   "outputs": [],
   "source": [
    "ax = gdf.plot()\n",
    "ax.set_axis_off()"
   ]
  },
  {
   "cell_type": "code",
   "execution_count": null,
   "id": "82a60504-0d19-4e54-801c-0777b45ee45a",
   "metadata": {},
   "outputs": [],
   "source": [
    "#Rook neighbors are those states that share an edge on their respective borders:\n",
    "#This shouldn't translate to stops since there aren't polygons/borders, but points?\n",
    "w_rook = Rook.from_dataframe(gdf)\n",
    "w_rook.n"
   ]
  },
  {
   "cell_type": "code",
   "execution_count": null,
   "id": "d5626fb1-2104-4d39-9783-d9d51988de84",
   "metadata": {},
   "outputs": [],
   "source": [
    "w_rook.pct_nonzero"
   ]
  },
  {
   "cell_type": "code",
   "execution_count": null,
   "id": "8bb8786f-aedf-4a4b-9724-564b2b4931fd",
   "metadata": {},
   "outputs": [],
   "source": [
    "# Fit spatial lag model with `spreg`\n",
    "# (GMM estimation)\n",
    "m_rook = spreg.GM_Lag(\n",
    "    # Dependent variable\n",
    "    gdf[[\"log_weekday_ons\"]].values,\n",
    "    # Independent variables\n",
    "    gdf[explanatory_vars].values,\n",
    "    # Spatial weights matrix\n",
    "    w=w_rook,\n",
    "    # Dependent variable name\n",
    "    name_y=\"log_weekday_ons\",\n",
    "    # Independent variables names\n",
    "    name_x=explanatory_vars,\n",
    ")\n",
    "print(m_rook.summary)"
   ]
  },
  {
   "cell_type": "code",
   "execution_count": null,
   "id": "1a34c54d-268a-48db-87f8-b9220a9844cb",
   "metadata": {},
   "outputs": [],
   "source": [
    "w_queen = Queen.from_dataframe(gdf)\n",
    "w_queen.n"
   ]
  },
  {
   "cell_type": "code",
   "execution_count": null,
   "id": "e8968f8c-f965-4c49-9443-3af76387df97",
   "metadata": {},
   "outputs": [],
   "source": [
    "m_queen = spreg.GM_Lag(\n",
    "    # Dependent variable\n",
    "    gdf[[\"log_weekday_ons\"]].values,\n",
    "    # Independent variables\n",
    "    gdf[explanatory_vars].values,\n",
    "    # Spatial weights matrix\n",
    "    w=w_queen,\n",
    "    # Dependent variable name\n",
    "    name_y=\"log_weekday_ons\",\n",
    "    # Independent variables names\n",
    "    name_x=explanatory_vars,\n",
    ")\n",
    "print(m_queen.summary)"
   ]
  },
  {
   "cell_type": "code",
   "execution_count": null,
   "id": "b98ced57-bc86-41b3-90be-7dc591f25573",
   "metadata": {},
   "outputs": [],
   "source": []
  }
 ],
 "metadata": {
  "jupytext": {
   "formats": "ipynb,md"
  },
  "kernelspec": {
   "display_name": "Python 3 (ipykernel)",
   "language": "python",
   "name": "python3"
  },
  "language_info": {
   "codemirror_mode": {
    "name": "ipython",
    "version": 3
   },
   "file_extension": ".py",
   "mimetype": "text/x-python",
   "name": "python",
   "nbconvert_exporter": "python",
   "pygments_lexer": "ipython3",
   "version": "3.10.6"
  }
 },
 "nbformat": 4,
 "nbformat_minor": 5
}
