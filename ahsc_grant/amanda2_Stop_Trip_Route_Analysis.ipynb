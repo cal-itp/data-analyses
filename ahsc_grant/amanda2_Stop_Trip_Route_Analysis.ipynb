{
 "cells": [
  {
   "cell_type": "code",
   "execution_count": 1,
   "id": "aa25b143-b16e-456b-a369-35408830850c",
   "metadata": {},
   "outputs": [],
   "source": [
    "import os\n",
    "os.environ[\"CALITP_BQ_MAX_BYTES\"] = str(800_000_000_000)\n",
    "\n",
    "import branca\n",
    "import folium\n",
    "from shared_utils import gtfs_utils_v2\n",
    "from segment_speed_utils import (helpers, \n",
    "                                 gtfs_schedule_wrangling, \n",
    "                                )\n",
    "\n",
    "import pandas as pd\n",
    "import geopandas as gpd \n",
    "\n",
    "import datetime as dt\n",
    "import time\n",
    "import fsspec\n",
    "import gcsfs\n",
    "from calitp_data_analysis import get_fs\n",
    "fs = get_fs()\n",
    "import tempfile"
   ]
  },
  {
   "cell_type": "code",
   "execution_count": 38,
   "id": "99a64418-3e6f-43ef-8833-e3eb043ec5c6",
   "metadata": {},
   "outputs": [],
   "source": [
    "pd.options.display.max_columns = 100\n",
    "pd.options.display.float_format = \"{:.2f}\".format\n",
    "pd.set_option(\"display.max_rows\", None)\n",
    "pd.set_option(\"display.max_colwidth\", None)"
   ]
  },
  {
   "cell_type": "code",
   "execution_count": 2,
   "id": "bb4fa7b4-e503-4947-9b3d-799d1b137d7f",
   "metadata": {},
   "outputs": [],
   "source": [
    "#Setting analysis date\n",
    "analysis_dt = dt.date(2025,6,2)"
   ]
  },
  {
   "cell_type": "code",
   "execution_count": 3,
   "id": "1ad30ca4-ccf2-47c6-b8be-dab7851671c5",
   "metadata": {},
   "outputs": [],
   "source": [
    "# #Function to fetch feeds, trips, stoptimes and stops_geo data from warehouse v2\n",
    "# def get_feeds_trips_stops_data(selected_date):\n",
    "    \n",
    "#     trip_cols = [\"name\", \"gtfs_dataset_key\", \"feed_key\", \"trip_id\", \"route_id\", \"route_type\", \"route_key\", \n",
    "#                  \"num_stop_times\", \"direction_id\", \"trip_first_departure_sec\", \"trip_first_departure_ts\", \n",
    "#                  \"trip_last_arrival_sec\", \"trip_start_timezone\", \"trip_instance_key\", \"service_hours\", \"trip_first_departure_datetime_pacific\"]\n",
    "#     stoptimes_cols = [\"key\", \"_gtfs_key\", \"feed_key\", \"trip_id\", \"stop_id\", \"stop_sequence\", \"arrival_time\", \"departure_time\",\n",
    "#        \"arrival_time_interval\", \"departure_time_interval\", \"arrival_hour\", \"departure_hour\"]\n",
    "#     stop_cols = [\"feed_key\", \"stop_id\", \"geometry\", \"stop_name\", \"stop_code\", \"location_type\", \"stop_desc\"]\n",
    "    \n",
    "#     feed_data = gtfs_utils_v2.schedule_daily_feed_to_gtfs_dataset_name(selected_date=selected_date)\n",
    "    \n",
    "    \n",
    "#     feed_key_list = feed_data['feed_key'].tolist()\n",
    "    \n",
    "#     trips_data_list = []\n",
    "#     stoptimes_data_list = []\n",
    "#     stop_locations_gdf = gpd.GeoDataFrame()\n",
    "#     for feed_key in feed_key_list:\n",
    "#         try:\n",
    "#             trips = gtfs_utils_v2.get_trips(selected_date=selected_date, operator_feeds=[feed_key])[trip_cols]\n",
    "#             trips_data_list.append(trips)\n",
    "\n",
    "#             stoptimes = gtfs_utils_v2.get_stop_times(selected_date=selected_date, operator_feeds=[feed_key], \n",
    "#                                                     trip_df=trips, get_df=True)[stoptimes_cols]\n",
    "#             stoptimes_data_list.append(stoptimes)\n",
    "\n",
    "#             stops_gdf = gtfs_utils_v2.get_stops(selected_date=selected_date, operator_feeds=[feed_key])[stop_cols]\n",
    "#             stop_locations_gdf = pd.concat([stop_locations_gdf, stops_gdf], ignore_index=True)\n",
    "#         except:\n",
    "#             print('Skipping a row')\n",
    "    \n",
    "#     trips_data = pd.concat(trips_data_list, ignore_index=True)\n",
    "#     stoptimes_data = pd.concat(stoptimes_data_list, ignore_index=True)\n",
    "    \n",
    "#     return feed_data, trips_data, stoptimes_data, stop_locations_gdf"
   ]
  },
  {
   "cell_type": "code",
   "execution_count": 4,
   "id": "a9ee9e12-4509-45d5-94c3-7508ff0351bf",
   "metadata": {},
   "outputs": [],
   "source": [
    "# feed_data, trips_data, stoptimes_data, stop_locations_gdf = get_feeds_trips_stops_data(analysis_dt)"
   ]
  },
  {
   "cell_type": "code",
   "execution_count": 5,
   "id": "e3add949-e4d7-4d7f-a64d-78f950810585",
   "metadata": {},
   "outputs": [],
   "source": [
    "GCS_FILE_PATH  = 'gs://calitp-analytics-data/data-analyses/ahsc_grant'"
   ]
  },
  {
   "cell_type": "markdown",
   "id": "b473eeb7-ae3c-4855-85c2-4a14bcb35f36",
   "metadata": {},
   "source": [
    "Exporting data to GCS for reuse, minimizing repeated warehouse queries."
   ]
  },
  {
   "cell_type": "code",
   "execution_count": 6,
   "id": "220f42b7-44d2-4ea9-9955-e59191b14bd5",
   "metadata": {},
   "outputs": [],
   "source": [
    "# trips_data.to_parquet(f\"{GCS_FILE_PATH}/trips_06_02_2025.parquet\")\n",
    "# stoptimes_data.to_csv(f\"{GCS_FILE_PATH}/stoptimes_06_02_2025.csv\")\n",
    "# feed_data.to_parquet(f\"{GCS_FILE_PATH}/feed_06_02_2025.parquet\")\n",
    "# with fsspec.open(f\"{GCS_FILE_PATH}/stop_locations_06_02_2025.parquet\", 'wb') as f:\n",
    "#     stop_locations_gdf.to_parquet(f)"
   ]
  },
  {
   "cell_type": "markdown",
   "id": "a460acbb-ca9e-403a-8bb1-2d78fd9c54f1",
   "metadata": {},
   "source": [
    "Reading stoptimes, trips, feed and stop locations data "
   ]
  },
  {
   "cell_type": "code",
   "execution_count": 7,
   "id": "50f3a2c1-e546-4be1-9615-0bbd50d56e5e",
   "metadata": {},
   "outputs": [
    {
     "name": "stderr",
     "output_type": "stream",
     "text": [
      "/tmp/ipykernel_1695/658927763.py:1: DtypeWarning: Columns (4,5) have mixed types. Specify dtype option on import or set low_memory=False.\n",
      "  stoptimes_data = pd.read_csv(f\"{GCS_FILE_PATH}/stoptimes_06_02_2025.csv\")\n"
     ]
    }
   ],
   "source": [
    "stoptimes_data = pd.read_csv(f\"{GCS_FILE_PATH}/stoptimes_06_02_2025.csv\")"
   ]
  },
  {
   "cell_type": "code",
   "execution_count": 8,
   "id": "ab9ecbcf-ff8b-42c2-82d1-02c5ff37e874",
   "metadata": {},
   "outputs": [],
   "source": [
    "trips_data = pd.read_parquet(f\"{GCS_FILE_PATH}/trips_06_02_2025.parquet\")"
   ]
  },
  {
   "cell_type": "code",
   "execution_count": 9,
   "id": "cd5d6f10-ebb4-49d2-9740-3c1858e87ef7",
   "metadata": {},
   "outputs": [],
   "source": [
    "feed_data = pd.read_parquet(f\"{GCS_FILE_PATH}/feed_06_02_2025.parquet\")"
   ]
  },
  {
   "cell_type": "code",
   "execution_count": 10,
   "id": "3f810b2b-24c1-40f3-a9ff-6c11f840a916",
   "metadata": {},
   "outputs": [],
   "source": [
    "with fs.open(f\"{GCS_FILE_PATH}/stop_locations_06_02_2025.parquet\", 'rb') as f:\n",
    "    stop_locations_gdf = gpd.read_parquet(f)"
   ]
  },
  {
   "cell_type": "code",
   "execution_count": 11,
   "id": "23928cf9-ad04-4b2a-b060-69c84d066439",
   "metadata": {},
   "outputs": [],
   "source": [
    "# Retaining California based stops only \n",
    "# Loading California county boundaries GeoJSON data from ArcGIS REST service\n",
    "CA_URL = \"https://services1.arcgis.com/jUJYIo9tSA7EHvfZ/arcgis/rest/services/California_County_Boundaries/FeatureServer/0/query?outFields=*&where=1%3D1&f=geojson\"\n",
    "CA_county = gpd.read_file(CA_URL)"
   ]
  },
  {
   "cell_type": "code",
   "execution_count": 12,
   "id": "65014e89-b671-43fb-8742-8b2ea97b4cf4",
   "metadata": {},
   "outputs": [],
   "source": [
    "CA_county = CA_county.to_crs(stop_locations_gdf.crs)"
   ]
  },
  {
   "cell_type": "code",
   "execution_count": 13,
   "id": "1add3ba8-f57e-429e-88ed-b8935cf2b384",
   "metadata": {},
   "outputs": [],
   "source": [
    "# Spatially joining stop locations with California county boundaries to keep stops within CA\n",
    "stop_locations_gdf_ca = gpd.sjoin(\n",
    "    stop_locations_gdf,  \n",
    "    CA_county,                    \n",
    "    how='inner',\n",
    "    predicate='intersects'\n",
    ")"
   ]
  },
  {
   "cell_type": "code",
   "execution_count": 14,
   "id": "ba0677c1-2092-45aa-9726-ceec716ce85d",
   "metadata": {
    "tags": []
   },
   "outputs": [
    {
     "data": {
      "text/plain": [
       "(84082, 18)"
      ]
     },
     "execution_count": 14,
     "metadata": {},
     "output_type": "execute_result"
    }
   ],
   "source": [
    "stop_locations_gdf_ca.shape"
   ]
  },
  {
   "cell_type": "code",
   "execution_count": 15,
   "id": "78c09fab-922c-4190-b0a0-6d2dc54301c5",
   "metadata": {},
   "outputs": [
    {
     "data": {
      "text/plain": [
       "85773"
      ]
     },
     "execution_count": 15,
     "metadata": {},
     "output_type": "execute_result"
    }
   ],
   "source": [
    "len(stop_locations_gdf)"
   ]
  },
  {
   "cell_type": "code",
   "execution_count": 28,
   "id": "d06fa5f4-4ef1-48bb-9fda-078bcf2fac80",
   "metadata": {},
   "outputs": [
    {
     "data": {
      "text/html": [
       "<div>\n",
       "<style scoped>\n",
       "    .dataframe tbody tr th:only-of-type {\n",
       "        vertical-align: middle;\n",
       "    }\n",
       "\n",
       "    .dataframe tbody tr th {\n",
       "        vertical-align: top;\n",
       "    }\n",
       "\n",
       "    .dataframe thead th {\n",
       "        text-align: right;\n",
       "    }\n",
       "</style>\n",
       "<table border=\"1\" class=\"dataframe\">\n",
       "  <thead>\n",
       "    <tr style=\"text-align: right;\">\n",
       "      <th></th>\n",
       "      <th>Unnamed: 0</th>\n",
       "      <th>key</th>\n",
       "      <th>_gtfs_key</th>\n",
       "      <th>feed_key</th>\n",
       "      <th>trip_id</th>\n",
       "      <th>stop_id</th>\n",
       "      <th>stop_sequence</th>\n",
       "      <th>arrival_time</th>\n",
       "      <th>departure_time</th>\n",
       "      <th>arrival_time_interval</th>\n",
       "      <th>departure_time_interval</th>\n",
       "      <th>arrival_hour</th>\n",
       "      <th>departure_hour</th>\n",
       "    </tr>\n",
       "  </thead>\n",
       "  <tbody>\n",
       "    <tr>\n",
       "      <th>2300052</th>\n",
       "      <td>2300052</td>\n",
       "      <td>87fd44a98781b99ef47db3a239bb7a57</td>\n",
       "      <td>e4bc83aafea08458d0b96c5c7d03d0a0</td>\n",
       "      <td>bcbaf48b76d91fc8f19b728ef8d257e7</td>\n",
       "      <td>200736</td>\n",
       "      <td>6864</td>\n",
       "      <td>3</td>\n",
       "      <td>13:17:00</td>\n",
       "      <td>13:17:00</td>\n",
       "      <td>MonthDayNano(months=0, days=0, nanoseconds=478...</td>\n",
       "      <td>MonthDayNano(months=0, days=0, nanoseconds=478...</td>\n",
       "      <td>13.0</td>\n",
       "      <td>13.0</td>\n",
       "    </tr>\n",
       "  </tbody>\n",
       "</table>\n",
       "</div>"
      ],
      "text/plain": [
       "         Unnamed: 0                               key  \\\n",
       "2300052     2300052  87fd44a98781b99ef47db3a239bb7a57   \n",
       "\n",
       "                                _gtfs_key                          feed_key  \\\n",
       "2300052  e4bc83aafea08458d0b96c5c7d03d0a0  bcbaf48b76d91fc8f19b728ef8d257e7   \n",
       "\n",
       "        trip_id stop_id  stop_sequence arrival_time departure_time  \\\n",
       "2300052  200736    6864              3     13:17:00       13:17:00   \n",
       "\n",
       "                                     arrival_time_interval  \\\n",
       "2300052  MonthDayNano(months=0, days=0, nanoseconds=478...   \n",
       "\n",
       "                                   departure_time_interval  arrival_hour  \\\n",
       "2300052  MonthDayNano(months=0, days=0, nanoseconds=478...          13.0   \n",
       "\n",
       "         departure_hour  \n",
       "2300052            13.0  "
      ]
     },
     "execution_count": 28,
     "metadata": {},
     "output_type": "execute_result"
    }
   ],
   "source": [
    "stoptimes_data.sample()"
   ]
  },
  {
   "cell_type": "code",
   "execution_count": 29,
   "id": "0ada69d7-28a1-429c-8468-6191f79094e0",
   "metadata": {},
   "outputs": [
    {
     "data": {
      "text/plain": [
       "3565708"
      ]
     },
     "execution_count": 29,
     "metadata": {},
     "output_type": "execute_result"
    }
   ],
   "source": [
    "len(stoptimes_data)"
   ]
  },
  {
   "cell_type": "code",
   "execution_count": 16,
   "id": "fedbc679-3fca-4841-a918-d6619dad29b5",
   "metadata": {
    "tags": []
   },
   "outputs": [],
   "source": [
    "stoptimesdata_california = pd.merge(\n",
    "    stoptimes_data,\n",
    "    stop_locations_gdf_ca[['feed_key', 'stop_id', 'stop_name', 'location_type', 'stop_desc', 'geometry']],\n",
    "    on=['feed_key', 'stop_id'],\n",
    "    how='inner'\n",
    ")"
   ]
  },
  {
   "cell_type": "code",
   "execution_count": 17,
   "id": "e7a4680e-8c9a-4b53-b407-39e9bbf2adb0",
   "metadata": {
    "tags": []
   },
   "outputs": [
    {
     "name": "stdout",
     "output_type": "stream",
     "text": [
      "<class 'pandas.core.frame.DataFrame'>\n",
      "Int64Index: 1126889 entries, 0 to 1126888\n",
      "Data columns (total 17 columns):\n",
      " #   Column                   Non-Null Count    Dtype   \n",
      "---  ------                   --------------    -----   \n",
      " 0   Unnamed: 0               1126889 non-null  int64   \n",
      " 1   key                      1126889 non-null  object  \n",
      " 2   _gtfs_key                1126889 non-null  object  \n",
      " 3   feed_key                 1126889 non-null  object  \n",
      " 4   trip_id                  1126889 non-null  object  \n",
      " 5   stop_id                  1126889 non-null  object  \n",
      " 6   stop_sequence            1126889 non-null  int64   \n",
      " 7   arrival_time             1061034 non-null  object  \n",
      " 8   departure_time           1061034 non-null  object  \n",
      " 9   arrival_time_interval    1061034 non-null  object  \n",
      " 10  departure_time_interval  1061034 non-null  object  \n",
      " 11  arrival_hour             1061034 non-null  float64 \n",
      " 12  departure_hour           1061034 non-null  float64 \n",
      " 13  stop_name                1126889 non-null  object  \n",
      " 14  location_type            619264 non-null   float64 \n",
      " 15  stop_desc                159828 non-null   object  \n",
      " 16  geometry                 1126889 non-null  geometry\n",
      "dtypes: float64(3), geometry(1), int64(2), object(11)\n",
      "memory usage: 154.8+ MB\n"
     ]
    }
   ],
   "source": [
    "stoptimesdata_california.info()"
   ]
  },
  {
   "cell_type": "code",
   "execution_count": 18,
   "id": "2e9183c6-4d78-4696-a3f7-1d65e1c45125",
   "metadata": {},
   "outputs": [
    {
     "name": "stdout",
     "output_type": "stream",
     "text": [
      "<class 'pandas.core.frame.DataFrame'>\n",
      "RangeIndex: 162083 entries, 0 to 162082\n",
      "Data columns (total 16 columns):\n",
      " #   Column                                 Non-Null Count   Dtype              \n",
      "---  ------                                 --------------   -----              \n",
      " 0   name                                   162083 non-null  object             \n",
      " 1   gtfs_dataset_key                       162083 non-null  object             \n",
      " 2   feed_key                               162083 non-null  object             \n",
      " 3   trip_id                                162083 non-null  object             \n",
      " 4   route_id                               162083 non-null  object             \n",
      " 5   route_type                             162083 non-null  object             \n",
      " 6   route_key                              162083 non-null  object             \n",
      " 7   num_stop_times                         162083 non-null  int64              \n",
      " 8   direction_id                           94257 non-null   float64            \n",
      " 9   trip_first_departure_sec               162082 non-null  float64            \n",
      " 10  trip_first_departure_ts                162082 non-null  datetime64[ns, UTC]\n",
      " 11  trip_last_arrival_sec                  162082 non-null  float64            \n",
      " 12  trip_start_timezone                    162083 non-null  object             \n",
      " 13  trip_instance_key                      162083 non-null  object             \n",
      " 14  service_hours                          162082 non-null  float64            \n",
      " 15  trip_first_departure_datetime_pacific  162082 non-null  datetime64[ns]     \n",
      "dtypes: datetime64[ns, UTC](1), datetime64[ns](1), float64(4), int64(1), object(9)\n",
      "memory usage: 19.8+ MB\n"
     ]
    }
   ],
   "source": [
    "trips_data.info()"
   ]
  },
  {
   "cell_type": "code",
   "execution_count": 19,
   "id": "e340e335-04e5-4b21-9458-467ca32fd7c8",
   "metadata": {},
   "outputs": [],
   "source": [
    "trips_data_cleaned = trips_data.drop_duplicates() # Dropping duplicates"
   ]
  },
  {
   "cell_type": "code",
   "execution_count": 20,
   "id": "f84cf818-f70b-4256-87c7-b66289d83d99",
   "metadata": {},
   "outputs": [
    {
     "data": {
      "text/plain": [
       "(162072, 16)"
      ]
     },
     "execution_count": 20,
     "metadata": {},
     "output_type": "execute_result"
    }
   ],
   "source": [
    "trips_data_cleaned.shape"
   ]
  },
  {
   "cell_type": "code",
   "execution_count": 21,
   "id": "29502fe1-bcdd-47a0-af0b-14733aa5aa43",
   "metadata": {},
   "outputs": [
    {
     "data": {
      "text/plain": [
       "(162083, 16)"
      ]
     },
     "execution_count": 21,
     "metadata": {},
     "output_type": "execute_result"
    }
   ],
   "source": [
    "trips_data.shape"
   ]
  },
  {
   "cell_type": "markdown",
   "id": "81c235bc-9073-460f-b45d-25d5bcdeafb5",
   "metadata": {},
   "source": [
    "**You have two dataframes with the same name `stop_trip_merged`.** "
   ]
  },
  {
   "cell_type": "code",
   "execution_count": 22,
   "id": "c6a2cff2-27ff-4299-806c-7595d9e51f1d",
   "metadata": {},
   "outputs": [],
   "source": [
    "#Merging stop data with trip data on trip id and feed key.\n",
    "stop_trip_merged = pd.merge(stoptimesdata_california,\n",
    "                            trips_data_cleaned,\n",
    "                            on = ['trip_id', 'feed_key'],\n",
    "                            how = 'left')"
   ]
  },
  {
   "cell_type": "code",
   "execution_count": 34,
   "id": "93f1f769-607e-4b69-a418-746c9ebccd29",
   "metadata": {},
   "outputs": [
    {
     "data": {
      "text/plain": [
       "1126889"
      ]
     },
     "execution_count": 34,
     "metadata": {},
     "output_type": "execute_result"
    }
   ],
   "source": [
    "len(stoptimesdata_california)"
   ]
  },
  {
   "cell_type": "code",
   "execution_count": 33,
   "id": "016efb22-0f63-437a-a025-1b0d9bb5dc4c",
   "metadata": {},
   "outputs": [
    {
     "data": {
      "text/plain": [
       "162072"
      ]
     },
     "execution_count": 33,
     "metadata": {},
     "output_type": "execute_result"
    }
   ],
   "source": [
    "len(trips_data_cleaned)"
   ]
  },
  {
   "cell_type": "code",
   "execution_count": 23,
   "id": "2ca6c271-3f35-4560-aa9c-759b306a2160",
   "metadata": {
    "tags": []
   },
   "outputs": [],
   "source": [
    "# Adding peak/off-peak labels to trip instances based on scheduled time buckets for the given analysis date\n",
    "sched_time_of_day = gtfs_schedule_wrangling.get_trip_time_buckets(\n",
    "    analysis_dt\n",
    ").pipe(\n",
    "    gtfs_schedule_wrangling.add_peak_offpeak_column\n",
    ")[[\"trip_instance_key\", \"peak_offpeak\"]]"
   ]
  },
  {
   "cell_type": "code",
   "execution_count": 35,
   "id": "4ed3a80b-9097-423e-a90c-9e83e78a49ae",
   "metadata": {},
   "outputs": [
    {
     "data": {
      "text/html": [
       "<div>\n",
       "<style scoped>\n",
       "    .dataframe tbody tr th:only-of-type {\n",
       "        vertical-align: middle;\n",
       "    }\n",
       "\n",
       "    .dataframe tbody tr th {\n",
       "        vertical-align: top;\n",
       "    }\n",
       "\n",
       "    .dataframe thead th {\n",
       "        text-align: right;\n",
       "    }\n",
       "</style>\n",
       "<table border=\"1\" class=\"dataframe\">\n",
       "  <thead>\n",
       "    <tr style=\"text-align: right;\">\n",
       "      <th></th>\n",
       "      <th>trip_instance_key</th>\n",
       "      <th>peak_offpeak</th>\n",
       "    </tr>\n",
       "  </thead>\n",
       "  <tbody>\n",
       "    <tr>\n",
       "      <th>0</th>\n",
       "      <td>5abb89287ff7b1add12e46236f7a8178</td>\n",
       "      <td>offpeak</td>\n",
       "    </tr>\n",
       "    <tr>\n",
       "      <th>1</th>\n",
       "      <td>d6aef57fcc7b4f410837edeaecfc5d1b</td>\n",
       "      <td>offpeak</td>\n",
       "    </tr>\n",
       "  </tbody>\n",
       "</table>\n",
       "</div>"
      ],
      "text/plain": [
       "                  trip_instance_key peak_offpeak\n",
       "0  5abb89287ff7b1add12e46236f7a8178      offpeak\n",
       "1  d6aef57fcc7b4f410837edeaecfc5d1b      offpeak"
      ]
     },
     "execution_count": 35,
     "metadata": {},
     "output_type": "execute_result"
    }
   ],
   "source": [
    "sched_time_of_day.head(2)"
   ]
  },
  {
   "cell_type": "code",
   "execution_count": 24,
   "id": "9839b892-2f4e-4103-a75a-833fe653b2a3",
   "metadata": {
    "tags": []
   },
   "outputs": [],
   "source": [
    "#Merging scheduled time of the data \n",
    "stop_trip_merged = pd.merge(\n",
    "    stop_trip_merged,\n",
    "    sched_time_of_day,\n",
    "    on='trip_instance_key',\n",
    "    how='left'\n",
    ")"
   ]
  },
  {
   "cell_type": "code",
   "execution_count": 27,
   "id": "8b55d4c4-3860-41ae-bb37-a171688befe2",
   "metadata": {},
   "outputs": [
    {
     "data": {
      "text/plain": [
       "2352596"
      ]
     },
     "execution_count": 27,
     "metadata": {},
     "output_type": "execute_result"
    }
   ],
   "source": [
    "len(stop_trip_merged)"
   ]
  },
  {
   "cell_type": "code",
   "execution_count": 25,
   "id": "9bae3eac-acc7-4a00-8769-6204fb6f418c",
   "metadata": {},
   "outputs": [],
   "source": [
    "# Counting unique trips per stop and renaming column to 'num_trips'\n",
    "num_trips_per_stop = stop_trip_merged.groupby('stop_id')['trip_instance_key'].nunique().reset_index().rename(columns={'trip_instance_key':'num_trips'})"
   ]
  },
  {
   "cell_type": "code",
   "execution_count": 26,
   "id": "ee086219-2378-4e8b-a90b-5441b3e8f013",
   "metadata": {},
   "outputs": [
    {
     "data": {
      "text/plain": [
       "(28350, 2)"
      ]
     },
     "execution_count": 26,
     "metadata": {},
     "output_type": "execute_result"
    }
   ],
   "source": [
    "num_trips_per_stop.shape"
   ]
  },
  {
   "cell_type": "code",
   "execution_count": 30,
   "id": "a6a194ec-7de1-467d-b0b3-f11892ede411",
   "metadata": {},
   "outputs": [],
   "source": [
    "# Counting unique routes per stop and renaming column to 'num_routes'\n",
    "num_routes_per_stop = stop_trip_merged.groupby('stop_id')['route_id'].nunique().reset_index().rename(columns={'route_id':'num_routes'})"
   ]
  },
  {
   "cell_type": "code",
   "execution_count": 31,
   "id": "ec120f71-c466-42ca-a946-eaa13d94f7ea",
   "metadata": {},
   "outputs": [
    {
     "data": {
      "text/plain": [
       "(28350, 2)"
      ]
     },
     "execution_count": 31,
     "metadata": {},
     "output_type": "execute_result"
    }
   ],
   "source": [
    "num_routes_per_stop.shape"
   ]
  },
  {
   "cell_type": "code",
   "execution_count": 36,
   "id": "e099b61b-769c-45ad-ad03-7ee47aadc912",
   "metadata": {
    "tags": []
   },
   "outputs": [],
   "source": [
    "# Filtering stop-trip data to include only peak period trips\n",
    "peak_stop_times = stop_trip_merged[stop_trip_merged['peak_offpeak'] == 'peak'].copy()"
   ]
  },
  {
   "cell_type": "code",
   "execution_count": 41,
   "id": "8bf2941b-69ba-4699-9613-5df2e402e4c4",
   "metadata": {},
   "outputs": [
    {
     "data": {
      "text/html": [
       "<div>\n",
       "<style scoped>\n",
       "    .dataframe tbody tr th:only-of-type {\n",
       "        vertical-align: middle;\n",
       "    }\n",
       "\n",
       "    .dataframe tbody tr th {\n",
       "        vertical-align: top;\n",
       "    }\n",
       "\n",
       "    .dataframe thead th {\n",
       "        text-align: right;\n",
       "    }\n",
       "</style>\n",
       "<table border=\"1\" class=\"dataframe\">\n",
       "  <thead>\n",
       "    <tr style=\"text-align: right;\">\n",
       "      <th></th>\n",
       "      <th>0</th>\n",
       "      <th>2</th>\n",
       "      <th>6</th>\n",
       "      <th>8</th>\n",
       "      <th>9</th>\n",
       "    </tr>\n",
       "  </thead>\n",
       "  <tbody>\n",
       "    <tr>\n",
       "      <th>Unnamed: 0</th>\n",
       "      <td>0</td>\n",
       "      <td>173</td>\n",
       "      <td>1785</td>\n",
       "      <td>1986</td>\n",
       "      <td>2235</td>\n",
       "    </tr>\n",
       "    <tr>\n",
       "      <th>key</th>\n",
       "      <td>5161caf10ab1cd54000d20147a5bb66a</td>\n",
       "      <td>4cb80d93e5790b7c0246acd89a7bfc08</td>\n",
       "      <td>b21b5e64a6a2ed89c31523343b3d0ad6</td>\n",
       "      <td>7395c81be4d637212ffa98cafb61ec20</td>\n",
       "      <td>6b2a3626f14531a0620c7cb26416cd4c</td>\n",
       "    </tr>\n",
       "    <tr>\n",
       "      <th>_gtfs_key</th>\n",
       "      <td>321223a0cbd2c6d8c8f9700229ed2807</td>\n",
       "      <td>25cdaf053be6127c3ef8238c68910fca</td>\n",
       "      <td>1703d5e5b26e0e8447545adce351ca1c</td>\n",
       "      <td>436b22eea993582599d27fe23ca9189f</td>\n",
       "      <td>224a9ccf8ba8a99544414a090aa3a8e5</td>\n",
       "    </tr>\n",
       "    <tr>\n",
       "      <th>feed_key</th>\n",
       "      <td>ace4e22d6f2c299c36eba89ccb650b1b</td>\n",
       "      <td>ace4e22d6f2c299c36eba89ccb650b1b</td>\n",
       "      <td>ace4e22d6f2c299c36eba89ccb650b1b</td>\n",
       "      <td>ace4e22d6f2c299c36eba89ccb650b1b</td>\n",
       "      <td>ace4e22d6f2c299c36eba89ccb650b1b</td>\n",
       "    </tr>\n",
       "    <tr>\n",
       "      <th>trip_id</th>\n",
       "      <td>28026b4c-26f6-441e-a2b5-8f404a9ee35f:3</td>\n",
       "      <td>2e9917cd-ae99-459e-ba91-ae9017aa0966:3</td>\n",
       "      <td>b2cb9510-dc79-495e-ab5e-3b8be6c10144:1</td>\n",
       "      <td>2636f5e8-b0aa-433d-8399-28d2d05dfe1a:1</td>\n",
       "      <td>b2cb9510-dc79-495e-ab5e-3b8be6c10144:2</td>\n",
       "    </tr>\n",
       "    <tr>\n",
       "      <th>stop_id</th>\n",
       "      <td>8e75858c-2558-497a-8fd0-cb98973bc4bb</td>\n",
       "      <td>8e75858c-2558-497a-8fd0-cb98973bc4bb</td>\n",
       "      <td>8e75858c-2558-497a-8fd0-cb98973bc4bb</td>\n",
       "      <td>8e75858c-2558-497a-8fd0-cb98973bc4bb</td>\n",
       "      <td>8e75858c-2558-497a-8fd0-cb98973bc4bb</td>\n",
       "    </tr>\n",
       "    <tr>\n",
       "      <th>stop_sequence</th>\n",
       "      <td>8</td>\n",
       "      <td>8</td>\n",
       "      <td>8</td>\n",
       "      <td>8</td>\n",
       "      <td>8</td>\n",
       "    </tr>\n",
       "    <tr>\n",
       "      <th>arrival_time</th>\n",
       "      <td>08:32:00</td>\n",
       "      <td>17:42:00</td>\n",
       "      <td>09:22:00</td>\n",
       "      <td>18:32:00</td>\n",
       "      <td>10:02:00</td>\n",
       "    </tr>\n",
       "    <tr>\n",
       "      <th>departure_time</th>\n",
       "      <td>08:32:00</td>\n",
       "      <td>17:42:00</td>\n",
       "      <td>09:22:00</td>\n",
       "      <td>18:32:00</td>\n",
       "      <td>10:02:00</td>\n",
       "    </tr>\n",
       "    <tr>\n",
       "      <th>arrival_time_interval</th>\n",
       "      <td>relativedelta(hours=+8, minutes=+32)</td>\n",
       "      <td>relativedelta(hours=+17, minutes=+42)</td>\n",
       "      <td>relativedelta(hours=+9, minutes=+22)</td>\n",
       "      <td>relativedelta(hours=+18, minutes=+32)</td>\n",
       "      <td>relativedelta(hours=+10, minutes=+2)</td>\n",
       "    </tr>\n",
       "    <tr>\n",
       "      <th>departure_time_interval</th>\n",
       "      <td>relativedelta(hours=+8, minutes=+32)</td>\n",
       "      <td>relativedelta(hours=+17, minutes=+42)</td>\n",
       "      <td>relativedelta(hours=+9, minutes=+22)</td>\n",
       "      <td>relativedelta(hours=+18, minutes=+32)</td>\n",
       "      <td>relativedelta(hours=+10, minutes=+2)</td>\n",
       "    </tr>\n",
       "    <tr>\n",
       "      <th>arrival_hour</th>\n",
       "      <td>8.00</td>\n",
       "      <td>17.00</td>\n",
       "      <td>9.00</td>\n",
       "      <td>18.00</td>\n",
       "      <td>10.00</td>\n",
       "    </tr>\n",
       "    <tr>\n",
       "      <th>departure_hour</th>\n",
       "      <td>8.00</td>\n",
       "      <td>17.00</td>\n",
       "      <td>9.00</td>\n",
       "      <td>18.00</td>\n",
       "      <td>10.00</td>\n",
       "    </tr>\n",
       "    <tr>\n",
       "      <th>stop_name</th>\n",
       "      <td>Bardsley &amp; Mooney EB</td>\n",
       "      <td>Bardsley &amp; Mooney EB</td>\n",
       "      <td>Bardsley &amp; Mooney EB</td>\n",
       "      <td>Bardsley &amp; Mooney EB</td>\n",
       "      <td>Bardsley &amp; Mooney EB</td>\n",
       "    </tr>\n",
       "    <tr>\n",
       "      <th>location_type</th>\n",
       "      <td>0.00</td>\n",
       "      <td>0.00</td>\n",
       "      <td>0.00</td>\n",
       "      <td>0.00</td>\n",
       "      <td>0.00</td>\n",
       "    </tr>\n",
       "    <tr>\n",
       "      <th>stop_desc</th>\n",
       "      <td>CVS / Subway / Starbucks / Taco Bell</td>\n",
       "      <td>CVS / Subway / Starbucks / Taco Bell</td>\n",
       "      <td>CVS / Subway / Starbucks / Taco Bell</td>\n",
       "      <td>CVS / Subway / Starbucks / Taco Bell</td>\n",
       "      <td>CVS / Subway / Starbucks / Taco Bell</td>\n",
       "    </tr>\n",
       "    <tr>\n",
       "      <th>geometry</th>\n",
       "      <td>POINT (-119.313836 36.196597)</td>\n",
       "      <td>POINT (-119.313836 36.196597)</td>\n",
       "      <td>POINT (-119.313836 36.196597)</td>\n",
       "      <td>POINT (-119.313836 36.196597)</td>\n",
       "      <td>POINT (-119.313836 36.196597)</td>\n",
       "    </tr>\n",
       "    <tr>\n",
       "      <th>name</th>\n",
       "      <td>TCRTA TripShot Schedule</td>\n",
       "      <td>TCRTA TripShot Schedule</td>\n",
       "      <td>TCRTA TripShot Schedule</td>\n",
       "      <td>TCRTA TripShot Schedule</td>\n",
       "      <td>TCRTA TripShot Schedule</td>\n",
       "    </tr>\n",
       "    <tr>\n",
       "      <th>gtfs_dataset_key</th>\n",
       "      <td>0139b1253130b33adcd4b3a4490530d2</td>\n",
       "      <td>0139b1253130b33adcd4b3a4490530d2</td>\n",
       "      <td>0139b1253130b33adcd4b3a4490530d2</td>\n",
       "      <td>0139b1253130b33adcd4b3a4490530d2</td>\n",
       "      <td>0139b1253130b33adcd4b3a4490530d2</td>\n",
       "    </tr>\n",
       "    <tr>\n",
       "      <th>route_id</th>\n",
       "      <td>T2</td>\n",
       "      <td>T2</td>\n",
       "      <td>T2</td>\n",
       "      <td>T2</td>\n",
       "      <td>T2</td>\n",
       "    </tr>\n",
       "    <tr>\n",
       "      <th>route_type</th>\n",
       "      <td>3</td>\n",
       "      <td>3</td>\n",
       "      <td>3</td>\n",
       "      <td>3</td>\n",
       "      <td>3</td>\n",
       "    </tr>\n",
       "    <tr>\n",
       "      <th>route_key</th>\n",
       "      <td>2129fed1bdd74b3b2d959b145875d46b</td>\n",
       "      <td>2129fed1bdd74b3b2d959b145875d46b</td>\n",
       "      <td>2129fed1bdd74b3b2d959b145875d46b</td>\n",
       "      <td>2129fed1bdd74b3b2d959b145875d46b</td>\n",
       "      <td>2129fed1bdd74b3b2d959b145875d46b</td>\n",
       "    </tr>\n",
       "    <tr>\n",
       "      <th>num_stop_times</th>\n",
       "      <td>18</td>\n",
       "      <td>18</td>\n",
       "      <td>19</td>\n",
       "      <td>19</td>\n",
       "      <td>18</td>\n",
       "    </tr>\n",
       "    <tr>\n",
       "      <th>direction_id</th>\n",
       "      <td>NaN</td>\n",
       "      <td>NaN</td>\n",
       "      <td>NaN</td>\n",
       "      <td>NaN</td>\n",
       "      <td>NaN</td>\n",
       "    </tr>\n",
       "    <tr>\n",
       "      <th>trip_first_departure_sec</th>\n",
       "      <td>30000.00</td>\n",
       "      <td>63000.00</td>\n",
       "      <td>33000.00</td>\n",
       "      <td>66000.00</td>\n",
       "      <td>35400.00</td>\n",
       "    </tr>\n",
       "    <tr>\n",
       "      <th>trip_first_departure_ts</th>\n",
       "      <td>2025-06-02 15:20:00+00:00</td>\n",
       "      <td>2025-06-03 00:30:00+00:00</td>\n",
       "      <td>2025-06-02 16:10:00+00:00</td>\n",
       "      <td>2025-06-03 01:20:00+00:00</td>\n",
       "      <td>2025-06-02 16:50:00+00:00</td>\n",
       "    </tr>\n",
       "    <tr>\n",
       "      <th>trip_last_arrival_sec</th>\n",
       "      <td>31680.00</td>\n",
       "      <td>64680.00</td>\n",
       "      <td>35400.00</td>\n",
       "      <td>68400.00</td>\n",
       "      <td>37080.00</td>\n",
       "    </tr>\n",
       "    <tr>\n",
       "      <th>trip_start_timezone</th>\n",
       "      <td>America/Los_Angeles</td>\n",
       "      <td>America/Los_Angeles</td>\n",
       "      <td>America/Los_Angeles</td>\n",
       "      <td>America/Los_Angeles</td>\n",
       "      <td>America/Los_Angeles</td>\n",
       "    </tr>\n",
       "    <tr>\n",
       "      <th>trip_instance_key</th>\n",
       "      <td>9c9641ab60e3228c6a686a1fd90aa53b</td>\n",
       "      <td>857cbb1bb1da88d08bb9be4749c6e577</td>\n",
       "      <td>a3eabfd91ed46d6aaead79650ebffa7e</td>\n",
       "      <td>c5e9ac7a6f89796afc01e5027cb5ae82</td>\n",
       "      <td>043c074d83afa13c12141b033837878a</td>\n",
       "    </tr>\n",
       "    <tr>\n",
       "      <th>service_hours</th>\n",
       "      <td>0.47</td>\n",
       "      <td>0.47</td>\n",
       "      <td>0.67</td>\n",
       "      <td>0.67</td>\n",
       "      <td>0.47</td>\n",
       "    </tr>\n",
       "    <tr>\n",
       "      <th>trip_first_departure_datetime_pacific</th>\n",
       "      <td>2025-06-02 08:20:00</td>\n",
       "      <td>2025-06-02 17:30:00</td>\n",
       "      <td>2025-06-02 09:10:00</td>\n",
       "      <td>2025-06-02 18:20:00</td>\n",
       "      <td>2025-06-02 09:50:00</td>\n",
       "    </tr>\n",
       "    <tr>\n",
       "      <th>peak_offpeak</th>\n",
       "      <td>peak</td>\n",
       "      <td>peak</td>\n",
       "      <td>peak</td>\n",
       "      <td>peak</td>\n",
       "      <td>peak</td>\n",
       "    </tr>\n",
       "  </tbody>\n",
       "</table>\n",
       "</div>"
      ],
      "text/plain": [
       "                                                                            0  \\\n",
       "Unnamed: 0                                                                  0   \n",
       "key                                          5161caf10ab1cd54000d20147a5bb66a   \n",
       "_gtfs_key                                    321223a0cbd2c6d8c8f9700229ed2807   \n",
       "feed_key                                     ace4e22d6f2c299c36eba89ccb650b1b   \n",
       "trip_id                                28026b4c-26f6-441e-a2b5-8f404a9ee35f:3   \n",
       "stop_id                                  8e75858c-2558-497a-8fd0-cb98973bc4bb   \n",
       "stop_sequence                                                               8   \n",
       "arrival_time                                                         08:32:00   \n",
       "departure_time                                                       08:32:00   \n",
       "arrival_time_interval                    relativedelta(hours=+8, minutes=+32)   \n",
       "departure_time_interval                  relativedelta(hours=+8, minutes=+32)   \n",
       "arrival_hour                                                             8.00   \n",
       "departure_hour                                                           8.00   \n",
       "stop_name                                                Bardsley & Mooney EB   \n",
       "location_type                                                            0.00   \n",
       "stop_desc                                CVS / Subway / Starbucks / Taco Bell   \n",
       "geometry                                        POINT (-119.313836 36.196597)   \n",
       "name                                                  TCRTA TripShot Schedule   \n",
       "gtfs_dataset_key                             0139b1253130b33adcd4b3a4490530d2   \n",
       "route_id                                                                   T2   \n",
       "route_type                                                                  3   \n",
       "route_key                                    2129fed1bdd74b3b2d959b145875d46b   \n",
       "num_stop_times                                                             18   \n",
       "direction_id                                                              NaN   \n",
       "trip_first_departure_sec                                             30000.00   \n",
       "trip_first_departure_ts                             2025-06-02 15:20:00+00:00   \n",
       "trip_last_arrival_sec                                                31680.00   \n",
       "trip_start_timezone                                       America/Los_Angeles   \n",
       "trip_instance_key                            9c9641ab60e3228c6a686a1fd90aa53b   \n",
       "service_hours                                                            0.47   \n",
       "trip_first_departure_datetime_pacific                     2025-06-02 08:20:00   \n",
       "peak_offpeak                                                             peak   \n",
       "\n",
       "                                                                            2  \\\n",
       "Unnamed: 0                                                                173   \n",
       "key                                          4cb80d93e5790b7c0246acd89a7bfc08   \n",
       "_gtfs_key                                    25cdaf053be6127c3ef8238c68910fca   \n",
       "feed_key                                     ace4e22d6f2c299c36eba89ccb650b1b   \n",
       "trip_id                                2e9917cd-ae99-459e-ba91-ae9017aa0966:3   \n",
       "stop_id                                  8e75858c-2558-497a-8fd0-cb98973bc4bb   \n",
       "stop_sequence                                                               8   \n",
       "arrival_time                                                         17:42:00   \n",
       "departure_time                                                       17:42:00   \n",
       "arrival_time_interval                   relativedelta(hours=+17, minutes=+42)   \n",
       "departure_time_interval                 relativedelta(hours=+17, minutes=+42)   \n",
       "arrival_hour                                                            17.00   \n",
       "departure_hour                                                          17.00   \n",
       "stop_name                                                Bardsley & Mooney EB   \n",
       "location_type                                                            0.00   \n",
       "stop_desc                                CVS / Subway / Starbucks / Taco Bell   \n",
       "geometry                                        POINT (-119.313836 36.196597)   \n",
       "name                                                  TCRTA TripShot Schedule   \n",
       "gtfs_dataset_key                             0139b1253130b33adcd4b3a4490530d2   \n",
       "route_id                                                                   T2   \n",
       "route_type                                                                  3   \n",
       "route_key                                    2129fed1bdd74b3b2d959b145875d46b   \n",
       "num_stop_times                                                             18   \n",
       "direction_id                                                              NaN   \n",
       "trip_first_departure_sec                                             63000.00   \n",
       "trip_first_departure_ts                             2025-06-03 00:30:00+00:00   \n",
       "trip_last_arrival_sec                                                64680.00   \n",
       "trip_start_timezone                                       America/Los_Angeles   \n",
       "trip_instance_key                            857cbb1bb1da88d08bb9be4749c6e577   \n",
       "service_hours                                                            0.47   \n",
       "trip_first_departure_datetime_pacific                     2025-06-02 17:30:00   \n",
       "peak_offpeak                                                             peak   \n",
       "\n",
       "                                                                            6  \\\n",
       "Unnamed: 0                                                               1785   \n",
       "key                                          b21b5e64a6a2ed89c31523343b3d0ad6   \n",
       "_gtfs_key                                    1703d5e5b26e0e8447545adce351ca1c   \n",
       "feed_key                                     ace4e22d6f2c299c36eba89ccb650b1b   \n",
       "trip_id                                b2cb9510-dc79-495e-ab5e-3b8be6c10144:1   \n",
       "stop_id                                  8e75858c-2558-497a-8fd0-cb98973bc4bb   \n",
       "stop_sequence                                                               8   \n",
       "arrival_time                                                         09:22:00   \n",
       "departure_time                                                       09:22:00   \n",
       "arrival_time_interval                    relativedelta(hours=+9, minutes=+22)   \n",
       "departure_time_interval                  relativedelta(hours=+9, minutes=+22)   \n",
       "arrival_hour                                                             9.00   \n",
       "departure_hour                                                           9.00   \n",
       "stop_name                                                Bardsley & Mooney EB   \n",
       "location_type                                                            0.00   \n",
       "stop_desc                                CVS / Subway / Starbucks / Taco Bell   \n",
       "geometry                                        POINT (-119.313836 36.196597)   \n",
       "name                                                  TCRTA TripShot Schedule   \n",
       "gtfs_dataset_key                             0139b1253130b33adcd4b3a4490530d2   \n",
       "route_id                                                                   T2   \n",
       "route_type                                                                  3   \n",
       "route_key                                    2129fed1bdd74b3b2d959b145875d46b   \n",
       "num_stop_times                                                             19   \n",
       "direction_id                                                              NaN   \n",
       "trip_first_departure_sec                                             33000.00   \n",
       "trip_first_departure_ts                             2025-06-02 16:10:00+00:00   \n",
       "trip_last_arrival_sec                                                35400.00   \n",
       "trip_start_timezone                                       America/Los_Angeles   \n",
       "trip_instance_key                            a3eabfd91ed46d6aaead79650ebffa7e   \n",
       "service_hours                                                            0.67   \n",
       "trip_first_departure_datetime_pacific                     2025-06-02 09:10:00   \n",
       "peak_offpeak                                                             peak   \n",
       "\n",
       "                                                                            8  \\\n",
       "Unnamed: 0                                                               1986   \n",
       "key                                          7395c81be4d637212ffa98cafb61ec20   \n",
       "_gtfs_key                                    436b22eea993582599d27fe23ca9189f   \n",
       "feed_key                                     ace4e22d6f2c299c36eba89ccb650b1b   \n",
       "trip_id                                2636f5e8-b0aa-433d-8399-28d2d05dfe1a:1   \n",
       "stop_id                                  8e75858c-2558-497a-8fd0-cb98973bc4bb   \n",
       "stop_sequence                                                               8   \n",
       "arrival_time                                                         18:32:00   \n",
       "departure_time                                                       18:32:00   \n",
       "arrival_time_interval                   relativedelta(hours=+18, minutes=+32)   \n",
       "departure_time_interval                 relativedelta(hours=+18, minutes=+32)   \n",
       "arrival_hour                                                            18.00   \n",
       "departure_hour                                                          18.00   \n",
       "stop_name                                                Bardsley & Mooney EB   \n",
       "location_type                                                            0.00   \n",
       "stop_desc                                CVS / Subway / Starbucks / Taco Bell   \n",
       "geometry                                        POINT (-119.313836 36.196597)   \n",
       "name                                                  TCRTA TripShot Schedule   \n",
       "gtfs_dataset_key                             0139b1253130b33adcd4b3a4490530d2   \n",
       "route_id                                                                   T2   \n",
       "route_type                                                                  3   \n",
       "route_key                                    2129fed1bdd74b3b2d959b145875d46b   \n",
       "num_stop_times                                                             19   \n",
       "direction_id                                                              NaN   \n",
       "trip_first_departure_sec                                             66000.00   \n",
       "trip_first_departure_ts                             2025-06-03 01:20:00+00:00   \n",
       "trip_last_arrival_sec                                                68400.00   \n",
       "trip_start_timezone                                       America/Los_Angeles   \n",
       "trip_instance_key                            c5e9ac7a6f89796afc01e5027cb5ae82   \n",
       "service_hours                                                            0.67   \n",
       "trip_first_departure_datetime_pacific                     2025-06-02 18:20:00   \n",
       "peak_offpeak                                                             peak   \n",
       "\n",
       "                                                                            9  \n",
       "Unnamed: 0                                                               2235  \n",
       "key                                          6b2a3626f14531a0620c7cb26416cd4c  \n",
       "_gtfs_key                                    224a9ccf8ba8a99544414a090aa3a8e5  \n",
       "feed_key                                     ace4e22d6f2c299c36eba89ccb650b1b  \n",
       "trip_id                                b2cb9510-dc79-495e-ab5e-3b8be6c10144:2  \n",
       "stop_id                                  8e75858c-2558-497a-8fd0-cb98973bc4bb  \n",
       "stop_sequence                                                               8  \n",
       "arrival_time                                                         10:02:00  \n",
       "departure_time                                                       10:02:00  \n",
       "arrival_time_interval                    relativedelta(hours=+10, minutes=+2)  \n",
       "departure_time_interval                  relativedelta(hours=+10, minutes=+2)  \n",
       "arrival_hour                                                            10.00  \n",
       "departure_hour                                                          10.00  \n",
       "stop_name                                                Bardsley & Mooney EB  \n",
       "location_type                                                            0.00  \n",
       "stop_desc                                CVS / Subway / Starbucks / Taco Bell  \n",
       "geometry                                        POINT (-119.313836 36.196597)  \n",
       "name                                                  TCRTA TripShot Schedule  \n",
       "gtfs_dataset_key                             0139b1253130b33adcd4b3a4490530d2  \n",
       "route_id                                                                   T2  \n",
       "route_type                                                                  3  \n",
       "route_key                                    2129fed1bdd74b3b2d959b145875d46b  \n",
       "num_stop_times                                                             18  \n",
       "direction_id                                                              NaN  \n",
       "trip_first_departure_sec                                             35400.00  \n",
       "trip_first_departure_ts                             2025-06-02 16:50:00+00:00  \n",
       "trip_last_arrival_sec                                                37080.00  \n",
       "trip_start_timezone                                       America/Los_Angeles  \n",
       "trip_instance_key                            043c074d83afa13c12141b033837878a  \n",
       "service_hours                                                            0.47  \n",
       "trip_first_departure_datetime_pacific                     2025-06-02 09:50:00  \n",
       "peak_offpeak                                                             peak  "
      ]
     },
     "execution_count": 41,
     "metadata": {},
     "output_type": "execute_result"
    }
   ],
   "source": [
    "peak_stop_times.head().T"
   ]
  },
  {
   "cell_type": "code",
   "execution_count": 40,
   "id": "ce58de12-2915-4d04-8533-9229610bad2a",
   "metadata": {
    "tags": []
   },
   "outputs": [],
   "source": [
    "#Filter for peak + arrival before 9 AM\n",
    "am_peak_stop_trip = peak_stop_times[peak_stop_times['arrival_hour'] < 9].copy()\n",
    "\n",
    "#Assign time_of_day manually\n",
    "am_peak_stop_trip['time_of_day'] = 'AM Peak'\n"
   ]
  },
  {
   "cell_type": "code",
   "execution_count": 42,
   "id": "26db87a5-80f9-405b-a642-cfb7b3f381e1",
   "metadata": {
    "tags": []
   },
   "outputs": [],
   "source": [
    "group_cols = ['feed_key','stop_id', 'route_id', 'direction_id']"
   ]
  },
  {
   "cell_type": "code",
   "execution_count": 43,
   "id": "22cdcaec-d976-4a26-98e3-326ee6653682",
   "metadata": {},
   "outputs": [],
   "source": [
    "stop_route_summary = gtfs_schedule_wrangling.aggregate_time_of_day_to_peak_offpeak(\n",
    "    df=am_peak_stop_trip,\n",
    "    group_cols=group_cols,\n",
    "    long_or_wide='wide'\n",
    ")"
   ]
  },
  {
   "cell_type": "code",
   "execution_count": 44,
   "id": "7d19a710-f9d4-41ba-9a9d-39e4fb0c4250",
   "metadata": {},
   "outputs": [
    {
     "data": {
      "text/html": [
       "<div>\n",
       "<style scoped>\n",
       "    .dataframe tbody tr th:only-of-type {\n",
       "        vertical-align: middle;\n",
       "    }\n",
       "\n",
       "    .dataframe tbody tr th {\n",
       "        vertical-align: top;\n",
       "    }\n",
       "\n",
       "    .dataframe thead th {\n",
       "        text-align: right;\n",
       "    }\n",
       "</style>\n",
       "<table border=\"1\" class=\"dataframe\">\n",
       "  <thead>\n",
       "    <tr style=\"text-align: right;\">\n",
       "      <th></th>\n",
       "      <th>feed_key</th>\n",
       "      <th>stop_id</th>\n",
       "      <th>route_id</th>\n",
       "      <th>direction_id</th>\n",
       "      <th>all_day_n_trips</th>\n",
       "      <th>peak_n_trips</th>\n",
       "      <th>all_day_frequency</th>\n",
       "      <th>peak_frequency</th>\n",
       "    </tr>\n",
       "  </thead>\n",
       "  <tbody>\n",
       "    <tr>\n",
       "      <th>0</th>\n",
       "      <td>058a3b43698f803c8686f7e72a9efd4c</td>\n",
       "      <td>121914</td>\n",
       "      <td>11796</td>\n",
       "      <td>1.00</td>\n",
       "      <td>1.00</td>\n",
       "      <td>1.00</td>\n",
       "      <td>0.04</td>\n",
       "      <td>0.12</td>\n",
       "    </tr>\n",
       "    <tr>\n",
       "      <th>1</th>\n",
       "      <td>058a3b43698f803c8686f7e72a9efd4c</td>\n",
       "      <td>121915</td>\n",
       "      <td>11792</td>\n",
       "      <td>1.00</td>\n",
       "      <td>1.00</td>\n",
       "      <td>1.00</td>\n",
       "      <td>0.04</td>\n",
       "      <td>0.12</td>\n",
       "    </tr>\n",
       "    <tr>\n",
       "      <th>2</th>\n",
       "      <td>058a3b43698f803c8686f7e72a9efd4c</td>\n",
       "      <td>121916</td>\n",
       "      <td>11792</td>\n",
       "      <td>1.00</td>\n",
       "      <td>1.00</td>\n",
       "      <td>1.00</td>\n",
       "      <td>0.04</td>\n",
       "      <td>0.12</td>\n",
       "    </tr>\n",
       "    <tr>\n",
       "      <th>3</th>\n",
       "      <td>058a3b43698f803c8686f7e72a9efd4c</td>\n",
       "      <td>121917</td>\n",
       "      <td>11792</td>\n",
       "      <td>1.00</td>\n",
       "      <td>1.00</td>\n",
       "      <td>1.00</td>\n",
       "      <td>0.04</td>\n",
       "      <td>0.12</td>\n",
       "    </tr>\n",
       "    <tr>\n",
       "      <th>4</th>\n",
       "      <td>058a3b43698f803c8686f7e72a9efd4c</td>\n",
       "      <td>121919</td>\n",
       "      <td>11795</td>\n",
       "      <td>1.00</td>\n",
       "      <td>2.00</td>\n",
       "      <td>2.00</td>\n",
       "      <td>0.08</td>\n",
       "      <td>0.25</td>\n",
       "    </tr>\n",
       "  </tbody>\n",
       "</table>\n",
       "</div>"
      ],
      "text/plain": [
       "                           feed_key stop_id route_id  direction_id  \\\n",
       "0  058a3b43698f803c8686f7e72a9efd4c  121914    11796          1.00   \n",
       "1  058a3b43698f803c8686f7e72a9efd4c  121915    11792          1.00   \n",
       "2  058a3b43698f803c8686f7e72a9efd4c  121916    11792          1.00   \n",
       "3  058a3b43698f803c8686f7e72a9efd4c  121917    11792          1.00   \n",
       "4  058a3b43698f803c8686f7e72a9efd4c  121919    11795          1.00   \n",
       "\n",
       "   all_day_n_trips  peak_n_trips  all_day_frequency  peak_frequency  \n",
       "0             1.00          1.00               0.04            0.12  \n",
       "1             1.00          1.00               0.04            0.12  \n",
       "2             1.00          1.00               0.04            0.12  \n",
       "3             1.00          1.00               0.04            0.12  \n",
       "4             2.00          2.00               0.08            0.25  "
      ]
     },
     "execution_count": 44,
     "metadata": {},
     "output_type": "execute_result"
    }
   ],
   "source": [
    "stop_route_summary.head()"
   ]
  },
  {
   "cell_type": "code",
   "execution_count": 45,
   "id": "901828bf-f937-42c0-b8cf-0f2deb60c74a",
   "metadata": {
    "tags": []
   },
   "outputs": [],
   "source": [
    "stop_route_summary['peak_headway'] = 60 / stop_route_summary['peak_frequency']"
   ]
  },
  {
   "cell_type": "code",
   "execution_count": 46,
   "id": "4f875909-57c2-4330-844e-41e00817aa87",
   "metadata": {
    "tags": []
   },
   "outputs": [
    {
     "data": {
      "text/html": [
       "<div>\n",
       "<style scoped>\n",
       "    .dataframe tbody tr th:only-of-type {\n",
       "        vertical-align: middle;\n",
       "    }\n",
       "\n",
       "    .dataframe tbody tr th {\n",
       "        vertical-align: top;\n",
       "    }\n",
       "\n",
       "    .dataframe thead th {\n",
       "        text-align: right;\n",
       "    }\n",
       "</style>\n",
       "<table border=\"1\" class=\"dataframe\">\n",
       "  <thead>\n",
       "    <tr style=\"text-align: right;\">\n",
       "      <th></th>\n",
       "      <th>feed_key</th>\n",
       "      <th>stop_id</th>\n",
       "      <th>route_id</th>\n",
       "      <th>direction_id</th>\n",
       "      <th>all_day_n_trips</th>\n",
       "      <th>peak_n_trips</th>\n",
       "      <th>all_day_frequency</th>\n",
       "      <th>peak_frequency</th>\n",
       "      <th>peak_headway</th>\n",
       "    </tr>\n",
       "  </thead>\n",
       "  <tbody>\n",
       "    <tr>\n",
       "      <th>0</th>\n",
       "      <td>058a3b43698f803c8686f7e72a9efd4c</td>\n",
       "      <td>121914</td>\n",
       "      <td>11796</td>\n",
       "      <td>1.00</td>\n",
       "      <td>1.00</td>\n",
       "      <td>1.00</td>\n",
       "      <td>0.04</td>\n",
       "      <td>0.12</td>\n",
       "      <td>500.00</td>\n",
       "    </tr>\n",
       "    <tr>\n",
       "      <th>1</th>\n",
       "      <td>058a3b43698f803c8686f7e72a9efd4c</td>\n",
       "      <td>121915</td>\n",
       "      <td>11792</td>\n",
       "      <td>1.00</td>\n",
       "      <td>1.00</td>\n",
       "      <td>1.00</td>\n",
       "      <td>0.04</td>\n",
       "      <td>0.12</td>\n",
       "      <td>500.00</td>\n",
       "    </tr>\n",
       "    <tr>\n",
       "      <th>2</th>\n",
       "      <td>058a3b43698f803c8686f7e72a9efd4c</td>\n",
       "      <td>121916</td>\n",
       "      <td>11792</td>\n",
       "      <td>1.00</td>\n",
       "      <td>1.00</td>\n",
       "      <td>1.00</td>\n",
       "      <td>0.04</td>\n",
       "      <td>0.12</td>\n",
       "      <td>500.00</td>\n",
       "    </tr>\n",
       "    <tr>\n",
       "      <th>3</th>\n",
       "      <td>058a3b43698f803c8686f7e72a9efd4c</td>\n",
       "      <td>121917</td>\n",
       "      <td>11792</td>\n",
       "      <td>1.00</td>\n",
       "      <td>1.00</td>\n",
       "      <td>1.00</td>\n",
       "      <td>0.04</td>\n",
       "      <td>0.12</td>\n",
       "      <td>500.00</td>\n",
       "    </tr>\n",
       "    <tr>\n",
       "      <th>4</th>\n",
       "      <td>058a3b43698f803c8686f7e72a9efd4c</td>\n",
       "      <td>121919</td>\n",
       "      <td>11795</td>\n",
       "      <td>1.00</td>\n",
       "      <td>2.00</td>\n",
       "      <td>2.00</td>\n",
       "      <td>0.08</td>\n",
       "      <td>0.25</td>\n",
       "      <td>240.00</td>\n",
       "    </tr>\n",
       "  </tbody>\n",
       "</table>\n",
       "</div>"
      ],
      "text/plain": [
       "                           feed_key stop_id route_id  direction_id  \\\n",
       "0  058a3b43698f803c8686f7e72a9efd4c  121914    11796          1.00   \n",
       "1  058a3b43698f803c8686f7e72a9efd4c  121915    11792          1.00   \n",
       "2  058a3b43698f803c8686f7e72a9efd4c  121916    11792          1.00   \n",
       "3  058a3b43698f803c8686f7e72a9efd4c  121917    11792          1.00   \n",
       "4  058a3b43698f803c8686f7e72a9efd4c  121919    11795          1.00   \n",
       "\n",
       "   all_day_n_trips  peak_n_trips  all_day_frequency  peak_frequency  \\\n",
       "0             1.00          1.00               0.04            0.12   \n",
       "1             1.00          1.00               0.04            0.12   \n",
       "2             1.00          1.00               0.04            0.12   \n",
       "3             1.00          1.00               0.04            0.12   \n",
       "4             2.00          2.00               0.08            0.25   \n",
       "\n",
       "   peak_headway  \n",
       "0        500.00  \n",
       "1        500.00  \n",
       "2        500.00  \n",
       "3        500.00  \n",
       "4        240.00  "
      ]
     },
     "execution_count": 46,
     "metadata": {},
     "output_type": "execute_result"
    }
   ],
   "source": [
    "stop_route_summary.head(5)"
   ]
  },
  {
   "cell_type": "code",
   "execution_count": 48,
   "id": "98f99018-f818-43f2-a884-15b2c863f940",
   "metadata": {},
   "outputs": [],
   "source": [
    "# Calculating average AM peak headway (minutes) for each stop\n",
    "headways_per_stop = (\n",
    " stop_route_summary\n",
    "  .groupby('stop_id')['peak_headway']\n",
    ".mean()  \n",
    ".reset_index()\n",
    ")"
   ]
  },
  {
   "cell_type": "code",
   "execution_count": 49,
   "id": "fe28e454-dc15-4980-b058-ee7370d89ae7",
   "metadata": {},
   "outputs": [
    {
     "data": {
      "text/html": [
       "<div>\n",
       "<style scoped>\n",
       "    .dataframe tbody tr th:only-of-type {\n",
       "        vertical-align: middle;\n",
       "    }\n",
       "\n",
       "    .dataframe tbody tr th {\n",
       "        vertical-align: top;\n",
       "    }\n",
       "\n",
       "    .dataframe thead th {\n",
       "        text-align: right;\n",
       "    }\n",
       "</style>\n",
       "<table border=\"1\" class=\"dataframe\">\n",
       "  <thead>\n",
       "    <tr style=\"text-align: right;\">\n",
       "      <th></th>\n",
       "      <th>stop_id</th>\n",
       "      <th>peak_headway</th>\n",
       "    </tr>\n",
       "  </thead>\n",
       "  <tbody>\n",
       "    <tr>\n",
       "      <th>0</th>\n",
       "      <td>0</td>\n",
       "      <td>500.00</td>\n",
       "    </tr>\n",
       "    <tr>\n",
       "      <th>1</th>\n",
       "      <td>0002</td>\n",
       "      <td>413.33</td>\n",
       "    </tr>\n",
       "    <tr>\n",
       "      <th>2</th>\n",
       "      <td>0003</td>\n",
       "      <td>370.00</td>\n",
       "    </tr>\n",
       "    <tr>\n",
       "      <th>3</th>\n",
       "      <td>0004</td>\n",
       "      <td>435.00</td>\n",
       "    </tr>\n",
       "    <tr>\n",
       "      <th>4</th>\n",
       "      <td>0005</td>\n",
       "      <td>240.00</td>\n",
       "    </tr>\n",
       "  </tbody>\n",
       "</table>\n",
       "</div>"
      ],
      "text/plain": [
       "  stop_id  peak_headway\n",
       "0       0        500.00\n",
       "1    0002        413.33\n",
       "2    0003        370.00\n",
       "3    0004        435.00\n",
       "4    0005        240.00"
      ]
     },
     "execution_count": 49,
     "metadata": {},
     "output_type": "execute_result"
    }
   ],
   "source": [
    "headways_per_stop.head()"
   ]
  },
  {
   "cell_type": "code",
   "execution_count": null,
   "id": "d08a6c8f-961b-4c68-9a17-af046b262cdc",
   "metadata": {
    "tags": []
   },
   "outputs": [],
   "source": [
    "# # Saving geojson file\n",
    "# with tempfile.NamedTemporaryFile(suffix=\".geojson\") as tmp:\n",
    "#     stop_summary_final.to_file(tmp.name, driver=\"GeoJSON\")\n",
    "\n",
    "\n",
    "#     with fsspec.open(f\"{GCS_FILE_PATH}/stop_summary.geojson\", 'w') as f_out:\n",
    "#         with open(tmp.name, 'r') as f_in:\n",
    "#             f_out.write(f_in.read())"
   ]
  }
 ],
 "metadata": {
  "kernelspec": {
   "display_name": "Python 3 (ipykernel)",
   "language": "python",
   "name": "python3"
  },
  "language_info": {
   "codemirror_mode": {
    "name": "ipython",
    "version": 3
   },
   "file_extension": ".py",
   "mimetype": "text/x-python",
   "name": "python",
   "nbconvert_exporter": "python",
   "pygments_lexer": "ipython3",
   "version": "3.11.10"
  }
 },
 "nbformat": 4,
 "nbformat_minor": 5
}
