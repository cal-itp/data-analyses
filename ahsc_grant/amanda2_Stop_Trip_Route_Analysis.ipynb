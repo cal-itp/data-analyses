{
 "cells": [
  {
   "cell_type": "code",
   "execution_count": 1,
   "id": "aa25b143-b16e-456b-a369-35408830850c",
   "metadata": {},
   "outputs": [],
   "source": [
    "import os\n",
    "\n",
    "os.environ[\"CALITP_BQ_MAX_BYTES\"] = str(800_000_000_000)\n",
    "\n",
    "import datetime as dt\n",
    "import time\n",
    "\n",
    "import branca\n",
    "import folium\n",
    "import fsspec\n",
    "import gcsfs\n",
    "import geopandas as gpd\n",
    "import pandas as pd\n",
    "from calitp_data_analysis import get_fs\n",
    "from segment_speed_utils import gtfs_schedule_wrangling, helpers\n",
    "from shared_utils import gtfs_utils_v2\n",
    "\n",
    "fs = get_fs()\n",
    "import tempfile"
   ]
  },
  {
   "cell_type": "code",
   "execution_count": 2,
   "id": "99a64418-3e6f-43ef-8833-e3eb043ec5c6",
   "metadata": {},
   "outputs": [],
   "source": [
    "pd.options.display.max_columns = 100\n",
    "pd.options.display.float_format = \"{:.2f}\".format\n",
    "pd.set_option(\"display.max_rows\", None)\n",
    "pd.set_option(\"display.max_colwidth\", None)"
   ]
  },
  {
   "cell_type": "code",
   "execution_count": 3,
   "id": "bb4fa7b4-e503-4947-9b3d-799d1b137d7f",
   "metadata": {},
   "outputs": [],
   "source": [
    "# Setting analysis date\n",
    "analysis_dt = dt.date(2025, 6, 2)"
   ]
  },
  {
   "cell_type": "code",
   "execution_count": 4,
   "id": "1ad30ca4-ccf2-47c6-b8be-dab7851671c5",
   "metadata": {},
   "outputs": [],
   "source": [
    "# #Function to fetch feeds, trips, stoptimes and stops_geo data from warehouse v2\n",
    "# def get_feeds_trips_stops_data(selected_date):\n",
    "\n",
    "#     trip_cols = [\"name\", \"gtfs_dataset_key\", \"feed_key\", \"trip_id\", \"route_id\", \"route_type\", \"route_key\",\n",
    "#                  \"num_stop_times\", \"direction_id\", \"trip_first_departure_sec\", \"trip_first_departure_ts\",\n",
    "#                  \"trip_last_arrival_sec\", \"trip_start_timezone\", \"trip_instance_key\", \"service_hours\", \"trip_first_departure_datetime_pacific\"]\n",
    "#     stoptimes_cols = [\"key\", \"_gtfs_key\", \"feed_key\", \"trip_id\", \"stop_id\", \"stop_sequence\", \"arrival_time\", \"departure_time\",\n",
    "#        \"arrival_time_interval\", \"departure_time_interval\", \"arrival_hour\", \"departure_hour\"]\n",
    "#     stop_cols = [\"feed_key\", \"stop_id\", \"geometry\", \"stop_name\", \"stop_code\", \"location_type\", \"stop_desc\"]\n",
    "\n",
    "#     feed_data = gtfs_utils_v2.schedule_daily_feed_to_gtfs_dataset_name(selected_date=selected_date)\n",
    "\n",
    "\n",
    "#     feed_key_list = feed_data['feed_key'].tolist()\n",
    "\n",
    "#     trips_data_list = []\n",
    "#     stoptimes_data_list = []\n",
    "#     stop_locations_gdf = gpd.GeoDataFrame()\n",
    "#     for feed_key in feed_key_list:\n",
    "#         try:\n",
    "#             trips = gtfs_utils_v2.get_trips(selected_date=selected_date, operator_feeds=[feed_key])[trip_cols]\n",
    "#             trips_data_list.append(trips)\n",
    "\n",
    "#             stoptimes = gtfs_utils_v2.get_stop_times(selected_date=selected_date, operator_feeds=[feed_key],\n",
    "#                                                     trip_df=trips, get_df=True)[stoptimes_cols]\n",
    "#             stoptimes_data_list.append(stoptimes)\n",
    "\n",
    "#             stops_gdf = gtfs_utils_v2.get_stops(selected_date=selected_date, operator_feeds=[feed_key])[stop_cols]\n",
    "#             stop_locations_gdf = pd.concat([stop_locations_gdf, stops_gdf], ignore_index=True)\n",
    "#         except:\n",
    "#             print('Skipping a row')\n",
    "\n",
    "#     trips_data = pd.concat(trips_data_list, ignore_index=True)\n",
    "#     stoptimes_data = pd.concat(stoptimes_data_list, ignore_index=True)\n",
    "\n",
    "#     return feed_data, trips_data, stoptimes_data, stop_locations_gdf"
   ]
  },
  {
   "cell_type": "code",
   "execution_count": 5,
   "id": "a9ee9e12-4509-45d5-94c3-7508ff0351bf",
   "metadata": {},
   "outputs": [],
   "source": [
    "# feed_data, trips_data, stoptimes_data, stop_locations_gdf = get_feeds_trips_stops_data(analysis_dt)"
   ]
  },
  {
   "cell_type": "code",
   "execution_count": 6,
   "id": "e3add949-e4d7-4d7f-a64d-78f950810585",
   "metadata": {},
   "outputs": [],
   "source": [
    "GCS_FILE_PATH = \"gs://calitp-analytics-data/data-analyses/ahsc_grant\""
   ]
  },
  {
   "cell_type": "markdown",
   "id": "b473eeb7-ae3c-4855-85c2-4a14bcb35f36",
   "metadata": {},
   "source": [
    "Exporting data to GCS for reuse, minimizing repeated warehouse queries."
   ]
  },
  {
   "cell_type": "code",
   "execution_count": 7,
   "id": "220f42b7-44d2-4ea9-9955-e59191b14bd5",
   "metadata": {},
   "outputs": [],
   "source": [
    "# trips_data.to_parquet(f\"{GCS_FILE_PATH}/trips_06_02_2025.parquet\")\n",
    "# stoptimes_data.to_csv(f\"{GCS_FILE_PATH}/stoptimes_06_02_2025.csv\")\n",
    "# feed_data.to_parquet(f\"{GCS_FILE_PATH}/feed_06_02_2025.parquet\")\n",
    "# with fsspec.open(f\"{GCS_FILE_PATH}/stop_locations_06_02_2025.parquet\", 'wb') as f:\n",
    "#     stop_locations_gdf.to_parquet(f)"
   ]
  },
  {
   "cell_type": "markdown",
   "id": "a460acbb-ca9e-403a-8bb1-2d78fd9c54f1",
   "metadata": {},
   "source": [
    "Reading stoptimes, trips, feed and stop locations data "
   ]
  },
  {
   "cell_type": "code",
   "execution_count": 8,
   "id": "50f3a2c1-e546-4be1-9615-0bbd50d56e5e",
   "metadata": {},
   "outputs": [
    {
     "name": "stderr",
     "output_type": "stream",
     "text": [
      "/tmp/ipykernel_3789/658927763.py:1: DtypeWarning: Columns (4,5) have mixed types. Specify dtype option on import or set low_memory=False.\n",
      "  stoptimes_data = pd.read_csv(f\"{GCS_FILE_PATH}/stoptimes_06_02_2025.csv\")\n"
     ]
    }
   ],
   "source": [
    "stoptimes_data = pd.read_csv(f\"{GCS_FILE_PATH}/stoptimes_06_02_2025.csv\")"
   ]
  },
  {
   "cell_type": "code",
   "execution_count": 9,
   "id": "ab9ecbcf-ff8b-42c2-82d1-02c5ff37e874",
   "metadata": {},
   "outputs": [],
   "source": [
    "trips_data = pd.read_parquet(f\"{GCS_FILE_PATH}/trips_06_02_2025.parquet\")"
   ]
  },
  {
   "cell_type": "code",
   "execution_count": 10,
   "id": "cd5d6f10-ebb4-49d2-9740-3c1858e87ef7",
   "metadata": {},
   "outputs": [],
   "source": [
    "feed_data = pd.read_parquet(f\"{GCS_FILE_PATH}/feed_06_02_2025.parquet\")"
   ]
  },
  {
   "cell_type": "code",
   "execution_count": 11,
   "id": "3f810b2b-24c1-40f3-a9ff-6c11f840a916",
   "metadata": {},
   "outputs": [],
   "source": [
    "with fs.open(f\"{GCS_FILE_PATH}/stop_locations_06_02_2025.parquet\", \"rb\") as f:\n",
    "    stop_locations_gdf = gpd.read_parquet(f)"
   ]
  },
  {
   "cell_type": "code",
   "execution_count": 12,
   "id": "2619e6c5-af38-40ee-9e44-d57b3c50e4c8",
   "metadata": {},
   "outputs": [
    {
     "data": {
      "text/plain": [
       "85773"
      ]
     },
     "execution_count": 12,
     "metadata": {},
     "output_type": "execute_result"
    }
   ],
   "source": [
    "len(stop_locations_gdf)"
   ]
  },
  {
   "cell_type": "code",
   "execution_count": 13,
   "id": "6a732b83-5c35-49c8-a6ab-3b10593f7a83",
   "metadata": {},
   "outputs": [
    {
     "data": {
      "text/html": [
       "<div>\n",
       "<style scoped>\n",
       "    .dataframe tbody tr th:only-of-type {\n",
       "        vertical-align: middle;\n",
       "    }\n",
       "\n",
       "    .dataframe tbody tr th {\n",
       "        vertical-align: top;\n",
       "    }\n",
       "\n",
       "    .dataframe thead th {\n",
       "        text-align: right;\n",
       "    }\n",
       "</style>\n",
       "<table border=\"1\" class=\"dataframe\">\n",
       "  <thead>\n",
       "    <tr style=\"text-align: right;\">\n",
       "      <th></th>\n",
       "      <th>feed_key</th>\n",
       "      <th>stop_id</th>\n",
       "      <th>geometry</th>\n",
       "      <th>stop_name</th>\n",
       "      <th>stop_code</th>\n",
       "      <th>location_type</th>\n",
       "      <th>stop_desc</th>\n",
       "    </tr>\n",
       "  </thead>\n",
       "  <tbody>\n",
       "    <tr>\n",
       "      <th>29063</th>\n",
       "      <td>54d646ba547246f544b6ad2ff1045a65</td>\n",
       "      <td>BAM</td>\n",
       "      <td>POINT (-86.11165 42.31452)</td>\n",
       "      <td>Bangor Amtrak Station</td>\n",
       "      <td>None</td>\n",
       "      <td>NaN</td>\n",
       "      <td>None</td>\n",
       "    </tr>\n",
       "  </tbody>\n",
       "</table>\n",
       "</div>"
      ],
      "text/plain": [
       "                               feed_key stop_id                    geometry  \\\n",
       "29063  54d646ba547246f544b6ad2ff1045a65     BAM  POINT (-86.11165 42.31452)   \n",
       "\n",
       "                   stop_name stop_code  location_type stop_desc  \n",
       "29063  Bangor Amtrak Station      None            NaN      None  "
      ]
     },
     "execution_count": 13,
     "metadata": {},
     "output_type": "execute_result"
    }
   ],
   "source": [
    "stop_locations_gdf.sample()"
   ]
  },
  {
   "cell_type": "markdown",
   "id": "10694f82-bb65-4c7d-b9e4-5f0a7fae268c",
   "metadata": {},
   "source": [
    "**I created a new column that combines `stop_id` with `stop_name` to more unique column, since there are many `stop_id` values that are the same.**"
   ]
  },
  {
   "cell_type": "code",
   "execution_count": 14,
   "id": "fe860010-0072-4e4e-a8a0-f203ca119068",
   "metadata": {},
   "outputs": [
    {
     "data": {
      "text/plain": [
       "63449"
      ]
     },
     "execution_count": 14,
     "metadata": {},
     "output_type": "execute_result"
    }
   ],
   "source": [
    "stop_locations_gdf.stop_name.nunique()"
   ]
  },
  {
   "cell_type": "code",
   "execution_count": 15,
   "id": "10ba0723-bbda-4c97-9b52-8c3724e33597",
   "metadata": {},
   "outputs": [
    {
     "data": {
      "text/plain": [
       "53010"
      ]
     },
     "execution_count": 15,
     "metadata": {},
     "output_type": "execute_result"
    }
   ],
   "source": [
    "stop_locations_gdf.stop_id.nunique()"
   ]
  },
  {
   "cell_type": "code",
   "execution_count": 16,
   "id": "7659fd80-a67e-4ae0-9e0f-e708d50b23d0",
   "metadata": {},
   "outputs": [],
   "source": [
    "stop_locations_gdf[\"combo_col\"] = (\n",
    "    stop_locations_gdf.stop_id + stop_locations_gdf.stop_name\n",
    ")"
   ]
  },
  {
   "cell_type": "markdown",
   "id": "7a0ae8b6-87ee-4922-8862-7c48f9a6cb2f",
   "metadata": {},
   "source": [
    "**There are 85,773 rows in the gdf but 84,403 unique combo_col values...check this out.**"
   ]
  },
  {
   "cell_type": "code",
   "execution_count": 17,
   "id": "f9640780-ae36-4d7d-98ca-d590697b1dd0",
   "metadata": {},
   "outputs": [
    {
     "data": {
      "text/plain": [
       "84403"
      ]
     },
     "execution_count": 17,
     "metadata": {},
     "output_type": "execute_result"
    }
   ],
   "source": [
    "stop_locations_gdf[\"combo_col\"].nunique()"
   ]
  },
  {
   "cell_type": "code",
   "execution_count": 18,
   "id": "00062314-821f-41ed-a83f-bd43091888d7",
   "metadata": {},
   "outputs": [
    {
     "data": {
      "text/plain": [
       "3138712Main St EB & Balsam Ave               2\n",
       "3134076Mesa St EB & 3rd Ave                  2\n",
       "10050067Yucca Loma Rd EB & Choco Rd          2\n",
       "3117293Village Dr SB & Grand Triassic Ln     2\n",
       "10043080Pahute WB & Pawnee                   2\n",
       "10050105Yucca Loma Rd WB & Choco Rd          2\n",
       "3119731Danbury Ave WB & I Ave                2\n",
       "3113883I Ave SB & Mauna Loa St               2\n",
       "3133798Willow St WB & 11th Ave               2\n",
       "31387157th Ave SB & Main St                  2\n",
       "3138717Lime St EB & 7th Ave                  2\n",
       "3119719Sultana St NB & Main St               2\n",
       "10042993Nisqualli WB & Hesperia              2\n",
       "3150570Montara Rd SB & Armory Rd             2\n",
       "3118559Goshute Ave EB & Pioneer Rd           2\n",
       "3151362Armory Rd WB & Deseret Ave            2\n",
       "3138694Cottonwood Ave SB & Pahute Ave        2\n",
       "3119726Danbury Ave WB & Arrowhead Lake Rd    2\n",
       "3119728Danbury Ave WB & Peach Ave            2\n",
       "3138698Cottonwood Ave SB & Pendleton St      2\n",
       "Name: combo_col, dtype: int64"
      ]
     },
     "execution_count": 18,
     "metadata": {},
     "output_type": "execute_result"
    }
   ],
   "source": [
    "stop_locations_gdf[\"combo_col\"].value_counts().head(20)"
   ]
  },
  {
   "cell_type": "markdown",
   "id": "abeef0cb-6359-48e6-bff6-ab0e84c14e02",
   "metadata": {},
   "source": [
    "**I checked a couple of rows with the same `stop_id` and `stop_name`. It appears multiple feed keys are associated with it. I know in our warehouse we have examples of one operator having multiple `feed_key` values. I assume this is what's happening.**"
   ]
  },
  {
   "cell_type": "code",
   "execution_count": 19,
   "id": "892b8a22-358c-4905-912e-bcabd7cc65d2",
   "metadata": {},
   "outputs": [
    {
     "data": {
      "text/html": [
       "<div>\n",
       "<style scoped>\n",
       "    .dataframe tbody tr th:only-of-type {\n",
       "        vertical-align: middle;\n",
       "    }\n",
       "\n",
       "    .dataframe tbody tr th {\n",
       "        vertical-align: top;\n",
       "    }\n",
       "\n",
       "    .dataframe thead th {\n",
       "        text-align: right;\n",
       "    }\n",
       "</style>\n",
       "<table border=\"1\" class=\"dataframe\">\n",
       "  <thead>\n",
       "    <tr style=\"text-align: right;\">\n",
       "      <th></th>\n",
       "      <th>feed_key</th>\n",
       "      <th>stop_id</th>\n",
       "      <th>geometry</th>\n",
       "      <th>stop_name</th>\n",
       "      <th>stop_code</th>\n",
       "      <th>location_type</th>\n",
       "      <th>stop_desc</th>\n",
       "      <th>combo_col</th>\n",
       "    </tr>\n",
       "  </thead>\n",
       "  <tbody>\n",
       "    <tr>\n",
       "      <th>47243</th>\n",
       "      <td>51d0571614cd6cbcd86c98ff837af26f</td>\n",
       "      <td>3151362</td>\n",
       "      <td>POINT (-117.02152 34.88416)</td>\n",
       "      <td>Armory Rd WB &amp; Deseret Ave</td>\n",
       "      <td>30071</td>\n",
       "      <td>0.00</td>\n",
       "      <td>06 NB</td>\n",
       "      <td>3151362Armory Rd WB &amp; Deseret Ave</td>\n",
       "    </tr>\n",
       "    <tr>\n",
       "      <th>71603</th>\n",
       "      <td>43e19da122e03aece0b453c1f6473f89</td>\n",
       "      <td>3151362</td>\n",
       "      <td>POINT (-117.02152 34.88416)</td>\n",
       "      <td>Armory Rd WB &amp; Deseret Ave</td>\n",
       "      <td>30071</td>\n",
       "      <td>0.00</td>\n",
       "      <td>06 NB</td>\n",
       "      <td>3151362Armory Rd WB &amp; Deseret Ave</td>\n",
       "    </tr>\n",
       "  </tbody>\n",
       "</table>\n",
       "</div>"
      ],
      "text/plain": [
       "                               feed_key  stop_id                     geometry  \\\n",
       "47243  51d0571614cd6cbcd86c98ff837af26f  3151362  POINT (-117.02152 34.88416)   \n",
       "71603  43e19da122e03aece0b453c1f6473f89  3151362  POINT (-117.02152 34.88416)   \n",
       "\n",
       "                        stop_name stop_code  location_type stop_desc  \\\n",
       "47243  Armory Rd WB & Deseret Ave     30071           0.00     06 NB   \n",
       "71603  Armory Rd WB & Deseret Ave     30071           0.00     06 NB   \n",
       "\n",
       "                               combo_col  \n",
       "47243  3151362Armory Rd WB & Deseret Ave  \n",
       "71603  3151362Armory Rd WB & Deseret Ave  "
      ]
     },
     "execution_count": 19,
     "metadata": {},
     "output_type": "execute_result"
    }
   ],
   "source": [
    "stop_locations_gdf.loc[\n",
    "    stop_locations_gdf.combo_col == \"3151362Armory Rd WB & Deseret Ave\"\n",
    "]"
   ]
  },
  {
   "cell_type": "code",
   "execution_count": 20,
   "id": "f88a3983-929a-492c-836d-45b55ef74410",
   "metadata": {},
   "outputs": [
    {
     "data": {
      "text/html": [
       "<div>\n",
       "<style scoped>\n",
       "    .dataframe tbody tr th:only-of-type {\n",
       "        vertical-align: middle;\n",
       "    }\n",
       "\n",
       "    .dataframe tbody tr th {\n",
       "        vertical-align: top;\n",
       "    }\n",
       "\n",
       "    .dataframe thead th {\n",
       "        text-align: right;\n",
       "    }\n",
       "</style>\n",
       "<table border=\"1\" class=\"dataframe\">\n",
       "  <thead>\n",
       "    <tr style=\"text-align: right;\">\n",
       "      <th></th>\n",
       "      <th>feed_key</th>\n",
       "      <th>stop_id</th>\n",
       "      <th>geometry</th>\n",
       "      <th>stop_name</th>\n",
       "      <th>stop_code</th>\n",
       "      <th>location_type</th>\n",
       "      <th>stop_desc</th>\n",
       "      <th>combo_col</th>\n",
       "    </tr>\n",
       "  </thead>\n",
       "  <tbody>\n",
       "    <tr>\n",
       "      <th>47247</th>\n",
       "      <td>51d0571614cd6cbcd86c98ff837af26f</td>\n",
       "      <td>3138698</td>\n",
       "      <td>POINT (-117.33858 34.44714)</td>\n",
       "      <td>Cottonwood Ave SB &amp; Pendleton St</td>\n",
       "      <td>40104</td>\n",
       "      <td>0.00</td>\n",
       "      <td>None</td>\n",
       "      <td>3138698Cottonwood Ave SB &amp; Pendleton St</td>\n",
       "    </tr>\n",
       "    <tr>\n",
       "      <th>71457</th>\n",
       "      <td>43e19da122e03aece0b453c1f6473f89</td>\n",
       "      <td>3138698</td>\n",
       "      <td>POINT (-117.33858 34.44714)</td>\n",
       "      <td>Cottonwood Ave SB &amp; Pendleton St</td>\n",
       "      <td>40104</td>\n",
       "      <td>0.00</td>\n",
       "      <td>None</td>\n",
       "      <td>3138698Cottonwood Ave SB &amp; Pendleton St</td>\n",
       "    </tr>\n",
       "  </tbody>\n",
       "</table>\n",
       "</div>"
      ],
      "text/plain": [
       "                               feed_key  stop_id                     geometry  \\\n",
       "47247  51d0571614cd6cbcd86c98ff837af26f  3138698  POINT (-117.33858 34.44714)   \n",
       "71457  43e19da122e03aece0b453c1f6473f89  3138698  POINT (-117.33858 34.44714)   \n",
       "\n",
       "                              stop_name stop_code  location_type stop_desc  \\\n",
       "47247  Cottonwood Ave SB & Pendleton St     40104           0.00      None   \n",
       "71457  Cottonwood Ave SB & Pendleton St     40104           0.00      None   \n",
       "\n",
       "                                     combo_col  \n",
       "47247  3138698Cottonwood Ave SB & Pendleton St  \n",
       "71457  3138698Cottonwood Ave SB & Pendleton St  "
      ]
     },
     "execution_count": 20,
     "metadata": {},
     "output_type": "execute_result"
    }
   ],
   "source": [
    "stop_locations_gdf.loc[\n",
    "    stop_locations_gdf.combo_col == \"3138698Cottonwood Ave SB & Pendleton St\"\n",
    "]"
   ]
  },
  {
   "cell_type": "code",
   "execution_count": 21,
   "id": "6b6352d7-1830-4979-a043-780641f224d9",
   "metadata": {},
   "outputs": [
    {
     "data": {
      "text/html": [
       "<div>\n",
       "<style scoped>\n",
       "    .dataframe tbody tr th:only-of-type {\n",
       "        vertical-align: middle;\n",
       "    }\n",
       "\n",
       "    .dataframe tbody tr th {\n",
       "        vertical-align: top;\n",
       "    }\n",
       "\n",
       "    .dataframe thead th {\n",
       "        text-align: right;\n",
       "    }\n",
       "</style>\n",
       "<table border=\"1\" class=\"dataframe\">\n",
       "  <thead>\n",
       "    <tr style=\"text-align: right;\">\n",
       "      <th></th>\n",
       "      <th>feed_key</th>\n",
       "      <th>stop_id</th>\n",
       "      <th>geometry</th>\n",
       "      <th>stop_name</th>\n",
       "      <th>stop_code</th>\n",
       "      <th>location_type</th>\n",
       "      <th>stop_desc</th>\n",
       "      <th>combo_col</th>\n",
       "    </tr>\n",
       "  </thead>\n",
       "  <tbody>\n",
       "    <tr>\n",
       "      <th>47049</th>\n",
       "      <td>51d0571614cd6cbcd86c98ff837af26f</td>\n",
       "      <td>3138712</td>\n",
       "      <td>POINT (-117.33053 34.42686)</td>\n",
       "      <td>Main St EB &amp; Balsam Ave</td>\n",
       "      <td>40170</td>\n",
       "      <td>0.00</td>\n",
       "      <td>None</td>\n",
       "      <td>3138712Main St EB &amp; Balsam Ave</td>\n",
       "    </tr>\n",
       "    <tr>\n",
       "      <th>71471</th>\n",
       "      <td>43e19da122e03aece0b453c1f6473f89</td>\n",
       "      <td>3138712</td>\n",
       "      <td>POINT (-117.33053 34.42686)</td>\n",
       "      <td>Main St EB &amp; Balsam Ave</td>\n",
       "      <td>40170</td>\n",
       "      <td>0.00</td>\n",
       "      <td>None</td>\n",
       "      <td>3138712Main St EB &amp; Balsam Ave</td>\n",
       "    </tr>\n",
       "  </tbody>\n",
       "</table>\n",
       "</div>"
      ],
      "text/plain": [
       "                               feed_key  stop_id                     geometry  \\\n",
       "47049  51d0571614cd6cbcd86c98ff837af26f  3138712  POINT (-117.33053 34.42686)   \n",
       "71471  43e19da122e03aece0b453c1f6473f89  3138712  POINT (-117.33053 34.42686)   \n",
       "\n",
       "                     stop_name stop_code  location_type stop_desc  \\\n",
       "47049  Main St EB & Balsam Ave     40170           0.00      None   \n",
       "71471  Main St EB & Balsam Ave     40170           0.00      None   \n",
       "\n",
       "                            combo_col  \n",
       "47049  3138712Main St EB & Balsam Ave  \n",
       "71471  3138712Main St EB & Balsam Ave  "
      ]
     },
     "execution_count": 21,
     "metadata": {},
     "output_type": "execute_result"
    }
   ],
   "source": [
    "stop_locations_gdf.loc[stop_locations_gdf.combo_col == \"3138712Main St EB & Balsam Ave\"]"
   ]
  },
  {
   "cell_type": "markdown",
   "id": "0ff29290-ac7e-4f53-b74e-b617246677c8",
   "metadata": {},
   "source": [
    "**I can see dropping `geometry` with the `combo_col` brings us closer to the gdf's length matching the total number of `combo_col` unique values.**"
   ]
  },
  {
   "cell_type": "code",
   "execution_count": 22,
   "id": "6130ea74-e7ac-490b-9640-5a1dc2e47696",
   "metadata": {},
   "outputs": [
    {
     "data": {
      "text/plain": [
       "84502"
      ]
     },
     "execution_count": 22,
     "metadata": {},
     "output_type": "execute_result"
    }
   ],
   "source": [
    "len(stop_locations_gdf.drop_duplicates(subset=[\"geometry\", \"combo_col\"]))"
   ]
  },
  {
   "cell_type": "code",
   "execution_count": 23,
   "id": "f7e52117-ea3b-4ba8-b81a-e52074b733b6",
   "metadata": {},
   "outputs": [
    {
     "data": {
      "text/plain": [
       "84403"
      ]
     },
     "execution_count": 23,
     "metadata": {},
     "output_type": "execute_result"
    }
   ],
   "source": [
    "stop_locations_gdf[\"combo_col\"].nunique()"
   ]
  },
  {
   "cell_type": "code",
   "execution_count": 24,
   "id": "23928cf9-ad04-4b2a-b060-69c84d066439",
   "metadata": {},
   "outputs": [],
   "source": [
    "# Retaining California based stops only\n",
    "# Loading California county boundaries GeoJSON data from ArcGIS REST service\n",
    "CA_URL = \"https://services1.arcgis.com/jUJYIo9tSA7EHvfZ/arcgis/rest/services/California_County_Boundaries/FeatureServer/0/query?outFields=*&where=1%3D1&f=geojson\"\n",
    "CA_county = gpd.read_file(CA_URL)"
   ]
  },
  {
   "cell_type": "code",
   "execution_count": 25,
   "id": "65014e89-b671-43fb-8742-8b2ea97b4cf4",
   "metadata": {},
   "outputs": [],
   "source": [
    "CA_county = CA_county.to_crs(stop_locations_gdf.crs)"
   ]
  },
  {
   "cell_type": "code",
   "execution_count": 26,
   "id": "1add3ba8-f57e-429e-88ed-b8935cf2b384",
   "metadata": {},
   "outputs": [],
   "source": [
    "# Spatially joining stop locations with California county boundaries to keep stops within CA\n",
    "stop_locations_gdf_ca = gpd.sjoin(\n",
    "    stop_locations_gdf, CA_county, how=\"inner\", predicate=\"intersects\"\n",
    ")"
   ]
  },
  {
   "cell_type": "code",
   "execution_count": 27,
   "id": "68384d42-d12a-4db0-a08b-fc0b35de4233",
   "metadata": {},
   "outputs": [
    {
     "data": {
      "text/plain": [
       "85773"
      ]
     },
     "execution_count": 27,
     "metadata": {},
     "output_type": "execute_result"
    }
   ],
   "source": [
    "# Length before spatial join\n",
    "len(stop_locations_gdf)"
   ]
  },
  {
   "cell_type": "code",
   "execution_count": 28,
   "id": "69619a19-f9c4-4d73-a5ef-9758aa239caf",
   "metadata": {},
   "outputs": [
    {
     "data": {
      "text/plain": [
       "84082"
      ]
     },
     "execution_count": 28,
     "metadata": {},
     "output_type": "execute_result"
    }
   ],
   "source": [
    "# Length after spatial join\n",
    "len(stop_locations_gdf_ca)"
   ]
  },
  {
   "cell_type": "markdown",
   "id": "226ac009-6062-4287-b86e-0b1295542989",
   "metadata": {},
   "source": [
    "**I am actually dropping duplicated `stop_id` and `stop_name` values here.**"
   ]
  },
  {
   "cell_type": "code",
   "execution_count": 33,
   "id": "ba0677c1-2092-45aa-9726-ceec716ce85d",
   "metadata": {
    "tags": []
   },
   "outputs": [
    {
     "data": {
      "text/plain": [
       "82853"
      ]
     },
     "execution_count": 33,
     "metadata": {},
     "output_type": "execute_result"
    }
   ],
   "source": [
    "# Length when dropping dups\n",
    "len(stop_locations_gdf_ca.drop_duplicates(subset=[\"geometry\", \"combo_col\"]))"
   ]
  },
  {
   "cell_type": "code",
   "execution_count": 34,
   "id": "78c09fab-922c-4190-b0a0-6d2dc54301c5",
   "metadata": {},
   "outputs": [],
   "source": [
    "stop_locations_gdf_ca2 = stop_locations_gdf_ca.drop_duplicates(\n",
    "    subset=[\"geometry\", \"combo_col\"]\n",
    ").reset_index()"
   ]
  },
  {
   "cell_type": "code",
   "execution_count": 35,
   "id": "a67adc45-c7cb-4bca-89bf-2427dc87c175",
   "metadata": {},
   "outputs": [
    {
     "data": {
      "text/html": [
       "<div>\n",
       "<style scoped>\n",
       "    .dataframe tbody tr th:only-of-type {\n",
       "        vertical-align: middle;\n",
       "    }\n",
       "\n",
       "    .dataframe tbody tr th {\n",
       "        vertical-align: top;\n",
       "    }\n",
       "\n",
       "    .dataframe thead th {\n",
       "        text-align: right;\n",
       "    }\n",
       "</style>\n",
       "<table border=\"1\" class=\"dataframe\">\n",
       "  <thead>\n",
       "    <tr style=\"text-align: right;\">\n",
       "      <th></th>\n",
       "      <th>index</th>\n",
       "      <th>feed_key</th>\n",
       "      <th>stop_id</th>\n",
       "      <th>geometry</th>\n",
       "      <th>stop_name</th>\n",
       "      <th>stop_code</th>\n",
       "      <th>location_type</th>\n",
       "      <th>stop_desc</th>\n",
       "      <th>combo_col</th>\n",
       "      <th>index_right</th>\n",
       "      <th>OBJECTID</th>\n",
       "      <th>COUNTY_NAME</th>\n",
       "      <th>COUNTY_ABBREV</th>\n",
       "      <th>COUNTY_NUM</th>\n",
       "      <th>COUNTY_CODE</th>\n",
       "      <th>COUNTY_FIPS</th>\n",
       "      <th>ISLAND</th>\n",
       "      <th>Shape__Area</th>\n",
       "      <th>Shape__Length</th>\n",
       "      <th>GlobalID</th>\n",
       "    </tr>\n",
       "  </thead>\n",
       "  <tbody>\n",
       "    <tr>\n",
       "      <th>47926</th>\n",
       "      <td>47049</td>\n",
       "      <td>51d0571614cd6cbcd86c98ff837af26f</td>\n",
       "      <td>3138712</td>\n",
       "      <td>POINT (-117.33053 34.42686)</td>\n",
       "      <td>Main St EB &amp; Balsam Ave</td>\n",
       "      <td>40170</td>\n",
       "      <td>0.00</td>\n",
       "      <td>None</td>\n",
       "      <td>3138712Main St EB &amp; Balsam Ave</td>\n",
       "      <td>35</td>\n",
       "      <td>36</td>\n",
       "      <td>San Bernardino</td>\n",
       "      <td>SBD</td>\n",
       "      <td>36</td>\n",
       "      <td>36</td>\n",
       "      <td>071</td>\n",
       "      <td>None</td>\n",
       "      <td>77496812443.93</td>\n",
       "      <td>1247676.29</td>\n",
       "      <td>e4df6870-0d0b-40c1-ad3b-a60a72792cfd</td>\n",
       "    </tr>\n",
       "  </tbody>\n",
       "</table>\n",
       "</div>"
      ],
      "text/plain": [
       "       index                          feed_key  stop_id  \\\n",
       "47926  47049  51d0571614cd6cbcd86c98ff837af26f  3138712   \n",
       "\n",
       "                          geometry                stop_name stop_code  \\\n",
       "47926  POINT (-117.33053 34.42686)  Main St EB & Balsam Ave     40170   \n",
       "\n",
       "       location_type stop_desc                       combo_col  index_right  \\\n",
       "47926           0.00      None  3138712Main St EB & Balsam Ave           35   \n",
       "\n",
       "       OBJECTID     COUNTY_NAME COUNTY_ABBREV  COUNTY_NUM COUNTY_CODE  \\\n",
       "47926        36  San Bernardino           SBD          36          36   \n",
       "\n",
       "      COUNTY_FIPS ISLAND    Shape__Area  Shape__Length  \\\n",
       "47926         071   None 77496812443.93     1247676.29   \n",
       "\n",
       "                                   GlobalID  \n",
       "47926  e4df6870-0d0b-40c1-ad3b-a60a72792cfd  "
      ]
     },
     "execution_count": 35,
     "metadata": {},
     "output_type": "execute_result"
    }
   ],
   "source": [
    "stop_locations_gdf_ca2.loc[\n",
    "    stop_locations_gdf_ca2.combo_col == \"3138712Main St EB & Balsam Ave\"\n",
    "]"
   ]
  },
  {
   "cell_type": "code",
   "execution_count": 36,
   "id": "87f7c6f5-6cc5-4a4a-bff0-14aa7eb23956",
   "metadata": {},
   "outputs": [
    {
     "data": {
      "text/plain": [
       "82754"
      ]
     },
     "execution_count": 36,
     "metadata": {},
     "output_type": "execute_result"
    }
   ],
   "source": [
    "stop_locations_gdf_ca2.combo_col.nunique()"
   ]
  },
  {
   "cell_type": "code",
   "execution_count": 37,
   "id": "39e9fd42-7f54-4ef5-af81-bb11f3b5ea4f",
   "metadata": {},
   "outputs": [
    {
     "data": {
      "text/plain": [
       "51813"
      ]
     },
     "execution_count": 37,
     "metadata": {},
     "output_type": "execute_result"
    }
   ],
   "source": [
    "stop_locations_gdf_ca2.stop_id.nunique()"
   ]
  },
  {
   "cell_type": "markdown",
   "id": "0515cdc3-29ab-4f1b-a3ab-b32e03d99487",
   "metadata": {},
   "source": [
    "**Strangely enough, there are still a bunch of rows that appear to be the same stop. I'm just going to be more aggressive with dropping them.**"
   ]
  },
  {
   "cell_type": "code",
   "execution_count": 38,
   "id": "d06fa5f4-4ef1-48bb-9fda-078bcf2fac80",
   "metadata": {
    "scrolled": true
   },
   "outputs": [],
   "source": [
    "# stop_locations_gdf_ca2.combo_col.value_counts().head(40)"
   ]
  },
  {
   "cell_type": "code",
   "execution_count": 39,
   "id": "0ada69d7-28a1-429c-8468-6191f79094e0",
   "metadata": {},
   "outputs": [
    {
     "data": {
      "text/html": [
       "<div>\n",
       "<style scoped>\n",
       "    .dataframe tbody tr th:only-of-type {\n",
       "        vertical-align: middle;\n",
       "    }\n",
       "\n",
       "    .dataframe tbody tr th {\n",
       "        vertical-align: top;\n",
       "    }\n",
       "\n",
       "    .dataframe thead th {\n",
       "        text-align: right;\n",
       "    }\n",
       "</style>\n",
       "<table border=\"1\" class=\"dataframe\">\n",
       "  <thead>\n",
       "    <tr style=\"text-align: right;\">\n",
       "      <th></th>\n",
       "      <th>index</th>\n",
       "      <th>feed_key</th>\n",
       "      <th>stop_id</th>\n",
       "      <th>geometry</th>\n",
       "      <th>stop_name</th>\n",
       "      <th>stop_code</th>\n",
       "      <th>location_type</th>\n",
       "      <th>stop_desc</th>\n",
       "      <th>combo_col</th>\n",
       "      <th>index_right</th>\n",
       "      <th>OBJECTID</th>\n",
       "      <th>COUNTY_NAME</th>\n",
       "      <th>COUNTY_ABBREV</th>\n",
       "      <th>COUNTY_NUM</th>\n",
       "      <th>COUNTY_CODE</th>\n",
       "      <th>COUNTY_FIPS</th>\n",
       "      <th>ISLAND</th>\n",
       "      <th>Shape__Area</th>\n",
       "      <th>Shape__Length</th>\n",
       "      <th>GlobalID</th>\n",
       "    </tr>\n",
       "  </thead>\n",
       "  <tbody>\n",
       "    <tr>\n",
       "      <th>4418</th>\n",
       "      <td>859</td>\n",
       "      <td>31821446901db9b7599c638071ed41d9</td>\n",
       "      <td>40463</td>\n",
       "      <td>POINT (-122.50201 37.96278)</td>\n",
       "      <td>Kerner Blvd &amp; Larkspur St</td>\n",
       "      <td>40463</td>\n",
       "      <td>0.00</td>\n",
       "      <td>None</td>\n",
       "      <td>40463Kerner Blvd &amp; Larkspur St</td>\n",
       "      <td>20</td>\n",
       "      <td>21</td>\n",
       "      <td>Marin</td>\n",
       "      <td>MRN</td>\n",
       "      <td>21</td>\n",
       "      <td>21</td>\n",
       "      <td>041</td>\n",
       "      <td>None</td>\n",
       "      <td>2546999709.34</td>\n",
       "      <td>324786.53</td>\n",
       "      <td>f2604fed-7c76-4bcb-a5e0-667d6d3405b5</td>\n",
       "    </tr>\n",
       "    <tr>\n",
       "      <th>4471</th>\n",
       "      <td>55541</td>\n",
       "      <td>4affb88e8d9632e2fded862931aa47e8</td>\n",
       "      <td>40463</td>\n",
       "      <td>POINT (-122.50198 37.96286)</td>\n",
       "      <td>Kerner Blvd &amp; Larkspur St</td>\n",
       "      <td>40463</td>\n",
       "      <td>0.00</td>\n",
       "      <td>None</td>\n",
       "      <td>40463Kerner Blvd &amp; Larkspur St</td>\n",
       "      <td>20</td>\n",
       "      <td>21</td>\n",
       "      <td>Marin</td>\n",
       "      <td>MRN</td>\n",
       "      <td>21</td>\n",
       "      <td>21</td>\n",
       "      <td>041</td>\n",
       "      <td>None</td>\n",
       "      <td>2546999709.34</td>\n",
       "      <td>324786.53</td>\n",
       "      <td>f2604fed-7c76-4bcb-a5e0-667d6d3405b5</td>\n",
       "    </tr>\n",
       "  </tbody>\n",
       "</table>\n",
       "</div>"
      ],
      "text/plain": [
       "      index                          feed_key stop_id  \\\n",
       "4418    859  31821446901db9b7599c638071ed41d9   40463   \n",
       "4471  55541  4affb88e8d9632e2fded862931aa47e8   40463   \n",
       "\n",
       "                         geometry                  stop_name stop_code  \\\n",
       "4418  POINT (-122.50201 37.96278)  Kerner Blvd & Larkspur St     40463   \n",
       "4471  POINT (-122.50198 37.96286)  Kerner Blvd & Larkspur St     40463   \n",
       "\n",
       "      location_type stop_desc                       combo_col  index_right  \\\n",
       "4418           0.00      None  40463Kerner Blvd & Larkspur St           20   \n",
       "4471           0.00      None  40463Kerner Blvd & Larkspur St           20   \n",
       "\n",
       "      OBJECTID COUNTY_NAME COUNTY_ABBREV  COUNTY_NUM COUNTY_CODE COUNTY_FIPS  \\\n",
       "4418        21       Marin           MRN          21          21         041   \n",
       "4471        21       Marin           MRN          21          21         041   \n",
       "\n",
       "     ISLAND   Shape__Area  Shape__Length                              GlobalID  \n",
       "4418   None 2546999709.34      324786.53  f2604fed-7c76-4bcb-a5e0-667d6d3405b5  \n",
       "4471   None 2546999709.34      324786.53  f2604fed-7c76-4bcb-a5e0-667d6d3405b5  "
      ]
     },
     "execution_count": 39,
     "metadata": {},
     "output_type": "execute_result"
    }
   ],
   "source": [
    "stop_locations_gdf_ca2.loc[\n",
    "    stop_locations_gdf_ca2.combo_col == \"40463Kerner Blvd & Larkspur St\"\n",
    "]"
   ]
  },
  {
   "cell_type": "code",
   "execution_count": 40,
   "id": "2f0a8751-3051-4a42-a8a9-184adf91b4f7",
   "metadata": {},
   "outputs": [
    {
     "data": {
      "text/html": [
       "<div>\n",
       "<style scoped>\n",
       "    .dataframe tbody tr th:only-of-type {\n",
       "        vertical-align: middle;\n",
       "    }\n",
       "\n",
       "    .dataframe tbody tr th {\n",
       "        vertical-align: top;\n",
       "    }\n",
       "\n",
       "    .dataframe thead th {\n",
       "        text-align: right;\n",
       "    }\n",
       "</style>\n",
       "<table border=\"1\" class=\"dataframe\">\n",
       "  <thead>\n",
       "    <tr style=\"text-align: right;\">\n",
       "      <th></th>\n",
       "      <th>index</th>\n",
       "      <th>feed_key</th>\n",
       "      <th>stop_id</th>\n",
       "      <th>geometry</th>\n",
       "      <th>stop_name</th>\n",
       "      <th>stop_code</th>\n",
       "      <th>location_type</th>\n",
       "      <th>stop_desc</th>\n",
       "      <th>combo_col</th>\n",
       "      <th>index_right</th>\n",
       "      <th>OBJECTID</th>\n",
       "      <th>COUNTY_NAME</th>\n",
       "      <th>COUNTY_ABBREV</th>\n",
       "      <th>COUNTY_NUM</th>\n",
       "      <th>COUNTY_CODE</th>\n",
       "      <th>COUNTY_FIPS</th>\n",
       "      <th>ISLAND</th>\n",
       "      <th>Shape__Area</th>\n",
       "      <th>Shape__Length</th>\n",
       "      <th>GlobalID</th>\n",
       "    </tr>\n",
       "  </thead>\n",
       "  <tbody>\n",
       "    <tr>\n",
       "      <th>68924</th>\n",
       "      <td>22279</td>\n",
       "      <td>a0f4d13fbed0632c618fd0f6f158dd54</td>\n",
       "      <td>13024</td>\n",
       "      <td>POINT (-117.23169 32.86777)</td>\n",
       "      <td>Nobel Dr &amp; La Jolla Village Square Drwy</td>\n",
       "      <td>13024</td>\n",
       "      <td>0.00</td>\n",
       "      <td>None</td>\n",
       "      <td>13024Nobel Dr &amp; La Jolla Village Square Drwy</td>\n",
       "      <td>36</td>\n",
       "      <td>37</td>\n",
       "      <td>San Diego</td>\n",
       "      <td>SDG</td>\n",
       "      <td>37</td>\n",
       "      <td>37</td>\n",
       "      <td>073</td>\n",
       "      <td>None</td>\n",
       "      <td>15735991009.72</td>\n",
       "      <td>564113.67</td>\n",
       "      <td>414826ec-689e-4084-bd03-5195df2748bf</td>\n",
       "    </tr>\n",
       "    <tr>\n",
       "      <th>70534</th>\n",
       "      <td>24047</td>\n",
       "      <td>1fff52f9349da228c56eef492df5001b</td>\n",
       "      <td>13024</td>\n",
       "      <td>POINT (-117.23169 32.86777)</td>\n",
       "      <td>Nobel Dr &amp; La Jolla Village Square Drwy</td>\n",
       "      <td>13024</td>\n",
       "      <td>0.00</td>\n",
       "      <td>None</td>\n",
       "      <td>13024Nobel Dr &amp; La Jolla Village Square Drwy</td>\n",
       "      <td>36</td>\n",
       "      <td>37</td>\n",
       "      <td>San Diego</td>\n",
       "      <td>SDG</td>\n",
       "      <td>37</td>\n",
       "      <td>37</td>\n",
       "      <td>073</td>\n",
       "      <td>None</td>\n",
       "      <td>15735991009.72</td>\n",
       "      <td>564113.67</td>\n",
       "      <td>414826ec-689e-4084-bd03-5195df2748bf</td>\n",
       "    </tr>\n",
       "  </tbody>\n",
       "</table>\n",
       "</div>"
      ],
      "text/plain": [
       "       index                          feed_key stop_id  \\\n",
       "68924  22279  a0f4d13fbed0632c618fd0f6f158dd54   13024   \n",
       "70534  24047  1fff52f9349da228c56eef492df5001b   13024   \n",
       "\n",
       "                          geometry                                stop_name  \\\n",
       "68924  POINT (-117.23169 32.86777)  Nobel Dr & La Jolla Village Square Drwy   \n",
       "70534  POINT (-117.23169 32.86777)  Nobel Dr & La Jolla Village Square Drwy   \n",
       "\n",
       "      stop_code  location_type stop_desc  \\\n",
       "68924     13024           0.00      None   \n",
       "70534     13024           0.00      None   \n",
       "\n",
       "                                          combo_col  index_right  OBJECTID  \\\n",
       "68924  13024Nobel Dr & La Jolla Village Square Drwy           36        37   \n",
       "70534  13024Nobel Dr & La Jolla Village Square Drwy           36        37   \n",
       "\n",
       "      COUNTY_NAME COUNTY_ABBREV  COUNTY_NUM COUNTY_CODE COUNTY_FIPS ISLAND  \\\n",
       "68924   San Diego           SDG          37          37         073   None   \n",
       "70534   San Diego           SDG          37          37         073   None   \n",
       "\n",
       "         Shape__Area  Shape__Length                              GlobalID  \n",
       "68924 15735991009.72      564113.67  414826ec-689e-4084-bd03-5195df2748bf  \n",
       "70534 15735991009.72      564113.67  414826ec-689e-4084-bd03-5195df2748bf  "
      ]
     },
     "execution_count": 40,
     "metadata": {},
     "output_type": "execute_result"
    }
   ],
   "source": [
    "stop_locations_gdf_ca2.loc[\n",
    "    stop_locations_gdf_ca2.combo_col == \"13024Nobel Dr & La Jolla Village Square Drwy\"\n",
    "]"
   ]
  },
  {
   "cell_type": "code",
   "execution_count": 41,
   "id": "10c83ce4-9314-46a7-bf44-b76d30f7a114",
   "metadata": {},
   "outputs": [
    {
     "data": {
      "text/html": [
       "<div>\n",
       "<style scoped>\n",
       "    .dataframe tbody tr th:only-of-type {\n",
       "        vertical-align: middle;\n",
       "    }\n",
       "\n",
       "    .dataframe tbody tr th {\n",
       "        vertical-align: top;\n",
       "    }\n",
       "\n",
       "    .dataframe thead th {\n",
       "        text-align: right;\n",
       "    }\n",
       "</style>\n",
       "<table border=\"1\" class=\"dataframe\">\n",
       "  <thead>\n",
       "    <tr style=\"text-align: right;\">\n",
       "      <th></th>\n",
       "      <th>index</th>\n",
       "      <th>feed_key</th>\n",
       "      <th>stop_id</th>\n",
       "      <th>geometry</th>\n",
       "      <th>stop_name</th>\n",
       "      <th>stop_code</th>\n",
       "      <th>location_type</th>\n",
       "      <th>stop_desc</th>\n",
       "      <th>combo_col</th>\n",
       "      <th>index_right</th>\n",
       "      <th>OBJECTID</th>\n",
       "      <th>COUNTY_NAME</th>\n",
       "      <th>COUNTY_ABBREV</th>\n",
       "      <th>COUNTY_NUM</th>\n",
       "      <th>COUNTY_CODE</th>\n",
       "      <th>COUNTY_FIPS</th>\n",
       "      <th>ISLAND</th>\n",
       "      <th>Shape__Area</th>\n",
       "      <th>Shape__Length</th>\n",
       "      <th>GlobalID</th>\n",
       "    </tr>\n",
       "  </thead>\n",
       "  <tbody>\n",
       "    <tr>\n",
       "      <th>41147</th>\n",
       "      <td>15868</td>\n",
       "      <td>8be5cc73e7979c7f110456d07c464792</td>\n",
       "      <td>52911</td>\n",
       "      <td>POINT (-122.03634 37.56661)</td>\n",
       "      <td>Decoto Rd &amp; Cabrillo Dr</td>\n",
       "      <td>52911</td>\n",
       "      <td>0.00</td>\n",
       "      <td>None</td>\n",
       "      <td>52911Decoto Rd &amp; Cabrillo Dr</td>\n",
       "      <td>0</td>\n",
       "      <td>1</td>\n",
       "      <td>Alameda</td>\n",
       "      <td>ALA</td>\n",
       "      <td>1</td>\n",
       "      <td>01</td>\n",
       "      <td>001</td>\n",
       "      <td>None</td>\n",
       "      <td>3402787058.96</td>\n",
       "      <td>308998.65</td>\n",
       "      <td>e6f92268-d2dd-4cfb-8b79-5b4b2f07c559</td>\n",
       "    </tr>\n",
       "    <tr>\n",
       "      <th>43348</th>\n",
       "      <td>62330</td>\n",
       "      <td>35702a19aac0ed4d2a616627483d3850</td>\n",
       "      <td>52911</td>\n",
       "      <td>POINT (-122.03634 37.56661)</td>\n",
       "      <td>Decoto Rd &amp; Cabrillo Dr</td>\n",
       "      <td>52911</td>\n",
       "      <td>NaN</td>\n",
       "      <td>None</td>\n",
       "      <td>52911Decoto Rd &amp; Cabrillo Dr</td>\n",
       "      <td>0</td>\n",
       "      <td>1</td>\n",
       "      <td>Alameda</td>\n",
       "      <td>ALA</td>\n",
       "      <td>1</td>\n",
       "      <td>01</td>\n",
       "      <td>001</td>\n",
       "      <td>None</td>\n",
       "      <td>3402787058.96</td>\n",
       "      <td>308998.65</td>\n",
       "      <td>e6f92268-d2dd-4cfb-8b79-5b4b2f07c559</td>\n",
       "    </tr>\n",
       "  </tbody>\n",
       "</table>\n",
       "</div>"
      ],
      "text/plain": [
       "       index                          feed_key stop_id  \\\n",
       "41147  15868  8be5cc73e7979c7f110456d07c464792   52911   \n",
       "43348  62330  35702a19aac0ed4d2a616627483d3850   52911   \n",
       "\n",
       "                          geometry                stop_name stop_code  \\\n",
       "41147  POINT (-122.03634 37.56661)  Decoto Rd & Cabrillo Dr     52911   \n",
       "43348  POINT (-122.03634 37.56661)  Decoto Rd & Cabrillo Dr     52911   \n",
       "\n",
       "       location_type stop_desc                     combo_col  index_right  \\\n",
       "41147           0.00      None  52911Decoto Rd & Cabrillo Dr            0   \n",
       "43348            NaN      None  52911Decoto Rd & Cabrillo Dr            0   \n",
       "\n",
       "       OBJECTID COUNTY_NAME COUNTY_ABBREV  COUNTY_NUM COUNTY_CODE COUNTY_FIPS  \\\n",
       "41147         1     Alameda           ALA           1          01         001   \n",
       "43348         1     Alameda           ALA           1          01         001   \n",
       "\n",
       "      ISLAND   Shape__Area  Shape__Length  \\\n",
       "41147   None 3402787058.96      308998.65   \n",
       "43348   None 3402787058.96      308998.65   \n",
       "\n",
       "                                   GlobalID  \n",
       "41147  e6f92268-d2dd-4cfb-8b79-5b4b2f07c559  \n",
       "43348  e6f92268-d2dd-4cfb-8b79-5b4b2f07c559  "
      ]
     },
     "execution_count": 41,
     "metadata": {},
     "output_type": "execute_result"
    }
   ],
   "source": [
    "stop_locations_gdf_ca2.loc[\n",
    "    stop_locations_gdf_ca2.combo_col == \"52911Decoto Rd & Cabrillo Dr\"\n",
    "]"
   ]
  },
  {
   "cell_type": "code",
   "execution_count": 42,
   "id": "82e41d49-1f42-4494-b3c4-cb37e935063f",
   "metadata": {},
   "outputs": [],
   "source": [
    "stop_locations_gdf_ca3 = stop_locations_gdf_ca2.drop_duplicates(\n",
    "    subset=[\"combo_col\"]\n",
    ").reset_index(drop=True)"
   ]
  },
  {
   "cell_type": "code",
   "execution_count": 43,
   "id": "c85d3b06-5aca-4274-b73a-8a20146d4442",
   "metadata": {},
   "outputs": [
    {
     "data": {
      "text/html": [
       "<div>\n",
       "<style scoped>\n",
       "    .dataframe tbody tr th:only-of-type {\n",
       "        vertical-align: middle;\n",
       "    }\n",
       "\n",
       "    .dataframe tbody tr th {\n",
       "        vertical-align: top;\n",
       "    }\n",
       "\n",
       "    .dataframe thead th {\n",
       "        text-align: right;\n",
       "    }\n",
       "</style>\n",
       "<table border=\"1\" class=\"dataframe\">\n",
       "  <thead>\n",
       "    <tr style=\"text-align: right;\">\n",
       "      <th></th>\n",
       "      <th>index</th>\n",
       "      <th>feed_key</th>\n",
       "      <th>stop_id</th>\n",
       "      <th>geometry</th>\n",
       "      <th>stop_name</th>\n",
       "      <th>stop_code</th>\n",
       "      <th>location_type</th>\n",
       "      <th>stop_desc</th>\n",
       "      <th>combo_col</th>\n",
       "      <th>index_right</th>\n",
       "      <th>OBJECTID</th>\n",
       "      <th>COUNTY_NAME</th>\n",
       "      <th>COUNTY_ABBREV</th>\n",
       "      <th>COUNTY_NUM</th>\n",
       "      <th>COUNTY_CODE</th>\n",
       "      <th>COUNTY_FIPS</th>\n",
       "      <th>ISLAND</th>\n",
       "      <th>Shape__Area</th>\n",
       "      <th>Shape__Length</th>\n",
       "      <th>GlobalID</th>\n",
       "    </tr>\n",
       "  </thead>\n",
       "  <tbody>\n",
       "    <tr>\n",
       "      <th>41132</th>\n",
       "      <td>15868</td>\n",
       "      <td>8be5cc73e7979c7f110456d07c464792</td>\n",
       "      <td>52911</td>\n",
       "      <td>POINT (-122.03634 37.56661)</td>\n",
       "      <td>Decoto Rd &amp; Cabrillo Dr</td>\n",
       "      <td>52911</td>\n",
       "      <td>0.00</td>\n",
       "      <td>None</td>\n",
       "      <td>52911Decoto Rd &amp; Cabrillo Dr</td>\n",
       "      <td>0</td>\n",
       "      <td>1</td>\n",
       "      <td>Alameda</td>\n",
       "      <td>ALA</td>\n",
       "      <td>1</td>\n",
       "      <td>01</td>\n",
       "      <td>001</td>\n",
       "      <td>None</td>\n",
       "      <td>3402787058.96</td>\n",
       "      <td>308998.65</td>\n",
       "      <td>e6f92268-d2dd-4cfb-8b79-5b4b2f07c559</td>\n",
       "    </tr>\n",
       "  </tbody>\n",
       "</table>\n",
       "</div>"
      ],
      "text/plain": [
       "       index                          feed_key stop_id  \\\n",
       "41132  15868  8be5cc73e7979c7f110456d07c464792   52911   \n",
       "\n",
       "                          geometry                stop_name stop_code  \\\n",
       "41132  POINT (-122.03634 37.56661)  Decoto Rd & Cabrillo Dr     52911   \n",
       "\n",
       "       location_type stop_desc                     combo_col  index_right  \\\n",
       "41132           0.00      None  52911Decoto Rd & Cabrillo Dr            0   \n",
       "\n",
       "       OBJECTID COUNTY_NAME COUNTY_ABBREV  COUNTY_NUM COUNTY_CODE COUNTY_FIPS  \\\n",
       "41132         1     Alameda           ALA           1          01         001   \n",
       "\n",
       "      ISLAND   Shape__Area  Shape__Length  \\\n",
       "41132   None 3402787058.96      308998.65   \n",
       "\n",
       "                                   GlobalID  \n",
       "41132  e6f92268-d2dd-4cfb-8b79-5b4b2f07c559  "
      ]
     },
     "execution_count": 43,
     "metadata": {},
     "output_type": "execute_result"
    }
   ],
   "source": [
    "stop_locations_gdf_ca3.loc[\n",
    "    stop_locations_gdf_ca3.combo_col == \"52911Decoto Rd & Cabrillo Dr\"\n",
    "]"
   ]
  },
  {
   "cell_type": "code",
   "execution_count": 44,
   "id": "b966620d-ae19-4cec-b333-92e39652d84c",
   "metadata": {},
   "outputs": [
    {
     "data": {
      "text/plain": [
       "(82754, 82754)"
      ]
     },
     "execution_count": 44,
     "metadata": {},
     "output_type": "execute_result"
    }
   ],
   "source": [
    "len(stop_locations_gdf_ca3), stop_locations_gdf_ca3.combo_col.nunique()"
   ]
  },
  {
   "cell_type": "code",
   "execution_count": 45,
   "id": "fedbc679-3fca-4841-a918-d6619dad29b5",
   "metadata": {
    "tags": []
   },
   "outputs": [],
   "source": [
    "stoptimesdata_california = pd.merge(\n",
    "    stoptimes_data,\n",
    "    stop_locations_gdf_ca3[\n",
    "        [\n",
    "            \"feed_key\",\n",
    "            \"stop_id\",\n",
    "            \"stop_name\",\n",
    "            \"location_type\",\n",
    "            \"stop_desc\",\n",
    "            \"geometry\",\n",
    "            \"combo_col\",\n",
    "        ]\n",
    "    ],\n",
    "    on=[\"feed_key\", \"stop_id\"],\n",
    "    how=\"inner\",\n",
    ")"
   ]
  },
  {
   "cell_type": "code",
   "execution_count": 46,
   "id": "e340e335-04e5-4b21-9458-467ca32fd7c8",
   "metadata": {},
   "outputs": [],
   "source": [
    "trips_data_cleaned = trips_data.drop_duplicates()  # Dropping duplicates"
   ]
  },
  {
   "cell_type": "code",
   "execution_count": 47,
   "id": "f84cf818-f70b-4256-87c7-b66289d83d99",
   "metadata": {},
   "outputs": [
    {
     "data": {
      "text/plain": [
       "(162072, 16)"
      ]
     },
     "execution_count": 47,
     "metadata": {},
     "output_type": "execute_result"
    }
   ],
   "source": [
    "trips_data_cleaned.shape"
   ]
  },
  {
   "cell_type": "code",
   "execution_count": 50,
   "id": "29502fe1-bcdd-47a0-af0b-14733aa5aa43",
   "metadata": {},
   "outputs": [
    {
     "data": {
      "text/plain": [
       "(162083, 16)"
      ]
     },
     "execution_count": 50,
     "metadata": {},
     "output_type": "execute_result"
    }
   ],
   "source": [
    "trips_data.shape"
   ]
  },
  {
   "cell_type": "code",
   "execution_count": 51,
   "id": "68a19253-c6b5-450a-9278-c10a7a103797",
   "metadata": {},
   "outputs": [
    {
     "data": {
      "text/html": [
       "<div>\n",
       "<style scoped>\n",
       "    .dataframe tbody tr th:only-of-type {\n",
       "        vertical-align: middle;\n",
       "    }\n",
       "\n",
       "    .dataframe tbody tr th {\n",
       "        vertical-align: top;\n",
       "    }\n",
       "\n",
       "    .dataframe thead th {\n",
       "        text-align: right;\n",
       "    }\n",
       "</style>\n",
       "<table border=\"1\" class=\"dataframe\">\n",
       "  <thead>\n",
       "    <tr style=\"text-align: right;\">\n",
       "      <th></th>\n",
       "      <th>name</th>\n",
       "      <th>gtfs_dataset_key</th>\n",
       "      <th>feed_key</th>\n",
       "      <th>trip_id</th>\n",
       "      <th>route_id</th>\n",
       "      <th>route_type</th>\n",
       "      <th>route_key</th>\n",
       "      <th>num_stop_times</th>\n",
       "      <th>direction_id</th>\n",
       "      <th>trip_first_departure_sec</th>\n",
       "      <th>trip_first_departure_ts</th>\n",
       "      <th>trip_last_arrival_sec</th>\n",
       "      <th>trip_start_timezone</th>\n",
       "      <th>trip_instance_key</th>\n",
       "      <th>service_hours</th>\n",
       "      <th>trip_first_departure_datetime_pacific</th>\n",
       "    </tr>\n",
       "  </thead>\n",
       "  <tbody>\n",
       "    <tr>\n",
       "      <th>131056</th>\n",
       "      <td>Anaheim Resort Schedule</td>\n",
       "      <td>c4726e0acfbcbd26e1dc38b8bd046c03</td>\n",
       "      <td>1d3081c9043c89241e23681420a404d5</td>\n",
       "      <td>746a8c86-d6e0-4621-9970-174cf856f495:8</td>\n",
       "      <td>ff214815-c1ed-4f96-857a-e525f37efa98</td>\n",
       "      <td>3</td>\n",
       "      <td>a7ad58dc82e4adaf8f02dd5a54664046</td>\n",
       "      <td>9</td>\n",
       "      <td>NaN</td>\n",
       "      <td>31800.00</td>\n",
       "      <td>2025-06-02 15:50:00+00:00</td>\n",
       "      <td>33000.00</td>\n",
       "      <td>America/Los_Angeles</td>\n",
       "      <td>51fe4826960c0d84b80e0f245bf70d33</td>\n",
       "      <td>0.33</td>\n",
       "      <td>2025-06-02 08:50:00</td>\n",
       "    </tr>\n",
       "  </tbody>\n",
       "</table>\n",
       "</div>"
      ],
      "text/plain": [
       "                           name                  gtfs_dataset_key  \\\n",
       "131056  Anaheim Resort Schedule  c4726e0acfbcbd26e1dc38b8bd046c03   \n",
       "\n",
       "                                feed_key  \\\n",
       "131056  1d3081c9043c89241e23681420a404d5   \n",
       "\n",
       "                                       trip_id  \\\n",
       "131056  746a8c86-d6e0-4621-9970-174cf856f495:8   \n",
       "\n",
       "                                    route_id route_type  \\\n",
       "131056  ff214815-c1ed-4f96-857a-e525f37efa98          3   \n",
       "\n",
       "                               route_key  num_stop_times  direction_id  \\\n",
       "131056  a7ad58dc82e4adaf8f02dd5a54664046               9           NaN   \n",
       "\n",
       "        trip_first_departure_sec   trip_first_departure_ts  \\\n",
       "131056                  31800.00 2025-06-02 15:50:00+00:00   \n",
       "\n",
       "        trip_last_arrival_sec  trip_start_timezone  \\\n",
       "131056               33000.00  America/Los_Angeles   \n",
       "\n",
       "                       trip_instance_key  service_hours  \\\n",
       "131056  51fe4826960c0d84b80e0f245bf70d33           0.33   \n",
       "\n",
       "       trip_first_departure_datetime_pacific  \n",
       "131056                   2025-06-02 08:50:00  "
      ]
     },
     "execution_count": 51,
     "metadata": {},
     "output_type": "execute_result"
    }
   ],
   "source": [
    "trips_data_cleaned.sample()"
   ]
  },
  {
   "cell_type": "code",
   "execution_count": 52,
   "id": "3aea2a77-e575-4574-8a51-f15e4c564973",
   "metadata": {},
   "outputs": [
    {
     "data": {
      "text/html": [
       "<div>\n",
       "<style scoped>\n",
       "    .dataframe tbody tr th:only-of-type {\n",
       "        vertical-align: middle;\n",
       "    }\n",
       "\n",
       "    .dataframe tbody tr th {\n",
       "        vertical-align: top;\n",
       "    }\n",
       "\n",
       "    .dataframe thead th {\n",
       "        text-align: right;\n",
       "    }\n",
       "</style>\n",
       "<table border=\"1\" class=\"dataframe\">\n",
       "  <thead>\n",
       "    <tr style=\"text-align: right;\">\n",
       "      <th></th>\n",
       "      <th>Unnamed: 0</th>\n",
       "      <th>key</th>\n",
       "      <th>_gtfs_key</th>\n",
       "      <th>feed_key</th>\n",
       "      <th>trip_id</th>\n",
       "      <th>stop_id</th>\n",
       "      <th>stop_sequence</th>\n",
       "      <th>arrival_time</th>\n",
       "      <th>departure_time</th>\n",
       "      <th>arrival_time_interval</th>\n",
       "      <th>departure_time_interval</th>\n",
       "      <th>arrival_hour</th>\n",
       "      <th>departure_hour</th>\n",
       "      <th>stop_name</th>\n",
       "      <th>location_type</th>\n",
       "      <th>stop_desc</th>\n",
       "      <th>geometry</th>\n",
       "      <th>combo_col</th>\n",
       "    </tr>\n",
       "  </thead>\n",
       "  <tbody>\n",
       "    <tr>\n",
       "      <th>65600</th>\n",
       "      <td>917568</td>\n",
       "      <td>2ce2e691140128b5bde0f4afd5e2eec3</td>\n",
       "      <td>01a343a738a845508bdaf4d0ffadeef8</td>\n",
       "      <td>8c84e748dadce4a3b1422c1c643926ad</td>\n",
       "      <td>t_1057367_b_25985_tn_0</td>\n",
       "      <td>784078</td>\n",
       "      <td>40</td>\n",
       "      <td>09:45:00</td>\n",
       "      <td>09:45:00</td>\n",
       "      <td>relativedelta(hours=+9, minutes=+45)</td>\n",
       "      <td>relativedelta(hours=+9, minutes=+45)</td>\n",
       "      <td>9.00</td>\n",
       "      <td>9.00</td>\n",
       "      <td>Woodland College</td>\n",
       "      <td>0.00</td>\n",
       "      <td>None</td>\n",
       "      <td>POINT (-122.61704 38.93279)</td>\n",
       "      <td>784078Woodland College</td>\n",
       "    </tr>\n",
       "  </tbody>\n",
       "</table>\n",
       "</div>"
      ],
      "text/plain": [
       "       Unnamed: 0                               key  \\\n",
       "65600      917568  2ce2e691140128b5bde0f4afd5e2eec3   \n",
       "\n",
       "                              _gtfs_key                          feed_key  \\\n",
       "65600  01a343a738a845508bdaf4d0ffadeef8  8c84e748dadce4a3b1422c1c643926ad   \n",
       "\n",
       "                      trip_id stop_id  stop_sequence arrival_time  \\\n",
       "65600  t_1057367_b_25985_tn_0  784078             40     09:45:00   \n",
       "\n",
       "      departure_time                 arrival_time_interval  \\\n",
       "65600       09:45:00  relativedelta(hours=+9, minutes=+45)   \n",
       "\n",
       "                    departure_time_interval  arrival_hour  departure_hour  \\\n",
       "65600  relativedelta(hours=+9, minutes=+45)          9.00            9.00   \n",
       "\n",
       "              stop_name  location_type stop_desc                     geometry  \\\n",
       "65600  Woodland College           0.00      None  POINT (-122.61704 38.93279)   \n",
       "\n",
       "                    combo_col  \n",
       "65600  784078Woodland College  "
      ]
     },
     "execution_count": 52,
     "metadata": {},
     "output_type": "execute_result"
    }
   ],
   "source": [
    "stoptimesdata_california.sample()"
   ]
  },
  {
   "cell_type": "code",
   "execution_count": 53,
   "id": "c6a2cff2-27ff-4299-806c-7595d9e51f1d",
   "metadata": {},
   "outputs": [],
   "source": [
    "# Merging stop data with trip data on trip id and feed key.\n",
    "stop_trip_merged = pd.merge(\n",
    "    stoptimesdata_california, trips_data_cleaned, on=[\"trip_id\", \"feed_key\"], how=\"left\"\n",
    ")"
   ]
  },
  {
   "cell_type": "code",
   "execution_count": 54,
   "id": "93f1f769-607e-4b69-a418-746c9ebccd29",
   "metadata": {},
   "outputs": [
    {
     "data": {
      "text/plain": [
       "1087114"
      ]
     },
     "execution_count": 54,
     "metadata": {},
     "output_type": "execute_result"
    }
   ],
   "source": [
    "len(stoptimesdata_california)"
   ]
  },
  {
   "cell_type": "code",
   "execution_count": 55,
   "id": "016efb22-0f63-437a-a025-1b0d9bb5dc4c",
   "metadata": {},
   "outputs": [
    {
     "data": {
      "text/plain": [
       "162072"
      ]
     },
     "execution_count": 55,
     "metadata": {},
     "output_type": "execute_result"
    }
   ],
   "source": [
    "len(trips_data_cleaned)"
   ]
  },
  {
   "cell_type": "code",
   "execution_count": 56,
   "id": "2ca6c271-3f35-4560-aa9c-759b306a2160",
   "metadata": {
    "tags": []
   },
   "outputs": [],
   "source": [
    "# Adding peak/off-peak labels to trip instances based on scheduled time buckets for the given analysis date\n",
    "sched_time_of_day = gtfs_schedule_wrangling.get_trip_time_buckets(analysis_dt).pipe(\n",
    "    gtfs_schedule_wrangling.add_peak_offpeak_column\n",
    ")[[\"trip_instance_key\", \"peak_offpeak\"]]"
   ]
  },
  {
   "cell_type": "code",
   "execution_count": 57,
   "id": "4ed3a80b-9097-423e-a90c-9e83e78a49ae",
   "metadata": {},
   "outputs": [
    {
     "data": {
      "text/html": [
       "<div>\n",
       "<style scoped>\n",
       "    .dataframe tbody tr th:only-of-type {\n",
       "        vertical-align: middle;\n",
       "    }\n",
       "\n",
       "    .dataframe tbody tr th {\n",
       "        vertical-align: top;\n",
       "    }\n",
       "\n",
       "    .dataframe thead th {\n",
       "        text-align: right;\n",
       "    }\n",
       "</style>\n",
       "<table border=\"1\" class=\"dataframe\">\n",
       "  <thead>\n",
       "    <tr style=\"text-align: right;\">\n",
       "      <th></th>\n",
       "      <th>trip_instance_key</th>\n",
       "      <th>peak_offpeak</th>\n",
       "    </tr>\n",
       "  </thead>\n",
       "  <tbody>\n",
       "    <tr>\n",
       "      <th>0</th>\n",
       "      <td>5abb89287ff7b1add12e46236f7a8178</td>\n",
       "      <td>offpeak</td>\n",
       "    </tr>\n",
       "    <tr>\n",
       "      <th>1</th>\n",
       "      <td>d6aef57fcc7b4f410837edeaecfc5d1b</td>\n",
       "      <td>offpeak</td>\n",
       "    </tr>\n",
       "  </tbody>\n",
       "</table>\n",
       "</div>"
      ],
      "text/plain": [
       "                  trip_instance_key peak_offpeak\n",
       "0  5abb89287ff7b1add12e46236f7a8178      offpeak\n",
       "1  d6aef57fcc7b4f410837edeaecfc5d1b      offpeak"
      ]
     },
     "execution_count": 57,
     "metadata": {},
     "output_type": "execute_result"
    }
   ],
   "source": [
    "sched_time_of_day.head(2)"
   ]
  },
  {
   "cell_type": "code",
   "execution_count": 58,
   "id": "9839b892-2f4e-4103-a75a-833fe653b2a3",
   "metadata": {
    "tags": []
   },
   "outputs": [],
   "source": [
    "# Merging scheduled time of the data\n",
    "stop_trip_merged = pd.merge(\n",
    "    stop_trip_merged, sched_time_of_day, on=\"trip_instance_key\", how=\"left\"\n",
    ")"
   ]
  },
  {
   "cell_type": "code",
   "execution_count": 59,
   "id": "8b55d4c4-3860-41ae-bb37-a171688befe2",
   "metadata": {},
   "outputs": [
    {
     "data": {
      "text/plain": [
       "2312821"
      ]
     },
     "execution_count": 59,
     "metadata": {},
     "output_type": "execute_result"
    }
   ],
   "source": [
    "len(stop_trip_merged)"
   ]
  },
  {
   "cell_type": "code",
   "execution_count": 60,
   "id": "9bae3eac-acc7-4a00-8769-6204fb6f418c",
   "metadata": {},
   "outputs": [],
   "source": [
    "# Counting unique trips per stop and renaming column to 'num_trips'\n",
    "# num_trips_per_stop = stop_trip_merged.groupby('stop_id')['trip_instance_key'].nunique().reset_index().rename(columns={'trip_instance_key':'num_trips'})"
   ]
  },
  {
   "cell_type": "code",
   "execution_count": 61,
   "id": "d77b0a95-e7be-4f42-aa97-f61f8f3be0a1",
   "metadata": {},
   "outputs": [],
   "source": [
    "num_trips_per_stop = (\n",
    "    stop_trip_merged.groupby([\"stop_id\", \"combo_col\"])[\"trip_instance_key\"]\n",
    "    .nunique()\n",
    "    .reset_index()\n",
    "    .rename(columns={\"trip_instance_key\": \"num_trips\"})\n",
    ")"
   ]
  },
  {
   "cell_type": "code",
   "execution_count": 62,
   "id": "ee086219-2378-4e8b-a90b-5441b3e8f013",
   "metadata": {},
   "outputs": [
    {
     "data": {
      "text/plain": [
       "(40702, 3)"
      ]
     },
     "execution_count": 62,
     "metadata": {},
     "output_type": "execute_result"
    }
   ],
   "source": [
    "num_trips_per_stop.shape"
   ]
  },
  {
   "cell_type": "code",
   "execution_count": 63,
   "id": "a6a194ec-7de1-467d-b0b3-f11892ede411",
   "metadata": {},
   "outputs": [],
   "source": [
    "# Counting unique routes per stop and renaming column to 'num_routes'\n",
    "num_routes_per_stop = (\n",
    "    stop_trip_merged.groupby([\"stop_id\", \"combo_col\"])[\"route_id\"]\n",
    "    .nunique()\n",
    "    .reset_index()\n",
    "    .rename(columns={\"route_id\": \"num_routes\"})\n",
    ")"
   ]
  },
  {
   "cell_type": "code",
   "execution_count": 64,
   "id": "ec120f71-c466-42ca-a946-eaa13d94f7ea",
   "metadata": {},
   "outputs": [
    {
     "data": {
      "text/plain": [
       "(40702, 3)"
      ]
     },
     "execution_count": 64,
     "metadata": {},
     "output_type": "execute_result"
    }
   ],
   "source": [
    "num_routes_per_stop.shape"
   ]
  },
  {
   "cell_type": "code",
   "execution_count": 65,
   "id": "8ada387b-d38f-4a26-a76c-f6485a9861f3",
   "metadata": {},
   "outputs": [
    {
     "data": {
      "text/html": [
       "<div>\n",
       "<style scoped>\n",
       "    .dataframe tbody tr th:only-of-type {\n",
       "        vertical-align: middle;\n",
       "    }\n",
       "\n",
       "    .dataframe tbody tr th {\n",
       "        vertical-align: top;\n",
       "    }\n",
       "\n",
       "    .dataframe thead th {\n",
       "        text-align: right;\n",
       "    }\n",
       "</style>\n",
       "<table border=\"1\" class=\"dataframe\">\n",
       "  <thead>\n",
       "    <tr style=\"text-align: right;\">\n",
       "      <th></th>\n",
       "      <th>stop_id</th>\n",
       "      <th>combo_col</th>\n",
       "      <th>num_routes</th>\n",
       "    </tr>\n",
       "  </thead>\n",
       "  <tbody>\n",
       "    <tr>\n",
       "      <th>0</th>\n",
       "      <td>0</td>\n",
       "      <td>0Skyway &amp; Princeton Wy</td>\n",
       "      <td>2</td>\n",
       "    </tr>\n",
       "    <tr>\n",
       "      <th>1</th>\n",
       "      <td>0002</td>\n",
       "      <td>0002Del Monte Center / Gate 1</td>\n",
       "      <td>3</td>\n",
       "    </tr>\n",
       "  </tbody>\n",
       "</table>\n",
       "</div>"
      ],
      "text/plain": [
       "  stop_id                      combo_col  num_routes\n",
       "0       0         0Skyway & Princeton Wy           2\n",
       "1    0002  0002Del Monte Center / Gate 1           3"
      ]
     },
     "execution_count": 65,
     "metadata": {},
     "output_type": "execute_result"
    }
   ],
   "source": [
    "num_routes_per_stop.head(2)"
   ]
  },
  {
   "cell_type": "code",
   "execution_count": 66,
   "id": "e099b61b-769c-45ad-ad03-7ee47aadc912",
   "metadata": {
    "tags": []
   },
   "outputs": [],
   "source": [
    "# Filtering stop-trip data to include only peak period trips\n",
    "peak_stop_times = stop_trip_merged[stop_trip_merged[\"peak_offpeak\"] == \"peak\"].copy()"
   ]
  },
  {
   "cell_type": "code",
   "execution_count": 92,
   "id": "ed13d0d6-5f0f-4622-8df9-a45e2f274f0c",
   "metadata": {},
   "outputs": [
    {
     "data": {
      "text/html": [
       "<div>\n",
       "<style scoped>\n",
       "    .dataframe tbody tr th:only-of-type {\n",
       "        vertical-align: middle;\n",
       "    }\n",
       "\n",
       "    .dataframe tbody tr th {\n",
       "        vertical-align: top;\n",
       "    }\n",
       "\n",
       "    .dataframe thead th {\n",
       "        text-align: right;\n",
       "    }\n",
       "</style>\n",
       "<table border=\"1\" class=\"dataframe\">\n",
       "  <thead>\n",
       "    <tr style=\"text-align: right;\">\n",
       "      <th></th>\n",
       "      <th>Unnamed: 0</th>\n",
       "      <th>key</th>\n",
       "      <th>_gtfs_key</th>\n",
       "      <th>feed_key</th>\n",
       "      <th>trip_id</th>\n",
       "      <th>stop_id</th>\n",
       "      <th>stop_sequence</th>\n",
       "      <th>arrival_time</th>\n",
       "      <th>departure_time</th>\n",
       "      <th>arrival_time_interval</th>\n",
       "      <th>departure_time_interval</th>\n",
       "      <th>arrival_hour</th>\n",
       "      <th>departure_hour</th>\n",
       "      <th>stop_name</th>\n",
       "      <th>location_type</th>\n",
       "      <th>stop_desc</th>\n",
       "      <th>geometry</th>\n",
       "      <th>combo_col</th>\n",
       "      <th>name</th>\n",
       "      <th>gtfs_dataset_key</th>\n",
       "      <th>route_id</th>\n",
       "      <th>route_type</th>\n",
       "      <th>route_key</th>\n",
       "      <th>num_stop_times</th>\n",
       "      <th>direction_id</th>\n",
       "      <th>trip_first_departure_sec</th>\n",
       "      <th>trip_first_departure_ts</th>\n",
       "      <th>trip_last_arrival_sec</th>\n",
       "      <th>trip_start_timezone</th>\n",
       "      <th>trip_instance_key</th>\n",
       "      <th>service_hours</th>\n",
       "      <th>trip_first_departure_datetime_pacific</th>\n",
       "      <th>peak_offpeak</th>\n",
       "    </tr>\n",
       "  </thead>\n",
       "  <tbody>\n",
       "    <tr>\n",
       "      <th>1276981</th>\n",
       "      <td>1707874</td>\n",
       "      <td>f8b61e5d617a8bafff847d4c31c5b9c6</td>\n",
       "      <td>287be3ae624d67cb5228d32598a71019</td>\n",
       "      <td>6a5a841d0f829e6f8aba4e1f619e7a9e</td>\n",
       "      <td>TL-145</td>\n",
       "      <td>TL-5</td>\n",
       "      <td>50</td>\n",
       "      <td>00:25:19</td>\n",
       "      <td>00:25:29</td>\n",
       "      <td>relativedelta(minutes=+25, seconds=+19)</td>\n",
       "      <td>relativedelta(minutes=+25, seconds=+29)</td>\n",
       "      <td>0.00</td>\n",
       "      <td>0.00</td>\n",
       "      <td>Terminal 3</td>\n",
       "      <td>0.00</td>\n",
       "      <td>None</td>\n",
       "      <td>POINT (-118.40699 33.94494)</td>\n",
       "      <td>TL-5Terminal 3</td>\n",
       "      <td>LAX Shuttles Schedule</td>\n",
       "      <td>723210f3a6d61ee3936df401e18a5636</td>\n",
       "      <td>TL-6</td>\n",
       "      <td>3</td>\n",
       "      <td>97c593f5365773269f315ff1ec424c43</td>\n",
       "      <td>15</td>\n",
       "      <td>NaN</td>\n",
       "      <td>54614.00</td>\n",
       "      <td>2025-06-02 22:10:14+00:00</td>\n",
       "      <td>57124.00</td>\n",
       "      <td>America/Los_Angeles</td>\n",
       "      <td>3a252f1439d503952cf290fa3f9faede</td>\n",
       "      <td>0.70</td>\n",
       "      <td>2025-06-02 15:10:14</td>\n",
       "      <td>peak</td>\n",
       "    </tr>\n",
       "  </tbody>\n",
       "</table>\n",
       "</div>"
      ],
      "text/plain": [
       "         Unnamed: 0                               key  \\\n",
       "1276981     1707874  f8b61e5d617a8bafff847d4c31c5b9c6   \n",
       "\n",
       "                                _gtfs_key                          feed_key  \\\n",
       "1276981  287be3ae624d67cb5228d32598a71019  6a5a841d0f829e6f8aba4e1f619e7a9e   \n",
       "\n",
       "        trip_id stop_id  stop_sequence arrival_time departure_time  \\\n",
       "1276981  TL-145    TL-5             50     00:25:19       00:25:29   \n",
       "\n",
       "                           arrival_time_interval  \\\n",
       "1276981  relativedelta(minutes=+25, seconds=+19)   \n",
       "\n",
       "                         departure_time_interval  arrival_hour  \\\n",
       "1276981  relativedelta(minutes=+25, seconds=+29)          0.00   \n",
       "\n",
       "         departure_hour   stop_name  location_type stop_desc  \\\n",
       "1276981            0.00  Terminal 3           0.00      None   \n",
       "\n",
       "                            geometry       combo_col                   name  \\\n",
       "1276981  POINT (-118.40699 33.94494)  TL-5Terminal 3  LAX Shuttles Schedule   \n",
       "\n",
       "                         gtfs_dataset_key route_id route_type  \\\n",
       "1276981  723210f3a6d61ee3936df401e18a5636     TL-6          3   \n",
       "\n",
       "                                route_key  num_stop_times  direction_id  \\\n",
       "1276981  97c593f5365773269f315ff1ec424c43              15           NaN   \n",
       "\n",
       "         trip_first_departure_sec   trip_first_departure_ts  \\\n",
       "1276981                  54614.00 2025-06-02 22:10:14+00:00   \n",
       "\n",
       "         trip_last_arrival_sec  trip_start_timezone  \\\n",
       "1276981               57124.00  America/Los_Angeles   \n",
       "\n",
       "                        trip_instance_key  service_hours  \\\n",
       "1276981  3a252f1439d503952cf290fa3f9faede           0.70   \n",
       "\n",
       "        trip_first_departure_datetime_pacific peak_offpeak  \n",
       "1276981                   2025-06-02 15:10:14         peak  "
      ]
     },
     "execution_count": 92,
     "metadata": {},
     "output_type": "execute_result"
    }
   ],
   "source": [
    "peak_stop_times.sample()"
   ]
  },
  {
   "cell_type": "markdown",
   "id": "6c8c9fab-6776-48cd-8b5e-3b40ef03a4fe",
   "metadata": {},
   "source": [
    "**I think 9am is considered peak time**"
   ]
  },
  {
   "cell_type": "code",
   "execution_count": 67,
   "id": "ce58de12-2915-4d04-8533-9229610bad2a",
   "metadata": {
    "tags": []
   },
   "outputs": [],
   "source": [
    "# Filter for peak + arrival before 9 AM\n",
    "am_peak_stop_trip = peak_stop_times[peak_stop_times[\"arrival_hour\"] <= 9].copy()\n",
    "\n",
    "# Assign time_of_day manually\n",
    "am_peak_stop_trip[\"time_of_day\"] = \"AM Peak\""
   ]
  },
  {
   "cell_type": "code",
   "execution_count": 68,
   "id": "26db87a5-80f9-405b-a642-cfb7b3f381e1",
   "metadata": {
    "tags": []
   },
   "outputs": [],
   "source": [
    "group_cols = [\"feed_key\", \"stop_id\", \"route_id\", \"direction_id\"]"
   ]
  },
  {
   "cell_type": "code",
   "execution_count": 69,
   "id": "22cdcaec-d976-4a26-98e3-326ee6653682",
   "metadata": {},
   "outputs": [],
   "source": [
    "stop_route_summary = gtfs_schedule_wrangling.aggregate_time_of_day_to_peak_offpeak(\n",
    "    df=am_peak_stop_trip, group_cols=group_cols, long_or_wide=\"wide\"\n",
    ")"
   ]
  },
  {
   "cell_type": "code",
   "execution_count": 70,
   "id": "7d19a710-f9d4-41ba-9a9d-39e4fb0c4250",
   "metadata": {},
   "outputs": [
    {
     "data": {
      "text/html": [
       "<div>\n",
       "<style scoped>\n",
       "    .dataframe tbody tr th:only-of-type {\n",
       "        vertical-align: middle;\n",
       "    }\n",
       "\n",
       "    .dataframe tbody tr th {\n",
       "        vertical-align: top;\n",
       "    }\n",
       "\n",
       "    .dataframe thead th {\n",
       "        text-align: right;\n",
       "    }\n",
       "</style>\n",
       "<table border=\"1\" class=\"dataframe\">\n",
       "  <thead>\n",
       "    <tr style=\"text-align: right;\">\n",
       "      <th></th>\n",
       "      <th>feed_key</th>\n",
       "      <th>stop_id</th>\n",
       "      <th>route_id</th>\n",
       "      <th>direction_id</th>\n",
       "      <th>all_day_n_trips</th>\n",
       "      <th>peak_n_trips</th>\n",
       "      <th>all_day_frequency</th>\n",
       "      <th>peak_frequency</th>\n",
       "    </tr>\n",
       "  </thead>\n",
       "  <tbody>\n",
       "    <tr>\n",
       "      <th>0</th>\n",
       "      <td>058a3b43698f803c8686f7e72a9efd4c</td>\n",
       "      <td>121914</td>\n",
       "      <td>11796</td>\n",
       "      <td>1.00</td>\n",
       "      <td>2.00</td>\n",
       "      <td>2.00</td>\n",
       "      <td>0.08</td>\n",
       "      <td>0.25</td>\n",
       "    </tr>\n",
       "    <tr>\n",
       "      <th>1</th>\n",
       "      <td>058a3b43698f803c8686f7e72a9efd4c</td>\n",
       "      <td>121915</td>\n",
       "      <td>11792</td>\n",
       "      <td>1.00</td>\n",
       "      <td>2.00</td>\n",
       "      <td>2.00</td>\n",
       "      <td>0.08</td>\n",
       "      <td>0.25</td>\n",
       "    </tr>\n",
       "    <tr>\n",
       "      <th>2</th>\n",
       "      <td>058a3b43698f803c8686f7e72a9efd4c</td>\n",
       "      <td>121916</td>\n",
       "      <td>11792</td>\n",
       "      <td>1.00</td>\n",
       "      <td>2.00</td>\n",
       "      <td>2.00</td>\n",
       "      <td>0.08</td>\n",
       "      <td>0.25</td>\n",
       "    </tr>\n",
       "    <tr>\n",
       "      <th>3</th>\n",
       "      <td>058a3b43698f803c8686f7e72a9efd4c</td>\n",
       "      <td>121917</td>\n",
       "      <td>11792</td>\n",
       "      <td>1.00</td>\n",
       "      <td>2.00</td>\n",
       "      <td>2.00</td>\n",
       "      <td>0.08</td>\n",
       "      <td>0.25</td>\n",
       "    </tr>\n",
       "    <tr>\n",
       "      <th>4</th>\n",
       "      <td>058a3b43698f803c8686f7e72a9efd4c</td>\n",
       "      <td>121919</td>\n",
       "      <td>11795</td>\n",
       "      <td>1.00</td>\n",
       "      <td>3.00</td>\n",
       "      <td>3.00</td>\n",
       "      <td>0.12</td>\n",
       "      <td>0.38</td>\n",
       "    </tr>\n",
       "  </tbody>\n",
       "</table>\n",
       "</div>"
      ],
      "text/plain": [
       "                           feed_key stop_id route_id  direction_id  \\\n",
       "0  058a3b43698f803c8686f7e72a9efd4c  121914    11796          1.00   \n",
       "1  058a3b43698f803c8686f7e72a9efd4c  121915    11792          1.00   \n",
       "2  058a3b43698f803c8686f7e72a9efd4c  121916    11792          1.00   \n",
       "3  058a3b43698f803c8686f7e72a9efd4c  121917    11792          1.00   \n",
       "4  058a3b43698f803c8686f7e72a9efd4c  121919    11795          1.00   \n",
       "\n",
       "   all_day_n_trips  peak_n_trips  all_day_frequency  peak_frequency  \n",
       "0             2.00          2.00               0.08            0.25  \n",
       "1             2.00          2.00               0.08            0.25  \n",
       "2             2.00          2.00               0.08            0.25  \n",
       "3             2.00          2.00               0.08            0.25  \n",
       "4             3.00          3.00               0.12            0.38  "
      ]
     },
     "execution_count": 70,
     "metadata": {},
     "output_type": "execute_result"
    }
   ],
   "source": [
    "stop_route_summary.head()"
   ]
  },
  {
   "cell_type": "code",
   "execution_count": 79,
   "id": "901828bf-f937-42c0-b8cf-0f2deb60c74a",
   "metadata": {
    "tags": []
   },
   "outputs": [],
   "source": [
    "stop_route_summary[\"am_peak_headway_minutes\"] = 60 / stop_route_summary[\"peak_frequency\"]"
   ]
  },
  {
   "cell_type": "code",
   "execution_count": 72,
   "id": "4f875909-57c2-4330-844e-41e00817aa87",
   "metadata": {
    "tags": []
   },
   "outputs": [
    {
     "data": {
      "text/html": [
       "<div>\n",
       "<style scoped>\n",
       "    .dataframe tbody tr th:only-of-type {\n",
       "        vertical-align: middle;\n",
       "    }\n",
       "\n",
       "    .dataframe tbody tr th {\n",
       "        vertical-align: top;\n",
       "    }\n",
       "\n",
       "    .dataframe thead th {\n",
       "        text-align: right;\n",
       "    }\n",
       "</style>\n",
       "<table border=\"1\" class=\"dataframe\">\n",
       "  <thead>\n",
       "    <tr style=\"text-align: right;\">\n",
       "      <th></th>\n",
       "      <th>feed_key</th>\n",
       "      <th>stop_id</th>\n",
       "      <th>route_id</th>\n",
       "      <th>direction_id</th>\n",
       "      <th>all_day_n_trips</th>\n",
       "      <th>peak_n_trips</th>\n",
       "      <th>all_day_frequency</th>\n",
       "      <th>peak_frequency</th>\n",
       "      <th>peak_headway</th>\n",
       "    </tr>\n",
       "  </thead>\n",
       "  <tbody>\n",
       "    <tr>\n",
       "      <th>0</th>\n",
       "      <td>058a3b43698f803c8686f7e72a9efd4c</td>\n",
       "      <td>121914</td>\n",
       "      <td>11796</td>\n",
       "      <td>1.00</td>\n",
       "      <td>2.00</td>\n",
       "      <td>2.00</td>\n",
       "      <td>0.08</td>\n",
       "      <td>0.25</td>\n",
       "      <td>240.00</td>\n",
       "    </tr>\n",
       "    <tr>\n",
       "      <th>1</th>\n",
       "      <td>058a3b43698f803c8686f7e72a9efd4c</td>\n",
       "      <td>121915</td>\n",
       "      <td>11792</td>\n",
       "      <td>1.00</td>\n",
       "      <td>2.00</td>\n",
       "      <td>2.00</td>\n",
       "      <td>0.08</td>\n",
       "      <td>0.25</td>\n",
       "      <td>240.00</td>\n",
       "    </tr>\n",
       "    <tr>\n",
       "      <th>2</th>\n",
       "      <td>058a3b43698f803c8686f7e72a9efd4c</td>\n",
       "      <td>121916</td>\n",
       "      <td>11792</td>\n",
       "      <td>1.00</td>\n",
       "      <td>2.00</td>\n",
       "      <td>2.00</td>\n",
       "      <td>0.08</td>\n",
       "      <td>0.25</td>\n",
       "      <td>240.00</td>\n",
       "    </tr>\n",
       "    <tr>\n",
       "      <th>3</th>\n",
       "      <td>058a3b43698f803c8686f7e72a9efd4c</td>\n",
       "      <td>121917</td>\n",
       "      <td>11792</td>\n",
       "      <td>1.00</td>\n",
       "      <td>2.00</td>\n",
       "      <td>2.00</td>\n",
       "      <td>0.08</td>\n",
       "      <td>0.25</td>\n",
       "      <td>240.00</td>\n",
       "    </tr>\n",
       "    <tr>\n",
       "      <th>4</th>\n",
       "      <td>058a3b43698f803c8686f7e72a9efd4c</td>\n",
       "      <td>121919</td>\n",
       "      <td>11795</td>\n",
       "      <td>1.00</td>\n",
       "      <td>3.00</td>\n",
       "      <td>3.00</td>\n",
       "      <td>0.12</td>\n",
       "      <td>0.38</td>\n",
       "      <td>157.89</td>\n",
       "    </tr>\n",
       "  </tbody>\n",
       "</table>\n",
       "</div>"
      ],
      "text/plain": [
       "                           feed_key stop_id route_id  direction_id  \\\n",
       "0  058a3b43698f803c8686f7e72a9efd4c  121914    11796          1.00   \n",
       "1  058a3b43698f803c8686f7e72a9efd4c  121915    11792          1.00   \n",
       "2  058a3b43698f803c8686f7e72a9efd4c  121916    11792          1.00   \n",
       "3  058a3b43698f803c8686f7e72a9efd4c  121917    11792          1.00   \n",
       "4  058a3b43698f803c8686f7e72a9efd4c  121919    11795          1.00   \n",
       "\n",
       "   all_day_n_trips  peak_n_trips  all_day_frequency  peak_frequency  \\\n",
       "0             2.00          2.00               0.08            0.25   \n",
       "1             2.00          2.00               0.08            0.25   \n",
       "2             2.00          2.00               0.08            0.25   \n",
       "3             2.00          2.00               0.08            0.25   \n",
       "4             3.00          3.00               0.12            0.38   \n",
       "\n",
       "   peak_headway  \n",
       "0        240.00  \n",
       "1        240.00  \n",
       "2        240.00  \n",
       "3        240.00  \n",
       "4        157.89  "
      ]
     },
     "execution_count": 72,
     "metadata": {},
     "output_type": "execute_result"
    }
   ],
   "source": [
    "stop_route_summary.head(5)"
   ]
  },
  {
   "cell_type": "code",
   "execution_count": 93,
   "id": "785e9802-21ac-4a56-8a8e-6693966f635e",
   "metadata": {},
   "outputs": [
    {
     "data": {
      "text/plain": [
       "count   46284.00\n",
       "mean        1.67\n",
       "std        74.18\n",
       "min         0.12\n",
       "25%         0.25\n",
       "50%         0.38\n",
       "75%         0.75\n",
       "max     10518.75\n",
       "Name: peak_frequency, dtype: float64"
      ]
     },
     "execution_count": 93,
     "metadata": {},
     "output_type": "execute_result"
    }
   ],
   "source": [
    "stop_route_summary.peak_frequency.describe()"
   ]
  },
  {
   "cell_type": "code",
   "execution_count": 80,
   "id": "98f99018-f818-43f2-a884-15b2c863f940",
   "metadata": {},
   "outputs": [],
   "source": [
    "# Calculating average AM peak headway (minutes) for each stop\n",
    "headways_per_stop = (\n",
    "    stop_route_summary.groupby([\"stop_id\", \"feed_key\"])[\"am_peak_headway_minutes\"]\n",
    "    .mean()\n",
    "    .reset_index()\n",
    ")"
   ]
  },
  {
   "cell_type": "code",
   "execution_count": 74,
   "id": "fe28e454-dc15-4980-b058-ee7370d89ae7",
   "metadata": {},
   "outputs": [
    {
     "data": {
      "text/html": [
       "<div>\n",
       "<style scoped>\n",
       "    .dataframe tbody tr th:only-of-type {\n",
       "        vertical-align: middle;\n",
       "    }\n",
       "\n",
       "    .dataframe tbody tr th {\n",
       "        vertical-align: top;\n",
       "    }\n",
       "\n",
       "    .dataframe thead th {\n",
       "        text-align: right;\n",
       "    }\n",
       "</style>\n",
       "<table border=\"1\" class=\"dataframe\">\n",
       "  <thead>\n",
       "    <tr style=\"text-align: right;\">\n",
       "      <th></th>\n",
       "      <th>stop_id</th>\n",
       "      <th>feed_key</th>\n",
       "      <th>peak_headway</th>\n",
       "    </tr>\n",
       "  </thead>\n",
       "  <tbody>\n",
       "    <tr>\n",
       "      <th>0</th>\n",
       "      <td>0</td>\n",
       "      <td>a42c96ce9df6597edaaea081a44f261a</td>\n",
       "      <td>500.00</td>\n",
       "    </tr>\n",
       "    <tr>\n",
       "      <th>1</th>\n",
       "      <td>0002</td>\n",
       "      <td>bcbaf48b76d91fc8f19b728ef8d257e7</td>\n",
       "      <td>370.00</td>\n",
       "    </tr>\n",
       "    <tr>\n",
       "      <th>2</th>\n",
       "      <td>0002</td>\n",
       "      <td>cd299184726656597ae2cdb4f4e81e4a</td>\n",
       "      <td>120.00</td>\n",
       "    </tr>\n",
       "    <tr>\n",
       "      <th>3</th>\n",
       "      <td>0003</td>\n",
       "      <td>bcbaf48b76d91fc8f19b728ef8d257e7</td>\n",
       "      <td>370.00</td>\n",
       "    </tr>\n",
       "    <tr>\n",
       "      <th>4</th>\n",
       "      <td>0003</td>\n",
       "      <td>cd299184726656597ae2cdb4f4e81e4a</td>\n",
       "      <td>120.00</td>\n",
       "    </tr>\n",
       "  </tbody>\n",
       "</table>\n",
       "</div>"
      ],
      "text/plain": [
       "  stop_id                          feed_key  peak_headway\n",
       "0       0  a42c96ce9df6597edaaea081a44f261a        500.00\n",
       "1    0002  bcbaf48b76d91fc8f19b728ef8d257e7        370.00\n",
       "2    0002  cd299184726656597ae2cdb4f4e81e4a        120.00\n",
       "3    0003  bcbaf48b76d91fc8f19b728ef8d257e7        370.00\n",
       "4    0003  cd299184726656597ae2cdb4f4e81e4a        120.00"
      ]
     },
     "execution_count": 74,
     "metadata": {},
     "output_type": "execute_result"
    }
   ],
   "source": [
    "headways_per_stop.head()"
   ]
  },
  {
   "cell_type": "code",
   "execution_count": 76,
   "id": "3abb60fa-9e0c-4e95-92fa-24f2cb989b16",
   "metadata": {},
   "outputs": [],
   "source": [
    "stop_summary = stop_locations_gdf_ca3.merge(\n",
    "    num_trips_per_stop, on=[\"combo_col\", \"stop_id\"], how=\"left\"\n",
    ").merge(num_routes_per_stop, on=[\"combo_col\", \"stop_id\"], how=\"left\")"
   ]
  },
  {
   "cell_type": "code",
   "execution_count": 77,
   "id": "138c0d2d-dcc1-44f4-a177-f76040b08a9b",
   "metadata": {},
   "outputs": [
    {
     "data": {
      "text/plain": [
       "82754"
      ]
     },
     "execution_count": 77,
     "metadata": {},
     "output_type": "execute_result"
    }
   ],
   "source": [
    "len(stop_summary)"
   ]
  },
  {
   "cell_type": "code",
   "execution_count": 84,
   "id": "fa8aee54-facc-4f9b-a2db-6f9f00d99562",
   "metadata": {},
   "outputs": [],
   "source": [
    "stop_summary2 = stop_summary.merge(\n",
    "        headways_per_stop[[\"feed_key\",\"stop_id\", \"am_peak_headway_minutes\"]],\n",
    "        on=[\"feed_key\",\"stop_id\"],\n",
    "        how=\"left\",\n",
    "        indicator= True\n",
    "    )"
   ]
  },
  {
   "cell_type": "code",
   "execution_count": 85,
   "id": "81a57de8-406c-42ac-994c-e22ed86c24f1",
   "metadata": {},
   "outputs": [
    {
     "data": {
      "text/plain": [
       "left_only     48001\n",
       "both          34753\n",
       "right_only        0\n",
       "Name: _merge, dtype: int64"
      ]
     },
     "execution_count": 85,
     "metadata": {},
     "output_type": "execute_result"
    }
   ],
   "source": [
    "stop_summary2._merge.value_counts()"
   ]
  },
  {
   "cell_type": "code",
   "execution_count": 86,
   "id": "152f7d4f-368b-488d-96ec-23c17c03d9e7",
   "metadata": {},
   "outputs": [
    {
     "data": {
      "text/html": [
       "<div>\n",
       "<style scoped>\n",
       "    .dataframe tbody tr th:only-of-type {\n",
       "        vertical-align: middle;\n",
       "    }\n",
       "\n",
       "    .dataframe tbody tr th {\n",
       "        vertical-align: top;\n",
       "    }\n",
       "\n",
       "    .dataframe thead th {\n",
       "        text-align: right;\n",
       "    }\n",
       "</style>\n",
       "<table border=\"1\" class=\"dataframe\">\n",
       "  <thead>\n",
       "    <tr style=\"text-align: right;\">\n",
       "      <th></th>\n",
       "      <th>index</th>\n",
       "      <th>feed_key</th>\n",
       "      <th>stop_id</th>\n",
       "      <th>geometry</th>\n",
       "      <th>stop_name</th>\n",
       "      <th>stop_code</th>\n",
       "      <th>location_type</th>\n",
       "      <th>stop_desc</th>\n",
       "      <th>combo_col</th>\n",
       "      <th>index_right</th>\n",
       "      <th>OBJECTID</th>\n",
       "      <th>COUNTY_NAME</th>\n",
       "      <th>COUNTY_ABBREV</th>\n",
       "      <th>COUNTY_NUM</th>\n",
       "      <th>COUNTY_CODE</th>\n",
       "      <th>COUNTY_FIPS</th>\n",
       "      <th>ISLAND</th>\n",
       "      <th>Shape__Area</th>\n",
       "      <th>Shape__Length</th>\n",
       "      <th>GlobalID</th>\n",
       "      <th>num_trips</th>\n",
       "      <th>num_routes</th>\n",
       "      <th>am_peak_headway_minutes</th>\n",
       "      <th>_merge</th>\n",
       "    </tr>\n",
       "  </thead>\n",
       "  <tbody>\n",
       "    <tr>\n",
       "      <th>0</th>\n",
       "      <td>0</td>\n",
       "      <td>ace4e22d6f2c299c36eba89ccb650b1b</td>\n",
       "      <td>00eb15cb-1430-4964-b8ae-ca6183e1d0ef</td>\n",
       "      <td>POINT (-119.39065 36.55368)</td>\n",
       "      <td>Grace and Laughter Apartments</td>\n",
       "      <td>None</td>\n",
       "      <td>0.00</td>\n",
       "      <td>Eaton and Saginaw</td>\n",
       "      <td>00eb15cb-1430-4964-b8ae-ca6183e1d0efGrace and Laughter Apartments</td>\n",
       "      <td>53</td>\n",
       "      <td>54</td>\n",
       "      <td>Tulare</td>\n",
       "      <td>TUL</td>\n",
       "      <td>54</td>\n",
       "      <td>54</td>\n",
       "      <td>107</td>\n",
       "      <td>None</td>\n",
       "      <td>19311031190.70</td>\n",
       "      <td>654530.72</td>\n",
       "      <td>709be848-8aac-4cd3-bf13-8b982ede6775</td>\n",
       "      <td>12.00</td>\n",
       "      <td>1.00</td>\n",
       "      <td>157.89</td>\n",
       "      <td>both</td>\n",
       "    </tr>\n",
       "    <tr>\n",
       "      <th>1</th>\n",
       "      <td>1</td>\n",
       "      <td>ace4e22d6f2c299c36eba89ccb650b1b</td>\n",
       "      <td>02a30e39-496f-45d4-ba1c-ac8f3c66b621</td>\n",
       "      <td>POINT (-119.37038 36.54438)</td>\n",
       "      <td>El Monte Way and Randle</td>\n",
       "      <td>None</td>\n",
       "      <td>0.00</td>\n",
       "      <td>Mercantile Row / Old KMart / Amigos Market</td>\n",
       "      <td>02a30e39-496f-45d4-ba1c-ac8f3c66b621El Monte Way and Randle</td>\n",
       "      <td>53</td>\n",
       "      <td>54</td>\n",
       "      <td>Tulare</td>\n",
       "      <td>TUL</td>\n",
       "      <td>54</td>\n",
       "      <td>54</td>\n",
       "      <td>107</td>\n",
       "      <td>None</td>\n",
       "      <td>19311031190.70</td>\n",
       "      <td>654530.72</td>\n",
       "      <td>709be848-8aac-4cd3-bf13-8b982ede6775</td>\n",
       "      <td>36.00</td>\n",
       "      <td>3.00</td>\n",
       "      <td>185.26</td>\n",
       "      <td>both</td>\n",
       "    </tr>\n",
       "    <tr>\n",
       "      <th>2</th>\n",
       "      <td>2</td>\n",
       "      <td>ace4e22d6f2c299c36eba89ccb650b1b</td>\n",
       "      <td>04a2c417-05bf-4f95-bfb6-dd9cec701f11</td>\n",
       "      <td>POINT (-119.39003 36.54091)</td>\n",
       "      <td>Rabobank</td>\n",
       "      <td>None</td>\n",
       "      <td>0.00</td>\n",
       "      <td>Tulare and L</td>\n",
       "      <td>04a2c417-05bf-4f95-bfb6-dd9cec701f11Rabobank</td>\n",
       "      <td>53</td>\n",
       "      <td>54</td>\n",
       "      <td>Tulare</td>\n",
       "      <td>TUL</td>\n",
       "      <td>54</td>\n",
       "      <td>54</td>\n",
       "      <td>107</td>\n",
       "      <td>None</td>\n",
       "      <td>19311031190.70</td>\n",
       "      <td>654530.72</td>\n",
       "      <td>709be848-8aac-4cd3-bf13-8b982ede6775</td>\n",
       "      <td>24.00</td>\n",
       "      <td>2.00</td>\n",
       "      <td>198.95</td>\n",
       "      <td>both</td>\n",
       "    </tr>\n",
       "    <tr>\n",
       "      <th>3</th>\n",
       "      <td>3</td>\n",
       "      <td>ace4e22d6f2c299c36eba89ccb650b1b</td>\n",
       "      <td>05d0285f-813a-4ea9-82e0-3b8d1127e8e0</td>\n",
       "      <td>POINT (-119.33951 36.20220)</td>\n",
       "      <td>Martin Luther King &amp; O St</td>\n",
       "      <td>None</td>\n",
       "      <td>0.00</td>\n",
       "      <td>Land O Lakes</td>\n",
       "      <td>05d0285f-813a-4ea9-82e0-3b8d1127e8e0Martin Luther King &amp; O St</td>\n",
       "      <td>53</td>\n",
       "      <td>54</td>\n",
       "      <td>Tulare</td>\n",
       "      <td>TUL</td>\n",
       "      <td>54</td>\n",
       "      <td>54</td>\n",
       "      <td>107</td>\n",
       "      <td>None</td>\n",
       "      <td>19311031190.70</td>\n",
       "      <td>654530.72</td>\n",
       "      <td>709be848-8aac-4cd3-bf13-8b982ede6775</td>\n",
       "      <td>18.00</td>\n",
       "      <td>1.00</td>\n",
       "      <td>96.77</td>\n",
       "      <td>both</td>\n",
       "    </tr>\n",
       "    <tr>\n",
       "      <th>4</th>\n",
       "      <td>4</td>\n",
       "      <td>ace4e22d6f2c299c36eba89ccb650b1b</td>\n",
       "      <td>07fe70a4-21dd-4bcf-9adf-ed96f0daebbc</td>\n",
       "      <td>POINT (-119.41276 36.54707)</td>\n",
       "      <td>Road 72 and Adeaide Way</td>\n",
       "      <td>None</td>\n",
       "      <td>0.00</td>\n",
       "      <td>Dinuba Dollar Tree</td>\n",
       "      <td>07fe70a4-21dd-4bcf-9adf-ed96f0daebbcRoad 72 and Adeaide Way</td>\n",
       "      <td>53</td>\n",
       "      <td>54</td>\n",
       "      <td>Tulare</td>\n",
       "      <td>TUL</td>\n",
       "      <td>54</td>\n",
       "      <td>54</td>\n",
       "      <td>107</td>\n",
       "      <td>None</td>\n",
       "      <td>19311031190.70</td>\n",
       "      <td>654530.72</td>\n",
       "      <td>709be848-8aac-4cd3-bf13-8b982ede6775</td>\n",
       "      <td>12.00</td>\n",
       "      <td>1.00</td>\n",
       "      <td>157.89</td>\n",
       "      <td>both</td>\n",
       "    </tr>\n",
       "  </tbody>\n",
       "</table>\n",
       "</div>"
      ],
      "text/plain": [
       "   index                          feed_key  \\\n",
       "0      0  ace4e22d6f2c299c36eba89ccb650b1b   \n",
       "1      1  ace4e22d6f2c299c36eba89ccb650b1b   \n",
       "2      2  ace4e22d6f2c299c36eba89ccb650b1b   \n",
       "3      3  ace4e22d6f2c299c36eba89ccb650b1b   \n",
       "4      4  ace4e22d6f2c299c36eba89ccb650b1b   \n",
       "\n",
       "                                stop_id                     geometry  \\\n",
       "0  00eb15cb-1430-4964-b8ae-ca6183e1d0ef  POINT (-119.39065 36.55368)   \n",
       "1  02a30e39-496f-45d4-ba1c-ac8f3c66b621  POINT (-119.37038 36.54438)   \n",
       "2  04a2c417-05bf-4f95-bfb6-dd9cec701f11  POINT (-119.39003 36.54091)   \n",
       "3  05d0285f-813a-4ea9-82e0-3b8d1127e8e0  POINT (-119.33951 36.20220)   \n",
       "4  07fe70a4-21dd-4bcf-9adf-ed96f0daebbc  POINT (-119.41276 36.54707)   \n",
       "\n",
       "                       stop_name stop_code  location_type  \\\n",
       "0  Grace and Laughter Apartments      None           0.00   \n",
       "1        El Monte Way and Randle      None           0.00   \n",
       "2                       Rabobank      None           0.00   \n",
       "3      Martin Luther King & O St      None           0.00   \n",
       "4        Road 72 and Adeaide Way      None           0.00   \n",
       "\n",
       "                                    stop_desc  \\\n",
       "0                           Eaton and Saginaw   \n",
       "1  Mercantile Row / Old KMart / Amigos Market   \n",
       "2                                Tulare and L   \n",
       "3                                Land O Lakes   \n",
       "4                          Dinuba Dollar Tree   \n",
       "\n",
       "                                                           combo_col  \\\n",
       "0  00eb15cb-1430-4964-b8ae-ca6183e1d0efGrace and Laughter Apartments   \n",
       "1        02a30e39-496f-45d4-ba1c-ac8f3c66b621El Monte Way and Randle   \n",
       "2                       04a2c417-05bf-4f95-bfb6-dd9cec701f11Rabobank   \n",
       "3      05d0285f-813a-4ea9-82e0-3b8d1127e8e0Martin Luther King & O St   \n",
       "4        07fe70a4-21dd-4bcf-9adf-ed96f0daebbcRoad 72 and Adeaide Way   \n",
       "\n",
       "   index_right  OBJECTID COUNTY_NAME COUNTY_ABBREV  COUNTY_NUM COUNTY_CODE  \\\n",
       "0           53        54      Tulare           TUL          54          54   \n",
       "1           53        54      Tulare           TUL          54          54   \n",
       "2           53        54      Tulare           TUL          54          54   \n",
       "3           53        54      Tulare           TUL          54          54   \n",
       "4           53        54      Tulare           TUL          54          54   \n",
       "\n",
       "  COUNTY_FIPS ISLAND    Shape__Area  Shape__Length  \\\n",
       "0         107   None 19311031190.70      654530.72   \n",
       "1         107   None 19311031190.70      654530.72   \n",
       "2         107   None 19311031190.70      654530.72   \n",
       "3         107   None 19311031190.70      654530.72   \n",
       "4         107   None 19311031190.70      654530.72   \n",
       "\n",
       "                               GlobalID  num_trips  num_routes  \\\n",
       "0  709be848-8aac-4cd3-bf13-8b982ede6775      12.00        1.00   \n",
       "1  709be848-8aac-4cd3-bf13-8b982ede6775      36.00        3.00   \n",
       "2  709be848-8aac-4cd3-bf13-8b982ede6775      24.00        2.00   \n",
       "3  709be848-8aac-4cd3-bf13-8b982ede6775      18.00        1.00   \n",
       "4  709be848-8aac-4cd3-bf13-8b982ede6775      12.00        1.00   \n",
       "\n",
       "   am_peak_headway_minutes _merge  \n",
       "0                   157.89   both  \n",
       "1                   185.26   both  \n",
       "2                   198.95   both  \n",
       "3                    96.77   both  \n",
       "4                   157.89   both  "
      ]
     },
     "execution_count": 86,
     "metadata": {},
     "output_type": "execute_result"
    }
   ],
   "source": [
    "stop_summary2.head()"
   ]
  },
  {
   "cell_type": "code",
   "execution_count": 90,
   "id": "400d6a85-d60c-4d5b-b42b-25d818f937f0",
   "metadata": {},
   "outputs": [
    {
     "data": {
      "text/plain": [
       "count   40702.00\n",
       "mean        1.36\n",
       "std         0.87\n",
       "min         1.00\n",
       "25%         1.00\n",
       "50%         1.00\n",
       "75%         1.00\n",
       "max        18.00\n",
       "Name: num_routes, dtype: float64"
      ]
     },
     "execution_count": 90,
     "metadata": {},
     "output_type": "execute_result"
    }
   ],
   "source": [
    "stop_summary2.num_routes.describe()"
   ]
  },
  {
   "cell_type": "code",
   "execution_count": 96,
   "id": "e7144bb0-9620-482d-8f62-140131205e39",
   "metadata": {},
   "outputs": [
    {
     "data": {
      "text/plain": [
       "count   40702.00\n",
       "mean       42.51\n",
       "std       860.48\n",
       "min         1.00\n",
       "25%        10.00\n",
       "50%        18.00\n",
       "75%        32.00\n",
       "max     54142.00\n",
       "Name: num_trips, dtype: float64"
      ]
     },
     "execution_count": 96,
     "metadata": {},
     "output_type": "execute_result"
    }
   ],
   "source": [
    "stop_summary2.num_trips.describe()"
   ]
  },
  {
   "cell_type": "code",
   "execution_count": 91,
   "id": "402568f6-a534-4bef-892e-dee8770aa63b",
   "metadata": {},
   "outputs": [
    {
     "data": {
      "text/plain": [
       "count   34753.00\n",
       "mean      172.82\n",
       "std       125.06\n",
       "min         0.01\n",
       "25%        88.39\n",
       "50%       157.89\n",
       "75%       240.00\n",
       "max       500.00\n",
       "Name: am_peak_headway_minutes, dtype: float64"
      ]
     },
     "execution_count": 91,
     "metadata": {},
     "output_type": "execute_result"
    }
   ],
   "source": [
    "stop_summary2.am_peak_headway_minutes.describe()"
   ]
  },
  {
   "cell_type": "code",
   "execution_count": 94,
   "id": "78bde22e-4ad4-4224-9d2c-f98f8592035d",
   "metadata": {},
   "outputs": [
    {
     "data": {
      "text/plain": [
       "0.00570409982174688"
      ]
     },
     "execution_count": 94,
     "metadata": {},
     "output_type": "execute_result"
    }
   ],
   "source": [
    "stop_summary2.am_peak_headway_minutes.min()"
   ]
  },
  {
   "cell_type": "code",
   "execution_count": 87,
   "id": "3ed23694-1c9a-4c6c-a545-8be80cace2b6",
   "metadata": {},
   "outputs": [
    {
     "data": {
      "text/plain": [
       "(82754, 24)"
      ]
     },
     "execution_count": 87,
     "metadata": {},
     "output_type": "execute_result"
    }
   ],
   "source": [
    "stop_summary2.shape"
   ]
  },
  {
   "cell_type": "code",
   "execution_count": 89,
   "id": "1bd9d13b-4581-40d7-8d24-6da76aaef5bc",
   "metadata": {},
   "outputs": [
    {
     "data": {
      "text/plain": [
       "82754"
      ]
     },
     "execution_count": 89,
     "metadata": {},
     "output_type": "execute_result"
    }
   ],
   "source": [
    "stop_locations_gdf_ca3.combo_col.nunique()"
   ]
  },
  {
   "cell_type": "code",
   "execution_count": 88,
   "id": "f9990b41-b90d-4e72-a80d-3c0b8a77cb12",
   "metadata": {},
   "outputs": [
    {
     "data": {
      "text/plain": [
       "(82754, 20)"
      ]
     },
     "execution_count": 88,
     "metadata": {},
     "output_type": "execute_result"
    }
   ],
   "source": [
    "stop_locations_gdf_ca3.shape"
   ]
  },
  {
   "cell_type": "code",
   "execution_count": null,
   "id": "d08a6c8f-961b-4c68-9a17-af046b262cdc",
   "metadata": {
    "tags": []
   },
   "outputs": [],
   "source": [
    "# # Saving geojson file\n",
    "# with tempfile.NamedTemporaryFile(suffix=\".geojson\") as tmp:\n",
    "#     stop_summary_final.to_file(tmp.name, driver=\"GeoJSON\")\n",
    "\n",
    "\n",
    "#     with fsspec.open(f\"{GCS_FILE_PATH}/stop_summary.geojson\", 'w') as f_out:\n",
    "#         with open(tmp.name, 'r') as f_in:\n",
    "#             f_out.write(f_in.read())"
   ]
  }
 ],
 "metadata": {
  "kernelspec": {
   "display_name": "Python 3 (ipykernel)",
   "language": "python",
   "name": "python3"
  },
  "language_info": {
   "codemirror_mode": {
    "name": "ipython",
    "version": 3
   },
   "file_extension": ".py",
   "mimetype": "text/x-python",
   "name": "python",
   "nbconvert_exporter": "python",
   "pygments_lexer": "ipython3",
   "version": "3.11.10"
  }
 },
 "nbformat": 4,
 "nbformat_minor": 5
}
