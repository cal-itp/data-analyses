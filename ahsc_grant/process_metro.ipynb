{
 "cells": [
  {
   "cell_type": "code",
   "execution_count": 1,
   "id": "c1242d30-6f79-4c9a-9fe3-3b131452fd62",
   "metadata": {},
   "outputs": [
    {
     "name": "stderr",
     "output_type": "stream",
     "text": [
      "/opt/conda/lib/python3.10/site-packages/geopandas/_compat.py:112: UserWarning: The Shapely GEOS version (3.10.3-CAPI-1.16.1) is incompatible with the GEOS version PyGEOS was compiled with (3.10.1-CAPI-1.16.0). Conversions between both will be slow.\n",
      "  warnings.warn(\n"
     ]
    }
   ],
   "source": [
    "import os\n",
    "os.environ[\"CALITP_BQ_MAX_BYTES\"] = str(1_000_000_000_000) ## 1TB?\n",
    "\n",
    "from calitp.tables import tbl\n",
    "from calitp import query_sql\n",
    "\n",
    "import pandas as pd\n",
    "import geopandas as gpd\n",
    "from siuba import *\n",
    "\n",
    "import shared_utils"
   ]
  },
  {
   "cell_type": "markdown",
   "id": "c5e879a2-9986-4019-972f-3630f4c57892",
   "metadata": {},
   "source": [
    "# Read In / Transform LA Metro Ridership Data"
   ]
  },
  {
   "cell_type": "code",
   "execution_count": 2,
   "id": "2130c748-3317-45c8-811f-f97c589f5b81",
   "metadata": {},
   "outputs": [],
   "source": [
    "GCS_FILE_PATH = 'gs://calitp-analytics-data/data-analyses/ahsc_grant/'"
   ]
  },
  {
   "cell_type": "code",
   "execution_count": 3,
   "id": "219350d0-0c7e-4f0d-bf15-22d9cb6b6278",
   "metadata": {},
   "outputs": [],
   "source": [
    "mar_metro_raw = pd.read_excel(f'{GCS_FILE_PATH}rider_182_2022_03.xlsx')"
   ]
  },
  {
   "cell_type": "code",
   "execution_count": 4,
   "id": "a2c14016-b082-4221-8880-bde7f7575f98",
   "metadata": {},
   "outputs": [],
   "source": [
    "mar_metro_raw = mar_metro_raw.iloc[:-2,:] # drop leftover rows from Metro's query (not actual data)"
   ]
  },
  {
   "cell_type": "code",
   "execution_count": 5,
   "id": "9f9bff79-daf1-4d6e-819b-b3f6e4c75885",
   "metadata": {},
   "outputs": [
    {
     "data": {
      "text/html": [
       "<div>\n",
       "<style scoped>\n",
       "    .dataframe tbody tr th:only-of-type {\n",
       "        vertical-align: middle;\n",
       "    }\n",
       "\n",
       "    .dataframe tbody tr th {\n",
       "        vertical-align: top;\n",
       "    }\n",
       "\n",
       "    .dataframe thead th {\n",
       "        text-align: right;\n",
       "    }\n",
       "</style>\n",
       "<table border=\"1\" class=\"dataframe\">\n",
       "  <thead>\n",
       "    <tr style=\"text-align: right;\">\n",
       "      <th></th>\n",
       "      <th>YEAR_MONTH</th>\n",
       "      <th>LINE</th>\n",
       "      <th>DIRECTION</th>\n",
       "      <th>DAY_TYPE</th>\n",
       "      <th>STOP_ID</th>\n",
       "      <th>ORDER_NUM</th>\n",
       "      <th>STOP_NAME</th>\n",
       "      <th>STOP_LAT</th>\n",
       "      <th>STOP_LONG</th>\n",
       "      <th>Total_Ons</th>\n",
       "      <th>Total_Offs</th>\n",
       "    </tr>\n",
       "  </thead>\n",
       "  <tbody>\n",
       "    <tr>\n",
       "      <th>0</th>\n",
       "      <td>2022-03</td>\n",
       "      <td>2.0</td>\n",
       "      <td>East</td>\n",
       "      <td>DX</td>\n",
       "      <td>11426.0</td>\n",
       "      <td>1.0</td>\n",
       "      <td>LE CONTE / BROXTON</td>\n",
       "      <td>34.063594</td>\n",
       "      <td>-118.446732</td>\n",
       "      <td>3041.0</td>\n",
       "      <td>130.0</td>\n",
       "    </tr>\n",
       "    <tr>\n",
       "      <th>1</th>\n",
       "      <td>2022-03</td>\n",
       "      <td>2.0</td>\n",
       "      <td>East</td>\n",
       "      <td>DX</td>\n",
       "      <td>2939.0</td>\n",
       "      <td>2.0</td>\n",
       "      <td>LE CONTE / WESTWOOD</td>\n",
       "      <td>34.063623</td>\n",
       "      <td>-118.445005</td>\n",
       "      <td>4974.0</td>\n",
       "      <td>160.0</td>\n",
       "    </tr>\n",
       "    <tr>\n",
       "      <th>2</th>\n",
       "      <td>2022-03</td>\n",
       "      <td>2.0</td>\n",
       "      <td>East</td>\n",
       "      <td>DX</td>\n",
       "      <td>2938.0</td>\n",
       "      <td>3.0</td>\n",
       "      <td>LE CONTE / TIVERTON</td>\n",
       "      <td>34.063664</td>\n",
       "      <td>-118.442602</td>\n",
       "      <td>1062.0</td>\n",
       "      <td>31.0</td>\n",
       "    </tr>\n",
       "  </tbody>\n",
       "</table>\n",
       "</div>"
      ],
      "text/plain": [
       "  YEAR_MONTH  LINE DIRECTION DAY_TYPE  STOP_ID  ORDER_NUM  \\\n",
       "0    2022-03   2.0      East       DX  11426.0        1.0   \n",
       "1    2022-03   2.0      East       DX   2939.0        2.0   \n",
       "2    2022-03   2.0      East       DX   2938.0        3.0   \n",
       "\n",
       "             STOP_NAME   STOP_LAT   STOP_LONG  Total_Ons  Total_Offs  \n",
       "0   LE CONTE / BROXTON  34.063594 -118.446732     3041.0       130.0  \n",
       "1  LE CONTE / WESTWOOD  34.063623 -118.445005     4974.0       160.0  \n",
       "2  LE CONTE / TIVERTON  34.063664 -118.442602     1062.0        31.0  "
      ]
     },
     "execution_count": 5,
     "metadata": {},
     "output_type": "execute_result"
    }
   ],
   "source": [
    "mar_metro_raw >> head(3)"
   ]
  },
  {
   "cell_type": "code",
   "execution_count": 6,
   "id": "14e80b2f-fdfe-48e7-9f14-938e58a3fa55",
   "metadata": {},
   "outputs": [],
   "source": [
    "day_cols = {'DX': 'weekday_ons', 'SA': 'sat_ons', 'SU': 'sun_ons'}\n",
    "\n",
    "mar_metro_grouped = (mar_metro_raw\n",
    "                 >> mutate(STOP_ID = _.STOP_ID.astype('int64').astype(str))\n",
    "                 >> mutate(DAY_TYPE = _.DAY_TYPE.apply(lambda x: day_cols[x]))\n",
    "                 >> group_by(_.STOP_ID, _.DAY_TYPE)\n",
    "                 >> summarize(stop_total_ons = _.Total_Ons.sum())\n",
    "                )"
   ]
  },
  {
   "cell_type": "code",
   "execution_count": 7,
   "id": "26cb1ab3-29d4-4e6c-9479-51ddedc45e40",
   "metadata": {},
   "outputs": [
    {
     "data": {
      "text/html": [
       "<div>\n",
       "<style scoped>\n",
       "    .dataframe tbody tr th:only-of-type {\n",
       "        vertical-align: middle;\n",
       "    }\n",
       "\n",
       "    .dataframe tbody tr th {\n",
       "        vertical-align: top;\n",
       "    }\n",
       "\n",
       "    .dataframe thead th {\n",
       "        text-align: right;\n",
       "    }\n",
       "</style>\n",
       "<table border=\"1\" class=\"dataframe\">\n",
       "  <thead>\n",
       "    <tr style=\"text-align: right;\">\n",
       "      <th></th>\n",
       "      <th>STOP_ID</th>\n",
       "      <th>DAY_TYPE</th>\n",
       "      <th>stop_total_ons</th>\n",
       "    </tr>\n",
       "  </thead>\n",
       "  <tbody>\n",
       "    <tr>\n",
       "      <th>0</th>\n",
       "      <td>1</td>\n",
       "      <td>sat_ons</td>\n",
       "      <td>16.0</td>\n",
       "    </tr>\n",
       "    <tr>\n",
       "      <th>1</th>\n",
       "      <td>1</td>\n",
       "      <td>sun_ons</td>\n",
       "      <td>24.0</td>\n",
       "    </tr>\n",
       "    <tr>\n",
       "      <th>2</th>\n",
       "      <td>1</td>\n",
       "      <td>weekday_ons</td>\n",
       "      <td>214.0</td>\n",
       "    </tr>\n",
       "  </tbody>\n",
       "</table>\n",
       "</div>"
      ],
      "text/plain": [
       "  STOP_ID     DAY_TYPE  stop_total_ons\n",
       "0       1      sat_ons            16.0\n",
       "1       1      sun_ons            24.0\n",
       "2       1  weekday_ons           214.0"
      ]
     },
     "execution_count": 7,
     "metadata": {},
     "output_type": "execute_result"
    }
   ],
   "source": [
    "mar_metro_grouped >> head(3)"
   ]
  },
  {
   "cell_type": "code",
   "execution_count": 8,
   "id": "999f884c-7547-4e85-97ed-808993ad3020",
   "metadata": {},
   "outputs": [],
   "source": [
    "mar_metro_grouped = (mar_metro_grouped\n",
    "                     >> spread(\"DAY_TYPE\", \"stop_total_ons\")\n",
    "                     >> rename(stop_id = _.STOP_ID)\n",
    "                     >> mutate(calitp_itp_id = 182)\n",
    "                    )"
   ]
  },
  {
   "cell_type": "code",
   "execution_count": 9,
   "id": "73f512c2-b782-4dcb-a399-4e271602d17d",
   "metadata": {},
   "outputs": [
    {
     "data": {
      "text/html": [
       "<div>\n",
       "<style scoped>\n",
       "    .dataframe tbody tr th:only-of-type {\n",
       "        vertical-align: middle;\n",
       "    }\n",
       "\n",
       "    .dataframe tbody tr th {\n",
       "        vertical-align: top;\n",
       "    }\n",
       "\n",
       "    .dataframe thead th {\n",
       "        text-align: right;\n",
       "    }\n",
       "</style>\n",
       "<table border=\"1\" class=\"dataframe\">\n",
       "  <thead>\n",
       "    <tr style=\"text-align: right;\">\n",
       "      <th></th>\n",
       "      <th>stop_id</th>\n",
       "      <th>sat_ons</th>\n",
       "      <th>sun_ons</th>\n",
       "      <th>weekday_ons</th>\n",
       "      <th>calitp_itp_id</th>\n",
       "    </tr>\n",
       "  </thead>\n",
       "  <tbody>\n",
       "    <tr>\n",
       "      <th>0</th>\n",
       "      <td>1</td>\n",
       "      <td>16.0</td>\n",
       "      <td>24.0</td>\n",
       "      <td>214.0</td>\n",
       "      <td>182</td>\n",
       "    </tr>\n",
       "    <tr>\n",
       "      <th>1</th>\n",
       "      <td>10000002</td>\n",
       "      <td>20.0</td>\n",
       "      <td>7.0</td>\n",
       "      <td>102.0</td>\n",
       "      <td>182</td>\n",
       "    </tr>\n",
       "    <tr>\n",
       "      <th>2</th>\n",
       "      <td>10012</td>\n",
       "      <td>NaN</td>\n",
       "      <td>NaN</td>\n",
       "      <td>14.0</td>\n",
       "      <td>182</td>\n",
       "    </tr>\n",
       "  </tbody>\n",
       "</table>\n",
       "</div>"
      ],
      "text/plain": [
       "    stop_id  sat_ons  sun_ons  weekday_ons  calitp_itp_id\n",
       "0         1     16.0     24.0        214.0            182\n",
       "1  10000002     20.0      7.0        102.0            182\n",
       "2     10012      NaN      NaN         14.0            182"
      ]
     },
     "execution_count": 9,
     "metadata": {},
     "output_type": "execute_result"
    }
   ],
   "source": [
    "mar_metro_grouped >> head(3)"
   ]
  },
  {
   "cell_type": "code",
   "execution_count": 12,
   "id": "bfd830cc-daf5-4281-900f-1581dc1a77e6",
   "metadata": {},
   "outputs": [
    {
     "data": {
      "text/plain": [
       "12159"
      ]
     },
     "execution_count": 12,
     "metadata": {},
     "output_type": "execute_result"
    }
   ],
   "source": [
    "len(mar_metro_grouped)"
   ]
  },
  {
   "cell_type": "code",
   "execution_count": 10,
   "id": "ec642f49-c8be-446d-905a-301d26263cc8",
   "metadata": {},
   "outputs": [
    {
     "data": {
      "text/plain": [
       "12546"
      ]
     },
     "execution_count": 10,
     "metadata": {},
     "output_type": "execute_result"
    }
   ],
   "source": [
    "metro_stops = shared_utils.gtfs_utils.get_stops('2022-03-15', [182])\n",
    "len(metro_stops)"
   ]
  },
  {
   "cell_type": "code",
   "execution_count": 11,
   "id": "4a341131-f129-42cf-a8ec-275aa184df72",
   "metadata": {},
   "outputs": [
    {
     "data": {
      "text/plain": [
       "12546"
      ]
     },
     "execution_count": 11,
     "metadata": {},
     "output_type": "execute_result"
    }
   ],
   "source": [
    "stops_to_join = metro_stops >> select(_.calitp_itp_id, _.stop_id, _.geometry)\n",
    "len(stops_to_join)"
   ]
  },
  {
   "cell_type": "code",
   "execution_count": 13,
   "id": "757332b4-f738-4c85-bd3b-7cbe1c5d7396",
   "metadata": {},
   "outputs": [],
   "source": [
    "mar_metro_joined = stops_to_join >> full_join(_, mar_metro_grouped, on = ['calitp_itp_id', 'stop_id'])"
   ]
  },
  {
   "cell_type": "code",
   "execution_count": 14,
   "id": "dd0a8b9b-65cf-4623-b019-153a761b53d0",
   "metadata": {},
   "outputs": [
    {
     "name": "stdout",
     "output_type": "stream",
     "text": [
      "<class 'geopandas.geodataframe.GeoDataFrame'>\n",
      "Int64Index: 12552 entries, 0 to 12551\n",
      "Data columns (total 6 columns):\n",
      " #   Column         Non-Null Count  Dtype   \n",
      "---  ------         --------------  -----   \n",
      " 0   calitp_itp_id  12552 non-null  int64   \n",
      " 1   stop_id        12552 non-null  object  \n",
      " 2   geometry       12546 non-null  geometry\n",
      " 3   sat_ons        11749 non-null  float64 \n",
      " 4   sun_ons        11749 non-null  float64 \n",
      " 5   weekday_ons    12157 non-null  float64 \n",
      "dtypes: float64(3), geometry(1), int64(1), object(1)\n",
      "memory usage: 686.4+ KB\n"
     ]
    }
   ],
   "source": [
    "mar_metro_joined.info() # lookin' good!"
   ]
  },
  {
   "cell_type": "code",
   "execution_count": 18,
   "id": "61a213bd-5d96-46e2-b622-fcdeb15883b5",
   "metadata": {},
   "outputs": [
    {
     "data": {
      "text/html": [
       "<div>\n",
       "<style scoped>\n",
       "    .dataframe tbody tr th:only-of-type {\n",
       "        vertical-align: middle;\n",
       "    }\n",
       "\n",
       "    .dataframe tbody tr th {\n",
       "        vertical-align: top;\n",
       "    }\n",
       "\n",
       "    .dataframe thead th {\n",
       "        text-align: right;\n",
       "    }\n",
       "</style>\n",
       "<table border=\"1\" class=\"dataframe\">\n",
       "  <thead>\n",
       "    <tr style=\"text-align: right;\">\n",
       "      <th></th>\n",
       "      <th>calitp_itp_id</th>\n",
       "      <th>stop_id</th>\n",
       "      <th>geometry</th>\n",
       "      <th>sat_ons</th>\n",
       "      <th>sun_ons</th>\n",
       "      <th>weekday_ons</th>\n",
       "    </tr>\n",
       "  </thead>\n",
       "  <tbody>\n",
       "    <tr>\n",
       "      <th>0</th>\n",
       "      <td>182</td>\n",
       "      <td>12118</td>\n",
       "      <td>POINT (-118.28437 34.08156)</td>\n",
       "      <td>9.0</td>\n",
       "      <td>13.0</td>\n",
       "      <td>51.0</td>\n",
       "    </tr>\n",
       "    <tr>\n",
       "      <th>1</th>\n",
       "      <td>182</td>\n",
       "      <td>5636</td>\n",
       "      <td>POINT (-118.29036 33.85010)</td>\n",
       "      <td>10.0</td>\n",
       "      <td>10.0</td>\n",
       "      <td>173.0</td>\n",
       "    </tr>\n",
       "    <tr>\n",
       "      <th>2</th>\n",
       "      <td>182</td>\n",
       "      <td>12933</td>\n",
       "      <td>POINT (-118.53593 34.22100)</td>\n",
       "      <td>129.0</td>\n",
       "      <td>113.0</td>\n",
       "      <td>1875.0</td>\n",
       "    </tr>\n",
       "    <tr>\n",
       "      <th>3</th>\n",
       "      <td>182</td>\n",
       "      <td>13458</td>\n",
       "      <td>POINT (-118.28280 33.94752)</td>\n",
       "      <td>9.0</td>\n",
       "      <td>7.0</td>\n",
       "      <td>73.0</td>\n",
       "    </tr>\n",
       "    <tr>\n",
       "      <th>4</th>\n",
       "      <td>182</td>\n",
       "      <td>2351</td>\n",
       "      <td>POINT (-117.99940 33.88811)</td>\n",
       "      <td>11.0</td>\n",
       "      <td>3.0</td>\n",
       "      <td>65.0</td>\n",
       "    </tr>\n",
       "    <tr>\n",
       "      <th>...</th>\n",
       "      <td>...</td>\n",
       "      <td>...</td>\n",
       "      <td>...</td>\n",
       "      <td>...</td>\n",
       "      <td>...</td>\n",
       "      <td>...</td>\n",
       "    </tr>\n",
       "    <tr>\n",
       "      <th>12547</th>\n",
       "      <td>182</td>\n",
       "      <td>2507</td>\n",
       "      <td>None</td>\n",
       "      <td>0.0</td>\n",
       "      <td>1.0</td>\n",
       "      <td>1.0</td>\n",
       "    </tr>\n",
       "    <tr>\n",
       "      <th>12548</th>\n",
       "      <td>182</td>\n",
       "      <td>2741</td>\n",
       "      <td>None</td>\n",
       "      <td>4.0</td>\n",
       "      <td>3.0</td>\n",
       "      <td>20.0</td>\n",
       "    </tr>\n",
       "    <tr>\n",
       "      <th>12549</th>\n",
       "      <td>182</td>\n",
       "      <td>3034</td>\n",
       "      <td>None</td>\n",
       "      <td>0.0</td>\n",
       "      <td>0.0</td>\n",
       "      <td>2.0</td>\n",
       "    </tr>\n",
       "    <tr>\n",
       "      <th>12550</th>\n",
       "      <td>182</td>\n",
       "      <td>3258</td>\n",
       "      <td>None</td>\n",
       "      <td>5.0</td>\n",
       "      <td>0.0</td>\n",
       "      <td>22.0</td>\n",
       "    </tr>\n",
       "    <tr>\n",
       "      <th>12551</th>\n",
       "      <td>182</td>\n",
       "      <td>3559</td>\n",
       "      <td>None</td>\n",
       "      <td>4.0</td>\n",
       "      <td>0.0</td>\n",
       "      <td>2.0</td>\n",
       "    </tr>\n",
       "  </tbody>\n",
       "</table>\n",
       "<p>12552 rows × 6 columns</p>\n",
       "</div>"
      ],
      "text/plain": [
       "       calitp_itp_id stop_id                     geometry  sat_ons  sun_ons  \\\n",
       "0                182   12118  POINT (-118.28437 34.08156)      9.0     13.0   \n",
       "1                182    5636  POINT (-118.29036 33.85010)     10.0     10.0   \n",
       "2                182   12933  POINT (-118.53593 34.22100)    129.0    113.0   \n",
       "3                182   13458  POINT (-118.28280 33.94752)      9.0      7.0   \n",
       "4                182    2351  POINT (-117.99940 33.88811)     11.0      3.0   \n",
       "...              ...     ...                          ...      ...      ...   \n",
       "12547            182    2507                         None      0.0      1.0   \n",
       "12548            182    2741                         None      4.0      3.0   \n",
       "12549            182    3034                         None      0.0      0.0   \n",
       "12550            182    3258                         None      5.0      0.0   \n",
       "12551            182    3559                         None      4.0      0.0   \n",
       "\n",
       "       weekday_ons  \n",
       "0             51.0  \n",
       "1            173.0  \n",
       "2           1875.0  \n",
       "3             73.0  \n",
       "4             65.0  \n",
       "...            ...  \n",
       "12547          1.0  \n",
       "12548         20.0  \n",
       "12549          2.0  \n",
       "12550         22.0  \n",
       "12551          2.0  \n",
       "\n",
       "[12552 rows x 6 columns]"
      ]
     },
     "execution_count": 18,
     "metadata": {},
     "output_type": "execute_result"
    }
   ],
   "source": [
    "# about 400 stops in 3/15 stops data that aren't associated with Mar ridership; fill with 0\n",
    "values = {\"sat_ons\": 0, \"sun_ons\": 0, \"weekday_ons\": 0}\n",
    "mar_metro_joined.fillna(value=values)"
   ]
  },
  {
   "cell_type": "code",
   "execution_count": 19,
   "id": "97507dd9-b1e6-4057-8ef6-8d6801e834e3",
   "metadata": {},
   "outputs": [
    {
     "data": {
      "text/plain": [
       "\u001b[0;31mSignature:\u001b[0m\n",
       "\u001b[0mshared_utils\u001b[0m\u001b[0;34m.\u001b[0m\u001b[0mutils\u001b[0m\u001b[0;34m.\u001b[0m\u001b[0mgeoparquet_gcs_export\u001b[0m\u001b[0;34m(\u001b[0m\u001b[0;34m\u001b[0m\n",
       "\u001b[0;34m\u001b[0m    \u001b[0mgdf\u001b[0m\u001b[0;34m:\u001b[0m \u001b[0mgeopandas\u001b[0m\u001b[0;34m.\u001b[0m\u001b[0mgeodataframe\u001b[0m\u001b[0;34m.\u001b[0m\u001b[0mGeoDataFrame\u001b[0m\u001b[0;34m,\u001b[0m\u001b[0;34m\u001b[0m\n",
       "\u001b[0;34m\u001b[0m    \u001b[0mGCS_FILE_PATH\u001b[0m\u001b[0;34m:\u001b[0m \u001b[0mstr\u001b[0m\u001b[0;34m,\u001b[0m\u001b[0;34m\u001b[0m\n",
       "\u001b[0;34m\u001b[0m    \u001b[0mFILE_NAME\u001b[0m\u001b[0;34m:\u001b[0m \u001b[0mstr\u001b[0m\u001b[0;34m,\u001b[0m\u001b[0;34m\u001b[0m\n",
       "\u001b[0;34m\u001b[0m\u001b[0;34m)\u001b[0m\u001b[0;34m\u001b[0m\u001b[0;34m\u001b[0m\u001b[0m\n",
       "\u001b[0;31mDocstring:\u001b[0m\n",
       "Save geodataframe as parquet locally,\n",
       "then move to GCS bucket and delete local file.\n",
       "\n",
       "gdf: geopandas.GeoDataFrame\n",
       "GCS_FILE_PATH: str. Ex: gs://calitp-analytics-data/data-analyses/my-folder/\n",
       "FILE_NAME: str. Filename.\n",
       "\u001b[0;31mFile:\u001b[0m      ~/data-analyses/_shared_utils/shared_utils/utils.py\n",
       "\u001b[0;31mType:\u001b[0m      function\n"
      ]
     },
     "metadata": {},
     "output_type": "display_data"
    }
   ],
   "source": [
    "shared_utils.utils.geoparquet_gcs_export?"
   ]
  },
  {
   "cell_type": "code",
   "execution_count": 20,
   "id": "b18868a7-ad6d-4ff9-b0fd-c74448acc934",
   "metadata": {},
   "outputs": [],
   "source": [
    "shared_utils.utils.geoparquet_gcs_export(mar_metro_joined, GCS_FILE_PATH, 'rider_cleaned_182_2022_03.parquet')"
   ]
  },
  {
   "cell_type": "code",
   "execution_count": null,
   "id": "6404b018-8307-4685-aa0e-6afea15080c7",
   "metadata": {},
   "outputs": [],
   "source": []
  }
 ],
 "metadata": {
  "kernelspec": {
   "display_name": "Python 3 (ipykernel)",
   "language": "python",
   "name": "python3"
  },
  "language_info": {
   "codemirror_mode": {
    "name": "ipython",
    "version": 3
   },
   "file_extension": ".py",
   "mimetype": "text/x-python",
   "name": "python",
   "nbconvert_exporter": "python",
   "pygments_lexer": "ipython3",
   "version": "3.10.5"
  }
 },
 "nbformat": 4,
 "nbformat_minor": 5
}
