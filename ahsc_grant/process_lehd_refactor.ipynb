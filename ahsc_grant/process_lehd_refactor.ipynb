{
 "cells": [
  {
   "cell_type": "code",
   "execution_count": 1,
   "id": "092a77f2-64b2-4de5-9eb3-45ab44dd6751",
   "metadata": {
    "tags": []
   },
   "outputs": [],
   "source": [
    "import os\n",
    "os.environ[\"CALITP_BQ_MAX_BYTES\"] = str(800_000_000_000)\n",
    "\n",
    "import shared_utils\n",
    "import pandas as pd\n",
    "import geopandas as gpd\n",
    "\n",
    "import gcsfs\n",
    "from calitp_data_analysis import get_fs\n",
    "from calitp_data_analysis import geography_utils, utils\n",
    "fs = get_fs()\n",
    "import re\n",
    "import google.auth\n",
    "import os\n",
    "import gcsfs\n",
    "credentials, project = google.auth.default()\n",
    "fs = gcsfs.GCSFileSystem()"
   ]
  },
  {
   "cell_type": "code",
   "execution_count": null,
   "id": "e8fa3c35-7db6-4856-a0cd-61d1517a0dd7",
   "metadata": {},
   "outputs": [],
   "source": [
    "pd.options.display.max_columns = 100\n",
    "pd.options.display.float_format = \"{:.2f}\".format\n",
    "pd.set_option(\"display.max_rows\", None)\n",
    "pd.set_option(\"display.max_colwidth\", None)"
   ]
  },
  {
   "cell_type": "code",
   "execution_count": null,
   "id": "403b3f09-7881-4d1b-a31d-6c99a34fc982",
   "metadata": {},
   "outputs": [],
   "source": [
    "GCS_FILE_PATH  = 'gs://calitp-analytics-data/data-analyses/ahsc_grant/'"
   ]
  },
  {
   "cell_type": "code",
   "execution_count": null,
   "id": "1b062163-8b62-4dec-8a0a-0edd514c4865",
   "metadata": {},
   "outputs": [],
   "source": [
    "job_density_prv = pd.read_csv(f\"{GCS_FILE_PATH}Job Density Raw File Private.csv\")"
   ]
  },
  {
   "cell_type": "code",
   "execution_count": null,
   "id": "7ae6a36d-844c-4e92-95de-f6b7bcafcf2b",
   "metadata": {},
   "outputs": [],
   "source": [
    "job_density_tot = pd.read_csv(f\"{GCS_FILE_PATH}Job Density Raw File Total.csv\")"
   ]
  },
  {
   "cell_type": "code",
   "execution_count": null,
   "id": "b7fe33a9-165a-4b93-a714-81615c182a1a",
   "metadata": {},
   "outputs": [],
   "source": [
    "job_density_prv = job_density_prv.rename(columns={'C000': 'jobs_prv'})\n",
    "job_density_tot = job_density_tot.rename(columns={'C000': 'jobs_tot'})"
   ]
  },
  {
   "cell_type": "code",
   "execution_count": null,
   "id": "fab55900-24f6-4172-a92f-874341cd41fc",
   "metadata": {},
   "outputs": [],
   "source": [
    "job_density_prv.info()"
   ]
  },
  {
   "cell_type": "code",
   "execution_count": null,
   "id": "a5b4ef5a-220e-4aba-aa3c-417709afa3f7",
   "metadata": {},
   "outputs": [],
   "source": [
    "job_density_tot.info()"
   ]
  },
  {
   "cell_type": "code",
   "execution_count": null,
   "id": "1e63f8e5-a3e0-4f49-b057-8036baf38aab",
   "metadata": {},
   "outputs": [],
   "source": [
    "merged_df = pd.merge(\n",
    "    job_density_tot,\n",
    "    job_density_prv[['w_geocode', 'jobs_prv']],\n",
    "    on='w_geocode',\n",
    "    how='left'\n",
    ")"
   ]
  },
  {
   "cell_type": "code",
   "execution_count": null,
   "id": "77b5f65a-7079-4b05-8cdb-cea0aec812bc",
   "metadata": {},
   "outputs": [],
   "source": [
    "#Sort by GEOID\n",
    "merged_df = merged_df.sort_values(by='w_geocode')\n",
    "\n",
    "#Create jobs_fed = jobs_total - jobs_prv\n",
    "merged_df['jobs_fed'] = merged_df['jobs_tot'] - merged_df['jobs_prv']\n"
   ]
  },
  {
   "cell_type": "code",
   "execution_count": null,
   "id": "a95c452e-ecbf-434f-a202-f4c642b70638",
   "metadata": {},
   "outputs": [],
   "source": [
    "merged_df['GEOID'] = merged_df['w_geocode'].astype(str).str.zfill(15).str[:11]"
   ]
  },
  {
   "cell_type": "code",
   "execution_count": null,
   "id": "1aef57f6-b2d7-4fa5-8445-63a04d0718f1",
   "metadata": {},
   "outputs": [],
   "source": [
    "grouped_df = merged_df.groupby('GEOID', as_index=False).agg({\n",
    "    'jobs_tot': 'sum',\n",
    "    'jobs_prv': 'sum',\n",
    "    'jobs_fed': 'sum',\n",
    "    'year': 'first'\n",
    "})"
   ]
  },
  {
   "cell_type": "code",
   "execution_count": null,
   "id": "c932b790-c532-4ee9-8c15-c3fe290a9307",
   "metadata": {},
   "outputs": [],
   "source": [
    "def export_gdf(gdf, filename: str):\n",
    "    \n",
    "    gdf.to_parquet(f\"{filename}.parquet\")\n",
    "    \n",
    "    fs.put(\n",
    "        f\"{filename}.parquet\",\n",
    "        f\"{GCS_FILE_PATH}/{filename}.parquet\",\n",
    "        token = credentials.token\n",
    "    )\n",
    "    \n",
    "    os.remove(f\"{filename}.parquet\")\n",
    "    print(f\"saved {GCS_FILE_PATH}/{filename}.parquet\")\n",
    "    \n",
    "    return"
   ]
  },
  {
   "cell_type": "code",
   "execution_count": null,
   "id": "54686340-bb8c-41eb-8ca2-cb53d93228be",
   "metadata": {},
   "outputs": [],
   "source": [
    "export_gdf(grouped_df, \"job_density_2022\")"
   ]
  }
 ],
 "metadata": {
  "kernelspec": {
   "display_name": "Python 3 (ipykernel)",
   "language": "python",
   "name": "python3"
  },
  "language_info": {
   "codemirror_mode": {
    "name": "ipython",
    "version": 3
   },
   "file_extension": ".py",
   "mimetype": "text/x-python",
   "name": "python",
   "nbconvert_exporter": "python",
   "pygments_lexer": "ipython3",
   "version": "3.11.10"
  }
 },
 "nbformat": 4,
 "nbformat_minor": 5
}
