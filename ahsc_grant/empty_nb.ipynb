{
 "cells": [
  {
   "cell_type": "markdown",
   "id": "7667fa5f-0ab4-4dbe-8d29-1cb9ed202057",
   "metadata": {},
   "source": [
    "# Link to Tool "
   ]
  },
  {
   "cell_type": "markdown",
   "id": "10365fd5-a246-46a2-b471-dc81f7501394",
   "metadata": {},
   "source": [
    "[AHSC Ridership Prediction Tool](https://dashboards.calitp.org/public/dashboard/01fb85e3-625d-4d77-9da7-565dd218bb16?agency_name=&route_name=&number_of_additional_trips_-_weekday=0&number_of_additional_trips_-_saturday=0&number_of_additional_trips_-_sunday=0)"
   ]
  }
 ],
 "metadata": {
  "kernelspec": {
   "display_name": "Python 3 (ipykernel)",
   "language": "python",
   "name": "python3"
  },
  "language_info": {
   "codemirror_mode": {
    "name": "ipython",
    "version": 3
   },
   "file_extension": ".py",
   "mimetype": "text/x-python",
   "name": "python",
   "nbconvert_exporter": "python",
   "pygments_lexer": "ipython3",
   "version": "3.9.13"
  }
 },
 "nbformat": 4,
 "nbformat_minor": 5
}
