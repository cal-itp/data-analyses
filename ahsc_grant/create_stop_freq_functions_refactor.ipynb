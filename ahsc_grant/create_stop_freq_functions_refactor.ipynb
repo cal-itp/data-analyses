{
 "cells": [
  {
   "cell_type": "code",
   "execution_count": 1,
   "id": "ee2ba40b-4161-4c48-8832-e9e9fd4e8cd9",
   "metadata": {},
   "outputs": [],
   "source": [
    "import os\n",
    "os.environ[\"CALITP_BQ_MAX_BYTES\"] = str(800_000_000_000)\n",
    "\n",
    "import branca\n",
    "import folium\n",
    "from shared_utils import gtfs_utils_v2\n",
    "\n",
    "from siuba import *\n",
    "import pandas as pd\n",
    "import geopandas as gpd \n",
    "\n",
    "import datetime as dt\n",
    "import time"
   ]
  },
  {
   "cell_type": "code",
   "execution_count": 2,
   "id": "c8d6eb71-6600-4031-a674-a2bf9797994e",
   "metadata": {},
   "outputs": [],
   "source": [
    "# Creating function for datacheck\n",
    "def analyze_dataset(df):\n",
    "    #Number of rows and columns\n",
    "    num_rows, num_cols = df.shape \n",
    "    print(f\"Number of rows: {num_rows}, Number of columns: {num_cols}\")\n",
    "    print()\n",
    "    \n",
    "    # Print column names \n",
    "    column_names = df.columns.tolist()\n",
    "    print(f\"Column names: \\n{column_names}\\n\")\n",
    "    \n",
    "    #Print data type\n",
    "    print(\"Data type:\")\n",
    "    print(type(df))\n",
    "    print()\n",
    "          \n",
    "    # Print data types\n",
    "    print(\"Data types:\")\n",
    "    print(df.dtypes)\n",
    "    print()\n",
    "          \n",
    "    # Check for duplicates\n",
    "    duplicate_rows = df[df.duplicated()]\n",
    "    if not duplicate_rows.empty:\n",
    "          print(\"Duplicate rows:\")\n",
    "          print(duplicate_rows)\n",
    "          print()\n",
    "    else:\n",
    "        print(\"No duplicate rows found \\n\")\n",
    "            \n",
    "    # Print first 3 words \n",
    "    print(\"First 3 rows:\")\n",
    "    display(df.head(3))\n",
    "    print()"
   ]
  },
  {
   "cell_type": "code",
   "execution_count": 3,
   "id": "b8871145-9352-4745-b56c-87c7b736c0db",
   "metadata": {},
   "outputs": [],
   "source": [
    "#Creating function to get feed data based on operator types and analysis date \n",
    "def feeds_data(selected_agency, selected_date):\n",
    "    feeds = gtfs_utils_v2.schedule_daily_feed_to_gtfs_dataset_name(selected_date=selected_date)\n",
    "    \n",
    "    def select_by_agency(df, column, value):\n",
    "        selected_df = df[df[column].str.contains(value)].copy()\n",
    "        return selected_df\n",
    "    \n",
    "    selected_feeds = select_by_agency(feeds, 'name', selected_agency)\n",
    "       \n",
    "    return selected_feeds \n",
    "    "
   ]
  },
  {
   "cell_type": "code",
   "execution_count": 4,
   "id": "e1af74cb-68de-4a48-87b3-a3d20ef972f0",
   "metadata": {},
   "outputs": [],
   "source": [
    "#Analysis dates \n",
    "analysis_dt = dt.date(2022,6,1)\n",
    "analysis_sat = dt.date(2022,6,4)\n",
    "analysis_sun = dt.date(2022,6,5)"
   ]
  },
  {
   "cell_type": "code",
   "execution_count": null,
   "id": "7348c6a6-df2f-4724-9050-263e03afc98b",
   "metadata": {},
   "outputs": [],
   "source": []
  }
 ],
 "metadata": {
  "kernelspec": {
   "display_name": "Python 3 (ipykernel)",
   "language": "python",
   "name": "python3"
  },
  "language_info": {
   "codemirror_mode": {
    "name": "ipython",
    "version": 3
   },
   "file_extension": ".py",
   "mimetype": "text/x-python",
   "name": "python",
   "nbconvert_exporter": "python",
   "pygments_lexer": "ipython3",
   "version": "3.9.13"
  }
 },
 "nbformat": 4,
 "nbformat_minor": 5
}
