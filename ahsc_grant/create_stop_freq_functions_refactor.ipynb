{
 "cells": [
  {
   "cell_type": "code",
   "execution_count": 1,
   "id": "ee2ba40b-4161-4c48-8832-e9e9fd4e8cd9",
   "metadata": {},
   "outputs": [],
   "source": [
    "import os\n",
    "os.environ[\"CALITP_BQ_MAX_BYTES\"] = str(800_000_000_000)\n",
    "\n",
    "import branca\n",
    "import folium\n",
    "from shared_utils import gtfs_utils_v2\n",
    "\n",
    "from siuba import *\n",
    "import pandas as pd\n",
    "import geopandas as gpd \n",
    "\n",
    "import datetime as dt\n",
    "import time"
   ]
  },
  {
   "cell_type": "code",
   "execution_count": 2,
   "id": "c8d6eb71-6600-4031-a674-a2bf9797994e",
   "metadata": {},
   "outputs": [],
   "source": [
    "# Creating function for datacheck\n",
    "def analyze_dataset(df):\n",
    "    #Number of rows and columns\n",
    "    num_rows, num_cols = df.shape \n",
    "    print(f\"Number of rows: {num_rows}, Number of columns: {num_cols}\")\n",
    "    print()\n",
    "    \n",
    "    # Print column names \n",
    "    column_names = df.columns.tolist()\n",
    "    print(f\"Column names: \\n{column_names}\\n\")\n",
    "    \n",
    "    #Print data type\n",
    "    print(\"Data type:\")\n",
    "    print(type(df))\n",
    "    print()\n",
    "          \n",
    "    # Print data types\n",
    "    print(\"Data types:\")\n",
    "    print(df.dtypes)\n",
    "    print()\n",
    "          \n",
    "    # Check for duplicates\n",
    "    duplicate_rows = df[df.duplicated()]\n",
    "    if not duplicate_rows.empty:\n",
    "          print(\"Duplicate rows:\")\n",
    "          print(duplicate_rows)\n",
    "          print()\n",
    "    else:\n",
    "        print(\"No duplicate rows found \\n\")\n",
    "            \n",
    "    # Print first 3 words \n",
    "    print(\"First 3 rows:\")\n",
    "    display(df.head(3))\n",
    "    print()"
   ]
  },
  {
   "cell_type": "code",
   "execution_count": 3,
   "id": "e1af74cb-68de-4a48-87b3-a3d20ef972f0",
   "metadata": {
    "jupyter": {
     "source_hidden": true
    },
    "tags": []
   },
   "outputs": [],
   "source": [
    "#Analysis dates \n",
    "analysis_dt = dt.date(2022,6,1)\n",
    "analysis_sat = dt.date(2022,6,4)\n",
    "analysis_sun = dt.date(2022,6,5)"
   ]
  },
  {
   "cell_type": "code",
   "execution_count": 49,
   "id": "7348c6a6-df2f-4724-9050-263e03afc98b",
   "metadata": {},
   "outputs": [],
   "source": [
    "#Function to fetch feeds, trips, stops and stoptimes data from gtfs warehouse v2\n",
    "def get_feeds_trips_stops_data(selected_agency, selected_date):\n",
    "    \n",
    "    trip_cols = [\"name\", \"gtfs_dataset_key\", \"feed_key\", \"trip_id\", \"route_id\", \"route_type\"]\n",
    "    stoptimes_cols = [\"key\", \"_gtfs_key\", \"feed_key\", \"trip_id\", \"stop_id\"]\n",
    "    stop_cols = [\"key\", \"service_date\", \"feed_key\", \"stop_id\", \"geometry\", \"stop_name\", \"stop_code\", \"location_type\"]\n",
    "    \n",
    "    feeds = gtfs_utils_v2.schedule_daily_feed_to_gtfs_dataset_name(selected_date=selected_date)\n",
    "    \n",
    "    def select_by_agency(df, column, value):\n",
    "        selected_df = df[df[column].str.contains(value)].copy()\n",
    "        return selected_df\n",
    "    \n",
    "    feed_data = select_by_agency(feeds, 'name', selected_agency)\n",
    "    \n",
    "    if feed_data.empty:\n",
    "        raise ValueError(f\"No feeds data found for agency '{selected_agency}' on {selected_date}.\")\n",
    "        \n",
    "    \n",
    "    feed_key_list = feed_data['feed_key'].tolist()\n",
    "    \n",
    "    trips_data_list = []\n",
    "    for feed_key in feed_key_list:\n",
    "        trips = gtfs_utils_v2.get_trips(selected_date=selected_date, operator_feeds=[feed_key])[trip_cols]\n",
    "        trips_data_list.append(trips)\n",
    "        \n",
    "    trips_data = pd.concat(trips_data_list, ignore_index=True)\n",
    "        \n",
    "    stoptimes_data_list = []\n",
    "    for feed_key in feed_key_list:\n",
    "        stoptimes = gtfs_utils_v2.get_stop_times(selected_date=selected_date, operator_feeds=[feed_key], \n",
    "                                           trip_df = trips_data, get_df= True)[stoptimes_cols]\n",
    "    stoptimes_data_list.append(stoptimes)\n",
    "        \n",
    "    stoptimes_data = pd.concat(stoptimes_data_list, ignore_index=True)\n",
    "    \n",
    "    stop_locations_gdf = gpd.GeoDataFrame()\n",
    "    for feed_key in feed_key_list:\n",
    "        stops_gdf = gtfs_utils_v2.get_stops(selected_date=selected_date, operator_feeds=[feed_key])[stop_cols]\n",
    "        \n",
    "    stop_locations_gdf = pd.concat([stop_locations_gdf, stops_gdf], ignore_index=True)\n",
    "\n",
    "    \n",
    "    return feed_data, trips_data, stoptimes_data, stop_locations_gdf\n",
    "    "
   ]
  },
  {
   "cell_type": "code",
   "execution_count": 50,
   "id": "77632355-ab2e-4635-bd68-9b970a95fcc7",
   "metadata": {},
   "outputs": [
    {
     "name": "stderr",
     "output_type": "stream",
     "text": [
      "/opt/conda/lib/python3.9/site-packages/sqlalchemy_bigquery/_types.py:101: SAWarning: Did not recognize type 'INTERVAL' of column 'arrival_time_interval'\n",
      "  sqlalchemy.util.warn(\n",
      "/opt/conda/lib/python3.9/site-packages/sqlalchemy_bigquery/_types.py:101: SAWarning: Did not recognize type 'INTERVAL' of column 'departure_time_interval'\n",
      "  sqlalchemy.util.warn(\n",
      "/opt/conda/lib/python3.9/site-packages/sqlalchemy_bigquery/_types.py:101: SAWarning: Did not recognize type 'INTERVAL' of column 'start_pickup_drop_off_window_interval'\n",
      "  sqlalchemy.util.warn(\n",
      "/opt/conda/lib/python3.9/site-packages/sqlalchemy_bigquery/_types.py:101: SAWarning: Did not recognize type 'INTERVAL' of column 'end_pickup_drop_off_window_interval'\n",
      "  sqlalchemy.util.warn(\n",
      "/opt/conda/lib/python3.9/site-packages/sqlalchemy_bigquery/_types.py:101: SAWarning: Did not recognize type 'INTERVAL' of column 'arrival_time_interval'\n",
      "  sqlalchemy.util.warn(\n",
      "/opt/conda/lib/python3.9/site-packages/sqlalchemy_bigquery/_types.py:101: SAWarning: Did not recognize type 'INTERVAL' of column 'departure_time_interval'\n",
      "  sqlalchemy.util.warn(\n",
      "/opt/conda/lib/python3.9/site-packages/sqlalchemy_bigquery/_types.py:101: SAWarning: Did not recognize type 'INTERVAL' of column 'start_pickup_drop_off_window_interval'\n",
      "  sqlalchemy.util.warn(\n",
      "/opt/conda/lib/python3.9/site-packages/sqlalchemy_bigquery/_types.py:101: SAWarning: Did not recognize type 'INTERVAL' of column 'end_pickup_drop_off_window_interval'\n",
      "  sqlalchemy.util.warn(\n",
      "/opt/conda/lib/python3.9/site-packages/sqlalchemy_bigquery/_types.py:101: SAWarning: Did not recognize type 'GEOGRAPHY' of column 'pt_geom'\n",
      "  sqlalchemy.util.warn(\n",
      "/opt/conda/lib/python3.9/site-packages/sqlalchemy_bigquery/_types.py:101: SAWarning: Did not recognize type 'GEOGRAPHY' of column 'pt_geom'\n",
      "  sqlalchemy.util.warn(\n",
      "/opt/conda/lib/python3.9/site-packages/sqlalchemy_bigquery/_types.py:101: SAWarning: Did not recognize type 'INTERVAL' of column 'arrival_time_interval'\n",
      "  sqlalchemy.util.warn(\n",
      "/opt/conda/lib/python3.9/site-packages/sqlalchemy_bigquery/_types.py:101: SAWarning: Did not recognize type 'INTERVAL' of column 'departure_time_interval'\n",
      "  sqlalchemy.util.warn(\n",
      "/opt/conda/lib/python3.9/site-packages/sqlalchemy_bigquery/_types.py:101: SAWarning: Did not recognize type 'INTERVAL' of column 'start_pickup_drop_off_window_interval'\n",
      "  sqlalchemy.util.warn(\n",
      "/opt/conda/lib/python3.9/site-packages/sqlalchemy_bigquery/_types.py:101: SAWarning: Did not recognize type 'INTERVAL' of column 'end_pickup_drop_off_window_interval'\n",
      "  sqlalchemy.util.warn(\n",
      "/opt/conda/lib/python3.9/site-packages/sqlalchemy_bigquery/_types.py:101: SAWarning: Did not recognize type 'INTERVAL' of column 'arrival_time_interval'\n",
      "  sqlalchemy.util.warn(\n",
      "/opt/conda/lib/python3.9/site-packages/sqlalchemy_bigquery/_types.py:101: SAWarning: Did not recognize type 'INTERVAL' of column 'departure_time_interval'\n",
      "  sqlalchemy.util.warn(\n",
      "/opt/conda/lib/python3.9/site-packages/sqlalchemy_bigquery/_types.py:101: SAWarning: Did not recognize type 'INTERVAL' of column 'start_pickup_drop_off_window_interval'\n",
      "  sqlalchemy.util.warn(\n",
      "/opt/conda/lib/python3.9/site-packages/sqlalchemy_bigquery/_types.py:101: SAWarning: Did not recognize type 'INTERVAL' of column 'end_pickup_drop_off_window_interval'\n",
      "  sqlalchemy.util.warn(\n",
      "/opt/conda/lib/python3.9/site-packages/sqlalchemy_bigquery/_types.py:101: SAWarning: Did not recognize type 'GEOGRAPHY' of column 'pt_geom'\n",
      "  sqlalchemy.util.warn(\n",
      "/opt/conda/lib/python3.9/site-packages/sqlalchemy_bigquery/_types.py:101: SAWarning: Did not recognize type 'GEOGRAPHY' of column 'pt_geom'\n",
      "  sqlalchemy.util.warn(\n",
      "/opt/conda/lib/python3.9/site-packages/sqlalchemy_bigquery/_types.py:101: SAWarning: Did not recognize type 'INTERVAL' of column 'arrival_time_interval'\n",
      "  sqlalchemy.util.warn(\n",
      "/opt/conda/lib/python3.9/site-packages/sqlalchemy_bigquery/_types.py:101: SAWarning: Did not recognize type 'INTERVAL' of column 'departure_time_interval'\n",
      "  sqlalchemy.util.warn(\n",
      "/opt/conda/lib/python3.9/site-packages/sqlalchemy_bigquery/_types.py:101: SAWarning: Did not recognize type 'INTERVAL' of column 'start_pickup_drop_off_window_interval'\n",
      "  sqlalchemy.util.warn(\n",
      "/opt/conda/lib/python3.9/site-packages/sqlalchemy_bigquery/_types.py:101: SAWarning: Did not recognize type 'INTERVAL' of column 'end_pickup_drop_off_window_interval'\n",
      "  sqlalchemy.util.warn(\n",
      "/opt/conda/lib/python3.9/site-packages/sqlalchemy_bigquery/_types.py:101: SAWarning: Did not recognize type 'INTERVAL' of column 'arrival_time_interval'\n",
      "  sqlalchemy.util.warn(\n",
      "/opt/conda/lib/python3.9/site-packages/sqlalchemy_bigquery/_types.py:101: SAWarning: Did not recognize type 'INTERVAL' of column 'departure_time_interval'\n",
      "  sqlalchemy.util.warn(\n",
      "/opt/conda/lib/python3.9/site-packages/sqlalchemy_bigquery/_types.py:101: SAWarning: Did not recognize type 'INTERVAL' of column 'start_pickup_drop_off_window_interval'\n",
      "  sqlalchemy.util.warn(\n",
      "/opt/conda/lib/python3.9/site-packages/sqlalchemy_bigquery/_types.py:101: SAWarning: Did not recognize type 'INTERVAL' of column 'end_pickup_drop_off_window_interval'\n",
      "  sqlalchemy.util.warn(\n",
      "/opt/conda/lib/python3.9/site-packages/sqlalchemy_bigquery/_types.py:101: SAWarning: Did not recognize type 'GEOGRAPHY' of column 'pt_geom'\n",
      "  sqlalchemy.util.warn(\n",
      "/opt/conda/lib/python3.9/site-packages/sqlalchemy_bigquery/_types.py:101: SAWarning: Did not recognize type 'GEOGRAPHY' of column 'pt_geom'\n",
      "  sqlalchemy.util.warn(\n"
     ]
    }
   ],
   "source": [
    "metro_weekday_feeds_data, metro_weekday_trips_data, metro_weekday_stoptimes_data, metro_weekday_stopsdata = get_feeds_trips_stops_data('LA Metro', analysis_dt)\n",
    "metro_sun_feeds_data, metro_sun_trips_data, metro_sun_stoptimes_data, metro_sun_stopsdata = get_feeds_trips_stops_data('LA Metro', analysis_sun)\n",
    "metro_sat_feeds_data, metro_sat_trips_data, metro_sat_stoptimes_data, metro_sat_stopsdata = get_feeds_trips_stops_data('LA Metro', analysis_sat)"
   ]
  },
  {
   "cell_type": "code",
   "execution_count": 30,
   "id": "46c85ee8-85b7-466a-9303-459dbe2eef05",
   "metadata": {},
   "outputs": [],
   "source": [
    "#Function to merge stops and trips and aggregate by route type and stop id\n",
    "def merge_and_aggregate_stops_and_trips(stoptimes_data, trips_data, agg_prefix=''):\n",
    "    on_cols = [\"trip_id\", \"feed_key\"]\n",
    "    how = 'left'\n",
    "    joined_df = pd.merge(stoptimes_data, trips_data, on=on_cols, how=how, suffixes=('_stops','_trips'))\n",
    "    \n",
    "    groupby_cols=['route_type', 'stop_id']\n",
    "    agg_cols={\n",
    "        f'n_trips_{agg_prefix}': ('trip_id', 'nunique'),\n",
    "        f'n_routes_{agg_prefix}': ('route_id', 'nunique')\n",
    "}\n",
    "    aggregated_data = joined_df.groupby(groupby_cols).agg(**agg_cols).reset_index()\n",
    "    return aggregated_data                       "
   ]
  },
  {
   "cell_type": "code",
   "execution_count": 33,
   "id": "efea70b8-7b54-4fcb-b951-e4768d1997c5",
   "metadata": {
    "tags": []
   },
   "outputs": [],
   "source": [
    "metro_stop_times_weekday = merge_and_aggregate_stops_and_trips(metro_weekday_trips_data, metro_weekday_stoptimes_data, agg_prefix='weekday_' )\n",
    "metro_stop_times_sunday = merge_and_aggregate_stops_and_trips(metro_sun_trips_data, metro_sun_stoptimes_data, agg_prefix='sunday_')\n",
    "metro_stop_times_saturday = merge_and_aggregate_stops_and_trips(metro_sat_trips_data, metro_sat_stoptimes_data, agg_prefix='saturday_')"
   ]
  },
  {
   "cell_type": "code",
   "execution_count": 36,
   "id": "9e51a807-b05a-4214-ac84-26a8da9f221e",
   "metadata": {},
   "outputs": [],
   "source": [
    "#Function to merge stoptimes for weekday, saturday and sunday \n",
    "def merge_stoptimes(stoptimes_weekday, stoptimes_sat, stoptimes_sun):\n",
    "    merged_df = pd.merge(stoptimes_weekday, stoptimes_sat, on=[\"route_type\", \"stop_id\"], how=\"outer\")\n",
    "    merged_df = pd.merge(merged_df, stoptimes_sun, on=[\"route_type\", \"stop_id\"], how=\"outer\")\n",
    "    \n",
    "    return merged_df\n"
   ]
  },
  {
   "cell_type": "code",
   "execution_count": 38,
   "id": "8e416fca-155e-44ed-b5a2-cbcdf8d07727",
   "metadata": {},
   "outputs": [],
   "source": [
    "metro_stoptimes_all = merge_stoptimes(metro_stop_times_weekday, metro_stop_times_saturday, metro_stop_times_sunday)"
   ]
  },
  {
   "cell_type": "code",
   "execution_count": null,
   "id": "4ef17045-0b65-4aaa-b508-3d5da047658b",
   "metadata": {},
   "outputs": [],
   "source": []
  }
 ],
 "metadata": {
  "kernelspec": {
   "display_name": "Python 3 (ipykernel)",
   "language": "python",
   "name": "python3"
  },
  "language_info": {
   "codemirror_mode": {
    "name": "ipython",
    "version": 3
   },
   "file_extension": ".py",
   "mimetype": "text/x-python",
   "name": "python",
   "nbconvert_exporter": "python",
   "pygments_lexer": "ipython3",
   "version": "3.9.13"
  }
 },
 "nbformat": 4,
 "nbformat_minor": 5
}
