{
 "cells": [
  {
   "cell_type": "code",
   "execution_count": null,
   "id": "774f7632-e389-4fad-b45e-a97bf06e4eac",
   "metadata": {},
   "outputs": [],
   "source": [
    "#https://geographicdata.science/book/notebooks/11_regression.html"
   ]
  },
  {
   "cell_type": "code",
   "execution_count": null,
   "id": "0a66d1a3-a7e6-4d17-bfc0-b1b52acc2399",
   "metadata": {},
   "outputs": [],
   "source": [
    "!pip install pysal contextily"
   ]
  },
  {
   "cell_type": "code",
   "execution_count": null,
   "id": "ecological-gambling",
   "metadata": {
    "tags": [
     "remove-cell"
    ]
   },
   "outputs": [],
   "source": [
    "import warnings\n",
    "\n",
    "warnings.filterwarnings(\"ignore\")"
   ]
  },
  {
   "cell_type": "code",
   "execution_count": null,
   "id": "verbal-introduction",
   "metadata": {
    "lines_to_next_cell": 2
   },
   "outputs": [],
   "source": [
    "#https://pysal.org/libpysal/notebooks/weights.html\n",
    "from libpysal.weights import Queen, Rook, KNN\n",
    "\n",
    "from pysal.lib import weights\n",
    "from pysal.explore import esda\n",
    "from pysal.model import spreg\n",
    "\n",
    "from shapely import wkb\n",
    "from sklearn.cluster import KMeans\n",
    "\n",
    "import matplotlib.pyplot as plt\n",
    "import statsmodels.formula.api as sm\n",
    "\n",
    "import contextily\n",
    "import geopandas\n",
    "import numpy as np\n",
    "import pandas as pd\n",
    "import seaborn as sns"
   ]
  },
  {
   "cell_type": "code",
   "execution_count": null,
   "id": "14673064-5824-46bc-ab59-df9edcf5285e",
   "metadata": {},
   "outputs": [],
   "source": [
    "gdf = geopandas.read_parquet('gs://calitp-analytics-data/data-analyses/ahsc_grant/analytical_tbl.parquet')\n",
    "gdf = gdf.fillna(0)\n",
    "gdf"
   ]
  },
  {
   "cell_type": "code",
   "execution_count": null,
   "id": "c861a558-ea29-4e79-ba2e-e0cf489b1732",
   "metadata": {},
   "outputs": [],
   "source": [
    "gdf['weekday_ons'].describe()"
   ]
  },
  {
   "cell_type": "code",
   "execution_count": null,
   "id": "eb3ca3b4-5893-44a3-8274-0e4d5047c5c7",
   "metadata": {},
   "outputs": [],
   "source": [
    "sns.histplot(gdf['weekday_ons'])"
   ]
  },
  {
   "cell_type": "code",
   "execution_count": null,
   "id": "e0781ccc-17b4-4d44-a679-5ccabcb3160a",
   "metadata": {},
   "outputs": [],
   "source": [
    "sns.histplot(np.log(gdf['weekday_ons']))"
   ]
  },
  {
   "cell_type": "code",
   "execution_count": null,
   "id": "fdca259c-51ca-4770-80d4-c7b9eb7cfd7b",
   "metadata": {},
   "outputs": [],
   "source": [
    "gdf.columns"
   ]
  },
  {
   "cell_type": "code",
   "execution_count": null,
   "id": "4b0f4738-6f35-4c30-89ee-37cd6c4744e4",
   "metadata": {},
   "outputs": [],
   "source": [
    "# Multiply all percentage columns by 100 for easier OLS interpretation\n",
    "for column in gdf.columns:\n",
    "    if 'pct' in column:\n",
    "        gdf[column] = gdf[column] * 100\n",
    "gdf.head()"
   ]
  },
  {
   "cell_type": "code",
   "execution_count": null,
   "id": "b941299a-1f22-44a0-8638-e55d02f4c96b",
   "metadata": {},
   "outputs": [],
   "source": [
    "# Weekday_ons ~ n_trips_am_peak + n_trips_midday + n_trips_pmpeak + pop_density + job_density + pct: \n",
    "# Intuition is to only use use pct variables because we don’t want to double count people in areas around multiple stops. Whereas, trips are characteristic of the stop itself\n",
    "\n",
    "explanatory_vars = ['n_trips_ampeak','n_trips_midday', 'n_trips_pmpeak',\n",
    "       'pop_density', 'job_density', 'pct_not_us_citizen_pop', 'pct_black_pop', 'pct_inc_extremelylow', 'pct_inc_verylow',\n",
    "       'pct_inc_low', 'pct_poverty', 'pct_pop_workers_no_car']\n"
   ]
  },
  {
   "cell_type": "code",
   "execution_count": null,
   "id": "76c4fdd0-6454-48df-8a92-8d3661822bbf",
   "metadata": {},
   "outputs": [],
   "source": [
    "m = spreg.OLS(gdf[['weekday_ons']].values, gdf[explanatory_vars].values, \n",
    "                  name_y = 'weekday_ons', name_x = explanatory_vars)\n",
    "print(m.summary)"
   ]
  },
  {
   "cell_type": "code",
   "execution_count": null,
   "id": "9dedc58d-062b-4b4c-bbd7-3700aee95fc6",
   "metadata": {},
   "outputs": [],
   "source": [
    "gdf['log_weekday_ons'] = np.log(gdf['weekday_ons'])\n",
    "gdf['log_weekday_ons'] = gdf['log_weekday_ons'].replace(np.NINF, 0) #replace undefined values produced from np.log(0) w/ 0"
   ]
  },
  {
   "cell_type": "code",
   "execution_count": null,
   "id": "919f16bd-f265-42ab-9890-3c64b5bc91f9",
   "metadata": {},
   "outputs": [],
   "source": [
    "gdf['log_weekday_ons'].replace(np.NINF, 0).value_counts()"
   ]
  },
  {
   "cell_type": "code",
   "execution_count": null,
   "id": "1375f186-ede7-4639-bb1c-1da235a0f54f",
   "metadata": {},
   "outputs": [],
   "source": [
    "m_log = spreg.OLS(gdf[['log_weekday_ons']].values, gdf[explanatory_vars].values, \n",
    "                  name_y = 'log_weekday_ons', name_x = explanatory_vars)\n",
    "print(m_log.summary)"
   ]
  },
  {
   "cell_type": "code",
   "execution_count": null,
   "id": "confident-maldives",
   "metadata": {},
   "outputs": [],
   "source": [
    "knn = weights.KNN.from_dataframe(gdf, k=3)"
   ]
  },
  {
   "cell_type": "code",
   "execution_count": null,
   "id": "06571e7c-512d-48a0-ae7d-d9ee15c705bf",
   "metadata": {},
   "outputs": [],
   "source": [
    "lag_residual = weights.spatial_lag.lag_spatial(knn, m.u)\n",
    "ax = sns.regplot(\n",
    "    m.u.flatten(),\n",
    "    lag_residual.flatten(),\n",
    "    line_kws=dict(color=\"orangered\"),\n",
    "    ci=None,\n",
    ")\n",
    "ax.set_xlabel(\"Model Residuals - $u$\")\n",
    "ax.set_ylabel(\"Spatial Lag of Model (1) Residuals - $W u$\");"
   ]
  },
  {
   "cell_type": "code",
   "execution_count": null,
   "id": "protected-termination",
   "metadata": {
    "caption": "The relationship between prediction error for an Airbnb and the nearest Airbnb's prediction error. This suggests that if an Airbnb's nightly price is over-predicted, its nearby Airbnbs will also be over-predicted.",
    "tags": []
   },
   "outputs": [],
   "source": [
    "lag_residual = weights.spatial_lag.lag_spatial(knn, m_log.u)\n",
    "ax = sns.regplot(\n",
    "    m_log.u.flatten(),\n",
    "    lag_residual.flatten(),\n",
    "    line_kws=dict(color=\"orangered\"),\n",
    "    ci=None,\n",
    ")\n",
    "ax.set_xlabel(\"Model Residuals - $u$\")\n",
    "ax.set_ylabel(\"Spatial Lag of Model (2) Residuals - $W u$\");"
   ]
  },
  {
   "cell_type": "markdown",
   "id": "positive-salad",
   "metadata": {},
   "source": [
    "From context of https://geographicdata.science/book/notebooks/11_regression.html"
   ]
  },
  {
   "cell_type": "code",
   "execution_count": null,
   "id": "nervous-annotation",
   "metadata": {
    "caption": "Map of cluters in regression errors, according to the Local Moran's $I_i$.",
    "tags": []
   },
   "outputs": [],
   "source": [
    "# Re-weight W to 3 nearest neighbors\n",
    "knn.reweight(k=3, inplace=True)\n",
    "# Row standardise weights\n",
    "knn.transform = \"R\"\n",
    "# Run LISA on residuals\n",
    "outliers = esda.moran.Moran_Local(m_log.u, knn, permutations=9999)\n",
    "# Select only LISA cluster cores\n",
    "error_clusters = outliers.q % 2 == 1\n",
    "# Filter out non-significant clusters\n",
    "error_clusters &= outliers.p_sim <= 0.001\n",
    "# Add `error_clusters` and `local_I` columns\n",
    "ax = (\n",
    "    gdf.assign(\n",
    "        error_clusters=error_clusters,\n",
    "        local_I=outliers.Is\n",
    "        # Retain error clusters only\n",
    "    )\n",
    "    .query(\n",
    "        \"error_clusters\"\n",
    "        # Sort by I value to largest plot on top\n",
    "    )\n",
    "    .sort_values(\n",
    "        \"local_I\"\n",
    "        # Plot I values\n",
    "    )\n",
    "    .plot(\"local_I\", cmap=\"bwr\", marker=\".\")\n",
    ")\n",
    "# Add basemap\n",
    "contextily.add_basemap(ax, crs=gdf.crs)\n",
    "# Remove axes\n",
    "ax.set_axis_off();"
   ]
  },
  {
   "cell_type": "markdown",
   "id": "indoor-practitioner",
   "metadata": {},
   "source": [
    "And then fit the model using the OLS class in Pysal's `spreg`:"
   ]
  },
  {
   "cell_type": "code",
   "execution_count": null,
   "id": "a879d648-53d8-45bd-b544-3ae8d91627d7",
   "metadata": {},
   "outputs": [],
   "source": [
    "# Fit spatial error model with `spreg`\n",
    "# (GMM estimation allowing for heteroskedasticity)\n",
    "m_knn_err = spreg.GM_Error_Het(\n",
    "    # Dependent variable\n",
    "    gdf[[\"log_weekday_ons\"]].values,\n",
    "    # Independent variables\n",
    "    gdf[explanatory_vars].values,\n",
    "    # Spatial weights matrix\n",
    "    w=knn,#K=3\n",
    "    # Dependent variable name\n",
    "    name_y=\"log_weekday_ons\",\n",
    "    # Independent variables names\n",
    "    name_x=explanatory_vars,\n",
    ")\n",
    "print(m_knn_err.summary)"
   ]
  },
  {
   "cell_type": "code",
   "execution_count": null,
   "id": "becoming-colorado",
   "metadata": {},
   "outputs": [],
   "source": [
    "# Fit spatial lag model with `spreg`\n",
    "# (GMM estimation)\n",
    "m_knn = spreg.GM_Lag(\n",
    "    # Dependent variable\n",
    "    gdf[[\"log_weekday_ons\"]].values,\n",
    "    # Independent variables\n",
    "    gdf[explanatory_vars].values,\n",
    "    # Spatial weights matrix\n",
    "    w=knn,#K=3\n",
    "    # Dependent variable name\n",
    "    name_y=\"log_weekday_ons\",\n",
    "    # Independent variables names\n",
    "    name_x=explanatory_vars,\n",
    ")\n",
    "print(m_knn.summary)"
   ]
  },
  {
   "cell_type": "code",
   "execution_count": null,
   "id": "2a5829ab-46ee-40d6-94f1-4f2fb9a7921d",
   "metadata": {},
   "outputs": [],
   "source": [
    "ax = gdf.plot()\n",
    "ax.set_axis_off()"
   ]
  },
  {
   "cell_type": "code",
   "execution_count": null,
   "id": "82a60504-0d19-4e54-801c-0777b45ee45a",
   "metadata": {},
   "outputs": [],
   "source": [
    "#Rook neighbors are those states that share an edge on their respective borders:\n",
    "#This shouldn't translate to stops since there aren't polygons/borders, but points?\n",
    "w_rook = Rook.from_dataframe(gdf)\n",
    "w_rook.n"
   ]
  },
  {
   "cell_type": "code",
   "execution_count": null,
   "id": "d5626fb1-2104-4d39-9783-d9d51988de84",
   "metadata": {},
   "outputs": [],
   "source": [
    "w_rook.pct_nonzero"
   ]
  },
  {
   "cell_type": "code",
   "execution_count": null,
   "id": "8bb8786f-aedf-4a4b-9724-564b2b4931fd",
   "metadata": {},
   "outputs": [],
   "source": [
    "# Fit spatial lag model with `spreg`\n",
    "# (GMM estimation)\n",
    "m_rook = spreg.GM_Lag(\n",
    "    # Dependent variable\n",
    "    gdf[[\"log_weekday_ons\"]].values,\n",
    "    # Independent variables\n",
    "    gdf[explanatory_vars].values,\n",
    "    # Spatial weights matrix\n",
    "    w=w_rook,\n",
    "    # Dependent variable name\n",
    "    name_y=\"log_weekday_ons\",\n",
    "    # Independent variables names\n",
    "    name_x=explanatory_vars,\n",
    ")\n",
    "print(m_rook.summary)"
   ]
  },
  {
   "cell_type": "code",
   "execution_count": null,
   "id": "1a34c54d-268a-48db-87f8-b9220a9844cb",
   "metadata": {},
   "outputs": [],
   "source": [
    "w_queen = Queen.from_dataframe(gdf)\n",
    "w_queen.n"
   ]
  },
  {
   "cell_type": "code",
   "execution_count": null,
   "id": "e8968f8c-f965-4c49-9443-3af76387df97",
   "metadata": {},
   "outputs": [],
   "source": [
    "m_queen = spreg.GM_Lag(\n",
    "    # Dependent variable\n",
    "    gdf[[\"log_weekday_ons\"]].values,\n",
    "    # Independent variables\n",
    "    gdf[explanatory_vars].values,\n",
    "    # Spatial weights matrix\n",
    "    w=w_queen,\n",
    "    # Dependent variable name\n",
    "    name_y=\"log_weekday_ons\",\n",
    "    # Independent variables names\n",
    "    name_x=explanatory_vars,\n",
    ")\n",
    "print(m_queen.summary)"
   ]
  },
  {
   "cell_type": "code",
   "execution_count": null,
   "id": "b98ced57-bc86-41b3-90be-7dc591f25573",
   "metadata": {},
   "outputs": [],
   "source": []
  }
 ],
 "metadata": {
  "jupytext": {
   "formats": "ipynb,md"
  },
  "kernelspec": {
   "display_name": "Python 3 (ipykernel)",
   "language": "python",
   "name": "python3"
  },
  "language_info": {
   "codemirror_mode": {
    "name": "ipython",
    "version": 3
   },
   "file_extension": ".py",
   "mimetype": "text/x-python",
   "name": "python",
   "nbconvert_exporter": "python",
   "pygments_lexer": "ipython3",
   "version": "3.10.6"
  }
 },
 "nbformat": 4,
 "nbformat_minor": 5
}
