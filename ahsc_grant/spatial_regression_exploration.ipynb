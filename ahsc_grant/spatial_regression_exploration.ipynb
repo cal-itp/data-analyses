{
 "cells": [
  {
   "cell_type": "code",
   "execution_count": null,
   "id": "774f7632-e389-4fad-b45e-a97bf06e4eac",
   "metadata": {},
   "outputs": [],
   "source": [
    "#https://geographicdata.science/book/notebooks/11_regression.html"
   ]
  },
  {
   "cell_type": "code",
   "execution_count": null,
   "id": "ecological-gambling",
   "metadata": {
    "tags": [
     "remove-cell"
    ]
   },
   "outputs": [],
   "source": [
    "import warnings\n",
    "\n",
    "warnings.filterwarnings(\"ignore\")"
   ]
  },
  {
   "cell_type": "markdown",
   "id": "institutional-coral",
   "metadata": {},
   "source": [
    "# Spatial Regression\n",
    "\n",
    "Regression (and prediction more generally) provides us a perfect case to examine how spatial structure can help us understand and analyze our data. In this chapter, we discuss how spatial structure can be used to both validate and improve prediction algorithms, focusing on linear regression specifically. \n",
    "\n",
    "## *What* is spatial regression and *why* should I care?\n",
    "\n",
    "Usually, spatial structure helps regression models in one of two ways. \n",
    "The first (and most clear) way space can have an impact on our data is when the process *generating* the data is itself explicitly spatial.\n",
    "Here, think of something like the prices for single family homes. \n",
    "It's often the case that individuals pay a premium on their house price in order to live in a better school district for the same quality house. \n",
    "Alternatively, homes closer to noise or chemical polluters like waste water treatment plants, recycling facilities, or wide highways, may actually be cheaper than we would otherwise anticipate. \n",
    "In cases like asthma incidence, the locations individuals tend to travel to throughout the day, such as their places of work or recreation, may have more impact on their health than their residential addresses. \n",
    "In this case, it may be necessary to use data *from other sites* to predict the asthma incidence at a given site. \n",
    "Regardless of the specific case at play, here, *geography is a feature*: it directly helps us make predictions about outcomes *because those outcomes obtain from geographical processes*. \n",
    "\n",
    "An alternative (and more skeptical understanding) reluctantly acknowledges geography's instrumental value. \n",
    "Often, in the analysis of predictive methods and classifiers, we are interested in analyzing what we get wrong.\n",
    "This is common in econometrics; an analyst may be concerned that the model *systematically* mis-predicts some types of observations.\n",
    "If we know our model routinely performs poorly on a known set of observations or type of input, we might make a better model if we can account for this. \n",
    "Among other kinds of error diagnostics, geography provides us with an exceptionally-useful embedding to assess structure in our errors.\n",
    "Mapping classification/prediction error can help show whether or not there are *clusters of error* in our data.\n",
    "If we *know* that errors tend to be larger in some areas than in other areas (or if error is \"contagious\" between observations), then we might be able to exploit this structure to make better predictions.\n",
    "\n",
    "Spatial structure in our errors might arise from when geography *should be* an attribute somehow, but we are not sure exactly how to include it in our model. \n",
    "They might also arise because there is some *other* feature whose omission causes the spatial patterns in the error we see; if this additional feature were included, the structure would disappear. \n",
    "Or, it might arise from the complex interactions and interdependencies between the features that we have chosen to use as predictors, resulting in intrinsic structure in mis-prediction. \n",
    "Most of the predictors we use in models of social processes contain *embodied* spatial information: patterning intrinsic to the feature that we get for free in the model. \n",
    "If we intend to or not, using a spatially-patterned predictor in a model can result in spatially-patterned errors; using more than one can amplify this effect. \n",
    "Thus, *regardless of whether or not the true process is explicitly geographic*, additional information about the spatial relationships between our observations or more information about nearby sites can make our predictions better. \n",
    "\n",
    "In this chapter, we build space into the traditional regression framework. We begin with a standard linear regression model, devoid of any geographical reference. From there, we formalise space and spatial relationships in three main ways: first, encoding it in exogenous variables; second, through spatial heterogeneity, or as systematic variation of outcomes across space; third, as dependence, or through the effect associated to the characteristics of spatial neighbors. Throughout, we focus on the conceptual differences each approach entails rather than on the technical details.\n",
    "\n"
   ]
  },
  {
   "cell_type": "code",
   "execution_count": null,
   "id": "verbal-introduction",
   "metadata": {
    "lines_to_next_cell": 2
   },
   "outputs": [],
   "source": [
    "from pysal.lib import weights\n",
    "from pysal.explore import esda\n",
    "from pysal.model import spreg\n",
    "\n",
    "from shapely import wkb\n",
    "from sklearn.cluster import KMeans\n",
    "\n",
    "import numpy as np\n",
    "import pandas as pd\n",
    "import geopandas\n",
    "import matplotlib.pyplot as plt\n",
    "import seaborn\n",
    "import contextily\n"
   ]
  },
  {
   "cell_type": "code",
   "execution_count": null,
   "id": "14673064-5824-46bc-ab59-df9edcf5285e",
   "metadata": {},
   "outputs": [],
   "source": [
    "gdf = geopandas.read_parquet('gs://calitp-analytics-data/data-analyses/ahsc_grant/analytical_tbl.parquet')\n",
    "gdf = gdf.fillna(0)\n",
    "#df = pd.read_parquet('gs://calitp-analytics-data/data-analyses/ahsc_grant/analytical_tbl.parquet')\n",
    "gdf"
   ]
  },
  {
   "cell_type": "code",
   "execution_count": null,
   "id": "fdca259c-51ca-4770-80d4-c7b9eb7cfd7b",
   "metadata": {},
   "outputs": [],
   "source": [
    "gdf.columns"
   ]
  },
  {
   "cell_type": "code",
   "execution_count": null,
   "id": "82895940-cf1d-4d6c-b66a-7fec4966fb41",
   "metadata": {},
   "outputs": [],
   "source": [
    "a=pd.Series(gdf['geometry'].apply(lambda p: p.x))\n",
    "b=pd.Series(gdf['geometry'].apply(lambda p: p.y))\n",
    "X=np.column_stack((a,b))"
   ]
  },
  {
   "cell_type": "code",
   "execution_count": null,
   "id": "b3ed3dd3-955c-4442-9e1c-5df8acbdff66",
   "metadata": {},
   "outputs": [],
   "source": [
    "wcss = []\n",
    "for i in range(1, 50):\n",
    "    kmeans = KMeans(n_clusters = i, init = 'k-means++', random_state = 42)\n",
    "    kmeans.fit(X)\n",
    "    wcss.append(kmeans.inertia_)\n",
    "plt.plot(range(1, 50), wcss)\n",
    "plt.title('The Elbow Method')\n",
    "plt.xlabel('Number of clusters')\n",
    "plt.ylabel('WCSS')\n",
    "plt.show()"
   ]
  },
  {
   "cell_type": "code",
   "execution_count": null,
   "id": "e74d589b-5d45-40bf-8907-ef1d5431bfb6",
   "metadata": {},
   "outputs": [],
   "source": [
    "kmeans = KMeans(n_clusters = 50, init = 'k-means++', random_state = 42)\n",
    "kmeans.fit(X)\n",
    "y_kmeans = kmeans.fit_predict(X)\n",
    "k=pd.DataFrame(y_kmeans, columns=['cluster'])\n",
    "k_gdf=gdf.join(k)\n",
    "k_gdf.head()"
   ]
  },
  {
   "cell_type": "code",
   "execution_count": null,
   "id": "e92403f6-77d2-47ce-8b56-981b6eb6fd35",
   "metadata": {},
   "outputs": [],
   "source": [
    "k_gdf=k_gdf.join(pd.get_dummies(k_gdf['cluster'], drop_first=True))\n",
    "k_gdf"
   ]
  },
  {
   "cell_type": "code",
   "execution_count": null,
   "id": "ef74e753-f21b-4096-8ea6-237a5fad1e60",
   "metadata": {},
   "outputs": [],
   "source": [
    "w = weights.KNN.from_dataframe(gdf, k=50)\n",
    "w.transform = 'R'\n",
    "w"
   ]
  },
  {
   "cell_type": "code",
   "execution_count": null,
   "id": "b941299a-1f22-44a0-8638-e55d02f4c96b",
   "metadata": {},
   "outputs": [],
   "source": [
    "explanatory_vars = ['sum_total_pop', 'sum_households', 'sum_not_us_citizen_pop', 'sum_hispanic_pop', 'sum_inc_extremelylow',\n",
    "       'sum_inc_verylow', 'sum_inc_low', 'sum_pop_determined_poverty_status',\n",
    "       'sum_poverty', 'sum_no_car', 'sum_no_cars', 'sum_land_area', 'sum_jobs',\n",
    "       'pop_density', 'job_density', 'pct_not_us_citizen_pop', 'pct_black_pop', 'pct_inc_extremelylow', 'pct_inc_verylow',\n",
    "       'pct_inc_low', 'pct_poverty', 'pct_pop_workers_no_car']\n",
    "\n",
    "#'sat_ons', 'sun_ons', 'weekday_ons',"
   ]
  },
  {
   "cell_type": "code",
   "execution_count": null,
   "id": "76c4fdd0-6454-48df-8a92-8d3661822bbf",
   "metadata": {},
   "outputs": [],
   "source": [
    "m1 = spreg.OLS(gdf[['weekday_ons']].values, gdf[explanatory_vars].values, \n",
    "                  name_y = 'weekday_ons', name_x = explanatory_vars)\n",
    "print(m1.summary)"
   ]
  },
  {
   "cell_type": "code",
   "execution_count": null,
   "id": "1375f186-ede7-4639-bb1c-1da235a0f54f",
   "metadata": {},
   "outputs": [],
   "source": [
    "explanatory_vars.extend(list(range(1,50)))\n",
    "m2 = spreg.OLS(k_gdf[['weekday_ons']].values, k_gdf[explanatory_vars].values, \n",
    "                  name_y = 'weekday_ons', name_x = explanatory_vars)\n",
    "print(m2.summary)"
   ]
  },
  {
   "cell_type": "code",
   "execution_count": null,
   "id": "bbf5d648-36dc-40c1-8411-ebad092955e6",
   "metadata": {},
   "outputs": [],
   "source": []
  },
  {
   "cell_type": "markdown",
   "id": "weekly-power",
   "metadata": {},
   "source": [
    "## Data: San Diego AirBnB\n",
    "\n",
    "To learn a little more about how regression works, we'll examine information about AirBnB properties in San Diego, CA. \n",
    "This dataset contains house intrinsic characteristics, both continuous (number of beds as in `beds`) and categorical (type of renting or, in AirBnB jargon, property group as in the series of `pg_X` binary variables), but also variables that explicitly refer to the location and spatial configuration of the dataset (e.g. distance to Balboa Park, `d2balboa` or neighborhood id, `neighbourhood_cleansed`)."
   ]
  },
  {
   "cell_type": "code",
   "execution_count": null,
   "id": "collectible-clothing",
   "metadata": {},
   "outputs": [],
   "source": [
    "db = geopandas.read_file(\"../data/airbnb/regression_db.geojson\")"
   ]
  },
  {
   "cell_type": "markdown",
   "id": "coordinate-collins",
   "metadata": {},
   "source": [
    "These are the explanatory variables we will use throughout the chapter."
   ]
  },
  {
   "cell_type": "code",
   "execution_count": null,
   "id": "looking-ordering",
   "metadata": {},
   "outputs": [],
   "source": [
    "variable_names = [\n",
    "    \"accommodates\",  # Number of people it accommodates\n",
    "    \"bathrooms\",  # Number of bathrooms\n",
    "    \"bedrooms\",  # Number of bedrooms\n",
    "    \"beds\",  # Number of beds\n",
    "    # Below are binary variables, 1 True, 0 False\n",
    "    \"rt_Private_room\",  # Room type: private room\n",
    "    \"rt_Shared_room\",  # Room type: shared room\n",
    "    \"pg_Condominium\",  # Property group: condo\n",
    "    \"pg_House\",  # Property group: house\n",
    "    \"pg_Other\",  # Property group: other\n",
    "    \"pg_Townhouse\",  # Property group: townhouse\n",
    "]"
   ]
  },
  {
   "cell_type": "markdown",
   "id": "legitimate-telling",
   "metadata": {},
   "source": [
    "## Non-spatial regression, a (very) quick refresh\n",
    "\n",
    "Before we discuss how to explicitly include space into the linear regression framework, let us show how basic regression can be carried out in Python, and how one can begin to interpret the results. By no means is this a formal and complete introduction to regression so, if that is what you are looking for, we recommend {cite}`Gelman_2006`, in particular chapters 3 and 4, which provide a fantastic, non-spatial introduction.\n",
    "\n",
    "The core idea of linear regression is to explain the variation in a given (*dependent*) variable as a linear function of a collection of other (*explanatory*) variables. For example, in our case, we may want to express the price of a house as a function of the number of bedrooms it has and whether it is a condominium or not. At the individual level, we can express this as:\n",
    "\n",
    "$$\n",
    "P_i = \\alpha + \\sum_k \\mathbf{X}_{ik}\\beta_k  + \\epsilon_i\n",
    "$$\n",
    "\n",
    "where $P_i$ is the AirBnB price of house $i$, and $X$ is a set of covariates that we use to explain such price (e.g. No. of bedrooms and condominium binary variable). $\\beta$ is a vector of parameters that give us information about in which way and to what extent each variable is related to the price, and $\\alpha$, the constant term, is the average house price when all the other variables are zero. The term $\\epsilon_i$ is usually referred to as \"error\" and captures elements that influence the price of a house but are not included in $X$. We can also express this relation in matrix form, excluding subindices for $i$, which yields:\n",
    "\n",
    "$$\n",
    "P = \\alpha + \\mathbf{X}\\beta + \\epsilon\n",
    "$$\n",
    "\n",
    "A regression can be seen as a multivariate extension of bivariate correlations. Indeed, one way to interpret the $\\beta_k$ coefficients in the equation above is as the degree of correlation between the explanatory variable $k$ and the dependent variable, *keeping all the other explanatory variables constant*. When one calculates bivariate correlations, the coefficient of a variable is picking up the correlation between the variables, but it is also subsuming into it variation associated with other correlated variables -- also called confounding factors. Regression allows us to isolate the distinct effect that a single variable has on the dependent one, once we *control* for those other variables.\n",
    "\n",
    "Practically speaking, linear regressions in Python are rather streamlined and easy to work with. There are also several packages which will run them (e.g. `statsmodels`, `scikit-learn`, `pysal`). We will import the `spreg` module in Pysal:"
   ]
  },
  {
   "cell_type": "code",
   "execution_count": null,
   "id": "waiting-block",
   "metadata": {
    "lines_to_next_cell": 2
   },
   "outputs": [],
   "source": [
    "from pysal.model import spreg"
   ]
  },
  {
   "cell_type": "markdown",
   "id": "absolute-porter",
   "metadata": {},
   "source": [
    "In the context of this chapter, it makes sense to start with `spreg` as that is the only library that will allow us to move into explicitly spatial econometric models. To fit the model specified in the equation above with $X$ as the list defined, we only need the following line of code:"
   ]
  },
  {
   "cell_type": "code",
   "execution_count": null,
   "id": "increasing-people",
   "metadata": {},
   "outputs": [],
   "source": [
    "# Fit OLS model\n",
    "m1 = spreg.OLS(\n",
    "    # Dependent variable\n",
    "    db[[\"log_price\"]].values,\n",
    "    # Independent variables\n",
    "    db[variable_names].values,\n",
    "    # Dependent variable name\n",
    "    name_y=\"log_price\",\n",
    "    # Independent variable name\n",
    "    name_x=variable_names,\n",
    ")"
   ]
  },
  {
   "cell_type": "markdown",
   "id": "compact-procedure",
   "metadata": {},
   "source": [
    "We use the command `OLS`, part of the `spreg` sub-package, and specify the dependent variable (the log of the price, so we can interpret results in terms of percentage change) and the explanatory ones. Note that both objects need to be arrays, so we extract them from the `pandas.DataFrame` object using `.values`.\n",
    "\n",
    "In order to inspect the results of the model, we can print the `summary` attribute:"
   ]
  },
  {
   "cell_type": "code",
   "execution_count": null,
   "id": "other-research",
   "metadata": {},
   "outputs": [],
   "source": [
    "print(m1.summary)"
   ]
  },
  {
   "cell_type": "markdown",
   "id": "multiple-scratch",
   "metadata": {},
   "source": [
    "A full detailed explanation of the output is beyond the scope of this chapter, so we will focus on the relevant bits for our main purpose. This is concentrated on the `Coefficients` section, which gives us the estimates for $\\beta_k$ in our model. In other words, these numbers express the relationship between each explanatory variable and the dependent one, once the effect of confounding factors has been accounted for. Keep in mind however that regression is no magic; we are only discounting the effect of confounding factors that we include in the model, not of *all* potentially confounding factors.\n",
    "\n",
    "Results are largely as expected: houses tend to be significantly more expensive if they accommodate more people (`accommodates`), if they have more bathrooms and bedrooms, and if they are a condominium or part of the \"other\" category of house type. Conversely, given a number of rooms, houses with more beds (i.e.. listings that are more \"crowded\") tend to go for cheaper, as it is the case for properties where one does not rent the entire house but only a room (`rt_Private_room`) or even shares it (`rt_Shared_room`). Of course, you might conceptually doubt the assumption that it is possible to *arbitrarily* change the number of beds within an AirBnB without eventually changing the number of people it accommodates, but methods to address these concerns using *interaction effects* won't be discussed here. \n",
    "\n",
    "### Hidden Structures\n",
    "\n",
    "In general, our model performs well, being able to predict slightly about two-thirds ($R^2=0.67$) of the variation in the mean nightly price using the covariates we've discussed above.\n",
    "But, our model might display some clustering in the errors, which may be a problem as that violates the i.i.d. assumption linear models usually come built-in with. \n",
    "To interrogate this, we can do a few things. \n",
    "One simple concept might be to look at the correlation between the error in predicting an AirBnB and the error in predicting its nearest neighbor. \n",
    "To examine this, we first might want to split our data up by regions and see if we've got some spatial structure in our residuals. \n",
    "One reasonable theory might be that our model does not include any information about *beaches*, a critical aspect of why people live and vacation in San Diego. \n",
    "Therefore, we might want to see whether or not our errors are higher or lower depending on whether or not an AirBnB is in a \"beach\" neighborhood, a neighborhood near the ocean:"
   ]
  },
  {
   "cell_type": "code",
   "execution_count": null,
   "id": "sealed-above",
   "metadata": {
    "caption": "Distributions of prediction errors (residuals) for the basic linear model. Residuals for coastal Airbnbs are generally positive, meaning that the model under-predicts their prices.",
    "tags": []
   },
   "outputs": [],
   "source": [
    "# Create a Boolean (True/False) with whether a\n",
    "# property is coastal or not\n",
    "is_coastal = db.coastal.astype(bool)\n",
    "# Split residuals (m1.u) between coastal and not\n",
    "coastal = m1.u[is_coastal]\n",
    "not_coastal = m1.u[~is_coastal]\n",
    "# Create histogram of the distribution of coastal residuals\n",
    "plt.hist(coastal, density=True, label=\"Coastal\")\n",
    "# Create histogram of the distribution of non-coastal residuals\n",
    "plt.hist(\n",
    "    not_coastal,\n",
    "    histtype=\"step\",\n",
    "    density=True,\n",
    "    linewidth=4,\n",
    "    label=\"Not Coastal\",\n",
    ")\n",
    "# Add Line on 0\n",
    "plt.vlines(0, 0, 1, linestyle=\":\", color=\"k\", linewidth=4)\n",
    "# Add legend\n",
    "plt.legend()\n",
    "# Display\n",
    "plt.show()"
   ]
  },
  {
   "cell_type": "markdown",
   "id": "coated-romantic",
   "metadata": {},
   "source": [
    "While it appears that the neighborhoods on the coast have only slightly higher average errors (and have lower variance in their prediction errors), the two distributions are significantly distinct from one another when compared using a classic $t$ test:"
   ]
  },
  {
   "cell_type": "code",
   "execution_count": null,
   "id": "genetic-cinema",
   "metadata": {},
   "outputs": [],
   "source": [
    "from scipy.stats import ttest_ind\n",
    "\n",
    "ttest_ind(coastal, not_coastal)"
   ]
  },
  {
   "cell_type": "markdown",
   "id": "composed-species",
   "metadata": {},
   "source": [
    "There are more sophisticated (and harder to fool) tests that may be applicable for this data, however. We cover them in the [Challenge](#Challenge) section. "
   ]
  },
  {
   "cell_type": "markdown",
   "id": "quantitative-ranking",
   "metadata": {},
   "source": [
    "Additionally, it might be the case that some neighborhoods are more desirable than other neighborhoods due to unmodeled latent preferences or marketing. \n",
    "For instance, despite its presence close to the sea, living near Camp Pendleton -a Marine base in the North of the city- may incur some significant penalties on area desirability due to noise and pollution. These are questions that domain knowledge provides and data analysis can help us answer.\n",
    "For us to determine whether this is the case, we might be interested in the full distribution of model residuals within each neighborhood. \n",
    "\n",
    "To make this more clear, we'll first sort the data by the median residual in that neighborhood, and then make a box plot, which shows the distribution of residuals in each neighborhood:"
   ]
  },
  {
   "cell_type": "code",
   "execution_count": null,
   "id": "exceptional-symposium",
   "metadata": {
    "caption": "Boxplot of prediction errors by neighborhood in San Diego, showing that the basic model systematically over- (or under-) predicts the nightly price of some neighborhoods' Airbnbs.",
    "tags": []
   },
   "outputs": [],
   "source": [
    "# Create column with residual values from m1\n",
    "db[\"residual\"] = m1.u\n",
    "# Obtain the median value of residuals in each neighbourhood\n",
    "medians = (\n",
    "    db.groupby(\"neighborhood\")\n",
    "    .residual.median()\n",
    "    .to_frame(\"hood_residual\")\n",
    ")\n",
    "\n",
    "# Increase fontsize\n",
    "seaborn.set(font_scale=1.25)\n",
    "# Set up figure\n",
    "f = plt.figure(figsize=(15, 3))\n",
    "# Grab figure's axis\n",
    "ax = plt.gca()\n",
    "# Generate bloxplot of values by neighbourhood\n",
    "# Note the data includes the median values merged on-the-fly\n",
    "seaborn.boxplot(\n",
    "    \"neighborhood\",\n",
    "    \"residual\",\n",
    "    ax=ax,\n",
    "    data=db.merge(\n",
    "        medians, how=\"left\", left_on=\"neighborhood\", right_index=True\n",
    "    ).sort_values(\"hood_residual\"),\n",
    "    palette=\"bwr\",\n",
    ")\n",
    "# Auto-format of the X labels\n",
    "f.autofmt_xdate()\n",
    "# Display\n",
    "plt.show()"
   ]
  },
  {
   "cell_type": "markdown",
   "id": "growing-shock",
   "metadata": {},
   "source": [
    "No neighborhood is disjoint from one another, but some do appear to be higher than others, such as the well-known downtown tourist neighborhoods areas of the Gaslamp Quarter, Little Italy, or The Core. \n",
    "Thus, there may be a distinctive effect of intangible neighborhood fashionableness that matters in this model. \n",
    "\n",
    "Noting that many of the most over- and under-predicted neighborhoods are near one another in the city, it may also be the case that there is some sort of *contagion* or spatial spillovers in the nightly rent price. \n",
    "This often is apparent when individuals seek to price their AirBnB listings to compete with similar nearby listings. \n",
    "Since our model is not aware of this behavior, its errors may tend to cluster. \n",
    "One exceptionally simple way we can look into this structure is by examining the relationship between an observation's residuals and its surrounding residuals. \n",
    "\n",
    "To do this, we will use *spatial weights* to represent the geographic relationships between observations. \n",
    "We cover spatial weights in detail in [Chapter 4](04_spatial_weights), so we will not repeat ourselves here.\n",
    "For this example, we'll start off with a $KNN$ matrix where $k=1$, meaning we're focusing only on the linkages of each AirBnB to their closest other listing."
   ]
  },
  {
   "cell_type": "code",
   "execution_count": null,
   "id": "confident-maldives",
   "metadata": {},
   "outputs": [],
   "source": [
    "knn = weights.KNN.from_dataframe(db, k=1)"
   ]
  },
  {
   "cell_type": "markdown",
   "id": "authentic-billion",
   "metadata": {},
   "source": [
    "This means that, when we compute the *spatial lag* of that $KNN$ weight and the residual, we get the residual of the AirBnB listing closest to each observation."
   ]
  },
  {
   "cell_type": "code",
   "execution_count": null,
   "id": "protected-termination",
   "metadata": {
    "caption": "The relationship between prediction error for an Airbnb and the nearest Airbnb's prediction error. This suggests that if an Airbnb's nightly price is over-predicted, its nearby Airbnbs will also be over-predicted.",
    "tags": []
   },
   "outputs": [],
   "source": [
    "lag_residual = weights.spatial_lag.lag_spatial(knn, m1.u)\n",
    "ax = seaborn.regplot(\n",
    "    m1.u.flatten(),\n",
    "    lag_residual.flatten(),\n",
    "    line_kws=dict(color=\"orangered\"),\n",
    "    ci=None,\n",
    ")\n",
    "ax.set_xlabel(\"Model Residuals - $u$\")\n",
    "ax.set_ylabel(\"Spatial Lag of Model Residuals - $W u$\");"
   ]
  },
  {
   "cell_type": "markdown",
   "id": "positive-salad",
   "metadata": {},
   "source": [
    "In this plot, we see that our prediction errors tend to cluster!\n",
    "Above, we show the relationship between our prediction error at each site and the prediction error at the site nearest to it. \n",
    "Here, we're using this nearest site to stand in for the *surroundings* of that AirBnB. \n",
    "This means that, when the model tends to over-predict a given AirBnB's nightly log price, sites around that AirBnB are more likely to *also be over-predicted*. An interesting property of this relationship is that it tends to stabilize as the number of nearest neighbors used to construct each AirBnB's surroundings increases.\n",
    "Consult the [Challenge](#Challenge) section for more on this property. \n",
    "\n",
    "Given this behavior, let's look at the stable $k=20$ number of neighbors.\n",
    "Examining the relationship between this stable *surrounding* average and the focal AirBnB, we can even find clusters in our model error. \n",
    "Recalling the *local Moran* statistics in [Chapter 7](07_local_autocorrelation), we can identify certain areas where our predictions of the nightly (log) AirBnB price tend to be significantly off:"
   ]
  },
  {
   "cell_type": "code",
   "execution_count": null,
   "id": "nervous-annotation",
   "metadata": {
    "caption": "Map of cluters in regression errors, according to the Local Moran's $I_i$.",
    "tags": []
   },
   "outputs": [],
   "source": [
    "# Re-weight W to 20 nearest neighbors\n",
    "knn.reweight(k=20, inplace=True)\n",
    "# Row standardise weights\n",
    "knn.transform = \"R\"\n",
    "# Run LISA on residuals\n",
    "outliers = esda.moran.Moran_Local(m1.u, knn, permutations=9999)\n",
    "# Select only LISA cluster cores\n",
    "error_clusters = outliers.q % 2 == 1\n",
    "# Filter out non-significant clusters\n",
    "error_clusters &= outliers.p_sim <= 0.001\n",
    "# Add `error_clusters` and `local_I` columns\n",
    "ax = (\n",
    "    db.assign(\n",
    "        error_clusters=error_clusters,\n",
    "        local_I=outliers.Is\n",
    "        # Retain error clusters only\n",
    "    )\n",
    "    .query(\n",
    "        \"error_clusters\"\n",
    "        # Sort by I value to largest plot on top\n",
    "    )\n",
    "    .sort_values(\n",
    "        \"local_I\"\n",
    "        # Plot I values\n",
    "    )\n",
    "    .plot(\"local_I\", cmap=\"bwr\", marker=\".\")\n",
    ")\n",
    "# Add basemap\n",
    "contextily.add_basemap(ax, crs=db.crs)\n",
    "# Remove axes\n",
    "ax.set_axis_off();"
   ]
  },
  {
   "cell_type": "markdown",
   "id": "acceptable-examination",
   "metadata": {},
   "source": [
    "Thus, these areas tend to be locations where our model significantly under-predicts the nightly AirBnB price both for that specific observation and observations in its immediate surroundings. \n",
    "This is critical since, if we can identify how these areas are structured &mdash; if they have a *consistent geography* that we can model &mdash; then we might make our predictions even better, or at least not systematically mis-predict prices in some areas while correctly predicting prices in other areas. Since significant under- and over-predictions do appear to cluster in a highly structured way, we might be able to use a better model to fix the geography of our model errors. \n"
   ]
  },
  {
   "cell_type": "markdown",
   "id": "neural-understanding",
   "metadata": {},
   "source": [
    "## Bringing space into the regression framework\n",
    "\n",
    "There are many different ways that spatial structure shows up in our models, predictions, and our data, even if we do not explicitly intend to study it.\n",
    "Fortunately, there are nearly as many techniques, called *spatial regression* methods, that are designed to handle these sorts of structures.\n",
    "Spatial regression is about *explicitly* introducing space or geographical context into the statistical framework of a regression. \n",
    "Conceptually, we want to introduce space into our model whenever we think it plays an important role in the process we are interested in, or when space can act as a reasonable proxy for other factors we cannot but should include in our model. \n",
    "As an example of the former, we can imagine how houses at the seafront are probably more expensive than those in the second row, given their better views. \n",
    "To illustrate the latter, we can think of how the character of a neighborhood is important in determining the price of a house; however, it is very hard to identify and quantify \"character\" *per se,* although it might be easier to get at its spatial variation, hence a case of space as a proxy.\n",
    "\n",
    "Spatial regression is a large field of development in the econometrics and statistics literatures. \n",
    "In this brief introduction, we will consider two related but very different processes that give rise to spatial effects: spatial heterogeneity and spatial dependence. Before diving into them, we begin with another approach that introduces space in a regression model without modifying the model itself but rather creates spatially explicit independent variables. \n",
    "For more rigorous treatments of the topics introduced here, we refer you to {cite}`Anselin_2003,Anselin_2014,Gelman_2006`.\n",
    "\n",
    "### Spatial Feature Engineering: proximity variables\n",
    "\n",
    "Using geographic information to \"construct\" new data is a common approach to bring in spatial information into data analysis. \n",
    "Often, this reflects the fact that processes are not the same everywhere in the map of analysis, or that geographical information may be useful to predict our outcome of interest. In this section, we will briefly present how to insert *spatial features*, or $X$ variables that are constructed from geographical relationships, in a standard linear model. We discuss spatial feature engineering extensively in [Chapter 12](12_feature_engineering), though, and the depth and extent of spatial feature engineering is difficult to overstate. Rather than detail, this section will show how spatially explicit variables you engineer can be \"plugged\" into a model to improve its performance or help you explain the underlying process of interest with more accuracy. \n",
    "\n",
    "One relevant proximity-driven variable that could influence our San Diego model is based on the listings proximity to Balboa Park. A common tourist destination, Balboa park is a central recreation hub for the city of San Diego, containing many museums and the San Diego zoo. Thus, it could be the case that people searching for AirBnBs in San Diego are willing to pay a premium to live closer to the park. If this were true *and* we omitted this from our model, we may indeed see a significant spatial pattern caused by this distance decay effect. \n",
    "\n",
    "Therefore, this is sometimes called a *spatially-patterned omitted covariate*: geographic information our model needs to make good predictions which we have left out of our model. Therefore, let's build a new model containing this distance to Balboa Park covariate. First, though, it helps to visualize the structure of this distance covariate itself:"
   ]
  },
  {
   "cell_type": "code",
   "execution_count": null,
   "id": "soviet-sapphire",
   "metadata": {
    "caption": "A map showing the 'Distance to Balboa Park' variable.",
    "tags": []
   },
   "outputs": [],
   "source": [
    "ax = db.plot(\"d2balboa\", marker=\".\", s=5)\n",
    "contextily.add_basemap(ax, crs=db.crs)\n",
    "ax.set_axis_off();"
   ]
  },
  {
   "cell_type": "markdown",
   "id": "classical-insulin",
   "metadata": {},
   "source": [
    "To run a linear model that includes the additional variable of distance to the park, we add the name to the list of variables we included originally:"
   ]
  },
  {
   "cell_type": "code",
   "execution_count": null,
   "id": "treated-groove",
   "metadata": {},
   "outputs": [],
   "source": [
    "balboa_names = variable_names + [\"d2balboa\"]"
   ]
  },
  {
   "cell_type": "markdown",
   "id": "indoor-practitioner",
   "metadata": {},
   "source": [
    "And then fit the model using the OLS class in Pysal's `spreg`:"
   ]
  },
  {
   "cell_type": "code",
   "execution_count": null,
   "id": "fresh-convergence",
   "metadata": {},
   "outputs": [],
   "source": [
    "m2 = spreg.OLS(\n",
    "    db[[\"log_price\"]].values,\n",
    "    db[balboa_names].values,\n",
    "    name_y=\"log_price\",\n",
    "    name_x=balboa_names,\n",
    ")"
   ]
  },
  {
   "cell_type": "markdown",
   "id": "leading-bahrain",
   "metadata": {},
   "source": [
    "When you inspect the regression diagnostics and output, you see that this covariate is not quite as helpful as we might anticipate:"
   ]
  },
  {
   "cell_type": "code",
   "execution_count": null,
   "id": "gorgeous-friendship",
   "metadata": {},
   "outputs": [],
   "source": [
    "pandas.DataFrame(\n",
    "    [[m1.r2, m1.ar2], [m2.r2, m2.ar2]],\n",
    "    index=[\"M1\", \"M2\"],\n",
    "    columns=[\"R2\", \"Adj. R2\"],\n",
    ")"
   ]
  },
  {
   "cell_type": "markdown",
   "id": "forty-affairs",
   "metadata": {},
   "source": [
    "It is not statistically significant at conventional significance levels, the model fit does not substantially change:"
   ]
  },
  {
   "cell_type": "code",
   "execution_count": null,
   "id": "foster-stephen",
   "metadata": {},
   "outputs": [],
   "source": [
    "# Set up table of regression coefficients\n",
    "pandas.DataFrame(\n",
    "    {\n",
    "        # Pull out regression coefficients and\n",
    "        # flatten as they are returned as Nx1 array\n",
    "        \"Coeff.\": m2.betas.flatten(),\n",
    "        # Pull out and flatten standard errors\n",
    "        \"Std. Error\": m2.std_err.flatten(),\n",
    "        # Pull out P-values from t-stat object\n",
    "        \"P-Value\": [i[1] for i in m2.t_stat],\n",
    "    },\n",
    "    index=m2.name_x,\n",
    ")"
   ]
  },
  {
   "cell_type": "markdown",
   "id": "approved-advertising",
   "metadata": {},
   "source": [
    "And, there still appears to be spatial structure in our model's errors:"
   ]
  },
  {
   "cell_type": "code",
   "execution_count": null,
   "id": "unavailable-treat",
   "metadata": {
    "caption": "The relationship between prediction error and the nearest Airbnb's prediction error for the model including the 'Distance to Balboa Park' variable. Note the much stronger relationship here than before.",
    "tags": []
   },
   "outputs": [],
   "source": [
    "lag_residual = weights.spatial_lag.lag_spatial(knn, m2.u)\n",
    "ax = seaborn.regplot(\n",
    "    m2.u.flatten(),\n",
    "    lag_residual.flatten(),\n",
    "    line_kws=dict(color=\"orangered\"),\n",
    "    ci=None,\n",
    ")\n",
    "ax.set_xlabel(\"Residuals ($u$)\")\n",
    "ax.set_ylabel(\"Spatial lag of residuals ($Wu$)\");"
   ]
  },
  {
   "cell_type": "markdown",
   "id": "american-tuition",
   "metadata": {},
   "source": [
    "Finally, the distance to Balboa Park variable does not fit our theory about how distance to amenity should affect the price of an AirBnB; the coefficient estimate is *positive*, meaning that people are paying a premium to be *further* from the Park. We will revisit this result later on, when we consider spatial heterogeneity and will be able to shed some light on this. Further, the next chapter is an extensive treatment of spatial fixed effects, presenting many more spatial feature engineering methods. Here, we have only showed how to include these engineered features in a standard linear modeling framework. "
   ]
  },
  {
   "cell_type": "markdown",
   "id": "functioning-enlargement",
   "metadata": {},
   "source": [
    "### Spatial Heterogeneity\n",
    "\n",
    "So far we have assumed that our proximity variable might stand in for a difficult-to-measure premium individuals pay when they're close to a recreational zone (a park in this case). Our approach in that case was to incorporate space through a very specific channel, that is the distance to an amenity we thought might be influencing the final price. However, not all neighborhoods have the same house prices; some neighborhoods may be systematically more expensive than others, regardless of their proximity to Balboa Park. If this is our case, we need some way to account for the fact that each neighborhood may experience these kinds of *gestalt*, unique effects. One way to do this is by capturing *spatial heterogeneity*. At its most basic, *spatial heterogeneity* means that parts of the model may vary systematically with geography, change in different places. For example, changes to the intercept, $\\alpha$, may reflect the fact that different areas have different baseline exposures to a given process. Changes to the slope terms, $\\beta$, may indicate some kind of geographical mediating factor that makes the relationship between the independent and dependent variables vary across space, such as when a governmental policy is not consistently applied across jurisdictions. Finally, changes to the variance of the residuals, commonly denoted $\\sigma^2$, can introduce spatial heteroskedasticity. We deal with the first two in this section. \n",
    "\n",
    "#### Spatial Fixed Effects\n",
    "\n",
    "The literature commonly refers to geographic variations of $\\alpha$ as \"spatial fixed effects\". To illustrate them, let us consider the house price example from the previous section. Sometimes, spatial fixed effects are said to capture \"space as a proxy\", in that we know the outcome varies over space, we (hope to) know the pattern it follows (in our case, by neighbourhood) and we can thus incorporate that knowledge into the model by letting $\\alpha$ vary accordingly. The rationale goes as follows. Given we are only including a few explanatory variables in the model, it is likely we are missing some important factors that play a role at determining the price at which a house is sold. Some of them, however, are likely to vary systematically over space (e.g. different neighborhood characteristics). If that is the case, we can control for those unobserved factors by using traditional binary variables but basing their creation on a spatial rule. For example, let us include a binary variable for every neighborhood, indicating whether a given house is located within such area (`1`) or not (`0`). Mathematically, we are now fitting the following equation:\n",
    "\n",
    "$$\n",
    "\\log{P_i} = \\alpha_r + \\sum_k \\mathbf{X}_{ik}\\beta_k  + \\epsilon_i\n",
    "$$\n",
    "\n",
    "where the main difference is that we are now allowing the constant term, $\\alpha$, to vary by neighborhood $r$, $\\alpha_r$.\n",
    "\n",
    "Programmatically, we will show two different ways we can estimate this: one,\n",
    "using `statsmodels`; and two, with `spreg`. First, we will use `statsmodels`, the econometrician's toolbox in Python. "
   ]
  },
  {
   "cell_type": "code",
   "execution_count": null,
   "id": "every-algorithm",
   "metadata": {},
   "outputs": [],
   "source": [
    "import statsmodels.formula.api as sm"
   ]
  },
  {
   "cell_type": "markdown",
   "id": "federal-wages",
   "metadata": {},
   "source": [
    "This package provides a formula-like API, which allows us to express the *equation* we wish to estimate directly:"
   ]
  },
  {
   "cell_type": "code",
   "execution_count": null,
   "id": "middle-rolling",
   "metadata": {},
   "outputs": [],
   "source": [
    "f = (\n",
    "    \"log_price ~ \"\n",
    "    + \" + \".join(variable_names)\n",
    "    + \" + neighborhood - 1\"\n",
    ")\n",
    "print(f)"
   ]
  },
  {
   "cell_type": "markdown",
   "id": "outside-limit",
   "metadata": {},
   "source": [
    "The *tilde* operator in this statement is usually read as \"log price is a function of ...\", to account for the fact that many different model specifications can be fit according to that functional relationship between `log_price` and our covariate list. Critically, note that the trailing `-1` term means that we are fitting this model without an intercept term. This is necessary, since including an intercept term alongside unique means for every neighborhood would make the underlying system of equations underspecified.  \n",
    "\n",
    "Using this expression, we can estimate the unique effects of each neighborhood, fitting the model in `statsmodels` (note how the specification of the model, formula and data, is separated from the fitting step): "
   ]
  },
  {
   "cell_type": "code",
   "execution_count": null,
   "id": "historical-bahrain",
   "metadata": {
    "tags": []
   },
   "outputs": [],
   "source": [
    "m3 = sm.ols(f, data=db).fit()"
   ]
  },
  {
   "cell_type": "markdown",
   "id": "nuclear-rental",
   "metadata": {},
   "source": [
    "We could rely on the `summary2()` method to print a similar summary report from the regression but, given it is a lengthy one in this case, we will illustrate how you can extract the spatial fixed effects into a table for display."
   ]
  },
  {
   "cell_type": "code",
   "execution_count": null,
   "id": "described-grant",
   "metadata": {},
   "outputs": [],
   "source": [
    "# Store variable names for all the spatial fixed effects\n",
    "sfe_names = [i for i in m3.params.index if \"neighborhood[\" in i]\n",
    "# Create table\n",
    "pandas.DataFrame(\n",
    "    {\n",
    "        \"Coef.\": m3.params[sfe_names],\n",
    "        \"Std. Error\": m3.bse[sfe_names],\n",
    "        \"P-Value\": m3.pvalues[sfe_names],\n",
    "    }\n",
    ")"
   ]
  },
  {
   "cell_type": "markdown",
   "id": "another-drove",
   "metadata": {},
   "source": [
    "The approach above shows how spatial FE are a particular case of a linear regression with a categorical  variable. Neighborhood membership is modeled using binary dummy variables. Thanks to the formula grammar used in `statsmodels`, we can express the model abstractly, and Python parses it, appropriately creating binary variables as required.\n",
    "\n",
    "The second approach leverages `spreg` Regimes functionality. We will see regimes below but, for now, think of them as a generalisation of spatial fixed effects where not only $\\alpha$ can vary. This framework allows the user to specify which variables are to be estimated separately for each group. In this case, instead of describing the model in a formula, we need to pass each element of the model as separate arguments."
   ]
  },
  {
   "cell_type": "code",
   "execution_count": null,
   "id": "resistant-nickel",
   "metadata": {},
   "outputs": [],
   "source": [
    "# spreg spatial fixed effect implementation\n",
    "m4 = spreg.OLS_Regimes(\n",
    "    # Dependent variable\n",
    "    db[[\"log_price\"]].values,\n",
    "    # Independent variables\n",
    "    db[variable_names].values,\n",
    "    # Variable specifying neighborhood membership\n",
    "    db[\"neighborhood\"].tolist(),\n",
    "    # Allow the constant term to vary by group/regime\n",
    "    constant_regi=\"many\",\n",
    "    # Variables to be allowed to vary (True) or kept\n",
    "    # constant (False). Here we set all to False\n",
    "    cols2regi=[False] * len(variable_names),\n",
    "    # Allow separate sigma coefficients to be estimated\n",
    "    # by regime (False so a single sigma)\n",
    "    regime_err_sep=False,\n",
    "    # Dependent variable name\n",
    "    name_y=\"log_price\",\n",
    "    # Independent variables names\n",
    "    name_x=variable_names,\n",
    ")"
   ]
  },
  {
   "cell_type": "markdown",
   "id": "intelligent-province",
   "metadata": {},
   "source": [
    "Similarly as above, we could rely on the `summary` attribute to print a report with all the results computed. For simplicity here, we will only confirm that, to the 12th decimal, the parameters estimated are indeed the same as those we get from `statsmodels`:"
   ]
  },
  {
   "cell_type": "code",
   "execution_count": null,
   "id": "aggregate-variable",
   "metadata": {},
   "outputs": [],
   "source": [
    "import numpy\n",
    "\n",
    "numpy.round(m4.betas.flatten() - m3.params.values, decimals=12)"
   ]
  },
  {
   "cell_type": "markdown",
   "id": "centered-creation",
   "metadata": {},
   "source": [
    "Econometrically speaking, what the neighborhood FEs we have introduced imply is that, instead of comparing all house prices across San Diego as equal, we only derive variation from within each postcode. Remember that the interpretation of $\\beta_k$ is the effect of variable $k$, *given all the other explanatory variables included remain constant*. By including a single variable for each area, we are effectively forcing the model to compare as equal only house prices that share the same value for each variable; or, in other words, only houses located within the same area. Introducing FE affords a higher degree of isolation of the effects of the variables we introduce in the model because we can control for unobserved effects that align spatially with the distribution of the FE introduced (by neighborhood, in our case). To make a map of neighborhood fixed effects, we need to process the results from our model slightly.\n",
    "\n",
    "First, we extract only the effects pertaining to the neighborhoods:"
   ]
  },
  {
   "cell_type": "code",
   "execution_count": null,
   "id": "governing-evanescence",
   "metadata": {},
   "outputs": [],
   "source": [
    "neighborhood_effects = m3.params.filter(like=\"neighborhood\")\n",
    "neighborhood_effects.head()"
   ]
  },
  {
   "cell_type": "markdown",
   "id": "animated-desert",
   "metadata": {},
   "source": [
    "Then, we need to extract just the neighborhood name from the index of this Series. A simple way to do this is to strip all the characters that come before and after our neighborhood names:"
   ]
  },
  {
   "cell_type": "code",
   "execution_count": null,
   "id": "widespread-madrid",
   "metadata": {},
   "outputs": [],
   "source": [
    "# Create a sequence with the variable names without\n",
    "# `neighborhood[` and `]`\n",
    "stripped = neighborhood_effects.index.str.strip(\n",
    "    \"neighborhood[\"\n",
    ").str.strip(\"]\")\n",
    "# Reindex the neighborhood_effects Series on clean names\n",
    "neighborhood_effects.index = stripped\n",
    "# Convert Series to DataFrame\n",
    "neighborhood_effects = neighborhood_effects.to_frame(\"fixed_effect\")\n",
    "# Print top of table\n",
    "neighborhood_effects.head()"
   ]
  },
  {
   "cell_type": "markdown",
   "id": "dutch-sector",
   "metadata": {},
   "source": [
    "Good, we're back to our raw neighborhood names. These allow us to join it to an auxillary file with neighborhood boundaries that is indexed on the same names. Let's read the boundaries first:"
   ]
  },
  {
   "cell_type": "code",
   "execution_count": null,
   "id": "abroad-appearance",
   "metadata": {},
   "outputs": [],
   "source": [
    "sd_path = \"../data/airbnb/neighbourhoods.geojson\"\n",
    "neighborhoods = geopandas.read_file(sd_path)"
   ]
  },
  {
   "cell_type": "markdown",
   "id": "million-reputation",
   "metadata": {},
   "source": [
    "And we can then merge the spatial fixed effects and plot them on a map:"
   ]
  },
  {
   "cell_type": "code",
   "execution_count": null,
   "id": "virgin-lease",
   "metadata": {
    "caption": "Neighborhood effects on Airbnb nightly prices. Neighborhoods shown in grey are 'not statistically significant' in their effect on Airbnb prices.",
    "tags": []
   },
   "outputs": [],
   "source": [
    "# Plot base layer with all neighborhoods in grey\n",
    "ax = neighborhoods.plot(\n",
    "    color=\"k\", linewidth=0, alpha=0.5, figsize=(12, 6)\n",
    ")\n",
    "# Merge SFE estimates (note not every polygon\n",
    "# receives an estimate since not every polygon\n",
    "# contains AirBnb properties)\n",
    "neighborhoods.merge(\n",
    "    neighborhood_effects,\n",
    "    how=\"left\",\n",
    "    left_on=\"neighbourhood\",\n",
    "    right_index=True\n",
    "    # Drop polygons without a SFE estimate\n",
    ").dropna(\n",
    "    subset=[\"fixed_effect\"]\n",
    "    # Plot quantile choropleth\n",
    ").plot(\n",
    "    \"fixed_effect\",  # Variable to display\n",
    "    scheme=\"quantiles\",  # Choropleth scheme\n",
    "    k=7,  # No. of classes in the choropleth\n",
    "    linewidth=0.1,  # Polygon border width\n",
    "    cmap=\"viridis\",  # Color scheme\n",
    "    ax=ax,  # Axis to draw on\n",
    ")\n",
    "# Add basemap\n",
    "contextily.add_basemap(\n",
    "    ax,\n",
    "    crs=neighborhoods.crs,\n",
    "    source=contextily.providers.CartoDB.PositronNoLabels,\n",
    ")\n",
    "# Remove axis\n",
    "ax.set_axis_off()\n",
    "# Display\n",
    "plt.show()"
   ]
  },
  {
   "cell_type": "markdown",
   "id": "double-edmonton",
   "metadata": {},
   "source": [
    "We can see a clear spatial structure in the SFE estimates. The most expensive neighborhoods tend to be located nearby the coast, while the cheapest ones are more inland."
   ]
  },
  {
   "cell_type": "markdown",
   "id": "another-generic",
   "metadata": {},
   "source": [
    "#### Spatial Regimes\n",
    "\n",
    "At the core of estimating spatial FEs is the idea that, instead of assuming the dependent variable behaves uniformly over space, there are systematic effects following a geographical pattern that affect its behavior. In other words, spatial FEs introduce econometrically the notion of spatial heterogeneity. They do this in the simplest possible form: by allowing the constant term to vary geographically. The other elements of the regression are left untouched and hence apply uniformly across space. The idea of spatial regimes (SRs) is to generalize the spatial FE approach to allow not only the constant term to vary but also any other explanatory variable. This implies that the equation we will be estimating is:\n",
    "\n",
    "$$\n",
    "\\log{P_i} = \\alpha_r + \\sum_k \\mathbf{X}_{ki}\\beta_{k-r} + \\epsilon_i\n",
    "$$\n",
    "\n",
    "where we are not only allowing the constant term to vary by region ($\\alpha_r$), but also every other parameter ($\\beta_{k-r}$).\n",
    "\n",
    "To illustrate this approach, we will use the \"spatial differentiator\" of whether a house is in a coastal neighborhood or not (`coastal_neig`) to define the regimes. The rationale behind this choice is that renting a house close to the ocean might be a strong enough pull that people might be willing to pay at different *rates* for each of the house's characteristics.\n",
    "\n",
    "To implement this in Python, we use the `OLS_Regimes` class in `spreg`, which does most of the heavy lifting for us:"
   ]
  },
  {
   "cell_type": "code",
   "execution_count": null,
   "id": "fatty-ecology",
   "metadata": {},
   "outputs": [],
   "source": [
    "# Pysal spatial regimes implementation\n",
    "m5 = spreg.OLS_Regimes(\n",
    "    # Dependent variable\n",
    "    db[[\"log_price\"]].values,\n",
    "    # Independent variables\n",
    "    db[variable_names].values,\n",
    "    # Variable specifying neighborhood membership\n",
    "    db[\"coastal\"].tolist(),\n",
    "    # Allow the constant term to vary by group/regime\n",
    "    constant_regi=\"many\",\n",
    "    # Allow separate sigma coefficients to be estimated\n",
    "    # by regime (False so a single sigma)\n",
    "    regime_err_sep=False,\n",
    "    # Dependent variable name\n",
    "    name_y=\"log_price\",\n",
    "    # Independent variables names\n",
    "    name_x=variable_names,\n",
    ")"
   ]
  },
  {
   "cell_type": "markdown",
   "id": "union-germany",
   "metadata": {},
   "source": [
    "The result can be explored and interpreted similarly to the previous ones. If you inspect the `summary` attribute, you will find the parameters for each variable mostly conform to what you would expect, across both regimes. To compare them, we can plot them side by side on a bespoke table:"
   ]
  },
  {
   "cell_type": "code",
   "execution_count": null,
   "id": "acoustic-entrance",
   "metadata": {},
   "outputs": [],
   "source": [
    "# Results table\n",
    "res = pandas.DataFrame(\n",
    "    {\n",
    "        # Pull out regression coefficients and\n",
    "        # flatten as they are returned as Nx1 array\n",
    "        \"Coeff.\": m5.betas.flatten(),\n",
    "        # Pull out and flatten standard errors\n",
    "        \"Std. Error\": m5.std_err.flatten(),\n",
    "        # Pull out P-values from t-stat object\n",
    "        \"P-Value\": [i[1] for i in m5.t_stat],\n",
    "    },\n",
    "    index=m5.name_x,\n",
    ")\n",
    "# Coastal regime\n",
    "## Extract variables for the coastal regime\n",
    "coastal = [i for i in res.index if \"1_\" in i]\n",
    "## Subset results to coastal and remove the 1_ underscore\n",
    "coastal = res.loc[coastal, :].rename(lambda i: i.replace(\"1_\", \"\"))\n",
    "## Build multi-index column names\n",
    "coastal.columns = pandas.MultiIndex.from_product(\n",
    "    [[\"Coastal\"], coastal.columns]\n",
    ")\n",
    "# Non-coastal model\n",
    "## Extract variables for the non-coastal regime\n",
    "ncoastal = [i for i in res.index if \"0_\" in i]\n",
    "## Subset results to non-coastal and remove the 0_ underscore\n",
    "ncoastal = res.loc[ncoastal, :].rename(lambda i: i.replace(\"0_\", \"\"))\n",
    "## Build multi-index column names\n",
    "ncoastal.columns = pandas.MultiIndex.from_product(\n",
    "    [[\"Non-coastal\"], ncoastal.columns]\n",
    ")\n",
    "# Concat both models\n",
    "pandas.concat([coastal, ncoastal], axis=1)"
   ]
  },
  {
   "cell_type": "markdown",
   "id": "waiting-rubber",
   "metadata": {},
   "source": [
    "An interesting question arises around the relevance of the regimes. *Are estimates for each variable across regimes statistically different?* For this, the model object also calculates for us what is called a Chow test. This is a statistic that tests the null hypothesis that estimates from different regimes are undistinguishable. If we reject the null, we have evidence suggesting the regimes actually make a difference.\n",
    "\n",
    "Results from the Chow test are available on the `summary` attribute, or we can extract them directly from the model object, which we will do here. There are two types of Chow test. First is a global one that jointly tests for differences between the two regimes:"
   ]
  },
  {
   "cell_type": "code",
   "execution_count": null,
   "id": "comparable-playing",
   "metadata": {},
   "outputs": [],
   "source": [
    "m5.chow.joint"
   ]
  },
  {
   "cell_type": "markdown",
   "id": "specified-apparatus",
   "metadata": {},
   "source": [
    "The first value represents the statistic, while the second one captures the p-value. In this case, the two regimes are statistically different from each other. The next step then is to check to whether each of the coefficients in our model differ across regimes. For this, we can pull them out into a table:"
   ]
  },
  {
   "cell_type": "code",
   "execution_count": null,
   "id": "quantitative-rhythm",
   "metadata": {},
   "outputs": [],
   "source": [
    "pandas.DataFrame(\n",
    "    # Chow results by variable\n",
    "    m5.chow.regi,\n",
    "    # Name of variables\n",
    "    index=m5.name_x_r,\n",
    "    # Column names\n",
    "    columns=[\"Statistic\", \"P-value\"],\n",
    ")"
   ]
  },
  {
   "cell_type": "markdown",
   "id": "excess-receipt",
   "metadata": {},
   "source": [
    "As we can see in the table, most variables do indeed differ across regimes, statistically speaking. This points to systematic differences in the data generating processes across spatial regimes."
   ]
  },
  {
   "cell_type": "markdown",
   "id": "immediate-latter",
   "metadata": {},
   "source": [
    "### Spatial Dependence\n",
    "\n",
    "As we have just discussed, SH is about effects of phenomena that are *explicitly linked*\n",
    "to geography and that hence cause spatial variation and clustering. This\n",
    "encompasses many of the kinds of spatial effects we may be interested in when we fit\n",
    "linear regressions. However, in other cases, our focus is on the effect of the *spatial\n",
    "configuration* of the observations, and the extent to which that has an effect on the\n",
    "outcome we are considering. For example, we might think that the price of a house not\n",
    "only depends on whether it is a townhouse or an apartment, but also on\n",
    "whether it is surrounded by many more townhouses than skyscrapers with more\n",
    "apartments. This, we could hypothesize, might be related to the different \"look and feel\" a\n",
    "neighborhood with low-height, historic buildings has as compared to one with\n",
    "modern high-rises. To the extent these two different spatial configurations\n",
    "enter differently the house price determination process, we will be\n",
    "interested in capturing not only the characteristics of a house, but also of\n",
    "its surrounding ones.\n",
    "This kind of spatial effect is fundamentally different\n",
    "from SH in that is it not related to inherent characteristics of the geography but relates \n",
    "to the characteristics of the observations in our dataset and, specially, to their spatial\n",
    "arrangement. We call this phenomenon by which the values of observations are related to\n",
    "each other through distance *spatial dependence* {cite}`Anselin_1988`."
   ]
  },
  {
   "cell_type": "markdown",
   "id": "indonesian-latino",
   "metadata": {},
   "source": [
    "There are several ways to introduce spatial dependence in an econometric\n",
    "framework, with varying degrees of econometric sophistication (see\n",
    "{cite}`Anselin_2002` for a good overview). Common to all of them however is the way space is\n",
    "formally encapsulated: through *spatial weights matrices ($\\mathbf{W}$)*, which we discussed in [Chapter 4](04_spatial_weights). In this section, we consider three ways in which spatial dependence, through spatial weights matrices, can be incorporated in a regression framework. We begin with the \"least invasive\" one, where we only modify the set of independent variables, and the move into more substantial modifications of the baseline linear model.\n",
    "\n",
    "#### Exogenous effects: The SLX Model\n",
    "\n",
    "Let us come back to the house price example we have been working with. So far, we\n",
    "have hypothesized that the price of a house rented in San Diego through AirBnB can\n",
    "be explained using information about its own characteristics as well as some \n",
    "relating to its location such as the neighborhood or the distance to the main\n",
    "park in the city. However, it is also reasonable to think that prospective renters\n",
    "care about the set of neighbours a house has, not only about the house itself, and would\n",
    "be willing to pay more for a house that was surrounded by certain types of houses, \n",
    "and less if it was located in the middle of other types. How could we test this idea?\n",
    "\n",
    "When it comes to regression, the most straightforward way to introduce spatial dependence between the observations in the data is by \n",
    "considering not only a given explanatory variable, but also its spatial lag. Conceptually, this approach falls more within the area of spatial feature engineering, which embeds space in a model through the explanatory variables it uses rather than the functional form of the model, and which we delve into with more detail in [Chapter 12](12_feature_engineering). But we think it is interesting to discuss it in this context for two reasons. First, it provides \"intellectual scaffolding\" to learn the intuition of building spatial dependence into regression. And second, because it also illustrates how many of the techniques we cover in [Chapter 12](12_feature_engineering) can be embedded in a regression model (and, by extension, in other predictive approaches).\n",
    "\n",
    "In our\n",
    "example case, in addition to including a dummy for the type of house (`pg_XXX`), we \n",
    "can also include the spatial lag of each type of house. This addition implies\n",
    "we are also including as explanatory factor of the price of a given house the proportion \n",
    "neighboring houses in each type. Mathematically, this implies estimating the following model:\n",
    "\n",
    "$$\n",
    "\\log(P_i) = \\alpha + \\sum^{p}_{k=1}X_{ij}\\beta_j + \\sum^{p}_{k=1}\\left(\\sum^{N}_{j=1}w_{ij}x_{jk}\\right)\\gamma_k + \\epsilon_i\n",
    "$$\n",
    "\n",
    "where $\\sum_{j=1}^N w_{ij}x_{jk}$ represents the spatial lag of the $k$th explanatory variable.\n",
    "This can be stated in *matrix* form using the spatial weights matrix, $\\mathbf{W}$, as:\n",
    "\n",
    "$$\n",
    "\\log(P_i) = \\alpha + \\mathbf{X}\\beta + \\mathbf{WX}\\gamma + \\epsilon\n",
    "$$\n",
    "\n",
    "This splits the model to focus on two main effects: $\\beta$ and $\\gamma$. The\n",
    "$\\beta$ effect describes the change in $y_i$ when $X_{ik}$ changes by one. \n",
    "[^elast] The subscript for site $i$ is important here: since we're dealing \n",
    "with a $\\mathbf{W}$ matrix, it's useful to be clear about where the change occurs. \n",
    "\n",
    "[^elast]: Since we use the log price as the dependent variable, our\n",
    "$\\beta$ coefficients can be interpreted as the percentage change in the price associated with a unit change in the explanatory variable.\n",
    "\n",
    "Indeed, this matters for the $\\gamma$ effect, which represents the \n",
    "*indirect* association of a change in $X_i$ with the house price. This can be conceptualized in two ways. \n",
    "First, one could think of $\\gamma$ as simply *the association between the price in a given house and a unit change in its average surroundings.*\n",
    "This is useful and simple. But this interpretation blurs *where* this change\n",
    "might occur. In truth, a change in a variable at site $i$ will result in a *spillover* to its surroundings:\n",
    "when $x_i$ changes, so too does the *spatial lag* of any site near $i$. \n",
    "The precise size of the change in the lag will depend on the structure of $\\mathbf{W}$, and can be \n",
    "different for every site it is connected with. For example, think of a very highly-connected \"focal\" site in a \n",
    "row-standardized weight matrix. This focal site will not be strongly affected \n",
    "if a neighbor changes by a single unit, since each site only contributes a \n",
    "small amount to the lag at the focal site. Alternatively, consider a site with only \n",
    "one neighbor: its lag will change by *exactly* the amount its sole neighbor changes.\n",
    "Thus, to discover the exact indirect effect of a change $y$ caused by the change\n",
    "at a specific site $x_i$ you would need to compute the *change in the spatial lag*,\n",
    "and then use that as your *change* in $X$. We will discuss this in the following section. \n",
    "\n",
    "In Python, we can calculate the spatial lag of each variable whose name starts by `pg_`\n",
    "by first creating a list of all of those names, and then applying `pysal`'s\n",
    "`lag_spatial` to each of them:"
   ]
  },
  {
   "cell_type": "code",
   "execution_count": null,
   "id": "serious-mediterranean",
   "metadata": {},
   "outputs": [],
   "source": [
    "# Select only columns in `db` containing the keyword `pg_`\n",
    "wx = (\n",
    "    db.filter(\n",
    "        like=\"pg_\"\n",
    "        # Compute the spatial lag of each of those variables\n",
    "    )\n",
    "    .apply(\n",
    "        lambda y: weights.spatial_lag.lag_spatial(knn, y)\n",
    "        # Rename the spatial lag, adding w_ to the original name\n",
    "    )\n",
    "    .rename(\n",
    "        columns=lambda c: \"w_\"\n",
    "        + c\n",
    "        # Remove the lag of the binary variable for apartments\n",
    "    )\n",
    "    .drop(\"w_pg_Apartment\", axis=1)\n",
    ")"
   ]
  },
  {
   "cell_type": "markdown",
   "id": "cognitive-irrigation",
   "metadata": {},
   "source": [
    "Once computed, we can run the model using OLS estimation because, in this\n",
    "context, the spatial  lags included do not violate any of the assumptions OLS\n",
    "relies on (they are essentially additional exogenous variables):"
   ]
  },
  {
   "cell_type": "code",
   "execution_count": null,
   "id": "understanding-instruction",
   "metadata": {},
   "outputs": [],
   "source": [
    "# Merge original variables with the spatial lags in `wx`\n",
    "slx_exog = db[variable_names].join(wx)\n",
    "# Fit linear model with `spreg`\n",
    "m6 = spreg.OLS(\n",
    "    # Dependent variable\n",
    "    db[[\"log_price\"]].values,\n",
    "    # Independent variables\n",
    "    slx_exog.values,\n",
    "    # Dependent variable name\n",
    "    name_y=\"l_price\",\n",
    "    # Independent variables names\n",
    "    name_x=slx_exog.columns.tolist(),\n",
    ")"
   ]
  },
  {
   "cell_type": "markdown",
   "id": "stable-analyst",
   "metadata": {},
   "source": [
    "As in the previous cases, printing the `summary` attribute of the model object would show a full report table. The variables we included in the original regression\n",
    "display similar behavior, albeit with small changes in size, and can be\n",
    "interpreted also in a similar way. To focus on the aspects that differ from the previous models here, we will only pull out results for the variables for which we also included their spatial lags:"
   ]
  },
  {
   "cell_type": "code",
   "execution_count": null,
   "id": "planned-cream",
   "metadata": {},
   "outputs": [],
   "source": [
    "# Collect names of variables of interest\n",
    "vars_of_interest = (\n",
    "    db[variable_names].filter(like=\"pg_\").join(wx).columns\n",
    ")\n",
    "# Build full table of regression coefficients\n",
    "pandas.DataFrame(\n",
    "    {\n",
    "        # Pull out regression coefficients and\n",
    "        # flatten as they are returned as Nx1 array\n",
    "        \"Coeff.\": m6.betas.flatten(),\n",
    "        # Pull out and flatten standard errors\n",
    "        \"Std. Error\": m6.std_err.flatten(),\n",
    "        # Pull out P-values from t-stat object\n",
    "        \"P-Value\": [i[1] for i in m6.t_stat],\n",
    "    },\n",
    "    index=m6.name_x\n",
    "    # Subset for variables of itnerest only and round to\n",
    "    # four decimals\n",
    ").reindex(vars_of_interest).round(4)"
   ]
  },
  {
   "cell_type": "markdown",
   "id": "excess-benjamin",
   "metadata": {},
   "source": [
    "The spatial lag of each type of property\n",
    "(`w_pg_XXX`) is the new addition. We observe that, except for the case\n",
    "of townhouses (same as with the binary variable, `pg_Townhouse`), they are all\n",
    "significant, suggesting our initial hypothesis on the role of the surrounding\n",
    "houses might indeed be at work here. \n",
    "\n",
    "As an illustration, let's look at some of the direct/indirect effects. \n",
    "The direct effect of the `pg_Condominium` variable means that condominiums are\n",
    "typically 11% more expensive ($\\beta_{pg\\_{Condominium}}=0.1063$) than the benchmark\n",
    "property type, apartments. More relevant to this section, any given house surrounded by \n",
    "condominiums *also* receives a price premium. But, since $pg_{Condominium}$ is a dummy variable,\n",
    "the spatial lag at site $i$ represents the *percentage* of properties near $i$ that are\n",
    "condominiums, which is between $0$ and $1$.[^Discover]\n",
    "So, a *unit* change in this variable means that you would increase the condominium \n",
    "percentage by 100%. Thus, a $.1$ increase in `w_pg_Condominium` (a change of ten percentage points)\n",
    "would result in a 5.92% increase in the property house price ($\\beta_{w_pg\\_Condominium} = 0.6$). \n",
    "Similar interpretations can be derived for all other spatially lagged variables to derive the\n",
    "*indirect* effect of a change in the spatial lag. \n",
    "\n",
    "To compute the indirect change for a given site $i$, you may need to examine the predicted values for its price. In this example, since we are using a row-standardized weights matrix with twenty nearest neighbors, the impact of changing $x_i$ is the same for all of its neighbors and for any site $i$. Thus, the effect is always $\\frac{\\gamma}{20}$, or about $0.0296$. However, it is interesting to consider this would not be the case for many other kinds of weights (like `Kernel`, `Queen`, `Rook`, `DistanceBand`, or `Voronoi`), where each observation has potentially a different number of neighbors. To illustrate this, we will construct the indirect effect for a specific $i$ in the condominium group. \n",
    "\n",
    "First, predicted values for $y_i$ are stored in the `predy` attribute of any `spreg` model:\n",
    "\n",
    "[^Discover]:Discover this for yourself: what is the average of `numpy.array([True, True, True, False, False, True)]`?"
   ]
  },
  {
   "cell_type": "code",
   "execution_count": null,
   "id": "balanced-horizon",
   "metadata": {},
   "outputs": [],
   "source": [
    "# Print first three predicted values\n",
    "m5.predy[:3]"
   ]
  },
  {
   "cell_type": "markdown",
   "id": "opened-former",
   "metadata": {},
   "source": [
    "To build new predictions, we need to follow the underlying equation of our model. \n",
    "\n",
    "To illustrate the effect of a change in one of the values in a given location in other locations, we will switch one of the properties into the condominium category. Consider the third observation, which is the first apartment in the data:"
   ]
  },
  {
   "cell_type": "code",
   "execution_count": null,
   "id": "injured-burden",
   "metadata": {},
   "outputs": [],
   "source": [
    "# Print values for third observation for columns spanning\n",
    "# from `pg_Apartment` to `pg_Townhouse`\n",
    "db.loc[2, \"pg_Apartment\":\"pg_Townhouse\"]"
   ]
  },
  {
   "cell_type": "markdown",
   "id": "favorite-concert",
   "metadata": {},
   "source": [
    "Let's now make a copy of our data and change the value to magically turn the apartment into a condominium:"
   ]
  },
  {
   "cell_type": "code",
   "execution_count": null,
   "id": "educated-macintosh",
   "metadata": {},
   "outputs": [],
   "source": [
    "# Make copy of the dataset\n",
    "db_scenario = db.copy()\n",
    "# Make Apartment 0 and condo 1 for third observation\n",
    "db_scenario.loc[2, [\"pg_Apartment\", \"pg_Condominium\"]] = [0, 1]"
   ]
  },
  {
   "cell_type": "markdown",
   "id": "preceding-thomson",
   "metadata": {},
   "source": [
    "We've successfully made the change:"
   ]
  },
  {
   "cell_type": "code",
   "execution_count": null,
   "id": "organizational-temple",
   "metadata": {},
   "outputs": [],
   "source": [
    "db_scenario.loc[2, \"pg_Apartment\":\"pg_Townhouse\"]"
   ]
  },
  {
   "cell_type": "markdown",
   "id": "committed-champion",
   "metadata": {},
   "source": [
    "Now, we need to *also* update the spatial lag variates:"
   ]
  },
  {
   "cell_type": "code",
   "execution_count": null,
   "id": "cross-fitness",
   "metadata": {},
   "outputs": [],
   "source": [
    "# Select only columns in `db_scenario` containing the keyword `pg_`\n",
    "wx_scenario = (\n",
    "    db_scenario.filter(\n",
    "        like=\"pg\"\n",
    "        # Compute the spatial lag of each of those variables\n",
    "    )\n",
    "    .apply(\n",
    "        lambda y: weights.spatial_lag.lag_spatial(knn, y)\n",
    "        # Rename the spatial lag, adding w_ to the original name\n",
    "    )\n",
    "    .rename(\n",
    "        columns=lambda c: \"w_\"\n",
    "        + c\n",
    "        # Remove the lag of the binary variable for apartments\n",
    "    )\n",
    "    .drop(\"w_pg_Apartment\", axis=1)\n",
    ")"
   ]
  },
  {
   "cell_type": "markdown",
   "id": "continuing-swing",
   "metadata": {},
   "source": [
    "And build a new exogenous $\\mathbf{X}$ matrix, including the a constant 1 as the leading column"
   ]
  },
  {
   "cell_type": "code",
   "execution_count": null,
   "id": "blocked-hampshire",
   "metadata": {},
   "outputs": [],
   "source": [
    "slx_exog_scenario = db_scenario[variable_names].join(wx_scenario)"
   ]
  },
  {
   "cell_type": "markdown",
   "id": "grateful-lobby",
   "metadata": {},
   "source": [
    "Now, our new prediction (in the scenario where we have changed site `2` from an apartment into a condominium), can be computed by translating the model equation into Python code and plugging into it the simulated values we have just created:"
   ]
  },
  {
   "cell_type": "code",
   "execution_count": null,
   "id": "negative-forth",
   "metadata": {},
   "outputs": [],
   "source": [
    "# Compute new set of predicted values\n",
    "y_pred_scenario = m6.betas[0] + slx_exog_scenario @ m6.betas[1:]"
   ]
  },
  {
   "cell_type": "markdown",
   "id": "ignored-expense",
   "metadata": {},
   "source": [
    "Note the only difference between this set of predictions and the one in the original `m6` model is that we have switched site `2` from apartment into condominium. Hence, every property which is _not_ connected to site `2` (or is not site `2` itself) will be unaffected. The _neighbors_ of site `2` however will have different predictions. To explore these, let's first identify who is in this group:"
   ]
  },
  {
   "cell_type": "code",
   "execution_count": null,
   "id": "italian-peace",
   "metadata": {
    "tags": []
   },
   "outputs": [],
   "source": [
    "print(knn.neighbors[2])"
   ]
  },
  {
   "cell_type": "markdown",
   "id": "dental-mileage",
   "metadata": {},
   "source": [
    "Now, the effect of changing site `2` from an apartment into a condominium is associated with the following changes to the predicted (log) price, which we calculate by substracting the new predicted values from the original ones and subsetting only to site `2` and its neighbors:"
   ]
  },
  {
   "cell_type": "code",
   "execution_count": null,
   "id": "grave-brief",
   "metadata": {},
   "outputs": [],
   "source": [
    "# Difference between original and new predicted values\n",
    "(\n",
    "    y_pred_scenario\n",
    "    - m6.predy\n",
    "    # Subset to site `2` and its neighbors\n",
    ").loc[[2] + knn.neighbors[2]]"
   ]
  },
  {
   "cell_type": "markdown",
   "id": "rolled-voluntary",
   "metadata": {},
   "source": [
    "We see the first row, representing the direct effect, is equal exactly to the estimate for `pg_Condominium`. For the other effects, though, we have only changed `w_pg_Condominium` by $.03$ which roughly equates the marginal effect (`w_pg_Condominium`) divided by the weight of the spatial relationship between site `2` and every neighbor (in this case, $\\frac{1}{20}$ for every neighbor, but note if different neighbors had different cardinalities, this would differ).\n",
    "\n",
    "Introducing a spatial lag of an explanatory variable, as we have just seen, is the most straightforward way of incorporating the notion of spatial dependence in a linear regression framework. It does not require additional changes, it can be estimated with OLS, and the interpretation is rather similar to interpreting non-spatial variables, so long as aggregate changes are required. \n",
    "\n",
    "The field of spatial econometrics however is a much broader one and has produced over the last decades many techniques to deal with spatial effects and spatial dependence in different ways. Although this might be an over simplification, one can say that most of such efforts for the case of a single cross-section are focused on two main variations: the spatial lag and the spatial error model. Both are similar to the case we have seen in that they are based on the introduction of a spatial lag, but they differ in the component of the model they modify and affect.\n",
    "\n",
    "#### Spatial Error\n",
    "\n",
    "The spatial error model includes a spatial lag in the *error* term of the equation:\n",
    "\n",
    "$$\n",
    "\\log{P_i} = \\alpha + \\sum_k \\beta_k X_{ki} + u_i\n",
    "$$\n",
    "\n",
    "$$\n",
    "u_i = \\lambda u_{lag-i} + \\epsilon_i\n",
    "$$\n",
    "\n",
    "where $u_{lag-i} = \\sum_j w_{i,j} u_j$. \n",
    "Although it appears similar, this specification violates the assumptions about the\n",
    "error term in a classical OLS model. Hence, alternative estimation methods are\n",
    "required. Pysal incorporates functionality to estimate several of the most\n",
    "advanced techniques developed by the literature on spatial econometrics. For\n",
    "example, we can use a general method of moments that account for \n",
    "heteroskedasticity {cite}`arraiz2010`:"
   ]
  },
  {
   "cell_type": "code",
   "execution_count": null,
   "id": "current-breakdown",
   "metadata": {},
   "outputs": [],
   "source": [
    "# Fit spatial error model with `spreg`\n",
    "# (GMM estimation allowing for heteroskedasticity)\n",
    "m7 = spreg.GM_Error_Het(\n",
    "    # Dependent variable\n",
    "    db[[\"log_price\"]].values,\n",
    "    # Independent variables\n",
    "    db[variable_names].values,\n",
    "    # Spatial weights matrix\n",
    "    w=knn,\n",
    "    # Dependent variable name\n",
    "    name_y=\"log_price\",\n",
    "    # Independent variables names\n",
    "    name_x=variable_names,\n",
    ")"
   ]
  },
  {
   "cell_type": "markdown",
   "id": "aggregate-andorra",
   "metadata": {},
   "source": [
    "Similarly as before, the `summary` attribute will return a full-featured table of results. For the most part, it may be interpreted in similar ways to those above. The main difference is that, in this case, we can also recover an estimate and inference for the $\\lambda$ parameter in the error term:"
   ]
  },
  {
   "cell_type": "code",
   "execution_count": null,
   "id": "intensive-folks",
   "metadata": {},
   "outputs": [],
   "source": [
    "# Build full table of regression coefficients\n",
    "pandas.DataFrame(\n",
    "    {\n",
    "        # Pull out regression coefficients and\n",
    "        # flatten as they are returned as Nx1 array\n",
    "        \"Coeff.\": m7.betas.flatten(),\n",
    "        # Pull out and flatten standard errors\n",
    "        \"Std. Error\": m7.std_err.flatten(),\n",
    "        # Pull out P-values from t-stat object\n",
    "        \"P-Value\": [i[1] for i in m7.z_stat],\n",
    "    },\n",
    "    index=m7.name_x\n",
    "    # Subset for lambda parameter and round to\n",
    "    # four decimals\n",
    ").reindex([\"lambda\"]).round(4)"
   ]
  },
  {
   "cell_type": "markdown",
   "id": "other-assist",
   "metadata": {},
   "source": [
    "#### Spatial Lag\n",
    "\n",
    "The spatial lag model introduces a spatial lag of the *dependent* variable. In the example we have covered, this would translate into:\n",
    "\n",
    "$$\n",
    "\\log{P_i} = \\alpha + \\rho \\log{P_{lag-i}} + \\sum_k \\beta_k X_{ki} + \\epsilon_i\n",
    "$$\n",
    "\n",
    "Although it might not seem very different from the previous equation, this model violates \n",
    "the exogeneity assumption, crucial for OLS to work. \n",
    "Put simply, this occurs when $P_i$ exists on both \"sides\" of the equals sign.\n",
    "In theory, since $P_i$ is included in computing $P_{lag-i}$, exogeneity is violated. \n",
    "Similarly to the case of\n",
    "the spatial error, several techniques have been proposed to overcome this\n",
    "limitation, and Pysal implements several of them. In the example below, we\n",
    "use a two-stage least squares estimation {cite}`Anselin_1988`, where the spatial\n",
    "lag of all the explanatory variables is used as instrument for the endogenous\n",
    "lag:"
   ]
  },
  {
   "cell_type": "code",
   "execution_count": null,
   "id": "becoming-colorado",
   "metadata": {},
   "outputs": [],
   "source": [
    "# Fit spatial lag model with `spreg`\n",
    "# (GMM estimation)\n",
    "m8 = spreg.GM_Lag(\n",
    "    # Dependent variable\n",
    "    db[[\"log_price\"]].values,\n",
    "    # Independent variables\n",
    "    db[variable_names].values,\n",
    "    # Spatial weights matrix\n",
    "    w=knn,\n",
    "    # Dependent variable name\n",
    "    name_y=\"log_price\",\n",
    "    # Independent variables names\n",
    "    name_x=variable_names,\n",
    ")"
   ]
  },
  {
   "cell_type": "markdown",
   "id": "practical-alpha",
   "metadata": {},
   "source": [
    "And let's summarise the coefficients in a table as before (usual disclaimer about the `summary` object applies):"
   ]
  },
  {
   "cell_type": "code",
   "execution_count": null,
   "id": "conservative-dragon",
   "metadata": {},
   "outputs": [],
   "source": [
    "# Build full table of regression coefficients\n",
    "pandas.DataFrame(\n",
    "    {\n",
    "        # Pull out regression coefficients and\n",
    "        # flatten as they are returned as Nx1 array\n",
    "        \"Coeff.\": m8.betas.flatten(),\n",
    "        # Pull out and flatten standard errors\n",
    "        \"Std. Error\": m8.std_err.flatten(),\n",
    "        # Pull out P-values from t-stat object\n",
    "        \"P-Value\": [i[1] for i in m8.z_stat],\n",
    "    },\n",
    "    index=m8.name_z\n",
    "    # Round to four decimals\n",
    ").round(4)"
   ]
  },
  {
   "cell_type": "markdown",
   "id": "sixth-saturn",
   "metadata": {},
   "source": [
    "Similarly to the effects in the SLX regression, changes in the spatial lag regression need to be interpreted with care. Here, `W_log_price` applies consistently over all observations, and actually changes the effective strength of each of the $\\beta$ coefficients. Thus, it is useful to use predictions and scenario-building to predict $y$ when changing $X$, which allows you to analyze the *direct* and *indirect* components. \n",
    "\n",
    "#### Other ways of bringing space into regression\n",
    "\n",
    "We have covered here only a few ways to formally introduce space in a regression framework. There are however many other advanced spatial regression methods routinely used in statistics, data science, and applied analysis. For example, Generalized Additive Models {cite}`Gibbons_2015,Wood_2006` haven been used to apply spatial kernel smoothing directly within a regression function. Other similar smoothing methods, such as spatial Gaussian process models {cite}`Brunsdon_2010` or Kriging, conceptualize the dependence between locations as smooth as well. Other methods in spatial regression that consider graph-based geographies (rather than distance/kernel effects) include variations on conditional autoregressive model, which examines spatial relationships at locations *conditional* on their surroundings, rather than as jointly co-emergent with them. Full coverage of these topics is beyond the scope of this book, however, though {cite}`Banerjee_2008` provides a detailed and comprehensive discussion. We have not covered these (and other existing ones) not because we do not think are important or useful, far from it, but because we consider them a bit more advanced than the level at which we wanted to pitch the chapter.\n",
    "\n",
    "Both the set of models we have introduced in here and others that exist but we have not covered share the feature of embedding space as a \"first class\" citizen in the regression framework. In all these cases, we conceptualise space (e.g. through a spatial weights matrix) and _modify_ the functional form of our original model in a way that recognises the location of its observations when generating predictions or inference. This approach results in modifications of the modelling framework to accommodate geography. In the next chapter, we discuss a different perspective to embed space in our modelling efforts. Rather than injecting space through the functional form, we will do it through the variables we use to explain/predict the outcome of interest. In this case, we will be using geography to _enrich_ our data _before_ it is passed through a modelling framework."
   ]
  },
  {
   "cell_type": "markdown",
   "id": "discrete-broadway",
   "metadata": {},
   "source": [
    "## Questions\n",
    "\n",
    "1. One common kind of spatial econometric model is the \"Spatial Durbin Model,\" which combines the SLX model with the spatial lag model. Alternatively, the \"Spatial Durbin Error Model\" combines the SLX model with the spatial error model. Fit a Spatial Durbin variant of the spatial models fit in this chapter. \n",
    "    - Do these variants improve the model fit?\n",
    "    - What happens to the spatial autocorrelation parameters ($\\rho$, $\\lambda$) when the SLX term is added? Why might this occur?\n",
    "2. Fortunately for us, spatial error models recover the same estimates (asymptotically) as a typical OLS estimate, although their confidence intervals will change. Statistically, this occurs because OLS miscalculates when there is spatial correlation and/or spatial heteroskedasticity. How much do the confidence intervals change when the spatial error model is fit?\n",
    "3. One common justification for the SLX model (and the Spatial Durbin variants) is about *omitted, spatially-patterned variables*. That is, if an omitted variable is associated with the included variables *and* is spatially-patterned, then we can use the spatial structure of our existing variables to mimic the omitted variable. In our spatial lag model, \n",
    "    - what variables might we be missing that are important to predict the price of an AirBnB?\n",
    "    - would these omitted variables have a similar spatial pattern to our included variables? why or why not? \n",
    "4. Where *spatial* regression models generally focus on how nearby observations are similar to one another, *platial* models focus on how observations in the same spatial group are similar to one another. These are often dealt with using multilevel or spatial mixed-effect models. When do these two ideas work together well? And, when might these disagree?\n",
    "\n",
    "### Challenge Questions\n",
    "\n",
    "The following discussions are a bit challenging, but reflect extra enhancements to the discussions in the chapter that may solidify or enhance an advanced understanding of the material.   \n",
    "\n",
    "#### The random coast\n",
    "In the section analyzing our naive model residuals, we ran a classic two-sample $t$-test to identify whether or not our coastal and not-coastal residential districts tended to have the same prediction errors. Often, though, it's better to use straightforward, data-driven testing and simulation methods than assuming that the mathematical assumptions of the $t$-statistic are met.\n",
    "\n",
    "To do this, we can shuffle our assignments to coast and not-coast, and check whether or not there are differences in the distributions of the *observed* residual distributions and random distributions. In this way, we shuffle the observations that are on the coast, and plot the resulting cumulative distributions.\n",
    "\n",
    "Below, we do this; running 100 simulated re-assignments of districts to either \"coast\" or \"not coast,\" and comparing the distributions of randomly-assigned residuals to the observed distributions of residuals. Further, we do this plotting by the *empirical cumulative density function*, not the histogram directly. This is because the *empirical cumulative density function* is usually easier to examine visually, especially for subtle differences. \n",
    "\n",
    "Below, the black lines represent our simulations, and the colored patches below them represents the observed distribution of residuals. If the black lines tend to be on the left of the colored patch, then, the simulations (where prediction error is totally random with respect to our categories of \"coastal\" and \"not coastal\") tend to have more negative residuals than our actual model. If the black lines tend to be on the right, then they tend to have more positive residuals. As a refresher, positive residuals mean that our model is under-predicting, and negative residuals mean that our model is over-predicting. Below, our simulations provide direct evidence for the claim that our model may be systematically under-predicting coastal price and over-predicting non-coastal prices. "
   ]
  },
  {
   "cell_type": "code",
   "execution_count": null,
   "id": "appropriate-recipe",
   "metadata": {
    "caption": "Distributions showing the differences between coastal and non-coastal prediction errors. Some 'random' simulations are shown in black in each plot, where observations are randomly assigned to either 'Coastal' or 'Not Coastal' groups.",
    "tags": []
   },
   "outputs": [],
   "source": [
    "n_simulations = 100\n",
    "f, ax = plt.subplots(1, 2, figsize=(12, 3), sharex=True, sharey=True)\n",
    "ax[0].hist(\n",
    "    coastal,\n",
    "    color=[\"r\"] * 3,\n",
    "    alpha=0.5,\n",
    "    density=True,\n",
    "    bins=30,\n",
    "    label=\"Coastal\",\n",
    "    cumulative=True,\n",
    ")\n",
    "ax[1].hist(\n",
    "    not_coastal,\n",
    "    color=\"b\",\n",
    "    alpha=0.5,\n",
    "    density=True,\n",
    "    bins=30,\n",
    "    label=\"Not Coastal\",\n",
    "    cumulative=True,\n",
    ")\n",
    "for simulation in range(n_simulations):\n",
    "    shuffled_residuals = m1.u[numpy.random.permutation(m1.n)]\n",
    "    random_coast, random_notcoast = (\n",
    "        shuffled_residuals[is_coastal],\n",
    "        shuffled_residuals[~is_coastal],\n",
    "    )\n",
    "    if simulation == 0:\n",
    "        label = \"Simulations\"\n",
    "    else:\n",
    "        label = None\n",
    "    ax[0].hist(\n",
    "        random_coast,\n",
    "        density=True,\n",
    "        histtype=\"step\",\n",
    "        color=\"k\",\n",
    "        alpha=0.05,\n",
    "        bins=30,\n",
    "        label=label,\n",
    "        cumulative=True,\n",
    "    )\n",
    "    ax[1].hist(\n",
    "        random_coast,\n",
    "        density=True,\n",
    "        histtype=\"step\",\n",
    "        color=\"k\",\n",
    "        alpha=0.05,\n",
    "        bins=30,\n",
    "        label=label,\n",
    "        cumulative=True,\n",
    "    )\n",
    "ax[0].legend()\n",
    "ax[1].legend()\n",
    "plt.tight_layout()\n",
    "plt.show()"
   ]
  },
  {
   "cell_type": "markdown",
   "id": "assisted-pressing",
   "metadata": {},
   "source": [
    "#### The K-neighbor correlogram\n",
    "\n",
    "Further, it might be the case that spatial dependence in our mis-predictions only matters for sites that are extremely close to one another, and decays quickly with distance. \n",
    "To investigate this, we can examine the correlation between each sites' residual and the *average* of the $k$th nearest neighbors' residuals, increasing $k$ until the estimate stabilizes. \n",
    "This main idea is central to the geostatistical concept, the *correlogram*, which gives the correlation between sites of an attribute being studied as distance increases.\n",
    "\n",
    "One quick way to check whether or not what we've seen is *unique* or *significant* is to compare it to what happens when we just assign neighbors randomly. \n",
    "If what we observe is substantially different from what emerges when neighbors are random, then the structure of the neighbors embeds a structure in the residuals. \n",
    "We won't spend too much time on this theory specifically, but we can quickly and efficiently compute the correlation between our observed residuals and the spatial lag of an increasing $k$-nearest neighbor set:"
   ]
  },
  {
   "cell_type": "code",
   "execution_count": null,
   "id": "negative-cream",
   "metadata": {},
   "outputs": [],
   "source": [
    "correlations = []\n",
    "nulls = []\n",
    "for order in range(1, 51, 5):\n",
    "    knn.reweight(\n",
    "        k=order, inplace=True\n",
    "    )  # operates in place, quickly and efficiently avoiding copies\n",
    "    knn.transform = \"r\"\n",
    "    lag_residual = weights.spatial_lag.lag_spatial(knn, m1.u)\n",
    "    random_residual = m1.u[numpy.random.permutation(len(m1.u))]\n",
    "    random_lag_residual = weights.spatial_lag.lag_spatial(\n",
    "        knn, random_residual\n",
    "    )  # identical to random neighbors in KNN\n",
    "    correlations.append(\n",
    "        numpy.corrcoef(m1.u.flatten(), lag_residual.flatten())[0, 1]\n",
    "    )\n",
    "    nulls.append(\n",
    "        numpy.corrcoef(m1.u.flatten(), random_lag_residual.flatten())[\n",
    "            0, 1\n",
    "        ]\n",
    "    )"
   ]
  },
  {
   "cell_type": "code",
   "execution_count": null,
   "id": "desirable-federal",
   "metadata": {
    "caption": "Correlogram showing the change in correlation between prediction error at an Airbnb and its surroundings as the number of nearest neighbors increase. The null hypothesis, where residuals are shuffled around the map, shows no significant correlation at any distance. ",
    "tags": []
   },
   "outputs": [],
   "source": [
    "plt.plot(range(1, 51, 5), correlations)\n",
    "plt.plot(range(1, 51, 5), nulls, color=\"orangered\")\n",
    "plt.hlines(\n",
    "    numpy.mean(correlations[-3:]),\n",
    "    *plt.xlim(),\n",
    "    linestyle=\":\",\n",
    "    color=\"k\"\n",
    ")\n",
    "plt.hlines(\n",
    "    numpy.mean(nulls[-3:]), *plt.xlim(), linestyle=\":\", color=\"k\"\n",
    ")\n",
    "plt.text(\n",
    "    s=\"Long-Run Correlation: ${:.2f}$\".format(\n",
    "        numpy.mean(correlations[-3:])\n",
    "    ),\n",
    "    x=25,\n",
    "    y=0.3,\n",
    ")\n",
    "plt.text(\n",
    "    s=\"Long-Run Null: ${:.2f}$\".format(numpy.mean(nulls[-3:])),\n",
    "    x=25,\n",
    "    y=0.05,\n",
    ")\n",
    "plt.xlabel(\"$K$: number of nearest neighbors\")\n",
    "plt.ylabel(\n",
    "    \"Correlation between site \\n and neighborhood average of size $K$\"\n",
    ")\n",
    "plt.show()"
   ]
  },
  {
   "cell_type": "markdown",
   "id": "sorted-article",
   "metadata": {},
   "source": [
    "Clearly, the two curves are different. The observed correlation reaches a peak around $r=.34$ when around 20 nearest listings are used. This means that adding more than 20 nearest neighbors does not significantly change the correlation in the residuals. Further, the lowest correlation is for the single nearest neighbor, and correlation rapidly increases as more neighbors are added close to the listing. Thus, this means that there does appear to be an unmeasured spatial structure in the residuals, since they are more similar to one another when they are near than when they are far apart. Further, while it's not shown here (since computationally, it becomes intractable), as the number of nearest neighbors gets very large (approaching the number of observations in the dataset), the average of the $k$th nearest neighbors' residuals goes to zero, the global average of residuals. This means that the correlation of the residuals and a vector that is nearly constant begins to approach zero. \n",
    "\n",
    "The null correlations, however, use randomly-chosen neighbors (without reassignment).\n",
    "Thus, since sampling is truly random in this case, each average of $k$ randomly-chosen neighbors is usually zero (the global mean). \n",
    "So, the correlation between the observed residual and the average of $k$ randomly-chosen residuals is also usually zero. \n",
    "Thus, increasing the number of randomly-chosen neighbors does not significantly adjust the long-run average of zero.\n",
    "Taken together, we can conclude that there is distinct positive spatial dependence in the error. \n",
    "This means that our over- and under-predictions are likely to cluster. "
   ]
  },
  {
   "cell_type": "markdown",
   "id": "ultimate-european",
   "metadata": {},
   "source": [
    "## Next Steps \n",
    "\n",
    "For additional reading on the topics covered in this chapter, please consult the following resources: \n",
    "\n",
    "For a more in-depth discussion of the fundamentals of spatial econometrics and applications in both GUI and command-line software, consult\n",
    "\n",
    "Anselin, Luc and Sergio Rey. 2014. *Modern Spatial Econometrics in Practice: A Guide to GeoDa, GeoDaSpace, and Pysal.* GeoDa Press. \n",
    "\n",
    "For additional mathematical detail and more extensive treatment of space-time models, consult: \n",
    "\n",
    "Cressie, Noel and Christopher N. Wikle. 2011. *Statistics for Spatio-Temporal Data*. Singapore: Wiley Press. \n",
    "\n",
    "For an alternative perspective on regression and critique of the spatial econometric perspective, consider:\n",
    "\n",
    "Gibbons, Stephen and Henry G. Overman. 2012. \"Mostly Pointless Spatial Econometrics.\" *Journal of Regional Science* 52: 172-191. \n",
    "\n",
    "And for a useful overview of the discussions around multilevel modelling, with references therein to further resources, consider: \n",
    "\n",
    "Owen, Gwilym, Richard Harris, and Kelvyn Jones. \"Under Examination: Multilevel models, geography and health research.\" *Progress in Human Geography* 40(3): 394-412. "
   ]
  }
 ],
 "metadata": {
  "jupytext": {
   "formats": "ipynb,md"
  },
  "kernelspec": {
   "display_name": "Python 3 (ipykernel)",
   "language": "python",
   "name": "python3"
  },
  "language_info": {
   "codemirror_mode": {
    "name": "ipython",
    "version": 3
   },
   "file_extension": ".py",
   "mimetype": "text/x-python",
   "name": "python",
   "nbconvert_exporter": "python",
   "pygments_lexer": "ipython3",
   "version": "3.10.5"
  }
 },
 "nbformat": 4,
 "nbformat_minor": 5
}
