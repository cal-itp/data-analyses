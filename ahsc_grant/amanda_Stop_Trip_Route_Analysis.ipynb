{
 "cells": [
  {
   "cell_type": "markdown",
   "id": "0df8e37d-f7d8-4eef-a0f5-a74f99bb28af",
   "metadata": {},
   "source": [
    "# Amanda's Notes"
   ]
  },
  {
   "cell_type": "code",
   "execution_count": 1,
   "id": "a797021b-b546-46cc-8aac-e1b275cfae81",
   "metadata": {},
   "outputs": [
    {
     "name": "stdout",
     "output_type": "stream",
     "text": [
      "Requirement already satisfied: shared_utils in /opt/conda/lib/python3.11/site-packages (4.2)\n",
      "Note: you may need to restart the kernel to use updated packages.\n"
     ]
    }
   ],
   "source": [
    "pip install shared_utils"
   ]
  },
  {
   "cell_type": "code",
   "execution_count": 2,
   "id": "aa25b143-b16e-456b-a369-35408830850c",
   "metadata": {},
   "outputs": [],
   "source": [
    "import os\n",
    "os.environ[\"CALITP_BQ_MAX_BYTES\"] = str(800_000_000_000)\n",
    "\n",
    "import branca\n",
    "import folium\n",
    "from shared_utils import gtfs_utils_v2\n",
    "from segment_speed_utils import (helpers, \n",
    "                                 gtfs_schedule_wrangling, \n",
    "                                )\n",
    "\n",
    "import pandas as pd\n",
    "import geopandas as gpd \n",
    "\n",
    "import datetime as dt\n",
    "import time\n",
    "import fsspec\n",
    "import gcsfs\n",
    "from calitp_data_analysis import get_fs\n",
    "fs = get_fs()\n",
    "import tempfile"
   ]
  },
  {
   "cell_type": "markdown",
   "id": "4f128aca-883b-42f3-ba1b-9555294eea43",
   "metadata": {},
   "source": [
    "**`_shared_utils/shared_utils/rt_dates` contains a list of all of the dates we use to aggregate the GTFS data into data that backs the GTFS Digest/Speed Maps/etc. Perhaps we want to use data from one of those dates to keep everything cohesive, but I am not sure if this is important.**"
   ]
  },
  {
   "cell_type": "code",
   "execution_count": 3,
   "id": "bb4fa7b4-e503-4947-9b3d-799d1b137d7f",
   "metadata": {},
   "outputs": [],
   "source": [
    "#Setting analysis date\n",
    "analysis_dt = dt.date(2025,6,2)"
   ]
  },
  {
   "cell_type": "code",
   "execution_count": 4,
   "id": "1ad30ca4-ccf2-47c6-b8be-dab7851671c5",
   "metadata": {},
   "outputs": [],
   "source": [
    "# #Function to fetch feeds, trips, stoptimes and stops_geo data from warehouse v2\n",
    "# def get_feeds_trips_stops_data(selected_date):\n",
    "    \n",
    "#     trip_cols = [\"name\", \"gtfs_dataset_key\", \"feed_key\", \"trip_id\", \"route_id\", \"route_type\", \"route_key\", \n",
    "#                  \"num_stop_times\", \"direction_id\", \"trip_first_departure_sec\", \"trip_first_departure_ts\", \n",
    "#                  \"trip_last_arrival_sec\", \"trip_start_timezone\", \"trip_instance_key\", \"service_hours\", \"trip_first_departure_datetime_pacific\"]\n",
    "#     stoptimes_cols = [\"key\", \"_gtfs_key\", \"feed_key\", \"trip_id\", \"stop_id\", \"stop_sequence\", \"arrival_time\", \"departure_time\",\n",
    "#        \"arrival_time_interval\", \"departure_time_interval\", \"arrival_hour\", \"departure_hour\"]\n",
    "#     stop_cols = [\"feed_key\", \"stop_id\", \"geometry\", \"stop_name\", \"stop_code\", \"location_type\", \"stop_desc\"]\n",
    "    \n",
    "#     feed_data = gtfs_utils_v2.schedule_daily_feed_to_gtfs_dataset_name(selected_date=selected_date)\n",
    "    \n",
    "    \n",
    "#     feed_key_list = feed_data['feed_key'].tolist()\n",
    "    \n",
    "#     trips_data_list = []\n",
    "#     stoptimes_data_list = []\n",
    "#     stop_locations_gdf = gpd.GeoDataFrame()\n",
    "#     for feed_key in feed_key_list:\n",
    "#         try:\n",
    "#             trips = gtfs_utils_v2.get_trips(selected_date=selected_date, operator_feeds=[feed_key])[trip_cols]\n",
    "#             trips_data_list.append(trips)\n",
    "\n",
    "#             stoptimes = gtfs_utils_v2.get_stop_times(selected_date=selected_date, operator_feeds=[feed_key], \n",
    "#                                                     trip_df=trips, get_df=True)[stoptimes_cols]\n",
    "#             stoptimes_data_list.append(stoptimes)\n",
    "\n",
    "#             stops_gdf = gtfs_utils_v2.get_stops(selected_date=selected_date, operator_feeds=[feed_key])[stop_cols]\n",
    "#             stop_locations_gdf = pd.concat([stop_locations_gdf, stops_gdf], ignore_index=True)\n",
    "#         except:\n",
    "#             print('Skipping a row')\n",
    "    \n",
    "#     trips_data = pd.concat(trips_data_list, ignore_index=True)\n",
    "#     stoptimes_data = pd.concat(stoptimes_data_list, ignore_index=True)\n",
    "    \n",
    "#     return feed_data, trips_data, stoptimes_data, stop_locations_gdf"
   ]
  },
  {
   "cell_type": "code",
   "execution_count": 5,
   "id": "a9ee9e12-4509-45d5-94c3-7508ff0351bf",
   "metadata": {},
   "outputs": [],
   "source": [
    "# feed_data, trips_data, stoptimes_data, stop_locations_gdf = get_feeds_trips_stops_data(analysis_dt)"
   ]
  },
  {
   "cell_type": "code",
   "execution_count": 6,
   "id": "e3add949-e4d7-4d7f-a64d-78f950810585",
   "metadata": {},
   "outputs": [],
   "source": [
    "GCS_FILE_PATH  = 'gs://calitp-analytics-data/data-analyses/ahsc_grant'"
   ]
  },
  {
   "cell_type": "markdown",
   "id": "b473eeb7-ae3c-4855-85c2-4a14bcb35f36",
   "metadata": {},
   "source": [
    "Exporting data to GCS for reuse, minimizing repeated warehouse queries."
   ]
  },
  {
   "cell_type": "code",
   "execution_count": 7,
   "id": "220f42b7-44d2-4ea9-9955-e59191b14bd5",
   "metadata": {},
   "outputs": [],
   "source": [
    "# trips_data.to_parquet(f\"{GCS_FILE_PATH}/trips_06_02_2025.parquet\")\n",
    "# stoptimes_data.to_csv(f\"{GCS_FILE_PATH}/stoptimes_06_02_2025.csv\")\n",
    "# feed_data.to_parquet(f\"{GCS_FILE_PATH}/feed_06_02_2025.parquet\")\n",
    "# with fsspec.open(f\"{GCS_FILE_PATH}/stop_locations_06_02_2025.parquet\", 'wb') as f:\n",
    "#     stop_locations_gdf.to_parquet(f)"
   ]
  },
  {
   "cell_type": "markdown",
   "id": "9418ffe9-44e6-46ee-bdc0-56b3087e6222",
   "metadata": {},
   "source": [
    "**There are so many ways to answer the same question, but I am linking this [previous code](https://github.com/cal-itp/data-analyses/blob/main/gtfs_funnel/stop_arrivals_in_roads.py#L42-L88) here for our reference.**"
   ]
  },
  {
   "cell_type": "markdown",
   "id": "a460acbb-ca9e-403a-8bb1-2d78fd9c54f1",
   "metadata": {},
   "source": [
    "Reading stoptimes, trips, feed and stop locations data "
   ]
  },
  {
   "cell_type": "code",
   "execution_count": 8,
   "id": "50f3a2c1-e546-4be1-9615-0bbd50d56e5e",
   "metadata": {},
   "outputs": [
    {
     "name": "stderr",
     "output_type": "stream",
     "text": [
      "/tmp/ipykernel_1946/658927763.py:1: DtypeWarning: Columns (4,5) have mixed types. Specify dtype option on import or set low_memory=False.\n",
      "  stoptimes_data = pd.read_csv(f\"{GCS_FILE_PATH}/stoptimes_06_02_2025.csv\")\n"
     ]
    }
   ],
   "source": [
    "stoptimes_data = pd.read_csv(f\"{GCS_FILE_PATH}/stoptimes_06_02_2025.csv\")"
   ]
  },
  {
   "cell_type": "code",
   "execution_count": 9,
   "id": "ab9ecbcf-ff8b-42c2-82d1-02c5ff37e874",
   "metadata": {},
   "outputs": [],
   "source": [
    "trips_data = pd.read_parquet(f\"{GCS_FILE_PATH}/trips_06_02_2025.parquet\")"
   ]
  },
  {
   "cell_type": "code",
   "execution_count": 10,
   "id": "cd5d6f10-ebb4-49d2-9740-3c1858e87ef7",
   "metadata": {},
   "outputs": [],
   "source": [
    "feed_data = pd.read_parquet(f\"{GCS_FILE_PATH}/feed_06_02_2025.parquet\")"
   ]
  },
  {
   "cell_type": "markdown",
   "id": "7e13e8d6-b872-47c9-8e53-e892927c8cb3",
   "metadata": {},
   "source": [
    "**I wonder if you would save some memory if you did a spatial join right after loading in `stop_locations_gdf` to retain only California based stops, instead of doing a spatial join at the end?**"
   ]
  },
  {
   "cell_type": "code",
   "execution_count": 11,
   "id": "3f810b2b-24c1-40f3-a9ff-6c11f840a916",
   "metadata": {},
   "outputs": [],
   "source": [
    "with fs.open(f\"{GCS_FILE_PATH}/stop_locations_06_02_2025.parquet\", 'rb') as f:\n",
    "    stop_locations_gdf = gpd.read_parquet(f)"
   ]
  },
  {
   "cell_type": "code",
   "execution_count": 12,
   "id": "57999733-4827-4d6c-8935-86bf5e56667d",
   "metadata": {
    "tags": []
   },
   "outputs": [
    {
     "data": {
      "text/plain": [
       "85773"
      ]
     },
     "execution_count": 12,
     "metadata": {},
     "output_type": "execute_result"
    }
   ],
   "source": [
    "len(stop_locations_gdf)"
   ]
  },
  {
   "cell_type": "code",
   "execution_count": 13,
   "id": "686448ab-8e6c-4c79-a80e-8f5336ea8153",
   "metadata": {},
   "outputs": [
    {
     "name": "stdout",
     "output_type": "stream",
     "text": [
      "<class 'pandas.core.frame.DataFrame'>\n",
      "RangeIndex: 3565708 entries, 0 to 3565707\n",
      "Data columns (total 13 columns):\n",
      " #   Column                   Dtype  \n",
      "---  ------                   -----  \n",
      " 0   Unnamed: 0               int64  \n",
      " 1   key                      object \n",
      " 2   _gtfs_key                object \n",
      " 3   feed_key                 object \n",
      " 4   trip_id                  object \n",
      " 5   stop_id                  object \n",
      " 6   stop_sequence            int64  \n",
      " 7   arrival_time             object \n",
      " 8   departure_time           object \n",
      " 9   arrival_time_interval    object \n",
      " 10  departure_time_interval  object \n",
      " 11  arrival_hour             float64\n",
      " 12  departure_hour           float64\n",
      "dtypes: float64(2), int64(2), object(9)\n",
      "memory usage: 353.7+ MB\n"
     ]
    }
   ],
   "source": [
    "stoptimes_data.info() #Getting stoptimes data info"
   ]
  },
  {
   "cell_type": "code",
   "execution_count": 14,
   "id": "2e9183c6-4d78-4696-a3f7-1d65e1c45125",
   "metadata": {},
   "outputs": [
    {
     "name": "stdout",
     "output_type": "stream",
     "text": [
      "<class 'pandas.core.frame.DataFrame'>\n",
      "RangeIndex: 162083 entries, 0 to 162082\n",
      "Data columns (total 16 columns):\n",
      " #   Column                                 Non-Null Count   Dtype              \n",
      "---  ------                                 --------------   -----              \n",
      " 0   name                                   162083 non-null  object             \n",
      " 1   gtfs_dataset_key                       162083 non-null  object             \n",
      " 2   feed_key                               162083 non-null  object             \n",
      " 3   trip_id                                162083 non-null  object             \n",
      " 4   route_id                               162083 non-null  object             \n",
      " 5   route_type                             162083 non-null  object             \n",
      " 6   route_key                              162083 non-null  object             \n",
      " 7   num_stop_times                         162083 non-null  int64              \n",
      " 8   direction_id                           94257 non-null   float64            \n",
      " 9   trip_first_departure_sec               162082 non-null  float64            \n",
      " 10  trip_first_departure_ts                162082 non-null  datetime64[ns, UTC]\n",
      " 11  trip_last_arrival_sec                  162082 non-null  float64            \n",
      " 12  trip_start_timezone                    162083 non-null  object             \n",
      " 13  trip_instance_key                      162083 non-null  object             \n",
      " 14  service_hours                          162082 non-null  float64            \n",
      " 15  trip_first_departure_datetime_pacific  162082 non-null  datetime64[ns]     \n",
      "dtypes: datetime64[ns, UTC](1), datetime64[ns](1), float64(4), int64(1), object(9)\n",
      "memory usage: 19.8+ MB\n"
     ]
    }
   ],
   "source": [
    "trips_data.info()"
   ]
  },
  {
   "cell_type": "code",
   "execution_count": 15,
   "id": "e340e335-04e5-4b21-9458-467ca32fd7c8",
   "metadata": {},
   "outputs": [],
   "source": [
    "trips_data_cleaned = trips_data.drop_duplicates() # Dropping duplicates"
   ]
  },
  {
   "cell_type": "code",
   "execution_count": 16,
   "id": "f84cf818-f70b-4256-87c7-b66289d83d99",
   "metadata": {},
   "outputs": [
    {
     "name": "stdout",
     "output_type": "stream",
     "text": [
      "<class 'pandas.core.frame.DataFrame'>\n",
      "Int64Index: 162072 entries, 0 to 162082\n",
      "Data columns (total 16 columns):\n",
      " #   Column                                 Non-Null Count   Dtype              \n",
      "---  ------                                 --------------   -----              \n",
      " 0   name                                   162072 non-null  object             \n",
      " 1   gtfs_dataset_key                       162072 non-null  object             \n",
      " 2   feed_key                               162072 non-null  object             \n",
      " 3   trip_id                                162072 non-null  object             \n",
      " 4   route_id                               162072 non-null  object             \n",
      " 5   route_type                             162072 non-null  object             \n",
      " 6   route_key                              162072 non-null  object             \n",
      " 7   num_stop_times                         162072 non-null  int64              \n",
      " 8   direction_id                           94246 non-null   float64            \n",
      " 9   trip_first_departure_sec               162071 non-null  float64            \n",
      " 10  trip_first_departure_ts                162071 non-null  datetime64[ns, UTC]\n",
      " 11  trip_last_arrival_sec                  162071 non-null  float64            \n",
      " 12  trip_start_timezone                    162072 non-null  object             \n",
      " 13  trip_instance_key                      162072 non-null  object             \n",
      " 14  service_hours                          162071 non-null  float64            \n",
      " 15  trip_first_departure_datetime_pacific  162071 non-null  datetime64[ns]     \n",
      "dtypes: datetime64[ns, UTC](1), datetime64[ns](1), float64(4), int64(1), object(9)\n",
      "memory usage: 21.0+ MB\n"
     ]
    }
   ],
   "source": [
    "trips_data_cleaned.info()"
   ]
  },
  {
   "cell_type": "code",
   "execution_count": 17,
   "id": "c6a2cff2-27ff-4299-806c-7595d9e51f1d",
   "metadata": {},
   "outputs": [],
   "source": [
    "#Merging stop data with trip data on trip id and feed key.\n",
    "stop_trip_merged = pd.merge(stoptimes_data,\n",
    "                            trips_data_cleaned,\n",
    "                            on = ['trip_id', 'feed_key'],\n",
    "                            how = 'left')"
   ]
  },
  {
   "cell_type": "code",
   "execution_count": 29,
   "id": "31924da3-82ad-4037-a236-323e54dba367",
   "metadata": {},
   "outputs": [
    {
     "data": {
      "text/plain": [
       "3565708"
      ]
     },
     "execution_count": 29,
     "metadata": {},
     "output_type": "execute_result"
    }
   ],
   "source": [
    "len(stoptimes_data)"
   ]
  },
  {
   "cell_type": "code",
   "execution_count": 30,
   "id": "a6e4b0ae-e8a6-4dd0-b708-ba91a4f283af",
   "metadata": {},
   "outputs": [
    {
     "data": {
      "text/plain": [
       "162072"
      ]
     },
     "execution_count": 30,
     "metadata": {},
     "output_type": "execute_result"
    }
   ],
   "source": [
    "len(trips_data_cleaned)"
   ]
  },
  {
   "cell_type": "code",
   "execution_count": 18,
   "id": "975a89bd-fac9-4b05-b47a-574d6c457fa6",
   "metadata": {},
   "outputs": [],
   "source": [
    "# Adding peak/off-peak labels to trip instances based on scheduled time buckets for the given analysis date\n",
    "sched_time_of_day = gtfs_schedule_wrangling.get_trip_time_buckets(\n",
    "    analysis_dt\n",
    ").pipe(\n",
    "    gtfs_schedule_wrangling.add_peak_offpeak_column\n",
    ")[[\"trip_instance_key\", \"peak_offpeak\"]]"
   ]
  },
  {
   "cell_type": "code",
   "execution_count": 19,
   "id": "afac31be-3a49-4699-b9a7-e73d67bdd171",
   "metadata": {},
   "outputs": [],
   "source": [
    "#Merging scheduled time of the data \n",
    "stop_trip_merged = pd.merge(\n",
    "    stop_trip_merged,\n",
    "    sched_time_of_day,\n",
    "    on='trip_instance_key',\n",
    "    how='left'\n",
    ")"
   ]
  },
  {
   "cell_type": "code",
   "execution_count": 28,
   "id": "8610d1dc-8760-422d-8a6b-2e868c09d8e0",
   "metadata": {},
   "outputs": [
    {
     "data": {
      "text/plain": [
       "4794045"
      ]
     },
     "execution_count": 28,
     "metadata": {},
     "output_type": "execute_result"
    }
   ],
   "source": [
    "len(stop_trip_merged)"
   ]
  },
  {
   "cell_type": "code",
   "execution_count": 20,
   "id": "9bae3eac-acc7-4a00-8769-6204fb6f418c",
   "metadata": {},
   "outputs": [],
   "source": [
    "# Counting unique trips per stop and renaming column to 'num_trips'\n",
    "num_trips_per_stop = stop_trip_merged.groupby('stop_id')['trip_id'].nunique().reset_index().rename(columns={'trip_id':'num_trips'})"
   ]
  },
  {
   "cell_type": "code",
   "execution_count": 21,
   "id": "ee086219-2378-4e8b-a90b-5441b3e8f013",
   "metadata": {},
   "outputs": [
    {
     "data": {
      "text/plain": [
       "(67034, 2)"
      ]
     },
     "execution_count": 21,
     "metadata": {},
     "output_type": "execute_result"
    }
   ],
   "source": [
    "num_trips_per_stop.shape"
   ]
  },
  {
   "cell_type": "code",
   "execution_count": 22,
   "id": "a6a194ec-7de1-467d-b0b3-f11892ede411",
   "metadata": {},
   "outputs": [],
   "source": [
    "# Counting unique routes per stop and renaming column to 'num_routes'\n",
    "num_routes_per_stop = stop_trip_merged.groupby('stop_id')['route_id'].nunique().reset_index().rename(columns={'route_id':'num_routes'})"
   ]
  },
  {
   "cell_type": "code",
   "execution_count": 23,
   "id": "ec120f71-c466-42ca-a946-eaa13d94f7ea",
   "metadata": {},
   "outputs": [
    {
     "data": {
      "text/plain": [
       "(67034, 2)"
      ]
     },
     "execution_count": 23,
     "metadata": {},
     "output_type": "execute_result"
    }
   ],
   "source": [
    "num_routes_per_stop.shape"
   ]
  },
  {
   "cell_type": "code",
   "execution_count": 24,
   "id": "0f01fa83-2f2a-4e51-a6f8-c25b7d74501b",
   "metadata": {
    "tags": []
   },
   "outputs": [],
   "source": [
    "# Filtering stop-trip data to include only peak period trips\n",
    "peak_stop_times = stop_trip_merged[stop_trip_merged['peak_offpeak'] == 'peak'].copy()"
   ]
  },
  {
   "cell_type": "code",
   "execution_count": 25,
   "id": "7b201d21-4eef-4d44-8203-d3ce637405b9",
   "metadata": {
    "tags": []
   },
   "outputs": [
    {
     "data": {
      "text/html": [
       "<div>\n",
       "<style scoped>\n",
       "    .dataframe tbody tr th:only-of-type {\n",
       "        vertical-align: middle;\n",
       "    }\n",
       "\n",
       "    .dataframe tbody tr th {\n",
       "        vertical-align: top;\n",
       "    }\n",
       "\n",
       "    .dataframe thead th {\n",
       "        text-align: right;\n",
       "    }\n",
       "</style>\n",
       "<table border=\"1\" class=\"dataframe\">\n",
       "  <thead>\n",
       "    <tr style=\"text-align: right;\">\n",
       "      <th></th>\n",
       "      <th>Unnamed: 0</th>\n",
       "      <th>key</th>\n",
       "      <th>_gtfs_key</th>\n",
       "      <th>feed_key</th>\n",
       "      <th>trip_id</th>\n",
       "      <th>stop_id</th>\n",
       "      <th>stop_sequence</th>\n",
       "      <th>arrival_time</th>\n",
       "      <th>departure_time</th>\n",
       "      <th>arrival_time_interval</th>\n",
       "      <th>...</th>\n",
       "      <th>num_stop_times</th>\n",
       "      <th>direction_id</th>\n",
       "      <th>trip_first_departure_sec</th>\n",
       "      <th>trip_first_departure_ts</th>\n",
       "      <th>trip_last_arrival_sec</th>\n",
       "      <th>trip_start_timezone</th>\n",
       "      <th>trip_instance_key</th>\n",
       "      <th>service_hours</th>\n",
       "      <th>trip_first_departure_datetime_pacific</th>\n",
       "      <th>peak_offpeak</th>\n",
       "    </tr>\n",
       "  </thead>\n",
       "  <tbody>\n",
       "    <tr>\n",
       "      <th>0</th>\n",
       "      <td>0</td>\n",
       "      <td>5161caf10ab1cd54000d20147a5bb66a</td>\n",
       "      <td>321223a0cbd2c6d8c8f9700229ed2807</td>\n",
       "      <td>ace4e22d6f2c299c36eba89ccb650b1b</td>\n",
       "      <td>28026b4c-26f6-441e-a2b5-8f404a9ee35f:3</td>\n",
       "      <td>8e75858c-2558-497a-8fd0-cb98973bc4bb</td>\n",
       "      <td>8</td>\n",
       "      <td>08:32:00</td>\n",
       "      <td>08:32:00</td>\n",
       "      <td>relativedelta(hours=+8, minutes=+32)</td>\n",
       "      <td>...</td>\n",
       "      <td>18.0</td>\n",
       "      <td>NaN</td>\n",
       "      <td>30000.0</td>\n",
       "      <td>2025-06-02 15:20:00+00:00</td>\n",
       "      <td>31680.0</td>\n",
       "      <td>America/Los_Angeles</td>\n",
       "      <td>9c9641ab60e3228c6a686a1fd90aa53b</td>\n",
       "      <td>0.466667</td>\n",
       "      <td>2025-06-02 08:20:00</td>\n",
       "      <td>peak</td>\n",
       "    </tr>\n",
       "    <tr>\n",
       "      <th>1</th>\n",
       "      <td>1</td>\n",
       "      <td>0e82dbe3815ccec910ed8628f17ebb3b</td>\n",
       "      <td>7b7347565146ffd959836e2ed0e53499</td>\n",
       "      <td>ace4e22d6f2c299c36eba89ccb650b1b</td>\n",
       "      <td>eb73451d-48bc-4091-ae36-e4713073e5b3:3</td>\n",
       "      <td>ba6aaa37-5e60-44ad-8b2e-ca7f8baca0f5</td>\n",
       "      <td>9</td>\n",
       "      <td>08:32:00</td>\n",
       "      <td>08:32:00</td>\n",
       "      <td>relativedelta(hours=+8, minutes=+32)</td>\n",
       "      <td>...</td>\n",
       "      <td>18.0</td>\n",
       "      <td>NaN</td>\n",
       "      <td>30000.0</td>\n",
       "      <td>2025-06-02 15:20:00+00:00</td>\n",
       "      <td>31860.0</td>\n",
       "      <td>America/Los_Angeles</td>\n",
       "      <td>8015976ac06bf7fe511b2bc4a98b7333</td>\n",
       "      <td>0.516667</td>\n",
       "      <td>2025-06-02 08:20:00</td>\n",
       "      <td>peak</td>\n",
       "    </tr>\n",
       "  </tbody>\n",
       "</table>\n",
       "<p>2 rows × 28 columns</p>\n",
       "</div>"
      ],
      "text/plain": [
       "   Unnamed: 0                               key  \\\n",
       "0           0  5161caf10ab1cd54000d20147a5bb66a   \n",
       "1           1  0e82dbe3815ccec910ed8628f17ebb3b   \n",
       "\n",
       "                          _gtfs_key                          feed_key  \\\n",
       "0  321223a0cbd2c6d8c8f9700229ed2807  ace4e22d6f2c299c36eba89ccb650b1b   \n",
       "1  7b7347565146ffd959836e2ed0e53499  ace4e22d6f2c299c36eba89ccb650b1b   \n",
       "\n",
       "                                  trip_id  \\\n",
       "0  28026b4c-26f6-441e-a2b5-8f404a9ee35f:3   \n",
       "1  eb73451d-48bc-4091-ae36-e4713073e5b3:3   \n",
       "\n",
       "                                stop_id  stop_sequence arrival_time  \\\n",
       "0  8e75858c-2558-497a-8fd0-cb98973bc4bb              8     08:32:00   \n",
       "1  ba6aaa37-5e60-44ad-8b2e-ca7f8baca0f5              9     08:32:00   \n",
       "\n",
       "  departure_time                 arrival_time_interval  ... num_stop_times  \\\n",
       "0       08:32:00  relativedelta(hours=+8, minutes=+32)  ...           18.0   \n",
       "1       08:32:00  relativedelta(hours=+8, minutes=+32)  ...           18.0   \n",
       "\n",
       "   direction_id  trip_first_departure_sec   trip_first_departure_ts  \\\n",
       "0           NaN                   30000.0 2025-06-02 15:20:00+00:00   \n",
       "1           NaN                   30000.0 2025-06-02 15:20:00+00:00   \n",
       "\n",
       "  trip_last_arrival_sec  trip_start_timezone  \\\n",
       "0               31680.0  America/Los_Angeles   \n",
       "1               31860.0  America/Los_Angeles   \n",
       "\n",
       "                  trip_instance_key service_hours  \\\n",
       "0  9c9641ab60e3228c6a686a1fd90aa53b      0.466667   \n",
       "1  8015976ac06bf7fe511b2bc4a98b7333      0.516667   \n",
       "\n",
       "   trip_first_departure_datetime_pacific  peak_offpeak  \n",
       "0                    2025-06-02 08:20:00          peak  \n",
       "1                    2025-06-02 08:20:00          peak  \n",
       "\n",
       "[2 rows x 28 columns]"
      ]
     },
     "execution_count": 25,
     "metadata": {},
     "output_type": "execute_result"
    }
   ],
   "source": [
    "peak_stop_times.head(2)"
   ]
  },
  {
   "cell_type": "code",
   "execution_count": 26,
   "id": "f120fbbd-5222-47be-bf60-f721c064f737",
   "metadata": {
    "tags": []
   },
   "outputs": [
    {
     "data": {
      "text/plain": [
       "(1816847, 28)"
      ]
     },
     "execution_count": 26,
     "metadata": {},
     "output_type": "execute_result"
    }
   ],
   "source": [
    "peak_stop_times.shape"
   ]
  },
  {
   "cell_type": "markdown",
   "id": "074587de-cbcb-47b4-873e-335e8d517fe8",
   "metadata": {},
   "source": [
    "**When I was working on the Transit Bunching, I found the `arrival_seconds` to be rather funky. I wonder if grabbing the hour from the `arrival_time` or `departure_time` column might be easier.**"
   ]
  },
  {
   "cell_type": "code",
   "execution_count": null,
   "id": "431af1b1-2f6b-46bc-9f4f-551382daf93a",
   "metadata": {
    "tags": []
   },
   "outputs": [],
   "source": [
    "# Converting 'arrival_time' to total seconds since midnight\n",
    "peak_stop_times['arrival_seconds'] = pd.to_timedelta(peak_stop_times['arrival_time']).dt.total_seconds()"
   ]
  },
  {
   "cell_type": "code",
   "execution_count": null,
   "id": "1c2a780b-06f5-4f07-8d3a-337a90692b08",
   "metadata": {
    "tags": []
   },
   "outputs": [],
   "source": [
    "# Extracting hour from arrival_seconds\n",
    "peak_stop_times = peak_stop_times.dropna(subset=['arrival_seconds']).copy()\n",
    "peak_stop_times['arrival_hour'] = (peak_stop_times['arrival_seconds'] // 3600).astype(int)"
   ]
  },
  {
   "cell_type": "code",
   "execution_count": null,
   "id": "540fb668-1170-43b6-ad85-a36301867c41",
   "metadata": {
    "tags": []
   },
   "outputs": [],
   "source": [
    "peak_stop_times.arrival_hour.describe()"
   ]
  },
  {
   "cell_type": "code",
   "execution_count": null,
   "id": "b838fada-0a52-44c6-a2ee-4166486365d2",
   "metadata": {
    "tags": []
   },
   "outputs": [],
   "source": [
    "peak_stop_times.arrival_time.value_counts()"
   ]
  },
  {
   "cell_type": "markdown",
   "id": "a2212804-f07d-4645-a2b3-e0bfdb1709dc",
   "metadata": {},
   "source": [
    "**If we want to follow the peak/offpeak cutoffs [here](https://github.com/cal-itp/data-analyses/blob/10fb6a88d3054da7162f1486a00aedc5122ecdd9/traffic_ops/utils.py#L10), then maybe you can change the cutoff to be 9 instead of 12.**"
   ]
  },
  {
   "cell_type": "code",
   "execution_count": null,
   "id": "78409e72-1a31-4229-bb0e-be58e38ca2ce",
   "metadata": {
    "tags": []
   },
   "outputs": [],
   "source": [
    "# Defining AM peak as arrivals before noon (< 12)\n",
    "peak_stop_times['peak_period'] = peak_stop_times['arrival_hour'].apply(\n",
    "    lambda h: 'AM Peak' if h < 12 else 'PM Peak'\n",
    ")\n",
    "\n",
    "am_peak_times = peak_stop_times[peak_stop_times['peak_period'] == 'AM Peak'].copy()"
   ]
  },
  {
   "cell_type": "code",
   "execution_count": null,
   "id": "3fd822bf-5289-45f7-a400-25f966185db9",
   "metadata": {
    "tags": []
   },
   "outputs": [],
   "source": [
    "# Selecting relevant columns for AM peak times analysis\n",
    "am_peak_times_trimmed = am_peak_times[['stop_id', 'feed_key', 'route_id', 'direction_id', 'arrival_seconds']].copy()\n",
    "\n",
    "# Sorting AM peak times by stop, feed, route, direction, and arrival time\n",
    "am_peak_times_sorted = am_peak_times_trimmed.sort_values(\n",
    "    ['stop_id', 'feed_key', 'route_id', 'direction_id', 'arrival_seconds']\n",
    ")"
   ]
  },
  {
   "attachments": {
    "8057de58-6a21-4356-aadc-129aa38e2cb7.png": {
     "image/png": "[encoded data removed]"
    }
   },
   "cell_type": "markdown",
   "id": "4ab98dc3-e8fb-41d0-a57e-dd9b9f6ca3bb",
   "metadata": {},
   "source": [
    "**If you use `route_dir = merge_data.concatenate_schedule_by_route_direction([analysis_date])[ route_dir_columns]`, this dataset already contains the column `frequency`, which you can divide with 60 to get the headway.** <p>\n",
    "![image.png](attachment:8057de58-6a21-4356-aadc-129aa38e2cb7.png)"
   ]
  },
  {
   "cell_type": "code",
   "execution_count": null,
   "id": "d9a00f0e-c64b-4f29-affe-f9a7a81d7652",
   "metadata": {
    "tags": []
   },
   "outputs": [],
   "source": [
    "# time difference between consecutive arrivals at same stop/route/direction)\n",
    "am_peak_times_sorted['headway_seconds'] = (\n",
    "    am_peak_times_sorted\n",
    "    .groupby(['stop_id', 'feed_key', 'route_id', 'direction_id'])['arrival_seconds']\n",
    "    .diff()\n",
    ")\n",
    "\n",
    "# Converting to minutes\n",
    "am_peak_times_sorted['headway_minutes'] = am_peak_times_sorted['headway_seconds'] / 60\n",
    "\n",
    "# Droping NaN headways (first arrival in each group will have NaN headway)\n",
    "am_peak_times_sorted = am_peak_times_sorted.dropna(subset=['headway_seconds'])"
   ]
  },
  {
   "cell_type": "code",
   "execution_count": null,
   "id": "b08195bf-b45d-419a-91c5-fbf2149d7d71",
   "metadata": {
    "tags": []
   },
   "outputs": [],
   "source": [
    "# Calculating average AM peak headway (minutes) for each stop\n",
    "headways_per_stop = (\n",
    "    am_peak_times_sorted\n",
    "    .groupby('stop_id')['headway_minutes']\n",
    "    .mean()  \n",
    "    .reset_index()\n",
    "    .rename(columns={'headway_minutes': 'am_peak_headway_minutes'})\n",
    ")"
   ]
  },
  {
   "cell_type": "code",
   "execution_count": null,
   "id": "685ed49d-8da3-4a26-8164-0e48e2595011",
   "metadata": {
    "tags": []
   },
   "outputs": [],
   "source": [
    "headways_per_stop['am_peak_headway_minutes'].max()"
   ]
  },
  {
   "cell_type": "code",
   "execution_count": null,
   "id": "6e3a8e43-4118-4a81-afff-38b64080be20",
   "metadata": {
    "tags": []
   },
   "outputs": [],
   "source": [
    "# Removing duplicate stops based on stop ID and stop name\n",
    "stop_locations_gdf_filtered = stop_locations_gdf.drop_duplicates(subset=['stop_id', 'stop_name'])"
   ]
  },
  {
   "cell_type": "code",
   "execution_count": null,
   "id": "f80ba8d3-d65e-4ab4-b393-5413beccd9c8",
   "metadata": {
    "tags": []
   },
   "outputs": [],
   "source": [
    "len(stop_locations_gdf_filtered), len(stop_locations_gdf)"
   ]
  },
  {
   "cell_type": "code",
   "execution_count": null,
   "id": "23928cf9-ad04-4b2a-b060-69c84d066439",
   "metadata": {
    "tags": []
   },
   "outputs": [],
   "source": [
    "# Loading California county boundaries GeoJSON data from ArcGIS REST service\n",
    "CA_URL = \"https://services1.arcgis.com/jUJYIo9tSA7EHvfZ/arcgis/rest/services/California_County_Boundaries/FeatureServer/0/query?outFields=*&where=1%3D1&f=geojson\"\n",
    "CA_county = gpd.read_file(CA_URL)"
   ]
  },
  {
   "cell_type": "code",
   "execution_count": null,
   "id": "65014e89-b671-43fb-8742-8b2ea97b4cf4",
   "metadata": {
    "tags": []
   },
   "outputs": [],
   "source": [
    "CA_county = CA_county.to_crs(stop_locations_gdf_filtered.crs)"
   ]
  },
  {
   "cell_type": "code",
   "execution_count": null,
   "id": "bcfe55ff-2065-4a43-8159-ddf39a4e07ad",
   "metadata": {
    "tags": []
   },
   "outputs": [],
   "source": [
    "# Spatially joining stop locations with California county boundaries to keep stops within CA\n",
    "stop_locations_gdf_ca = gpd.sjoin(\n",
    "    stop_locations_gdf_filtered,  \n",
    "    CA_county,                    \n",
    "    how='inner',\n",
    "    predicate='intersects'\n",
    ")"
   ]
  },
  {
   "cell_type": "code",
   "execution_count": null,
   "id": "fccdaf08-fdff-41d5-84f7-3e2f3965acfd",
   "metadata": {
    "tags": []
   },
   "outputs": [],
   "source": [
    "stop_locations_gdf_ca.shape"
   ]
  },
  {
   "cell_type": "code",
   "execution_count": null,
   "id": "db7d4131-506b-4ce4-ae71-60e3c9dc828c",
   "metadata": {},
   "outputs": [],
   "source": [
    "# Merging all parts together\n",
    "stop_summary = (\n",
    "    stop_locations_gdf_ca[['stop_id', 'stop_name', 'COUNTY_NAME', 'stop_code', 'location_type', 'stop_desc', 'geometry']]\n",
    "    .merge(num_trips_per_stop, on='stop_id', how='left')\n",
    "    .merge(num_routes_per_stop, on='stop_id', how='left')\n",
    "    .merge(headways_per_stop[['stop_id', 'am_peak_headway_minutes']], on='stop_id', how='left')\n",
    ")"
   ]
  },
  {
   "cell_type": "code",
   "execution_count": null,
   "id": "19a74171-d26d-4f2a-9287-c1a9e93f2a07",
   "metadata": {},
   "outputs": [],
   "source": [
    "columns_to_keep = ['stop_id', 'stop_name', 'COUNTY_NAME', 'stop_code', 'location_type', 'geometry', 'num_trips', 'num_routes',\n",
    "       'am_peak_headway_minutes' ]\n",
    "stop_summary_final = stop_summary[columns_to_keep]"
   ]
  },
  {
   "cell_type": "code",
   "execution_count": null,
   "id": "fe02fce1-c6a8-47c2-9fe7-1468139b98bf",
   "metadata": {},
   "outputs": [],
   "source": [
    "stop_summary_final.sample(5)"
   ]
  },
  {
   "cell_type": "code",
   "execution_count": null,
   "id": "f5ae7ddd-4287-45fa-835d-591086c0b5b9",
   "metadata": {
    "tags": []
   },
   "outputs": [],
   "source": [
    "stop_summary_final.am_peak_headway_minutes.describe()"
   ]
  },
  {
   "cell_type": "code",
   "execution_count": null,
   "id": "d08a6c8f-961b-4c68-9a17-af046b262cdc",
   "metadata": {
    "tags": []
   },
   "outputs": [],
   "source": [
    "# Saving geojson file\n",
    "#with tempfile.NamedTemporaryFile(suffix=\".geojson\") as tmp:\n",
    "#    stop_summary_final.to_file(tmp.name, driver=\"GeoJSON\")\n",
    "\n",
    "#\n",
    "#    with fsspec.open(f\"{GCS_FILE_PATH}/stop_summary.geojson\", 'w') as f_out:\n",
    "  #      with open(tmp.name, 'r') as f_in:\n",
    "    #        f_out.write(f_in.read())"
   ]
  }
 ],
 "metadata": {
  "kernelspec": {
   "display_name": "Python 3 (ipykernel)",
   "language": "python",
   "name": "python3"
  },
  "language_info": {
   "codemirror_mode": {
    "name": "ipython",
    "version": 3
   },
   "file_extension": ".py",
   "mimetype": "text/x-python",
   "name": "python",
   "nbconvert_exporter": "python",
   "pygments_lexer": "ipython3",
   "version": "3.11.10"
  }
 },
 "nbformat": 4,
 "nbformat_minor": 5
}
