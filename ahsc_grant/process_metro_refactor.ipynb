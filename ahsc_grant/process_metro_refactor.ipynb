{
 "cells": [
  {
   "cell_type": "code",
   "execution_count": 1,
   "id": "bf253a94-07d5-4d7b-b0c9-f5c40d975d02",
   "metadata": {},
   "outputs": [
    {
     "name": "stdout",
     "output_type": "stream",
     "text": [
      "Requirement already satisfied: shared_utils in /home/jovyan/data-analyses/_shared_utils (2.5)\n",
      "Note: you may need to restart the kernel to use updated packages.\n"
     ]
    }
   ],
   "source": [
    "pip install shared_utils"
   ]
  },
  {
   "cell_type": "code",
   "execution_count": 2,
   "id": "aae27f67-aba5-4ac5-9a89-89f15e99a17c",
   "metadata": {
    "tags": []
   },
   "outputs": [],
   "source": [
    "import os\n",
    "os.environ[\"CALITP_BQ_MAX_BYTES\"] = str(800_000_000_000)\n",
    "\n",
    "import branca\n",
    "import folium\n",
    "from shared_utils import gtfs_utils_v2\n",
    "\n",
    "from siuba import *\n",
    "import pandas as pd\n",
    "import geopandas as gpd \n",
    "\n",
    "import datetime as dt\n",
    "import time\n",
    "\n",
    "import seaborn as sns\n",
    "import matplotlib.pyplot as plt"
   ]
  },
  {
   "cell_type": "code",
   "execution_count": 3,
   "id": "5a6e783e-b775-4238-a4d3-a7446daf86e9",
   "metadata": {},
   "outputs": [],
   "source": [
    "import sys\n",
    "sys.path.append('../rt_segment_speeds/segment_speed_utils')\n",
    "\n",
    "from helpers import *"
   ]
  },
  {
   "cell_type": "code",
   "execution_count": 4,
   "id": "0480353d-9a5a-4e2e-9986-2e294fbbfdcf",
   "metadata": {},
   "outputs": [],
   "source": [
    "stops_data = import_scheduled_stops(\"2022-06-01\").drop_duplicates().reset_index(drop=True)"
   ]
  },
  {
   "cell_type": "code",
   "execution_count": 5,
   "id": "46e4ca06-3168-4385-b87e-3b08bde46cdb",
   "metadata": {},
   "outputs": [],
   "source": [
    "metro_stops = stops_data[stops_data['feed_key'] == '06d1f3ac2b0ae5e74424edbbfefa19ed']"
   ]
  },
  {
   "cell_type": "code",
   "execution_count": 6,
   "id": "8f569093-29f5-47b5-9f24-d7acb7d4fe5e",
   "metadata": {},
   "outputs": [],
   "source": [
    "GCS_FILE_PATH = 'gs://calitp-analytics-data/data-analyses/ahsc_grant/'"
   ]
  },
  {
   "cell_type": "code",
   "execution_count": 7,
   "id": "20bd9b8a-1fe1-402e-a5ef-4095e67685dd",
   "metadata": {},
   "outputs": [],
   "source": [
    "mar_metro_raw = pd.read_excel(f'{GCS_FILE_PATH}rider_182_2022_03.xlsx')"
   ]
  },
  {
   "cell_type": "code",
   "execution_count": 8,
   "id": "bbfd896c-4797-4022-9cd8-472d157ac5d0",
   "metadata": {},
   "outputs": [],
   "source": [
    "mar_metro_raw = mar_metro_raw.iloc[:-2,:]"
   ]
  },
  {
   "cell_type": "code",
   "execution_count": 9,
   "id": "b47dc5c1-0464-4ec3-9312-a0c5d1baf822",
   "metadata": {},
   "outputs": [],
   "source": [
    "day_cols = {'DX': 'weekday_ons', 'SA': 'sat_ons', 'SU': 'sun_ons'}\n",
    "\n",
    "mar_metro_grouped = (mar_metro_raw\n",
    "                 >> mutate(STOP_ID = _.STOP_ID.astype('int64').astype(str))\n",
    "                 >> mutate(DAY_TYPE = _.DAY_TYPE.apply(lambda x: day_cols[x]))\n",
    "                 >> group_by(_.STOP_ID, _.STOP_NAME, _.DAY_TYPE)\n",
    "                 >> summarize(stop_total_ons = _.Total_Ons.sum())\n",
    "                )"
   ]
  },
  {
   "cell_type": "code",
   "execution_count": 10,
   "id": "8160abe7-4459-4425-99e9-bfe920670829",
   "metadata": {},
   "outputs": [],
   "source": [
    "yr_metro_grouped = (mar_metro_grouped\n",
    "                     >> mutate(stop_total_ons = _.stop_total_ons*11.91221463) #make yearly: comes from fy22/mar22 NTD ridership\n",
    "                     >> spread(\"DAY_TYPE\", \"stop_total_ons\")\n",
    "                     >> rename(stop_id = _.STOP_ID)\n",
    "                     >> mutate(feed_key = '06d1f3ac2b0ae5e74424edbbfefa19ed')\n",
    "                     >> mutate(name = 'LA Metro Bus Schedule')\n",
    "                    )"
   ]
  },
  {
   "cell_type": "code",
   "execution_count": 11,
   "id": "9cad0548-911a-4539-bbb7-9c175117be1b",
   "metadata": {},
   "outputs": [],
   "source": [
    "stops_to_join = metro_stops >> select(_.feed_key, _.stop_id, _.stop_name, _.geometry)"
   ]
  },
  {
   "cell_type": "code",
   "execution_count": 12,
   "id": "3889b66f-e516-4f6b-81a0-9755b49c26bc",
   "metadata": {},
   "outputs": [],
   "source": [
    "yr_metro_joined = stops_to_join >> inner_join(_, yr_metro_grouped, on = ['feed_key', 'stop_id'])"
   ]
  },
  {
   "cell_type": "code",
   "execution_count": 13,
   "id": "f83432fa-3767-46bc-93e5-ef465534ae62",
   "metadata": {},
   "outputs": [
    {
     "data": {
      "text/html": [
       "<div>\n",
       "<style scoped>\n",
       "    .dataframe tbody tr th:only-of-type {\n",
       "        vertical-align: middle;\n",
       "    }\n",
       "\n",
       "    .dataframe tbody tr th {\n",
       "        vertical-align: top;\n",
       "    }\n",
       "\n",
       "    .dataframe thead th {\n",
       "        text-align: right;\n",
       "    }\n",
       "</style>\n",
       "<table border=\"1\" class=\"dataframe\">\n",
       "  <thead>\n",
       "    <tr style=\"text-align: right;\">\n",
       "      <th></th>\n",
       "      <th>feed_key</th>\n",
       "      <th>stop_id</th>\n",
       "      <th>stop_name</th>\n",
       "      <th>geometry</th>\n",
       "      <th>STOP_NAME</th>\n",
       "      <th>sat_ons</th>\n",
       "      <th>sun_ons</th>\n",
       "      <th>weekday_ons</th>\n",
       "      <th>name</th>\n",
       "    </tr>\n",
       "  </thead>\n",
       "  <tbody>\n",
       "    <tr>\n",
       "      <th>0</th>\n",
       "      <td>06d1f3ac2b0ae5e74424edbbfefa19ed</td>\n",
       "      <td>12591</td>\n",
       "      <td>LA Zoo</td>\n",
       "      <td>POINT (158199.490 -428414.858)</td>\n",
       "      <td>LA ZOO</td>\n",
       "      <td>857.679453</td>\n",
       "      <td>381.190868</td>\n",
       "      <td>2775.546009</td>\n",
       "      <td>LA Metro Bus Schedule</td>\n",
       "    </tr>\n",
       "    <tr>\n",
       "      <th>1</th>\n",
       "      <td>06d1f3ac2b0ae5e74424edbbfefa19ed</td>\n",
       "      <td>5377</td>\n",
       "      <td>1st / Hill</td>\n",
       "      <td>POINT (161833.578 -438634.619)</td>\n",
       "      <td>1ST / HILL</td>\n",
       "      <td>14914.092717</td>\n",
       "      <td>11531.023762</td>\n",
       "      <td>159742.798188</td>\n",
       "      <td>LA Metro Bus Schedule</td>\n",
       "    </tr>\n",
       "    <tr>\n",
       "      <th>2</th>\n",
       "      <td>06d1f3ac2b0ae5e74424edbbfefa19ed</td>\n",
       "      <td>15612</td>\n",
       "      <td>1st / Hill</td>\n",
       "      <td>POINT (161849.863 -438611.462)</td>\n",
       "      <td>1ST / HILL</td>\n",
       "      <td>4800.622496</td>\n",
       "      <td>3383.068955</td>\n",
       "      <td>43551.056687</td>\n",
       "      <td>LA Metro Bus Schedule</td>\n",
       "    </tr>\n",
       "    <tr>\n",
       "      <th>3</th>\n",
       "      <td>06d1f3ac2b0ae5e74424edbbfefa19ed</td>\n",
       "      <td>1217</td>\n",
       "      <td>6th / Wall</td>\n",
       "      <td>POINT (161822.154 -439849.592)</td>\n",
       "      <td>6TH / WALL</td>\n",
       "      <td>3502.191101</td>\n",
       "      <td>3061.439160</td>\n",
       "      <td>24682.108713</td>\n",
       "      <td>LA Metro Bus Schedule</td>\n",
       "    </tr>\n",
       "    <tr>\n",
       "      <th>4</th>\n",
       "      <td>06d1f3ac2b0ae5e74424edbbfefa19ed</td>\n",
       "      <td>7376</td>\n",
       "      <td>7th / Alma</td>\n",
       "      <td>POINT (157649.168 -473829.124)</td>\n",
       "      <td>7TH / ALMA</td>\n",
       "      <td>0.000000</td>\n",
       "      <td>35.736644</td>\n",
       "      <td>559.874088</td>\n",
       "      <td>LA Metro Bus Schedule</td>\n",
       "    </tr>\n",
       "  </tbody>\n",
       "</table>\n",
       "</div>"
      ],
      "text/plain": [
       "                           feed_key stop_id   stop_name  \\\n",
       "0  06d1f3ac2b0ae5e74424edbbfefa19ed   12591      LA Zoo   \n",
       "1  06d1f3ac2b0ae5e74424edbbfefa19ed    5377  1st / Hill   \n",
       "2  06d1f3ac2b0ae5e74424edbbfefa19ed   15612  1st / Hill   \n",
       "3  06d1f3ac2b0ae5e74424edbbfefa19ed    1217  6th / Wall   \n",
       "4  06d1f3ac2b0ae5e74424edbbfefa19ed    7376  7th / Alma   \n",
       "\n",
       "                         geometry   STOP_NAME       sat_ons       sun_ons  \\\n",
       "0  POINT (158199.490 -428414.858)      LA ZOO    857.679453    381.190868   \n",
       "1  POINT (161833.578 -438634.619)  1ST / HILL  14914.092717  11531.023762   \n",
       "2  POINT (161849.863 -438611.462)  1ST / HILL   4800.622496   3383.068955   \n",
       "3  POINT (161822.154 -439849.592)  6TH / WALL   3502.191101   3061.439160   \n",
       "4  POINT (157649.168 -473829.124)  7TH / ALMA      0.000000     35.736644   \n",
       "\n",
       "     weekday_ons                   name  \n",
       "0    2775.546009  LA Metro Bus Schedule  \n",
       "1  159742.798188  LA Metro Bus Schedule  \n",
       "2   43551.056687  LA Metro Bus Schedule  \n",
       "3   24682.108713  LA Metro Bus Schedule  \n",
       "4     559.874088  LA Metro Bus Schedule  "
      ]
     },
     "execution_count": 13,
     "metadata": {},
     "output_type": "execute_result"
    }
   ],
   "source": [
    "yr_metro_joined.head(5)"
   ]
  },
  {
   "cell_type": "code",
   "execution_count": 14,
   "id": "d2a4fe81-4fd3-4d28-be90-a8a59215bf12",
   "metadata": {},
   "outputs": [
    {
     "data": {
      "text/plain": [
       "5"
      ]
     },
     "execution_count": 14,
     "metadata": {},
     "output_type": "execute_result"
    }
   ],
   "source": [
    "stops_remainder = (stops_to_join \n",
    "    >> anti_join(_, yr_metro_grouped, on = ['feed_key', 'stop_id'])\n",
    "                    )\n",
    "\n",
    "len(stops_remainder)"
   ]
  },
  {
   "cell_type": "code",
   "execution_count": 15,
   "id": "e2aec214-2f75-4291-965e-232bcc0558bb",
   "metadata": {},
   "outputs": [
    {
     "data": {
      "text/html": [
       "<div>\n",
       "<style scoped>\n",
       "    .dataframe tbody tr th:only-of-type {\n",
       "        vertical-align: middle;\n",
       "    }\n",
       "\n",
       "    .dataframe tbody tr th {\n",
       "        vertical-align: top;\n",
       "    }\n",
       "\n",
       "    .dataframe thead th {\n",
       "        text-align: right;\n",
       "    }\n",
       "</style>\n",
       "<table border=\"1\" class=\"dataframe\">\n",
       "  <thead>\n",
       "    <tr style=\"text-align: right;\">\n",
       "      <th></th>\n",
       "      <th>stop_name</th>\n",
       "      <th>stop_id</th>\n",
       "    </tr>\n",
       "  </thead>\n",
       "  <tbody>\n",
       "    <tr>\n",
       "      <th>0</th>\n",
       "      <td>Dodger Stadium Express - Union Station West Po...</td>\n",
       "      <td>2155</td>\n",
       "    </tr>\n",
       "    <tr>\n",
       "      <th>1</th>\n",
       "      <td>Dodger Express Loading Zone #3  (Harbor Gateway)</td>\n",
       "      <td>63500003</td>\n",
       "    </tr>\n",
       "    <tr>\n",
       "      <th>2</th>\n",
       "      <td>Dodger Express Loading Zone #2 (Union Station)</td>\n",
       "      <td>63500004</td>\n",
       "    </tr>\n",
       "    <tr>\n",
       "      <th>3</th>\n",
       "      <td>Dodger Express Loading Zone #1 (Union Station)</td>\n",
       "      <td>63500001</td>\n",
       "    </tr>\n",
       "    <tr>\n",
       "      <th>4</th>\n",
       "      <td>Cesar E Chavez / Broadway</td>\n",
       "      <td>63500002</td>\n",
       "    </tr>\n",
       "  </tbody>\n",
       "</table>\n",
       "</div>"
      ],
      "text/plain": [
       "                                           stop_name   stop_id\n",
       "0  Dodger Stadium Express - Union Station West Po...      2155\n",
       "1   Dodger Express Loading Zone #3  (Harbor Gateway)  63500003\n",
       "2     Dodger Express Loading Zone #2 (Union Station)  63500004\n",
       "3     Dodger Express Loading Zone #1 (Union Station)  63500001\n",
       "4                          Cesar E Chavez / Broadway  63500002"
      ]
     },
     "execution_count": 15,
     "metadata": {},
     "output_type": "execute_result"
    }
   ],
   "source": [
    "stops_remainder >> distinct(_.stop_name, _.stop_id)"
   ]
  },
  {
   "cell_type": "code",
   "execution_count": 16,
   "id": "24b3f9bb-d806-4df8-a357-484a922d0a95",
   "metadata": {},
   "outputs": [
    {
     "data": {
      "text/plain": [
       "8"
      ]
     },
     "execution_count": 16,
     "metadata": {},
     "output_type": "execute_result"
    }
   ],
   "source": [
    "yr_metro_remainder = (yr_metro_grouped \n",
    "    >> anti_join(_, stops_to_join, on = ['feed_key', 'stop_id'])\n",
    "                    )\n",
    "\n",
    "len(yr_metro_remainder)"
   ]
  },
  {
   "cell_type": "code",
   "execution_count": 17,
   "id": "a3e52ea9-e6d4-4ea0-8489-4d2f92e1bd3a",
   "metadata": {},
   "outputs": [
    {
     "data": {
      "text/html": [
       "<div>\n",
       "<style scoped>\n",
       "    .dataframe tbody tr th:only-of-type {\n",
       "        vertical-align: middle;\n",
       "    }\n",
       "\n",
       "    .dataframe tbody tr th {\n",
       "        vertical-align: top;\n",
       "    }\n",
       "\n",
       "    .dataframe thead th {\n",
       "        text-align: right;\n",
       "    }\n",
       "</style>\n",
       "<table border=\"1\" class=\"dataframe\">\n",
       "  <thead>\n",
       "    <tr style=\"text-align: right;\">\n",
       "      <th></th>\n",
       "      <th>stop_id</th>\n",
       "      <th>STOP_NAME</th>\n",
       "      <th>sat_ons</th>\n",
       "      <th>sun_ons</th>\n",
       "      <th>weekday_ons</th>\n",
       "      <th>feed_key</th>\n",
       "      <th>name</th>\n",
       "    </tr>\n",
       "  </thead>\n",
       "  <tbody>\n",
       "    <tr>\n",
       "      <th>6324</th>\n",
       "      <td>20400011</td>\n",
       "      <td>71ST / CRENSHAW</td>\n",
       "      <td>845.767239</td>\n",
       "      <td>774.293951</td>\n",
       "      <td>NaN</td>\n",
       "      <td>06d1f3ac2b0ae5e74424edbbfefa19ed</td>\n",
       "      <td>LA Metro Bus Schedule</td>\n",
       "    </tr>\n",
       "    <tr>\n",
       "      <th>6819</th>\n",
       "      <td>2506</td>\n",
       "      <td>DO NOT ANNOUNCE THIS STOP!</td>\n",
       "      <td>0.000000</td>\n",
       "      <td>0.000000</td>\n",
       "      <td>47.648859</td>\n",
       "      <td>06d1f3ac2b0ae5e74424edbbfefa19ed</td>\n",
       "      <td>LA Metro Bus Schedule</td>\n",
       "    </tr>\n",
       "    <tr>\n",
       "      <th>6820</th>\n",
       "      <td>2507</td>\n",
       "      <td>DO NOT ANNOUNCE THIS STOP!</td>\n",
       "      <td>0.000000</td>\n",
       "      <td>11.912215</td>\n",
       "      <td>11.912215</td>\n",
       "      <td>06d1f3ac2b0ae5e74424edbbfefa19ed</td>\n",
       "      <td>LA Metro Bus Schedule</td>\n",
       "    </tr>\n",
       "    <tr>\n",
       "      <th>7022</th>\n",
       "      <td>2741</td>\n",
       "      <td>DO NOT ANNOUNCE THIS STOP!</td>\n",
       "      <td>47.648859</td>\n",
       "      <td>35.736644</td>\n",
       "      <td>238.244293</td>\n",
       "      <td>06d1f3ac2b0ae5e74424edbbfefa19ed</td>\n",
       "      <td>LA Metro Bus Schedule</td>\n",
       "    </tr>\n",
       "    <tr>\n",
       "      <th>7275</th>\n",
       "      <td>3034</td>\n",
       "      <td>DO NOT ANNOUNCE THIS STOP!</td>\n",
       "      <td>0.000000</td>\n",
       "      <td>0.000000</td>\n",
       "      <td>23.824429</td>\n",
       "      <td>06d1f3ac2b0ae5e74424edbbfefa19ed</td>\n",
       "      <td>LA Metro Bus Schedule</td>\n",
       "    </tr>\n",
       "    <tr>\n",
       "      <th>7486</th>\n",
       "      <td>3258</td>\n",
       "      <td>DO NOT ANNOUNCE THIS STOP!</td>\n",
       "      <td>59.561073</td>\n",
       "      <td>0.000000</td>\n",
       "      <td>262.068722</td>\n",
       "      <td>06d1f3ac2b0ae5e74424edbbfefa19ed</td>\n",
       "      <td>LA Metro Bus Schedule</td>\n",
       "    </tr>\n",
       "    <tr>\n",
       "      <th>7674</th>\n",
       "      <td>3513</td>\n",
       "      <td>ROSCOE / TOPANGA CANYON</td>\n",
       "      <td>571.786302</td>\n",
       "      <td>238.244293</td>\n",
       "      <td>NaN</td>\n",
       "      <td>06d1f3ac2b0ae5e74424edbbfefa19ed</td>\n",
       "      <td>LA Metro Bus Schedule</td>\n",
       "    </tr>\n",
       "    <tr>\n",
       "      <th>7706</th>\n",
       "      <td>3559</td>\n",
       "      <td>DO NOT ANNOUNCE THIS STOP!</td>\n",
       "      <td>47.648859</td>\n",
       "      <td>0.000000</td>\n",
       "      <td>23.824429</td>\n",
       "      <td>06d1f3ac2b0ae5e74424edbbfefa19ed</td>\n",
       "      <td>LA Metro Bus Schedule</td>\n",
       "    </tr>\n",
       "  </tbody>\n",
       "</table>\n",
       "</div>"
      ],
      "text/plain": [
       "       stop_id                   STOP_NAME     sat_ons     sun_ons  \\\n",
       "6324  20400011             71ST / CRENSHAW  845.767239  774.293951   \n",
       "6819      2506  DO NOT ANNOUNCE THIS STOP!    0.000000    0.000000   \n",
       "6820      2507  DO NOT ANNOUNCE THIS STOP!    0.000000   11.912215   \n",
       "7022      2741  DO NOT ANNOUNCE THIS STOP!   47.648859   35.736644   \n",
       "7275      3034  DO NOT ANNOUNCE THIS STOP!    0.000000    0.000000   \n",
       "7486      3258  DO NOT ANNOUNCE THIS STOP!   59.561073    0.000000   \n",
       "7674      3513     ROSCOE / TOPANGA CANYON  571.786302  238.244293   \n",
       "7706      3559  DO NOT ANNOUNCE THIS STOP!   47.648859    0.000000   \n",
       "\n",
       "      weekday_ons                          feed_key                   name  \n",
       "6324          NaN  06d1f3ac2b0ae5e74424edbbfefa19ed  LA Metro Bus Schedule  \n",
       "6819    47.648859  06d1f3ac2b0ae5e74424edbbfefa19ed  LA Metro Bus Schedule  \n",
       "6820    11.912215  06d1f3ac2b0ae5e74424edbbfefa19ed  LA Metro Bus Schedule  \n",
       "7022   238.244293  06d1f3ac2b0ae5e74424edbbfefa19ed  LA Metro Bus Schedule  \n",
       "7275    23.824429  06d1f3ac2b0ae5e74424edbbfefa19ed  LA Metro Bus Schedule  \n",
       "7486   262.068722  06d1f3ac2b0ae5e74424edbbfefa19ed  LA Metro Bus Schedule  \n",
       "7674          NaN  06d1f3ac2b0ae5e74424edbbfefa19ed  LA Metro Bus Schedule  \n",
       "7706    23.824429  06d1f3ac2b0ae5e74424edbbfefa19ed  LA Metro Bus Schedule  "
      ]
     },
     "execution_count": 17,
     "metadata": {},
     "output_type": "execute_result"
    }
   ],
   "source": [
    "yr_metro_remainder"
   ]
  },
  {
   "cell_type": "code",
   "execution_count": 18,
   "id": "a579f297-7e13-43d3-b4e9-d6eabb76983b",
   "metadata": {},
   "outputs": [],
   "source": [
    "GCS_FILE_PATH  = 'gs://calitp-analytics-data/data-analyses/ahsc_grant'\n",
    "yr_metro_joined.to_parquet(f\"{GCS_FILE_PATH}/ridership_metro_08_26_2024.parquet\")"
   ]
  },
  {
   "cell_type": "code",
   "execution_count": null,
   "id": "38dc248b-fa90-445e-9abe-898bfbb1650c",
   "metadata": {},
   "outputs": [],
   "source": []
  }
 ],
 "metadata": {
  "kernelspec": {
   "display_name": "Python 3 (ipykernel)",
   "language": "python",
   "name": "python3"
  },
  "language_info": {
   "codemirror_mode": {
    "name": "ipython",
    "version": 3
   },
   "file_extension": ".py",
   "mimetype": "text/x-python",
   "name": "python",
   "nbconvert_exporter": "python",
   "pygments_lexer": "ipython3",
   "version": "3.9.13"
  }
 },
 "nbformat": 4,
 "nbformat_minor": 5
}
