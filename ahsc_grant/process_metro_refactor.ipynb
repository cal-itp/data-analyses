{
 "cells": [
  {
   "cell_type": "code",
   "execution_count": 1,
   "id": "bf253a94-07d5-4d7b-b0c9-f5c40d975d02",
   "metadata": {},
   "outputs": [
    {
     "name": "stdout",
     "output_type": "stream",
     "text": [
      "Requirement already satisfied: shared_utils in /home/jovyan/data-analyses/_shared_utils (4.2)\n",
      "Note: you may need to restart the kernel to use updated packages.\n"
     ]
    }
   ],
   "source": [
    "pip install shared_utils"
   ]
  },
  {
   "cell_type": "code",
   "execution_count": 2,
   "id": "aae27f67-aba5-4ac5-9a89-89f15e99a17c",
   "metadata": {
    "tags": []
   },
   "outputs": [],
   "source": [
    "import os\n",
    "os.environ[\"CALITP_BQ_MAX_BYTES\"] = str(800_000_000_000)\n",
    "\n",
    "import branca\n",
    "import folium\n",
    "from shared_utils import gtfs_utils_v2\n",
    "\n",
    "import pandas as pd\n",
    "import geopandas as gpd \n",
    "\n",
    "import datetime as dt\n",
    "import time\n",
    "\n"
   ]
  },
  {
   "cell_type": "code",
   "execution_count": 3,
   "id": "5a6e783e-b775-4238-a4d3-a7446daf86e9",
   "metadata": {},
   "outputs": [],
   "source": [
    "import sys\n",
    "sys.path.append('../rt_segment_speeds/segment_speed_utils')\n",
    "\n",
    "from helpers import *"
   ]
  },
  {
   "cell_type": "code",
   "execution_count": 4,
   "id": "0480353d-9a5a-4e2e-9986-2e294fbbfdcf",
   "metadata": {},
   "outputs": [],
   "source": [
    "stops_data = import_scheduled_stops(\"2022-06-01\").drop_duplicates().reset_index(drop=True)"
   ]
  },
  {
   "cell_type": "code",
   "execution_count": 5,
   "id": "46e4ca06-3168-4385-b87e-3b08bde46cdb",
   "metadata": {},
   "outputs": [],
   "source": [
    "metro_stops = stops_data[stops_data['feed_key'] == '06d1f3ac2b0ae5e74424edbbfefa19ed']"
   ]
  },
  {
   "cell_type": "code",
   "execution_count": 6,
   "id": "8f569093-29f5-47b5-9f24-d7acb7d4fe5e",
   "metadata": {},
   "outputs": [],
   "source": [
    "GCS_FILE_PATH = 'gs://calitp-analytics-data/data-analyses/ahsc_grant/'"
   ]
  },
  {
   "cell_type": "code",
   "execution_count": 7,
   "id": "20bd9b8a-1fe1-402e-a5ef-4095e67685dd",
   "metadata": {},
   "outputs": [],
   "source": [
    "mar_metro_raw = pd.read_excel(f'{GCS_FILE_PATH}rider_182_2022_03.xlsx')"
   ]
  },
  {
   "cell_type": "code",
   "execution_count": 8,
   "id": "bbfd896c-4797-4022-9cd8-472d157ac5d0",
   "metadata": {},
   "outputs": [],
   "source": [
    "mar_metro_raw = mar_metro_raw.iloc[:-2,:]"
   ]
  },
  {
   "cell_type": "code",
   "execution_count": 9,
   "id": "4b034147-ca7e-4916-b8b4-a89632b314de",
   "metadata": {},
   "outputs": [],
   "source": [
    "mar_metro_raw['STOP_ID'] = mar_metro_raw['STOP_ID'].astype('int64').astype(str)"
   ]
  },
  {
   "cell_type": "code",
   "execution_count": 10,
   "id": "858542b3-5b92-4009-9a18-34795da646ad",
   "metadata": {
    "tags": []
   },
   "outputs": [],
   "source": [
    "day_cols = {'DX': 'weekday_ons', 'SA': 'sat_ons', 'SU': 'sun_ons'}\n",
    "mar_metro_raw['DAY_TYPE'] = mar_metro_raw['DAY_TYPE'].apply(lambda x: day_cols[x])"
   ]
  },
  {
   "cell_type": "code",
   "execution_count": 11,
   "id": "a82f6b05-2c69-4411-803b-56ed3243483c",
   "metadata": {
    "tags": []
   },
   "outputs": [],
   "source": [
    "mar_metro_grouped = (\n",
    "    mar_metro_raw\n",
    "    .groupby(['STOP_ID', 'STOP_NAME', 'DAY_TYPE'], as_index=False)\n",
    "    ['Total_Ons']\n",
    "    .sum()\n",
    "    .rename(columns={'Total_Ons': 'stop_total_ons'})\n",
    ")"
   ]
  },
  {
   "cell_type": "code",
   "execution_count": 12,
   "id": "d72a043f-0d31-41d0-8dfb-4a2317080065",
   "metadata": {
    "tags": []
   },
   "outputs": [
    {
     "name": "stdout",
     "output_type": "stream",
     "text": [
      "<class 'pandas.core.frame.DataFrame'>\n",
      "RangeIndex: 35655 entries, 0 to 35654\n",
      "Data columns (total 4 columns):\n",
      " #   Column          Non-Null Count  Dtype  \n",
      "---  ------          --------------  -----  \n",
      " 0   STOP_ID         35655 non-null  object \n",
      " 1   STOP_NAME       35655 non-null  object \n",
      " 2   DAY_TYPE        35655 non-null  object \n",
      " 3   stop_total_ons  35655 non-null  float64\n",
      "dtypes: float64(1), object(3)\n",
      "memory usage: 1.1+ MB\n"
     ]
    }
   ],
   "source": [
    "mar_metro_grouped.info()"
   ]
  },
  {
   "cell_type": "code",
   "execution_count": 13,
   "id": "17c51246-3ca9-4452-ab30-4baa79460f03",
   "metadata": {
    "tags": []
   },
   "outputs": [],
   "source": [
    "yr_metro_grouped = mar_metro_grouped.copy()\n",
    "yr_metro_grouped['stop_total_ons'] = yr_metro_grouped['stop_total_ons'] * 11.91221463\n",
    "\n",
    "#Pivot DAY_TYPE values into separate columns\n",
    "yr_metro_grouped = yr_metro_grouped.pivot_table(\n",
    "    index=['STOP_ID', 'STOP_NAME'],\n",
    "    columns='DAY_TYPE',\n",
    "    values='stop_total_ons',\n",
    ").reset_index()\n",
    "\n",
    "#Rename STOP_ID to stop_id\n",
    "yr_metro_grouped = yr_metro_grouped.rename(columns={'STOP_ID': 'stop_id'})\n",
    "\n",
    "#Add fixed values for feed_key and name\n",
    "yr_metro_grouped['feed_key'] = '06d1f3ac2b0ae5e74424edbbfefa19ed'\n",
    "yr_metro_grouped['name'] = 'LA Metro Bus Schedule'\n"
   ]
  },
  {
   "cell_type": "code",
   "execution_count": 14,
   "id": "a1386905-f384-4fff-a4a8-ee8b65ee6c4e",
   "metadata": {
    "tags": []
   },
   "outputs": [
    {
     "name": "stdout",
     "output_type": "stream",
     "text": [
      "<class 'pandas.core.frame.DataFrame'>\n",
      "RangeIndex: 12159 entries, 0 to 12158\n",
      "Data columns (total 7 columns):\n",
      " #   Column       Non-Null Count  Dtype  \n",
      "---  ------       --------------  -----  \n",
      " 0   stop_id      12159 non-null  object \n",
      " 1   STOP_NAME    12159 non-null  object \n",
      " 2   sat_ons      11749 non-null  float64\n",
      " 3   sun_ons      11749 non-null  float64\n",
      " 4   weekday_ons  12157 non-null  float64\n",
      " 5   feed_key     12159 non-null  object \n",
      " 6   name         12159 non-null  object \n",
      "dtypes: float64(3), object(4)\n",
      "memory usage: 665.1+ KB\n"
     ]
    }
   ],
   "source": [
    "yr_metro_grouped.info()"
   ]
  },
  {
   "cell_type": "code",
   "execution_count": 15,
   "id": "c4eee2cc-38b2-4be9-b0ca-47ab2f634711",
   "metadata": {
    "tags": []
   },
   "outputs": [],
   "source": [
    "stops_to_join = metro_stops[['feed_key', 'stop_id', 'stop_name', 'geometry']]"
   ]
  },
  {
   "cell_type": "code",
   "execution_count": 16,
   "id": "5a9e3c08-73bd-41d8-98a3-b9781709a321",
   "metadata": {
    "tags": []
   },
   "outputs": [],
   "source": [
    "yr_metro_joined = pd.merge(\n",
    "    stops_to_join,\n",
    "    yr_metro_grouped,\n",
    "    how = 'inner',\n",
    "    on = ['feed_key', 'stop_id']\n",
    ")"
   ]
  },
  {
   "cell_type": "code",
   "execution_count": 17,
   "id": "f20f3017-444e-4656-af86-3ac3e0aedc6a",
   "metadata": {
    "tags": []
   },
   "outputs": [
    {
     "name": "stdout",
     "output_type": "stream",
     "text": [
      "<class 'geopandas.geodataframe.GeoDataFrame'>\n",
      "Int64Index: 12151 entries, 0 to 12150\n",
      "Data columns (total 9 columns):\n",
      " #   Column       Non-Null Count  Dtype   \n",
      "---  ------       --------------  -----   \n",
      " 0   feed_key     12151 non-null  object  \n",
      " 1   stop_id      12151 non-null  object  \n",
      " 2   stop_name    12151 non-null  object  \n",
      " 3   geometry     12151 non-null  geometry\n",
      " 4   STOP_NAME    12151 non-null  object  \n",
      " 5   sat_ons      11741 non-null  float64 \n",
      " 6   sun_ons      11741 non-null  float64 \n",
      " 7   weekday_ons  12151 non-null  float64 \n",
      " 8   name         12151 non-null  object  \n",
      "dtypes: float64(3), geometry(1), object(5)\n",
      "memory usage: 949.3+ KB\n"
     ]
    }
   ],
   "source": [
    "yr_metro_joined.info()"
   ]
  },
  {
   "cell_type": "code",
   "execution_count": 18,
   "id": "2bcb6806-fe55-4bf2-b654-f6b2629182e5",
   "metadata": {
    "tags": []
   },
   "outputs": [],
   "source": [
    "stops_merged = pd.merge(stops_to_join,\n",
    "                        yr_metro_grouped,\n",
    "                        on = ['feed_key', 'stop_id'],\n",
    "                        how='left',\n",
    "                        indicator=True\n",
    "                       )"
   ]
  },
  {
   "cell_type": "code",
   "execution_count": 19,
   "id": "5324d942-1a56-425a-97a2-f98a9f5e3964",
   "metadata": {
    "tags": []
   },
   "outputs": [],
   "source": [
    "stops_remainder = stops_merged[stops_merged['_merge'] == 'left_only'].drop(columns=['_merge'])"
   ]
  },
  {
   "cell_type": "code",
   "execution_count": 20,
   "id": "635c1b62-f9a2-4a3d-818f-52eb510f5890",
   "metadata": {
    "tags": []
   },
   "outputs": [
    {
     "data": {
      "text/plain": [
       "5"
      ]
     },
     "execution_count": 20,
     "metadata": {},
     "output_type": "execute_result"
    }
   ],
   "source": [
    "len(stops_remainder)"
   ]
  },
  {
   "cell_type": "code",
   "execution_count": 21,
   "id": "e2aec214-2f75-4291-965e-232bcc0558bb",
   "metadata": {},
   "outputs": [
    {
     "data": {
      "text/html": [
       "<div>\n",
       "<style scoped>\n",
       "    .dataframe tbody tr th:only-of-type {\n",
       "        vertical-align: middle;\n",
       "    }\n",
       "\n",
       "    .dataframe tbody tr th {\n",
       "        vertical-align: top;\n",
       "    }\n",
       "\n",
       "    .dataframe thead th {\n",
       "        text-align: right;\n",
       "    }\n",
       "</style>\n",
       "<table border=\"1\" class=\"dataframe\">\n",
       "  <thead>\n",
       "    <tr style=\"text-align: right;\">\n",
       "      <th></th>\n",
       "      <th>stop_name</th>\n",
       "      <th>stop_id</th>\n",
       "    </tr>\n",
       "  </thead>\n",
       "  <tbody>\n",
       "    <tr>\n",
       "      <th>2643</th>\n",
       "      <td>Dodger Stadium Express - Union Station West Po...</td>\n",
       "      <td>2155</td>\n",
       "    </tr>\n",
       "    <tr>\n",
       "      <th>4787</th>\n",
       "      <td>Dodger Express Loading Zone #3  (Harbor Gateway)</td>\n",
       "      <td>63500003</td>\n",
       "    </tr>\n",
       "    <tr>\n",
       "      <th>4788</th>\n",
       "      <td>Dodger Express Loading Zone #2 (Union Station)</td>\n",
       "      <td>63500004</td>\n",
       "    </tr>\n",
       "    <tr>\n",
       "      <th>7273</th>\n",
       "      <td>Dodger Express Loading Zone #1 (Union Station)</td>\n",
       "      <td>63500001</td>\n",
       "    </tr>\n",
       "    <tr>\n",
       "      <th>11985</th>\n",
       "      <td>Cesar E Chavez / Broadway</td>\n",
       "      <td>63500002</td>\n",
       "    </tr>\n",
       "  </tbody>\n",
       "</table>\n",
       "</div>"
      ],
      "text/plain": [
       "                                               stop_name   stop_id\n",
       "2643   Dodger Stadium Express - Union Station West Po...      2155\n",
       "4787    Dodger Express Loading Zone #3  (Harbor Gateway)  63500003\n",
       "4788      Dodger Express Loading Zone #2 (Union Station)  63500004\n",
       "7273      Dodger Express Loading Zone #1 (Union Station)  63500001\n",
       "11985                          Cesar E Chavez / Broadway  63500002"
      ]
     },
     "execution_count": 21,
     "metadata": {},
     "output_type": "execute_result"
    }
   ],
   "source": [
    "stops_remainder[['stop_name', 'stop_id']].drop_duplicates()"
   ]
  },
  {
   "cell_type": "code",
   "execution_count": 22,
   "id": "dbf1119a-3ab5-4d8e-ad73-2dc7dcf88a7e",
   "metadata": {
    "tags": []
   },
   "outputs": [],
   "source": [
    "yr_metro_merged = pd.merge(stops_to_join,\n",
    "                        yr_metro_grouped,\n",
    "                        on = ['feed_key', 'stop_id'],\n",
    "                        how='right',\n",
    "                        indicator=True\n",
    "                       )"
   ]
  },
  {
   "cell_type": "code",
   "execution_count": 23,
   "id": "482219cb-0219-4a1b-9fdc-5892be6e4ec7",
   "metadata": {
    "tags": []
   },
   "outputs": [
    {
     "data": {
      "text/plain": [
       "8"
      ]
     },
     "execution_count": 23,
     "metadata": {},
     "output_type": "execute_result"
    }
   ],
   "source": [
    "yr_metro_remainder = yr_metro_merged[yr_metro_merged['_merge'] == 'right_only'].drop(columns=['_merge'])\n",
    "len(yr_metro_remainder)"
   ]
  },
  {
   "cell_type": "code",
   "execution_count": 24,
   "id": "a3e52ea9-e6d4-4ea0-8489-4d2f92e1bd3a",
   "metadata": {},
   "outputs": [
    {
     "data": {
      "text/html": [
       "<div>\n",
       "<style scoped>\n",
       "    .dataframe tbody tr th:only-of-type {\n",
       "        vertical-align: middle;\n",
       "    }\n",
       "\n",
       "    .dataframe tbody tr th {\n",
       "        vertical-align: top;\n",
       "    }\n",
       "\n",
       "    .dataframe thead th {\n",
       "        text-align: right;\n",
       "    }\n",
       "</style>\n",
       "<table border=\"1\" class=\"dataframe\">\n",
       "  <thead>\n",
       "    <tr style=\"text-align: right;\">\n",
       "      <th></th>\n",
       "      <th>feed_key</th>\n",
       "      <th>stop_id</th>\n",
       "      <th>stop_name</th>\n",
       "      <th>geometry</th>\n",
       "      <th>STOP_NAME</th>\n",
       "      <th>sat_ons</th>\n",
       "      <th>sun_ons</th>\n",
       "      <th>weekday_ons</th>\n",
       "      <th>name</th>\n",
       "    </tr>\n",
       "  </thead>\n",
       "  <tbody>\n",
       "    <tr>\n",
       "      <th>6324</th>\n",
       "      <td>06d1f3ac2b0ae5e74424edbbfefa19ed</td>\n",
       "      <td>20400011</td>\n",
       "      <td>NaN</td>\n",
       "      <td>None</td>\n",
       "      <td>71ST / CRENSHAW</td>\n",
       "      <td>845.767239</td>\n",
       "      <td>774.293951</td>\n",
       "      <td>NaN</td>\n",
       "      <td>LA Metro Bus Schedule</td>\n",
       "    </tr>\n",
       "    <tr>\n",
       "      <th>6819</th>\n",
       "      <td>06d1f3ac2b0ae5e74424edbbfefa19ed</td>\n",
       "      <td>2506</td>\n",
       "      <td>NaN</td>\n",
       "      <td>None</td>\n",
       "      <td>DO NOT ANNOUNCE THIS STOP!</td>\n",
       "      <td>0.000000</td>\n",
       "      <td>0.000000</td>\n",
       "      <td>47.648859</td>\n",
       "      <td>LA Metro Bus Schedule</td>\n",
       "    </tr>\n",
       "    <tr>\n",
       "      <th>6820</th>\n",
       "      <td>06d1f3ac2b0ae5e74424edbbfefa19ed</td>\n",
       "      <td>2507</td>\n",
       "      <td>NaN</td>\n",
       "      <td>None</td>\n",
       "      <td>DO NOT ANNOUNCE THIS STOP!</td>\n",
       "      <td>0.000000</td>\n",
       "      <td>11.912215</td>\n",
       "      <td>11.912215</td>\n",
       "      <td>LA Metro Bus Schedule</td>\n",
       "    </tr>\n",
       "    <tr>\n",
       "      <th>7022</th>\n",
       "      <td>06d1f3ac2b0ae5e74424edbbfefa19ed</td>\n",
       "      <td>2741</td>\n",
       "      <td>NaN</td>\n",
       "      <td>None</td>\n",
       "      <td>DO NOT ANNOUNCE THIS STOP!</td>\n",
       "      <td>47.648859</td>\n",
       "      <td>35.736644</td>\n",
       "      <td>238.244293</td>\n",
       "      <td>LA Metro Bus Schedule</td>\n",
       "    </tr>\n",
       "    <tr>\n",
       "      <th>7275</th>\n",
       "      <td>06d1f3ac2b0ae5e74424edbbfefa19ed</td>\n",
       "      <td>3034</td>\n",
       "      <td>NaN</td>\n",
       "      <td>None</td>\n",
       "      <td>DO NOT ANNOUNCE THIS STOP!</td>\n",
       "      <td>0.000000</td>\n",
       "      <td>0.000000</td>\n",
       "      <td>23.824429</td>\n",
       "      <td>LA Metro Bus Schedule</td>\n",
       "    </tr>\n",
       "    <tr>\n",
       "      <th>7486</th>\n",
       "      <td>06d1f3ac2b0ae5e74424edbbfefa19ed</td>\n",
       "      <td>3258</td>\n",
       "      <td>NaN</td>\n",
       "      <td>None</td>\n",
       "      <td>DO NOT ANNOUNCE THIS STOP!</td>\n",
       "      <td>59.561073</td>\n",
       "      <td>0.000000</td>\n",
       "      <td>262.068722</td>\n",
       "      <td>LA Metro Bus Schedule</td>\n",
       "    </tr>\n",
       "    <tr>\n",
       "      <th>7674</th>\n",
       "      <td>06d1f3ac2b0ae5e74424edbbfefa19ed</td>\n",
       "      <td>3513</td>\n",
       "      <td>NaN</td>\n",
       "      <td>None</td>\n",
       "      <td>ROSCOE / TOPANGA CANYON</td>\n",
       "      <td>571.786302</td>\n",
       "      <td>238.244293</td>\n",
       "      <td>NaN</td>\n",
       "      <td>LA Metro Bus Schedule</td>\n",
       "    </tr>\n",
       "    <tr>\n",
       "      <th>7706</th>\n",
       "      <td>06d1f3ac2b0ae5e74424edbbfefa19ed</td>\n",
       "      <td>3559</td>\n",
       "      <td>NaN</td>\n",
       "      <td>None</td>\n",
       "      <td>DO NOT ANNOUNCE THIS STOP!</td>\n",
       "      <td>47.648859</td>\n",
       "      <td>0.000000</td>\n",
       "      <td>23.824429</td>\n",
       "      <td>LA Metro Bus Schedule</td>\n",
       "    </tr>\n",
       "  </tbody>\n",
       "</table>\n",
       "</div>"
      ],
      "text/plain": [
       "                              feed_key   stop_id stop_name geometry  \\\n",
       "6324  06d1f3ac2b0ae5e74424edbbfefa19ed  20400011       NaN     None   \n",
       "6819  06d1f3ac2b0ae5e74424edbbfefa19ed      2506       NaN     None   \n",
       "6820  06d1f3ac2b0ae5e74424edbbfefa19ed      2507       NaN     None   \n",
       "7022  06d1f3ac2b0ae5e74424edbbfefa19ed      2741       NaN     None   \n",
       "7275  06d1f3ac2b0ae5e74424edbbfefa19ed      3034       NaN     None   \n",
       "7486  06d1f3ac2b0ae5e74424edbbfefa19ed      3258       NaN     None   \n",
       "7674  06d1f3ac2b0ae5e74424edbbfefa19ed      3513       NaN     None   \n",
       "7706  06d1f3ac2b0ae5e74424edbbfefa19ed      3559       NaN     None   \n",
       "\n",
       "                       STOP_NAME     sat_ons     sun_ons  weekday_ons  \\\n",
       "6324             71ST / CRENSHAW  845.767239  774.293951          NaN   \n",
       "6819  DO NOT ANNOUNCE THIS STOP!    0.000000    0.000000    47.648859   \n",
       "6820  DO NOT ANNOUNCE THIS STOP!    0.000000   11.912215    11.912215   \n",
       "7022  DO NOT ANNOUNCE THIS STOP!   47.648859   35.736644   238.244293   \n",
       "7275  DO NOT ANNOUNCE THIS STOP!    0.000000    0.000000    23.824429   \n",
       "7486  DO NOT ANNOUNCE THIS STOP!   59.561073    0.000000   262.068722   \n",
       "7674     ROSCOE / TOPANGA CANYON  571.786302  238.244293          NaN   \n",
       "7706  DO NOT ANNOUNCE THIS STOP!   47.648859    0.000000    23.824429   \n",
       "\n",
       "                       name  \n",
       "6324  LA Metro Bus Schedule  \n",
       "6819  LA Metro Bus Schedule  \n",
       "6820  LA Metro Bus Schedule  \n",
       "7022  LA Metro Bus Schedule  \n",
       "7275  LA Metro Bus Schedule  \n",
       "7486  LA Metro Bus Schedule  \n",
       "7674  LA Metro Bus Schedule  \n",
       "7706  LA Metro Bus Schedule  "
      ]
     },
     "execution_count": 24,
     "metadata": {},
     "output_type": "execute_result"
    }
   ],
   "source": [
    "yr_metro_remainder"
   ]
  },
  {
   "cell_type": "code",
   "execution_count": 18,
   "id": "a579f297-7e13-43d3-b4e9-d6eabb76983b",
   "metadata": {},
   "outputs": [],
   "source": [
    "GCS_FILE_PATH  = 'gs://calitp-analytics-data/data-analyses/ahsc_grant'\n",
    "yr_metro_joined.to_parquet(f\"{GCS_FILE_PATH}/ridership_metro_08_26_2024.parquet\")"
   ]
  },
  {
   "cell_type": "code",
   "execution_count": null,
   "id": "38dc248b-fa90-445e-9abe-898bfbb1650c",
   "metadata": {},
   "outputs": [],
   "source": []
  }
 ],
 "metadata": {
  "kernelspec": {
   "display_name": "Python 3 (ipykernel)",
   "language": "python",
   "name": "python3"
  },
  "language_info": {
   "codemirror_mode": {
    "name": "ipython",
    "version": 3
   },
   "file_extension": ".py",
   "mimetype": "text/x-python",
   "name": "python",
   "nbconvert_exporter": "python",
   "pygments_lexer": "ipython3",
   "version": "3.11.10"
  }
 },
 "nbformat": 4,
 "nbformat_minor": 5
}
