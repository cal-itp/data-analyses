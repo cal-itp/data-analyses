{
 "cells": [
  {
   "cell_type": "markdown",
   "id": "02063212-cde4-4ea3-ae8f-7013fb80ad1b",
   "metadata": {},
   "source": [
    "# Transit Ridership Dashboard GTFS Refactor"
   ]
  },
  {
   "cell_type": "markdown",
   "id": "e080cabd-e085-41a2-8e65-a3b5cbf89dad",
   "metadata": {},
   "source": [
    "- Migrating the transit ridership dashboard created Fall 2022 to warehouse v2"
   ]
  },
  {
   "cell_type": "code",
   "execution_count": 1,
   "id": "b8bd1058-65b3-4743-9823-1fc2e846e582",
   "metadata": {},
   "outputs": [
    {
     "name": "stdout",
     "output_type": "stream",
     "text": [
      "Requirement already satisfied: shared_utils in /home/jovyan/data-analyses/_shared_utils (2.5)\n",
      "Note: you may need to restart the kernel to use updated packages.\n"
     ]
    }
   ],
   "source": [
    "pip install shared_utils"
   ]
  },
  {
   "cell_type": "code",
   "execution_count": 2,
   "id": "a22dd650-cef5-4471-9753-6a9f19f6d723",
   "metadata": {},
   "outputs": [],
   "source": [
    "import os\n",
    "os.environ[\"CALITP_BQ_MAX_BYTES\"] = str(800_000_000_000)\n",
    "\n",
    "import branca\n",
    "import folium\n",
    "from shared_utils import gtfs_utils_v2\n",
    "\n",
    "from siuba import *\n",
    "import pandas as pd\n",
    "import geopandas as gpd \n",
    "\n",
    "import datetime as dt\n",
    "import time"
   ]
  },
  {
   "cell_type": "code",
   "execution_count": 3,
   "id": "793efb67-0391-40c6-8816-b4dd683a3bd4",
   "metadata": {},
   "outputs": [],
   "source": [
    "# Creating function for datacheck\n",
    "def analyze_dataset(df):\n",
    "    #Number of rows and columns\n",
    "    num_rows, num_cols = df.shape \n",
    "    print(f\"Number of rows: {num_rows}, Number of columns: {num_cols}\")\n",
    "    print()\n",
    "    \n",
    "    # Print column names \n",
    "    column_names = df.columns.tolist()\n",
    "    print(f\"Column names: \\n{column_names}\\n\")\n",
    "    \n",
    "    #Print data type\n",
    "    print(\"Data type:\")\n",
    "    print(type(df))\n",
    "    print()\n",
    "          \n",
    "    # Print data types\n",
    "    print(\"Data types:\")\n",
    "    print(df.dtypes)\n",
    "    print()\n",
    "          \n",
    "    # Check for duplicates\n",
    "    duplicate_rows = df[df.duplicated()]\n",
    "    if not duplicate_rows.empty:\n",
    "          print(\"Duplicate rows:\")\n",
    "          print(duplicate_rows)\n",
    "          print()\n",
    "    else:\n",
    "        print(\"No duplicate rows found \\n\")\n",
    "            \n",
    "    # Print first 3 words \n",
    "    print(\"First 3 rows:\")\n",
    "    display(df.head(3))\n",
    "    print()\n",
    "\n",
    "    "
   ]
  },
  {
   "cell_type": "markdown",
   "id": "8acd858f-8d0a-4244-b994-dfa7699c9228",
   "metadata": {},
   "source": [
    "## Creating trips per weekday, saturday and sunday by stop"
   ]
  },
  {
   "cell_type": "code",
   "execution_count": 4,
   "id": "e8c7aebf-8fca-46d0-b005-94fe554504d3",
   "metadata": {},
   "outputs": [],
   "source": [
    "# using the 2022 data used in the previous dashboard.\n",
    "analysis_dt = dt.date(2022,6,1)\n",
    "analysis_sat = dt.date(2022,6,4)\n",
    "analysis_sun = dt.date(2022,6,5)\n",
    "\n",
    "analysis_operator_list = [182,293,208]"
   ]
  },
  {
   "cell_type": "markdown",
   "id": "970f727a-be42-4f29-9494-b769f1651738",
   "metadata": {},
   "source": [
    "### Extracting Feed Data for Weekdays "
   ]
  },
  {
   "cell_type": "code",
   "execution_count": 39,
   "id": "2d54faa0-24b4-4a35-ac87-8ec966701f13",
   "metadata": {},
   "outputs": [],
   "source": [
    "feeds = gtfs_utils_v2.schedule_daily_feed_to_gtfs_dataset_name(selected_date=analysis_sat)"
   ]
  },
  {
   "cell_type": "code",
   "execution_count": 40,
   "id": "2df018a1-51e4-42bd-a53a-436ca2bc9455",
   "metadata": {},
   "outputs": [],
   "source": [
    "filtered_feeds = feeds[feeds['name'].str.contains('MTD')]"
   ]
  },
  {
   "cell_type": "code",
   "execution_count": 41,
   "id": "d887ee31-c6c8-4e7d-bb83-dfc0e64bc35c",
   "metadata": {},
   "outputs": [
    {
     "data": {
      "text/html": [
       "<div>\n",
       "<style scoped>\n",
       "    .dataframe tbody tr th:only-of-type {\n",
       "        vertical-align: middle;\n",
       "    }\n",
       "\n",
       "    .dataframe tbody tr th {\n",
       "        vertical-align: top;\n",
       "    }\n",
       "\n",
       "    .dataframe thead th {\n",
       "        text-align: right;\n",
       "    }\n",
       "</style>\n",
       "<table border=\"1\" class=\"dataframe\">\n",
       "  <thead>\n",
       "    <tr style=\"text-align: right;\">\n",
       "      <th></th>\n",
       "      <th>key</th>\n",
       "      <th>date</th>\n",
       "      <th>feed_key</th>\n",
       "      <th>feed_timezone</th>\n",
       "      <th>base64_url</th>\n",
       "      <th>gtfs_dataset_key</th>\n",
       "      <th>name</th>\n",
       "      <th>type</th>\n",
       "      <th>regional_feed_type</th>\n",
       "    </tr>\n",
       "  </thead>\n",
       "  <tbody>\n",
       "    <tr>\n",
       "      <th>196</th>\n",
       "      <td>07cf74ca10f10d0c504828ccace9b5a9</td>\n",
       "      <td>2022-06-04</td>\n",
       "      <td>339cdaba8e9729e2b21b45754b842646</td>\n",
       "      <td>America/Los_Angeles</td>\n",
       "      <td>aHR0cDovL3NibXRkLmdvdi9nb29nbGVfdHJhbnNpdC9mZW...</td>\n",
       "      <td>fa0149a8b4dcc0fecc412387f0230fa7</td>\n",
       "      <td>SBMTD Schedule</td>\n",
       "      <td>schedule</td>\n",
       "      <td>None</td>\n",
       "    </tr>\n",
       "  </tbody>\n",
       "</table>\n",
       "</div>"
      ],
      "text/plain": [
       "                                  key       date  \\\n",
       "196  07cf74ca10f10d0c504828ccace9b5a9 2022-06-04   \n",
       "\n",
       "                             feed_key        feed_timezone  \\\n",
       "196  339cdaba8e9729e2b21b45754b842646  America/Los_Angeles   \n",
       "\n",
       "                                            base64_url  \\\n",
       "196  aHR0cDovL3NibXRkLmdvdi9nb29nbGVfdHJhbnNpdC9mZW...   \n",
       "\n",
       "                     gtfs_dataset_key            name      type  \\\n",
       "196  fa0149a8b4dcc0fecc412387f0230fa7  SBMTD Schedule  schedule   \n",
       "\n",
       "    regional_feed_type  \n",
       "196               None  "
      ]
     },
     "execution_count": 41,
     "metadata": {},
     "output_type": "execute_result"
    }
   ],
   "source": [
    "filtered_feeds"
   ]
  },
  {
   "cell_type": "markdown",
   "id": "eb791178-2111-41c5-b8e8-1bca4bd941c5",
   "metadata": {},
   "source": [
    "### Selecting specific agencies : LA Metro"
   ]
  },
  {
   "cell_type": "code",
   "execution_count": 7,
   "id": "9015890d-8377-4fdd-adf4-77fc228a6367",
   "metadata": {},
   "outputs": [],
   "source": [
    "def select_by_agency(df, column, value):\n",
    "    selected_df = df[df[column].str.contains(value)].copy()\n",
    "    return selected_df"
   ]
  },
  {
   "cell_type": "code",
   "execution_count": 9,
   "id": "e1992843-f061-401a-acb4-75099ed0903d",
   "metadata": {},
   "outputs": [],
   "source": [
    "metrofeeds = select_by_agency(feeds, 'name', 'LA Metro')"
   ]
  },
  {
   "cell_type": "code",
   "execution_count": 10,
   "id": "d33ff24a-4d98-4928-b26a-69d5b9e74557",
   "metadata": {},
   "outputs": [
    {
     "name": "stdout",
     "output_type": "stream",
     "text": [
      "Number of rows: 2, Number of columns: 9\n",
      "\n",
      "Column names: \n",
      "['key', 'date', 'feed_key', 'feed_timezone', 'base64_url', 'gtfs_dataset_key', 'name', 'type', 'regional_feed_type']\n",
      "\n",
      "Data type:\n",
      "<class 'pandas.core.frame.DataFrame'>\n",
      "\n",
      "Data types:\n",
      "key                           object\n",
      "date                  datetime64[ns]\n",
      "feed_key                      object\n",
      "feed_timezone                 object\n",
      "base64_url                    object\n",
      "gtfs_dataset_key              object\n",
      "name                          object\n",
      "type                          object\n",
      "regional_feed_type            object\n",
      "dtype: object\n",
      "\n",
      "No duplicate rows found \n",
      "\n",
      "First 3 rows:\n"
     ]
    },
    {
     "data": {
      "text/html": [
       "<div>\n",
       "<style scoped>\n",
       "    .dataframe tbody tr th:only-of-type {\n",
       "        vertical-align: middle;\n",
       "    }\n",
       "\n",
       "    .dataframe tbody tr th {\n",
       "        vertical-align: top;\n",
       "    }\n",
       "\n",
       "    .dataframe thead th {\n",
       "        text-align: right;\n",
       "    }\n",
       "</style>\n",
       "<table border=\"1\" class=\"dataframe\">\n",
       "  <thead>\n",
       "    <tr style=\"text-align: right;\">\n",
       "      <th></th>\n",
       "      <th>key</th>\n",
       "      <th>date</th>\n",
       "      <th>feed_key</th>\n",
       "      <th>feed_timezone</th>\n",
       "      <th>base64_url</th>\n",
       "      <th>gtfs_dataset_key</th>\n",
       "      <th>name</th>\n",
       "      <th>type</th>\n",
       "      <th>regional_feed_type</th>\n",
       "    </tr>\n",
       "  </thead>\n",
       "  <tbody>\n",
       "    <tr>\n",
       "      <th>84</th>\n",
       "      <td>288c891cdb625de4271a52c9f3e6daeb</td>\n",
       "      <td>2022-06-01</td>\n",
       "      <td>bc633d97886566eba81d46f81b0573b6</td>\n",
       "      <td>America/Los_Angeles</td>\n",
       "      <td>aHR0cHM6Ly9naXRsYWIuY29tL0xBQ01UQS9ndGZzX3JhaW...</td>\n",
       "      <td>683682f3c501f1edd5954f0a1f2a4d12</td>\n",
       "      <td>LA Metro Rail Schedule</td>\n",
       "      <td>schedule</td>\n",
       "      <td>None</td>\n",
       "    </tr>\n",
       "    <tr>\n",
       "      <th>131</th>\n",
       "      <td>b3d63accb016d1d47cb1ccdd73736206</td>\n",
       "      <td>2022-06-01</td>\n",
       "      <td>06d1f3ac2b0ae5e74424edbbfefa19ed</td>\n",
       "      <td>America/Los_Angeles</td>\n",
       "      <td>aHR0cHM6Ly9naXRsYWIuY29tL0xBQ01UQS9ndGZzX2J1cy...</td>\n",
       "      <td>a09d454d421c1ef01e77b9e94aad0f5e</td>\n",
       "      <td>LA Metro Bus Schedule</td>\n",
       "      <td>schedule</td>\n",
       "      <td>None</td>\n",
       "    </tr>\n",
       "  </tbody>\n",
       "</table>\n",
       "</div>"
      ],
      "text/plain": [
       "                                  key       date  \\\n",
       "84   288c891cdb625de4271a52c9f3e6daeb 2022-06-01   \n",
       "131  b3d63accb016d1d47cb1ccdd73736206 2022-06-01   \n",
       "\n",
       "                             feed_key        feed_timezone  \\\n",
       "84   bc633d97886566eba81d46f81b0573b6  America/Los_Angeles   \n",
       "131  06d1f3ac2b0ae5e74424edbbfefa19ed  America/Los_Angeles   \n",
       "\n",
       "                                            base64_url  \\\n",
       "84   aHR0cHM6Ly9naXRsYWIuY29tL0xBQ01UQS9ndGZzX3JhaW...   \n",
       "131  aHR0cHM6Ly9naXRsYWIuY29tL0xBQ01UQS9ndGZzX2J1cy...   \n",
       "\n",
       "                     gtfs_dataset_key                    name      type  \\\n",
       "84   683682f3c501f1edd5954f0a1f2a4d12  LA Metro Rail Schedule  schedule   \n",
       "131  a09d454d421c1ef01e77b9e94aad0f5e   LA Metro Bus Schedule  schedule   \n",
       "\n",
       "    regional_feed_type  \n",
       "84                None  \n",
       "131               None  "
      ]
     },
     "metadata": {},
     "output_type": "display_data"
    },
    {
     "name": "stdout",
     "output_type": "stream",
     "text": [
      "\n"
     ]
    }
   ],
   "source": [
    "analyze_dataset(metrofeeds)"
   ]
  },
  {
   "cell_type": "code",
   "execution_count": 9,
   "id": "0c88af95-933a-4b7f-8696-4943b332acac",
   "metadata": {},
   "outputs": [],
   "source": [
    "# Feed key of LA metro in list format\n",
    "metrofeed_list = metrofeeds.feed_key.to_list()"
   ]
  },
  {
   "cell_type": "markdown",
   "id": "cd1e4488-b9f4-44b7-b13b-d67c7d895b21",
   "metadata": {},
   "source": [
    "### Getting Trip Data for LA Metro for Weekdays"
   ]
  },
  {
   "cell_type": "code",
   "execution_count": 10,
   "id": "5d980138-789d-445c-a5a3-eeb1f5f0bb59",
   "metadata": {},
   "outputs": [],
   "source": [
    "metro_trips = gtfs_utils_v2.get_trips(selected_date=analysis_dt, operator_feeds=metrofeed_list)"
   ]
  },
  {
   "cell_type": "code",
   "execution_count": 11,
   "id": "2a295d02-192f-4404-b3f6-332058169baf",
   "metadata": {},
   "outputs": [],
   "source": [
    "trip_cols = [\"name\", \"gtfs_dataset_key\", \"feed_key\",\n",
    "             \"trip_id\", \"route_id\", \"route_type\"]"
   ]
  },
  {
   "cell_type": "code",
   "execution_count": 12,
   "id": "5be20e23-4780-47bf-b564-ed186f4b6c7f",
   "metadata": {},
   "outputs": [],
   "source": [
    "metro_trips = metro_trips[trip_cols]"
   ]
  },
  {
   "cell_type": "code",
   "execution_count": 13,
   "id": "18e10b96-6a59-481e-9d13-d416e1f06d15",
   "metadata": {},
   "outputs": [
    {
     "name": "stdout",
     "output_type": "stream",
     "text": [
      "Number of rows: 13834, Number of columns: 6\n",
      "\n",
      "Column names: \n",
      "['name', 'gtfs_dataset_key', 'feed_key', 'trip_id', 'route_id', 'route_type']\n",
      "\n",
      "Data type:\n",
      "<class 'pandas.core.frame.DataFrame'>\n",
      "\n",
      "Data types:\n",
      "name                object\n",
      "gtfs_dataset_key    object\n",
      "feed_key            object\n",
      "trip_id             object\n",
      "route_id            object\n",
      "route_type          object\n",
      "dtype: object\n",
      "\n",
      "No duplicate rows found \n",
      "\n",
      "First 3 rows:\n"
     ]
    },
    {
     "data": {
      "text/html": [
       "<div>\n",
       "<style scoped>\n",
       "    .dataframe tbody tr th:only-of-type {\n",
       "        vertical-align: middle;\n",
       "    }\n",
       "\n",
       "    .dataframe tbody tr th {\n",
       "        vertical-align: top;\n",
       "    }\n",
       "\n",
       "    .dataframe thead th {\n",
       "        text-align: right;\n",
       "    }\n",
       "</style>\n",
       "<table border=\"1\" class=\"dataframe\">\n",
       "  <thead>\n",
       "    <tr style=\"text-align: right;\">\n",
       "      <th></th>\n",
       "      <th>name</th>\n",
       "      <th>gtfs_dataset_key</th>\n",
       "      <th>feed_key</th>\n",
       "      <th>trip_id</th>\n",
       "      <th>route_id</th>\n",
       "      <th>route_type</th>\n",
       "    </tr>\n",
       "  </thead>\n",
       "  <tbody>\n",
       "    <tr>\n",
       "      <th>0</th>\n",
       "      <td>LA Metro Bus Schedule</td>\n",
       "      <td>a09d454d421c1ef01e77b9e94aad0f5e</td>\n",
       "      <td>06d1f3ac2b0ae5e74424edbbfefa19ed</td>\n",
       "      <td>DSE-HG-1650-DS-008</td>\n",
       "      <td>DSE-HG</td>\n",
       "      <td>3</td>\n",
       "    </tr>\n",
       "    <tr>\n",
       "      <th>1</th>\n",
       "      <td>LA Metro Bus Schedule</td>\n",
       "      <td>a09d454d421c1ef01e77b9e94aad0f5e</td>\n",
       "      <td>06d1f3ac2b0ae5e74424edbbfefa19ed</td>\n",
       "      <td>DSE-HG-1650-DS-007</td>\n",
       "      <td>DSE-HG</td>\n",
       "      <td>3</td>\n",
       "    </tr>\n",
       "    <tr>\n",
       "      <th>2</th>\n",
       "      <td>LA Metro Bus Schedule</td>\n",
       "      <td>a09d454d421c1ef01e77b9e94aad0f5e</td>\n",
       "      <td>06d1f3ac2b0ae5e74424edbbfefa19ed</td>\n",
       "      <td>DSE-HG-1650-DS-005</td>\n",
       "      <td>DSE-HG</td>\n",
       "      <td>3</td>\n",
       "    </tr>\n",
       "  </tbody>\n",
       "</table>\n",
       "</div>"
      ],
      "text/plain": [
       "                    name                  gtfs_dataset_key  \\\n",
       "0  LA Metro Bus Schedule  a09d454d421c1ef01e77b9e94aad0f5e   \n",
       "1  LA Metro Bus Schedule  a09d454d421c1ef01e77b9e94aad0f5e   \n",
       "2  LA Metro Bus Schedule  a09d454d421c1ef01e77b9e94aad0f5e   \n",
       "\n",
       "                           feed_key             trip_id route_id route_type  \n",
       "0  06d1f3ac2b0ae5e74424edbbfefa19ed  DSE-HG-1650-DS-008   DSE-HG          3  \n",
       "1  06d1f3ac2b0ae5e74424edbbfefa19ed  DSE-HG-1650-DS-007   DSE-HG          3  \n",
       "2  06d1f3ac2b0ae5e74424edbbfefa19ed  DSE-HG-1650-DS-005   DSE-HG          3  "
      ]
     },
     "metadata": {},
     "output_type": "display_data"
    },
    {
     "name": "stdout",
     "output_type": "stream",
     "text": [
      "\n"
     ]
    }
   ],
   "source": [
    "analyze_dataset(metro_trips)"
   ]
  },
  {
   "cell_type": "markdown",
   "id": "73f5d5fc-a1a6-47b6-bd7f-91bbbfcb26bd",
   "metadata": {},
   "source": [
    "### Getting Stop Times Data for Weekdays"
   ]
  },
  {
   "cell_type": "code",
   "execution_count": 14,
   "id": "54634e9c-bd52-43fd-ad43-a2ec2002a6ac",
   "metadata": {},
   "outputs": [
    {
     "name": "stderr",
     "output_type": "stream",
     "text": [
      "/opt/conda/lib/python3.9/site-packages/sqlalchemy_bigquery/_types.py:101: SAWarning: Did not recognize type 'INTERVAL' of column 'arrival_time_interval'\n",
      "  sqlalchemy.util.warn(\n",
      "/opt/conda/lib/python3.9/site-packages/sqlalchemy_bigquery/_types.py:101: SAWarning: Did not recognize type 'INTERVAL' of column 'departure_time_interval'\n",
      "  sqlalchemy.util.warn(\n",
      "/opt/conda/lib/python3.9/site-packages/sqlalchemy_bigquery/_types.py:101: SAWarning: Did not recognize type 'INTERVAL' of column 'start_pickup_drop_off_window_interval'\n",
      "  sqlalchemy.util.warn(\n",
      "/opt/conda/lib/python3.9/site-packages/sqlalchemy_bigquery/_types.py:101: SAWarning: Did not recognize type 'INTERVAL' of column 'end_pickup_drop_off_window_interval'\n",
      "  sqlalchemy.util.warn(\n"
     ]
    }
   ],
   "source": [
    "metro_stops = gtfs_utils_v2.get_stop_times(selected_date=analysis_dt, operator_feeds=metrofeed_list, \n",
    "                                           trip_df = metro_trips, get_df= True)"
   ]
  },
  {
   "cell_type": "code",
   "execution_count": 15,
   "id": "a04eb1d1-bd30-46c2-91be-3ccc3ac6649a",
   "metadata": {},
   "outputs": [],
   "source": [
    "stop_cols=[\"key\", \"_gtfs_key\", \"feed_key\", \"trip_id\", \"stop_id\"]"
   ]
  },
  {
   "cell_type": "code",
   "execution_count": 16,
   "id": "74b3ff29-f009-430b-90a1-66e26613335f",
   "metadata": {},
   "outputs": [],
   "source": [
    "metro_stops= metro_stops[stop_cols]"
   ]
  },
  {
   "cell_type": "code",
   "execution_count": 17,
   "id": "e914b55e-9354-4699-914f-47af29d7c5fb",
   "metadata": {},
   "outputs": [
    {
     "name": "stdout",
     "output_type": "stream",
     "text": [
      "Number of rows: 793697, Number of columns: 5\n",
      "\n",
      "Column names: \n",
      "['key', '_gtfs_key', 'feed_key', 'trip_id', 'stop_id']\n",
      "\n",
      "Data type:\n",
      "<class 'pandas.core.frame.DataFrame'>\n",
      "\n",
      "Data types:\n",
      "key          object\n",
      "_gtfs_key    object\n",
      "feed_key     object\n",
      "trip_id      object\n",
      "stop_id      object\n",
      "dtype: object\n",
      "\n",
      "No duplicate rows found \n",
      "\n",
      "First 3 rows:\n"
     ]
    },
    {
     "data": {
      "text/html": [
       "<div>\n",
       "<style scoped>\n",
       "    .dataframe tbody tr th:only-of-type {\n",
       "        vertical-align: middle;\n",
       "    }\n",
       "\n",
       "    .dataframe tbody tr th {\n",
       "        vertical-align: top;\n",
       "    }\n",
       "\n",
       "    .dataframe thead th {\n",
       "        text-align: right;\n",
       "    }\n",
       "</style>\n",
       "<table border=\"1\" class=\"dataframe\">\n",
       "  <thead>\n",
       "    <tr style=\"text-align: right;\">\n",
       "      <th></th>\n",
       "      <th>key</th>\n",
       "      <th>_gtfs_key</th>\n",
       "      <th>feed_key</th>\n",
       "      <th>trip_id</th>\n",
       "      <th>stop_id</th>\n",
       "    </tr>\n",
       "  </thead>\n",
       "  <tbody>\n",
       "    <tr>\n",
       "      <th>0</th>\n",
       "      <td>bd8866407ade3e81eddbbe7ebe6e6e86</td>\n",
       "      <td>8bda692f5f1c6b0fd99b05990845b189</td>\n",
       "      <td>bc633d97886566eba81d46f81b0573b6</td>\n",
       "      <td>56064321</td>\n",
       "      <td>80109</td>\n",
       "    </tr>\n",
       "    <tr>\n",
       "      <th>1</th>\n",
       "      <td>1449dbb7bbac7b5e9ae8356de963b096</td>\n",
       "      <td>6a13fb05e30ae71fa772fdfb445c11d6</td>\n",
       "      <td>bc633d97886566eba81d46f81b0573b6</td>\n",
       "      <td>55217353</td>\n",
       "      <td>80427</td>\n",
       "    </tr>\n",
       "    <tr>\n",
       "      <th>2</th>\n",
       "      <td>7add6f0ae1867b4c6a23e0c32fd3e4ce</td>\n",
       "      <td>881d52b8a1aa430179c64b3d52155d74</td>\n",
       "      <td>bc633d97886566eba81d46f81b0573b6</td>\n",
       "      <td>55217353</td>\n",
       "      <td>80426</td>\n",
       "    </tr>\n",
       "  </tbody>\n",
       "</table>\n",
       "</div>"
      ],
      "text/plain": [
       "                                key                         _gtfs_key  \\\n",
       "0  bd8866407ade3e81eddbbe7ebe6e6e86  8bda692f5f1c6b0fd99b05990845b189   \n",
       "1  1449dbb7bbac7b5e9ae8356de963b096  6a13fb05e30ae71fa772fdfb445c11d6   \n",
       "2  7add6f0ae1867b4c6a23e0c32fd3e4ce  881d52b8a1aa430179c64b3d52155d74   \n",
       "\n",
       "                           feed_key   trip_id stop_id  \n",
       "0  bc633d97886566eba81d46f81b0573b6  56064321   80109  \n",
       "1  bc633d97886566eba81d46f81b0573b6  55217353   80427  \n",
       "2  bc633d97886566eba81d46f81b0573b6  55217353   80426  "
      ]
     },
     "metadata": {},
     "output_type": "display_data"
    },
    {
     "name": "stdout",
     "output_type": "stream",
     "text": [
      "\n"
     ]
    }
   ],
   "source": [
    "analyze_dataset(metro_stops)"
   ]
  },
  {
   "cell_type": "markdown",
   "id": "7ccdd44d-64b4-4451-b462-7222a71c8d58",
   "metadata": {},
   "source": [
    "### Joining Stop Times and Trip Data "
   ]
  },
  {
   "cell_type": "code",
   "execution_count": 18,
   "id": "940ed697-5e8c-4bf2-99f0-f39d1f676d8f",
   "metadata": {},
   "outputs": [],
   "source": [
    "metro_joined = pd.merge(\n",
    "    metro_stops, metro_trips,\n",
    "    on = [\"trip_id\", \"feed_key\"],\n",
    "    how = 'left'\n",
    ")                    "
   ]
  },
  {
   "cell_type": "code",
   "execution_count": 19,
   "id": "46df0312-de02-4ef1-b111-dcd1d2d9d816",
   "metadata": {},
   "outputs": [
    {
     "data": {
      "text/html": [
       "<div>\n",
       "<style scoped>\n",
       "    .dataframe tbody tr th:only-of-type {\n",
       "        vertical-align: middle;\n",
       "    }\n",
       "\n",
       "    .dataframe tbody tr th {\n",
       "        vertical-align: top;\n",
       "    }\n",
       "\n",
       "    .dataframe thead th {\n",
       "        text-align: right;\n",
       "    }\n",
       "</style>\n",
       "<table border=\"1\" class=\"dataframe\">\n",
       "  <thead>\n",
       "    <tr style=\"text-align: right;\">\n",
       "      <th></th>\n",
       "      <th>key</th>\n",
       "      <th>_gtfs_key</th>\n",
       "      <th>feed_key</th>\n",
       "      <th>trip_id</th>\n",
       "      <th>stop_id</th>\n",
       "      <th>name</th>\n",
       "      <th>gtfs_dataset_key</th>\n",
       "      <th>route_id</th>\n",
       "      <th>route_type</th>\n",
       "    </tr>\n",
       "  </thead>\n",
       "  <tbody>\n",
       "    <tr>\n",
       "      <th>0</th>\n",
       "      <td>bd8866407ade3e81eddbbe7ebe6e6e86</td>\n",
       "      <td>8bda692f5f1c6b0fd99b05990845b189</td>\n",
       "      <td>bc633d97886566eba81d46f81b0573b6</td>\n",
       "      <td>56064321</td>\n",
       "      <td>80109</td>\n",
       "      <td>LA Metro Rail Schedule</td>\n",
       "      <td>683682f3c501f1edd5954f0a1f2a4d12</td>\n",
       "      <td>801</td>\n",
       "      <td>0</td>\n",
       "    </tr>\n",
       "    <tr>\n",
       "      <th>1</th>\n",
       "      <td>1449dbb7bbac7b5e9ae8356de963b096</td>\n",
       "      <td>6a13fb05e30ae71fa772fdfb445c11d6</td>\n",
       "      <td>bc633d97886566eba81d46f81b0573b6</td>\n",
       "      <td>55217353</td>\n",
       "      <td>80427</td>\n",
       "      <td>LA Metro Rail Schedule</td>\n",
       "      <td>683682f3c501f1edd5954f0a1f2a4d12</td>\n",
       "      <td>804</td>\n",
       "      <td>0</td>\n",
       "    </tr>\n",
       "    <tr>\n",
       "      <th>2</th>\n",
       "      <td>7add6f0ae1867b4c6a23e0c32fd3e4ce</td>\n",
       "      <td>881d52b8a1aa430179c64b3d52155d74</td>\n",
       "      <td>bc633d97886566eba81d46f81b0573b6</td>\n",
       "      <td>55217353</td>\n",
       "      <td>80426</td>\n",
       "      <td>LA Metro Rail Schedule</td>\n",
       "      <td>683682f3c501f1edd5954f0a1f2a4d12</td>\n",
       "      <td>804</td>\n",
       "      <td>0</td>\n",
       "    </tr>\n",
       "  </tbody>\n",
       "</table>\n",
       "</div>"
      ],
      "text/plain": [
       "                                key                         _gtfs_key  \\\n",
       "0  bd8866407ade3e81eddbbe7ebe6e6e86  8bda692f5f1c6b0fd99b05990845b189   \n",
       "1  1449dbb7bbac7b5e9ae8356de963b096  6a13fb05e30ae71fa772fdfb445c11d6   \n",
       "2  7add6f0ae1867b4c6a23e0c32fd3e4ce  881d52b8a1aa430179c64b3d52155d74   \n",
       "\n",
       "                           feed_key   trip_id stop_id                    name  \\\n",
       "0  bc633d97886566eba81d46f81b0573b6  56064321   80109  LA Metro Rail Schedule   \n",
       "1  bc633d97886566eba81d46f81b0573b6  55217353   80427  LA Metro Rail Schedule   \n",
       "2  bc633d97886566eba81d46f81b0573b6  55217353   80426  LA Metro Rail Schedule   \n",
       "\n",
       "                   gtfs_dataset_key route_id route_type  \n",
       "0  683682f3c501f1edd5954f0a1f2a4d12      801          0  \n",
       "1  683682f3c501f1edd5954f0a1f2a4d12      804          0  \n",
       "2  683682f3c501f1edd5954f0a1f2a4d12      804          0  "
      ]
     },
     "execution_count": 19,
     "metadata": {},
     "output_type": "execute_result"
    }
   ],
   "source": [
    "metro_joined.head(3)"
   ]
  },
  {
   "cell_type": "markdown",
   "id": "c36852a3-e91f-4e20-87ce-6f5c7cab1170",
   "metadata": {},
   "source": [
    "### Finding Number of Trips on weekday per Stops"
   ]
  },
  {
   "cell_type": "code",
   "execution_count": 21,
   "id": "04af2b1e-33ed-4813-8341-ea743f27671a",
   "metadata": {},
   "outputs": [],
   "source": [
    "metrotrips_weekday =  metro_joined.groupby(['route_type', 'stop_id']).agg(\n",
    "    ntrips_route = ('route_id', 'nunique'),\n",
    "    ntrips_trip = ('trip_id', 'nunique')).reset_index()"
   ]
  },
  {
   "cell_type": "code",
   "execution_count": 28,
   "id": "f63e91d4-31b3-47ab-8d48-382d375d664c",
   "metadata": {},
   "outputs": [
    {
     "data": {
      "text/html": [
       "<div>\n",
       "<style scoped>\n",
       "    .dataframe tbody tr th:only-of-type {\n",
       "        vertical-align: middle;\n",
       "    }\n",
       "\n",
       "    .dataframe tbody tr th {\n",
       "        vertical-align: top;\n",
       "    }\n",
       "\n",
       "    .dataframe thead th {\n",
       "        text-align: right;\n",
       "    }\n",
       "</style>\n",
       "<table border=\"1\" class=\"dataframe\">\n",
       "  <thead>\n",
       "    <tr style=\"text-align: right;\">\n",
       "      <th></th>\n",
       "      <th>route_type</th>\n",
       "      <th>stop_id</th>\n",
       "      <th>ntrips_weekday</th>\n",
       "      <th>ntrips_route</th>\n",
       "    </tr>\n",
       "  </thead>\n",
       "  <tbody>\n",
       "    <tr>\n",
       "      <th>0</th>\n",
       "      <td>0</td>\n",
       "      <td>80101</td>\n",
       "      <td>197</td>\n",
       "      <td>1</td>\n",
       "    </tr>\n",
       "    <tr>\n",
       "      <th>1</th>\n",
       "      <td>0</td>\n",
       "      <td>80102</td>\n",
       "      <td>94</td>\n",
       "      <td>1</td>\n",
       "    </tr>\n",
       "    <tr>\n",
       "      <th>2</th>\n",
       "      <td>0</td>\n",
       "      <td>80105</td>\n",
       "      <td>197</td>\n",
       "      <td>1</td>\n",
       "    </tr>\n",
       "    <tr>\n",
       "      <th>3</th>\n",
       "      <td>0</td>\n",
       "      <td>80106</td>\n",
       "      <td>197</td>\n",
       "      <td>1</td>\n",
       "    </tr>\n",
       "    <tr>\n",
       "      <th>4</th>\n",
       "      <td>0</td>\n",
       "      <td>80107</td>\n",
       "      <td>197</td>\n",
       "      <td>1</td>\n",
       "    </tr>\n",
       "    <tr>\n",
       "      <th>...</th>\n",
       "      <td>...</td>\n",
       "      <td>...</td>\n",
       "      <td>...</td>\n",
       "      <td>...</td>\n",
       "    </tr>\n",
       "    <tr>\n",
       "      <th>12246</th>\n",
       "      <td>3</td>\n",
       "      <td>9992</td>\n",
       "      <td>99</td>\n",
       "      <td>1</td>\n",
       "    </tr>\n",
       "    <tr>\n",
       "      <th>12247</th>\n",
       "      <td>3</td>\n",
       "      <td>9993</td>\n",
       "      <td>99</td>\n",
       "      <td>1</td>\n",
       "    </tr>\n",
       "    <tr>\n",
       "      <th>12248</th>\n",
       "      <td>3</td>\n",
       "      <td>9994</td>\n",
       "      <td>99</td>\n",
       "      <td>1</td>\n",
       "    </tr>\n",
       "    <tr>\n",
       "      <th>12249</th>\n",
       "      <td>3</td>\n",
       "      <td>9996</td>\n",
       "      <td>99</td>\n",
       "      <td>1</td>\n",
       "    </tr>\n",
       "    <tr>\n",
       "      <th>12250</th>\n",
       "      <td>3</td>\n",
       "      <td>9997</td>\n",
       "      <td>116</td>\n",
       "      <td>2</td>\n",
       "    </tr>\n",
       "  </tbody>\n",
       "</table>\n",
       "<p>12251 rows × 4 columns</p>\n",
       "</div>"
      ],
      "text/plain": [
       "      route_type stop_id  ntrips_weekday  ntrips_route\n",
       "0              0   80101             197             1\n",
       "1              0   80102              94             1\n",
       "2              0   80105             197             1\n",
       "3              0   80106             197             1\n",
       "4              0   80107             197             1\n",
       "...          ...     ...             ...           ...\n",
       "12246          3    9992              99             1\n",
       "12247          3    9993              99             1\n",
       "12248          3    9994              99             1\n",
       "12249          3    9996              99             1\n",
       "12250          3    9997             116             2\n",
       "\n",
       "[12251 rows x 4 columns]"
      ]
     },
     "execution_count": 28,
     "metadata": {},
     "output_type": "execute_result"
    }
   ],
   "source": [
    "metrotrips_weekday"
   ]
  },
  {
   "cell_type": "markdown",
   "id": "8c73c76d-936f-404d-9d38-c9ef040f3a3e",
   "metadata": {},
   "source": [
    "### Finding Number of Trips on Saturday per Stops"
   ]
  },
  {
   "cell_type": "code",
   "execution_count": 12,
   "id": "2eb4002c-8032-46ea-a29e-51b41e00cab1",
   "metadata": {},
   "outputs": [
    {
     "data": {
      "text/plain": [
       "\u001b[0;31mSignature:\u001b[0m\n",
       "\u001b[0mgtfs_utils_v2\u001b[0m\u001b[0;34m.\u001b[0m\u001b[0mget_stops\u001b[0m\u001b[0;34m(\u001b[0m\u001b[0;34m\u001b[0m\n",
       "\u001b[0;34m\u001b[0m    \u001b[0mselected_date\u001b[0m\u001b[0;34m:\u001b[0m \u001b[0mUnion\u001b[0m\u001b[0;34m[\u001b[0m\u001b[0mstr\u001b[0m\u001b[0;34m,\u001b[0m \u001b[0mdatetime\u001b[0m\u001b[0;34m.\u001b[0m\u001b[0mdate\u001b[0m\u001b[0;34m]\u001b[0m\u001b[0;34m,\u001b[0m\u001b[0;34m\u001b[0m\n",
       "\u001b[0;34m\u001b[0m    \u001b[0moperator_feeds\u001b[0m\u001b[0;34m:\u001b[0m \u001b[0mlist\u001b[0m\u001b[0;34m[\u001b[0m\u001b[0mstr\u001b[0m\u001b[0;34m]\u001b[0m \u001b[0;34m=\u001b[0m \u001b[0;34m[\u001b[0m\u001b[0;34m]\u001b[0m\u001b[0;34m,\u001b[0m\u001b[0;34m\u001b[0m\n",
       "\u001b[0;34m\u001b[0m    \u001b[0mstop_cols\u001b[0m\u001b[0;34m:\u001b[0m \u001b[0mlist\u001b[0m\u001b[0;34m[\u001b[0m\u001b[0mstr\u001b[0m\u001b[0;34m]\u001b[0m \u001b[0;34m=\u001b[0m \u001b[0;34m[\u001b[0m\u001b[0;34m]\u001b[0m\u001b[0;34m,\u001b[0m\u001b[0;34m\u001b[0m\n",
       "\u001b[0;34m\u001b[0m    \u001b[0mget_df\u001b[0m\u001b[0;34m:\u001b[0m \u001b[0mbool\u001b[0m \u001b[0;34m=\u001b[0m \u001b[0;32mTrue\u001b[0m\u001b[0;34m,\u001b[0m\u001b[0;34m\u001b[0m\n",
       "\u001b[0;34m\u001b[0m    \u001b[0mcrs\u001b[0m\u001b[0;34m:\u001b[0m \u001b[0mstr\u001b[0m \u001b[0;34m=\u001b[0m \u001b[0;34m'EPSG:4326'\u001b[0m\u001b[0;34m,\u001b[0m\u001b[0;34m\u001b[0m\n",
       "\u001b[0;34m\u001b[0m    \u001b[0mcustom_filtering\u001b[0m\u001b[0;34m:\u001b[0m \u001b[0mdict\u001b[0m \u001b[0;34m=\u001b[0m \u001b[0;32mNone\u001b[0m\u001b[0;34m,\u001b[0m\u001b[0;34m\u001b[0m\n",
       "\u001b[0;34m\u001b[0m\u001b[0;34m)\u001b[0m \u001b[0;34m->\u001b[0m \u001b[0mUnion\u001b[0m\u001b[0;34m[\u001b[0m\u001b[0mgeopandas\u001b[0m\u001b[0;34m.\u001b[0m\u001b[0mgeodataframe\u001b[0m\u001b[0;34m.\u001b[0m\u001b[0mGeoDataFrame\u001b[0m\u001b[0;34m,\u001b[0m \u001b[0msiuba\u001b[0m\u001b[0;34m.\u001b[0m\u001b[0msql\u001b[0m\u001b[0;34m.\u001b[0m\u001b[0mbackend\u001b[0m\u001b[0;34m.\u001b[0m\u001b[0mLazyTbl\u001b[0m\u001b[0;34m]\u001b[0m\u001b[0;34m\u001b[0m\u001b[0;34m\u001b[0m\u001b[0m\n",
       "\u001b[0;31mDocstring:\u001b[0m\n",
       "Query fct_daily_scheduled_stops.\n",
       "\n",
       "Must supply a list of feed_keys or organization names returned from\n",
       "schedule_daily_feed_to_gtfs_dataset_name() or subset of those results.\n",
       "\u001b[0;31mFile:\u001b[0m      ~/data-analyses/_shared_utils/shared_utils/gtfs_utils_v2.py\n",
       "\u001b[0;31mType:\u001b[0m      function"
      ]
     },
     "metadata": {},
     "output_type": "display_data"
    }
   ],
   "source": [
    "gtfs_utils_v2.get_stops?"
   ]
  },
  {
   "cell_type": "code",
   "execution_count": 13,
   "id": "45ab654a-d525-4872-8dec-db9ade78d21d",
   "metadata": {},
   "outputs": [
    {
     "ename": "NameError",
     "evalue": "name 'shared_utils' is not defined",
     "output_type": "error",
     "traceback": [
      "\u001b[0;31m---------------------------------------------------------------------------\u001b[0m",
      "\u001b[0;31mNameError\u001b[0m                                 Traceback (most recent call last)",
      "Cell \u001b[0;32mIn[13], line 1\u001b[0m\n\u001b[0;32m----> 1\u001b[0m metro_st \u001b[38;5;241m=\u001b[39m \u001b[43mshared_utils\u001b[49m\u001b[38;5;241m.\u001b[39mgtfs_utils_v2\u001b[38;5;241m.\u001b[39mget_stops(selected_date\u001b[38;5;241m=\u001b[39manalysis_dt, operator_feeds\u001b[38;5;241m=\u001b[39mfeed_list,\n\u001b[1;32m      2\u001b[0m                                                     trip_df\u001b[38;5;241m=\u001b[39mmetro_trips, get_df\u001b[38;5;241m=\u001b[39m\u001b[38;5;28;01mTrue\u001b[39;00m)\n",
      "\u001b[0;31mNameError\u001b[0m: name 'shared_utils' is not defined"
     ]
    }
   ],
   "source": [
    "metro_st = shared_utils.gtfs_utils_v2.get_stops(selected_date=analysis_dt, operator_feeds=feed_list,\n",
    "                                                    trip_df=metro_trips, get_df=True)"
   ]
  },
  {
   "cell_type": "code",
   "execution_count": null,
   "id": "ceddb65f-e0f6-4ba8-8aaf-f70a41dd474e",
   "metadata": {},
   "outputs": [],
   "source": []
  }
 ],
 "metadata": {
  "kernelspec": {
   "display_name": "Python 3 (ipykernel)",
   "language": "python",
   "name": "python3"
  },
  "language_info": {
   "codemirror_mode": {
    "name": "ipython",
    "version": 3
   },
   "file_extension": ".py",
   "mimetype": "text/x-python",
   "name": "python",
   "nbconvert_exporter": "python",
   "pygments_lexer": "ipython3",
   "version": "3.9.13"
  }
 },
 "nbformat": 4,
 "nbformat_minor": 5
}
