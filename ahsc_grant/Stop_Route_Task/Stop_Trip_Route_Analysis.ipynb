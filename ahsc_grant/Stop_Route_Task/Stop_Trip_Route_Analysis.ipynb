{
 "cells": [
  {
   "cell_type": "markdown",
   "id": "72063843-d4a0-49ab-b94e-cad8374b4017",
   "metadata": {},
   "source": [
    "# Stop Summary"
   ]
  },
  {
   "cell_type": "markdown",
   "id": "44817add-ec2d-4c16-a502-d10a8aaca191",
   "metadata": {},
   "source": [
    "Exploratory work that looks into number of routes, trips and headway minutes at a given stop"
   ]
  },
  {
   "cell_type": "code",
   "execution_count": 1,
   "id": "3cc238be-429b-48ec-a538-c37e7f044056",
   "metadata": {
    "tags": []
   },
   "outputs": [
    {
     "name": "stdout",
     "output_type": "stream",
     "text": [
      "Requirement already satisfied: shared_utils in /opt/conda/lib/python3.11/site-packages (4.2)\n",
      "Note: you may need to restart the kernel to use updated packages.\n"
     ]
    }
   ],
   "source": [
    "pip install shared_utils"
   ]
  },
  {
   "cell_type": "code",
   "execution_count": 2,
   "id": "69e6eca9-fc4a-4681-b491-2d1ec167bb5f",
   "metadata": {},
   "outputs": [],
   "source": [
    "import pandas as pd\n",
    "import geopandas as gpd\n",
    "import google.auth\n",
    "import gcsfs\n",
    "import fsspec\n",
    "from segment_speed_utils.project_vars import PUBLIC_GCS\n",
    "\n",
    "from shared_utils import time_helpers \n",
    "\n",
    "\n",
    "GCS_FILE_PATH  = 'gs://calitp-analytics-data/data-analyses/ahsc_grant'\n",
    "analysis_date = \"06_02_2025\"\n",
    "credentials, project = google.auth.default()"
   ]
  },
  {
   "cell_type": "code",
   "execution_count": 3,
   "id": "129a8644-b30e-4dfc-80c9-fc57f191db5a",
   "metadata": {},
   "outputs": [],
   "source": [
    "pd.options.display.max_columns = 100\n",
    "pd.options.display.float_format = \"{:.2f}\".format\n",
    "pd.set_option(\"display.max_rows\", None)\n",
    "pd.set_option(\"display.max_colwidth\", None)"
   ]
  },
  {
   "cell_type": "code",
   "execution_count": 4,
   "id": "09282e0b-c6cf-4218-8434-2abf819cb6de",
   "metadata": {},
   "outputs": [],
   "source": [
    "def prep_trips(analysis_date):\n",
    "    trips = pd.read_parquet(\n",
    "        f\"{GCS_FILE_PATH}/trips_{analysis_date}.parquet\",\n",
    "        columns = [\"feed_key\", \"name\", \"trip_id\", \n",
    "                \"trip_instance_key\", \"route_id\", \"direction_id\", \n",
    "                \"trip_first_departure_datetime_pacific\"]\n",
    "    )\n",
    "\n",
    "    trips = trips.assign(\n",
    "        time_of_day = trips.apply(\n",
    "            lambda x: time_helpers.categorize_time_of_day(\n",
    "                x.trip_first_departure_datetime_pacific), axis=1), \n",
    "    )\n",
    "\n",
    "    return trips"
   ]
  },
  {
   "cell_type": "code",
   "execution_count": 5,
   "id": "a7905809-93be-4749-8f6a-bc8dabe3789f",
   "metadata": {},
   "outputs": [],
   "source": [
    "def prep_stops(analysis_date: str) -> gpd.GeoDataFrame:\n",
    "    \"\"\"\n",
    "    Prep the stops table and keep only stops within California county boundaries.\n",
    "    \"\"\"\n",
    "    stops = gpd.read_parquet(\n",
    "        f\"{GCS_FILE_PATH}/stop_locations_{analysis_date}.parquet\",\n",
    "        columns = [\"feed_key\", \"stop_id\", \"stop_name\", \"geometry\"],\n",
    "        storage_options={'token': credentials.token}\n",
    "    )\n",
    "\n",
    "    # Load California county boundaries GeoJSON from ArcGIS REST service\n",
    "    CA_URL = \"https://services1.arcgis.com/jUJYIo9tSA7EHvfZ/arcgis/rest/services/California_County_Boundaries/FeatureServer/0/query?outFields=*&where=1%3D1&f=geojson\"\n",
    "    CA_county = gpd.read_file(CA_URL)\n",
    "\n",
    "    # Reproject CA_county to match CRS of stops\n",
    "    CA_county = CA_county.to_crs(stops.crs)\n",
    "\n",
    "    # Spatial join to keep only stops within CA counties\n",
    "    stops = gpd.sjoin(stops, CA_county, how=\"inner\", predicate=\"within\")\n",
    "\n",
    "    # Keep only original stop columns (drop join columns)\n",
    "    stops = stops[[\"feed_key\", \"stop_id\", \"stop_name\", \"geometry\"]]\n",
    "\n",
    "    # Add combined column if needed\n",
    "    stops = stops.assign(\n",
    "        stop_combo_col = stops.stop_id + stops.stop_name\n",
    "    )\n",
    "\n",
    "    return stops"
   ]
  },
  {
   "cell_type": "code",
   "execution_count": 6,
   "id": "57f68430-bf34-4475-b9a0-7ef05dabf444",
   "metadata": {},
   "outputs": [],
   "source": [
    "def stop_summary_stats(\n",
    "    df: pd.DataFrame,\n",
    "    stops: gpd.GeoDataFrame,\n",
    "    group_cols: list\n",
    ") -> gpd.GeoDataFrame:\n",
    "    \"\"\"\n",
    "    Take stop times and start counting frequency based on \n",
    "    how many scheduled arrivals it's supposed to make (# rows, so count of a column works).\n",
    "\n",
    "    Store how many routes / route-direction it serves, but those will not be used for \n",
    "    frequency or headway.\n",
    "    \n",
    "    Returns a stop summary table with stop's point geometry\n",
    "    \"\"\"\n",
    "    df2 = (\n",
    "        df.groupby(group_cols)\n",
    "        .agg({\n",
    "            \"trip_instance_key\": \"nunique\",\n",
    "            \"stop_sequence\": \"count\", # preferred\n",
    "            \"route_id\": \"nunique\"\n",
    "        }).reset_index()\n",
    "        .rename(columns = {\n",
    "            \"trip_instance_key\": \"number_of_trips\",\n",
    "            \"stop_sequence\": \"number_of_arrivals\",\n",
    "            \"route_id\": \"number_of_routes\",\n",
    "        })\n",
    "    )\n",
    "    \n",
    "    # when time-of-day is a column, just get the number of hours in each bin\n",
    "    if \"time_of_day\" in df2.columns:\n",
    "        df2[\"duration\"] = df2.time_of_day.map(\n",
    "            time_helpers.HOURS_BY_TIME_OF_DAY\n",
    "        )\n",
    "    # when time-of-day is not a column, hours are set to 24    \n",
    "    else:\n",
    "        df2[\"duration\"] = 24\n",
    "    \n",
    "    \n",
    "    df2[\"frequency\"] = df2.number_of_arrivals.divide(df2.duration)\n",
    "    df2[\"headway_minutes\"] = 60 / df2.frequency\n",
    "    \n",
    "    # post groupby, each row is a stop!\n",
    "    # Merge stop_geom back in.\n",
    "    # After we reduced the df from a lot of rows, where each row represented a trip-stop,\n",
    "    # now that every row is a stop, attach the stop's pt geometry\n",
    "    # stop_combo_col shows up here\n",
    "    gdf = pd.merge(\n",
    "        stops,\n",
    "        df2,\n",
    "        on = [\"feed_key\", \"stop_id\"],\n",
    "        how = \"inner\"\n",
    "    )\n",
    "    \n",
    "    return gdf    "
   ]
  },
  {
   "cell_type": "code",
   "execution_count": 7,
   "id": "10b2b7f0-d05e-4c5b-a5f0-0d2fe45919d6",
   "metadata": {},
   "outputs": [],
   "source": [
    "stop_times = pd.read_parquet(\n",
    "    f\"{GCS_FILE_PATH}/stoptimes_{analysis_date}.parquet\",\n",
    "    columns = [\"feed_key\", \"trip_id\", \"stop_id\", \"stop_sequence\"]\n",
    ")"
   ]
  },
  {
   "cell_type": "code",
   "execution_count": 8,
   "id": "380825c1-d4c0-4c26-a791-dd37f5ff89fd",
   "metadata": {},
   "outputs": [],
   "source": [
    "trips = prep_trips(analysis_date)\n",
    "stops = prep_stops(analysis_date)"
   ]
  },
  {
   "cell_type": "code",
   "execution_count": 9,
   "id": "8f85d62b-97e1-4e9a-8a53-07d37494b1a4",
   "metadata": {},
   "outputs": [],
   "source": [
    "df = pd.merge(\n",
    "    stop_times,\n",
    "    trips, # adding this gives me route_id, trip_instance_key, or route_type\n",
    "    on = [\"feed_key\", \"trip_id\"],\n",
    "    how = \"left\"\n",
    ")"
   ]
  },
  {
   "cell_type": "code",
   "execution_count": 10,
   "id": "bd433e07-d867-4f13-adab-980586f1cc8d",
   "metadata": {},
   "outputs": [],
   "source": [
    "# All day\n",
    "daily_stats = stop_summary_stats(\n",
    "    df, stops, group_cols = [\"feed_key\", \"stop_id\"])\n",
    "\n",
    "# Time-of-Day\n",
    "timeofday_stats = stop_summary_stats(\n",
    "    df, stops, group_cols = [\"feed_key\", \"stop_id\", \"time_of_day\"])"
   ]
  },
  {
   "cell_type": "code",
   "execution_count": 11,
   "id": "549a7df2-16cb-4f73-a083-7cd0cdee2342",
   "metadata": {
    "tags": []
   },
   "outputs": [
    {
     "data": {
      "text/plain": [
       "count   84082.00\n",
       "mean       49.75\n",
       "std       600.18\n",
       "min         1.00\n",
       "25%        15.00\n",
       "50%        28.00\n",
       "75%        56.00\n",
       "max     54142.00\n",
       "Name: number_of_trips, dtype: float64"
      ]
     },
     "metadata": {},
     "output_type": "display_data"
    }
   ],
   "source": [
    "display(daily_stats.number_of_trips.describe())"
   ]
  },
  {
   "cell_type": "code",
   "execution_count": 12,
   "id": "82bf7d82-348f-4313-b659-e0b3fdf01e31",
   "metadata": {
    "tags": []
   },
   "outputs": [
    {
     "data": {
      "text/plain": [
       "count   378038.00\n",
       "mean        11.07\n",
       "std        118.07\n",
       "min          1.00\n",
       "25%          3.00\n",
       "50%          6.00\n",
       "75%         12.00\n",
       "max      11285.00\n",
       "Name: number_of_trips, dtype: float64"
      ]
     },
     "metadata": {},
     "output_type": "display_data"
    }
   ],
   "source": [
    "display(timeofday_stats.number_of_trips.describe())"
   ]
  },
  {
   "cell_type": "code",
   "execution_count": 13,
   "id": "dcec2cbb-041a-4e51-acd2-cec75982e3fd",
   "metadata": {
    "tags": []
   },
   "outputs": [
    {
     "data": {
      "text/plain": [
       "count   84082.00\n",
       "mean        1.38\n",
       "std         0.91\n",
       "min         1.00\n",
       "25%         1.00\n",
       "50%         1.00\n",
       "75%         1.00\n",
       "max        19.00\n",
       "Name: number_of_routes, dtype: float64"
      ]
     },
     "metadata": {},
     "output_type": "display_data"
    }
   ],
   "source": [
    "display(daily_stats.number_of_routes.describe())"
   ]
  },
  {
   "cell_type": "code",
   "execution_count": 14,
   "id": "1e035b97-cef2-485e-aee7-d3f104b47551",
   "metadata": {
    "tags": []
   },
   "outputs": [
    {
     "data": {
      "text/plain": [
       "count   378038.00\n",
       "mean         1.26\n",
       "std          0.66\n",
       "min          1.00\n",
       "25%          1.00\n",
       "50%          1.00\n",
       "75%          1.00\n",
       "max         16.00\n",
       "Name: number_of_routes, dtype: float64"
      ]
     },
     "metadata": {},
     "output_type": "display_data"
    }
   ],
   "source": [
    "display(timeofday_stats.number_of_routes.describe())"
   ]
  },
  {
   "cell_type": "code",
   "execution_count": 15,
   "id": "b8056751-bf03-4f0f-aa35-4b80c8ac3a98",
   "metadata": {
    "tags": []
   },
   "outputs": [
    {
     "data": {
      "text/plain": [
       "count   84082.00\n",
       "mean      100.91\n",
       "std       191.98\n",
       "min         0.01\n",
       "25%        25.71\n",
       "50%        51.43\n",
       "75%        96.00\n",
       "max      1440.00\n",
       "Name: headway_minutes, dtype: float64"
      ]
     },
     "metadata": {},
     "output_type": "display_data"
    }
   ],
   "source": [
    "display(daily_stats.headway_minutes.describe())"
   ]
  },
  {
   "cell_type": "code",
   "execution_count": 16,
   "id": "92abb806-188a-451f-aead-65c0fe6e26f0",
   "metadata": {
    "tags": []
   },
   "outputs": [
    {
     "data": {
      "text/plain": [
       "count   378038.00\n",
       "mean        59.35\n",
       "std         60.64\n",
       "min          0.00\n",
       "25%         20.00\n",
       "50%         36.00\n",
       "75%         60.00\n",
       "max        300.00\n",
       "Name: headway_minutes, dtype: float64"
      ]
     },
     "metadata": {},
     "output_type": "display_data"
    }
   ],
   "source": [
    "display(timeofday_stats.headway_minutes.describe())"
   ]
  },
  {
   "cell_type": "code",
   "execution_count": 17,
   "id": "b63a8db1-14b9-4337-ba3e-9d428d8e0f3e",
   "metadata": {
    "tags": []
   },
   "outputs": [
    {
     "data": {
      "text/plain": [
       "Evening     18307\n",
       "Early AM    14349\n",
       "Owl          5542\n",
       "PM Peak      5493\n",
       "Midday       4133\n",
       "AM Peak      3722\n",
       "Name: time_of_day, dtype: int64"
      ]
     },
     "execution_count": 17,
     "metadata": {},
     "output_type": "execute_result"
    }
   ],
   "source": [
    "timeofday_stats[timeofday_stats.headway_minutes >= 120].time_of_day.value_counts()"
   ]
  },
  {
   "cell_type": "code",
   "execution_count": 18,
   "id": "a47b8fb7-ece7-43ee-afeb-87888e7a213e",
   "metadata": {
    "tags": []
   },
   "outputs": [
    {
     "data": {
      "text/plain": [
       "Early AM    36387\n",
       "Evening     31381\n",
       "PM Peak     24612\n",
       "AM Peak     22873\n",
       "Midday      22482\n",
       "Owl          8506\n",
       "Name: time_of_day, dtype: int64"
      ]
     },
     "execution_count": 18,
     "metadata": {},
     "output_type": "execute_result"
    }
   ],
   "source": [
    "timeofday_stats[timeofday_stats.headway_minutes >= 60].time_of_day.value_counts()"
   ]
  },
  {
   "cell_type": "code",
   "execution_count": null,
   "id": "0baa4841-63a7-4b11-ab22-f8e866cb3449",
   "metadata": {},
   "outputs": [],
   "source": []
  },
  {
   "cell_type": "code",
   "execution_count": 19,
   "id": "92cdf85f-56db-484a-b1c9-68f7d808081d",
   "metadata": {
    "tags": []
   },
   "outputs": [],
   "source": [
    "am_peak_stats = timeofday_stats[timeofday_stats[\"time_of_day\"] == \"AM Peak\"]"
   ]
  },
  {
   "cell_type": "code",
   "execution_count": 23,
   "id": "e6f872fa-311c-4812-8d70-98d7b81fc325",
   "metadata": {
    "tags": []
   },
   "outputs": [],
   "source": [
    "am_peak_stats = am_peak_stats.rename(\n",
    "    columns={\"headway_minutes\": \"am_peak_headway_minutes\"}\n",
    ")\n",
    "am_peak_stats_final = pd.merge(\n",
    "    daily_stats,\n",
    "    am_peak_stats[[\"feed_key\", \"stop_combo_col\", \"am_peak_headway_minutes\"]],\n",
    "    on=[\"feed_key\", \"stop_combo_col\"],\n",
    "    how=\"left\",\n",
    "    indicator=False,\n",
    ")"
   ]
  },
  {
   "cell_type": "code",
   "execution_count": 25,
   "id": "2adbfd5b-0dbf-4cb2-9cf4-7d31042ee883",
   "metadata": {
    "tags": []
   },
   "outputs": [
    {
     "data": {
      "text/plain": [
       "count   80798.00\n",
       "mean       40.82\n",
       "std        37.48\n",
       "min         0.01\n",
       "25%        16.36\n",
       "50%        30.00\n",
       "75%        60.00\n",
       "max       180.00\n",
       "Name: am_peak_headway_minutes, dtype: float64"
      ]
     },
     "execution_count": 25,
     "metadata": {},
     "output_type": "execute_result"
    }
   ],
   "source": [
    "am_peak_stats_final['am_peak_headway_minutes'].describe()"
   ]
  },
  {
   "cell_type": "code",
   "execution_count": 26,
   "id": "ee6e35a4-62d4-47c0-85ef-0d0b9042fd17",
   "metadata": {
    "tags": []
   },
   "outputs": [],
   "source": [
    "GCS__PUBLIC_FILE_PATH = f\"{PUBLIC_GCS}stop_route_trip_headway_data\"\n",
    "\n",
    "def export_gdf(gdf, filename: str):\n",
    "    geojson_str = gdf.to_json()\n",
    "\n",
    "    with fsspec.open(f\"{GCS__PUBLIC_FILE_PATH}/{filename}.geojson\", 'w') as f_out:\n",
    "        f_out.write(geojson_str)\n",
    "\n",
    "    print(f\"Saved to {GCS__PUBLIC_FILE_PATH}/{filename}.geojson\")"
   ]
  },
  {
   "cell_type": "code",
   "execution_count": 27,
   "id": "e2fe8c94-ed4d-4d0e-bfad-7780e12f9b96",
   "metadata": {
    "tags": []
   },
   "outputs": [
    {
     "name": "stdout",
     "output_type": "stream",
     "text": [
      "Saved to gs://calitp-publish-data-analysis/stop_route_trip_headway_data/am_peak_stats.geojson\n",
      "Saved to gs://calitp-publish-data-analysis/stop_route_trip_headway_data/daily_stats.geojson\n",
      "Saved to gs://calitp-publish-data-analysis/stop_route_trip_headway_data/timeofday_stats.geojson\n"
     ]
    }
   ],
   "source": [
    "export_gdf(am_peak_stats_final, \"am_peak_stats\")\n",
    "export_gdf(daily_stats, \"daily_stats\")\n",
    "export_gdf(timeofday_stats, \"timeofday_stats\")"
   ]
  },
  {
   "cell_type": "code",
   "execution_count": null,
   "id": "4878691a-8fb4-4104-8ffe-81dbf2109d36",
   "metadata": {},
   "outputs": [],
   "source": []
  }
 ],
 "metadata": {
  "kernelspec": {
   "display_name": "Python 3 (ipykernel)",
   "language": "python",
   "name": "python3"
  },
  "language_info": {
   "codemirror_mode": {
    "name": "ipython",
    "version": 3
   },
   "file_extension": ".py",
   "mimetype": "text/x-python",
   "name": "python",
   "nbconvert_exporter": "python",
   "pygments_lexer": "ipython3",
   "version": "3.11.10"
  }
 },
 "nbformat": 4,
 "nbformat_minor": 5
}
