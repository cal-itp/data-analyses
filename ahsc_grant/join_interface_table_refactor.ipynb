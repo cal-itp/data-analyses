{
 "cells": [
  {
   "cell_type": "code",
   "execution_count": 1,
   "id": "6e8d9294-86b5-416c-ada8-8f008c329ef8",
   "metadata": {
    "tags": []
   },
   "outputs": [
    {
     "name": "stdout",
     "output_type": "stream",
     "text": [
      "\u001b[31mERROR: Could not find a version that satisfies the requirement shared_utils (from versions: none)\u001b[0m\u001b[31m\n",
      "\u001b[0m\u001b[31mERROR: No matching distribution found for shared_utils\u001b[0m\u001b[31m\n",
      "\u001b[0mNote: you may need to restart the kernel to use updated packages.\n"
     ]
    }
   ],
   "source": [
    "pip install shared_utils"
   ]
  },
  {
   "cell_type": "code",
   "execution_count": 2,
   "id": "ecdaf08b-898a-4e22-b08b-2a0aed7723d9",
   "metadata": {
    "tags": []
   },
   "outputs": [],
   "source": [
    "#Importing required packages \n",
    "import pandas as pd\n",
    "import geopandas as gpd\n",
    "import gcsfs\n",
    "from calitp_data_analysis import get_fs\n",
    "fs = get_fs()\n",
    "import numpy as np\n",
    "from calitp_data_analysis.sql import get_engine\n",
    "db_engine = get_engine()\n",
    "\n",
    "pd.options.display.max_columns = 100\n",
    "pd.options.display.float_format = \"{:.2f}\".format\n",
    "pd.set_option(\"display.max_rows\", None)\n",
    "pd.set_option(\"display.max_colwidth\", None)\n",
    "\n",
    "GCS_FILE_PATH = 'gs://calitp-analytics-data/data-analyses/ahsc_grant/'"
   ]
  },
  {
   "cell_type": "code",
   "execution_count": 3,
   "id": "23050d27-6b01-49ae-8813-b1bce0a0be41",
   "metadata": {
    "tags": []
   },
   "outputs": [],
   "source": [
    "# read in and concatenate all geoparquets\n",
    "fs_list = fs.ls(f\"{GCS_FILE_PATH}tool_data_2025/\")"
   ]
  },
  {
   "cell_type": "code",
   "execution_count": 4,
   "id": "2542f01c-41bc-4482-b57b-b7e7750e94c8",
   "metadata": {
    "tags": []
   },
   "outputs": [],
   "source": [
    "filelist = []\n",
    "for f in fs_list[1:]:\n",
    "    try: \n",
    "        test_pqt = pd.read_parquet(f\"gs://{f}\")\n",
    "        filelist.append(f)\n",
    "    except:\n",
    "        print(f\"error on {f.split('tool_data_2025/')}\")"
   ]
  },
  {
   "cell_type": "code",
   "execution_count": 5,
   "id": "1978fd19-41c4-4fa7-a341-ab58e8f2aa57",
   "metadata": {
    "tags": []
   },
   "outputs": [],
   "source": [
    "df = (pd.concat(\n",
    "        pd.read_parquet(f\"gs://{f}\")\n",
    "        for f in filelist\n",
    "        )\n",
    "    )"
   ]
  },
  {
   "cell_type": "code",
   "execution_count": 6,
   "id": "94f531f0-cc7d-4c6a-910f-0c716a36fa81",
   "metadata": {
    "tags": []
   },
   "outputs": [],
   "source": [
    "wkd_coeff = np.array([-0.16286, 0.00010, -0.00002, 0.02713, -0.01183, -0.03907, -0.02564, 0.01571])\n",
    "sat_coeff = np.array([-0.13482,\t0.00012, -0.00002,\t0.0293,\t-0.01627, -0.03214,\t-0.02826, 0.02126])\n",
    "sun_coeff = np.array([-0.1087,\t0.00012, -0.00003,\t0.02644, -0.01624,\t-0.03621, -0.04081,\t0.02355])"
   ]
  },
  {
   "cell_type": "code",
   "execution_count": 7,
   "id": "292dd66f-24ca-49ba-bf9b-3a81ce606024",
   "metadata": {
    "tags": []
   },
   "outputs": [],
   "source": [
    "# NTD Ridership data \n",
    "with db_engine.connect() as connection:\n",
    "    query = \"\"\"\n",
    "        SELECT\n",
    "            key, ntd_id, agency, period_year_month, mode, uza_name, upt\n",
    "        FROM \n",
    "            cal-itp-data-infra.mart_ntd_ridership.fct_complete_monthly_ridership_with_adjustments_and_estimates\n",
    "    \"\"\"\n",
    "    ridership_data= pd.read_sql(query, connection)"
   ]
  },
  {
   "cell_type": "code",
   "execution_count": 8,
   "id": "3fc9c629-8d39-4b54-80dd-d5cda57d4837",
   "metadata": {
    "tags": []
   },
   "outputs": [
    {
     "data": {
      "text/plain": [
       "key                   object\n",
       "ntd_id                object\n",
       "agency                object\n",
       "period_year_month     object\n",
       "mode                  object\n",
       "uza_name              object\n",
       "upt                  float64\n",
       "dtype: object"
      ]
     },
     "execution_count": 8,
     "metadata": {},
     "output_type": "execute_result"
    }
   ],
   "source": [
    "ridership_data.dtypes"
   ]
  },
  {
   "cell_type": "code",
   "execution_count": 9,
   "id": "9f2cde0a-b07c-4833-a143-da8ec0d5555a",
   "metadata": {
    "tags": []
   },
   "outputs": [],
   "source": [
    "# Convert to Period (monthly)\n",
    "ridership_data['period_year_month'] = pd.to_datetime(ridership_data['period_year_month'], format='%Y-%m').dt.to_period('M')\n"
   ]
  },
  {
   "cell_type": "code",
   "execution_count": 10,
   "id": "a16948e4-f8bf-4aa5-b6a1-c67877231498",
   "metadata": {},
   "outputs": [
    {
     "data": {
      "text/html": [
       "<div>\n",
       "<style scoped>\n",
       "    .dataframe tbody tr th:only-of-type {\n",
       "        vertical-align: middle;\n",
       "    }\n",
       "\n",
       "    .dataframe tbody tr th {\n",
       "        vertical-align: top;\n",
       "    }\n",
       "\n",
       "    .dataframe thead th {\n",
       "        text-align: right;\n",
       "    }\n",
       "</style>\n",
       "<table border=\"1\" class=\"dataframe\">\n",
       "  <thead>\n",
       "    <tr style=\"text-align: right;\">\n",
       "      <th></th>\n",
       "      <th>key</th>\n",
       "      <th>ntd_id</th>\n",
       "      <th>agency</th>\n",
       "      <th>period_year_month</th>\n",
       "      <th>mode</th>\n",
       "      <th>uza_name</th>\n",
       "      <th>upt</th>\n",
       "    </tr>\n",
       "  </thead>\n",
       "  <tbody>\n",
       "    <tr>\n",
       "      <th>0</th>\n",
       "      <td>768154404f12b3a096247a985ebfc1a8</td>\n",
       "      <td>20120</td>\n",
       "      <td>City of Glens Falls</td>\n",
       "      <td>2005-03</td>\n",
       "      <td>OR</td>\n",
       "      <td>Glens Falls, NY</td>\n",
       "      <td>0.00</td>\n",
       "    </tr>\n",
       "    <tr>\n",
       "      <th>1</th>\n",
       "      <td>1e1188b7d77e5ebd8966ba22efd5e4e6</td>\n",
       "      <td>20120</td>\n",
       "      <td>City of Glens Falls</td>\n",
       "      <td>2005-02</td>\n",
       "      <td>OR</td>\n",
       "      <td>Glens Falls, NY</td>\n",
       "      <td>0.00</td>\n",
       "    </tr>\n",
       "    <tr>\n",
       "      <th>2</th>\n",
       "      <td>e5fcb9a9c434254d07dc77306f692451</td>\n",
       "      <td>20120</td>\n",
       "      <td>City of Glens Falls</td>\n",
       "      <td>2005-08</td>\n",
       "      <td>OR</td>\n",
       "      <td>Glens Falls, NY</td>\n",
       "      <td>13259.00</td>\n",
       "    </tr>\n",
       "    <tr>\n",
       "      <th>3</th>\n",
       "      <td>a389d3dfa66a82426209e76af8a00729</td>\n",
       "      <td>20120</td>\n",
       "      <td>City of Glens Falls</td>\n",
       "      <td>2005-12</td>\n",
       "      <td>OR</td>\n",
       "      <td>Glens Falls, NY</td>\n",
       "      <td>0.00</td>\n",
       "    </tr>\n",
       "    <tr>\n",
       "      <th>4</th>\n",
       "      <td>fb66f457e8a0cbf48bb4e09a1b2ea4aa</td>\n",
       "      <td>20120</td>\n",
       "      <td>City of Glens Falls</td>\n",
       "      <td>2005-01</td>\n",
       "      <td>OR</td>\n",
       "      <td>Glens Falls, NY</td>\n",
       "      <td>0.00</td>\n",
       "    </tr>\n",
       "  </tbody>\n",
       "</table>\n",
       "</div>"
      ],
      "text/plain": [
       "                                key ntd_id               agency  \\\n",
       "0  768154404f12b3a096247a985ebfc1a8  20120  City of Glens Falls   \n",
       "1  1e1188b7d77e5ebd8966ba22efd5e4e6  20120  City of Glens Falls   \n",
       "2  e5fcb9a9c434254d07dc77306f692451  20120  City of Glens Falls   \n",
       "3  a389d3dfa66a82426209e76af8a00729  20120  City of Glens Falls   \n",
       "4  fb66f457e8a0cbf48bb4e09a1b2ea4aa  20120  City of Glens Falls   \n",
       "\n",
       "  period_year_month mode         uza_name      upt  \n",
       "0           2005-03   OR  Glens Falls, NY     0.00  \n",
       "1           2005-02   OR  Glens Falls, NY     0.00  \n",
       "2           2005-08   OR  Glens Falls, NY 13259.00  \n",
       "3           2005-12   OR  Glens Falls, NY     0.00  \n",
       "4           2005-01   OR  Glens Falls, NY     0.00  "
      ]
     },
     "execution_count": 10,
     "metadata": {},
     "output_type": "execute_result"
    }
   ],
   "source": [
    "ridership_data.head(5)"
   ]
  },
  {
   "cell_type": "code",
   "execution_count": 11,
   "id": "de24ef25-eb86-4d56-bf58-35983aa02ee8",
   "metadata": {
    "tags": []
   },
   "outputs": [],
   "source": [
    "# Step 1: Filter by year-month range (as strings)\n",
    "filtered_ridership_data = ridership_data[\n",
    "    (ridership_data['period_year_month'] >= '2021-10') &\n",
    "    (ridership_data['period_year_month'] <= '2022-09')\n",
    "]\n",
    "\n",
    "# Step 2: Filter modes ending in \"B\"\n",
    "filtered_ridership_data = filtered_ridership_data[filtered_ridership_data['mode'].str.endswith('B')]\n",
    "\n",
    "# Step 3: Group and sum UPT\n",
    "grouped_ridership_data = (\n",
    "    filtered_ridership_data\n",
    "    .groupby('ntd_id', as_index=False)\n",
    "    .agg(ntd_ridership=('upt', 'sum'))\n",
    ")"
   ]
  },
  {
   "cell_type": "code",
   "execution_count": 12,
   "id": "013c7490-a718-4a4f-83ed-f2016685cb17",
   "metadata": {
    "tags": []
   },
   "outputs": [
    {
     "data": {
      "text/html": [
       "<div>\n",
       "<style scoped>\n",
       "    .dataframe tbody tr th:only-of-type {\n",
       "        vertical-align: middle;\n",
       "    }\n",
       "\n",
       "    .dataframe tbody tr th {\n",
       "        vertical-align: top;\n",
       "    }\n",
       "\n",
       "    .dataframe thead th {\n",
       "        text-align: right;\n",
       "    }\n",
       "</style>\n",
       "<table border=\"1\" class=\"dataframe\">\n",
       "  <thead>\n",
       "    <tr style=\"text-align: right;\">\n",
       "      <th></th>\n",
       "      <th>ntd_id</th>\n",
       "      <th>ntd_ridership</th>\n",
       "    </tr>\n",
       "  </thead>\n",
       "  <tbody>\n",
       "    <tr>\n",
       "      <th>0</th>\n",
       "      <td>00001</td>\n",
       "      <td>61493156.00</td>\n",
       "    </tr>\n",
       "    <tr>\n",
       "      <th>1</th>\n",
       "      <td>00002</td>\n",
       "      <td>6158722.00</td>\n",
       "    </tr>\n",
       "    <tr>\n",
       "      <th>2</th>\n",
       "      <td>00003</td>\n",
       "      <td>4700062.00</td>\n",
       "    </tr>\n",
       "    <tr>\n",
       "      <th>3</th>\n",
       "      <td>00005</td>\n",
       "      <td>940548.00</td>\n",
       "    </tr>\n",
       "    <tr>\n",
       "      <th>4</th>\n",
       "      <td>00006</td>\n",
       "      <td>478335.00</td>\n",
       "    </tr>\n",
       "  </tbody>\n",
       "</table>\n",
       "</div>"
      ],
      "text/plain": [
       "  ntd_id  ntd_ridership\n",
       "0  00001    61493156.00\n",
       "1  00002     6158722.00\n",
       "2  00003     4700062.00\n",
       "3  00005      940548.00\n",
       "4  00006      478335.00"
      ]
     },
     "execution_count": 12,
     "metadata": {},
     "output_type": "execute_result"
    }
   ],
   "source": [
    "grouped_ridership_data.head(5)"
   ]
  },
  {
   "cell_type": "markdown",
   "id": "8c85b9c3-a6de-4d32-8fa4-690e538ff347",
   "metadata": {},
   "source": [
    "Apply coefficients to data based on day type"
   ]
  },
  {
   "cell_type": "code",
   "execution_count": 13,
   "id": "d60f0e72-2b96-4ef8-b655-8cb4cfa47491",
   "metadata": {
    "tags": []
   },
   "outputs": [],
   "source": [
    "#Preprocess stop level data \n",
    "def apply_coefficients(df, daytype, coeff_list):\n",
    "    df_day = df[df['daytype'] == daytype].copy()\n",
    "    cols_to_scale = ['n_routes', 'pop_density', 'job_density', 'pct_not_us_citizen_pop',\n",
    "                     'pct_youth_pop', 'pct_seniors_pop', 'pct_pop_workers_no_car', 'pct_poverty']\n",
    "    df_day[cols_to_scale] = df_day[cols_to_scale].multiply(coeff_list)\n",
    "    return df_day"
   ]
  },
  {
   "cell_type": "code",
   "execution_count": 14,
   "id": "8ac09d49-c5db-486f-8ed0-ffa616b9e49a",
   "metadata": {
    "tags": []
   },
   "outputs": [],
   "source": [
    "# Estimate Baseline Ridership\n",
    "def compute_model_ridership(df, coefficient, constant, variance):\n",
    "    df['control_vars_sum'] = df[['n_routes', 'pop_density', 'job_density',\n",
    "                                 'pct_not_us_citizen_pop', 'pct_youth_pop', \n",
    "                                 'pct_seniors_pop', 'pct_pop_workers_no_car', \n",
    "                                 'pct_poverty']].sum(axis=1)\n",
    "    \n",
    "    df['control_vars_factor'] = df['control_vars_sum'] + (df['n_trips'] * coefficient) + constant\n",
    "    df['model_est_ridership'] = np.exp(df['control_vars_factor'] + (variance / 2))\n",
    "    return df"
   ]
  },
  {
   "cell_type": "code",
   "execution_count": 15,
   "id": "079cb375-160f-4459-bb7c-5f95f768eb26",
   "metadata": {
    "tags": []
   },
   "outputs": [],
   "source": [
    "# Remove outliers\n",
    "def remove_outliers(df, quantile=0.99):\n",
    "    cutoff = df['model_est_ridership'].quantile(quantile)\n",
    "    return df[df['model_est_ridership'] < cutoff].copy()"
   ]
  },
  {
   "cell_type": "code",
   "execution_count": 16,
   "id": "96fe3f2b-e53d-4ae0-9402-a5173f835360",
   "metadata": {},
   "outputs": [],
   "source": [
    "def aggregate_system_model(df):\n",
    "    return df.groupby(['schedule_gtfs_dataset_key', 'portfolio_organization_name', 'ntd_id_2022'], \n",
    "                      as_index=False)['model_est_ridership'].sum().rename(\n",
    "        columns={'model_est_ridership': 'sys_model_est_ridership'})"
   ]
  },
  {
   "cell_type": "code",
   "execution_count": 17,
   "id": "5e51a73a-f490-43a0-a942-8cd5acc70504",
   "metadata": {},
   "outputs": [],
   "source": [
    "def join_external_data(sys_df, ntd_ridership_df, daytype_count):\n",
    "    sys_df = sys_df.merge(\n",
    "        ntd_ridership_df, \n",
    "        left_on='ntd_id_2022', \n",
    "        right_on='ntd_id', \n",
    "        how='left'\n",
    "    )\n",
    "    sys_df['ntd_ridership_daytype'] = sys_df['ntd_ridership'] * (daytype_count / 365)\n",
    "    return sys_df"
   ]
  },
  {
   "cell_type": "code",
   "execution_count": 18,
   "id": "c83d569f-29fb-4947-8712-ac9badf0d259",
   "metadata": {},
   "outputs": [],
   "source": [
    "def compute_median_overprediction(sys_df):\n",
    "    sys_df['model_over_ntd'] = sys_df['sys_model_est_ridership'] / sys_df['ntd_ridership_daytype']\n",
    "    return sys_df['model_over_ntd'].median()"
   ]
  },
  {
   "cell_type": "code",
   "execution_count": 19,
   "id": "d0ca6db8-77d9-4bfe-a1c4-a939d36ee9c9",
   "metadata": {},
   "outputs": [],
   "source": [
    "def scale_ridership(df, sys_df, median_overpred):\n",
    "    df = df.merge(\n",
    "        sys_df[['schedule_gtfs_dataset_key', 'portfolio_organization_name', 'ntd_id_2022', 'sys_model_est_ridership', 'ntd_ridership_daytype']],\n",
    "        on=['schedule_gtfs_dataset_key', 'portfolio_organization_name', 'ntd_id_2022'], how='left'\n",
    "    )\n",
    "    \n",
    "    def scaled_rider(row):\n",
    "        if pd.notnull(row['ntd_ridership_daytype']) and row['ntd_ridership_daytype'] > 0:\n",
    "            return row['model_est_ridership'] / (row['sys_model_est_ridership'] / row['ntd_ridership_daytype'])\n",
    "        else:\n",
    "            return row['model_est_ridership'] / median_overpred\n",
    "\n",
    "    df['ntd_scaled_ridership'] = df.apply(scaled_rider, axis=1)\n",
    "    return df"
   ]
  },
  {
   "cell_type": "code",
   "execution_count": 20,
   "id": "743e10ba-3ecd-4082-a34a-58890bcf03c0",
   "metadata": {},
   "outputs": [],
   "source": [
    "def simulate_added_trips(df, range_trips):\n",
    "    df['route_list_dups'] = df['route_list_string'].str.split(',')\n",
    "    df['route_list_cleaned'] = df['route_list_dups'].apply(\n",
    "        lambda routes: [r.split('_')[0] for r in routes]\n",
    "    )\n",
    "    df['route_name'] = df['route_list_cleaned'].apply(np.unique)\n",
    "    df = df.explode('route_name')\n",
    "    df['n_addtl_trips'] = [range_trips] * len(df)\n",
    "    df = df.explode('n_addtl_trips')\n",
    "    return df"
   ]
  },
  {
   "cell_type": "code",
   "execution_count": 21,
   "id": "a3b10285-729b-45cb-886f-e4cac3f4f64f",
   "metadata": {},
   "outputs": [],
   "source": [
    "def estimate_new_riders(df, coefficient):\n",
    "    coeff_pct = np.exp(coefficient) - 1\n",
    "    df['n_addtl_riders'] = df['ntd_scaled_ridership'] * coeff_pct * df['n_addtl_trips']\n",
    "    return df[['schedule_gtfs_dataset_key', 'portfolio_organization_name', 'ntd_id_2022', 'daytype', 'route_name', 'stop_id', 'stop_name',\n",
    "               'n_addtl_trips', 'n_addtl_riders']]"
   ]
  },
  {
   "cell_type": "code",
   "execution_count": 22,
   "id": "b54ec5e6-76ff-4b79-bc61-bcc4e9aba8ba",
   "metadata": {
    "tags": []
   },
   "outputs": [],
   "source": [
    "def ridership_model(df, daytype, coeff_list, coefficient, constant, variance, \n",
    "                    daytype_count, range_trips, NTD_ridership_clean):\n",
    "\n",
    "    #Prepare and model ridership\n",
    "    df1 = apply_coefficients(df, daytype, coeff_list)\n",
    "    df2 = compute_model_ridership(df1, coefficient, constant, variance)\n",
    "    df3 = remove_outliers(df2)\n",
    "    \n",
    "    #System-level scaling based on real data\n",
    "    sys_model = aggregate_system_model(df3)\n",
    "    sys_model = join_external_data(sys_model, NTD_ridership_clean, daytype_count)\n",
    "    median_overpred = compute_median_overprediction(sys_model)\n",
    "    \n",
    "    # STEP 7–9: Stop-level scaling, simulating added trips, estimating new riders\n",
    "    df4 = scale_ridership(df3, sys_model, median_overpred)\n",
    "    df5 = simulate_added_trips(df4, range_trips)\n",
    "    df_final = estimate_new_riders(df5, coefficient)\n",
    "    \n",
    "    return df_final"
   ]
  },
  {
   "cell_type": "code",
   "execution_count": 23,
   "id": "2382f39d-f4f2-4717-aa4b-ad67ff4120fc",
   "metadata": {
    "tags": []
   },
   "outputs": [],
   "source": [
    "df_weekday = ridership_model(\n",
    "    df,\n",
    "    daytype=\"Weekday\",\n",
    "    coeff_list=wkd_coeff,\n",
    "    coefficient=0.0200865,\n",
    "    constant=6.8721538,\n",
    "    variance=2.434,\n",
    "    daytype_count=261,\n",
    "    range_trips=list(range(0, 21)),\n",
    "    NTD_ridership_clean=grouped_ridership_data\n",
    ")\n",
    "\n",
    "df_saturday = ridership_model(\n",
    "    df,\n",
    "    daytype=\"Saturday\",\n",
    "    coeff_list=sat_coeff,\n",
    "    coefficient=0.0262958,\n",
    "    constant=4.2261843,\n",
    "    variance=3.007,\n",
    "    daytype_count=52,\n",
    "    range_trips=list(range(0, 21)),\n",
    "    NTD_ridership_clean=grouped_ridership_data\n",
    ")\n",
    "\n",
    "df_sunday = ridership_model(\n",
    "    df,\n",
    "    daytype=\"Sunday\",\n",
    "    coeff_list=sun_coeff,\n",
    "    coefficient=0.0263988,\n",
    "    constant=3.9734396,\n",
    "    variance=3.119,\n",
    "    daytype_count=52,\n",
    "    range_trips=list(range(0, 21)),\n",
    "    NTD_ridership_clean=grouped_ridership_data\n",
    ")"
   ]
  },
  {
   "cell_type": "code",
   "execution_count": 24,
   "id": "e2816312-5498-4759-a556-fb381c76c9f4",
   "metadata": {},
   "outputs": [
    {
     "data": {
      "text/html": [
       "<div>\n",
       "<style scoped>\n",
       "    .dataframe tbody tr th:only-of-type {\n",
       "        vertical-align: middle;\n",
       "    }\n",
       "\n",
       "    .dataframe tbody tr th {\n",
       "        vertical-align: top;\n",
       "    }\n",
       "\n",
       "    .dataframe thead th {\n",
       "        text-align: right;\n",
       "    }\n",
       "</style>\n",
       "<table border=\"1\" class=\"dataframe\">\n",
       "  <thead>\n",
       "    <tr style=\"text-align: right;\">\n",
       "      <th></th>\n",
       "      <th>schedule_gtfs_dataset_key</th>\n",
       "      <th>portfolio_organization_name</th>\n",
       "      <th>ntd_id_2022</th>\n",
       "      <th>daytype</th>\n",
       "      <th>route_name</th>\n",
       "      <th>stop_id</th>\n",
       "      <th>stop_name</th>\n",
       "      <th>n_addtl_trips</th>\n",
       "      <th>n_addtl_riders</th>\n",
       "    </tr>\n",
       "  </thead>\n",
       "  <tbody>\n",
       "    <tr>\n",
       "      <th>0</th>\n",
       "      <td>ad942f5430e5cad0da5c71953b058742</td>\n",
       "      <td>Golden Empire Transit District</td>\n",
       "      <td>90004</td>\n",
       "      <td>Weekday</td>\n",
       "      <td>21</td>\n",
       "      <td>10</td>\n",
       "      <td>Mount Vernon &amp; University</td>\n",
       "      <td>0</td>\n",
       "      <td>0.00</td>\n",
       "    </tr>\n",
       "    <tr>\n",
       "      <th>0</th>\n",
       "      <td>ad942f5430e5cad0da5c71953b058742</td>\n",
       "      <td>Golden Empire Transit District</td>\n",
       "      <td>90004</td>\n",
       "      <td>Weekday</td>\n",
       "      <td>21</td>\n",
       "      <td>10</td>\n",
       "      <td>Mount Vernon &amp; University</td>\n",
       "      <td>1</td>\n",
       "      <td>853.79</td>\n",
       "    </tr>\n",
       "    <tr>\n",
       "      <th>0</th>\n",
       "      <td>ad942f5430e5cad0da5c71953b058742</td>\n",
       "      <td>Golden Empire Transit District</td>\n",
       "      <td>90004</td>\n",
       "      <td>Weekday</td>\n",
       "      <td>21</td>\n",
       "      <td>10</td>\n",
       "      <td>Mount Vernon &amp; University</td>\n",
       "      <td>2</td>\n",
       "      <td>1707.58</td>\n",
       "    </tr>\n",
       "    <tr>\n",
       "      <th>0</th>\n",
       "      <td>ad942f5430e5cad0da5c71953b058742</td>\n",
       "      <td>Golden Empire Transit District</td>\n",
       "      <td>90004</td>\n",
       "      <td>Weekday</td>\n",
       "      <td>21</td>\n",
       "      <td>10</td>\n",
       "      <td>Mount Vernon &amp; University</td>\n",
       "      <td>3</td>\n",
       "      <td>2561.38</td>\n",
       "    </tr>\n",
       "    <tr>\n",
       "      <th>0</th>\n",
       "      <td>ad942f5430e5cad0da5c71953b058742</td>\n",
       "      <td>Golden Empire Transit District</td>\n",
       "      <td>90004</td>\n",
       "      <td>Weekday</td>\n",
       "      <td>21</td>\n",
       "      <td>10</td>\n",
       "      <td>Mount Vernon &amp; University</td>\n",
       "      <td>4</td>\n",
       "      <td>3415.17</td>\n",
       "    </tr>\n",
       "  </tbody>\n",
       "</table>\n",
       "</div>"
      ],
      "text/plain": [
       "          schedule_gtfs_dataset_key     portfolio_organization_name  \\\n",
       "0  ad942f5430e5cad0da5c71953b058742  Golden Empire Transit District   \n",
       "0  ad942f5430e5cad0da5c71953b058742  Golden Empire Transit District   \n",
       "0  ad942f5430e5cad0da5c71953b058742  Golden Empire Transit District   \n",
       "0  ad942f5430e5cad0da5c71953b058742  Golden Empire Transit District   \n",
       "0  ad942f5430e5cad0da5c71953b058742  Golden Empire Transit District   \n",
       "\n",
       "  ntd_id_2022  daytype route_name stop_id                  stop_name  \\\n",
       "0       90004  Weekday         21      10  Mount Vernon & University   \n",
       "0       90004  Weekday         21      10  Mount Vernon & University   \n",
       "0       90004  Weekday         21      10  Mount Vernon & University   \n",
       "0       90004  Weekday         21      10  Mount Vernon & University   \n",
       "0       90004  Weekday         21      10  Mount Vernon & University   \n",
       "\n",
       "  n_addtl_trips n_addtl_riders  \n",
       "0             0           0.00  \n",
       "0             1         853.79  \n",
       "0             2        1707.58  \n",
       "0             3        2561.38  \n",
       "0             4        3415.17  "
      ]
     },
     "execution_count": 24,
     "metadata": {},
     "output_type": "execute_result"
    }
   ],
   "source": [
    "df_weekday.head(5)"
   ]
  },
  {
   "cell_type": "code",
   "execution_count": 25,
   "id": "7d2c29c6-bc90-4652-996d-5d1722ccdfc4",
   "metadata": {
    "tags": []
   },
   "outputs": [],
   "source": [
    "df_all = pd.concat([df_weekday,df_saturday,df_sunday], ignore_index=True)"
   ]
  },
  {
   "cell_type": "code",
   "execution_count": 26,
   "id": "daeb52c3-8b91-4fcc-b74c-284a5b212ab2",
   "metadata": {
    "tags": []
   },
   "outputs": [
    {
     "data": {
      "text/plain": [
       "(7465605, 9)"
      ]
     },
     "execution_count": 26,
     "metadata": {},
     "output_type": "execute_result"
    }
   ],
   "source": [
    "df_all.shape"
   ]
  },
  {
   "cell_type": "code",
   "execution_count": 27,
   "id": "14039348-0561-4fcd-aab1-4edf0e6f26ed",
   "metadata": {},
   "outputs": [
    {
     "data": {
      "text/html": [
       "<div>\n",
       "<style scoped>\n",
       "    .dataframe tbody tr th:only-of-type {\n",
       "        vertical-align: middle;\n",
       "    }\n",
       "\n",
       "    .dataframe tbody tr th {\n",
       "        vertical-align: top;\n",
       "    }\n",
       "\n",
       "    .dataframe thead th {\n",
       "        text-align: right;\n",
       "    }\n",
       "</style>\n",
       "<table border=\"1\" class=\"dataframe\">\n",
       "  <thead>\n",
       "    <tr style=\"text-align: right;\">\n",
       "      <th></th>\n",
       "      <th>schedule_gtfs_dataset_key</th>\n",
       "      <th>portfolio_organization_name</th>\n",
       "      <th>ntd_id_2022</th>\n",
       "      <th>daytype</th>\n",
       "      <th>route_name</th>\n",
       "      <th>stop_id</th>\n",
       "      <th>stop_name</th>\n",
       "      <th>n_addtl_trips</th>\n",
       "      <th>n_addtl_riders</th>\n",
       "    </tr>\n",
       "  </thead>\n",
       "  <tbody>\n",
       "    <tr>\n",
       "      <th>0</th>\n",
       "      <td>ad942f5430e5cad0da5c71953b058742</td>\n",
       "      <td>Golden Empire Transit District</td>\n",
       "      <td>90004</td>\n",
       "      <td>Weekday</td>\n",
       "      <td>21</td>\n",
       "      <td>10</td>\n",
       "      <td>Mount Vernon &amp; University</td>\n",
       "      <td>0</td>\n",
       "      <td>0.00</td>\n",
       "    </tr>\n",
       "    <tr>\n",
       "      <th>1</th>\n",
       "      <td>ad942f5430e5cad0da5c71953b058742</td>\n",
       "      <td>Golden Empire Transit District</td>\n",
       "      <td>90004</td>\n",
       "      <td>Weekday</td>\n",
       "      <td>21</td>\n",
       "      <td>10</td>\n",
       "      <td>Mount Vernon &amp; University</td>\n",
       "      <td>1</td>\n",
       "      <td>853.79</td>\n",
       "    </tr>\n",
       "    <tr>\n",
       "      <th>2</th>\n",
       "      <td>ad942f5430e5cad0da5c71953b058742</td>\n",
       "      <td>Golden Empire Transit District</td>\n",
       "      <td>90004</td>\n",
       "      <td>Weekday</td>\n",
       "      <td>21</td>\n",
       "      <td>10</td>\n",
       "      <td>Mount Vernon &amp; University</td>\n",
       "      <td>2</td>\n",
       "      <td>1707.58</td>\n",
       "    </tr>\n",
       "    <tr>\n",
       "      <th>3</th>\n",
       "      <td>ad942f5430e5cad0da5c71953b058742</td>\n",
       "      <td>Golden Empire Transit District</td>\n",
       "      <td>90004</td>\n",
       "      <td>Weekday</td>\n",
       "      <td>21</td>\n",
       "      <td>10</td>\n",
       "      <td>Mount Vernon &amp; University</td>\n",
       "      <td>3</td>\n",
       "      <td>2561.38</td>\n",
       "    </tr>\n",
       "    <tr>\n",
       "      <th>4</th>\n",
       "      <td>ad942f5430e5cad0da5c71953b058742</td>\n",
       "      <td>Golden Empire Transit District</td>\n",
       "      <td>90004</td>\n",
       "      <td>Weekday</td>\n",
       "      <td>21</td>\n",
       "      <td>10</td>\n",
       "      <td>Mount Vernon &amp; University</td>\n",
       "      <td>4</td>\n",
       "      <td>3415.17</td>\n",
       "    </tr>\n",
       "  </tbody>\n",
       "</table>\n",
       "</div>"
      ],
      "text/plain": [
       "          schedule_gtfs_dataset_key     portfolio_organization_name  \\\n",
       "0  ad942f5430e5cad0da5c71953b058742  Golden Empire Transit District   \n",
       "1  ad942f5430e5cad0da5c71953b058742  Golden Empire Transit District   \n",
       "2  ad942f5430e5cad0da5c71953b058742  Golden Empire Transit District   \n",
       "3  ad942f5430e5cad0da5c71953b058742  Golden Empire Transit District   \n",
       "4  ad942f5430e5cad0da5c71953b058742  Golden Empire Transit District   \n",
       "\n",
       "  ntd_id_2022  daytype route_name stop_id                  stop_name  \\\n",
       "0       90004  Weekday         21      10  Mount Vernon & University   \n",
       "1       90004  Weekday         21      10  Mount Vernon & University   \n",
       "2       90004  Weekday         21      10  Mount Vernon & University   \n",
       "3       90004  Weekday         21      10  Mount Vernon & University   \n",
       "4       90004  Weekday         21      10  Mount Vernon & University   \n",
       "\n",
       "  n_addtl_trips n_addtl_riders  \n",
       "0             0           0.00  \n",
       "1             1         853.79  \n",
       "2             2        1707.58  \n",
       "3             3        2561.38  \n",
       "4             4        3415.17  "
      ]
     },
     "execution_count": 27,
     "metadata": {},
     "output_type": "execute_result"
    }
   ],
   "source": [
    "df_all.head(5)"
   ]
  },
  {
   "cell_type": "code",
   "execution_count": 28,
   "id": "5dcfd0d0-13d4-49e7-b26e-f46e9dfaa9aa",
   "metadata": {
    "tags": []
   },
   "outputs": [],
   "source": [
    "df_all.to_csv(f\"{GCS_FILE_PATH}AHSC_analysis_table_2025.csv\", index=False)"
   ]
  },
  {
   "cell_type": "code",
   "execution_count": 29,
   "id": "05564b6b-a606-4370-b560-39c7787856fe",
   "metadata": {
    "tags": []
   },
   "outputs": [
    {
     "name": "stdout",
     "output_type": "stream",
     "text": [
      "<class 'pandas.core.frame.DataFrame'>\n",
      "RangeIndex: 7465605 entries, 0 to 7465604\n",
      "Data columns (total 9 columns):\n",
      " #   Column                       Dtype \n",
      "---  ------                       ----- \n",
      " 0   schedule_gtfs_dataset_key    object\n",
      " 1   portfolio_organization_name  object\n",
      " 2   ntd_id_2022                  object\n",
      " 3   daytype                      object\n",
      " 4   route_name                   object\n",
      " 5   stop_id                      object\n",
      " 6   stop_name                    object\n",
      " 7   n_addtl_trips                object\n",
      " 8   n_addtl_riders               object\n",
      "dtypes: object(9)\n",
      "memory usage: 512.6+ MB\n"
     ]
    }
   ],
   "source": [
    "df_all.info()"
   ]
  }
 ],
 "metadata": {
  "kernelspec": {
   "display_name": "Python 3 (ipykernel)",
   "language": "python",
   "name": "python3"
  },
  "language_info": {
   "codemirror_mode": {
    "name": "ipython",
    "version": 3
   },
   "file_extension": ".py",
   "mimetype": "text/x-python",
   "name": "python",
   "nbconvert_exporter": "python",
   "pygments_lexer": "ipython3",
   "version": "3.11.10"
  }
 },
 "nbformat": 4,
 "nbformat_minor": 5
}
