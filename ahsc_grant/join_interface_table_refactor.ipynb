{
 "cells": [
  {
   "cell_type": "code",
   "execution_count": 1,
   "id": "6e8d9294-86b5-416c-ada8-8f008c329ef8",
   "metadata": {
    "tags": []
   },
   "outputs": [
    {
     "name": "stdout",
     "output_type": "stream",
     "text": [
      "Requirement already satisfied: shared_utils in /opt/conda/lib/python3.11/site-packages (4.2)\n",
      "Note: you may need to restart the kernel to use updated packages.\n"
     ]
    }
   ],
   "source": [
    "pip install shared_utils"
   ]
  },
  {
   "cell_type": "code",
   "execution_count": 2,
   "id": "ecdaf08b-898a-4e22-b08b-2a0aed7723d9",
   "metadata": {
    "tags": []
   },
   "outputs": [],
   "source": [
    "#Importing required packages \n",
    "import pandas as pd\n",
    "import geopandas as gpd\n",
    "import gcsfs\n",
    "from calitp_data_analysis import get_fs\n",
    "fs = get_fs()\n",
    "import numpy as np\n",
    "from calitp_data_analysis.sql import get_engine\n",
    "db_engine = get_engine()\n",
    "\n",
    "pd.options.display.max_columns = 100\n",
    "pd.options.display.float_format = \"{:.2f}\".format\n",
    "pd.set_option(\"display.max_rows\", None)\n",
    "pd.set_option(\"display.max_colwidth\", None)\n",
    "\n",
    "GCS_FILE_PATH = 'gs://calitp-analytics-data/data-analyses/ahsc_grant/'"
   ]
  },
  {
   "cell_type": "code",
   "execution_count": 3,
   "id": "23050d27-6b01-49ae-8813-b1bce0a0be41",
   "metadata": {
    "tags": []
   },
   "outputs": [],
   "source": [
    "# read in and concatenate all geoparquets\n",
    "fs_list = fs.ls(f\"{GCS_FILE_PATH}tool_data_2025/\")"
   ]
  },
  {
   "cell_type": "code",
   "execution_count": 4,
   "id": "2542f01c-41bc-4482-b57b-b7e7750e94c8",
   "metadata": {
    "tags": []
   },
   "outputs": [
    {
     "name": "stdout",
     "output_type": "stream",
     "text": [
      "error on ['calitp-analytics-data/data-analyses/ahsc_grant/', 'trips_perstop_90003_9e4ee8.parquet']\n",
      "error on ['calitp-analytics-data/data-analyses/ahsc_grant/', 'trips_perstop_90004_058742.parquet']\n",
      "error on ['calitp-analytics-data/data-analyses/ahsc_grant/', 'trips_perstop_90006_1da411.parquet']\n",
      "error on ['calitp-analytics-data/data-analyses/ahsc_grant/', 'trips_perstop_90008_abddd0.parquet']\n",
      "error on ['calitp-analytics-data/data-analyses/ahsc_grant/', 'trips_perstop_90009_2a1f49.parquet']\n",
      "error on ['calitp-analytics-data/data-analyses/ahsc_grant/', 'trips_perstop_90010_845e2d.parquet']\n",
      "error on ['calitp-analytics-data/data-analyses/ahsc_grant/', 'trips_perstop_90012_129b50.parquet']\n",
      "error on ['calitp-analytics-data/data-analyses/ahsc_grant/', 'trips_perstop_90013_a284f9.parquet']\n",
      "error on ['calitp-analytics-data/data-analyses/ahsc_grant/', 'trips_perstop_90013_d01a85.parquet']\n",
      "error on ['calitp-analytics-data/data-analyses/ahsc_grant/', 'trips_perstop_90014_09938d.parquet']\n",
      "error on ['calitp-analytics-data/data-analyses/ahsc_grant/', 'trips_perstop_90014_319251.parquet']\n",
      "error on ['calitp-analytics-data/data-analyses/ahsc_grant/', 'trips_perstop_90015_07e9df.parquet']\n",
      "error on ['calitp-analytics-data/data-analyses/ahsc_grant/', 'trips_perstop_90016_48a8f5.parquet']\n",
      "error on ['calitp-analytics-data/data-analyses/ahsc_grant/', 'trips_perstop_90016_be335f.parquet']\n",
      "error on ['calitp-analytics-data/data-analyses/ahsc_grant/', 'trips_perstop_90017_a029f7.parquet']\n",
      "error on ['calitp-analytics-data/data-analyses/ahsc_grant/', 'trips_perstop_90019_0814a8.parquet']\n",
      "error on ['calitp-analytics-data/data-analyses/ahsc_grant/', 'trips_perstop_90019_65e2b4.parquet']\n",
      "error on ['calitp-analytics-data/data-analyses/ahsc_grant/', 'trips_perstop_90020_e96989.parquet']\n",
      "error on ['calitp-analytics-data/data-analyses/ahsc_grant/', 'trips_perstop_90022_4e3da8.parquet']\n",
      "error on ['calitp-analytics-data/data-analyses/ahsc_grant/', 'trips_perstop_90022_eaeed9.parquet']\n",
      "error on ['calitp-analytics-data/data-analyses/ahsc_grant/', 'trips_perstop_90023_d8ad1d.parquet']\n",
      "error on ['calitp-analytics-data/data-analyses/ahsc_grant/', 'trips_perstop_90026_bfa2e3.parquet']\n",
      "error on ['calitp-analytics-data/data-analyses/ahsc_grant/', 'trips_perstop_90027_718372.parquet']\n",
      "error on ['calitp-analytics-data/data-analyses/ahsc_grant/', 'trips_perstop_90029_a96dd4.parquet']\n",
      "error on ['calitp-analytics-data/data-analyses/ahsc_grant/', 'trips_perstop_90030_ca6d71.parquet']\n",
      "error on ['calitp-analytics-data/data-analyses/ahsc_grant/', 'trips_perstop_90031_e06a04.parquet']\n",
      "error on ['calitp-analytics-data/data-analyses/ahsc_grant/', 'trips_perstop_90036_945fac.parquet']\n",
      "error on ['calitp-analytics-data/data-analyses/ahsc_grant/', 'trips_perstop_90039_230c7f.parquet']\n",
      "error on ['calitp-analytics-data/data-analyses/ahsc_grant/', 'trips_perstop_90041_985ed5.parquet']\n",
      "error on ['calitp-analytics-data/data-analyses/ahsc_grant/', 'trips_perstop_90043_8e71d7.parquet']\n",
      "error on ['calitp-analytics-data/data-analyses/ahsc_grant/', 'trips_perstop_90044_de2dba.parquet']\n",
      "error on ['calitp-analytics-data/data-analyses/ahsc_grant/', 'trips_perstop_90052_01259f.parquet']\n",
      "error on ['calitp-analytics-data/data-analyses/ahsc_grant/', 'trips_perstop_90061_5d460a.parquet']\n",
      "error on ['calitp-analytics-data/data-analyses/ahsc_grant/', 'trips_perstop_90062_7b97ce.parquet']\n",
      "error on ['calitp-analytics-data/data-analyses/ahsc_grant/', 'trips_perstop_90078_5193b0.parquet']\n",
      "error on ['calitp-analytics-data/data-analyses/ahsc_grant/', 'trips_perstop_90079_d9f421.parquet']\n",
      "error on ['calitp-analytics-data/data-analyses/ahsc_grant/', 'trips_perstop_90087_f47e57.parquet']\n",
      "error on ['calitp-analytics-data/data-analyses/ahsc_grant/', 'trips_perstop_90088_33c157.parquet']\n",
      "error on ['calitp-analytics-data/data-analyses/ahsc_grant/', 'trips_perstop_90088_86c587.parquet']\n",
      "error on ['calitp-analytics-data/data-analyses/ahsc_grant/', 'trips_perstop_90089_010063.parquet']\n",
      "error on ['calitp-analytics-data/data-analyses/ahsc_grant/', 'trips_perstop_90089_3fc9fe.parquet']\n",
      "error on ['calitp-analytics-data/data-analyses/ahsc_grant/', 'trips_perstop_90090_21bbc6.parquet']\n",
      "error on ['calitp-analytics-data/data-analyses/ahsc_grant/', 'trips_perstop_90091_947c6f.parquet']\n",
      "error on ['calitp-analytics-data/data-analyses/ahsc_grant/', 'trips_perstop_90092_b75321.parquet']\n",
      "error on ['calitp-analytics-data/data-analyses/ahsc_grant/', 'trips_perstop_90093_4d249e.parquet']\n",
      "error on ['calitp-analytics-data/data-analyses/ahsc_grant/', 'trips_perstop_90119_a8b37e.parquet']\n",
      "error on ['calitp-analytics-data/data-analyses/ahsc_grant/', 'trips_perstop_90121_058d5d.parquet']\n",
      "error on ['calitp-analytics-data/data-analyses/ahsc_grant/', 'trips_perstop_90134_d57c2a.parquet']\n",
      "error on ['calitp-analytics-data/data-analyses/ahsc_grant/', 'trips_perstop_90142_3ac42c.parquet']\n",
      "error on ['calitp-analytics-data/data-analyses/ahsc_grant/', 'trips_perstop_90144_03470d.parquet']\n",
      "error on ['calitp-analytics-data/data-analyses/ahsc_grant/', 'trips_perstop_90146_c851dd.parquet']\n",
      "error on ['calitp-analytics-data/data-analyses/ahsc_grant/', 'trips_perstop_90147_34e0a8.parquet']\n",
      "error on ['calitp-analytics-data/data-analyses/ahsc_grant/', 'trips_perstop_90148_15ecd7.parquet']\n",
      "error on ['calitp-analytics-data/data-analyses/ahsc_grant/', 'trips_perstop_90148_e86f15.parquet']\n",
      "error on ['calitp-analytics-data/data-analyses/ahsc_grant/', 'trips_perstop_90149_d02c0b.parquet']\n",
      "error on ['calitp-analytics-data/data-analyses/ahsc_grant/', 'trips_perstop_90154_0a87ba.parquet']\n",
      "error on ['calitp-analytics-data/data-analyses/ahsc_grant/', 'trips_perstop_90154_55fb5e.parquet']\n",
      "error on ['calitp-analytics-data/data-analyses/ahsc_grant/', 'trips_perstop_90155_62b3da.parquet']\n",
      "error on ['calitp-analytics-data/data-analyses/ahsc_grant/', 'trips_perstop_90156_46aa4a.parquet']\n",
      "error on ['calitp-analytics-data/data-analyses/ahsc_grant/', 'trips_perstop_90159_382432.parquet']\n",
      "error on ['calitp-analytics-data/data-analyses/ahsc_grant/', 'trips_perstop_90161_30a8bc.parquet']\n",
      "error on ['calitp-analytics-data/data-analyses/ahsc_grant/', 'trips_perstop_90162_c27c4c.parquet']\n",
      "error on ['calitp-analytics-data/data-analyses/ahsc_grant/', 'trips_perstop_90164_c28d30.parquet']\n",
      "error on ['calitp-analytics-data/data-analyses/ahsc_grant/', 'trips_perstop_90168_54457b.parquet']\n",
      "error on ['calitp-analytics-data/data-analyses/ahsc_grant/', 'trips_perstop_90171_0665ed.parquet']\n",
      "error on ['calitp-analytics-data/data-analyses/ahsc_grant/', 'trips_perstop_90173_b19010.parquet']\n",
      "error on ['calitp-analytics-data/data-analyses/ahsc_grant/', 'trips_perstop_90173_e5ce49.parquet']\n",
      "error on ['calitp-analytics-data/data-analyses/ahsc_grant/', 'trips_perstop_90175_e1e9e8.parquet']\n",
      "error on ['calitp-analytics-data/data-analyses/ahsc_grant/', 'trips_perstop_90182_4832d6.parquet']\n",
      "error on ['calitp-analytics-data/data-analyses/ahsc_grant/', 'trips_perstop_90196_1ebccc.parquet']\n",
      "error on ['calitp-analytics-data/data-analyses/ahsc_grant/', 'trips_perstop_90199_0814f7.parquet']\n",
      "error on ['calitp-analytics-data/data-analyses/ahsc_grant/', 'trips_perstop_90199_aa1955.parquet']\n",
      "error on ['calitp-analytics-data/data-analyses/ahsc_grant/', 'trips_perstop_90200_b23775.parquet']\n",
      "error on ['calitp-analytics-data/data-analyses/ahsc_grant/', 'trips_perstop_90201_4ebef3.parquet']\n",
      "error on ['calitp-analytics-data/data-analyses/ahsc_grant/', 'trips_perstop_90205_188a82.parquet']\n",
      "error on ['calitp-analytics-data/data-analyses/ahsc_grant/', 'trips_perstop_90206_e40154.parquet']\n",
      "error on ['calitp-analytics-data/data-analyses/ahsc_grant/', 'trips_perstop_90208_11c71e.parquet']\n",
      "error on ['calitp-analytics-data/data-analyses/ahsc_grant/', 'trips_perstop_90211_d3c5c3.parquet']\n",
      "error on ['calitp-analytics-data/data-analyses/ahsc_grant/', 'trips_perstop_90213_8aee2e.parquet']\n",
      "error on ['calitp-analytics-data/data-analyses/ahsc_grant/', 'trips_perstop_90214_3f9750.parquet']\n",
      "error on ['calitp-analytics-data/data-analyses/ahsc_grant/', 'trips_perstop_90216_48bbe4.parquet']\n",
      "error on ['calitp-analytics-data/data-analyses/ahsc_grant/', 'trips_perstop_90225_bd2a04.parquet']\n",
      "error on ['calitp-analytics-data/data-analyses/ahsc_grant/', 'trips_perstop_90229_6ea116.parquet']\n",
      "error on ['calitp-analytics-data/data-analyses/ahsc_grant/', 'trips_perstop_90232_ea8d78.parquet']\n",
      "error on ['calitp-analytics-data/data-analyses/ahsc_grant/', 'trips_perstop_90233_834574.parquet']\n",
      "error on ['calitp-analytics-data/data-analyses/ahsc_grant/', 'trips_perstop_90234_1bb6ae.parquet']\n",
      "error on ['calitp-analytics-data/data-analyses/ahsc_grant/', 'trips_perstop_90247_0cb243.parquet']\n",
      "error on ['calitp-analytics-data/data-analyses/ahsc_grant/', 'trips_perstop_90249_de548c.parquet']\n",
      "error on ['calitp-analytics-data/data-analyses/ahsc_grant/', 'trips_perstop_90251_323f4a.parquet']\n",
      "error on ['calitp-analytics-data/data-analyses/ahsc_grant/', 'trips_perstop_90252_6fd804.parquet']\n",
      "error on ['calitp-analytics-data/data-analyses/ahsc_grant/', 'trips_perstop_90253_64257d.parquet']\n",
      "error on ['calitp-analytics-data/data-analyses/ahsc_grant/', 'trips_perstop_90254_f20979.parquet']\n",
      "error on ['calitp-analytics-data/data-analyses/ahsc_grant/', 'trips_perstop_90256_77f437.parquet']\n",
      "error on ['calitp-analytics-data/data-analyses/ahsc_grant/', 'trips_perstop_90257_9daee8.parquet']\n",
      "error on ['calitp-analytics-data/data-analyses/ahsc_grant/', 'trips_perstop_90260_3c39ca.parquet']\n",
      "error on ['calitp-analytics-data/data-analyses/ahsc_grant/', 'trips_perstop_90262_c30cf6.parquet']\n",
      "error on ['calitp-analytics-data/data-analyses/ahsc_grant/', 'trips_perstop_90263_91bd2b.parquet']\n",
      "error on ['calitp-analytics-data/data-analyses/ahsc_grant/', 'trips_perstop_90265_efc719.parquet']\n",
      "error on ['calitp-analytics-data/data-analyses/ahsc_grant/', 'trips_perstop_90266_37caf5.parquet']\n",
      "error on ['calitp-analytics-data/data-analyses/ahsc_grant/', 'trips_perstop_90267_ad6945.parquet']\n",
      "error on ['calitp-analytics-data/data-analyses/ahsc_grant/', 'trips_perstop_90271_1a6316.parquet']\n",
      "error on ['calitp-analytics-data/data-analyses/ahsc_grant/', 'trips_perstop_90281_8862fa.parquet']\n",
      "error on ['calitp-analytics-data/data-analyses/ahsc_grant/', 'trips_perstop_90284_088471.parquet']\n",
      "error on ['calitp-analytics-data/data-analyses/ahsc_grant/', 'trips_perstop_90286_7a6bea.parquet']\n",
      "error on ['calitp-analytics-data/data-analyses/ahsc_grant/', 'trips_perstop_90287_f3625c.parquet']\n",
      "error on ['calitp-analytics-data/data-analyses/ahsc_grant/', 'trips_perstop_90289_24c99f.parquet']\n",
      "error on ['calitp-analytics-data/data-analyses/ahsc_grant/', 'trips_perstop_90291_76f6a2.parquet']\n",
      "error on ['calitp-analytics-data/data-analyses/ahsc_grant/', 'trips_perstop_90293_40d50e.parquet']\n",
      "error on ['calitp-analytics-data/data-analyses/ahsc_grant/', 'trips_perstop_90294_a92d05.parquet']\n",
      "error on ['calitp-analytics-data/data-analyses/ahsc_grant/', 'trips_perstop_90299_748244.parquet']\n",
      "error on ['calitp-analytics-data/data-analyses/ahsc_grant/', 'trips_perstop_90300_8c2f56.parquet']\n",
      "error on ['calitp-analytics-data/data-analyses/ahsc_grant/', 'trips_perstop_90303_d41cd1.parquet']\n",
      "error on ['calitp-analytics-data/data-analyses/ahsc_grant/', 'trips_perstop_90306_151085.parquet']\n",
      "error on ['calitp-analytics-data/data-analyses/ahsc_grant/', 'trips_perstop_90310_7a0df9.parquet']\n",
      "error on ['calitp-analytics-data/data-analyses/ahsc_grant/', 'trips_perstop_90310_9874c8.parquet']\n",
      "error on ['calitp-analytics-data/data-analyses/ahsc_grant/', 'trips_perstop_91000_1702a4.parquet']\n",
      "error on ['calitp-analytics-data/data-analyses/ahsc_grant/', 'trips_perstop_91005_7bf1b9.parquet']\n",
      "error on ['calitp-analytics-data/data-analyses/ahsc_grant/', 'trips_perstop_91008_cbaaaa.parquet']\n",
      "error on ['calitp-analytics-data/data-analyses/ahsc_grant/', 'trips_perstop_91009_8816e4.parquet']\n",
      "error on ['calitp-analytics-data/data-analyses/ahsc_grant/', 'trips_perstop_91012_3b8c92.parquet']\n",
      "error on ['calitp-analytics-data/data-analyses/ahsc_grant/', 'trips_perstop_91014_06beec.parquet']\n",
      "error on ['calitp-analytics-data/data-analyses/ahsc_grant/', 'trips_perstop_91020_7ed2e2.parquet']\n",
      "error on ['calitp-analytics-data/data-analyses/ahsc_grant/', 'trips_perstop_91028_c41f7d.parquet']\n",
      "error on ['calitp-analytics-data/data-analyses/ahsc_grant/', 'trips_perstop_91035_096b81.parquet']\n",
      "error on ['calitp-analytics-data/data-analyses/ahsc_grant/', 'trips_perstop_91036_7030ac.parquet']\n",
      "error on ['calitp-analytics-data/data-analyses/ahsc_grant/', 'trips_perstop_91043_ef3c11.parquet']\n",
      "error on ['calitp-analytics-data/data-analyses/ahsc_grant/', 'trips_perstop_91047_3475ac.parquet']\n",
      "error on ['calitp-analytics-data/data-analyses/ahsc_grant/', 'trips_perstop_91048_617ac5.parquet']\n",
      "error on ['calitp-analytics-data/data-analyses/ahsc_grant/', 'trips_perstop_91053_5c86c4.parquet']\n",
      "error on ['calitp-analytics-data/data-analyses/ahsc_grant/', 'trips_perstop_91057_63b128.parquet']\n",
      "error on ['calitp-analytics-data/data-analyses/ahsc_grant/', 'trips_perstop_91059_18f64c.parquet']\n",
      "error on ['calitp-analytics-data/data-analyses/ahsc_grant/', 'trips_perstop_91062_a62546.parquet']\n",
      "error on ['calitp-analytics-data/data-analyses/ahsc_grant/', 'trips_perstop_91070_65afda.parquet']\n",
      "error on ['calitp-analytics-data/data-analyses/ahsc_grant/', 'trips_perstop_91078_e39a7e.parquet']\n",
      "error on ['calitp-analytics-data/data-analyses/ahsc_grant/', 'trips_perstop_91089_5439ed.parquet']\n",
      "error on ['calitp-analytics-data/data-analyses/ahsc_grant/', 'trips_perstop_91090_b54bfc.parquet']\n",
      "error on ['calitp-analytics-data/data-analyses/ahsc_grant/', 'trips_perstop_91092_2f7eba.parquet']\n",
      "error on ['calitp-analytics-data/data-analyses/ahsc_grant/', 'trips_perstop_91095_724956.parquet']\n",
      "error on ['calitp-analytics-data/data-analyses/ahsc_grant/', 'trips_perstop_91097_e84da6.parquet']\n",
      "error on ['calitp-analytics-data/data-analyses/ahsc_grant/', 'trips_perstop_91098_d749f5.parquet']\n",
      "error on ['calitp-analytics-data/data-analyses/ahsc_grant/', 'trips_perstop_99423_2a9a89.parquet']\n",
      "error on ['calitp-analytics-data/data-analyses/ahsc_grant/', 'trips_perstop_99424_b5f8b9.parquet']\n",
      "error on ['calitp-analytics-data/data-analyses/ahsc_grant/', 'trips_perstop_99442_7473b5.parquet']\n",
      "error on ['calitp-analytics-data/data-analyses/ahsc_grant/', 'trips_perstop_99447_eeaee3.parquet']\n",
      "error on ['calitp-analytics-data/data-analyses/ahsc_grant/', 'trips_perstop_99449_e99968.parquet']\n",
      "error on ['calitp-analytics-data/data-analyses/ahsc_grant/', 'trips_perstop_99454_d329f1.parquet']\n"
     ]
    }
   ],
   "source": [
    "filelist = []\n",
    "for f in fs_list[1:]:\n",
    "    try: \n",
    "        test_pqt = pd.read_parquet(f\"gs://{f}\")\n",
    "        filelist.append(f)\n",
    "    except:\n",
    "        print(f\"error on {f.split('tool_data_2025/')}\")"
   ]
  },
  {
   "cell_type": "code",
   "execution_count": 5,
   "id": "1978fd19-41c4-4fa7-a341-ab58e8f2aa57",
   "metadata": {
    "tags": []
   },
   "outputs": [
    {
     "ename": "ValueError",
     "evalue": "No objects to concatenate",
     "output_type": "error",
     "traceback": [
      "\u001b[0;31m---------------------------------------------------------------------------\u001b[0m",
      "\u001b[0;31mValueError\u001b[0m                                Traceback (most recent call last)",
      "Cell \u001b[0;32mIn[5], line 1\u001b[0m\n\u001b[0;32m----> 1\u001b[0m df \u001b[38;5;241m=\u001b[39m (\u001b[43mpd\u001b[49m\u001b[38;5;241;43m.\u001b[39;49m\u001b[43mconcat\u001b[49m\u001b[43m(\u001b[49m\n\u001b[1;32m      2\u001b[0m \u001b[43m        \u001b[49m\u001b[43mpd\u001b[49m\u001b[38;5;241;43m.\u001b[39;49m\u001b[43mread_parquet\u001b[49m\u001b[43m(\u001b[49m\u001b[38;5;124;43mf\u001b[39;49m\u001b[38;5;124;43m\"\u001b[39;49m\u001b[38;5;124;43mgs://\u001b[39;49m\u001b[38;5;132;43;01m{\u001b[39;49;00m\u001b[43mf\u001b[49m\u001b[38;5;132;43;01m}\u001b[39;49;00m\u001b[38;5;124;43m\"\u001b[39;49m\u001b[43m)\u001b[49m\n\u001b[1;32m      3\u001b[0m \u001b[43m        \u001b[49m\u001b[38;5;28;43;01mfor\u001b[39;49;00m\u001b[43m \u001b[49m\u001b[43mf\u001b[49m\u001b[43m \u001b[49m\u001b[38;5;129;43;01min\u001b[39;49;00m\u001b[43m \u001b[49m\u001b[43mfilelist\u001b[49m\n\u001b[1;32m      4\u001b[0m \u001b[43m        \u001b[49m\u001b[43m)\u001b[49m\n\u001b[1;32m      5\u001b[0m     )\n",
      "File \u001b[0;32m/opt/conda/lib/python3.11/site-packages/pandas/core/reshape/concat.py:382\u001b[0m, in \u001b[0;36mconcat\u001b[0;34m(objs, axis, join, ignore_index, keys, levels, names, verify_integrity, sort, copy)\u001b[0m\n\u001b[1;32m    379\u001b[0m \u001b[38;5;28;01melif\u001b[39;00m copy \u001b[38;5;129;01mand\u001b[39;00m using_copy_on_write():\n\u001b[1;32m    380\u001b[0m     copy \u001b[38;5;241m=\u001b[39m \u001b[38;5;28;01mFalse\u001b[39;00m\n\u001b[0;32m--> 382\u001b[0m op \u001b[38;5;241m=\u001b[39m \u001b[43m_Concatenator\u001b[49m\u001b[43m(\u001b[49m\n\u001b[1;32m    383\u001b[0m \u001b[43m    \u001b[49m\u001b[43mobjs\u001b[49m\u001b[43m,\u001b[49m\n\u001b[1;32m    384\u001b[0m \u001b[43m    \u001b[49m\u001b[43maxis\u001b[49m\u001b[38;5;241;43m=\u001b[39;49m\u001b[43maxis\u001b[49m\u001b[43m,\u001b[49m\n\u001b[1;32m    385\u001b[0m \u001b[43m    \u001b[49m\u001b[43mignore_index\u001b[49m\u001b[38;5;241;43m=\u001b[39;49m\u001b[43mignore_index\u001b[49m\u001b[43m,\u001b[49m\n\u001b[1;32m    386\u001b[0m \u001b[43m    \u001b[49m\u001b[43mjoin\u001b[49m\u001b[38;5;241;43m=\u001b[39;49m\u001b[43mjoin\u001b[49m\u001b[43m,\u001b[49m\n\u001b[1;32m    387\u001b[0m \u001b[43m    \u001b[49m\u001b[43mkeys\u001b[49m\u001b[38;5;241;43m=\u001b[39;49m\u001b[43mkeys\u001b[49m\u001b[43m,\u001b[49m\n\u001b[1;32m    388\u001b[0m \u001b[43m    \u001b[49m\u001b[43mlevels\u001b[49m\u001b[38;5;241;43m=\u001b[39;49m\u001b[43mlevels\u001b[49m\u001b[43m,\u001b[49m\n\u001b[1;32m    389\u001b[0m \u001b[43m    \u001b[49m\u001b[43mnames\u001b[49m\u001b[38;5;241;43m=\u001b[39;49m\u001b[43mnames\u001b[49m\u001b[43m,\u001b[49m\n\u001b[1;32m    390\u001b[0m \u001b[43m    \u001b[49m\u001b[43mverify_integrity\u001b[49m\u001b[38;5;241;43m=\u001b[39;49m\u001b[43mverify_integrity\u001b[49m\u001b[43m,\u001b[49m\n\u001b[1;32m    391\u001b[0m \u001b[43m    \u001b[49m\u001b[43mcopy\u001b[49m\u001b[38;5;241;43m=\u001b[39;49m\u001b[43mcopy\u001b[49m\u001b[43m,\u001b[49m\n\u001b[1;32m    392\u001b[0m \u001b[43m    \u001b[49m\u001b[43msort\u001b[49m\u001b[38;5;241;43m=\u001b[39;49m\u001b[43msort\u001b[49m\u001b[43m,\u001b[49m\n\u001b[1;32m    393\u001b[0m \u001b[43m\u001b[49m\u001b[43m)\u001b[49m\n\u001b[1;32m    395\u001b[0m \u001b[38;5;28;01mreturn\u001b[39;00m op\u001b[38;5;241m.\u001b[39mget_result()\n",
      "File \u001b[0;32m/opt/conda/lib/python3.11/site-packages/pandas/core/reshape/concat.py:445\u001b[0m, in \u001b[0;36m_Concatenator.__init__\u001b[0;34m(self, objs, axis, join, keys, levels, names, ignore_index, verify_integrity, copy, sort)\u001b[0m\n\u001b[1;32m    442\u001b[0m \u001b[38;5;28mself\u001b[39m\u001b[38;5;241m.\u001b[39mverify_integrity \u001b[38;5;241m=\u001b[39m verify_integrity\n\u001b[1;32m    443\u001b[0m \u001b[38;5;28mself\u001b[39m\u001b[38;5;241m.\u001b[39mcopy \u001b[38;5;241m=\u001b[39m copy\n\u001b[0;32m--> 445\u001b[0m objs, keys \u001b[38;5;241m=\u001b[39m \u001b[38;5;28;43mself\u001b[39;49m\u001b[38;5;241;43m.\u001b[39;49m\u001b[43m_clean_keys_and_objs\u001b[49m\u001b[43m(\u001b[49m\u001b[43mobjs\u001b[49m\u001b[43m,\u001b[49m\u001b[43m \u001b[49m\u001b[43mkeys\u001b[49m\u001b[43m)\u001b[49m\n\u001b[1;32m    447\u001b[0m \u001b[38;5;66;03m# figure out what our result ndim is going to be\u001b[39;00m\n\u001b[1;32m    448\u001b[0m ndims \u001b[38;5;241m=\u001b[39m \u001b[38;5;28mself\u001b[39m\u001b[38;5;241m.\u001b[39m_get_ndims(objs)\n",
      "File \u001b[0;32m/opt/conda/lib/python3.11/site-packages/pandas/core/reshape/concat.py:507\u001b[0m, in \u001b[0;36m_Concatenator._clean_keys_and_objs\u001b[0;34m(self, objs, keys)\u001b[0m\n\u001b[1;32m    504\u001b[0m     objs_list \u001b[38;5;241m=\u001b[39m \u001b[38;5;28mlist\u001b[39m(objs)\n\u001b[1;32m    506\u001b[0m \u001b[38;5;28;01mif\u001b[39;00m \u001b[38;5;28mlen\u001b[39m(objs_list) \u001b[38;5;241m==\u001b[39m \u001b[38;5;241m0\u001b[39m:\n\u001b[0;32m--> 507\u001b[0m     \u001b[38;5;28;01mraise\u001b[39;00m \u001b[38;5;167;01mValueError\u001b[39;00m(\u001b[38;5;124m\"\u001b[39m\u001b[38;5;124mNo objects to concatenate\u001b[39m\u001b[38;5;124m\"\u001b[39m)\n\u001b[1;32m    509\u001b[0m \u001b[38;5;28;01mif\u001b[39;00m keys \u001b[38;5;129;01mis\u001b[39;00m \u001b[38;5;28;01mNone\u001b[39;00m:\n\u001b[1;32m    510\u001b[0m     objs_list \u001b[38;5;241m=\u001b[39m \u001b[38;5;28mlist\u001b[39m(com\u001b[38;5;241m.\u001b[39mnot_none(\u001b[38;5;241m*\u001b[39mobjs_list))\n",
      "\u001b[0;31mValueError\u001b[0m: No objects to concatenate"
     ]
    }
   ],
   "source": [
    "df = (pd.concat(\n",
    "        pd.read_parquet(f\"gs://{f}\")\n",
    "        for f in filelist\n",
    "        )\n",
    "    )"
   ]
  },
  {
   "cell_type": "code",
   "execution_count": null,
   "id": "94f531f0-cc7d-4c6a-910f-0c716a36fa81",
   "metadata": {
    "tags": []
   },
   "outputs": [],
   "source": [
    "wkd_coeff = np.array([-0.16286, 0.00010, -0.00002, 0.02713, -0.01183, -0.03907, -0.02564, 0.01571])\n",
    "sat_coeff = np.array([-0.13482,\t0.00012, -0.00002,\t0.0293,\t-0.01627, -0.03214,\t-0.02826, 0.02126])\n",
    "sun_coeff = np.array([-0.1087,\t0.00012, -0.00003,\t0.02644, -0.01624,\t-0.03621, -0.04081,\t0.02355])"
   ]
  },
  {
   "cell_type": "code",
   "execution_count": null,
   "id": "292dd66f-24ca-49ba-bf9b-3a81ce606024",
   "metadata": {
    "tags": []
   },
   "outputs": [],
   "source": [
    "# NTD Ridership data \n",
    "with db_engine.connect() as connection:\n",
    "    query = \"\"\"\n",
    "        SELECT\n",
    "            key, ntd_id, agency, period_year_month, mode, uza_name, upt\n",
    "        FROM \n",
    "            cal-itp-data-infra.mart_ntd_ridership.fct_complete_monthly_ridership_with_adjustments_and_estimates\n",
    "    \"\"\"\n",
    "    ridership_data= pd.read_sql(query, connection)"
   ]
  },
  {
   "cell_type": "code",
   "execution_count": null,
   "id": "3fc9c629-8d39-4b54-80dd-d5cda57d4837",
   "metadata": {
    "tags": []
   },
   "outputs": [],
   "source": [
    "ridership_data.dtypes"
   ]
  },
  {
   "cell_type": "code",
   "execution_count": null,
   "id": "9f2cde0a-b07c-4833-a143-da8ec0d5555a",
   "metadata": {
    "tags": []
   },
   "outputs": [],
   "source": [
    "# Convert to Period (monthly)\n",
    "ridership_data['period_year_month'] = pd.to_datetime(ridership_data['period_year_month'], format='%Y-%m').dt.to_period('M')\n"
   ]
  },
  {
   "cell_type": "code",
   "execution_count": null,
   "id": "a16948e4-f8bf-4aa5-b6a1-c67877231498",
   "metadata": {},
   "outputs": [],
   "source": [
    "ridership_data.head(5)"
   ]
  },
  {
   "cell_type": "code",
   "execution_count": null,
   "id": "de24ef25-eb86-4d56-bf58-35983aa02ee8",
   "metadata": {
    "tags": []
   },
   "outputs": [],
   "source": [
    "# Step 1: Filter by year-month range (as strings)\n",
    "filtered_ridership_data = ridership_data[\n",
    "    (ridership_data['period_year_month'] >= '2021-10') &\n",
    "    (ridership_data['period_year_month'] <= '2022-09')\n",
    "]\n",
    "\n",
    "# Step 2: Filter modes ending in \"B\"\n",
    "filtered_ridership_data = filtered_ridership_data[filtered_ridership_data['mode'].str.endswith('B')]\n",
    "\n",
    "# Step 3: Group and sum UPT\n",
    "grouped_ridership_data = (\n",
    "    filtered_ridership_data\n",
    "    .groupby('ntd_id', as_index=False)\n",
    "    .agg(ntd_ridership=('upt', 'sum'))\n",
    ")"
   ]
  },
  {
   "cell_type": "code",
   "execution_count": null,
   "id": "013c7490-a718-4a4f-83ed-f2016685cb17",
   "metadata": {
    "tags": []
   },
   "outputs": [],
   "source": [
    "grouped_ridership_data.head(5)"
   ]
  },
  {
   "cell_type": "code",
   "execution_count": null,
   "id": "d60f0e72-2b96-4ef8-b655-8cb4cfa47491",
   "metadata": {
    "tags": []
   },
   "outputs": [],
   "source": [
    "#Preprocess stop level data \n",
    "def apply_coefficients(df, daytype, coeff_list):\n",
    "    df_day = df[df['daytype'] == daytype].copy()\n",
    "    cols_to_scale = ['n_routes', 'pop_density', 'job_density', 'pct_not_us_citizen_pop',\n",
    "                     'pct_youth_pop', 'pct_seniors_pop', 'pct_pop_workers_no_car', 'pct_poverty']\n",
    "    df_day[cols_to_scale] = df_day[cols_to_scale].multiply(coeff_list)\n",
    "    return df_day"
   ]
  },
  {
   "cell_type": "code",
   "execution_count": null,
   "id": "8ac09d49-c5db-486f-8ed0-ffa616b9e49a",
   "metadata": {
    "tags": []
   },
   "outputs": [],
   "source": [
    "# Estimate Baseline Ridership\n",
    "def compute_model_ridership(df, coefficient, constant, variance):\n",
    "    df['control_vars_sum'] = df[['n_routes', 'pop_density', 'job_density',\n",
    "                                 'pct_not_us_citizen_pop', 'pct_youth_pop', \n",
    "                                 'pct_seniors_pop', 'pct_pop_workers_no_car', \n",
    "                                 'pct_poverty']].sum(axis=1)\n",
    "    \n",
    "    df['control_vars_factor'] = df['control_vars_sum'] + (df['n_trips'] * coefficient) + constant\n",
    "    df['model_est_ridership'] = np.exp(df['control_vars_factor'] + (variance / 2))\n",
    "    return df"
   ]
  },
  {
   "cell_type": "code",
   "execution_count": null,
   "id": "079cb375-160f-4459-bb7c-5f95f768eb26",
   "metadata": {
    "tags": []
   },
   "outputs": [],
   "source": [
    "# Remove outliers\n",
    "def remove_outliers(df, quantile=0.99):\n",
    "    cutoff = df['model_est_ridership'].quantile(quantile)\n",
    "    return df[df['model_est_ridership'] < cutoff].copy()"
   ]
  },
  {
   "cell_type": "code",
   "execution_count": null,
   "id": "96fe3f2b-e53d-4ae0-9402-a5173f835360",
   "metadata": {},
   "outputs": [],
   "source": [
    "def aggregate_system_model(df):\n",
    "    return df.groupby(['schedule_gtfs_dataset_key', 'portfolio_organization_name', 'ntd_id_2022'], \n",
    "                      as_index=False)['model_est_ridership'].sum().rename(\n",
    "        columns={'model_est_ridership': 'sys_model_est_ridership'})"
   ]
  },
  {
   "cell_type": "code",
   "execution_count": null,
   "id": "5e51a73a-f490-43a0-a942-8cd5acc70504",
   "metadata": {},
   "outputs": [],
   "source": [
    "def join_external_data(sys_df, ntd_ridership_df, daytype_count):\n",
    "    sys_df = sys_df.merge(\n",
    "        ntd_ridership_df, \n",
    "        left_on='ntd_id_2022', \n",
    "        right_on='ntd_id', \n",
    "        how='left'\n",
    "    )\n",
    "    sys_df['ntd_ridership_daytype'] = sys_df['ntd_ridership'] * (daytype_count / 365)\n",
    "    return sys_df"
   ]
  },
  {
   "cell_type": "code",
   "execution_count": null,
   "id": "c83d569f-29fb-4947-8712-ac9badf0d259",
   "metadata": {},
   "outputs": [],
   "source": [
    "def compute_median_overprediction(sys_df):\n",
    "    sys_df['model_over_ntd'] = sys_df['sys_model_est_ridership'] / sys_df['ntd_ridership_daytype']\n",
    "    return sys_df['model_over_ntd'].median()"
   ]
  },
  {
   "cell_type": "code",
   "execution_count": null,
   "id": "d0ca6db8-77d9-4bfe-a1c4-a939d36ee9c9",
   "metadata": {},
   "outputs": [],
   "source": [
    "def scale_ridership(df, sys_df, median_overpred):\n",
    "    df = df.merge(\n",
    "        sys_df[['schedule_gtfs_dataset_key', 'portfolio_organization_name', 'ntd_id_2022', 'sys_model_est_ridership', 'ntd_ridership_daytype']],\n",
    "        on=['schedule_gtfs_dataset_key', 'portfolio_organization_name', 'ntd_id_2022'], how='left'\n",
    "    )\n",
    "    \n",
    "    def scaled_rider(row):\n",
    "        if pd.notnull(row['ntd_ridership_daytype']) and row['ntd_ridership_daytype'] > 0:\n",
    "            return row['model_est_ridership'] / (row['sys_model_est_ridership'] / row['ntd_ridership_daytype'])\n",
    "        else:\n",
    "            return row['model_est_ridership'] / median_overpred\n",
    "\n",
    "    df['ntd_scaled_ridership'] = df.apply(scaled_rider, axis=1)\n",
    "    return df"
   ]
  },
  {
   "cell_type": "code",
   "execution_count": null,
   "id": "743e10ba-3ecd-4082-a34a-58890bcf03c0",
   "metadata": {},
   "outputs": [],
   "source": [
    "def simulate_added_trips(df, range_trips):\n",
    "    df['route_list_dups'] = df['route_list_string'].str.split(',')\n",
    "    df['route_list_cleaned'] = df['route_list_dups'].apply(\n",
    "        lambda routes: [r.split('_')[0] for r in routes]\n",
    "    )\n",
    "    df['route_name'] = df['route_list_cleaned'].apply(np.unique)\n",
    "    df = df.explode('route_name')\n",
    "    df['n_addtl_trips'] = [range_trips] * len(df)\n",
    "    df = df.explode('n_addtl_trips')\n",
    "    return df"
   ]
  },
  {
   "cell_type": "code",
   "execution_count": null,
   "id": "a3b10285-729b-45cb-886f-e4cac3f4f64f",
   "metadata": {},
   "outputs": [],
   "source": [
    "def estimate_new_riders(df, coefficient):\n",
    "    coeff_pct = np.exp(coefficient) - 1\n",
    "    df['n_addtl_riders'] = df['ntd_scaled_ridership'] * coeff_pct * df['n_addtl_trips']\n",
    "    return df[['schedule_gtfs_dataset_key', 'portfolio_organization_name', 'ntd_id_2022', 'daytype', 'route_name', 'stop_id', 'stop_name',\n",
    "               'n_addtl_trips', 'n_addtl_riders']]"
   ]
  },
  {
   "cell_type": "code",
   "execution_count": null,
   "id": "b54ec5e6-76ff-4b79-bc61-bcc4e9aba8ba",
   "metadata": {
    "tags": []
   },
   "outputs": [],
   "source": [
    "def ridership_model(df, daytype, coeff_list, coefficient, constant, variance, \n",
    "                    daytype_count, range_trips, NTD_ridership_clean):\n",
    "\n",
    "    #Prepare and model ridership\n",
    "    df1 = apply_coefficients(df, daytype, coeff_list)\n",
    "    df2 = compute_model_ridership(df1, coefficient, constant, variance)\n",
    "    df3 = remove_outliers(df2)\n",
    "    \n",
    "    #System-level scaling based on real data\n",
    "    sys_model = aggregate_system_model(df3)\n",
    "    sys_model = join_external_data(sys_model, NTD_ridership_clean, daytype_count)\n",
    "    median_overpred = compute_median_overprediction(sys_model)\n",
    "    \n",
    "    # STEP 7–9: Stop-level scaling, simulating added trips, estimating new riders\n",
    "    df4 = scale_ridership(df3, sys_model, median_overpred)\n",
    "    df5 = simulate_added_trips(df4, range_trips)\n",
    "    df_final = estimate_new_riders(df5, coefficient)\n",
    "    \n",
    "    return df_final"
   ]
  },
  {
   "cell_type": "code",
   "execution_count": null,
   "id": "2382f39d-f4f2-4717-aa4b-ad67ff4120fc",
   "metadata": {
    "tags": []
   },
   "outputs": [],
   "source": [
    "df_weekday = ridership_model(\n",
    "    df,\n",
    "    daytype=\"Weekday\",\n",
    "    coeff_list=wkd_coeff,\n",
    "    coefficient=0.0200865,\n",
    "    constant=6.8721538,\n",
    "    variance=2.434,\n",
    "    daytype_count=261,\n",
    "    range_trips=list(range(0, 21)),\n",
    "    NTD_ridership_clean=grouped_ridership_data\n",
    ")\n",
    "\n",
    "df_saturday = ridership_model(\n",
    "    df,\n",
    "    daytype=\"Saturday\",\n",
    "    coeff_list=sat_coeff,\n",
    "    coefficient=0.0262958,\n",
    "    constant=4.2261843,\n",
    "    variance=3.007,\n",
    "    daytype_count=52,\n",
    "    range_trips=list(range(0, 21)),\n",
    "    NTD_ridership_clean=grouped_ridership_data\n",
    ")\n",
    "\n",
    "df_sunday = ridership_model(\n",
    "    df,\n",
    "    daytype=\"Sunday\",\n",
    "    coeff_list=sun_coeff,\n",
    "    coefficient=0.0263988,\n",
    "    constant=3.9734396,\n",
    "    variance=3.119,\n",
    "    daytype_count=52,\n",
    "    range_trips=list(range(0, 21)),\n",
    "    NTD_ridership_clean=grouped_ridership_data\n",
    ")"
   ]
  },
  {
   "cell_type": "code",
   "execution_count": null,
   "id": "e2816312-5498-4759-a556-fb381c76c9f4",
   "metadata": {},
   "outputs": [],
   "source": [
    "df_weekday.head(5)"
   ]
  },
  {
   "cell_type": "code",
   "execution_count": null,
   "id": "7d2c29c6-bc90-4652-996d-5d1722ccdfc4",
   "metadata": {
    "tags": []
   },
   "outputs": [],
   "source": [
    "df_all = pd.concat([df_weekday,df_saturday,df_sunday], ignore_index=True)"
   ]
  },
  {
   "cell_type": "code",
   "execution_count": null,
   "id": "daeb52c3-8b91-4fcc-b74c-284a5b212ab2",
   "metadata": {
    "tags": []
   },
   "outputs": [],
   "source": [
    "df_all.shape"
   ]
  },
  {
   "cell_type": "code",
   "execution_count": null,
   "id": "14039348-0561-4fcd-aab1-4edf0e6f26ed",
   "metadata": {},
   "outputs": [],
   "source": [
    "df_all.head(5)"
   ]
  },
  {
   "cell_type": "code",
   "execution_count": null,
   "id": "5dcfd0d0-13d4-49e7-b26e-f46e9dfaa9aa",
   "metadata": {
    "tags": []
   },
   "outputs": [],
   "source": [
    "df_all.to_csv(f\"{GCS_FILE_PATH}AHSC_analysis_table_2025.csv\", index=False)"
   ]
  },
  {
   "cell_type": "code",
   "execution_count": null,
   "id": "05564b6b-a606-4370-b560-39c7787856fe",
   "metadata": {
    "tags": []
   },
   "outputs": [],
   "source": [
    "df_all.info()"
   ]
  }
 ],
 "metadata": {
  "kernelspec": {
   "display_name": "Python 3 (ipykernel)",
   "language": "python",
   "name": "python3"
  },
  "language_info": {
   "codemirror_mode": {
    "name": "ipython",
    "version": 3
   },
   "file_extension": ".py",
   "mimetype": "text/x-python",
   "name": "python",
   "nbconvert_exporter": "python",
   "pygments_lexer": "ipython3",
   "version": "3.11.10"
  }
 },
 "nbformat": 4,
 "nbformat_minor": 5
}
