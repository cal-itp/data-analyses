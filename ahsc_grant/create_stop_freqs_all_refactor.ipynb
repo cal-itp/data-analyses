{
 "cells": [
  {
   "cell_type": "code",
   "execution_count": 1,
   "id": "3a8360f5-0186-4b3c-b2df-05f4462c7035",
   "metadata": {
    "tags": []
   },
   "outputs": [
    {
     "name": "stdout",
     "output_type": "stream",
     "text": [
      "Requirement already satisfied: shared_utils in /opt/conda/lib/python3.11/site-packages (4.2)\n",
      "Note: you may need to restart the kernel to use updated packages.\n"
     ]
    }
   ],
   "source": [
    "pip install shared_utils"
   ]
  },
  {
   "cell_type": "code",
   "execution_count": 2,
   "id": "34a45dcd-6e26-4eaf-a078-f7fd9b7e1cf1",
   "metadata": {
    "tags": []
   },
   "outputs": [],
   "source": [
    "import os\n",
    "os.environ[\"CALITP_BQ_MAX_BYTES\"] = str(800_000_000_000)\n",
    "\n",
    "import shared_utils\n",
    "import pandas as pd\n",
    "import geopandas as gpd\n",
    "from calitp_data_analysis.sql import get_engine\n",
    "from shared_utils import gtfs_utils_v2\n",
    "db_engine = get_engine()\n",
    "\n",
    "import gcsfs\n",
    "from calitp_data_analysis import get_fs\n",
    "from calitp_data_analysis import geography_utils, utils\n",
    "fs = get_fs()\n",
    "import re\n",
    "import google.auth\n",
    "import os\n",
    "credentials, project = google.auth.default()\n",
    "import pytz\n",
    "from datetime import datetime\n",
    "\n"
   ]
  },
  {
   "cell_type": "code",
   "execution_count": 3,
   "id": "cb9cf6b3-cacb-4fcb-896a-5cd46bef6cbf",
   "metadata": {
    "tags": []
   },
   "outputs": [],
   "source": [
    "pd.options.display.max_columns = 100\n",
    "pd.options.display.float_format = \"{:.2f}\".format\n",
    "pd.set_option(\"display.max_rows\", None)\n",
    "pd.set_option(\"display.max_colwidth\", None)"
   ]
  },
  {
   "cell_type": "code",
   "execution_count": 4,
   "id": "99273195-ee08-4eb7-8427-627c0baba86d",
   "metadata": {
    "tags": []
   },
   "outputs": [],
   "source": [
    "GCS_FILE_PATH = 'gs://calitp-analytics-data/data-analyses/ahsc_grant/'"
   ]
  },
  {
   "cell_type": "code",
   "execution_count": 5,
   "id": "b84426ac-0952-4b30-b94f-b84009c75943",
   "metadata": {},
   "outputs": [],
   "source": [
    "import datetime as dt"
   ]
  },
  {
   "cell_type": "code",
   "execution_count": 6,
   "id": "8fe64a1c-115c-4784-93f6-9e51385503fb",
   "metadata": {},
   "outputs": [],
   "source": [
    "# set date parameters\n",
    "analysis_wkd = dt.date(2022,11,30)\n",
    "analysis_sat = dt.date(2022,12,3)\n",
    "analysis_sun = dt.date(2022,12,4)"
   ]
  },
  {
   "cell_type": "code",
   "execution_count": 7,
   "id": "772a59fb-cc89-4f7f-a559-fc1d7af18479",
   "metadata": {
    "tags": []
   },
   "outputs": [],
   "source": [
    "def read_parquet_from_gcs(filename):\n",
    "    gcs_path = GCS_FILE_PATH.replace(\"gs://\", \"\") + filename\n",
    "    with fs.open(gcs_path, 'rb') as f:\n",
    "        return gpd.read_parquet(f)"
   ]
  },
  {
   "cell_type": "code",
   "execution_count": 8,
   "id": "7a821fcc-bfe5-4978-868b-20e1b6b1db65",
   "metadata": {
    "tags": []
   },
   "outputs": [],
   "source": [
    "acs_ca = read_parquet_from_gcs(\"tracts_ca_acs.parquet\")"
   ]
  },
  {
   "cell_type": "code",
   "execution_count": 9,
   "id": "b4bf0389-6c95-4162-b7a8-3a62201bbecc",
   "metadata": {
    "tags": []
   },
   "outputs": [],
   "source": [
    "jobdata = pd.read_parquet(f\"{GCS_FILE_PATH}/job_density_2022.parquet\")[['GEOID', 'jobs_tot']]"
   ]
  },
  {
   "cell_type": "code",
   "execution_count": 10,
   "id": "98cf4d3b-c51a-4fe6-a4a9-4aad491fa508",
   "metadata": {
    "tags": []
   },
   "outputs": [],
   "source": [
    "# Inner join with ACS data on 'geo_id'\n",
    "acs_ca = acs_ca.merge(jobdata, on = 'GEOID', how='left')"
   ]
  },
  {
   "cell_type": "code",
   "execution_count": 11,
   "id": "8322d5e5-18aa-4764-9b44-954cccb1d55f",
   "metadata": {
    "tags": []
   },
   "outputs": [],
   "source": [
    "acs_ca = acs_ca.to_crs(epsg=3347)"
   ]
  },
  {
   "cell_type": "code",
   "execution_count": 12,
   "id": "4548b606-8464-4bd1-9236-86993f2401a0",
   "metadata": {
    "tags": []
   },
   "outputs": [],
   "source": [
    "def feed_trips_data_summary(day_type, analysis_dt):\n",
    "    # Get all available feeds for the given date\n",
    "    feeds_for_day = gtfs_utils_v2.schedule_daily_feed_to_gtfs_dataset_name(selected_date=analysis_dt)\n",
    "\n",
    "    feed_keys = feeds_for_day[\"feed_key\"].unique().tolist()\n",
    "\n",
    "    if not feed_keys:\n",
    "        return pd.DataFrame()\n",
    "\n",
    "    # Get trips\n",
    "    trips_df = gtfs_utils_v2.get_trips(\n",
    "        selected_date=analysis_dt,\n",
    "        operator_feeds=feed_keys,\n",
    "        trip_cols=[\n",
    "            \"feed_key\", \"trip_id\", \"gtfs_dataset_key\", \"trip_instance_key\", \"route_id\", \"shape_id\",\n",
    "            \"direction_id\", \"route_type\", \"route_short_name\", \"service_date\"\n",
    "        ]\n",
    "    ).drop_duplicates()\n",
    "\n",
    "    if trips_df.empty:\n",
    "        return pd.DataFrame()\n",
    "\n",
    "    trips_df[\"route_name_id\"] = trips_df[\"route_short_name\"].fillna(\"\") + \"_\" + trips_df[\"route_id\"]\n",
    "\n",
    "    # Get stop_times\n",
    "    stoptimes_df = gtfs_utils_v2.get_stop_times(\n",
    "        selected_date=analysis_dt,\n",
    "        operator_feeds=feed_keys,\n",
    "        stop_time_cols=[\"trip_id\", \"feed_key\", \"stop_id\", \"arrival_sec\", \"departure_sec\"],\n",
    "        trip_df=trips_df,\n",
    "        get_df=True\n",
    "    )\n",
    "\n",
    "    if stoptimes_df.empty:\n",
    "        return pd.DataFrame()\n",
    "\n",
    "    # Merge with trips\n",
    "    stoptimes_df = stoptimes_df.merge(trips_df, on=[\"trip_id\", \"feed_key\"])\n",
    "\n",
    "    # Summarize stop-level trips\n",
    "    grouped = stoptimes_df.groupby([\"feed_key\", \"route_type\", \"stop_id\"])\n",
    "    summary = grouped.agg(\n",
    "        n_trips=(\"trip_instance_key\", pd.Series.nunique),\n",
    "        n_routes=(\"route_id\", pd.Series.nunique),\n",
    "        route_list=(\"route_name_id\", lambda x: [x.tolist()])\n",
    "    ).reset_index()\n",
    "\n",
    "    summary[\"daytype\"] = day_type\n",
    "    summary[\"analysis_date\"] = analysis_dt\n",
    "    summary[\"route_list_string\"] = summary[\"route_list\"].apply(lambda x: \",\".join(x[0]))\n",
    "\n",
    "    # Add gtfs_dataset_key from trips_df to summary\n",
    "    feed_info = trips_df[[\"feed_key\", \"gtfs_dataset_key\", \"service_date\"]].drop_duplicates()\n",
    "    summary = summary.merge(feed_info, on=\"feed_key\", how=\"left\")\n",
    "\n",
    "    # Get stop metadata\n",
    "    stops_geo = gtfs_utils_v2.get_stops(\n",
    "        selected_date=analysis_dt,\n",
    "        operator_feeds=feed_keys,\n",
    "        stop_cols=[\"feed_key\", \"stop_id\", \"stop_desc\", \"stop_name\"],\n",
    "        get_df=True\n",
    "    )\n",
    "\n",
    "    # Join with summarized data\n",
    "    stoptimes_geo = stops_geo.merge(summary, on=[\"feed_key\", \"stop_id\"])\n",
    "\n",
    "    return stoptimes_geo"
   ]
  },
  {
   "cell_type": "code",
   "execution_count": 18,
   "id": "50b8a23d-368e-451c-ae9a-4e5043a7ecba",
   "metadata": {},
   "outputs": [],
   "source": [
    "def filter_dim_provider_by_service_dates(dim_provider_gtfs_data, gtfs_dataset):\n",
    "    dim_provider_gtfs_data = dim_provider_gtfs_data.dropna(\n",
    "        subset=[\"organization_key\", \"schedule_gtfs_dataset_key\"]\n",
    "    )\n",
    "\n",
    "    # Convert to US/Pacific timezone\n",
    "    dim_provider_gtfs_data[['_valid_from', '_valid_to']] = dim_provider_gtfs_data[['_valid_from', '_valid_to']].apply(lambda col: col.dt.tz_convert('US/Pacific'))\n",
    "\n",
    "    # Replace original columns with their date parts (drops time and timezone info)\n",
    "    dim_provider_gtfs_data['_valid_from'] = dim_provider_gtfs_data['_valid_from'].dt.date\n",
    "    dim_provider_gtfs_data['_valid_to'] = dim_provider_gtfs_data['_valid_to'].dt.date\n",
    "\n",
    "    # Ensure service_date in gtfs_dataset is a date object\n",
    "    gtfs_dataset['service_date'] = pd.to_datetime(gtfs_dataset['service_date']).dt.date\n",
    "\n",
    "    # Get unique service_dates and gtfs_dataset_keys from gtfs_dataset\n",
    "    service_dates = gtfs_dataset['service_date'].unique()\n",
    "    gtfs_keys = set(gtfs_dataset['gtfs_dataset_key'].unique())\n",
    "\n",
    "    # Filter where schedule_gtfs_dataset_key is in gtfs_dataset_key list\n",
    "    filtered_by_key = dim_provider_gtfs_data[\n",
    "        dim_provider_gtfs_data['schedule_gtfs_dataset_key'].isin(gtfs_keys)\n",
    "    ]\n",
    "\n",
    "    # Now filter by service_date between _valid_from and _valid_to\n",
    "    filtered_final = filtered_by_key[\n",
    "        filtered_by_key.apply(\n",
    "            lambda row: any(\n",
    "                (service_date >= row['_valid_from']) and (service_date <= row['_valid_to'])\n",
    "                for service_date in service_dates\n",
    "            ), axis=1\n",
    "        )\n",
    "    ]\n",
    "\n",
    "    return filtered_final\n",
    "\n"
   ]
  },
  {
   "cell_type": "code",
   "execution_count": 19,
   "id": "fc121df1-c162-4b0c-90a5-9e24e26c6402",
   "metadata": {
    "tags": []
   },
   "outputs": [],
   "source": [
    "with db_engine.connect() as connection:\n",
    "    query = \"\"\"\n",
    "        SELECT\n",
    "            schedule_gtfs_dataset_key, organization_key, schedule_gtfs_dataset_name, _valid_from, _valid_to, organization_ntd_id\n",
    "        FROM \n",
    "            cal-itp-data-infra.mart_transit_database.dim_provider_gtfs_data\n",
    "    \"\"\"\n",
    "    dim_provider_gtfs_data= pd.read_sql(query, connection)"
   ]
  },
  {
   "cell_type": "code",
   "execution_count": 20,
   "id": "4a20813d-128e-4304-9310-e4ee8fea6e44",
   "metadata": {
    "tags": []
   },
   "outputs": [
    {
     "name": "stdout",
     "output_type": "stream",
     "text": [
      "could not get metrolink feed on 2022-11-30!\n"
     ]
    },
    {
     "name": "stderr",
     "output_type": "stream",
     "text": [
      "/opt/conda/lib/python3.11/site-packages/sqlalchemy_bigquery/_types.py:101: SAWarning: Did not recognize type 'INTERVAL' of column 'arrival_time_interval'\n",
      "  sqlalchemy.util.warn(\n",
      "/opt/conda/lib/python3.11/site-packages/sqlalchemy_bigquery/_types.py:101: SAWarning: Did not recognize type 'INTERVAL' of column 'departure_time_interval'\n",
      "  sqlalchemy.util.warn(\n",
      "/opt/conda/lib/python3.11/site-packages/sqlalchemy_bigquery/_types.py:101: SAWarning: Did not recognize type 'INTERVAL' of column 'start_pickup_drop_off_window_interval'\n",
      "  sqlalchemy.util.warn(\n",
      "/opt/conda/lib/python3.11/site-packages/sqlalchemy_bigquery/_types.py:101: SAWarning: Did not recognize type 'INTERVAL' of column 'end_pickup_drop_off_window_interval'\n",
      "  sqlalchemy.util.warn(\n",
      "/opt/conda/lib/python3.11/site-packages/pandas/core/tools/datetimes.py:557: RuntimeWarning: invalid value encountered in cast\n",
      "  arr, tz_parsed = tslib.array_with_unit_to_datetime(arg, unit, errors=errors)\n",
      "/opt/conda/lib/python3.11/site-packages/pandas/core/tools/datetimes.py:557: RuntimeWarning: invalid value encountered in cast\n",
      "  arr, tz_parsed = tslib.array_with_unit_to_datetime(arg, unit, errors=errors)\n",
      "/opt/conda/lib/python3.11/site-packages/sqlalchemy_bigquery/_types.py:101: SAWarning: Did not recognize type 'GEOGRAPHY' of column 'pt_geom'\n",
      "  sqlalchemy.util.warn(\n"
     ]
    },
    {
     "name": "stdout",
     "output_type": "stream",
     "text": [
      "could not get metrolink feed on 2022-12-03!\n"
     ]
    },
    {
     "name": "stderr",
     "output_type": "stream",
     "text": [
      "/opt/conda/lib/python3.11/site-packages/sqlalchemy_bigquery/_types.py:101: SAWarning: Did not recognize type 'INTERVAL' of column 'arrival_time_interval'\n",
      "  sqlalchemy.util.warn(\n",
      "/opt/conda/lib/python3.11/site-packages/sqlalchemy_bigquery/_types.py:101: SAWarning: Did not recognize type 'INTERVAL' of column 'departure_time_interval'\n",
      "  sqlalchemy.util.warn(\n",
      "/opt/conda/lib/python3.11/site-packages/sqlalchemy_bigquery/_types.py:101: SAWarning: Did not recognize type 'INTERVAL' of column 'start_pickup_drop_off_window_interval'\n",
      "  sqlalchemy.util.warn(\n",
      "/opt/conda/lib/python3.11/site-packages/sqlalchemy_bigquery/_types.py:101: SAWarning: Did not recognize type 'INTERVAL' of column 'end_pickup_drop_off_window_interval'\n",
      "  sqlalchemy.util.warn(\n",
      "/opt/conda/lib/python3.11/site-packages/pandas/core/tools/datetimes.py:557: RuntimeWarning: invalid value encountered in cast\n",
      "  arr, tz_parsed = tslib.array_with_unit_to_datetime(arg, unit, errors=errors)\n",
      "/opt/conda/lib/python3.11/site-packages/pandas/core/tools/datetimes.py:557: RuntimeWarning: invalid value encountered in cast\n",
      "  arr, tz_parsed = tslib.array_with_unit_to_datetime(arg, unit, errors=errors)\n",
      "/opt/conda/lib/python3.11/site-packages/sqlalchemy_bigquery/_types.py:101: SAWarning: Did not recognize type 'GEOGRAPHY' of column 'pt_geom'\n",
      "  sqlalchemy.util.warn(\n"
     ]
    },
    {
     "name": "stdout",
     "output_type": "stream",
     "text": [
      "could not get metrolink feed on 2022-12-04!\n"
     ]
    },
    {
     "name": "stderr",
     "output_type": "stream",
     "text": [
      "/opt/conda/lib/python3.11/site-packages/sqlalchemy_bigquery/_types.py:101: SAWarning: Did not recognize type 'INTERVAL' of column 'arrival_time_interval'\n",
      "  sqlalchemy.util.warn(\n",
      "/opt/conda/lib/python3.11/site-packages/sqlalchemy_bigquery/_types.py:101: SAWarning: Did not recognize type 'INTERVAL' of column 'departure_time_interval'\n",
      "  sqlalchemy.util.warn(\n",
      "/opt/conda/lib/python3.11/site-packages/sqlalchemy_bigquery/_types.py:101: SAWarning: Did not recognize type 'INTERVAL' of column 'start_pickup_drop_off_window_interval'\n",
      "  sqlalchemy.util.warn(\n",
      "/opt/conda/lib/python3.11/site-packages/sqlalchemy_bigquery/_types.py:101: SAWarning: Did not recognize type 'INTERVAL' of column 'end_pickup_drop_off_window_interval'\n",
      "  sqlalchemy.util.warn(\n",
      "/opt/conda/lib/python3.11/site-packages/pandas/core/tools/datetimes.py:557: RuntimeWarning: invalid value encountered in cast\n",
      "  arr, tz_parsed = tslib.array_with_unit_to_datetime(arg, unit, errors=errors)\n",
      "/opt/conda/lib/python3.11/site-packages/pandas/core/tools/datetimes.py:557: RuntimeWarning: invalid value encountered in cast\n",
      "  arr, tz_parsed = tslib.array_with_unit_to_datetime(arg, unit, errors=errors)\n",
      "/opt/conda/lib/python3.11/site-packages/sqlalchemy_bigquery/_types.py:101: SAWarning: Did not recognize type 'GEOGRAPHY' of column 'pt_geom'\n",
      "  sqlalchemy.util.warn(\n"
     ]
    }
   ],
   "source": [
    "#Generate GTFS datasets for each day\n",
    "stops_weekday = feed_trips_data_summary(\"Weekday\", analysis_wkd)\n",
    "stops_saturday = feed_trips_data_summary(\"Saturday\", analysis_sat)\n",
    "stops_sunday = feed_trips_data_summary(\"Sunday\", analysis_sun)\n",
    "\n",
    "#Combine non-empty results\n",
    "gtfs_datasets = pd.concat([df for df in [stops_weekday, stops_saturday, stops_sunday] if not df.empty], ignore_index=True)\n",
    "\n",
    "#Filter provider data based on service dates from all combined datasets\n",
    "filtered_provider_data = filter_dim_provider_by_service_dates(dim_provider_gtfs_data, gtfs_datasets)\n"
   ]
  },
  {
   "cell_type": "code",
   "execution_count": 21,
   "id": "d23b66ca-2d54-4eb1-91bc-53e0fba6b348",
   "metadata": {
    "tags": []
   },
   "outputs": [
    {
     "data": {
      "text/plain": [
       "(565, 6)"
      ]
     },
     "execution_count": 21,
     "metadata": {},
     "output_type": "execute_result"
    }
   ],
   "source": [
    "filtered_provider_data.shape"
   ]
  },
  {
   "cell_type": "code",
   "execution_count": null,
   "id": "26fbb4ad-3f0e-4442-806e-5fd7095b19c5",
   "metadata": {},
   "outputs": [],
   "source": []
  },
  {
   "cell_type": "code",
   "execution_count": 26,
   "id": "c576f535-d38d-4a96-a33a-747c7dc0d799",
   "metadata": {
    "tags": []
   },
   "outputs": [
    {
     "data": {
      "text/html": [
       "<div>\n",
       "<style scoped>\n",
       "    .dataframe tbody tr th:only-of-type {\n",
       "        vertical-align: middle;\n",
       "    }\n",
       "\n",
       "    .dataframe tbody tr th {\n",
       "        vertical-align: top;\n",
       "    }\n",
       "\n",
       "    .dataframe thead th {\n",
       "        text-align: right;\n",
       "    }\n",
       "</style>\n",
       "<table border=\"1\" class=\"dataframe\">\n",
       "  <thead>\n",
       "    <tr style=\"text-align: right;\">\n",
       "      <th></th>\n",
       "      <th>schedule_gtfs_dataset_key</th>\n",
       "      <th>organization_key</th>\n",
       "      <th>schedule_gtfs_dataset_name</th>\n",
       "      <th>_valid_from</th>\n",
       "      <th>_valid_to</th>\n",
       "      <th>organization_ntd_id</th>\n",
       "    </tr>\n",
       "  </thead>\n",
       "  <tbody>\n",
       "    <tr>\n",
       "      <th>2487</th>\n",
       "      <td>d968c230ea1ca7de9afa862dadaa1955</td>\n",
       "      <td>456e2114e810c0f06ede9306d81238b4</td>\n",
       "      <td>Madera Metro Schedule</td>\n",
       "      <td>2022-11-30</td>\n",
       "      <td>2022-12-01</td>\n",
       "      <td>90199</td>\n",
       "    </tr>\n",
       "    <tr>\n",
       "      <th>3957</th>\n",
       "      <td>d60d97c8f07bc530996ff049fd86c587</td>\n",
       "      <td>9dd3b1041a3d56c627ba8899618b99e3</td>\n",
       "      <td>Bay Area 511 Vine Transit Schedule</td>\n",
       "      <td>2022-11-30</td>\n",
       "      <td>2022-12-01</td>\n",
       "      <td>90088</td>\n",
       "    </tr>\n",
       "    <tr>\n",
       "      <th>4080</th>\n",
       "      <td>5e4df72537f8b71aa3009951c9010063</td>\n",
       "      <td>84645643ffa389fdb76602f004b83994</td>\n",
       "      <td>Bay Area 511 Sonoma County Transit Schedule</td>\n",
       "      <td>2022-11-30</td>\n",
       "      <td>2022-12-01</td>\n",
       "      <td>90089</td>\n",
       "    </tr>\n",
       "    <tr>\n",
       "      <th>4247</th>\n",
       "      <td>ac4cfb9faa274cc4a72f3c96850814a8</td>\n",
       "      <td>2650d3523eba53c2506813b9df3ba553</td>\n",
       "      <td>Sacramento Schedule</td>\n",
       "      <td>2022-11-30</td>\n",
       "      <td>2022-12-01</td>\n",
       "      <td>None</td>\n",
       "    </tr>\n",
       "    <tr>\n",
       "      <th>4446</th>\n",
       "      <td>a510a09326f4f2fe9b28dc2cfd0a87ba</td>\n",
       "      <td>7144f36cc4f9a803fd266455ecfcc871</td>\n",
       "      <td>LA Metro Rail Schedule</td>\n",
       "      <td>2022-11-30</td>\n",
       "      <td>2022-12-01</td>\n",
       "      <td>90154</td>\n",
       "    </tr>\n",
       "    <tr>\n",
       "      <th>4761</th>\n",
       "      <td>bc4adb213d92410bb0885b88a6bfa2e3</td>\n",
       "      <td>fff93b1f261490e1b1b81caf27951c66</td>\n",
       "      <td>San Diego Schedule</td>\n",
       "      <td>2022-11-30</td>\n",
       "      <td>2022-12-01</td>\n",
       "      <td>None</td>\n",
       "    </tr>\n",
       "    <tr>\n",
       "      <th>4763</th>\n",
       "      <td>bc4adb213d92410bb0885b88a6bfa2e3</td>\n",
       "      <td>67e7cfd1b4d27a0523b68fbeb80cd882</td>\n",
       "      <td>San Diego Schedule</td>\n",
       "      <td>2022-11-30</td>\n",
       "      <td>2022-12-01</td>\n",
       "      <td>90026</td>\n",
       "    </tr>\n",
       "    <tr>\n",
       "      <th>4765</th>\n",
       "      <td>bc4adb213d92410bb0885b88a6bfa2e3</td>\n",
       "      <td>2d8c24da4701b0194c083572b0c77b8f</td>\n",
       "      <td>San Diego Schedule</td>\n",
       "      <td>2022-11-30</td>\n",
       "      <td>2022-12-01</td>\n",
       "      <td>None</td>\n",
       "    </tr>\n",
       "    <tr>\n",
       "      <th>5363</th>\n",
       "      <td>2937138fa39a7b0b8ac9997d1555fb5e</td>\n",
       "      <td>7144f36cc4f9a803fd266455ecfcc871</td>\n",
       "      <td>LA Metro Bus Schedule</td>\n",
       "      <td>2022-11-30</td>\n",
       "      <td>2022-12-01</td>\n",
       "      <td>90154</td>\n",
       "    </tr>\n",
       "    <tr>\n",
       "      <th>5802</th>\n",
       "      <td>07484e2075d31e135baa85b476c851dd</td>\n",
       "      <td>35c3dc34b6f3dbd9b23680ee3669ce52</td>\n",
       "      <td>Foothill Schedule</td>\n",
       "      <td>2022-11-30</td>\n",
       "      <td>2022-12-01</td>\n",
       "      <td>90264</td>\n",
       "    </tr>\n",
       "  </tbody>\n",
       "</table>\n",
       "</div>"
      ],
      "text/plain": [
       "             schedule_gtfs_dataset_key                  organization_key  \\\n",
       "2487  d968c230ea1ca7de9afa862dadaa1955  456e2114e810c0f06ede9306d81238b4   \n",
       "3957  d60d97c8f07bc530996ff049fd86c587  9dd3b1041a3d56c627ba8899618b99e3   \n",
       "4080  5e4df72537f8b71aa3009951c9010063  84645643ffa389fdb76602f004b83994   \n",
       "4247  ac4cfb9faa274cc4a72f3c96850814a8  2650d3523eba53c2506813b9df3ba553   \n",
       "4446  a510a09326f4f2fe9b28dc2cfd0a87ba  7144f36cc4f9a803fd266455ecfcc871   \n",
       "4761  bc4adb213d92410bb0885b88a6bfa2e3  fff93b1f261490e1b1b81caf27951c66   \n",
       "4763  bc4adb213d92410bb0885b88a6bfa2e3  67e7cfd1b4d27a0523b68fbeb80cd882   \n",
       "4765  bc4adb213d92410bb0885b88a6bfa2e3  2d8c24da4701b0194c083572b0c77b8f   \n",
       "5363  2937138fa39a7b0b8ac9997d1555fb5e  7144f36cc4f9a803fd266455ecfcc871   \n",
       "5802  07484e2075d31e135baa85b476c851dd  35c3dc34b6f3dbd9b23680ee3669ce52   \n",
       "\n",
       "                       schedule_gtfs_dataset_name _valid_from   _valid_to  \\\n",
       "2487                        Madera Metro Schedule  2022-11-30  2022-12-01   \n",
       "3957           Bay Area 511 Vine Transit Schedule  2022-11-30  2022-12-01   \n",
       "4080  Bay Area 511 Sonoma County Transit Schedule  2022-11-30  2022-12-01   \n",
       "4247                          Sacramento Schedule  2022-11-30  2022-12-01   \n",
       "4446                       LA Metro Rail Schedule  2022-11-30  2022-12-01   \n",
       "4761                           San Diego Schedule  2022-11-30  2022-12-01   \n",
       "4763                           San Diego Schedule  2022-11-30  2022-12-01   \n",
       "4765                           San Diego Schedule  2022-11-30  2022-12-01   \n",
       "5363                        LA Metro Bus Schedule  2022-11-30  2022-12-01   \n",
       "5802                            Foothill Schedule  2022-11-30  2022-12-01   \n",
       "\n",
       "     organization_ntd_id  \n",
       "2487               90199  \n",
       "3957               90088  \n",
       "4080               90089  \n",
       "4247                None  \n",
       "4446               90154  \n",
       "4761                None  \n",
       "4763               90026  \n",
       "4765                None  \n",
       "5363               90154  \n",
       "5802               90264  "
      ]
     },
     "execution_count": 26,
     "metadata": {},
     "output_type": "execute_result"
    }
   ],
   "source": [
    "duplicate_org_keys_rows = filtered_provider_data[filtered_provider_data['organization_key'].duplicated(keep=False)]\n",
    "duplicate_org_keys_rows.head(10)"
   ]
  },
  {
   "cell_type": "code",
   "execution_count": 23,
   "id": "3e0c5624-7312-46d1-802c-77e7ab3203e6",
   "metadata": {
    "tags": []
   },
   "outputs": [
    {
     "data": {
      "text/plain": [
       "True"
      ]
     },
     "execution_count": 23,
     "metadata": {},
     "output_type": "execute_result"
    }
   ],
   "source": [
    "filtered_provider_data['organization_key'].duplicated().any()"
   ]
  },
  {
   "cell_type": "code",
   "execution_count": 27,
   "id": "3cf88589-3fcf-4e36-9d31-9077e4018cc9",
   "metadata": {
    "tags": []
   },
   "outputs": [],
   "source": [
    "with db_engine.connect() as connection:\n",
    "    query = \"\"\"\n",
    "        SELECT\n",
    "            key, name, ntd_id_2022, ntd_agency_info_key, _is_current\n",
    "        FROM \n",
    "            cal-itp-data-infra.mart_transit_database.dim_organizations\n",
    "    \"\"\"\n",
    "    organizations= pd.read_sql(query, connection)"
   ]
  },
  {
   "cell_type": "code",
   "execution_count": 28,
   "id": "b5e1783c-089d-4885-80a3-49328c2f3051",
   "metadata": {
    "tags": []
   },
   "outputs": [],
   "source": [
    "organizations = organizations[organizations['_is_current'] == True]"
   ]
  },
  {
   "cell_type": "code",
   "execution_count": 29,
   "id": "e82e0f5b-c8ae-4e1e-a9e2-eb730e6eaae2",
   "metadata": {
    "tags": []
   },
   "outputs": [
    {
     "data": {
      "text/html": [
       "<div>\n",
       "<style scoped>\n",
       "    .dataframe tbody tr th:only-of-type {\n",
       "        vertical-align: middle;\n",
       "    }\n",
       "\n",
       "    .dataframe tbody tr th {\n",
       "        vertical-align: top;\n",
       "    }\n",
       "\n",
       "    .dataframe thead th {\n",
       "        text-align: right;\n",
       "    }\n",
       "</style>\n",
       "<table border=\"1\" class=\"dataframe\">\n",
       "  <thead>\n",
       "    <tr style=\"text-align: right;\">\n",
       "      <th></th>\n",
       "      <th>key</th>\n",
       "      <th>name</th>\n",
       "      <th>ntd_id_2022</th>\n",
       "      <th>ntd_agency_info_key</th>\n",
       "      <th>_is_current</th>\n",
       "    </tr>\n",
       "  </thead>\n",
       "  <tbody>\n",
       "    <tr>\n",
       "      <th>2843</th>\n",
       "      <td>768d63d2e78ca2180fa1722f7e8a7b30</td>\n",
       "      <td>A-Para Transit</td>\n",
       "      <td>None</td>\n",
       "      <td>None</td>\n",
       "      <td>True</td>\n",
       "    </tr>\n",
       "    <tr>\n",
       "      <th>2852</th>\n",
       "      <td>e1e8708cf815056e747965b2ec74d061</td>\n",
       "      <td>ABC Shuttle</td>\n",
       "      <td>None</td>\n",
       "      <td>None</td>\n",
       "      <td>True</td>\n",
       "    </tr>\n",
       "    <tr>\n",
       "      <th>2856</th>\n",
       "      <td>f435e45c3b26cecdcc2cff341107ca01</td>\n",
       "      <td>ACE Parking</td>\n",
       "      <td>None</td>\n",
       "      <td>None</td>\n",
       "      <td>True</td>\n",
       "    </tr>\n",
       "    <tr>\n",
       "      <th>2864</th>\n",
       "      <td>693977de8ef497ccc4d12c4367d6dc53</td>\n",
       "      <td>ADARide</td>\n",
       "      <td>None</td>\n",
       "      <td>None</td>\n",
       "      <td>True</td>\n",
       "    </tr>\n",
       "    <tr>\n",
       "      <th>2866</th>\n",
       "      <td>5645aa499eac7139f93d04ca0b40ddf8</td>\n",
       "      <td>AEP Ticketing</td>\n",
       "      <td>None</td>\n",
       "      <td>None</td>\n",
       "      <td>True</td>\n",
       "    </tr>\n",
       "  </tbody>\n",
       "</table>\n",
       "</div>"
      ],
      "text/plain": [
       "                                   key            name ntd_id_2022  \\\n",
       "2843  768d63d2e78ca2180fa1722f7e8a7b30  A-Para Transit        None   \n",
       "2852  e1e8708cf815056e747965b2ec74d061     ABC Shuttle        None   \n",
       "2856  f435e45c3b26cecdcc2cff341107ca01     ACE Parking        None   \n",
       "2864  693977de8ef497ccc4d12c4367d6dc53         ADARide        None   \n",
       "2866  5645aa499eac7139f93d04ca0b40ddf8   AEP Ticketing        None   \n",
       "\n",
       "     ntd_agency_info_key  _is_current  \n",
       "2843                None         True  \n",
       "2852                None         True  \n",
       "2856                None         True  \n",
       "2864                None         True  \n",
       "2866                None         True  "
      ]
     },
     "execution_count": 29,
     "metadata": {},
     "output_type": "execute_result"
    }
   ],
   "source": [
    "organizations.head(5)"
   ]
  },
  {
   "cell_type": "code",
   "execution_count": 30,
   "id": "58ccb9f4-bc36-484f-8727-62d279d08a55",
   "metadata": {
    "tags": []
   },
   "outputs": [],
   "source": [
    "organizations_filtered = organizations.dropna(subset=[\"ntd_id_2022\"])"
   ]
  },
  {
   "cell_type": "code",
   "execution_count": 31,
   "id": "67b52833-ce5e-4696-a5fd-5fe5531c0b5f",
   "metadata": {
    "tags": []
   },
   "outputs": [
    {
     "name": "stderr",
     "output_type": "stream",
     "text": [
      "/tmp/ipykernel_1650/3603425248.py:1: SettingWithCopyWarning: \n",
      "A value is trying to be set on a copy of a slice from a DataFrame\n",
      "\n",
      "See the caveats in the documentation: https://pandas.pydata.org/pandas-docs/stable/user_guide/indexing.html#returning-a-view-versus-a-copy\n",
      "  organizations_filtered.drop_duplicates(inplace=True)\n"
     ]
    }
   ],
   "source": [
    "organizations_filtered.drop_duplicates(inplace=True)"
   ]
  },
  {
   "cell_type": "code",
   "execution_count": 32,
   "id": "2288c610-66bc-45e0-97b8-b072418cc770",
   "metadata": {
    "tags": []
   },
   "outputs": [
    {
     "data": {
      "text/plain": [
       "(245, 5)"
      ]
     },
     "execution_count": 32,
     "metadata": {},
     "output_type": "execute_result"
    }
   ],
   "source": [
    "organizations_filtered.shape"
   ]
  },
  {
   "cell_type": "code",
   "execution_count": 112,
   "id": "a723ab88-edd7-47c2-856d-6edc66687e47",
   "metadata": {
    "tags": []
   },
   "outputs": [],
   "source": [
    "valid_gtfs_data = valid_gtfs_data.dropna(\n",
    "    subset=[\"organization_key\", \"schedule_gtfs_dataset_key\"]\n",
    ")"
   ]
  },
  {
   "cell_type": "code",
   "execution_count": 113,
   "id": "18ce3d17-b78b-489d-922e-5e821f07dc96",
   "metadata": {
    "tags": []
   },
   "outputs": [],
   "source": [
    "valid_gtfs_data.drop_duplicates(inplace=True)"
   ]
  },
  {
   "cell_type": "code",
   "execution_count": 114,
   "id": "07d2db03-1ae4-4d6d-9a44-76722d23a3d7",
   "metadata": {
    "tags": []
   },
   "outputs": [
    {
     "data": {
      "text/plain": [
       "(336, 6)"
      ]
     },
     "execution_count": 114,
     "metadata": {},
     "output_type": "execute_result"
    }
   ],
   "source": [
    "valid_gtfs_data.shape"
   ]
  },
  {
   "cell_type": "code",
   "execution_count": 104,
   "id": "8ef65ae3-3106-4eee-9d40-db504fdaf293",
   "metadata": {
    "tags": []
   },
   "outputs": [
    {
     "name": "stdout",
     "output_type": "stream",
     "text": [
      "Number of duplicated rows based on 'organization_key': 123\n"
     ]
    }
   ],
   "source": [
    "dup_count = valid_gtfs_data.duplicated(subset=['organization_key']).sum()\n",
    "print(f\"Number of duplicated rows based on 'organization_key': {dup_count}\")"
   ]
  },
  {
   "cell_type": "code",
   "execution_count": 98,
   "id": "b782bb69-7943-487b-a31b-3c13db20e0e1",
   "metadata": {
    "tags": []
   },
   "outputs": [
    {
     "data": {
      "text/plain": [
       "(211, 5)"
      ]
     },
     "execution_count": 98,
     "metadata": {},
     "output_type": "execute_result"
    }
   ],
   "source": [
    "duplicates2.shape"
   ]
  },
  {
   "cell_type": "code",
   "execution_count": 116,
   "id": "f1d2ccac-272f-4173-aceb-c73c2620fa9e",
   "metadata": {
    "tags": []
   },
   "outputs": [],
   "source": [
    "organizations_itp_ids = pd.merge(\n",
    "    organizations_filtered,\n",
    "    valid_gtfs_data,\n",
    "    how=\"inner\",\n",
    "    left_on=\"key\",\n",
    "    right_on=\"organization_key\",\n",
    ")\n"
   ]
  },
  {
   "cell_type": "code",
   "execution_count": 117,
   "id": "dd2acb85-54fc-4266-a011-d71e0e43a013",
   "metadata": {
    "tags": []
   },
   "outputs": [
    {
     "data": {
      "text/html": [
       "<div>\n",
       "<style scoped>\n",
       "    .dataframe tbody tr th:only-of-type {\n",
       "        vertical-align: middle;\n",
       "    }\n",
       "\n",
       "    .dataframe tbody tr th {\n",
       "        vertical-align: top;\n",
       "    }\n",
       "\n",
       "    .dataframe thead th {\n",
       "        text-align: right;\n",
       "    }\n",
       "</style>\n",
       "<table border=\"1\" class=\"dataframe\">\n",
       "  <thead>\n",
       "    <tr style=\"text-align: right;\">\n",
       "      <th></th>\n",
       "      <th>key</th>\n",
       "      <th>name</th>\n",
       "      <th>ntd_id_2022</th>\n",
       "      <th>ntd_agency_info_key</th>\n",
       "      <th>_is_current</th>\n",
       "      <th>schedule_gtfs_dataset_key</th>\n",
       "      <th>organization_key</th>\n",
       "      <th>schedule_gtfs_dataset_name</th>\n",
       "      <th>_valid_from</th>\n",
       "      <th>_valid_to</th>\n",
       "      <th>organization_ntd_id</th>\n",
       "    </tr>\n",
       "  </thead>\n",
       "  <tbody>\n",
       "    <tr>\n",
       "      <th>0</th>\n",
       "      <td>402b2852ff46b95557801fbf3038ae7c</td>\n",
       "      <td>Chemehuevi Indian Tribe</td>\n",
       "      <td>99316</td>\n",
       "      <td>reclUB9NcCQrSImfd</td>\n",
       "      <td>True</td>\n",
       "      <td>b15b1537f3df67cdeb6b787a3caa03dd</td>\n",
       "      <td>402b2852ff46b95557801fbf3038ae7c</td>\n",
       "      <td>Havasu Landing Ferry Schedule</td>\n",
       "      <td>2025-08-25 17:00:00-07:00</td>\n",
       "      <td>2098-12-31 15:59:59.999999-08:00</td>\n",
       "      <td>99316</td>\n",
       "    </tr>\n",
       "    <tr>\n",
       "      <th>1</th>\n",
       "      <td>1e18df76d09a11ee12196e63523b71de</td>\n",
       "      <td>City of Covina</td>\n",
       "      <td>90261</td>\n",
       "      <td>recvggib7eta8XGr9</td>\n",
       "      <td>True</td>\n",
       "      <td>56ffc44e465855abe81fdd4d35f41454</td>\n",
       "      <td>1e18df76d09a11ee12196e63523b71de</td>\n",
       "      <td>Fric and Frac Schedule</td>\n",
       "      <td>2025-03-05 16:00:00-08:00</td>\n",
       "      <td>2098-12-31 15:59:59.999999-08:00</td>\n",
       "      <td>90261</td>\n",
       "    </tr>\n",
       "    <tr>\n",
       "      <th>2</th>\n",
       "      <td>c65e8bc9ba33132015f75968dedfda6b</td>\n",
       "      <td>City of Irvine</td>\n",
       "      <td>90231</td>\n",
       "      <td>None</td>\n",
       "      <td>True</td>\n",
       "      <td>a50bd21d3834e074eec87ec0a8b73946</td>\n",
       "      <td>c65e8bc9ba33132015f75968dedfda6b</td>\n",
       "      <td>Irvine CONNECT Schedule</td>\n",
       "      <td>2025-08-25 17:00:00-07:00</td>\n",
       "      <td>2098-12-31 15:59:59.999999-08:00</td>\n",
       "      <td>None</td>\n",
       "    </tr>\n",
       "    <tr>\n",
       "      <th>3</th>\n",
       "      <td>ec5abf734ea5f8d6be2580942fa77848</td>\n",
       "      <td>City of Wasco</td>\n",
       "      <td>99426</td>\n",
       "      <td>None</td>\n",
       "      <td>True</td>\n",
       "      <td>e48cc28a21960fa7a3da84271af3be92</td>\n",
       "      <td>ec5abf734ea5f8d6be2580942fa77848</td>\n",
       "      <td>Wasco DAR Schedule</td>\n",
       "      <td>2025-08-21 17:00:00-07:00</td>\n",
       "      <td>2098-12-31 15:59:59.999999-08:00</td>\n",
       "      <td>9R02-99426</td>\n",
       "    </tr>\n",
       "    <tr>\n",
       "      <th>4</th>\n",
       "      <td>d2fccff52634fc356ea22989ccf40bed</td>\n",
       "      <td>Plumas County</td>\n",
       "      <td>91119</td>\n",
       "      <td>rec71NfzUTU4kWG17</td>\n",
       "      <td>True</td>\n",
       "      <td>c872474db7f5825b5f360ddad4361331</td>\n",
       "      <td>d2fccff52634fc356ea22989ccf40bed</td>\n",
       "      <td>Plumas Schedule</td>\n",
       "      <td>2025-08-28 17:00:00-07:00</td>\n",
       "      <td>2098-12-31 15:59:59.999999-08:00</td>\n",
       "      <td>9R02-91119</td>\n",
       "    </tr>\n",
       "  </tbody>\n",
       "</table>\n",
       "</div>"
      ],
      "text/plain": [
       "                                key                     name ntd_id_2022  \\\n",
       "0  402b2852ff46b95557801fbf3038ae7c  Chemehuevi Indian Tribe       99316   \n",
       "1  1e18df76d09a11ee12196e63523b71de           City of Covina       90261   \n",
       "2  c65e8bc9ba33132015f75968dedfda6b           City of Irvine       90231   \n",
       "3  ec5abf734ea5f8d6be2580942fa77848            City of Wasco       99426   \n",
       "4  d2fccff52634fc356ea22989ccf40bed            Plumas County       91119   \n",
       "\n",
       "  ntd_agency_info_key  _is_current         schedule_gtfs_dataset_key  \\\n",
       "0   reclUB9NcCQrSImfd         True  b15b1537f3df67cdeb6b787a3caa03dd   \n",
       "1   recvggib7eta8XGr9         True  56ffc44e465855abe81fdd4d35f41454   \n",
       "2                None         True  a50bd21d3834e074eec87ec0a8b73946   \n",
       "3                None         True  e48cc28a21960fa7a3da84271af3be92   \n",
       "4   rec71NfzUTU4kWG17         True  c872474db7f5825b5f360ddad4361331   \n",
       "\n",
       "                   organization_key     schedule_gtfs_dataset_name  \\\n",
       "0  402b2852ff46b95557801fbf3038ae7c  Havasu Landing Ferry Schedule   \n",
       "1  1e18df76d09a11ee12196e63523b71de         Fric and Frac Schedule   \n",
       "2  c65e8bc9ba33132015f75968dedfda6b        Irvine CONNECT Schedule   \n",
       "3  ec5abf734ea5f8d6be2580942fa77848             Wasco DAR Schedule   \n",
       "4  d2fccff52634fc356ea22989ccf40bed                Plumas Schedule   \n",
       "\n",
       "                _valid_from                        _valid_to  \\\n",
       "0 2025-08-25 17:00:00-07:00 2098-12-31 15:59:59.999999-08:00   \n",
       "1 2025-03-05 16:00:00-08:00 2098-12-31 15:59:59.999999-08:00   \n",
       "2 2025-08-25 17:00:00-07:00 2098-12-31 15:59:59.999999-08:00   \n",
       "3 2025-08-21 17:00:00-07:00 2098-12-31 15:59:59.999999-08:00   \n",
       "4 2025-08-28 17:00:00-07:00 2098-12-31 15:59:59.999999-08:00   \n",
       "\n",
       "  organization_ntd_id  \n",
       "0               99316  \n",
       "1               90261  \n",
       "2                None  \n",
       "3          9R02-99426  \n",
       "4          9R02-91119  "
      ]
     },
     "execution_count": 117,
     "metadata": {},
     "output_type": "execute_result"
    }
   ],
   "source": [
    "organizations_itp_ids.head(5)"
   ]
  },
  {
   "cell_type": "code",
   "execution_count": 119,
   "id": "c312fb97-476d-4200-ac12-59dcc1b61fbc",
   "metadata": {
    "tags": []
   },
   "outputs": [
    {
     "data": {
      "text/plain": [
       "(254, 11)"
      ]
     },
     "execution_count": 119,
     "metadata": {},
     "output_type": "execute_result"
    }
   ],
   "source": [
    "organizations_itp_ids.shape"
   ]
  },
  {
   "cell_type": "code",
   "execution_count": 118,
   "id": "056fa806-5963-406f-9602-72aad2ac1c8f",
   "metadata": {
    "tags": []
   },
   "outputs": [],
   "source": [
    "organizations_itp_ids.drop_duplicates(inplace=True)"
   ]
  },
  {
   "cell_type": "code",
   "execution_count": 122,
   "id": "44a721e0-cf97-431c-a12c-6a39cd3b659a",
   "metadata": {
    "tags": []
   },
   "outputs": [
    {
     "data": {
      "text/plain": [
       "(49, 11)"
      ]
     },
     "execution_count": 122,
     "metadata": {},
     "output_type": "execute_result"
    }
   ],
   "source": [
    "duplicates = organizations_itp_ids[\n",
    "    organizations_itp_ids.duplicated(subset=['schedule_gtfs_dataset_key'], keep=False)\n",
    "]\n",
    "\n",
    "duplicates.shape\n"
   ]
  },
  {
   "cell_type": "code",
   "execution_count": null,
   "id": "0024bda9-f0d2-4414-8b2e-c2a390393b16",
   "metadata": {},
   "outputs": [],
   "source": []
  },
  {
   "cell_type": "code",
   "execution_count": 25,
   "id": "f9502e73-ad04-4ac9-88fd-4d6793fbd23b",
   "metadata": {
    "tags": []
   },
   "outputs": [],
   "source": [
    "# schedule_gtfs_dataset_keys = (\n",
    "#     organizations_itp_ids[\"gtfs_dataset_key\"]\n",
    "#     .unique()\n",
    "#     .tolist()\n",
    "# )"
   ]
  },
  {
   "cell_type": "code",
   "execution_count": 26,
   "id": "dd6b4007-b6fc-44b2-a187-e208388d094e",
   "metadata": {
    "tags": []
   },
   "outputs": [],
   "source": [
    "# def daily_trips(day_type, analysis_dt, schedule_key):\n",
    "#     # Get all feeds for that analysis date\n",
    "#     feeds_for_day = gtfs_utils_v2.schedule_daily_feed_to_gtfs_dataset_name(selected_date=analysis_dt)\n",
    "\n",
    "#     # Only keep feeds where gtfs_dataset_key is in our known keys\n",
    "#     feeds_for_day = feeds_for_day[\n",
    "#         feeds_for_day[\"gtfs_dataset_key\"].isin(schedule_gtfs_dataset_keys)\n",
    "#     ]\n",
    "\n",
    "#     # Then filter for the specific schedule_key\n",
    "#     feed_keys = feeds_for_day[\n",
    "#         feeds_for_day[\"gtfs_dataset_key\"] == schedule_key\n",
    "#     ][\"feed_key\"].unique().tolist()\n",
    "\n",
    "#     if feed_keys:\n",
    "#         print(f\"[{day_type}] schedule_key: {schedule_key}, feed_keys found: {feed_keys}\")\n",
    "#     else:\n",
    "#         return pd.DataFrame()\n",
    "\n",
    "#     # Get trips data using feed_keys\n",
    "#     trips_df = gtfs_utils_v2.get_trips(\n",
    "#         selected_date=analysis_dt,\n",
    "#         operator_feeds=feed_keys,\n",
    "#         trip_cols=[\n",
    "#             \"feed_key\", \"trip_id\", \"trip_instance_key\", \"route_id\", \"shape_id\",\n",
    "#             \"direction_id\", \"route_type\", \"route_short_name\"\n",
    "#         ]\n",
    "#     ).drop_duplicates()\n",
    "    \n",
    "#     trips_df[\"route_name_id\"] = (\n",
    "#         trips_df[\"route_short_name\"].fillna(\"\") + \"_\" + trips_df[\"route_id\"]\n",
    "#     )\n",
    "\n",
    "#     print(f\"[{day_type}] schedule_key: {schedule_key}, trips found: {len(trips_df)}\")\n",
    "    \n",
    "#     if trips_df.empty:\n",
    "#         return pd.DataFrame()\n",
    "\n",
    "\n",
    "#     # Get stop times\n",
    "#     stoptimes_df = gtfs_utils_v2.get_stop_times(\n",
    "#         selected_date=analysis_dt,\n",
    "#         operator_feeds=feed_keys,\n",
    "#         stop_time_cols=[\"trip_id\", \"feed_key\", \"stop_id\", \"arrival_sec\", \"departure_sec\"],\n",
    "#         trip_df=trips_df,      \n",
    "#         get_df=True\n",
    "#     )\n",
    "\n",
    "    \n",
    "#     print(f\"[{day_type}] schedule_key: {schedule_key}, stop times found: {len(stoptimes_df)}\")\n",
    "\n",
    "#     # Merge with trip data\n",
    "#     stoptimes_df = stoptimes_df.merge(trips_df, on=[\"trip_id\", \"feed_key\"])\n",
    "\n",
    "#     # Group and summarize\n",
    "#     grouped = stoptimes_df.groupby([\"feed_key\", \"route_type\", \"stop_id\"])\n",
    "\n",
    "#     summary = grouped.agg(\n",
    "#         n_trips=(\"trip_instance_key\", pd.Series.nunique),\n",
    "#         n_routes=(\"route_id\", pd.Series.nunique),\n",
    "#         route_list=(\"route_name_id\", lambda x: [x.tolist()])\n",
    "#     ).reset_index()\n",
    "\n",
    "#     summary[\"daytype\"] = day_type\n",
    "#     summary[\"analysis_date\"] = analysis_dt\n",
    "#     summary[\"route_list_string\"] = summary[\"route_list\"].apply(lambda x: \",\".join(x[0]))\n",
    "\n",
    "#     # Get stop locations\n",
    "#     stops_geo = gtfs_utils_v2.get_stops(\n",
    "#         selected_date=analysis_dt,\n",
    "#         operator_feeds=feed_keys,\n",
    "#         stop_cols=[\"feed_key\", \"stop_id\", \"stop_desc\", \"stop_name\"],\n",
    "#         get_df=True\n",
    "#     )\n",
    "    \n",
    "\n",
    "\n",
    "#     stoptimes_geo = stops_geo.merge(summary, on=[\"feed_key\", \"stop_id\"])\n",
    "\n",
    "#     # Spatial processing\n",
    "#     stoptimes_geo = stoptimes_geo.to_crs(epsg=3347)\n",
    "#     stoptimes_geo[\"geometry\"] = stoptimes_geo.buffer(402.336)  # 0.25 miles\n",
    "\n",
    "#     # Join to ACS\n",
    "#     stops_acs_joined = stoptimes_geo.sjoin(acs_ca, how=\"left\", predicate=\"intersects\")\n",
    "\n",
    "#     group_cols = [\n",
    "#         \"feed_key\", \"stop_id\", \"stop_name\", \"n_trips\", \"n_routes\",\n",
    "#         \"daytype\", \"analysis_date\", \"route_list_string\"\n",
    "#     ]\n",
    "\n",
    "#     acs_summary = stops_acs_joined.groupby(group_cols).agg(\n",
    "#         sum_tracts=(\"GEOID\", pd.Series.nunique),\n",
    "#         sum_total_pop=(\"total_pop\", \"sum\"),\n",
    "#         sum_households=(\"households\", \"sum\"),\n",
    "#         sum_not_us_citizen_pop=(\"not_us_citizen_pop\", \"sum\"),\n",
    "#         sum_youth_pop=(\"youth_pop\", \"sum\"),\n",
    "#         sum_seniors_pop=(\"seniors_pop\", \"sum\"),\n",
    "#         sum_pop_determined_poverty_status=(\"pop_determined_poverty_status\", \"sum\"),\n",
    "#         sum_poverty=(\"poverty\", \"sum\"),\n",
    "#         sum_no_car=(\"workers_with_no_car\", \"sum\"),\n",
    "#         sum_no_cars=(\"households_with_no_cars\", \"sum\"),\n",
    "#         sum_land_area=(\"ALAND\", \"sum\"),\n",
    "#         sum_jobs=(\"jobs_tot\", \"sum\")\n",
    "#     ).reset_index()\n",
    "\n",
    "#     # Derived metrics\n",
    "#     acs_summary[\"land_area_sqkm\"] = acs_summary[\"sum_land_area\"] / 1_000_000\n",
    "#     acs_summary[\"pop_density\"] = acs_summary[\"sum_total_pop\"] / acs_summary[\"land_area_sqkm\"]\n",
    "#     acs_summary[\"job_density\"] = acs_summary[\"sum_jobs\"] / acs_summary[\"land_area_sqkm\"]\n",
    "#     acs_summary[\"pct_not_us_citizen_pop\"] = (acs_summary[\"sum_not_us_citizen_pop\"] / acs_summary[\"sum_total_pop\"]) * 100\n",
    "#     acs_summary[\"pct_youth_pop\"] = (acs_summary[\"sum_youth_pop\"] / acs_summary[\"sum_total_pop\"]) * 100\n",
    "#     acs_summary[\"pct_seniors_pop\"] = (acs_summary[\"sum_seniors_pop\"] / acs_summary[\"sum_total_pop\"]) * 100\n",
    "#     acs_summary[\"pct_poverty\"] = (acs_summary[\"sum_poverty\"] / acs_summary[\"sum_pop_determined_poverty_status\"]) * 100\n",
    "#     acs_summary[\"pct_pop_workers_no_car\"] = (acs_summary[\"sum_no_car\"] / acs_summary[\"sum_total_pop\"]) * 100\n",
    "#     acs_summary[\"pct_hh_no_cars\"] = (acs_summary[\"sum_no_cars\"] / acs_summary[\"sum_households\"]) * 100\n",
    "\n",
    "#     # Final join\n",
    "#     acs_summary[\"gtfs_dataset_key\"] = schedule_key\n",
    "#     acs_summary = acs_summary.merge(\n",
    "#         organizations_itp_ids,\n",
    "#         how=\"left\",\n",
    "#         on=\"gtfs_dataset_key\"\n",
    "#     ).drop_duplicates()\n",
    "\n",
    "#     return acs_summary"
   ]
  },
  {
   "cell_type": "code",
   "execution_count": 140,
   "id": "dc5d4ca6-d06d-421d-b7ee-1841b4eda270",
   "metadata": {
    "tags": []
   },
   "outputs": [
    {
     "data": {
      "text/plain": [
       "(59130, 30)"
      ]
     },
     "execution_count": 140,
     "metadata": {},
     "output_type": "execute_result"
    }
   ],
   "source": [
    "acs_summary.shape"
   ]
  },
  {
   "cell_type": "code",
   "execution_count": 141,
   "id": "d3c3fa06-ecd1-43a8-9236-e8401d096414",
   "metadata": {
    "tags": []
   },
   "outputs": [
    {
     "data": {
      "text/plain": [
       "Index(['gtfs_dataset_key', 'stop_id', 'stop_name', 'n_trips', 'n_routes',\n",
       "       'daytype', 'analysis_date', 'route_list_string', 'service_date',\n",
       "       'sum_tracts', 'sum_total_pop', 'sum_households',\n",
       "       'sum_not_us_citizen_pop', 'sum_youth_pop', 'sum_seniors_pop',\n",
       "       'sum_pop_determined_poverty_status', 'sum_poverty', 'sum_no_car',\n",
       "       'sum_no_cars', 'sum_land_area', 'sum_jobs', 'land_area_sqkm',\n",
       "       'pop_density', 'job_density', 'pct_not_us_citizen_pop', 'pct_youth_pop',\n",
       "       'pct_seniors_pop', 'pct_poverty', 'pct_pop_workers_no_car',\n",
       "       'pct_hh_no_cars'],\n",
       "      dtype='object')"
      ]
     },
     "execution_count": 141,
     "metadata": {},
     "output_type": "execute_result"
    }
   ],
   "source": [
    "acs_summary.columns"
   ]
  },
  {
   "cell_type": "code",
   "execution_count": 155,
   "id": "b77526c4-8e69-4fbb-b1f9-4e375703e6d6",
   "metadata": {
    "tags": []
   },
   "outputs": [
    {
     "data": {
      "text/plain": [
       "(1439, 6)"
      ]
     },
     "execution_count": 155,
     "metadata": {},
     "output_type": "execute_result"
    }
   ],
   "source": [
    "filtered_dim_provider.shape"
   ]
  },
  {
   "cell_type": "code",
   "execution_count": 13,
   "id": "3c5c3ca5-18c0-4fb2-8138-580ab1da7d38",
   "metadata": {
    "tags": []
   },
   "outputs": [],
   "source": [
    "def stops_geo_acs_summary(stoptimes_geo, acs_ca):\n",
    "    if stoptimes_geo.empty:\n",
    "        return pd.DataFrame()\n",
    "\n",
    "    # Spatial buffer (0.25 miles)\n",
    "    stoptimes_geo = stoptimes_geo.to_crs(epsg=3347)\n",
    "    stoptimes_geo[\"geometry\"] = stoptimes_geo.buffer(402.336)\n",
    "\n",
    "    # Spatial join with ACS\n",
    "    stops_acs_joined = stoptimes_geo.sjoin(acs_ca, how=\"left\", predicate=\"intersects\")\n",
    "\n",
    "    # Aggregate\n",
    "    group_cols = [\n",
    "        \"gtfs_dataset_key\", \"stop_id\", \"stop_name\", \"n_trips\", \"n_routes\",\n",
    "        \"daytype\", \"analysis_date\", \"route_list_string\", \"service_date\"\n",
    "    ]\n",
    "\n",
    "    acs_summary = stops_acs_joined.groupby(group_cols).agg(\n",
    "        sum_tracts=(\"GEOID\", pd.Series.nunique),\n",
    "        sum_total_pop=(\"total_pop\", \"sum\"),\n",
    "        sum_households=(\"households\", \"sum\"),\n",
    "        sum_not_us_citizen_pop=(\"not_us_citizen_pop\", \"sum\"),\n",
    "        sum_youth_pop=(\"youth_pop\", \"sum\"),\n",
    "        sum_seniors_pop=(\"seniors_pop\", \"sum\"),\n",
    "        sum_pop_determined_poverty_status=(\"pop_determined_poverty_status\", \"sum\"),\n",
    "        sum_poverty=(\"poverty\", \"sum\"),\n",
    "        sum_no_car=(\"workers_with_no_car\", \"sum\"),\n",
    "        sum_no_cars=(\"households_with_no_cars\", \"sum\"),\n",
    "        sum_land_area=(\"ALAND\", \"sum\"),\n",
    "        sum_jobs=(\"jobs_tot\", \"sum\")\n",
    "    ).reset_index()\n",
    "\n",
    "    # Derived metrics\n",
    "    acs_summary[\"land_area_sqkm\"] = acs_summary[\"sum_land_area\"] / 1_000_000\n",
    "    acs_summary[\"pop_density\"] = acs_summary[\"sum_total_pop\"] / acs_summary[\"land_area_sqkm\"]\n",
    "    acs_summary[\"job_density\"] = acs_summary[\"sum_jobs\"] / acs_summary[\"land_area_sqkm\"]\n",
    "    acs_summary[\"pct_not_us_citizen_pop\"] = (acs_summary[\"sum_not_us_citizen_pop\"] / acs_summary[\"sum_total_pop\"]) * 100\n",
    "    acs_summary[\"pct_youth_pop\"] = (acs_summary[\"sum_youth_pop\"] / acs_summary[\"sum_total_pop\"]) * 100\n",
    "    acs_summary[\"pct_seniors_pop\"] = (acs_summary[\"sum_seniors_pop\"] / acs_summary[\"sum_total_pop\"]) * 100\n",
    "    acs_summary[\"pct_poverty\"] = (acs_summary[\"sum_poverty\"] / acs_summary[\"sum_pop_determined_poverty_status\"]) * 100\n",
    "    acs_summary[\"pct_pop_workers_no_car\"] = (acs_summary[\"sum_no_car\"] / acs_summary[\"sum_total_pop\"]) * 100\n",
    "    acs_summary[\"pct_hh_no_cars\"] = (acs_summary[\"sum_no_cars\"] / acs_summary[\"sum_households\"]) * 100\n",
    "\n",
    "    return acs_summary\n"
   ]
  },
  {
   "cell_type": "code",
   "execution_count": 14,
   "id": "0cc6d69f-8426-4d03-8f13-50bf1557a16b",
   "metadata": {
    "tags": []
   },
   "outputs": [
    {
     "name": "stdout",
     "output_type": "stream",
     "text": [
      "could not get metrolink feed on 2022-11-30!\n",
      "[Weekday] trips found: 108385\n"
     ]
    },
    {
     "name": "stderr",
     "output_type": "stream",
     "text": [
      "/opt/conda/lib/python3.11/site-packages/sqlalchemy_bigquery/_types.py:101: SAWarning: Did not recognize type 'INTERVAL' of column 'arrival_time_interval'\n",
      "  sqlalchemy.util.warn(\n",
      "/opt/conda/lib/python3.11/site-packages/sqlalchemy_bigquery/_types.py:101: SAWarning: Did not recognize type 'INTERVAL' of column 'departure_time_interval'\n",
      "  sqlalchemy.util.warn(\n",
      "/opt/conda/lib/python3.11/site-packages/sqlalchemy_bigquery/_types.py:101: SAWarning: Did not recognize type 'INTERVAL' of column 'start_pickup_drop_off_window_interval'\n",
      "  sqlalchemy.util.warn(\n",
      "/opt/conda/lib/python3.11/site-packages/sqlalchemy_bigquery/_types.py:101: SAWarning: Did not recognize type 'INTERVAL' of column 'end_pickup_drop_off_window_interval'\n",
      "  sqlalchemy.util.warn(\n",
      "/opt/conda/lib/python3.11/site-packages/pandas/core/tools/datetimes.py:557: RuntimeWarning: invalid value encountered in cast\n",
      "  arr, tz_parsed = tslib.array_with_unit_to_datetime(arg, unit, errors=errors)\n",
      "/opt/conda/lib/python3.11/site-packages/pandas/core/tools/datetimes.py:557: RuntimeWarning: invalid value encountered in cast\n",
      "  arr, tz_parsed = tslib.array_with_unit_to_datetime(arg, unit, errors=errors)\n"
     ]
    },
    {
     "name": "stdout",
     "output_type": "stream",
     "text": [
      "[Weekday] stop times found: 3720071\n"
     ]
    },
    {
     "name": "stderr",
     "output_type": "stream",
     "text": [
      "/opt/conda/lib/python3.11/site-packages/sqlalchemy_bigquery/_types.py:101: SAWarning: Did not recognize type 'GEOGRAPHY' of column 'pt_geom'\n",
      "  sqlalchemy.util.warn(\n"
     ]
    },
    {
     "name": "stdout",
     "output_type": "stream",
     "text": [
      "Added ACS summary for Weekday - 2022-11-30\n",
      "could not get metrolink feed on 2022-12-03!\n",
      "[Saturday] trips found: 74279\n"
     ]
    },
    {
     "name": "stderr",
     "output_type": "stream",
     "text": [
      "/opt/conda/lib/python3.11/site-packages/sqlalchemy_bigquery/_types.py:101: SAWarning: Did not recognize type 'INTERVAL' of column 'arrival_time_interval'\n",
      "  sqlalchemy.util.warn(\n",
      "/opt/conda/lib/python3.11/site-packages/sqlalchemy_bigquery/_types.py:101: SAWarning: Did not recognize type 'INTERVAL' of column 'departure_time_interval'\n",
      "  sqlalchemy.util.warn(\n",
      "/opt/conda/lib/python3.11/site-packages/sqlalchemy_bigquery/_types.py:101: SAWarning: Did not recognize type 'INTERVAL' of column 'start_pickup_drop_off_window_interval'\n",
      "  sqlalchemy.util.warn(\n",
      "/opt/conda/lib/python3.11/site-packages/sqlalchemy_bigquery/_types.py:101: SAWarning: Did not recognize type 'INTERVAL' of column 'end_pickup_drop_off_window_interval'\n",
      "  sqlalchemy.util.warn(\n",
      "/opt/conda/lib/python3.11/site-packages/pandas/core/tools/datetimes.py:557: RuntimeWarning: invalid value encountered in cast\n",
      "  arr, tz_parsed = tslib.array_with_unit_to_datetime(arg, unit, errors=errors)\n",
      "/opt/conda/lib/python3.11/site-packages/pandas/core/tools/datetimes.py:557: RuntimeWarning: invalid value encountered in cast\n",
      "  arr, tz_parsed = tslib.array_with_unit_to_datetime(arg, unit, errors=errors)\n"
     ]
    },
    {
     "name": "stdout",
     "output_type": "stream",
     "text": [
      "[Saturday] stop times found: 2555991\n"
     ]
    },
    {
     "name": "stderr",
     "output_type": "stream",
     "text": [
      "/opt/conda/lib/python3.11/site-packages/sqlalchemy_bigquery/_types.py:101: SAWarning: Did not recognize type 'GEOGRAPHY' of column 'pt_geom'\n",
      "  sqlalchemy.util.warn(\n"
     ]
    },
    {
     "name": "stdout",
     "output_type": "stream",
     "text": [
      "Added ACS summary for Saturday - 2022-12-03\n",
      "could not get metrolink feed on 2022-12-04!\n",
      "[Sunday] trips found: 62855\n"
     ]
    },
    {
     "name": "stderr",
     "output_type": "stream",
     "text": [
      "/opt/conda/lib/python3.11/site-packages/sqlalchemy_bigquery/_types.py:101: SAWarning: Did not recognize type 'INTERVAL' of column 'arrival_time_interval'\n",
      "  sqlalchemy.util.warn(\n",
      "/opt/conda/lib/python3.11/site-packages/sqlalchemy_bigquery/_types.py:101: SAWarning: Did not recognize type 'INTERVAL' of column 'departure_time_interval'\n",
      "  sqlalchemy.util.warn(\n",
      "/opt/conda/lib/python3.11/site-packages/sqlalchemy_bigquery/_types.py:101: SAWarning: Did not recognize type 'INTERVAL' of column 'start_pickup_drop_off_window_interval'\n",
      "  sqlalchemy.util.warn(\n",
      "/opt/conda/lib/python3.11/site-packages/sqlalchemy_bigquery/_types.py:101: SAWarning: Did not recognize type 'INTERVAL' of column 'end_pickup_drop_off_window_interval'\n",
      "  sqlalchemy.util.warn(\n",
      "/opt/conda/lib/python3.11/site-packages/pandas/core/tools/datetimes.py:557: RuntimeWarning: invalid value encountered in cast\n",
      "  arr, tz_parsed = tslib.array_with_unit_to_datetime(arg, unit, errors=errors)\n",
      "/opt/conda/lib/python3.11/site-packages/pandas/core/tools/datetimes.py:557: RuntimeWarning: invalid value encountered in cast\n",
      "  arr, tz_parsed = tslib.array_with_unit_to_datetime(arg, unit, errors=errors)\n"
     ]
    },
    {
     "name": "stdout",
     "output_type": "stream",
     "text": [
      "[Sunday] stop times found: 2162556\n"
     ]
    },
    {
     "name": "stderr",
     "output_type": "stream",
     "text": [
      "/opt/conda/lib/python3.11/site-packages/sqlalchemy_bigquery/_types.py:101: SAWarning: Did not recognize type 'GEOGRAPHY' of column 'pt_geom'\n",
      "  sqlalchemy.util.warn(\n"
     ]
    },
    {
     "name": "stdout",
     "output_type": "stream",
     "text": [
      "Added ACS summary for Sunday - 2022-12-04\n",
      "Final ACS summary has 217715 rows across 3 day types.\n"
     ]
    }
   ],
   "source": [
    "# List of tuples with (day_type, analysis_date)\n",
    "daytype_dates = [\n",
    "    (\"Weekday\", analysis_wkd),\n",
    "    (\"Saturday\", analysis_sat),\n",
    "    (\"Sunday\", analysis_sun)\n",
    "]\n",
    "\n",
    "all_acs_summaries = []\n",
    "\n",
    "for day_type, analysis_dt in daytype_dates:   \n",
    "    # Step 1: Get trips/stop-level data\n",
    "    stoptimes_geo = feed_trips_data_summary(day_type, analysis_dt)\n",
    "\n",
    "    if stoptimes_geo.empty:\n",
    "        print(f\"No stoptimes data for {day_type} - {analysis_dt}\")\n",
    "        continue\n",
    "\n",
    "    # Step 2: ACS Spatial Join\n",
    "    acs_summary = stops_geo_acs_summary(stoptimes_geo, acs_ca)\n",
    "\n",
    "    if not acs_summary.empty:\n",
    "        all_acs_summaries.append(acs_summary)\n",
    "        print(f\"Added ACS summary for {day_type} - {analysis_dt}\")\n",
    "    else:\n",
    "        print(f\"No ACS data for {day_type} - {analysis_dt}\")\n",
    "\n",
    "# Combine into one final DataFrame\n",
    "final_acs_summary = pd.concat(all_acs_summaries, ignore_index=True)\n",
    "\n",
    "print(f\"Final ACS summary has {len(final_acs_summary)} rows across {final_acs_summary['daytype'].nunique()} day types.\")\n"
   ]
  },
  {
   "cell_type": "code",
   "execution_count": 26,
   "id": "b43131f0-db40-4ced-bc43-74b0a7b10107",
   "metadata": {
    "tags": []
   },
   "outputs": [],
   "source": [
    "fs_list = fs.ls(f\"{GCS_FILE_PATH}tool_data_2025/\")"
   ]
  },
  {
   "cell_type": "code",
   "execution_count": 27,
   "id": "1703db60-e87f-419a-82d7-ebeb13205d97",
   "metadata": {
    "tags": []
   },
   "outputs": [],
   "source": [
    "ran_operators = []\n",
    "for path in fs_list:\n",
    "    try:\n",
    "        if path.endswith(\".parquet\"):\n",
    "            key = int(path.split(\"tool_data_2025/\")[1].split(\"_\")[2].split(\".\")[0])\n",
    "            ran_operators.append(key)\n",
    "    except (IndexError, ValueError):\n",
    "        continue"
   ]
  },
  {
   "cell_type": "code",
   "execution_count": 28,
   "id": "2b3dec4e-32a4-4df7-82e7-5caf3553a1d9",
   "metadata": {
    "collapsed": true,
    "jupyter": {
     "outputs_hidden": true
    },
    "tags": []
   },
   "outputs": [
    {
     "name": "stdout",
     "output_type": "stream",
     "text": [
      "processing schedule_key c9e7bedaaf50176c71d1cc267a5171a1\n",
      "No data for c9e7bedaaf50176c71d1cc267a5171a1\n",
      "processing schedule_key e1099a4938e0279f09d5bbc10a1702a4\n",
      "[Weekday] schedule_key: e1099a4938e0279f09d5bbc10a1702a4, feed_keys found: ['ef1f0da66bb00384c69f8102a1f9ae7a']\n",
      "could not get metrolink feed on 2022-11-30!\n",
      "[Weekday] schedule_key: e1099a4938e0279f09d5bbc10a1702a4, trips found: 29\n"
     ]
    },
    {
     "name": "stderr",
     "output_type": "stream",
     "text": [
      "/opt/conda/lib/python3.11/site-packages/sqlalchemy_bigquery/_types.py:101: SAWarning: Did not recognize type 'INTERVAL' of column 'arrival_time_interval'\n",
      "  sqlalchemy.util.warn(\n",
      "/opt/conda/lib/python3.11/site-packages/sqlalchemy_bigquery/_types.py:101: SAWarning: Did not recognize type 'INTERVAL' of column 'departure_time_interval'\n",
      "  sqlalchemy.util.warn(\n",
      "/opt/conda/lib/python3.11/site-packages/sqlalchemy_bigquery/_types.py:101: SAWarning: Did not recognize type 'INTERVAL' of column 'start_pickup_drop_off_window_interval'\n",
      "  sqlalchemy.util.warn(\n",
      "/opt/conda/lib/python3.11/site-packages/sqlalchemy_bigquery/_types.py:101: SAWarning: Did not recognize type 'INTERVAL' of column 'end_pickup_drop_off_window_interval'\n",
      "  sqlalchemy.util.warn(\n",
      "/opt/conda/lib/python3.11/site-packages/pandas/core/tools/datetimes.py:557: RuntimeWarning: invalid value encountered in cast\n",
      "  arr, tz_parsed = tslib.array_with_unit_to_datetime(arg, unit, errors=errors)\n",
      "/opt/conda/lib/python3.11/site-packages/pandas/core/tools/datetimes.py:557: RuntimeWarning: invalid value encountered in cast\n",
      "  arr, tz_parsed = tslib.array_with_unit_to_datetime(arg, unit, errors=errors)\n",
      "/opt/conda/lib/python3.11/site-packages/sqlalchemy_bigquery/_types.py:101: SAWarning: Did not recognize type 'GEOGRAPHY' of column 'pt_geom'\n",
      "  sqlalchemy.util.warn(\n"
     ]
    },
    {
     "name": "stdout",
     "output_type": "stream",
     "text": [
      "[Weekday] schedule_key: e1099a4938e0279f09d5bbc10a1702a4, stop times found: 668\n",
      "[Saturday] schedule_key: e1099a4938e0279f09d5bbc10a1702a4, feed_keys found: ['ef1f0da66bb00384c69f8102a1f9ae7a']\n",
      "could not get metrolink feed on 2022-12-03!\n",
      "[Saturday] schedule_key: e1099a4938e0279f09d5bbc10a1702a4, trips found: 0\n",
      "[Sunday] schedule_key: e1099a4938e0279f09d5bbc10a1702a4, feed_keys found: ['ef1f0da66bb00384c69f8102a1f9ae7a']\n",
      "could not get metrolink feed on 2022-12-04!\n",
      "[Sunday] schedule_key: e1099a4938e0279f09d5bbc10a1702a4, trips found: 0\n",
      "Saved results to gs://calitp-analytics-data/data-analyses/ahsc_grant/tool_data_2025/trips_perstop_e1099a4938e0279f09d5bbc10a1702a4.parquet\n",
      "processing schedule_key a89252857dd2ba8e9b701f1819cae364\n",
      "No data for a89252857dd2ba8e9b701f1819cae364\n",
      "processing schedule_key 8bb9a39aaf1fb807ce855b26708155f5\n",
      "No data for 8bb9a39aaf1fb807ce855b26708155f5\n",
      "processing schedule_key 6759e4b8ac7ec68488e0a78f3311c71e\n",
      "[Weekday] schedule_key: 6759e4b8ac7ec68488e0a78f3311c71e, feed_keys found: ['5f4bbd69d5e159fc73207fdd16c6f637']\n",
      "could not get metrolink feed on 2022-11-30!\n",
      "[Weekday] schedule_key: 6759e4b8ac7ec68488e0a78f3311c71e, trips found: 430\n"
     ]
    },
    {
     "name": "stderr",
     "output_type": "stream",
     "text": [
      "/opt/conda/lib/python3.11/site-packages/sqlalchemy_bigquery/_types.py:101: SAWarning: Did not recognize type 'INTERVAL' of column 'arrival_time_interval'\n",
      "  sqlalchemy.util.warn(\n",
      "/opt/conda/lib/python3.11/site-packages/sqlalchemy_bigquery/_types.py:101: SAWarning: Did not recognize type 'INTERVAL' of column 'departure_time_interval'\n",
      "  sqlalchemy.util.warn(\n",
      "/opt/conda/lib/python3.11/site-packages/sqlalchemy_bigquery/_types.py:101: SAWarning: Did not recognize type 'INTERVAL' of column 'start_pickup_drop_off_window_interval'\n",
      "  sqlalchemy.util.warn(\n",
      "/opt/conda/lib/python3.11/site-packages/sqlalchemy_bigquery/_types.py:101: SAWarning: Did not recognize type 'INTERVAL' of column 'end_pickup_drop_off_window_interval'\n",
      "  sqlalchemy.util.warn(\n"
     ]
    },
    {
     "name": "stdout",
     "output_type": "stream",
     "text": [
      "[Weekday] schedule_key: 6759e4b8ac7ec68488e0a78f3311c71e, stop times found: 9394\n"
     ]
    },
    {
     "name": "stderr",
     "output_type": "stream",
     "text": [
      "/opt/conda/lib/python3.11/site-packages/sqlalchemy_bigquery/_types.py:101: SAWarning: Did not recognize type 'GEOGRAPHY' of column 'pt_geom'\n",
      "  sqlalchemy.util.warn(\n"
     ]
    },
    {
     "name": "stdout",
     "output_type": "stream",
     "text": [
      "[Saturday] schedule_key: 6759e4b8ac7ec68488e0a78f3311c71e, feed_keys found: ['5f4bbd69d5e159fc73207fdd16c6f637']\n",
      "could not get metrolink feed on 2022-12-03!\n",
      "[Saturday] schedule_key: 6759e4b8ac7ec68488e0a78f3311c71e, trips found: 176\n"
     ]
    },
    {
     "name": "stderr",
     "output_type": "stream",
     "text": [
      "/opt/conda/lib/python3.11/site-packages/sqlalchemy_bigquery/_types.py:101: SAWarning: Did not recognize type 'INTERVAL' of column 'arrival_time_interval'\n",
      "  sqlalchemy.util.warn(\n",
      "/opt/conda/lib/python3.11/site-packages/sqlalchemy_bigquery/_types.py:101: SAWarning: Did not recognize type 'INTERVAL' of column 'departure_time_interval'\n",
      "  sqlalchemy.util.warn(\n",
      "/opt/conda/lib/python3.11/site-packages/sqlalchemy_bigquery/_types.py:101: SAWarning: Did not recognize type 'INTERVAL' of column 'start_pickup_drop_off_window_interval'\n",
      "  sqlalchemy.util.warn(\n",
      "/opt/conda/lib/python3.11/site-packages/sqlalchemy_bigquery/_types.py:101: SAWarning: Did not recognize type 'INTERVAL' of column 'end_pickup_drop_off_window_interval'\n",
      "  sqlalchemy.util.warn(\n"
     ]
    },
    {
     "name": "stdout",
     "output_type": "stream",
     "text": [
      "[Saturday] schedule_key: 6759e4b8ac7ec68488e0a78f3311c71e, stop times found: 4370\n"
     ]
    },
    {
     "name": "stderr",
     "output_type": "stream",
     "text": [
      "/opt/conda/lib/python3.11/site-packages/sqlalchemy_bigquery/_types.py:101: SAWarning: Did not recognize type 'GEOGRAPHY' of column 'pt_geom'\n",
      "  sqlalchemy.util.warn(\n"
     ]
    },
    {
     "name": "stdout",
     "output_type": "stream",
     "text": [
      "[Sunday] schedule_key: 6759e4b8ac7ec68488e0a78f3311c71e, feed_keys found: ['5f4bbd69d5e159fc73207fdd16c6f637']\n",
      "could not get metrolink feed on 2022-12-04!\n",
      "[Sunday] schedule_key: 6759e4b8ac7ec68488e0a78f3311c71e, trips found: 10\n"
     ]
    },
    {
     "name": "stderr",
     "output_type": "stream",
     "text": [
      "/opt/conda/lib/python3.11/site-packages/sqlalchemy_bigquery/_types.py:101: SAWarning: Did not recognize type 'INTERVAL' of column 'arrival_time_interval'\n",
      "  sqlalchemy.util.warn(\n",
      "/opt/conda/lib/python3.11/site-packages/sqlalchemy_bigquery/_types.py:101: SAWarning: Did not recognize type 'INTERVAL' of column 'departure_time_interval'\n",
      "  sqlalchemy.util.warn(\n",
      "/opt/conda/lib/python3.11/site-packages/sqlalchemy_bigquery/_types.py:101: SAWarning: Did not recognize type 'INTERVAL' of column 'start_pickup_drop_off_window_interval'\n",
      "  sqlalchemy.util.warn(\n",
      "/opt/conda/lib/python3.11/site-packages/sqlalchemy_bigquery/_types.py:101: SAWarning: Did not recognize type 'INTERVAL' of column 'end_pickup_drop_off_window_interval'\n",
      "  sqlalchemy.util.warn(\n"
     ]
    },
    {
     "name": "stdout",
     "output_type": "stream",
     "text": [
      "[Sunday] schedule_key: 6759e4b8ac7ec68488e0a78f3311c71e, stop times found: 310\n"
     ]
    },
    {
     "name": "stderr",
     "output_type": "stream",
     "text": [
      "/opt/conda/lib/python3.11/site-packages/sqlalchemy_bigquery/_types.py:101: SAWarning: Did not recognize type 'GEOGRAPHY' of column 'pt_geom'\n",
      "  sqlalchemy.util.warn(\n"
     ]
    },
    {
     "name": "stdout",
     "output_type": "stream",
     "text": [
      "Saved results to gs://calitp-analytics-data/data-analyses/ahsc_grant/tool_data_2025/trips_perstop_6759e4b8ac7ec68488e0a78f3311c71e.parquet\n",
      "processing schedule_key dc43392d94cd150ef7d82532d47473b5\n",
      "[Weekday] schedule_key: dc43392d94cd150ef7d82532d47473b5, feed_keys found: ['96e7ed076c32a5c44961c4dc84474031']\n",
      "could not get metrolink feed on 2022-11-30!\n",
      "[Weekday] schedule_key: dc43392d94cd150ef7d82532d47473b5, trips found: 36\n"
     ]
    },
    {
     "name": "stderr",
     "output_type": "stream",
     "text": [
      "/opt/conda/lib/python3.11/site-packages/sqlalchemy_bigquery/_types.py:101: SAWarning: Did not recognize type 'INTERVAL' of column 'arrival_time_interval'\n",
      "  sqlalchemy.util.warn(\n",
      "/opt/conda/lib/python3.11/site-packages/sqlalchemy_bigquery/_types.py:101: SAWarning: Did not recognize type 'INTERVAL' of column 'departure_time_interval'\n",
      "  sqlalchemy.util.warn(\n",
      "/opt/conda/lib/python3.11/site-packages/sqlalchemy_bigquery/_types.py:101: SAWarning: Did not recognize type 'INTERVAL' of column 'start_pickup_drop_off_window_interval'\n",
      "  sqlalchemy.util.warn(\n",
      "/opt/conda/lib/python3.11/site-packages/sqlalchemy_bigquery/_types.py:101: SAWarning: Did not recognize type 'INTERVAL' of column 'end_pickup_drop_off_window_interval'\n",
      "  sqlalchemy.util.warn(\n"
     ]
    },
    {
     "name": "stdout",
     "output_type": "stream",
     "text": [
      "[Weekday] schedule_key: dc43392d94cd150ef7d82532d47473b5, stop times found: 287\n"
     ]
    },
    {
     "name": "stderr",
     "output_type": "stream",
     "text": [
      "/opt/conda/lib/python3.11/site-packages/sqlalchemy_bigquery/_types.py:101: SAWarning: Did not recognize type 'GEOGRAPHY' of column 'pt_geom'\n",
      "  sqlalchemy.util.warn(\n"
     ]
    },
    {
     "name": "stdout",
     "output_type": "stream",
     "text": [
      "[Saturday] schedule_key: dc43392d94cd150ef7d82532d47473b5, feed_keys found: ['96e7ed076c32a5c44961c4dc84474031']\n",
      "could not get metrolink feed on 2022-12-03!\n",
      "[Saturday] schedule_key: dc43392d94cd150ef7d82532d47473b5, trips found: 14\n"
     ]
    },
    {
     "name": "stderr",
     "output_type": "stream",
     "text": [
      "/opt/conda/lib/python3.11/site-packages/sqlalchemy_bigquery/_types.py:101: SAWarning: Did not recognize type 'INTERVAL' of column 'arrival_time_interval'\n",
      "  sqlalchemy.util.warn(\n",
      "/opt/conda/lib/python3.11/site-packages/sqlalchemy_bigquery/_types.py:101: SAWarning: Did not recognize type 'INTERVAL' of column 'departure_time_interval'\n",
      "  sqlalchemy.util.warn(\n",
      "/opt/conda/lib/python3.11/site-packages/sqlalchemy_bigquery/_types.py:101: SAWarning: Did not recognize type 'INTERVAL' of column 'start_pickup_drop_off_window_interval'\n",
      "  sqlalchemy.util.warn(\n",
      "/opt/conda/lib/python3.11/site-packages/sqlalchemy_bigquery/_types.py:101: SAWarning: Did not recognize type 'INTERVAL' of column 'end_pickup_drop_off_window_interval'\n",
      "  sqlalchemy.util.warn(\n"
     ]
    },
    {
     "name": "stdout",
     "output_type": "stream",
     "text": [
      "[Saturday] schedule_key: dc43392d94cd150ef7d82532d47473b5, stop times found: 99\n"
     ]
    },
    {
     "name": "stderr",
     "output_type": "stream",
     "text": [
      "/opt/conda/lib/python3.11/site-packages/sqlalchemy_bigquery/_types.py:101: SAWarning: Did not recognize type 'GEOGRAPHY' of column 'pt_geom'\n",
      "  sqlalchemy.util.warn(\n"
     ]
    },
    {
     "name": "stdout",
     "output_type": "stream",
     "text": [
      "[Sunday] schedule_key: dc43392d94cd150ef7d82532d47473b5, feed_keys found: ['96e7ed076c32a5c44961c4dc84474031']\n",
      "could not get metrolink feed on 2022-12-04!\n",
      "[Sunday] schedule_key: dc43392d94cd150ef7d82532d47473b5, trips found: 0\n",
      "Saved results to gs://calitp-analytics-data/data-analyses/ahsc_grant/tool_data_2025/trips_perstop_dc43392d94cd150ef7d82532d47473b5.parquet\n",
      "processing schedule_key b2e017da29d29128f5b751b88973e802\n",
      "No data for b2e017da29d29128f5b751b88973e802\n",
      "processing schedule_key 67fed5ea276f34a1a6bf6eab72f6f1b8\n",
      "[Weekday] schedule_key: 67fed5ea276f34a1a6bf6eab72f6f1b8, feed_keys found: ['f802599e8e8c5ffb629665c602c7cb99']\n",
      "could not get metrolink feed on 2022-11-30!\n",
      "[Weekday] schedule_key: 67fed5ea276f34a1a6bf6eab72f6f1b8, trips found: 0\n",
      "[Saturday] schedule_key: 67fed5ea276f34a1a6bf6eab72f6f1b8, feed_keys found: ['f802599e8e8c5ffb629665c602c7cb99']\n",
      "could not get metrolink feed on 2022-12-03!\n",
      "[Saturday] schedule_key: 67fed5ea276f34a1a6bf6eab72f6f1b8, trips found: 0\n",
      "[Sunday] schedule_key: 67fed5ea276f34a1a6bf6eab72f6f1b8, feed_keys found: ['f802599e8e8c5ffb629665c602c7cb99']\n",
      "could not get metrolink feed on 2022-12-04!\n",
      "[Sunday] schedule_key: 67fed5ea276f34a1a6bf6eab72f6f1b8, trips found: 0\n",
      "No data for 67fed5ea276f34a1a6bf6eab72f6f1b8\n",
      "processing schedule_key dee978489716448716c2eb963096d84e\n",
      "[Weekday] schedule_key: dee978489716448716c2eb963096d84e, feed_keys found: ['3aae630bc2091f6e454a257ac1f3cf93']\n",
      "could not get metrolink feed on 2022-11-30!\n",
      "[Weekday] schedule_key: dee978489716448716c2eb963096d84e, trips found: 0\n",
      "[Saturday] schedule_key: dee978489716448716c2eb963096d84e, feed_keys found: ['3aae630bc2091f6e454a257ac1f3cf93']\n",
      "could not get metrolink feed on 2022-12-03!\n",
      "[Saturday] schedule_key: dee978489716448716c2eb963096d84e, trips found: 0\n",
      "[Sunday] schedule_key: dee978489716448716c2eb963096d84e, feed_keys found: ['3aae630bc2091f6e454a257ac1f3cf93']\n",
      "could not get metrolink feed on 2022-12-04!\n",
      "[Sunday] schedule_key: dee978489716448716c2eb963096d84e, trips found: 0\n",
      "No data for dee978489716448716c2eb963096d84e\n",
      "processing schedule_key 49e9e57a0c0702b8da9f7d60d4de548c\n",
      "[Weekday] schedule_key: 49e9e57a0c0702b8da9f7d60d4de548c, feed_keys found: ['e3b2e82362534c6c1fa1229952c30dbd']\n",
      "could not get metrolink feed on 2022-11-30!\n",
      "[Weekday] schedule_key: 49e9e57a0c0702b8da9f7d60d4de548c, trips found: 13\n"
     ]
    },
    {
     "name": "stderr",
     "output_type": "stream",
     "text": [
      "/opt/conda/lib/python3.11/site-packages/sqlalchemy_bigquery/_types.py:101: SAWarning: Did not recognize type 'INTERVAL' of column 'arrival_time_interval'\n",
      "  sqlalchemy.util.warn(\n",
      "/opt/conda/lib/python3.11/site-packages/sqlalchemy_bigquery/_types.py:101: SAWarning: Did not recognize type 'INTERVAL' of column 'departure_time_interval'\n",
      "  sqlalchemy.util.warn(\n",
      "/opt/conda/lib/python3.11/site-packages/sqlalchemy_bigquery/_types.py:101: SAWarning: Did not recognize type 'INTERVAL' of column 'start_pickup_drop_off_window_interval'\n",
      "  sqlalchemy.util.warn(\n",
      "/opt/conda/lib/python3.11/site-packages/sqlalchemy_bigquery/_types.py:101: SAWarning: Did not recognize type 'INTERVAL' of column 'end_pickup_drop_off_window_interval'\n",
      "  sqlalchemy.util.warn(\n"
     ]
    },
    {
     "name": "stdout",
     "output_type": "stream",
     "text": [
      "[Weekday] schedule_key: 49e9e57a0c0702b8da9f7d60d4de548c, stop times found: 221\n"
     ]
    },
    {
     "name": "stderr",
     "output_type": "stream",
     "text": [
      "/opt/conda/lib/python3.11/site-packages/sqlalchemy_bigquery/_types.py:101: SAWarning: Did not recognize type 'GEOGRAPHY' of column 'pt_geom'\n",
      "  sqlalchemy.util.warn(\n"
     ]
    },
    {
     "name": "stdout",
     "output_type": "stream",
     "text": [
      "[Saturday] schedule_key: 49e9e57a0c0702b8da9f7d60d4de548c, feed_keys found: ['e3b2e82362534c6c1fa1229952c30dbd']\n",
      "could not get metrolink feed on 2022-12-03!\n",
      "[Saturday] schedule_key: 49e9e57a0c0702b8da9f7d60d4de548c, trips found: 13\n"
     ]
    },
    {
     "name": "stderr",
     "output_type": "stream",
     "text": [
      "/opt/conda/lib/python3.11/site-packages/sqlalchemy_bigquery/_types.py:101: SAWarning: Did not recognize type 'INTERVAL' of column 'arrival_time_interval'\n",
      "  sqlalchemy.util.warn(\n",
      "/opt/conda/lib/python3.11/site-packages/sqlalchemy_bigquery/_types.py:101: SAWarning: Did not recognize type 'INTERVAL' of column 'departure_time_interval'\n",
      "  sqlalchemy.util.warn(\n",
      "/opt/conda/lib/python3.11/site-packages/sqlalchemy_bigquery/_types.py:101: SAWarning: Did not recognize type 'INTERVAL' of column 'start_pickup_drop_off_window_interval'\n",
      "  sqlalchemy.util.warn(\n",
      "/opt/conda/lib/python3.11/site-packages/sqlalchemy_bigquery/_types.py:101: SAWarning: Did not recognize type 'INTERVAL' of column 'end_pickup_drop_off_window_interval'\n",
      "  sqlalchemy.util.warn(\n"
     ]
    },
    {
     "name": "stdout",
     "output_type": "stream",
     "text": [
      "[Saturday] schedule_key: 49e9e57a0c0702b8da9f7d60d4de548c, stop times found: 221\n"
     ]
    },
    {
     "name": "stderr",
     "output_type": "stream",
     "text": [
      "/opt/conda/lib/python3.11/site-packages/sqlalchemy_bigquery/_types.py:101: SAWarning: Did not recognize type 'GEOGRAPHY' of column 'pt_geom'\n",
      "  sqlalchemy.util.warn(\n"
     ]
    },
    {
     "name": "stdout",
     "output_type": "stream",
     "text": [
      "[Sunday] schedule_key: 49e9e57a0c0702b8da9f7d60d4de548c, feed_keys found: ['e3b2e82362534c6c1fa1229952c30dbd']\n",
      "could not get metrolink feed on 2022-12-04!\n",
      "[Sunday] schedule_key: 49e9e57a0c0702b8da9f7d60d4de548c, trips found: 13\n"
     ]
    },
    {
     "name": "stderr",
     "output_type": "stream",
     "text": [
      "/opt/conda/lib/python3.11/site-packages/sqlalchemy_bigquery/_types.py:101: SAWarning: Did not recognize type 'INTERVAL' of column 'arrival_time_interval'\n",
      "  sqlalchemy.util.warn(\n",
      "/opt/conda/lib/python3.11/site-packages/sqlalchemy_bigquery/_types.py:101: SAWarning: Did not recognize type 'INTERVAL' of column 'departure_time_interval'\n",
      "  sqlalchemy.util.warn(\n",
      "/opt/conda/lib/python3.11/site-packages/sqlalchemy_bigquery/_types.py:101: SAWarning: Did not recognize type 'INTERVAL' of column 'start_pickup_drop_off_window_interval'\n",
      "  sqlalchemy.util.warn(\n",
      "/opt/conda/lib/python3.11/site-packages/sqlalchemy_bigquery/_types.py:101: SAWarning: Did not recognize type 'INTERVAL' of column 'end_pickup_drop_off_window_interval'\n",
      "  sqlalchemy.util.warn(\n"
     ]
    },
    {
     "name": "stdout",
     "output_type": "stream",
     "text": [
      "[Sunday] schedule_key: 49e9e57a0c0702b8da9f7d60d4de548c, stop times found: 221\n"
     ]
    },
    {
     "name": "stderr",
     "output_type": "stream",
     "text": [
      "/opt/conda/lib/python3.11/site-packages/sqlalchemy_bigquery/_types.py:101: SAWarning: Did not recognize type 'GEOGRAPHY' of column 'pt_geom'\n",
      "  sqlalchemy.util.warn(\n"
     ]
    },
    {
     "name": "stdout",
     "output_type": "stream",
     "text": [
      "Saved results to gs://calitp-analytics-data/data-analyses/ahsc_grant/tool_data_2025/trips_perstop_49e9e57a0c0702b8da9f7d60d4de548c.parquet\n",
      "processing schedule_key 63c78c92a453e2958839c457b021ccc6\n",
      "No data for 63c78c92a453e2958839c457b021ccc6\n",
      "processing schedule_key 7bffbe22387190146e2ffcc9a99a351b\n",
      "No data for 7bffbe22387190146e2ffcc9a99a351b\n",
      "processing schedule_key 2de8cdbe0824a8c3492ede113a01259f\n",
      "[Weekday] schedule_key: 2de8cdbe0824a8c3492ede113a01259f, feed_keys found: ['a36b5fe137aebcda3ac5602fce82d7ab']\n",
      "could not get metrolink feed on 2022-11-30!\n",
      "[Weekday] schedule_key: 2de8cdbe0824a8c3492ede113a01259f, trips found: 51\n"
     ]
    },
    {
     "name": "stderr",
     "output_type": "stream",
     "text": [
      "/opt/conda/lib/python3.11/site-packages/sqlalchemy_bigquery/_types.py:101: SAWarning: Did not recognize type 'INTERVAL' of column 'arrival_time_interval'\n",
      "  sqlalchemy.util.warn(\n",
      "/opt/conda/lib/python3.11/site-packages/sqlalchemy_bigquery/_types.py:101: SAWarning: Did not recognize type 'INTERVAL' of column 'departure_time_interval'\n",
      "  sqlalchemy.util.warn(\n",
      "/opt/conda/lib/python3.11/site-packages/sqlalchemy_bigquery/_types.py:101: SAWarning: Did not recognize type 'INTERVAL' of column 'start_pickup_drop_off_window_interval'\n",
      "  sqlalchemy.util.warn(\n",
      "/opt/conda/lib/python3.11/site-packages/sqlalchemy_bigquery/_types.py:101: SAWarning: Did not recognize type 'INTERVAL' of column 'end_pickup_drop_off_window_interval'\n",
      "  sqlalchemy.util.warn(\n",
      "/opt/conda/lib/python3.11/site-packages/pandas/core/tools/datetimes.py:557: RuntimeWarning: invalid value encountered in cast\n",
      "  arr, tz_parsed = tslib.array_with_unit_to_datetime(arg, unit, errors=errors)\n",
      "/opt/conda/lib/python3.11/site-packages/pandas/core/tools/datetimes.py:557: RuntimeWarning: invalid value encountered in cast\n",
      "  arr, tz_parsed = tslib.array_with_unit_to_datetime(arg, unit, errors=errors)\n",
      "/opt/conda/lib/python3.11/site-packages/sqlalchemy_bigquery/_types.py:101: SAWarning: Did not recognize type 'GEOGRAPHY' of column 'pt_geom'\n",
      "  sqlalchemy.util.warn(\n"
     ]
    },
    {
     "name": "stdout",
     "output_type": "stream",
     "text": [
      "[Weekday] schedule_key: 2de8cdbe0824a8c3492ede113a01259f, stop times found: 2339\n",
      "[Saturday] schedule_key: 2de8cdbe0824a8c3492ede113a01259f, feed_keys found: ['a36b5fe137aebcda3ac5602fce82d7ab']\n",
      "could not get metrolink feed on 2022-12-03!\n",
      "[Saturday] schedule_key: 2de8cdbe0824a8c3492ede113a01259f, trips found: 30\n"
     ]
    },
    {
     "name": "stderr",
     "output_type": "stream",
     "text": [
      "/opt/conda/lib/python3.11/site-packages/sqlalchemy_bigquery/_types.py:101: SAWarning: Did not recognize type 'INTERVAL' of column 'arrival_time_interval'\n",
      "  sqlalchemy.util.warn(\n",
      "/opt/conda/lib/python3.11/site-packages/sqlalchemy_bigquery/_types.py:101: SAWarning: Did not recognize type 'INTERVAL' of column 'departure_time_interval'\n",
      "  sqlalchemy.util.warn(\n",
      "/opt/conda/lib/python3.11/site-packages/sqlalchemy_bigquery/_types.py:101: SAWarning: Did not recognize type 'INTERVAL' of column 'start_pickup_drop_off_window_interval'\n",
      "  sqlalchemy.util.warn(\n",
      "/opt/conda/lib/python3.11/site-packages/sqlalchemy_bigquery/_types.py:101: SAWarning: Did not recognize type 'INTERVAL' of column 'end_pickup_drop_off_window_interval'\n",
      "  sqlalchemy.util.warn(\n",
      "/opt/conda/lib/python3.11/site-packages/pandas/core/tools/datetimes.py:557: RuntimeWarning: invalid value encountered in cast\n",
      "  arr, tz_parsed = tslib.array_with_unit_to_datetime(arg, unit, errors=errors)\n",
      "/opt/conda/lib/python3.11/site-packages/pandas/core/tools/datetimes.py:557: RuntimeWarning: invalid value encountered in cast\n",
      "  arr, tz_parsed = tslib.array_with_unit_to_datetime(arg, unit, errors=errors)\n",
      "/opt/conda/lib/python3.11/site-packages/sqlalchemy_bigquery/_types.py:101: SAWarning: Did not recognize type 'GEOGRAPHY' of column 'pt_geom'\n",
      "  sqlalchemy.util.warn(\n"
     ]
    },
    {
     "name": "stdout",
     "output_type": "stream",
     "text": [
      "[Saturday] schedule_key: 2de8cdbe0824a8c3492ede113a01259f, stop times found: 1394\n",
      "[Sunday] schedule_key: 2de8cdbe0824a8c3492ede113a01259f, feed_keys found: ['a36b5fe137aebcda3ac5602fce82d7ab']\n",
      "could not get metrolink feed on 2022-12-04!\n",
      "[Sunday] schedule_key: 2de8cdbe0824a8c3492ede113a01259f, trips found: 0\n",
      "Saved results to gs://calitp-analytics-data/data-analyses/ahsc_grant/tool_data_2025/trips_perstop_2de8cdbe0824a8c3492ede113a01259f.parquet\n",
      "processing schedule_key 955f12864cc57e715ded1d924ad1fd81\n",
      "[Weekday] schedule_key: 955f12864cc57e715ded1d924ad1fd81, feed_keys found: ['b4ba547aae737d9c01a2ae3daa389319']\n",
      "could not get metrolink feed on 2022-11-30!\n",
      "[Weekday] schedule_key: 955f12864cc57e715ded1d924ad1fd81, trips found: 0\n",
      "[Saturday] schedule_key: 955f12864cc57e715ded1d924ad1fd81, feed_keys found: ['b4ba547aae737d9c01a2ae3daa389319']\n",
      "could not get metrolink feed on 2022-12-03!\n",
      "[Saturday] schedule_key: 955f12864cc57e715ded1d924ad1fd81, trips found: 0\n",
      "[Sunday] schedule_key: 955f12864cc57e715ded1d924ad1fd81, feed_keys found: ['b4ba547aae737d9c01a2ae3daa389319']\n",
      "could not get metrolink feed on 2022-12-04!\n",
      "[Sunday] schedule_key: 955f12864cc57e715ded1d924ad1fd81, trips found: 0\n",
      "No data for 955f12864cc57e715ded1d924ad1fd81\n",
      "processing schedule_key c25258ef8c70153af1c4c87d02b18318\n",
      "No data for c25258ef8c70153af1c4c87d02b18318\n",
      "processing schedule_key ce0fb8d408a26e5cb5d484e9e537e284\n",
      "No data for ce0fb8d408a26e5cb5d484e9e537e284\n",
      "processing schedule_key a76a4dee26bcf6f5a6d7ce2808efc719\n",
      "[Weekday] schedule_key: a76a4dee26bcf6f5a6d7ce2808efc719, feed_keys found: ['caa42136b1c187facbc253a8b50b86c6']\n",
      "could not get metrolink feed on 2022-11-30!\n",
      "[Weekday] schedule_key: a76a4dee26bcf6f5a6d7ce2808efc719, trips found: 112\n"
     ]
    },
    {
     "name": "stderr",
     "output_type": "stream",
     "text": [
      "/opt/conda/lib/python3.11/site-packages/sqlalchemy_bigquery/_types.py:101: SAWarning: Did not recognize type 'INTERVAL' of column 'arrival_time_interval'\n",
      "  sqlalchemy.util.warn(\n",
      "/opt/conda/lib/python3.11/site-packages/sqlalchemy_bigquery/_types.py:101: SAWarning: Did not recognize type 'INTERVAL' of column 'departure_time_interval'\n",
      "  sqlalchemy.util.warn(\n",
      "/opt/conda/lib/python3.11/site-packages/sqlalchemy_bigquery/_types.py:101: SAWarning: Did not recognize type 'INTERVAL' of column 'start_pickup_drop_off_window_interval'\n",
      "  sqlalchemy.util.warn(\n",
      "/opt/conda/lib/python3.11/site-packages/sqlalchemy_bigquery/_types.py:101: SAWarning: Did not recognize type 'INTERVAL' of column 'end_pickup_drop_off_window_interval'\n",
      "  sqlalchemy.util.warn(\n",
      "/opt/conda/lib/python3.11/site-packages/pandas/core/tools/datetimes.py:557: RuntimeWarning: invalid value encountered in cast\n",
      "  arr, tz_parsed = tslib.array_with_unit_to_datetime(arg, unit, errors=errors)\n",
      "/opt/conda/lib/python3.11/site-packages/pandas/core/tools/datetimes.py:557: RuntimeWarning: invalid value encountered in cast\n",
      "  arr, tz_parsed = tslib.array_with_unit_to_datetime(arg, unit, errors=errors)\n",
      "/opt/conda/lib/python3.11/site-packages/sqlalchemy_bigquery/_types.py:101: SAWarning: Did not recognize type 'GEOGRAPHY' of column 'pt_geom'\n",
      "  sqlalchemy.util.warn(\n"
     ]
    },
    {
     "name": "stdout",
     "output_type": "stream",
     "text": [
      "[Weekday] schedule_key: a76a4dee26bcf6f5a6d7ce2808efc719, stop times found: 3161\n",
      "[Saturday] schedule_key: a76a4dee26bcf6f5a6d7ce2808efc719, feed_keys found: ['caa42136b1c187facbc253a8b50b86c6']\n",
      "could not get metrolink feed on 2022-12-03!\n",
      "[Saturday] schedule_key: a76a4dee26bcf6f5a6d7ce2808efc719, trips found: 55\n"
     ]
    },
    {
     "name": "stderr",
     "output_type": "stream",
     "text": [
      "/opt/conda/lib/python3.11/site-packages/sqlalchemy_bigquery/_types.py:101: SAWarning: Did not recognize type 'INTERVAL' of column 'arrival_time_interval'\n",
      "  sqlalchemy.util.warn(\n",
      "/opt/conda/lib/python3.11/site-packages/sqlalchemy_bigquery/_types.py:101: SAWarning: Did not recognize type 'INTERVAL' of column 'departure_time_interval'\n",
      "  sqlalchemy.util.warn(\n",
      "/opt/conda/lib/python3.11/site-packages/sqlalchemy_bigquery/_types.py:101: SAWarning: Did not recognize type 'INTERVAL' of column 'start_pickup_drop_off_window_interval'\n",
      "  sqlalchemy.util.warn(\n",
      "/opt/conda/lib/python3.11/site-packages/sqlalchemy_bigquery/_types.py:101: SAWarning: Did not recognize type 'INTERVAL' of column 'end_pickup_drop_off_window_interval'\n",
      "  sqlalchemy.util.warn(\n",
      "/opt/conda/lib/python3.11/site-packages/pandas/core/tools/datetimes.py:557: RuntimeWarning: invalid value encountered in cast\n",
      "  arr, tz_parsed = tslib.array_with_unit_to_datetime(arg, unit, errors=errors)\n",
      "/opt/conda/lib/python3.11/site-packages/pandas/core/tools/datetimes.py:557: RuntimeWarning: invalid value encountered in cast\n",
      "  arr, tz_parsed = tslib.array_with_unit_to_datetime(arg, unit, errors=errors)\n",
      "/opt/conda/lib/python3.11/site-packages/sqlalchemy_bigquery/_types.py:101: SAWarning: Did not recognize type 'GEOGRAPHY' of column 'pt_geom'\n",
      "  sqlalchemy.util.warn(\n"
     ]
    },
    {
     "name": "stdout",
     "output_type": "stream",
     "text": [
      "[Saturday] schedule_key: a76a4dee26bcf6f5a6d7ce2808efc719, stop times found: 1947\n",
      "[Sunday] schedule_key: a76a4dee26bcf6f5a6d7ce2808efc719, feed_keys found: ['caa42136b1c187facbc253a8b50b86c6']\n",
      "could not get metrolink feed on 2022-12-04!\n",
      "[Sunday] schedule_key: a76a4dee26bcf6f5a6d7ce2808efc719, trips found: 55\n"
     ]
    },
    {
     "name": "stderr",
     "output_type": "stream",
     "text": [
      "/opt/conda/lib/python3.11/site-packages/sqlalchemy_bigquery/_types.py:101: SAWarning: Did not recognize type 'INTERVAL' of column 'arrival_time_interval'\n",
      "  sqlalchemy.util.warn(\n",
      "/opt/conda/lib/python3.11/site-packages/sqlalchemy_bigquery/_types.py:101: SAWarning: Did not recognize type 'INTERVAL' of column 'departure_time_interval'\n",
      "  sqlalchemy.util.warn(\n",
      "/opt/conda/lib/python3.11/site-packages/sqlalchemy_bigquery/_types.py:101: SAWarning: Did not recognize type 'INTERVAL' of column 'start_pickup_drop_off_window_interval'\n",
      "  sqlalchemy.util.warn(\n",
      "/opt/conda/lib/python3.11/site-packages/sqlalchemy_bigquery/_types.py:101: SAWarning: Did not recognize type 'INTERVAL' of column 'end_pickup_drop_off_window_interval'\n",
      "  sqlalchemy.util.warn(\n",
      "/opt/conda/lib/python3.11/site-packages/pandas/core/tools/datetimes.py:557: RuntimeWarning: invalid value encountered in cast\n",
      "  arr, tz_parsed = tslib.array_with_unit_to_datetime(arg, unit, errors=errors)\n",
      "/opt/conda/lib/python3.11/site-packages/pandas/core/tools/datetimes.py:557: RuntimeWarning: invalid value encountered in cast\n",
      "  arr, tz_parsed = tslib.array_with_unit_to_datetime(arg, unit, errors=errors)\n",
      "/opt/conda/lib/python3.11/site-packages/sqlalchemy_bigquery/_types.py:101: SAWarning: Did not recognize type 'GEOGRAPHY' of column 'pt_geom'\n",
      "  sqlalchemy.util.warn(\n"
     ]
    },
    {
     "name": "stdout",
     "output_type": "stream",
     "text": [
      "[Sunday] schedule_key: a76a4dee26bcf6f5a6d7ce2808efc719, stop times found: 1947\n",
      "Saved results to gs://calitp-analytics-data/data-analyses/ahsc_grant/tool_data_2025/trips_perstop_a76a4dee26bcf6f5a6d7ce2808efc719.parquet\n",
      "processing schedule_key 243e656459640c5a876c22ddf88c69dc\n",
      "No data for 243e656459640c5a876c22ddf88c69dc\n",
      "processing schedule_key fcbf5caa9db766984a12226d542a9a89\n",
      "[Weekday] schedule_key: fcbf5caa9db766984a12226d542a9a89, feed_keys found: ['9cec69200f115917c093e7498cbea838']\n",
      "could not get metrolink feed on 2022-11-30!\n",
      "[Weekday] schedule_key: fcbf5caa9db766984a12226d542a9a89, trips found: 700\n"
     ]
    },
    {
     "name": "stderr",
     "output_type": "stream",
     "text": [
      "/opt/conda/lib/python3.11/site-packages/sqlalchemy_bigquery/_types.py:101: SAWarning: Did not recognize type 'INTERVAL' of column 'arrival_time_interval'\n",
      "  sqlalchemy.util.warn(\n",
      "/opt/conda/lib/python3.11/site-packages/sqlalchemy_bigquery/_types.py:101: SAWarning: Did not recognize type 'INTERVAL' of column 'departure_time_interval'\n",
      "  sqlalchemy.util.warn(\n",
      "/opt/conda/lib/python3.11/site-packages/sqlalchemy_bigquery/_types.py:101: SAWarning: Did not recognize type 'INTERVAL' of column 'start_pickup_drop_off_window_interval'\n",
      "  sqlalchemy.util.warn(\n",
      "/opt/conda/lib/python3.11/site-packages/sqlalchemy_bigquery/_types.py:101: SAWarning: Did not recognize type 'INTERVAL' of column 'end_pickup_drop_off_window_interval'\n",
      "  sqlalchemy.util.warn(\n",
      "/opt/conda/lib/python3.11/site-packages/pandas/core/tools/datetimes.py:557: RuntimeWarning: invalid value encountered in cast\n",
      "  arr, tz_parsed = tslib.array_with_unit_to_datetime(arg, unit, errors=errors)\n",
      "/opt/conda/lib/python3.11/site-packages/pandas/core/tools/datetimes.py:557: RuntimeWarning: invalid value encountered in cast\n",
      "  arr, tz_parsed = tslib.array_with_unit_to_datetime(arg, unit, errors=errors)\n",
      "/opt/conda/lib/python3.11/site-packages/sqlalchemy_bigquery/_types.py:101: SAWarning: Did not recognize type 'GEOGRAPHY' of column 'pt_geom'\n",
      "  sqlalchemy.util.warn(\n"
     ]
    },
    {
     "name": "stdout",
     "output_type": "stream",
     "text": [
      "[Weekday] schedule_key: fcbf5caa9db766984a12226d542a9a89, stop times found: 15337\n",
      "[Saturday] schedule_key: fcbf5caa9db766984a12226d542a9a89, feed_keys found: ['9cec69200f115917c093e7498cbea838']\n",
      "could not get metrolink feed on 2022-12-03!\n",
      "[Saturday] schedule_key: fcbf5caa9db766984a12226d542a9a89, trips found: 307\n"
     ]
    },
    {
     "name": "stderr",
     "output_type": "stream",
     "text": [
      "/opt/conda/lib/python3.11/site-packages/sqlalchemy_bigquery/_types.py:101: SAWarning: Did not recognize type 'INTERVAL' of column 'arrival_time_interval'\n",
      "  sqlalchemy.util.warn(\n",
      "/opt/conda/lib/python3.11/site-packages/sqlalchemy_bigquery/_types.py:101: SAWarning: Did not recognize type 'INTERVAL' of column 'departure_time_interval'\n",
      "  sqlalchemy.util.warn(\n",
      "/opt/conda/lib/python3.11/site-packages/sqlalchemy_bigquery/_types.py:101: SAWarning: Did not recognize type 'INTERVAL' of column 'start_pickup_drop_off_window_interval'\n",
      "  sqlalchemy.util.warn(\n",
      "/opt/conda/lib/python3.11/site-packages/sqlalchemy_bigquery/_types.py:101: SAWarning: Did not recognize type 'INTERVAL' of column 'end_pickup_drop_off_window_interval'\n",
      "  sqlalchemy.util.warn(\n",
      "/opt/conda/lib/python3.11/site-packages/pandas/core/tools/datetimes.py:557: RuntimeWarning: invalid value encountered in cast\n",
      "  arr, tz_parsed = tslib.array_with_unit_to_datetime(arg, unit, errors=errors)\n",
      "/opt/conda/lib/python3.11/site-packages/pandas/core/tools/datetimes.py:557: RuntimeWarning: invalid value encountered in cast\n",
      "  arr, tz_parsed = tslib.array_with_unit_to_datetime(arg, unit, errors=errors)\n",
      "/opt/conda/lib/python3.11/site-packages/sqlalchemy_bigquery/_types.py:101: SAWarning: Did not recognize type 'GEOGRAPHY' of column 'pt_geom'\n",
      "  sqlalchemy.util.warn(\n"
     ]
    },
    {
     "name": "stdout",
     "output_type": "stream",
     "text": [
      "[Saturday] schedule_key: fcbf5caa9db766984a12226d542a9a89, stop times found: 6502\n",
      "[Sunday] schedule_key: fcbf5caa9db766984a12226d542a9a89, feed_keys found: ['9cec69200f115917c093e7498cbea838']\n",
      "could not get metrolink feed on 2022-12-04!\n",
      "[Sunday] schedule_key: fcbf5caa9db766984a12226d542a9a89, trips found: 146\n"
     ]
    },
    {
     "name": "stderr",
     "output_type": "stream",
     "text": [
      "/opt/conda/lib/python3.11/site-packages/sqlalchemy_bigquery/_types.py:101: SAWarning: Did not recognize type 'INTERVAL' of column 'arrival_time_interval'\n",
      "  sqlalchemy.util.warn(\n",
      "/opt/conda/lib/python3.11/site-packages/sqlalchemy_bigquery/_types.py:101: SAWarning: Did not recognize type 'INTERVAL' of column 'departure_time_interval'\n",
      "  sqlalchemy.util.warn(\n",
      "/opt/conda/lib/python3.11/site-packages/sqlalchemy_bigquery/_types.py:101: SAWarning: Did not recognize type 'INTERVAL' of column 'start_pickup_drop_off_window_interval'\n",
      "  sqlalchemy.util.warn(\n",
      "/opt/conda/lib/python3.11/site-packages/sqlalchemy_bigquery/_types.py:101: SAWarning: Did not recognize type 'INTERVAL' of column 'end_pickup_drop_off_window_interval'\n",
      "  sqlalchemy.util.warn(\n",
      "/opt/conda/lib/python3.11/site-packages/pandas/core/tools/datetimes.py:557: RuntimeWarning: invalid value encountered in cast\n",
      "  arr, tz_parsed = tslib.array_with_unit_to_datetime(arg, unit, errors=errors)\n",
      "/opt/conda/lib/python3.11/site-packages/pandas/core/tools/datetimes.py:557: RuntimeWarning: invalid value encountered in cast\n",
      "  arr, tz_parsed = tslib.array_with_unit_to_datetime(arg, unit, errors=errors)\n",
      "/opt/conda/lib/python3.11/site-packages/sqlalchemy_bigquery/_types.py:101: SAWarning: Did not recognize type 'GEOGRAPHY' of column 'pt_geom'\n",
      "  sqlalchemy.util.warn(\n"
     ]
    },
    {
     "name": "stdout",
     "output_type": "stream",
     "text": [
      "[Sunday] schedule_key: fcbf5caa9db766984a12226d542a9a89, stop times found: 2826\n",
      "Saved results to gs://calitp-analytics-data/data-analyses/ahsc_grant/tool_data_2025/trips_perstop_fcbf5caa9db766984a12226d542a9a89.parquet\n",
      "processing schedule_key b91a715f81f54b2eef7b01c3f0a8b37e\n",
      "[Weekday] schedule_key: b91a715f81f54b2eef7b01c3f0a8b37e, feed_keys found: ['1ef2905c0e7e664e383d3c70a3a54c4c']\n",
      "could not get metrolink feed on 2022-11-30!\n",
      "[Weekday] schedule_key: b91a715f81f54b2eef7b01c3f0a8b37e, trips found: 38\n"
     ]
    },
    {
     "name": "stderr",
     "output_type": "stream",
     "text": [
      "/opt/conda/lib/python3.11/site-packages/sqlalchemy_bigquery/_types.py:101: SAWarning: Did not recognize type 'INTERVAL' of column 'arrival_time_interval'\n",
      "  sqlalchemy.util.warn(\n",
      "/opt/conda/lib/python3.11/site-packages/sqlalchemy_bigquery/_types.py:101: SAWarning: Did not recognize type 'INTERVAL' of column 'departure_time_interval'\n",
      "  sqlalchemy.util.warn(\n",
      "/opt/conda/lib/python3.11/site-packages/sqlalchemy_bigquery/_types.py:101: SAWarning: Did not recognize type 'INTERVAL' of column 'start_pickup_drop_off_window_interval'\n",
      "  sqlalchemy.util.warn(\n",
      "/opt/conda/lib/python3.11/site-packages/sqlalchemy_bigquery/_types.py:101: SAWarning: Did not recognize type 'INTERVAL' of column 'end_pickup_drop_off_window_interval'\n",
      "  sqlalchemy.util.warn(\n",
      "/opt/conda/lib/python3.11/site-packages/pandas/core/tools/datetimes.py:557: RuntimeWarning: invalid value encountered in cast\n",
      "  arr, tz_parsed = tslib.array_with_unit_to_datetime(arg, unit, errors=errors)\n",
      "/opt/conda/lib/python3.11/site-packages/pandas/core/tools/datetimes.py:557: RuntimeWarning: invalid value encountered in cast\n",
      "  arr, tz_parsed = tslib.array_with_unit_to_datetime(arg, unit, errors=errors)\n",
      "/opt/conda/lib/python3.11/site-packages/sqlalchemy_bigquery/_types.py:101: SAWarning: Did not recognize type 'GEOGRAPHY' of column 'pt_geom'\n",
      "  sqlalchemy.util.warn(\n"
     ]
    },
    {
     "name": "stdout",
     "output_type": "stream",
     "text": [
      "[Weekday] schedule_key: b91a715f81f54b2eef7b01c3f0a8b37e, stop times found: 1202\n",
      "[Saturday] schedule_key: b91a715f81f54b2eef7b01c3f0a8b37e, feed_keys found: ['1ef2905c0e7e664e383d3c70a3a54c4c']\n",
      "could not get metrolink feed on 2022-12-03!\n",
      "[Saturday] schedule_key: b91a715f81f54b2eef7b01c3f0a8b37e, trips found: 174\n"
     ]
    },
    {
     "name": "stderr",
     "output_type": "stream",
     "text": [
      "/opt/conda/lib/python3.11/site-packages/sqlalchemy_bigquery/_types.py:101: SAWarning: Did not recognize type 'INTERVAL' of column 'arrival_time_interval'\n",
      "  sqlalchemy.util.warn(\n",
      "/opt/conda/lib/python3.11/site-packages/sqlalchemy_bigquery/_types.py:101: SAWarning: Did not recognize type 'INTERVAL' of column 'departure_time_interval'\n",
      "  sqlalchemy.util.warn(\n",
      "/opt/conda/lib/python3.11/site-packages/sqlalchemy_bigquery/_types.py:101: SAWarning: Did not recognize type 'INTERVAL' of column 'start_pickup_drop_off_window_interval'\n",
      "  sqlalchemy.util.warn(\n",
      "/opt/conda/lib/python3.11/site-packages/sqlalchemy_bigquery/_types.py:101: SAWarning: Did not recognize type 'INTERVAL' of column 'end_pickup_drop_off_window_interval'\n",
      "  sqlalchemy.util.warn(\n",
      "/opt/conda/lib/python3.11/site-packages/pandas/core/tools/datetimes.py:557: RuntimeWarning: invalid value encountered in cast\n",
      "  arr, tz_parsed = tslib.array_with_unit_to_datetime(arg, unit, errors=errors)\n",
      "/opt/conda/lib/python3.11/site-packages/pandas/core/tools/datetimes.py:557: RuntimeWarning: invalid value encountered in cast\n",
      "  arr, tz_parsed = tslib.array_with_unit_to_datetime(arg, unit, errors=errors)\n",
      "/opt/conda/lib/python3.11/site-packages/sqlalchemy_bigquery/_types.py:101: SAWarning: Did not recognize type 'GEOGRAPHY' of column 'pt_geom'\n",
      "  sqlalchemy.util.warn(\n"
     ]
    },
    {
     "name": "stdout",
     "output_type": "stream",
     "text": [
      "[Saturday] schedule_key: b91a715f81f54b2eef7b01c3f0a8b37e, stop times found: 2116\n",
      "[Sunday] schedule_key: b91a715f81f54b2eef7b01c3f0a8b37e, feed_keys found: ['1ef2905c0e7e664e383d3c70a3a54c4c']\n",
      "could not get metrolink feed on 2022-12-04!\n",
      "[Sunday] schedule_key: b91a715f81f54b2eef7b01c3f0a8b37e, trips found: 144\n"
     ]
    },
    {
     "name": "stderr",
     "output_type": "stream",
     "text": [
      "/opt/conda/lib/python3.11/site-packages/sqlalchemy_bigquery/_types.py:101: SAWarning: Did not recognize type 'INTERVAL' of column 'arrival_time_interval'\n",
      "  sqlalchemy.util.warn(\n",
      "/opt/conda/lib/python3.11/site-packages/sqlalchemy_bigquery/_types.py:101: SAWarning: Did not recognize type 'INTERVAL' of column 'departure_time_interval'\n",
      "  sqlalchemy.util.warn(\n",
      "/opt/conda/lib/python3.11/site-packages/sqlalchemy_bigquery/_types.py:101: SAWarning: Did not recognize type 'INTERVAL' of column 'start_pickup_drop_off_window_interval'\n",
      "  sqlalchemy.util.warn(\n",
      "/opt/conda/lib/python3.11/site-packages/sqlalchemy_bigquery/_types.py:101: SAWarning: Did not recognize type 'INTERVAL' of column 'end_pickup_drop_off_window_interval'\n",
      "  sqlalchemy.util.warn(\n",
      "/opt/conda/lib/python3.11/site-packages/pandas/core/tools/datetimes.py:557: RuntimeWarning: invalid value encountered in cast\n",
      "  arr, tz_parsed = tslib.array_with_unit_to_datetime(arg, unit, errors=errors)\n",
      "/opt/conda/lib/python3.11/site-packages/pandas/core/tools/datetimes.py:557: RuntimeWarning: invalid value encountered in cast\n",
      "  arr, tz_parsed = tslib.array_with_unit_to_datetime(arg, unit, errors=errors)\n",
      "/opt/conda/lib/python3.11/site-packages/sqlalchemy_bigquery/_types.py:101: SAWarning: Did not recognize type 'GEOGRAPHY' of column 'pt_geom'\n",
      "  sqlalchemy.util.warn(\n"
     ]
    },
    {
     "name": "stdout",
     "output_type": "stream",
     "text": [
      "[Sunday] schedule_key: b91a715f81f54b2eef7b01c3f0a8b37e, stop times found: 1674\n",
      "Saved results to gs://calitp-analytics-data/data-analyses/ahsc_grant/tool_data_2025/trips_perstop_b91a715f81f54b2eef7b01c3f0a8b37e.parquet\n",
      "processing schedule_key ca5ee83a6cd756070410439076ad2ac7\n",
      "No data for ca5ee83a6cd756070410439076ad2ac7\n",
      "processing schedule_key 55147c3d443f944f5cf6f00f7fe1e9e8\n",
      "[Weekday] schedule_key: 55147c3d443f944f5cf6f00f7fe1e9e8, feed_keys found: ['e3685155cbca5cb7f52dfacb8d3a7fd7']\n",
      "could not get metrolink feed on 2022-11-30!\n",
      "[Weekday] schedule_key: 55147c3d443f944f5cf6f00f7fe1e9e8, trips found: 84\n"
     ]
    },
    {
     "name": "stderr",
     "output_type": "stream",
     "text": [
      "/opt/conda/lib/python3.11/site-packages/sqlalchemy_bigquery/_types.py:101: SAWarning: Did not recognize type 'INTERVAL' of column 'arrival_time_interval'\n",
      "  sqlalchemy.util.warn(\n",
      "/opt/conda/lib/python3.11/site-packages/sqlalchemy_bigquery/_types.py:101: SAWarning: Did not recognize type 'INTERVAL' of column 'departure_time_interval'\n",
      "  sqlalchemy.util.warn(\n",
      "/opt/conda/lib/python3.11/site-packages/sqlalchemy_bigquery/_types.py:101: SAWarning: Did not recognize type 'INTERVAL' of column 'start_pickup_drop_off_window_interval'\n",
      "  sqlalchemy.util.warn(\n",
      "/opt/conda/lib/python3.11/site-packages/sqlalchemy_bigquery/_types.py:101: SAWarning: Did not recognize type 'INTERVAL' of column 'end_pickup_drop_off_window_interval'\n",
      "  sqlalchemy.util.warn(\n",
      "/opt/conda/lib/python3.11/site-packages/pandas/core/tools/datetimes.py:557: RuntimeWarning: invalid value encountered in cast\n",
      "  arr, tz_parsed = tslib.array_with_unit_to_datetime(arg, unit, errors=errors)\n",
      "/opt/conda/lib/python3.11/site-packages/pandas/core/tools/datetimes.py:557: RuntimeWarning: invalid value encountered in cast\n",
      "  arr, tz_parsed = tslib.array_with_unit_to_datetime(arg, unit, errors=errors)\n",
      "/opt/conda/lib/python3.11/site-packages/sqlalchemy_bigquery/_types.py:101: SAWarning: Did not recognize type 'GEOGRAPHY' of column 'pt_geom'\n",
      "  sqlalchemy.util.warn(\n"
     ]
    },
    {
     "name": "stdout",
     "output_type": "stream",
     "text": [
      "[Weekday] schedule_key: 55147c3d443f944f5cf6f00f7fe1e9e8, stop times found: 467\n",
      "[Saturday] schedule_key: 55147c3d443f944f5cf6f00f7fe1e9e8, feed_keys found: ['e3685155cbca5cb7f52dfacb8d3a7fd7']\n",
      "could not get metrolink feed on 2022-12-03!\n",
      "[Saturday] schedule_key: 55147c3d443f944f5cf6f00f7fe1e9e8, trips found: 44\n"
     ]
    },
    {
     "name": "stderr",
     "output_type": "stream",
     "text": [
      "/opt/conda/lib/python3.11/site-packages/sqlalchemy_bigquery/_types.py:101: SAWarning: Did not recognize type 'INTERVAL' of column 'arrival_time_interval'\n",
      "  sqlalchemy.util.warn(\n",
      "/opt/conda/lib/python3.11/site-packages/sqlalchemy_bigquery/_types.py:101: SAWarning: Did not recognize type 'INTERVAL' of column 'departure_time_interval'\n",
      "  sqlalchemy.util.warn(\n",
      "/opt/conda/lib/python3.11/site-packages/sqlalchemy_bigquery/_types.py:101: SAWarning: Did not recognize type 'INTERVAL' of column 'start_pickup_drop_off_window_interval'\n",
      "  sqlalchemy.util.warn(\n",
      "/opt/conda/lib/python3.11/site-packages/sqlalchemy_bigquery/_types.py:101: SAWarning: Did not recognize type 'INTERVAL' of column 'end_pickup_drop_off_window_interval'\n",
      "  sqlalchemy.util.warn(\n",
      "/opt/conda/lib/python3.11/site-packages/pandas/core/tools/datetimes.py:557: RuntimeWarning: invalid value encountered in cast\n",
      "  arr, tz_parsed = tslib.array_with_unit_to_datetime(arg, unit, errors=errors)\n",
      "/opt/conda/lib/python3.11/site-packages/pandas/core/tools/datetimes.py:557: RuntimeWarning: invalid value encountered in cast\n",
      "  arr, tz_parsed = tslib.array_with_unit_to_datetime(arg, unit, errors=errors)\n",
      "/opt/conda/lib/python3.11/site-packages/sqlalchemy_bigquery/_types.py:101: SAWarning: Did not recognize type 'GEOGRAPHY' of column 'pt_geom'\n",
      "  sqlalchemy.util.warn(\n"
     ]
    },
    {
     "name": "stdout",
     "output_type": "stream",
     "text": [
      "[Saturday] schedule_key: 55147c3d443f944f5cf6f00f7fe1e9e8, stop times found: 162\n",
      "[Sunday] schedule_key: 55147c3d443f944f5cf6f00f7fe1e9e8, feed_keys found: ['e3685155cbca5cb7f52dfacb8d3a7fd7']\n",
      "could not get metrolink feed on 2022-12-04!\n",
      "[Sunday] schedule_key: 55147c3d443f944f5cf6f00f7fe1e9e8, trips found: 0\n",
      "Saved results to gs://calitp-analytics-data/data-analyses/ahsc_grant/tool_data_2025/trips_perstop_55147c3d443f944f5cf6f00f7fe1e9e8.parquet\n",
      "processing schedule_key eaaebce0c6d60c185024c01edfd02c0b\n",
      "[Weekday] schedule_key: eaaebce0c6d60c185024c01edfd02c0b, feed_keys found: ['0e373a97a257a48970c0350421303cd9']\n",
      "could not get metrolink feed on 2022-11-30!\n",
      "[Weekday] schedule_key: eaaebce0c6d60c185024c01edfd02c0b, trips found: 64\n"
     ]
    },
    {
     "name": "stderr",
     "output_type": "stream",
     "text": [
      "/opt/conda/lib/python3.11/site-packages/sqlalchemy_bigquery/_types.py:101: SAWarning: Did not recognize type 'INTERVAL' of column 'arrival_time_interval'\n",
      "  sqlalchemy.util.warn(\n",
      "/opt/conda/lib/python3.11/site-packages/sqlalchemy_bigquery/_types.py:101: SAWarning: Did not recognize type 'INTERVAL' of column 'departure_time_interval'\n",
      "  sqlalchemy.util.warn(\n",
      "/opt/conda/lib/python3.11/site-packages/sqlalchemy_bigquery/_types.py:101: SAWarning: Did not recognize type 'INTERVAL' of column 'start_pickup_drop_off_window_interval'\n",
      "  sqlalchemy.util.warn(\n",
      "/opt/conda/lib/python3.11/site-packages/sqlalchemy_bigquery/_types.py:101: SAWarning: Did not recognize type 'INTERVAL' of column 'end_pickup_drop_off_window_interval'\n",
      "  sqlalchemy.util.warn(\n",
      "/opt/conda/lib/python3.11/site-packages/pandas/core/tools/datetimes.py:557: RuntimeWarning: invalid value encountered in cast\n",
      "  arr, tz_parsed = tslib.array_with_unit_to_datetime(arg, unit, errors=errors)\n",
      "/opt/conda/lib/python3.11/site-packages/pandas/core/tools/datetimes.py:557: RuntimeWarning: invalid value encountered in cast\n",
      "  arr, tz_parsed = tslib.array_with_unit_to_datetime(arg, unit, errors=errors)\n",
      "/opt/conda/lib/python3.11/site-packages/sqlalchemy_bigquery/_types.py:101: SAWarning: Did not recognize type 'GEOGRAPHY' of column 'pt_geom'\n",
      "  sqlalchemy.util.warn(\n"
     ]
    },
    {
     "name": "stdout",
     "output_type": "stream",
     "text": [
      "[Weekday] schedule_key: eaaebce0c6d60c185024c01edfd02c0b, stop times found: 1242\n",
      "[Saturday] schedule_key: eaaebce0c6d60c185024c01edfd02c0b, feed_keys found: ['0e373a97a257a48970c0350421303cd9']\n",
      "could not get metrolink feed on 2022-12-03!\n",
      "[Saturday] schedule_key: eaaebce0c6d60c185024c01edfd02c0b, trips found: 41\n"
     ]
    },
    {
     "name": "stderr",
     "output_type": "stream",
     "text": [
      "/opt/conda/lib/python3.11/site-packages/sqlalchemy_bigquery/_types.py:101: SAWarning: Did not recognize type 'INTERVAL' of column 'arrival_time_interval'\n",
      "  sqlalchemy.util.warn(\n",
      "/opt/conda/lib/python3.11/site-packages/sqlalchemy_bigquery/_types.py:101: SAWarning: Did not recognize type 'INTERVAL' of column 'departure_time_interval'\n",
      "  sqlalchemy.util.warn(\n",
      "/opt/conda/lib/python3.11/site-packages/sqlalchemy_bigquery/_types.py:101: SAWarning: Did not recognize type 'INTERVAL' of column 'start_pickup_drop_off_window_interval'\n",
      "  sqlalchemy.util.warn(\n",
      "/opt/conda/lib/python3.11/site-packages/sqlalchemy_bigquery/_types.py:101: SAWarning: Did not recognize type 'INTERVAL' of column 'end_pickup_drop_off_window_interval'\n",
      "  sqlalchemy.util.warn(\n",
      "/opt/conda/lib/python3.11/site-packages/pandas/core/tools/datetimes.py:557: RuntimeWarning: invalid value encountered in cast\n",
      "  arr, tz_parsed = tslib.array_with_unit_to_datetime(arg, unit, errors=errors)\n",
      "/opt/conda/lib/python3.11/site-packages/pandas/core/tools/datetimes.py:557: RuntimeWarning: invalid value encountered in cast\n",
      "  arr, tz_parsed = tslib.array_with_unit_to_datetime(arg, unit, errors=errors)\n",
      "/opt/conda/lib/python3.11/site-packages/sqlalchemy_bigquery/_types.py:101: SAWarning: Did not recognize type 'GEOGRAPHY' of column 'pt_geom'\n",
      "  sqlalchemy.util.warn(\n"
     ]
    },
    {
     "name": "stdout",
     "output_type": "stream",
     "text": [
      "[Saturday] schedule_key: eaaebce0c6d60c185024c01edfd02c0b, stop times found: 785\n",
      "[Sunday] schedule_key: eaaebce0c6d60c185024c01edfd02c0b, feed_keys found: ['0e373a97a257a48970c0350421303cd9']\n",
      "could not get metrolink feed on 2022-12-04!\n",
      "[Sunday] schedule_key: eaaebce0c6d60c185024c01edfd02c0b, trips found: 0\n",
      "Saved results to gs://calitp-analytics-data/data-analyses/ahsc_grant/tool_data_2025/trips_perstop_eaaebce0c6d60c185024c01edfd02c0b.parquet\n",
      "processing schedule_key 07515ff5008a497e5f26ca70b8827934\n",
      "No data for 07515ff5008a497e5f26ca70b8827934\n",
      "processing schedule_key 242bca9b43d86418824c06fa890814f7\n",
      "[Weekday] schedule_key: 242bca9b43d86418824c06fa890814f7, feed_keys found: ['995bc341c731451ec41fcdceb1a83586']\n",
      "could not get metrolink feed on 2022-11-30!\n",
      "[Weekday] schedule_key: 242bca9b43d86418824c06fa890814f7, trips found: 84\n"
     ]
    },
    {
     "name": "stderr",
     "output_type": "stream",
     "text": [
      "/opt/conda/lib/python3.11/site-packages/sqlalchemy_bigquery/_types.py:101: SAWarning: Did not recognize type 'INTERVAL' of column 'arrival_time_interval'\n",
      "  sqlalchemy.util.warn(\n",
      "/opt/conda/lib/python3.11/site-packages/sqlalchemy_bigquery/_types.py:101: SAWarning: Did not recognize type 'INTERVAL' of column 'departure_time_interval'\n",
      "  sqlalchemy.util.warn(\n",
      "/opt/conda/lib/python3.11/site-packages/sqlalchemy_bigquery/_types.py:101: SAWarning: Did not recognize type 'INTERVAL' of column 'start_pickup_drop_off_window_interval'\n",
      "  sqlalchemy.util.warn(\n",
      "/opt/conda/lib/python3.11/site-packages/sqlalchemy_bigquery/_types.py:101: SAWarning: Did not recognize type 'INTERVAL' of column 'end_pickup_drop_off_window_interval'\n",
      "  sqlalchemy.util.warn(\n",
      "/opt/conda/lib/python3.11/site-packages/pandas/core/tools/datetimes.py:557: RuntimeWarning: invalid value encountered in cast\n",
      "  arr, tz_parsed = tslib.array_with_unit_to_datetime(arg, unit, errors=errors)\n",
      "/opt/conda/lib/python3.11/site-packages/pandas/core/tools/datetimes.py:557: RuntimeWarning: invalid value encountered in cast\n",
      "  arr, tz_parsed = tslib.array_with_unit_to_datetime(arg, unit, errors=errors)\n",
      "/opt/conda/lib/python3.11/site-packages/sqlalchemy_bigquery/_types.py:101: SAWarning: Did not recognize type 'GEOGRAPHY' of column 'pt_geom'\n",
      "  sqlalchemy.util.warn(\n"
     ]
    },
    {
     "name": "stdout",
     "output_type": "stream",
     "text": [
      "[Weekday] schedule_key: 242bca9b43d86418824c06fa890814f7, stop times found: 2065\n",
      "Saved results to gs://calitp-analytics-data/data-analyses/ahsc_grant/tool_data_2025/trips_perstop_242bca9b43d86418824c06fa890814f7.parquet\n",
      "processing schedule_key 694455dec0e7543763030ed29d62d0fe\n",
      "No data for 694455dec0e7543763030ed29d62d0fe\n",
      "processing schedule_key 76463373adf2607a9b7b420220bf09db\n",
      "No data for 76463373adf2607a9b7b420220bf09db\n",
      "processing schedule_key ba500c92bfce3a73bee6262c4c7a6bea\n",
      "[Weekday] schedule_key: ba500c92bfce3a73bee6262c4c7a6bea, feed_keys found: ['45650c970f8d4da298358d0612938a9d']\n",
      "could not get metrolink feed on 2022-11-30!\n",
      "[Weekday] schedule_key: ba500c92bfce3a73bee6262c4c7a6bea, trips found: 30\n"
     ]
    },
    {
     "name": "stderr",
     "output_type": "stream",
     "text": [
      "/opt/conda/lib/python3.11/site-packages/sqlalchemy_bigquery/_types.py:101: SAWarning: Did not recognize type 'INTERVAL' of column 'arrival_time_interval'\n",
      "  sqlalchemy.util.warn(\n",
      "/opt/conda/lib/python3.11/site-packages/sqlalchemy_bigquery/_types.py:101: SAWarning: Did not recognize type 'INTERVAL' of column 'departure_time_interval'\n",
      "  sqlalchemy.util.warn(\n",
      "/opt/conda/lib/python3.11/site-packages/sqlalchemy_bigquery/_types.py:101: SAWarning: Did not recognize type 'INTERVAL' of column 'start_pickup_drop_off_window_interval'\n",
      "  sqlalchemy.util.warn(\n",
      "/opt/conda/lib/python3.11/site-packages/sqlalchemy_bigquery/_types.py:101: SAWarning: Did not recognize type 'INTERVAL' of column 'end_pickup_drop_off_window_interval'\n",
      "  sqlalchemy.util.warn(\n"
     ]
    },
    {
     "name": "stdout",
     "output_type": "stream",
     "text": [
      "[Weekday] schedule_key: ba500c92bfce3a73bee6262c4c7a6bea, stop times found: 1042\n"
     ]
    },
    {
     "name": "stderr",
     "output_type": "stream",
     "text": [
      "/opt/conda/lib/python3.11/site-packages/sqlalchemy_bigquery/_types.py:101: SAWarning: Did not recognize type 'GEOGRAPHY' of column 'pt_geom'\n",
      "  sqlalchemy.util.warn(\n"
     ]
    },
    {
     "name": "stdout",
     "output_type": "stream",
     "text": [
      "[Saturday] schedule_key: ba500c92bfce3a73bee6262c4c7a6bea, feed_keys found: ['45650c970f8d4da298358d0612938a9d']\n",
      "could not get metrolink feed on 2022-12-03!\n",
      "[Saturday] schedule_key: ba500c92bfce3a73bee6262c4c7a6bea, trips found: 0\n",
      "[Sunday] schedule_key: ba500c92bfce3a73bee6262c4c7a6bea, feed_keys found: ['45650c970f8d4da298358d0612938a9d']\n",
      "could not get metrolink feed on 2022-12-04!\n",
      "[Sunday] schedule_key: ba500c92bfce3a73bee6262c4c7a6bea, trips found: 0\n",
      "Saved results to gs://calitp-analytics-data/data-analyses/ahsc_grant/tool_data_2025/trips_perstop_ba500c92bfce3a73bee6262c4c7a6bea.parquet\n",
      "processing schedule_key b0f437270b38727ec14a3779ccc11ffe\n",
      "No data for b0f437270b38727ec14a3779ccc11ffe\n",
      "processing schedule_key d01cfb6d9cc18d043951903f927ed2e2\n",
      "[Weekday] schedule_key: d01cfb6d9cc18d043951903f927ed2e2, feed_keys found: ['ffe4d3c164a4ea75fac457d7499dca37']\n",
      "could not get metrolink feed on 2022-11-30!\n",
      "[Weekday] schedule_key: d01cfb6d9cc18d043951903f927ed2e2, trips found: 12\n"
     ]
    },
    {
     "name": "stderr",
     "output_type": "stream",
     "text": [
      "/opt/conda/lib/python3.11/site-packages/sqlalchemy_bigquery/_types.py:101: SAWarning: Did not recognize type 'INTERVAL' of column 'arrival_time_interval'\n",
      "  sqlalchemy.util.warn(\n",
      "/opt/conda/lib/python3.11/site-packages/sqlalchemy_bigquery/_types.py:101: SAWarning: Did not recognize type 'INTERVAL' of column 'departure_time_interval'\n",
      "  sqlalchemy.util.warn(\n",
      "/opt/conda/lib/python3.11/site-packages/sqlalchemy_bigquery/_types.py:101: SAWarning: Did not recognize type 'INTERVAL' of column 'start_pickup_drop_off_window_interval'\n",
      "  sqlalchemy.util.warn(\n",
      "/opt/conda/lib/python3.11/site-packages/sqlalchemy_bigquery/_types.py:101: SAWarning: Did not recognize type 'INTERVAL' of column 'end_pickup_drop_off_window_interval'\n",
      "  sqlalchemy.util.warn(\n"
     ]
    },
    {
     "name": "stdout",
     "output_type": "stream",
     "text": [
      "[Weekday] schedule_key: d01cfb6d9cc18d043951903f927ed2e2, stop times found: 444\n"
     ]
    },
    {
     "name": "stderr",
     "output_type": "stream",
     "text": [
      "/opt/conda/lib/python3.11/site-packages/sqlalchemy_bigquery/_types.py:101: SAWarning: Did not recognize type 'GEOGRAPHY' of column 'pt_geom'\n",
      "  sqlalchemy.util.warn(\n"
     ]
    },
    {
     "name": "stdout",
     "output_type": "stream",
     "text": [
      "[Saturday] schedule_key: d01cfb6d9cc18d043951903f927ed2e2, feed_keys found: ['ffe4d3c164a4ea75fac457d7499dca37']\n",
      "could not get metrolink feed on 2022-12-03!\n",
      "[Saturday] schedule_key: d01cfb6d9cc18d043951903f927ed2e2, trips found: 7\n"
     ]
    },
    {
     "name": "stderr",
     "output_type": "stream",
     "text": [
      "/opt/conda/lib/python3.11/site-packages/sqlalchemy_bigquery/_types.py:101: SAWarning: Did not recognize type 'INTERVAL' of column 'arrival_time_interval'\n",
      "  sqlalchemy.util.warn(\n",
      "/opt/conda/lib/python3.11/site-packages/sqlalchemy_bigquery/_types.py:101: SAWarning: Did not recognize type 'INTERVAL' of column 'departure_time_interval'\n",
      "  sqlalchemy.util.warn(\n",
      "/opt/conda/lib/python3.11/site-packages/sqlalchemy_bigquery/_types.py:101: SAWarning: Did not recognize type 'INTERVAL' of column 'start_pickup_drop_off_window_interval'\n",
      "  sqlalchemy.util.warn(\n",
      "/opt/conda/lib/python3.11/site-packages/sqlalchemy_bigquery/_types.py:101: SAWarning: Did not recognize type 'INTERVAL' of column 'end_pickup_drop_off_window_interval'\n",
      "  sqlalchemy.util.warn(\n"
     ]
    },
    {
     "name": "stdout",
     "output_type": "stream",
     "text": [
      "[Saturday] schedule_key: d01cfb6d9cc18d043951903f927ed2e2, stop times found: 259\n"
     ]
    },
    {
     "name": "stderr",
     "output_type": "stream",
     "text": [
      "/opt/conda/lib/python3.11/site-packages/sqlalchemy_bigquery/_types.py:101: SAWarning: Did not recognize type 'GEOGRAPHY' of column 'pt_geom'\n",
      "  sqlalchemy.util.warn(\n"
     ]
    },
    {
     "name": "stdout",
     "output_type": "stream",
     "text": [
      "[Sunday] schedule_key: d01cfb6d9cc18d043951903f927ed2e2, feed_keys found: ['ffe4d3c164a4ea75fac457d7499dca37']\n",
      "could not get metrolink feed on 2022-12-04!\n",
      "[Sunday] schedule_key: d01cfb6d9cc18d043951903f927ed2e2, trips found: 0\n",
      "Saved results to gs://calitp-analytics-data/data-analyses/ahsc_grant/tool_data_2025/trips_perstop_d01cfb6d9cc18d043951903f927ed2e2.parquet\n",
      "processing schedule_key 963ab7c436a2907dc43977cf9aeaeed9\n",
      "[Weekday] schedule_key: 963ab7c436a2907dc43977cf9aeaeed9, feed_keys found: ['c5a5d92a43729d6d2b4148069f1253b1']\n",
      "could not get metrolink feed on 2022-11-30!\n",
      "[Weekday] schedule_key: 963ab7c436a2907dc43977cf9aeaeed9, trips found: 321\n"
     ]
    },
    {
     "name": "stderr",
     "output_type": "stream",
     "text": [
      "/opt/conda/lib/python3.11/site-packages/sqlalchemy_bigquery/_types.py:101: SAWarning: Did not recognize type 'INTERVAL' of column 'arrival_time_interval'\n",
      "  sqlalchemy.util.warn(\n",
      "/opt/conda/lib/python3.11/site-packages/sqlalchemy_bigquery/_types.py:101: SAWarning: Did not recognize type 'INTERVAL' of column 'departure_time_interval'\n",
      "  sqlalchemy.util.warn(\n",
      "/opt/conda/lib/python3.11/site-packages/sqlalchemy_bigquery/_types.py:101: SAWarning: Did not recognize type 'INTERVAL' of column 'start_pickup_drop_off_window_interval'\n",
      "  sqlalchemy.util.warn(\n",
      "/opt/conda/lib/python3.11/site-packages/sqlalchemy_bigquery/_types.py:101: SAWarning: Did not recognize type 'INTERVAL' of column 'end_pickup_drop_off_window_interval'\n",
      "  sqlalchemy.util.warn(\n",
      "/opt/conda/lib/python3.11/site-packages/pandas/core/tools/datetimes.py:557: RuntimeWarning: invalid value encountered in cast\n",
      "  arr, tz_parsed = tslib.array_with_unit_to_datetime(arg, unit, errors=errors)\n",
      "/opt/conda/lib/python3.11/site-packages/pandas/core/tools/datetimes.py:557: RuntimeWarning: invalid value encountered in cast\n",
      "  arr, tz_parsed = tslib.array_with_unit_to_datetime(arg, unit, errors=errors)\n"
     ]
    },
    {
     "name": "stdout",
     "output_type": "stream",
     "text": [
      "[Weekday] schedule_key: 963ab7c436a2907dc43977cf9aeaeed9, stop times found: 13164\n"
     ]
    },
    {
     "name": "stderr",
     "output_type": "stream",
     "text": [
      "/opt/conda/lib/python3.11/site-packages/sqlalchemy_bigquery/_types.py:101: SAWarning: Did not recognize type 'GEOGRAPHY' of column 'pt_geom'\n",
      "  sqlalchemy.util.warn(\n"
     ]
    },
    {
     "name": "stdout",
     "output_type": "stream",
     "text": [
      "[Saturday] schedule_key: 963ab7c436a2907dc43977cf9aeaeed9, feed_keys found: ['c5a5d92a43729d6d2b4148069f1253b1']\n",
      "could not get metrolink feed on 2022-12-03!\n",
      "[Saturday] schedule_key: 963ab7c436a2907dc43977cf9aeaeed9, trips found: 100\n"
     ]
    },
    {
     "name": "stderr",
     "output_type": "stream",
     "text": [
      "/opt/conda/lib/python3.11/site-packages/sqlalchemy_bigquery/_types.py:101: SAWarning: Did not recognize type 'INTERVAL' of column 'arrival_time_interval'\n",
      "  sqlalchemy.util.warn(\n",
      "/opt/conda/lib/python3.11/site-packages/sqlalchemy_bigquery/_types.py:101: SAWarning: Did not recognize type 'INTERVAL' of column 'departure_time_interval'\n",
      "  sqlalchemy.util.warn(\n",
      "/opt/conda/lib/python3.11/site-packages/sqlalchemy_bigquery/_types.py:101: SAWarning: Did not recognize type 'INTERVAL' of column 'start_pickup_drop_off_window_interval'\n",
      "  sqlalchemy.util.warn(\n",
      "/opt/conda/lib/python3.11/site-packages/sqlalchemy_bigquery/_types.py:101: SAWarning: Did not recognize type 'INTERVAL' of column 'end_pickup_drop_off_window_interval'\n",
      "  sqlalchemy.util.warn(\n",
      "/opt/conda/lib/python3.11/site-packages/pandas/core/tools/datetimes.py:557: RuntimeWarning: invalid value encountered in cast\n",
      "  arr, tz_parsed = tslib.array_with_unit_to_datetime(arg, unit, errors=errors)\n",
      "/opt/conda/lib/python3.11/site-packages/pandas/core/tools/datetimes.py:557: RuntimeWarning: invalid value encountered in cast\n",
      "  arr, tz_parsed = tslib.array_with_unit_to_datetime(arg, unit, errors=errors)\n",
      "/opt/conda/lib/python3.11/site-packages/sqlalchemy_bigquery/_types.py:101: SAWarning: Did not recognize type 'GEOGRAPHY' of column 'pt_geom'\n",
      "  sqlalchemy.util.warn(\n"
     ]
    },
    {
     "name": "stdout",
     "output_type": "stream",
     "text": [
      "[Saturday] schedule_key: 963ab7c436a2907dc43977cf9aeaeed9, stop times found: 4760\n",
      "[Sunday] schedule_key: 963ab7c436a2907dc43977cf9aeaeed9, feed_keys found: ['c5a5d92a43729d6d2b4148069f1253b1']\n",
      "could not get metrolink feed on 2022-12-04!\n",
      "[Sunday] schedule_key: 963ab7c436a2907dc43977cf9aeaeed9, trips found: 72\n"
     ]
    },
    {
     "name": "stderr",
     "output_type": "stream",
     "text": [
      "/opt/conda/lib/python3.11/site-packages/sqlalchemy_bigquery/_types.py:101: SAWarning: Did not recognize type 'INTERVAL' of column 'arrival_time_interval'\n",
      "  sqlalchemy.util.warn(\n",
      "/opt/conda/lib/python3.11/site-packages/sqlalchemy_bigquery/_types.py:101: SAWarning: Did not recognize type 'INTERVAL' of column 'departure_time_interval'\n",
      "  sqlalchemy.util.warn(\n",
      "/opt/conda/lib/python3.11/site-packages/sqlalchemy_bigquery/_types.py:101: SAWarning: Did not recognize type 'INTERVAL' of column 'start_pickup_drop_off_window_interval'\n",
      "  sqlalchemy.util.warn(\n",
      "/opt/conda/lib/python3.11/site-packages/sqlalchemy_bigquery/_types.py:101: SAWarning: Did not recognize type 'INTERVAL' of column 'end_pickup_drop_off_window_interval'\n",
      "  sqlalchemy.util.warn(\n",
      "/opt/conda/lib/python3.11/site-packages/pandas/core/tools/datetimes.py:557: RuntimeWarning: invalid value encountered in cast\n",
      "  arr, tz_parsed = tslib.array_with_unit_to_datetime(arg, unit, errors=errors)\n",
      "/opt/conda/lib/python3.11/site-packages/pandas/core/tools/datetimes.py:557: RuntimeWarning: invalid value encountered in cast\n",
      "  arr, tz_parsed = tslib.array_with_unit_to_datetime(arg, unit, errors=errors)\n",
      "/opt/conda/lib/python3.11/site-packages/sqlalchemy_bigquery/_types.py:101: SAWarning: Did not recognize type 'GEOGRAPHY' of column 'pt_geom'\n",
      "  sqlalchemy.util.warn(\n"
     ]
    },
    {
     "name": "stdout",
     "output_type": "stream",
     "text": [
      "[Sunday] schedule_key: 963ab7c436a2907dc43977cf9aeaeed9, stop times found: 3130\n",
      "Saved results to gs://calitp-analytics-data/data-analyses/ahsc_grant/tool_data_2025/trips_perstop_963ab7c436a2907dc43977cf9aeaeed9.parquet\n",
      "processing schedule_key 31965192e2b001165622ecfdbe91cfff\n",
      "No data for 31965192e2b001165622ecfdbe91cfff\n",
      "processing schedule_key cb3751669ffe2ab37006132a69ceb14e\n",
      "No data for cb3751669ffe2ab37006132a69ceb14e\n",
      "processing schedule_key 5863a53ea2876b5942edf8a977e59fbf\n",
      "No data for 5863a53ea2876b5942edf8a977e59fbf\n",
      "processing schedule_key 31e7b2f1a1777e783e521c38803f9750\n",
      "[Weekday] schedule_key: 31e7b2f1a1777e783e521c38803f9750, feed_keys found: ['d95f2f26bbf4846e4eb84d352fb0990d']\n",
      "could not get metrolink feed on 2022-11-30!\n",
      "[Weekday] schedule_key: 31e7b2f1a1777e783e521c38803f9750, trips found: 101\n"
     ]
    },
    {
     "name": "stderr",
     "output_type": "stream",
     "text": [
      "/opt/conda/lib/python3.11/site-packages/sqlalchemy_bigquery/_types.py:101: SAWarning: Did not recognize type 'INTERVAL' of column 'arrival_time_interval'\n",
      "  sqlalchemy.util.warn(\n",
      "/opt/conda/lib/python3.11/site-packages/sqlalchemy_bigquery/_types.py:101: SAWarning: Did not recognize type 'INTERVAL' of column 'departure_time_interval'\n",
      "  sqlalchemy.util.warn(\n",
      "/opt/conda/lib/python3.11/site-packages/sqlalchemy_bigquery/_types.py:101: SAWarning: Did not recognize type 'INTERVAL' of column 'start_pickup_drop_off_window_interval'\n",
      "  sqlalchemy.util.warn(\n",
      "/opt/conda/lib/python3.11/site-packages/sqlalchemy_bigquery/_types.py:101: SAWarning: Did not recognize type 'INTERVAL' of column 'end_pickup_drop_off_window_interval'\n",
      "  sqlalchemy.util.warn(\n"
     ]
    },
    {
     "name": "stdout",
     "output_type": "stream",
     "text": [
      "[Weekday] schedule_key: 31e7b2f1a1777e783e521c38803f9750, stop times found: 5531\n"
     ]
    },
    {
     "name": "stderr",
     "output_type": "stream",
     "text": [
      "/opt/conda/lib/python3.11/site-packages/sqlalchemy_bigquery/_types.py:101: SAWarning: Did not recognize type 'GEOGRAPHY' of column 'pt_geom'\n",
      "  sqlalchemy.util.warn(\n"
     ]
    },
    {
     "name": "stdout",
     "output_type": "stream",
     "text": [
      "[Saturday] schedule_key: 31e7b2f1a1777e783e521c38803f9750, feed_keys found: ['d95f2f26bbf4846e4eb84d352fb0990d']\n",
      "could not get metrolink feed on 2022-12-03!\n",
      "[Saturday] schedule_key: 31e7b2f1a1777e783e521c38803f9750, trips found: 76\n"
     ]
    },
    {
     "name": "stderr",
     "output_type": "stream",
     "text": [
      "/opt/conda/lib/python3.11/site-packages/sqlalchemy_bigquery/_types.py:101: SAWarning: Did not recognize type 'INTERVAL' of column 'arrival_time_interval'\n",
      "  sqlalchemy.util.warn(\n",
      "/opt/conda/lib/python3.11/site-packages/sqlalchemy_bigquery/_types.py:101: SAWarning: Did not recognize type 'INTERVAL' of column 'departure_time_interval'\n",
      "  sqlalchemy.util.warn(\n",
      "/opt/conda/lib/python3.11/site-packages/sqlalchemy_bigquery/_types.py:101: SAWarning: Did not recognize type 'INTERVAL' of column 'start_pickup_drop_off_window_interval'\n",
      "  sqlalchemy.util.warn(\n",
      "/opt/conda/lib/python3.11/site-packages/sqlalchemy_bigquery/_types.py:101: SAWarning: Did not recognize type 'INTERVAL' of column 'end_pickup_drop_off_window_interval'\n",
      "  sqlalchemy.util.warn(\n"
     ]
    },
    {
     "name": "stdout",
     "output_type": "stream",
     "text": [
      "[Saturday] schedule_key: 31e7b2f1a1777e783e521c38803f9750, stop times found: 4196\n"
     ]
    },
    {
     "name": "stderr",
     "output_type": "stream",
     "text": [
      "/opt/conda/lib/python3.11/site-packages/sqlalchemy_bigquery/_types.py:101: SAWarning: Did not recognize type 'GEOGRAPHY' of column 'pt_geom'\n",
      "  sqlalchemy.util.warn(\n"
     ]
    },
    {
     "name": "stdout",
     "output_type": "stream",
     "text": [
      "[Sunday] schedule_key: 31e7b2f1a1777e783e521c38803f9750, feed_keys found: ['d95f2f26bbf4846e4eb84d352fb0990d']\n",
      "could not get metrolink feed on 2022-12-04!\n",
      "[Sunday] schedule_key: 31e7b2f1a1777e783e521c38803f9750, trips found: 50\n"
     ]
    },
    {
     "name": "stderr",
     "output_type": "stream",
     "text": [
      "/opt/conda/lib/python3.11/site-packages/sqlalchemy_bigquery/_types.py:101: SAWarning: Did not recognize type 'INTERVAL' of column 'arrival_time_interval'\n",
      "  sqlalchemy.util.warn(\n",
      "/opt/conda/lib/python3.11/site-packages/sqlalchemy_bigquery/_types.py:101: SAWarning: Did not recognize type 'INTERVAL' of column 'departure_time_interval'\n",
      "  sqlalchemy.util.warn(\n",
      "/opt/conda/lib/python3.11/site-packages/sqlalchemy_bigquery/_types.py:101: SAWarning: Did not recognize type 'INTERVAL' of column 'start_pickup_drop_off_window_interval'\n",
      "  sqlalchemy.util.warn(\n",
      "/opt/conda/lib/python3.11/site-packages/sqlalchemy_bigquery/_types.py:101: SAWarning: Did not recognize type 'INTERVAL' of column 'end_pickup_drop_off_window_interval'\n",
      "  sqlalchemy.util.warn(\n"
     ]
    },
    {
     "name": "stdout",
     "output_type": "stream",
     "text": [
      "[Sunday] schedule_key: 31e7b2f1a1777e783e521c38803f9750, stop times found: 3130\n"
     ]
    },
    {
     "name": "stderr",
     "output_type": "stream",
     "text": [
      "/opt/conda/lib/python3.11/site-packages/sqlalchemy_bigquery/_types.py:101: SAWarning: Did not recognize type 'GEOGRAPHY' of column 'pt_geom'\n",
      "  sqlalchemy.util.warn(\n"
     ]
    },
    {
     "name": "stdout",
     "output_type": "stream",
     "text": [
      "Saved results to gs://calitp-analytics-data/data-analyses/ahsc_grant/tool_data_2025/trips_perstop_31e7b2f1a1777e783e521c38803f9750.parquet\n",
      "processing schedule_key 929b344feb6d3b1cee4d81f1c66615e4\n",
      "No data for 929b344feb6d3b1cee4d81f1c66615e4\n",
      "processing schedule_key 7aa912dc07af7d45b39f54f06854457b\n",
      "[Weekday] schedule_key: 7aa912dc07af7d45b39f54f06854457b, feed_keys found: ['dd5c33ecc530443702540871b7e8c5cd']\n",
      "could not get metrolink feed on 2022-11-30!\n",
      "[Weekday] schedule_key: 7aa912dc07af7d45b39f54f06854457b, trips found: 156\n"
     ]
    },
    {
     "name": "stderr",
     "output_type": "stream",
     "text": [
      "/opt/conda/lib/python3.11/site-packages/sqlalchemy_bigquery/_types.py:101: SAWarning: Did not recognize type 'INTERVAL' of column 'arrival_time_interval'\n",
      "  sqlalchemy.util.warn(\n",
      "/opt/conda/lib/python3.11/site-packages/sqlalchemy_bigquery/_types.py:101: SAWarning: Did not recognize type 'INTERVAL' of column 'departure_time_interval'\n",
      "  sqlalchemy.util.warn(\n",
      "/opt/conda/lib/python3.11/site-packages/sqlalchemy_bigquery/_types.py:101: SAWarning: Did not recognize type 'INTERVAL' of column 'start_pickup_drop_off_window_interval'\n",
      "  sqlalchemy.util.warn(\n",
      "/opt/conda/lib/python3.11/site-packages/sqlalchemy_bigquery/_types.py:101: SAWarning: Did not recognize type 'INTERVAL' of column 'end_pickup_drop_off_window_interval'\n",
      "  sqlalchemy.util.warn(\n",
      "/opt/conda/lib/python3.11/site-packages/pandas/core/tools/datetimes.py:557: RuntimeWarning: invalid value encountered in cast\n",
      "  arr, tz_parsed = tslib.array_with_unit_to_datetime(arg, unit, errors=errors)\n",
      "/opt/conda/lib/python3.11/site-packages/pandas/core/tools/datetimes.py:557: RuntimeWarning: invalid value encountered in cast\n",
      "  arr, tz_parsed = tslib.array_with_unit_to_datetime(arg, unit, errors=errors)\n",
      "/opt/conda/lib/python3.11/site-packages/sqlalchemy_bigquery/_types.py:101: SAWarning: Did not recognize type 'GEOGRAPHY' of column 'pt_geom'\n",
      "  sqlalchemy.util.warn(\n"
     ]
    },
    {
     "name": "stdout",
     "output_type": "stream",
     "text": [
      "[Weekday] schedule_key: 7aa912dc07af7d45b39f54f06854457b, stop times found: 3555\n",
      "[Saturday] schedule_key: 7aa912dc07af7d45b39f54f06854457b, feed_keys found: ['dd5c33ecc530443702540871b7e8c5cd']\n",
      "could not get metrolink feed on 2022-12-03!\n",
      "[Saturday] schedule_key: 7aa912dc07af7d45b39f54f06854457b, trips found: 48\n"
     ]
    },
    {
     "name": "stderr",
     "output_type": "stream",
     "text": [
      "/opt/conda/lib/python3.11/site-packages/sqlalchemy_bigquery/_types.py:101: SAWarning: Did not recognize type 'INTERVAL' of column 'arrival_time_interval'\n",
      "  sqlalchemy.util.warn(\n",
      "/opt/conda/lib/python3.11/site-packages/sqlalchemy_bigquery/_types.py:101: SAWarning: Did not recognize type 'INTERVAL' of column 'departure_time_interval'\n",
      "  sqlalchemy.util.warn(\n",
      "/opt/conda/lib/python3.11/site-packages/sqlalchemy_bigquery/_types.py:101: SAWarning: Did not recognize type 'INTERVAL' of column 'start_pickup_drop_off_window_interval'\n",
      "  sqlalchemy.util.warn(\n",
      "/opt/conda/lib/python3.11/site-packages/sqlalchemy_bigquery/_types.py:101: SAWarning: Did not recognize type 'INTERVAL' of column 'end_pickup_drop_off_window_interval'\n",
      "  sqlalchemy.util.warn(\n",
      "/opt/conda/lib/python3.11/site-packages/pandas/core/tools/datetimes.py:557: RuntimeWarning: invalid value encountered in cast\n",
      "  arr, tz_parsed = tslib.array_with_unit_to_datetime(arg, unit, errors=errors)\n",
      "/opt/conda/lib/python3.11/site-packages/pandas/core/tools/datetimes.py:557: RuntimeWarning: invalid value encountered in cast\n",
      "  arr, tz_parsed = tslib.array_with_unit_to_datetime(arg, unit, errors=errors)\n",
      "/opt/conda/lib/python3.11/site-packages/sqlalchemy_bigquery/_types.py:101: SAWarning: Did not recognize type 'GEOGRAPHY' of column 'pt_geom'\n",
      "  sqlalchemy.util.warn(\n"
     ]
    },
    {
     "name": "stdout",
     "output_type": "stream",
     "text": [
      "[Saturday] schedule_key: 7aa912dc07af7d45b39f54f06854457b, stop times found: 1390\n",
      "[Sunday] schedule_key: 7aa912dc07af7d45b39f54f06854457b, feed_keys found: ['dd5c33ecc530443702540871b7e8c5cd']\n",
      "could not get metrolink feed on 2022-12-04!\n",
      "[Sunday] schedule_key: 7aa912dc07af7d45b39f54f06854457b, trips found: 0\n",
      "Saved results to gs://calitp-analytics-data/data-analyses/ahsc_grant/tool_data_2025/trips_perstop_7aa912dc07af7d45b39f54f06854457b.parquet\n",
      "processing schedule_key fd76b1e22fb8066dfb148c5aa446aa4a\n",
      "[Weekday] schedule_key: fd76b1e22fb8066dfb148c5aa446aa4a, feed_keys found: ['353a699db4a44c11159f84e0db9f56d1']\n",
      "could not get metrolink feed on 2022-11-30!\n",
      "[Weekday] schedule_key: fd76b1e22fb8066dfb148c5aa446aa4a, trips found: 100\n"
     ]
    },
    {
     "name": "stderr",
     "output_type": "stream",
     "text": [
      "/opt/conda/lib/python3.11/site-packages/sqlalchemy_bigquery/_types.py:101: SAWarning: Did not recognize type 'INTERVAL' of column 'arrival_time_interval'\n",
      "  sqlalchemy.util.warn(\n",
      "/opt/conda/lib/python3.11/site-packages/sqlalchemy_bigquery/_types.py:101: SAWarning: Did not recognize type 'INTERVAL' of column 'departure_time_interval'\n",
      "  sqlalchemy.util.warn(\n",
      "/opt/conda/lib/python3.11/site-packages/sqlalchemy_bigquery/_types.py:101: SAWarning: Did not recognize type 'INTERVAL' of column 'start_pickup_drop_off_window_interval'\n",
      "  sqlalchemy.util.warn(\n",
      "/opt/conda/lib/python3.11/site-packages/sqlalchemy_bigquery/_types.py:101: SAWarning: Did not recognize type 'INTERVAL' of column 'end_pickup_drop_off_window_interval'\n",
      "  sqlalchemy.util.warn(\n"
     ]
    },
    {
     "name": "stdout",
     "output_type": "stream",
     "text": [
      "[Weekday] schedule_key: fd76b1e22fb8066dfb148c5aa446aa4a, stop times found: 2733\n"
     ]
    },
    {
     "name": "stderr",
     "output_type": "stream",
     "text": [
      "/opt/conda/lib/python3.11/site-packages/sqlalchemy_bigquery/_types.py:101: SAWarning: Did not recognize type 'GEOGRAPHY' of column 'pt_geom'\n",
      "  sqlalchemy.util.warn(\n"
     ]
    },
    {
     "name": "stdout",
     "output_type": "stream",
     "text": [
      "[Saturday] schedule_key: fd76b1e22fb8066dfb148c5aa446aa4a, feed_keys found: ['353a699db4a44c11159f84e0db9f56d1']\n",
      "could not get metrolink feed on 2022-12-03!\n",
      "[Saturday] schedule_key: fd76b1e22fb8066dfb148c5aa446aa4a, trips found: 52\n"
     ]
    },
    {
     "name": "stderr",
     "output_type": "stream",
     "text": [
      "/opt/conda/lib/python3.11/site-packages/sqlalchemy_bigquery/_types.py:101: SAWarning: Did not recognize type 'INTERVAL' of column 'arrival_time_interval'\n",
      "  sqlalchemy.util.warn(\n",
      "/opt/conda/lib/python3.11/site-packages/sqlalchemy_bigquery/_types.py:101: SAWarning: Did not recognize type 'INTERVAL' of column 'departure_time_interval'\n",
      "  sqlalchemy.util.warn(\n",
      "/opt/conda/lib/python3.11/site-packages/sqlalchemy_bigquery/_types.py:101: SAWarning: Did not recognize type 'INTERVAL' of column 'start_pickup_drop_off_window_interval'\n",
      "  sqlalchemy.util.warn(\n",
      "/opt/conda/lib/python3.11/site-packages/sqlalchemy_bigquery/_types.py:101: SAWarning: Did not recognize type 'INTERVAL' of column 'end_pickup_drop_off_window_interval'\n",
      "  sqlalchemy.util.warn(\n"
     ]
    },
    {
     "name": "stdout",
     "output_type": "stream",
     "text": [
      "[Saturday] schedule_key: fd76b1e22fb8066dfb148c5aa446aa4a, stop times found: 1468\n"
     ]
    },
    {
     "name": "stderr",
     "output_type": "stream",
     "text": [
      "/opt/conda/lib/python3.11/site-packages/sqlalchemy_bigquery/_types.py:101: SAWarning: Did not recognize type 'GEOGRAPHY' of column 'pt_geom'\n",
      "  sqlalchemy.util.warn(\n"
     ]
    },
    {
     "name": "stdout",
     "output_type": "stream",
     "text": [
      "[Sunday] schedule_key: fd76b1e22fb8066dfb148c5aa446aa4a, feed_keys found: ['353a699db4a44c11159f84e0db9f56d1']\n",
      "could not get metrolink feed on 2022-12-04!\n",
      "[Sunday] schedule_key: fd76b1e22fb8066dfb148c5aa446aa4a, trips found: 52\n"
     ]
    },
    {
     "name": "stderr",
     "output_type": "stream",
     "text": [
      "/opt/conda/lib/python3.11/site-packages/sqlalchemy_bigquery/_types.py:101: SAWarning: Did not recognize type 'INTERVAL' of column 'arrival_time_interval'\n",
      "  sqlalchemy.util.warn(\n",
      "/opt/conda/lib/python3.11/site-packages/sqlalchemy_bigquery/_types.py:101: SAWarning: Did not recognize type 'INTERVAL' of column 'departure_time_interval'\n",
      "  sqlalchemy.util.warn(\n",
      "/opt/conda/lib/python3.11/site-packages/sqlalchemy_bigquery/_types.py:101: SAWarning: Did not recognize type 'INTERVAL' of column 'start_pickup_drop_off_window_interval'\n",
      "  sqlalchemy.util.warn(\n",
      "/opt/conda/lib/python3.11/site-packages/sqlalchemy_bigquery/_types.py:101: SAWarning: Did not recognize type 'INTERVAL' of column 'end_pickup_drop_off_window_interval'\n",
      "  sqlalchemy.util.warn(\n"
     ]
    },
    {
     "name": "stdout",
     "output_type": "stream",
     "text": [
      "[Sunday] schedule_key: fd76b1e22fb8066dfb148c5aa446aa4a, stop times found: 1468\n"
     ]
    },
    {
     "name": "stderr",
     "output_type": "stream",
     "text": [
      "/opt/conda/lib/python3.11/site-packages/sqlalchemy_bigquery/_types.py:101: SAWarning: Did not recognize type 'GEOGRAPHY' of column 'pt_geom'\n",
      "  sqlalchemy.util.warn(\n"
     ]
    },
    {
     "name": "stdout",
     "output_type": "stream",
     "text": [
      "Saved results to gs://calitp-analytics-data/data-analyses/ahsc_grant/tool_data_2025/trips_perstop_fd76b1e22fb8066dfb148c5aa446aa4a.parquet\n",
      "processing schedule_key 55762bcd5383e162ef0b9ac8790665ed\n",
      "[Weekday] schedule_key: 55762bcd5383e162ef0b9ac8790665ed, feed_keys found: ['2fcf450c1dd57f7e6f290bfad745d41e']\n",
      "could not get metrolink feed on 2022-11-30!\n",
      "[Weekday] schedule_key: 55762bcd5383e162ef0b9ac8790665ed, trips found: 429\n"
     ]
    },
    {
     "name": "stderr",
     "output_type": "stream",
     "text": [
      "/opt/conda/lib/python3.11/site-packages/sqlalchemy_bigquery/_types.py:101: SAWarning: Did not recognize type 'INTERVAL' of column 'arrival_time_interval'\n",
      "  sqlalchemy.util.warn(\n",
      "/opt/conda/lib/python3.11/site-packages/sqlalchemy_bigquery/_types.py:101: SAWarning: Did not recognize type 'INTERVAL' of column 'departure_time_interval'\n",
      "  sqlalchemy.util.warn(\n",
      "/opt/conda/lib/python3.11/site-packages/sqlalchemy_bigquery/_types.py:101: SAWarning: Did not recognize type 'INTERVAL' of column 'start_pickup_drop_off_window_interval'\n",
      "  sqlalchemy.util.warn(\n",
      "/opt/conda/lib/python3.11/site-packages/sqlalchemy_bigquery/_types.py:101: SAWarning: Did not recognize type 'INTERVAL' of column 'end_pickup_drop_off_window_interval'\n",
      "  sqlalchemy.util.warn(\n"
     ]
    },
    {
     "name": "stdout",
     "output_type": "stream",
     "text": [
      "[Weekday] schedule_key: 55762bcd5383e162ef0b9ac8790665ed, stop times found: 16785\n"
     ]
    },
    {
     "name": "stderr",
     "output_type": "stream",
     "text": [
      "/opt/conda/lib/python3.11/site-packages/sqlalchemy_bigquery/_types.py:101: SAWarning: Did not recognize type 'GEOGRAPHY' of column 'pt_geom'\n",
      "  sqlalchemy.util.warn(\n"
     ]
    },
    {
     "name": "stdout",
     "output_type": "stream",
     "text": [
      "[Saturday] schedule_key: 55762bcd5383e162ef0b9ac8790665ed, feed_keys found: ['03f374bd15ee64b0605e9a4e25322b44']\n",
      "could not get metrolink feed on 2022-12-03!\n",
      "[Saturday] schedule_key: 55762bcd5383e162ef0b9ac8790665ed, trips found: 286\n"
     ]
    },
    {
     "name": "stderr",
     "output_type": "stream",
     "text": [
      "/opt/conda/lib/python3.11/site-packages/sqlalchemy_bigquery/_types.py:101: SAWarning: Did not recognize type 'INTERVAL' of column 'arrival_time_interval'\n",
      "  sqlalchemy.util.warn(\n",
      "/opt/conda/lib/python3.11/site-packages/sqlalchemy_bigquery/_types.py:101: SAWarning: Did not recognize type 'INTERVAL' of column 'departure_time_interval'\n",
      "  sqlalchemy.util.warn(\n",
      "/opt/conda/lib/python3.11/site-packages/sqlalchemy_bigquery/_types.py:101: SAWarning: Did not recognize type 'INTERVAL' of column 'start_pickup_drop_off_window_interval'\n",
      "  sqlalchemy.util.warn(\n",
      "/opt/conda/lib/python3.11/site-packages/sqlalchemy_bigquery/_types.py:101: SAWarning: Did not recognize type 'INTERVAL' of column 'end_pickup_drop_off_window_interval'\n",
      "  sqlalchemy.util.warn(\n"
     ]
    },
    {
     "name": "stdout",
     "output_type": "stream",
     "text": [
      "[Saturday] schedule_key: 55762bcd5383e162ef0b9ac8790665ed, stop times found: 12407\n"
     ]
    },
    {
     "name": "stderr",
     "output_type": "stream",
     "text": [
      "/opt/conda/lib/python3.11/site-packages/sqlalchemy_bigquery/_types.py:101: SAWarning: Did not recognize type 'GEOGRAPHY' of column 'pt_geom'\n",
      "  sqlalchemy.util.warn(\n"
     ]
    },
    {
     "name": "stdout",
     "output_type": "stream",
     "text": [
      "[Sunday] schedule_key: 55762bcd5383e162ef0b9ac8790665ed, feed_keys found: ['03f374bd15ee64b0605e9a4e25322b44']\n",
      "could not get metrolink feed on 2022-12-04!\n",
      "[Sunday] schedule_key: 55762bcd5383e162ef0b9ac8790665ed, trips found: 279\n"
     ]
    },
    {
     "name": "stderr",
     "output_type": "stream",
     "text": [
      "/opt/conda/lib/python3.11/site-packages/sqlalchemy_bigquery/_types.py:101: SAWarning: Did not recognize type 'INTERVAL' of column 'arrival_time_interval'\n",
      "  sqlalchemy.util.warn(\n",
      "/opt/conda/lib/python3.11/site-packages/sqlalchemy_bigquery/_types.py:101: SAWarning: Did not recognize type 'INTERVAL' of column 'departure_time_interval'\n",
      "  sqlalchemy.util.warn(\n",
      "/opt/conda/lib/python3.11/site-packages/sqlalchemy_bigquery/_types.py:101: SAWarning: Did not recognize type 'INTERVAL' of column 'start_pickup_drop_off_window_interval'\n",
      "  sqlalchemy.util.warn(\n",
      "/opt/conda/lib/python3.11/site-packages/sqlalchemy_bigquery/_types.py:101: SAWarning: Did not recognize type 'INTERVAL' of column 'end_pickup_drop_off_window_interval'\n",
      "  sqlalchemy.util.warn(\n"
     ]
    },
    {
     "name": "stdout",
     "output_type": "stream",
     "text": [
      "[Sunday] schedule_key: 55762bcd5383e162ef0b9ac8790665ed, stop times found: 12107\n"
     ]
    },
    {
     "name": "stderr",
     "output_type": "stream",
     "text": [
      "/opt/conda/lib/python3.11/site-packages/sqlalchemy_bigquery/_types.py:101: SAWarning: Did not recognize type 'GEOGRAPHY' of column 'pt_geom'\n",
      "  sqlalchemy.util.warn(\n"
     ]
    },
    {
     "name": "stdout",
     "output_type": "stream",
     "text": [
      "Saved results to gs://calitp-analytics-data/data-analyses/ahsc_grant/tool_data_2025/trips_perstop_55762bcd5383e162ef0b9ac8790665ed.parquet\n",
      "processing schedule_key 7f2e50bb01222fc776697df04bcae6fc\n",
      "No data for 7f2e50bb01222fc776697df04bcae6fc\n",
      "processing schedule_key dd1095de181d504f3ef7f65a13286d1d\n",
      "No data for dd1095de181d504f3ef7f65a13286d1d\n",
      "processing schedule_key 3c4a680a9c9ce5bfe825bfea2fc41f7d\n",
      "[Weekday] schedule_key: 3c4a680a9c9ce5bfe825bfea2fc41f7d, feed_keys found: ['90f869a48c91a114173528c1c50a0de9']\n",
      "could not get metrolink feed on 2022-11-30!\n",
      "[Weekday] schedule_key: 3c4a680a9c9ce5bfe825bfea2fc41f7d, trips found: 72\n"
     ]
    },
    {
     "name": "stderr",
     "output_type": "stream",
     "text": [
      "/opt/conda/lib/python3.11/site-packages/sqlalchemy_bigquery/_types.py:101: SAWarning: Did not recognize type 'INTERVAL' of column 'arrival_time_interval'\n",
      "  sqlalchemy.util.warn(\n",
      "/opt/conda/lib/python3.11/site-packages/sqlalchemy_bigquery/_types.py:101: SAWarning: Did not recognize type 'INTERVAL' of column 'departure_time_interval'\n",
      "  sqlalchemy.util.warn(\n",
      "/opt/conda/lib/python3.11/site-packages/sqlalchemy_bigquery/_types.py:101: SAWarning: Did not recognize type 'INTERVAL' of column 'start_pickup_drop_off_window_interval'\n",
      "  sqlalchemy.util.warn(\n",
      "/opt/conda/lib/python3.11/site-packages/sqlalchemy_bigquery/_types.py:101: SAWarning: Did not recognize type 'INTERVAL' of column 'end_pickup_drop_off_window_interval'\n",
      "  sqlalchemy.util.warn(\n"
     ]
    },
    {
     "name": "stdout",
     "output_type": "stream",
     "text": [
      "[Weekday] schedule_key: 3c4a680a9c9ce5bfe825bfea2fc41f7d, stop times found: 830\n"
     ]
    },
    {
     "name": "stderr",
     "output_type": "stream",
     "text": [
      "/opt/conda/lib/python3.11/site-packages/sqlalchemy_bigquery/_types.py:101: SAWarning: Did not recognize type 'GEOGRAPHY' of column 'pt_geom'\n",
      "  sqlalchemy.util.warn(\n"
     ]
    },
    {
     "name": "stdout",
     "output_type": "stream",
     "text": [
      "[Saturday] schedule_key: 3c4a680a9c9ce5bfe825bfea2fc41f7d, feed_keys found: ['90f869a48c91a114173528c1c50a0de9']\n",
      "could not get metrolink feed on 2022-12-03!\n",
      "[Saturday] schedule_key: 3c4a680a9c9ce5bfe825bfea2fc41f7d, trips found: 72\n"
     ]
    },
    {
     "name": "stderr",
     "output_type": "stream",
     "text": [
      "/opt/conda/lib/python3.11/site-packages/sqlalchemy_bigquery/_types.py:101: SAWarning: Did not recognize type 'INTERVAL' of column 'arrival_time_interval'\n",
      "  sqlalchemy.util.warn(\n",
      "/opt/conda/lib/python3.11/site-packages/sqlalchemy_bigquery/_types.py:101: SAWarning: Did not recognize type 'INTERVAL' of column 'departure_time_interval'\n",
      "  sqlalchemy.util.warn(\n",
      "/opt/conda/lib/python3.11/site-packages/sqlalchemy_bigquery/_types.py:101: SAWarning: Did not recognize type 'INTERVAL' of column 'start_pickup_drop_off_window_interval'\n",
      "  sqlalchemy.util.warn(\n",
      "/opt/conda/lib/python3.11/site-packages/sqlalchemy_bigquery/_types.py:101: SAWarning: Did not recognize type 'INTERVAL' of column 'end_pickup_drop_off_window_interval'\n",
      "  sqlalchemy.util.warn(\n"
     ]
    },
    {
     "name": "stdout",
     "output_type": "stream",
     "text": [
      "[Saturday] schedule_key: 3c4a680a9c9ce5bfe825bfea2fc41f7d, stop times found: 830\n"
     ]
    },
    {
     "name": "stderr",
     "output_type": "stream",
     "text": [
      "/opt/conda/lib/python3.11/site-packages/sqlalchemy_bigquery/_types.py:101: SAWarning: Did not recognize type 'GEOGRAPHY' of column 'pt_geom'\n",
      "  sqlalchemy.util.warn(\n"
     ]
    },
    {
     "name": "stdout",
     "output_type": "stream",
     "text": [
      "[Sunday] schedule_key: 3c4a680a9c9ce5bfe825bfea2fc41f7d, feed_keys found: ['90f869a48c91a114173528c1c50a0de9']\n",
      "could not get metrolink feed on 2022-12-04!\n",
      "[Sunday] schedule_key: 3c4a680a9c9ce5bfe825bfea2fc41f7d, trips found: 0\n",
      "Saved results to gs://calitp-analytics-data/data-analyses/ahsc_grant/tool_data_2025/trips_perstop_3c4a680a9c9ce5bfe825bfea2fc41f7d.parquet\n",
      "processing schedule_key 06c740040dd3f033f6c2499da3ff48d7\n",
      "No data for 06c740040dd3f033f6c2499da3ff48d7\n",
      "processing schedule_key 845705d7b17ebd215c4c789b5c845e2d\n",
      "[Weekday] schedule_key: 845705d7b17ebd215c4c789b5c845e2d, feed_keys found: ['ee17bbb03bd16e3a804770602f3b49d5']\n",
      "could not get metrolink feed on 2022-11-30!\n",
      "[Weekday] schedule_key: 845705d7b17ebd215c4c789b5c845e2d, trips found: 337\n"
     ]
    },
    {
     "name": "stderr",
     "output_type": "stream",
     "text": [
      "/opt/conda/lib/python3.11/site-packages/sqlalchemy_bigquery/_types.py:101: SAWarning: Did not recognize type 'INTERVAL' of column 'arrival_time_interval'\n",
      "  sqlalchemy.util.warn(\n",
      "/opt/conda/lib/python3.11/site-packages/sqlalchemy_bigquery/_types.py:101: SAWarning: Did not recognize type 'INTERVAL' of column 'departure_time_interval'\n",
      "  sqlalchemy.util.warn(\n",
      "/opt/conda/lib/python3.11/site-packages/sqlalchemy_bigquery/_types.py:101: SAWarning: Did not recognize type 'INTERVAL' of column 'start_pickup_drop_off_window_interval'\n",
      "  sqlalchemy.util.warn(\n",
      "/opt/conda/lib/python3.11/site-packages/sqlalchemy_bigquery/_types.py:101: SAWarning: Did not recognize type 'INTERVAL' of column 'end_pickup_drop_off_window_interval'\n",
      "  sqlalchemy.util.warn(\n"
     ]
    },
    {
     "name": "stdout",
     "output_type": "stream",
     "text": [
      "[Weekday] schedule_key: 845705d7b17ebd215c4c789b5c845e2d, stop times found: 16706\n"
     ]
    },
    {
     "name": "stderr",
     "output_type": "stream",
     "text": [
      "/opt/conda/lib/python3.11/site-packages/sqlalchemy_bigquery/_types.py:101: SAWarning: Did not recognize type 'GEOGRAPHY' of column 'pt_geom'\n",
      "  sqlalchemy.util.warn(\n"
     ]
    },
    {
     "name": "stdout",
     "output_type": "stream",
     "text": [
      "[Saturday] schedule_key: 845705d7b17ebd215c4c789b5c845e2d, feed_keys found: ['ee17bbb03bd16e3a804770602f3b49d5']\n",
      "could not get metrolink feed on 2022-12-03!\n",
      "[Saturday] schedule_key: 845705d7b17ebd215c4c789b5c845e2d, trips found: 131\n"
     ]
    },
    {
     "name": "stderr",
     "output_type": "stream",
     "text": [
      "/opt/conda/lib/python3.11/site-packages/sqlalchemy_bigquery/_types.py:101: SAWarning: Did not recognize type 'INTERVAL' of column 'arrival_time_interval'\n",
      "  sqlalchemy.util.warn(\n",
      "/opt/conda/lib/python3.11/site-packages/sqlalchemy_bigquery/_types.py:101: SAWarning: Did not recognize type 'INTERVAL' of column 'departure_time_interval'\n",
      "  sqlalchemy.util.warn(\n",
      "/opt/conda/lib/python3.11/site-packages/sqlalchemy_bigquery/_types.py:101: SAWarning: Did not recognize type 'INTERVAL' of column 'start_pickup_drop_off_window_interval'\n",
      "  sqlalchemy.util.warn(\n",
      "/opt/conda/lib/python3.11/site-packages/sqlalchemy_bigquery/_types.py:101: SAWarning: Did not recognize type 'INTERVAL' of column 'end_pickup_drop_off_window_interval'\n",
      "  sqlalchemy.util.warn(\n"
     ]
    },
    {
     "name": "stdout",
     "output_type": "stream",
     "text": [
      "[Saturday] schedule_key: 845705d7b17ebd215c4c789b5c845e2d, stop times found: 7793\n"
     ]
    },
    {
     "name": "stderr",
     "output_type": "stream",
     "text": [
      "/opt/conda/lib/python3.11/site-packages/sqlalchemy_bigquery/_types.py:101: SAWarning: Did not recognize type 'GEOGRAPHY' of column 'pt_geom'\n",
      "  sqlalchemy.util.warn(\n"
     ]
    },
    {
     "name": "stdout",
     "output_type": "stream",
     "text": [
      "[Sunday] schedule_key: 845705d7b17ebd215c4c789b5c845e2d, feed_keys found: ['ee17bbb03bd16e3a804770602f3b49d5']\n",
      "could not get metrolink feed on 2022-12-04!\n",
      "[Sunday] schedule_key: 845705d7b17ebd215c4c789b5c845e2d, trips found: 129\n"
     ]
    },
    {
     "name": "stderr",
     "output_type": "stream",
     "text": [
      "/opt/conda/lib/python3.11/site-packages/sqlalchemy_bigquery/_types.py:101: SAWarning: Did not recognize type 'INTERVAL' of column 'arrival_time_interval'\n",
      "  sqlalchemy.util.warn(\n",
      "/opt/conda/lib/python3.11/site-packages/sqlalchemy_bigquery/_types.py:101: SAWarning: Did not recognize type 'INTERVAL' of column 'departure_time_interval'\n",
      "  sqlalchemy.util.warn(\n",
      "/opt/conda/lib/python3.11/site-packages/sqlalchemy_bigquery/_types.py:101: SAWarning: Did not recognize type 'INTERVAL' of column 'start_pickup_drop_off_window_interval'\n",
      "  sqlalchemy.util.warn(\n",
      "/opt/conda/lib/python3.11/site-packages/sqlalchemy_bigquery/_types.py:101: SAWarning: Did not recognize type 'INTERVAL' of column 'end_pickup_drop_off_window_interval'\n",
      "  sqlalchemy.util.warn(\n"
     ]
    },
    {
     "name": "stdout",
     "output_type": "stream",
     "text": [
      "[Sunday] schedule_key: 845705d7b17ebd215c4c789b5c845e2d, stop times found: 7671\n"
     ]
    },
    {
     "name": "stderr",
     "output_type": "stream",
     "text": [
      "/opt/conda/lib/python3.11/site-packages/sqlalchemy_bigquery/_types.py:101: SAWarning: Did not recognize type 'GEOGRAPHY' of column 'pt_geom'\n",
      "  sqlalchemy.util.warn(\n"
     ]
    },
    {
     "name": "stdout",
     "output_type": "stream",
     "text": [
      "Saved results to gs://calitp-analytics-data/data-analyses/ahsc_grant/tool_data_2025/trips_perstop_845705d7b17ebd215c4c789b5c845e2d.parquet\n",
      "processing schedule_key 02a8b55d385869e3b6dc21278de69842\n",
      "No data for 02a8b55d385869e3b6dc21278de69842\n",
      "processing schedule_key 252145ab423be3db742117edcac11477\n",
      "No data for 252145ab423be3db742117edcac11477\n",
      "processing schedule_key de6d327228f7ee5d90418570b1cafa38\n",
      "No data for de6d327228f7ee5d90418570b1cafa38\n",
      "processing schedule_key 207a4557789b96761e745eb3eba92d05\n",
      "[Weekday] schedule_key: 207a4557789b96761e745eb3eba92d05, feed_keys found: ['b9d8a22ff32ccb51107c6c0f05998a04']\n",
      "could not get metrolink feed on 2022-11-30!\n",
      "[Weekday] schedule_key: 207a4557789b96761e745eb3eba92d05, trips found: 65\n"
     ]
    },
    {
     "name": "stderr",
     "output_type": "stream",
     "text": [
      "/opt/conda/lib/python3.11/site-packages/sqlalchemy_bigquery/_types.py:101: SAWarning: Did not recognize type 'INTERVAL' of column 'arrival_time_interval'\n",
      "  sqlalchemy.util.warn(\n",
      "/opt/conda/lib/python3.11/site-packages/sqlalchemy_bigquery/_types.py:101: SAWarning: Did not recognize type 'INTERVAL' of column 'departure_time_interval'\n",
      "  sqlalchemy.util.warn(\n",
      "/opt/conda/lib/python3.11/site-packages/sqlalchemy_bigquery/_types.py:101: SAWarning: Did not recognize type 'INTERVAL' of column 'start_pickup_drop_off_window_interval'\n",
      "  sqlalchemy.util.warn(\n",
      "/opt/conda/lib/python3.11/site-packages/sqlalchemy_bigquery/_types.py:101: SAWarning: Did not recognize type 'INTERVAL' of column 'end_pickup_drop_off_window_interval'\n",
      "  sqlalchemy.util.warn(\n",
      "/opt/conda/lib/python3.11/site-packages/pandas/core/tools/datetimes.py:557: RuntimeWarning: invalid value encountered in cast\n",
      "  arr, tz_parsed = tslib.array_with_unit_to_datetime(arg, unit, errors=errors)\n",
      "/opt/conda/lib/python3.11/site-packages/pandas/core/tools/datetimes.py:557: RuntimeWarning: invalid value encountered in cast\n",
      "  arr, tz_parsed = tslib.array_with_unit_to_datetime(arg, unit, errors=errors)\n",
      "/opt/conda/lib/python3.11/site-packages/sqlalchemy_bigquery/_types.py:101: SAWarning: Did not recognize type 'GEOGRAPHY' of column 'pt_geom'\n",
      "  sqlalchemy.util.warn(\n"
     ]
    },
    {
     "name": "stdout",
     "output_type": "stream",
     "text": [
      "[Weekday] schedule_key: 207a4557789b96761e745eb3eba92d05, stop times found: 1744\n",
      "[Saturday] schedule_key: 207a4557789b96761e745eb3eba92d05, feed_keys found: ['b9d8a22ff32ccb51107c6c0f05998a04']\n",
      "could not get metrolink feed on 2022-12-03!\n",
      "[Saturday] schedule_key: 207a4557789b96761e745eb3eba92d05, trips found: 108\n"
     ]
    },
    {
     "name": "stderr",
     "output_type": "stream",
     "text": [
      "/opt/conda/lib/python3.11/site-packages/sqlalchemy_bigquery/_types.py:101: SAWarning: Did not recognize type 'INTERVAL' of column 'arrival_time_interval'\n",
      "  sqlalchemy.util.warn(\n",
      "/opt/conda/lib/python3.11/site-packages/sqlalchemy_bigquery/_types.py:101: SAWarning: Did not recognize type 'INTERVAL' of column 'departure_time_interval'\n",
      "  sqlalchemy.util.warn(\n",
      "/opt/conda/lib/python3.11/site-packages/sqlalchemy_bigquery/_types.py:101: SAWarning: Did not recognize type 'INTERVAL' of column 'start_pickup_drop_off_window_interval'\n",
      "  sqlalchemy.util.warn(\n",
      "/opt/conda/lib/python3.11/site-packages/sqlalchemy_bigquery/_types.py:101: SAWarning: Did not recognize type 'INTERVAL' of column 'end_pickup_drop_off_window_interval'\n",
      "  sqlalchemy.util.warn(\n",
      "/opt/conda/lib/python3.11/site-packages/pandas/core/tools/datetimes.py:557: RuntimeWarning: invalid value encountered in cast\n",
      "  arr, tz_parsed = tslib.array_with_unit_to_datetime(arg, unit, errors=errors)\n",
      "/opt/conda/lib/python3.11/site-packages/pandas/core/tools/datetimes.py:557: RuntimeWarning: invalid value encountered in cast\n",
      "  arr, tz_parsed = tslib.array_with_unit_to_datetime(arg, unit, errors=errors)\n",
      "/opt/conda/lib/python3.11/site-packages/sqlalchemy_bigquery/_types.py:101: SAWarning: Did not recognize type 'GEOGRAPHY' of column 'pt_geom'\n",
      "  sqlalchemy.util.warn(\n"
     ]
    },
    {
     "name": "stdout",
     "output_type": "stream",
     "text": [
      "[Saturday] schedule_key: 207a4557789b96761e745eb3eba92d05, stop times found: 2547\n",
      "[Sunday] schedule_key: 207a4557789b96761e745eb3eba92d05, feed_keys found: ['b9d8a22ff32ccb51107c6c0f05998a04']\n",
      "could not get metrolink feed on 2022-12-04!\n",
      "[Sunday] schedule_key: 207a4557789b96761e745eb3eba92d05, trips found: 68\n"
     ]
    },
    {
     "name": "stderr",
     "output_type": "stream",
     "text": [
      "/opt/conda/lib/python3.11/site-packages/sqlalchemy_bigquery/_types.py:101: SAWarning: Did not recognize type 'INTERVAL' of column 'arrival_time_interval'\n",
      "  sqlalchemy.util.warn(\n",
      "/opt/conda/lib/python3.11/site-packages/sqlalchemy_bigquery/_types.py:101: SAWarning: Did not recognize type 'INTERVAL' of column 'departure_time_interval'\n",
      "  sqlalchemy.util.warn(\n",
      "/opt/conda/lib/python3.11/site-packages/sqlalchemy_bigquery/_types.py:101: SAWarning: Did not recognize type 'INTERVAL' of column 'start_pickup_drop_off_window_interval'\n",
      "  sqlalchemy.util.warn(\n",
      "/opt/conda/lib/python3.11/site-packages/sqlalchemy_bigquery/_types.py:101: SAWarning: Did not recognize type 'INTERVAL' of column 'end_pickup_drop_off_window_interval'\n",
      "  sqlalchemy.util.warn(\n",
      "/opt/conda/lib/python3.11/site-packages/pandas/core/tools/datetimes.py:557: RuntimeWarning: invalid value encountered in cast\n",
      "  arr, tz_parsed = tslib.array_with_unit_to_datetime(arg, unit, errors=errors)\n",
      "/opt/conda/lib/python3.11/site-packages/pandas/core/tools/datetimes.py:557: RuntimeWarning: invalid value encountered in cast\n",
      "  arr, tz_parsed = tslib.array_with_unit_to_datetime(arg, unit, errors=errors)\n",
      "/opt/conda/lib/python3.11/site-packages/sqlalchemy_bigquery/_types.py:101: SAWarning: Did not recognize type 'GEOGRAPHY' of column 'pt_geom'\n",
      "  sqlalchemy.util.warn(\n"
     ]
    },
    {
     "name": "stdout",
     "output_type": "stream",
     "text": [
      "[Sunday] schedule_key: 207a4557789b96761e745eb3eba92d05, stop times found: 1122\n",
      "Saved results to gs://calitp-analytics-data/data-analyses/ahsc_grant/tool_data_2025/trips_perstop_207a4557789b96761e745eb3eba92d05.parquet\n",
      "processing schedule_key b22136aadea820e794cf93a30f0160ce\n",
      "No data for b22136aadea820e794cf93a30f0160ce\n",
      "processing schedule_key 19d66c540af2b6f3afcb83990ea62546\n",
      "[Weekday] schedule_key: 19d66c540af2b6f3afcb83990ea62546, feed_keys found: ['04a2bb9727f58083d3622ca13e5ab97c']\n",
      "could not get metrolink feed on 2022-11-30!\n",
      "[Weekday] schedule_key: 19d66c540af2b6f3afcb83990ea62546, trips found: 187\n"
     ]
    },
    {
     "name": "stderr",
     "output_type": "stream",
     "text": [
      "/opt/conda/lib/python3.11/site-packages/sqlalchemy_bigquery/_types.py:101: SAWarning: Did not recognize type 'INTERVAL' of column 'arrival_time_interval'\n",
      "  sqlalchemy.util.warn(\n",
      "/opt/conda/lib/python3.11/site-packages/sqlalchemy_bigquery/_types.py:101: SAWarning: Did not recognize type 'INTERVAL' of column 'departure_time_interval'\n",
      "  sqlalchemy.util.warn(\n",
      "/opt/conda/lib/python3.11/site-packages/sqlalchemy_bigquery/_types.py:101: SAWarning: Did not recognize type 'INTERVAL' of column 'start_pickup_drop_off_window_interval'\n",
      "  sqlalchemy.util.warn(\n",
      "/opt/conda/lib/python3.11/site-packages/sqlalchemy_bigquery/_types.py:101: SAWarning: Did not recognize type 'INTERVAL' of column 'end_pickup_drop_off_window_interval'\n",
      "  sqlalchemy.util.warn(\n",
      "/opt/conda/lib/python3.11/site-packages/pandas/core/tools/datetimes.py:557: RuntimeWarning: invalid value encountered in cast\n",
      "  arr, tz_parsed = tslib.array_with_unit_to_datetime(arg, unit, errors=errors)\n",
      "/opt/conda/lib/python3.11/site-packages/pandas/core/tools/datetimes.py:557: RuntimeWarning: invalid value encountered in cast\n",
      "  arr, tz_parsed = tslib.array_with_unit_to_datetime(arg, unit, errors=errors)\n",
      "/opt/conda/lib/python3.11/site-packages/sqlalchemy_bigquery/_types.py:101: SAWarning: Did not recognize type 'GEOGRAPHY' of column 'pt_geom'\n",
      "  sqlalchemy.util.warn(\n"
     ]
    },
    {
     "name": "stdout",
     "output_type": "stream",
     "text": [
      "[Weekday] schedule_key: 19d66c540af2b6f3afcb83990ea62546, stop times found: 3595\n",
      "[Saturday] schedule_key: 19d66c540af2b6f3afcb83990ea62546, feed_keys found: ['04a2bb9727f58083d3622ca13e5ab97c']\n",
      "could not get metrolink feed on 2022-12-03!\n",
      "[Saturday] schedule_key: 19d66c540af2b6f3afcb83990ea62546, trips found: 173\n"
     ]
    },
    {
     "name": "stderr",
     "output_type": "stream",
     "text": [
      "/opt/conda/lib/python3.11/site-packages/sqlalchemy_bigquery/_types.py:101: SAWarning: Did not recognize type 'INTERVAL' of column 'arrival_time_interval'\n",
      "  sqlalchemy.util.warn(\n",
      "/opt/conda/lib/python3.11/site-packages/sqlalchemy_bigquery/_types.py:101: SAWarning: Did not recognize type 'INTERVAL' of column 'departure_time_interval'\n",
      "  sqlalchemy.util.warn(\n",
      "/opt/conda/lib/python3.11/site-packages/sqlalchemy_bigquery/_types.py:101: SAWarning: Did not recognize type 'INTERVAL' of column 'start_pickup_drop_off_window_interval'\n",
      "  sqlalchemy.util.warn(\n",
      "/opt/conda/lib/python3.11/site-packages/sqlalchemy_bigquery/_types.py:101: SAWarning: Did not recognize type 'INTERVAL' of column 'end_pickup_drop_off_window_interval'\n",
      "  sqlalchemy.util.warn(\n",
      "/opt/conda/lib/python3.11/site-packages/pandas/core/tools/datetimes.py:557: RuntimeWarning: invalid value encountered in cast\n",
      "  arr, tz_parsed = tslib.array_with_unit_to_datetime(arg, unit, errors=errors)\n",
      "/opt/conda/lib/python3.11/site-packages/pandas/core/tools/datetimes.py:557: RuntimeWarning: invalid value encountered in cast\n",
      "  arr, tz_parsed = tslib.array_with_unit_to_datetime(arg, unit, errors=errors)\n",
      "/opt/conda/lib/python3.11/site-packages/sqlalchemy_bigquery/_types.py:101: SAWarning: Did not recognize type 'GEOGRAPHY' of column 'pt_geom'\n",
      "  sqlalchemy.util.warn(\n"
     ]
    },
    {
     "name": "stdout",
     "output_type": "stream",
     "text": [
      "[Saturday] schedule_key: 19d66c540af2b6f3afcb83990ea62546, stop times found: 3595\n",
      "[Sunday] schedule_key: 19d66c540af2b6f3afcb83990ea62546, feed_keys found: ['04a2bb9727f58083d3622ca13e5ab97c']\n",
      "could not get metrolink feed on 2022-12-04!\n",
      "[Sunday] schedule_key: 19d66c540af2b6f3afcb83990ea62546, trips found: 169\n"
     ]
    },
    {
     "name": "stderr",
     "output_type": "stream",
     "text": [
      "/opt/conda/lib/python3.11/site-packages/sqlalchemy_bigquery/_types.py:101: SAWarning: Did not recognize type 'INTERVAL' of column 'arrival_time_interval'\n",
      "  sqlalchemy.util.warn(\n",
      "/opt/conda/lib/python3.11/site-packages/sqlalchemy_bigquery/_types.py:101: SAWarning: Did not recognize type 'INTERVAL' of column 'departure_time_interval'\n",
      "  sqlalchemy.util.warn(\n",
      "/opt/conda/lib/python3.11/site-packages/sqlalchemy_bigquery/_types.py:101: SAWarning: Did not recognize type 'INTERVAL' of column 'start_pickup_drop_off_window_interval'\n",
      "  sqlalchemy.util.warn(\n",
      "/opt/conda/lib/python3.11/site-packages/sqlalchemy_bigquery/_types.py:101: SAWarning: Did not recognize type 'INTERVAL' of column 'end_pickup_drop_off_window_interval'\n",
      "  sqlalchemy.util.warn(\n",
      "/opt/conda/lib/python3.11/site-packages/pandas/core/tools/datetimes.py:557: RuntimeWarning: invalid value encountered in cast\n",
      "  arr, tz_parsed = tslib.array_with_unit_to_datetime(arg, unit, errors=errors)\n",
      "/opt/conda/lib/python3.11/site-packages/pandas/core/tools/datetimes.py:557: RuntimeWarning: invalid value encountered in cast\n",
      "  arr, tz_parsed = tslib.array_with_unit_to_datetime(arg, unit, errors=errors)\n",
      "/opt/conda/lib/python3.11/site-packages/sqlalchemy_bigquery/_types.py:101: SAWarning: Did not recognize type 'GEOGRAPHY' of column 'pt_geom'\n",
      "  sqlalchemy.util.warn(\n"
     ]
    },
    {
     "name": "stdout",
     "output_type": "stream",
     "text": [
      "[Sunday] schedule_key: 19d66c540af2b6f3afcb83990ea62546, stop times found: 3473\n",
      "Saved results to gs://calitp-analytics-data/data-analyses/ahsc_grant/tool_data_2025/trips_perstop_19d66c540af2b6f3afcb83990ea62546.parquet\n",
      "processing schedule_key 0ed8441c82144da5eef8fa149d6ea116\n",
      "[Weekday] schedule_key: 0ed8441c82144da5eef8fa149d6ea116, feed_keys found: ['46b389175be028f527f2f28ffa63d560']\n",
      "could not get metrolink feed on 2022-11-30!\n",
      "[Weekday] schedule_key: 0ed8441c82144da5eef8fa149d6ea116, trips found: 95\n"
     ]
    },
    {
     "name": "stderr",
     "output_type": "stream",
     "text": [
      "/opt/conda/lib/python3.11/site-packages/sqlalchemy_bigquery/_types.py:101: SAWarning: Did not recognize type 'INTERVAL' of column 'arrival_time_interval'\n",
      "  sqlalchemy.util.warn(\n",
      "/opt/conda/lib/python3.11/site-packages/sqlalchemy_bigquery/_types.py:101: SAWarning: Did not recognize type 'INTERVAL' of column 'departure_time_interval'\n",
      "  sqlalchemy.util.warn(\n",
      "/opt/conda/lib/python3.11/site-packages/sqlalchemy_bigquery/_types.py:101: SAWarning: Did not recognize type 'INTERVAL' of column 'start_pickup_drop_off_window_interval'\n",
      "  sqlalchemy.util.warn(\n",
      "/opt/conda/lib/python3.11/site-packages/sqlalchemy_bigquery/_types.py:101: SAWarning: Did not recognize type 'INTERVAL' of column 'end_pickup_drop_off_window_interval'\n",
      "  sqlalchemy.util.warn(\n",
      "/opt/conda/lib/python3.11/site-packages/pandas/core/tools/datetimes.py:557: RuntimeWarning: invalid value encountered in cast\n",
      "  arr, tz_parsed = tslib.array_with_unit_to_datetime(arg, unit, errors=errors)\n",
      "/opt/conda/lib/python3.11/site-packages/pandas/core/tools/datetimes.py:557: RuntimeWarning: invalid value encountered in cast\n",
      "  arr, tz_parsed = tslib.array_with_unit_to_datetime(arg, unit, errors=errors)\n",
      "/opt/conda/lib/python3.11/site-packages/sqlalchemy_bigquery/_types.py:101: SAWarning: Did not recognize type 'GEOGRAPHY' of column 'pt_geom'\n",
      "  sqlalchemy.util.warn(\n"
     ]
    },
    {
     "name": "stdout",
     "output_type": "stream",
     "text": [
      "[Weekday] schedule_key: 0ed8441c82144da5eef8fa149d6ea116, stop times found: 1753\n",
      "[Saturday] schedule_key: 0ed8441c82144da5eef8fa149d6ea116, feed_keys found: ['46b389175be028f527f2f28ffa63d560']\n",
      "could not get metrolink feed on 2022-12-03!\n",
      "[Saturday] schedule_key: 0ed8441c82144da5eef8fa149d6ea116, trips found: 0\n",
      "[Sunday] schedule_key: 0ed8441c82144da5eef8fa149d6ea116, feed_keys found: ['46b389175be028f527f2f28ffa63d560']\n",
      "could not get metrolink feed on 2022-12-04!\n",
      "[Sunday] schedule_key: 0ed8441c82144da5eef8fa149d6ea116, trips found: 0\n",
      "Saved results to gs://calitp-analytics-data/data-analyses/ahsc_grant/tool_data_2025/trips_perstop_0ed8441c82144da5eef8fa149d6ea116.parquet\n",
      "processing schedule_key 07484e2075d31e135baa85b476c851dd\n",
      "[Weekday] schedule_key: 07484e2075d31e135baa85b476c851dd, feed_keys found: ['48b8650cd0c278d72eea5abaeb8dc963']\n",
      "could not get metrolink feed on 2022-11-30!\n",
      "[Weekday] schedule_key: 07484e2075d31e135baa85b476c851dd, trips found: 2039\n"
     ]
    },
    {
     "name": "stderr",
     "output_type": "stream",
     "text": [
      "/opt/conda/lib/python3.11/site-packages/sqlalchemy_bigquery/_types.py:101: SAWarning: Did not recognize type 'INTERVAL' of column 'arrival_time_interval'\n",
      "  sqlalchemy.util.warn(\n",
      "/opt/conda/lib/python3.11/site-packages/sqlalchemy_bigquery/_types.py:101: SAWarning: Did not recognize type 'INTERVAL' of column 'departure_time_interval'\n",
      "  sqlalchemy.util.warn(\n",
      "/opt/conda/lib/python3.11/site-packages/sqlalchemy_bigquery/_types.py:101: SAWarning: Did not recognize type 'INTERVAL' of column 'start_pickup_drop_off_window_interval'\n",
      "  sqlalchemy.util.warn(\n",
      "/opt/conda/lib/python3.11/site-packages/sqlalchemy_bigquery/_types.py:101: SAWarning: Did not recognize type 'INTERVAL' of column 'end_pickup_drop_off_window_interval'\n",
      "  sqlalchemy.util.warn(\n"
     ]
    },
    {
     "name": "stdout",
     "output_type": "stream",
     "text": [
      "[Weekday] schedule_key: 07484e2075d31e135baa85b476c851dd, stop times found: 83237\n"
     ]
    },
    {
     "name": "stderr",
     "output_type": "stream",
     "text": [
      "/opt/conda/lib/python3.11/site-packages/sqlalchemy_bigquery/_types.py:101: SAWarning: Did not recognize type 'GEOGRAPHY' of column 'pt_geom'\n",
      "  sqlalchemy.util.warn(\n"
     ]
    },
    {
     "name": "stdout",
     "output_type": "stream",
     "text": [
      "[Saturday] schedule_key: 07484e2075d31e135baa85b476c851dd, feed_keys found: ['48b8650cd0c278d72eea5abaeb8dc963']\n",
      "could not get metrolink feed on 2022-12-03!\n",
      "[Saturday] schedule_key: 07484e2075d31e135baa85b476c851dd, trips found: 1214\n"
     ]
    },
    {
     "name": "stderr",
     "output_type": "stream",
     "text": [
      "/opt/conda/lib/python3.11/site-packages/sqlalchemy_bigquery/_types.py:101: SAWarning: Did not recognize type 'INTERVAL' of column 'arrival_time_interval'\n",
      "  sqlalchemy.util.warn(\n",
      "/opt/conda/lib/python3.11/site-packages/sqlalchemy_bigquery/_types.py:101: SAWarning: Did not recognize type 'INTERVAL' of column 'departure_time_interval'\n",
      "  sqlalchemy.util.warn(\n",
      "/opt/conda/lib/python3.11/site-packages/sqlalchemy_bigquery/_types.py:101: SAWarning: Did not recognize type 'INTERVAL' of column 'start_pickup_drop_off_window_interval'\n",
      "  sqlalchemy.util.warn(\n",
      "/opt/conda/lib/python3.11/site-packages/sqlalchemy_bigquery/_types.py:101: SAWarning: Did not recognize type 'INTERVAL' of column 'end_pickup_drop_off_window_interval'\n",
      "  sqlalchemy.util.warn(\n"
     ]
    },
    {
     "name": "stdout",
     "output_type": "stream",
     "text": [
      "[Saturday] schedule_key: 07484e2075d31e135baa85b476c851dd, stop times found: 52572\n"
     ]
    },
    {
     "name": "stderr",
     "output_type": "stream",
     "text": [
      "/opt/conda/lib/python3.11/site-packages/sqlalchemy_bigquery/_types.py:101: SAWarning: Did not recognize type 'GEOGRAPHY' of column 'pt_geom'\n",
      "  sqlalchemy.util.warn(\n"
     ]
    },
    {
     "name": "stdout",
     "output_type": "stream",
     "text": [
      "[Sunday] schedule_key: 07484e2075d31e135baa85b476c851dd, feed_keys found: ['48b8650cd0c278d72eea5abaeb8dc963']\n",
      "could not get metrolink feed on 2022-12-04!\n",
      "[Sunday] schedule_key: 07484e2075d31e135baa85b476c851dd, trips found: 1169\n"
     ]
    },
    {
     "name": "stderr",
     "output_type": "stream",
     "text": [
      "/opt/conda/lib/python3.11/site-packages/sqlalchemy_bigquery/_types.py:101: SAWarning: Did not recognize type 'INTERVAL' of column 'arrival_time_interval'\n",
      "  sqlalchemy.util.warn(\n",
      "/opt/conda/lib/python3.11/site-packages/sqlalchemy_bigquery/_types.py:101: SAWarning: Did not recognize type 'INTERVAL' of column 'departure_time_interval'\n",
      "  sqlalchemy.util.warn(\n",
      "/opt/conda/lib/python3.11/site-packages/sqlalchemy_bigquery/_types.py:101: SAWarning: Did not recognize type 'INTERVAL' of column 'start_pickup_drop_off_window_interval'\n",
      "  sqlalchemy.util.warn(\n",
      "/opt/conda/lib/python3.11/site-packages/sqlalchemy_bigquery/_types.py:101: SAWarning: Did not recognize type 'INTERVAL' of column 'end_pickup_drop_off_window_interval'\n",
      "  sqlalchemy.util.warn(\n"
     ]
    },
    {
     "name": "stdout",
     "output_type": "stream",
     "text": [
      "[Sunday] schedule_key: 07484e2075d31e135baa85b476c851dd, stop times found: 50837\n"
     ]
    },
    {
     "name": "stderr",
     "output_type": "stream",
     "text": [
      "/opt/conda/lib/python3.11/site-packages/sqlalchemy_bigquery/_types.py:101: SAWarning: Did not recognize type 'GEOGRAPHY' of column 'pt_geom'\n",
      "  sqlalchemy.util.warn(\n"
     ]
    },
    {
     "name": "stdout",
     "output_type": "stream",
     "text": [
      "Saved results to gs://calitp-analytics-data/data-analyses/ahsc_grant/tool_data_2025/trips_perstop_07484e2075d31e135baa85b476c851dd.parquet\n",
      "processing schedule_key cc1a36acebb153c9d12136924cd76b63\n",
      "[Weekday] schedule_key: cc1a36acebb153c9d12136924cd76b63, feed_keys found: ['a0e7f7df2a69f76735e66db160b973d7']\n",
      "could not get metrolink feed on 2022-11-30!\n",
      "[Weekday] schedule_key: cc1a36acebb153c9d12136924cd76b63, trips found: 0\n",
      "[Saturday] schedule_key: cc1a36acebb153c9d12136924cd76b63, feed_keys found: ['a0e7f7df2a69f76735e66db160b973d7']\n",
      "could not get metrolink feed on 2022-12-03!\n",
      "[Saturday] schedule_key: cc1a36acebb153c9d12136924cd76b63, trips found: 0\n",
      "[Sunday] schedule_key: cc1a36acebb153c9d12136924cd76b63, feed_keys found: ['a0e7f7df2a69f76735e66db160b973d7']\n",
      "could not get metrolink feed on 2022-12-04!\n",
      "[Sunday] schedule_key: cc1a36acebb153c9d12136924cd76b63, trips found: 0\n",
      "No data for cc1a36acebb153c9d12136924cd76b63\n",
      "processing schedule_key a4bc507769d3a5163f7b1c4933528586\n",
      "No data for a4bc507769d3a5163f7b1c4933528586\n",
      "processing schedule_key 01c410e7ca5dadd459a2aac669948b51\n",
      "No data for 01c410e7ca5dadd459a2aac669948b51\n",
      "processing schedule_key ff69caba60e0a7ad2b31134bceee5508\n",
      "No data for ff69caba60e0a7ad2b31134bceee5508\n",
      "processing schedule_key ae027105e5431a31ae41b6b48a7030ac\n",
      "[Weekday] schedule_key: ae027105e5431a31ae41b6b48a7030ac, feed_keys found: ['573fc134cd2afe9beb2a2621723cd4e9']\n",
      "could not get metrolink feed on 2022-11-30!\n",
      "[Weekday] schedule_key: ae027105e5431a31ae41b6b48a7030ac, trips found: 154\n"
     ]
    },
    {
     "name": "stderr",
     "output_type": "stream",
     "text": [
      "/opt/conda/lib/python3.11/site-packages/sqlalchemy_bigquery/_types.py:101: SAWarning: Did not recognize type 'INTERVAL' of column 'arrival_time_interval'\n",
      "  sqlalchemy.util.warn(\n",
      "/opt/conda/lib/python3.11/site-packages/sqlalchemy_bigquery/_types.py:101: SAWarning: Did not recognize type 'INTERVAL' of column 'departure_time_interval'\n",
      "  sqlalchemy.util.warn(\n",
      "/opt/conda/lib/python3.11/site-packages/sqlalchemy_bigquery/_types.py:101: SAWarning: Did not recognize type 'INTERVAL' of column 'start_pickup_drop_off_window_interval'\n",
      "  sqlalchemy.util.warn(\n",
      "/opt/conda/lib/python3.11/site-packages/sqlalchemy_bigquery/_types.py:101: SAWarning: Did not recognize type 'INTERVAL' of column 'end_pickup_drop_off_window_interval'\n",
      "  sqlalchemy.util.warn(\n",
      "/opt/conda/lib/python3.11/site-packages/pandas/core/tools/datetimes.py:557: RuntimeWarning: invalid value encountered in cast\n",
      "  arr, tz_parsed = tslib.array_with_unit_to_datetime(arg, unit, errors=errors)\n",
      "/opt/conda/lib/python3.11/site-packages/pandas/core/tools/datetimes.py:557: RuntimeWarning: invalid value encountered in cast\n",
      "  arr, tz_parsed = tslib.array_with_unit_to_datetime(arg, unit, errors=errors)\n",
      "/opt/conda/lib/python3.11/site-packages/sqlalchemy_bigquery/_types.py:101: SAWarning: Did not recognize type 'GEOGRAPHY' of column 'pt_geom'\n",
      "  sqlalchemy.util.warn(\n"
     ]
    },
    {
     "name": "stdout",
     "output_type": "stream",
     "text": [
      "[Weekday] schedule_key: ae027105e5431a31ae41b6b48a7030ac, stop times found: 4198\n",
      "[Saturday] schedule_key: ae027105e5431a31ae41b6b48a7030ac, feed_keys found: ['573fc134cd2afe9beb2a2621723cd4e9']\n",
      "could not get metrolink feed on 2022-12-03!\n",
      "[Saturday] schedule_key: ae027105e5431a31ae41b6b48a7030ac, trips found: 67\n"
     ]
    },
    {
     "name": "stderr",
     "output_type": "stream",
     "text": [
      "/opt/conda/lib/python3.11/site-packages/sqlalchemy_bigquery/_types.py:101: SAWarning: Did not recognize type 'INTERVAL' of column 'arrival_time_interval'\n",
      "  sqlalchemy.util.warn(\n",
      "/opt/conda/lib/python3.11/site-packages/sqlalchemy_bigquery/_types.py:101: SAWarning: Did not recognize type 'INTERVAL' of column 'departure_time_interval'\n",
      "  sqlalchemy.util.warn(\n",
      "/opt/conda/lib/python3.11/site-packages/sqlalchemy_bigquery/_types.py:101: SAWarning: Did not recognize type 'INTERVAL' of column 'start_pickup_drop_off_window_interval'\n",
      "  sqlalchemy.util.warn(\n",
      "/opt/conda/lib/python3.11/site-packages/sqlalchemy_bigquery/_types.py:101: SAWarning: Did not recognize type 'INTERVAL' of column 'end_pickup_drop_off_window_interval'\n",
      "  sqlalchemy.util.warn(\n",
      "/opt/conda/lib/python3.11/site-packages/pandas/core/tools/datetimes.py:557: RuntimeWarning: invalid value encountered in cast\n",
      "  arr, tz_parsed = tslib.array_with_unit_to_datetime(arg, unit, errors=errors)\n",
      "/opt/conda/lib/python3.11/site-packages/pandas/core/tools/datetimes.py:557: RuntimeWarning: invalid value encountered in cast\n",
      "  arr, tz_parsed = tslib.array_with_unit_to_datetime(arg, unit, errors=errors)\n",
      "/opt/conda/lib/python3.11/site-packages/sqlalchemy_bigquery/_types.py:101: SAWarning: Did not recognize type 'GEOGRAPHY' of column 'pt_geom'\n",
      "  sqlalchemy.util.warn(\n"
     ]
    },
    {
     "name": "stdout",
     "output_type": "stream",
     "text": [
      "[Saturday] schedule_key: ae027105e5431a31ae41b6b48a7030ac, stop times found: 1658\n",
      "[Sunday] schedule_key: ae027105e5431a31ae41b6b48a7030ac, feed_keys found: ['573fc134cd2afe9beb2a2621723cd4e9']\n",
      "could not get metrolink feed on 2022-12-04!\n",
      "[Sunday] schedule_key: ae027105e5431a31ae41b6b48a7030ac, trips found: 0\n",
      "Saved results to gs://calitp-analytics-data/data-analyses/ahsc_grant/tool_data_2025/trips_perstop_ae027105e5431a31ae41b6b48a7030ac.parquet\n",
      "processing schedule_key 2285d44684e244b32031949faf18f64c\n",
      "[Weekday] schedule_key: 2285d44684e244b32031949faf18f64c, feed_keys found: ['44ec20df1baf0aecbf16fcd41e56e044']\n",
      "could not get metrolink feed on 2022-11-30!\n",
      "[Weekday] schedule_key: 2285d44684e244b32031949faf18f64c, trips found: 96\n"
     ]
    },
    {
     "name": "stderr",
     "output_type": "stream",
     "text": [
      "/opt/conda/lib/python3.11/site-packages/sqlalchemy_bigquery/_types.py:101: SAWarning: Did not recognize type 'INTERVAL' of column 'arrival_time_interval'\n",
      "  sqlalchemy.util.warn(\n",
      "/opt/conda/lib/python3.11/site-packages/sqlalchemy_bigquery/_types.py:101: SAWarning: Did not recognize type 'INTERVAL' of column 'departure_time_interval'\n",
      "  sqlalchemy.util.warn(\n",
      "/opt/conda/lib/python3.11/site-packages/sqlalchemy_bigquery/_types.py:101: SAWarning: Did not recognize type 'INTERVAL' of column 'start_pickup_drop_off_window_interval'\n",
      "  sqlalchemy.util.warn(\n",
      "/opt/conda/lib/python3.11/site-packages/sqlalchemy_bigquery/_types.py:101: SAWarning: Did not recognize type 'INTERVAL' of column 'end_pickup_drop_off_window_interval'\n",
      "  sqlalchemy.util.warn(\n",
      "/opt/conda/lib/python3.11/site-packages/pandas/core/tools/datetimes.py:557: RuntimeWarning: invalid value encountered in cast\n",
      "  arr, tz_parsed = tslib.array_with_unit_to_datetime(arg, unit, errors=errors)\n",
      "/opt/conda/lib/python3.11/site-packages/pandas/core/tools/datetimes.py:557: RuntimeWarning: invalid value encountered in cast\n",
      "  arr, tz_parsed = tslib.array_with_unit_to_datetime(arg, unit, errors=errors)\n",
      "/opt/conda/lib/python3.11/site-packages/sqlalchemy_bigquery/_types.py:101: SAWarning: Did not recognize type 'GEOGRAPHY' of column 'pt_geom'\n",
      "  sqlalchemy.util.warn(\n"
     ]
    },
    {
     "name": "stdout",
     "output_type": "stream",
     "text": [
      "[Weekday] schedule_key: 2285d44684e244b32031949faf18f64c, stop times found: 1529\n",
      "[Saturday] schedule_key: 2285d44684e244b32031949faf18f64c, feed_keys found: ['44ec20df1baf0aecbf16fcd41e56e044']\n",
      "could not get metrolink feed on 2022-12-03!\n",
      "[Saturday] schedule_key: 2285d44684e244b32031949faf18f64c, trips found: 46\n"
     ]
    },
    {
     "name": "stderr",
     "output_type": "stream",
     "text": [
      "/opt/conda/lib/python3.11/site-packages/sqlalchemy_bigquery/_types.py:101: SAWarning: Did not recognize type 'INTERVAL' of column 'arrival_time_interval'\n",
      "  sqlalchemy.util.warn(\n",
      "/opt/conda/lib/python3.11/site-packages/sqlalchemy_bigquery/_types.py:101: SAWarning: Did not recognize type 'INTERVAL' of column 'departure_time_interval'\n",
      "  sqlalchemy.util.warn(\n",
      "/opt/conda/lib/python3.11/site-packages/sqlalchemy_bigquery/_types.py:101: SAWarning: Did not recognize type 'INTERVAL' of column 'start_pickup_drop_off_window_interval'\n",
      "  sqlalchemy.util.warn(\n",
      "/opt/conda/lib/python3.11/site-packages/sqlalchemy_bigquery/_types.py:101: SAWarning: Did not recognize type 'INTERVAL' of column 'end_pickup_drop_off_window_interval'\n",
      "  sqlalchemy.util.warn(\n",
      "/opt/conda/lib/python3.11/site-packages/pandas/core/tools/datetimes.py:557: RuntimeWarning: invalid value encountered in cast\n",
      "  arr, tz_parsed = tslib.array_with_unit_to_datetime(arg, unit, errors=errors)\n",
      "/opt/conda/lib/python3.11/site-packages/pandas/core/tools/datetimes.py:557: RuntimeWarning: invalid value encountered in cast\n",
      "  arr, tz_parsed = tslib.array_with_unit_to_datetime(arg, unit, errors=errors)\n",
      "/opt/conda/lib/python3.11/site-packages/sqlalchemy_bigquery/_types.py:101: SAWarning: Did not recognize type 'GEOGRAPHY' of column 'pt_geom'\n",
      "  sqlalchemy.util.warn(\n"
     ]
    },
    {
     "name": "stdout",
     "output_type": "stream",
     "text": [
      "[Saturday] schedule_key: 2285d44684e244b32031949faf18f64c, stop times found: 616\n",
      "[Sunday] schedule_key: 2285d44684e244b32031949faf18f64c, feed_keys found: ['44ec20df1baf0aecbf16fcd41e56e044']\n",
      "could not get metrolink feed on 2022-12-04!\n",
      "[Sunday] schedule_key: 2285d44684e244b32031949faf18f64c, trips found: 24\n"
     ]
    },
    {
     "name": "stderr",
     "output_type": "stream",
     "text": [
      "/opt/conda/lib/python3.11/site-packages/sqlalchemy_bigquery/_types.py:101: SAWarning: Did not recognize type 'INTERVAL' of column 'arrival_time_interval'\n",
      "  sqlalchemy.util.warn(\n",
      "/opt/conda/lib/python3.11/site-packages/sqlalchemy_bigquery/_types.py:101: SAWarning: Did not recognize type 'INTERVAL' of column 'departure_time_interval'\n",
      "  sqlalchemy.util.warn(\n",
      "/opt/conda/lib/python3.11/site-packages/sqlalchemy_bigquery/_types.py:101: SAWarning: Did not recognize type 'INTERVAL' of column 'start_pickup_drop_off_window_interval'\n",
      "  sqlalchemy.util.warn(\n",
      "/opt/conda/lib/python3.11/site-packages/sqlalchemy_bigquery/_types.py:101: SAWarning: Did not recognize type 'INTERVAL' of column 'end_pickup_drop_off_window_interval'\n",
      "  sqlalchemy.util.warn(\n",
      "/opt/conda/lib/python3.11/site-packages/pandas/core/tools/datetimes.py:557: RuntimeWarning: invalid value encountered in cast\n",
      "  arr, tz_parsed = tslib.array_with_unit_to_datetime(arg, unit, errors=errors)\n",
      "/opt/conda/lib/python3.11/site-packages/pandas/core/tools/datetimes.py:557: RuntimeWarning: invalid value encountered in cast\n",
      "  arr, tz_parsed = tslib.array_with_unit_to_datetime(arg, unit, errors=errors)\n",
      "/opt/conda/lib/python3.11/site-packages/sqlalchemy_bigquery/_types.py:101: SAWarning: Did not recognize type 'GEOGRAPHY' of column 'pt_geom'\n",
      "  sqlalchemy.util.warn(\n"
     ]
    },
    {
     "name": "stdout",
     "output_type": "stream",
     "text": [
      "[Sunday] schedule_key: 2285d44684e244b32031949faf18f64c, stop times found: 303\n",
      "Saved results to gs://calitp-analytics-data/data-analyses/ahsc_grant/tool_data_2025/trips_perstop_2285d44684e244b32031949faf18f64c.parquet\n",
      "processing schedule_key 7863d3bb7214ea16fcb086e98cb23775\n",
      "[Weekday] schedule_key: 7863d3bb7214ea16fcb086e98cb23775, feed_keys found: ['1a1adb44e522800c8b76ef2847e494b0']\n",
      "could not get metrolink feed on 2022-11-30!\n",
      "[Weekday] schedule_key: 7863d3bb7214ea16fcb086e98cb23775, trips found: 250\n"
     ]
    },
    {
     "name": "stderr",
     "output_type": "stream",
     "text": [
      "/opt/conda/lib/python3.11/site-packages/sqlalchemy_bigquery/_types.py:101: SAWarning: Did not recognize type 'INTERVAL' of column 'arrival_time_interval'\n",
      "  sqlalchemy.util.warn(\n",
      "/opt/conda/lib/python3.11/site-packages/sqlalchemy_bigquery/_types.py:101: SAWarning: Did not recognize type 'INTERVAL' of column 'departure_time_interval'\n",
      "  sqlalchemy.util.warn(\n",
      "/opt/conda/lib/python3.11/site-packages/sqlalchemy_bigquery/_types.py:101: SAWarning: Did not recognize type 'INTERVAL' of column 'start_pickup_drop_off_window_interval'\n",
      "  sqlalchemy.util.warn(\n",
      "/opt/conda/lib/python3.11/site-packages/sqlalchemy_bigquery/_types.py:101: SAWarning: Did not recognize type 'INTERVAL' of column 'end_pickup_drop_off_window_interval'\n",
      "  sqlalchemy.util.warn(\n"
     ]
    },
    {
     "name": "stdout",
     "output_type": "stream",
     "text": [
      "[Weekday] schedule_key: 7863d3bb7214ea16fcb086e98cb23775, stop times found: 5185\n"
     ]
    },
    {
     "name": "stderr",
     "output_type": "stream",
     "text": [
      "/opt/conda/lib/python3.11/site-packages/sqlalchemy_bigquery/_types.py:101: SAWarning: Did not recognize type 'GEOGRAPHY' of column 'pt_geom'\n",
      "  sqlalchemy.util.warn(\n"
     ]
    },
    {
     "name": "stdout",
     "output_type": "stream",
     "text": [
      "[Saturday] schedule_key: 7863d3bb7214ea16fcb086e98cb23775, feed_keys found: ['1a1adb44e522800c8b76ef2847e494b0']\n",
      "could not get metrolink feed on 2022-12-03!\n",
      "[Saturday] schedule_key: 7863d3bb7214ea16fcb086e98cb23775, trips found: 88\n"
     ]
    },
    {
     "name": "stderr",
     "output_type": "stream",
     "text": [
      "/opt/conda/lib/python3.11/site-packages/sqlalchemy_bigquery/_types.py:101: SAWarning: Did not recognize type 'INTERVAL' of column 'arrival_time_interval'\n",
      "  sqlalchemy.util.warn(\n",
      "/opt/conda/lib/python3.11/site-packages/sqlalchemy_bigquery/_types.py:101: SAWarning: Did not recognize type 'INTERVAL' of column 'departure_time_interval'\n",
      "  sqlalchemy.util.warn(\n",
      "/opt/conda/lib/python3.11/site-packages/sqlalchemy_bigquery/_types.py:101: SAWarning: Did not recognize type 'INTERVAL' of column 'start_pickup_drop_off_window_interval'\n",
      "  sqlalchemy.util.warn(\n",
      "/opt/conda/lib/python3.11/site-packages/sqlalchemy_bigquery/_types.py:101: SAWarning: Did not recognize type 'INTERVAL' of column 'end_pickup_drop_off_window_interval'\n",
      "  sqlalchemy.util.warn(\n"
     ]
    },
    {
     "name": "stdout",
     "output_type": "stream",
     "text": [
      "[Saturday] schedule_key: 7863d3bb7214ea16fcb086e98cb23775, stop times found: 1863\n"
     ]
    },
    {
     "name": "stderr",
     "output_type": "stream",
     "text": [
      "/opt/conda/lib/python3.11/site-packages/sqlalchemy_bigquery/_types.py:101: SAWarning: Did not recognize type 'GEOGRAPHY' of column 'pt_geom'\n",
      "  sqlalchemy.util.warn(\n"
     ]
    },
    {
     "name": "stdout",
     "output_type": "stream",
     "text": [
      "[Sunday] schedule_key: 7863d3bb7214ea16fcb086e98cb23775, feed_keys found: ['1a1adb44e522800c8b76ef2847e494b0']\n",
      "could not get metrolink feed on 2022-12-04!\n",
      "[Sunday] schedule_key: 7863d3bb7214ea16fcb086e98cb23775, trips found: 0\n",
      "Saved results to gs://calitp-analytics-data/data-analyses/ahsc_grant/tool_data_2025/trips_perstop_7863d3bb7214ea16fcb086e98cb23775.parquet\n",
      "processing schedule_key f9610c31410e978d62f8ad70fe5c86c4\n",
      "[Weekday] schedule_key: f9610c31410e978d62f8ad70fe5c86c4, feed_keys found: ['91d084125debd25646507ad88133d145']\n",
      "could not get metrolink feed on 2022-11-30!\n",
      "[Weekday] schedule_key: f9610c31410e978d62f8ad70fe5c86c4, trips found: 132\n"
     ]
    },
    {
     "name": "stderr",
     "output_type": "stream",
     "text": [
      "/opt/conda/lib/python3.11/site-packages/sqlalchemy_bigquery/_types.py:101: SAWarning: Did not recognize type 'INTERVAL' of column 'arrival_time_interval'\n",
      "  sqlalchemy.util.warn(\n",
      "/opt/conda/lib/python3.11/site-packages/sqlalchemy_bigquery/_types.py:101: SAWarning: Did not recognize type 'INTERVAL' of column 'departure_time_interval'\n",
      "  sqlalchemy.util.warn(\n",
      "/opt/conda/lib/python3.11/site-packages/sqlalchemy_bigquery/_types.py:101: SAWarning: Did not recognize type 'INTERVAL' of column 'start_pickup_drop_off_window_interval'\n",
      "  sqlalchemy.util.warn(\n",
      "/opt/conda/lib/python3.11/site-packages/sqlalchemy_bigquery/_types.py:101: SAWarning: Did not recognize type 'INTERVAL' of column 'end_pickup_drop_off_window_interval'\n",
      "  sqlalchemy.util.warn(\n",
      "/opt/conda/lib/python3.11/site-packages/pandas/core/tools/datetimes.py:557: RuntimeWarning: invalid value encountered in cast\n",
      "  arr, tz_parsed = tslib.array_with_unit_to_datetime(arg, unit, errors=errors)\n",
      "/opt/conda/lib/python3.11/site-packages/pandas/core/tools/datetimes.py:557: RuntimeWarning: invalid value encountered in cast\n",
      "  arr, tz_parsed = tslib.array_with_unit_to_datetime(arg, unit, errors=errors)\n",
      "/opt/conda/lib/python3.11/site-packages/sqlalchemy_bigquery/_types.py:101: SAWarning: Did not recognize type 'GEOGRAPHY' of column 'pt_geom'\n",
      "  sqlalchemy.util.warn(\n"
     ]
    },
    {
     "name": "stdout",
     "output_type": "stream",
     "text": [
      "[Weekday] schedule_key: f9610c31410e978d62f8ad70fe5c86c4, stop times found: 3849\n",
      "[Saturday] schedule_key: f9610c31410e978d62f8ad70fe5c86c4, feed_keys found: ['91d084125debd25646507ad88133d145']\n",
      "could not get metrolink feed on 2022-12-03!\n",
      "[Saturday] schedule_key: f9610c31410e978d62f8ad70fe5c86c4, trips found: 42\n"
     ]
    },
    {
     "name": "stderr",
     "output_type": "stream",
     "text": [
      "/opt/conda/lib/python3.11/site-packages/sqlalchemy_bigquery/_types.py:101: SAWarning: Did not recognize type 'INTERVAL' of column 'arrival_time_interval'\n",
      "  sqlalchemy.util.warn(\n",
      "/opt/conda/lib/python3.11/site-packages/sqlalchemy_bigquery/_types.py:101: SAWarning: Did not recognize type 'INTERVAL' of column 'departure_time_interval'\n",
      "  sqlalchemy.util.warn(\n",
      "/opt/conda/lib/python3.11/site-packages/sqlalchemy_bigquery/_types.py:101: SAWarning: Did not recognize type 'INTERVAL' of column 'start_pickup_drop_off_window_interval'\n",
      "  sqlalchemy.util.warn(\n",
      "/opt/conda/lib/python3.11/site-packages/sqlalchemy_bigquery/_types.py:101: SAWarning: Did not recognize type 'INTERVAL' of column 'end_pickup_drop_off_window_interval'\n",
      "  sqlalchemy.util.warn(\n",
      "/opt/conda/lib/python3.11/site-packages/pandas/core/tools/datetimes.py:557: RuntimeWarning: invalid value encountered in cast\n",
      "  arr, tz_parsed = tslib.array_with_unit_to_datetime(arg, unit, errors=errors)\n",
      "/opt/conda/lib/python3.11/site-packages/pandas/core/tools/datetimes.py:557: RuntimeWarning: invalid value encountered in cast\n",
      "  arr, tz_parsed = tslib.array_with_unit_to_datetime(arg, unit, errors=errors)\n",
      "/opt/conda/lib/python3.11/site-packages/sqlalchemy_bigquery/_types.py:101: SAWarning: Did not recognize type 'GEOGRAPHY' of column 'pt_geom'\n",
      "  sqlalchemy.util.warn(\n"
     ]
    },
    {
     "name": "stdout",
     "output_type": "stream",
     "text": [
      "[Saturday] schedule_key: f9610c31410e978d62f8ad70fe5c86c4, stop times found: 1417\n",
      "[Sunday] schedule_key: f9610c31410e978d62f8ad70fe5c86c4, feed_keys found: ['91d084125debd25646507ad88133d145']\n",
      "could not get metrolink feed on 2022-12-04!\n",
      "[Sunday] schedule_key: f9610c31410e978d62f8ad70fe5c86c4, trips found: 0\n",
      "Saved results to gs://calitp-analytics-data/data-analyses/ahsc_grant/tool_data_2025/trips_perstop_f9610c31410e978d62f8ad70fe5c86c4.parquet\n",
      "processing schedule_key bbe638657c6de50dfe66d29b01d457f0\n",
      "No data for bbe638657c6de50dfe66d29b01d457f0\n",
      "processing schedule_key b133a552e7fcbe4319755adf2cd8ad1d\n",
      "[Weekday] schedule_key: b133a552e7fcbe4319755adf2cd8ad1d, feed_keys found: ['2b1961668fea963a745c67ca8b41ab68']\n",
      "could not get metrolink feed on 2022-11-30!\n",
      "[Weekday] schedule_key: b133a552e7fcbe4319755adf2cd8ad1d, trips found: 1785\n"
     ]
    },
    {
     "name": "stderr",
     "output_type": "stream",
     "text": [
      "/opt/conda/lib/python3.11/site-packages/sqlalchemy_bigquery/_types.py:101: SAWarning: Did not recognize type 'INTERVAL' of column 'arrival_time_interval'\n",
      "  sqlalchemy.util.warn(\n",
      "/opt/conda/lib/python3.11/site-packages/sqlalchemy_bigquery/_types.py:101: SAWarning: Did not recognize type 'INTERVAL' of column 'departure_time_interval'\n",
      "  sqlalchemy.util.warn(\n",
      "/opt/conda/lib/python3.11/site-packages/sqlalchemy_bigquery/_types.py:101: SAWarning: Did not recognize type 'INTERVAL' of column 'start_pickup_drop_off_window_interval'\n",
      "  sqlalchemy.util.warn(\n",
      "/opt/conda/lib/python3.11/site-packages/sqlalchemy_bigquery/_types.py:101: SAWarning: Did not recognize type 'INTERVAL' of column 'end_pickup_drop_off_window_interval'\n",
      "  sqlalchemy.util.warn(\n"
     ]
    },
    {
     "name": "stdout",
     "output_type": "stream",
     "text": [
      "[Weekday] schedule_key: b133a552e7fcbe4319755adf2cd8ad1d, stop times found: 87204\n"
     ]
    },
    {
     "name": "stderr",
     "output_type": "stream",
     "text": [
      "/opt/conda/lib/python3.11/site-packages/sqlalchemy_bigquery/_types.py:101: SAWarning: Did not recognize type 'GEOGRAPHY' of column 'pt_geom'\n",
      "  sqlalchemy.util.warn(\n"
     ]
    },
    {
     "name": "stdout",
     "output_type": "stream",
     "text": [
      "[Saturday] schedule_key: b133a552e7fcbe4319755adf2cd8ad1d, feed_keys found: ['2b1961668fea963a745c67ca8b41ab68']\n",
      "could not get metrolink feed on 2022-12-03!\n",
      "[Saturday] schedule_key: b133a552e7fcbe4319755adf2cd8ad1d, trips found: 1191\n"
     ]
    },
    {
     "name": "stderr",
     "output_type": "stream",
     "text": [
      "/opt/conda/lib/python3.11/site-packages/sqlalchemy_bigquery/_types.py:101: SAWarning: Did not recognize type 'INTERVAL' of column 'arrival_time_interval'\n",
      "  sqlalchemy.util.warn(\n",
      "/opt/conda/lib/python3.11/site-packages/sqlalchemy_bigquery/_types.py:101: SAWarning: Did not recognize type 'INTERVAL' of column 'departure_time_interval'\n",
      "  sqlalchemy.util.warn(\n",
      "/opt/conda/lib/python3.11/site-packages/sqlalchemy_bigquery/_types.py:101: SAWarning: Did not recognize type 'INTERVAL' of column 'start_pickup_drop_off_window_interval'\n",
      "  sqlalchemy.util.warn(\n",
      "/opt/conda/lib/python3.11/site-packages/sqlalchemy_bigquery/_types.py:101: SAWarning: Did not recognize type 'INTERVAL' of column 'end_pickup_drop_off_window_interval'\n",
      "  sqlalchemy.util.warn(\n"
     ]
    },
    {
     "name": "stdout",
     "output_type": "stream",
     "text": [
      "[Saturday] schedule_key: b133a552e7fcbe4319755adf2cd8ad1d, stop times found: 58643\n"
     ]
    },
    {
     "name": "stderr",
     "output_type": "stream",
     "text": [
      "/opt/conda/lib/python3.11/site-packages/sqlalchemy_bigquery/_types.py:101: SAWarning: Did not recognize type 'GEOGRAPHY' of column 'pt_geom'\n",
      "  sqlalchemy.util.warn(\n"
     ]
    },
    {
     "name": "stdout",
     "output_type": "stream",
     "text": [
      "[Sunday] schedule_key: b133a552e7fcbe4319755adf2cd8ad1d, feed_keys found: ['2b1961668fea963a745c67ca8b41ab68']\n",
      "could not get metrolink feed on 2022-12-04!\n",
      "[Sunday] schedule_key: b133a552e7fcbe4319755adf2cd8ad1d, trips found: 1120\n"
     ]
    },
    {
     "name": "stderr",
     "output_type": "stream",
     "text": [
      "/opt/conda/lib/python3.11/site-packages/sqlalchemy_bigquery/_types.py:101: SAWarning: Did not recognize type 'INTERVAL' of column 'arrival_time_interval'\n",
      "  sqlalchemy.util.warn(\n",
      "/opt/conda/lib/python3.11/site-packages/sqlalchemy_bigquery/_types.py:101: SAWarning: Did not recognize type 'INTERVAL' of column 'departure_time_interval'\n",
      "  sqlalchemy.util.warn(\n",
      "/opt/conda/lib/python3.11/site-packages/sqlalchemy_bigquery/_types.py:101: SAWarning: Did not recognize type 'INTERVAL' of column 'start_pickup_drop_off_window_interval'\n",
      "  sqlalchemy.util.warn(\n",
      "/opt/conda/lib/python3.11/site-packages/sqlalchemy_bigquery/_types.py:101: SAWarning: Did not recognize type 'INTERVAL' of column 'end_pickup_drop_off_window_interval'\n",
      "  sqlalchemy.util.warn(\n"
     ]
    },
    {
     "name": "stdout",
     "output_type": "stream",
     "text": [
      "[Sunday] schedule_key: b133a552e7fcbe4319755adf2cd8ad1d, stop times found: 56896\n"
     ]
    },
    {
     "name": "stderr",
     "output_type": "stream",
     "text": [
      "/opt/conda/lib/python3.11/site-packages/sqlalchemy_bigquery/_types.py:101: SAWarning: Did not recognize type 'GEOGRAPHY' of column 'pt_geom'\n",
      "  sqlalchemy.util.warn(\n"
     ]
    },
    {
     "name": "stdout",
     "output_type": "stream",
     "text": [
      "Saved results to gs://calitp-analytics-data/data-analyses/ahsc_grant/tool_data_2025/trips_perstop_b133a552e7fcbe4319755adf2cd8ad1d.parquet\n",
      "processing schedule_key 2937138fa39a7b0b8ac9997d1555fb5e\n",
      "[Weekday] schedule_key: 2937138fa39a7b0b8ac9997d1555fb5e, feed_keys found: ['95323733a271316e98246c04b7cc5ad5']\n",
      "could not get metrolink feed on 2022-11-30!\n",
      "[Weekday] schedule_key: 2937138fa39a7b0b8ac9997d1555fb5e, trips found: 13363\n"
     ]
    },
    {
     "name": "stderr",
     "output_type": "stream",
     "text": [
      "/opt/conda/lib/python3.11/site-packages/sqlalchemy_bigquery/_types.py:101: SAWarning: Did not recognize type 'INTERVAL' of column 'arrival_time_interval'\n",
      "  sqlalchemy.util.warn(\n",
      "/opt/conda/lib/python3.11/site-packages/sqlalchemy_bigquery/_types.py:101: SAWarning: Did not recognize type 'INTERVAL' of column 'departure_time_interval'\n",
      "  sqlalchemy.util.warn(\n",
      "/opt/conda/lib/python3.11/site-packages/sqlalchemy_bigquery/_types.py:101: SAWarning: Did not recognize type 'INTERVAL' of column 'start_pickup_drop_off_window_interval'\n",
      "  sqlalchemy.util.warn(\n",
      "/opt/conda/lib/python3.11/site-packages/sqlalchemy_bigquery/_types.py:101: SAWarning: Did not recognize type 'INTERVAL' of column 'end_pickup_drop_off_window_interval'\n",
      "  sqlalchemy.util.warn(\n"
     ]
    },
    {
     "name": "stdout",
     "output_type": "stream",
     "text": [
      "[Weekday] schedule_key: 2937138fa39a7b0b8ac9997d1555fb5e, stop times found: 820103\n"
     ]
    },
    {
     "name": "stderr",
     "output_type": "stream",
     "text": [
      "/opt/conda/lib/python3.11/site-packages/sqlalchemy_bigquery/_types.py:101: SAWarning: Did not recognize type 'GEOGRAPHY' of column 'pt_geom'\n",
      "  sqlalchemy.util.warn(\n"
     ]
    },
    {
     "name": "stdout",
     "output_type": "stream",
     "text": [
      "[Saturday] schedule_key: 2937138fa39a7b0b8ac9997d1555fb5e, feed_keys found: ['95323733a271316e98246c04b7cc5ad5']\n",
      "could not get metrolink feed on 2022-12-03!\n",
      "[Saturday] schedule_key: 2937138fa39a7b0b8ac9997d1555fb5e, trips found: 9939\n"
     ]
    },
    {
     "name": "stderr",
     "output_type": "stream",
     "text": [
      "/opt/conda/lib/python3.11/site-packages/sqlalchemy_bigquery/_types.py:101: SAWarning: Did not recognize type 'INTERVAL' of column 'arrival_time_interval'\n",
      "  sqlalchemy.util.warn(\n",
      "/opt/conda/lib/python3.11/site-packages/sqlalchemy_bigquery/_types.py:101: SAWarning: Did not recognize type 'INTERVAL' of column 'departure_time_interval'\n",
      "  sqlalchemy.util.warn(\n",
      "/opt/conda/lib/python3.11/site-packages/sqlalchemy_bigquery/_types.py:101: SAWarning: Did not recognize type 'INTERVAL' of column 'start_pickup_drop_off_window_interval'\n",
      "  sqlalchemy.util.warn(\n",
      "/opt/conda/lib/python3.11/site-packages/sqlalchemy_bigquery/_types.py:101: SAWarning: Did not recognize type 'INTERVAL' of column 'end_pickup_drop_off_window_interval'\n",
      "  sqlalchemy.util.warn(\n"
     ]
    },
    {
     "name": "stdout",
     "output_type": "stream",
     "text": [
      "[Saturday] schedule_key: 2937138fa39a7b0b8ac9997d1555fb5e, stop times found: 616132\n"
     ]
    },
    {
     "name": "stderr",
     "output_type": "stream",
     "text": [
      "/opt/conda/lib/python3.11/site-packages/sqlalchemy_bigquery/_types.py:101: SAWarning: Did not recognize type 'GEOGRAPHY' of column 'pt_geom'\n",
      "  sqlalchemy.util.warn(\n"
     ]
    },
    {
     "name": "stdout",
     "output_type": "stream",
     "text": [
      "[Sunday] schedule_key: 2937138fa39a7b0b8ac9997d1555fb5e, feed_keys found: ['95323733a271316e98246c04b7cc5ad5']\n",
      "could not get metrolink feed on 2022-12-04!\n",
      "[Sunday] schedule_key: 2937138fa39a7b0b8ac9997d1555fb5e, trips found: 9866\n"
     ]
    },
    {
     "name": "stderr",
     "output_type": "stream",
     "text": [
      "/opt/conda/lib/python3.11/site-packages/sqlalchemy_bigquery/_types.py:101: SAWarning: Did not recognize type 'INTERVAL' of column 'arrival_time_interval'\n",
      "  sqlalchemy.util.warn(\n",
      "/opt/conda/lib/python3.11/site-packages/sqlalchemy_bigquery/_types.py:101: SAWarning: Did not recognize type 'INTERVAL' of column 'departure_time_interval'\n",
      "  sqlalchemy.util.warn(\n",
      "/opt/conda/lib/python3.11/site-packages/sqlalchemy_bigquery/_types.py:101: SAWarning: Did not recognize type 'INTERVAL' of column 'start_pickup_drop_off_window_interval'\n",
      "  sqlalchemy.util.warn(\n",
      "/opt/conda/lib/python3.11/site-packages/sqlalchemy_bigquery/_types.py:101: SAWarning: Did not recognize type 'INTERVAL' of column 'end_pickup_drop_off_window_interval'\n",
      "  sqlalchemy.util.warn(\n"
     ]
    },
    {
     "name": "stdout",
     "output_type": "stream",
     "text": [
      "[Sunday] schedule_key: 2937138fa39a7b0b8ac9997d1555fb5e, stop times found: 608265\n"
     ]
    },
    {
     "name": "stderr",
     "output_type": "stream",
     "text": [
      "/opt/conda/lib/python3.11/site-packages/sqlalchemy_bigquery/_types.py:101: SAWarning: Did not recognize type 'GEOGRAPHY' of column 'pt_geom'\n",
      "  sqlalchemy.util.warn(\n"
     ]
    },
    {
     "name": "stdout",
     "output_type": "stream",
     "text": [
      "Saved results to gs://calitp-analytics-data/data-analyses/ahsc_grant/tool_data_2025/trips_perstop_2937138fa39a7b0b8ac9997d1555fb5e.parquet\n",
      "processing schedule_key a0399294f77ea6b47fdde17ca37bf1b9\n",
      "[Weekday] schedule_key: a0399294f77ea6b47fdde17ca37bf1b9, feed_keys found: ['1474f539949bd2480ba6f5f4f0bce8f8']\n",
      "could not get metrolink feed on 2022-11-30!\n",
      "[Weekday] schedule_key: a0399294f77ea6b47fdde17ca37bf1b9, trips found: 32\n"
     ]
    },
    {
     "name": "stderr",
     "output_type": "stream",
     "text": [
      "/opt/conda/lib/python3.11/site-packages/sqlalchemy_bigquery/_types.py:101: SAWarning: Did not recognize type 'INTERVAL' of column 'arrival_time_interval'\n",
      "  sqlalchemy.util.warn(\n",
      "/opt/conda/lib/python3.11/site-packages/sqlalchemy_bigquery/_types.py:101: SAWarning: Did not recognize type 'INTERVAL' of column 'departure_time_interval'\n",
      "  sqlalchemy.util.warn(\n",
      "/opt/conda/lib/python3.11/site-packages/sqlalchemy_bigquery/_types.py:101: SAWarning: Did not recognize type 'INTERVAL' of column 'start_pickup_drop_off_window_interval'\n",
      "  sqlalchemy.util.warn(\n",
      "/opt/conda/lib/python3.11/site-packages/sqlalchemy_bigquery/_types.py:101: SAWarning: Did not recognize type 'INTERVAL' of column 'end_pickup_drop_off_window_interval'\n",
      "  sqlalchemy.util.warn(\n"
     ]
    },
    {
     "name": "stdout",
     "output_type": "stream",
     "text": [
      "[Weekday] schedule_key: a0399294f77ea6b47fdde17ca37bf1b9, stop times found: 254\n"
     ]
    },
    {
     "name": "stderr",
     "output_type": "stream",
     "text": [
      "/opt/conda/lib/python3.11/site-packages/sqlalchemy_bigquery/_types.py:101: SAWarning: Did not recognize type 'GEOGRAPHY' of column 'pt_geom'\n",
      "  sqlalchemy.util.warn(\n"
     ]
    },
    {
     "name": "stdout",
     "output_type": "stream",
     "text": [
      "[Saturday] schedule_key: a0399294f77ea6b47fdde17ca37bf1b9, feed_keys found: ['1474f539949bd2480ba6f5f4f0bce8f8']\n",
      "could not get metrolink feed on 2022-12-03!\n",
      "[Saturday] schedule_key: a0399294f77ea6b47fdde17ca37bf1b9, trips found: 0\n",
      "[Sunday] schedule_key: a0399294f77ea6b47fdde17ca37bf1b9, feed_keys found: ['1474f539949bd2480ba6f5f4f0bce8f8']\n",
      "could not get metrolink feed on 2022-12-04!\n",
      "[Sunday] schedule_key: a0399294f77ea6b47fdde17ca37bf1b9, trips found: 0\n",
      "Saved results to gs://calitp-analytics-data/data-analyses/ahsc_grant/tool_data_2025/trips_perstop_a0399294f77ea6b47fdde17ca37bf1b9.parquet\n",
      "processing schedule_key 0d0333011f342b9defef6107e102fc22\n",
      "No data for 0d0333011f342b9defef6107e102fc22\n",
      "processing schedule_key d8721360a87d930e113bb4cf553475ac\n",
      "[Weekday] schedule_key: d8721360a87d930e113bb4cf553475ac, feed_keys found: ['4c93275385beff21f4a681b45818a20f']\n",
      "could not get metrolink feed on 2022-11-30!\n",
      "[Weekday] schedule_key: d8721360a87d930e113bb4cf553475ac, trips found: 116\n"
     ]
    },
    {
     "name": "stderr",
     "output_type": "stream",
     "text": [
      "/opt/conda/lib/python3.11/site-packages/sqlalchemy_bigquery/_types.py:101: SAWarning: Did not recognize type 'INTERVAL' of column 'arrival_time_interval'\n",
      "  sqlalchemy.util.warn(\n",
      "/opt/conda/lib/python3.11/site-packages/sqlalchemy_bigquery/_types.py:101: SAWarning: Did not recognize type 'INTERVAL' of column 'departure_time_interval'\n",
      "  sqlalchemy.util.warn(\n",
      "/opt/conda/lib/python3.11/site-packages/sqlalchemy_bigquery/_types.py:101: SAWarning: Did not recognize type 'INTERVAL' of column 'start_pickup_drop_off_window_interval'\n",
      "  sqlalchemy.util.warn(\n",
      "/opt/conda/lib/python3.11/site-packages/sqlalchemy_bigquery/_types.py:101: SAWarning: Did not recognize type 'INTERVAL' of column 'end_pickup_drop_off_window_interval'\n",
      "  sqlalchemy.util.warn(\n"
     ]
    },
    {
     "name": "stdout",
     "output_type": "stream",
     "text": [
      "[Weekday] schedule_key: d8721360a87d930e113bb4cf553475ac, stop times found: 2795\n"
     ]
    },
    {
     "name": "stderr",
     "output_type": "stream",
     "text": [
      "/opt/conda/lib/python3.11/site-packages/sqlalchemy_bigquery/_types.py:101: SAWarning: Did not recognize type 'GEOGRAPHY' of column 'pt_geom'\n",
      "  sqlalchemy.util.warn(\n"
     ]
    },
    {
     "name": "stdout",
     "output_type": "stream",
     "text": [
      "[Saturday] schedule_key: d8721360a87d930e113bb4cf553475ac, feed_keys found: ['4c93275385beff21f4a681b45818a20f']\n",
      "could not get metrolink feed on 2022-12-03!\n",
      "[Saturday] schedule_key: d8721360a87d930e113bb4cf553475ac, trips found: 25\n"
     ]
    },
    {
     "name": "stderr",
     "output_type": "stream",
     "text": [
      "/opt/conda/lib/python3.11/site-packages/sqlalchemy_bigquery/_types.py:101: SAWarning: Did not recognize type 'INTERVAL' of column 'arrival_time_interval'\n",
      "  sqlalchemy.util.warn(\n",
      "/opt/conda/lib/python3.11/site-packages/sqlalchemy_bigquery/_types.py:101: SAWarning: Did not recognize type 'INTERVAL' of column 'departure_time_interval'\n",
      "  sqlalchemy.util.warn(\n",
      "/opt/conda/lib/python3.11/site-packages/sqlalchemy_bigquery/_types.py:101: SAWarning: Did not recognize type 'INTERVAL' of column 'start_pickup_drop_off_window_interval'\n",
      "  sqlalchemy.util.warn(\n",
      "/opt/conda/lib/python3.11/site-packages/sqlalchemy_bigquery/_types.py:101: SAWarning: Did not recognize type 'INTERVAL' of column 'end_pickup_drop_off_window_interval'\n",
      "  sqlalchemy.util.warn(\n"
     ]
    },
    {
     "name": "stdout",
     "output_type": "stream",
     "text": [
      "[Saturday] schedule_key: d8721360a87d930e113bb4cf553475ac, stop times found: 665\n"
     ]
    },
    {
     "name": "stderr",
     "output_type": "stream",
     "text": [
      "/opt/conda/lib/python3.11/site-packages/sqlalchemy_bigquery/_types.py:101: SAWarning: Did not recognize type 'GEOGRAPHY' of column 'pt_geom'\n",
      "  sqlalchemy.util.warn(\n"
     ]
    },
    {
     "name": "stdout",
     "output_type": "stream",
     "text": [
      "[Sunday] schedule_key: d8721360a87d930e113bb4cf553475ac, feed_keys found: ['4c93275385beff21f4a681b45818a20f']\n",
      "could not get metrolink feed on 2022-12-04!\n",
      "[Sunday] schedule_key: d8721360a87d930e113bb4cf553475ac, trips found: 2\n"
     ]
    },
    {
     "name": "stderr",
     "output_type": "stream",
     "text": [
      "/opt/conda/lib/python3.11/site-packages/sqlalchemy_bigquery/_types.py:101: SAWarning: Did not recognize type 'INTERVAL' of column 'arrival_time_interval'\n",
      "  sqlalchemy.util.warn(\n",
      "/opt/conda/lib/python3.11/site-packages/sqlalchemy_bigquery/_types.py:101: SAWarning: Did not recognize type 'INTERVAL' of column 'departure_time_interval'\n",
      "  sqlalchemy.util.warn(\n",
      "/opt/conda/lib/python3.11/site-packages/sqlalchemy_bigquery/_types.py:101: SAWarning: Did not recognize type 'INTERVAL' of column 'start_pickup_drop_off_window_interval'\n",
      "  sqlalchemy.util.warn(\n",
      "/opt/conda/lib/python3.11/site-packages/sqlalchemy_bigquery/_types.py:101: SAWarning: Did not recognize type 'INTERVAL' of column 'end_pickup_drop_off_window_interval'\n",
      "  sqlalchemy.util.warn(\n"
     ]
    },
    {
     "name": "stdout",
     "output_type": "stream",
     "text": [
      "[Sunday] schedule_key: d8721360a87d930e113bb4cf553475ac, stop times found: 37\n"
     ]
    },
    {
     "name": "stderr",
     "output_type": "stream",
     "text": [
      "/opt/conda/lib/python3.11/site-packages/sqlalchemy_bigquery/_types.py:101: SAWarning: Did not recognize type 'GEOGRAPHY' of column 'pt_geom'\n",
      "  sqlalchemy.util.warn(\n"
     ]
    },
    {
     "name": "stdout",
     "output_type": "stream",
     "text": [
      "Saved results to gs://calitp-analytics-data/data-analyses/ahsc_grant/tool_data_2025/trips_perstop_d8721360a87d930e113bb4cf553475ac.parquet\n",
      "processing schedule_key cb0e340c5eb3c984a4506c7be3496aa2\n",
      "No data for cb0e340c5eb3c984a4506c7be3496aa2\n",
      "processing schedule_key 4289e328efffe0e54b41ec653ab54bfc\n",
      "[Weekday] schedule_key: 4289e328efffe0e54b41ec653ab54bfc, feed_keys found: ['7b13c711e463c681b61b0a151048c3ff']\n",
      "could not get metrolink feed on 2022-11-30!\n",
      "[Weekday] schedule_key: 4289e328efffe0e54b41ec653ab54bfc, trips found: 86\n"
     ]
    },
    {
     "name": "stderr",
     "output_type": "stream",
     "text": [
      "/opt/conda/lib/python3.11/site-packages/sqlalchemy_bigquery/_types.py:101: SAWarning: Did not recognize type 'INTERVAL' of column 'arrival_time_interval'\n",
      "  sqlalchemy.util.warn(\n",
      "/opt/conda/lib/python3.11/site-packages/sqlalchemy_bigquery/_types.py:101: SAWarning: Did not recognize type 'INTERVAL' of column 'departure_time_interval'\n",
      "  sqlalchemy.util.warn(\n",
      "/opt/conda/lib/python3.11/site-packages/sqlalchemy_bigquery/_types.py:101: SAWarning: Did not recognize type 'INTERVAL' of column 'start_pickup_drop_off_window_interval'\n",
      "  sqlalchemy.util.warn(\n",
      "/opt/conda/lib/python3.11/site-packages/sqlalchemy_bigquery/_types.py:101: SAWarning: Did not recognize type 'INTERVAL' of column 'end_pickup_drop_off_window_interval'\n",
      "  sqlalchemy.util.warn(\n",
      "/opt/conda/lib/python3.11/site-packages/pandas/core/tools/datetimes.py:557: RuntimeWarning: invalid value encountered in cast\n",
      "  arr, tz_parsed = tslib.array_with_unit_to_datetime(arg, unit, errors=errors)\n",
      "/opt/conda/lib/python3.11/site-packages/pandas/core/tools/datetimes.py:557: RuntimeWarning: invalid value encountered in cast\n",
      "  arr, tz_parsed = tslib.array_with_unit_to_datetime(arg, unit, errors=errors)\n",
      "/opt/conda/lib/python3.11/site-packages/sqlalchemy_bigquery/_types.py:101: SAWarning: Did not recognize type 'GEOGRAPHY' of column 'pt_geom'\n",
      "  sqlalchemy.util.warn(\n"
     ]
    },
    {
     "name": "stdout",
     "output_type": "stream",
     "text": [
      "[Weekday] schedule_key: 4289e328efffe0e54b41ec653ab54bfc, stop times found: 2158\n",
      "[Saturday] schedule_key: 4289e328efffe0e54b41ec653ab54bfc, feed_keys found: ['7b13c711e463c681b61b0a151048c3ff']\n",
      "could not get metrolink feed on 2022-12-03!\n",
      "[Saturday] schedule_key: 4289e328efffe0e54b41ec653ab54bfc, trips found: 20\n"
     ]
    },
    {
     "name": "stderr",
     "output_type": "stream",
     "text": [
      "/opt/conda/lib/python3.11/site-packages/sqlalchemy_bigquery/_types.py:101: SAWarning: Did not recognize type 'INTERVAL' of column 'arrival_time_interval'\n",
      "  sqlalchemy.util.warn(\n",
      "/opt/conda/lib/python3.11/site-packages/sqlalchemy_bigquery/_types.py:101: SAWarning: Did not recognize type 'INTERVAL' of column 'departure_time_interval'\n",
      "  sqlalchemy.util.warn(\n",
      "/opt/conda/lib/python3.11/site-packages/sqlalchemy_bigquery/_types.py:101: SAWarning: Did not recognize type 'INTERVAL' of column 'start_pickup_drop_off_window_interval'\n",
      "  sqlalchemy.util.warn(\n",
      "/opt/conda/lib/python3.11/site-packages/sqlalchemy_bigquery/_types.py:101: SAWarning: Did not recognize type 'INTERVAL' of column 'end_pickup_drop_off_window_interval'\n",
      "  sqlalchemy.util.warn(\n",
      "/opt/conda/lib/python3.11/site-packages/pandas/core/tools/datetimes.py:557: RuntimeWarning: invalid value encountered in cast\n",
      "  arr, tz_parsed = tslib.array_with_unit_to_datetime(arg, unit, errors=errors)\n",
      "/opt/conda/lib/python3.11/site-packages/pandas/core/tools/datetimes.py:557: RuntimeWarning: invalid value encountered in cast\n",
      "  arr, tz_parsed = tslib.array_with_unit_to_datetime(arg, unit, errors=errors)\n",
      "/opt/conda/lib/python3.11/site-packages/sqlalchemy_bigquery/_types.py:101: SAWarning: Did not recognize type 'GEOGRAPHY' of column 'pt_geom'\n",
      "  sqlalchemy.util.warn(\n"
     ]
    },
    {
     "name": "stdout",
     "output_type": "stream",
     "text": [
      "[Saturday] schedule_key: 4289e328efffe0e54b41ec653ab54bfc, stop times found: 840\n",
      "[Sunday] schedule_key: 4289e328efffe0e54b41ec653ab54bfc, feed_keys found: ['7b13c711e463c681b61b0a151048c3ff']\n",
      "could not get metrolink feed on 2022-12-04!\n",
      "[Sunday] schedule_key: 4289e328efffe0e54b41ec653ab54bfc, trips found: 6\n"
     ]
    },
    {
     "name": "stderr",
     "output_type": "stream",
     "text": [
      "/opt/conda/lib/python3.11/site-packages/sqlalchemy_bigquery/_types.py:101: SAWarning: Did not recognize type 'INTERVAL' of column 'arrival_time_interval'\n",
      "  sqlalchemy.util.warn(\n",
      "/opt/conda/lib/python3.11/site-packages/sqlalchemy_bigquery/_types.py:101: SAWarning: Did not recognize type 'INTERVAL' of column 'departure_time_interval'\n",
      "  sqlalchemy.util.warn(\n",
      "/opt/conda/lib/python3.11/site-packages/sqlalchemy_bigquery/_types.py:101: SAWarning: Did not recognize type 'INTERVAL' of column 'start_pickup_drop_off_window_interval'\n",
      "  sqlalchemy.util.warn(\n",
      "/opt/conda/lib/python3.11/site-packages/sqlalchemy_bigquery/_types.py:101: SAWarning: Did not recognize type 'INTERVAL' of column 'end_pickup_drop_off_window_interval'\n",
      "  sqlalchemy.util.warn(\n",
      "/opt/conda/lib/python3.11/site-packages/pandas/core/tools/datetimes.py:557: RuntimeWarning: invalid value encountered in cast\n",
      "  arr, tz_parsed = tslib.array_with_unit_to_datetime(arg, unit, errors=errors)\n",
      "/opt/conda/lib/python3.11/site-packages/pandas/core/tools/datetimes.py:557: RuntimeWarning: invalid value encountered in cast\n",
      "  arr, tz_parsed = tslib.array_with_unit_to_datetime(arg, unit, errors=errors)\n",
      "/opt/conda/lib/python3.11/site-packages/sqlalchemy_bigquery/_types.py:101: SAWarning: Did not recognize type 'GEOGRAPHY' of column 'pt_geom'\n",
      "  sqlalchemy.util.warn(\n"
     ]
    },
    {
     "name": "stdout",
     "output_type": "stream",
     "text": [
      "[Sunday] schedule_key: 4289e328efffe0e54b41ec653ab54bfc, stop times found: 208\n",
      "Saved results to gs://calitp-analytics-data/data-analyses/ahsc_grant/tool_data_2025/trips_perstop_4289e328efffe0e54b41ec653ab54bfc.parquet\n",
      "processing schedule_key 7480eb07bcb4fe557acdd073653b8c92\n",
      "[Weekday] schedule_key: 7480eb07bcb4fe557acdd073653b8c92, feed_keys found: ['0f0ee8cf8096c844d739f8109998b648']\n",
      "could not get metrolink feed on 2022-11-30!\n",
      "[Weekday] schedule_key: 7480eb07bcb4fe557acdd073653b8c92, trips found: 158\n"
     ]
    },
    {
     "name": "stderr",
     "output_type": "stream",
     "text": [
      "/opt/conda/lib/python3.11/site-packages/sqlalchemy_bigquery/_types.py:101: SAWarning: Did not recognize type 'INTERVAL' of column 'arrival_time_interval'\n",
      "  sqlalchemy.util.warn(\n",
      "/opt/conda/lib/python3.11/site-packages/sqlalchemy_bigquery/_types.py:101: SAWarning: Did not recognize type 'INTERVAL' of column 'departure_time_interval'\n",
      "  sqlalchemy.util.warn(\n",
      "/opt/conda/lib/python3.11/site-packages/sqlalchemy_bigquery/_types.py:101: SAWarning: Did not recognize type 'INTERVAL' of column 'start_pickup_drop_off_window_interval'\n",
      "  sqlalchemy.util.warn(\n",
      "/opt/conda/lib/python3.11/site-packages/sqlalchemy_bigquery/_types.py:101: SAWarning: Did not recognize type 'INTERVAL' of column 'end_pickup_drop_off_window_interval'\n",
      "  sqlalchemy.util.warn(\n",
      "/opt/conda/lib/python3.11/site-packages/pandas/core/tools/datetimes.py:557: RuntimeWarning: invalid value encountered in cast\n",
      "  arr, tz_parsed = tslib.array_with_unit_to_datetime(arg, unit, errors=errors)\n",
      "/opt/conda/lib/python3.11/site-packages/pandas/core/tools/datetimes.py:557: RuntimeWarning: invalid value encountered in cast\n",
      "  arr, tz_parsed = tslib.array_with_unit_to_datetime(arg, unit, errors=errors)\n",
      "/opt/conda/lib/python3.11/site-packages/sqlalchemy_bigquery/_types.py:101: SAWarning: Did not recognize type 'GEOGRAPHY' of column 'pt_geom'\n",
      "  sqlalchemy.util.warn(\n"
     ]
    },
    {
     "name": "stdout",
     "output_type": "stream",
     "text": [
      "[Weekday] schedule_key: 7480eb07bcb4fe557acdd073653b8c92, stop times found: 2877\n",
      "[Saturday] schedule_key: 7480eb07bcb4fe557acdd073653b8c92, feed_keys found: ['2516776da4154a9d3022d96ae8f05858']\n",
      "could not get metrolink feed on 2022-12-03!\n",
      "[Saturday] schedule_key: 7480eb07bcb4fe557acdd073653b8c92, trips found: 155\n"
     ]
    },
    {
     "name": "stderr",
     "output_type": "stream",
     "text": [
      "/opt/conda/lib/python3.11/site-packages/sqlalchemy_bigquery/_types.py:101: SAWarning: Did not recognize type 'INTERVAL' of column 'arrival_time_interval'\n",
      "  sqlalchemy.util.warn(\n",
      "/opt/conda/lib/python3.11/site-packages/sqlalchemy_bigquery/_types.py:101: SAWarning: Did not recognize type 'INTERVAL' of column 'departure_time_interval'\n",
      "  sqlalchemy.util.warn(\n",
      "/opt/conda/lib/python3.11/site-packages/sqlalchemy_bigquery/_types.py:101: SAWarning: Did not recognize type 'INTERVAL' of column 'start_pickup_drop_off_window_interval'\n",
      "  sqlalchemy.util.warn(\n",
      "/opt/conda/lib/python3.11/site-packages/sqlalchemy_bigquery/_types.py:101: SAWarning: Did not recognize type 'INTERVAL' of column 'end_pickup_drop_off_window_interval'\n",
      "  sqlalchemy.util.warn(\n",
      "/opt/conda/lib/python3.11/site-packages/pandas/core/tools/datetimes.py:557: RuntimeWarning: invalid value encountered in cast\n",
      "  arr, tz_parsed = tslib.array_with_unit_to_datetime(arg, unit, errors=errors)\n",
      "/opt/conda/lib/python3.11/site-packages/pandas/core/tools/datetimes.py:557: RuntimeWarning: invalid value encountered in cast\n",
      "  arr, tz_parsed = tslib.array_with_unit_to_datetime(arg, unit, errors=errors)\n",
      "/opt/conda/lib/python3.11/site-packages/sqlalchemy_bigquery/_types.py:101: SAWarning: Did not recognize type 'GEOGRAPHY' of column 'pt_geom'\n",
      "  sqlalchemy.util.warn(\n"
     ]
    },
    {
     "name": "stdout",
     "output_type": "stream",
     "text": [
      "[Saturday] schedule_key: 7480eb07bcb4fe557acdd073653b8c92, stop times found: 2782\n",
      "[Sunday] schedule_key: 7480eb07bcb4fe557acdd073653b8c92, feed_keys found: ['2516776da4154a9d3022d96ae8f05858']\n",
      "could not get metrolink feed on 2022-12-04!\n",
      "[Sunday] schedule_key: 7480eb07bcb4fe557acdd073653b8c92, trips found: 138\n"
     ]
    },
    {
     "name": "stderr",
     "output_type": "stream",
     "text": [
      "/opt/conda/lib/python3.11/site-packages/sqlalchemy_bigquery/_types.py:101: SAWarning: Did not recognize type 'INTERVAL' of column 'arrival_time_interval'\n",
      "  sqlalchemy.util.warn(\n",
      "/opt/conda/lib/python3.11/site-packages/sqlalchemy_bigquery/_types.py:101: SAWarning: Did not recognize type 'INTERVAL' of column 'departure_time_interval'\n",
      "  sqlalchemy.util.warn(\n",
      "/opt/conda/lib/python3.11/site-packages/sqlalchemy_bigquery/_types.py:101: SAWarning: Did not recognize type 'INTERVAL' of column 'start_pickup_drop_off_window_interval'\n",
      "  sqlalchemy.util.warn(\n",
      "/opt/conda/lib/python3.11/site-packages/sqlalchemy_bigquery/_types.py:101: SAWarning: Did not recognize type 'INTERVAL' of column 'end_pickup_drop_off_window_interval'\n",
      "  sqlalchemy.util.warn(\n",
      "/opt/conda/lib/python3.11/site-packages/pandas/core/tools/datetimes.py:557: RuntimeWarning: invalid value encountered in cast\n",
      "  arr, tz_parsed = tslib.array_with_unit_to_datetime(arg, unit, errors=errors)\n",
      "/opt/conda/lib/python3.11/site-packages/pandas/core/tools/datetimes.py:557: RuntimeWarning: invalid value encountered in cast\n",
      "  arr, tz_parsed = tslib.array_with_unit_to_datetime(arg, unit, errors=errors)\n",
      "/opt/conda/lib/python3.11/site-packages/sqlalchemy_bigquery/_types.py:101: SAWarning: Did not recognize type 'GEOGRAPHY' of column 'pt_geom'\n",
      "  sqlalchemy.util.warn(\n"
     ]
    },
    {
     "name": "stdout",
     "output_type": "stream",
     "text": [
      "[Sunday] schedule_key: 7480eb07bcb4fe557acdd073653b8c92, stop times found: 2592\n",
      "Saved results to gs://calitp-analytics-data/data-analyses/ahsc_grant/tool_data_2025/trips_perstop_7480eb07bcb4fe557acdd073653b8c92.parquet\n",
      "processing schedule_key b3979f8ecad42cc359988f45d61b21fc\n",
      "No data for b3979f8ecad42cc359988f45d61b21fc\n",
      "processing schedule_key 48630cf10e0c7dcaf3c75bc9a0724956\n",
      "[Weekday] schedule_key: 48630cf10e0c7dcaf3c75bc9a0724956, feed_keys found: ['05e5b1be7ad2b1b77fdd294d57c478ec']\n",
      "could not get metrolink feed on 2022-11-30!\n",
      "[Weekday] schedule_key: 48630cf10e0c7dcaf3c75bc9a0724956, trips found: 113\n"
     ]
    },
    {
     "name": "stderr",
     "output_type": "stream",
     "text": [
      "/opt/conda/lib/python3.11/site-packages/sqlalchemy_bigquery/_types.py:101: SAWarning: Did not recognize type 'INTERVAL' of column 'arrival_time_interval'\n",
      "  sqlalchemy.util.warn(\n",
      "/opt/conda/lib/python3.11/site-packages/sqlalchemy_bigquery/_types.py:101: SAWarning: Did not recognize type 'INTERVAL' of column 'departure_time_interval'\n",
      "  sqlalchemy.util.warn(\n",
      "/opt/conda/lib/python3.11/site-packages/sqlalchemy_bigquery/_types.py:101: SAWarning: Did not recognize type 'INTERVAL' of column 'start_pickup_drop_off_window_interval'\n",
      "  sqlalchemy.util.warn(\n",
      "/opt/conda/lib/python3.11/site-packages/sqlalchemy_bigquery/_types.py:101: SAWarning: Did not recognize type 'INTERVAL' of column 'end_pickup_drop_off_window_interval'\n",
      "  sqlalchemy.util.warn(\n",
      "/opt/conda/lib/python3.11/site-packages/pandas/core/tools/datetimes.py:557: RuntimeWarning: invalid value encountered in cast\n",
      "  arr, tz_parsed = tslib.array_with_unit_to_datetime(arg, unit, errors=errors)\n",
      "/opt/conda/lib/python3.11/site-packages/pandas/core/tools/datetimes.py:557: RuntimeWarning: invalid value encountered in cast\n",
      "  arr, tz_parsed = tslib.array_with_unit_to_datetime(arg, unit, errors=errors)\n",
      "/opt/conda/lib/python3.11/site-packages/sqlalchemy_bigquery/_types.py:101: SAWarning: Did not recognize type 'GEOGRAPHY' of column 'pt_geom'\n",
      "  sqlalchemy.util.warn(\n"
     ]
    },
    {
     "name": "stdout",
     "output_type": "stream",
     "text": [
      "[Weekday] schedule_key: 48630cf10e0c7dcaf3c75bc9a0724956, stop times found: 2407\n",
      "[Saturday] schedule_key: 48630cf10e0c7dcaf3c75bc9a0724956, feed_keys found: ['05e5b1be7ad2b1b77fdd294d57c478ec']\n",
      "could not get metrolink feed on 2022-12-03!\n",
      "[Saturday] schedule_key: 48630cf10e0c7dcaf3c75bc9a0724956, trips found: 67\n"
     ]
    },
    {
     "name": "stderr",
     "output_type": "stream",
     "text": [
      "/opt/conda/lib/python3.11/site-packages/sqlalchemy_bigquery/_types.py:101: SAWarning: Did not recognize type 'INTERVAL' of column 'arrival_time_interval'\n",
      "  sqlalchemy.util.warn(\n",
      "/opt/conda/lib/python3.11/site-packages/sqlalchemy_bigquery/_types.py:101: SAWarning: Did not recognize type 'INTERVAL' of column 'departure_time_interval'\n",
      "  sqlalchemy.util.warn(\n",
      "/opt/conda/lib/python3.11/site-packages/sqlalchemy_bigquery/_types.py:101: SAWarning: Did not recognize type 'INTERVAL' of column 'start_pickup_drop_off_window_interval'\n",
      "  sqlalchemy.util.warn(\n",
      "/opt/conda/lib/python3.11/site-packages/sqlalchemy_bigquery/_types.py:101: SAWarning: Did not recognize type 'INTERVAL' of column 'end_pickup_drop_off_window_interval'\n",
      "  sqlalchemy.util.warn(\n",
      "/opt/conda/lib/python3.11/site-packages/pandas/core/tools/datetimes.py:557: RuntimeWarning: invalid value encountered in cast\n",
      "  arr, tz_parsed = tslib.array_with_unit_to_datetime(arg, unit, errors=errors)\n",
      "/opt/conda/lib/python3.11/site-packages/pandas/core/tools/datetimes.py:557: RuntimeWarning: invalid value encountered in cast\n",
      "  arr, tz_parsed = tslib.array_with_unit_to_datetime(arg, unit, errors=errors)\n",
      "/opt/conda/lib/python3.11/site-packages/sqlalchemy_bigquery/_types.py:101: SAWarning: Did not recognize type 'GEOGRAPHY' of column 'pt_geom'\n",
      "  sqlalchemy.util.warn(\n"
     ]
    },
    {
     "name": "stdout",
     "output_type": "stream",
     "text": [
      "[Saturday] schedule_key: 48630cf10e0c7dcaf3c75bc9a0724956, stop times found: 1526\n",
      "[Sunday] schedule_key: 48630cf10e0c7dcaf3c75bc9a0724956, feed_keys found: ['05e5b1be7ad2b1b77fdd294d57c478ec']\n",
      "could not get metrolink feed on 2022-12-04!\n",
      "[Sunday] schedule_key: 48630cf10e0c7dcaf3c75bc9a0724956, trips found: 0\n",
      "Saved results to gs://calitp-analytics-data/data-analyses/ahsc_grant/tool_data_2025/trips_perstop_48630cf10e0c7dcaf3c75bc9a0724956.parquet\n",
      "processing schedule_key 7b4b4b3d1a03270816327f7598ca6d71\n",
      "[Weekday] schedule_key: 7b4b4b3d1a03270816327f7598ca6d71, feed_keys found: ['e4468e7970c3e9f842bff641a796dcb5']\n",
      "could not get metrolink feed on 2022-11-30!\n",
      "[Weekday] schedule_key: 7b4b4b3d1a03270816327f7598ca6d71, trips found: 1309\n"
     ]
    },
    {
     "name": "stderr",
     "output_type": "stream",
     "text": [
      "/opt/conda/lib/python3.11/site-packages/sqlalchemy_bigquery/_types.py:101: SAWarning: Did not recognize type 'INTERVAL' of column 'arrival_time_interval'\n",
      "  sqlalchemy.util.warn(\n",
      "/opt/conda/lib/python3.11/site-packages/sqlalchemy_bigquery/_types.py:101: SAWarning: Did not recognize type 'INTERVAL' of column 'departure_time_interval'\n",
      "  sqlalchemy.util.warn(\n",
      "/opt/conda/lib/python3.11/site-packages/sqlalchemy_bigquery/_types.py:101: SAWarning: Did not recognize type 'INTERVAL' of column 'start_pickup_drop_off_window_interval'\n",
      "  sqlalchemy.util.warn(\n",
      "/opt/conda/lib/python3.11/site-packages/sqlalchemy_bigquery/_types.py:101: SAWarning: Did not recognize type 'INTERVAL' of column 'end_pickup_drop_off_window_interval'\n",
      "  sqlalchemy.util.warn(\n"
     ]
    },
    {
     "name": "stdout",
     "output_type": "stream",
     "text": [
      "[Weekday] schedule_key: 7b4b4b3d1a03270816327f7598ca6d71, stop times found: 44484\n"
     ]
    },
    {
     "name": "stderr",
     "output_type": "stream",
     "text": [
      "/opt/conda/lib/python3.11/site-packages/sqlalchemy_bigquery/_types.py:101: SAWarning: Did not recognize type 'GEOGRAPHY' of column 'pt_geom'\n",
      "  sqlalchemy.util.warn(\n"
     ]
    },
    {
     "name": "stdout",
     "output_type": "stream",
     "text": [
      "[Saturday] schedule_key: 7b4b4b3d1a03270816327f7598ca6d71, feed_keys found: ['e4468e7970c3e9f842bff641a796dcb5']\n",
      "could not get metrolink feed on 2022-12-03!\n",
      "[Saturday] schedule_key: 7b4b4b3d1a03270816327f7598ca6d71, trips found: 848\n"
     ]
    },
    {
     "name": "stderr",
     "output_type": "stream",
     "text": [
      "/opt/conda/lib/python3.11/site-packages/sqlalchemy_bigquery/_types.py:101: SAWarning: Did not recognize type 'INTERVAL' of column 'arrival_time_interval'\n",
      "  sqlalchemy.util.warn(\n",
      "/opt/conda/lib/python3.11/site-packages/sqlalchemy_bigquery/_types.py:101: SAWarning: Did not recognize type 'INTERVAL' of column 'departure_time_interval'\n",
      "  sqlalchemy.util.warn(\n",
      "/opt/conda/lib/python3.11/site-packages/sqlalchemy_bigquery/_types.py:101: SAWarning: Did not recognize type 'INTERVAL' of column 'start_pickup_drop_off_window_interval'\n",
      "  sqlalchemy.util.warn(\n",
      "/opt/conda/lib/python3.11/site-packages/sqlalchemy_bigquery/_types.py:101: SAWarning: Did not recognize type 'INTERVAL' of column 'end_pickup_drop_off_window_interval'\n",
      "  sqlalchemy.util.warn(\n"
     ]
    },
    {
     "name": "stdout",
     "output_type": "stream",
     "text": [
      "[Saturday] schedule_key: 7b4b4b3d1a03270816327f7598ca6d71, stop times found: 30744\n"
     ]
    },
    {
     "name": "stderr",
     "output_type": "stream",
     "text": [
      "/opt/conda/lib/python3.11/site-packages/sqlalchemy_bigquery/_types.py:101: SAWarning: Did not recognize type 'GEOGRAPHY' of column 'pt_geom'\n",
      "  sqlalchemy.util.warn(\n"
     ]
    },
    {
     "name": "stdout",
     "output_type": "stream",
     "text": [
      "[Sunday] schedule_key: 7b4b4b3d1a03270816327f7598ca6d71, feed_keys found: ['e4468e7970c3e9f842bff641a796dcb5']\n",
      "could not get metrolink feed on 2022-12-04!\n",
      "[Sunday] schedule_key: 7b4b4b3d1a03270816327f7598ca6d71, trips found: 714\n"
     ]
    },
    {
     "name": "stderr",
     "output_type": "stream",
     "text": [
      "/opt/conda/lib/python3.11/site-packages/sqlalchemy_bigquery/_types.py:101: SAWarning: Did not recognize type 'INTERVAL' of column 'arrival_time_interval'\n",
      "  sqlalchemy.util.warn(\n",
      "/opt/conda/lib/python3.11/site-packages/sqlalchemy_bigquery/_types.py:101: SAWarning: Did not recognize type 'INTERVAL' of column 'departure_time_interval'\n",
      "  sqlalchemy.util.warn(\n",
      "/opt/conda/lib/python3.11/site-packages/sqlalchemy_bigquery/_types.py:101: SAWarning: Did not recognize type 'INTERVAL' of column 'start_pickup_drop_off_window_interval'\n",
      "  sqlalchemy.util.warn(\n",
      "/opt/conda/lib/python3.11/site-packages/sqlalchemy_bigquery/_types.py:101: SAWarning: Did not recognize type 'INTERVAL' of column 'end_pickup_drop_off_window_interval'\n",
      "  sqlalchemy.util.warn(\n"
     ]
    },
    {
     "name": "stdout",
     "output_type": "stream",
     "text": [
      "[Sunday] schedule_key: 7b4b4b3d1a03270816327f7598ca6d71, stop times found: 25773\n"
     ]
    },
    {
     "name": "stderr",
     "output_type": "stream",
     "text": [
      "/opt/conda/lib/python3.11/site-packages/sqlalchemy_bigquery/_types.py:101: SAWarning: Did not recognize type 'GEOGRAPHY' of column 'pt_geom'\n",
      "  sqlalchemy.util.warn(\n"
     ]
    },
    {
     "name": "stdout",
     "output_type": "stream",
     "text": [
      "Saved results to gs://calitp-analytics-data/data-analyses/ahsc_grant/tool_data_2025/trips_perstop_7b4b4b3d1a03270816327f7598ca6d71.parquet\n",
      "processing schedule_key 6eb3ef1169a2c1d6d04c0d18c0a96dd4\n",
      "[Weekday] schedule_key: 6eb3ef1169a2c1d6d04c0d18c0a96dd4, feed_keys found: ['de131e1fa8658553380e62a9778bfd85']\n",
      "could not get metrolink feed on 2022-11-30!\n",
      "[Weekday] schedule_key: 6eb3ef1169a2c1d6d04c0d18c0a96dd4, trips found: 1287\n"
     ]
    },
    {
     "name": "stderr",
     "output_type": "stream",
     "text": [
      "/opt/conda/lib/python3.11/site-packages/sqlalchemy_bigquery/_types.py:101: SAWarning: Did not recognize type 'INTERVAL' of column 'arrival_time_interval'\n",
      "  sqlalchemy.util.warn(\n",
      "/opt/conda/lib/python3.11/site-packages/sqlalchemy_bigquery/_types.py:101: SAWarning: Did not recognize type 'INTERVAL' of column 'departure_time_interval'\n",
      "  sqlalchemy.util.warn(\n",
      "/opt/conda/lib/python3.11/site-packages/sqlalchemy_bigquery/_types.py:101: SAWarning: Did not recognize type 'INTERVAL' of column 'start_pickup_drop_off_window_interval'\n",
      "  sqlalchemy.util.warn(\n",
      "/opt/conda/lib/python3.11/site-packages/sqlalchemy_bigquery/_types.py:101: SAWarning: Did not recognize type 'INTERVAL' of column 'end_pickup_drop_off_window_interval'\n",
      "  sqlalchemy.util.warn(\n"
     ]
    },
    {
     "name": "stdout",
     "output_type": "stream",
     "text": [
      "[Weekday] schedule_key: 6eb3ef1169a2c1d6d04c0d18c0a96dd4, stop times found: 60329\n"
     ]
    },
    {
     "name": "stderr",
     "output_type": "stream",
     "text": [
      "/opt/conda/lib/python3.11/site-packages/sqlalchemy_bigquery/_types.py:101: SAWarning: Did not recognize type 'GEOGRAPHY' of column 'pt_geom'\n",
      "  sqlalchemy.util.warn(\n"
     ]
    },
    {
     "name": "stdout",
     "output_type": "stream",
     "text": [
      "[Saturday] schedule_key: 6eb3ef1169a2c1d6d04c0d18c0a96dd4, feed_keys found: ['de131e1fa8658553380e62a9778bfd85']\n",
      "could not get metrolink feed on 2022-12-03!\n",
      "[Saturday] schedule_key: 6eb3ef1169a2c1d6d04c0d18c0a96dd4, trips found: 864\n"
     ]
    },
    {
     "name": "stderr",
     "output_type": "stream",
     "text": [
      "/opt/conda/lib/python3.11/site-packages/sqlalchemy_bigquery/_types.py:101: SAWarning: Did not recognize type 'INTERVAL' of column 'arrival_time_interval'\n",
      "  sqlalchemy.util.warn(\n",
      "/opt/conda/lib/python3.11/site-packages/sqlalchemy_bigquery/_types.py:101: SAWarning: Did not recognize type 'INTERVAL' of column 'departure_time_interval'\n",
      "  sqlalchemy.util.warn(\n",
      "/opt/conda/lib/python3.11/site-packages/sqlalchemy_bigquery/_types.py:101: SAWarning: Did not recognize type 'INTERVAL' of column 'start_pickup_drop_off_window_interval'\n",
      "  sqlalchemy.util.warn(\n",
      "/opt/conda/lib/python3.11/site-packages/sqlalchemy_bigquery/_types.py:101: SAWarning: Did not recognize type 'INTERVAL' of column 'end_pickup_drop_off_window_interval'\n",
      "  sqlalchemy.util.warn(\n"
     ]
    },
    {
     "name": "stdout",
     "output_type": "stream",
     "text": [
      "[Saturday] schedule_key: 6eb3ef1169a2c1d6d04c0d18c0a96dd4, stop times found: 41887\n"
     ]
    },
    {
     "name": "stderr",
     "output_type": "stream",
     "text": [
      "/opt/conda/lib/python3.11/site-packages/sqlalchemy_bigquery/_types.py:101: SAWarning: Did not recognize type 'GEOGRAPHY' of column 'pt_geom'\n",
      "  sqlalchemy.util.warn(\n"
     ]
    },
    {
     "name": "stdout",
     "output_type": "stream",
     "text": [
      "[Sunday] schedule_key: 6eb3ef1169a2c1d6d04c0d18c0a96dd4, feed_keys found: ['de131e1fa8658553380e62a9778bfd85']\n",
      "could not get metrolink feed on 2022-12-04!\n",
      "[Sunday] schedule_key: 6eb3ef1169a2c1d6d04c0d18c0a96dd4, trips found: 650\n"
     ]
    },
    {
     "name": "stderr",
     "output_type": "stream",
     "text": [
      "/opt/conda/lib/python3.11/site-packages/sqlalchemy_bigquery/_types.py:101: SAWarning: Did not recognize type 'INTERVAL' of column 'arrival_time_interval'\n",
      "  sqlalchemy.util.warn(\n",
      "/opt/conda/lib/python3.11/site-packages/sqlalchemy_bigquery/_types.py:101: SAWarning: Did not recognize type 'INTERVAL' of column 'departure_time_interval'\n",
      "  sqlalchemy.util.warn(\n",
      "/opt/conda/lib/python3.11/site-packages/sqlalchemy_bigquery/_types.py:101: SAWarning: Did not recognize type 'INTERVAL' of column 'start_pickup_drop_off_window_interval'\n",
      "  sqlalchemy.util.warn(\n",
      "/opt/conda/lib/python3.11/site-packages/sqlalchemy_bigquery/_types.py:101: SAWarning: Did not recognize type 'INTERVAL' of column 'end_pickup_drop_off_window_interval'\n",
      "  sqlalchemy.util.warn(\n"
     ]
    },
    {
     "name": "stdout",
     "output_type": "stream",
     "text": [
      "[Sunday] schedule_key: 6eb3ef1169a2c1d6d04c0d18c0a96dd4, stop times found: 32914\n"
     ]
    },
    {
     "name": "stderr",
     "output_type": "stream",
     "text": [
      "/opt/conda/lib/python3.11/site-packages/sqlalchemy_bigquery/_types.py:101: SAWarning: Did not recognize type 'GEOGRAPHY' of column 'pt_geom'\n",
      "  sqlalchemy.util.warn(\n"
     ]
    },
    {
     "name": "stdout",
     "output_type": "stream",
     "text": [
      "Saved results to gs://calitp-analytics-data/data-analyses/ahsc_grant/tool_data_2025/trips_perstop_6eb3ef1169a2c1d6d04c0d18c0a96dd4.parquet\n",
      "processing schedule_key 50b190487aa08cb07dccf53798945fac\n",
      "[Weekday] schedule_key: 50b190487aa08cb07dccf53798945fac, feed_keys found: ['c2678c0ae3a6821a47f3cab62911c33d']\n",
      "could not get metrolink feed on 2022-11-30!\n",
      "[Weekday] schedule_key: 50b190487aa08cb07dccf53798945fac, trips found: 3177\n"
     ]
    },
    {
     "name": "stderr",
     "output_type": "stream",
     "text": [
      "/opt/conda/lib/python3.11/site-packages/sqlalchemy_bigquery/_types.py:101: SAWarning: Did not recognize type 'INTERVAL' of column 'arrival_time_interval'\n",
      "  sqlalchemy.util.warn(\n",
      "/opt/conda/lib/python3.11/site-packages/sqlalchemy_bigquery/_types.py:101: SAWarning: Did not recognize type 'INTERVAL' of column 'departure_time_interval'\n",
      "  sqlalchemy.util.warn(\n",
      "/opt/conda/lib/python3.11/site-packages/sqlalchemy_bigquery/_types.py:101: SAWarning: Did not recognize type 'INTERVAL' of column 'start_pickup_drop_off_window_interval'\n",
      "  sqlalchemy.util.warn(\n",
      "/opt/conda/lib/python3.11/site-packages/sqlalchemy_bigquery/_types.py:101: SAWarning: Did not recognize type 'INTERVAL' of column 'end_pickup_drop_off_window_interval'\n",
      "  sqlalchemy.util.warn(\n"
     ]
    },
    {
     "name": "stdout",
     "output_type": "stream",
     "text": [
      "[Weekday] schedule_key: 50b190487aa08cb07dccf53798945fac, stop times found: 180585\n"
     ]
    },
    {
     "name": "stderr",
     "output_type": "stream",
     "text": [
      "/opt/conda/lib/python3.11/site-packages/sqlalchemy_bigquery/_types.py:101: SAWarning: Did not recognize type 'GEOGRAPHY' of column 'pt_geom'\n",
      "  sqlalchemy.util.warn(\n"
     ]
    },
    {
     "name": "stdout",
     "output_type": "stream",
     "text": [
      "[Saturday] schedule_key: 50b190487aa08cb07dccf53798945fac, feed_keys found: ['c2678c0ae3a6821a47f3cab62911c33d']\n",
      "could not get metrolink feed on 2022-12-03!\n",
      "[Saturday] schedule_key: 50b190487aa08cb07dccf53798945fac, trips found: 1923\n"
     ]
    },
    {
     "name": "stderr",
     "output_type": "stream",
     "text": [
      "/opt/conda/lib/python3.11/site-packages/sqlalchemy_bigquery/_types.py:101: SAWarning: Did not recognize type 'INTERVAL' of column 'arrival_time_interval'\n",
      "  sqlalchemy.util.warn(\n",
      "/opt/conda/lib/python3.11/site-packages/sqlalchemy_bigquery/_types.py:101: SAWarning: Did not recognize type 'INTERVAL' of column 'departure_time_interval'\n",
      "  sqlalchemy.util.warn(\n",
      "/opt/conda/lib/python3.11/site-packages/sqlalchemy_bigquery/_types.py:101: SAWarning: Did not recognize type 'INTERVAL' of column 'start_pickup_drop_off_window_interval'\n",
      "  sqlalchemy.util.warn(\n",
      "/opt/conda/lib/python3.11/site-packages/sqlalchemy_bigquery/_types.py:101: SAWarning: Did not recognize type 'INTERVAL' of column 'end_pickup_drop_off_window_interval'\n",
      "  sqlalchemy.util.warn(\n"
     ]
    },
    {
     "name": "stdout",
     "output_type": "stream",
     "text": [
      "[Saturday] schedule_key: 50b190487aa08cb07dccf53798945fac, stop times found: 120645\n"
     ]
    },
    {
     "name": "stderr",
     "output_type": "stream",
     "text": [
      "/opt/conda/lib/python3.11/site-packages/sqlalchemy_bigquery/_types.py:101: SAWarning: Did not recognize type 'GEOGRAPHY' of column 'pt_geom'\n",
      "  sqlalchemy.util.warn(\n"
     ]
    },
    {
     "name": "stdout",
     "output_type": "stream",
     "text": [
      "[Sunday] schedule_key: 50b190487aa08cb07dccf53798945fac, feed_keys found: ['c2678c0ae3a6821a47f3cab62911c33d']\n",
      "could not get metrolink feed on 2022-12-04!\n",
      "[Sunday] schedule_key: 50b190487aa08cb07dccf53798945fac, trips found: 1792\n"
     ]
    },
    {
     "name": "stderr",
     "output_type": "stream",
     "text": [
      "/opt/conda/lib/python3.11/site-packages/sqlalchemy_bigquery/_types.py:101: SAWarning: Did not recognize type 'INTERVAL' of column 'arrival_time_interval'\n",
      "  sqlalchemy.util.warn(\n",
      "/opt/conda/lib/python3.11/site-packages/sqlalchemy_bigquery/_types.py:101: SAWarning: Did not recognize type 'INTERVAL' of column 'departure_time_interval'\n",
      "  sqlalchemy.util.warn(\n",
      "/opt/conda/lib/python3.11/site-packages/sqlalchemy_bigquery/_types.py:101: SAWarning: Did not recognize type 'INTERVAL' of column 'start_pickup_drop_off_window_interval'\n",
      "  sqlalchemy.util.warn(\n",
      "/opt/conda/lib/python3.11/site-packages/sqlalchemy_bigquery/_types.py:101: SAWarning: Did not recognize type 'INTERVAL' of column 'end_pickup_drop_off_window_interval'\n",
      "  sqlalchemy.util.warn(\n"
     ]
    },
    {
     "name": "stdout",
     "output_type": "stream",
     "text": [
      "[Sunday] schedule_key: 50b190487aa08cb07dccf53798945fac, stop times found: 112440\n"
     ]
    },
    {
     "name": "stderr",
     "output_type": "stream",
     "text": [
      "/opt/conda/lib/python3.11/site-packages/sqlalchemy_bigquery/_types.py:101: SAWarning: Did not recognize type 'GEOGRAPHY' of column 'pt_geom'\n",
      "  sqlalchemy.util.warn(\n"
     ]
    },
    {
     "name": "stdout",
     "output_type": "stream",
     "text": [
      "Saved results to gs://calitp-analytics-data/data-analyses/ahsc_grant/tool_data_2025/trips_perstop_50b190487aa08cb07dccf53798945fac.parquet\n",
      "processing schedule_key 9b15ddcf99a620848125079015615b3f\n",
      "No data for 9b15ddcf99a620848125079015615b3f\n",
      "processing schedule_key e960e27350919f935535162d591ebccc\n",
      "[Weekday] schedule_key: e960e27350919f935535162d591ebccc, feed_keys found: ['1e9c3816ddf4ae752fa11e95875d3a1d']\n",
      "could not get metrolink feed on 2022-11-30!\n",
      "[Weekday] schedule_key: e960e27350919f935535162d591ebccc, trips found: 124\n"
     ]
    },
    {
     "name": "stderr",
     "output_type": "stream",
     "text": [
      "/opt/conda/lib/python3.11/site-packages/sqlalchemy_bigquery/_types.py:101: SAWarning: Did not recognize type 'INTERVAL' of column 'arrival_time_interval'\n",
      "  sqlalchemy.util.warn(\n",
      "/opt/conda/lib/python3.11/site-packages/sqlalchemy_bigquery/_types.py:101: SAWarning: Did not recognize type 'INTERVAL' of column 'departure_time_interval'\n",
      "  sqlalchemy.util.warn(\n",
      "/opt/conda/lib/python3.11/site-packages/sqlalchemy_bigquery/_types.py:101: SAWarning: Did not recognize type 'INTERVAL' of column 'start_pickup_drop_off_window_interval'\n",
      "  sqlalchemy.util.warn(\n",
      "/opt/conda/lib/python3.11/site-packages/sqlalchemy_bigquery/_types.py:101: SAWarning: Did not recognize type 'INTERVAL' of column 'end_pickup_drop_off_window_interval'\n",
      "  sqlalchemy.util.warn(\n",
      "/opt/conda/lib/python3.11/site-packages/pandas/core/tools/datetimes.py:557: RuntimeWarning: invalid value encountered in cast\n",
      "  arr, tz_parsed = tslib.array_with_unit_to_datetime(arg, unit, errors=errors)\n",
      "/opt/conda/lib/python3.11/site-packages/pandas/core/tools/datetimes.py:557: RuntimeWarning: invalid value encountered in cast\n",
      "  arr, tz_parsed = tslib.array_with_unit_to_datetime(arg, unit, errors=errors)\n",
      "/opt/conda/lib/python3.11/site-packages/sqlalchemy_bigquery/_types.py:101: SAWarning: Did not recognize type 'GEOGRAPHY' of column 'pt_geom'\n",
      "  sqlalchemy.util.warn(\n"
     ]
    },
    {
     "name": "stdout",
     "output_type": "stream",
     "text": [
      "[Weekday] schedule_key: e960e27350919f935535162d591ebccc, stop times found: 2208\n",
      "[Saturday] schedule_key: e960e27350919f935535162d591ebccc, feed_keys found: ['1e9c3816ddf4ae752fa11e95875d3a1d']\n",
      "could not get metrolink feed on 2022-12-03!\n",
      "[Saturday] schedule_key: e960e27350919f935535162d591ebccc, trips found: 79\n"
     ]
    },
    {
     "name": "stderr",
     "output_type": "stream",
     "text": [
      "/opt/conda/lib/python3.11/site-packages/sqlalchemy_bigquery/_types.py:101: SAWarning: Did not recognize type 'INTERVAL' of column 'arrival_time_interval'\n",
      "  sqlalchemy.util.warn(\n",
      "/opt/conda/lib/python3.11/site-packages/sqlalchemy_bigquery/_types.py:101: SAWarning: Did not recognize type 'INTERVAL' of column 'departure_time_interval'\n",
      "  sqlalchemy.util.warn(\n",
      "/opt/conda/lib/python3.11/site-packages/sqlalchemy_bigquery/_types.py:101: SAWarning: Did not recognize type 'INTERVAL' of column 'start_pickup_drop_off_window_interval'\n",
      "  sqlalchemy.util.warn(\n",
      "/opt/conda/lib/python3.11/site-packages/sqlalchemy_bigquery/_types.py:101: SAWarning: Did not recognize type 'INTERVAL' of column 'end_pickup_drop_off_window_interval'\n",
      "  sqlalchemy.util.warn(\n",
      "/opt/conda/lib/python3.11/site-packages/pandas/core/tools/datetimes.py:557: RuntimeWarning: invalid value encountered in cast\n",
      "  arr, tz_parsed = tslib.array_with_unit_to_datetime(arg, unit, errors=errors)\n",
      "/opt/conda/lib/python3.11/site-packages/pandas/core/tools/datetimes.py:557: RuntimeWarning: invalid value encountered in cast\n",
      "  arr, tz_parsed = tslib.array_with_unit_to_datetime(arg, unit, errors=errors)\n",
      "/opt/conda/lib/python3.11/site-packages/sqlalchemy_bigquery/_types.py:101: SAWarning: Did not recognize type 'GEOGRAPHY' of column 'pt_geom'\n",
      "  sqlalchemy.util.warn(\n"
     ]
    },
    {
     "name": "stdout",
     "output_type": "stream",
     "text": [
      "[Saturday] schedule_key: e960e27350919f935535162d591ebccc, stop times found: 1420\n",
      "[Sunday] schedule_key: e960e27350919f935535162d591ebccc, feed_keys found: ['1e9c3816ddf4ae752fa11e95875d3a1d']\n",
      "could not get metrolink feed on 2022-12-04!\n",
      "[Sunday] schedule_key: e960e27350919f935535162d591ebccc, trips found: 0\n",
      "Saved results to gs://calitp-analytics-data/data-analyses/ahsc_grant/tool_data_2025/trips_perstop_e960e27350919f935535162d591ebccc.parquet\n",
      "processing schedule_key 4de6a23ec6c0969bd1471375ea4d249e\n",
      "[Weekday] schedule_key: 4de6a23ec6c0969bd1471375ea4d249e, feed_keys found: ['d3e447dbc9559bd2f9416ff277e8cebc']\n",
      "could not get metrolink feed on 2022-11-30!\n",
      "[Weekday] schedule_key: 4de6a23ec6c0969bd1471375ea4d249e, trips found: 273\n"
     ]
    },
    {
     "name": "stderr",
     "output_type": "stream",
     "text": [
      "/opt/conda/lib/python3.11/site-packages/sqlalchemy_bigquery/_types.py:101: SAWarning: Did not recognize type 'INTERVAL' of column 'arrival_time_interval'\n",
      "  sqlalchemy.util.warn(\n",
      "/opt/conda/lib/python3.11/site-packages/sqlalchemy_bigquery/_types.py:101: SAWarning: Did not recognize type 'INTERVAL' of column 'departure_time_interval'\n",
      "  sqlalchemy.util.warn(\n",
      "/opt/conda/lib/python3.11/site-packages/sqlalchemy_bigquery/_types.py:101: SAWarning: Did not recognize type 'INTERVAL' of column 'start_pickup_drop_off_window_interval'\n",
      "  sqlalchemy.util.warn(\n",
      "/opt/conda/lib/python3.11/site-packages/sqlalchemy_bigquery/_types.py:101: SAWarning: Did not recognize type 'INTERVAL' of column 'end_pickup_drop_off_window_interval'\n",
      "  sqlalchemy.util.warn(\n"
     ]
    },
    {
     "name": "stdout",
     "output_type": "stream",
     "text": [
      "[Weekday] schedule_key: 4de6a23ec6c0969bd1471375ea4d249e, stop times found: 4980\n"
     ]
    },
    {
     "name": "stderr",
     "output_type": "stream",
     "text": [
      "/opt/conda/lib/python3.11/site-packages/sqlalchemy_bigquery/_types.py:101: SAWarning: Did not recognize type 'GEOGRAPHY' of column 'pt_geom'\n",
      "  sqlalchemy.util.warn(\n"
     ]
    },
    {
     "name": "stdout",
     "output_type": "stream",
     "text": [
      "[Saturday] schedule_key: 4de6a23ec6c0969bd1471375ea4d249e, feed_keys found: ['d3e447dbc9559bd2f9416ff277e8cebc']\n",
      "could not get metrolink feed on 2022-12-03!\n",
      "[Saturday] schedule_key: 4de6a23ec6c0969bd1471375ea4d249e, trips found: 180\n"
     ]
    },
    {
     "name": "stderr",
     "output_type": "stream",
     "text": [
      "/opt/conda/lib/python3.11/site-packages/sqlalchemy_bigquery/_types.py:101: SAWarning: Did not recognize type 'INTERVAL' of column 'arrival_time_interval'\n",
      "  sqlalchemy.util.warn(\n",
      "/opt/conda/lib/python3.11/site-packages/sqlalchemy_bigquery/_types.py:101: SAWarning: Did not recognize type 'INTERVAL' of column 'departure_time_interval'\n",
      "  sqlalchemy.util.warn(\n",
      "/opt/conda/lib/python3.11/site-packages/sqlalchemy_bigquery/_types.py:101: SAWarning: Did not recognize type 'INTERVAL' of column 'start_pickup_drop_off_window_interval'\n",
      "  sqlalchemy.util.warn(\n",
      "/opt/conda/lib/python3.11/site-packages/sqlalchemy_bigquery/_types.py:101: SAWarning: Did not recognize type 'INTERVAL' of column 'end_pickup_drop_off_window_interval'\n",
      "  sqlalchemy.util.warn(\n"
     ]
    },
    {
     "name": "stdout",
     "output_type": "stream",
     "text": [
      "[Saturday] schedule_key: 4de6a23ec6c0969bd1471375ea4d249e, stop times found: 3734\n"
     ]
    },
    {
     "name": "stderr",
     "output_type": "stream",
     "text": [
      "/opt/conda/lib/python3.11/site-packages/sqlalchemy_bigquery/_types.py:101: SAWarning: Did not recognize type 'GEOGRAPHY' of column 'pt_geom'\n",
      "  sqlalchemy.util.warn(\n"
     ]
    },
    {
     "name": "stdout",
     "output_type": "stream",
     "text": [
      "[Sunday] schedule_key: 4de6a23ec6c0969bd1471375ea4d249e, feed_keys found: ['d3e447dbc9559bd2f9416ff277e8cebc']\n",
      "could not get metrolink feed on 2022-12-04!\n",
      "[Sunday] schedule_key: 4de6a23ec6c0969bd1471375ea4d249e, trips found: 0\n",
      "Saved results to gs://calitp-analytics-data/data-analyses/ahsc_grant/tool_data_2025/trips_perstop_4de6a23ec6c0969bd1471375ea4d249e.parquet\n",
      "processing schedule_key c32f6cc5b5da292b6c61a06473e84da6\n",
      "[Weekday] schedule_key: c32f6cc5b5da292b6c61a06473e84da6, feed_keys found: ['2fe9100d75e27080bd3ec3c813da11a3']\n",
      "could not get metrolink feed on 2022-11-30!\n",
      "[Weekday] schedule_key: c32f6cc5b5da292b6c61a06473e84da6, trips found: 63\n"
     ]
    },
    {
     "name": "stderr",
     "output_type": "stream",
     "text": [
      "/opt/conda/lib/python3.11/site-packages/sqlalchemy_bigquery/_types.py:101: SAWarning: Did not recognize type 'INTERVAL' of column 'arrival_time_interval'\n",
      "  sqlalchemy.util.warn(\n",
      "/opt/conda/lib/python3.11/site-packages/sqlalchemy_bigquery/_types.py:101: SAWarning: Did not recognize type 'INTERVAL' of column 'departure_time_interval'\n",
      "  sqlalchemy.util.warn(\n",
      "/opt/conda/lib/python3.11/site-packages/sqlalchemy_bigquery/_types.py:101: SAWarning: Did not recognize type 'INTERVAL' of column 'start_pickup_drop_off_window_interval'\n",
      "  sqlalchemy.util.warn(\n",
      "/opt/conda/lib/python3.11/site-packages/sqlalchemy_bigquery/_types.py:101: SAWarning: Did not recognize type 'INTERVAL' of column 'end_pickup_drop_off_window_interval'\n",
      "  sqlalchemy.util.warn(\n",
      "/opt/conda/lib/python3.11/site-packages/pandas/core/tools/datetimes.py:557: RuntimeWarning: invalid value encountered in cast\n",
      "  arr, tz_parsed = tslib.array_with_unit_to_datetime(arg, unit, errors=errors)\n",
      "/opt/conda/lib/python3.11/site-packages/pandas/core/tools/datetimes.py:557: RuntimeWarning: invalid value encountered in cast\n",
      "  arr, tz_parsed = tslib.array_with_unit_to_datetime(arg, unit, errors=errors)\n",
      "/opt/conda/lib/python3.11/site-packages/sqlalchemy_bigquery/_types.py:101: SAWarning: Did not recognize type 'GEOGRAPHY' of column 'pt_geom'\n",
      "  sqlalchemy.util.warn(\n"
     ]
    },
    {
     "name": "stdout",
     "output_type": "stream",
     "text": [
      "[Weekday] schedule_key: c32f6cc5b5da292b6c61a06473e84da6, stop times found: 1611\n",
      "[Saturday] schedule_key: c32f6cc5b5da292b6c61a06473e84da6, feed_keys found: ['2fe9100d75e27080bd3ec3c813da11a3']\n",
      "could not get metrolink feed on 2022-12-03!\n",
      "[Saturday] schedule_key: c32f6cc5b5da292b6c61a06473e84da6, trips found: 35\n"
     ]
    },
    {
     "name": "stderr",
     "output_type": "stream",
     "text": [
      "/opt/conda/lib/python3.11/site-packages/sqlalchemy_bigquery/_types.py:101: SAWarning: Did not recognize type 'INTERVAL' of column 'arrival_time_interval'\n",
      "  sqlalchemy.util.warn(\n",
      "/opt/conda/lib/python3.11/site-packages/sqlalchemy_bigquery/_types.py:101: SAWarning: Did not recognize type 'INTERVAL' of column 'departure_time_interval'\n",
      "  sqlalchemy.util.warn(\n",
      "/opt/conda/lib/python3.11/site-packages/sqlalchemy_bigquery/_types.py:101: SAWarning: Did not recognize type 'INTERVAL' of column 'start_pickup_drop_off_window_interval'\n",
      "  sqlalchemy.util.warn(\n",
      "/opt/conda/lib/python3.11/site-packages/sqlalchemy_bigquery/_types.py:101: SAWarning: Did not recognize type 'INTERVAL' of column 'end_pickup_drop_off_window_interval'\n",
      "  sqlalchemy.util.warn(\n",
      "/opt/conda/lib/python3.11/site-packages/pandas/core/tools/datetimes.py:557: RuntimeWarning: invalid value encountered in cast\n",
      "  arr, tz_parsed = tslib.array_with_unit_to_datetime(arg, unit, errors=errors)\n",
      "/opt/conda/lib/python3.11/site-packages/pandas/core/tools/datetimes.py:557: RuntimeWarning: invalid value encountered in cast\n",
      "  arr, tz_parsed = tslib.array_with_unit_to_datetime(arg, unit, errors=errors)\n",
      "/opt/conda/lib/python3.11/site-packages/sqlalchemy_bigquery/_types.py:101: SAWarning: Did not recognize type 'GEOGRAPHY' of column 'pt_geom'\n",
      "  sqlalchemy.util.warn(\n"
     ]
    },
    {
     "name": "stdout",
     "output_type": "stream",
     "text": [
      "[Saturday] schedule_key: c32f6cc5b5da292b6c61a06473e84da6, stop times found: 891\n",
      "[Sunday] schedule_key: c32f6cc5b5da292b6c61a06473e84da6, feed_keys found: ['2fe9100d75e27080bd3ec3c813da11a3']\n",
      "could not get metrolink feed on 2022-12-04!\n",
      "[Sunday] schedule_key: c32f6cc5b5da292b6c61a06473e84da6, trips found: 0\n",
      "Saved results to gs://calitp-analytics-data/data-analyses/ahsc_grant/tool_data_2025/trips_perstop_c32f6cc5b5da292b6c61a06473e84da6.parquet\n",
      "processing schedule_key d50c393e937f998cf9fb2e10238d70ef\n",
      "No data for d50c393e937f998cf9fb2e10238d70ef\n",
      "processing schedule_key 76d646fe3b475376ef22e66ab6b70448\n",
      "No data for 76d646fe3b475376ef22e66ab6b70448\n",
      "processing schedule_key 76436edb0cf1ce3a7b2dfae639742004\n",
      "No data for 76436edb0cf1ce3a7b2dfae639742004\n",
      "processing schedule_key 305b50c8c1f84bed321a6e1d845d6f4e\n",
      "No data for 305b50c8c1f84bed321a6e1d845d6f4e\n",
      "processing schedule_key a4aa135aad718bc59bf626828a37fbfb\n",
      "No data for a4aa135aad718bc59bf626828a37fbfb\n",
      "processing schedule_key 65354957446e6638047a61d264e40154\n",
      "[Weekday] schedule_key: 65354957446e6638047a61d264e40154, feed_keys found: ['9fca00f482c5b525fa358ce748a12ca1']\n",
      "could not get metrolink feed on 2022-11-30!\n",
      "[Weekday] schedule_key: 65354957446e6638047a61d264e40154, trips found: 191\n"
     ]
    },
    {
     "name": "stderr",
     "output_type": "stream",
     "text": [
      "/opt/conda/lib/python3.11/site-packages/sqlalchemy_bigquery/_types.py:101: SAWarning: Did not recognize type 'INTERVAL' of column 'arrival_time_interval'\n",
      "  sqlalchemy.util.warn(\n",
      "/opt/conda/lib/python3.11/site-packages/sqlalchemy_bigquery/_types.py:101: SAWarning: Did not recognize type 'INTERVAL' of column 'departure_time_interval'\n",
      "  sqlalchemy.util.warn(\n",
      "/opt/conda/lib/python3.11/site-packages/sqlalchemy_bigquery/_types.py:101: SAWarning: Did not recognize type 'INTERVAL' of column 'start_pickup_drop_off_window_interval'\n",
      "  sqlalchemy.util.warn(\n",
      "/opt/conda/lib/python3.11/site-packages/sqlalchemy_bigquery/_types.py:101: SAWarning: Did not recognize type 'INTERVAL' of column 'end_pickup_drop_off_window_interval'\n",
      "  sqlalchemy.util.warn(\n"
     ]
    },
    {
     "name": "stdout",
     "output_type": "stream",
     "text": [
      "[Weekday] schedule_key: 65354957446e6638047a61d264e40154, stop times found: 4879\n"
     ]
    },
    {
     "name": "stderr",
     "output_type": "stream",
     "text": [
      "/opt/conda/lib/python3.11/site-packages/sqlalchemy_bigquery/_types.py:101: SAWarning: Did not recognize type 'GEOGRAPHY' of column 'pt_geom'\n",
      "  sqlalchemy.util.warn(\n"
     ]
    },
    {
     "name": "stdout",
     "output_type": "stream",
     "text": [
      "[Saturday] schedule_key: 65354957446e6638047a61d264e40154, feed_keys found: ['9fca00f482c5b525fa358ce748a12ca1']\n",
      "could not get metrolink feed on 2022-12-03!\n",
      "[Saturday] schedule_key: 65354957446e6638047a61d264e40154, trips found: 91\n"
     ]
    },
    {
     "name": "stderr",
     "output_type": "stream",
     "text": [
      "/opt/conda/lib/python3.11/site-packages/sqlalchemy_bigquery/_types.py:101: SAWarning: Did not recognize type 'INTERVAL' of column 'arrival_time_interval'\n",
      "  sqlalchemy.util.warn(\n",
      "/opt/conda/lib/python3.11/site-packages/sqlalchemy_bigquery/_types.py:101: SAWarning: Did not recognize type 'INTERVAL' of column 'departure_time_interval'\n",
      "  sqlalchemy.util.warn(\n",
      "/opt/conda/lib/python3.11/site-packages/sqlalchemy_bigquery/_types.py:101: SAWarning: Did not recognize type 'INTERVAL' of column 'start_pickup_drop_off_window_interval'\n",
      "  sqlalchemy.util.warn(\n",
      "/opt/conda/lib/python3.11/site-packages/sqlalchemy_bigquery/_types.py:101: SAWarning: Did not recognize type 'INTERVAL' of column 'end_pickup_drop_off_window_interval'\n",
      "  sqlalchemy.util.warn(\n"
     ]
    },
    {
     "name": "stdout",
     "output_type": "stream",
     "text": [
      "[Saturday] schedule_key: 65354957446e6638047a61d264e40154, stop times found: 2436\n"
     ]
    },
    {
     "name": "stderr",
     "output_type": "stream",
     "text": [
      "/opt/conda/lib/python3.11/site-packages/sqlalchemy_bigquery/_types.py:101: SAWarning: Did not recognize type 'GEOGRAPHY' of column 'pt_geom'\n",
      "  sqlalchemy.util.warn(\n"
     ]
    },
    {
     "name": "stdout",
     "output_type": "stream",
     "text": [
      "[Sunday] schedule_key: 65354957446e6638047a61d264e40154, feed_keys found: ['f3844cb0bf5ece6e59d280546ea40d0c']\n",
      "could not get metrolink feed on 2022-12-04!\n",
      "[Sunday] schedule_key: 65354957446e6638047a61d264e40154, trips found: 64\n"
     ]
    },
    {
     "name": "stderr",
     "output_type": "stream",
     "text": [
      "/opt/conda/lib/python3.11/site-packages/sqlalchemy_bigquery/_types.py:101: SAWarning: Did not recognize type 'INTERVAL' of column 'arrival_time_interval'\n",
      "  sqlalchemy.util.warn(\n",
      "/opt/conda/lib/python3.11/site-packages/sqlalchemy_bigquery/_types.py:101: SAWarning: Did not recognize type 'INTERVAL' of column 'departure_time_interval'\n",
      "  sqlalchemy.util.warn(\n",
      "/opt/conda/lib/python3.11/site-packages/sqlalchemy_bigquery/_types.py:101: SAWarning: Did not recognize type 'INTERVAL' of column 'start_pickup_drop_off_window_interval'\n",
      "  sqlalchemy.util.warn(\n",
      "/opt/conda/lib/python3.11/site-packages/sqlalchemy_bigquery/_types.py:101: SAWarning: Did not recognize type 'INTERVAL' of column 'end_pickup_drop_off_window_interval'\n",
      "  sqlalchemy.util.warn(\n"
     ]
    },
    {
     "name": "stdout",
     "output_type": "stream",
     "text": [
      "[Sunday] schedule_key: 65354957446e6638047a61d264e40154, stop times found: 1567\n"
     ]
    },
    {
     "name": "stderr",
     "output_type": "stream",
     "text": [
      "/opt/conda/lib/python3.11/site-packages/sqlalchemy_bigquery/_types.py:101: SAWarning: Did not recognize type 'GEOGRAPHY' of column 'pt_geom'\n",
      "  sqlalchemy.util.warn(\n"
     ]
    },
    {
     "name": "stdout",
     "output_type": "stream",
     "text": [
      "Saved results to gs://calitp-analytics-data/data-analyses/ahsc_grant/tool_data_2025/trips_perstop_65354957446e6638047a61d264e40154.parquet\n",
      "processing schedule_key a3dbcd91f94ba48e95a9ce3d634d9874\n",
      "No data for a3dbcd91f94ba48e95a9ce3d634d9874\n",
      "processing schedule_key d575996ef94b2a3a29dcc36a2896817c\n",
      "No data for d575996ef94b2a3a29dcc36a2896817c\n",
      "processing schedule_key 732ecab49fb574d5150751b84a4f611f\n",
      "No data for 732ecab49fb574d5150751b84a4f611f\n",
      "processing schedule_key 2b73391c967933cd6f840158171da411\n",
      "[Weekday] schedule_key: 2b73391c967933cd6f840158171da411, feed_keys found: ['02fbd8719f99b906e65b2cf86cbb7cae']\n",
      "could not get metrolink feed on 2022-11-30!\n",
      "[Weekday] schedule_key: 2b73391c967933cd6f840158171da411, trips found: 526\n"
     ]
    },
    {
     "name": "stderr",
     "output_type": "stream",
     "text": [
      "/opt/conda/lib/python3.11/site-packages/sqlalchemy_bigquery/_types.py:101: SAWarning: Did not recognize type 'INTERVAL' of column 'arrival_time_interval'\n",
      "  sqlalchemy.util.warn(\n",
      "/opt/conda/lib/python3.11/site-packages/sqlalchemy_bigquery/_types.py:101: SAWarning: Did not recognize type 'INTERVAL' of column 'departure_time_interval'\n",
      "  sqlalchemy.util.warn(\n",
      "/opt/conda/lib/python3.11/site-packages/sqlalchemy_bigquery/_types.py:101: SAWarning: Did not recognize type 'INTERVAL' of column 'start_pickup_drop_off_window_interval'\n",
      "  sqlalchemy.util.warn(\n",
      "/opt/conda/lib/python3.11/site-packages/sqlalchemy_bigquery/_types.py:101: SAWarning: Did not recognize type 'INTERVAL' of column 'end_pickup_drop_off_window_interval'\n",
      "  sqlalchemy.util.warn(\n"
     ]
    },
    {
     "name": "stdout",
     "output_type": "stream",
     "text": [
      "[Weekday] schedule_key: 2b73391c967933cd6f840158171da411, stop times found: 20993\n"
     ]
    },
    {
     "name": "stderr",
     "output_type": "stream",
     "text": [
      "/opt/conda/lib/python3.11/site-packages/sqlalchemy_bigquery/_types.py:101: SAWarning: Did not recognize type 'GEOGRAPHY' of column 'pt_geom'\n",
      "  sqlalchemy.util.warn(\n"
     ]
    },
    {
     "name": "stdout",
     "output_type": "stream",
     "text": [
      "[Saturday] schedule_key: 2b73391c967933cd6f840158171da411, feed_keys found: ['02fbd8719f99b906e65b2cf86cbb7cae']\n",
      "could not get metrolink feed on 2022-12-03!\n",
      "[Saturday] schedule_key: 2b73391c967933cd6f840158171da411, trips found: 313\n"
     ]
    },
    {
     "name": "stderr",
     "output_type": "stream",
     "text": [
      "/opt/conda/lib/python3.11/site-packages/sqlalchemy_bigquery/_types.py:101: SAWarning: Did not recognize type 'INTERVAL' of column 'arrival_time_interval'\n",
      "  sqlalchemy.util.warn(\n",
      "/opt/conda/lib/python3.11/site-packages/sqlalchemy_bigquery/_types.py:101: SAWarning: Did not recognize type 'INTERVAL' of column 'departure_time_interval'\n",
      "  sqlalchemy.util.warn(\n",
      "/opt/conda/lib/python3.11/site-packages/sqlalchemy_bigquery/_types.py:101: SAWarning: Did not recognize type 'INTERVAL' of column 'start_pickup_drop_off_window_interval'\n",
      "  sqlalchemy.util.warn(\n",
      "/opt/conda/lib/python3.11/site-packages/sqlalchemy_bigquery/_types.py:101: SAWarning: Did not recognize type 'INTERVAL' of column 'end_pickup_drop_off_window_interval'\n",
      "  sqlalchemy.util.warn(\n"
     ]
    },
    {
     "name": "stdout",
     "output_type": "stream",
     "text": [
      "[Saturday] schedule_key: 2b73391c967933cd6f840158171da411, stop times found: 12886\n"
     ]
    },
    {
     "name": "stderr",
     "output_type": "stream",
     "text": [
      "/opt/conda/lib/python3.11/site-packages/sqlalchemy_bigquery/_types.py:101: SAWarning: Did not recognize type 'GEOGRAPHY' of column 'pt_geom'\n",
      "  sqlalchemy.util.warn(\n"
     ]
    },
    {
     "name": "stdout",
     "output_type": "stream",
     "text": [
      "[Sunday] schedule_key: 2b73391c967933cd6f840158171da411, feed_keys found: ['02fbd8719f99b906e65b2cf86cbb7cae']\n",
      "could not get metrolink feed on 2022-12-04!\n",
      "[Sunday] schedule_key: 2b73391c967933cd6f840158171da411, trips found: 313\n"
     ]
    },
    {
     "name": "stderr",
     "output_type": "stream",
     "text": [
      "/opt/conda/lib/python3.11/site-packages/sqlalchemy_bigquery/_types.py:101: SAWarning: Did not recognize type 'INTERVAL' of column 'arrival_time_interval'\n",
      "  sqlalchemy.util.warn(\n",
      "/opt/conda/lib/python3.11/site-packages/sqlalchemy_bigquery/_types.py:101: SAWarning: Did not recognize type 'INTERVAL' of column 'departure_time_interval'\n",
      "  sqlalchemy.util.warn(\n",
      "/opt/conda/lib/python3.11/site-packages/sqlalchemy_bigquery/_types.py:101: SAWarning: Did not recognize type 'INTERVAL' of column 'start_pickup_drop_off_window_interval'\n",
      "  sqlalchemy.util.warn(\n",
      "/opt/conda/lib/python3.11/site-packages/sqlalchemy_bigquery/_types.py:101: SAWarning: Did not recognize type 'INTERVAL' of column 'end_pickup_drop_off_window_interval'\n",
      "  sqlalchemy.util.warn(\n"
     ]
    },
    {
     "name": "stdout",
     "output_type": "stream",
     "text": [
      "[Sunday] schedule_key: 2b73391c967933cd6f840158171da411, stop times found: 12886\n"
     ]
    },
    {
     "name": "stderr",
     "output_type": "stream",
     "text": [
      "/opt/conda/lib/python3.11/site-packages/sqlalchemy_bigquery/_types.py:101: SAWarning: Did not recognize type 'GEOGRAPHY' of column 'pt_geom'\n",
      "  sqlalchemy.util.warn(\n"
     ]
    },
    {
     "name": "stdout",
     "output_type": "stream",
     "text": [
      "Saved results to gs://calitp-analytics-data/data-analyses/ahsc_grant/tool_data_2025/trips_perstop_2b73391c967933cd6f840158171da411.parquet\n",
      "processing schedule_key 26229fa2f9985c40f88d0abee6617ac5\n",
      "[Weekday] schedule_key: 26229fa2f9985c40f88d0abee6617ac5, feed_keys found: ['bcd14baa63b49800190e4d2a3f798ef1']\n",
      "could not get metrolink feed on 2022-11-30!\n",
      "[Weekday] schedule_key: 26229fa2f9985c40f88d0abee6617ac5, trips found: 26\n"
     ]
    },
    {
     "name": "stderr",
     "output_type": "stream",
     "text": [
      "/opt/conda/lib/python3.11/site-packages/sqlalchemy_bigquery/_types.py:101: SAWarning: Did not recognize type 'INTERVAL' of column 'arrival_time_interval'\n",
      "  sqlalchemy.util.warn(\n",
      "/opt/conda/lib/python3.11/site-packages/sqlalchemy_bigquery/_types.py:101: SAWarning: Did not recognize type 'INTERVAL' of column 'departure_time_interval'\n",
      "  sqlalchemy.util.warn(\n",
      "/opt/conda/lib/python3.11/site-packages/sqlalchemy_bigquery/_types.py:101: SAWarning: Did not recognize type 'INTERVAL' of column 'start_pickup_drop_off_window_interval'\n",
      "  sqlalchemy.util.warn(\n",
      "/opt/conda/lib/python3.11/site-packages/sqlalchemy_bigquery/_types.py:101: SAWarning: Did not recognize type 'INTERVAL' of column 'end_pickup_drop_off_window_interval'\n",
      "  sqlalchemy.util.warn(\n",
      "/opt/conda/lib/python3.11/site-packages/pandas/core/tools/datetimes.py:557: RuntimeWarning: invalid value encountered in cast\n",
      "  arr, tz_parsed = tslib.array_with_unit_to_datetime(arg, unit, errors=errors)\n",
      "/opt/conda/lib/python3.11/site-packages/pandas/core/tools/datetimes.py:557: RuntimeWarning: invalid value encountered in cast\n",
      "  arr, tz_parsed = tslib.array_with_unit_to_datetime(arg, unit, errors=errors)\n",
      "/opt/conda/lib/python3.11/site-packages/sqlalchemy_bigquery/_types.py:101: SAWarning: Did not recognize type 'GEOGRAPHY' of column 'pt_geom'\n",
      "  sqlalchemy.util.warn(\n"
     ]
    },
    {
     "name": "stdout",
     "output_type": "stream",
     "text": [
      "[Weekday] schedule_key: 26229fa2f9985c40f88d0abee6617ac5, stop times found: 538\n",
      "[Saturday] schedule_key: 26229fa2f9985c40f88d0abee6617ac5, feed_keys found: ['bcd14baa63b49800190e4d2a3f798ef1']\n",
      "could not get metrolink feed on 2022-12-03!\n",
      "[Saturday] schedule_key: 26229fa2f9985c40f88d0abee6617ac5, trips found: 0\n",
      "[Sunday] schedule_key: 26229fa2f9985c40f88d0abee6617ac5, feed_keys found: ['bcd14baa63b49800190e4d2a3f798ef1']\n",
      "could not get metrolink feed on 2022-12-04!\n",
      "[Sunday] schedule_key: 26229fa2f9985c40f88d0abee6617ac5, trips found: 0\n",
      "Saved results to gs://calitp-analytics-data/data-analyses/ahsc_grant/tool_data_2025/trips_perstop_26229fa2f9985c40f88d0abee6617ac5.parquet\n",
      "processing schedule_key 7b160164622a0f658d2dd3e9299b52c1\n",
      "No data for 7b160164622a0f658d2dd3e9299b52c1\n",
      "processing schedule_key 7ebdb14206ebd04adcbc53a1014923a2\n",
      "No data for 7ebdb14206ebd04adcbc53a1014923a2\n",
      "processing schedule_key f006760cec678b97734b95d505def07a\n",
      "No data for f006760cec678b97734b95d505def07a\n",
      "processing schedule_key 4cd6a8efc6746bccc4ec834d4c4ca841\n",
      "No data for 4cd6a8efc6746bccc4ec834d4c4ca841\n",
      "processing schedule_key f81212774976da6c322101f1983da795\n",
      "No data for f81212774976da6c322101f1983da795\n",
      "processing schedule_key 2d998c0c7de640702d8df735be5439ed\n",
      "[Weekday] schedule_key: 2d998c0c7de640702d8df735be5439ed, feed_keys found: ['413059bcd4418924ad9b4d392bea3841']\n",
      "could not get metrolink feed on 2022-11-30!\n",
      "[Weekday] schedule_key: 2d998c0c7de640702d8df735be5439ed, trips found: 60\n"
     ]
    },
    {
     "name": "stderr",
     "output_type": "stream",
     "text": [
      "/opt/conda/lib/python3.11/site-packages/sqlalchemy_bigquery/_types.py:101: SAWarning: Did not recognize type 'INTERVAL' of column 'arrival_time_interval'\n",
      "  sqlalchemy.util.warn(\n",
      "/opt/conda/lib/python3.11/site-packages/sqlalchemy_bigquery/_types.py:101: SAWarning: Did not recognize type 'INTERVAL' of column 'departure_time_interval'\n",
      "  sqlalchemy.util.warn(\n",
      "/opt/conda/lib/python3.11/site-packages/sqlalchemy_bigquery/_types.py:101: SAWarning: Did not recognize type 'INTERVAL' of column 'start_pickup_drop_off_window_interval'\n",
      "  sqlalchemy.util.warn(\n",
      "/opt/conda/lib/python3.11/site-packages/sqlalchemy_bigquery/_types.py:101: SAWarning: Did not recognize type 'INTERVAL' of column 'end_pickup_drop_off_window_interval'\n",
      "  sqlalchemy.util.warn(\n",
      "/opt/conda/lib/python3.11/site-packages/pandas/core/tools/datetimes.py:557: RuntimeWarning: invalid value encountered in cast\n",
      "  arr, tz_parsed = tslib.array_with_unit_to_datetime(arg, unit, errors=errors)\n",
      "/opt/conda/lib/python3.11/site-packages/pandas/core/tools/datetimes.py:557: RuntimeWarning: invalid value encountered in cast\n",
      "  arr, tz_parsed = tslib.array_with_unit_to_datetime(arg, unit, errors=errors)\n",
      "/opt/conda/lib/python3.11/site-packages/sqlalchemy_bigquery/_types.py:101: SAWarning: Did not recognize type 'GEOGRAPHY' of column 'pt_geom'\n",
      "  sqlalchemy.util.warn(\n"
     ]
    },
    {
     "name": "stdout",
     "output_type": "stream",
     "text": [
      "[Weekday] schedule_key: 2d998c0c7de640702d8df735be5439ed, stop times found: 974\n",
      "[Saturday] schedule_key: 2d998c0c7de640702d8df735be5439ed, feed_keys found: ['413059bcd4418924ad9b4d392bea3841']\n",
      "could not get metrolink feed on 2022-12-03!\n",
      "[Saturday] schedule_key: 2d998c0c7de640702d8df735be5439ed, trips found: 33\n"
     ]
    },
    {
     "name": "stderr",
     "output_type": "stream",
     "text": [
      "/opt/conda/lib/python3.11/site-packages/sqlalchemy_bigquery/_types.py:101: SAWarning: Did not recognize type 'INTERVAL' of column 'arrival_time_interval'\n",
      "  sqlalchemy.util.warn(\n",
      "/opt/conda/lib/python3.11/site-packages/sqlalchemy_bigquery/_types.py:101: SAWarning: Did not recognize type 'INTERVAL' of column 'departure_time_interval'\n",
      "  sqlalchemy.util.warn(\n",
      "/opt/conda/lib/python3.11/site-packages/sqlalchemy_bigquery/_types.py:101: SAWarning: Did not recognize type 'INTERVAL' of column 'start_pickup_drop_off_window_interval'\n",
      "  sqlalchemy.util.warn(\n",
      "/opt/conda/lib/python3.11/site-packages/sqlalchemy_bigquery/_types.py:101: SAWarning: Did not recognize type 'INTERVAL' of column 'end_pickup_drop_off_window_interval'\n",
      "  sqlalchemy.util.warn(\n",
      "/opt/conda/lib/python3.11/site-packages/pandas/core/tools/datetimes.py:557: RuntimeWarning: invalid value encountered in cast\n",
      "  arr, tz_parsed = tslib.array_with_unit_to_datetime(arg, unit, errors=errors)\n",
      "/opt/conda/lib/python3.11/site-packages/pandas/core/tools/datetimes.py:557: RuntimeWarning: invalid value encountered in cast\n",
      "  arr, tz_parsed = tslib.array_with_unit_to_datetime(arg, unit, errors=errors)\n",
      "/opt/conda/lib/python3.11/site-packages/sqlalchemy_bigquery/_types.py:101: SAWarning: Did not recognize type 'GEOGRAPHY' of column 'pt_geom'\n",
      "  sqlalchemy.util.warn(\n"
     ]
    },
    {
     "name": "stdout",
     "output_type": "stream",
     "text": [
      "[Saturday] schedule_key: 2d998c0c7de640702d8df735be5439ed, stop times found: 301\n",
      "[Sunday] schedule_key: 2d998c0c7de640702d8df735be5439ed, feed_keys found: ['413059bcd4418924ad9b4d392bea3841']\n",
      "could not get metrolink feed on 2022-12-04!\n",
      "[Sunday] schedule_key: 2d998c0c7de640702d8df735be5439ed, trips found: 0\n",
      "Saved results to gs://calitp-analytics-data/data-analyses/ahsc_grant/tool_data_2025/trips_perstop_2d998c0c7de640702d8df735be5439ed.parquet\n",
      "processing schedule_key 1c1b82378b0de396aa1004cd7bbaeff7\n",
      "[Weekday] schedule_key: 1c1b82378b0de396aa1004cd7bbaeff7, feed_keys found: ['eb429142f4346cbd1baab263b7b427e7']\n",
      "could not get metrolink feed on 2022-11-30!\n",
      "[Weekday] schedule_key: 1c1b82378b0de396aa1004cd7bbaeff7, trips found: 136\n"
     ]
    },
    {
     "name": "stderr",
     "output_type": "stream",
     "text": [
      "/opt/conda/lib/python3.11/site-packages/sqlalchemy_bigquery/_types.py:101: SAWarning: Did not recognize type 'INTERVAL' of column 'arrival_time_interval'\n",
      "  sqlalchemy.util.warn(\n",
      "/opt/conda/lib/python3.11/site-packages/sqlalchemy_bigquery/_types.py:101: SAWarning: Did not recognize type 'INTERVAL' of column 'departure_time_interval'\n",
      "  sqlalchemy.util.warn(\n",
      "/opt/conda/lib/python3.11/site-packages/sqlalchemy_bigquery/_types.py:101: SAWarning: Did not recognize type 'INTERVAL' of column 'start_pickup_drop_off_window_interval'\n",
      "  sqlalchemy.util.warn(\n",
      "/opt/conda/lib/python3.11/site-packages/sqlalchemy_bigquery/_types.py:101: SAWarning: Did not recognize type 'INTERVAL' of column 'end_pickup_drop_off_window_interval'\n",
      "  sqlalchemy.util.warn(\n",
      "/opt/conda/lib/python3.11/site-packages/pandas/core/tools/datetimes.py:557: RuntimeWarning: invalid value encountered in cast\n",
      "  arr, tz_parsed = tslib.array_with_unit_to_datetime(arg, unit, errors=errors)\n",
      "/opt/conda/lib/python3.11/site-packages/pandas/core/tools/datetimes.py:557: RuntimeWarning: invalid value encountered in cast\n",
      "  arr, tz_parsed = tslib.array_with_unit_to_datetime(arg, unit, errors=errors)\n",
      "/opt/conda/lib/python3.11/site-packages/sqlalchemy_bigquery/_types.py:101: SAWarning: Did not recognize type 'GEOGRAPHY' of column 'pt_geom'\n",
      "  sqlalchemy.util.warn(\n"
     ]
    },
    {
     "name": "stdout",
     "output_type": "stream",
     "text": [
      "[Weekday] schedule_key: 1c1b82378b0de396aa1004cd7bbaeff7, stop times found: 3312\n",
      "[Saturday] schedule_key: 1c1b82378b0de396aa1004cd7bbaeff7, feed_keys found: ['eb429142f4346cbd1baab263b7b427e7']\n",
      "could not get metrolink feed on 2022-12-03!\n",
      "[Saturday] schedule_key: 1c1b82378b0de396aa1004cd7bbaeff7, trips found: 136\n"
     ]
    },
    {
     "name": "stderr",
     "output_type": "stream",
     "text": [
      "/opt/conda/lib/python3.11/site-packages/sqlalchemy_bigquery/_types.py:101: SAWarning: Did not recognize type 'INTERVAL' of column 'arrival_time_interval'\n",
      "  sqlalchemy.util.warn(\n",
      "/opt/conda/lib/python3.11/site-packages/sqlalchemy_bigquery/_types.py:101: SAWarning: Did not recognize type 'INTERVAL' of column 'departure_time_interval'\n",
      "  sqlalchemy.util.warn(\n",
      "/opt/conda/lib/python3.11/site-packages/sqlalchemy_bigquery/_types.py:101: SAWarning: Did not recognize type 'INTERVAL' of column 'start_pickup_drop_off_window_interval'\n",
      "  sqlalchemy.util.warn(\n",
      "/opt/conda/lib/python3.11/site-packages/sqlalchemy_bigquery/_types.py:101: SAWarning: Did not recognize type 'INTERVAL' of column 'end_pickup_drop_off_window_interval'\n",
      "  sqlalchemy.util.warn(\n",
      "/opt/conda/lib/python3.11/site-packages/pandas/core/tools/datetimes.py:557: RuntimeWarning: invalid value encountered in cast\n",
      "  arr, tz_parsed = tslib.array_with_unit_to_datetime(arg, unit, errors=errors)\n",
      "/opt/conda/lib/python3.11/site-packages/pandas/core/tools/datetimes.py:557: RuntimeWarning: invalid value encountered in cast\n",
      "  arr, tz_parsed = tslib.array_with_unit_to_datetime(arg, unit, errors=errors)\n",
      "/opt/conda/lib/python3.11/site-packages/sqlalchemy_bigquery/_types.py:101: SAWarning: Did not recognize type 'GEOGRAPHY' of column 'pt_geom'\n",
      "  sqlalchemy.util.warn(\n"
     ]
    },
    {
     "name": "stdout",
     "output_type": "stream",
     "text": [
      "[Saturday] schedule_key: 1c1b82378b0de396aa1004cd7bbaeff7, stop times found: 3312\n",
      "[Sunday] schedule_key: 1c1b82378b0de396aa1004cd7bbaeff7, feed_keys found: ['eb429142f4346cbd1baab263b7b427e7']\n",
      "could not get metrolink feed on 2022-12-04!\n",
      "[Sunday] schedule_key: 1c1b82378b0de396aa1004cd7bbaeff7, trips found: 136\n"
     ]
    },
    {
     "name": "stderr",
     "output_type": "stream",
     "text": [
      "/opt/conda/lib/python3.11/site-packages/sqlalchemy_bigquery/_types.py:101: SAWarning: Did not recognize type 'INTERVAL' of column 'arrival_time_interval'\n",
      "  sqlalchemy.util.warn(\n",
      "/opt/conda/lib/python3.11/site-packages/sqlalchemy_bigquery/_types.py:101: SAWarning: Did not recognize type 'INTERVAL' of column 'departure_time_interval'\n",
      "  sqlalchemy.util.warn(\n",
      "/opt/conda/lib/python3.11/site-packages/sqlalchemy_bigquery/_types.py:101: SAWarning: Did not recognize type 'INTERVAL' of column 'start_pickup_drop_off_window_interval'\n",
      "  sqlalchemy.util.warn(\n",
      "/opt/conda/lib/python3.11/site-packages/sqlalchemy_bigquery/_types.py:101: SAWarning: Did not recognize type 'INTERVAL' of column 'end_pickup_drop_off_window_interval'\n",
      "  sqlalchemy.util.warn(\n",
      "/opt/conda/lib/python3.11/site-packages/pandas/core/tools/datetimes.py:557: RuntimeWarning: invalid value encountered in cast\n",
      "  arr, tz_parsed = tslib.array_with_unit_to_datetime(arg, unit, errors=errors)\n",
      "/opt/conda/lib/python3.11/site-packages/pandas/core/tools/datetimes.py:557: RuntimeWarning: invalid value encountered in cast\n",
      "  arr, tz_parsed = tslib.array_with_unit_to_datetime(arg, unit, errors=errors)\n",
      "/opt/conda/lib/python3.11/site-packages/sqlalchemy_bigquery/_types.py:101: SAWarning: Did not recognize type 'GEOGRAPHY' of column 'pt_geom'\n",
      "  sqlalchemy.util.warn(\n"
     ]
    },
    {
     "name": "stdout",
     "output_type": "stream",
     "text": [
      "[Sunday] schedule_key: 1c1b82378b0de396aa1004cd7bbaeff7, stop times found: 3312\n",
      "Saved results to gs://calitp-analytics-data/data-analyses/ahsc_grant/tool_data_2025/trips_perstop_1c1b82378b0de396aa1004cd7bbaeff7.parquet\n",
      "processing schedule_key 8f556dff6e44585c95bb8ef193e5ce49\n",
      "[Weekday] schedule_key: 8f556dff6e44585c95bb8ef193e5ce49, feed_keys found: ['c14e920eaf0dba1815ec801c4ac51775']\n",
      "could not get metrolink feed on 2022-11-30!\n",
      "[Weekday] schedule_key: 8f556dff6e44585c95bb8ef193e5ce49, trips found: 342\n"
     ]
    },
    {
     "name": "stderr",
     "output_type": "stream",
     "text": [
      "/opt/conda/lib/python3.11/site-packages/sqlalchemy_bigquery/_types.py:101: SAWarning: Did not recognize type 'INTERVAL' of column 'arrival_time_interval'\n",
      "  sqlalchemy.util.warn(\n",
      "/opt/conda/lib/python3.11/site-packages/sqlalchemy_bigquery/_types.py:101: SAWarning: Did not recognize type 'INTERVAL' of column 'departure_time_interval'\n",
      "  sqlalchemy.util.warn(\n",
      "/opt/conda/lib/python3.11/site-packages/sqlalchemy_bigquery/_types.py:101: SAWarning: Did not recognize type 'INTERVAL' of column 'start_pickup_drop_off_window_interval'\n",
      "  sqlalchemy.util.warn(\n",
      "/opt/conda/lib/python3.11/site-packages/sqlalchemy_bigquery/_types.py:101: SAWarning: Did not recognize type 'INTERVAL' of column 'end_pickup_drop_off_window_interval'\n",
      "  sqlalchemy.util.warn(\n",
      "/opt/conda/lib/python3.11/site-packages/pandas/core/tools/datetimes.py:557: RuntimeWarning: invalid value encountered in cast\n",
      "  arr, tz_parsed = tslib.array_with_unit_to_datetime(arg, unit, errors=errors)\n",
      "/opt/conda/lib/python3.11/site-packages/pandas/core/tools/datetimes.py:557: RuntimeWarning: invalid value encountered in cast\n",
      "  arr, tz_parsed = tslib.array_with_unit_to_datetime(arg, unit, errors=errors)\n",
      "/opt/conda/lib/python3.11/site-packages/sqlalchemy_bigquery/_types.py:101: SAWarning: Did not recognize type 'GEOGRAPHY' of column 'pt_geom'\n",
      "  sqlalchemy.util.warn(\n"
     ]
    },
    {
     "name": "stdout",
     "output_type": "stream",
     "text": [
      "[Weekday] schedule_key: 8f556dff6e44585c95bb8ef193e5ce49, stop times found: 9573\n",
      "[Saturday] schedule_key: 8f556dff6e44585c95bb8ef193e5ce49, feed_keys found: ['c14e920eaf0dba1815ec801c4ac51775']\n",
      "could not get metrolink feed on 2022-12-03!\n",
      "[Saturday] schedule_key: 8f556dff6e44585c95bb8ef193e5ce49, trips found: 145\n"
     ]
    },
    {
     "name": "stderr",
     "output_type": "stream",
     "text": [
      "/opt/conda/lib/python3.11/site-packages/sqlalchemy_bigquery/_types.py:101: SAWarning: Did not recognize type 'INTERVAL' of column 'arrival_time_interval'\n",
      "  sqlalchemy.util.warn(\n",
      "/opt/conda/lib/python3.11/site-packages/sqlalchemy_bigquery/_types.py:101: SAWarning: Did not recognize type 'INTERVAL' of column 'departure_time_interval'\n",
      "  sqlalchemy.util.warn(\n",
      "/opt/conda/lib/python3.11/site-packages/sqlalchemy_bigquery/_types.py:101: SAWarning: Did not recognize type 'INTERVAL' of column 'start_pickup_drop_off_window_interval'\n",
      "  sqlalchemy.util.warn(\n",
      "/opt/conda/lib/python3.11/site-packages/sqlalchemy_bigquery/_types.py:101: SAWarning: Did not recognize type 'INTERVAL' of column 'end_pickup_drop_off_window_interval'\n",
      "  sqlalchemy.util.warn(\n",
      "/opt/conda/lib/python3.11/site-packages/pandas/core/tools/datetimes.py:557: RuntimeWarning: invalid value encountered in cast\n",
      "  arr, tz_parsed = tslib.array_with_unit_to_datetime(arg, unit, errors=errors)\n",
      "/opt/conda/lib/python3.11/site-packages/pandas/core/tools/datetimes.py:557: RuntimeWarning: invalid value encountered in cast\n",
      "  arr, tz_parsed = tslib.array_with_unit_to_datetime(arg, unit, errors=errors)\n",
      "/opt/conda/lib/python3.11/site-packages/sqlalchemy_bigquery/_types.py:101: SAWarning: Did not recognize type 'GEOGRAPHY' of column 'pt_geom'\n",
      "  sqlalchemy.util.warn(\n"
     ]
    },
    {
     "name": "stdout",
     "output_type": "stream",
     "text": [
      "[Saturday] schedule_key: 8f556dff6e44585c95bb8ef193e5ce49, stop times found: 3589\n",
      "[Sunday] schedule_key: 8f556dff6e44585c95bb8ef193e5ce49, feed_keys found: ['c14e920eaf0dba1815ec801c4ac51775']\n",
      "could not get metrolink feed on 2022-12-04!\n",
      "[Sunday] schedule_key: 8f556dff6e44585c95bb8ef193e5ce49, trips found: 145\n"
     ]
    },
    {
     "name": "stderr",
     "output_type": "stream",
     "text": [
      "/opt/conda/lib/python3.11/site-packages/sqlalchemy_bigquery/_types.py:101: SAWarning: Did not recognize type 'INTERVAL' of column 'arrival_time_interval'\n",
      "  sqlalchemy.util.warn(\n",
      "/opt/conda/lib/python3.11/site-packages/sqlalchemy_bigquery/_types.py:101: SAWarning: Did not recognize type 'INTERVAL' of column 'departure_time_interval'\n",
      "  sqlalchemy.util.warn(\n",
      "/opt/conda/lib/python3.11/site-packages/sqlalchemy_bigquery/_types.py:101: SAWarning: Did not recognize type 'INTERVAL' of column 'start_pickup_drop_off_window_interval'\n",
      "  sqlalchemy.util.warn(\n",
      "/opt/conda/lib/python3.11/site-packages/sqlalchemy_bigquery/_types.py:101: SAWarning: Did not recognize type 'INTERVAL' of column 'end_pickup_drop_off_window_interval'\n",
      "  sqlalchemy.util.warn(\n",
      "/opt/conda/lib/python3.11/site-packages/pandas/core/tools/datetimes.py:557: RuntimeWarning: invalid value encountered in cast\n",
      "  arr, tz_parsed = tslib.array_with_unit_to_datetime(arg, unit, errors=errors)\n",
      "/opt/conda/lib/python3.11/site-packages/pandas/core/tools/datetimes.py:557: RuntimeWarning: invalid value encountered in cast\n",
      "  arr, tz_parsed = tslib.array_with_unit_to_datetime(arg, unit, errors=errors)\n",
      "/opt/conda/lib/python3.11/site-packages/sqlalchemy_bigquery/_types.py:101: SAWarning: Did not recognize type 'GEOGRAPHY' of column 'pt_geom'\n",
      "  sqlalchemy.util.warn(\n"
     ]
    },
    {
     "name": "stdout",
     "output_type": "stream",
     "text": [
      "[Sunday] schedule_key: 8f556dff6e44585c95bb8ef193e5ce49, stop times found: 3591\n",
      "Saved results to gs://calitp-analytics-data/data-analyses/ahsc_grant/tool_data_2025/trips_perstop_8f556dff6e44585c95bb8ef193e5ce49.parquet\n",
      "processing schedule_key e1d2954c8bd8d42ca81f4dd23d096b81\n",
      "[Weekday] schedule_key: e1d2954c8bd8d42ca81f4dd23d096b81, feed_keys found: ['4f02ae795049f4d39381ddcbe0a8c796']\n",
      "could not get metrolink feed on 2022-11-30!\n",
      "[Weekday] schedule_key: e1d2954c8bd8d42ca81f4dd23d096b81, trips found: 17\n"
     ]
    },
    {
     "name": "stderr",
     "output_type": "stream",
     "text": [
      "/opt/conda/lib/python3.11/site-packages/sqlalchemy_bigquery/_types.py:101: SAWarning: Did not recognize type 'INTERVAL' of column 'arrival_time_interval'\n",
      "  sqlalchemy.util.warn(\n",
      "/opt/conda/lib/python3.11/site-packages/sqlalchemy_bigquery/_types.py:101: SAWarning: Did not recognize type 'INTERVAL' of column 'departure_time_interval'\n",
      "  sqlalchemy.util.warn(\n",
      "/opt/conda/lib/python3.11/site-packages/sqlalchemy_bigquery/_types.py:101: SAWarning: Did not recognize type 'INTERVAL' of column 'start_pickup_drop_off_window_interval'\n",
      "  sqlalchemy.util.warn(\n",
      "/opt/conda/lib/python3.11/site-packages/sqlalchemy_bigquery/_types.py:101: SAWarning: Did not recognize type 'INTERVAL' of column 'end_pickup_drop_off_window_interval'\n",
      "  sqlalchemy.util.warn(\n"
     ]
    },
    {
     "name": "stdout",
     "output_type": "stream",
     "text": [
      "[Weekday] schedule_key: e1d2954c8bd8d42ca81f4dd23d096b81, stop times found: 299\n"
     ]
    },
    {
     "name": "stderr",
     "output_type": "stream",
     "text": [
      "/opt/conda/lib/python3.11/site-packages/sqlalchemy_bigquery/_types.py:101: SAWarning: Did not recognize type 'GEOGRAPHY' of column 'pt_geom'\n",
      "  sqlalchemy.util.warn(\n"
     ]
    },
    {
     "name": "stdout",
     "output_type": "stream",
     "text": [
      "[Saturday] schedule_key: e1d2954c8bd8d42ca81f4dd23d096b81, feed_keys found: ['4f02ae795049f4d39381ddcbe0a8c796']\n",
      "could not get metrolink feed on 2022-12-03!\n",
      "[Saturday] schedule_key: e1d2954c8bd8d42ca81f4dd23d096b81, trips found: 0\n",
      "[Sunday] schedule_key: e1d2954c8bd8d42ca81f4dd23d096b81, feed_keys found: ['4f02ae795049f4d39381ddcbe0a8c796']\n",
      "could not get metrolink feed on 2022-12-04!\n",
      "[Sunday] schedule_key: e1d2954c8bd8d42ca81f4dd23d096b81, trips found: 0\n",
      "Saved results to gs://calitp-analytics-data/data-analyses/ahsc_grant/tool_data_2025/trips_perstop_e1d2954c8bd8d42ca81f4dd23d096b81.parquet\n",
      "processing schedule_key 97466221e6bcbd10366011fcccb39e75\n",
      "No data for 97466221e6bcbd10366011fcccb39e75\n",
      "processing schedule_key 15694e11668b8396b4ee86d84663b128\n",
      "[Weekday] schedule_key: 15694e11668b8396b4ee86d84663b128, feed_keys found: ['b9e5620a5f48b1104b87195858c893b0']\n",
      "could not get metrolink feed on 2022-11-30!\n",
      "[Weekday] schedule_key: 15694e11668b8396b4ee86d84663b128, trips found: 20\n"
     ]
    },
    {
     "name": "stderr",
     "output_type": "stream",
     "text": [
      "/opt/conda/lib/python3.11/site-packages/sqlalchemy_bigquery/_types.py:101: SAWarning: Did not recognize type 'INTERVAL' of column 'arrival_time_interval'\n",
      "  sqlalchemy.util.warn(\n",
      "/opt/conda/lib/python3.11/site-packages/sqlalchemy_bigquery/_types.py:101: SAWarning: Did not recognize type 'INTERVAL' of column 'departure_time_interval'\n",
      "  sqlalchemy.util.warn(\n",
      "/opt/conda/lib/python3.11/site-packages/sqlalchemy_bigquery/_types.py:101: SAWarning: Did not recognize type 'INTERVAL' of column 'start_pickup_drop_off_window_interval'\n",
      "  sqlalchemy.util.warn(\n",
      "/opt/conda/lib/python3.11/site-packages/sqlalchemy_bigquery/_types.py:101: SAWarning: Did not recognize type 'INTERVAL' of column 'end_pickup_drop_off_window_interval'\n",
      "  sqlalchemy.util.warn(\n",
      "/opt/conda/lib/python3.11/site-packages/pandas/core/tools/datetimes.py:557: RuntimeWarning: invalid value encountered in cast\n",
      "  arr, tz_parsed = tslib.array_with_unit_to_datetime(arg, unit, errors=errors)\n",
      "/opt/conda/lib/python3.11/site-packages/pandas/core/tools/datetimes.py:557: RuntimeWarning: invalid value encountered in cast\n",
      "  arr, tz_parsed = tslib.array_with_unit_to_datetime(arg, unit, errors=errors)\n",
      "/opt/conda/lib/python3.11/site-packages/sqlalchemy_bigquery/_types.py:101: SAWarning: Did not recognize type 'GEOGRAPHY' of column 'pt_geom'\n",
      "  sqlalchemy.util.warn(\n"
     ]
    },
    {
     "name": "stdout",
     "output_type": "stream",
     "text": [
      "[Weekday] schedule_key: 15694e11668b8396b4ee86d84663b128, stop times found: 308\n",
      "[Saturday] schedule_key: 15694e11668b8396b4ee86d84663b128, feed_keys found: ['b9e5620a5f48b1104b87195858c893b0']\n",
      "could not get metrolink feed on 2022-12-03!\n",
      "[Saturday] schedule_key: 15694e11668b8396b4ee86d84663b128, trips found: 0\n",
      "[Sunday] schedule_key: 15694e11668b8396b4ee86d84663b128, feed_keys found: ['b9e5620a5f48b1104b87195858c893b0']\n",
      "could not get metrolink feed on 2022-12-04!\n",
      "[Sunday] schedule_key: 15694e11668b8396b4ee86d84663b128, trips found: 0\n",
      "Saved results to gs://calitp-analytics-data/data-analyses/ahsc_grant/tool_data_2025/trips_perstop_15694e11668b8396b4ee86d84663b128.parquet\n",
      "processing schedule_key bd25004b8f4c19247443f27c183ac42c\n",
      "[Weekday] schedule_key: bd25004b8f4c19247443f27c183ac42c, feed_keys found: ['f90b73238e8f9e57591c1099168cb235']\n",
      "could not get metrolink feed on 2022-11-30!\n",
      "[Weekday] schedule_key: bd25004b8f4c19247443f27c183ac42c, trips found: 786\n"
     ]
    },
    {
     "name": "stderr",
     "output_type": "stream",
     "text": [
      "/opt/conda/lib/python3.11/site-packages/sqlalchemy_bigquery/_types.py:101: SAWarning: Did not recognize type 'INTERVAL' of column 'arrival_time_interval'\n",
      "  sqlalchemy.util.warn(\n",
      "/opt/conda/lib/python3.11/site-packages/sqlalchemy_bigquery/_types.py:101: SAWarning: Did not recognize type 'INTERVAL' of column 'departure_time_interval'\n",
      "  sqlalchemy.util.warn(\n",
      "/opt/conda/lib/python3.11/site-packages/sqlalchemy_bigquery/_types.py:101: SAWarning: Did not recognize type 'INTERVAL' of column 'start_pickup_drop_off_window_interval'\n",
      "  sqlalchemy.util.warn(\n",
      "/opt/conda/lib/python3.11/site-packages/sqlalchemy_bigquery/_types.py:101: SAWarning: Did not recognize type 'INTERVAL' of column 'end_pickup_drop_off_window_interval'\n",
      "  sqlalchemy.util.warn(\n",
      "/opt/conda/lib/python3.11/site-packages/pandas/core/tools/datetimes.py:557: RuntimeWarning: invalid value encountered in cast\n",
      "  arr, tz_parsed = tslib.array_with_unit_to_datetime(arg, unit, errors=errors)\n",
      "/opt/conda/lib/python3.11/site-packages/pandas/core/tools/datetimes.py:557: RuntimeWarning: invalid value encountered in cast\n",
      "  arr, tz_parsed = tslib.array_with_unit_to_datetime(arg, unit, errors=errors)\n",
      "/opt/conda/lib/python3.11/site-packages/sqlalchemy_bigquery/_types.py:101: SAWarning: Did not recognize type 'GEOGRAPHY' of column 'pt_geom'\n",
      "  sqlalchemy.util.warn(\n"
     ]
    },
    {
     "name": "stdout",
     "output_type": "stream",
     "text": [
      "[Weekday] schedule_key: bd25004b8f4c19247443f27c183ac42c, stop times found: 9795\n",
      "[Saturday] schedule_key: bd25004b8f4c19247443f27c183ac42c, feed_keys found: ['597e1db8bea06e6510913510bd88fc45']\n",
      "could not get metrolink feed on 2022-12-03!\n",
      "[Saturday] schedule_key: bd25004b8f4c19247443f27c183ac42c, trips found: 122\n"
     ]
    },
    {
     "name": "stderr",
     "output_type": "stream",
     "text": [
      "/opt/conda/lib/python3.11/site-packages/sqlalchemy_bigquery/_types.py:101: SAWarning: Did not recognize type 'INTERVAL' of column 'arrival_time_interval'\n",
      "  sqlalchemy.util.warn(\n",
      "/opt/conda/lib/python3.11/site-packages/sqlalchemy_bigquery/_types.py:101: SAWarning: Did not recognize type 'INTERVAL' of column 'departure_time_interval'\n",
      "  sqlalchemy.util.warn(\n",
      "/opt/conda/lib/python3.11/site-packages/sqlalchemy_bigquery/_types.py:101: SAWarning: Did not recognize type 'INTERVAL' of column 'start_pickup_drop_off_window_interval'\n",
      "  sqlalchemy.util.warn(\n",
      "/opt/conda/lib/python3.11/site-packages/sqlalchemy_bigquery/_types.py:101: SAWarning: Did not recognize type 'INTERVAL' of column 'end_pickup_drop_off_window_interval'\n",
      "  sqlalchemy.util.warn(\n",
      "/opt/conda/lib/python3.11/site-packages/pandas/core/tools/datetimes.py:557: RuntimeWarning: invalid value encountered in cast\n",
      "  arr, tz_parsed = tslib.array_with_unit_to_datetime(arg, unit, errors=errors)\n",
      "/opt/conda/lib/python3.11/site-packages/pandas/core/tools/datetimes.py:557: RuntimeWarning: invalid value encountered in cast\n",
      "  arr, tz_parsed = tslib.array_with_unit_to_datetime(arg, unit, errors=errors)\n",
      "/opt/conda/lib/python3.11/site-packages/sqlalchemy_bigquery/_types.py:101: SAWarning: Did not recognize type 'GEOGRAPHY' of column 'pt_geom'\n",
      "  sqlalchemy.util.warn(\n"
     ]
    },
    {
     "name": "stdout",
     "output_type": "stream",
     "text": [
      "[Saturday] schedule_key: bd25004b8f4c19247443f27c183ac42c, stop times found: 1965\n",
      "[Sunday] schedule_key: bd25004b8f4c19247443f27c183ac42c, feed_keys found: ['597e1db8bea06e6510913510bd88fc45']\n",
      "could not get metrolink feed on 2022-12-04!\n",
      "[Sunday] schedule_key: bd25004b8f4c19247443f27c183ac42c, trips found: 122\n"
     ]
    },
    {
     "name": "stderr",
     "output_type": "stream",
     "text": [
      "/opt/conda/lib/python3.11/site-packages/sqlalchemy_bigquery/_types.py:101: SAWarning: Did not recognize type 'INTERVAL' of column 'arrival_time_interval'\n",
      "  sqlalchemy.util.warn(\n",
      "/opt/conda/lib/python3.11/site-packages/sqlalchemy_bigquery/_types.py:101: SAWarning: Did not recognize type 'INTERVAL' of column 'departure_time_interval'\n",
      "  sqlalchemy.util.warn(\n",
      "/opt/conda/lib/python3.11/site-packages/sqlalchemy_bigquery/_types.py:101: SAWarning: Did not recognize type 'INTERVAL' of column 'start_pickup_drop_off_window_interval'\n",
      "  sqlalchemy.util.warn(\n",
      "/opt/conda/lib/python3.11/site-packages/sqlalchemy_bigquery/_types.py:101: SAWarning: Did not recognize type 'INTERVAL' of column 'end_pickup_drop_off_window_interval'\n",
      "  sqlalchemy.util.warn(\n",
      "/opt/conda/lib/python3.11/site-packages/pandas/core/tools/datetimes.py:557: RuntimeWarning: invalid value encountered in cast\n",
      "  arr, tz_parsed = tslib.array_with_unit_to_datetime(arg, unit, errors=errors)\n",
      "/opt/conda/lib/python3.11/site-packages/pandas/core/tools/datetimes.py:557: RuntimeWarning: invalid value encountered in cast\n",
      "  arr, tz_parsed = tslib.array_with_unit_to_datetime(arg, unit, errors=errors)\n",
      "/opt/conda/lib/python3.11/site-packages/sqlalchemy_bigquery/_types.py:101: SAWarning: Did not recognize type 'GEOGRAPHY' of column 'pt_geom'\n",
      "  sqlalchemy.util.warn(\n"
     ]
    },
    {
     "name": "stdout",
     "output_type": "stream",
     "text": [
      "[Sunday] schedule_key: bd25004b8f4c19247443f27c183ac42c, stop times found: 1965\n",
      "Saved results to gs://calitp-analytics-data/data-analyses/ahsc_grant/tool_data_2025/trips_perstop_bd25004b8f4c19247443f27c183ac42c.parquet\n",
      "processing schedule_key 0d72c64ee2bc3487f1e3089afdc933ae\n",
      "No data for 0d72c64ee2bc3487f1e3089afdc933ae\n",
      "processing schedule_key 52a7c3a4b9e428d31a882d54ebe86f15\n",
      "[Weekday] schedule_key: 52a7c3a4b9e428d31a882d54ebe86f15, feed_keys found: ['79417bb713be6805dde80963cb132d6f']\n",
      "could not get metrolink feed on 2022-11-30!\n",
      "[Weekday] schedule_key: 52a7c3a4b9e428d31a882d54ebe86f15, trips found: 834\n"
     ]
    },
    {
     "name": "stderr",
     "output_type": "stream",
     "text": [
      "/opt/conda/lib/python3.11/site-packages/sqlalchemy_bigquery/_types.py:101: SAWarning: Did not recognize type 'INTERVAL' of column 'arrival_time_interval'\n",
      "  sqlalchemy.util.warn(\n",
      "/opt/conda/lib/python3.11/site-packages/sqlalchemy_bigquery/_types.py:101: SAWarning: Did not recognize type 'INTERVAL' of column 'departure_time_interval'\n",
      "  sqlalchemy.util.warn(\n",
      "/opt/conda/lib/python3.11/site-packages/sqlalchemy_bigquery/_types.py:101: SAWarning: Did not recognize type 'INTERVAL' of column 'start_pickup_drop_off_window_interval'\n",
      "  sqlalchemy.util.warn(\n",
      "/opt/conda/lib/python3.11/site-packages/sqlalchemy_bigquery/_types.py:101: SAWarning: Did not recognize type 'INTERVAL' of column 'end_pickup_drop_off_window_interval'\n",
      "  sqlalchemy.util.warn(\n",
      "/opt/conda/lib/python3.11/site-packages/pandas/core/tools/datetimes.py:557: RuntimeWarning: invalid value encountered in cast\n",
      "  arr, tz_parsed = tslib.array_with_unit_to_datetime(arg, unit, errors=errors)\n"
     ]
    },
    {
     "name": "stdout",
     "output_type": "stream",
     "text": [
      "[Weekday] schedule_key: 52a7c3a4b9e428d31a882d54ebe86f15, stop times found: 19378\n"
     ]
    },
    {
     "name": "stderr",
     "output_type": "stream",
     "text": [
      "/opt/conda/lib/python3.11/site-packages/sqlalchemy_bigquery/_types.py:101: SAWarning: Did not recognize type 'GEOGRAPHY' of column 'pt_geom'\n",
      "  sqlalchemy.util.warn(\n"
     ]
    },
    {
     "name": "stdout",
     "output_type": "stream",
     "text": [
      "[Saturday] schedule_key: 52a7c3a4b9e428d31a882d54ebe86f15, feed_keys found: ['79417bb713be6805dde80963cb132d6f']\n",
      "could not get metrolink feed on 2022-12-03!\n",
      "[Saturday] schedule_key: 52a7c3a4b9e428d31a882d54ebe86f15, trips found: 571\n"
     ]
    },
    {
     "name": "stderr",
     "output_type": "stream",
     "text": [
      "/opt/conda/lib/python3.11/site-packages/sqlalchemy_bigquery/_types.py:101: SAWarning: Did not recognize type 'INTERVAL' of column 'arrival_time_interval'\n",
      "  sqlalchemy.util.warn(\n",
      "/opt/conda/lib/python3.11/site-packages/sqlalchemy_bigquery/_types.py:101: SAWarning: Did not recognize type 'INTERVAL' of column 'departure_time_interval'\n",
      "  sqlalchemy.util.warn(\n",
      "/opt/conda/lib/python3.11/site-packages/sqlalchemy_bigquery/_types.py:101: SAWarning: Did not recognize type 'INTERVAL' of column 'start_pickup_drop_off_window_interval'\n",
      "  sqlalchemy.util.warn(\n",
      "/opt/conda/lib/python3.11/site-packages/sqlalchemy_bigquery/_types.py:101: SAWarning: Did not recognize type 'INTERVAL' of column 'end_pickup_drop_off_window_interval'\n",
      "  sqlalchemy.util.warn(\n"
     ]
    },
    {
     "name": "stdout",
     "output_type": "stream",
     "text": [
      "[Saturday] schedule_key: 52a7c3a4b9e428d31a882d54ebe86f15, stop times found: 14118\n"
     ]
    },
    {
     "name": "stderr",
     "output_type": "stream",
     "text": [
      "/opt/conda/lib/python3.11/site-packages/sqlalchemy_bigquery/_types.py:101: SAWarning: Did not recognize type 'GEOGRAPHY' of column 'pt_geom'\n",
      "  sqlalchemy.util.warn(\n"
     ]
    },
    {
     "name": "stdout",
     "output_type": "stream",
     "text": [
      "[Sunday] schedule_key: 52a7c3a4b9e428d31a882d54ebe86f15, feed_keys found: ['79417bb713be6805dde80963cb132d6f']\n",
      "could not get metrolink feed on 2022-12-04!\n",
      "[Sunday] schedule_key: 52a7c3a4b9e428d31a882d54ebe86f15, trips found: 421\n"
     ]
    },
    {
     "name": "stderr",
     "output_type": "stream",
     "text": [
      "/opt/conda/lib/python3.11/site-packages/sqlalchemy_bigquery/_types.py:101: SAWarning: Did not recognize type 'INTERVAL' of column 'arrival_time_interval'\n",
      "  sqlalchemy.util.warn(\n",
      "/opt/conda/lib/python3.11/site-packages/sqlalchemy_bigquery/_types.py:101: SAWarning: Did not recognize type 'INTERVAL' of column 'departure_time_interval'\n",
      "  sqlalchemy.util.warn(\n",
      "/opt/conda/lib/python3.11/site-packages/sqlalchemy_bigquery/_types.py:101: SAWarning: Did not recognize type 'INTERVAL' of column 'start_pickup_drop_off_window_interval'\n",
      "  sqlalchemy.util.warn(\n",
      "/opt/conda/lib/python3.11/site-packages/sqlalchemy_bigquery/_types.py:101: SAWarning: Did not recognize type 'INTERVAL' of column 'end_pickup_drop_off_window_interval'\n",
      "  sqlalchemy.util.warn(\n"
     ]
    },
    {
     "name": "stdout",
     "output_type": "stream",
     "text": [
      "[Sunday] schedule_key: 52a7c3a4b9e428d31a882d54ebe86f15, stop times found: 10572\n"
     ]
    },
    {
     "name": "stderr",
     "output_type": "stream",
     "text": [
      "/opt/conda/lib/python3.11/site-packages/sqlalchemy_bigquery/_types.py:101: SAWarning: Did not recognize type 'GEOGRAPHY' of column 'pt_geom'\n",
      "  sqlalchemy.util.warn(\n"
     ]
    },
    {
     "name": "stdout",
     "output_type": "stream",
     "text": [
      "Saved results to gs://calitp-analytics-data/data-analyses/ahsc_grant/tool_data_2025/trips_perstop_52a7c3a4b9e428d31a882d54ebe86f15.parquet\n",
      "processing schedule_key 862271cb17893fafd50d31bfebe02d24\n",
      "No data for 862271cb17893fafd50d31bfebe02d24\n",
      "processing schedule_key 3123a83a6f57e7e3191782940b21bbc6\n",
      "[Weekday] schedule_key: 3123a83a6f57e7e3191782940b21bbc6, feed_keys found: ['f8ce4306a3b172c6df6c9e9e5b992939']\n",
      "could not get metrolink feed on 2022-11-30!\n",
      "[Weekday] schedule_key: 3123a83a6f57e7e3191782940b21bbc6, trips found: 163\n"
     ]
    },
    {
     "name": "stderr",
     "output_type": "stream",
     "text": [
      "/opt/conda/lib/python3.11/site-packages/sqlalchemy_bigquery/_types.py:101: SAWarning: Did not recognize type 'INTERVAL' of column 'arrival_time_interval'\n",
      "  sqlalchemy.util.warn(\n",
      "/opt/conda/lib/python3.11/site-packages/sqlalchemy_bigquery/_types.py:101: SAWarning: Did not recognize type 'INTERVAL' of column 'departure_time_interval'\n",
      "  sqlalchemy.util.warn(\n",
      "/opt/conda/lib/python3.11/site-packages/sqlalchemy_bigquery/_types.py:101: SAWarning: Did not recognize type 'INTERVAL' of column 'start_pickup_drop_off_window_interval'\n",
      "  sqlalchemy.util.warn(\n",
      "/opt/conda/lib/python3.11/site-packages/sqlalchemy_bigquery/_types.py:101: SAWarning: Did not recognize type 'INTERVAL' of column 'end_pickup_drop_off_window_interval'\n",
      "  sqlalchemy.util.warn(\n"
     ]
    },
    {
     "name": "stdout",
     "output_type": "stream",
     "text": [
      "[Weekday] schedule_key: 3123a83a6f57e7e3191782940b21bbc6, stop times found: 5789\n"
     ]
    },
    {
     "name": "stderr",
     "output_type": "stream",
     "text": [
      "/opt/conda/lib/python3.11/site-packages/sqlalchemy_bigquery/_types.py:101: SAWarning: Did not recognize type 'GEOGRAPHY' of column 'pt_geom'\n",
      "  sqlalchemy.util.warn(\n"
     ]
    },
    {
     "name": "stdout",
     "output_type": "stream",
     "text": [
      "[Saturday] schedule_key: 3123a83a6f57e7e3191782940b21bbc6, feed_keys found: ['f8ce4306a3b172c6df6c9e9e5b992939']\n",
      "could not get metrolink feed on 2022-12-03!\n",
      "[Saturday] schedule_key: 3123a83a6f57e7e3191782940b21bbc6, trips found: 115\n"
     ]
    },
    {
     "name": "stderr",
     "output_type": "stream",
     "text": [
      "/opt/conda/lib/python3.11/site-packages/sqlalchemy_bigquery/_types.py:101: SAWarning: Did not recognize type 'INTERVAL' of column 'arrival_time_interval'\n",
      "  sqlalchemy.util.warn(\n",
      "/opt/conda/lib/python3.11/site-packages/sqlalchemy_bigquery/_types.py:101: SAWarning: Did not recognize type 'INTERVAL' of column 'departure_time_interval'\n",
      "  sqlalchemy.util.warn(\n",
      "/opt/conda/lib/python3.11/site-packages/sqlalchemy_bigquery/_types.py:101: SAWarning: Did not recognize type 'INTERVAL' of column 'start_pickup_drop_off_window_interval'\n",
      "  sqlalchemy.util.warn(\n",
      "/opt/conda/lib/python3.11/site-packages/sqlalchemy_bigquery/_types.py:101: SAWarning: Did not recognize type 'INTERVAL' of column 'end_pickup_drop_off_window_interval'\n",
      "  sqlalchemy.util.warn(\n"
     ]
    },
    {
     "name": "stdout",
     "output_type": "stream",
     "text": [
      "[Saturday] schedule_key: 3123a83a6f57e7e3191782940b21bbc6, stop times found: 4486\n"
     ]
    },
    {
     "name": "stderr",
     "output_type": "stream",
     "text": [
      "/opt/conda/lib/python3.11/site-packages/sqlalchemy_bigquery/_types.py:101: SAWarning: Did not recognize type 'GEOGRAPHY' of column 'pt_geom'\n",
      "  sqlalchemy.util.warn(\n"
     ]
    },
    {
     "name": "stdout",
     "output_type": "stream",
     "text": [
      "[Sunday] schedule_key: 3123a83a6f57e7e3191782940b21bbc6, feed_keys found: ['f8ce4306a3b172c6df6c9e9e5b992939']\n",
      "could not get metrolink feed on 2022-12-04!\n",
      "[Sunday] schedule_key: 3123a83a6f57e7e3191782940b21bbc6, trips found: 110\n"
     ]
    },
    {
     "name": "stderr",
     "output_type": "stream",
     "text": [
      "/opt/conda/lib/python3.11/site-packages/sqlalchemy_bigquery/_types.py:101: SAWarning: Did not recognize type 'INTERVAL' of column 'arrival_time_interval'\n",
      "  sqlalchemy.util.warn(\n",
      "/opt/conda/lib/python3.11/site-packages/sqlalchemy_bigquery/_types.py:101: SAWarning: Did not recognize type 'INTERVAL' of column 'departure_time_interval'\n",
      "  sqlalchemy.util.warn(\n",
      "/opt/conda/lib/python3.11/site-packages/sqlalchemy_bigquery/_types.py:101: SAWarning: Did not recognize type 'INTERVAL' of column 'start_pickup_drop_off_window_interval'\n",
      "  sqlalchemy.util.warn(\n",
      "/opt/conda/lib/python3.11/site-packages/sqlalchemy_bigquery/_types.py:101: SAWarning: Did not recognize type 'INTERVAL' of column 'end_pickup_drop_off_window_interval'\n",
      "  sqlalchemy.util.warn(\n"
     ]
    },
    {
     "name": "stdout",
     "output_type": "stream",
     "text": [
      "[Sunday] schedule_key: 3123a83a6f57e7e3191782940b21bbc6, stop times found: 4274\n"
     ]
    },
    {
     "name": "stderr",
     "output_type": "stream",
     "text": [
      "/opt/conda/lib/python3.11/site-packages/sqlalchemy_bigquery/_types.py:101: SAWarning: Did not recognize type 'GEOGRAPHY' of column 'pt_geom'\n",
      "  sqlalchemy.util.warn(\n"
     ]
    },
    {
     "name": "stdout",
     "output_type": "stream",
     "text": [
      "Saved results to gs://calitp-analytics-data/data-analyses/ahsc_grant/tool_data_2025/trips_perstop_3123a83a6f57e7e3191782940b21bbc6.parquet\n",
      "processing schedule_key ced8cd19e9157f157402064a3065afda\n",
      "[Weekday] schedule_key: ced8cd19e9157f157402064a3065afda, feed_keys found: ['9e29fc6cfefd5194cdd4bf8772e5a050']\n",
      "could not get metrolink feed on 2022-11-30!\n",
      "[Weekday] schedule_key: ced8cd19e9157f157402064a3065afda, trips found: 9\n"
     ]
    },
    {
     "name": "stderr",
     "output_type": "stream",
     "text": [
      "/opt/conda/lib/python3.11/site-packages/sqlalchemy_bigquery/_types.py:101: SAWarning: Did not recognize type 'INTERVAL' of column 'arrival_time_interval'\n",
      "  sqlalchemy.util.warn(\n",
      "/opt/conda/lib/python3.11/site-packages/sqlalchemy_bigquery/_types.py:101: SAWarning: Did not recognize type 'INTERVAL' of column 'departure_time_interval'\n",
      "  sqlalchemy.util.warn(\n",
      "/opt/conda/lib/python3.11/site-packages/sqlalchemy_bigquery/_types.py:101: SAWarning: Did not recognize type 'INTERVAL' of column 'start_pickup_drop_off_window_interval'\n",
      "  sqlalchemy.util.warn(\n",
      "/opt/conda/lib/python3.11/site-packages/sqlalchemy_bigquery/_types.py:101: SAWarning: Did not recognize type 'INTERVAL' of column 'end_pickup_drop_off_window_interval'\n",
      "  sqlalchemy.util.warn(\n",
      "/opt/conda/lib/python3.11/site-packages/pandas/core/tools/datetimes.py:557: RuntimeWarning: invalid value encountered in cast\n",
      "  arr, tz_parsed = tslib.array_with_unit_to_datetime(arg, unit, errors=errors)\n",
      "/opt/conda/lib/python3.11/site-packages/pandas/core/tools/datetimes.py:557: RuntimeWarning: invalid value encountered in cast\n",
      "  arr, tz_parsed = tslib.array_with_unit_to_datetime(arg, unit, errors=errors)\n",
      "/opt/conda/lib/python3.11/site-packages/sqlalchemy_bigquery/_types.py:101: SAWarning: Did not recognize type 'GEOGRAPHY' of column 'pt_geom'\n",
      "  sqlalchemy.util.warn(\n"
     ]
    },
    {
     "name": "stdout",
     "output_type": "stream",
     "text": [
      "[Weekday] schedule_key: ced8cd19e9157f157402064a3065afda, stop times found: 172\n",
      "[Saturday] schedule_key: ced8cd19e9157f157402064a3065afda, feed_keys found: ['9e29fc6cfefd5194cdd4bf8772e5a050']\n",
      "could not get metrolink feed on 2022-12-03!\n",
      "[Saturday] schedule_key: ced8cd19e9157f157402064a3065afda, trips found: 9\n"
     ]
    },
    {
     "name": "stderr",
     "output_type": "stream",
     "text": [
      "/opt/conda/lib/python3.11/site-packages/sqlalchemy_bigquery/_types.py:101: SAWarning: Did not recognize type 'INTERVAL' of column 'arrival_time_interval'\n",
      "  sqlalchemy.util.warn(\n",
      "/opt/conda/lib/python3.11/site-packages/sqlalchemy_bigquery/_types.py:101: SAWarning: Did not recognize type 'INTERVAL' of column 'departure_time_interval'\n",
      "  sqlalchemy.util.warn(\n",
      "/opt/conda/lib/python3.11/site-packages/sqlalchemy_bigquery/_types.py:101: SAWarning: Did not recognize type 'INTERVAL' of column 'start_pickup_drop_off_window_interval'\n",
      "  sqlalchemy.util.warn(\n",
      "/opt/conda/lib/python3.11/site-packages/sqlalchemy_bigquery/_types.py:101: SAWarning: Did not recognize type 'INTERVAL' of column 'end_pickup_drop_off_window_interval'\n",
      "  sqlalchemy.util.warn(\n",
      "/opt/conda/lib/python3.11/site-packages/pandas/core/tools/datetimes.py:557: RuntimeWarning: invalid value encountered in cast\n",
      "  arr, tz_parsed = tslib.array_with_unit_to_datetime(arg, unit, errors=errors)\n",
      "/opt/conda/lib/python3.11/site-packages/pandas/core/tools/datetimes.py:557: RuntimeWarning: invalid value encountered in cast\n",
      "  arr, tz_parsed = tslib.array_with_unit_to_datetime(arg, unit, errors=errors)\n",
      "/opt/conda/lib/python3.11/site-packages/sqlalchemy_bigquery/_types.py:101: SAWarning: Did not recognize type 'GEOGRAPHY' of column 'pt_geom'\n",
      "  sqlalchemy.util.warn(\n"
     ]
    },
    {
     "name": "stdout",
     "output_type": "stream",
     "text": [
      "[Saturday] schedule_key: ced8cd19e9157f157402064a3065afda, stop times found: 172\n",
      "[Sunday] schedule_key: ced8cd19e9157f157402064a3065afda, feed_keys found: ['9e29fc6cfefd5194cdd4bf8772e5a050']\n",
      "could not get metrolink feed on 2022-12-04!\n",
      "[Sunday] schedule_key: ced8cd19e9157f157402064a3065afda, trips found: 9\n"
     ]
    },
    {
     "name": "stderr",
     "output_type": "stream",
     "text": [
      "/opt/conda/lib/python3.11/site-packages/sqlalchemy_bigquery/_types.py:101: SAWarning: Did not recognize type 'INTERVAL' of column 'arrival_time_interval'\n",
      "  sqlalchemy.util.warn(\n",
      "/opt/conda/lib/python3.11/site-packages/sqlalchemy_bigquery/_types.py:101: SAWarning: Did not recognize type 'INTERVAL' of column 'departure_time_interval'\n",
      "  sqlalchemy.util.warn(\n",
      "/opt/conda/lib/python3.11/site-packages/sqlalchemy_bigquery/_types.py:101: SAWarning: Did not recognize type 'INTERVAL' of column 'start_pickup_drop_off_window_interval'\n",
      "  sqlalchemy.util.warn(\n",
      "/opt/conda/lib/python3.11/site-packages/sqlalchemy_bigquery/_types.py:101: SAWarning: Did not recognize type 'INTERVAL' of column 'end_pickup_drop_off_window_interval'\n",
      "  sqlalchemy.util.warn(\n",
      "/opt/conda/lib/python3.11/site-packages/pandas/core/tools/datetimes.py:557: RuntimeWarning: invalid value encountered in cast\n",
      "  arr, tz_parsed = tslib.array_with_unit_to_datetime(arg, unit, errors=errors)\n",
      "/opt/conda/lib/python3.11/site-packages/pandas/core/tools/datetimes.py:557: RuntimeWarning: invalid value encountered in cast\n",
      "  arr, tz_parsed = tslib.array_with_unit_to_datetime(arg, unit, errors=errors)\n",
      "/opt/conda/lib/python3.11/site-packages/sqlalchemy_bigquery/_types.py:101: SAWarning: Did not recognize type 'GEOGRAPHY' of column 'pt_geom'\n",
      "  sqlalchemy.util.warn(\n"
     ]
    },
    {
     "name": "stdout",
     "output_type": "stream",
     "text": [
      "[Sunday] schedule_key: ced8cd19e9157f157402064a3065afda, stop times found: 172\n",
      "Saved results to gs://calitp-analytics-data/data-analyses/ahsc_grant/tool_data_2025/trips_perstop_ced8cd19e9157f157402064a3065afda.parquet\n",
      "processing schedule_key 0a922917cdf860a3c8cec8ad845d460a\n",
      "[Weekday] schedule_key: 0a922917cdf860a3c8cec8ad845d460a, feed_keys found: ['8417613331f75be671e07037e7cc2a5d']\n",
      "could not get metrolink feed on 2022-11-30!\n",
      "[Weekday] schedule_key: 0a922917cdf860a3c8cec8ad845d460a, trips found: 225\n"
     ]
    },
    {
     "name": "stderr",
     "output_type": "stream",
     "text": [
      "/opt/conda/lib/python3.11/site-packages/sqlalchemy_bigquery/_types.py:101: SAWarning: Did not recognize type 'INTERVAL' of column 'arrival_time_interval'\n",
      "  sqlalchemy.util.warn(\n",
      "/opt/conda/lib/python3.11/site-packages/sqlalchemy_bigquery/_types.py:101: SAWarning: Did not recognize type 'INTERVAL' of column 'departure_time_interval'\n",
      "  sqlalchemy.util.warn(\n",
      "/opt/conda/lib/python3.11/site-packages/sqlalchemy_bigquery/_types.py:101: SAWarning: Did not recognize type 'INTERVAL' of column 'start_pickup_drop_off_window_interval'\n",
      "  sqlalchemy.util.warn(\n",
      "/opt/conda/lib/python3.11/site-packages/sqlalchemy_bigquery/_types.py:101: SAWarning: Did not recognize type 'INTERVAL' of column 'end_pickup_drop_off_window_interval'\n",
      "  sqlalchemy.util.warn(\n",
      "/opt/conda/lib/python3.11/site-packages/pandas/core/tools/datetimes.py:557: RuntimeWarning: invalid value encountered in cast\n",
      "  arr, tz_parsed = tslib.array_with_unit_to_datetime(arg, unit, errors=errors)\n",
      "/opt/conda/lib/python3.11/site-packages/pandas/core/tools/datetimes.py:557: RuntimeWarning: invalid value encountered in cast\n",
      "  arr, tz_parsed = tslib.array_with_unit_to_datetime(arg, unit, errors=errors)\n",
      "/opt/conda/lib/python3.11/site-packages/sqlalchemy_bigquery/_types.py:101: SAWarning: Did not recognize type 'GEOGRAPHY' of column 'pt_geom'\n",
      "  sqlalchemy.util.warn(\n"
     ]
    },
    {
     "name": "stdout",
     "output_type": "stream",
     "text": [
      "[Weekday] schedule_key: 0a922917cdf860a3c8cec8ad845d460a, stop times found: 6020\n",
      "[Saturday] schedule_key: 0a922917cdf860a3c8cec8ad845d460a, feed_keys found: ['8417613331f75be671e07037e7cc2a5d']\n",
      "could not get metrolink feed on 2022-12-03!\n",
      "[Saturday] schedule_key: 0a922917cdf860a3c8cec8ad845d460a, trips found: 145\n"
     ]
    },
    {
     "name": "stderr",
     "output_type": "stream",
     "text": [
      "/opt/conda/lib/python3.11/site-packages/sqlalchemy_bigquery/_types.py:101: SAWarning: Did not recognize type 'INTERVAL' of column 'arrival_time_interval'\n",
      "  sqlalchemy.util.warn(\n",
      "/opt/conda/lib/python3.11/site-packages/sqlalchemy_bigquery/_types.py:101: SAWarning: Did not recognize type 'INTERVAL' of column 'departure_time_interval'\n",
      "  sqlalchemy.util.warn(\n",
      "/opt/conda/lib/python3.11/site-packages/sqlalchemy_bigquery/_types.py:101: SAWarning: Did not recognize type 'INTERVAL' of column 'start_pickup_drop_off_window_interval'\n",
      "  sqlalchemy.util.warn(\n",
      "/opt/conda/lib/python3.11/site-packages/sqlalchemy_bigquery/_types.py:101: SAWarning: Did not recognize type 'INTERVAL' of column 'end_pickup_drop_off_window_interval'\n",
      "  sqlalchemy.util.warn(\n",
      "/opt/conda/lib/python3.11/site-packages/pandas/core/tools/datetimes.py:557: RuntimeWarning: invalid value encountered in cast\n",
      "  arr, tz_parsed = tslib.array_with_unit_to_datetime(arg, unit, errors=errors)\n",
      "/opt/conda/lib/python3.11/site-packages/pandas/core/tools/datetimes.py:557: RuntimeWarning: invalid value encountered in cast\n",
      "  arr, tz_parsed = tslib.array_with_unit_to_datetime(arg, unit, errors=errors)\n",
      "/opt/conda/lib/python3.11/site-packages/sqlalchemy_bigquery/_types.py:101: SAWarning: Did not recognize type 'GEOGRAPHY' of column 'pt_geom'\n",
      "  sqlalchemy.util.warn(\n"
     ]
    },
    {
     "name": "stdout",
     "output_type": "stream",
     "text": [
      "[Saturday] schedule_key: 0a922917cdf860a3c8cec8ad845d460a, stop times found: 4312\n",
      "[Sunday] schedule_key: 0a922917cdf860a3c8cec8ad845d460a, feed_keys found: ['8417613331f75be671e07037e7cc2a5d']\n",
      "could not get metrolink feed on 2022-12-04!\n",
      "[Sunday] schedule_key: 0a922917cdf860a3c8cec8ad845d460a, trips found: 0\n",
      "Saved results to gs://calitp-analytics-data/data-analyses/ahsc_grant/tool_data_2025/trips_perstop_0a922917cdf860a3c8cec8ad845d460a.parquet\n",
      "processing schedule_key e33f30cf19564013bf2f80bfd2834574\n",
      "[Weekday] schedule_key: e33f30cf19564013bf2f80bfd2834574, feed_keys found: ['03f30ee5933125591a265f63fc8f7d66']\n",
      "could not get metrolink feed on 2022-11-30!\n",
      "[Weekday] schedule_key: e33f30cf19564013bf2f80bfd2834574, trips found: 136\n"
     ]
    },
    {
     "name": "stderr",
     "output_type": "stream",
     "text": [
      "/opt/conda/lib/python3.11/site-packages/sqlalchemy_bigquery/_types.py:101: SAWarning: Did not recognize type 'INTERVAL' of column 'arrival_time_interval'\n",
      "  sqlalchemy.util.warn(\n",
      "/opt/conda/lib/python3.11/site-packages/sqlalchemy_bigquery/_types.py:101: SAWarning: Did not recognize type 'INTERVAL' of column 'departure_time_interval'\n",
      "  sqlalchemy.util.warn(\n",
      "/opt/conda/lib/python3.11/site-packages/sqlalchemy_bigquery/_types.py:101: SAWarning: Did not recognize type 'INTERVAL' of column 'start_pickup_drop_off_window_interval'\n",
      "  sqlalchemy.util.warn(\n",
      "/opt/conda/lib/python3.11/site-packages/sqlalchemy_bigquery/_types.py:101: SAWarning: Did not recognize type 'INTERVAL' of column 'end_pickup_drop_off_window_interval'\n",
      "  sqlalchemy.util.warn(\n",
      "/opt/conda/lib/python3.11/site-packages/pandas/core/tools/datetimes.py:557: RuntimeWarning: invalid value encountered in cast\n",
      "  arr, tz_parsed = tslib.array_with_unit_to_datetime(arg, unit, errors=errors)\n",
      "/opt/conda/lib/python3.11/site-packages/pandas/core/tools/datetimes.py:557: RuntimeWarning: invalid value encountered in cast\n",
      "  arr, tz_parsed = tslib.array_with_unit_to_datetime(arg, unit, errors=errors)\n"
     ]
    },
    {
     "name": "stdout",
     "output_type": "stream",
     "text": [
      "[Weekday] schedule_key: e33f30cf19564013bf2f80bfd2834574, stop times found: 5526\n"
     ]
    },
    {
     "name": "stderr",
     "output_type": "stream",
     "text": [
      "/opt/conda/lib/python3.11/site-packages/sqlalchemy_bigquery/_types.py:101: SAWarning: Did not recognize type 'GEOGRAPHY' of column 'pt_geom'\n",
      "  sqlalchemy.util.warn(\n"
     ]
    },
    {
     "name": "stdout",
     "output_type": "stream",
     "text": [
      "[Saturday] schedule_key: e33f30cf19564013bf2f80bfd2834574, feed_keys found: ['03f30ee5933125591a265f63fc8f7d66']\n",
      "could not get metrolink feed on 2022-12-03!\n",
      "[Saturday] schedule_key: e33f30cf19564013bf2f80bfd2834574, trips found: 56\n"
     ]
    },
    {
     "name": "stderr",
     "output_type": "stream",
     "text": [
      "/opt/conda/lib/python3.11/site-packages/sqlalchemy_bigquery/_types.py:101: SAWarning: Did not recognize type 'INTERVAL' of column 'arrival_time_interval'\n",
      "  sqlalchemy.util.warn(\n",
      "/opt/conda/lib/python3.11/site-packages/sqlalchemy_bigquery/_types.py:101: SAWarning: Did not recognize type 'INTERVAL' of column 'departure_time_interval'\n",
      "  sqlalchemy.util.warn(\n",
      "/opt/conda/lib/python3.11/site-packages/sqlalchemy_bigquery/_types.py:101: SAWarning: Did not recognize type 'INTERVAL' of column 'start_pickup_drop_off_window_interval'\n",
      "  sqlalchemy.util.warn(\n",
      "/opt/conda/lib/python3.11/site-packages/sqlalchemy_bigquery/_types.py:101: SAWarning: Did not recognize type 'INTERVAL' of column 'end_pickup_drop_off_window_interval'\n",
      "  sqlalchemy.util.warn(\n",
      "/opt/conda/lib/python3.11/site-packages/pandas/core/tools/datetimes.py:557: RuntimeWarning: invalid value encountered in cast\n",
      "  arr, tz_parsed = tslib.array_with_unit_to_datetime(arg, unit, errors=errors)\n",
      "/opt/conda/lib/python3.11/site-packages/pandas/core/tools/datetimes.py:557: RuntimeWarning: invalid value encountered in cast\n",
      "  arr, tz_parsed = tslib.array_with_unit_to_datetime(arg, unit, errors=errors)\n",
      "/opt/conda/lib/python3.11/site-packages/sqlalchemy_bigquery/_types.py:101: SAWarning: Did not recognize type 'GEOGRAPHY' of column 'pt_geom'\n",
      "  sqlalchemy.util.warn(\n"
     ]
    },
    {
     "name": "stdout",
     "output_type": "stream",
     "text": [
      "[Saturday] schedule_key: e33f30cf19564013bf2f80bfd2834574, stop times found: 2132\n",
      "[Sunday] schedule_key: e33f30cf19564013bf2f80bfd2834574, feed_keys found: ['03f30ee5933125591a265f63fc8f7d66']\n",
      "could not get metrolink feed on 2022-12-04!\n",
      "[Sunday] schedule_key: e33f30cf19564013bf2f80bfd2834574, trips found: 0\n",
      "Saved results to gs://calitp-analytics-data/data-analyses/ahsc_grant/tool_data_2025/trips_perstop_e33f30cf19564013bf2f80bfd2834574.parquet\n",
      "processing schedule_key e47aa2f88b679192f9381b076b561bcf\n",
      "No data for e47aa2f88b679192f9381b076b561bcf\n",
      "processing schedule_key c872474db7f5825b5f360ddad4361331\n",
      "No data for c872474db7f5825b5f360ddad4361331\n",
      "processing schedule_key 47cd9b06cc79bf651578b12b4ce7bb20\n",
      "No data for 47cd9b06cc79bf651578b12b4ce7bb20\n",
      "processing schedule_key b0760015c9fcd0500c4fddd5b9bb115b\n",
      "No data for b0760015c9fcd0500c4fddd5b9bb115b\n",
      "processing schedule_key ebd7c3783136764d4f1b8da3e613f77b\n",
      "No data for ebd7c3783136764d4f1b8da3e613f77b\n",
      "processing schedule_key b6dd4c18de23dfb637d954ae8d453997\n",
      "No data for b6dd4c18de23dfb637d954ae8d453997\n",
      "processing schedule_key 98b04e41c71a0d5cd2d684f60877a4ac\n",
      "No data for 98b04e41c71a0d5cd2d684f60877a4ac\n",
      "processing schedule_key 22b1fd6db336c11d8df960e58cf79d73\n",
      "No data for 22b1fd6db336c11d8df960e58cf79d73\n",
      "processing schedule_key 907a502754757f897cef1409d297a397\n",
      "No data for 907a502754757f897cef1409d297a397\n",
      "processing schedule_key 396897ccbec99c3561fb9855f005c3fc\n",
      "No data for 396897ccbec99c3561fb9855f005c3fc\n",
      "processing schedule_key f948cebbdadd3824ca220cf696364392\n",
      "No data for f948cebbdadd3824ca220cf696364392\n",
      "processing schedule_key 9a91abc32fc7b5b886169ac0e7741918\n",
      "No data for 9a91abc32fc7b5b886169ac0e7741918\n",
      "processing schedule_key db6ba41f8a1c8f2137da264b7439bb2b\n",
      "No data for db6ba41f8a1c8f2137da264b7439bb2b\n",
      "processing schedule_key c044df3f899a0764cc661185a6d68902\n",
      "No data for c044df3f899a0764cc661185a6d68902\n",
      "processing schedule_key ea65e81b31025ca3e74e8ffb27e1a223\n",
      "No data for ea65e81b31025ca3e74e8ffb27e1a223\n",
      "processing schedule_key 58a51821ee3bce945913096c01a2b0eb\n",
      "No data for 58a51821ee3bce945913096c01a2b0eb\n",
      "processing schedule_key 8d26b7ae545310f025d7f457c4b9da22\n",
      "No data for 8d26b7ae545310f025d7f457c4b9da22\n",
      "processing schedule_key 944c80403176e424e5f4062de3e1501b\n",
      "No data for 944c80403176e424e5f4062de3e1501b\n",
      "processing schedule_key 8ef0af704a3d9932653cb7a39e74ea28\n",
      "No data for 8ef0af704a3d9932653cb7a39e74ea28\n",
      "processing schedule_key 8a1e2370a8861c0dd5faf6c943be175d\n",
      "No data for 8a1e2370a8861c0dd5faf6c943be175d\n",
      "processing schedule_key fe4aab1717eca5a2935c32c85a35a5bf\n",
      "No data for fe4aab1717eca5a2935c32c85a35a5bf\n",
      "processing schedule_key 66eb8039846b1180f392e76a7709e8da\n",
      "No data for 66eb8039846b1180f392e76a7709e8da\n",
      "processing schedule_key 7b06b574f7621524cf545018113ad66e\n",
      "No data for 7b06b574f7621524cf545018113ad66e\n",
      "processing schedule_key d5aff26ed9a1973582402369981ccb9e\n",
      "No data for d5aff26ed9a1973582402369981ccb9e\n",
      "processing schedule_key 2606479845d2cf0077fac54ff25a3a69\n",
      "No data for 2606479845d2cf0077fac54ff25a3a69\n",
      "processing schedule_key 0d65d96d07115e28313f207d5ed0d3b2\n",
      "No data for 0d65d96d07115e28313f207d5ed0d3b2\n",
      "processing schedule_key 08dc1baf9acc90829fa488af1104d62f\n",
      "No data for 08dc1baf9acc90829fa488af1104d62f\n",
      "processing schedule_key cfed206ce29beeb15125fe3ad531fb67\n",
      "No data for cfed206ce29beeb15125fe3ad531fb67\n",
      "processing schedule_key b2bc12cd8d6c3c0c418b4706fd55db8b\n",
      "No data for b2bc12cd8d6c3c0c418b4706fd55db8b\n",
      "processing schedule_key 7d8d17606bad7ced0aec57b1c3f33f82\n",
      "No data for 7d8d17606bad7ced0aec57b1c3f33f82\n",
      "processing schedule_key 18de7b771c6b6a769d46f92de9e9e2ce\n",
      "No data for 18de7b771c6b6a769d46f92de9e9e2ce\n",
      "processing schedule_key 3f5bfe41fbdb918a65315ae28d3d4847\n",
      "No data for 3f5bfe41fbdb918a65315ae28d3d4847\n"
     ]
    }
   ],
   "source": [
    "for schedule_key in schedule_gtfs_dataset_keys:\n",
    "    if schedule_key in ran_operators:\n",
    "        print(f\"already ran: {schedule_key}\")\n",
    "        continue\n",
    "\n",
    "    print(f\"processing schedule_key {schedule_key}\")\n",
    "\n",
    "    stops_weekday = daily_trips(\"Weekday\", analysis_wkd, schedule_key)\n",
    "    stops_saturday = daily_trips(\"Saturday\", analysis_sat, schedule_key)\n",
    "    stops_sunday = daily_trips(\"Sunday\", analysis_sun, schedule_key)\n",
    "\n",
    "    stoptimes_all = pd.concat(\n",
    "        [stops_weekday, stops_saturday, stops_sunday],\n",
    "        ignore_index=True\n",
    "    )\n",
    "\n",
    "    if not stoptimes_all.empty:\n",
    "        output_path = f\"{GCS_FILE_PATH}tool_data_2025/trips_perstop_{schedule_key}.parquet\"\n",
    "        stoptimes_all.to_parquet(output_path, compression=\"snappy\")\n",
    "        print(f\"Saved results to {output_path}\")\n",
    "    else:\n",
    "        print(f\"No data for {schedule_key}\")\n",
    "\n"
   ]
  },
  {
   "cell_type": "code",
   "execution_count": null,
   "id": "f1aabed4-d290-4881-86c1-329a50c59497",
   "metadata": {},
   "outputs": [],
   "source": []
  }
 ],
 "metadata": {
  "kernelspec": {
   "display_name": "Python 3 (ipykernel)",
   "language": "python",
   "name": "python3"
  },
  "language_info": {
   "codemirror_mode": {
    "name": "ipython",
    "version": 3
   },
   "file_extension": ".py",
   "mimetype": "text/x-python",
   "name": "python",
   "nbconvert_exporter": "python",
   "pygments_lexer": "ipython3",
   "version": "3.11.10"
  }
 },
 "nbformat": 4,
 "nbformat_minor": 5
}
