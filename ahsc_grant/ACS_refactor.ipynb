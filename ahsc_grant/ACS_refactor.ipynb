{
 "cells": [
  {
   "cell_type": "markdown",
   "id": "80edbe01-67fb-4d21-827d-2dc68eb41d04",
   "metadata": {
    "tags": []
   },
   "source": [
    "# ACS Exploratory Data Analysis\n",
    "\n",
    "This script queries 2023 American Community Survey (ACS) 5-Year Estimates at the census tract level for California. It retrieves selected demographic and socioeconomic variables using the `Census Bureau’s ACS API`, processes and derives custom income categories, merges the data with tract-level geographic boundaries from the `pygris` package, and prepares the merged dataset ridership analysis.\n",
    "\n",
    "- [ACS variables info](https://api.census.gov/data/2023/acs/acs5/variables.html)\n",
    "- Requires a valid `API key` from the U.S. Census Bureau. Request for API key [here](https://api.census.gov/data/key_signup.html). The API key must be stored in a local file named `ACS_apikey`. \n",
    "\n"
   ]
  },
  {
   "cell_type": "code",
   "execution_count": 1,
   "id": "0b1c1f25-8e96-45f0-a1ca-3264ab6e45d4",
   "metadata": {},
   "outputs": [
    {
     "name": "stdout",
     "output_type": "stream",
     "text": [
      "Requirement already satisfied: pygris in /opt/conda/lib/python3.11/site-packages (0.2.0)\n",
      "Requirement already satisfied: geopandas>=0.9 in /opt/conda/lib/python3.11/site-packages (from pygris) (0.14.4)\n",
      "Requirement already satisfied: requests in /opt/conda/lib/python3.11/site-packages (from pygris) (2.32.5)\n",
      "Requirement already satisfied: appdirs in /opt/conda/lib/python3.11/site-packages (from pygris) (1.4.4)\n",
      "Requirement already satisfied: fiona>=1.8.21 in /opt/conda/lib/python3.11/site-packages (from geopandas>=0.9->pygris) (1.10.1)\n",
      "Requirement already satisfied: numpy>=1.22 in /opt/conda/lib/python3.11/site-packages (from geopandas>=0.9->pygris) (1.26.4)\n",
      "Requirement already satisfied: packaging in /opt/conda/lib/python3.11/site-packages (from geopandas>=0.9->pygris) (25.0)\n",
      "Requirement already satisfied: pandas>=1.4.0 in /opt/conda/lib/python3.11/site-packages (from geopandas>=0.9->pygris) (2.3.3)\n",
      "Requirement already satisfied: pyproj>=3.3.0 in /opt/conda/lib/python3.11/site-packages (from geopandas>=0.9->pygris) (3.7.2)\n",
      "Requirement already satisfied: shapely>=1.8.0 in /opt/conda/lib/python3.11/site-packages (from geopandas>=0.9->pygris) (2.1.1)\n",
      "Requirement already satisfied: charset_normalizer<4,>=2 in /opt/conda/lib/python3.11/site-packages (from requests->pygris) (3.4.3)\n",
      "Requirement already satisfied: idna<4,>=2.5 in /opt/conda/lib/python3.11/site-packages (from requests->pygris) (3.10)\n",
      "Requirement already satisfied: urllib3<3,>=1.21.1 in /opt/conda/lib/python3.11/site-packages (from requests->pygris) (2.5.0)\n",
      "Requirement already satisfied: certifi>=2017.4.17 in /opt/conda/lib/python3.11/site-packages (from requests->pygris) (2025.8.3)\n",
      "Requirement already satisfied: attrs>=19.2.0 in /opt/conda/lib/python3.11/site-packages (from fiona>=1.8.21->geopandas>=0.9->pygris) (25.3.0)\n",
      "Requirement already satisfied: click~=8.0 in /opt/conda/lib/python3.11/site-packages (from fiona>=1.8.21->geopandas>=0.9->pygris) (8.2.1)\n",
      "Requirement already satisfied: click-plugins>=1.0 in /opt/conda/lib/python3.11/site-packages (from fiona>=1.8.21->geopandas>=0.9->pygris) (1.1.1.2)\n",
      "Requirement already satisfied: cligj>=0.5 in /opt/conda/lib/python3.11/site-packages (from fiona>=1.8.21->geopandas>=0.9->pygris) (0.7.2)\n",
      "Requirement already satisfied: python-dateutil>=2.8.2 in /opt/conda/lib/python3.11/site-packages (from pandas>=1.4.0->geopandas>=0.9->pygris) (2.9.0.post0)\n",
      "Requirement already satisfied: pytz>=2020.1 in /opt/conda/lib/python3.11/site-packages (from pandas>=1.4.0->geopandas>=0.9->pygris) (2025.2)\n",
      "Requirement already satisfied: tzdata>=2022.7 in /opt/conda/lib/python3.11/site-packages (from pandas>=1.4.0->geopandas>=0.9->pygris) (2024.2)\n",
      "Requirement already satisfied: six>=1.5 in /opt/conda/lib/python3.11/site-packages (from python-dateutil>=2.8.2->pandas>=1.4.0->geopandas>=0.9->pygris) (1.17.0)\n",
      "Note: you may need to restart the kernel to use updated packages.\n"
     ]
    }
   ],
   "source": [
    "pip install pygris"
   ]
  },
  {
   "cell_type": "code",
   "execution_count": 2,
   "id": "c320e5e4-e0a0-444a-a332-f3a3b401f595",
   "metadata": {
    "tags": []
   },
   "outputs": [],
   "source": [
    "import pandas as pd \n",
    "import geopandas as gpd\n",
    "import google.auth\n",
    "import os\n",
    "import gcsfs\n",
    "import requests\n",
    "from pygris import tracts \n",
    "credentials, project = google.auth.default()\n",
    "fs = gcsfs.GCSFileSystem()\n",
    "\n",
    "pd.set_option('display.max_columns', None)"
   ]
  },
  {
   "cell_type": "code",
   "execution_count": 3,
   "id": "ab4d8605-b6f1-4b65-89e9-8898967c6a3f",
   "metadata": {},
   "outputs": [],
   "source": [
    "GCS_FILE_PATH  = 'gs://calitp-analytics-data/data-analyses/ahsc_grant/'"
   ]
  },
  {
   "cell_type": "code",
   "execution_count": 4,
   "id": "6d163e24-a63b-49e4-a2ba-425f5f4e6a15",
   "metadata": {
    "tags": []
   },
   "outputs": [],
   "source": [
    "with open(\"ACS_apikey\", \"r\") as file:\n",
    "    api_key = file.read().strip()"
   ]
  },
  {
   "cell_type": "code",
   "execution_count": 5,
   "id": "12b0b1a1-1636-4bd5-9186-6c9bfc4c3d5b",
   "metadata": {},
   "outputs": [],
   "source": [
    "variables = [\"B01003_001E\", \"B09005_001E\", \"B16008_037E\", \"B01001B_001E\",  \"B01001I_001E\", \"B17001_002E\", \"B06012_001E\", \"B08014_002E\", \"B08201_002E\", \"B01001_003E\", \"B01001_004E\",\n",
    "            \"B01001_005E\", \"B01001_006E\", \"B01001_007E\", \"B01001_008E\", \"B01001_009E\", \"B01001_010E\", \"B01001_020E\", \"B01001_021E\", \"B01001_022E\", \n",
    "            \"B01001_023E\", \"B01001_024E\", \"B01001_025E\", \"B01001_027E\", \"B01001_028E\", \"B01001_029E\",  \"B01001_030E\", \"B01001_031E\", \"B01001_032E\",\n",
    "            \"B01001_033E\", \"B01001_034E\", \"B01001_044E\", \"B01001_045E\", \"B01001_046E\", \"B01001_047E\", \"B01001_048E\", \"B01001_049E\", \"B06010_004E\", \"B06010_005E\",\n",
    "            \"B06010_006E\", \"B06010_007E\", \"B06010_008E\", \"B06010_009E\", \"B06010_010E\" ]"
   ]
  },
  {
   "cell_type": "code",
   "execution_count": 6,
   "id": "57612dd0-8c52-4917-bb03-f7cc4949bded",
   "metadata": {
    "tags": []
   },
   "outputs": [],
   "source": [
    "variable_str = \"NAME,\" + \",\".join(variables)"
   ]
  },
  {
   "cell_type": "code",
   "execution_count": 7,
   "id": "55c6f152-e321-4dc2-84b1-201783cdc599",
   "metadata": {},
   "outputs": [],
   "source": [
    "url = f\"https://api.census.gov/data/2023/acs/acs5?get={variable_str}&for=tract:*&in=state:06&key={api_key}\""
   ]
  },
  {
   "cell_type": "code",
   "execution_count": 8,
   "id": "a857febe-6010-49ec-acf7-365ed2fc7e50",
   "metadata": {
    "tags": []
   },
   "outputs": [],
   "source": [
    "response = requests.get(url)"
   ]
  },
  {
   "cell_type": "code",
   "execution_count": 9,
   "id": "d15e7880-ec63-4efa-8730-27c0e46f9331",
   "metadata": {
    "tags": []
   },
   "outputs": [],
   "source": [
    "if response.status_code == 200:\n",
    "    data = response.json()\n",
    "    census_data = pd.DataFrame(data[1:], columns=data[0])\n",
    "    \n",
    "    # Create GEOID column\n",
    "    census_data[\"GEOID\"] = census_data[\"state\"] + census_data[\"county\"] + census_data[\"tract\"]"
   ]
  },
  {
   "cell_type": "code",
   "execution_count": 10,
   "id": "03b2ed77-58a0-4de9-9625-09f452ea98c7",
   "metadata": {
    "tags": []
   },
   "outputs": [],
   "source": [
    "#Renaming variables \n",
    "census_data = census_data.rename(columns={\n",
    "    'B01003_001E': 'total_pop', 'B09005_001E': 'households', 'B16008_037E': 'not_us_citizen_pop', 'B01001B_001E': 'black_pop', 'B01001I_001E': 'hispanic_pop', 'B17001_002E': 'poverty',\n",
    "    'B06012_001E': 'pop_determined_poverty_status','B08014_002E': 'workers_with_no_car', 'B08201_002E': 'households_with_no_cars', 'B01001_003E': 'male_under_5', \n",
    "    'B01001_004E': 'male_5_to_9', 'B01001_005E': 'male_10_to_14', 'B01001_006E': 'male_15_to_17', 'B01001_007E': 'male_18_to_19', 'B01001_008E': 'male_20', 'B01001_009E': 'male_21', \n",
    "    'B01001_010E': 'male_22_to_24', 'B01001_020E': 'male_65_to_66', 'B01001_021E': 'male_67_to_69', 'B01001_022E': 'male_70_to_74', 'B01001_023E': 'male_75_to_79', \n",
    "    'B01001_024E': 'male_80_to_84', 'B01001_025E': 'male_85_and_over', 'B01001_027E': 'female_under_5', 'B01001_028E': 'female_5_to_9', 'B01001_029E': 'female_10_to_14', \n",
    "    'B01001_030E': 'female_15_to_17', 'B01001_031E': 'female_18_to_19', 'B01001_032E': 'female_20', 'B01001_033E': 'female_21', 'B01001_034E': 'female_22_to_24', \n",
    "    'B01001_044E': 'female_65_to_66', 'B01001_045E': 'female_67_to_69', 'B01001_046E': 'female_70_to_74', 'B01001_047E': 'female_75_to_79', 'B01001_048E': 'female_80_to_84', \n",
    "    'B01001_049E': 'female_85_and_over', 'B06010_004E': 'income_less_10000', 'B06010_005E': 'income_10000_14999', 'B06010_006E': 'income_15000_24999', 'B06010_007E': 'income_25000_34999', \n",
    "    'B06010_008E': 'income_35000_49999', 'B06010_009E': 'income_50000_64999', 'B06010_010E': 'income_65000_74999'\n",
    "\n",
    "})"
   ]
  },
  {
   "cell_type": "code",
   "execution_count": 11,
   "id": "0a283c34-fc89-4737-8f2a-a707a8b0c63b",
   "metadata": {},
   "outputs": [],
   "source": [
    "keep_cols = [\n",
    "    'total_pop', 'households', 'not_us_citizen_pop', 'black_pop', 'hispanic_pop', 'poverty',\n",
    "    'pop_determined_poverty_status', 'workers_with_no_car', 'households_with_no_cars', 'male_under_5',\n",
    "    'male_5_to_9', 'male_10_to_14', 'male_15_to_17', 'male_18_to_19', 'male_20', 'male_21',\n",
    "    'male_22_to_24', 'male_65_to_66', 'male_67_to_69', 'male_70_to_74', 'male_75_to_79',\n",
    "    'male_80_to_84', 'male_85_and_over', 'female_under_5', 'female_5_to_9', 'female_10_to_14',\n",
    "    'female_15_to_17', 'female_18_to_19', 'female_20', 'female_21', 'female_22_to_24',\n",
    "    'female_65_to_66', 'female_67_to_69', 'female_70_to_74', 'female_75_to_79', 'female_80_to_84',\n",
    "    'female_85_and_over', 'income_less_10000', 'income_10000_14999', 'income_15000_24999',\n",
    "    'income_25000_34999', 'income_35000_49999', 'income_50000_64999', 'income_65000_74999', 'GEOID'\n",
    "]\n",
    "\n",
    "census_data = census_data[keep_cols]"
   ]
  },
  {
   "cell_type": "code",
   "execution_count": 12,
   "id": "fd076c3a-3188-4f96-a964-158df58f028a",
   "metadata": {
    "tags": []
   },
   "outputs": [],
   "source": [
    "census_data = census_data[keep_cols]\n",
    "cols_to_numeric = [col for col in keep_cols if col != 'GEOID']\n",
    "census_data[cols_to_numeric] = census_data[cols_to_numeric].apply(pd.to_numeric, errors='coerce')"
   ]
  },
  {
   "cell_type": "code",
   "execution_count": 13,
   "id": "1f1a784c-db30-4145-beea-500a21a826d8",
   "metadata": {
    "tags": []
   },
   "outputs": [
    {
     "data": {
      "text/html": [
       "<div>\n",
       "<style scoped>\n",
       "    .dataframe tbody tr th:only-of-type {\n",
       "        vertical-align: middle;\n",
       "    }\n",
       "\n",
       "    .dataframe tbody tr th {\n",
       "        vertical-align: top;\n",
       "    }\n",
       "\n",
       "    .dataframe thead th {\n",
       "        text-align: right;\n",
       "    }\n",
       "</style>\n",
       "<table border=\"1\" class=\"dataframe\">\n",
       "  <thead>\n",
       "    <tr style=\"text-align: right;\">\n",
       "      <th></th>\n",
       "      <th>total_pop</th>\n",
       "      <th>households</th>\n",
       "      <th>not_us_citizen_pop</th>\n",
       "      <th>black_pop</th>\n",
       "      <th>hispanic_pop</th>\n",
       "      <th>poverty</th>\n",
       "      <th>pop_determined_poverty_status</th>\n",
       "      <th>workers_with_no_car</th>\n",
       "      <th>households_with_no_cars</th>\n",
       "      <th>male_under_5</th>\n",
       "      <th>male_5_to_9</th>\n",
       "      <th>male_10_to_14</th>\n",
       "      <th>male_15_to_17</th>\n",
       "      <th>male_18_to_19</th>\n",
       "      <th>male_20</th>\n",
       "      <th>male_21</th>\n",
       "      <th>male_22_to_24</th>\n",
       "      <th>male_65_to_66</th>\n",
       "      <th>male_67_to_69</th>\n",
       "      <th>male_70_to_74</th>\n",
       "      <th>male_75_to_79</th>\n",
       "      <th>male_80_to_84</th>\n",
       "      <th>male_85_and_over</th>\n",
       "      <th>female_under_5</th>\n",
       "      <th>female_5_to_9</th>\n",
       "      <th>female_10_to_14</th>\n",
       "      <th>female_15_to_17</th>\n",
       "      <th>female_18_to_19</th>\n",
       "      <th>female_20</th>\n",
       "      <th>female_21</th>\n",
       "      <th>female_22_to_24</th>\n",
       "      <th>female_65_to_66</th>\n",
       "      <th>female_67_to_69</th>\n",
       "      <th>female_70_to_74</th>\n",
       "      <th>female_75_to_79</th>\n",
       "      <th>female_80_to_84</th>\n",
       "      <th>female_85_and_over</th>\n",
       "      <th>income_less_10000</th>\n",
       "      <th>income_10000_14999</th>\n",
       "      <th>income_15000_24999</th>\n",
       "      <th>income_25000_34999</th>\n",
       "      <th>income_35000_49999</th>\n",
       "      <th>income_50000_64999</th>\n",
       "      <th>income_65000_74999</th>\n",
       "      <th>GEOID</th>\n",
       "    </tr>\n",
       "  </thead>\n",
       "  <tbody>\n",
       "    <tr>\n",
       "      <th>0</th>\n",
       "      <td>3094</td>\n",
       "      <td>582</td>\n",
       "      <td>264</td>\n",
       "      <td>137</td>\n",
       "      <td>200</td>\n",
       "      <td>134</td>\n",
       "      <td>3075</td>\n",
       "      <td>28</td>\n",
       "      <td>85</td>\n",
       "      <td>69</td>\n",
       "      <td>106</td>\n",
       "      <td>160</td>\n",
       "      <td>19</td>\n",
       "      <td>0</td>\n",
       "      <td>0</td>\n",
       "      <td>0</td>\n",
       "      <td>26</td>\n",
       "      <td>47</td>\n",
       "      <td>84</td>\n",
       "      <td>119</td>\n",
       "      <td>49</td>\n",
       "      <td>46</td>\n",
       "      <td>78</td>\n",
       "      <td>39</td>\n",
       "      <td>110</td>\n",
       "      <td>53</td>\n",
       "      <td>26</td>\n",
       "      <td>13</td>\n",
       "      <td>0</td>\n",
       "      <td>14</td>\n",
       "      <td>19</td>\n",
       "      <td>52</td>\n",
       "      <td>70</td>\n",
       "      <td>72</td>\n",
       "      <td>85</td>\n",
       "      <td>105</td>\n",
       "      <td>107</td>\n",
       "      <td>188</td>\n",
       "      <td>75</td>\n",
       "      <td>134</td>\n",
       "      <td>157</td>\n",
       "      <td>87</td>\n",
       "      <td>129</td>\n",
       "      <td>70</td>\n",
       "      <td>06001400100</td>\n",
       "    </tr>\n",
       "    <tr>\n",
       "      <th>1</th>\n",
       "      <td>2093</td>\n",
       "      <td>361</td>\n",
       "      <td>96</td>\n",
       "      <td>71</td>\n",
       "      <td>196</td>\n",
       "      <td>164</td>\n",
       "      <td>2093</td>\n",
       "      <td>92</td>\n",
       "      <td>95</td>\n",
       "      <td>63</td>\n",
       "      <td>60</td>\n",
       "      <td>13</td>\n",
       "      <td>33</td>\n",
       "      <td>0</td>\n",
       "      <td>3</td>\n",
       "      <td>0</td>\n",
       "      <td>10</td>\n",
       "      <td>18</td>\n",
       "      <td>60</td>\n",
       "      <td>59</td>\n",
       "      <td>58</td>\n",
       "      <td>28</td>\n",
       "      <td>26</td>\n",
       "      <td>77</td>\n",
       "      <td>22</td>\n",
       "      <td>65</td>\n",
       "      <td>28</td>\n",
       "      <td>9</td>\n",
       "      <td>0</td>\n",
       "      <td>0</td>\n",
       "      <td>0</td>\n",
       "      <td>40</td>\n",
       "      <td>35</td>\n",
       "      <td>67</td>\n",
       "      <td>96</td>\n",
       "      <td>34</td>\n",
       "      <td>13</td>\n",
       "      <td>75</td>\n",
       "      <td>70</td>\n",
       "      <td>89</td>\n",
       "      <td>12</td>\n",
       "      <td>207</td>\n",
       "      <td>77</td>\n",
       "      <td>32</td>\n",
       "      <td>06001400200</td>\n",
       "    </tr>\n",
       "    <tr>\n",
       "      <th>2</th>\n",
       "      <td>5727</td>\n",
       "      <td>978</td>\n",
       "      <td>306</td>\n",
       "      <td>524</td>\n",
       "      <td>497</td>\n",
       "      <td>310</td>\n",
       "      <td>5707</td>\n",
       "      <td>157</td>\n",
       "      <td>416</td>\n",
       "      <td>78</td>\n",
       "      <td>185</td>\n",
       "      <td>171</td>\n",
       "      <td>94</td>\n",
       "      <td>88</td>\n",
       "      <td>0</td>\n",
       "      <td>6</td>\n",
       "      <td>93</td>\n",
       "      <td>23</td>\n",
       "      <td>47</td>\n",
       "      <td>113</td>\n",
       "      <td>100</td>\n",
       "      <td>24</td>\n",
       "      <td>25</td>\n",
       "      <td>115</td>\n",
       "      <td>196</td>\n",
       "      <td>84</td>\n",
       "      <td>55</td>\n",
       "      <td>33</td>\n",
       "      <td>0</td>\n",
       "      <td>26</td>\n",
       "      <td>43</td>\n",
       "      <td>108</td>\n",
       "      <td>62</td>\n",
       "      <td>194</td>\n",
       "      <td>158</td>\n",
       "      <td>13</td>\n",
       "      <td>142</td>\n",
       "      <td>383</td>\n",
       "      <td>201</td>\n",
       "      <td>300</td>\n",
       "      <td>251</td>\n",
       "      <td>400</td>\n",
       "      <td>148</td>\n",
       "      <td>291</td>\n",
       "      <td>06001400300</td>\n",
       "    </tr>\n",
       "    <tr>\n",
       "      <th>3</th>\n",
       "      <td>4395</td>\n",
       "      <td>1027</td>\n",
       "      <td>185</td>\n",
       "      <td>457</td>\n",
       "      <td>604</td>\n",
       "      <td>343</td>\n",
       "      <td>4351</td>\n",
       "      <td>134</td>\n",
       "      <td>204</td>\n",
       "      <td>125</td>\n",
       "      <td>115</td>\n",
       "      <td>169</td>\n",
       "      <td>30</td>\n",
       "      <td>41</td>\n",
       "      <td>0</td>\n",
       "      <td>0</td>\n",
       "      <td>0</td>\n",
       "      <td>31</td>\n",
       "      <td>70</td>\n",
       "      <td>89</td>\n",
       "      <td>19</td>\n",
       "      <td>26</td>\n",
       "      <td>36</td>\n",
       "      <td>216</td>\n",
       "      <td>137</td>\n",
       "      <td>208</td>\n",
       "      <td>27</td>\n",
       "      <td>9</td>\n",
       "      <td>0</td>\n",
       "      <td>0</td>\n",
       "      <td>38</td>\n",
       "      <td>55</td>\n",
       "      <td>105</td>\n",
       "      <td>104</td>\n",
       "      <td>43</td>\n",
       "      <td>23</td>\n",
       "      <td>30</td>\n",
       "      <td>187</td>\n",
       "      <td>105</td>\n",
       "      <td>287</td>\n",
       "      <td>215</td>\n",
       "      <td>207</td>\n",
       "      <td>178</td>\n",
       "      <td>87</td>\n",
       "      <td>06001400400</td>\n",
       "    </tr>\n",
       "    <tr>\n",
       "      <th>4</th>\n",
       "      <td>3822</td>\n",
       "      <td>535</td>\n",
       "      <td>231</td>\n",
       "      <td>919</td>\n",
       "      <td>557</td>\n",
       "      <td>397</td>\n",
       "      <td>3816</td>\n",
       "      <td>74</td>\n",
       "      <td>169</td>\n",
       "      <td>128</td>\n",
       "      <td>115</td>\n",
       "      <td>111</td>\n",
       "      <td>26</td>\n",
       "      <td>81</td>\n",
       "      <td>9</td>\n",
       "      <td>0</td>\n",
       "      <td>115</td>\n",
       "      <td>41</td>\n",
       "      <td>32</td>\n",
       "      <td>56</td>\n",
       "      <td>41</td>\n",
       "      <td>4</td>\n",
       "      <td>0</td>\n",
       "      <td>64</td>\n",
       "      <td>55</td>\n",
       "      <td>29</td>\n",
       "      <td>7</td>\n",
       "      <td>0</td>\n",
       "      <td>0</td>\n",
       "      <td>98</td>\n",
       "      <td>46</td>\n",
       "      <td>19</td>\n",
       "      <td>47</td>\n",
       "      <td>51</td>\n",
       "      <td>50</td>\n",
       "      <td>60</td>\n",
       "      <td>203</td>\n",
       "      <td>256</td>\n",
       "      <td>91</td>\n",
       "      <td>244</td>\n",
       "      <td>213</td>\n",
       "      <td>385</td>\n",
       "      <td>387</td>\n",
       "      <td>244</td>\n",
       "      <td>06001400500</td>\n",
       "    </tr>\n",
       "  </tbody>\n",
       "</table>\n",
       "</div>"
      ],
      "text/plain": [
       "   total_pop  households  not_us_citizen_pop  black_pop  hispanic_pop  \\\n",
       "0       3094         582                 264        137           200   \n",
       "1       2093         361                  96         71           196   \n",
       "2       5727         978                 306        524           497   \n",
       "3       4395        1027                 185        457           604   \n",
       "4       3822         535                 231        919           557   \n",
       "\n",
       "   poverty  pop_determined_poverty_status  workers_with_no_car  \\\n",
       "0      134                           3075                   28   \n",
       "1      164                           2093                   92   \n",
       "2      310                           5707                  157   \n",
       "3      343                           4351                  134   \n",
       "4      397                           3816                   74   \n",
       "\n",
       "   households_with_no_cars  male_under_5  male_5_to_9  male_10_to_14  \\\n",
       "0                       85            69          106            160   \n",
       "1                       95            63           60             13   \n",
       "2                      416            78          185            171   \n",
       "3                      204           125          115            169   \n",
       "4                      169           128          115            111   \n",
       "\n",
       "   male_15_to_17  male_18_to_19  male_20  male_21  male_22_to_24  \\\n",
       "0             19              0        0        0             26   \n",
       "1             33              0        3        0             10   \n",
       "2             94             88        0        6             93   \n",
       "3             30             41        0        0              0   \n",
       "4             26             81        9        0            115   \n",
       "\n",
       "   male_65_to_66  male_67_to_69  male_70_to_74  male_75_to_79  male_80_to_84  \\\n",
       "0             47             84            119             49             46   \n",
       "1             18             60             59             58             28   \n",
       "2             23             47            113            100             24   \n",
       "3             31             70             89             19             26   \n",
       "4             41             32             56             41              4   \n",
       "\n",
       "   male_85_and_over  female_under_5  female_5_to_9  female_10_to_14  \\\n",
       "0                78              39            110               53   \n",
       "1                26              77             22               65   \n",
       "2                25             115            196               84   \n",
       "3                36             216            137              208   \n",
       "4                 0              64             55               29   \n",
       "\n",
       "   female_15_to_17  female_18_to_19  female_20  female_21  female_22_to_24  \\\n",
       "0               26               13          0         14               19   \n",
       "1               28                9          0          0                0   \n",
       "2               55               33          0         26               43   \n",
       "3               27                9          0          0               38   \n",
       "4                7                0          0         98               46   \n",
       "\n",
       "   female_65_to_66  female_67_to_69  female_70_to_74  female_75_to_79  \\\n",
       "0               52               70               72               85   \n",
       "1               40               35               67               96   \n",
       "2              108               62              194              158   \n",
       "3               55              105              104               43   \n",
       "4               19               47               51               50   \n",
       "\n",
       "   female_80_to_84  female_85_and_over  income_less_10000  income_10000_14999  \\\n",
       "0              105                 107                188                  75   \n",
       "1               34                  13                 75                  70   \n",
       "2               13                 142                383                 201   \n",
       "3               23                  30                187                 105   \n",
       "4               60                 203                256                  91   \n",
       "\n",
       "   income_15000_24999  income_25000_34999  income_35000_49999  \\\n",
       "0                 134                 157                  87   \n",
       "1                  89                  12                 207   \n",
       "2                 300                 251                 400   \n",
       "3                 287                 215                 207   \n",
       "4                 244                 213                 385   \n",
       "\n",
       "   income_50000_64999  income_65000_74999        GEOID  \n",
       "0                 129                  70  06001400100  \n",
       "1                  77                  32  06001400200  \n",
       "2                 148                 291  06001400300  \n",
       "3                 178                  87  06001400400  \n",
       "4                 387                 244  06001400500  "
      ]
     },
     "execution_count": 13,
     "metadata": {},
     "output_type": "execute_result"
    }
   ],
   "source": [
    "census_data.head(5)"
   ]
  },
  {
   "cell_type": "code",
   "execution_count": 14,
   "id": "ebce4506-f509-4d9f-93b2-493c8c6dd4e9",
   "metadata": {},
   "outputs": [],
   "source": [
    "#Creating custom income variables \n",
    "census_data['inc_extremelylow'] = census_data['income_less_10000'] + census_data['income_10000_14999'] + census_data['income_15000_24999']\n",
    "census_data['inc_verylow'] = census_data['income_25000_34999'] + census_data['income_35000_49999']\n",
    "census_data['inc_low'] = census_data['income_50000_64999'] + census_data['income_65000_74999']"
   ]
  },
  {
   "cell_type": "code",
   "execution_count": 15,
   "id": "e7cedea0-3265-45e5-804f-6429fd930937",
   "metadata": {
    "tags": []
   },
   "outputs": [],
   "source": [
    "# Aggregating age variables \n",
    "census_data['male_youth'] = census_data.loc[:,\"male_under_5\":\"male_22_to_24\"].sum(axis=1)\n",
    "census_data['female_youth'] = census_data.loc[:,\"female_under_5\":\"female_22_to_24\"].sum(axis=1)\n",
    "\n",
    "census_data['male_seniors'] = census_data.loc[:, \"male_65_to_66\":\"male_85_and_over\"].sum(axis=1)\n",
    "census_data['female_seniors'] = census_data.loc[:, \"female_65_to_66\":\"female_85_and_over\"].sum(axis=1)"
   ]
  },
  {
   "cell_type": "code",
   "execution_count": 16,
   "id": "8aa23413-6e41-47c2-baab-e56a2d06add8",
   "metadata": {
    "tags": []
   },
   "outputs": [],
   "source": [
    "# Creating youth and senior population categories \n",
    "census_data['youth_pop'] = census_data['male_youth'] + census_data['female_youth']\n",
    "census_data['seniors_pop'] = census_data['male_seniors'] + census_data['female_seniors']"
   ]
  },
  {
   "cell_type": "code",
   "execution_count": 17,
   "id": "ba52a376-e84c-48ea-b6b6-fc2893a12acf",
   "metadata": {
    "tags": []
   },
   "outputs": [
    {
     "data": {
      "text/plain": [
       "Index(['total_pop', 'households', 'not_us_citizen_pop', 'black_pop',\n",
       "       'hispanic_pop', 'poverty', 'pop_determined_poverty_status',\n",
       "       'workers_with_no_car', 'households_with_no_cars', 'male_under_5',\n",
       "       'male_5_to_9', 'male_10_to_14', 'male_15_to_17', 'male_18_to_19',\n",
       "       'male_20', 'male_21', 'male_22_to_24', 'male_65_to_66', 'male_67_to_69',\n",
       "       'male_70_to_74', 'male_75_to_79', 'male_80_to_84', 'male_85_and_over',\n",
       "       'female_under_5', 'female_5_to_9', 'female_10_to_14', 'female_15_to_17',\n",
       "       'female_18_to_19', 'female_20', 'female_21', 'female_22_to_24',\n",
       "       'female_65_to_66', 'female_67_to_69', 'female_70_to_74',\n",
       "       'female_75_to_79', 'female_80_to_84', 'female_85_and_over',\n",
       "       'income_less_10000', 'income_10000_14999', 'income_15000_24999',\n",
       "       'income_25000_34999', 'income_35000_49999', 'income_50000_64999',\n",
       "       'income_65000_74999', 'GEOID', 'inc_extremelylow', 'inc_verylow',\n",
       "       'inc_low', 'male_youth', 'female_youth', 'male_seniors',\n",
       "       'female_seniors', 'youth_pop', 'seniors_pop'],\n",
       "      dtype='object')"
      ]
     },
     "execution_count": 17,
     "metadata": {},
     "output_type": "execute_result"
    }
   ],
   "source": [
    "census_data.columns"
   ]
  },
  {
   "cell_type": "code",
   "execution_count": 18,
   "id": "d3351f2f-9545-4dc2-bf62-743f71c5452d",
   "metadata": {
    "tags": []
   },
   "outputs": [
    {
     "name": "stdout",
     "output_type": "stream",
     "text": [
      "Using FIPS code '06' for input 'CA'\n"
     ]
    }
   ],
   "source": [
    "#Retrieving Tract Geometries for California\n",
    "ca_tracts = tracts(state = \"CA\", cb = True,\n",
    "                    year = 2023, cache = True)"
   ]
  },
  {
   "cell_type": "code",
   "execution_count": 19,
   "id": "099dbd7d-1be5-421a-b536-d9c23980f15c",
   "metadata": {
    "tags": []
   },
   "outputs": [
    {
     "name": "stdout",
     "output_type": "stream",
     "text": [
      "<class 'geopandas.geodataframe.GeoDataFrame'>\n",
      "RangeIndex: 9109 entries, 0 to 9108\n",
      "Data columns (total 14 columns):\n",
      " #   Column      Non-Null Count  Dtype   \n",
      "---  ------      --------------  -----   \n",
      " 0   STATEFP     9109 non-null   object  \n",
      " 1   COUNTYFP    9109 non-null   object  \n",
      " 2   TRACTCE     9109 non-null   object  \n",
      " 3   GEOIDFQ     9109 non-null   object  \n",
      " 4   GEOID       9109 non-null   object  \n",
      " 5   NAME        9109 non-null   object  \n",
      " 6   NAMELSAD    9109 non-null   object  \n",
      " 7   STUSPS      9109 non-null   object  \n",
      " 8   NAMELSADCO  9109 non-null   object  \n",
      " 9   STATE_NAME  9109 non-null   object  \n",
      " 10  LSAD        9109 non-null   object  \n",
      " 11  ALAND       9109 non-null   int64   \n",
      " 12  AWATER      9109 non-null   int64   \n",
      " 13  geometry    9109 non-null   geometry\n",
      "dtypes: geometry(1), int64(2), object(11)\n",
      "memory usage: 996.4+ KB\n"
     ]
    }
   ],
   "source": [
    "ca_tracts.info()"
   ]
  },
  {
   "cell_type": "code",
   "execution_count": 20,
   "id": "d5b81393-cad1-4c93-a38a-4a0d8723c268",
   "metadata": {
    "tags": []
   },
   "outputs": [],
   "source": [
    "# Merging the census tract geometries with the census data based on the GEOID\n",
    "tracts_ca_acs = ca_tracts.merge(census_data, how=\"inner\", on=\"GEOID\")"
   ]
  },
  {
   "cell_type": "code",
   "execution_count": 21,
   "id": "b3ae1ca4-0129-49c7-8d0a-ff409d9376aa",
   "metadata": {
    "tags": []
   },
   "outputs": [],
   "source": [
    "#Selecting Relevant Columns:\n",
    "tracts_ca_acs = tracts_ca_acs[['ALAND', 'geometry', 'GEOID', 'total_pop', 'households', 'not_us_citizen_pop', 'black_pop', 'hispanic_pop', 'inc_extremelylow', 'inc_verylow',\n",
    "                               'inc_low', 'poverty', 'pop_determined_poverty_status', 'workers_with_no_car', 'households_with_no_cars', 'male_youth', 'female_youth', 'male_seniors',\n",
    "                               'female_seniors', 'youth_pop', 'seniors_pop']]"
   ]
  },
  {
   "cell_type": "code",
   "execution_count": 22,
   "id": "875e92c4-3d44-4c7c-9d3e-8a5d25807101",
   "metadata": {
    "tags": []
   },
   "outputs": [
    {
     "name": "stdout",
     "output_type": "stream",
     "text": [
      "<class 'geopandas.geodataframe.GeoDataFrame'>\n",
      "RangeIndex: 9109 entries, 0 to 9108\n",
      "Data columns (total 21 columns):\n",
      " #   Column                         Non-Null Count  Dtype   \n",
      "---  ------                         --------------  -----   \n",
      " 0   ALAND                          9109 non-null   int64   \n",
      " 1   geometry                       9109 non-null   geometry\n",
      " 2   GEOID                          9109 non-null   object  \n",
      " 3   total_pop                      9109 non-null   int64   \n",
      " 4   households                     9109 non-null   int64   \n",
      " 5   not_us_citizen_pop             9109 non-null   int64   \n",
      " 6   black_pop                      9109 non-null   int64   \n",
      " 7   hispanic_pop                   9109 non-null   int64   \n",
      " 8   inc_extremelylow               9109 non-null   int64   \n",
      " 9   inc_verylow                    9109 non-null   int64   \n",
      " 10  inc_low                        9109 non-null   int64   \n",
      " 11  poverty                        9109 non-null   int64   \n",
      " 12  pop_determined_poverty_status  9109 non-null   int64   \n",
      " 13  workers_with_no_car            9109 non-null   int64   \n",
      " 14  households_with_no_cars        9109 non-null   int64   \n",
      " 15  male_youth                     9109 non-null   int64   \n",
      " 16  female_youth                   9109 non-null   int64   \n",
      " 17  male_seniors                   9109 non-null   int64   \n",
      " 18  female_seniors                 9109 non-null   int64   \n",
      " 19  youth_pop                      9109 non-null   int64   \n",
      " 20  seniors_pop                    9109 non-null   int64   \n",
      "dtypes: geometry(1), int64(19), object(1)\n",
      "memory usage: 1.5+ MB\n"
     ]
    }
   ],
   "source": [
    "tracts_ca_acs.info()"
   ]
  },
  {
   "cell_type": "code",
   "execution_count": 23,
   "id": "7d390752-4032-4f47-a9c3-85839d24dbf1",
   "metadata": {},
   "outputs": [],
   "source": [
    "def export_gdf(gdf, filename: str):\n",
    "    \n",
    "    gdf.to_parquet(f\"{filename}.parquet\")\n",
    "    \n",
    "    fs.put(\n",
    "        f\"{filename}.parquet\",\n",
    "        f\"{GCS_FILE_PATH}/{filename}.parquet\",\n",
    "        token = credentials.token\n",
    "    )\n",
    "    \n",
    "    os.remove(f\"{filename}.parquet\")\n",
    "    print(f\"saved {GCS_FILE_PATH}/{filename}.parquet\")\n",
    "    \n",
    "    return"
   ]
  },
  {
   "cell_type": "code",
   "execution_count": 24,
   "id": "8cdaf77b-5481-4c91-a758-b3d82d89c644",
   "metadata": {
    "tags": []
   },
   "outputs": [
    {
     "name": "stdout",
     "output_type": "stream",
     "text": [
      "saved gs://calitp-analytics-data/data-analyses/ahsc_grant//tracts_ca_acs.parquet\n"
     ]
    }
   ],
   "source": [
    "export_gdf(tracts_ca_acs, \"tracts_ca_acs\")"
   ]
  },
  {
   "cell_type": "code",
   "execution_count": null,
   "id": "5bac55d2-d6ce-4632-aa07-8566dc09008c",
   "metadata": {},
   "outputs": [],
   "source": []
  }
 ],
 "metadata": {
  "kernelspec": {
   "display_name": "Python 3 (ipykernel)",
   "language": "python",
   "name": "python3"
  },
  "language_info": {
   "codemirror_mode": {
    "name": "ipython",
    "version": 3
   },
   "file_extension": ".py",
   "mimetype": "text/x-python",
   "name": "python",
   "nbconvert_exporter": "python",
   "pygments_lexer": "ipython3",
   "version": "3.11.10"
  }
 },
 "nbformat": 4,
 "nbformat_minor": 5
}
