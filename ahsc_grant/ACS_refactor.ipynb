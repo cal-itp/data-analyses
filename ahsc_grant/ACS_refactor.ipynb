{
 "cells": [
  {
   "cell_type": "markdown",
   "id": "80edbe01-67fb-4d21-827d-2dc68eb41d04",
   "metadata": {
    "tags": []
   },
   "source": [
    "# ACS Data\n",
    "\n",
    "This code aggregates 2023 ACS census tract-level demographic and socioeconomic data, calculating factors such as population density, citizenship status, age distribution, car access, and poverty levels using the `pygris` package, with the data returned in the NAD 1983 coordinate reference system (EPSG 4269).\n",
    "\n",
    "- [`pygris` info](https://walker-data.com/pygris/)\n",
    "- [ACS variables info](https://api.census.gov/data/2023/acs/acs5/variables.html)\n"
   ]
  },
  {
   "cell_type": "code",
   "execution_count": null,
   "id": "f8f2903a-2c6c-47da-9433-3220d1040ca0",
   "metadata": {
    "tags": []
   },
   "outputs": [],
   "source": [
    "#Installing python package to download US Census Bureau ACS data \n",
    "pip install pygris"
   ]
  },
  {
   "cell_type": "code",
   "execution_count": null,
   "id": "c320e5e4-e0a0-444a-a332-f3a3b401f595",
   "metadata": {
    "tags": []
   },
   "outputs": [],
   "source": [
    "import pygris\n",
    "from pygris.data import get_census\n",
    "from pygris import tracts \n",
    "\n",
    "import pandas as pd \n",
    "import geopandas as gpd\n",
    "\n",
    "pd.set_option('display.max_columns', None)\n"
   ]
  },
  {
   "cell_type": "code",
   "execution_count": null,
   "id": "1c73c9b5-3004-4148-9063-4eb71c23edf4",
   "metadata": {
    "tags": []
   },
   "outputs": [],
   "source": [
    "# Selecting required variables for the analysis \n",
    "census_data = get_census(dataset = \"2023/acs/acs5\",\n",
    "                            variables = [\"B01003_001E\", \"B09005_001E\", \"B16008_037E\", \"B01001B_001E\",  \"B01001I_001E\", \"B17001_002E\", \"B06012_001E\", \"B08014_002E\", \"B08201_002E\", \"B01001_003E\", \"B01001_004E\",\n",
    "                                        \"B01001_005E\", \"B01001_006E\", \"B01001_007E\", \"B01001_008E\", \"B01001_009E\", \"B01001_010E\", \"B01001_020E\", \"B01001_021E\", \"B01001_022E\", \n",
    "                                        \"B01001_023E\", \"B01001_024E\", \"B01001_025E\", \"B01001_027E\", \"B01001_028E\", \"B01001_029E\",  \"B01001_030E\", \"B01001_031E\", \"B01001_032E\",\n",
    "                                        \"B01001_033E\", \"B01001_034E\", \"B01001_044E\", \"B01001_045E\", \"B01001_046E\", \"B01001_047E\", \"B01001_048E\", \"B01001_049E\", \"B06010_004E\", \"B06010_005E\",\n",
    "                                        \"B06010_006E\", \"B06010_007E\", \"B06010_008E\", \"B06010_009E\", \"B06010_010E\" ],\n",
    "                            params = {\n",
    "                                \"for\": \"tract:*\",\n",
    "                                \"in\": \"state:06\",\n",
    "                            }, \n",
    "                            return_geoid = True, \n",
    "                            guess_dtypes = True\n",
    "                        )\n"
   ]
  },
  {
   "cell_type": "code",
   "execution_count": null,
   "id": "03b2ed77-58a0-4de9-9625-09f452ea98c7",
   "metadata": {
    "tags": []
   },
   "outputs": [],
   "source": [
    "#Renaming variables \n",
    "census_data = census_data.rename(columns={\n",
    "    'B01003_001E': 'total_pop', 'B09005_001E': 'households', 'B16008_037E': 'not_us_citizen_pop', 'B01001B_001E': 'black_pop', 'B01001I_001E': 'hispanic_pop', 'B17001_002E': 'poverty',\n",
    "    'B06012_001E': 'pop_determined_poverty_status','B08014_002E': 'workers_with_no_car', 'B08201_002E': 'households_with_no_cars', 'B01001_003E': 'male_under_5', \n",
    "    'B01001_004E': 'male_5_to_9', 'B01001_005E': 'male_10_to_14', 'B01001_006E': 'male_15_to_17', 'B01001_007E': 'male_18_to_19', 'B01001_008E': 'male_20', 'B01001_009E': 'male_21', \n",
    "    'B01001_010E': 'male_22_to_24', 'B01001_020E': 'male_65_to_66', 'B01001_021E': 'male_67_to_69', 'B01001_022E': 'male_70_to_74', 'B01001_023E': 'male_75_to_79', \n",
    "    'B01001_024E': 'male_80_to_84', 'B01001_025E': 'male_85_and_over', 'B01001_027E': 'female_under_5', 'B01001_028E': 'female_5_to_9', 'B01001_029E': 'female_10_to_14', \n",
    "    'B01001_030E': 'female_15_to_17', 'B01001_031E': 'female_18_to_19', 'B01001_032E': 'female_20', 'B01001_033E': 'female_21', 'B01001_034E': 'female_22_to_24', \n",
    "    'B01001_044E': 'female_65_to_66', 'B01001_045E': 'female_67_to_69', 'B01001_046E': 'female_70_to_74', 'B01001_047E': 'female_75_to_79', 'B01001_048E': 'female_80_to_84', \n",
    "    'B01001_049E': 'female_85_and_over', 'B06010_004E': 'income_less_10000', 'B06010_005E': 'income_10000_14999', 'B06010_006E': 'income_15000_24999', 'B06010_007E': 'income_25000_34999', \n",
    "    'B06010_008E': 'income_35000_49999', 'B06010_009E': 'income_50000_64999', 'B06010_010E': 'income_65000_74999'\n",
    "\n",
    "})"
   ]
  },
  {
   "cell_type": "code",
   "execution_count": null,
   "id": "a53bc9d2-7402-40c3-b4ff-ee124ba93bf0",
   "metadata": {
    "tags": []
   },
   "outputs": [],
   "source": [
    "census_data.head(5)"
   ]
  },
  {
   "cell_type": "code",
   "execution_count": null,
   "id": "ebce4506-f509-4d9f-93b2-493c8c6dd4e9",
   "metadata": {},
   "outputs": [],
   "source": [
    "#Creating custom income variables \n",
    "census_data['inc_extremelylow'] = census_data['income_less_10000'] + census_data['income_10000_14999'] + census_data['income_15000_24999']\n",
    "census_data['inc_verylow'] = census_data['income_25000_34999'] + census_data['income_35000_49999']\n",
    "census_data['inc_low'] = census_data['income_50000_64999'] + census_data['income_65000_74999']"
   ]
  },
  {
   "cell_type": "code",
   "execution_count": null,
   "id": "e7cedea0-3265-45e5-804f-6429fd930937",
   "metadata": {
    "tags": []
   },
   "outputs": [],
   "source": [
    "# Aggregating age variables \n",
    "census_data['male_youth'] = census_data.loc[:,\"male_under_5\":\"male_22_to_24\"].sum(axis=1)\n",
    "census_data['female_youth'] = census_data.loc[:,\"female_under_5\":\"female_22_to_24\"].sum(axis=1)\n",
    "\n",
    "census_data['male_seniors'] = census_data.loc[:, \"male_65_to_66\":\"male_85_and_over\"].sum(axis=1)\n",
    "census_data['female_seniors'] = census_data.loc[:, \"female_65_to_66\":\"female_85_and_over\"].sum(axis=1)"
   ]
  },
  {
   "cell_type": "code",
   "execution_count": null,
   "id": "8aa23413-6e41-47c2-baab-e56a2d06add8",
   "metadata": {
    "tags": []
   },
   "outputs": [],
   "source": [
    "# Creating youth and senior population categories \n",
    "census_data['youth_pop'] = census_data['male_youth'] + census_data['female_youth']\n",
    "census_data['seniors_pop'] = census_data['male_seniors'] + census_data['female_seniors']"
   ]
  },
  {
   "cell_type": "code",
   "execution_count": null,
   "id": "ba52a376-e84c-48ea-b6b6-fc2893a12acf",
   "metadata": {
    "tags": []
   },
   "outputs": [],
   "source": [
    "census_data.columns"
   ]
  },
  {
   "cell_type": "code",
   "execution_count": null,
   "id": "d3351f2f-9545-4dc2-bf62-743f71c5452d",
   "metadata": {
    "tags": []
   },
   "outputs": [],
   "source": [
    "#Retrieving Tract Geometries for California\n",
    "ca_tracts = tracts(state = \"CA\", cb = True,\n",
    "                    year = 2023, cache = True)"
   ]
  },
  {
   "cell_type": "code",
   "execution_count": null,
   "id": "099dbd7d-1be5-421a-b536-d9c23980f15c",
   "metadata": {
    "tags": []
   },
   "outputs": [],
   "source": [
    "ca_tracts.info()"
   ]
  },
  {
   "cell_type": "code",
   "execution_count": null,
   "id": "d5b81393-cad1-4c93-a38a-4a0d8723c268",
   "metadata": {
    "tags": []
   },
   "outputs": [],
   "source": [
    "# Merging the census tract geometries with the census data based on the GEOID\n",
    "tracts_ca_acs = ca_tracts.merge(census_data, how=\"inner\", on=\"GEOID\")"
   ]
  },
  {
   "cell_type": "code",
   "execution_count": null,
   "id": "b3ae1ca4-0129-49c7-8d0a-ff409d9376aa",
   "metadata": {
    "tags": []
   },
   "outputs": [],
   "source": [
    "#Selecting Relevant Columns:\n",
    "tracts_ca_acs = tracts_ca_acs[['ALAND', 'geometry', 'GEOID', 'total_pop', 'households', 'not_us_citizen_pop', 'black_pop', 'hispanic_pop', 'inc_extremelylow', 'inc_verylow',\n",
    "                               'inc_low', 'pop_determined_poverty_status', 'workers_with_no_car', 'households_with_no_cars', 'male_youth', 'female_youth', 'male_seniors',\n",
    "                               'female_seniors', 'youth_pop', 'seniors_pop']]"
   ]
  },
  {
   "cell_type": "code",
   "execution_count": null,
   "id": "875e92c4-3d44-4c7c-9d3e-8a5d25807101",
   "metadata": {
    "tags": []
   },
   "outputs": [],
   "source": [
    "tracts_ca_acs.info()"
   ]
  },
  {
   "cell_type": "code",
   "execution_count": null,
   "id": "7d390752-4032-4f47-a9c3-85839d24dbf1",
   "metadata": {},
   "outputs": [],
   "source": []
  }
 ],
 "metadata": {
  "kernelspec": {
   "display_name": "Python 3 (ipykernel)",
   "language": "python",
   "name": "python3"
  },
  "language_info": {
   "codemirror_mode": {
    "name": "ipython",
    "version": 3
   },
   "file_extension": ".py",
   "mimetype": "text/x-python",
   "name": "python",
   "nbconvert_exporter": "python",
   "pygments_lexer": "ipython3",
   "version": "3.11.10"
  }
 },
 "nbformat": 4,
 "nbformat_minor": 5
}
