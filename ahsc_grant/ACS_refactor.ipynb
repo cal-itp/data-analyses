{
 "cells": [
  {
   "cell_type": "code",
   "execution_count": 1,
   "id": "f6ffeadc-f938-4155-ba8c-2cf390d0dc60",
   "metadata": {
    "tags": []
   },
   "outputs": [
    {
     "name": "stdout",
     "output_type": "stream",
     "text": [
      "Requirement already satisfied: requests in /opt/conda/lib/python3.11/site-packages (2.32.3)\n",
      "Requirement already satisfied: charset-normalizer<4,>=2 in /opt/conda/lib/python3.11/site-packages (from requests) (3.4.1)\n",
      "Requirement already satisfied: idna<4,>=2.5 in /opt/conda/lib/python3.11/site-packages (from requests) (3.10)\n",
      "Requirement already satisfied: urllib3<3,>=1.21.1 in /opt/conda/lib/python3.11/site-packages (from requests) (2.3.0)\n",
      "Requirement already satisfied: certifi>=2017.4.17 in /opt/conda/lib/python3.11/site-packages (from requests) (2024.12.14)\n",
      "Note: you may need to restart the kernel to use updated packages.\n"
     ]
    }
   ],
   "source": [
    "pip install requests"
   ]
  },
  {
   "cell_type": "code",
   "execution_count": 1,
   "id": "f8f2903a-2c6c-47da-9433-3220d1040ca0",
   "metadata": {
    "tags": []
   },
   "outputs": [
    {
     "name": "stdout",
     "output_type": "stream",
     "text": [
      "Collecting pygris\n",
      "  Downloading pygris-0.1.6-py3-none-any.whl.metadata (2.5 kB)\n",
      "Requirement already satisfied: geopandas>=0.9 in /opt/conda/lib/python3.11/site-packages (from pygris) (0.14.4)\n",
      "Requirement already satisfied: fiona in /opt/conda/lib/python3.11/site-packages (from pygris) (1.10.1)\n",
      "Requirement already satisfied: pandas in /opt/conda/lib/python3.11/site-packages (from pygris) (1.5.3)\n",
      "Requirement already satisfied: shapely in /opt/conda/lib/python3.11/site-packages (from pygris) (2.0.6)\n",
      "Requirement already satisfied: requests in /opt/conda/lib/python3.11/site-packages (from pygris) (2.32.3)\n",
      "Requirement already satisfied: appdirs in /opt/conda/lib/python3.11/site-packages (from pygris) (1.4.4)\n",
      "Requirement already satisfied: pip in /opt/conda/lib/python3.11/site-packages (from pygris) (24.2)\n",
      "Requirement already satisfied: numpy in /opt/conda/lib/python3.11/site-packages (from pygris) (1.24.4)\n",
      "Requirement already satisfied: rtree in /opt/conda/lib/python3.11/site-packages (from pygris) (0.9.7)\n",
      "Requirement already satisfied: packaging in /opt/conda/lib/python3.11/site-packages (from geopandas>=0.9->pygris) (24.2)\n",
      "Requirement already satisfied: pyproj>=3.3.0 in /opt/conda/lib/python3.11/site-packages (from geopandas>=0.9->pygris) (3.7.0)\n",
      "Requirement already satisfied: attrs>=19.2.0 in /opt/conda/lib/python3.11/site-packages (from fiona->pygris) (24.3.0)\n",
      "Requirement already satisfied: certifi in /opt/conda/lib/python3.11/site-packages (from fiona->pygris) (2024.12.14)\n",
      "Requirement already satisfied: click~=8.0 in /opt/conda/lib/python3.11/site-packages (from fiona->pygris) (8.1.8)\n",
      "Requirement already satisfied: click-plugins>=1.0 in /opt/conda/lib/python3.11/site-packages (from fiona->pygris) (1.1.1)\n",
      "Requirement already satisfied: cligj>=0.5 in /opt/conda/lib/python3.11/site-packages (from fiona->pygris) (0.7.2)\n",
      "Requirement already satisfied: python-dateutil>=2.8.1 in /opt/conda/lib/python3.11/site-packages (from pandas->pygris) (2.9.0.post0)\n",
      "Requirement already satisfied: pytz>=2020.1 in /opt/conda/lib/python3.11/site-packages (from pandas->pygris) (2024.2)\n",
      "Requirement already satisfied: charset-normalizer<4,>=2 in /opt/conda/lib/python3.11/site-packages (from requests->pygris) (3.4.1)\n",
      "Requirement already satisfied: idna<4,>=2.5 in /opt/conda/lib/python3.11/site-packages (from requests->pygris) (3.10)\n",
      "Requirement already satisfied: urllib3<3,>=1.21.1 in /opt/conda/lib/python3.11/site-packages (from requests->pygris) (2.3.0)\n",
      "Requirement already satisfied: six>=1.5 in /opt/conda/lib/python3.11/site-packages (from python-dateutil>=2.8.1->pandas->pygris) (1.17.0)\n",
      "Downloading pygris-0.1.6-py3-none-any.whl (55 kB)\n",
      "Installing collected packages: pygris\n",
      "Successfully installed pygris-0.1.6\n",
      "Note: you may need to restart the kernel to use updated packages.\n"
     ]
    }
   ],
   "source": [
    "pip install pygris"
   ]
  },
  {
   "cell_type": "code",
   "execution_count": 2,
   "id": "c320e5e4-e0a0-444a-a332-f3a3b401f595",
   "metadata": {
    "tags": []
   },
   "outputs": [],
   "source": [
    "import pygris"
   ]
  },
  {
   "cell_type": "code",
   "execution_count": 3,
   "id": "49305739-61ae-4eb1-b440-404b98799266",
   "metadata": {
    "tags": []
   },
   "outputs": [],
   "source": [
    "from pygris.data import get_census"
   ]
  },
  {
   "cell_type": "code",
   "execution_count": 99,
   "id": "1c73c9b5-3004-4148-9063-4eb71c23edf4",
   "metadata": {
    "tags": []
   },
   "outputs": [],
   "source": [
    "census_data = get_census(dataset = \"2023/acs/acs5\",\n",
    "                            variables = [\"B01003_001E\", \"B09005_001E\", \"B16008_037E\", \"B01001B_001E\", \"B01001I_001E\", \"B06012_001E\", \"B08014_002E\", \"B08201_002E\", \"B01001_003E\", \"B01001_004E\",\n",
    "                                        \"B01001_005E\", \"B01001_006E\", \"B01001_007E\", \"B01001_008E\", \"B01001_009E\", \"B01001_010E\", \"B01001_020E\", \"B01001_021E\", \"B01001_022E\", \n",
    "                                        \"B01001_023E\", \"B01001_024E\", \"B01001_025E\", \"B01001_027E\", \"B01001_028E\", \"B01001_029E\",  \"B01001_030E\", \"B01001_031E\", \"B01001_032E\",\n",
    "                                        \"B01001_033E\", \"B01001_034E\", \"B01001_044E\", \"B01001_045E\", \"B01001_046E\", \"B01001_047E\", \"B01001_048E\", \"B01001_049E\", \"B06010_004E\", \"B06010_005E\",\n",
    "                                        \"B06010_006E\", \"B06010_007E\", \"B06010_008E\", \"B06010_009E\", \"B06010_010E\" ],\n",
    "                            params = {\n",
    "                                \"for\": \"tract:*\",\n",
    "                                \"in\": \"state:06\",\n",
    "                            }, \n",
    "                            return_geoid = True, \n",
    "                            guess_dtypes = True\n",
    "                        )\n"
   ]
  },
  {
   "cell_type": "code",
   "execution_count": 100,
   "id": "03b2ed77-58a0-4de9-9625-09f452ea98c7",
   "metadata": {
    "tags": []
   },
   "outputs": [],
   "source": [
    "census_data = census_data.rename(columns={\n",
    "    'B01003_001E': 'total_pop', 'B09005_001E': 'households', 'B16008_037E': 'not_us_citizen_pop', 'B01001B_001E': 'black_pop', 'B01001I_001E': 'hispanic_pop','B06012_001E': 'pop_determined_poverty_status',\n",
    "    'B08014_002E': 'workers_with_no_car', 'B08201_002E': 'households_with_no_cars', 'B01001_003E': 'male_under_5', 'B01001_004E': 'male_5_to_9', 'B01001_005E': 'male_10_to_14',\n",
    "    'B01001_006E': 'male_15_to_17', 'B01001_007E': 'male_18_to_19', 'B01001_008E': 'male_20', 'B01001_009E': 'male_21', 'B01001_010E': 'male_22_to_24', 'B01001_020E': 'male_65_to_66',\n",
    "    'B01001_021E': 'male_67_to_69', 'B01001_022E': 'male_70_to_74', 'B01001_023E': 'male_75_to_79', 'B01001_024E': 'male_80_to_84', 'B01001_025E': 'male_85_and_over',\n",
    "    'B01001_027E': 'female_under_5', 'B01001_028E': 'female_5_to_9', 'B01001_029E': 'female_10_to_14', 'B01001_030E': 'female_15_to_17', 'B01001_031E': 'female_18_to_19',\n",
    "    'B01001_032E': 'female_20', 'B01001_033E': 'female_21', 'B01001_034E': 'female_22_to_24', 'B01001_044E': 'female_65_to_66', 'B01001_045E': 'female_67_to_69', \n",
    "    'B01001_046E': 'female_70_to_74', 'B01001_047E': 'female_75_to_79', 'B01001_048E': 'female_80_to_84', 'B01001_049E': 'female_85_and_over', 'B06010_004E': 'income_less_10000', \n",
    "    'B06010_005E': 'income_10000_14999', 'B06010_006E': 'income_15000_24999', 'B06010_007E': 'income_25000_34999', 'B06010_008E': 'income_35000_49999', 'B06010_009E': 'income_50000_64999',\n",
    "    'B06010_010E': 'income_65000_74999'\n",
    "\n",
    "})"
   ]
  },
  {
   "cell_type": "code",
   "execution_count": 101,
   "id": "a53bc9d2-7402-40c3-b4ff-ee124ba93bf0",
   "metadata": {
    "tags": []
   },
   "outputs": [
    {
     "data": {
      "text/html": [
       "<div>\n",
       "<style scoped>\n",
       "    .dataframe tbody tr th:only-of-type {\n",
       "        vertical-align: middle;\n",
       "    }\n",
       "\n",
       "    .dataframe tbody tr th {\n",
       "        vertical-align: top;\n",
       "    }\n",
       "\n",
       "    .dataframe thead th {\n",
       "        text-align: right;\n",
       "    }\n",
       "</style>\n",
       "<table border=\"1\" class=\"dataframe\">\n",
       "  <thead>\n",
       "    <tr style=\"text-align: right;\">\n",
       "      <th></th>\n",
       "      <th>total_pop</th>\n",
       "      <th>households</th>\n",
       "      <th>not_us_citizen_pop</th>\n",
       "      <th>black_pop</th>\n",
       "      <th>hispanic_pop</th>\n",
       "      <th>pop_determined_poverty_status</th>\n",
       "      <th>workers_with_no_car</th>\n",
       "      <th>households_with_no_cars</th>\n",
       "      <th>male_under_5</th>\n",
       "      <th>male_5_to_9</th>\n",
       "      <th>...</th>\n",
       "      <th>female_80_to_84</th>\n",
       "      <th>female_85_and_over</th>\n",
       "      <th>income_less_10000</th>\n",
       "      <th>income_10000_14999</th>\n",
       "      <th>income_15000_24999</th>\n",
       "      <th>income_25000_34999</th>\n",
       "      <th>income_35000_49999</th>\n",
       "      <th>income_50000_64999</th>\n",
       "      <th>income_65000_74999</th>\n",
       "      <th>GEOID</th>\n",
       "    </tr>\n",
       "  </thead>\n",
       "  <tbody>\n",
       "    <tr>\n",
       "      <th>0</th>\n",
       "      <td>3094</td>\n",
       "      <td>582</td>\n",
       "      <td>264</td>\n",
       "      <td>137</td>\n",
       "      <td>200</td>\n",
       "      <td>3075</td>\n",
       "      <td>28</td>\n",
       "      <td>85</td>\n",
       "      <td>69</td>\n",
       "      <td>106</td>\n",
       "      <td>...</td>\n",
       "      <td>105</td>\n",
       "      <td>107</td>\n",
       "      <td>188</td>\n",
       "      <td>75</td>\n",
       "      <td>134</td>\n",
       "      <td>157</td>\n",
       "      <td>87</td>\n",
       "      <td>129</td>\n",
       "      <td>70</td>\n",
       "      <td>06001400100</td>\n",
       "    </tr>\n",
       "    <tr>\n",
       "      <th>1</th>\n",
       "      <td>2093</td>\n",
       "      <td>361</td>\n",
       "      <td>96</td>\n",
       "      <td>71</td>\n",
       "      <td>196</td>\n",
       "      <td>2093</td>\n",
       "      <td>92</td>\n",
       "      <td>95</td>\n",
       "      <td>63</td>\n",
       "      <td>60</td>\n",
       "      <td>...</td>\n",
       "      <td>34</td>\n",
       "      <td>13</td>\n",
       "      <td>75</td>\n",
       "      <td>70</td>\n",
       "      <td>89</td>\n",
       "      <td>12</td>\n",
       "      <td>207</td>\n",
       "      <td>77</td>\n",
       "      <td>32</td>\n",
       "      <td>06001400200</td>\n",
       "    </tr>\n",
       "    <tr>\n",
       "      <th>2</th>\n",
       "      <td>5727</td>\n",
       "      <td>978</td>\n",
       "      <td>306</td>\n",
       "      <td>524</td>\n",
       "      <td>497</td>\n",
       "      <td>5707</td>\n",
       "      <td>157</td>\n",
       "      <td>416</td>\n",
       "      <td>78</td>\n",
       "      <td>185</td>\n",
       "      <td>...</td>\n",
       "      <td>13</td>\n",
       "      <td>142</td>\n",
       "      <td>383</td>\n",
       "      <td>201</td>\n",
       "      <td>300</td>\n",
       "      <td>251</td>\n",
       "      <td>400</td>\n",
       "      <td>148</td>\n",
       "      <td>291</td>\n",
       "      <td>06001400300</td>\n",
       "    </tr>\n",
       "    <tr>\n",
       "      <th>3</th>\n",
       "      <td>4395</td>\n",
       "      <td>1027</td>\n",
       "      <td>185</td>\n",
       "      <td>457</td>\n",
       "      <td>604</td>\n",
       "      <td>4351</td>\n",
       "      <td>134</td>\n",
       "      <td>204</td>\n",
       "      <td>125</td>\n",
       "      <td>115</td>\n",
       "      <td>...</td>\n",
       "      <td>23</td>\n",
       "      <td>30</td>\n",
       "      <td>187</td>\n",
       "      <td>105</td>\n",
       "      <td>287</td>\n",
       "      <td>215</td>\n",
       "      <td>207</td>\n",
       "      <td>178</td>\n",
       "      <td>87</td>\n",
       "      <td>06001400400</td>\n",
       "    </tr>\n",
       "    <tr>\n",
       "      <th>4</th>\n",
       "      <td>3822</td>\n",
       "      <td>535</td>\n",
       "      <td>231</td>\n",
       "      <td>919</td>\n",
       "      <td>557</td>\n",
       "      <td>3816</td>\n",
       "      <td>74</td>\n",
       "      <td>169</td>\n",
       "      <td>128</td>\n",
       "      <td>115</td>\n",
       "      <td>...</td>\n",
       "      <td>60</td>\n",
       "      <td>203</td>\n",
       "      <td>256</td>\n",
       "      <td>91</td>\n",
       "      <td>244</td>\n",
       "      <td>213</td>\n",
       "      <td>385</td>\n",
       "      <td>387</td>\n",
       "      <td>244</td>\n",
       "      <td>06001400500</td>\n",
       "    </tr>\n",
       "  </tbody>\n",
       "</table>\n",
       "<p>5 rows × 44 columns</p>\n",
       "</div>"
      ],
      "text/plain": [
       "   total_pop  households  not_us_citizen_pop  black_pop  hispanic_pop  \\\n",
       "0       3094         582                 264        137           200   \n",
       "1       2093         361                  96         71           196   \n",
       "2       5727         978                 306        524           497   \n",
       "3       4395        1027                 185        457           604   \n",
       "4       3822         535                 231        919           557   \n",
       "\n",
       "   pop_determined_poverty_status  workers_with_no_car  \\\n",
       "0                           3075                   28   \n",
       "1                           2093                   92   \n",
       "2                           5707                  157   \n",
       "3                           4351                  134   \n",
       "4                           3816                   74   \n",
       "\n",
       "   households_with_no_cars  male_under_5  male_5_to_9  ...  female_80_to_84  \\\n",
       "0                       85            69          106  ...              105   \n",
       "1                       95            63           60  ...               34   \n",
       "2                      416            78          185  ...               13   \n",
       "3                      204           125          115  ...               23   \n",
       "4                      169           128          115  ...               60   \n",
       "\n",
       "   female_85_and_over  income_less_10000  income_10000_14999  \\\n",
       "0                 107                188                  75   \n",
       "1                  13                 75                  70   \n",
       "2                 142                383                 201   \n",
       "3                  30                187                 105   \n",
       "4                 203                256                  91   \n",
       "\n",
       "   income_15000_24999  income_25000_34999  income_35000_49999  \\\n",
       "0                 134                 157                  87   \n",
       "1                  89                  12                 207   \n",
       "2                 300                 251                 400   \n",
       "3                 287                 215                 207   \n",
       "4                 244                 213                 385   \n",
       "\n",
       "   income_50000_64999  income_65000_74999        GEOID  \n",
       "0                 129                  70  06001400100  \n",
       "1                  77                  32  06001400200  \n",
       "2                 148                 291  06001400300  \n",
       "3                 178                  87  06001400400  \n",
       "4                 387                 244  06001400500  \n",
       "\n",
       "[5 rows x 44 columns]"
      ]
     },
     "execution_count": 101,
     "metadata": {},
     "output_type": "execute_result"
    }
   ],
   "source": [
    "census_data.head(5)"
   ]
  },
  {
   "cell_type": "code",
   "execution_count": 102,
   "id": "ebce4506-f509-4d9f-93b2-493c8c6dd4e9",
   "metadata": {},
   "outputs": [],
   "source": [
    "census_data['inc_extremelylow'] = census_data['income_less_10000'] + census_data['income_10000_14999'] + census_data['income_15000_24999']\n",
    "census_data['inc_verylow'] = census_data['income_25000_34999'] + census_data['income_35000_49999']\n",
    "census_data['inc_low'] = census_data['income_50000_64999'] + census_data['income_65000_74999']"
   ]
  },
  {
   "cell_type": "code",
   "execution_count": 104,
   "id": "e7cedea0-3265-45e5-804f-6429fd930937",
   "metadata": {
    "tags": []
   },
   "outputs": [],
   "source": [
    "census_data['male_youth'] = census_data.loc[:,\"male_under_5\":\"male_22_to_24\"].sum(axis=1)\n",
    "census_data['female_youth'] = census_data.loc[:,\"female_under_5\":\"female_22_to_24\"].sum(axis=1)\n",
    "\n",
    "census_data['male_seniors'] = census_data.loc[:, \"male_65_to_66\":\"male_85_and_over\"].sum(axis=1)\n",
    "census_data['female_seniors'] = census_data.loc[:, \"female_65_to_66\":\"female_85_and_over\"].sum(axis=1)"
   ]
  },
  {
   "cell_type": "code",
   "execution_count": 106,
   "id": "ba52a376-e84c-48ea-b6b6-fc2893a12acf",
   "metadata": {
    "tags": []
   },
   "outputs": [
    {
     "data": {
      "text/plain": [
       "Index(['total_pop', 'households', 'not_us_citizen_pop', 'black_pop',\n",
       "       'hispanic_pop', 'pop_determined_poverty_status', 'workers_with_no_car',\n",
       "       'households_with_no_cars', 'male_under_5', 'male_5_to_9',\n",
       "       'male_10_to_14', 'male_15_to_17', 'male_18_to_19', 'male_20', 'male_21',\n",
       "       'male_22_to_24', 'male_65_to_66', 'male_67_to_69', 'male_70_to_74',\n",
       "       'male_75_to_79', 'male_80_to_84', 'male_85_and_over', 'female_under_5',\n",
       "       'female_5_to_9', 'female_10_to_14', 'female_15_to_17',\n",
       "       'female_18_to_19', 'female_20', 'female_21', 'female_22_to_24',\n",
       "       'female_65_to_66', 'female_67_to_69', 'female_70_to_74',\n",
       "       'female_75_to_79', 'female_80_to_84', 'female_85_and_over',\n",
       "       'income_less_10000', 'income_10000_14999', 'income_15000_24999',\n",
       "       'income_25000_34999', 'income_35000_49999', 'income_50000_64999',\n",
       "       'income_65000_74999', 'GEOID', 'inc_extremelylow', 'inc_verylow',\n",
       "       'inc_low', 'male_youth', 'female_youth', 'male_seniors',\n",
       "       'female_seniors'],\n",
       "      dtype='object')"
      ]
     },
     "execution_count": 106,
     "metadata": {},
     "output_type": "execute_result"
    }
   ],
   "source": [
    "census_data.columns"
   ]
  },
  {
   "cell_type": "code",
   "execution_count": null,
   "id": "74ffa317-0f3e-4016-85c5-bd524d4e0e6d",
   "metadata": {},
   "outputs": [],
   "source": []
  }
 ],
 "metadata": {
  "kernelspec": {
   "display_name": "Python 3 (ipykernel)",
   "language": "python",
   "name": "python3"
  },
  "language_info": {
   "codemirror_mode": {
    "name": "ipython",
    "version": 3
   },
   "file_extension": ".py",
   "mimetype": "text/x-python",
   "name": "python",
   "nbconvert_exporter": "python",
   "pygments_lexer": "ipython3",
   "version": "3.11.10"
  }
 },
 "nbformat": 4,
 "nbformat_minor": 5
}
