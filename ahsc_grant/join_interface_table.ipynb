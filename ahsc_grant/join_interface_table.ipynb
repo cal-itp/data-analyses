{
 "cells": [
  {
   "cell_type": "code",
   "execution_count": 1,
   "id": "d0f5f51d-a0bf-4e7e-a824-bcfa80a9ac62",
   "metadata": {},
   "outputs": [
    {
     "name": "stderr",
     "output_type": "stream",
     "text": [
      "/opt/conda/lib/python3.10/site-packages/geopandas/_compat.py:123: UserWarning: The Shapely GEOS version (3.10.3-CAPI-1.16.1) is incompatible with the GEOS version PyGEOS was compiled with (3.10.1-CAPI-1.16.0). Conversions between both will be slow.\n"
     ]
    }
   ],
   "source": [
    "import os\n",
    "os.environ[\"CALITP_BQ_MAX_BYTES\"] = str(800_000_000_000) ## 800GB?\n",
    "\n",
    "import shared_utils\n",
    "\n",
    "from siuba import *\n",
    "import pandas as pd\n",
    "import geopandas as gpd\n",
    "\n",
    "pd.set_option('display.max_columns', None) \n",
    "\n",
    "import datetime as dt\n",
    "import time\n",
    "\n",
    "from calitp import get_engine\n",
    "from calitp.tables import tbls\n",
    "\n",
    "engine = get_engine()\n",
    "connection = engine.connect()\n",
    "\n",
    "GCS_FILE_PATH = 'gs://calitp-analytics-data/data-analyses/ahsc_grant/'\n",
    "\n",
    "import gcsfs\n",
    "fs = gcsfs.GCSFileSystem()"
   ]
  },
  {
   "cell_type": "markdown",
   "id": "2a8c2776-6ff9-4c63-981e-87f6abdecd1e",
   "metadata": {},
   "source": [
    "# Collating Big Stop Table"
   ]
  },
  {
   "cell_type": "code",
   "execution_count": null,
   "id": "71299a1a-4544-4f61-9127-1de7bbddae06",
   "metadata": {},
   "outputs": [],
   "source": [
    "# read in and concatenate all geoparquets\n",
    "\n",
    "# define spatial relationship\n",
    "\n",
    "# add spatially lagged factors\n",
    "\n",
    "# multiply by coefficients, create stop-specific ridership factor, baseline ridership"
   ]
  }
 ],
 "metadata": {
  "kernelspec": {
   "display_name": "Python 3 (ipykernel)",
   "language": "python",
   "name": "python3"
  },
  "language_info": {
   "codemirror_mode": {
    "name": "ipython",
    "version": 3
   },
   "file_extension": ".py",
   "mimetype": "text/x-python",
   "name": "python",
   "nbconvert_exporter": "python",
   "pygments_lexer": "ipython3",
   "version": "3.10.6"
  }
 },
 "nbformat": 4,
 "nbformat_minor": 5
}
