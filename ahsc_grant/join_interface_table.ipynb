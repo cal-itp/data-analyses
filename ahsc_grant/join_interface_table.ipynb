{
 "cells": [
  {
   "cell_type": "code",
   "execution_count": 1,
   "id": "d0f5f51d-a0bf-4e7e-a824-bcfa80a9ac62",
   "metadata": {},
   "outputs": [
    {
     "name": "stderr",
     "output_type": "stream",
     "text": [
      "/opt/conda/lib/python3.9/site-packages/geopandas/_compat.py:123: UserWarning: The Shapely GEOS version (3.10.3-CAPI-1.16.1) is incompatible with the GEOS version PyGEOS was compiled with (3.10.1-CAPI-1.16.0). Conversions between both will be slow.\n"
     ]
    }
   ],
   "source": [
    "import os\n",
    "os.environ[\"CALITP_BQ_MAX_BYTES\"] = str(800_000_000_000) ## 800GB?\n",
    "\n",
    "import shared_utils\n",
    "\n",
    "from siuba import *\n",
    "import pandas as pd\n",
    "import geopandas as gpd\n",
    "\n",
    "pd.set_option('display.max_columns', None) \n",
    "\n",
    "import datetime as dt\n",
    "import time\n",
    "\n",
    "from calitp import get_engine\n",
    "from calitp.tables import tbls\n",
    "\n",
    "engine = get_engine()\n",
    "connection = engine.connect()\n",
    "\n",
    "GCS_FILE_PATH = 'gs://calitp-analytics-data/data-analyses/ahsc_grant/'\n",
    "\n",
    "import gcsfs\n",
    "fs = gcsfs.GCSFileSystem()"
   ]
  },
  {
   "cell_type": "markdown",
   "id": "2a8c2776-6ff9-4c63-981e-87f6abdecd1e",
   "metadata": {},
   "source": [
    "# Collating Big Stop Table"
   ]
  },
  {
   "cell_type": "code",
   "execution_count": 2,
   "id": "1c5fc078-c353-4591-a01c-fa3c6670ced4",
   "metadata": {},
   "outputs": [],
   "source": [
    "# read in and concatenate all geoparquets\n",
    "fs_list = fs.ls(f\"{GCS_FILE_PATH}tool_data/\")\n",
    "\n",
    "#fs_list[1:]"
   ]
  },
  {
   "cell_type": "code",
   "execution_count": 3,
   "id": "15b35280-16c9-4347-8e9f-19bcdd7b867e",
   "metadata": {},
   "outputs": [
    {
     "name": "stdout",
     "output_type": "stream",
     "text": [
      "error on ['calitp-analytics-data/data-analyses/ahsc_grant/', 'trips_perstop_116.parquet']\n",
      "error on ['calitp-analytics-data/data-analyses/ahsc_grant/', 'trips_perstop_118.parquet']\n",
      "error on ['calitp-analytics-data/data-analyses/ahsc_grant/', 'trips_perstop_186.parquet']\n",
      "error on ['calitp-analytics-data/data-analyses/ahsc_grant/', 'trips_perstop_199.parquet']\n",
      "error on ['calitp-analytics-data/data-analyses/ahsc_grant/', 'trips_perstop_21.parquet']\n",
      "error on ['calitp-analytics-data/data-analyses/ahsc_grant/', 'trips_perstop_212.parquet']\n",
      "error on ['calitp-analytics-data/data-analyses/ahsc_grant/', 'trips_perstop_213.parquet']\n",
      "error on ['calitp-analytics-data/data-analyses/ahsc_grant/', 'trips_perstop_216.parquet']\n",
      "error on ['calitp-analytics-data/data-analyses/ahsc_grant/', 'trips_perstop_23.parquet']\n",
      "error on ['calitp-analytics-data/data-analyses/ahsc_grant/', 'trips_perstop_254.parquet']\n",
      "error on ['calitp-analytics-data/data-analyses/ahsc_grant/', 'trips_perstop_277.parquet']\n",
      "error on ['calitp-analytics-data/data-analyses/ahsc_grant/', 'trips_perstop_32.parquet']\n",
      "error on ['calitp-analytics-data/data-analyses/ahsc_grant/', 'trips_perstop_330.parquet']\n",
      "error on ['calitp-analytics-data/data-analyses/ahsc_grant/', 'trips_perstop_338.parquet']\n",
      "error on ['calitp-analytics-data/data-analyses/ahsc_grant/', 'trips_perstop_341.parquet']\n",
      "error on ['calitp-analytics-data/data-analyses/ahsc_grant/', 'trips_perstop_365.parquet']\n",
      "error on ['calitp-analytics-data/data-analyses/ahsc_grant/', 'trips_perstop_379.parquet']\n",
      "error on ['calitp-analytics-data/data-analyses/ahsc_grant/', 'trips_perstop_394.parquet']\n",
      "error on ['calitp-analytics-data/data-analyses/ahsc_grant/', 'trips_perstop_41.parquet']\n",
      "error on ['calitp-analytics-data/data-analyses/ahsc_grant/', 'trips_perstop_47.parquet']\n",
      "error on ['calitp-analytics-data/data-analyses/ahsc_grant/', 'trips_perstop_54.parquet']\n",
      "error on ['calitp-analytics-data/data-analyses/ahsc_grant/', 'trips_perstop_91.parquet']\n",
      "error on ['calitp-analytics-data/data-analyses/ahsc_grant/', 'trips_perstop_97.parquet']\n"
     ]
    }
   ],
   "source": [
    "filelist = []\n",
    "for f in fs_list[1:]:\n",
    "    try: \n",
    "        test_gpqt = gpd.read_parquet(f\"gs://{f}\")\n",
    "        filelist.append(f)\n",
    "    except:\n",
    "        print(f\"error on {f.split('tool_data/')}\")\n",
    "        \n",
    "#filelist"
   ]
  },
  {
   "cell_type": "code",
   "execution_count": 10,
   "id": "329e630c-9b83-434c-bb31-be666ecc8b4a",
   "metadata": {},
   "outputs": [],
   "source": [
    "gdf_wkd = (pd.concat(\n",
    "        gpd.read_parquet(f\"gs://{f}\")\n",
    "        for f in filelist\n",
    "        )\n",
    "           >> filter(_.daytype==\"Weekday\")\n",
    "          )"
   ]
  },
  {
   "cell_type": "code",
   "execution_count": 11,
   "id": "0dfc73d5-29be-4422-a5a1-ade66df0a43b",
   "metadata": {},
   "outputs": [
    {
     "data": {
      "text/html": [
       "<div>\n",
       "<style scoped>\n",
       "    .dataframe tbody tr th:only-of-type {\n",
       "        vertical-align: middle;\n",
       "    }\n",
       "\n",
       "    .dataframe tbody tr th {\n",
       "        vertical-align: top;\n",
       "    }\n",
       "\n",
       "    .dataframe thead th {\n",
       "        text-align: right;\n",
       "    }\n",
       "</style>\n",
       "<table border=\"1\" class=\"dataframe\">\n",
       "  <thead>\n",
       "    <tr style=\"text-align: right;\">\n",
       "      <th></th>\n",
       "      <th>calitp_itp_id</th>\n",
       "      <th>stop_name</th>\n",
       "      <th>stop_id</th>\n",
       "      <th>geometry</th>\n",
       "      <th>n_trips</th>\n",
       "      <th>n_routes</th>\n",
       "      <th>daytype</th>\n",
       "      <th>analysis_date</th>\n",
       "      <th>sum_tracts</th>\n",
       "      <th>sum_total_pop</th>\n",
       "      <th>sum_households</th>\n",
       "      <th>sum_not_us_citizen_pop</th>\n",
       "      <th>sum_youth_pop</th>\n",
       "      <th>sum_seniors_pop</th>\n",
       "      <th>sum_pop_determined_poverty_status</th>\n",
       "      <th>sum_poverty</th>\n",
       "      <th>sum_no_car</th>\n",
       "      <th>sum_no_cars</th>\n",
       "      <th>sum_land_area</th>\n",
       "      <th>sum_jobs</th>\n",
       "      <th>land_area_sqkm</th>\n",
       "      <th>pop_density</th>\n",
       "      <th>job_density</th>\n",
       "      <th>pct_not_us_citizen_pop</th>\n",
       "      <th>pct_youth_pop</th>\n",
       "      <th>pct_seniors_pop</th>\n",
       "      <th>pct_poverty</th>\n",
       "      <th>pct_pop_workers_no_car</th>\n",
       "      <th>pct_hh_no_cars</th>\n",
       "    </tr>\n",
       "  </thead>\n",
       "  <tbody>\n",
       "    <tr>\n",
       "      <th>0</th>\n",
       "      <td>10</td>\n",
       "      <td>Stockton Station</td>\n",
       "      <td>3400001</td>\n",
       "      <td>POINT (-121.27895 37.95706)</td>\n",
       "      <td>8</td>\n",
       "      <td>0</td>\n",
       "      <td>Weekday</td>\n",
       "      <td>2022-11-02</td>\n",
       "      <td>3</td>\n",
       "      <td>16656.0</td>\n",
       "      <td>6416.0</td>\n",
       "      <td>4894.0</td>\n",
       "      <td>6072.0</td>\n",
       "      <td>1520.0</td>\n",
       "      <td>16456.0</td>\n",
       "      <td>7588.0</td>\n",
       "      <td>804.0</td>\n",
       "      <td>2460.0</td>\n",
       "      <td>7572848.0</td>\n",
       "      <td>36500.0</td>\n",
       "      <td>7.572848</td>\n",
       "      <td>2199.436724</td>\n",
       "      <td>4819.851131</td>\n",
       "      <td>29.382805</td>\n",
       "      <td>36.455331</td>\n",
       "      <td>9.125841</td>\n",
       "      <td>46.110841</td>\n",
       "      <td>4.827089</td>\n",
       "      <td>38.341646</td>\n",
       "    </tr>\n",
       "    <tr>\n",
       "      <th>1</th>\n",
       "      <td>10</td>\n",
       "      <td>Stockton Station</td>\n",
       "      <td>3400001</td>\n",
       "      <td>POINT (-121.27895 37.95706)</td>\n",
       "      <td>8</td>\n",
       "      <td>0</td>\n",
       "      <td>Weekday</td>\n",
       "      <td>2022-11-02</td>\n",
       "      <td>3</td>\n",
       "      <td>16656.0</td>\n",
       "      <td>6416.0</td>\n",
       "      <td>4894.0</td>\n",
       "      <td>6072.0</td>\n",
       "      <td>1520.0</td>\n",
       "      <td>16456.0</td>\n",
       "      <td>7588.0</td>\n",
       "      <td>804.0</td>\n",
       "      <td>2460.0</td>\n",
       "      <td>7572848.0</td>\n",
       "      <td>36500.0</td>\n",
       "      <td>7.572848</td>\n",
       "      <td>2199.436724</td>\n",
       "      <td>4819.851131</td>\n",
       "      <td>29.382805</td>\n",
       "      <td>36.455331</td>\n",
       "      <td>9.125841</td>\n",
       "      <td>46.110841</td>\n",
       "      <td>4.827089</td>\n",
       "      <td>38.341646</td>\n",
       "    </tr>\n",
       "    <tr>\n",
       "      <th>2</th>\n",
       "      <td>10</td>\n",
       "      <td>Lathrop/Manteca Station</td>\n",
       "      <td>3400002</td>\n",
       "      <td>POINT (-121.26366 37.79791)</td>\n",
       "      <td>8</td>\n",
       "      <td>0</td>\n",
       "      <td>Weekday</td>\n",
       "      <td>2022-11-02</td>\n",
       "      <td>2</td>\n",
       "      <td>30612.0</td>\n",
       "      <td>8320.0</td>\n",
       "      <td>4548.0</td>\n",
       "      <td>11340.0</td>\n",
       "      <td>2630.0</td>\n",
       "      <td>30588.0</td>\n",
       "      <td>2742.0</td>\n",
       "      <td>54.0</td>\n",
       "      <td>92.0</td>\n",
       "      <td>94456838.0</td>\n",
       "      <td>24000.0</td>\n",
       "      <td>94.456838</td>\n",
       "      <td>324.084531</td>\n",
       "      <td>254.084305</td>\n",
       "      <td>14.856919</td>\n",
       "      <td>37.044296</td>\n",
       "      <td>8.591402</td>\n",
       "      <td>8.964300</td>\n",
       "      <td>0.176401</td>\n",
       "      <td>1.105769</td>\n",
       "    </tr>\n",
       "    <tr>\n",
       "      <th>3</th>\n",
       "      <td>10</td>\n",
       "      <td>Lathrop/Manteca Station</td>\n",
       "      <td>3400002</td>\n",
       "      <td>POINT (-121.26366 37.79791)</td>\n",
       "      <td>8</td>\n",
       "      <td>0</td>\n",
       "      <td>Weekday</td>\n",
       "      <td>2022-11-02</td>\n",
       "      <td>2</td>\n",
       "      <td>30612.0</td>\n",
       "      <td>8320.0</td>\n",
       "      <td>4548.0</td>\n",
       "      <td>11340.0</td>\n",
       "      <td>2630.0</td>\n",
       "      <td>30588.0</td>\n",
       "      <td>2742.0</td>\n",
       "      <td>54.0</td>\n",
       "      <td>92.0</td>\n",
       "      <td>94456838.0</td>\n",
       "      <td>24000.0</td>\n",
       "      <td>94.456838</td>\n",
       "      <td>324.084531</td>\n",
       "      <td>254.084305</td>\n",
       "      <td>14.856919</td>\n",
       "      <td>37.044296</td>\n",
       "      <td>8.591402</td>\n",
       "      <td>8.964300</td>\n",
       "      <td>0.176401</td>\n",
       "      <td>1.105769</td>\n",
       "    </tr>\n",
       "    <tr>\n",
       "      <th>4</th>\n",
       "      <td>10</td>\n",
       "      <td>Tracy Station</td>\n",
       "      <td>3400003</td>\n",
       "      <td>POINT (-121.43387 37.69647)</td>\n",
       "      <td>8</td>\n",
       "      <td>0</td>\n",
       "      <td>Weekday</td>\n",
       "      <td>2022-11-02</td>\n",
       "      <td>3</td>\n",
       "      <td>42968.0</td>\n",
       "      <td>11960.0</td>\n",
       "      <td>3100.0</td>\n",
       "      <td>17280.0</td>\n",
       "      <td>2986.0</td>\n",
       "      <td>42884.0</td>\n",
       "      <td>2024.0</td>\n",
       "      <td>340.0</td>\n",
       "      <td>194.0</td>\n",
       "      <td>800367410.0</td>\n",
       "      <td>6538.0</td>\n",
       "      <td>800.367410</td>\n",
       "      <td>53.685344</td>\n",
       "      <td>8.168748</td>\n",
       "      <td>7.214671</td>\n",
       "      <td>40.215975</td>\n",
       "      <td>6.949358</td>\n",
       "      <td>4.719709</td>\n",
       "      <td>0.791287</td>\n",
       "      <td>1.622074</td>\n",
       "    </tr>\n",
       "  </tbody>\n",
       "</table>\n",
       "</div>"
      ],
      "text/plain": [
       "   calitp_itp_id                stop_name  stop_id  \\\n",
       "0             10         Stockton Station  3400001   \n",
       "1             10         Stockton Station  3400001   \n",
       "2             10  Lathrop/Manteca Station  3400002   \n",
       "3             10  Lathrop/Manteca Station  3400002   \n",
       "4             10            Tracy Station  3400003   \n",
       "\n",
       "                      geometry  n_trips  n_routes  daytype analysis_date  \\\n",
       "0  POINT (-121.27895 37.95706)        8         0  Weekday    2022-11-02   \n",
       "1  POINT (-121.27895 37.95706)        8         0  Weekday    2022-11-02   \n",
       "2  POINT (-121.26366 37.79791)        8         0  Weekday    2022-11-02   \n",
       "3  POINT (-121.26366 37.79791)        8         0  Weekday    2022-11-02   \n",
       "4  POINT (-121.43387 37.69647)        8         0  Weekday    2022-11-02   \n",
       "\n",
       "   sum_tracts  sum_total_pop  sum_households  sum_not_us_citizen_pop  \\\n",
       "0           3        16656.0          6416.0                  4894.0   \n",
       "1           3        16656.0          6416.0                  4894.0   \n",
       "2           2        30612.0          8320.0                  4548.0   \n",
       "3           2        30612.0          8320.0                  4548.0   \n",
       "4           3        42968.0         11960.0                  3100.0   \n",
       "\n",
       "   sum_youth_pop  sum_seniors_pop  sum_pop_determined_poverty_status  \\\n",
       "0         6072.0           1520.0                            16456.0   \n",
       "1         6072.0           1520.0                            16456.0   \n",
       "2        11340.0           2630.0                            30588.0   \n",
       "3        11340.0           2630.0                            30588.0   \n",
       "4        17280.0           2986.0                            42884.0   \n",
       "\n",
       "   sum_poverty  sum_no_car  sum_no_cars  sum_land_area  sum_jobs  \\\n",
       "0       7588.0       804.0       2460.0      7572848.0   36500.0   \n",
       "1       7588.0       804.0       2460.0      7572848.0   36500.0   \n",
       "2       2742.0        54.0         92.0     94456838.0   24000.0   \n",
       "3       2742.0        54.0         92.0     94456838.0   24000.0   \n",
       "4       2024.0       340.0        194.0    800367410.0    6538.0   \n",
       "\n",
       "   land_area_sqkm  pop_density  job_density  pct_not_us_citizen_pop  \\\n",
       "0        7.572848  2199.436724  4819.851131               29.382805   \n",
       "1        7.572848  2199.436724  4819.851131               29.382805   \n",
       "2       94.456838   324.084531   254.084305               14.856919   \n",
       "3       94.456838   324.084531   254.084305               14.856919   \n",
       "4      800.367410    53.685344     8.168748                7.214671   \n",
       "\n",
       "   pct_youth_pop  pct_seniors_pop  pct_poverty  pct_pop_workers_no_car  \\\n",
       "0      36.455331         9.125841    46.110841                4.827089   \n",
       "1      36.455331         9.125841    46.110841                4.827089   \n",
       "2      37.044296         8.591402     8.964300                0.176401   \n",
       "3      37.044296         8.591402     8.964300                0.176401   \n",
       "4      40.215975         6.949358     4.719709                0.791287   \n",
       "\n",
       "   pct_hh_no_cars  \n",
       "0       38.341646  \n",
       "1       38.341646  \n",
       "2        1.105769  \n",
       "3        1.105769  \n",
       "4        1.622074  "
      ]
     },
     "execution_count": 11,
     "metadata": {},
     "output_type": "execute_result"
    }
   ],
   "source": [
    "gdf_wkd.head()"
   ]
  },
  {
   "cell_type": "code",
   "execution_count": 16,
   "id": "ec183e0a-54ca-4e8c-bd72-3b94dc2b29c4",
   "metadata": {},
   "outputs": [
    {
     "name": "stdout",
     "output_type": "stream",
     "text": [
      "<class 'geopandas.geodataframe.GeoDataFrame'>\n",
      "Int64Index: 103376 entries, 0 to 111\n",
      "Data columns (total 29 columns):\n",
      " #   Column                             Non-Null Count   Dtype   \n",
      "---  ------                             --------------   -----   \n",
      " 0   calitp_itp_id                      103376 non-null  int64   \n",
      " 1   stop_name                          103376 non-null  object  \n",
      " 2   stop_id                            103376 non-null  object  \n",
      " 3   geometry                           103376 non-null  geometry\n",
      " 4   n_trips                            103376 non-null  int64   \n",
      " 5   n_routes                           103376 non-null  int64   \n",
      " 6   daytype                            103376 non-null  object  \n",
      " 7   analysis_date                      103376 non-null  object  \n",
      " 8   sum_tracts                         103376 non-null  int64   \n",
      " 9   sum_total_pop                      103376 non-null  float64 \n",
      " 10  sum_households                     103376 non-null  float64 \n",
      " 11  sum_not_us_citizen_pop             103376 non-null  float64 \n",
      " 12  sum_youth_pop                      103376 non-null  float64 \n",
      " 13  sum_seniors_pop                    103376 non-null  float64 \n",
      " 14  sum_pop_determined_poverty_status  103376 non-null  float64 \n",
      " 15  sum_poverty                        103376 non-null  float64 \n",
      " 16  sum_no_car                         103376 non-null  float64 \n",
      " 17  sum_no_cars                        103376 non-null  float64 \n",
      " 18  sum_land_area                      103376 non-null  float64 \n",
      " 19  sum_jobs                           103376 non-null  float64 \n",
      " 20  land_area_sqkm                     103376 non-null  float64 \n",
      " 21  pop_density                        102565 non-null  float64 \n",
      " 22  job_density                        102565 non-null  float64 \n",
      " 23  pct_not_us_citizen_pop             102422 non-null  float64 \n",
      " 24  pct_youth_pop                      102422 non-null  float64 \n",
      " 25  pct_seniors_pop                    102422 non-null  float64 \n",
      " 26  pct_poverty                        102358 non-null  float64 \n",
      " 27  pct_pop_workers_no_car             102422 non-null  float64 \n",
      " 28  pct_hh_no_cars                     102358 non-null  float64 \n",
      "dtypes: float64(20), geometry(1), int64(4), object(4)\n",
      "memory usage: 23.7+ MB\n"
     ]
    }
   ],
   "source": [
    "gdf_wkd.info()"
   ]
  },
  {
   "cell_type": "code",
   "execution_count": 19,
   "id": "b4dc291a-b5d7-4a1a-9b65-b51163d105ff",
   "metadata": {},
   "outputs": [
    {
     "data": {
      "text/plain": [
       "1     66212\n",
       "2     21511\n",
       "3      5441\n",
       "4      4367\n",
       "0      1949\n",
       "6      1696\n",
       "5       722\n",
       "8       709\n",
       "7       213\n",
       "10      209\n",
       "9       184\n",
       "12       55\n",
       "14       52\n",
       "13       14\n",
       "11       13\n",
       "18        8\n",
       "20        6\n",
       "16        4\n",
       "24        3\n",
       "17        2\n",
       "19        2\n",
       "23        2\n",
       "15        2\n",
       "Name: n_routes, dtype: int64"
      ]
     },
     "execution_count": 19,
     "metadata": {},
     "output_type": "execute_result"
    }
   ],
   "source": [
    "gdf_wkd.n_routes.value_counts()\n",
    "\n",
    "#~2000 stops with no associated routes; missing route_id?"
   ]
  },
  {
   "cell_type": "markdown",
   "id": "0512d39f-246e-4c5f-9321-f97154ef4818",
   "metadata": {},
   "source": [
    "Note: Running into memory issues adding spatial weights matrix. Proceeding without spatially-lagged factors for now."
   ]
  },
  {
   "cell_type": "code",
   "execution_count": 5,
   "id": "9678008a-699e-41b1-811a-18e2aaafb64f",
   "metadata": {},
   "outputs": [],
   "source": [
    "# put coefficients into arrays - variable order from spatial_regression_exploration_kmk\n",
    "# in future, save out coefficients somewhere \n",
    "import numpy as np\n",
    "\n",
    "wkd_coeff = np.array([-0.1610594,0.0001214,-0.0000173,0.0224169,-0.0152673,-0.0505976,-0.0423512,0.0111763])\n",
    "sat_coeff = np.array([-0.1424400,0.0001344,-0.0000186,0.0256008,-0.0169793,-0.0408743,-0.0419725,0.0126354])\n",
    "sun_coeff = np.array([-0.1082477,0.0001477,-0.0000202,0.0209053,-0.0145447,-0.0449611,-0.0502937, 0.0132250])"
   ]
  },
  {
   "cell_type": "code",
   "execution_count": 9,
   "id": "85654c5d-cec8-4e2d-b39e-58a441ace05b",
   "metadata": {},
   "outputs": [],
   "source": [
    "# multiply by coefficients - everything except n_trips\n",
    "gdf_wkd.loc[:, ['n_trips', 'n_routes', 'pop_density', 'job_density','pct_not_us_citizen_pop',\n",
    "                    'pct_youth_pop', 'pct_seniors_pop', 'pct_pop_workers_no_car', 'pct_poverty']] *= wkd_coeff"
   ]
  },
  {
   "cell_type": "code",
   "execution_count": 33,
   "id": "7feb0973-3a13-4f89-aff1-f2b477684adb",
   "metadata": {},
   "outputs": [],
   "source": [
    "import numpy as np"
   ]
  },
  {
   "cell_type": "code",
   "execution_count": 29,
   "id": "a5667231-7b9a-4706-b53d-69f04b994cb9",
   "metadata": {},
   "outputs": [],
   "source": [
    "# create stop-specific ridership factor\n",
    "gdf_wkd = (gdf_wkd\n",
    "           >> mutate(control_vars_sum = _.n_routes+_.pop_density+_.job_density+_.pct_not_us_citizen_pop+_.pct_youth_pop+_.pct_seniors_pop+_.pct_pop_workers_no_car+_.pct_poverty,\n",
    "                     control_vars_factor = _.control_vars_sum+(_.n_trips*0.0200865)+6.8721538\n",
    "           )\n",
    "          )"
   ]
  },
  {
   "cell_type": "code",
   "execution_count": 34,
   "id": "4ee94399-087e-4792-8754-99de930f1d99",
   "metadata": {},
   "outputs": [
    {
     "name": "stderr",
     "output_type": "stream",
     "text": [
      "/opt/conda/lib/python3.9/site-packages/pandas/core/arraylike.py:364: RuntimeWarning: overflow encountered in exp\n"
     ]
    }
   ],
   "source": [
    "# baseline ridership model estimate: np.exp(control_vars_factor + (n_trips*n_trips_coeff))\n",
    "gdf_wkd['model_est_ridership'] = np.exp(gdf_wkd['control_vars_factor'])"
   ]
  },
  {
   "cell_type": "code",
   "execution_count": 35,
   "id": "5127c1b2-ec6a-4e20-a6f4-3ccdd615c453",
   "metadata": {},
   "outputs": [
    {
     "data": {
      "text/plain": [
       "inf              91570\n",
       "7.383353e+70        68\n",
       "8.112785e+71        48\n",
       "5.942158e+34        44\n",
       "1.450940e+192       42\n",
       "                 ...  \n",
       "3.814801e+66         1\n",
       "7.444950e+37         1\n",
       "5.040501e+156        1\n",
       "5.095598e+34         1\n",
       "2.413972e+33         1\n",
       "Name: model_est_ridership, Length: 3800, dtype: int64"
      ]
     },
     "execution_count": 35,
     "metadata": {},
     "output_type": "execute_result"
    }
   ],
   "source": [
    "gdf_wkd.model_est_ridership.value_counts()"
   ]
  },
  {
   "cell_type": "code",
   "execution_count": 36,
   "id": "fdde16b1-d8e2-4593-b10b-d46eab7cb42d",
   "metadata": {},
   "outputs": [
    {
     "data": {
      "text/plain": [
       "2.463786278729821e+27"
      ]
     },
     "execution_count": 36,
     "metadata": {},
     "output_type": "execute_result"
    }
   ],
   "source": [
    "gdf_wkd.model_est_ridership.min()"
   ]
  }
 ],
 "metadata": {
  "kernelspec": {
   "display_name": "Python 3 (ipykernel)",
   "language": "python",
   "name": "python3"
  },
  "language_info": {
   "codemirror_mode": {
    "name": "ipython",
    "version": 3
   },
   "file_extension": ".py",
   "mimetype": "text/x-python",
   "name": "python",
   "nbconvert_exporter": "python",
   "pygments_lexer": "ipython3",
   "version": "3.9.13"
  }
 },
 "nbformat": 4,
 "nbformat_minor": 5
}
