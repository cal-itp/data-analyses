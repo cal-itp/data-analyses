{
 "cells": [
  {
   "cell_type": "code",
   "execution_count": 43,
   "id": "e569b7c3-9cc8-4d69-8128-83efea0f7d63",
   "metadata": {},
   "outputs": [],
   "source": [
    "import os\n",
    "os.environ[\"CALITP_BQ_MAX_BYTES\"] = str(800_000_000_000)\n",
    "\n",
    "import shared_utils\n",
    "import pandas as pd\n",
    "import geopandas as gpd\n",
    "\n",
    "import gcsfs\n",
    "from calitp_data_analysis import get_fs\n",
    "from calitp_data_analysis import geography_utils, utils\n",
    "fs = get_fs()\n"
   ]
  },
  {
   "cell_type": "code",
   "execution_count": 2,
   "id": "9e570a7b-80fd-4e35-97d5-b40bbfd5ce56",
   "metadata": {},
   "outputs": [],
   "source": [
    "GCS_FILE_PATH = 'gs://calitp-analytics-data/data-analyses/ahsc_grant/'"
   ]
  },
  {
   "cell_type": "code",
   "execution_count": 3,
   "id": "d2706298-5215-4fa2-b5b0-0eae88f94f44",
   "metadata": {
    "tags": []
   },
   "outputs": [],
   "source": [
    "def read_parquet_from_gcs(filename):\n",
    "    gcs_path = GCS_FILE_PATH.replace(\"gs://\", \"\") + filename\n",
    "    with fs.open(gcs_path, 'rb') as f:\n",
    "        return gpd.read_parquet(f)"
   ]
  },
  {
   "cell_type": "code",
   "execution_count": 4,
   "id": "75ccd0e2-7eaa-4bb6-93e7-e578e20afebd",
   "metadata": {},
   "outputs": [
    {
     "data": {
      "text/html": [
       "<div>\n",
       "<style scoped>\n",
       "    .dataframe tbody tr th:only-of-type {\n",
       "        vertical-align: middle;\n",
       "    }\n",
       "\n",
       "    .dataframe tbody tr th {\n",
       "        vertical-align: top;\n",
       "    }\n",
       "\n",
       "    .dataframe thead th {\n",
       "        text-align: right;\n",
       "    }\n",
       "</style>\n",
       "<table border=\"1\" class=\"dataframe\">\n",
       "  <thead>\n",
       "    <tr style=\"text-align: right;\">\n",
       "      <th></th>\n",
       "      <th>name</th>\n",
       "      <th>location_type</th>\n",
       "      <th>route_type</th>\n",
       "      <th>stop_name</th>\n",
       "      <th>stop_id</th>\n",
       "      <th>stop_code</th>\n",
       "      <th>geometry</th>\n",
       "      <th>n_trips_weekday</th>\n",
       "      <th>n_trips_saturday</th>\n",
       "      <th>n_trips_sunday</th>\n",
       "      <th>n_routes_weekday</th>\n",
       "      <th>n_routes_saturday</th>\n",
       "      <th>n_routes_sunday</th>\n",
       "      <th>stop_desc</th>\n",
       "    </tr>\n",
       "  </thead>\n",
       "  <tbody>\n",
       "    <tr>\n",
       "      <th>95</th>\n",
       "      <td>Monterey Salinas Schedule</td>\n",
       "      <td>0.0</td>\n",
       "      <td>3</td>\n",
       "      <td>Del Monte Center / Gate 1</td>\n",
       "      <td>0002</td>\n",
       "      <td>0002</td>\n",
       "      <td>POINT (-121.89736 36.58461)</td>\n",
       "      <td>38.0</td>\n",
       "      <td>30.0</td>\n",
       "      <td>26.0</td>\n",
       "      <td>7.0</td>\n",
       "      <td>5.0</td>\n",
       "      <td>5.0</td>\n",
       "      <td>None</td>\n",
       "    </tr>\n",
       "    <tr>\n",
       "      <th>96</th>\n",
       "      <td>Monterey Salinas Schedule</td>\n",
       "      <td>0.0</td>\n",
       "      <td>3</td>\n",
       "      <td>Del Monte Center / Gate 2</td>\n",
       "      <td>0003</td>\n",
       "      <td>0003</td>\n",
       "      <td>POINT (-121.89728 36.58473)</td>\n",
       "      <td>31.0</td>\n",
       "      <td>27.0</td>\n",
       "      <td>23.0</td>\n",
       "      <td>6.0</td>\n",
       "      <td>5.0</td>\n",
       "      <td>4.0</td>\n",
       "      <td>None</td>\n",
       "    </tr>\n",
       "    <tr>\n",
       "      <th>97</th>\n",
       "      <td>Monterey Salinas Schedule</td>\n",
       "      <td>0.0</td>\n",
       "      <td>3</td>\n",
       "      <td>Del Monte Center / Gate 3</td>\n",
       "      <td>0004</td>\n",
       "      <td>0004</td>\n",
       "      <td>POINT (-121.89893 36.58445)</td>\n",
       "      <td>25.0</td>\n",
       "      <td>12.0</td>\n",
       "      <td>11.0</td>\n",
       "      <td>5.0</td>\n",
       "      <td>3.0</td>\n",
       "      <td>2.0</td>\n",
       "      <td>None</td>\n",
       "    </tr>\n",
       "    <tr>\n",
       "      <th>98</th>\n",
       "      <td>Monterey Salinas Schedule</td>\n",
       "      <td>0.0</td>\n",
       "      <td>3</td>\n",
       "      <td>6th / Mission Street</td>\n",
       "      <td>0006</td>\n",
       "      <td>0006</td>\n",
       "      <td>POINT (-121.92076 36.55564)</td>\n",
       "      <td>91.0</td>\n",
       "      <td>86.0</td>\n",
       "      <td>77.0</td>\n",
       "      <td>6.0</td>\n",
       "      <td>6.0</td>\n",
       "      <td>6.0</td>\n",
       "      <td>None</td>\n",
       "    </tr>\n",
       "    <tr>\n",
       "      <th>99</th>\n",
       "      <td>Monterey Salinas Schedule</td>\n",
       "      <td>0.0</td>\n",
       "      <td>3</td>\n",
       "      <td>Northridge Mall</td>\n",
       "      <td>0011</td>\n",
       "      <td>0011</td>\n",
       "      <td>POINT (-121.65803 36.71563)</td>\n",
       "      <td>142.0</td>\n",
       "      <td>136.0</td>\n",
       "      <td>132.0</td>\n",
       "      <td>6.0</td>\n",
       "      <td>7.0</td>\n",
       "      <td>7.0</td>\n",
       "      <td>None</td>\n",
       "    </tr>\n",
       "  </tbody>\n",
       "</table>\n",
       "</div>"
      ],
      "text/plain": [
       "                         name  location_type route_type  \\\n",
       "95  Monterey Salinas Schedule            0.0          3   \n",
       "96  Monterey Salinas Schedule            0.0          3   \n",
       "97  Monterey Salinas Schedule            0.0          3   \n",
       "98  Monterey Salinas Schedule            0.0          3   \n",
       "99  Monterey Salinas Schedule            0.0          3   \n",
       "\n",
       "                    stop_name stop_id stop_code                     geometry  \\\n",
       "95  Del Monte Center / Gate 1    0002      0002  POINT (-121.89736 36.58461)   \n",
       "96  Del Monte Center / Gate 2    0003      0003  POINT (-121.89728 36.58473)   \n",
       "97  Del Monte Center / Gate 3    0004      0004  POINT (-121.89893 36.58445)   \n",
       "98       6th / Mission Street    0006      0006  POINT (-121.92076 36.55564)   \n",
       "99            Northridge Mall    0011      0011  POINT (-121.65803 36.71563)   \n",
       "\n",
       "    n_trips_weekday  n_trips_saturday  n_trips_sunday  n_routes_weekday  \\\n",
       "95             38.0              30.0            26.0               7.0   \n",
       "96             31.0              27.0            23.0               6.0   \n",
       "97             25.0              12.0            11.0               5.0   \n",
       "98             91.0              86.0            77.0               6.0   \n",
       "99            142.0             136.0           132.0               6.0   \n",
       "\n",
       "    n_routes_saturday  n_routes_sunday stop_desc  \n",
       "95                5.0              5.0      None  \n",
       "96                5.0              4.0      None  \n",
       "97                3.0              2.0      None  \n",
       "98                6.0              6.0      None  \n",
       "99                7.0              7.0      None  "
      ]
     },
     "execution_count": 4,
     "metadata": {},
     "output_type": "execute_result"
    }
   ],
   "source": [
    "# start with trips per stop and ridership\n",
    "stoptrips = read_parquet_from_gcs(\"tbl1_trips_perstop_07_08_2024.parquet\")\n",
    "stoptrips.head (5)"
   ]
  },
  {
   "cell_type": "code",
   "execution_count": null,
   "id": "eb4e584d-d3d6-4592-a975-c63430ad10ee",
   "metadata": {},
   "outputs": [],
   "source": []
  },
  {
   "cell_type": "code",
   "execution_count": 5,
   "id": "f19b305a-46a5-4e4c-a4da-6d72d353e27e",
   "metadata": {},
   "outputs": [
    {
     "data": {
      "text/html": [
       "<div>\n",
       "<style scoped>\n",
       "    .dataframe tbody tr th:only-of-type {\n",
       "        vertical-align: middle;\n",
       "    }\n",
       "\n",
       "    .dataframe tbody tr th {\n",
       "        vertical-align: top;\n",
       "    }\n",
       "\n",
       "    .dataframe thead th {\n",
       "        text-align: right;\n",
       "    }\n",
       "</style>\n",
       "<table border=\"1\" class=\"dataframe\">\n",
       "  <thead>\n",
       "    <tr style=\"text-align: right;\">\n",
       "      <th></th>\n",
       "      <th>feed_key</th>\n",
       "      <th>stop_id</th>\n",
       "      <th>stop_name</th>\n",
       "      <th>geometry</th>\n",
       "      <th>STOP_NAME</th>\n",
       "      <th>sat_ons</th>\n",
       "      <th>sun_ons</th>\n",
       "      <th>weekday_ons</th>\n",
       "      <th>name</th>\n",
       "    </tr>\n",
       "  </thead>\n",
       "  <tbody>\n",
       "    <tr>\n",
       "      <th>0</th>\n",
       "      <td>06d1f3ac2b0ae5e74424edbbfefa19ed</td>\n",
       "      <td>12591</td>\n",
       "      <td>LA Zoo</td>\n",
       "      <td>POINT (158199.490 -428414.858)</td>\n",
       "      <td>LA ZOO</td>\n",
       "      <td>857.679453</td>\n",
       "      <td>381.190868</td>\n",
       "      <td>2775.546009</td>\n",
       "      <td>LA Metro Bus Schedule</td>\n",
       "    </tr>\n",
       "    <tr>\n",
       "      <th>1</th>\n",
       "      <td>06d1f3ac2b0ae5e74424edbbfefa19ed</td>\n",
       "      <td>5377</td>\n",
       "      <td>1st / Hill</td>\n",
       "      <td>POINT (161833.578 -438634.619)</td>\n",
       "      <td>1ST / HILL</td>\n",
       "      <td>14914.092717</td>\n",
       "      <td>11531.023762</td>\n",
       "      <td>159742.798188</td>\n",
       "      <td>LA Metro Bus Schedule</td>\n",
       "    </tr>\n",
       "    <tr>\n",
       "      <th>2</th>\n",
       "      <td>06d1f3ac2b0ae5e74424edbbfefa19ed</td>\n",
       "      <td>15612</td>\n",
       "      <td>1st / Hill</td>\n",
       "      <td>POINT (161849.863 -438611.462)</td>\n",
       "      <td>1ST / HILL</td>\n",
       "      <td>4800.622496</td>\n",
       "      <td>3383.068955</td>\n",
       "      <td>43551.056687</td>\n",
       "      <td>LA Metro Bus Schedule</td>\n",
       "    </tr>\n",
       "    <tr>\n",
       "      <th>3</th>\n",
       "      <td>06d1f3ac2b0ae5e74424edbbfefa19ed</td>\n",
       "      <td>1217</td>\n",
       "      <td>6th / Wall</td>\n",
       "      <td>POINT (161822.154 -439849.592)</td>\n",
       "      <td>6TH / WALL</td>\n",
       "      <td>3502.191101</td>\n",
       "      <td>3061.439160</td>\n",
       "      <td>24682.108713</td>\n",
       "      <td>LA Metro Bus Schedule</td>\n",
       "    </tr>\n",
       "    <tr>\n",
       "      <th>4</th>\n",
       "      <td>06d1f3ac2b0ae5e74424edbbfefa19ed</td>\n",
       "      <td>7376</td>\n",
       "      <td>7th / Alma</td>\n",
       "      <td>POINT (157649.168 -473829.124)</td>\n",
       "      <td>7TH / ALMA</td>\n",
       "      <td>0.000000</td>\n",
       "      <td>35.736644</td>\n",
       "      <td>559.874088</td>\n",
       "      <td>LA Metro Bus Schedule</td>\n",
       "    </tr>\n",
       "  </tbody>\n",
       "</table>\n",
       "</div>"
      ],
      "text/plain": [
       "                           feed_key stop_id   stop_name  \\\n",
       "0  06d1f3ac2b0ae5e74424edbbfefa19ed   12591      LA Zoo   \n",
       "1  06d1f3ac2b0ae5e74424edbbfefa19ed    5377  1st / Hill   \n",
       "2  06d1f3ac2b0ae5e74424edbbfefa19ed   15612  1st / Hill   \n",
       "3  06d1f3ac2b0ae5e74424edbbfefa19ed    1217  6th / Wall   \n",
       "4  06d1f3ac2b0ae5e74424edbbfefa19ed    7376  7th / Alma   \n",
       "\n",
       "                         geometry   STOP_NAME       sat_ons       sun_ons  \\\n",
       "0  POINT (158199.490 -428414.858)      LA ZOO    857.679453    381.190868   \n",
       "1  POINT (161833.578 -438634.619)  1ST / HILL  14914.092717  11531.023762   \n",
       "2  POINT (161849.863 -438611.462)  1ST / HILL   4800.622496   3383.068955   \n",
       "3  POINT (161822.154 -439849.592)  6TH / WALL   3502.191101   3061.439160   \n",
       "4  POINT (157649.168 -473829.124)  7TH / ALMA      0.000000     35.736644   \n",
       "\n",
       "     weekday_ons                   name  \n",
       "0    2775.546009  LA Metro Bus Schedule  \n",
       "1  159742.798188  LA Metro Bus Schedule  \n",
       "2   43551.056687  LA Metro Bus Schedule  \n",
       "3   24682.108713  LA Metro Bus Schedule  \n",
       "4     559.874088  LA Metro Bus Schedule  "
      ]
     },
     "execution_count": 5,
     "metadata": {},
     "output_type": "execute_result"
    }
   ],
   "source": [
    "ridership_metro = read_parquet_from_gcs(\"ridership_metro_08_26_2024.parquet\")\n",
    "ridership_metro.head(5)"
   ]
  },
  {
   "cell_type": "code",
   "execution_count": 6,
   "id": "7c9a3e16-41ce-4109-a929-4e84d0c9f7cc",
   "metadata": {},
   "outputs": [
    {
     "data": {
      "text/html": [
       "<div>\n",
       "<style scoped>\n",
       "    .dataframe tbody tr th:only-of-type {\n",
       "        vertical-align: middle;\n",
       "    }\n",
       "\n",
       "    .dataframe tbody tr th {\n",
       "        vertical-align: top;\n",
       "    }\n",
       "\n",
       "    .dataframe thead th {\n",
       "        text-align: right;\n",
       "    }\n",
       "</style>\n",
       "<table border=\"1\" class=\"dataframe\">\n",
       "  <thead>\n",
       "    <tr style=\"text-align: right;\">\n",
       "      <th></th>\n",
       "      <th>feed_key</th>\n",
       "      <th>stop_id</th>\n",
       "      <th>stop_name</th>\n",
       "      <th>geometry</th>\n",
       "      <th>sat_ons</th>\n",
       "      <th>sun_ons</th>\n",
       "      <th>weekday_ons</th>\n",
       "      <th>name</th>\n",
       "    </tr>\n",
       "  </thead>\n",
       "  <tbody>\n",
       "    <tr>\n",
       "      <th>0</th>\n",
       "      <td>52201caab047b98ae19b7547c0d7c2ad</td>\n",
       "      <td>1</td>\n",
       "      <td>Modoc &amp; Portesuello</td>\n",
       "      <td>POINT (25170.737 -398993.625)</td>\n",
       "      <td>1573.0</td>\n",
       "      <td>1287.0</td>\n",
       "      <td>13964.0</td>\n",
       "      <td>SBMTD Schedule</td>\n",
       "    </tr>\n",
       "    <tr>\n",
       "      <th>1</th>\n",
       "      <td>52201caab047b98ae19b7547c0d7c2ad</td>\n",
       "      <td>2</td>\n",
       "      <td>Milpas &amp; Montecito</td>\n",
       "      <td>POINT (29196.552 -399052.308)</td>\n",
       "      <td>3901.0</td>\n",
       "      <td>3139.0</td>\n",
       "      <td>30225.0</td>\n",
       "      <td>SBMTD Schedule</td>\n",
       "    </tr>\n",
       "    <tr>\n",
       "      <th>2</th>\n",
       "      <td>52201caab047b98ae19b7547c0d7c2ad</td>\n",
       "      <td>4</td>\n",
       "      <td>Cathedral Oaks &amp; Camino Del Rio</td>\n",
       "      <td>POINT (20247.563 -395908.292)</td>\n",
       "      <td>NaN</td>\n",
       "      <td>NaN</td>\n",
       "      <td>1.0</td>\n",
       "      <td>SBMTD Schedule</td>\n",
       "    </tr>\n",
       "    <tr>\n",
       "      <th>3</th>\n",
       "      <td>52201caab047b98ae19b7547c0d7c2ad</td>\n",
       "      <td>5</td>\n",
       "      <td>Via Real &amp; Sandpiper MHP</td>\n",
       "      <td>POINT (42143.060 -400995.911)</td>\n",
       "      <td>217.0</td>\n",
       "      <td>109.0</td>\n",
       "      <td>1485.0</td>\n",
       "      <td>SBMTD Schedule</td>\n",
       "    </tr>\n",
       "    <tr>\n",
       "      <th>4</th>\n",
       "      <td>52201caab047b98ae19b7547c0d7c2ad</td>\n",
       "      <td>6</td>\n",
       "      <td>UCSB Elings Hall Outbound</td>\n",
       "      <td>POINT (14738.802 -400125.683)</td>\n",
       "      <td>1374.0</td>\n",
       "      <td>1199.0</td>\n",
       "      <td>9777.0</td>\n",
       "      <td>SBMTD Schedule</td>\n",
       "    </tr>\n",
       "  </tbody>\n",
       "</table>\n",
       "</div>"
      ],
      "text/plain": [
       "                           feed_key stop_id                        stop_name  \\\n",
       "0  52201caab047b98ae19b7547c0d7c2ad       1              Modoc & Portesuello   \n",
       "1  52201caab047b98ae19b7547c0d7c2ad       2               Milpas & Montecito   \n",
       "2  52201caab047b98ae19b7547c0d7c2ad       4  Cathedral Oaks & Camino Del Rio   \n",
       "3  52201caab047b98ae19b7547c0d7c2ad       5         Via Real & Sandpiper MHP   \n",
       "4  52201caab047b98ae19b7547c0d7c2ad       6        UCSB Elings Hall Outbound   \n",
       "\n",
       "                        geometry  sat_ons  sun_ons  weekday_ons  \\\n",
       "0  POINT (25170.737 -398993.625)   1573.0   1287.0      13964.0   \n",
       "1  POINT (29196.552 -399052.308)   3901.0   3139.0      30225.0   \n",
       "2  POINT (20247.563 -395908.292)      NaN      NaN          1.0   \n",
       "3  POINT (42143.060 -400995.911)    217.0    109.0       1485.0   \n",
       "4  POINT (14738.802 -400125.683)   1374.0   1199.0       9777.0   \n",
       "\n",
       "             name  \n",
       "0  SBMTD Schedule  \n",
       "1  SBMTD Schedule  \n",
       "2  SBMTD Schedule  \n",
       "3  SBMTD Schedule  \n",
       "4  SBMTD Schedule  "
      ]
     },
     "execution_count": 6,
     "metadata": {},
     "output_type": "execute_result"
    }
   ],
   "source": [
    "ridership_sbmtd = read_parquet_from_gcs(\"ridership_sbmtd_08_26_2024.parquet\")\n",
    "ridership_sbmtd.head(5)"
   ]
  },
  {
   "cell_type": "code",
   "execution_count": 7,
   "id": "89a1f78d-006f-42a7-97d6-9e5dcf8ed65c",
   "metadata": {},
   "outputs": [
    {
     "data": {
      "text/html": [
       "<div>\n",
       "<style scoped>\n",
       "    .dataframe tbody tr th:only-of-type {\n",
       "        vertical-align: middle;\n",
       "    }\n",
       "\n",
       "    .dataframe tbody tr th {\n",
       "        vertical-align: top;\n",
       "    }\n",
       "\n",
       "    .dataframe thead th {\n",
       "        text-align: right;\n",
       "    }\n",
       "</style>\n",
       "<table border=\"1\" class=\"dataframe\">\n",
       "  <thead>\n",
       "    <tr style=\"text-align: right;\">\n",
       "      <th></th>\n",
       "      <th>feed_key</th>\n",
       "      <th>stop_id</th>\n",
       "      <th>stop_name</th>\n",
       "      <th>geometry</th>\n",
       "      <th>sat_ons</th>\n",
       "      <th>sun_ons</th>\n",
       "      <th>weekday_ons</th>\n",
       "      <th>name</th>\n",
       "    </tr>\n",
       "  </thead>\n",
       "  <tbody>\n",
       "    <tr>\n",
       "      <th>0</th>\n",
       "      <td>118c3a62eab691ac449fe0c1c7505413</td>\n",
       "      <td>0002</td>\n",
       "      <td>Del Monte Center / Gate 1</td>\n",
       "      <td>POINT (-169532.243 -157455.258)</td>\n",
       "      <td>2240.0</td>\n",
       "      <td>1740.0</td>\n",
       "      <td>9287.0</td>\n",
       "      <td>Monterey Salinas Schedule</td>\n",
       "    </tr>\n",
       "    <tr>\n",
       "      <th>1</th>\n",
       "      <td>118c3a62eab691ac449fe0c1c7505413</td>\n",
       "      <td>0003</td>\n",
       "      <td>Del Monte Center / Gate 2</td>\n",
       "      <td>POINT (-169524.827 -157441.956)</td>\n",
       "      <td>616.0</td>\n",
       "      <td>348.0</td>\n",
       "      <td>1757.0</td>\n",
       "      <td>Monterey Salinas Schedule</td>\n",
       "    </tr>\n",
       "    <tr>\n",
       "      <th>2</th>\n",
       "      <td>118c3a62eab691ac449fe0c1c7505413</td>\n",
       "      <td>0004</td>\n",
       "      <td>Del Monte Center / Gate 3</td>\n",
       "      <td>POINT (-169673.036 -157470.002)</td>\n",
       "      <td>56.0</td>\n",
       "      <td>58.0</td>\n",
       "      <td>502.0</td>\n",
       "      <td>Monterey Salinas Schedule</td>\n",
       "    </tr>\n",
       "    <tr>\n",
       "      <th>3</th>\n",
       "      <td>118c3a62eab691ac449fe0c1c7505413</td>\n",
       "      <td>0006</td>\n",
       "      <td>6th / Mission Street</td>\n",
       "      <td>POINT (-171687.391 -160632.627)</td>\n",
       "      <td>4312.0</td>\n",
       "      <td>4234.0</td>\n",
       "      <td>21837.0</td>\n",
       "      <td>Monterey Salinas Schedule</td>\n",
       "    </tr>\n",
       "    <tr>\n",
       "      <th>4</th>\n",
       "      <td>118c3a62eab691ac449fe0c1c7505413</td>\n",
       "      <td>0011</td>\n",
       "      <td>Northridge Mall</td>\n",
       "      <td>POINT (-147895.267 -143297.134)</td>\n",
       "      <td>9128.0</td>\n",
       "      <td>13224.0</td>\n",
       "      <td>40662.0</td>\n",
       "      <td>Monterey Salinas Schedule</td>\n",
       "    </tr>\n",
       "  </tbody>\n",
       "</table>\n",
       "</div>"
      ],
      "text/plain": [
       "                           feed_key stop_id                  stop_name  \\\n",
       "0  118c3a62eab691ac449fe0c1c7505413    0002  Del Monte Center / Gate 1   \n",
       "1  118c3a62eab691ac449fe0c1c7505413    0003  Del Monte Center / Gate 2   \n",
       "2  118c3a62eab691ac449fe0c1c7505413    0004  Del Monte Center / Gate 3   \n",
       "3  118c3a62eab691ac449fe0c1c7505413    0006       6th / Mission Street   \n",
       "4  118c3a62eab691ac449fe0c1c7505413    0011            Northridge Mall   \n",
       "\n",
       "                          geometry  sat_ons  sun_ons  weekday_ons  \\\n",
       "0  POINT (-169532.243 -157455.258)   2240.0   1740.0       9287.0   \n",
       "1  POINT (-169524.827 -157441.956)    616.0    348.0       1757.0   \n",
       "2  POINT (-169673.036 -157470.002)     56.0     58.0        502.0   \n",
       "3  POINT (-171687.391 -160632.627)   4312.0   4234.0      21837.0   \n",
       "4  POINT (-147895.267 -143297.134)   9128.0  13224.0      40662.0   \n",
       "\n",
       "                        name  \n",
       "0  Monterey Salinas Schedule  \n",
       "1  Monterey Salinas Schedule  \n",
       "2  Monterey Salinas Schedule  \n",
       "3  Monterey Salinas Schedule  \n",
       "4  Monterey Salinas Schedule  "
      ]
     },
     "execution_count": 7,
     "metadata": {},
     "output_type": "execute_result"
    }
   ],
   "source": [
    "ridership_mst = read_parquet_from_gcs(\"ridership_mst_08_26_2024.parquet\")\n",
    "ridership_mst.head(5)"
   ]
  },
  {
   "cell_type": "code",
   "execution_count": 8,
   "id": "8472601d-7600-40f3-a98a-37b983b858ab",
   "metadata": {},
   "outputs": [
    {
     "data": {
      "text/html": [
       "<div>\n",
       "<style scoped>\n",
       "    .dataframe tbody tr th:only-of-type {\n",
       "        vertical-align: middle;\n",
       "    }\n",
       "\n",
       "    .dataframe tbody tr th {\n",
       "        vertical-align: top;\n",
       "    }\n",
       "\n",
       "    .dataframe thead th {\n",
       "        text-align: right;\n",
       "    }\n",
       "</style>\n",
       "<table border=\"1\" class=\"dataframe\">\n",
       "  <thead>\n",
       "    <tr style=\"text-align: right;\">\n",
       "      <th></th>\n",
       "      <th>feed_key</th>\n",
       "      <th>stop_id</th>\n",
       "      <th>stop_name</th>\n",
       "      <th>geometry</th>\n",
       "      <th>sat_ons</th>\n",
       "      <th>sun_ons</th>\n",
       "      <th>weekday_ons</th>\n",
       "      <th>name</th>\n",
       "    </tr>\n",
       "  </thead>\n",
       "  <tbody>\n",
       "    <tr>\n",
       "      <th>5510</th>\n",
       "      <td>06d1f3ac2b0ae5e74424edbbfefa19ed</td>\n",
       "      <td>17274</td>\n",
       "      <td>Jefferson / 12th</td>\n",
       "      <td>POINT (154086.569 -441956.781)</td>\n",
       "      <td>131.034361</td>\n",
       "      <td>83.385502</td>\n",
       "      <td>1012.538244</td>\n",
       "      <td>LA Metro Bus Schedule</td>\n",
       "    </tr>\n",
       "    <tr>\n",
       "      <th>1831</th>\n",
       "      <td>06d1f3ac2b0ae5e74424edbbfefa19ed</td>\n",
       "      <td>140955</td>\n",
       "      <td>Vermont / Manchester</td>\n",
       "      <td>POINT (157909.002 -449131.691)</td>\n",
       "      <td>9398.737343</td>\n",
       "      <td>8695.916680</td>\n",
       "      <td>52997.442889</td>\n",
       "      <td>LA Metro Bus Schedule</td>\n",
       "    </tr>\n",
       "    <tr>\n",
       "      <th>12239</th>\n",
       "      <td>52201caab047b98ae19b7547c0d7c2ad</td>\n",
       "      <td>161</td>\n",
       "      <td>Storke &amp; Marketplace</td>\n",
       "      <td>POINT (11956.807 -398640.260)</td>\n",
       "      <td>2671.000000</td>\n",
       "      <td>2555.000000</td>\n",
       "      <td>12287.000000</td>\n",
       "      <td>SBMTD Schedule</td>\n",
       "    </tr>\n",
       "    <tr>\n",
       "      <th>2408</th>\n",
       "      <td>06d1f3ac2b0ae5e74424edbbfefa19ed</td>\n",
       "      <td>164</td>\n",
       "      <td>Atlantic / Agnes</td>\n",
       "      <td>POINT (167372.364 -454086.763)</td>\n",
       "      <td>774.293951</td>\n",
       "      <td>702.820663</td>\n",
       "      <td>7028.206632</td>\n",
       "      <td>LA Metro Bus Schedule</td>\n",
       "    </tr>\n",
       "    <tr>\n",
       "      <th>7221</th>\n",
       "      <td>06d1f3ac2b0ae5e74424edbbfefa19ed</td>\n",
       "      <td>11254</td>\n",
       "      <td>Martin Luther King Jr / Brenton</td>\n",
       "      <td>POINT (165942.994 -451935.326)</td>\n",
       "      <td>166.771005</td>\n",
       "      <td>83.385502</td>\n",
       "      <td>869.591668</td>\n",
       "      <td>LA Metro Bus Schedule</td>\n",
       "    </tr>\n",
       "  </tbody>\n",
       "</table>\n",
       "</div>"
      ],
      "text/plain": [
       "                               feed_key stop_id  \\\n",
       "5510   06d1f3ac2b0ae5e74424edbbfefa19ed   17274   \n",
       "1831   06d1f3ac2b0ae5e74424edbbfefa19ed  140955   \n",
       "12239  52201caab047b98ae19b7547c0d7c2ad     161   \n",
       "2408   06d1f3ac2b0ae5e74424edbbfefa19ed     164   \n",
       "7221   06d1f3ac2b0ae5e74424edbbfefa19ed   11254   \n",
       "\n",
       "                             stop_name                        geometry  \\\n",
       "5510                  Jefferson / 12th  POINT (154086.569 -441956.781)   \n",
       "1831              Vermont / Manchester  POINT (157909.002 -449131.691)   \n",
       "12239             Storke & Marketplace   POINT (11956.807 -398640.260)   \n",
       "2408                  Atlantic / Agnes  POINT (167372.364 -454086.763)   \n",
       "7221   Martin Luther King Jr / Brenton  POINT (165942.994 -451935.326)   \n",
       "\n",
       "           sat_ons      sun_ons   weekday_ons                   name  \n",
       "5510    131.034361    83.385502   1012.538244  LA Metro Bus Schedule  \n",
       "1831   9398.737343  8695.916680  52997.442889  LA Metro Bus Schedule  \n",
       "12239  2671.000000  2555.000000  12287.000000         SBMTD Schedule  \n",
       "2408    774.293951   702.820663   7028.206632  LA Metro Bus Schedule  \n",
       "7221    166.771005    83.385502    869.591668  LA Metro Bus Schedule  "
      ]
     },
     "execution_count": 8,
     "metadata": {},
     "output_type": "execute_result"
    }
   ],
   "source": [
    "# contatenate gdfs, keeping common columns\n",
    "ridership_all = pd.concat([ridership_metro,ridership_sbmtd,ridership_mst], join='inner', ignore_index=\"True\")\n",
    "ridership_all.sample(5)"
   ]
  },
  {
   "cell_type": "code",
   "execution_count": 9,
   "id": "375fe1bf-6a66-44a6-b82a-afd422df3aed",
   "metadata": {
    "tags": []
   },
   "outputs": [
    {
     "data": {
      "text/plain": [
       "Index(['name', 'location_type', 'route_type', 'stop_name', 'stop_id',\n",
       "       'stop_code', 'geometry', 'n_trips_weekday', 'n_trips_saturday',\n",
       "       'n_trips_sunday', 'n_routes_weekday', 'n_routes_saturday',\n",
       "       'n_routes_sunday', 'stop_desc'],\n",
       "      dtype='object')"
      ]
     },
     "execution_count": 9,
     "metadata": {},
     "output_type": "execute_result"
    }
   ],
   "source": [
    "stoptrips.columns"
   ]
  },
  {
   "cell_type": "code",
   "execution_count": 10,
   "id": "c3a86515-0daa-42a3-8f6c-e911bba05714",
   "metadata": {},
   "outputs": [
    {
     "data": {
      "text/plain": [
       "13677"
      ]
     },
     "execution_count": 10,
     "metadata": {},
     "output_type": "execute_result"
    }
   ],
   "source": [
    "len(ridership_all)"
   ]
  },
  {
   "cell_type": "code",
   "execution_count": 11,
   "id": "e19cf2f7-e11a-4c95-9b7d-1fedc9425352",
   "metadata": {},
   "outputs": [
    {
     "data": {
      "text/plain": [
       "13730"
      ]
     },
     "execution_count": 11,
     "metadata": {},
     "output_type": "execute_result"
    }
   ],
   "source": [
    "len(stoptrips)"
   ]
  },
  {
   "cell_type": "code",
   "execution_count": 41,
   "id": "74a5df08-3729-4417-93da-fd01e9aeac70",
   "metadata": {
    "tags": []
   },
   "outputs": [],
   "source": [
    "trips_ridership_joined = pd.merge(\n",
    "    stoptrips,\n",
    "    ridership_all['name', 'stop_id', 'stop_name' ,\n",
    "    on=['name', 'stop_id', 'stop_name'],\n",
    "    how='outer'\n",
    ")\n"
   ]
  },
  {
   "cell_type": "code",
   "execution_count": 38,
   "id": "cbbbc856-8e91-4466-a9af-e99d902c51b5",
   "metadata": {
    "tags": []
   },
   "outputs": [
    {
     "data": {
      "text/plain": [
       "13873"
      ]
     },
     "execution_count": 38,
     "metadata": {},
     "output_type": "execute_result"
    }
   ],
   "source": [
    "len(trips_ridership_joined)"
   ]
  },
  {
   "cell_type": "code",
   "execution_count": 49,
   "id": "afc03144-6d59-4b75-8fc8-cb4a927026cc",
   "metadata": {
    "tags": []
   },
   "outputs": [],
   "source": [
    "#Rename 'geometry_x' to 'geometry'\n",
    "trips_ridership_joined = trips_ridership_joined.rename(columns={'geometry_x': 'geometry'})\n",
    "\n",
    "#Set 'geometry' as the active geometry column\n",
    "trips_ridership_joined = trips_ridership_joined.set_geometry('geometry')"
   ]
  },
  {
   "cell_type": "code",
   "execution_count": 50,
   "id": "8099c5c7-d56e-44a7-9eee-961c96ad94ec",
   "metadata": {
    "tags": []
   },
   "outputs": [],
   "source": [
    "trips_ridership_joined = trips_ridership_joined.to_crs(epsg=3347)"
   ]
  },
  {
   "cell_type": "code",
   "execution_count": 51,
   "id": "d07fbcac-6f31-4ddf-b6b8-d7ab0436ca67",
   "metadata": {},
   "outputs": [],
   "source": [
    "stop_geom = trips_ridership_joined[[\"feed_key\", \"stop_id\", \"geometry\"]]"
   ]
  },
  {
   "cell_type": "code",
   "execution_count": 53,
   "id": "ed88c620-3216-4b76-9e47-5ed6c999e45a",
   "metadata": {},
   "outputs": [],
   "source": [
    "trips_ridership_joined.geometry = trips_ridership_joined.buffer(402.336)"
   ]
  },
  {
   "cell_type": "code",
   "execution_count": 54,
   "id": "f87cebc6-e7b1-4de1-9f95-d2d262275641",
   "metadata": {
    "tags": []
   },
   "outputs": [
    {
     "data": {
      "text/html": [
       "<div>\n",
       "<style scoped>\n",
       "    .dataframe tbody tr th:only-of-type {\n",
       "        vertical-align: middle;\n",
       "    }\n",
       "\n",
       "    .dataframe tbody tr th {\n",
       "        vertical-align: top;\n",
       "    }\n",
       "\n",
       "    .dataframe thead th {\n",
       "        text-align: right;\n",
       "    }\n",
       "</style>\n",
       "<table border=\"1\" class=\"dataframe\">\n",
       "  <thead>\n",
       "    <tr style=\"text-align: right;\">\n",
       "      <th></th>\n",
       "      <th>ALAND</th>\n",
       "      <th>geometry</th>\n",
       "      <th>geo_id</th>\n",
       "      <th>total_pop</th>\n",
       "      <th>households</th>\n",
       "      <th>not_us_citizen_pop</th>\n",
       "      <th>black_pop</th>\n",
       "      <th>hispanic_pop</th>\n",
       "      <th>inc_extremelylow</th>\n",
       "      <th>inc_verylow</th>\n",
       "      <th>...</th>\n",
       "      <th>pop_determined_poverty_status</th>\n",
       "      <th>poverty</th>\n",
       "      <th>no_car</th>\n",
       "      <th>no_cars</th>\n",
       "      <th>male_youth</th>\n",
       "      <th>female_youth</th>\n",
       "      <th>male_seniors</th>\n",
       "      <th>female_seniors</th>\n",
       "      <th>youth_pop</th>\n",
       "      <th>seniors_pop</th>\n",
       "    </tr>\n",
       "  </thead>\n",
       "  <tbody>\n",
       "    <tr>\n",
       "      <th>0</th>\n",
       "      <td>3837562</td>\n",
       "      <td>POLYGON ((-118.58119 34.14318, -118.58099 34.1...</td>\n",
       "      <td>06037137504</td>\n",
       "      <td>2073.0</td>\n",
       "      <td>694.0</td>\n",
       "      <td>23.0</td>\n",
       "      <td>19.0</td>\n",
       "      <td>64.0</td>\n",
       "      <td>30.0</td>\n",
       "      <td>29.0</td>\n",
       "      <td>...</td>\n",
       "      <td>2073.0</td>\n",
       "      <td>90.0</td>\n",
       "      <td>12.0</td>\n",
       "      <td>10.0</td>\n",
       "      <td>266.0</td>\n",
       "      <td>244.0</td>\n",
       "      <td>266.0</td>\n",
       "      <td>297.0</td>\n",
       "      <td>510.0</td>\n",
       "      <td>563.0</td>\n",
       "    </tr>\n",
       "    <tr>\n",
       "      <th>1</th>\n",
       "      <td>4472196</td>\n",
       "      <td>POLYGON ((-118.60573 34.14585, -118.60561 34.1...</td>\n",
       "      <td>06037138000</td>\n",
       "      <td>4673.0</td>\n",
       "      <td>1784.0</td>\n",
       "      <td>198.0</td>\n",
       "      <td>325.0</td>\n",
       "      <td>393.0</td>\n",
       "      <td>270.0</td>\n",
       "      <td>124.0</td>\n",
       "      <td>...</td>\n",
       "      <td>4673.0</td>\n",
       "      <td>386.0</td>\n",
       "      <td>0.0</td>\n",
       "      <td>19.0</td>\n",
       "      <td>598.0</td>\n",
       "      <td>425.0</td>\n",
       "      <td>549.0</td>\n",
       "      <td>487.0</td>\n",
       "      <td>1023.0</td>\n",
       "      <td>1036.0</td>\n",
       "    </tr>\n",
       "    <tr>\n",
       "      <th>2</th>\n",
       "      <td>1152031</td>\n",
       "      <td>POLYGON ((-118.53082 34.18024, -118.52952 34.1...</td>\n",
       "      <td>06037139200</td>\n",
       "      <td>5840.0</td>\n",
       "      <td>2172.0</td>\n",
       "      <td>815.0</td>\n",
       "      <td>153.0</td>\n",
       "      <td>1330.0</td>\n",
       "      <td>242.0</td>\n",
       "      <td>315.0</td>\n",
       "      <td>...</td>\n",
       "      <td>5840.0</td>\n",
       "      <td>602.0</td>\n",
       "      <td>66.0</td>\n",
       "      <td>108.0</td>\n",
       "      <td>777.0</td>\n",
       "      <td>634.0</td>\n",
       "      <td>309.0</td>\n",
       "      <td>662.0</td>\n",
       "      <td>1411.0</td>\n",
       "      <td>971.0</td>\n",
       "    </tr>\n",
       "    <tr>\n",
       "      <th>3</th>\n",
       "      <td>1213095</td>\n",
       "      <td>POLYGON ((-121.50218 38.55643, -121.50184 38.5...</td>\n",
       "      <td>06067002300</td>\n",
       "      <td>3342.0</td>\n",
       "      <td>1629.0</td>\n",
       "      <td>79.0</td>\n",
       "      <td>55.0</td>\n",
       "      <td>666.0</td>\n",
       "      <td>150.0</td>\n",
       "      <td>67.0</td>\n",
       "      <td>...</td>\n",
       "      <td>3342.0</td>\n",
       "      <td>127.0</td>\n",
       "      <td>13.0</td>\n",
       "      <td>31.0</td>\n",
       "      <td>362.0</td>\n",
       "      <td>410.0</td>\n",
       "      <td>242.0</td>\n",
       "      <td>291.0</td>\n",
       "      <td>772.0</td>\n",
       "      <td>533.0</td>\n",
       "    </tr>\n",
       "    <tr>\n",
       "      <th>4</th>\n",
       "      <td>3224718</td>\n",
       "      <td>POLYGON ((-121.50970 38.54070, -121.50960 38.5...</td>\n",
       "      <td>06067002400</td>\n",
       "      <td>4685.0</td>\n",
       "      <td>2011.0</td>\n",
       "      <td>43.0</td>\n",
       "      <td>135.0</td>\n",
       "      <td>440.0</td>\n",
       "      <td>109.0</td>\n",
       "      <td>132.0</td>\n",
       "      <td>...</td>\n",
       "      <td>4679.0</td>\n",
       "      <td>159.0</td>\n",
       "      <td>17.0</td>\n",
       "      <td>147.0</td>\n",
       "      <td>302.0</td>\n",
       "      <td>823.0</td>\n",
       "      <td>451.0</td>\n",
       "      <td>682.0</td>\n",
       "      <td>1125.0</td>\n",
       "      <td>1133.0</td>\n",
       "    </tr>\n",
       "  </tbody>\n",
       "</table>\n",
       "<p>5 rows × 21 columns</p>\n",
       "</div>"
      ],
      "text/plain": [
       "     ALAND                                           geometry       geo_id  \\\n",
       "0  3837562  POLYGON ((-118.58119 34.14318, -118.58099 34.1...  06037137504   \n",
       "1  4472196  POLYGON ((-118.60573 34.14585, -118.60561 34.1...  06037138000   \n",
       "2  1152031  POLYGON ((-118.53082 34.18024, -118.52952 34.1...  06037139200   \n",
       "3  1213095  POLYGON ((-121.50218 38.55643, -121.50184 38.5...  06067002300   \n",
       "4  3224718  POLYGON ((-121.50970 38.54070, -121.50960 38.5...  06067002400   \n",
       "\n",
       "   total_pop  households  not_us_citizen_pop  black_pop  hispanic_pop  \\\n",
       "0     2073.0       694.0                23.0       19.0          64.0   \n",
       "1     4673.0      1784.0               198.0      325.0         393.0   \n",
       "2     5840.0      2172.0               815.0      153.0        1330.0   \n",
       "3     3342.0      1629.0                79.0       55.0         666.0   \n",
       "4     4685.0      2011.0                43.0      135.0         440.0   \n",
       "\n",
       "   inc_extremelylow  inc_verylow  ...  pop_determined_poverty_status  poverty  \\\n",
       "0              30.0         29.0  ...                         2073.0     90.0   \n",
       "1             270.0        124.0  ...                         4673.0    386.0   \n",
       "2             242.0        315.0  ...                         5840.0    602.0   \n",
       "3             150.0         67.0  ...                         3342.0    127.0   \n",
       "4             109.0        132.0  ...                         4679.0    159.0   \n",
       "\n",
       "   no_car  no_cars  male_youth  female_youth  male_seniors  female_seniors  \\\n",
       "0    12.0     10.0       266.0         244.0         266.0           297.0   \n",
       "1     0.0     19.0       598.0         425.0         549.0           487.0   \n",
       "2    66.0    108.0       777.0         634.0         309.0           662.0   \n",
       "3    13.0     31.0       362.0         410.0         242.0           291.0   \n",
       "4    17.0    147.0       302.0         823.0         451.0           682.0   \n",
       "\n",
       "   youth_pop  seniors_pop  \n",
       "0      510.0        563.0  \n",
       "1     1023.0       1036.0  \n",
       "2     1411.0        971.0  \n",
       "3      772.0        533.0  \n",
       "4     1125.0       1133.0  \n",
       "\n",
       "[5 rows x 21 columns]"
      ]
     },
     "execution_count": 54,
     "metadata": {},
     "output_type": "execute_result"
    }
   ],
   "source": [
    "acs_ca = read_parquet_from_gcs(\"acs_tbl_ca.parquet\")\n",
    "acs_ca.head(5)"
   ]
  },
  {
   "cell_type": "code",
   "execution_count": 55,
   "id": "698917d5-5609-4752-a298-42dd9d42410f",
   "metadata": {
    "tags": []
   },
   "outputs": [
    {
     "data": {
      "text/plain": [
       "8057"
      ]
     },
     "execution_count": 55,
     "metadata": {},
     "output_type": "execute_result"
    }
   ],
   "source": [
    "len(acs_ca)"
   ]
  },
  {
   "cell_type": "code",
   "execution_count": 56,
   "id": "8ec9a151-7a75-4a55-bbd8-44eb16b2ffee",
   "metadata": {
    "tags": []
   },
   "outputs": [],
   "source": [
    "acs_ca = acs_ca.to_crs(epsg=3347)"
   ]
  },
  {
   "cell_type": "code",
   "execution_count": null,
   "id": "390d42ac-4345-4eac-ae9c-a8d753b6ecad",
   "metadata": {},
   "outputs": [],
   "source": []
  },
  {
   "cell_type": "code",
   "execution_count": 11,
   "id": "b58266f9-66cc-4341-854a-27092a7aa91d",
   "metadata": {},
   "outputs": [],
   "source": [
    "ridership_all = ridership_all.drop(columns=['feed_key'])"
   ]
  },
  {
   "cell_type": "code",
   "execution_count": 12,
   "id": "271d1dde-fdeb-4326-a9d4-11a63beece10",
   "metadata": {},
   "outputs": [],
   "source": [
    "# join together, keep buses, create total trips per weekday\n",
    "trips_ridership_joined = pd.merge(stoptrips,\n",
    "                                  ridership_all,\n",
    "                                  on = ['name', 'stop_name', 'stop_id','geometry'],\n",
    "                                  how = 'left'\n",
    "                                 )\n",
    "\n"
   ]
  },
  {
   "cell_type": "code",
   "execution_count": 13,
   "id": "0b7e1e1f-e21b-4336-b280-8bc7087ebb58",
   "metadata": {
    "tags": []
   },
   "outputs": [
    {
     "data": {
      "text/plain": [
       "(13730, 17)"
      ]
     },
     "execution_count": 13,
     "metadata": {},
     "output_type": "execute_result"
    }
   ],
   "source": [
    "trips_ridership_joined.shape"
   ]
  },
  {
   "cell_type": "code",
   "execution_count": 14,
   "id": "86c67e0b-c512-4b14-b13d-2ffaddf5d599",
   "metadata": {},
   "outputs": [],
   "source": [
    "columns_to_check = ['weekday_ons', 'sat_ons', 'sun_ons']"
   ]
  },
  {
   "cell_type": "code",
   "execution_count": 15,
   "id": "cdef705c-7ce1-4770-a20f-87833a07dc44",
   "metadata": {},
   "outputs": [],
   "source": [
    "trips_ridership_joined_all_na = trips_ridership_joined[\n",
    "    trips_ridership_joined[columns_to_check].isna().all(axis=1)\n",
    "]"
   ]
  },
  {
   "cell_type": "code",
   "execution_count": 16,
   "id": "5343c09f-576e-45f8-8423-737e00b37b36",
   "metadata": {},
   "outputs": [
    {
     "name": "stdout",
     "output_type": "stream",
     "text": [
      "<class 'geopandas.geodataframe.GeoDataFrame'>\n",
      "Int64Index: 13730 entries, 0 to 13729\n",
      "Data columns (total 17 columns):\n",
      " #   Column             Non-Null Count  Dtype   \n",
      "---  ------             --------------  -----   \n",
      " 0   name               13730 non-null  object  \n",
      " 1   location_type      966 non-null    float64 \n",
      " 2   route_type         13730 non-null  object  \n",
      " 3   stop_name          13730 non-null  object  \n",
      " 4   stop_id            13730 non-null  object  \n",
      " 5   stop_code          13730 non-null  object  \n",
      " 6   geometry           13730 non-null  geometry\n",
      " 7   n_trips_weekday    13710 non-null  float64 \n",
      " 8   n_trips_saturday   13124 non-null  float64 \n",
      " 9   n_trips_sunday     13090 non-null  float64 \n",
      " 10  n_routes_weekday   13710 non-null  float64 \n",
      " 11  n_routes_saturday  13124 non-null  float64 \n",
      " 12  n_routes_sunday    13090 non-null  float64 \n",
      " 13  stop_desc          0 non-null      object  \n",
      " 14  sat_ons            0 non-null      float64 \n",
      " 15  sun_ons            0 non-null      float64 \n",
      " 16  weekday_ons        0 non-null      float64 \n",
      "dtypes: float64(10), geometry(1), object(6)\n",
      "memory usage: 1.9+ MB\n"
     ]
    }
   ],
   "source": [
    "trips_ridership_joined_all_na.info()"
   ]
  },
  {
   "cell_type": "code",
   "execution_count": 17,
   "id": "0c89b02f-1918-4449-bd41-59d576bd6fdb",
   "metadata": {},
   "outputs": [],
   "source": [
    "trips_ridership_joined.to_excel('trips_ridership_joined_all.xlsx', index=False)"
   ]
  },
  {
   "cell_type": "code",
   "execution_count": 18,
   "id": "78423f9d-4278-4a5b-a90f-6336147393a9",
   "metadata": {},
   "outputs": [],
   "source": [
    "trips_ridership_joined_all_na.to_excel('trips_ridership_joined_all_na.xlsx', index=False)"
   ]
  },
  {
   "cell_type": "code",
   "execution_count": 19,
   "id": "94d14b9c-190b-41fc-830f-9da8f2955524",
   "metadata": {},
   "outputs": [],
   "source": [
    "trips_ridership_joined_filtered = trips_ridership_joined[\n",
    "    trips_ridership_joined[['weekday_ons', 'sat_ons', 'sun_ons']].isna().all(axis=1)\n",
    "]"
   ]
  },
  {
   "cell_type": "code",
   "execution_count": 20,
   "id": "963a56ca-19cd-4dee-8036-ff8353f2d403",
   "metadata": {},
   "outputs": [
    {
     "data": {
      "text/plain": [
       "array(['Monterey Salinas Schedule', 'LA Metro Bus Schedule',\n",
       "       'SBMTD Schedule'], dtype=object)"
      ]
     },
     "execution_count": 20,
     "metadata": {},
     "output_type": "execute_result"
    }
   ],
   "source": [
    "trips_ridership_joined_filtered.name.unique()"
   ]
  },
  {
   "cell_type": "code",
   "execution_count": 21,
   "id": "8d7e034a-f5f0-42ed-9a59-219e1b59f1ea",
   "metadata": {},
   "outputs": [
    {
     "data": {
      "text/plain": [
       "13730"
      ]
     },
     "execution_count": 21,
     "metadata": {},
     "output_type": "execute_result"
    }
   ],
   "source": [
    "len(trips_ridership_joined)"
   ]
  },
  {
   "cell_type": "code",
   "execution_count": 22,
   "id": "64739fd3-10bb-42b7-aed9-6422e808e4ad",
   "metadata": {
    "tags": []
   },
   "outputs": [
    {
     "data": {
      "text/plain": [
       "Index(['name', 'location_type', 'route_type', 'stop_name', 'stop_id',\n",
       "       'stop_code', 'geometry', 'n_trips_weekday', 'n_trips_saturday',\n",
       "       'n_trips_sunday', 'n_routes_weekday', 'n_routes_saturday',\n",
       "       'n_routes_sunday', 'stop_desc', 'sat_ons', 'sun_ons', 'weekday_ons'],\n",
       "      dtype='object')"
      ]
     },
     "execution_count": 22,
     "metadata": {},
     "output_type": "execute_result"
    }
   ],
   "source": [
    "trips_ridership_joined.columns"
   ]
  },
  {
   "cell_type": "code",
   "execution_count": 23,
   "id": "3bdee905-90b7-4e94-b7b7-89dec5f5af54",
   "metadata": {},
   "outputs": [
    {
     "name": "stderr",
     "output_type": "stream",
     "text": [
      "/tmp/ipykernel_2715/2323454397.py:3: UserWarning: Geometry is in a geographic CRS. Results from 'buffer' are likely incorrect. Use 'GeoSeries.to_crs()' to re-project geometries to a projected CRS before this operation.\n",
      "\n",
      "  trips_ridership_joined.geometry = trips_ridership_joined.buffer(402.336)\n"
     ]
    }
   ],
   "source": [
    "# add .25mi (10min walk) buffers to stops\n",
    "# this replaces our point geometry with polygons\n",
    "trips_ridership_joined.geometry = trips_ridership_joined.buffer(402.336)"
   ]
  },
  {
   "cell_type": "code",
   "execution_count": null,
   "id": "cbeb98aa-81f3-45ef-b7ee-cba97fa9d9d6",
   "metadata": {},
   "outputs": [],
   "source": []
  }
 ],
 "metadata": {
  "kernelspec": {
   "display_name": "Python 3 (ipykernel)",
   "language": "python",
   "name": "python3"
  },
  "language_info": {
   "codemirror_mode": {
    "name": "ipython",
    "version": 3
   },
   "file_extension": ".py",
   "mimetype": "text/x-python",
   "name": "python",
   "nbconvert_exporter": "python",
   "pygments_lexer": "ipython3",
   "version": "3.11.10"
  }
 },
 "nbformat": 4,
 "nbformat_minor": 5
}
