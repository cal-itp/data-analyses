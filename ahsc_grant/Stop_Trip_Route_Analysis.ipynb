{
 "cells": [
  {
   "cell_type": "code",
   "execution_count": 1,
   "id": "aa25b143-b16e-456b-a369-35408830850c",
   "metadata": {},
   "outputs": [],
   "source": [
    "import os\n",
    "os.environ[\"CALITP_BQ_MAX_BYTES\"] = str(800_000_000_000)\n",
    "\n",
    "import branca\n",
    "import folium\n",
    "from shared_utils import gtfs_utils_v2\n",
    "from segment_speed_utils import (helpers, \n",
    "                                 gtfs_schedule_wrangling, \n",
    "                                )\n",
    "\n",
    "import pandas as pd\n",
    "import geopandas as gpd \n",
    "\n",
    "import datetime as dt\n",
    "import time\n",
    "import fsspec\n",
    "import gcsfs\n",
    "from calitp_data_analysis import get_fs\n",
    "fs = get_fs()\n",
    "import tempfile"
   ]
  },
  {
   "cell_type": "code",
   "execution_count": 2,
   "id": "bb4fa7b4-e503-4947-9b3d-799d1b137d7f",
   "metadata": {},
   "outputs": [],
   "source": [
    "#Setting analysis date\n",
    "analysis_dt = dt.date(2025,6,2)"
   ]
  },
  {
   "cell_type": "code",
   "execution_count": 3,
   "id": "1ad30ca4-ccf2-47c6-b8be-dab7851671c5",
   "metadata": {},
   "outputs": [],
   "source": [
    "# #Function to fetch feeds, trips, stoptimes and stops_geo data from warehouse v2\n",
    "# def get_feeds_trips_stops_data(selected_date):\n",
    "    \n",
    "#     trip_cols = [\"name\", \"gtfs_dataset_key\", \"feed_key\", \"trip_id\", \"route_id\", \"route_type\", \"route_key\", \n",
    "#                  \"num_stop_times\", \"direction_id\", \"trip_first_departure_sec\", \"trip_first_departure_ts\", \n",
    "#                  \"trip_last_arrival_sec\", \"trip_start_timezone\", \"trip_instance_key\", \"service_hours\", \"trip_first_departure_datetime_pacific\"]\n",
    "#     stoptimes_cols = [\"key\", \"_gtfs_key\", \"feed_key\", \"trip_id\", \"stop_id\", \"stop_sequence\", \"arrival_time\", \"departure_time\",\n",
    "#        \"arrival_time_interval\", \"departure_time_interval\", \"arrival_hour\", \"departure_hour\"]\n",
    "#     stop_cols = [\"feed_key\", \"stop_id\", \"geometry\", \"stop_name\", \"stop_code\", \"location_type\", \"stop_desc\"]\n",
    "    \n",
    "#     feed_data = gtfs_utils_v2.schedule_daily_feed_to_gtfs_dataset_name(selected_date=selected_date)\n",
    "    \n",
    "    \n",
    "#     feed_key_list = feed_data['feed_key'].tolist()\n",
    "    \n",
    "#     trips_data_list = []\n",
    "#     stoptimes_data_list = []\n",
    "#     stop_locations_gdf = gpd.GeoDataFrame()\n",
    "#     for feed_key in feed_key_list:\n",
    "#         try:\n",
    "#             trips = gtfs_utils_v2.get_trips(selected_date=selected_date, operator_feeds=[feed_key])[trip_cols]\n",
    "#             trips_data_list.append(trips)\n",
    "\n",
    "#             stoptimes = gtfs_utils_v2.get_stop_times(selected_date=selected_date, operator_feeds=[feed_key], \n",
    "#                                                     trip_df=trips, get_df=True)[stoptimes_cols]\n",
    "#             stoptimes_data_list.append(stoptimes)\n",
    "\n",
    "#             stops_gdf = gtfs_utils_v2.get_stops(selected_date=selected_date, operator_feeds=[feed_key])[stop_cols]\n",
    "#             stop_locations_gdf = pd.concat([stop_locations_gdf, stops_gdf], ignore_index=True)\n",
    "#         except:\n",
    "#             print('Skipping a row')\n",
    "    \n",
    "#     trips_data = pd.concat(trips_data_list, ignore_index=True)\n",
    "#     stoptimes_data = pd.concat(stoptimes_data_list, ignore_index=True)\n",
    "    \n",
    "#     return feed_data, trips_data, stoptimes_data, stop_locations_gdf"
   ]
  },
  {
   "cell_type": "code",
   "execution_count": 4,
   "id": "a9ee9e12-4509-45d5-94c3-7508ff0351bf",
   "metadata": {},
   "outputs": [],
   "source": [
    "# feed_data, trips_data, stoptimes_data, stop_locations_gdf = get_feeds_trips_stops_data(analysis_dt)"
   ]
  },
  {
   "cell_type": "code",
   "execution_count": 5,
   "id": "e3add949-e4d7-4d7f-a64d-78f950810585",
   "metadata": {},
   "outputs": [],
   "source": [
    "GCS_FILE_PATH  = 'gs://calitp-analytics-data/data-analyses/ahsc_grant'"
   ]
  },
  {
   "cell_type": "markdown",
   "id": "b473eeb7-ae3c-4855-85c2-4a14bcb35f36",
   "metadata": {},
   "source": [
    "Exporting data to GCS for reuse, minimizing repeated warehouse queries."
   ]
  },
  {
   "cell_type": "code",
   "execution_count": 6,
   "id": "220f42b7-44d2-4ea9-9955-e59191b14bd5",
   "metadata": {},
   "outputs": [],
   "source": [
    "# trips_data.to_parquet(f\"{GCS_FILE_PATH}/trips_06_02_2025.parquet\")\n",
    "# stoptimes_data.to_csv(f\"{GCS_FILE_PATH}/stoptimes_06_02_2025.csv\")\n",
    "# feed_data.to_parquet(f\"{GCS_FILE_PATH}/feed_06_02_2025.parquet\")\n",
    "# with fsspec.open(f\"{GCS_FILE_PATH}/stop_locations_06_02_2025.parquet\", 'wb') as f:\n",
    "#     stop_locations_gdf.to_parquet(f)"
   ]
  },
  {
   "cell_type": "markdown",
   "id": "a460acbb-ca9e-403a-8bb1-2d78fd9c54f1",
   "metadata": {},
   "source": [
    "Reading stoptimes, trips, feed and stop locations data "
   ]
  },
  {
   "cell_type": "code",
   "execution_count": 7,
   "id": "50f3a2c1-e546-4be1-9615-0bbd50d56e5e",
   "metadata": {},
   "outputs": [
    {
     "name": "stderr",
     "output_type": "stream",
     "text": [
      "/tmp/ipykernel_1677/658927763.py:1: DtypeWarning: Columns (4,5) have mixed types. Specify dtype option on import or set low_memory=False.\n",
      "  stoptimes_data = pd.read_csv(f\"{GCS_FILE_PATH}/stoptimes_06_02_2025.csv\")\n"
     ]
    }
   ],
   "source": [
    "stoptimes_data = pd.read_csv(f\"{GCS_FILE_PATH}/stoptimes_06_02_2025.csv\")"
   ]
  },
  {
   "cell_type": "code",
   "execution_count": 8,
   "id": "ab9ecbcf-ff8b-42c2-82d1-02c5ff37e874",
   "metadata": {},
   "outputs": [],
   "source": [
    "trips_data = pd.read_parquet(f\"{GCS_FILE_PATH}/trips_06_02_2025.parquet\")"
   ]
  },
  {
   "cell_type": "code",
   "execution_count": 9,
   "id": "cd5d6f10-ebb4-49d2-9740-3c1858e87ef7",
   "metadata": {},
   "outputs": [],
   "source": [
    "feed_data = pd.read_parquet(f\"{GCS_FILE_PATH}/feed_06_02_2025.parquet\")"
   ]
  },
  {
   "cell_type": "code",
   "execution_count": 10,
   "id": "3f810b2b-24c1-40f3-a9ff-6c11f840a916",
   "metadata": {},
   "outputs": [],
   "source": [
    "with fs.open(f\"{GCS_FILE_PATH}/stop_locations_06_02_2025.parquet\", 'rb') as f:\n",
    "    stop_locations_gdf = gpd.read_parquet(f)"
   ]
  },
  {
   "cell_type": "code",
   "execution_count": 11,
   "id": "23928cf9-ad04-4b2a-b060-69c84d066439",
   "metadata": {},
   "outputs": [],
   "source": [
    "# Retaining California based stops only \n",
    "# Loading California county boundaries GeoJSON data from ArcGIS REST service\n",
    "CA_URL = \"https://services1.arcgis.com/jUJYIo9tSA7EHvfZ/arcgis/rest/services/California_County_Boundaries/FeatureServer/0/query?outFields=*&where=1%3D1&f=geojson\"\n",
    "CA_county = gpd.read_file(CA_URL)"
   ]
  },
  {
   "cell_type": "code",
   "execution_count": 12,
   "id": "65014e89-b671-43fb-8742-8b2ea97b4cf4",
   "metadata": {},
   "outputs": [],
   "source": [
    "CA_county = CA_county.to_crs(stop_locations_gdf.crs)"
   ]
  },
  {
   "cell_type": "code",
   "execution_count": 13,
   "id": "1add3ba8-f57e-429e-88ed-b8935cf2b384",
   "metadata": {},
   "outputs": [],
   "source": [
    "# Spatially joining stop locations with California county boundaries to keep stops within CA\n",
    "stop_locations_gdf_ca = gpd.sjoin(\n",
    "    stop_locations_gdf,  \n",
    "    CA_county,                    \n",
    "    how='inner',\n",
    "    predicate='intersects'\n",
    ")"
   ]
  },
  {
   "cell_type": "code",
   "execution_count": 14,
   "id": "ba0677c1-2092-45aa-9726-ceec716ce85d",
   "metadata": {
    "tags": []
   },
   "outputs": [
    {
     "data": {
      "text/plain": [
       "(84082, 18)"
      ]
     },
     "execution_count": 14,
     "metadata": {},
     "output_type": "execute_result"
    }
   ],
   "source": [
    "stop_locations_gdf_ca.shape"
   ]
  },
  {
   "cell_type": "code",
   "execution_count": 15,
   "id": "fedbc679-3fca-4841-a918-d6619dad29b5",
   "metadata": {
    "tags": []
   },
   "outputs": [],
   "source": [
    "stoptimesdata_california = pd.merge(\n",
    "    stoptimes_data,\n",
    "    stop_locations_gdf_ca[['feed_key', 'stop_id', 'stop_name', 'location_type', 'stop_desc', 'geometry']],\n",
    "    on=['feed_key', 'stop_id'],\n",
    "    how='inner'\n",
    ")"
   ]
  },
  {
   "cell_type": "code",
   "execution_count": 16,
   "id": "e7a4680e-8c9a-4b53-b407-39e9bbf2adb0",
   "metadata": {
    "tags": []
   },
   "outputs": [
    {
     "name": "stdout",
     "output_type": "stream",
     "text": [
      "<class 'pandas.core.frame.DataFrame'>\n",
      "Int64Index: 1126889 entries, 0 to 1126888\n",
      "Data columns (total 17 columns):\n",
      " #   Column                   Non-Null Count    Dtype   \n",
      "---  ------                   --------------    -----   \n",
      " 0   Unnamed: 0               1126889 non-null  int64   \n",
      " 1   key                      1126889 non-null  object  \n",
      " 2   _gtfs_key                1126889 non-null  object  \n",
      " 3   feed_key                 1126889 non-null  object  \n",
      " 4   trip_id                  1126889 non-null  object  \n",
      " 5   stop_id                  1126889 non-null  object  \n",
      " 6   stop_sequence            1126889 non-null  int64   \n",
      " 7   arrival_time             1061034 non-null  object  \n",
      " 8   departure_time           1061034 non-null  object  \n",
      " 9   arrival_time_interval    1061034 non-null  object  \n",
      " 10  departure_time_interval  1061034 non-null  object  \n",
      " 11  arrival_hour             1061034 non-null  float64 \n",
      " 12  departure_hour           1061034 non-null  float64 \n",
      " 13  stop_name                1126889 non-null  object  \n",
      " 14  location_type            619264 non-null   float64 \n",
      " 15  stop_desc                159828 non-null   object  \n",
      " 16  geometry                 1126889 non-null  geometry\n",
      "dtypes: float64(3), geometry(1), int64(2), object(11)\n",
      "memory usage: 154.8+ MB\n"
     ]
    }
   ],
   "source": [
    "stoptimesdata_california.info()"
   ]
  },
  {
   "cell_type": "code",
   "execution_count": 17,
   "id": "2e9183c6-4d78-4696-a3f7-1d65e1c45125",
   "metadata": {},
   "outputs": [
    {
     "name": "stdout",
     "output_type": "stream",
     "text": [
      "<class 'pandas.core.frame.DataFrame'>\n",
      "RangeIndex: 162083 entries, 0 to 162082\n",
      "Data columns (total 16 columns):\n",
      " #   Column                                 Non-Null Count   Dtype              \n",
      "---  ------                                 --------------   -----              \n",
      " 0   name                                   162083 non-null  object             \n",
      " 1   gtfs_dataset_key                       162083 non-null  object             \n",
      " 2   feed_key                               162083 non-null  object             \n",
      " 3   trip_id                                162083 non-null  object             \n",
      " 4   route_id                               162083 non-null  object             \n",
      " 5   route_type                             162083 non-null  object             \n",
      " 6   route_key                              162083 non-null  object             \n",
      " 7   num_stop_times                         162083 non-null  int64              \n",
      " 8   direction_id                           94257 non-null   float64            \n",
      " 9   trip_first_departure_sec               162082 non-null  float64            \n",
      " 10  trip_first_departure_ts                162082 non-null  datetime64[ns, UTC]\n",
      " 11  trip_last_arrival_sec                  162082 non-null  float64            \n",
      " 12  trip_start_timezone                    162083 non-null  object             \n",
      " 13  trip_instance_key                      162083 non-null  object             \n",
      " 14  service_hours                          162082 non-null  float64            \n",
      " 15  trip_first_departure_datetime_pacific  162082 non-null  datetime64[ns]     \n",
      "dtypes: datetime64[ns, UTC](1), datetime64[ns](1), float64(4), int64(1), object(9)\n",
      "memory usage: 19.8+ MB\n"
     ]
    }
   ],
   "source": [
    "trips_data.info()"
   ]
  },
  {
   "cell_type": "code",
   "execution_count": 18,
   "id": "e340e335-04e5-4b21-9458-467ca32fd7c8",
   "metadata": {},
   "outputs": [],
   "source": [
    "trips_data_cleaned = trips_data.drop_duplicates() # Dropping duplicates"
   ]
  },
  {
   "cell_type": "code",
   "execution_count": 19,
   "id": "f84cf818-f70b-4256-87c7-b66289d83d99",
   "metadata": {},
   "outputs": [
    {
     "name": "stdout",
     "output_type": "stream",
     "text": [
      "<class 'pandas.core.frame.DataFrame'>\n",
      "Int64Index: 162072 entries, 0 to 162082\n",
      "Data columns (total 16 columns):\n",
      " #   Column                                 Non-Null Count   Dtype              \n",
      "---  ------                                 --------------   -----              \n",
      " 0   name                                   162072 non-null  object             \n",
      " 1   gtfs_dataset_key                       162072 non-null  object             \n",
      " 2   feed_key                               162072 non-null  object             \n",
      " 3   trip_id                                162072 non-null  object             \n",
      " 4   route_id                               162072 non-null  object             \n",
      " 5   route_type                             162072 non-null  object             \n",
      " 6   route_key                              162072 non-null  object             \n",
      " 7   num_stop_times                         162072 non-null  int64              \n",
      " 8   direction_id                           94246 non-null   float64            \n",
      " 9   trip_first_departure_sec               162071 non-null  float64            \n",
      " 10  trip_first_departure_ts                162071 non-null  datetime64[ns, UTC]\n",
      " 11  trip_last_arrival_sec                  162071 non-null  float64            \n",
      " 12  trip_start_timezone                    162072 non-null  object             \n",
      " 13  trip_instance_key                      162072 non-null  object             \n",
      " 14  service_hours                          162071 non-null  float64            \n",
      " 15  trip_first_departure_datetime_pacific  162071 non-null  datetime64[ns]     \n",
      "dtypes: datetime64[ns, UTC](1), datetime64[ns](1), float64(4), int64(1), object(9)\n",
      "memory usage: 21.0+ MB\n"
     ]
    }
   ],
   "source": [
    "trips_data_cleaned.info()"
   ]
  },
  {
   "cell_type": "code",
   "execution_count": 20,
   "id": "c6a2cff2-27ff-4299-806c-7595d9e51f1d",
   "metadata": {},
   "outputs": [],
   "source": [
    "#Merging stop data with trip data on trip id and feed key.\n",
    "stop_trip_merged = pd.merge(stoptimesdata_california,\n",
    "                            trips_data_cleaned,\n",
    "                            on = ['trip_id', 'feed_key'],\n",
    "                            how = 'left')"
   ]
  },
  {
   "cell_type": "code",
   "execution_count": 28,
   "id": "2ca6c271-3f35-4560-aa9c-759b306a2160",
   "metadata": {
    "tags": []
   },
   "outputs": [],
   "source": [
    "# Adding peak/off-peak labels to trip instances based on scheduled time buckets for the given analysis date\n",
    "sched_time_of_day = gtfs_schedule_wrangling.get_trip_time_buckets(\n",
    "    analysis_dt\n",
    ").pipe(\n",
    "    gtfs_schedule_wrangling.add_peak_offpeak_column\n",
    ")[[\"trip_instance_key\", \"peak_offpeak\"]]"
   ]
  },
  {
   "cell_type": "code",
   "execution_count": 29,
   "id": "9839b892-2f4e-4103-a75a-833fe653b2a3",
   "metadata": {
    "tags": []
   },
   "outputs": [],
   "source": [
    "#Merging scheduled time of the data \n",
    "stop_trip_merged = pd.merge(\n",
    "    stop_trip_merged,\n",
    "    sched_time_of_day,\n",
    "    on='trip_instance_key',\n",
    "    how='left'\n",
    ")"
   ]
  },
  {
   "cell_type": "code",
   "execution_count": 21,
   "id": "9bae3eac-acc7-4a00-8769-6204fb6f418c",
   "metadata": {},
   "outputs": [],
   "source": [
    "# Counting unique trips per stop and renaming column to 'num_trips'\n",
    "num_trips_per_stop = stop_trip_merged.groupby('stop_id')['trip_instance_key'].nunique().reset_index().rename(columns={'trip_instance_key':'num_trips'})"
   ]
  },
  {
   "cell_type": "code",
   "execution_count": 22,
   "id": "ee086219-2378-4e8b-a90b-5441b3e8f013",
   "metadata": {},
   "outputs": [
    {
     "data": {
      "text/plain": [
       "(28350, 2)"
      ]
     },
     "execution_count": 22,
     "metadata": {},
     "output_type": "execute_result"
    }
   ],
   "source": [
    "num_trips_per_stop.shape"
   ]
  },
  {
   "cell_type": "code",
   "execution_count": 23,
   "id": "a6a194ec-7de1-467d-b0b3-f11892ede411",
   "metadata": {},
   "outputs": [],
   "source": [
    "# Counting unique routes per stop and renaming column to 'num_routes'\n",
    "num_routes_per_stop = stop_trip_merged.groupby('stop_id')['route_id'].nunique().reset_index().rename(columns={'route_id':'num_routes'})"
   ]
  },
  {
   "cell_type": "code",
   "execution_count": 24,
   "id": "ec120f71-c466-42ca-a946-eaa13d94f7ea",
   "metadata": {},
   "outputs": [
    {
     "data": {
      "text/plain": [
       "(28350, 2)"
      ]
     },
     "execution_count": 24,
     "metadata": {},
     "output_type": "execute_result"
    }
   ],
   "source": [
    "num_routes_per_stop.shape"
   ]
  },
  {
   "cell_type": "code",
   "execution_count": 34,
   "id": "e099b61b-769c-45ad-ad03-7ee47aadc912",
   "metadata": {
    "tags": []
   },
   "outputs": [],
   "source": [
    "# Filtering stop-trip data to include only peak period trips\n",
    "peak_stop_times = stop_trip_merged[stop_trip_merged['peak_offpeak'] == 'peak'].copy()"
   ]
  },
  {
   "cell_type": "code",
   "execution_count": 35,
   "id": "ce58de12-2915-4d04-8533-9229610bad2a",
   "metadata": {
    "tags": []
   },
   "outputs": [],
   "source": [
    "#Filter for peak + arrival before 9 AM\n",
    "am_peak_stop_trip = peak_stop_times[peak_stop_times['arrival_hour'] < 9].copy()\n",
    "\n",
    "#Assign time_of_day manually\n",
    "am_peak_stop_trip['time_of_day'] = 'AM Peak'\n"
   ]
  },
  {
   "cell_type": "code",
   "execution_count": 51,
   "id": "26db87a5-80f9-405b-a642-cfb7b3f381e1",
   "metadata": {
    "tags": []
   },
   "outputs": [],
   "source": [
    "group_cols = ['feed_key','stop_id', 'route_id', 'direction_id']"
   ]
  },
  {
   "cell_type": "code",
   "execution_count": 52,
   "id": "22cdcaec-d976-4a26-98e3-326ee6653682",
   "metadata": {},
   "outputs": [],
   "source": [
    "stop_route_summary = gtfs_schedule_wrangling.aggregate_time_of_day_to_peak_offpeak(\n",
    "    df=am_peak_stop_trip,\n",
    "    group_cols=group_cols,\n",
    "    long_or_wide='wide'\n",
    ")"
   ]
  },
  {
   "cell_type": "code",
   "execution_count": 53,
   "id": "901828bf-f937-42c0-b8cf-0f2deb60c74a",
   "metadata": {
    "tags": []
   },
   "outputs": [],
   "source": [
    "stop_route_summary['peak_headway'] = 60 / stop_route_summary['peak_frequency']"
   ]
  },
  {
   "cell_type": "code",
   "execution_count": 54,
   "id": "4f875909-57c2-4330-844e-41e00817aa87",
   "metadata": {
    "tags": []
   },
   "outputs": [
    {
     "data": {
      "text/html": [
       "<div>\n",
       "<style scoped>\n",
       "    .dataframe tbody tr th:only-of-type {\n",
       "        vertical-align: middle;\n",
       "    }\n",
       "\n",
       "    .dataframe tbody tr th {\n",
       "        vertical-align: top;\n",
       "    }\n",
       "\n",
       "    .dataframe thead th {\n",
       "        text-align: right;\n",
       "    }\n",
       "</style>\n",
       "<table border=\"1\" class=\"dataframe\">\n",
       "  <thead>\n",
       "    <tr style=\"text-align: right;\">\n",
       "      <th></th>\n",
       "      <th>feed_key</th>\n",
       "      <th>stop_id</th>\n",
       "      <th>route_id</th>\n",
       "      <th>direction_id</th>\n",
       "      <th>all_day_n_trips</th>\n",
       "      <th>peak_n_trips</th>\n",
       "      <th>all_day_frequency</th>\n",
       "      <th>peak_frequency</th>\n",
       "      <th>peak_headway</th>\n",
       "    </tr>\n",
       "  </thead>\n",
       "  <tbody>\n",
       "    <tr>\n",
       "      <th>0</th>\n",
       "      <td>058a3b43698f803c8686f7e72a9efd4c</td>\n",
       "      <td>121914</td>\n",
       "      <td>11796</td>\n",
       "      <td>1.0</td>\n",
       "      <td>1.0</td>\n",
       "      <td>1.0</td>\n",
       "      <td>0.04</td>\n",
       "      <td>0.12</td>\n",
       "      <td>500.0</td>\n",
       "    </tr>\n",
       "    <tr>\n",
       "      <th>1</th>\n",
       "      <td>058a3b43698f803c8686f7e72a9efd4c</td>\n",
       "      <td>121915</td>\n",
       "      <td>11792</td>\n",
       "      <td>1.0</td>\n",
       "      <td>1.0</td>\n",
       "      <td>1.0</td>\n",
       "      <td>0.04</td>\n",
       "      <td>0.12</td>\n",
       "      <td>500.0</td>\n",
       "    </tr>\n",
       "    <tr>\n",
       "      <th>2</th>\n",
       "      <td>058a3b43698f803c8686f7e72a9efd4c</td>\n",
       "      <td>121916</td>\n",
       "      <td>11792</td>\n",
       "      <td>1.0</td>\n",
       "      <td>1.0</td>\n",
       "      <td>1.0</td>\n",
       "      <td>0.04</td>\n",
       "      <td>0.12</td>\n",
       "      <td>500.0</td>\n",
       "    </tr>\n",
       "    <tr>\n",
       "      <th>3</th>\n",
       "      <td>058a3b43698f803c8686f7e72a9efd4c</td>\n",
       "      <td>121917</td>\n",
       "      <td>11792</td>\n",
       "      <td>1.0</td>\n",
       "      <td>1.0</td>\n",
       "      <td>1.0</td>\n",
       "      <td>0.04</td>\n",
       "      <td>0.12</td>\n",
       "      <td>500.0</td>\n",
       "    </tr>\n",
       "    <tr>\n",
       "      <th>4</th>\n",
       "      <td>058a3b43698f803c8686f7e72a9efd4c</td>\n",
       "      <td>121919</td>\n",
       "      <td>11795</td>\n",
       "      <td>1.0</td>\n",
       "      <td>2.0</td>\n",
       "      <td>2.0</td>\n",
       "      <td>0.08</td>\n",
       "      <td>0.25</td>\n",
       "      <td>240.0</td>\n",
       "    </tr>\n",
       "  </tbody>\n",
       "</table>\n",
       "</div>"
      ],
      "text/plain": [
       "                           feed_key stop_id route_id  direction_id  \\\n",
       "0  058a3b43698f803c8686f7e72a9efd4c  121914    11796           1.0   \n",
       "1  058a3b43698f803c8686f7e72a9efd4c  121915    11792           1.0   \n",
       "2  058a3b43698f803c8686f7e72a9efd4c  121916    11792           1.0   \n",
       "3  058a3b43698f803c8686f7e72a9efd4c  121917    11792           1.0   \n",
       "4  058a3b43698f803c8686f7e72a9efd4c  121919    11795           1.0   \n",
       "\n",
       "   all_day_n_trips  peak_n_trips  all_day_frequency  peak_frequency  \\\n",
       "0              1.0           1.0               0.04            0.12   \n",
       "1              1.0           1.0               0.04            0.12   \n",
       "2              1.0           1.0               0.04            0.12   \n",
       "3              1.0           1.0               0.04            0.12   \n",
       "4              2.0           2.0               0.08            0.25   \n",
       "\n",
       "   peak_headway  \n",
       "0         500.0  \n",
       "1         500.0  \n",
       "2         500.0  \n",
       "3         500.0  \n",
       "4         240.0  "
      ]
     },
     "execution_count": 54,
     "metadata": {},
     "output_type": "execute_result"
    }
   ],
   "source": [
    "stop_route_summary.head(5)"
   ]
  },
  {
   "cell_type": "code",
   "execution_count": null,
   "id": "98f99018-f818-43f2-a884-15b2c863f940",
   "metadata": {},
   "outputs": [],
   "source": [
    "# # Calculating average AM peak headway (minutes) for each stop\n",
    "# headways_per_stop = (\n",
    "#     am_peak_times_sorted\n",
    "#     .groupby('stop_id')['peak_headway']\n",
    "#     .mean()  \n",
    "#     .reset_index()\n",
    "# )"
   ]
  },
  {
   "cell_type": "code",
   "execution_count": 37,
   "id": "d08a6c8f-961b-4c68-9a17-af046b262cdc",
   "metadata": {
    "tags": []
   },
   "outputs": [],
   "source": [
    "# # Saving geojson file\n",
    "# with tempfile.NamedTemporaryFile(suffix=\".geojson\") as tmp:\n",
    "#     stop_summary_final.to_file(tmp.name, driver=\"GeoJSON\")\n",
    "\n",
    "\n",
    "#     with fsspec.open(f\"{GCS_FILE_PATH}/stop_summary.geojson\", 'w') as f_out:\n",
    "#         with open(tmp.name, 'r') as f_in:\n",
    "#             f_out.write(f_in.read())"
   ]
  }
 ],
 "metadata": {
  "kernelspec": {
   "display_name": "Python 3 (ipykernel)",
   "language": "python",
   "name": "python3"
  },
  "language_info": {
   "codemirror_mode": {
    "name": "ipython",
    "version": 3
   },
   "file_extension": ".py",
   "mimetype": "text/x-python",
   "name": "python",
   "nbconvert_exporter": "python",
   "pygments_lexer": "ipython3",
   "version": "3.11.10"
  }
 },
 "nbformat": 4,
 "nbformat_minor": 5
}
