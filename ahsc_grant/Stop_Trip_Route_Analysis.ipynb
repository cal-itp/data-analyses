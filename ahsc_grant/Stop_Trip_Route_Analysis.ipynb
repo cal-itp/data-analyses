{
 "cells": [
  {
   "cell_type": "code",
   "execution_count": 1,
   "id": "aa25b143-b16e-456b-a369-35408830850c",
   "metadata": {},
   "outputs": [],
   "source": [
    "import os\n",
    "os.environ[\"CALITP_BQ_MAX_BYTES\"] = str(800_000_000_000)\n",
    "\n",
    "import branca\n",
    "import folium\n",
    "from shared_utils import gtfs_utils_v2\n",
    "from segment_speed_utils import (helpers, \n",
    "                                 gtfs_schedule_wrangling, \n",
    "                                )\n",
    "\n",
    "import pandas as pd\n",
    "import geopandas as gpd \n",
    "\n",
    "import datetime as dt\n",
    "import time\n",
    "import fsspec\n",
    "import gcsfs\n",
    "from calitp_data_analysis import get_fs\n",
    "fs = get_fs()\n",
    "import tempfile"
   ]
  },
  {
   "cell_type": "code",
   "execution_count": 2,
   "id": "129a8644-b30e-4dfc-80c9-fc57f191db5a",
   "metadata": {},
   "outputs": [],
   "source": [
    "pd.options.display.max_columns = 100\n",
    "pd.options.display.float_format = \"{:.2f}\".format\n",
    "pd.set_option(\"display.max_rows\", None)\n",
    "pd.set_option(\"display.max_colwidth\", None)"
   ]
  },
  {
   "cell_type": "code",
   "execution_count": 3,
   "id": "bb4fa7b4-e503-4947-9b3d-799d1b137d7f",
   "metadata": {},
   "outputs": [],
   "source": [
    "#Setting analysis date\n",
    "analysis_dt = dt.date(2025,6,2)"
   ]
  },
  {
   "cell_type": "code",
   "execution_count": 4,
   "id": "1ad30ca4-ccf2-47c6-b8be-dab7851671c5",
   "metadata": {},
   "outputs": [],
   "source": [
    "# #Function to fetch feeds, trips, stoptimes and stops_geo data from warehouse v2\n",
    "# def get_feeds_trips_stops_data(selected_date):\n",
    "    \n",
    "#     trip_cols = [\"name\", \"gtfs_dataset_key\", \"feed_key\", \"trip_id\", \"route_id\", \"route_type\", \"route_key\", \n",
    "#                  \"num_stop_times\", \"direction_id\", \"trip_first_departure_sec\", \"trip_first_departure_ts\", \n",
    "#                  \"trip_last_arrival_sec\", \"trip_start_timezone\", \"trip_instance_key\", \"service_hours\", \"trip_first_departure_datetime_pacific\"]\n",
    "#     stoptimes_cols = [\"key\", \"_gtfs_key\", \"feed_key\", \"trip_id\", \"stop_id\", \"stop_sequence\", \"arrival_time\", \"departure_time\",\n",
    "#        \"arrival_time_interval\", \"departure_time_interval\", \"arrival_hour\", \"departure_hour\"]\n",
    "#     stop_cols = [\"feed_key\", \"stop_id\", \"geometry\", \"stop_name\", \"stop_code\", \"location_type\", \"stop_desc\"]\n",
    "    \n",
    "#     feed_data = gtfs_utils_v2.schedule_daily_feed_to_gtfs_dataset_name(selected_date=selected_date)\n",
    "    \n",
    "    \n",
    "#     feed_key_list = feed_data['feed_key'].tolist()\n",
    "    \n",
    "#     trips_data_list = []\n",
    "#     stoptimes_data_list = []\n",
    "#     stop_locations_gdf = gpd.GeoDataFrame()\n",
    "#     for feed_key in feed_key_list:\n",
    "#         try:\n",
    "#             trips = gtfs_utils_v2.get_trips(selected_date=selected_date, operator_feeds=[feed_key])[trip_cols]\n",
    "#             trips_data_list.append(trips)\n",
    "\n",
    "#             stoptimes = gtfs_utils_v2.get_stop_times(selected_date=selected_date, operator_feeds=[feed_key], \n",
    "#                                                     trip_df=trips, get_df=True)[stoptimes_cols]\n",
    "#             stoptimes_data_list.append(stoptimes)\n",
    "\n",
    "#             stops_gdf = gtfs_utils_v2.get_stops(selected_date=selected_date, operator_feeds=[feed_key])[stop_cols]\n",
    "#             stop_locations_gdf = pd.concat([stop_locations_gdf, stops_gdf], ignore_index=True)\n",
    "#         except:\n",
    "#             print('Skipping a row')\n",
    "    \n",
    "#     trips_data = pd.concat(trips_data_list, ignore_index=True)\n",
    "#     stoptimes_data = pd.concat(stoptimes_data_list, ignore_index=True)\n",
    "    \n",
    "#     return feed_data, trips_data, stoptimes_data, stop_locations_gdf"
   ]
  },
  {
   "cell_type": "code",
   "execution_count": 5,
   "id": "a9ee9e12-4509-45d5-94c3-7508ff0351bf",
   "metadata": {},
   "outputs": [],
   "source": [
    "# feed_data, trips_data, stoptimes_data, stop_locations_gdf = get_feeds_trips_stops_data(analysis_dt)"
   ]
  },
  {
   "cell_type": "code",
   "execution_count": 6,
   "id": "e3add949-e4d7-4d7f-a64d-78f950810585",
   "metadata": {},
   "outputs": [],
   "source": [
    "GCS_FILE_PATH  = 'gs://calitp-analytics-data/data-analyses/ahsc_grant'"
   ]
  },
  {
   "cell_type": "markdown",
   "id": "b473eeb7-ae3c-4855-85c2-4a14bcb35f36",
   "metadata": {},
   "source": [
    "Exporting data to GCS for reuse, minimizing repeated warehouse queries."
   ]
  },
  {
   "cell_type": "code",
   "execution_count": 7,
   "id": "220f42b7-44d2-4ea9-9955-e59191b14bd5",
   "metadata": {},
   "outputs": [],
   "source": [
    "# trips_data.to_parquet(f\"{GCS_FILE_PATH}/trips_06_02_2025.parquet\")\n",
    "# stoptimes_data.to_csv(f\"{GCS_FILE_PATH}/stoptimes_06_02_2025.csv\")\n",
    "# feed_data.to_parquet(f\"{GCS_FILE_PATH}/feed_06_02_2025.parquet\")\n",
    "# with fsspec.open(f\"{GCS_FILE_PATH}/stop_locations_06_02_2025.parquet\", 'wb') as f:\n",
    "#     stop_locations_gdf.to_parquet(f)"
   ]
  },
  {
   "cell_type": "markdown",
   "id": "a460acbb-ca9e-403a-8bb1-2d78fd9c54f1",
   "metadata": {},
   "source": [
    "Reading stoptimes, trips, feed and stop locations data "
   ]
  },
  {
   "cell_type": "code",
   "execution_count": 8,
   "id": "50f3a2c1-e546-4be1-9615-0bbd50d56e5e",
   "metadata": {},
   "outputs": [
    {
     "name": "stderr",
     "output_type": "stream",
     "text": [
      "/tmp/ipykernel_2116/658927763.py:1: DtypeWarning: Columns (4,5) have mixed types. Specify dtype option on import or set low_memory=False.\n",
      "  stoptimes_data = pd.read_csv(f\"{GCS_FILE_PATH}/stoptimes_06_02_2025.csv\")\n"
     ]
    }
   ],
   "source": [
    "stoptimes_data = pd.read_csv(f\"{GCS_FILE_PATH}/stoptimes_06_02_2025.csv\")"
   ]
  },
  {
   "cell_type": "code",
   "execution_count": 9,
   "id": "ab9ecbcf-ff8b-42c2-82d1-02c5ff37e874",
   "metadata": {},
   "outputs": [],
   "source": [
    "trips_data = pd.read_parquet(f\"{GCS_FILE_PATH}/trips_06_02_2025.parquet\")"
   ]
  },
  {
   "cell_type": "code",
   "execution_count": 10,
   "id": "cd5d6f10-ebb4-49d2-9740-3c1858e87ef7",
   "metadata": {},
   "outputs": [],
   "source": [
    "feed_data = pd.read_parquet(f\"{GCS_FILE_PATH}/feed_06_02_2025.parquet\")"
   ]
  },
  {
   "cell_type": "code",
   "execution_count": 11,
   "id": "3f810b2b-24c1-40f3-a9ff-6c11f840a916",
   "metadata": {},
   "outputs": [],
   "source": [
    "with fs.open(f\"{GCS_FILE_PATH}/stop_locations_06_02_2025.parquet\", 'rb') as f:\n",
    "    stop_locations_gdf = gpd.read_parquet(f)"
   ]
  },
  {
   "cell_type": "code",
   "execution_count": 12,
   "id": "d452a5a1-3b5b-4cb6-878a-ad96a0198a17",
   "metadata": {},
   "outputs": [],
   "source": [
    "# Creating a new column column by concatenating stop_id and stop_name\n",
    "stop_locations_gdf[\"combo_col\"] = (\n",
    "    stop_locations_gdf.stop_id + stop_locations_gdf.stop_name\n",
    ")"
   ]
  },
  {
   "cell_type": "code",
   "execution_count": 13,
   "id": "fb53fa1c-a2f0-42c7-ae7f-e94d2c31836e",
   "metadata": {},
   "outputs": [
    {
     "data": {
      "text/plain": [
       "84403"
      ]
     },
     "execution_count": 13,
     "metadata": {},
     "output_type": "execute_result"
    }
   ],
   "source": [
    "stop_locations_gdf[\"combo_col\"].nunique()"
   ]
  },
  {
   "cell_type": "code",
   "execution_count": 14,
   "id": "23928cf9-ad04-4b2a-b060-69c84d066439",
   "metadata": {},
   "outputs": [],
   "source": [
    "# Retaining California based stops only \n",
    "# Loading California county boundaries GeoJSON data from ArcGIS REST service\n",
    "CA_URL = \"https://services1.arcgis.com/jUJYIo9tSA7EHvfZ/arcgis/rest/services/California_County_Boundaries/FeatureServer/0/query?outFields=*&where=1%3D1&f=geojson\"\n",
    "CA_county = gpd.read_file(CA_URL)"
   ]
  },
  {
   "cell_type": "code",
   "execution_count": 15,
   "id": "65014e89-b671-43fb-8742-8b2ea97b4cf4",
   "metadata": {},
   "outputs": [],
   "source": [
    "# Reprojecting CA_county to match the coordinate reference system of stop_locations_gdf\n",
    "CA_county = CA_county.to_crs(stop_locations_gdf.crs)"
   ]
  },
  {
   "cell_type": "code",
   "execution_count": 16,
   "id": "1add3ba8-f57e-429e-88ed-b8935cf2b384",
   "metadata": {},
   "outputs": [],
   "source": [
    "# Spatially joining stop locations with California county boundaries to keep stops within CA\n",
    "stop_locations_gdf_ca = gpd.sjoin(\n",
    "    stop_locations_gdf,  \n",
    "    CA_county,                    \n",
    "    how='inner',\n",
    "    predicate='intersects'\n",
    ")"
   ]
  },
  {
   "cell_type": "code",
   "execution_count": 17,
   "id": "53e0a5f4-926f-4a12-983d-2d968bbc1322",
   "metadata": {},
   "outputs": [],
   "source": [
    "# Dropping duplicate rows based on geometry and combo_col\n",
    "stop_locations_gdf_ca2 = stop_locations_gdf_ca.drop_duplicates(\n",
    "    subset=[\"geometry\", \"combo_col\"]\n",
    ").reset_index()"
   ]
  },
  {
   "cell_type": "code",
   "execution_count": 18,
   "id": "f62afb8c-adc8-468d-90b1-432991b9ade4",
   "metadata": {},
   "outputs": [
    {
     "data": {
      "text/plain": [
       "(82853, 82754)"
      ]
     },
     "execution_count": 18,
     "metadata": {},
     "output_type": "execute_result"
    }
   ],
   "source": [
    "len(stop_locations_gdf_ca2), stop_locations_gdf_ca2.combo_col.nunique()"
   ]
  },
  {
   "cell_type": "code",
   "execution_count": 19,
   "id": "9934730b-79a7-4643-aa18-ce18c3bd1ff1",
   "metadata": {},
   "outputs": [],
   "source": [
    "# Dropping duplicate rows based on combo_col\n",
    "stop_locations_gdf_ca3 = stop_locations_gdf_ca2.drop_duplicates(\n",
    "    subset=[\"combo_col\"]\n",
    ").reset_index(drop=True)"
   ]
  },
  {
   "cell_type": "code",
   "execution_count": 20,
   "id": "ba0677c1-2092-45aa-9726-ceec716ce85d",
   "metadata": {
    "tags": []
   },
   "outputs": [
    {
     "data": {
      "text/plain": [
       "(82754, 82754)"
      ]
     },
     "execution_count": 20,
     "metadata": {},
     "output_type": "execute_result"
    }
   ],
   "source": [
    "len(stop_locations_gdf_ca3), stop_locations_gdf_ca3.combo_col.nunique()"
   ]
  },
  {
   "cell_type": "code",
   "execution_count": 21,
   "id": "fedbc679-3fca-4841-a918-d6619dad29b5",
   "metadata": {
    "tags": []
   },
   "outputs": [],
   "source": [
    "# Merging stop location info into stoptimes_data based on feed_key and stop_id\n",
    "stoptimesdata_california = pd.merge(\n",
    "    stoptimes_data,\n",
    "    stop_locations_gdf_ca3[\n",
    "        [\n",
    "            \"feed_key\",\n",
    "            \"stop_id\",\n",
    "            \"stop_name\",\n",
    "            \"location_type\",\n",
    "            \"stop_desc\",\n",
    "            \"geometry\",\n",
    "            \"combo_col\",\n",
    "        ]\n",
    "    ],\n",
    "    on=[\"feed_key\", \"stop_id\"],\n",
    "    how=\"inner\",\n",
    ")"
   ]
  },
  {
   "cell_type": "code",
   "execution_count": 22,
   "id": "e7a4680e-8c9a-4b53-b407-39e9bbf2adb0",
   "metadata": {
    "tags": []
   },
   "outputs": [
    {
     "name": "stdout",
     "output_type": "stream",
     "text": [
      "<class 'pandas.core.frame.DataFrame'>\n",
      "Int64Index: 1087114 entries, 0 to 1087113\n",
      "Data columns (total 18 columns):\n",
      " #   Column                   Non-Null Count    Dtype   \n",
      "---  ------                   --------------    -----   \n",
      " 0   Unnamed: 0               1087114 non-null  int64   \n",
      " 1   key                      1087114 non-null  object  \n",
      " 2   _gtfs_key                1087114 non-null  object  \n",
      " 3   feed_key                 1087114 non-null  object  \n",
      " 4   trip_id                  1087114 non-null  object  \n",
      " 5   stop_id                  1087114 non-null  object  \n",
      " 6   stop_sequence            1087114 non-null  int64   \n",
      " 7   arrival_time             1021260 non-null  object  \n",
      " 8   departure_time           1021260 non-null  object  \n",
      " 9   arrival_time_interval    1021260 non-null  object  \n",
      " 10  departure_time_interval  1021260 non-null  object  \n",
      " 11  arrival_hour             1021260 non-null  float64 \n",
      " 12  departure_hour           1021260 non-null  float64 \n",
      " 13  stop_name                1087114 non-null  object  \n",
      " 14  location_type            580099 non-null   float64 \n",
      " 15  stop_desc                139836 non-null   object  \n",
      " 16  geometry                 1087114 non-null  geometry\n",
      " 17  combo_col                1087114 non-null  object  \n",
      "dtypes: float64(3), geometry(1), int64(2), object(12)\n",
      "memory usage: 157.6+ MB\n"
     ]
    }
   ],
   "source": [
    "stoptimesdata_california.info()"
   ]
  },
  {
   "cell_type": "code",
   "execution_count": 23,
   "id": "2e9183c6-4d78-4696-a3f7-1d65e1c45125",
   "metadata": {},
   "outputs": [
    {
     "name": "stdout",
     "output_type": "stream",
     "text": [
      "<class 'pandas.core.frame.DataFrame'>\n",
      "RangeIndex: 162083 entries, 0 to 162082\n",
      "Data columns (total 16 columns):\n",
      " #   Column                                 Non-Null Count   Dtype              \n",
      "---  ------                                 --------------   -----              \n",
      " 0   name                                   162083 non-null  object             \n",
      " 1   gtfs_dataset_key                       162083 non-null  object             \n",
      " 2   feed_key                               162083 non-null  object             \n",
      " 3   trip_id                                162083 non-null  object             \n",
      " 4   route_id                               162083 non-null  object             \n",
      " 5   route_type                             162083 non-null  object             \n",
      " 6   route_key                              162083 non-null  object             \n",
      " 7   num_stop_times                         162083 non-null  int64              \n",
      " 8   direction_id                           94257 non-null   float64            \n",
      " 9   trip_first_departure_sec               162082 non-null  float64            \n",
      " 10  trip_first_departure_ts                162082 non-null  datetime64[ns, UTC]\n",
      " 11  trip_last_arrival_sec                  162082 non-null  float64            \n",
      " 12  trip_start_timezone                    162083 non-null  object             \n",
      " 13  trip_instance_key                      162083 non-null  object             \n",
      " 14  service_hours                          162082 non-null  float64            \n",
      " 15  trip_first_departure_datetime_pacific  162082 non-null  datetime64[ns]     \n",
      "dtypes: datetime64[ns, UTC](1), datetime64[ns](1), float64(4), int64(1), object(9)\n",
      "memory usage: 19.8+ MB\n"
     ]
    }
   ],
   "source": [
    "trips_data.info()"
   ]
  },
  {
   "cell_type": "code",
   "execution_count": 24,
   "id": "e340e335-04e5-4b21-9458-467ca32fd7c8",
   "metadata": {},
   "outputs": [],
   "source": [
    "trips_data_cleaned = trips_data.drop_duplicates() # Dropping duplicates"
   ]
  },
  {
   "cell_type": "code",
   "execution_count": 25,
   "id": "f84cf818-f70b-4256-87c7-b66289d83d99",
   "metadata": {},
   "outputs": [
    {
     "name": "stdout",
     "output_type": "stream",
     "text": [
      "<class 'pandas.core.frame.DataFrame'>\n",
      "Int64Index: 162072 entries, 0 to 162082\n",
      "Data columns (total 16 columns):\n",
      " #   Column                                 Non-Null Count   Dtype              \n",
      "---  ------                                 --------------   -----              \n",
      " 0   name                                   162072 non-null  object             \n",
      " 1   gtfs_dataset_key                       162072 non-null  object             \n",
      " 2   feed_key                               162072 non-null  object             \n",
      " 3   trip_id                                162072 non-null  object             \n",
      " 4   route_id                               162072 non-null  object             \n",
      " 5   route_type                             162072 non-null  object             \n",
      " 6   route_key                              162072 non-null  object             \n",
      " 7   num_stop_times                         162072 non-null  int64              \n",
      " 8   direction_id                           94246 non-null   float64            \n",
      " 9   trip_first_departure_sec               162071 non-null  float64            \n",
      " 10  trip_first_departure_ts                162071 non-null  datetime64[ns, UTC]\n",
      " 11  trip_last_arrival_sec                  162071 non-null  float64            \n",
      " 12  trip_start_timezone                    162072 non-null  object             \n",
      " 13  trip_instance_key                      162072 non-null  object             \n",
      " 14  service_hours                          162071 non-null  float64            \n",
      " 15  trip_first_departure_datetime_pacific  162071 non-null  datetime64[ns]     \n",
      "dtypes: datetime64[ns, UTC](1), datetime64[ns](1), float64(4), int64(1), object(9)\n",
      "memory usage: 21.0+ MB\n"
     ]
    }
   ],
   "source": [
    "trips_data_cleaned.info()"
   ]
  },
  {
   "cell_type": "code",
   "execution_count": 26,
   "id": "c6a2cff2-27ff-4299-806c-7595d9e51f1d",
   "metadata": {},
   "outputs": [],
   "source": [
    "#Merging stop data with trip data on trip id and feed key.\n",
    "stop_trip_merged = pd.merge(stoptimesdata_california,\n",
    "                            trips_data_cleaned,\n",
    "                            on = ['trip_id', 'feed_key'],\n",
    "                            how = 'left')"
   ]
  },
  {
   "cell_type": "code",
   "execution_count": 27,
   "id": "2ca6c271-3f35-4560-aa9c-759b306a2160",
   "metadata": {
    "tags": []
   },
   "outputs": [],
   "source": [
    "# Adding peak/off-peak labels to trip instances based on scheduled time buckets for the given analysis date\n",
    "sched_time_of_day = gtfs_schedule_wrangling.get_trip_time_buckets(\n",
    "    analysis_dt\n",
    ").pipe(\n",
    "    gtfs_schedule_wrangling.add_peak_offpeak_column\n",
    ")[[\"trip_instance_key\", \"peak_offpeak\"]]"
   ]
  },
  {
   "cell_type": "code",
   "execution_count": 28,
   "id": "9839b892-2f4e-4103-a75a-833fe653b2a3",
   "metadata": {
    "tags": []
   },
   "outputs": [],
   "source": [
    "#Merging scheduled time of the data \n",
    "stop_trip_merged = pd.merge(\n",
    "    stop_trip_merged,\n",
    "    sched_time_of_day,\n",
    "    on='trip_instance_key',\n",
    "    how='left'\n",
    ")"
   ]
  },
  {
   "cell_type": "code",
   "execution_count": 29,
   "id": "9bae3eac-acc7-4a00-8769-6204fb6f418c",
   "metadata": {},
   "outputs": [],
   "source": [
    "# Counting unique trips per stop and renaming column to 'num_trips'\n",
    "num_trips_per_stop = (\n",
    "    stop_trip_merged.groupby([\"stop_id\", \"combo_col\"])[\"trip_instance_key\"]\n",
    "    .nunique()\n",
    "    .reset_index()\n",
    "    .rename(columns={\"trip_instance_key\": \"num_trips\"})\n",
    ")"
   ]
  },
  {
   "cell_type": "code",
   "execution_count": 30,
   "id": "ee086219-2378-4e8b-a90b-5441b3e8f013",
   "metadata": {},
   "outputs": [
    {
     "data": {
      "text/plain": [
       "(40702, 3)"
      ]
     },
     "execution_count": 30,
     "metadata": {},
     "output_type": "execute_result"
    }
   ],
   "source": [
    "num_trips_per_stop.shape"
   ]
  },
  {
   "cell_type": "code",
   "execution_count": 31,
   "id": "a6a194ec-7de1-467d-b0b3-f11892ede411",
   "metadata": {},
   "outputs": [],
   "source": [
    "# Counting unique routes per stop and renaming column to 'num_routes'\n",
    "num_routes_per_stop = (\n",
    "    stop_trip_merged.groupby([\"stop_id\", \"combo_col\"])[\"route_id\"]\n",
    "    .nunique()\n",
    "    .reset_index()\n",
    "    .rename(columns={\"route_id\": \"num_routes\"})\n",
    ")"
   ]
  },
  {
   "cell_type": "code",
   "execution_count": 32,
   "id": "ec120f71-c466-42ca-a946-eaa13d94f7ea",
   "metadata": {},
   "outputs": [
    {
     "data": {
      "text/plain": [
       "(40702, 3)"
      ]
     },
     "execution_count": 32,
     "metadata": {},
     "output_type": "execute_result"
    }
   ],
   "source": [
    "num_routes_per_stop.shape"
   ]
  },
  {
   "cell_type": "code",
   "execution_count": 33,
   "id": "e099b61b-769c-45ad-ad03-7ee47aadc912",
   "metadata": {
    "tags": []
   },
   "outputs": [],
   "source": [
    "# Filtering stop-trip data to include only peak period trips\n",
    "peak_stop_times = stop_trip_merged[stop_trip_merged['peak_offpeak'] == 'peak'].copy()"
   ]
  },
  {
   "cell_type": "code",
   "execution_count": 34,
   "id": "ce58de12-2915-4d04-8533-9229610bad2a",
   "metadata": {
    "tags": []
   },
   "outputs": [],
   "source": [
    "#Filter for peak + arrival before 9 AM\n",
    "am_peak_stop_trip = peak_stop_times[peak_stop_times[\"arrival_hour\"] <= 9].copy()\n",
    "\n",
    "#Assign time_of_day manually\n",
    "am_peak_stop_trip['time_of_day'] = 'AM Peak'\n"
   ]
  },
  {
   "cell_type": "code",
   "execution_count": 35,
   "id": "26db87a5-80f9-405b-a642-cfb7b3f381e1",
   "metadata": {
    "tags": []
   },
   "outputs": [],
   "source": [
    "group_cols = ['feed_key','stop_id', 'route_id', 'direction_id']"
   ]
  },
  {
   "cell_type": "code",
   "execution_count": 36,
   "id": "22cdcaec-d976-4a26-98e3-326ee6653682",
   "metadata": {},
   "outputs": [],
   "source": [
    "# Aggregating trip data into peak and off-peak summaries using the GTFS wrangling function\n",
    "stop_route_summary = gtfs_schedule_wrangling.aggregate_time_of_day_to_peak_offpeak(\n",
    "    df=am_peak_stop_trip,\n",
    "    group_cols=group_cols,\n",
    "    long_or_wide='wide'\n",
    ")"
   ]
  },
  {
   "cell_type": "code",
   "execution_count": 37,
   "id": "901828bf-f937-42c0-b8cf-0f2deb60c74a",
   "metadata": {
    "tags": []
   },
   "outputs": [],
   "source": [
    "# Calculating AM peak headway in minutes from peak_frequency (trips per hour)\n",
    "stop_route_summary[\"am_peak_headway_minutes\"] = 60 / stop_route_summary['peak_frequency']"
   ]
  },
  {
   "cell_type": "code",
   "execution_count": 38,
   "id": "4f875909-57c2-4330-844e-41e00817aa87",
   "metadata": {
    "tags": []
   },
   "outputs": [
    {
     "data": {
      "text/html": [
       "<div>\n",
       "<style scoped>\n",
       "    .dataframe tbody tr th:only-of-type {\n",
       "        vertical-align: middle;\n",
       "    }\n",
       "\n",
       "    .dataframe tbody tr th {\n",
       "        vertical-align: top;\n",
       "    }\n",
       "\n",
       "    .dataframe thead th {\n",
       "        text-align: right;\n",
       "    }\n",
       "</style>\n",
       "<table border=\"1\" class=\"dataframe\">\n",
       "  <thead>\n",
       "    <tr style=\"text-align: right;\">\n",
       "      <th></th>\n",
       "      <th>feed_key</th>\n",
       "      <th>stop_id</th>\n",
       "      <th>route_id</th>\n",
       "      <th>direction_id</th>\n",
       "      <th>all_day_n_trips</th>\n",
       "      <th>peak_n_trips</th>\n",
       "      <th>all_day_frequency</th>\n",
       "      <th>peak_frequency</th>\n",
       "      <th>am_peak_headway_minutes</th>\n",
       "    </tr>\n",
       "  </thead>\n",
       "  <tbody>\n",
       "    <tr>\n",
       "      <th>0</th>\n",
       "      <td>058a3b43698f803c8686f7e72a9efd4c</td>\n",
       "      <td>121914</td>\n",
       "      <td>11796</td>\n",
       "      <td>1.00</td>\n",
       "      <td>2.00</td>\n",
       "      <td>2.00</td>\n",
       "      <td>0.08</td>\n",
       "      <td>0.25</td>\n",
       "      <td>240.00</td>\n",
       "    </tr>\n",
       "    <tr>\n",
       "      <th>1</th>\n",
       "      <td>058a3b43698f803c8686f7e72a9efd4c</td>\n",
       "      <td>121915</td>\n",
       "      <td>11792</td>\n",
       "      <td>1.00</td>\n",
       "      <td>2.00</td>\n",
       "      <td>2.00</td>\n",
       "      <td>0.08</td>\n",
       "      <td>0.25</td>\n",
       "      <td>240.00</td>\n",
       "    </tr>\n",
       "    <tr>\n",
       "      <th>2</th>\n",
       "      <td>058a3b43698f803c8686f7e72a9efd4c</td>\n",
       "      <td>121916</td>\n",
       "      <td>11792</td>\n",
       "      <td>1.00</td>\n",
       "      <td>2.00</td>\n",
       "      <td>2.00</td>\n",
       "      <td>0.08</td>\n",
       "      <td>0.25</td>\n",
       "      <td>240.00</td>\n",
       "    </tr>\n",
       "    <tr>\n",
       "      <th>3</th>\n",
       "      <td>058a3b43698f803c8686f7e72a9efd4c</td>\n",
       "      <td>121917</td>\n",
       "      <td>11792</td>\n",
       "      <td>1.00</td>\n",
       "      <td>2.00</td>\n",
       "      <td>2.00</td>\n",
       "      <td>0.08</td>\n",
       "      <td>0.25</td>\n",
       "      <td>240.00</td>\n",
       "    </tr>\n",
       "    <tr>\n",
       "      <th>4</th>\n",
       "      <td>058a3b43698f803c8686f7e72a9efd4c</td>\n",
       "      <td>121919</td>\n",
       "      <td>11795</td>\n",
       "      <td>1.00</td>\n",
       "      <td>3.00</td>\n",
       "      <td>3.00</td>\n",
       "      <td>0.12</td>\n",
       "      <td>0.38</td>\n",
       "      <td>157.89</td>\n",
       "    </tr>\n",
       "  </tbody>\n",
       "</table>\n",
       "</div>"
      ],
      "text/plain": [
       "                           feed_key stop_id route_id  direction_id  \\\n",
       "0  058a3b43698f803c8686f7e72a9efd4c  121914    11796          1.00   \n",
       "1  058a3b43698f803c8686f7e72a9efd4c  121915    11792          1.00   \n",
       "2  058a3b43698f803c8686f7e72a9efd4c  121916    11792          1.00   \n",
       "3  058a3b43698f803c8686f7e72a9efd4c  121917    11792          1.00   \n",
       "4  058a3b43698f803c8686f7e72a9efd4c  121919    11795          1.00   \n",
       "\n",
       "   all_day_n_trips  peak_n_trips  all_day_frequency  peak_frequency  \\\n",
       "0             2.00          2.00               0.08            0.25   \n",
       "1             2.00          2.00               0.08            0.25   \n",
       "2             2.00          2.00               0.08            0.25   \n",
       "3             2.00          2.00               0.08            0.25   \n",
       "4             3.00          3.00               0.12            0.38   \n",
       "\n",
       "   am_peak_headway_minutes  \n",
       "0                   240.00  \n",
       "1                   240.00  \n",
       "2                   240.00  \n",
       "3                   240.00  \n",
       "4                   157.89  "
      ]
     },
     "execution_count": 38,
     "metadata": {},
     "output_type": "execute_result"
    }
   ],
   "source": [
    "stop_route_summary.head(5)"
   ]
  },
  {
   "cell_type": "code",
   "execution_count": 39,
   "id": "98f99018-f818-43f2-a884-15b2c863f940",
   "metadata": {},
   "outputs": [
    {
     "data": {
      "text/plain": [
       "count   46284.00\n",
       "mean        1.67\n",
       "std        74.18\n",
       "min         0.12\n",
       "25%         0.25\n",
       "50%         0.38\n",
       "75%         0.75\n",
       "max     10518.75\n",
       "Name: peak_frequency, dtype: float64"
      ]
     },
     "execution_count": 39,
     "metadata": {},
     "output_type": "execute_result"
    }
   ],
   "source": [
    "stop_route_summary.peak_frequency.describe()"
   ]
  },
  {
   "cell_type": "code",
   "execution_count": 40,
   "id": "de8ee4bb-75a7-4370-b695-f7468dbe797d",
   "metadata": {},
   "outputs": [],
   "source": [
    "# Calculating average AM peak headway (minutes) for each stop\n",
    "headways_per_stop = (\n",
    "    stop_route_summary.groupby([\"stop_id\", \"feed_key\"])[\"am_peak_headway_minutes\"]\n",
    "    .mean()\n",
    "    .reset_index()\n",
    ")"
   ]
  },
  {
   "cell_type": "code",
   "execution_count": 41,
   "id": "557bd75c-3b24-428b-99d3-ff3ae2cec0e2",
   "metadata": {},
   "outputs": [],
   "source": [
    "# Merging trip and route counts per stop into stop location data, using combo_col and stop_id as keys\n",
    "stop_summary = stop_locations_gdf_ca3.merge(\n",
    "    num_trips_per_stop, on=[\"combo_col\", \"stop_id\"], how=\"left\"\n",
    ").merge(num_routes_per_stop, on=[\"combo_col\", \"stop_id\"], how=\"left\")"
   ]
  },
  {
   "cell_type": "code",
   "execution_count": 42,
   "id": "24272a67-bf92-415d-9095-859fd6cbf11c",
   "metadata": {},
   "outputs": [],
   "source": [
    "# Merging AM peak headway minutes into stop_summary\n",
    "stop_summary2 = stop_summary.merge(\n",
    "        headways_per_stop[[\"feed_key\",\"stop_id\", \"am_peak_headway_minutes\"]],\n",
    "        on=[\"feed_key\",\"stop_id\"],\n",
    "        how=\"left\",\n",
    "        indicator= True\n",
    "    )"
   ]
  },
  {
   "cell_type": "code",
   "execution_count": 43,
   "id": "e53b9a52-200c-4677-8f37-cb6119801ed3",
   "metadata": {},
   "outputs": [
    {
     "data": {
      "text/plain": [
       "count   40702.00\n",
       "mean        1.36\n",
       "std         0.87\n",
       "min         1.00\n",
       "25%         1.00\n",
       "50%         1.00\n",
       "75%         1.00\n",
       "max        18.00\n",
       "Name: num_routes, dtype: float64"
      ]
     },
     "execution_count": 43,
     "metadata": {},
     "output_type": "execute_result"
    }
   ],
   "source": [
    "stop_summary2.num_routes.describe()"
   ]
  },
  {
   "cell_type": "code",
   "execution_count": 44,
   "id": "0159d71f-8c1f-49d4-9ba5-1f71c4e85c03",
   "metadata": {},
   "outputs": [
    {
     "data": {
      "text/plain": [
       "count   40702.00\n",
       "mean       42.51\n",
       "std       860.48\n",
       "min         1.00\n",
       "25%        10.00\n",
       "50%        18.00\n",
       "75%        32.00\n",
       "max     54142.00\n",
       "Name: num_trips, dtype: float64"
      ]
     },
     "execution_count": 44,
     "metadata": {},
     "output_type": "execute_result"
    }
   ],
   "source": [
    "stop_summary2.num_trips.describe()"
   ]
  },
  {
   "cell_type": "code",
   "execution_count": 45,
   "id": "17c733a0-76ad-49aa-91f9-d7729b6c75e0",
   "metadata": {},
   "outputs": [
    {
     "data": {
      "text/plain": [
       "count   34753.00\n",
       "mean      172.82\n",
       "std       125.06\n",
       "min         0.01\n",
       "25%        88.39\n",
       "50%       157.89\n",
       "75%       240.00\n",
       "max       500.00\n",
       "Name: am_peak_headway_minutes, dtype: float64"
      ]
     },
     "execution_count": 45,
     "metadata": {},
     "output_type": "execute_result"
    }
   ],
   "source": [
    "stop_summary2.am_peak_headway_minutes.describe()"
   ]
  },
  {
   "cell_type": "code",
   "execution_count": 46,
   "id": "8a27c011-cabb-41a2-8223-e186f959e564",
   "metadata": {},
   "outputs": [],
   "source": [
    "stopsummary_final = stop_summary2[['index', 'feed_key', 'stop_id', 'geometry', 'stop_name', 'stop_code',\n",
    "                                   'location_type', 'stop_desc', 'COUNTY_NAME', 'num_trips',\n",
    "                                   'num_routes', 'am_peak_headway_minutes']]"
   ]
  },
  {
   "cell_type": "code",
   "execution_count": 47,
   "id": "99761727-eec0-4ece-8446-09ea46fe3d90",
   "metadata": {},
   "outputs": [
    {
     "data": {
      "text/html": [
       "<div>\n",
       "<style scoped>\n",
       "    .dataframe tbody tr th:only-of-type {\n",
       "        vertical-align: middle;\n",
       "    }\n",
       "\n",
       "    .dataframe tbody tr th {\n",
       "        vertical-align: top;\n",
       "    }\n",
       "\n",
       "    .dataframe thead th {\n",
       "        text-align: right;\n",
       "    }\n",
       "</style>\n",
       "<table border=\"1\" class=\"dataframe\">\n",
       "  <thead>\n",
       "    <tr style=\"text-align: right;\">\n",
       "      <th></th>\n",
       "      <th>index</th>\n",
       "      <th>feed_key</th>\n",
       "      <th>stop_id</th>\n",
       "      <th>geometry</th>\n",
       "      <th>stop_name</th>\n",
       "      <th>stop_code</th>\n",
       "      <th>location_type</th>\n",
       "      <th>stop_desc</th>\n",
       "      <th>COUNTY_NAME</th>\n",
       "      <th>num_trips</th>\n",
       "      <th>num_routes</th>\n",
       "      <th>am_peak_headway_minutes</th>\n",
       "    </tr>\n",
       "  </thead>\n",
       "  <tbody>\n",
       "    <tr>\n",
       "      <th>0</th>\n",
       "      <td>0</td>\n",
       "      <td>ace4e22d6f2c299c36eba89ccb650b1b</td>\n",
       "      <td>00eb15cb-1430-4964-b8ae-ca6183e1d0ef</td>\n",
       "      <td>POINT (-119.39065 36.55368)</td>\n",
       "      <td>Grace and Laughter Apartments</td>\n",
       "      <td>None</td>\n",
       "      <td>0.00</td>\n",
       "      <td>Eaton and Saginaw</td>\n",
       "      <td>Tulare</td>\n",
       "      <td>12.00</td>\n",
       "      <td>1.00</td>\n",
       "      <td>157.89</td>\n",
       "    </tr>\n",
       "    <tr>\n",
       "      <th>1</th>\n",
       "      <td>1</td>\n",
       "      <td>ace4e22d6f2c299c36eba89ccb650b1b</td>\n",
       "      <td>02a30e39-496f-45d4-ba1c-ac8f3c66b621</td>\n",
       "      <td>POINT (-119.37038 36.54438)</td>\n",
       "      <td>El Monte Way and Randle</td>\n",
       "      <td>None</td>\n",
       "      <td>0.00</td>\n",
       "      <td>Mercantile Row / Old KMart / Amigos Market</td>\n",
       "      <td>Tulare</td>\n",
       "      <td>36.00</td>\n",
       "      <td>3.00</td>\n",
       "      <td>185.26</td>\n",
       "    </tr>\n",
       "    <tr>\n",
       "      <th>2</th>\n",
       "      <td>2</td>\n",
       "      <td>ace4e22d6f2c299c36eba89ccb650b1b</td>\n",
       "      <td>04a2c417-05bf-4f95-bfb6-dd9cec701f11</td>\n",
       "      <td>POINT (-119.39003 36.54091)</td>\n",
       "      <td>Rabobank</td>\n",
       "      <td>None</td>\n",
       "      <td>0.00</td>\n",
       "      <td>Tulare and L</td>\n",
       "      <td>Tulare</td>\n",
       "      <td>24.00</td>\n",
       "      <td>2.00</td>\n",
       "      <td>198.95</td>\n",
       "    </tr>\n",
       "    <tr>\n",
       "      <th>3</th>\n",
       "      <td>3</td>\n",
       "      <td>ace4e22d6f2c299c36eba89ccb650b1b</td>\n",
       "      <td>05d0285f-813a-4ea9-82e0-3b8d1127e8e0</td>\n",
       "      <td>POINT (-119.33951 36.20220)</td>\n",
       "      <td>Martin Luther King &amp; O St</td>\n",
       "      <td>None</td>\n",
       "      <td>0.00</td>\n",
       "      <td>Land O Lakes</td>\n",
       "      <td>Tulare</td>\n",
       "      <td>18.00</td>\n",
       "      <td>1.00</td>\n",
       "      <td>96.77</td>\n",
       "    </tr>\n",
       "    <tr>\n",
       "      <th>4</th>\n",
       "      <td>4</td>\n",
       "      <td>ace4e22d6f2c299c36eba89ccb650b1b</td>\n",
       "      <td>07fe70a4-21dd-4bcf-9adf-ed96f0daebbc</td>\n",
       "      <td>POINT (-119.41276 36.54707)</td>\n",
       "      <td>Road 72 and Adeaide Way</td>\n",
       "      <td>None</td>\n",
       "      <td>0.00</td>\n",
       "      <td>Dinuba Dollar Tree</td>\n",
       "      <td>Tulare</td>\n",
       "      <td>12.00</td>\n",
       "      <td>1.00</td>\n",
       "      <td>157.89</td>\n",
       "    </tr>\n",
       "  </tbody>\n",
       "</table>\n",
       "</div>"
      ],
      "text/plain": [
       "   index                          feed_key  \\\n",
       "0      0  ace4e22d6f2c299c36eba89ccb650b1b   \n",
       "1      1  ace4e22d6f2c299c36eba89ccb650b1b   \n",
       "2      2  ace4e22d6f2c299c36eba89ccb650b1b   \n",
       "3      3  ace4e22d6f2c299c36eba89ccb650b1b   \n",
       "4      4  ace4e22d6f2c299c36eba89ccb650b1b   \n",
       "\n",
       "                                stop_id                     geometry  \\\n",
       "0  00eb15cb-1430-4964-b8ae-ca6183e1d0ef  POINT (-119.39065 36.55368)   \n",
       "1  02a30e39-496f-45d4-ba1c-ac8f3c66b621  POINT (-119.37038 36.54438)   \n",
       "2  04a2c417-05bf-4f95-bfb6-dd9cec701f11  POINT (-119.39003 36.54091)   \n",
       "3  05d0285f-813a-4ea9-82e0-3b8d1127e8e0  POINT (-119.33951 36.20220)   \n",
       "4  07fe70a4-21dd-4bcf-9adf-ed96f0daebbc  POINT (-119.41276 36.54707)   \n",
       "\n",
       "                       stop_name stop_code  location_type  \\\n",
       "0  Grace and Laughter Apartments      None           0.00   \n",
       "1        El Monte Way and Randle      None           0.00   \n",
       "2                       Rabobank      None           0.00   \n",
       "3      Martin Luther King & O St      None           0.00   \n",
       "4        Road 72 and Adeaide Way      None           0.00   \n",
       "\n",
       "                                    stop_desc COUNTY_NAME  num_trips  \\\n",
       "0                           Eaton and Saginaw      Tulare      12.00   \n",
       "1  Mercantile Row / Old KMart / Amigos Market      Tulare      36.00   \n",
       "2                                Tulare and L      Tulare      24.00   \n",
       "3                                Land O Lakes      Tulare      18.00   \n",
       "4                          Dinuba Dollar Tree      Tulare      12.00   \n",
       "\n",
       "   num_routes  am_peak_headway_minutes  \n",
       "0        1.00                   157.89  \n",
       "1        3.00                   185.26  \n",
       "2        2.00                   198.95  \n",
       "3        1.00                    96.77  \n",
       "4        1.00                   157.89  "
      ]
     },
     "execution_count": 47,
     "metadata": {},
     "output_type": "execute_result"
    }
   ],
   "source": [
    "stopsummary_final.head(5)"
   ]
  },
  {
   "cell_type": "code",
   "execution_count": 48,
   "id": "d08a6c8f-961b-4c68-9a17-af046b262cdc",
   "metadata": {
    "tags": []
   },
   "outputs": [],
   "source": [
    "# Saving geojson file\n",
    "with tempfile.NamedTemporaryFile(suffix=\".geojson\") as tmp:\n",
    "    stopsummary_final.to_file(tmp.name, driver=\"GeoJSON\")\n",
    "\n",
    "\n",
    "    with fsspec.open(f\"{GCS_FILE_PATH}/stop_summary.geojson\", 'w') as f_out:\n",
    "        with open(tmp.name, 'r') as f_in:\n",
    "            f_out.write(f_in.read())"
   ]
  },
  {
   "cell_type": "code",
   "execution_count": null,
   "id": "d9ab843d-e11d-4427-9a0a-0959d1ec3caa",
   "metadata": {},
   "outputs": [],
   "source": []
  }
 ],
 "metadata": {
  "kernelspec": {
   "display_name": "Python 3 (ipykernel)",
   "language": "python",
   "name": "python3"
  },
  "language_info": {
   "codemirror_mode": {
    "name": "ipython",
    "version": 3
   },
   "file_extension": ".py",
   "mimetype": "text/x-python",
   "name": "python",
   "nbconvert_exporter": "python",
   "pygments_lexer": "ipython3",
   "version": "3.11.10"
  }
 },
 "nbformat": 4,
 "nbformat_minor": 5
}
