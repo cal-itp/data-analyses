{
 "cells": [
  {
   "cell_type": "code",
   "execution_count": 1,
   "id": "00ed6bb0-f4c8-4dd7-b6da-37fcbc63fbc9",
   "metadata": {
    "tags": []
   },
   "outputs": [
    {
     "name": "stdout",
     "output_type": "stream",
     "text": [
      "Requirement already satisfied: shared_utils in /opt/conda/lib/python3.11/site-packages (4.2)\n",
      "Note: you may need to restart the kernel to use updated packages.\n"
     ]
    }
   ],
   "source": [
    "pip install shared_utils"
   ]
  },
  {
   "cell_type": "code",
   "execution_count": 2,
   "id": "5227602b-a3fc-49b6-bbee-61de1c75d215",
   "metadata": {
    "tags": []
   },
   "outputs": [],
   "source": [
    "import os\n",
    "os.environ[\"CALITP_BQ_MAX_BYTES\"] = str(800_000_000_000)\n",
    "\n",
    "import shared_utils\n",
    "import pandas as pd\n",
    "import geopandas as gpd\n",
    "from calitp_data_analysis.sql import get_engine\n",
    "from shared_utils import gtfs_utils_v2\n",
    "db_engine = get_engine()\n",
    "\n",
    "import gcsfs\n",
    "from calitp_data_analysis import get_fs\n",
    "from calitp_data_analysis import geography_utils, utils\n",
    "fs = get_fs()\n",
    "import re\n",
    "import google.auth\n",
    "import os\n",
    "credentials, project = google.auth.default()\n",
    "import pytz\n",
    "import datetime as dt"
   ]
  },
  {
   "cell_type": "code",
   "execution_count": 3,
   "id": "0814fd63-0b7a-4025-975d-76b84ccf591a",
   "metadata": {
    "tags": []
   },
   "outputs": [],
   "source": [
    "pd.options.display.max_columns = 100\n",
    "pd.options.display.float_format = \"{:.2f}\".format\n",
    "pd.set_option(\"display.max_rows\", None)\n",
    "pd.set_option(\"display.max_colwidth\", None)"
   ]
  },
  {
   "cell_type": "code",
   "execution_count": 4,
   "id": "d799e6d7-fbea-481a-8df0-43fc3154a4f1",
   "metadata": {},
   "outputs": [],
   "source": [
    "GCS_FILE_PATH = 'gs://calitp-analytics-data/data-analyses/ahsc_grant/'"
   ]
  },
  {
   "cell_type": "code",
   "execution_count": 5,
   "id": "1f1656c0-a266-4a2e-be28-4a45deb958d2",
   "metadata": {},
   "outputs": [],
   "source": [
    "def read_parquet_from_gcs(filename):\n",
    "    gcs_path = GCS_FILE_PATH.replace(\"gs://\", \"\") + filename\n",
    "    with fs.open(gcs_path, 'rb') as f:\n",
    "        return gpd.read_parquet(f)"
   ]
  },
  {
   "cell_type": "code",
   "execution_count": 6,
   "id": "9bd10f2d-8815-4f37-b759-6ead4c0daf08",
   "metadata": {
    "tags": []
   },
   "outputs": [],
   "source": [
    "with db_engine.connect() as connection:\n",
    "    query = \"\"\"\n",
    "        SELECT\n",
    "            key, source_record_id, name, ntd_id_2022, ntd_agency_info_key, _is_current\n",
    "        FROM \n",
    "            cal-itp-data-infra.mart_transit_database.dim_organizations\n",
    "    \"\"\"\n",
    "    organizations= pd.read_sql(query, connection)"
   ]
  },
  {
   "cell_type": "code",
   "execution_count": 7,
   "id": "2283b951-20dd-4529-8251-28398ed54cec",
   "metadata": {
    "tags": []
   },
   "outputs": [
    {
     "data": {
      "text/plain": [
       "(245, 6)"
      ]
     },
     "execution_count": 7,
     "metadata": {},
     "output_type": "execute_result"
    }
   ],
   "source": [
    "organizations = organizations[organizations['_is_current'] == True]\n",
    "organizations = organizations.dropna(subset=[\"ntd_id_2022\"])\n",
    "organizations.shape"
   ]
  },
  {
   "cell_type": "code",
   "execution_count": 9,
   "id": "fa4398dd-6987-49fb-9b80-8f30c2f64570",
   "metadata": {
    "tags": []
   },
   "outputs": [
    {
     "name": "stdout",
     "output_type": "stream",
     "text": [
      "Are there duplicates in 'source_record_id'? -> False\n"
     ]
    }
   ],
   "source": [
    "has_duplicates = organizations['source_record_id'].duplicated().any()\n",
    "print(\"Are there duplicates in 'source_record_id'? ->\", has_duplicates)"
   ]
  },
  {
   "cell_type": "code",
   "execution_count": 10,
   "id": "c240d039-653e-4a5a-964b-dd3ee26b098c",
   "metadata": {
    "tags": []
   },
   "outputs": [],
   "source": [
    "with db_engine.connect() as connection:\n",
    "    query = \"\"\"\n",
    "        SELECT\n",
    "            organization_source_record_id, schedule_gtfs_dataset_key, organization_key, schedule_gtfs_dataset_name, _valid_from, _valid_to\n",
    "        FROM \n",
    "            cal-itp-data-infra.mart_transit_database.dim_provider_gtfs_data\n",
    "    \"\"\"\n",
    "    dim_provider_gtfs_data= pd.read_sql(query, connection)"
   ]
  },
  {
   "cell_type": "code",
   "execution_count": 11,
   "id": "8c075aab-8903-4a2c-acf2-d0fb1a9832db",
   "metadata": {
    "tags": []
   },
   "outputs": [
    {
     "data": {
      "text/plain": [
       "(29307, 6)"
      ]
     },
     "execution_count": 11,
     "metadata": {},
     "output_type": "execute_result"
    }
   ],
   "source": [
    "dim_provider_gtfs_data.shape"
   ]
  },
  {
   "cell_type": "code",
   "execution_count": 12,
   "id": "047e6886-0b98-46a8-85b3-df82278e59e6",
   "metadata": {
    "tags": []
   },
   "outputs": [],
   "source": [
    "# dim_provider_gtfs_data['_valid_from'] = pd.to_datetime(dim_provider_gtfs_data['_valid_from']).dt.date\n",
    "# dim_provider_gtfs_data['_valid_to'] = pd.to_datetime(dim_provider_gtfs_data['_valid_to']).dt.date\n",
    "\n",
    "# Defininganalysis window\n",
    "# analysis_start = dt.date(2022, 11, 30)\n",
    "# analysis_end   = dt.date(2022, 12, 4)\n",
    "\n",
    "#Filtering to only rows where the entire analysis period falls within valid range\n",
    "# valid_gtfs_data = dim_provider_gtfs_data[\n",
    "#     (dim_provider_gtfs_data['_valid_from'] <= analysis_start) &\n",
    "#     (dim_provider_gtfs_data['_valid_to'] >= analysis_end)\n",
    "# ]\n"
   ]
  },
  {
   "cell_type": "code",
   "execution_count": 13,
   "id": "f464616f-c714-432b-bb87-fe966a7150bb",
   "metadata": {
    "tags": []
   },
   "outputs": [],
   "source": [
    "dim_provider_gtfs_data.drop_duplicates(subset=['organization_source_record_id', 'schedule_gtfs_dataset_key'], inplace=True)"
   ]
  },
  {
   "cell_type": "code",
   "execution_count": 14,
   "id": "18ab00a3-0149-48ea-93f4-d46a300f8693",
   "metadata": {
    "tags": []
   },
   "outputs": [],
   "source": [
    "dim_provider_gtfs_data = dim_provider_gtfs_data.dropna(subset=['organization_source_record_id', 'schedule_gtfs_dataset_key'])"
   ]
  },
  {
   "cell_type": "code",
   "execution_count": 16,
   "id": "0b24b5b3-71e0-4c9d-97f9-bf0b54059d45",
   "metadata": {
    "tags": []
   },
   "outputs": [],
   "source": [
    "# Merge on organization_source_record_id and source_record_id\n",
    "filtered_dimprovider_gtfs = dim_provider_gtfs_data.merge(\n",
    "    organizations[['source_record_id', 'name', 'ntd_id_2022', 'ntd_agency_info_key']].drop_duplicates(), \n",
    "    left_on='organization_source_record_id', \n",
    "    right_on='source_record_id',\n",
    "    how='inner'\n",
    ")\n"
   ]
  },
  {
   "cell_type": "code",
   "execution_count": 17,
   "id": "a61e5557-2f4c-404e-b8df-2fcbe4bd2b64",
   "metadata": {
    "tags": []
   },
   "outputs": [
    {
     "data": {
      "text/plain": [
       "(2868, 10)"
      ]
     },
     "execution_count": 17,
     "metadata": {},
     "output_type": "execute_result"
    }
   ],
   "source": [
    "filtered_dimprovider_gtfs.shape"
   ]
  },
  {
   "cell_type": "code",
   "execution_count": 18,
   "id": "0ed55fb2-1d77-482f-b11d-394f570459ac",
   "metadata": {
    "tags": []
   },
   "outputs": [
    {
     "data": {
      "text/html": [
       "<div>\n",
       "<style scoped>\n",
       "    .dataframe tbody tr th:only-of-type {\n",
       "        vertical-align: middle;\n",
       "    }\n",
       "\n",
       "    .dataframe tbody tr th {\n",
       "        vertical-align: top;\n",
       "    }\n",
       "\n",
       "    .dataframe thead th {\n",
       "        text-align: right;\n",
       "    }\n",
       "</style>\n",
       "<table border=\"1\" class=\"dataframe\">\n",
       "  <thead>\n",
       "    <tr style=\"text-align: right;\">\n",
       "      <th></th>\n",
       "      <th>organization_source_record_id</th>\n",
       "      <th>schedule_gtfs_dataset_key</th>\n",
       "      <th>organization_key</th>\n",
       "      <th>schedule_gtfs_dataset_name</th>\n",
       "      <th>_valid_from</th>\n",
       "      <th>_valid_to</th>\n",
       "      <th>source_record_id</th>\n",
       "      <th>name</th>\n",
       "      <th>ntd_id_2022</th>\n",
       "      <th>ntd_agency_info_key</th>\n",
       "    </tr>\n",
       "  </thead>\n",
       "  <tbody>\n",
       "    <tr>\n",
       "      <th>0</th>\n",
       "      <td>recOZgevYf7Jimm9L</td>\n",
       "      <td>a54ac3ee41ad2e04b8194f3d95f3003a</td>\n",
       "      <td>298ecce1563d88b1fb37298c8952cbd4</td>\n",
       "      <td>Bay Area 511 AC Transit Schedule</td>\n",
       "      <td>2022-08-20 00:00:00+00:00</td>\n",
       "      <td>2022-08-23 23:59:59.999999+00:00</td>\n",
       "      <td>recOZgevYf7Jimm9L</td>\n",
       "      <td>Alameda-Contra Costa Transit District</td>\n",
       "      <td>90014</td>\n",
       "      <td>rec0zt7fBmP2s3F3g</td>\n",
       "    </tr>\n",
       "    <tr>\n",
       "      <th>1</th>\n",
       "      <td>recOZgevYf7Jimm9L</td>\n",
       "      <td>ebf4ef573788dfc73a846a84459361f7</td>\n",
       "      <td>298ecce1563d88b1fb37298c8952cbd4</td>\n",
       "      <td>Bay Area 511 AC Transit Schedule</td>\n",
       "      <td>2022-09-03 00:00:00+00:00</td>\n",
       "      <td>2022-09-12 23:59:59.999999+00:00</td>\n",
       "      <td>recOZgevYf7Jimm9L</td>\n",
       "      <td>Alameda-Contra Costa Transit District</td>\n",
       "      <td>90014</td>\n",
       "      <td>rec0zt7fBmP2s3F3g</td>\n",
       "    </tr>\n",
       "    <tr>\n",
       "      <th>2</th>\n",
       "      <td>recOZgevYf7Jimm9L</td>\n",
       "      <td>52dac077979fbe9b69bdb1c43696706f</td>\n",
       "      <td>298ecce1563d88b1fb37298c8952cbd4</td>\n",
       "      <td>Bay Area 511 AC Transit Schedule</td>\n",
       "      <td>2022-08-10 00:00:00+00:00</td>\n",
       "      <td>2022-08-19 23:59:59.999999+00:00</td>\n",
       "      <td>recOZgevYf7Jimm9L</td>\n",
       "      <td>Alameda-Contra Costa Transit District</td>\n",
       "      <td>90014</td>\n",
       "      <td>rec0zt7fBmP2s3F3g</td>\n",
       "    </tr>\n",
       "    <tr>\n",
       "      <th>3</th>\n",
       "      <td>recOZgevYf7Jimm9L</td>\n",
       "      <td>d0db8366c430b3f407f54ebf70cb6f2b</td>\n",
       "      <td>298ecce1563d88b1fb37298c8952cbd4</td>\n",
       "      <td>Bay Area 511 AC Transit Schedule</td>\n",
       "      <td>2022-08-06 00:00:00+00:00</td>\n",
       "      <td>2022-08-09 23:59:59.999999+00:00</td>\n",
       "      <td>recOZgevYf7Jimm9L</td>\n",
       "      <td>Alameda-Contra Costa Transit District</td>\n",
       "      <td>90014</td>\n",
       "      <td>rec0zt7fBmP2s3F3g</td>\n",
       "    </tr>\n",
       "    <tr>\n",
       "      <th>4</th>\n",
       "      <td>recOZgevYf7Jimm9L</td>\n",
       "      <td>0c1737c9682679b777e0759d7540377a</td>\n",
       "      <td>6eb57c38e084b838a1c2f19614a74337</td>\n",
       "      <td>Bay Area 511 AC Transit Schedule</td>\n",
       "      <td>2022-10-26 00:00:00+00:00</td>\n",
       "      <td>2022-11-18 23:59:59.999999+00:00</td>\n",
       "      <td>recOZgevYf7Jimm9L</td>\n",
       "      <td>Alameda-Contra Costa Transit District</td>\n",
       "      <td>90014</td>\n",
       "      <td>rec0zt7fBmP2s3F3g</td>\n",
       "    </tr>\n",
       "  </tbody>\n",
       "</table>\n",
       "</div>"
      ],
      "text/plain": [
       "  organization_source_record_id         schedule_gtfs_dataset_key  \\\n",
       "0             recOZgevYf7Jimm9L  a54ac3ee41ad2e04b8194f3d95f3003a   \n",
       "1             recOZgevYf7Jimm9L  ebf4ef573788dfc73a846a84459361f7   \n",
       "2             recOZgevYf7Jimm9L  52dac077979fbe9b69bdb1c43696706f   \n",
       "3             recOZgevYf7Jimm9L  d0db8366c430b3f407f54ebf70cb6f2b   \n",
       "4             recOZgevYf7Jimm9L  0c1737c9682679b777e0759d7540377a   \n",
       "\n",
       "                   organization_key        schedule_gtfs_dataset_name  \\\n",
       "0  298ecce1563d88b1fb37298c8952cbd4  Bay Area 511 AC Transit Schedule   \n",
       "1  298ecce1563d88b1fb37298c8952cbd4  Bay Area 511 AC Transit Schedule   \n",
       "2  298ecce1563d88b1fb37298c8952cbd4  Bay Area 511 AC Transit Schedule   \n",
       "3  298ecce1563d88b1fb37298c8952cbd4  Bay Area 511 AC Transit Schedule   \n",
       "4  6eb57c38e084b838a1c2f19614a74337  Bay Area 511 AC Transit Schedule   \n",
       "\n",
       "                _valid_from                        _valid_to  \\\n",
       "0 2022-08-20 00:00:00+00:00 2022-08-23 23:59:59.999999+00:00   \n",
       "1 2022-09-03 00:00:00+00:00 2022-09-12 23:59:59.999999+00:00   \n",
       "2 2022-08-10 00:00:00+00:00 2022-08-19 23:59:59.999999+00:00   \n",
       "3 2022-08-06 00:00:00+00:00 2022-08-09 23:59:59.999999+00:00   \n",
       "4 2022-10-26 00:00:00+00:00 2022-11-18 23:59:59.999999+00:00   \n",
       "\n",
       "    source_record_id                                   name ntd_id_2022  \\\n",
       "0  recOZgevYf7Jimm9L  Alameda-Contra Costa Transit District       90014   \n",
       "1  recOZgevYf7Jimm9L  Alameda-Contra Costa Transit District       90014   \n",
       "2  recOZgevYf7Jimm9L  Alameda-Contra Costa Transit District       90014   \n",
       "3  recOZgevYf7Jimm9L  Alameda-Contra Costa Transit District       90014   \n",
       "4  recOZgevYf7Jimm9L  Alameda-Contra Costa Transit District       90014   \n",
       "\n",
       "  ntd_agency_info_key  \n",
       "0   rec0zt7fBmP2s3F3g  \n",
       "1   rec0zt7fBmP2s3F3g  \n",
       "2   rec0zt7fBmP2s3F3g  \n",
       "3   rec0zt7fBmP2s3F3g  \n",
       "4   rec0zt7fBmP2s3F3g  "
      ]
     },
     "execution_count": 18,
     "metadata": {},
     "output_type": "execute_result"
    }
   ],
   "source": [
    "filtered_dimprovider_gtfs.head(5)"
   ]
  },
  {
   "cell_type": "code",
   "execution_count": 19,
   "id": "f6e7eda8-bf15-476f-9132-b76637bbc479",
   "metadata": {
    "tags": []
   },
   "outputs": [],
   "source": [
    "with db_engine.connect() as connection:\n",
    "    query = \"\"\"\n",
    "        SELECT\n",
    "            gtfs_dataset_key, feed_key, service_date, trip_instance_key, trip_id, route_id, shape_id, direction_id, route_type, route_short_name\n",
    "        FROM \n",
    "            cal-itp-data-infra.mart_gtfs.fct_scheduled_trips\n",
    "        WHERE \n",
    "            service_date IN (DATE '2022-11-30', DATE '2022-12-03', DATE '2022-12-04')\n",
    "        ORDER BY service_date DESC\n",
    "    \"\"\"\n",
    "    gtfs_trips= pd.read_sql(query, connection)"
   ]
  },
  {
   "cell_type": "code",
   "execution_count": 21,
   "id": "49d39fea-7375-402a-b6b4-7a3c63dfdc60",
   "metadata": {
    "tags": []
   },
   "outputs": [],
   "source": [
    "# Merge on organization_source_record_id and source_record_id\n",
    "trips_ntd_data = gtfs_trips.merge(\n",
    "    filtered_dimprovider_gtfs[['schedule_gtfs_dataset_key', 'name', 'ntd_id_2022', 'ntd_agency_info_key']], \n",
    "    left_on='gtfs_dataset_key', \n",
    "    right_on='schedule_gtfs_dataset_key',\n",
    "    how='inner'\n",
    ")"
   ]
  },
  {
   "cell_type": "code",
   "execution_count": 22,
   "id": "0636739d-3174-4be4-8dbd-742b80015bc6",
   "metadata": {
    "tags": []
   },
   "outputs": [
    {
     "data": {
      "text/plain": [
       "(1829843, 14)"
      ]
     },
     "execution_count": 22,
     "metadata": {},
     "output_type": "execute_result"
    }
   ],
   "source": [
    "trips_ntd_data.shape"
   ]
  },
  {
   "cell_type": "code",
   "execution_count": 31,
   "id": "8c306144-4050-45a4-a67b-38e017c979f9",
   "metadata": {
    "tags": []
   },
   "outputs": [
    {
     "data": {
      "text/plain": [
       "gtfs_dataset_key    178\n",
       "ntd_id_2022         146\n",
       "dtype: int64"
      ]
     },
     "execution_count": 31,
     "metadata": {},
     "output_type": "execute_result"
    }
   ],
   "source": [
    "trips_ntd_data[['gtfs_dataset_key', 'ntd_id_2022']].nunique()"
   ]
  },
  {
   "cell_type": "code",
   "execution_count": 24,
   "id": "5ce48b85-09f9-4b85-b0e5-472185539033",
   "metadata": {
    "tags": []
   },
   "outputs": [],
   "source": [
    "gtfs_counts = trips_ntd_data.groupby('gtfs_dataset_key')['ntd_id_2022'].nunique()\n",
    "ntd_counts = trips_ntd_data.groupby('ntd_id_2022')['gtfs_dataset_key'].nunique()\n",
    "\n",
    "# Filter to get only 1:1 mappings\n",
    "valid_gtfs_keys = gtfs_counts[gtfs_counts == 1].index\n",
    "valid_ntd_ids = ntd_counts[ntd_counts == 1].index\n",
    "\n",
    "# Now filtering the original DataFrame\n",
    "unique_pairs = trips_ntd_data[\n",
    "    trips_ntd_data['gtfs_dataset_key'].isin(valid_gtfs_keys) &\n",
    "    trips_ntd_data['ntd_id_2022'].isin(valid_ntd_ids)\n",
    "]"
   ]
  },
  {
   "cell_type": "code",
   "execution_count": 32,
   "id": "23764499-e09a-43fc-a978-505c520234c9",
   "metadata": {
    "tags": []
   },
   "outputs": [
    {
     "data": {
      "text/plain": [
       "(98, 2)"
      ]
     },
     "execution_count": 32,
     "metadata": {},
     "output_type": "execute_result"
    }
   ],
   "source": [
    "unique_pairs[['gtfs_dataset_key', 'ntd_id_2022']].drop_duplicates().shape"
   ]
  },
  {
   "cell_type": "code",
   "execution_count": 26,
   "id": "c1753ea4-28c4-44cd-871d-b40424fceb0b",
   "metadata": {
    "tags": []
   },
   "outputs": [],
   "source": [
    "def trips_data_summary(day_type, analysis_dt, trips_df):\n",
    "    if trips_df.empty:\n",
    "        return pd.DataFrame()\n",
    "\n",
    "    # Get feed_keys from the provided trips_df\n",
    "    feed_keys = trips_df[\"feed_key\"].unique().tolist()\n",
    "\n",
    "    trips_df = trips_df.drop_duplicates()\n",
    "\n",
    "    # Add derived column\n",
    "    trips_df[\"route_name_id\"] = trips_df[\"route_short_name\"].fillna(\"\") + \"_\" + trips_df[\"route_id\"]\n",
    "\n",
    "    # Get stop_times\n",
    "    stoptimes_df = gtfs_utils_v2.get_stop_times(\n",
    "        selected_date=analysis_dt,\n",
    "        operator_feeds=feed_keys,\n",
    "        stop_time_cols=[\"trip_id\", \"feed_key\", \"stop_id\", \"arrival_sec\", \"departure_sec\"],\n",
    "        trip_df=trips_df,\n",
    "        get_df=True\n",
    "    )\n",
    "\n",
    "    if stoptimes_df.empty:\n",
    "        return pd.DataFrame()\n",
    "\n",
    "    # Merge with trips\n",
    "    stoptimes_df = stoptimes_df.merge(trips_df, on=[\"trip_id\", \"feed_key\"])\n",
    "\n",
    "    # Summarize stop-level trips\n",
    "    grouped = stoptimes_df.groupby([\"feed_key\", \"route_type\", \"stop_id\"])\n",
    "    summary = grouped.agg(\n",
    "        n_trips=(\"trip_instance_key\", pd.Series.nunique),\n",
    "        n_routes=(\"route_id\", pd.Series.nunique),\n",
    "        route_list=(\"route_name_id\", lambda x: [x.tolist()])\n",
    "    ).reset_index()\n",
    "\n",
    "    summary[\"daytype\"] = day_type\n",
    "    summary[\"analysis_date\"] = analysis_dt\n",
    "    summary[\"route_list_string\"] = summary[\"route_list\"].apply(lambda x: \",\".join(x[0]))\n",
    "\n",
    "    # Add gtfs_dataset_key and service_date from trips_df to summary\n",
    "    feed_info = trips_df[[\"feed_key\", \"ntd_id_2022\", \"ntd_agency_info_key\", \"gtfs_dataset_key\", \"service_date\"]].drop_duplicates()\n",
    "    summary = summary.merge(feed_info, on=\"feed_key\", how=\"left\")\n",
    "\n",
    "    # Get stop metadata\n",
    "    stops_geo = gtfs_utils_v2.get_stops(\n",
    "        selected_date=analysis_dt,\n",
    "        operator_feeds=feed_keys,\n",
    "        stop_cols=[\"feed_key\", \"stop_id\", \"stop_desc\", \"stop_name\"],\n",
    "        get_df=True\n",
    "    )\n",
    "\n",
    "    # Join with summarized data\n",
    "    stoptimes_geo = stops_geo.merge(summary, on=[\"feed_key\", \"stop_id\"])\n",
    "\n",
    "    return stoptimes_geo\n"
   ]
  },
  {
   "cell_type": "code",
   "execution_count": 27,
   "id": "a33b4fee-92e8-4246-8192-915f6368dc76",
   "metadata": {
    "tags": []
   },
   "outputs": [],
   "source": [
    "def stops_geo_acs_summary(stoptimes_geo, acs_ca, jobdata):\n",
    "    if stoptimes_geo.empty:\n",
    "        return pd.DataFrame()\n",
    "\n",
    "    # Merge ACS with job data\n",
    "    acs_ca = acs_ca.merge(jobdata, on='GEOID', how='left')\n",
    "    acs_ca = acs_ca.to_crs(epsg=3347)\n",
    "\n",
    "    # Spatial buffer (0.25 miles)\n",
    "    stoptimes_geo = stoptimes_geo.to_crs(epsg=3347)\n",
    "    stoptimes_geo[\"geometry\"] = stoptimes_geo.buffer(402.336)\n",
    "\n",
    "    # Spatial join with ACS\n",
    "    stops_acs_joined = stoptimes_geo.sjoin(acs_ca, how=\"left\", predicate=\"intersects\")\n",
    "\n",
    "    # Aggregate\n",
    "    group_cols = [\n",
    "        \"gtfs_dataset_key\", \"ntd_id_2022\", \"ntd_agency_info_key\", \"stop_id\", \"stop_name\", \"n_trips\", \"n_routes\",\n",
    "        \"daytype\", \"analysis_date\", \"route_list_string\", \"service_date\"\n",
    "    ]\n",
    "\n",
    "    acs_summary = stops_acs_joined.groupby(group_cols).agg(\n",
    "        sum_tracts=(\"GEOID\", pd.Series.nunique),\n",
    "        sum_total_pop=(\"total_pop\", \"sum\"),\n",
    "        sum_households=(\"households\", \"sum\"),\n",
    "        sum_not_us_citizen_pop=(\"not_us_citizen_pop\", \"sum\"),\n",
    "        sum_youth_pop=(\"youth_pop\", \"sum\"),\n",
    "        sum_seniors_pop=(\"seniors_pop\", \"sum\"),\n",
    "        sum_pop_determined_poverty_status=(\"pop_determined_poverty_status\", \"sum\"),\n",
    "        sum_poverty=(\"poverty\", \"sum\"),\n",
    "        sum_no_car=(\"workers_with_no_car\", \"sum\"),\n",
    "        sum_no_cars=(\"households_with_no_cars\", \"sum\"),\n",
    "        sum_land_area=(\"ALAND\", \"sum\"),\n",
    "        sum_jobs=(\"jobs_tot\", \"sum\")\n",
    "    ).reset_index()\n",
    "\n",
    "    # Derived metrics\n",
    "    acs_summary[\"land_area_sqkm\"] = acs_summary[\"sum_land_area\"] / 1_000_000\n",
    "    acs_summary[\"pop_density\"] = acs_summary[\"sum_total_pop\"] / acs_summary[\"land_area_sqkm\"]\n",
    "    acs_summary[\"job_density\"] = acs_summary[\"sum_jobs\"] / acs_summary[\"land_area_sqkm\"]\n",
    "    acs_summary[\"pct_not_us_citizen_pop\"] = (acs_summary[\"sum_not_us_citizen_pop\"] / acs_summary[\"sum_total_pop\"]) * 100\n",
    "    acs_summary[\"pct_youth_pop\"] = (acs_summary[\"sum_youth_pop\"] / acs_summary[\"sum_total_pop\"]) * 100\n",
    "    acs_summary[\"pct_seniors_pop\"] = (acs_summary[\"sum_seniors_pop\"] / acs_summary[\"sum_total_pop\"]) * 100\n",
    "    acs_summary[\"pct_poverty\"] = (acs_summary[\"sum_poverty\"] / acs_summary[\"sum_pop_determined_poverty_status\"]) * 100\n",
    "    acs_summary[\"pct_pop_workers_no_car\"] = (acs_summary[\"sum_no_car\"] / acs_summary[\"sum_total_pop\"]) * 100\n",
    "    acs_summary[\"pct_hh_no_cars\"] = (acs_summary[\"sum_no_cars\"] / acs_summary[\"sum_households\"]) * 100\n",
    "\n",
    "    return acs_summary\n"
   ]
  },
  {
   "cell_type": "code",
   "execution_count": 28,
   "id": "872b56ca-b195-4a2d-b7e5-1797f0d2f475",
   "metadata": {},
   "outputs": [],
   "source": [
    "# set date parameters\n",
    "analysis_wkd = dt.date(2022,11,30)\n",
    "analysis_sat = dt.date(2022,12,3)\n",
    "analysis_sun = dt.date(2022,12,4)"
   ]
  },
  {
   "cell_type": "code",
   "execution_count": 29,
   "id": "33293e40-6b18-4427-be7f-12081c6452fc",
   "metadata": {},
   "outputs": [],
   "source": [
    "acs_ca = read_parquet_from_gcs(\"tracts_ca_acs.parquet\")\n",
    "jobdata = pd.read_parquet(f\"{GCS_FILE_PATH}/job_density_2022.parquet\")[['GEOID', 'jobs_tot']]"
   ]
  },
  {
   "cell_type": "code",
   "execution_count": 30,
   "id": "f207bd06-8a98-4bf4-a000-01f2090f937f",
   "metadata": {
    "tags": []
   },
   "outputs": [],
   "source": [
    "# List of (day_type, analysis_date) pairs\n",
    "day_type_dates = [\n",
    "    (\"Weekday\", analysis_wkd),\n",
    "    (\"Saturday\", analysis_sat),\n",
    "    (\"Sunday\", analysis_sun)\n",
    "]\n"
   ]
  }
 ],
 "metadata": {
  "kernelspec": {
   "display_name": "Python 3 (ipykernel)",
   "language": "python",
   "name": "python3"
  },
  "language_info": {
   "codemirror_mode": {
    "name": "ipython",
    "version": 3
   },
   "file_extension": ".py",
   "mimetype": "text/x-python",
   "name": "python",
   "nbconvert_exporter": "python",
   "pygments_lexer": "ipython3",
   "version": "3.11.10"
  }
 },
 "nbformat": 4,
 "nbformat_minor": 5
}
