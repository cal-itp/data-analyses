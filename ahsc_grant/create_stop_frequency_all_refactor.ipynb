{
 "cells": [
  {
   "cell_type": "code",
   "execution_count": 1,
   "id": "00ed6bb0-f4c8-4dd7-b6da-37fcbc63fbc9",
   "metadata": {
    "tags": []
   },
   "outputs": [
    {
     "name": "stdout",
     "output_type": "stream",
     "text": [
      "Requirement already satisfied: shared_utils in /opt/conda/lib/python3.11/site-packages (4.2)\n",
      "Note: you may need to restart the kernel to use updated packages.\n"
     ]
    }
   ],
   "source": [
    "pip install shared_utils"
   ]
  },
  {
   "cell_type": "code",
   "execution_count": 2,
   "id": "4ef529ec-afc7-4676-b619-865864cab257",
   "metadata": {
    "tags": []
   },
   "outputs": [],
   "source": [
    "import pandas as pd \n",
    "import yaml\n",
    "from shared_utils import portfolio_utils, schedule_rt_utils \n",
    "from segment_speed_utils import helpers\n",
    "from calitp_data_analysis.sql import get_engine\n",
    "db_engine = get_engine()\n",
    "from gtfs_key_ntd_crosswalk import GCS_FILE_PATH, filter_to_valid_dates"
   ]
  },
  {
   "cell_type": "code",
   "execution_count": 3,
   "id": "380b84a9-2889-46ca-9d5f-dcd5dcbf033b",
   "metadata": {},
   "outputs": [],
   "source": [
    "pd.options.display.max_columns = 100\n",
    "pd.options.display.float_format = \"{:.2f}\".format\n",
    "pd.set_option(\"display.max_rows\", None)\n",
    "pd.set_option(\"display.max_colwidth\", None)"
   ]
  },
  {
   "cell_type": "code",
   "execution_count": 5,
   "id": "55124786-b74e-4484-9a7c-0b19c19dbc23",
   "metadata": {
    "tags": []
   },
   "outputs": [],
   "source": [
    "analysis_date_list = ['2022-11-30', '2022-12-03', '2022-12-04']"
   ]
  },
  {
   "cell_type": "code",
   "execution_count": 6,
   "id": "a45d5f34-9801-4836-b055-86a6f8357cbd",
   "metadata": {
    "tags": []
   },
   "outputs": [],
   "source": [
    "new_operator_df = pd.concat(\n",
    "    [helpers.import_scheduled_trips(\n",
    "        one_date, \n",
    "        columns=[\"gtfs_dataset_key\", \"name\", \"trip_id\", \"shape_id\", \"route_id\", \"route_key\", \"direction_id\", \"route_short_name\"],\n",
    "        get_pandas=True\n",
    "    ) for one_date in analysis_date_list],\n",
    "    ignore_index=True\n",
    ")\n",
    "\n"
   ]
  },
  {
   "cell_type": "code",
   "execution_count": 7,
   "id": "43876df8-e07f-451b-a20b-2713cc914b39",
   "metadata": {
    "tags": []
   },
   "outputs": [
    {
     "data": {
      "text/html": [
       "<div>\n",
       "<style scoped>\n",
       "    .dataframe tbody tr th:only-of-type {\n",
       "        vertical-align: middle;\n",
       "    }\n",
       "\n",
       "    .dataframe tbody tr th {\n",
       "        vertical-align: top;\n",
       "    }\n",
       "\n",
       "    .dataframe thead th {\n",
       "        text-align: right;\n",
       "    }\n",
       "</style>\n",
       "<table border=\"1\" class=\"dataframe\">\n",
       "  <thead>\n",
       "    <tr style=\"text-align: right;\">\n",
       "      <th></th>\n",
       "      <th>schedule_gtfs_dataset_key</th>\n",
       "      <th>name</th>\n",
       "      <th>trip_id</th>\n",
       "      <th>shape_id</th>\n",
       "      <th>route_id</th>\n",
       "      <th>route_key</th>\n",
       "      <th>direction_id</th>\n",
       "      <th>route_short_name</th>\n",
       "    </tr>\n",
       "  </thead>\n",
       "  <tbody>\n",
       "    <tr>\n",
       "      <th>0</th>\n",
       "      <td>ad942f5430e5cad0da5c71953b058742</td>\n",
       "      <td>GET Schedule</td>\n",
       "      <td>6964</td>\n",
       "      <td>1</td>\n",
       "      <td>81</td>\n",
       "      <td>f9a9c0a9dbeefd00cc66cde2babcc521</td>\n",
       "      <td>1.00</td>\n",
       "      <td>81</td>\n",
       "    </tr>\n",
       "    <tr>\n",
       "      <th>1</th>\n",
       "      <td>ad942f5430e5cad0da5c71953b058742</td>\n",
       "      <td>GET Schedule</td>\n",
       "      <td>6960</td>\n",
       "      <td>1</td>\n",
       "      <td>81</td>\n",
       "      <td>f9a9c0a9dbeefd00cc66cde2babcc521</td>\n",
       "      <td>1.00</td>\n",
       "      <td>81</td>\n",
       "    </tr>\n",
       "    <tr>\n",
       "      <th>2</th>\n",
       "      <td>ad942f5430e5cad0da5c71953b058742</td>\n",
       "      <td>GET Schedule</td>\n",
       "      <td>6962</td>\n",
       "      <td>1</td>\n",
       "      <td>81</td>\n",
       "      <td>f9a9c0a9dbeefd00cc66cde2babcc521</td>\n",
       "      <td>1.00</td>\n",
       "      <td>81</td>\n",
       "    </tr>\n",
       "    <tr>\n",
       "      <th>3</th>\n",
       "      <td>ad942f5430e5cad0da5c71953b058742</td>\n",
       "      <td>GET Schedule</td>\n",
       "      <td>6961</td>\n",
       "      <td>1</td>\n",
       "      <td>81</td>\n",
       "      <td>f9a9c0a9dbeefd00cc66cde2babcc521</td>\n",
       "      <td>1.00</td>\n",
       "      <td>81</td>\n",
       "    </tr>\n",
       "    <tr>\n",
       "      <th>4</th>\n",
       "      <td>ad942f5430e5cad0da5c71953b058742</td>\n",
       "      <td>GET Schedule</td>\n",
       "      <td>6956</td>\n",
       "      <td>1</td>\n",
       "      <td>81</td>\n",
       "      <td>f9a9c0a9dbeefd00cc66cde2babcc521</td>\n",
       "      <td>1.00</td>\n",
       "      <td>81</td>\n",
       "    </tr>\n",
       "  </tbody>\n",
       "</table>\n",
       "</div>"
      ],
      "text/plain": [
       "          schedule_gtfs_dataset_key          name trip_id shape_id route_id  \\\n",
       "0  ad942f5430e5cad0da5c71953b058742  GET Schedule    6964        1       81   \n",
       "1  ad942f5430e5cad0da5c71953b058742  GET Schedule    6960        1       81   \n",
       "2  ad942f5430e5cad0da5c71953b058742  GET Schedule    6962        1       81   \n",
       "3  ad942f5430e5cad0da5c71953b058742  GET Schedule    6961        1       81   \n",
       "4  ad942f5430e5cad0da5c71953b058742  GET Schedule    6956        1       81   \n",
       "\n",
       "                          route_key  direction_id route_short_name  \n",
       "0  f9a9c0a9dbeefd00cc66cde2babcc521          1.00               81  \n",
       "1  f9a9c0a9dbeefd00cc66cde2babcc521          1.00               81  \n",
       "2  f9a9c0a9dbeefd00cc66cde2babcc521          1.00               81  \n",
       "3  f9a9c0a9dbeefd00cc66cde2babcc521          1.00               81  \n",
       "4  f9a9c0a9dbeefd00cc66cde2babcc521          1.00               81  "
      ]
     },
     "execution_count": 7,
     "metadata": {},
     "output_type": "execute_result"
    }
   ],
   "source": [
    "new_operator_df.head(5)"
   ]
  },
  {
   "cell_type": "code",
   "execution_count": 8,
   "id": "26162912-99c8-410a-8378-4e7cf4c43470",
   "metadata": {
    "tags": []
   },
   "outputs": [
    {
     "data": {
      "text/plain": [
       "(244741, 8)"
      ]
     },
     "execution_count": 8,
     "metadata": {},
     "output_type": "execute_result"
    }
   ],
   "source": [
    "new_operator_df.shape"
   ]
  },
  {
   "cell_type": "code",
   "execution_count": 9,
   "id": "92b16269-098e-496a-aca3-245db969d22d",
   "metadata": {
    "tags": []
   },
   "outputs": [
    {
     "data": {
      "text/plain": [
       "(170, 165)"
      ]
     },
     "execution_count": 9,
     "metadata": {},
     "output_type": "execute_result"
    }
   ],
   "source": [
    "new_operator_df.schedule_gtfs_dataset_key.nunique(), new_operator_df.name.nunique()"
   ]
  },
  {
   "cell_type": "code",
   "execution_count": 10,
   "id": "2934de82-40f1-4dff-9826-f19726c62c3b",
   "metadata": {
    "tags": []
   },
   "outputs": [],
   "source": [
    "with db_engine.connect() as connection:\n",
    "    query = \"\"\"\n",
    "        SELECT\n",
    "            organization_source_record_id, schedule_gtfs_dataset_key, organization_key, schedule_gtfs_dataset_name, _valid_from, _valid_to\n",
    "        FROM \n",
    "            cal-itp-data-infra.mart_transit_database.dim_provider_gtfs_data\n",
    "    \"\"\"\n",
    "    dim_provider_gtfs_data = (\n",
    "        pd.read_sql(query, connection)\n",
    "        .pipe(schedule_rt_utils.localize_timestamp_col, [\"_valid_from\", \"_valid_to\"])\n",
    "    )"
   ]
  },
  {
   "cell_type": "code",
   "execution_count": 11,
   "id": "61bbbc37-0ddd-473e-9c3f-734afdcb43ed",
   "metadata": {
    "tags": []
   },
   "outputs": [],
   "source": [
    "valid_provider_full = filter_to_valid_dates(dim_provider_gtfs_data, analysis_date_list)"
   ]
  },
  {
   "cell_type": "code",
   "execution_count": 12,
   "id": "69f8acfa-e18c-4204-9bfe-b05bf01a0778",
   "metadata": {
    "tags": []
   },
   "outputs": [],
   "source": [
    "valid_provider_full = valid_provider_full.dropna(subset=['organization_source_record_id', 'schedule_gtfs_dataset_key'])"
   ]
  },
  {
   "cell_type": "code",
   "execution_count": 13,
   "id": "e2676b12-2336-4431-b402-5bbd2da7f6f8",
   "metadata": {
    "tags": []
   },
   "outputs": [
    {
     "data": {
      "text/plain": [
       "(548, 8)"
      ]
     },
     "execution_count": 13,
     "metadata": {},
     "output_type": "execute_result"
    }
   ],
   "source": [
    "valid_provider_full.shape"
   ]
  },
  {
   "cell_type": "code",
   "execution_count": 14,
   "id": "65f2d11e-6b5d-4ba3-a201-69e75a90990a",
   "metadata": {},
   "outputs": [],
   "source": [
    "with db_engine.connect() as connection:\n",
    "    query = \"\"\"\n",
    "        SELECT\n",
    "            key, source_record_id, name, ntd_id_2022, ntd_agency_info_key, _is_current\n",
    "        FROM \n",
    "            cal-itp-data-infra.mart_transit_database.dim_organizations\n",
    "    \"\"\"\n",
    "    dim_orgs= pd.read_sql(query, connection)"
   ]
  },
  {
   "cell_type": "code",
   "execution_count": 15,
   "id": "c63452eb-48de-43e6-8cac-0c870b845fab",
   "metadata": {
    "tags": []
   },
   "outputs": [],
   "source": [
    "dim_orgs = dim_orgs[dim_orgs['_is_current'] == True]\n",
    "dim_orgs = dim_orgs.dropna(subset=[\"source_record_id\"])"
   ]
  },
  {
   "cell_type": "code",
   "execution_count": 16,
   "id": "86f165e5-3bf2-4d5d-a0ed-e706544ef2be",
   "metadata": {},
   "outputs": [
    {
     "data": {
      "text/plain": [
       "both          306514\n",
       "left_only          0\n",
       "right_only         0\n",
       "Name: _merge, dtype: int64"
      ]
     },
     "execution_count": 16,
     "metadata": {},
     "output_type": "execute_result"
    }
   ],
   "source": [
    "trips_provider_merge = pd.merge(\n",
    "    new_operator_df.rename(columns={\"name\": \"schedule_gtfs_dataset_name\"}),\n",
    "    valid_provider_full[[\"schedule_gtfs_dataset_key\", \"organization_source_record_id\"]].drop_duplicates(),\n",
    "    on=\"schedule_gtfs_dataset_key\",\n",
    "    how=\"left\",\n",
    "    indicator = True \n",
    ")\n",
    "\n",
    "trips_provider_merge._merge.value_counts()\n"
   ]
  },
  {
   "cell_type": "code",
   "execution_count": 17,
   "id": "785942ad-b747-4340-b454-cd8196d29d4f",
   "metadata": {
    "tags": []
   },
   "outputs": [
    {
     "name": "stdout",
     "output_type": "stream",
     "text": [
      "both          306417\n",
      "left_only         97\n",
      "right_only         0\n",
      "Name: _merge, dtype: int64\n"
     ]
    }
   ],
   "source": [
    "trips_provider_merge = trips_provider_merge.drop(columns=['_merge'])\n",
    "trips_gtfs_ntd_merge = pd.merge(\n",
    "    trips_provider_merge,\n",
    "    dim_orgs,\n",
    "    left_on=\"organization_source_record_id\",\n",
    "    right_on=\"source_record_id\",\n",
    "    how=\"left\",\n",
    "    indicator=True\n",
    ")\n",
    "\n",
    "print(trips_gtfs_ntd_merge._merge.value_counts())"
   ]
  },
  {
   "cell_type": "markdown",
   "id": "a4b29ecd-7e29-482e-9633-90031a4fd05f",
   "metadata": {},
   "source": [
    "### GTFS Feed Key related to multiple NTD IDs"
   ]
  },
  {
   "cell_type": "code",
   "execution_count": 36,
   "id": "f93a1a16-2bc9-41a2-89fa-1b93388f4ba1",
   "metadata": {
    "tags": []
   },
   "outputs": [
    {
     "data": {
      "text/html": [
       "<div>\n",
       "<style scoped>\n",
       "    .dataframe tbody tr th:only-of-type {\n",
       "        vertical-align: middle;\n",
       "    }\n",
       "\n",
       "    .dataframe tbody tr th {\n",
       "        vertical-align: top;\n",
       "    }\n",
       "\n",
       "    .dataframe thead th {\n",
       "        text-align: right;\n",
       "    }\n",
       "</style>\n",
       "<table border=\"1\" class=\"dataframe\">\n",
       "  <thead>\n",
       "    <tr style=\"text-align: right;\">\n",
       "      <th></th>\n",
       "      <th>schedule_gtfs_dataset_key</th>\n",
       "      <th>ntd_id_count</th>\n",
       "      <th>organization_names</th>\n",
       "      <th>schedule_gtfs_dataset_name</th>\n",
       "    </tr>\n",
       "  </thead>\n",
       "  <tbody>\n",
       "    <tr>\n",
       "      <th>3</th>\n",
       "      <td>07484e2075d31e135baa85b476c851dd</td>\n",
       "      <td>2</td>\n",
       "      <td>City of Duarte, Foothill Transit</td>\n",
       "      <td>Foothill Schedule</td>\n",
       "    </tr>\n",
       "    <tr>\n",
       "      <th>34</th>\n",
       "      <td>2d998c0c7de640702d8df735be5439ed</td>\n",
       "      <td>2</td>\n",
       "      <td>Susanville Indian Rancheria, Tehama County</td>\n",
       "      <td>Tehama Schedule</td>\n",
       "    </tr>\n",
       "    <tr>\n",
       "      <th>56</th>\n",
       "      <td>4de6a23ec6c0969bd1471375ea4d249e</td>\n",
       "      <td>2</td>\n",
       "      <td>Redding Area Bus Authority, Shasta County</td>\n",
       "      <td>Redding Schedule</td>\n",
       "    </tr>\n",
       "    <tr>\n",
       "      <th>81</th>\n",
       "      <td>7497f56d6704af02783955e98ec28d30</td>\n",
       "      <td>7</td>\n",
       "      <td>City of Camarillo, City of Moorpark, City of Ojai, City of Simi Valley, City of Thousand Oaks, Gold Coast Transit District, Ventura County Transportation Commission</td>\n",
       "      <td>VCTC GMV Schedule</td>\n",
       "    </tr>\n",
       "    <tr>\n",
       "      <th>116</th>\n",
       "      <td>ae027105e5431a31ae41b6b48a7030ac</td>\n",
       "      <td>4</td>\n",
       "      <td>Blue Lake Rancheria, City of Arcata, City of Eureka, Humboldt Transit Authority</td>\n",
       "      <td>Humboldt Schedule</td>\n",
       "    </tr>\n",
       "  </tbody>\n",
       "</table>\n",
       "</div>"
      ],
      "text/plain": [
       "            schedule_gtfs_dataset_key  ntd_id_count  \\\n",
       "3    07484e2075d31e135baa85b476c851dd             2   \n",
       "34   2d998c0c7de640702d8df735be5439ed             2   \n",
       "56   4de6a23ec6c0969bd1471375ea4d249e             2   \n",
       "81   7497f56d6704af02783955e98ec28d30             7   \n",
       "116  ae027105e5431a31ae41b6b48a7030ac             4   \n",
       "\n",
       "                                                                                                                                                       organization_names  \\\n",
       "3                                                                                                                                        City of Duarte, Foothill Transit   \n",
       "34                                                                                                                             Susanville Indian Rancheria, Tehama County   \n",
       "56                                                                                                                              Redding Area Bus Authority, Shasta County   \n",
       "81   City of Camarillo, City of Moorpark, City of Ojai, City of Simi Valley, City of Thousand Oaks, Gold Coast Transit District, Ventura County Transportation Commission   \n",
       "116                                                                                       Blue Lake Rancheria, City of Arcata, City of Eureka, Humboldt Transit Authority   \n",
       "\n",
       "    schedule_gtfs_dataset_name  \n",
       "3            Foothill Schedule  \n",
       "34             Tehama Schedule  \n",
       "56            Redding Schedule  \n",
       "81           VCTC GMV Schedule  \n",
       "116          Humboldt Schedule  "
      ]
     },
     "execution_count": 36,
     "metadata": {},
     "output_type": "execute_result"
    }
   ],
   "source": [
    "multiple_ntd_ids = (\n",
    "    trips_gtfs_ntd_merge\n",
    "    .groupby('schedule_gtfs_dataset_key')\n",
    "    .agg(\n",
    "        ntd_id_count=('ntd_id_2022', 'nunique'),\n",
    "        organization_names=('name', lambda x: ', '.join(sorted(set(x.fillna('Not Available'))))),\n",
    "        schedule_gtfs_dataset_name=('schedule_gtfs_dataset_name', lambda x: ', '.join(sorted(set(x.fillna('Not Available')))))\n",
    "    )\n",
    "    .reset_index()\n",
    ")\n",
    "\n",
    "# Filter those with more than one unique ntd_id_2022\n",
    "multiple_ntd_ids = multiple_ntd_ids[multiple_ntd_ids['ntd_id_count'] > 1]\n",
    "\n",
    "multiple_ntd_ids.head()"
   ]
  },
  {
   "cell_type": "markdown",
   "id": "ed7d99e2-385c-4485-b5b2-149988456874",
   "metadata": {},
   "source": [
    "### NTD organizations that are associated with more than one GTFS datasets"
   ]
  },
  {
   "cell_type": "code",
   "execution_count": 21,
   "id": "1fe48cd0-2908-4a39-801a-1832bb36f235",
   "metadata": {
    "tags": []
   },
   "outputs": [
    {
     "data": {
      "text/html": [
       "<div>\n",
       "<style scoped>\n",
       "    .dataframe tbody tr th:only-of-type {\n",
       "        vertical-align: middle;\n",
       "    }\n",
       "\n",
       "    .dataframe tbody tr th {\n",
       "        vertical-align: top;\n",
       "    }\n",
       "\n",
       "    .dataframe thead th {\n",
       "        text-align: right;\n",
       "    }\n",
       "</style>\n",
       "<table border=\"1\" class=\"dataframe\">\n",
       "  <thead>\n",
       "    <tr style=\"text-align: right;\">\n",
       "      <th></th>\n",
       "      <th>ntd_id_2022</th>\n",
       "      <th>gtfs_key_count</th>\n",
       "      <th>organization_names</th>\n",
       "      <th>schedule_gtfs_dataset_name</th>\n",
       "    </tr>\n",
       "  </thead>\n",
       "  <tbody>\n",
       "    <tr>\n",
       "      <th>7</th>\n",
       "      <td>90013</td>\n",
       "      <td>2</td>\n",
       "      <td>Santa Clara Valley Transportation Authority</td>\n",
       "      <td>Bay Area 511 Santa Clara Transit Schedule</td>\n",
       "    </tr>\n",
       "    <tr>\n",
       "      <th>8</th>\n",
       "      <td>90014</td>\n",
       "      <td>2</td>\n",
       "      <td>Alameda-Contra Costa Transit District</td>\n",
       "      <td>Bay Area 511 AC Transit Schedule, Bay Area 511 Dumbarton Express Schedule</td>\n",
       "    </tr>\n",
       "    <tr>\n",
       "      <th>10</th>\n",
       "      <td>90016</td>\n",
       "      <td>2</td>\n",
       "      <td>Golden Gate Bridge, Highway and Transportation District</td>\n",
       "      <td>Bay Area 511 Golden Gate Ferry Schedule, Bay Area 511 Golden Gate Transit Schedule</td>\n",
       "    </tr>\n",
       "    <tr>\n",
       "      <th>12</th>\n",
       "      <td>90019</td>\n",
       "      <td>2</td>\n",
       "      <td>Sacramento Regional Transit District</td>\n",
       "      <td>Elk Grove Schedule, Sacramento Schedule</td>\n",
       "    </tr>\n",
       "    <tr>\n",
       "      <th>14</th>\n",
       "      <td>90022</td>\n",
       "      <td>2</td>\n",
       "      <td>City of Norwalk</td>\n",
       "      <td>Norwalk Avail Schedule, Norwalk Schedule</td>\n",
       "    </tr>\n",
       "  </tbody>\n",
       "</table>\n",
       "</div>"
      ],
      "text/plain": [
       "   ntd_id_2022  gtfs_key_count  \\\n",
       "7        90013               2   \n",
       "8        90014               2   \n",
       "10       90016               2   \n",
       "12       90019               2   \n",
       "14       90022               2   \n",
       "\n",
       "                                         organization_names  \\\n",
       "7               Santa Clara Valley Transportation Authority   \n",
       "8                     Alameda-Contra Costa Transit District   \n",
       "10  Golden Gate Bridge, Highway and Transportation District   \n",
       "12                     Sacramento Regional Transit District   \n",
       "14                                          City of Norwalk   \n",
       "\n",
       "                                                            schedule_gtfs_dataset_name  \n",
       "7                                            Bay Area 511 Santa Clara Transit Schedule  \n",
       "8            Bay Area 511 AC Transit Schedule, Bay Area 511 Dumbarton Express Schedule  \n",
       "10  Bay Area 511 Golden Gate Ferry Schedule, Bay Area 511 Golden Gate Transit Schedule  \n",
       "12                                             Elk Grove Schedule, Sacramento Schedule  \n",
       "14                                            Norwalk Avail Schedule, Norwalk Schedule  "
      ]
     },
     "execution_count": 21,
     "metadata": {},
     "output_type": "execute_result"
    }
   ],
   "source": [
    "multiple_gtfs_key = (\n",
    "    trips_gtfs_ntd_merge\n",
    "    .groupby('ntd_id_2022')\n",
    "    .agg(\n",
    "        gtfs_key_count=('schedule_gtfs_dataset_key', 'nunique'),\n",
    "        organization_names=('name', lambda x: ', '.join(sorted(set(x.fillna('Not Available'))))),\n",
    "        schedule_gtfs_dataset_name=('schedule_gtfs_dataset_name', lambda x: ', '.join(sorted(set(x.fillna('Not Available')))))\n",
    "    )\n",
    "    .reset_index()\n",
    ")\n",
    "\n",
    "# Filter those with more than one unique GTFS key\n",
    "multiple_gtfs_key = multiple_gtfs_key[multiple_gtfs_key['gtfs_key_count'] > 1]\n",
    "\n",
    "multiple_gtfs_key.head()"
   ]
  },
  {
   "cell_type": "markdown",
   "id": "24ffce3e-a52a-433c-927b-d4cbe6640f65",
   "metadata": {},
   "source": [
    "### Rows with missing ntd_id_2022 by GTFS feed key and name"
   ]
  },
  {
   "cell_type": "code",
   "execution_count": 20,
   "id": "bc320785-1f8b-4a8b-bbc3-e90f0b51447c",
   "metadata": {
    "tags": []
   },
   "outputs": [
    {
     "data": {
      "text/plain": [
       "50414"
      ]
     },
     "execution_count": 20,
     "metadata": {},
     "output_type": "execute_result"
    }
   ],
   "source": [
    "trips_gtfs_ntd_merge['ntd_id_2022'].isna().sum()"
   ]
  },
  {
   "cell_type": "code",
   "execution_count": 37,
   "id": "93c4f673-e8a7-42cd-b77e-034a3d69e1b2",
   "metadata": {
    "tags": []
   },
   "outputs": [
    {
     "data": {
      "text/html": [
       "<div>\n",
       "<style scoped>\n",
       "    .dataframe tbody tr th:only-of-type {\n",
       "        vertical-align: middle;\n",
       "    }\n",
       "\n",
       "    .dataframe tbody tr th {\n",
       "        vertical-align: top;\n",
       "    }\n",
       "\n",
       "    .dataframe thead th {\n",
       "        text-align: right;\n",
       "    }\n",
       "</style>\n",
       "<table border=\"1\" class=\"dataframe\">\n",
       "  <thead>\n",
       "    <tr style=\"text-align: right;\">\n",
       "      <th></th>\n",
       "      <th>schedule_gtfs_dataset_key</th>\n",
       "      <th>schedule_gtfs_dataset_name</th>\n",
       "      <th>missing_ntd_count</th>\n",
       "      <th>organization_names</th>\n",
       "    </tr>\n",
       "  </thead>\n",
       "  <tbody>\n",
       "    <tr>\n",
       "      <th>21</th>\n",
       "      <td>bc4adb213d92410bb0885b88a6bfa2e3</td>\n",
       "      <td>San Diego Schedule</td>\n",
       "      <td>30308</td>\n",
       "      <td>Flagship Cruises and Events Inc., San Diego International Airport</td>\n",
       "    </tr>\n",
       "    <tr>\n",
       "      <th>15</th>\n",
       "      <td>826a387b55514ee79846e7aa9441b2a7</td>\n",
       "      <td>Amtrak Schedule</td>\n",
       "      <td>7526</td>\n",
       "      <td>Amtrak, San Joaquin Joint Powers Authority</td>\n",
       "    </tr>\n",
       "    <tr>\n",
       "      <th>17</th>\n",
       "      <td>ac4cfb9faa274cc4a72f3c96850814a8</td>\n",
       "      <td>Sacramento Schedule</td>\n",
       "      <td>4994</td>\n",
       "      <td>City of Rancho Cordova</td>\n",
       "    </tr>\n",
       "    <tr>\n",
       "      <th>7</th>\n",
       "      <td>302abf64544b6af9e1b0dffa73323931</td>\n",
       "      <td>Bay Area 511 SFO AirTrain Schedule</td>\n",
       "      <td>3147</td>\n",
       "      <td>San Francisco International Airport</td>\n",
       "    </tr>\n",
       "    <tr>\n",
       "      <th>1</th>\n",
       "      <td>1c1b82378b0de396aa1004cd7bbaeff7</td>\n",
       "      <td>TART, North Lake Tahoe Schedule</td>\n",
       "      <td>816</td>\n",
       "      <td>North Lake Tahoe Express, Tahoe Truckee Area Regional Transportation</td>\n",
       "    </tr>\n",
       "    <tr>\n",
       "      <th>10</th>\n",
       "      <td>42536578ce1e11dc17197c172f7e9c36</td>\n",
       "      <td>Stanford Schedule</td>\n",
       "      <td>692</td>\n",
       "      <td>Stanford University</td>\n",
       "    </tr>\n",
       "    <tr>\n",
       "      <th>19</th>\n",
       "      <td>bb319779975687ff73fef1dd0561032c</td>\n",
       "      <td>LAX FlyAway Schedule</td>\n",
       "      <td>586</td>\n",
       "      <td>Los Angeles World Airports</td>\n",
       "    </tr>\n",
       "    <tr>\n",
       "      <th>11</th>\n",
       "      <td>6545b7227648a628e040d4240901b5b2</td>\n",
       "      <td>Bay Area 511 Commute.org Schedule</td>\n",
       "      <td>310</td>\n",
       "      <td>Commute.org</td>\n",
       "    </tr>\n",
       "    <tr>\n",
       "      <th>16</th>\n",
       "      <td>9034b03ee96975921aaef3863b310922</td>\n",
       "      <td>Bear Schedule</td>\n",
       "      <td>282</td>\n",
       "      <td>University of California, Berkeley</td>\n",
       "    </tr>\n",
       "    <tr>\n",
       "      <th>23</th>\n",
       "      <td>c548af5c06d8ccd067199e08dc3fc9fe</td>\n",
       "      <td>Bay Area 511 Sonoma County Transit Schedule</td>\n",
       "      <td>241</td>\n",
       "      <td>Cloverdale Transit</td>\n",
       "    </tr>\n",
       "    <tr>\n",
       "      <th>2</th>\n",
       "      <td>1c6ad99c2c6b5f3cd6731a2b0a086955</td>\n",
       "      <td>Bay Area 511 Emery Go-Round Schedule</td>\n",
       "      <td>208</td>\n",
       "      <td>Emeryville Transportation Management Agency</td>\n",
       "    </tr>\n",
       "    <tr>\n",
       "      <th>22</th>\n",
       "      <td>c341f845b84c2ee58a37910796be6937</td>\n",
       "      <td>Bay Area 511 Capitol Corridor Schedule</td>\n",
       "      <td>154</td>\n",
       "      <td>Capitol Corridor Joint Powers Authority</td>\n",
       "    </tr>\n",
       "    <tr>\n",
       "      <th>25</th>\n",
       "      <td>da53dbcdf85d2fcfe73789e85f7c341e</td>\n",
       "      <td>Clovis Schedule</td>\n",
       "      <td>153</td>\n",
       "      <td>City of Clovis</td>\n",
       "    </tr>\n",
       "    <tr>\n",
       "      <th>14</th>\n",
       "      <td>72759eefa6c7f56ba3535b373135c52a</td>\n",
       "      <td>BruinBus Schedule</td>\n",
       "      <td>125</td>\n",
       "      <td>University of California, Los Angeles</td>\n",
       "    </tr>\n",
       "    <tr>\n",
       "      <th>8</th>\n",
       "      <td>38a62dc05cba39e5d2f5b5ef0112e242</td>\n",
       "      <td>Beaumont Pass Schedule</td>\n",
       "      <td>119</td>\n",
       "      <td>City of Beaumont</td>\n",
       "    </tr>\n",
       "    <tr>\n",
       "      <th>12</th>\n",
       "      <td>6572071254e8728baf307d7b5b639081</td>\n",
       "      <td>Mission Bay Schedule</td>\n",
       "      <td>111</td>\n",
       "      <td>Mission Bay Transportation Management Agency</td>\n",
       "    </tr>\n",
       "    <tr>\n",
       "      <th>9</th>\n",
       "      <td>3ede762022c852ecb8bbdeec8489292b</td>\n",
       "      <td>PresidiGo Schedule</td>\n",
       "      <td>102</td>\n",
       "      <td>Presidio Trust</td>\n",
       "    </tr>\n",
       "    <tr>\n",
       "      <th>0</th>\n",
       "      <td>0cbc0ec32c07dc1365dbe698dfec9aa2</td>\n",
       "      <td>Banning Pass Schedule</td>\n",
       "      <td>97</td>\n",
       "      <td>Not Available</td>\n",
       "    </tr>\n",
       "    <tr>\n",
       "      <th>13</th>\n",
       "      <td>66218fbad4e808b364f5eb0b28020ef5</td>\n",
       "      <td>Bay Area 511 Treasure Island Ferry Schedule</td>\n",
       "      <td>94</td>\n",
       "      <td>Treasure Island Community Development</td>\n",
       "    </tr>\n",
       "    <tr>\n",
       "      <th>18</th>\n",
       "      <td>b066be3c574a80a0f19ca3079951fa94</td>\n",
       "      <td>Playa Vista Schedule</td>\n",
       "      <td>80</td>\n",
       "      <td>Playa Vista</td>\n",
       "    </tr>\n",
       "    <tr>\n",
       "      <th>24</th>\n",
       "      <td>cc407321ce2988a373320e6d8244dafb</td>\n",
       "      <td>Bay Area 511 MVGO Schedule</td>\n",
       "      <td>79</td>\n",
       "      <td>Mountain View Transportation Management Association</td>\n",
       "    </tr>\n",
       "    <tr>\n",
       "      <th>20</th>\n",
       "      <td>bb9bdebe55929c491917cb8cb8fdf4f0</td>\n",
       "      <td>La Puente Schedule</td>\n",
       "      <td>60</td>\n",
       "      <td>City of La Puente</td>\n",
       "    </tr>\n",
       "    <tr>\n",
       "      <th>6</th>\n",
       "      <td>2ef677384da07fe6f3ca7bb2b65b67c3</td>\n",
       "      <td>Oregon POINT</td>\n",
       "      <td>52</td>\n",
       "      <td>POINT</td>\n",
       "    </tr>\n",
       "    <tr>\n",
       "      <th>26</th>\n",
       "      <td>fb6f824b023c560981360fd0290b3db3</td>\n",
       "      <td>Rosemead Schedule</td>\n",
       "      <td>30</td>\n",
       "      <td>First Transit</td>\n",
       "    </tr>\n",
       "    <tr>\n",
       "      <th>3</th>\n",
       "      <td>1e505b4f8f32a9e5492627239469dc1b</td>\n",
       "      <td>Bay Area 511 South San Francisco Shuttle Schedule</td>\n",
       "      <td>28</td>\n",
       "      <td>City of South San Francisco</td>\n",
       "    </tr>\n",
       "    <tr>\n",
       "      <th>5</th>\n",
       "      <td>2e453e5af82e37bed3124364ba12bad9</td>\n",
       "      <td>Bay Area 511 Angel Island-Tiburon Ferry Schedule</td>\n",
       "      <td>16</td>\n",
       "      <td>Angel Island-Tiburon Ferry Company</td>\n",
       "    </tr>\n",
       "    <tr>\n",
       "      <th>4</th>\n",
       "      <td>2d0dd373aa648eb9a392e76ddf26fd72</td>\n",
       "      <td>Catalina Flyer Schedule</td>\n",
       "      <td>4</td>\n",
       "      <td>Catalina Flyer</td>\n",
       "    </tr>\n",
       "  </tbody>\n",
       "</table>\n",
       "</div>"
      ],
      "text/plain": [
       "           schedule_gtfs_dataset_key  \\\n",
       "21  bc4adb213d92410bb0885b88a6bfa2e3   \n",
       "15  826a387b55514ee79846e7aa9441b2a7   \n",
       "17  ac4cfb9faa274cc4a72f3c96850814a8   \n",
       "7   302abf64544b6af9e1b0dffa73323931   \n",
       "1   1c1b82378b0de396aa1004cd7bbaeff7   \n",
       "10  42536578ce1e11dc17197c172f7e9c36   \n",
       "19  bb319779975687ff73fef1dd0561032c   \n",
       "11  6545b7227648a628e040d4240901b5b2   \n",
       "16  9034b03ee96975921aaef3863b310922   \n",
       "23  c548af5c06d8ccd067199e08dc3fc9fe   \n",
       "2   1c6ad99c2c6b5f3cd6731a2b0a086955   \n",
       "22  c341f845b84c2ee58a37910796be6937   \n",
       "25  da53dbcdf85d2fcfe73789e85f7c341e   \n",
       "14  72759eefa6c7f56ba3535b373135c52a   \n",
       "8   38a62dc05cba39e5d2f5b5ef0112e242   \n",
       "12  6572071254e8728baf307d7b5b639081   \n",
       "9   3ede762022c852ecb8bbdeec8489292b   \n",
       "0   0cbc0ec32c07dc1365dbe698dfec9aa2   \n",
       "13  66218fbad4e808b364f5eb0b28020ef5   \n",
       "18  b066be3c574a80a0f19ca3079951fa94   \n",
       "24  cc407321ce2988a373320e6d8244dafb   \n",
       "20  bb9bdebe55929c491917cb8cb8fdf4f0   \n",
       "6   2ef677384da07fe6f3ca7bb2b65b67c3   \n",
       "26  fb6f824b023c560981360fd0290b3db3   \n",
       "3   1e505b4f8f32a9e5492627239469dc1b   \n",
       "5   2e453e5af82e37bed3124364ba12bad9   \n",
       "4   2d0dd373aa648eb9a392e76ddf26fd72   \n",
       "\n",
       "                           schedule_gtfs_dataset_name  missing_ntd_count  \\\n",
       "21                                 San Diego Schedule              30308   \n",
       "15                                    Amtrak Schedule               7526   \n",
       "17                                Sacramento Schedule               4994   \n",
       "7                  Bay Area 511 SFO AirTrain Schedule               3147   \n",
       "1                     TART, North Lake Tahoe Schedule                816   \n",
       "10                                  Stanford Schedule                692   \n",
       "19                               LAX FlyAway Schedule                586   \n",
       "11                  Bay Area 511 Commute.org Schedule                310   \n",
       "16                                      Bear Schedule                282   \n",
       "23        Bay Area 511 Sonoma County Transit Schedule                241   \n",
       "2                Bay Area 511 Emery Go-Round Schedule                208   \n",
       "22             Bay Area 511 Capitol Corridor Schedule                154   \n",
       "25                                    Clovis Schedule                153   \n",
       "14                                  BruinBus Schedule                125   \n",
       "8                              Beaumont Pass Schedule                119   \n",
       "12                               Mission Bay Schedule                111   \n",
       "9                                  PresidiGo Schedule                102   \n",
       "0                               Banning Pass Schedule                 97   \n",
       "13        Bay Area 511 Treasure Island Ferry Schedule                 94   \n",
       "18                               Playa Vista Schedule                 80   \n",
       "24                         Bay Area 511 MVGO Schedule                 79   \n",
       "20                                 La Puente Schedule                 60   \n",
       "6                                        Oregon POINT                 52   \n",
       "26                                  Rosemead Schedule                 30   \n",
       "3   Bay Area 511 South San Francisco Shuttle Schedule                 28   \n",
       "5    Bay Area 511 Angel Island-Tiburon Ferry Schedule                 16   \n",
       "4                             Catalina Flyer Schedule                  4   \n",
       "\n",
       "                                                      organization_names  \n",
       "21     Flagship Cruises and Events Inc., San Diego International Airport  \n",
       "15                            Amtrak, San Joaquin Joint Powers Authority  \n",
       "17                                                City of Rancho Cordova  \n",
       "7                                    San Francisco International Airport  \n",
       "1   North Lake Tahoe Express, Tahoe Truckee Area Regional Transportation  \n",
       "10                                                   Stanford University  \n",
       "19                                            Los Angeles World Airports  \n",
       "11                                                           Commute.org  \n",
       "16                                    University of California, Berkeley  \n",
       "23                                                    Cloverdale Transit  \n",
       "2                            Emeryville Transportation Management Agency  \n",
       "22                               Capitol Corridor Joint Powers Authority  \n",
       "25                                                        City of Clovis  \n",
       "14                                 University of California, Los Angeles  \n",
       "8                                                       City of Beaumont  \n",
       "12                          Mission Bay Transportation Management Agency  \n",
       "9                                                         Presidio Trust  \n",
       "0                                                          Not Available  \n",
       "13                                 Treasure Island Community Development  \n",
       "18                                                           Playa Vista  \n",
       "24                   Mountain View Transportation Management Association  \n",
       "20                                                     City of La Puente  \n",
       "6                                                                  POINT  \n",
       "26                                                         First Transit  \n",
       "3                                            City of South San Francisco  \n",
       "5                                     Angel Island-Tiburon Ferry Company  \n",
       "4                                                         Catalina Flyer  "
      ]
     },
     "execution_count": 37,
     "metadata": {},
     "output_type": "execute_result"
    }
   ],
   "source": [
    "missing_ntd_grouped = (\n",
    "    trips_gtfs_ntd_merge[trips_gtfs_ntd_merge['ntd_id_2022'].isna()]\n",
    "    .groupby(['schedule_gtfs_dataset_key', 'schedule_gtfs_dataset_name'])\n",
    "    .agg(\n",
    "        missing_ntd_count=('ntd_id_2022', 'size'),\n",
    "        organization_names=('name', lambda x: ', '.join(sorted(set(x.fillna('Not Available')))))\n",
    "    )\n",
    "    .reset_index()\n",
    "    .sort_values('missing_ntd_count', ascending=False)\n",
    ")\n",
    "\n",
    "missing_ntd_grouped.head(30)"
   ]
  },
  {
   "cell_type": "code",
   "execution_count": null,
   "id": "df2f4f79-d215-4497-ae4b-60c197e7e422",
   "metadata": {},
   "outputs": [],
   "source": []
  },
  {
   "cell_type": "code",
   "execution_count": 2,
   "id": "5227602b-a3fc-49b6-bbee-61de1c75d215",
   "metadata": {
    "tags": []
   },
   "outputs": [],
   "source": [
    "# import os\n",
    "# os.environ[\"CALITP_BQ_MAX_BYTES\"] = str(800_000_000_000)\n",
    "\n",
    "# import shared_utils\n",
    "# import pandas as pd\n",
    "# import geopandas as gpd\n",
    "# from calitp_data_analysis.sql import get_engine\n",
    "# from shared_utils import gtfs_utils_v2\n",
    "# db_engine = get_engine()\n",
    "\n",
    "# import gcsfs\n",
    "# from calitp_data_analysis import get_fs\n",
    "# from calitp_data_analysis import geography_utils, utils\n",
    "# fs = get_fs()\n",
    "# import re\n",
    "# import google.auth\n",
    "# import os\n",
    "# credentials, project = google.auth.default()\n",
    "# import pytz\n",
    "# import datetime as dt"
   ]
  },
  {
   "cell_type": "code",
   "execution_count": 4,
   "id": "d799e6d7-fbea-481a-8df0-43fc3154a4f1",
   "metadata": {},
   "outputs": [],
   "source": [
    "GCS_FILE_PATH = 'gs://calitp-analytics-data/data-analyses/ahsc_grant/'"
   ]
  },
  {
   "cell_type": "code",
   "execution_count": 5,
   "id": "1f1656c0-a266-4a2e-be28-4a45deb958d2",
   "metadata": {},
   "outputs": [],
   "source": [
    "def read_parquet_from_gcs(filename):\n",
    "    gcs_path = GCS_FILE_PATH.replace(\"gs://\", \"\") + filename\n",
    "    with fs.open(gcs_path, 'rb') as f:\n",
    "        return gpd.read_parquet(f)"
   ]
  },
  {
   "cell_type": "code",
   "execution_count": 6,
   "id": "9bd10f2d-8815-4f37-b759-6ead4c0daf08",
   "metadata": {
    "tags": []
   },
   "outputs": [],
   "source": [
    "with db_engine.connect() as connection:\n",
    "    query = \"\"\"\n",
    "        SELECT\n",
    "            key, source_record_id, name, ntd_id_2022, ntd_agency_info_key, _is_current\n",
    "        FROM \n",
    "            cal-itp-data-infra.mart_transit_database.dim_organizations\n",
    "    \"\"\"\n",
    "    organizations= pd.read_sql(query, connection)"
   ]
  },
  {
   "cell_type": "code",
   "execution_count": 7,
   "id": "2283b951-20dd-4529-8251-28398ed54cec",
   "metadata": {
    "tags": []
   },
   "outputs": [
    {
     "data": {
      "text/plain": [
       "(245, 6)"
      ]
     },
     "execution_count": 7,
     "metadata": {},
     "output_type": "execute_result"
    }
   ],
   "source": [
    "organizations = organizations[organizations['_is_current'] == True]\n",
    "organizations = organizations.dropna(subset=[\"ntd_id_2022\"])\n",
    "organizations.shape"
   ]
  },
  {
   "cell_type": "code",
   "execution_count": 9,
   "id": "fa4398dd-6987-49fb-9b80-8f30c2f64570",
   "metadata": {
    "tags": []
   },
   "outputs": [
    {
     "name": "stdout",
     "output_type": "stream",
     "text": [
      "Are there duplicates in 'source_record_id'? -> False\n"
     ]
    }
   ],
   "source": [
    "has_duplicates = organizations['source_record_id'].duplicated().any()\n",
    "print(\"Are there duplicates in 'source_record_id'? ->\", has_duplicates)"
   ]
  },
  {
   "cell_type": "code",
   "execution_count": 10,
   "id": "c240d039-653e-4a5a-964b-dd3ee26b098c",
   "metadata": {
    "tags": []
   },
   "outputs": [],
   "source": [
    "with db_engine.connect() as connection:\n",
    "    query = \"\"\"\n",
    "        SELECT\n",
    "            organization_source_record_id, schedule_gtfs_dataset_key, organization_key, schedule_gtfs_dataset_name, _valid_from, _valid_to\n",
    "        FROM \n",
    "            cal-itp-data-infra.mart_transit_database.dim_provider_gtfs_data\n",
    "    \"\"\"\n",
    "    dim_provider_gtfs_data= pd.read_sql(query, connection)"
   ]
  },
  {
   "cell_type": "code",
   "execution_count": 11,
   "id": "8c075aab-8903-4a2c-acf2-d0fb1a9832db",
   "metadata": {
    "tags": []
   },
   "outputs": [
    {
     "data": {
      "text/plain": [
       "(29307, 6)"
      ]
     },
     "execution_count": 11,
     "metadata": {},
     "output_type": "execute_result"
    }
   ],
   "source": [
    "dim_provider_gtfs_data.shape"
   ]
  },
  {
   "cell_type": "code",
   "execution_count": 12,
   "id": "047e6886-0b98-46a8-85b3-df82278e59e6",
   "metadata": {
    "tags": []
   },
   "outputs": [],
   "source": [
    "# dim_provider_gtfs_data['_valid_from'] = pd.to_datetime(dim_provider_gtfs_data['_valid_from']).dt.date\n",
    "# dim_provider_gtfs_data['_valid_to'] = pd.to_datetime(dim_provider_gtfs_data['_valid_to']).dt.date\n",
    "\n",
    "# Defininganalysis window\n",
    "# analysis_start = dt.date(2022, 11, 30)\n",
    "# analysis_end   = dt.date(2022, 12, 4)\n",
    "\n",
    "#Filtering to only rows where the entire analysis period falls within valid range\n",
    "# valid_gtfs_data = dim_provider_gtfs_data[\n",
    "#     (dim_provider_gtfs_data['_valid_from'] <= analysis_start) &\n",
    "#     (dim_provider_gtfs_data['_valid_to'] >= analysis_end)\n",
    "# ]\n"
   ]
  },
  {
   "cell_type": "code",
   "execution_count": 13,
   "id": "f464616f-c714-432b-bb87-fe966a7150bb",
   "metadata": {
    "tags": []
   },
   "outputs": [],
   "source": [
    "dim_provider_gtfs_data.drop_duplicates(subset=['organization_source_record_id', 'schedule_gtfs_dataset_key'], inplace=True)"
   ]
  },
  {
   "cell_type": "code",
   "execution_count": 14,
   "id": "18ab00a3-0149-48ea-93f4-d46a300f8693",
   "metadata": {
    "tags": []
   },
   "outputs": [],
   "source": [
    "dim_provider_gtfs_data = dim_provider_gtfs_data.dropna(subset=['organization_source_record_id', 'schedule_gtfs_dataset_key'])"
   ]
  },
  {
   "cell_type": "code",
   "execution_count": 16,
   "id": "0b24b5b3-71e0-4c9d-97f9-bf0b54059d45",
   "metadata": {
    "tags": []
   },
   "outputs": [],
   "source": [
    "# Merge on organization_source_record_id and source_record_id\n",
    "filtered_dimprovider_gtfs = dim_provider_gtfs_data.merge(\n",
    "    organizations[['source_record_id', 'name', 'ntd_id_2022', 'ntd_agency_info_key']].drop_duplicates(), \n",
    "    left_on='organization_source_record_id', \n",
    "    right_on='source_record_id',\n",
    "    how='inner'\n",
    ")\n"
   ]
  },
  {
   "cell_type": "code",
   "execution_count": 17,
   "id": "a61e5557-2f4c-404e-b8df-2fcbe4bd2b64",
   "metadata": {
    "tags": []
   },
   "outputs": [
    {
     "data": {
      "text/plain": [
       "(2868, 10)"
      ]
     },
     "execution_count": 17,
     "metadata": {},
     "output_type": "execute_result"
    }
   ],
   "source": [
    "filtered_dimprovider_gtfs.shape"
   ]
  },
  {
   "cell_type": "code",
   "execution_count": 18,
   "id": "0ed55fb2-1d77-482f-b11d-394f570459ac",
   "metadata": {
    "tags": []
   },
   "outputs": [
    {
     "data": {
      "text/html": [
       "<div>\n",
       "<style scoped>\n",
       "    .dataframe tbody tr th:only-of-type {\n",
       "        vertical-align: middle;\n",
       "    }\n",
       "\n",
       "    .dataframe tbody tr th {\n",
       "        vertical-align: top;\n",
       "    }\n",
       "\n",
       "    .dataframe thead th {\n",
       "        text-align: right;\n",
       "    }\n",
       "</style>\n",
       "<table border=\"1\" class=\"dataframe\">\n",
       "  <thead>\n",
       "    <tr style=\"text-align: right;\">\n",
       "      <th></th>\n",
       "      <th>organization_source_record_id</th>\n",
       "      <th>schedule_gtfs_dataset_key</th>\n",
       "      <th>organization_key</th>\n",
       "      <th>schedule_gtfs_dataset_name</th>\n",
       "      <th>_valid_from</th>\n",
       "      <th>_valid_to</th>\n",
       "      <th>source_record_id</th>\n",
       "      <th>name</th>\n",
       "      <th>ntd_id_2022</th>\n",
       "      <th>ntd_agency_info_key</th>\n",
       "    </tr>\n",
       "  </thead>\n",
       "  <tbody>\n",
       "    <tr>\n",
       "      <th>0</th>\n",
       "      <td>recOZgevYf7Jimm9L</td>\n",
       "      <td>a54ac3ee41ad2e04b8194f3d95f3003a</td>\n",
       "      <td>298ecce1563d88b1fb37298c8952cbd4</td>\n",
       "      <td>Bay Area 511 AC Transit Schedule</td>\n",
       "      <td>2022-08-20 00:00:00+00:00</td>\n",
       "      <td>2022-08-23 23:59:59.999999+00:00</td>\n",
       "      <td>recOZgevYf7Jimm9L</td>\n",
       "      <td>Alameda-Contra Costa Transit District</td>\n",
       "      <td>90014</td>\n",
       "      <td>rec0zt7fBmP2s3F3g</td>\n",
       "    </tr>\n",
       "    <tr>\n",
       "      <th>1</th>\n",
       "      <td>recOZgevYf7Jimm9L</td>\n",
       "      <td>ebf4ef573788dfc73a846a84459361f7</td>\n",
       "      <td>298ecce1563d88b1fb37298c8952cbd4</td>\n",
       "      <td>Bay Area 511 AC Transit Schedule</td>\n",
       "      <td>2022-09-03 00:00:00+00:00</td>\n",
       "      <td>2022-09-12 23:59:59.999999+00:00</td>\n",
       "      <td>recOZgevYf7Jimm9L</td>\n",
       "      <td>Alameda-Contra Costa Transit District</td>\n",
       "      <td>90014</td>\n",
       "      <td>rec0zt7fBmP2s3F3g</td>\n",
       "    </tr>\n",
       "    <tr>\n",
       "      <th>2</th>\n",
       "      <td>recOZgevYf7Jimm9L</td>\n",
       "      <td>52dac077979fbe9b69bdb1c43696706f</td>\n",
       "      <td>298ecce1563d88b1fb37298c8952cbd4</td>\n",
       "      <td>Bay Area 511 AC Transit Schedule</td>\n",
       "      <td>2022-08-10 00:00:00+00:00</td>\n",
       "      <td>2022-08-19 23:59:59.999999+00:00</td>\n",
       "      <td>recOZgevYf7Jimm9L</td>\n",
       "      <td>Alameda-Contra Costa Transit District</td>\n",
       "      <td>90014</td>\n",
       "      <td>rec0zt7fBmP2s3F3g</td>\n",
       "    </tr>\n",
       "    <tr>\n",
       "      <th>3</th>\n",
       "      <td>recOZgevYf7Jimm9L</td>\n",
       "      <td>d0db8366c430b3f407f54ebf70cb6f2b</td>\n",
       "      <td>298ecce1563d88b1fb37298c8952cbd4</td>\n",
       "      <td>Bay Area 511 AC Transit Schedule</td>\n",
       "      <td>2022-08-06 00:00:00+00:00</td>\n",
       "      <td>2022-08-09 23:59:59.999999+00:00</td>\n",
       "      <td>recOZgevYf7Jimm9L</td>\n",
       "      <td>Alameda-Contra Costa Transit District</td>\n",
       "      <td>90014</td>\n",
       "      <td>rec0zt7fBmP2s3F3g</td>\n",
       "    </tr>\n",
       "    <tr>\n",
       "      <th>4</th>\n",
       "      <td>recOZgevYf7Jimm9L</td>\n",
       "      <td>0c1737c9682679b777e0759d7540377a</td>\n",
       "      <td>6eb57c38e084b838a1c2f19614a74337</td>\n",
       "      <td>Bay Area 511 AC Transit Schedule</td>\n",
       "      <td>2022-10-26 00:00:00+00:00</td>\n",
       "      <td>2022-11-18 23:59:59.999999+00:00</td>\n",
       "      <td>recOZgevYf7Jimm9L</td>\n",
       "      <td>Alameda-Contra Costa Transit District</td>\n",
       "      <td>90014</td>\n",
       "      <td>rec0zt7fBmP2s3F3g</td>\n",
       "    </tr>\n",
       "  </tbody>\n",
       "</table>\n",
       "</div>"
      ],
      "text/plain": [
       "  organization_source_record_id         schedule_gtfs_dataset_key  \\\n",
       "0             recOZgevYf7Jimm9L  a54ac3ee41ad2e04b8194f3d95f3003a   \n",
       "1             recOZgevYf7Jimm9L  ebf4ef573788dfc73a846a84459361f7   \n",
       "2             recOZgevYf7Jimm9L  52dac077979fbe9b69bdb1c43696706f   \n",
       "3             recOZgevYf7Jimm9L  d0db8366c430b3f407f54ebf70cb6f2b   \n",
       "4             recOZgevYf7Jimm9L  0c1737c9682679b777e0759d7540377a   \n",
       "\n",
       "                   organization_key        schedule_gtfs_dataset_name  \\\n",
       "0  298ecce1563d88b1fb37298c8952cbd4  Bay Area 511 AC Transit Schedule   \n",
       "1  298ecce1563d88b1fb37298c8952cbd4  Bay Area 511 AC Transit Schedule   \n",
       "2  298ecce1563d88b1fb37298c8952cbd4  Bay Area 511 AC Transit Schedule   \n",
       "3  298ecce1563d88b1fb37298c8952cbd4  Bay Area 511 AC Transit Schedule   \n",
       "4  6eb57c38e084b838a1c2f19614a74337  Bay Area 511 AC Transit Schedule   \n",
       "\n",
       "                _valid_from                        _valid_to  \\\n",
       "0 2022-08-20 00:00:00+00:00 2022-08-23 23:59:59.999999+00:00   \n",
       "1 2022-09-03 00:00:00+00:00 2022-09-12 23:59:59.999999+00:00   \n",
       "2 2022-08-10 00:00:00+00:00 2022-08-19 23:59:59.999999+00:00   \n",
       "3 2022-08-06 00:00:00+00:00 2022-08-09 23:59:59.999999+00:00   \n",
       "4 2022-10-26 00:00:00+00:00 2022-11-18 23:59:59.999999+00:00   \n",
       "\n",
       "    source_record_id                                   name ntd_id_2022  \\\n",
       "0  recOZgevYf7Jimm9L  Alameda-Contra Costa Transit District       90014   \n",
       "1  recOZgevYf7Jimm9L  Alameda-Contra Costa Transit District       90014   \n",
       "2  recOZgevYf7Jimm9L  Alameda-Contra Costa Transit District       90014   \n",
       "3  recOZgevYf7Jimm9L  Alameda-Contra Costa Transit District       90014   \n",
       "4  recOZgevYf7Jimm9L  Alameda-Contra Costa Transit District       90014   \n",
       "\n",
       "  ntd_agency_info_key  \n",
       "0   rec0zt7fBmP2s3F3g  \n",
       "1   rec0zt7fBmP2s3F3g  \n",
       "2   rec0zt7fBmP2s3F3g  \n",
       "3   rec0zt7fBmP2s3F3g  \n",
       "4   rec0zt7fBmP2s3F3g  "
      ]
     },
     "execution_count": 18,
     "metadata": {},
     "output_type": "execute_result"
    }
   ],
   "source": [
    "filtered_dimprovider_gtfs.head(5)"
   ]
  },
  {
   "cell_type": "code",
   "execution_count": null,
   "id": "4ed63c89-6b65-4376-8bee-32887e39cb43",
   "metadata": {},
   "outputs": [],
   "source": [
    "analysis_date = ['2022-11-30', '2022-12-03', '2022-12-04']\n",
    "trips = helpers.import_scheduled_trips(\n",
    "        analysis_date,\n",
    "        columns = [\"gtfs_dataset_key\", \"feed_key\", \n",
    "                   blah blah other columns you want,\n",
    "        get_pandas = True,\n",
    "    )"
   ]
  },
  {
   "cell_type": "code",
   "execution_count": 19,
   "id": "f6e7eda8-bf15-476f-9132-b76637bbc479",
   "metadata": {
    "tags": []
   },
   "outputs": [],
   "source": [
    "with db_engine.connect() as connection:\n",
    "    query = \"\"\"\n",
    "        SELECT\n",
    "            gtfs_dataset_key, feed_key, service_date, trip_instance_key, trip_id, route_id, shape_id, direction_id, route_type, route_short_name\n",
    "        FROM \n",
    "            cal-itp-data-infra.mart_gtfs.fct_scheduled_trips\n",
    "        WHERE \n",
    "            service_date IN (DATE '2022-11-30', DATE '2022-12-03', DATE '2022-12-04')\n",
    "        ORDER BY service_date DESC\n",
    "    \"\"\"\n",
    "    gtfs_trips= pd.read_sql(query, connection)"
   ]
  },
  {
   "cell_type": "code",
   "execution_count": 21,
   "id": "49d39fea-7375-402a-b6b4-7a3c63dfdc60",
   "metadata": {
    "tags": []
   },
   "outputs": [],
   "source": [
    "# Merge on organization_source_record_id and source_record_id\n",
    "trips_ntd_data = gtfs_trips.merge(\n",
    "    filtered_dimprovider_gtfs[['schedule_gtfs_dataset_key', 'name', 'ntd_id_2022', 'ntd_agency_info_key']], \n",
    "    left_on='gtfs_dataset_key', \n",
    "    right_on='schedule_gtfs_dataset_key',\n",
    "    how='inner'\n",
    ")"
   ]
  },
  {
   "cell_type": "code",
   "execution_count": 22,
   "id": "0636739d-3174-4be4-8dbd-742b80015bc6",
   "metadata": {
    "tags": []
   },
   "outputs": [
    {
     "data": {
      "text/plain": [
       "(1829843, 14)"
      ]
     },
     "execution_count": 22,
     "metadata": {},
     "output_type": "execute_result"
    }
   ],
   "source": [
    "trips_ntd_data.shape"
   ]
  },
  {
   "cell_type": "code",
   "execution_count": 31,
   "id": "8c306144-4050-45a4-a67b-38e017c979f9",
   "metadata": {
    "tags": []
   },
   "outputs": [
    {
     "data": {
      "text/plain": [
       "gtfs_dataset_key    178\n",
       "ntd_id_2022         146\n",
       "dtype: int64"
      ]
     },
     "execution_count": 31,
     "metadata": {},
     "output_type": "execute_result"
    }
   ],
   "source": [
    "trips_ntd_data[['gtfs_dataset_key', 'ntd_id_2022']].nunique()"
   ]
  },
  {
   "cell_type": "code",
   "execution_count": 24,
   "id": "5ce48b85-09f9-4b85-b0e5-472185539033",
   "metadata": {
    "tags": []
   },
   "outputs": [],
   "source": [
    "gtfs_counts = trips_ntd_data.groupby('gtfs_dataset_key')['ntd_id_2022'].nunique()\n",
    "ntd_counts = trips_ntd_data.groupby('ntd_id_2022')['gtfs_dataset_key'].nunique()\n",
    "\n",
    "# Filter to get only 1:1 mappings\n",
    "valid_gtfs_keys = gtfs_counts[gtfs_counts == 1].index\n",
    "valid_ntd_ids = ntd_counts[ntd_counts == 1].index\n",
    "\n",
    "# Now filtering the original DataFrame\n",
    "unique_pairs = trips_ntd_data[\n",
    "    trips_ntd_data['gtfs_dataset_key'].isin(valid_gtfs_keys) &\n",
    "    trips_ntd_data['ntd_id_2022'].isin(valid_ntd_ids)\n",
    "]"
   ]
  },
  {
   "cell_type": "code",
   "execution_count": 32,
   "id": "23764499-e09a-43fc-a978-505c520234c9",
   "metadata": {
    "tags": []
   },
   "outputs": [
    {
     "data": {
      "text/plain": [
       "(98, 2)"
      ]
     },
     "execution_count": 32,
     "metadata": {},
     "output_type": "execute_result"
    }
   ],
   "source": [
    "unique_pairs[['gtfs_dataset_key', 'ntd_id_2022']].drop_duplicates().shape"
   ]
  },
  {
   "cell_type": "code",
   "execution_count": 26,
   "id": "c1753ea4-28c4-44cd-871d-b40424fceb0b",
   "metadata": {
    "tags": []
   },
   "outputs": [],
   "source": [
    "def trips_data_summary(day_type, analysis_dt, trips_df):\n",
    "    if trips_df.empty:\n",
    "        return pd.DataFrame()\n",
    "\n",
    "    # Get feed_keys from the provided trips_df\n",
    "    feed_keys = trips_df[\"feed_key\"].unique().tolist()\n",
    "\n",
    "    trips_df = trips_df.drop_duplicates()\n",
    "\n",
    "    # Add derived column\n",
    "    trips_df[\"route_name_id\"] = trips_df[\"route_short_name\"].fillna(\"\") + \"_\" + trips_df[\"route_id\"]\n",
    "\n",
    "    # Get stop_times\n",
    "    stoptimes_df = gtfs_utils_v2.get_stop_times(\n",
    "        selected_date=analysis_dt,\n",
    "        operator_feeds=feed_keys,\n",
    "        stop_time_cols=[\"trip_id\", \"feed_key\", \"stop_id\", \"arrival_sec\", \"departure_sec\"],\n",
    "        trip_df=trips_df,\n",
    "        get_df=True\n",
    "    )\n",
    "\n",
    "    if stoptimes_df.empty:\n",
    "        return pd.DataFrame()\n",
    "\n",
    "    # Merge with trips\n",
    "    stoptimes_df = stoptimes_df.merge(trips_df, on=[\"trip_id\", \"feed_key\"])\n",
    "\n",
    "    # Summarize stop-level trips\n",
    "    grouped = stoptimes_df.groupby([\"feed_key\", \"route_type\", \"stop_id\"])\n",
    "    summary = grouped.agg(\n",
    "        n_trips=(\"trip_instance_key\", pd.Series.nunique),\n",
    "        n_routes=(\"route_id\", pd.Series.nunique),\n",
    "        route_list=(\"route_name_id\", lambda x: [x.tolist()])\n",
    "    ).reset_index()\n",
    "\n",
    "    summary[\"daytype\"] = day_type\n",
    "    summary[\"analysis_date\"] = analysis_dt\n",
    "    summary[\"route_list_string\"] = summary[\"route_list\"].apply(lambda x: \",\".join(x[0]))\n",
    "\n",
    "    # Add gtfs_dataset_key and service_date from trips_df to summary\n",
    "    feed_info = trips_df[[\"feed_key\", \"ntd_id_2022\", \"ntd_agency_info_key\", \"gtfs_dataset_key\", \"service_date\"]].drop_duplicates()\n",
    "    summary = summary.merge(feed_info, on=\"feed_key\", how=\"left\")\n",
    "\n",
    "    # Get stop metadata\n",
    "    stops_geo = gtfs_utils_v2.get_stops(\n",
    "        selected_date=analysis_dt,\n",
    "        operator_feeds=feed_keys,\n",
    "        stop_cols=[\"feed_key\", \"stop_id\", \"stop_desc\", \"stop_name\"],\n",
    "        get_df=True\n",
    "    )\n",
    "\n",
    "    # Join with summarized data\n",
    "    stoptimes_geo = stops_geo.merge(summary, on=[\"feed_key\", \"stop_id\"])\n",
    "\n",
    "    return stoptimes_geo\n"
   ]
  },
  {
   "cell_type": "code",
   "execution_count": 27,
   "id": "a33b4fee-92e8-4246-8192-915f6368dc76",
   "metadata": {
    "tags": []
   },
   "outputs": [],
   "source": [
    "def stops_geo_acs_summary(stoptimes_geo, acs_ca, jobdata):\n",
    "    if stoptimes_geo.empty:\n",
    "        return pd.DataFrame()\n",
    "\n",
    "    # Merge ACS with job data\n",
    "    acs_ca = acs_ca.merge(jobdata, on='GEOID', how='left')\n",
    "    acs_ca = acs_ca.to_crs(epsg=3347)\n",
    "\n",
    "    # Spatial buffer (0.25 miles)\n",
    "    stoptimes_geo = stoptimes_geo.to_crs(epsg=3347)\n",
    "    stoptimes_geo[\"geometry\"] = stoptimes_geo.buffer(402.336)\n",
    "\n",
    "    # Spatial join with ACS\n",
    "    stops_acs_joined = stoptimes_geo.sjoin(acs_ca, how=\"left\", predicate=\"intersects\")\n",
    "\n",
    "    # Aggregate\n",
    "    group_cols = [\n",
    "        \"gtfs_dataset_key\", \"ntd_id_2022\", \"ntd_agency_info_key\", \"stop_id\", \"stop_name\", \"n_trips\", \"n_routes\",\n",
    "        \"daytype\", \"analysis_date\", \"route_list_string\", \"service_date\"\n",
    "    ]\n",
    "\n",
    "    acs_summary = stops_acs_joined.groupby(group_cols).agg(\n",
    "        sum_tracts=(\"GEOID\", pd.Series.nunique),\n",
    "        sum_total_pop=(\"total_pop\", \"sum\"),\n",
    "        sum_households=(\"households\", \"sum\"),\n",
    "        sum_not_us_citizen_pop=(\"not_us_citizen_pop\", \"sum\"),\n",
    "        sum_youth_pop=(\"youth_pop\", \"sum\"),\n",
    "        sum_seniors_pop=(\"seniors_pop\", \"sum\"),\n",
    "        sum_pop_determined_poverty_status=(\"pop_determined_poverty_status\", \"sum\"),\n",
    "        sum_poverty=(\"poverty\", \"sum\"),\n",
    "        sum_no_car=(\"workers_with_no_car\", \"sum\"),\n",
    "        sum_no_cars=(\"households_with_no_cars\", \"sum\"),\n",
    "        sum_land_area=(\"ALAND\", \"sum\"),\n",
    "        sum_jobs=(\"jobs_tot\", \"sum\")\n",
    "    ).reset_index()\n",
    "\n",
    "    # Derived metrics\n",
    "    acs_summary[\"land_area_sqkm\"] = acs_summary[\"sum_land_area\"] / 1_000_000\n",
    "    acs_summary[\"pop_density\"] = acs_summary[\"sum_total_pop\"] / acs_summary[\"land_area_sqkm\"]\n",
    "    acs_summary[\"job_density\"] = acs_summary[\"sum_jobs\"] / acs_summary[\"land_area_sqkm\"]\n",
    "    acs_summary[\"pct_not_us_citizen_pop\"] = (acs_summary[\"sum_not_us_citizen_pop\"] / acs_summary[\"sum_total_pop\"]) * 100\n",
    "    acs_summary[\"pct_youth_pop\"] = (acs_summary[\"sum_youth_pop\"] / acs_summary[\"sum_total_pop\"]) * 100\n",
    "    acs_summary[\"pct_seniors_pop\"] = (acs_summary[\"sum_seniors_pop\"] / acs_summary[\"sum_total_pop\"]) * 100\n",
    "    acs_summary[\"pct_poverty\"] = (acs_summary[\"sum_poverty\"] / acs_summary[\"sum_pop_determined_poverty_status\"]) * 100\n",
    "    acs_summary[\"pct_pop_workers_no_car\"] = (acs_summary[\"sum_no_car\"] / acs_summary[\"sum_total_pop\"]) * 100\n",
    "    acs_summary[\"pct_hh_no_cars\"] = (acs_summary[\"sum_no_cars\"] / acs_summary[\"sum_households\"]) * 100\n",
    "\n",
    "    return acs_summary\n"
   ]
  },
  {
   "cell_type": "code",
   "execution_count": 28,
   "id": "872b56ca-b195-4a2d-b7e5-1797f0d2f475",
   "metadata": {},
   "outputs": [],
   "source": [
    "# set date parameters\n",
    "analysis_wkd = dt.date(2022,11,30)\n",
    "analysis_sat = dt.date(2022,12,3)\n",
    "analysis_sun = dt.date(2022,12,4)"
   ]
  },
  {
   "cell_type": "code",
   "execution_count": 29,
   "id": "33293e40-6b18-4427-be7f-12081c6452fc",
   "metadata": {},
   "outputs": [],
   "source": [
    "acs_ca = read_parquet_from_gcs(\"tracts_ca_acs.parquet\")\n",
    "jobdata = pd.read_parquet(f\"{GCS_FILE_PATH}/job_density_2022.parquet\")[['GEOID', 'jobs_tot']]"
   ]
  },
  {
   "cell_type": "code",
   "execution_count": 30,
   "id": "f207bd06-8a98-4bf4-a000-01f2090f937f",
   "metadata": {
    "tags": []
   },
   "outputs": [],
   "source": [
    "# List of (day_type, analysis_date) pairs\n",
    "day_type_dates = [\n",
    "    (\"Weekday\", analysis_wkd),\n",
    "    (\"Saturday\", analysis_sat),\n",
    "    (\"Sunday\", analysis_sun)\n",
    "]\n"
   ]
  }
 ],
 "metadata": {
  "kernelspec": {
   "display_name": "Python 3 (ipykernel)",
   "language": "python",
   "name": "python3"
  },
  "language_info": {
   "codemirror_mode": {
    "name": "ipython",
    "version": 3
   },
   "file_extension": ".py",
   "mimetype": "text/x-python",
   "name": "python",
   "nbconvert_exporter": "python",
   "pygments_lexer": "ipython3",
   "version": "3.11.10"
  }
 },
 "nbformat": 4,
 "nbformat_minor": 5
}
