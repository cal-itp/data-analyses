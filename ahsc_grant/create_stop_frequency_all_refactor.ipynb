{
 "cells": [
  {
   "cell_type": "code",
   "execution_count": 1,
   "id": "00ed6bb0-f4c8-4dd7-b6da-37fcbc63fbc9",
   "metadata": {
    "tags": []
   },
   "outputs": [
    {
     "name": "stdout",
     "output_type": "stream",
     "text": [
      "Requirement already satisfied: shared_utils in /opt/conda/lib/python3.11/site-packages (4.2)\n",
      "Note: you may need to restart the kernel to use updated packages.\n"
     ]
    }
   ],
   "source": [
    "pip install shared_utils"
   ]
  },
  {
   "cell_type": "code",
   "execution_count": 2,
   "id": "0428fe88-dfb3-489b-af63-e9e4d66a8365",
   "metadata": {
    "tags": []
   },
   "outputs": [
    {
     "name": "stdout",
     "output_type": "stream",
     "text": [
      "Requirement already satisfied: rapidfuzz in /opt/conda/lib/python3.11/site-packages (3.13.0)\n",
      "Note: you may need to restart the kernel to use updated packages.\n"
     ]
    }
   ],
   "source": [
    "pip install rapidfuzz"
   ]
  },
  {
   "cell_type": "code",
   "execution_count": 3,
   "id": "4ef529ec-afc7-4676-b619-865864cab257",
   "metadata": {
    "tags": []
   },
   "outputs": [
    {
     "ename": "OAuthError",
     "evalue": "('Error code invalid_grant: Refresh token has expired', '{\"error\":\"invalid_grant\",\"error_description\":\"Refresh token has expired\"}')",
     "output_type": "error",
     "traceback": [
      "\u001b[0;31m---------------------------------------------------------------------------\u001b[0m",
      "\u001b[0;31mOAuthError\u001b[0m                                Traceback (most recent call last)",
      "Cell \u001b[0;32mIn[3], line 3\u001b[0m\n\u001b[1;32m      1\u001b[0m \u001b[38;5;28;01mimport\u001b[39;00m\u001b[38;5;250m \u001b[39m\u001b[38;5;21;01mpandas\u001b[39;00m\u001b[38;5;250m \u001b[39m\u001b[38;5;28;01mas\u001b[39;00m\u001b[38;5;250m \u001b[39m\u001b[38;5;21;01mpd\u001b[39;00m \n\u001b[1;32m      2\u001b[0m \u001b[38;5;28;01mimport\u001b[39;00m\u001b[38;5;250m \u001b[39m\u001b[38;5;21;01myaml\u001b[39;00m\n\u001b[0;32m----> 3\u001b[0m \u001b[38;5;28;01mfrom\u001b[39;00m\u001b[38;5;250m \u001b[39m\u001b[38;5;21;01mshared_utils\u001b[39;00m\u001b[38;5;250m \u001b[39m\u001b[38;5;28;01mimport\u001b[39;00m portfolio_utils, schedule_rt_utils \n\u001b[1;32m      4\u001b[0m \u001b[38;5;28;01mfrom\u001b[39;00m\u001b[38;5;250m \u001b[39m\u001b[38;5;21;01msegment_speed_utils\u001b[39;00m\u001b[38;5;250m \u001b[39m\u001b[38;5;28;01mimport\u001b[39;00m helpers\n\u001b[1;32m      5\u001b[0m \u001b[38;5;28;01mfrom\u001b[39;00m\u001b[38;5;250m \u001b[39m\u001b[38;5;21;01mcalitp_data_analysis\u001b[39;00m\u001b[38;5;21;01m.\u001b[39;00m\u001b[38;5;21;01msql\u001b[39;00m\u001b[38;5;250m \u001b[39m\u001b[38;5;28;01mimport\u001b[39;00m get_engine\n",
      "File \u001b[0;32m~/data-analyses/_shared_utils/shared_utils/__init__.py:1\u001b[0m\n\u001b[0;32m----> 1\u001b[0m \u001b[38;5;28;01mfrom\u001b[39;00m\u001b[38;5;250m \u001b[39m\u001b[38;5;21;01m.\u001b[39;00m\u001b[38;5;250m \u001b[39m\u001b[38;5;28;01mimport\u001b[39;00m (\n\u001b[1;32m      2\u001b[0m     arcgis_query,\n\u001b[1;32m      3\u001b[0m     catalog_utils,\n\u001b[1;32m      4\u001b[0m     dask_utils,\n\u001b[1;32m      5\u001b[0m     geo_utils,\n\u001b[1;32m      6\u001b[0m     gtfs_utils_v2,\n\u001b[1;32m      7\u001b[0m     portfolio_utils,\n\u001b[1;32m      8\u001b[0m     publish_utils,\n\u001b[1;32m      9\u001b[0m     rt_dates,\n\u001b[1;32m     10\u001b[0m     rt_utils,\n\u001b[1;32m     11\u001b[0m     schedule_rt_utils,\n\u001b[1;32m     12\u001b[0m     time_helpers,\n\u001b[1;32m     13\u001b[0m )\n\u001b[1;32m     15\u001b[0m __all__ \u001b[38;5;241m=\u001b[39m [\n\u001b[1;32m     16\u001b[0m     \u001b[38;5;124m\"\u001b[39m\u001b[38;5;124marcgis_query\u001b[39m\u001b[38;5;124m\"\u001b[39m,\n\u001b[1;32m     17\u001b[0m     \u001b[38;5;124m\"\u001b[39m\u001b[38;5;124mcatalog_utils\u001b[39m\u001b[38;5;124m\"\u001b[39m,\n\u001b[0;32m   (...)\u001b[0m\n\u001b[1;32m     26\u001b[0m     \u001b[38;5;124m\"\u001b[39m\u001b[38;5;124mtime_helpers\u001b[39m\u001b[38;5;124m\"\u001b[39m,\n\u001b[1;32m     27\u001b[0m ]\n",
      "File \u001b[0;32m~/data-analyses/_shared_utils/shared_utils/geo_utils.py:12\u001b[0m\n\u001b[1;32m     10\u001b[0m \u001b[38;5;28;01mfrom\u001b[39;00m\u001b[38;5;250m \u001b[39m\u001b[38;5;21;01mcalitp_data_analysis\u001b[39;00m\u001b[38;5;250m \u001b[39m\u001b[38;5;28;01mimport\u001b[39;00m geography_utils\n\u001b[1;32m     11\u001b[0m \u001b[38;5;28;01mfrom\u001b[39;00m\u001b[38;5;250m \u001b[39m\u001b[38;5;21;01mscipy\u001b[39;00m\u001b[38;5;21;01m.\u001b[39;00m\u001b[38;5;21;01mspatial\u001b[39;00m\u001b[38;5;250m \u001b[39m\u001b[38;5;28;01mimport\u001b[39;00m KDTree\n\u001b[0;32m---> 12\u001b[0m \u001b[38;5;28;01mfrom\u001b[39;00m\u001b[38;5;250m \u001b[39m\u001b[38;5;21;01mshared_utils\u001b[39;00m\u001b[38;5;250m \u001b[39m\u001b[38;5;28;01mimport\u001b[39;00m rt_utils\n\u001b[1;32m     14\u001b[0m \u001b[38;5;66;03m# Could we use distance to filter for nearest neighbor?\u001b[39;00m\n\u001b[1;32m     15\u001b[0m \u001b[38;5;66;03m# It can make the length of results more unpredictable...maybe we stick to\u001b[39;00m\n\u001b[1;32m     16\u001b[0m \u001b[38;5;66;03m# k_neighbors and keep the nearest k, so that we can at least be\u001b[39;00m\n\u001b[1;32m     17\u001b[0m \u001b[38;5;66;03m# more consistent with the arrays returned\u001b[39;00m\n\u001b[1;32m     18\u001b[0m geo_const_meters \u001b[38;5;241m=\u001b[39m \u001b[38;5;241m6_371_000\u001b[39m \u001b[38;5;241m*\u001b[39m np\u001b[38;5;241m.\u001b[39mpi \u001b[38;5;241m/\u001b[39m \u001b[38;5;241m180\u001b[39m\n",
      "File \u001b[0;32m~/data-analyses/_shared_utils/shared_utils/rt_utils.py:13\u001b[0m\n\u001b[1;32m     11\u001b[0m \u001b[38;5;28;01mimport\u001b[39;00m\u001b[38;5;250m \u001b[39m\u001b[38;5;21;01mshapely\u001b[39;00m\n\u001b[1;32m     12\u001b[0m \u001b[38;5;28;01mfrom\u001b[39;00m\u001b[38;5;250m \u001b[39m\u001b[38;5;21;01mcalitp_data_analysis\u001b[39;00m\u001b[38;5;250m \u001b[39m\u001b[38;5;28;01mimport\u001b[39;00m geography_utils, get_fs, utils\n\u001b[0;32m---> 13\u001b[0m \u001b[38;5;28;01mfrom\u001b[39;00m\u001b[38;5;250m \u001b[39m\u001b[38;5;21;01mcalitp_data_analysis\u001b[39;00m\u001b[38;5;21;01m.\u001b[39;00m\u001b[38;5;21;01mtables\u001b[39;00m\u001b[38;5;250m \u001b[39m\u001b[38;5;28;01mimport\u001b[39;00m tbls\n\u001b[1;32m     14\u001b[0m \u001b[38;5;28;01mfrom\u001b[39;00m\u001b[38;5;250m \u001b[39m\u001b[38;5;21;01mnumba\u001b[39;00m\u001b[38;5;250m \u001b[39m\u001b[38;5;28;01mimport\u001b[39;00m jit\n\u001b[1;32m     15\u001b[0m \u001b[38;5;28;01mfrom\u001b[39;00m\u001b[38;5;250m \u001b[39m\u001b[38;5;21;01mshared_utils\u001b[39;00m\u001b[38;5;250m \u001b[39m\u001b[38;5;28;01mimport\u001b[39;00m gtfs_utils_v2, rt_dates\n",
      "File \u001b[0;32m/opt/conda/lib/python3.11/site-packages/calitp_data_analysis/tables.py:120\u001b[0m\n\u001b[1;32m    101\u001b[0m         \u001b[38;5;28;01mreturn\u001b[39;00m \u001b[38;5;124mf\u001b[39m\u001b[38;5;124m\"\"\"\u001b[39m\n\u001b[1;32m    102\u001b[0m \u001b[38;5;124m            <h3> \u001b[39m\u001b[38;5;132;01m{\u001b[39;00mtbl\u001b[38;5;241m.\u001b[39mtbl\u001b[38;5;241m.\u001b[39mname\u001b[38;5;132;01m}\u001b[39;00m\u001b[38;5;124m </h3>\u001b[39m\n\u001b[1;32m    103\u001b[0m \u001b[38;5;124m            <p> \u001b[39m\u001b[38;5;132;01m{\u001b[39;00mtbl\u001b[38;5;241m.\u001b[39mtbl\u001b[38;5;241m.\u001b[39mcomment\u001b[38;5;132;01m}\u001b[39;00m\u001b[38;5;124m </p>\u001b[39m\n\u001b[0;32m   (...)\u001b[0m\n\u001b[1;32m    111\u001b[0m \u001b[38;5;124m            </table>\u001b[39m\n\u001b[1;32m    112\u001b[0m \u001b[38;5;124m            \u001b[39m\u001b[38;5;124m\"\"\"\u001b[39m  \u001b[38;5;66;03m# noqa: E221,E222\u001b[39;00m\n\u001b[1;32m    115\u001b[0m tbls \u001b[38;5;241m=\u001b[39m AutoTable(\n\u001b[1;32m    116\u001b[0m     get_engine(),\n\u001b[1;32m    117\u001b[0m     \u001b[38;5;28;01mlambda\u001b[39;00m s: s,  \u001b[38;5;66;03m# s.replace(\".\", \"_\"),\u001b[39;00m\n\u001b[1;32m    118\u001b[0m )\n\u001b[0;32m--> 120\u001b[0m \u001b[43mtbls\u001b[49m\u001b[38;5;241;43m.\u001b[39;49m\u001b[43m_init\u001b[49m\u001b[43m(\u001b[49m\u001b[43m)\u001b[49m\n",
      "File \u001b[0;32m/opt/conda/lib/python3.11/site-packages/calitp_data_analysis/tables.py:49\u001b[0m, in \u001b[0;36mAutoTable._init\u001b[0;34m(self)\u001b[0m\n\u001b[1;32m     47\u001b[0m \u001b[38;5;66;03m# initialize ----\u001b[39;00m\n\u001b[1;32m     48\u001b[0m insp \u001b[38;5;241m=\u001b[39m Inspector(\u001b[38;5;28mself\u001b[39m\u001b[38;5;241m.\u001b[39m_engine)\n\u001b[0;32m---> 49\u001b[0m \u001b[38;5;28mself\u001b[39m\u001b[38;5;241m.\u001b[39m_table_names \u001b[38;5;241m=\u001b[39m \u001b[38;5;28mtuple\u001b[39m(\u001b[43minsp\u001b[49m\u001b[38;5;241;43m.\u001b[39;49m\u001b[43mget_table_names\u001b[49m\u001b[43m(\u001b[49m\u001b[43m)\u001b[49m) \u001b[38;5;241m+\u001b[39m \u001b[38;5;28mtuple\u001b[39m(insp\u001b[38;5;241m.\u001b[39mget_view_names())\n\u001b[1;32m     51\u001b[0m mappings \u001b[38;5;241m=\u001b[39m {}\n\u001b[1;32m     52\u001b[0m \u001b[38;5;28;01mfor\u001b[39;00m name \u001b[38;5;129;01min\u001b[39;00m \u001b[38;5;28mself\u001b[39m\u001b[38;5;241m.\u001b[39m_table_names:\n",
      "File \u001b[0;32m/opt/conda/lib/python3.11/site-packages/sqlalchemy/engine/reflection.py:266\u001b[0m, in \u001b[0;36mInspector.get_table_names\u001b[0;34m(self, schema)\u001b[0m\n\u001b[1;32m    243\u001b[0m \u001b[38;5;250m\u001b[39m\u001b[38;5;124;03m\"\"\"Return all table names in referred to within a particular schema.\u001b[39;00m\n\u001b[1;32m    244\u001b[0m \n\u001b[1;32m    245\u001b[0m \u001b[38;5;124;03mThe names are expected to be real tables only, not views.\u001b[39;00m\n\u001b[0;32m   (...)\u001b[0m\n\u001b[1;32m    262\u001b[0m \n\u001b[1;32m    263\u001b[0m \u001b[38;5;124;03m\"\"\"\u001b[39;00m\n\u001b[1;32m    265\u001b[0m \u001b[38;5;28;01mwith\u001b[39;00m \u001b[38;5;28mself\u001b[39m\u001b[38;5;241m.\u001b[39m_operation_context() \u001b[38;5;28;01mas\u001b[39;00m conn:\n\u001b[0;32m--> 266\u001b[0m     \u001b[38;5;28;01mreturn\u001b[39;00m \u001b[38;5;28;43mself\u001b[39;49m\u001b[38;5;241;43m.\u001b[39;49m\u001b[43mdialect\u001b[49m\u001b[38;5;241;43m.\u001b[39;49m\u001b[43mget_table_names\u001b[49m\u001b[43m(\u001b[49m\n\u001b[1;32m    267\u001b[0m \u001b[43m        \u001b[49m\u001b[43mconn\u001b[49m\u001b[43m,\u001b[49m\u001b[43m \u001b[49m\u001b[43mschema\u001b[49m\u001b[43m,\u001b[49m\u001b[43m \u001b[49m\u001b[43minfo_cache\u001b[49m\u001b[38;5;241;43m=\u001b[39;49m\u001b[38;5;28;43mself\u001b[39;49m\u001b[38;5;241;43m.\u001b[39;49m\u001b[43minfo_cache\u001b[49m\n\u001b[1;32m    268\u001b[0m \u001b[43m    \u001b[49m\u001b[43m)\u001b[49m\n",
      "File \u001b[0;32m/opt/conda/lib/python3.11/site-packages/sqlalchemy_bigquery/base.py:1357\u001b[0m, in \u001b[0;36mBigQueryDialect.get_table_names\u001b[0;34m(self, connection, schema, **kw)\u001b[0m\n\u001b[1;32m   1354\u001b[0m     connection \u001b[38;5;241m=\u001b[39m connection\u001b[38;5;241m.\u001b[39mconnect()\n\u001b[1;32m   1356\u001b[0m item_types \u001b[38;5;241m=\u001b[39m [\u001b[38;5;124m\"\u001b[39m\u001b[38;5;124mTABLE\u001b[39m\u001b[38;5;124m\"\u001b[39m, \u001b[38;5;124m\"\u001b[39m\u001b[38;5;124mEXTERNAL\u001b[39m\u001b[38;5;124m\"\u001b[39m]\n\u001b[0;32m-> 1357\u001b[0m \u001b[38;5;28;01mreturn\u001b[39;00m \u001b[38;5;28;43mself\u001b[39;49m\u001b[38;5;241;43m.\u001b[39;49m\u001b[43m_get_table_or_view_names\u001b[49m\u001b[43m(\u001b[49m\u001b[43mconnection\u001b[49m\u001b[43m,\u001b[49m\u001b[43m \u001b[49m\u001b[43mitem_types\u001b[49m\u001b[43m,\u001b[49m\u001b[43m \u001b[49m\u001b[43mschema\u001b[49m\u001b[43m)\u001b[49m\n",
      "File \u001b[0;32m/opt/conda/lib/python3.11/site-packages/sqlalchemy_bigquery/base.py:1196\u001b[0m, in \u001b[0;36mBigQueryDialect._get_table_or_view_names\u001b[0;34m(self, connection, item_types, schema)\u001b[0m\n\u001b[1;32m   1193\u001b[0m datasets \u001b[38;5;241m=\u001b[39m client\u001b[38;5;241m.\u001b[39mlist_datasets(\u001b[38;5;28mself\u001b[39m\u001b[38;5;241m.\u001b[39mproject_id)\n\u001b[1;32m   1195\u001b[0m result \u001b[38;5;241m=\u001b[39m []\n\u001b[0;32m-> 1196\u001b[0m \u001b[43m\u001b[49m\u001b[38;5;28;43;01mfor\u001b[39;49;00m\u001b[43m \u001b[49m\u001b[43mdataset\u001b[49m\u001b[43m \u001b[49m\u001b[38;5;129;43;01min\u001b[39;49;00m\u001b[43m \u001b[49m\u001b[43mdatasets\u001b[49m\u001b[43m:\u001b[49m\n\u001b[1;32m   1197\u001b[0m \u001b[43m    \u001b[49m\u001b[38;5;28;43;01mif\u001b[39;49;00m\u001b[43m \u001b[49m\u001b[43mcurrent_schema\u001b[49m\u001b[43m \u001b[49m\u001b[38;5;129;43;01mis\u001b[39;49;00m\u001b[43m \u001b[49m\u001b[38;5;129;43;01mnot\u001b[39;49;00m\u001b[43m \u001b[49m\u001b[38;5;28;43;01mNone\u001b[39;49;00m\u001b[43m \u001b[49m\u001b[38;5;129;43;01mand\u001b[39;49;00m\u001b[43m \u001b[49m\u001b[43mcurrent_schema\u001b[49m\u001b[43m \u001b[49m\u001b[38;5;241;43m!=\u001b[39;49m\u001b[43m \u001b[49m\u001b[43mdataset\u001b[49m\u001b[38;5;241;43m.\u001b[39;49m\u001b[43mdataset_id\u001b[49m\u001b[43m:\u001b[49m\n\u001b[1;32m   1198\u001b[0m \u001b[43m        \u001b[49m\u001b[38;5;28;43;01mcontinue\u001b[39;49;00m\n",
      "File \u001b[0;32m/opt/conda/lib/python3.11/site-packages/google/api_core/page_iterator.py:208\u001b[0m, in \u001b[0;36mIterator._items_iter\u001b[0;34m(self)\u001b[0m\n\u001b[1;32m    206\u001b[0m \u001b[38;5;28;01mdef\u001b[39;00m\u001b[38;5;250m \u001b[39m\u001b[38;5;21m_items_iter\u001b[39m(\u001b[38;5;28mself\u001b[39m):\n\u001b[1;32m    207\u001b[0m \u001b[38;5;250m    \u001b[39m\u001b[38;5;124;03m\"\"\"Iterator for each item returned.\"\"\"\u001b[39;00m\n\u001b[0;32m--> 208\u001b[0m \u001b[43m    \u001b[49m\u001b[38;5;28;43;01mfor\u001b[39;49;00m\u001b[43m \u001b[49m\u001b[43mpage\u001b[49m\u001b[43m \u001b[49m\u001b[38;5;129;43;01min\u001b[39;49;00m\u001b[43m \u001b[49m\u001b[38;5;28;43mself\u001b[39;49m\u001b[38;5;241;43m.\u001b[39;49m\u001b[43m_page_iter\u001b[49m\u001b[43m(\u001b[49m\u001b[43mincrement\u001b[49m\u001b[38;5;241;43m=\u001b[39;49m\u001b[38;5;28;43;01mFalse\u001b[39;49;00m\u001b[43m)\u001b[49m\u001b[43m:\u001b[49m\n\u001b[1;32m    209\u001b[0m \u001b[43m        \u001b[49m\u001b[38;5;28;43;01mfor\u001b[39;49;00m\u001b[43m \u001b[49m\u001b[43mitem\u001b[49m\u001b[43m \u001b[49m\u001b[38;5;129;43;01min\u001b[39;49;00m\u001b[43m \u001b[49m\u001b[43mpage\u001b[49m\u001b[43m:\u001b[49m\n\u001b[1;32m    210\u001b[0m \u001b[43m            \u001b[49m\u001b[38;5;28;43mself\u001b[39;49m\u001b[38;5;241;43m.\u001b[39;49m\u001b[43mnum_results\u001b[49m\u001b[43m \u001b[49m\u001b[38;5;241;43m+\u001b[39;49m\u001b[38;5;241;43m=\u001b[39;49m\u001b[43m \u001b[49m\u001b[38;5;241;43m1\u001b[39;49m\n",
      "File \u001b[0;32m/opt/conda/lib/python3.11/site-packages/google/api_core/page_iterator.py:244\u001b[0m, in \u001b[0;36mIterator._page_iter\u001b[0;34m(self, increment)\u001b[0m\n\u001b[1;32m    232\u001b[0m \u001b[38;5;28;01mdef\u001b[39;00m\u001b[38;5;250m \u001b[39m\u001b[38;5;21m_page_iter\u001b[39m(\u001b[38;5;28mself\u001b[39m, increment):\n\u001b[1;32m    233\u001b[0m \u001b[38;5;250m    \u001b[39m\u001b[38;5;124;03m\"\"\"Generator of pages of API responses.\u001b[39;00m\n\u001b[1;32m    234\u001b[0m \n\u001b[1;32m    235\u001b[0m \u001b[38;5;124;03m    Args:\u001b[39;00m\n\u001b[0;32m   (...)\u001b[0m\n\u001b[1;32m    242\u001b[0m \u001b[38;5;124;03m        Page: each page of items from the API.\u001b[39;00m\n\u001b[1;32m    243\u001b[0m \u001b[38;5;124;03m    \"\"\"\u001b[39;00m\n\u001b[0;32m--> 244\u001b[0m     page \u001b[38;5;241m=\u001b[39m \u001b[38;5;28;43mself\u001b[39;49m\u001b[38;5;241;43m.\u001b[39;49m\u001b[43m_next_page\u001b[49m\u001b[43m(\u001b[49m\u001b[43m)\u001b[49m\n\u001b[1;32m    245\u001b[0m     \u001b[38;5;28;01mwhile\u001b[39;00m page \u001b[38;5;129;01mis\u001b[39;00m \u001b[38;5;129;01mnot\u001b[39;00m \u001b[38;5;28;01mNone\u001b[39;00m:\n\u001b[1;32m    246\u001b[0m         \u001b[38;5;28mself\u001b[39m\u001b[38;5;241m.\u001b[39mpage_number \u001b[38;5;241m+\u001b[39m\u001b[38;5;241m=\u001b[39m \u001b[38;5;241m1\u001b[39m\n",
      "File \u001b[0;32m/opt/conda/lib/python3.11/site-packages/google/api_core/page_iterator.py:373\u001b[0m, in \u001b[0;36mHTTPIterator._next_page\u001b[0;34m(self)\u001b[0m\n\u001b[1;32m    366\u001b[0m \u001b[38;5;250m\u001b[39m\u001b[38;5;124;03m\"\"\"Get the next page in the iterator.\u001b[39;00m\n\u001b[1;32m    367\u001b[0m \n\u001b[1;32m    368\u001b[0m \u001b[38;5;124;03mReturns:\u001b[39;00m\n\u001b[1;32m    369\u001b[0m \u001b[38;5;124;03m    Optional[Page]: The next page in the iterator or :data:`None` if\u001b[39;00m\n\u001b[1;32m    370\u001b[0m \u001b[38;5;124;03m        there are no pages left.\u001b[39;00m\n\u001b[1;32m    371\u001b[0m \u001b[38;5;124;03m\"\"\"\u001b[39;00m\n\u001b[1;32m    372\u001b[0m \u001b[38;5;28;01mif\u001b[39;00m \u001b[38;5;28mself\u001b[39m\u001b[38;5;241m.\u001b[39m_has_next_page():\n\u001b[0;32m--> 373\u001b[0m     response \u001b[38;5;241m=\u001b[39m \u001b[38;5;28;43mself\u001b[39;49m\u001b[38;5;241;43m.\u001b[39;49m\u001b[43m_get_next_page_response\u001b[49m\u001b[43m(\u001b[49m\u001b[43m)\u001b[49m\n\u001b[1;32m    374\u001b[0m     items \u001b[38;5;241m=\u001b[39m response\u001b[38;5;241m.\u001b[39mget(\u001b[38;5;28mself\u001b[39m\u001b[38;5;241m.\u001b[39m_items_key, ())\n\u001b[1;32m    375\u001b[0m     page \u001b[38;5;241m=\u001b[39m Page(\u001b[38;5;28mself\u001b[39m, items, \u001b[38;5;28mself\u001b[39m\u001b[38;5;241m.\u001b[39mitem_to_value, raw_page\u001b[38;5;241m=\u001b[39mresponse)\n",
      "File \u001b[0;32m/opt/conda/lib/python3.11/site-packages/google/api_core/page_iterator.py:432\u001b[0m, in \u001b[0;36mHTTPIterator._get_next_page_response\u001b[0;34m(self)\u001b[0m\n\u001b[1;32m    430\u001b[0m params \u001b[38;5;241m=\u001b[39m \u001b[38;5;28mself\u001b[39m\u001b[38;5;241m.\u001b[39m_get_query_params()\n\u001b[1;32m    431\u001b[0m \u001b[38;5;28;01mif\u001b[39;00m \u001b[38;5;28mself\u001b[39m\u001b[38;5;241m.\u001b[39m_HTTP_METHOD \u001b[38;5;241m==\u001b[39m \u001b[38;5;124m\"\u001b[39m\u001b[38;5;124mGET\u001b[39m\u001b[38;5;124m\"\u001b[39m:\n\u001b[0;32m--> 432\u001b[0m     \u001b[38;5;28;01mreturn\u001b[39;00m \u001b[38;5;28;43mself\u001b[39;49m\u001b[38;5;241;43m.\u001b[39;49m\u001b[43mapi_request\u001b[49m\u001b[43m(\u001b[49m\n\u001b[1;32m    433\u001b[0m \u001b[43m        \u001b[49m\u001b[43mmethod\u001b[49m\u001b[38;5;241;43m=\u001b[39;49m\u001b[38;5;28;43mself\u001b[39;49m\u001b[38;5;241;43m.\u001b[39;49m\u001b[43m_HTTP_METHOD\u001b[49m\u001b[43m,\u001b[49m\u001b[43m \u001b[49m\u001b[43mpath\u001b[49m\u001b[38;5;241;43m=\u001b[39;49m\u001b[38;5;28;43mself\u001b[39;49m\u001b[38;5;241;43m.\u001b[39;49m\u001b[43mpath\u001b[49m\u001b[43m,\u001b[49m\u001b[43m \u001b[49m\u001b[43mquery_params\u001b[49m\u001b[38;5;241;43m=\u001b[39;49m\u001b[43mparams\u001b[49m\n\u001b[1;32m    434\u001b[0m \u001b[43m    \u001b[49m\u001b[43m)\u001b[49m\n\u001b[1;32m    435\u001b[0m \u001b[38;5;28;01melif\u001b[39;00m \u001b[38;5;28mself\u001b[39m\u001b[38;5;241m.\u001b[39m_HTTP_METHOD \u001b[38;5;241m==\u001b[39m \u001b[38;5;124m\"\u001b[39m\u001b[38;5;124mPOST\u001b[39m\u001b[38;5;124m\"\u001b[39m:\n\u001b[1;32m    436\u001b[0m     \u001b[38;5;28;01mreturn\u001b[39;00m \u001b[38;5;28mself\u001b[39m\u001b[38;5;241m.\u001b[39mapi_request(\n\u001b[1;32m    437\u001b[0m         method\u001b[38;5;241m=\u001b[39m\u001b[38;5;28mself\u001b[39m\u001b[38;5;241m.\u001b[39m_HTTP_METHOD, path\u001b[38;5;241m=\u001b[39m\u001b[38;5;28mself\u001b[39m\u001b[38;5;241m.\u001b[39mpath, data\u001b[38;5;241m=\u001b[39mparams\n\u001b[1;32m    438\u001b[0m     )\n",
      "File \u001b[0;32m/opt/conda/lib/python3.11/site-packages/google/cloud/bigquery/client.py:520\u001b[0m, in \u001b[0;36mClient.list_datasets.<locals>.api_request\u001b[0;34m(*args, **kwargs)\u001b[0m\n\u001b[1;32m    519\u001b[0m \u001b[38;5;28;01mdef\u001b[39;00m\u001b[38;5;250m \u001b[39m\u001b[38;5;21mapi_request\u001b[39m(\u001b[38;5;241m*\u001b[39margs, \u001b[38;5;241m*\u001b[39m\u001b[38;5;241m*\u001b[39mkwargs):\n\u001b[0;32m--> 520\u001b[0m     \u001b[38;5;28;01mreturn\u001b[39;00m \u001b[38;5;28;43mself\u001b[39;49m\u001b[38;5;241;43m.\u001b[39;49m\u001b[43m_call_api\u001b[49m\u001b[43m(\u001b[49m\n\u001b[1;32m    521\u001b[0m \u001b[43m        \u001b[49m\u001b[43mretry\u001b[49m\u001b[43m,\u001b[49m\n\u001b[1;32m    522\u001b[0m \u001b[43m        \u001b[49m\u001b[43mspan_name\u001b[49m\u001b[38;5;241;43m=\u001b[39;49m\u001b[38;5;124;43m\"\u001b[39;49m\u001b[38;5;124;43mBigQuery.listDatasets\u001b[39;49m\u001b[38;5;124;43m\"\u001b[39;49m\u001b[43m,\u001b[49m\n\u001b[1;32m    523\u001b[0m \u001b[43m        \u001b[49m\u001b[43mspan_attributes\u001b[49m\u001b[38;5;241;43m=\u001b[39;49m\u001b[43mspan_attributes\u001b[49m\u001b[43m,\u001b[49m\n\u001b[1;32m    524\u001b[0m \u001b[43m        \u001b[49m\u001b[38;5;241;43m*\u001b[39;49m\u001b[43margs\u001b[49m\u001b[43m,\u001b[49m\n\u001b[1;32m    525\u001b[0m \u001b[43m        \u001b[49m\u001b[43mtimeout\u001b[49m\u001b[38;5;241;43m=\u001b[39;49m\u001b[43mtimeout\u001b[49m\u001b[43m,\u001b[49m\n\u001b[1;32m    526\u001b[0m \u001b[43m        \u001b[49m\u001b[38;5;241;43m*\u001b[39;49m\u001b[38;5;241;43m*\u001b[39;49m\u001b[43mkwargs\u001b[49m\u001b[43m,\u001b[49m\n\u001b[1;32m    527\u001b[0m \u001b[43m    \u001b[49m\u001b[43m)\u001b[49m\n",
      "File \u001b[0;32m/opt/conda/lib/python3.11/site-packages/google/cloud/bigquery/client.py:861\u001b[0m, in \u001b[0;36mClient._call_api\u001b[0;34m(self, retry, span_name, span_attributes, job_ref, headers, **kwargs)\u001b[0m\n\u001b[1;32m    857\u001b[0m \u001b[38;5;28;01mif\u001b[39;00m span_name \u001b[38;5;129;01mis\u001b[39;00m \u001b[38;5;129;01mnot\u001b[39;00m \u001b[38;5;28;01mNone\u001b[39;00m:\n\u001b[1;32m    858\u001b[0m     \u001b[38;5;28;01mwith\u001b[39;00m create_span(\n\u001b[1;32m    859\u001b[0m         name\u001b[38;5;241m=\u001b[39mspan_name, attributes\u001b[38;5;241m=\u001b[39mspan_attributes, client\u001b[38;5;241m=\u001b[39m\u001b[38;5;28mself\u001b[39m, job_ref\u001b[38;5;241m=\u001b[39mjob_ref\n\u001b[1;32m    860\u001b[0m     ):\n\u001b[0;32m--> 861\u001b[0m         \u001b[38;5;28;01mreturn\u001b[39;00m \u001b[43mcall\u001b[49m\u001b[43m(\u001b[49m\u001b[43m)\u001b[49m\n\u001b[1;32m    863\u001b[0m \u001b[38;5;28;01mreturn\u001b[39;00m call()\n",
      "File \u001b[0;32m/opt/conda/lib/python3.11/site-packages/google/api_core/retry/retry_unary.py:294\u001b[0m, in \u001b[0;36mRetry.__call__.<locals>.retry_wrapped_func\u001b[0;34m(*args, **kwargs)\u001b[0m\n\u001b[1;32m    290\u001b[0m target \u001b[38;5;241m=\u001b[39m functools\u001b[38;5;241m.\u001b[39mpartial(func, \u001b[38;5;241m*\u001b[39margs, \u001b[38;5;241m*\u001b[39m\u001b[38;5;241m*\u001b[39mkwargs)\n\u001b[1;32m    291\u001b[0m sleep_generator \u001b[38;5;241m=\u001b[39m exponential_sleep_generator(\n\u001b[1;32m    292\u001b[0m     \u001b[38;5;28mself\u001b[39m\u001b[38;5;241m.\u001b[39m_initial, \u001b[38;5;28mself\u001b[39m\u001b[38;5;241m.\u001b[39m_maximum, multiplier\u001b[38;5;241m=\u001b[39m\u001b[38;5;28mself\u001b[39m\u001b[38;5;241m.\u001b[39m_multiplier\n\u001b[1;32m    293\u001b[0m )\n\u001b[0;32m--> 294\u001b[0m \u001b[38;5;28;01mreturn\u001b[39;00m \u001b[43mretry_target\u001b[49m\u001b[43m(\u001b[49m\n\u001b[1;32m    295\u001b[0m \u001b[43m    \u001b[49m\u001b[43mtarget\u001b[49m\u001b[43m,\u001b[49m\n\u001b[1;32m    296\u001b[0m \u001b[43m    \u001b[49m\u001b[38;5;28;43mself\u001b[39;49m\u001b[38;5;241;43m.\u001b[39;49m\u001b[43m_predicate\u001b[49m\u001b[43m,\u001b[49m\n\u001b[1;32m    297\u001b[0m \u001b[43m    \u001b[49m\u001b[43msleep_generator\u001b[49m\u001b[43m,\u001b[49m\n\u001b[1;32m    298\u001b[0m \u001b[43m    \u001b[49m\u001b[43mtimeout\u001b[49m\u001b[38;5;241;43m=\u001b[39;49m\u001b[38;5;28;43mself\u001b[39;49m\u001b[38;5;241;43m.\u001b[39;49m\u001b[43m_timeout\u001b[49m\u001b[43m,\u001b[49m\n\u001b[1;32m    299\u001b[0m \u001b[43m    \u001b[49m\u001b[43mon_error\u001b[49m\u001b[38;5;241;43m=\u001b[39;49m\u001b[43mon_error\u001b[49m\u001b[43m,\u001b[49m\n\u001b[1;32m    300\u001b[0m \u001b[43m\u001b[49m\u001b[43m)\u001b[49m\n",
      "File \u001b[0;32m/opt/conda/lib/python3.11/site-packages/google/api_core/retry/retry_unary.py:156\u001b[0m, in \u001b[0;36mretry_target\u001b[0;34m(target, predicate, sleep_generator, timeout, on_error, exception_factory, **kwargs)\u001b[0m\n\u001b[1;32m    152\u001b[0m \u001b[38;5;66;03m# pylint: disable=broad-except\u001b[39;00m\n\u001b[1;32m    153\u001b[0m \u001b[38;5;66;03m# This function explicitly must deal with broad exceptions.\u001b[39;00m\n\u001b[1;32m    154\u001b[0m \u001b[38;5;28;01mexcept\u001b[39;00m \u001b[38;5;167;01mException\u001b[39;00m \u001b[38;5;28;01mas\u001b[39;00m exc:\n\u001b[1;32m    155\u001b[0m     \u001b[38;5;66;03m# defer to shared logic for handling errors\u001b[39;00m\n\u001b[0;32m--> 156\u001b[0m     next_sleep \u001b[38;5;241m=\u001b[39m \u001b[43m_retry_error_helper\u001b[49m\u001b[43m(\u001b[49m\n\u001b[1;32m    157\u001b[0m \u001b[43m        \u001b[49m\u001b[43mexc\u001b[49m\u001b[43m,\u001b[49m\n\u001b[1;32m    158\u001b[0m \u001b[43m        \u001b[49m\u001b[43mdeadline\u001b[49m\u001b[43m,\u001b[49m\n\u001b[1;32m    159\u001b[0m \u001b[43m        \u001b[49m\u001b[43msleep_iter\u001b[49m\u001b[43m,\u001b[49m\n\u001b[1;32m    160\u001b[0m \u001b[43m        \u001b[49m\u001b[43merror_list\u001b[49m\u001b[43m,\u001b[49m\n\u001b[1;32m    161\u001b[0m \u001b[43m        \u001b[49m\u001b[43mpredicate\u001b[49m\u001b[43m,\u001b[49m\n\u001b[1;32m    162\u001b[0m \u001b[43m        \u001b[49m\u001b[43mon_error\u001b[49m\u001b[43m,\u001b[49m\n\u001b[1;32m    163\u001b[0m \u001b[43m        \u001b[49m\u001b[43mexception_factory\u001b[49m\u001b[43m,\u001b[49m\n\u001b[1;32m    164\u001b[0m \u001b[43m        \u001b[49m\u001b[43mtimeout\u001b[49m\u001b[43m,\u001b[49m\n\u001b[1;32m    165\u001b[0m \u001b[43m    \u001b[49m\u001b[43m)\u001b[49m\n\u001b[1;32m    166\u001b[0m     \u001b[38;5;66;03m# if exception not raised, sleep before next attempt\u001b[39;00m\n\u001b[1;32m    167\u001b[0m     time\u001b[38;5;241m.\u001b[39msleep(next_sleep)\n",
      "File \u001b[0;32m/opt/conda/lib/python3.11/site-packages/google/api_core/retry/retry_base.py:214\u001b[0m, in \u001b[0;36m_retry_error_helper\u001b[0;34m(exc, deadline, sleep_iterator, error_list, predicate_fn, on_error_fn, exc_factory_fn, original_timeout)\u001b[0m\n\u001b[1;32m    208\u001b[0m \u001b[38;5;28;01mif\u001b[39;00m \u001b[38;5;129;01mnot\u001b[39;00m predicate_fn(exc):\n\u001b[1;32m    209\u001b[0m     final_exc, source_exc \u001b[38;5;241m=\u001b[39m exc_factory_fn(\n\u001b[1;32m    210\u001b[0m         error_list,\n\u001b[1;32m    211\u001b[0m         RetryFailureReason\u001b[38;5;241m.\u001b[39mNON_RETRYABLE_ERROR,\n\u001b[1;32m    212\u001b[0m         original_timeout,\n\u001b[1;32m    213\u001b[0m     )\n\u001b[0;32m--> 214\u001b[0m     \u001b[38;5;28;01mraise\u001b[39;00m final_exc \u001b[38;5;28;01mfrom\u001b[39;00m\u001b[38;5;250m \u001b[39m\u001b[38;5;21;01msource_exc\u001b[39;00m\n\u001b[1;32m    215\u001b[0m \u001b[38;5;28;01mif\u001b[39;00m on_error_fn \u001b[38;5;129;01mis\u001b[39;00m \u001b[38;5;129;01mnot\u001b[39;00m \u001b[38;5;28;01mNone\u001b[39;00m:\n\u001b[1;32m    216\u001b[0m     on_error_fn(exc)\n",
      "File \u001b[0;32m/opt/conda/lib/python3.11/site-packages/google/api_core/retry/retry_unary.py:147\u001b[0m, in \u001b[0;36mretry_target\u001b[0;34m(target, predicate, sleep_generator, timeout, on_error, exception_factory, **kwargs)\u001b[0m\n\u001b[1;32m    145\u001b[0m \u001b[38;5;28;01mwhile\u001b[39;00m \u001b[38;5;28;01mTrue\u001b[39;00m:\n\u001b[1;32m    146\u001b[0m     \u001b[38;5;28;01mtry\u001b[39;00m:\n\u001b[0;32m--> 147\u001b[0m         result \u001b[38;5;241m=\u001b[39m \u001b[43mtarget\u001b[49m\u001b[43m(\u001b[49m\u001b[43m)\u001b[49m\n\u001b[1;32m    148\u001b[0m         \u001b[38;5;28;01mif\u001b[39;00m inspect\u001b[38;5;241m.\u001b[39misawaitable(result):\n\u001b[1;32m    149\u001b[0m             warnings\u001b[38;5;241m.\u001b[39mwarn(_ASYNC_RETRY_WARNING)\n",
      "File \u001b[0;32m/opt/conda/lib/python3.11/site-packages/google/cloud/_http/__init__.py:482\u001b[0m, in \u001b[0;36mJSONConnection.api_request\u001b[0;34m(self, method, path, query_params, data, content_type, headers, api_base_url, api_version, expect_json, _target_object, timeout, extra_api_info)\u001b[0m\n\u001b[1;32m    479\u001b[0m     data \u001b[38;5;241m=\u001b[39m json\u001b[38;5;241m.\u001b[39mdumps(data)\n\u001b[1;32m    480\u001b[0m     content_type \u001b[38;5;241m=\u001b[39m \u001b[38;5;124m\"\u001b[39m\u001b[38;5;124mapplication/json\u001b[39m\u001b[38;5;124m\"\u001b[39m\n\u001b[0;32m--> 482\u001b[0m response \u001b[38;5;241m=\u001b[39m \u001b[38;5;28;43mself\u001b[39;49m\u001b[38;5;241;43m.\u001b[39;49m\u001b[43m_make_request\u001b[49m\u001b[43m(\u001b[49m\n\u001b[1;32m    483\u001b[0m \u001b[43m    \u001b[49m\u001b[43mmethod\u001b[49m\u001b[38;5;241;43m=\u001b[39;49m\u001b[43mmethod\u001b[49m\u001b[43m,\u001b[49m\n\u001b[1;32m    484\u001b[0m \u001b[43m    \u001b[49m\u001b[43murl\u001b[49m\u001b[38;5;241;43m=\u001b[39;49m\u001b[43murl\u001b[49m\u001b[43m,\u001b[49m\n\u001b[1;32m    485\u001b[0m \u001b[43m    \u001b[49m\u001b[43mdata\u001b[49m\u001b[38;5;241;43m=\u001b[39;49m\u001b[43mdata\u001b[49m\u001b[43m,\u001b[49m\n\u001b[1;32m    486\u001b[0m \u001b[43m    \u001b[49m\u001b[43mcontent_type\u001b[49m\u001b[38;5;241;43m=\u001b[39;49m\u001b[43mcontent_type\u001b[49m\u001b[43m,\u001b[49m\n\u001b[1;32m    487\u001b[0m \u001b[43m    \u001b[49m\u001b[43mheaders\u001b[49m\u001b[38;5;241;43m=\u001b[39;49m\u001b[43mheaders\u001b[49m\u001b[43m,\u001b[49m\n\u001b[1;32m    488\u001b[0m \u001b[43m    \u001b[49m\u001b[43mtarget_object\u001b[49m\u001b[38;5;241;43m=\u001b[39;49m\u001b[43m_target_object\u001b[49m\u001b[43m,\u001b[49m\n\u001b[1;32m    489\u001b[0m \u001b[43m    \u001b[49m\u001b[43mtimeout\u001b[49m\u001b[38;5;241;43m=\u001b[39;49m\u001b[43mtimeout\u001b[49m\u001b[43m,\u001b[49m\n\u001b[1;32m    490\u001b[0m \u001b[43m    \u001b[49m\u001b[43mextra_api_info\u001b[49m\u001b[38;5;241;43m=\u001b[39;49m\u001b[43mextra_api_info\u001b[49m\u001b[43m,\u001b[49m\n\u001b[1;32m    491\u001b[0m \u001b[43m\u001b[49m\u001b[43m)\u001b[49m\n\u001b[1;32m    493\u001b[0m \u001b[38;5;28;01mif\u001b[39;00m \u001b[38;5;129;01mnot\u001b[39;00m \u001b[38;5;241m200\u001b[39m \u001b[38;5;241m<\u001b[39m\u001b[38;5;241m=\u001b[39m response\u001b[38;5;241m.\u001b[39mstatus_code \u001b[38;5;241m<\u001b[39m \u001b[38;5;241m300\u001b[39m:\n\u001b[1;32m    494\u001b[0m     \u001b[38;5;28;01mraise\u001b[39;00m exceptions\u001b[38;5;241m.\u001b[39mfrom_http_response(response)\n",
      "File \u001b[0;32m/opt/conda/lib/python3.11/site-packages/google/cloud/_http/__init__.py:341\u001b[0m, in \u001b[0;36mJSONConnection._make_request\u001b[0;34m(self, method, url, data, content_type, headers, target_object, timeout, extra_api_info)\u001b[0m\n\u001b[1;32m    338\u001b[0m     headers[CLIENT_INFO_HEADER] \u001b[38;5;241m=\u001b[39m \u001b[38;5;28mself\u001b[39m\u001b[38;5;241m.\u001b[39muser_agent\n\u001b[1;32m    339\u001b[0m headers[\u001b[38;5;124m\"\u001b[39m\u001b[38;5;124mUser-Agent\u001b[39m\u001b[38;5;124m\"\u001b[39m] \u001b[38;5;241m=\u001b[39m \u001b[38;5;28mself\u001b[39m\u001b[38;5;241m.\u001b[39muser_agent\n\u001b[0;32m--> 341\u001b[0m \u001b[38;5;28;01mreturn\u001b[39;00m \u001b[38;5;28;43mself\u001b[39;49m\u001b[38;5;241;43m.\u001b[39;49m\u001b[43m_do_request\u001b[49m\u001b[43m(\u001b[49m\n\u001b[1;32m    342\u001b[0m \u001b[43m    \u001b[49m\u001b[43mmethod\u001b[49m\u001b[43m,\u001b[49m\u001b[43m \u001b[49m\u001b[43murl\u001b[49m\u001b[43m,\u001b[49m\u001b[43m \u001b[49m\u001b[43mheaders\u001b[49m\u001b[43m,\u001b[49m\u001b[43m \u001b[49m\u001b[43mdata\u001b[49m\u001b[43m,\u001b[49m\u001b[43m \u001b[49m\u001b[43mtarget_object\u001b[49m\u001b[43m,\u001b[49m\u001b[43m \u001b[49m\u001b[43mtimeout\u001b[49m\u001b[38;5;241;43m=\u001b[39;49m\u001b[43mtimeout\u001b[49m\n\u001b[1;32m    343\u001b[0m \u001b[43m\u001b[49m\u001b[43m)\u001b[49m\n",
      "File \u001b[0;32m/opt/conda/lib/python3.11/site-packages/google/cloud/_http/__init__.py:379\u001b[0m, in \u001b[0;36mJSONConnection._do_request\u001b[0;34m(self, method, url, headers, data, target_object, timeout)\u001b[0m\n\u001b[1;32m    345\u001b[0m \u001b[38;5;28;01mdef\u001b[39;00m\u001b[38;5;250m \u001b[39m\u001b[38;5;21m_do_request\u001b[39m(\n\u001b[1;32m    346\u001b[0m     \u001b[38;5;28mself\u001b[39m, method, url, headers, data, target_object, timeout\u001b[38;5;241m=\u001b[39m_DEFAULT_TIMEOUT\n\u001b[1;32m    347\u001b[0m ):  \u001b[38;5;66;03m# pylint: disable=unused-argument\u001b[39;00m\n\u001b[1;32m    348\u001b[0m \u001b[38;5;250m    \u001b[39m\u001b[38;5;124;03m\"\"\"Low-level helper:  perform the actual API request over HTTP.\u001b[39;00m\n\u001b[1;32m    349\u001b[0m \n\u001b[1;32m    350\u001b[0m \u001b[38;5;124;03m    Allows batch context managers to override and defer a request.\u001b[39;00m\n\u001b[0;32m   (...)\u001b[0m\n\u001b[1;32m    377\u001b[0m \u001b[38;5;124;03m    :returns: The HTTP response.\u001b[39;00m\n\u001b[1;32m    378\u001b[0m \u001b[38;5;124;03m    \"\"\"\u001b[39;00m\n\u001b[0;32m--> 379\u001b[0m     \u001b[38;5;28;01mreturn\u001b[39;00m \u001b[38;5;28;43mself\u001b[39;49m\u001b[38;5;241;43m.\u001b[39;49m\u001b[43mhttp\u001b[49m\u001b[38;5;241;43m.\u001b[39;49m\u001b[43mrequest\u001b[49m\u001b[43m(\u001b[49m\n\u001b[1;32m    380\u001b[0m \u001b[43m        \u001b[49m\u001b[43murl\u001b[49m\u001b[38;5;241;43m=\u001b[39;49m\u001b[43murl\u001b[49m\u001b[43m,\u001b[49m\u001b[43m \u001b[49m\u001b[43mmethod\u001b[49m\u001b[38;5;241;43m=\u001b[39;49m\u001b[43mmethod\u001b[49m\u001b[43m,\u001b[49m\u001b[43m \u001b[49m\u001b[43mheaders\u001b[49m\u001b[38;5;241;43m=\u001b[39;49m\u001b[43mheaders\u001b[49m\u001b[43m,\u001b[49m\u001b[43m \u001b[49m\u001b[43mdata\u001b[49m\u001b[38;5;241;43m=\u001b[39;49m\u001b[43mdata\u001b[49m\u001b[43m,\u001b[49m\u001b[43m \u001b[49m\u001b[43mtimeout\u001b[49m\u001b[38;5;241;43m=\u001b[39;49m\u001b[43mtimeout\u001b[49m\n\u001b[1;32m    381\u001b[0m \u001b[43m    \u001b[49m\u001b[43m)\u001b[49m\n",
      "File \u001b[0;32m/opt/conda/lib/python3.11/site-packages/google/auth/transport/requests.py:535\u001b[0m, in \u001b[0;36mAuthorizedSession.request\u001b[0;34m(self, method, url, data, headers, max_allowed_time, timeout, **kwargs)\u001b[0m\n\u001b[1;32m    532\u001b[0m remaining_time \u001b[38;5;241m=\u001b[39m max_allowed_time\n\u001b[1;32m    534\u001b[0m \u001b[38;5;28;01mwith\u001b[39;00m TimeoutGuard(remaining_time) \u001b[38;5;28;01mas\u001b[39;00m guard:\n\u001b[0;32m--> 535\u001b[0m     \u001b[38;5;28;43mself\u001b[39;49m\u001b[38;5;241;43m.\u001b[39;49m\u001b[43mcredentials\u001b[49m\u001b[38;5;241;43m.\u001b[39;49m\u001b[43mbefore_request\u001b[49m\u001b[43m(\u001b[49m\u001b[43mauth_request\u001b[49m\u001b[43m,\u001b[49m\u001b[43m \u001b[49m\u001b[43mmethod\u001b[49m\u001b[43m,\u001b[49m\u001b[43m \u001b[49m\u001b[43murl\u001b[49m\u001b[43m,\u001b[49m\u001b[43m \u001b[49m\u001b[43mrequest_headers\u001b[49m\u001b[43m)\u001b[49m\n\u001b[1;32m    536\u001b[0m remaining_time \u001b[38;5;241m=\u001b[39m guard\u001b[38;5;241m.\u001b[39mremaining_timeout\n\u001b[1;32m    538\u001b[0m \u001b[38;5;28;01mwith\u001b[39;00m TimeoutGuard(remaining_time) \u001b[38;5;28;01mas\u001b[39;00m guard:\n",
      "File \u001b[0;32m/opt/conda/lib/python3.11/site-packages/google/auth/credentials.py:239\u001b[0m, in \u001b[0;36mCredentials.before_request\u001b[0;34m(self, request, method, url, headers)\u001b[0m\n\u001b[1;32m    237\u001b[0m     \u001b[38;5;28mself\u001b[39m\u001b[38;5;241m.\u001b[39m_non_blocking_refresh(request)\n\u001b[1;32m    238\u001b[0m \u001b[38;5;28;01melse\u001b[39;00m:\n\u001b[0;32m--> 239\u001b[0m     \u001b[38;5;28;43mself\u001b[39;49m\u001b[38;5;241;43m.\u001b[39;49m\u001b[43m_blocking_refresh\u001b[49m\u001b[43m(\u001b[49m\u001b[43mrequest\u001b[49m\u001b[43m)\u001b[49m\n\u001b[1;32m    241\u001b[0m metrics\u001b[38;5;241m.\u001b[39madd_metric_header(headers, \u001b[38;5;28mself\u001b[39m\u001b[38;5;241m.\u001b[39m_metric_header_for_usage())\n\u001b[1;32m    242\u001b[0m \u001b[38;5;28mself\u001b[39m\u001b[38;5;241m.\u001b[39mapply(headers)\n",
      "File \u001b[0;32m/opt/conda/lib/python3.11/site-packages/google/auth/credentials.py:202\u001b[0m, in \u001b[0;36mCredentials._blocking_refresh\u001b[0;34m(self, request)\u001b[0m\n\u001b[1;32m    200\u001b[0m \u001b[38;5;28;01mdef\u001b[39;00m\u001b[38;5;250m \u001b[39m\u001b[38;5;21m_blocking_refresh\u001b[39m(\u001b[38;5;28mself\u001b[39m, request):\n\u001b[1;32m    201\u001b[0m     \u001b[38;5;28;01mif\u001b[39;00m \u001b[38;5;129;01mnot\u001b[39;00m \u001b[38;5;28mself\u001b[39m\u001b[38;5;241m.\u001b[39mvalid:\n\u001b[0;32m--> 202\u001b[0m         \u001b[38;5;28;43mself\u001b[39;49m\u001b[38;5;241;43m.\u001b[39;49m\u001b[43mrefresh\u001b[49m\u001b[43m(\u001b[49m\u001b[43mrequest\u001b[49m\u001b[43m)\u001b[49m\n",
      "File \u001b[0;32m/opt/conda/lib/python3.11/site-packages/google/auth/external_account_authorized_user.py:281\u001b[0m, in \u001b[0;36mCredentials.refresh\u001b[0;34m(self, request)\u001b[0m\n\u001b[1;32m    274\u001b[0m     \u001b[38;5;28;01mraise\u001b[39;00m exceptions\u001b[38;5;241m.\u001b[39mRefreshError(\n\u001b[1;32m    275\u001b[0m         \u001b[38;5;124m\"\u001b[39m\u001b[38;5;124mThe credentials do not contain the necessary fields need to \u001b[39m\u001b[38;5;124m\"\u001b[39m\n\u001b[1;32m    276\u001b[0m         \u001b[38;5;124m\"\u001b[39m\u001b[38;5;124mrefresh the access token. You must specify refresh_token, \u001b[39m\u001b[38;5;124m\"\u001b[39m\n\u001b[1;32m    277\u001b[0m         \u001b[38;5;124m\"\u001b[39m\u001b[38;5;124mtoken_url, client_id, and client_secret.\u001b[39m\u001b[38;5;124m\"\u001b[39m\n\u001b[1;32m    278\u001b[0m     )\n\u001b[1;32m    280\u001b[0m now \u001b[38;5;241m=\u001b[39m _helpers\u001b[38;5;241m.\u001b[39mutcnow()\n\u001b[0;32m--> 281\u001b[0m response_data \u001b[38;5;241m=\u001b[39m \u001b[38;5;28;43mself\u001b[39;49m\u001b[38;5;241;43m.\u001b[39;49m\u001b[43m_make_sts_request\u001b[49m\u001b[43m(\u001b[49m\u001b[43mrequest\u001b[49m\u001b[43m)\u001b[49m\n\u001b[1;32m    283\u001b[0m \u001b[38;5;28mself\u001b[39m\u001b[38;5;241m.\u001b[39mtoken \u001b[38;5;241m=\u001b[39m response_data\u001b[38;5;241m.\u001b[39mget(\u001b[38;5;124m\"\u001b[39m\u001b[38;5;124maccess_token\u001b[39m\u001b[38;5;124m\"\u001b[39m)\n\u001b[1;32m    285\u001b[0m lifetime \u001b[38;5;241m=\u001b[39m datetime\u001b[38;5;241m.\u001b[39mtimedelta(seconds\u001b[38;5;241m=\u001b[39mresponse_data\u001b[38;5;241m.\u001b[39mget(\u001b[38;5;124m\"\u001b[39m\u001b[38;5;124mexpires_in\u001b[39m\u001b[38;5;124m\"\u001b[39m))\n",
      "File \u001b[0;32m/opt/conda/lib/python3.11/site-packages/google/auth/external_account_authorized_user.py:292\u001b[0m, in \u001b[0;36mCredentials._make_sts_request\u001b[0;34m(self, request)\u001b[0m\n\u001b[1;32m    291\u001b[0m \u001b[38;5;28;01mdef\u001b[39;00m\u001b[38;5;250m \u001b[39m\u001b[38;5;21m_make_sts_request\u001b[39m(\u001b[38;5;28mself\u001b[39m, request):\n\u001b[0;32m--> 292\u001b[0m     \u001b[38;5;28;01mreturn\u001b[39;00m \u001b[38;5;28;43mself\u001b[39;49m\u001b[38;5;241;43m.\u001b[39;49m\u001b[43m_sts_client\u001b[49m\u001b[38;5;241;43m.\u001b[39;49m\u001b[43mrefresh_token\u001b[49m\u001b[43m(\u001b[49m\u001b[43mrequest\u001b[49m\u001b[43m,\u001b[49m\u001b[43m \u001b[49m\u001b[38;5;28;43mself\u001b[39;49m\u001b[38;5;241;43m.\u001b[39;49m\u001b[43m_refresh_token\u001b[49m\u001b[43m)\u001b[49m\n",
      "File \u001b[0;32m/opt/conda/lib/python3.11/site-packages/google/oauth2/sts.py:172\u001b[0m, in \u001b[0;36mClient.refresh_token\u001b[0;34m(self, request, refresh_token)\u001b[0m\n\u001b[1;32m    162\u001b[0m \u001b[38;5;28;01mdef\u001b[39;00m\u001b[38;5;250m \u001b[39m\u001b[38;5;21mrefresh_token\u001b[39m(\u001b[38;5;28mself\u001b[39m, request, refresh_token):\n\u001b[1;32m    163\u001b[0m \u001b[38;5;250m    \u001b[39m\u001b[38;5;124;03m\"\"\"Exchanges a refresh token for an access token based on the\u001b[39;00m\n\u001b[1;32m    164\u001b[0m \u001b[38;5;124;03m    RFC6749 spec.\u001b[39;00m\n\u001b[1;32m    165\u001b[0m \n\u001b[0;32m   (...)\u001b[0m\n\u001b[1;32m    169\u001b[0m \u001b[38;5;124;03m        subject_token (str): The OAuth 2.0 refresh token.\u001b[39;00m\n\u001b[1;32m    170\u001b[0m \u001b[38;5;124;03m    \"\"\"\u001b[39;00m\n\u001b[0;32m--> 172\u001b[0m     \u001b[38;5;28;01mreturn\u001b[39;00m \u001b[38;5;28;43mself\u001b[39;49m\u001b[38;5;241;43m.\u001b[39;49m\u001b[43m_make_request\u001b[49m\u001b[43m(\u001b[49m\n\u001b[1;32m    173\u001b[0m \u001b[43m        \u001b[49m\u001b[43mrequest\u001b[49m\u001b[43m,\u001b[49m\n\u001b[1;32m    174\u001b[0m \u001b[43m        \u001b[49m\u001b[38;5;28;43;01mNone\u001b[39;49;00m\u001b[43m,\u001b[49m\n\u001b[1;32m    175\u001b[0m \u001b[43m        \u001b[49m\u001b[43m{\u001b[49m\u001b[38;5;124;43m\"\u001b[39;49m\u001b[38;5;124;43mgrant_type\u001b[39;49m\u001b[38;5;124;43m\"\u001b[39;49m\u001b[43m:\u001b[49m\u001b[43m \u001b[49m\u001b[38;5;124;43m\"\u001b[39;49m\u001b[38;5;124;43mrefresh_token\u001b[39;49m\u001b[38;5;124;43m\"\u001b[39;49m\u001b[43m,\u001b[49m\u001b[43m \u001b[49m\u001b[38;5;124;43m\"\u001b[39;49m\u001b[38;5;124;43mrefresh_token\u001b[39;49m\u001b[38;5;124;43m\"\u001b[39;49m\u001b[43m:\u001b[49m\u001b[43m \u001b[49m\u001b[43mrefresh_token\u001b[49m\u001b[43m}\u001b[49m\u001b[43m,\u001b[49m\n\u001b[1;32m    176\u001b[0m \u001b[43m    \u001b[49m\u001b[43m)\u001b[49m\n",
      "File \u001b[0;32m/opt/conda/lib/python3.11/site-packages/google/oauth2/sts.py:88\u001b[0m, in \u001b[0;36mClient._make_request\u001b[0;34m(self, request, headers, request_body)\u001b[0m\n\u001b[1;32m     86\u001b[0m \u001b[38;5;66;03m# If non-200 response received, translate to OAuthError exception.\u001b[39;00m\n\u001b[1;32m     87\u001b[0m \u001b[38;5;28;01mif\u001b[39;00m response\u001b[38;5;241m.\u001b[39mstatus \u001b[38;5;241m!=\u001b[39m http_client\u001b[38;5;241m.\u001b[39mOK:\n\u001b[0;32m---> 88\u001b[0m     \u001b[43mutils\u001b[49m\u001b[38;5;241;43m.\u001b[39;49m\u001b[43mhandle_error_response\u001b[49m\u001b[43m(\u001b[49m\u001b[43mresponse_body\u001b[49m\u001b[43m)\u001b[49m\n\u001b[1;32m     90\u001b[0m response_data \u001b[38;5;241m=\u001b[39m json\u001b[38;5;241m.\u001b[39mloads(response_body)\n\u001b[1;32m     92\u001b[0m \u001b[38;5;66;03m# Return successful response.\u001b[39;00m\n",
      "File \u001b[0;32m/opt/conda/lib/python3.11/site-packages/google/oauth2/utils.py:168\u001b[0m, in \u001b[0;36mhandle_error_response\u001b[0;34m(response_body)\u001b[0m\n\u001b[1;32m    165\u001b[0m \u001b[38;5;28;01mexcept\u001b[39;00m (\u001b[38;5;167;01mKeyError\u001b[39;00m, \u001b[38;5;167;01mValueError\u001b[39;00m):\n\u001b[1;32m    166\u001b[0m     error_details \u001b[38;5;241m=\u001b[39m response_body\n\u001b[0;32m--> 168\u001b[0m \u001b[38;5;28;01mraise\u001b[39;00m exceptions\u001b[38;5;241m.\u001b[39mOAuthError(error_details, response_body)\n",
      "\u001b[0;31mOAuthError\u001b[0m: ('Error code invalid_grant: Refresh token has expired', '{\"error\":\"invalid_grant\",\"error_description\":\"Refresh token has expired\"}')"
     ]
    }
   ],
   "source": [
    "import pandas as pd \n",
    "import yaml\n",
    "from shared_utils import portfolio_utils, schedule_rt_utils \n",
    "from segment_speed_utils import helpers\n",
    "from calitp_data_analysis.sql import get_engine\n",
    "db_engine = get_engine()\n",
    "from gtfs_key_ntd_crosswalk import GCS_FILE_PATH, filter_to_valid_dates\n",
    "from rapidfuzz import fuzz\n",
    "import datetime as dt\n",
    "import gcsfs\n",
    "from calitp_data_analysis import get_fs\n",
    "fs = get_fs()\n",
    "import geopandas as gpd"
   ]
  },
  {
   "cell_type": "code",
   "execution_count": null,
   "id": "380b84a9-2889-46ca-9d5f-dcd5dcbf033b",
   "metadata": {},
   "outputs": [],
   "source": [
    "pd.options.display.max_columns = 100\n",
    "pd.options.display.float_format = \"{:.2f}\".format\n",
    "pd.set_option(\"display.max_rows\", None)\n",
    "pd.set_option(\"display.max_colwidth\", None)"
   ]
  },
  {
   "cell_type": "code",
   "execution_count": null,
   "id": "7204cd36-4ec3-402f-94d7-0021127f1431",
   "metadata": {
    "tags": []
   },
   "outputs": [],
   "source": [
    "def read_parquet_from_gcs(filename):\n",
    "    gcs_path = GCS_FILE_PATH.replace(\"gs://\", \"\") + filename\n",
    "    with fs.open(gcs_path, 'rb') as f:\n",
    "        return gpd.read_parquet(f)"
   ]
  },
  {
   "cell_type": "code",
   "execution_count": null,
   "id": "4ebd919f-0e72-43c9-a01b-5fc818cd66af",
   "metadata": {
    "tags": []
   },
   "outputs": [],
   "source": [
    "with open(\n",
    "    \"../_shared_utils/shared_utils/portfolio_organization_name.yml\", \"r\"\n",
    ") as f:\n",
    "    PORTFOLIO_ORGANIZATIONS_DICT = yaml.safe_load(f)"
   ]
  },
  {
   "cell_type": "code",
   "execution_count": null,
   "id": "55124786-b74e-4484-9a7c-0b19c19dbc23",
   "metadata": {
    "tags": []
   },
   "outputs": [],
   "source": [
    "analysis_date_list = ['2022-11-30', '2022-12-03', '2022-12-04']"
   ]
  },
  {
   "cell_type": "code",
   "execution_count": null,
   "id": "99d5fa02-1392-4ced-82a9-110e3a15591c",
   "metadata": {
    "tags": []
   },
   "outputs": [],
   "source": [
    "# set date parameters\n",
    "analysis_wkd = dt.date(2022,11,30)\n",
    "analysis_sat = dt.date(2022,12,3)\n",
    "analysis_sun = dt.date(2022,12,4)"
   ]
  },
  {
   "cell_type": "code",
   "execution_count": null,
   "id": "bac227ba-2f95-44d8-8f8d-cccc752ac6d9",
   "metadata": {},
   "outputs": [],
   "source": [
    "GCS_FILE_PATH = 'gs://calitp-analytics-data/data-analyses/ahsc_grant/'"
   ]
  },
  {
   "cell_type": "code",
   "execution_count": null,
   "id": "a45d5f34-9801-4836-b055-86a6f8357cbd",
   "metadata": {
    "tags": []
   },
   "outputs": [],
   "source": [
    "new_operator_df = pd.concat(\n",
    "    [helpers.import_scheduled_trips(\n",
    "        one_date, \n",
    "        columns=[\"gtfs_dataset_key\", \"name\", \"trip_instance_key\", \"trip_id\", \"route_type\", \"shape_id\", \"route_id\", \"route_key\", \"direction_id\", \"route_short_name\", \"service_date\"],\n",
    "        get_pandas=True\n",
    "    ) for one_date in analysis_date_list],\n",
    "    ignore_index=True\n",
    ")"
   ]
  },
  {
   "cell_type": "code",
   "execution_count": null,
   "id": "43876df8-e07f-451b-a20b-2713cc914b39",
   "metadata": {
    "tags": []
   },
   "outputs": [],
   "source": [
    "new_operator_df.head(5)"
   ]
  },
  {
   "cell_type": "code",
   "execution_count": null,
   "id": "26162912-99c8-410a-8378-4e7cf4c43470",
   "metadata": {
    "tags": []
   },
   "outputs": [],
   "source": [
    "new_operator_df.shape"
   ]
  },
  {
   "cell_type": "code",
   "execution_count": null,
   "id": "92b16269-098e-496a-aca3-245db969d22d",
   "metadata": {
    "tags": []
   },
   "outputs": [],
   "source": [
    "new_operator_df.schedule_gtfs_dataset_key.nunique(), new_operator_df.name.nunique()"
   ]
  },
  {
   "cell_type": "code",
   "execution_count": null,
   "id": "2934de82-40f1-4dff-9826-f19726c62c3b",
   "metadata": {
    "tags": []
   },
   "outputs": [],
   "source": [
    "with db_engine.connect() as connection:\n",
    "    query = \"\"\"\n",
    "        SELECT\n",
    "            organization_source_record_id, schedule_gtfs_dataset_key, organization_key, schedule_gtfs_dataset_name, _valid_from, _valid_to\n",
    "        FROM \n",
    "            cal-itp-data-infra.mart_transit_database.dim_provider_gtfs_data\n",
    "    \"\"\"\n",
    "    dim_provider_gtfs_data = (\n",
    "        pd.read_sql(query, connection)\n",
    "        .pipe(schedule_rt_utils.localize_timestamp_col, [\"_valid_from\", \"_valid_to\"])\n",
    "    )"
   ]
  },
  {
   "cell_type": "code",
   "execution_count": null,
   "id": "61bbbc37-0ddd-473e-9c3f-734afdcb43ed",
   "metadata": {
    "tags": []
   },
   "outputs": [],
   "source": [
    "valid_provider_full = filter_to_valid_dates(dim_provider_gtfs_data, analysis_date_list)"
   ]
  },
  {
   "cell_type": "code",
   "execution_count": null,
   "id": "e2676b12-2336-4431-b402-5bbd2da7f6f8",
   "metadata": {
    "tags": []
   },
   "outputs": [],
   "source": [
    "valid_provider_full.shape"
   ]
  },
  {
   "cell_type": "code",
   "execution_count": null,
   "id": "f402ba31-2ce4-4f8e-bc52-e5b2c7116f0d",
   "metadata": {},
   "outputs": [],
   "source": [
    "valid_provider_full = valid_provider_full.assign(\n",
    "    portfolio_organization_name=valid_provider_full.schedule_gtfs_dataset_name.map(PORTFOLIO_ORGANIZATIONS_DICT)\n",
    ")"
   ]
  },
  {
   "cell_type": "code",
   "execution_count": null,
   "id": "65f2d11e-6b5d-4ba3-a201-69e75a90990a",
   "metadata": {},
   "outputs": [],
   "source": [
    "with db_engine.connect() as connection:\n",
    "    query = \"\"\"\n",
    "        SELECT\n",
    "            key, source_record_id, name, ntd_id_2022, ntd_agency_info_key, _is_current\n",
    "        FROM \n",
    "            cal-itp-data-infra.mart_transit_database.dim_organizations\n",
    "    \"\"\"\n",
    "    dim_orgs= pd.read_sql(query, connection)"
   ]
  },
  {
   "cell_type": "code",
   "execution_count": null,
   "id": "c63452eb-48de-43e6-8cac-0c870b845fab",
   "metadata": {
    "tags": []
   },
   "outputs": [],
   "source": [
    "dim_orgs = dim_orgs[dim_orgs['_is_current'] == True]"
   ]
  },
  {
   "cell_type": "code",
   "execution_count": null,
   "id": "86f165e5-3bf2-4d5d-a0ed-e706544ef2be",
   "metadata": {},
   "outputs": [],
   "source": [
    "trips_provider_merge = pd.merge(\n",
    "    new_operator_df.rename(columns={\"name\": \"schedule_gtfs_dataset_name\"}),\n",
    "    valid_provider_full[[\"schedule_gtfs_dataset_key\", \"organization_source_record_id\", \"portfolio_organization_name\" ]].drop_duplicates(),\n",
    "    on=\"schedule_gtfs_dataset_key\",\n",
    "    how=\"left\",\n",
    "    indicator = True \n",
    ")\n",
    "\n",
    "trips_provider_merge._merge.value_counts()\n"
   ]
  },
  {
   "cell_type": "code",
   "execution_count": null,
   "id": "785942ad-b747-4340-b454-cd8196d29d4f",
   "metadata": {
    "tags": []
   },
   "outputs": [],
   "source": [
    "trips_provider_merge = trips_provider_merge.drop(columns=['_merge'])\n",
    "trips_gtfs_ntd_merge = pd.merge(\n",
    "    trips_provider_merge,\n",
    "    dim_orgs,\n",
    "    left_on=\"organization_source_record_id\",\n",
    "    right_on=\"source_record_id\",\n",
    "    how=\"left\",\n",
    "    indicator=True\n",
    ")\n",
    "\n",
    "print(trips_gtfs_ntd_merge._merge.value_counts())"
   ]
  },
  {
   "cell_type": "markdown",
   "id": "a4b29ecd-7e29-482e-9633-90031a4fd05f",
   "metadata": {},
   "source": [
    "### GTFS Feed Key related to multiple NTD IDs"
   ]
  },
  {
   "cell_type": "code",
   "execution_count": null,
   "id": "08fa53b7-0b72-4630-831b-a7ef03850397",
   "metadata": {
    "tags": []
   },
   "outputs": [],
   "source": [
    "trips_gtfs_ntd_merge.columns"
   ]
  },
  {
   "cell_type": "code",
   "execution_count": null,
   "id": "f93a1a16-2bc9-41a2-89fa-1b93388f4ba1",
   "metadata": {
    "tags": []
   },
   "outputs": [],
   "source": [
    "multiple_ntd_ids = (\n",
    "    trips_gtfs_ntd_merge\n",
    "    .groupby('schedule_gtfs_dataset_key')\n",
    "    .agg(\n",
    "        ntd_id_count=('ntd_id_2022', 'nunique'),\n",
    "        organization_names=('name', lambda x: ', '.join(sorted(set(x.fillna('Not Available'))))),\n",
    "        schedule_gtfs_dataset_name=('schedule_gtfs_dataset_name', lambda x: ', '.join(sorted(set(x.fillna('Not Available'))))),\n",
    "        ntd_ids = ('ntd_id_2022', lambda x: ', '.join(sorted(set(x.fillna('Not Available')))))\n",
    "    )\n",
    "    .reset_index()\n",
    ")\n",
    "\n",
    "# Filter those with more than one unique ntd_id_2022\n",
    "multiple_ntd_ids = multiple_ntd_ids[multiple_ntd_ids['ntd_id_count'] > 1]\n",
    "\n",
    "multiple_ntd_ids.head()"
   ]
  },
  {
   "cell_type": "markdown",
   "id": "cf757342-76ca-4687-8524-d4ea9f6b9765",
   "metadata": {},
   "source": [
    "Using fuzzy match technique to get just one ntd id, and one organization name "
   ]
  },
  {
   "cell_type": "code",
   "execution_count": null,
   "id": "fdf74f54-f445-482a-97cd-c636602d6a40",
   "metadata": {
    "tags": []
   },
   "outputs": [],
   "source": [
    "def get_orgs_and_ntd_ids(row, original_df, threshold=60):\n",
    "    # Special case for 'VCTC GMV Schedule'\n",
    "    if 'vctc gmv schedule' in row['schedule_gtfs_dataset_name'].lower():\n",
    "        vctc_ntd_ids = original_df.loc[\n",
    "            original_df['name'].str.contains('Ventura County Transportation Commission', case=False, na=False),\n",
    "            'ntd_id_2022'\n",
    "        ].dropna().astype(str).unique()\n",
    "        return pd.Series({\n",
    "            'organization_names': 'Ventura County Transportation Commission',\n",
    "            'ntd_ids': ', '.join(sorted(vctc_ntd_ids))\n",
    "        })\n",
    "    \n",
    "    schedule_name = row['schedule_gtfs_dataset_name'].lower()\n",
    "    org_names = [x.strip() for x in row['organization_names'].split(',')]\n",
    "    key = row['schedule_gtfs_dataset_key']\n",
    "\n",
    "    matched_orgs = [\n",
    "        org for org in org_names \n",
    "        if fuzz.partial_ratio(org.lower(), schedule_name) >= threshold\n",
    "    ]\n",
    "    \n",
    "    if not matched_orgs:\n",
    "        return pd.Series({\n",
    "            'organization_names': row['organization_names'],\n",
    "            'ntd_ids': row['ntd_ids']\n",
    "        })\n",
    "\n",
    "    filtered = original_df[\n",
    "        (original_df['schedule_gtfs_dataset_key'] == key) &\n",
    "        (original_df['name'].isin(matched_orgs))\n",
    "    ]\n",
    "\n",
    "    matched_ntd_ids = sorted(filtered['ntd_id_2022'].dropna().astype(str).unique())\n",
    "\n",
    "    return pd.Series({\n",
    "        'organization_names': ', '.join(matched_orgs),\n",
    "        'ntd_ids': ', '.join(matched_ntd_ids)\n",
    "    })\n",
    "\n",
    "multiple_ntd_ids[['organization_names', 'ntd_ids']] = multiple_ntd_ids.apply(\n",
    "    lambda row: get_orgs_and_ntd_ids(row, trips_gtfs_ntd_merge), axis=1\n",
    ")\n",
    "\n",
    "multiple_ntd_ids.head()"
   ]
  },
  {
   "cell_type": "code",
   "execution_count": null,
   "id": "34d9bc74-7402-4473-adb4-52ebd7cf4f67",
   "metadata": {
    "tags": []
   },
   "outputs": [],
   "source": [
    "update_df = multiple_ntd_ids[['schedule_gtfs_dataset_key', 'organization_names', 'ntd_ids']].rename(columns={'organization_names':'name', 'ntd_ids':'ntd_id_2022'})\n",
    "\n",
    "trips_gtfs_ntd_merge = trips_gtfs_ntd_merge.merge(update_df, on='schedule_gtfs_dataset_key', how='left', suffixes=('', '_upd'))\n",
    "\n",
    "trips_gtfs_ntd_merge['name'] = trips_gtfs_ntd_merge['name_upd'].combine_first(trips_gtfs_ntd_merge['name'])\n",
    "trips_gtfs_ntd_merge['ntd_id_2022'] = trips_gtfs_ntd_merge['ntd_id_2022_upd'].combine_first(trips_gtfs_ntd_merge['ntd_id_2022'])\n",
    "\n",
    "trips_gtfs_ntd_merge.drop(columns=['name_upd', 'ntd_id_2022_upd'], inplace=True)"
   ]
  },
  {
   "cell_type": "markdown",
   "id": "ed7d99e2-385c-4485-b5b2-149988456874",
   "metadata": {},
   "source": [
    "### NTD organizations that are associated with more than one GTFS datasets"
   ]
  },
  {
   "cell_type": "code",
   "execution_count": null,
   "id": "1fe48cd0-2908-4a39-801a-1832bb36f235",
   "metadata": {
    "tags": []
   },
   "outputs": [],
   "source": [
    "multiple_gtfs_key = (\n",
    "    trips_gtfs_ntd_merge\n",
    "    .groupby('ntd_id_2022')\n",
    "    .agg(\n",
    "        gtfs_key_count=('schedule_gtfs_dataset_key', 'nunique'),\n",
    "        organization_names=('name', lambda x: ', '.join(sorted(set(x.fillna('Not Available'))))),\n",
    "        schedule_gtfs_dataset_name=('schedule_gtfs_dataset_name', lambda x: ', '.join(sorted(set(x.fillna('Not Available'))))),\n",
    "        portfolio_organization_name=('portfolio_organization_name', lambda x: ', '.join(sorted(set(x.fillna('Not Available')))))\n",
    "    )\n",
    "    .reset_index()\n",
    ")\n",
    "\n",
    "# Filter those with more than one unique GTFS key\n",
    "multiple_gtfs_key = multiple_gtfs_key[multiple_gtfs_key['gtfs_key_count'] > 1]\n",
    "\n",
    "multiple_gtfs_key.head(20)"
   ]
  },
  {
   "cell_type": "markdown",
   "id": "24ffce3e-a52a-433c-927b-d4cbe6640f65",
   "metadata": {},
   "source": [
    "### Rows with missing ntd_id_2022 by GTFS feed key and name"
   ]
  },
  {
   "cell_type": "code",
   "execution_count": null,
   "id": "bc320785-1f8b-4a8b-bbc3-e90f0b51447c",
   "metadata": {
    "tags": []
   },
   "outputs": [],
   "source": [
    "trips_gtfs_ntd_merge['ntd_id_2022'].isna().sum()"
   ]
  },
  {
   "cell_type": "code",
   "execution_count": null,
   "id": "93c4f673-e8a7-42cd-b77e-034a3d69e1b2",
   "metadata": {
    "tags": []
   },
   "outputs": [],
   "source": [
    "missing_ntd_grouped = (\n",
    "    trips_gtfs_ntd_merge[trips_gtfs_ntd_merge['ntd_id_2022'].isna()]\n",
    "    .groupby(['schedule_gtfs_dataset_key', 'schedule_gtfs_dataset_name'])\n",
    "    .agg(\n",
    "        missing_ntd_count=('ntd_id_2022', 'size'),\n",
    "        organization_names=('name', lambda x: ', '.join(sorted(set(x.fillna('Not Available')))))\n",
    "    )\n",
    "    .reset_index()\n",
    "    .sort_values('missing_ntd_count', ascending=False)\n",
    ")\n",
    "\n",
    "missing_ntd_grouped['organization_names'].unique()"
   ]
  },
  {
   "cell_type": "code",
   "execution_count": null,
   "id": "df2f4f79-d215-4497-ae4b-60c197e7e422",
   "metadata": {},
   "outputs": [],
   "source": [
    "trips_gtfs_ntd_merge = trips_gtfs_ntd_merge.dropna(subset=['ntd_id_2022'])"
   ]
  },
  {
   "cell_type": "code",
   "execution_count": null,
   "id": "fcbb4b33-7934-4f22-a389-2a1e85d86d16",
   "metadata": {
    "tags": []
   },
   "outputs": [],
   "source": [
    "trips_gtfs_ntd_merge.columns"
   ]
  },
  {
   "cell_type": "code",
   "execution_count": null,
   "id": "48232782-638d-4d22-bd3a-d2c1f43dbc9f",
   "metadata": {
    "tags": []
   },
   "outputs": [],
   "source": [
    "stoptimes_df = pd.concat(\n",
    "    [helpers.import_scheduled_stop_times(\n",
    "        one_date, \n",
    "        columns=[\"trip_id\", \"stop_id\", \"arrival_sec\", \"departure_sec\"],\n",
    "        get_pandas=True\n",
    "    ) for one_date in analysis_date_list],\n",
    "    ignore_index=True\n",
    ")"
   ]
  },
  {
   "cell_type": "code",
   "execution_count": null,
   "id": "0fc4525c-01cf-42f1-9a27-69a379f98081",
   "metadata": {
    "tags": []
   },
   "outputs": [],
   "source": [
    "stops_geo = pd.concat(\n",
    "    [helpers.import_scheduled_stops(\n",
    "        one_date, \n",
    "        columns=[\"stop_id\", \"geometry\", \"stop_name\"],\n",
    "        get_pandas=True\n",
    "    ) for one_date in analysis_date_list],\n",
    "    ignore_index=True\n",
    ")"
   ]
  },
  {
   "cell_type": "code",
   "execution_count": null,
   "id": "7d2825fa-7ded-4087-ae2b-bccd4eaa879b",
   "metadata": {
    "tags": []
   },
   "outputs": [],
   "source": [
    "trips_gtfs_ntd_merge.shape"
   ]
  },
  {
   "cell_type": "code",
   "execution_count": null,
   "id": "4d657ad5-3824-4929-a3cf-fa979ed2a7c3",
   "metadata": {
    "tags": []
   },
   "outputs": [],
   "source": [
    "def trips_data_summary(day_type, analysis_dt, trips_df, stoptimes_df, stops_geo):\n",
    "    if trips_df.empty or stoptimes_df.empty or stops_geo.empty:\n",
    "        return pd.DataFrame()\n",
    "\n",
    "    # Add derived column\n",
    "    trips_df[\"route_name_id\"] = trips_df[\"route_short_name\"].fillna(\"\") + \"_\" + trips_df[\"route_id\"]\n",
    "\n",
    "    # Merge stoptimes_df with trips_df on trip_id to get full data\n",
    "    merged = stoptimes_df.merge(trips_df, on=\"trip_id\", how=\"left\")\n",
    "\n",
    "    # Group by gtfs_dataset_key, route_type, and stop_id\n",
    "    grouped = merged.groupby([\"schedule_gtfs_dataset_key\", \"route_type\", \"stop_id\"])\n",
    "    summary = grouped.agg(\n",
    "        n_trips=(\"trip_instance_key\", pd.Series.nunique),\n",
    "        n_routes=(\"route_id\", pd.Series.nunique),\n",
    "        route_list=(\"route_name_id\", lambda x: [x.tolist()])\n",
    "    ).reset_index()\n",
    "\n",
    "    summary[\"daytype\"] = day_type\n",
    "    summary[\"analysis_date\"] = analysis_dt\n",
    "    summary[\"route_list_string\"] = summary[\"route_list\"].apply(lambda x: \",\".join(x[0]))\n",
    "\n",
    "    # Merge additional info from trips_df using gtfs_dataset_key including portfolio_organization_name\n",
    "    ntd_info = trips_df[[\n",
    "        \"schedule_gtfs_dataset_key\", \"ntd_id_2022\", \"ntd_agency_info_key\", \"service_date\", \"portfolio_organization_name\"\n",
    "    ]].drop_duplicates()\n",
    "    summary = summary.merge(ntd_info, on=\"schedule_gtfs_dataset_key\", how=\"left\")\n",
    "\n",
    "    # Merge with stops_geo on gtfs_dataset_key and stop_id\n",
    "    stoptimes_geo = stops_geo.merge(summary, on=[\"stop_id\"], how=\"left\")\n",
    "\n",
    "    return stoptimes_geo"
   ]
  },
  {
   "cell_type": "code",
   "execution_count": null,
   "id": "c1ada729-8c84-407b-9256-2c7db3498c59",
   "metadata": {
    "tags": []
   },
   "outputs": [],
   "source": [
    "def stops_geo_acs_summary(stoptimes_geo, acs_ca, jobdata):\n",
    "    if stoptimes_geo.empty:\n",
    "        return pd.DataFrame()\n",
    "\n",
    "    # Merge ACS with job data\n",
    "    acs_ca = acs_ca.merge(jobdata, on='GEOID', how='left')\n",
    "    acs_ca = acs_ca.to_crs(epsg=3347)\n",
    "\n",
    "    # Spatial buffer (0.25 miles)\n",
    "    stoptimes_geo = stoptimes_geo.to_crs(epsg=3347)\n",
    "    stoptimes_geo[\"geometry\"] = stoptimes_geo.buffer(402.336)\n",
    "\n",
    "    # Spatial join with ACS\n",
    "    stops_acs_joined = stoptimes_geo.sjoin(acs_ca, how=\"left\", predicate=\"intersects\")\n",
    "\n",
    "    # Aggregate\n",
    "    group_cols = [\n",
    "        \"gtfs_dataset_key\", \"ntd_id_2022\", \"ntd_agency_info_key\", \"stop_id\", \"stop_name\", \"n_trips\", \"n_routes\",\n",
    "        \"daytype\", \"analysis_date\", \"route_list_string\", \"service_date\"\n",
    "    ]\n",
    "\n",
    "    acs_summary = stops_acs_joined.groupby(group_cols).agg(\n",
    "        sum_tracts=(\"GEOID\", pd.Series.nunique),\n",
    "        sum_total_pop=(\"total_pop\", \"sum\"),\n",
    "        sum_households=(\"households\", \"sum\"),\n",
    "        sum_not_us_citizen_pop=(\"not_us_citizen_pop\", \"sum\"),\n",
    "        sum_youth_pop=(\"youth_pop\", \"sum\"),\n",
    "        sum_seniors_pop=(\"seniors_pop\", \"sum\"),\n",
    "        sum_pop_determined_poverty_status=(\"pop_determined_poverty_status\", \"sum\"),\n",
    "        sum_poverty=(\"poverty\", \"sum\"),\n",
    "        sum_no_car=(\"workers_with_no_car\", \"sum\"),\n",
    "        sum_no_cars=(\"households_with_no_cars\", \"sum\"),\n",
    "        sum_land_area=(\"ALAND\", \"sum\"),\n",
    "        sum_jobs=(\"jobs_tot\", \"sum\")\n",
    "    ).reset_index()\n",
    "\n",
    "    # Derived metrics\n",
    "    acs_summary[\"land_area_sqkm\"] = acs_summary[\"sum_land_area\"] / 1_000_000\n",
    "    acs_summary[\"pop_density\"] = acs_summary[\"sum_total_pop\"] / acs_summary[\"land_area_sqkm\"]\n",
    "    acs_summary[\"job_density\"] = acs_summary[\"sum_jobs\"] / acs_summary[\"land_area_sqkm\"]\n",
    "    acs_summary[\"pct_not_us_citizen_pop\"] = (acs_summary[\"sum_not_us_citizen_pop\"] / acs_summary[\"sum_total_pop\"]) * 100\n",
    "    acs_summary[\"pct_youth_pop\"] = (acs_summary[\"sum_youth_pop\"] / acs_summary[\"sum_total_pop\"]) * 100\n",
    "    acs_summary[\"pct_seniors_pop\"] = (acs_summary[\"sum_seniors_pop\"] / acs_summary[\"sum_total_pop\"]) * 100\n",
    "    acs_summary[\"pct_poverty\"] = (acs_summary[\"sum_poverty\"] / acs_summary[\"sum_pop_determined_poverty_status\"]) * 100\n",
    "    acs_summary[\"pct_pop_workers_no_car\"] = (acs_summary[\"sum_no_car\"] / acs_summary[\"sum_total_pop\"]) * 100\n",
    "    acs_summary[\"pct_hh_no_cars\"] = (acs_summary[\"sum_no_cars\"] / acs_summary[\"sum_households\"]) * 100\n",
    "\n",
    "    return acs_summary"
   ]
  },
  {
   "cell_type": "code",
   "execution_count": null,
   "id": "8f9f97d7-3e69-417e-b3d8-4c924c6cdfa6",
   "metadata": {
    "tags": []
   },
   "outputs": [],
   "source": [
    "acs_ca = read_parquet_from_gcs(\"tracts_ca_acs.parquet\")\n",
    "jobdata = pd.read_parquet(f\"{GCS_FILE_PATH}/job_density_2022.parquet\")[['GEOID', 'jobs_tot']]"
   ]
  },
  {
   "cell_type": "code",
   "execution_count": null,
   "id": "a9477109-1031-4f58-9d7d-8f8523608b93",
   "metadata": {
    "tags": []
   },
   "outputs": [],
   "source": [
    "day_type_dates = [\n",
    "    (\"Weekday\", analysis_wkd),\n",
    "    (\"Saturday\", analysis_sat),\n",
    "    (\"Sunday\", analysis_sun)\n",
    "]"
   ]
  },
  {
   "cell_type": "code",
   "execution_count": null,
   "id": "81b13ef9-ce7c-450b-a2de-f1f32ec59340",
   "metadata": {
    "tags": []
   },
   "outputs": [
    {
     "name": "stdout",
     "output_type": "stream",
     "text": [
      "Processing Weekday on 2022-11-30...\n"
     ]
    }
   ],
   "source": [
    "import random\n",
    "\n",
    "# Get unique GTFS keys\n",
    "available_keys = trips_gtfs_ntd_merge[\"schedule_gtfs_dataset_key\"].unique()\n",
    "\n",
    "# Select one at random\n",
    "target_gtfs_key = random.choice(available_keys)\n",
    "\n",
    "print(f\"Selected GTFS key: {target_gtfs_key}\")\n",
    "\n",
    "# Filter trips and stops for this key\n",
    "trips_filtered = trips_gtfs_ntd_merge[trips_gtfs_ntd_merge[\"schedule_gtfs_dataset_key\"] == target_gtfs_key]\n",
    "stops_filtered = stops_geo[stops_geo[\"schedule_gtfs_dataset_key\"] == target_gtfs_key]\n",
    "\n",
    "# Loop through all day types\n",
    "for day_type, analysis_dt in day_type_dates:\n",
    "    print(f\"\\nProcessing {day_type} for GTFS key {target_gtfs_key}...\")\n",
    "\n",
    "    # Trips summary\n",
    "    stoptimes_geo = trips_data_summary(\n",
    "        day_type,\n",
    "        analysis_dt,\n",
    "        trips_filtered,\n",
    "        stoptimes_df,\n",
    "        stops_filtered\n",
    "    )\n",
    "\n",
    "    # ACS summary\n",
    "    acs_summary = stops_geo_acs_summary(stoptimes_geo, acs_ca, jobdata)\n",
    "\n",
    "    # Show result (or save/export)\n",
    "    display(acs_summary.head())\n",
    "\n",
    "    # Free memory\n",
    "    del stoptimes_geo, acs_summary\n"
   ]
  },
  {
   "cell_type": "code",
   "execution_count": null,
   "id": "3eca6b0d-d19c-4ddd-9b0e-8afb397227b9",
   "metadata": {},
   "outputs": [],
   "source": []
  },
  {
   "cell_type": "code",
   "execution_count": 2,
   "id": "5227602b-a3fc-49b6-bbee-61de1c75d215",
   "metadata": {
    "tags": []
   },
   "outputs": [],
   "source": [
    "# import os\n",
    "# os.environ[\"CALITP_BQ_MAX_BYTES\"] = str(800_000_000_000)\n",
    "\n",
    "# import shared_utils\n",
    "# import pandas as pd\n",
    "# import geopandas as gpd\n",
    "# from calitp_data_analysis.sql import get_engine\n",
    "# from shared_utils import gtfs_utils_v2\n",
    "# db_engine = get_engine()\n",
    "\n",
    "# import gcsfs\n",
    "# from calitp_data_analysis import get_fs\n",
    "# from calitp_data_analysis import geography_utils, utils\n",
    "# fs = get_fs()\n",
    "# import re\n",
    "# import google.auth\n",
    "# import os\n",
    "# credentials, project = google.auth.default()\n",
    "# import pytz\n",
    "# import datetime as dt"
   ]
  },
  {
   "cell_type": "code",
   "execution_count": 4,
   "id": "d799e6d7-fbea-481a-8df0-43fc3154a4f1",
   "metadata": {},
   "outputs": [],
   "source": [
    "GCS_FILE_PATH = 'gs://calitp-analytics-data/data-analyses/ahsc_grant/'"
   ]
  },
  {
   "cell_type": "code",
   "execution_count": 5,
   "id": "1f1656c0-a266-4a2e-be28-4a45deb958d2",
   "metadata": {},
   "outputs": [],
   "source": [
    "def read_parquet_from_gcs(filename):\n",
    "    gcs_path = GCS_FILE_PATH.replace(\"gs://\", \"\") + filename\n",
    "    with fs.open(gcs_path, 'rb') as f:\n",
    "        return gpd.read_parquet(f)"
   ]
  },
  {
   "cell_type": "code",
   "execution_count": 6,
   "id": "9bd10f2d-8815-4f37-b759-6ead4c0daf08",
   "metadata": {
    "tags": []
   },
   "outputs": [],
   "source": [
    "with db_engine.connect() as connection:\n",
    "    query = \"\"\"\n",
    "        SELECT\n",
    "            key, source_record_id, name, ntd_id_2022, ntd_agency_info_key, _is_current\n",
    "        FROM \n",
    "            cal-itp-data-infra.mart_transit_database.dim_organizations\n",
    "    \"\"\"\n",
    "    organizations= pd.read_sql(query, connection)"
   ]
  },
  {
   "cell_type": "code",
   "execution_count": 7,
   "id": "2283b951-20dd-4529-8251-28398ed54cec",
   "metadata": {
    "tags": []
   },
   "outputs": [
    {
     "data": {
      "text/plain": [
       "(245, 6)"
      ]
     },
     "execution_count": 7,
     "metadata": {},
     "output_type": "execute_result"
    }
   ],
   "source": [
    "organizations = organizations[organizations['_is_current'] == True]\n",
    "organizations = organizations.dropna(subset=[\"ntd_id_2022\"])\n",
    "organizations.shape"
   ]
  },
  {
   "cell_type": "code",
   "execution_count": 9,
   "id": "fa4398dd-6987-49fb-9b80-8f30c2f64570",
   "metadata": {
    "tags": []
   },
   "outputs": [
    {
     "name": "stdout",
     "output_type": "stream",
     "text": [
      "Are there duplicates in 'source_record_id'? -> False\n"
     ]
    }
   ],
   "source": [
    "has_duplicates = organizations['source_record_id'].duplicated().any()\n",
    "print(\"Are there duplicates in 'source_record_id'? ->\", has_duplicates)"
   ]
  },
  {
   "cell_type": "code",
   "execution_count": 10,
   "id": "c240d039-653e-4a5a-964b-dd3ee26b098c",
   "metadata": {
    "tags": []
   },
   "outputs": [],
   "source": [
    "with db_engine.connect() as connection:\n",
    "    query = \"\"\"\n",
    "        SELECT\n",
    "            organization_source_record_id, schedule_gtfs_dataset_key, organization_key, schedule_gtfs_dataset_name, _valid_from, _valid_to\n",
    "        FROM \n",
    "            cal-itp-data-infra.mart_transit_database.dim_provider_gtfs_data\n",
    "    \"\"\"\n",
    "    dim_provider_gtfs_data= pd.read_sql(query, connection)"
   ]
  },
  {
   "cell_type": "code",
   "execution_count": 11,
   "id": "8c075aab-8903-4a2c-acf2-d0fb1a9832db",
   "metadata": {
    "tags": []
   },
   "outputs": [
    {
     "data": {
      "text/plain": [
       "(29307, 6)"
      ]
     },
     "execution_count": 11,
     "metadata": {},
     "output_type": "execute_result"
    }
   ],
   "source": [
    "dim_provider_gtfs_data.shape"
   ]
  },
  {
   "cell_type": "code",
   "execution_count": 12,
   "id": "047e6886-0b98-46a8-85b3-df82278e59e6",
   "metadata": {
    "tags": []
   },
   "outputs": [],
   "source": [
    "# dim_provider_gtfs_data['_valid_from'] = pd.to_datetime(dim_provider_gtfs_data['_valid_from']).dt.date\n",
    "# dim_provider_gtfs_data['_valid_to'] = pd.to_datetime(dim_provider_gtfs_data['_valid_to']).dt.date\n",
    "\n",
    "# Defininganalysis window\n",
    "# analysis_start = dt.date(2022, 11, 30)\n",
    "# analysis_end   = dt.date(2022, 12, 4)\n",
    "\n",
    "#Filtering to only rows where the entire analysis period falls within valid range\n",
    "# valid_gtfs_data = dim_provider_gtfs_data[\n",
    "#     (dim_provider_gtfs_data['_valid_from'] <= analysis_start) &\n",
    "#     (dim_provider_gtfs_data['_valid_to'] >= analysis_end)\n",
    "# ]\n"
   ]
  },
  {
   "cell_type": "code",
   "execution_count": 13,
   "id": "f464616f-c714-432b-bb87-fe966a7150bb",
   "metadata": {
    "tags": []
   },
   "outputs": [],
   "source": [
    "dim_provider_gtfs_data.drop_duplicates(subset=['organization_source_record_id', 'schedule_gtfs_dataset_key'], inplace=True)"
   ]
  },
  {
   "cell_type": "code",
   "execution_count": 14,
   "id": "18ab00a3-0149-48ea-93f4-d46a300f8693",
   "metadata": {
    "tags": []
   },
   "outputs": [],
   "source": [
    "dim_provider_gtfs_data = dim_provider_gtfs_data.dropna(subset=['organization_source_record_id', 'schedule_gtfs_dataset_key'])"
   ]
  },
  {
   "cell_type": "code",
   "execution_count": 16,
   "id": "0b24b5b3-71e0-4c9d-97f9-bf0b54059d45",
   "metadata": {
    "tags": []
   },
   "outputs": [],
   "source": [
    "# Merge on organization_source_record_id and source_record_id\n",
    "filtered_dimprovider_gtfs = dim_provider_gtfs_data.merge(\n",
    "    organizations[['source_record_id', 'name', 'ntd_id_2022', 'ntd_agency_info_key']].drop_duplicates(), \n",
    "    left_on='organization_source_record_id', \n",
    "    right_on='source_record_id',\n",
    "    how='inner'\n",
    ")\n"
   ]
  },
  {
   "cell_type": "code",
   "execution_count": 17,
   "id": "a61e5557-2f4c-404e-b8df-2fcbe4bd2b64",
   "metadata": {
    "tags": []
   },
   "outputs": [
    {
     "data": {
      "text/plain": [
       "(2868, 10)"
      ]
     },
     "execution_count": 17,
     "metadata": {},
     "output_type": "execute_result"
    }
   ],
   "source": [
    "filtered_dimprovider_gtfs.shape"
   ]
  },
  {
   "cell_type": "code",
   "execution_count": 18,
   "id": "0ed55fb2-1d77-482f-b11d-394f570459ac",
   "metadata": {
    "tags": []
   },
   "outputs": [
    {
     "data": {
      "text/html": [
       "<div>\n",
       "<style scoped>\n",
       "    .dataframe tbody tr th:only-of-type {\n",
       "        vertical-align: middle;\n",
       "    }\n",
       "\n",
       "    .dataframe tbody tr th {\n",
       "        vertical-align: top;\n",
       "    }\n",
       "\n",
       "    .dataframe thead th {\n",
       "        text-align: right;\n",
       "    }\n",
       "</style>\n",
       "<table border=\"1\" class=\"dataframe\">\n",
       "  <thead>\n",
       "    <tr style=\"text-align: right;\">\n",
       "      <th></th>\n",
       "      <th>organization_source_record_id</th>\n",
       "      <th>schedule_gtfs_dataset_key</th>\n",
       "      <th>organization_key</th>\n",
       "      <th>schedule_gtfs_dataset_name</th>\n",
       "      <th>_valid_from</th>\n",
       "      <th>_valid_to</th>\n",
       "      <th>source_record_id</th>\n",
       "      <th>name</th>\n",
       "      <th>ntd_id_2022</th>\n",
       "      <th>ntd_agency_info_key</th>\n",
       "    </tr>\n",
       "  </thead>\n",
       "  <tbody>\n",
       "    <tr>\n",
       "      <th>0</th>\n",
       "      <td>recOZgevYf7Jimm9L</td>\n",
       "      <td>a54ac3ee41ad2e04b8194f3d95f3003a</td>\n",
       "      <td>298ecce1563d88b1fb37298c8952cbd4</td>\n",
       "      <td>Bay Area 511 AC Transit Schedule</td>\n",
       "      <td>2022-08-20 00:00:00+00:00</td>\n",
       "      <td>2022-08-23 23:59:59.999999+00:00</td>\n",
       "      <td>recOZgevYf7Jimm9L</td>\n",
       "      <td>Alameda-Contra Costa Transit District</td>\n",
       "      <td>90014</td>\n",
       "      <td>rec0zt7fBmP2s3F3g</td>\n",
       "    </tr>\n",
       "    <tr>\n",
       "      <th>1</th>\n",
       "      <td>recOZgevYf7Jimm9L</td>\n",
       "      <td>ebf4ef573788dfc73a846a84459361f7</td>\n",
       "      <td>298ecce1563d88b1fb37298c8952cbd4</td>\n",
       "      <td>Bay Area 511 AC Transit Schedule</td>\n",
       "      <td>2022-09-03 00:00:00+00:00</td>\n",
       "      <td>2022-09-12 23:59:59.999999+00:00</td>\n",
       "      <td>recOZgevYf7Jimm9L</td>\n",
       "      <td>Alameda-Contra Costa Transit District</td>\n",
       "      <td>90014</td>\n",
       "      <td>rec0zt7fBmP2s3F3g</td>\n",
       "    </tr>\n",
       "    <tr>\n",
       "      <th>2</th>\n",
       "      <td>recOZgevYf7Jimm9L</td>\n",
       "      <td>52dac077979fbe9b69bdb1c43696706f</td>\n",
       "      <td>298ecce1563d88b1fb37298c8952cbd4</td>\n",
       "      <td>Bay Area 511 AC Transit Schedule</td>\n",
       "      <td>2022-08-10 00:00:00+00:00</td>\n",
       "      <td>2022-08-19 23:59:59.999999+00:00</td>\n",
       "      <td>recOZgevYf7Jimm9L</td>\n",
       "      <td>Alameda-Contra Costa Transit District</td>\n",
       "      <td>90014</td>\n",
       "      <td>rec0zt7fBmP2s3F3g</td>\n",
       "    </tr>\n",
       "    <tr>\n",
       "      <th>3</th>\n",
       "      <td>recOZgevYf7Jimm9L</td>\n",
       "      <td>d0db8366c430b3f407f54ebf70cb6f2b</td>\n",
       "      <td>298ecce1563d88b1fb37298c8952cbd4</td>\n",
       "      <td>Bay Area 511 AC Transit Schedule</td>\n",
       "      <td>2022-08-06 00:00:00+00:00</td>\n",
       "      <td>2022-08-09 23:59:59.999999+00:00</td>\n",
       "      <td>recOZgevYf7Jimm9L</td>\n",
       "      <td>Alameda-Contra Costa Transit District</td>\n",
       "      <td>90014</td>\n",
       "      <td>rec0zt7fBmP2s3F3g</td>\n",
       "    </tr>\n",
       "    <tr>\n",
       "      <th>4</th>\n",
       "      <td>recOZgevYf7Jimm9L</td>\n",
       "      <td>0c1737c9682679b777e0759d7540377a</td>\n",
       "      <td>6eb57c38e084b838a1c2f19614a74337</td>\n",
       "      <td>Bay Area 511 AC Transit Schedule</td>\n",
       "      <td>2022-10-26 00:00:00+00:00</td>\n",
       "      <td>2022-11-18 23:59:59.999999+00:00</td>\n",
       "      <td>recOZgevYf7Jimm9L</td>\n",
       "      <td>Alameda-Contra Costa Transit District</td>\n",
       "      <td>90014</td>\n",
       "      <td>rec0zt7fBmP2s3F3g</td>\n",
       "    </tr>\n",
       "  </tbody>\n",
       "</table>\n",
       "</div>"
      ],
      "text/plain": [
       "  organization_source_record_id         schedule_gtfs_dataset_key  \\\n",
       "0             recOZgevYf7Jimm9L  a54ac3ee41ad2e04b8194f3d95f3003a   \n",
       "1             recOZgevYf7Jimm9L  ebf4ef573788dfc73a846a84459361f7   \n",
       "2             recOZgevYf7Jimm9L  52dac077979fbe9b69bdb1c43696706f   \n",
       "3             recOZgevYf7Jimm9L  d0db8366c430b3f407f54ebf70cb6f2b   \n",
       "4             recOZgevYf7Jimm9L  0c1737c9682679b777e0759d7540377a   \n",
       "\n",
       "                   organization_key        schedule_gtfs_dataset_name  \\\n",
       "0  298ecce1563d88b1fb37298c8952cbd4  Bay Area 511 AC Transit Schedule   \n",
       "1  298ecce1563d88b1fb37298c8952cbd4  Bay Area 511 AC Transit Schedule   \n",
       "2  298ecce1563d88b1fb37298c8952cbd4  Bay Area 511 AC Transit Schedule   \n",
       "3  298ecce1563d88b1fb37298c8952cbd4  Bay Area 511 AC Transit Schedule   \n",
       "4  6eb57c38e084b838a1c2f19614a74337  Bay Area 511 AC Transit Schedule   \n",
       "\n",
       "                _valid_from                        _valid_to  \\\n",
       "0 2022-08-20 00:00:00+00:00 2022-08-23 23:59:59.999999+00:00   \n",
       "1 2022-09-03 00:00:00+00:00 2022-09-12 23:59:59.999999+00:00   \n",
       "2 2022-08-10 00:00:00+00:00 2022-08-19 23:59:59.999999+00:00   \n",
       "3 2022-08-06 00:00:00+00:00 2022-08-09 23:59:59.999999+00:00   \n",
       "4 2022-10-26 00:00:00+00:00 2022-11-18 23:59:59.999999+00:00   \n",
       "\n",
       "    source_record_id                                   name ntd_id_2022  \\\n",
       "0  recOZgevYf7Jimm9L  Alameda-Contra Costa Transit District       90014   \n",
       "1  recOZgevYf7Jimm9L  Alameda-Contra Costa Transit District       90014   \n",
       "2  recOZgevYf7Jimm9L  Alameda-Contra Costa Transit District       90014   \n",
       "3  recOZgevYf7Jimm9L  Alameda-Contra Costa Transit District       90014   \n",
       "4  recOZgevYf7Jimm9L  Alameda-Contra Costa Transit District       90014   \n",
       "\n",
       "  ntd_agency_info_key  \n",
       "0   rec0zt7fBmP2s3F3g  \n",
       "1   rec0zt7fBmP2s3F3g  \n",
       "2   rec0zt7fBmP2s3F3g  \n",
       "3   rec0zt7fBmP2s3F3g  \n",
       "4   rec0zt7fBmP2s3F3g  "
      ]
     },
     "execution_count": 18,
     "metadata": {},
     "output_type": "execute_result"
    }
   ],
   "source": [
    "filtered_dimprovider_gtfs.head(5)"
   ]
  },
  {
   "cell_type": "code",
   "execution_count": null,
   "id": "4ed63c89-6b65-4376-8bee-32887e39cb43",
   "metadata": {},
   "outputs": [],
   "source": [
    "analysis_date = ['2022-11-30', '2022-12-03', '2022-12-04']\n",
    "trips = helpers.import_scheduled_trips(\n",
    "        analysis_date,\n",
    "        columns = [\"gtfs_dataset_key\", \"feed_key\", \n",
    "                   blah blah other columns you want,\n",
    "        get_pandas = True,\n",
    "    )"
   ]
  },
  {
   "cell_type": "code",
   "execution_count": 19,
   "id": "f6e7eda8-bf15-476f-9132-b76637bbc479",
   "metadata": {
    "tags": []
   },
   "outputs": [],
   "source": [
    "with db_engine.connect() as connection:\n",
    "    query = \"\"\"\n",
    "        SELECT\n",
    "            gtfs_dataset_key, feed_key, service_date, trip_instance_key, trip_id, route_id, shape_id, direction_id, route_type, route_short_name\n",
    "        FROM \n",
    "            cal-itp-data-infra.mart_gtfs.fct_scheduled_trips\n",
    "        WHERE \n",
    "            service_date IN (DATE '2022-11-30', DATE '2022-12-03', DATE '2022-12-04')\n",
    "        ORDER BY service_date DESC\n",
    "    \"\"\"\n",
    "    gtfs_trips= pd.read_sql(query, connection)"
   ]
  },
  {
   "cell_type": "code",
   "execution_count": 21,
   "id": "49d39fea-7375-402a-b6b4-7a3c63dfdc60",
   "metadata": {
    "tags": []
   },
   "outputs": [],
   "source": [
    "# Merge on organization_source_record_id and source_record_id\n",
    "trips_ntd_data = gtfs_trips.merge(\n",
    "    filtered_dimprovider_gtfs[['schedule_gtfs_dataset_key', 'name', 'ntd_id_2022', 'ntd_agency_info_key']], \n",
    "    left_on='gtfs_dataset_key', \n",
    "    right_on='schedule_gtfs_dataset_key',\n",
    "    how='inner'\n",
    ")"
   ]
  },
  {
   "cell_type": "code",
   "execution_count": 22,
   "id": "0636739d-3174-4be4-8dbd-742b80015bc6",
   "metadata": {
    "tags": []
   },
   "outputs": [
    {
     "data": {
      "text/plain": [
       "(1829843, 14)"
      ]
     },
     "execution_count": 22,
     "metadata": {},
     "output_type": "execute_result"
    }
   ],
   "source": [
    "trips_ntd_data.shape"
   ]
  },
  {
   "cell_type": "code",
   "execution_count": 31,
   "id": "8c306144-4050-45a4-a67b-38e017c979f9",
   "metadata": {
    "tags": []
   },
   "outputs": [
    {
     "data": {
      "text/plain": [
       "gtfs_dataset_key    178\n",
       "ntd_id_2022         146\n",
       "dtype: int64"
      ]
     },
     "execution_count": 31,
     "metadata": {},
     "output_type": "execute_result"
    }
   ],
   "source": [
    "trips_ntd_data[['gtfs_dataset_key', 'ntd_id_2022']].nunique()"
   ]
  },
  {
   "cell_type": "code",
   "execution_count": 24,
   "id": "5ce48b85-09f9-4b85-b0e5-472185539033",
   "metadata": {
    "tags": []
   },
   "outputs": [],
   "source": [
    "gtfs_counts = trips_ntd_data.groupby('gtfs_dataset_key')['ntd_id_2022'].nunique()\n",
    "ntd_counts = trips_ntd_data.groupby('ntd_id_2022')['gtfs_dataset_key'].nunique()\n",
    "\n",
    "# Filter to get only 1:1 mappings\n",
    "valid_gtfs_keys = gtfs_counts[gtfs_counts == 1].index\n",
    "valid_ntd_ids = ntd_counts[ntd_counts == 1].index\n",
    "\n",
    "# Now filtering the original DataFrame\n",
    "unique_pairs = trips_ntd_data[\n",
    "    trips_ntd_data['gtfs_dataset_key'].isin(valid_gtfs_keys) &\n",
    "    trips_ntd_data['ntd_id_2022'].isin(valid_ntd_ids)\n",
    "]"
   ]
  },
  {
   "cell_type": "code",
   "execution_count": 32,
   "id": "23764499-e09a-43fc-a978-505c520234c9",
   "metadata": {
    "tags": []
   },
   "outputs": [
    {
     "data": {
      "text/plain": [
       "(98, 2)"
      ]
     },
     "execution_count": 32,
     "metadata": {},
     "output_type": "execute_result"
    }
   ],
   "source": [
    "unique_pairs[['gtfs_dataset_key', 'ntd_id_2022']].drop_duplicates().shape"
   ]
  },
  {
   "cell_type": "code",
   "execution_count": 26,
   "id": "c1753ea4-28c4-44cd-871d-b40424fceb0b",
   "metadata": {
    "tags": []
   },
   "outputs": [],
   "source": [
    "def trips_data_summary(day_type, analysis_dt, trips_df):\n",
    "    if trips_df.empty:\n",
    "        return pd.DataFrame()\n",
    "\n",
    "    # Get feed_keys from the provided trips_df\n",
    "    feed_keys = trips_df[\"feed_key\"].unique().tolist()\n",
    "\n",
    "    trips_df = trips_df.drop_duplicates()\n",
    "\n",
    "    # Add derived column\n",
    "    trips_df[\"route_name_id\"] = trips_df[\"route_short_name\"].fillna(\"\") + \"_\" + trips_df[\"route_id\"]\n",
    "\n",
    "    # Get stop_times\n",
    "    stoptimes_df = gtfs_utils_v2.get_stop_times(\n",
    "        selected_date=analysis_dt,\n",
    "        operator_feeds=feed_keys,\n",
    "        stop_time_cols=[\"trip_id\", \"feed_key\", \"stop_id\", \"arrival_sec\", \"departure_sec\"],\n",
    "        trip_df=trips_df,\n",
    "        get_df=True\n",
    "    )\n",
    "\n",
    "    if stoptimes_df.empty:\n",
    "        return pd.DataFrame()\n",
    "\n",
    "    # Merge with trips\n",
    "    stoptimes_df = stoptimes_df.merge(trips_df, on=[\"trip_id\", \"feed_key\"])\n",
    "\n",
    "    # Summarize stop-level trips\n",
    "    grouped = stoptimes_df.groupby([\"feed_key\", \"route_type\", \"stop_id\"])\n",
    "    summary = grouped.agg(\n",
    "        n_trips=(\"trip_instance_key\", pd.Series.nunique),\n",
    "        n_routes=(\"route_id\", pd.Series.nunique),\n",
    "        route_list=(\"route_name_id\", lambda x: [x.tolist()])\n",
    "    ).reset_index()\n",
    "\n",
    "    summary[\"daytype\"] = day_type\n",
    "    summary[\"analysis_date\"] = analysis_dt\n",
    "    summary[\"route_list_string\"] = summary[\"route_list\"].apply(lambda x: \",\".join(x[0]))\n",
    "\n",
    "    # Add gtfs_dataset_key and service_date from trips_df to summary\n",
    "    feed_info = trips_df[[\"feed_key\", \"ntd_id_2022\", \"ntd_agency_info_key\", \"gtfs_dataset_key\", \"service_date\"]].drop_duplicates()\n",
    "    summary = summary.merge(feed_info, on=\"feed_key\", how=\"left\")\n",
    "\n",
    "    # Get stop metadata\n",
    "    stops_geo = gtfs_utils_v2.get_stops(\n",
    "        selected_date=analysis_dt,\n",
    "        operator_feeds=feed_keys,\n",
    "        stop_cols=[\"feed_key\", \"stop_id\", \"stop_desc\", \"stop_name\"],\n",
    "        get_df=True\n",
    "    )\n",
    "\n",
    "    # Join with summarized data\n",
    "    stoptimes_geo = stops_geo.merge(summary, on=[\"feed_key\", \"stop_id\"])\n",
    "\n",
    "    return stoptimes_geo\n"
   ]
  },
  {
   "cell_type": "code",
   "execution_count": 27,
   "id": "a33b4fee-92e8-4246-8192-915f6368dc76",
   "metadata": {
    "tags": []
   },
   "outputs": [],
   "source": [
    "def stops_geo_acs_summary(stoptimes_geo, acs_ca, jobdata):\n",
    "    if stoptimes_geo.empty:\n",
    "        return pd.DataFrame()\n",
    "\n",
    "    # Merge ACS with job data\n",
    "    acs_ca = acs_ca.merge(jobdata, on='GEOID', how='left')\n",
    "    acs_ca = acs_ca.to_crs(epsg=3347)\n",
    "\n",
    "    # Spatial buffer (0.25 miles)\n",
    "    stoptimes_geo = stoptimes_geo.to_crs(epsg=3347)\n",
    "    stoptimes_geo[\"geometry\"] = stoptimes_geo.buffer(402.336)\n",
    "\n",
    "    # Spatial join with ACS\n",
    "    stops_acs_joined = stoptimes_geo.sjoin(acs_ca, how=\"left\", predicate=\"intersects\")\n",
    "\n",
    "    # Aggregate\n",
    "    group_cols = [\n",
    "        \"gtfs_dataset_key\", \"ntd_id_2022\", \"ntd_agency_info_key\", \"stop_id\", \"stop_name\", \"n_trips\", \"n_routes\",\n",
    "        \"daytype\", \"analysis_date\", \"route_list_string\", \"service_date\"\n",
    "    ]\n",
    "\n",
    "    acs_summary = stops_acs_joined.groupby(group_cols).agg(\n",
    "        sum_tracts=(\"GEOID\", pd.Series.nunique),\n",
    "        sum_total_pop=(\"total_pop\", \"sum\"),\n",
    "        sum_households=(\"households\", \"sum\"),\n",
    "        sum_not_us_citizen_pop=(\"not_us_citizen_pop\", \"sum\"),\n",
    "        sum_youth_pop=(\"youth_pop\", \"sum\"),\n",
    "        sum_seniors_pop=(\"seniors_pop\", \"sum\"),\n",
    "        sum_pop_determined_poverty_status=(\"pop_determined_poverty_status\", \"sum\"),\n",
    "        sum_poverty=(\"poverty\", \"sum\"),\n",
    "        sum_no_car=(\"workers_with_no_car\", \"sum\"),\n",
    "        sum_no_cars=(\"households_with_no_cars\", \"sum\"),\n",
    "        sum_land_area=(\"ALAND\", \"sum\"),\n",
    "        sum_jobs=(\"jobs_tot\", \"sum\")\n",
    "    ).reset_index()\n",
    "\n",
    "    # Derived metrics\n",
    "    acs_summary[\"land_area_sqkm\"] = acs_summary[\"sum_land_area\"] / 1_000_000\n",
    "    acs_summary[\"pop_density\"] = acs_summary[\"sum_total_pop\"] / acs_summary[\"land_area_sqkm\"]\n",
    "    acs_summary[\"job_density\"] = acs_summary[\"sum_jobs\"] / acs_summary[\"land_area_sqkm\"]\n",
    "    acs_summary[\"pct_not_us_citizen_pop\"] = (acs_summary[\"sum_not_us_citizen_pop\"] / acs_summary[\"sum_total_pop\"]) * 100\n",
    "    acs_summary[\"pct_youth_pop\"] = (acs_summary[\"sum_youth_pop\"] / acs_summary[\"sum_total_pop\"]) * 100\n",
    "    acs_summary[\"pct_seniors_pop\"] = (acs_summary[\"sum_seniors_pop\"] / acs_summary[\"sum_total_pop\"]) * 100\n",
    "    acs_summary[\"pct_poverty\"] = (acs_summary[\"sum_poverty\"] / acs_summary[\"sum_pop_determined_poverty_status\"]) * 100\n",
    "    acs_summary[\"pct_pop_workers_no_car\"] = (acs_summary[\"sum_no_car\"] / acs_summary[\"sum_total_pop\"]) * 100\n",
    "    acs_summary[\"pct_hh_no_cars\"] = (acs_summary[\"sum_no_cars\"] / acs_summary[\"sum_households\"]) * 100\n",
    "\n",
    "    return acs_summary\n"
   ]
  },
  {
   "cell_type": "code",
   "execution_count": 28,
   "id": "872b56ca-b195-4a2d-b7e5-1797f0d2f475",
   "metadata": {},
   "outputs": [],
   "source": [
    "# set date parameters\n",
    "analysis_wkd = dt.date(2022,11,30)\n",
    "analysis_sat = dt.date(2022,12,3)\n",
    "analysis_sun = dt.date(2022,12,4)"
   ]
  },
  {
   "cell_type": "code",
   "execution_count": 29,
   "id": "33293e40-6b18-4427-be7f-12081c6452fc",
   "metadata": {},
   "outputs": [],
   "source": [
    "acs_ca = read_parquet_from_gcs(\"tracts_ca_acs.parquet\")\n",
    "jobdata = pd.read_parquet(f\"{GCS_FILE_PATH}/job_density_2022.parquet\")[['GEOID', 'jobs_tot']]"
   ]
  },
  {
   "cell_type": "code",
   "execution_count": 30,
   "id": "f207bd06-8a98-4bf4-a000-01f2090f937f",
   "metadata": {
    "tags": []
   },
   "outputs": [],
   "source": [
    "# List of (day_type, analysis_date) pairs\n",
    "day_type_dates = [\n",
    "    (\"Weekday\", analysis_wkd),\n",
    "    (\"Saturday\", analysis_sat),\n",
    "    (\"Sunday\", analysis_sun)\n",
    "]\n"
   ]
  }
 ],
 "metadata": {
  "kernelspec": {
   "display_name": "Python 3 (ipykernel)",
   "language": "python",
   "name": "python3"
  },
  "language_info": {
   "codemirror_mode": {
    "name": "ipython",
    "version": 3
   },
   "file_extension": ".py",
   "mimetype": "text/x-python",
   "name": "python",
   "nbconvert_exporter": "python",
   "pygments_lexer": "ipython3",
   "version": "3.11.10"
  }
 },
 "nbformat": 4,
 "nbformat_minor": 5
}
