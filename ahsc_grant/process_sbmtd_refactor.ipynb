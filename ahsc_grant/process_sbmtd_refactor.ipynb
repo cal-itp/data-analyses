{
 "cells": [
  {
   "cell_type": "code",
   "execution_count": 1,
   "id": "ad9687fb-d427-4b28-9edb-48e3792e6124",
   "metadata": {},
   "outputs": [
    {
     "name": "stdout",
     "output_type": "stream",
     "text": [
      "Requirement already satisfied: shared_utils in /home/jovyan/data-analyses/_shared_utils (2.5)\n",
      "Note: you may need to restart the kernel to use updated packages.\n"
     ]
    }
   ],
   "source": [
    "pip install shared_utils"
   ]
  },
  {
   "cell_type": "code",
   "execution_count": 2,
   "id": "34c771c1-79be-4094-a428-e111cbe4bce4",
   "metadata": {},
   "outputs": [
    {
     "name": "stdout",
     "output_type": "stream",
     "text": [
      "Requirement already satisfied: fuzzywuzzy in /opt/conda/lib/python3.9/site-packages (0.18.0)\n",
      "Note: you may need to restart the kernel to use updated packages.\n"
     ]
    }
   ],
   "source": [
    "pip install fuzzywuzzy"
   ]
  },
  {
   "cell_type": "code",
   "execution_count": 3,
   "id": "c634a3a4-ef9f-4c63-ba50-8f51692e09b2",
   "metadata": {},
   "outputs": [
    {
     "name": "stderr",
     "output_type": "stream",
     "text": [
      "/opt/conda/lib/python3.9/site-packages/fuzzywuzzy/fuzz.py:11: UserWarning: Using slow pure-python SequenceMatcher. Install python-Levenshtein to remove this warning\n",
      "  warnings.warn('Using slow pure-python SequenceMatcher. Install python-Levenshtein to remove this warning')\n"
     ]
    }
   ],
   "source": [
    "from fuzzywuzzy import process, fuzz"
   ]
  },
  {
   "cell_type": "code",
   "execution_count": 4,
   "id": "b3a3667c-b23f-4136-bae9-a58286b8b16a",
   "metadata": {},
   "outputs": [],
   "source": [
    "import os\n",
    "os.environ[\"CALITP_BQ_MAX_BYTES\"] = str(800_000_000_000)\n",
    "\n",
    "import branca\n",
    "import folium\n",
    "from shared_utils import gtfs_utils_v2\n",
    "\n",
    "from siuba import *\n",
    "import pandas as pd\n",
    "import geopandas as gpd \n",
    "\n",
    "import datetime as dt\n",
    "import time\n",
    "\n",
    "import seaborn as sns\n",
    "import matplotlib.pyplot as plt"
   ]
  },
  {
   "cell_type": "code",
   "execution_count": 5,
   "id": "c187a09f-1914-435a-ba2b-54c836aa1d34",
   "metadata": {},
   "outputs": [],
   "source": [
    "import sys\n",
    "sys.path.append('../rt_segment_speeds/segment_speed_utils')\n",
    "\n",
    "from helpers import *"
   ]
  },
  {
   "cell_type": "code",
   "execution_count": 6,
   "id": "e585de4e-ed3b-46a2-9298-b6c82374d444",
   "metadata": {},
   "outputs": [],
   "source": [
    "analysis_date = \"2022-03-15\"\n",
    "agency_name = \"SBMTD\""
   ]
  },
  {
   "cell_type": "code",
   "execution_count": 7,
   "id": "18eeb689-320a-49dd-930d-6ece7ed108a5",
   "metadata": {},
   "outputs": [],
   "source": [
    "get_trips = import_scheduled_trips(analysis_date=analysis_date, columns =[\n",
    "        \"gtfs_dataset_key\", \"feed_key\", \"name\", \"trip_id\", \n",
    "        \"shape_id\", \"shape_array_key\", \n",
    "        \"route_id\", \"route_key\", \"direction_id\"\n",
    "    ], get_pandas=True)"
   ]
  },
  {
   "cell_type": "code",
   "execution_count": 8,
   "id": "693e9a3e-d48e-433d-a064-e8390ea00035",
   "metadata": {},
   "outputs": [],
   "source": [
    "def compute_feed_key(agency_name):\n",
    "    filtered = get_trips[get_trips['name'].str.contains(agency_name, na=False)]\n",
    "    if not filtered.empty:\n",
    "        return filtered.iloc[0]['feed_key']\n",
    "    else:\n",
    "        return None"
   ]
  },
  {
   "cell_type": "code",
   "execution_count": 9,
   "id": "e2a2f873-5f6b-47ae-9497-399b11688052",
   "metadata": {},
   "outputs": [],
   "source": [
    "feed_key = compute_feed_key(agency_name)"
   ]
  },
  {
   "cell_type": "code",
   "execution_count": 10,
   "id": "96660be6-8b4b-4c34-b9a4-f08dc4e6724f",
   "metadata": {},
   "outputs": [],
   "source": [
    "stops_data = import_scheduled_stops(analysis_date).drop_duplicates().reset_index(drop=True)\n",
    "if feed_key is not None:\n",
    "    stops_data = stops_data[stops_data['feed_key'].isin([feed_key])]"
   ]
  },
  {
   "cell_type": "code",
   "execution_count": 11,
   "id": "922d765d-cdfc-42d1-8d49-048f13b54498",
   "metadata": {},
   "outputs": [],
   "source": [
    "GCS_FILE_PATH = 'gs://calitp-analytics-data/data-analyses/ahsc_grant/'\n",
    "yr_sbmtd_raw = pd.read_excel(f'{GCS_FILE_PATH}SYSTEM WIDE STOP USAGE FY21-22.xlsx', sheet_name=None)"
   ]
  },
  {
   "cell_type": "code",
   "execution_count": 12,
   "id": "22e787d0-9b33-4eab-9e32-530e22d690ef",
   "metadata": {
    "tags": []
   },
   "outputs": [
    {
     "data": {
      "text/plain": [
       "0       WKDY\n",
       "1       WKDY\n",
       "2       WKDY\n",
       "3       WKDY\n",
       "4       WKDY\n",
       "        ... \n",
       "2210    WKDY\n",
       "2211    WKDY\n",
       "2212    WKDY\n",
       "2213    WKDY\n",
       "2214    WKDY\n",
       "Name: daytype, Length: 2215, dtype: object"
      ]
     },
     "execution_count": 12,
     "metadata": {},
     "output_type": "execute_result"
    }
   ],
   "source": [
    "for key, value in yr_sbmtd_raw.items():\n",
    "    value['daytype'] = f'{key}'\n",
    "\n",
    "list(yr_sbmtd_raw.values()) [0]['daytype']"
   ]
  },
  {
   "cell_type": "code",
   "execution_count": 13,
   "id": "c1ba2a9f-cbb4-4874-a7f2-572c468489d5",
   "metadata": {},
   "outputs": [],
   "source": [
    "yr_sbmtd_all = pd.concat(yr_sbmtd_raw, ignore_index=True)"
   ]
  },
  {
   "cell_type": "code",
   "execution_count": 14,
   "id": "91a83f4c-86f5-4daf-9c9a-8f4e44b06432",
   "metadata": {},
   "outputs": [],
   "source": [
    "# standardize stop ids\n",
    "day_cols = {'WKDY': 'weekday_ons', 'SAT': 'sat_ons', 'SUN': 'sun_ons'}\n",
    "\n",
    "yr_sbmtd_all = (yr_sbmtd_all\n",
    "                 >> mutate(STOP_ID_clean = if_else(_.STOP_ID!=99999,_.STOP_ID,_.STOP_ID_NEAR),\n",
    "                           DAY_TYPE = _.daytype.apply(lambda x: day_cols[x]))\n",
    "               )\n"
   ]
  },
  {
   "cell_type": "code",
   "execution_count": 15,
   "id": "1cb016a0-1b98-4925-a411-9438bdf1de0c",
   "metadata": {},
   "outputs": [],
   "source": [
    "name_id_dict = (yr_sbmtd_all \n",
    "                >> distinct(_.STOP_ID_clean,_.STOP_NAME)\n",
    "                >> arrange(_.STOP_ID_clean,_.STOP_NAME)\n",
    "                >> filter(_.STOP_NAME.notna()) #this expression drops NAs\n",
    "                >> rename(STOP_NAME_clean = \"STOP_NAME\")\n",
    "               )"
   ]
  },
  {
   "cell_type": "code",
   "execution_count": 16,
   "id": "be29dc6f-1b93-4856-85e3-104bed466cbd",
   "metadata": {},
   "outputs": [
    {
     "data": {
      "text/html": [
       "<div>\n",
       "<style scoped>\n",
       "    .dataframe tbody tr th:only-of-type {\n",
       "        vertical-align: middle;\n",
       "    }\n",
       "\n",
       "    .dataframe tbody tr th {\n",
       "        vertical-align: top;\n",
       "    }\n",
       "\n",
       "    .dataframe thead th {\n",
       "        text-align: right;\n",
       "    }\n",
       "</style>\n",
       "<table border=\"1\" class=\"dataframe\">\n",
       "  <thead>\n",
       "    <tr style=\"text-align: right;\">\n",
       "      <th></th>\n",
       "      <th>STOP_ID_clean</th>\n",
       "      <th>STOP_NAME_clean</th>\n",
       "      <th>DAY_TYPE</th>\n",
       "      <th>stop_total_ons</th>\n",
       "    </tr>\n",
       "  </thead>\n",
       "  <tbody>\n",
       "    <tr>\n",
       "      <th>0</th>\n",
       "      <td>-51</td>\n",
       "      <td>Pacific Oaks/Phelps</td>\n",
       "      <td>sat_ons</td>\n",
       "      <td>0</td>\n",
       "    </tr>\n",
       "    <tr>\n",
       "      <th>1</th>\n",
       "      <td>-51</td>\n",
       "      <td>Pacific Oaks/Phelps</td>\n",
       "      <td>sun_ons</td>\n",
       "      <td>0</td>\n",
       "    </tr>\n",
       "    <tr>\n",
       "      <th>2</th>\n",
       "      <td>-51</td>\n",
       "      <td>Pacific Oaks/Phelps</td>\n",
       "      <td>weekday_ons</td>\n",
       "      <td>2</td>\n",
       "    </tr>\n",
       "    <tr>\n",
       "      <th>3</th>\n",
       "      <td>-49</td>\n",
       "      <td>Pueblo/Castillo Out</td>\n",
       "      <td>sat_ons</td>\n",
       "      <td>116</td>\n",
       "    </tr>\n",
       "    <tr>\n",
       "      <th>4</th>\n",
       "      <td>-49</td>\n",
       "      <td>Pueblo/Castillo Out</td>\n",
       "      <td>sun_ons</td>\n",
       "      <td>109</td>\n",
       "    </tr>\n",
       "  </tbody>\n",
       "</table>\n",
       "</div>"
      ],
      "text/plain": [
       "   STOP_ID_clean      STOP_NAME_clean     DAY_TYPE  stop_total_ons\n",
       "0            -51  Pacific Oaks/Phelps      sat_ons               0\n",
       "1            -51  Pacific Oaks/Phelps      sun_ons               0\n",
       "2            -51  Pacific Oaks/Phelps  weekday_ons               2\n",
       "3            -49  Pueblo/Castillo Out      sat_ons             116\n",
       "4            -49  Pueblo/Castillo Out      sun_ons             109"
      ]
     },
     "execution_count": 16,
     "metadata": {},
     "output_type": "execute_result"
    }
   ],
   "source": [
    "yr_sbmtd_grouped = (yr_sbmtd_all\n",
    "                >> left_join(_,name_id_dict)    \n",
    "                >> group_by(_.STOP_ID_clean,_.STOP_NAME_clean, _.DAY_TYPE)\n",
    "                >> summarize(stop_total_ons = _.XBOARDINGS.sum())\n",
    "                )\n",
    "\n",
    "yr_sbmtd_grouped >> head(5)"
   ]
  },
  {
   "cell_type": "code",
   "execution_count": 17,
   "id": "e7d5f69d-f20d-461f-bd1d-fef4b9211f64",
   "metadata": {},
   "outputs": [
    {
     "data": {
      "text/html": [
       "<div>\n",
       "<style scoped>\n",
       "    .dataframe tbody tr th:only-of-type {\n",
       "        vertical-align: middle;\n",
       "    }\n",
       "\n",
       "    .dataframe tbody tr th {\n",
       "        vertical-align: top;\n",
       "    }\n",
       "\n",
       "    .dataframe thead th {\n",
       "        text-align: right;\n",
       "    }\n",
       "</style>\n",
       "<table border=\"1\" class=\"dataframe\">\n",
       "  <thead>\n",
       "    <tr style=\"text-align: right;\">\n",
       "      <th></th>\n",
       "      <th>stop_id</th>\n",
       "      <th>stop_name</th>\n",
       "      <th>sat_ons</th>\n",
       "      <th>sun_ons</th>\n",
       "      <th>weekday_ons</th>\n",
       "      <th>feed_key</th>\n",
       "      <th>name</th>\n",
       "    </tr>\n",
       "  </thead>\n",
       "  <tbody>\n",
       "    <tr>\n",
       "      <th>0</th>\n",
       "      <td>-1</td>\n",
       "      <td>Hollister/Sumida</td>\n",
       "      <td>319.0</td>\n",
       "      <td>381.0</td>\n",
       "      <td>3926.0</td>\n",
       "      <td>52201caab047b98ae19b7547c0d7c2ad</td>\n",
       "      <td>SBMTD Schedule</td>\n",
       "    </tr>\n",
       "    <tr>\n",
       "      <th>1</th>\n",
       "      <td>-10</td>\n",
       "      <td>Hollister/Robin Hill</td>\n",
       "      <td>29.0</td>\n",
       "      <td>13.0</td>\n",
       "      <td>173.0</td>\n",
       "      <td>52201caab047b98ae19b7547c0d7c2ad</td>\n",
       "      <td>SBMTD Schedule</td>\n",
       "    </tr>\n",
       "    <tr>\n",
       "      <th>2</th>\n",
       "      <td>-11</td>\n",
       "      <td>Hollister/Willow Springs</td>\n",
       "      <td>78.0</td>\n",
       "      <td>80.0</td>\n",
       "      <td>658.0</td>\n",
       "      <td>52201caab047b98ae19b7547c0d7c2ad</td>\n",
       "      <td>SBMTD Schedule</td>\n",
       "    </tr>\n",
       "    <tr>\n",
       "      <th>3</th>\n",
       "      <td>-12</td>\n",
       "      <td>Hollister/Los Carneros Way</td>\n",
       "      <td>40.0</td>\n",
       "      <td>22.0</td>\n",
       "      <td>396.0</td>\n",
       "      <td>52201caab047b98ae19b7547c0d7c2ad</td>\n",
       "      <td>SBMTD Schedule</td>\n",
       "    </tr>\n",
       "    <tr>\n",
       "      <th>4</th>\n",
       "      <td>-13</td>\n",
       "      <td>Hollister/Cremona</td>\n",
       "      <td>49.0</td>\n",
       "      <td>43.0</td>\n",
       "      <td>659.0</td>\n",
       "      <td>52201caab047b98ae19b7547c0d7c2ad</td>\n",
       "      <td>SBMTD Schedule</td>\n",
       "    </tr>\n",
       "  </tbody>\n",
       "</table>\n",
       "</div>"
      ],
      "text/plain": [
       "  stop_id                   stop_name  sat_ons  sun_ons  weekday_ons  \\\n",
       "0      -1            Hollister/Sumida    319.0    381.0       3926.0   \n",
       "1     -10        Hollister/Robin Hill     29.0     13.0        173.0   \n",
       "2     -11    Hollister/Willow Springs     78.0     80.0        658.0   \n",
       "3     -12  Hollister/Los Carneros Way     40.0     22.0        396.0   \n",
       "4     -13           Hollister/Cremona     49.0     43.0        659.0   \n",
       "\n",
       "                           feed_key            name  \n",
       "0  52201caab047b98ae19b7547c0d7c2ad  SBMTD Schedule  \n",
       "1  52201caab047b98ae19b7547c0d7c2ad  SBMTD Schedule  \n",
       "2  52201caab047b98ae19b7547c0d7c2ad  SBMTD Schedule  \n",
       "3  52201caab047b98ae19b7547c0d7c2ad  SBMTD Schedule  \n",
       "4  52201caab047b98ae19b7547c0d7c2ad  SBMTD Schedule  "
      ]
     },
     "execution_count": 17,
     "metadata": {},
     "output_type": "execute_result"
    }
   ],
   "source": [
    "yr_sbmtd_grouped = (yr_sbmtd_grouped\n",
    "                     >> mutate(STOP_ID_clean = _.STOP_ID_clean.astype(str))\n",
    "                     >> rename(stop_id = _.STOP_ID_clean)\n",
    "                     >> rename(stop_name = _.STOP_NAME_clean)\n",
    "                     >> spread(\"DAY_TYPE\", \"stop_total_ons\")\n",
    "                     >> mutate(feed_key = feed_key)\n",
    "                     >> mutate(name = 'SBMTD Schedule')\n",
    "                    )\n",
    "\n",
    "yr_sbmtd_grouped >> head (5)"
   ]
  },
  {
   "cell_type": "code",
   "execution_count": 18,
   "id": "99f062ea-35cd-437c-b32d-9a09553b05bc",
   "metadata": {},
   "outputs": [],
   "source": [
    "stops_data = (\n",
    "    stops_data\n",
    "    >> rename(STOP_NAME=_.stop_name)  \n",
    ")\n"
   ]
  },
  {
   "cell_type": "code",
   "execution_count": 19,
   "id": "de9e653d-8873-4c18-b113-8ab316041780",
   "metadata": {},
   "outputs": [],
   "source": [
    "stops_to_join = (stops_data\n",
    "                 >> select(_.feed_key, _.stop_id, _.STOP_NAME, _.geometry)\n",
    "                )"
   ]
  },
  {
   "cell_type": "code",
   "execution_count": 20,
   "id": "d2724f88-a1a0-4ddd-b504-b34b1c5f8eb6",
   "metadata": {},
   "outputs": [],
   "source": [
    "stop_name_to_id = stops_to_join.set_index('STOP_NAME')['stop_id'].to_dict()"
   ]
  },
  {
   "cell_type": "code",
   "execution_count": 21,
   "id": "8e90085f-5e68-496a-a912-8923987d50a8",
   "metadata": {},
   "outputs": [],
   "source": [
    "def get_best_match(name, choices, scorer=fuzz.ratio, threshold=90):\n",
    "    best_match, score = process.extractOne(name, choices, scorer=scorer)\n",
    "    if score >= threshold:\n",
    "        return best_match\n",
    "    else:\n",
    "        return None"
   ]
  },
  {
   "cell_type": "code",
   "execution_count": 22,
   "id": "db69fcb2-6a5b-4211-a69c-fee3d44e2345",
   "metadata": {},
   "outputs": [],
   "source": [
    "stops_to_join['matched_stop_name'] = stops_to_join['STOP_NAME'].apply(lambda x: get_best_match(x, yr_sbmtd_grouped['stop_name'].unique()))\n",
    "stops_to_join['matched_stop_id'] = stops_to_join['matched_stop_name'].map(stop_name_to_id)"
   ]
  },
  {
   "cell_type": "code",
   "execution_count": 23,
   "id": "6624a034-9a44-44f6-ab8e-3e745486e923",
   "metadata": {},
   "outputs": [],
   "source": [
    "fuzzy_matches = stops_to_join.dropna(subset=['matched_stop_name'])"
   ]
  },
  {
   "cell_type": "code",
   "execution_count": 24,
   "id": "331aeb5b-dba3-4b98-9aa4-1ab0c22721ea",
   "metadata": {},
   "outputs": [],
   "source": [
    "name_to_stop_id_mapping = fuzzy_matches.set_index('matched_stop_name')['stop_id'].to_dict()"
   ]
  },
  {
   "cell_type": "code",
   "execution_count": 25,
   "id": "c8c6152a-56d2-4f20-b4dc-3cd050dca883",
   "metadata": {},
   "outputs": [],
   "source": [
    "yr_sbmtd_grouped_updated = yr_sbmtd_grouped.copy()\n",
    "yr_sbmtd_grouped_updated['stop_id'] = yr_sbmtd_grouped_updated['stop_name'].map(name_to_stop_id_mapping).fillna(yr_sbmtd_grouped_updated['stop_id'])"
   ]
  },
  {
   "cell_type": "code",
   "execution_count": 26,
   "id": "7d88e45e-bbea-4518-a7c0-1697e48322f9",
   "metadata": {},
   "outputs": [],
   "source": [
    "final_join = pd.merge(\n",
    "    stops_to_join,\n",
    "    yr_sbmtd_grouped_updated,\n",
    "    on=['feed_key', 'stop_id'],\n",
    "    how='inner'\n",
    ")"
   ]
  },
  {
   "cell_type": "code",
   "execution_count": 27,
   "id": "337ef7a7-dbee-4322-8507-81908a21c9b2",
   "metadata": {},
   "outputs": [
    {
     "name": "stdout",
     "output_type": "stream",
     "text": [
      "<class 'geopandas.geodataframe.GeoDataFrame'>\n",
      "Int64Index: 602 entries, 0 to 601\n",
      "Data columns (total 11 columns):\n",
      " #   Column             Non-Null Count  Dtype   \n",
      "---  ------             --------------  -----   \n",
      " 0   feed_key           602 non-null    object  \n",
      " 1   stop_id            602 non-null    object  \n",
      " 2   STOP_NAME          602 non-null    object  \n",
      " 3   geometry           602 non-null    geometry\n",
      " 4   matched_stop_name  602 non-null    object  \n",
      " 5   matched_stop_id    26 non-null     object  \n",
      " 6   stop_name          602 non-null    object  \n",
      " 7   sat_ons            500 non-null    float64 \n",
      " 8   sun_ons            466 non-null    float64 \n",
      " 9   weekday_ons        602 non-null    float64 \n",
      " 10  name               602 non-null    object  \n",
      "dtypes: float64(3), geometry(1), object(7)\n",
      "memory usage: 56.4+ KB\n"
     ]
    }
   ],
   "source": [
    "final_join.info()"
   ]
  },
  {
   "cell_type": "code",
   "execution_count": 28,
   "id": "c092093a-0247-4069-af51-4df9c6b32bd0",
   "metadata": {},
   "outputs": [
    {
     "data": {
      "text/html": [
       "<div>\n",
       "<style scoped>\n",
       "    .dataframe tbody tr th:only-of-type {\n",
       "        vertical-align: middle;\n",
       "    }\n",
       "\n",
       "    .dataframe tbody tr th {\n",
       "        vertical-align: top;\n",
       "    }\n",
       "\n",
       "    .dataframe thead th {\n",
       "        text-align: right;\n",
       "    }\n",
       "</style>\n",
       "<table border=\"1\" class=\"dataframe\">\n",
       "  <thead>\n",
       "    <tr style=\"text-align: right;\">\n",
       "      <th></th>\n",
       "      <th>feed_key</th>\n",
       "      <th>stop_id</th>\n",
       "      <th>STOP_NAME</th>\n",
       "      <th>geometry</th>\n",
       "      <th>matched_stop_name</th>\n",
       "      <th>matched_stop_id</th>\n",
       "      <th>stop_name</th>\n",
       "      <th>sat_ons</th>\n",
       "      <th>sun_ons</th>\n",
       "      <th>weekday_ons</th>\n",
       "      <th>name</th>\n",
       "    </tr>\n",
       "  </thead>\n",
       "  <tbody>\n",
       "    <tr>\n",
       "      <th>0</th>\n",
       "      <td>52201caab047b98ae19b7547c0d7c2ad</td>\n",
       "      <td>1</td>\n",
       "      <td>Modoc &amp; Portesuello</td>\n",
       "      <td>POINT (25170.737 -398993.625)</td>\n",
       "      <td>Modoc/Portesuello</td>\n",
       "      <td>NaN</td>\n",
       "      <td>Modoc/Portesuello</td>\n",
       "      <td>1573.0</td>\n",
       "      <td>1287.0</td>\n",
       "      <td>13964.0</td>\n",
       "      <td>SBMTD Schedule</td>\n",
       "    </tr>\n",
       "    <tr>\n",
       "      <th>1</th>\n",
       "      <td>52201caab047b98ae19b7547c0d7c2ad</td>\n",
       "      <td>2</td>\n",
       "      <td>Milpas &amp; Montecito</td>\n",
       "      <td>POINT (29196.552 -399052.308)</td>\n",
       "      <td>Milpas/Montecito</td>\n",
       "      <td>NaN</td>\n",
       "      <td>Milpas/Montecito</td>\n",
       "      <td>3901.0</td>\n",
       "      <td>3139.0</td>\n",
       "      <td>30225.0</td>\n",
       "      <td>SBMTD Schedule</td>\n",
       "    </tr>\n",
       "    <tr>\n",
       "      <th>2</th>\n",
       "      <td>52201caab047b98ae19b7547c0d7c2ad</td>\n",
       "      <td>4</td>\n",
       "      <td>Cathedral Oaks &amp; Camino Del Rio</td>\n",
       "      <td>POINT (20247.563 -395908.292)</td>\n",
       "      <td>Cathedral Oaks/Camino Del Rio</td>\n",
       "      <td>NaN</td>\n",
       "      <td>Cathedral Oaks/Camino Del Rio</td>\n",
       "      <td>NaN</td>\n",
       "      <td>NaN</td>\n",
       "      <td>1.0</td>\n",
       "      <td>SBMTD Schedule</td>\n",
       "    </tr>\n",
       "    <tr>\n",
       "      <th>3</th>\n",
       "      <td>52201caab047b98ae19b7547c0d7c2ad</td>\n",
       "      <td>5</td>\n",
       "      <td>Via Real &amp; Sandpiper MHP</td>\n",
       "      <td>POINT (42143.060 -400995.911)</td>\n",
       "      <td>Via Real/Sandpiper MHP</td>\n",
       "      <td>NaN</td>\n",
       "      <td>Via Real/Sandpiper MHP</td>\n",
       "      <td>217.0</td>\n",
       "      <td>109.0</td>\n",
       "      <td>1485.0</td>\n",
       "      <td>SBMTD Schedule</td>\n",
       "    </tr>\n",
       "    <tr>\n",
       "      <th>4</th>\n",
       "      <td>52201caab047b98ae19b7547c0d7c2ad</td>\n",
       "      <td>6</td>\n",
       "      <td>UCSB Elings Hall Outbound</td>\n",
       "      <td>POINT (14738.802 -400125.683)</td>\n",
       "      <td>UCSB Elings Hall Outbound</td>\n",
       "      <td>6</td>\n",
       "      <td>UCSB Elings Hall Outbound</td>\n",
       "      <td>1374.0</td>\n",
       "      <td>1199.0</td>\n",
       "      <td>9777.0</td>\n",
       "      <td>SBMTD Schedule</td>\n",
       "    </tr>\n",
       "    <tr>\n",
       "      <th>5</th>\n",
       "      <td>52201caab047b98ae19b7547c0d7c2ad</td>\n",
       "      <td>10</td>\n",
       "      <td>Anapamu &amp; Santa Barbara</td>\n",
       "      <td>POINT (27354.741 -398937.880)</td>\n",
       "      <td>Anapamu/Santa Barbara</td>\n",
       "      <td>NaN</td>\n",
       "      <td>Anapamu/Santa Barbara</td>\n",
       "      <td>238.0</td>\n",
       "      <td>164.0</td>\n",
       "      <td>1705.0</td>\n",
       "      <td>SBMTD Schedule</td>\n",
       "    </tr>\n",
       "    <tr>\n",
       "      <th>6</th>\n",
       "      <td>52201caab047b98ae19b7547c0d7c2ad</td>\n",
       "      <td>16</td>\n",
       "      <td>Seville &amp; Embarcadero Del Mar</td>\n",
       "      <td>POINT (13110.869 -400474.402)</td>\n",
       "      <td>Seville/Embarcadero Del Mar</td>\n",
       "      <td>NaN</td>\n",
       "      <td>Seville/Embarcadero Del Mar</td>\n",
       "      <td>197.0</td>\n",
       "      <td>242.0</td>\n",
       "      <td>1706.0</td>\n",
       "      <td>SBMTD Schedule</td>\n",
       "    </tr>\n",
       "    <tr>\n",
       "      <th>7</th>\n",
       "      <td>52201caab047b98ae19b7547c0d7c2ad</td>\n",
       "      <td>16</td>\n",
       "      <td>Seville &amp; Embarcadero Del Mar</td>\n",
       "      <td>POINT (13110.869 -400474.402)</td>\n",
       "      <td>Seville/Embarcadero Del Mar</td>\n",
       "      <td>NaN</td>\n",
       "      <td>Seville/Embarcadero Del Mar</td>\n",
       "      <td>53.0</td>\n",
       "      <td>73.0</td>\n",
       "      <td>1191.0</td>\n",
       "      <td>SBMTD Schedule</td>\n",
       "    </tr>\n",
       "    <tr>\n",
       "      <th>8</th>\n",
       "      <td>52201caab047b98ae19b7547c0d7c2ad</td>\n",
       "      <td>18</td>\n",
       "      <td>Embarcadero &amp; Sabado Tarde</td>\n",
       "      <td>POINT (13206.817 -400596.547)</td>\n",
       "      <td>Embarcadero/Sabado Tarde</td>\n",
       "      <td>NaN</td>\n",
       "      <td>Embarcadero/Sabado Tarde</td>\n",
       "      <td>254.0</td>\n",
       "      <td>326.0</td>\n",
       "      <td>2763.0</td>\n",
       "      <td>SBMTD Schedule</td>\n",
       "    </tr>\n",
       "    <tr>\n",
       "      <th>9</th>\n",
       "      <td>52201caab047b98ae19b7547c0d7c2ad</td>\n",
       "      <td>18</td>\n",
       "      <td>Embarcadero &amp; Sabado Tarde</td>\n",
       "      <td>POINT (13206.817 -400596.547)</td>\n",
       "      <td>Embarcadero/Sabado Tarde</td>\n",
       "      <td>NaN</td>\n",
       "      <td>Embarcadero/Sabado Tarde</td>\n",
       "      <td>99.0</td>\n",
       "      <td>99.0</td>\n",
       "      <td>1279.0</td>\n",
       "      <td>SBMTD Schedule</td>\n",
       "    </tr>\n",
       "  </tbody>\n",
       "</table>\n",
       "</div>"
      ],
      "text/plain": [
       "                           feed_key stop_id                        STOP_NAME  \\\n",
       "0  52201caab047b98ae19b7547c0d7c2ad       1              Modoc & Portesuello   \n",
       "1  52201caab047b98ae19b7547c0d7c2ad       2               Milpas & Montecito   \n",
       "2  52201caab047b98ae19b7547c0d7c2ad       4  Cathedral Oaks & Camino Del Rio   \n",
       "3  52201caab047b98ae19b7547c0d7c2ad       5         Via Real & Sandpiper MHP   \n",
       "4  52201caab047b98ae19b7547c0d7c2ad       6        UCSB Elings Hall Outbound   \n",
       "5  52201caab047b98ae19b7547c0d7c2ad      10          Anapamu & Santa Barbara   \n",
       "6  52201caab047b98ae19b7547c0d7c2ad      16    Seville & Embarcadero Del Mar   \n",
       "7  52201caab047b98ae19b7547c0d7c2ad      16    Seville & Embarcadero Del Mar   \n",
       "8  52201caab047b98ae19b7547c0d7c2ad      18       Embarcadero & Sabado Tarde   \n",
       "9  52201caab047b98ae19b7547c0d7c2ad      18       Embarcadero & Sabado Tarde   \n",
       "\n",
       "                        geometry              matched_stop_name  \\\n",
       "0  POINT (25170.737 -398993.625)              Modoc/Portesuello   \n",
       "1  POINT (29196.552 -399052.308)               Milpas/Montecito   \n",
       "2  POINT (20247.563 -395908.292)  Cathedral Oaks/Camino Del Rio   \n",
       "3  POINT (42143.060 -400995.911)         Via Real/Sandpiper MHP   \n",
       "4  POINT (14738.802 -400125.683)      UCSB Elings Hall Outbound   \n",
       "5  POINT (27354.741 -398937.880)          Anapamu/Santa Barbara   \n",
       "6  POINT (13110.869 -400474.402)    Seville/Embarcadero Del Mar   \n",
       "7  POINT (13110.869 -400474.402)    Seville/Embarcadero Del Mar   \n",
       "8  POINT (13206.817 -400596.547)       Embarcadero/Sabado Tarde   \n",
       "9  POINT (13206.817 -400596.547)       Embarcadero/Sabado Tarde   \n",
       "\n",
       "  matched_stop_id                      stop_name  sat_ons  sun_ons  \\\n",
       "0             NaN              Modoc/Portesuello   1573.0   1287.0   \n",
       "1             NaN               Milpas/Montecito   3901.0   3139.0   \n",
       "2             NaN  Cathedral Oaks/Camino Del Rio      NaN      NaN   \n",
       "3             NaN         Via Real/Sandpiper MHP    217.0    109.0   \n",
       "4               6      UCSB Elings Hall Outbound   1374.0   1199.0   \n",
       "5             NaN          Anapamu/Santa Barbara    238.0    164.0   \n",
       "6             NaN    Seville/Embarcadero Del Mar    197.0    242.0   \n",
       "7             NaN    Seville/Embarcadero Del Mar     53.0     73.0   \n",
       "8             NaN       Embarcadero/Sabado Tarde    254.0    326.0   \n",
       "9             NaN       Embarcadero/Sabado Tarde     99.0     99.0   \n",
       "\n",
       "   weekday_ons            name  \n",
       "0      13964.0  SBMTD Schedule  \n",
       "1      30225.0  SBMTD Schedule  \n",
       "2          1.0  SBMTD Schedule  \n",
       "3       1485.0  SBMTD Schedule  \n",
       "4       9777.0  SBMTD Schedule  \n",
       "5       1705.0  SBMTD Schedule  \n",
       "6       1706.0  SBMTD Schedule  \n",
       "7       1191.0  SBMTD Schedule  \n",
       "8       2763.0  SBMTD Schedule  \n",
       "9       1279.0  SBMTD Schedule  "
      ]
     },
     "execution_count": 28,
     "metadata": {},
     "output_type": "execute_result"
    }
   ],
   "source": [
    "final_join.head(10)"
   ]
  },
  {
   "cell_type": "code",
   "execution_count": 29,
   "id": "d7e5964f-79bf-42de-a1cb-942f2cda8f67",
   "metadata": {},
   "outputs": [],
   "source": [
    "strings_to_drop = ['Fairview Ave/Encina Road', 'Encina/Fairview 164']"
   ]
  },
  {
   "cell_type": "code",
   "execution_count": 30,
   "id": "4c26c17f-5c37-4ab3-91e9-f31cf2389000",
   "metadata": {},
   "outputs": [],
   "source": [
    "final_join = final_join[~final_join['stop_name'].str.contains('|'.join(strings_to_drop))]"
   ]
  },
  {
   "cell_type": "code",
   "execution_count": 31,
   "id": "f88219b8-d47e-43e7-97b8-5d7227e904b1",
   "metadata": {},
   "outputs": [
    {
     "name": "stdout",
     "output_type": "stream",
     "text": [
      "<class 'geopandas.geodataframe.GeoDataFrame'>\n",
      "Int64Index: 600 entries, 0 to 601\n",
      "Data columns (total 11 columns):\n",
      " #   Column             Non-Null Count  Dtype   \n",
      "---  ------             --------------  -----   \n",
      " 0   feed_key           600 non-null    object  \n",
      " 1   stop_id            600 non-null    object  \n",
      " 2   STOP_NAME          600 non-null    object  \n",
      " 3   geometry           600 non-null    geometry\n",
      " 4   matched_stop_name  600 non-null    object  \n",
      " 5   matched_stop_id    26 non-null     object  \n",
      " 6   stop_name          600 non-null    object  \n",
      " 7   sat_ons            498 non-null    float64 \n",
      " 8   sun_ons            464 non-null    float64 \n",
      " 9   weekday_ons        600 non-null    float64 \n",
      " 10  name               600 non-null    object  \n",
      "dtypes: float64(3), geometry(1), object(7)\n",
      "memory usage: 56.2+ KB\n"
     ]
    }
   ],
   "source": [
    "final_join.info()"
   ]
  },
  {
   "cell_type": "code",
   "execution_count": 32,
   "id": "67ec195f-84a8-4c65-83c2-7a85bbda22d4",
   "metadata": {},
   "outputs": [
    {
     "data": {
      "text/plain": [
       "149"
      ]
     },
     "execution_count": 32,
     "metadata": {},
     "output_type": "execute_result"
    }
   ],
   "source": [
    "stops_remainder = (\n",
    "    stops_to_join\n",
    "    >> anti_join(_, yr_sbmtd_grouped_updated, on=['feed_key', 'stop_id'])\n",
    ")\n",
    "\n",
    "len(stops_remainder)"
   ]
  },
  {
   "cell_type": "code",
   "execution_count": 33,
   "id": "1225423d-148b-496e-88d8-6fdf842ff037",
   "metadata": {},
   "outputs": [
    {
     "data": {
      "text/plain": [
       "153"
      ]
     },
     "execution_count": 33,
     "metadata": {},
     "output_type": "execute_result"
    }
   ],
   "source": [
    "yr_sbmtd_remainders = (yr_sbmtd_grouped_updated \n",
    "    >> anti_join(_, stops_to_join, on = ['feed_key', 'stop_id'])\n",
    "                    )\n",
    "\n",
    "len(yr_sbmtd_remainders)"
   ]
  },
  {
   "cell_type": "code",
   "execution_count": 34,
   "id": "6f61e55f-8e69-4e5f-ba51-a967e56c68cd",
   "metadata": {},
   "outputs": [],
   "source": [
    "columns_to_keep = ['feed_key', 'stop_id', 'STOP_NAME', 'geometry', 'sat_ons', 'sun_ons', 'weekday_ons', 'name']\n",
    "final_join = final_join[columns_to_keep]"
   ]
  },
  {
   "cell_type": "code",
   "execution_count": 35,
   "id": "a679b398-b994-4a41-a5bd-f60f1f32d1ce",
   "metadata": {},
   "outputs": [
    {
     "data": {
      "text/html": [
       "<div>\n",
       "<style scoped>\n",
       "    .dataframe tbody tr th:only-of-type {\n",
       "        vertical-align: middle;\n",
       "    }\n",
       "\n",
       "    .dataframe tbody tr th {\n",
       "        vertical-align: top;\n",
       "    }\n",
       "\n",
       "    .dataframe thead th {\n",
       "        text-align: right;\n",
       "    }\n",
       "</style>\n",
       "<table border=\"1\" class=\"dataframe\">\n",
       "  <thead>\n",
       "    <tr style=\"text-align: right;\">\n",
       "      <th></th>\n",
       "      <th>feed_key</th>\n",
       "      <th>stop_id</th>\n",
       "      <th>STOP_NAME</th>\n",
       "      <th>geometry</th>\n",
       "      <th>sat_ons</th>\n",
       "      <th>sun_ons</th>\n",
       "      <th>weekday_ons</th>\n",
       "      <th>name</th>\n",
       "    </tr>\n",
       "  </thead>\n",
       "  <tbody>\n",
       "    <tr>\n",
       "      <th>0</th>\n",
       "      <td>52201caab047b98ae19b7547c0d7c2ad</td>\n",
       "      <td>1</td>\n",
       "      <td>Modoc &amp; Portesuello</td>\n",
       "      <td>POINT (25170.737 -398993.625)</td>\n",
       "      <td>1573.0</td>\n",
       "      <td>1287.0</td>\n",
       "      <td>13964.0</td>\n",
       "      <td>SBMTD Schedule</td>\n",
       "    </tr>\n",
       "    <tr>\n",
       "      <th>1</th>\n",
       "      <td>52201caab047b98ae19b7547c0d7c2ad</td>\n",
       "      <td>2</td>\n",
       "      <td>Milpas &amp; Montecito</td>\n",
       "      <td>POINT (29196.552 -399052.308)</td>\n",
       "      <td>3901.0</td>\n",
       "      <td>3139.0</td>\n",
       "      <td>30225.0</td>\n",
       "      <td>SBMTD Schedule</td>\n",
       "    </tr>\n",
       "    <tr>\n",
       "      <th>2</th>\n",
       "      <td>52201caab047b98ae19b7547c0d7c2ad</td>\n",
       "      <td>4</td>\n",
       "      <td>Cathedral Oaks &amp; Camino Del Rio</td>\n",
       "      <td>POINT (20247.563 -395908.292)</td>\n",
       "      <td>NaN</td>\n",
       "      <td>NaN</td>\n",
       "      <td>1.0</td>\n",
       "      <td>SBMTD Schedule</td>\n",
       "    </tr>\n",
       "    <tr>\n",
       "      <th>3</th>\n",
       "      <td>52201caab047b98ae19b7547c0d7c2ad</td>\n",
       "      <td>5</td>\n",
       "      <td>Via Real &amp; Sandpiper MHP</td>\n",
       "      <td>POINT (42143.060 -400995.911)</td>\n",
       "      <td>217.0</td>\n",
       "      <td>109.0</td>\n",
       "      <td>1485.0</td>\n",
       "      <td>SBMTD Schedule</td>\n",
       "    </tr>\n",
       "  </tbody>\n",
       "</table>\n",
       "</div>"
      ],
      "text/plain": [
       "                           feed_key stop_id                        STOP_NAME  \\\n",
       "0  52201caab047b98ae19b7547c0d7c2ad       1              Modoc & Portesuello   \n",
       "1  52201caab047b98ae19b7547c0d7c2ad       2               Milpas & Montecito   \n",
       "2  52201caab047b98ae19b7547c0d7c2ad       4  Cathedral Oaks & Camino Del Rio   \n",
       "3  52201caab047b98ae19b7547c0d7c2ad       5         Via Real & Sandpiper MHP   \n",
       "\n",
       "                        geometry  sat_ons  sun_ons  weekday_ons  \\\n",
       "0  POINT (25170.737 -398993.625)   1573.0   1287.0      13964.0   \n",
       "1  POINT (29196.552 -399052.308)   3901.0   3139.0      30225.0   \n",
       "2  POINT (20247.563 -395908.292)      NaN      NaN          1.0   \n",
       "3  POINT (42143.060 -400995.911)    217.0    109.0       1485.0   \n",
       "\n",
       "             name  \n",
       "0  SBMTD Schedule  \n",
       "1  SBMTD Schedule  \n",
       "2  SBMTD Schedule  \n",
       "3  SBMTD Schedule  "
      ]
     },
     "execution_count": 35,
     "metadata": {},
     "output_type": "execute_result"
    }
   ],
   "source": [
    "final_join.head(4)"
   ]
  },
  {
   "cell_type": "code",
   "execution_count": 36,
   "id": "9e8aba70-c79a-4c75-bdca-1ea7cc6c6427",
   "metadata": {},
   "outputs": [],
   "source": [
    "final_join = final_join.rename(columns={'STOP_NAME': 'stop_name'})"
   ]
  },
  {
   "cell_type": "code",
   "execution_count": 37,
   "id": "60b1712e-bc8f-40ca-ba50-ff0fb740af1a",
   "metadata": {},
   "outputs": [],
   "source": [
    "GCS_FILE_PATH  = 'gs://calitp-analytics-data/data-analyses/ahsc_grant'\n",
    "final_join.to_parquet(f\"{GCS_FILE_PATH}/ridership_sbmtd_08_26_2024.parquet\")"
   ]
  }
 ],
 "metadata": {
  "kernelspec": {
   "display_name": "Python 3 (ipykernel)",
   "language": "python",
   "name": "python3"
  },
  "language_info": {
   "codemirror_mode": {
    "name": "ipython",
    "version": 3
   },
   "file_extension": ".py",
   "mimetype": "text/x-python",
   "name": "python",
   "nbconvert_exporter": "python",
   "pygments_lexer": "ipython3",
   "version": "3.9.13"
  }
 },
 "nbformat": 4,
 "nbformat_minor": 5
}
