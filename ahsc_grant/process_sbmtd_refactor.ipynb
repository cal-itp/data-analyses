{
 "cells": [
  {
   "cell_type": "code",
   "execution_count": 1,
   "id": "ad9687fb-d427-4b28-9edb-48e3792e6124",
   "metadata": {},
   "outputs": [
    {
     "name": "stdout",
     "output_type": "stream",
     "text": [
      "Requirement already satisfied: shared_utils in /home/jovyan/data-analyses/_shared_utils (2.5)\n",
      "Note: you may need to restart the kernel to use updated packages.\n"
     ]
    }
   ],
   "source": [
    "pip install shared_utils"
   ]
  },
  {
   "cell_type": "code",
   "execution_count": 2,
   "id": "b3a3667c-b23f-4136-bae9-a58286b8b16a",
   "metadata": {},
   "outputs": [],
   "source": [
    "import os\n",
    "os.environ[\"CALITP_BQ_MAX_BYTES\"] = str(800_000_000_000)\n",
    "\n",
    "import branca\n",
    "import folium\n",
    "from shared_utils import gtfs_utils_v2\n",
    "\n",
    "from siuba import *\n",
    "import pandas as pd\n",
    "import geopandas as gpd \n",
    "\n",
    "import datetime as dt\n",
    "import time\n",
    "\n",
    "import seaborn as sns\n",
    "import matplotlib.pyplot as plt"
   ]
  },
  {
   "cell_type": "code",
   "execution_count": 3,
   "id": "c187a09f-1914-435a-ba2b-54c836aa1d34",
   "metadata": {},
   "outputs": [],
   "source": [
    "import sys\n",
    "sys.path.append('../rt_segment_speeds/segment_speed_utils')\n",
    "\n",
    "from helpers import *"
   ]
  },
  {
   "cell_type": "code",
   "execution_count": 4,
   "id": "e585de4e-ed3b-46a2-9298-b6c82374d444",
   "metadata": {},
   "outputs": [],
   "source": [
    "analysis_date = \"2022-03-15\"\n",
    "agency_name = \"SBMTD\""
   ]
  },
  {
   "cell_type": "code",
   "execution_count": 5,
   "id": "18eeb689-320a-49dd-930d-6ece7ed108a5",
   "metadata": {},
   "outputs": [],
   "source": [
    "get_trips = import_scheduled_trips(analysis_date=analysis_date, columns =[\n",
    "        \"gtfs_dataset_key\", \"feed_key\", \"name\", \"trip_id\", \n",
    "        \"shape_id\", \"shape_array_key\", \n",
    "        \"route_id\", \"route_key\", \"direction_id\"\n",
    "    ], get_pandas=True)"
   ]
  },
  {
   "cell_type": "code",
   "execution_count": 6,
   "id": "693e9a3e-d48e-433d-a064-e8390ea00035",
   "metadata": {},
   "outputs": [],
   "source": [
    "def compute_feed_key(agency_name):\n",
    "    filtered = get_trips[get_trips['name'].str.contains(agency_name, na=False)]\n",
    "    if not filtered.empty:\n",
    "        return filtered.iloc[0]['feed_key']\n",
    "    else:\n",
    "        return None"
   ]
  },
  {
   "cell_type": "code",
   "execution_count": 7,
   "id": "e2a2f873-5f6b-47ae-9497-399b11688052",
   "metadata": {},
   "outputs": [],
   "source": [
    "feed_key = compute_feed_key(agency_name)"
   ]
  },
  {
   "cell_type": "code",
   "execution_count": 8,
   "id": "96660be6-8b4b-4c34-b9a4-f08dc4e6724f",
   "metadata": {},
   "outputs": [],
   "source": [
    "stops_data = import_scheduled_stops(analysis_date).drop_duplicates().reset_index(drop=True)\n",
    "if feed_key is not None:\n",
    "    stops_data = stops_data[stops_data['feed_key'].isin([feed_key])]"
   ]
  },
  {
   "cell_type": "code",
   "execution_count": 9,
   "id": "922d765d-cdfc-42d1-8d49-048f13b54498",
   "metadata": {},
   "outputs": [],
   "source": [
    "GCS_FILE_PATH = 'gs://calitp-analytics-data/data-analyses/ahsc_grant/'\n",
    "yr_sbmtd_raw = pd.read_excel(f'{GCS_FILE_PATH}SYSTEM WIDE STOP USAGE FY21-22.xlsx', sheet_name=None)"
   ]
  },
  {
   "cell_type": "code",
   "execution_count": 10,
   "id": "22e787d0-9b33-4eab-9e32-530e22d690ef",
   "metadata": {
    "tags": []
   },
   "outputs": [
    {
     "data": {
      "text/plain": [
       "0       WKDY\n",
       "1       WKDY\n",
       "2       WKDY\n",
       "3       WKDY\n",
       "4       WKDY\n",
       "        ... \n",
       "2210    WKDY\n",
       "2211    WKDY\n",
       "2212    WKDY\n",
       "2213    WKDY\n",
       "2214    WKDY\n",
       "Name: daytype, Length: 2215, dtype: object"
      ]
     },
     "execution_count": 10,
     "metadata": {},
     "output_type": "execute_result"
    }
   ],
   "source": [
    "for key, value in yr_sbmtd_raw.items():\n",
    "    value['daytype'] = f'{key}'\n",
    "\n",
    "list(yr_sbmtd_raw.values()) [0]['daytype']"
   ]
  },
  {
   "cell_type": "code",
   "execution_count": 11,
   "id": "c1ba2a9f-cbb4-4874-a7f2-572c468489d5",
   "metadata": {},
   "outputs": [],
   "source": [
    "yr_sbmtd_all = pd.concat(yr_sbmtd_raw, ignore_index=True)"
   ]
  },
  {
   "cell_type": "code",
   "execution_count": 12,
   "id": "91a83f4c-86f5-4daf-9c9a-8f4e44b06432",
   "metadata": {},
   "outputs": [],
   "source": [
    "# standardize stop ids\n",
    "day_cols = {'WKDY': 'weekday_ons', 'SAT': 'sat_ons', 'SUN': 'sun_ons'}\n",
    "\n",
    "yr_sbmtd_all = (yr_sbmtd_all\n",
    "                 >> mutate(STOP_ID_clean = if_else(_.STOP_ID!=99999,_.STOP_ID,_.STOP_ID_NEAR),\n",
    "                           DAY_TYPE = _.daytype.apply(lambda x: day_cols[x]))\n",
    "               )\n"
   ]
  },
  {
   "cell_type": "code",
   "execution_count": 13,
   "id": "1cb016a0-1b98-4925-a411-9438bdf1de0c",
   "metadata": {},
   "outputs": [],
   "source": [
    "name_id_dict = (yr_sbmtd_all \n",
    "                >> distinct(_.STOP_ID_clean,_.STOP_NAME)\n",
    "                >> arrange(_.STOP_ID_clean,_.STOP_NAME)\n",
    "                >> filter(_.STOP_NAME.notna()) #this expression drops NAs\n",
    "                >> rename(STOP_NAME_clean = \"STOP_NAME\")\n",
    "               )"
   ]
  },
  {
   "cell_type": "code",
   "execution_count": 14,
   "id": "be29dc6f-1b93-4856-85e3-104bed466cbd",
   "metadata": {},
   "outputs": [
    {
     "data": {
      "text/html": [
       "<div>\n",
       "<style scoped>\n",
       "    .dataframe tbody tr th:only-of-type {\n",
       "        vertical-align: middle;\n",
       "    }\n",
       "\n",
       "    .dataframe tbody tr th {\n",
       "        vertical-align: top;\n",
       "    }\n",
       "\n",
       "    .dataframe thead th {\n",
       "        text-align: right;\n",
       "    }\n",
       "</style>\n",
       "<table border=\"1\" class=\"dataframe\">\n",
       "  <thead>\n",
       "    <tr style=\"text-align: right;\">\n",
       "      <th></th>\n",
       "      <th>STOP_ID_clean</th>\n",
       "      <th>STOP_NAME_clean</th>\n",
       "      <th>DAY_TYPE</th>\n",
       "      <th>stop_total_ons</th>\n",
       "    </tr>\n",
       "  </thead>\n",
       "  <tbody>\n",
       "    <tr>\n",
       "      <th>0</th>\n",
       "      <td>-51</td>\n",
       "      <td>Pacific Oaks/Phelps</td>\n",
       "      <td>sat_ons</td>\n",
       "      <td>0</td>\n",
       "    </tr>\n",
       "    <tr>\n",
       "      <th>1</th>\n",
       "      <td>-51</td>\n",
       "      <td>Pacific Oaks/Phelps</td>\n",
       "      <td>sun_ons</td>\n",
       "      <td>0</td>\n",
       "    </tr>\n",
       "    <tr>\n",
       "      <th>2</th>\n",
       "      <td>-51</td>\n",
       "      <td>Pacific Oaks/Phelps</td>\n",
       "      <td>weekday_ons</td>\n",
       "      <td>2</td>\n",
       "    </tr>\n",
       "    <tr>\n",
       "      <th>3</th>\n",
       "      <td>-49</td>\n",
       "      <td>Pueblo/Castillo Out</td>\n",
       "      <td>sat_ons</td>\n",
       "      <td>116</td>\n",
       "    </tr>\n",
       "    <tr>\n",
       "      <th>4</th>\n",
       "      <td>-49</td>\n",
       "      <td>Pueblo/Castillo Out</td>\n",
       "      <td>sun_ons</td>\n",
       "      <td>109</td>\n",
       "    </tr>\n",
       "  </tbody>\n",
       "</table>\n",
       "</div>"
      ],
      "text/plain": [
       "   STOP_ID_clean      STOP_NAME_clean     DAY_TYPE  stop_total_ons\n",
       "0            -51  Pacific Oaks/Phelps      sat_ons               0\n",
       "1            -51  Pacific Oaks/Phelps      sun_ons               0\n",
       "2            -51  Pacific Oaks/Phelps  weekday_ons               2\n",
       "3            -49  Pueblo/Castillo Out      sat_ons             116\n",
       "4            -49  Pueblo/Castillo Out      sun_ons             109"
      ]
     },
     "execution_count": 14,
     "metadata": {},
     "output_type": "execute_result"
    }
   ],
   "source": [
    "yr_sbmtd_grouped = (yr_sbmtd_all\n",
    "                >> left_join(_,name_id_dict)    \n",
    "                >> group_by(_.STOP_ID_clean,_.STOP_NAME_clean, _.DAY_TYPE)\n",
    "                >> summarize(stop_total_ons = _.XBOARDINGS.sum())\n",
    "                )\n",
    "\n",
    "yr_sbmtd_grouped >> head(5)"
   ]
  },
  {
   "cell_type": "code",
   "execution_count": 15,
   "id": "e7d5f69d-f20d-461f-bd1d-fef4b9211f64",
   "metadata": {},
   "outputs": [
    {
     "data": {
      "text/html": [
       "<div>\n",
       "<style scoped>\n",
       "    .dataframe tbody tr th:only-of-type {\n",
       "        vertical-align: middle;\n",
       "    }\n",
       "\n",
       "    .dataframe tbody tr th {\n",
       "        vertical-align: top;\n",
       "    }\n",
       "\n",
       "    .dataframe thead th {\n",
       "        text-align: right;\n",
       "    }\n",
       "</style>\n",
       "<table border=\"1\" class=\"dataframe\">\n",
       "  <thead>\n",
       "    <tr style=\"text-align: right;\">\n",
       "      <th></th>\n",
       "      <th>stop_id</th>\n",
       "      <th>STOP_NAME_clean</th>\n",
       "      <th>sat_ons</th>\n",
       "      <th>sun_ons</th>\n",
       "      <th>weekday_ons</th>\n",
       "      <th>feed_key</th>\n",
       "    </tr>\n",
       "  </thead>\n",
       "  <tbody>\n",
       "    <tr>\n",
       "      <th>0</th>\n",
       "      <td>-1</td>\n",
       "      <td>Hollister/Sumida</td>\n",
       "      <td>319.0</td>\n",
       "      <td>381.0</td>\n",
       "      <td>3926.0</td>\n",
       "      <td>52201caab047b98ae19b7547c0d7c2ad</td>\n",
       "    </tr>\n",
       "    <tr>\n",
       "      <th>1</th>\n",
       "      <td>-10</td>\n",
       "      <td>Hollister/Robin Hill</td>\n",
       "      <td>29.0</td>\n",
       "      <td>13.0</td>\n",
       "      <td>173.0</td>\n",
       "      <td>52201caab047b98ae19b7547c0d7c2ad</td>\n",
       "    </tr>\n",
       "    <tr>\n",
       "      <th>2</th>\n",
       "      <td>-11</td>\n",
       "      <td>Hollister/Willow Springs</td>\n",
       "      <td>78.0</td>\n",
       "      <td>80.0</td>\n",
       "      <td>658.0</td>\n",
       "      <td>52201caab047b98ae19b7547c0d7c2ad</td>\n",
       "    </tr>\n",
       "    <tr>\n",
       "      <th>3</th>\n",
       "      <td>-12</td>\n",
       "      <td>Hollister/Los Carneros Way</td>\n",
       "      <td>40.0</td>\n",
       "      <td>22.0</td>\n",
       "      <td>396.0</td>\n",
       "      <td>52201caab047b98ae19b7547c0d7c2ad</td>\n",
       "    </tr>\n",
       "    <tr>\n",
       "      <th>4</th>\n",
       "      <td>-13</td>\n",
       "      <td>Hollister/Cremona</td>\n",
       "      <td>49.0</td>\n",
       "      <td>43.0</td>\n",
       "      <td>659.0</td>\n",
       "      <td>52201caab047b98ae19b7547c0d7c2ad</td>\n",
       "    </tr>\n",
       "  </tbody>\n",
       "</table>\n",
       "</div>"
      ],
      "text/plain": [
       "  stop_id             STOP_NAME_clean  sat_ons  sun_ons  weekday_ons  \\\n",
       "0      -1            Hollister/Sumida    319.0    381.0       3926.0   \n",
       "1     -10        Hollister/Robin Hill     29.0     13.0        173.0   \n",
       "2     -11    Hollister/Willow Springs     78.0     80.0        658.0   \n",
       "3     -12  Hollister/Los Carneros Way     40.0     22.0        396.0   \n",
       "4     -13           Hollister/Cremona     49.0     43.0        659.0   \n",
       "\n",
       "                           feed_key  \n",
       "0  52201caab047b98ae19b7547c0d7c2ad  \n",
       "1  52201caab047b98ae19b7547c0d7c2ad  \n",
       "2  52201caab047b98ae19b7547c0d7c2ad  \n",
       "3  52201caab047b98ae19b7547c0d7c2ad  \n",
       "4  52201caab047b98ae19b7547c0d7c2ad  "
      ]
     },
     "execution_count": 15,
     "metadata": {},
     "output_type": "execute_result"
    }
   ],
   "source": [
    "yr_sbmtd_grouped = (yr_sbmtd_grouped\n",
    "                     >> mutate(STOP_ID_clean = _.STOP_ID_clean.astype(str))\n",
    "                     >> rename(stop_id = _.STOP_ID_clean)\n",
    "                     >> spread(\"DAY_TYPE\", \"stop_total_ons\")\n",
    "                     >> mutate(feed_key = feed_key)\n",
    "                    )\n",
    "\n",
    "yr_sbmtd_grouped >> head (5)"
   ]
  },
  {
   "cell_type": "code",
   "execution_count": 16,
   "id": "de9e653d-8873-4c18-b113-8ab316041780",
   "metadata": {},
   "outputs": [],
   "source": [
    "stops_to_join = (stops_data\n",
    "                 >> select(_.feed_key, _.stop_id, _.stop_name, _.geometry)\n",
    "                )"
   ]
  },
  {
   "cell_type": "code",
   "execution_count": 17,
   "id": "4c30d984-c5ec-49e8-b498-f41f4ee1770f",
   "metadata": {},
   "outputs": [],
   "source": [
    "yr_sbmtd_geo_code = stops_to_join >> inner_join(_, yr_sbmtd_grouped, on = ['feed_key', 'stop_id'])"
   ]
  },
  {
   "cell_type": "code",
   "execution_count": 18,
   "id": "35d862cf-560f-43a9-826a-d5cfd2b54944",
   "metadata": {},
   "outputs": [
    {
     "name": "stdout",
     "output_type": "stream",
     "text": [
      "<class 'geopandas.geodataframe.GeoDataFrame'>\n",
      "Int64Index: 336 entries, 0 to 335\n",
      "Data columns (total 8 columns):\n",
      " #   Column           Non-Null Count  Dtype   \n",
      "---  ------           --------------  -----   \n",
      " 0   feed_key         336 non-null    object  \n",
      " 1   stop_id          336 non-null    object  \n",
      " 2   stop_name        336 non-null    object  \n",
      " 3   geometry         336 non-null    geometry\n",
      " 4   STOP_NAME_clean  336 non-null    object  \n",
      " 5   sat_ons          282 non-null    float64 \n",
      " 6   sun_ons          275 non-null    float64 \n",
      " 7   weekday_ons      336 non-null    float64 \n",
      "dtypes: float64(3), geometry(1), object(4)\n",
      "memory usage: 23.6+ KB\n"
     ]
    }
   ],
   "source": [
    "yr_sbmtd_geo_code.info() "
   ]
  },
  {
   "cell_type": "code",
   "execution_count": 19,
   "id": "328d98c1-d89a-4780-96cd-60e99948a346",
   "metadata": {},
   "outputs": [
    {
     "data": {
      "text/plain": [
       "271"
      ]
     },
     "execution_count": 19,
     "metadata": {},
     "output_type": "execute_result"
    }
   ],
   "source": [
    "stops_remainder = (stops_to_join \n",
    "    >> anti_join(_, yr_sbmtd_grouped, on = ['feed_key', 'stop_id'])\n",
    "                    )\n",
    "\n",
    "len(stops_remainder)"
   ]
  },
  {
   "cell_type": "code",
   "execution_count": 21,
   "id": "1225423d-148b-496e-88d8-6fdf842ff037",
   "metadata": {},
   "outputs": [
    {
     "data": {
      "text/plain": [
       "419"
      ]
     },
     "execution_count": 21,
     "metadata": {},
     "output_type": "execute_result"
    }
   ],
   "source": [
    "yr_sbmtd_remainders = (yr_sbmtd_grouped \n",
    "    >> anti_join(_, stops_to_join, on = ['feed_key', 'stop_id'])\n",
    "                    )\n",
    "\n",
    "len(yr_sbmtd_remainders)"
   ]
  },
  {
   "cell_type": "code",
   "execution_count": null,
   "id": "60b1712e-bc8f-40ca-ba50-ff0fb740af1a",
   "metadata": {},
   "outputs": [],
   "source": []
  }
 ],
 "metadata": {
  "kernelspec": {
   "display_name": "Python 3 (ipykernel)",
   "language": "python",
   "name": "python3"
  },
  "language_info": {
   "codemirror_mode": {
    "name": "ipython",
    "version": 3
   },
   "file_extension": ".py",
   "mimetype": "text/x-python",
   "name": "python",
   "nbconvert_exporter": "python",
   "pygments_lexer": "ipython3",
   "version": "3.9.13"
  }
 },
 "nbformat": 4,
 "nbformat_minor": 5
}
