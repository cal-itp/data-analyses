{
 "cells": [
  {
   "cell_type": "code",
   "execution_count": 1,
   "id": "ad9687fb-d427-4b28-9edb-48e3792e6124",
   "metadata": {},
   "outputs": [
    {
     "name": "stdout",
     "output_type": "stream",
     "text": [
      "Requirement already satisfied: shared_utils in /home/jovyan/data-analyses/_shared_utils (4.2)\n",
      "Note: you may need to restart the kernel to use updated packages.\n"
     ]
    }
   ],
   "source": [
    "pip install shared_utils"
   ]
  },
  {
   "cell_type": "code",
   "execution_count": 2,
   "id": "34c771c1-79be-4094-a428-e111cbe4bce4",
   "metadata": {},
   "outputs": [
    {
     "name": "stdout",
     "output_type": "stream",
     "text": [
      "Requirement already satisfied: fuzzywuzzy in /opt/conda/lib/python3.11/site-packages (0.18.0)\n",
      "Note: you may need to restart the kernel to use updated packages.\n"
     ]
    }
   ],
   "source": [
    "pip install fuzzywuzzy"
   ]
  },
  {
   "cell_type": "code",
   "execution_count": 3,
   "id": "c634a3a4-ef9f-4c63-ba50-8f51692e09b2",
   "metadata": {},
   "outputs": [
    {
     "name": "stderr",
     "output_type": "stream",
     "text": [
      "/opt/conda/lib/python3.11/site-packages/fuzzywuzzy/fuzz.py:11: UserWarning: Using slow pure-python SequenceMatcher. Install python-Levenshtein to remove this warning\n",
      "  warnings.warn('Using slow pure-python SequenceMatcher. Install python-Levenshtein to remove this warning')\n"
     ]
    }
   ],
   "source": [
    "from fuzzywuzzy import process, fuzz"
   ]
  },
  {
   "cell_type": "code",
   "execution_count": 4,
   "id": "b3a3667c-b23f-4136-bae9-a58286b8b16a",
   "metadata": {},
   "outputs": [],
   "source": [
    "import os\n",
    "os.environ[\"CALITP_BQ_MAX_BYTES\"] = str(800_000_000_000)\n",
    "\n",
    "import branca\n",
    "import folium\n",
    "from shared_utils import gtfs_utils_v2\n",
    "\n",
    "import pandas as pd\n",
    "import geopandas as gpd \n",
    "\n",
    "import datetime as dt\n",
    "import time\n",
    "\n",
    "import seaborn as sns\n",
    "import matplotlib.pyplot as plt"
   ]
  },
  {
   "cell_type": "code",
   "execution_count": 5,
   "id": "c187a09f-1914-435a-ba2b-54c836aa1d34",
   "metadata": {},
   "outputs": [],
   "source": [
    "import sys\n",
    "sys.path.append('../rt_segment_speeds/segment_speed_utils')\n",
    "\n",
    "from helpers import *"
   ]
  },
  {
   "cell_type": "code",
   "execution_count": 6,
   "id": "e585de4e-ed3b-46a2-9298-b6c82374d444",
   "metadata": {},
   "outputs": [],
   "source": [
    "#Selecting analysis date and agency\n",
    "analysis_date = \"2022-03-15\"\n",
    "agency_name = \"SBMTD\""
   ]
  },
  {
   "cell_type": "code",
   "execution_count": 7,
   "id": "18eeb689-320a-49dd-930d-6ece7ed108a5",
   "metadata": {},
   "outputs": [],
   "source": [
    "#Getting GTFS trips data \n",
    "get_trips = import_scheduled_trips(analysis_date=analysis_date, columns =[\n",
    "        \"gtfs_dataset_key\", \"feed_key\", \"name\", \"trip_id\", \n",
    "        \"shape_id\", \"shape_array_key\", \n",
    "        \"route_id\", \"route_key\", \"direction_id\"\n",
    "    ], get_pandas=True)"
   ]
  },
  {
   "cell_type": "code",
   "execution_count": 8,
   "id": "693e9a3e-d48e-433d-a064-e8390ea00035",
   "metadata": {},
   "outputs": [],
   "source": [
    "#Function to find feed key for the selected agency \n",
    "def compute_feed_key(agency_name):\n",
    "    filtered = get_trips[get_trips['name'].str.contains(agency_name, na=False)]\n",
    "    if not filtered.empty:\n",
    "        return filtered.iloc[0]['feed_key']\n",
    "    else:\n",
    "        return None"
   ]
  },
  {
   "cell_type": "code",
   "execution_count": 9,
   "id": "e2a2f873-5f6b-47ae-9497-399b11688052",
   "metadata": {},
   "outputs": [],
   "source": [
    "feed_key = compute_feed_key(agency_name)"
   ]
  },
  {
   "cell_type": "code",
   "execution_count": 10,
   "id": "96660be6-8b4b-4c34-b9a4-f08dc4e6724f",
   "metadata": {},
   "outputs": [],
   "source": [
    "#Getting stops data for the selected feed key\n",
    "stops_data = import_scheduled_stops(analysis_date).drop_duplicates().reset_index(drop=True)\n",
    "if feed_key is not None:\n",
    "    stops_data = stops_data[stops_data['feed_key'].isin([feed_key])]"
   ]
  },
  {
   "cell_type": "code",
   "execution_count": 11,
   "id": "922d765d-cdfc-42d1-8d49-048f13b54498",
   "metadata": {},
   "outputs": [],
   "source": [
    "# Ridership information for selected agencies \n",
    "GCS_FILE_PATH = 'gs://calitp-analytics-data/data-analyses/ahsc_grant/'\n",
    "yr_sbmtd_raw = pd.read_excel(f'{GCS_FILE_PATH}SYSTEM WIDE STOP USAGE FY21-22.xlsx', sheet_name=None)"
   ]
  },
  {
   "cell_type": "code",
   "execution_count": 12,
   "id": "22e787d0-9b33-4eab-9e32-530e22d690ef",
   "metadata": {
    "tags": []
   },
   "outputs": [
    {
     "data": {
      "text/plain": [
       "0       WKDY\n",
       "1       WKDY\n",
       "2       WKDY\n",
       "3       WKDY\n",
       "4       WKDY\n",
       "        ... \n",
       "2210    WKDY\n",
       "2211    WKDY\n",
       "2212    WKDY\n",
       "2213    WKDY\n",
       "2214    WKDY\n",
       "Name: daytype, Length: 2215, dtype: object"
      ]
     },
     "execution_count": 12,
     "metadata": {},
     "output_type": "execute_result"
    }
   ],
   "source": [
    "# Assigning the key of each item in yr_sbmtd_raw to the 'daytype' field of its corresponding value\n",
    "for key, value in yr_sbmtd_raw.items():\n",
    "    value['daytype'] = f'{key}'\n",
    "\n",
    "list(yr_sbmtd_raw.values()) [0]['daytype']"
   ]
  },
  {
   "cell_type": "code",
   "execution_count": 13,
   "id": "c1ba2a9f-cbb4-4874-a7f2-572c468489d5",
   "metadata": {},
   "outputs": [],
   "source": [
    "# Concatenating all DataFrames in yr_sbmtd_raw into a single DataFrame, resetting the index.\n",
    "yr_sbmtd_all = pd.concat(yr_sbmtd_raw, ignore_index=True)"
   ]
  },
  {
   "cell_type": "code",
   "execution_count": 14,
   "id": "c437e7e9-34b8-4e42-a078-04f513585804",
   "metadata": {
    "tags": []
   },
   "outputs": [],
   "source": [
    "# Standardizing stop ids\n",
    "day_cols = {'WKDY': 'weekday_ons', 'SAT': 'sat_ons', 'SUN': 'sun_ons'}\n",
    "\n",
    "yr_sbmtd_all['STOP_ID_clean'] = yr_sbmtd_all.apply(\n",
    "    lambda row: row['STOP_ID'] if ['STOP_ID'] != 99999 else ['STOP_ID_NEAR'],\n",
    "    axis=1\n",
    ")\n",
    "yr_sbmtd_all['DAY_TYPE'] = yr_sbmtd_all['daytype'].map(day_cols)\n"
   ]
  },
  {
   "cell_type": "code",
   "execution_count": 15,
   "id": "9cb42c0d-13b4-4d1f-8b12-772fe2ea68da",
   "metadata": {
    "tags": []
   },
   "outputs": [
    {
     "name": "stdout",
     "output_type": "stream",
     "text": [
      "<class 'pandas.core.frame.DataFrame'>\n",
      "RangeIndex: 4425 entries, 0 to 4424\n",
      "Data columns (total 15 columns):\n",
      " #   Column           Non-Null Count  Dtype \n",
      "---  ------           --------------  ----- \n",
      " 0   ROUTE_NUMBER     4425 non-null   int64 \n",
      " 1   ROUTE_NAME       4425 non-null   object\n",
      " 2   DIRECTION_NAME   4425 non-null   object\n",
      " 3   ROUTE_DIRECTION  4425 non-null   object\n",
      " 4   STOP_NAME        3640 non-null   object\n",
      " 5   STOP_ID          4425 non-null   int64 \n",
      " 6   STOP_ID_NEAR     4425 non-null   int64 \n",
      " 7   XBOARDINGS       4425 non-null   int64 \n",
      " 8   XALIGHTINGS      4425 non-null   int64 \n",
      " 9   XWHEELCHAIRS     4425 non-null   int64 \n",
      " 10  XBICYCLES        4425 non-null   int64 \n",
      " 11  XTRIPS           4425 non-null   int64 \n",
      " 12  daytype          4425 non-null   object\n",
      " 13  STOP_ID_clean    4425 non-null   int64 \n",
      " 14  DAY_TYPE         4425 non-null   object\n",
      "dtypes: int64(9), object(6)\n",
      "memory usage: 518.7+ KB\n"
     ]
    }
   ],
   "source": [
    "yr_sbmtd_all.info()"
   ]
  },
  {
   "cell_type": "code",
   "execution_count": 16,
   "id": "c54d7cff-6096-4c0a-b653-16ce98495485",
   "metadata": {
    "tags": []
   },
   "outputs": [],
   "source": [
    "name_id_dict = yr_sbmtd_all[['STOP_ID_clean', 'STOP_NAME']].drop_duplicates()\n",
    "name_id_dict = name_id_dict[name_id_dict['STOP_NAME'].notna()]\n",
    "name_id_dict = name_id_dict.sort_values(by=['STOP_ID_clean', 'STOP_NAME'])\n",
    "name_id_dict = name_id_dict.rename(columns={'STOP_NAME': 'STOP_NAME_clean'})"
   ]
  },
  {
   "cell_type": "code",
   "execution_count": 17,
   "id": "8743deb1-b7ba-4b19-9ad5-9c33d6171696",
   "metadata": {
    "tags": []
   },
   "outputs": [],
   "source": [
    "yr_sbmtd_grouped = pd.merge(yr_sbmtd_all,\n",
    "                            name_id_dict,\n",
    "                            how = 'left',\n",
    "                            on = 'STOP_ID_clean'\n",
    "                           )\n"
   ]
  },
  {
   "cell_type": "code",
   "execution_count": 18,
   "id": "2eff1834-31e8-47b3-9ab9-7810f4e2c5ec",
   "metadata": {
    "tags": []
   },
   "outputs": [],
   "source": [
    "yr_sbmtd_grouped = yr_sbmtd_grouped.groupby(\n",
    "    ['STOP_ID_clean', 'STOP_NAME_clean', 'DAY_TYPE'],\n",
    "    as_index=False\n",
    ")['XBOARDINGS'].sum()"
   ]
  },
  {
   "cell_type": "code",
   "execution_count": 19,
   "id": "377bab51-fcb7-443a-bfa0-ac72fa1747c7",
   "metadata": {
    "tags": []
   },
   "outputs": [],
   "source": [
    "yr_sbmtd_grouped = yr_sbmtd_grouped.rename(columns={'XBOARDINGS': 'stop_total_ons', 'STOP_ID_clean': 'stop_id', 'STOP_NAME_clean': 'stop_name' })"
   ]
  },
  {
   "cell_type": "code",
   "execution_count": 20,
   "id": "77043f9d-1082-4a8c-a92d-8ddea71f83d7",
   "metadata": {
    "tags": []
   },
   "outputs": [
    {
     "data": {
      "text/html": [
       "<div>\n",
       "<style scoped>\n",
       "    .dataframe tbody tr th:only-of-type {\n",
       "        vertical-align: middle;\n",
       "    }\n",
       "\n",
       "    .dataframe tbody tr th {\n",
       "        vertical-align: top;\n",
       "    }\n",
       "\n",
       "    .dataframe thead th {\n",
       "        text-align: right;\n",
       "    }\n",
       "</style>\n",
       "<table border=\"1\" class=\"dataframe\">\n",
       "  <thead>\n",
       "    <tr style=\"text-align: right;\">\n",
       "      <th></th>\n",
       "      <th>stop_id</th>\n",
       "      <th>stop_name</th>\n",
       "      <th>DAY_TYPE</th>\n",
       "      <th>stop_total_ons</th>\n",
       "    </tr>\n",
       "  </thead>\n",
       "  <tbody>\n",
       "    <tr>\n",
       "      <th>0</th>\n",
       "      <td>-51</td>\n",
       "      <td>Pacific Oaks/Phelps</td>\n",
       "      <td>sat_ons</td>\n",
       "      <td>0</td>\n",
       "    </tr>\n",
       "    <tr>\n",
       "      <th>1</th>\n",
       "      <td>-51</td>\n",
       "      <td>Pacific Oaks/Phelps</td>\n",
       "      <td>sun_ons</td>\n",
       "      <td>0</td>\n",
       "    </tr>\n",
       "    <tr>\n",
       "      <th>2</th>\n",
       "      <td>-51</td>\n",
       "      <td>Pacific Oaks/Phelps</td>\n",
       "      <td>weekday_ons</td>\n",
       "      <td>2</td>\n",
       "    </tr>\n",
       "    <tr>\n",
       "      <th>3</th>\n",
       "      <td>-49</td>\n",
       "      <td>Pueblo/Castillo Out</td>\n",
       "      <td>sat_ons</td>\n",
       "      <td>116</td>\n",
       "    </tr>\n",
       "    <tr>\n",
       "      <th>4</th>\n",
       "      <td>-49</td>\n",
       "      <td>Pueblo/Castillo Out</td>\n",
       "      <td>sun_ons</td>\n",
       "      <td>109</td>\n",
       "    </tr>\n",
       "  </tbody>\n",
       "</table>\n",
       "</div>"
      ],
      "text/plain": [
       "   stop_id            stop_name     DAY_TYPE  stop_total_ons\n",
       "0      -51  Pacific Oaks/Phelps      sat_ons               0\n",
       "1      -51  Pacific Oaks/Phelps      sun_ons               0\n",
       "2      -51  Pacific Oaks/Phelps  weekday_ons               2\n",
       "3      -49  Pueblo/Castillo Out      sat_ons             116\n",
       "4      -49  Pueblo/Castillo Out      sun_ons             109"
      ]
     },
     "execution_count": 20,
     "metadata": {},
     "output_type": "execute_result"
    }
   ],
   "source": [
    "yr_sbmtd_grouped.head(5)"
   ]
  },
  {
   "cell_type": "code",
   "execution_count": 21,
   "id": "c62a25b2-22f5-425d-8921-6ef6df564136",
   "metadata": {
    "tags": []
   },
   "outputs": [],
   "source": [
    "yr_sbmtd_grouped['stop_id'] = yr_sbmtd_grouped['stop_id'].astype(str)"
   ]
  },
  {
   "cell_type": "code",
   "execution_count": 22,
   "id": "3cea0a36-d5fd-4103-a04a-f1cf7034fa60",
   "metadata": {
    "tags": []
   },
   "outputs": [],
   "source": [
    "#Pivoting day type values to seperate columns \n",
    "yr_sbmtd_grouped= yr_sbmtd_grouped.pivot_table(\n",
    "    index=['stop_id', 'stop_name'],\n",
    "    columns='DAY_TYPE',\n",
    "    values = 'stop_total_ons'\n",
    ").reset_index()\n",
    "    "
   ]
  },
  {
   "cell_type": "code",
   "execution_count": 23,
   "id": "733178b0-9277-47ca-add4-d46b3589ae06",
   "metadata": {
    "tags": []
   },
   "outputs": [],
   "source": [
    "yr_sbmtd_grouped['feed_key'] = feed_key"
   ]
  },
  {
   "cell_type": "code",
   "execution_count": 24,
   "id": "69c3188c-b804-4986-859e-8d087f90848b",
   "metadata": {
    "tags": []
   },
   "outputs": [],
   "source": [
    "yr_sbmtd_grouped['name'] = 'SBMTD Schedule'"
   ]
  },
  {
   "cell_type": "code",
   "execution_count": 25,
   "id": "650d43c4-e8d7-41a2-b734-92e03111f36a",
   "metadata": {
    "tags": []
   },
   "outputs": [
    {
     "data": {
      "text/html": [
       "<div>\n",
       "<style scoped>\n",
       "    .dataframe tbody tr th:only-of-type {\n",
       "        vertical-align: middle;\n",
       "    }\n",
       "\n",
       "    .dataframe tbody tr th {\n",
       "        vertical-align: top;\n",
       "    }\n",
       "\n",
       "    .dataframe thead th {\n",
       "        text-align: right;\n",
       "    }\n",
       "</style>\n",
       "<table border=\"1\" class=\"dataframe\">\n",
       "  <thead>\n",
       "    <tr style=\"text-align: right;\">\n",
       "      <th>DAY_TYPE</th>\n",
       "      <th>stop_id</th>\n",
       "      <th>stop_name</th>\n",
       "      <th>sat_ons</th>\n",
       "      <th>sun_ons</th>\n",
       "      <th>weekday_ons</th>\n",
       "      <th>feed_key</th>\n",
       "      <th>name</th>\n",
       "    </tr>\n",
       "  </thead>\n",
       "  <tbody>\n",
       "    <tr>\n",
       "      <th>0</th>\n",
       "      <td>-1</td>\n",
       "      <td>Hollister/Sumida</td>\n",
       "      <td>319.0</td>\n",
       "      <td>381.0</td>\n",
       "      <td>3926.0</td>\n",
       "      <td>52201caab047b98ae19b7547c0d7c2ad</td>\n",
       "      <td>SBMTD Schedule</td>\n",
       "    </tr>\n",
       "    <tr>\n",
       "      <th>1</th>\n",
       "      <td>-10</td>\n",
       "      <td>Hollister/Robin Hill</td>\n",
       "      <td>29.0</td>\n",
       "      <td>13.0</td>\n",
       "      <td>173.0</td>\n",
       "      <td>52201caab047b98ae19b7547c0d7c2ad</td>\n",
       "      <td>SBMTD Schedule</td>\n",
       "    </tr>\n",
       "    <tr>\n",
       "      <th>2</th>\n",
       "      <td>-11</td>\n",
       "      <td>Hollister/Willow Springs</td>\n",
       "      <td>78.0</td>\n",
       "      <td>80.0</td>\n",
       "      <td>658.0</td>\n",
       "      <td>52201caab047b98ae19b7547c0d7c2ad</td>\n",
       "      <td>SBMTD Schedule</td>\n",
       "    </tr>\n",
       "    <tr>\n",
       "      <th>3</th>\n",
       "      <td>-12</td>\n",
       "      <td>Hollister/Los Carneros Way</td>\n",
       "      <td>40.0</td>\n",
       "      <td>22.0</td>\n",
       "      <td>396.0</td>\n",
       "      <td>52201caab047b98ae19b7547c0d7c2ad</td>\n",
       "      <td>SBMTD Schedule</td>\n",
       "    </tr>\n",
       "    <tr>\n",
       "      <th>4</th>\n",
       "      <td>-13</td>\n",
       "      <td>Hollister/Cremona</td>\n",
       "      <td>49.0</td>\n",
       "      <td>41.0</td>\n",
       "      <td>632.0</td>\n",
       "      <td>52201caab047b98ae19b7547c0d7c2ad</td>\n",
       "      <td>SBMTD Schedule</td>\n",
       "    </tr>\n",
       "  </tbody>\n",
       "</table>\n",
       "</div>"
      ],
      "text/plain": [
       "DAY_TYPE stop_id                   stop_name  sat_ons  sun_ons  weekday_ons  \\\n",
       "0             -1            Hollister/Sumida    319.0    381.0       3926.0   \n",
       "1            -10        Hollister/Robin Hill     29.0     13.0        173.0   \n",
       "2            -11    Hollister/Willow Springs     78.0     80.0        658.0   \n",
       "3            -12  Hollister/Los Carneros Way     40.0     22.0        396.0   \n",
       "4            -13           Hollister/Cremona     49.0     41.0        632.0   \n",
       "\n",
       "DAY_TYPE                          feed_key            name  \n",
       "0         52201caab047b98ae19b7547c0d7c2ad  SBMTD Schedule  \n",
       "1         52201caab047b98ae19b7547c0d7c2ad  SBMTD Schedule  \n",
       "2         52201caab047b98ae19b7547c0d7c2ad  SBMTD Schedule  \n",
       "3         52201caab047b98ae19b7547c0d7c2ad  SBMTD Schedule  \n",
       "4         52201caab047b98ae19b7547c0d7c2ad  SBMTD Schedule  "
      ]
     },
     "execution_count": 25,
     "metadata": {},
     "output_type": "execute_result"
    }
   ],
   "source": [
    "yr_sbmtd_grouped.head(5)"
   ]
  },
  {
   "cell_type": "code",
   "execution_count": 26,
   "id": "b411d5f4-b680-499e-ab53-955baf9c547f",
   "metadata": {
    "tags": []
   },
   "outputs": [
    {
     "data": {
      "text/plain": [
       "Index(['feed_key', 'service_date', 'feed_timezone',\n",
       "       'first_stop_arrival_datetime_pacific',\n",
       "       'last_stop_departure_datetime_pacific', 'stop_id', 'stop_key',\n",
       "       'stop_name', 'stop_event_count', 'route_type_0', 'route_type_1',\n",
       "       'route_type_2', 'route_type_3', 'route_type_4', 'route_type_5',\n",
       "       'route_type_6', 'route_type_7', 'route_type_11', 'route_type_12',\n",
       "       'missing_route_type', 'geometry'],\n",
       "      dtype='object')"
      ]
     },
     "execution_count": 26,
     "metadata": {},
     "output_type": "execute_result"
    }
   ],
   "source": [
    "stops_data.columns"
   ]
  },
  {
   "cell_type": "code",
   "execution_count": 27,
   "id": "9df7da01-8699-4e9f-9c10-7200bb28987b",
   "metadata": {
    "tags": []
   },
   "outputs": [],
   "source": [
    "stops_data = stops_data.rename(columns = {'stop_name': 'STOP_NAME'})"
   ]
  },
  {
   "cell_type": "code",
   "execution_count": 28,
   "id": "71e6176f-dd1a-47a2-a0d8-2de2011c1e86",
   "metadata": {},
   "outputs": [],
   "source": [
    "stops_to_join = stops_data[['feed_key', 'stop_id', 'STOP_NAME', 'geometry']]"
   ]
  },
  {
   "cell_type": "code",
   "execution_count": 29,
   "id": "d2724f88-a1a0-4ddd-b504-b34b1c5f8eb6",
   "metadata": {},
   "outputs": [],
   "source": [
    "# Creating a dictionary mapping STOP_NAME to stop_id from the stops_to_join DataFrame.\n",
    "stop_name_to_id = stops_to_join.set_index('STOP_NAME')['stop_id'].to_dict()"
   ]
  },
  {
   "cell_type": "code",
   "execution_count": 30,
   "id": "8e90085f-5e68-496a-a912-8923987d50a8",
   "metadata": {},
   "outputs": [],
   "source": [
    "# Function to fuzzy match \n",
    "def get_best_match(name, choices, scorer=fuzz.ratio, threshold=90):\n",
    "    best_match, score = process.extractOne(name, choices, scorer=scorer)\n",
    "    if score >= threshold:\n",
    "        return best_match\n",
    "    else:\n",
    "        return None"
   ]
  },
  {
   "cell_type": "code",
   "execution_count": 31,
   "id": "db69fcb2-6a5b-4211-a69c-fee3d44e2345",
   "metadata": {},
   "outputs": [
    {
     "name": "stderr",
     "output_type": "stream",
     "text": [
      "/opt/conda/lib/python3.11/site-packages/geopandas/geodataframe.py:1528: SettingWithCopyWarning: \n",
      "A value is trying to be set on a copy of a slice from a DataFrame.\n",
      "Try using .loc[row_indexer,col_indexer] = value instead\n",
      "\n",
      "See the caveats in the documentation: https://pandas.pydata.org/pandas-docs/stable/user_guide/indexing.html#returning-a-view-versus-a-copy\n",
      "  super().__setitem__(key, value)\n",
      "/opt/conda/lib/python3.11/site-packages/geopandas/geodataframe.py:1528: SettingWithCopyWarning: \n",
      "A value is trying to be set on a copy of a slice from a DataFrame.\n",
      "Try using .loc[row_indexer,col_indexer] = value instead\n",
      "\n",
      "See the caveats in the documentation: https://pandas.pydata.org/pandas-docs/stable/user_guide/indexing.html#returning-a-view-versus-a-copy\n",
      "  super().__setitem__(key, value)\n"
     ]
    }
   ],
   "source": [
    "# Matching STOP_NAME in stops_to_join with unique stop names from yr_sbmtd_grouped and mapping the corresponding stop IDs\n",
    "stops_to_join['matched_stop_name'] = stops_to_join['STOP_NAME'].apply(lambda x: get_best_match(x, yr_sbmtd_grouped['stop_name'].unique()))\n",
    "stops_to_join['matched_stop_id'] = stops_to_join['matched_stop_name'].map(stop_name_to_id)"
   ]
  },
  {
   "cell_type": "code",
   "execution_count": 32,
   "id": "6624a034-9a44-44f6-ab8e-3e745486e923",
   "metadata": {},
   "outputs": [],
   "source": [
    "fuzzy_matches = stops_to_join.dropna(subset=['matched_stop_name'])"
   ]
  },
  {
   "cell_type": "code",
   "execution_count": 33,
   "id": "331aeb5b-dba3-4b98-9aa4-1ab0c22721ea",
   "metadata": {},
   "outputs": [],
   "source": [
    "# Creating a dictionary mapping matched_stop_name to stop_id from fuzzy matches \n",
    "name_to_stop_id_mapping = fuzzy_matches.set_index('matched_stop_name')['stop_id'].to_dict()"
   ]
  },
  {
   "cell_type": "code",
   "execution_count": 34,
   "id": "c8c6152a-56d2-4f20-b4dc-3cd050dca883",
   "metadata": {},
   "outputs": [],
   "source": [
    "#Updating the stop_id in yr_sbmtd_grouped by mapping stop names to IDs and filling missing values with the original stop_id\n",
    "yr_sbmtd_grouped_updated = yr_sbmtd_grouped.copy()\n",
    "yr_sbmtd_grouped_updated['stop_id'] = yr_sbmtd_grouped_updated['stop_name'].map(name_to_stop_id_mapping).fillna(yr_sbmtd_grouped_updated['stop_id'])"
   ]
  },
  {
   "cell_type": "code",
   "execution_count": 35,
   "id": "7d88e45e-bbea-4518-a7c0-1697e48322f9",
   "metadata": {},
   "outputs": [],
   "source": [
    "final_join = pd.merge(\n",
    "    stops_to_join,\n",
    "    yr_sbmtd_grouped_updated,\n",
    "    on=['feed_key', 'stop_id'],\n",
    "    how='inner'\n",
    ")"
   ]
  },
  {
   "cell_type": "code",
   "execution_count": 36,
   "id": "337ef7a7-dbee-4322-8507-81908a21c9b2",
   "metadata": {},
   "outputs": [
    {
     "name": "stdout",
     "output_type": "stream",
     "text": [
      "<class 'geopandas.geodataframe.GeoDataFrame'>\n",
      "Int64Index: 602 entries, 0 to 601\n",
      "Data columns (total 11 columns):\n",
      " #   Column             Non-Null Count  Dtype   \n",
      "---  ------             --------------  -----   \n",
      " 0   feed_key           602 non-null    object  \n",
      " 1   stop_id            602 non-null    object  \n",
      " 2   STOP_NAME          602 non-null    object  \n",
      " 3   geometry           602 non-null    geometry\n",
      " 4   matched_stop_name  602 non-null    object  \n",
      " 5   matched_stop_id    26 non-null     object  \n",
      " 6   stop_name          602 non-null    object  \n",
      " 7   sat_ons            500 non-null    float64 \n",
      " 8   sun_ons            466 non-null    float64 \n",
      " 9   weekday_ons        602 non-null    float64 \n",
      " 10  name               602 non-null    object  \n",
      "dtypes: float64(3), geometry(1), object(7)\n",
      "memory usage: 56.4+ KB\n"
     ]
    }
   ],
   "source": [
    "final_join.info()"
   ]
  },
  {
   "cell_type": "code",
   "execution_count": 37,
   "id": "c092093a-0247-4069-af51-4df9c6b32bd0",
   "metadata": {},
   "outputs": [
    {
     "data": {
      "text/html": [
       "<div>\n",
       "<style scoped>\n",
       "    .dataframe tbody tr th:only-of-type {\n",
       "        vertical-align: middle;\n",
       "    }\n",
       "\n",
       "    .dataframe tbody tr th {\n",
       "        vertical-align: top;\n",
       "    }\n",
       "\n",
       "    .dataframe thead th {\n",
       "        text-align: right;\n",
       "    }\n",
       "</style>\n",
       "<table border=\"1\" class=\"dataframe\">\n",
       "  <thead>\n",
       "    <tr style=\"text-align: right;\">\n",
       "      <th></th>\n",
       "      <th>feed_key</th>\n",
       "      <th>stop_id</th>\n",
       "      <th>STOP_NAME</th>\n",
       "      <th>geometry</th>\n",
       "      <th>matched_stop_name</th>\n",
       "      <th>matched_stop_id</th>\n",
       "      <th>stop_name</th>\n",
       "      <th>sat_ons</th>\n",
       "      <th>sun_ons</th>\n",
       "      <th>weekday_ons</th>\n",
       "      <th>name</th>\n",
       "    </tr>\n",
       "  </thead>\n",
       "  <tbody>\n",
       "    <tr>\n",
       "      <th>0</th>\n",
       "      <td>52201caab047b98ae19b7547c0d7c2ad</td>\n",
       "      <td>1</td>\n",
       "      <td>Modoc &amp; Portesuello</td>\n",
       "      <td>POINT (25170.737 -398993.625)</td>\n",
       "      <td>Modoc/Portesuello</td>\n",
       "      <td>NaN</td>\n",
       "      <td>Modoc/Portesuello</td>\n",
       "      <td>1573.0</td>\n",
       "      <td>1276.0</td>\n",
       "      <td>13960.0</td>\n",
       "      <td>SBMTD Schedule</td>\n",
       "    </tr>\n",
       "    <tr>\n",
       "      <th>1</th>\n",
       "      <td>52201caab047b98ae19b7547c0d7c2ad</td>\n",
       "      <td>2</td>\n",
       "      <td>Milpas &amp; Montecito</td>\n",
       "      <td>POINT (29196.552 -399052.308)</td>\n",
       "      <td>Milpas/Montecito</td>\n",
       "      <td>NaN</td>\n",
       "      <td>Milpas/Montecito</td>\n",
       "      <td>3901.0</td>\n",
       "      <td>3138.0</td>\n",
       "      <td>30141.0</td>\n",
       "      <td>SBMTD Schedule</td>\n",
       "    </tr>\n",
       "    <tr>\n",
       "      <th>2</th>\n",
       "      <td>52201caab047b98ae19b7547c0d7c2ad</td>\n",
       "      <td>4</td>\n",
       "      <td>Cathedral Oaks &amp; Camino Del Rio</td>\n",
       "      <td>POINT (20247.563 -395908.292)</td>\n",
       "      <td>Cathedral Oaks/Camino Del Rio</td>\n",
       "      <td>NaN</td>\n",
       "      <td>Cathedral Oaks/Camino Del Rio</td>\n",
       "      <td>NaN</td>\n",
       "      <td>NaN</td>\n",
       "      <td>1.0</td>\n",
       "      <td>SBMTD Schedule</td>\n",
       "    </tr>\n",
       "    <tr>\n",
       "      <th>3</th>\n",
       "      <td>52201caab047b98ae19b7547c0d7c2ad</td>\n",
       "      <td>5</td>\n",
       "      <td>Via Real &amp; Sandpiper MHP</td>\n",
       "      <td>POINT (42143.060 -400995.911)</td>\n",
       "      <td>Via Real/Sandpiper MHP</td>\n",
       "      <td>NaN</td>\n",
       "      <td>Via Real/Sandpiper MHP</td>\n",
       "      <td>217.0</td>\n",
       "      <td>109.0</td>\n",
       "      <td>1483.0</td>\n",
       "      <td>SBMTD Schedule</td>\n",
       "    </tr>\n",
       "    <tr>\n",
       "      <th>4</th>\n",
       "      <td>52201caab047b98ae19b7547c0d7c2ad</td>\n",
       "      <td>6</td>\n",
       "      <td>UCSB Elings Hall Outbound</td>\n",
       "      <td>POINT (14738.802 -400125.683)</td>\n",
       "      <td>UCSB Elings Hall Outbound</td>\n",
       "      <td>6</td>\n",
       "      <td>UCSB Elings Hall Outbound</td>\n",
       "      <td>1373.0</td>\n",
       "      <td>1199.0</td>\n",
       "      <td>9776.0</td>\n",
       "      <td>SBMTD Schedule</td>\n",
       "    </tr>\n",
       "    <tr>\n",
       "      <th>5</th>\n",
       "      <td>52201caab047b98ae19b7547c0d7c2ad</td>\n",
       "      <td>10</td>\n",
       "      <td>Anapamu &amp; Santa Barbara</td>\n",
       "      <td>POINT (27354.741 -398937.880)</td>\n",
       "      <td>Anapamu/Santa Barbara</td>\n",
       "      <td>NaN</td>\n",
       "      <td>Anapamu/Santa Barbara</td>\n",
       "      <td>238.0</td>\n",
       "      <td>164.0</td>\n",
       "      <td>1705.0</td>\n",
       "      <td>SBMTD Schedule</td>\n",
       "    </tr>\n",
       "    <tr>\n",
       "      <th>6</th>\n",
       "      <td>52201caab047b98ae19b7547c0d7c2ad</td>\n",
       "      <td>16</td>\n",
       "      <td>Seville &amp; Embarcadero Del Mar</td>\n",
       "      <td>POINT (13110.869 -400474.402)</td>\n",
       "      <td>Seville/Embarcadero Del Mar</td>\n",
       "      <td>NaN</td>\n",
       "      <td>Seville/Embarcadero Del Mar</td>\n",
       "      <td>197.0</td>\n",
       "      <td>242.0</td>\n",
       "      <td>1706.0</td>\n",
       "      <td>SBMTD Schedule</td>\n",
       "    </tr>\n",
       "    <tr>\n",
       "      <th>7</th>\n",
       "      <td>52201caab047b98ae19b7547c0d7c2ad</td>\n",
       "      <td>16</td>\n",
       "      <td>Seville &amp; Embarcadero Del Mar</td>\n",
       "      <td>POINT (13110.869 -400474.402)</td>\n",
       "      <td>Seville/Embarcadero Del Mar</td>\n",
       "      <td>NaN</td>\n",
       "      <td>Seville/Embarcadero Del Mar</td>\n",
       "      <td>53.0</td>\n",
       "      <td>73.0</td>\n",
       "      <td>1191.0</td>\n",
       "      <td>SBMTD Schedule</td>\n",
       "    </tr>\n",
       "    <tr>\n",
       "      <th>8</th>\n",
       "      <td>52201caab047b98ae19b7547c0d7c2ad</td>\n",
       "      <td>18</td>\n",
       "      <td>Embarcadero &amp; Sabado Tarde</td>\n",
       "      <td>POINT (13206.817 -400596.547)</td>\n",
       "      <td>Embarcadero/Sabado Tarde</td>\n",
       "      <td>NaN</td>\n",
       "      <td>Embarcadero/Sabado Tarde</td>\n",
       "      <td>254.0</td>\n",
       "      <td>326.0</td>\n",
       "      <td>2763.0</td>\n",
       "      <td>SBMTD Schedule</td>\n",
       "    </tr>\n",
       "    <tr>\n",
       "      <th>9</th>\n",
       "      <td>52201caab047b98ae19b7547c0d7c2ad</td>\n",
       "      <td>18</td>\n",
       "      <td>Embarcadero &amp; Sabado Tarde</td>\n",
       "      <td>POINT (13206.817 -400596.547)</td>\n",
       "      <td>Embarcadero/Sabado Tarde</td>\n",
       "      <td>NaN</td>\n",
       "      <td>Embarcadero/Sabado Tarde</td>\n",
       "      <td>99.0</td>\n",
       "      <td>99.0</td>\n",
       "      <td>1279.0</td>\n",
       "      <td>SBMTD Schedule</td>\n",
       "    </tr>\n",
       "  </tbody>\n",
       "</table>\n",
       "</div>"
      ],
      "text/plain": [
       "                           feed_key stop_id                        STOP_NAME  \\\n",
       "0  52201caab047b98ae19b7547c0d7c2ad       1              Modoc & Portesuello   \n",
       "1  52201caab047b98ae19b7547c0d7c2ad       2               Milpas & Montecito   \n",
       "2  52201caab047b98ae19b7547c0d7c2ad       4  Cathedral Oaks & Camino Del Rio   \n",
       "3  52201caab047b98ae19b7547c0d7c2ad       5         Via Real & Sandpiper MHP   \n",
       "4  52201caab047b98ae19b7547c0d7c2ad       6        UCSB Elings Hall Outbound   \n",
       "5  52201caab047b98ae19b7547c0d7c2ad      10          Anapamu & Santa Barbara   \n",
       "6  52201caab047b98ae19b7547c0d7c2ad      16    Seville & Embarcadero Del Mar   \n",
       "7  52201caab047b98ae19b7547c0d7c2ad      16    Seville & Embarcadero Del Mar   \n",
       "8  52201caab047b98ae19b7547c0d7c2ad      18       Embarcadero & Sabado Tarde   \n",
       "9  52201caab047b98ae19b7547c0d7c2ad      18       Embarcadero & Sabado Tarde   \n",
       "\n",
       "                        geometry              matched_stop_name  \\\n",
       "0  POINT (25170.737 -398993.625)              Modoc/Portesuello   \n",
       "1  POINT (29196.552 -399052.308)               Milpas/Montecito   \n",
       "2  POINT (20247.563 -395908.292)  Cathedral Oaks/Camino Del Rio   \n",
       "3  POINT (42143.060 -400995.911)         Via Real/Sandpiper MHP   \n",
       "4  POINT (14738.802 -400125.683)      UCSB Elings Hall Outbound   \n",
       "5  POINT (27354.741 -398937.880)          Anapamu/Santa Barbara   \n",
       "6  POINT (13110.869 -400474.402)    Seville/Embarcadero Del Mar   \n",
       "7  POINT (13110.869 -400474.402)    Seville/Embarcadero Del Mar   \n",
       "8  POINT (13206.817 -400596.547)       Embarcadero/Sabado Tarde   \n",
       "9  POINT (13206.817 -400596.547)       Embarcadero/Sabado Tarde   \n",
       "\n",
       "  matched_stop_id                      stop_name  sat_ons  sun_ons  \\\n",
       "0             NaN              Modoc/Portesuello   1573.0   1276.0   \n",
       "1             NaN               Milpas/Montecito   3901.0   3138.0   \n",
       "2             NaN  Cathedral Oaks/Camino Del Rio      NaN      NaN   \n",
       "3             NaN         Via Real/Sandpiper MHP    217.0    109.0   \n",
       "4               6      UCSB Elings Hall Outbound   1373.0   1199.0   \n",
       "5             NaN          Anapamu/Santa Barbara    238.0    164.0   \n",
       "6             NaN    Seville/Embarcadero Del Mar    197.0    242.0   \n",
       "7             NaN    Seville/Embarcadero Del Mar     53.0     73.0   \n",
       "8             NaN       Embarcadero/Sabado Tarde    254.0    326.0   \n",
       "9             NaN       Embarcadero/Sabado Tarde     99.0     99.0   \n",
       "\n",
       "   weekday_ons            name  \n",
       "0      13960.0  SBMTD Schedule  \n",
       "1      30141.0  SBMTD Schedule  \n",
       "2          1.0  SBMTD Schedule  \n",
       "3       1483.0  SBMTD Schedule  \n",
       "4       9776.0  SBMTD Schedule  \n",
       "5       1705.0  SBMTD Schedule  \n",
       "6       1706.0  SBMTD Schedule  \n",
       "7       1191.0  SBMTD Schedule  \n",
       "8       2763.0  SBMTD Schedule  \n",
       "9       1279.0  SBMTD Schedule  "
      ]
     },
     "execution_count": 37,
     "metadata": {},
     "output_type": "execute_result"
    }
   ],
   "source": [
    "final_join.head(10)"
   ]
  },
  {
   "cell_type": "code",
   "execution_count": 38,
   "id": "d7e5964f-79bf-42de-a1cb-942f2cda8f67",
   "metadata": {},
   "outputs": [],
   "source": [
    "strings_to_drop = ['Fairview Ave/Encina Road', 'Encina/Fairview 164']"
   ]
  },
  {
   "cell_type": "code",
   "execution_count": 39,
   "id": "4c26c17f-5c37-4ab3-91e9-f31cf2389000",
   "metadata": {},
   "outputs": [],
   "source": [
    "final_join = final_join[~final_join['stop_name'].str.contains('|'.join(strings_to_drop))]"
   ]
  },
  {
   "cell_type": "code",
   "execution_count": 40,
   "id": "c0554300-9f76-44f5-b10e-64074b645d9a",
   "metadata": {
    "tags": []
   },
   "outputs": [
    {
     "name": "stdout",
     "output_type": "stream",
     "text": [
      "<class 'geopandas.geodataframe.GeoDataFrame'>\n",
      "Int64Index: 600 entries, 0 to 601\n",
      "Data columns (total 11 columns):\n",
      " #   Column             Non-Null Count  Dtype   \n",
      "---  ------             --------------  -----   \n",
      " 0   feed_key           600 non-null    object  \n",
      " 1   stop_id            600 non-null    object  \n",
      " 2   STOP_NAME          600 non-null    object  \n",
      " 3   geometry           600 non-null    geometry\n",
      " 4   matched_stop_name  600 non-null    object  \n",
      " 5   matched_stop_id    26 non-null     object  \n",
      " 6   stop_name          600 non-null    object  \n",
      " 7   sat_ons            498 non-null    float64 \n",
      " 8   sun_ons            464 non-null    float64 \n",
      " 9   weekday_ons        600 non-null    float64 \n",
      " 10  name               600 non-null    object  \n",
      "dtypes: float64(3), geometry(1), object(7)\n",
      "memory usage: 56.2+ KB\n"
     ]
    }
   ],
   "source": [
    "final_join.info()"
   ]
  },
  {
   "cell_type": "code",
   "execution_count": 41,
   "id": "3e1e21fd-f28a-4e65-8c16-42b5eb1c93ed",
   "metadata": {},
   "outputs": [],
   "source": [
    "yr_sbmtd_grouped_updated.to_excel('sbmtd.xlsx', index =False)\n",
    "stops_to_join.to_excel('stops_sbmtd.xlsx', index = False)"
   ]
  },
  {
   "cell_type": "code",
   "execution_count": 42,
   "id": "a01c1647-2c95-44f3-a6a7-e86dddb63ccf",
   "metadata": {
    "tags": []
   },
   "outputs": [],
   "source": [
    "stops_merged = pd.merge(stops_to_join,\n",
    "                        yr_sbmtd_grouped_updated,\n",
    "                        on = ['feed_key', 'stop_id'],\n",
    "                        how='left',\n",
    "                        indicator=True\n",
    "                       )"
   ]
  },
  {
   "cell_type": "code",
   "execution_count": 43,
   "id": "88f7ef90-eb2e-4db7-a32b-5b4bb825a364",
   "metadata": {
    "tags": []
   },
   "outputs": [
    {
     "data": {
      "text/plain": [
       "Index(['feed_key', 'stop_id', 'STOP_NAME', 'geometry', 'matched_stop_name',\n",
       "       'matched_stop_id', 'stop_name', 'sat_ons', 'sun_ons', 'weekday_ons',\n",
       "       'name', '_merge'],\n",
       "      dtype='object')"
      ]
     },
     "execution_count": 43,
     "metadata": {},
     "output_type": "execute_result"
    }
   ],
   "source": [
    "stops_merged.columns"
   ]
  },
  {
   "cell_type": "code",
   "execution_count": 44,
   "id": "07cd6f7f-0647-46af-b151-34dac3e85a87",
   "metadata": {
    "tags": []
   },
   "outputs": [],
   "source": [
    "stops_remainder = stops_merged[stops_merged['_merge'] == 'left_only'].drop(columns=['_merge'])"
   ]
  },
  {
   "cell_type": "code",
   "execution_count": 45,
   "id": "9dff17a5-8859-41ac-9c21-63548f29adea",
   "metadata": {
    "tags": []
   },
   "outputs": [],
   "source": [
    "yr_sbmtd_grouped_merged = pd.merge(stops_to_join,\n",
    "                        yr_sbmtd_grouped_updated,\n",
    "                        on = ['feed_key', 'stop_id'],\n",
    "                        how='right',\n",
    "                        indicator=True\n",
    "                       )"
   ]
  },
  {
   "cell_type": "code",
   "execution_count": 46,
   "id": "9e6721eb-e447-4062-af06-309901f136ec",
   "metadata": {
    "tags": []
   },
   "outputs": [],
   "source": [
    "yr_sbmtd_remainder = yr_sbmtd_grouped_merged[yr_sbmtd_grouped_merged['_merge'] == 'right_only'].drop(columns=['_merge'])"
   ]
  },
  {
   "cell_type": "code",
   "execution_count": 48,
   "id": "e027872b-d625-46c3-a3c2-ffe2681707b6",
   "metadata": {},
   "outputs": [
    {
     "data": {
      "text/html": [
       "<div>\n",
       "<style scoped>\n",
       "    .dataframe tbody tr th:only-of-type {\n",
       "        vertical-align: middle;\n",
       "    }\n",
       "\n",
       "    .dataframe tbody tr th {\n",
       "        vertical-align: top;\n",
       "    }\n",
       "\n",
       "    .dataframe thead th {\n",
       "        text-align: right;\n",
       "    }\n",
       "</style>\n",
       "<table border=\"1\" class=\"dataframe\">\n",
       "  <thead>\n",
       "    <tr style=\"text-align: right;\">\n",
       "      <th></th>\n",
       "      <th>feed_key</th>\n",
       "      <th>stop_id</th>\n",
       "      <th>STOP_NAME</th>\n",
       "      <th>geometry</th>\n",
       "      <th>matched_stop_name</th>\n",
       "      <th>matched_stop_id</th>\n",
       "      <th>stop_name</th>\n",
       "      <th>sat_ons</th>\n",
       "      <th>sun_ons</th>\n",
       "      <th>weekday_ons</th>\n",
       "      <th>name</th>\n",
       "    </tr>\n",
       "  </thead>\n",
       "  <tbody>\n",
       "    <tr>\n",
       "      <th>35</th>\n",
       "      <td>52201caab047b98ae19b7547c0d7c2ad</td>\n",
       "      <td>-49</td>\n",
       "      <td>NaN</td>\n",
       "      <td>None</td>\n",
       "      <td>NaN</td>\n",
       "      <td>NaN</td>\n",
       "      <td>Pueblo/Castillo Out</td>\n",
       "      <td>116.0</td>\n",
       "      <td>109.0</td>\n",
       "      <td>2734.0</td>\n",
       "      <td>SBMTD Schedule</td>\n",
       "    </tr>\n",
       "    <tr>\n",
       "      <th>45</th>\n",
       "      <td>52201caab047b98ae19b7547c0d7c2ad</td>\n",
       "      <td>100003</td>\n",
       "      <td>NaN</td>\n",
       "      <td>None</td>\n",
       "      <td>NaN</td>\n",
       "      <td>NaN</td>\n",
       "      <td>AbreCDSO</td>\n",
       "      <td>NaN</td>\n",
       "      <td>NaN</td>\n",
       "      <td>0.0</td>\n",
       "      <td>SBMTD Schedule</td>\n",
       "    </tr>\n",
       "    <tr>\n",
       "      <th>46</th>\n",
       "      <td>52201caab047b98ae19b7547c0d7c2ad</td>\n",
       "      <td>100004</td>\n",
       "      <td>NaN</td>\n",
       "      <td>None</td>\n",
       "      <td>NaN</td>\n",
       "      <td>NaN</td>\n",
       "      <td>AlamBasO</td>\n",
       "      <td>NaN</td>\n",
       "      <td>NaN</td>\n",
       "      <td>0.0</td>\n",
       "      <td>SBMTD Schedule</td>\n",
       "    </tr>\n",
       "    <tr>\n",
       "      <th>47</th>\n",
       "      <td>52201caab047b98ae19b7547c0d7c2ad</td>\n",
       "      <td>100005</td>\n",
       "      <td>NaN</td>\n",
       "      <td>None</td>\n",
       "      <td>NaN</td>\n",
       "      <td>NaN</td>\n",
       "      <td>AlamPadN</td>\n",
       "      <td>0.0</td>\n",
       "      <td>0.0</td>\n",
       "      <td>0.0</td>\n",
       "      <td>SBMTD Schedule</td>\n",
       "    </tr>\n",
       "    <tr>\n",
       "      <th>48</th>\n",
       "      <td>52201caab047b98ae19b7547c0d7c2ad</td>\n",
       "      <td>100006</td>\n",
       "      <td>NaN</td>\n",
       "      <td>None</td>\n",
       "      <td>NaN</td>\n",
       "      <td>NaN</td>\n",
       "      <td>AlamPadO</td>\n",
       "      <td>0.0</td>\n",
       "      <td>0.0</td>\n",
       "      <td>0.0</td>\n",
       "      <td>SBMTD Schedule</td>\n",
       "    </tr>\n",
       "    <tr>\n",
       "      <th>49</th>\n",
       "      <td>52201caab047b98ae19b7547c0d7c2ad</td>\n",
       "      <td>100008</td>\n",
       "      <td>NaN</td>\n",
       "      <td>None</td>\n",
       "      <td>NaN</td>\n",
       "      <td>NaN</td>\n",
       "      <td>ArBuBePa</td>\n",
       "      <td>0.0</td>\n",
       "      <td>0.0</td>\n",
       "      <td>0.0</td>\n",
       "      <td>SBMTD Schedule</td>\n",
       "    </tr>\n",
       "    <tr>\n",
       "      <th>50</th>\n",
       "      <td>52201caab047b98ae19b7547c0d7c2ad</td>\n",
       "      <td>100011</td>\n",
       "      <td>NaN</td>\n",
       "      <td>None</td>\n",
       "      <td>NaN</td>\n",
       "      <td>NaN</td>\n",
       "      <td>BranEver</td>\n",
       "      <td>NaN</td>\n",
       "      <td>NaN</td>\n",
       "      <td>0.0</td>\n",
       "      <td>SBMTD Schedule</td>\n",
       "    </tr>\n",
       "    <tr>\n",
       "      <th>51</th>\n",
       "      <td>52201caab047b98ae19b7547c0d7c2ad</td>\n",
       "      <td>100096</td>\n",
       "      <td>NaN</td>\n",
       "      <td>None</td>\n",
       "      <td>NaN</td>\n",
       "      <td>NaN</td>\n",
       "      <td>CaOaAlph</td>\n",
       "      <td>NaN</td>\n",
       "      <td>NaN</td>\n",
       "      <td>0.0</td>\n",
       "      <td>SBMTD Schedule</td>\n",
       "    </tr>\n",
       "    <tr>\n",
       "      <th>52</th>\n",
       "      <td>52201caab047b98ae19b7547c0d7c2ad</td>\n",
       "      <td>100098</td>\n",
       "      <td>NaN</td>\n",
       "      <td>None</td>\n",
       "      <td>NaN</td>\n",
       "      <td>NaN</td>\n",
       "      <td>CaOaFaiO</td>\n",
       "      <td>NaN</td>\n",
       "      <td>NaN</td>\n",
       "      <td>0.0</td>\n",
       "      <td>SBMTD Schedule</td>\n",
       "    </tr>\n",
       "    <tr>\n",
       "      <th>54</th>\n",
       "      <td>52201caab047b98ae19b7547c0d7c2ad</td>\n",
       "      <td>100100</td>\n",
       "      <td>NaN</td>\n",
       "      <td>None</td>\n",
       "      <td>NaN</td>\n",
       "      <td>NaN</td>\n",
       "      <td>CaOaTurn</td>\n",
       "      <td>NaN</td>\n",
       "      <td>NaN</td>\n",
       "      <td>0.0</td>\n",
       "      <td>SBMTD Schedule</td>\n",
       "    </tr>\n",
       "  </tbody>\n",
       "</table>\n",
       "</div>"
      ],
      "text/plain": [
       "                            feed_key stop_id STOP_NAME geometry  \\\n",
       "35  52201caab047b98ae19b7547c0d7c2ad     -49       NaN     None   \n",
       "45  52201caab047b98ae19b7547c0d7c2ad  100003       NaN     None   \n",
       "46  52201caab047b98ae19b7547c0d7c2ad  100004       NaN     None   \n",
       "47  52201caab047b98ae19b7547c0d7c2ad  100005       NaN     None   \n",
       "48  52201caab047b98ae19b7547c0d7c2ad  100006       NaN     None   \n",
       "49  52201caab047b98ae19b7547c0d7c2ad  100008       NaN     None   \n",
       "50  52201caab047b98ae19b7547c0d7c2ad  100011       NaN     None   \n",
       "51  52201caab047b98ae19b7547c0d7c2ad  100096       NaN     None   \n",
       "52  52201caab047b98ae19b7547c0d7c2ad  100098       NaN     None   \n",
       "54  52201caab047b98ae19b7547c0d7c2ad  100100       NaN     None   \n",
       "\n",
       "   matched_stop_name matched_stop_id            stop_name  sat_ons  sun_ons  \\\n",
       "35               NaN             NaN  Pueblo/Castillo Out    116.0    109.0   \n",
       "45               NaN             NaN             AbreCDSO      NaN      NaN   \n",
       "46               NaN             NaN             AlamBasO      NaN      NaN   \n",
       "47               NaN             NaN             AlamPadN      0.0      0.0   \n",
       "48               NaN             NaN             AlamPadO      0.0      0.0   \n",
       "49               NaN             NaN             ArBuBePa      0.0      0.0   \n",
       "50               NaN             NaN             BranEver      NaN      NaN   \n",
       "51               NaN             NaN             CaOaAlph      NaN      NaN   \n",
       "52               NaN             NaN             CaOaFaiO      NaN      NaN   \n",
       "54               NaN             NaN             CaOaTurn      NaN      NaN   \n",
       "\n",
       "    weekday_ons            name  \n",
       "35       2734.0  SBMTD Schedule  \n",
       "45          0.0  SBMTD Schedule  \n",
       "46          0.0  SBMTD Schedule  \n",
       "47          0.0  SBMTD Schedule  \n",
       "48          0.0  SBMTD Schedule  \n",
       "49          0.0  SBMTD Schedule  \n",
       "50          0.0  SBMTD Schedule  \n",
       "51          0.0  SBMTD Schedule  \n",
       "52          0.0  SBMTD Schedule  \n",
       "54          0.0  SBMTD Schedule  "
      ]
     },
     "execution_count": 48,
     "metadata": {},
     "output_type": "execute_result"
    }
   ],
   "source": [
    "yr_sbmtd_remainder.head(10)"
   ]
  },
  {
   "cell_type": "code",
   "execution_count": 49,
   "id": "6f61e55f-8e69-4e5f-ba51-a967e56c68cd",
   "metadata": {},
   "outputs": [],
   "source": [
    "columns_to_keep = ['feed_key', 'stop_id', 'STOP_NAME', 'geometry', 'sat_ons', 'sun_ons', 'weekday_ons', 'name']\n",
    "final_join = final_join[columns_to_keep]"
   ]
  },
  {
   "cell_type": "code",
   "execution_count": 50,
   "id": "a679b398-b994-4a41-a5bd-f60f1f32d1ce",
   "metadata": {},
   "outputs": [
    {
     "data": {
      "text/html": [
       "<div>\n",
       "<style scoped>\n",
       "    .dataframe tbody tr th:only-of-type {\n",
       "        vertical-align: middle;\n",
       "    }\n",
       "\n",
       "    .dataframe tbody tr th {\n",
       "        vertical-align: top;\n",
       "    }\n",
       "\n",
       "    .dataframe thead th {\n",
       "        text-align: right;\n",
       "    }\n",
       "</style>\n",
       "<table border=\"1\" class=\"dataframe\">\n",
       "  <thead>\n",
       "    <tr style=\"text-align: right;\">\n",
       "      <th></th>\n",
       "      <th>feed_key</th>\n",
       "      <th>stop_id</th>\n",
       "      <th>STOP_NAME</th>\n",
       "      <th>geometry</th>\n",
       "      <th>sat_ons</th>\n",
       "      <th>sun_ons</th>\n",
       "      <th>weekday_ons</th>\n",
       "      <th>name</th>\n",
       "    </tr>\n",
       "  </thead>\n",
       "  <tbody>\n",
       "    <tr>\n",
       "      <th>0</th>\n",
       "      <td>52201caab047b98ae19b7547c0d7c2ad</td>\n",
       "      <td>1</td>\n",
       "      <td>Modoc &amp; Portesuello</td>\n",
       "      <td>POINT (25170.737 -398993.625)</td>\n",
       "      <td>1573.0</td>\n",
       "      <td>1276.0</td>\n",
       "      <td>13960.0</td>\n",
       "      <td>SBMTD Schedule</td>\n",
       "    </tr>\n",
       "    <tr>\n",
       "      <th>1</th>\n",
       "      <td>52201caab047b98ae19b7547c0d7c2ad</td>\n",
       "      <td>2</td>\n",
       "      <td>Milpas &amp; Montecito</td>\n",
       "      <td>POINT (29196.552 -399052.308)</td>\n",
       "      <td>3901.0</td>\n",
       "      <td>3138.0</td>\n",
       "      <td>30141.0</td>\n",
       "      <td>SBMTD Schedule</td>\n",
       "    </tr>\n",
       "    <tr>\n",
       "      <th>2</th>\n",
       "      <td>52201caab047b98ae19b7547c0d7c2ad</td>\n",
       "      <td>4</td>\n",
       "      <td>Cathedral Oaks &amp; Camino Del Rio</td>\n",
       "      <td>POINT (20247.563 -395908.292)</td>\n",
       "      <td>NaN</td>\n",
       "      <td>NaN</td>\n",
       "      <td>1.0</td>\n",
       "      <td>SBMTD Schedule</td>\n",
       "    </tr>\n",
       "    <tr>\n",
       "      <th>3</th>\n",
       "      <td>52201caab047b98ae19b7547c0d7c2ad</td>\n",
       "      <td>5</td>\n",
       "      <td>Via Real &amp; Sandpiper MHP</td>\n",
       "      <td>POINT (42143.060 -400995.911)</td>\n",
       "      <td>217.0</td>\n",
       "      <td>109.0</td>\n",
       "      <td>1483.0</td>\n",
       "      <td>SBMTD Schedule</td>\n",
       "    </tr>\n",
       "  </tbody>\n",
       "</table>\n",
       "</div>"
      ],
      "text/plain": [
       "                           feed_key stop_id                        STOP_NAME  \\\n",
       "0  52201caab047b98ae19b7547c0d7c2ad       1              Modoc & Portesuello   \n",
       "1  52201caab047b98ae19b7547c0d7c2ad       2               Milpas & Montecito   \n",
       "2  52201caab047b98ae19b7547c0d7c2ad       4  Cathedral Oaks & Camino Del Rio   \n",
       "3  52201caab047b98ae19b7547c0d7c2ad       5         Via Real & Sandpiper MHP   \n",
       "\n",
       "                        geometry  sat_ons  sun_ons  weekday_ons  \\\n",
       "0  POINT (25170.737 -398993.625)   1573.0   1276.0      13960.0   \n",
       "1  POINT (29196.552 -399052.308)   3901.0   3138.0      30141.0   \n",
       "2  POINT (20247.563 -395908.292)      NaN      NaN          1.0   \n",
       "3  POINT (42143.060 -400995.911)    217.0    109.0       1483.0   \n",
       "\n",
       "             name  \n",
       "0  SBMTD Schedule  \n",
       "1  SBMTD Schedule  \n",
       "2  SBMTD Schedule  \n",
       "3  SBMTD Schedule  "
      ]
     },
     "execution_count": 50,
     "metadata": {},
     "output_type": "execute_result"
    }
   ],
   "source": [
    "final_join.head(4)"
   ]
  },
  {
   "cell_type": "code",
   "execution_count": 51,
   "id": "9e8aba70-c79a-4c75-bdca-1ea7cc6c6427",
   "metadata": {},
   "outputs": [],
   "source": [
    "final_join = final_join.rename(columns={'STOP_NAME': 'stop_name'})"
   ]
  },
  {
   "cell_type": "code",
   "execution_count": 37,
   "id": "60b1712e-bc8f-40ca-ba50-ff0fb740af1a",
   "metadata": {},
   "outputs": [],
   "source": [
    "GCS_FILE_PATH  = 'gs://calitp-analytics-data/data-analyses/ahsc_grant'\n",
    "final_join.to_parquet(f\"{GCS_FILE_PATH}/ridership_sbmtd_08_26_2024.parquet\")"
   ]
  }
 ],
 "metadata": {
  "kernelspec": {
   "display_name": "Python 3 (ipykernel)",
   "language": "python",
   "name": "python3"
  },
  "language_info": {
   "codemirror_mode": {
    "name": "ipython",
    "version": 3
   },
   "file_extension": ".py",
   "mimetype": "text/x-python",
   "name": "python",
   "nbconvert_exporter": "python",
   "pygments_lexer": "ipython3",
   "version": "3.11.10"
  }
 },
 "nbformat": 4,
 "nbformat_minor": 5
}
