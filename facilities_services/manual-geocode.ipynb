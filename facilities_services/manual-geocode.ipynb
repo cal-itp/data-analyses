{
 "cells": [
  {
   "cell_type": "markdown",
   "id": "4a31813d-8fd9-4422-97f4-e129ac4640a0",
   "metadata": {},
   "source": [
    "# Manually geocode some locations\n",
    "\n",
    "* Some are valid, some require scouring Google Maps\n",
    "* [Open data: SHN postmiles](https://gisdata-caltrans.opendata.arcgis.com/datasets/c22341fec9c74c6b9488ee4da23dd967_0/explore?location=37.180926%2C-119.281571%2C6.41\n",
    ")"
   ]
  },
  {
   "cell_type": "code",
   "execution_count": 1,
   "id": "8b6b6534-b46e-422b-9597-28a2c7b4fffe",
   "metadata": {},
   "outputs": [
    {
     "name": "stderr",
     "output_type": "stream",
     "text": [
      "/opt/conda/lib/python3.9/site-packages/geopandas/_compat.py:111: UserWarning: The Shapely GEOS version (3.10.2-CAPI-1.16.0) is incompatible with the GEOS version PyGEOS was compiled with (3.10.1-CAPI-1.16.0). Conversions between both will be slow.\n",
      "  warnings.warn(\n"
     ]
    }
   ],
   "source": [
    "import geopandas as gpd\n",
    "import pandas as pd\n",
    "\n",
    "import utils\n",
    "import shared_utils"
   ]
  },
  {
   "cell_type": "code",
   "execution_count": 2,
   "id": "698a3563-33b5-4737-b465-6e64bf027a59",
   "metadata": {},
   "outputs": [],
   "source": [
    "def clean_postmiles():\n",
    "\n",
    "    '''\n",
    "    df = shared_utils.utils.download_geoparquet( \n",
    "        GCS_FILE_PATH = f\"{utils.GCS_FILE_PATH}\", \n",
    "        FILE_NAME = \"shn_postmiles\"\n",
    "    )\n",
    "    '''\n",
    "    df = gpd.read_parquet(f\"{utils.DATA_PATH}shn_postmiles.parquet\")\n",
    "    \n",
    "    # Round to 2 decimal places\n",
    "    # otherwise, floats are giving trouble\n",
    "    df = df.assign(\n",
    "        PM = df.PM.round(2)\n",
    "    ).rename(columns = {\"County\": \"county\"})\n",
    "    \n",
    "    return df\n",
    "\n",
    "\n",
    "# postmile adjustment\n",
    "# sometimes rounding isn't the same, so it doesn't merge \n",
    "# correct these and they should merge on\n",
    "ADDRESS_PM_DICT = {\n",
    "    \"HWY 88 PM 66.5\": \"HWY 88 PM 66.54\",\n",
    "    \"HWY 49 PM 8.107\": \"HWY 49 PM 8.1\",\n",
    "    \"HWY 395 PM 1152\": \"HWY 395 PM 11.54\",\n",
    "    \"HWY 44 PM 339\": \"HWY 44 PM 33.9\",\n",
    "    \"HWY 88 PM 134\": \"HWY 88 PM 13.4\",\n",
    "    \"HWY 70 PM 707\": \"HWY 70 PM 70.7\",\n",
    "    \"HWY 70 PM 552\": \"HWY 70 PM 55.2\",\n",
    "    \"HWY 5 66.9\": \"HWY 5 PM 66.90\",\n",
    "\n",
    "}\n",
    "    \n",
    "\n",
    "# Subset and find those in manual geocoding list that would be found in postmiles df\n",
    "def subset_manual_geocoding(df):\n",
    "    df = df.assign(\n",
    "        address = df.apply(lambda x: ADDRESS_PM_DICT[x.address] if x.address in ADDRESS_PM_DICT.keys()\n",
    "                           else x.address, axis=1)\n",
    "    )\n",
    "    \n",
    "    # These should be found in postmiles, with \"Hwy X PM Y\" pattern\n",
    "    # Allow the ones with extra notes to stay, like \"Hwy X PM Y ON NORTH WEED BLVD\"\n",
    "    df2 = df[(df.address.str.contains(\"PM\")) & \n",
    "         (df.address.notna())][\n",
    "        [\"sheet_uuid\", \"address\", \"county\"]]\n",
    "    \n",
    "    print(f\"have postmiles: {len(df2)}\")\n",
    "    \n",
    "    return df2\n",
    "\n",
    "\n",
    "def parse_postmiles(df):\n",
    "    df = df.assign(\n",
    "        Route = (df.address.str.split(\" PM \", expand=True)[0]\n",
    "                        .str.replace(\"HWY\", \"\").astype(int)\n",
    "                       ),\n",
    "        PM = (df.address.str.split(\" PM \", expand=True)[1]),\n",
    "    )\n",
    "    \n",
    "    df = df.assign(\n",
    "        PM = df.PM.str.split(\" \", expand=True)[0].astype(float).round(2)\n",
    "    ) \n",
    "    \n",
    "    return df\n",
    "\n",
    "\n",
    "# There are duplicates because there's a lat/lon for each direction (N/S, E/W)\n",
    "# Take centroid vs keep one of the obs after explicitly sorting\n",
    "# Either create new geometry or have a lat/lon that appears in postmiles df\n",
    "def find_centroid(df):\n",
    "    # The merge was left_only, and is df, not gdf\n",
    "    gdf = df.set_geometry(\"geometry\")\n",
    "    \n",
    "    # Dissolve by sheet_uuid, then calculate centroid\n",
    "    gdf2 = (gdf.dissolve(by=\"sheet_uuid\").centroid\n",
    "            .reset_index()\n",
    "            .rename(columns = {0: \"geometry\"})\n",
    "           )\n",
    "    \n",
    "    # Merge back in to df\n",
    "    gdf3 = pd.merge(\n",
    "        gdf2, \n",
    "        df[[\"sheet_uuid\", \"address\", \"county\"]].drop_duplicates(),\n",
    "        on = \"sheet_uuid\",\n",
    "        how = \"left\",\n",
    "        validate = \"1:1\",\n",
    "    )\n",
    "    \n",
    "    return gdf3\n",
    "\n",
    "\n"
   ]
  },
  {
   "cell_type": "code",
   "execution_count": 3,
   "id": "eca1ca21-678f-4e80-9113-6e17fd1d0152",
   "metadata": {},
   "outputs": [
    {
     "name": "stdout",
     "output_type": "stream",
     "text": [
      "have postmiles: 32\n"
     ]
    },
    {
     "name": "stderr",
     "output_type": "stream",
     "text": [
      "/tmp/ipykernel_1027/1100652072.py:77: UserWarning: Geometry is in a geographic CRS. Results from 'centroid' are likely incorrect. Use 'GeoSeries.to_crs()' to re-project geometries to a projected CRS before this operation.\n",
      "\n"
     ]
    }
   ],
   "source": [
    "df = pd.read_csv(f\"{utils.GCS_FILE_PATH}manual_geocoding.csv\")\n",
    "df2 = subset_manual_geocoding(df)\n",
    "df3 = parse_postmiles(df2)\n",
    "\n",
    "postmiles = clean_postmiles()\n",
    "\n",
    "df4 = pd.merge(\n",
    "    df3, \n",
    "    postmiles,\n",
    "    on = [\"Route\", \"PM\", \"county\"],\n",
    "    how = \"left\",\n",
    "    validate = \"1:m\",\n",
    "    indicator=True\n",
    ")\n",
    "\n",
    "df5 = find_centroid(df4)"
   ]
  },
  {
   "cell_type": "code",
   "execution_count": 4,
   "id": "0d14865f-6115-4d0a-a6f7-c141294fc453",
   "metadata": {},
   "outputs": [
    {
     "name": "stdout",
     "output_type": "stream",
     "text": [
      "6\n"
     ]
    }
   ],
   "source": [
    "manual_ones = df[~df.sheet_uuid.isin(df5.sheet_uuid)]\n",
    "print(len(manual_ones))"
   ]
  },
  {
   "cell_type": "code",
   "execution_count": 35,
   "id": "ad8a10ae-237b-4e9b-bba0-9b0e71912caa",
   "metadata": {},
   "outputs": [],
   "source": [
    "def add_manual_results(df): \n",
    "    ADDRESS_DICT2 = {\n",
    "        # Where Pacific Crest Trail intersects with Hwy 80\n",
    "        \"BOREAL RIDGE ROAD & PACIFIC CREST TRAILWAY\": {\"longitude\": -120.336147, \"latitude\": 39.342918},\n",
    "        # A guess - these bldgs don't have any associated with on Google Maps\n",
    "        # It's roughly 19 mi north of Ojai, off Hwy 33\n",
    "        \"19 MILES NORTH OF OJAI\": {\"longitude\": -119.302167, \"latitude\": 34.597436},\n",
    "    } \n",
    "\n",
    "    # Find these in geocoder_results\n",
    "    # Use full_address to match and create the lon/lat columns\n",
    "    FULL_ADDRESS_DICT = {\n",
    "        \"Childcare center Oakland, CA\": {\"longitude\": -122.264931, \"latitude\": 37.810912}, \n",
    "        \"Childcare center Los Angeles, CA\": {\"longitude\": -118.243285, \"latitude\": 34.051899},\n",
    "        \"Equipment shop Los Angeles, CA\": {\"longitude\": -118.243285, \"latitude\": 34.051899},\n",
    "    }\n",
    "    \n",
    "    \n",
    "    def add_lat_lon(row):\n",
    "        if row.full_address in FULL_ADDRESS_DICT.keys():\n",
    "            longitude = FULL_ADDRESS_DICT[row.full_address][\"longitude\"]\n",
    "            latitude = FULL_ADDRESS_DICT[row.full_address][\"latitude\"]\n",
    "        \n",
    "        elif row.address in ADDRESS_DICT2.keys():\n",
    "            longitude = ADDRESS_DICT2[row.address][\"longitude\"]\n",
    "            latitude = ADDRESS_DICT2[row.address][\"latitude\"]\n",
    "        else:\n",
    "            longitude = None\n",
    "            latitude = None\n",
    "            \n",
    "        return pd.Series([longitude, latitude], \n",
    "                         index=[\"longitude\", \"latitude\"])\n",
    "    \n",
    "    lat_lon = df.apply(add_lat_lon, axis=1)\n",
    "    df2 = pd.concat([df, lat_lon], axis=1)\n",
    "    \n",
    "    gdf = shared_utils.geography_utils.create_point_geometry(\n",
    "        df2,\n",
    "        longitude_col=\"longitude\",\n",
    "        latitude_col = \"latitude\"\n",
    "    ).drop(columns = [\"longitude\", \"latitude\"])\n",
    "    \n",
    "    return gdf"
   ]
  },
  {
   "cell_type": "code",
   "execution_count": 36,
   "id": "2418f9f7-62f2-4a81-b750-d421c23663cc",
   "metadata": {},
   "outputs": [],
   "source": [
    "manual_ones2 = add_manual_results(manual_ones)\n"
   ]
  },
  {
   "cell_type": "code",
   "execution_count": 39,
   "id": "1dc40dbd-d364-46cd-89cd-a460df367ce1",
   "metadata": {},
   "outputs": [],
   "source": [
    "t2 = pd.concat([df5, manual_ones2], axis=0, ignore_index=True)\n"
   ]
  },
  {
   "cell_type": "code",
   "execution_count": null,
   "id": "71c98973-2609-433e-b0f4-970d9483f02d",
   "metadata": {},
   "outputs": [],
   "source": []
  }
 ],
 "metadata": {
  "kernelspec": {
   "display_name": "Python 3 (ipykernel)",
   "language": "python",
   "name": "python3"
  },
  "language_info": {
   "codemirror_mode": {
    "name": "ipython",
    "version": 3
   },
   "file_extension": ".py",
   "mimetype": "text/x-python",
   "name": "python",
   "nbconvert_exporter": "python",
   "pygments_lexer": "ipython3",
   "version": "3.9.12"
  }
 },
 "nbformat": 4,
 "nbformat_minor": 5
}
