{
 "cells": [
  {
   "cell_type": "markdown",
   "id": "4a31813d-8fd9-4422-97f4-e129ac4640a0",
   "metadata": {},
   "source": [
    "# Manually geocode some locations\n",
    "\n",
    "* Some are valid, some require scouring Google Maps\n",
    "* [Open data: SHN postmiles](https://gisdata-caltrans.opendata.arcgis.com/datasets/c22341fec9c74c6b9488ee4da23dd967_0/explore?location=37.180926%2C-119.281571%2C6.41\n",
    ")"
   ]
  },
  {
   "cell_type": "code",
   "execution_count": 1,
   "id": "8b6b6534-b46e-422b-9597-28a2c7b4fffe",
   "metadata": {},
   "outputs": [
    {
     "name": "stderr",
     "output_type": "stream",
     "text": [
      "/opt/conda/lib/python3.9/site-packages/geopandas/_compat.py:111: UserWarning: The Shapely GEOS version (3.10.2-CAPI-1.16.0) is incompatible with the GEOS version PyGEOS was compiled with (3.10.1-CAPI-1.16.0). Conversions between both will be slow.\n",
      "  warnings.warn(\n"
     ]
    }
   ],
   "source": [
    "import geopandas as gpd\n",
    "import pandas as pd\n",
    "\n",
    "import utils\n",
    "import shared_utils"
   ]
  },
  {
   "cell_type": "code",
   "execution_count": 2,
   "id": "1345bc08-cc8a-4074-8d7b-c94978b05870",
   "metadata": {},
   "outputs": [
    {
     "name": "stdout",
     "output_type": "stream",
     "text": [
      "# to manually geocode: 38\n"
     ]
    }
   ],
   "source": [
    "df = pd.read_csv(f\"{utils.GCS_FILE_PATH}manual_geocoding.csv\")\n",
    "print(f\"# to manually geocode: {len(df)}\")"
   ]
  },
  {
   "cell_type": "code",
   "execution_count": 3,
   "id": "f4d6e266-7673-4a6e-b321-2185bd563f6a",
   "metadata": {},
   "outputs": [],
   "source": [
    "def clean_postmiles():\n",
    "\n",
    "    '''\n",
    "    df = shared_utils.utils.download_geoparquet( \n",
    "        GCS_FILE_PATH = f\"{utils.GCS_FILE_PATH}\", \n",
    "        FILE_NAME = \"shn_postmiles\"\n",
    "    )\n",
    "    '''\n",
    "    df = gpd.read_parquet(f\"{utils.DATA_PATH}shn_postmiles.parquet\")\n",
    "    \n",
    "    # Round to 2 decimal places\n",
    "    # otherwise, floats are giving trouble\n",
    "    df = df.assign(\n",
    "        PM = df.PM.round(2)\n",
    "    ).rename(columns = {\"County\": \"county\"})\n",
    "    \n",
    "    return df\n",
    "\n",
    "\n",
    "postmiles = clean_postmiles()"
   ]
  },
  {
   "cell_type": "code",
   "execution_count": 4,
   "id": "3e7ed0ec-9454-42bb-ba16-3c05021ba1e9",
   "metadata": {},
   "outputs": [],
   "source": [
    "def subset_manual_geocoding(df):\n",
    "    # These should be found in postmiles, with \"Hwy X PM Y\" pattern\n",
    "    # Allow the ones with extra notes to stay, like \"Hwy X PM Y ON NORTH WEED BLVD\"\n",
    "    \n",
    "    df2 = df[(df.address.str.contains(\"PM\")) & \n",
    "         (df.address.notna())][\n",
    "        [\"sheet_uuid\", \"address\", \"county\"]]\n",
    "    \n",
    "    print(f\"have postmiles: {len(df2)}\")\n",
    "    \n",
    "    return df2"
   ]
  },
  {
   "cell_type": "code",
   "execution_count": 5,
   "id": "0cf790e8-c8ee-47d8-8032-7dbaaf06ab03",
   "metadata": {},
   "outputs": [],
   "source": [
    "def parse_postmiles(df):\n",
    "    # postmile adjustment\n",
    "    # sometimes rounding isn't the same, so it doesn't merge \n",
    "    # correct these and they should merge on\n",
    "    PM_dict = {\n",
    "        \"HWY 88 PM 66.5\": \"HWY 88 PM 66.54\",\n",
    "        \"HWY 49 PM 8.107\": \"HWY 49 PM 8.1\",\n",
    "        \"HWY 395 PM 1152\": \"HWY 395 PM 11.54\",\n",
    "        \"HWY 44 PM 339\": \"HWY 44 PM 33.9\",\n",
    "        \"HWY 88 PM 134\": \"HWY 88 PM 13.4\",\n",
    "        \"HWY 70 PM 707\": \"HWY 70 PM 70.7\",\n",
    "        \"HWY 70 PM 552\": \"HWY 70 PM 55.2\",\n",
    "    }\n",
    "    \n",
    "    df = df.assign(\n",
    "        address = df.apply(lambda x: PM_dict[x.address] if x.address in PM_dict.keys()\n",
    "                           else x.address, axis=1)\n",
    "    )\n",
    "    \n",
    "    df = df.assign(\n",
    "        Route = (df.address.str.split(\" PM \", expand=True)[0]\n",
    "                        .str.replace(\"HWY\", \"\").astype(int)\n",
    "                       ),\n",
    "        PM = (df.address.str.split(\" PM \", expand=True)[1]),\n",
    "    )\n",
    "    \n",
    "    df = df.assign(\n",
    "        PM = df.PM.str.split(\" \", expand=True)[0].astype(float).round(2)\n",
    "    ) \n",
    "    \n",
    "    return df"
   ]
  },
  {
   "cell_type": "code",
   "execution_count": 6,
   "id": "2c47a8ba-7de6-4e47-941f-1ec82db37fa9",
   "metadata": {},
   "outputs": [
    {
     "name": "stdout",
     "output_type": "stream",
     "text": [
      "have postmiles: 31\n"
     ]
    }
   ],
   "source": [
    "df2 = subset_manual_geocoding(df)\n",
    "df3 = parse_postmiles(df2)"
   ]
  },
  {
   "cell_type": "code",
   "execution_count": 8,
   "id": "c2f2a0fb-e3a1-4a15-a8b5-823a88244981",
   "metadata": {},
   "outputs": [],
   "source": [
    "df4 = pd.merge(\n",
    "    df3, \n",
    "    postmiles,\n",
    "    on = [\"Route\", \"PM\", \"county\"],\n",
    "    how = \"left\",\n",
    "    validate = \"1:m\",\n",
    "    indicator=True\n",
    ")"
   ]
  },
  {
   "cell_type": "code",
   "execution_count": 9,
   "id": "4f4ee215-4224-4df9-a0cd-355293e1b829",
   "metadata": {},
   "outputs": [
    {
     "data": {
      "text/plain": [
       "both          64\n",
       "left_only      0\n",
       "right_only     0\n",
       "Name: _merge, dtype: int64"
      ]
     },
     "execution_count": 9,
     "metadata": {},
     "output_type": "execute_result"
    }
   ],
   "source": [
    "df4._merge.value_counts()"
   ]
  },
  {
   "cell_type": "code",
   "execution_count": 10,
   "id": "c12e7f94-2186-4d62-ad2a-313ac7a2b414",
   "metadata": {},
   "outputs": [],
   "source": [
    "# There are duplicates because there's a lat/lon for each direction (N/S, E/W)\n",
    "# Take centroid vs keep one of the obs after explicitly sorting\n",
    "# Either create new geometry or have a lat/lon that appears in postmiles df\n",
    "def find_centroid(df):\n",
    "    # The merge was left_only, and is df, not gdf\n",
    "    gdf = df.set_geometry(\"geometry\")\n",
    "    \n",
    "    # Dissolve by sheet_uuid, then calculate centroid\n",
    "    gdf2 = (gdf.dissolve(by=\"sheet_uuid\").centroid\n",
    "            .reset_index()\n",
    "            .rename(columns = {0: \"geometry\"})\n",
    "           )\n",
    "    \n",
    "    # Merge back in to df\n",
    "    gdf3 = pd.merge(\n",
    "        gdf2, \n",
    "        df[[\"sheet_uuid\", \"address\", \"county\"]].drop_duplicates(),\n",
    "        on = \"sheet_uuid\",\n",
    "        how = \"left\",\n",
    "        validate = \"1:1\",\n",
    "    )\n",
    "    \n",
    "    return gdf3"
   ]
  },
  {
   "cell_type": "code",
   "execution_count": 11,
   "id": "8d631f46-1223-4ad2-81eb-1da9bfa823d9",
   "metadata": {},
   "outputs": [
    {
     "name": "stderr",
     "output_type": "stream",
     "text": [
      "/tmp/ipykernel_1264/3603580827.py:9: UserWarning: Geometry is in a geographic CRS. Results from 'centroid' are likely incorrect. Use 'GeoSeries.to_crs()' to re-project geometries to a projected CRS before this operation.\n",
      "\n"
     ]
    }
   ],
   "source": [
    "df5 = find_centroid(df4)"
   ]
  },
  {
   "cell_type": "code",
   "execution_count": 14,
   "id": "b650b8a0-dcc2-456c-b7ef-3bcccb4c21e7",
   "metadata": {},
   "outputs": [
    {
     "data": {
      "text/html": [
       "<div>\n",
       "<style scoped>\n",
       "    .dataframe tbody tr th:only-of-type {\n",
       "        vertical-align: middle;\n",
       "    }\n",
       "\n",
       "    .dataframe tbody tr th {\n",
       "        vertical-align: top;\n",
       "    }\n",
       "\n",
       "    .dataframe thead th {\n",
       "        text-align: right;\n",
       "    }\n",
       "</style>\n",
       "<table border=\"1\" class=\"dataframe\">\n",
       "  <thead>\n",
       "    <tr style=\"text-align: right;\">\n",
       "      <th></th>\n",
       "      <th>sheet_uuid</th>\n",
       "      <th>geometry</th>\n",
       "      <th>address</th>\n",
       "      <th>county</th>\n",
       "    </tr>\n",
       "  </thead>\n",
       "  <tbody>\n",
       "  </tbody>\n",
       "</table>\n",
       "</div>"
      ],
      "text/plain": [
       "Empty GeoDataFrame\n",
       "Columns: [sheet_uuid, geometry, address, county]\n",
       "Index: []"
      ]
     },
     "execution_count": 14,
     "metadata": {},
     "output_type": "execute_result"
    }
   ],
   "source": [
    "df5[df5.geometry.isna()]"
   ]
  },
  {
   "cell_type": "code",
   "execution_count": 13,
   "id": "248e3eef-0256-4ae6-ac4c-7c973454f0bc",
   "metadata": {},
   "outputs": [
    {
     "data": {
      "text/plain": [
       "31"
      ]
     },
     "execution_count": 13,
     "metadata": {},
     "output_type": "execute_result"
    }
   ],
   "source": [
    "len(df5)"
   ]
  },
  {
   "cell_type": "code",
   "execution_count": null,
   "id": "f179ac2c-61db-449f-b634-488b01272f25",
   "metadata": {},
   "outputs": [],
   "source": []
  }
 ],
 "metadata": {
  "kernelspec": {
   "display_name": "Python 3 (ipykernel)",
   "language": "python",
   "name": "python3"
  },
  "language_info": {
   "codemirror_mode": {
    "name": "ipython",
    "version": 3
   },
   "file_extension": ".py",
   "mimetype": "text/x-python",
   "name": "python",
   "nbconvert_exporter": "python",
   "pygments_lexer": "ipython3",
   "version": "3.9.12"
  }
 },
 "nbformat": 4,
 "nbformat_minor": 5
}
