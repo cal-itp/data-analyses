{
 "cells": [
  {
   "cell_type": "markdown",
   "id": "8f86c76a-ffef-45dc-a949-e2f42f41345d",
   "metadata": {},
   "source": [
    "# Spatial Join to HQTA\n",
    "\n",
    "* Which HQTA file to use? Can use polygons first, and filter out the ferry and rail ones.\n",
    "* Seems like we don't have that many facilities to retrofit anyway.\n",
    "* Don't overcomplicate and think about whether it's near a bus's origin or destination.\n",
    "* Start with overall, within a district, a map showing both facility locations (points) and HQTA polygons.\n",
    "* In DTLA, that Caltrans building could be retrofitted, and the corridors it would serve are numerous.\n",
    "\n",
    "Folium ideas:\n",
    "* Use GeoJSON works, can use multiple layers function, but can't control marker\n",
    "* Using Marker or CircleMarker gets it to look nicer, but output is way larger for html\n",
    "* https://github.com/python-visualization/folium/issues/1059\n",
    "* https://github.com/python-visualization/folium/pull/957\n",
    "* look at this script: https://github.com/jtbaker/folium/blob/83745caa3613aede3d435909a325e13f9c50dde9/folium/features.py\n",
    "* ex: https://github.com/jtbaker/folium/blob/83745caa3613aede3d435909a325e13f9c50dde9/examples/GeoJSONMarker.ipynb\n"
   ]
  },
  {
   "cell_type": "code",
   "execution_count": null,
   "id": "7b70a328-bfc5-45af-95a9-fd1fcb9507db",
   "metadata": {},
   "outputs": [],
   "source": [
    "import geopandas as gpd\n",
    "import intake\n",
    "import pandas as pd\n",
    "\n",
    "import utils\n",
    "from shared_utils import geography_utils\n",
    "\n",
    "catalog = intake.open_catalog(\"./*.yml\")"
   ]
  },
  {
   "cell_type": "code",
   "execution_count": null,
   "id": "a3a4d1e1-543f-4e62-a56e-e78285a122e9",
   "metadata": {},
   "outputs": [],
   "source": [
    "facilities = catalog.tier1_facilities_processed.read()"
   ]
  },
  {
   "cell_type": "code",
   "execution_count": null,
   "id": "0a2834d2-0bab-4c2c-bdff-0dcebef891c7",
   "metadata": {},
   "outputs": [],
   "source": [
    "hqta = catalog.hqta_shapes.read()\n",
    "\n",
    "exclude_me = [\"major_stop_ferry\", \n",
    "           \"major_stop_rail\",\n",
    "          ]\n",
    "\n",
    "hqta = hqta[~hqta.hqta_type.isin(exclude_me)]"
   ]
  },
  {
   "cell_type": "code",
   "execution_count": null,
   "id": "e7330bd7-43b7-4454-a783-4188f742b1d1",
   "metadata": {},
   "outputs": [],
   "source": [
    "hqta_cols = ['calitp_itp_id_primary', 'agency_name_primary', 'hqta_type',\n",
    "       'calitp_itp_id_secondary', 'agency_name_secondary',]\n",
    "hqta2 = hqta.dissolve(by=hqta_cols).reset_index()"
   ]
  },
  {
   "cell_type": "code",
   "execution_count": null,
   "id": "70a3a88d-6f76-439b-81d6-73b1ebf6398b",
   "metadata": {},
   "outputs": [],
   "source": [
    "# spatial join\n",
    "gdf = gpd.sjoin(\n",
    "    facilities.to_crs(geography_utils.WGS84),\n",
    "    hqta2.to_crs(geography_utils.WGS84),\n",
    "    how = \"inner\",\n",
    "    predicate = \"intersects\",\n",
    ").drop(columns = \"index_right\").drop_duplicates()"
   ]
  },
  {
   "cell_type": "code",
   "execution_count": null,
   "id": "e82c8c3c-fa9f-4c3c-906b-2d59ce67732f",
   "metadata": {},
   "outputs": [],
   "source": [
    "gdf.sheet_uuid.nunique()"
   ]
  },
  {
   "cell_type": "code",
   "execution_count": null,
   "id": "4191a10b-a932-4889-884b-b831aa23d397",
   "metadata": {},
   "outputs": [],
   "source": [
    "# Which locations\n",
    "facility_cols = [\"sqft\", \"category\", \n",
    "                 \"facility_name\", \"facility_type\",\n",
    "                 \"address_arcgis_clean\", \n",
    "                 \"county_name\", \"district\",\n",
    "                ]\n",
    "facilities = gdf[[\"sheet_uuid\", \"geometry\"] + facility_cols].drop_duplicates()\n",
    "\n",
    "# Just draw a small buffer around the point for now\n",
    "# Then use function to plot multiple polygon layers\n",
    "# Tweak that map_utils multiple layers function to take points?\n",
    "'''\n",
    "facilities = facilities.assign(\n",
    "    longitude = facilities.geometry.x,\n",
    "    latitude = facilities.geometry.y,\n",
    "    geometry = (facilities.to_crs(geography_utils.CA_StatePlane).buffer(25)\n",
    "                .to_crs(geography_utils.WGS84)\n",
    "               )\n",
    ")\n",
    "'''"
   ]
  },
  {
   "cell_type": "code",
   "execution_count": null,
   "id": "436260cd-6a79-4a2a-bd50-0efcbd5c6ff7",
   "metadata": {},
   "outputs": [],
   "source": [
    "# Which HQTA corridors (polygon geom)\n",
    "hqta_cols = [\n",
    "    'calitp_itp_id_primary',\n",
    "    'agency_name_primary', \n",
    "    'hqta_type', \n",
    "    'calitp_itp_id_secondary',\n",
    "    'agency_name_secondary'\n",
    "]\n",
    "\n",
    "hqta_corr = (gdf[[\"sheet_uuid\"] + facility_cols + hqta_cols].drop_duplicates()\n",
    "             .merge(hqta2,\n",
    "                    on = hqta_cols,\n",
    "                    how = \"inner\"\n",
    "                   )\n",
    "            )\n",
    "\n",
    "hqta_corr = gpd.GeoDataFrame(hqta_corr).to_crs(geography_utils.WGS84)"
   ]
  },
  {
   "cell_type": "code",
   "execution_count": null,
   "id": "c57e0230-8ce3-45a8-8d6d-b74d2a1717c2",
   "metadata": {},
   "outputs": [],
   "source": [
    "#facilities.to_parquet(\"./data/plot_facilities.parquet\")\n",
    "#hqta_corr.to_parquet(\"./data/plot_hqta.parquet\")"
   ]
  },
  {
   "cell_type": "code",
   "execution_count": null,
   "id": "8d137371-d597-46bf-8c03-1f57c6011a11",
   "metadata": {},
   "outputs": [],
   "source": [
    "# A lot of these are in D4, D7, and a bunch that's HQ (subset of D3 geographically)\n",
    "# Can do statewide map, but district stats\n",
    "# For district, show breakdown of facility category / list of facility names"
   ]
  },
  {
   "cell_type": "markdown",
   "id": "92451b87-5e8f-47af-b367-3d830a79fddb",
   "metadata": {},
   "source": [
    "## Folium Map"
   ]
  },
  {
   "cell_type": "markdown",
   "id": "6808134e-076e-4f82-8076-6a79cb139864",
   "metadata": {},
   "source": [
    "Rewrite multiple layers function: \n",
    "\n",
    "* return folium.GeoJson object in sub-functions\n",
    "* this should handle multiple polygon layers or a point layer with a polygon layers. check if line is handled...maybe lines should always get buffers drawn around them.\n",
    "* unpack the list of GeoJson for multiple layers and add them to the Map, then add to Figure (`.add_to(m)`, `fig.add_child(m)`)"
   ]
  },
  {
   "cell_type": "code",
   "execution_count": null,
   "id": "d8d9c99e-f0cf-4459-867b-5e6c5f978f41",
   "metadata": {},
   "outputs": [],
   "source": [
    "import branca\n",
    "import folium\n",
    "import geopandas as gpd\n",
    "import intake\n",
    "import pandas as pd\n",
    "\n",
    "import utils\n",
    "import make_map\n",
    "from shared_utils import map_utils\n",
    "from shared_utils import calitp_color_palette as cp\n",
    "\n",
    "catalog = intake.open_catalog(\"./*.yml\")\n",
    "\n",
    "facilities = gpd.read_parquet(\"./data/plot_facilities.parquet\")\n",
    "hqta_corr = gpd.read_parquet(\"./data/plot_hqta.parquet\")"
   ]
  },
  {
   "cell_type": "code",
   "execution_count": null,
   "id": "f9649307-7647-4536-98c2-2bded58bdd55",
   "metadata": {},
   "outputs": [],
   "source": [
    "hqta_popup = {\n",
    "    \"hqta_type\": \"HQTA Type\",\n",
    "    \"agency_name_primary\": \"Primary Agency\",\n",
    "    \"agency_name_secondary\": \"Secondary Agency\",\n",
    "}\n",
    "\n",
    "# plot_col needs to be numeric. categorical throws error.\n",
    "# try it with dtype category?\n",
    "hqta_plot_col = \"sqft\"\n",
    "color_hqta = branca.colormap.StepColormap(\n",
    "    colors=[cp.CALITP_CATEGORY_BRIGHT_COLORS[0]]\n",
    ")\n",
    "\n",
    "\n",
    "facilities_popup = {\n",
    "    \"facility_name\": \"Name\",\n",
    "    \"address_arcgis_clean\": \"Address\" ,\n",
    "    \"category\": \"Facility Category\",\n",
    "    \"facility_type\": \"Facility Type\"\n",
    "}\n",
    "\n",
    "facilities_plot_col = \"sqft\"\n",
    "color_facilities = branca.colormap.StepColormap(\n",
    "    colors=[\"black\"]\n",
    ")\n",
    "\n",
    "LAYERS_DICT = { \n",
    "    \"hqta\": {\n",
    "        \"df\": hqta_corr,\n",
    "        \"plot_col\": hqta_plot_col,\n",
    "        \"popup_dict\": hqta_popup,\n",
    "        \"tooltip_dict\": hqta_popup,\n",
    "        \"colorscale\": color_hqta,\n",
    "        \"style_function\": lambda x: {\n",
    "            \"fillColor\": color_hqta(x[\"properties\"][hqta_plot_col])\n",
    "                if x[\"properties\"][hqta_plot_col] is not None\n",
    "                else \"gray\",\n",
    "                \"color\": \"#FFFFFF\",\n",
    "                \"fillOpacity\": 0.3,\n",
    "                \"weight\": 0.2,\n",
    "        }\n",
    "    },\n",
    "    \"facilities\": {\n",
    "        \"df\": facilities,\n",
    "        \"plot_col\": facilities_plot_col,\n",
    "        \"popup_dict\": facilities_popup,\n",
    "        \"tooltip_dict\": facilities_popup,\n",
    "        \"colorscale\": color_facilities,\n",
    "     # https://stackoverflow.com/questions/50954840/displaying-radius-in-meters-with-folium\n",
    "     # Circle shows radius in pixels, CircleMarker shows radius in meters (or whatever CRS is set) \n",
    "        \"marker\": folium.Circle(radius=500, fill_color=\"black\", \n",
    "                             fill_opacity=0.9, \n",
    "                             color=\"black\", weight=2),\n",
    "     \"highlight_function\": lambda x: {\"fillOpacity\": 0.8},\n",
    "     \"zoom_on_click\": True\n",
    "    },   \n",
    "}\n",
    "\n",
    "FIG_WIDTH = 500\n",
    "FIG_HEIGHT = 800"
   ]
  },
  {
   "cell_type": "code",
   "execution_count": null,
   "id": "eb04b7e0-55aa-4399-8dcc-1f3d94c67b37",
   "metadata": {},
   "outputs": [],
   "source": [
    "make_map.make_folium_multiple_layers_map(\n",
    "    LAYERS_DICT,\n",
    "    FIG_WIDTH,\n",
    "    FIG_HEIGHT,\n",
    "    zoom=map_utils.REGION_CENTROIDS[\"CA\"][\"zoom\"],\n",
    "    centroid=map_utils.REGION_CENTROIDS[\"CA\"][\"centroid\"],\n",
    "    title=\"Chart Title\",\n",
    "    legend_dict={\"legend_url\": \"\", \"legend_bottom\": 85, \"legend_left\": 5},\n",
    ")"
   ]
  },
  {
   "cell_type": "code",
   "execution_count": null,
   "id": "82ce4976-c205-4aa5-9ea6-4350cf29ebe2",
   "metadata": {},
   "outputs": [],
   "source": []
  },
  {
   "cell_type": "code",
   "execution_count": null,
   "id": "c9b0d717-6bd9-4f56-8810-9d43ac74940d",
   "metadata": {},
   "outputs": [],
   "source": []
  }
 ],
 "metadata": {
  "kernelspec": {
   "display_name": "Python 3 (ipykernel)",
   "language": "python",
   "name": "python3"
  },
  "language_info": {
   "codemirror_mode": {
    "name": "ipython",
    "version": 3
   },
   "file_extension": ".py",
   "mimetype": "text/x-python",
   "name": "python",
   "nbconvert_exporter": "python",
   "pygments_lexer": "ipython3",
   "version": "3.9.12"
  }
 },
 "nbformat": 4,
 "nbformat_minor": 5
}
