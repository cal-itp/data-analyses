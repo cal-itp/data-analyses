{
 "cells": [
  {
   "cell_type": "markdown",
   "id": "850323ff-9f17-4872-b083-dcf6fcbfb2b9",
   "metadata": {},
   "source": [
    "# Geocode addresses"
   ]
  },
  {
   "cell_type": "code",
   "execution_count": 1,
   "id": "34b07248-a6a7-4018-ae70-7c2b0729d81a",
   "metadata": {},
   "outputs": [],
   "source": [
    "import glob\n",
    "import pandas as pd\n",
    "import pickle\n",
    "import os\n",
    "\n",
    "import utils\n",
    "import A4_geocode"
   ]
  },
  {
   "cell_type": "code",
   "execution_count": 2,
   "id": "76053d27-91fc-470b-a04e-9cf6e1a2179f",
   "metadata": {},
   "outputs": [],
   "source": [
    "geocode_df = A4_geocode.prep_geocode_df()\n",
    "unique_uuid = list(geocode_df.sheet_uuid)"
   ]
  },
  {
   "cell_type": "code",
   "execution_count": null,
   "id": "219a5633-c5b1-4072-9ee0-d018e064b97e",
   "metadata": {},
   "outputs": [],
   "source": [
    "'''Upload local to GCS\n",
    "from calitp.storage import get_fs\n",
    "fs = get_fs()\n",
    "import json\n",
    "\n",
    "for i in glob.glob(f\"{utils.DATA_PATH}*.json\"):\n",
    "    gcs_name = i.replace(f\"{utils.DATA_PATH}\", \"\")\n",
    "    fs.put(i, f\"{utils.GCS_FILE_PATH}geocode_cache/{gcs_name}\")\n",
    "'''"
   ]
  },
  {
   "cell_type": "code",
   "execution_count": 3,
   "id": "80dc36a0-88d6-45c6-944d-cf04203b2083",
   "metadata": {},
   "outputs": [],
   "source": [
    "PICKLE_FILE = \"cached_results_uuid.pickle\"\n",
    "have_results = A4_geocode.read_or_new_pickle(f\"{utils.DATA_PATH}{PICKLE_FILE}\", [])"
   ]
  },
  {
   "cell_type": "code",
   "execution_count": 4,
   "id": "f27fcf26-b89d-48ed-8f3d-9bd8df107dde",
   "metadata": {},
   "outputs": [],
   "source": [
    "no_results = list(set(unique_uuid).difference(set(have_results)))"
   ]
  },
  {
   "cell_type": "code",
   "execution_count": 7,
   "id": "33bd82bb-221f-4cb0-a3f0-4b28d4645903",
   "metadata": {},
   "outputs": [
    {
     "data": {
      "text/html": [
       "<div>\n",
       "<style scoped>\n",
       "    .dataframe tbody tr th:only-of-type {\n",
       "        vertical-align: middle;\n",
       "    }\n",
       "\n",
       "    .dataframe tbody tr th {\n",
       "        vertical-align: top;\n",
       "    }\n",
       "\n",
       "    .dataframe thead th {\n",
       "        text-align: right;\n",
       "    }\n",
       "</style>\n",
       "<table border=\"1\" class=\"dataframe\">\n",
       "  <thead>\n",
       "    <tr style=\"text-align: right;\">\n",
       "      <th></th>\n",
       "      <th>full_address</th>\n",
       "      <th>city</th>\n",
       "      <th>zip_code</th>\n",
       "      <th>sheet_uuid</th>\n",
       "    </tr>\n",
       "  </thead>\n",
       "  <tbody>\n",
       "    <tr>\n",
       "      <th>552</th>\n",
       "      <td>315 Depot Road Maintenance Yard Ione, CA 95640</td>\n",
       "      <td>Ione</td>\n",
       "      <td>95640</td>\n",
       "      <td>e3951ed6-192a-4df0-adb8-7e46d4d15a21</td>\n",
       "    </tr>\n",
       "    <tr>\n",
       "      <th>559</th>\n",
       "      <td>3485 E Vista Way Bonsall, CA 92004</td>\n",
       "      <td>Bonsall</td>\n",
       "      <td>92004</td>\n",
       "      <td>01b1b577-b896-478b-944f-4c684281915a</td>\n",
       "    </tr>\n",
       "    <tr>\n",
       "      <th>560</th>\n",
       "      <td>817 Sweetwater Road Spring Valley, CA 91977</td>\n",
       "      <td>Spring Valley</td>\n",
       "      <td>91977</td>\n",
       "      <td>2caa3bdd-e055-4f50-9278-27c8f325166a</td>\n",
       "    </tr>\n",
       "    <tr>\n",
       "      <th>561</th>\n",
       "      <td>Rt 905 @ Airway Rd San Diego, CA 92154</td>\n",
       "      <td>San Diego</td>\n",
       "      <td>92154</td>\n",
       "      <td>3803cad1-9d26-4b00-9dd8-b687505fa096</td>\n",
       "    </tr>\n",
       "    <tr>\n",
       "      <th>565</th>\n",
       "      <td>9235 Camino Santa Fe Road San Diego, CA 92121</td>\n",
       "      <td>San Diego</td>\n",
       "      <td>92121</td>\n",
       "      <td>187ab724-b289-4874-9649-3acd58ffd8f9</td>\n",
       "    </tr>\n",
       "  </tbody>\n",
       "</table>\n",
       "</div>"
      ],
      "text/plain": [
       "                                       full_address           city  zip_code  \\\n",
       "552  315 Depot Road Maintenance Yard Ione, CA 95640           Ione     95640   \n",
       "559              3485 E Vista Way Bonsall, CA 92004        Bonsall     92004   \n",
       "560     817 Sweetwater Road Spring Valley, CA 91977  Spring Valley     91977   \n",
       "561          Rt 905 @ Airway Rd San Diego, CA 92154      San Diego     92154   \n",
       "565   9235 Camino Santa Fe Road San Diego, CA 92121      San Diego     92121   \n",
       "\n",
       "                               sheet_uuid  \n",
       "552  e3951ed6-192a-4df0-adb8-7e46d4d15a21  \n",
       "559  01b1b577-b896-478b-944f-4c684281915a  \n",
       "560  2caa3bdd-e055-4f50-9278-27c8f325166a  \n",
       "561  3803cad1-9d26-4b00-9dd8-b687505fa096  \n",
       "565  187ab724-b289-4874-9649-3acd58ffd8f9  "
      ]
     },
     "execution_count": 7,
     "metadata": {},
     "output_type": "execute_result"
    }
   ],
   "source": [
    "geocode_df[geocode_df.sheet_uuid.isin(no_results)].tail()"
   ]
  },
  {
   "cell_type": "code",
   "execution_count": null,
   "id": "b4231946-adef-4a8a-8744-20740e6d51a8",
   "metadata": {},
   "outputs": [],
   "source": [
    "df = pd.read_parquet(f\"{utils.GCS_FILE_PATH}geocoder_results.parquet\")\n",
    "len(df)"
   ]
  },
  {
   "cell_type": "code",
   "execution_count": null,
   "id": "87c72c72-e09f-418a-a73e-ef76814f08b9",
   "metadata": {},
   "outputs": [],
   "source": [
    "'''\n",
    "PICKLE_FILE = \"cached_results_uuid.pickle\"\n",
    "with open(f\"{utils.DATA_PATH}{PICKLE_FILE}\", \"wb\") as f:\n",
    "    pickle.dump(cached_results, f)\n",
    "'''"
   ]
  },
  {
   "cell_type": "code",
   "execution_count": null,
   "id": "e61b03a3-485b-4968-b36b-efd74a87f825",
   "metadata": {},
   "outputs": [],
   "source": []
  },
  {
   "cell_type": "code",
   "execution_count": null,
   "id": "521d1f85-481a-4276-aa71-bbdec11219ee",
   "metadata": {},
   "outputs": [],
   "source": []
  },
  {
   "cell_type": "code",
   "execution_count": null,
   "id": "a005faee-9550-4079-833a-14e2d2ae97a6",
   "metadata": {},
   "outputs": [],
   "source": [
    "import json\n",
    "\n",
    "for i in unique_uuid:\n",
    "    my_dict = json.load(open(f\"{utils.DATA_PATH}{i}.json\"))\n",
    "    if my_dict is None:\n",
    "        os.remove(f\"{utils.DATA_PATH}{i}.json\")\n",
    "        print(f\"removed: {i}\")"
   ]
  },
  {
   "cell_type": "code",
   "execution_count": null,
   "id": "062632c4-2978-4620-80a9-339c034c2a3a",
   "metadata": {},
   "outputs": [],
   "source": [
    "len(glob.glob('./data/*.json'))"
   ]
  },
  {
   "cell_type": "code",
   "execution_count": null,
   "id": "889d6640-e66b-4b16-b42b-aed3fbb88ca6",
   "metadata": {},
   "outputs": [],
   "source": [
    "PICKLE_FILE = \"cached_results_uuid.pickle\"\n",
    "have_results = A4_geocode.read_or_new_pickle(f\"{utils.DATA_PATH}{PICKLE_FILE}\", [])"
   ]
  },
  {
   "cell_type": "code",
   "execution_count": null,
   "id": "3889085d-14ef-4208-9af9-802231c08364",
   "metadata": {},
   "outputs": [],
   "source": [
    "set(unique_uuid)==set(have_results)"
   ]
  },
  {
   "cell_type": "code",
   "execution_count": null,
   "id": "e81d90e9-2585-454a-9995-0e447830df45",
   "metadata": {},
   "outputs": [],
   "source": [
    "# TODO: Unable to compile results and put into another df to merge\n",
    "# take cached results, download, and see if it can be read in as df \n",
    "# then do pd.concat"
   ]
  },
  {
   "cell_type": "code",
   "execution_count": null,
   "id": "73ba8c0f-f21f-4e05-bc05-74fcf326f308",
   "metadata": {},
   "outputs": [],
   "source": [
    "'''\n",
    "# this is a dictionary\n",
    "test_address = for_geocoding2.full_address.iloc[0]\n",
    "print(test_address)\n",
    "g = geocoder.osm(test_address)\n",
    "print(g.osm)\n",
    "\n",
    "{'x': -124.17505328571428, \n",
    "'y': 40.79185285714286, \n",
    "'addr:housenumber': '1656', \n",
    "'addr:street': 'Union Street', \n",
    "'addr:city': 'Eureka', \n",
    "'addr:state': 'California', \n",
    "'addr:country': 'United States', \n",
    "'addr:postal': '95501'}\n",
    "\n",
    "results = g.osm\n",
    "'''"
   ]
  },
  {
   "cell_type": "code",
   "execution_count": null,
   "id": "73b21ba0-6b32-4617-8443-bdc62c0a90a8",
   "metadata": {},
   "outputs": [],
   "source": [
    "'''\n",
    "pd.concat([\n",
    "    test_df, \n",
    "    pd.DataFrame.from_dict(results, orient=\"index\").T], axis=1\n",
    "    )\n",
    "'''"
   ]
  },
  {
   "cell_type": "code",
   "execution_count": null,
   "id": "669e2f14-e6fe-4d4e-a0a3-000b69cfdf44",
   "metadata": {},
   "outputs": [],
   "source": [
    "# apply to row, then return columns for each address row\n",
    "# concat 2 dfs together\n",
    "#geocoded_results = pd.concat([test_df, res1], axis=1)"
   ]
  },
  {
   "cell_type": "code",
   "execution_count": null,
   "id": "83f04332-657f-4cd0-b270-90ea16b7f080",
   "metadata": {},
   "outputs": [],
   "source": []
  },
  {
   "cell_type": "code",
   "execution_count": null,
   "id": "af619be8-303a-4c36-9b53-2e4a65471996",
   "metadata": {},
   "outputs": [],
   "source": []
  }
 ],
 "metadata": {
  "kernelspec": {
   "display_name": "Python 3 (ipykernel)",
   "language": "python",
   "name": "python3"
  },
  "language_info": {
   "codemirror_mode": {
    "name": "ipython",
    "version": 3
   },
   "file_extension": ".py",
   "mimetype": "text/x-python",
   "name": "python",
   "nbconvert_exporter": "python",
   "pygments_lexer": "ipython3",
   "version": "3.9.12"
  }
 },
 "nbformat": 4,
 "nbformat_minor": 5
}
