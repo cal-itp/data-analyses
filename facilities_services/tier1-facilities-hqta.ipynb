{
 "cells": [
  {
   "cell_type": "markdown",
   "id": "8f86c76a-ffef-45dc-a949-e2f42f41345d",
   "metadata": {},
   "source": [
    "# Tier 1 Facilities in High Quality Transit Areas\n",
    "<hr style=\"border:2px solid #8CBCCB\">"
   ]
  },
  {
   "cell_type": "code",
   "execution_count": null,
   "id": "7b70a328-bfc5-45af-95a9-fd1fcb9507db",
   "metadata": {},
   "outputs": [],
   "source": [
    "%%capture\n",
    "import warnings\n",
    "warnings.filterwarnings('ignore')\n",
    "\n",
    "import altair as alt\n",
    "import branca\n",
    "import folium\n",
    "import geopandas as gpd\n",
    "import intake\n",
    "import pandas as pd\n",
    "\n",
    "from IPython.display import Markdown, HTML\n",
    "\n",
    "import utils\n",
    "from shared_utils import geography_utils, map_utils, styleguide\n",
    "from shared_utils import calitp_color_palette as cp\n",
    "import B1_layers_to_plot\n",
    "import B2_chart_utils as chart_utils\n",
    "\n",
    "alt.themes.register(\"calitp_theme\", styleguide.calitp_theme)\n",
    "catalog = intake.open_catalog(\"./*.yml\")"
   ]
  },
  {
   "cell_type": "code",
   "execution_count": null,
   "id": "c57e0230-8ce3-45a8-8d6d-b74d2a1717c2",
   "metadata": {},
   "outputs": [],
   "source": [
    "df = catalog.tier1_facilities_processed.read()\n",
    "facilities, hqta_corr = B1_layers_to_plot.layers_to_plot()"
   ]
  },
  {
   "cell_type": "code",
   "execution_count": null,
   "id": "1ac6ab75-301f-44fc-9540-fdd2be5f64f0",
   "metadata": {},
   "outputs": [],
   "source": [
    "# Create new sqft variable to use in map\n",
    "# If we use sqft with NaNs, it'll show up with gray color\n",
    "hqta_corr = hqta_corr.assign(\n",
    "    sqft2 = hqta_corr.sqft.fillna(0).astype(int)\n",
    ")"
   ]
  },
  {
   "cell_type": "markdown",
   "id": "dda12be6-8962-4058-86a5-54d4e036dd3c",
   "metadata": {},
   "source": [
    "## Key Takeaways"
   ]
  },
  {
   "cell_type": "code",
   "execution_count": null,
   "id": "1e223e77-3927-46d7-a084-34b65657016c",
   "metadata": {},
   "outputs": [],
   "source": [
    "def aggregate_stats(df, group_cols):\n",
    "\n",
    "    df2 = geography_utils.aggregate_by_geography(\n",
    "        df, \n",
    "        group_cols = group_cols,\n",
    "        sum_cols = [\"sqft\"],\n",
    "        nunique_cols = [\"sheet_uuid\"]\n",
    "    ).rename(columns = {\"sheet_uuid\": \"num_facilities\"})\n",
    "\n",
    "    df2 = df2.assign(\n",
    "        pct = df2.num_facilities.divide(df2.num_facilities.sum()).round(3)\n",
    "    )\n",
    "    \n",
    "    return df2"
   ]
  },
  {
   "cell_type": "code",
   "execution_count": null,
   "id": "d30a0bb7-cb3f-44e2-b1b7-dba2987a5027",
   "metadata": {},
   "outputs": [],
   "source": [
    "hqta_by_category = aggregate_stats(facilities, [\"category\"])\n",
    "statewide_by_category = aggregate_stats(df, [\"category\"])"
   ]
  },
  {
   "cell_type": "code",
   "execution_count": null,
   "id": "4c747972-0e04-4c4a-aa9d-237b658cd1c1",
   "metadata": {},
   "outputs": [],
   "source": [
    "def grab_caption_values(df):\n",
    "    pct = round(df.pct.iloc[0] * 100)\n",
    "    num = df.num_facilities.iloc[0]\n",
    "    \n",
    "    return pct, num"
   ]
  },
  {
   "cell_type": "code",
   "execution_count": null,
   "id": "ad2dd1c3-2ba4-46b8-b053-becfa297eaf9",
   "metadata": {},
   "outputs": [],
   "source": [
    "# Grab values needed in caption\n",
    "ca_facilities = statewide_by_category.num_facilities.sum()\n",
    "hqta_facilities = hqta_by_category.num_facilities.sum()\n",
    "\n",
    "ca_pct, ca_num = grab_caption_values(\n",
    "    statewide_by_category[statewide_by_category.pct==statewide_by_category.pct.max()])\n",
    "\n",
    "hqta_pct, hqta_num = grab_caption_values(\n",
    "    hqta_by_category[hqta_by_category.pct==hqta_by_category.pct.max()])\n",
    "\n",
    "ca_o_pct, ca_o_num = grab_caption_values(\n",
    "    statewide_by_category[statewide_by_category.category==\"office\"])\n",
    "\n",
    "hqta_o_pct, hqta_o_num = grab_caption_values(\n",
    "    hqta_by_category[hqta_by_category.category==\"office\"])"
   ]
  },
  {
   "cell_type": "code",
   "execution_count": null,
   "id": "350489c3-7dcd-4bc1-91fb-e1500b9bb74c",
   "metadata": {},
   "outputs": [],
   "source": [
    "# Use for bar charts\n",
    "by_district = aggregate_stats(facilities, [\"district\", \"category\"])\n",
    "by_county = aggregate_stats(facilities, [\"county_name\", \"category\"])"
   ]
  },
  {
   "cell_type": "code",
   "execution_count": null,
   "id": "48628f90-9a65-490d-9b79-01d129aa9c93",
   "metadata": {},
   "outputs": [],
   "source": [
    "by_district2 = aggregate_stats(facilities, [\"district\"])\n",
    "by_county2 = aggregate_stats(facilities, [\"county_name\"])\n",
    "\n",
    "d4_pct, d4_num = grab_caption_values(by_district2[by_district2.district==4])\n",
    "d7_pct, d7_num = grab_caption_values(by_district2[by_district2.district==7])\n",
    "\n",
    "sac_pct, sac_num = grab_caption_values(by_county2[by_county2.county_name==\"Sacramento\"])\n",
    "la_pct, la_num = grab_caption_values(by_county2[by_county2.county_name==\"Los Angeles\"])"
   ]
  },
  {
   "cell_type": "code",
   "execution_count": null,
   "id": "661abdaa-f3c0-4797-bc04-a7c6ccab5c45",
   "metadata": {},
   "outputs": [],
   "source": [
    "display(HTML(\"<h4>Facilities</h4>\"))\n",
    "display(Markdown(\n",
    "    f\"* Statewide, there are **{ca_facilities} Tier 1 facilities.**\"\n",
    "))\n",
    "\n",
    "display(Markdown(\n",
    "    f\"* **{hqta_facilities} ({round(hqta_facilities/ca_facilities * 100, 1)}%) \"\n",
    "    \"facilities fall within HQTAs.**\"\n",
    "))\n",
    "\n",
    "\n",
    "display(HTML(\"<h4>Categories</h4>\"))\n",
    "display(Markdown(\n",
    "    f\"* Statewide and in HQTAs, **maintenance is the largest category**, \"\n",
    "    f\"with {ca_num} locations statewide ({ca_pct}%), \"\n",
    "    f\"and {hqta_num} locations in HQTAs ({hqta_pct}%). \"\n",
    "))\n",
    "\n",
    "display(Markdown(\n",
    "    f\"* Statewide, **offices** account for only {ca_o_pct}% ({ca_o_num}) of locations, \"\n",
    "    f\"yet **in HQTAs, make up {hqta_o_pct}% ({hqta_o_num})** of locations.\"\n",
    "))\n",
    "\n",
    "\n",
    "display(HTML(\"<h4>Districts</h4>\"))\n",
    "display(Markdown(\n",
    "    \"* **Most locations are located in Districts 4 and 7.**\"\n",
    "))\n",
    "\n",
    "display(Markdown(\n",
    "    f\"* District 4: {d4_num} locations ({d4_pct}%)\"\n",
    "))\n",
    "\n",
    "display(Markdown(\n",
    "    f\"* District 7: {d7_num} locations ({d7_pct}%)\"\n",
    "))\n",
    "\n",
    "display(HTML(\"<h4>Counties</h4>\"))\n",
    "display(Markdown(\n",
    "    \"* **Most locations are located in Sacramento and Los Angeles Counties.**\"\n",
    "))\n",
    "\n",
    "display(Markdown(\n",
    "    f\"* Sacramento County: {sac_num} locations ({sac_pct}%)\"\n",
    "))\n",
    "\n",
    "display(Markdown(\n",
    "    f\"* Los Angeles County: {la_num} locations ({la_pct}%)\"\n",
    "))"
   ]
  },
  {
   "cell_type": "code",
   "execution_count": null,
   "id": "f1033e6a-1e03-46aa-80cd-4c4e959fb6f9",
   "metadata": {},
   "outputs": [],
   "source": [
    "hqta_donut = (chart_utils.make_donut_chart(hqta_by_category, \n",
    "                                           y_col = \"num_facilities\", \n",
    "                                           color_col = \"category\")\n",
    "              .properties(title=\"HQTA\", \n",
    "                          width = styleguide.chart_width * 0.7)\n",
    "             )\n",
    "\n",
    "all_facilities_donut = (chart_utils.make_donut_chart(statewide_by_category, \n",
    "                                                     y_col = \"num_facilities\",\n",
    "                                                     color_col = \"category\")\n",
    "                        .properties(title=\"Statewide\", \n",
    "                                    width = styleguide.chart_width * 0.7\n",
    "                                   )\n",
    "                       )\n",
    "\n",
    "donuts = (\n",
    "    alt.hconcat(\n",
    "        all_facilities_donut, \n",
    "        hqta_donut\n",
    "    ).resolve_scale(theta='independent')\n",
    "    .properties(title=\"Facility Categories Statewide and in HQTAs\")\n",
    ")\n",
    "\n",
    "donuts = (styleguide.apply_chart_config(donuts)\n",
    "          .configure_view(strokeWidth=0)\n",
    "         )\n",
    "donuts"
   ]
  },
  {
   "cell_type": "code",
   "execution_count": null,
   "id": "bf6f79ae-7ecc-4d55-ad4e-93fa1a18d988",
   "metadata": {},
   "outputs": [],
   "source": [
    "district_bar = chart_utils.make_bar_chart(by_district, \"district\")\n",
    "district_bar"
   ]
  },
  {
   "cell_type": "code",
   "execution_count": null,
   "id": "30487194-7a4a-4e14-a678-fd64934d11e0",
   "metadata": {},
   "outputs": [],
   "source": [
    "county_bar = chart_utils.make_bar_chart(by_county, \"county_name\")\n",
    "county_bar"
   ]
  },
  {
   "cell_type": "markdown",
   "id": "bbc44b72-9c09-4993-a3fe-e51a35932b78",
   "metadata": {},
   "source": [
    "## Map of Locations to Retrofit"
   ]
  },
  {
   "cell_type": "code",
   "execution_count": null,
   "id": "4413310f-8dc9-4290-8297-6fb2763357bf",
   "metadata": {},
   "outputs": [],
   "source": [
    "hqta_popup = {\n",
    "    \"hqta_type\": \"HQTA Type\",\n",
    "    \"agency_name_primary\": \"Primary Agency\",\n",
    "    \"agency_name_secondary\": \"Secondary Agency\",\n",
    "}\n",
    "\n",
    "# plot_col needs to be numeric. categorical throws error.\n",
    "# try it with dtype category?\n",
    "# But, just use 1 color, and then it won't matter what plot_col was selected\n",
    "hqta_plot_col = \"sqft2\"\n",
    "color_hqta = branca.colormap.StepColormap(\n",
    "    colors=[cp.CALITP_CATEGORY_BRIGHT_COLORS[4]]\n",
    ")\n",
    "\n",
    "\n",
    "facilities_popup = {\n",
    "    \"facility_name\": \"Name\",\n",
    "    \"address_arcgis_clean\": \"Address\" ,\n",
    "    \"category\": \"Facility Category\",\n",
    "    \"facility_type\": \"Facility Type\"\n",
    "}\n",
    "\n",
    "facilities_plot_col = \"sqft\"\n",
    "color_facilities = branca.colormap.StepColormap(\n",
    "    colors=[\"black\"]\n",
    ")\n",
    "\n",
    "LAYERS_DICT = { \n",
    "    \"HQTA\": {\n",
    "        \"df\": hqta_corr,\n",
    "        \"plot_col\": hqta_plot_col,\n",
    "        \"popup_dict\": hqta_popup,\n",
    "        \"tooltip_dict\": hqta_popup,\n",
    "        \"colorscale\": color_hqta,\n",
    "        \"style_function\": lambda x: {\n",
    "            \"fillColor\": color_hqta(x[\"properties\"][hqta_plot_col])\n",
    "                if x[\"properties\"][hqta_plot_col] is not None\n",
    "                else \"gray\",\n",
    "                \"color\": \"#FFFFFF\",\n",
    "                \"fillOpacity\": 0.2,\n",
    "                \"weight\": 0.2,\n",
    "        }\n",
    "    },\n",
    "    \"Facilities\": {\n",
    "        \"df\": facilities,\n",
    "        \"plot_col\": facilities_plot_col,\n",
    "        \"popup_dict\": facilities_popup,\n",
    "        \"tooltip_dict\": facilities_popup,\n",
    "        \"colorscale\": color_facilities,\n",
    "     # https://stackoverflow.com/questions/50954840/displaying-radius-in-meters-with-folium\n",
    "     # Circle shows radius in pixels, CircleMarker shows radius in meters (or whatever CRS is set) \n",
    "        \"marker\": folium.Circle(radius=500, fill_color=\"black\", \n",
    "                             fill_opacity=0.9, \n",
    "                             color=\"black\", weight=2),\n",
    "     \"highlight_function\": lambda x: {\"fillOpacity\": 0.8},\n",
    "     \"zoom_on_click\": True\n",
    "    },   \n",
    "}\n",
    "\n",
    "FIG_WIDTH = 800\n",
    "FIG_HEIGHT = 1_000"
   ]
  },
  {
   "cell_type": "code",
   "execution_count": null,
   "id": "74aa5d01-4a03-4608-819e-7b7890ecdf66",
   "metadata": {},
   "outputs": [],
   "source": [
    "#display(Markdown(\"#### Tier 1 Facilities\"))\n",
    "#color_facilities"
   ]
  },
  {
   "cell_type": "code",
   "execution_count": null,
   "id": "450016aa-4fe2-48d5-ba98-2b8e07a76244",
   "metadata": {},
   "outputs": [],
   "source": [
    "#display(Markdown(\"#### High Quality Transit Areas\"))\n",
    "#color_hqta"
   ]
  },
  {
   "cell_type": "code",
   "execution_count": null,
   "id": "b1b25ed7-8263-4430-87be-ec6c667575a1",
   "metadata": {},
   "outputs": [],
   "source": [
    "LEGEND_URL = (\n",
    "    'https://raw.githubusercontent.com/cal-itp/data-analyses/'\n",
    "    'main/facilities_services/'\n",
    "    'legend_facilities_hqta.png'\n",
    ")"
   ]
  },
  {
   "cell_type": "code",
   "execution_count": null,
   "id": "529dc307-b62b-4068-b0e7-f428f9a66eb8",
   "metadata": {},
   "outputs": [],
   "source": [
    "#This error shows up\n",
    "#/home/jovyan/data-analyses/portfolio/hqta/0__tier1-facilities-hqta__.ipynb:200002: \n",
    "#WARNING: image file not readable: legend_facilities_hqta.png\n",
    "\n",
    "#![legend](./legend_facilities_hqta.png)\n",
    "\n",
    "\n",
    "#This works: \n",
    "#![legend](https://raw.githubusercontent.com/cal-itp/data-analyses/main/facilities_services/legend_facilities_hqta.png)"
   ]
  },
  {
   "cell_type": "markdown",
   "id": "c179ba66-fe9f-49de-8d68-26cde18da648",
   "metadata": {},
   "source": [
    "![legend](https://raw.githubusercontent.com/cal-itp/data-analyses/main/facilities_services/legend_facilities_hqta.png)"
   ]
  },
  {
   "cell_type": "code",
   "execution_count": null,
   "id": "dafec354-52df-45f6-b1cc-2af0de6bff47",
   "metadata": {
    "tags": []
   },
   "outputs": [],
   "source": [
    "fig = map_utils.make_folium_multiple_layers_map(\n",
    "    LAYERS_DICT,\n",
    "    FIG_WIDTH,\n",
    "    FIG_HEIGHT,\n",
    "    zoom=map_utils.REGION_CENTROIDS[\"CA\"][\"zoom\"],\n",
    "    centroid=map_utils.REGION_CENTROIDS[\"CA\"][\"centroid\"],\n",
    "    title=\"Tier 1 Facilities in HQTA\",\n",
    "    legend_dict=None,\n",
    ")\n",
    "\n",
    "fig"
   ]
  },
  {
   "cell_type": "markdown",
   "id": "87de131a-1a1f-4071-bbe0-c07d16522248",
   "metadata": {},
   "source": [
    "## Facility Stats by District"
   ]
  },
  {
   "cell_type": "code",
   "execution_count": null,
   "id": "b71bcb61-b6e4-4d26-b37e-24bb0cc3c181",
   "metadata": {},
   "outputs": [],
   "source": [
    "#district_list = sorted(facilities.district.unique())\n",
    "#district_list"
   ]
  },
  {
   "cell_type": "code",
   "execution_count": null,
   "id": "6c40d56b-b122-474f-8164-05bed3a46db1",
   "metadata": {},
   "outputs": [],
   "source": [
    "def district_map(gdf: gpd.GeoDataFrame): \n",
    "    m = gdf.explore(\"address_arcgis_clean\", categorical = True, \n",
    "                           tiles = \"Carto DB Positron\")\n",
    "    \n",
    "    display(m)"
   ]
  },
  {
   "cell_type": "code",
   "execution_count": null,
   "id": "2655a8ec-019f-42fb-8710-7de5af620450",
   "metadata": {},
   "outputs": [],
   "source": [
    "def district_stats(df, district):\n",
    "    \n",
    "    display_cols = [\n",
    "        \"facility_name\", \"category\", \"address_arcgis_clean\", \n",
    "        \"facility_type\", \"sqft\"\n",
    "    ]\n",
    "    \n",
    "    df2 = df[df.district==district][display_cols + [\"geometry\"]]\n",
    "    \n",
    "    if len(df2) > 0:\n",
    "        \n",
    "        district_map(df2)\n",
    "    \n",
    "\n",
    "        # If there's no facility name, and it's an office, replace it with the District number\n",
    "        df2 = (df2.assign(\n",
    "            facility_name = df2.apply(lambda x: f\"District {district} Office\"\n",
    "                                      if x.facility_name is None \n",
    "                                      else x.facility_name, axis=1)\n",
    "            )[display_cols]\n",
    "            .rename(columns = {\"address_arcgis_clean\": \"address\"})\n",
    "        )\n",
    "\n",
    "        df2.columns = df2.columns.str.replace('_', ' ').str.title()\n",
    "\n",
    "        # Style the table\n",
    "        df_style = (df2.style.format(subset=['Sqft'], \n",
    "                   **{'formatter': '{:,.0f}'}, na_rep='')\n",
    "                    .set_properties(subset=[\n",
    "                        'Facility Name', 'Address', 'Facility Type'], \n",
    "                        **{'text-align': 'left'})\n",
    "                    .set_properties(subset=['Category', 'Sqft'], \n",
    "                   **{'text-align': 'center'})\n",
    "                    .set_table_styles([dict(selector='th',\n",
    "                                            props=[('text-align', 'center')]\n",
    "                                           )]\n",
    "                                     )\n",
    "                 .hide(axis=\"index\")\n",
    "                )\n",
    "\n",
    "        #return df_style\n",
    "    \n",
    "        display(HTML(df_style.to_html()))\n",
    "\n",
    "    else:\n",
    "        print(f\"No facilities in District {district}\")\n"
   ]
  },
  {
   "cell_type": "markdown",
   "id": "7f1d979d-244e-43f7-9674-678f61c513ac",
   "metadata": {},
   "source": [
    "### HQ"
   ]
  },
  {
   "cell_type": "code",
   "execution_count": null,
   "id": "c44ddba3-9190-44b3-a6bb-14744b805487",
   "metadata": {},
   "outputs": [],
   "source": [
    "district = 59\n",
    "table = district_stats(facilities, district)"
   ]
  },
  {
   "cell_type": "markdown",
   "id": "6ee6d997-ef0c-4940-9abc-7b63b3f0f3db",
   "metadata": {},
   "source": [
    "### District 1 - Eureka"
   ]
  },
  {
   "cell_type": "code",
   "execution_count": null,
   "id": "22d1a245-3b27-4d60-9b12-a6cfe54e9cc6",
   "metadata": {},
   "outputs": [],
   "source": [
    "district = 1\n",
    "table = district_stats(facilities, district)"
   ]
  },
  {
   "cell_type": "markdown",
   "id": "7c3e2ca7-6c34-40df-add6-cbf410564799",
   "metadata": {},
   "source": [
    "### District 2 - Redding"
   ]
  },
  {
   "cell_type": "code",
   "execution_count": null,
   "id": "bf2bab08-5656-49d5-854e-831a87127f35",
   "metadata": {},
   "outputs": [],
   "source": [
    "district = 2\n",
    "table = district_stats(facilities, district)"
   ]
  },
  {
   "cell_type": "markdown",
   "id": "d93cbc6a-da61-4e50-bef8-ddef247f5673",
   "metadata": {},
   "source": [
    "### District 3 - Marysville"
   ]
  },
  {
   "cell_type": "code",
   "execution_count": null,
   "id": "6798e6b7-72a3-411d-ae67-f397b004e51c",
   "metadata": {},
   "outputs": [],
   "source": [
    "district = 3\n",
    "table = district_stats(facilities, district)"
   ]
  },
  {
   "cell_type": "markdown",
   "id": "4227dd2f-ffe2-4955-a017-08f1fb03a6ce",
   "metadata": {},
   "source": [
    "### District 4 - Oakland"
   ]
  },
  {
   "cell_type": "code",
   "execution_count": null,
   "id": "64ad37cf-41aa-4481-ba28-31637de5a19f",
   "metadata": {},
   "outputs": [],
   "source": [
    "district = 4\n",
    "table = district_stats(facilities, district)"
   ]
  },
  {
   "cell_type": "markdown",
   "id": "e6e30669-97a7-4043-8136-dda86ce93888",
   "metadata": {},
   "source": [
    "### District 5 - San Luis Obispo"
   ]
  },
  {
   "cell_type": "code",
   "execution_count": null,
   "id": "86d4c5b6-5dda-4792-bfd2-4f51aef9840b",
   "metadata": {},
   "outputs": [],
   "source": [
    "district = 5\n",
    "table = district_stats(facilities, district)"
   ]
  },
  {
   "cell_type": "markdown",
   "id": "36862f7f-56f7-4f1b-912b-764a79506309",
   "metadata": {},
   "source": [
    "### District 6 - Fresno"
   ]
  },
  {
   "cell_type": "code",
   "execution_count": null,
   "id": "93710c22-fa31-429d-8259-28c2f48f8ffd",
   "metadata": {},
   "outputs": [],
   "source": [
    "district = 6\n",
    "table = district_stats(facilities, district)"
   ]
  },
  {
   "cell_type": "markdown",
   "id": "c99e1d1a-d098-4f6a-a7c7-10747dcd34c1",
   "metadata": {},
   "source": [
    "### District 7 - Los Angeles"
   ]
  },
  {
   "cell_type": "code",
   "execution_count": null,
   "id": "80ec877d-5cd3-4623-8213-eb5ea48de4d0",
   "metadata": {},
   "outputs": [],
   "source": [
    "district = 7\n",
    "table = district_stats(facilities, district)"
   ]
  },
  {
   "cell_type": "markdown",
   "id": "ed24cf5a-e339-4fe6-83a3-d385c3205546",
   "metadata": {},
   "source": [
    "### District 8 - San Bernardino"
   ]
  },
  {
   "cell_type": "code",
   "execution_count": null,
   "id": "b30f20c0-db66-4d4d-a27b-0cdf022e20ac",
   "metadata": {},
   "outputs": [],
   "source": [
    "district = 8\n",
    "table = district_stats(facilities, district)"
   ]
  },
  {
   "cell_type": "markdown",
   "id": "255d3eeb-ef87-464f-af4f-36b2e9108cfc",
   "metadata": {},
   "source": [
    "### District 9 - Bishop"
   ]
  },
  {
   "cell_type": "code",
   "execution_count": null,
   "id": "e87de1aa-ae35-44e1-8698-e1f0d71acbdd",
   "metadata": {},
   "outputs": [],
   "source": [
    "district = 9\n",
    "table = district_stats(facilities, district)"
   ]
  },
  {
   "cell_type": "markdown",
   "id": "661564e7-4dc3-41dc-ba53-5eac0f3b88e5",
   "metadata": {},
   "source": [
    "### District 10 - Stockton"
   ]
  },
  {
   "cell_type": "code",
   "execution_count": null,
   "id": "dccc8214-5940-49fa-81b1-a94c5d8fdcb2",
   "metadata": {},
   "outputs": [],
   "source": [
    "district = 10\n",
    "table = district_stats(facilities, district)"
   ]
  },
  {
   "cell_type": "markdown",
   "id": "264f453b-eef4-4827-9fb3-334ae508ce46",
   "metadata": {},
   "source": [
    "### District 11 - San Diego"
   ]
  },
  {
   "cell_type": "code",
   "execution_count": null,
   "id": "006646a9-91ff-4cda-9172-e6d020e82652",
   "metadata": {},
   "outputs": [],
   "source": [
    "district = 11\n",
    "table = district_stats(facilities, district)"
   ]
  },
  {
   "cell_type": "markdown",
   "id": "5a4ed3dc-8cbc-4e28-86c9-0214d36eba9d",
   "metadata": {},
   "source": [
    "### District 12 - Irvine"
   ]
  },
  {
   "cell_type": "code",
   "execution_count": null,
   "id": "394a9299-1c7b-4a3b-9b45-a64b26e52b64",
   "metadata": {},
   "outputs": [],
   "source": [
    "district = 12\n",
    "table = district_stats(facilities, district)"
   ]
  },
  {
   "cell_type": "code",
   "execution_count": null,
   "id": "982788d1-79fa-42b7-81af-845a70f3b4db",
   "metadata": {},
   "outputs": [],
   "source": []
  }
 ],
 "metadata": {
  "kernelspec": {
   "display_name": "Python 3 (ipykernel)",
   "language": "python",
   "name": "python3"
  },
  "language_info": {
   "codemirror_mode": {
    "name": "ipython",
    "version": 3
   },
   "file_extension": ".py",
   "mimetype": "text/x-python",
   "name": "python",
   "nbconvert_exporter": "python",
   "pygments_lexer": "ipython3",
   "version": "3.10.5"
  }
 },
 "nbformat": 4,
 "nbformat_minor": 5
}
