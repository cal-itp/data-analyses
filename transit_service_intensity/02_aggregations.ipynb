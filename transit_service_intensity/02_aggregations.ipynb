{
 "cells": [
  {
   "cell_type": "code",
   "execution_count": 1,
   "id": "9e645c63-24e5-466f-8f20-279614c1d767",
   "metadata": {},
   "outputs": [],
   "source": [
    "import sys"
   ]
  },
  {
   "cell_type": "code",
   "execution_count": 131,
   "id": "4f3eb58f-9663-4867-a5c2-2ed658cd4c0d",
   "metadata": {},
   "outputs": [],
   "source": [
    "import intake\n",
    "import pandas as pd\n",
    "import geopandas as gpd\n",
    "import numpy as np\n",
    "from calitp_data_analysis import geography_utils\n",
    "from siuba import *\n",
    "import gtfs_segments\n",
    "import shapely"
   ]
  },
  {
   "cell_type": "code",
   "execution_count": 3,
   "id": "dbc34a06-4993-426d-8e6e-99b9cd447222",
   "metadata": {},
   "outputs": [],
   "source": [
    "from shared_utils import catalog_utils, rt_dates, rt_utils\n",
    "GTFS_DATA_DICT = catalog_utils.get_catalog(\"gtfs_analytics_data\")"
   ]
  },
  {
   "cell_type": "code",
   "execution_count": 4,
   "id": "815cb9ed-e7dd-4a8f-9830-917101668c45",
   "metadata": {},
   "outputs": [],
   "source": [
    "from segment_speed_utils import helpers"
   ]
  },
  {
   "cell_type": "code",
   "execution_count": 5,
   "id": "0d7d3d01-a56f-4c3d-96dc-cb0f1938432f",
   "metadata": {
    "tags": []
   },
   "outputs": [],
   "source": [
    "from tqdm import tqdm\n",
    "tqdm.pandas(desc=\"Progress\")"
   ]
  },
  {
   "cell_type": "code",
   "execution_count": 6,
   "id": "bf9bbb7a-620d-4847-a770-9243782451f4",
   "metadata": {
    "tags": []
   },
   "outputs": [],
   "source": [
    "analysis_date = rt_dates.DATES['feb2025']"
   ]
  },
  {
   "cell_type": "markdown",
   "id": "afe82e80-7c93-43ed-a32a-5c3daed646eb",
   "metadata": {},
   "source": [
    "# Aggregations\n",
    "\n",
    "Combine trip-level info with border zone info and stops in tract/border info, then aggregate.\n",
    "\n",
    "## Methodology\n",
    "\n",
    "* analysis segment in tract & shape has 1+ stops in tract -> allocate vrm, vrh to that tract\n",
    "* analysis segment in border zone & shape has 1+ stops in zone -> allocate vrm, vrh to that zone\n",
    "    * sub-allocate border zone vrm, vrh 50/50 to bordering tracts\n",
    "* analysis segment in tract or border zone but shape has 0 stops in tract/zone\n",
    "    * allocate 50/50 to adjacent tracts or zones, repeat above "
   ]
  },
  {
   "cell_type": "code",
   "execution_count": 134,
   "id": "808bd00b-97d4-4251-a0e0-92b843be0c56",
   "metadata": {
    "tags": []
   },
   "outputs": [],
   "source": [
    "trip_tsi_alameda = pd.concat([pd.read_parquet('./trips_set1_tsi_segs_alameda_2025-02-12.parquet'),\n",
    "                             pd.read_parquet('./trips_set2_tsi_segs_alameda_2025-02-12.parquet')])"
   ]
  },
  {
   "cell_type": "code",
   "execution_count": 135,
   "id": "908bc07e-0b8b-42c9-ad51-9c27231a9c37",
   "metadata": {
    "tags": []
   },
   "outputs": [
    {
     "data": {
      "text/html": [
       "<div>\n",
       "<style scoped>\n",
       "    .dataframe tbody tr th:only-of-type {\n",
       "        vertical-align: middle;\n",
       "    }\n",
       "\n",
       "    .dataframe tbody tr th {\n",
       "        vertical-align: top;\n",
       "    }\n",
       "\n",
       "    .dataframe thead th {\n",
       "        text-align: right;\n",
       "    }\n",
       "</style>\n",
       "<table border=\"1\" class=\"dataframe\">\n",
       "  <thead>\n",
       "    <tr style=\"text-align: right;\">\n",
       "      <th></th>\n",
       "      <th>shape_array_key</th>\n",
       "      <th>tsi_segment_id</th>\n",
       "      <th>start_meters</th>\n",
       "      <th>tsi_segment_meters</th>\n",
       "      <th>trip_instance_key</th>\n",
       "      <th>arrival_sec</th>\n",
       "      <th>arrival_sec_next</th>\n",
       "      <th>segment_seconds</th>\n",
       "    </tr>\n",
       "  </thead>\n",
       "  <tbody>\n",
       "    <tr>\n",
       "      <th>71580</th>\n",
       "      <td>4dff2f7bd084547a24529a02806234d0</td>\n",
       "      <td>f4d8a196-1a7a-4a34-8ab3-1310c39bb429</td>\n",
       "      <td>10873.972623</td>\n",
       "      <td>266.319586</td>\n",
       "      <td>7936e1ebd5e663bc3c0e621579b40329</td>\n",
       "      <td>87052.024038</td>\n",
       "      <td>87073.502298</td>\n",
       "      <td>21.478260</td>\n",
       "    </tr>\n",
       "    <tr>\n",
       "      <th>71596</th>\n",
       "      <td>4dff2f7bd084547a24529a02806234d0</td>\n",
       "      <td>f4d8a196-1a7a-4a34-8ab3-1310c39bb429</td>\n",
       "      <td>10873.972623</td>\n",
       "      <td>266.319586</td>\n",
       "      <td>3b584e25a7ce90b5c7814e8ace9598ea</td>\n",
       "      <td>26030.851102</td>\n",
       "      <td>26053.502298</td>\n",
       "      <td>22.651195</td>\n",
       "    </tr>\n",
       "    <tr>\n",
       "      <th>71604</th>\n",
       "      <td>4dff2f7bd084547a24529a02806234d0</td>\n",
       "      <td>f4d8a196-1a7a-4a34-8ab3-1310c39bb429</td>\n",
       "      <td>10873.972623</td>\n",
       "      <td>266.319586</td>\n",
       "      <td>8b67bae021d2b2a32d8d99ab369f0762</td>\n",
       "      <td>34488.270644</td>\n",
       "      <td>34518.003063</td>\n",
       "      <td>29.732420</td>\n",
       "    </tr>\n",
       "  </tbody>\n",
       "</table>\n",
       "</div>"
      ],
      "text/plain": [
       "                        shape_array_key                        tsi_segment_id  \\\n",
       "71580  4dff2f7bd084547a24529a02806234d0  f4d8a196-1a7a-4a34-8ab3-1310c39bb429   \n",
       "71596  4dff2f7bd084547a24529a02806234d0  f4d8a196-1a7a-4a34-8ab3-1310c39bb429   \n",
       "71604  4dff2f7bd084547a24529a02806234d0  f4d8a196-1a7a-4a34-8ab3-1310c39bb429   \n",
       "\n",
       "       start_meters  tsi_segment_meters                 trip_instance_key  \\\n",
       "71580  10873.972623          266.319586  7936e1ebd5e663bc3c0e621579b40329   \n",
       "71596  10873.972623          266.319586  3b584e25a7ce90b5c7814e8ace9598ea   \n",
       "71604  10873.972623          266.319586  8b67bae021d2b2a32d8d99ab369f0762   \n",
       "\n",
       "        arrival_sec  arrival_sec_next  segment_seconds  \n",
       "71580  87052.024038      87073.502298        21.478260  \n",
       "71596  26030.851102      26053.502298        22.651195  \n",
       "71604  34488.270644      34518.003063        29.732420  "
      ]
     },
     "execution_count": 135,
     "metadata": {},
     "output_type": "execute_result"
    }
   ],
   "source": [
    "trip_tsi_alameda.head(3)"
   ]
  },
  {
   "cell_type": "code",
   "execution_count": 252,
   "id": "f5c0fe96-4b72-4588-ad5a-3f0d46166630",
   "metadata": {
    "tags": []
   },
   "outputs": [],
   "source": [
    "def read_shapes_stopping_in_seg(analysis_date):\n",
    "    cols = ['shape_array_key', 'tsi_segment_id']\n",
    "    sstb = pd.read_parquet(f'./shape_stops_tracts_borders_{analysis_date}.parquet')[cols]\n",
    "    sstb['has_stop'] = True\n",
    "    return sstb"
   ]
  },
  {
   "cell_type": "code",
   "execution_count": 253,
   "id": "0909f713-eaf6-4f70-97a6-44ea55ed4426",
   "metadata": {},
   "outputs": [],
   "source": [
    "sstb = read_shapes_stopping_in_seg(analysis_date)"
   ]
  },
  {
   "cell_type": "code",
   "execution_count": 312,
   "id": "2007b022-9e70-46c8-b320-a18d1eb051c4",
   "metadata": {
    "tags": []
   },
   "outputs": [
    {
     "data": {
      "text/html": [
       "<div>\n",
       "<style scoped>\n",
       "    .dataframe tbody tr th:only-of-type {\n",
       "        vertical-align: middle;\n",
       "    }\n",
       "\n",
       "    .dataframe tbody tr th {\n",
       "        vertical-align: top;\n",
       "    }\n",
       "\n",
       "    .dataframe thead th {\n",
       "        text-align: right;\n",
       "    }\n",
       "</style>\n",
       "<table border=\"1\" class=\"dataframe\">\n",
       "  <thead>\n",
       "    <tr style=\"text-align: right;\">\n",
       "      <th></th>\n",
       "      <th>shape_array_key</th>\n",
       "      <th>tsi_segment_id</th>\n",
       "      <th>has_stop</th>\n",
       "    </tr>\n",
       "  </thead>\n",
       "  <tbody>\n",
       "    <tr>\n",
       "      <th>0</th>\n",
       "      <td>3c4985abe54a0185f7b7e9dc726d5e11</td>\n",
       "      <td>06001400100</td>\n",
       "      <td>True</td>\n",
       "    </tr>\n",
       "    <tr>\n",
       "      <th>2294</th>\n",
       "      <td>3c4985abe54a0185f7b7e9dc726d5e11</td>\n",
       "      <td>fa118075-aeb1-4986-81bc-b312385b09a9</td>\n",
       "      <td>True</td>\n",
       "    </tr>\n",
       "    <tr>\n",
       "      <th>2295</th>\n",
       "      <td>3c4985abe54a0185f7b7e9dc726d5e11</td>\n",
       "      <td>84aea543-aa00-4882-bbdc-08b596ba1456</td>\n",
       "      <td>True</td>\n",
       "    </tr>\n",
       "  </tbody>\n",
       "</table>\n",
       "</div>"
      ],
      "text/plain": [
       "                       shape_array_key                        tsi_segment_id  \\\n",
       "0     3c4985abe54a0185f7b7e9dc726d5e11                           06001400100   \n",
       "2294  3c4985abe54a0185f7b7e9dc726d5e11  fa118075-aeb1-4986-81bc-b312385b09a9   \n",
       "2295  3c4985abe54a0185f7b7e9dc726d5e11  84aea543-aa00-4882-bbdc-08b596ba1456   \n",
       "\n",
       "      has_stop  \n",
       "0         True  \n",
       "2294      True  \n",
       "2295      True  "
      ]
     },
     "execution_count": 312,
     "metadata": {},
     "output_type": "execute_result"
    }
   ],
   "source": [
    "sstb.head(3)"
   ]
  },
  {
   "cell_type": "code",
   "execution_count": 255,
   "id": "d04caff3-3ee5-41c7-bbb8-3987b9b3aa93",
   "metadata": {
    "tags": []
   },
   "outputs": [],
   "source": [
    "def attach_stopping_info(trip_segment_df, shape_stopping_df):\n",
    "    '''\n",
    "    '''\n",
    "    df = trip_segment_df.merge(shape_stopping_df, how='left', on=['shape_array_key', 'tsi_segment_id'])\n",
    "    df.has_stop = df.has_stop.fillna(False)\n",
    "    return df"
   ]
  },
  {
   "cell_type": "code",
   "execution_count": 256,
   "id": "442b6dbe-d738-445d-8c81-907af7161f2b",
   "metadata": {
    "tags": []
   },
   "outputs": [],
   "source": [
    "joined = attach_stopping_info(trip_tsi_alameda, sstb)"
   ]
  },
  {
   "cell_type": "code",
   "execution_count": 258,
   "id": "d2b19b7f-7cdf-4101-9a00-2262a446f35b",
   "metadata": {
    "tags": []
   },
   "outputs": [],
   "source": [
    "bart_shape_array = 'db1920458bee7ea9de34b68eb9f4d8a5'"
   ]
  },
  {
   "cell_type": "code",
   "execution_count": 289,
   "id": "4c6507f6-be1e-418c-afc3-cfec8536ec73",
   "metadata": {
    "tags": []
   },
   "outputs": [],
   "source": [
    "act_6_shape_array = '3caab5c44277cbdc8fbc755bc0ea7633'"
   ]
  },
  {
   "cell_type": "markdown",
   "id": "2f078ab4-8fbc-4886-9498-8e88d0c427c1",
   "metadata": {},
   "source": [
    "## test aggregation"
   ]
  },
  {
   "cell_type": "code",
   "execution_count": 265,
   "id": "c2a4b0a0-3b0a-4d01-b5fa-5d97c038e85c",
   "metadata": {
    "tags": []
   },
   "outputs": [],
   "source": [
    "sstb_geo = gpd.read_parquet(f'./shape_stops_tracts_borders_{analysis_date}.parquet')\n",
    "# sstb_geo.query('shape_array_key == @act_6_sa').explore()"
   ]
  },
  {
   "cell_type": "markdown",
   "id": "91f97ea2-a47a-4585-aea7-3ffbcfaa7202",
   "metadata": {},
   "source": [
    "### handle snap to tracts/borders with stops"
   ]
  },
  {
   "cell_type": "code",
   "execution_count": 266,
   "id": "e429dd44-8214-4693-a61e-838d7fffb1cd",
   "metadata": {
    "tags": []
   },
   "outputs": [],
   "source": [
    "def locate_stopping_segments(row, df):\n",
    "    if row.has_stop:\n",
    "        return row\n",
    "    else:\n",
    "        id_before = None\n",
    "        id_after = None\n",
    "        # print(row.name)\n",
    "        stop_before = df.loc[:(row.name - 1)].query('has_stop')\n",
    "        if not stop_before.empty:\n",
    "            id_before = stop_before.query('start_meters == start_meters.max()').tsi_segment_id.iloc[0]\n",
    "        stop_after = df.loc[(row.name + 1):].query('has_stop')\n",
    "        if not stop_after.empty:\n",
    "            id_after = stop_after.query('start_meters == start_meters.min()').tsi_segment_id.iloc[0]\n",
    "        row['stopping_segments'] = (id_before, id_after)\n",
    "        # return (id_before, id_after)\n",
    "        return row"
   ]
  },
  {
   "cell_type": "code",
   "execution_count": 309,
   "id": "ed3f81a5-27e0-4086-9b6b-137ae01ea115",
   "metadata": {
    "tags": []
   },
   "outputs": [],
   "source": [
    "def assign_stopping_sequences(joined_df):\n",
    "    '''\n",
    "    with a joined trip tsi segment df and shape\n",
    "    stopping df, create a new df by shape showing \n",
    "    which tsi segments (tracts or border zones) vrh & vrm\n",
    "    should be allocated to when there are no stops for that\n",
    "    shape in that segment\n",
    "    '''\n",
    "    cols = ['shape_array_key', 'start_meters', 'tsi_segment_id', 'has_stop']\n",
    "    simple_sequence_df = (joined_df[cols]\n",
    "                          .drop_duplicates()\n",
    "                          .sort_values(['shape_array_key', 'start_meters'])\n",
    "                          .reset_index(drop=True)\n",
    "                         )\n",
    "    fn = lambda df: df.apply(locate_stopping_segments, df=df, axis=1)\n",
    "    #  tuples will be (None, id) where there are no previous stops, or (id, None) where no subsequent stops\n",
    "    stopping_sequences_df = simple_sequence_df.groupby('shape_array_key', group_keys=False).progress_apply(fn)\n",
    "    #  scrub nones from tuples for accurate count:\n",
    "    stopping_sequences_df.stopping_segments = stopping_sequences_df.stopping_segments.map(\n",
    "            lambda y: y if type(y) != tuple else tuple(x for x in y if x))\n",
    "    stopping_sequences_df['n_stopping_segments'] = stopping_sequences_df.stopping_segments.map(\n",
    "            lambda y: y if type(y) != tuple else len(y)).fillna(1)\n",
    "    unassigned = stopping_sequences_df.query('n_stopping_segments == 0')\n",
    "    print(f'{unassigned.shape[0]} segments out of {stopping_sequences_df.shape[0]} can not be matched to a stop')\n",
    "    stopping_sequences_df = stopping_sequences_df.query('n_stopping_segments >= 1')\n",
    "    #  divide time and distance in tsi segments by number of segments post-explode\n",
    "    joined_df = (joined_df.merge(stopping_sequences_df, on=['has_stop', 'shape_array_key', 'start_meters', 'tsi_segment_id'])\n",
    "                 .explode('stopping_segments')\n",
    "                )\n",
    "    joined_df = joined_df.assign(tsi_segment_meters = joined_df.tsi_segment_meters / joined_df.n_stopping_segments,\n",
    "                         segment_seconds = joined_df.segment_seconds / joined_df.n_stopping_segments\n",
    "                        )\n",
    "    #  replace tsi_segment_id with stopping_segment if present, df can now be aggregated normally on tsi_segment_id\n",
    "    joined_df.tsi_segment_id = joined_df.stopping_segments.fillna(joined_df.tsi_segment_id)\n",
    "    joined_df = joined_df.drop(columns=['has_stop'])\n",
    "    return joined_df"
   ]
  },
  {
   "cell_type": "code",
   "execution_count": 310,
   "id": "30119c1b-1df2-49c7-961d-a7b3185a2aa9",
   "metadata": {
    "tags": []
   },
   "outputs": [
    {
     "name": "stderr",
     "output_type": "stream",
     "text": [
      "Progress: 100%|██████████| 501/501 [00:29<00:00, 17.11it/s]\n"
     ]
    },
    {
     "name": "stdout",
     "output_type": "stream",
     "text": [
      "159 segments out of 9855 can not be matched to a stop\n"
     ]
    }
   ],
   "source": [
    "joined = attach_stopping_info(trip_tsi_alameda, sstb)\n",
    "stopping_sequences_df = assign_stopping_sequences(joined)"
   ]
  },
  {
   "cell_type": "markdown",
   "id": "c63e8371-b151-4335-877b-f684bdfa2f75",
   "metadata": {},
   "source": [
    "### handle snap to bordering tracts"
   ]
  },
  {
   "cell_type": "code",
   "execution_count": 327,
   "id": "2753f65d-0826-480e-b223-f95b05c75f6a",
   "metadata": {
    "tags": []
   },
   "outputs": [],
   "source": [
    "borders = gpd.read_parquet('test_tracts_borders_2025-02-12.parquet')"
   ]
  },
  {
   "cell_type": "code",
   "execution_count": 328,
   "id": "d5c35606-46d2-4555-a274-f0e646cbe7db",
   "metadata": {
    "tags": []
   },
   "outputs": [],
   "source": [
    "border_cols = ['tsi_segment_id', 'border_tracts', 'border']"
   ]
  },
  {
   "cell_type": "code",
   "execution_count": 329,
   "id": "069132aa-e739-4345-a5d6-8a676ed925ba",
   "metadata": {
    "tags": []
   },
   "outputs": [],
   "source": [
    "borders = borders.assign(border_tracts = tuple(zip(borders.tract_1, borders.tract_2)))[border_cols].drop_duplicates()"
   ]
  },
  {
   "cell_type": "code",
   "execution_count": 330,
   "id": "0e4a9a4a-e123-4661-95b1-47c24162515e",
   "metadata": {
    "tags": []
   },
   "outputs": [
    {
     "data": {
      "text/html": [
       "<div>\n",
       "<style scoped>\n",
       "    .dataframe tbody tr th:only-of-type {\n",
       "        vertical-align: middle;\n",
       "    }\n",
       "\n",
       "    .dataframe tbody tr th {\n",
       "        vertical-align: top;\n",
       "    }\n",
       "\n",
       "    .dataframe thead th {\n",
       "        text-align: right;\n",
       "    }\n",
       "</style>\n",
       "<table border=\"1\" class=\"dataframe\">\n",
       "  <thead>\n",
       "    <tr style=\"text-align: right;\">\n",
       "      <th></th>\n",
       "      <th>tsi_segment_id</th>\n",
       "      <th>border_tracts</th>\n",
       "      <th>border</th>\n",
       "    </tr>\n",
       "  </thead>\n",
       "  <tbody>\n",
       "    <tr>\n",
       "      <th>0</th>\n",
       "      <td>06001450604</td>\n",
       "      <td>(None, None)</td>\n",
       "      <td>False</td>\n",
       "    </tr>\n",
       "    <tr>\n",
       "      <th>1</th>\n",
       "      <td>06001450743</td>\n",
       "      <td>(None, None)</td>\n",
       "      <td>False</td>\n",
       "    </tr>\n",
       "    <tr>\n",
       "      <th>2</th>\n",
       "      <td>06001450744</td>\n",
       "      <td>(None, None)</td>\n",
       "      <td>False</td>\n",
       "    </tr>\n",
       "    <tr>\n",
       "      <th>3</th>\n",
       "      <td>06001450745</td>\n",
       "      <td>(None, None)</td>\n",
       "      <td>False</td>\n",
       "    </tr>\n",
       "    <tr>\n",
       "      <th>4</th>\n",
       "      <td>06001451300</td>\n",
       "      <td>(None, None)</td>\n",
       "      <td>False</td>\n",
       "    </tr>\n",
       "    <tr>\n",
       "      <th>...</th>\n",
       "      <td>...</td>\n",
       "      <td>...</td>\n",
       "      <td>...</td>\n",
       "    </tr>\n",
       "    <tr>\n",
       "      <th>8633</th>\n",
       "      <td>d2f2ae5a-171d-49d1-9a4b-23079b2a32d4</td>\n",
       "      <td>(06001440332, 06001440331)</td>\n",
       "      <td>True</td>\n",
       "    </tr>\n",
       "    <tr>\n",
       "      <th>9117</th>\n",
       "      <td>9f05c3b7-d069-442d-a9be-e143a42a0764</td>\n",
       "      <td>(06001440301, 06001440200)</td>\n",
       "      <td>True</td>\n",
       "    </tr>\n",
       "    <tr>\n",
       "      <th>9385</th>\n",
       "      <td>06001404501</td>\n",
       "      <td>(None, None)</td>\n",
       "      <td>False</td>\n",
       "    </tr>\n",
       "    <tr>\n",
       "      <th>9670</th>\n",
       "      <td>5bed63b1-0c12-48b6-b3eb-08256dd363f6</td>\n",
       "      <td>(06001423400, 06001424001)</td>\n",
       "      <td>True</td>\n",
       "    </tr>\n",
       "    <tr>\n",
       "      <th>9673</th>\n",
       "      <td>d29fde2e-d2a8-404d-b1eb-3cc7feb1697e</td>\n",
       "      <td>(06001421400, 06001421200)</td>\n",
       "      <td>True</td>\n",
       "    </tr>\n",
       "  </tbody>\n",
       "</table>\n",
       "<p>933 rows × 3 columns</p>\n",
       "</div>"
      ],
      "text/plain": [
       "                            tsi_segment_id               border_tracts  border\n",
       "0                              06001450604                (None, None)   False\n",
       "1                              06001450743                (None, None)   False\n",
       "2                              06001450744                (None, None)   False\n",
       "3                              06001450745                (None, None)   False\n",
       "4                              06001451300                (None, None)   False\n",
       "...                                    ...                         ...     ...\n",
       "8633  d2f2ae5a-171d-49d1-9a4b-23079b2a32d4  (06001440332, 06001440331)    True\n",
       "9117  9f05c3b7-d069-442d-a9be-e143a42a0764  (06001440301, 06001440200)    True\n",
       "9385                           06001404501                (None, None)   False\n",
       "9670  5bed63b1-0c12-48b6-b3eb-08256dd363f6  (06001423400, 06001424001)    True\n",
       "9673  d29fde2e-d2a8-404d-b1eb-3cc7feb1697e  (06001421400, 06001421200)    True\n",
       "\n",
       "[933 rows x 3 columns]"
      ]
     },
     "execution_count": 330,
     "metadata": {},
     "output_type": "execute_result"
    }
   ],
   "source": [
    "borders"
   ]
  },
  {
   "cell_type": "code",
   "execution_count": 331,
   "id": "ae80b01f-2e31-48ac-b11d-771f71168090",
   "metadata": {
    "tags": []
   },
   "outputs": [
    {
     "data": {
      "text/plain": [
       "(734827, 10)"
      ]
     },
     "execution_count": 331,
     "metadata": {},
     "output_type": "execute_result"
    }
   ],
   "source": [
    "stopping_sequences_df.shape"
   ]
  },
  {
   "cell_type": "code",
   "execution_count": 333,
   "id": "8a5d431c-3183-495a-8741-9431a5e18a7b",
   "metadata": {
    "tags": []
   },
   "outputs": [
    {
     "data": {
      "text/plain": [
       "True     465804\n",
       "False    269023\n",
       "Name: border, dtype: int64"
      ]
     },
     "execution_count": 333,
     "metadata": {},
     "output_type": "execute_result"
    }
   ],
   "source": [
    "stopping_sequences_df.merge(borders, how='left', on='tsi_segment_id').border.value_counts()"
   ]
  },
  {
   "cell_type": "code",
   "execution_count": 287,
   "id": "7681254f-9170-4f90-b217-acc62eef793b",
   "metadata": {
    "tags": []
   },
   "outputs": [],
   "source": [
    "# stopping_sequences_df.tsi_segment_id.unique()"
   ]
  }
 ],
 "metadata": {
  "kernelspec": {
   "display_name": "Python 3 (ipykernel)",
   "language": "python",
   "name": "python3"
  },
  "language_info": {
   "codemirror_mode": {
    "name": "ipython",
    "version": 3
   },
   "file_extension": ".py",
   "mimetype": "text/x-python",
   "name": "python",
   "nbconvert_exporter": "python",
   "pygments_lexer": "ipython3",
   "version": "3.11.10"
  },
  "widgets": {
   "application/vnd.jupyter.widget-state+json": {
    "state": {},
    "version_major": 2,
    "version_minor": 0
   }
  }
 },
 "nbformat": 4,
 "nbformat_minor": 5
}
