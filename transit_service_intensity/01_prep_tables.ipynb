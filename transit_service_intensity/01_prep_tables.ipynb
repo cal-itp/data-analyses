{
 "cells": [
  {
   "cell_type": "code",
   "execution_count": null,
   "id": "9e645c63-24e5-466f-8f20-279614c1d767",
   "metadata": {},
   "outputs": [],
   "source": [
    "import sys"
   ]
  },
  {
   "cell_type": "code",
   "execution_count": null,
   "id": "4f3eb58f-9663-4867-a5c2-2ed658cd4c0d",
   "metadata": {},
   "outputs": [],
   "source": [
    "import intake\n",
    "import pandas as pd\n",
    "import geopandas as gpd\n",
    "import numpy as np\n",
    "from calitp_data_analysis import geography_utils\n",
    "from siuba import *\n",
    "import gtfs_segments\n",
    "import shapely"
   ]
  },
  {
   "cell_type": "code",
   "execution_count": null,
   "id": "dbc34a06-4993-426d-8e6e-99b9cd447222",
   "metadata": {},
   "outputs": [],
   "source": [
    "from shared_utils import catalog_utils, rt_dates, rt_utils\n",
    "GTFS_DATA_DICT = catalog_utils.get_catalog(\"gtfs_analytics_data\")"
   ]
  },
  {
   "cell_type": "code",
   "execution_count": null,
   "id": "815cb9ed-e7dd-4a8f-9830-917101668c45",
   "metadata": {},
   "outputs": [],
   "source": [
    "from segment_speed_utils import helpers"
   ]
  },
  {
   "cell_type": "code",
   "execution_count": null,
   "id": "0d7d3d01-a56f-4c3d-96dc-cb0f1938432f",
   "metadata": {
    "tags": []
   },
   "outputs": [],
   "source": [
    "from tqdm import tqdm\n",
    "tqdm.pandas(desc=\"Progress\")"
   ]
  },
  {
   "cell_type": "code",
   "execution_count": null,
   "id": "bf9bbb7a-620d-4847-a770-9243782451f4",
   "metadata": {
    "tags": []
   },
   "outputs": [],
   "source": [
    "analysis_date = rt_dates.DATES['feb2025']"
   ]
  },
  {
   "cell_type": "markdown",
   "id": "afe82e80-7c93-43ed-a32a-5c3daed646eb",
   "metadata": {},
   "source": [
    "# Exploratory Analysis\n",
    "\n",
    "Start working on how to identify and count \"border zones\" where transit runs along Census Tract boundaries and VRH/VRM should be split accordingly (avoiding double-counting or arbitrary allocation to only one border tract)"
   ]
  },
  {
   "cell_type": "markdown",
   "id": "33dd2313-e281-4d0c-ad3d-a7db022a8ebd",
   "metadata": {},
   "source": [
    "## trip - linestring interpolation\n",
    "\n",
    "could use this again? https://github.com/cal-itp/data-analyses/blob/530f2d5cf4419a2403d6485845d91ac4bc65e672/_shared_utils/shared_utils/rt_utils.py#L574-L579\n",
    "\n",
    "https://github.com/cal-itp/data-analyses/blob/530f2d5cf4419a2403d6485845d91ac4bc65e672/rt_delay/rt_analysis/rt_parser.py#L90\n",
    "\n",
    "* fillna both directions arrival <-> departure time\n",
    "* then dropna"
   ]
  },
  {
   "cell_type": "markdown",
   "id": "c4cc0283-829d-4d99-8c0b-ccc34868c6e7",
   "metadata": {
    "tags": []
   },
   "source": [
    "## Projected st via `stop_times_direction`"
   ]
  },
  {
   "cell_type": "markdown",
   "id": "465b86df-45ce-47b7-8672-6e7dd94e4d2c",
   "metadata": {},
   "source": [
    "### functions"
   ]
  },
  {
   "cell_type": "code",
   "execution_count": null,
   "id": "9c733c9e-395f-4e4c-9fa6-8e4d10d0c2df",
   "metadata": {},
   "outputs": [],
   "source": [
    "def attach_projected_stop_times(analysis_date: str):\n",
    "    '''\n",
    "    \n",
    "    '''\n",
    "    path = f'{GTFS_DATA_DICT.rt_vs_schedule_tables.dir}{GTFS_DATA_DICT.rt_vs_schedule_tables.stop_times_direction}_{analysis_date}.parquet'\n",
    "    ST_DIR_COLS = ['trip_instance_key', 'stop_sequence', 'stop_meters', 'stop_id']\n",
    "    st_dir = gpd.read_parquet(path)[ST_DIR_COLS]\n",
    "    st = helpers.import_scheduled_stop_times(analysis_date, get_pandas=True)\n",
    "    trips = helpers.import_scheduled_trips(analysis_date, columns=['trip_id', 'trip_instance_key', 'feed_key',\n",
    "                                                                  'shape_array_key'])\n",
    "    st = st.merge(trips, on = ['feed_key', 'trip_id'])\n",
    "    return st.merge(st_dir, on = ['trip_instance_key', 'stop_sequence', 'stop_id'])"
   ]
  },
  {
   "cell_type": "code",
   "execution_count": null,
   "id": "63cc8327-f193-4f46-b0e3-1dee395f1c8a",
   "metadata": {
    "tags": []
   },
   "outputs": [],
   "source": [
    "st_proj = attach_projected_stop_times(analysis_date)"
   ]
  },
  {
   "cell_type": "code",
   "execution_count": null,
   "id": "125f7e25-0618-4a15-8147-89dfb03036f6",
   "metadata": {
    "tags": []
   },
   "outputs": [],
   "source": [
    "st_proj.arrival_sec.isna().value_counts()"
   ]
  },
  {
   "cell_type": "code",
   "execution_count": null,
   "id": "d404c84f-69a2-41e4-90ad-372a7ff651fb",
   "metadata": {
    "tags": []
   },
   "outputs": [],
   "source": [
    "st_proj.departure_sec.isna().value_counts()"
   ]
  },
  {
   "cell_type": "code",
   "execution_count": null,
   "id": "76526d04-25d9-4d56-a432-6714c50e8d05",
   "metadata": {
    "tags": []
   },
   "outputs": [],
   "source": [
    "# st_proj.query('departure_sec.isna() & arrival_sec.isna()') # same subset, no point in fillna"
   ]
  },
  {
   "cell_type": "code",
   "execution_count": null,
   "id": "32e089f6-47a8-41b9-9b4c-04efd84f0f7e",
   "metadata": {
    "tags": []
   },
   "outputs": [],
   "source": [
    "# st_proj.to_parquet(f'st_proj_{analysis_date}.parquet')"
   ]
  },
  {
   "cell_type": "code",
   "execution_count": null,
   "id": "8cde65d2-75d0-40dc-a5e0-76874b95f45d",
   "metadata": {},
   "outputs": [],
   "source": [
    "st_proj = pd.read_parquet(f'st_proj_{analysis_date}.parquet')"
   ]
  },
  {
   "cell_type": "markdown",
   "id": "5fe099aa-78a9-4ab7-8dbf-23fa06248aa3",
   "metadata": {},
   "source": [
    "## projecting TSI interpolation points"
   ]
  },
  {
   "cell_type": "code",
   "execution_count": null,
   "id": "28876b3a-880d-49fd-ab57-40477d81e193",
   "metadata": {
    "tags": []
   },
   "outputs": [],
   "source": [
    "shapes = helpers.import_scheduled_shapes(analysis_date, crs=geography_utils.CA_NAD83Albers_m)"
   ]
  },
  {
   "cell_type": "code",
   "execution_count": null,
   "id": "f25a1603-53a8-4307-b21c-71e0d990ba9a",
   "metadata": {
    "tags": []
   },
   "outputs": [],
   "source": [
    "def read_tracts_borders(analysis_date, shapes):\n",
    "    test_tract_borders = gpd.read_parquet(f'test_tracts_borders_{analysis_date}.parquet')\n",
    "    test_tract_borders = test_tract_borders.drop(columns=['geometry'])\n",
    "\n",
    "    test_tract_borders = (shapes.merge(test_tract_borders, on='shape_array_key')\n",
    "                         .rename(columns={'geometry': 'shape_geometry'}))\n",
    "\n",
    "    test_tract_borders = test_tract_borders.assign(\n",
    "        start_meters = test_tract_borders.shape_geometry.project(test_tract_borders.start)\n",
    "    )\n",
    "    test_tract_borders = test_tract_borders.sort_values('start_meters').reset_index(drop=True)\n",
    "    return test_tract_borders"
   ]
  },
  {
   "cell_type": "code",
   "execution_count": null,
   "id": "b520ddbb-f6a7-4664-8975-5468a80f8f20",
   "metadata": {
    "tags": []
   },
   "outputs": [],
   "source": [
    "test_tract_borders = read_tracts_borders(analysis_date, shapes)"
   ]
  },
  {
   "cell_type": "markdown",
   "id": "e8a6e308-1610-45ed-95c5-8bd1f4c41ca8",
   "metadata": {},
   "source": [
    "## interpolation with arrays"
   ]
  },
  {
   "cell_type": "markdown",
   "id": "8ba81105-94c4-43c6-b8f4-8a5eeb44ec0b",
   "metadata": {},
   "source": [
    "### try one trip"
   ]
  },
  {
   "cell_type": "code",
   "execution_count": null,
   "id": "5723b516-1ab7-492e-b561-f2beb615be71",
   "metadata": {
    "tags": []
   },
   "outputs": [],
   "source": [
    "%%time\n",
    "\n",
    "one_trip = st_proj.query('trip_instance_key == \"98c8b779600cc0c399755929110a83c4\"').sort_values('stop_sequence')"
   ]
  },
  {
   "cell_type": "code",
   "execution_count": null,
   "id": "04145859-35cb-4621-af00-4a9cc75346ea",
   "metadata": {
    "tags": []
   },
   "outputs": [],
   "source": [
    "one_trip.head(3)"
   ]
  },
  {
   "cell_type": "code",
   "execution_count": null,
   "id": "b08f4ecd-bb72-4e09-9bf1-f40226eac103",
   "metadata": {
    "tags": []
   },
   "outputs": [],
   "source": [
    "shape_array = one_trip.stop_meters.to_numpy()\n",
    "dt_float_array = one_trip.arrival_sec.to_numpy()"
   ]
  },
  {
   "cell_type": "code",
   "execution_count": null,
   "id": "f6b7d21e-57cc-4fbf-a0fe-9e04ce9f2ca5",
   "metadata": {
    "tags": []
   },
   "outputs": [],
   "source": [
    "test_tract_borders['arrival_sec'] = test_tract_borders.start_meters.apply(\n",
    "    rt_utils.time_at_position_numba, shape_array=shape_array, dt_float_array = dt_float_array)\n",
    "test_tract_borders = test_tract_borders.assign(arrival_sec_next = test_tract_borders.arrival_sec.shift(-1),\n",
    "                                               trip_instance_key = one_trip.trip_instance_key.iloc[0])\n",
    "test_tract_borders.loc[0,'arrival_sec'] = one_trip.arrival_sec.min()\n",
    "test_tract_borders.loc[test_tract_borders.index.max(),'arrival_sec_next'] = one_trip.arrival_sec.max()\n",
    "test_tract_borders = test_tract_borders.assign(segment_seconds = test_tract_borders.arrival_sec_next - test_tract_borders.arrival_sec)"
   ]
  },
  {
   "cell_type": "markdown",
   "id": "d1d4db26-2bc4-43bf-9b4c-80d493a5815c",
   "metadata": {},
   "source": [
    "### create function -- with `test_tract_borders`"
   ]
  },
  {
   "cell_type": "code",
   "execution_count": null,
   "id": "71174e49-cbf8-474a-a642-2ced8ef1f574",
   "metadata": {
    "tags": []
   },
   "outputs": [],
   "source": [
    "test_tract_borders.columns"
   ]
  },
  {
   "cell_type": "code",
   "execution_count": null,
   "id": "16ddbdc0-52d0-4e49-88b6-a4cf646e5308",
   "metadata": {
    "tags": []
   },
   "outputs": [],
   "source": [
    "tracts_borders_cols = ['shape_array_key', 'tsi_segment_id', 'start_meters', 'tsi_segment_meters']"
   ]
  },
  {
   "cell_type": "code",
   "execution_count": null,
   "id": "abd32f5d-4a76-486b-ab92-ea8c1d6fe05e",
   "metadata": {
    "tags": []
   },
   "outputs": [],
   "source": [
    "tracts_borders = read_tracts_borders(analysis_date, shapes)[tracts_borders_cols]"
   ]
  },
  {
   "cell_type": "code",
   "execution_count": null,
   "id": "75ec3a3b-8d1b-45c4-889c-9fc5aaefa5dd",
   "metadata": {
    "tags": []
   },
   "outputs": [],
   "source": [
    "tracts_borders_trips = tracts_borders.merge(st_proj[['shape_array_key', 'trip_instance_key']].drop_duplicates(), on='shape_array_key')"
   ]
  },
  {
   "cell_type": "code",
   "execution_count": null,
   "id": "9b6519b2-77ec-40f4-8a35-5693508abaaa",
   "metadata": {
    "tags": []
   },
   "outputs": [],
   "source": [
    "tracts_borders_trips"
   ]
  },
  {
   "cell_type": "code",
   "execution_count": null,
   "id": "fe9ae846-e9cb-4e89-a40f-0cd63b4f26da",
   "metadata": {
    "tags": []
   },
   "outputs": [],
   "source": [
    "tracts_borders_trips.drop_duplicates(subset=['trip_instance_key']).shape"
   ]
  },
  {
   "cell_type": "code",
   "execution_count": null,
   "id": "0461b085-1715-4086-99cf-4e71d11f6651",
   "metadata": {
    "tags": []
   },
   "outputs": [],
   "source": [
    "def tract_border_time_by_trip(tracts_borders_trip_df: pd.DataFrame, st_proj_df: pd.DataFrame):\n",
    "    '''\n",
    "    '''\n",
    "    \n",
    "    one_trip = st_proj_df.query('trip_instance_key == @tracts_borders_trip_df.trip_instance_key.iloc[0]').sort_values('stop_sequence')\n",
    "    shape_array = one_trip.stop_meters.to_numpy()\n",
    "    dt_float_array = one_trip.arrival_sec.to_numpy()\n",
    "    tracts_borders_trip_df['arrival_sec'] = tracts_borders_trip_df.start_meters.apply(\n",
    "        rt_utils.time_at_position_numba, shape_array=shape_array, dt_float_array = dt_float_array)\n",
    "    tracts_borders_trip_df = tracts_borders_trip_df.assign(arrival_sec_next = tracts_borders_trip_df.arrival_sec.shift(-1),\n",
    "                                                   trip_instance_key = one_trip.trip_instance_key.iloc[0])\n",
    "    tracts_borders_trip_df.loc[tracts_borders_trip_df.index.min(),'arrival_sec'] = one_trip.arrival_sec.min()\n",
    "    tracts_borders_trip_df.loc[tracts_borders_trip_df.index.max(),'arrival_sec_next'] = one_trip.arrival_sec.max()\n",
    "    tracts_borders_trip_df = tracts_borders_trip_df.assign(segment_seconds = tracts_borders_trip_df.arrival_sec_next - tracts_borders_trip_df.arrival_sec)\n",
    "    \n",
    "    return tracts_borders_trip_df"
   ]
  },
  {
   "cell_type": "code",
   "execution_count": null,
   "id": "bac7ff48-ab59-4297-83d3-4f6a95250027",
   "metadata": {
    "tags": []
   },
   "outputs": [],
   "source": [
    "tracts_borders_trips"
   ]
  },
  {
   "cell_type": "code",
   "execution_count": null,
   "id": "e9dfedee-2355-47ae-9918-11410035b7e6",
   "metadata": {
    "tags": []
   },
   "outputs": [],
   "source": [
    "many_trip_test =(tracts_borders_trips.head(1000)\n",
    "                .groupby('trip_instance_key', group_keys=False)\n",
    "                .progress_apply(tract_border_time_by_trip, st_proj_df = st_proj))"
   ]
  },
  {
   "cell_type": "code",
   "execution_count": null,
   "id": "9d656825-0b42-4d7d-a2c4-c09d023aea0f",
   "metadata": {
    "tags": []
   },
   "outputs": [],
   "source": [
    "many_trip_test"
   ]
  },
  {
   "cell_type": "code",
   "execution_count": null,
   "id": "cf585119-46a7-4cb6-a160-59ec357fcaba",
   "metadata": {
    "tags": []
   },
   "outputs": [],
   "source": [
    "meta = many_trip_test[:0]"
   ]
  },
  {
   "cell_type": "code",
   "execution_count": null,
   "id": "741b8cda-61d4-4449-92a7-1a8afbc270f7",
   "metadata": {
    "tags": []
   },
   "outputs": [],
   "source": [
    "# many_trip_test.query('trip_instance_key == \"2799c68c8dc1bfca3e445f8b20eaa9ab\"')\n",
    "\n",
    "# many_trip_test.loc[36, 'tsi_segment_id']"
   ]
  },
  {
   "cell_type": "code",
   "execution_count": null,
   "id": "2cf01554-e1ff-4867-8986-44ce671fc02b",
   "metadata": {
    "tags": []
   },
   "outputs": [],
   "source": [
    "import dask.dataframe as dd\n",
    "import dask_geopandas as dg"
   ]
  },
  {
   "cell_type": "code",
   "execution_count": null,
   "id": "5501b8dd-fe76-4b87-a2f7-6080ed997cc5",
   "metadata": {
    "tags": []
   },
   "outputs": [],
   "source": [
    "trips = tracts_borders_trips.trip_instance_key.unique()"
   ]
  },
  {
   "cell_type": "code",
   "execution_count": null,
   "id": "5fa05663-08a0-4cab-9e91-f6a5cf6c3787",
   "metadata": {
    "tags": []
   },
   "outputs": [],
   "source": [
    "set1 = trips[:4000]"
   ]
  },
  {
   "cell_type": "code",
   "execution_count": null,
   "id": "61f3d85a-f7d2-439b-a574-5226030e25a8",
   "metadata": {
    "tags": []
   },
   "outputs": [],
   "source": [
    "set2 = trips[4000:]"
   ]
  },
  {
   "cell_type": "code",
   "execution_count": null,
   "id": "1697bcf8-15b6-416a-8242-cbf4d3180395",
   "metadata": {
    "tags": []
   },
   "outputs": [],
   "source": [
    "# ddf = dd.from_pandas(tracts_borders_trips.query('trip_instance_key.isin(@set1)'), npartitions=10)\n",
    "\n",
    "# ddf = (ddf.groupby('trip_instance_key', group_keys=False)\n",
    "#        .apply(tract_border_time_by_trip, st_proj_df = st_proj, meta=meta))\n",
    "\n",
    "# %%time \n",
    "# df = ddf.compute()\n",
    "\n",
    "# df.to_parquet(f'trips_set1_tsi_segs_alameda_{analysis_date}.parquet')"
   ]
  },
  {
   "cell_type": "code",
   "execution_count": null,
   "id": "b96f2ef5-ee43-4e69-a1d1-8ece497b893b",
   "metadata": {
    "tags": []
   },
   "outputs": [],
   "source": [
    "ddf = dd.from_pandas(tracts_borders_trips.query('trip_instance_key.isin(@set2)'), npartitions=10)"
   ]
  },
  {
   "cell_type": "code",
   "execution_count": null,
   "id": "6b48215f-3ca7-432c-b6e3-46c96381fd74",
   "metadata": {
    "tags": []
   },
   "outputs": [],
   "source": [
    "ddf = (ddf.groupby('trip_instance_key', group_keys=False)\n",
    "       .apply(tract_border_time_by_trip, st_proj_df = st_proj, meta=meta))"
   ]
  },
  {
   "cell_type": "code",
   "execution_count": null,
   "id": "5ef3d336-32e1-43dd-8827-4f71de369d01",
   "metadata": {
    "tags": []
   },
   "outputs": [],
   "source": [
    "%%time \n",
    "df = ddf.compute()"
   ]
  },
  {
   "cell_type": "code",
   "execution_count": null,
   "id": "430bdbb4-f9fa-416c-8c31-b751cc1b8b21",
   "metadata": {
    "tags": []
   },
   "outputs": [],
   "source": [
    "df.to_parquet(f'trips_set2_tsi_segs_alameda_{analysis_date}.parquet')"
   ]
  },
  {
   "cell_type": "code",
   "execution_count": null,
   "id": "42a5d055-3286-4645-a6e2-60a3bf7d3717",
   "metadata": {
    "tags": []
   },
   "outputs": [],
   "source": [
    "all_trips =(tracts_borders_trips.head(5000)\n",
    "                .groupby('trip_instance_key', group_keys=False)\n",
    "                .progress_apply(tract_border_time_by_trip, st_proj_df = st_proj))"
   ]
  },
  {
   "cell_type": "code",
   "execution_count": null,
   "id": "9aacecb5-bf78-47cd-9220-ed1e99bed262",
   "metadata": {
    "tags": []
   },
   "outputs": [],
   "source": [
    "all_trips.to_parquet(f'trips_tsi_segs_alameda{analysis_date}.parquet')"
   ]
  }
 ],
 "metadata": {
  "kernelspec": {
   "display_name": "Python 3 (ipykernel)",
   "language": "python",
   "name": "python3"
  },
  "language_info": {
   "codemirror_mode": {
    "name": "ipython",
    "version": 3
   },
   "file_extension": ".py",
   "mimetype": "text/x-python",
   "name": "python",
   "nbconvert_exporter": "python",
   "pygments_lexer": "ipython3",
   "version": "3.11.10"
  },
  "widgets": {
   "application/vnd.jupyter.widget-state+json": {
    "state": {},
    "version_major": 2,
    "version_minor": 0
   }
  }
 },
 "nbformat": 4,
 "nbformat_minor": 5
}
