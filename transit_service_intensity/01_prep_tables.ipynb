{
 "cells": [
  {
   "cell_type": "code",
   "execution_count": 1,
   "id": "9e645c63-24e5-466f-8f20-279614c1d767",
   "metadata": {},
   "outputs": [],
   "source": [
    "import sys"
   ]
  },
  {
   "cell_type": "code",
   "execution_count": 2,
   "id": "4f3eb58f-9663-4867-a5c2-2ed658cd4c0d",
   "metadata": {},
   "outputs": [],
   "source": [
    "import intake\n",
    "import pandas as pd\n",
    "import geopandas as gpd\n",
    "import numpy as np\n",
    "from calitp_data_analysis import geography_utils\n",
    "from siuba import *\n",
    "import gtfs_segments\n",
    "import shapely"
   ]
  },
  {
   "cell_type": "code",
   "execution_count": 3,
   "id": "dbc34a06-4993-426d-8e6e-99b9cd447222",
   "metadata": {},
   "outputs": [],
   "source": [
    "from shared_utils import catalog_utils, rt_dates, rt_utils\n",
    "GTFS_DATA_DICT = catalog_utils.get_catalog(\"gtfs_analytics_data\")"
   ]
  },
  {
   "cell_type": "code",
   "execution_count": 4,
   "id": "815cb9ed-e7dd-4a8f-9830-917101668c45",
   "metadata": {},
   "outputs": [],
   "source": [
    "from segment_speed_utils import helpers"
   ]
  },
  {
   "cell_type": "code",
   "execution_count": 5,
   "id": "0d7d3d01-a56f-4c3d-96dc-cb0f1938432f",
   "metadata": {
    "tags": []
   },
   "outputs": [],
   "source": [
    "from tqdm import tqdm\n",
    "tqdm.pandas(desc=\"Progress\")"
   ]
  },
  {
   "cell_type": "code",
   "execution_count": 6,
   "id": "bf9bbb7a-620d-4847-a770-9243782451f4",
   "metadata": {
    "tags": []
   },
   "outputs": [],
   "source": [
    "analysis_date = rt_dates.DATES['feb2025']"
   ]
  },
  {
   "cell_type": "markdown",
   "id": "afe82e80-7c93-43ed-a32a-5c3daed646eb",
   "metadata": {},
   "source": [
    "# Exploratory Analysis\n",
    "\n",
    "Start working on how to identify and count \"border zones\" where transit runs along Census Tract boundaries and VRH/VRM should be split accordingly (avoiding double-counting or arbitrary allocation to only one border tract)"
   ]
  },
  {
   "cell_type": "markdown",
   "id": "33dd2313-e281-4d0c-ad3d-a7db022a8ebd",
   "metadata": {},
   "source": [
    "## trip - linestring interpolation\n",
    "\n",
    "could use this again? https://github.com/cal-itp/data-analyses/blob/530f2d5cf4419a2403d6485845d91ac4bc65e672/_shared_utils/shared_utils/rt_utils.py#L574-L579\n",
    "\n",
    "https://github.com/cal-itp/data-analyses/blob/530f2d5cf4419a2403d6485845d91ac4bc65e672/rt_delay/rt_analysis/rt_parser.py#L90\n",
    "\n",
    "* fillna both directions arrival <-> departure time\n",
    "* then dropna"
   ]
  },
  {
   "cell_type": "markdown",
   "id": "c4cc0283-829d-4d99-8c0b-ccc34868c6e7",
   "metadata": {
    "tags": []
   },
   "source": [
    "## Projected st via `stop_times_direction`"
   ]
  },
  {
   "cell_type": "markdown",
   "id": "465b86df-45ce-47b7-8672-6e7dd94e4d2c",
   "metadata": {},
   "source": [
    "### functions"
   ]
  },
  {
   "cell_type": "code",
   "execution_count": 7,
   "id": "9c733c9e-395f-4e4c-9fa6-8e4d10d0c2df",
   "metadata": {},
   "outputs": [],
   "source": [
    "def attach_projected_stop_times(analysis_date: str):\n",
    "    '''\n",
    "    \n",
    "    '''\n",
    "    path = f'{GTFS_DATA_DICT.rt_vs_schedule_tables.dir}{GTFS_DATA_DICT.rt_vs_schedule_tables.stop_times_direction}_{analysis_date}.parquet'\n",
    "    ST_DIR_COLS = ['trip_instance_key', 'stop_sequence', 'stop_meters', 'stop_id']\n",
    "    st_dir = gpd.read_parquet(path)[ST_DIR_COLS]\n",
    "    st = helpers.import_scheduled_stop_times(analysis_date, get_pandas=True)\n",
    "    trips = helpers.import_scheduled_trips(analysis_date, columns=['trip_id', 'trip_instance_key', 'feed_key',\n",
    "                                                                  'shape_array_key'])\n",
    "    st = st.merge(trips, on = ['feed_key', 'trip_id'])\n",
    "    return st.merge(st_dir, on = ['trip_instance_key', 'stop_sequence', 'stop_id'])"
   ]
  },
  {
   "cell_type": "code",
   "execution_count": 8,
   "id": "63cc8327-f193-4f46-b0e3-1dee395f1c8a",
   "metadata": {
    "tags": []
   },
   "outputs": [],
   "source": [
    "st_proj = attach_projected_stop_times(analysis_date)"
   ]
  },
  {
   "cell_type": "code",
   "execution_count": 9,
   "id": "125f7e25-0618-4a15-8147-89dfb03036f6",
   "metadata": {
    "tags": []
   },
   "outputs": [
    {
     "data": {
      "text/plain": [
       "False    4232118\n",
       "True       90428\n",
       "Name: arrival_sec, dtype: int64"
      ]
     },
     "execution_count": 9,
     "metadata": {},
     "output_type": "execute_result"
    }
   ],
   "source": [
    "st_proj.arrival_sec.isna().value_counts()"
   ]
  },
  {
   "cell_type": "code",
   "execution_count": 10,
   "id": "d404c84f-69a2-41e4-90ad-372a7ff651fb",
   "metadata": {
    "tags": []
   },
   "outputs": [
    {
     "data": {
      "text/plain": [
       "False    4232118\n",
       "True       90428\n",
       "Name: departure_sec, dtype: int64"
      ]
     },
     "execution_count": 10,
     "metadata": {},
     "output_type": "execute_result"
    }
   ],
   "source": [
    "st_proj.departure_sec.isna().value_counts()"
   ]
  },
  {
   "cell_type": "code",
   "execution_count": 11,
   "id": "76526d04-25d9-4d56-a432-6714c50e8d05",
   "metadata": {
    "tags": []
   },
   "outputs": [],
   "source": [
    "# st_proj.query('departure_sec.isna() & arrival_sec.isna()') # same subset, no point in fillna"
   ]
  },
  {
   "cell_type": "code",
   "execution_count": 12,
   "id": "32e089f6-47a8-41b9-9b4c-04efd84f0f7e",
   "metadata": {
    "tags": []
   },
   "outputs": [],
   "source": [
    "# st_proj.to_parquet(f'st_proj_{analysis_date}.parquet')"
   ]
  },
  {
   "cell_type": "code",
   "execution_count": 13,
   "id": "8cde65d2-75d0-40dc-a5e0-76874b95f45d",
   "metadata": {},
   "outputs": [],
   "source": [
    "st_proj = pd.read_parquet(f'st_proj_{analysis_date}.parquet')"
   ]
  },
  {
   "cell_type": "markdown",
   "id": "5fe099aa-78a9-4ab7-8dbf-23fa06248aa3",
   "metadata": {},
   "source": [
    "## projecting TSI interpolation points"
   ]
  },
  {
   "cell_type": "code",
   "execution_count": 14,
   "id": "28876b3a-880d-49fd-ab57-40477d81e193",
   "metadata": {
    "tags": []
   },
   "outputs": [],
   "source": [
    "shapes = helpers.import_scheduled_shapes(analysis_date, crs=geography_utils.CA_NAD83Albers_m)"
   ]
  },
  {
   "cell_type": "code",
   "execution_count": 15,
   "id": "f25a1603-53a8-4307-b21c-71e0d990ba9a",
   "metadata": {
    "tags": []
   },
   "outputs": [],
   "source": [
    "def read_tracts_borders(analysis_date, shapes):\n",
    "    test_tract_borders = gpd.read_parquet(f'test_tracts_borders_{analysis_date}.parquet')\n",
    "    test_tract_borders = test_tract_borders.drop(columns=['geometry'])\n",
    "\n",
    "    test_tract_borders = (shapes.merge(test_tract_borders, on='shape_array_key')\n",
    "                         .rename(columns={'geometry': 'shape_geometry'}))\n",
    "\n",
    "    test_tract_borders = test_tract_borders.assign(\n",
    "        start_meters = test_tract_borders.shape_geometry.project(test_tract_borders.start)\n",
    "    )\n",
    "    test_tract_borders = test_tract_borders.sort_values('start_meters').reset_index(drop=True)\n",
    "    return test_tract_borders"
   ]
  },
  {
   "cell_type": "code",
   "execution_count": 16,
   "id": "b520ddbb-f6a7-4664-8975-5468a80f8f20",
   "metadata": {
    "tags": []
   },
   "outputs": [
    {
     "name": "stderr",
     "output_type": "stream",
     "text": [
      "/opt/conda/lib/python3.11/site-packages/shapely/linear.py:88: RuntimeWarning: invalid value encountered in line_locate_point\n",
      "  return lib.line_locate_point(line, other)\n"
     ]
    }
   ],
   "source": [
    "test_tract_borders = read_tracts_borders(analysis_date, shapes)"
   ]
  },
  {
   "cell_type": "markdown",
   "id": "e8a6e308-1610-45ed-95c5-8bd1f4c41ca8",
   "metadata": {},
   "source": [
    "## interpolation with arrays"
   ]
  },
  {
   "cell_type": "markdown",
   "id": "8ba81105-94c4-43c6-b8f4-8a5eeb44ec0b",
   "metadata": {},
   "source": [
    "### try one trip"
   ]
  },
  {
   "cell_type": "code",
   "execution_count": 17,
   "id": "5723b516-1ab7-492e-b561-f2beb615be71",
   "metadata": {
    "tags": []
   },
   "outputs": [
    {
     "name": "stdout",
     "output_type": "stream",
     "text": [
      "CPU times: user 111 ms, sys: 565 μs, total: 112 ms\n",
      "Wall time: 111 ms\n"
     ]
    }
   ],
   "source": [
    "%%time\n",
    "\n",
    "one_trip = st_proj.query('trip_instance_key == \"98c8b779600cc0c399755929110a83c4\"').sort_values('stop_sequence')"
   ]
  },
  {
   "cell_type": "code",
   "execution_count": 18,
   "id": "04145859-35cb-4621-af00-4a9cc75346ea",
   "metadata": {
    "tags": []
   },
   "outputs": [
    {
     "data": {
      "text/html": [
       "<div>\n",
       "<style scoped>\n",
       "    .dataframe tbody tr th:only-of-type {\n",
       "        vertical-align: middle;\n",
       "    }\n",
       "\n",
       "    .dataframe tbody tr th {\n",
       "        vertical-align: top;\n",
       "    }\n",
       "\n",
       "    .dataframe thead th {\n",
       "        text-align: right;\n",
       "    }\n",
       "</style>\n",
       "<table border=\"1\" class=\"dataframe\">\n",
       "  <thead>\n",
       "    <tr style=\"text-align: right;\">\n",
       "      <th></th>\n",
       "      <th>feed_key</th>\n",
       "      <th>feed_timezone</th>\n",
       "      <th>base64_url</th>\n",
       "      <th>trip_id</th>\n",
       "      <th>stop_id</th>\n",
       "      <th>stop_sequence</th>\n",
       "      <th>timepoint</th>\n",
       "      <th>arrival_sec</th>\n",
       "      <th>departure_sec</th>\n",
       "      <th>arrival_hour</th>\n",
       "      <th>departure_hour</th>\n",
       "      <th>trip_instance_key</th>\n",
       "      <th>shape_array_key</th>\n",
       "      <th>stop_meters</th>\n",
       "    </tr>\n",
       "  </thead>\n",
       "  <tbody>\n",
       "    <tr>\n",
       "      <th>2812526</th>\n",
       "      <td>e47b82448b027d26835d46f2f7cbdc1c</td>\n",
       "      <td>US/Pacific</td>\n",
       "      <td>aHR0cHM6Ly9hcGkuNTExLm9yZy90cmFuc2l0L2RhdGFmZW...</td>\n",
       "      <td>7071020</td>\n",
       "      <td>51636</td>\n",
       "      <td>1</td>\n",
       "      <td>1.0</td>\n",
       "      <td>47160.0</td>\n",
       "      <td>47160.0</td>\n",
       "      <td>13.0</td>\n",
       "      <td>13.0</td>\n",
       "      <td>98c8b779600cc0c399755929110a83c4</td>\n",
       "      <td>3caab5c44277cbdc8fbc755bc0ea7633</td>\n",
       "      <td>0.000000</td>\n",
       "    </tr>\n",
       "    <tr>\n",
       "      <th>2812543</th>\n",
       "      <td>e47b82448b027d26835d46f2f7cbdc1c</td>\n",
       "      <td>US/Pacific</td>\n",
       "      <td>aHR0cHM6Ly9hcGkuNTExLm9yZy90cmFuc2l0L2RhdGFmZW...</td>\n",
       "      <td>7071020</td>\n",
       "      <td>59444</td>\n",
       "      <td>2</td>\n",
       "      <td>0.0</td>\n",
       "      <td>47230.0</td>\n",
       "      <td>47230.0</td>\n",
       "      <td>13.0</td>\n",
       "      <td>13.0</td>\n",
       "      <td>98c8b779600cc0c399755929110a83c4</td>\n",
       "      <td>3caab5c44277cbdc8fbc755bc0ea7633</td>\n",
       "      <td>215.765913</td>\n",
       "    </tr>\n",
       "    <tr>\n",
       "      <th>2812555</th>\n",
       "      <td>e47b82448b027d26835d46f2f7cbdc1c</td>\n",
       "      <td>US/Pacific</td>\n",
       "      <td>aHR0cHM6Ly9hcGkuNTExLm9yZy90cmFuc2l0L2RhdGFmZW...</td>\n",
       "      <td>7071020</td>\n",
       "      <td>53108</td>\n",
       "      <td>3</td>\n",
       "      <td>0.0</td>\n",
       "      <td>47329.0</td>\n",
       "      <td>47329.0</td>\n",
       "      <td>13.0</td>\n",
       "      <td>13.0</td>\n",
       "      <td>98c8b779600cc0c399755929110a83c4</td>\n",
       "      <td>3caab5c44277cbdc8fbc755bc0ea7633</td>\n",
       "      <td>537.650981</td>\n",
       "    </tr>\n",
       "  </tbody>\n",
       "</table>\n",
       "</div>"
      ],
      "text/plain": [
       "                                 feed_key feed_timezone  \\\n",
       "2812526  e47b82448b027d26835d46f2f7cbdc1c    US/Pacific   \n",
       "2812543  e47b82448b027d26835d46f2f7cbdc1c    US/Pacific   \n",
       "2812555  e47b82448b027d26835d46f2f7cbdc1c    US/Pacific   \n",
       "\n",
       "                                                base64_url  trip_id stop_id  \\\n",
       "2812526  aHR0cHM6Ly9hcGkuNTExLm9yZy90cmFuc2l0L2RhdGFmZW...  7071020   51636   \n",
       "2812543  aHR0cHM6Ly9hcGkuNTExLm9yZy90cmFuc2l0L2RhdGFmZW...  7071020   59444   \n",
       "2812555  aHR0cHM6Ly9hcGkuNTExLm9yZy90cmFuc2l0L2RhdGFmZW...  7071020   53108   \n",
       "\n",
       "         stop_sequence  timepoint  arrival_sec  departure_sec  arrival_hour  \\\n",
       "2812526              1        1.0      47160.0        47160.0          13.0   \n",
       "2812543              2        0.0      47230.0        47230.0          13.0   \n",
       "2812555              3        0.0      47329.0        47329.0          13.0   \n",
       "\n",
       "         departure_hour                 trip_instance_key  \\\n",
       "2812526            13.0  98c8b779600cc0c399755929110a83c4   \n",
       "2812543            13.0  98c8b779600cc0c399755929110a83c4   \n",
       "2812555            13.0  98c8b779600cc0c399755929110a83c4   \n",
       "\n",
       "                          shape_array_key  stop_meters  \n",
       "2812526  3caab5c44277cbdc8fbc755bc0ea7633     0.000000  \n",
       "2812543  3caab5c44277cbdc8fbc755bc0ea7633   215.765913  \n",
       "2812555  3caab5c44277cbdc8fbc755bc0ea7633   537.650981  "
      ]
     },
     "execution_count": 18,
     "metadata": {},
     "output_type": "execute_result"
    }
   ],
   "source": [
    "one_trip.head(3)"
   ]
  },
  {
   "cell_type": "code",
   "execution_count": 19,
   "id": "b08f4ecd-bb72-4e09-9bf1-f40226eac103",
   "metadata": {
    "tags": []
   },
   "outputs": [],
   "source": [
    "shape_array = one_trip.stop_meters.to_numpy()\n",
    "dt_float_array = one_trip.arrival_sec.to_numpy()"
   ]
  },
  {
   "cell_type": "code",
   "execution_count": 20,
   "id": "f6b7d21e-57cc-4fbf-a0fe-9e04ce9f2ca5",
   "metadata": {
    "tags": []
   },
   "outputs": [],
   "source": [
    "test_tract_borders['arrival_sec'] = test_tract_borders.start_meters.apply(\n",
    "    rt_utils.time_at_position_numba, shape_array=shape_array, dt_float_array = dt_float_array)\n",
    "test_tract_borders = test_tract_borders.assign(arrival_sec_next = test_tract_borders.arrival_sec.shift(-1),\n",
    "                                               trip_instance_key = one_trip.trip_instance_key.iloc[0])\n",
    "test_tract_borders.loc[0,'arrival_sec'] = one_trip.arrival_sec.min()\n",
    "test_tract_borders.loc[test_tract_borders.index.max(),'arrival_sec_next'] = one_trip.arrival_sec.max()\n",
    "test_tract_borders = test_tract_borders.assign(segment_seconds = test_tract_borders.arrival_sec_next - test_tract_borders.arrival_sec)"
   ]
  },
  {
   "cell_type": "markdown",
   "id": "d1d4db26-2bc4-43bf-9b4c-80d493a5815c",
   "metadata": {},
   "source": [
    "### create function -- with `test_tract_borders`"
   ]
  },
  {
   "cell_type": "code",
   "execution_count": 21,
   "id": "71174e49-cbf8-474a-a642-2ced8ef1f574",
   "metadata": {
    "tags": []
   },
   "outputs": [
    {
     "data": {
      "text/plain": [
       "Index(['shape_array_key', 'shape_geometry', 'tract', 'tract_1', 'tract_2',\n",
       "       'intersection_id', 'border', 'start', 'tsi_segment_id',\n",
       "       'tsi_segment_meters', 'start_meters', 'arrival_sec', 'arrival_sec_next',\n",
       "       'trip_instance_key', 'segment_seconds'],\n",
       "      dtype='object')"
      ]
     },
     "execution_count": 21,
     "metadata": {},
     "output_type": "execute_result"
    }
   ],
   "source": [
    "test_tract_borders.columns"
   ]
  },
  {
   "cell_type": "code",
   "execution_count": 22,
   "id": "16ddbdc0-52d0-4e49-88b6-a4cf646e5308",
   "metadata": {
    "tags": []
   },
   "outputs": [],
   "source": [
    "tracts_borders_cols = ['shape_array_key', 'tsi_segment_id', 'start_meters', 'tsi_segment_meters']"
   ]
  },
  {
   "cell_type": "code",
   "execution_count": 23,
   "id": "abd32f5d-4a76-486b-ab92-ea8c1d6fe05e",
   "metadata": {
    "tags": []
   },
   "outputs": [
    {
     "name": "stderr",
     "output_type": "stream",
     "text": [
      "/opt/conda/lib/python3.11/site-packages/shapely/linear.py:88: RuntimeWarning: invalid value encountered in line_locate_point\n",
      "  return lib.line_locate_point(line, other)\n"
     ]
    }
   ],
   "source": [
    "tracts_borders = read_tracts_borders(analysis_date, shapes)[tracts_borders_cols]"
   ]
  },
  {
   "cell_type": "code",
   "execution_count": 24,
   "id": "75ec3a3b-8d1b-45c4-889c-9fc5aaefa5dd",
   "metadata": {
    "tags": []
   },
   "outputs": [],
   "source": [
    "tracts_borders_trips = tracts_borders.merge(st_proj[['shape_array_key', 'trip_instance_key']].drop_duplicates(), on='shape_array_key')"
   ]
  },
  {
   "cell_type": "code",
   "execution_count": 25,
   "id": "9b6519b2-77ec-40f4-8a35-5693508abaaa",
   "metadata": {
    "tags": []
   },
   "outputs": [
    {
     "data": {
      "text/html": [
       "<div>\n",
       "<style scoped>\n",
       "    .dataframe tbody tr th:only-of-type {\n",
       "        vertical-align: middle;\n",
       "    }\n",
       "\n",
       "    .dataframe tbody tr th {\n",
       "        vertical-align: top;\n",
       "    }\n",
       "\n",
       "    .dataframe thead th {\n",
       "        text-align: right;\n",
       "    }\n",
       "</style>\n",
       "<table border=\"1\" class=\"dataframe\">\n",
       "  <thead>\n",
       "    <tr style=\"text-align: right;\">\n",
       "      <th></th>\n",
       "      <th>shape_array_key</th>\n",
       "      <th>tsi_segment_id</th>\n",
       "      <th>start_meters</th>\n",
       "      <th>tsi_segment_meters</th>\n",
       "      <th>trip_instance_key</th>\n",
       "    </tr>\n",
       "  </thead>\n",
       "  <tbody>\n",
       "    <tr>\n",
       "      <th>0</th>\n",
       "      <td>48c37aba59d6976367d77d8bf5ccfb05</td>\n",
       "      <td>06001425103</td>\n",
       "      <td>0.000000e+00</td>\n",
       "      <td>595.587122</td>\n",
       "      <td>2799c68c8dc1bfca3e445f8b20eaa9ab</td>\n",
       "    </tr>\n",
       "    <tr>\n",
       "      <th>1</th>\n",
       "      <td>48c37aba59d6976367d77d8bf5ccfb05</td>\n",
       "      <td>06001425103</td>\n",
       "      <td>0.000000e+00</td>\n",
       "      <td>595.587122</td>\n",
       "      <td>8890c04258cd7b8e550bc63f3f08b986</td>\n",
       "    </tr>\n",
       "    <tr>\n",
       "      <th>2</th>\n",
       "      <td>48c37aba59d6976367d77d8bf5ccfb05</td>\n",
       "      <td>06001425103</td>\n",
       "      <td>0.000000e+00</td>\n",
       "      <td>595.587122</td>\n",
       "      <td>73b5546880e7ddf898b9a1f0b6dff637</td>\n",
       "    </tr>\n",
       "    <tr>\n",
       "      <th>3</th>\n",
       "      <td>48c37aba59d6976367d77d8bf5ccfb05</td>\n",
       "      <td>06001425103</td>\n",
       "      <td>0.000000e+00</td>\n",
       "      <td>595.587122</td>\n",
       "      <td>264149fb99e6736ff4708b6c86cfd584</td>\n",
       "    </tr>\n",
       "    <tr>\n",
       "      <th>4</th>\n",
       "      <td>48c37aba59d6976367d77d8bf5ccfb05</td>\n",
       "      <td>06001425103</td>\n",
       "      <td>0.000000e+00</td>\n",
       "      <td>595.587122</td>\n",
       "      <td>fb3898cce852c0ba6666f2d3fb615bca</td>\n",
       "    </tr>\n",
       "    <tr>\n",
       "      <th>...</th>\n",
       "      <td>...</td>\n",
       "      <td>...</td>\n",
       "      <td>...</td>\n",
       "      <td>...</td>\n",
       "      <td>...</td>\n",
       "    </tr>\n",
       "    <tr>\n",
       "      <th>163327</th>\n",
       "      <td>b5c44a21e6c36a10b038a66e70b7717b</td>\n",
       "      <td>9265173c-b36b-4239-8d8a-6c29f58406d1</td>\n",
       "      <td>3.185117e+06</td>\n",
       "      <td>847.647219</td>\n",
       "      <td>2e5efd4dfde2affbd02acbaf948b5893</td>\n",
       "    </tr>\n",
       "    <tr>\n",
       "      <th>163328</th>\n",
       "      <td>b5c44a21e6c36a10b038a66e70b7717b</td>\n",
       "      <td>06001425103</td>\n",
       "      <td>3.185149e+06</td>\n",
       "      <td>781.315317</td>\n",
       "      <td>2e5efd4dfde2affbd02acbaf948b5893</td>\n",
       "    </tr>\n",
       "    <tr>\n",
       "      <th>163329</th>\n",
       "      <td>b5c44a21e6c36a10b038a66e70b7717b</td>\n",
       "      <td>06001422000</td>\n",
       "      <td>3.185937e+06</td>\n",
       "      <td>3802.575398</td>\n",
       "      <td>2e5efd4dfde2affbd02acbaf948b5893</td>\n",
       "    </tr>\n",
       "    <tr>\n",
       "      <th>163330</th>\n",
       "      <td>b5c44a21e6c36a10b038a66e70b7717b</td>\n",
       "      <td>06001420400</td>\n",
       "      <td>3.189740e+06</td>\n",
       "      <td>585.207969</td>\n",
       "      <td>2e5efd4dfde2affbd02acbaf948b5893</td>\n",
       "    </tr>\n",
       "    <tr>\n",
       "      <th>163331</th>\n",
       "      <td>b5c44a21e6c36a10b038a66e70b7717b</td>\n",
       "      <td>06001420300</td>\n",
       "      <td>3.190325e+06</td>\n",
       "      <td>523.197476</td>\n",
       "      <td>2e5efd4dfde2affbd02acbaf948b5893</td>\n",
       "    </tr>\n",
       "  </tbody>\n",
       "</table>\n",
       "<p>163332 rows × 5 columns</p>\n",
       "</div>"
      ],
      "text/plain": [
       "                         shape_array_key  \\\n",
       "0       48c37aba59d6976367d77d8bf5ccfb05   \n",
       "1       48c37aba59d6976367d77d8bf5ccfb05   \n",
       "2       48c37aba59d6976367d77d8bf5ccfb05   \n",
       "3       48c37aba59d6976367d77d8bf5ccfb05   \n",
       "4       48c37aba59d6976367d77d8bf5ccfb05   \n",
       "...                                  ...   \n",
       "163327  b5c44a21e6c36a10b038a66e70b7717b   \n",
       "163328  b5c44a21e6c36a10b038a66e70b7717b   \n",
       "163329  b5c44a21e6c36a10b038a66e70b7717b   \n",
       "163330  b5c44a21e6c36a10b038a66e70b7717b   \n",
       "163331  b5c44a21e6c36a10b038a66e70b7717b   \n",
       "\n",
       "                              tsi_segment_id  start_meters  \\\n",
       "0                                06001425103  0.000000e+00   \n",
       "1                                06001425103  0.000000e+00   \n",
       "2                                06001425103  0.000000e+00   \n",
       "3                                06001425103  0.000000e+00   \n",
       "4                                06001425103  0.000000e+00   \n",
       "...                                      ...           ...   \n",
       "163327  9265173c-b36b-4239-8d8a-6c29f58406d1  3.185117e+06   \n",
       "163328                           06001425103  3.185149e+06   \n",
       "163329                           06001422000  3.185937e+06   \n",
       "163330                           06001420400  3.189740e+06   \n",
       "163331                           06001420300  3.190325e+06   \n",
       "\n",
       "        tsi_segment_meters                 trip_instance_key  \n",
       "0               595.587122  2799c68c8dc1bfca3e445f8b20eaa9ab  \n",
       "1               595.587122  8890c04258cd7b8e550bc63f3f08b986  \n",
       "2               595.587122  73b5546880e7ddf898b9a1f0b6dff637  \n",
       "3               595.587122  264149fb99e6736ff4708b6c86cfd584  \n",
       "4               595.587122  fb3898cce852c0ba6666f2d3fb615bca  \n",
       "...                    ...                               ...  \n",
       "163327          847.647219  2e5efd4dfde2affbd02acbaf948b5893  \n",
       "163328          781.315317  2e5efd4dfde2affbd02acbaf948b5893  \n",
       "163329         3802.575398  2e5efd4dfde2affbd02acbaf948b5893  \n",
       "163330          585.207969  2e5efd4dfde2affbd02acbaf948b5893  \n",
       "163331          523.197476  2e5efd4dfde2affbd02acbaf948b5893  \n",
       "\n",
       "[163332 rows x 5 columns]"
      ]
     },
     "execution_count": 25,
     "metadata": {},
     "output_type": "execute_result"
    }
   ],
   "source": [
    "tracts_borders_trips"
   ]
  },
  {
   "cell_type": "code",
   "execution_count": 26,
   "id": "fe9ae846-e9cb-4e89-a40f-0cd63b4f26da",
   "metadata": {
    "tags": []
   },
   "outputs": [
    {
     "data": {
      "text/plain": [
       "(7684, 5)"
      ]
     },
     "execution_count": 26,
     "metadata": {},
     "output_type": "execute_result"
    }
   ],
   "source": [
    "tracts_borders_trips.drop_duplicates(subset=['trip_instance_key']).shape"
   ]
  },
  {
   "cell_type": "code",
   "execution_count": 27,
   "id": "0461b085-1715-4086-99cf-4e71d11f6651",
   "metadata": {
    "tags": []
   },
   "outputs": [],
   "source": [
    "def tract_border_time_by_trip(tracts_borders_trip_df: pd.DataFrame, st_proj_df: pd.DataFrame):\n",
    "    '''\n",
    "    '''\n",
    "    \n",
    "    one_trip = st_proj_df.query('trip_instance_key == @tracts_borders_trip_df.trip_instance_key.iloc[0]').sort_values('stop_sequence')\n",
    "    shape_array = one_trip.stop_meters.to_numpy()\n",
    "    dt_float_array = one_trip.arrival_sec.to_numpy()\n",
    "    tracts_borders_trip_df['arrival_sec'] = tracts_borders_trip_df.start_meters.apply(\n",
    "        rt_utils.time_at_position_numba, shape_array=shape_array, dt_float_array = dt_float_array)\n",
    "    tracts_borders_trip_df = tracts_borders_trip_df.assign(arrival_sec_next = tracts_borders_trip_df.arrival_sec.shift(-1),\n",
    "                                                   trip_instance_key = one_trip.trip_instance_key.iloc[0])\n",
    "    tracts_borders_trip_df.loc[tracts_borders_trip_df.index.min(),'arrival_sec'] = one_trip.arrival_sec.min()\n",
    "    tracts_borders_trip_df.loc[tracts_borders_trip_df.index.max(),'arrival_sec_next'] = one_trip.arrival_sec.max()\n",
    "    tracts_borders_trip_df = tracts_borders_trip_df.assign(segment_seconds = tracts_borders_trip_df.arrival_sec_next - tracts_borders_trip_df.arrival_sec)\n",
    "    \n",
    "    return tracts_borders_trip_df"
   ]
  },
  {
   "cell_type": "code",
   "execution_count": 28,
   "id": "bac7ff48-ab59-4297-83d3-4f6a95250027",
   "metadata": {
    "tags": []
   },
   "outputs": [
    {
     "data": {
      "text/html": [
       "<div>\n",
       "<style scoped>\n",
       "    .dataframe tbody tr th:only-of-type {\n",
       "        vertical-align: middle;\n",
       "    }\n",
       "\n",
       "    .dataframe tbody tr th {\n",
       "        vertical-align: top;\n",
       "    }\n",
       "\n",
       "    .dataframe thead th {\n",
       "        text-align: right;\n",
       "    }\n",
       "</style>\n",
       "<table border=\"1\" class=\"dataframe\">\n",
       "  <thead>\n",
       "    <tr style=\"text-align: right;\">\n",
       "      <th></th>\n",
       "      <th>shape_array_key</th>\n",
       "      <th>tsi_segment_id</th>\n",
       "      <th>start_meters</th>\n",
       "      <th>tsi_segment_meters</th>\n",
       "      <th>trip_instance_key</th>\n",
       "    </tr>\n",
       "  </thead>\n",
       "  <tbody>\n",
       "    <tr>\n",
       "      <th>0</th>\n",
       "      <td>48c37aba59d6976367d77d8bf5ccfb05</td>\n",
       "      <td>06001425103</td>\n",
       "      <td>0.000000e+00</td>\n",
       "      <td>595.587122</td>\n",
       "      <td>2799c68c8dc1bfca3e445f8b20eaa9ab</td>\n",
       "    </tr>\n",
       "    <tr>\n",
       "      <th>1</th>\n",
       "      <td>48c37aba59d6976367d77d8bf5ccfb05</td>\n",
       "      <td>06001425103</td>\n",
       "      <td>0.000000e+00</td>\n",
       "      <td>595.587122</td>\n",
       "      <td>8890c04258cd7b8e550bc63f3f08b986</td>\n",
       "    </tr>\n",
       "    <tr>\n",
       "      <th>2</th>\n",
       "      <td>48c37aba59d6976367d77d8bf5ccfb05</td>\n",
       "      <td>06001425103</td>\n",
       "      <td>0.000000e+00</td>\n",
       "      <td>595.587122</td>\n",
       "      <td>73b5546880e7ddf898b9a1f0b6dff637</td>\n",
       "    </tr>\n",
       "    <tr>\n",
       "      <th>3</th>\n",
       "      <td>48c37aba59d6976367d77d8bf5ccfb05</td>\n",
       "      <td>06001425103</td>\n",
       "      <td>0.000000e+00</td>\n",
       "      <td>595.587122</td>\n",
       "      <td>264149fb99e6736ff4708b6c86cfd584</td>\n",
       "    </tr>\n",
       "    <tr>\n",
       "      <th>4</th>\n",
       "      <td>48c37aba59d6976367d77d8bf5ccfb05</td>\n",
       "      <td>06001425103</td>\n",
       "      <td>0.000000e+00</td>\n",
       "      <td>595.587122</td>\n",
       "      <td>fb3898cce852c0ba6666f2d3fb615bca</td>\n",
       "    </tr>\n",
       "    <tr>\n",
       "      <th>...</th>\n",
       "      <td>...</td>\n",
       "      <td>...</td>\n",
       "      <td>...</td>\n",
       "      <td>...</td>\n",
       "      <td>...</td>\n",
       "    </tr>\n",
       "    <tr>\n",
       "      <th>163327</th>\n",
       "      <td>b5c44a21e6c36a10b038a66e70b7717b</td>\n",
       "      <td>9265173c-b36b-4239-8d8a-6c29f58406d1</td>\n",
       "      <td>3.185117e+06</td>\n",
       "      <td>847.647219</td>\n",
       "      <td>2e5efd4dfde2affbd02acbaf948b5893</td>\n",
       "    </tr>\n",
       "    <tr>\n",
       "      <th>163328</th>\n",
       "      <td>b5c44a21e6c36a10b038a66e70b7717b</td>\n",
       "      <td>06001425103</td>\n",
       "      <td>3.185149e+06</td>\n",
       "      <td>781.315317</td>\n",
       "      <td>2e5efd4dfde2affbd02acbaf948b5893</td>\n",
       "    </tr>\n",
       "    <tr>\n",
       "      <th>163329</th>\n",
       "      <td>b5c44a21e6c36a10b038a66e70b7717b</td>\n",
       "      <td>06001422000</td>\n",
       "      <td>3.185937e+06</td>\n",
       "      <td>3802.575398</td>\n",
       "      <td>2e5efd4dfde2affbd02acbaf948b5893</td>\n",
       "    </tr>\n",
       "    <tr>\n",
       "      <th>163330</th>\n",
       "      <td>b5c44a21e6c36a10b038a66e70b7717b</td>\n",
       "      <td>06001420400</td>\n",
       "      <td>3.189740e+06</td>\n",
       "      <td>585.207969</td>\n",
       "      <td>2e5efd4dfde2affbd02acbaf948b5893</td>\n",
       "    </tr>\n",
       "    <tr>\n",
       "      <th>163331</th>\n",
       "      <td>b5c44a21e6c36a10b038a66e70b7717b</td>\n",
       "      <td>06001420300</td>\n",
       "      <td>3.190325e+06</td>\n",
       "      <td>523.197476</td>\n",
       "      <td>2e5efd4dfde2affbd02acbaf948b5893</td>\n",
       "    </tr>\n",
       "  </tbody>\n",
       "</table>\n",
       "<p>163332 rows × 5 columns</p>\n",
       "</div>"
      ],
      "text/plain": [
       "                         shape_array_key  \\\n",
       "0       48c37aba59d6976367d77d8bf5ccfb05   \n",
       "1       48c37aba59d6976367d77d8bf5ccfb05   \n",
       "2       48c37aba59d6976367d77d8bf5ccfb05   \n",
       "3       48c37aba59d6976367d77d8bf5ccfb05   \n",
       "4       48c37aba59d6976367d77d8bf5ccfb05   \n",
       "...                                  ...   \n",
       "163327  b5c44a21e6c36a10b038a66e70b7717b   \n",
       "163328  b5c44a21e6c36a10b038a66e70b7717b   \n",
       "163329  b5c44a21e6c36a10b038a66e70b7717b   \n",
       "163330  b5c44a21e6c36a10b038a66e70b7717b   \n",
       "163331  b5c44a21e6c36a10b038a66e70b7717b   \n",
       "\n",
       "                              tsi_segment_id  start_meters  \\\n",
       "0                                06001425103  0.000000e+00   \n",
       "1                                06001425103  0.000000e+00   \n",
       "2                                06001425103  0.000000e+00   \n",
       "3                                06001425103  0.000000e+00   \n",
       "4                                06001425103  0.000000e+00   \n",
       "...                                      ...           ...   \n",
       "163327  9265173c-b36b-4239-8d8a-6c29f58406d1  3.185117e+06   \n",
       "163328                           06001425103  3.185149e+06   \n",
       "163329                           06001422000  3.185937e+06   \n",
       "163330                           06001420400  3.189740e+06   \n",
       "163331                           06001420300  3.190325e+06   \n",
       "\n",
       "        tsi_segment_meters                 trip_instance_key  \n",
       "0               595.587122  2799c68c8dc1bfca3e445f8b20eaa9ab  \n",
       "1               595.587122  8890c04258cd7b8e550bc63f3f08b986  \n",
       "2               595.587122  73b5546880e7ddf898b9a1f0b6dff637  \n",
       "3               595.587122  264149fb99e6736ff4708b6c86cfd584  \n",
       "4               595.587122  fb3898cce852c0ba6666f2d3fb615bca  \n",
       "...                    ...                               ...  \n",
       "163327          847.647219  2e5efd4dfde2affbd02acbaf948b5893  \n",
       "163328          781.315317  2e5efd4dfde2affbd02acbaf948b5893  \n",
       "163329         3802.575398  2e5efd4dfde2affbd02acbaf948b5893  \n",
       "163330          585.207969  2e5efd4dfde2affbd02acbaf948b5893  \n",
       "163331          523.197476  2e5efd4dfde2affbd02acbaf948b5893  \n",
       "\n",
       "[163332 rows x 5 columns]"
      ]
     },
     "execution_count": 28,
     "metadata": {},
     "output_type": "execute_result"
    }
   ],
   "source": [
    "tracts_borders_trips"
   ]
  },
  {
   "cell_type": "code",
   "execution_count": 29,
   "id": "e9dfedee-2355-47ae-9918-11410035b7e6",
   "metadata": {
    "tags": []
   },
   "outputs": [
    {
     "name": "stderr",
     "output_type": "stream",
     "text": [
      "Progress: 100%|██████████| 123/123 [00:24<00:00,  5.02it/s]\n"
     ]
    }
   ],
   "source": [
    "many_trip_test =(tracts_borders_trips.head(1000)\n",
    "                .groupby('trip_instance_key', group_keys=False)\n",
    "                .progress_apply(tract_border_time_by_trip, st_proj_df = st_proj))"
   ]
  },
  {
   "cell_type": "code",
   "execution_count": 30,
   "id": "9d656825-0b42-4d7d-a2c4-c09d023aea0f",
   "metadata": {
    "tags": []
   },
   "outputs": [
    {
     "data": {
      "text/html": [
       "<div>\n",
       "<style scoped>\n",
       "    .dataframe tbody tr th:only-of-type {\n",
       "        vertical-align: middle;\n",
       "    }\n",
       "\n",
       "    .dataframe tbody tr th {\n",
       "        vertical-align: top;\n",
       "    }\n",
       "\n",
       "    .dataframe thead th {\n",
       "        text-align: right;\n",
       "    }\n",
       "</style>\n",
       "<table border=\"1\" class=\"dataframe\">\n",
       "  <thead>\n",
       "    <tr style=\"text-align: right;\">\n",
       "      <th></th>\n",
       "      <th>shape_array_key</th>\n",
       "      <th>tsi_segment_id</th>\n",
       "      <th>start_meters</th>\n",
       "      <th>tsi_segment_meters</th>\n",
       "      <th>trip_instance_key</th>\n",
       "      <th>arrival_sec</th>\n",
       "      <th>arrival_sec_next</th>\n",
       "      <th>segment_seconds</th>\n",
       "    </tr>\n",
       "  </thead>\n",
       "  <tbody>\n",
       "    <tr>\n",
       "      <th>0</th>\n",
       "      <td>48c37aba59d6976367d77d8bf5ccfb05</td>\n",
       "      <td>06001425103</td>\n",
       "      <td>0.000000</td>\n",
       "      <td>595.587122</td>\n",
       "      <td>2799c68c8dc1bfca3e445f8b20eaa9ab</td>\n",
       "      <td>30300.000000</td>\n",
       "      <td>30389.956253</td>\n",
       "      <td>89.956253</td>\n",
       "    </tr>\n",
       "    <tr>\n",
       "      <th>1</th>\n",
       "      <td>48c37aba59d6976367d77d8bf5ccfb05</td>\n",
       "      <td>06001425103</td>\n",
       "      <td>0.000000</td>\n",
       "      <td>595.587122</td>\n",
       "      <td>8890c04258cd7b8e550bc63f3f08b986</td>\n",
       "      <td>67500.000000</td>\n",
       "      <td>67577.105360</td>\n",
       "      <td>77.105360</td>\n",
       "    </tr>\n",
       "    <tr>\n",
       "      <th>2</th>\n",
       "      <td>48c37aba59d6976367d77d8bf5ccfb05</td>\n",
       "      <td>06001425103</td>\n",
       "      <td>0.000000</td>\n",
       "      <td>595.587122</td>\n",
       "      <td>73b5546880e7ddf898b9a1f0b6dff637</td>\n",
       "      <td>24600.000000</td>\n",
       "      <td>24702.807146</td>\n",
       "      <td>102.807146</td>\n",
       "    </tr>\n",
       "    <tr>\n",
       "      <th>3</th>\n",
       "      <td>48c37aba59d6976367d77d8bf5ccfb05</td>\n",
       "      <td>06001425103</td>\n",
       "      <td>0.000000</td>\n",
       "      <td>595.587122</td>\n",
       "      <td>264149fb99e6736ff4708b6c86cfd584</td>\n",
       "      <td>70800.000000</td>\n",
       "      <td>70877.105360</td>\n",
       "      <td>77.105360</td>\n",
       "    </tr>\n",
       "    <tr>\n",
       "      <th>4</th>\n",
       "      <td>48c37aba59d6976367d77d8bf5ccfb05</td>\n",
       "      <td>06001425103</td>\n",
       "      <td>0.000000</td>\n",
       "      <td>595.587122</td>\n",
       "      <td>fb3898cce852c0ba6666f2d3fb615bca</td>\n",
       "      <td>21000.000000</td>\n",
       "      <td>21077.105360</td>\n",
       "      <td>77.105360</td>\n",
       "    </tr>\n",
       "    <tr>\n",
       "      <th>...</th>\n",
       "      <td>...</td>\n",
       "      <td>...</td>\n",
       "      <td>...</td>\n",
       "      <td>...</td>\n",
       "      <td>...</td>\n",
       "      <td>...</td>\n",
       "      <td>...</td>\n",
       "      <td>...</td>\n",
       "    </tr>\n",
       "    <tr>\n",
       "      <th>995</th>\n",
       "      <td>0d9bcf2fd73ef369e69b5db1289f0856</td>\n",
       "      <td>42517509-014f-4e0c-ae89-9b83d2f9fe86</td>\n",
       "      <td>2069.992586</td>\n",
       "      <td>147.298115</td>\n",
       "      <td>d7d8c2a94857973120b9cd6a9c0c701a</td>\n",
       "      <td>60516.630063</td>\n",
       "      <td>63840.000000</td>\n",
       "      <td>3323.369937</td>\n",
       "    </tr>\n",
       "    <tr>\n",
       "      <th>996</th>\n",
       "      <td>0d9bcf2fd73ef369e69b5db1289f0856</td>\n",
       "      <td>42517509-014f-4e0c-ae89-9b83d2f9fe86</td>\n",
       "      <td>2069.992586</td>\n",
       "      <td>147.298115</td>\n",
       "      <td>2c6335ddf08eda5e4a39aca61a181520</td>\n",
       "      <td>50976.630063</td>\n",
       "      <td>53820.000000</td>\n",
       "      <td>2843.369937</td>\n",
       "    </tr>\n",
       "    <tr>\n",
       "      <th>997</th>\n",
       "      <td>0d9bcf2fd73ef369e69b5db1289f0856</td>\n",
       "      <td>42517509-014f-4e0c-ae89-9b83d2f9fe86</td>\n",
       "      <td>2069.992586</td>\n",
       "      <td>147.298115</td>\n",
       "      <td>bfd2ba6a7c17fe49acb6e8b1fdd30396</td>\n",
       "      <td>83606.495695</td>\n",
       "      <td>85620.000000</td>\n",
       "      <td>2013.504305</td>\n",
       "    </tr>\n",
       "    <tr>\n",
       "      <th>998</th>\n",
       "      <td>0d9bcf2fd73ef369e69b5db1289f0856</td>\n",
       "      <td>42517509-014f-4e0c-ae89-9b83d2f9fe86</td>\n",
       "      <td>2069.992586</td>\n",
       "      <td>147.298115</td>\n",
       "      <td>4cbd98fa20dc81c23eefcf31995f7ec1</td>\n",
       "      <td>39456.630063</td>\n",
       "      <td>42300.000000</td>\n",
       "      <td>2843.369937</td>\n",
       "    </tr>\n",
       "    <tr>\n",
       "      <th>999</th>\n",
       "      <td>0d9bcf2fd73ef369e69b5db1289f0856</td>\n",
       "      <td>42517509-014f-4e0c-ae89-9b83d2f9fe86</td>\n",
       "      <td>2069.992586</td>\n",
       "      <td>147.298115</td>\n",
       "      <td>2c4bdc17fa1c980f5f5c462c0341684a</td>\n",
       "      <td>65959.596471</td>\n",
       "      <td>68640.000000</td>\n",
       "      <td>2680.403529</td>\n",
       "    </tr>\n",
       "  </tbody>\n",
       "</table>\n",
       "<p>1000 rows × 8 columns</p>\n",
       "</div>"
      ],
      "text/plain": [
       "                      shape_array_key                        tsi_segment_id  \\\n",
       "0    48c37aba59d6976367d77d8bf5ccfb05                           06001425103   \n",
       "1    48c37aba59d6976367d77d8bf5ccfb05                           06001425103   \n",
       "2    48c37aba59d6976367d77d8bf5ccfb05                           06001425103   \n",
       "3    48c37aba59d6976367d77d8bf5ccfb05                           06001425103   \n",
       "4    48c37aba59d6976367d77d8bf5ccfb05                           06001425103   \n",
       "..                                ...                                   ...   \n",
       "995  0d9bcf2fd73ef369e69b5db1289f0856  42517509-014f-4e0c-ae89-9b83d2f9fe86   \n",
       "996  0d9bcf2fd73ef369e69b5db1289f0856  42517509-014f-4e0c-ae89-9b83d2f9fe86   \n",
       "997  0d9bcf2fd73ef369e69b5db1289f0856  42517509-014f-4e0c-ae89-9b83d2f9fe86   \n",
       "998  0d9bcf2fd73ef369e69b5db1289f0856  42517509-014f-4e0c-ae89-9b83d2f9fe86   \n",
       "999  0d9bcf2fd73ef369e69b5db1289f0856  42517509-014f-4e0c-ae89-9b83d2f9fe86   \n",
       "\n",
       "     start_meters  tsi_segment_meters                 trip_instance_key  \\\n",
       "0        0.000000          595.587122  2799c68c8dc1bfca3e445f8b20eaa9ab   \n",
       "1        0.000000          595.587122  8890c04258cd7b8e550bc63f3f08b986   \n",
       "2        0.000000          595.587122  73b5546880e7ddf898b9a1f0b6dff637   \n",
       "3        0.000000          595.587122  264149fb99e6736ff4708b6c86cfd584   \n",
       "4        0.000000          595.587122  fb3898cce852c0ba6666f2d3fb615bca   \n",
       "..            ...                 ...                               ...   \n",
       "995   2069.992586          147.298115  d7d8c2a94857973120b9cd6a9c0c701a   \n",
       "996   2069.992586          147.298115  2c6335ddf08eda5e4a39aca61a181520   \n",
       "997   2069.992586          147.298115  bfd2ba6a7c17fe49acb6e8b1fdd30396   \n",
       "998   2069.992586          147.298115  4cbd98fa20dc81c23eefcf31995f7ec1   \n",
       "999   2069.992586          147.298115  2c4bdc17fa1c980f5f5c462c0341684a   \n",
       "\n",
       "      arrival_sec  arrival_sec_next  segment_seconds  \n",
       "0    30300.000000      30389.956253        89.956253  \n",
       "1    67500.000000      67577.105360        77.105360  \n",
       "2    24600.000000      24702.807146       102.807146  \n",
       "3    70800.000000      70877.105360        77.105360  \n",
       "4    21000.000000      21077.105360        77.105360  \n",
       "..            ...               ...              ...  \n",
       "995  60516.630063      63840.000000      3323.369937  \n",
       "996  50976.630063      53820.000000      2843.369937  \n",
       "997  83606.495695      85620.000000      2013.504305  \n",
       "998  39456.630063      42300.000000      2843.369937  \n",
       "999  65959.596471      68640.000000      2680.403529  \n",
       "\n",
       "[1000 rows x 8 columns]"
      ]
     },
     "execution_count": 30,
     "metadata": {},
     "output_type": "execute_result"
    }
   ],
   "source": [
    "many_trip_test"
   ]
  },
  {
   "cell_type": "code",
   "execution_count": 31,
   "id": "cf585119-46a7-4cb6-a160-59ec357fcaba",
   "metadata": {
    "tags": []
   },
   "outputs": [],
   "source": [
    "meta = many_trip_test[:0]"
   ]
  },
  {
   "cell_type": "code",
   "execution_count": 32,
   "id": "741b8cda-61d4-4449-92a7-1a8afbc270f7",
   "metadata": {
    "tags": []
   },
   "outputs": [],
   "source": [
    "# many_trip_test.query('trip_instance_key == \"2799c68c8dc1bfca3e445f8b20eaa9ab\"')\n",
    "\n",
    "# many_trip_test.loc[36, 'tsi_segment_id']"
   ]
  },
  {
   "cell_type": "code",
   "execution_count": 33,
   "id": "2cf01554-e1ff-4867-8986-44ce671fc02b",
   "metadata": {
    "tags": []
   },
   "outputs": [],
   "source": [
    "import dask.dataframe as dd\n",
    "import dask_geopandas as dg"
   ]
  },
  {
   "cell_type": "code",
   "execution_count": 34,
   "id": "5501b8dd-fe76-4b87-a2f7-6080ed997cc5",
   "metadata": {
    "tags": []
   },
   "outputs": [],
   "source": [
    "trips = tracts_borders_trips.trip_instance_key.unique()"
   ]
  },
  {
   "cell_type": "code",
   "execution_count": 35,
   "id": "5fa05663-08a0-4cab-9e91-f6a5cf6c3787",
   "metadata": {
    "tags": []
   },
   "outputs": [],
   "source": [
    "set1 = trips[:4000]"
   ]
  },
  {
   "cell_type": "code",
   "execution_count": 36,
   "id": "61f3d85a-f7d2-439b-a574-5226030e25a8",
   "metadata": {
    "tags": []
   },
   "outputs": [],
   "source": [
    "set2 = trips[4000:]"
   ]
  },
  {
   "cell_type": "code",
   "execution_count": 37,
   "id": "1697bcf8-15b6-416a-8242-cbf4d3180395",
   "metadata": {
    "tags": []
   },
   "outputs": [],
   "source": [
    "# ddf = dd.from_pandas(tracts_borders_trips.query('trip_instance_key.isin(@set1)'), npartitions=10)\n",
    "\n",
    "# ddf = (ddf.groupby('trip_instance_key', group_keys=False)\n",
    "#        .apply(tract_border_time_by_trip, st_proj_df = st_proj, meta=meta))\n",
    "\n",
    "# %%time \n",
    "# df = ddf.compute()\n",
    "\n",
    "# df.to_parquet(f'trips_set1_tsi_segs_alameda_{analysis_date}.parquet')"
   ]
  },
  {
   "cell_type": "code",
   "execution_count": 38,
   "id": "b96f2ef5-ee43-4e69-a1d1-8ece497b893b",
   "metadata": {
    "tags": []
   },
   "outputs": [],
   "source": [
    "ddf = dd.from_pandas(tracts_borders_trips.query('trip_instance_key.isin(@set2)'), npartitions=10)"
   ]
  },
  {
   "cell_type": "code",
   "execution_count": 39,
   "id": "6b48215f-3ca7-432c-b6e3-46c96381fd74",
   "metadata": {
    "tags": []
   },
   "outputs": [],
   "source": [
    "ddf = (ddf.groupby('trip_instance_key', group_keys=False)\n",
    "       .apply(tract_border_time_by_trip, st_proj_df = st_proj, meta=meta))"
   ]
  },
  {
   "cell_type": "code",
   "execution_count": 40,
   "id": "5ef3d336-32e1-43dd-8827-4f71de369d01",
   "metadata": {
    "tags": []
   },
   "outputs": [
    {
     "name": "stdout",
     "output_type": "stream",
     "text": [
      "CPU times: user 9min 26s, sys: 1min 20s, total: 10min 47s\n",
      "Wall time: 8min 58s\n"
     ]
    }
   ],
   "source": [
    "%%time \n",
    "df = ddf.compute()"
   ]
  },
  {
   "cell_type": "code",
   "execution_count": 41,
   "id": "430bdbb4-f9fa-416c-8c31-b751cc1b8b21",
   "metadata": {
    "tags": []
   },
   "outputs": [],
   "source": [
    "df.to_parquet(f'trips_set2_tsi_segs_alameda_{analysis_date}.parquet')"
   ]
  },
  {
   "cell_type": "code",
   "execution_count": 42,
   "id": "42a5d055-3286-4645-a6e2-60a3bf7d3717",
   "metadata": {
    "tags": []
   },
   "outputs": [
    {
     "name": "stderr",
     "output_type": "stream",
     "text": [
      "Progress: 100%|██████████| 299/299 [00:59<00:00,  4.99it/s]\n"
     ]
    }
   ],
   "source": [
    "all_trips =(tracts_borders_trips.head(5000)\n",
    "                .groupby('trip_instance_key', group_keys=False)\n",
    "                .progress_apply(tract_border_time_by_trip, st_proj_df = st_proj))"
   ]
  },
  {
   "cell_type": "code",
   "execution_count": null,
   "id": "9aacecb5-bf78-47cd-9220-ed1e99bed262",
   "metadata": {
    "tags": []
   },
   "outputs": [],
   "source": [
    "all_trips.to_parquet(f'trips_tsi_segs_alameda{analysis_date}.parquet')"
   ]
  },
  {
   "cell_type": "code",
   "execution_count": null,
   "id": "e15a23d1-4e1f-4b6c-b16b-22ae632bc68d",
   "metadata": {
    "tags": []
   },
   "outputs": [],
   "source": [
    "analysis_date"
   ]
  },
  {
   "cell_type": "code",
   "execution_count": null,
   "id": "02070325-a23f-4194-937d-88157b2602f5",
   "metadata": {
    "tags": []
   },
   "outputs": [],
   "source": [
    "def read_shapes_stopping_in_seg(analysis_date):\n",
    "    cols = ['shape_array_key', 'tsi_segment_id']\n",
    "    sstb = pd.read_parquet(f'./shape_stops_tracts_borders_{analysis_date}.parquet')[cols]\n",
    "    sstb['has_stop'] = True\n",
    "    return sstb"
   ]
  },
  {
   "cell_type": "code",
   "execution_count": null,
   "id": "aa7934f1-562e-4ab8-8d10-b4526c058b2b",
   "metadata": {},
   "outputs": [],
   "source": [
    "sstb = read_shapes_stopping_in_seg(analysis_date)"
   ]
  },
  {
   "cell_type": "code",
   "execution_count": null,
   "id": "d1204db9-851a-49f8-9a5e-622506ae245e",
   "metadata": {
    "tags": []
   },
   "outputs": [],
   "source": [
    "sstb"
   ]
  },
  {
   "cell_type": "code",
   "execution_count": null,
   "id": "8797578e-6912-4501-b1ec-daae08ef697b",
   "metadata": {
    "tags": []
   },
   "outputs": [],
   "source": [
    "def attach_stopping_info(trip_segment_df, shape_stopping_df):\n",
    "    '''\n",
    "    '''\n",
    "    df = trip_segment_df.merge(shape_stopping_df, how='left', on=['shape_array_key', 'tsi_segment_id'])\n",
    "    df.has_stop = df.has_stop.fillna(False)\n",
    "    return df"
   ]
  },
  {
   "cell_type": "code",
   "execution_count": null,
   "id": "b63afc9d-dc64-4313-b9ff-250f399e9b5f",
   "metadata": {
    "tags": []
   },
   "outputs": [],
   "source": [
    "attach_stopping_info(many_trip_test, sstb)"
   ]
  },
  {
   "cell_type": "code",
   "execution_count": null,
   "id": "ca8f02d3-128a-4ef3-943e-c1880c465b5c",
   "metadata": {
    "tags": []
   },
   "outputs": [],
   "source": [
    "many_trip_test.merge(sstb, how='left', on=['shape_array_key', 'tsi_segment_id'])"
   ]
  },
  {
   "cell_type": "code",
   "execution_count": null,
   "id": "96d97bbe-3327-4088-93d9-da325382f615",
   "metadata": {},
   "outputs": [],
   "source": []
  }
 ],
 "metadata": {
  "kernelspec": {
   "display_name": "Python 3 (ipykernel)",
   "language": "python",
   "name": "python3"
  },
  "language_info": {
   "codemirror_mode": {
    "name": "ipython",
    "version": 3
   },
   "file_extension": ".py",
   "mimetype": "text/x-python",
   "name": "python",
   "nbconvert_exporter": "python",
   "pygments_lexer": "ipython3",
   "version": "3.11.10"
  },
  "widgets": {
   "application/vnd.jupyter.widget-state+json": {
    "state": {},
    "version_major": 2,
    "version_minor": 0
   }
  }
 },
 "nbformat": 4,
 "nbformat_minor": 5
}
