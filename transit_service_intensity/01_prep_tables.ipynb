{
 "cells": [
  {
   "cell_type": "code",
   "execution_count": null,
   "id": "9e645c63-24e5-466f-8f20-279614c1d767",
   "metadata": {},
   "outputs": [],
   "source": [
    "import sys"
   ]
  },
  {
   "cell_type": "code",
   "execution_count": null,
   "id": "4f3eb58f-9663-4867-a5c2-2ed658cd4c0d",
   "metadata": {},
   "outputs": [],
   "source": [
    "import intake\n",
    "import pandas as pd\n",
    "import geopandas as gpd\n",
    "import numpy as np\n",
    "from calitp_data_analysis import geography_utils\n",
    "from siuba import *\n",
    "import gtfs_segments\n",
    "import shapely"
   ]
  },
  {
   "cell_type": "code",
   "execution_count": null,
   "id": "dbc34a06-4993-426d-8e6e-99b9cd447222",
   "metadata": {},
   "outputs": [],
   "source": [
    "from shared_utils import catalog_utils, rt_dates\n",
    "GTFS_DATA_DICT = catalog_utils.get_catalog(\"gtfs_analytics_data\")"
   ]
  },
  {
   "cell_type": "code",
   "execution_count": null,
   "id": "815cb9ed-e7dd-4a8f-9830-917101668c45",
   "metadata": {},
   "outputs": [],
   "source": [
    "from segment_speed_utils import helpers"
   ]
  },
  {
   "cell_type": "code",
   "execution_count": null,
   "id": "bf9bbb7a-620d-4847-a770-9243782451f4",
   "metadata": {
    "tags": []
   },
   "outputs": [],
   "source": [
    "analysis_date = rt_dates.DATES['feb2025']"
   ]
  },
  {
   "cell_type": "markdown",
   "id": "afe82e80-7c93-43ed-a32a-5c3daed646eb",
   "metadata": {},
   "source": [
    "# Exploratory Analysis\n",
    "\n",
    "Start working on how to identify and count \"border zones\" where transit runs along Census Tract boundaries and VRH/VRM should be split accordingly (avoiding double-counting or arbitrary allocation to only one border tract)"
   ]
  },
  {
   "cell_type": "markdown",
   "id": "33dd2313-e281-4d0c-ad3d-a7db022a8ebd",
   "metadata": {},
   "source": [
    "## trip - linestring interpolation\n",
    "\n",
    "could use this again? https://github.com/cal-itp/data-analyses/blob/530f2d5cf4419a2403d6485845d91ac4bc65e672/_shared_utils/shared_utils/rt_utils.py#L574-L579\n",
    "\n",
    "https://github.com/cal-itp/data-analyses/blob/530f2d5cf4419a2403d6485845d91ac4bc65e672/rt_delay/rt_analysis/rt_parser.py#L90\n",
    "\n",
    "* fillna both directions arrival <-> departure time\n",
    "* then dropna"
   ]
  },
  {
   "cell_type": "markdown",
   "id": "c4cc0283-829d-4d99-8c0b-ccc34868c6e7",
   "metadata": {
    "tags": []
   },
   "source": [
    "## Projected st via `stop_times_direction`"
   ]
  },
  {
   "cell_type": "markdown",
   "id": "7943164c-06f8-4465-83c6-f207c68ee3de",
   "metadata": {},
   "source": [
    "### is this accurate?"
   ]
  },
  {
   "cell_type": "code",
   "execution_count": null,
   "id": "53e67200-44a3-4c94-b092-80a68c1fbc9b",
   "metadata": {
    "tags": []
   },
   "outputs": [],
   "source": [
    "path = f'{GTFS_DATA_DICT.rt_vs_schedule_tables.dir}{GTFS_DATA_DICT.rt_vs_schedule_tables.stop_times_direction}_{analysis_date}.parquet'\n",
    "# ST_DIR_COLS = ['trip_instance_key', 'stop_sequence', 'stop_meters', 'stop_id', 'geometry']\n",
    "st_dir = gpd.read_parquet(path)"
   ]
  },
  {
   "cell_type": "code",
   "execution_count": null,
   "id": "64988cb7-8f3d-47cf-a1d9-636e677e9341",
   "metadata": {
    "tags": []
   },
   "outputs": [],
   "source": [
    "test = st_dir.query('trip_instance_key == \"98c8b779600cc0c399755929110a83c4\"').sort_values('stop_sequence')"
   ]
  },
  {
   "cell_type": "code",
   "execution_count": null,
   "id": "39732a90-ad05-4134-accc-a085707ea9c6",
   "metadata": {
    "tags": []
   },
   "outputs": [],
   "source": [
    "test.crs"
   ]
  },
  {
   "cell_type": "code",
   "execution_count": null,
   "id": "be6c2147-6dbc-4f85-8298-d8d87c7fc2e7",
   "metadata": {
    "tags": []
   },
   "outputs": [],
   "source": [
    "shapes_proj = shapes.to_crs(test.crs)"
   ]
  },
  {
   "cell_type": "code",
   "execution_count": null,
   "id": "3a5b797f-7429-4f0a-bb6e-297c90e9035f",
   "metadata": {
    "tags": []
   },
   "outputs": [],
   "source": [
    "test_geom = shapes_proj.query('shape_array_key == \"3caab5c44277cbdc8fbc755bc0ea7633\"').geometry.iloc[0]"
   ]
  },
  {
   "cell_type": "code",
   "execution_count": null,
   "id": "7701b1b6-3c20-455e-b852-ca6998323ea4",
   "metadata": {
    "tags": []
   },
   "outputs": [],
   "source": [
    "test_geom.project(test.geometry.iloc[0])"
   ]
  },
  {
   "cell_type": "code",
   "execution_count": null,
   "id": "15229424-97c8-44c4-a52c-cfb5b5a8ead8",
   "metadata": {
    "tags": []
   },
   "outputs": [],
   "source": [
    "test"
   ]
  },
  {
   "cell_type": "markdown",
   "id": "465b86df-45ce-47b7-8672-6e7dd94e4d2c",
   "metadata": {},
   "source": [
    "### functions"
   ]
  },
  {
   "cell_type": "code",
   "execution_count": null,
   "id": "9c733c9e-395f-4e4c-9fa6-8e4d10d0c2df",
   "metadata": {},
   "outputs": [],
   "source": [
    "def attach_projected_stop_times(analysis_date: str):\n",
    "    '''\n",
    "    \n",
    "    '''\n",
    "    path = f'{GTFS_DATA_DICT.rt_vs_schedule_tables.dir}{GTFS_DATA_DICT.rt_vs_schedule_tables.stop_times_direction}_{analysis_date}.parquet'\n",
    "    ST_DIR_COLS = ['trip_instance_key', 'stop_sequence', 'stop_meters', 'stop_id']\n",
    "    st_dir = gpd.read_parquet(path)[ST_DIR_COLS]\n",
    "    st = helpers.import_scheduled_stop_times(analysis_date, get_pandas=True)\n",
    "    trips = helpers.import_scheduled_trips(analysis_date, columns=['trip_id', 'trip_instance_key', 'feed_key',\n",
    "                                                                  'shape_array_key'])\n",
    "    st = st.merge(trips, on = ['feed_key', 'trip_id'])\n",
    "    return st.merge(st_dir, on = ['trip_instance_key', 'stop_sequence', 'stop_id'])"
   ]
  },
  {
   "cell_type": "code",
   "execution_count": null,
   "id": "ded8125e-2bae-4773-9241-88cf667fe2af",
   "metadata": {},
   "outputs": [],
   "source": [
    "stops = helpers.import_scheduled_stops(analysis_date, columns=['feed_key', 'stop_id', 'geometry'])"
   ]
  },
  {
   "cell_type": "code",
   "execution_count": null,
   "id": "63cc8327-f193-4f46-b0e3-1dee395f1c8a",
   "metadata": {
    "tags": []
   },
   "outputs": [],
   "source": [
    "st_proj = attach_projected_stop_times(analysis_date)"
   ]
  },
  {
   "cell_type": "code",
   "execution_count": null,
   "id": "125f7e25-0618-4a15-8147-89dfb03036f6",
   "metadata": {
    "tags": []
   },
   "outputs": [],
   "source": [
    "st_proj.arrival_sec.isna().value_counts()"
   ]
  },
  {
   "cell_type": "code",
   "execution_count": null,
   "id": "d404c84f-69a2-41e4-90ad-372a7ff651fb",
   "metadata": {
    "tags": []
   },
   "outputs": [],
   "source": [
    "st_proj.departure_sec.isna().value_counts()"
   ]
  },
  {
   "cell_type": "code",
   "execution_count": null,
   "id": "76526d04-25d9-4d56-a432-6714c50e8d05",
   "metadata": {
    "tags": []
   },
   "outputs": [],
   "source": [
    "st_proj.query('departure_sec.isna()')"
   ]
  },
  {
   "cell_type": "code",
   "execution_count": null,
   "id": "16d60b57-7b9f-45d6-b63f-89faf99f9c1e",
   "metadata": {
    "tags": []
   },
   "outputs": [],
   "source": [
    "st_proj.query('trip_id == \"VL_13_outbound_0755\"').sort_values('stop_sequence')"
   ]
  },
  {
   "cell_type": "code",
   "execution_count": null,
   "id": "32e089f6-47a8-41b9-9b4c-04efd84f0f7e",
   "metadata": {
    "tags": []
   },
   "outputs": [],
   "source": [
    "st_proj.to_parquet(f'st_proj_{analysis_date}.parquet')"
   ]
  },
  {
   "cell_type": "markdown",
   "id": "5fe099aa-78a9-4ab7-8dbf-23fa06248aa3",
   "metadata": {},
   "source": [
    "## projecting TSI interpolation points"
   ]
  },
  {
   "cell_type": "markdown",
   "id": "0bb30274-f8ff-4ca3-a129-78b9e0c4f69f",
   "metadata": {},
   "source": [
    "### let's use `gtfs_segments`\n",
    "\n",
    "* project all stop x shape combos either natively or using `gtfs_segments`\n",
    "    * https://github.com/UTEL-UIUC/gtfs_segments/blob/871447705f7058da3f05f86aa9da42b75996808c/gtfs_segments/geom_utils.py#L437\n",
    "    * `nearest_points` should be usable...\n",
    "* need to use either tract or intersection_hash as stop_id"
   ]
  },
  {
   "cell_type": "code",
   "execution_count": null,
   "id": "28876b3a-880d-49fd-ab57-40477d81e193",
   "metadata": {
    "tags": []
   },
   "outputs": [],
   "source": [
    "shapes = helpers.import_scheduled_shapes(analysis_date, crs=geography_utils.WGS84)"
   ]
  },
  {
   "cell_type": "code",
   "execution_count": null,
   "id": "b520ddbb-f6a7-4664-8975-5468a80f8f20",
   "metadata": {
    "tags": []
   },
   "outputs": [],
   "source": [
    "test_tract_borders = gpd.read_parquet('test_tracts_borders_2025-02-12.parquet')"
   ]
  },
  {
   "cell_type": "code",
   "execution_count": null,
   "id": "facfcc1f-8815-45d6-ab6a-c7ed876977eb",
   "metadata": {
    "tags": []
   },
   "outputs": [],
   "source": [
    "test_tract_borders = (test_tract_borders.drop(columns=['geometry'])\n",
    "                     .assign(tsi_segment_id = test_tract_borders.tract.combine_first(test_tract_borders.intersection_hash))\n",
    "                     )"
   ]
  },
  {
   "cell_type": "code",
   "execution_count": null,
   "id": "cb89216a-6d9b-442b-ae37-bc5a16d8cb44",
   "metadata": {
    "tags": []
   },
   "outputs": [],
   "source": [
    "test_tract_borders = shapes.merge(test_tract_borders, on='shape_array_key')"
   ]
  },
  {
   "cell_type": "code",
   "execution_count": null,
   "id": "c3fc7276-a363-42dc-81e7-3806a0114fcf",
   "metadata": {
    "tags": []
   },
   "outputs": [],
   "source": [
    "test_tract_borders.head(3)"
   ]
  },
  {
   "cell_type": "code",
   "execution_count": null,
   "id": "68c01ac5-0fd7-4cd5-9096-e6f12015087e",
   "metadata": {
    "tags": []
   },
   "outputs": [],
   "source": [
    "gtfs_segments_rename = {'shape_array_key': 'trip_id',\n",
    "                       'tsi_segment_id': 'stop_id'}"
   ]
  },
  {
   "cell_type": "code",
   "execution_count": null,
   "id": "e8f47ed4-f77d-4905-99bd-573610f3fe45",
   "metadata": {
    "tags": []
   },
   "outputs": [],
   "source": [
    "test_tract_borders = test_tract_borders.rename(columns=gtfs_segments_rename)\n",
    "test_tract_borders['arrival_time'] = None"
   ]
  },
  {
   "cell_type": "code",
   "execution_count": null,
   "id": "57bf23e9-7a7d-4587-a6d9-43a47565f069",
   "metadata": {
    "tags": []
   },
   "outputs": [],
   "source": [
    "import contextily as cx\n",
    "import folium\n",
    "import matplotlib.pyplot as plt\n",
    "import utm\n",
    "from matplotlib.figure import Figure\n",
    "from pyproj import Geod\n",
    "from scipy.spatial import cKDTree\n",
    "from shapely.geometry import LineString, Point\n",
    "from shapely.ops import split\n",
    "\n",
    "geod = Geod(ellps=\"WGS84\")"
   ]
  },
  {
   "cell_type": "code",
   "execution_count": null,
   "id": "5c63877a-6f58-41ef-a7f0-590465428c43",
   "metadata": {
    "tags": []
   },
   "outputs": [],
   "source": [
    "def segment_bootstrap(stop_df, k_neighbors=3):\n",
    "    '''\n",
    "    `gtfs_segments` wants the df to be _in order_ for the algorithm to work.\n",
    "    \n",
    "    We can't rely on sjoining stops to tracts/borders and using stop_sequence,\n",
    "    since we still need to track tracts/borders without any stops.\n",
    "    \n",
    "    Apply the first part of gtfs_segments.geom_utils.nearest_points to \n",
    "    get a first order estimate, use that to sort\n",
    "    '''\n",
    "    geo_const = 6371000 * np.pi / 180\n",
    "    \n",
    "    for name, group in stop_df.groupby(\"trip_id\"):\n",
    "        neighbors = k_neighbors\n",
    "        geom_line = group[\"geometry\"].iloc[0]\n",
    "        tree = cKDTree(data=np.array(geom_line.coords))\n",
    "        stops = [x.coords[0] for x in group[\"start\"]]\n",
    "        np_dist, np_inds = tree.query(stops, workers=-1, k=neighbors)\n",
    "        group = group.assign(stop_meters = [min(n) for n in np_inds])\n",
    "        stop_df.loc[stop_df.trip_id == name, \"bootstrap_meters\"] = [min(n) for n in np_inds]\n",
    "    return stop_df.sort_values('bootstrap_meters')"
   ]
  },
  {
   "cell_type": "code",
   "execution_count": null,
   "id": "da4ebee3-4aa4-4f0d-984f-3d81cf0e9a4b",
   "metadata": {
    "tags": []
   },
   "outputs": [],
   "source": [
    "stop_df = segment_bootstrap(test_tract_borders)"
   ]
  },
  {
   "cell_type": "code",
   "execution_count": null,
   "id": "d0ef9c9a-ea1d-4c36-a502-def71c5b8fa4",
   "metadata": {
    "tags": []
   },
   "outputs": [],
   "source": [
    "gtfs_segments_rename_inverse = {v: k for k, v in gtfs_segments_rename.items()}"
   ]
  },
  {
   "cell_type": "code",
   "execution_count": null,
   "id": "1d518287-6529-4be5-be4d-6c472c6acf31",
   "metadata": {
    "tags": []
   },
   "outputs": [],
   "source": [
    "segments_interpolated = gtfs_segments.geom_utils.nearest_points(stop_df).rename(columns=gtfs_segments_rename_inverse)"
   ]
  },
  {
   "cell_type": "markdown",
   "id": "e8a6e308-1610-45ed-95c5-8bd1f4c41ca8",
   "metadata": {},
   "source": [
    "## interpolation with arrays"
   ]
  },
  {
   "cell_type": "code",
   "execution_count": null,
   "id": "f252e7dc-476c-4f8d-86a4-51fa60b4ce27",
   "metadata": {
    "tags": []
   },
   "outputs": [],
   "source": [
    "st_proj"
   ]
  },
  {
   "cell_type": "code",
   "execution_count": null,
   "id": "8be38ff7-5ea0-4761-b8be-8b90d232d87a",
   "metadata": {
    "tags": []
   },
   "outputs": [],
   "source": [
    "segments_interpolated"
   ]
  },
  {
   "cell_type": "markdown",
   "id": "8ba81105-94c4-43c6-b8f4-8a5eeb44ec0b",
   "metadata": {},
   "source": [
    "### try one trip"
   ]
  },
  {
   "cell_type": "code",
   "execution_count": null,
   "id": "5723b516-1ab7-492e-b561-f2beb615be71",
   "metadata": {
    "tags": []
   },
   "outputs": [],
   "source": [
    "one_trip = st_proj.query('trip_instance_key == \"98c8b779600cc0c399755929110a83c4\"').sort_values('stop_sequence')"
   ]
  },
  {
   "cell_type": "code",
   "execution_count": null,
   "id": "04145859-35cb-4621-af00-4a9cc75346ea",
   "metadata": {
    "tags": []
   },
   "outputs": [],
   "source": [
    "one_trip"
   ]
  },
  {
   "cell_type": "code",
   "execution_count": null,
   "id": "49470219-1d46-4475-961b-6608ddc490a0",
   "metadata": {
    "tags": []
   },
   "outputs": [],
   "source": [
    "one_trip.stop_meters.to_numpy()"
   ]
  },
  {
   "cell_type": "code",
   "execution_count": null,
   "id": "16b95861-a6bf-47a9-b9ac-955ef85ea76c",
   "metadata": {
    "tags": []
   },
   "outputs": [],
   "source": [
    "one_trip.arrival_sec.to_numpy()"
   ]
  },
  {
   "cell_type": "code",
   "execution_count": null,
   "id": "f6b7d21e-57cc-4fbf-a0fe-9e04ce9f2ca5",
   "metadata": {
    "tags": []
   },
   "outputs": [],
   "source": [
    "segments_interpolated.explore()"
   ]
  },
  {
   "cell_type": "code",
   "execution_count": null,
   "id": "8d1eb0d4-0e4a-4d8d-8d94-54141ae08b61",
   "metadata": {},
   "outputs": [],
   "source": []
  }
 ],
 "metadata": {
  "kernelspec": {
   "display_name": "Python 3 (ipykernel)",
   "language": "python",
   "name": "python3"
  },
  "language_info": {
   "codemirror_mode": {
    "name": "ipython",
    "version": 3
   },
   "file_extension": ".py",
   "mimetype": "text/x-python",
   "name": "python",
   "nbconvert_exporter": "python",
   "pygments_lexer": "ipython3",
   "version": "3.11.10"
  },
  "widgets": {
   "application/vnd.jupyter.widget-state+json": {
    "state": {},
    "version_major": 2,
    "version_minor": 0
   }
  }
 },
 "nbformat": 4,
 "nbformat_minor": 5
}
