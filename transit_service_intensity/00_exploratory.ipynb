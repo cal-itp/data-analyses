{
 "cells": [
  {
   "cell_type": "code",
   "execution_count": 1,
   "id": "9e645c63-24e5-466f-8f20-279614c1d767",
   "metadata": {},
   "outputs": [],
   "source": [
    "import sys"
   ]
  },
  {
   "cell_type": "code",
   "execution_count": 2,
   "id": "4f3eb58f-9663-4867-a5c2-2ed658cd4c0d",
   "metadata": {},
   "outputs": [],
   "source": [
    "import intake\n",
    "import pandas as pd\n",
    "import geopandas as gpd\n",
    "from calitp_data_analysis import geography_utils\n",
    "from siuba import *"
   ]
  },
  {
   "cell_type": "code",
   "execution_count": 3,
   "id": "dbc34a06-4993-426d-8e6e-99b9cd447222",
   "metadata": {},
   "outputs": [],
   "source": [
    "from shared_utils import catalog_utils, rt_dates\n",
    "GTFS_DATA_DICT = catalog_utils.get_catalog(\"gtfs_analytics_data\")"
   ]
  },
  {
   "cell_type": "code",
   "execution_count": 4,
   "id": "815cb9ed-e7dd-4a8f-9830-917101668c45",
   "metadata": {},
   "outputs": [],
   "source": [
    "from segment_speed_utils import helpers"
   ]
  },
  {
   "cell_type": "markdown",
   "id": "afe82e80-7c93-43ed-a32a-5c3daed646eb",
   "metadata": {},
   "source": [
    "# Exploratory Analysis\n",
    "\n",
    "Start working on how to identify and count \"border zones\" where transit runs along Census Tract boundaries and VRH/VRM should be split accordingly (avoiding double-counting or arbitrary allocation to only one border tract)"
   ]
  },
  {
   "cell_type": "code",
   "execution_count": 5,
   "id": "0472c5ab-e469-4f36-821b-43920b9570a6",
   "metadata": {},
   "outputs": [],
   "source": [
    "catalog = intake.open_catalog(\"*.yml\")"
   ]
  },
  {
   "cell_type": "code",
   "execution_count": 6,
   "id": "0d6185dd-7140-4eb0-abb7-90d36522e647",
   "metadata": {},
   "outputs": [],
   "source": [
    "def read_census_tracts(\n",
    "    crs: str = geography_utils.CA_NAD83Albers\n",
    ") -> gpd.GeoDataFrame:\n",
    "    census_tracts = (\n",
    "        catalog.calenviroscreen_lehd_by_tract.read()\n",
    "        .to_crs(crs)\n",
    "        [[\"Tract\", \"pop_sq_mi\", \"geometry\"]]\n",
    "    ).rename(columns={'Tract':'tract'})\n",
    "    return census_tracts"
   ]
  },
  {
   "cell_type": "code",
   "execution_count": 7,
   "id": "822430c6-9c7b-48e6-a3a8-3d0d682ba40b",
   "metadata": {},
   "outputs": [],
   "source": [
    "gdf = read_census_tracts()"
   ]
  },
  {
   "cell_type": "code",
   "execution_count": 8,
   "id": "f3bf5417-8e12-464e-a0c0-3f4495dfaedc",
   "metadata": {},
   "outputs": [],
   "source": [
    "analysis_date = rt_dates.DATES['dec2024']"
   ]
  },
  {
   "cell_type": "code",
   "execution_count": 9,
   "id": "4433149f-e1f8-4af4-946b-4da55d29e4a7",
   "metadata": {},
   "outputs": [],
   "source": [
    "stops = helpers.import_scheduled_stops(analysis_date, columns=['feed_key', 'geometry'])"
   ]
  },
  {
   "cell_type": "code",
   "execution_count": 10,
   "id": "5f95bbef-f48f-4fa8-bab3-1c43f770455b",
   "metadata": {},
   "outputs": [
    {
     "data": {
      "text/html": [
       "<div>\n",
       "<style scoped>\n",
       "    .dataframe tbody tr th:only-of-type {\n",
       "        vertical-align: middle;\n",
       "    }\n",
       "\n",
       "    .dataframe tbody tr th {\n",
       "        vertical-align: top;\n",
       "    }\n",
       "\n",
       "    .dataframe thead th {\n",
       "        text-align: right;\n",
       "    }\n",
       "</style>\n",
       "<table border=\"1\" class=\"dataframe\">\n",
       "  <thead>\n",
       "    <tr style=\"text-align: right;\">\n",
       "      <th></th>\n",
       "      <th>feed_key</th>\n",
       "      <th>geometry</th>\n",
       "    </tr>\n",
       "  </thead>\n",
       "  <tbody>\n",
       "    <tr>\n",
       "      <th>0</th>\n",
       "      <td>64215dc34169ab4c497ed15bf6553d80</td>\n",
       "      <td>POINT (171533.851 -447976.490)</td>\n",
       "    </tr>\n",
       "    <tr>\n",
       "      <th>1</th>\n",
       "      <td>64215dc34169ab4c497ed15bf6553d80</td>\n",
       "      <td>POINT (169608.757 -447897.264)</td>\n",
       "    </tr>\n",
       "    <tr>\n",
       "      <th>2</th>\n",
       "      <td>64215dc34169ab4c497ed15bf6553d80</td>\n",
       "      <td>POINT (170814.919 -449032.144)</td>\n",
       "    </tr>\n",
       "    <tr>\n",
       "      <th>3</th>\n",
       "      <td>64215dc34169ab4c497ed15bf6553d80</td>\n",
       "      <td>POINT (170981.297 -448016.802)</td>\n",
       "    </tr>\n",
       "    <tr>\n",
       "      <th>4</th>\n",
       "      <td>64215dc34169ab4c497ed15bf6553d80</td>\n",
       "      <td>POINT (171732.332 -447807.412)</td>\n",
       "    </tr>\n",
       "    <tr>\n",
       "      <th>...</th>\n",
       "      <td>...</td>\n",
       "      <td>...</td>\n",
       "    </tr>\n",
       "    <tr>\n",
       "      <th>91248</th>\n",
       "      <td>1b77e51fbf7d2e4a375322d7e7a80ff4</td>\n",
       "      <td>POINT (5503.746 -50450.272)</td>\n",
       "    </tr>\n",
       "    <tr>\n",
       "      <th>91249</th>\n",
       "      <td>1b77e51fbf7d2e4a375322d7e7a80ff4</td>\n",
       "      <td>POINT (36192.061 -29535.943)</td>\n",
       "    </tr>\n",
       "    <tr>\n",
       "      <th>91250</th>\n",
       "      <td>1b77e51fbf7d2e4a375322d7e7a80ff4</td>\n",
       "      <td>POINT (37612.611 -30884.127)</td>\n",
       "    </tr>\n",
       "    <tr>\n",
       "      <th>91251</th>\n",
       "      <td>1b77e51fbf7d2e4a375322d7e7a80ff4</td>\n",
       "      <td>POINT (7043.235 -52512.127)</td>\n",
       "    </tr>\n",
       "    <tr>\n",
       "      <th>91252</th>\n",
       "      <td>1b77e51fbf7d2e4a375322d7e7a80ff4</td>\n",
       "      <td>POINT (35423.554 -30202.468)</td>\n",
       "    </tr>\n",
       "  </tbody>\n",
       "</table>\n",
       "<p>91253 rows × 2 columns</p>\n",
       "</div>"
      ],
      "text/plain": [
       "                               feed_key                        geometry\n",
       "0      64215dc34169ab4c497ed15bf6553d80  POINT (171533.851 -447976.490)\n",
       "1      64215dc34169ab4c497ed15bf6553d80  POINT (169608.757 -447897.264)\n",
       "2      64215dc34169ab4c497ed15bf6553d80  POINT (170814.919 -449032.144)\n",
       "3      64215dc34169ab4c497ed15bf6553d80  POINT (170981.297 -448016.802)\n",
       "4      64215dc34169ab4c497ed15bf6553d80  POINT (171732.332 -447807.412)\n",
       "...                                 ...                             ...\n",
       "91248  1b77e51fbf7d2e4a375322d7e7a80ff4     POINT (5503.746 -50450.272)\n",
       "91249  1b77e51fbf7d2e4a375322d7e7a80ff4    POINT (36192.061 -29535.943)\n",
       "91250  1b77e51fbf7d2e4a375322d7e7a80ff4    POINT (37612.611 -30884.127)\n",
       "91251  1b77e51fbf7d2e4a375322d7e7a80ff4     POINT (7043.235 -52512.127)\n",
       "91252  1b77e51fbf7d2e4a375322d7e7a80ff4    POINT (35423.554 -30202.468)\n",
       "\n",
       "[91253 rows x 2 columns]"
      ]
     },
     "execution_count": 10,
     "metadata": {},
     "output_type": "execute_result"
    }
   ],
   "source": [
    "stops"
   ]
  },
  {
   "cell_type": "code",
   "execution_count": 11,
   "id": "d70ae1c3-7742-4aa4-a835-e4f216dfbb05",
   "metadata": {},
   "outputs": [],
   "source": [
    "tracts_with_stops = gdf.sjoin(stops, predicate='contains', how='inner') >> distinct(_.tract, _.geometry)"
   ]
  },
  {
   "cell_type": "code",
   "execution_count": 12,
   "id": "b6d2d375-03c1-4659-9e95-1a0d1af38268",
   "metadata": {},
   "outputs": [
    {
     "data": {
      "text/html": [
       "<div>\n",
       "<style scoped>\n",
       "    .dataframe tbody tr th:only-of-type {\n",
       "        vertical-align: middle;\n",
       "    }\n",
       "\n",
       "    .dataframe tbody tr th {\n",
       "        vertical-align: top;\n",
       "    }\n",
       "\n",
       "    .dataframe thead th {\n",
       "        text-align: right;\n",
       "    }\n",
       "</style>\n",
       "<table border=\"1\" class=\"dataframe\">\n",
       "  <thead>\n",
       "    <tr style=\"text-align: right;\">\n",
       "      <th></th>\n",
       "      <th>tract</th>\n",
       "      <th>geometry</th>\n",
       "    </tr>\n",
       "  </thead>\n",
       "  <tbody>\n",
       "    <tr>\n",
       "      <th>0</th>\n",
       "      <td>06001400100</td>\n",
       "      <td>POLYGON ((-197090.096 -12468.283, -196909.112 ...</td>\n",
       "    </tr>\n",
       "    <tr>\n",
       "      <th>1</th>\n",
       "      <td>06001400200</td>\n",
       "      <td>POLYGON ((-196982.196 -15963.566, -196992.931 ...</td>\n",
       "    </tr>\n",
       "    <tr>\n",
       "      <th>2</th>\n",
       "      <td>06001400300</td>\n",
       "      <td>POLYGON ((-197350.929 -16712.642, -197950.200 ...</td>\n",
       "    </tr>\n",
       "    <tr>\n",
       "      <th>3</th>\n",
       "      <td>06001400400</td>\n",
       "      <td>POLYGON ((-197953.290 -16012.154, -197963.187 ...</td>\n",
       "    </tr>\n",
       "    <tr>\n",
       "      <th>4</th>\n",
       "      <td>06001400500</td>\n",
       "      <td>POLYGON ((-198589.270 -15822.210, -198703.192 ...</td>\n",
       "    </tr>\n",
       "    <tr>\n",
       "      <th>...</th>\n",
       "      <td>...</td>\n",
       "      <td>...</td>\n",
       "    </tr>\n",
       "    <tr>\n",
       "      <th>7307</th>\n",
       "      <td>06115040600</td>\n",
       "      <td>POLYGON ((-133522.372 121406.284, -132495.858 ...</td>\n",
       "    </tr>\n",
       "    <tr>\n",
       "      <th>7308</th>\n",
       "      <td>06115040700</td>\n",
       "      <td>POLYGON ((-131731.468 119041.352, -130701.910 ...</td>\n",
       "    </tr>\n",
       "    <tr>\n",
       "      <th>7309</th>\n",
       "      <td>06115040800</td>\n",
       "      <td>POLYGON ((-118271.694 119288.740, -117977.343 ...</td>\n",
       "    </tr>\n",
       "    <tr>\n",
       "      <th>7310</th>\n",
       "      <td>06115041000</td>\n",
       "      <td>POLYGON ((-118015.890 150723.763, -118020.386 ...</td>\n",
       "    </tr>\n",
       "    <tr>\n",
       "      <th>7311</th>\n",
       "      <td>06115041100</td>\n",
       "      <td>POLYGON ((-87348.800 176015.430, -87962.302 17...</td>\n",
       "    </tr>\n",
       "  </tbody>\n",
       "</table>\n",
       "<p>7312 rows × 2 columns</p>\n",
       "</div>"
      ],
      "text/plain": [
       "            tract                                           geometry\n",
       "0     06001400100  POLYGON ((-197090.096 -12468.283, -196909.112 ...\n",
       "1     06001400200  POLYGON ((-196982.196 -15963.566, -196992.931 ...\n",
       "2     06001400300  POLYGON ((-197350.929 -16712.642, -197950.200 ...\n",
       "3     06001400400  POLYGON ((-197953.290 -16012.154, -197963.187 ...\n",
       "4     06001400500  POLYGON ((-198589.270 -15822.210, -198703.192 ...\n",
       "...           ...                                                ...\n",
       "7307  06115040600  POLYGON ((-133522.372 121406.284, -132495.858 ...\n",
       "7308  06115040700  POLYGON ((-131731.468 119041.352, -130701.910 ...\n",
       "7309  06115040800  POLYGON ((-118271.694 119288.740, -117977.343 ...\n",
       "7310  06115041000  POLYGON ((-118015.890 150723.763, -118020.386 ...\n",
       "7311  06115041100  POLYGON ((-87348.800 176015.430, -87962.302 17...\n",
       "\n",
       "[7312 rows x 2 columns]"
      ]
     },
     "execution_count": 12,
     "metadata": {},
     "output_type": "execute_result"
    }
   ],
   "source": [
    "tracts_with_stops"
   ]
  },
  {
   "cell_type": "code",
   "execution_count": 13,
   "id": "88ce1f77-4690-4be6-8568-37f05ae06b81",
   "metadata": {},
   "outputs": [],
   "source": [
    "shapes = helpers.import_scheduled_shapes(analysis_date)"
   ]
  },
  {
   "cell_type": "code",
   "execution_count": 14,
   "id": "6726ec66-f9fa-4a7c-b7c0-0bda39b9ed98",
   "metadata": {},
   "outputs": [],
   "source": [
    "# shapes.explore()"
   ]
  },
  {
   "cell_type": "code",
   "execution_count": 15,
   "id": "67c37ca2-5fc2-4476-8c39-a1b4bbf49b86",
   "metadata": {},
   "outputs": [],
   "source": [
    "BORDER_BUFFER_METERS = 35"
   ]
  },
  {
   "cell_type": "code",
   "execution_count": 16,
   "id": "f7cff142-78f2-434c-b1a9-351902a8f145",
   "metadata": {},
   "outputs": [
    {
     "data": {
      "text/plain": [
       "<Projected CRS: EPSG:3310>\n",
       "Name: NAD83 / California Albers\n",
       "Axis Info [cartesian]:\n",
       "- X[east]: Easting (metre)\n",
       "- Y[north]: Northing (metre)\n",
       "Area of Use:\n",
       "- name: United States (USA) - California.\n",
       "- bounds: (-124.45, 32.53, -114.12, 42.01)\n",
       "Coordinate Operation:\n",
       "- name: California Albers\n",
       "- method: Albers Equal Area\n",
       "Datum: North American Datum 1983\n",
       "- Ellipsoid: GRS 1980\n",
       "- Prime Meridian: Greenwich"
      ]
     },
     "execution_count": 16,
     "metadata": {},
     "output_type": "execute_result"
    }
   ],
   "source": [
    "tracts_with_stops.crs"
   ]
  },
  {
   "cell_type": "code",
   "execution_count": 17,
   "id": "ee1c0404-b09f-4bb5-a6a4-84c2acf7c571",
   "metadata": {},
   "outputs": [],
   "source": [
    "tracts_with_stops.geometry = tracts_with_stops.buffer(BORDER_BUFFER_METERS)"
   ]
  },
  {
   "cell_type": "code",
   "execution_count": 18,
   "id": "28b5a7f8-35bb-467d-a7c6-8874e1dfd71b",
   "metadata": {},
   "outputs": [],
   "source": [
    "borders = gpd.overlay(tracts_with_stops, tracts_with_stops)"
   ]
  },
  {
   "cell_type": "code",
   "execution_count": 19,
   "id": "e5137a73-faf9-4460-812f-c1f655792622",
   "metadata": {},
   "outputs": [
    {
     "data": {
      "text/html": [
       "<div>\n",
       "<style scoped>\n",
       "    .dataframe tbody tr th:only-of-type {\n",
       "        vertical-align: middle;\n",
       "    }\n",
       "\n",
       "    .dataframe tbody tr th {\n",
       "        vertical-align: top;\n",
       "    }\n",
       "\n",
       "    .dataframe thead th {\n",
       "        text-align: right;\n",
       "    }\n",
       "</style>\n",
       "<table border=\"1\" class=\"dataframe\">\n",
       "  <thead>\n",
       "    <tr style=\"text-align: right;\">\n",
       "      <th></th>\n",
       "      <th>tract_1</th>\n",
       "      <th>tract_2</th>\n",
       "      <th>geometry</th>\n",
       "    </tr>\n",
       "  </thead>\n",
       "  <tbody>\n",
       "    <tr>\n",
       "      <th>0</th>\n",
       "      <td>06001400100</td>\n",
       "      <td>06001400100</td>\n",
       "      <td>POLYGON ((-196905.522 -12574.759, -196739.444 ...</td>\n",
       "    </tr>\n",
       "    <tr>\n",
       "      <th>1</th>\n",
       "      <td>06001404300</td>\n",
       "      <td>06001400100</td>\n",
       "      <td>POLYGON ((-196294.855 -15866.615, -196291.388 ...</td>\n",
       "    </tr>\n",
       "    <tr>\n",
       "      <th>2</th>\n",
       "      <td>06001404400</td>\n",
       "      <td>06001400100</td>\n",
       "      <td>POLYGON ((-196332.808 -15913.026, -196332.893 ...</td>\n",
       "    </tr>\n",
       "    <tr>\n",
       "      <th>3</th>\n",
       "      <td>06001421600</td>\n",
       "      <td>06001400100</td>\n",
       "      <td>POLYGON ((-197285.488 -12214.433, -197283.307 ...</td>\n",
       "    </tr>\n",
       "    <tr>\n",
       "      <th>4</th>\n",
       "      <td>06001422600</td>\n",
       "      <td>06001400100</td>\n",
       "      <td>POLYGON ((-197290.037 -12678.788, -197286.751 ...</td>\n",
       "    </tr>\n",
       "    <tr>\n",
       "      <th>...</th>\n",
       "      <td>...</td>\n",
       "      <td>...</td>\n",
       "      <td>...</td>\n",
       "    </tr>\n",
       "    <tr>\n",
       "      <th>51545</th>\n",
       "      <td>06115040600</td>\n",
       "      <td>06115040500</td>\n",
       "      <td>POLYGON ((-133552.050 121424.837, -133550.135 ...</td>\n",
       "    </tr>\n",
       "    <tr>\n",
       "      <th>51546</th>\n",
       "      <td>06115040400</td>\n",
       "      <td>06115040600</td>\n",
       "      <td>POLYGON ((-134894.878 119761.050, -134916.206 ...</td>\n",
       "    </tr>\n",
       "    <tr>\n",
       "      <th>51547</th>\n",
       "      <td>06115040500</td>\n",
       "      <td>06115040600</td>\n",
       "      <td>POLYGON ((-133341.392 121076.862, -133335.431 ...</td>\n",
       "    </tr>\n",
       "    <tr>\n",
       "      <th>51548</th>\n",
       "      <td>06115040600</td>\n",
       "      <td>06115040600</td>\n",
       "      <td>POLYGON ((-133552.050 121424.837, -133550.135 ...</td>\n",
       "    </tr>\n",
       "    <tr>\n",
       "      <th>51549</th>\n",
       "      <td>06115040700</td>\n",
       "      <td>06115040600</td>\n",
       "      <td>POLYGON ((-131748.906 119071.698, -131745.859 ...</td>\n",
       "    </tr>\n",
       "  </tbody>\n",
       "</table>\n",
       "<p>51550 rows × 3 columns</p>\n",
       "</div>"
      ],
      "text/plain": [
       "           tract_1      tract_2  \\\n",
       "0      06001400100  06001400100   \n",
       "1      06001404300  06001400100   \n",
       "2      06001404400  06001400100   \n",
       "3      06001421600  06001400100   \n",
       "4      06001422600  06001400100   \n",
       "...            ...          ...   \n",
       "51545  06115040600  06115040500   \n",
       "51546  06115040400  06115040600   \n",
       "51547  06115040500  06115040600   \n",
       "51548  06115040600  06115040600   \n",
       "51549  06115040700  06115040600   \n",
       "\n",
       "                                                geometry  \n",
       "0      POLYGON ((-196905.522 -12574.759, -196739.444 ...  \n",
       "1      POLYGON ((-196294.855 -15866.615, -196291.388 ...  \n",
       "2      POLYGON ((-196332.808 -15913.026, -196332.893 ...  \n",
       "3      POLYGON ((-197285.488 -12214.433, -197283.307 ...  \n",
       "4      POLYGON ((-197290.037 -12678.788, -197286.751 ...  \n",
       "...                                                  ...  \n",
       "51545  POLYGON ((-133552.050 121424.837, -133550.135 ...  \n",
       "51546  POLYGON ((-134894.878 119761.050, -134916.206 ...  \n",
       "51547  POLYGON ((-133341.392 121076.862, -133335.431 ...  \n",
       "51548  POLYGON ((-133552.050 121424.837, -133550.135 ...  \n",
       "51549  POLYGON ((-131748.906 119071.698, -131745.859 ...  \n",
       "\n",
       "[51550 rows x 3 columns]"
      ]
     },
     "execution_count": 19,
     "metadata": {},
     "output_type": "execute_result"
    }
   ],
   "source": [
    "borders"
   ]
  },
  {
   "cell_type": "code",
   "execution_count": 20,
   "id": "c60f91fe-c146-466b-ae8d-cd860e3c7173",
   "metadata": {},
   "outputs": [],
   "source": [
    "def intersection_hash(row):\n",
    "    '''\n",
    "    Get unique hash of intersection zones.\n",
    "    No need to keep both t1 x t2 and t2 x t1\n",
    "    '''\n",
    "    t1 = int(row.tract_1[2:]) #  drop state code\n",
    "    t2 = int(row.tract_2[2:])\n",
    "    row_tracts = [t1, t2]\n",
    "    row_tracts.sort() #  modifies inplace\n",
    "    return hash(tuple(row_tracts))"
   ]
  },
  {
   "cell_type": "code",
   "execution_count": 21,
   "id": "e0566ab3-ffda-4caf-89a8-c2f40b93c337",
   "metadata": {},
   "outputs": [],
   "source": [
    "borders = borders[borders['tract_1'] != borders['tract_2']]"
   ]
  },
  {
   "cell_type": "code",
   "execution_count": 22,
   "id": "1e466530-09b9-45fb-833b-33d274fd97df",
   "metadata": {},
   "outputs": [
    {
     "name": "stderr",
     "output_type": "stream",
     "text": [
      "/opt/conda/lib/python3.9/site-packages/geopandas/geodataframe.py:1543: SettingWithCopyWarning: \n",
      "A value is trying to be set on a copy of a slice from a DataFrame.\n",
      "Try using .loc[row_indexer,col_indexer] = value instead\n",
      "\n",
      "See the caveats in the documentation: https://pandas.pydata.org/pandas-docs/stable/user_guide/indexing.html#returning-a-view-versus-a-copy\n",
      "  super().__setitem__(key, value)\n"
     ]
    }
   ],
   "source": [
    "borders['intersection_hash'] = borders.apply(intersection_hash, axis=1)"
   ]
  },
  {
   "cell_type": "code",
   "execution_count": 23,
   "id": "31eb103f-f881-4e40-95d3-0305d2c282b9",
   "metadata": {},
   "outputs": [],
   "source": [
    "borders = borders >> distinct(_.intersection_hash, _keep_all=True)"
   ]
  },
  {
   "cell_type": "code",
   "execution_count": 24,
   "id": "0532898f-5d0f-4a1d-9d21-6af1200d6b81",
   "metadata": {},
   "outputs": [
    {
     "data": {
      "text/html": [
       "<div>\n",
       "<style scoped>\n",
       "    .dataframe tbody tr th:only-of-type {\n",
       "        vertical-align: middle;\n",
       "    }\n",
       "\n",
       "    .dataframe tbody tr th {\n",
       "        vertical-align: top;\n",
       "    }\n",
       "\n",
       "    .dataframe thead th {\n",
       "        text-align: right;\n",
       "    }\n",
       "</style>\n",
       "<table border=\"1\" class=\"dataframe\">\n",
       "  <thead>\n",
       "    <tr style=\"text-align: right;\">\n",
       "      <th></th>\n",
       "      <th>tract_1</th>\n",
       "      <th>tract_2</th>\n",
       "      <th>geometry</th>\n",
       "      <th>intersection_hash</th>\n",
       "    </tr>\n",
       "  </thead>\n",
       "  <tbody>\n",
       "    <tr>\n",
       "      <th>0</th>\n",
       "      <td>06001404300</td>\n",
       "      <td>06001400100</td>\n",
       "      <td>POLYGON ((-196294.855 -15866.615, -196291.388 ...</td>\n",
       "      <td>810165257910103043</td>\n",
       "    </tr>\n",
       "    <tr>\n",
       "      <th>1</th>\n",
       "      <td>06001404400</td>\n",
       "      <td>06001400100</td>\n",
       "      <td>POLYGON ((-196332.808 -15913.026, -196332.893 ...</td>\n",
       "      <td>-6603333591490277215</td>\n",
       "    </tr>\n",
       "    <tr>\n",
       "      <th>2</th>\n",
       "      <td>06001421600</td>\n",
       "      <td>06001400100</td>\n",
       "      <td>POLYGON ((-197285.488 -12214.433, -197283.307 ...</td>\n",
       "      <td>3286629633234426559</td>\n",
       "    </tr>\n",
       "    <tr>\n",
       "      <th>3</th>\n",
       "      <td>06001422600</td>\n",
       "      <td>06001400100</td>\n",
       "      <td>POLYGON ((-197290.037 -12678.788, -197286.751 ...</td>\n",
       "      <td>2982289320613360605</td>\n",
       "    </tr>\n",
       "    <tr>\n",
       "      <th>4</th>\n",
       "      <td>06001422700</td>\n",
       "      <td>06001400100</td>\n",
       "      <td>POLYGON ((-197215.664 -13930.646, -197212.889 ...</td>\n",
       "      <td>-4431209528787019653</td>\n",
       "    </tr>\n",
       "    <tr>\n",
       "      <th>...</th>\n",
       "      <td>...</td>\n",
       "      <td>...</td>\n",
       "      <td>...</td>\n",
       "      <td>...</td>\n",
       "    </tr>\n",
       "    <tr>\n",
       "      <th>22114</th>\n",
       "      <td>06115040303</td>\n",
       "      <td>06115040302</td>\n",
       "      <td>POLYGON ((-134551.498 122994.216, -134555.044 ...</td>\n",
       "      <td>390392221421106355</td>\n",
       "    </tr>\n",
       "    <tr>\n",
       "      <th>22115</th>\n",
       "      <td>06115040500</td>\n",
       "      <td>06115040302</td>\n",
       "      <td>POLYGON ((-135094.847 123008.145, -135096.165 ...</td>\n",
       "      <td>-4112068886901403029</td>\n",
       "    </tr>\n",
       "    <tr>\n",
       "      <th>22116</th>\n",
       "      <td>06115040303</td>\n",
       "      <td>06115040301</td>\n",
       "      <td>POLYGON ((-134384.030 124648.695, -134381.528 ...</td>\n",
       "      <td>8986987643166269919</td>\n",
       "    </tr>\n",
       "    <tr>\n",
       "      <th>22117</th>\n",
       "      <td>06115040500</td>\n",
       "      <td>06115040303</td>\n",
       "      <td>POLYGON ((-134552.206 123064.212, -134548.648 ...</td>\n",
       "      <td>-2150769350657280594</td>\n",
       "    </tr>\n",
       "    <tr>\n",
       "      <th>22118</th>\n",
       "      <td>06115040600</td>\n",
       "      <td>06115040500</td>\n",
       "      <td>POLYGON ((-133552.050 121424.837, -133550.135 ...</td>\n",
       "      <td>7241557334161816457</td>\n",
       "    </tr>\n",
       "  </tbody>\n",
       "</table>\n",
       "<p>22119 rows × 4 columns</p>\n",
       "</div>"
      ],
      "text/plain": [
       "           tract_1      tract_2  \\\n",
       "0      06001404300  06001400100   \n",
       "1      06001404400  06001400100   \n",
       "2      06001421600  06001400100   \n",
       "3      06001422600  06001400100   \n",
       "4      06001422700  06001400100   \n",
       "...            ...          ...   \n",
       "22114  06115040303  06115040302   \n",
       "22115  06115040500  06115040302   \n",
       "22116  06115040303  06115040301   \n",
       "22117  06115040500  06115040303   \n",
       "22118  06115040600  06115040500   \n",
       "\n",
       "                                                geometry    intersection_hash  \n",
       "0      POLYGON ((-196294.855 -15866.615, -196291.388 ...   810165257910103043  \n",
       "1      POLYGON ((-196332.808 -15913.026, -196332.893 ... -6603333591490277215  \n",
       "2      POLYGON ((-197285.488 -12214.433, -197283.307 ...  3286629633234426559  \n",
       "3      POLYGON ((-197290.037 -12678.788, -197286.751 ...  2982289320613360605  \n",
       "4      POLYGON ((-197215.664 -13930.646, -197212.889 ... -4431209528787019653  \n",
       "...                                                  ...                  ...  \n",
       "22114  POLYGON ((-134551.498 122994.216, -134555.044 ...   390392221421106355  \n",
       "22115  POLYGON ((-135094.847 123008.145, -135096.165 ... -4112068886901403029  \n",
       "22116  POLYGON ((-134384.030 124648.695, -134381.528 ...  8986987643166269919  \n",
       "22117  POLYGON ((-134552.206 123064.212, -134548.648 ... -2150769350657280594  \n",
       "22118  POLYGON ((-133552.050 121424.837, -133550.135 ...  7241557334161816457  \n",
       "\n",
       "[22119 rows x 4 columns]"
      ]
     },
     "execution_count": 24,
     "metadata": {},
     "output_type": "execute_result"
    }
   ],
   "source": [
    "borders"
   ]
  },
  {
   "cell_type": "code",
   "execution_count": 26,
   "id": "d69c5888-d02c-4ecf-aeb4-3cd26a2b202e",
   "metadata": {},
   "outputs": [],
   "source": [
    "test = borders.head(1000)"
   ]
  },
  {
   "cell_type": "code",
   "execution_count": 32,
   "id": "a2f4b269-7b1a-44e2-a398-38fa9e242f66",
   "metadata": {},
   "outputs": [],
   "source": [
    "gdf = shapes.clip(test) #  TODO try sjoin instead -- ideally distances contained in one border zone"
   ]
  },
  {
   "cell_type": "code",
   "execution_count": 45,
   "id": "480851dd-b559-491b-9d4a-3ed45d850890",
   "metadata": {},
   "outputs": [],
   "source": [
    "test2 = gdf.head(1000)"
   ]
  },
  {
   "cell_type": "code",
   "execution_count": 46,
   "id": "900c3234-4416-4f2d-9e5a-0406819aa0f5",
   "metadata": {},
   "outputs": [
    {
     "name": "stderr",
     "output_type": "stream",
     "text": [
      "/tmp/ipykernel_772/1184168388.py:1: FutureWarning: Currently, index_parts defaults to True, but in the future, it will default to False to be consistent with Pandas. Use `index_parts=True` to keep the current behavior and True/False to silence the warning.\n",
      "  test2 = test2.explode()\n"
     ]
    }
   ],
   "source": [
    "test2 = test2.explode() #  split multilines before dropping short (crossing) segments"
   ]
  },
  {
   "cell_type": "code",
   "execution_count": 47,
   "id": "23b71d3e-85c7-481f-9feb-5f8ae5205cb0",
   "metadata": {},
   "outputs": [],
   "source": [
    "test2 = test2[test2.geometry.length > BORDER_BUFFER_METERS*4]"
   ]
  },
  {
   "cell_type": "code",
   "execution_count": 48,
   "id": "e9a80089-712f-4008-bc8c-cf8af3cba900",
   "metadata": {},
   "outputs": [
    {
     "data": {
      "text/plain": [
       "2308  2      218.344030\n",
       "      3      226.079079\n",
       "      7      240.542505\n",
       "      8      551.939352\n",
       "      9      863.079098\n",
       "               ...     \n",
       "3337  17    3986.861901\n",
       "1267  0     3855.208710\n",
       "1443  0     3855.208710\n",
       "60    0     3679.687586\n",
       "684   0     3679.687586\n",
       "Length: 2174, dtype: float64"
      ]
     },
     "execution_count": 48,
     "metadata": {},
     "output_type": "execute_result"
    }
   ],
   "source": [
    "test2.geometry.length"
   ]
  },
  {
   "cell_type": "code",
   "execution_count": 53,
   "id": "927f17f8-4d7a-462a-bde2-3ae4c28a4255",
   "metadata": {},
   "outputs": [],
   "source": [
    "m = test.explore(tiles='CartoDB Positron')"
   ]
  },
  {
   "cell_type": "code",
   "execution_count": 55,
   "id": "41473c82-a751-4c1a-ba4b-058e8afc9bda",
   "metadata": {},
   "outputs": [],
   "source": [
    "# test2.explore(color='orange', m=m, tiles='CartoDB Positron')"
   ]
  }
 ],
 "metadata": {
  "kernelspec": {
   "display_name": "Python 3 (ipykernel)",
   "language": "python",
   "name": "python3"
  },
  "language_info": {
   "codemirror_mode": {
    "name": "ipython",
    "version": 3
   },
   "file_extension": ".py",
   "mimetype": "text/x-python",
   "name": "python",
   "nbconvert_exporter": "python",
   "pygments_lexer": "ipython3",
   "version": "3.9.13"
  },
  "widgets": {
   "application/vnd.jupyter.widget-state+json": {
    "state": {},
    "version_major": 2,
    "version_minor": 0
   }
  }
 },
 "nbformat": 4,
 "nbformat_minor": 5
}
