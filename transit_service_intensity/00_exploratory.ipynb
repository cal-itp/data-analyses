{
 "cells": [
  {
   "cell_type": "code",
   "execution_count": null,
   "id": "9e645c63-24e5-466f-8f20-279614c1d767",
   "metadata": {},
   "outputs": [],
   "source": [
    "import sys"
   ]
  },
  {
   "cell_type": "code",
   "execution_count": null,
   "id": "4f3eb58f-9663-4867-a5c2-2ed658cd4c0d",
   "metadata": {},
   "outputs": [],
   "source": [
    "import intake\n",
    "import pandas as pd\n",
    "import geopandas as gpd\n",
    "from calitp_data_analysis import geography_utils\n",
    "from siuba import *\n",
    "import shapely"
   ]
  },
  {
   "cell_type": "code",
   "execution_count": null,
   "id": "dbc34a06-4993-426d-8e6e-99b9cd447222",
   "metadata": {},
   "outputs": [],
   "source": [
    "from shared_utils import catalog_utils, rt_dates\n",
    "GTFS_DATA_DICT = catalog_utils.get_catalog(\"gtfs_analytics_data\")"
   ]
  },
  {
   "cell_type": "code",
   "execution_count": null,
   "id": "815cb9ed-e7dd-4a8f-9830-917101668c45",
   "metadata": {},
   "outputs": [],
   "source": [
    "from segment_speed_utils import helpers"
   ]
  },
  {
   "cell_type": "markdown",
   "id": "afe82e80-7c93-43ed-a32a-5c3daed646eb",
   "metadata": {},
   "source": [
    "# Exploratory Analysis\n",
    "\n",
    "Start working on how to identify and count \"border zones\" where transit runs along Census Tract boundaries and VRH/VRM should be split accordingly (avoiding double-counting or arbitrary allocation to only one border tract)"
   ]
  },
  {
   "cell_type": "code",
   "execution_count": null,
   "id": "0472c5ab-e469-4f36-821b-43920b9570a6",
   "metadata": {},
   "outputs": [],
   "source": [
    "catalog = intake.open_catalog(\"*.yml\")"
   ]
  },
  {
   "cell_type": "code",
   "execution_count": null,
   "id": "f3bf5417-8e12-464e-a0c0-3f4495dfaedc",
   "metadata": {},
   "outputs": [],
   "source": [
    "analysis_date = rt_dates.DATES['feb2025']"
   ]
  },
  {
   "cell_type": "code",
   "execution_count": null,
   "id": "0d6185dd-7140-4eb0-abb7-90d36522e647",
   "metadata": {},
   "outputs": [],
   "source": [
    "def read_census_tracts(\n",
    "    crs: str = geography_utils.CA_NAD83Albers_m\n",
    ") -> gpd.GeoDataFrame:\n",
    "    census_tracts = (\n",
    "        catalog.calenviroscreen_lehd_by_tract.read()\n",
    "        .to_crs(crs)\n",
    "        [[\"Tract\", \"pop_sq_mi\", \"geometry\"]]\n",
    "    ).rename(columns={'Tract':'tract'})\n",
    "    return census_tracts"
   ]
  },
  {
   "cell_type": "code",
   "execution_count": null,
   "id": "822430c6-9c7b-48e6-a3a8-3d0d682ba40b",
   "metadata": {},
   "outputs": [],
   "source": [
    "tracts = read_census_tracts()"
   ]
  },
  {
   "cell_type": "code",
   "execution_count": null,
   "id": "4433149f-e1f8-4af4-946b-4da55d29e4a7",
   "metadata": {},
   "outputs": [],
   "source": [
    "stops = helpers.import_scheduled_stops(analysis_date, columns=['feed_key', 'stop_id', 'geometry'])"
   ]
  },
  {
   "cell_type": "code",
   "execution_count": null,
   "id": "5f95bbef-f48f-4fa8-bab3-1c43f770455b",
   "metadata": {},
   "outputs": [],
   "source": [
    "stops"
   ]
  },
  {
   "cell_type": "code",
   "execution_count": null,
   "id": "d70ae1c3-7742-4aa4-a835-e4f216dfbb05",
   "metadata": {},
   "outputs": [],
   "source": [
    "tracts_with_stops = tracts.sjoin(stops, predicate='contains', how='inner') >> distinct(_.tract, _.geometry)"
   ]
  },
  {
   "cell_type": "code",
   "execution_count": null,
   "id": "b6d2d375-03c1-4659-9e95-1a0d1af38268",
   "metadata": {},
   "outputs": [],
   "source": [
    "tracts_with_stops"
   ]
  },
  {
   "cell_type": "code",
   "execution_count": null,
   "id": "88ce1f77-4690-4be6-8568-37f05ae06b81",
   "metadata": {},
   "outputs": [],
   "source": [
    "shapes = helpers.import_scheduled_shapes(analysis_date)"
   ]
  },
  {
   "cell_type": "code",
   "execution_count": null,
   "id": "6726ec66-f9fa-4a7c-b7c0-0bda39b9ed98",
   "metadata": {},
   "outputs": [],
   "source": [
    "# shapes.explore()"
   ]
  },
  {
   "cell_type": "code",
   "execution_count": null,
   "id": "67c37ca2-5fc2-4476-8c39-a1b4bbf49b86",
   "metadata": {},
   "outputs": [],
   "source": [
    "BORDER_BUFFER_METERS = 35"
   ]
  },
  {
   "cell_type": "code",
   "execution_count": null,
   "id": "f7cff142-78f2-434c-b1a9-351902a8f145",
   "metadata": {},
   "outputs": [],
   "source": [
    "tracts_with_stops.crs"
   ]
  },
  {
   "cell_type": "code",
   "execution_count": null,
   "id": "ee1c0404-b09f-4bb5-a6a4-84c2acf7c571",
   "metadata": {},
   "outputs": [],
   "source": [
    "tracts_with_stops.geometry = tracts_with_stops.buffer(BORDER_BUFFER_METERS)"
   ]
  },
  {
   "cell_type": "code",
   "execution_count": null,
   "id": "28b5a7f8-35bb-467d-a7c6-8874e1dfd71b",
   "metadata": {},
   "outputs": [],
   "source": [
    "borders = gpd.overlay(tracts_with_stops, tracts_with_stops)"
   ]
  },
  {
   "cell_type": "code",
   "execution_count": null,
   "id": "e5137a73-faf9-4460-812f-c1f655792622",
   "metadata": {},
   "outputs": [],
   "source": [
    "borders"
   ]
  },
  {
   "cell_type": "code",
   "execution_count": null,
   "id": "c60f91fe-c146-466b-ae8d-cd860e3c7173",
   "metadata": {},
   "outputs": [],
   "source": [
    "def intersection_hash(row):\n",
    "    '''\n",
    "    Get unique hash of intersection zones.\n",
    "    No need to keep both t1 x t2 and t2 x t1\n",
    "    '''\n",
    "    t1 = int(row.tract_1[2:]) #  drop state code\n",
    "    t2 = int(row.tract_2[2:])\n",
    "    row_tracts = [t1, t2]\n",
    "    row_tracts.sort() #  modifies inplace\n",
    "    return hash(tuple(row_tracts))"
   ]
  },
  {
   "cell_type": "code",
   "execution_count": null,
   "id": "e0566ab3-ffda-4caf-89a8-c2f40b93c337",
   "metadata": {},
   "outputs": [],
   "source": [
    "borders = borders[borders['tract_1'] != borders['tract_2']]"
   ]
  },
  {
   "cell_type": "code",
   "execution_count": null,
   "id": "1e466530-09b9-45fb-833b-33d274fd97df",
   "metadata": {},
   "outputs": [],
   "source": [
    "borders['intersection_hash'] = borders.apply(intersection_hash, axis=1)"
   ]
  },
  {
   "cell_type": "code",
   "execution_count": null,
   "id": "31eb103f-f881-4e40-95d3-0305d2c282b9",
   "metadata": {},
   "outputs": [],
   "source": [
    "borders = borders >> distinct(_.intersection_hash, _keep_all=True)"
   ]
  },
  {
   "cell_type": "code",
   "execution_count": null,
   "id": "d69c5888-d02c-4ecf-aeb4-3cd26a2b202e",
   "metadata": {},
   "outputs": [],
   "source": [
    "test = borders.head(4000)\n",
    "# test = borders"
   ]
  },
  {
   "cell_type": "code",
   "execution_count": null,
   "id": "a2f4b269-7b1a-44e2-a398-38fa9e242f66",
   "metadata": {},
   "outputs": [],
   "source": [
    "gdf = shapes.clip(test) #  TODO try sjoin instead -- ideally distances contained in one border zone"
   ]
  },
  {
   "cell_type": "code",
   "execution_count": null,
   "id": "480851dd-b559-491b-9d4a-3ed45d850890",
   "metadata": {},
   "outputs": [],
   "source": [
    "# test2 = gdf.head(2000)\n",
    "test2 = gdf"
   ]
  },
  {
   "cell_type": "code",
   "execution_count": null,
   "id": "900c3234-4416-4f2d-9e5a-0406819aa0f5",
   "metadata": {},
   "outputs": [],
   "source": [
    "test2 = test2.explode() #  split multilines before dropping short (crossing) segments"
   ]
  },
  {
   "cell_type": "code",
   "execution_count": null,
   "id": "23b71d3e-85c7-481f-9feb-5f8ae5205cb0",
   "metadata": {},
   "outputs": [],
   "source": [
    "test2 = test2[test2.geometry.length > BORDER_BUFFER_METERS*4]"
   ]
  },
  {
   "cell_type": "code",
   "execution_count": null,
   "id": "e9a80089-712f-4008-bc8c-cf8af3cba900",
   "metadata": {
    "tags": []
   },
   "outputs": [],
   "source": [
    "test2.geometry.length"
   ]
  },
  {
   "cell_type": "code",
   "execution_count": null,
   "id": "927f17f8-4d7a-462a-bde2-3ae4c28a4255",
   "metadata": {},
   "outputs": [],
   "source": [
    "m = test.explore(tiles='CartoDB Positron')"
   ]
  },
  {
   "cell_type": "code",
   "execution_count": null,
   "id": "f28ab09f-87c8-46e5-8d68-686e11c7c44e",
   "metadata": {
    "tags": []
   },
   "outputs": [],
   "source": [
    "test2.shape_array_key.isna().all()"
   ]
  },
  {
   "cell_type": "code",
   "execution_count": null,
   "id": "41473c82-a751-4c1a-ba4b-058e8afc9bda",
   "metadata": {},
   "outputs": [],
   "source": [
    "# test2.explore(color='orange', m=m, tiles='CartoDB Positron')"
   ]
  },
  {
   "cell_type": "markdown",
   "id": "9f1cba14-d07e-41a0-9e46-910911649d77",
   "metadata": {},
   "source": [
    "## interpolation points"
   ]
  },
  {
   "cell_type": "code",
   "execution_count": null,
   "id": "468e06d1-53ac-4dcf-ada2-cf8134df7658",
   "metadata": {
    "tags": []
   },
   "outputs": [],
   "source": [
    "%%time\n",
    "\n",
    "test2 = test.overlay(test, how='intersection')\n",
    "\n",
    "test2 = test2.query('intersection_hash_1 != intersection_hash_2')\n",
    "\n",
    "test2.head(5000).explore()\n",
    "\n",
    "test"
   ]
  },
  {
   "cell_type": "code",
   "execution_count": null,
   "id": "afe3ae21-5852-48e9-94de-d97fa29a7d1d",
   "metadata": {
    "tags": []
   },
   "outputs": [],
   "source": [
    "shapes"
   ]
  },
  {
   "cell_type": "code",
   "execution_count": null,
   "id": "1b713c68-ce11-45eb-961d-35e956079976",
   "metadata": {
    "tags": []
   },
   "outputs": [],
   "source": [
    "helpers.import_scheduled_trips?"
   ]
  },
  {
   "cell_type": "code",
   "execution_count": null,
   "id": "7b1f9bcd-6fb9-4ba1-a639-b75727cebc35",
   "metadata": {
    "tags": []
   },
   "outputs": [],
   "source": [
    "cols = ['gtfs_dataset_key', 'name', 'trip_id', 'shape_id', 'shape_array_key', 'route_id', 'route_key', 'direction_id', 'route_short_name', 'trip_instance_key', 'feed_key']"
   ]
  },
  {
   "cell_type": "code",
   "execution_count": null,
   "id": "14e22664-7466-466f-ad7d-04b5c9e974bc",
   "metadata": {
    "tags": []
   },
   "outputs": [],
   "source": [
    "trips = helpers.import_scheduled_trips(analysis_date, columns=cols)"
   ]
  },
  {
   "cell_type": "code",
   "execution_count": null,
   "id": "5199c8f0-6340-4eda-ba59-0a7d553de380",
   "metadata": {
    "tags": []
   },
   "outputs": [],
   "source": [
    "trips = trips.dropna(subset=['shape_id'])"
   ]
  },
  {
   "cell_type": "code",
   "execution_count": null,
   "id": "edced118-b1b5-40df-ac39-c1aaea284d3b",
   "metadata": {
    "tags": []
   },
   "outputs": [],
   "source": [
    "act_6 = trips.query('name.str.contains(\"AC Transit\") & shape_id == \"shp-6-03\"')"
   ]
  },
  {
   "cell_type": "code",
   "execution_count": null,
   "id": "9c81a636-65c5-4f57-846f-10e579bce472",
   "metadata": {
    "tags": []
   },
   "outputs": [],
   "source": [
    "act_6.shape_array_key.unique()"
   ]
  },
  {
   "cell_type": "code",
   "execution_count": null,
   "id": "44230c0e-e03d-4bf3-9f38-453904baa941",
   "metadata": {
    "tags": []
   },
   "outputs": [],
   "source": [
    "act_6_shape = shapes.query('shape_array_key.isin(@act_6.shape_array_key)')"
   ]
  },
  {
   "cell_type": "code",
   "execution_count": null,
   "id": "21e0d83a-5280-4b62-b5ec-e15aa79b5391",
   "metadata": {
    "tags": []
   },
   "outputs": [],
   "source": [
    "act_6_shape.explore()"
   ]
  },
  {
   "cell_type": "code",
   "execution_count": null,
   "id": "d236f23a-0f31-4fca-89a3-916eda924381",
   "metadata": {
    "tags": []
   },
   "outputs": [],
   "source": [
    "act_6_shape.explore(color='orange', m=m, tiles='CartoDB Positron')"
   ]
  },
  {
   "cell_type": "code",
   "execution_count": null,
   "id": "50dc4ccc-0ffc-4946-a973-7c6b569aa44e",
   "metadata": {
    "tags": []
   },
   "outputs": [],
   "source": [
    "def overlay_to_borders(\n",
    "    shape_gdf: gpd.GeoDataFrame,\n",
    "    border_gdf: gpd.GeoDataFrame,\n",
    "    sensitivity_dist: int = BORDER_BUFFER_METERS * 4\n",
    "                 ):\n",
    "    '''\n",
    "    \n",
    "    '''\n",
    "    overlaid = shape_gdf.overlay(border_gdf, how='intersection')\n",
    "    overlaid = overlaid.query('geometry.length > @sensitivity_dist')\n",
    "    return overlaid"
   ]
  },
  {
   "cell_type": "code",
   "execution_count": null,
   "id": "11b6f89d-fef3-41f7-acd1-b7ebda9c3c92",
   "metadata": {
    "tags": []
   },
   "outputs": [],
   "source": [
    "overlay_to_borders(act_6_shape, borders)"
   ]
  },
  {
   "cell_type": "code",
   "execution_count": null,
   "id": "aac97eaf-cb4f-4436-b44c-baf3137fb480",
   "metadata": {
    "tags": []
   },
   "outputs": [],
   "source": [
    "border_overlaid = overlay_to_borders(act_6_shape, borders)"
   ]
  },
  {
   "cell_type": "code",
   "execution_count": null,
   "id": "b66ab5c3-c08d-45df-a0d7-eb553d5ac71f",
   "metadata": {
    "tags": []
   },
   "outputs": [],
   "source": [
    "border_overlaid.explore(column='intersection_hash', tiles='CartoDB Positron', categorical=True)"
   ]
  },
  {
   "cell_type": "code",
   "execution_count": null,
   "id": "e004074a-75c2-43b2-9672-1912fa956da1",
   "metadata": {
    "tags": []
   },
   "outputs": [],
   "source": [
    "not_border = act_6_shape.overlay(border_overlaid, how='difference')"
   ]
  },
  {
   "cell_type": "code",
   "execution_count": null,
   "id": "c5bb2eaa-b71d-4b3c-a9b6-9d4d3c688ce1",
   "metadata": {
    "tags": []
   },
   "outputs": [],
   "source": [
    "not_border"
   ]
  },
  {
   "cell_type": "code",
   "execution_count": null,
   "id": "56f29fae-a37a-42a7-b850-1458a3b30c0c",
   "metadata": {
    "tags": []
   },
   "outputs": [],
   "source": [
    "def overlay_to_tracts(\n",
    "    shape_gdf_no_border: gpd.GeoDataFrame,\n",
    "    tract_gdf: gpd.GeoDataFrame,\n",
    "                 ):\n",
    "    '''\n",
    "    \n",
    "    '''\n",
    "    tract_gdf = tract_gdf[['tract', 'geometry']]\n",
    "    return shape_gdf_no_border.overlay(tract_gdf, how='intersection')"
   ]
  },
  {
   "cell_type": "code",
   "execution_count": null,
   "id": "d6d7a60d-42ee-4b9a-8dce-7f2a8b598455",
   "metadata": {
    "tags": []
   },
   "outputs": [],
   "source": [
    "tract_overlaid = overlay_to_tracts(not_border, tracts)"
   ]
  },
  {
   "cell_type": "code",
   "execution_count": null,
   "id": "11db8743-190b-449e-b2c2-5d9bcb641653",
   "metadata": {
    "tags": []
   },
   "outputs": [],
   "source": [
    "tract_overlaid.explore(column='tract', tiles='CartoDB Positron', categorical=True)"
   ]
  },
  {
   "cell_type": "code",
   "execution_count": null,
   "id": "0b44eec8-97fd-4b0f-a290-4a5d0cf78bce",
   "metadata": {
    "tags": []
   },
   "outputs": [],
   "source": [
    "tracts_and_borders = pd.concat([tract_overlaid, border_overlaid]).reset_index(drop=True)"
   ]
  },
  {
   "cell_type": "code",
   "execution_count": null,
   "id": "b9f4eb02-78ee-4d51-8fba-286501e09631",
   "metadata": {
    "tags": []
   },
   "outputs": [],
   "source": [
    "tracts_and_borders = tracts_and_borders.assign(border = ~tracts_and_borders.tract_2.isna())"
   ]
  },
  {
   "cell_type": "code",
   "execution_count": null,
   "id": "359aeae2-c2ac-4df9-8834-170d980fb22d",
   "metadata": {
    "tags": []
   },
   "outputs": [],
   "source": [
    "tracts_and_borders = tracts_and_borders.assign(\n",
    "    start = tracts_and_borders.geometry.apply(lambda x: shapely.Point(x.coords[0])),\n",
    "    end = tracts_and_borders.geometry.apply(lambda x: shapely.Point(x.coords[-1])))"
   ]
  },
  {
   "cell_type": "code",
   "execution_count": null,
   "id": "7852d4e6-e50c-4a79-9769-62ce35c3618a",
   "metadata": {
    "tags": []
   },
   "outputs": [],
   "source": [
    "tracts_and_borders.reset_index().explore(column='border', tiles='CartoDB Positron', categorical=True)"
   ]
  },
  {
   "cell_type": "code",
   "execution_count": null,
   "id": "a3b80834-1fa5-4d11-aca6-5b70cb4c0e13",
   "metadata": {
    "tags": []
   },
   "outputs": [],
   "source": [
    "tracts_and_borders"
   ]
  },
  {
   "cell_type": "code",
   "execution_count": null,
   "id": "aaff36bd-9d1c-4ab2-9085-edf483220654",
   "metadata": {
    "tags": []
   },
   "outputs": [],
   "source": [
    "tracts_and_borders.to_parquet(f'test_tracts_borders_{analysis_date}.parquet')"
   ]
  }
 ],
 "metadata": {
  "kernelspec": {
   "display_name": "Python 3 (ipykernel)",
   "language": "python",
   "name": "python3"
  },
  "language_info": {
   "codemirror_mode": {
    "name": "ipython",
    "version": 3
   },
   "file_extension": ".py",
   "mimetype": "text/x-python",
   "name": "python",
   "nbconvert_exporter": "python",
   "pygments_lexer": "ipython3",
   "version": "3.11.10"
  },
  "widgets": {
   "application/vnd.jupyter.widget-state+json": {
    "state": {},
    "version_major": 2,
    "version_minor": 0
   }
  }
 },
 "nbformat": 4,
 "nbformat_minor": 5
}
