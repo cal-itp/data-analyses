{
 "cells": [
  {
   "cell_type": "code",
   "execution_count": 1,
   "id": "9e645c63-24e5-466f-8f20-279614c1d767",
   "metadata": {},
   "outputs": [],
   "source": [
    "import sys"
   ]
  },
  {
   "cell_type": "code",
   "execution_count": 2,
   "id": "4f3eb58f-9663-4867-a5c2-2ed658cd4c0d",
   "metadata": {},
   "outputs": [],
   "source": [
    "import intake\n",
    "import pandas as pd\n",
    "import geopandas as gpd\n",
    "from calitp_data_analysis import geography_utils\n",
    "from siuba import *\n",
    "import shapely"
   ]
  },
  {
   "cell_type": "code",
   "execution_count": 3,
   "id": "dbc34a06-4993-426d-8e6e-99b9cd447222",
   "metadata": {},
   "outputs": [],
   "source": [
    "from shared_utils import catalog_utils, rt_dates\n",
    "GTFS_DATA_DICT = catalog_utils.get_catalog(\"gtfs_analytics_data\")"
   ]
  },
  {
   "cell_type": "code",
   "execution_count": 4,
   "id": "815cb9ed-e7dd-4a8f-9830-917101668c45",
   "metadata": {},
   "outputs": [],
   "source": [
    "from segment_speed_utils import helpers\n",
    "import uuid"
   ]
  },
  {
   "cell_type": "code",
   "execution_count": 5,
   "id": "8d9d9439-70a0-4238-86f7-5d04b039c559",
   "metadata": {},
   "outputs": [],
   "source": [
    "from update_vars import ANALYSIS_DATE, BORDER_BUFFER_METERS"
   ]
  },
  {
   "cell_type": "markdown",
   "id": "afe82e80-7c93-43ed-a32a-5c3daed646eb",
   "metadata": {},
   "source": [
    "# Exploratory Analysis\n",
    "\n",
    "Start working on how to identify and count \"border zones\" where transit runs along Census Tract boundaries and VRH/VRM should be split accordingly (avoiding double-counting or arbitrary allocation to only one border tract)"
   ]
  },
  {
   "cell_type": "code",
   "execution_count": 7,
   "id": "556ed5aa-61df-4de2-a807-c470e00f6aab",
   "metadata": {
    "tags": []
   },
   "outputs": [],
   "source": [
    "shape_stops_tracts_borders = pd.read_parquet(f'shape_stops_tracts_borders_{ANALYSIS_DATE}.parquet')"
   ]
  },
  {
   "cell_type": "markdown",
   "id": "9f1cba14-d07e-41a0-9e46-910911649d77",
   "metadata": {},
   "source": [
    "## interpolation points"
   ]
  },
  {
   "cell_type": "code",
   "execution_count": 24,
   "id": "6cc65965-acac-49d3-87e5-8749105bed92",
   "metadata": {
    "tags": []
   },
   "outputs": [],
   "source": [
    "shapes = helpers.import_scheduled_shapes(ANALYSIS_DATE)"
   ]
  },
  {
   "cell_type": "code",
   "execution_count": 36,
   "id": "31f6aef0-6b2d-41cc-a0f2-edbec6cbc834",
   "metadata": {
    "tags": []
   },
   "outputs": [],
   "source": [
    "borders = gpd.read_parquet(f'borders_{ANALYSIS_DATE}.parquet')"
   ]
  },
  {
   "cell_type": "code",
   "execution_count": 37,
   "id": "e5137a73-faf9-4460-812f-c1f655792622",
   "metadata": {},
   "outputs": [
    {
     "data": {
      "text/html": [
       "<div>\n",
       "<style scoped>\n",
       "    .dataframe tbody tr th:only-of-type {\n",
       "        vertical-align: middle;\n",
       "    }\n",
       "\n",
       "    .dataframe tbody tr th {\n",
       "        vertical-align: top;\n",
       "    }\n",
       "\n",
       "    .dataframe thead th {\n",
       "        text-align: right;\n",
       "    }\n",
       "</style>\n",
       "<table border=\"1\" class=\"dataframe\">\n",
       "  <thead>\n",
       "    <tr style=\"text-align: right;\">\n",
       "      <th></th>\n",
       "      <th>tract_1</th>\n",
       "      <th>pop_sq_mi_1</th>\n",
       "      <th>population_1</th>\n",
       "      <th>tract_2</th>\n",
       "      <th>pop_sq_mi_2</th>\n",
       "      <th>population_2</th>\n",
       "      <th>geometry</th>\n",
       "      <th>intersection_hash</th>\n",
       "      <th>intersection_id</th>\n",
       "    </tr>\n",
       "  </thead>\n",
       "  <tbody>\n",
       "    <tr>\n",
       "      <th>1</th>\n",
       "      <td>06001404300</td>\n",
       "      <td>4797.822179</td>\n",
       "      <td>3443</td>\n",
       "      <td>06001400100</td>\n",
       "      <td>1174.735672</td>\n",
       "      <td>3120</td>\n",
       "      <td>POLYGON ((-196294.855 -15866.615, -196291.388 ...</td>\n",
       "      <td>810165257910103043</td>\n",
       "      <td>10251160-52e4-4a42-853f-74d7440cc1f7</td>\n",
       "    </tr>\n",
       "    <tr>\n",
       "      <th>2</th>\n",
       "      <td>06001404400</td>\n",
       "      <td>3530.592483</td>\n",
       "      <td>5628</td>\n",
       "      <td>06001400100</td>\n",
       "      <td>1174.735672</td>\n",
       "      <td>3120</td>\n",
       "      <td>POLYGON ((-196332.808 -15913.026, -196332.893 ...</td>\n",
       "      <td>-6603333591490277215</td>\n",
       "      <td>91d04b84-1857-4b88-b616-e2499a9c1e41</td>\n",
       "    </tr>\n",
       "    <tr>\n",
       "      <th>3</th>\n",
       "      <td>06001421600</td>\n",
       "      <td>7017.273891</td>\n",
       "      <td>3617</td>\n",
       "      <td>06001400100</td>\n",
       "      <td>1174.735672</td>\n",
       "      <td>3120</td>\n",
       "      <td>POLYGON ((-197285.488 -12214.433, -197283.307 ...</td>\n",
       "      <td>3286629633234426559</td>\n",
       "      <td>bb756824-b2d8-437a-a01a-835546eca4f2</td>\n",
       "    </tr>\n",
       "  </tbody>\n",
       "</table>\n",
       "</div>"
      ],
      "text/plain": [
       "       tract_1  pop_sq_mi_1  population_1      tract_2  pop_sq_mi_2  \\\n",
       "1  06001404300  4797.822179          3443  06001400100  1174.735672   \n",
       "2  06001404400  3530.592483          5628  06001400100  1174.735672   \n",
       "3  06001421600  7017.273891          3617  06001400100  1174.735672   \n",
       "\n",
       "   population_2                                           geometry  \\\n",
       "1          3120  POLYGON ((-196294.855 -15866.615, -196291.388 ...   \n",
       "2          3120  POLYGON ((-196332.808 -15913.026, -196332.893 ...   \n",
       "3          3120  POLYGON ((-197285.488 -12214.433, -197283.307 ...   \n",
       "\n",
       "     intersection_hash                       intersection_id  \n",
       "1   810165257910103043  10251160-52e4-4a42-853f-74d7440cc1f7  \n",
       "2 -6603333591490277215  91d04b84-1857-4b88-b616-e2499a9c1e41  \n",
       "3  3286629633234426559  bb756824-b2d8-437a-a01a-835546eca4f2  "
      ]
     },
     "execution_count": 37,
     "metadata": {},
     "output_type": "execute_result"
    }
   ],
   "source": [
    "borders.head(3)"
   ]
  },
  {
   "cell_type": "code",
   "execution_count": 38,
   "id": "afe3ae21-5852-48e9-94de-d97fa29a7d1d",
   "metadata": {
    "tags": []
   },
   "outputs": [
    {
     "data": {
      "text/html": [
       "<div>\n",
       "<style scoped>\n",
       "    .dataframe tbody tr th:only-of-type {\n",
       "        vertical-align: middle;\n",
       "    }\n",
       "\n",
       "    .dataframe tbody tr th {\n",
       "        vertical-align: top;\n",
       "    }\n",
       "\n",
       "    .dataframe thead th {\n",
       "        text-align: right;\n",
       "    }\n",
       "</style>\n",
       "<table border=\"1\" class=\"dataframe\">\n",
       "  <thead>\n",
       "    <tr style=\"text-align: right;\">\n",
       "      <th></th>\n",
       "      <th>shape_array_key</th>\n",
       "      <th>geometry</th>\n",
       "    </tr>\n",
       "  </thead>\n",
       "  <tbody>\n",
       "    <tr>\n",
       "      <th>0</th>\n",
       "      <td>16511a5f40ba32b2a0e0b27fd16c1eb5</td>\n",
       "      <td>LINESTRING (-163265.514 656.311, -163250.231 6...</td>\n",
       "    </tr>\n",
       "    <tr>\n",
       "      <th>1</th>\n",
       "      <td>96cd28ce9d9bf4be447bcfd1773812c1</td>\n",
       "      <td>LINESTRING (-111378.554 13748.755, -111406.635...</td>\n",
       "    </tr>\n",
       "    <tr>\n",
       "      <th>2</th>\n",
       "      <td>0429bd4d10083f2834e0b953235fcd2e</td>\n",
       "      <td>LINESTRING (-224444.078 65429.544, -224456.642...</td>\n",
       "    </tr>\n",
       "  </tbody>\n",
       "</table>\n",
       "</div>"
      ],
      "text/plain": [
       "                    shape_array_key  \\\n",
       "0  16511a5f40ba32b2a0e0b27fd16c1eb5   \n",
       "1  96cd28ce9d9bf4be447bcfd1773812c1   \n",
       "2  0429bd4d10083f2834e0b953235fcd2e   \n",
       "\n",
       "                                            geometry  \n",
       "0  LINESTRING (-163265.514 656.311, -163250.231 6...  \n",
       "1  LINESTRING (-111378.554 13748.755, -111406.635...  \n",
       "2  LINESTRING (-224444.078 65429.544, -224456.642...  "
      ]
     },
     "execution_count": 38,
     "metadata": {},
     "output_type": "execute_result"
    }
   ],
   "source": [
    "shapes.head(3)"
   ]
  },
  {
   "cell_type": "code",
   "execution_count": 39,
   "id": "4ecfb658-eec0-4ca9-b1a5-29e1330d300a",
   "metadata": {
    "tags": []
   },
   "outputs": [],
   "source": [
    "trip_cols = ['gtfs_dataset_key', 'name', 'trip_id',\n",
    "        'shape_id', 'shape_array_key', 'route_id',\n",
    "        'route_key', 'direction_id', 'route_short_name',\n",
    "        'trip_instance_key', 'feed_key']\n",
    "\n",
    "trips = (helpers.import_scheduled_trips(ANALYSIS_DATE, columns=trip_cols)\n",
    "        .dropna(subset=['shape_id'])\n",
    "        )"
   ]
  },
  {
   "cell_type": "code",
   "execution_count": 40,
   "id": "edced118-b1b5-40df-ac39-c1aaea284d3b",
   "metadata": {
    "tags": []
   },
   "outputs": [],
   "source": [
    "act_6 = trips.query('name.str.contains(\"AC Transit\") & shape_id == \"shp-6-03\"')"
   ]
  },
  {
   "cell_type": "code",
   "execution_count": 41,
   "id": "44230c0e-e03d-4bf3-9f38-453904baa941",
   "metadata": {
    "tags": []
   },
   "outputs": [],
   "source": [
    "act_6_shape = shapes.query('shape_array_key.isin(@act_6.shape_array_key)')"
   ]
  },
  {
   "cell_type": "code",
   "execution_count": 42,
   "id": "50dc4ccc-0ffc-4946-a973-7c6b569aa44e",
   "metadata": {
    "tags": []
   },
   "outputs": [],
   "source": [
    "def overlay_to_borders(\n",
    "    shape_gdf: gpd.GeoDataFrame,\n",
    "    border_gdf: gpd.GeoDataFrame,\n",
    "    sensitivity_dist: int = BORDER_BUFFER_METERS * 4\n",
    "                 ):\n",
    "    '''\n",
    "    \n",
    "    '''\n",
    "    overlaid = shape_gdf.overlay(border_gdf, how='intersection')\n",
    "    overlaid = overlaid.query('geometry.length > @sensitivity_dist')\n",
    "    return overlaid"
   ]
  },
  {
   "cell_type": "code",
   "execution_count": 43,
   "id": "56f29fae-a37a-42a7-b850-1458a3b30c0c",
   "metadata": {
    "tags": []
   },
   "outputs": [],
   "source": [
    "def overlay_to_tracts(\n",
    "    shape_gdf_no_border: gpd.GeoDataFrame,\n",
    "    tract_gdf: gpd.GeoDataFrame,\n",
    "                 ):\n",
    "    '''\n",
    "    \n",
    "    '''\n",
    "    tract_gdf = tract_gdf[['tract', 'geometry']]\n",
    "    return shape_gdf_no_border.overlay(tract_gdf, how='intersection')"
   ]
  },
  {
   "cell_type": "code",
   "execution_count": 44,
   "id": "44545a32-ffaf-466c-8850-1be0a4914781",
   "metadata": {
    "tags": []
   },
   "outputs": [],
   "source": [
    "def overlay_tracts_borders(\n",
    "    shape_gdf: gpd.GeoDataFrame,\n",
    "    tract_gdf: gpd.GeoDataFrame,\n",
    "    border_gdf: gpd.GeoDataFrame,\n",
    "    sensitivity_dist: int = BORDER_BUFFER_METERS * 4\n",
    "):\n",
    "    '''\n",
    "    '''\n",
    "    border_gdf = border_gdf.drop(columns=['intersection_hash'])\n",
    "    try:\n",
    "        border_overlaid = overlay_to_borders(shape_gdf, border_gdf, sensitivity_dist)\n",
    "        not_border = shape_gdf.overlay(border_overlaid, how='difference')\n",
    "        tract_overlaid = overlay_to_tracts(not_border, tracts)\n",
    "        tracts_and_borders = (pd.concat([tract_overlaid, border_overlaid])\n",
    "                              .explode(index_parts=False)\n",
    "                              .reset_index(drop=True)\n",
    "                              .query('geometry.length > @sensitivity_dist')\n",
    "                             )\n",
    "        tracts_and_borders = tracts_and_borders.assign(\n",
    "            border = ~tracts_and_borders.tract_2.isna(),\n",
    "            start = tracts_and_borders.geometry.apply(lambda x: shapely.Point(x.coords[0])),\n",
    "            # end = tracts_and_borders.geometry.apply(lambda x: shapely.Point(x.coords[-1])),\n",
    "            tsi_segment_id = tracts_and_borders.tract.combine_first(tracts_and_borders.intersection_id).astype(str),\n",
    "            tsi_segment_meters = tracts_and_borders.geometry.length\n",
    "        )\n",
    "        return tracts_and_borders\n",
    "    except Exception as e:\n",
    "        print(f'{shape_gdf}, {e}')"
   ]
  },
  {
   "cell_type": "code",
   "execution_count": 45,
   "id": "d81c3442-1d82-4eeb-bea9-be579e1edfb6",
   "metadata": {
    "collapsed": true,
    "jupyter": {
     "outputs_hidden": true
    },
    "tags": []
   },
   "outputs": [
    {
     "data": {
      "text/html": [
       "<div>\n",
       "<style scoped>\n",
       "    .dataframe tbody tr th:only-of-type {\n",
       "        vertical-align: middle;\n",
       "    }\n",
       "\n",
       "    .dataframe tbody tr th {\n",
       "        vertical-align: top;\n",
       "    }\n",
       "\n",
       "    .dataframe thead th {\n",
       "        text-align: right;\n",
       "    }\n",
       "</style>\n",
       "<table border=\"1\" class=\"dataframe\">\n",
       "  <thead>\n",
       "    <tr style=\"text-align: right;\">\n",
       "      <th></th>\n",
       "      <th>shape_array_key</th>\n",
       "      <th>tract</th>\n",
       "      <th>tract_1</th>\n",
       "      <th>pop_sq_mi_1</th>\n",
       "      <th>population_1</th>\n",
       "      <th>tract_2</th>\n",
       "      <th>pop_sq_mi_2</th>\n",
       "      <th>population_2</th>\n",
       "      <th>intersection_id</th>\n",
       "      <th>geometry</th>\n",
       "      <th>border</th>\n",
       "      <th>start</th>\n",
       "      <th>tsi_segment_id</th>\n",
       "      <th>tsi_segment_meters</th>\n",
       "    </tr>\n",
       "  </thead>\n",
       "  <tbody>\n",
       "    <tr>\n",
       "      <th>0</th>\n",
       "      <td>96cd28ce9d9bf4be447bcfd1773812c1</td>\n",
       "      <td>06077004204</td>\n",
       "      <td>NaN</td>\n",
       "      <td>NaN</td>\n",
       "      <td>NaN</td>\n",
       "      <td>NaN</td>\n",
       "      <td>NaN</td>\n",
       "      <td>NaN</td>\n",
       "      <td>NaN</td>\n",
       "      <td>LINESTRING (-111378.554 13748.755, -111406.635...</td>\n",
       "      <td>False</td>\n",
       "      <td>POINT (-111378.554 13748.755)</td>\n",
       "      <td>06077004204</td>\n",
       "      <td>332.116265</td>\n",
       "    </tr>\n",
       "    <tr>\n",
       "      <th>1</th>\n",
       "      <td>96cd28ce9d9bf4be447bcfd1773812c1</td>\n",
       "      <td>06077004204</td>\n",
       "      <td>NaN</td>\n",
       "      <td>NaN</td>\n",
       "      <td>NaN</td>\n",
       "      <td>NaN</td>\n",
       "      <td>NaN</td>\n",
       "      <td>NaN</td>\n",
       "      <td>NaN</td>\n",
       "      <td>LINESTRING (-111300.653 13834.892, -111309.100...</td>\n",
       "      <td>False</td>\n",
       "      <td>POINT (-111300.653 13834.892)</td>\n",
       "      <td>06077004204</td>\n",
       "      <td>169.516937</td>\n",
       "    </tr>\n",
       "    <tr>\n",
       "      <th>3</th>\n",
       "      <td>96cd28ce9d9bf4be447bcfd1773812c1</td>\n",
       "      <td>06077004307</td>\n",
       "      <td>NaN</td>\n",
       "      <td>NaN</td>\n",
       "      <td>NaN</td>\n",
       "      <td>NaN</td>\n",
       "      <td>NaN</td>\n",
       "      <td>NaN</td>\n",
       "      <td>NaN</td>\n",
       "      <td>LINESTRING (-112792.322 11773.668, -112793.890...</td>\n",
       "      <td>False</td>\n",
       "      <td>POINT (-112792.322 11773.668)</td>\n",
       "      <td>06077004307</td>\n",
       "      <td>2034.935651</td>\n",
       "    </tr>\n",
       "    <tr>\n",
       "      <th>5</th>\n",
       "      <td>96cd28ce9d9bf4be447bcfd1773812c1</td>\n",
       "      <td>06077004308</td>\n",
       "      <td>NaN</td>\n",
       "      <td>NaN</td>\n",
       "      <td>NaN</td>\n",
       "      <td>NaN</td>\n",
       "      <td>NaN</td>\n",
       "      <td>NaN</td>\n",
       "      <td>NaN</td>\n",
       "      <td>LINESTRING (-111982.387 10163.133, -111561.670...</td>\n",
       "      <td>False</td>\n",
       "      <td>POINT (-111982.387 10163.133)</td>\n",
       "      <td>06077004308</td>\n",
       "      <td>420.889225</td>\n",
       "    </tr>\n",
       "    <tr>\n",
       "      <th>6</th>\n",
       "      <td>96cd28ce9d9bf4be447bcfd1773812c1</td>\n",
       "      <td>06077004402</td>\n",
       "      <td>NaN</td>\n",
       "      <td>NaN</td>\n",
       "      <td>NaN</td>\n",
       "      <td>NaN</td>\n",
       "      <td>NaN</td>\n",
       "      <td>NaN</td>\n",
       "      <td>NaN</td>\n",
       "      <td>LINESTRING (-111560.811 10175.203, -110912.129...</td>\n",
       "      <td>False</td>\n",
       "      <td>POINT (-111560.811 10175.203)</td>\n",
       "      <td>06077004402</td>\n",
       "      <td>648.947447</td>\n",
       "    </tr>\n",
       "    <tr>\n",
       "      <th>7</th>\n",
       "      <td>96cd28ce9d9bf4be447bcfd1773812c1</td>\n",
       "      <td>06077004402</td>\n",
       "      <td>NaN</td>\n",
       "      <td>NaN</td>\n",
       "      <td>NaN</td>\n",
       "      <td>NaN</td>\n",
       "      <td>NaN</td>\n",
       "      <td>NaN</td>\n",
       "      <td>NaN</td>\n",
       "      <td>LINESTRING (-110912.129 10193.776, -110913.835...</td>\n",
       "      <td>False</td>\n",
       "      <td>POINT (-110912.129 10193.776)</td>\n",
       "      <td>06077004402</td>\n",
       "      <td>3052.362596</td>\n",
       "    </tr>\n",
       "    <tr>\n",
       "      <th>8</th>\n",
       "      <td>96cd28ce9d9bf4be447bcfd1773812c1</td>\n",
       "      <td>06077004502</td>\n",
       "      <td>NaN</td>\n",
       "      <td>NaN</td>\n",
       "      <td>NaN</td>\n",
       "      <td>NaN</td>\n",
       "      <td>NaN</td>\n",
       "      <td>NaN</td>\n",
       "      <td>NaN</td>\n",
       "      <td>LINESTRING (-110767.583 13477.092, -110769.215...</td>\n",
       "      <td>False</td>\n",
       "      <td>POINT (-110767.583 13477.092)</td>\n",
       "      <td>06077004502</td>\n",
       "      <td>876.687115</td>\n",
       "    </tr>\n",
       "    <tr>\n",
       "      <th>9</th>\n",
       "      <td>96cd28ce9d9bf4be447bcfd1773812c1</td>\n",
       "      <td>NaN</td>\n",
       "      <td>06077004308</td>\n",
       "      <td>15016.499222</td>\n",
       "      <td>4402.0</td>\n",
       "      <td>06077004102</td>\n",
       "      <td>433.130771</td>\n",
       "      <td>9919.0</td>\n",
       "      <td>4df011da-f304-4c7f-adf0-523a4d22cc53</td>\n",
       "      <td>LINESTRING (-111995.748 10192.212, -111996.000...</td>\n",
       "      <td>True</td>\n",
       "      <td>POINT (-111995.748 10192.212)</td>\n",
       "      <td>4df011da-f304-4c7f-adf0-523a4d22cc53</td>\n",
       "      <td>499.142748</td>\n",
       "    </tr>\n",
       "    <tr>\n",
       "      <th>10</th>\n",
       "      <td>96cd28ce9d9bf4be447bcfd1773812c1</td>\n",
       "      <td>NaN</td>\n",
       "      <td>06077004402</td>\n",
       "      <td>3300.966005</td>\n",
       "      <td>5541.0</td>\n",
       "      <td>06077004102</td>\n",
       "      <td>433.130771</td>\n",
       "      <td>9919.0</td>\n",
       "      <td>c7cfe482-a82f-455a-8da9-fb193b417e0d</td>\n",
       "      <td>LINESTRING (-111595.929 10174.198, -110912.129...</td>\n",
       "      <td>True</td>\n",
       "      <td>POINT (-111595.929 10174.198)</td>\n",
       "      <td>c7cfe482-a82f-455a-8da9-fb193b417e0d</td>\n",
       "      <td>714.755724</td>\n",
       "    </tr>\n",
       "    <tr>\n",
       "      <th>11</th>\n",
       "      <td>96cd28ce9d9bf4be447bcfd1773812c1</td>\n",
       "      <td>NaN</td>\n",
       "      <td>06077004308</td>\n",
       "      <td>15016.499222</td>\n",
       "      <td>4402.0</td>\n",
       "      <td>06077004307</td>\n",
       "      <td>6411.267627</td>\n",
       "      <td>3961.0</td>\n",
       "      <td>4da60b58-4766-4867-8955-928afec20cc5</td>\n",
       "      <td>LINESTRING (-112015.927 10519.200, -111992.968...</td>\n",
       "      <td>True</td>\n",
       "      <td>POINT (-112015.927 10519.200)</td>\n",
       "      <td>4da60b58-4766-4867-8955-928afec20cc5</td>\n",
       "      <td>426.294462</td>\n",
       "    </tr>\n",
       "    <tr>\n",
       "      <th>12</th>\n",
       "      <td>96cd28ce9d9bf4be447bcfd1773812c1</td>\n",
       "      <td>NaN</td>\n",
       "      <td>06077004403</td>\n",
       "      <td>9650.999772</td>\n",
       "      <td>3798.0</td>\n",
       "      <td>06077004402</td>\n",
       "      <td>3300.966005</td>\n",
       "      <td>5541.0</td>\n",
       "      <td>5a26fac1-0a02-4f0d-b634-f7d633927328</td>\n",
       "      <td>LINESTRING (-111172.044 11763.648, -111171.826...</td>\n",
       "      <td>True</td>\n",
       "      <td>POINT (-111172.044 11763.648)</td>\n",
       "      <td>5a26fac1-0a02-4f0d-b634-f7d633927328</td>\n",
       "      <td>472.850055</td>\n",
       "    </tr>\n",
       "    <tr>\n",
       "      <th>13</th>\n",
       "      <td>96cd28ce9d9bf4be447bcfd1773812c1</td>\n",
       "      <td>NaN</td>\n",
       "      <td>06077004403</td>\n",
       "      <td>9650.999772</td>\n",
       "      <td>3798.0</td>\n",
       "      <td>06077004404</td>\n",
       "      <td>2752.938073</td>\n",
       "      <td>4131.0</td>\n",
       "      <td>bd751c0f-db4c-4730-9319-957d02777b17</td>\n",
       "      <td>LINESTRING (-110797.197 11819.201, -110789.703...</td>\n",
       "      <td>True</td>\n",
       "      <td>POINT (-110797.197 11819.201)</td>\n",
       "      <td>bd751c0f-db4c-4730-9319-957d02777b17</td>\n",
       "      <td>1697.588981</td>\n",
       "    </tr>\n",
       "    <tr>\n",
       "      <th>14</th>\n",
       "      <td>96cd28ce9d9bf4be447bcfd1773812c1</td>\n",
       "      <td>NaN</td>\n",
       "      <td>06077004302</td>\n",
       "      <td>7344.325780</td>\n",
       "      <td>6399.0</td>\n",
       "      <td>06077004303</td>\n",
       "      <td>4702.783693</td>\n",
       "      <td>4735.0</td>\n",
       "      <td>32a2160b-8137-4355-ae18-369921b36fcd</td>\n",
       "      <td>LINESTRING (-112741.145 13401.116, -112780.562...</td>\n",
       "      <td>True</td>\n",
       "      <td>POINT (-112741.145 13401.116)</td>\n",
       "      <td>32a2160b-8137-4355-ae18-369921b36fcd</td>\n",
       "      <td>1701.168871</td>\n",
       "    </tr>\n",
       "    <tr>\n",
       "      <th>15</th>\n",
       "      <td>96cd28ce9d9bf4be447bcfd1773812c1</td>\n",
       "      <td>NaN</td>\n",
       "      <td>06077004302</td>\n",
       "      <td>7344.325780</td>\n",
       "      <td>6399.0</td>\n",
       "      <td>06077004204</td>\n",
       "      <td>4955.115367</td>\n",
       "      <td>2924.0</td>\n",
       "      <td>a3189899-5a6e-43be-9cc1-7aaa38caf230</td>\n",
       "      <td>LINESTRING (-111404.032 13448.505, -111406.635...</td>\n",
       "      <td>True</td>\n",
       "      <td>POINT (-111404.032 13448.505)</td>\n",
       "      <td>a3189899-5a6e-43be-9cc1-7aaa38caf230</td>\n",
       "      <td>1445.724013</td>\n",
       "    </tr>\n",
       "  </tbody>\n",
       "</table>\n",
       "</div>"
      ],
      "text/plain": [
       "                     shape_array_key        tract      tract_1   pop_sq_mi_1  \\\n",
       "0   96cd28ce9d9bf4be447bcfd1773812c1  06077004204          NaN           NaN   \n",
       "1   96cd28ce9d9bf4be447bcfd1773812c1  06077004204          NaN           NaN   \n",
       "3   96cd28ce9d9bf4be447bcfd1773812c1  06077004307          NaN           NaN   \n",
       "5   96cd28ce9d9bf4be447bcfd1773812c1  06077004308          NaN           NaN   \n",
       "6   96cd28ce9d9bf4be447bcfd1773812c1  06077004402          NaN           NaN   \n",
       "7   96cd28ce9d9bf4be447bcfd1773812c1  06077004402          NaN           NaN   \n",
       "8   96cd28ce9d9bf4be447bcfd1773812c1  06077004502          NaN           NaN   \n",
       "9   96cd28ce9d9bf4be447bcfd1773812c1          NaN  06077004308  15016.499222   \n",
       "10  96cd28ce9d9bf4be447bcfd1773812c1          NaN  06077004402   3300.966005   \n",
       "11  96cd28ce9d9bf4be447bcfd1773812c1          NaN  06077004308  15016.499222   \n",
       "12  96cd28ce9d9bf4be447bcfd1773812c1          NaN  06077004403   9650.999772   \n",
       "13  96cd28ce9d9bf4be447bcfd1773812c1          NaN  06077004403   9650.999772   \n",
       "14  96cd28ce9d9bf4be447bcfd1773812c1          NaN  06077004302   7344.325780   \n",
       "15  96cd28ce9d9bf4be447bcfd1773812c1          NaN  06077004302   7344.325780   \n",
       "\n",
       "    population_1      tract_2  pop_sq_mi_2  population_2  \\\n",
       "0            NaN          NaN          NaN           NaN   \n",
       "1            NaN          NaN          NaN           NaN   \n",
       "3            NaN          NaN          NaN           NaN   \n",
       "5            NaN          NaN          NaN           NaN   \n",
       "6            NaN          NaN          NaN           NaN   \n",
       "7            NaN          NaN          NaN           NaN   \n",
       "8            NaN          NaN          NaN           NaN   \n",
       "9         4402.0  06077004102   433.130771        9919.0   \n",
       "10        5541.0  06077004102   433.130771        9919.0   \n",
       "11        4402.0  06077004307  6411.267627        3961.0   \n",
       "12        3798.0  06077004402  3300.966005        5541.0   \n",
       "13        3798.0  06077004404  2752.938073        4131.0   \n",
       "14        6399.0  06077004303  4702.783693        4735.0   \n",
       "15        6399.0  06077004204  4955.115367        2924.0   \n",
       "\n",
       "                         intersection_id  \\\n",
       "0                                    NaN   \n",
       "1                                    NaN   \n",
       "3                                    NaN   \n",
       "5                                    NaN   \n",
       "6                                    NaN   \n",
       "7                                    NaN   \n",
       "8                                    NaN   \n",
       "9   4df011da-f304-4c7f-adf0-523a4d22cc53   \n",
       "10  c7cfe482-a82f-455a-8da9-fb193b417e0d   \n",
       "11  4da60b58-4766-4867-8955-928afec20cc5   \n",
       "12  5a26fac1-0a02-4f0d-b634-f7d633927328   \n",
       "13  bd751c0f-db4c-4730-9319-957d02777b17   \n",
       "14  32a2160b-8137-4355-ae18-369921b36fcd   \n",
       "15  a3189899-5a6e-43be-9cc1-7aaa38caf230   \n",
       "\n",
       "                                             geometry  border  \\\n",
       "0   LINESTRING (-111378.554 13748.755, -111406.635...   False   \n",
       "1   LINESTRING (-111300.653 13834.892, -111309.100...   False   \n",
       "3   LINESTRING (-112792.322 11773.668, -112793.890...   False   \n",
       "5   LINESTRING (-111982.387 10163.133, -111561.670...   False   \n",
       "6   LINESTRING (-111560.811 10175.203, -110912.129...   False   \n",
       "7   LINESTRING (-110912.129 10193.776, -110913.835...   False   \n",
       "8   LINESTRING (-110767.583 13477.092, -110769.215...   False   \n",
       "9   LINESTRING (-111995.748 10192.212, -111996.000...    True   \n",
       "10  LINESTRING (-111595.929 10174.198, -110912.129...    True   \n",
       "11  LINESTRING (-112015.927 10519.200, -111992.968...    True   \n",
       "12  LINESTRING (-111172.044 11763.648, -111171.826...    True   \n",
       "13  LINESTRING (-110797.197 11819.201, -110789.703...    True   \n",
       "14  LINESTRING (-112741.145 13401.116, -112780.562...    True   \n",
       "15  LINESTRING (-111404.032 13448.505, -111406.635...    True   \n",
       "\n",
       "                            start                        tsi_segment_id  \\\n",
       "0   POINT (-111378.554 13748.755)                           06077004204   \n",
       "1   POINT (-111300.653 13834.892)                           06077004204   \n",
       "3   POINT (-112792.322 11773.668)                           06077004307   \n",
       "5   POINT (-111982.387 10163.133)                           06077004308   \n",
       "6   POINT (-111560.811 10175.203)                           06077004402   \n",
       "7   POINT (-110912.129 10193.776)                           06077004402   \n",
       "8   POINT (-110767.583 13477.092)                           06077004502   \n",
       "9   POINT (-111995.748 10192.212)  4df011da-f304-4c7f-adf0-523a4d22cc53   \n",
       "10  POINT (-111595.929 10174.198)  c7cfe482-a82f-455a-8da9-fb193b417e0d   \n",
       "11  POINT (-112015.927 10519.200)  4da60b58-4766-4867-8955-928afec20cc5   \n",
       "12  POINT (-111172.044 11763.648)  5a26fac1-0a02-4f0d-b634-f7d633927328   \n",
       "13  POINT (-110797.197 11819.201)  bd751c0f-db4c-4730-9319-957d02777b17   \n",
       "14  POINT (-112741.145 13401.116)  32a2160b-8137-4355-ae18-369921b36fcd   \n",
       "15  POINT (-111404.032 13448.505)  a3189899-5a6e-43be-9cc1-7aaa38caf230   \n",
       "\n",
       "    tsi_segment_meters  \n",
       "0           332.116265  \n",
       "1           169.516937  \n",
       "3          2034.935651  \n",
       "5           420.889225  \n",
       "6           648.947447  \n",
       "7          3052.362596  \n",
       "8           876.687115  \n",
       "9           499.142748  \n",
       "10          714.755724  \n",
       "11          426.294462  \n",
       "12          472.850055  \n",
       "13         1697.588981  \n",
       "14         1701.168871  \n",
       "15         1445.724013  "
      ]
     },
     "execution_count": 45,
     "metadata": {},
     "output_type": "execute_result"
    }
   ],
   "source": [
    "overlay_tracts_borders(shapes.loc[1:1], tracts, borders)"
   ]
  },
  {
   "cell_type": "markdown",
   "id": "94594494-8b30-4d99-a0ae-3664550fcc91",
   "metadata": {
    "tags": []
   },
   "source": [
    "### Whittier example \n",
    "\n",
    "987fd928878a31c5fa38c91903cd81ed"
   ]
  },
  {
   "cell_type": "code",
   "execution_count": 50,
   "id": "ce9ec1fc-bc6f-4d82-9953-38b17427b160",
   "metadata": {
    "tags": []
   },
   "outputs": [],
   "source": [
    "whittier_new = overlay_tracts_borders(shapes.query('shape_array_key == \"987fd928878a31c5fa38c91903cd81ed\"'),\n",
    "                                      tracts,\n",
    "                                      borders)"
   ]
  },
  {
   "cell_type": "markdown",
   "id": "048e0244-97c9-49d4-b60f-c47be31645b7",
   "metadata": {
    "tags": []
   },
   "source": [
    "shapes can leave and re-enter tracts, need to handle.\n",
    "\n",
    "* some short segments can be dropped \n",
    "* longer ones should be preserved and given unique ids..."
   ]
  },
  {
   "cell_type": "code",
   "execution_count": 59,
   "id": "47beabc2-9473-4af4-a412-cf776e0a43d1",
   "metadata": {
    "tags": []
   },
   "outputs": [],
   "source": [
    "# whittier_new.reset_index().explore(column='tsi_segment_id')"
   ]
  },
  {
   "cell_type": "markdown",
   "id": "cb9ef4c7-8e39-4a7a-998f-5ecdfbdd7539",
   "metadata": {
    "tags": []
   },
   "source": [
    "### continue"
   ]
  },
  {
   "cell_type": "code",
   "execution_count": null,
   "id": "1622602c-899f-4ace-bc37-3eae43bd6e2f",
   "metadata": {
    "tags": []
   },
   "outputs": [],
   "source": [
    "%%time\n",
    "#  36.1sec with query short\n",
    "bigtest = shapes.head(50).groupby('shape_array_key').apply(overlay_tracts_borders, tract_gdf=tracts, border_gdf=borders).reset_index(drop=True)"
   ]
  },
  {
   "cell_type": "code",
   "execution_count": null,
   "id": "158d3ecc-1def-4345-99e1-dbc6782000bb",
   "metadata": {
    "tags": []
   },
   "outputs": [],
   "source": [
    "#  would take ~45min for all, not great not terrible\n",
    "shapes.shape"
   ]
  },
  {
   "cell_type": "markdown",
   "id": "3dc9e317-d64a-4c65-ab7a-665c747fee56",
   "metadata": {},
   "source": [
    "## Alameda County test?"
   ]
  },
  {
   "cell_type": "code",
   "execution_count": 52,
   "id": "5336bd70-50fd-44c9-811b-6a3ecdec5f76",
   "metadata": {
    "tags": []
   },
   "outputs": [],
   "source": [
    "counties = gpd.read_file('./counties.geojson')"
   ]
  },
  {
   "cell_type": "code",
   "execution_count": 53,
   "id": "18ab3b7b-c68c-4bac-8564-c3fd9dd7e417",
   "metadata": {
    "tags": []
   },
   "outputs": [],
   "source": [
    "alameda = counties[:1].to_crs(shapes.crs)"
   ]
  },
  {
   "cell_type": "code",
   "execution_count": 54,
   "id": "35f20f7c-5678-41e8-87fb-3cd806076af8",
   "metadata": {
    "tags": []
   },
   "outputs": [],
   "source": [
    "alameda_shapes = shapes.clip(alameda.geometry.iloc[0], keep_geom_type=True)"
   ]
  },
  {
   "cell_type": "code",
   "execution_count": 58,
   "id": "f648ec1d-f90d-421b-ae1d-eb2c0f45ca1c",
   "metadata": {
    "tags": []
   },
   "outputs": [],
   "source": [
    "# alameda_shapes.explore()"
   ]
  },
  {
   "cell_type": "code",
   "execution_count": 56,
   "id": "1aa0648b-0105-4416-a036-d9ef48357d1e",
   "metadata": {
    "tags": []
   },
   "outputs": [],
   "source": [
    "from tqdm import tqdm\n",
    "tqdm.pandas(desc=\"Progress\")"
   ]
  },
  {
   "cell_type": "code",
   "execution_count": 57,
   "id": "87f12ae7-9949-4917-9139-4e2dc6e98a7f",
   "metadata": {
    "tags": []
   },
   "outputs": [
    {
     "name": "stderr",
     "output_type": "stream",
     "text": [
      "Progress: 100%|██████████| 514/514 [06:52<00:00,  1.25it/s]\n"
     ]
    }
   ],
   "source": [
    "alameda = (alameda_shapes\n",
    "           .groupby('shape_array_key')\n",
    "           .progress_apply(overlay_tracts_borders, tract_gdf=tracts, border_gdf=borders)\n",
    "           .reset_index(drop=True)\n",
    "          )"
   ]
  },
  {
   "cell_type": "code",
   "execution_count": null,
   "id": "885019d2-5c83-48b5-b797-2556b6dbf30b",
   "metadata": {
    "tags": []
   },
   "outputs": [],
   "source": [
    "m = borders.clip(alameda.buffer(3000)).explore()"
   ]
  },
  {
   "cell_type": "code",
   "execution_count": null,
   "id": "4837df61-e5af-4924-b28d-5eeee7080e87",
   "metadata": {
    "tags": []
   },
   "outputs": [],
   "source": [
    "alameda.explore(column='tsi_segment_id', m=m)"
   ]
  },
  {
   "cell_type": "markdown",
   "id": "a820a4ae-a7d1-4b08-8668-85a2a5782c58",
   "metadata": {},
   "source": [
    "### is dask faster here?"
   ]
  },
  {
   "cell_type": "code",
   "execution_count": null,
   "id": "b5a664c1-9cd6-4bc9-9cef-e4ce946fb106",
   "metadata": {},
   "outputs": [],
   "source": [
    "import dask.dataframe as dd\n",
    "import dask_geopandas as dg"
   ]
  },
  {
   "cell_type": "code",
   "execution_count": null,
   "id": "aaff36bd-9d1c-4ab2-9085-edf483220654",
   "metadata": {
    "tags": []
   },
   "outputs": [],
   "source": [
    "alameda.to_parquet(f'test_tracts_borders_{analysis_date}.parquet')"
   ]
  }
 ],
 "metadata": {
  "kernelspec": {
   "display_name": "Python 3 (ipykernel)",
   "language": "python",
   "name": "python3"
  },
  "language_info": {
   "codemirror_mode": {
    "name": "ipython",
    "version": 3
   },
   "file_extension": ".py",
   "mimetype": "text/x-python",
   "name": "python",
   "nbconvert_exporter": "python",
   "pygments_lexer": "ipython3",
   "version": "3.11.10"
  },
  "widgets": {
   "application/vnd.jupyter.widget-state+json": {
    "state": {},
    "version_major": 2,
    "version_minor": 0
   }
  }
 },
 "nbformat": 4,
 "nbformat_minor": 5
}
