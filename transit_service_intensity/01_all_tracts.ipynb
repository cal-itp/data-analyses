{
 "cells": [
  {
   "cell_type": "code",
   "execution_count": 1,
   "id": "9e645c63-24e5-466f-8f20-279614c1d767",
   "metadata": {},
   "outputs": [],
   "source": [
    "import sys"
   ]
  },
  {
   "cell_type": "code",
   "execution_count": 2,
   "id": "4f3eb58f-9663-4867-a5c2-2ed658cd4c0d",
   "metadata": {},
   "outputs": [],
   "source": [
    "import intake\n",
    "import pandas as pd\n",
    "import geopandas as gpd\n",
    "from calitp_data_analysis import geography_utils\n",
    "from siuba import *\n",
    "import shapely"
   ]
  },
  {
   "cell_type": "code",
   "execution_count": 3,
   "id": "dbc34a06-4993-426d-8e6e-99b9cd447222",
   "metadata": {},
   "outputs": [],
   "source": [
    "from shared_utils import catalog_utils, rt_dates\n",
    "GTFS_DATA_DICT = catalog_utils.get_catalog(\"gtfs_analytics_data\")"
   ]
  },
  {
   "cell_type": "code",
   "execution_count": 4,
   "id": "815cb9ed-e7dd-4a8f-9830-917101668c45",
   "metadata": {},
   "outputs": [],
   "source": [
    "from segment_speed_utils import helpers\n",
    "import uuid"
   ]
  },
  {
   "cell_type": "code",
   "execution_count": 5,
   "id": "8d9d9439-70a0-4238-86f7-5d04b039c559",
   "metadata": {},
   "outputs": [],
   "source": [
    "from update_vars import ANALYSIS_DATE, BORDER_BUFFER_METERS"
   ]
  },
  {
   "cell_type": "markdown",
   "id": "afe82e80-7c93-43ed-a32a-5c3daed646eb",
   "metadata": {},
   "source": [
    "# Exploratory Analysis\n",
    "\n",
    "Start working on how to identify and count \"border zones\" where transit runs along Census Tract boundaries and VRH/VRM should be split accordingly (avoiding double-counting or arbitrary allocation to only one border tract)"
   ]
  },
  {
   "cell_type": "code",
   "execution_count": 6,
   "id": "0472c5ab-e469-4f36-821b-43920b9570a6",
   "metadata": {},
   "outputs": [],
   "source": [
    "catalog = intake.open_catalog(\"*.yml\")"
   ]
  },
  {
   "cell_type": "code",
   "execution_count": 7,
   "id": "0d6185dd-7140-4eb0-abb7-90d36522e647",
   "metadata": {},
   "outputs": [],
   "source": [
    "def read_census_tracts(\n",
    "    crs: str = geography_utils.CA_NAD83Albers_m,\n",
    "    cols: list = [\"Tract\", \"pop_sq_mi\", \"geometry\"]\n",
    ") -> gpd.GeoDataFrame:\n",
    "    census_tracts = (\n",
    "        catalog.calenviroscreen_lehd_by_tract.read()\n",
    "        .to_crs(crs)\n",
    "        [cols]\n",
    "    ).rename(columns={'Tract':'tract'})\n",
    "    return census_tracts"
   ]
  },
  {
   "cell_type": "code",
   "execution_count": 8,
   "id": "822430c6-9c7b-48e6-a3a8-3d0d682ba40b",
   "metadata": {},
   "outputs": [],
   "source": [
    "tracts = read_census_tracts(cols=['Tract', 'geometry'])"
   ]
  },
  {
   "cell_type": "code",
   "execution_count": 9,
   "id": "88ce1f77-4690-4be6-8568-37f05ae06b81",
   "metadata": {},
   "outputs": [],
   "source": [
    "shapes = helpers.import_scheduled_shapes(ANALYSIS_DATE)"
   ]
  },
  {
   "cell_type": "code",
   "execution_count": 10,
   "id": "6726ec66-f9fa-4a7c-b7c0-0bda39b9ed98",
   "metadata": {},
   "outputs": [],
   "source": [
    "# shapes.explore()"
   ]
  },
  {
   "cell_type": "markdown",
   "id": "aaab185a-d981-4bf3-a27c-49bdfb86611f",
   "metadata": {},
   "source": [
    "## find borders\n",
    "\n",
    "note this generates random ids, parquet file should stay static for entire workflow"
   ]
  },
  {
   "cell_type": "code",
   "execution_count": 11,
   "id": "c60f91fe-c146-466b-ae8d-cd860e3c7173",
   "metadata": {},
   "outputs": [],
   "source": [
    "def intersection_hash(row):\n",
    "    '''\n",
    "    Get unique hash of intersection zones.\n",
    "    No need to keep both t1 x t2 and t2 x t1\n",
    "    '''\n",
    "    t1 = int(row.tract_1[2:]) #  drop state code\n",
    "    t2 = int(row.tract_2[2:])\n",
    "    row_tracts = [t1, t2]\n",
    "    row_tracts.sort() #  modifies inplace\n",
    "    return hash(tuple(row_tracts))"
   ]
  },
  {
   "cell_type": "code",
   "execution_count": 12,
   "id": "23795016-ef7f-45eb-8855-a78ca14bbd72",
   "metadata": {
    "tags": []
   },
   "outputs": [],
   "source": [
    "def find_borders(tracts_gdf: gpd.GeoDataFrame,\n",
    "                border_buffer: int = BORDER_BUFFER_METERS\n",
    ") -> gpd.GeoDataFrame:\n",
    "    '''\n",
    "    '''\n",
    "    tracts_gdf = tracts_gdf.copy()\n",
    "    tracts_gdf.geometry = tracts_gdf.buffer(border_buffer)\n",
    "    borders = gpd.overlay(tracts_gdf, tracts_gdf)\n",
    "    borders = borders[borders['tract_1'] != borders['tract_2']]\n",
    "    # for dropping mirrored borders\n",
    "    borders['intersection_hash'] = borders.apply(intersection_hash, axis=1)\n",
    "    borders = borders.drop_duplicates(subset=['intersection_hash'])\n",
    "    # for more elegant tracking\n",
    "    borders['intersection_id'] = [str(uuid.uuid4()) for _ in range(borders.shape[0])] \n",
    "    return borders"
   ]
  },
  {
   "cell_type": "code",
   "execution_count": 13,
   "id": "1281a0e5-8511-4283-bafa-51eaf1a5828f",
   "metadata": {},
   "outputs": [
    {
     "name": "stdout",
     "output_type": "stream",
     "text": [
      "CPU times: user 29.3 s, sys: 1.09 s, total: 30.4 s\n",
      "Wall time: 32 s\n"
     ]
    }
   ],
   "source": [
    "%%time\n",
    "\n",
    "borders = find_borders(tracts)"
   ]
  },
  {
   "cell_type": "code",
   "execution_count": 14,
   "id": "42426211-5132-4ae6-9666-c2967b22875c",
   "metadata": {
    "tags": []
   },
   "outputs": [],
   "source": [
    "# border_cols = ['tract_1', 'tract_2', 'geometry', 'intersection_id']\n",
    "# borders = gpd.read_parquet('./test_tracts_borders_2025-02-12.parquet').query('border')[border_cols]"
   ]
  },
  {
   "cell_type": "markdown",
   "id": "85791782-ec3a-498e-ae9d-bfb6e472d815",
   "metadata": {},
   "source": [
    "## shape - stops - tracts"
   ]
  },
  {
   "cell_type": "code",
   "execution_count": 18,
   "id": "f0e664ab-6e42-4f33-a4f3-886dbec1d51c",
   "metadata": {
    "tags": []
   },
   "outputs": [],
   "source": [
    "st = helpers.import_scheduled_stop_times(analysis_date=ANALYSIS_DATE, columns=['feed_key', 'trip_id', 'stop_id'], get_pandas=True)"
   ]
  },
  {
   "cell_type": "code",
   "execution_count": 19,
   "id": "2cb17e44-e84e-4f58-9f83-368578a7b3e3",
   "metadata": {
    "tags": []
   },
   "outputs": [
    {
     "data": {
      "text/html": [
       "<div>\n",
       "<style scoped>\n",
       "    .dataframe tbody tr th:only-of-type {\n",
       "        vertical-align: middle;\n",
       "    }\n",
       "\n",
       "    .dataframe tbody tr th {\n",
       "        vertical-align: top;\n",
       "    }\n",
       "\n",
       "    .dataframe thead th {\n",
       "        text-align: right;\n",
       "    }\n",
       "</style>\n",
       "<table border=\"1\" class=\"dataframe\">\n",
       "  <thead>\n",
       "    <tr style=\"text-align: right;\">\n",
       "      <th></th>\n",
       "      <th>feed_key</th>\n",
       "      <th>trip_id</th>\n",
       "      <th>stop_id</th>\n",
       "    </tr>\n",
       "  </thead>\n",
       "  <tbody>\n",
       "    <tr>\n",
       "      <th>0</th>\n",
       "      <td>c449de8670d10a7cfbef52dfdeadd9cf</td>\n",
       "      <td>467290</td>\n",
       "      <td>133414</td>\n",
       "    </tr>\n",
       "    <tr>\n",
       "      <th>1</th>\n",
       "      <td>c449de8670d10a7cfbef52dfdeadd9cf</td>\n",
       "      <td>467240</td>\n",
       "      <td>133394</td>\n",
       "    </tr>\n",
       "    <tr>\n",
       "      <th>2</th>\n",
       "      <td>c449de8670d10a7cfbef52dfdeadd9cf</td>\n",
       "      <td>467237</td>\n",
       "      <td>133394</td>\n",
       "    </tr>\n",
       "    <tr>\n",
       "      <th>3</th>\n",
       "      <td>c449de8670d10a7cfbef52dfdeadd9cf</td>\n",
       "      <td>467286</td>\n",
       "      <td>133414</td>\n",
       "    </tr>\n",
       "    <tr>\n",
       "      <th>4</th>\n",
       "      <td>c449de8670d10a7cfbef52dfdeadd9cf</td>\n",
       "      <td>467227</td>\n",
       "      <td>133394</td>\n",
       "    </tr>\n",
       "    <tr>\n",
       "      <th>...</th>\n",
       "      <td>...</td>\n",
       "      <td>...</td>\n",
       "      <td>...</td>\n",
       "    </tr>\n",
       "    <tr>\n",
       "      <th>3425873</th>\n",
       "      <td>d3373db615f3b34bc4fb0aee1e29c2a3</td>\n",
       "      <td>t_5548041_b_83500_tn_1</td>\n",
       "      <td>17646</td>\n",
       "    </tr>\n",
       "    <tr>\n",
       "      <th>3425874</th>\n",
       "      <td>d3373db615f3b34bc4fb0aee1e29c2a3</td>\n",
       "      <td>t_5548041_b_83500_tn_2</td>\n",
       "      <td>3449055</td>\n",
       "    </tr>\n",
       "    <tr>\n",
       "      <th>3425875</th>\n",
       "      <td>d3373db615f3b34bc4fb0aee1e29c2a3</td>\n",
       "      <td>t_5548041_b_83500_tn_1</td>\n",
       "      <td>3449063</td>\n",
       "    </tr>\n",
       "    <tr>\n",
       "      <th>3425876</th>\n",
       "      <td>d3373db615f3b34bc4fb0aee1e29c2a3</td>\n",
       "      <td>t_5548041_b_83500_tn_1</td>\n",
       "      <td>3449068</td>\n",
       "    </tr>\n",
       "    <tr>\n",
       "      <th>3425877</th>\n",
       "      <td>d3373db615f3b34bc4fb0aee1e29c2a3</td>\n",
       "      <td>t_5548042_b_83500_tn_2</td>\n",
       "      <td>4147958</td>\n",
       "    </tr>\n",
       "  </tbody>\n",
       "</table>\n",
       "<p>3425878 rows × 3 columns</p>\n",
       "</div>"
      ],
      "text/plain": [
       "                                 feed_key                 trip_id  stop_id\n",
       "0        c449de8670d10a7cfbef52dfdeadd9cf                  467290   133414\n",
       "1        c449de8670d10a7cfbef52dfdeadd9cf                  467240   133394\n",
       "2        c449de8670d10a7cfbef52dfdeadd9cf                  467237   133394\n",
       "3        c449de8670d10a7cfbef52dfdeadd9cf                  467286   133414\n",
       "4        c449de8670d10a7cfbef52dfdeadd9cf                  467227   133394\n",
       "...                                   ...                     ...      ...\n",
       "3425873  d3373db615f3b34bc4fb0aee1e29c2a3  t_5548041_b_83500_tn_1    17646\n",
       "3425874  d3373db615f3b34bc4fb0aee1e29c2a3  t_5548041_b_83500_tn_2  3449055\n",
       "3425875  d3373db615f3b34bc4fb0aee1e29c2a3  t_5548041_b_83500_tn_1  3449063\n",
       "3425876  d3373db615f3b34bc4fb0aee1e29c2a3  t_5548041_b_83500_tn_1  3449068\n",
       "3425877  d3373db615f3b34bc4fb0aee1e29c2a3  t_5548042_b_83500_tn_2  4147958\n",
       "\n",
       "[3425878 rows x 3 columns]"
      ]
     },
     "execution_count": 19,
     "metadata": {},
     "output_type": "execute_result"
    }
   ],
   "source": [
    "st"
   ]
  },
  {
   "cell_type": "code",
   "execution_count": 20,
   "id": "a91717dc-b997-45cb-8128-b7c6f2517d0c",
   "metadata": {
    "tags": []
   },
   "outputs": [],
   "source": [
    "trips = helpers.import_scheduled_trips(ANALYSIS_DATE, columns=['shape_array_key', 'trip_id', 'feed_key'])"
   ]
  },
  {
   "cell_type": "code",
   "execution_count": 21,
   "id": "2d3f04f2-7cc4-42ec-aac3-805a5b7c8ba4",
   "metadata": {
    "tags": []
   },
   "outputs": [
    {
     "data": {
      "text/html": [
       "<div>\n",
       "<style scoped>\n",
       "    .dataframe tbody tr th:only-of-type {\n",
       "        vertical-align: middle;\n",
       "    }\n",
       "\n",
       "    .dataframe tbody tr th {\n",
       "        vertical-align: top;\n",
       "    }\n",
       "\n",
       "    .dataframe thead th {\n",
       "        text-align: right;\n",
       "    }\n",
       "</style>\n",
       "<table border=\"1\" class=\"dataframe\">\n",
       "  <thead>\n",
       "    <tr style=\"text-align: right;\">\n",
       "      <th></th>\n",
       "      <th>shape_array_key</th>\n",
       "      <th>trip_id</th>\n",
       "      <th>feed_key</th>\n",
       "    </tr>\n",
       "  </thead>\n",
       "  <tbody>\n",
       "    <tr>\n",
       "      <th>0</th>\n",
       "      <td>35a6b609da2e404abbebdf6603dd96c3</td>\n",
       "      <td>ROUTEA|18766535:T7|10:30:00</td>\n",
       "      <td>321d2312b1e4b8887bbf20eda99c1bf5</td>\n",
       "    </tr>\n",
       "    <tr>\n",
       "      <th>1</th>\n",
       "      <td>35a6b609da2e404abbebdf6603dd96c3</td>\n",
       "      <td>ROUTEA|18766535:T20|17:30:00</td>\n",
       "      <td>321d2312b1e4b8887bbf20eda99c1bf5</td>\n",
       "    </tr>\n",
       "    <tr>\n",
       "      <th>2</th>\n",
       "      <td>35a6b609da2e404abbebdf6603dd96c3</td>\n",
       "      <td>ROUTEA|18766535:T14|14:00:00</td>\n",
       "      <td>321d2312b1e4b8887bbf20eda99c1bf5</td>\n",
       "    </tr>\n",
       "    <tr>\n",
       "      <th>3</th>\n",
       "      <td>35a6b609da2e404abbebdf6603dd96c3</td>\n",
       "      <td>ROUTEA|18766535:T12|13:00:00</td>\n",
       "      <td>321d2312b1e4b8887bbf20eda99c1bf5</td>\n",
       "    </tr>\n",
       "    <tr>\n",
       "      <th>4</th>\n",
       "      <td>35a6b609da2e404abbebdf6603dd96c3</td>\n",
       "      <td>ROUTEA|18766535:T21|18:00:00</td>\n",
       "      <td>321d2312b1e4b8887bbf20eda99c1bf5</td>\n",
       "    </tr>\n",
       "    <tr>\n",
       "      <th>...</th>\n",
       "      <td>...</td>\n",
       "      <td>...</td>\n",
       "      <td>...</td>\n",
       "    </tr>\n",
       "    <tr>\n",
       "      <th>95529</th>\n",
       "      <td>None</td>\n",
       "      <td>294200134</td>\n",
       "      <td>c38789e6ea2280c459f71931e0333e00</td>\n",
       "    </tr>\n",
       "    <tr>\n",
       "      <th>95530</th>\n",
       "      <td>None</td>\n",
       "      <td>233003849</td>\n",
       "      <td>c38789e6ea2280c459f71931e0333e00</td>\n",
       "    </tr>\n",
       "    <tr>\n",
       "      <th>95531</th>\n",
       "      <td>None</td>\n",
       "      <td>233003803</td>\n",
       "      <td>c38789e6ea2280c459f71931e0333e00</td>\n",
       "    </tr>\n",
       "    <tr>\n",
       "      <th>95532</th>\n",
       "      <td>None</td>\n",
       "      <td>233003830</td>\n",
       "      <td>c38789e6ea2280c459f71931e0333e00</td>\n",
       "    </tr>\n",
       "    <tr>\n",
       "      <th>95533</th>\n",
       "      <td>None</td>\n",
       "      <td>200090206</td>\n",
       "      <td>c38789e6ea2280c459f71931e0333e00</td>\n",
       "    </tr>\n",
       "  </tbody>\n",
       "</table>\n",
       "<p>95534 rows × 3 columns</p>\n",
       "</div>"
      ],
      "text/plain": [
       "                        shape_array_key                       trip_id  \\\n",
       "0      35a6b609da2e404abbebdf6603dd96c3   ROUTEA|18766535:T7|10:30:00   \n",
       "1      35a6b609da2e404abbebdf6603dd96c3  ROUTEA|18766535:T20|17:30:00   \n",
       "2      35a6b609da2e404abbebdf6603dd96c3  ROUTEA|18766535:T14|14:00:00   \n",
       "3      35a6b609da2e404abbebdf6603dd96c3  ROUTEA|18766535:T12|13:00:00   \n",
       "4      35a6b609da2e404abbebdf6603dd96c3  ROUTEA|18766535:T21|18:00:00   \n",
       "...                                 ...                           ...   \n",
       "95529                              None                     294200134   \n",
       "95530                              None                     233003849   \n",
       "95531                              None                     233003803   \n",
       "95532                              None                     233003830   \n",
       "95533                              None                     200090206   \n",
       "\n",
       "                               feed_key  \n",
       "0      321d2312b1e4b8887bbf20eda99c1bf5  \n",
       "1      321d2312b1e4b8887bbf20eda99c1bf5  \n",
       "2      321d2312b1e4b8887bbf20eda99c1bf5  \n",
       "3      321d2312b1e4b8887bbf20eda99c1bf5  \n",
       "4      321d2312b1e4b8887bbf20eda99c1bf5  \n",
       "...                                 ...  \n",
       "95529  c38789e6ea2280c459f71931e0333e00  \n",
       "95530  c38789e6ea2280c459f71931e0333e00  \n",
       "95531  c38789e6ea2280c459f71931e0333e00  \n",
       "95532  c38789e6ea2280c459f71931e0333e00  \n",
       "95533  c38789e6ea2280c459f71931e0333e00  \n",
       "\n",
       "[95534 rows x 3 columns]"
      ]
     },
     "execution_count": 21,
     "metadata": {},
     "output_type": "execute_result"
    }
   ],
   "source": [
    "trips"
   ]
  },
  {
   "cell_type": "code",
   "execution_count": 22,
   "id": "4e3e94d7-4c2a-4c58-87a1-f1345e2e15a2",
   "metadata": {
    "tags": []
   },
   "outputs": [],
   "source": [
    "stops = helpers.import_scheduled_stops(ANALYSIS_DATE, columns=['feed_key', 'stop_id', 'geometry'])"
   ]
  },
  {
   "cell_type": "code",
   "execution_count": 23,
   "id": "771717c6-8966-46fc-ba20-10736d703336",
   "metadata": {
    "tags": []
   },
   "outputs": [
    {
     "data": {
      "text/html": [
       "<div>\n",
       "<style scoped>\n",
       "    .dataframe tbody tr th:only-of-type {\n",
       "        vertical-align: middle;\n",
       "    }\n",
       "\n",
       "    .dataframe tbody tr th {\n",
       "        vertical-align: top;\n",
       "    }\n",
       "\n",
       "    .dataframe thead th {\n",
       "        text-align: right;\n",
       "    }\n",
       "</style>\n",
       "<table border=\"1\" class=\"dataframe\">\n",
       "  <thead>\n",
       "    <tr style=\"text-align: right;\">\n",
       "      <th></th>\n",
       "      <th>feed_key</th>\n",
       "      <th>stop_id</th>\n",
       "      <th>geometry</th>\n",
       "    </tr>\n",
       "  </thead>\n",
       "  <tbody>\n",
       "    <tr>\n",
       "      <th>0</th>\n",
       "      <td>d5641b157f9383ebb194116b871208e9</td>\n",
       "      <td>2454529</td>\n",
       "      <td>POINT (68222.556 -249293.200)</td>\n",
       "    </tr>\n",
       "    <tr>\n",
       "      <th>1</th>\n",
       "      <td>d5641b157f9383ebb194116b871208e9</td>\n",
       "      <td>2454531</td>\n",
       "      <td>POINT (70131.510 -247940.932)</td>\n",
       "    </tr>\n",
       "    <tr>\n",
       "      <th>2</th>\n",
       "      <td>d5641b157f9383ebb194116b871208e9</td>\n",
       "      <td>2454532</td>\n",
       "      <td>POINT (70137.955 -248790.460)</td>\n",
       "    </tr>\n",
       "    <tr>\n",
       "      <th>3</th>\n",
       "      <td>d5641b157f9383ebb194116b871208e9</td>\n",
       "      <td>2454533</td>\n",
       "      <td>POINT (69847.815 -249922.846)</td>\n",
       "    </tr>\n",
       "    <tr>\n",
       "      <th>4</th>\n",
       "      <td>d5641b157f9383ebb194116b871208e9</td>\n",
       "      <td>2454540</td>\n",
       "      <td>POINT (67376.416 -249934.064)</td>\n",
       "    </tr>\n",
       "    <tr>\n",
       "      <th>...</th>\n",
       "      <td>...</td>\n",
       "      <td>...</td>\n",
       "      <td>...</td>\n",
       "    </tr>\n",
       "    <tr>\n",
       "      <th>86166</th>\n",
       "      <td>5b1ac339ae665dd383c71a323b54b6f4</td>\n",
       "      <td>3981512</td>\n",
       "      <td>POINT (-112051.953 79929.086)</td>\n",
       "    </tr>\n",
       "    <tr>\n",
       "      <th>86167</th>\n",
       "      <td>5b1ac339ae665dd383c71a323b54b6f4</td>\n",
       "      <td>3984032</td>\n",
       "      <td>POINT (-110345.059 84721.417)</td>\n",
       "    </tr>\n",
       "    <tr>\n",
       "      <th>86168</th>\n",
       "      <td>5b1ac339ae665dd383c71a323b54b6f4</td>\n",
       "      <td>3984315</td>\n",
       "      <td>POINT (-109875.719 82010.645)</td>\n",
       "    </tr>\n",
       "    <tr>\n",
       "      <th>86169</th>\n",
       "      <td>5b1ac339ae665dd383c71a323b54b6f4</td>\n",
       "      <td>5617018</td>\n",
       "      <td>POINT (-115289.026 86803.984)</td>\n",
       "    </tr>\n",
       "    <tr>\n",
       "      <th>86170</th>\n",
       "      <td>5b1ac339ae665dd383c71a323b54b6f4</td>\n",
       "      <td>8146988</td>\n",
       "      <td>POINT (-110342.499 84718.370)</td>\n",
       "    </tr>\n",
       "  </tbody>\n",
       "</table>\n",
       "<p>86171 rows × 3 columns</p>\n",
       "</div>"
      ],
      "text/plain": [
       "                               feed_key  stop_id  \\\n",
       "0      d5641b157f9383ebb194116b871208e9  2454529   \n",
       "1      d5641b157f9383ebb194116b871208e9  2454531   \n",
       "2      d5641b157f9383ebb194116b871208e9  2454532   \n",
       "3      d5641b157f9383ebb194116b871208e9  2454533   \n",
       "4      d5641b157f9383ebb194116b871208e9  2454540   \n",
       "...                                 ...      ...   \n",
       "86166  5b1ac339ae665dd383c71a323b54b6f4  3981512   \n",
       "86167  5b1ac339ae665dd383c71a323b54b6f4  3984032   \n",
       "86168  5b1ac339ae665dd383c71a323b54b6f4  3984315   \n",
       "86169  5b1ac339ae665dd383c71a323b54b6f4  5617018   \n",
       "86170  5b1ac339ae665dd383c71a323b54b6f4  8146988   \n",
       "\n",
       "                            geometry  \n",
       "0      POINT (68222.556 -249293.200)  \n",
       "1      POINT (70131.510 -247940.932)  \n",
       "2      POINT (70137.955 -248790.460)  \n",
       "3      POINT (69847.815 -249922.846)  \n",
       "4      POINT (67376.416 -249934.064)  \n",
       "...                              ...  \n",
       "86166  POINT (-112051.953 79929.086)  \n",
       "86167  POINT (-110345.059 84721.417)  \n",
       "86168  POINT (-109875.719 82010.645)  \n",
       "86169  POINT (-115289.026 86803.984)  \n",
       "86170  POINT (-110342.499 84718.370)  \n",
       "\n",
       "[86171 rows x 3 columns]"
      ]
     },
     "execution_count": 23,
     "metadata": {},
     "output_type": "execute_result"
    }
   ],
   "source": [
    "stops"
   ]
  },
  {
   "cell_type": "code",
   "execution_count": 24,
   "id": "536ed2d4-dcca-47dd-a60f-1e120ffa8dfb",
   "metadata": {
    "tags": []
   },
   "outputs": [],
   "source": [
    "shape_stops = (stops.merge(st, on = ['feed_key', 'stop_id'])\n",
    "     .merge(trips, on = ['feed_key', 'trip_id'])\n",
    "     .drop_duplicates(subset=['feed_key', 'shape_array_key', 'stop_id'])\n",
    "     .dropna()\n",
    ")"
   ]
  },
  {
   "cell_type": "code",
   "execution_count": 25,
   "id": "79f70888-cdc4-4817-b40e-1cb5e8c6a7e4",
   "metadata": {
    "tags": []
   },
   "outputs": [
    {
     "data": {
      "text/html": [
       "<div>\n",
       "<style scoped>\n",
       "    .dataframe tbody tr th:only-of-type {\n",
       "        vertical-align: middle;\n",
       "    }\n",
       "\n",
       "    .dataframe tbody tr th {\n",
       "        vertical-align: top;\n",
       "    }\n",
       "\n",
       "    .dataframe thead th {\n",
       "        text-align: right;\n",
       "    }\n",
       "</style>\n",
       "<table border=\"1\" class=\"dataframe\">\n",
       "  <thead>\n",
       "    <tr style=\"text-align: right;\">\n",
       "      <th></th>\n",
       "      <th>feed_key</th>\n",
       "      <th>stop_id</th>\n",
       "      <th>geometry</th>\n",
       "      <th>trip_id</th>\n",
       "      <th>shape_array_key</th>\n",
       "    </tr>\n",
       "  </thead>\n",
       "  <tbody>\n",
       "    <tr>\n",
       "      <th>0</th>\n",
       "      <td>d5641b157f9383ebb194116b871208e9</td>\n",
       "      <td>2454529</td>\n",
       "      <td>POINT (68222.556 -249293.200)</td>\n",
       "      <td>t_1239443_b_27223_tn_0</td>\n",
       "      <td>4f37f50041e453cbbca36fe708da0a44</td>\n",
       "    </tr>\n",
       "    <tr>\n",
       "      <th>1</th>\n",
       "      <td>d5641b157f9383ebb194116b871208e9</td>\n",
       "      <td>2454532</td>\n",
       "      <td>POINT (70137.955 -248790.460)</td>\n",
       "      <td>t_1239443_b_27223_tn_0</td>\n",
       "      <td>4f37f50041e453cbbca36fe708da0a44</td>\n",
       "    </tr>\n",
       "    <tr>\n",
       "      <th>2</th>\n",
       "      <td>d5641b157f9383ebb194116b871208e9</td>\n",
       "      <td>2454533</td>\n",
       "      <td>POINT (69847.815 -249922.846)</td>\n",
       "      <td>t_1239443_b_27223_tn_0</td>\n",
       "      <td>4f37f50041e453cbbca36fe708da0a44</td>\n",
       "    </tr>\n",
       "    <tr>\n",
       "      <th>3</th>\n",
       "      <td>d5641b157f9383ebb194116b871208e9</td>\n",
       "      <td>2618026</td>\n",
       "      <td>POINT (68125.899 -248814.568)</td>\n",
       "      <td>t_1239443_b_27223_tn_0</td>\n",
       "      <td>4f37f50041e453cbbca36fe708da0a44</td>\n",
       "    </tr>\n",
       "    <tr>\n",
       "      <th>4</th>\n",
       "      <td>d5641b157f9383ebb194116b871208e9</td>\n",
       "      <td>2639</td>\n",
       "      <td>POINT (68237.100 -248807.145)</td>\n",
       "      <td>t_1239443_b_27223_tn_0</td>\n",
       "      <td>4f37f50041e453cbbca36fe708da0a44</td>\n",
       "    </tr>\n",
       "    <tr>\n",
       "      <th>...</th>\n",
       "      <td>...</td>\n",
       "      <td>...</td>\n",
       "      <td>...</td>\n",
       "      <td>...</td>\n",
       "      <td>...</td>\n",
       "    </tr>\n",
       "    <tr>\n",
       "      <th>3288190</th>\n",
       "      <td>5b1ac339ae665dd383c71a323b54b6f4</td>\n",
       "      <td>3474734</td>\n",
       "      <td>POINT (-129663.020 63056.736)</td>\n",
       "      <td>9</td>\n",
       "      <td>41c77e184d3a070046324b61d2fd030c</td>\n",
       "    </tr>\n",
       "    <tr>\n",
       "      <th>3288191</th>\n",
       "      <td>5b1ac339ae665dd383c71a323b54b6f4</td>\n",
       "      <td>3474735</td>\n",
       "      <td>POINT (-129381.490 63054.873)</td>\n",
       "      <td>9</td>\n",
       "      <td>41c77e184d3a070046324b61d2fd030c</td>\n",
       "    </tr>\n",
       "    <tr>\n",
       "      <th>3288192</th>\n",
       "      <td>5b1ac339ae665dd383c71a323b54b6f4</td>\n",
       "      <td>3474736</td>\n",
       "      <td>POINT (-129278.370 63348.196)</td>\n",
       "      <td>9</td>\n",
       "      <td>41c77e184d3a070046324b61d2fd030c</td>\n",
       "    </tr>\n",
       "    <tr>\n",
       "      <th>3288193</th>\n",
       "      <td>5b1ac339ae665dd383c71a323b54b6f4</td>\n",
       "      <td>3475730</td>\n",
       "      <td>POINT (-130124.638 63598.521)</td>\n",
       "      <td>9</td>\n",
       "      <td>41c77e184d3a070046324b61d2fd030c</td>\n",
       "    </tr>\n",
       "    <tr>\n",
       "      <th>3288194</th>\n",
       "      <td>5b1ac339ae665dd383c71a323b54b6f4</td>\n",
       "      <td>3482837</td>\n",
       "      <td>POINT (-130354.422 63029.612)</td>\n",
       "      <td>9</td>\n",
       "      <td>41c77e184d3a070046324b61d2fd030c</td>\n",
       "    </tr>\n",
       "  </tbody>\n",
       "</table>\n",
       "<p>201548 rows × 5 columns</p>\n",
       "</div>"
      ],
      "text/plain": [
       "                                 feed_key  stop_id  \\\n",
       "0        d5641b157f9383ebb194116b871208e9  2454529   \n",
       "1        d5641b157f9383ebb194116b871208e9  2454532   \n",
       "2        d5641b157f9383ebb194116b871208e9  2454533   \n",
       "3        d5641b157f9383ebb194116b871208e9  2618026   \n",
       "4        d5641b157f9383ebb194116b871208e9     2639   \n",
       "...                                   ...      ...   \n",
       "3288190  5b1ac339ae665dd383c71a323b54b6f4  3474734   \n",
       "3288191  5b1ac339ae665dd383c71a323b54b6f4  3474735   \n",
       "3288192  5b1ac339ae665dd383c71a323b54b6f4  3474736   \n",
       "3288193  5b1ac339ae665dd383c71a323b54b6f4  3475730   \n",
       "3288194  5b1ac339ae665dd383c71a323b54b6f4  3482837   \n",
       "\n",
       "                              geometry                 trip_id  \\\n",
       "0        POINT (68222.556 -249293.200)  t_1239443_b_27223_tn_0   \n",
       "1        POINT (70137.955 -248790.460)  t_1239443_b_27223_tn_0   \n",
       "2        POINT (69847.815 -249922.846)  t_1239443_b_27223_tn_0   \n",
       "3        POINT (68125.899 -248814.568)  t_1239443_b_27223_tn_0   \n",
       "4        POINT (68237.100 -248807.145)  t_1239443_b_27223_tn_0   \n",
       "...                                ...                     ...   \n",
       "3288190  POINT (-129663.020 63056.736)                       9   \n",
       "3288191  POINT (-129381.490 63054.873)                       9   \n",
       "3288192  POINT (-129278.370 63348.196)                       9   \n",
       "3288193  POINT (-130124.638 63598.521)                       9   \n",
       "3288194  POINT (-130354.422 63029.612)                       9   \n",
       "\n",
       "                          shape_array_key  \n",
       "0        4f37f50041e453cbbca36fe708da0a44  \n",
       "1        4f37f50041e453cbbca36fe708da0a44  \n",
       "2        4f37f50041e453cbbca36fe708da0a44  \n",
       "3        4f37f50041e453cbbca36fe708da0a44  \n",
       "4        4f37f50041e453cbbca36fe708da0a44  \n",
       "...                                   ...  \n",
       "3288190  41c77e184d3a070046324b61d2fd030c  \n",
       "3288191  41c77e184d3a070046324b61d2fd030c  \n",
       "3288192  41c77e184d3a070046324b61d2fd030c  \n",
       "3288193  41c77e184d3a070046324b61d2fd030c  \n",
       "3288194  41c77e184d3a070046324b61d2fd030c  \n",
       "\n",
       "[201548 rows x 5 columns]"
      ]
     },
     "execution_count": 25,
     "metadata": {},
     "output_type": "execute_result"
    }
   ],
   "source": [
    "shape_stops"
   ]
  },
  {
   "cell_type": "code",
   "execution_count": 26,
   "id": "218d50ca-e95a-44a6-bc13-9a750043182a",
   "metadata": {
    "tags": []
   },
   "outputs": [
    {
     "data": {
      "text/html": [
       "<div>\n",
       "<style scoped>\n",
       "    .dataframe tbody tr th:only-of-type {\n",
       "        vertical-align: middle;\n",
       "    }\n",
       "\n",
       "    .dataframe tbody tr th {\n",
       "        vertical-align: top;\n",
       "    }\n",
       "\n",
       "    .dataframe thead th {\n",
       "        text-align: right;\n",
       "    }\n",
       "</style>\n",
       "<table border=\"1\" class=\"dataframe\">\n",
       "  <thead>\n",
       "    <tr style=\"text-align: right;\">\n",
       "      <th></th>\n",
       "      <th>tract</th>\n",
       "      <th>geometry</th>\n",
       "    </tr>\n",
       "  </thead>\n",
       "  <tbody>\n",
       "    <tr>\n",
       "      <th>0</th>\n",
       "      <td>06001400100</td>\n",
       "      <td>POLYGON ((-197090.096 -12468.283, -196909.112 ...</td>\n",
       "    </tr>\n",
       "    <tr>\n",
       "      <th>1</th>\n",
       "      <td>06001400200</td>\n",
       "      <td>POLYGON ((-196982.196 -15963.566, -196992.931 ...</td>\n",
       "    </tr>\n",
       "    <tr>\n",
       "      <th>2</th>\n",
       "      <td>06001400300</td>\n",
       "      <td>POLYGON ((-197350.929 -16712.642, -197950.200 ...</td>\n",
       "    </tr>\n",
       "    <tr>\n",
       "      <th>3</th>\n",
       "      <td>06001400400</td>\n",
       "      <td>POLYGON ((-197953.290 -16012.154, -197963.187 ...</td>\n",
       "    </tr>\n",
       "    <tr>\n",
       "      <th>4</th>\n",
       "      <td>06001400500</td>\n",
       "      <td>POLYGON ((-198589.270 -15822.210, -198703.192 ...</td>\n",
       "    </tr>\n",
       "    <tr>\n",
       "      <th>...</th>\n",
       "      <td>...</td>\n",
       "      <td>...</td>\n",
       "    </tr>\n",
       "    <tr>\n",
       "      <th>8030</th>\n",
       "      <td>06115040800</td>\n",
       "      <td>POLYGON ((-118271.694 119288.740, -117977.343 ...</td>\n",
       "    </tr>\n",
       "    <tr>\n",
       "      <th>8031</th>\n",
       "      <td>06115040901</td>\n",
       "      <td>POLYGON ((-112857.633 134628.595, -112795.165 ...</td>\n",
       "    </tr>\n",
       "    <tr>\n",
       "      <th>8032</th>\n",
       "      <td>06115040902</td>\n",
       "      <td>POLYGON ((-114108.120 127146.968, -114190.344 ...</td>\n",
       "    </tr>\n",
       "    <tr>\n",
       "      <th>8033</th>\n",
       "      <td>06115041000</td>\n",
       "      <td>POLYGON ((-118015.890 150723.763, -118020.386 ...</td>\n",
       "    </tr>\n",
       "    <tr>\n",
       "      <th>8034</th>\n",
       "      <td>06115041100</td>\n",
       "      <td>POLYGON ((-87348.800 176015.430, -87962.302 17...</td>\n",
       "    </tr>\n",
       "  </tbody>\n",
       "</table>\n",
       "<p>8035 rows × 2 columns</p>\n",
       "</div>"
      ],
      "text/plain": [
       "            tract                                           geometry\n",
       "0     06001400100  POLYGON ((-197090.096 -12468.283, -196909.112 ...\n",
       "1     06001400200  POLYGON ((-196982.196 -15963.566, -196992.931 ...\n",
       "2     06001400300  POLYGON ((-197350.929 -16712.642, -197950.200 ...\n",
       "3     06001400400  POLYGON ((-197953.290 -16012.154, -197963.187 ...\n",
       "4     06001400500  POLYGON ((-198589.270 -15822.210, -198703.192 ...\n",
       "...           ...                                                ...\n",
       "8030  06115040800  POLYGON ((-118271.694 119288.740, -117977.343 ...\n",
       "8031  06115040901  POLYGON ((-112857.633 134628.595, -112795.165 ...\n",
       "8032  06115040902  POLYGON ((-114108.120 127146.968, -114190.344 ...\n",
       "8033  06115041000  POLYGON ((-118015.890 150723.763, -118020.386 ...\n",
       "8034  06115041100  POLYGON ((-87348.800 176015.430, -87962.302 17...\n",
       "\n",
       "[8035 rows x 2 columns]"
      ]
     },
     "execution_count": 26,
     "metadata": {},
     "output_type": "execute_result"
    }
   ],
   "source": [
    "tracts"
   ]
  },
  {
   "cell_type": "code",
   "execution_count": 27,
   "id": "e599943e-39d9-4da1-a3af-91c0a70227bc",
   "metadata": {
    "tags": []
   },
   "outputs": [],
   "source": [
    "'''\n",
    "Transit service intensity analysis segments are cut by shape,\n",
    "and are each census tract and/or border zone that shape passes\n",
    "through.\n",
    "\n",
    "We'll count\n",
    "'''\n",
    "shape_stops_tracts_borders = (pd.concat([tracts, borders])\n",
    "                              .sjoin(shape_stops)\n",
    "                              .drop(columns='index_right')\n",
    "                             )"
   ]
  },
  {
   "cell_type": "code",
   "execution_count": 29,
   "id": "ea33f495-046f-402b-a3c3-0a2d450488f3",
   "metadata": {
    "tags": []
   },
   "outputs": [],
   "source": [
    "shape_stops_tracts_borders = shape_stops_tracts_borders.assign(tsi_segment_id = shape_stops_tracts_borders.tract.combine_first(\n",
    "                                                        shape_stops_tracts_borders.intersection_id).astype(str))"
   ]
  },
  {
   "cell_type": "code",
   "execution_count": 30,
   "id": "be76cc0f-f582-4309-b685-33d4ecb770bb",
   "metadata": {
    "tags": []
   },
   "outputs": [
    {
     "data": {
      "text/html": [
       "<div>\n",
       "<style scoped>\n",
       "    .dataframe tbody tr th:only-of-type {\n",
       "        vertical-align: middle;\n",
       "    }\n",
       "\n",
       "    .dataframe tbody tr th {\n",
       "        vertical-align: top;\n",
       "    }\n",
       "\n",
       "    .dataframe thead th {\n",
       "        text-align: right;\n",
       "    }\n",
       "</style>\n",
       "<table border=\"1\" class=\"dataframe\">\n",
       "  <thead>\n",
       "    <tr style=\"text-align: right;\">\n",
       "      <th></th>\n",
       "      <th>tract</th>\n",
       "      <th>geometry</th>\n",
       "      <th>tract_1</th>\n",
       "      <th>tract_2</th>\n",
       "      <th>intersection_hash</th>\n",
       "      <th>intersection_id</th>\n",
       "      <th>feed_key</th>\n",
       "      <th>stop_id</th>\n",
       "      <th>trip_id</th>\n",
       "      <th>shape_array_key</th>\n",
       "      <th>tsi_segment_id</th>\n",
       "    </tr>\n",
       "  </thead>\n",
       "  <tbody>\n",
       "    <tr>\n",
       "      <th>0</th>\n",
       "      <td>06001400100</td>\n",
       "      <td>POLYGON ((-197090.096 -12468.283, -196909.112 ...</td>\n",
       "      <td>NaN</td>\n",
       "      <td>NaN</td>\n",
       "      <td>NaN</td>\n",
       "      <td>NaN</td>\n",
       "      <td>35702a19aac0ed4d2a616627483d3850</td>\n",
       "      <td>51147</td>\n",
       "      <td>1588020</td>\n",
       "      <td>0d684221892280a974c02752a0b9d303</td>\n",
       "      <td>06001400100</td>\n",
       "    </tr>\n",
       "    <tr>\n",
       "      <th>1</th>\n",
       "      <td>NaN</td>\n",
       "      <td>POLYGON ((-196294.855 -15866.615, -196291.388 ...</td>\n",
       "      <td>06001404300</td>\n",
       "      <td>06001400100</td>\n",
       "      <td>8.101653e+17</td>\n",
       "      <td>f25c835d-38e3-4d7c-8988-8b7012f96b47</td>\n",
       "      <td>35702a19aac0ed4d2a616627483d3850</td>\n",
       "      <td>51147</td>\n",
       "      <td>1588020</td>\n",
       "      <td>0d684221892280a974c02752a0b9d303</td>\n",
       "      <td>f25c835d-38e3-4d7c-8988-8b7012f96b47</td>\n",
       "    </tr>\n",
       "    <tr>\n",
       "      <th>2</th>\n",
       "      <td>NaN</td>\n",
       "      <td>POLYGON ((-196332.808 -15913.026, -196332.893 ...</td>\n",
       "      <td>06001404400</td>\n",
       "      <td>06001400100</td>\n",
       "      <td>-6.603334e+18</td>\n",
       "      <td>0f1eaadc-a13d-472d-a851-b636bd10badb</td>\n",
       "      <td>35702a19aac0ed4d2a616627483d3850</td>\n",
       "      <td>51147</td>\n",
       "      <td>1588020</td>\n",
       "      <td>0d684221892280a974c02752a0b9d303</td>\n",
       "      <td>0f1eaadc-a13d-472d-a851-b636bd10badb</td>\n",
       "    </tr>\n",
       "    <tr>\n",
       "      <th>7</th>\n",
       "      <td>NaN</td>\n",
       "      <td>MULTIPOLYGON (((-197079.040 -15240.346, -19707...</td>\n",
       "      <td>06001423800</td>\n",
       "      <td>06001400100</td>\n",
       "      <td>-5.103019e+18</td>\n",
       "      <td>6b52dbea-18de-4739-b32c-61598b08985e</td>\n",
       "      <td>35702a19aac0ed4d2a616627483d3850</td>\n",
       "      <td>51147</td>\n",
       "      <td>1588020</td>\n",
       "      <td>0d684221892280a974c02752a0b9d303</td>\n",
       "      <td>6b52dbea-18de-4739-b32c-61598b08985e</td>\n",
       "    </tr>\n",
       "    <tr>\n",
       "      <th>15</th>\n",
       "      <td>NaN</td>\n",
       "      <td>POLYGON ((-196089.857 -16251.470, -196093.082 ...</td>\n",
       "      <td>06001404400</td>\n",
       "      <td>06001404300</td>\n",
       "      <td>-4.071748e+18</td>\n",
       "      <td>cedc479f-2ea0-4652-a968-a877af20d561</td>\n",
       "      <td>35702a19aac0ed4d2a616627483d3850</td>\n",
       "      <td>51147</td>\n",
       "      <td>1588020</td>\n",
       "      <td>0d684221892280a974c02752a0b9d303</td>\n",
       "      <td>cedc479f-2ea0-4652-a968-a877af20d561</td>\n",
       "    </tr>\n",
       "    <tr>\n",
       "      <th>...</th>\n",
       "      <td>...</td>\n",
       "      <td>...</td>\n",
       "      <td>...</td>\n",
       "      <td>...</td>\n",
       "      <td>...</td>\n",
       "      <td>...</td>\n",
       "      <td>...</td>\n",
       "      <td>...</td>\n",
       "      <td>...</td>\n",
       "      <td>...</td>\n",
       "      <td>...</td>\n",
       "    </tr>\n",
       "    <tr>\n",
       "      <th>57013</th>\n",
       "      <td>NaN</td>\n",
       "      <td>POLYGON ((-242941.808 60172.408, -242945.074 6...</td>\n",
       "      <td>06097153809</td>\n",
       "      <td>06097153808</td>\n",
       "      <td>-4.165722e+18</td>\n",
       "      <td>64627536-dc70-43ed-8ce9-33a9bac40cab</td>\n",
       "      <td>4dc9e5ea1a2d5ac834d6bcc93c83254d</td>\n",
       "      <td>7702560</td>\n",
       "      <td>t_5994474_b_84092_tn_0</td>\n",
       "      <td>4c93dc6b13c738ca399d091a8fd44505</td>\n",
       "      <td>64627536-dc70-43ed-8ce9-33a9bac40cab</td>\n",
       "    </tr>\n",
       "    <tr>\n",
       "      <th>57707</th>\n",
       "      <td>NaN</td>\n",
       "      <td>POLYGON ((-73972.409 -57074.849, -73975.286 -5...</td>\n",
       "      <td>06099003906</td>\n",
       "      <td>06099003904</td>\n",
       "      <td>-4.714898e+18</td>\n",
       "      <td>85311173-a79a-4bc5-a6f7-ca67cbb41672</td>\n",
       "      <td>4cbe18623bab13506da52cfb03a24f30</td>\n",
       "      <td>2615903</td>\n",
       "      <td>t_5661190_b_81021_tn_2</td>\n",
       "      <td>cbe609045f3ac3f246c2c2efff46a462</td>\n",
       "      <td>85311173-a79a-4bc5-a6f7-ca67cbb41672</td>\n",
       "    </tr>\n",
       "    <tr>\n",
       "      <th>58128</th>\n",
       "      <td>NaN</td>\n",
       "      <td>POLYGON ((59995.604 -190749.388, 59995.497 -19...</td>\n",
       "      <td>06107002004</td>\n",
       "      <td>06107002007</td>\n",
       "      <td>8.504465e+18</td>\n",
       "      <td>ef892d32-3fdb-497b-b16a-c0d1912e5eec</td>\n",
       "      <td>1b06e2f1dbde2e2da76c959139d13fa7</td>\n",
       "      <td>2307316</td>\n",
       "      <td>203110</td>\n",
       "      <td>4059698752c302621cdb4e06c8f55219</td>\n",
       "      <td>ef892d32-3fdb-497b-b16a-c0d1912e5eec</td>\n",
       "    </tr>\n",
       "    <tr>\n",
       "      <th>59671</th>\n",
       "      <td>NaN</td>\n",
       "      <td>POLYGON ((-152628.058 73311.947, -152629.124 7...</td>\n",
       "      <td>06113011204</td>\n",
       "      <td>06113011102</td>\n",
       "      <td>-2.870412e+18</td>\n",
       "      <td>1ab2f274-3c9e-48fb-a59e-bc7eda160e0c</td>\n",
       "      <td>fa57db7b7fe77b19416563c37c2d0250</td>\n",
       "      <td>23062</td>\n",
       "      <td>b5c30e00-3008-4640-a7dd-c868c587e434</td>\n",
       "      <td>d6ff73064f06763855e66235bf2ed335</td>\n",
       "      <td>1ab2f274-3c9e-48fb-a59e-bc7eda160e0c</td>\n",
       "    </tr>\n",
       "    <tr>\n",
       "      <th>59671</th>\n",
       "      <td>NaN</td>\n",
       "      <td>POLYGON ((-152628.058 73311.947, -152629.124 7...</td>\n",
       "      <td>06113011204</td>\n",
       "      <td>06113011102</td>\n",
       "      <td>-2.870412e+18</td>\n",
       "      <td>1ab2f274-3c9e-48fb-a59e-bc7eda160e0c</td>\n",
       "      <td>fa57db7b7fe77b19416563c37c2d0250</td>\n",
       "      <td>23062</td>\n",
       "      <td>dc6954dc-bd1b-4e35-befc-9408177ce8e8</td>\n",
       "      <td>d615a8414eecf8f8040c2711c46c27dc</td>\n",
       "      <td>1ab2f274-3c9e-48fb-a59e-bc7eda160e0c</td>\n",
       "    </tr>\n",
       "  </tbody>\n",
       "</table>\n",
       "<p>318018 rows × 11 columns</p>\n",
       "</div>"
      ],
      "text/plain": [
       "             tract                                           geometry  \\\n",
       "0      06001400100  POLYGON ((-197090.096 -12468.283, -196909.112 ...   \n",
       "1              NaN  POLYGON ((-196294.855 -15866.615, -196291.388 ...   \n",
       "2              NaN  POLYGON ((-196332.808 -15913.026, -196332.893 ...   \n",
       "7              NaN  MULTIPOLYGON (((-197079.040 -15240.346, -19707...   \n",
       "15             NaN  POLYGON ((-196089.857 -16251.470, -196093.082 ...   \n",
       "...            ...                                                ...   \n",
       "57013          NaN  POLYGON ((-242941.808 60172.408, -242945.074 6...   \n",
       "57707          NaN  POLYGON ((-73972.409 -57074.849, -73975.286 -5...   \n",
       "58128          NaN  POLYGON ((59995.604 -190749.388, 59995.497 -19...   \n",
       "59671          NaN  POLYGON ((-152628.058 73311.947, -152629.124 7...   \n",
       "59671          NaN  POLYGON ((-152628.058 73311.947, -152629.124 7...   \n",
       "\n",
       "           tract_1      tract_2  intersection_hash  \\\n",
       "0              NaN          NaN                NaN   \n",
       "1      06001404300  06001400100       8.101653e+17   \n",
       "2      06001404400  06001400100      -6.603334e+18   \n",
       "7      06001423800  06001400100      -5.103019e+18   \n",
       "15     06001404400  06001404300      -4.071748e+18   \n",
       "...            ...          ...                ...   \n",
       "57013  06097153809  06097153808      -4.165722e+18   \n",
       "57707  06099003906  06099003904      -4.714898e+18   \n",
       "58128  06107002004  06107002007       8.504465e+18   \n",
       "59671  06113011204  06113011102      -2.870412e+18   \n",
       "59671  06113011204  06113011102      -2.870412e+18   \n",
       "\n",
       "                            intersection_id                          feed_key  \\\n",
       "0                                       NaN  35702a19aac0ed4d2a616627483d3850   \n",
       "1      f25c835d-38e3-4d7c-8988-8b7012f96b47  35702a19aac0ed4d2a616627483d3850   \n",
       "2      0f1eaadc-a13d-472d-a851-b636bd10badb  35702a19aac0ed4d2a616627483d3850   \n",
       "7      6b52dbea-18de-4739-b32c-61598b08985e  35702a19aac0ed4d2a616627483d3850   \n",
       "15     cedc479f-2ea0-4652-a968-a877af20d561  35702a19aac0ed4d2a616627483d3850   \n",
       "...                                     ...                               ...   \n",
       "57013  64627536-dc70-43ed-8ce9-33a9bac40cab  4dc9e5ea1a2d5ac834d6bcc93c83254d   \n",
       "57707  85311173-a79a-4bc5-a6f7-ca67cbb41672  4cbe18623bab13506da52cfb03a24f30   \n",
       "58128  ef892d32-3fdb-497b-b16a-c0d1912e5eec  1b06e2f1dbde2e2da76c959139d13fa7   \n",
       "59671  1ab2f274-3c9e-48fb-a59e-bc7eda160e0c  fa57db7b7fe77b19416563c37c2d0250   \n",
       "59671  1ab2f274-3c9e-48fb-a59e-bc7eda160e0c  fa57db7b7fe77b19416563c37c2d0250   \n",
       "\n",
       "       stop_id                               trip_id  \\\n",
       "0        51147                               1588020   \n",
       "1        51147                               1588020   \n",
       "2        51147                               1588020   \n",
       "7        51147                               1588020   \n",
       "15       51147                               1588020   \n",
       "...        ...                                   ...   \n",
       "57013  7702560                t_5994474_b_84092_tn_0   \n",
       "57707  2615903                t_5661190_b_81021_tn_2   \n",
       "58128  2307316                                203110   \n",
       "59671    23062  b5c30e00-3008-4640-a7dd-c868c587e434   \n",
       "59671    23062  dc6954dc-bd1b-4e35-befc-9408177ce8e8   \n",
       "\n",
       "                        shape_array_key                        tsi_segment_id  \n",
       "0      0d684221892280a974c02752a0b9d303                           06001400100  \n",
       "1      0d684221892280a974c02752a0b9d303  f25c835d-38e3-4d7c-8988-8b7012f96b47  \n",
       "2      0d684221892280a974c02752a0b9d303  0f1eaadc-a13d-472d-a851-b636bd10badb  \n",
       "7      0d684221892280a974c02752a0b9d303  6b52dbea-18de-4739-b32c-61598b08985e  \n",
       "15     0d684221892280a974c02752a0b9d303  cedc479f-2ea0-4652-a968-a877af20d561  \n",
       "...                                 ...                                   ...  \n",
       "57013  4c93dc6b13c738ca399d091a8fd44505  64627536-dc70-43ed-8ce9-33a9bac40cab  \n",
       "57707  cbe609045f3ac3f246c2c2efff46a462  85311173-a79a-4bc5-a6f7-ca67cbb41672  \n",
       "58128  4059698752c302621cdb4e06c8f55219  ef892d32-3fdb-497b-b16a-c0d1912e5eec  \n",
       "59671  d6ff73064f06763855e66235bf2ed335  1ab2f274-3c9e-48fb-a59e-bc7eda160e0c  \n",
       "59671  d615a8414eecf8f8040c2711c46c27dc  1ab2f274-3c9e-48fb-a59e-bc7eda160e0c  \n",
       "\n",
       "[318018 rows x 11 columns]"
      ]
     },
     "execution_count": 30,
     "metadata": {},
     "output_type": "execute_result"
    }
   ],
   "source": [
    "shape_stops_tracts_borders"
   ]
  },
  {
   "cell_type": "code",
   "execution_count": null,
   "id": "a49e5154-febf-4875-a406-bdeecb8a6a29",
   "metadata": {
    "tags": []
   },
   "outputs": [],
   "source": [
    "shape_stops_tracts_borders.to_parquet(f'shape_stops_tracts_borders_{analysis_date}.parquet')"
   ]
  },
  {
   "cell_type": "markdown",
   "id": "9f1cba14-d07e-41a0-9e46-910911649d77",
   "metadata": {},
   "source": [
    "## interpolation points"
   ]
  },
  {
   "cell_type": "code",
   "execution_count": null,
   "id": "e5137a73-faf9-4460-812f-c1f655792622",
   "metadata": {},
   "outputs": [],
   "source": [
    "borders.head(3)"
   ]
  },
  {
   "cell_type": "code",
   "execution_count": null,
   "id": "afe3ae21-5852-48e9-94de-d97fa29a7d1d",
   "metadata": {
    "tags": []
   },
   "outputs": [],
   "source": [
    "shapes.head(3)"
   ]
  },
  {
   "cell_type": "code",
   "execution_count": null,
   "id": "4ecfb658-eec0-4ca9-b1a5-29e1330d300a",
   "metadata": {
    "tags": []
   },
   "outputs": [],
   "source": [
    "trip_cols = ['gtfs_dataset_key', 'name', 'trip_id',\n",
    "        'shape_id', 'shape_array_key', 'route_id',\n",
    "        'route_key', 'direction_id', 'route_short_name',\n",
    "        'trip_instance_key', 'feed_key']\n",
    "\n",
    "trips = (helpers.import_scheduled_trips(analysis_date, columns=trip_cols)\n",
    "        .dropna(subset=['shape_id'])\n",
    "        )"
   ]
  },
  {
   "cell_type": "code",
   "execution_count": null,
   "id": "edced118-b1b5-40df-ac39-c1aaea284d3b",
   "metadata": {
    "tags": []
   },
   "outputs": [],
   "source": [
    "act_6 = trips.query('name.str.contains(\"AC Transit\") & shape_id == \"shp-6-03\"')"
   ]
  },
  {
   "cell_type": "code",
   "execution_count": null,
   "id": "44230c0e-e03d-4bf3-9f38-453904baa941",
   "metadata": {
    "tags": []
   },
   "outputs": [],
   "source": [
    "act_6_shape = shapes.query('shape_array_key.isin(@act_6.shape_array_key)')"
   ]
  },
  {
   "cell_type": "code",
   "execution_count": null,
   "id": "50dc4ccc-0ffc-4946-a973-7c6b569aa44e",
   "metadata": {
    "tags": []
   },
   "outputs": [],
   "source": [
    "def overlay_to_borders(\n",
    "    shape_gdf: gpd.GeoDataFrame,\n",
    "    border_gdf: gpd.GeoDataFrame,\n",
    "    sensitivity_dist: int = BORDER_BUFFER_METERS * 4\n",
    "                 ):\n",
    "    '''\n",
    "    \n",
    "    '''\n",
    "    overlaid = shape_gdf.overlay(border_gdf, how='intersection')\n",
    "    overlaid = overlaid.query('geometry.length > @sensitivity_dist')\n",
    "    return overlaid"
   ]
  },
  {
   "cell_type": "code",
   "execution_count": null,
   "id": "56f29fae-a37a-42a7-b850-1458a3b30c0c",
   "metadata": {
    "tags": []
   },
   "outputs": [],
   "source": [
    "def overlay_to_tracts(\n",
    "    shape_gdf_no_border: gpd.GeoDataFrame,\n",
    "    tract_gdf: gpd.GeoDataFrame,\n",
    "                 ):\n",
    "    '''\n",
    "    \n",
    "    '''\n",
    "    tract_gdf = tract_gdf[['tract', 'geometry']]\n",
    "    return shape_gdf_no_border.overlay(tract_gdf, how='intersection')"
   ]
  },
  {
   "cell_type": "code",
   "execution_count": null,
   "id": "44545a32-ffaf-466c-8850-1be0a4914781",
   "metadata": {
    "tags": []
   },
   "outputs": [],
   "source": [
    "def overlay_tracts_borders(\n",
    "    shape_gdf: gpd.GeoDataFrame,\n",
    "    tract_gdf: gpd.GeoDataFrame,\n",
    "    border_gdf: gpd.GeoDataFrame,\n",
    "    sensitivity_dist: int = BORDER_BUFFER_METERS * 4\n",
    "):\n",
    "    '''\n",
    "    '''\n",
    "    border_gdf = border_gdf.drop(columns=['intersection_hash'])\n",
    "    try:\n",
    "        border_overlaid = overlay_to_borders(shape_gdf, border_gdf, sensitivity_dist)\n",
    "        not_border = shape_gdf.overlay(border_overlaid, how='difference')\n",
    "        tract_overlaid = overlay_to_tracts(not_border, tracts)\n",
    "        tracts_and_borders = (pd.concat([tract_overlaid, border_overlaid])\n",
    "                              .explode(index_parts=False)\n",
    "                              .reset_index(drop=True)\n",
    "                              .query('geometry.length > @sensitivity_dist')\n",
    "                             )\n",
    "        tracts_and_borders = tracts_and_borders.assign(\n",
    "            border = ~tracts_and_borders.tract_2.isna(),\n",
    "            start = tracts_and_borders.geometry.apply(lambda x: shapely.Point(x.coords[0])),\n",
    "            # end = tracts_and_borders.geometry.apply(lambda x: shapely.Point(x.coords[-1])),\n",
    "            tsi_segment_id = tracts_and_borders.tract.combine_first(tracts_and_borders.intersection_id).astype(str),\n",
    "            tsi_segment_meters = tracts_and_borders.geometry.length\n",
    "        )\n",
    "        return tracts_and_borders\n",
    "    except Exception as e:\n",
    "        print(f'{shape_gdf}, {e}')"
   ]
  },
  {
   "cell_type": "code",
   "execution_count": null,
   "id": "d81c3442-1d82-4eeb-bea9-be579e1edfb6",
   "metadata": {
    "tags": []
   },
   "outputs": [],
   "source": [
    "overlay_tracts_borders(shapes.loc[1:1], tracts, borders)"
   ]
  },
  {
   "cell_type": "code",
   "execution_count": null,
   "id": "df9232f6-6ae8-4930-9268-90dc68ba54b4",
   "metadata": {
    "tags": []
   },
   "outputs": [],
   "source": [
    "shape_gdf = shapes.loc[2:2]"
   ]
  },
  {
   "cell_type": "markdown",
   "id": "94594494-8b30-4d99-a0ae-3664550fcc91",
   "metadata": {
    "tags": []
   },
   "source": [
    "### Whittier example \n",
    "\n",
    "987fd928878a31c5fa38c91903cd81ed"
   ]
  },
  {
   "cell_type": "code",
   "execution_count": null,
   "id": "1dbe11d3-63d5-414b-a601-ff089b150cff",
   "metadata": {
    "tags": []
   },
   "outputs": [],
   "source": [
    "shape_gdf"
   ]
  },
  {
   "cell_type": "code",
   "execution_count": null,
   "id": "ce9ec1fc-bc6f-4d82-9953-38b17427b160",
   "metadata": {
    "tags": []
   },
   "outputs": [],
   "source": [
    "whittier_new = overlay_tracts_borders(shape_gdf, tracts, borders)"
   ]
  },
  {
   "cell_type": "markdown",
   "id": "048e0244-97c9-49d4-b60f-c47be31645b7",
   "metadata": {
    "tags": []
   },
   "source": [
    "shapes can leave and re-enter tracts, need to handle.\n",
    "\n",
    "* some short segments can be dropped \n",
    "* longer ones should be preserved and given unique ids..."
   ]
  },
  {
   "cell_type": "code",
   "execution_count": null,
   "id": "47beabc2-9473-4af4-a412-cf776e0a43d1",
   "metadata": {
    "tags": []
   },
   "outputs": [],
   "source": [
    "whittier_new.reset_index().explore(column='tsi_segment_id')"
   ]
  },
  {
   "cell_type": "markdown",
   "id": "cb9ef4c7-8e39-4a7a-998f-5ecdfbdd7539",
   "metadata": {
    "tags": []
   },
   "source": [
    "### continue"
   ]
  },
  {
   "cell_type": "code",
   "execution_count": null,
   "id": "1622602c-899f-4ace-bc37-3eae43bd6e2f",
   "metadata": {
    "tags": []
   },
   "outputs": [],
   "source": [
    "%%time\n",
    "#  36.1sec with query short\n",
    "bigtest = shapes.head(50).groupby('shape_array_key').apply(overlay_tracts_borders, tract_gdf=tracts, border_gdf=borders).reset_index(drop=True)"
   ]
  },
  {
   "cell_type": "code",
   "execution_count": null,
   "id": "158d3ecc-1def-4345-99e1-dbc6782000bb",
   "metadata": {
    "tags": []
   },
   "outputs": [],
   "source": [
    "#  would take ~45min for all, not great not terrible\n",
    "shapes.shape"
   ]
  },
  {
   "cell_type": "markdown",
   "id": "3dc9e317-d64a-4c65-ab7a-665c747fee56",
   "metadata": {},
   "source": [
    "## Alameda County test?"
   ]
  },
  {
   "cell_type": "code",
   "execution_count": null,
   "id": "5336bd70-50fd-44c9-811b-6a3ecdec5f76",
   "metadata": {
    "tags": []
   },
   "outputs": [],
   "source": [
    "counties = gpd.read_file('./counties.geojson')"
   ]
  },
  {
   "cell_type": "code",
   "execution_count": null,
   "id": "18ab3b7b-c68c-4bac-8564-c3fd9dd7e417",
   "metadata": {
    "tags": []
   },
   "outputs": [],
   "source": [
    "alameda = counties[:1].to_crs(shapes.crs)"
   ]
  },
  {
   "cell_type": "code",
   "execution_count": null,
   "id": "35f20f7c-5678-41e8-87fb-3cd806076af8",
   "metadata": {
    "tags": []
   },
   "outputs": [],
   "source": [
    "alameda_shapes = shapes.clip(alameda.geometry.iloc[0], keep_geom_type=True)"
   ]
  },
  {
   "cell_type": "code",
   "execution_count": null,
   "id": "f648ec1d-f90d-421b-ae1d-eb2c0f45ca1c",
   "metadata": {
    "tags": []
   },
   "outputs": [],
   "source": [
    "alameda_shapes.explore()"
   ]
  },
  {
   "cell_type": "code",
   "execution_count": null,
   "id": "1aa0648b-0105-4416-a036-d9ef48357d1e",
   "metadata": {
    "tags": []
   },
   "outputs": [],
   "source": [
    "from tqdm import tqdm\n",
    "tqdm.pandas(desc=\"Progress\")"
   ]
  },
  {
   "cell_type": "code",
   "execution_count": null,
   "id": "87f12ae7-9949-4917-9139-4e2dc6e98a7f",
   "metadata": {
    "tags": []
   },
   "outputs": [],
   "source": [
    "alameda = (alameda_shapes\n",
    "           .groupby('shape_array_key')\n",
    "           .progress_apply(overlay_tracts_borders, tract_gdf=tracts, border_gdf=borders)\n",
    "           .reset_index(drop=True)\n",
    "          )"
   ]
  },
  {
   "cell_type": "code",
   "execution_count": null,
   "id": "885019d2-5c83-48b5-b797-2556b6dbf30b",
   "metadata": {
    "tags": []
   },
   "outputs": [],
   "source": [
    "m = borders.clip(alameda.buffer(3000)).explore()"
   ]
  },
  {
   "cell_type": "code",
   "execution_count": null,
   "id": "4837df61-e5af-4924-b28d-5eeee7080e87",
   "metadata": {
    "tags": []
   },
   "outputs": [],
   "source": [
    "alameda.explore(column='tsi_segment_id', m=m)"
   ]
  },
  {
   "cell_type": "code",
   "execution_count": null,
   "id": "aaff36bd-9d1c-4ab2-9085-edf483220654",
   "metadata": {
    "tags": []
   },
   "outputs": [],
   "source": [
    "alameda.to_parquet(f'test_tracts_borders_{analysis_date}.parquet')"
   ]
  }
 ],
 "metadata": {
  "kernelspec": {
   "display_name": "Python 3 (ipykernel)",
   "language": "python",
   "name": "python3"
  },
  "language_info": {
   "codemirror_mode": {
    "name": "ipython",
    "version": 3
   },
   "file_extension": ".py",
   "mimetype": "text/x-python",
   "name": "python",
   "nbconvert_exporter": "python",
   "pygments_lexer": "ipython3",
   "version": "3.11.10"
  },
  "widgets": {
   "application/vnd.jupyter.widget-state+json": {
    "state": {},
    "version_major": 2,
    "version_minor": 0
   }
  }
 },
 "nbformat": 4,
 "nbformat_minor": 5
}
