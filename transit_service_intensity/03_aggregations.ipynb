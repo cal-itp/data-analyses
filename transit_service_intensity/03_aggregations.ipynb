{
 "cells": [
  {
   "cell_type": "code",
   "execution_count": 1,
   "id": "9e645c63-24e5-466f-8f20-279614c1d767",
   "metadata": {},
   "outputs": [],
   "source": [
    "import sys"
   ]
  },
  {
   "cell_type": "code",
   "execution_count": 2,
   "id": "4f3eb58f-9663-4867-a5c2-2ed658cd4c0d",
   "metadata": {},
   "outputs": [],
   "source": [
    "import intake\n",
    "import pandas as pd\n",
    "import geopandas as gpd\n",
    "import numpy as np\n",
    "from calitp_data_analysis import geography_utils\n",
    "import gtfs_segments\n",
    "import shapely"
   ]
  },
  {
   "cell_type": "code",
   "execution_count": 3,
   "id": "dbc34a06-4993-426d-8e6e-99b9cd447222",
   "metadata": {},
   "outputs": [],
   "source": [
    "from shared_utils import catalog_utils, rt_dates, rt_utils\n",
    "GTFS_DATA_DICT = catalog_utils.get_catalog(\"gtfs_analytics_data\")"
   ]
  },
  {
   "cell_type": "code",
   "execution_count": 4,
   "id": "815cb9ed-e7dd-4a8f-9830-917101668c45",
   "metadata": {},
   "outputs": [],
   "source": [
    "from segment_speed_utils import helpers"
   ]
  },
  {
   "cell_type": "code",
   "execution_count": 5,
   "id": "0d7d3d01-a56f-4c3d-96dc-cb0f1938432f",
   "metadata": {
    "tags": []
   },
   "outputs": [],
   "source": [
    "from tqdm import tqdm\n",
    "tqdm.pandas(desc=\"Progress\")"
   ]
  },
  {
   "cell_type": "code",
   "execution_count": 6,
   "id": "b9dd98dc-f7a8-42d8-9118-b31f50706098",
   "metadata": {
    "tags": []
   },
   "outputs": [],
   "source": [
    "from update_vars import ANALYSIS_DATE, GCS_PATH\n",
    "from utils import read_census_tracts"
   ]
  },
  {
   "cell_type": "code",
   "execution_count": 7,
   "id": "92cae3af-1d97-46d2-9a6f-08eb6129d84e",
   "metadata": {
    "tags": []
   },
   "outputs": [],
   "source": [
    "# !pip install calitp-data-analysis==2025.6.24\n",
    "from calitp_data_analysis.gcs_geopandas import GCSGeoPandas\n",
    "gcsgp = GCSGeoPandas()"
   ]
  },
  {
   "cell_type": "markdown",
   "id": "afe82e80-7c93-43ed-a32a-5c3daed646eb",
   "metadata": {},
   "source": [
    "# Aggregations\n",
    "\n",
    "Combine trip-level info with border zone info and stops in tract/border info, then aggregate.\n",
    "\n",
    "## Methodology\n",
    "\n",
    "* analysis segment in tract & shape has 1+ stops in tract -> allocate vrm, vrh to that tract\n",
    "* analysis segment in border zone & shape has 1+ stops in zone -> allocate vrm, vrh to that zone\n",
    "    * sub-allocate border zone vrm, vrh 50/50 to bordering tracts\n",
    "* analysis segment in tract or border zone but shape has 0 stops in tract/zone\n",
    "    * allocate 50/50 to adjacent tracts or zones, repeat above "
   ]
  },
  {
   "cell_type": "code",
   "execution_count": 8,
   "id": "808bd00b-97d4-4251-a0e0-92b843be0c56",
   "metadata": {
    "tags": []
   },
   "outputs": [],
   "source": [
    "# trip_tsi_alameda = pd.concat([pd.read_parquet('./trips_set1_tsi_segs_alameda_2025-02-12.parquet'),\n",
    "#                              pd.read_parquet('./trips_set2_tsi_segs_alameda_2025-02-12.parquet')])"
   ]
  },
  {
   "cell_type": "code",
   "execution_count": 9,
   "id": "f5c0fe96-4b72-4588-ad5a-3f0d46166630",
   "metadata": {
    "tags": []
   },
   "outputs": [],
   "source": [
    "def read_shapes_stopping_in_seg(analysis_date):\n",
    "    cols = ['shape_array_key', 'tsi_segment_id']\n",
    "    sstb = gcsgp.read_parquet(f'{GCS_PATH}shape_stops_tracts_borders_{analysis_date}.parquet')[cols]\n",
    "    sstb['has_stop'] = True\n",
    "    return sstb"
   ]
  },
  {
   "cell_type": "code",
   "execution_count": 11,
   "id": "0909f713-eaf6-4f70-97a6-44ea55ed4426",
   "metadata": {},
   "outputs": [],
   "source": [
    "sstb = read_shapes_stopping_in_seg(ANALYSIS_DATE)"
   ]
  },
  {
   "cell_type": "code",
   "execution_count": 12,
   "id": "2007b022-9e70-46c8-b320-a18d1eb051c4",
   "metadata": {
    "tags": []
   },
   "outputs": [
    {
     "data": {
      "text/html": [
       "<div>\n",
       "<style scoped>\n",
       "    .dataframe tbody tr th:only-of-type {\n",
       "        vertical-align: middle;\n",
       "    }\n",
       "\n",
       "    .dataframe tbody tr th {\n",
       "        vertical-align: top;\n",
       "    }\n",
       "\n",
       "    .dataframe thead th {\n",
       "        text-align: right;\n",
       "    }\n",
       "</style>\n",
       "<table border=\"1\" class=\"dataframe\">\n",
       "  <thead>\n",
       "    <tr style=\"text-align: right;\">\n",
       "      <th></th>\n",
       "      <th>shape_array_key</th>\n",
       "      <th>tsi_segment_id</th>\n",
       "      <th>has_stop</th>\n",
       "    </tr>\n",
       "  </thead>\n",
       "  <tbody>\n",
       "    <tr>\n",
       "      <th>0</th>\n",
       "      <td>de3facb94a189ad35cd4d530caf70cac</td>\n",
       "      <td>06001400100</td>\n",
       "      <td>True</td>\n",
       "    </tr>\n",
       "    <tr>\n",
       "      <th>1</th>\n",
       "      <td>de3facb94a189ad35cd4d530caf70cac</td>\n",
       "      <td>7ce75f48-bfe5-4e71-a74d-eed7a81443a2</td>\n",
       "      <td>True</td>\n",
       "    </tr>\n",
       "    <tr>\n",
       "      <th>2</th>\n",
       "      <td>de3facb94a189ad35cd4d530caf70cac</td>\n",
       "      <td>12502d4e-5edd-45d0-b1be-a51fd79011ae</td>\n",
       "      <td>True</td>\n",
       "    </tr>\n",
       "  </tbody>\n",
       "</table>\n",
       "</div>"
      ],
      "text/plain": [
       "                    shape_array_key                        tsi_segment_id  \\\n",
       "0  de3facb94a189ad35cd4d530caf70cac                           06001400100   \n",
       "1  de3facb94a189ad35cd4d530caf70cac  7ce75f48-bfe5-4e71-a74d-eed7a81443a2   \n",
       "2  de3facb94a189ad35cd4d530caf70cac  12502d4e-5edd-45d0-b1be-a51fd79011ae   \n",
       "\n",
       "   has_stop  \n",
       "0      True  \n",
       "1      True  \n",
       "2      True  "
      ]
     },
     "execution_count": 12,
     "metadata": {},
     "output_type": "execute_result"
    }
   ],
   "source": [
    "sstb.head(3)"
   ]
  },
  {
   "cell_type": "code",
   "execution_count": 13,
   "id": "d04caff3-3ee5-41c7-bbb8-3987b9b3aa93",
   "metadata": {
    "tags": []
   },
   "outputs": [],
   "source": [
    "def attach_stopping_info(trip_segment_df, shape_stopping_df):\n",
    "    '''\n",
    "    '''\n",
    "    df = trip_segment_df.merge(shape_stopping_df, how='left', on=['shape_array_key', 'tsi_segment_id'])\n",
    "    df.has_stop = df.has_stop.fillna(False)\n",
    "    return df"
   ]
  },
  {
   "cell_type": "code",
   "execution_count": 14,
   "id": "4e1f7dba-1473-44b1-b874-6c7325b61236",
   "metadata": {
    "tags": []
   },
   "outputs": [],
   "source": [
    "trip_tsi = pd.read_parquet(f'{GCS_PATH}trip_tables_all_{ANALYSIS_DATE}.parquet')"
   ]
  },
  {
   "cell_type": "code",
   "execution_count": 15,
   "id": "442b6dbe-d738-445d-8c81-907af7161f2b",
   "metadata": {
    "tags": []
   },
   "outputs": [],
   "source": [
    "joined = attach_stopping_info(trip_tsi, sstb)"
   ]
  },
  {
   "cell_type": "code",
   "execution_count": 16,
   "id": "9a989a3b-e3d3-4e38-b339-69925feab59e",
   "metadata": {
    "tags": []
   },
   "outputs": [],
   "source": [
    "# bart_shape_array = 'db1920458bee7ea9de34b68eb9f4d8a5'\n",
    "\n",
    "# act_6_shape_array = '3caab5c44277cbdc8fbc755bc0ea7633'"
   ]
  },
  {
   "cell_type": "markdown",
   "id": "2f078ab4-8fbc-4886-9498-8e88d0c427c1",
   "metadata": {},
   "source": [
    "## test aggregation"
   ]
  },
  {
   "cell_type": "code",
   "execution_count": 17,
   "id": "c2a4b0a0-3b0a-4d01-b5fa-5d97c038e85c",
   "metadata": {
    "tags": []
   },
   "outputs": [],
   "source": [
    "# sstb_geo = gpd.read_parquet(f'./shape_stops_tracts_borders_{analysis_date}.parquet')\n",
    "# sstb_geo.query('shape_array_key == @act_6_sa').explore()"
   ]
  },
  {
   "cell_type": "markdown",
   "id": "91f97ea2-a47a-4585-aea7-3ffbcfaa7202",
   "metadata": {},
   "source": [
    "### handle snap to tracts/borders with stops"
   ]
  },
  {
   "cell_type": "code",
   "execution_count": 18,
   "id": "e429dd44-8214-4693-a61e-838d7fffb1cd",
   "metadata": {
    "tags": []
   },
   "outputs": [],
   "source": [
    "def locate_stopping_segments(row, df):\n",
    "    if row.has_stop:\n",
    "        return row\n",
    "    else:\n",
    "        id_before = None\n",
    "        id_after = None\n",
    "        # print(row.name)\n",
    "        stop_before = df.loc[:(row.name - 1)].query('has_stop')\n",
    "        if not stop_before.empty:\n",
    "            id_before = stop_before.query('start_meters == start_meters.max()').tsi_segment_id.iloc[0]\n",
    "        stop_after = df.loc[(row.name + 1):].query('has_stop')\n",
    "        if not stop_after.empty:\n",
    "            id_after = stop_after.query('start_meters == start_meters.min()').tsi_segment_id.iloc[0]\n",
    "        row['stopping_segments'] = (id_before, id_after)\n",
    "        # return (id_before, id_after)\n",
    "        return row"
   ]
  },
  {
   "cell_type": "code",
   "execution_count": 19,
   "id": "ed3f81a5-27e0-4086-9b6b-137ae01ea115",
   "metadata": {
    "tags": []
   },
   "outputs": [],
   "source": [
    "def assign_stopping_sequences(joined_df):\n",
    "    '''\n",
    "    wiANALYSIS_DATE a joined trip tsi segment df and shape\n",
    "    stopping df, create a new df by shape showing \n",
    "    which tsi segments (tracts or border zones) vrh & vrm\n",
    "    should be allocated to when there are no stops for that\n",
    "    shape in that segment\n",
    "    '''\n",
    "    cols = ['shape_array_key', 'start_meters', 'tsi_segment_id', 'has_stop']\n",
    "    simple_sequence_df = (joined_df[cols]\n",
    "                          .drop_duplicates()\n",
    "                          .sort_values(['shape_array_key', 'start_meters'])\n",
    "                          .reset_index(drop=True)\n",
    "                         )\n",
    "    fn = lambda df: df.apply(locate_stopping_segments, df=df, axis=1)\n",
    "    #  tuples will be (None, id) where there are no previous stops, or (id, None) where no subsequent stops\n",
    "    stopping_sequences_df = simple_sequence_df.groupby('shape_array_key', group_keys=False).progress_apply(fn)\n",
    "    #  scrub nones from tuples for accurate count:\n",
    "    stopping_sequences_df.stopping_segments = stopping_sequences_df.stopping_segments.map(\n",
    "            lambda y: y if type(y) != tuple else tuple(x for x in y if x))\n",
    "    stopping_sequences_df['n_stopping_segments'] = stopping_sequences_df.stopping_segments.map(\n",
    "            lambda y: y if type(y) != tuple else len(y)).fillna(1)\n",
    "    unassigned = stopping_sequences_df.query('n_stopping_segments == 0')\n",
    "    print(f'{unassigned.shape[0]} segments out of {stopping_sequences_df.shape[0]} can not be matched to a stop')\n",
    "    stopping_sequences_df = stopping_sequences_df.query('n_stopping_segments >= 1')\n",
    "    #  divide time and distance in tsi segments by number of segments post-explode\n",
    "    joined_df = (joined_df.merge(stopping_sequences_df, on=['has_stop', 'shape_array_key', 'start_meters', 'tsi_segment_id'])\n",
    "                 .explode('stopping_segments')\n",
    "                )\n",
    "    joined_df = joined_df.assign(tsi_segment_meters = joined_df.tsi_segment_meters / joined_df.n_stopping_segments,\n",
    "                         segment_seconds = joined_df.segment_seconds / joined_df.n_stopping_segments\n",
    "                        )\n",
    "    #  replace tsi_segment_id with stopping_segment if present, df can now be aggregated normally on tsi_segment_id\n",
    "    joined_df.tsi_segment_id = joined_df.stopping_segments.fillna(joined_df.tsi_segment_id)\n",
    "    joined_df = joined_df.drop(columns=['has_stop', 'arrival_sec', 'arrival_sec_next',\n",
    "                                       'start_meters', 'stopping_segments', 'n_stopping_segments'])\n",
    "    return joined_df"
   ]
  },
  {
   "cell_type": "code",
   "execution_count": 20,
   "id": "30119c1b-1df2-49c7-961d-a7b3185a2aa9",
   "metadata": {
    "tags": []
   },
   "outputs": [
    {
     "name": "stderr",
     "output_type": "stream",
     "text": [
      "Progress: 100%|██████████| 5790/5790 [11:44<00:00,  8.22it/s]  \n"
     ]
    },
    {
     "name": "stdout",
     "output_type": "stream",
     "text": [
      "1 segments out of 175357 can not be matched to a stop\n"
     ]
    }
   ],
   "source": [
    "stopping_sequences_df = assign_stopping_sequences(joined)"
   ]
  },
  {
   "cell_type": "markdown",
   "id": "c63e8371-b151-4335-877b-f684bdfa2f75",
   "metadata": {},
   "source": [
    "### handle snap to bordering tracts"
   ]
  },
  {
   "cell_type": "code",
   "execution_count": 21,
   "id": "2753f65d-0826-480e-b223-f95b05c75f6a",
   "metadata": {
    "tags": []
   },
   "outputs": [],
   "source": [
    "tsi_segs = gcsgp.read_parquet(f'{GCS_PATH}tsi_segments_{ANALYSIS_DATE}.parquet')"
   ]
  },
  {
   "cell_type": "code",
   "execution_count": 22,
   "id": "d219a54d-5e79-490f-a456-d4e1b10ad511",
   "metadata": {
    "tags": []
   },
   "outputs": [
    {
     "data": {
      "text/plain": [
       "\u001b[0;31mType:\u001b[0m           GCSGeoPandas\n",
       "\u001b[0;31mString form:\u001b[0m    <calitp_data_analysis.gcs_geopandas.GCSGeoPandas object at 0x7c43dd0d83d0>\n",
       "\u001b[0;31mFile:\u001b[0m           /opt/conda/lib/python3.11/site-packages/calitp_data_analysis/gcs_geopandas.py\n",
       "\u001b[0;31mDocstring:\u001b[0m      GCSGeoPandas contains authentication helpers for interacting with Google Cloud   Storage with GeoPandas\n",
       "\u001b[0;31mInit docstring:\u001b[0m Fetches and sets instance Google Cloud Storage Filesystem"
      ]
     },
     "metadata": {},
     "output_type": "display_data"
    }
   ],
   "source": [
    "gcsgp?"
   ]
  },
  {
   "cell_type": "code",
   "execution_count": 23,
   "id": "00b40fad-4a15-4621-b15a-0f7e0de71933",
   "metadata": {
    "tags": []
   },
   "outputs": [],
   "source": [
    "def assign_borders(stopping_sequences_df, border_df):\n",
    "    '''\n",
    "    \n",
    "    '''\n",
    "    border_cols = ['tsi_segment_id', 'border_tracts', 'border']\n",
    "    border_df = border_df.assign(border_tracts = tuple(zip(border_df.tract_1, border_df.tract_2)))[border_cols].drop_duplicates()\n",
    "    border_df.border_tracts = border_df.border_tracts.map(lambda x: None if x == (None, None) else x)\n",
    "    border_merged = stopping_sequences_df.merge(border_df, how='left', on='tsi_segment_id')\n",
    "    border_merged['border_divide'] = border_merged.border.replace({True: 2, False: 1})\n",
    "    border_merged = border_merged.explode('border_tracts')\n",
    "    border_merged = border_merged.assign(tsi_segment_meters = border_merged.tsi_segment_meters / border_merged.border_divide,\n",
    "                         segment_seconds = border_merged.segment_seconds / border_merged.border_divide\n",
    "                        )\n",
    "    border_merged['tract'] = border_merged.border_tracts.fillna(border_merged.tsi_segment_id)\n",
    "    border_merged = border_merged.drop(columns=['border_divide', 'border_tracts'])\n",
    "    return border_merged"
   ]
  },
  {
   "cell_type": "code",
   "execution_count": 24,
   "id": "4ef7de79-35af-491f-b9a7-394f53a78046",
   "metadata": {
    "tags": []
   },
   "outputs": [],
   "source": [
    "border_assigned_df = assign_borders(stopping_sequences_df, tsi_segs)"
   ]
  },
  {
   "cell_type": "code",
   "execution_count": 25,
   "id": "7eeaf633-5bff-4818-b786-4d13696602d9",
   "metadata": {
    "tags": []
   },
   "outputs": [
    {
     "data": {
      "text/html": [
       "<div>\n",
       "<style scoped>\n",
       "    .dataframe tbody tr th:only-of-type {\n",
       "        vertical-align: middle;\n",
       "    }\n",
       "\n",
       "    .dataframe tbody tr th {\n",
       "        vertical-align: top;\n",
       "    }\n",
       "\n",
       "    .dataframe thead th {\n",
       "        text-align: right;\n",
       "    }\n",
       "</style>\n",
       "<table border=\"1\" class=\"dataframe\">\n",
       "  <thead>\n",
       "    <tr style=\"text-align: right;\">\n",
       "      <th></th>\n",
       "      <th>shape_array_key</th>\n",
       "      <th>tsi_segment_id</th>\n",
       "      <th>tsi_segment_meters</th>\n",
       "      <th>trip_instance_key</th>\n",
       "      <th>segment_seconds</th>\n",
       "      <th>border</th>\n",
       "      <th>tract</th>\n",
       "    </tr>\n",
       "  </thead>\n",
       "  <tbody>\n",
       "    <tr>\n",
       "      <th>0</th>\n",
       "      <td>443d0dd6a7c0769b245e2aef477a019b</td>\n",
       "      <td>06097150304</td>\n",
       "      <td>2589.570973</td>\n",
       "      <td>2701c672a21c714294d1ec4b4343064b</td>\n",
       "      <td>0.0</td>\n",
       "      <td>False</td>\n",
       "      <td>06097150304</td>\n",
       "    </tr>\n",
       "    <tr>\n",
       "      <th>1</th>\n",
       "      <td>443d0dd6a7c0769b245e2aef477a019b</td>\n",
       "      <td>06097150304</td>\n",
       "      <td>2589.570973</td>\n",
       "      <td>2701c672a21c714294d1ec4b4343064b</td>\n",
       "      <td>0.0</td>\n",
       "      <td>False</td>\n",
       "      <td>06097150304</td>\n",
       "    </tr>\n",
       "    <tr>\n",
       "      <th>2</th>\n",
       "      <td>443d0dd6a7c0769b245e2aef477a019b</td>\n",
       "      <td>06097150304</td>\n",
       "      <td>2589.570973</td>\n",
       "      <td>2701c672a21c714294d1ec4b4343064b</td>\n",
       "      <td>0.0</td>\n",
       "      <td>False</td>\n",
       "      <td>06097150304</td>\n",
       "    </tr>\n",
       "    <tr>\n",
       "      <th>3</th>\n",
       "      <td>443d0dd6a7c0769b245e2aef477a019b</td>\n",
       "      <td>06097150304</td>\n",
       "      <td>2589.570973</td>\n",
       "      <td>2701c672a21c714294d1ec4b4343064b</td>\n",
       "      <td>0.0</td>\n",
       "      <td>False</td>\n",
       "      <td>06097150304</td>\n",
       "    </tr>\n",
       "    <tr>\n",
       "      <th>4</th>\n",
       "      <td>443d0dd6a7c0769b245e2aef477a019b</td>\n",
       "      <td>06097150304</td>\n",
       "      <td>2589.570973</td>\n",
       "      <td>2701c672a21c714294d1ec4b4343064b</td>\n",
       "      <td>0.0</td>\n",
       "      <td>False</td>\n",
       "      <td>06097150304</td>\n",
       "    </tr>\n",
       "    <tr>\n",
       "      <th>5</th>\n",
       "      <td>443d0dd6a7c0769b245e2aef477a019b</td>\n",
       "      <td>06097150304</td>\n",
       "      <td>2589.570973</td>\n",
       "      <td>2701c672a21c714294d1ec4b4343064b</td>\n",
       "      <td>0.0</td>\n",
       "      <td>False</td>\n",
       "      <td>06097150304</td>\n",
       "    </tr>\n",
       "    <tr>\n",
       "      <th>6</th>\n",
       "      <td>443d0dd6a7c0769b245e2aef477a019b</td>\n",
       "      <td>06097150304</td>\n",
       "      <td>2589.570973</td>\n",
       "      <td>2701c672a21c714294d1ec4b4343064b</td>\n",
       "      <td>0.0</td>\n",
       "      <td>False</td>\n",
       "      <td>06097150304</td>\n",
       "    </tr>\n",
       "    <tr>\n",
       "      <th>7</th>\n",
       "      <td>443d0dd6a7c0769b245e2aef477a019b</td>\n",
       "      <td>06097150304</td>\n",
       "      <td>2589.570973</td>\n",
       "      <td>e8e91a5d71060a02a648746fca0b9ebd</td>\n",
       "      <td>0.0</td>\n",
       "      <td>False</td>\n",
       "      <td>06097150304</td>\n",
       "    </tr>\n",
       "    <tr>\n",
       "      <th>8</th>\n",
       "      <td>443d0dd6a7c0769b245e2aef477a019b</td>\n",
       "      <td>06097150304</td>\n",
       "      <td>2589.570973</td>\n",
       "      <td>e8e91a5d71060a02a648746fca0b9ebd</td>\n",
       "      <td>0.0</td>\n",
       "      <td>False</td>\n",
       "      <td>06097150304</td>\n",
       "    </tr>\n",
       "    <tr>\n",
       "      <th>9</th>\n",
       "      <td>443d0dd6a7c0769b245e2aef477a019b</td>\n",
       "      <td>06097150304</td>\n",
       "      <td>2589.570973</td>\n",
       "      <td>e8e91a5d71060a02a648746fca0b9ebd</td>\n",
       "      <td>0.0</td>\n",
       "      <td>False</td>\n",
       "      <td>06097150304</td>\n",
       "    </tr>\n",
       "  </tbody>\n",
       "</table>\n",
       "</div>"
      ],
      "text/plain": [
       "                    shape_array_key tsi_segment_id  tsi_segment_meters  \\\n",
       "0  443d0dd6a7c0769b245e2aef477a019b    06097150304         2589.570973   \n",
       "1  443d0dd6a7c0769b245e2aef477a019b    06097150304         2589.570973   \n",
       "2  443d0dd6a7c0769b245e2aef477a019b    06097150304         2589.570973   \n",
       "3  443d0dd6a7c0769b245e2aef477a019b    06097150304         2589.570973   \n",
       "4  443d0dd6a7c0769b245e2aef477a019b    06097150304         2589.570973   \n",
       "5  443d0dd6a7c0769b245e2aef477a019b    06097150304         2589.570973   \n",
       "6  443d0dd6a7c0769b245e2aef477a019b    06097150304         2589.570973   \n",
       "7  443d0dd6a7c0769b245e2aef477a019b    06097150304         2589.570973   \n",
       "8  443d0dd6a7c0769b245e2aef477a019b    06097150304         2589.570973   \n",
       "9  443d0dd6a7c0769b245e2aef477a019b    06097150304         2589.570973   \n",
       "\n",
       "                  trip_instance_key  segment_seconds  border        tract  \n",
       "0  2701c672a21c714294d1ec4b4343064b              0.0   False  06097150304  \n",
       "1  2701c672a21c714294d1ec4b4343064b              0.0   False  06097150304  \n",
       "2  2701c672a21c714294d1ec4b4343064b              0.0   False  06097150304  \n",
       "3  2701c672a21c714294d1ec4b4343064b              0.0   False  06097150304  \n",
       "4  2701c672a21c714294d1ec4b4343064b              0.0   False  06097150304  \n",
       "5  2701c672a21c714294d1ec4b4343064b              0.0   False  06097150304  \n",
       "6  2701c672a21c714294d1ec4b4343064b              0.0   False  06097150304  \n",
       "7  e8e91a5d71060a02a648746fca0b9ebd              0.0   False  06097150304  \n",
       "8  e8e91a5d71060a02a648746fca0b9ebd              0.0   False  06097150304  \n",
       "9  e8e91a5d71060a02a648746fca0b9ebd              0.0   False  06097150304  "
      ]
     },
     "execution_count": 25,
     "metadata": {},
     "output_type": "execute_result"
    }
   ],
   "source": [
    "border_assigned_df.head(10)"
   ]
  },
  {
   "cell_type": "code",
   "execution_count": 26,
   "id": "1ef1a9ed-6fdd-406c-ac39-125dda1c0d3c",
   "metadata": {
    "tags": []
   },
   "outputs": [],
   "source": [
    "trips = helpers.import_scheduled_trips(analysis_date=ANALYSIS_DATE, columns=['shape_array_key', 'gtfs_dataset_key'])"
   ]
  },
  {
   "cell_type": "code",
   "execution_count": 27,
   "id": "63bf3ccf-1857-465b-aaa1-f524396acecd",
   "metadata": {
    "tags": []
   },
   "outputs": [],
   "source": [
    "border_assigned_df = border_assigned_df.merge(trips, on='shape_array_key')"
   ]
  },
  {
   "cell_type": "code",
   "execution_count": 28,
   "id": "30499cfc-4c68-4c00-9154-7c4cbd5af617",
   "metadata": {
    "tags": []
   },
   "outputs": [],
   "source": [
    "def aggregate_to_tract(border_assigned_df, group_cols = ['tract']):\n",
    "    '''\n",
    "    '''\n",
    "    sum_cols = ['tsi_segment_meters', 'segment_seconds']\n",
    "    grouped = border_assigned_df.groupby(group_cols)[sum_cols]\n",
    "    aggregated = grouped.sum().reset_index()\n",
    "    aggregated = aggregated.assign(daily_vrm_miles = aggregated.tsi_segment_meters / rt_utils.METERS_PER_MILE,\n",
    "                                  daily_vrh_hours = aggregated.segment_seconds / 60**2)\n",
    "    aggregated = aggregated.drop(columns=sum_cols)\n",
    "    return aggregated.round(1)"
   ]
  },
  {
   "cell_type": "code",
   "execution_count": 29,
   "id": "d7ce9c35-4abd-4912-a8fd-4ddfc03cea0f",
   "metadata": {
    "tags": []
   },
   "outputs": [],
   "source": [
    "# transit_service_intensity = aggregate_to_tract(border_assigned_df)"
   ]
  },
  {
   "cell_type": "code",
   "execution_count": 30,
   "id": "bb53f6b6-05f8-47a5-acde-a4f10efe9209",
   "metadata": {
    "tags": []
   },
   "outputs": [],
   "source": [
    "agency_tsi = aggregate_to_tract(border_assigned_df, group_cols = ['tract', 'schedule_gtfs_dataset_key'])"
   ]
  },
  {
   "cell_type": "code",
   "execution_count": 31,
   "id": "5e3a3722-7857-4b1e-812f-d600732c007c",
   "metadata": {
    "tags": []
   },
   "outputs": [],
   "source": [
    "tracts = read_census_tracts(ANALYSIS_DATE)"
   ]
  },
  {
   "cell_type": "code",
   "execution_count": 32,
   "id": "8a2765ac-34d9-4c16-9d04-012b7e46fa1e",
   "metadata": {
    "tags": []
   },
   "outputs": [],
   "source": [
    "agency_tsi = tracts.merge(agency_tsi, on='tract')"
   ]
  },
  {
   "cell_type": "code",
   "execution_count": 33,
   "id": "1c19cb02-6b39-4b3b-a6a3-f300877bf4b5",
   "metadata": {
    "tags": []
   },
   "outputs": [
    {
     "data": {
      "text/html": [
       "<div>\n",
       "<style scoped>\n",
       "    .dataframe tbody tr th:only-of-type {\n",
       "        vertical-align: middle;\n",
       "    }\n",
       "\n",
       "    .dataframe tbody tr th {\n",
       "        vertical-align: top;\n",
       "    }\n",
       "\n",
       "    .dataframe thead th {\n",
       "        text-align: right;\n",
       "    }\n",
       "</style>\n",
       "<table border=\"1\" class=\"dataframe\">\n",
       "  <thead>\n",
       "    <tr style=\"text-align: right;\">\n",
       "      <th></th>\n",
       "      <th>tract</th>\n",
       "      <th>pop_sq_mi</th>\n",
       "      <th>population</th>\n",
       "      <th>geometry</th>\n",
       "      <th>schedule_gtfs_dataset_key</th>\n",
       "      <th>daily_vrm_miles</th>\n",
       "      <th>daily_vrh_hours</th>\n",
       "    </tr>\n",
       "  </thead>\n",
       "  <tbody>\n",
       "    <tr>\n",
       "      <th>0</th>\n",
       "      <td>06001400100</td>\n",
       "      <td>1174.735672</td>\n",
       "      <td>3120</td>\n",
       "      <td>POLYGON ((-197090.096 -12468.283, -196909.112 ...</td>\n",
       "      <td>a8d5f90bfd689badb7e1deb041408e96</td>\n",
       "      <td>179.5</td>\n",
       "      <td>2.9</td>\n",
       "    </tr>\n",
       "    <tr>\n",
       "      <th>1</th>\n",
       "      <td>06001400100</td>\n",
       "      <td>1174.735672</td>\n",
       "      <td>3120</td>\n",
       "      <td>POLYGON ((-197090.096 -12468.283, -196909.112 ...</td>\n",
       "      <td>c499f905e33929a641f083dad55c521e</td>\n",
       "      <td>3.3</td>\n",
       "      <td>0.3</td>\n",
       "    </tr>\n",
       "    <tr>\n",
       "      <th>2</th>\n",
       "      <td>06001400200</td>\n",
       "      <td>8729.842564</td>\n",
       "      <td>2007</td>\n",
       "      <td>POLYGON ((-196982.196 -15963.566, -196992.931 ...</td>\n",
       "      <td>8a1405af8da1379acc062e346187ac98</td>\n",
       "      <td>227.6</td>\n",
       "      <td>5.2</td>\n",
       "    </tr>\n",
       "  </tbody>\n",
       "</table>\n",
       "</div>"
      ],
      "text/plain": [
       "         tract    pop_sq_mi  population  \\\n",
       "0  06001400100  1174.735672        3120   \n",
       "1  06001400100  1174.735672        3120   \n",
       "2  06001400200  8729.842564        2007   \n",
       "\n",
       "                                            geometry  \\\n",
       "0  POLYGON ((-197090.096 -12468.283, -196909.112 ...   \n",
       "1  POLYGON ((-197090.096 -12468.283, -196909.112 ...   \n",
       "2  POLYGON ((-196982.196 -15963.566, -196992.931 ...   \n",
       "\n",
       "          schedule_gtfs_dataset_key  daily_vrm_miles  daily_vrh_hours  \n",
       "0  a8d5f90bfd689badb7e1deb041408e96            179.5              2.9  \n",
       "1  c499f905e33929a641f083dad55c521e              3.3              0.3  \n",
       "2  8a1405af8da1379acc062e346187ac98            227.6              5.2  "
      ]
     },
     "execution_count": 33,
     "metadata": {},
     "output_type": "execute_result"
    }
   ],
   "source": [
    "agency_tsi.head(3)"
   ]
  },
  {
   "cell_type": "code",
   "execution_count": 34,
   "id": "27f620e0-270a-4c77-a078-c457865d2fe5",
   "metadata": {
    "tags": []
   },
   "outputs": [],
   "source": [
    "gcsgp.geo_data_frame_to_parquet(agency_tsi, f'{GCS_PATH}test_tsi_agency_{ANALYSIS_DATE}.parquet')"
   ]
  },
  {
   "cell_type": "code",
   "execution_count": null,
   "id": "b222cb59-68c3-4028-834e-7194b3d50919",
   "metadata": {
    "tags": []
   },
   "outputs": [],
   "source": [
    "f'{GCS_PATH}test_tsi_agency_{ANALYSIS_DATE}.parquet'"
   ]
  },
  {
   "cell_type": "code",
   "execution_count": null,
   "id": "7d5f225f-eabc-4927-b60c-3b5f925d26b2",
   "metadata": {
    "tags": []
   },
   "outputs": [],
   "source": [
    "# gcsgp.geo_data_frame_to_parquet(transit_service_intensity, f'test_tsi_{ANALYSIS_DATE}.parquet')"
   ]
  },
  {
   "cell_type": "code",
   "execution_count": null,
   "id": "f6d0f424-f57b-4384-ae13-ebd7f7c96019",
   "metadata": {
    "tags": []
   },
   "outputs": [],
   "source": [
    "# tracts.merge(transit_service_intensity, on='tract').to_file(f'{GCS_PATH}test_tsi_statewide_{ANALYSIS_DATE}.geojson')"
   ]
  },
  {
   "cell_type": "code",
   "execution_count": null,
   "id": "d2991f5c-3d6a-41c9-8192-02744d481fc1",
   "metadata": {
    "tags": []
   },
   "outputs": [],
   "source": [
    "# tracts.mergagency_tsitransit_service_intensity, on='tract').query('daily_vrh_hours < 10000').explore(column='daily_vrh_hours', scheme='FisherJenks')"
   ]
  },
  {
   "cell_type": "code",
   "execution_count": null,
   "id": "c86cb29f-8ea2-4b70-958a-742d4da39af9",
   "metadata": {
    "tags": []
   },
   "outputs": [],
   "source": [
    "# gdf = tracts.merge(transit_service_intensity, on='tract').query('daily_vrh_hours < 10000 & daily_vrh_hours > 0').assign(est_speed = transit_service_intensity.daily_vrm_miles / transit_service_intensity.daily_vrh_hours)"
   ]
  }
 ],
 "metadata": {
  "kernelspec": {
   "display_name": "Python 3 (ipykernel)",
   "language": "python",
   "name": "python3"
  },
  "language_info": {
   "codemirror_mode": {
    "name": "ipython",
    "version": 3
   },
   "file_extension": ".py",
   "mimetype": "text/x-python",
   "name": "python",
   "nbconvert_exporter": "python",
   "pygments_lexer": "ipython3",
   "version": "3.11.10"
  },
  "widgets": {
   "application/vnd.jupyter.widget-state+json": {
    "state": {},
    "version_major": 2,
    "version_minor": 0
   }
  }
 },
 "nbformat": 4,
 "nbformat_minor": 5
}
