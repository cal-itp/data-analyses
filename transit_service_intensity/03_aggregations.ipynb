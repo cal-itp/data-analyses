{
 "cells": [
  {
   "cell_type": "code",
   "execution_count": 1,
   "id": "9e645c63-24e5-466f-8f20-279614c1d767",
   "metadata": {},
   "outputs": [],
   "source": [
    "import sys"
   ]
  },
  {
   "cell_type": "code",
   "execution_count": 2,
   "id": "4f3eb58f-9663-4867-a5c2-2ed658cd4c0d",
   "metadata": {},
   "outputs": [],
   "source": [
    "import intake\n",
    "import pandas as pd\n",
    "import geopandas as gpd\n",
    "import numpy as np\n",
    "from calitp_data_analysis import geography_utils\n",
    "import gtfs_segments\n",
    "import shapely"
   ]
  },
  {
   "cell_type": "code",
   "execution_count": 3,
   "id": "dbc34a06-4993-426d-8e6e-99b9cd447222",
   "metadata": {},
   "outputs": [],
   "source": [
    "from shared_utils import catalog_utils, rt_dates, rt_utils\n",
    "GTFS_DATA_DICT = catalog_utils.get_catalog(\"gtfs_analytics_data\")"
   ]
  },
  {
   "cell_type": "code",
   "execution_count": 4,
   "id": "815cb9ed-e7dd-4a8f-9830-917101668c45",
   "metadata": {},
   "outputs": [],
   "source": [
    "from segment_speed_utils import helpers"
   ]
  },
  {
   "cell_type": "code",
   "execution_count": 5,
   "id": "0d7d3d01-a56f-4c3d-96dc-cb0f1938432f",
   "metadata": {
    "tags": []
   },
   "outputs": [],
   "source": [
    "from tqdm import tqdm\n",
    "tqdm.pandas(desc=\"Progress\")"
   ]
  },
  {
   "cell_type": "code",
   "execution_count": 40,
   "id": "b9dd98dc-f7a8-42d8-9118-b31f50706098",
   "metadata": {
    "tags": []
   },
   "outputs": [],
   "source": [
    "from update_vars import ANALYSIS_DATE\n",
    "from utils import read_census_tracts"
   ]
  },
  {
   "cell_type": "markdown",
   "id": "afe82e80-7c93-43ed-a32a-5c3daed646eb",
   "metadata": {},
   "source": [
    "# Aggregations\n",
    "\n",
    "Combine trip-level info with border zone info and stops in tract/border info, then aggregate.\n",
    "\n",
    "## Methodology\n",
    "\n",
    "* analysis segment in tract & shape has 1+ stops in tract -> allocate vrm, vrh to that tract\n",
    "* analysis segment in border zone & shape has 1+ stops in zone -> allocate vrm, vrh to that zone\n",
    "    * sub-allocate border zone vrm, vrh 50/50 to bordering tracts\n",
    "* analysis segment in tract or border zone but shape has 0 stops in tract/zone\n",
    "    * allocate 50/50 to adjacent tracts or zones, repeat above "
   ]
  },
  {
   "cell_type": "code",
   "execution_count": 7,
   "id": "808bd00b-97d4-4251-a0e0-92b843be0c56",
   "metadata": {
    "tags": []
   },
   "outputs": [],
   "source": [
    "# trip_tsi_alameda = pd.concat([pd.read_parquet('./trips_set1_tsi_segs_alameda_2025-02-12.parquet'),\n",
    "#                              pd.read_parquet('./trips_set2_tsi_segs_alameda_2025-02-12.parquet')])"
   ]
  },
  {
   "cell_type": "code",
   "execution_count": 8,
   "id": "f5c0fe96-4b72-4588-ad5a-3f0d46166630",
   "metadata": {
    "tags": []
   },
   "outputs": [],
   "source": [
    "def read_shapes_stopping_in_seg(analysis_date):\n",
    "    cols = ['shape_array_key', 'tsi_segment_id']\n",
    "    sstb = pd.read_parquet(f'./shape_stops_tracts_borders_{analysis_date}.parquet')[cols]\n",
    "    sstb['has_stop'] = True\n",
    "    return sstb"
   ]
  },
  {
   "cell_type": "code",
   "execution_count": 9,
   "id": "0909f713-eaf6-4f70-97a6-44ea55ed4426",
   "metadata": {},
   "outputs": [],
   "source": [
    "sstb = read_shapes_stopping_in_seg(ANALYSIS_DATE)"
   ]
  },
  {
   "cell_type": "code",
   "execution_count": 10,
   "id": "2007b022-9e70-46c8-b320-a18d1eb051c4",
   "metadata": {
    "tags": []
   },
   "outputs": [
    {
     "data": {
      "text/html": [
       "<div>\n",
       "<style scoped>\n",
       "    .dataframe tbody tr th:only-of-type {\n",
       "        vertical-align: middle;\n",
       "    }\n",
       "\n",
       "    .dataframe tbody tr th {\n",
       "        vertical-align: top;\n",
       "    }\n",
       "\n",
       "    .dataframe thead th {\n",
       "        text-align: right;\n",
       "    }\n",
       "</style>\n",
       "<table border=\"1\" class=\"dataframe\">\n",
       "  <thead>\n",
       "    <tr style=\"text-align: right;\">\n",
       "      <th></th>\n",
       "      <th>shape_array_key</th>\n",
       "      <th>tsi_segment_id</th>\n",
       "      <th>has_stop</th>\n",
       "    </tr>\n",
       "  </thead>\n",
       "  <tbody>\n",
       "    <tr>\n",
       "      <th>0</th>\n",
       "      <td>0d684221892280a974c02752a0b9d303</td>\n",
       "      <td>06001400100</td>\n",
       "      <td>True</td>\n",
       "    </tr>\n",
       "    <tr>\n",
       "      <th>1</th>\n",
       "      <td>0d684221892280a974c02752a0b9d303</td>\n",
       "      <td>d3eb5f95-f2b6-46a0-bb6d-855022cf596a</td>\n",
       "      <td>True</td>\n",
       "    </tr>\n",
       "    <tr>\n",
       "      <th>2</th>\n",
       "      <td>0d684221892280a974c02752a0b9d303</td>\n",
       "      <td>6681c181-b5b3-4df3-9ccd-e0c983cbe573</td>\n",
       "      <td>True</td>\n",
       "    </tr>\n",
       "  </tbody>\n",
       "</table>\n",
       "</div>"
      ],
      "text/plain": [
       "                    shape_array_key                        tsi_segment_id  \\\n",
       "0  0d684221892280a974c02752a0b9d303                           06001400100   \n",
       "1  0d684221892280a974c02752a0b9d303  d3eb5f95-f2b6-46a0-bb6d-855022cf596a   \n",
       "2  0d684221892280a974c02752a0b9d303  6681c181-b5b3-4df3-9ccd-e0c983cbe573   \n",
       "\n",
       "   has_stop  \n",
       "0      True  \n",
       "1      True  \n",
       "2      True  "
      ]
     },
     "execution_count": 10,
     "metadata": {},
     "output_type": "execute_result"
    }
   ],
   "source": [
    "sstb.head(3)"
   ]
  },
  {
   "cell_type": "code",
   "execution_count": 13,
   "id": "d04caff3-3ee5-41c7-bbb8-3987b9b3aa93",
   "metadata": {
    "tags": []
   },
   "outputs": [],
   "source": [
    "def attach_stopping_info(trip_segment_df, shape_stopping_df):\n",
    "    '''\n",
    "    '''\n",
    "    df = trip_segment_df.merge(shape_stopping_df, how='left', on=['shape_array_key', 'tsi_segment_id'])\n",
    "    df.has_stop = df.has_stop.fillna(False)\n",
    "    return df"
   ]
  },
  {
   "cell_type": "code",
   "execution_count": 11,
   "id": "4e1f7dba-1473-44b1-b874-6c7325b61236",
   "metadata": {
    "tags": []
   },
   "outputs": [],
   "source": [
    "trip_tsi = pd.read_parquet('trip_tables_all_2025-04-16.parquet')"
   ]
  },
  {
   "cell_type": "code",
   "execution_count": 14,
   "id": "442b6dbe-d738-445d-8c81-907af7161f2b",
   "metadata": {
    "tags": []
   },
   "outputs": [],
   "source": [
    "joined = attach_stopping_info(trip_tsi, sstb)"
   ]
  },
  {
   "cell_type": "code",
   "execution_count": 15,
   "id": "9a989a3b-e3d3-4e38-b339-69925feab59e",
   "metadata": {
    "tags": []
   },
   "outputs": [],
   "source": [
    "# bart_shape_array = 'db1920458bee7ea9de34b68eb9f4d8a5'\n",
    "\n",
    "# act_6_shape_array = '3caab5c44277cbdc8fbc755bc0ea7633'"
   ]
  },
  {
   "cell_type": "markdown",
   "id": "2f078ab4-8fbc-4886-9498-8e88d0c427c1",
   "metadata": {},
   "source": [
    "## test aggregation"
   ]
  },
  {
   "cell_type": "code",
   "execution_count": 16,
   "id": "c2a4b0a0-3b0a-4d01-b5fa-5d97c038e85c",
   "metadata": {
    "tags": []
   },
   "outputs": [],
   "source": [
    "# sstb_geo = gpd.read_parquet(f'./shape_stops_tracts_borders_{analysis_date}.parquet')\n",
    "# sstb_geo.query('shape_array_key == @act_6_sa').explore()"
   ]
  },
  {
   "cell_type": "markdown",
   "id": "91f97ea2-a47a-4585-aea7-3ffbcfaa7202",
   "metadata": {},
   "source": [
    "### handle snap to tracts/borders with stops"
   ]
  },
  {
   "cell_type": "code",
   "execution_count": 17,
   "id": "e429dd44-8214-4693-a61e-838d7fffb1cd",
   "metadata": {
    "tags": []
   },
   "outputs": [],
   "source": [
    "def locate_stopping_segments(row, df):\n",
    "    if row.has_stop:\n",
    "        return row\n",
    "    else:\n",
    "        id_before = None\n",
    "        id_after = None\n",
    "        # print(row.name)\n",
    "        stop_before = df.loc[:(row.name - 1)].query('has_stop')\n",
    "        if not stop_before.empty:\n",
    "            id_before = stop_before.query('start_meters == start_meters.max()').tsi_segment_id.iloc[0]\n",
    "        stop_after = df.loc[(row.name + 1):].query('has_stop')\n",
    "        if not stop_after.empty:\n",
    "            id_after = stop_after.query('start_meters == start_meters.min()').tsi_segment_id.iloc[0]\n",
    "        row['stopping_segments'] = (id_before, id_after)\n",
    "        # return (id_before, id_after)\n",
    "        return row"
   ]
  },
  {
   "cell_type": "code",
   "execution_count": 18,
   "id": "ed3f81a5-27e0-4086-9b6b-137ae01ea115",
   "metadata": {
    "tags": []
   },
   "outputs": [],
   "source": [
    "def assign_stopping_sequences(joined_df):\n",
    "    '''\n",
    "    with a joined trip tsi segment df and shape\n",
    "    stopping df, create a new df by shape showing \n",
    "    which tsi segments (tracts or border zones) vrh & vrm\n",
    "    should be allocated to when there are no stops for that\n",
    "    shape in that segment\n",
    "    '''\n",
    "    cols = ['shape_array_key', 'start_meters', 'tsi_segment_id', 'has_stop']\n",
    "    simple_sequence_df = (joined_df[cols]\n",
    "                          .drop_duplicates()\n",
    "                          .sort_values(['shape_array_key', 'start_meters'])\n",
    "                          .reset_index(drop=True)\n",
    "                         )\n",
    "    fn = lambda df: df.apply(locate_stopping_segments, df=df, axis=1)\n",
    "    #  tuples will be (None, id) where there are no previous stops, or (id, None) where no subsequent stops\n",
    "    stopping_sequences_df = simple_sequence_df.groupby('shape_array_key', group_keys=False).progress_apply(fn)\n",
    "    #  scrub nones from tuples for accurate count:\n",
    "    stopping_sequences_df.stopping_segments = stopping_sequences_df.stopping_segments.map(\n",
    "            lambda y: y if type(y) != tuple else tuple(x for x in y if x))\n",
    "    stopping_sequences_df['n_stopping_segments'] = stopping_sequences_df.stopping_segments.map(\n",
    "            lambda y: y if type(y) != tuple else len(y)).fillna(1)\n",
    "    unassigned = stopping_sequences_df.query('n_stopping_segments == 0')\n",
    "    print(f'{unassigned.shape[0]} segments out of {stopping_sequences_df.shape[0]} can not be matched to a stop')\n",
    "    stopping_sequences_df = stopping_sequences_df.query('n_stopping_segments >= 1')\n",
    "    #  divide time and distance in tsi segments by number of segments post-explode\n",
    "    joined_df = (joined_df.merge(stopping_sequences_df, on=['has_stop', 'shape_array_key', 'start_meters', 'tsi_segment_id'])\n",
    "                 .explode('stopping_segments')\n",
    "                )\n",
    "    joined_df = joined_df.assign(tsi_segment_meters = joined_df.tsi_segment_meters / joined_df.n_stopping_segments,\n",
    "                         segment_seconds = joined_df.segment_seconds / joined_df.n_stopping_segments\n",
    "                        )\n",
    "    #  replace tsi_segment_id with stopping_segment if present, df can now be aggregated normally on tsi_segment_id\n",
    "    joined_df.tsi_segment_id = joined_df.stopping_segments.fillna(joined_df.tsi_segment_id)\n",
    "    joined_df = joined_df.drop(columns=['has_stop', 'arrival_sec', 'arrival_sec_next',\n",
    "                                       'start_meters', 'stopping_segments', 'n_stopping_segments'])\n",
    "    return joined_df"
   ]
  },
  {
   "cell_type": "code",
   "execution_count": null,
   "id": "30119c1b-1df2-49c7-961d-a7b3185a2aa9",
   "metadata": {
    "tags": []
   },
   "outputs": [
    {
     "name": "stderr",
     "output_type": "stream",
     "text": [
      "Progress:  12%|█▏        | 816/6819 [01:05<04:56, 20.27it/s]"
     ]
    }
   ],
   "source": [
    "stopping_sequences_df = assign_stopping_sequences(joined)"
   ]
  },
  {
   "cell_type": "markdown",
   "id": "c63e8371-b151-4335-877b-f684bdfa2f75",
   "metadata": {},
   "source": [
    "### handle snap to bordering tracts"
   ]
  },
  {
   "cell_type": "code",
   "execution_count": 30,
   "id": "2753f65d-0826-480e-b223-f95b05c75f6a",
   "metadata": {
    "tags": []
   },
   "outputs": [],
   "source": [
    "tsi_segs = gpd.read_parquet('tsi_segments_2025-04-16.parquet')"
   ]
  },
  {
   "cell_type": "code",
   "execution_count": 33,
   "id": "00b40fad-4a15-4621-b15a-0f7e0de71933",
   "metadata": {
    "tags": []
   },
   "outputs": [],
   "source": [
    "def assign_borders(stopping_sequences_df, border_df):\n",
    "    '''\n",
    "    \n",
    "    '''\n",
    "    border_cols = ['tsi_segment_id', 'border_tracts', 'border']\n",
    "    border_df = border_df.assign(border_tracts = tuple(zip(border_df.tract_1, border_df.tract_2)))[border_cols].drop_duplicates()\n",
    "    border_df.border_tracts = border_df.border_tracts.map(lambda x: None if x == (None, None) else x)\n",
    "    border_merged = stopping_sequences_df.merge(border_df, how='left', on='tsi_segment_id')\n",
    "    border_merged['border_divide'] = border_merged.border.replace({True: 2, False: 1})\n",
    "    border_merged = border_merged.explode('border_tracts')\n",
    "    border_merged = border_merged.assign(tsi_segment_meters = border_merged.tsi_segment_meters / border_merged.border_divide,\n",
    "                         segment_seconds = border_merged.segment_seconds / border_merged.border_divide\n",
    "                        )\n",
    "    border_merged['tract'] = border_merged.border_tracts.fillna(border_merged.tsi_segment_id)\n",
    "    border_merged = border_merged.drop(columns=['border_divide', 'border_tracts'])\n",
    "    return border_merged"
   ]
  },
  {
   "cell_type": "code",
   "execution_count": 34,
   "id": "4ef7de79-35af-491f-b9a7-394f53a78046",
   "metadata": {
    "tags": []
   },
   "outputs": [],
   "source": [
    "border_assigned_df = assign_borders(stopping_sequences_df, tsi_segs)"
   ]
  },
  {
   "cell_type": "code",
   "execution_count": 35,
   "id": "7eeaf633-5bff-4818-b786-4d13696602d9",
   "metadata": {
    "tags": []
   },
   "outputs": [
    {
     "data": {
      "text/html": [
       "<div>\n",
       "<style scoped>\n",
       "    .dataframe tbody tr th:only-of-type {\n",
       "        vertical-align: middle;\n",
       "    }\n",
       "\n",
       "    .dataframe tbody tr th {\n",
       "        vertical-align: top;\n",
       "    }\n",
       "\n",
       "    .dataframe thead th {\n",
       "        text-align: right;\n",
       "    }\n",
       "</style>\n",
       "<table border=\"1\" class=\"dataframe\">\n",
       "  <thead>\n",
       "    <tr style=\"text-align: right;\">\n",
       "      <th></th>\n",
       "      <th>shape_array_key</th>\n",
       "      <th>tsi_segment_id</th>\n",
       "      <th>tsi_segment_meters</th>\n",
       "      <th>trip_instance_key</th>\n",
       "      <th>segment_seconds</th>\n",
       "      <th>border</th>\n",
       "      <th>tract</th>\n",
       "    </tr>\n",
       "  </thead>\n",
       "  <tbody>\n",
       "    <tr>\n",
       "      <th>0</th>\n",
       "      <td>5ec2507625107a4038ae180ff9a14305</td>\n",
       "      <td>06083002007</td>\n",
       "      <td>140.657886</td>\n",
       "      <td>56b5e57da2edaa8219ad284d846f6e76</td>\n",
       "      <td>0.0</td>\n",
       "      <td>False</td>\n",
       "      <td>06083002007</td>\n",
       "    </tr>\n",
       "    <tr>\n",
       "      <th>1</th>\n",
       "      <td>5ec2507625107a4038ae180ff9a14305</td>\n",
       "      <td>06083002007</td>\n",
       "      <td>140.657886</td>\n",
       "      <td>56b5e57da2edaa8219ad284d846f6e76</td>\n",
       "      <td>0.0</td>\n",
       "      <td>False</td>\n",
       "      <td>06083002007</td>\n",
       "    </tr>\n",
       "    <tr>\n",
       "      <th>2</th>\n",
       "      <td>5ec2507625107a4038ae180ff9a14305</td>\n",
       "      <td>06083002007</td>\n",
       "      <td>140.657886</td>\n",
       "      <td>56b5e57da2edaa8219ad284d846f6e76</td>\n",
       "      <td>0.0</td>\n",
       "      <td>False</td>\n",
       "      <td>06083002007</td>\n",
       "    </tr>\n",
       "    <tr>\n",
       "      <th>3</th>\n",
       "      <td>5ec2507625107a4038ae180ff9a14305</td>\n",
       "      <td>06083002007</td>\n",
       "      <td>140.657886</td>\n",
       "      <td>56b5e57da2edaa8219ad284d846f6e76</td>\n",
       "      <td>0.0</td>\n",
       "      <td>False</td>\n",
       "      <td>06083002007</td>\n",
       "    </tr>\n",
       "    <tr>\n",
       "      <th>4</th>\n",
       "      <td>5ec2507625107a4038ae180ff9a14305</td>\n",
       "      <td>06083002007</td>\n",
       "      <td>140.657886</td>\n",
       "      <td>56b5e57da2edaa8219ad284d846f6e76</td>\n",
       "      <td>0.0</td>\n",
       "      <td>False</td>\n",
       "      <td>06083002007</td>\n",
       "    </tr>\n",
       "    <tr>\n",
       "      <th>5</th>\n",
       "      <td>5ec2507625107a4038ae180ff9a14305</td>\n",
       "      <td>06083002007</td>\n",
       "      <td>140.657886</td>\n",
       "      <td>56b5e57da2edaa8219ad284d846f6e76</td>\n",
       "      <td>0.0</td>\n",
       "      <td>False</td>\n",
       "      <td>06083002007</td>\n",
       "    </tr>\n",
       "    <tr>\n",
       "      <th>6</th>\n",
       "      <td>5ec2507625107a4038ae180ff9a14305</td>\n",
       "      <td>06083002007</td>\n",
       "      <td>140.657886</td>\n",
       "      <td>56b5e57da2edaa8219ad284d846f6e76</td>\n",
       "      <td>0.0</td>\n",
       "      <td>False</td>\n",
       "      <td>06083002007</td>\n",
       "    </tr>\n",
       "    <tr>\n",
       "      <th>7</th>\n",
       "      <td>5ec2507625107a4038ae180ff9a14305</td>\n",
       "      <td>06083002007</td>\n",
       "      <td>140.657886</td>\n",
       "      <td>56b5e57da2edaa8219ad284d846f6e76</td>\n",
       "      <td>0.0</td>\n",
       "      <td>False</td>\n",
       "      <td>06083002007</td>\n",
       "    </tr>\n",
       "    <tr>\n",
       "      <th>8</th>\n",
       "      <td>5ec2507625107a4038ae180ff9a14305</td>\n",
       "      <td>06083002007</td>\n",
       "      <td>140.657886</td>\n",
       "      <td>56b5e57da2edaa8219ad284d846f6e76</td>\n",
       "      <td>0.0</td>\n",
       "      <td>False</td>\n",
       "      <td>06083002007</td>\n",
       "    </tr>\n",
       "    <tr>\n",
       "      <th>9</th>\n",
       "      <td>5ec2507625107a4038ae180ff9a14305</td>\n",
       "      <td>06083002007</td>\n",
       "      <td>140.657886</td>\n",
       "      <td>56b5e57da2edaa8219ad284d846f6e76</td>\n",
       "      <td>0.0</td>\n",
       "      <td>False</td>\n",
       "      <td>06083002007</td>\n",
       "    </tr>\n",
       "  </tbody>\n",
       "</table>\n",
       "</div>"
      ],
      "text/plain": [
       "                    shape_array_key tsi_segment_id  tsi_segment_meters  \\\n",
       "0  5ec2507625107a4038ae180ff9a14305    06083002007          140.657886   \n",
       "1  5ec2507625107a4038ae180ff9a14305    06083002007          140.657886   \n",
       "2  5ec2507625107a4038ae180ff9a14305    06083002007          140.657886   \n",
       "3  5ec2507625107a4038ae180ff9a14305    06083002007          140.657886   \n",
       "4  5ec2507625107a4038ae180ff9a14305    06083002007          140.657886   \n",
       "5  5ec2507625107a4038ae180ff9a14305    06083002007          140.657886   \n",
       "6  5ec2507625107a4038ae180ff9a14305    06083002007          140.657886   \n",
       "7  5ec2507625107a4038ae180ff9a14305    06083002007          140.657886   \n",
       "8  5ec2507625107a4038ae180ff9a14305    06083002007          140.657886   \n",
       "9  5ec2507625107a4038ae180ff9a14305    06083002007          140.657886   \n",
       "\n",
       "                  trip_instance_key  segment_seconds  border        tract  \n",
       "0  56b5e57da2edaa8219ad284d846f6e76              0.0   False  06083002007  \n",
       "1  56b5e57da2edaa8219ad284d846f6e76              0.0   False  06083002007  \n",
       "2  56b5e57da2edaa8219ad284d846f6e76              0.0   False  06083002007  \n",
       "3  56b5e57da2edaa8219ad284d846f6e76              0.0   False  06083002007  \n",
       "4  56b5e57da2edaa8219ad284d846f6e76              0.0   False  06083002007  \n",
       "5  56b5e57da2edaa8219ad284d846f6e76              0.0   False  06083002007  \n",
       "6  56b5e57da2edaa8219ad284d846f6e76              0.0   False  06083002007  \n",
       "7  56b5e57da2edaa8219ad284d846f6e76              0.0   False  06083002007  \n",
       "8  56b5e57da2edaa8219ad284d846f6e76              0.0   False  06083002007  \n",
       "9  56b5e57da2edaa8219ad284d846f6e76              0.0   False  06083002007  "
      ]
     },
     "execution_count": 35,
     "metadata": {},
     "output_type": "execute_result"
    }
   ],
   "source": [
    "border_assigned_df.head(10)"
   ]
  },
  {
   "cell_type": "code",
   "execution_count": 36,
   "id": "30499cfc-4c68-4c00-9154-7c4cbd5af617",
   "metadata": {
    "tags": []
   },
   "outputs": [],
   "source": [
    "def aggregate_to_tract(border_assigned_df, group_cols = ['tract']):\n",
    "    '''\n",
    "    '''\n",
    "    sum_cols = ['tsi_segment_meters', 'segment_seconds']\n",
    "    grouped = border_assigned_df.groupby(group_cols)[sum_cols]\n",
    "    aggregated = grouped.sum().reset_index()\n",
    "    aggregated = aggregated.assign(daily_vrm_miles = aggregated.tsi_segment_meters / rt_utils.METERS_PER_MILE,\n",
    "                                  daily_vrh_hours = aggregated.segment_seconds / 60**2)\n",
    "    aggregated = aggregated.drop(columns=sum_cols)\n",
    "    return aggregated.round(1)"
   ]
  },
  {
   "cell_type": "code",
   "execution_count": 37,
   "id": "d7ce9c35-4abd-4912-a8fd-4ddfc03cea0f",
   "metadata": {
    "tags": []
   },
   "outputs": [],
   "source": [
    "transit_service_intensity = aggregate_to_tract(border_assigned_df)"
   ]
  },
  {
   "cell_type": "code",
   "execution_count": 38,
   "id": "7d5f225f-eabc-4927-b60c-3b5f925d26b2",
   "metadata": {
    "tags": []
   },
   "outputs": [],
   "source": [
    "transit_service_intensity.to_parquet(f'test_tsi_{ANALYSIS_DATE}.parquet')"
   ]
  },
  {
   "cell_type": "code",
   "execution_count": 39,
   "id": "0efe3224-1106-47ea-bcfa-4ddb32329b4d",
   "metadata": {
    "tags": []
   },
   "outputs": [
    {
     "data": {
      "text/html": [
       "<div>\n",
       "<style scoped>\n",
       "    .dataframe tbody tr th:only-of-type {\n",
       "        vertical-align: middle;\n",
       "    }\n",
       "\n",
       "    .dataframe tbody tr th {\n",
       "        vertical-align: top;\n",
       "    }\n",
       "\n",
       "    .dataframe thead th {\n",
       "        text-align: right;\n",
       "    }\n",
       "</style>\n",
       "<table border=\"1\" class=\"dataframe\">\n",
       "  <thead>\n",
       "    <tr style=\"text-align: right;\">\n",
       "      <th></th>\n",
       "      <th>tract</th>\n",
       "      <th>daily_vrm_miles</th>\n",
       "      <th>daily_vrh_hours</th>\n",
       "    </tr>\n",
       "  </thead>\n",
       "  <tbody>\n",
       "    <tr>\n",
       "      <th>0</th>\n",
       "      <td>06001400100</td>\n",
       "      <td>186.2</td>\n",
       "      <td>3.4</td>\n",
       "    </tr>\n",
       "    <tr>\n",
       "      <th>1</th>\n",
       "      <td>06001400200</td>\n",
       "      <td>622.3</td>\n",
       "      <td>42.9</td>\n",
       "    </tr>\n",
       "    <tr>\n",
       "      <th>2</th>\n",
       "      <td>06001400300</td>\n",
       "      <td>961.5</td>\n",
       "      <td>65.1</td>\n",
       "    </tr>\n",
       "    <tr>\n",
       "      <th>3</th>\n",
       "      <td>06001400400</td>\n",
       "      <td>316.2</td>\n",
       "      <td>21.2</td>\n",
       "    </tr>\n",
       "    <tr>\n",
       "      <th>4</th>\n",
       "      <td>06001400500</td>\n",
       "      <td>387.8</td>\n",
       "      <td>28.1</td>\n",
       "    </tr>\n",
       "    <tr>\n",
       "      <th>...</th>\n",
       "      <td>...</td>\n",
       "      <td>...</td>\n",
       "      <td>...</td>\n",
       "    </tr>\n",
       "    <tr>\n",
       "      <th>7389</th>\n",
       "      <td>06115040700</td>\n",
       "      <td>327.6</td>\n",
       "      <td>2.5</td>\n",
       "    </tr>\n",
       "    <tr>\n",
       "      <th>7390</th>\n",
       "      <td>06115040800</td>\n",
       "      <td>92.6</td>\n",
       "      <td>3.3</td>\n",
       "    </tr>\n",
       "    <tr>\n",
       "      <th>7391</th>\n",
       "      <td>06115040901</td>\n",
       "      <td>7.5</td>\n",
       "      <td>0.0</td>\n",
       "    </tr>\n",
       "    <tr>\n",
       "      <th>7392</th>\n",
       "      <td>06115041000</td>\n",
       "      <td>86.5</td>\n",
       "      <td>2.5</td>\n",
       "    </tr>\n",
       "    <tr>\n",
       "      <th>7393</th>\n",
       "      <td>06115041100</td>\n",
       "      <td>144.4</td>\n",
       "      <td>4.2</td>\n",
       "    </tr>\n",
       "  </tbody>\n",
       "</table>\n",
       "<p>7394 rows × 3 columns</p>\n",
       "</div>"
      ],
      "text/plain": [
       "            tract  daily_vrm_miles  daily_vrh_hours\n",
       "0     06001400100            186.2              3.4\n",
       "1     06001400200            622.3             42.9\n",
       "2     06001400300            961.5             65.1\n",
       "3     06001400400            316.2             21.2\n",
       "4     06001400500            387.8             28.1\n",
       "...           ...              ...              ...\n",
       "7389  06115040700            327.6              2.5\n",
       "7390  06115040800             92.6              3.3\n",
       "7391  06115040901              7.5              0.0\n",
       "7392  06115041000             86.5              2.5\n",
       "7393  06115041100            144.4              4.2\n",
       "\n",
       "[7394 rows x 3 columns]"
      ]
     },
     "execution_count": 39,
     "metadata": {},
     "output_type": "execute_result"
    }
   ],
   "source": [
    "transit_service_intensity"
   ]
  },
  {
   "cell_type": "code",
   "execution_count": 41,
   "id": "5e3a3722-7857-4b1e-812f-d600732c007c",
   "metadata": {
    "tags": []
   },
   "outputs": [],
   "source": [
    "tracts = read_census_tracts(ANALYSIS_DATE)"
   ]
  },
  {
   "cell_type": "code",
   "execution_count": 61,
   "id": "f6d0f424-f57b-4384-ae13-ebd7f7c96019",
   "metadata": {
    "tags": []
   },
   "outputs": [],
   "source": [
    "tracts.merge(transit_service_intensity, on='tract').to_file(f'test_tsi_statewide_{ANALYSIS_DATE}.geojson')"
   ]
  },
  {
   "cell_type": "code",
   "execution_count": 62,
   "id": "d2991f5c-3d6a-41c9-8192-02744d481fc1",
   "metadata": {
    "tags": []
   },
   "outputs": [],
   "source": [
    "# tracts.merge(transit_service_intensity, on='tract').query('daily_vrh_hours < 10000').explore(column='daily_vrh_hours', scheme='FisherJenks')"
   ]
  },
  {
   "cell_type": "code",
   "execution_count": 63,
   "id": "c86cb29f-8ea2-4b70-958a-742d4da39af9",
   "metadata": {
    "tags": []
   },
   "outputs": [],
   "source": [
    "# gdf = tracts.merge(transit_service_intensity, on='tract').query('daily_vrh_hours < 10000 & daily_vrh_hours > 0').assign(est_speed = transit_service_intensity.daily_vrm_miles / transit_service_intensity.daily_vrh_hours)"
   ]
  }
 ],
 "metadata": {
  "kernelspec": {
   "display_name": "Python 3 (ipykernel)",
   "language": "python",
   "name": "python3"
  },
  "language_info": {
   "codemirror_mode": {
    "name": "ipython",
    "version": 3
   },
   "file_extension": ".py",
   "mimetype": "text/x-python",
   "name": "python",
   "nbconvert_exporter": "python",
   "pygments_lexer": "ipython3",
   "version": "3.11.10"
  },
  "widgets": {
   "application/vnd.jupyter.widget-state+json": {
    "state": {},
    "version_major": 2,
    "version_minor": 0
   }
  }
 },
 "nbformat": 4,
 "nbformat_minor": 5
}
