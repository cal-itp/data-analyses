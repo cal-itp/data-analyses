{
 "cells": [
  {
   "cell_type": "code",
   "execution_count": 1,
   "id": "9e645c63-24e5-466f-8f20-279614c1d767",
   "metadata": {},
   "outputs": [],
   "source": [
    "import sys"
   ]
  },
  {
   "cell_type": "code",
   "execution_count": 2,
   "id": "4f3eb58f-9663-4867-a5c2-2ed658cd4c0d",
   "metadata": {},
   "outputs": [],
   "source": [
    "import intake\n",
    "import pandas as pd\n",
    "import geopandas as gpd\n",
    "import numpy as np\n",
    "from calitp_data_analysis import geography_utils\n",
    "from siuba import *\n",
    "import gtfs_segments\n",
    "import shapely\n",
    "\n",
    "from update_vars import ANALYSIS_DATE, BORDER_BUFFER_METERS, GCS_PATH"
   ]
  },
  {
   "cell_type": "code",
   "execution_count": 3,
   "id": "dbc34a06-4993-426d-8e6e-99b9cd447222",
   "metadata": {},
   "outputs": [],
   "source": [
    "from shared_utils import catalog_utils, rt_dates, rt_utils\n",
    "GTFS_DATA_DICT = catalog_utils.get_catalog(\"gtfs_analytics_data\")"
   ]
  },
  {
   "cell_type": "code",
   "execution_count": 4,
   "id": "815cb9ed-e7dd-4a8f-9830-917101668c45",
   "metadata": {},
   "outputs": [],
   "source": [
    "from segment_speed_utils import helpers"
   ]
  },
  {
   "cell_type": "code",
   "execution_count": 5,
   "id": "0d7d3d01-a56f-4c3d-96dc-cb0f1938432f",
   "metadata": {
    "tags": []
   },
   "outputs": [],
   "source": [
    "from tqdm import tqdm\n",
    "tqdm.pandas(desc=\"Progress\")"
   ]
  },
  {
   "cell_type": "markdown",
   "id": "afe82e80-7c93-43ed-a32a-5c3daed646eb",
   "metadata": {},
   "source": [
    "# Prepare df for aggregation"
   ]
  },
  {
   "cell_type": "markdown",
   "id": "33dd2313-e281-4d0c-ad3d-a7db022a8ebd",
   "metadata": {},
   "source": [
    "## trip - linestring interpolation\n",
    "\n",
    "could use this again? https://github.com/cal-itp/data-analyses/blob/530f2d5cf4419a2403d6485845d91ac4bc65e672/_shared_utils/shared_utils/rt_utils.py#L574-L579\n",
    "\n",
    "https://github.com/cal-itp/data-analyses/blob/530f2d5cf4419a2403d6485845d91ac4bc65e672/rt_delay/rt_analysis/rt_parser.py#L90\n",
    "\n",
    "* fillna both directions arrival <-> departure time\n",
    "* then dropna"
   ]
  },
  {
   "cell_type": "markdown",
   "id": "c4cc0283-829d-4d99-8c0b-ccc34868c6e7",
   "metadata": {
    "tags": []
   },
   "source": [
    "## Projected st via `stop_times_direction`"
   ]
  },
  {
   "cell_type": "markdown",
   "id": "465b86df-45ce-47b7-8672-6e7dd94e4d2c",
   "metadata": {},
   "source": [
    "### functions\n",
    "\n",
    "* could I just use helpers import w/ dir here?"
   ]
  },
  {
   "cell_type": "code",
   "execution_count": 6,
   "id": "9c733c9e-395f-4e4c-9fa6-8e4d10d0c2df",
   "metadata": {},
   "outputs": [],
   "source": [
    "def attach_projected_stop_times(analysis_date: str):\n",
    "    '''\n",
    "    \n",
    "    '''\n",
    "    st_dir_cols = ['trip_instance_key', 'stop_sequence', 'stop_meters', 'stop_id']\n",
    "    st_dir = helpers.import_scheduled_stop_times(analysis_date, columns=st_dir_cols, get_pandas=True,\n",
    "                                                 with_direction=True)\n",
    "    st = helpers.import_scheduled_stop_times(analysis_date, get_pandas=True)\n",
    "    trips = helpers.import_scheduled_trips(analysis_date, columns=['trip_id', 'trip_instance_key', 'feed_key',\n",
    "                                                                  'shape_array_key'])\n",
    "    st = st.merge(trips, on = ['feed_key', 'trip_id'])\n",
    "    return st.merge(st_dir, on = ['trip_instance_key', 'stop_sequence', 'stop_id'])"
   ]
  },
  {
   "cell_type": "code",
   "execution_count": 7,
   "id": "63cc8327-f193-4f46-b0e3-1dee395f1c8a",
   "metadata": {
    "tags": []
   },
   "outputs": [],
   "source": [
    "st_proj = attach_projected_stop_times(ANALYSIS_DATE)"
   ]
  },
  {
   "cell_type": "code",
   "execution_count": 8,
   "id": "d404c84f-69a2-41e4-90ad-372a7ff651fb",
   "metadata": {
    "tags": []
   },
   "outputs": [
    {
     "data": {
      "text/plain": [
       "False    4399313\n",
       "True      102084\n",
       "Name: departure_sec, dtype: int64"
      ]
     },
     "execution_count": 8,
     "metadata": {},
     "output_type": "execute_result"
    }
   ],
   "source": [
    "st_proj.departure_sec.isna().value_counts()"
   ]
  },
  {
   "cell_type": "code",
   "execution_count": 39,
   "id": "17fa8221-dfad-45ba-abe0-aa4235eb65f2",
   "metadata": {
    "tags": []
   },
   "outputs": [],
   "source": [
    "trips = helpers.import_scheduled_trips(ANALYSIS_DATE, columns=['trip_id', 'trip_instance_key', 'feed_key',\n",
    "                                                              'shape_array_key'])"
   ]
  },
  {
   "cell_type": "code",
   "execution_count": 9,
   "id": "76526d04-25d9-4d56-a432-6714c50e8d05",
   "metadata": {
    "tags": []
   },
   "outputs": [],
   "source": [
    "# st_proj.query('departure_sec.isna() & arrival_sec.isna()') # same subset, no point in fillna"
   ]
  },
  {
   "cell_type": "markdown",
   "id": "5fe099aa-78a9-4ab7-8dbf-23fa06248aa3",
   "metadata": {},
   "source": [
    "## projecting TSI interpolation points"
   ]
  },
  {
   "cell_type": "code",
   "execution_count": 10,
   "id": "28876b3a-880d-49fd-ab57-40477d81e193",
   "metadata": {
    "tags": []
   },
   "outputs": [],
   "source": [
    "shapes = helpers.import_scheduled_shapes(ANALYSIS_DATE, crs=geography_utils.CA_NAD83Albers_m)"
   ]
  },
  {
   "cell_type": "code",
   "execution_count": 27,
   "id": "f25a1603-53a8-4307-b21c-71e0d990ba9a",
   "metadata": {
    "tags": []
   },
   "outputs": [],
   "source": [
    "def read_tsi_segs(analysis_date, shapes):\n",
    "    tsi_segs = gpd.read_parquet(f'tsi_segments_{analysis_date}.parquet')\n",
    "    tsi_segs = tsi_segs.drop(columns=['geometry'])\n",
    "\n",
    "    shape_merged = (shapes.merge(tsi_segs, on='shape_array_key')\n",
    "                         .rename(columns={'geometry': 'shape_geometry'}))\n",
    "\n",
    "    shape_merged = shape_merged.assign(\n",
    "        start_meters = shape_merged.shape_geometry.project(shape_merged.start)\n",
    "    )\n",
    "    shape_merged = shape_merged.sort_values('start_meters').reset_index(drop=True)\n",
    "    cols = ['shape_array_key', 'tsi_segment_id', 'start_meters', 'tsi_segment_meters']\n",
    "    shape_merged = shape_merged[cols]\n",
    "    return shape_merged"
   ]
  },
  {
   "cell_type": "markdown",
   "id": "e8a6e308-1610-45ed-95c5-8bd1f4c41ca8",
   "metadata": {},
   "source": [
    "## interpolation with arrays"
   ]
  },
  {
   "cell_type": "markdown",
   "id": "d1d4db26-2bc4-43bf-9b4c-80d493a5815c",
   "metadata": {},
   "source": [
    "### create function -- with `test_tract_borders`"
   ]
  },
  {
   "cell_type": "code",
   "execution_count": 28,
   "id": "abd32f5d-4a76-486b-ab92-ea8c1d6fe05e",
   "metadata": {
    "tags": []
   },
   "outputs": [
    {
     "name": "stderr",
     "output_type": "stream",
     "text": [
      "/opt/conda/lib/python3.11/site-packages/shapely/linear.py:88: RuntimeWarning: invalid value encountered in line_locate_point\n",
      "  return lib.line_locate_point(line, other)\n"
     ]
    }
   ],
   "source": [
    "shape_merged = read_tsi_segs(ANALYSIS_DATE, shapes)"
   ]
  },
  {
   "cell_type": "code",
   "execution_count": 29,
   "id": "75ec3a3b-8d1b-45c4-889c-9fc5aaefa5dd",
   "metadata": {
    "tags": []
   },
   "outputs": [],
   "source": [
    "tsi_segments_trips = shape_merged.merge(st_proj[['shape_array_key', 'trip_instance_key']].drop_duplicates(), on='shape_array_key')"
   ]
  },
  {
   "cell_type": "code",
   "execution_count": 30,
   "id": "9b6519b2-77ec-40f4-8a35-5693508abaaa",
   "metadata": {
    "tags": []
   },
   "outputs": [
    {
     "data": {
      "text/html": [
       "<div>\n",
       "<style scoped>\n",
       "    .dataframe tbody tr th:only-of-type {\n",
       "        vertical-align: middle;\n",
       "    }\n",
       "\n",
       "    .dataframe tbody tr th {\n",
       "        vertical-align: top;\n",
       "    }\n",
       "\n",
       "    .dataframe thead th {\n",
       "        text-align: right;\n",
       "    }\n",
       "</style>\n",
       "<table border=\"1\" class=\"dataframe\">\n",
       "  <thead>\n",
       "    <tr style=\"text-align: right;\">\n",
       "      <th></th>\n",
       "      <th>shape_array_key</th>\n",
       "      <th>tsi_segment_id</th>\n",
       "      <th>start_meters</th>\n",
       "      <th>tsi_segment_meters</th>\n",
       "      <th>trip_instance_key</th>\n",
       "    </tr>\n",
       "  </thead>\n",
       "  <tbody>\n",
       "    <tr>\n",
       "      <th>0</th>\n",
       "      <td>0f4a8a4dda3a6a1fa8da45aa0ff09060</td>\n",
       "      <td>06067000600</td>\n",
       "      <td>0.000000e+00</td>\n",
       "      <td>616.350887</td>\n",
       "      <td>6d53e9536be4eeea9e1648484a0a409f</td>\n",
       "    </tr>\n",
       "    <tr>\n",
       "      <th>1</th>\n",
       "      <td>0f4a8a4dda3a6a1fa8da45aa0ff09060</td>\n",
       "      <td>06067000600</td>\n",
       "      <td>0.000000e+00</td>\n",
       "      <td>616.350887</td>\n",
       "      <td>c5f8fa23a7660fe300aaadc535fb7e24</td>\n",
       "    </tr>\n",
       "    <tr>\n",
       "      <th>2</th>\n",
       "      <td>0f4a8a4dda3a6a1fa8da45aa0ff09060</td>\n",
       "      <td>06067000600</td>\n",
       "      <td>0.000000e+00</td>\n",
       "      <td>616.350887</td>\n",
       "      <td>dbcf145f2cb2ae3375a4b2d3d9c0cd43</td>\n",
       "    </tr>\n",
       "    <tr>\n",
       "      <th>3</th>\n",
       "      <td>0f4a8a4dda3a6a1fa8da45aa0ff09060</td>\n",
       "      <td>06067000600</td>\n",
       "      <td>0.000000e+00</td>\n",
       "      <td>616.350887</td>\n",
       "      <td>d073966d625a8adffa950a02169e05ed</td>\n",
       "    </tr>\n",
       "    <tr>\n",
       "      <th>4</th>\n",
       "      <td>0f4a8a4dda3a6a1fa8da45aa0ff09060</td>\n",
       "      <td>06067000600</td>\n",
       "      <td>0.000000e+00</td>\n",
       "      <td>616.350887</td>\n",
       "      <td>5ca59a4662b19ed0705c6ca4e7b7e3b6</td>\n",
       "    </tr>\n",
       "    <tr>\n",
       "      <th>...</th>\n",
       "      <td>...</td>\n",
       "      <td>...</td>\n",
       "      <td>...</td>\n",
       "      <td>...</td>\n",
       "      <td>...</td>\n",
       "    </tr>\n",
       "    <tr>\n",
       "      <th>2844392</th>\n",
       "      <td>ba7cb0c49ed0e16c54cf79c5e3f4f809</td>\n",
       "      <td>06057001206</td>\n",
       "      <td>3.506928e+06</td>\n",
       "      <td>4118.166756</td>\n",
       "      <td>7d4f8a2f1ba86b13f249515230df155c</td>\n",
       "    </tr>\n",
       "    <tr>\n",
       "      <th>2844393</th>\n",
       "      <td>ba7cb0c49ed0e16c54cf79c5e3f4f809</td>\n",
       "      <td>06057001205</td>\n",
       "      <td>3.511047e+06</td>\n",
       "      <td>8225.176570</td>\n",
       "      <td>7d4f8a2f1ba86b13f249515230df155c</td>\n",
       "    </tr>\n",
       "    <tr>\n",
       "      <th>2844394</th>\n",
       "      <td>ba7cb0c49ed0e16c54cf79c5e3f4f809</td>\n",
       "      <td>06057000900</td>\n",
       "      <td>3.519280e+06</td>\n",
       "      <td>4698.406032</td>\n",
       "      <td>7d4f8a2f1ba86b13f249515230df155c</td>\n",
       "    </tr>\n",
       "    <tr>\n",
       "      <th>2844395</th>\n",
       "      <td>ba7cb0c49ed0e16c54cf79c5e3f4f809</td>\n",
       "      <td>06057000900</td>\n",
       "      <td>3.524024e+06</td>\n",
       "      <td>15218.109616</td>\n",
       "      <td>7d4f8a2f1ba86b13f249515230df155c</td>\n",
       "    </tr>\n",
       "    <tr>\n",
       "      <th>2844396</th>\n",
       "      <td>ba7cb0c49ed0e16c54cf79c5e3f4f809</td>\n",
       "      <td>06091010000</td>\n",
       "      <td>3.539242e+06</td>\n",
       "      <td>2602.678806</td>\n",
       "      <td>7d4f8a2f1ba86b13f249515230df155c</td>\n",
       "    </tr>\n",
       "  </tbody>\n",
       "</table>\n",
       "<p>2844397 rows × 5 columns</p>\n",
       "</div>"
      ],
      "text/plain": [
       "                          shape_array_key tsi_segment_id  start_meters  \\\n",
       "0        0f4a8a4dda3a6a1fa8da45aa0ff09060    06067000600  0.000000e+00   \n",
       "1        0f4a8a4dda3a6a1fa8da45aa0ff09060    06067000600  0.000000e+00   \n",
       "2        0f4a8a4dda3a6a1fa8da45aa0ff09060    06067000600  0.000000e+00   \n",
       "3        0f4a8a4dda3a6a1fa8da45aa0ff09060    06067000600  0.000000e+00   \n",
       "4        0f4a8a4dda3a6a1fa8da45aa0ff09060    06067000600  0.000000e+00   \n",
       "...                                   ...            ...           ...   \n",
       "2844392  ba7cb0c49ed0e16c54cf79c5e3f4f809    06057001206  3.506928e+06   \n",
       "2844393  ba7cb0c49ed0e16c54cf79c5e3f4f809    06057001205  3.511047e+06   \n",
       "2844394  ba7cb0c49ed0e16c54cf79c5e3f4f809    06057000900  3.519280e+06   \n",
       "2844395  ba7cb0c49ed0e16c54cf79c5e3f4f809    06057000900  3.524024e+06   \n",
       "2844396  ba7cb0c49ed0e16c54cf79c5e3f4f809    06091010000  3.539242e+06   \n",
       "\n",
       "         tsi_segment_meters                 trip_instance_key  \n",
       "0                616.350887  6d53e9536be4eeea9e1648484a0a409f  \n",
       "1                616.350887  c5f8fa23a7660fe300aaadc535fb7e24  \n",
       "2                616.350887  dbcf145f2cb2ae3375a4b2d3d9c0cd43  \n",
       "3                616.350887  d073966d625a8adffa950a02169e05ed  \n",
       "4                616.350887  5ca59a4662b19ed0705c6ca4e7b7e3b6  \n",
       "...                     ...                               ...  \n",
       "2844392         4118.166756  7d4f8a2f1ba86b13f249515230df155c  \n",
       "2844393         8225.176570  7d4f8a2f1ba86b13f249515230df155c  \n",
       "2844394         4698.406032  7d4f8a2f1ba86b13f249515230df155c  \n",
       "2844395        15218.109616  7d4f8a2f1ba86b13f249515230df155c  \n",
       "2844396         2602.678806  7d4f8a2f1ba86b13f249515230df155c  \n",
       "\n",
       "[2844397 rows x 5 columns]"
      ]
     },
     "execution_count": 30,
     "metadata": {},
     "output_type": "execute_result"
    }
   ],
   "source": [
    "tsi_segments_trips"
   ]
  },
  {
   "cell_type": "code",
   "execution_count": 32,
   "id": "fe9ae846-e9cb-4e89-a40f-0cd63b4f26da",
   "metadata": {
    "tags": []
   },
   "outputs": [
    {
     "data": {
      "text/plain": [
       "(154141, 5)"
      ]
     },
     "execution_count": 32,
     "metadata": {},
     "output_type": "execute_result"
    }
   ],
   "source": [
    "tsi_segments_trips.drop_duplicates(subset=['trip_instance_key']).shape"
   ]
  },
  {
   "cell_type": "code",
   "execution_count": 41,
   "id": "0461b085-1715-4086-99cf-4e71d11f6651",
   "metadata": {
    "tags": []
   },
   "outputs": [],
   "source": [
    "def tract_border_time_by_trip(tracts_borders_trip_df: pd.DataFrame, st_proj_df: pd.DataFrame):\n",
    "    '''\n",
    "    '''\n",
    "    \n",
    "    one_trip = st_proj_df.query('trip_instance_key == @tracts_borders_trip_df.trip_instance_key.iloc[0]').sort_values('stop_sequence')\n",
    "    shape_array = one_trip.stop_meters.to_numpy()\n",
    "    dt_float_array = one_trip.arrival_sec.to_numpy()\n",
    "    tracts_borders_trip_df['arrival_sec'] = tracts_borders_trip_df.start_meters.apply(\n",
    "        rt_utils.time_at_position_numba, shape_array=shape_array, dt_float_array = dt_float_array)\n",
    "    tracts_borders_trip_df = tracts_borders_trip_df.assign(arrival_sec_next = tracts_borders_trip_df.arrival_sec.shift(-1),\n",
    "                                                   trip_instance_key = one_trip.trip_instance_key.iloc[0])\n",
    "    tracts_borders_trip_df.loc[tracts_borders_trip_df.index.min(),'arrival_sec'] = one_trip.arrival_sec.min()\n",
    "    tracts_borders_trip_df.loc[tracts_borders_trip_df.index.max(),'arrival_sec_next'] = one_trip.arrival_sec.max()\n",
    "    tracts_borders_trip_df = tracts_borders_trip_df.assign(segment_seconds = tracts_borders_trip_df.arrival_sec_next - tracts_borders_trip_df.arrival_sec)\n",
    "    \n",
    "    return tracts_borders_trip_df"
   ]
  },
  {
   "cell_type": "code",
   "execution_count": 43,
   "id": "bac7ff48-ab59-4297-83d3-4f6a95250027",
   "metadata": {
    "tags": []
   },
   "outputs": [
    {
     "data": {
      "text/html": [
       "<div>\n",
       "<style scoped>\n",
       "    .dataframe tbody tr th:only-of-type {\n",
       "        vertical-align: middle;\n",
       "    }\n",
       "\n",
       "    .dataframe tbody tr th {\n",
       "        vertical-align: top;\n",
       "    }\n",
       "\n",
       "    .dataframe thead th {\n",
       "        text-align: right;\n",
       "    }\n",
       "</style>\n",
       "<table border=\"1\" class=\"dataframe\">\n",
       "  <thead>\n",
       "    <tr style=\"text-align: right;\">\n",
       "      <th></th>\n",
       "      <th>shape_array_key</th>\n",
       "      <th>tsi_segment_id</th>\n",
       "      <th>start_meters</th>\n",
       "      <th>tsi_segment_meters</th>\n",
       "      <th>trip_instance_key</th>\n",
       "    </tr>\n",
       "  </thead>\n",
       "  <tbody>\n",
       "    <tr>\n",
       "      <th>0</th>\n",
       "      <td>0f4a8a4dda3a6a1fa8da45aa0ff09060</td>\n",
       "      <td>06067000600</td>\n",
       "      <td>0.000000e+00</td>\n",
       "      <td>616.350887</td>\n",
       "      <td>6d53e9536be4eeea9e1648484a0a409f</td>\n",
       "    </tr>\n",
       "    <tr>\n",
       "      <th>1</th>\n",
       "      <td>0f4a8a4dda3a6a1fa8da45aa0ff09060</td>\n",
       "      <td>06067000600</td>\n",
       "      <td>0.000000e+00</td>\n",
       "      <td>616.350887</td>\n",
       "      <td>c5f8fa23a7660fe300aaadc535fb7e24</td>\n",
       "    </tr>\n",
       "    <tr>\n",
       "      <th>2</th>\n",
       "      <td>0f4a8a4dda3a6a1fa8da45aa0ff09060</td>\n",
       "      <td>06067000600</td>\n",
       "      <td>0.000000e+00</td>\n",
       "      <td>616.350887</td>\n",
       "      <td>dbcf145f2cb2ae3375a4b2d3d9c0cd43</td>\n",
       "    </tr>\n",
       "    <tr>\n",
       "      <th>3</th>\n",
       "      <td>0f4a8a4dda3a6a1fa8da45aa0ff09060</td>\n",
       "      <td>06067000600</td>\n",
       "      <td>0.000000e+00</td>\n",
       "      <td>616.350887</td>\n",
       "      <td>d073966d625a8adffa950a02169e05ed</td>\n",
       "    </tr>\n",
       "    <tr>\n",
       "      <th>4</th>\n",
       "      <td>0f4a8a4dda3a6a1fa8da45aa0ff09060</td>\n",
       "      <td>06067000600</td>\n",
       "      <td>0.000000e+00</td>\n",
       "      <td>616.350887</td>\n",
       "      <td>5ca59a4662b19ed0705c6ca4e7b7e3b6</td>\n",
       "    </tr>\n",
       "    <tr>\n",
       "      <th>...</th>\n",
       "      <td>...</td>\n",
       "      <td>...</td>\n",
       "      <td>...</td>\n",
       "      <td>...</td>\n",
       "      <td>...</td>\n",
       "    </tr>\n",
       "    <tr>\n",
       "      <th>2844392</th>\n",
       "      <td>ba7cb0c49ed0e16c54cf79c5e3f4f809</td>\n",
       "      <td>06057001206</td>\n",
       "      <td>3.506928e+06</td>\n",
       "      <td>4118.166756</td>\n",
       "      <td>7d4f8a2f1ba86b13f249515230df155c</td>\n",
       "    </tr>\n",
       "    <tr>\n",
       "      <th>2844393</th>\n",
       "      <td>ba7cb0c49ed0e16c54cf79c5e3f4f809</td>\n",
       "      <td>06057001205</td>\n",
       "      <td>3.511047e+06</td>\n",
       "      <td>8225.176570</td>\n",
       "      <td>7d4f8a2f1ba86b13f249515230df155c</td>\n",
       "    </tr>\n",
       "    <tr>\n",
       "      <th>2844394</th>\n",
       "      <td>ba7cb0c49ed0e16c54cf79c5e3f4f809</td>\n",
       "      <td>06057000900</td>\n",
       "      <td>3.519280e+06</td>\n",
       "      <td>4698.406032</td>\n",
       "      <td>7d4f8a2f1ba86b13f249515230df155c</td>\n",
       "    </tr>\n",
       "    <tr>\n",
       "      <th>2844395</th>\n",
       "      <td>ba7cb0c49ed0e16c54cf79c5e3f4f809</td>\n",
       "      <td>06057000900</td>\n",
       "      <td>3.524024e+06</td>\n",
       "      <td>15218.109616</td>\n",
       "      <td>7d4f8a2f1ba86b13f249515230df155c</td>\n",
       "    </tr>\n",
       "    <tr>\n",
       "      <th>2844396</th>\n",
       "      <td>ba7cb0c49ed0e16c54cf79c5e3f4f809</td>\n",
       "      <td>06091010000</td>\n",
       "      <td>3.539242e+06</td>\n",
       "      <td>2602.678806</td>\n",
       "      <td>7d4f8a2f1ba86b13f249515230df155c</td>\n",
       "    </tr>\n",
       "  </tbody>\n",
       "</table>\n",
       "<p>2844397 rows × 5 columns</p>\n",
       "</div>"
      ],
      "text/plain": [
       "                          shape_array_key tsi_segment_id  start_meters  \\\n",
       "0        0f4a8a4dda3a6a1fa8da45aa0ff09060    06067000600  0.000000e+00   \n",
       "1        0f4a8a4dda3a6a1fa8da45aa0ff09060    06067000600  0.000000e+00   \n",
       "2        0f4a8a4dda3a6a1fa8da45aa0ff09060    06067000600  0.000000e+00   \n",
       "3        0f4a8a4dda3a6a1fa8da45aa0ff09060    06067000600  0.000000e+00   \n",
       "4        0f4a8a4dda3a6a1fa8da45aa0ff09060    06067000600  0.000000e+00   \n",
       "...                                   ...            ...           ...   \n",
       "2844392  ba7cb0c49ed0e16c54cf79c5e3f4f809    06057001206  3.506928e+06   \n",
       "2844393  ba7cb0c49ed0e16c54cf79c5e3f4f809    06057001205  3.511047e+06   \n",
       "2844394  ba7cb0c49ed0e16c54cf79c5e3f4f809    06057000900  3.519280e+06   \n",
       "2844395  ba7cb0c49ed0e16c54cf79c5e3f4f809    06057000900  3.524024e+06   \n",
       "2844396  ba7cb0c49ed0e16c54cf79c5e3f4f809    06091010000  3.539242e+06   \n",
       "\n",
       "         tsi_segment_meters                 trip_instance_key  \n",
       "0                616.350887  6d53e9536be4eeea9e1648484a0a409f  \n",
       "1                616.350887  c5f8fa23a7660fe300aaadc535fb7e24  \n",
       "2                616.350887  dbcf145f2cb2ae3375a4b2d3d9c0cd43  \n",
       "3                616.350887  d073966d625a8adffa950a02169e05ed  \n",
       "4                616.350887  5ca59a4662b19ed0705c6ca4e7b7e3b6  \n",
       "...                     ...                               ...  \n",
       "2844392         4118.166756  7d4f8a2f1ba86b13f249515230df155c  \n",
       "2844393         8225.176570  7d4f8a2f1ba86b13f249515230df155c  \n",
       "2844394         4698.406032  7d4f8a2f1ba86b13f249515230df155c  \n",
       "2844395        15218.109616  7d4f8a2f1ba86b13f249515230df155c  \n",
       "2844396         2602.678806  7d4f8a2f1ba86b13f249515230df155c  \n",
       "\n",
       "[2844397 rows x 5 columns]"
      ]
     },
     "execution_count": 43,
     "metadata": {},
     "output_type": "execute_result"
    }
   ],
   "source": [
    "tsi_segments_trips"
   ]
  },
  {
   "cell_type": "code",
   "execution_count": 45,
   "id": "e9dfedee-2355-47ae-9918-11410035b7e6",
   "metadata": {
    "tags": []
   },
   "outputs": [
    {
     "name": "stderr",
     "output_type": "stream",
     "text": [
      "Progress: 100%|██████████| 109/109 [00:30<00:00,  3.55it/s]\n"
     ]
    }
   ],
   "source": [
    "many_trip_test =(tsi_segments_trips.head(1000)\n",
    "                .groupby('trip_instance_key', group_keys=False)\n",
    "                .progress_apply(tract_border_time_by_trip, st_proj_df = st_proj))"
   ]
  },
  {
   "cell_type": "code",
   "execution_count": null,
   "id": "9d656825-0b42-4d7d-a2c4-c09d023aea0f",
   "metadata": {
    "tags": []
   },
   "outputs": [],
   "source": [
    "many_trip_test"
   ]
  },
  {
   "cell_type": "code",
   "execution_count": null,
   "id": "cf585119-46a7-4cb6-a160-59ec357fcaba",
   "metadata": {
    "tags": []
   },
   "outputs": [],
   "source": [
    "meta = many_trip_test[:0]"
   ]
  },
  {
   "cell_type": "code",
   "execution_count": null,
   "id": "741b8cda-61d4-4449-92a7-1a8afbc270f7",
   "metadata": {
    "tags": []
   },
   "outputs": [],
   "source": [
    "# many_trip_test.query('trip_instance_key == \"2799c68c8dc1bfca3e445f8b20eaa9ab\"')\n",
    "\n",
    "# many_trip_test.loc[36, 'tsi_segment_id']"
   ]
  },
  {
   "cell_type": "code",
   "execution_count": null,
   "id": "2cf01554-e1ff-4867-8986-44ce671fc02b",
   "metadata": {
    "tags": []
   },
   "outputs": [],
   "source": [
    "import dask.dataframe as dd\n",
    "import dask_geopandas as dg"
   ]
  },
  {
   "cell_type": "code",
   "execution_count": null,
   "id": "5501b8dd-fe76-4b87-a2f7-6080ed997cc5",
   "metadata": {
    "tags": []
   },
   "outputs": [],
   "source": [
    "trips = tracts_borders_trips.trip_instance_key.unique()"
   ]
  },
  {
   "cell_type": "code",
   "execution_count": null,
   "id": "5fa05663-08a0-4cab-9e91-f6a5cf6c3787",
   "metadata": {
    "tags": []
   },
   "outputs": [],
   "source": [
    "set1 = trips[:4000]"
   ]
  },
  {
   "cell_type": "code",
   "execution_count": null,
   "id": "61f3d85a-f7d2-439b-a574-5226030e25a8",
   "metadata": {
    "tags": []
   },
   "outputs": [],
   "source": [
    "set2 = trips[4000:]"
   ]
  },
  {
   "cell_type": "code",
   "execution_count": null,
   "id": "1697bcf8-15b6-416a-8242-cbf4d3180395",
   "metadata": {
    "tags": []
   },
   "outputs": [],
   "source": [
    "# ddf = dd.from_pandas(tracts_borders_trips.query('trip_instance_key.isin(@set1)'), npartitions=10)\n",
    "\n",
    "# ddf = (ddf.groupby('trip_instance_key', group_keys=False)\n",
    "#        .apply(tract_border_time_by_trip, st_proj_df = st_proj, meta=meta))\n",
    "\n",
    "# %%time \n",
    "# df = ddf.compute()\n",
    "\n",
    "# df.to_parquet(f'trips_set1_tsi_segs_alameda_{analysis_date}.parquet')"
   ]
  },
  {
   "cell_type": "code",
   "execution_count": null,
   "id": "b96f2ef5-ee43-4e69-a1d1-8ece497b893b",
   "metadata": {
    "tags": []
   },
   "outputs": [],
   "source": [
    "ddf = dd.from_pandas(tracts_borders_trips.query('trip_instance_key.isin(@set2)'), npartitions=10)"
   ]
  },
  {
   "cell_type": "code",
   "execution_count": null,
   "id": "6b48215f-3ca7-432c-b6e3-46c96381fd74",
   "metadata": {
    "tags": []
   },
   "outputs": [],
   "source": [
    "ddf = (ddf.groupby('trip_instance_key', group_keys=False)\n",
    "       .apply(tract_border_time_by_trip, st_proj_df = st_proj, meta=meta))"
   ]
  },
  {
   "cell_type": "code",
   "execution_count": null,
   "id": "5ef3d336-32e1-43dd-8827-4f71de369d01",
   "metadata": {
    "tags": []
   },
   "outputs": [],
   "source": [
    "%%time \n",
    "df = ddf.compute()"
   ]
  },
  {
   "cell_type": "code",
   "execution_count": null,
   "id": "430bdbb4-f9fa-416c-8c31-b751cc1b8b21",
   "metadata": {
    "tags": []
   },
   "outputs": [],
   "source": [
    "df.to_parquet(f'trips_set2_tsi_segs_alameda_{analysis_date}.parquet')"
   ]
  }
 ],
 "metadata": {
  "kernelspec": {
   "display_name": "Python 3 (ipykernel)",
   "language": "python",
   "name": "python3"
  },
  "language_info": {
   "codemirror_mode": {
    "name": "ipython",
    "version": 3
   },
   "file_extension": ".py",
   "mimetype": "text/x-python",
   "name": "python",
   "nbconvert_exporter": "python",
   "pygments_lexer": "ipython3",
   "version": "3.11.10"
  },
  "widgets": {
   "application/vnd.jupyter.widget-state+json": {
    "state": {},
    "version_major": 2,
    "version_minor": 0
   }
  }
 },
 "nbformat": 4,
 "nbformat_minor": 5
}
