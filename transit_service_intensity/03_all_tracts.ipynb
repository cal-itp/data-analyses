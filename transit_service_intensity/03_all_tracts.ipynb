{
 "cells": [
  {
   "cell_type": "code",
   "execution_count": null,
   "id": "9e645c63-24e5-466f-8f20-279614c1d767",
   "metadata": {},
   "outputs": [],
   "source": [
    "import sys"
   ]
  },
  {
   "cell_type": "code",
   "execution_count": null,
   "id": "4f3eb58f-9663-4867-a5c2-2ed658cd4c0d",
   "metadata": {},
   "outputs": [],
   "source": [
    "import intake\n",
    "import pandas as pd\n",
    "import geopandas as gpd\n",
    "from calitp_data_analysis import geography_utils\n",
    "from siuba import *\n",
    "import shapely"
   ]
  },
  {
   "cell_type": "code",
   "execution_count": null,
   "id": "dbc34a06-4993-426d-8e6e-99b9cd447222",
   "metadata": {},
   "outputs": [],
   "source": [
    "from shared_utils import catalog_utils, rt_dates\n",
    "GTFS_DATA_DICT = catalog_utils.get_catalog(\"gtfs_analytics_data\")"
   ]
  },
  {
   "cell_type": "code",
   "execution_count": null,
   "id": "815cb9ed-e7dd-4a8f-9830-917101668c45",
   "metadata": {},
   "outputs": [],
   "source": [
    "from segment_speed_utils import helpers\n",
    "import uuid"
   ]
  },
  {
   "cell_type": "markdown",
   "id": "afe82e80-7c93-43ed-a32a-5c3daed646eb",
   "metadata": {},
   "source": [
    "# Exploratory Analysis\n",
    "\n",
    "Start working on how to identify and count \"border zones\" where transit runs along Census Tract boundaries and VRH/VRM should be split accordingly (avoiding double-counting or arbitrary allocation to only one border tract)"
   ]
  },
  {
   "cell_type": "code",
   "execution_count": null,
   "id": "a024c574-a1ac-4566-bbd1-be8435c0a01c",
   "metadata": {
    "tags": []
   },
   "outputs": [],
   "source": [
    "analysis_date = rt_dates.DATES['feb2025']\n",
    "\n",
    "BORDER_BUFFER_METERS = 35"
   ]
  },
  {
   "cell_type": "code",
   "execution_count": null,
   "id": "0472c5ab-e469-4f36-821b-43920b9570a6",
   "metadata": {},
   "outputs": [],
   "source": [
    "catalog = intake.open_catalog(\"*.yml\")"
   ]
  },
  {
   "cell_type": "code",
   "execution_count": null,
   "id": "0d6185dd-7140-4eb0-abb7-90d36522e647",
   "metadata": {},
   "outputs": [],
   "source": [
    "def read_census_tracts(\n",
    "    crs: str = geography_utils.CA_NAD83Albers_m,\n",
    "    cols: list = [\"Tract\", \"pop_sq_mi\", \"geometry\"]\n",
    ") -> gpd.GeoDataFrame:\n",
    "    census_tracts = (\n",
    "        catalog.calenviroscreen_lehd_by_tract.read()\n",
    "        .to_crs(crs)\n",
    "        [cols]\n",
    "    ).rename(columns={'Tract':'tract'})\n",
    "    return census_tracts"
   ]
  },
  {
   "cell_type": "code",
   "execution_count": null,
   "id": "822430c6-9c7b-48e6-a3a8-3d0d682ba40b",
   "metadata": {},
   "outputs": [],
   "source": [
    "tracts = read_census_tracts(cols=['Tract', 'geometry'])"
   ]
  },
  {
   "cell_type": "code",
   "execution_count": null,
   "id": "88ce1f77-4690-4be6-8568-37f05ae06b81",
   "metadata": {},
   "outputs": [],
   "source": [
    "shapes = helpers.import_scheduled_shapes(analysis_date)"
   ]
  },
  {
   "cell_type": "code",
   "execution_count": null,
   "id": "6726ec66-f9fa-4a7c-b7c0-0bda39b9ed98",
   "metadata": {},
   "outputs": [],
   "source": [
    "# shapes.explore()"
   ]
  },
  {
   "cell_type": "markdown",
   "id": "85791782-ec3a-498e-ae9d-bfb6e472d815",
   "metadata": {},
   "source": [
    "## shape - stops - tracts"
   ]
  },
  {
   "cell_type": "code",
   "execution_count": null,
   "id": "f0e664ab-6e42-4f33-a4f3-886dbec1d51c",
   "metadata": {
    "tags": []
   },
   "outputs": [],
   "source": [
    "st = helpers.import_scheduled_stop_times(analysis_date=analysis_date, columns=['feed_key', 'trip_id', 'stop_id'], get_pandas=True)"
   ]
  },
  {
   "cell_type": "code",
   "execution_count": null,
   "id": "2cb17e44-e84e-4f58-9f83-368578a7b3e3",
   "metadata": {
    "tags": []
   },
   "outputs": [],
   "source": [
    "st"
   ]
  },
  {
   "cell_type": "code",
   "execution_count": null,
   "id": "a91717dc-b997-45cb-8128-b7c6f2517d0c",
   "metadata": {
    "tags": []
   },
   "outputs": [],
   "source": [
    "trips = helpers.import_scheduled_trips(analysis_date, columns=['shape_array_key', 'trip_id', 'feed_key'])"
   ]
  },
  {
   "cell_type": "code",
   "execution_count": null,
   "id": "2d3f04f2-7cc4-42ec-aac3-805a5b7c8ba4",
   "metadata": {
    "tags": []
   },
   "outputs": [],
   "source": [
    "trips"
   ]
  },
  {
   "cell_type": "code",
   "execution_count": null,
   "id": "4e3e94d7-4c2a-4c58-87a1-f1345e2e15a2",
   "metadata": {
    "tags": []
   },
   "outputs": [],
   "source": [
    "stops = helpers.import_scheduled_stops(analysis_date, columns=['feed_key', 'stop_id', 'geometry'])"
   ]
  },
  {
   "cell_type": "code",
   "execution_count": null,
   "id": "771717c6-8966-46fc-ba20-10736d703336",
   "metadata": {
    "tags": []
   },
   "outputs": [],
   "source": [
    "stops"
   ]
  },
  {
   "cell_type": "code",
   "execution_count": null,
   "id": "536ed2d4-dcca-47dd-a60f-1e120ffa8dfb",
   "metadata": {
    "tags": []
   },
   "outputs": [],
   "source": [
    "shape_stops = (stops.merge(st, on = ['feed_key', 'stop_id'])\n",
    "     .merge(trips, on = ['feed_key', 'trip_id'])\n",
    "     .drop_duplicates(subset=['feed_key', 'shape_array_key', 'stop_id'])\n",
    "     .dropna()\n",
    ")"
   ]
  },
  {
   "cell_type": "code",
   "execution_count": null,
   "id": "79f70888-cdc4-4817-b40e-1cb5e8c6a7e4",
   "metadata": {
    "tags": []
   },
   "outputs": [],
   "source": [
    "shape_stops"
   ]
  },
  {
   "cell_type": "code",
   "execution_count": null,
   "id": "218d50ca-e95a-44a6-bc13-9a750043182a",
   "metadata": {
    "tags": []
   },
   "outputs": [],
   "source": [
    "tracts"
   ]
  },
  {
   "cell_type": "code",
   "execution_count": null,
   "id": "40d76e85-61ad-48fd-97b2-763229dcee19",
   "metadata": {
    "tags": []
   },
   "outputs": [],
   "source": [
    "borders"
   ]
  },
  {
   "cell_type": "code",
   "execution_count": null,
   "id": "e599943e-39d9-4da1-a3af-91c0a70227bc",
   "metadata": {
    "tags": []
   },
   "outputs": [],
   "source": [
    "'''\n",
    "Transit service intensity analysis segments are cut by shape,\n",
    "and are each census tract and/or border zone that shape passes\n",
    "through.\n",
    "\n",
    "We'll count\n",
    "'''\n",
    "shape_stops_tracts_borders = (pd.concat([tracts, borders])\n",
    "                              .sjoin(shape_stops)\n",
    "                              .drop(columns='index_right')\n",
    "                             )\n",
    "shape_stops_tracts_borders = shape_stops_tracts_borders.assign(tsi_segment_id = shape_stops_tracts_borders.tract.combine_first(\n",
    "                                                        shape_stops_tracts_borders.intersection_id).astype(str))"
   ]
  },
  {
   "cell_type": "code",
   "execution_count": null,
   "id": "a49e5154-febf-4875-a406-bdeecb8a6a29",
   "metadata": {
    "tags": []
   },
   "outputs": [],
   "source": [
    "shape_stops_tracts_borders.to_parquet(f'shape_stops_tracts_borders_{analysis_date}.parquet')"
   ]
  },
  {
   "cell_type": "markdown",
   "id": "9f1cba14-d07e-41a0-9e46-910911649d77",
   "metadata": {},
   "source": [
    "## interpolation points"
   ]
  },
  {
   "cell_type": "code",
   "execution_count": null,
   "id": "c60f91fe-c146-466b-ae8d-cd860e3c7173",
   "metadata": {},
   "outputs": [],
   "source": [
    "def intersection_hash(row):\n",
    "    '''\n",
    "    Get unique hash of intersection zones.\n",
    "    No need to keep both t1 x t2 and t2 x t1\n",
    "    '''\n",
    "    t1 = int(row.tract_1[2:]) #  drop state code\n",
    "    t2 = int(row.tract_2[2:])\n",
    "    row_tracts = [t1, t2]\n",
    "    row_tracts.sort() #  modifies inplace\n",
    "    return hash(tuple(row_tracts))"
   ]
  },
  {
   "cell_type": "code",
   "execution_count": null,
   "id": "23795016-ef7f-45eb-8855-a78ca14bbd72",
   "metadata": {
    "tags": []
   },
   "outputs": [],
   "source": [
    "def find_borders(tracts_gdf: gpd.GeoDataFrame,\n",
    "                border_buffer: int = BORDER_BUFFER_METERS\n",
    ") -> gpd.GeoDataFrame:\n",
    "    '''\n",
    "    '''\n",
    "    tracts_gdf = tracts_gdf.copy()\n",
    "    tracts_gdf.geometry = tracts_gdf.buffer(border_buffer)\n",
    "    borders = gpd.overlay(tracts_gdf, tracts_gdf)\n",
    "    borders = borders[borders['tract_1'] != borders['tract_2']]\n",
    "    # for dropping mirrored borders\n",
    "    borders['intersection_hash'] = borders.apply(intersection_hash, axis=1)\n",
    "    borders = borders.drop_duplicates(subset=['intersection_hash'])\n",
    "    # for more elegant tracking\n",
    "    borders['intersection_id'] = [str(uuid.uuid4()) for _ in range(borders.shape[0])] \n",
    "    return borders"
   ]
  },
  {
   "cell_type": "code",
   "execution_count": null,
   "id": "1281a0e5-8511-4283-bafa-51eaf1a5828f",
   "metadata": {},
   "outputs": [],
   "source": [
    "borders = find_borders(tracts)"
   ]
  },
  {
   "cell_type": "code",
   "execution_count": null,
   "id": "e5137a73-faf9-4460-812f-c1f655792622",
   "metadata": {},
   "outputs": [],
   "source": [
    "borders.head(3)"
   ]
  },
  {
   "cell_type": "code",
   "execution_count": null,
   "id": "afe3ae21-5852-48e9-94de-d97fa29a7d1d",
   "metadata": {
    "tags": []
   },
   "outputs": [],
   "source": [
    "shapes.head(3)"
   ]
  },
  {
   "cell_type": "code",
   "execution_count": null,
   "id": "4ecfb658-eec0-4ca9-b1a5-29e1330d300a",
   "metadata": {
    "tags": []
   },
   "outputs": [],
   "source": [
    "trip_cols = ['gtfs_dataset_key', 'name', 'trip_id',\n",
    "        'shape_id', 'shape_array_key', 'route_id',\n",
    "        'route_key', 'direction_id', 'route_short_name',\n",
    "        'trip_instance_key', 'feed_key']\n",
    "\n",
    "trips = (helpers.import_scheduled_trips(analysis_date, columns=trip_cols)\n",
    "        .dropna(subset=['shape_id'])\n",
    "        )"
   ]
  },
  {
   "cell_type": "code",
   "execution_count": null,
   "id": "edced118-b1b5-40df-ac39-c1aaea284d3b",
   "metadata": {
    "tags": []
   },
   "outputs": [],
   "source": [
    "act_6 = trips.query('name.str.contains(\"AC Transit\") & shape_id == \"shp-6-03\"')"
   ]
  },
  {
   "cell_type": "code",
   "execution_count": null,
   "id": "44230c0e-e03d-4bf3-9f38-453904baa941",
   "metadata": {
    "tags": []
   },
   "outputs": [],
   "source": [
    "act_6_shape = shapes.query('shape_array_key.isin(@act_6.shape_array_key)')"
   ]
  },
  {
   "cell_type": "code",
   "execution_count": null,
   "id": "50dc4ccc-0ffc-4946-a973-7c6b569aa44e",
   "metadata": {
    "tags": []
   },
   "outputs": [],
   "source": [
    "def overlay_to_borders(\n",
    "    shape_gdf: gpd.GeoDataFrame,\n",
    "    border_gdf: gpd.GeoDataFrame,\n",
    "    sensitivity_dist: int = BORDER_BUFFER_METERS * 4\n",
    "                 ):\n",
    "    '''\n",
    "    \n",
    "    '''\n",
    "    overlaid = shape_gdf.overlay(border_gdf, how='intersection')\n",
    "    overlaid = overlaid.query('geometry.length > @sensitivity_dist')\n",
    "    return overlaid"
   ]
  },
  {
   "cell_type": "code",
   "execution_count": null,
   "id": "56f29fae-a37a-42a7-b850-1458a3b30c0c",
   "metadata": {
    "tags": []
   },
   "outputs": [],
   "source": [
    "def overlay_to_tracts(\n",
    "    shape_gdf_no_border: gpd.GeoDataFrame,\n",
    "    tract_gdf: gpd.GeoDataFrame,\n",
    "                 ):\n",
    "    '''\n",
    "    \n",
    "    '''\n",
    "    tract_gdf = tract_gdf[['tract', 'geometry']]\n",
    "    return shape_gdf_no_border.overlay(tract_gdf, how='intersection')"
   ]
  },
  {
   "cell_type": "code",
   "execution_count": null,
   "id": "44545a32-ffaf-466c-8850-1be0a4914781",
   "metadata": {
    "tags": []
   },
   "outputs": [],
   "source": [
    "def overlay_tracts_borders(\n",
    "    shape_gdf: gpd.GeoDataFrame,\n",
    "    tract_gdf: gpd.GeoDataFrame,\n",
    "    border_gdf: gpd.GeoDataFrame,\n",
    "    sensitivity_dist: int = BORDER_BUFFER_METERS * 4\n",
    "):\n",
    "    '''\n",
    "    '''\n",
    "    border_gdf = border_gdf.drop(columns=['intersection_hash'])\n",
    "    try:\n",
    "        border_overlaid = overlay_to_borders(shape_gdf, border_gdf, sensitivity_dist)\n",
    "        not_border = shape_gdf.overlay(border_overlaid, how='difference')\n",
    "        tract_overlaid = overlay_to_tracts(not_border, tracts)\n",
    "        tracts_and_borders = (pd.concat([tract_overlaid, border_overlaid])\n",
    "                              .explode(index_parts=False)\n",
    "                              .reset_index(drop=True)\n",
    "                              .query('geometry.length > @sensitivity_dist')\n",
    "                             )\n",
    "        tracts_and_borders = tracts_and_borders.assign(\n",
    "            border = ~tracts_and_borders.tract_2.isna(),\n",
    "            start = tracts_and_borders.geometry.apply(lambda x: shapely.Point(x.coords[0])),\n",
    "            # end = tracts_and_borders.geometry.apply(lambda x: shapely.Point(x.coords[-1])),\n",
    "            tsi_segment_id = tracts_and_borders.tract.combine_first(tracts_and_borders.intersection_id).astype(str),\n",
    "            tsi_segment_meters = tracts_and_borders.geometry.length\n",
    "        )\n",
    "        return tracts_and_borders\n",
    "    except Exception as e:\n",
    "        print(f'{shape_gdf}, {e}')"
   ]
  },
  {
   "cell_type": "code",
   "execution_count": null,
   "id": "d81c3442-1d82-4eeb-bea9-be579e1edfb6",
   "metadata": {
    "tags": []
   },
   "outputs": [],
   "source": [
    "overlay_tracts_borders(shapes.loc[1:1], tracts, borders)"
   ]
  },
  {
   "cell_type": "code",
   "execution_count": null,
   "id": "df9232f6-6ae8-4930-9268-90dc68ba54b4",
   "metadata": {
    "tags": []
   },
   "outputs": [],
   "source": [
    "shape_gdf = shapes.loc[2:2]"
   ]
  },
  {
   "cell_type": "markdown",
   "id": "94594494-8b30-4d99-a0ae-3664550fcc91",
   "metadata": {
    "tags": []
   },
   "source": [
    "### Whittier example \n",
    "\n",
    "987fd928878a31c5fa38c91903cd81ed"
   ]
  },
  {
   "cell_type": "code",
   "execution_count": null,
   "id": "1dbe11d3-63d5-414b-a601-ff089b150cff",
   "metadata": {
    "tags": []
   },
   "outputs": [],
   "source": [
    "shape_gdf"
   ]
  },
  {
   "cell_type": "code",
   "execution_count": null,
   "id": "ce9ec1fc-bc6f-4d82-9953-38b17427b160",
   "metadata": {
    "tags": []
   },
   "outputs": [],
   "source": [
    "whittier_new = overlay_tracts_borders(shape_gdf, tracts, borders)"
   ]
  },
  {
   "cell_type": "markdown",
   "id": "048e0244-97c9-49d4-b60f-c47be31645b7",
   "metadata": {
    "tags": []
   },
   "source": [
    "shapes can leave and re-enter tracts, need to handle.\n",
    "\n",
    "* some short segments can be dropped \n",
    "* longer ones should be preserved and given unique ids..."
   ]
  },
  {
   "cell_type": "code",
   "execution_count": null,
   "id": "47beabc2-9473-4af4-a412-cf776e0a43d1",
   "metadata": {
    "tags": []
   },
   "outputs": [],
   "source": [
    "whittier_new.reset_index().explore(column='tsi_segment_id')"
   ]
  },
  {
   "cell_type": "markdown",
   "id": "cb9ef4c7-8e39-4a7a-998f-5ecdfbdd7539",
   "metadata": {
    "tags": []
   },
   "source": [
    "### continue"
   ]
  },
  {
   "cell_type": "code",
   "execution_count": null,
   "id": "1622602c-899f-4ace-bc37-3eae43bd6e2f",
   "metadata": {
    "tags": []
   },
   "outputs": [],
   "source": [
    "%%time\n",
    "#  36.1sec with query short\n",
    "bigtest = shapes.head(50).groupby('shape_array_key').apply(overlay_tracts_borders, tract_gdf=tracts, border_gdf=borders).reset_index(drop=True)"
   ]
  },
  {
   "cell_type": "code",
   "execution_count": null,
   "id": "158d3ecc-1def-4345-99e1-dbc6782000bb",
   "metadata": {
    "tags": []
   },
   "outputs": [],
   "source": [
    "#  would take ~45min for all, not great not terrible\n",
    "shapes.shape"
   ]
  },
  {
   "cell_type": "markdown",
   "id": "3dc9e317-d64a-4c65-ab7a-665c747fee56",
   "metadata": {},
   "source": [
    "## Alameda County test?"
   ]
  },
  {
   "cell_type": "code",
   "execution_count": null,
   "id": "5336bd70-50fd-44c9-811b-6a3ecdec5f76",
   "metadata": {
    "tags": []
   },
   "outputs": [],
   "source": [
    "counties = gpd.read_file('./counties.geojson')"
   ]
  },
  {
   "cell_type": "code",
   "execution_count": null,
   "id": "18ab3b7b-c68c-4bac-8564-c3fd9dd7e417",
   "metadata": {
    "tags": []
   },
   "outputs": [],
   "source": [
    "alameda = counties[:1].to_crs(shapes.crs)"
   ]
  },
  {
   "cell_type": "code",
   "execution_count": null,
   "id": "35f20f7c-5678-41e8-87fb-3cd806076af8",
   "metadata": {
    "tags": []
   },
   "outputs": [],
   "source": [
    "alameda_shapes = shapes.clip(alameda.geometry.iloc[0], keep_geom_type=True)"
   ]
  },
  {
   "cell_type": "code",
   "execution_count": null,
   "id": "f648ec1d-f90d-421b-ae1d-eb2c0f45ca1c",
   "metadata": {
    "tags": []
   },
   "outputs": [],
   "source": [
    "alameda_shapes.explore()"
   ]
  },
  {
   "cell_type": "code",
   "execution_count": null,
   "id": "1aa0648b-0105-4416-a036-d9ef48357d1e",
   "metadata": {
    "tags": []
   },
   "outputs": [],
   "source": [
    "from tqdm import tqdm\n",
    "tqdm.pandas(desc=\"Progress\")"
   ]
  },
  {
   "cell_type": "code",
   "execution_count": null,
   "id": "87f12ae7-9949-4917-9139-4e2dc6e98a7f",
   "metadata": {
    "tags": []
   },
   "outputs": [],
   "source": [
    "alameda = (alameda_shapes\n",
    "           .groupby('shape_array_key')\n",
    "           .progress_apply(overlay_tracts_borders, tract_gdf=tracts, border_gdf=borders)\n",
    "           .reset_index(drop=True)\n",
    "          )"
   ]
  },
  {
   "cell_type": "code",
   "execution_count": null,
   "id": "885019d2-5c83-48b5-b797-2556b6dbf30b",
   "metadata": {
    "tags": []
   },
   "outputs": [],
   "source": [
    "m = borders.clip(alameda.buffer(3000)).explore()"
   ]
  },
  {
   "cell_type": "code",
   "execution_count": null,
   "id": "4837df61-e5af-4924-b28d-5eeee7080e87",
   "metadata": {
    "tags": []
   },
   "outputs": [],
   "source": [
    "alameda.explore(column='tsi_segment_id', m=m)"
   ]
  },
  {
   "cell_type": "code",
   "execution_count": null,
   "id": "aaff36bd-9d1c-4ab2-9085-edf483220654",
   "metadata": {
    "tags": []
   },
   "outputs": [],
   "source": [
    "alameda.to_parquet(f'test_tracts_borders_{analysis_date}.parquet')"
   ]
  }
 ],
 "metadata": {
  "kernelspec": {
   "display_name": "Python 3 (ipykernel)",
   "language": "python",
   "name": "python3"
  },
  "language_info": {
   "codemirror_mode": {
    "name": "ipython",
    "version": 3
   },
   "file_extension": ".py",
   "mimetype": "text/x-python",
   "name": "python",
   "nbconvert_exporter": "python",
   "pygments_lexer": "ipython3",
   "version": "3.11.10"
  },
  "widgets": {
   "application/vnd.jupyter.widget-state+json": {
    "state": {},
    "version_major": 2,
    "version_minor": 0
   }
  }
 },
 "nbformat": 4,
 "nbformat_minor": 5
}
