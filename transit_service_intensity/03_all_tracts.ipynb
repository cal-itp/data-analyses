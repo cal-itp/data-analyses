{
 "cells": [
  {
   "cell_type": "code",
   "execution_count": 1,
   "id": "9e645c63-24e5-466f-8f20-279614c1d767",
   "metadata": {},
   "outputs": [],
   "source": [
    "import sys"
   ]
  },
  {
   "cell_type": "code",
   "execution_count": 2,
   "id": "4f3eb58f-9663-4867-a5c2-2ed658cd4c0d",
   "metadata": {},
   "outputs": [],
   "source": [
    "import intake\n",
    "import pandas as pd\n",
    "import geopandas as gpd\n",
    "from calitp_data_analysis import geography_utils\n",
    "from siuba import *\n",
    "import shapely"
   ]
  },
  {
   "cell_type": "code",
   "execution_count": 3,
   "id": "dbc34a06-4993-426d-8e6e-99b9cd447222",
   "metadata": {},
   "outputs": [],
   "source": [
    "from shared_utils import catalog_utils, rt_dates\n",
    "GTFS_DATA_DICT = catalog_utils.get_catalog(\"gtfs_analytics_data\")"
   ]
  },
  {
   "cell_type": "code",
   "execution_count": 28,
   "id": "815cb9ed-e7dd-4a8f-9830-917101668c45",
   "metadata": {},
   "outputs": [],
   "source": [
    "from segment_speed_utils import helpers\n",
    "import uuid"
   ]
  },
  {
   "cell_type": "markdown",
   "id": "afe82e80-7c93-43ed-a32a-5c3daed646eb",
   "metadata": {},
   "source": [
    "# Exploratory Analysis\n",
    "\n",
    "Start working on how to identify and count \"border zones\" where transit runs along Census Tract boundaries and VRH/VRM should be split accordingly (avoiding double-counting or arbitrary allocation to only one border tract)"
   ]
  },
  {
   "cell_type": "code",
   "execution_count": 7,
   "id": "a024c574-a1ac-4566-bbd1-be8435c0a01c",
   "metadata": {
    "tags": []
   },
   "outputs": [],
   "source": [
    "analysis_date = rt_dates.DATES['feb2025']\n",
    "\n",
    "BORDER_BUFFER_METERS = 35"
   ]
  },
  {
   "cell_type": "code",
   "execution_count": 5,
   "id": "0472c5ab-e469-4f36-821b-43920b9570a6",
   "metadata": {},
   "outputs": [],
   "source": [
    "catalog = intake.open_catalog(\"*.yml\")"
   ]
  },
  {
   "cell_type": "code",
   "execution_count": 22,
   "id": "0d6185dd-7140-4eb0-abb7-90d36522e647",
   "metadata": {},
   "outputs": [],
   "source": [
    "def read_census_tracts(\n",
    "    crs: str = geography_utils.CA_NAD83Albers_m,\n",
    "    cols: list = [\"Tract\", \"pop_sq_mi\", \"geometry\"]\n",
    ") -> gpd.GeoDataFrame:\n",
    "    census_tracts = (\n",
    "        catalog.calenviroscreen_lehd_by_tract.read()\n",
    "        .to_crs(crs)\n",
    "        [cols]\n",
    "    ).rename(columns={'Tract':'tract'})\n",
    "    return census_tracts"
   ]
  },
  {
   "cell_type": "code",
   "execution_count": 23,
   "id": "822430c6-9c7b-48e6-a3a8-3d0d682ba40b",
   "metadata": {},
   "outputs": [],
   "source": [
    "tracts = read_census_tracts(cols=['Tract', 'geometry'])"
   ]
  },
  {
   "cell_type": "code",
   "execution_count": 24,
   "id": "88ce1f77-4690-4be6-8568-37f05ae06b81",
   "metadata": {},
   "outputs": [],
   "source": [
    "shapes = helpers.import_scheduled_shapes(analysis_date)"
   ]
  },
  {
   "cell_type": "code",
   "execution_count": null,
   "id": "6726ec66-f9fa-4a7c-b7c0-0bda39b9ed98",
   "metadata": {},
   "outputs": [],
   "source": [
    "# shapes.explore()"
   ]
  },
  {
   "cell_type": "markdown",
   "id": "85791782-ec3a-498e-ae9d-bfb6e472d815",
   "metadata": {},
   "source": [
    "## shape - stops - tracts"
   ]
  },
  {
   "cell_type": "code",
   "execution_count": 10,
   "id": "f0e664ab-6e42-4f33-a4f3-886dbec1d51c",
   "metadata": {
    "tags": []
   },
   "outputs": [],
   "source": [
    "st = helpers.import_scheduled_stop_times(analysis_date=analysis_date, columns=['feed_key', 'trip_id', 'stop_id'], get_pandas=True)"
   ]
  },
  {
   "cell_type": "code",
   "execution_count": 11,
   "id": "2cb17e44-e84e-4f58-9f83-368578a7b3e3",
   "metadata": {
    "tags": []
   },
   "outputs": [
    {
     "data": {
      "text/html": [
       "<div>\n",
       "<style scoped>\n",
       "    .dataframe tbody tr th:only-of-type {\n",
       "        vertical-align: middle;\n",
       "    }\n",
       "\n",
       "    .dataframe tbody tr th {\n",
       "        vertical-align: top;\n",
       "    }\n",
       "\n",
       "    .dataframe thead th {\n",
       "        text-align: right;\n",
       "    }\n",
       "</style>\n",
       "<table border=\"1\" class=\"dataframe\">\n",
       "  <thead>\n",
       "    <tr style=\"text-align: right;\">\n",
       "      <th></th>\n",
       "      <th>feed_key</th>\n",
       "      <th>trip_id</th>\n",
       "      <th>stop_id</th>\n",
       "    </tr>\n",
       "  </thead>\n",
       "  <tbody>\n",
       "    <tr>\n",
       "      <th>0</th>\n",
       "      <td>b781addbfdb723dcf89892f954aa912f</td>\n",
       "      <td>1e73bc2b-822d-44c9-8030-60ee01e0cf12</td>\n",
       "      <td>76608</td>\n",
       "    </tr>\n",
       "    <tr>\n",
       "      <th>1</th>\n",
       "      <td>b781addbfdb723dcf89892f954aa912f</td>\n",
       "      <td>576a49c8-fa00-4e02-9e30-3a2dba750153</td>\n",
       "      <td>76133</td>\n",
       "    </tr>\n",
       "    <tr>\n",
       "      <th>2</th>\n",
       "      <td>b781addbfdb723dcf89892f954aa912f</td>\n",
       "      <td>9882a334-306b-48d5-888d-16615ea94c82</td>\n",
       "      <td>76527</td>\n",
       "    </tr>\n",
       "    <tr>\n",
       "      <th>3</th>\n",
       "      <td>b781addbfdb723dcf89892f954aa912f</td>\n",
       "      <td>576a49c8-fa00-4e02-9e30-3a2dba750153</td>\n",
       "      <td>76547</td>\n",
       "    </tr>\n",
       "    <tr>\n",
       "      <th>4</th>\n",
       "      <td>b781addbfdb723dcf89892f954aa912f</td>\n",
       "      <td>0bad3a0b-5476-46c0-ab1c-548224611f7f</td>\n",
       "      <td>76001</td>\n",
       "    </tr>\n",
       "    <tr>\n",
       "      <th>...</th>\n",
       "      <td>...</td>\n",
       "      <td>...</td>\n",
       "      <td>...</td>\n",
       "    </tr>\n",
       "    <tr>\n",
       "      <th>3851815</th>\n",
       "      <td>77d7fd461e49a2764937c18f9b6304f1</td>\n",
       "      <td>t_3633910_b_55315_tn_23</td>\n",
       "      <td>808975</td>\n",
       "    </tr>\n",
       "    <tr>\n",
       "      <th>3851816</th>\n",
       "      <td>77d7fd461e49a2764937c18f9b6304f1</td>\n",
       "      <td>t_3633910_b_55315_tn_1</td>\n",
       "      <td>808975</td>\n",
       "    </tr>\n",
       "    <tr>\n",
       "      <th>3851817</th>\n",
       "      <td>77d7fd461e49a2764937c18f9b6304f1</td>\n",
       "      <td>t_3633910_b_55315_tn_9</td>\n",
       "      <td>808975</td>\n",
       "    </tr>\n",
       "    <tr>\n",
       "      <th>3851818</th>\n",
       "      <td>77d7fd461e49a2764937c18f9b6304f1</td>\n",
       "      <td>t_3633910_b_55315_tn_18</td>\n",
       "      <td>808976</td>\n",
       "    </tr>\n",
       "    <tr>\n",
       "      <th>3851819</th>\n",
       "      <td>77d7fd461e49a2764937c18f9b6304f1</td>\n",
       "      <td>t_3633910_b_55315_tn_1</td>\n",
       "      <td>808976</td>\n",
       "    </tr>\n",
       "  </tbody>\n",
       "</table>\n",
       "<p>3851820 rows × 3 columns</p>\n",
       "</div>"
      ],
      "text/plain": [
       "                                 feed_key  \\\n",
       "0        b781addbfdb723dcf89892f954aa912f   \n",
       "1        b781addbfdb723dcf89892f954aa912f   \n",
       "2        b781addbfdb723dcf89892f954aa912f   \n",
       "3        b781addbfdb723dcf89892f954aa912f   \n",
       "4        b781addbfdb723dcf89892f954aa912f   \n",
       "...                                   ...   \n",
       "3851815  77d7fd461e49a2764937c18f9b6304f1   \n",
       "3851816  77d7fd461e49a2764937c18f9b6304f1   \n",
       "3851817  77d7fd461e49a2764937c18f9b6304f1   \n",
       "3851818  77d7fd461e49a2764937c18f9b6304f1   \n",
       "3851819  77d7fd461e49a2764937c18f9b6304f1   \n",
       "\n",
       "                                      trip_id stop_id  \n",
       "0        1e73bc2b-822d-44c9-8030-60ee01e0cf12   76608  \n",
       "1        576a49c8-fa00-4e02-9e30-3a2dba750153   76133  \n",
       "2        9882a334-306b-48d5-888d-16615ea94c82   76527  \n",
       "3        576a49c8-fa00-4e02-9e30-3a2dba750153   76547  \n",
       "4        0bad3a0b-5476-46c0-ab1c-548224611f7f   76001  \n",
       "...                                       ...     ...  \n",
       "3851815               t_3633910_b_55315_tn_23  808975  \n",
       "3851816                t_3633910_b_55315_tn_1  808975  \n",
       "3851817                t_3633910_b_55315_tn_9  808975  \n",
       "3851818               t_3633910_b_55315_tn_18  808976  \n",
       "3851819                t_3633910_b_55315_tn_1  808976  \n",
       "\n",
       "[3851820 rows x 3 columns]"
      ]
     },
     "execution_count": 11,
     "metadata": {},
     "output_type": "execute_result"
    }
   ],
   "source": [
    "st"
   ]
  },
  {
   "cell_type": "code",
   "execution_count": 12,
   "id": "a91717dc-b997-45cb-8128-b7c6f2517d0c",
   "metadata": {
    "tags": []
   },
   "outputs": [],
   "source": [
    "trips = helpers.import_scheduled_trips(analysis_date, columns=['shape_id', 'trip_id', 'feed_key'])"
   ]
  },
  {
   "cell_type": "code",
   "execution_count": 13,
   "id": "2d3f04f2-7cc4-42ec-aac3-805a5b7c8ba4",
   "metadata": {
    "tags": []
   },
   "outputs": [
    {
     "data": {
      "text/html": [
       "<div>\n",
       "<style scoped>\n",
       "    .dataframe tbody tr th:only-of-type {\n",
       "        vertical-align: middle;\n",
       "    }\n",
       "\n",
       "    .dataframe tbody tr th {\n",
       "        vertical-align: top;\n",
       "    }\n",
       "\n",
       "    .dataframe thead th {\n",
       "        text-align: right;\n",
       "    }\n",
       "</style>\n",
       "<table border=\"1\" class=\"dataframe\">\n",
       "  <thead>\n",
       "    <tr style=\"text-align: right;\">\n",
       "      <th></th>\n",
       "      <th>shape_id</th>\n",
       "      <th>trip_id</th>\n",
       "      <th>feed_key</th>\n",
       "    </tr>\n",
       "  </thead>\n",
       "  <tbody>\n",
       "    <tr>\n",
       "      <th>0</th>\n",
       "      <td>ROUTEA:1</td>\n",
       "      <td>ROUTEA|18766535:T18|16:30:00</td>\n",
       "      <td>321d2312b1e4b8887bbf20eda99c1bf5</td>\n",
       "    </tr>\n",
       "    <tr>\n",
       "      <th>1</th>\n",
       "      <td>ROUTEA:1</td>\n",
       "      <td>ROUTEA|18766535:T8|11:00:00</td>\n",
       "      <td>321d2312b1e4b8887bbf20eda99c1bf5</td>\n",
       "    </tr>\n",
       "    <tr>\n",
       "      <th>2</th>\n",
       "      <td>ROUTEA:1</td>\n",
       "      <td>ROUTEA|18766535:T20|17:30:00</td>\n",
       "      <td>321d2312b1e4b8887bbf20eda99c1bf5</td>\n",
       "    </tr>\n",
       "    <tr>\n",
       "      <th>3</th>\n",
       "      <td>ROUTEA:1</td>\n",
       "      <td>ROUTEA|18766535:T12|13:00:00</td>\n",
       "      <td>321d2312b1e4b8887bbf20eda99c1bf5</td>\n",
       "    </tr>\n",
       "    <tr>\n",
       "      <th>4</th>\n",
       "      <td>ROUTEA:1</td>\n",
       "      <td>ROUTEA|18766535:T4|8:30:00</td>\n",
       "      <td>321d2312b1e4b8887bbf20eda99c1bf5</td>\n",
       "    </tr>\n",
       "    <tr>\n",
       "      <th>...</th>\n",
       "      <td>...</td>\n",
       "      <td>...</td>\n",
       "      <td>...</td>\n",
       "    </tr>\n",
       "    <tr>\n",
       "      <th>106248</th>\n",
       "      <td>SBout</td>\n",
       "      <td>295201004</td>\n",
       "      <td>8fc9cfe86b4e9e8c7cf508b2486605f1</td>\n",
       "    </tr>\n",
       "    <tr>\n",
       "      <th>106249</th>\n",
       "      <td>SBout</td>\n",
       "      <td>200090308</td>\n",
       "      <td>8fc9cfe86b4e9e8c7cf508b2486605f1</td>\n",
       "    </tr>\n",
       "    <tr>\n",
       "      <th>106250</th>\n",
       "      <td>SBin</td>\n",
       "      <td>294100327</td>\n",
       "      <td>8fc9cfe86b4e9e8c7cf508b2486605f1</td>\n",
       "    </tr>\n",
       "    <tr>\n",
       "      <th>106251</th>\n",
       "      <td>SBout</td>\n",
       "      <td>294100356</td>\n",
       "      <td>8fc9cfe86b4e9e8c7cf508b2486605f1</td>\n",
       "    </tr>\n",
       "    <tr>\n",
       "      <th>106252</th>\n",
       "      <td>SBout</td>\n",
       "      <td>233003806</td>\n",
       "      <td>8fc9cfe86b4e9e8c7cf508b2486605f1</td>\n",
       "    </tr>\n",
       "  </tbody>\n",
       "</table>\n",
       "<p>106253 rows × 3 columns</p>\n",
       "</div>"
      ],
      "text/plain": [
       "        shape_id                       trip_id  \\\n",
       "0       ROUTEA:1  ROUTEA|18766535:T18|16:30:00   \n",
       "1       ROUTEA:1   ROUTEA|18766535:T8|11:00:00   \n",
       "2       ROUTEA:1  ROUTEA|18766535:T20|17:30:00   \n",
       "3       ROUTEA:1  ROUTEA|18766535:T12|13:00:00   \n",
       "4       ROUTEA:1    ROUTEA|18766535:T4|8:30:00   \n",
       "...          ...                           ...   \n",
       "106248     SBout                     295201004   \n",
       "106249     SBout                     200090308   \n",
       "106250      SBin                     294100327   \n",
       "106251     SBout                     294100356   \n",
       "106252     SBout                     233003806   \n",
       "\n",
       "                                feed_key  \n",
       "0       321d2312b1e4b8887bbf20eda99c1bf5  \n",
       "1       321d2312b1e4b8887bbf20eda99c1bf5  \n",
       "2       321d2312b1e4b8887bbf20eda99c1bf5  \n",
       "3       321d2312b1e4b8887bbf20eda99c1bf5  \n",
       "4       321d2312b1e4b8887bbf20eda99c1bf5  \n",
       "...                                  ...  \n",
       "106248  8fc9cfe86b4e9e8c7cf508b2486605f1  \n",
       "106249  8fc9cfe86b4e9e8c7cf508b2486605f1  \n",
       "106250  8fc9cfe86b4e9e8c7cf508b2486605f1  \n",
       "106251  8fc9cfe86b4e9e8c7cf508b2486605f1  \n",
       "106252  8fc9cfe86b4e9e8c7cf508b2486605f1  \n",
       "\n",
       "[106253 rows x 3 columns]"
      ]
     },
     "execution_count": 13,
     "metadata": {},
     "output_type": "execute_result"
    }
   ],
   "source": [
    "trips"
   ]
  },
  {
   "cell_type": "code",
   "execution_count": 14,
   "id": "4e3e94d7-4c2a-4c58-87a1-f1345e2e15a2",
   "metadata": {
    "tags": []
   },
   "outputs": [],
   "source": [
    "stops = helpers.import_scheduled_stops(analysis_date, columns=['feed_key', 'stop_id', 'geometry'])"
   ]
  },
  {
   "cell_type": "code",
   "execution_count": 15,
   "id": "771717c6-8966-46fc-ba20-10736d703336",
   "metadata": {
    "tags": []
   },
   "outputs": [
    {
     "data": {
      "text/html": [
       "<div>\n",
       "<style scoped>\n",
       "    .dataframe tbody tr th:only-of-type {\n",
       "        vertical-align: middle;\n",
       "    }\n",
       "\n",
       "    .dataframe tbody tr th {\n",
       "        vertical-align: top;\n",
       "    }\n",
       "\n",
       "    .dataframe thead th {\n",
       "        text-align: right;\n",
       "    }\n",
       "</style>\n",
       "<table border=\"1\" class=\"dataframe\">\n",
       "  <thead>\n",
       "    <tr style=\"text-align: right;\">\n",
       "      <th></th>\n",
       "      <th>feed_key</th>\n",
       "      <th>stop_id</th>\n",
       "      <th>geometry</th>\n",
       "    </tr>\n",
       "  </thead>\n",
       "  <tbody>\n",
       "    <tr>\n",
       "      <th>0</th>\n",
       "      <td>0688f16f60e54eab2ac4105e8159332f</td>\n",
       "      <td>56414</td>\n",
       "      <td>POINT (-190097.461 -65006.777)</td>\n",
       "    </tr>\n",
       "    <tr>\n",
       "      <th>1</th>\n",
       "      <td>0688f16f60e54eab2ac4105e8159332f</td>\n",
       "      <td>56424</td>\n",
       "      <td>POINT (-189942.487 -64784.884)</td>\n",
       "    </tr>\n",
       "    <tr>\n",
       "      <th>2</th>\n",
       "      <td>0688f16f60e54eab2ac4105e8159332f</td>\n",
       "      <td>58054</td>\n",
       "      <td>POINT (-189994.567 -64811.779)</td>\n",
       "    </tr>\n",
       "    <tr>\n",
       "      <th>3</th>\n",
       "      <td>0688f16f60e54eab2ac4105e8159332f</td>\n",
       "      <td>58108</td>\n",
       "      <td>POINT (-190153.735 -65041.126)</td>\n",
       "    </tr>\n",
       "    <tr>\n",
       "      <th>4</th>\n",
       "      <td>0688f16f60e54eab2ac4105e8159332f</td>\n",
       "      <td>50434</td>\n",
       "      <td>POINT (-189946.737 -67021.554)</td>\n",
       "    </tr>\n",
       "    <tr>\n",
       "      <th>...</th>\n",
       "      <td>...</td>\n",
       "      <td>...</td>\n",
       "      <td>...</td>\n",
       "    </tr>\n",
       "    <tr>\n",
       "      <th>90393</th>\n",
       "      <td>8fc9cfe86b4e9e8c7cf508b2486605f1</td>\n",
       "      <td>186</td>\n",
       "      <td>POINT (152028.756 -421948.288)</td>\n",
       "    </tr>\n",
       "    <tr>\n",
       "      <th>90394</th>\n",
       "      <td>8fc9cfe86b4e9e8c7cf508b2486605f1</td>\n",
       "      <td>188</td>\n",
       "      <td>POINT (252826.578 -434360.739)</td>\n",
       "    </tr>\n",
       "    <tr>\n",
       "      <th>90395</th>\n",
       "      <td>8fc9cfe86b4e9e8c7cf508b2486605f1</td>\n",
       "      <td>189</td>\n",
       "      <td>POINT (258770.096 -435669.273)</td>\n",
       "    </tr>\n",
       "    <tr>\n",
       "      <th>90396</th>\n",
       "      <td>8fc9cfe86b4e9e8c7cf508b2486605f1</td>\n",
       "      <td>190</td>\n",
       "      <td>POINT (259874.998 -435755.157)</td>\n",
       "    </tr>\n",
       "    <tr>\n",
       "      <th>90397</th>\n",
       "      <td>8fc9cfe86b4e9e8c7cf508b2486605f1</td>\n",
       "      <td>191</td>\n",
       "      <td>POINT (261609.324 -435725.884)</td>\n",
       "    </tr>\n",
       "  </tbody>\n",
       "</table>\n",
       "<p>90398 rows × 3 columns</p>\n",
       "</div>"
      ],
      "text/plain": [
       "                               feed_key stop_id  \\\n",
       "0      0688f16f60e54eab2ac4105e8159332f   56414   \n",
       "1      0688f16f60e54eab2ac4105e8159332f   56424   \n",
       "2      0688f16f60e54eab2ac4105e8159332f   58054   \n",
       "3      0688f16f60e54eab2ac4105e8159332f   58108   \n",
       "4      0688f16f60e54eab2ac4105e8159332f   50434   \n",
       "...                                 ...     ...   \n",
       "90393  8fc9cfe86b4e9e8c7cf508b2486605f1     186   \n",
       "90394  8fc9cfe86b4e9e8c7cf508b2486605f1     188   \n",
       "90395  8fc9cfe86b4e9e8c7cf508b2486605f1     189   \n",
       "90396  8fc9cfe86b4e9e8c7cf508b2486605f1     190   \n",
       "90397  8fc9cfe86b4e9e8c7cf508b2486605f1     191   \n",
       "\n",
       "                             geometry  \n",
       "0      POINT (-190097.461 -65006.777)  \n",
       "1      POINT (-189942.487 -64784.884)  \n",
       "2      POINT (-189994.567 -64811.779)  \n",
       "3      POINT (-190153.735 -65041.126)  \n",
       "4      POINT (-189946.737 -67021.554)  \n",
       "...                               ...  \n",
       "90393  POINT (152028.756 -421948.288)  \n",
       "90394  POINT (252826.578 -434360.739)  \n",
       "90395  POINT (258770.096 -435669.273)  \n",
       "90396  POINT (259874.998 -435755.157)  \n",
       "90397  POINT (261609.324 -435725.884)  \n",
       "\n",
       "[90398 rows x 3 columns]"
      ]
     },
     "execution_count": 15,
     "metadata": {},
     "output_type": "execute_result"
    }
   ],
   "source": [
    "stops"
   ]
  },
  {
   "cell_type": "code",
   "execution_count": 35,
   "id": "536ed2d4-dcca-47dd-a60f-1e120ffa8dfb",
   "metadata": {
    "tags": []
   },
   "outputs": [],
   "source": [
    "shape_stops = (stops.merge(st, on = ['feed_key', 'stop_id'])\n",
    "     .merge(trips, on = ['feed_key', 'trip_id'])\n",
    "     .drop_duplicates(subset=['feed_key', 'shape_id', 'stop_id'])\n",
    ")"
   ]
  },
  {
   "cell_type": "code",
   "execution_count": 31,
   "id": "218d50ca-e95a-44a6-bc13-9a750043182a",
   "metadata": {
    "tags": []
   },
   "outputs": [
    {
     "data": {
      "text/html": [
       "<div>\n",
       "<style scoped>\n",
       "    .dataframe tbody tr th:only-of-type {\n",
       "        vertical-align: middle;\n",
       "    }\n",
       "\n",
       "    .dataframe tbody tr th {\n",
       "        vertical-align: top;\n",
       "    }\n",
       "\n",
       "    .dataframe thead th {\n",
       "        text-align: right;\n",
       "    }\n",
       "</style>\n",
       "<table border=\"1\" class=\"dataframe\">\n",
       "  <thead>\n",
       "    <tr style=\"text-align: right;\">\n",
       "      <th></th>\n",
       "      <th>tract</th>\n",
       "      <th>geometry</th>\n",
       "    </tr>\n",
       "  </thead>\n",
       "  <tbody>\n",
       "    <tr>\n",
       "      <th>0</th>\n",
       "      <td>06001400100</td>\n",
       "      <td>POLYGON ((-197090.096 -12468.283, -196909.112 ...</td>\n",
       "    </tr>\n",
       "    <tr>\n",
       "      <th>1</th>\n",
       "      <td>06001400200</td>\n",
       "      <td>POLYGON ((-196982.196 -15963.566, -196992.931 ...</td>\n",
       "    </tr>\n",
       "    <tr>\n",
       "      <th>2</th>\n",
       "      <td>06001400300</td>\n",
       "      <td>POLYGON ((-197350.929 -16712.642, -197950.200 ...</td>\n",
       "    </tr>\n",
       "    <tr>\n",
       "      <th>3</th>\n",
       "      <td>06001400400</td>\n",
       "      <td>POLYGON ((-197953.290 -16012.154, -197963.187 ...</td>\n",
       "    </tr>\n",
       "    <tr>\n",
       "      <th>4</th>\n",
       "      <td>06001400500</td>\n",
       "      <td>POLYGON ((-198589.270 -15822.210, -198703.192 ...</td>\n",
       "    </tr>\n",
       "    <tr>\n",
       "      <th>...</th>\n",
       "      <td>...</td>\n",
       "      <td>...</td>\n",
       "    </tr>\n",
       "    <tr>\n",
       "      <th>8030</th>\n",
       "      <td>06115040800</td>\n",
       "      <td>POLYGON ((-118271.694 119288.740, -117977.343 ...</td>\n",
       "    </tr>\n",
       "    <tr>\n",
       "      <th>8031</th>\n",
       "      <td>06115040901</td>\n",
       "      <td>POLYGON ((-112857.633 134628.595, -112795.165 ...</td>\n",
       "    </tr>\n",
       "    <tr>\n",
       "      <th>8032</th>\n",
       "      <td>06115040902</td>\n",
       "      <td>POLYGON ((-114108.120 127146.968, -114190.344 ...</td>\n",
       "    </tr>\n",
       "    <tr>\n",
       "      <th>8033</th>\n",
       "      <td>06115041000</td>\n",
       "      <td>POLYGON ((-118015.890 150723.763, -118020.386 ...</td>\n",
       "    </tr>\n",
       "    <tr>\n",
       "      <th>8034</th>\n",
       "      <td>06115041100</td>\n",
       "      <td>POLYGON ((-87348.800 176015.430, -87962.302 17...</td>\n",
       "    </tr>\n",
       "  </tbody>\n",
       "</table>\n",
       "<p>8035 rows × 2 columns</p>\n",
       "</div>"
      ],
      "text/plain": [
       "            tract                                           geometry\n",
       "0     06001400100  POLYGON ((-197090.096 -12468.283, -196909.112 ...\n",
       "1     06001400200  POLYGON ((-196982.196 -15963.566, -196992.931 ...\n",
       "2     06001400300  POLYGON ((-197350.929 -16712.642, -197950.200 ...\n",
       "3     06001400400  POLYGON ((-197953.290 -16012.154, -197963.187 ...\n",
       "4     06001400500  POLYGON ((-198589.270 -15822.210, -198703.192 ...\n",
       "...           ...                                                ...\n",
       "8030  06115040800  POLYGON ((-118271.694 119288.740, -117977.343 ...\n",
       "8031  06115040901  POLYGON ((-112857.633 134628.595, -112795.165 ...\n",
       "8032  06115040902  POLYGON ((-114108.120 127146.968, -114190.344 ...\n",
       "8033  06115041000  POLYGON ((-118015.890 150723.763, -118020.386 ...\n",
       "8034  06115041100  POLYGON ((-87348.800 176015.430, -87962.302 17...\n",
       "\n",
       "[8035 rows x 2 columns]"
      ]
     },
     "execution_count": 31,
     "metadata": {},
     "output_type": "execute_result"
    }
   ],
   "source": [
    "tracts"
   ]
  },
  {
   "cell_type": "code",
   "execution_count": 32,
   "id": "40d76e85-61ad-48fd-97b2-763229dcee19",
   "metadata": {
    "tags": []
   },
   "outputs": [
    {
     "data": {
      "text/html": [
       "<div>\n",
       "<style scoped>\n",
       "    .dataframe tbody tr th:only-of-type {\n",
       "        vertical-align: middle;\n",
       "    }\n",
       "\n",
       "    .dataframe tbody tr th {\n",
       "        vertical-align: top;\n",
       "    }\n",
       "\n",
       "    .dataframe thead th {\n",
       "        text-align: right;\n",
       "    }\n",
       "</style>\n",
       "<table border=\"1\" class=\"dataframe\">\n",
       "  <thead>\n",
       "    <tr style=\"text-align: right;\">\n",
       "      <th></th>\n",
       "      <th>tract_1</th>\n",
       "      <th>tract_2</th>\n",
       "      <th>geometry</th>\n",
       "      <th>intersection_hash</th>\n",
       "      <th>intersection_id</th>\n",
       "    </tr>\n",
       "  </thead>\n",
       "  <tbody>\n",
       "    <tr>\n",
       "      <th>1</th>\n",
       "      <td>06001404300</td>\n",
       "      <td>06001400100</td>\n",
       "      <td>POLYGON ((-196294.855 -15866.615, -196291.388 ...</td>\n",
       "      <td>810165257910103043</td>\n",
       "      <td>7b09825e-2085-4b54-bcbd-a832c4ec4053</td>\n",
       "    </tr>\n",
       "    <tr>\n",
       "      <th>2</th>\n",
       "      <td>06001404400</td>\n",
       "      <td>06001400100</td>\n",
       "      <td>POLYGON ((-196332.808 -15913.026, -196332.893 ...</td>\n",
       "      <td>-6603333591490277215</td>\n",
       "      <td>2465517d-89db-4840-8cd4-e4d90b100d6c</td>\n",
       "    </tr>\n",
       "    <tr>\n",
       "      <th>3</th>\n",
       "      <td>06001421600</td>\n",
       "      <td>06001400100</td>\n",
       "      <td>POLYGON ((-197285.488 -12214.433, -197283.307 ...</td>\n",
       "      <td>3286629633234426559</td>\n",
       "      <td>7fe27514-aefb-43c8-8e7d-c1b9981aab2b</td>\n",
       "    </tr>\n",
       "    <tr>\n",
       "      <th>4</th>\n",
       "      <td>06001422600</td>\n",
       "      <td>06001400100</td>\n",
       "      <td>POLYGON ((-197290.037 -12678.788, -197286.751 ...</td>\n",
       "      <td>2982289320613360605</td>\n",
       "      <td>1463c719-bf47-452b-a041-c2d79201b46c</td>\n",
       "    </tr>\n",
       "    <tr>\n",
       "      <th>5</th>\n",
       "      <td>06001422700</td>\n",
       "      <td>06001400100</td>\n",
       "      <td>POLYGON ((-197215.664 -13930.646, -197212.889 ...</td>\n",
       "      <td>-4431209528787019653</td>\n",
       "      <td>9a1f058c-29fb-4843-a973-bf1a8c090a52</td>\n",
       "    </tr>\n",
       "    <tr>\n",
       "      <th>...</th>\n",
       "      <td>...</td>\n",
       "      <td>...</td>\n",
       "      <td>...</td>\n",
       "      <td>...</td>\n",
       "      <td>...</td>\n",
       "    </tr>\n",
       "    <tr>\n",
       "      <th>59708</th>\n",
       "      <td>06115040303</td>\n",
       "      <td>06115040302</td>\n",
       "      <td>POLYGON ((-134551.498 122994.216, -134555.044 ...</td>\n",
       "      <td>390392221421106355</td>\n",
       "      <td>4386b7bc-2da8-4c5d-a611-6166c590065b</td>\n",
       "    </tr>\n",
       "    <tr>\n",
       "      <th>59710</th>\n",
       "      <td>06115040500</td>\n",
       "      <td>06115040302</td>\n",
       "      <td>POLYGON ((-135094.847 123008.145, -135096.165 ...</td>\n",
       "      <td>-4112068886901403029</td>\n",
       "      <td>c7c11604-ee47-4411-a9f5-c53514eb6197</td>\n",
       "    </tr>\n",
       "    <tr>\n",
       "      <th>59714</th>\n",
       "      <td>06115040303</td>\n",
       "      <td>06115040301</td>\n",
       "      <td>POLYGON ((-134384.030 124648.695, -134381.528 ...</td>\n",
       "      <td>8986987643166269919</td>\n",
       "      <td>fa896721-955d-42ee-81ec-79a875c2312c</td>\n",
       "    </tr>\n",
       "    <tr>\n",
       "      <th>59719</th>\n",
       "      <td>06115040500</td>\n",
       "      <td>06115040303</td>\n",
       "      <td>POLYGON ((-134552.206 123064.212, -134548.648 ...</td>\n",
       "      <td>-2150769350657280594</td>\n",
       "      <td>33763dbb-ca4e-4610-a327-964e90e11b40</td>\n",
       "    </tr>\n",
       "    <tr>\n",
       "      <th>59725</th>\n",
       "      <td>06115040600</td>\n",
       "      <td>06115040500</td>\n",
       "      <td>POLYGON ((-133552.050 121424.837, -133550.135 ...</td>\n",
       "      <td>7241557334161816457</td>\n",
       "      <td>eefbb20c-6858-4bf5-a196-b8316151dd0b</td>\n",
       "    </tr>\n",
       "  </tbody>\n",
       "</table>\n",
       "<p>25850 rows × 5 columns</p>\n",
       "</div>"
      ],
      "text/plain": [
       "           tract_1      tract_2  \\\n",
       "1      06001404300  06001400100   \n",
       "2      06001404400  06001400100   \n",
       "3      06001421600  06001400100   \n",
       "4      06001422600  06001400100   \n",
       "5      06001422700  06001400100   \n",
       "...            ...          ...   \n",
       "59708  06115040303  06115040302   \n",
       "59710  06115040500  06115040302   \n",
       "59714  06115040303  06115040301   \n",
       "59719  06115040500  06115040303   \n",
       "59725  06115040600  06115040500   \n",
       "\n",
       "                                                geometry    intersection_hash  \\\n",
       "1      POLYGON ((-196294.855 -15866.615, -196291.388 ...   810165257910103043   \n",
       "2      POLYGON ((-196332.808 -15913.026, -196332.893 ... -6603333591490277215   \n",
       "3      POLYGON ((-197285.488 -12214.433, -197283.307 ...  3286629633234426559   \n",
       "4      POLYGON ((-197290.037 -12678.788, -197286.751 ...  2982289320613360605   \n",
       "5      POLYGON ((-197215.664 -13930.646, -197212.889 ... -4431209528787019653   \n",
       "...                                                  ...                  ...   \n",
       "59708  POLYGON ((-134551.498 122994.216, -134555.044 ...   390392221421106355   \n",
       "59710  POLYGON ((-135094.847 123008.145, -135096.165 ... -4112068886901403029   \n",
       "59714  POLYGON ((-134384.030 124648.695, -134381.528 ...  8986987643166269919   \n",
       "59719  POLYGON ((-134552.206 123064.212, -134548.648 ... -2150769350657280594   \n",
       "59725  POLYGON ((-133552.050 121424.837, -133550.135 ...  7241557334161816457   \n",
       "\n",
       "                            intersection_id  \n",
       "1      7b09825e-2085-4b54-bcbd-a832c4ec4053  \n",
       "2      2465517d-89db-4840-8cd4-e4d90b100d6c  \n",
       "3      7fe27514-aefb-43c8-8e7d-c1b9981aab2b  \n",
       "4      1463c719-bf47-452b-a041-c2d79201b46c  \n",
       "5      9a1f058c-29fb-4843-a973-bf1a8c090a52  \n",
       "...                                     ...  \n",
       "59708  4386b7bc-2da8-4c5d-a611-6166c590065b  \n",
       "59710  c7c11604-ee47-4411-a9f5-c53514eb6197  \n",
       "59714  fa896721-955d-42ee-81ec-79a875c2312c  \n",
       "59719  33763dbb-ca4e-4610-a327-964e90e11b40  \n",
       "59725  eefbb20c-6858-4bf5-a196-b8316151dd0b  \n",
       "\n",
       "[25850 rows x 5 columns]"
      ]
     },
     "execution_count": 32,
     "metadata": {},
     "output_type": "execute_result"
    }
   ],
   "source": [
    "borders"
   ]
  },
  {
   "cell_type": "code",
   "execution_count": 38,
   "id": "e599943e-39d9-4da1-a3af-91c0a70227bc",
   "metadata": {
    "tags": []
   },
   "outputs": [],
   "source": [
    "shape_stops_tracts_borders = pd.concat([tracts, borders]).sjoin(shape_stops).drop(columns='index_right')"
   ]
  },
  {
   "cell_type": "code",
   "execution_count": 40,
   "id": "a49e5154-febf-4875-a406-bdeecb8a6a29",
   "metadata": {
    "tags": []
   },
   "outputs": [],
   "source": [
    "shape_stops_tracts_borders.to_parquet(f'shape_stops_tracts_borders_{analysis_date}.parquet')"
   ]
  },
  {
   "cell_type": "markdown",
   "id": "9f1cba14-d07e-41a0-9e46-910911649d77",
   "metadata": {},
   "source": [
    "## interpolation points"
   ]
  },
  {
   "cell_type": "code",
   "execution_count": 25,
   "id": "c60f91fe-c146-466b-ae8d-cd860e3c7173",
   "metadata": {},
   "outputs": [],
   "source": [
    "def intersection_hash(row):\n",
    "    '''\n",
    "    Get unique hash of intersection zones.\n",
    "    No need to keep both t1 x t2 and t2 x t1\n",
    "    '''\n",
    "    t1 = int(row.tract_1[2:]) #  drop state code\n",
    "    t2 = int(row.tract_2[2:])\n",
    "    row_tracts = [t1, t2]\n",
    "    row_tracts.sort() #  modifies inplace\n",
    "    return hash(tuple(row_tracts))"
   ]
  },
  {
   "cell_type": "code",
   "execution_count": 26,
   "id": "23795016-ef7f-45eb-8855-a78ca14bbd72",
   "metadata": {
    "tags": []
   },
   "outputs": [],
   "source": [
    "def find_borders(tracts_gdf: gpd.GeoDataFrame,\n",
    "                border_buffer: int = BORDER_BUFFER_METERS\n",
    ") -> gpd.GeoDataFrame:\n",
    "    '''\n",
    "    '''\n",
    "    tracts_gdf = tracts_gdf.copy()\n",
    "    tracts_gdf.geometry = tracts_gdf.buffer(border_buffer)\n",
    "    borders = gpd.overlay(tracts_gdf, tracts_gdf)\n",
    "    borders = borders[borders['tract_1'] != borders['tract_2']]\n",
    "    # for dropping mirrored borders\n",
    "    borders['intersection_hash'] = borders.apply(intersection_hash, axis=1)\n",
    "    borders = borders.drop_duplicates(subset=['intersection_hash'])\n",
    "    # for more elegant tracking\n",
    "    borders['intersection_id'] = [str(uuid.uuid4()) for _ in range(borders.shape[0])] \n",
    "    return borders"
   ]
  },
  {
   "cell_type": "code",
   "execution_count": 29,
   "id": "1281a0e5-8511-4283-bafa-51eaf1a5828f",
   "metadata": {},
   "outputs": [],
   "source": [
    "borders = find_borders(tracts)"
   ]
  },
  {
   "cell_type": "code",
   "execution_count": null,
   "id": "e5137a73-faf9-4460-812f-c1f655792622",
   "metadata": {},
   "outputs": [],
   "source": [
    "borders.head(3)"
   ]
  },
  {
   "cell_type": "code",
   "execution_count": null,
   "id": "afe3ae21-5852-48e9-94de-d97fa29a7d1d",
   "metadata": {
    "tags": []
   },
   "outputs": [],
   "source": [
    "shapes.head(3)"
   ]
  },
  {
   "cell_type": "code",
   "execution_count": null,
   "id": "4ecfb658-eec0-4ca9-b1a5-29e1330d300a",
   "metadata": {
    "tags": []
   },
   "outputs": [],
   "source": [
    "trip_cols = ['gtfs_dataset_key', 'name', 'trip_id',\n",
    "        'shape_id', 'shape_array_key', 'route_id',\n",
    "        'route_key', 'direction_id', 'route_short_name',\n",
    "        'trip_instance_key', 'feed_key']\n",
    "\n",
    "trips = (helpers.import_scheduled_trips(analysis_date, columns=trip_cols)\n",
    "        .dropna(subset=['shape_id'])\n",
    "        )"
   ]
  },
  {
   "cell_type": "code",
   "execution_count": null,
   "id": "edced118-b1b5-40df-ac39-c1aaea284d3b",
   "metadata": {
    "tags": []
   },
   "outputs": [],
   "source": [
    "act_6 = trips.query('name.str.contains(\"AC Transit\") & shape_id == \"shp-6-03\"')"
   ]
  },
  {
   "cell_type": "code",
   "execution_count": null,
   "id": "44230c0e-e03d-4bf3-9f38-453904baa941",
   "metadata": {
    "tags": []
   },
   "outputs": [],
   "source": [
    "act_6_shape = shapes.query('shape_array_key.isin(@act_6.shape_array_key)')"
   ]
  },
  {
   "cell_type": "code",
   "execution_count": null,
   "id": "50dc4ccc-0ffc-4946-a973-7c6b569aa44e",
   "metadata": {
    "tags": []
   },
   "outputs": [],
   "source": [
    "def overlay_to_borders(\n",
    "    shape_gdf: gpd.GeoDataFrame,\n",
    "    border_gdf: gpd.GeoDataFrame,\n",
    "    sensitivity_dist: int = BORDER_BUFFER_METERS * 4\n",
    "                 ):\n",
    "    '''\n",
    "    \n",
    "    '''\n",
    "    overlaid = shape_gdf.overlay(border_gdf, how='intersection')\n",
    "    overlaid = overlaid.query('geometry.length > @sensitivity_dist')\n",
    "    return overlaid"
   ]
  },
  {
   "cell_type": "code",
   "execution_count": null,
   "id": "56f29fae-a37a-42a7-b850-1458a3b30c0c",
   "metadata": {
    "tags": []
   },
   "outputs": [],
   "source": [
    "def overlay_to_tracts(\n",
    "    shape_gdf_no_border: gpd.GeoDataFrame,\n",
    "    tract_gdf: gpd.GeoDataFrame,\n",
    "                 ):\n",
    "    '''\n",
    "    \n",
    "    '''\n",
    "    tract_gdf = tract_gdf[['tract', 'geometry']]\n",
    "    return shape_gdf_no_border.overlay(tract_gdf, how='intersection')"
   ]
  },
  {
   "cell_type": "code",
   "execution_count": null,
   "id": "44545a32-ffaf-466c-8850-1be0a4914781",
   "metadata": {
    "tags": []
   },
   "outputs": [],
   "source": [
    "def overlay_tracts_borders(\n",
    "    shape_gdf: gpd.GeoDataFrame,\n",
    "    tract_gdf: gpd.GeoDataFrame,\n",
    "    border_gdf: gpd.GeoDataFrame,\n",
    "    sensitivity_dist: int = BORDER_BUFFER_METERS * 4\n",
    "):\n",
    "    '''\n",
    "    '''\n",
    "    border_gdf = border_gdf.drop(columns=['intersection_hash'])\n",
    "    try:\n",
    "        border_overlaid = overlay_to_borders(shape_gdf, border_gdf, sensitivity_dist)\n",
    "        not_border = shape_gdf.overlay(border_overlaid, how='difference')\n",
    "        tract_overlaid = overlay_to_tracts(not_border, tracts)\n",
    "        tracts_and_borders = (pd.concat([tract_overlaid, border_overlaid])\n",
    "                              .explode(index_parts=False)\n",
    "                              .reset_index(drop=True)\n",
    "                              .query('geometry.length > @sensitivity_dist')\n",
    "                             )\n",
    "        tracts_and_borders = tracts_and_borders.assign(\n",
    "            border = ~tracts_and_borders.tract_2.isna(),\n",
    "            start = tracts_and_borders.geometry.apply(lambda x: shapely.Point(x.coords[0])),\n",
    "            # end = tracts_and_borders.geometry.apply(lambda x: shapely.Point(x.coords[-1])),\n",
    "            tsi_segment_id = tracts_and_borders.tract.combine_first(tracts_and_borders.intersection_id).astype(str),\n",
    "            tsi_segment_meters = tracts_and_borders.geometry.length\n",
    "        )\n",
    "        return tracts_and_borders\n",
    "    except Exception as e:\n",
    "        print(f'{shape_gdf}, {e}')"
   ]
  },
  {
   "cell_type": "code",
   "execution_count": null,
   "id": "d81c3442-1d82-4eeb-bea9-be579e1edfb6",
   "metadata": {
    "tags": []
   },
   "outputs": [],
   "source": [
    "overlay_tracts_borders(shapes.loc[1:1], tracts, borders)"
   ]
  },
  {
   "cell_type": "code",
   "execution_count": null,
   "id": "df9232f6-6ae8-4930-9268-90dc68ba54b4",
   "metadata": {
    "tags": []
   },
   "outputs": [],
   "source": [
    "shape_gdf = shapes.loc[2:2]"
   ]
  },
  {
   "cell_type": "markdown",
   "id": "94594494-8b30-4d99-a0ae-3664550fcc91",
   "metadata": {
    "tags": []
   },
   "source": [
    "### Whittier example \n",
    "\n",
    "987fd928878a31c5fa38c91903cd81ed"
   ]
  },
  {
   "cell_type": "code",
   "execution_count": null,
   "id": "1dbe11d3-63d5-414b-a601-ff089b150cff",
   "metadata": {
    "tags": []
   },
   "outputs": [],
   "source": [
    "shape_gdf"
   ]
  },
  {
   "cell_type": "code",
   "execution_count": null,
   "id": "ce9ec1fc-bc6f-4d82-9953-38b17427b160",
   "metadata": {
    "tags": []
   },
   "outputs": [],
   "source": [
    "whittier_new = overlay_tracts_borders(shape_gdf, tracts, borders)"
   ]
  },
  {
   "cell_type": "markdown",
   "id": "048e0244-97c9-49d4-b60f-c47be31645b7",
   "metadata": {
    "tags": []
   },
   "source": [
    "shapes can leave and re-enter tracts, need to handle.\n",
    "\n",
    "* some short segments can be dropped \n",
    "* longer ones should be preserved and given unique ids..."
   ]
  },
  {
   "cell_type": "code",
   "execution_count": null,
   "id": "47beabc2-9473-4af4-a412-cf776e0a43d1",
   "metadata": {
    "tags": []
   },
   "outputs": [],
   "source": [
    "whittier_new.reset_index().explore(column='tsi_segment_id')"
   ]
  },
  {
   "cell_type": "markdown",
   "id": "cb9ef4c7-8e39-4a7a-998f-5ecdfbdd7539",
   "metadata": {
    "tags": []
   },
   "source": [
    "### continue"
   ]
  },
  {
   "cell_type": "code",
   "execution_count": null,
   "id": "1622602c-899f-4ace-bc37-3eae43bd6e2f",
   "metadata": {
    "tags": []
   },
   "outputs": [],
   "source": [
    "%%time\n",
    "#  36.1sec with query short\n",
    "bigtest = shapes.head(50).groupby('shape_array_key').apply(overlay_tracts_borders, tract_gdf=tracts, border_gdf=borders).reset_index(drop=True)"
   ]
  },
  {
   "cell_type": "code",
   "execution_count": null,
   "id": "158d3ecc-1def-4345-99e1-dbc6782000bb",
   "metadata": {
    "tags": []
   },
   "outputs": [],
   "source": [
    "#  would take ~45min for all, not great not terrible\n",
    "shapes.shape"
   ]
  },
  {
   "cell_type": "markdown",
   "id": "3dc9e317-d64a-4c65-ab7a-665c747fee56",
   "metadata": {},
   "source": [
    "## Alameda County test?"
   ]
  },
  {
   "cell_type": "code",
   "execution_count": null,
   "id": "5336bd70-50fd-44c9-811b-6a3ecdec5f76",
   "metadata": {
    "tags": []
   },
   "outputs": [],
   "source": [
    "counties = gpd.read_file('./counties.geojson')"
   ]
  },
  {
   "cell_type": "code",
   "execution_count": null,
   "id": "18ab3b7b-c68c-4bac-8564-c3fd9dd7e417",
   "metadata": {
    "tags": []
   },
   "outputs": [],
   "source": [
    "alameda = counties[:1].to_crs(shapes.crs)"
   ]
  },
  {
   "cell_type": "code",
   "execution_count": null,
   "id": "35f20f7c-5678-41e8-87fb-3cd806076af8",
   "metadata": {
    "tags": []
   },
   "outputs": [],
   "source": [
    "alameda_shapes = shapes.clip(alameda.geometry.iloc[0], keep_geom_type=True)"
   ]
  },
  {
   "cell_type": "code",
   "execution_count": null,
   "id": "1aa0648b-0105-4416-a036-d9ef48357d1e",
   "metadata": {
    "tags": []
   },
   "outputs": [],
   "source": [
    "from tqdm import tqdm\n",
    "tqdm.pandas(desc=\"Progress\")"
   ]
  },
  {
   "cell_type": "code",
   "execution_count": null,
   "id": "87f12ae7-9949-4917-9139-4e2dc6e98a7f",
   "metadata": {
    "tags": []
   },
   "outputs": [
    {
     "name": "stderr",
     "output_type": "stream",
     "text": [
      "Progress:  61%|██████    | 313/516 [03:57<02:35,  1.30it/s]"
     ]
    }
   ],
   "source": [
    "alameda = (alameda_shapes\n",
    "           .groupby('shape_array_key')\n",
    "           .progress_apply(overlay_tracts_borders, tract_gdf=tracts, border_gdf=borders)\n",
    "           .reset_index(drop=True)\n",
    "          )"
   ]
  },
  {
   "cell_type": "code",
   "execution_count": null,
   "id": "885019d2-5c83-48b5-b797-2556b6dbf30b",
   "metadata": {
    "tags": []
   },
   "outputs": [],
   "source": [
    "m = borders.clip(alameda.buffer(3000)).explore()"
   ]
  },
  {
   "cell_type": "code",
   "execution_count": null,
   "id": "4837df61-e5af-4924-b28d-5eeee7080e87",
   "metadata": {
    "tags": []
   },
   "outputs": [],
   "source": [
    "alameda.explore(column='tsi_segment_id', m=m)"
   ]
  },
  {
   "cell_type": "code",
   "execution_count": null,
   "id": "aaff36bd-9d1c-4ab2-9085-edf483220654",
   "metadata": {
    "tags": []
   },
   "outputs": [],
   "source": [
    "alameda.to_parquet(f'test_tracts_borders_{analysis_date}.parquet')"
   ]
  }
 ],
 "metadata": {
  "kernelspec": {
   "display_name": "Python 3 (ipykernel)",
   "language": "python",
   "name": "python3"
  },
  "language_info": {
   "codemirror_mode": {
    "name": "ipython",
    "version": 3
   },
   "file_extension": ".py",
   "mimetype": "text/x-python",
   "name": "python",
   "nbconvert_exporter": "python",
   "pygments_lexer": "ipython3",
   "version": "3.11.10"
  },
  "widgets": {
   "application/vnd.jupyter.widget-state+json": {
    "state": {},
    "version_major": 2,
    "version_minor": 0
   }
  }
 },
 "nbformat": 4,
 "nbformat_minor": 5
}
