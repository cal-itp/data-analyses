{
 "cells": [
  {
   "cell_type": "code",
   "execution_count": 1,
   "id": "9e645c63-24e5-466f-8f20-279614c1d767",
   "metadata": {},
   "outputs": [],
   "source": [
    "import sys"
   ]
  },
  {
   "cell_type": "code",
   "execution_count": 2,
   "id": "4f3eb58f-9663-4867-a5c2-2ed658cd4c0d",
   "metadata": {},
   "outputs": [],
   "source": [
    "import intake\n",
    "import pandas as pd\n",
    "import geopandas as gpd\n",
    "from calitp_data_analysis import geography_utils\n",
    "from siuba import *\n",
    "import shapely"
   ]
  },
  {
   "cell_type": "code",
   "execution_count": 3,
   "id": "dbc34a06-4993-426d-8e6e-99b9cd447222",
   "metadata": {},
   "outputs": [],
   "source": [
    "from shared_utils import catalog_utils, rt_dates\n",
    "GTFS_DATA_DICT = catalog_utils.get_catalog(\"gtfs_analytics_data\")"
   ]
  },
  {
   "cell_type": "code",
   "execution_count": 4,
   "id": "815cb9ed-e7dd-4a8f-9830-917101668c45",
   "metadata": {},
   "outputs": [],
   "source": [
    "from segment_speed_utils import helpers"
   ]
  },
  {
   "cell_type": "markdown",
   "id": "afe82e80-7c93-43ed-a32a-5c3daed646eb",
   "metadata": {},
   "source": [
    "# Exploratory Analysis\n",
    "\n",
    "Start working on how to identify and count \"border zones\" where transit runs along Census Tract boundaries and VRH/VRM should be split accordingly (avoiding double-counting or arbitrary allocation to only one border tract)"
   ]
  },
  {
   "cell_type": "code",
   "execution_count": 5,
   "id": "0472c5ab-e469-4f36-821b-43920b9570a6",
   "metadata": {},
   "outputs": [],
   "source": [
    "catalog = intake.open_catalog(\"*.yml\")"
   ]
  },
  {
   "cell_type": "code",
   "execution_count": 6,
   "id": "0d6185dd-7140-4eb0-abb7-90d36522e647",
   "metadata": {},
   "outputs": [],
   "source": [
    "def read_census_tracts(\n",
    "    crs: str = geography_utils.CA_NAD83Albers_m,\n",
    "    cols: list = [\"Tract\", \"pop_sq_mi\", \"geometry\"]\n",
    ") -> gpd.GeoDataFrame:\n",
    "    census_tracts = (\n",
    "        catalog.calenviroscreen_lehd_by_tract.read()\n",
    "        .to_crs(crs)\n",
    "        [cols]\n",
    "    ).rename(columns={'Tract':'tract'})\n",
    "    return census_tracts"
   ]
  },
  {
   "cell_type": "code",
   "execution_count": 7,
   "id": "822430c6-9c7b-48e6-a3a8-3d0d682ba40b",
   "metadata": {},
   "outputs": [],
   "source": [
    "tracts = read_census_tracts(cols=['Tract', 'geometry'])"
   ]
  },
  {
   "cell_type": "code",
   "execution_count": 8,
   "id": "f3bf5417-8e12-464e-a0c0-3f4495dfaedc",
   "metadata": {},
   "outputs": [],
   "source": [
    "analysis_date = rt_dates.DATES['feb2025']"
   ]
  },
  {
   "cell_type": "code",
   "execution_count": 9,
   "id": "88ce1f77-4690-4be6-8568-37f05ae06b81",
   "metadata": {},
   "outputs": [],
   "source": [
    "shapes = helpers.import_scheduled_shapes(analysis_date)"
   ]
  },
  {
   "cell_type": "code",
   "execution_count": 10,
   "id": "6726ec66-f9fa-4a7c-b7c0-0bda39b9ed98",
   "metadata": {},
   "outputs": [],
   "source": [
    "# shapes.explore()"
   ]
  },
  {
   "cell_type": "code",
   "execution_count": 11,
   "id": "56839fea-1dd4-4692-b565-8d3b17fced07",
   "metadata": {
    "tags": []
   },
   "outputs": [],
   "source": [
    "BORDER_BUFFER_METERS = 35"
   ]
  },
  {
   "cell_type": "code",
   "execution_count": 15,
   "id": "c60f91fe-c146-466b-ae8d-cd860e3c7173",
   "metadata": {},
   "outputs": [],
   "source": [
    "def intersection_hash(row):\n",
    "    '''\n",
    "    Get unique hash of intersection zones.\n",
    "    No need to keep both t1 x t2 and t2 x t1\n",
    "    '''\n",
    "    t1 = int(row.tract_1[2:]) #  drop state code\n",
    "    t2 = int(row.tract_2[2:])\n",
    "    row_tracts = [t1, t2]\n",
    "    row_tracts.sort() #  modifies inplace\n",
    "    return hash(tuple(row_tracts))"
   ]
  },
  {
   "cell_type": "code",
   "execution_count": 57,
   "id": "23795016-ef7f-45eb-8855-a78ca14bbd72",
   "metadata": {
    "tags": []
   },
   "outputs": [],
   "source": [
    "def find_borders(tracts_gdf: gpd.GeoDataFrame,\n",
    "                border_buffer: int = BORDER_BUFFER_METERS\n",
    ") -> gpd.GeoDataFrame:\n",
    "    '''\n",
    "    '''\n",
    "    tracts_gdf = tracts_gdf.copy()\n",
    "    tracts_gdf.geometry = tracts_gdf.buffer(border_buffer)\n",
    "    borders = gpd.overlay(tracts_gdf, tracts_gdf)\n",
    "    borders = borders[borders['tract_1'] != borders['tract_2']]\n",
    "    borders['intersection_hash'] = borders.apply(intersection_hash, axis=1)\n",
    "    borders = borders.drop_duplicates(subset=['intersection_hash'])\n",
    "    return borders"
   ]
  },
  {
   "cell_type": "code",
   "execution_count": 58,
   "id": "1281a0e5-8511-4283-bafa-51eaf1a5828f",
   "metadata": {},
   "outputs": [],
   "source": [
    "borders = find_borders(tracts)"
   ]
  },
  {
   "cell_type": "code",
   "execution_count": 59,
   "id": "e5137a73-faf9-4460-812f-c1f655792622",
   "metadata": {},
   "outputs": [
    {
     "data": {
      "text/html": [
       "<div>\n",
       "<style scoped>\n",
       "    .dataframe tbody tr th:only-of-type {\n",
       "        vertical-align: middle;\n",
       "    }\n",
       "\n",
       "    .dataframe tbody tr th {\n",
       "        vertical-align: top;\n",
       "    }\n",
       "\n",
       "    .dataframe thead th {\n",
       "        text-align: right;\n",
       "    }\n",
       "</style>\n",
       "<table border=\"1\" class=\"dataframe\">\n",
       "  <thead>\n",
       "    <tr style=\"text-align: right;\">\n",
       "      <th></th>\n",
       "      <th>tract_1</th>\n",
       "      <th>tract_2</th>\n",
       "      <th>geometry</th>\n",
       "      <th>intersection_hash</th>\n",
       "    </tr>\n",
       "  </thead>\n",
       "  <tbody>\n",
       "    <tr>\n",
       "      <th>1</th>\n",
       "      <td>06001404300</td>\n",
       "      <td>06001400100</td>\n",
       "      <td>POLYGON ((-196294.855 -15866.615, -196291.388 ...</td>\n",
       "      <td>810165257910103043</td>\n",
       "    </tr>\n",
       "    <tr>\n",
       "      <th>2</th>\n",
       "      <td>06001404400</td>\n",
       "      <td>06001400100</td>\n",
       "      <td>POLYGON ((-196332.808 -15913.026, -196332.893 ...</td>\n",
       "      <td>-6603333591490277215</td>\n",
       "    </tr>\n",
       "    <tr>\n",
       "      <th>3</th>\n",
       "      <td>06001421600</td>\n",
       "      <td>06001400100</td>\n",
       "      <td>POLYGON ((-197285.488 -12214.433, -197283.307 ...</td>\n",
       "      <td>3286629633234426559</td>\n",
       "    </tr>\n",
       "  </tbody>\n",
       "</table>\n",
       "</div>"
      ],
      "text/plain": [
       "       tract_1      tract_2  \\\n",
       "1  06001404300  06001400100   \n",
       "2  06001404400  06001400100   \n",
       "3  06001421600  06001400100   \n",
       "\n",
       "                                            geometry    intersection_hash  \n",
       "1  POLYGON ((-196294.855 -15866.615, -196291.388 ...   810165257910103043  \n",
       "2  POLYGON ((-196332.808 -15913.026, -196332.893 ... -6603333591490277215  \n",
       "3  POLYGON ((-197285.488 -12214.433, -197283.307 ...  3286629633234426559  "
      ]
     },
     "execution_count": 59,
     "metadata": {},
     "output_type": "execute_result"
    }
   ],
   "source": [
    "borders.head(3)"
   ]
  },
  {
   "cell_type": "markdown",
   "id": "9f1cba14-d07e-41a0-9e46-910911649d77",
   "metadata": {},
   "source": [
    "## interpolation points"
   ]
  },
  {
   "cell_type": "code",
   "execution_count": 63,
   "id": "afe3ae21-5852-48e9-94de-d97fa29a7d1d",
   "metadata": {
    "tags": []
   },
   "outputs": [
    {
     "data": {
      "text/html": [
       "<div>\n",
       "<style scoped>\n",
       "    .dataframe tbody tr th:only-of-type {\n",
       "        vertical-align: middle;\n",
       "    }\n",
       "\n",
       "    .dataframe tbody tr th {\n",
       "        vertical-align: top;\n",
       "    }\n",
       "\n",
       "    .dataframe thead th {\n",
       "        text-align: right;\n",
       "    }\n",
       "</style>\n",
       "<table border=\"1\" class=\"dataframe\">\n",
       "  <thead>\n",
       "    <tr style=\"text-align: right;\">\n",
       "      <th></th>\n",
       "      <th>shape_array_key</th>\n",
       "      <th>geometry</th>\n",
       "    </tr>\n",
       "  </thead>\n",
       "  <tbody>\n",
       "    <tr>\n",
       "      <th>0</th>\n",
       "      <td>7d199439c94815cbf76cc002feb4de7d</td>\n",
       "      <td>LINESTRING (330989.175 -426478.193, 330965.137...</td>\n",
       "    </tr>\n",
       "    <tr>\n",
       "      <th>1</th>\n",
       "      <td>a3f097f45165a591d54d808ed870d871</td>\n",
       "      <td>LINESTRING (89405.704 -40294.539, 89409.725 -4...</td>\n",
       "    </tr>\n",
       "    <tr>\n",
       "      <th>2</th>\n",
       "      <td>987fd928878a31c5fa38c91903cd81ed</td>\n",
       "      <td>LINESTRING (180091.818 -446409.639, 180061.887...</td>\n",
       "    </tr>\n",
       "  </tbody>\n",
       "</table>\n",
       "</div>"
      ],
      "text/plain": [
       "                    shape_array_key  \\\n",
       "0  7d199439c94815cbf76cc002feb4de7d   \n",
       "1  a3f097f45165a591d54d808ed870d871   \n",
       "2  987fd928878a31c5fa38c91903cd81ed   \n",
       "\n",
       "                                            geometry  \n",
       "0  LINESTRING (330989.175 -426478.193, 330965.137...  \n",
       "1  LINESTRING (89405.704 -40294.539, 89409.725 -4...  \n",
       "2  LINESTRING (180091.818 -446409.639, 180061.887...  "
      ]
     },
     "execution_count": 63,
     "metadata": {},
     "output_type": "execute_result"
    }
   ],
   "source": [
    "shapes.head(3)"
   ]
  },
  {
   "cell_type": "code",
   "execution_count": 62,
   "id": "4ecfb658-eec0-4ca9-b1a5-29e1330d300a",
   "metadata": {
    "tags": []
   },
   "outputs": [],
   "source": [
    "trip_cols = ['gtfs_dataset_key', 'name', 'trip_id',\n",
    "        'shape_id', 'shape_array_key', 'route_id',\n",
    "        'route_key', 'direction_id', 'route_short_name',\n",
    "        'trip_instance_key', 'feed_key']\n",
    "\n",
    "trips = (helpers.import_scheduled_trips(analysis_date, columns=trip_cols)\n",
    "        .dropna(subset=['shape_id'])\n",
    "        )"
   ]
  },
  {
   "cell_type": "code",
   "execution_count": 35,
   "id": "edced118-b1b5-40df-ac39-c1aaea284d3b",
   "metadata": {
    "tags": []
   },
   "outputs": [],
   "source": [
    "act_6 = trips.query('name.str.contains(\"AC Transit\") & shape_id == \"shp-6-03\"')"
   ]
  },
  {
   "cell_type": "code",
   "execution_count": 36,
   "id": "44230c0e-e03d-4bf3-9f38-453904baa941",
   "metadata": {
    "tags": []
   },
   "outputs": [],
   "source": [
    "act_6_shape = shapes.query('shape_array_key.isin(@act_6.shape_array_key)')"
   ]
  },
  {
   "cell_type": "code",
   "execution_count": 39,
   "id": "50dc4ccc-0ffc-4946-a973-7c6b569aa44e",
   "metadata": {
    "tags": []
   },
   "outputs": [],
   "source": [
    "def overlay_to_borders(\n",
    "    shape_gdf: gpd.GeoDataFrame,\n",
    "    border_gdf: gpd.GeoDataFrame,\n",
    "    sensitivity_dist: int = BORDER_BUFFER_METERS * 4\n",
    "                 ):\n",
    "    '''\n",
    "    \n",
    "    '''\n",
    "    overlaid = shape_gdf.overlay(border_gdf, how='intersection')\n",
    "    overlaid = overlaid.query('geometry.length > @sensitivity_dist')\n",
    "    return overlaid"
   ]
  },
  {
   "cell_type": "code",
   "execution_count": 45,
   "id": "56f29fae-a37a-42a7-b850-1458a3b30c0c",
   "metadata": {
    "tags": []
   },
   "outputs": [],
   "source": [
    "def overlay_to_tracts(\n",
    "    shape_gdf_no_border: gpd.GeoDataFrame,\n",
    "    tract_gdf: gpd.GeoDataFrame,\n",
    "                 ):\n",
    "    '''\n",
    "    \n",
    "    '''\n",
    "    tract_gdf = tract_gdf[['tract', 'geometry']]\n",
    "    return shape_gdf_no_border.overlay(tract_gdf, how='intersection')"
   ]
  },
  {
   "cell_type": "code",
   "execution_count": 82,
   "id": "44545a32-ffaf-466c-8850-1be0a4914781",
   "metadata": {
    "tags": []
   },
   "outputs": [],
   "source": [
    "def overlay_tracts_borders(\n",
    "    shape_gdf: gpd.GeoDataFrame,\n",
    "    tract_gdf: gpd.GeoDataFrame,\n",
    "    border_gdf: gpd.GeoDataFrame,\n",
    "    sensitivity_dist: int = BORDER_BUFFER_METERS * 4\n",
    "):\n",
    "    '''\n",
    "    '''\n",
    "    try:\n",
    "        border_overlaid = overlay_to_borders(shape_gdf, borders)\n",
    "        not_border = shape_gdf.overlay(border_overlaid, how='difference')\n",
    "        tract_overlaid = overlay_to_tracts(not_border, tracts)\n",
    "        tracts_and_borders = (pd.concat([tract_overlaid, border_overlaid])\n",
    "                              .reset_index(drop=True)\n",
    "                             )\n",
    "        tracts_and_borders = tracts_and_borders.assign(\n",
    "            border = ~tracts_and_borders.tract_2.isna(),\n",
    "            start = tracts_and_borders.geometry.apply(lambda x: shapely.Point(x.coords[0])),\n",
    "            end = tracts_and_borders.geometry.apply(lambda x: shapely.Point(x.coords[-1])),\n",
    "            tsi_segment_id = tracts_and_borders.tract.combine_first(tracts_and_borders.intersection_hash)\n",
    "        )\n",
    "        return tracts_and_borders\n",
    "    except Exception as e:\n",
    "        print(f'{shape_gdf}, {e}')"
   ]
  },
  {
   "cell_type": "code",
   "execution_count": 86,
   "id": "d81c3442-1d82-4eeb-bea9-be579e1edfb6",
   "metadata": {
    "tags": []
   },
   "outputs": [
    {
     "data": {
      "text/html": [
       "<div>\n",
       "<style scoped>\n",
       "    .dataframe tbody tr th:only-of-type {\n",
       "        vertical-align: middle;\n",
       "    }\n",
       "\n",
       "    .dataframe tbody tr th {\n",
       "        vertical-align: top;\n",
       "    }\n",
       "\n",
       "    .dataframe thead th {\n",
       "        text-align: right;\n",
       "    }\n",
       "</style>\n",
       "<table border=\"1\" class=\"dataframe\">\n",
       "  <thead>\n",
       "    <tr style=\"text-align: right;\">\n",
       "      <th></th>\n",
       "      <th>shape_array_key</th>\n",
       "      <th>tract</th>\n",
       "      <th>geometry</th>\n",
       "      <th>tract_1</th>\n",
       "      <th>tract_2</th>\n",
       "      <th>intersection_hash</th>\n",
       "      <th>border</th>\n",
       "      <th>start</th>\n",
       "      <th>end</th>\n",
       "      <th>tsi_segment_id</th>\n",
       "    </tr>\n",
       "  </thead>\n",
       "  <tbody>\n",
       "    <tr>\n",
       "      <th>0</th>\n",
       "      <td>a3f097f45165a591d54d808ed870d871</td>\n",
       "      <td>06051000200</td>\n",
       "      <td>LINESTRING (89405.704 -40294.539, 89409.725 -4...</td>\n",
       "      <td>NaN</td>\n",
       "      <td>NaN</td>\n",
       "      <td>NaN</td>\n",
       "      <td>False</td>\n",
       "      <td>POINT (89405.704 -40294.539)</td>\n",
       "      <td>POINT (91775.627 -41430.005)</td>\n",
       "      <td>06051000200</td>\n",
       "    </tr>\n",
       "  </tbody>\n",
       "</table>\n",
       "</div>"
      ],
      "text/plain": [
       "                    shape_array_key        tract  \\\n",
       "0  a3f097f45165a591d54d808ed870d871  06051000200   \n",
       "\n",
       "                                            geometry tract_1 tract_2  \\\n",
       "0  LINESTRING (89405.704 -40294.539, 89409.725 -4...     NaN     NaN   \n",
       "\n",
       "   intersection_hash  border                         start  \\\n",
       "0                NaN   False  POINT (89405.704 -40294.539)   \n",
       "\n",
       "                            end tsi_segment_id  \n",
       "0  POINT (91775.627 -41430.005)    06051000200  "
      ]
     },
     "execution_count": 86,
     "metadata": {},
     "output_type": "execute_result"
    }
   ],
   "source": [
    "overlay_tracts_borders(shapes.loc[1:1], tracts, borders)"
   ]
  },
  {
   "cell_type": "code",
   "execution_count": 95,
   "id": "df9232f6-6ae8-4930-9268-90dc68ba54b4",
   "metadata": {
    "tags": []
   },
   "outputs": [],
   "source": [
    "shape_gdf = shapes.loc[2:2]"
   ]
  },
  {
   "cell_type": "markdown",
   "id": "94594494-8b30-4d99-a0ae-3664550fcc91",
   "metadata": {
    "tags": []
   },
   "source": [
    "### Whittier example \n",
    "\n",
    "987fd928878a31c5fa38c91903cd81ed"
   ]
  },
  {
   "cell_type": "code",
   "execution_count": 119,
   "id": "1dbe11d3-63d5-414b-a601-ff089b150cff",
   "metadata": {
    "tags": []
   },
   "outputs": [
    {
     "data": {
      "text/html": [
       "<div>\n",
       "<style scoped>\n",
       "    .dataframe tbody tr th:only-of-type {\n",
       "        vertical-align: middle;\n",
       "    }\n",
       "\n",
       "    .dataframe tbody tr th {\n",
       "        vertical-align: top;\n",
       "    }\n",
       "\n",
       "    .dataframe thead th {\n",
       "        text-align: right;\n",
       "    }\n",
       "</style>\n",
       "<table border=\"1\" class=\"dataframe\">\n",
       "  <thead>\n",
       "    <tr style=\"text-align: right;\">\n",
       "      <th></th>\n",
       "      <th>shape_array_key</th>\n",
       "      <th>geometry</th>\n",
       "    </tr>\n",
       "  </thead>\n",
       "  <tbody>\n",
       "    <tr>\n",
       "      <th>2</th>\n",
       "      <td>987fd928878a31c5fa38c91903cd81ed</td>\n",
       "      <td>LINESTRING (180091.818 -446409.639, 180061.887...</td>\n",
       "    </tr>\n",
       "  </tbody>\n",
       "</table>\n",
       "</div>"
      ],
      "text/plain": [
       "                    shape_array_key  \\\n",
       "2  987fd928878a31c5fa38c91903cd81ed   \n",
       "\n",
       "                                            geometry  \n",
       "2  LINESTRING (180091.818 -446409.639, 180061.887...  "
      ]
     },
     "execution_count": 119,
     "metadata": {},
     "output_type": "execute_result"
    }
   ],
   "source": [
    "shape_gdf"
   ]
  },
  {
   "cell_type": "code",
   "execution_count": 96,
   "id": "c7662d00-88f9-4c03-91fb-335fd7a970a4",
   "metadata": {
    "tags": []
   },
   "outputs": [],
   "source": [
    "border_overlaid = overlay_to_borders(shape_gdf, borders)\n",
    "not_border = shape_gdf.overlay(border_overlaid, how='difference')\n",
    "tract_overlaid = overlay_to_tracts(not_border, tracts)\n",
    "tracts_and_borders = pd.concat([tract_overlaid, border_overlaid]).reset_index(drop=True)"
   ]
  },
  {
   "cell_type": "code",
   "execution_count": 105,
   "id": "35630949-6a0d-4f3c-9781-68fdf0c8ba9f",
   "metadata": {
    "tags": []
   },
   "outputs": [
    {
     "data": {
      "text/html": [
       "<div>\n",
       "<style scoped>\n",
       "    .dataframe tbody tr th:only-of-type {\n",
       "        vertical-align: middle;\n",
       "    }\n",
       "\n",
       "    .dataframe tbody tr th {\n",
       "        vertical-align: top;\n",
       "    }\n",
       "\n",
       "    .dataframe thead th {\n",
       "        text-align: right;\n",
       "    }\n",
       "</style>\n",
       "<table border=\"1\" class=\"dataframe\">\n",
       "  <thead>\n",
       "    <tr style=\"text-align: right;\">\n",
       "      <th></th>\n",
       "      <th>tract_1</th>\n",
       "      <th>tract_2</th>\n",
       "      <th>geometry</th>\n",
       "      <th>intersection_hash</th>\n",
       "    </tr>\n",
       "  </thead>\n",
       "  <tbody>\n",
       "    <tr>\n",
       "      <th>1</th>\n",
       "      <td>06001404300</td>\n",
       "      <td>06001400100</td>\n",
       "      <td>POLYGON ((-196294.855 -15866.615, -196291.388 ...</td>\n",
       "      <td>810165257910103043</td>\n",
       "    </tr>\n",
       "    <tr>\n",
       "      <th>2</th>\n",
       "      <td>06001404400</td>\n",
       "      <td>06001400100</td>\n",
       "      <td>POLYGON ((-196332.808 -15913.026, -196332.893 ...</td>\n",
       "      <td>-6603333591490277215</td>\n",
       "    </tr>\n",
       "    <tr>\n",
       "      <th>3</th>\n",
       "      <td>06001421600</td>\n",
       "      <td>06001400100</td>\n",
       "      <td>POLYGON ((-197285.488 -12214.433, -197283.307 ...</td>\n",
       "      <td>3286629633234426559</td>\n",
       "    </tr>\n",
       "    <tr>\n",
       "      <th>4</th>\n",
       "      <td>06001422600</td>\n",
       "      <td>06001400100</td>\n",
       "      <td>POLYGON ((-197290.037 -12678.788, -197286.751 ...</td>\n",
       "      <td>2982289320613360605</td>\n",
       "    </tr>\n",
       "    <tr>\n",
       "      <th>5</th>\n",
       "      <td>06001422700</td>\n",
       "      <td>06001400100</td>\n",
       "      <td>POLYGON ((-197215.664 -13930.646, -197212.889 ...</td>\n",
       "      <td>-4431209528787019653</td>\n",
       "    </tr>\n",
       "    <tr>\n",
       "      <th>...</th>\n",
       "      <td>...</td>\n",
       "      <td>...</td>\n",
       "      <td>...</td>\n",
       "      <td>...</td>\n",
       "    </tr>\n",
       "    <tr>\n",
       "      <th>59708</th>\n",
       "      <td>06115040303</td>\n",
       "      <td>06115040302</td>\n",
       "      <td>POLYGON ((-134551.498 122994.216, -134555.044 ...</td>\n",
       "      <td>390392221421106355</td>\n",
       "    </tr>\n",
       "    <tr>\n",
       "      <th>59710</th>\n",
       "      <td>06115040500</td>\n",
       "      <td>06115040302</td>\n",
       "      <td>POLYGON ((-135094.847 123008.145, -135096.165 ...</td>\n",
       "      <td>-4112068886901403029</td>\n",
       "    </tr>\n",
       "    <tr>\n",
       "      <th>59714</th>\n",
       "      <td>06115040303</td>\n",
       "      <td>06115040301</td>\n",
       "      <td>POLYGON ((-134384.030 124648.695, -134381.528 ...</td>\n",
       "      <td>8986987643166269919</td>\n",
       "    </tr>\n",
       "    <tr>\n",
       "      <th>59719</th>\n",
       "      <td>06115040500</td>\n",
       "      <td>06115040303</td>\n",
       "      <td>POLYGON ((-134552.206 123064.212, -134548.648 ...</td>\n",
       "      <td>-2150769350657280594</td>\n",
       "    </tr>\n",
       "    <tr>\n",
       "      <th>59725</th>\n",
       "      <td>06115040600</td>\n",
       "      <td>06115040500</td>\n",
       "      <td>POLYGON ((-133552.050 121424.837, -133550.135 ...</td>\n",
       "      <td>7241557334161816457</td>\n",
       "    </tr>\n",
       "  </tbody>\n",
       "</table>\n",
       "<p>25850 rows × 4 columns</p>\n",
       "</div>"
      ],
      "text/plain": [
       "           tract_1      tract_2  \\\n",
       "1      06001404300  06001400100   \n",
       "2      06001404400  06001400100   \n",
       "3      06001421600  06001400100   \n",
       "4      06001422600  06001400100   \n",
       "5      06001422700  06001400100   \n",
       "...            ...          ...   \n",
       "59708  06115040303  06115040302   \n",
       "59710  06115040500  06115040302   \n",
       "59714  06115040303  06115040301   \n",
       "59719  06115040500  06115040303   \n",
       "59725  06115040600  06115040500   \n",
       "\n",
       "                                                geometry    intersection_hash  \n",
       "1      POLYGON ((-196294.855 -15866.615, -196291.388 ...   810165257910103043  \n",
       "2      POLYGON ((-196332.808 -15913.026, -196332.893 ... -6603333591490277215  \n",
       "3      POLYGON ((-197285.488 -12214.433, -197283.307 ...  3286629633234426559  \n",
       "4      POLYGON ((-197290.037 -12678.788, -197286.751 ...  2982289320613360605  \n",
       "5      POLYGON ((-197215.664 -13930.646, -197212.889 ... -4431209528787019653  \n",
       "...                                                  ...                  ...  \n",
       "59708  POLYGON ((-134551.498 122994.216, -134555.044 ...   390392221421106355  \n",
       "59710  POLYGON ((-135094.847 123008.145, -135096.165 ... -4112068886901403029  \n",
       "59714  POLYGON ((-134384.030 124648.695, -134381.528 ...  8986987643166269919  \n",
       "59719  POLYGON ((-134552.206 123064.212, -134548.648 ... -2150769350657280594  \n",
       "59725  POLYGON ((-133552.050 121424.837, -133550.135 ...  7241557334161816457  \n",
       "\n",
       "[25850 rows x 4 columns]"
      ]
     },
     "execution_count": 105,
     "metadata": {},
     "output_type": "execute_result"
    }
   ],
   "source": [
    "borders"
   ]
  },
  {
   "cell_type": "code",
   "execution_count": 117,
   "id": "617ba632-345c-43f9-bb85-73a80fbe916f",
   "metadata": {
    "tags": []
   },
   "outputs": [],
   "source": [
    "m = borders.clip(tracts_and_borders.buffer(3000)).explore()"
   ]
  },
  {
   "cell_type": "markdown",
   "id": "048e0244-97c9-49d4-b60f-c47be31645b7",
   "metadata": {
    "tags": []
   },
   "source": [
    "shapes can leave and re-enter tracts, need to handle.\n",
    "\n",
    "* some short segments can be dropped \n",
    "* longer ones should be preserved and given unique ids..."
   ]
  },
  {
   "cell_type": "code",
   "execution_count": null,
   "id": "47beabc2-9473-4af4-a412-cf776e0a43d1",
   "metadata": {
    "tags": []
   },
   "outputs": [],
   "source": [
    "tracts_and_borders.explode().reset_index().explore(column='level_1', m=m)"
   ]
  },
  {
   "cell_type": "markdown",
   "id": "cb9ef4c7-8e39-4a7a-998f-5ecdfbdd7539",
   "metadata": {
    "jp-MarkdownHeadingCollapsed": true,
    "tags": []
   },
   "source": [
    "### continue"
   ]
  },
  {
   "cell_type": "code",
   "execution_count": 94,
   "id": "debddb4c-ca90-4429-9738-e2947cef1362",
   "metadata": {
    "tags": []
   },
   "outputs": [
    {
     "data": {
      "text/html": [
       "<div>\n",
       "<style scoped>\n",
       "    .dataframe tbody tr th:only-of-type {\n",
       "        vertical-align: middle;\n",
       "    }\n",
       "\n",
       "    .dataframe tbody tr th {\n",
       "        vertical-align: top;\n",
       "    }\n",
       "\n",
       "    .dataframe thead th {\n",
       "        text-align: right;\n",
       "    }\n",
       "</style>\n",
       "<table border=\"1\" class=\"dataframe\">\n",
       "  <thead>\n",
       "    <tr style=\"text-align: right;\">\n",
       "      <th></th>\n",
       "      <th>shape_array_key</th>\n",
       "      <th>tract</th>\n",
       "      <th>geometry</th>\n",
       "      <th>tract_1</th>\n",
       "      <th>tract_2</th>\n",
       "      <th>intersection_hash</th>\n",
       "      <th>border</th>\n",
       "      <th>start</th>\n",
       "      <th>end</th>\n",
       "      <th>tsi_segment_id</th>\n",
       "    </tr>\n",
       "  </thead>\n",
       "  <tbody>\n",
       "    <tr>\n",
       "      <th>0</th>\n",
       "      <td>3caab5c44277cbdc8fbc755bc0ea7633</td>\n",
       "      <td>06001400300</td>\n",
       "      <td>LINESTRING (-198798.506 -17437.270, -198790.77...</td>\n",
       "      <td>NaN</td>\n",
       "      <td>NaN</td>\n",
       "      <td>NaN</td>\n",
       "      <td>False</td>\n",
       "      <td>POINT (-198798.506 -17437.270)</td>\n",
       "      <td>POINT (-198749.617 -17116.295)</td>\n",
       "      <td>06001400300</td>\n",
       "    </tr>\n",
       "    <tr>\n",
       "      <th>1</th>\n",
       "      <td>3caab5c44277cbdc8fbc755bc0ea7633</td>\n",
       "      <td>06001401100</td>\n",
       "      <td>LINESTRING (-199161.264 -19021.055, -199159.31...</td>\n",
       "      <td>NaN</td>\n",
       "      <td>NaN</td>\n",
       "      <td>NaN</td>\n",
       "      <td>False</td>\n",
       "      <td>POINT (-199161.264 -19021.055)</td>\n",
       "      <td>POINT (-198815.272 -17561.412)</td>\n",
       "      <td>06001401100</td>\n",
       "    </tr>\n",
       "    <tr>\n",
       "      <th>2</th>\n",
       "      <td>3caab5c44277cbdc8fbc755bc0ea7633</td>\n",
       "      <td>06001401300</td>\n",
       "      <td>LINESTRING (-199465.932 -20338.104, -199465.71...</td>\n",
       "      <td>NaN</td>\n",
       "      <td>NaN</td>\n",
       "      <td>NaN</td>\n",
       "      <td>False</td>\n",
       "      <td>POINT (-199465.932 -20338.104)</td>\n",
       "      <td>POINT (-199162.056 -19024.732)</td>\n",
       "      <td>06001401300</td>\n",
       "    </tr>\n",
       "    <tr>\n",
       "      <th>3</th>\n",
       "      <td>3caab5c44277cbdc8fbc755bc0ea7633</td>\n",
       "      <td>06001402800</td>\n",
       "      <td>LINESTRING (-199434.055 -20645.285, -199451.77...</td>\n",
       "      <td>NaN</td>\n",
       "      <td>NaN</td>\n",
       "      <td>NaN</td>\n",
       "      <td>False</td>\n",
       "      <td>POINT (-199434.055 -20645.285)</td>\n",
       "      <td>POINT (-199465.897 -20337.863)</td>\n",
       "      <td>06001402800</td>\n",
       "    </tr>\n",
       "    <tr>\n",
       "      <th>4</th>\n",
       "      <td>3caab5c44277cbdc8fbc755bc0ea7633</td>\n",
       "      <td>06001403100</td>\n",
       "      <td>LINESTRING (-199973.418 -21403.301, -199992.82...</td>\n",
       "      <td>NaN</td>\n",
       "      <td>NaN</td>\n",
       "      <td>NaN</td>\n",
       "      <td>False</td>\n",
       "      <td>POINT (-199973.418 -21403.301)</td>\n",
       "      <td>POINT (-199827.576 -21391.787)</td>\n",
       "      <td>06001403100</td>\n",
       "    </tr>\n",
       "    <tr>\n",
       "      <th>5</th>\n",
       "      <td>3caab5c44277cbdc8fbc755bc0ea7633</td>\n",
       "      <td>06001422800</td>\n",
       "      <td>LINESTRING (-198397.616 -14446.363, -198397.81...</td>\n",
       "      <td>NaN</td>\n",
       "      <td>NaN</td>\n",
       "      <td>NaN</td>\n",
       "      <td>False</td>\n",
       "      <td>POINT (-198397.616 -14446.363)</td>\n",
       "      <td>POINT (-198452.089 -14071.435)</td>\n",
       "      <td>06001422800</td>\n",
       "    </tr>\n",
       "    <tr>\n",
       "      <th>6</th>\n",
       "      <td>3caab5c44277cbdc8fbc755bc0ea7633</td>\n",
       "      <td>06001423601</td>\n",
       "      <td>LINESTRING (-198524.572 -15434.597, -198524.42...</td>\n",
       "      <td>NaN</td>\n",
       "      <td>NaN</td>\n",
       "      <td>NaN</td>\n",
       "      <td>False</td>\n",
       "      <td>POINT (-198524.572 -15434.597)</td>\n",
       "      <td>POINT (-198445.990 -14857.530)</td>\n",
       "      <td>06001423601</td>\n",
       "    </tr>\n",
       "    <tr>\n",
       "      <th>7</th>\n",
       "      <td>3caab5c44277cbdc8fbc755bc0ea7633</td>\n",
       "      <td>06001423602</td>\n",
       "      <td>LINESTRING (-198445.990 -14857.530, -198443.90...</td>\n",
       "      <td>NaN</td>\n",
       "      <td>NaN</td>\n",
       "      <td>NaN</td>\n",
       "      <td>False</td>\n",
       "      <td>POINT (-198445.990 -14857.530)</td>\n",
       "      <td>POINT (-198397.616 -14446.363)</td>\n",
       "      <td>06001423602</td>\n",
       "    </tr>\n",
       "    <tr>\n",
       "      <th>8</th>\n",
       "      <td>3caab5c44277cbdc8fbc755bc0ea7633</td>\n",
       "      <td>06001423902</td>\n",
       "      <td>LINESTRING (-198575.033 -15796.529, -198572.36...</td>\n",
       "      <td>NaN</td>\n",
       "      <td>NaN</td>\n",
       "      <td>NaN</td>\n",
       "      <td>False</td>\n",
       "      <td>POINT (-198575.033 -15796.529)</td>\n",
       "      <td>POINT (-198524.622 -15437.878)</td>\n",
       "      <td>06001423902</td>\n",
       "    </tr>\n",
       "    <tr>\n",
       "      <th>9</th>\n",
       "      <td>3caab5c44277cbdc8fbc755bc0ea7633</td>\n",
       "      <td>NaN</td>\n",
       "      <td>LINESTRING (-198450.383 -14083.180, -198452.08...</td>\n",
       "      <td>06001422800</td>\n",
       "      <td>06001422600</td>\n",
       "      <td>2.133764e+18</td>\n",
       "      <td>True</td>\n",
       "      <td>POINT (-198450.383 -14083.180)</td>\n",
       "      <td>POINT (-199046.252 -14096.308)</td>\n",
       "      <td>2133764138185142784.0</td>\n",
       "    </tr>\n",
       "    <tr>\n",
       "      <th>10</th>\n",
       "      <td>3caab5c44277cbdc8fbc755bc0ea7633</td>\n",
       "      <td>NaN</td>\n",
       "      <td>LINESTRING (-199019.378 -14123.518, -199019.52...</td>\n",
       "      <td>06001422900</td>\n",
       "      <td>06001422600</td>\n",
       "      <td>-5.279735e+18</td>\n",
       "      <td>True</td>\n",
       "      <td>POINT (-199019.378 -14123.518)</td>\n",
       "      <td>POINT (-199029.661 -13771.758)</td>\n",
       "      <td>-5279734711215237120.0</td>\n",
       "    </tr>\n",
       "    <tr>\n",
       "      <th>11</th>\n",
       "      <td>3caab5c44277cbdc8fbc755bc0ea7633</td>\n",
       "      <td>NaN</td>\n",
       "      <td>LINESTRING (-198816.499 -17568.317, -198815.27...</td>\n",
       "      <td>06001401100</td>\n",
       "      <td>06001400300</td>\n",
       "      <td>-8.684109e+18</td>\n",
       "      <td>True</td>\n",
       "      <td>POINT (-198816.499 -17568.317)</td>\n",
       "      <td>POINT (-198792.255 -17422.413)</td>\n",
       "      <td>-8684109331624108032.0</td>\n",
       "    </tr>\n",
       "    <tr>\n",
       "      <th>12</th>\n",
       "      <td>3caab5c44277cbdc8fbc755bc0ea7633</td>\n",
       "      <td>NaN</td>\n",
       "      <td>LINESTRING (-198702.090 -16712.584, -198700.48...</td>\n",
       "      <td>06001400500</td>\n",
       "      <td>06001400400</td>\n",
       "      <td>9.114762e+18</td>\n",
       "      <td>True</td>\n",
       "      <td>POINT (-198702.090 -16712.584)</td>\n",
       "      <td>POINT (-198574.236 -15790.607)</td>\n",
       "      <td>9114761875024974848.0</td>\n",
       "    </tr>\n",
       "    <tr>\n",
       "      <th>13</th>\n",
       "      <td>3caab5c44277cbdc8fbc755bc0ea7633</td>\n",
       "      <td>NaN</td>\n",
       "      <td>LINESTRING (-198749.754 -17117.124, -198749.61...</td>\n",
       "      <td>06001400600</td>\n",
       "      <td>06001400400</td>\n",
       "      <td>1.701263e+18</td>\n",
       "      <td>True</td>\n",
       "      <td>POINT (-198749.754 -17117.124)</td>\n",
       "      <td>POINT (-198684.011 -16648.160)</td>\n",
       "      <td>1701263025624594432.0</td>\n",
       "    </tr>\n",
       "    <tr>\n",
       "      <th>14</th>\n",
       "      <td>3caab5c44277cbdc8fbc755bc0ea7633</td>\n",
       "      <td>NaN</td>\n",
       "      <td>LINESTRING (-199696.961 -21209.665, -199691.76...</td>\n",
       "      <td>06001402900</td>\n",
       "      <td>06001402800</td>\n",
       "      <td>8.444363e+18</td>\n",
       "      <td>True</td>\n",
       "      <td>POINT (-199696.961 -21209.665)</td>\n",
       "      <td>POINT (-199445.680 -20639.170)</td>\n",
       "      <td>8444362949197194240.0</td>\n",
       "    </tr>\n",
       "    <tr>\n",
       "      <th>15</th>\n",
       "      <td>3caab5c44277cbdc8fbc755bc0ea7633</td>\n",
       "      <td>NaN</td>\n",
       "      <td>LINESTRING (-199838.298 -21386.147, -199827.57...</td>\n",
       "      <td>06001403000</td>\n",
       "      <td>06001403100</td>\n",
       "      <td>-3.476483e+18</td>\n",
       "      <td>True</td>\n",
       "      <td>POINT (-199838.298 -21386.147)</td>\n",
       "      <td>POINT (-199663.917 -21150.575)</td>\n",
       "      <td>-3476482707806839296.0</td>\n",
       "    </tr>\n",
       "  </tbody>\n",
       "</table>\n",
       "</div>"
      ],
      "text/plain": [
       "                     shape_array_key        tract  \\\n",
       "0   3caab5c44277cbdc8fbc755bc0ea7633  06001400300   \n",
       "1   3caab5c44277cbdc8fbc755bc0ea7633  06001401100   \n",
       "2   3caab5c44277cbdc8fbc755bc0ea7633  06001401300   \n",
       "3   3caab5c44277cbdc8fbc755bc0ea7633  06001402800   \n",
       "4   3caab5c44277cbdc8fbc755bc0ea7633  06001403100   \n",
       "5   3caab5c44277cbdc8fbc755bc0ea7633  06001422800   \n",
       "6   3caab5c44277cbdc8fbc755bc0ea7633  06001423601   \n",
       "7   3caab5c44277cbdc8fbc755bc0ea7633  06001423602   \n",
       "8   3caab5c44277cbdc8fbc755bc0ea7633  06001423902   \n",
       "9   3caab5c44277cbdc8fbc755bc0ea7633          NaN   \n",
       "10  3caab5c44277cbdc8fbc755bc0ea7633          NaN   \n",
       "11  3caab5c44277cbdc8fbc755bc0ea7633          NaN   \n",
       "12  3caab5c44277cbdc8fbc755bc0ea7633          NaN   \n",
       "13  3caab5c44277cbdc8fbc755bc0ea7633          NaN   \n",
       "14  3caab5c44277cbdc8fbc755bc0ea7633          NaN   \n",
       "15  3caab5c44277cbdc8fbc755bc0ea7633          NaN   \n",
       "\n",
       "                                             geometry      tract_1  \\\n",
       "0   LINESTRING (-198798.506 -17437.270, -198790.77...          NaN   \n",
       "1   LINESTRING (-199161.264 -19021.055, -199159.31...          NaN   \n",
       "2   LINESTRING (-199465.932 -20338.104, -199465.71...          NaN   \n",
       "3   LINESTRING (-199434.055 -20645.285, -199451.77...          NaN   \n",
       "4   LINESTRING (-199973.418 -21403.301, -199992.82...          NaN   \n",
       "5   LINESTRING (-198397.616 -14446.363, -198397.81...          NaN   \n",
       "6   LINESTRING (-198524.572 -15434.597, -198524.42...          NaN   \n",
       "7   LINESTRING (-198445.990 -14857.530, -198443.90...          NaN   \n",
       "8   LINESTRING (-198575.033 -15796.529, -198572.36...          NaN   \n",
       "9   LINESTRING (-198450.383 -14083.180, -198452.08...  06001422800   \n",
       "10  LINESTRING (-199019.378 -14123.518, -199019.52...  06001422900   \n",
       "11  LINESTRING (-198816.499 -17568.317, -198815.27...  06001401100   \n",
       "12  LINESTRING (-198702.090 -16712.584, -198700.48...  06001400500   \n",
       "13  LINESTRING (-198749.754 -17117.124, -198749.61...  06001400600   \n",
       "14  LINESTRING (-199696.961 -21209.665, -199691.76...  06001402900   \n",
       "15  LINESTRING (-199838.298 -21386.147, -199827.57...  06001403000   \n",
       "\n",
       "        tract_2  intersection_hash  border                           start  \\\n",
       "0           NaN                NaN   False  POINT (-198798.506 -17437.270)   \n",
       "1           NaN                NaN   False  POINT (-199161.264 -19021.055)   \n",
       "2           NaN                NaN   False  POINT (-199465.932 -20338.104)   \n",
       "3           NaN                NaN   False  POINT (-199434.055 -20645.285)   \n",
       "4           NaN                NaN   False  POINT (-199973.418 -21403.301)   \n",
       "5           NaN                NaN   False  POINT (-198397.616 -14446.363)   \n",
       "6           NaN                NaN   False  POINT (-198524.572 -15434.597)   \n",
       "7           NaN                NaN   False  POINT (-198445.990 -14857.530)   \n",
       "8           NaN                NaN   False  POINT (-198575.033 -15796.529)   \n",
       "9   06001422600       2.133764e+18    True  POINT (-198450.383 -14083.180)   \n",
       "10  06001422600      -5.279735e+18    True  POINT (-199019.378 -14123.518)   \n",
       "11  06001400300      -8.684109e+18    True  POINT (-198816.499 -17568.317)   \n",
       "12  06001400400       9.114762e+18    True  POINT (-198702.090 -16712.584)   \n",
       "13  06001400400       1.701263e+18    True  POINT (-198749.754 -17117.124)   \n",
       "14  06001402800       8.444363e+18    True  POINT (-199696.961 -21209.665)   \n",
       "15  06001403100      -3.476483e+18    True  POINT (-199838.298 -21386.147)   \n",
       "\n",
       "                               end         tsi_segment_id  \n",
       "0   POINT (-198749.617 -17116.295)            06001400300  \n",
       "1   POINT (-198815.272 -17561.412)            06001401100  \n",
       "2   POINT (-199162.056 -19024.732)            06001401300  \n",
       "3   POINT (-199465.897 -20337.863)            06001402800  \n",
       "4   POINT (-199827.576 -21391.787)            06001403100  \n",
       "5   POINT (-198452.089 -14071.435)            06001422800  \n",
       "6   POINT (-198445.990 -14857.530)            06001423601  \n",
       "7   POINT (-198397.616 -14446.363)            06001423602  \n",
       "8   POINT (-198524.622 -15437.878)            06001423902  \n",
       "9   POINT (-199046.252 -14096.308)  2133764138185142784.0  \n",
       "10  POINT (-199029.661 -13771.758) -5279734711215237120.0  \n",
       "11  POINT (-198792.255 -17422.413) -8684109331624108032.0  \n",
       "12  POINT (-198574.236 -15790.607)  9114761875024974848.0  \n",
       "13  POINT (-198684.011 -16648.160)  1701263025624594432.0  \n",
       "14  POINT (-199445.680 -20639.170)  8444362949197194240.0  \n",
       "15  POINT (-199663.917 -21150.575) -3476482707806839296.0  "
      ]
     },
     "execution_count": 94,
     "metadata": {},
     "output_type": "execute_result"
    }
   ],
   "source": [
    "overlay_tracts_borders(act_6_shape, tracts, borders)"
   ]
  },
  {
   "cell_type": "code",
   "execution_count": 80,
   "id": "1622602c-899f-4ace-bc37-3eae43bd6e2f",
   "metadata": {
    "tags": []
   },
   "outputs": [
    {
     "name": "stdout",
     "output_type": "stream",
     "text": [
      "                                            geometry\n",
      "0  LINESTRING (330989.175 -426478.193, 330965.137..., Sub-geometries may have coordinate sequences, but multi-part geometries do not\n"
     ]
    },
    {
     "ename": "ValueError",
     "evalue": "Buffer has wrong number of dimensions (expected 1, got 2)",
     "output_type": "error",
     "traceback": [
      "\u001b[0;31m---------------------------------------------------------------------------\u001b[0m",
      "\u001b[0;31mValueError\u001b[0m                                Traceback (most recent call last)",
      "Cell \u001b[0;32mIn[80], line 1\u001b[0m\n\u001b[0;32m----> 1\u001b[0m \u001b[43mshapes\u001b[49m\u001b[38;5;241;43m.\u001b[39;49m\u001b[43mhead\u001b[49m\u001b[43m(\u001b[49m\u001b[38;5;241;43m2\u001b[39;49m\u001b[43m)\u001b[49m\u001b[38;5;241;43m.\u001b[39;49m\u001b[43mgroupby\u001b[49m\u001b[43m(\u001b[49m\u001b[38;5;124;43m'\u001b[39;49m\u001b[38;5;124;43mshape_array_key\u001b[39;49m\u001b[38;5;124;43m'\u001b[39;49m\u001b[43m)\u001b[49m\u001b[38;5;241;43m.\u001b[39;49m\u001b[43magg\u001b[49m\u001b[43m(\u001b[49m\u001b[43moverlay_tracts_borders\u001b[49m\u001b[43m,\u001b[49m\u001b[43m \u001b[49m\u001b[43mtract_gdf\u001b[49m\u001b[38;5;241;43m=\u001b[39;49m\u001b[43mtracts\u001b[49m\u001b[43m,\u001b[49m\u001b[43m \u001b[49m\u001b[43mborder_gdf\u001b[49m\u001b[38;5;241;43m=\u001b[39;49m\u001b[43mborders\u001b[49m\u001b[43m)\u001b[49m\n",
      "File \u001b[0;32m/opt/conda/lib/python3.11/site-packages/pandas/core/groupby/generic.py:913\u001b[0m, in \u001b[0;36mDataFrameGroupBy.aggregate\u001b[0;34m(self, func, engine, engine_kwargs, *args, **kwargs)\u001b[0m\n\u001b[1;32m    909\u001b[0m     \u001b[38;5;28;01mreturn\u001b[39;00m \u001b[38;5;28mself\u001b[39m\u001b[38;5;241m.\u001b[39m_python_agg_general(func, \u001b[38;5;241m*\u001b[39margs, \u001b[38;5;241m*\u001b[39m\u001b[38;5;241m*\u001b[39mkwargs)\n\u001b[1;32m    910\u001b[0m \u001b[38;5;28;01melif\u001b[39;00m args \u001b[38;5;129;01mor\u001b[39;00m kwargs:\n\u001b[1;32m    911\u001b[0m     \u001b[38;5;66;03m# test_pass_args_kwargs gets here (with and without as_index)\u001b[39;00m\n\u001b[1;32m    912\u001b[0m     \u001b[38;5;66;03m# can't return early\u001b[39;00m\n\u001b[0;32m--> 913\u001b[0m     result \u001b[38;5;241m=\u001b[39m \u001b[38;5;28;43mself\u001b[39;49m\u001b[38;5;241;43m.\u001b[39;49m\u001b[43m_aggregate_frame\u001b[49m\u001b[43m(\u001b[49m\u001b[43mfunc\u001b[49m\u001b[43m,\u001b[49m\u001b[43m \u001b[49m\u001b[38;5;241;43m*\u001b[39;49m\u001b[43margs\u001b[49m\u001b[43m,\u001b[49m\u001b[43m \u001b[49m\u001b[38;5;241;43m*\u001b[39;49m\u001b[38;5;241;43m*\u001b[39;49m\u001b[43mkwargs\u001b[49m\u001b[43m)\u001b[49m\n\u001b[1;32m    915\u001b[0m \u001b[38;5;28;01melif\u001b[39;00m \u001b[38;5;28mself\u001b[39m\u001b[38;5;241m.\u001b[39maxis \u001b[38;5;241m==\u001b[39m \u001b[38;5;241m1\u001b[39m:\n\u001b[1;32m    916\u001b[0m     \u001b[38;5;66;03m# _aggregate_multiple_funcs does not allow self.axis == 1\u001b[39;00m\n\u001b[1;32m    917\u001b[0m     \u001b[38;5;66;03m# Note: axis == 1 precludes 'not self.as_index', see __init__\u001b[39;00m\n\u001b[1;32m    918\u001b[0m     result \u001b[38;5;241m=\u001b[39m \u001b[38;5;28mself\u001b[39m\u001b[38;5;241m.\u001b[39m_aggregate_frame(func)\n",
      "File \u001b[0;32m/opt/conda/lib/python3.11/site-packages/pandas/core/groupby/generic.py:993\u001b[0m, in \u001b[0;36mDataFrameGroupBy._aggregate_frame\u001b[0;34m(self, func, *args, **kwargs)\u001b[0m\n\u001b[1;32m    991\u001b[0m result_index \u001b[38;5;241m=\u001b[39m \u001b[38;5;28mself\u001b[39m\u001b[38;5;241m.\u001b[39mgrouper\u001b[38;5;241m.\u001b[39mresult_index\n\u001b[1;32m    992\u001b[0m other_ax \u001b[38;5;241m=\u001b[39m obj\u001b[38;5;241m.\u001b[39maxes[\u001b[38;5;241m1\u001b[39m \u001b[38;5;241m-\u001b[39m \u001b[38;5;28mself\u001b[39m\u001b[38;5;241m.\u001b[39maxis]\n\u001b[0;32m--> 993\u001b[0m out \u001b[38;5;241m=\u001b[39m \u001b[38;5;28;43mself\u001b[39;49m\u001b[38;5;241;43m.\u001b[39;49m\u001b[43mobj\u001b[49m\u001b[38;5;241;43m.\u001b[39;49m\u001b[43m_constructor\u001b[49m\u001b[43m(\u001b[49m\u001b[43mresult\u001b[49m\u001b[43m,\u001b[49m\u001b[43m \u001b[49m\u001b[43mindex\u001b[49m\u001b[38;5;241;43m=\u001b[39;49m\u001b[43mother_ax\u001b[49m\u001b[43m,\u001b[49m\u001b[43m \u001b[49m\u001b[43mcolumns\u001b[49m\u001b[38;5;241;43m=\u001b[39;49m\u001b[43mresult_index\u001b[49m\u001b[43m)\u001b[49m\n\u001b[1;32m    994\u001b[0m \u001b[38;5;28;01mif\u001b[39;00m \u001b[38;5;28mself\u001b[39m\u001b[38;5;241m.\u001b[39maxis \u001b[38;5;241m==\u001b[39m \u001b[38;5;241m0\u001b[39m:\n\u001b[1;32m    995\u001b[0m     out \u001b[38;5;241m=\u001b[39m out\u001b[38;5;241m.\u001b[39mT\n",
      "File \u001b[0;32m/opt/conda/lib/python3.11/site-packages/geopandas/geodataframe.py:30\u001b[0m, in \u001b[0;36m_geodataframe_constructor_with_fallback\u001b[0;34m(*args, **kwargs)\u001b[0m\n\u001b[1;32m     24\u001b[0m \u001b[38;5;28;01mdef\u001b[39;00m\u001b[38;5;250m \u001b[39m\u001b[38;5;21m_geodataframe_constructor_with_fallback\u001b[39m(\u001b[38;5;241m*\u001b[39margs, \u001b[38;5;241m*\u001b[39m\u001b[38;5;241m*\u001b[39mkwargs):\n\u001b[1;32m     25\u001b[0m \u001b[38;5;250m    \u001b[39m\u001b[38;5;124;03m\"\"\"\u001b[39;00m\n\u001b[1;32m     26\u001b[0m \u001b[38;5;124;03m    A flexible constructor for GeoDataFrame._constructor, which falls back\u001b[39;00m\n\u001b[1;32m     27\u001b[0m \u001b[38;5;124;03m    to returning a DataFrame (if a certain operation does not preserve the\u001b[39;00m\n\u001b[1;32m     28\u001b[0m \u001b[38;5;124;03m    geometry column)\u001b[39;00m\n\u001b[1;32m     29\u001b[0m \u001b[38;5;124;03m    \"\"\"\u001b[39;00m\n\u001b[0;32m---> 30\u001b[0m     df \u001b[38;5;241m=\u001b[39m \u001b[43mGeoDataFrame\u001b[49m\u001b[43m(\u001b[49m\u001b[38;5;241;43m*\u001b[39;49m\u001b[43margs\u001b[49m\u001b[43m,\u001b[49m\u001b[43m \u001b[49m\u001b[38;5;241;43m*\u001b[39;49m\u001b[38;5;241;43m*\u001b[39;49m\u001b[43mkwargs\u001b[49m\u001b[43m)\u001b[49m\n\u001b[1;32m     31\u001b[0m     geometry_cols_mask \u001b[38;5;241m=\u001b[39m df\u001b[38;5;241m.\u001b[39mdtypes \u001b[38;5;241m==\u001b[39m \u001b[38;5;124m\"\u001b[39m\u001b[38;5;124mgeometry\u001b[39m\u001b[38;5;124m\"\u001b[39m\n\u001b[1;32m     32\u001b[0m     \u001b[38;5;28;01mif\u001b[39;00m \u001b[38;5;28mlen\u001b[39m(geometry_cols_mask) \u001b[38;5;241m==\u001b[39m \u001b[38;5;241m0\u001b[39m \u001b[38;5;129;01mor\u001b[39;00m geometry_cols_mask\u001b[38;5;241m.\u001b[39msum() \u001b[38;5;241m==\u001b[39m \u001b[38;5;241m0\u001b[39m:\n",
      "File \u001b[0;32m/opt/conda/lib/python3.11/site-packages/geopandas/geodataframe.py:139\u001b[0m, in \u001b[0;36mGeoDataFrame.__init__\u001b[0;34m(self, data, geometry, crs, *args, **kwargs)\u001b[0m\n\u001b[1;32m    133\u001b[0m     \u001b[38;5;28;01mif\u001b[39;00m (\n\u001b[1;32m    134\u001b[0m         kwargs\u001b[38;5;241m.\u001b[39mget(\u001b[38;5;124m\"\u001b[39m\u001b[38;5;124mcopy\u001b[39m\u001b[38;5;124m\"\u001b[39m) \u001b[38;5;129;01mis\u001b[39;00m \u001b[38;5;28;01mNone\u001b[39;00m\n\u001b[1;32m    135\u001b[0m         \u001b[38;5;129;01mand\u001b[39;00m \u001b[38;5;28misinstance\u001b[39m(data, DataFrame)\n\u001b[1;32m    136\u001b[0m         \u001b[38;5;129;01mand\u001b[39;00m \u001b[38;5;129;01mnot\u001b[39;00m \u001b[38;5;28misinstance\u001b[39m(data, GeoDataFrame)\n\u001b[1;32m    137\u001b[0m     ):\n\u001b[1;32m    138\u001b[0m         kwargs\u001b[38;5;241m.\u001b[39mupdate(copy\u001b[38;5;241m=\u001b[39m\u001b[38;5;28;01mTrue\u001b[39;00m)\n\u001b[0;32m--> 139\u001b[0m     \u001b[38;5;28;43msuper\u001b[39;49m\u001b[43m(\u001b[49m\u001b[43m)\u001b[49m\u001b[38;5;241;43m.\u001b[39;49m\u001b[38;5;21;43m__init__\u001b[39;49m\u001b[43m(\u001b[49m\u001b[43mdata\u001b[49m\u001b[43m,\u001b[49m\u001b[43m \u001b[49m\u001b[38;5;241;43m*\u001b[39;49m\u001b[43margs\u001b[49m\u001b[43m,\u001b[49m\u001b[43m \u001b[49m\u001b[38;5;241;43m*\u001b[39;49m\u001b[38;5;241;43m*\u001b[39;49m\u001b[43mkwargs\u001b[49m\u001b[43m)\u001b[49m\n\u001b[1;32m    141\u001b[0m \u001b[38;5;66;03m# set_geometry ensures the geometry data have the proper dtype,\u001b[39;00m\n\u001b[1;32m    142\u001b[0m \u001b[38;5;66;03m# but is not called if `geometry=None` ('geometry' column present\u001b[39;00m\n\u001b[1;32m    143\u001b[0m \u001b[38;5;66;03m# in the data), so therefore need to ensure it here manually\u001b[39;00m\n\u001b[0;32m   (...)\u001b[0m\n\u001b[1;32m    147\u001b[0m \n\u001b[1;32m    148\u001b[0m \u001b[38;5;66;03m# if gdf passed in and geo_col is set, we use that for geometry\u001b[39;00m\n\u001b[1;32m    149\u001b[0m \u001b[38;5;28;01mif\u001b[39;00m geometry \u001b[38;5;129;01mis\u001b[39;00m \u001b[38;5;28;01mNone\u001b[39;00m \u001b[38;5;129;01mand\u001b[39;00m \u001b[38;5;28misinstance\u001b[39m(data, GeoDataFrame):\n",
      "File \u001b[0;32m/opt/conda/lib/python3.11/site-packages/pandas/core/frame.py:664\u001b[0m, in \u001b[0;36mDataFrame.__init__\u001b[0;34m(self, data, index, columns, dtype, copy)\u001b[0m\n\u001b[1;32m    658\u001b[0m     mgr \u001b[38;5;241m=\u001b[39m \u001b[38;5;28mself\u001b[39m\u001b[38;5;241m.\u001b[39m_init_mgr(\n\u001b[1;32m    659\u001b[0m         data, axes\u001b[38;5;241m=\u001b[39m{\u001b[38;5;124m\"\u001b[39m\u001b[38;5;124mindex\u001b[39m\u001b[38;5;124m\"\u001b[39m: index, \u001b[38;5;124m\"\u001b[39m\u001b[38;5;124mcolumns\u001b[39m\u001b[38;5;124m\"\u001b[39m: columns}, dtype\u001b[38;5;241m=\u001b[39mdtype, copy\u001b[38;5;241m=\u001b[39mcopy\n\u001b[1;32m    660\u001b[0m     )\n\u001b[1;32m    662\u001b[0m \u001b[38;5;28;01melif\u001b[39;00m \u001b[38;5;28misinstance\u001b[39m(data, \u001b[38;5;28mdict\u001b[39m):\n\u001b[1;32m    663\u001b[0m     \u001b[38;5;66;03m# GH#38939 de facto copy defaults to False only in non-dict cases\u001b[39;00m\n\u001b[0;32m--> 664\u001b[0m     mgr \u001b[38;5;241m=\u001b[39m \u001b[43mdict_to_mgr\u001b[49m\u001b[43m(\u001b[49m\u001b[43mdata\u001b[49m\u001b[43m,\u001b[49m\u001b[43m \u001b[49m\u001b[43mindex\u001b[49m\u001b[43m,\u001b[49m\u001b[43m \u001b[49m\u001b[43mcolumns\u001b[49m\u001b[43m,\u001b[49m\u001b[43m \u001b[49m\u001b[43mdtype\u001b[49m\u001b[38;5;241;43m=\u001b[39;49m\u001b[43mdtype\u001b[49m\u001b[43m,\u001b[49m\u001b[43m \u001b[49m\u001b[43mcopy\u001b[49m\u001b[38;5;241;43m=\u001b[39;49m\u001b[43mcopy\u001b[49m\u001b[43m,\u001b[49m\u001b[43m \u001b[49m\u001b[43mtyp\u001b[49m\u001b[38;5;241;43m=\u001b[39;49m\u001b[43mmanager\u001b[49m\u001b[43m)\u001b[49m\n\u001b[1;32m    665\u001b[0m \u001b[38;5;28;01melif\u001b[39;00m \u001b[38;5;28misinstance\u001b[39m(data, ma\u001b[38;5;241m.\u001b[39mMaskedArray):\n\u001b[1;32m    666\u001b[0m     \u001b[38;5;28;01mimport\u001b[39;00m\u001b[38;5;250m \u001b[39m\u001b[38;5;21;01mnumpy\u001b[39;00m\u001b[38;5;21;01m.\u001b[39;00m\u001b[38;5;21;01mma\u001b[39;00m\u001b[38;5;21;01m.\u001b[39;00m\u001b[38;5;21;01mmrecords\u001b[39;00m\u001b[38;5;250m \u001b[39m\u001b[38;5;28;01mas\u001b[39;00m\u001b[38;5;250m \u001b[39m\u001b[38;5;21;01mmrecords\u001b[39;00m\n",
      "File \u001b[0;32m/opt/conda/lib/python3.11/site-packages/pandas/core/internals/construction.py:493\u001b[0m, in \u001b[0;36mdict_to_mgr\u001b[0;34m(data, index, columns, dtype, typ, copy)\u001b[0m\n\u001b[1;32m    489\u001b[0m     \u001b[38;5;28;01melse\u001b[39;00m:\n\u001b[1;32m    490\u001b[0m         \u001b[38;5;66;03m# dtype check to exclude e.g. range objects, scalars\u001b[39;00m\n\u001b[1;32m    491\u001b[0m         arrays \u001b[38;5;241m=\u001b[39m [x\u001b[38;5;241m.\u001b[39mcopy() \u001b[38;5;28;01mif\u001b[39;00m \u001b[38;5;28mhasattr\u001b[39m(x, \u001b[38;5;124m\"\u001b[39m\u001b[38;5;124mdtype\u001b[39m\u001b[38;5;124m\"\u001b[39m) \u001b[38;5;28;01melse\u001b[39;00m x \u001b[38;5;28;01mfor\u001b[39;00m x \u001b[38;5;129;01min\u001b[39;00m arrays]\n\u001b[0;32m--> 493\u001b[0m \u001b[38;5;28;01mreturn\u001b[39;00m \u001b[43marrays_to_mgr\u001b[49m\u001b[43m(\u001b[49m\u001b[43marrays\u001b[49m\u001b[43m,\u001b[49m\u001b[43m \u001b[49m\u001b[43mcolumns\u001b[49m\u001b[43m,\u001b[49m\u001b[43m \u001b[49m\u001b[43mindex\u001b[49m\u001b[43m,\u001b[49m\u001b[43m \u001b[49m\u001b[43mdtype\u001b[49m\u001b[38;5;241;43m=\u001b[39;49m\u001b[43mdtype\u001b[49m\u001b[43m,\u001b[49m\u001b[43m \u001b[49m\u001b[43mtyp\u001b[49m\u001b[38;5;241;43m=\u001b[39;49m\u001b[43mtyp\u001b[49m\u001b[43m,\u001b[49m\u001b[43m \u001b[49m\u001b[43mconsolidate\u001b[49m\u001b[38;5;241;43m=\u001b[39;49m\u001b[43mcopy\u001b[49m\u001b[43m)\u001b[49m\n",
      "File \u001b[0;32m/opt/conda/lib/python3.11/site-packages/pandas/core/internals/construction.py:123\u001b[0m, in \u001b[0;36marrays_to_mgr\u001b[0;34m(arrays, columns, index, dtype, verify_integrity, typ, consolidate)\u001b[0m\n\u001b[1;32m    120\u001b[0m         index \u001b[38;5;241m=\u001b[39m ensure_index(index)\n\u001b[1;32m    122\u001b[0m     \u001b[38;5;66;03m# don't force copy because getting jammed in an ndarray anyway\u001b[39;00m\n\u001b[0;32m--> 123\u001b[0m     arrays \u001b[38;5;241m=\u001b[39m \u001b[43m_homogenize\u001b[49m\u001b[43m(\u001b[49m\u001b[43marrays\u001b[49m\u001b[43m,\u001b[49m\u001b[43m \u001b[49m\u001b[43mindex\u001b[49m\u001b[43m,\u001b[49m\u001b[43m \u001b[49m\u001b[43mdtype\u001b[49m\u001b[43m)\u001b[49m\n\u001b[1;32m    124\u001b[0m     \u001b[38;5;66;03m# _homogenize ensures\u001b[39;00m\n\u001b[1;32m    125\u001b[0m     \u001b[38;5;66;03m#  - all(len(x) == len(index) for x in arrays)\u001b[39;00m\n\u001b[1;32m    126\u001b[0m     \u001b[38;5;66;03m#  - all(x.ndim == 1 for x in arrays)\u001b[39;00m\n\u001b[0;32m   (...)\u001b[0m\n\u001b[1;32m    129\u001b[0m \n\u001b[1;32m    130\u001b[0m \u001b[38;5;28;01melse\u001b[39;00m:\n\u001b[1;32m    131\u001b[0m     index \u001b[38;5;241m=\u001b[39m ensure_index(index)\n",
      "File \u001b[0;32m/opt/conda/lib/python3.11/site-packages/pandas/core/internals/construction.py:617\u001b[0m, in \u001b[0;36m_homogenize\u001b[0;34m(data, index, dtype)\u001b[0m\n\u001b[1;32m    614\u001b[0m             val \u001b[38;5;241m=\u001b[39m \u001b[38;5;28mdict\u001b[39m(val)\n\u001b[1;32m    615\u001b[0m         val \u001b[38;5;241m=\u001b[39m lib\u001b[38;5;241m.\u001b[39mfast_multiget(val, oindex\u001b[38;5;241m.\u001b[39m_values, default\u001b[38;5;241m=\u001b[39mnp\u001b[38;5;241m.\u001b[39mnan)\n\u001b[0;32m--> 617\u001b[0m     val \u001b[38;5;241m=\u001b[39m \u001b[43msanitize_array\u001b[49m\u001b[43m(\u001b[49m\n\u001b[1;32m    618\u001b[0m \u001b[43m        \u001b[49m\u001b[43mval\u001b[49m\u001b[43m,\u001b[49m\u001b[43m \u001b[49m\u001b[43mindex\u001b[49m\u001b[43m,\u001b[49m\u001b[43m \u001b[49m\u001b[43mdtype\u001b[49m\u001b[38;5;241;43m=\u001b[39;49m\u001b[43mdtype\u001b[49m\u001b[43m,\u001b[49m\u001b[43m \u001b[49m\u001b[43mcopy\u001b[49m\u001b[38;5;241;43m=\u001b[39;49m\u001b[38;5;28;43;01mFalse\u001b[39;49;00m\u001b[43m,\u001b[49m\u001b[43m \u001b[49m\u001b[43mraise_cast_failure\u001b[49m\u001b[38;5;241;43m=\u001b[39;49m\u001b[38;5;28;43;01mFalse\u001b[39;49;00m\n\u001b[1;32m    619\u001b[0m \u001b[43m    \u001b[49m\u001b[43m)\u001b[49m\n\u001b[1;32m    620\u001b[0m     com\u001b[38;5;241m.\u001b[39mrequire_length_match(val, index)\n\u001b[1;32m    622\u001b[0m homogenized\u001b[38;5;241m.\u001b[39mappend(val)\n",
      "File \u001b[0;32m/opt/conda/lib/python3.11/site-packages/pandas/core/construction.py:642\u001b[0m, in \u001b[0;36msanitize_array\u001b[0;34m(data, index, dtype, copy, raise_cast_failure, allow_2d)\u001b[0m\n\u001b[1;32m    640\u001b[0m             \u001b[38;5;28;01mraise\u001b[39;00m\n\u001b[1;32m    641\u001b[0m \u001b[38;5;28;01melse\u001b[39;00m:\n\u001b[0;32m--> 642\u001b[0m     subarr \u001b[38;5;241m=\u001b[39m \u001b[43mmaybe_convert_platform\u001b[49m\u001b[43m(\u001b[49m\u001b[43mdata\u001b[49m\u001b[43m)\u001b[49m\n\u001b[1;32m    643\u001b[0m     \u001b[38;5;28;01mif\u001b[39;00m subarr\u001b[38;5;241m.\u001b[39mdtype \u001b[38;5;241m==\u001b[39m \u001b[38;5;28mobject\u001b[39m:\n\u001b[1;32m    644\u001b[0m         subarr \u001b[38;5;241m=\u001b[39m cast(np\u001b[38;5;241m.\u001b[39mndarray, subarr)\n",
      "File \u001b[0;32m/opt/conda/lib/python3.11/site-packages/pandas/core/dtypes/cast.py:135\u001b[0m, in \u001b[0;36mmaybe_convert_platform\u001b[0;34m(values)\u001b[0m\n\u001b[1;32m    133\u001b[0m \u001b[38;5;28;01mif\u001b[39;00m arr\u001b[38;5;241m.\u001b[39mdtype \u001b[38;5;241m==\u001b[39m _dtype_obj:\n\u001b[1;32m    134\u001b[0m     arr \u001b[38;5;241m=\u001b[39m cast(np\u001b[38;5;241m.\u001b[39mndarray, arr)\n\u001b[0;32m--> 135\u001b[0m     arr \u001b[38;5;241m=\u001b[39m \u001b[43mlib\u001b[49m\u001b[38;5;241;43m.\u001b[39;49m\u001b[43mmaybe_convert_objects\u001b[49m\u001b[43m(\u001b[49m\u001b[43marr\u001b[49m\u001b[43m)\u001b[49m\n\u001b[1;32m    137\u001b[0m \u001b[38;5;28;01mreturn\u001b[39;00m arr\n",
      "File \u001b[0;32m/opt/conda/lib/python3.11/site-packages/pandas/_libs/lib.pyx:2449\u001b[0m, in \u001b[0;36mpandas._libs.lib.maybe_convert_objects\u001b[0;34m()\u001b[0m\n",
      "\u001b[0;31mValueError\u001b[0m: Buffer has wrong number of dimensions (expected 1, got 2)"
     ]
    }
   ],
   "source": [
    "shapes.head(2).groupby('shape_array_key').agg(overlay_tracts_borders, tract_gdf=tracts, border_gdf=borders)"
   ]
  },
  {
   "cell_type": "code",
   "execution_count": 74,
   "id": "11b6f89d-fef3-41f7-acd1-b7ebda9c3c92",
   "metadata": {
    "tags": []
   },
   "outputs": [
    {
     "data": {
      "text/html": [
       "<div>\n",
       "<style scoped>\n",
       "    .dataframe tbody tr th:only-of-type {\n",
       "        vertical-align: middle;\n",
       "    }\n",
       "\n",
       "    .dataframe tbody tr th {\n",
       "        vertical-align: top;\n",
       "    }\n",
       "\n",
       "    .dataframe thead th {\n",
       "        text-align: right;\n",
       "    }\n",
       "</style>\n",
       "<table border=\"1\" class=\"dataframe\">\n",
       "  <thead>\n",
       "    <tr style=\"text-align: right;\">\n",
       "      <th></th>\n",
       "      <th>shape_array_key</th>\n",
       "      <th>tract_1</th>\n",
       "      <th>tract_2</th>\n",
       "      <th>intersection_hash</th>\n",
       "      <th>geometry</th>\n",
       "    </tr>\n",
       "  </thead>\n",
       "  <tbody>\n",
       "    <tr>\n",
       "      <th>0</th>\n",
       "      <td>3caab5c44277cbdc8fbc755bc0ea7633</td>\n",
       "      <td>06001422800</td>\n",
       "      <td>06001422600</td>\n",
       "      <td>2133764138185142816</td>\n",
       "      <td>LINESTRING (-198450.383 -14083.180, -198452.08...</td>\n",
       "    </tr>\n",
       "    <tr>\n",
       "      <th>1</th>\n",
       "      <td>3caab5c44277cbdc8fbc755bc0ea7633</td>\n",
       "      <td>06001422900</td>\n",
       "      <td>06001422600</td>\n",
       "      <td>-5279734711215237442</td>\n",
       "      <td>LINESTRING (-199019.378 -14123.518, -199019.52...</td>\n",
       "    </tr>\n",
       "    <tr>\n",
       "      <th>4</th>\n",
       "      <td>3caab5c44277cbdc8fbc755bc0ea7633</td>\n",
       "      <td>06001401100</td>\n",
       "      <td>06001400300</td>\n",
       "      <td>-8684109331624108527</td>\n",
       "      <td>LINESTRING (-198816.499 -17568.317, -198815.27...</td>\n",
       "    </tr>\n",
       "    <tr>\n",
       "      <th>5</th>\n",
       "      <td>3caab5c44277cbdc8fbc755bc0ea7633</td>\n",
       "      <td>06001400500</td>\n",
       "      <td>06001400400</td>\n",
       "      <td>9114761875024974634</td>\n",
       "      <td>LINESTRING (-198702.090 -16712.584, -198700.48...</td>\n",
       "    </tr>\n",
       "    <tr>\n",
       "      <th>6</th>\n",
       "      <td>3caab5c44277cbdc8fbc755bc0ea7633</td>\n",
       "      <td>06001400600</td>\n",
       "      <td>06001400400</td>\n",
       "      <td>1701263025624594376</td>\n",
       "      <td>LINESTRING (-198749.754 -17117.124, -198749.61...</td>\n",
       "    </tr>\n",
       "    <tr>\n",
       "      <th>13</th>\n",
       "      <td>3caab5c44277cbdc8fbc755bc0ea7633</td>\n",
       "      <td>06001402900</td>\n",
       "      <td>06001402800</td>\n",
       "      <td>8444362949197194273</td>\n",
       "      <td>LINESTRING (-199696.961 -21209.665, -199691.76...</td>\n",
       "    </tr>\n",
       "    <tr>\n",
       "      <th>18</th>\n",
       "      <td>3caab5c44277cbdc8fbc755bc0ea7633</td>\n",
       "      <td>06001403000</td>\n",
       "      <td>06001403100</td>\n",
       "      <td>-3476482707806839053</td>\n",
       "      <td>LINESTRING (-199838.298 -21386.147, -199827.57...</td>\n",
       "    </tr>\n",
       "  </tbody>\n",
       "</table>\n",
       "</div>"
      ],
      "text/plain": [
       "                     shape_array_key      tract_1      tract_2  \\\n",
       "0   3caab5c44277cbdc8fbc755bc0ea7633  06001422800  06001422600   \n",
       "1   3caab5c44277cbdc8fbc755bc0ea7633  06001422900  06001422600   \n",
       "4   3caab5c44277cbdc8fbc755bc0ea7633  06001401100  06001400300   \n",
       "5   3caab5c44277cbdc8fbc755bc0ea7633  06001400500  06001400400   \n",
       "6   3caab5c44277cbdc8fbc755bc0ea7633  06001400600  06001400400   \n",
       "13  3caab5c44277cbdc8fbc755bc0ea7633  06001402900  06001402800   \n",
       "18  3caab5c44277cbdc8fbc755bc0ea7633  06001403000  06001403100   \n",
       "\n",
       "      intersection_hash                                           geometry  \n",
       "0   2133764138185142816  LINESTRING (-198450.383 -14083.180, -198452.08...  \n",
       "1  -5279734711215237442  LINESTRING (-199019.378 -14123.518, -199019.52...  \n",
       "4  -8684109331624108527  LINESTRING (-198816.499 -17568.317, -198815.27...  \n",
       "5   9114761875024974634  LINESTRING (-198702.090 -16712.584, -198700.48...  \n",
       "6   1701263025624594376  LINESTRING (-198749.754 -17117.124, -198749.61...  \n",
       "13  8444362949197194273  LINESTRING (-199696.961 -21209.665, -199691.76...  \n",
       "18 -3476482707806839053  LINESTRING (-199838.298 -21386.147, -199827.57...  "
      ]
     },
     "execution_count": 74,
     "metadata": {},
     "output_type": "execute_result"
    }
   ],
   "source": [
    "overlay_to_borders(act_6_shape, borders)"
   ]
  },
  {
   "cell_type": "code",
   "execution_count": 41,
   "id": "aac97eaf-cb4f-4436-b44c-baf3137fb480",
   "metadata": {
    "tags": []
   },
   "outputs": [],
   "source": [
    "border_overlaid = overlay_to_borders(act_6_shape, borders)"
   ]
  },
  {
   "cell_type": "code",
   "execution_count": 42,
   "id": "b66ab5c3-c08d-45df-a0d7-eb553d5ac71f",
   "metadata": {
    "tags": []
   },
   "outputs": [
    {
     "data": {
      "text/html": [
       "<div style=\"width:100%;\"><div style=\"position:relative;width:100%;height:0;padding-bottom:60%;\"><span style=\"color:#565656\">Make this Notebook Trusted to load map: File -> Trust Notebook</span><iframe src=\"about:blank\" style=\"position:absolute;width:100%;height:100%;left:0;top:0;border:none !important;\" data-html=%3C%21DOCTYPE%20html%3E%0A%3Chead%3E%20%20%20%20%0A%20%20%20%20%3Cmeta%20http-equiv%3D%22content-type%22%20content%3D%22text/html%3B%20charset%3DUTF-8%22%20/%3E%0A%20%20%20%20%0A%20%20%20%20%20%20%20%20%3Cscript%3E%0A%20%20%20%20%20%20%20%20%20%20%20%20L_NO_TOUCH%20%3D%20false%3B%0A%20%20%20%20%20%20%20%20%20%20%20%20L_DISABLE_3D%20%3D%20false%3B%0A%20%20%20%20%20%20%20%20%3C/script%3E%0A%20%20%20%20%0A%20%20%20%20%3Cstyle%3Ehtml%2C%20body%20%7Bwidth%3A%20100%25%3Bheight%3A%20100%25%3Bmargin%3A%200%3Bpadding%3A%200%3B%7D%3C/style%3E%0A%20%20%20%20%3Cstyle%3E%23map%20%7Bposition%3Aabsolute%3Btop%3A0%3Bbottom%3A0%3Bright%3A0%3Bleft%3A0%3B%7D%3C/style%3E%0A%20%20%20%20%3Cscript%20src%3D%22https%3A//cdn.jsdelivr.net/npm/leaflet%401.6.0/dist/leaflet.js%22%3E%3C/script%3E%0A%20%20%20%20%3Cscript%20src%3D%22https%3A//code.jquery.com/jquery-1.12.4.min.js%22%3E%3C/script%3E%0A%20%20%20%20%3Cscript%20src%3D%22https%3A//maxcdn.bootstrapcdn.com/bootstrap/3.2.0/js/bootstrap.min.js%22%3E%3C/script%3E%0A%20%20%20%20%3Cscript%20src%3D%22https%3A//cdnjs.cloudflare.com/ajax/libs/Leaflet.awesome-markers/2.0.2/leaflet.awesome-markers.js%22%3E%3C/script%3E%0A%20%20%20%20%3Clink%20rel%3D%22stylesheet%22%20href%3D%22https%3A//cdn.jsdelivr.net/npm/leaflet%401.6.0/dist/leaflet.css%22/%3E%0A%20%20%20%20%3Clink%20rel%3D%22stylesheet%22%20href%3D%22https%3A//maxcdn.bootstrapcdn.com/bootstrap/3.2.0/css/bootstrap.min.css%22/%3E%0A%20%20%20%20%3Clink%20rel%3D%22stylesheet%22%20href%3D%22https%3A//maxcdn.bootstrapcdn.com/bootstrap/3.2.0/css/bootstrap-theme.min.css%22/%3E%0A%20%20%20%20%3Clink%20rel%3D%22stylesheet%22%20href%3D%22https%3A//maxcdn.bootstrapcdn.com/font-awesome/4.6.3/css/font-awesome.min.css%22/%3E%0A%20%20%20%20%3Clink%20rel%3D%22stylesheet%22%20href%3D%22https%3A//cdnjs.cloudflare.com/ajax/libs/Leaflet.awesome-markers/2.0.2/leaflet.awesome-markers.css%22/%3E%0A%20%20%20%20%3Clink%20rel%3D%22stylesheet%22%20href%3D%22https%3A//cdn.jsdelivr.net/gh/python-visualization/folium/folium/templates/leaflet.awesome.rotate.min.css%22/%3E%0A%20%20%20%20%0A%20%20%20%20%20%20%20%20%20%20%20%20%3Cmeta%20name%3D%22viewport%22%20content%3D%22width%3Ddevice-width%2C%0A%20%20%20%20%20%20%20%20%20%20%20%20%20%20%20%20initial-scale%3D1.0%2C%20maximum-scale%3D1.0%2C%20user-scalable%3Dno%22%20/%3E%0A%20%20%20%20%20%20%20%20%20%20%20%20%3Cstyle%3E%0A%20%20%20%20%20%20%20%20%20%20%20%20%20%20%20%20%23map_f308088503e8428eb5649a4c52b155d2%20%7B%0A%20%20%20%20%20%20%20%20%20%20%20%20%20%20%20%20%20%20%20%20position%3A%20relative%3B%0A%20%20%20%20%20%20%20%20%20%20%20%20%20%20%20%20%20%20%20%20width%3A%20100.0%25%3B%0A%20%20%20%20%20%20%20%20%20%20%20%20%20%20%20%20%20%20%20%20height%3A%20100.0%25%3B%0A%20%20%20%20%20%20%20%20%20%20%20%20%20%20%20%20%20%20%20%20left%3A%200.0%25%3B%0A%20%20%20%20%20%20%20%20%20%20%20%20%20%20%20%20%20%20%20%20top%3A%200.0%25%3B%0A%20%20%20%20%20%20%20%20%20%20%20%20%20%20%20%20%7D%0A%20%20%20%20%20%20%20%20%20%20%20%20%3C/style%3E%0A%20%20%20%20%20%20%20%20%0A%20%20%20%20%0A%20%20%20%20%20%20%20%20%20%20%20%20%20%20%20%20%20%20%20%20%3Cstyle%3E%0A%20%20%20%20%20%20%20%20%20%20%20%20%20%20%20%20%20%20%20%20%20%20%20%20.foliumtooltip%20%7B%0A%20%20%20%20%20%20%20%20%20%20%20%20%20%20%20%20%20%20%20%20%20%20%20%20%20%20%20%20%0A%20%20%20%20%20%20%20%20%20%20%20%20%20%20%20%20%20%20%20%20%20%20%20%20%7D%0A%20%20%20%20%20%20%20%20%20%20%20%20%20%20%20%20%20%20%20%20%20%20%20.foliumtooltip%20table%7B%0A%20%20%20%20%20%20%20%20%20%20%20%20%20%20%20%20%20%20%20%20%20%20%20%20%20%20%20%20margin%3A%20auto%3B%0A%20%20%20%20%20%20%20%20%20%20%20%20%20%20%20%20%20%20%20%20%20%20%20%20%7D%0A%20%20%20%20%20%20%20%20%20%20%20%20%20%20%20%20%20%20%20%20%20%20%20%20.foliumtooltip%20tr%7B%0A%20%20%20%20%20%20%20%20%20%20%20%20%20%20%20%20%20%20%20%20%20%20%20%20%20%20%20%20text-align%3A%20left%3B%0A%20%20%20%20%20%20%20%20%20%20%20%20%20%20%20%20%20%20%20%20%20%20%20%20%7D%0A%20%20%20%20%20%20%20%20%20%20%20%20%20%20%20%20%20%20%20%20%20%20%20%20.foliumtooltip%20th%7B%0A%20%20%20%20%20%20%20%20%20%20%20%20%20%20%20%20%20%20%20%20%20%20%20%20%20%20%20%20padding%3A%202px%3B%20padding-right%3A%208px%3B%0A%20%20%20%20%20%20%20%20%20%20%20%20%20%20%20%20%20%20%20%20%20%20%20%20%7D%0A%20%20%20%20%20%20%20%20%20%20%20%20%20%20%20%20%20%20%20%20%3C/style%3E%0A%20%20%20%20%20%20%20%20%20%20%20%20%0A%20%20%20%20%0A%20%20%20%20%3Cscript%20src%3D%22https%3A//code.jquery.com/ui/1.12.1/jquery-ui.js%22%3E%3C/script%3E%0A%20%20%20%20%3Cscript%3E%24%28%20function%28%29%20%7B%0A%20%20%20%20%20%20%20%20%24%28%20%22.maplegend%22%20%29.draggable%28%7B%0A%20%20%20%20%20%20%20%20%20%20%20%20start%3A%20function%20%28event%2C%20ui%29%20%7B%0A%20%20%20%20%20%20%20%20%20%20%20%20%20%20%20%20%24%28this%29.css%28%7B%0A%20%20%20%20%20%20%20%20%20%20%20%20%20%20%20%20%20%20%20%20right%3A%20%22auto%22%2C%0A%20%20%20%20%20%20%20%20%20%20%20%20%20%20%20%20%20%20%20%20top%3A%20%22auto%22%2C%0A%20%20%20%20%20%20%20%20%20%20%20%20%20%20%20%20%20%20%20%20bottom%3A%20%22auto%22%0A%20%20%20%20%20%20%20%20%20%20%20%20%20%20%20%20%7D%29%3B%0A%20%20%20%20%20%20%20%20%20%20%20%20%7D%0A%20%20%20%20%20%20%20%20%7D%29%3B%0A%20%20%20%20%7D%29%3B%0A%20%20%20%20%3C/script%3E%0A%20%20%20%20%3Cstyle%20type%3D%27text/css%27%3E%0A%20%20%20%20%20%20.maplegend%20%7B%0A%20%20%20%20%20%20%20%20position%3A%20absolute%3B%0A%20%20%20%20%20%20%20%20z-index%3A9999%3B%0A%20%20%20%20%20%20%20%20background-color%3A%20rgba%28255%2C%20255%2C%20255%2C%20.8%29%3B%0A%20%20%20%20%20%20%20%20border-radius%3A%205px%3B%0A%20%20%20%20%20%20%20%20box-shadow%3A%200%200%2015px%20rgba%280%2C0%2C0%2C0.2%29%3B%0A%20%20%20%20%20%20%20%20padding%3A%2010px%3B%0A%20%20%20%20%20%20%20%20font%3A%2012px/14px%20Arial%2C%20Helvetica%2C%20sans-serif%3B%0A%20%20%20%20%20%20%20%20right%3A%2010px%3B%0A%20%20%20%20%20%20%20%20bottom%3A%2020px%3B%0A%20%20%20%20%20%20%7D%0A%20%20%20%20%20%20.maplegend%20.legend-title%20%7B%0A%20%20%20%20%20%20%20%20text-align%3A%20left%3B%0A%20%20%20%20%20%20%20%20margin-bottom%3A%205px%3B%0A%20%20%20%20%20%20%20%20font-weight%3A%20bold%3B%0A%20%20%20%20%20%20%20%20%7D%0A%20%20%20%20%20%20.maplegend%20.legend-scale%20ul%20%7B%0A%20%20%20%20%20%20%20%20margin%3A%200%3B%0A%20%20%20%20%20%20%20%20margin-bottom%3A%200px%3B%0A%20%20%20%20%20%20%20%20padding%3A%200%3B%0A%20%20%20%20%20%20%20%20float%3A%20left%3B%0A%20%20%20%20%20%20%20%20list-style%3A%20none%3B%0A%20%20%20%20%20%20%20%20%7D%0A%20%20%20%20%20%20.maplegend%20.legend-scale%20ul%20li%20%7B%0A%20%20%20%20%20%20%20%20list-style%3A%20none%3B%0A%20%20%20%20%20%20%20%20margin-left%3A%200%3B%0A%20%20%20%20%20%20%20%20line-height%3A%2016px%3B%0A%20%20%20%20%20%20%20%20margin-bottom%3A%202px%3B%0A%20%20%20%20%20%20%20%20%7D%0A%20%20%20%20%20%20.maplegend%20ul.legend-labels%20li%20span%20%7B%0A%20%20%20%20%20%20%20%20display%3A%20block%3B%0A%20%20%20%20%20%20%20%20float%3A%20left%3B%0A%20%20%20%20%20%20%20%20height%3A%2014px%3B%0A%20%20%20%20%20%20%20%20width%3A%2014px%3B%0A%20%20%20%20%20%20%20%20margin-right%3A%205px%3B%0A%20%20%20%20%20%20%20%20margin-left%3A%200%3B%0A%20%20%20%20%20%20%20%20border%3A%200px%20solid%20%23ccc%3B%0A%20%20%20%20%20%20%20%20%7D%0A%20%20%20%20%20%20.maplegend%20.legend-source%20%7B%0A%20%20%20%20%20%20%20%20color%3A%20%23777%3B%0A%20%20%20%20%20%20%20%20clear%3A%20both%3B%0A%20%20%20%20%20%20%20%20%7D%0A%20%20%20%20%20%20.maplegend%20a%20%7B%0A%20%20%20%20%20%20%20%20color%3A%20%23777%3B%0A%20%20%20%20%20%20%20%20%7D%0A%20%20%20%20%3C/style%3E%0A%20%20%20%20%0A%3C/head%3E%0A%3Cbody%3E%20%20%20%20%0A%20%20%20%20%0A%20%20%20%20%3Cdiv%20id%3D%27maplegend%20intersection_hash%27%20class%3D%27maplegend%27%3E%0A%20%20%20%20%20%20%20%20%3Cdiv%20class%3D%27legend-title%27%3Eintersection_hash%3C/div%3E%0A%20%20%20%20%20%20%20%20%3Cdiv%20class%3D%27legend-scale%27%3E%0A%20%20%20%20%20%20%20%20%20%20%20%20%3Cul%20class%3D%27legend-labels%27%3E%0A%20%20%20%20%20%20%20%20%20%20%20%20%20%20%20%20%3Cli%3E%3Cspan%20style%3D%27background%3A%231f77b4%27%3E%3C/span%3E-8684109331624108527%3C/li%3E%0A%20%20%20%20%20%20%20%20%20%20%20%20%20%20%20%20%3Cli%3E%3Cspan%20style%3D%27background%3A%23ffbb78%27%3E%3C/span%3E-5279734711215237442%3C/li%3E%0A%20%20%20%20%20%20%20%20%20%20%20%20%20%20%20%20%3Cli%3E%3Cspan%20style%3D%27background%3A%23d62728%27%3E%3C/span%3E-3476482707806839053%3C/li%3E%0A%20%20%20%20%20%20%20%20%20%20%20%20%20%20%20%20%3Cli%3E%3Cspan%20style%3D%27background%3A%238c564b%27%3E%3C/span%3E1701263025624594376%3C/li%3E%0A%20%20%20%20%20%20%20%20%20%20%20%20%20%20%20%20%3Cli%3E%3Cspan%20style%3D%27background%3A%23f7b6d2%27%3E%3C/span%3E2133764138185142816%3C/li%3E%0A%20%20%20%20%20%20%20%20%20%20%20%20%20%20%20%20%3Cli%3E%3Cspan%20style%3D%27background%3A%23bcbd22%27%3E%3C/span%3E8444362949197194273%3C/li%3E%0A%20%20%20%20%20%20%20%20%20%20%20%20%20%20%20%20%3Cli%3E%3Cspan%20style%3D%27background%3A%239edae5%27%3E%3C/span%3E9114761875024974634%3C/li%3E%0A%20%20%20%20%20%20%20%20%20%20%20%20%3C/ul%3E%0A%20%20%20%20%20%20%20%20%3C/div%3E%0A%20%20%20%20%3C/div%3E%0A%20%20%20%20%0A%20%20%20%20%0A%20%20%20%20%20%20%20%20%20%20%20%20%3Cdiv%20class%3D%22folium-map%22%20id%3D%22map_f308088503e8428eb5649a4c52b155d2%22%20%3E%3C/div%3E%0A%20%20%20%20%20%20%20%20%0A%3C/body%3E%0A%3Cscript%3E%20%20%20%20%0A%20%20%20%20%0A%20%20%20%20%20%20%20%20%20%20%20%20var%20map_f308088503e8428eb5649a4c52b155d2%20%3D%20L.map%28%0A%20%20%20%20%20%20%20%20%20%20%20%20%20%20%20%20%22map_f308088503e8428eb5649a4c52b155d2%22%2C%0A%20%20%20%20%20%20%20%20%20%20%20%20%20%20%20%20%7B%0A%20%20%20%20%20%20%20%20%20%20%20%20%20%20%20%20%20%20%20%20center%3A%20%5B37.83666300000001%2C%20-122.26602392538092%5D%2C%0A%20%20%20%20%20%20%20%20%20%20%20%20%20%20%20%20%20%20%20%20crs%3A%20L.CRS.EPSG3857%2C%0A%20%20%20%20%20%20%20%20%20%20%20%20%20%20%20%20%20%20%20%20zoom%3A%2010%2C%0A%20%20%20%20%20%20%20%20%20%20%20%20%20%20%20%20%20%20%20%20zoomControl%3A%20true%2C%0A%20%20%20%20%20%20%20%20%20%20%20%20%20%20%20%20%20%20%20%20preferCanvas%3A%20false%2C%0A%20%20%20%20%20%20%20%20%20%20%20%20%20%20%20%20%7D%0A%20%20%20%20%20%20%20%20%20%20%20%20%29%3B%0A%20%20%20%20%20%20%20%20%20%20%20%20L.control.scale%28%29.addTo%28map_f308088503e8428eb5649a4c52b155d2%29%3B%0A%0A%20%20%20%20%20%20%20%20%20%20%20%20%0A%0A%20%20%20%20%20%20%20%20%0A%20%20%20%20%0A%20%20%20%20%20%20%20%20%20%20%20%20var%20tile_layer_0d4ba98c1fbb4a93b567c59beea017c6%20%3D%20L.tileLayer%28%0A%20%20%20%20%20%20%20%20%20%20%20%20%20%20%20%20%22https%3A//a.basemaps.cartocdn.com/light_all/%7Bz%7D/%7Bx%7D/%7By%7D%7Br%7D.png%22%2C%0A%20%20%20%20%20%20%20%20%20%20%20%20%20%20%20%20%7B%22attribution%22%3A%20%22%5Cu0026copy%3B%20%5Cu003ca%20href%3D%5C%22https%3A//www.openstreetmap.org/copyright%5C%22%5Cu003eOpenStreetMap%5Cu003c/a%5Cu003e%20contributors%20%5Cu0026copy%3B%20%5Cu003ca%20href%3D%5C%22https%3A//carto.com/attributions%5C%22%5Cu003eCARTO%5Cu003c/a%5Cu003e%22%2C%20%22detectRetina%22%3A%20false%2C%20%22maxNativeZoom%22%3A%2020%2C%20%22maxZoom%22%3A%2020%2C%20%22minZoom%22%3A%200%2C%20%22noWrap%22%3A%20false%2C%20%22opacity%22%3A%201%2C%20%22subdomains%22%3A%20%22abc%22%2C%20%22tms%22%3A%20false%7D%0A%20%20%20%20%20%20%20%20%20%20%20%20%29.addTo%28map_f308088503e8428eb5649a4c52b155d2%29%3B%0A%20%20%20%20%20%20%20%20%0A%20%20%20%20%0A%20%20%20%20%20%20%20%20%20%20%20%20map_f308088503e8428eb5649a4c52b155d2.fitBounds%28%0A%20%20%20%20%20%20%20%20%20%20%20%20%20%20%20%20%5B%5B37.802239000000014%2C%20-122.27292444760107%5D%2C%20%5B37.871087%2C%20-122.25912340316077%5D%5D%2C%0A%20%20%20%20%20%20%20%20%20%20%20%20%20%20%20%20%7B%7D%0A%20%20%20%20%20%20%20%20%20%20%20%20%29%3B%0A%20%20%20%20%20%20%20%20%0A%20%20%20%20%0A%20%20%20%20%20%20%20%20function%20geo_json_e6e82941cc304341a45e9a9f05bbbb2e_styler%28feature%29%20%7B%0A%20%20%20%20%20%20%20%20%20%20%20%20switch%28feature.id%29%20%7B%0A%20%20%20%20%20%20%20%20%20%20%20%20%20%20%20%20case%20%220%22%3A%20%0A%20%20%20%20%20%20%20%20%20%20%20%20%20%20%20%20%20%20%20%20return%20%7B%22color%22%3A%20%22%23f7b6d2%22%2C%20%22fillColor%22%3A%20%22%23f7b6d2%22%2C%20%22fillOpacity%22%3A%200.5%2C%20%22weight%22%3A%202%7D%3B%0A%20%20%20%20%20%20%20%20%20%20%20%20%20%20%20%20case%20%224%22%3A%20%0A%20%20%20%20%20%20%20%20%20%20%20%20%20%20%20%20%20%20%20%20return%20%7B%22color%22%3A%20%22%231f77b4%22%2C%20%22fillColor%22%3A%20%22%231f77b4%22%2C%20%22fillOpacity%22%3A%200.5%2C%20%22weight%22%3A%202%7D%3B%0A%20%20%20%20%20%20%20%20%20%20%20%20%20%20%20%20case%20%225%22%3A%20%0A%20%20%20%20%20%20%20%20%20%20%20%20%20%20%20%20%20%20%20%20return%20%7B%22color%22%3A%20%22%239edae5%22%2C%20%22fillColor%22%3A%20%22%239edae5%22%2C%20%22fillOpacity%22%3A%200.5%2C%20%22weight%22%3A%202%7D%3B%0A%20%20%20%20%20%20%20%20%20%20%20%20%20%20%20%20case%20%226%22%3A%20%0A%20%20%20%20%20%20%20%20%20%20%20%20%20%20%20%20%20%20%20%20return%20%7B%22color%22%3A%20%22%238c564b%22%2C%20%22fillColor%22%3A%20%22%238c564b%22%2C%20%22fillOpacity%22%3A%200.5%2C%20%22weight%22%3A%202%7D%3B%0A%20%20%20%20%20%20%20%20%20%20%20%20%20%20%20%20case%20%2213%22%3A%20%0A%20%20%20%20%20%20%20%20%20%20%20%20%20%20%20%20%20%20%20%20return%20%7B%22color%22%3A%20%22%23bcbd22%22%2C%20%22fillColor%22%3A%20%22%23bcbd22%22%2C%20%22fillOpacity%22%3A%200.5%2C%20%22weight%22%3A%202%7D%3B%0A%20%20%20%20%20%20%20%20%20%20%20%20%20%20%20%20case%20%2218%22%3A%20%0A%20%20%20%20%20%20%20%20%20%20%20%20%20%20%20%20%20%20%20%20return%20%7B%22color%22%3A%20%22%23d62728%22%2C%20%22fillColor%22%3A%20%22%23d62728%22%2C%20%22fillOpacity%22%3A%200.5%2C%20%22weight%22%3A%202%7D%3B%0A%20%20%20%20%20%20%20%20%20%20%20%20%20%20%20%20default%3A%0A%20%20%20%20%20%20%20%20%20%20%20%20%20%20%20%20%20%20%20%20return%20%7B%22color%22%3A%20%22%23ffbb78%22%2C%20%22fillColor%22%3A%20%22%23ffbb78%22%2C%20%22fillOpacity%22%3A%200.5%2C%20%22weight%22%3A%202%7D%3B%0A%20%20%20%20%20%20%20%20%20%20%20%20%7D%0A%20%20%20%20%20%20%20%20%7D%0A%20%20%20%20%20%20%20%20function%20geo_json_e6e82941cc304341a45e9a9f05bbbb2e_highlighter%28feature%29%20%7B%0A%20%20%20%20%20%20%20%20%20%20%20%20switch%28feature.id%29%20%7B%0A%20%20%20%20%20%20%20%20%20%20%20%20%20%20%20%20default%3A%0A%20%20%20%20%20%20%20%20%20%20%20%20%20%20%20%20%20%20%20%20return%20%7B%22fillOpacity%22%3A%200.75%7D%3B%0A%20%20%20%20%20%20%20%20%20%20%20%20%7D%0A%20%20%20%20%20%20%20%20%7D%0A%20%20%20%20%20%20%20%20function%20geo_json_e6e82941cc304341a45e9a9f05bbbb2e_pointToLayer%28feature%2C%20latlng%29%20%7B%0A%20%20%20%20%20%20%20%20%20%20%20%20var%20opts%20%3D%20%7B%22bubblingMouseEvents%22%3A%20true%2C%20%22color%22%3A%20%22%233388ff%22%2C%20%22dashArray%22%3A%20null%2C%20%22dashOffset%22%3A%20null%2C%20%22fill%22%3A%20true%2C%20%22fillColor%22%3A%20%22%233388ff%22%2C%20%22fillOpacity%22%3A%200.2%2C%20%22fillRule%22%3A%20%22evenodd%22%2C%20%22lineCap%22%3A%20%22round%22%2C%20%22lineJoin%22%3A%20%22round%22%2C%20%22opacity%22%3A%201.0%2C%20%22radius%22%3A%202%2C%20%22stroke%22%3A%20true%2C%20%22weight%22%3A%203%7D%3B%0A%20%20%20%20%20%20%20%20%20%20%20%20%0A%20%20%20%20%20%20%20%20%20%20%20%20let%20style%20%3D%20geo_json_e6e82941cc304341a45e9a9f05bbbb2e_styler%28feature%29%0A%20%20%20%20%20%20%20%20%20%20%20%20Object.assign%28opts%2C%20style%29%0A%20%20%20%20%20%20%20%20%20%20%20%20%0A%20%20%20%20%20%20%20%20%20%20%20%20return%20new%20L.CircleMarker%28latlng%2C%20opts%29%0A%20%20%20%20%20%20%20%20%7D%0A%0A%20%20%20%20%20%20%20%20function%20geo_json_e6e82941cc304341a45e9a9f05bbbb2e_onEachFeature%28feature%2C%20layer%29%20%7B%0A%20%20%20%20%20%20%20%20%20%20%20%20layer.on%28%7B%0A%20%20%20%20%20%20%20%20%20%20%20%20%20%20%20%20mouseout%3A%20function%28e%29%20%7B%0A%20%20%20%20%20%20%20%20%20%20%20%20%20%20%20%20%20%20%20%20if%28typeof%20e.target.setStyle%20%3D%3D%3D%20%22function%22%29%7B%0A%20%20%20%20%20%20%20%20%20%20%20%20%20%20%20%20%20%20%20%20%20%20%20%20geo_json_e6e82941cc304341a45e9a9f05bbbb2e.resetStyle%28e.target%29%3B%0A%20%20%20%20%20%20%20%20%20%20%20%20%20%20%20%20%20%20%20%20%7D%0A%20%20%20%20%20%20%20%20%20%20%20%20%20%20%20%20%7D%2C%0A%20%20%20%20%20%20%20%20%20%20%20%20%20%20%20%20mouseover%3A%20function%28e%29%20%7B%0A%20%20%20%20%20%20%20%20%20%20%20%20%20%20%20%20%20%20%20%20if%28typeof%20e.target.setStyle%20%3D%3D%3D%20%22function%22%29%7B%0A%20%20%20%20%20%20%20%20%20%20%20%20%20%20%20%20%20%20%20%20%20%20%20%20const%20highlightStyle%20%3D%20geo_json_e6e82941cc304341a45e9a9f05bbbb2e_highlighter%28e.target.feature%29%0A%20%20%20%20%20%20%20%20%20%20%20%20%20%20%20%20%20%20%20%20%20%20%20%20e.target.setStyle%28highlightStyle%29%3B%0A%20%20%20%20%20%20%20%20%20%20%20%20%20%20%20%20%20%20%20%20%7D%0A%20%20%20%20%20%20%20%20%20%20%20%20%20%20%20%20%7D%2C%0A%20%20%20%20%20%20%20%20%20%20%20%20%7D%29%3B%0A%20%20%20%20%20%20%20%20%7D%3B%0A%20%20%20%20%20%20%20%20var%20geo_json_e6e82941cc304341a45e9a9f05bbbb2e%20%3D%20L.geoJson%28null%2C%20%7B%0A%20%20%20%20%20%20%20%20%20%20%20%20%20%20%20%20onEachFeature%3A%20geo_json_e6e82941cc304341a45e9a9f05bbbb2e_onEachFeature%2C%0A%20%20%20%20%20%20%20%20%20%20%20%20%0A%20%20%20%20%20%20%20%20%20%20%20%20%20%20%20%20style%3A%20geo_json_e6e82941cc304341a45e9a9f05bbbb2e_styler%2C%0A%20%20%20%20%20%20%20%20%20%20%20%20%20%20%20%20pointToLayer%3A%20geo_json_e6e82941cc304341a45e9a9f05bbbb2e_pointToLayer%0A%20%20%20%20%20%20%20%20%7D%29%3B%0A%0A%20%20%20%20%20%20%20%20function%20geo_json_e6e82941cc304341a45e9a9f05bbbb2e_add%20%28data%29%20%7B%0A%20%20%20%20%20%20%20%20%20%20%20%20geo_json_e6e82941cc304341a45e9a9f05bbbb2e%0A%20%20%20%20%20%20%20%20%20%20%20%20%20%20%20%20.addData%28data%29%0A%20%20%20%20%20%20%20%20%20%20%20%20%20%20%20%20.addTo%28map_f308088503e8428eb5649a4c52b155d2%29%3B%0A%20%20%20%20%20%20%20%20%7D%0A%20%20%20%20%20%20%20%20%20%20%20%20geo_json_e6e82941cc304341a45e9a9f05bbbb2e_add%28%7B%22bbox%22%3A%20%5B-122.27292444760107%2C%2037.802239000000014%2C%20-122.25912340316077%2C%2037.871087%5D%2C%20%22features%22%3A%20%5B%7B%22bbox%22%3A%20%5B-122.26590052059542%2C%2037.86791699999998%2C%20-122.25912340316077%2C%2037.86869300000006%5D%2C%20%22geometry%22%3A%20%7B%22coordinates%22%3A%20%5B%5B-122.25912340316077%2C%2037.86841074640374%5D%2C%20%5B-122.25914600000002%2C%2037.86851599999996%5D%2C%20%5B-122.25918500000002%2C%2037.86869300000006%5D%2C%20%5B-122.25941099999999%2C%2037.86866900000002%5D%2C%20%5B-122.259637%2C%2037.86864500000002%5D%2C%20%5B-122.259862%2C%2037.86861999999998%5D%2C%20%5B-122.260089%2C%2037.868635000000054%5D%2C%20%5B-122.26025499999999%2C%2037.868646%5D%2C%20%5B-122.260469%2C%2037.868584999999996%5D%2C%20%5B-122.260683%2C%2037.868523000000025%5D%2C%20%5B-122.260908%2C%2037.868494%5D%2C%20%5B-122.26112499999999%2C%2037.86846599999996%5D%2C%20%5B-122.26135%2C%2037.86843699999997%5D%2C%20%5B-122.261451%2C%2037.868424%5D%2C%20%5B-122.261678%2C%2037.868440999999976%5D%2C%20%5B-122.261913%2C%2037.86845799999999%5D%2C%20%5B-122.26212199999999%2C%2037.86838700000002%5D%2C%20%5B-122.262331%2C%2037.86831599999997%5D%2C%20%5B-122.262556%2C%2037.868283999999974%5D%2C%20%5B-122.262781%2C%2037.868256999999986%5D%2C%20%5B-122.263006%2C%2037.86822899999997%5D%2C%20%5B-122.263151%2C%2037.86821099999999%5D%2C%20%5B-122.263376%2C%2037.868184%5D%2C%20%5B-122.263601%2C%2037.868156%5D%2C%20%5B-122.263736%2C%2037.868140000000025%5D%2C%20%5B-122.263963%2C%2037.86815900000001%5D%2C%20%5B-122.26408299999999%2C%2037.86816899999998%5D%2C%20%5B-122.26429500000002%2C%2037.86810299999996%5D%2C%20%5B-122.26450699999998%2C%2037.86803799999999%5D%2C%20%5B-122.26473100000001%2C%2037.868005999999994%5D%2C%20%5B-122.26495600000001%2C%2037.86797500000002%5D%2C%20%5B-122.26504099999998%2C%2037.867964000000036%5D%2C%20%5B-122.26526500000001%2C%2037.86793299999998%5D%2C%20%5B-122.265387%2C%2037.86791699999998%5D%2C%20%5B-122.265528%2C%2037.86792099999999%5D%2C%20%5B-122.26558900000002%2C%2037.86792600000001%5D%2C%20%5B-122.265663%2C%2037.86793500000002%5D%2C%20%5B-122.26571899999999%2C%2037.86795099999998%5D%2C%20%5B-122.265766%2C%2037.86797%5D%2C%20%5B-122.26582000000002%2C%2037.86801799999997%5D%2C%20%5B-122.265874%2C%2037.868106999999966%5D%2C%20%5B-122.26590052059542%2C%2037.86816477701408%5D%5D%2C%20%22type%22%3A%20%22LineString%22%7D%2C%20%22id%22%3A%20%220%22%2C%20%22properties%22%3A%20%7B%22__folium_color%22%3A%20%22%23f7b6d2%22%2C%20%22intersection_hash%22%3A%202133764138185142816%2C%20%22shape_array_key%22%3A%20%223caab5c44277cbdc8fbc755bc0ea7633%22%2C%20%22tract_1%22%3A%20%2206001422800%22%2C%20%22tract_2%22%3A%20%2206001422600%22%7D%2C%20%22type%22%3A%20%22Feature%22%7D%2C%20%7B%22bbox%22%3A%20%5B-122.266168%2C%2037.86792586112199%2C%20-122.26558730568281%2C%2037.871087%5D%2C%20%22geometry%22%3A%20%7B%22coordinates%22%3A%20%5B%5B-122.26558730568281%2C%2037.86792586112199%5D%2C%20%5B-122.26558900000002%2C%2037.86792600000001%5D%2C%20%5B-122.265663%2C%2037.86793500000002%5D%2C%20%5B-122.26571899999999%2C%2037.86795099999998%5D%2C%20%5B-122.265766%2C%2037.86797%5D%2C%20%5B-122.26582000000002%2C%2037.86801799999997%5D%2C%20%5B-122.265874%2C%2037.868106999999966%5D%2C%20%5B-122.26590200000001%2C%2037.86816799999998%5D%2C%20%5B-122.265934%2C%2037.86823499999999%5D%2C%20%5B-122.26598899999999%2C%2037.86834499999998%5D%2C%20%5B-122.266027%2C%2037.86842899999998%5D%2C%20%5B-122.266106%2C%2037.86859799999997%5D%2C%20%5B-122.26614200000002%2C%2037.86867300000001%5D%2C%20%5B-122.266162%2C%2037.868733000000006%5D%2C%20%5B-122.266168%2C%2037.868785999999986%5D%2C%20%5B-122.266164%2C%2037.86883699999996%5D%2C%20%5B-122.26615%2C%2037.868882999999954%5D%2C%20%5B-122.26612700000001%2C%2037.86893599999998%5D%2C%20%5B-122.26609700000002%2C%2037.868989999999954%5D%2C%20%5B-122.26600400000001%2C%2037.86915399999999%5D%2C%20%5B-122.26596800000002%2C%2037.869218%5D%2C%20%5B-122.265882%2C%2037.869358%5D%2C%20%5B-122.265802%2C%2037.869498999999976%5D%2C%20%5B-122.26577399999998%2C%2037.86954999999999%5D%2C%20%5B-122.265751%2C%2037.86959800000004%5D%2C%20%5B-122.26573700000002%2C%2037.869646000000024%5D%2C%20%5B-122.26572499999999%2C%2037.869690999999996%5D%2C%20%5B-122.265717%2C%2037.869745%5D%2C%20%5B-122.26571800000002%2C%2037.869805000000014%5D%2C%20%5B-122.26572499999999%2C%2037.869918999999996%5D%2C%20%5B-122.26573600000002%2C%2037.870030000000035%5D%2C%20%5B-122.26574300000001%2C%2037.870187000000065%5D%2C%20%5B-122.265765%2C%2037.870366000000004%5D%2C%20%5B-122.26578700000002%2C%2037.870545000000014%5D%2C%20%5B-122.26579400000001%2C%2037.87060200000004%5D%2C%20%5B-122.26581499999999%2C%2037.87078099999999%5D%2C%20%5B-122.26580600000001%2C%2037.87096099999999%5D%2C%20%5B-122.26580000000001%2C%2037.871087%5D%5D%2C%20%22type%22%3A%20%22LineString%22%7D%2C%20%22id%22%3A%20%221%22%2C%20%22properties%22%3A%20%7B%22__folium_color%22%3A%20%22%23ffbb78%22%2C%20%22intersection_hash%22%3A%20-5279734711215237442%2C%20%22shape_array_key%22%3A%20%223caab5c44277cbdc8fbc755bc0ea7633%22%2C%20%22tract_1%22%3A%20%2206001422900%22%2C%20%22tract_2%22%3A%20%2206001422600%22%7D%2C%20%22type%22%3A%20%22Feature%22%7D%2C%20%7B%22bbox%22%3A%20%5B-122.26234308975404%2C%2037.836990642351275%2C%20-122.26210692706255%2C%2037.83830795404473%5D%2C%20%22geometry%22%3A%20%7B%22coordinates%22%3A%20%5B%5B-122.26234308975404%2C%2037.836990642351275%5D%2C%20%5B-122.262331%2C%2037.83705300000004%5D%2C%20%5B-122.26230599999998%2C%2037.83720699999998%5D%2C%20%5B-122.26229%2C%2037.83731900000005%5D%2C%20%5B-122.26227500000002%2C%2037.837460999999976%5D%2C%20%5B-122.262253%2C%2037.837640000000015%5D%2C%20%5B-122.262238%2C%2037.837743000000025%5D%2C%20%5B-122.262211%2C%2037.83792199999998%5D%2C%20%5B-122.26219999999999%2C%2037.83799400000001%5D%2C%20%5B-122.262174%2C%2037.838173000000005%5D%2C%20%5B-122.26210692706255%2C%2037.83830795404473%5D%5D%2C%20%22type%22%3A%20%22LineString%22%7D%2C%20%22id%22%3A%20%224%22%2C%20%22properties%22%3A%20%7B%22__folium_color%22%3A%20%22%231f77b4%22%2C%20%22intersection_hash%22%3A%20-8684109331624108527%2C%20%22shape_array_key%22%3A%20%223caab5c44277cbdc8fbc755bc0ea7633%22%2C%20%22tract_1%22%3A%20%2206001401100%22%2C%20%22tract_2%22%3A%20%2206001400300%22%7D%2C%20%22type%22%3A%20%22Feature%22%7D%2C%20%7B%22bbox%22%3A%20%5B-122.26127391811067%2C%2037.84471073585913%2C%20-122.26006953784263%2C%2037.85302942913689%5D%2C%20%22geometry%22%3A%20%7B%22coordinates%22%3A%20%5B%5B-122.26127391811067%2C%2037.84471073585913%5D%2C%20%5B-122.261259%2C%2037.844822000000036%5D%2C%20%5B-122.26123600000001%2C%2037.845000999999975%5D%2C%20%5B-122.26114699999998%2C%2037.84516599999998%5D%2C%20%5B-122.26108399999998%2C%2037.845284%5D%2C%20%5B-122.261115%2C%2037.84546200000001%5D%2C%20%5B-122.261145%2C%2037.84564000000001%5D%2C%20%5B-122.26113099999999%2C%2037.84576400000002%5D%2C%20%5B-122.261106%2C%2037.845942999999984%5D%2C%20%5B-122.26107999999999%2C%2037.84612099999997%5D%2C%20%5B-122.261055%2C%2037.84630000000005%5D%2C%20%5B-122.26103%2C%2037.84647900000003%5D%2C%20%5B-122.26100500000001%2C%2037.846657999999984%5D%2C%20%5B-122.260979%2C%2037.846836%5D%2C%20%5B-122.26095400000001%2C%2037.847014999999956%5D%2C%20%5B-122.26092900000002%2C%2037.84719399999996%5D%2C%20%5B-122.260905%2C%2037.84737299999996%5D%2C%20%5B-122.26088%2C%2037.84755200000001%5D%2C%20%5B-122.260793%2C%2037.847718000000036%5D%2C%20%5B-122.260719%2C%2037.84786000000001%5D%2C%20%5B-122.26077%2C%2037.84803500000006%5D%2C%20%5B-122.26080000000002%2C%2037.84814100000003%5D%2C%20%5B-122.26077400000001%2C%2037.84832000000002%5D%2C%20%5B-122.26074900000002%2C%2037.848498%5D%2C%20%5B-122.260724%2C%2037.84867700000002%5D%2C%20%5B-122.26069899999999%2C%2037.84885599999998%5D%2C%20%5B-122.260675%2C%2037.84903500000002%5D%2C%20%5B-122.26065100000001%2C%2037.84921399999998%5D%2C%20%5B-122.26062600000002%2C%2037.84939299999995%5D%2C%20%5B-122.260619%2C%2037.84944700000001%5D%2C%20%5B-122.260593%2C%2037.84962600000001%5D%2C%20%5B-122.260579%2C%2037.849727000000044%5D%2C%20%5B-122.260553%2C%2037.84990600000002%5D%2C%20%5B-122.26052800000001%2C%2037.85008400000002%5D%2C%20%5B-122.26051200000002%2C%2037.850193999999995%5D%2C%20%5B-122.26043800000001%2C%2037.85036399999998%5D%2C%20%5B-122.260394%2C%2037.850465999999976%5D%2C%20%5B-122.260405%2C%2037.85064600000002%5D%2C%20%5B-122.260415%2C%2037.85082499999999%5D%2C%20%5B-122.26042000000001%2C%2037.85090700000005%5D%2C%20%5B-122.260404%2C%2037.85102599999998%5D%2C%20%5B-122.260378%2C%2037.85120500000001%5D%2C%20%5B-122.260353%2C%2037.85138299999996%5D%2C%20%5B-122.260327%2C%2037.85156199999997%5D%2C%20%5B-122.260302%2C%2037.85174099999999%5D%2C%20%5B-122.260276%2C%2037.851920000000035%5D%2C%20%5B-122.260262%2C%2037.852021%5D%2C%20%5B-122.260237%2C%2037.85220000000002%5D%2C%20%5B-122.260212%2C%2037.85237899999998%5D%2C%20%5B-122.260187%2C%2037.85255700000001%5D%2C%20%5B-122.260173%2C%2037.85265800000003%5D%2C%20%5B-122.26014900000001%2C%2037.852823%5D%2C%20%5B-122.26009200000001%2C%2037.85288299999999%5D%2C%20%5B-122.260077%2C%2037.85297599999998%5D%2C%20%5B-122.26006953784263%2C%2037.85302942913689%5D%5D%2C%20%22type%22%3A%20%22LineString%22%7D%2C%20%22id%22%3A%20%225%22%2C%20%22properties%22%3A%20%7B%22__folium_color%22%3A%20%22%239edae5%22%2C%20%22intersection_hash%22%3A%209114761875024974634%2C%20%22shape_array_key%22%3A%20%223caab5c44277cbdc8fbc755bc0ea7633%22%2C%20%22tract_1%22%3A%20%2206001400500%22%2C%20%22tract_2%22%3A%20%2206001400400%22%7D%2C%20%22type%22%3A%20%22Feature%22%7D%2C%20%7B%22bbox%22%3A%20%5B-122.26170633583747%2C%2037.84106250770652%2C%20-122.26108399999998%2C%2037.8452939702092%5D%2C%20%22geometry%22%3A%20%7B%22coordinates%22%3A%20%5B%5B-122.26170633583747%2C%2037.84106250770652%5D%2C%20%5B-122.261705%2C%2037.84106999999999%5D%2C%20%5B-122.261688%2C%2037.84120500000003%5D%2C%20%5B-122.261664%2C%2037.841384%5D%2C%20%5B-122.26161100000002%2C%2037.84155900000004%5D%2C%20%5B-122.26157200000002%2C%2037.841688000000005%5D%2C%20%5B-122.26158%2C%2037.841868000000005%5D%2C%20%5B-122.261588%2C%2037.842047000000036%5D%2C%20%5B-122.261577%2C%2037.84222700000001%5D%2C%20%5B-122.26157200000002%2C%2037.84230599999998%5D%2C%20%5B-122.26160300000001%2C%2037.842364000000025%5D%2C%20%5B-122.261577%2C%2037.84254299999997%5D%2C%20%5B-122.26155200000001%2C%2037.84272099999994%5D%2C%20%5B-122.261526%2C%2037.84289999999998%5D%2C%20%5B-122.26150300000002%2C%2037.843059000000025%5D%2C%20%5B-122.26147600000002%2C%2037.84323799999994%5D%2C%20%5B-122.26145200000002%2C%2037.84340000000002%5D%2C%20%5B-122.261428%2C%2037.84357900000002%5D%2C%20%5B-122.26141000000001%2C%2037.84371%5D%2C%20%5B-122.26138699999998%2C%2037.843888999999955%5D%2C%20%5B-122.26137100000001%2C%2037.84400999999999%5D%2C%20%5B-122.261352%2C%2037.84413799999998%5D%2C%20%5B-122.26132900000002%2C%2037.84428500000001%5D%2C%20%5B-122.261306%2C%2037.844463999999995%5D%2C%20%5B-122.261283%2C%2037.84464300000003%5D%2C%20%5B-122.261259%2C%2037.844822000000036%5D%2C%20%5B-122.26123600000001%2C%2037.845000999999975%5D%2C%20%5B-122.26114699999998%2C%2037.84516599999998%5D%2C%20%5B-122.26108399999998%2C%2037.845284%5D%2C%20%5B-122.26108573638079%2C%2037.8452939702092%5D%5D%2C%20%22type%22%3A%20%22LineString%22%7D%2C%20%22id%22%3A%20%226%22%2C%20%22properties%22%3A%20%7B%22__folium_color%22%3A%20%22%238c564b%22%2C%20%22intersection_hash%22%3A%201701263025624594376%2C%20%22shape_array_key%22%3A%20%223caab5c44277cbdc8fbc755bc0ea7633%22%2C%20%22tract_1%22%3A%20%2206001400600%22%2C%20%22tract_2%22%3A%20%2206001400400%22%7D%2C%20%22type%22%3A%20%22Feature%22%7D%2C%20%7B%22bbox%22%3A%20%5B-122.27136559533855%2C%2037.80405496281582%2C%20-122.268221%2C%2037.80923948768508%5D%2C%20%22geometry%22%3A%20%7B%22coordinates%22%3A%20%5B%5B-122.27136559533855%2C%2037.80405496281582%5D%2C%20%5B-122.27130900000002%2C%2037.80413699999997%5D%2C%20%5B-122.2712%2C%2037.80429500000001%5D%2C%20%5B-122.27109600000001%2C%2037.80445499999999%5D%2C%20%5B-122.270992%2C%2037.804614999999956%5D%2C%20%5B-122.27088900000001%2C%2037.804774999999985%5D%2C%20%5B-122.27073899999999%2C%2037.80491000000001%5D%2C%20%5B-122.270599%2C%2037.805037000000006%5D%2C%20%5B-122.27052999999998%2C%2037.80520800000001%5D%2C%20%5B-122.27047%2C%2037.805358999999974%5D%2C%20%5B-122.27036399999999%2C%2037.805518000000006%5D%2C%20%5B-122.27025900000001%2C%2037.80567800000001%5D%2C%20%5B-122.27025500000002%2C%2037.80577600000003%5D%2C%20%5B-122.270158%2C%2037.805939%5D%2C%20%5B-122.270062%2C%2037.806101999999996%5D%2C%20%5B-122.26998500000002%2C%2037.80623099999998%5D%2C%20%5B-122.26984399999999%2C%2037.80637200000003%5D%2C%20%5B-122.26971%2C%2037.80650599999998%5D%2C%20%5B-122.26965799999999%2C%2037.80668100000001%5D%2C%20%5B-122.269618%2C%2037.80681600000002%5D%2C%20%5B-122.269516%2C%2037.806977000000025%5D%2C%20%5B-122.26941500000001%2C%2037.807138000000066%5D%2C%20%5B-122.26931399999998%2C%2037.80729900000004%5D%2C%20%5B-122.269212%2C%2037.80746000000001%5D%2C%20%5B-122.269111%2C%2037.80762100000001%5D%2C%20%5B-122.26901000000001%2C%2037.80778199999998%5D%2C%20%5B-122.26890800000001%2C%2037.807943000000016%5D%2C%20%5B-122.26880599999998%2C%2037.80810399999997%5D%2C%20%5B-122.26870399999999%2C%2037.808265%5D%2C%20%5B-122.268603%2C%2037.80842599999999%5D%2C%20%5B-122.268501%2C%2037.80858700000002%5D%2C%20%5B-122.268399%2C%2037.80874800000004%5D%2C%20%5B-122.26829700000002%2C%2037.80890899999998%5D%2C%20%5B-122.268221%2C%2037.80902899999999%5D%2C%20%5B-122.268398%2C%2037.80912399999998%5D%2C%20%5B-122.26846999999998%2C%2037.80915999999999%5D%2C%20%5B-122.26853%2C%2037.80918699999996%5D%2C%20%5B-122.26866384344797%2C%2037.80923948768508%5D%5D%2C%20%22type%22%3A%20%22LineString%22%7D%2C%20%22id%22%3A%20%2213%22%2C%20%22properties%22%3A%20%7B%22__folium_color%22%3A%20%22%23bcbd22%22%2C%20%22intersection_hash%22%3A%208444362949197194273%2C%20%22shape_array_key%22%3A%20%223caab5c44277cbdc8fbc755bc0ea7633%22%2C%20%22tract_1%22%3A%20%2206001402900%22%2C%20%22tract_2%22%3A%20%2206001402800%22%7D%2C%20%22type%22%3A%20%22Feature%22%7D%2C%20%7B%22bbox%22%3A%20%5B-122.27292444760107%2C%2037.802239000000014%2C%20-122.27100599112703%2C%2037.80459347523419%5D%2C%20%22geometry%22%3A%20%7B%22coordinates%22%3A%20%5B%5B-122.27292444760107%2C%2037.802437410885844%5D%2C%20%5B-122.27280100000002%2C%2037.80238899999999%5D%2C%20%5B-122.27259700000002%2C%2037.80230899999997%5D%2C%20%5B-122.27242999999999%2C%2037.802239000000014%5D%2C%20%5B-122.27231899999998%2C%2037.802395999999995%5D%2C%20%5B-122.272287%2C%2037.80244700000004%5D%2C%20%5B-122.272298%2C%2037.802553999999965%5D%2C%20%5B-122.2722%2C%2037.802715999999975%5D%2C%20%5B-122.272103%2C%2037.802879000000054%5D%2C%20%5B-122.272065%2C%2037.80294200000001%5D%2C%20%5B-122.27191500000002%2C%2037.80307700000001%5D%2C%20%5B-122.27177200000001%2C%2037.80320699999996%5D%2C%20%5B-122.271732%2C%2037.80338399999996%5D%2C%20%5B-122.271692%2C%2037.803561%5D%2C%20%5B-122.27163600000002%2C%2037.80366300000001%5D%2C%20%5B-122.271527%2C%2037.803820999999985%5D%2C%20%5B-122.27141800000001%2C%2037.803978999999956%5D%2C%20%5B-122.27130900000002%2C%2037.80413699999997%5D%2C%20%5B-122.2712%2C%2037.80429500000001%5D%2C%20%5B-122.27109600000001%2C%2037.80445499999999%5D%2C%20%5B-122.27100599112703%2C%2037.80459347523419%5D%5D%2C%20%22type%22%3A%20%22LineString%22%7D%2C%20%22id%22%3A%20%2218%22%2C%20%22properties%22%3A%20%7B%22__folium_color%22%3A%20%22%23d62728%22%2C%20%22intersection_hash%22%3A%20-3476482707806839053%2C%20%22shape_array_key%22%3A%20%223caab5c44277cbdc8fbc755bc0ea7633%22%2C%20%22tract_1%22%3A%20%2206001403000%22%2C%20%22tract_2%22%3A%20%2206001403100%22%7D%2C%20%22type%22%3A%20%22Feature%22%7D%5D%2C%20%22type%22%3A%20%22FeatureCollection%22%7D%29%3B%0A%0A%20%20%20%20%20%20%20%20%0A%20%20%20%20%0A%20%20%20%20geo_json_e6e82941cc304341a45e9a9f05bbbb2e.bindTooltip%28%0A%20%20%20%20function%28layer%29%7B%0A%20%20%20%20let%20div%20%3D%20L.DomUtil.create%28%27div%27%29%3B%0A%20%20%20%20%0A%20%20%20%20let%20handleObject%20%3D%20feature%3D%3Etypeof%28feature%29%3D%3D%27object%27%20%3F%20JSON.stringify%28feature%29%20%3A%20feature%3B%0A%20%20%20%20let%20fields%20%3D%20%5B%22shape_array_key%22%2C%20%22tract_1%22%2C%20%22tract_2%22%2C%20%22intersection_hash%22%5D%3B%0A%20%20%20%20let%20aliases%20%3D%20%5B%22shape_array_key%22%2C%20%22tract_1%22%2C%20%22tract_2%22%2C%20%22intersection_hash%22%5D%3B%0A%20%20%20%20let%20table%20%3D%20%27%3Ctable%3E%27%20%2B%0A%20%20%20%20%20%20%20%20String%28%0A%20%20%20%20%20%20%20%20fields.map%28%0A%20%20%20%20%20%20%20%20%28v%2Ci%29%3D%3E%0A%20%20%20%20%20%20%20%20%60%3Ctr%3E%0A%20%20%20%20%20%20%20%20%20%20%20%20%3Cth%3E%24%7Baliases%5Bi%5D%7D%3C/th%3E%0A%20%20%20%20%20%20%20%20%20%20%20%20%0A%20%20%20%20%20%20%20%20%20%20%20%20%3Ctd%3E%24%7BhandleObject%28layer.feature.properties%5Bv%5D%29%7D%3C/td%3E%0A%20%20%20%20%20%20%20%20%3C/tr%3E%60%29.join%28%27%27%29%29%0A%20%20%20%20%2B%27%3C/table%3E%27%3B%0A%20%20%20%20div.innerHTML%3Dtable%3B%0A%20%20%20%20%0A%20%20%20%20return%20div%0A%20%20%20%20%7D%0A%20%20%20%20%2C%7B%22className%22%3A%20%22foliumtooltip%22%2C%20%22sticky%22%3A%20true%7D%29%3B%0A%20%20%20%20%20%20%20%20%20%20%20%20%20%20%20%20%20%20%20%20%20%0A%3C/script%3E onload=\"this.contentDocument.open();this.contentDocument.write(    decodeURIComponent(this.getAttribute('data-html')));this.contentDocument.close();\" allowfullscreen webkitallowfullscreen mozallowfullscreen></iframe></div></div>"
      ],
      "text/plain": [
       "<folium.folium.Map at 0x7b1469176190>"
      ]
     },
     "execution_count": 42,
     "metadata": {},
     "output_type": "execute_result"
    }
   ],
   "source": [
    "border_overlaid.explore(column='intersection_hash', tiles='CartoDB Positron', categorical=True)"
   ]
  },
  {
   "cell_type": "code",
   "execution_count": 44,
   "id": "c5bb2eaa-b71d-4b3c-a9b6-9d4d3c688ce1",
   "metadata": {
    "tags": []
   },
   "outputs": [
    {
     "data": {
      "text/html": [
       "<div>\n",
       "<style scoped>\n",
       "    .dataframe tbody tr th:only-of-type {\n",
       "        vertical-align: middle;\n",
       "    }\n",
       "\n",
       "    .dataframe tbody tr th {\n",
       "        vertical-align: top;\n",
       "    }\n",
       "\n",
       "    .dataframe thead th {\n",
       "        text-align: right;\n",
       "    }\n",
       "</style>\n",
       "<table border=\"1\" class=\"dataframe\">\n",
       "  <thead>\n",
       "    <tr style=\"text-align: right;\">\n",
       "      <th></th>\n",
       "      <th>shape_array_key</th>\n",
       "      <th>geometry</th>\n",
       "    </tr>\n",
       "  </thead>\n",
       "  <tbody>\n",
       "    <tr>\n",
       "      <th>0</th>\n",
       "      <td>3caab5c44277cbdc8fbc755bc0ea7633</td>\n",
       "      <td>MULTILINESTRING ((-199973.418 -21403.301, -199...</td>\n",
       "    </tr>\n",
       "  </tbody>\n",
       "</table>\n",
       "</div>"
      ],
      "text/plain": [
       "                    shape_array_key  \\\n",
       "0  3caab5c44277cbdc8fbc755bc0ea7633   \n",
       "\n",
       "                                            geometry  \n",
       "0  MULTILINESTRING ((-199973.418 -21403.301, -199...  "
      ]
     },
     "execution_count": 44,
     "metadata": {},
     "output_type": "execute_result"
    }
   ],
   "source": [
    "not_border"
   ]
  },
  {
   "cell_type": "code",
   "execution_count": 47,
   "id": "11db8743-190b-449e-b2c2-5d9bcb641653",
   "metadata": {
    "tags": []
   },
   "outputs": [
    {
     "data": {
      "text/html": [
       "<div style=\"width:100%;\"><div style=\"position:relative;width:100%;height:0;padding-bottom:60%;\"><span style=\"color:#565656\">Make this Notebook Trusted to load map: File -> Trust Notebook</span><iframe src=\"about:blank\" style=\"position:absolute;width:100%;height:100%;left:0;top:0;border:none !important;\" data-html=%3C%21DOCTYPE%20html%3E%0A%3Chead%3E%20%20%20%20%0A%20%20%20%20%3Cmeta%20http-equiv%3D%22content-type%22%20content%3D%22text/html%3B%20charset%3DUTF-8%22%20/%3E%0A%20%20%20%20%0A%20%20%20%20%20%20%20%20%3Cscript%3E%0A%20%20%20%20%20%20%20%20%20%20%20%20L_NO_TOUCH%20%3D%20false%3B%0A%20%20%20%20%20%20%20%20%20%20%20%20L_DISABLE_3D%20%3D%20false%3B%0A%20%20%20%20%20%20%20%20%3C/script%3E%0A%20%20%20%20%0A%20%20%20%20%3Cstyle%3Ehtml%2C%20body%20%7Bwidth%3A%20100%25%3Bheight%3A%20100%25%3Bmargin%3A%200%3Bpadding%3A%200%3B%7D%3C/style%3E%0A%20%20%20%20%3Cstyle%3E%23map%20%7Bposition%3Aabsolute%3Btop%3A0%3Bbottom%3A0%3Bright%3A0%3Bleft%3A0%3B%7D%3C/style%3E%0A%20%20%20%20%3Cscript%20src%3D%22https%3A//cdn.jsdelivr.net/npm/leaflet%401.6.0/dist/leaflet.js%22%3E%3C/script%3E%0A%20%20%20%20%3Cscript%20src%3D%22https%3A//code.jquery.com/jquery-1.12.4.min.js%22%3E%3C/script%3E%0A%20%20%20%20%3Cscript%20src%3D%22https%3A//maxcdn.bootstrapcdn.com/bootstrap/3.2.0/js/bootstrap.min.js%22%3E%3C/script%3E%0A%20%20%20%20%3Cscript%20src%3D%22https%3A//cdnjs.cloudflare.com/ajax/libs/Leaflet.awesome-markers/2.0.2/leaflet.awesome-markers.js%22%3E%3C/script%3E%0A%20%20%20%20%3Clink%20rel%3D%22stylesheet%22%20href%3D%22https%3A//cdn.jsdelivr.net/npm/leaflet%401.6.0/dist/leaflet.css%22/%3E%0A%20%20%20%20%3Clink%20rel%3D%22stylesheet%22%20href%3D%22https%3A//maxcdn.bootstrapcdn.com/bootstrap/3.2.0/css/bootstrap.min.css%22/%3E%0A%20%20%20%20%3Clink%20rel%3D%22stylesheet%22%20href%3D%22https%3A//maxcdn.bootstrapcdn.com/bootstrap/3.2.0/css/bootstrap-theme.min.css%22/%3E%0A%20%20%20%20%3Clink%20rel%3D%22stylesheet%22%20href%3D%22https%3A//maxcdn.bootstrapcdn.com/font-awesome/4.6.3/css/font-awesome.min.css%22/%3E%0A%20%20%20%20%3Clink%20rel%3D%22stylesheet%22%20href%3D%22https%3A//cdnjs.cloudflare.com/ajax/libs/Leaflet.awesome-markers/2.0.2/leaflet.awesome-markers.css%22/%3E%0A%20%20%20%20%3Clink%20rel%3D%22stylesheet%22%20href%3D%22https%3A//cdn.jsdelivr.net/gh/python-visualization/folium/folium/templates/leaflet.awesome.rotate.min.css%22/%3E%0A%20%20%20%20%0A%20%20%20%20%20%20%20%20%20%20%20%20%3Cmeta%20name%3D%22viewport%22%20content%3D%22width%3Ddevice-width%2C%0A%20%20%20%20%20%20%20%20%20%20%20%20%20%20%20%20initial-scale%3D1.0%2C%20maximum-scale%3D1.0%2C%20user-scalable%3Dno%22%20/%3E%0A%20%20%20%20%20%20%20%20%20%20%20%20%3Cstyle%3E%0A%20%20%20%20%20%20%20%20%20%20%20%20%20%20%20%20%23map_eff80407cdd040c582b46b719410bd32%20%7B%0A%20%20%20%20%20%20%20%20%20%20%20%20%20%20%20%20%20%20%20%20position%3A%20relative%3B%0A%20%20%20%20%20%20%20%20%20%20%20%20%20%20%20%20%20%20%20%20width%3A%20100.0%25%3B%0A%20%20%20%20%20%20%20%20%20%20%20%20%20%20%20%20%20%20%20%20height%3A%20100.0%25%3B%0A%20%20%20%20%20%20%20%20%20%20%20%20%20%20%20%20%20%20%20%20left%3A%200.0%25%3B%0A%20%20%20%20%20%20%20%20%20%20%20%20%20%20%20%20%20%20%20%20top%3A%200.0%25%3B%0A%20%20%20%20%20%20%20%20%20%20%20%20%20%20%20%20%7D%0A%20%20%20%20%20%20%20%20%20%20%20%20%3C/style%3E%0A%20%20%20%20%20%20%20%20%0A%20%20%20%20%0A%20%20%20%20%20%20%20%20%20%20%20%20%20%20%20%20%20%20%20%20%3Cstyle%3E%0A%20%20%20%20%20%20%20%20%20%20%20%20%20%20%20%20%20%20%20%20%20%20%20%20.foliumtooltip%20%7B%0A%20%20%20%20%20%20%20%20%20%20%20%20%20%20%20%20%20%20%20%20%20%20%20%20%20%20%20%20%0A%20%20%20%20%20%20%20%20%20%20%20%20%20%20%20%20%20%20%20%20%20%20%20%20%7D%0A%20%20%20%20%20%20%20%20%20%20%20%20%20%20%20%20%20%20%20%20%20%20%20.foliumtooltip%20table%7B%0A%20%20%20%20%20%20%20%20%20%20%20%20%20%20%20%20%20%20%20%20%20%20%20%20%20%20%20%20margin%3A%20auto%3B%0A%20%20%20%20%20%20%20%20%20%20%20%20%20%20%20%20%20%20%20%20%20%20%20%20%7D%0A%20%20%20%20%20%20%20%20%20%20%20%20%20%20%20%20%20%20%20%20%20%20%20%20.foliumtooltip%20tr%7B%0A%20%20%20%20%20%20%20%20%20%20%20%20%20%20%20%20%20%20%20%20%20%20%20%20%20%20%20%20text-align%3A%20left%3B%0A%20%20%20%20%20%20%20%20%20%20%20%20%20%20%20%20%20%20%20%20%20%20%20%20%7D%0A%20%20%20%20%20%20%20%20%20%20%20%20%20%20%20%20%20%20%20%20%20%20%20%20.foliumtooltip%20th%7B%0A%20%20%20%20%20%20%20%20%20%20%20%20%20%20%20%20%20%20%20%20%20%20%20%20%20%20%20%20padding%3A%202px%3B%20padding-right%3A%208px%3B%0A%20%20%20%20%20%20%20%20%20%20%20%20%20%20%20%20%20%20%20%20%20%20%20%20%7D%0A%20%20%20%20%20%20%20%20%20%20%20%20%20%20%20%20%20%20%20%20%3C/style%3E%0A%20%20%20%20%20%20%20%20%20%20%20%20%0A%20%20%20%20%0A%20%20%20%20%3Cscript%20src%3D%22https%3A//code.jquery.com/ui/1.12.1/jquery-ui.js%22%3E%3C/script%3E%0A%20%20%20%20%3Cscript%3E%24%28%20function%28%29%20%7B%0A%20%20%20%20%20%20%20%20%24%28%20%22.maplegend%22%20%29.draggable%28%7B%0A%20%20%20%20%20%20%20%20%20%20%20%20start%3A%20function%20%28event%2C%20ui%29%20%7B%0A%20%20%20%20%20%20%20%20%20%20%20%20%20%20%20%20%24%28this%29.css%28%7B%0A%20%20%20%20%20%20%20%20%20%20%20%20%20%20%20%20%20%20%20%20right%3A%20%22auto%22%2C%0A%20%20%20%20%20%20%20%20%20%20%20%20%20%20%20%20%20%20%20%20top%3A%20%22auto%22%2C%0A%20%20%20%20%20%20%20%20%20%20%20%20%20%20%20%20%20%20%20%20bottom%3A%20%22auto%22%0A%20%20%20%20%20%20%20%20%20%20%20%20%20%20%20%20%7D%29%3B%0A%20%20%20%20%20%20%20%20%20%20%20%20%7D%0A%20%20%20%20%20%20%20%20%7D%29%3B%0A%20%20%20%20%7D%29%3B%0A%20%20%20%20%3C/script%3E%0A%20%20%20%20%3Cstyle%20type%3D%27text/css%27%3E%0A%20%20%20%20%20%20.maplegend%20%7B%0A%20%20%20%20%20%20%20%20position%3A%20absolute%3B%0A%20%20%20%20%20%20%20%20z-index%3A9999%3B%0A%20%20%20%20%20%20%20%20background-color%3A%20rgba%28255%2C%20255%2C%20255%2C%20.8%29%3B%0A%20%20%20%20%20%20%20%20border-radius%3A%205px%3B%0A%20%20%20%20%20%20%20%20box-shadow%3A%200%200%2015px%20rgba%280%2C0%2C0%2C0.2%29%3B%0A%20%20%20%20%20%20%20%20padding%3A%2010px%3B%0A%20%20%20%20%20%20%20%20font%3A%2012px/14px%20Arial%2C%20Helvetica%2C%20sans-serif%3B%0A%20%20%20%20%20%20%20%20right%3A%2010px%3B%0A%20%20%20%20%20%20%20%20bottom%3A%2020px%3B%0A%20%20%20%20%20%20%7D%0A%20%20%20%20%20%20.maplegend%20.legend-title%20%7B%0A%20%20%20%20%20%20%20%20text-align%3A%20left%3B%0A%20%20%20%20%20%20%20%20margin-bottom%3A%205px%3B%0A%20%20%20%20%20%20%20%20font-weight%3A%20bold%3B%0A%20%20%20%20%20%20%20%20%7D%0A%20%20%20%20%20%20.maplegend%20.legend-scale%20ul%20%7B%0A%20%20%20%20%20%20%20%20margin%3A%200%3B%0A%20%20%20%20%20%20%20%20margin-bottom%3A%200px%3B%0A%20%20%20%20%20%20%20%20padding%3A%200%3B%0A%20%20%20%20%20%20%20%20float%3A%20left%3B%0A%20%20%20%20%20%20%20%20list-style%3A%20none%3B%0A%20%20%20%20%20%20%20%20%7D%0A%20%20%20%20%20%20.maplegend%20.legend-scale%20ul%20li%20%7B%0A%20%20%20%20%20%20%20%20list-style%3A%20none%3B%0A%20%20%20%20%20%20%20%20margin-left%3A%200%3B%0A%20%20%20%20%20%20%20%20line-height%3A%2016px%3B%0A%20%20%20%20%20%20%20%20margin-bottom%3A%202px%3B%0A%20%20%20%20%20%20%20%20%7D%0A%20%20%20%20%20%20.maplegend%20ul.legend-labels%20li%20span%20%7B%0A%20%20%20%20%20%20%20%20display%3A%20block%3B%0A%20%20%20%20%20%20%20%20float%3A%20left%3B%0A%20%20%20%20%20%20%20%20height%3A%2014px%3B%0A%20%20%20%20%20%20%20%20width%3A%2014px%3B%0A%20%20%20%20%20%20%20%20margin-right%3A%205px%3B%0A%20%20%20%20%20%20%20%20margin-left%3A%200%3B%0A%20%20%20%20%20%20%20%20border%3A%200px%20solid%20%23ccc%3B%0A%20%20%20%20%20%20%20%20%7D%0A%20%20%20%20%20%20.maplegend%20.legend-source%20%7B%0A%20%20%20%20%20%20%20%20color%3A%20%23777%3B%0A%20%20%20%20%20%20%20%20clear%3A%20both%3B%0A%20%20%20%20%20%20%20%20%7D%0A%20%20%20%20%20%20.maplegend%20a%20%7B%0A%20%20%20%20%20%20%20%20color%3A%20%23777%3B%0A%20%20%20%20%20%20%20%20%7D%0A%20%20%20%20%3C/style%3E%0A%20%20%20%20%0A%3C/head%3E%0A%3Cbody%3E%20%20%20%20%0A%20%20%20%20%0A%20%20%20%20%3Cdiv%20id%3D%27maplegend%20tract%27%20class%3D%27maplegend%27%3E%0A%20%20%20%20%20%20%20%20%3Cdiv%20class%3D%27legend-title%27%3Etract%3C/div%3E%0A%20%20%20%20%20%20%20%20%3Cdiv%20class%3D%27legend-scale%27%3E%0A%20%20%20%20%20%20%20%20%20%20%20%20%3Cul%20class%3D%27legend-labels%27%3E%0A%20%20%20%20%20%20%20%20%20%20%20%20%20%20%20%20%3Cli%3E%3Cspan%20style%3D%27background%3A%231f77b4%27%3E%3C/span%3E06001400300%3C/li%3E%0A%20%20%20%20%20%20%20%20%20%20%20%20%20%20%20%20%3Cli%3E%3Cspan%20style%3D%27background%3A%23ff7f0e%27%3E%3C/span%3E06001401100%3C/li%3E%0A%20%20%20%20%20%20%20%20%20%20%20%20%20%20%20%20%3Cli%3E%3Cspan%20style%3D%27background%3A%2398df8a%27%3E%3C/span%3E06001401300%3C/li%3E%0A%20%20%20%20%20%20%20%20%20%20%20%20%20%20%20%20%3Cli%3E%3Cspan%20style%3D%27background%3A%23ff9896%27%3E%3C/span%3E06001402800%3C/li%3E%0A%20%20%20%20%20%20%20%20%20%20%20%20%20%20%20%20%3Cli%3E%3Cspan%20style%3D%27background%3A%238c564b%27%3E%3C/span%3E06001403100%3C/li%3E%0A%20%20%20%20%20%20%20%20%20%20%20%20%20%20%20%20%3Cli%3E%3Cspan%20style%3D%27background%3A%23e377c2%27%3E%3C/span%3E06001422800%3C/li%3E%0A%20%20%20%20%20%20%20%20%20%20%20%20%20%20%20%20%3Cli%3E%3Cspan%20style%3D%27background%3A%23c7c7c7%27%3E%3C/span%3E06001423601%3C/li%3E%0A%20%20%20%20%20%20%20%20%20%20%20%20%20%20%20%20%3Cli%3E%3Cspan%20style%3D%27background%3A%23dbdb8d%27%3E%3C/span%3E06001423602%3C/li%3E%0A%20%20%20%20%20%20%20%20%20%20%20%20%20%20%20%20%3Cli%3E%3Cspan%20style%3D%27background%3A%239edae5%27%3E%3C/span%3E06001423902%3C/li%3E%0A%20%20%20%20%20%20%20%20%20%20%20%20%3C/ul%3E%0A%20%20%20%20%20%20%20%20%3C/div%3E%0A%20%20%20%20%3C/div%3E%0A%20%20%20%20%0A%20%20%20%20%0A%20%20%20%20%20%20%20%20%20%20%20%20%3Cdiv%20class%3D%22folium-map%22%20id%3D%22map_eff80407cdd040c582b46b719410bd32%22%20%3E%3C/div%3E%0A%20%20%20%20%20%20%20%20%0A%3C/body%3E%0A%3Cscript%3E%20%20%20%20%0A%20%20%20%20%0A%20%20%20%20%20%20%20%20%20%20%20%20var%20map_eff80407cdd040c582b46b719410bd32%20%3D%20L.map%28%0A%20%20%20%20%20%20%20%20%20%20%20%20%20%20%20%20%22map_eff80407cdd040c582b46b719410bd32%22%2C%0A%20%20%20%20%20%20%20%20%20%20%20%20%20%20%20%20%7B%0A%20%20%20%20%20%20%20%20%20%20%20%20%20%20%20%20%20%20%20%20center%3A%20%5B37.83538499999999%2C%20-122.266847%5D%2C%0A%20%20%20%20%20%20%20%20%20%20%20%20%20%20%20%20%20%20%20%20crs%3A%20L.CRS.EPSG3857%2C%0A%20%20%20%20%20%20%20%20%20%20%20%20%20%20%20%20%20%20%20%20zoom%3A%2010%2C%0A%20%20%20%20%20%20%20%20%20%20%20%20%20%20%20%20%20%20%20%20zoomControl%3A%20true%2C%0A%20%20%20%20%20%20%20%20%20%20%20%20%20%20%20%20%20%20%20%20preferCanvas%3A%20false%2C%0A%20%20%20%20%20%20%20%20%20%20%20%20%20%20%20%20%7D%0A%20%20%20%20%20%20%20%20%20%20%20%20%29%3B%0A%20%20%20%20%20%20%20%20%20%20%20%20L.control.scale%28%29.addTo%28map_eff80407cdd040c582b46b719410bd32%29%3B%0A%0A%20%20%20%20%20%20%20%20%20%20%20%20%0A%0A%20%20%20%20%20%20%20%20%0A%20%20%20%20%0A%20%20%20%20%20%20%20%20%20%20%20%20var%20tile_layer_9deb6ac2334443949df446e8fdfcdd63%20%3D%20L.tileLayer%28%0A%20%20%20%20%20%20%20%20%20%20%20%20%20%20%20%20%22https%3A//a.basemaps.cartocdn.com/light_all/%7Bz%7D/%7Bx%7D/%7By%7D%7Br%7D.png%22%2C%0A%20%20%20%20%20%20%20%20%20%20%20%20%20%20%20%20%7B%22attribution%22%3A%20%22%5Cu0026copy%3B%20%5Cu003ca%20href%3D%5C%22https%3A//www.openstreetmap.org/copyright%5C%22%5Cu003eOpenStreetMap%5Cu003c/a%5Cu003e%20contributors%20%5Cu0026copy%3B%20%5Cu003ca%20href%3D%5C%22https%3A//carto.com/attributions%5C%22%5Cu003eCARTO%5Cu003c/a%5Cu003e%22%2C%20%22detectRetina%22%3A%20false%2C%20%22maxNativeZoom%22%3A%2020%2C%20%22maxZoom%22%3A%2020%2C%20%22minZoom%22%3A%200%2C%20%22noWrap%22%3A%20false%2C%20%22opacity%22%3A%201%2C%20%22subdomains%22%3A%20%22abc%22%2C%20%22tms%22%3A%20false%7D%0A%20%20%20%20%20%20%20%20%20%20%20%20%29.addTo%28map_eff80407cdd040c582b46b719410bd32%29%3B%0A%20%20%20%20%20%20%20%20%0A%20%20%20%20%0A%20%20%20%20%20%20%20%20%20%20%20%20map_eff80407cdd040c582b46b719410bd32.fitBounds%28%0A%20%20%20%20%20%20%20%20%20%20%20%20%20%20%20%20%5B%5B37.80225400000002%2C%20-122.275329%5D%2C%20%5B37.86851599999996%2C%20-122.258365%5D%5D%2C%0A%20%20%20%20%20%20%20%20%20%20%20%20%20%20%20%20%7B%7D%0A%20%20%20%20%20%20%20%20%20%20%20%20%29%3B%0A%20%20%20%20%20%20%20%20%0A%20%20%20%20%0A%20%20%20%20%20%20%20%20function%20geo_json_65608f2ac6f14716804e18d87763f5df_styler%28feature%29%20%7B%0A%20%20%20%20%20%20%20%20%20%20%20%20switch%28feature.id%29%20%7B%0A%20%20%20%20%20%20%20%20%20%20%20%20%20%20%20%20case%20%220%22%3A%20%0A%20%20%20%20%20%20%20%20%20%20%20%20%20%20%20%20%20%20%20%20return%20%7B%22color%22%3A%20%22%231f77b4%22%2C%20%22fillColor%22%3A%20%22%231f77b4%22%2C%20%22fillOpacity%22%3A%200.5%2C%20%22weight%22%3A%202%7D%3B%0A%20%20%20%20%20%20%20%20%20%20%20%20%20%20%20%20case%20%221%22%3A%20%0A%20%20%20%20%20%20%20%20%20%20%20%20%20%20%20%20%20%20%20%20return%20%7B%22color%22%3A%20%22%23ff7f0e%22%2C%20%22fillColor%22%3A%20%22%23ff7f0e%22%2C%20%22fillOpacity%22%3A%200.5%2C%20%22weight%22%3A%202%7D%3B%0A%20%20%20%20%20%20%20%20%20%20%20%20%20%20%20%20case%20%222%22%3A%20%0A%20%20%20%20%20%20%20%20%20%20%20%20%20%20%20%20%20%20%20%20return%20%7B%22color%22%3A%20%22%2398df8a%22%2C%20%22fillColor%22%3A%20%22%2398df8a%22%2C%20%22fillOpacity%22%3A%200.5%2C%20%22weight%22%3A%202%7D%3B%0A%20%20%20%20%20%20%20%20%20%20%20%20%20%20%20%20case%20%224%22%3A%20%0A%20%20%20%20%20%20%20%20%20%20%20%20%20%20%20%20%20%20%20%20return%20%7B%22color%22%3A%20%22%238c564b%22%2C%20%22fillColor%22%3A%20%22%238c564b%22%2C%20%22fillOpacity%22%3A%200.5%2C%20%22weight%22%3A%202%7D%3B%0A%20%20%20%20%20%20%20%20%20%20%20%20%20%20%20%20case%20%225%22%3A%20%0A%20%20%20%20%20%20%20%20%20%20%20%20%20%20%20%20%20%20%20%20return%20%7B%22color%22%3A%20%22%23e377c2%22%2C%20%22fillColor%22%3A%20%22%23e377c2%22%2C%20%22fillOpacity%22%3A%200.5%2C%20%22weight%22%3A%202%7D%3B%0A%20%20%20%20%20%20%20%20%20%20%20%20%20%20%20%20case%20%226%22%3A%20%0A%20%20%20%20%20%20%20%20%20%20%20%20%20%20%20%20%20%20%20%20return%20%7B%22color%22%3A%20%22%23c7c7c7%22%2C%20%22fillColor%22%3A%20%22%23c7c7c7%22%2C%20%22fillOpacity%22%3A%200.5%2C%20%22weight%22%3A%202%7D%3B%0A%20%20%20%20%20%20%20%20%20%20%20%20%20%20%20%20case%20%227%22%3A%20%0A%20%20%20%20%20%20%20%20%20%20%20%20%20%20%20%20%20%20%20%20return%20%7B%22color%22%3A%20%22%23dbdb8d%22%2C%20%22fillColor%22%3A%20%22%23dbdb8d%22%2C%20%22fillOpacity%22%3A%200.5%2C%20%22weight%22%3A%202%7D%3B%0A%20%20%20%20%20%20%20%20%20%20%20%20%20%20%20%20case%20%228%22%3A%20%0A%20%20%20%20%20%20%20%20%20%20%20%20%20%20%20%20%20%20%20%20return%20%7B%22color%22%3A%20%22%239edae5%22%2C%20%22fillColor%22%3A%20%22%239edae5%22%2C%20%22fillOpacity%22%3A%200.5%2C%20%22weight%22%3A%202%7D%3B%0A%20%20%20%20%20%20%20%20%20%20%20%20%20%20%20%20default%3A%0A%20%20%20%20%20%20%20%20%20%20%20%20%20%20%20%20%20%20%20%20return%20%7B%22color%22%3A%20%22%23ff9896%22%2C%20%22fillColor%22%3A%20%22%23ff9896%22%2C%20%22fillOpacity%22%3A%200.5%2C%20%22weight%22%3A%202%7D%3B%0A%20%20%20%20%20%20%20%20%20%20%20%20%7D%0A%20%20%20%20%20%20%20%20%7D%0A%20%20%20%20%20%20%20%20function%20geo_json_65608f2ac6f14716804e18d87763f5df_highlighter%28feature%29%20%7B%0A%20%20%20%20%20%20%20%20%20%20%20%20switch%28feature.id%29%20%7B%0A%20%20%20%20%20%20%20%20%20%20%20%20%20%20%20%20default%3A%0A%20%20%20%20%20%20%20%20%20%20%20%20%20%20%20%20%20%20%20%20return%20%7B%22fillOpacity%22%3A%200.75%7D%3B%0A%20%20%20%20%20%20%20%20%20%20%20%20%7D%0A%20%20%20%20%20%20%20%20%7D%0A%20%20%20%20%20%20%20%20function%20geo_json_65608f2ac6f14716804e18d87763f5df_pointToLayer%28feature%2C%20latlng%29%20%7B%0A%20%20%20%20%20%20%20%20%20%20%20%20var%20opts%20%3D%20%7B%22bubblingMouseEvents%22%3A%20true%2C%20%22color%22%3A%20%22%233388ff%22%2C%20%22dashArray%22%3A%20null%2C%20%22dashOffset%22%3A%20null%2C%20%22fill%22%3A%20true%2C%20%22fillColor%22%3A%20%22%233388ff%22%2C%20%22fillOpacity%22%3A%200.2%2C%20%22fillRule%22%3A%20%22evenodd%22%2C%20%22lineCap%22%3A%20%22round%22%2C%20%22lineJoin%22%3A%20%22round%22%2C%20%22opacity%22%3A%201.0%2C%20%22radius%22%3A%202%2C%20%22stroke%22%3A%20true%2C%20%22weight%22%3A%203%7D%3B%0A%20%20%20%20%20%20%20%20%20%20%20%20%0A%20%20%20%20%20%20%20%20%20%20%20%20let%20style%20%3D%20geo_json_65608f2ac6f14716804e18d87763f5df_styler%28feature%29%0A%20%20%20%20%20%20%20%20%20%20%20%20Object.assign%28opts%2C%20style%29%0A%20%20%20%20%20%20%20%20%20%20%20%20%0A%20%20%20%20%20%20%20%20%20%20%20%20return%20new%20L.CircleMarker%28latlng%2C%20opts%29%0A%20%20%20%20%20%20%20%20%7D%0A%0A%20%20%20%20%20%20%20%20function%20geo_json_65608f2ac6f14716804e18d87763f5df_onEachFeature%28feature%2C%20layer%29%20%7B%0A%20%20%20%20%20%20%20%20%20%20%20%20layer.on%28%7B%0A%20%20%20%20%20%20%20%20%20%20%20%20%20%20%20%20mouseout%3A%20function%28e%29%20%7B%0A%20%20%20%20%20%20%20%20%20%20%20%20%20%20%20%20%20%20%20%20if%28typeof%20e.target.setStyle%20%3D%3D%3D%20%22function%22%29%7B%0A%20%20%20%20%20%20%20%20%20%20%20%20%20%20%20%20%20%20%20%20%20%20%20%20geo_json_65608f2ac6f14716804e18d87763f5df.resetStyle%28e.target%29%3B%0A%20%20%20%20%20%20%20%20%20%20%20%20%20%20%20%20%20%20%20%20%7D%0A%20%20%20%20%20%20%20%20%20%20%20%20%20%20%20%20%7D%2C%0A%20%20%20%20%20%20%20%20%20%20%20%20%20%20%20%20mouseover%3A%20function%28e%29%20%7B%0A%20%20%20%20%20%20%20%20%20%20%20%20%20%20%20%20%20%20%20%20if%28typeof%20e.target.setStyle%20%3D%3D%3D%20%22function%22%29%7B%0A%20%20%20%20%20%20%20%20%20%20%20%20%20%20%20%20%20%20%20%20%20%20%20%20const%20highlightStyle%20%3D%20geo_json_65608f2ac6f14716804e18d87763f5df_highlighter%28e.target.feature%29%0A%20%20%20%20%20%20%20%20%20%20%20%20%20%20%20%20%20%20%20%20%20%20%20%20e.target.setStyle%28highlightStyle%29%3B%0A%20%20%20%20%20%20%20%20%20%20%20%20%20%20%20%20%20%20%20%20%7D%0A%20%20%20%20%20%20%20%20%20%20%20%20%20%20%20%20%7D%2C%0A%20%20%20%20%20%20%20%20%20%20%20%20%7D%29%3B%0A%20%20%20%20%20%20%20%20%7D%3B%0A%20%20%20%20%20%20%20%20var%20geo_json_65608f2ac6f14716804e18d87763f5df%20%3D%20L.geoJson%28null%2C%20%7B%0A%20%20%20%20%20%20%20%20%20%20%20%20%20%20%20%20onEachFeature%3A%20geo_json_65608f2ac6f14716804e18d87763f5df_onEachFeature%2C%0A%20%20%20%20%20%20%20%20%20%20%20%20%0A%20%20%20%20%20%20%20%20%20%20%20%20%20%20%20%20style%3A%20geo_json_65608f2ac6f14716804e18d87763f5df_styler%2C%0A%20%20%20%20%20%20%20%20%20%20%20%20%20%20%20%20pointToLayer%3A%20geo_json_65608f2ac6f14716804e18d87763f5df_pointToLayer%0A%20%20%20%20%20%20%20%20%7D%29%3B%0A%0A%20%20%20%20%20%20%20%20function%20geo_json_65608f2ac6f14716804e18d87763f5df_add%20%28data%29%20%7B%0A%20%20%20%20%20%20%20%20%20%20%20%20geo_json_65608f2ac6f14716804e18d87763f5df%0A%20%20%20%20%20%20%20%20%20%20%20%20%20%20%20%20.addData%28data%29%0A%20%20%20%20%20%20%20%20%20%20%20%20%20%20%20%20.addTo%28map_eff80407cdd040c582b46b719410bd32%29%3B%0A%20%20%20%20%20%20%20%20%7D%0A%20%20%20%20%20%20%20%20%20%20%20%20geo_json_65608f2ac6f14716804e18d87763f5df_add%28%7B%22bbox%22%3A%20%5B-122.275329%2C%2037.80225400000002%2C%20-122.258365%2C%2037.86851599999996%5D%2C%20%22features%22%3A%20%5B%7B%22bbox%22%3A%20%5B-122.262174%2C%2037.838173000000005%2C%20-122.261705%2C%2037.84106999999999%5D%2C%20%22geometry%22%3A%20%7B%22coordinates%22%3A%20%5B%5B-122.262174%2C%2037.838173000000005%5D%2C%20%5B-122.262091%2C%2037.83833999999998%5D%2C%20%5B-122.26203199999999%2C%2037.838461000000024%5D%2C%20%5B-122.26206100000002%2C%2037.838639%5D%2C%20%5B-122.26208899999999%2C%2037.83881799999997%5D%2C%20%5B-122.262067%2C%2037.83899700000002%5D%2C%20%5B-122.26204100000001%2C%2037.839176%5D%2C%20%5B-122.26201700000001%2C%2037.83935400000002%5D%2C%20%5B-122.26199299999999%2C%2037.83953299999999%5D%2C%20%5B-122.26196900000001%2C%2037.83971199999998%5D%2C%20%5B-122.261958%2C%2037.83978600000001%5D%2C%20%5B-122.261866%2C%2037.83995099999997%5D%2C%20%5B-122.26181299999999%2C%2037.84004700000002%5D%2C%20%5B-122.26184200000002%2C%2037.840225000000046%5D%2C%20%5B-122.261866%2C%2037.840374000000004%5D%2C%20%5B-122.261852%2C%2037.84046699999996%5D%2C%20%5B-122.261796%2C%2037.84052600000004%5D%2C%20%5B-122.26177100000001%2C%2037.84068899999997%5D%2C%20%5B-122.26175200000002%2C%2037.84081299999998%5D%2C%20%5B-122.26172800000002%2C%2037.840940999999965%5D%2C%20%5B-122.261705%2C%2037.84106999999999%5D%5D%2C%20%22type%22%3A%20%22LineString%22%7D%2C%20%22id%22%3A%20%220%22%2C%20%22properties%22%3A%20%7B%22__folium_color%22%3A%20%22%231f77b4%22%2C%20%22shape_array_key%22%3A%20%223caab5c44277cbdc8fbc755bc0ea7633%22%2C%20%22tract%22%3A%20%2206001400300%22%7D%2C%20%22type%22%3A%20%22Feature%22%7D%2C%20%7B%22bbox%22%3A%20%5B-122.26586969642868%2C%2037.8238522300393%2C%20-122.262331%2C%2037.83705300000004%5D%2C%20%22geometry%22%3A%20%7B%22coordinates%22%3A%20%5B%5B-122.26586969642868%2C%2037.8238522300393%5D%2C%20%5B-122.26585%2C%2037.82393399999999%5D%2C%20%5B-122.265829%2C%2037.824024999999985%5D%2C%20%5B-122.265793%2C%2037.824164%5D%2C%20%5B-122.26574600000001%2C%2037.824340000000014%5D%2C%20%5B-122.26569800000001%2C%2037.824516%5D%2C%20%5B-122.265675%2C%2037.82460099999996%5D%2C%20%5B-122.265636%2C%2037.824744%5D%2C%20%5B-122.26559300000001%2C%2037.82489499999998%5D%2C%20%5B-122.26554499999999%2C%2037.82507100000003%5D%2C%20%5B-122.265498%2C%2037.82524700000001%5D%2C%20%5B-122.265463%2C%2037.82537400000003%5D%2C%20%5B-122.265417%2C%2037.82555%5D%2C%20%5B-122.265393%2C%2037.825641999999995%5D%2C%20%5B-122.265345%2C%2037.825818%5D%2C%20%5B-122.265297%2C%2037.825994%5D%2C%20%5B-122.26526500000001%2C%2037.826112000000016%5D%2C%20%5B-122.26521499999998%2C%2037.82628800000001%5D%2C%20%5B-122.265198%2C%2037.82634899999994%5D%2C%20%5B-122.265173%2C%2037.82644100000004%5D%2C%20%5B-122.265129%2C%2037.82661699999998%5D%2C%20%5B-122.265025%2C%2037.82677700000001%5D%2C%20%5B-122.26495900000002%2C%2037.82687900000003%5D%2C%20%5B-122.26497100000002%2C%2037.82705899999999%5D%2C%20%5B-122.264981%2C%2037.827196%5D%2C%20%5B-122.26493200000002%2C%2037.82737199999998%5D%2C%20%5B-122.264891%2C%2037.827525%5D%2C%20%5B-122.264844%2C%2037.82770099999999%5D%2C%20%5B-122.26479700000002%2C%2037.82787700000003%5D%2C%20%5B-122.26474900000001%2C%2037.828052999999976%5D%2C%20%5B-122.264708%2C%2037.82820699999999%5D%2C%20%5B-122.26466%2C%2037.82838299999999%5D%2C%20%5B-122.264612%2C%2037.828559%5D%2C%20%5B-122.264601%2C%2037.82860000000001%5D%2C%20%5B-122.26455199999998%2C%2037.828776000000005%5D%2C%20%5B-122.26450299999999%2C%2037.828950999999996%5D%2C%20%5B-122.26446399999999%2C%2037.82909000000001%5D%2C%20%5B-122.264432%2C%2037.82919899999998%5D%2C%20%5B-122.264316%2C%2037.82935399999998%5D%2C%20%5B-122.26421500000001%2C%2037.82949000000003%5D%2C%20%5B-122.26423200000002%2C%2037.82966900000003%5D%2C%20%5B-122.264249%2C%2037.82984899999996%5D%2C%20%5B-122.26423200000002%2C%2037.829952999999996%5D%2C%20%5B-122.264186%2C%2037.83012899999999%5D%2C%20%5B-122.264174%2C%2037.83017600000002%5D%2C%20%5B-122.26412799999999%2C%2037.83035199999996%5D%2C%20%5B-122.26411599999999%2C%2037.83039599999998%5D%2C%20%5B-122.26407000000002%2C%2037.83057200000001%5D%2C%20%5B-122.264024%2C%2037.830747999999964%5D%2C%20%5B-122.263995%2C%2037.830858%5D%2C%20%5B-122.26394700000002%2C%2037.83103399999998%5D%2C%20%5B-122.26392900000002%2C%2037.83109999999999%5D%2C%20%5B-122.26388%2C%2037.83127599999996%5D%2C%20%5B-122.263865%2C%2037.831331000000006%5D%2C%20%5B-122.263817%2C%2037.831507%5D%2C%20%5B-122.263801%2C%2037.83156400000001%5D%2C%20%5B-122.26375%2C%2037.831739000000006%5D%2C%20%5B-122.263699%2C%2037.83191499999998%5D%2C%20%5B-122.26365299999999%2C%2037.83207399999997%5D%2C%20%5B-122.26360199999999%2C%2037.832249000000004%5D%2C%20%5B-122.26355400000001%2C%2037.83242500000002%5D%2C%20%5B-122.26350599999999%2C%2037.83260099999998%5D%2C%20%5B-122.263466%2C%2037.83274999999996%5D%2C%20%5B-122.263399%2C%2037.832809000000026%5D%2C%20%5B-122.26336200000001%2C%2037.832985999999984%5D%2C%20%5B-122.26334700000001%2C%2037.83305700000002%5D%2C%20%5B-122.26327200000001%2C%2037.83322700000001%5D%2C%20%5B-122.26323200000002%2C%2037.83331699999996%5D%2C%20%5B-122.26320899999999%2C%2037.83349599999998%5D%2C%20%5B-122.263192%2C%2037.83362500000001%5D%2C%20%5B-122.26312800000001%2C%2037.833797999999994%5D%2C%20%5B-122.263115%2C%2037.83384100000001%5D%2C%20%5B-122.263159%2C%2037.83394900000002%5D%2C%20%5B-122.263111%2C%2037.83412500000003%5D%2C%20%5B-122.263094%2C%2037.83418799999995%5D%2C%20%5B-122.26305200000002%2C%2037.83434000000001%5D%2C%20%5B-122.263005%2C%2037.834515999999994%5D%2C%20%5B-122.262958%2C%2037.834692000000004%5D%2C%20%5B-122.26294200000001%2C%2037.83475100000001%5D%2C%20%5B-122.262915%2C%2037.83485800000002%5D%2C%20%5B-122.262896%2C%2037.834934999999994%5D%2C%20%5B-122.26287200000002%2C%2037.83503299999997%5D%2C%20%5B-122.262826%2C%2037.83520899999996%5D%2C%20%5B-122.26278%2C%2037.83538499999999%5D%2C%20%5B-122.262734%2C%2037.835560999999984%5D%2C%20%5B-122.262685%2C%2037.835736999999966%5D%2C%20%5B-122.262637%2C%2037.83591299999998%5D%2C%20%5B-122.262622%2C%2037.835964999999995%5D%2C%20%5B-122.262573%2C%2037.83614099999994%5D%2C%20%5B-122.26254300000001%2C%2037.83624500000002%5D%2C%20%5B-122.26249400000002%2C%2037.836420999999966%5D%2C%20%5B-122.262445%2C%2037.836596%5D%2C%20%5B-122.26242%2C%2037.83668400000002%5D%2C%20%5B-122.26239199999999%2C%2037.83678099999999%5D%2C%20%5B-122.262379%2C%2037.83684399999999%5D%2C%20%5B-122.26235000000001%2C%2037.83695499999996%5D%2C%20%5B-122.262331%2C%2037.83705300000004%5D%5D%2C%20%22type%22%3A%20%22LineString%22%7D%2C%20%22id%22%3A%20%221%22%2C%20%22properties%22%3A%20%7B%22__folium_color%22%3A%20%22%23ff7f0e%22%2C%20%22shape_array_key%22%3A%20%223caab5c44277cbdc8fbc755bc0ea7633%22%2C%20%22tract%22%3A%20%2206001401100%22%7D%2C%20%22type%22%3A%20%22Feature%22%7D%2C%20%7B%22bbox%22%3A%20%5B-122.26897606386338%2C%2037.81194258489723%2C%20-122.26587770134967%2C%2037.82381899746148%5D%2C%20%22geometry%22%3A%20%7B%22coordinates%22%3A%20%5B%5B-122.26897606386338%2C%2037.81194258489723%5D%2C%20%5B-122.26897399999999%2C%2037.81195599999999%5D%2C%20%5B-122.26892600000001%2C%2037.81213199999997%5D%2C%20%5B-122.2689%2C%2037.81222600000001%5D%2C%20%5B-122.268852%2C%2037.81240200000006%5D%2C%20%5B-122.268804%2C%2037.81257799999999%5D%2C%20%5B-122.268762%2C%2037.812754000000005%5D%2C%20%5B-122.26872199999998%2C%2037.81292100000007%5D%2C%20%5B-122.26868%2C%2037.81309799999998%5D%2C%20%5B-122.26864000000002%2C%2037.81326499999999%5D%2C%20%5B-122.26859200000001%2C%2037.81344100000004%5D%2C%20%5B-122.268545%2C%2037.813617%5D%2C%20%5B-122.26849899999999%2C%2037.813793%5D%2C%20%5B-122.26841899999998%2C%2037.81396099999998%5D%2C%20%5B-122.26835799999999%2C%2037.81409100000001%5D%2C%20%5B-122.26834300000002%2C%2037.81426999999998%5D%2C%20%5B-122.26832800000001%2C%2037.81444999999995%5D%2C%20%5B-122.26832200000001%2C%2037.81451800000001%5D%2C%20%5B-122.26828300000001%2C%2037.814664000000036%5D%2C%20%5B-122.268243%2C%2037.814828999999996%5D%2C%20%5B-122.26820100000002%2C%2037.815006%5D%2C%20%5B-122.26818999999999%2C%2037.81504999999999%5D%2C%20%5B-122.268147%2C%2037.81522700000001%5D%2C%20%5B-122.26810399999998%2C%2037.81540300000002%5D%2C%20%5B-122.26809399999999%2C%2037.81544300000001%5D%2C%20%5B-122.268051%2C%2037.81561999999999%5D%2C%20%5B-122.268008%2C%2037.81579600000002%5D%2C%20%5B-122.26796499999999%2C%2037.81597299999994%5D%2C%20%5B-122.26792900000001%2C%2037.816122000000064%5D%2C%20%5B-122.26791100000001%2C%2037.81617500000001%5D%2C%20%5B-122.26789600000001%2C%2037.81624099999999%5D%2C%20%5B-122.267792%2C%2037.81640099999998%5D%2C%20%5B-122.267705%2C%2037.816533999999976%5D%2C%20%5B-122.26771899999999%2C%2037.81671399999999%5D%2C%20%5B-122.26773099999998%2C%2037.81687899999994%5D%2C%20%5B-122.26768599999998%2C%2037.81705500000002%5D%2C%20%5B-122.267656%2C%2037.81717099999997%5D%2C%20%5B-122.267617%2C%2037.817319000000026%5D%2C%20%5B-122.267572%2C%2037.817495000000015%5D%2C%20%5B-122.267527%2C%2037.817671999999995%5D%2C%20%5B-122.26748100000002%2C%2037.81784799999998%5D%2C%20%5B-122.26746900000002%2C%2037.817896%5D%2C%20%5B-122.26742400000002%2C%2037.818071999999994%5D%2C%20%5B-122.267381%2C%2037.81824199999999%5D%2C%20%5B-122.267335%2C%2037.81841800000005%5D%2C%20%5B-122.26729500000002%2C%2037.81856899999998%5D%2C%20%5B-122.26724900000002%2C%2037.818744999999986%5D%2C%20%5B-122.26720299999998%2C%2037.818920999999975%5D%2C%20%5B-122.267168%2C%2037.819055000000034%5D%2C%20%5B-122.26712000000002%2C%2037.81923100000004%5D%2C%20%5B-122.267047%2C%2037.819401000000035%5D%2C%20%5B-122.26697399999999%2C%2037.81957099999998%5D%2C%20%5B-122.26694000000002%2C%2037.81965000000003%5D%2C%20%5B-122.266927%2C%2037.819829999999996%5D%2C%20%5B-122.266916%2C%2037.81998599999998%5D%2C%20%5B-122.26686900000001%2C%2037.82016200000002%5D%2C%20%5B-122.26682100000001%2C%2037.820337999999964%5D%2C%20%5B-122.266774%2C%2037.82051400000002%5D%2C%20%5B-122.266732%2C%2037.82066999999998%5D%2C%20%5B-122.266685%2C%2037.820846%5D%2C%20%5B-122.266663%2C%2037.82092599999998%5D%2C%20%5B-122.266616%2C%2037.82110199999996%5D%2C%20%5B-122.266569%2C%2037.82127799999996%5D%2C%20%5B-122.266551%2C%2037.82134399999999%5D%2C%20%5B-122.266506%2C%2037.821519999999985%5D%2C%20%5B-122.26647500000001%2C%2037.82164099999999%5D%2C%20%5B-122.266427%2C%2037.821817%5D%2C%20%5B-122.26637900000001%2C%2037.82199300000004%5D%2C%20%5B-122.26634099999998%2C%2037.82212900000002%5D%2C%20%5B-122.26629199999999%2C%2037.82230499999997%5D%2C%20%5B-122.266209%2C%2037.822472%5D%2C%20%5B-122.26613000000002%2C%2037.82263000000003%5D%2C%20%5B-122.26612100000001%2C%2037.822809999999976%5D%2C%20%5B-122.26611199999999%2C%2037.82298900000002%5D%2C%20%5B-122.266063%2C%2037.823164999999925%5D%2C%20%5B-122.266041%2C%2037.82324199999997%5D%2C%20%5B-122.266006%2C%2037.82336000000001%5D%2C%20%5B-122.26599400000002%2C%2037.82340799999995%5D%2C%20%5B-122.26596200000002%2C%2037.823519000000005%5D%2C%20%5B-122.265921%2C%2037.823652%5D%2C%20%5B-122.265883%2C%2037.823797%5D%2C%20%5B-122.26587770134967%2C%2037.82381899746148%5D%5D%2C%20%22type%22%3A%20%22LineString%22%7D%2C%20%22id%22%3A%20%222%22%2C%20%22properties%22%3A%20%7B%22__folium_color%22%3A%20%22%2398df8a%22%2C%20%22shape_array_key%22%3A%20%223caab5c44277cbdc8fbc755bc0ea7633%22%2C%20%22tract%22%3A%20%2206001401300%22%7D%2C%20%22type%22%3A%20%22Feature%22%7D%2C%20%7B%22bbox%22%3A%20%5B-122.269483%2C%2037.80918699999996%2C%20-122.26853%2C%2037.81194475987493%5D%2C%20%22geometry%22%3A%20%7B%22coordinates%22%3A%20%5B%5B-122.26853%2C%2037.80918699999996%5D%2C%20%5B-122.26873400000001%2C%2037.80926699999998%5D%2C%20%5B-122.268938%2C%2037.80934699999997%5D%2C%20%5B-122.26913%2C%2037.809444%5D%2C%20%5B-122.26932100000002%2C%2037.809541%5D%2C%20%5B-122.269413%2C%2037.80958699999998%5D%2C%20%5B-122.26945600000002%2C%2037.80976400000003%5D%2C%20%5B-122.269483%2C%2037.80987799999996%5D%2C%20%5B-122.26944800000001%2C%2037.81001000000002%5D%2C%20%5B-122.26940599999999%2C%2037.81018700000003%5D%2C%20%5B-122.269374%2C%2037.81032099999996%5D%2C%20%5B-122.269329%2C%2037.81049700000001%5D%2C%20%5B-122.26928299999999%2C%2037.81067299999997%5D%2C%20%5B-122.269252%2C%2037.81079500000003%5D%2C%20%5B-122.269206%2C%2037.810971%5D%2C%20%5B-122.269188%2C%2037.811041000000024%5D%2C%20%5B-122.26914799999999%2C%2037.811211000000014%5D%2C%20%5B-122.269104%2C%2037.81138700000004%5D%2C%20%5B-122.26906999999999%2C%2037.811526999999984%5D%2C%20%5B-122.269026%2C%2037.81170299999997%5D%2C%20%5B-122.268996%2C%2037.81182399999998%5D%2C%20%5B-122.268984%2C%2037.811891000000024%5D%2C%20%5B-122.26897572925124%2C%2037.81194475987493%5D%5D%2C%20%22type%22%3A%20%22LineString%22%7D%2C%20%22id%22%3A%20%223%22%2C%20%22properties%22%3A%20%7B%22__folium_color%22%3A%20%22%23ff9896%22%2C%20%22shape_array_key%22%3A%20%223caab5c44277cbdc8fbc755bc0ea7633%22%2C%20%22tract%22%3A%20%2206001402800%22%7D%2C%20%22type%22%3A%20%22Feature%22%7D%2C%20%7B%22bbox%22%3A%20%5B-122.275329%2C%2037.80225400000002%2C%20-122.27280100000002%2C%2037.80320299999999%5D%2C%20%22geometry%22%3A%20%7B%22coordinates%22%3A%20%5B%5B-122.27445600000001%2C%2037.80225400000002%5D%2C%20%5B-122.274678%2C%2037.80229299999999%5D%2C%20%5B-122.27490000000002%2C%2037.80233299999995%5D%2C%20%5B-122.27510400000001%2C%2037.80241199999999%5D%2C%20%5B-122.275172%2C%2037.80244000000006%5D%2C%20%5B-122.275329%2C%2037.802504999999975%5D%2C%20%5B-122.275229%2C%2037.80266699999995%5D%2C%20%5B-122.27513%2C%2037.80282800000002%5D%2C%20%5B-122.27502999999999%2C%2037.802990000000015%5D%2C%20%5B-122.27493000000001%2C%2037.803152%5D%2C%20%5B-122.274899%2C%2037.80320299999999%5D%2C%20%5B-122.274729%2C%2037.80314500000004%5D%2C%20%5B-122.274557%2C%2037.80302699999997%5D%2C%20%5B-122.274464%2C%2037.802962999999984%5D%2C%20%5B-122.274244%2C%2037.802914999999985%5D%2C%20%5B-122.274025%2C%2037.80286800000004%5D%2C%20%5B-122.273821%2C%2037.80278800000002%5D%2C%20%5B-122.273617%2C%2037.802708000000045%5D%2C%20%5B-122.273413%2C%2037.80262800000003%5D%2C%20%5B-122.273209%2C%2037.80254900000002%5D%2C%20%5B-122.273005%2C%2037.802468999999995%5D%2C%20%5B-122.27280100000002%2C%2037.80238899999999%5D%5D%2C%20%22type%22%3A%20%22LineString%22%7D%2C%20%22id%22%3A%20%224%22%2C%20%22properties%22%3A%20%7B%22__folium_color%22%3A%20%22%238c564b%22%2C%20%22shape_array_key%22%3A%20%223caab5c44277cbdc8fbc755bc0ea7633%22%2C%20%22tract%22%3A%20%2206001403100%22%7D%2C%20%22type%22%3A%20%22Feature%22%7D%2C%20%7B%22bbox%22%3A%20%5B-122.25914600000002%2C%2037.86515596830683%2C%20-122.2584244799654%2C%2037.86851599999996%5D%2C%20%22geometry%22%3A%20%7B%22coordinates%22%3A%20%5B%5B-122.2584244799654%2C%2037.86515596830683%5D%2C%20%5B-122.258427%2C%2037.86516300000001%5D%2C%20%5B-122.25847700000001%2C%2037.86530000000003%5D%2C%20%5B-122.25851300000001%2C%2037.865477999999975%5D%2C%20%5B-122.25854900000002%2C%2037.865654999999975%5D%2C%20%5B-122.25856700000001%2C%2037.86574700000004%5D%2C%20%5B-122.258603%2C%2037.865924999999976%5D%2C%20%5B-122.25860600000001%2C%2037.86610399999999%5D%2C%20%5B-122.25861%2C%2037.86629299999999%5D%2C%20%5B-122.25868100000001%2C%2037.86646399999998%5D%2C%20%5B-122.258751%2C%2037.86663499999998%5D%2C%20%5B-122.258789%2C%2037.86681200000001%5D%2C%20%5B-122.258812%2C%2037.86691899999997%5D%2C%20%5B-122.258848%2C%2037.86709699999998%5D%2C%20%5B-122.258884%2C%2037.86727400000006%5D%2C%20%5B-122.25892%2C%2037.86745199999999%5D%2C%20%5B-122.258956%2C%2037.86762899999999%5D%2C%20%5B-122.258992%2C%2037.867807%5D%2C%20%5B-122.259031%2C%2037.86798399999997%5D%2C%20%5B-122.25906900000001%2C%2037.868162000000005%5D%2C%20%5B-122.25910799999998%2C%2037.86833899999999%5D%2C%20%5B-122.25914600000002%2C%2037.86851599999996%5D%5D%2C%20%22type%22%3A%20%22LineString%22%7D%2C%20%22id%22%3A%20%225%22%2C%20%22properties%22%3A%20%7B%22__folium_color%22%3A%20%22%23e377c2%22%2C%20%22shape_array_key%22%3A%20%223caab5c44277cbdc8fbc755bc0ea7633%22%2C%20%22tract%22%3A%20%2206001422800%22%7D%2C%20%22type%22%3A%20%22Feature%22%7D%2C%20%7B%22bbox%22%3A%20%5B-122.259602%2C%2037.856241646568414%2C%20-122.25886343516174%2C%2037.86144800850283%5D%2C%20%22geometry%22%3A%20%7B%22coordinates%22%3A%20%5B%5B-122.25960105162736%2C%2037.856241646568414%5D%2C%20%5B-122.259602%2C%2037.85632700000005%5D%2C%20%5B-122.259602%2C%2037.85637200000003%5D%2C%20%5B-122.25957899999999%2C%2037.85655100000002%5D%2C%20%5B-122.259555%2C%2037.85672999999998%5D%2C%20%5B-122.259547%2C%2037.85679399999999%5D%2C%20%5B-122.25952799999999%2C%2037.85697300000004%5D%2C%20%5B-122.259511%2C%2037.857126%5D%2C%20%5B-122.25948600000001%2C%2037.85730500000002%5D%2C%20%5B-122.259464%2C%2037.85746299999998%5D%2C%20%5B-122.259439%2C%2037.857642000000006%5D%2C%20%5B-122.259381%2C%2037.857815999999985%5D%2C%20%5B-122.259338%2C%2037.857942000000016%5D%2C%20%5B-122.259342%2C%2037.85812199999999%5D%2C%20%5B-122.25934700000002%2C%2037.858302000000045%5D%2C%20%5B-122.259329%2C%2037.858433000000055%5D%2C%20%5B-122.259301%2C%2037.85861200000002%5D%2C%20%5B-122.259277%2C%2037.85879%5D%2C%20%5B-122.259252%2C%2037.85896900000001%5D%2C%20%5B-122.259227%2C%2037.859148%5D%2C%20%5B-122.259202%2C%2037.859326999999965%5D%2C%20%5B-122.25917700000001%2C%2037.859504999999956%5D%2C%20%5B-122.259115%2C%2037.85967800000003%5D%2C%20%5B-122.259052%2C%2037.85985099999999%5D%2C%20%5B-122.259027%2C%2037.859920999999964%5D%2C%20%5B-122.259046%2C%2037.860099999999974%5D%2C%20%5B-122.259064%2C%2037.860279999999975%5D%2C%20%5B-122.25904%2C%2037.86045800000001%5D%2C%20%5B-122.259015%2C%2037.860636999999954%5D%2C%20%5B-122.25899000000001%2C%2037.86081599999997%5D%2C%20%5B-122.258965%2C%2037.86099499999996%5D%2C%20%5B-122.25894000000001%2C%2037.86117300000001%5D%2C%20%5B-122.25889100000002%2C%2037.86134899999997%5D%2C%20%5B-122.25886343516174%2C%2037.86144800850283%5D%5D%2C%20%22type%22%3A%20%22LineString%22%7D%2C%20%22id%22%3A%20%226%22%2C%20%22properties%22%3A%20%7B%22__folium_color%22%3A%20%22%23c7c7c7%22%2C%20%22shape_array_key%22%3A%20%223caab5c44277cbdc8fbc755bc0ea7633%22%2C%20%22tract%22%3A%20%2206001423601%22%7D%2C%20%22type%22%3A%20%22Feature%22%7D%2C%20%7B%22bbox%22%3A%20%5B-122.25886343516174%2C%2037.86144800850283%2C%20-122.258365%2C%2037.86515596830683%5D%2C%20%22geometry%22%3A%20%7B%22coordinates%22%3A%20%5B%5B-122.25886343516174%2C%2037.86144800850283%5D%2C%20%5B-122.258842%2C%2037.861524999999986%5D%2C%20%5B-122.258818%2C%2037.861610000000006%5D%2C%20%5B-122.258842%2C%2037.86178899999997%5D%2C%20%5B-122.25885500000001%2C%2037.86188700000003%5D%2C%20%5B-122.25882599999998%2C%2037.86206499999997%5D%2C%20%5B-122.25879899999998%2C%2037.86224400000001%5D%2C%20%5B-122.258784%2C%2037.86234000000003%5D%2C%20%5B-122.258764%2C%2037.86251899999999%5D%2C%20%5B-122.258751%2C%2037.86262999999999%5D%2C%20%5B-122.25872300000002%2C%2037.862808999999984%5D%2C%20%5B-122.258646%2C%2037.86297799999998%5D%2C%20%5B-122.258605%2C%2037.86306700000003%5D%2C%20%5B-122.25861899999998%2C%2037.86324699999997%5D%2C%20%5B-122.258634%2C%2037.863426000000004%5D%2C%20%5B-122.25860899999999%2C%2037.86360500000001%5D%2C%20%5B-122.258584%2C%2037.863783999999974%5D%2C%20%5B-122.258559%2C%2037.863957%5D%2C%20%5B-122.25853400000001%2C%2037.86413599999996%5D%2C%20%5B-122.258514%2C%2037.864293000000046%5D%2C%20%5B-122.25850400000002%2C%2037.864387999999956%5D%2C%20%5B-122.258479%2C%2037.864567000000044%5D%2C%20%5B-122.258463%2C%2037.86470899999998%5D%2C%20%5B-122.258403%2C%2037.86488200000003%5D%2C%20%5B-122.258365%2C%2037.86498999999999%5D%2C%20%5B-122.2584244799654%2C%2037.86515596830683%5D%5D%2C%20%22type%22%3A%20%22LineString%22%7D%2C%20%22id%22%3A%20%227%22%2C%20%22properties%22%3A%20%7B%22__folium_color%22%3A%20%22%23dbdb8d%22%2C%20%22shape_array_key%22%3A%20%223caab5c44277cbdc8fbc755bc0ea7633%22%2C%20%22tract%22%3A%20%2206001423602%22%7D%2C%20%22type%22%3A%20%22Feature%22%7D%2C%20%7B%22bbox%22%3A%20%5B-122.260077%2C%2037.85297599999998%2C%20-122.259599%2C%2037.85621212559652%5D%2C%20%22geometry%22%3A%20%7B%22coordinates%22%3A%20%5B%5B-122.260077%2C%2037.85297599999998%5D%2C%20%5B-122.260052%2C%2037.853155%5D%2C%20%5B-122.260045%2C%2037.85320100000001%5D%2C%20%5B-122.260001%2C%2037.853377%5D%2C%20%5B-122.25995700000001%2C%2037.85355399999999%5D%2C%20%5B-122.25994%2C%2037.853621999999966%5D%2C%20%5B-122.259935%2C%2037.853802000000044%5D%2C%20%5B-122.25993099999998%2C%2037.85398200000002%5D%2C%20%5B-122.259929%2C%2037.85406000000003%5D%2C%20%5B-122.259905%2C%2037.85423899999999%5D%2C%20%5B-122.259881%2C%2037.85441799999998%5D%2C%20%5B-122.259856%2C%2037.85459600000004%5D%2C%20%5B-122.25983%2C%2037.854775%5D%2C%20%5B-122.259819%2C%2037.85485100000001%5D%2C%20%5B-122.25975200000002%2C%2037.85502299999997%5D%2C%20%5B-122.25971700000001%2C%2037.85511099999996%5D%2C%20%5B-122.259716%2C%2037.855291000000044%5D%2C%20%5B-122.259715%2C%2037.85547100000001%5D%2C%20%5B-122.259715%2C%2037.855555999999964%5D%2C%20%5B-122.25970599999998%2C%2037.85562000000002%5D%2C%20%5B-122.259652%2C%2037.855794999999986%5D%2C%20%5B-122.259599%2C%2037.855967%5D%2C%20%5B-122.2596%2C%2037.856146999999986%5D%2C%20%5B-122.25960072361661%2C%2037.85621212559652%5D%5D%2C%20%22type%22%3A%20%22LineString%22%7D%2C%20%22id%22%3A%20%228%22%2C%20%22properties%22%3A%20%7B%22__folium_color%22%3A%20%22%239edae5%22%2C%20%22shape_array_key%22%3A%20%223caab5c44277cbdc8fbc755bc0ea7633%22%2C%20%22tract%22%3A%20%2206001423902%22%7D%2C%20%22type%22%3A%20%22Feature%22%7D%5D%2C%20%22type%22%3A%20%22FeatureCollection%22%7D%29%3B%0A%0A%20%20%20%20%20%20%20%20%0A%20%20%20%20%0A%20%20%20%20geo_json_65608f2ac6f14716804e18d87763f5df.bindTooltip%28%0A%20%20%20%20function%28layer%29%7B%0A%20%20%20%20let%20div%20%3D%20L.DomUtil.create%28%27div%27%29%3B%0A%20%20%20%20%0A%20%20%20%20let%20handleObject%20%3D%20feature%3D%3Etypeof%28feature%29%3D%3D%27object%27%20%3F%20JSON.stringify%28feature%29%20%3A%20feature%3B%0A%20%20%20%20let%20fields%20%3D%20%5B%22shape_array_key%22%2C%20%22tract%22%5D%3B%0A%20%20%20%20let%20aliases%20%3D%20%5B%22shape_array_key%22%2C%20%22tract%22%5D%3B%0A%20%20%20%20let%20table%20%3D%20%27%3Ctable%3E%27%20%2B%0A%20%20%20%20%20%20%20%20String%28%0A%20%20%20%20%20%20%20%20fields.map%28%0A%20%20%20%20%20%20%20%20%28v%2Ci%29%3D%3E%0A%20%20%20%20%20%20%20%20%60%3Ctr%3E%0A%20%20%20%20%20%20%20%20%20%20%20%20%3Cth%3E%24%7Baliases%5Bi%5D%7D%3C/th%3E%0A%20%20%20%20%20%20%20%20%20%20%20%20%0A%20%20%20%20%20%20%20%20%20%20%20%20%3Ctd%3E%24%7BhandleObject%28layer.feature.properties%5Bv%5D%29%7D%3C/td%3E%0A%20%20%20%20%20%20%20%20%3C/tr%3E%60%29.join%28%27%27%29%29%0A%20%20%20%20%2B%27%3C/table%3E%27%3B%0A%20%20%20%20div.innerHTML%3Dtable%3B%0A%20%20%20%20%0A%20%20%20%20return%20div%0A%20%20%20%20%7D%0A%20%20%20%20%2C%7B%22className%22%3A%20%22foliumtooltip%22%2C%20%22sticky%22%3A%20true%7D%29%3B%0A%20%20%20%20%20%20%20%20%20%20%20%20%20%20%20%20%20%20%20%20%20%0A%3C/script%3E onload=\"this.contentDocument.open();this.contentDocument.write(    decodeURIComponent(this.getAttribute('data-html')));this.contentDocument.close();\" allowfullscreen webkitallowfullscreen mozallowfullscreen></iframe></div></div>"
      ],
      "text/plain": [
       "<folium.folium.Map at 0x7b14657967d0>"
      ]
     },
     "execution_count": 47,
     "metadata": {},
     "output_type": "execute_result"
    }
   ],
   "source": [
    "tract_overlaid.explore(column='tract', tiles='CartoDB Positron', categorical=True)"
   ]
  },
  {
   "cell_type": "code",
   "execution_count": 52,
   "id": "ced9639c-8ee3-48e2-8436-f1d642acbff2",
   "metadata": {
    "tags": []
   },
   "outputs": [
    {
     "data": {
      "text/html": [
       "<div style=\"width:100%;\"><div style=\"position:relative;width:100%;height:0;padding-bottom:60%;\"><span style=\"color:#565656\">Make this Notebook Trusted to load map: File -> Trust Notebook</span><iframe src=\"about:blank\" style=\"position:absolute;width:100%;height:100%;left:0;top:0;border:none !important;\" data-html=%3C%21DOCTYPE%20html%3E%0A%3Chead%3E%20%20%20%20%0A%20%20%20%20%3Cmeta%20http-equiv%3D%22content-type%22%20content%3D%22text/html%3B%20charset%3DUTF-8%22%20/%3E%0A%20%20%20%20%0A%20%20%20%20%20%20%20%20%3Cscript%3E%0A%20%20%20%20%20%20%20%20%20%20%20%20L_NO_TOUCH%20%3D%20false%3B%0A%20%20%20%20%20%20%20%20%20%20%20%20L_DISABLE_3D%20%3D%20false%3B%0A%20%20%20%20%20%20%20%20%3C/script%3E%0A%20%20%20%20%0A%20%20%20%20%3Cstyle%3Ehtml%2C%20body%20%7Bwidth%3A%20100%25%3Bheight%3A%20100%25%3Bmargin%3A%200%3Bpadding%3A%200%3B%7D%3C/style%3E%0A%20%20%20%20%3Cstyle%3E%23map%20%7Bposition%3Aabsolute%3Btop%3A0%3Bbottom%3A0%3Bright%3A0%3Bleft%3A0%3B%7D%3C/style%3E%0A%20%20%20%20%3Cscript%20src%3D%22https%3A//cdn.jsdelivr.net/npm/leaflet%401.6.0/dist/leaflet.js%22%3E%3C/script%3E%0A%20%20%20%20%3Cscript%20src%3D%22https%3A//code.jquery.com/jquery-1.12.4.min.js%22%3E%3C/script%3E%0A%20%20%20%20%3Cscript%20src%3D%22https%3A//maxcdn.bootstrapcdn.com/bootstrap/3.2.0/js/bootstrap.min.js%22%3E%3C/script%3E%0A%20%20%20%20%3Cscript%20src%3D%22https%3A//cdnjs.cloudflare.com/ajax/libs/Leaflet.awesome-markers/2.0.2/leaflet.awesome-markers.js%22%3E%3C/script%3E%0A%20%20%20%20%3Clink%20rel%3D%22stylesheet%22%20href%3D%22https%3A//cdn.jsdelivr.net/npm/leaflet%401.6.0/dist/leaflet.css%22/%3E%0A%20%20%20%20%3Clink%20rel%3D%22stylesheet%22%20href%3D%22https%3A//maxcdn.bootstrapcdn.com/bootstrap/3.2.0/css/bootstrap.min.css%22/%3E%0A%20%20%20%20%3Clink%20rel%3D%22stylesheet%22%20href%3D%22https%3A//maxcdn.bootstrapcdn.com/bootstrap/3.2.0/css/bootstrap-theme.min.css%22/%3E%0A%20%20%20%20%3Clink%20rel%3D%22stylesheet%22%20href%3D%22https%3A//maxcdn.bootstrapcdn.com/font-awesome/4.6.3/css/font-awesome.min.css%22/%3E%0A%20%20%20%20%3Clink%20rel%3D%22stylesheet%22%20href%3D%22https%3A//cdnjs.cloudflare.com/ajax/libs/Leaflet.awesome-markers/2.0.2/leaflet.awesome-markers.css%22/%3E%0A%20%20%20%20%3Clink%20rel%3D%22stylesheet%22%20href%3D%22https%3A//cdn.jsdelivr.net/gh/python-visualization/folium/folium/templates/leaflet.awesome.rotate.min.css%22/%3E%0A%20%20%20%20%0A%20%20%20%20%20%20%20%20%20%20%20%20%3Cmeta%20name%3D%22viewport%22%20content%3D%22width%3Ddevice-width%2C%0A%20%20%20%20%20%20%20%20%20%20%20%20%20%20%20%20initial-scale%3D1.0%2C%20maximum-scale%3D1.0%2C%20user-scalable%3Dno%22%20/%3E%0A%20%20%20%20%20%20%20%20%20%20%20%20%3Cstyle%3E%0A%20%20%20%20%20%20%20%20%20%20%20%20%20%20%20%20%23map_ddd113ef5dd94bda8cca4bfaa1a9bb40%20%7B%0A%20%20%20%20%20%20%20%20%20%20%20%20%20%20%20%20%20%20%20%20position%3A%20relative%3B%0A%20%20%20%20%20%20%20%20%20%20%20%20%20%20%20%20%20%20%20%20width%3A%20100.0%25%3B%0A%20%20%20%20%20%20%20%20%20%20%20%20%20%20%20%20%20%20%20%20height%3A%20100.0%25%3B%0A%20%20%20%20%20%20%20%20%20%20%20%20%20%20%20%20%20%20%20%20left%3A%200.0%25%3B%0A%20%20%20%20%20%20%20%20%20%20%20%20%20%20%20%20%20%20%20%20top%3A%200.0%25%3B%0A%20%20%20%20%20%20%20%20%20%20%20%20%20%20%20%20%7D%0A%20%20%20%20%20%20%20%20%20%20%20%20%3C/style%3E%0A%20%20%20%20%20%20%20%20%0A%20%20%20%20%0A%20%20%20%20%20%20%20%20%20%20%20%20%20%20%20%20%20%20%20%20%3Cstyle%3E%0A%20%20%20%20%20%20%20%20%20%20%20%20%20%20%20%20%20%20%20%20%20%20%20%20.foliumtooltip%20%7B%0A%20%20%20%20%20%20%20%20%20%20%20%20%20%20%20%20%20%20%20%20%20%20%20%20%20%20%20%20%0A%20%20%20%20%20%20%20%20%20%20%20%20%20%20%20%20%20%20%20%20%20%20%20%20%7D%0A%20%20%20%20%20%20%20%20%20%20%20%20%20%20%20%20%20%20%20%20%20%20%20.foliumtooltip%20table%7B%0A%20%20%20%20%20%20%20%20%20%20%20%20%20%20%20%20%20%20%20%20%20%20%20%20%20%20%20%20margin%3A%20auto%3B%0A%20%20%20%20%20%20%20%20%20%20%20%20%20%20%20%20%20%20%20%20%20%20%20%20%7D%0A%20%20%20%20%20%20%20%20%20%20%20%20%20%20%20%20%20%20%20%20%20%20%20%20.foliumtooltip%20tr%7B%0A%20%20%20%20%20%20%20%20%20%20%20%20%20%20%20%20%20%20%20%20%20%20%20%20%20%20%20%20text-align%3A%20left%3B%0A%20%20%20%20%20%20%20%20%20%20%20%20%20%20%20%20%20%20%20%20%20%20%20%20%7D%0A%20%20%20%20%20%20%20%20%20%20%20%20%20%20%20%20%20%20%20%20%20%20%20%20.foliumtooltip%20th%7B%0A%20%20%20%20%20%20%20%20%20%20%20%20%20%20%20%20%20%20%20%20%20%20%20%20%20%20%20%20padding%3A%202px%3B%20padding-right%3A%208px%3B%0A%20%20%20%20%20%20%20%20%20%20%20%20%20%20%20%20%20%20%20%20%20%20%20%20%7D%0A%20%20%20%20%20%20%20%20%20%20%20%20%20%20%20%20%20%20%20%20%3C/style%3E%0A%20%20%20%20%20%20%20%20%20%20%20%20%0A%20%20%20%20%0A%20%20%20%20%3Cscript%20src%3D%22https%3A//code.jquery.com/ui/1.12.1/jquery-ui.js%22%3E%3C/script%3E%0A%20%20%20%20%3Cscript%3E%24%28%20function%28%29%20%7B%0A%20%20%20%20%20%20%20%20%24%28%20%22.maplegend%22%20%29.draggable%28%7B%0A%20%20%20%20%20%20%20%20%20%20%20%20start%3A%20function%20%28event%2C%20ui%29%20%7B%0A%20%20%20%20%20%20%20%20%20%20%20%20%20%20%20%20%24%28this%29.css%28%7B%0A%20%20%20%20%20%20%20%20%20%20%20%20%20%20%20%20%20%20%20%20right%3A%20%22auto%22%2C%0A%20%20%20%20%20%20%20%20%20%20%20%20%20%20%20%20%20%20%20%20top%3A%20%22auto%22%2C%0A%20%20%20%20%20%20%20%20%20%20%20%20%20%20%20%20%20%20%20%20bottom%3A%20%22auto%22%0A%20%20%20%20%20%20%20%20%20%20%20%20%20%20%20%20%7D%29%3B%0A%20%20%20%20%20%20%20%20%20%20%20%20%7D%0A%20%20%20%20%20%20%20%20%7D%29%3B%0A%20%20%20%20%7D%29%3B%0A%20%20%20%20%3C/script%3E%0A%20%20%20%20%3Cstyle%20type%3D%27text/css%27%3E%0A%20%20%20%20%20%20.maplegend%20%7B%0A%20%20%20%20%20%20%20%20position%3A%20absolute%3B%0A%20%20%20%20%20%20%20%20z-index%3A9999%3B%0A%20%20%20%20%20%20%20%20background-color%3A%20rgba%28255%2C%20255%2C%20255%2C%20.8%29%3B%0A%20%20%20%20%20%20%20%20border-radius%3A%205px%3B%0A%20%20%20%20%20%20%20%20box-shadow%3A%200%200%2015px%20rgba%280%2C0%2C0%2C0.2%29%3B%0A%20%20%20%20%20%20%20%20padding%3A%2010px%3B%0A%20%20%20%20%20%20%20%20font%3A%2012px/14px%20Arial%2C%20Helvetica%2C%20sans-serif%3B%0A%20%20%20%20%20%20%20%20right%3A%2010px%3B%0A%20%20%20%20%20%20%20%20bottom%3A%2020px%3B%0A%20%20%20%20%20%20%7D%0A%20%20%20%20%20%20.maplegend%20.legend-title%20%7B%0A%20%20%20%20%20%20%20%20text-align%3A%20left%3B%0A%20%20%20%20%20%20%20%20margin-bottom%3A%205px%3B%0A%20%20%20%20%20%20%20%20font-weight%3A%20bold%3B%0A%20%20%20%20%20%20%20%20%7D%0A%20%20%20%20%20%20.maplegend%20.legend-scale%20ul%20%7B%0A%20%20%20%20%20%20%20%20margin%3A%200%3B%0A%20%20%20%20%20%20%20%20margin-bottom%3A%200px%3B%0A%20%20%20%20%20%20%20%20padding%3A%200%3B%0A%20%20%20%20%20%20%20%20float%3A%20left%3B%0A%20%20%20%20%20%20%20%20list-style%3A%20none%3B%0A%20%20%20%20%20%20%20%20%7D%0A%20%20%20%20%20%20.maplegend%20.legend-scale%20ul%20li%20%7B%0A%20%20%20%20%20%20%20%20list-style%3A%20none%3B%0A%20%20%20%20%20%20%20%20margin-left%3A%200%3B%0A%20%20%20%20%20%20%20%20line-height%3A%2016px%3B%0A%20%20%20%20%20%20%20%20margin-bottom%3A%202px%3B%0A%20%20%20%20%20%20%20%20%7D%0A%20%20%20%20%20%20.maplegend%20ul.legend-labels%20li%20span%20%7B%0A%20%20%20%20%20%20%20%20display%3A%20block%3B%0A%20%20%20%20%20%20%20%20float%3A%20left%3B%0A%20%20%20%20%20%20%20%20height%3A%2014px%3B%0A%20%20%20%20%20%20%20%20width%3A%2014px%3B%0A%20%20%20%20%20%20%20%20margin-right%3A%205px%3B%0A%20%20%20%20%20%20%20%20margin-left%3A%200%3B%0A%20%20%20%20%20%20%20%20border%3A%200px%20solid%20%23ccc%3B%0A%20%20%20%20%20%20%20%20%7D%0A%20%20%20%20%20%20.maplegend%20.legend-source%20%7B%0A%20%20%20%20%20%20%20%20color%3A%20%23777%3B%0A%20%20%20%20%20%20%20%20clear%3A%20both%3B%0A%20%20%20%20%20%20%20%20%7D%0A%20%20%20%20%20%20.maplegend%20a%20%7B%0A%20%20%20%20%20%20%20%20color%3A%20%23777%3B%0A%20%20%20%20%20%20%20%20%7D%0A%20%20%20%20%3C/style%3E%0A%20%20%20%20%0A%3C/head%3E%0A%3Cbody%3E%20%20%20%20%0A%20%20%20%20%0A%20%20%20%20%3Cdiv%20id%3D%27maplegend%20tract%27%20class%3D%27maplegend%27%3E%0A%20%20%20%20%20%20%20%20%3Cdiv%20class%3D%27legend-title%27%3Etract%3C/div%3E%0A%20%20%20%20%20%20%20%20%3Cdiv%20class%3D%27legend-scale%27%3E%0A%20%20%20%20%20%20%20%20%20%20%20%20%3Cul%20class%3D%27legend-labels%27%3E%0A%20%20%20%20%20%20%20%20%20%20%20%20%20%20%20%20%3Cli%3E%3Cspan%20style%3D%27background%3A%231f77b4%27%3E%3C/span%3E06001400300%3C/li%3E%0A%20%20%20%20%20%20%20%20%20%20%20%20%20%20%20%20%3Cli%3E%3Cspan%20style%3D%27background%3A%238c564b%27%3E%3C/span%3E06001401100%3C/li%3E%0A%20%20%20%20%20%20%20%20%20%20%20%20%20%20%20%20%3Cli%3E%3Cspan%20style%3D%27background%3A%239edae5%27%3E%3C/span%3E06001403100%3C/li%3E%0A%20%20%20%20%20%20%20%20%20%20%20%20%3C/ul%3E%0A%20%20%20%20%20%20%20%20%3C/div%3E%0A%20%20%20%20%3C/div%3E%0A%20%20%20%20%0A%20%20%20%20%0A%20%20%20%20%20%20%20%20%20%20%20%20%3Cdiv%20class%3D%22folium-map%22%20id%3D%22map_ddd113ef5dd94bda8cca4bfaa1a9bb40%22%20%3E%3C/div%3E%0A%20%20%20%20%20%20%20%20%0A%3C/body%3E%0A%3Cscript%3E%20%20%20%20%0A%20%20%20%20%0A%20%20%20%20%20%20%20%20%20%20%20%20var%20map_ddd113ef5dd94bda8cca4bfaa1a9bb40%20%3D%20L.map%28%0A%20%20%20%20%20%20%20%20%20%20%20%20%20%20%20%20%22map_ddd113ef5dd94bda8cca4bfaa1a9bb40%22%2C%0A%20%20%20%20%20%20%20%20%20%20%20%20%20%20%20%20%7B%0A%20%20%20%20%20%20%20%20%20%20%20%20%20%20%20%20%20%20%20%20center%3A%20%5B37.821662%2C%20-122.268517%5D%2C%0A%20%20%20%20%20%20%20%20%20%20%20%20%20%20%20%20%20%20%20%20crs%3A%20L.CRS.EPSG3857%2C%0A%20%20%20%20%20%20%20%20%20%20%20%20%20%20%20%20%20%20%20%20zoom%3A%2010%2C%0A%20%20%20%20%20%20%20%20%20%20%20%20%20%20%20%20%20%20%20%20zoomControl%3A%20true%2C%0A%20%20%20%20%20%20%20%20%20%20%20%20%20%20%20%20%20%20%20%20preferCanvas%3A%20false%2C%0A%20%20%20%20%20%20%20%20%20%20%20%20%20%20%20%20%7D%0A%20%20%20%20%20%20%20%20%20%20%20%20%29%3B%0A%20%20%20%20%20%20%20%20%20%20%20%20L.control.scale%28%29.addTo%28map_ddd113ef5dd94bda8cca4bfaa1a9bb40%29%3B%0A%0A%20%20%20%20%20%20%20%20%20%20%20%20%0A%0A%20%20%20%20%20%20%20%20%0A%20%20%20%20%0A%20%20%20%20%20%20%20%20%20%20%20%20var%20tile_layer_0772512c649846a3900d97591ad15678%20%3D%20L.tileLayer%28%0A%20%20%20%20%20%20%20%20%20%20%20%20%20%20%20%20%22https%3A//%7Bs%7D.tile.openstreetmap.org/%7Bz%7D/%7Bx%7D/%7By%7D.png%22%2C%0A%20%20%20%20%20%20%20%20%20%20%20%20%20%20%20%20%7B%22attribution%22%3A%20%22Data%20by%20%5Cu0026copy%3B%20%5Cu003ca%20href%3D%5C%22http%3A//openstreetmap.org%5C%22%5Cu003eOpenStreetMap%5Cu003c/a%5Cu003e%2C%20under%20%5Cu003ca%20href%3D%5C%22http%3A//www.openstreetmap.org/copyright%5C%22%5Cu003eODbL%5Cu003c/a%5Cu003e.%22%2C%20%22detectRetina%22%3A%20false%2C%20%22maxNativeZoom%22%3A%2018%2C%20%22maxZoom%22%3A%2018%2C%20%22minZoom%22%3A%200%2C%20%22noWrap%22%3A%20false%2C%20%22opacity%22%3A%201%2C%20%22subdomains%22%3A%20%22abc%22%2C%20%22tms%22%3A%20false%7D%0A%20%20%20%20%20%20%20%20%20%20%20%20%29.addTo%28map_ddd113ef5dd94bda8cca4bfaa1a9bb40%29%3B%0A%20%20%20%20%20%20%20%20%0A%20%20%20%20%0A%20%20%20%20%20%20%20%20%20%20%20%20map_ddd113ef5dd94bda8cca4bfaa1a9bb40.fitBounds%28%0A%20%20%20%20%20%20%20%20%20%20%20%20%20%20%20%20%5B%5B37.80225400000002%2C%20-122.275329%5D%2C%20%5B37.84106999999999%2C%20-122.261705%5D%5D%2C%0A%20%20%20%20%20%20%20%20%20%20%20%20%20%20%20%20%7B%7D%0A%20%20%20%20%20%20%20%20%20%20%20%20%29%3B%0A%20%20%20%20%20%20%20%20%0A%20%20%20%20%0A%20%20%20%20%20%20%20%20function%20geo_json_fda28334ad894811b1144b1c90d546bb_styler%28feature%29%20%7B%0A%20%20%20%20%20%20%20%20%20%20%20%20switch%28feature.id%29%20%7B%0A%20%20%20%20%20%20%20%20%20%20%20%20%20%20%20%20case%20%220%22%3A%20%0A%20%20%20%20%20%20%20%20%20%20%20%20%20%20%20%20%20%20%20%20return%20%7B%22color%22%3A%20%22%231f77b4%22%2C%20%22fillColor%22%3A%20%22%231f77b4%22%2C%20%22fillOpacity%22%3A%200.5%2C%20%22weight%22%3A%202%7D%3B%0A%20%20%20%20%20%20%20%20%20%20%20%20%20%20%20%20case%20%221%22%3A%20%0A%20%20%20%20%20%20%20%20%20%20%20%20%20%20%20%20%20%20%20%20return%20%7B%22color%22%3A%20%22%238c564b%22%2C%20%22fillColor%22%3A%20%22%238c564b%22%2C%20%22fillOpacity%22%3A%200.5%2C%20%22weight%22%3A%202%7D%3B%0A%20%20%20%20%20%20%20%20%20%20%20%20%20%20%20%20default%3A%0A%20%20%20%20%20%20%20%20%20%20%20%20%20%20%20%20%20%20%20%20return%20%7B%22color%22%3A%20%22%239edae5%22%2C%20%22fillColor%22%3A%20%22%239edae5%22%2C%20%22fillOpacity%22%3A%200.5%2C%20%22weight%22%3A%202%7D%3B%0A%20%20%20%20%20%20%20%20%20%20%20%20%7D%0A%20%20%20%20%20%20%20%20%7D%0A%20%20%20%20%20%20%20%20function%20geo_json_fda28334ad894811b1144b1c90d546bb_highlighter%28feature%29%20%7B%0A%20%20%20%20%20%20%20%20%20%20%20%20switch%28feature.id%29%20%7B%0A%20%20%20%20%20%20%20%20%20%20%20%20%20%20%20%20default%3A%0A%20%20%20%20%20%20%20%20%20%20%20%20%20%20%20%20%20%20%20%20return%20%7B%22fillOpacity%22%3A%200.75%7D%3B%0A%20%20%20%20%20%20%20%20%20%20%20%20%7D%0A%20%20%20%20%20%20%20%20%7D%0A%20%20%20%20%20%20%20%20function%20geo_json_fda28334ad894811b1144b1c90d546bb_pointToLayer%28feature%2C%20latlng%29%20%7B%0A%20%20%20%20%20%20%20%20%20%20%20%20var%20opts%20%3D%20%7B%22bubblingMouseEvents%22%3A%20true%2C%20%22color%22%3A%20%22%233388ff%22%2C%20%22dashArray%22%3A%20null%2C%20%22dashOffset%22%3A%20null%2C%20%22fill%22%3A%20true%2C%20%22fillColor%22%3A%20%22%233388ff%22%2C%20%22fillOpacity%22%3A%200.2%2C%20%22fillRule%22%3A%20%22evenodd%22%2C%20%22lineCap%22%3A%20%22round%22%2C%20%22lineJoin%22%3A%20%22round%22%2C%20%22opacity%22%3A%201.0%2C%20%22radius%22%3A%202%2C%20%22stroke%22%3A%20true%2C%20%22weight%22%3A%203%7D%3B%0A%20%20%20%20%20%20%20%20%20%20%20%20%0A%20%20%20%20%20%20%20%20%20%20%20%20let%20style%20%3D%20geo_json_fda28334ad894811b1144b1c90d546bb_styler%28feature%29%0A%20%20%20%20%20%20%20%20%20%20%20%20Object.assign%28opts%2C%20style%29%0A%20%20%20%20%20%20%20%20%20%20%20%20%0A%20%20%20%20%20%20%20%20%20%20%20%20return%20new%20L.CircleMarker%28latlng%2C%20opts%29%0A%20%20%20%20%20%20%20%20%7D%0A%0A%20%20%20%20%20%20%20%20function%20geo_json_fda28334ad894811b1144b1c90d546bb_onEachFeature%28feature%2C%20layer%29%20%7B%0A%20%20%20%20%20%20%20%20%20%20%20%20layer.on%28%7B%0A%20%20%20%20%20%20%20%20%20%20%20%20%20%20%20%20mouseout%3A%20function%28e%29%20%7B%0A%20%20%20%20%20%20%20%20%20%20%20%20%20%20%20%20%20%20%20%20if%28typeof%20e.target.setStyle%20%3D%3D%3D%20%22function%22%29%7B%0A%20%20%20%20%20%20%20%20%20%20%20%20%20%20%20%20%20%20%20%20%20%20%20%20geo_json_fda28334ad894811b1144b1c90d546bb.resetStyle%28e.target%29%3B%0A%20%20%20%20%20%20%20%20%20%20%20%20%20%20%20%20%20%20%20%20%7D%0A%20%20%20%20%20%20%20%20%20%20%20%20%20%20%20%20%7D%2C%0A%20%20%20%20%20%20%20%20%20%20%20%20%20%20%20%20mouseover%3A%20function%28e%29%20%7B%0A%20%20%20%20%20%20%20%20%20%20%20%20%20%20%20%20%20%20%20%20if%28typeof%20e.target.setStyle%20%3D%3D%3D%20%22function%22%29%7B%0A%20%20%20%20%20%20%20%20%20%20%20%20%20%20%20%20%20%20%20%20%20%20%20%20const%20highlightStyle%20%3D%20geo_json_fda28334ad894811b1144b1c90d546bb_highlighter%28e.target.feature%29%0A%20%20%20%20%20%20%20%20%20%20%20%20%20%20%20%20%20%20%20%20%20%20%20%20e.target.setStyle%28highlightStyle%29%3B%0A%20%20%20%20%20%20%20%20%20%20%20%20%20%20%20%20%20%20%20%20%7D%0A%20%20%20%20%20%20%20%20%20%20%20%20%20%20%20%20%7D%2C%0A%20%20%20%20%20%20%20%20%20%20%20%20%7D%29%3B%0A%20%20%20%20%20%20%20%20%7D%3B%0A%20%20%20%20%20%20%20%20var%20geo_json_fda28334ad894811b1144b1c90d546bb%20%3D%20L.geoJson%28null%2C%20%7B%0A%20%20%20%20%20%20%20%20%20%20%20%20%20%20%20%20onEachFeature%3A%20geo_json_fda28334ad894811b1144b1c90d546bb_onEachFeature%2C%0A%20%20%20%20%20%20%20%20%20%20%20%20%0A%20%20%20%20%20%20%20%20%20%20%20%20%20%20%20%20style%3A%20geo_json_fda28334ad894811b1144b1c90d546bb_styler%2C%0A%20%20%20%20%20%20%20%20%20%20%20%20%20%20%20%20pointToLayer%3A%20geo_json_fda28334ad894811b1144b1c90d546bb_pointToLayer%0A%20%20%20%20%20%20%20%20%7D%29%3B%0A%0A%20%20%20%20%20%20%20%20function%20geo_json_fda28334ad894811b1144b1c90d546bb_add%20%28data%29%20%7B%0A%20%20%20%20%20%20%20%20%20%20%20%20geo_json_fda28334ad894811b1144b1c90d546bb%0A%20%20%20%20%20%20%20%20%20%20%20%20%20%20%20%20.addData%28data%29%0A%20%20%20%20%20%20%20%20%20%20%20%20%20%20%20%20.addTo%28map_ddd113ef5dd94bda8cca4bfaa1a9bb40%29%3B%0A%20%20%20%20%20%20%20%20%7D%0A%20%20%20%20%20%20%20%20%20%20%20%20geo_json_fda28334ad894811b1144b1c90d546bb_add%28%7B%22bbox%22%3A%20%5B-122.275329%2C%2037.80225400000002%2C%20-122.261705%2C%2037.84106999999999%5D%2C%20%22features%22%3A%20%5B%7B%22bbox%22%3A%20%5B-122.262174%2C%2037.838173000000005%2C%20-122.261705%2C%2037.84106999999999%5D%2C%20%22geometry%22%3A%20%7B%22coordinates%22%3A%20%5B%5B-122.262174%2C%2037.838173000000005%5D%2C%20%5B-122.262091%2C%2037.83833999999998%5D%2C%20%5B-122.26203199999999%2C%2037.838461000000024%5D%2C%20%5B-122.26206100000002%2C%2037.838639%5D%2C%20%5B-122.26208899999999%2C%2037.83881799999997%5D%2C%20%5B-122.262067%2C%2037.83899700000002%5D%2C%20%5B-122.26204100000001%2C%2037.839176%5D%2C%20%5B-122.26201700000001%2C%2037.83935400000002%5D%2C%20%5B-122.26199299999999%2C%2037.83953299999999%5D%2C%20%5B-122.26196900000001%2C%2037.83971199999998%5D%2C%20%5B-122.261958%2C%2037.83978600000001%5D%2C%20%5B-122.261866%2C%2037.83995099999997%5D%2C%20%5B-122.26181299999999%2C%2037.84004700000002%5D%2C%20%5B-122.26184200000002%2C%2037.840225000000046%5D%2C%20%5B-122.261866%2C%2037.840374000000004%5D%2C%20%5B-122.261852%2C%2037.84046699999996%5D%2C%20%5B-122.261796%2C%2037.84052600000004%5D%2C%20%5B-122.26177100000001%2C%2037.84068899999997%5D%2C%20%5B-122.26175200000002%2C%2037.84081299999998%5D%2C%20%5B-122.26172800000002%2C%2037.840940999999965%5D%2C%20%5B-122.261705%2C%2037.84106999999999%5D%5D%2C%20%22type%22%3A%20%22LineString%22%7D%2C%20%22id%22%3A%20%220%22%2C%20%22properties%22%3A%20%7B%22__folium_color%22%3A%20%22%231f77b4%22%2C%20%22border%22%3A%20false%2C%20%22intersection_hash%22%3A%20null%2C%20%22shape_array_key%22%3A%20%223caab5c44277cbdc8fbc755bc0ea7633%22%2C%20%22tract%22%3A%20%2206001400300%22%2C%20%22tract_1%22%3A%20null%2C%20%22tract_2%22%3A%20null%7D%2C%20%22type%22%3A%20%22Feature%22%7D%2C%20%7B%22bbox%22%3A%20%5B-122.26586969642868%2C%2037.8238522300393%2C%20-122.262331%2C%2037.83705300000004%5D%2C%20%22geometry%22%3A%20%7B%22coordinates%22%3A%20%5B%5B-122.26586969642868%2C%2037.8238522300393%5D%2C%20%5B-122.26585%2C%2037.82393399999999%5D%2C%20%5B-122.265829%2C%2037.824024999999985%5D%2C%20%5B-122.265793%2C%2037.824164%5D%2C%20%5B-122.26574600000001%2C%2037.824340000000014%5D%2C%20%5B-122.26569800000001%2C%2037.824516%5D%2C%20%5B-122.265675%2C%2037.82460099999996%5D%2C%20%5B-122.265636%2C%2037.824744%5D%2C%20%5B-122.26559300000001%2C%2037.82489499999998%5D%2C%20%5B-122.26554499999999%2C%2037.82507100000003%5D%2C%20%5B-122.265498%2C%2037.82524700000001%5D%2C%20%5B-122.265463%2C%2037.82537400000003%5D%2C%20%5B-122.265417%2C%2037.82555%5D%2C%20%5B-122.265393%2C%2037.825641999999995%5D%2C%20%5B-122.265345%2C%2037.825818%5D%2C%20%5B-122.265297%2C%2037.825994%5D%2C%20%5B-122.26526500000001%2C%2037.826112000000016%5D%2C%20%5B-122.26521499999998%2C%2037.82628800000001%5D%2C%20%5B-122.265198%2C%2037.82634899999994%5D%2C%20%5B-122.265173%2C%2037.82644100000004%5D%2C%20%5B-122.265129%2C%2037.82661699999998%5D%2C%20%5B-122.265025%2C%2037.82677700000001%5D%2C%20%5B-122.26495900000002%2C%2037.82687900000003%5D%2C%20%5B-122.26497100000002%2C%2037.82705899999999%5D%2C%20%5B-122.264981%2C%2037.827196%5D%2C%20%5B-122.26493200000002%2C%2037.82737199999998%5D%2C%20%5B-122.264891%2C%2037.827525%5D%2C%20%5B-122.264844%2C%2037.82770099999999%5D%2C%20%5B-122.26479700000002%2C%2037.82787700000003%5D%2C%20%5B-122.26474900000001%2C%2037.828052999999976%5D%2C%20%5B-122.264708%2C%2037.82820699999999%5D%2C%20%5B-122.26466%2C%2037.82838299999999%5D%2C%20%5B-122.264612%2C%2037.828559%5D%2C%20%5B-122.264601%2C%2037.82860000000001%5D%2C%20%5B-122.26455199999998%2C%2037.828776000000005%5D%2C%20%5B-122.26450299999999%2C%2037.828950999999996%5D%2C%20%5B-122.26446399999999%2C%2037.82909000000001%5D%2C%20%5B-122.264432%2C%2037.82919899999998%5D%2C%20%5B-122.264316%2C%2037.82935399999998%5D%2C%20%5B-122.26421500000001%2C%2037.82949000000003%5D%2C%20%5B-122.26423200000002%2C%2037.82966900000003%5D%2C%20%5B-122.264249%2C%2037.82984899999996%5D%2C%20%5B-122.26423200000002%2C%2037.829952999999996%5D%2C%20%5B-122.264186%2C%2037.83012899999999%5D%2C%20%5B-122.264174%2C%2037.83017600000002%5D%2C%20%5B-122.26412799999999%2C%2037.83035199999996%5D%2C%20%5B-122.26411599999999%2C%2037.83039599999998%5D%2C%20%5B-122.26407000000002%2C%2037.83057200000001%5D%2C%20%5B-122.264024%2C%2037.830747999999964%5D%2C%20%5B-122.263995%2C%2037.830858%5D%2C%20%5B-122.26394700000002%2C%2037.83103399999998%5D%2C%20%5B-122.26392900000002%2C%2037.83109999999999%5D%2C%20%5B-122.26388%2C%2037.83127599999996%5D%2C%20%5B-122.263865%2C%2037.831331000000006%5D%2C%20%5B-122.263817%2C%2037.831507%5D%2C%20%5B-122.263801%2C%2037.83156400000001%5D%2C%20%5B-122.26375%2C%2037.831739000000006%5D%2C%20%5B-122.263699%2C%2037.83191499999998%5D%2C%20%5B-122.26365299999999%2C%2037.83207399999997%5D%2C%20%5B-122.26360199999999%2C%2037.832249000000004%5D%2C%20%5B-122.26355400000001%2C%2037.83242500000002%5D%2C%20%5B-122.26350599999999%2C%2037.83260099999998%5D%2C%20%5B-122.263466%2C%2037.83274999999996%5D%2C%20%5B-122.263399%2C%2037.832809000000026%5D%2C%20%5B-122.26336200000001%2C%2037.832985999999984%5D%2C%20%5B-122.26334700000001%2C%2037.83305700000002%5D%2C%20%5B-122.26327200000001%2C%2037.83322700000001%5D%2C%20%5B-122.26323200000002%2C%2037.83331699999996%5D%2C%20%5B-122.26320899999999%2C%2037.83349599999998%5D%2C%20%5B-122.263192%2C%2037.83362500000001%5D%2C%20%5B-122.26312800000001%2C%2037.833797999999994%5D%2C%20%5B-122.263115%2C%2037.83384100000001%5D%2C%20%5B-122.263159%2C%2037.83394900000002%5D%2C%20%5B-122.263111%2C%2037.83412500000003%5D%2C%20%5B-122.263094%2C%2037.83418799999995%5D%2C%20%5B-122.26305200000002%2C%2037.83434000000001%5D%2C%20%5B-122.263005%2C%2037.834515999999994%5D%2C%20%5B-122.262958%2C%2037.834692000000004%5D%2C%20%5B-122.26294200000001%2C%2037.83475100000001%5D%2C%20%5B-122.262915%2C%2037.83485800000002%5D%2C%20%5B-122.262896%2C%2037.834934999999994%5D%2C%20%5B-122.26287200000002%2C%2037.83503299999997%5D%2C%20%5B-122.262826%2C%2037.83520899999996%5D%2C%20%5B-122.26278%2C%2037.83538499999999%5D%2C%20%5B-122.262734%2C%2037.835560999999984%5D%2C%20%5B-122.262685%2C%2037.835736999999966%5D%2C%20%5B-122.262637%2C%2037.83591299999998%5D%2C%20%5B-122.262622%2C%2037.835964999999995%5D%2C%20%5B-122.262573%2C%2037.83614099999994%5D%2C%20%5B-122.26254300000001%2C%2037.83624500000002%5D%2C%20%5B-122.26249400000002%2C%2037.836420999999966%5D%2C%20%5B-122.262445%2C%2037.836596%5D%2C%20%5B-122.26242%2C%2037.83668400000002%5D%2C%20%5B-122.26239199999999%2C%2037.83678099999999%5D%2C%20%5B-122.262379%2C%2037.83684399999999%5D%2C%20%5B-122.26235000000001%2C%2037.83695499999996%5D%2C%20%5B-122.262331%2C%2037.83705300000004%5D%5D%2C%20%22type%22%3A%20%22LineString%22%7D%2C%20%22id%22%3A%20%221%22%2C%20%22properties%22%3A%20%7B%22__folium_color%22%3A%20%22%238c564b%22%2C%20%22border%22%3A%20false%2C%20%22intersection_hash%22%3A%20null%2C%20%22shape_array_key%22%3A%20%223caab5c44277cbdc8fbc755bc0ea7633%22%2C%20%22tract%22%3A%20%2206001401100%22%2C%20%22tract_1%22%3A%20null%2C%20%22tract_2%22%3A%20null%7D%2C%20%22type%22%3A%20%22Feature%22%7D%2C%20%7B%22bbox%22%3A%20%5B-122.275329%2C%2037.80225400000002%2C%20-122.27280100000002%2C%2037.80320299999999%5D%2C%20%22geometry%22%3A%20%7B%22coordinates%22%3A%20%5B%5B-122.27445600000001%2C%2037.80225400000002%5D%2C%20%5B-122.274678%2C%2037.80229299999999%5D%2C%20%5B-122.27490000000002%2C%2037.80233299999995%5D%2C%20%5B-122.27510400000001%2C%2037.80241199999999%5D%2C%20%5B-122.275172%2C%2037.80244000000006%5D%2C%20%5B-122.275329%2C%2037.802504999999975%5D%2C%20%5B-122.275229%2C%2037.80266699999995%5D%2C%20%5B-122.27513%2C%2037.80282800000002%5D%2C%20%5B-122.27502999999999%2C%2037.802990000000015%5D%2C%20%5B-122.27493000000001%2C%2037.803152%5D%2C%20%5B-122.274899%2C%2037.80320299999999%5D%2C%20%5B-122.274729%2C%2037.80314500000004%5D%2C%20%5B-122.274557%2C%2037.80302699999997%5D%2C%20%5B-122.274464%2C%2037.802962999999984%5D%2C%20%5B-122.274244%2C%2037.802914999999985%5D%2C%20%5B-122.274025%2C%2037.80286800000004%5D%2C%20%5B-122.273821%2C%2037.80278800000002%5D%2C%20%5B-122.273617%2C%2037.802708000000045%5D%2C%20%5B-122.273413%2C%2037.80262800000003%5D%2C%20%5B-122.273209%2C%2037.80254900000002%5D%2C%20%5B-122.273005%2C%2037.802468999999995%5D%2C%20%5B-122.27280100000002%2C%2037.80238899999999%5D%5D%2C%20%22type%22%3A%20%22LineString%22%7D%2C%20%22id%22%3A%20%224%22%2C%20%22properties%22%3A%20%7B%22__folium_color%22%3A%20%22%239edae5%22%2C%20%22border%22%3A%20false%2C%20%22intersection_hash%22%3A%20null%2C%20%22shape_array_key%22%3A%20%223caab5c44277cbdc8fbc755bc0ea7633%22%2C%20%22tract%22%3A%20%2206001403100%22%2C%20%22tract_1%22%3A%20null%2C%20%22tract_2%22%3A%20null%7D%2C%20%22type%22%3A%20%22Feature%22%7D%5D%2C%20%22type%22%3A%20%22FeatureCollection%22%7D%29%3B%0A%0A%20%20%20%20%20%20%20%20%0A%20%20%20%20%0A%20%20%20%20geo_json_fda28334ad894811b1144b1c90d546bb.bindTooltip%28%0A%20%20%20%20function%28layer%29%7B%0A%20%20%20%20let%20div%20%3D%20L.DomUtil.create%28%27div%27%29%3B%0A%20%20%20%20%0A%20%20%20%20let%20handleObject%20%3D%20feature%3D%3Etypeof%28feature%29%3D%3D%27object%27%20%3F%20JSON.stringify%28feature%29%20%3A%20feature%3B%0A%20%20%20%20let%20fields%20%3D%20%5B%22shape_array_key%22%2C%20%22tract%22%2C%20%22tract_1%22%2C%20%22tract_2%22%2C%20%22intersection_hash%22%2C%20%22border%22%5D%3B%0A%20%20%20%20let%20aliases%20%3D%20%5B%22shape_array_key%22%2C%20%22tract%22%2C%20%22tract_1%22%2C%20%22tract_2%22%2C%20%22intersection_hash%22%2C%20%22border%22%5D%3B%0A%20%20%20%20let%20table%20%3D%20%27%3Ctable%3E%27%20%2B%0A%20%20%20%20%20%20%20%20String%28%0A%20%20%20%20%20%20%20%20fields.map%28%0A%20%20%20%20%20%20%20%20%28v%2Ci%29%3D%3E%0A%20%20%20%20%20%20%20%20%60%3Ctr%3E%0A%20%20%20%20%20%20%20%20%20%20%20%20%3Cth%3E%24%7Baliases%5Bi%5D%7D%3C/th%3E%0A%20%20%20%20%20%20%20%20%20%20%20%20%0A%20%20%20%20%20%20%20%20%20%20%20%20%3Ctd%3E%24%7BhandleObject%28layer.feature.properties%5Bv%5D%29%7D%3C/td%3E%0A%20%20%20%20%20%20%20%20%3C/tr%3E%60%29.join%28%27%27%29%29%0A%20%20%20%20%2B%27%3C/table%3E%27%3B%0A%20%20%20%20div.innerHTML%3Dtable%3B%0A%20%20%20%20%0A%20%20%20%20return%20div%0A%20%20%20%20%7D%0A%20%20%20%20%2C%7B%22className%22%3A%20%22foliumtooltip%22%2C%20%22sticky%22%3A%20true%7D%29%3B%0A%20%20%20%20%20%20%20%20%20%20%20%20%20%20%20%20%20%20%20%20%20%0A%3C/script%3E onload=\"this.contentDocument.open();this.contentDocument.write(    decodeURIComponent(this.getAttribute('data-html')));this.contentDocument.close();\" allowfullscreen webkitallowfullscreen mozallowfullscreen></iframe></div></div>"
      ],
      "text/plain": [
       "<folium.folium.Map at 0x7b14657c5fd0>"
      ]
     },
     "execution_count": 52,
     "metadata": {},
     "output_type": "execute_result"
    }
   ],
   "source": [
    "pd.concat([tracts_and_borders.loc[:1], tracts_and_borders.loc[4:4]]).explore(column='tract')"
   ]
  },
  {
   "cell_type": "code",
   "execution_count": null,
   "id": "fd05da79-dcfc-43c1-849f-6fb23407ed14",
   "metadata": {
    "tags": []
   },
   "outputs": [],
   "source": []
  },
  {
   "cell_type": "code",
   "execution_count": 53,
   "id": "7852d4e6-e50c-4a79-9769-62ce35c3618a",
   "metadata": {
    "tags": []
   },
   "outputs": [
    {
     "data": {
      "text/html": [
       "<div style=\"width:100%;\"><div style=\"position:relative;width:100%;height:0;padding-bottom:60%;\"><span style=\"color:#565656\">Make this Notebook Trusted to load map: File -> Trust Notebook</span><iframe src=\"about:blank\" style=\"position:absolute;width:100%;height:100%;left:0;top:0;border:none !important;\" data-html=%3C%21DOCTYPE%20html%3E%0A%3Chead%3E%20%20%20%20%0A%20%20%20%20%3Cmeta%20http-equiv%3D%22content-type%22%20content%3D%22text/html%3B%20charset%3DUTF-8%22%20/%3E%0A%20%20%20%20%0A%20%20%20%20%20%20%20%20%3Cscript%3E%0A%20%20%20%20%20%20%20%20%20%20%20%20L_NO_TOUCH%20%3D%20false%3B%0A%20%20%20%20%20%20%20%20%20%20%20%20L_DISABLE_3D%20%3D%20false%3B%0A%20%20%20%20%20%20%20%20%3C/script%3E%0A%20%20%20%20%0A%20%20%20%20%3Cstyle%3Ehtml%2C%20body%20%7Bwidth%3A%20100%25%3Bheight%3A%20100%25%3Bmargin%3A%200%3Bpadding%3A%200%3B%7D%3C/style%3E%0A%20%20%20%20%3Cstyle%3E%23map%20%7Bposition%3Aabsolute%3Btop%3A0%3Bbottom%3A0%3Bright%3A0%3Bleft%3A0%3B%7D%3C/style%3E%0A%20%20%20%20%3Cscript%20src%3D%22https%3A//cdn.jsdelivr.net/npm/leaflet%401.6.0/dist/leaflet.js%22%3E%3C/script%3E%0A%20%20%20%20%3Cscript%20src%3D%22https%3A//code.jquery.com/jquery-1.12.4.min.js%22%3E%3C/script%3E%0A%20%20%20%20%3Cscript%20src%3D%22https%3A//maxcdn.bootstrapcdn.com/bootstrap/3.2.0/js/bootstrap.min.js%22%3E%3C/script%3E%0A%20%20%20%20%3Cscript%20src%3D%22https%3A//cdnjs.cloudflare.com/ajax/libs/Leaflet.awesome-markers/2.0.2/leaflet.awesome-markers.js%22%3E%3C/script%3E%0A%20%20%20%20%3Clink%20rel%3D%22stylesheet%22%20href%3D%22https%3A//cdn.jsdelivr.net/npm/leaflet%401.6.0/dist/leaflet.css%22/%3E%0A%20%20%20%20%3Clink%20rel%3D%22stylesheet%22%20href%3D%22https%3A//maxcdn.bootstrapcdn.com/bootstrap/3.2.0/css/bootstrap.min.css%22/%3E%0A%20%20%20%20%3Clink%20rel%3D%22stylesheet%22%20href%3D%22https%3A//maxcdn.bootstrapcdn.com/bootstrap/3.2.0/css/bootstrap-theme.min.css%22/%3E%0A%20%20%20%20%3Clink%20rel%3D%22stylesheet%22%20href%3D%22https%3A//maxcdn.bootstrapcdn.com/font-awesome/4.6.3/css/font-awesome.min.css%22/%3E%0A%20%20%20%20%3Clink%20rel%3D%22stylesheet%22%20href%3D%22https%3A//cdnjs.cloudflare.com/ajax/libs/Leaflet.awesome-markers/2.0.2/leaflet.awesome-markers.css%22/%3E%0A%20%20%20%20%3Clink%20rel%3D%22stylesheet%22%20href%3D%22https%3A//cdn.jsdelivr.net/gh/python-visualization/folium/folium/templates/leaflet.awesome.rotate.min.css%22/%3E%0A%20%20%20%20%0A%20%20%20%20%20%20%20%20%20%20%20%20%3Cmeta%20name%3D%22viewport%22%20content%3D%22width%3Ddevice-width%2C%0A%20%20%20%20%20%20%20%20%20%20%20%20%20%20%20%20initial-scale%3D1.0%2C%20maximum-scale%3D1.0%2C%20user-scalable%3Dno%22%20/%3E%0A%20%20%20%20%20%20%20%20%20%20%20%20%3Cstyle%3E%0A%20%20%20%20%20%20%20%20%20%20%20%20%20%20%20%20%23map_7f2e4ca70f894a1faa9b76d0adadfb4e%20%7B%0A%20%20%20%20%20%20%20%20%20%20%20%20%20%20%20%20%20%20%20%20position%3A%20relative%3B%0A%20%20%20%20%20%20%20%20%20%20%20%20%20%20%20%20%20%20%20%20width%3A%20100.0%25%3B%0A%20%20%20%20%20%20%20%20%20%20%20%20%20%20%20%20%20%20%20%20height%3A%20100.0%25%3B%0A%20%20%20%20%20%20%20%20%20%20%20%20%20%20%20%20%20%20%20%20left%3A%200.0%25%3B%0A%20%20%20%20%20%20%20%20%20%20%20%20%20%20%20%20%20%20%20%20top%3A%200.0%25%3B%0A%20%20%20%20%20%20%20%20%20%20%20%20%20%20%20%20%7D%0A%20%20%20%20%20%20%20%20%20%20%20%20%3C/style%3E%0A%20%20%20%20%20%20%20%20%0A%20%20%20%20%0A%20%20%20%20%20%20%20%20%20%20%20%20%20%20%20%20%20%20%20%20%3Cstyle%3E%0A%20%20%20%20%20%20%20%20%20%20%20%20%20%20%20%20%20%20%20%20%20%20%20%20.foliumtooltip%20%7B%0A%20%20%20%20%20%20%20%20%20%20%20%20%20%20%20%20%20%20%20%20%20%20%20%20%20%20%20%20%0A%20%20%20%20%20%20%20%20%20%20%20%20%20%20%20%20%20%20%20%20%20%20%20%20%7D%0A%20%20%20%20%20%20%20%20%20%20%20%20%20%20%20%20%20%20%20%20%20%20%20.foliumtooltip%20table%7B%0A%20%20%20%20%20%20%20%20%20%20%20%20%20%20%20%20%20%20%20%20%20%20%20%20%20%20%20%20margin%3A%20auto%3B%0A%20%20%20%20%20%20%20%20%20%20%20%20%20%20%20%20%20%20%20%20%20%20%20%20%7D%0A%20%20%20%20%20%20%20%20%20%20%20%20%20%20%20%20%20%20%20%20%20%20%20%20.foliumtooltip%20tr%7B%0A%20%20%20%20%20%20%20%20%20%20%20%20%20%20%20%20%20%20%20%20%20%20%20%20%20%20%20%20text-align%3A%20left%3B%0A%20%20%20%20%20%20%20%20%20%20%20%20%20%20%20%20%20%20%20%20%20%20%20%20%7D%0A%20%20%20%20%20%20%20%20%20%20%20%20%20%20%20%20%20%20%20%20%20%20%20%20.foliumtooltip%20th%7B%0A%20%20%20%20%20%20%20%20%20%20%20%20%20%20%20%20%20%20%20%20%20%20%20%20%20%20%20%20padding%3A%202px%3B%20padding-right%3A%208px%3B%0A%20%20%20%20%20%20%20%20%20%20%20%20%20%20%20%20%20%20%20%20%20%20%20%20%7D%0A%20%20%20%20%20%20%20%20%20%20%20%20%20%20%20%20%20%20%20%20%3C/style%3E%0A%20%20%20%20%20%20%20%20%20%20%20%20%0A%20%20%20%20%0A%20%20%20%20%3Cscript%20src%3D%22https%3A//code.jquery.com/ui/1.12.1/jquery-ui.js%22%3E%3C/script%3E%0A%20%20%20%20%3Cscript%3E%24%28%20function%28%29%20%7B%0A%20%20%20%20%20%20%20%20%24%28%20%22.maplegend%22%20%29.draggable%28%7B%0A%20%20%20%20%20%20%20%20%20%20%20%20start%3A%20function%20%28event%2C%20ui%29%20%7B%0A%20%20%20%20%20%20%20%20%20%20%20%20%20%20%20%20%24%28this%29.css%28%7B%0A%20%20%20%20%20%20%20%20%20%20%20%20%20%20%20%20%20%20%20%20right%3A%20%22auto%22%2C%0A%20%20%20%20%20%20%20%20%20%20%20%20%20%20%20%20%20%20%20%20top%3A%20%22auto%22%2C%0A%20%20%20%20%20%20%20%20%20%20%20%20%20%20%20%20%20%20%20%20bottom%3A%20%22auto%22%0A%20%20%20%20%20%20%20%20%20%20%20%20%20%20%20%20%7D%29%3B%0A%20%20%20%20%20%20%20%20%20%20%20%20%7D%0A%20%20%20%20%20%20%20%20%7D%29%3B%0A%20%20%20%20%7D%29%3B%0A%20%20%20%20%3C/script%3E%0A%20%20%20%20%3Cstyle%20type%3D%27text/css%27%3E%0A%20%20%20%20%20%20.maplegend%20%7B%0A%20%20%20%20%20%20%20%20position%3A%20absolute%3B%0A%20%20%20%20%20%20%20%20z-index%3A9999%3B%0A%20%20%20%20%20%20%20%20background-color%3A%20rgba%28255%2C%20255%2C%20255%2C%20.8%29%3B%0A%20%20%20%20%20%20%20%20border-radius%3A%205px%3B%0A%20%20%20%20%20%20%20%20box-shadow%3A%200%200%2015px%20rgba%280%2C0%2C0%2C0.2%29%3B%0A%20%20%20%20%20%20%20%20padding%3A%2010px%3B%0A%20%20%20%20%20%20%20%20font%3A%2012px/14px%20Arial%2C%20Helvetica%2C%20sans-serif%3B%0A%20%20%20%20%20%20%20%20right%3A%2010px%3B%0A%20%20%20%20%20%20%20%20bottom%3A%2020px%3B%0A%20%20%20%20%20%20%7D%0A%20%20%20%20%20%20.maplegend%20.legend-title%20%7B%0A%20%20%20%20%20%20%20%20text-align%3A%20left%3B%0A%20%20%20%20%20%20%20%20margin-bottom%3A%205px%3B%0A%20%20%20%20%20%20%20%20font-weight%3A%20bold%3B%0A%20%20%20%20%20%20%20%20%7D%0A%20%20%20%20%20%20.maplegend%20.legend-scale%20ul%20%7B%0A%20%20%20%20%20%20%20%20margin%3A%200%3B%0A%20%20%20%20%20%20%20%20margin-bottom%3A%200px%3B%0A%20%20%20%20%20%20%20%20padding%3A%200%3B%0A%20%20%20%20%20%20%20%20float%3A%20left%3B%0A%20%20%20%20%20%20%20%20list-style%3A%20none%3B%0A%20%20%20%20%20%20%20%20%7D%0A%20%20%20%20%20%20.maplegend%20.legend-scale%20ul%20li%20%7B%0A%20%20%20%20%20%20%20%20list-style%3A%20none%3B%0A%20%20%20%20%20%20%20%20margin-left%3A%200%3B%0A%20%20%20%20%20%20%20%20line-height%3A%2016px%3B%0A%20%20%20%20%20%20%20%20margin-bottom%3A%202px%3B%0A%20%20%20%20%20%20%20%20%7D%0A%20%20%20%20%20%20.maplegend%20ul.legend-labels%20li%20span%20%7B%0A%20%20%20%20%20%20%20%20display%3A%20block%3B%0A%20%20%20%20%20%20%20%20float%3A%20left%3B%0A%20%20%20%20%20%20%20%20height%3A%2014px%3B%0A%20%20%20%20%20%20%20%20width%3A%2014px%3B%0A%20%20%20%20%20%20%20%20margin-right%3A%205px%3B%0A%20%20%20%20%20%20%20%20margin-left%3A%200%3B%0A%20%20%20%20%20%20%20%20border%3A%200px%20solid%20%23ccc%3B%0A%20%20%20%20%20%20%20%20%7D%0A%20%20%20%20%20%20.maplegend%20.legend-source%20%7B%0A%20%20%20%20%20%20%20%20color%3A%20%23777%3B%0A%20%20%20%20%20%20%20%20clear%3A%20both%3B%0A%20%20%20%20%20%20%20%20%7D%0A%20%20%20%20%20%20.maplegend%20a%20%7B%0A%20%20%20%20%20%20%20%20color%3A%20%23777%3B%0A%20%20%20%20%20%20%20%20%7D%0A%20%20%20%20%3C/style%3E%0A%20%20%20%20%0A%3C/head%3E%0A%3Cbody%3E%20%20%20%20%0A%20%20%20%20%0A%20%20%20%20%3Cdiv%20id%3D%27maplegend%20border%27%20class%3D%27maplegend%27%3E%0A%20%20%20%20%20%20%20%20%3Cdiv%20class%3D%27legend-title%27%3Eborder%3C/div%3E%0A%20%20%20%20%20%20%20%20%3Cdiv%20class%3D%27legend-scale%27%3E%0A%20%20%20%20%20%20%20%20%20%20%20%20%3Cul%20class%3D%27legend-labels%27%3E%0A%20%20%20%20%20%20%20%20%20%20%20%20%20%20%20%20%3Cli%3E%3Cspan%20style%3D%27background%3A%231f77b4%27%3E%3C/span%3EFalse%3C/li%3E%0A%20%20%20%20%20%20%20%20%20%20%20%20%20%20%20%20%3Cli%3E%3Cspan%20style%3D%27background%3A%239edae5%27%3E%3C/span%3ETrue%3C/li%3E%0A%20%20%20%20%20%20%20%20%20%20%20%20%3C/ul%3E%0A%20%20%20%20%20%20%20%20%3C/div%3E%0A%20%20%20%20%3C/div%3E%0A%20%20%20%20%0A%20%20%20%20%0A%20%20%20%20%20%20%20%20%20%20%20%20%3Cdiv%20class%3D%22folium-map%22%20id%3D%22map_7f2e4ca70f894a1faa9b76d0adadfb4e%22%20%3E%3C/div%3E%0A%20%20%20%20%20%20%20%20%0A%3C/body%3E%0A%3Cscript%3E%20%20%20%20%0A%20%20%20%20%0A%20%20%20%20%20%20%20%20%20%20%20%20var%20map_7f2e4ca70f894a1faa9b76d0adadfb4e%20%3D%20L.map%28%0A%20%20%20%20%20%20%20%20%20%20%20%20%20%20%20%20%22map_7f2e4ca70f894a1faa9b76d0adadfb4e%22%2C%0A%20%20%20%20%20%20%20%20%20%20%20%20%20%20%20%20%7B%0A%20%20%20%20%20%20%20%20%20%20%20%20%20%20%20%20%20%20%20%20center%3A%20%5B37.83666300000001%2C%20-122.266847%5D%2C%0A%20%20%20%20%20%20%20%20%20%20%20%20%20%20%20%20%20%20%20%20crs%3A%20L.CRS.EPSG3857%2C%0A%20%20%20%20%20%20%20%20%20%20%20%20%20%20%20%20%20%20%20%20zoom%3A%2010%2C%0A%20%20%20%20%20%20%20%20%20%20%20%20%20%20%20%20%20%20%20%20zoomControl%3A%20true%2C%0A%20%20%20%20%20%20%20%20%20%20%20%20%20%20%20%20%20%20%20%20preferCanvas%3A%20false%2C%0A%20%20%20%20%20%20%20%20%20%20%20%20%20%20%20%20%7D%0A%20%20%20%20%20%20%20%20%20%20%20%20%29%3B%0A%20%20%20%20%20%20%20%20%20%20%20%20L.control.scale%28%29.addTo%28map_7f2e4ca70f894a1faa9b76d0adadfb4e%29%3B%0A%0A%20%20%20%20%20%20%20%20%20%20%20%20%0A%0A%20%20%20%20%20%20%20%20%0A%20%20%20%20%0A%20%20%20%20%20%20%20%20%20%20%20%20var%20tile_layer_5b9682abde44408b9bef0dc702af85cf%20%3D%20L.tileLayer%28%0A%20%20%20%20%20%20%20%20%20%20%20%20%20%20%20%20%22https%3A//a.basemaps.cartocdn.com/light_all/%7Bz%7D/%7Bx%7D/%7By%7D%7Br%7D.png%22%2C%0A%20%20%20%20%20%20%20%20%20%20%20%20%20%20%20%20%7B%22attribution%22%3A%20%22%5Cu0026copy%3B%20%5Cu003ca%20href%3D%5C%22https%3A//www.openstreetmap.org/copyright%5C%22%5Cu003eOpenStreetMap%5Cu003c/a%5Cu003e%20contributors%20%5Cu0026copy%3B%20%5Cu003ca%20href%3D%5C%22https%3A//carto.com/attributions%5C%22%5Cu003eCARTO%5Cu003c/a%5Cu003e%22%2C%20%22detectRetina%22%3A%20false%2C%20%22maxNativeZoom%22%3A%2020%2C%20%22maxZoom%22%3A%2020%2C%20%22minZoom%22%3A%200%2C%20%22noWrap%22%3A%20false%2C%20%22opacity%22%3A%201%2C%20%22subdomains%22%3A%20%22abc%22%2C%20%22tms%22%3A%20false%7D%0A%20%20%20%20%20%20%20%20%20%20%20%20%29.addTo%28map_7f2e4ca70f894a1faa9b76d0adadfb4e%29%3B%0A%20%20%20%20%20%20%20%20%0A%20%20%20%20%0A%20%20%20%20%20%20%20%20%20%20%20%20map_7f2e4ca70f894a1faa9b76d0adadfb4e.fitBounds%28%0A%20%20%20%20%20%20%20%20%20%20%20%20%20%20%20%20%5B%5B37.802239000000014%2C%20-122.275329%5D%2C%20%5B37.871087%2C%20-122.258365%5D%5D%2C%0A%20%20%20%20%20%20%20%20%20%20%20%20%20%20%20%20%7B%7D%0A%20%20%20%20%20%20%20%20%20%20%20%20%29%3B%0A%20%20%20%20%20%20%20%20%0A%20%20%20%20%0A%20%20%20%20%20%20%20%20function%20geo_json_32b0241379d341688c9086cc842a76c6_styler%28feature%29%20%7B%0A%20%20%20%20%20%20%20%20%20%20%20%20switch%28feature.id%29%20%7B%0A%20%20%20%20%20%20%20%20%20%20%20%20%20%20%20%20case%20%229%22%3A%20case%20%2210%22%3A%20case%20%2211%22%3A%20case%20%2212%22%3A%20case%20%2213%22%3A%20case%20%2214%22%3A%20case%20%2215%22%3A%20%0A%20%20%20%20%20%20%20%20%20%20%20%20%20%20%20%20%20%20%20%20return%20%7B%22color%22%3A%20%22%239edae5%22%2C%20%22fillColor%22%3A%20%22%239edae5%22%2C%20%22fillOpacity%22%3A%200.5%2C%20%22weight%22%3A%202%7D%3B%0A%20%20%20%20%20%20%20%20%20%20%20%20%20%20%20%20default%3A%0A%20%20%20%20%20%20%20%20%20%20%20%20%20%20%20%20%20%20%20%20return%20%7B%22color%22%3A%20%22%231f77b4%22%2C%20%22fillColor%22%3A%20%22%231f77b4%22%2C%20%22fillOpacity%22%3A%200.5%2C%20%22weight%22%3A%202%7D%3B%0A%20%20%20%20%20%20%20%20%20%20%20%20%7D%0A%20%20%20%20%20%20%20%20%7D%0A%20%20%20%20%20%20%20%20function%20geo_json_32b0241379d341688c9086cc842a76c6_highlighter%28feature%29%20%7B%0A%20%20%20%20%20%20%20%20%20%20%20%20switch%28feature.id%29%20%7B%0A%20%20%20%20%20%20%20%20%20%20%20%20%20%20%20%20default%3A%0A%20%20%20%20%20%20%20%20%20%20%20%20%20%20%20%20%20%20%20%20return%20%7B%22fillOpacity%22%3A%200.75%7D%3B%0A%20%20%20%20%20%20%20%20%20%20%20%20%7D%0A%20%20%20%20%20%20%20%20%7D%0A%20%20%20%20%20%20%20%20function%20geo_json_32b0241379d341688c9086cc842a76c6_pointToLayer%28feature%2C%20latlng%29%20%7B%0A%20%20%20%20%20%20%20%20%20%20%20%20var%20opts%20%3D%20%7B%22bubblingMouseEvents%22%3A%20true%2C%20%22color%22%3A%20%22%233388ff%22%2C%20%22dashArray%22%3A%20null%2C%20%22dashOffset%22%3A%20null%2C%20%22fill%22%3A%20true%2C%20%22fillColor%22%3A%20%22%233388ff%22%2C%20%22fillOpacity%22%3A%200.2%2C%20%22fillRule%22%3A%20%22evenodd%22%2C%20%22lineCap%22%3A%20%22round%22%2C%20%22lineJoin%22%3A%20%22round%22%2C%20%22opacity%22%3A%201.0%2C%20%22radius%22%3A%202%2C%20%22stroke%22%3A%20true%2C%20%22weight%22%3A%203%7D%3B%0A%20%20%20%20%20%20%20%20%20%20%20%20%0A%20%20%20%20%20%20%20%20%20%20%20%20let%20style%20%3D%20geo_json_32b0241379d341688c9086cc842a76c6_styler%28feature%29%0A%20%20%20%20%20%20%20%20%20%20%20%20Object.assign%28opts%2C%20style%29%0A%20%20%20%20%20%20%20%20%20%20%20%20%0A%20%20%20%20%20%20%20%20%20%20%20%20return%20new%20L.CircleMarker%28latlng%2C%20opts%29%0A%20%20%20%20%20%20%20%20%7D%0A%0A%20%20%20%20%20%20%20%20function%20geo_json_32b0241379d341688c9086cc842a76c6_onEachFeature%28feature%2C%20layer%29%20%7B%0A%20%20%20%20%20%20%20%20%20%20%20%20layer.on%28%7B%0A%20%20%20%20%20%20%20%20%20%20%20%20%20%20%20%20mouseout%3A%20function%28e%29%20%7B%0A%20%20%20%20%20%20%20%20%20%20%20%20%20%20%20%20%20%20%20%20if%28typeof%20e.target.setStyle%20%3D%3D%3D%20%22function%22%29%7B%0A%20%20%20%20%20%20%20%20%20%20%20%20%20%20%20%20%20%20%20%20%20%20%20%20geo_json_32b0241379d341688c9086cc842a76c6.resetStyle%28e.target%29%3B%0A%20%20%20%20%20%20%20%20%20%20%20%20%20%20%20%20%20%20%20%20%7D%0A%20%20%20%20%20%20%20%20%20%20%20%20%20%20%20%20%7D%2C%0A%20%20%20%20%20%20%20%20%20%20%20%20%20%20%20%20mouseover%3A%20function%28e%29%20%7B%0A%20%20%20%20%20%20%20%20%20%20%20%20%20%20%20%20%20%20%20%20if%28typeof%20e.target.setStyle%20%3D%3D%3D%20%22function%22%29%7B%0A%20%20%20%20%20%20%20%20%20%20%20%20%20%20%20%20%20%20%20%20%20%20%20%20const%20highlightStyle%20%3D%20geo_json_32b0241379d341688c9086cc842a76c6_highlighter%28e.target.feature%29%0A%20%20%20%20%20%20%20%20%20%20%20%20%20%20%20%20%20%20%20%20%20%20%20%20e.target.setStyle%28highlightStyle%29%3B%0A%20%20%20%20%20%20%20%20%20%20%20%20%20%20%20%20%20%20%20%20%7D%0A%20%20%20%20%20%20%20%20%20%20%20%20%20%20%20%20%7D%2C%0A%20%20%20%20%20%20%20%20%20%20%20%20%7D%29%3B%0A%20%20%20%20%20%20%20%20%7D%3B%0A%20%20%20%20%20%20%20%20var%20geo_json_32b0241379d341688c9086cc842a76c6%20%3D%20L.geoJson%28null%2C%20%7B%0A%20%20%20%20%20%20%20%20%20%20%20%20%20%20%20%20onEachFeature%3A%20geo_json_32b0241379d341688c9086cc842a76c6_onEachFeature%2C%0A%20%20%20%20%20%20%20%20%20%20%20%20%0A%20%20%20%20%20%20%20%20%20%20%20%20%20%20%20%20style%3A%20geo_json_32b0241379d341688c9086cc842a76c6_styler%2C%0A%20%20%20%20%20%20%20%20%20%20%20%20%20%20%20%20pointToLayer%3A%20geo_json_32b0241379d341688c9086cc842a76c6_pointToLayer%0A%20%20%20%20%20%20%20%20%7D%29%3B%0A%0A%20%20%20%20%20%20%20%20function%20geo_json_32b0241379d341688c9086cc842a76c6_add%20%28data%29%20%7B%0A%20%20%20%20%20%20%20%20%20%20%20%20geo_json_32b0241379d341688c9086cc842a76c6%0A%20%20%20%20%20%20%20%20%20%20%20%20%20%20%20%20.addData%28data%29%0A%20%20%20%20%20%20%20%20%20%20%20%20%20%20%20%20.addTo%28map_7f2e4ca70f894a1faa9b76d0adadfb4e%29%3B%0A%20%20%20%20%20%20%20%20%7D%0A%20%20%20%20%20%20%20%20%20%20%20%20geo_json_32b0241379d341688c9086cc842a76c6_add%28%7B%22bbox%22%3A%20%5B-122.275329%2C%2037.802239000000014%2C%20-122.258365%2C%2037.871087%5D%2C%20%22features%22%3A%20%5B%7B%22bbox%22%3A%20%5B-122.262174%2C%2037.838173000000005%2C%20-122.261705%2C%2037.84106999999999%5D%2C%20%22geometry%22%3A%20%7B%22coordinates%22%3A%20%5B%5B-122.262174%2C%2037.838173000000005%5D%2C%20%5B-122.262091%2C%2037.83833999999998%5D%2C%20%5B-122.26203199999999%2C%2037.838461000000024%5D%2C%20%5B-122.26206100000002%2C%2037.838639%5D%2C%20%5B-122.26208899999999%2C%2037.83881799999997%5D%2C%20%5B-122.262067%2C%2037.83899700000002%5D%2C%20%5B-122.26204100000001%2C%2037.839176%5D%2C%20%5B-122.26201700000001%2C%2037.83935400000002%5D%2C%20%5B-122.26199299999999%2C%2037.83953299999999%5D%2C%20%5B-122.26196900000001%2C%2037.83971199999998%5D%2C%20%5B-122.261958%2C%2037.83978600000001%5D%2C%20%5B-122.261866%2C%2037.83995099999997%5D%2C%20%5B-122.26181299999999%2C%2037.84004700000002%5D%2C%20%5B-122.26184200000002%2C%2037.840225000000046%5D%2C%20%5B-122.261866%2C%2037.840374000000004%5D%2C%20%5B-122.261852%2C%2037.84046699999996%5D%2C%20%5B-122.261796%2C%2037.84052600000004%5D%2C%20%5B-122.26177100000001%2C%2037.84068899999997%5D%2C%20%5B-122.26175200000002%2C%2037.84081299999998%5D%2C%20%5B-122.26172800000002%2C%2037.840940999999965%5D%2C%20%5B-122.261705%2C%2037.84106999999999%5D%5D%2C%20%22type%22%3A%20%22LineString%22%7D%2C%20%22id%22%3A%20%220%22%2C%20%22properties%22%3A%20%7B%22__folium_color%22%3A%20%22%231f77b4%22%2C%20%22border%22%3A%20false%2C%20%22index%22%3A%200%2C%20%22intersection_hash%22%3A%20null%2C%20%22shape_array_key%22%3A%20%223caab5c44277cbdc8fbc755bc0ea7633%22%2C%20%22tract%22%3A%20%2206001400300%22%2C%20%22tract_1%22%3A%20null%2C%20%22tract_2%22%3A%20null%7D%2C%20%22type%22%3A%20%22Feature%22%7D%2C%20%7B%22bbox%22%3A%20%5B-122.26586969642868%2C%2037.8238522300393%2C%20-122.262331%2C%2037.83705300000004%5D%2C%20%22geometry%22%3A%20%7B%22coordinates%22%3A%20%5B%5B-122.26586969642868%2C%2037.8238522300393%5D%2C%20%5B-122.26585%2C%2037.82393399999999%5D%2C%20%5B-122.265829%2C%2037.824024999999985%5D%2C%20%5B-122.265793%2C%2037.824164%5D%2C%20%5B-122.26574600000001%2C%2037.824340000000014%5D%2C%20%5B-122.26569800000001%2C%2037.824516%5D%2C%20%5B-122.265675%2C%2037.82460099999996%5D%2C%20%5B-122.265636%2C%2037.824744%5D%2C%20%5B-122.26559300000001%2C%2037.82489499999998%5D%2C%20%5B-122.26554499999999%2C%2037.82507100000003%5D%2C%20%5B-122.265498%2C%2037.82524700000001%5D%2C%20%5B-122.265463%2C%2037.82537400000003%5D%2C%20%5B-122.265417%2C%2037.82555%5D%2C%20%5B-122.265393%2C%2037.825641999999995%5D%2C%20%5B-122.265345%2C%2037.825818%5D%2C%20%5B-122.265297%2C%2037.825994%5D%2C%20%5B-122.26526500000001%2C%2037.826112000000016%5D%2C%20%5B-122.26521499999998%2C%2037.82628800000001%5D%2C%20%5B-122.265198%2C%2037.82634899999994%5D%2C%20%5B-122.265173%2C%2037.82644100000004%5D%2C%20%5B-122.265129%2C%2037.82661699999998%5D%2C%20%5B-122.265025%2C%2037.82677700000001%5D%2C%20%5B-122.26495900000002%2C%2037.82687900000003%5D%2C%20%5B-122.26497100000002%2C%2037.82705899999999%5D%2C%20%5B-122.264981%2C%2037.827196%5D%2C%20%5B-122.26493200000002%2C%2037.82737199999998%5D%2C%20%5B-122.264891%2C%2037.827525%5D%2C%20%5B-122.264844%2C%2037.82770099999999%5D%2C%20%5B-122.26479700000002%2C%2037.82787700000003%5D%2C%20%5B-122.26474900000001%2C%2037.828052999999976%5D%2C%20%5B-122.264708%2C%2037.82820699999999%5D%2C%20%5B-122.26466%2C%2037.82838299999999%5D%2C%20%5B-122.264612%2C%2037.828559%5D%2C%20%5B-122.264601%2C%2037.82860000000001%5D%2C%20%5B-122.26455199999998%2C%2037.828776000000005%5D%2C%20%5B-122.26450299999999%2C%2037.828950999999996%5D%2C%20%5B-122.26446399999999%2C%2037.82909000000001%5D%2C%20%5B-122.264432%2C%2037.82919899999998%5D%2C%20%5B-122.264316%2C%2037.82935399999998%5D%2C%20%5B-122.26421500000001%2C%2037.82949000000003%5D%2C%20%5B-122.26423200000002%2C%2037.82966900000003%5D%2C%20%5B-122.264249%2C%2037.82984899999996%5D%2C%20%5B-122.26423200000002%2C%2037.829952999999996%5D%2C%20%5B-122.264186%2C%2037.83012899999999%5D%2C%20%5B-122.264174%2C%2037.83017600000002%5D%2C%20%5B-122.26412799999999%2C%2037.83035199999996%5D%2C%20%5B-122.26411599999999%2C%2037.83039599999998%5D%2C%20%5B-122.26407000000002%2C%2037.83057200000001%5D%2C%20%5B-122.264024%2C%2037.830747999999964%5D%2C%20%5B-122.263995%2C%2037.830858%5D%2C%20%5B-122.26394700000002%2C%2037.83103399999998%5D%2C%20%5B-122.26392900000002%2C%2037.83109999999999%5D%2C%20%5B-122.26388%2C%2037.83127599999996%5D%2C%20%5B-122.263865%2C%2037.831331000000006%5D%2C%20%5B-122.263817%2C%2037.831507%5D%2C%20%5B-122.263801%2C%2037.83156400000001%5D%2C%20%5B-122.26375%2C%2037.831739000000006%5D%2C%20%5B-122.263699%2C%2037.83191499999998%5D%2C%20%5B-122.26365299999999%2C%2037.83207399999997%5D%2C%20%5B-122.26360199999999%2C%2037.832249000000004%5D%2C%20%5B-122.26355400000001%2C%2037.83242500000002%5D%2C%20%5B-122.26350599999999%2C%2037.83260099999998%5D%2C%20%5B-122.263466%2C%2037.83274999999996%5D%2C%20%5B-122.263399%2C%2037.832809000000026%5D%2C%20%5B-122.26336200000001%2C%2037.832985999999984%5D%2C%20%5B-122.26334700000001%2C%2037.83305700000002%5D%2C%20%5B-122.26327200000001%2C%2037.83322700000001%5D%2C%20%5B-122.26323200000002%2C%2037.83331699999996%5D%2C%20%5B-122.26320899999999%2C%2037.83349599999998%5D%2C%20%5B-122.263192%2C%2037.83362500000001%5D%2C%20%5B-122.26312800000001%2C%2037.833797999999994%5D%2C%20%5B-122.263115%2C%2037.83384100000001%5D%2C%20%5B-122.263159%2C%2037.83394900000002%5D%2C%20%5B-122.263111%2C%2037.83412500000003%5D%2C%20%5B-122.263094%2C%2037.83418799999995%5D%2C%20%5B-122.26305200000002%2C%2037.83434000000001%5D%2C%20%5B-122.263005%2C%2037.834515999999994%5D%2C%20%5B-122.262958%2C%2037.834692000000004%5D%2C%20%5B-122.26294200000001%2C%2037.83475100000001%5D%2C%20%5B-122.262915%2C%2037.83485800000002%5D%2C%20%5B-122.262896%2C%2037.834934999999994%5D%2C%20%5B-122.26287200000002%2C%2037.83503299999997%5D%2C%20%5B-122.262826%2C%2037.83520899999996%5D%2C%20%5B-122.26278%2C%2037.83538499999999%5D%2C%20%5B-122.262734%2C%2037.835560999999984%5D%2C%20%5B-122.262685%2C%2037.835736999999966%5D%2C%20%5B-122.262637%2C%2037.83591299999998%5D%2C%20%5B-122.262622%2C%2037.835964999999995%5D%2C%20%5B-122.262573%2C%2037.83614099999994%5D%2C%20%5B-122.26254300000001%2C%2037.83624500000002%5D%2C%20%5B-122.26249400000002%2C%2037.836420999999966%5D%2C%20%5B-122.262445%2C%2037.836596%5D%2C%20%5B-122.26242%2C%2037.83668400000002%5D%2C%20%5B-122.26239199999999%2C%2037.83678099999999%5D%2C%20%5B-122.262379%2C%2037.83684399999999%5D%2C%20%5B-122.26235000000001%2C%2037.83695499999996%5D%2C%20%5B-122.262331%2C%2037.83705300000004%5D%5D%2C%20%22type%22%3A%20%22LineString%22%7D%2C%20%22id%22%3A%20%221%22%2C%20%22properties%22%3A%20%7B%22__folium_color%22%3A%20%22%231f77b4%22%2C%20%22border%22%3A%20false%2C%20%22index%22%3A%201%2C%20%22intersection_hash%22%3A%20null%2C%20%22shape_array_key%22%3A%20%223caab5c44277cbdc8fbc755bc0ea7633%22%2C%20%22tract%22%3A%20%2206001401100%22%2C%20%22tract_1%22%3A%20null%2C%20%22tract_2%22%3A%20null%7D%2C%20%22type%22%3A%20%22Feature%22%7D%2C%20%7B%22bbox%22%3A%20%5B-122.26897606386338%2C%2037.81194258489723%2C%20-122.26587770134967%2C%2037.82381899746148%5D%2C%20%22geometry%22%3A%20%7B%22coordinates%22%3A%20%5B%5B-122.26897606386338%2C%2037.81194258489723%5D%2C%20%5B-122.26897399999999%2C%2037.81195599999999%5D%2C%20%5B-122.26892600000001%2C%2037.81213199999997%5D%2C%20%5B-122.2689%2C%2037.81222600000001%5D%2C%20%5B-122.268852%2C%2037.81240200000006%5D%2C%20%5B-122.268804%2C%2037.81257799999999%5D%2C%20%5B-122.268762%2C%2037.812754000000005%5D%2C%20%5B-122.26872199999998%2C%2037.81292100000007%5D%2C%20%5B-122.26868%2C%2037.81309799999998%5D%2C%20%5B-122.26864000000002%2C%2037.81326499999999%5D%2C%20%5B-122.26859200000001%2C%2037.81344100000004%5D%2C%20%5B-122.268545%2C%2037.813617%5D%2C%20%5B-122.26849899999999%2C%2037.813793%5D%2C%20%5B-122.26841899999998%2C%2037.81396099999998%5D%2C%20%5B-122.26835799999999%2C%2037.81409100000001%5D%2C%20%5B-122.26834300000002%2C%2037.81426999999998%5D%2C%20%5B-122.26832800000001%2C%2037.81444999999995%5D%2C%20%5B-122.26832200000001%2C%2037.81451800000001%5D%2C%20%5B-122.26828300000001%2C%2037.814664000000036%5D%2C%20%5B-122.268243%2C%2037.814828999999996%5D%2C%20%5B-122.26820100000002%2C%2037.815006%5D%2C%20%5B-122.26818999999999%2C%2037.81504999999999%5D%2C%20%5B-122.268147%2C%2037.81522700000001%5D%2C%20%5B-122.26810399999998%2C%2037.81540300000002%5D%2C%20%5B-122.26809399999999%2C%2037.81544300000001%5D%2C%20%5B-122.268051%2C%2037.81561999999999%5D%2C%20%5B-122.268008%2C%2037.81579600000002%5D%2C%20%5B-122.26796499999999%2C%2037.81597299999994%5D%2C%20%5B-122.26792900000001%2C%2037.816122000000064%5D%2C%20%5B-122.26791100000001%2C%2037.81617500000001%5D%2C%20%5B-122.26789600000001%2C%2037.81624099999999%5D%2C%20%5B-122.267792%2C%2037.81640099999998%5D%2C%20%5B-122.267705%2C%2037.816533999999976%5D%2C%20%5B-122.26771899999999%2C%2037.81671399999999%5D%2C%20%5B-122.26773099999998%2C%2037.81687899999994%5D%2C%20%5B-122.26768599999998%2C%2037.81705500000002%5D%2C%20%5B-122.267656%2C%2037.81717099999997%5D%2C%20%5B-122.267617%2C%2037.817319000000026%5D%2C%20%5B-122.267572%2C%2037.817495000000015%5D%2C%20%5B-122.267527%2C%2037.817671999999995%5D%2C%20%5B-122.26748100000002%2C%2037.81784799999998%5D%2C%20%5B-122.26746900000002%2C%2037.817896%5D%2C%20%5B-122.26742400000002%2C%2037.818071999999994%5D%2C%20%5B-122.267381%2C%2037.81824199999999%5D%2C%20%5B-122.267335%2C%2037.81841800000005%5D%2C%20%5B-122.26729500000002%2C%2037.81856899999998%5D%2C%20%5B-122.26724900000002%2C%2037.818744999999986%5D%2C%20%5B-122.26720299999998%2C%2037.818920999999975%5D%2C%20%5B-122.267168%2C%2037.819055000000034%5D%2C%20%5B-122.26712000000002%2C%2037.81923100000004%5D%2C%20%5B-122.267047%2C%2037.819401000000035%5D%2C%20%5B-122.26697399999999%2C%2037.81957099999998%5D%2C%20%5B-122.26694000000002%2C%2037.81965000000003%5D%2C%20%5B-122.266927%2C%2037.819829999999996%5D%2C%20%5B-122.266916%2C%2037.81998599999998%5D%2C%20%5B-122.26686900000001%2C%2037.82016200000002%5D%2C%20%5B-122.26682100000001%2C%2037.820337999999964%5D%2C%20%5B-122.266774%2C%2037.82051400000002%5D%2C%20%5B-122.266732%2C%2037.82066999999998%5D%2C%20%5B-122.266685%2C%2037.820846%5D%2C%20%5B-122.266663%2C%2037.82092599999998%5D%2C%20%5B-122.266616%2C%2037.82110199999996%5D%2C%20%5B-122.266569%2C%2037.82127799999996%5D%2C%20%5B-122.266551%2C%2037.82134399999999%5D%2C%20%5B-122.266506%2C%2037.821519999999985%5D%2C%20%5B-122.26647500000001%2C%2037.82164099999999%5D%2C%20%5B-122.266427%2C%2037.821817%5D%2C%20%5B-122.26637900000001%2C%2037.82199300000004%5D%2C%20%5B-122.26634099999998%2C%2037.82212900000002%5D%2C%20%5B-122.26629199999999%2C%2037.82230499999997%5D%2C%20%5B-122.266209%2C%2037.822472%5D%2C%20%5B-122.26613000000002%2C%2037.82263000000003%5D%2C%20%5B-122.26612100000001%2C%2037.822809999999976%5D%2C%20%5B-122.26611199999999%2C%2037.82298900000002%5D%2C%20%5B-122.266063%2C%2037.823164999999925%5D%2C%20%5B-122.266041%2C%2037.82324199999997%5D%2C%20%5B-122.266006%2C%2037.82336000000001%5D%2C%20%5B-122.26599400000002%2C%2037.82340799999995%5D%2C%20%5B-122.26596200000002%2C%2037.823519000000005%5D%2C%20%5B-122.265921%2C%2037.823652%5D%2C%20%5B-122.265883%2C%2037.823797%5D%2C%20%5B-122.26587770134967%2C%2037.82381899746148%5D%5D%2C%20%22type%22%3A%20%22LineString%22%7D%2C%20%22id%22%3A%20%222%22%2C%20%22properties%22%3A%20%7B%22__folium_color%22%3A%20%22%231f77b4%22%2C%20%22border%22%3A%20false%2C%20%22index%22%3A%202%2C%20%22intersection_hash%22%3A%20null%2C%20%22shape_array_key%22%3A%20%223caab5c44277cbdc8fbc755bc0ea7633%22%2C%20%22tract%22%3A%20%2206001401300%22%2C%20%22tract_1%22%3A%20null%2C%20%22tract_2%22%3A%20null%7D%2C%20%22type%22%3A%20%22Feature%22%7D%2C%20%7B%22bbox%22%3A%20%5B-122.269483%2C%2037.80918699999996%2C%20-122.26853%2C%2037.81194475987493%5D%2C%20%22geometry%22%3A%20%7B%22coordinates%22%3A%20%5B%5B-122.26853%2C%2037.80918699999996%5D%2C%20%5B-122.26873400000001%2C%2037.80926699999998%5D%2C%20%5B-122.268938%2C%2037.80934699999997%5D%2C%20%5B-122.26913%2C%2037.809444%5D%2C%20%5B-122.26932100000002%2C%2037.809541%5D%2C%20%5B-122.269413%2C%2037.80958699999998%5D%2C%20%5B-122.26945600000002%2C%2037.80976400000003%5D%2C%20%5B-122.269483%2C%2037.80987799999996%5D%2C%20%5B-122.26944800000001%2C%2037.81001000000002%5D%2C%20%5B-122.26940599999999%2C%2037.81018700000003%5D%2C%20%5B-122.269374%2C%2037.81032099999996%5D%2C%20%5B-122.269329%2C%2037.81049700000001%5D%2C%20%5B-122.26928299999999%2C%2037.81067299999997%5D%2C%20%5B-122.269252%2C%2037.81079500000003%5D%2C%20%5B-122.269206%2C%2037.810971%5D%2C%20%5B-122.269188%2C%2037.811041000000024%5D%2C%20%5B-122.26914799999999%2C%2037.811211000000014%5D%2C%20%5B-122.269104%2C%2037.81138700000004%5D%2C%20%5B-122.26906999999999%2C%2037.811526999999984%5D%2C%20%5B-122.269026%2C%2037.81170299999997%5D%2C%20%5B-122.268996%2C%2037.81182399999998%5D%2C%20%5B-122.268984%2C%2037.811891000000024%5D%2C%20%5B-122.26897572925124%2C%2037.81194475987493%5D%5D%2C%20%22type%22%3A%20%22LineString%22%7D%2C%20%22id%22%3A%20%223%22%2C%20%22properties%22%3A%20%7B%22__folium_color%22%3A%20%22%231f77b4%22%2C%20%22border%22%3A%20false%2C%20%22index%22%3A%203%2C%20%22intersection_hash%22%3A%20null%2C%20%22shape_array_key%22%3A%20%223caab5c44277cbdc8fbc755bc0ea7633%22%2C%20%22tract%22%3A%20%2206001402800%22%2C%20%22tract_1%22%3A%20null%2C%20%22tract_2%22%3A%20null%7D%2C%20%22type%22%3A%20%22Feature%22%7D%2C%20%7B%22bbox%22%3A%20%5B-122.275329%2C%2037.80225400000002%2C%20-122.27280100000002%2C%2037.80320299999999%5D%2C%20%22geometry%22%3A%20%7B%22coordinates%22%3A%20%5B%5B-122.27445600000001%2C%2037.80225400000002%5D%2C%20%5B-122.274678%2C%2037.80229299999999%5D%2C%20%5B-122.27490000000002%2C%2037.80233299999995%5D%2C%20%5B-122.27510400000001%2C%2037.80241199999999%5D%2C%20%5B-122.275172%2C%2037.80244000000006%5D%2C%20%5B-122.275329%2C%2037.802504999999975%5D%2C%20%5B-122.275229%2C%2037.80266699999995%5D%2C%20%5B-122.27513%2C%2037.80282800000002%5D%2C%20%5B-122.27502999999999%2C%2037.802990000000015%5D%2C%20%5B-122.27493000000001%2C%2037.803152%5D%2C%20%5B-122.274899%2C%2037.80320299999999%5D%2C%20%5B-122.274729%2C%2037.80314500000004%5D%2C%20%5B-122.274557%2C%2037.80302699999997%5D%2C%20%5B-122.274464%2C%2037.802962999999984%5D%2C%20%5B-122.274244%2C%2037.802914999999985%5D%2C%20%5B-122.274025%2C%2037.80286800000004%5D%2C%20%5B-122.273821%2C%2037.80278800000002%5D%2C%20%5B-122.273617%2C%2037.802708000000045%5D%2C%20%5B-122.273413%2C%2037.80262800000003%5D%2C%20%5B-122.273209%2C%2037.80254900000002%5D%2C%20%5B-122.273005%2C%2037.802468999999995%5D%2C%20%5B-122.27280100000002%2C%2037.80238899999999%5D%5D%2C%20%22type%22%3A%20%22LineString%22%7D%2C%20%22id%22%3A%20%224%22%2C%20%22properties%22%3A%20%7B%22__folium_color%22%3A%20%22%231f77b4%22%2C%20%22border%22%3A%20false%2C%20%22index%22%3A%204%2C%20%22intersection_hash%22%3A%20null%2C%20%22shape_array_key%22%3A%20%223caab5c44277cbdc8fbc755bc0ea7633%22%2C%20%22tract%22%3A%20%2206001403100%22%2C%20%22tract_1%22%3A%20null%2C%20%22tract_2%22%3A%20null%7D%2C%20%22type%22%3A%20%22Feature%22%7D%2C%20%7B%22bbox%22%3A%20%5B-122.25914600000002%2C%2037.86515596830683%2C%20-122.2584244799654%2C%2037.86851599999996%5D%2C%20%22geometry%22%3A%20%7B%22coordinates%22%3A%20%5B%5B-122.2584244799654%2C%2037.86515596830683%5D%2C%20%5B-122.258427%2C%2037.86516300000001%5D%2C%20%5B-122.25847700000001%2C%2037.86530000000003%5D%2C%20%5B-122.25851300000001%2C%2037.865477999999975%5D%2C%20%5B-122.25854900000002%2C%2037.865654999999975%5D%2C%20%5B-122.25856700000001%2C%2037.86574700000004%5D%2C%20%5B-122.258603%2C%2037.865924999999976%5D%2C%20%5B-122.25860600000001%2C%2037.86610399999999%5D%2C%20%5B-122.25861%2C%2037.86629299999999%5D%2C%20%5B-122.25868100000001%2C%2037.86646399999998%5D%2C%20%5B-122.258751%2C%2037.86663499999998%5D%2C%20%5B-122.258789%2C%2037.86681200000001%5D%2C%20%5B-122.258812%2C%2037.86691899999997%5D%2C%20%5B-122.258848%2C%2037.86709699999998%5D%2C%20%5B-122.258884%2C%2037.86727400000006%5D%2C%20%5B-122.25892%2C%2037.86745199999999%5D%2C%20%5B-122.258956%2C%2037.86762899999999%5D%2C%20%5B-122.258992%2C%2037.867807%5D%2C%20%5B-122.259031%2C%2037.86798399999997%5D%2C%20%5B-122.25906900000001%2C%2037.868162000000005%5D%2C%20%5B-122.25910799999998%2C%2037.86833899999999%5D%2C%20%5B-122.25914600000002%2C%2037.86851599999996%5D%5D%2C%20%22type%22%3A%20%22LineString%22%7D%2C%20%22id%22%3A%20%225%22%2C%20%22properties%22%3A%20%7B%22__folium_color%22%3A%20%22%231f77b4%22%2C%20%22border%22%3A%20false%2C%20%22index%22%3A%205%2C%20%22intersection_hash%22%3A%20null%2C%20%22shape_array_key%22%3A%20%223caab5c44277cbdc8fbc755bc0ea7633%22%2C%20%22tract%22%3A%20%2206001422800%22%2C%20%22tract_1%22%3A%20null%2C%20%22tract_2%22%3A%20null%7D%2C%20%22type%22%3A%20%22Feature%22%7D%2C%20%7B%22bbox%22%3A%20%5B-122.259602%2C%2037.856241646568414%2C%20-122.25886343516174%2C%2037.86144800850283%5D%2C%20%22geometry%22%3A%20%7B%22coordinates%22%3A%20%5B%5B-122.25960105162736%2C%2037.856241646568414%5D%2C%20%5B-122.259602%2C%2037.85632700000005%5D%2C%20%5B-122.259602%2C%2037.85637200000003%5D%2C%20%5B-122.25957899999999%2C%2037.85655100000002%5D%2C%20%5B-122.259555%2C%2037.85672999999998%5D%2C%20%5B-122.259547%2C%2037.85679399999999%5D%2C%20%5B-122.25952799999999%2C%2037.85697300000004%5D%2C%20%5B-122.259511%2C%2037.857126%5D%2C%20%5B-122.25948600000001%2C%2037.85730500000002%5D%2C%20%5B-122.259464%2C%2037.85746299999998%5D%2C%20%5B-122.259439%2C%2037.857642000000006%5D%2C%20%5B-122.259381%2C%2037.857815999999985%5D%2C%20%5B-122.259338%2C%2037.857942000000016%5D%2C%20%5B-122.259342%2C%2037.85812199999999%5D%2C%20%5B-122.25934700000002%2C%2037.858302000000045%5D%2C%20%5B-122.259329%2C%2037.858433000000055%5D%2C%20%5B-122.259301%2C%2037.85861200000002%5D%2C%20%5B-122.259277%2C%2037.85879%5D%2C%20%5B-122.259252%2C%2037.85896900000001%5D%2C%20%5B-122.259227%2C%2037.859148%5D%2C%20%5B-122.259202%2C%2037.859326999999965%5D%2C%20%5B-122.25917700000001%2C%2037.859504999999956%5D%2C%20%5B-122.259115%2C%2037.85967800000003%5D%2C%20%5B-122.259052%2C%2037.85985099999999%5D%2C%20%5B-122.259027%2C%2037.859920999999964%5D%2C%20%5B-122.259046%2C%2037.860099999999974%5D%2C%20%5B-122.259064%2C%2037.860279999999975%5D%2C%20%5B-122.25904%2C%2037.86045800000001%5D%2C%20%5B-122.259015%2C%2037.860636999999954%5D%2C%20%5B-122.25899000000001%2C%2037.86081599999997%5D%2C%20%5B-122.258965%2C%2037.86099499999996%5D%2C%20%5B-122.25894000000001%2C%2037.86117300000001%5D%2C%20%5B-122.25889100000002%2C%2037.86134899999997%5D%2C%20%5B-122.25886343516174%2C%2037.86144800850283%5D%5D%2C%20%22type%22%3A%20%22LineString%22%7D%2C%20%22id%22%3A%20%226%22%2C%20%22properties%22%3A%20%7B%22__folium_color%22%3A%20%22%231f77b4%22%2C%20%22border%22%3A%20false%2C%20%22index%22%3A%206%2C%20%22intersection_hash%22%3A%20null%2C%20%22shape_array_key%22%3A%20%223caab5c44277cbdc8fbc755bc0ea7633%22%2C%20%22tract%22%3A%20%2206001423601%22%2C%20%22tract_1%22%3A%20null%2C%20%22tract_2%22%3A%20null%7D%2C%20%22type%22%3A%20%22Feature%22%7D%2C%20%7B%22bbox%22%3A%20%5B-122.25886343516174%2C%2037.86144800850283%2C%20-122.258365%2C%2037.86515596830683%5D%2C%20%22geometry%22%3A%20%7B%22coordinates%22%3A%20%5B%5B-122.25886343516174%2C%2037.86144800850283%5D%2C%20%5B-122.258842%2C%2037.861524999999986%5D%2C%20%5B-122.258818%2C%2037.861610000000006%5D%2C%20%5B-122.258842%2C%2037.86178899999997%5D%2C%20%5B-122.25885500000001%2C%2037.86188700000003%5D%2C%20%5B-122.25882599999998%2C%2037.86206499999997%5D%2C%20%5B-122.25879899999998%2C%2037.86224400000001%5D%2C%20%5B-122.258784%2C%2037.86234000000003%5D%2C%20%5B-122.258764%2C%2037.86251899999999%5D%2C%20%5B-122.258751%2C%2037.86262999999999%5D%2C%20%5B-122.25872300000002%2C%2037.862808999999984%5D%2C%20%5B-122.258646%2C%2037.86297799999998%5D%2C%20%5B-122.258605%2C%2037.86306700000003%5D%2C%20%5B-122.25861899999998%2C%2037.86324699999997%5D%2C%20%5B-122.258634%2C%2037.863426000000004%5D%2C%20%5B-122.25860899999999%2C%2037.86360500000001%5D%2C%20%5B-122.258584%2C%2037.863783999999974%5D%2C%20%5B-122.258559%2C%2037.863957%5D%2C%20%5B-122.25853400000001%2C%2037.86413599999996%5D%2C%20%5B-122.258514%2C%2037.864293000000046%5D%2C%20%5B-122.25850400000002%2C%2037.864387999999956%5D%2C%20%5B-122.258479%2C%2037.864567000000044%5D%2C%20%5B-122.258463%2C%2037.86470899999998%5D%2C%20%5B-122.258403%2C%2037.86488200000003%5D%2C%20%5B-122.258365%2C%2037.86498999999999%5D%2C%20%5B-122.2584244799654%2C%2037.86515596830683%5D%5D%2C%20%22type%22%3A%20%22LineString%22%7D%2C%20%22id%22%3A%20%227%22%2C%20%22properties%22%3A%20%7B%22__folium_color%22%3A%20%22%231f77b4%22%2C%20%22border%22%3A%20false%2C%20%22index%22%3A%207%2C%20%22intersection_hash%22%3A%20null%2C%20%22shape_array_key%22%3A%20%223caab5c44277cbdc8fbc755bc0ea7633%22%2C%20%22tract%22%3A%20%2206001423602%22%2C%20%22tract_1%22%3A%20null%2C%20%22tract_2%22%3A%20null%7D%2C%20%22type%22%3A%20%22Feature%22%7D%2C%20%7B%22bbox%22%3A%20%5B-122.260077%2C%2037.85297599999998%2C%20-122.259599%2C%2037.85621212559652%5D%2C%20%22geometry%22%3A%20%7B%22coordinates%22%3A%20%5B%5B-122.260077%2C%2037.85297599999998%5D%2C%20%5B-122.260052%2C%2037.853155%5D%2C%20%5B-122.260045%2C%2037.85320100000001%5D%2C%20%5B-122.260001%2C%2037.853377%5D%2C%20%5B-122.25995700000001%2C%2037.85355399999999%5D%2C%20%5B-122.25994%2C%2037.853621999999966%5D%2C%20%5B-122.259935%2C%2037.853802000000044%5D%2C%20%5B-122.25993099999998%2C%2037.85398200000002%5D%2C%20%5B-122.259929%2C%2037.85406000000003%5D%2C%20%5B-122.259905%2C%2037.85423899999999%5D%2C%20%5B-122.259881%2C%2037.85441799999998%5D%2C%20%5B-122.259856%2C%2037.85459600000004%5D%2C%20%5B-122.25983%2C%2037.854775%5D%2C%20%5B-122.259819%2C%2037.85485100000001%5D%2C%20%5B-122.25975200000002%2C%2037.85502299999997%5D%2C%20%5B-122.25971700000001%2C%2037.85511099999996%5D%2C%20%5B-122.259716%2C%2037.855291000000044%5D%2C%20%5B-122.259715%2C%2037.85547100000001%5D%2C%20%5B-122.259715%2C%2037.855555999999964%5D%2C%20%5B-122.25970599999998%2C%2037.85562000000002%5D%2C%20%5B-122.259652%2C%2037.855794999999986%5D%2C%20%5B-122.259599%2C%2037.855967%5D%2C%20%5B-122.2596%2C%2037.856146999999986%5D%2C%20%5B-122.25960072361661%2C%2037.85621212559652%5D%5D%2C%20%22type%22%3A%20%22LineString%22%7D%2C%20%22id%22%3A%20%228%22%2C%20%22properties%22%3A%20%7B%22__folium_color%22%3A%20%22%231f77b4%22%2C%20%22border%22%3A%20false%2C%20%22index%22%3A%208%2C%20%22intersection_hash%22%3A%20null%2C%20%22shape_array_key%22%3A%20%223caab5c44277cbdc8fbc755bc0ea7633%22%2C%20%22tract%22%3A%20%2206001423902%22%2C%20%22tract_1%22%3A%20null%2C%20%22tract_2%22%3A%20null%7D%2C%20%22type%22%3A%20%22Feature%22%7D%2C%20%7B%22bbox%22%3A%20%5B-122.26590052059542%2C%2037.86791699999998%2C%20-122.25912340316077%2C%2037.86869300000006%5D%2C%20%22geometry%22%3A%20%7B%22coordinates%22%3A%20%5B%5B-122.25912340316077%2C%2037.86841074640374%5D%2C%20%5B-122.25914600000002%2C%2037.86851599999996%5D%2C%20%5B-122.25918500000002%2C%2037.86869300000006%5D%2C%20%5B-122.25941099999999%2C%2037.86866900000002%5D%2C%20%5B-122.259637%2C%2037.86864500000002%5D%2C%20%5B-122.259862%2C%2037.86861999999998%5D%2C%20%5B-122.260089%2C%2037.868635000000054%5D%2C%20%5B-122.26025499999999%2C%2037.868646%5D%2C%20%5B-122.260469%2C%2037.868584999999996%5D%2C%20%5B-122.260683%2C%2037.868523000000025%5D%2C%20%5B-122.260908%2C%2037.868494%5D%2C%20%5B-122.26112499999999%2C%2037.86846599999996%5D%2C%20%5B-122.26135%2C%2037.86843699999997%5D%2C%20%5B-122.261451%2C%2037.868424%5D%2C%20%5B-122.261678%2C%2037.868440999999976%5D%2C%20%5B-122.261913%2C%2037.86845799999999%5D%2C%20%5B-122.26212199999999%2C%2037.86838700000002%5D%2C%20%5B-122.262331%2C%2037.86831599999997%5D%2C%20%5B-122.262556%2C%2037.868283999999974%5D%2C%20%5B-122.262781%2C%2037.868256999999986%5D%2C%20%5B-122.263006%2C%2037.86822899999997%5D%2C%20%5B-122.263151%2C%2037.86821099999999%5D%2C%20%5B-122.263376%2C%2037.868184%5D%2C%20%5B-122.263601%2C%2037.868156%5D%2C%20%5B-122.263736%2C%2037.868140000000025%5D%2C%20%5B-122.263963%2C%2037.86815900000001%5D%2C%20%5B-122.26408299999999%2C%2037.86816899999998%5D%2C%20%5B-122.26429500000002%2C%2037.86810299999996%5D%2C%20%5B-122.26450699999998%2C%2037.86803799999999%5D%2C%20%5B-122.26473100000001%2C%2037.868005999999994%5D%2C%20%5B-122.26495600000001%2C%2037.86797500000002%5D%2C%20%5B-122.26504099999998%2C%2037.867964000000036%5D%2C%20%5B-122.26526500000001%2C%2037.86793299999998%5D%2C%20%5B-122.265387%2C%2037.86791699999998%5D%2C%20%5B-122.265528%2C%2037.86792099999999%5D%2C%20%5B-122.26558900000002%2C%2037.86792600000001%5D%2C%20%5B-122.265663%2C%2037.86793500000002%5D%2C%20%5B-122.26571899999999%2C%2037.86795099999998%5D%2C%20%5B-122.265766%2C%2037.86797%5D%2C%20%5B-122.26582000000002%2C%2037.86801799999997%5D%2C%20%5B-122.265874%2C%2037.868106999999966%5D%2C%20%5B-122.26590052059542%2C%2037.86816477701408%5D%5D%2C%20%22type%22%3A%20%22LineString%22%7D%2C%20%22id%22%3A%20%229%22%2C%20%22properties%22%3A%20%7B%22__folium_color%22%3A%20%22%239edae5%22%2C%20%22border%22%3A%20true%2C%20%22index%22%3A%209%2C%20%22intersection_hash%22%3A%202.1337641381851428e%2B18%2C%20%22shape_array_key%22%3A%20%223caab5c44277cbdc8fbc755bc0ea7633%22%2C%20%22tract%22%3A%20null%2C%20%22tract_1%22%3A%20%2206001422800%22%2C%20%22tract_2%22%3A%20%2206001422600%22%7D%2C%20%22type%22%3A%20%22Feature%22%7D%2C%20%7B%22bbox%22%3A%20%5B-122.266168%2C%2037.86792586112199%2C%20-122.26558730568281%2C%2037.871087%5D%2C%20%22geometry%22%3A%20%7B%22coordinates%22%3A%20%5B%5B-122.26558730568281%2C%2037.86792586112199%5D%2C%20%5B-122.26558900000002%2C%2037.86792600000001%5D%2C%20%5B-122.265663%2C%2037.86793500000002%5D%2C%20%5B-122.26571899999999%2C%2037.86795099999998%5D%2C%20%5B-122.265766%2C%2037.86797%5D%2C%20%5B-122.26582000000002%2C%2037.86801799999997%5D%2C%20%5B-122.265874%2C%2037.868106999999966%5D%2C%20%5B-122.26590200000001%2C%2037.86816799999998%5D%2C%20%5B-122.265934%2C%2037.86823499999999%5D%2C%20%5B-122.26598899999999%2C%2037.86834499999998%5D%2C%20%5B-122.266027%2C%2037.86842899999998%5D%2C%20%5B-122.266106%2C%2037.86859799999997%5D%2C%20%5B-122.26614200000002%2C%2037.86867300000001%5D%2C%20%5B-122.266162%2C%2037.868733000000006%5D%2C%20%5B-122.266168%2C%2037.868785999999986%5D%2C%20%5B-122.266164%2C%2037.86883699999996%5D%2C%20%5B-122.26615%2C%2037.868882999999954%5D%2C%20%5B-122.26612700000001%2C%2037.86893599999998%5D%2C%20%5B-122.26609700000002%2C%2037.868989999999954%5D%2C%20%5B-122.26600400000001%2C%2037.86915399999999%5D%2C%20%5B-122.26596800000002%2C%2037.869218%5D%2C%20%5B-122.265882%2C%2037.869358%5D%2C%20%5B-122.265802%2C%2037.869498999999976%5D%2C%20%5B-122.26577399999998%2C%2037.86954999999999%5D%2C%20%5B-122.265751%2C%2037.86959800000004%5D%2C%20%5B-122.26573700000002%2C%2037.869646000000024%5D%2C%20%5B-122.26572499999999%2C%2037.869690999999996%5D%2C%20%5B-122.265717%2C%2037.869745%5D%2C%20%5B-122.26571800000002%2C%2037.869805000000014%5D%2C%20%5B-122.26572499999999%2C%2037.869918999999996%5D%2C%20%5B-122.26573600000002%2C%2037.870030000000035%5D%2C%20%5B-122.26574300000001%2C%2037.870187000000065%5D%2C%20%5B-122.265765%2C%2037.870366000000004%5D%2C%20%5B-122.26578700000002%2C%2037.870545000000014%5D%2C%20%5B-122.26579400000001%2C%2037.87060200000004%5D%2C%20%5B-122.26581499999999%2C%2037.87078099999999%5D%2C%20%5B-122.26580600000001%2C%2037.87096099999999%5D%2C%20%5B-122.26580000000001%2C%2037.871087%5D%5D%2C%20%22type%22%3A%20%22LineString%22%7D%2C%20%22id%22%3A%20%2210%22%2C%20%22properties%22%3A%20%7B%22__folium_color%22%3A%20%22%239edae5%22%2C%20%22border%22%3A%20true%2C%20%22index%22%3A%2010%2C%20%22intersection_hash%22%3A%20-5.279734711215237e%2B18%2C%20%22shape_array_key%22%3A%20%223caab5c44277cbdc8fbc755bc0ea7633%22%2C%20%22tract%22%3A%20null%2C%20%22tract_1%22%3A%20%2206001422900%22%2C%20%22tract_2%22%3A%20%2206001422600%22%7D%2C%20%22type%22%3A%20%22Feature%22%7D%2C%20%7B%22bbox%22%3A%20%5B-122.26234308975404%2C%2037.836990642351275%2C%20-122.26210692706255%2C%2037.83830795404473%5D%2C%20%22geometry%22%3A%20%7B%22coordinates%22%3A%20%5B%5B-122.26234308975404%2C%2037.836990642351275%5D%2C%20%5B-122.262331%2C%2037.83705300000004%5D%2C%20%5B-122.26230599999998%2C%2037.83720699999998%5D%2C%20%5B-122.26229%2C%2037.83731900000005%5D%2C%20%5B-122.26227500000002%2C%2037.837460999999976%5D%2C%20%5B-122.262253%2C%2037.837640000000015%5D%2C%20%5B-122.262238%2C%2037.837743000000025%5D%2C%20%5B-122.262211%2C%2037.83792199999998%5D%2C%20%5B-122.26219999999999%2C%2037.83799400000001%5D%2C%20%5B-122.262174%2C%2037.838173000000005%5D%2C%20%5B-122.26210692706255%2C%2037.83830795404473%5D%5D%2C%20%22type%22%3A%20%22LineString%22%7D%2C%20%22id%22%3A%20%2211%22%2C%20%22properties%22%3A%20%7B%22__folium_color%22%3A%20%22%239edae5%22%2C%20%22border%22%3A%20true%2C%20%22index%22%3A%2011%2C%20%22intersection_hash%22%3A%20-8.684109331624108e%2B18%2C%20%22shape_array_key%22%3A%20%223caab5c44277cbdc8fbc755bc0ea7633%22%2C%20%22tract%22%3A%20null%2C%20%22tract_1%22%3A%20%2206001401100%22%2C%20%22tract_2%22%3A%20%2206001400300%22%7D%2C%20%22type%22%3A%20%22Feature%22%7D%2C%20%7B%22bbox%22%3A%20%5B-122.26127391811067%2C%2037.84471073585913%2C%20-122.26006953784263%2C%2037.85302942913689%5D%2C%20%22geometry%22%3A%20%7B%22coordinates%22%3A%20%5B%5B-122.26127391811067%2C%2037.84471073585913%5D%2C%20%5B-122.261259%2C%2037.844822000000036%5D%2C%20%5B-122.26123600000001%2C%2037.845000999999975%5D%2C%20%5B-122.26114699999998%2C%2037.84516599999998%5D%2C%20%5B-122.26108399999998%2C%2037.845284%5D%2C%20%5B-122.261115%2C%2037.84546200000001%5D%2C%20%5B-122.261145%2C%2037.84564000000001%5D%2C%20%5B-122.26113099999999%2C%2037.84576400000002%5D%2C%20%5B-122.261106%2C%2037.845942999999984%5D%2C%20%5B-122.26107999999999%2C%2037.84612099999997%5D%2C%20%5B-122.261055%2C%2037.84630000000005%5D%2C%20%5B-122.26103%2C%2037.84647900000003%5D%2C%20%5B-122.26100500000001%2C%2037.846657999999984%5D%2C%20%5B-122.260979%2C%2037.846836%5D%2C%20%5B-122.26095400000001%2C%2037.847014999999956%5D%2C%20%5B-122.26092900000002%2C%2037.84719399999996%5D%2C%20%5B-122.260905%2C%2037.84737299999996%5D%2C%20%5B-122.26088%2C%2037.84755200000001%5D%2C%20%5B-122.260793%2C%2037.847718000000036%5D%2C%20%5B-122.260719%2C%2037.84786000000001%5D%2C%20%5B-122.26077%2C%2037.84803500000006%5D%2C%20%5B-122.26080000000002%2C%2037.84814100000003%5D%2C%20%5B-122.26077400000001%2C%2037.84832000000002%5D%2C%20%5B-122.26074900000002%2C%2037.848498%5D%2C%20%5B-122.260724%2C%2037.84867700000002%5D%2C%20%5B-122.26069899999999%2C%2037.84885599999998%5D%2C%20%5B-122.260675%2C%2037.84903500000002%5D%2C%20%5B-122.26065100000001%2C%2037.84921399999998%5D%2C%20%5B-122.26062600000002%2C%2037.84939299999995%5D%2C%20%5B-122.260619%2C%2037.84944700000001%5D%2C%20%5B-122.260593%2C%2037.84962600000001%5D%2C%20%5B-122.260579%2C%2037.849727000000044%5D%2C%20%5B-122.260553%2C%2037.84990600000002%5D%2C%20%5B-122.26052800000001%2C%2037.85008400000002%5D%2C%20%5B-122.26051200000002%2C%2037.850193999999995%5D%2C%20%5B-122.26043800000001%2C%2037.85036399999998%5D%2C%20%5B-122.260394%2C%2037.850465999999976%5D%2C%20%5B-122.260405%2C%2037.85064600000002%5D%2C%20%5B-122.260415%2C%2037.85082499999999%5D%2C%20%5B-122.26042000000001%2C%2037.85090700000005%5D%2C%20%5B-122.260404%2C%2037.85102599999998%5D%2C%20%5B-122.260378%2C%2037.85120500000001%5D%2C%20%5B-122.260353%2C%2037.85138299999996%5D%2C%20%5B-122.260327%2C%2037.85156199999997%5D%2C%20%5B-122.260302%2C%2037.85174099999999%5D%2C%20%5B-122.260276%2C%2037.851920000000035%5D%2C%20%5B-122.260262%2C%2037.852021%5D%2C%20%5B-122.260237%2C%2037.85220000000002%5D%2C%20%5B-122.260212%2C%2037.85237899999998%5D%2C%20%5B-122.260187%2C%2037.85255700000001%5D%2C%20%5B-122.260173%2C%2037.85265800000003%5D%2C%20%5B-122.26014900000001%2C%2037.852823%5D%2C%20%5B-122.26009200000001%2C%2037.85288299999999%5D%2C%20%5B-122.260077%2C%2037.85297599999998%5D%2C%20%5B-122.26006953784263%2C%2037.85302942913689%5D%5D%2C%20%22type%22%3A%20%22LineString%22%7D%2C%20%22id%22%3A%20%2212%22%2C%20%22properties%22%3A%20%7B%22__folium_color%22%3A%20%22%239edae5%22%2C%20%22border%22%3A%20true%2C%20%22index%22%3A%2012%2C%20%22intersection_hash%22%3A%209.114761875024975e%2B18%2C%20%22shape_array_key%22%3A%20%223caab5c44277cbdc8fbc755bc0ea7633%22%2C%20%22tract%22%3A%20null%2C%20%22tract_1%22%3A%20%2206001400500%22%2C%20%22tract_2%22%3A%20%2206001400400%22%7D%2C%20%22type%22%3A%20%22Feature%22%7D%2C%20%7B%22bbox%22%3A%20%5B-122.26170633583747%2C%2037.84106250770652%2C%20-122.26108399999998%2C%2037.8452939702092%5D%2C%20%22geometry%22%3A%20%7B%22coordinates%22%3A%20%5B%5B-122.26170633583747%2C%2037.84106250770652%5D%2C%20%5B-122.261705%2C%2037.84106999999999%5D%2C%20%5B-122.261688%2C%2037.84120500000003%5D%2C%20%5B-122.261664%2C%2037.841384%5D%2C%20%5B-122.26161100000002%2C%2037.84155900000004%5D%2C%20%5B-122.26157200000002%2C%2037.841688000000005%5D%2C%20%5B-122.26158%2C%2037.841868000000005%5D%2C%20%5B-122.261588%2C%2037.842047000000036%5D%2C%20%5B-122.261577%2C%2037.84222700000001%5D%2C%20%5B-122.26157200000002%2C%2037.84230599999998%5D%2C%20%5B-122.26160300000001%2C%2037.842364000000025%5D%2C%20%5B-122.261577%2C%2037.84254299999997%5D%2C%20%5B-122.26155200000001%2C%2037.84272099999994%5D%2C%20%5B-122.261526%2C%2037.84289999999998%5D%2C%20%5B-122.26150300000002%2C%2037.843059000000025%5D%2C%20%5B-122.26147600000002%2C%2037.84323799999994%5D%2C%20%5B-122.26145200000002%2C%2037.84340000000002%5D%2C%20%5B-122.261428%2C%2037.84357900000002%5D%2C%20%5B-122.26141000000001%2C%2037.84371%5D%2C%20%5B-122.26138699999998%2C%2037.843888999999955%5D%2C%20%5B-122.26137100000001%2C%2037.84400999999999%5D%2C%20%5B-122.261352%2C%2037.84413799999998%5D%2C%20%5B-122.26132900000002%2C%2037.84428500000001%5D%2C%20%5B-122.261306%2C%2037.844463999999995%5D%2C%20%5B-122.261283%2C%2037.84464300000003%5D%2C%20%5B-122.261259%2C%2037.844822000000036%5D%2C%20%5B-122.26123600000001%2C%2037.845000999999975%5D%2C%20%5B-122.26114699999998%2C%2037.84516599999998%5D%2C%20%5B-122.26108399999998%2C%2037.845284%5D%2C%20%5B-122.26108573638079%2C%2037.8452939702092%5D%5D%2C%20%22type%22%3A%20%22LineString%22%7D%2C%20%22id%22%3A%20%2213%22%2C%20%22properties%22%3A%20%7B%22__folium_color%22%3A%20%22%239edae5%22%2C%20%22border%22%3A%20true%2C%20%22index%22%3A%2013%2C%20%22intersection_hash%22%3A%201.7012630256245944e%2B18%2C%20%22shape_array_key%22%3A%20%223caab5c44277cbdc8fbc755bc0ea7633%22%2C%20%22tract%22%3A%20null%2C%20%22tract_1%22%3A%20%2206001400600%22%2C%20%22tract_2%22%3A%20%2206001400400%22%7D%2C%20%22type%22%3A%20%22Feature%22%7D%2C%20%7B%22bbox%22%3A%20%5B-122.27136559533855%2C%2037.80405496281582%2C%20-122.268221%2C%2037.80923948768508%5D%2C%20%22geometry%22%3A%20%7B%22coordinates%22%3A%20%5B%5B-122.27136559533855%2C%2037.80405496281582%5D%2C%20%5B-122.27130900000002%2C%2037.80413699999997%5D%2C%20%5B-122.2712%2C%2037.80429500000001%5D%2C%20%5B-122.27109600000001%2C%2037.80445499999999%5D%2C%20%5B-122.270992%2C%2037.804614999999956%5D%2C%20%5B-122.27088900000001%2C%2037.804774999999985%5D%2C%20%5B-122.27073899999999%2C%2037.80491000000001%5D%2C%20%5B-122.270599%2C%2037.805037000000006%5D%2C%20%5B-122.27052999999998%2C%2037.80520800000001%5D%2C%20%5B-122.27047%2C%2037.805358999999974%5D%2C%20%5B-122.27036399999999%2C%2037.805518000000006%5D%2C%20%5B-122.27025900000001%2C%2037.80567800000001%5D%2C%20%5B-122.27025500000002%2C%2037.80577600000003%5D%2C%20%5B-122.270158%2C%2037.805939%5D%2C%20%5B-122.270062%2C%2037.806101999999996%5D%2C%20%5B-122.26998500000002%2C%2037.80623099999998%5D%2C%20%5B-122.26984399999999%2C%2037.80637200000003%5D%2C%20%5B-122.26971%2C%2037.80650599999998%5D%2C%20%5B-122.26965799999999%2C%2037.80668100000001%5D%2C%20%5B-122.269618%2C%2037.80681600000002%5D%2C%20%5B-122.269516%2C%2037.806977000000025%5D%2C%20%5B-122.26941500000001%2C%2037.807138000000066%5D%2C%20%5B-122.26931399999998%2C%2037.80729900000004%5D%2C%20%5B-122.269212%2C%2037.80746000000001%5D%2C%20%5B-122.269111%2C%2037.80762100000001%5D%2C%20%5B-122.26901000000001%2C%2037.80778199999998%5D%2C%20%5B-122.26890800000001%2C%2037.807943000000016%5D%2C%20%5B-122.26880599999998%2C%2037.80810399999997%5D%2C%20%5B-122.26870399999999%2C%2037.808265%5D%2C%20%5B-122.268603%2C%2037.80842599999999%5D%2C%20%5B-122.268501%2C%2037.80858700000002%5D%2C%20%5B-122.268399%2C%2037.80874800000004%5D%2C%20%5B-122.26829700000002%2C%2037.80890899999998%5D%2C%20%5B-122.268221%2C%2037.80902899999999%5D%2C%20%5B-122.268398%2C%2037.80912399999998%5D%2C%20%5B-122.26846999999998%2C%2037.80915999999999%5D%2C%20%5B-122.26853%2C%2037.80918699999996%5D%2C%20%5B-122.26866384344797%2C%2037.80923948768508%5D%5D%2C%20%22type%22%3A%20%22LineString%22%7D%2C%20%22id%22%3A%20%2214%22%2C%20%22properties%22%3A%20%7B%22__folium_color%22%3A%20%22%239edae5%22%2C%20%22border%22%3A%20true%2C%20%22index%22%3A%2014%2C%20%22intersection_hash%22%3A%208.444362949197194e%2B18%2C%20%22shape_array_key%22%3A%20%223caab5c44277cbdc8fbc755bc0ea7633%22%2C%20%22tract%22%3A%20null%2C%20%22tract_1%22%3A%20%2206001402900%22%2C%20%22tract_2%22%3A%20%2206001402800%22%7D%2C%20%22type%22%3A%20%22Feature%22%7D%2C%20%7B%22bbox%22%3A%20%5B-122.27292444760107%2C%2037.802239000000014%2C%20-122.27100599112703%2C%2037.80459347523419%5D%2C%20%22geometry%22%3A%20%7B%22coordinates%22%3A%20%5B%5B-122.27292444760107%2C%2037.802437410885844%5D%2C%20%5B-122.27280100000002%2C%2037.80238899999999%5D%2C%20%5B-122.27259700000002%2C%2037.80230899999997%5D%2C%20%5B-122.27242999999999%2C%2037.802239000000014%5D%2C%20%5B-122.27231899999998%2C%2037.802395999999995%5D%2C%20%5B-122.272287%2C%2037.80244700000004%5D%2C%20%5B-122.272298%2C%2037.802553999999965%5D%2C%20%5B-122.2722%2C%2037.802715999999975%5D%2C%20%5B-122.272103%2C%2037.802879000000054%5D%2C%20%5B-122.272065%2C%2037.80294200000001%5D%2C%20%5B-122.27191500000002%2C%2037.80307700000001%5D%2C%20%5B-122.27177200000001%2C%2037.80320699999996%5D%2C%20%5B-122.271732%2C%2037.80338399999996%5D%2C%20%5B-122.271692%2C%2037.803561%5D%2C%20%5B-122.27163600000002%2C%2037.80366300000001%5D%2C%20%5B-122.271527%2C%2037.803820999999985%5D%2C%20%5B-122.27141800000001%2C%2037.803978999999956%5D%2C%20%5B-122.27130900000002%2C%2037.80413699999997%5D%2C%20%5B-122.2712%2C%2037.80429500000001%5D%2C%20%5B-122.27109600000001%2C%2037.80445499999999%5D%2C%20%5B-122.27100599112703%2C%2037.80459347523419%5D%5D%2C%20%22type%22%3A%20%22LineString%22%7D%2C%20%22id%22%3A%20%2215%22%2C%20%22properties%22%3A%20%7B%22__folium_color%22%3A%20%22%239edae5%22%2C%20%22border%22%3A%20true%2C%20%22index%22%3A%2015%2C%20%22intersection_hash%22%3A%20-3.4764827078068393e%2B18%2C%20%22shape_array_key%22%3A%20%223caab5c44277cbdc8fbc755bc0ea7633%22%2C%20%22tract%22%3A%20null%2C%20%22tract_1%22%3A%20%2206001403000%22%2C%20%22tract_2%22%3A%20%2206001403100%22%7D%2C%20%22type%22%3A%20%22Feature%22%7D%5D%2C%20%22type%22%3A%20%22FeatureCollection%22%7D%29%3B%0A%0A%20%20%20%20%20%20%20%20%0A%20%20%20%20%0A%20%20%20%20geo_json_32b0241379d341688c9086cc842a76c6.bindTooltip%28%0A%20%20%20%20function%28layer%29%7B%0A%20%20%20%20let%20div%20%3D%20L.DomUtil.create%28%27div%27%29%3B%0A%20%20%20%20%0A%20%20%20%20let%20handleObject%20%3D%20feature%3D%3Etypeof%28feature%29%3D%3D%27object%27%20%3F%20JSON.stringify%28feature%29%20%3A%20feature%3B%0A%20%20%20%20let%20fields%20%3D%20%5B%22index%22%2C%20%22shape_array_key%22%2C%20%22tract%22%2C%20%22tract_1%22%2C%20%22tract_2%22%2C%20%22intersection_hash%22%2C%20%22border%22%5D%3B%0A%20%20%20%20let%20aliases%20%3D%20%5B%22index%22%2C%20%22shape_array_key%22%2C%20%22tract%22%2C%20%22tract_1%22%2C%20%22tract_2%22%2C%20%22intersection_hash%22%2C%20%22border%22%5D%3B%0A%20%20%20%20let%20table%20%3D%20%27%3Ctable%3E%27%20%2B%0A%20%20%20%20%20%20%20%20String%28%0A%20%20%20%20%20%20%20%20fields.map%28%0A%20%20%20%20%20%20%20%20%28v%2Ci%29%3D%3E%0A%20%20%20%20%20%20%20%20%60%3Ctr%3E%0A%20%20%20%20%20%20%20%20%20%20%20%20%3Cth%3E%24%7Baliases%5Bi%5D%7D%3C/th%3E%0A%20%20%20%20%20%20%20%20%20%20%20%20%0A%20%20%20%20%20%20%20%20%20%20%20%20%3Ctd%3E%24%7BhandleObject%28layer.feature.properties%5Bv%5D%29%7D%3C/td%3E%0A%20%20%20%20%20%20%20%20%3C/tr%3E%60%29.join%28%27%27%29%29%0A%20%20%20%20%2B%27%3C/table%3E%27%3B%0A%20%20%20%20div.innerHTML%3Dtable%3B%0A%20%20%20%20%0A%20%20%20%20return%20div%0A%20%20%20%20%7D%0A%20%20%20%20%2C%7B%22className%22%3A%20%22foliumtooltip%22%2C%20%22sticky%22%3A%20true%7D%29%3B%0A%20%20%20%20%20%20%20%20%20%20%20%20%20%20%20%20%20%20%20%20%20%0A%3C/script%3E onload=\"this.contentDocument.open();this.contentDocument.write(    decodeURIComponent(this.getAttribute('data-html')));this.contentDocument.close();\" allowfullscreen webkitallowfullscreen mozallowfullscreen></iframe></div></div>"
      ],
      "text/plain": [
       "<folium.folium.Map at 0x7b14657e3150>"
      ]
     },
     "execution_count": 53,
     "metadata": {},
     "output_type": "execute_result"
    }
   ],
   "source": [
    "tracts_and_borders.reset_index().explore(column='border', tiles='CartoDB Positron', categorical=True)"
   ]
  },
  {
   "cell_type": "code",
   "execution_count": 54,
   "id": "a3b80834-1fa5-4d11-aca6-5b70cb4c0e13",
   "metadata": {
    "tags": []
   },
   "outputs": [
    {
     "data": {
      "text/html": [
       "<div>\n",
       "<style scoped>\n",
       "    .dataframe tbody tr th:only-of-type {\n",
       "        vertical-align: middle;\n",
       "    }\n",
       "\n",
       "    .dataframe tbody tr th {\n",
       "        vertical-align: top;\n",
       "    }\n",
       "\n",
       "    .dataframe thead th {\n",
       "        text-align: right;\n",
       "    }\n",
       "</style>\n",
       "<table border=\"1\" class=\"dataframe\">\n",
       "  <thead>\n",
       "    <tr style=\"text-align: right;\">\n",
       "      <th></th>\n",
       "      <th>shape_array_key</th>\n",
       "      <th>tract</th>\n",
       "      <th>geometry</th>\n",
       "      <th>tract_1</th>\n",
       "      <th>tract_2</th>\n",
       "      <th>intersection_hash</th>\n",
       "      <th>border</th>\n",
       "      <th>start</th>\n",
       "      <th>end</th>\n",
       "    </tr>\n",
       "  </thead>\n",
       "  <tbody>\n",
       "    <tr>\n",
       "      <th>0</th>\n",
       "      <td>3caab5c44277cbdc8fbc755bc0ea7633</td>\n",
       "      <td>06001400300</td>\n",
       "      <td>LINESTRING (-198798.506 -17437.270, -198790.77...</td>\n",
       "      <td>NaN</td>\n",
       "      <td>NaN</td>\n",
       "      <td>NaN</td>\n",
       "      <td>False</td>\n",
       "      <td>POINT (-198798.506 -17437.270)</td>\n",
       "      <td>POINT (-198749.617 -17116.295)</td>\n",
       "    </tr>\n",
       "    <tr>\n",
       "      <th>1</th>\n",
       "      <td>3caab5c44277cbdc8fbc755bc0ea7633</td>\n",
       "      <td>06001401100</td>\n",
       "      <td>LINESTRING (-199161.264 -19021.055, -199159.31...</td>\n",
       "      <td>NaN</td>\n",
       "      <td>NaN</td>\n",
       "      <td>NaN</td>\n",
       "      <td>False</td>\n",
       "      <td>POINT (-199161.264 -19021.055)</td>\n",
       "      <td>POINT (-198815.272 -17561.412)</td>\n",
       "    </tr>\n",
       "    <tr>\n",
       "      <th>2</th>\n",
       "      <td>3caab5c44277cbdc8fbc755bc0ea7633</td>\n",
       "      <td>06001401300</td>\n",
       "      <td>LINESTRING (-199465.932 -20338.104, -199465.71...</td>\n",
       "      <td>NaN</td>\n",
       "      <td>NaN</td>\n",
       "      <td>NaN</td>\n",
       "      <td>False</td>\n",
       "      <td>POINT (-199465.932 -20338.104)</td>\n",
       "      <td>POINT (-199162.056 -19024.732)</td>\n",
       "    </tr>\n",
       "    <tr>\n",
       "      <th>3</th>\n",
       "      <td>3caab5c44277cbdc8fbc755bc0ea7633</td>\n",
       "      <td>06001402800</td>\n",
       "      <td>LINESTRING (-199434.055 -20645.285, -199451.77...</td>\n",
       "      <td>NaN</td>\n",
       "      <td>NaN</td>\n",
       "      <td>NaN</td>\n",
       "      <td>False</td>\n",
       "      <td>POINT (-199434.055 -20645.285)</td>\n",
       "      <td>POINT (-199465.897 -20337.863)</td>\n",
       "    </tr>\n",
       "    <tr>\n",
       "      <th>4</th>\n",
       "      <td>3caab5c44277cbdc8fbc755bc0ea7633</td>\n",
       "      <td>06001403100</td>\n",
       "      <td>LINESTRING (-199973.418 -21403.301, -199992.82...</td>\n",
       "      <td>NaN</td>\n",
       "      <td>NaN</td>\n",
       "      <td>NaN</td>\n",
       "      <td>False</td>\n",
       "      <td>POINT (-199973.418 -21403.301)</td>\n",
       "      <td>POINT (-199827.576 -21391.787)</td>\n",
       "    </tr>\n",
       "    <tr>\n",
       "      <th>5</th>\n",
       "      <td>3caab5c44277cbdc8fbc755bc0ea7633</td>\n",
       "      <td>06001422800</td>\n",
       "      <td>LINESTRING (-198397.616 -14446.363, -198397.81...</td>\n",
       "      <td>NaN</td>\n",
       "      <td>NaN</td>\n",
       "      <td>NaN</td>\n",
       "      <td>False</td>\n",
       "      <td>POINT (-198397.616 -14446.363)</td>\n",
       "      <td>POINT (-198452.089 -14071.435)</td>\n",
       "    </tr>\n",
       "    <tr>\n",
       "      <th>6</th>\n",
       "      <td>3caab5c44277cbdc8fbc755bc0ea7633</td>\n",
       "      <td>06001423601</td>\n",
       "      <td>LINESTRING (-198524.572 -15434.597, -198524.42...</td>\n",
       "      <td>NaN</td>\n",
       "      <td>NaN</td>\n",
       "      <td>NaN</td>\n",
       "      <td>False</td>\n",
       "      <td>POINT (-198524.572 -15434.597)</td>\n",
       "      <td>POINT (-198445.990 -14857.530)</td>\n",
       "    </tr>\n",
       "    <tr>\n",
       "      <th>7</th>\n",
       "      <td>3caab5c44277cbdc8fbc755bc0ea7633</td>\n",
       "      <td>06001423602</td>\n",
       "      <td>LINESTRING (-198445.990 -14857.530, -198443.90...</td>\n",
       "      <td>NaN</td>\n",
       "      <td>NaN</td>\n",
       "      <td>NaN</td>\n",
       "      <td>False</td>\n",
       "      <td>POINT (-198445.990 -14857.530)</td>\n",
       "      <td>POINT (-198397.616 -14446.363)</td>\n",
       "    </tr>\n",
       "    <tr>\n",
       "      <th>8</th>\n",
       "      <td>3caab5c44277cbdc8fbc755bc0ea7633</td>\n",
       "      <td>06001423902</td>\n",
       "      <td>LINESTRING (-198575.033 -15796.529, -198572.36...</td>\n",
       "      <td>NaN</td>\n",
       "      <td>NaN</td>\n",
       "      <td>NaN</td>\n",
       "      <td>False</td>\n",
       "      <td>POINT (-198575.033 -15796.529)</td>\n",
       "      <td>POINT (-198524.622 -15437.878)</td>\n",
       "    </tr>\n",
       "    <tr>\n",
       "      <th>9</th>\n",
       "      <td>3caab5c44277cbdc8fbc755bc0ea7633</td>\n",
       "      <td>NaN</td>\n",
       "      <td>LINESTRING (-198450.383 -14083.180, -198452.08...</td>\n",
       "      <td>06001422800</td>\n",
       "      <td>06001422600</td>\n",
       "      <td>2.133764e+18</td>\n",
       "      <td>True</td>\n",
       "      <td>POINT (-198450.383 -14083.180)</td>\n",
       "      <td>POINT (-199046.252 -14096.308)</td>\n",
       "    </tr>\n",
       "    <tr>\n",
       "      <th>10</th>\n",
       "      <td>3caab5c44277cbdc8fbc755bc0ea7633</td>\n",
       "      <td>NaN</td>\n",
       "      <td>LINESTRING (-199019.378 -14123.518, -199019.52...</td>\n",
       "      <td>06001422900</td>\n",
       "      <td>06001422600</td>\n",
       "      <td>-5.279735e+18</td>\n",
       "      <td>True</td>\n",
       "      <td>POINT (-199019.378 -14123.518)</td>\n",
       "      <td>POINT (-199029.661 -13771.758)</td>\n",
       "    </tr>\n",
       "    <tr>\n",
       "      <th>11</th>\n",
       "      <td>3caab5c44277cbdc8fbc755bc0ea7633</td>\n",
       "      <td>NaN</td>\n",
       "      <td>LINESTRING (-198816.499 -17568.317, -198815.27...</td>\n",
       "      <td>06001401100</td>\n",
       "      <td>06001400300</td>\n",
       "      <td>-8.684109e+18</td>\n",
       "      <td>True</td>\n",
       "      <td>POINT (-198816.499 -17568.317)</td>\n",
       "      <td>POINT (-198792.255 -17422.413)</td>\n",
       "    </tr>\n",
       "    <tr>\n",
       "      <th>12</th>\n",
       "      <td>3caab5c44277cbdc8fbc755bc0ea7633</td>\n",
       "      <td>NaN</td>\n",
       "      <td>LINESTRING (-198702.090 -16712.584, -198700.48...</td>\n",
       "      <td>06001400500</td>\n",
       "      <td>06001400400</td>\n",
       "      <td>9.114762e+18</td>\n",
       "      <td>True</td>\n",
       "      <td>POINT (-198702.090 -16712.584)</td>\n",
       "      <td>POINT (-198574.236 -15790.607)</td>\n",
       "    </tr>\n",
       "    <tr>\n",
       "      <th>13</th>\n",
       "      <td>3caab5c44277cbdc8fbc755bc0ea7633</td>\n",
       "      <td>NaN</td>\n",
       "      <td>LINESTRING (-198749.754 -17117.124, -198749.61...</td>\n",
       "      <td>06001400600</td>\n",
       "      <td>06001400400</td>\n",
       "      <td>1.701263e+18</td>\n",
       "      <td>True</td>\n",
       "      <td>POINT (-198749.754 -17117.124)</td>\n",
       "      <td>POINT (-198684.011 -16648.160)</td>\n",
       "    </tr>\n",
       "    <tr>\n",
       "      <th>14</th>\n",
       "      <td>3caab5c44277cbdc8fbc755bc0ea7633</td>\n",
       "      <td>NaN</td>\n",
       "      <td>LINESTRING (-199696.961 -21209.665, -199691.76...</td>\n",
       "      <td>06001402900</td>\n",
       "      <td>06001402800</td>\n",
       "      <td>8.444363e+18</td>\n",
       "      <td>True</td>\n",
       "      <td>POINT (-199696.961 -21209.665)</td>\n",
       "      <td>POINT (-199445.680 -20639.170)</td>\n",
       "    </tr>\n",
       "    <tr>\n",
       "      <th>15</th>\n",
       "      <td>3caab5c44277cbdc8fbc755bc0ea7633</td>\n",
       "      <td>NaN</td>\n",
       "      <td>LINESTRING (-199838.298 -21386.147, -199827.57...</td>\n",
       "      <td>06001403000</td>\n",
       "      <td>06001403100</td>\n",
       "      <td>-3.476483e+18</td>\n",
       "      <td>True</td>\n",
       "      <td>POINT (-199838.298 -21386.147)</td>\n",
       "      <td>POINT (-199663.917 -21150.575)</td>\n",
       "    </tr>\n",
       "  </tbody>\n",
       "</table>\n",
       "</div>"
      ],
      "text/plain": [
       "                     shape_array_key        tract  \\\n",
       "0   3caab5c44277cbdc8fbc755bc0ea7633  06001400300   \n",
       "1   3caab5c44277cbdc8fbc755bc0ea7633  06001401100   \n",
       "2   3caab5c44277cbdc8fbc755bc0ea7633  06001401300   \n",
       "3   3caab5c44277cbdc8fbc755bc0ea7633  06001402800   \n",
       "4   3caab5c44277cbdc8fbc755bc0ea7633  06001403100   \n",
       "5   3caab5c44277cbdc8fbc755bc0ea7633  06001422800   \n",
       "6   3caab5c44277cbdc8fbc755bc0ea7633  06001423601   \n",
       "7   3caab5c44277cbdc8fbc755bc0ea7633  06001423602   \n",
       "8   3caab5c44277cbdc8fbc755bc0ea7633  06001423902   \n",
       "9   3caab5c44277cbdc8fbc755bc0ea7633          NaN   \n",
       "10  3caab5c44277cbdc8fbc755bc0ea7633          NaN   \n",
       "11  3caab5c44277cbdc8fbc755bc0ea7633          NaN   \n",
       "12  3caab5c44277cbdc8fbc755bc0ea7633          NaN   \n",
       "13  3caab5c44277cbdc8fbc755bc0ea7633          NaN   \n",
       "14  3caab5c44277cbdc8fbc755bc0ea7633          NaN   \n",
       "15  3caab5c44277cbdc8fbc755bc0ea7633          NaN   \n",
       "\n",
       "                                             geometry      tract_1  \\\n",
       "0   LINESTRING (-198798.506 -17437.270, -198790.77...          NaN   \n",
       "1   LINESTRING (-199161.264 -19021.055, -199159.31...          NaN   \n",
       "2   LINESTRING (-199465.932 -20338.104, -199465.71...          NaN   \n",
       "3   LINESTRING (-199434.055 -20645.285, -199451.77...          NaN   \n",
       "4   LINESTRING (-199973.418 -21403.301, -199992.82...          NaN   \n",
       "5   LINESTRING (-198397.616 -14446.363, -198397.81...          NaN   \n",
       "6   LINESTRING (-198524.572 -15434.597, -198524.42...          NaN   \n",
       "7   LINESTRING (-198445.990 -14857.530, -198443.90...          NaN   \n",
       "8   LINESTRING (-198575.033 -15796.529, -198572.36...          NaN   \n",
       "9   LINESTRING (-198450.383 -14083.180, -198452.08...  06001422800   \n",
       "10  LINESTRING (-199019.378 -14123.518, -199019.52...  06001422900   \n",
       "11  LINESTRING (-198816.499 -17568.317, -198815.27...  06001401100   \n",
       "12  LINESTRING (-198702.090 -16712.584, -198700.48...  06001400500   \n",
       "13  LINESTRING (-198749.754 -17117.124, -198749.61...  06001400600   \n",
       "14  LINESTRING (-199696.961 -21209.665, -199691.76...  06001402900   \n",
       "15  LINESTRING (-199838.298 -21386.147, -199827.57...  06001403000   \n",
       "\n",
       "        tract_2  intersection_hash  border                           start  \\\n",
       "0           NaN                NaN   False  POINT (-198798.506 -17437.270)   \n",
       "1           NaN                NaN   False  POINT (-199161.264 -19021.055)   \n",
       "2           NaN                NaN   False  POINT (-199465.932 -20338.104)   \n",
       "3           NaN                NaN   False  POINT (-199434.055 -20645.285)   \n",
       "4           NaN                NaN   False  POINT (-199973.418 -21403.301)   \n",
       "5           NaN                NaN   False  POINT (-198397.616 -14446.363)   \n",
       "6           NaN                NaN   False  POINT (-198524.572 -15434.597)   \n",
       "7           NaN                NaN   False  POINT (-198445.990 -14857.530)   \n",
       "8           NaN                NaN   False  POINT (-198575.033 -15796.529)   \n",
       "9   06001422600       2.133764e+18    True  POINT (-198450.383 -14083.180)   \n",
       "10  06001422600      -5.279735e+18    True  POINT (-199019.378 -14123.518)   \n",
       "11  06001400300      -8.684109e+18    True  POINT (-198816.499 -17568.317)   \n",
       "12  06001400400       9.114762e+18    True  POINT (-198702.090 -16712.584)   \n",
       "13  06001400400       1.701263e+18    True  POINT (-198749.754 -17117.124)   \n",
       "14  06001402800       8.444363e+18    True  POINT (-199696.961 -21209.665)   \n",
       "15  06001403100      -3.476483e+18    True  POINT (-199838.298 -21386.147)   \n",
       "\n",
       "                               end  \n",
       "0   POINT (-198749.617 -17116.295)  \n",
       "1   POINT (-198815.272 -17561.412)  \n",
       "2   POINT (-199162.056 -19024.732)  \n",
       "3   POINT (-199465.897 -20337.863)  \n",
       "4   POINT (-199827.576 -21391.787)  \n",
       "5   POINT (-198452.089 -14071.435)  \n",
       "6   POINT (-198445.990 -14857.530)  \n",
       "7   POINT (-198397.616 -14446.363)  \n",
       "8   POINT (-198524.622 -15437.878)  \n",
       "9   POINT (-199046.252 -14096.308)  \n",
       "10  POINT (-199029.661 -13771.758)  \n",
       "11  POINT (-198792.255 -17422.413)  \n",
       "12  POINT (-198574.236 -15790.607)  \n",
       "13  POINT (-198684.011 -16648.160)  \n",
       "14  POINT (-199445.680 -20639.170)  \n",
       "15  POINT (-199663.917 -21150.575)  "
      ]
     },
     "execution_count": 54,
     "metadata": {},
     "output_type": "execute_result"
    }
   ],
   "source": [
    "tracts_and_borders"
   ]
  },
  {
   "cell_type": "code",
   "execution_count": 55,
   "id": "aaff36bd-9d1c-4ab2-9085-edf483220654",
   "metadata": {
    "tags": []
   },
   "outputs": [],
   "source": [
    "tracts_and_borders.to_parquet(f'test_tracts_borders_{analysis_date}.parquet')"
   ]
  }
 ],
 "metadata": {
  "kernelspec": {
   "display_name": "Python 3 (ipykernel)",
   "language": "python",
   "name": "python3"
  },
  "language_info": {
   "codemirror_mode": {
    "name": "ipython",
    "version": 3
   },
   "file_extension": ".py",
   "mimetype": "text/x-python",
   "name": "python",
   "nbconvert_exporter": "python",
   "pygments_lexer": "ipython3",
   "version": "3.11.10"
  },
  "widgets": {
   "application/vnd.jupyter.widget-state+json": {
    "state": {},
    "version_major": 2,
    "version_minor": 0
   }
  }
 },
 "nbformat": 4,
 "nbformat_minor": 5
}
