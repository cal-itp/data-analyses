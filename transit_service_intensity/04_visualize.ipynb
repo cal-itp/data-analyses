{
 "cells": [
  {
   "cell_type": "code",
   "execution_count": 2,
   "id": "9e645c63-24e5-466f-8f20-279614c1d767",
   "metadata": {},
   "outputs": [],
   "source": [
    "import sys"
   ]
  },
  {
   "cell_type": "code",
   "execution_count": 10,
   "id": "4f3eb58f-9663-4867-a5c2-2ed658cd4c0d",
   "metadata": {},
   "outputs": [],
   "source": [
    "import pandas as pd\n",
    "import geopandas as gpd\n",
    "from calitp_data_analysis import geography_utils\n",
    "import utils"
   ]
  },
  {
   "cell_type": "code",
   "execution_count": 11,
   "id": "dbc34a06-4993-426d-8e6e-99b9cd447222",
   "metadata": {},
   "outputs": [],
   "source": [
    "from shared_utils import catalog_utils, rt_dates, rt_utils\n",
    "GTFS_DATA_DICT = catalog_utils.get_catalog(\"gtfs_analytics_data\")"
   ]
  },
  {
   "cell_type": "code",
   "execution_count": 12,
   "id": "815cb9ed-e7dd-4a8f-9830-917101668c45",
   "metadata": {},
   "outputs": [],
   "source": [
    "from segment_speed_utils import helpers"
   ]
  },
  {
   "cell_type": "code",
   "execution_count": 13,
   "id": "bf9bbb7a-620d-4847-a770-9243782451f4",
   "metadata": {
    "tags": []
   },
   "outputs": [],
   "source": [
    "analysis_date = rt_dates.DATES['feb2025']"
   ]
  },
  {
   "cell_type": "code",
   "execution_count": 30,
   "id": "7d5f225f-eabc-4927-b60c-3b5f925d26b2",
   "metadata": {
    "tags": []
   },
   "outputs": [],
   "source": [
    "transit_service_intensity = pd.read_parquet(f'test_tsi_{analysis_date}.parquet')"
   ]
  },
  {
   "cell_type": "code",
   "execution_count": 31,
   "id": "0efe3224-1106-47ea-bcfa-4ddb32329b4d",
   "metadata": {
    "tags": []
   },
   "outputs": [
    {
     "data": {
      "text/html": [
       "<div>\n",
       "<style scoped>\n",
       "    .dataframe tbody tr th:only-of-type {\n",
       "        vertical-align: middle;\n",
       "    }\n",
       "\n",
       "    .dataframe tbody tr th {\n",
       "        vertical-align: top;\n",
       "    }\n",
       "\n",
       "    .dataframe thead th {\n",
       "        text-align: right;\n",
       "    }\n",
       "</style>\n",
       "<table border=\"1\" class=\"dataframe\">\n",
       "  <thead>\n",
       "    <tr style=\"text-align: right;\">\n",
       "      <th></th>\n",
       "      <th>tract</th>\n",
       "      <th>daily_vrm_miles</th>\n",
       "      <th>daily_vrh_hours</th>\n",
       "    </tr>\n",
       "  </thead>\n",
       "  <tbody>\n",
       "    <tr>\n",
       "      <th>0</th>\n",
       "      <td>06001400100</td>\n",
       "      <td>188.5</td>\n",
       "      <td>3.4</td>\n",
       "    </tr>\n",
       "    <tr>\n",
       "      <th>1</th>\n",
       "      <td>06001400200</td>\n",
       "      <td>454.7</td>\n",
       "      <td>43.6</td>\n",
       "    </tr>\n",
       "    <tr>\n",
       "      <th>2</th>\n",
       "      <td>06001400300</td>\n",
       "      <td>894.0</td>\n",
       "      <td>73.2</td>\n",
       "    </tr>\n",
       "    <tr>\n",
       "      <th>3</th>\n",
       "      <td>06001400400</td>\n",
       "      <td>824.7</td>\n",
       "      <td>56.2</td>\n",
       "    </tr>\n",
       "    <tr>\n",
       "      <th>4</th>\n",
       "      <td>06001400500</td>\n",
       "      <td>711.9</td>\n",
       "      <td>49.7</td>\n",
       "    </tr>\n",
       "    <tr>\n",
       "      <th>...</th>\n",
       "      <td>...</td>\n",
       "      <td>...</td>\n",
       "      <td>...</td>\n",
       "    </tr>\n",
       "    <tr>\n",
       "      <th>341</th>\n",
       "      <td>06001451602</td>\n",
       "      <td>832.9</td>\n",
       "      <td>41.6</td>\n",
       "    </tr>\n",
       "    <tr>\n",
       "      <th>342</th>\n",
       "      <td>06001451701</td>\n",
       "      <td>26.3</td>\n",
       "      <td>0.0</td>\n",
       "    </tr>\n",
       "    <tr>\n",
       "      <th>343</th>\n",
       "      <td>06001451704</td>\n",
       "      <td>82.9</td>\n",
       "      <td>0.0</td>\n",
       "    </tr>\n",
       "    <tr>\n",
       "      <th>344</th>\n",
       "      <td>06001982000</td>\n",
       "      <td>38.5</td>\n",
       "      <td>1.4</td>\n",
       "    </tr>\n",
       "    <tr>\n",
       "      <th>345</th>\n",
       "      <td>06001983200</td>\n",
       "      <td>391.6</td>\n",
       "      <td>45.5</td>\n",
       "    </tr>\n",
       "  </tbody>\n",
       "</table>\n",
       "<p>346 rows × 3 columns</p>\n",
       "</div>"
      ],
      "text/plain": [
       "           tract  daily_vrm_miles  daily_vrh_hours\n",
       "0    06001400100            188.5              3.4\n",
       "1    06001400200            454.7             43.6\n",
       "2    06001400300            894.0             73.2\n",
       "3    06001400400            824.7             56.2\n",
       "4    06001400500            711.9             49.7\n",
       "..           ...              ...              ...\n",
       "341  06001451602            832.9             41.6\n",
       "342  06001451701             26.3              0.0\n",
       "343  06001451704             82.9              0.0\n",
       "344  06001982000             38.5              1.4\n",
       "345  06001983200            391.6             45.5\n",
       "\n",
       "[346 rows x 3 columns]"
      ]
     },
     "execution_count": 31,
     "metadata": {},
     "output_type": "execute_result"
    }
   ],
   "source": [
    "transit_service_intensity"
   ]
  },
  {
   "cell_type": "code",
   "execution_count": 32,
   "id": "c09e1e49-143c-4f56-a519-6fd1b5fdedda",
   "metadata": {
    "tags": []
   },
   "outputs": [],
   "source": [
    "tracts = utils.read_census_tracts()"
   ]
  },
  {
   "cell_type": "code",
   "execution_count": 33,
   "id": "f6120d36-8773-46af-9ca6-3fafef431ca7",
   "metadata": {
    "tags": []
   },
   "outputs": [],
   "source": [
    "transit_service_intensity = tracts.merge(transit_service_intensity, on='tract')"
   ]
  },
  {
   "cell_type": "code",
   "execution_count": 42,
   "id": "3a679589-e4f6-4202-ba42-342297e5486a",
   "metadata": {
    "tags": []
   },
   "outputs": [],
   "source": [
    "#  filter out 06001420300, 06001420200 (edge effect)\n",
    "edges = ['06001420300', '06001420200', '06001441503',\n",
    "        '06001437101']\n",
    "transit_service_intensity = transit_service_intensity.query('tract not in @edges')"
   ]
  },
  {
   "cell_type": "code",
   "execution_count": 44,
   "id": "09c8a823-c1fe-4cb5-81b2-d63be1199fa2",
   "metadata": {
    "tags": []
   },
   "outputs": [],
   "source": [
    "# transit_service_intensity.explore(column = 'daily_vrh_hours')"
   ]
  }
 ],
 "metadata": {
  "kernelspec": {
   "display_name": "Python 3 (ipykernel)",
   "language": "python",
   "name": "python3"
  },
  "language_info": {
   "codemirror_mode": {
    "name": "ipython",
    "version": 3
   },
   "file_extension": ".py",
   "mimetype": "text/x-python",
   "name": "python",
   "nbconvert_exporter": "python",
   "pygments_lexer": "ipython3",
   "version": "3.11.10"
  },
  "widgets": {
   "application/vnd.jupyter.widget-state+json": {
    "state": {},
    "version_major": 2,
    "version_minor": 0
   }
  }
 },
 "nbformat": 4,
 "nbformat_minor": 5
}
