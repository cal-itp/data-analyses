{
 "cells": [
  {
   "cell_type": "code",
   "execution_count": 1,
   "id": "9e645c63-24e5-466f-8f20-279614c1d767",
   "metadata": {},
   "outputs": [],
   "source": [
    "import sys"
   ]
  },
  {
   "cell_type": "code",
   "execution_count": 2,
   "id": "4f3eb58f-9663-4867-a5c2-2ed658cd4c0d",
   "metadata": {},
   "outputs": [],
   "source": [
    "import pandas as pd\n",
    "import geopandas as gpd\n",
    "from calitp_data_analysis import geography_utils\n",
    "import utils"
   ]
  },
  {
   "cell_type": "code",
   "execution_count": 3,
   "id": "dbc34a06-4993-426d-8e6e-99b9cd447222",
   "metadata": {},
   "outputs": [],
   "source": [
    "from shared_utils import catalog_utils, rt_dates, rt_utils\n",
    "GTFS_DATA_DICT = catalog_utils.get_catalog(\"gtfs_analytics_data\")"
   ]
  },
  {
   "cell_type": "code",
   "execution_count": 4,
   "id": "815cb9ed-e7dd-4a8f-9830-917101668c45",
   "metadata": {},
   "outputs": [],
   "source": [
    "from segment_speed_utils import helpers"
   ]
  },
  {
   "cell_type": "code",
   "execution_count": 8,
   "id": "bf9bbb7a-620d-4847-a770-9243782451f4",
   "metadata": {
    "tags": []
   },
   "outputs": [],
   "source": [
    "from update_vars import ANALYSIS_DATE, GCS_PATH"
   ]
  },
  {
   "cell_type": "code",
   "execution_count": 9,
   "id": "d414a7e0-3c85-427c-bf3b-2fe78e9c33be",
   "metadata": {
    "tags": []
   },
   "outputs": [],
   "source": [
    "# !pip install calitp-data-analysis==2025.6.24\n",
    "from calitp_data_analysis.gcs_geopandas import GCSGeoPandas\n",
    "gcsgp = GCSGeoPandas()"
   ]
  },
  {
   "cell_type": "code",
   "execution_count": 10,
   "id": "557c3e9a-98c4-469d-aabd-e3334e3cffcb",
   "metadata": {},
   "outputs": [],
   "source": [
    "transit_service_intensity = gcsgp.read_parquet(f'{GCS_PATH}test_tsi_agency_{ANALYSIS_DATE}.parquet')"
   ]
  },
  {
   "cell_type": "code",
   "execution_count": 11,
   "id": "7d5f225f-eabc-4927-b60c-3b5f925d26b2",
   "metadata": {
    "tags": []
   },
   "outputs": [],
   "source": [
    "# transit_service_intensity = pd.read_parquet(f'test_tsi_{analysis_date}.parquet')"
   ]
  },
  {
   "cell_type": "code",
   "execution_count": 12,
   "id": "0efe3224-1106-47ea-bcfa-4ddb32329b4d",
   "metadata": {
    "tags": []
   },
   "outputs": [
    {
     "data": {
      "text/html": [
       "<div>\n",
       "<style scoped>\n",
       "    .dataframe tbody tr th:only-of-type {\n",
       "        vertical-align: middle;\n",
       "    }\n",
       "\n",
       "    .dataframe tbody tr th {\n",
       "        vertical-align: top;\n",
       "    }\n",
       "\n",
       "    .dataframe thead th {\n",
       "        text-align: right;\n",
       "    }\n",
       "</style>\n",
       "<table border=\"1\" class=\"dataframe\">\n",
       "  <thead>\n",
       "    <tr style=\"text-align: right;\">\n",
       "      <th></th>\n",
       "      <th>tract</th>\n",
       "      <th>pop_sq_mi</th>\n",
       "      <th>population</th>\n",
       "      <th>geometry</th>\n",
       "      <th>schedule_gtfs_dataset_key</th>\n",
       "      <th>daily_vrm_miles</th>\n",
       "      <th>daily_vrh_hours</th>\n",
       "    </tr>\n",
       "  </thead>\n",
       "  <tbody>\n",
       "    <tr>\n",
       "      <th>0</th>\n",
       "      <td>06001400100</td>\n",
       "      <td>1174.735672</td>\n",
       "      <td>3120</td>\n",
       "      <td>POLYGON ((-197090.096 -12468.283, -196909.112 ...</td>\n",
       "      <td>a8d5f90bfd689badb7e1deb041408e96</td>\n",
       "      <td>179.5</td>\n",
       "      <td>2.9</td>\n",
       "    </tr>\n",
       "    <tr>\n",
       "      <th>1</th>\n",
       "      <td>06001400100</td>\n",
       "      <td>1174.735672</td>\n",
       "      <td>3120</td>\n",
       "      <td>POLYGON ((-197090.096 -12468.283, -196909.112 ...</td>\n",
       "      <td>c499f905e33929a641f083dad55c521e</td>\n",
       "      <td>3.3</td>\n",
       "      <td>0.3</td>\n",
       "    </tr>\n",
       "    <tr>\n",
       "      <th>2</th>\n",
       "      <td>06001400200</td>\n",
       "      <td>8729.842564</td>\n",
       "      <td>2007</td>\n",
       "      <td>POLYGON ((-196982.196 -15963.566, -196992.931 ...</td>\n",
       "      <td>8a1405af8da1379acc062e346187ac98</td>\n",
       "      <td>227.6</td>\n",
       "      <td>5.2</td>\n",
       "    </tr>\n",
       "    <tr>\n",
       "      <th>3</th>\n",
       "      <td>06001400200</td>\n",
       "      <td>8729.842564</td>\n",
       "      <td>2007</td>\n",
       "      <td>POLYGON ((-196982.196 -15963.566, -196992.931 ...</td>\n",
       "      <td>c499f905e33929a641f083dad55c521e</td>\n",
       "      <td>388.7</td>\n",
       "      <td>37.7</td>\n",
       "    </tr>\n",
       "    <tr>\n",
       "      <th>4</th>\n",
       "      <td>06001400300</td>\n",
       "      <td>11819.185546</td>\n",
       "      <td>5051</td>\n",
       "      <td>POLYGON ((-197350.929 -16712.642, -197950.200 ...</td>\n",
       "      <td>8a1405af8da1379acc062e346187ac98</td>\n",
       "      <td>227.6</td>\n",
       "      <td>5.2</td>\n",
       "    </tr>\n",
       "    <tr>\n",
       "      <th>...</th>\n",
       "      <td>...</td>\n",
       "      <td>...</td>\n",
       "      <td>...</td>\n",
       "      <td>...</td>\n",
       "      <td>...</td>\n",
       "      <td>...</td>\n",
       "      <td>...</td>\n",
       "    </tr>\n",
       "    <tr>\n",
       "      <th>10268</th>\n",
       "      <td>06115040700</td>\n",
       "      <td>359.222992</td>\n",
       "      <td>13334</td>\n",
       "      <td>POLYGON ((-131731.468 119041.352, -130701.910 ...</td>\n",
       "      <td>0bcba4ddc5c10546f2e957a74f58b8ac</td>\n",
       "      <td>327.6</td>\n",
       "      <td>2.5</td>\n",
       "    </tr>\n",
       "    <tr>\n",
       "      <th>10269</th>\n",
       "      <td>06115040800</td>\n",
       "      <td>110.600933</td>\n",
       "      <td>4652</td>\n",
       "      <td>POLYGON ((-118271.694 119288.740, -117977.343 ...</td>\n",
       "      <td>0bcba4ddc5c10546f2e957a74f58b8ac</td>\n",
       "      <td>92.6</td>\n",
       "      <td>3.3</td>\n",
       "    </tr>\n",
       "    <tr>\n",
       "      <th>10270</th>\n",
       "      <td>06115040901</td>\n",
       "      <td>27.199271</td>\n",
       "      <td>2720</td>\n",
       "      <td>POLYGON ((-112857.633 134628.595, -112795.165 ...</td>\n",
       "      <td>0bcba4ddc5c10546f2e957a74f58b8ac</td>\n",
       "      <td>7.5</td>\n",
       "      <td>0.0</td>\n",
       "    </tr>\n",
       "    <tr>\n",
       "      <th>10271</th>\n",
       "      <td>06115041000</td>\n",
       "      <td>39.750772</td>\n",
       "      <td>7298</td>\n",
       "      <td>POLYGON ((-118015.890 150723.763, -118020.386 ...</td>\n",
       "      <td>0bcba4ddc5c10546f2e957a74f58b8ac</td>\n",
       "      <td>86.5</td>\n",
       "      <td>2.5</td>\n",
       "    </tr>\n",
       "    <tr>\n",
       "      <th>10272</th>\n",
       "      <td>06115041100</td>\n",
       "      <td>18.526470</td>\n",
       "      <td>4122</td>\n",
       "      <td>POLYGON ((-87348.800 176015.430, -87962.302 17...</td>\n",
       "      <td>0bcba4ddc5c10546f2e957a74f58b8ac</td>\n",
       "      <td>144.4</td>\n",
       "      <td>4.2</td>\n",
       "    </tr>\n",
       "  </tbody>\n",
       "</table>\n",
       "<p>10273 rows × 7 columns</p>\n",
       "</div>"
      ],
      "text/plain": [
       "             tract     pop_sq_mi  population  \\\n",
       "0      06001400100   1174.735672        3120   \n",
       "1      06001400100   1174.735672        3120   \n",
       "2      06001400200   8729.842564        2007   \n",
       "3      06001400200   8729.842564        2007   \n",
       "4      06001400300  11819.185546        5051   \n",
       "...            ...           ...         ...   \n",
       "10268  06115040700    359.222992       13334   \n",
       "10269  06115040800    110.600933        4652   \n",
       "10270  06115040901     27.199271        2720   \n",
       "10271  06115041000     39.750772        7298   \n",
       "10272  06115041100     18.526470        4122   \n",
       "\n",
       "                                                geometry  \\\n",
       "0      POLYGON ((-197090.096 -12468.283, -196909.112 ...   \n",
       "1      POLYGON ((-197090.096 -12468.283, -196909.112 ...   \n",
       "2      POLYGON ((-196982.196 -15963.566, -196992.931 ...   \n",
       "3      POLYGON ((-196982.196 -15963.566, -196992.931 ...   \n",
       "4      POLYGON ((-197350.929 -16712.642, -197950.200 ...   \n",
       "...                                                  ...   \n",
       "10268  POLYGON ((-131731.468 119041.352, -130701.910 ...   \n",
       "10269  POLYGON ((-118271.694 119288.740, -117977.343 ...   \n",
       "10270  POLYGON ((-112857.633 134628.595, -112795.165 ...   \n",
       "10271  POLYGON ((-118015.890 150723.763, -118020.386 ...   \n",
       "10272  POLYGON ((-87348.800 176015.430, -87962.302 17...   \n",
       "\n",
       "              schedule_gtfs_dataset_key  daily_vrm_miles  daily_vrh_hours  \n",
       "0      a8d5f90bfd689badb7e1deb041408e96            179.5              2.9  \n",
       "1      c499f905e33929a641f083dad55c521e              3.3              0.3  \n",
       "2      8a1405af8da1379acc062e346187ac98            227.6              5.2  \n",
       "3      c499f905e33929a641f083dad55c521e            388.7             37.7  \n",
       "4      8a1405af8da1379acc062e346187ac98            227.6              5.2  \n",
       "...                                 ...              ...              ...  \n",
       "10268  0bcba4ddc5c10546f2e957a74f58b8ac            327.6              2.5  \n",
       "10269  0bcba4ddc5c10546f2e957a74f58b8ac             92.6              3.3  \n",
       "10270  0bcba4ddc5c10546f2e957a74f58b8ac              7.5              0.0  \n",
       "10271  0bcba4ddc5c10546f2e957a74f58b8ac             86.5              2.5  \n",
       "10272  0bcba4ddc5c10546f2e957a74f58b8ac            144.4              4.2  \n",
       "\n",
       "[10273 rows x 7 columns]"
      ]
     },
     "execution_count": 12,
     "metadata": {},
     "output_type": "execute_result"
    }
   ],
   "source": [
    "transit_service_intensity"
   ]
  },
  {
   "cell_type": "code",
   "execution_count": 32,
   "id": "c09e1e49-143c-4f56-a519-6fd1b5fdedda",
   "metadata": {
    "tags": []
   },
   "outputs": [],
   "source": [
    "tracts = utils.read_census_tracts()"
   ]
  },
  {
   "cell_type": "code",
   "execution_count": 33,
   "id": "f6120d36-8773-46af-9ca6-3fafef431ca7",
   "metadata": {
    "tags": []
   },
   "outputs": [],
   "source": [
    "transit_service_intensity = tracts.merge(transit_service_intensity, on='tract')"
   ]
  },
  {
   "cell_type": "code",
   "execution_count": 42,
   "id": "3a679589-e4f6-4202-ba42-342297e5486a",
   "metadata": {
    "tags": []
   },
   "outputs": [],
   "source": [
    "#  filter out 06001420300, 06001420200 (edge effect)\n",
    "edges = ['06001420300', '06001420200', '06001441503',\n",
    "        '06001437101']\n",
    "transit_service_intensity = transit_service_intensity.query('tract not in @edges')"
   ]
  },
  {
   "cell_type": "code",
   "execution_count": 44,
   "id": "09c8a823-c1fe-4cb5-81b2-d63be1199fa2",
   "metadata": {
    "tags": []
   },
   "outputs": [],
   "source": [
    "# transit_service_intensity.explore(column = 'daily_vrh_hours')"
   ]
  }
 ],
 "metadata": {
  "kernelspec": {
   "display_name": "Python 3 (ipykernel)",
   "language": "python",
   "name": "python3"
  },
  "language_info": {
   "codemirror_mode": {
    "name": "ipython",
    "version": 3
   },
   "file_extension": ".py",
   "mimetype": "text/x-python",
   "name": "python",
   "nbconvert_exporter": "python",
   "pygments_lexer": "ipython3",
   "version": "3.11.10"
  },
  "widgets": {
   "application/vnd.jupyter.widget-state+json": {
    "state": {},
    "version_major": 2,
    "version_minor": 0
   }
  }
 },
 "nbformat": 4,
 "nbformat_minor": 5
}
