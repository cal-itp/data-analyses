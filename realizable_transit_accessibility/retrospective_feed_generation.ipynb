{
 "cells": [
  {
   "cell_type": "code",
   "execution_count": null,
   "id": "7ad27dfd-a2be-4296-a35e-eff9af4664f9",
   "metadata": {
    "tags": []
   },
   "outputs": [],
   "source": [
    "import datetime as dt\n",
    "import pathlib\n",
    "\n",
    "import geopandas as gpd\n",
    "import google.auth\n",
    "import numpy as np\n",
    "import pandas as pd\n",
    "from gtfslite import GTFS\n",
    "from shared_utils import catalog_utils, gtfs_utils_v2, rt_dates"
   ]
  },
  {
   "cell_type": "code",
   "execution_count": null,
   "id": "d138ae7b-411c-44a9-8c11-a2657c68a1b8",
   "metadata": {
    "tags": []
   },
   "outputs": [],
   "source": [
    "from retrospective_feed_generation import *\n",
    "from warehouse_utils import *\n",
    "from gtfs_utils import *"
   ]
  },
  {
   "cell_type": "markdown",
   "id": "f13b9f0b-b348-44ae-8f00-c5bf3810e653",
   "metadata": {},
   "source": [
    "### Get RT Data"
   ]
  },
  {
   "cell_type": "code",
   "execution_count": null,
   "id": "ca8e0bf3-584b-4e01-ba88-f93dfd570fd3",
   "metadata": {
    "tags": []
   },
   "outputs": [],
   "source": [
    "CREDENTIALS, _ = google.auth.default()\n",
    "\n",
    "# not used\n",
    "def safe_read_geoparquet(*args, **kwargs):\n",
    "    assert \"storage_options\" not in kwargs\n",
    "    return gpd.read_parquet(\n",
    "        *args, **kwargs, storage_options={\"token\": CREDENTIALS.token}\n",
    "    )"
   ]
  },
  {
   "cell_type": "code",
   "execution_count": null,
   "id": "c0b604df-4efc-4475-bbda-9eff33e9b3d8",
   "metadata": {
    "tags": []
   },
   "outputs": [],
   "source": [
    "SAMPLE_DATE_STR = rt_dates.DATES[\"apr2025\"]\n",
    "FEED_NAME = \"Big Blue Bus Schedule\""
   ]
  },
  {
   "cell_type": "code",
   "execution_count": null,
   "id": "3d0fa2f2-af54-4b82-8ee9-12cbdf5d91f1",
   "metadata": {
    "tags": []
   },
   "outputs": [],
   "source": [
    "SAMPLE_DATE_STR"
   ]
  },
  {
   "cell_type": "code",
   "execution_count": null,
   "id": "25a281a5-3a30-4826-9b8d-1203b8d5611a",
   "metadata": {
    "tags": []
   },
   "outputs": [],
   "source": [
    "feed_key = (\n",
    "    gtfs_utils_v2.schedule_daily_feed_to_gtfs_dataset_name(\n",
    "        selected_date=SAMPLE_DATE_STR, keep_cols=[\"name\", \"gtfs_dataset_key\"]\n",
    "    )\n",
    "    .set_index(\"name\")\n",
    "    .at[\"Big Blue Bus Schedule\", \"gtfs_dataset_key\"]\n",
    ")\n",
    "feed_key"
   ]
  },
  {
   "cell_type": "code",
   "execution_count": null,
   "id": "b3b2ca88-8cb3-4d14-a134-1166fa987f7d",
   "metadata": {},
   "outputs": [],
   "source": [
    "schedule_rt_stop_times_single_agency = get_schedule_rt_stop_times_table(\n",
    "    feed_key,\n",
    "    SAMPLE_DATE_STR\n",
    ")"
   ]
  },
  {
   "cell_type": "markdown",
   "id": "3a86a057-3550-48e0-86b7-f8ba636c0ce2",
   "metadata": {
    "tags": []
   },
   "source": [
    "### Get schedule feed"
   ]
  },
  {
   "cell_type": "code",
   "execution_count": null,
   "id": "7dad4c72-cca8-4fe6-8c01-7e622e87f8d7",
   "metadata": {
    "tags": []
   },
   "outputs": [],
   "source": [
    "#TODO: right now this was just a download based on the url in airtable\n",
    "# Need to make it traceable instead\n",
    "GTFS_FEED_PARENT = \"../conveyal_update/feeds_2025-04-16/socal/Big_Blue_Bus_Schedule_7a3f513c343b16a30c135ed7d332b6d6_gtfs.zip/\"\n",
    "GTFS_FEED_GLOB = \"*.zip\"\n",
    "\n",
    "ARBITRARY_SERVICE_ID = \"0\"\n",
    "GTFS_DATE_STRFTIME_CODE = \"%Y%m%d\""
   ]
  },
  {
   "cell_type": "code",
   "execution_count": null,
   "id": "030b0466-ae6e-48f9-b8de-090b47d62dfe",
   "metadata": {
    "tags": []
   },
   "outputs": [],
   "source": [
    "feed_paths = pathlib.Path(GTFS_FEED_PARENT).glob(GTFS_FEED_GLOB)\n",
    "feed_path = next(feed_paths)\n",
    "assert next(feed_paths, None) is None, \"Ambiguous Schedule Feed\"\n",
    "feed = GTFS.load_zip(feed_path)\n",
    "feed_filtered = subset_schedule_feed_to_one_date(\n",
    "    feed, dt.date.fromisoformat(SAMPLE_DATE_STR)\n",
    ")"
   ]
  },
  {
   "cell_type": "markdown",
   "id": "a8813525-cce7-4ca1-a898-cf29d0a21a2e",
   "metadata": {
    "tags": []
   },
   "source": [
    "### Merge schedule / rt"
   ]
  },
  {
   "cell_type": "code",
   "execution_count": null,
   "id": "6ad0de49-b28e-4ce9-b04a-8d53c146a4ff",
   "metadata": {
    "tags": []
   },
   "outputs": [],
   "source": [
    "output_feed = make_retrospective_feed_single_date(\n",
    "    filtered_input_feed=feed_filtered,\n",
    "    stop_times_table=schedule_rt_stop_times_single_agency,\n",
    "    stop_times_desired_columns=[\n",
    "        \"trip_id\",\n",
    "        \"arrival_time\",\n",
    "        \"departure_time\"\n",
    "        \"drop_off_type\",\n",
    "        \"pickup_type\",\n",
    "        \"stop_headsign\",\n",
    "        \"stop_id\",\n",
    "        \"stop_sequence\",\n",
    "    ]\n",
    ")"
   ]
  },
  {
   "cell_type": "code",
   "execution_count": null,
   "id": "81058e14-5ca8-46d0-a0dc-495a8911bbfa",
   "metadata": {
    "tags": []
   },
   "outputs": [],
   "source": [
    "output_feed.write_zip(f\"output_feeds/bbb_test_{SAMPLE_DATE_STR}.zip\")"
   ]
  },
  {
   "cell_type": "markdown",
   "id": "d9b3935f-3e4e-4984-b895-656c5271d3c9",
   "metadata": {},
   "source": [
    "### Dropped shapes and stops"
   ]
  },
  {
   "cell_type": "code",
   "execution_count": null,
   "id": "e4a938fb-3fca-4ccf-9d68-d667fab2cebf",
   "metadata": {},
   "outputs": [],
   "source": [
    "print(\"Get dropped shapes by their frequency\")\n",
    "feed_filtered.trips.loc[\n",
    "    ~feed_filtered.trips.shape_id.isin(output_feed.trips.shape_id.unique()), \"shape_id\"\n",
    "].value_counts()"
   ]
  },
  {
   "cell_type": "code",
   "execution_count": null,
   "id": "da380943-31da-4243-a83d-cae16a58d195",
   "metadata": {
    "tags": []
   },
   "outputs": [],
   "source": [
    "print(\"Get dropped stops by the number of trips serving them in the original feed\")\n",
    "pd.DataFrame(\n",
    "    feed_filtered.stop_times.loc[\n",
    "        ~feed_filtered.stop_times.stop_id.isin(\n",
    "            output_feed.stop_times.stop_id.unique()\n",
    "        ),\n",
    "        \"stop_id\",\n",
    "    ]\n",
    "    .value_counts()\n",
    "    .rename(\"stop_count\")\n",
    ").merge(\n",
    "    feed_filtered.stops.set_index(\"stop_id\")[\"stop_name\"],\n",
    "    how=\"left\",\n",
    "    left_index=True,\n",
    "    right_index=True,\n",
    ")"
   ]
  },
  {
   "cell_type": "markdown",
   "id": "4671789c-c47a-478d-af76-94a876491c6a",
   "metadata": {},
   "source": [
    "### Sample Trip"
   ]
  },
  {
   "cell_type": "code",
   "execution_count": null,
   "id": "0eca0a87-de26-4324-85d9-228e3764f5ae",
   "metadata": {
    "tags": []
   },
   "outputs": [],
   "source": [
    "output_feed.stop_times.loc[output_feed.stop_times[\"trip_id\"] == \"902110\"].sort_values(\n",
    "    \"stop_sequence\"\n",
    ")"
   ]
  },
  {
   "cell_type": "code",
   "execution_count": null,
   "id": "86daefb8-c2df-47e3-b2e3-349a375c0670",
   "metadata": {
    "tags": []
   },
   "outputs": [],
   "source": [
    "feed_filtered.stop_times.loc[\n",
    "    feed_filtered.stop_times[\"trip_id\"] == \"902110\"\n",
    "].sort_values(\"stop_sequence\")"
   ]
  },
  {
   "cell_type": "code",
   "execution_count": null,
   "id": "75468149-c94a-491b-b1cb-422f78cb695a",
   "metadata": {},
   "outputs": [],
   "source": []
  }
 ],
 "metadata": {
  "kernelspec": {
   "display_name": "Python 3 (ipykernel)",
   "language": "python",
   "name": "python3"
  },
  "language_info": {
   "codemirror_mode": {
    "name": "ipython",
    "version": 3
   },
   "file_extension": ".py",
   "mimetype": "text/x-python",
   "name": "python",
   "nbconvert_exporter": "python",
   "pygments_lexer": "ipython3",
   "version": "3.11.10"
  }
 },
 "nbformat": 4,
 "nbformat_minor": 5
}
