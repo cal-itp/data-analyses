{
 "cells": [
  {
   "cell_type": "code",
   "execution_count": 3,
   "id": "c1e53568-38cb-4c7f-8b5e-1bd07a43b86a",
   "metadata": {
    "tags": []
   },
   "outputs": [
    {
     "name": "stdout",
     "output_type": "stream",
     "text": [
      "Collecting gtfs-lite\n",
      "  Using cached gtfs_lite-0.2.1-py3-none-any.whl.metadata (1.6 kB)\n",
      "Requirement already satisfied: pandas>=1.5 in /opt/conda/lib/python3.11/site-packages (from gtfs-lite) (1.5.3)\n",
      "Requirement already satisfied: python-dateutil>=2.8.1 in /opt/conda/lib/python3.11/site-packages (from pandas>=1.5->gtfs-lite) (2.9.0.post0)\n",
      "Requirement already satisfied: pytz>=2020.1 in /opt/conda/lib/python3.11/site-packages (from pandas>=1.5->gtfs-lite) (2024.2)\n",
      "Requirement already satisfied: numpy>=1.21.0 in /opt/conda/lib/python3.11/site-packages (from pandas>=1.5->gtfs-lite) (1.24.4)\n",
      "Requirement already satisfied: six>=1.5 in /opt/conda/lib/python3.11/site-packages (from python-dateutil>=2.8.1->pandas>=1.5->gtfs-lite) (1.17.0)\n",
      "Using cached gtfs_lite-0.2.1-py3-none-any.whl (14 kB)\n",
      "Installing collected packages: gtfs-lite\n",
      "Successfully installed gtfs-lite-0.2.1\n"
     ]
    }
   ],
   "source": [
    "%%sh\n",
    "pip install gtfs-lite"
   ]
  },
  {
   "cell_type": "code",
   "execution_count": 1,
   "id": "7ad27dfd-a2be-4296-a35e-eff9af4664f9",
   "metadata": {
    "tags": []
   },
   "outputs": [],
   "source": [
    "import datetime as dt\n",
    "import pathlib\n",
    "\n",
    "import geopandas as gpd\n",
    "import google.auth\n",
    "import numpy as np\n",
    "import pandas as pd\n",
    "from gtfslite import GTFS\n",
    "from shared_utils import catalog_utils, gtfs_utils_v2, rt_dates"
   ]
  },
  {
   "cell_type": "code",
   "execution_count": 2,
   "id": "d138ae7b-411c-44a9-8c11-a2657c68a1b8",
   "metadata": {
    "tags": []
   },
   "outputs": [],
   "source": [
    "from retrospective_feed_generation import *\n",
    "from warehouse_utils import *\n",
    "from gtfs_utils import *"
   ]
  },
  {
   "cell_type": "code",
   "execution_count": 3,
   "id": "5ed4af9b-7d92-4937-b7a7-3649afbb3b9d",
   "metadata": {
    "tags": []
   },
   "outputs": [
    {
     "data": {
      "text/plain": [
       "<function warehouse_utils.get_schedule_rt_stop_times_table(feed_key: str, service_date: datetime.date | str) -> pandas.core.frame.DataFrame>"
      ]
     },
     "execution_count": 3,
     "metadata": {},
     "output_type": "execute_result"
    }
   ],
   "source": [
    "get_schedule_rt_stop_times_table"
   ]
  },
  {
   "cell_type": "markdown",
   "id": "f13b9f0b-b348-44ae-8f00-c5bf3810e653",
   "metadata": {},
   "source": [
    "### Get RT Data"
   ]
  },
  {
   "cell_type": "code",
   "execution_count": 4,
   "id": "ca8e0bf3-584b-4e01-ba88-f93dfd570fd3",
   "metadata": {
    "tags": []
   },
   "outputs": [],
   "source": [
    "CREDENTIALS, _ = google.auth.default()\n",
    "\n",
    "# not used\n",
    "def safe_read_geoparquet(*args, **kwargs):\n",
    "    assert \"storage_options\" not in kwargs\n",
    "    return gpd.read_parquet(\n",
    "        *args, **kwargs, storage_options={\"token\": CREDENTIALS.token}\n",
    "    )"
   ]
  },
  {
   "cell_type": "code",
   "execution_count": 5,
   "id": "c0b604df-4efc-4475-bbda-9eff33e9b3d8",
   "metadata": {
    "tags": []
   },
   "outputs": [],
   "source": [
    "SAMPLE_DATE_STR = rt_dates.DATES[\"feb2025\"]\n",
    "FEED_NAME = \"Big Blue Bus Schedule\""
   ]
  },
  {
   "cell_type": "code",
   "execution_count": 6,
   "id": "3d0fa2f2-af54-4b82-8ee9-12cbdf5d91f1",
   "metadata": {
    "tags": []
   },
   "outputs": [
    {
     "data": {
      "text/plain": [
       "'2025-02-12'"
      ]
     },
     "execution_count": 6,
     "metadata": {},
     "output_type": "execute_result"
    }
   ],
   "source": [
    "SAMPLE_DATE_STR"
   ]
  },
  {
   "cell_type": "code",
   "execution_count": 7,
   "id": "25a281a5-3a30-4826-9b8d-1203b8d5611a",
   "metadata": {
    "tags": []
   },
   "outputs": [
    {
     "data": {
      "text/plain": [
       "'efbbd5293be71f7a5de0cf82b59febe1'"
      ]
     },
     "execution_count": 7,
     "metadata": {},
     "output_type": "execute_result"
    }
   ],
   "source": [
    "feed_key = (\n",
    "    gtfs_utils_v2.schedule_daily_feed_to_gtfs_dataset_name(\n",
    "        selected_date=SAMPLE_DATE_STR, keep_cols=[\"name\", \"gtfs_dataset_key\"]\n",
    "    )\n",
    "    .set_index(\"name\")\n",
    "    .at[\"Big Blue Bus Schedule\", \"gtfs_dataset_key\"]\n",
    ")\n",
    "feed_key"
   ]
  },
  {
   "cell_type": "code",
   "execution_count": 8,
   "id": "b3b2ca88-8cb3-4d14-a134-1166fa987f7d",
   "metadata": {},
   "outputs": [],
   "source": [
    "schedule_rt_stop_times_single_agency = get_schedule_rt_stop_times_table(\n",
    "    feed_key,\n",
    "    SAMPLE_DATE_STR\n",
    ")"
   ]
  },
  {
   "cell_type": "markdown",
   "id": "3a86a057-3550-48e0-86b7-f8ba636c0ce2",
   "metadata": {
    "tags": []
   },
   "source": [
    "### Get schedule feed"
   ]
  },
  {
   "cell_type": "code",
   "execution_count": 13,
   "id": "7dad4c72-cca8-4fe6-8c01-7e622e87f8d7",
   "metadata": {
    "tags": []
   },
   "outputs": [],
   "source": [
    "#TODO: right now this was just a download based on the url in airtable\n",
    "# Need to make it traceable instead\n",
    "#GTFS_FEED_PARENT = \"../conveyal_update/feeds_2025-04-16/socal/Big_Blue_Bus_Schedule_7a3f513c343b16a30c135ed7d332b6d6_gtfs.zip/\"\n",
    "#GTFS_FEED_GLOB = \"*.zip\"\n",
    "\n",
    "GTFS_FEED_PARENT = \"./feeds/\"\n",
    "GTFS_FEED_GLOB = \"big_blue_bus_2025-02*.zip\"\n",
    "\n",
    "ARBITRARY_SERVICE_ID = \"0\"\n",
    "GTFS_DATE_STRFTIME_CODE = \"%Y%m%d\""
   ]
  },
  {
   "cell_type": "code",
   "execution_count": 14,
   "id": "030b0466-ae6e-48f9-b8de-090b47d62dfe",
   "metadata": {
    "tags": []
   },
   "outputs": [],
   "source": [
    "feed_paths = pathlib.Path(GTFS_FEED_PARENT).glob(GTFS_FEED_GLOB)\n",
    "feed_path = next(feed_paths)\n",
    "assert next(feed_paths, None) is None, \"Ambiguous Schedule Feed\"\n",
    "feed = GTFS.load_zip(feed_path)\n",
    "feed_filtered = subset_schedule_feed_to_one_date(\n",
    "    feed, dt.date.fromisoformat(SAMPLE_DATE_STR)\n",
    ")"
   ]
  },
  {
   "cell_type": "markdown",
   "id": "a8813525-cce7-4ca1-a898-cf29d0a21a2e",
   "metadata": {
    "tags": []
   },
   "source": [
    "### Merge schedule / rt"
   ]
  },
  {
   "cell_type": "code",
   "execution_count": 15,
   "id": "6ad0de49-b28e-4ce9-b04a-8d53c146a4ff",
   "metadata": {
    "tags": []
   },
   "outputs": [],
   "source": [
    "output_feed = make_retrospective_feed_single_date(\n",
    "    filtered_input_feed=feed_filtered,\n",
    "    stop_times_table=schedule_rt_stop_times_single_agency,\n",
    "    stop_times_desired_columns=[\n",
    "        \"trip_id\",\n",
    "        \"arrival_time\",\n",
    "        \"departure_time\"\n",
    "        \"drop_off_type\",\n",
    "        \"pickup_type\",\n",
    "        \"stop_headsign\",\n",
    "        \"stop_id\",\n",
    "        \"stop_sequence\",\n",
    "    ]\n",
    ")"
   ]
  },
  {
   "cell_type": "code",
   "execution_count": 16,
   "id": "81058e14-5ca8-46d0-a0dc-495a8911bbfa",
   "metadata": {
    "tags": []
   },
   "outputs": [],
   "source": [
    "output_feed.write_zip(f\"output_feeds/bbb_test_{SAMPLE_DATE_STR}.zip\")"
   ]
  },
  {
   "cell_type": "markdown",
   "id": "d9b3935f-3e4e-4984-b895-656c5271d3c9",
   "metadata": {},
   "source": [
    "### Dropped shapes and stops"
   ]
  },
  {
   "cell_type": "code",
   "execution_count": 17,
   "id": "e4a938fb-3fca-4ccf-9d68-d667fab2cebf",
   "metadata": {},
   "outputs": [
    {
     "name": "stdout",
     "output_type": "stream",
     "text": [
      "Get dropped shapes by their frequency\n"
     ]
    },
    {
     "data": {
      "text/plain": [
       "27158    80\n",
       "27156    80\n",
       "27132    78\n",
       "27125    76\n",
       "27137    75\n",
       "         ..\n",
       "27118     1\n",
       "27138     1\n",
       "27135     1\n",
       "27124     1\n",
       "27122     1\n",
       "Name: shape_id, Length: 61, dtype: int64"
      ]
     },
     "execution_count": 17,
     "metadata": {},
     "output_type": "execute_result"
    }
   ],
   "source": [
    "print(\"Get dropped shapes by their frequency\")\n",
    "feed_filtered.trips.loc[\n",
    "    ~feed_filtered.trips.shape_id.isin(output_feed.trips.shape_id.unique()), \"shape_id\"\n",
    "].value_counts()"
   ]
  },
  {
   "cell_type": "code",
   "execution_count": 18,
   "id": "da380943-31da-4243-a83d-cae16a58d195",
   "metadata": {
    "tags": []
   },
   "outputs": [
    {
     "name": "stdout",
     "output_type": "stream",
     "text": [
      "Get dropped stops by the number of trips serving them in the original feed\n"
     ]
    },
    {
     "data": {
      "text/html": [
       "<div>\n",
       "<style scoped>\n",
       "    .dataframe tbody tr th:only-of-type {\n",
       "        vertical-align: middle;\n",
       "    }\n",
       "\n",
       "    .dataframe tbody tr th {\n",
       "        vertical-align: top;\n",
       "    }\n",
       "\n",
       "    .dataframe thead th {\n",
       "        text-align: right;\n",
       "    }\n",
       "</style>\n",
       "<table border=\"1\" class=\"dataframe\">\n",
       "  <thead>\n",
       "    <tr style=\"text-align: right;\">\n",
       "      <th></th>\n",
       "      <th>stop_count</th>\n",
       "      <th>stop_name</th>\n",
       "    </tr>\n",
       "  </thead>\n",
       "  <tbody>\n",
       "    <tr>\n",
       "      <th>34</th>\n",
       "      <td>388</td>\n",
       "      <td>4TH SB &amp; SANTA MONICA PLACE (Downtown SM Station)</td>\n",
       "    </tr>\n",
       "    <tr>\n",
       "      <th>283</th>\n",
       "      <td>309</td>\n",
       "      <td>4TH NB &amp; PICO FS</td>\n",
       "    </tr>\n",
       "    <tr>\n",
       "      <th>303</th>\n",
       "      <td>304</td>\n",
       "      <td>WESTWOOD SB &amp; WEYBURN NS</td>\n",
       "    </tr>\n",
       "    <tr>\n",
       "      <th>1344</th>\n",
       "      <td>303</td>\n",
       "      <td>7TH SB &amp; OLYMPIC BLVD NS</td>\n",
       "    </tr>\n",
       "    <tr>\n",
       "      <th>8</th>\n",
       "      <td>285</td>\n",
       "      <td>UCLA HILGARD TERMINAL</td>\n",
       "    </tr>\n",
       "    <tr>\n",
       "      <th>...</th>\n",
       "      <td>...</td>\n",
       "      <td>...</td>\n",
       "    </tr>\n",
       "    <tr>\n",
       "      <th>1017</th>\n",
       "      <td>1</td>\n",
       "      <td>ROBERTSON NB &amp; CASHIO NS</td>\n",
       "    </tr>\n",
       "    <tr>\n",
       "      <th>1092</th>\n",
       "      <td>1</td>\n",
       "      <td>AIRDROME EB &amp; LIVONIA NS</td>\n",
       "    </tr>\n",
       "    <tr>\n",
       "      <th>1090</th>\n",
       "      <td>1</td>\n",
       "      <td>BAGLEY EB &amp; MONTE MAR FS</td>\n",
       "    </tr>\n",
       "    <tr>\n",
       "      <th>86</th>\n",
       "      <td>1</td>\n",
       "      <td>WESTWOOD SB &amp; WILSHIRE FS</td>\n",
       "    </tr>\n",
       "    <tr>\n",
       "      <th>1061</th>\n",
       "      <td>1</td>\n",
       "      <td>BEVERLY DR SB &amp; CASHIO FS</td>\n",
       "    </tr>\n",
       "  </tbody>\n",
       "</table>\n",
       "<p>929 rows × 2 columns</p>\n",
       "</div>"
      ],
      "text/plain": [
       "      stop_count                                          stop_name\n",
       "34           388  4TH SB & SANTA MONICA PLACE (Downtown SM Station)\n",
       "283          309                                   4TH NB & PICO FS\n",
       "303          304                           WESTWOOD SB & WEYBURN NS\n",
       "1344         303                           7TH SB & OLYMPIC BLVD NS\n",
       "8            285                              UCLA HILGARD TERMINAL\n",
       "...          ...                                                ...\n",
       "1017           1                           ROBERTSON NB & CASHIO NS\n",
       "1092           1                           AIRDROME EB & LIVONIA NS\n",
       "1090           1                           BAGLEY EB & MONTE MAR FS\n",
       "86             1                          WESTWOOD SB & WILSHIRE FS\n",
       "1061           1                          BEVERLY DR SB & CASHIO FS\n",
       "\n",
       "[929 rows x 2 columns]"
      ]
     },
     "execution_count": 18,
     "metadata": {},
     "output_type": "execute_result"
    }
   ],
   "source": [
    "print(\"Get dropped stops by the number of trips serving them in the original feed\")\n",
    "pd.DataFrame(\n",
    "    feed_filtered.stop_times.loc[\n",
    "        ~feed_filtered.stop_times.stop_id.isin(\n",
    "            output_feed.stop_times.stop_id.unique()\n",
    "        ),\n",
    "        \"stop_id\",\n",
    "    ]\n",
    "    .value_counts()\n",
    "    .rename(\"stop_count\")\n",
    ").merge(\n",
    "    feed_filtered.stops.set_index(\"stop_id\")[\"stop_name\"],\n",
    "    how=\"left\",\n",
    "    left_index=True,\n",
    "    right_index=True,\n",
    ")"
   ]
  },
  {
   "cell_type": "markdown",
   "id": "4671789c-c47a-478d-af76-94a876491c6a",
   "metadata": {},
   "source": [
    "### Sample Trip"
   ]
  },
  {
   "cell_type": "code",
   "execution_count": 19,
   "id": "0eca0a87-de26-4324-85d9-228e3764f5ae",
   "metadata": {
    "tags": []
   },
   "outputs": [
    {
     "data": {
      "text/html": [
       "<div>\n",
       "<style scoped>\n",
       "    .dataframe tbody tr th:only-of-type {\n",
       "        vertical-align: middle;\n",
       "    }\n",
       "\n",
       "    .dataframe tbody tr th {\n",
       "        vertical-align: top;\n",
       "    }\n",
       "\n",
       "    .dataframe thead th {\n",
       "        text-align: right;\n",
       "    }\n",
       "</style>\n",
       "<table border=\"1\" class=\"dataframe\">\n",
       "  <thead>\n",
       "    <tr style=\"text-align: right;\">\n",
       "      <th></th>\n",
       "      <th>arrival_time</th>\n",
       "      <th>pickup_type</th>\n",
       "      <th>stop_headsign</th>\n",
       "      <th>stop_id</th>\n",
       "      <th>stop_sequence</th>\n",
       "      <th>trip_id</th>\n",
       "      <th>departure_time</th>\n",
       "    </tr>\n",
       "  </thead>\n",
       "  <tbody>\n",
       "  </tbody>\n",
       "</table>\n",
       "</div>"
      ],
      "text/plain": [
       "Empty DataFrame\n",
       "Columns: [arrival_time, pickup_type, stop_headsign, stop_id, stop_sequence, trip_id, departure_time]\n",
       "Index: []"
      ]
     },
     "execution_count": 19,
     "metadata": {},
     "output_type": "execute_result"
    }
   ],
   "source": [
    "output_feed.stop_times.loc[output_feed.stop_times[\"trip_id\"] == \"902110\"].sort_values(\n",
    "    \"stop_sequence\"\n",
    ")"
   ]
  },
  {
   "cell_type": "code",
   "execution_count": 20,
   "id": "86daefb8-c2df-47e3-b2e3-349a375c0670",
   "metadata": {
    "tags": []
   },
   "outputs": [
    {
     "data": {
      "text/html": [
       "<div>\n",
       "<style scoped>\n",
       "    .dataframe tbody tr th:only-of-type {\n",
       "        vertical-align: middle;\n",
       "    }\n",
       "\n",
       "    .dataframe tbody tr th {\n",
       "        vertical-align: top;\n",
       "    }\n",
       "\n",
       "    .dataframe thead th {\n",
       "        text-align: right;\n",
       "    }\n",
       "</style>\n",
       "<table border=\"1\" class=\"dataframe\">\n",
       "  <thead>\n",
       "    <tr style=\"text-align: right;\">\n",
       "      <th></th>\n",
       "      <th>trip_id</th>\n",
       "      <th>arrival_time</th>\n",
       "      <th>departure_time</th>\n",
       "      <th>stop_id</th>\n",
       "      <th>stop_sequence</th>\n",
       "      <th>stop_headsign</th>\n",
       "      <th>pickup_type</th>\n",
       "      <th>drop_off_type</th>\n",
       "      <th>shape_dist_traveled</th>\n",
       "      <th>timepoint</th>\n",
       "    </tr>\n",
       "  </thead>\n",
       "  <tbody>\n",
       "  </tbody>\n",
       "</table>\n",
       "</div>"
      ],
      "text/plain": [
       "Empty DataFrame\n",
       "Columns: [trip_id, arrival_time, departure_time, stop_id, stop_sequence, stop_headsign, pickup_type, drop_off_type, shape_dist_traveled, timepoint]\n",
       "Index: []"
      ]
     },
     "execution_count": 20,
     "metadata": {},
     "output_type": "execute_result"
    }
   ],
   "source": [
    "feed_filtered.stop_times.loc[\n",
    "    feed_filtered.stop_times[\"trip_id\"] == \"902110\"\n",
    "].sort_values(\"stop_sequence\")"
   ]
  },
  {
   "cell_type": "code",
   "execution_count": null,
   "id": "75468149-c94a-491b-b1cb-422f78cb695a",
   "metadata": {},
   "outputs": [],
   "source": []
  }
 ],
 "metadata": {
  "kernelspec": {
   "display_name": "Python 3 (ipykernel)",
   "language": "python",
   "name": "python3"
  },
  "language_info": {
   "codemirror_mode": {
    "name": "ipython",
    "version": 3
   },
   "file_extension": ".py",
   "mimetype": "text/x-python",
   "name": "python",
   "nbconvert_exporter": "python",
   "pygments_lexer": "ipython3",
   "version": "3.11.10"
  }
 },
 "nbformat": 4,
 "nbformat_minor": 5
}
