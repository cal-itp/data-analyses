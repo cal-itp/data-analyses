{
 "cells": [
  {
   "cell_type": "code",
   "execution_count": null,
   "id": "7ad27dfd-a2be-4296-a35e-eff9af4664f9",
   "metadata": {
    "tags": []
   },
   "outputs": [],
   "source": [
    "import datetime as dt\n",
    "import pathlib\n",
    "\n",
    "import columns as col\n",
    "import geopandas as gpd\n",
    "import google.auth\n",
    "import numpy as np\n",
    "import pandas as pd\n",
    "from gtfs_utils import *\n",
    "#  pip install gtfs-lite\n",
    "from gtfslite import GTFS\n",
    "from retrospective_feed_generation import *\n",
    "from retrospective_feed_generation import _filter_na_stop_times, _filter_non_rt_trips\n",
    "from shared_utils import catalog_utils, gtfs_utils_v2, rt_dates\n",
    "from warehouse_utils import *"
   ]
  },
  {
   "cell_type": "markdown",
   "id": "8dd6ebea-f452-45f8-94ef-194ae29b0092",
   "metadata": {},
   "source": [
    "### Edit these values to change output"
   ]
  },
  {
   "cell_type": "code",
   "execution_count": null,
   "id": "3f8df285-68b3-4186-aeec-4fa27545484e",
   "metadata": {},
   "outputs": [],
   "source": [
    "# the target date for feed generation\n",
    "TARGET_DATE = rt_dates.DATES[\"apr2025\"]\n",
    "# the name (from airtable) of the schedule feed\n",
    "FEED_NAME = \"Big Blue Bus Schedule\"\n",
    "# the local path to the parent directory of the schedule feed\n",
    "GTFS_FEED_PARENT = f\"../conveyal_update/feeds_{TARGET_DATE}/socal/\"\n",
    "# a glob that produces one result within GTFS_FEED_PARENT and leads to the schedule feed\n",
    "GTFS_FEED_GLOB = \"Big_Blue_Bus_Schedule_*.zip/*.zip\"\n",
    "# the maximum number of stops where a gap should be imputed\n",
    "MAX_STOP_GAP = 5\n",
    "# the name of the output feed\n",
    "OUTPUT_FEED_PATH = f\"output_feeds/bbb_test_{TARGET_DATE}.zip\""
   ]
  },
  {
   "cell_type": "code",
   "execution_count": null,
   "id": "d6500f3e-fe3c-4658-a057-038845b3d14f",
   "metadata": {
    "tags": []
   },
   "outputs": [],
   "source": [
    "path = pathlib.Path('./output_feeds')\n",
    "if not path.exists(): path.mkdir()"
   ]
  },
  {
   "cell_type": "markdown",
   "id": "f13b9f0b-b348-44ae-8f00-c5bf3810e653",
   "metadata": {},
   "source": [
    "### Get RT Data"
   ]
  },
  {
   "cell_type": "code",
   "execution_count": null,
   "id": "25a281a5-3a30-4826-9b8d-1203b8d5611a",
   "metadata": {
    "tags": []
   },
   "outputs": [],
   "source": [
    "# Get the schedule gtfs dataset key\n",
    "gtfs_dataset_key = (\n",
    "    gtfs_utils_v2.schedule_daily_feed_to_gtfs_dataset_name(\n",
    "        selected_date=TARGET_DATE, keep_cols=[\"name\", \"gtfs_dataset_key\"]\n",
    "    )\n",
    "    .set_index(\"name\")\n",
    "    .at[FEED_NAME, \"gtfs_dataset_key\"]\n",
    ")\n",
    "gtfs_dataset_key"
   ]
  },
  {
   "cell_type": "code",
   "execution_count": null,
   "id": "b3b2ca88-8cb3-4d14-a134-1166fa987f7d",
   "metadata": {},
   "outputs": [],
   "source": [
    "# Get the merged schedule/stop times table\n",
    "schedule_rt_stop_times_single_agency = _filter_non_rt_trips(\n",
    "    get_schedule_rt_stop_times_table(gtfs_dataset_key, TARGET_DATE),\n",
    "    col.DEFAULT_COLUMN_MAP,\n",
    ").reset_index(drop=True)"
   ]
  },
  {
   "cell_type": "code",
   "execution_count": null,
   "id": "83a26efb-6fc1-4bdc-a043-7e85a8ee21de",
   "metadata": {
    "tags": []
   },
   "outputs": [],
   "source": [
    "#schedule_rt_stop_times_single_agency.to_parquet(\"cached_feed.parquet\")"
   ]
  },
  {
   "cell_type": "code",
   "execution_count": null,
   "id": "544ee579-ba64-4460-9b95-21206500a525",
   "metadata": {},
   "outputs": [],
   "source": [
    "#schedule_rt_stop_times_single_agency = _filter_non_rt_trips(\n",
    "#    pd.read_parquet(\"cached_feed.parquet\"), columns=col.DEFAULT_COLUMN_MAP\n",
    "#).reset_index(drop=True)"
   ]
  },
  {
   "cell_type": "code",
   "execution_count": null,
   "id": "0b13240c-9a7d-411e-93b9-1ef8d1b57f3e",
   "metadata": {},
   "outputs": [],
   "source": [
    "# Impute certain unrealistic (first/last, nonmonotonic, short gap) stop times\n",
    "# Logic here is wip\n",
    "schedule_rt_stop_times_single_agency[\"gap_imputed_sec\"] = impute_unrealistic_rt_times(\n",
    "    schedule_rt_stop_times_single_agency,\n",
    "    max_gap_length=MAX_STOP_GAP,\n",
    "    columns=col.DEFAULT_COLUMN_MAP,\n",
    ")"
   ]
  },
  {
   "cell_type": "markdown",
   "id": "3a86a057-3550-48e0-86b7-f8ba636c0ce2",
   "metadata": {
    "tags": []
   },
   "source": [
    "### Get schedule feed"
   ]
  },
  {
   "cell_type": "code",
   "execution_count": null,
   "id": "030b0466-ae6e-48f9-b8de-090b47d62dfe",
   "metadata": {
    "tags": []
   },
   "outputs": [],
   "source": [
    "# Get the path to the schedule feed\n",
    "feed_paths = pathlib.Path(GTFS_FEED_PARENT).glob(GTFS_FEED_GLOB)\n",
    "feed_path = next(feed_paths)\n",
    "assert next(feed_paths, None) is None, \"Ambiguous Schedule Feed\"\n",
    "\n",
    "# Load the schedule feed using gtfs-lite and filter it\n",
    "feed = GTFS.load_zip(feed_path)\n",
    "feed_filtered = subset_schedule_feed_to_one_date(\n",
    "    feed, dt.date.fromisoformat(TARGET_DATE)\n",
    ")"
   ]
  },
  {
   "cell_type": "markdown",
   "id": "a8813525-cce7-4ca1-a898-cf29d0a21a2e",
   "metadata": {
    "tags": []
   },
   "source": [
    "### Merge schedule / rt"
   ]
  },
  {
   "cell_type": "code",
   "execution_count": null,
   "id": "6ad0de49-b28e-4ce9-b04a-8d53c146a4ff",
   "metadata": {
    "tags": []
   },
   "outputs": [],
   "source": [
    "# Generate the feed based on the imputed rt times and the downloaded schedule feed\n",
    "output_feed = make_retrospective_feed_single_date(\n",
    "    filtered_input_feed=feed_filtered,\n",
    "    stop_times_table=schedule_rt_stop_times_single_agency,\n",
    "    stop_times_desired_columns=[\n",
    "        \"trip_id\",\n",
    "        \"arrival_time\",\n",
    "        \"departure_time\" \"drop_off_type\",\n",
    "        \"pickup_type\",\n",
    "        \"stop_headsign\",\n",
    "        \"stop_id\",\n",
    "        \"stop_sequence\",\n",
    "    ],\n",
    "    stop_times_table_columns={\n",
    "        **col.DEFAULT_COLUMN_MAP,\n",
    "        col.RT_ARRIVAL_SEC: \"gap_imputed_sec\",\n",
    "    },\n",
    ")"
   ]
  },
  {
   "cell_type": "code",
   "execution_count": null,
   "id": "81058e14-5ca8-46d0-a0dc-495a8911bbfa",
   "metadata": {
    "tags": []
   },
   "outputs": [],
   "source": [
    "# Save the output to a zip file\n",
    "output_feed.write_zip(OUTPUT_FEED_PATH)"
   ]
  },
  {
   "cell_type": "markdown",
   "id": "d9b3935f-3e4e-4984-b895-656c5271d3c9",
   "metadata": {},
   "source": [
    "### Dropped shapes and stops"
   ]
  },
  {
   "cell_type": "code",
   "execution_count": null,
   "id": "e4a938fb-3fca-4ccf-9d68-d667fab2cebf",
   "metadata": {},
   "outputs": [],
   "source": [
    "print(\"Get dropped shapes by their frequency\")\n",
    "feed_filtered.trips.loc[\n",
    "    ~feed_filtered.trips.shape_id.isin(output_feed.trips.shape_id.unique()), \"shape_id\"\n",
    "].value_counts()"
   ]
  },
  {
   "cell_type": "code",
   "execution_count": null,
   "id": "da380943-31da-4243-a83d-cae16a58d195",
   "metadata": {
    "tags": []
   },
   "outputs": [],
   "source": [
    "print(\"Get dropped stops by the number of trips serving them in the original feed\")\n",
    "pd.DataFrame(\n",
    "    feed_filtered.stop_times.loc[\n",
    "        ~feed_filtered.stop_times.stop_id.isin(output_feed.stop_times.stop_id.unique()),\n",
    "        \"stop_id\",\n",
    "    ]\n",
    "    .value_counts()\n",
    "    .rename(\"stop_count\")\n",
    ").merge(\n",
    "    feed_filtered.stops.set_index(\"stop_id\")[\"stop_name\"],\n",
    "    how=\"left\",\n",
    "    left_index=True,\n",
    "    right_index=True,\n",
    ").head()"
   ]
  },
  {
   "cell_type": "markdown",
   "id": "4671789c-c47a-478d-af76-94a876491c6a",
   "metadata": {},
   "source": [
    "### Sample Trip"
   ]
  },
  {
   "cell_type": "code",
   "execution_count": null,
   "id": "e5106c57-e6ee-4ba4-807c-6efba61a3efe",
   "metadata": {
    "tags": []
   },
   "outputs": [],
   "source": [
    "schedule_rt_stop_times_single_agency.loc[\n",
    "    schedule_rt_stop_times_single_agency.trip_id == \"902110\"\n",
    "]"
   ]
  },
  {
   "cell_type": "code",
   "execution_count": null,
   "id": "0eca0a87-de26-4324-85d9-228e3764f5ae",
   "metadata": {
    "tags": []
   },
   "outputs": [],
   "source": [
    "output_feed.stop_times.loc[output_feed.stop_times[\"trip_id\"] == \"143110\"]"
   ]
  },
  {
   "cell_type": "code",
   "execution_count": null,
   "id": "86daefb8-c2df-47e3-b2e3-349a375c0670",
   "metadata": {
    "tags": []
   },
   "outputs": [],
   "source": [
    "feed_filtered.stop_times.loc[\n",
    "    feed_filtered.stop_times[\"trip_id\"] == \"902110\"\n",
    "].sort_values(\"stop_sequence\")"
   ]
  },
  {
   "cell_type": "code",
   "execution_count": null,
   "id": "75468149-c94a-491b-b1cb-422f78cb695a",
   "metadata": {},
   "outputs": [],
   "source": []
  }
 ],
 "metadata": {
  "kernelspec": {
   "display_name": "Python 3 (ipykernel)",
   "language": "python",
   "name": "python3"
  },
  "language_info": {
   "codemirror_mode": {
    "name": "ipython",
    "version": 3
   },
   "file_extension": ".py",
   "mimetype": "text/x-python",
   "name": "python",
   "nbconvert_exporter": "python",
   "pygments_lexer": "ipython3",
   "version": "3.11.10"
  },
  "widgets": {
   "application/vnd.jupyter.widget-state+json": {
    "state": {},
    "version_major": 2,
    "version_minor": 0
   }
  }
 },
 "nbformat": 4,
 "nbformat_minor": 5
}
