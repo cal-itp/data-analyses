{
 "cells": [
  {
   "cell_type": "code",
   "execution_count": null,
   "id": "7ad27dfd-a2be-4296-a35e-eff9af4664f9",
   "metadata": {
    "tags": []
   },
   "outputs": [],
   "source": [
    "import datetime as dt\n",
    "import pathlib\n",
    "\n",
    "import geopandas as gpd\n",
    "import google.auth\n",
    "import numpy as np\n",
    "import pandas as pd\n",
    "from gtfs_utils import *\n",
    "from gtfslite import GTFS\n",
    "from retrospective_feed_generation import *\n",
    "from retrospective_feed_generation import _filter_na_stop_times, _filter_non_rt_trips\n",
    "from shared_utils import catalog_utils, gtfs_utils_v2, rt_dates\n",
    "from warehouse_utils import *\n",
    "import columns as col"
   ]
  },
  {
   "cell_type": "markdown",
   "id": "f13b9f0b-b348-44ae-8f00-c5bf3810e653",
   "metadata": {},
   "source": [
    "### Get RT Data"
   ]
  },
  {
   "cell_type": "code",
   "execution_count": null,
   "id": "ca8e0bf3-584b-4e01-ba88-f93dfd570fd3",
   "metadata": {
    "tags": []
   },
   "outputs": [],
   "source": [
    "CREDENTIALS, _ = google.auth.default()"
   ]
  },
  {
   "cell_type": "code",
   "execution_count": null,
   "id": "c0b604df-4efc-4475-bbda-9eff33e9b3d8",
   "metadata": {
    "tags": []
   },
   "outputs": [],
   "source": [
    "SAMPLE_DATE_STR = rt_dates.DATES[\"apr2025\"]\n",
    "FEED_NAME = \"Big Blue Bus Schedule\""
   ]
  },
  {
   "cell_type": "code",
   "execution_count": null,
   "id": "3d0fa2f2-af54-4b82-8ee9-12cbdf5d91f1",
   "metadata": {
    "tags": []
   },
   "outputs": [],
   "source": [
    "SAMPLE_DATE_STR"
   ]
  },
  {
   "cell_type": "code",
   "execution_count": null,
   "id": "25a281a5-3a30-4826-9b8d-1203b8d5611a",
   "metadata": {
    "tags": []
   },
   "outputs": [],
   "source": [
    "gtfs_dataset_key = (\n",
    "    gtfs_utils_v2.schedule_daily_feed_to_gtfs_dataset_name(\n",
    "        selected_date=SAMPLE_DATE_STR, keep_cols=[\"name\", \"gtfs_dataset_key\"]\n",
    "    )\n",
    "    .set_index(\"name\")\n",
    "    .at[FEED_NAME, \"gtfs_dataset_key\"]\n",
    ")\n",
    "gtfs_dataset_key"
   ]
  },
  {
   "cell_type": "code",
   "execution_count": null,
   "id": "b3b2ca88-8cb3-4d14-a134-1166fa987f7d",
   "metadata": {},
   "outputs": [],
   "source": [
    "schedule_rt_stop_times_single_agency = _filter_non_rt_trips(\n",
    "    get_schedule_rt_stop_times_table(gtfs_dataset_key, SAMPLE_DATE_STR), col.DEFAULT_COLUMN_MAP\n",
    ").reset_index(drop=True)"
   ]
  },
  {
   "cell_type": "code",
   "execution_count": null,
   "id": "83a26efb-6fc1-4bdc-a043-7e85a8ee21de",
   "metadata": {
    "tags": []
   },
   "outputs": [],
   "source": [
    "schedule_rt_stop_times_single_agency.to_parquet(\"test.parquet\")"
   ]
  },
  {
   "cell_type": "code",
   "execution_count": null,
   "id": "544ee579-ba64-4460-9b95-21206500a525",
   "metadata": {},
   "outputs": [],
   "source": [
    "schedule_rt_stop_times_single_agency = _filter_non_rt_trips(\n",
    "    pd.read_parquet(\"test.parquet\"), columns=col.DEFAULT_COLUMN_MAP\n",
    ").reset_index(drop=True)"
   ]
  },
  {
   "cell_type": "code",
   "execution_count": null,
   "id": "3a1d671a-c0cc-43ff-9432-f33e7730e6ca",
   "metadata": {},
   "outputs": [],
   "source": [
    "impute_unrealistic_rt_times(\n",
    "    schedule_rt_stop_times_single_agency, max_gap_length=5, columns=col.DEFAULT_COLUMN_MAP\n",
    ")"
   ]
  },
  {
   "cell_type": "code",
   "execution_count": null,
   "id": "0b13240c-9a7d-411e-93b9-1ef8d1b57f3e",
   "metadata": {},
   "outputs": [],
   "source": [
    "schedule_rt_stop_times_single_agency[\"gap_imputed_sec\"] = impute_unrealistic_rt_times(\n",
    "    schedule_rt_stop_times_single_agency, max_gap_length=5, columns=col.DEFAULT_COLUMN_MAP\n",
    ")"
   ]
  },
  {
   "cell_type": "code",
   "execution_count": null,
   "id": "730cc1fd-d0fd-474b-a08a-2abcc720c0fd",
   "metadata": {
    "tags": []
   },
   "outputs": [],
   "source": [
    "schedule_rt_stop_times_single_agency"
   ]
  },
  {
   "cell_type": "markdown",
   "id": "3a86a057-3550-48e0-86b7-f8ba636c0ce2",
   "metadata": {
    "tags": []
   },
   "source": [
    "### Get schedule feed"
   ]
  },
  {
   "cell_type": "code",
   "execution_count": null,
   "id": "7dad4c72-cca8-4fe6-8c01-7e622e87f8d7",
   "metadata": {
    "tags": []
   },
   "outputs": [],
   "source": [
    "# TODO: right now this was just a download based on the url in airtable\n",
    "# Need to make it traceable instead\n",
    "GTFS_FEED_PARENT = f\"../conveyal_update/feeds_{SAMPLE_DATE_STR}/socal/\"\n",
    "GTFS_FEED_GLOB = \"Big_Blue_Bus_Schedule_*.zip/*.zip\"\n",
    "\n",
    "# GTFS_FEED_PARENT = \"./feeds/\"\n",
    "# GTFS_FEED_GLOB = \"big_blue_bus_2025-03*.zip\"\n",
    "\n",
    "ARBITRARY_SERVICE_ID = \"0\"\n",
    "GTFS_DATE_STRFTIME_CODE = \"%Y%m%d\""
   ]
  },
  {
   "cell_type": "code",
   "execution_count": null,
   "id": "030b0466-ae6e-48f9-b8de-090b47d62dfe",
   "metadata": {
    "tags": []
   },
   "outputs": [],
   "source": [
    "feed_paths = pathlib.Path(GTFS_FEED_PARENT).glob(GTFS_FEED_GLOB)\n",
    "feed_path = next(feed_paths)\n",
    "assert next(feed_paths, None) is None, \"Ambiguous Schedule Feed\"\n",
    "feed = GTFS.load_zip(feed_path)\n",
    "feed_filtered = subset_schedule_feed_to_one_date(\n",
    "    feed, dt.date.fromisoformat(SAMPLE_DATE_STR)\n",
    ")"
   ]
  },
  {
   "cell_type": "markdown",
   "id": "a8813525-cce7-4ca1-a898-cf29d0a21a2e",
   "metadata": {
    "tags": []
   },
   "source": [
    "### Merge schedule / rt"
   ]
  },
  {
   "cell_type": "code",
   "execution_count": null,
   "id": "6ad0de49-b28e-4ce9-b04a-8d53c146a4ff",
   "metadata": {
    "tags": []
   },
   "outputs": [],
   "source": [
    "output_feed = make_retrospective_feed_single_date(\n",
    "    filtered_input_feed=feed_filtered,\n",
    "    stop_times_table=schedule_rt_stop_times_single_agency,\n",
    "    stop_times_desired_columns=[\n",
    "        \"trip_id\",\n",
    "        \"arrival_time\",\n",
    "        \"departure_time\" \"drop_off_type\",\n",
    "        \"pickup_type\",\n",
    "        \"stop_headsign\",\n",
    "        \"stop_id\",\n",
    "        \"stop_sequence\",\n",
    "    ],\n",
    "    stop_times_table_columns={**col.DEFAULT_COLUMN_MAP, col.RT_ARRIVAL_SEC: \"gap_imputed_sec\"}\n",
    ")"
   ]
  },
  {
   "cell_type": "code",
   "execution_count": null,
   "id": "ea865747-ec79-4150-8008-42e1981faa69",
   "metadata": {
    "tags": []
   },
   "outputs": [],
   "source": [
    "output_feed"
   ]
  },
  {
   "cell_type": "code",
   "execution_count": null,
   "id": "81058e14-5ca8-46d0-a0dc-495a8911bbfa",
   "metadata": {
    "tags": []
   },
   "outputs": [],
   "source": [
    "output_feed.write_zip(f\"output_feeds/bbb_test_{SAMPLE_DATE_STR}.zip\")"
   ]
  },
  {
   "cell_type": "markdown",
   "id": "d9b3935f-3e4e-4984-b895-656c5271d3c9",
   "metadata": {},
   "source": [
    "### Dropped shapes and stops"
   ]
  },
  {
   "cell_type": "code",
   "execution_count": null,
   "id": "e4a938fb-3fca-4ccf-9d68-d667fab2cebf",
   "metadata": {},
   "outputs": [],
   "source": [
    "print(\"Get dropped shapes by their frequency\")\n",
    "feed_filtered.trips.loc[\n",
    "    ~feed_filtered.trips.shape_id.isin(output_feed.trips.shape_id.unique()), \"shape_id\"\n",
    "].value_counts()"
   ]
  },
  {
   "cell_type": "code",
   "execution_count": null,
   "id": "da380943-31da-4243-a83d-cae16a58d195",
   "metadata": {
    "tags": []
   },
   "outputs": [],
   "source": [
    "print(\"Get dropped stops by the number of trips serving them in the original feed\")\n",
    "pd.DataFrame(\n",
    "    feed_filtered.stop_times.loc[\n",
    "        ~feed_filtered.stop_times.stop_id.isin(output_feed.stop_times.stop_id.unique()),\n",
    "        \"stop_id\",\n",
    "    ]\n",
    "    .value_counts()\n",
    "    .rename(\"stop_count\")\n",
    ").merge(\n",
    "    feed_filtered.stops.set_index(\"stop_id\")[\"stop_name\"],\n",
    "    how=\"left\",\n",
    "    left_index=True,\n",
    "    right_index=True,\n",
    ").head()"
   ]
  },
  {
   "cell_type": "markdown",
   "id": "4671789c-c47a-478d-af76-94a876491c6a",
   "metadata": {},
   "source": [
    "### Sample Trip"
   ]
  },
  {
   "cell_type": "code",
   "execution_count": null,
   "id": "e5106c57-e6ee-4ba4-807c-6efba61a3efe",
   "metadata": {
    "tags": []
   },
   "outputs": [],
   "source": [
    "schedule_rt_stop_times_single_agency.loc[\n",
    "    schedule_rt_stop_times_single_agency.trip_id == \"902110\"\n",
    "]"
   ]
  },
  {
   "cell_type": "code",
   "execution_count": null,
   "id": "0eca0a87-de26-4324-85d9-228e3764f5ae",
   "metadata": {
    "tags": []
   },
   "outputs": [],
   "source": [
    "output_feed.stop_times.loc[output_feed.stop_times[\"trip_id\"] == \"143110\"]"
   ]
  },
  {
   "cell_type": "code",
   "execution_count": null,
   "id": "86daefb8-c2df-47e3-b2e3-349a375c0670",
   "metadata": {
    "tags": []
   },
   "outputs": [],
   "source": [
    "feed_filtered.stop_times.loc[\n",
    "    feed_filtered.stop_times[\"trip_id\"] == \"902110\"\n",
    "].sort_values(\"stop_sequence\")"
   ]
  },
  {
   "cell_type": "code",
   "execution_count": null,
   "id": "75468149-c94a-491b-b1cb-422f78cb695a",
   "metadata": {},
   "outputs": [],
   "source": []
  }
 ],
 "metadata": {
  "kernelspec": {
   "display_name": "Python 3 (ipykernel)",
   "language": "python",
   "name": "python3"
  },
  "language_info": {
   "codemirror_mode": {
    "name": "ipython",
    "version": 3
   },
   "file_extension": ".py",
   "mimetype": "text/x-python",
   "name": "python",
   "nbconvert_exporter": "python",
   "pygments_lexer": "ipython3",
   "version": "3.11.10"
  }
 },
 "nbformat": 4,
 "nbformat_minor": 5
}
