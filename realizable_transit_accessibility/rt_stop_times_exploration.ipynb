{
 "cells": [
  {
   "cell_type": "code",
   "execution_count": null,
   "id": "99b5819b-1e35-461a-8dee-b8583aaa5df3",
   "metadata": {},
   "outputs": [],
   "source": [
    "%%sh\n",
    "cd ~/data-analyses/rt_segment_speeds\n",
    "pip install -r requirements.txt"
   ]
  },
  {
   "cell_type": "code",
   "execution_count": null,
   "id": "a18084fe-6572-467c-bf6f-d2b56039fd0b",
   "metadata": {
    "tags": []
   },
   "outputs": [],
   "source": [
    "import geopandas as gpd\n",
    "from rt_stop_times import * \n",
    "from shared_utils import gtfs_utils_v2, rt_dates"
   ]
  },
  {
   "cell_type": "code",
   "execution_count": null,
   "id": "d954e16a-6687-4908-a2be-96268d6c382a",
   "metadata": {
    "tags": []
   },
   "outputs": [],
   "source": [
    "TARGET_DATE = rt_dates.DATES[\"feb2025\"]"
   ]
  },
  {
   "cell_type": "code",
   "execution_count": null,
   "id": "3d1c71b7-8717-4532-a6a5-7529d9d7697c",
   "metadata": {
    "tags": []
   },
   "outputs": [],
   "source": [
    "rt_schedule_stop_times = assemble_scheduled_rt_stop_times(\n",
    "    TARGET_DATE,\n",
    "    [*GTFS_DATA_DICT.rt_stop_times.trip_stop_cols]\n",
    ")"
   ]
  },
  {
   "cell_type": "markdown",
   "id": "de3ba738-88f6-45c3-a495-39d69f10397b",
   "metadata": {},
   "source": [
    "### Get an example trip with non-monotonic stop_sequence values"
   ]
  },
  {
   "cell_type": "code",
   "execution_count": null,
   "id": "5e76e9e2-559a-4ed0-b62b-ad23a7be79f8",
   "metadata": {
    "tags": []
   },
   "outputs": [],
   "source": [
    "example_trip = rt_schedule_stop_times.loc[\n",
    "    (rt_schedule_stop_times.schedule_gtfs_dataset_key == \"c65bd95ac0009a74df9ff840fc416771\")\n",
    "    & (rt_schedule_stop_times.trip_id == \"902110\")\n",
    "].sort_values(\"stop_sequence\")\n",
    "example_trip[\"rt_non_monotonic\"] = (\n",
    "    example_trip[\"rt_arrival_sec\"].shift(1) > example_trip[\"rt_arrival_sec\"]\n",
    ")\n",
    "example_trip[[\"stop_sequence\", \"scheduled_arrival_sec\", \"rt_arrival_sec\", \"rt_non_monotonic\"]]"
   ]
  },
  {
   "cell_type": "markdown",
   "id": "bb28d820-5693-4287-adb8-ec5f1121ae24",
   "metadata": {},
   "source": [
    "### Get a list of agencies that have trips with rt times and not scheduled times"
   ]
  },
  {
   "cell_type": "code",
   "execution_count": null,
   "id": "1aaec8e6-bf6d-4d78-9a42-d57c74960949",
   "metadata": {},
   "outputs": [],
   "source": [
    "agencies_with_nonscheduled_service = rt_schedule_stop_times.loc[\n",
    "    \n",
    "    (rt_schedule_stop_times.scheduled_arrival_sec.isna())\n",
    "    & ~(rt_schedule_stop_times.rt_arrival_sec.isna())\n",
    "].schedule_gtfs_dataset_key.unique()"
   ]
  },
  {
   "cell_type": "code",
   "execution_count": null,
   "id": "145325ab-3147-4dd0-8e85-359bb3ca80b6",
   "metadata": {
    "tags": []
   },
   "outputs": [],
   "source": [
    "agencies_with_nonscheduled_service"
   ]
  },
  {
   "cell_type": "code",
   "execution_count": null,
   "id": "8edf95c6-66c5-48b5-b4d8-748f3fcca87d",
   "metadata": {},
   "outputs": [],
   "source": [
    "gtfs_utils_v2.schedule_daily_feed_to_gtfs_dataset_name(\n",
    "        selected_date=TARGET_DATE, keep_cols=[\"name\", \"gtfs_dataset_key\"]\n",
    ").set_index(\"gtfs_dataset_key\").loc[agencies_with_nonscheduled_service]"
   ]
  },
  {
   "cell_type": "code",
   "execution_count": null,
   "id": "cf21f202-624a-447c-a2f0-f26e7e5e4baa",
   "metadata": {},
   "outputs": [],
   "source": []
  }
 ],
 "metadata": {
  "kernelspec": {
   "display_name": "Python 3 (ipykernel)",
   "language": "python",
   "name": "python3"
  },
  "language_info": {
   "codemirror_mode": {
    "name": "ipython",
    "version": 3
   },
   "file_extension": ".py",
   "mimetype": "text/x-python",
   "name": "python",
   "nbconvert_exporter": "python",
   "pygments_lexer": "ipython3",
   "version": "3.11.10"
  }
 },
 "nbformat": 4,
 "nbformat_minor": 5
}
