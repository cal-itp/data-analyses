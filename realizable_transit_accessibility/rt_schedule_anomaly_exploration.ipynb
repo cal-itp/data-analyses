{
 "cells": [
  {
   "cell_type": "code",
   "execution_count": null,
   "id": "c6d0621f-b673-4ed6-8900-cf7f7c7a448a",
   "metadata": {},
   "outputs": [
    {
     "name": "stdout",
     "output_type": "stream",
     "text": [
      "Obtaining file:///home/jovyan/data-analyses/rt_segment_speeds (from -r requirements.txt (line 1))\n",
      "  Preparing metadata (setup.py): started\n"
     ]
    }
   ],
   "source": [
    "%%sh\n",
    "cd ~/data-analyses/rt_segment_speeds\n",
    "pip install -r requirements.txt"
   ]
  },
  {
   "cell_type": "code",
   "execution_count": null,
   "id": "be78daf2-2cde-4a47-89b3-5d5fbee75354",
   "metadata": {
    "tags": []
   },
   "outputs": [],
   "source": [
    "from shared_utils import catalog_utils, rt_dates, gtfs_utils_v2\n",
    "import geopandas as gpd\n",
    "import pandas as pd\n",
    "import numpy as np\n",
    "import google.auth"
   ]
  },
  {
   "cell_type": "code",
   "execution_count": null,
   "id": "16567d79-a9e8-4fb7-810a-feb0b49dc9d7",
   "metadata": {
    "tags": []
   },
   "outputs": [],
   "source": [
    "from retrospective_feed_generation import *\n",
    "from warehouse_utils import *\n",
    "from gtfs_utils import *"
   ]
  },
  {
   "cell_type": "code",
   "execution_count": null,
   "id": "d9e0bb63-1d90-42ef-bacf-6b7662f35cbe",
   "metadata": {},
   "outputs": [],
   "source": [
    "credentials, _ = google.auth.default()"
   ]
  },
  {
   "cell_type": "code",
   "execution_count": null,
   "id": "81a02acd-e961-42f5-93bf-d590a11a856a",
   "metadata": {
    "tags": []
   },
   "outputs": [],
   "source": [
    "TARGET_DATE = rt_dates.DATES[\"feb2025\"]\n",
    "EXAMPLE_FEED_SCHEDULE_NAME = \"Big Blue Bus Schedule\""
   ]
  },
  {
   "cell_type": "code",
   "execution_count": null,
   "id": "214222e9-d217-424e-ad65-b125673531bb",
   "metadata": {
    "tags": []
   },
   "outputs": [],
   "source": [
    "feed_lookup_response = (\n",
    "    gtfs_utils_v2.schedule_daily_feed_to_gtfs_dataset_name(\n",
    "        selected_date=TARGET_DATE, keep_cols=[\"name\", \"gtfs_dataset_key\", \"feed_key\"]\n",
    "    )\n",
    "    .set_index(\"name\")\n",
    "    .loc[EXAMPLE_FEED_SCHEDULE_NAME]\n",
    ")\n",
    "gtfs_dataset_key = feed_lookup_response[\"gtfs_dataset_key\"]\n",
    "feed_key = feed_lookup_response[\"feed_key\"]"
   ]
  },
  {
   "cell_type": "code",
   "execution_count": null,
   "id": "fe66024b-d45a-4cf5-9f8a-a4d7c783f39c",
   "metadata": {
    "tags": []
   },
   "outputs": [],
   "source": [
    "rt_vs_schedule_stop_times_table = schedule_rt_stop_times_single_agency = get_schedule_rt_stop_times_table(\n",
    "    gtfs_dataset_key,\n",
    "    TARGET_DATE\n",
    ")"
   ]
  },
  {
   "cell_type": "code",
   "execution_count": null,
   "id": "ad951790-197f-4531-a129-d57aff935cb7",
   "metadata": {
    "tags": []
   },
   "outputs": [],
   "source": [
    "rt_vs_schedule_stop_times_table_sorted = rt_vs_schedule_stop_times_table.sort_values(\n",
    "    [\"schedule_gtfs_dataset_key\", \"trip_instance_key\", \"stop_sequence\"], kind=\"stable\"\n",
    ")\n",
    "grouped_by_trip = rt_vs_schedule_stop_times_table_sorted.groupby(\n",
    "    [\"schedule_gtfs_dataset_key\", \"trip_instance_key\"]\n",
    ")\n",
    "shifted_grouped = grouped_by_trip[[\"scheduled_arrival_sec\", \"rt_arrival_sec\"]].shift(1)\n",
    "rt_vs_schedule_stop_times_table_sorted[\"non_sequential_rt_arrival\"] = (\n",
    "    shifted_grouped[\"rt_arrival_sec\"] > rt_vs_schedule_stop_times_table_sorted[\"rt_arrival_sec\"]\n",
    ")\n",
    "rt_vs_schedule_stop_times_table_sorted[\"non_sequential_scheduled_arrival\"] = (\n",
    "    shifted_grouped[\"scheduled_arrival_sec\"] > rt_vs_schedule_stop_times_table_sorted[\"scheduled_arrival_sec\"]\n",
    ")"
   ]
  },
  {
   "cell_type": "markdown",
   "id": "beca5728-fc0a-4be1-a085-3bbdbc538429",
   "metadata": {},
   "source": [
    "## Exploring non-sequential stops"
   ]
  },
  {
   "cell_type": "code",
   "execution_count": null,
   "id": "e15730f0-f5c0-416c-a4fd-2f49d68293cf",
   "metadata": {
    "tags": []
   },
   "outputs": [],
   "source": [
    "# Are there any non sequential schedule stop-times\n",
    "rt_vs_schedule_stop_times_table_sorted.non_sequential_scheduled_arrival.any()"
   ]
  },
  {
   "cell_type": "code",
   "execution_count": null,
   "id": "a370763b-b116-45fa-88ad-2639f1aa9352",
   "metadata": {
    "tags": []
   },
   "outputs": [],
   "source": [
    "# Looks like there are non sequential rt stop times\n",
    "non_sequential_rt_subset = rt_vs_schedule_stop_times_table_sorted.loc[\n",
    "    rt_vs_schedule_stop_times_table_sorted.non_sequential_rt_arrival\n",
    "].copy()\n",
    "non_sequential_rt_subset.trip_id.value_counts()"
   ]
  },
  {
   "cell_type": "code",
   "execution_count": null,
   "id": "ba4ae77e-162c-4610-8f41-160da2db826a",
   "metadata": {
    "tags": []
   },
   "outputs": [],
   "source": [
    "# Map stops by the number of nonsequential, to see if they're random or if there's a pattern\n",
    "gtfs_data_dict = catalog_utils.get_catalog(\"gtfs_analytics_data\")\n",
    "read_parquet_kwargs = {\n",
    "    \"storage_options\": {\"token\": credentials.token},\n",
    "    \"filters\": [(\"feed_key\", \"=\", feed_key)],\n",
    "}\n",
    "stops_uri = (\n",
    "    f\"{gtfs_data_dict.schedule_downloads.dir}{gtfs_data_dict.schedule_downloads.stops}_{TARGET_DATE}.parquet\"\n",
    ")\n",
    "stops_response = gpd.read_parquet(stops_uri, **read_parquet_kwargs)\n",
    "stops_merged = stops_response.merge(\n",
    "    non_sequential_rt_subset.stop_id.value_counts().rename(\"nonsequential_counts\"),\n",
    "    left_on=\"stop_id\",\n",
    "    right_index=True,\n",
    "    validate=\"one_to_one\",\n",
    "    how=\"left\"\n",
    ")\n",
    "stops_merged[\"nonsequential_counts\"] = stops_merged[\"nonsequential_counts\"].fillna(0)"
   ]
  },
  {
   "cell_type": "markdown",
   "id": "b29226d4-3c13-4132-8994-d681b86bd2d2",
   "metadata": {},
   "source": [
    "### Map nonsequential stops"
   ]
  },
  {
   "cell_type": "code",
   "execution_count": null,
   "id": "9ddf88c6-ff38-445f-8082-2b40a599bca0",
   "metadata": {
    "tags": []
   },
   "outputs": [],
   "source": [
    "stops_merged[[\"stop_id\", \"stop_name\", \"nonsequential_counts\", \"geometry\"]].explore(column=\"nonsequential_counts\")"
   ]
  },
  {
   "cell_type": "markdown",
   "id": "706d089f-f8b9-4e82-8478-402d0260c989",
   "metadata": {},
   "source": [
    "### Do any routes have a large number of non-sequential stops?"
   ]
  },
  {
   "cell_type": "code",
   "execution_count": null,
   "id": "c51d5d55-638c-4f70-9389-ba689205da32",
   "metadata": {
    "tags": []
   },
   "outputs": [],
   "source": [
    "trips_uri = (\n",
    "    f\"{gtfs_data_dict.schedule_downloads.dir}{gtfs_data_dict.schedule_downloads.trips}_{TARGET_DATE}.parquet\"\n",
    ")\n",
    "trips_response = pd.read_parquet(\n",
    "    trips_uri, \n",
    "    columns=[\"trip_id\", \"route_id\", \"shape_id\"],\n",
    "    **read_parquet_kwargs\n",
    ")\n",
    "trips_with_nonsequential_stops = trips_response.merge(\n",
    "    non_sequential_rt_subset.trip_id.value_counts().rename(\"nonsequential_counts\"),\n",
    "    left_on=\"trip_id\",\n",
    "    right_index=True,\n",
    "    how=\"inner\",\n",
    "    validate=\"one_to_one\"\n",
    ")\n",
    "stop_times_with_route = rt_vs_schedule_stop_times_table_sorted.merge(\n",
    "    trips_response,\n",
    "    on=\"trip_id\",\n",
    "    how=\"left\",\n",
    "    validate=\"many_to_one\"\n",
    ")\n",
    "route_total_stop_times = stop_times_with_route.route_id.value_counts()\n",
    "route_total_nonsequential_stops = trips_with_nonsequential_stops.route_id.value_counts()\n",
    "non_sequential_stop_proportion = (route_total_nonsequential_stops / route_total_stop_times).sort_values(ascending=False)"
   ]
  },
  {
   "cell_type": "code",
   "execution_count": null,
   "id": "18045600-4de5-4a8e-9c3a-a0f009b221f9",
   "metadata": {
    "tags": []
   },
   "outputs": [],
   "source": [
    "non_sequential_stop_proportion"
   ]
  },
  {
   "cell_type": "markdown",
   "id": "467b3182-ec99-429c-b380-7c536805827d",
   "metadata": {},
   "source": [
    "### Exploring skipped stops"
   ]
  },
  {
   "cell_type": "code",
   "execution_count": null,
   "id": "627e2a0d-4697-4b3e-a227-e8800a333361",
   "metadata": {
    "tags": []
   },
   "outputs": [],
   "source": [
    "from segment_speed_utils import helpers, segment_calcs\n",
    "from update_vars import GTFS_DATA_DICT, SEGMENT_GCS, RT_SCHED_GCS\n",
    "\n",
    "def assemble_scheduled_rt_stop_times_outer_merge(\n",
    "    analysis_date: str,\n",
    "    trip_stop_cols: list\n",
    ") -> pd.DataFrame: \n",
    "    \"\"\"\n",
    "    Merge scheduled and rt stop times so we can compare\n",
    "    scheduled arrival (seconds) and RT arrival (seconds).\n",
    "    \"\"\"\n",
    "    sched_stop_times = prep_scheduled_stop_times(analysis_date)\n",
    "    rt_stop_times = prep_rt_stop_times(analysis_date, trip_stop_cols)\n",
    "    \n",
    "    df = pd.merge(\n",
    "        sched_stop_times,\n",
    "        rt_stop_times,\n",
    "        on = trip_stop_cols,\n",
    "        how = \"inner\"\n",
    "    )\n",
    "    \n",
    "    return df\n",
    "\n",
    "def shortcut_assemble_scheduled_rt_stop_times_outer_merge(analysis_date: str) -> pd.DataFrame:\n",
    "    return assemble_scheduled_rt_stop_times_outer_merge(analysis_date, [*gtfs_data_dict.rt_stop_times.trip_stop_cols])"
   ]
  },
  {
   "cell_type": "code",
   "execution_count": null,
   "id": "b6648462-2f69-4e0d-ae23-cf6211d7599b",
   "metadata": {
    "tags": []
   },
   "outputs": [],
   "source": [
    "outer_merged_stop_times = shortcut_assemble_scheduled_rt_stop_times_outer_merge(TARGET_DATE)"
   ]
  }
 ],
 "metadata": {
  "kernelspec": {
   "display_name": "Python 3 (ipykernel)",
   "language": "python",
   "name": "python3"
  },
  "language_info": {
   "codemirror_mode": {
    "name": "ipython",
    "version": 3
   },
   "file_extension": ".py",
   "mimetype": "text/x-python",
   "name": "python",
   "nbconvert_exporter": "python",
   "pygments_lexer": "ipython3",
   "version": "3.11.10"
  }
 },
 "nbformat": 4,
 "nbformat_minor": 5
}
