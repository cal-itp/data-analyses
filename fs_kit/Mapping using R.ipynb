{
 "cells": [
  {
   "cell_type": "code",
   "execution_count": 3,
   "id": "b9b9e968-3069-4170-9482-22525cebd63f",
   "metadata": {},
   "outputs": [],
   "source": [
    "hk_accidents = hkdatasets::download_data(\"hk_accidents\")"
   ]
  },
  {
   "cell_type": "code",
   "execution_count": 2,
   "id": "1685144b-2044-45d1-af08-dcf1e271a28d",
   "metadata": {},
   "outputs": [
    {
     "name": "stderr",
     "output_type": "stream",
     "text": [
      "also installing the dependencies ‘fstcore’, ‘fst’\n",
      "\n",
      "\n",
      "Updating HTML index of packages in '.Library'\n",
      "\n",
      "Making 'packages.html' ...\n",
      " done\n",
      "\n"
     ]
    }
   ],
   "source": [
    "install.packages(\"hkdatasets\")"
   ]
  },
  {
   "cell_type": "code",
   "execution_count": 8,
   "id": "4b05c951-c1c5-48e2-8784-102bb98f78b5",
   "metadata": {},
   "outputs": [
    {
     "data": {
      "text/html": [
       "<table class=\"dataframe\">\n",
       "<caption>A data.frame: 6 × 32</caption>\n",
       "<thead>\n",
       "\t<tr><th></th><th scope=col>Date_Time</th><th scope=col>OBJECTID</th><th scope=col>Year</th><th scope=col>Serial_No_</th><th scope=col>Severity</th><th scope=col>District_Council_District</th><th scope=col>Hit_and_Run</th><th scope=col>Weather</th><th scope=col>Rain</th><th scope=col>Natural_Light</th><th scope=col>⋯</th><th scope=col>Junction_Type</th><th scope=col>Crossing_Control</th><th scope=col>Crossing_Type</th><th scope=col>Street_Name</th><th scope=col>Road_Type</th><th scope=col>Cycle_Type</th><th scope=col>Type_of_Collision_with_cycle</th><th scope=col>Structure_Type</th><th scope=col>Road_Hierarchy</th><th scope=col>Road_Ownership</th></tr>\n",
       "\t<tr><th></th><th scope=col>&lt;dttm&gt;</th><th scope=col>&lt;dbl&gt;</th><th scope=col>&lt;dbl&gt;</th><th scope=col>&lt;dbl&gt;</th><th scope=col>&lt;chr&gt;</th><th scope=col>&lt;chr&gt;</th><th scope=col>&lt;lgl&gt;</th><th scope=col>&lt;chr&gt;</th><th scope=col>&lt;chr&gt;</th><th scope=col>&lt;chr&gt;</th><th scope=col>⋯</th><th scope=col>&lt;chr&gt;</th><th scope=col>&lt;chr&gt;</th><th scope=col>&lt;chr&gt;</th><th scope=col>&lt;chr&gt;</th><th scope=col>&lt;chr&gt;</th><th scope=col>&lt;chr&gt;</th><th scope=col>&lt;chr&gt;</th><th scope=col>&lt;chr&gt;</th><th scope=col>&lt;chr&gt;</th><th scope=col>&lt;chr&gt;</th></tr>\n",
       "</thead>\n",
       "<tbody>\n",
       "\t<tr><th scope=row>1</th><td>2014-01-01 02:17:00</td><td>1</td><td>2014</td><td>1</td><td>Serious</td><td>E  </td><td>FALSE</td><td>Clear</td><td>Not raining</td><td>Daylight </td><td>⋯</td><td>NA         </td><td>No crossing control  </td><td>NA</td><td>ISLAND EASTERN CORRIDOR</td><td>One way                 </td><td>Others   </td><td>Vehicle collision with Object </td><td>At grade road</td><td>Expressway    </td><td>Public Road</td></tr>\n",
       "\t<tr><th scope=row>2</th><td>2014-01-01 06:17:00</td><td>2</td><td>2014</td><td>2</td><td>Slight </td><td>CW </td><td>FALSE</td><td>Clear</td><td>Not raining</td><td>Dawn/Dusk</td><td>⋯</td><td>Cross roads</td><td>On a crossing control</td><td>NA</td><td>DES VOEUX ROAD WEST    </td><td>Two way                 </td><td>Others   </td><td>Vehicle collision with Nothing</td><td>At grade road</td><td>Main Road     </td><td>Public Road</td></tr>\n",
       "\t<tr><th scope=row>3</th><td>2014-01-01 07:38:00</td><td>3</td><td>2014</td><td>3</td><td>Slight </td><td>YTM</td><td>FALSE</td><td>Clear</td><td>Not raining</td><td>Daylight </td><td>⋯</td><td>NA         </td><td>No crossing control  </td><td>NA</td><td>CANTON ROAD            </td><td>One way                 </td><td>Others   </td><td>Vehicle collision with Object </td><td>At grade road</td><td>Secondary Road</td><td>Public Road</td></tr>\n",
       "\t<tr><th scope=row>4</th><td>2014-01-01 05:22:00</td><td>4</td><td>2014</td><td>4</td><td>Slight </td><td>N  </td><td> TRUE</td><td>Dull </td><td>Not raining</td><td>Dark     </td><td>⋯</td><td>Cross roads</td><td>On a crossing control</td><td>NA</td><td>PO SHEK WU ROAD        </td><td>More than 2 carriageways</td><td>Others   </td><td>Vehicle collision with Vehicle</td><td>At grade road</td><td>Main Road     </td><td>Public Road</td></tr>\n",
       "\t<tr><th scope=row>5</th><td>2014-01-01 01:30:00</td><td>5</td><td>2014</td><td>5</td><td>Slight </td><td>ST </td><td>FALSE</td><td>Clear</td><td>Not raining</td><td>Dark     </td><td>⋯</td><td>NA         </td><td>No crossing control  </td><td>NA</td><td>SHA TIN TAU ROAD       </td><td>One way                 </td><td>Motorcyle</td><td>Vehicle collision with Nothing</td><td>At grade road</td><td>Secondary Road</td><td>Public Road</td></tr>\n",
       "\t<tr><th scope=row>6</th><td>2014-01-01 02:31:00</td><td>6</td><td>2014</td><td>6</td><td>Slight </td><td>TW </td><td>FALSE</td><td>Clear</td><td>Not raining</td><td>Daylight </td><td>⋯</td><td>NA         </td><td>No crossing control  </td><td>NA</td><td>TUEN MUN ROAD          </td><td>More than 2 carriageways</td><td>Others   </td><td>Vehicle collision with Object </td><td>At grade road</td><td>Expressway    </td><td>Public Road</td></tr>\n",
       "</tbody>\n",
       "</table>\n"
      ],
      "text/latex": [
       "A data.frame: 6 × 32\n",
       "\\begin{tabular}{r|lllllllllllllllllllll}\n",
       "  & Date\\_Time & OBJECTID & Year & Serial\\_No\\_ & Severity & District\\_Council\\_District & Hit\\_and\\_Run & Weather & Rain & Natural\\_Light & ⋯ & Junction\\_Type & Crossing\\_Control & Crossing\\_Type & Street\\_Name & Road\\_Type & Cycle\\_Type & Type\\_of\\_Collision\\_with\\_cycle & Structure\\_Type & Road\\_Hierarchy & Road\\_Ownership\\\\\n",
       "  & <dttm> & <dbl> & <dbl> & <dbl> & <chr> & <chr> & <lgl> & <chr> & <chr> & <chr> & ⋯ & <chr> & <chr> & <chr> & <chr> & <chr> & <chr> & <chr> & <chr> & <chr> & <chr>\\\\\n",
       "\\hline\n",
       "\t1 & 2014-01-01 02:17:00 & 1 & 2014 & 1 & Serious & E   & FALSE & Clear & Not raining & Daylight  & ⋯ & NA          & No crossing control   & NA & ISLAND EASTERN CORRIDOR & One way                  & Others    & Vehicle collision with Object  & At grade road & Expressway     & Public Road\\\\\n",
       "\t2 & 2014-01-01 06:17:00 & 2 & 2014 & 2 & Slight  & CW  & FALSE & Clear & Not raining & Dawn/Dusk & ⋯ & Cross roads & On a crossing control & NA & DES VOEUX ROAD WEST     & Two way                  & Others    & Vehicle collision with Nothing & At grade road & Main Road      & Public Road\\\\\n",
       "\t3 & 2014-01-01 07:38:00 & 3 & 2014 & 3 & Slight  & YTM & FALSE & Clear & Not raining & Daylight  & ⋯ & NA          & No crossing control   & NA & CANTON ROAD             & One way                  & Others    & Vehicle collision with Object  & At grade road & Secondary Road & Public Road\\\\\n",
       "\t4 & 2014-01-01 05:22:00 & 4 & 2014 & 4 & Slight  & N   &  TRUE & Dull  & Not raining & Dark      & ⋯ & Cross roads & On a crossing control & NA & PO SHEK WU ROAD         & More than 2 carriageways & Others    & Vehicle collision with Vehicle & At grade road & Main Road      & Public Road\\\\\n",
       "\t5 & 2014-01-01 01:30:00 & 5 & 2014 & 5 & Slight  & ST  & FALSE & Clear & Not raining & Dark      & ⋯ & NA          & No crossing control   & NA & SHA TIN TAU ROAD        & One way                  & Motorcyle & Vehicle collision with Nothing & At grade road & Secondary Road & Public Road\\\\\n",
       "\t6 & 2014-01-01 02:31:00 & 6 & 2014 & 6 & Slight  & TW  & FALSE & Clear & Not raining & Daylight  & ⋯ & NA          & No crossing control   & NA & TUEN MUN ROAD           & More than 2 carriageways & Others    & Vehicle collision with Object  & At grade road & Expressway     & Public Road\\\\\n",
       "\\end{tabular}\n"
      ],
      "text/markdown": [
       "\n",
       "A data.frame: 6 × 32\n",
       "\n",
       "| <!--/--> | Date_Time &lt;dttm&gt; | OBJECTID &lt;dbl&gt; | Year &lt;dbl&gt; | Serial_No_ &lt;dbl&gt; | Severity &lt;chr&gt; | District_Council_District &lt;chr&gt; | Hit_and_Run &lt;lgl&gt; | Weather &lt;chr&gt; | Rain &lt;chr&gt; | Natural_Light &lt;chr&gt; | ⋯ ⋯ | Junction_Type &lt;chr&gt; | Crossing_Control &lt;chr&gt; | Crossing_Type &lt;chr&gt; | Street_Name &lt;chr&gt; | Road_Type &lt;chr&gt; | Cycle_Type &lt;chr&gt; | Type_of_Collision_with_cycle &lt;chr&gt; | Structure_Type &lt;chr&gt; | Road_Hierarchy &lt;chr&gt; | Road_Ownership &lt;chr&gt; |\n",
       "|---|---|---|---|---|---|---|---|---|---|---|---|---|---|---|---|---|---|---|---|---|---|\n",
       "| 1 | 2014-01-01 02:17:00 | 1 | 2014 | 1 | Serious | E   | FALSE | Clear | Not raining | Daylight  | ⋯ | NA          | No crossing control   | NA | ISLAND EASTERN CORRIDOR | One way                  | Others    | Vehicle collision with Object  | At grade road | Expressway     | Public Road |\n",
       "| 2 | 2014-01-01 06:17:00 | 2 | 2014 | 2 | Slight  | CW  | FALSE | Clear | Not raining | Dawn/Dusk | ⋯ | Cross roads | On a crossing control | NA | DES VOEUX ROAD WEST     | Two way                  | Others    | Vehicle collision with Nothing | At grade road | Main Road      | Public Road |\n",
       "| 3 | 2014-01-01 07:38:00 | 3 | 2014 | 3 | Slight  | YTM | FALSE | Clear | Not raining | Daylight  | ⋯ | NA          | No crossing control   | NA | CANTON ROAD             | One way                  | Others    | Vehicle collision with Object  | At grade road | Secondary Road | Public Road |\n",
       "| 4 | 2014-01-01 05:22:00 | 4 | 2014 | 4 | Slight  | N   |  TRUE | Dull  | Not raining | Dark      | ⋯ | Cross roads | On a crossing control | NA | PO SHEK WU ROAD         | More than 2 carriageways | Others    | Vehicle collision with Vehicle | At grade road | Main Road      | Public Road |\n",
       "| 5 | 2014-01-01 01:30:00 | 5 | 2014 | 5 | Slight  | ST  | FALSE | Clear | Not raining | Dark      | ⋯ | NA          | No crossing control   | NA | SHA TIN TAU ROAD        | One way                  | Motorcyle | Vehicle collision with Nothing | At grade road | Secondary Road | Public Road |\n",
       "| 6 | 2014-01-01 02:31:00 | 6 | 2014 | 6 | Slight  | TW  | FALSE | Clear | Not raining | Daylight  | ⋯ | NA          | No crossing control   | NA | TUEN MUN ROAD           | More than 2 carriageways | Others    | Vehicle collision with Object  | At grade road | Expressway     | Public Road |\n",
       "\n"
      ],
      "text/plain": [
       "  Date_Time           OBJECTID Year Serial_No_ Severity\n",
       "1 2014-01-01 02:17:00 1        2014 1          Serious \n",
       "2 2014-01-01 06:17:00 2        2014 2          Slight  \n",
       "3 2014-01-01 07:38:00 3        2014 3          Slight  \n",
       "4 2014-01-01 05:22:00 4        2014 4          Slight  \n",
       "5 2014-01-01 01:30:00 5        2014 5          Slight  \n",
       "6 2014-01-01 02:31:00 6        2014 6          Slight  \n",
       "  District_Council_District Hit_and_Run Weather Rain        Natural_Light ⋯\n",
       "1 E                         FALSE       Clear   Not raining Daylight      ⋯\n",
       "2 CW                        FALSE       Clear   Not raining Dawn/Dusk     ⋯\n",
       "3 YTM                       FALSE       Clear   Not raining Daylight      ⋯\n",
       "4 N                          TRUE       Dull    Not raining Dark          ⋯\n",
       "5 ST                        FALSE       Clear   Not raining Dark          ⋯\n",
       "6 TW                        FALSE       Clear   Not raining Daylight      ⋯\n",
       "  Junction_Type Crossing_Control      Crossing_Type Street_Name            \n",
       "1 NA            No crossing control   NA            ISLAND EASTERN CORRIDOR\n",
       "2 Cross roads   On a crossing control NA            DES VOEUX ROAD WEST    \n",
       "3 NA            No crossing control   NA            CANTON ROAD            \n",
       "4 Cross roads   On a crossing control NA            PO SHEK WU ROAD        \n",
       "5 NA            No crossing control   NA            SHA TIN TAU ROAD       \n",
       "6 NA            No crossing control   NA            TUEN MUN ROAD          \n",
       "  Road_Type                Cycle_Type Type_of_Collision_with_cycle  \n",
       "1 One way                  Others     Vehicle collision with Object \n",
       "2 Two way                  Others     Vehicle collision with Nothing\n",
       "3 One way                  Others     Vehicle collision with Object \n",
       "4 More than 2 carriageways Others     Vehicle collision with Vehicle\n",
       "5 One way                  Motorcyle  Vehicle collision with Nothing\n",
       "6 More than 2 carriageways Others     Vehicle collision with Object \n",
       "  Structure_Type Road_Hierarchy Road_Ownership\n",
       "1 At grade road  Expressway     Public Road   \n",
       "2 At grade road  Main Road      Public Road   \n",
       "3 At grade road  Secondary Road Public Road   \n",
       "4 At grade road  Main Road      Public Road   \n",
       "5 At grade road  Secondary Road Public Road   \n",
       "6 At grade road  Expressway     Public Road   "
      ]
     },
     "metadata": {},
     "output_type": "display_data"
    }
   ],
   "source": [
    "head(hk_accidents)\n"
   ]
  },
  {
   "cell_type": "code",
   "execution_count": 9,
   "id": "cd2148bc-8469-451d-a39c-5fcf58138bbc",
   "metadata": {},
   "outputs": [
    {
     "name": "stderr",
     "output_type": "stream",
     "text": [
      "also installing the dependencies ‘Rcpp’, ‘terra’, ‘leaflet.providers’, ‘png’, ‘raster’, ‘sp’\n",
      "\n",
      "\n",
      "Warning message in install.packages(\"leaflet\"):\n",
      "“installation of package ‘terra’ had non-zero exit status”\n",
      "Warning message in install.packages(\"leaflet\"):\n",
      "“installation of package ‘raster’ had non-zero exit status”\n",
      "Warning message in install.packages(\"leaflet\"):\n",
      "“installation of package ‘leaflet’ had non-zero exit status”\n",
      "Updating HTML index of packages in '.Library'\n",
      "\n",
      "Making 'packages.html' ...\n",
      " done\n",
      "\n"
     ]
    }
   ],
   "source": [
    "install.packages(\"leaflet\")"
   ]
  },
  {
   "cell_type": "code",
   "execution_count": 12,
   "id": "dc8dea3b-6ad8-43da-a71b-b34de0d37aaf",
   "metadata": {},
   "outputs": [
    {
     "name": "stderr",
     "output_type": "stream",
     "text": [
      "── \u001b[1mAttaching packages\u001b[22m ─────────────────────────────────────── tidyverse 1.3.2 ──\n",
      "\u001b[32m✔\u001b[39m \u001b[34mggplot2\u001b[39m 3.3.6      \u001b[32m✔\u001b[39m \u001b[34mpurrr  \u001b[39m 0.3.5 \n",
      "\u001b[32m✔\u001b[39m \u001b[34mtibble \u001b[39m 3.1.8      \u001b[32m✔\u001b[39m \u001b[34mdplyr  \u001b[39m 1.0.10\n",
      "\u001b[32m✔\u001b[39m \u001b[34mtidyr  \u001b[39m 1.2.1      \u001b[32m✔\u001b[39m \u001b[34mstringr\u001b[39m 1.4.1 \n",
      "\u001b[32m✔\u001b[39m \u001b[34mreadr  \u001b[39m 2.1.3      \u001b[32m✔\u001b[39m \u001b[34mforcats\u001b[39m 0.5.2 \n",
      "── \u001b[1mConflicts\u001b[22m ────────────────────────────────────────── tidyverse_conflicts() ──\n",
      "\u001b[31m✖\u001b[39m \u001b[34mdplyr\u001b[39m::\u001b[32mfilter()\u001b[39m masks \u001b[34mstats\u001b[39m::filter()\n",
      "\u001b[31m✖\u001b[39m \u001b[34mdplyr\u001b[39m::\u001b[32mlag()\u001b[39m    masks \u001b[34mstats\u001b[39m::lag()\n"
     ]
    }
   ],
   "source": [
    "library(tidyverse)"
   ]
  },
  {
   "cell_type": "code",
   "execution_count": 14,
   "id": "975fb3e1-cde3-4d2e-986f-8de7cd9cfc22",
   "metadata": {},
   "outputs": [
    {
     "ename": "ERROR",
     "evalue": "Error in addTiles(.): could not find function \"addTiles\"\n",
     "output_type": "error",
     "traceback": [
      "Error in addTiles(.): could not find function \"addTiles\"\nTraceback:\n",
      "1. leaflet() %>% addTiles()"
     ]
    }
   ],
   "source": [
    "leaflet() %>% addTiles()\n"
   ]
  },
  {
   "cell_type": "code",
   "execution_count": 15,
   "id": "4b5fcb3b-8128-4967-a835-36fd9ce5fab8",
   "metadata": {},
   "outputs": [
    {
     "name": "stderr",
     "output_type": "stream",
     "text": [
      "Warning message in install.packages(\"terra\"):\n",
      "“installation of package ‘terra’ had non-zero exit status”\n",
      "Updating HTML index of packages in '.Library'\n",
      "\n",
      "Making 'packages.html' ...\n",
      " done\n",
      "\n"
     ]
    }
   ],
   "source": [
    "install.packages(\"terra\")"
   ]
  },
  {
   "cell_type": "code",
   "execution_count": 2,
   "id": "692e0507-9ad5-476e-83a6-d3b75f5d38bc",
   "metadata": {},
   "outputs": [
    {
     "name": "stderr",
     "output_type": "stream",
     "text": [
      "also installing the dependency ‘terra’\n",
      "\n",
      "\n",
      "Warning message in install.packages(\"raster\"):\n",
      "“installation of package ‘terra’ had non-zero exit status”\n",
      "Warning message in install.packages(\"raster\"):\n",
      "“installation of package ‘raster’ had non-zero exit status”\n",
      "Updating HTML index of packages in '.Library'\n",
      "\n",
      "Making 'packages.html' ...\n",
      " done\n",
      "\n"
     ]
    }
   ],
   "source": [
    "install.packages(\"raster\")"
   ]
  },
  {
   "cell_type": "code",
   "execution_count": 1,
   "id": "626321ee-abc3-4ea1-8b42-7a69d5743a56",
   "metadata": {},
   "outputs": [
    {
     "name": "stderr",
     "output_type": "stream",
     "text": [
      "Warning message in install.packages(\"terra\", repos = \"https://rspatial.r-universe.dev\"):\n",
      "“installation of package ‘terra’ had non-zero exit status”\n",
      "Updating HTML index of packages in '.Library'\n",
      "\n",
      "Making 'packages.html' ...\n",
      " done\n",
      "\n"
     ]
    }
   ],
   "source": [
    "install.packages('terra', repos='https://rspatial.r-universe.dev')"
   ]
  },
  {
   "cell_type": "code",
   "execution_count": 3,
   "id": "0aada56a-1ab3-4246-a4b7-d195d8d5a8af",
   "metadata": {},
   "outputs": [
    {
     "data": {
      "text/plain": [
       "               _                           \n",
       "platform       x86_64-conda-linux-gnu      \n",
       "arch           x86_64                      \n",
       "os             linux-gnu                   \n",
       "system         x86_64, linux-gnu           \n",
       "status                                     \n",
       "major          4                           \n",
       "minor          1.3                         \n",
       "year           2022                        \n",
       "month          03                          \n",
       "day            10                          \n",
       "svn rev        81868                       \n",
       "language       R                           \n",
       "version.string R version 4.1.3 (2022-03-10)\n",
       "nickname       One Push-Up                 "
      ]
     },
     "metadata": {},
     "output_type": "display_data"
    }
   ],
   "source": [
    "version"
   ]
  },
  {
   "cell_type": "code",
   "execution_count": 6,
   "id": "25411976-5220-4dd2-b8b1-87c233809bbb",
   "metadata": {},
   "outputs": [
    {
     "name": "stderr",
     "output_type": "stream",
     "text": [
      "also installing the dependencies ‘wk’, ‘classInt’, ‘s2’, ‘units’\n",
      "\n",
      "\n",
      "Warning message in install.packages(\"sf\"):\n",
      "“installation of package ‘units’ had non-zero exit status”\n",
      "Warning message in install.packages(\"sf\"):\n",
      "“installation of package ‘sf’ had non-zero exit status”\n",
      "Updating HTML index of packages in '.Library'\n",
      "\n",
      "Making 'packages.html' ...\n",
      " done\n",
      "\n"
     ]
    }
   ],
   "source": [
    "install.packages(\"sf\")"
   ]
  },
  {
   "cell_type": "code",
   "execution_count": 7,
   "id": "ce374285-5af5-4ce7-9be7-54208c52ba3e",
   "metadata": {},
   "outputs": [
    {
     "ename": "ERROR",
     "evalue": "Error in library(sf): there is no package called ‘sf’\n",
     "output_type": "error",
     "traceback": [
      "Error in library(sf): there is no package called ‘sf’\nTraceback:\n",
      "1. library(sf)"
     ]
    }
   ],
   "source": [
    "library(dplyr)\n",
    "library(sf)\n",
    "library(leaflet)\n",
    "\n",
    "# your data:\n",
    "data <- tibble::tribble(~location, ~longitude, ~latitude,\n",
    "                        \"loc1\", 24.600, 67.524,\n",
    "                        \"loc1\", 24.600, 67.535,\n",
    "                        \"loc2\", 28.478, -17.789,\n",
    "                        \"loc3\", 30.654, 12.397,\n",
    "                        \"loc3\", 30.654, 12.397,\n",
    "                        \"loc3\", 30.654, 12.397)\n",
    "\n",
    "# make data feel spatial = tranform to sf format\n",
    "data <- data %>% \n",
    "  st_as_sf(coords = c(\"longitude\", \"latitude\"), \n",
    "           crs = 4326)\n",
    "\n",
    "# call leaflet with your data as data object\n",
    "leaflet(data = data) %>% \n",
    "  addProviderTiles(\"CartoDB.Positron\") %>%  # a basemeap\n",
    "  addMarkers(popup = ~location) # addCircleMarkers is another possibility"
   ]
  },
  {
   "cell_type": "code",
   "execution_count": 1,
   "id": "dd9bbdc9-aeff-4e32-b125-aad483244e73",
   "metadata": {},
   "outputs": [
    {
     "ename": "ERROR",
     "evalue": "Error in library(sf): there is no package called ‘sf’\n",
     "output_type": "error",
     "traceback": [
      "Error in library(sf): there is no package called ‘sf’\nTraceback:\n",
      "1. library(sf)"
     ]
    }
   ],
   "source": [
    "library(sf)"
   ]
  },
  {
   "cell_type": "code",
   "execution_count": 2,
   "id": "4ba1398e-3163-426c-830f-1c4af073aee8",
   "metadata": {},
   "outputs": [
    {
     "name": "stderr",
     "output_type": "stream",
     "text": [
      "Warning message:\n",
      "“package ‘unites’ is not available for this version of R\n",
      "\n",
      "A version of this package for your version of R might be available elsewhere,\n",
      "see the ideas at\n",
      "https://cran.r-project.org/doc/manuals/r-patched/R-admin.html#Installing-packages”\n"
     ]
    }
   ],
   "source": [
    "install.packages(\"unites\")"
   ]
  },
  {
   "cell_type": "code",
   "execution_count": null,
   "id": "9da39dc4-d6c0-46cb-9929-b5f32d115c02",
   "metadata": {},
   "outputs": [],
   "source": []
  },
  {
   "cell_type": "code",
   "execution_count": null,
   "id": "ce76c753-a9e0-4981-b386-52371fa8b4d9",
   "metadata": {},
   "outputs": [],
   "source": []
  },
  {
   "cell_type": "code",
   "execution_count": null,
   "id": "311af76e-0691-4a4c-ba5e-05704917104c",
   "metadata": {},
   "outputs": [],
   "source": []
  },
  {
   "cell_type": "code",
   "execution_count": null,
   "id": "806bb3e0-1275-401d-890a-e11569bc8c9f",
   "metadata": {},
   "outputs": [],
   "source": []
  },
  {
   "cell_type": "code",
   "execution_count": null,
   "id": "3f6dac24-0921-4d06-a322-781f1e724440",
   "metadata": {},
   "outputs": [],
   "source": []
  },
  {
   "cell_type": "code",
   "execution_count": null,
   "id": "4a1f2c7d-113a-4163-9063-a0b01d7ea8c3",
   "metadata": {},
   "outputs": [],
   "source": []
  }
 ],
 "metadata": {
  "kernelspec": {
   "display_name": "R",
   "language": "R",
   "name": "ir"
  },
  "language_info": {
   "codemirror_mode": "r",
   "file_extension": ".r",
   "mimetype": "text/x-r-source",
   "name": "R",
   "pygments_lexer": "r",
   "version": "4.1.3"
  }
 },
 "nbformat": 4,
 "nbformat_minor": 5
}
