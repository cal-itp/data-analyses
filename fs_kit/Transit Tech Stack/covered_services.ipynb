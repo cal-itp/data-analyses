{
 "cells": [
  {
   "cell_type": "code",
   "execution_count": 1,
   "id": "ce3642dd-82a9-47b2-bbdd-8b3cedb73105",
   "metadata": {},
   "outputs": [
    {
     "name": "stderr",
     "output_type": "stream",
     "text": [
      "also installing the dependencies ‘lazyeval’, ‘crosstalk’\n",
      "\n",
      "\n",
      "Updating HTML index of packages in '.Library'\n",
      "\n",
      "Making 'packages.html' ...\n",
      " done\n",
      "\n",
      "also installing the dependency ‘rapidjsonr’\n",
      "\n",
      "\n",
      "Updating HTML index of packages in '.Library'\n",
      "\n",
      "Making 'packages.html' ...\n",
      " done\n",
      "\n"
     ]
    }
   ],
   "source": [
    "install.packages('DT')\n",
    "install.packages(\"bigrquery\")"
   ]
  },
  {
   "cell_type": "code",
   "execution_count": 2,
   "id": "59f54de2-a886-43f1-b04b-b1e471779707",
   "metadata": {},
   "outputs": [
    {
     "name": "stderr",
     "output_type": "stream",
     "text": [
      "── \u001b[1mAttaching core tidyverse packages\u001b[22m ──────────────────────── tidyverse 2.0.0 ──\n",
      "\u001b[32m✔\u001b[39m \u001b[34mdplyr    \u001b[39m 1.1.4     \u001b[32m✔\u001b[39m \u001b[34mreadr    \u001b[39m 2.1.5\n",
      "\u001b[32m✔\u001b[39m \u001b[34mforcats  \u001b[39m 1.0.0     \u001b[32m✔\u001b[39m \u001b[34mstringr  \u001b[39m 1.5.1\n",
      "\u001b[32m✔\u001b[39m \u001b[34mggplot2  \u001b[39m 3.5.1     \u001b[32m✔\u001b[39m \u001b[34mtibble   \u001b[39m 3.2.1\n",
      "\u001b[32m✔\u001b[39m \u001b[34mlubridate\u001b[39m 1.9.3     \u001b[32m✔\u001b[39m \u001b[34mtidyr    \u001b[39m 1.3.1\n",
      "\u001b[32m✔\u001b[39m \u001b[34mpurrr    \u001b[39m 1.0.2     \n",
      "── \u001b[1mConflicts\u001b[22m ────────────────────────────────────────── tidyverse_conflicts() ──\n",
      "\u001b[31m✖\u001b[39m \u001b[34mdplyr\u001b[39m::\u001b[32mfilter()\u001b[39m masks \u001b[34mstats\u001b[39m::filter()\n",
      "\u001b[31m✖\u001b[39m \u001b[34mdplyr\u001b[39m::\u001b[32mlag()\u001b[39m    masks \u001b[34mstats\u001b[39m::lag()\n",
      "\u001b[36mℹ\u001b[39m Use the conflicted package (\u001b[3m\u001b[34m<http://conflicted.r-lib.org/>\u001b[39m\u001b[23m) to force all conflicts to become errors\n"
     ]
    }
   ],
   "source": [
    "library(tidyverse)\n",
    "library(DBI)\n",
    "library(stringr)\n",
    "library(DT)\n",
    "library(lubridate)"
   ]
  },
  {
   "cell_type": "code",
   "execution_count": 18,
   "id": "0bbc2658-49f0-4b8a-a811-236051a7cf04",
   "metadata": {},
   "outputs": [],
   "source": [
    "con <- dbConnect(\n",
    "  bigrquery::bigquery(),\n",
    "  project = \"cal-itp-data-infra\" ,\n",
    "  dataset = \"mart_gtfs\" ,\n",
    "  page_size = 4000\n",
    "#  billing = \"billing\"\n",
    "  )"
   ]
  },
  {
   "cell_type": "code",
   "execution_count": 4,
   "id": "7eb3d95b-729b-494f-bef2-08f8ad5e8966",
   "metadata": {},
   "outputs": [],
   "source": [
    "base_tts_contracts_idmap_query = \n",
    "\"\n",
    "WITH\n",
    "latest AS (\n",
    "    \n",
    "\n",
    "WITH ranked AS (\n",
    "    SELECT *,\n",
    "        DENSE_RANK() OVER (\n",
    "            \n",
    "            PARTITION BY dt\n",
    "            \n",
    "            ORDER BY ts DESC) as rank,\n",
    "        -- TODO: this is probably a bit fragile, but lets us fake historical Airtable data\n",
    "        MIN(ts) OVER () AS universal_first_val\n",
    "    FROM `cal-itp-data-infra`.`external_airtable`.`transit_technology_stacks__contracts`\n",
    "    QUALIFY rank = 1\n",
    ")\n",
    "SELECT * FROM ranked\n",
    "\n",
    "\n",
    "),\n",
    "\n",
    "base_tts_organizations_ct_organizations_map AS (\n",
    "    SELECT * FROM `cal-itp-data-infra`.`staging`.`base_tts_organizations_ct_organizations_map`\n",
    "),\n",
    "\n",
    "base_tts_services_ct_services_map AS (\n",
    "    SELECT * FROM `cal-itp-data-infra`.`staging`.`base_tts_services_ct_services_map`\n",
    "),\n",
    "\n",
    "mapped_org_ids AS (\n",
    "    SELECT\n",
    "        id,\n",
    "        ARRAY_AGG(map_holder.ct_key IGNORE NULLS) AS contract_holder,\n",
    "        ARRAY_AGG(map_vendor.ct_key IGNORE NULLS) AS contract_vendor,\n",
    "        ARRAY_AGG(map_services.ct_key IGNORE NULLS) AS covered_services,\n",
    "    dt\n",
    "    FROM latest\n",
    "    LEFT JOIN UNNEST(latest.contract_holder) AS unnested_contract_holder\n",
    "    LEFT JOIN UNNEST(latest.contract_vendor) AS unnested_contract_vendor\n",
    "    LEFT JOIN UNNEST(latest.covered_services) AS unnested_covered_services\n",
    "    LEFT JOIN base_tts_organizations_ct_organizations_map AS map_holder\n",
    "        ON unnested_contract_holder = map_holder.tts_key\n",
    "        AND dt = map_holder.tts_date\n",
    "    LEFT JOIN base_tts_organizations_ct_organizations_map AS map_vendor\n",
    "        ON unnested_contract_vendor = map_vendor.tts_key\n",
    "        AND dt = map_vendor.tts_date\n",
    "    LEFT JOIN base_tts_services_ct_services_map AS map_services\n",
    "        ON unnested_covered_services = map_services.tts_key\n",
    "        AND dt = map_services.tts_date\n",
    "    GROUP BY id, dt\n",
    "),\n",
    "\n",
    "base_tts_contracts_idmap AS (\n",
    "    SELECT\n",
    "        r.* EXCEPT(contract_holder, contract_vendor, covered_services),\n",
    "        map.contract_holder,\n",
    "        map.contract_vendor,\n",
    "        map.covered_services\n",
    "    FROM latest as r\n",
    "    LEFT JOIN mapped_org_ids AS map\n",
    "        USING (id, dt)\n",
    ")\n",
    "\n",
    "SELECT * FROM base_tts_contracts_idmap\n",
    "\""
   ]
  },
  {
   "cell_type": "code",
   "execution_count": 19,
   "id": "79d01a6e-1fbf-45f2-be17-177832305b03",
   "metadata": {},
   "outputs": [],
   "source": [
    "base_tts_contracts_idmap = dbGetQuery(con, base_tts_contracts_idmap_query)"
   ]
  },
  {
   "cell_type": "code",
   "execution_count": 13,
   "id": "54f75e66-89fb-4fbc-b81a-3a3f5dd78138",
   "metadata": {},
   "outputs": [],
   "source": [
    "stg_transit_database__contracts_query =\n",
    "'\n",
    "WITH\n",
    "\n",
    "once_daily_contracts AS (\n",
    "    SELECT *\n",
    "    -- have to use base table to get the california transit base organization record ids\n",
    "    FROM base_tts_contracts_idmap\n",
    "),\n",
    "\n",
    "stg_transit_database__contracts AS (\n",
    "    SELECT\n",
    "        id,\n",
    "        \n",
    "\n",
    "CASE\n",
    "    WHEN TRIM(name) = \"\"\n",
    "        THEN NULL\n",
    "    ELSE TRIM(name)\n",
    "END\n",
    "\n",
    " AS name,\n",
    "        unnested_contract_holder AS contract_holder_organization_key,\n",
    "        unnested_contract_vendor AS contract_vendor_organization_key,\n",
    "        covered_components,\n",
    "        covered_services,\n",
    "        value,\n",
    "        start_date,\n",
    "        end_date,\n",
    "        renewal_option,\n",
    "        notes,\n",
    "        contract_name AS contract_name_notes,\n",
    "        attachments,\n",
    "        dt\n",
    "    FROM base_tts_contracts_idmap\n",
    "    LEFT JOIN UNNEST(once_daily_contracts.contract_holder) AS unnested_contract_holder\n",
    "    LEFT JOIN UNNEST(once_daily_contracts.contract_vendor) AS unnested_contract_vendor\n",
    ")\n",
    "\n",
    "SELECT * FROM stg_transit_database__contracts\n",
    "'"
   ]
  },
  {
   "cell_type": "code",
   "execution_count": 14,
   "id": "4a163d43-1b11-4b12-af4e-914ee7f521ff",
   "metadata": {},
   "outputs": [
    {
     "ename": "ERROR",
     "evalue": "\u001b[1m\u001b[33mError\u001b[39m in `BigQueryResult()`:\u001b[22m\n\u001b[1m\u001b[22m\u001b[33m!\u001b[39m Job cal-itp-data-infra.job_42CDn0eZQlxkgv-HIgmK3BmROS6U.us-west2\n  failed\n\u001b[31m✖\u001b[39m Not found: Table cal-itp-data-infra:mart_gtfs.base_tts_contracts_idmap was\n  not found in location us-west2 [notFound]\n",
     "output_type": "error",
     "traceback": [
      "\u001b[1m\u001b[33mError\u001b[39m in `BigQueryResult()`:\u001b[22m\n\u001b[1m\u001b[22m\u001b[33m!\u001b[39m Job cal-itp-data-infra.job_42CDn0eZQlxkgv-HIgmK3BmROS6U.us-west2\n  failed\n\u001b[31m✖\u001b[39m Not found: Table cal-itp-data-infra:mart_gtfs.base_tts_contracts_idmap was\n  not found in location us-west2 [notFound]\nTraceback:\n",
      "1. dbGetQuery(con, stg_transit_database__contracts_query)",
      "2. .local(conn, statement, ...)",
      "3. dbSendQuery(conn, statement, ...)",
      "4. dbSendQuery(conn, statement, ...)",
      "5. .local(conn, statement, ...)",
      "6. BigQueryResult(conn, statement, params = params, ...)",
      "7. bq_job_wait(job, quiet = conn@quiet)",
      "8. cli::cli_abort(c(\"Job {x} failed\", bullets), call = call)",
      "9. rlang::abort(message, ..., call = call, use_cli_format = TRUE, \n .     .frame = .frame)",
      "10. signal_abort(cnd, .file)",
      "11. signalCondition(cnd)"
     ]
    }
   ],
   "source": [
    "stg_transit_database__contracts = dbGetQuery(con, stg_transit_database__contracts_query)"
   ]
  },
  {
   "cell_type": "code",
   "execution_count": null,
   "id": "3900753f-6d81-48ac-a373-e21557ec11e4",
   "metadata": {},
   "outputs": [],
   "source": [
    "int_transit_database__contracts_dim_query = \n",
    "\"\n",
    "WITH latest_contracts AS (\n",
    "    \n",
    "\n",
    "WITH ranked AS (\n",
    "    SELECT *,\n",
    "        DENSE_RANK() OVER (\n",
    "            \n",
    "            ORDER BY dt DESC) as rank,\n",
    "        -- TODO: this is probably a bit fragile, but lets us fake historical Airtable data\n",
    "        MIN(dt) OVER () AS universal_first_val\n",
    "    FROM `cal-itp-data-infra`.`staging`.`stg_transit_database__contracts`\n",
    "    QUALIFY rank = 1\n",
    ")\n",
    "SELECT * FROM ranked\n",
    "\n",
    "\n",
    "),\n",
    "\n",
    "-- TODO: make this table actually historical\n",
    "historical AS (\n",
    "    SELECT\n",
    "        *,\n",
    "        TRUE AS _is_current,\n",
    "        CAST(universal_first_val AS TIMESTAMP) AS _valid_from,\n",
    "        \n",
    "TIMESTAMP_SUB(CAST(\"2099-01-01\" AS TIMESTAMP), INTERVAL 1 MICROSECOND)\n",
    " AS _valid_to\n",
    "    FROM latest_contracts\n",
    "),\n",
    "\n",
    "int_transit_database__contracts_dim AS (\n",
    "    SELECT\n",
    "        \n",
    "    \n",
    "to_hex(md5(cast(coalesce(cast(id as STRING), '') || '-' || coalesce(cast(_valid_from as STRING), '') as STRING))) AS key,\n",
    "        id AS source_record_id,\n",
    "        name,\n",
    "        contract_holder_organization_key,\n",
    "        contract_vendor_organization_key,\n",
    "        value,\n",
    "        start_date,\n",
    "        end_date,\n",
    "        covered_services,\n",
    "        renewal_option,\n",
    "        notes,\n",
    "        attachments,\n",
    "        contract_name_notes,\n",
    "        covered_components,\n",
    "        _is_current,\n",
    "        _valid_from,\n",
    "        _valid_to\n",
    "    FROM historical\n",
    ")\n",
    "\n",
    "SELECT * FROM int_transit_database__contracts_dim\n",
    "\""
   ]
  },
  {
   "cell_type": "code",
   "execution_count": null,
   "id": "e0b99fb8-feb8-4bcb-ae7f-a6a752c4f85f",
   "metadata": {},
   "outputs": [],
   "source": [
    "int_transit_database__contracts_dim = dbGetQuery(con, int_transit_database__contracts_dim_query)"
   ]
  },
  {
   "cell_type": "code",
   "execution_count": null,
   "id": "b9bfd50d-5bc3-4480-9e38-cea61a7da7a2",
   "metadata": {
    "tags": []
   },
   "outputs": [],
   "source": [
    "dim(int_transit_database__contracts_dim)"
   ]
  },
  {
   "cell_type": "code",
   "execution_count": null,
   "id": "4189067c-7e25-42b5-afa2-4012cf6e017f",
   "metadata": {},
   "outputs": [],
   "source": []
  },
  {
   "cell_type": "code",
   "execution_count": null,
   "id": "81c4be8c-1f26-454a-b5ce-502313e1c5a1",
   "metadata": {},
   "outputs": [],
   "source": []
  }
 ],
 "metadata": {
  "kernelspec": {
   "display_name": "R",
   "language": "R",
   "name": "ir"
  },
  "language_info": {
   "codemirror_mode": "r",
   "file_extension": ".r",
   "mimetype": "text/x-r-source",
   "name": "R",
   "pygments_lexer": "r",
   "version": "4.3.3"
  }
 },
 "nbformat": 4,
 "nbformat_minor": 5
}
