{
 "cells": [
  {
   "cell_type": "code",
   "execution_count": 4,
   "id": "c2974b7d-66fc-4c17-a791-3c2b594daaea",
   "metadata": {},
   "outputs": [],
   "source": [
    "#library()"
   ]
  },
  {
   "cell_type": "code",
   "execution_count": 15,
   "id": "17813b8b-24f7-436b-95ff-a6e3793b5b89",
   "metadata": {},
   "outputs": [],
   "source": [
    "x = installed.packages()\n",
    "#print(x)"
   ]
  },
  {
   "cell_type": "code",
   "execution_count": 29,
   "id": "2ed08092-5ee7-4b1e-8671-2c9e81451f22",
   "metadata": {},
   "outputs": [
    {
     "data": {
      "text/html": [
       "<style>\n",
       ".list-inline {list-style: none; margin:0; padding: 0}\n",
       ".list-inline>li {display: inline-block}\n",
       ".list-inline>li:not(:last-child)::after {content: \"\\00b7\"; padding: 0 .5ex}\n",
       "</style>\n",
       "<ol class=list-inline><li>'dplyr'</li><li>'DBI'</li><li>'odbc'</li><li>'stats'</li><li>'graphics'</li><li>'grDevices'</li><li>'utils'</li><li>'datasets'</li><li>'methods'</li><li>'base'</li></ol>\n"
      ],
      "text/latex": [
       "\\begin{enumerate*}\n",
       "\\item 'dplyr'\n",
       "\\item 'DBI'\n",
       "\\item 'odbc'\n",
       "\\item 'stats'\n",
       "\\item 'graphics'\n",
       "\\item 'grDevices'\n",
       "\\item 'utils'\n",
       "\\item 'datasets'\n",
       "\\item 'methods'\n",
       "\\item 'base'\n",
       "\\end{enumerate*}\n"
      ],
      "text/markdown": [
       "1. 'dplyr'\n",
       "2. 'DBI'\n",
       "3. 'odbc'\n",
       "4. 'stats'\n",
       "5. 'graphics'\n",
       "6. 'grDevices'\n",
       "7. 'utils'\n",
       "8. 'datasets'\n",
       "9. 'methods'\n",
       "10. 'base'\n",
       "\n",
       "\n"
      ],
      "text/plain": [
       " [1] \"dplyr\"     \"DBI\"       \"odbc\"      \"stats\"     \"graphics\"  \"grDevices\"\n",
       " [7] \"utils\"     \"datasets\"  \"methods\"   \"base\"     "
      ]
     },
     "metadata": {},
     "output_type": "display_data"
    }
   ],
   "source": [
    "(.packages())"
   ]
  },
  {
   "cell_type": "code",
   "execution_count": 30,
   "id": "a08153b5-3b05-4974-b358-ddb3b40cfe7e",
   "metadata": {},
   "outputs": [
    {
     "data": {
      "text/plain": [
       "R version 4.1.3 (2022-03-10)\n",
       "Platform: x86_64-conda-linux-gnu (64-bit)\n",
       "Running under: Ubuntu 22.04.1 LTS\n",
       "\n",
       "Matrix products: default\n",
       "BLAS/LAPACK: /opt/conda/lib/libopenblasp-r0.3.21.so\n",
       "\n",
       "locale:\n",
       " [1] LC_CTYPE=en_US.UTF-8       LC_NUMERIC=C              \n",
       " [3] LC_TIME=en_US.UTF-8        LC_COLLATE=en_US.UTF-8    \n",
       " [5] LC_MONETARY=en_US.UTF-8    LC_MESSAGES=en_US.UTF-8   \n",
       " [7] LC_PAPER=en_US.UTF-8       LC_NAME=C                 \n",
       " [9] LC_ADDRESS=C               LC_TELEPHONE=C            \n",
       "[11] LC_MEASUREMENT=en_US.UTF-8 LC_IDENTIFICATION=C       \n",
       "\n",
       "attached base packages:\n",
       "[1] stats     graphics  grDevices utils     datasets  methods   base     \n",
       "\n",
       "other attached packages:\n",
       "[1] dplyr_1.0.10 DBI_1.1.3    odbc_1.5.0  \n",
       "\n",
       "loaded via a namespace (and not attached):\n",
       " [1] Rcpp_1.0.9       magrittr_2.0.3   hms_1.1.2        tidyselect_1.1.2\n",
       " [5] bit_4.0.4        uuid_1.1-0       R6_2.5.1         rlang_1.1.4     \n",
       " [9] fastmap_1.1.0    fansi_1.0.3      blob_1.2.3       tools_4.1.3     \n",
       "[13] utf8_1.2.2       cli_3.6.2        ellipsis_0.3.2   htmltools_0.5.3 \n",
       "[17] assertthat_0.2.1 bit64_4.0.5      digest_0.6.29    tibble_3.1.8    \n",
       "[21] lifecycle_1.0.3  crayon_1.5.2     IRdisplay_1.1    purrr_0.3.5     \n",
       "[25] repr_1.1.4       base64enc_0.1-3  vctrs_0.6.5      IRkernel_1.3    \n",
       "[29] glue_1.6.2       evaluate_0.17    pbdZMQ_0.3-7     compiler_4.1.3  \n",
       "[33] pillar_1.8.1     generics_0.1.3   jsonlite_1.8.2   pkgconfig_2.0.3 "
      ]
     },
     "metadata": {},
     "output_type": "display_data"
    }
   ],
   "source": [
    "sessionInfo()"
   ]
  },
  {
   "cell_type": "code",
   "execution_count": 17,
   "id": "c7a46adf-4c88-4b96-9d56-8d3b87e5d5f8",
   "metadata": {},
   "outputs": [
    {
     "data": {
      "text/plain": [
       "[1] ‘1.1.4’"
      ]
     },
     "metadata": {},
     "output_type": "display_data"
    }
   ],
   "source": [
    "packageVersion(\"rlang\")"
   ]
  },
  {
   "cell_type": "code",
   "execution_count": 18,
   "id": "c86c4a76-61e2-4142-9ea1-8b9f76c9fa45",
   "metadata": {},
   "outputs": [
    {
     "data": {
      "text/html": [
       "<style>\n",
       ".list-inline {list-style: none; margin:0; padding: 0}\n",
       ".list-inline>li {display: inline-block}\n",
       ".list-inline>li:not(:last-child)::after {content: \"\\00b7\"; padding: 0 .5ex}\n",
       "</style>\n",
       "<ol class=list-inline><li>'Rcpp'</li><li>'hms'</li><li>'odbc'</li><li>'grDevices'</li><li>'bit'</li><li>'uuid'</li><li>'rlang'</li><li>'fastmap'</li><li>'fansi'</li><li>'blob'</li><li>'tools'</li><li>'utils'</li><li>'utf8'</li><li>'cli'</li><li>'DBI'</li><li>'ellipsis'</li><li>'htmltools'</li><li>'stats'</li><li>'datasets'</li><li>'bit64'</li><li>'digest'</li><li>'base'</li><li>'lifecycle'</li><li>'crayon'</li><li>'IRdisplay'</li><li>'repr'</li><li>'base64enc'</li><li>'graphics'</li><li>'vctrs'</li><li>'IRkernel'</li><li>'glue'</li><li>'evaluate'</li><li>'pbdZMQ'</li><li>'compiler'</li><li>'pillar'</li><li>'methods'</li><li>'jsonlite'</li><li>'pkgconfig'</li></ol>\n"
      ],
      "text/latex": [
       "\\begin{enumerate*}\n",
       "\\item 'Rcpp'\n",
       "\\item 'hms'\n",
       "\\item 'odbc'\n",
       "\\item 'grDevices'\n",
       "\\item 'bit'\n",
       "\\item 'uuid'\n",
       "\\item 'rlang'\n",
       "\\item 'fastmap'\n",
       "\\item 'fansi'\n",
       "\\item 'blob'\n",
       "\\item 'tools'\n",
       "\\item 'utils'\n",
       "\\item 'utf8'\n",
       "\\item 'cli'\n",
       "\\item 'DBI'\n",
       "\\item 'ellipsis'\n",
       "\\item 'htmltools'\n",
       "\\item 'stats'\n",
       "\\item 'datasets'\n",
       "\\item 'bit64'\n",
       "\\item 'digest'\n",
       "\\item 'base'\n",
       "\\item 'lifecycle'\n",
       "\\item 'crayon'\n",
       "\\item 'IRdisplay'\n",
       "\\item 'repr'\n",
       "\\item 'base64enc'\n",
       "\\item 'graphics'\n",
       "\\item 'vctrs'\n",
       "\\item 'IRkernel'\n",
       "\\item 'glue'\n",
       "\\item 'evaluate'\n",
       "\\item 'pbdZMQ'\n",
       "\\item 'compiler'\n",
       "\\item 'pillar'\n",
       "\\item 'methods'\n",
       "\\item 'jsonlite'\n",
       "\\item 'pkgconfig'\n",
       "\\end{enumerate*}\n"
      ],
      "text/markdown": [
       "1. 'Rcpp'\n",
       "2. 'hms'\n",
       "3. 'odbc'\n",
       "4. 'grDevices'\n",
       "5. 'bit'\n",
       "6. 'uuid'\n",
       "7. 'rlang'\n",
       "8. 'fastmap'\n",
       "9. 'fansi'\n",
       "10. 'blob'\n",
       "11. 'tools'\n",
       "12. 'utils'\n",
       "13. 'utf8'\n",
       "14. 'cli'\n",
       "15. 'DBI'\n",
       "16. 'ellipsis'\n",
       "17. 'htmltools'\n",
       "18. 'stats'\n",
       "19. 'datasets'\n",
       "20. 'bit64'\n",
       "21. 'digest'\n",
       "22. 'base'\n",
       "23. 'lifecycle'\n",
       "24. 'crayon'\n",
       "25. 'IRdisplay'\n",
       "26. 'repr'\n",
       "27. 'base64enc'\n",
       "28. 'graphics'\n",
       "29. 'vctrs'\n",
       "30. 'IRkernel'\n",
       "31. 'glue'\n",
       "32. 'evaluate'\n",
       "33. 'pbdZMQ'\n",
       "34. 'compiler'\n",
       "35. 'pillar'\n",
       "36. 'methods'\n",
       "37. 'jsonlite'\n",
       "38. 'pkgconfig'\n",
       "\n",
       "\n"
      ],
      "text/plain": [
       " [1] \"Rcpp\"      \"hms\"       \"odbc\"      \"grDevices\" \"bit\"       \"uuid\"     \n",
       " [7] \"rlang\"     \"fastmap\"   \"fansi\"     \"blob\"      \"tools\"     \"utils\"    \n",
       "[13] \"utf8\"      \"cli\"       \"DBI\"       \"ellipsis\"  \"htmltools\" \"stats\"    \n",
       "[19] \"datasets\"  \"bit64\"     \"digest\"    \"base\"      \"lifecycle\" \"crayon\"   \n",
       "[25] \"IRdisplay\" \"repr\"      \"base64enc\" \"graphics\"  \"vctrs\"     \"IRkernel\" \n",
       "[31] \"glue\"      \"evaluate\"  \"pbdZMQ\"    \"compiler\"  \"pillar\"    \"methods\"  \n",
       "[37] \"jsonlite\"  \"pkgconfig\""
      ]
     },
     "metadata": {},
     "output_type": "display_data"
    }
   ],
   "source": [
    "loadedNamespaces()"
   ]
  },
  {
   "cell_type": "code",
   "execution_count": 8,
   "id": "bfc060af-3adb-4ecf-a503-ee2fcf25fec8",
   "metadata": {},
   "outputs": [
    {
     "data": {
      "text/html": [
       "TRUE"
      ],
      "text/latex": [
       "TRUE"
      ],
      "text/markdown": [
       "TRUE"
      ],
      "text/plain": [
       "[1] TRUE"
      ]
     },
     "metadata": {},
     "output_type": "display_data"
    }
   ],
   "source": [
    "\"rlang\" %in% loadedNamespaces()"
   ]
  },
  {
   "cell_type": "code",
   "execution_count": 19,
   "id": "2eda29f7-6c6a-4d60-a144-8ec24e7295c2",
   "metadata": {},
   "outputs": [
    {
     "data": {
      "text/html": [
       "<strong>version:</strong> '1.1.4'"
      ],
      "text/latex": [
       "\\textbf{version:} '1.1.4'"
      ],
      "text/markdown": [
       "**version:** '1.1.4'"
      ],
      "text/plain": [
       "version \n",
       "\"1.1.4\" "
      ]
     },
     "metadata": {},
     "output_type": "display_data"
    }
   ],
   "source": [
    "getNamespaceVersion('rlang')"
   ]
  },
  {
   "cell_type": "code",
   "execution_count": 28,
   "id": "9caeed6a-6e7b-40a4-a2ea-eb9f64c3ef3f",
   "metadata": {},
   "outputs": [],
   "source": [
    "#devtools::unload(\"rlang\")"
   ]
  },
  {
   "cell_type": "code",
   "execution_count": 18,
   "id": "d57b6d81-eeae-4656-9560-1837ed621534",
   "metadata": {},
   "outputs": [],
   "source": [
    "#update.packages(oldPkgs = \"rlang\")"
   ]
  },
  {
   "cell_type": "code",
   "execution_count": 29,
   "id": "2483b0e1-7098-49d0-a2d3-e54d3bc292d1",
   "metadata": {},
   "outputs": [
    {
     "data": {
      "text/plain": [
       "[1] ‘1.1.4’"
      ]
     },
     "metadata": {},
     "output_type": "display_data"
    }
   ],
   "source": [
    "#packageVersion(\"rlang\")"
   ]
  },
  {
   "cell_type": "code",
   "execution_count": 25,
   "id": "91bc6606-c0e9-4184-95c5-e3cd442baca2",
   "metadata": {},
   "outputs": [
    {
     "name": "stderr",
     "output_type": "stream",
     "text": [
      "Updating HTML index of packages in '.Library'\n",
      "\n",
      "Making 'packages.html' ...\n",
      " done\n",
      "\n"
     ]
    }
   ],
   "source": [
    "#install.packages(\"odbc\")"
   ]
  },
  {
   "cell_type": "code",
   "execution_count": 22,
   "id": "7fcc6e7a-6d32-4865-a7dc-4a90080a262e",
   "metadata": {},
   "outputs": [
    {
     "name": "stderr",
     "output_type": "stream",
     "text": [
      "also installing the dependencies ‘curl’, ‘cli’, ‘tzdb’, ‘vctrs’, ‘cpp11’, ‘httr’, ‘clock’, ‘gargle’, ‘rapidjsonr’\n",
      "\n",
      "\n",
      "Updating HTML index of packages in '.Library'\n",
      "\n",
      "Making 'packages.html' ...\n",
      " done\n",
      "\n"
     ]
    }
   ],
   "source": [
    "install.packages(\"bigrquery\")"
   ]
  },
  {
   "cell_type": "code",
   "execution_count": 12,
   "id": "6e5e3db4-a441-4307-8749-c9ca1b746f38",
   "metadata": {},
   "outputs": [],
   "source": [
    "library(odbc)"
   ]
  },
  {
   "cell_type": "code",
   "execution_count": 28,
   "id": "f1444df5-8652-4713-a465-96ae2022a9ef",
   "metadata": {},
   "outputs": [
    {
     "name": "stderr",
     "output_type": "stream",
     "text": [
      "\n",
      "Attaching package: ‘dplyr’\n",
      "\n",
      "\n",
      "The following objects are masked from ‘package:stats’:\n",
      "\n",
      "    filter, lag\n",
      "\n",
      "\n",
      "The following objects are masked from ‘package:base’:\n",
      "\n",
      "    intersect, setdiff, setequal, union\n",
      "\n",
      "\n"
     ]
    }
   ],
   "source": [
    "library(dplyr)"
   ]
  },
  {
   "cell_type": "code",
   "execution_count": 11,
   "id": "923c5bd3-c504-426b-af9b-502724bc5b93",
   "metadata": {},
   "outputs": [],
   "source": [
    "library(odbc)"
   ]
  },
  {
   "cell_type": "code",
   "execution_count": 25,
   "id": "7e7b3e53-9083-4baa-8282-ba03b920ffaa",
   "metadata": {},
   "outputs": [],
   "source": [
    "library(DBI)"
   ]
  },
  {
   "cell_type": "code",
   "execution_count": 31,
   "id": "42521df4-9453-4f5a-b9a6-d6ead02313d7",
   "metadata": {},
   "outputs": [],
   "source": [
    "con <- dbConnect(\n",
    "  bigrquery::bigquery(),\n",
    "  project = \"cal-itp-data-infra\" ,\n",
    "  dataset = \"mart_gtfs\" #,\n",
    "#  billing = \"billing\"\n",
    "  )"
   ]
  },
  {
   "cell_type": "code",
   "execution_count": 32,
   "id": "318215b7-e3b2-46df-bcbe-655d24d9e476",
   "metadata": {},
   "outputs": [
    {
     "data": {
      "text/html": [
       "<style>\n",
       ".list-inline {list-style: none; margin:0; padding: 0}\n",
       ".list-inline>li {display: inline-block}\n",
       ".list-inline>li:not(:last-child)::after {content: \"\\00b7\"; padding: 0 .5ex}\n",
       "</style>\n",
       "<ol class=list-inline><li>'dim_agency'</li><li>'dim_areas'</li><li>'dim_attributions'</li><li>'dim_calendar'</li><li>'dim_calendar_dates'</li><li>'dim_fare_attributes'</li><li>'dim_fare_leg_rules'</li><li>'dim_fare_media'</li><li>'dim_fare_products'</li><li>'dim_fare_rules'</li><li>'dim_fare_transfer_rules'</li><li>'dim_feed_info'</li><li>'dim_frequencies'</li><li>'dim_levels'</li><li>'dim_pathways'</li><li>'dim_routes'</li><li>'dim_schedule_feeds'</li><li>'dim_shapes'</li><li>'dim_shapes_arrays'</li><li>'dim_stop_areas'</li><li>'dim_stop_times'</li><li>'dim_stops'</li><li>'dim_transfers'</li><li>'dim_translations'</li><li>'dim_trips'</li><li>'fct_daily_feed_scheduled_service_summary'</li><li>'fct_daily_rt_feed_files'</li><li>'fct_daily_schedule_feeds'</li><li>'fct_daily_scheduled_shapes'</li><li>'fct_daily_scheduled_stops'</li><li>'fct_daily_service_alerts'</li><li>'fct_hourly_rt_feed_files'</li><li>'fct_hourly_rt_feed_files_success'</li><li>'fct_monthly_route_service_by_timeofday'</li><li>'fct_monthly_routes'</li><li>'fct_observed_trips'</li><li>'fct_schedule_feed_downloads'</li><li>'fct_scheduled_trips'</li><li>'fct_service_alerts_messages'</li><li>'fct_service_alerts_messages_unnested'</li><li>'fct_service_alerts_trip_summaries'</li><li>'fct_stop_time_updates'</li><li>'fct_trip_updates_messages'</li><li>'fct_trip_updates_no_stop_times'</li><li>'fct_trip_updates_summaries'</li><li>'fct_vehicle_locations'</li><li>'fct_vehicle_positions_messages'</li><li>'fct_vehicle_positions_trip_summaries'</li></ol>\n"
      ],
      "text/latex": [
       "\\begin{enumerate*}\n",
       "\\item 'dim\\_agency'\n",
       "\\item 'dim\\_areas'\n",
       "\\item 'dim\\_attributions'\n",
       "\\item 'dim\\_calendar'\n",
       "\\item 'dim\\_calendar\\_dates'\n",
       "\\item 'dim\\_fare\\_attributes'\n",
       "\\item 'dim\\_fare\\_leg\\_rules'\n",
       "\\item 'dim\\_fare\\_media'\n",
       "\\item 'dim\\_fare\\_products'\n",
       "\\item 'dim\\_fare\\_rules'\n",
       "\\item 'dim\\_fare\\_transfer\\_rules'\n",
       "\\item 'dim\\_feed\\_info'\n",
       "\\item 'dim\\_frequencies'\n",
       "\\item 'dim\\_levels'\n",
       "\\item 'dim\\_pathways'\n",
       "\\item 'dim\\_routes'\n",
       "\\item 'dim\\_schedule\\_feeds'\n",
       "\\item 'dim\\_shapes'\n",
       "\\item 'dim\\_shapes\\_arrays'\n",
       "\\item 'dim\\_stop\\_areas'\n",
       "\\item 'dim\\_stop\\_times'\n",
       "\\item 'dim\\_stops'\n",
       "\\item 'dim\\_transfers'\n",
       "\\item 'dim\\_translations'\n",
       "\\item 'dim\\_trips'\n",
       "\\item 'fct\\_daily\\_feed\\_scheduled\\_service\\_summary'\n",
       "\\item 'fct\\_daily\\_rt\\_feed\\_files'\n",
       "\\item 'fct\\_daily\\_schedule\\_feeds'\n",
       "\\item 'fct\\_daily\\_scheduled\\_shapes'\n",
       "\\item 'fct\\_daily\\_scheduled\\_stops'\n",
       "\\item 'fct\\_daily\\_service\\_alerts'\n",
       "\\item 'fct\\_hourly\\_rt\\_feed\\_files'\n",
       "\\item 'fct\\_hourly\\_rt\\_feed\\_files\\_success'\n",
       "\\item 'fct\\_monthly\\_route\\_service\\_by\\_timeofday'\n",
       "\\item 'fct\\_monthly\\_routes'\n",
       "\\item 'fct\\_observed\\_trips'\n",
       "\\item 'fct\\_schedule\\_feed\\_downloads'\n",
       "\\item 'fct\\_scheduled\\_trips'\n",
       "\\item 'fct\\_service\\_alerts\\_messages'\n",
       "\\item 'fct\\_service\\_alerts\\_messages\\_unnested'\n",
       "\\item 'fct\\_service\\_alerts\\_trip\\_summaries'\n",
       "\\item 'fct\\_stop\\_time\\_updates'\n",
       "\\item 'fct\\_trip\\_updates\\_messages'\n",
       "\\item 'fct\\_trip\\_updates\\_no\\_stop\\_times'\n",
       "\\item 'fct\\_trip\\_updates\\_summaries'\n",
       "\\item 'fct\\_vehicle\\_locations'\n",
       "\\item 'fct\\_vehicle\\_positions\\_messages'\n",
       "\\item 'fct\\_vehicle\\_positions\\_trip\\_summaries'\n",
       "\\end{enumerate*}\n"
      ],
      "text/markdown": [
       "1. 'dim_agency'\n",
       "2. 'dim_areas'\n",
       "3. 'dim_attributions'\n",
       "4. 'dim_calendar'\n",
       "5. 'dim_calendar_dates'\n",
       "6. 'dim_fare_attributes'\n",
       "7. 'dim_fare_leg_rules'\n",
       "8. 'dim_fare_media'\n",
       "9. 'dim_fare_products'\n",
       "10. 'dim_fare_rules'\n",
       "11. 'dim_fare_transfer_rules'\n",
       "12. 'dim_feed_info'\n",
       "13. 'dim_frequencies'\n",
       "14. 'dim_levels'\n",
       "15. 'dim_pathways'\n",
       "16. 'dim_routes'\n",
       "17. 'dim_schedule_feeds'\n",
       "18. 'dim_shapes'\n",
       "19. 'dim_shapes_arrays'\n",
       "20. 'dim_stop_areas'\n",
       "21. 'dim_stop_times'\n",
       "22. 'dim_stops'\n",
       "23. 'dim_transfers'\n",
       "24. 'dim_translations'\n",
       "25. 'dim_trips'\n",
       "26. 'fct_daily_feed_scheduled_service_summary'\n",
       "27. 'fct_daily_rt_feed_files'\n",
       "28. 'fct_daily_schedule_feeds'\n",
       "29. 'fct_daily_scheduled_shapes'\n",
       "30. 'fct_daily_scheduled_stops'\n",
       "31. 'fct_daily_service_alerts'\n",
       "32. 'fct_hourly_rt_feed_files'\n",
       "33. 'fct_hourly_rt_feed_files_success'\n",
       "34. 'fct_monthly_route_service_by_timeofday'\n",
       "35. 'fct_monthly_routes'\n",
       "36. 'fct_observed_trips'\n",
       "37. 'fct_schedule_feed_downloads'\n",
       "38. 'fct_scheduled_trips'\n",
       "39. 'fct_service_alerts_messages'\n",
       "40. 'fct_service_alerts_messages_unnested'\n",
       "41. 'fct_service_alerts_trip_summaries'\n",
       "42. 'fct_stop_time_updates'\n",
       "43. 'fct_trip_updates_messages'\n",
       "44. 'fct_trip_updates_no_stop_times'\n",
       "45. 'fct_trip_updates_summaries'\n",
       "46. 'fct_vehicle_locations'\n",
       "47. 'fct_vehicle_positions_messages'\n",
       "48. 'fct_vehicle_positions_trip_summaries'\n",
       "\n",
       "\n"
      ],
      "text/plain": [
       " [1] \"dim_agency\"                              \n",
       " [2] \"dim_areas\"                               \n",
       " [3] \"dim_attributions\"                        \n",
       " [4] \"dim_calendar\"                            \n",
       " [5] \"dim_calendar_dates\"                      \n",
       " [6] \"dim_fare_attributes\"                     \n",
       " [7] \"dim_fare_leg_rules\"                      \n",
       " [8] \"dim_fare_media\"                          \n",
       " [9] \"dim_fare_products\"                       \n",
       "[10] \"dim_fare_rules\"                          \n",
       "[11] \"dim_fare_transfer_rules\"                 \n",
       "[12] \"dim_feed_info\"                           \n",
       "[13] \"dim_frequencies\"                         \n",
       "[14] \"dim_levels\"                              \n",
       "[15] \"dim_pathways\"                            \n",
       "[16] \"dim_routes\"                              \n",
       "[17] \"dim_schedule_feeds\"                      \n",
       "[18] \"dim_shapes\"                              \n",
       "[19] \"dim_shapes_arrays\"                       \n",
       "[20] \"dim_stop_areas\"                          \n",
       "[21] \"dim_stop_times\"                          \n",
       "[22] \"dim_stops\"                               \n",
       "[23] \"dim_transfers\"                           \n",
       "[24] \"dim_translations\"                        \n",
       "[25] \"dim_trips\"                               \n",
       "[26] \"fct_daily_feed_scheduled_service_summary\"\n",
       "[27] \"fct_daily_rt_feed_files\"                 \n",
       "[28] \"fct_daily_schedule_feeds\"                \n",
       "[29] \"fct_daily_scheduled_shapes\"              \n",
       "[30] \"fct_daily_scheduled_stops\"               \n",
       "[31] \"fct_daily_service_alerts\"                \n",
       "[32] \"fct_hourly_rt_feed_files\"                \n",
       "[33] \"fct_hourly_rt_feed_files_success\"        \n",
       "[34] \"fct_monthly_route_service_by_timeofday\"  \n",
       "[35] \"fct_monthly_routes\"                      \n",
       "[36] \"fct_observed_trips\"                      \n",
       "[37] \"fct_schedule_feed_downloads\"             \n",
       "[38] \"fct_scheduled_trips\"                     \n",
       "[39] \"fct_service_alerts_messages\"             \n",
       "[40] \"fct_service_alerts_messages_unnested\"    \n",
       "[41] \"fct_service_alerts_trip_summaries\"       \n",
       "[42] \"fct_stop_time_updates\"                   \n",
       "[43] \"fct_trip_updates_messages\"               \n",
       "[44] \"fct_trip_updates_no_stop_times\"          \n",
       "[45] \"fct_trip_updates_summaries\"              \n",
       "[46] \"fct_vehicle_locations\"                   \n",
       "[47] \"fct_vehicle_positions_messages\"          \n",
       "[48] \"fct_vehicle_positions_trip_summaries\"    "
      ]
     },
     "metadata": {},
     "output_type": "display_data"
    }
   ],
   "source": [
    "dbListTables(con)"
   ]
  },
  {
   "cell_type": "code",
   "execution_count": 33,
   "id": "2e019ce6-0f68-4ca6-8db2-d0839b205812",
   "metadata": {},
   "outputs": [],
   "source": [
    "query=\"SELECT \n",
    "        id, round(avg(_vehicle_message_age)) as Vehicle_Message_Age_Average, \n",
    "        min(_vehicle_message_age) as Vehicle_Message_Age_Minimum, \n",
    "        max(_vehicle_message_age) as Vehicle_Message_Age_Maximum, \n",
    "FROM `cal-itp-data-infra.mart_gtfs.fct_vehicle_positions_messages` \n",
    "where dt = '2024-06-01'\n",
    "and base64_url = 'aHR0cHM6Ly9pbmZvcG9pbnQuc3VubGluZS5vcmcvSW5mb1BvaW50L0dURlMtUmVhbHRpbWUuYXNoeD9UeXBlPVZlaGljbGVQb3NpdGlvbg=='\n",
    "group by id\n",
    "order by id\n",
    "\""
   ]
  },
  {
   "cell_type": "code",
   "execution_count": 34,
   "id": "8907b4b3-a4a3-415b-a12e-1340966aec26",
   "metadata": {},
   "outputs": [
    {
     "data": {
      "text/html": [
       "<table class=\"dataframe\">\n",
       "<caption>A tibble: 10 × 4</caption>\n",
       "<thead>\n",
       "\t<tr><th scope=col>id</th><th scope=col>Vehicle_Message_Age_Average</th><th scope=col>Vehicle_Message_Age_Minimum</th><th scope=col>Vehicle_Message_Age_Maximum</th></tr>\n",
       "\t<tr><th scope=col>&lt;chr&gt;</th><th scope=col>&lt;dbl&gt;</th><th scope=col>&lt;int&gt;</th><th scope=col>&lt;int&gt;</th></tr>\n",
       "</thead>\n",
       "<tbody>\n",
       "\t<tr><td>1007</td><td> 19</td><td>-1</td><td>125</td></tr>\n",
       "\t<tr><td>1009</td><td> 47</td><td> 2</td><td>593</td></tr>\n",
       "\t<tr><td>107 </td><td> 21</td><td>13</td><td> 33</td></tr>\n",
       "\t<tr><td>576 </td><td> 21</td><td> 3</td><td> 72</td></tr>\n",
       "\t<tr><td>584 </td><td> 20</td><td> 4</td><td> 40</td></tr>\n",
       "\t<tr><td>586 </td><td> 21</td><td> 2</td><td> 77</td></tr>\n",
       "\t<tr><td>588 </td><td> 21</td><td> 2</td><td> 70</td></tr>\n",
       "\t<tr><td>594 </td><td>170</td><td> 1</td><td>598</td></tr>\n",
       "\t<tr><td>601 </td><td> 21</td><td> 2</td><td> 80</td></tr>\n",
       "\t<tr><td>603 </td><td> 22</td><td> 2</td><td>384</td></tr>\n",
       "</tbody>\n",
       "</table>\n"
      ],
      "text/latex": [
       "A tibble: 10 × 4\n",
       "\\begin{tabular}{llll}\n",
       " id & Vehicle\\_Message\\_Age\\_Average & Vehicle\\_Message\\_Age\\_Minimum & Vehicle\\_Message\\_Age\\_Maximum\\\\\n",
       " <chr> & <dbl> & <int> & <int>\\\\\n",
       "\\hline\n",
       "\t 1007 &  19 & -1 & 125\\\\\n",
       "\t 1009 &  47 &  2 & 593\\\\\n",
       "\t 107  &  21 & 13 &  33\\\\\n",
       "\t 576  &  21 &  3 &  72\\\\\n",
       "\t 584  &  20 &  4 &  40\\\\\n",
       "\t 586  &  21 &  2 &  77\\\\\n",
       "\t 588  &  21 &  2 &  70\\\\\n",
       "\t 594  & 170 &  1 & 598\\\\\n",
       "\t 601  &  21 &  2 &  80\\\\\n",
       "\t 603  &  22 &  2 & 384\\\\\n",
       "\\end{tabular}\n"
      ],
      "text/markdown": [
       "\n",
       "A tibble: 10 × 4\n",
       "\n",
       "| id &lt;chr&gt; | Vehicle_Message_Age_Average &lt;dbl&gt; | Vehicle_Message_Age_Minimum &lt;int&gt; | Vehicle_Message_Age_Maximum &lt;int&gt; |\n",
       "|---|---|---|---|\n",
       "| 1007 |  19 | -1 | 125 |\n",
       "| 1009 |  47 |  2 | 593 |\n",
       "| 107  |  21 | 13 |  33 |\n",
       "| 576  |  21 |  3 |  72 |\n",
       "| 584  |  20 |  4 |  40 |\n",
       "| 586  |  21 |  2 |  77 |\n",
       "| 588  |  21 |  2 |  70 |\n",
       "| 594  | 170 |  1 | 598 |\n",
       "| 601  |  21 |  2 |  80 |\n",
       "| 603  |  22 |  2 | 384 |\n",
       "\n"
      ],
      "text/plain": [
       "   id   Vehicle_Message_Age_Average Vehicle_Message_Age_Minimum\n",
       "1  1007  19                         -1                         \n",
       "2  1009  47                          2                         \n",
       "3  107   21                         13                         \n",
       "4  576   21                          3                         \n",
       "5  584   20                          4                         \n",
       "6  586   21                          2                         \n",
       "7  588   21                          2                         \n",
       "8  594  170                          1                         \n",
       "9  601   21                          2                         \n",
       "10 603   22                          2                         \n",
       "   Vehicle_Message_Age_Maximum\n",
       "1  125                        \n",
       "2  593                        \n",
       "3   33                        \n",
       "4   72                        \n",
       "5   40                        \n",
       "6   77                        \n",
       "7   70                        \n",
       "8  598                        \n",
       "9   80                        \n",
       "10 384                        "
      ]
     },
     "metadata": {},
     "output_type": "display_data"
    }
   ],
   "source": [
    "dbGetQuery(con, query, n = 10)"
   ]
  },
  {
   "cell_type": "code",
   "execution_count": 35,
   "id": "5c54806f-c80f-4f0f-ac3a-8da0da88de62",
   "metadata": {},
   "outputs": [],
   "source": [
    "vehicles_stat = tbl(con, 'fct_vehicle_positions_messages')"
   ]
  },
  {
   "cell_type": "code",
   "execution_count": 36,
   "id": "c03b72e7-b5cd-4ae9-896f-7bf82c860a7e",
   "metadata": {},
   "outputs": [
    {
     "name": "stdout",
     "output_type": "stream",
     "text": [
      "<SQL>\n",
      "\u001b[34mSELECT\u001b[39m *\n",
      "\u001b[34mFROM\u001b[39m `fct_vehicle_positions_messages`\n"
     ]
    }
   ],
   "source": [
    "show_query(vehicles_stat)"
   ]
  },
  {
   "cell_type": "code",
   "execution_count": 37,
   "id": "8b8330b0-83e4-403d-9a70-e3b109fde86c",
   "metadata": {},
   "outputs": [],
   "source": [
    "#glimpse(vehicles_stat)"
   ]
  },
  {
   "cell_type": "code",
   "execution_count": 38,
   "id": "19ca9eb6-d5ed-4c96-a385-c8c9beae52cb",
   "metadata": {},
   "outputs": [
    {
     "data": {
      "text/plain": [
       "           Length Class                  Mode\n",
       "src        2      src_BigQueryConnection list\n",
       "lazy_query 6      lazy_base_remote_query list"
      ]
     },
     "metadata": {},
     "output_type": "display_data"
    }
   ],
   "source": [
    "summary(vehicles_stat)"
   ]
  },
  {
   "cell_type": "code",
   "execution_count": 40,
   "id": "6c95c7d2-a617-4445-92d2-b967372e09d0",
   "metadata": {},
   "outputs": [],
   "source": [
    "vs = vehicles_stat %>% \n",
    "    filter(base64_url == 'aHR0cHM6Ly9pbmZvcG9pbnQuc3VubGluZS5vcmcvSW5mb1BvaW50L0dURlMtUmVhbHRpbWUuYXNoeD9UeXBlPVZlaGljbGVQb3NpdGlvbg==',\n",
    "           dt == '2024-06-01') %>%\n",
    "    group_by(id) %>%\n",
    "    summarize(Vehicle_Message_Age_Average = round(mean(`_vehicle_message_age`, na.rm = TRUE)),\n",
    "              Vehicle_Message_Age_Minimum = round(min(`_vehicle_message_age`, na.rm = TRUE)),\n",
    "              Vehicle_Message_Age_Maximum = round(max(`_vehicle_message_age`, na.rm = TRUE))\n",
    "             ) %>%\n",
    "    arrange(id) %>%\n",
    "    collect()\n",
    "\n"
   ]
  },
  {
   "cell_type": "code",
   "execution_count": 41,
   "id": "c995a9f4-d52a-444d-a35a-3df755a088bd",
   "metadata": {},
   "outputs": [
    {
     "data": {
      "text/html": [
       "<table class=\"dataframe\">\n",
       "<caption>A tibble: 38 × 4</caption>\n",
       "<thead>\n",
       "\t<tr><th scope=col>id</th><th scope=col>Vehicle_Message_Age_Average</th><th scope=col>Vehicle_Message_Age_Minimum</th><th scope=col>Vehicle_Message_Age_Maximum</th></tr>\n",
       "\t<tr><th scope=col>&lt;chr&gt;</th><th scope=col>&lt;dbl&gt;</th><th scope=col>&lt;dbl&gt;</th><th scope=col>&lt;dbl&gt;</th></tr>\n",
       "</thead>\n",
       "<tbody>\n",
       "\t<tr><td>1007</td><td> 19</td><td>-1</td><td>125</td></tr>\n",
       "\t<tr><td>1009</td><td> 47</td><td> 2</td><td>593</td></tr>\n",
       "\t<tr><td>107 </td><td> 21</td><td>13</td><td> 33</td></tr>\n",
       "\t<tr><td>576 </td><td> 21</td><td> 3</td><td> 72</td></tr>\n",
       "\t<tr><td>584 </td><td> 20</td><td> 4</td><td> 40</td></tr>\n",
       "\t<tr><td>586 </td><td> 21</td><td> 2</td><td> 77</td></tr>\n",
       "\t<tr><td>588 </td><td> 21</td><td> 2</td><td> 70</td></tr>\n",
       "\t<tr><td>594 </td><td>170</td><td> 1</td><td>598</td></tr>\n",
       "\t<tr><td>601 </td><td> 21</td><td> 2</td><td> 80</td></tr>\n",
       "\t<tr><td>603 </td><td> 22</td><td> 2</td><td>384</td></tr>\n",
       "\t<tr><td>606 </td><td> 22</td><td> 1</td><td> 80</td></tr>\n",
       "\t<tr><td>607 </td><td> 21</td><td> 2</td><td> 78</td></tr>\n",
       "\t<tr><td>608 </td><td> 21</td><td> 2</td><td> 68</td></tr>\n",
       "\t<tr><td>609 </td><td> 21</td><td> 2</td><td> 76</td></tr>\n",
       "\t<tr><td>610 </td><td> 21</td><td> 1</td><td> 78</td></tr>\n",
       "\t<tr><td>611 </td><td> 22</td><td> 3</td><td> 71</td></tr>\n",
       "\t<tr><td>612 </td><td> 21</td><td> 2</td><td> 80</td></tr>\n",
       "\t<tr><td>613 </td><td> 22</td><td> 0</td><td>252</td></tr>\n",
       "\t<tr><td>614 </td><td> 22</td><td> 2</td><td> 87</td></tr>\n",
       "\t<tr><td>617 </td><td> 22</td><td> 1</td><td> 79</td></tr>\n",
       "\t<tr><td>619 </td><td> 22</td><td> 1</td><td>237</td></tr>\n",
       "\t<tr><td>621 </td><td> 22</td><td> 1</td><td>244</td></tr>\n",
       "\t<tr><td>622 </td><td> 23</td><td> 2</td><td>479</td></tr>\n",
       "\t<tr><td>623 </td><td> 21</td><td>-1</td><td> 75</td></tr>\n",
       "\t<tr><td>626 </td><td> 26</td><td> 1</td><td>583</td></tr>\n",
       "\t<tr><td>627 </td><td> 39</td><td>-1</td><td>596</td></tr>\n",
       "\t<tr><td>628 </td><td> 20</td><td>-1</td><td>124</td></tr>\n",
       "\t<tr><td>630 </td><td> 20</td><td> 0</td><td> 71</td></tr>\n",
       "\t<tr><td>631 </td><td> 22</td><td> 0</td><td>191</td></tr>\n",
       "\t<tr><td>632 </td><td> 21</td><td> 0</td><td>182</td></tr>\n",
       "\t<tr><td>634 </td><td> 20</td><td> 0</td><td> 58</td></tr>\n",
       "\t<tr><td>635 </td><td> 20</td><td> 0</td><td> 94</td></tr>\n",
       "\t<tr><td>637 </td><td> 19</td><td> 1</td><td> 56</td></tr>\n",
       "\t<tr><td>717 </td><td> 21</td><td> 2</td><td> 42</td></tr>\n",
       "\t<tr><td>917 </td><td> 20</td><td> 0</td><td> 40</td></tr>\n",
       "\t<tr><td>925 </td><td> 19</td><td> 2</td><td> 54</td></tr>\n",
       "\t<tr><td>926 </td><td> 20</td><td> 0</td><td> 58</td></tr>\n",
       "\t<tr><td>927 </td><td> 19</td><td> 2</td><td> 56</td></tr>\n",
       "</tbody>\n",
       "</table>\n"
      ],
      "text/latex": [
       "A tibble: 38 × 4\n",
       "\\begin{tabular}{llll}\n",
       " id & Vehicle\\_Message\\_Age\\_Average & Vehicle\\_Message\\_Age\\_Minimum & Vehicle\\_Message\\_Age\\_Maximum\\\\\n",
       " <chr> & <dbl> & <dbl> & <dbl>\\\\\n",
       "\\hline\n",
       "\t 1007 &  19 & -1 & 125\\\\\n",
       "\t 1009 &  47 &  2 & 593\\\\\n",
       "\t 107  &  21 & 13 &  33\\\\\n",
       "\t 576  &  21 &  3 &  72\\\\\n",
       "\t 584  &  20 &  4 &  40\\\\\n",
       "\t 586  &  21 &  2 &  77\\\\\n",
       "\t 588  &  21 &  2 &  70\\\\\n",
       "\t 594  & 170 &  1 & 598\\\\\n",
       "\t 601  &  21 &  2 &  80\\\\\n",
       "\t 603  &  22 &  2 & 384\\\\\n",
       "\t 606  &  22 &  1 &  80\\\\\n",
       "\t 607  &  21 &  2 &  78\\\\\n",
       "\t 608  &  21 &  2 &  68\\\\\n",
       "\t 609  &  21 &  2 &  76\\\\\n",
       "\t 610  &  21 &  1 &  78\\\\\n",
       "\t 611  &  22 &  3 &  71\\\\\n",
       "\t 612  &  21 &  2 &  80\\\\\n",
       "\t 613  &  22 &  0 & 252\\\\\n",
       "\t 614  &  22 &  2 &  87\\\\\n",
       "\t 617  &  22 &  1 &  79\\\\\n",
       "\t 619  &  22 &  1 & 237\\\\\n",
       "\t 621  &  22 &  1 & 244\\\\\n",
       "\t 622  &  23 &  2 & 479\\\\\n",
       "\t 623  &  21 & -1 &  75\\\\\n",
       "\t 626  &  26 &  1 & 583\\\\\n",
       "\t 627  &  39 & -1 & 596\\\\\n",
       "\t 628  &  20 & -1 & 124\\\\\n",
       "\t 630  &  20 &  0 &  71\\\\\n",
       "\t 631  &  22 &  0 & 191\\\\\n",
       "\t 632  &  21 &  0 & 182\\\\\n",
       "\t 634  &  20 &  0 &  58\\\\\n",
       "\t 635  &  20 &  0 &  94\\\\\n",
       "\t 637  &  19 &  1 &  56\\\\\n",
       "\t 717  &  21 &  2 &  42\\\\\n",
       "\t 917  &  20 &  0 &  40\\\\\n",
       "\t 925  &  19 &  2 &  54\\\\\n",
       "\t 926  &  20 &  0 &  58\\\\\n",
       "\t 927  &  19 &  2 &  56\\\\\n",
       "\\end{tabular}\n"
      ],
      "text/markdown": [
       "\n",
       "A tibble: 38 × 4\n",
       "\n",
       "| id &lt;chr&gt; | Vehicle_Message_Age_Average &lt;dbl&gt; | Vehicle_Message_Age_Minimum &lt;dbl&gt; | Vehicle_Message_Age_Maximum &lt;dbl&gt; |\n",
       "|---|---|---|---|\n",
       "| 1007 |  19 | -1 | 125 |\n",
       "| 1009 |  47 |  2 | 593 |\n",
       "| 107  |  21 | 13 |  33 |\n",
       "| 576  |  21 |  3 |  72 |\n",
       "| 584  |  20 |  4 |  40 |\n",
       "| 586  |  21 |  2 |  77 |\n",
       "| 588  |  21 |  2 |  70 |\n",
       "| 594  | 170 |  1 | 598 |\n",
       "| 601  |  21 |  2 |  80 |\n",
       "| 603  |  22 |  2 | 384 |\n",
       "| 606  |  22 |  1 |  80 |\n",
       "| 607  |  21 |  2 |  78 |\n",
       "| 608  |  21 |  2 |  68 |\n",
       "| 609  |  21 |  2 |  76 |\n",
       "| 610  |  21 |  1 |  78 |\n",
       "| 611  |  22 |  3 |  71 |\n",
       "| 612  |  21 |  2 |  80 |\n",
       "| 613  |  22 |  0 | 252 |\n",
       "| 614  |  22 |  2 |  87 |\n",
       "| 617  |  22 |  1 |  79 |\n",
       "| 619  |  22 |  1 | 237 |\n",
       "| 621  |  22 |  1 | 244 |\n",
       "| 622  |  23 |  2 | 479 |\n",
       "| 623  |  21 | -1 |  75 |\n",
       "| 626  |  26 |  1 | 583 |\n",
       "| 627  |  39 | -1 | 596 |\n",
       "| 628  |  20 | -1 | 124 |\n",
       "| 630  |  20 |  0 |  71 |\n",
       "| 631  |  22 |  0 | 191 |\n",
       "| 632  |  21 |  0 | 182 |\n",
       "| 634  |  20 |  0 |  58 |\n",
       "| 635  |  20 |  0 |  94 |\n",
       "| 637  |  19 |  1 |  56 |\n",
       "| 717  |  21 |  2 |  42 |\n",
       "| 917  |  20 |  0 |  40 |\n",
       "| 925  |  19 |  2 |  54 |\n",
       "| 926  |  20 |  0 |  58 |\n",
       "| 927  |  19 |  2 |  56 |\n",
       "\n"
      ],
      "text/plain": [
       "   id   Vehicle_Message_Age_Average Vehicle_Message_Age_Minimum\n",
       "1  1007  19                         -1                         \n",
       "2  1009  47                          2                         \n",
       "3  107   21                         13                         \n",
       "4  576   21                          3                         \n",
       "5  584   20                          4                         \n",
       "6  586   21                          2                         \n",
       "7  588   21                          2                         \n",
       "8  594  170                          1                         \n",
       "9  601   21                          2                         \n",
       "10 603   22                          2                         \n",
       "11 606   22                          1                         \n",
       "12 607   21                          2                         \n",
       "13 608   21                          2                         \n",
       "14 609   21                          2                         \n",
       "15 610   21                          1                         \n",
       "16 611   22                          3                         \n",
       "17 612   21                          2                         \n",
       "18 613   22                          0                         \n",
       "19 614   22                          2                         \n",
       "20 617   22                          1                         \n",
       "21 619   22                          1                         \n",
       "22 621   22                          1                         \n",
       "23 622   23                          2                         \n",
       "24 623   21                         -1                         \n",
       "25 626   26                          1                         \n",
       "26 627   39                         -1                         \n",
       "27 628   20                         -1                         \n",
       "28 630   20                          0                         \n",
       "29 631   22                          0                         \n",
       "30 632   21                          0                         \n",
       "31 634   20                          0                         \n",
       "32 635   20                          0                         \n",
       "33 637   19                          1                         \n",
       "34 717   21                          2                         \n",
       "35 917   20                          0                         \n",
       "36 925   19                          2                         \n",
       "37 926   20                          0                         \n",
       "38 927   19                          2                         \n",
       "   Vehicle_Message_Age_Maximum\n",
       "1  125                        \n",
       "2  593                        \n",
       "3   33                        \n",
       "4   72                        \n",
       "5   40                        \n",
       "6   77                        \n",
       "7   70                        \n",
       "8  598                        \n",
       "9   80                        \n",
       "10 384                        \n",
       "11  80                        \n",
       "12  78                        \n",
       "13  68                        \n",
       "14  76                        \n",
       "15  78                        \n",
       "16  71                        \n",
       "17  80                        \n",
       "18 252                        \n",
       "19  87                        \n",
       "20  79                        \n",
       "21 237                        \n",
       "22 244                        \n",
       "23 479                        \n",
       "24  75                        \n",
       "25 583                        \n",
       "26 596                        \n",
       "27 124                        \n",
       "28  71                        \n",
       "29 191                        \n",
       "30 182                        \n",
       "31  58                        \n",
       "32  94                        \n",
       "33  56                        \n",
       "34  42                        \n",
       "35  40                        \n",
       "36  54                        \n",
       "37  58                        \n",
       "38  56                        "
      ]
     },
     "metadata": {},
     "output_type": "display_data"
    }
   ],
   "source": [
    "vs"
   ]
  },
  {
   "cell_type": "code",
   "execution_count": 1,
   "id": "96a48abe-0bc4-4b97-8da4-dc45b351ffe0",
   "metadata": {},
   "outputs": [],
   "source": [
    "query1 = \"with cte1 as(\n",
    "  select distinct gtfs_dataset_key\n",
    "  from `cal-itp-data-infra.mart_transit_database.dim_gtfs_service_data`\n",
    "  where _is_current is true\n",
    "  and customer_facing is true\n",
    ")\n",
    "SELECT *\n",
    "from `cal-itp-data-infra.mart_gtfs.fct_vehicle_positions_messages` vpm\n",
    "inner join cte1 c1\n",
    "on vpm.gtfs_dataset_key = c1.gtfs_dataset_key\n",
    "and gtfs_dataset_name not like 'Bay Area 511%'\n",
    "and dt = '2024-06-11'\n",
    "and trip_id is not null\n",
    "\""
   ]
  },
  {
   "cell_type": "code",
   "execution_count": 2,
   "id": "3e8384fa-d44c-46b4-9d39-110ef55020dc",
   "metadata": {},
   "outputs": [
    {
     "ename": "ERROR",
     "evalue": "Error in dbGetQuery(con, query1): could not find function \"dbGetQuery\"\n",
     "output_type": "error",
     "traceback": [
      "Error in dbGetQuery(con, query1): could not find function \"dbGetQuery\"\nTraceback:\n"
     ]
    }
   ],
   "source": [
    "t1 = dbGetQuery(con, query1)"
   ]
  },
  {
   "cell_type": "code",
   "execution_count": null,
   "id": "927c87ff-29d5-4071-9ef9-0a41bbd58d3a",
   "metadata": {},
   "outputs": [],
   "source": []
  },
  {
   "cell_type": "code",
   "execution_count": null,
   "id": "564eef4f-3a34-47b1-8033-12671150fed5",
   "metadata": {},
   "outputs": [],
   "source": []
  },
  {
   "cell_type": "code",
   "execution_count": null,
   "id": "286d2a71-4872-47a4-adcf-e62cd2b7cbff",
   "metadata": {},
   "outputs": [],
   "source": []
  }
 ],
 "metadata": {
  "kernelspec": {
   "display_name": "R",
   "language": "R",
   "name": "ir"
  },
  "language_info": {
   "codemirror_mode": "r",
   "file_extension": ".r",
   "mimetype": "text/x-r-source",
   "name": "R",
   "pygments_lexer": "r",
   "version": "4.1.3"
  }
 },
 "nbformat": 4,
 "nbformat_minor": 5
}
