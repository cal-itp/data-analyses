{
 "cells": [
  {
   "cell_type": "code",
   "execution_count": 1,
   "id": "ff67558c-867f-45d0-94fd-ea6c75f56a61",
   "metadata": {},
   "outputs": [],
   "source": [
    "import geopandas as gpd\n",
    "import pandas as pd\n",
    "\n",
    "# Hint: if this doesn't import: refer to docs for correctly import\n",
    "# cd into _shared_utils folder, run the make setup_env command"
   ]
  },
  {
   "cell_type": "code",
   "execution_count": 2,
   "id": "403c09a4-a798-4bf6-a46c-502517d632e9",
   "metadata": {},
   "outputs": [],
   "source": [
    "my_gdf = pd.read_csv('gs://calitp-analytics-data/data-analyses/csuyat_folder/stops_caltrain_merced.csv')"
   ]
  },
  {
   "cell_type": "code",
   "execution_count": 3,
   "id": "3154ca2e-0845-44c0-be95-377cd979eb93",
   "metadata": {},
   "outputs": [],
   "source": [
    "my_gdf2 = my_gdf.head()"
   ]
  },
  {
   "cell_type": "code",
   "execution_count": 6,
   "id": "3160ecf0-3c52-4e70-99e2-34f6ce9f8905",
   "metadata": {},
   "outputs": [],
   "source": [
    "from calitp_data_analysis import geography_utils, utils"
   ]
  },
  {
   "cell_type": "code",
   "execution_count": 5,
   "id": "e0f92cce-cd64-414e-95d9-7e223434040a",
   "metadata": {},
   "outputs": [],
   "source": [
    "stops_ptg = geography_utils.create_point_geometry(\n",
    "    my_gdf2,\n",
    "    'stop_lon',\n",
    "    'stop_lat',\n",
    "    crs = 'EPSG:2229'\n",
    ")"
   ]
  },
  {
   "cell_type": "code",
   "execution_count": 10,
   "id": "f4e0d3a3-ad9d-47f7-a36a-b179c83f81af",
   "metadata": {},
   "outputs": [],
   "source": [
    "utils.geojson_gcs_export(\n",
    "    stops_ptg,\n",
    "    'gs://calitp-analytics-data/data-analyses/project_list',\n",
    "    \"my-testgeojson.geojson\",\n",
    "    geojson_type = \"geojson\",\n",
    ")"
   ]
  }
 ],
 "metadata": {
  "kernelspec": {
   "display_name": "Python 3 (ipykernel)",
   "language": "python",
   "name": "python3"
  },
  "language_info": {
   "codemirror_mode": {
    "name": "ipython",
    "version": 3
   },
   "file_extension": ".py",
   "mimetype": "text/x-python",
   "name": "python",
   "nbconvert_exporter": "python",
   "pygments_lexer": "ipython3",
   "version": "3.9.13"
  }
 },
 "nbformat": 4,
 "nbformat_minor": 5
}
