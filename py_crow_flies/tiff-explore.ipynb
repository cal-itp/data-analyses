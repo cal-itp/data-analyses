{
 "cells": [
  {
   "cell_type": "markdown",
   "id": "bd14cd19-0ed8-487b-8e08-72d749f0bc3b",
   "metadata": {},
   "source": [
    "# Quick exploration for lessons learned / data prep\n",
    "\n",
    "**Reduce memory at every step**\n",
    "1. start with geoparquet (works with R too) instead of shapefile\n",
    "2. explore columns and see which can be downgraded\n",
    "   - `pointid` is unsigned, only positive numbers. also, the number of digits (at most, goes up to 8M if we combine all regions): https://towardsdatascience.com/reducing-memory-usage-in-pandas-with-smaller-datatypes-b527635830af\n",
    "   - `Point_ID` is the string version of that...strings take more memory to store. Let's ignore this column while we're wrangling and then bring it back in at the end.\n",
    "   - `grid_code` appears as float, but can be integer too\n",
    "3. for geospatial operations (buffer, spatial join, distance), keep as few columns as possible\n",
    "\n",
    "**chunks to stay within local memory limits**\n",
    "<br>4. use existing regional batches - chunk it up and do spatial stuff\n",
    "\n",
    "**use arrays to vectorize multiplying by a scalar and adding**\n",
    "<br>5. read in partitioned parquets with distance and use arrays to apply decay and aggregation\n",
    "<br>6. bring back original dataset with all the columns and merge results in"
   ]
  },
  {
   "cell_type": "code",
   "execution_count": 1,
   "id": "e93a9f10-0f76-4335-b25c-4e413dbb38c6",
   "metadata": {},
   "outputs": [
    {
     "name": "stderr",
     "output_type": "stream",
     "text": [
      "/opt/conda/lib/python3.9/site-packages/geopandas/_compat.py:123: UserWarning: The Shapely GEOS version (3.11.1-CAPI-1.17.1) is incompatible with the GEOS version PyGEOS was compiled with (3.10.1-CAPI-1.16.0). Conversions between both will be slow.\n",
      "  warnings.warn(\n",
      "/tmp/ipykernel_456/77518399.py:1: UserWarning: Shapely 2.0 is installed, but because PyGEOS is also installed, GeoPandas will still use PyGEOS by default for now. To force to use and test Shapely 2.0, you have to set the environment variable USE_PYGEOS=0. You can do this before starting the Python process, or in your code before importing geopandas:\n",
      "\n",
      "import os\n",
      "os.environ['USE_PYGEOS'] = '0'\n",
      "import geopandas\n",
      "\n",
      "In a future release, GeoPandas will switch to using Shapely by default. If you are using PyGEOS directly (calling PyGEOS functions on geometries from GeoPandas), this will then stop working and you are encouraged to migrate from PyGEOS to Shapely 2.0 (https://shapely.readthedocs.io/en/latest/migration_pygeos.html).\n",
      "  import geopandas as gpd\n"
     ]
    }
   ],
   "source": [
    "import geopandas as gpd\n",
    "import pandas as pd\n",
    "\n",
    "from prep import GCS_FILE_PATH\n",
    "\n",
    "files = [\"Mojave_POIs\", \"SoCal_POIs\"]\n",
    "CRS = \"EPSG:3857\""
   ]
  },
  {
   "cell_type": "code",
   "execution_count": 2,
   "id": "f366f990-58bb-49a9-bd98-59fc740f4441",
   "metadata": {},
   "outputs": [],
   "source": [
    "mojave = gpd.read_parquet(f\"{GCS_FILE_PATH}{files[0]}.parquet\")\n",
    "socal = gpd.read_parquet(f\"{GCS_FILE_PATH}{files[1]}.parquet\")"
   ]
  },
  {
   "cell_type": "code",
   "execution_count": 3,
   "id": "92942fc0-9c52-4008-8dde-6d2859447c14",
   "metadata": {},
   "outputs": [
    {
     "data": {
      "text/plain": [
       "((791670, 4), (2644392, 4))"
      ]
     },
     "execution_count": 3,
     "metadata": {},
     "output_type": "execute_result"
    }
   ],
   "source": [
    "mojave.shape, socal.shape"
   ]
  },
  {
   "cell_type": "code",
   "execution_count": 4,
   "id": "a7fb8b69-3921-4141-9efd-8549171e73c5",
   "metadata": {},
   "outputs": [
    {
     "data": {
      "text/plain": [
       "(pointid         int64\n",
       " grid_code     float64\n",
       " Point_ID       object\n",
       " geometry     geometry\n",
       " dtype: object,\n",
       " pointid         int64\n",
       " grid_code     float64\n",
       " Point_ID       object\n",
       " geometry     geometry\n",
       " dtype: object)"
      ]
     },
     "execution_count": 4,
     "metadata": {},
     "output_type": "execute_result"
    }
   ],
   "source": [
    "mojave.dtypes, socal.dtypes"
   ]
  },
  {
   "cell_type": "code",
   "execution_count": 5,
   "id": "0eb0247e-de9c-48af-824a-787b6f717c93",
   "metadata": {},
   "outputs": [
    {
     "data": {
      "text/plain": [
       "(3857, 3857)"
      ]
     },
     "execution_count": 5,
     "metadata": {},
     "output_type": "execute_result"
    }
   ],
   "source": [
    "mojave.crs.to_epsg(), socal.crs.to_epsg()"
   ]
  },
  {
   "cell_type": "code",
   "execution_count": 6,
   "id": "a60f00bc-b81c-4d13-b706-629f57d996c7",
   "metadata": {},
   "outputs": [
    {
     "data": {
      "text/plain": [
       "Index             128\n",
       "pointid      21155136\n",
       "grid_code    21155136\n",
       "Point_ID     21155136\n",
       "geometry     21155136\n",
       "dtype: int64"
      ]
     },
     "execution_count": 6,
     "metadata": {},
     "output_type": "execute_result"
    }
   ],
   "source": [
    "socal.memory_usage()"
   ]
  },
  {
   "cell_type": "code",
   "execution_count": 7,
   "id": "f9ee31e7-ec81-4b4a-97ac-00ae64de5f6d",
   "metadata": {},
   "outputs": [
    {
     "data": {
      "text/plain": [
       "Index             128\n",
       "pointid      10577568\n",
       "grid_code     5288784\n",
       "Point_ID     21155136\n",
       "geometry     21155136\n",
       "dtype: int64"
      ]
     },
     "execution_count": 7,
     "metadata": {},
     "output_type": "execute_result"
    }
   ],
   "source": [
    "socal.astype({\n",
    "    \"pointid\": \"uint32\",\n",
    "    \"grid_code\": \"int16\", \n",
    "    #using uint vs int doesn't appear to make a difference\n",
    "}).memory_usage()"
   ]
  },
  {
   "cell_type": "code",
   "execution_count": 8,
   "id": "212cef11-83b8-4e95-b6c1-6b31db670b50",
   "metadata": {},
   "outputs": [
    {
     "name": "stdout",
     "output_type": "stream",
     "text": [
      "point id max: 3936983\n",
      "grid code max: 259.0\n"
     ]
    }
   ],
   "source": [
    "print(f\"point id max: {socal.pointid.max()}\")\n",
    "print(f\"grid code max: {socal.grid_code.max()}\")"
   ]
  },
  {
   "cell_type": "markdown",
   "id": "464b3ef1-0de2-4f3c-af18-c09fed75fd09",
   "metadata": {},
   "source": [
    "Is `pointid` unique?\n",
    "\n",
    "-- No. Create a unique identifier...here, just use index bc we're going to concatenate them. Also store the region, in case we want to use it."
   ]
  },
  {
   "cell_type": "code",
   "execution_count": 9,
   "id": "47cd2739-027e-4851-989c-414780518807",
   "metadata": {},
   "outputs": [
    {
     "data": {
      "text/plain": [
       "count    7.916700e+05\n",
       "mean     8.843604e+05\n",
       "std      3.618008e+05\n",
       "min      1.000000e+00\n",
       "25%      6.290412e+05\n",
       "50%      9.215615e+05\n",
       "75%      1.195664e+06\n",
       "max      1.412400e+06\n",
       "Name: pointid, dtype: float64"
      ]
     },
     "execution_count": 9,
     "metadata": {},
     "output_type": "execute_result"
    }
   ],
   "source": [
    "mojave.pointid.describe()"
   ]
  },
  {
   "cell_type": "code",
   "execution_count": 10,
   "id": "55892803-f7ec-4dd9-85d3-d0d654eb164d",
   "metadata": {},
   "outputs": [
    {
     "data": {
      "text/plain": [
       "count    2.644392e+06\n",
       "mean     1.750431e+06\n",
       "std      1.060644e+06\n",
       "min      1.000000e+00\n",
       "25%      8.759248e+05\n",
       "50%      1.631116e+06\n",
       "75%      2.592089e+06\n",
       "max      3.936983e+06\n",
       "Name: pointid, dtype: float64"
      ]
     },
     "execution_count": 10,
     "metadata": {},
     "output_type": "execute_result"
    }
   ],
   "source": [
    "socal.pointid.describe()"
   ]
  },
  {
   "cell_type": "code",
   "execution_count": 11,
   "id": "47c9a2c4-0618-414b-afb4-072e969c1079",
   "metadata": {},
   "outputs": [
    {
     "data": {
      "text/html": [
       "<div>\n",
       "<style scoped>\n",
       "    .dataframe tbody tr th:only-of-type {\n",
       "        vertical-align: middle;\n",
       "    }\n",
       "\n",
       "    .dataframe tbody tr th {\n",
       "        vertical-align: top;\n",
       "    }\n",
       "\n",
       "    .dataframe thead th {\n",
       "        text-align: right;\n",
       "    }\n",
       "</style>\n",
       "<table border=\"1\" class=\"dataframe\">\n",
       "  <thead>\n",
       "    <tr style=\"text-align: right;\">\n",
       "      <th></th>\n",
       "      <th>pointid</th>\n",
       "      <th>grid_code</th>\n",
       "      <th>Point_ID</th>\n",
       "      <th>geometry</th>\n",
       "    </tr>\n",
       "  </thead>\n",
       "  <tbody>\n",
       "    <tr>\n",
       "      <th>0</th>\n",
       "      <td>1</td>\n",
       "      <td>0.0</td>\n",
       "      <td>id_1</td>\n",
       "      <td>POINT (-13177590.802 4510549.039)</td>\n",
       "    </tr>\n",
       "  </tbody>\n",
       "</table>\n",
       "</div>"
      ],
      "text/plain": [
       "   pointid  grid_code Point_ID                           geometry\n",
       "0        1        0.0     id_1  POINT (-13177590.802 4510549.039)"
      ]
     },
     "execution_count": 11,
     "metadata": {},
     "output_type": "execute_result"
    }
   ],
   "source": [
    "mojave[mojave.pointid==1]"
   ]
  },
  {
   "cell_type": "code",
   "execution_count": 12,
   "id": "07de2b78-bd71-4649-8ba9-0b6b581c02e8",
   "metadata": {},
   "outputs": [
    {
     "data": {
      "text/html": [
       "<div>\n",
       "<style scoped>\n",
       "    .dataframe tbody tr th:only-of-type {\n",
       "        vertical-align: middle;\n",
       "    }\n",
       "\n",
       "    .dataframe tbody tr th {\n",
       "        vertical-align: top;\n",
       "    }\n",
       "\n",
       "    .dataframe thead th {\n",
       "        text-align: right;\n",
       "    }\n",
       "</style>\n",
       "<table border=\"1\" class=\"dataframe\">\n",
       "  <thead>\n",
       "    <tr style=\"text-align: right;\">\n",
       "      <th></th>\n",
       "      <th>pointid</th>\n",
       "      <th>grid_code</th>\n",
       "      <th>Point_ID</th>\n",
       "      <th>geometry</th>\n",
       "    </tr>\n",
       "  </thead>\n",
       "  <tbody>\n",
       "    <tr>\n",
       "      <th>0</th>\n",
       "      <td>1</td>\n",
       "      <td>0.0</td>\n",
       "      <td>id_1</td>\n",
       "      <td>POINT (-13519417.193 4285824.176)</td>\n",
       "    </tr>\n",
       "  </tbody>\n",
       "</table>\n",
       "</div>"
      ],
      "text/plain": [
       "   pointid  grid_code Point_ID                           geometry\n",
       "0        1        0.0     id_1  POINT (-13519417.193 4285824.176)"
      ]
     },
     "execution_count": 12,
     "metadata": {},
     "output_type": "execute_result"
    }
   ],
   "source": [
    "socal[socal.pointid==1]"
   ]
  },
  {
   "cell_type": "code",
   "execution_count": null,
   "id": "59f96aa2-ed8e-49bb-9a8c-3bf23f1ebd67",
   "metadata": {},
   "outputs": [],
   "source": []
  }
 ],
 "metadata": {
  "kernelspec": {
   "display_name": "Python 3 (ipykernel)",
   "language": "python",
   "name": "python3"
  },
  "language_info": {
   "codemirror_mode": {
    "name": "ipython",
    "version": 3
   },
   "file_extension": ".py",
   "mimetype": "text/x-python",
   "name": "python",
   "nbconvert_exporter": "python",
   "pygments_lexer": "ipython3",
   "version": "3.9.13"
  }
 },
 "nbformat": 4,
 "nbformat_minor": 5
}
