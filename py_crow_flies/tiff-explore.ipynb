{
 "cells": [
  {
   "cell_type": "markdown",
   "id": "bd14cd19-0ed8-487b-8e08-72d749f0bc3b",
   "metadata": {},
   "source": [
    "# Quick exploration for lessons learned / data prep\n",
    "**Reduce memory at every step**\n",
    "1. start with geoparquet (works with R too) instead of shapefile\n",
    "2. explore columns and see which can be downgraded\n",
    "   - `pointid` is unsigned, only positive numbers. also, the number of digits (at most, goes up to 8M if we combine all regions): https://towardsdatascience.com/reducing-memory-usage-in-pandas-with-smaller-datatypes-b527635830af\n",
    "   - `Point_ID` is the string version of that...strings take more memory to store. Let's ignore this column while we're wrangling and then bring it back in at the end.\n",
    "   - `grid_code` appears as float, but can be integer too\n",
    "3. for geospatial operations (buffer, spatial join, distance), keep as few columns as possible"
   ]
  },
  {
   "cell_type": "code",
   "execution_count": null,
   "id": "e93a9f10-0f76-4335-b25c-4e413dbb38c6",
   "metadata": {},
   "outputs": [],
   "source": [
    "import geopandas as gpd\n",
    "import pandas as pd\n",
    "\n",
    "GCS_FILE_PATH = \"gs://calitp-analytics-data/data-analyses/py_crow_flies/\"\n",
    "\n",
    "files = [\"Mojave_POIs\", \"SoCal_POIs\"]\n",
    "CRS = \"EPSG:3857\""
   ]
  },
  {
   "cell_type": "code",
   "execution_count": null,
   "id": "f366f990-58bb-49a9-bd98-59fc740f4441",
   "metadata": {},
   "outputs": [],
   "source": [
    "mojave = gpd.read_parquet(f\"{GCS_FILE_PATH}{files[0]}.parquet\")\n",
    "socal = gpd.read_parquet(f\"{GCS_FILE_PATH}{files[1]}.parquet\")"
   ]
  },
  {
   "cell_type": "code",
   "execution_count": null,
   "id": "92942fc0-9c52-4008-8dde-6d2859447c14",
   "metadata": {},
   "outputs": [],
   "source": [
    "mojave.shape, socal.shape"
   ]
  },
  {
   "cell_type": "code",
   "execution_count": null,
   "id": "a7fb8b69-3921-4141-9efd-8549171e73c5",
   "metadata": {},
   "outputs": [],
   "source": [
    "mojave.dtypes, socal.dtypes"
   ]
  },
  {
   "cell_type": "code",
   "execution_count": null,
   "id": "0eb0247e-de9c-48af-824a-787b6f717c93",
   "metadata": {},
   "outputs": [],
   "source": [
    "mojave.crs.to_epsg(), socal.crs.to_epsg()"
   ]
  },
  {
   "cell_type": "code",
   "execution_count": null,
   "id": "a60f00bc-b81c-4d13-b706-629f57d996c7",
   "metadata": {},
   "outputs": [],
   "source": [
    "socal.memory_usage()"
   ]
  },
  {
   "cell_type": "code",
   "execution_count": null,
   "id": "f9ee31e7-ec81-4b4a-97ac-00ae64de5f6d",
   "metadata": {},
   "outputs": [],
   "source": [
    "socal.astype({\n",
    "    \"pointid\": \"uint32\",\n",
    "    \"grid_code\": \"int16\", \n",
    "    #using uint vs int doesn't appear to make a difference\n",
    "}).memory_usage()"
   ]
  },
  {
   "cell_type": "code",
   "execution_count": null,
   "id": "212cef11-83b8-4e95-b6c1-6b31db670b50",
   "metadata": {},
   "outputs": [],
   "source": [
    "print(f\"point id max: {socal.pointid.max()}\")\n",
    "print(f\"grid code max: {socal.grid_code.max()}\")"
   ]
  },
  {
   "cell_type": "markdown",
   "id": "464b3ef1-0de2-4f3c-af18-c09fed75fd09",
   "metadata": {},
   "source": [
    "Is `pointid` unique?\n",
    "\n",
    "-- No. Create a unique identifier...here, just use index bc we're going to concatenate them. Also store the region, in case we want to use it."
   ]
  },
  {
   "cell_type": "code",
   "execution_count": null,
   "id": "47cd2739-027e-4851-989c-414780518807",
   "metadata": {},
   "outputs": [],
   "source": [
    "mojave.pointid.describe()"
   ]
  },
  {
   "cell_type": "code",
   "execution_count": null,
   "id": "55892803-f7ec-4dd9-85d3-d0d654eb164d",
   "metadata": {},
   "outputs": [],
   "source": [
    "socal.pointid.describe()"
   ]
  },
  {
   "cell_type": "code",
   "execution_count": null,
   "id": "47c9a2c4-0618-414b-afb4-072e969c1079",
   "metadata": {},
   "outputs": [],
   "source": [
    "mojave[mojave.pointid==1]"
   ]
  },
  {
   "cell_type": "code",
   "execution_count": null,
   "id": "07de2b78-bd71-4649-8ba9-0b6b581c02e8",
   "metadata": {},
   "outputs": [],
   "source": [
    "socal[socal.pointid==1]"
   ]
  },
  {
   "cell_type": "code",
   "execution_count": null,
   "id": "59f96aa2-ed8e-49bb-9a8c-3bf23f1ebd67",
   "metadata": {},
   "outputs": [],
   "source": []
  }
 ],
 "metadata": {
  "kernelspec": {
   "display_name": "Python 3 (ipykernel)",
   "language": "python",
   "name": "python3"
  },
  "language_info": {
   "codemirror_mode": {
    "name": "ipython",
    "version": 3
   },
   "file_extension": ".py",
   "mimetype": "text/x-python",
   "name": "python",
   "nbconvert_exporter": "python",
   "pygments_lexer": "ipython3",
   "version": "3.9.13"
  }
 },
 "nbformat": 4,
 "nbformat_minor": 5
}
