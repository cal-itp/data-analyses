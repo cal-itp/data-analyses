{
 "cells": [
  {
   "cell_type": "code",
   "execution_count": 1,
   "id": "7e570d61-bfef-451c-a444-9340461d3d2f",
   "metadata": {
    "tags": []
   },
   "outputs": [
    {
     "name": "stderr",
     "output_type": "stream",
     "text": [
      "/opt/conda/lib/python3.9/site-packages/geopandas/_compat.py:123: UserWarning: The Shapely GEOS version (3.11.1-CAPI-1.17.1) is incompatible with the GEOS version PyGEOS was compiled with (3.10.1-CAPI-1.16.0). Conversions between both will be slow.\n",
      "  warnings.warn(\n",
      "/tmp/ipykernel_2359/1230826072.py:1: UserWarning: Shapely 2.0 is installed, but because PyGEOS is also installed, GeoPandas will still use PyGEOS by default for now. To force to use and test Shapely 2.0, you have to set the environment variable USE_PYGEOS=0. You can do this before starting the Python process, or in your code before importing geopandas:\n",
      "\n",
      "import os\n",
      "os.environ['USE_PYGEOS'] = '0'\n",
      "import geopandas\n",
      "\n",
      "In a future release, GeoPandas will switch to using Shapely by default. If you are using PyGEOS directly (calling PyGEOS functions on geometries from GeoPandas), this will then stop working and you are encouraged to migrate from PyGEOS to Shapely 2.0 (https://shapely.readthedocs.io/en/latest/migration_pygeos.html).\n",
      "  import geopandas as gpd\n"
     ]
    }
   ],
   "source": [
    "import geopandas as gpd\n",
    "import pandas as pd\n",
    "from siuba import *\n",
    "\n",
    "from tqdm.notebook import tqdm\n",
    "\n",
    "import shared_utils"
   ]
  },
  {
   "cell_type": "markdown",
   "id": "49e05562-83c9-4413-acf3-d8c9f235203c",
   "metadata": {},
   "source": [
    "# Five Days of the Crow: a quick attempt to port over to Python\n",
    "\n",
    "## Differences:\n",
    "\n",
    "* Drop extra string id column\n",
    "* Do all buffering first\n",
    "\n",
    "## Components\n",
    "\n",
    "* 3 remaining iterative steps: clip, measure distance, apply decay weights\n",
    "* Similar to original script\n",
    "* About 5 days in total, give or take"
   ]
  },
  {
   "cell_type": "code",
   "execution_count": 2,
   "id": "e455836d-b476-4043-9798-a15754c1540f",
   "metadata": {
    "tags": []
   },
   "outputs": [],
   "source": [
    "crow_folder = 'gs://calitp-analytics-data/data-analyses/py_crow_flies/'"
   ]
  },
  {
   "cell_type": "code",
   "execution_count": 3,
   "id": "628a57e6-db1c-4c9b-9d8e-b638aa61f423",
   "metadata": {},
   "outputs": [],
   "source": [
    "# path = f'{crow_folder}CentralCal_POIs.zip'"
   ]
  },
  {
   "cell_type": "markdown",
   "id": "f9ae6b65-1b4d-4c09-87d0-6e89c5924be6",
   "metadata": {},
   "source": [
    "# Datasets:\n",
    "\n",
    "* CentralCal_POIs\n",
    "* NorCal_POIs\n",
    "* Mojave_POIs\n",
    "* SoCal_POIs"
   ]
  },
  {
   "cell_type": "code",
   "execution_count": 4,
   "id": "cf7d0dae-115b-4cd4-9b3c-c72530ef39fb",
   "metadata": {},
   "outputs": [],
   "source": [
    "# Read in Shapefile of grid (or origin) points. Points must have two required columns:\n",
    "  #1. grid_code: The value of the opportunities being measured. In this case, the number of opportunities within the grid cell.\n",
    "  #2. Point_ID: A unique id for each grid in character format.\n",
    "central = gpd.read_parquet(f'{crow_folder}CentralCal_POIs.parquet')"
   ]
  },
  {
   "cell_type": "code",
   "execution_count": 5,
   "id": "514ec246-5f39-48b3-841f-64a5567277a0",
   "metadata": {
    "tags": []
   },
   "outputs": [
    {
     "data": {
      "text/html": [
       "<div>\n",
       "<style scoped>\n",
       "    .dataframe tbody tr th:only-of-type {\n",
       "        vertical-align: middle;\n",
       "    }\n",
       "\n",
       "    .dataframe tbody tr th {\n",
       "        vertical-align: top;\n",
       "    }\n",
       "\n",
       "    .dataframe thead th {\n",
       "        text-align: right;\n",
       "    }\n",
       "</style>\n",
       "<table border=\"1\" class=\"dataframe\">\n",
       "  <thead>\n",
       "    <tr style=\"text-align: right;\">\n",
       "      <th></th>\n",
       "      <th>pointid</th>\n",
       "      <th>grid_code</th>\n",
       "      <th>Point_ID</th>\n",
       "      <th>geometry</th>\n",
       "    </tr>\n",
       "  </thead>\n",
       "  <tbody>\n",
       "    <tr>\n",
       "      <th>0</th>\n",
       "      <td>1</td>\n",
       "      <td>0.0</td>\n",
       "      <td>id_1</td>\n",
       "      <td>POINT (-13783277.814 4813851.167)</td>\n",
       "    </tr>\n",
       "    <tr>\n",
       "      <th>1</th>\n",
       "      <td>2</td>\n",
       "      <td>0.0</td>\n",
       "      <td>id_2</td>\n",
       "      <td>POINT (-13782972.066 4813851.167)</td>\n",
       "    </tr>\n",
       "    <tr>\n",
       "      <th>2</th>\n",
       "      <td>3</td>\n",
       "      <td>0.0</td>\n",
       "      <td>id_3</td>\n",
       "      <td>POINT (-13782666.318 4813851.167)</td>\n",
       "    </tr>\n",
       "    <tr>\n",
       "      <th>3</th>\n",
       "      <td>4</td>\n",
       "      <td>0.0</td>\n",
       "      <td>id_4</td>\n",
       "      <td>POINT (-13782360.570 4813851.167)</td>\n",
       "    </tr>\n",
       "    <tr>\n",
       "      <th>4</th>\n",
       "      <td>5</td>\n",
       "      <td>0.0</td>\n",
       "      <td>id_5</td>\n",
       "      <td>POINT (-13782054.822 4813851.167)</td>\n",
       "    </tr>\n",
       "    <tr>\n",
       "      <th>...</th>\n",
       "      <td>...</td>\n",
       "      <td>...</td>\n",
       "      <td>...</td>\n",
       "      <td>...</td>\n",
       "    </tr>\n",
       "    <tr>\n",
       "      <th>2850974</th>\n",
       "      <td>3935450</td>\n",
       "      <td>0.0</td>\n",
       "      <td>id_3935450</td>\n",
       "      <td>POINT (-13109408.973 4283378.191)</td>\n",
       "    </tr>\n",
       "    <tr>\n",
       "      <th>2850975</th>\n",
       "      <td>3935451</td>\n",
       "      <td>0.0</td>\n",
       "      <td>id_3935451</td>\n",
       "      <td>POINT (-13109103.225 4283378.191)</td>\n",
       "    </tr>\n",
       "    <tr>\n",
       "      <th>2850976</th>\n",
       "      <td>3935452</td>\n",
       "      <td>0.0</td>\n",
       "      <td>id_3935452</td>\n",
       "      <td>POINT (-13108797.477 4283378.191)</td>\n",
       "    </tr>\n",
       "    <tr>\n",
       "      <th>2850977</th>\n",
       "      <td>3935453</td>\n",
       "      <td>0.0</td>\n",
       "      <td>id_3935453</td>\n",
       "      <td>POINT (-13108491.729 4283378.191)</td>\n",
       "    </tr>\n",
       "    <tr>\n",
       "      <th>2850978</th>\n",
       "      <td>3935454</td>\n",
       "      <td>0.0</td>\n",
       "      <td>id_3935454</td>\n",
       "      <td>POINT (-13108185.981 4283378.191)</td>\n",
       "    </tr>\n",
       "  </tbody>\n",
       "</table>\n",
       "<p>2850979 rows × 4 columns</p>\n",
       "</div>"
      ],
      "text/plain": [
       "         pointid  grid_code    Point_ID                           geometry\n",
       "0              1        0.0        id_1  POINT (-13783277.814 4813851.167)\n",
       "1              2        0.0        id_2  POINT (-13782972.066 4813851.167)\n",
       "2              3        0.0        id_3  POINT (-13782666.318 4813851.167)\n",
       "3              4        0.0        id_4  POINT (-13782360.570 4813851.167)\n",
       "4              5        0.0        id_5  POINT (-13782054.822 4813851.167)\n",
       "...          ...        ...         ...                                ...\n",
       "2850974  3935450        0.0  id_3935450  POINT (-13109408.973 4283378.191)\n",
       "2850975  3935451        0.0  id_3935451  POINT (-13109103.225 4283378.191)\n",
       "2850976  3935452        0.0  id_3935452  POINT (-13108797.477 4283378.191)\n",
       "2850977  3935453        0.0  id_3935453  POINT (-13108491.729 4283378.191)\n",
       "2850978  3935454        0.0  id_3935454  POINT (-13108185.981 4283378.191)\n",
       "\n",
       "[2850979 rows x 4 columns]"
      ]
     },
     "execution_count": 5,
     "metadata": {},
     "output_type": "execute_result"
    }
   ],
   "source": [
    "central"
   ]
  },
  {
   "cell_type": "code",
   "execution_count": 77,
   "id": "a04c51cd-70cf-404c-92b7-3546b910d2f5",
   "metadata": {},
   "outputs": [],
   "source": [
    "# nor = gpd.read_parquet(f'{crow_folder}NorCal_POIs.parquet')\n",
    "\n",
    "# so = gpd.read_parquet(f'{crow_folder}SoCal_POIs.parquet')\n",
    "\n",
    "# mo = gpd.read_parquet(f'{crow_folder}Mojave_POIs.parquet')"
   ]
  },
  {
   "cell_type": "code",
   "execution_count": 7,
   "id": "9e139348-04f9-4aee-b5ad-018f38115c7d",
   "metadata": {},
   "outputs": [],
   "source": [
    "# Transform the grid points to your preferred CRS\n",
    "central = central.to_crs(shared_utils.geography_utils.CA_NAD83Albers).set_index('pointid')\n",
    "central = central >> select(-_.Point_ID)"
   ]
  },
  {
   "cell_type": "code",
   "execution_count": 8,
   "id": "a4fc2bbf-5c25-43e7-a8c8-5b0fa5ce69c0",
   "metadata": {},
   "outputs": [
    {
     "data": {
      "text/plain": [
       "<Projected CRS: EPSG:3310>\n",
       "Name: NAD83 / California Albers\n",
       "Axis Info [cartesian]:\n",
       "- X[east]: Easting (metre)\n",
       "- Y[north]: Northing (metre)\n",
       "Area of Use:\n",
       "- name: United States (USA) - California.\n",
       "- bounds: (-124.45, 32.53, -114.12, 42.01)\n",
       "Coordinate Operation:\n",
       "- name: California Albers\n",
       "- method: Albers Equal Area\n",
       "Datum: North American Datum 1983\n",
       "- Ellipsoid: GRS 1980\n",
       "- Prime Meridian: Greenwich"
      ]
     },
     "execution_count": 8,
     "metadata": {},
     "output_type": "execute_result"
    }
   ],
   "source": [
    "central.crs"
   ]
  },
  {
   "cell_type": "markdown",
   "id": "88fed0b7-0aff-480d-aef4-1c7c2a826613",
   "metadata": {},
   "source": [
    "### keep point geometries around since we'll buffer actual geom later..."
   ]
  },
  {
   "cell_type": "code",
   "execution_count": 10,
   "id": "e32535bb-8851-4a5e-a122-4ea6eeca4b04",
   "metadata": {},
   "outputs": [],
   "source": [
    "central['point_geom'] = central.geometry.copy()"
   ]
  },
  {
   "cell_type": "code",
   "execution_count": 11,
   "id": "c3b58fdf-ba78-4d8d-9424-d09a7e44f885",
   "metadata": {
    "tags": []
   },
   "outputs": [],
   "source": [
    "# Create a SF dataset for destination points by filtering grid points to only those with opportunities > 0 (this reduces computing time)\n",
    "dest_points = central >> filter(_.grid_code > 0)"
   ]
  },
  {
   "cell_type": "code",
   "execution_count": 12,
   "id": "e45a0f45-afd4-402b-a3db-8a4a6481cd85",
   "metadata": {
    "tags": []
   },
   "outputs": [
    {
     "data": {
      "text/html": [
       "<div>\n",
       "<style scoped>\n",
       "    .dataframe tbody tr th:only-of-type {\n",
       "        vertical-align: middle;\n",
       "    }\n",
       "\n",
       "    .dataframe tbody tr th {\n",
       "        vertical-align: top;\n",
       "    }\n",
       "\n",
       "    .dataframe thead th {\n",
       "        text-align: right;\n",
       "    }\n",
       "</style>\n",
       "<table border=\"1\" class=\"dataframe\">\n",
       "  <thead>\n",
       "    <tr style=\"text-align: right;\">\n",
       "      <th></th>\n",
       "      <th>grid_code</th>\n",
       "      <th>geometry</th>\n",
       "      <th>point_geom</th>\n",
       "    </tr>\n",
       "    <tr>\n",
       "      <th>pointid</th>\n",
       "      <th></th>\n",
       "      <th></th>\n",
       "      <th></th>\n",
       "    </tr>\n",
       "  </thead>\n",
       "  <tbody>\n",
       "    <tr>\n",
       "      <th>736</th>\n",
       "      <td>1.0</td>\n",
       "      <td>POINT (-154261.074 181991.837)</td>\n",
       "      <td>POINT (-154261.074 181991.837)</td>\n",
       "    </tr>\n",
       "    <tr>\n",
       "      <th>2280</th>\n",
       "      <td>1.0</td>\n",
       "      <td>POINT (-324523.035 186771.201)</td>\n",
       "      <td>POINT (-324523.035 186771.201)</td>\n",
       "    </tr>\n",
       "    <tr>\n",
       "      <th>4547</th>\n",
       "      <td>1.0</td>\n",
       "      <td>POINT (-324532.413 186536.371)</td>\n",
       "      <td>POINT (-324532.413 186536.371)</td>\n",
       "    </tr>\n",
       "  </tbody>\n",
       "</table>\n",
       "</div>"
      ],
      "text/plain": [
       "         grid_code                        geometry  \\\n",
       "pointid                                              \n",
       "736            1.0  POINT (-154261.074 181991.837)   \n",
       "2280           1.0  POINT (-324523.035 186771.201)   \n",
       "4547           1.0  POINT (-324532.413 186536.371)   \n",
       "\n",
       "                             point_geom  \n",
       "pointid                                  \n",
       "736      POINT (-154261.074 181991.837)  \n",
       "2280     POINT (-324523.035 186771.201)  \n",
       "4547     POINT (-324532.413 186536.371)  "
      ]
     },
     "execution_count": 12,
     "metadata": {},
     "output_type": "execute_result"
    }
   ],
   "source": [
    "dest_points >> head(3)"
   ]
  },
  {
   "cell_type": "code",
   "execution_count": 13,
   "id": "1f708017-b48e-486a-8c21-03291f3ff627",
   "metadata": {},
   "outputs": [],
   "source": [
    "# dest_stripped = dest_points >> select(_.geometry)"
   ]
  },
  {
   "cell_type": "code",
   "execution_count": 14,
   "id": "041710be-148f-4a62-b7e9-483765cb7713",
   "metadata": {},
   "outputs": [],
   "source": [
    "# dest_stripped"
   ]
  },
  {
   "cell_type": "markdown",
   "id": "4a5554c5-d593-4604-87d8-4fd2235b7ffb",
   "metadata": {
    "jp-MarkdownHeadingCollapsed": true,
    "tags": []
   },
   "source": [
    "## Look up all distances in advance?\n",
    "\n",
    "* distinct step, but actually massively more work than doing it later..."
   ]
  },
  {
   "cell_type": "code",
   "execution_count": 15,
   "id": "927b39e7-3b38-46c5-b984-62376f0e53d7",
   "metadata": {},
   "outputs": [],
   "source": [
    "# import numpy as np"
   ]
  },
  {
   "cell_type": "code",
   "execution_count": 16,
   "id": "aa59aab0-34ef-47a2-a16e-8d6cac7d5289",
   "metadata": {},
   "outputs": [],
   "source": [
    "# origins = central"
   ]
  },
  {
   "cell_type": "code",
   "execution_count": 17,
   "id": "59798335-f2f6-4387-b5b5-4114fd8be1fb",
   "metadata": {},
   "outputs": [],
   "source": [
    "# origins_stripped = origins.reset_index() >> select(-_.grid_code)"
   ]
  },
  {
   "cell_type": "code",
   "execution_count": 18,
   "id": "99ece32f-3dcb-489b-8d55-75ff24776330",
   "metadata": {},
   "outputs": [],
   "source": [
    "# origins_stripped "
   ]
  },
  {
   "cell_type": "code",
   "execution_count": 16,
   "id": "3e1defc6-ff4f-4d22-b280-72a0b5760dae",
   "metadata": {},
   "outputs": [],
   "source": [
    "# result = {}\n",
    "\n",
    "# def create_od(row):\n",
    "#     global result\n",
    "#     # print(row)\n",
    "#     # print(row.Name)\n",
    "#     result[row.pointid] = dest_stripped.distance(row.geometry)\n",
    "#     return"
   ]
  },
  {
   "cell_type": "code",
   "execution_count": 17,
   "id": "06885494-c54f-4b33-ab31-f584ec0f6616",
   "metadata": {},
   "outputs": [],
   "source": [
    "# origins_stripped[:100].apply(create_od, axis = 1)"
   ]
  },
  {
   "cell_type": "code",
   "execution_count": 18,
   "id": "0298ea99-3e7f-4817-95b1-3438202e5120",
   "metadata": {
    "tags": []
   },
   "outputs": [],
   "source": [
    "# result[1]"
   ]
  },
  {
   "cell_type": "code",
   "execution_count": 19,
   "id": "d6510138-6bd1-4ced-8933-b6d815b047e9",
   "metadata": {},
   "outputs": [],
   "source": [
    "# dest_stripped.distance(origins.geometry.iloc[0])"
   ]
  },
  {
   "cell_type": "markdown",
   "id": "baa26e39-9a7e-4728-98f7-4028c4b28354",
   "metadata": {},
   "source": [
    "## Buffering and so on\n",
    "\n",
    "* buffer everything first instead of one at a time"
   ]
  },
  {
   "cell_type": "code",
   "execution_count": 19,
   "id": "ccc0a99b-2202-4965-a777-753bbdc9df13",
   "metadata": {},
   "outputs": [],
   "source": [
    "buffer_mi = 20\n",
    "buffer_m = buffer_mi * 1609.34"
   ]
  },
  {
   "cell_type": "code",
   "execution_count": 20,
   "id": "39687d94-f290-48c1-bcee-b8c95c161ecf",
   "metadata": {},
   "outputs": [],
   "source": [
    "origins = central"
   ]
  },
  {
   "cell_type": "code",
   "execution_count": 21,
   "id": "6255ec8e-6bd0-47f0-99b4-5a7e1f28aa50",
   "metadata": {},
   "outputs": [],
   "source": [
    "origins.geometry = origins.buffer(buffer_m)"
   ]
  },
  {
   "cell_type": "code",
   "execution_count": 22,
   "id": "da4c6380-cb8e-4141-99bb-b647829c6fbf",
   "metadata": {},
   "outputs": [],
   "source": [
    "# you wish, runs out of RAM\n",
    "\n",
    "# origins_joined = origins.sjoin(dest_points, how='left', predicate='intersects',\n",
    "#                               rsuffix='dest')"
   ]
  },
  {
   "cell_type": "code",
   "execution_count": 23,
   "id": "5394262d-41d8-445d-ab65-1288ba433ca1",
   "metadata": {},
   "outputs": [
    {
     "data": {
      "text/html": [
       "<div>\n",
       "<style scoped>\n",
       "    .dataframe tbody tr th:only-of-type {\n",
       "        vertical-align: middle;\n",
       "    }\n",
       "\n",
       "    .dataframe tbody tr th {\n",
       "        vertical-align: top;\n",
       "    }\n",
       "\n",
       "    .dataframe thead th {\n",
       "        text-align: right;\n",
       "    }\n",
       "</style>\n",
       "<table border=\"1\" class=\"dataframe\">\n",
       "  <thead>\n",
       "    <tr style=\"text-align: right;\">\n",
       "      <th></th>\n",
       "      <th>grid_code</th>\n",
       "      <th>geometry</th>\n",
       "      <th>point_geom</th>\n",
       "    </tr>\n",
       "    <tr>\n",
       "      <th>pointid</th>\n",
       "      <th></th>\n",
       "      <th></th>\n",
       "      <th></th>\n",
       "    </tr>\n",
       "  </thead>\n",
       "  <tbody>\n",
       "    <tr>\n",
       "      <th>1</th>\n",
       "      <td>0.0</td>\n",
       "      <td>POLYGON ((-295151.631 187119.328, -295306.620 ...</td>\n",
       "      <td>POINT (-327338.431 187119.328)</td>\n",
       "    </tr>\n",
       "    <tr>\n",
       "      <th>2</th>\n",
       "      <td>0.0</td>\n",
       "      <td>POLYGON ((-294916.235 187109.849, -295071.223 ...</td>\n",
       "      <td>POINT (-327103.035 187109.849)</td>\n",
       "    </tr>\n",
       "    <tr>\n",
       "      <th>3</th>\n",
       "      <td>0.0</td>\n",
       "      <td>POLYGON ((-294680.838 187100.376, -294835.827 ...</td>\n",
       "      <td>POINT (-326867.638 187100.376)</td>\n",
       "    </tr>\n",
       "    <tr>\n",
       "      <th>4</th>\n",
       "      <td>0.0</td>\n",
       "      <td>POLYGON ((-294445.441 187090.910, -294600.430 ...</td>\n",
       "      <td>POINT (-326632.241 187090.910)</td>\n",
       "    </tr>\n",
       "    <tr>\n",
       "      <th>5</th>\n",
       "      <td>0.0</td>\n",
       "      <td>POLYGON ((-294210.044 187081.451, -294365.032 ...</td>\n",
       "      <td>POINT (-326396.844 187081.451)</td>\n",
       "    </tr>\n",
       "    <tr>\n",
       "      <th>...</th>\n",
       "      <td>...</td>\n",
       "      <td>...</td>\n",
       "      <td>...</td>\n",
       "    </tr>\n",
       "    <tr>\n",
       "      <th>3935450</th>\n",
       "      <td>0.0</td>\n",
       "      <td>POLYGON ((233848.011 -235671.905, 233693.023 -...</td>\n",
       "      <td>POINT (201661.211 -235671.905)</td>\n",
       "    </tr>\n",
       "    <tr>\n",
       "      <th>3935451</th>\n",
       "      <td>0.0</td>\n",
       "      <td>POLYGON ((234095.655 -235666.059, 233940.667 -...</td>\n",
       "      <td>POINT (201908.855 -235666.059)</td>\n",
       "    </tr>\n",
       "    <tr>\n",
       "      <th>3935452</th>\n",
       "      <td>0.0</td>\n",
       "      <td>POLYGON ((234343.299 -235660.207, 234188.311 -...</td>\n",
       "      <td>POINT (202156.499 -235660.207)</td>\n",
       "    </tr>\n",
       "    <tr>\n",
       "      <th>3935453</th>\n",
       "      <td>0.0</td>\n",
       "      <td>POLYGON ((234590.943 -235654.347, 234435.955 -...</td>\n",
       "      <td>POINT (202404.143 -235654.347)</td>\n",
       "    </tr>\n",
       "    <tr>\n",
       "      <th>3935454</th>\n",
       "      <td>0.0</td>\n",
       "      <td>POLYGON ((234838.587 -235648.479, 234683.599 -...</td>\n",
       "      <td>POINT (202651.787 -235648.479)</td>\n",
       "    </tr>\n",
       "  </tbody>\n",
       "</table>\n",
       "<p>2850979 rows × 3 columns</p>\n",
       "</div>"
      ],
      "text/plain": [
       "         grid_code                                           geometry  \\\n",
       "pointid                                                                 \n",
       "1              0.0  POLYGON ((-295151.631 187119.328, -295306.620 ...   \n",
       "2              0.0  POLYGON ((-294916.235 187109.849, -295071.223 ...   \n",
       "3              0.0  POLYGON ((-294680.838 187100.376, -294835.827 ...   \n",
       "4              0.0  POLYGON ((-294445.441 187090.910, -294600.430 ...   \n",
       "5              0.0  POLYGON ((-294210.044 187081.451, -294365.032 ...   \n",
       "...            ...                                                ...   \n",
       "3935450        0.0  POLYGON ((233848.011 -235671.905, 233693.023 -...   \n",
       "3935451        0.0  POLYGON ((234095.655 -235666.059, 233940.667 -...   \n",
       "3935452        0.0  POLYGON ((234343.299 -235660.207, 234188.311 -...   \n",
       "3935453        0.0  POLYGON ((234590.943 -235654.347, 234435.955 -...   \n",
       "3935454        0.0  POLYGON ((234838.587 -235648.479, 234683.599 -...   \n",
       "\n",
       "                             point_geom  \n",
       "pointid                                  \n",
       "1        POINT (-327338.431 187119.328)  \n",
       "2        POINT (-327103.035 187109.849)  \n",
       "3        POINT (-326867.638 187100.376)  \n",
       "4        POINT (-326632.241 187090.910)  \n",
       "5        POINT (-326396.844 187081.451)  \n",
       "...                                 ...  \n",
       "3935450  POINT (201661.211 -235671.905)  \n",
       "3935451  POINT (201908.855 -235666.059)  \n",
       "3935452  POINT (202156.499 -235660.207)  \n",
       "3935453  POINT (202404.143 -235654.347)  \n",
       "3935454  POINT (202651.787 -235648.479)  \n",
       "\n",
       "[2850979 rows x 3 columns]"
      ]
     },
     "execution_count": 23,
     "metadata": {},
     "output_type": "execute_result"
    }
   ],
   "source": [
    "origins"
   ]
  },
  {
   "cell_type": "markdown",
   "id": "492d480a-1f59-4b95-ac7e-a1dd83431a44",
   "metadata": {},
   "source": [
    "## what if we clip each row?\n",
    "\n",
    "* rowise clip since spatial join all at once exhausts memory"
   ]
  },
  {
   "cell_type": "code",
   "execution_count": 24,
   "id": "4de652c1-b055-43c8-b9c4-dbf7e403bb24",
   "metadata": {},
   "outputs": [],
   "source": [
    "one_row = origins.iloc[0,:]"
   ]
  },
  {
   "cell_type": "code",
   "execution_count": 25,
   "id": "0ee057d9-3993-4bd9-939a-bedc01d66e32",
   "metadata": {},
   "outputs": [
    {
     "data": {
      "text/plain": [
       "grid_code                                                   0.0\n",
       "geometry      POLYGON ((-295151.6312776939 187119.3281538663...\n",
       "point_geom        POINT (-327338.4312776939 187119.32815386634)\n",
       "Name: 1, dtype: object"
      ]
     },
     "execution_count": 25,
     "metadata": {},
     "output_type": "execute_result"
    }
   ],
   "source": [
    "one_row"
   ]
  },
  {
   "cell_type": "code",
   "execution_count": 26,
   "id": "d4609a6f-057b-4ed1-a737-e6c77e7b921b",
   "metadata": {},
   "outputs": [
    {
     "name": "stdout",
     "output_type": "stream",
     "text": [
      "6.7 ms ± 656 µs per loop (mean ± std. dev. of 7 runs, 100 loops each)\n"
     ]
    }
   ],
   "source": [
    "%%timeit\n",
    "one_clipped = dest_points.clip(one_row.geometry)"
   ]
  },
  {
   "cell_type": "code",
   "execution_count": 27,
   "id": "43f1801b-7d84-4781-a890-2db311ba398c",
   "metadata": {},
   "outputs": [],
   "source": [
    "one_clipped = dest_points.clip(one_row.geometry)"
   ]
  },
  {
   "cell_type": "code",
   "execution_count": 46,
   "id": "464eaa76-050c-4362-a849-1fda32f14dbb",
   "metadata": {},
   "outputs": [
    {
     "data": {
      "text/plain": [
       "11.720691444444446"
      ]
     },
     "execution_count": 46,
     "metadata": {},
     "output_type": "execute_result"
    }
   ],
   "source": [
    "each_clip_ms = 14.8 # from timeit\n",
    "clip_sec = central.shape[0] * each_clip_ms * 10**-3\n",
    "\n",
    "clip_hours = clip_sec / 60**2\n",
    "clip_hours"
   ]
  },
  {
   "cell_type": "code",
   "execution_count": 43,
   "id": "fd830533-1083-4bb1-9598-2a2022b80e50",
   "metadata": {},
   "outputs": [
    {
     "name": "stderr",
     "output_type": "stream",
     "text": [
      "/opt/conda/lib/python3.9/site-packages/geopandas/geodataframe.py:1443: SettingWithCopyWarning: \n",
      "A value is trying to be set on a copy of a slice from a DataFrame.\n",
      "Try using .loc[row_indexer,col_indexer] = value instead\n",
      "\n",
      "See the caveats in the documentation: https://pandas.pydata.org/pandas-docs/stable/user_guide/indexing.html#returning-a-view-versus-a-copy\n"
     ]
    },
    {
     "name": "stdout",
     "output_type": "stream",
     "text": [
      "304 µs ± 4.28 µs per loop (mean ± std. dev. of 7 runs, 1,000 loops each)\n"
     ]
    }
   ],
   "source": [
    "%%timeit\n",
    "one_clipped['distance'] = one_clipped.geometry.distance(one_row.point_geom)"
   ]
  },
  {
   "cell_type": "code",
   "execution_count": 47,
   "id": "8f024610-7c51-4789-a52e-51ec83d925ad",
   "metadata": {},
   "outputs": [
    {
     "data": {
      "text/plain": [
       "0.24074933777777777"
      ]
     },
     "execution_count": 47,
     "metadata": {},
     "output_type": "execute_result"
    }
   ],
   "source": [
    "each_dist_ms = .304 # from timeit\n",
    "dist_sec = central.shape[0] * each_dist_ms * 10**-3\n",
    "\n",
    "dist_hours = dist_sec / 60**2\n",
    "dist_hours"
   ]
  },
  {
   "cell_type": "code",
   "execution_count": 44,
   "id": "26ff8bf4-3cf3-4cac-87dd-bbdb53818d7f",
   "metadata": {},
   "outputs": [],
   "source": [
    "one_clipped['distance'] = one_clipped.geometry.distance(one_row.point_geom)"
   ]
  },
  {
   "cell_type": "code",
   "execution_count": 45,
   "id": "34704322-387d-43a2-a155-16698cdc28c6",
   "metadata": {},
   "outputs": [
    {
     "data": {
      "text/html": [
       "<div>\n",
       "<style scoped>\n",
       "    .dataframe tbody tr th:only-of-type {\n",
       "        vertical-align: middle;\n",
       "    }\n",
       "\n",
       "    .dataframe tbody tr th {\n",
       "        vertical-align: top;\n",
       "    }\n",
       "\n",
       "    .dataframe thead th {\n",
       "        text-align: right;\n",
       "    }\n",
       "</style>\n",
       "<table border=\"1\" class=\"dataframe\">\n",
       "  <thead>\n",
       "    <tr style=\"text-align: right;\">\n",
       "      <th></th>\n",
       "      <th>grid_code</th>\n",
       "      <th>geometry</th>\n",
       "      <th>point_geom</th>\n",
       "      <th>distance</th>\n",
       "    </tr>\n",
       "    <tr>\n",
       "      <th>pointid</th>\n",
       "      <th></th>\n",
       "      <th></th>\n",
       "      <th></th>\n",
       "      <th></th>\n",
       "    </tr>\n",
       "  </thead>\n",
       "  <tbody>\n",
       "    <tr>\n",
       "      <th>299245</th>\n",
       "      <td>1.0</td>\n",
       "      <td>POINT (-328589.703 156058.796)</td>\n",
       "      <td>POINT (-328589.703 156058.796)</td>\n",
       "      <td>31085.725136</td>\n",
       "    </tr>\n",
       "    <tr>\n",
       "      <th>281110</th>\n",
       "      <td>1.0</td>\n",
       "      <td>POINT (-328277.478 157935.423)</td>\n",
       "      <td>POINT (-328277.478 157935.423)</td>\n",
       "      <td>29199.009447</td>\n",
       "    </tr>\n",
       "    <tr>\n",
       "      <th>281109</th>\n",
       "      <td>1.0</td>\n",
       "      <td>POINT (-328513.720 157944.936)</td>\n",
       "      <td>POINT (-328513.720 157944.936)</td>\n",
       "      <td>29198.055622</td>\n",
       "    </tr>\n",
       "    <tr>\n",
       "      <th>269776</th>\n",
       "      <td>1.0</td>\n",
       "      <td>POINT (-327993.825 159104.515)</td>\n",
       "      <td>POINT (-327993.825 159104.515)</td>\n",
       "      <td>28022.478282</td>\n",
       "    </tr>\n",
       "    <tr>\n",
       "      <th>256175</th>\n",
       "      <td>1.0</td>\n",
       "      <td>POINT (-327700.774 160509.093)</td>\n",
       "      <td>POINT (-327700.774 160509.093)</td>\n",
       "      <td>26612.702170</td>\n",
       "    </tr>\n",
       "    <tr>\n",
       "      <th>...</th>\n",
       "      <td>...</td>\n",
       "      <td>...</td>\n",
       "      <td>...</td>\n",
       "      <td>...</td>\n",
       "    </tr>\n",
       "    <tr>\n",
       "      <th>122435</th>\n",
       "      <td>1.0</td>\n",
       "      <td>POINT (-324077.427 174277.317)</td>\n",
       "      <td>POINT (-324077.427 174277.317)</td>\n",
       "      <td>13249.580751</td>\n",
       "    </tr>\n",
       "    <tr>\n",
       "      <th>88433</th>\n",
       "      <td>1.0</td>\n",
       "      <td>POINT (-323229.960 177776.695)</td>\n",
       "      <td>POINT (-323229.960 177776.695)</td>\n",
       "      <td>10206.092570</td>\n",
       "    </tr>\n",
       "    <tr>\n",
       "      <th>29485</th>\n",
       "      <td>1.0</td>\n",
       "      <td>POINT (-324400.107 183943.345)</td>\n",
       "      <td>POINT (-324400.107 183943.345)</td>\n",
       "      <td>4326.733478</td>\n",
       "    </tr>\n",
       "    <tr>\n",
       "      <th>4547</th>\n",
       "      <td>1.0</td>\n",
       "      <td>POINT (-324532.413 186536.371)</td>\n",
       "      <td>POINT (-324532.413 186536.371)</td>\n",
       "      <td>2865.933776</td>\n",
       "    </tr>\n",
       "    <tr>\n",
       "      <th>2280</th>\n",
       "      <td>1.0</td>\n",
       "      <td>POINT (-324523.035 186771.201)</td>\n",
       "      <td>POINT (-324523.035 186771.201)</td>\n",
       "      <td>2836.837913</td>\n",
       "    </tr>\n",
       "  </tbody>\n",
       "</table>\n",
       "<p>67 rows × 4 columns</p>\n",
       "</div>"
      ],
      "text/plain": [
       "         grid_code                        geometry  \\\n",
       "pointid                                              \n",
       "299245         1.0  POINT (-328589.703 156058.796)   \n",
       "281110         1.0  POINT (-328277.478 157935.423)   \n",
       "281109         1.0  POINT (-328513.720 157944.936)   \n",
       "269776         1.0  POINT (-327993.825 159104.515)   \n",
       "256175         1.0  POINT (-327700.774 160509.093)   \n",
       "...            ...                             ...   \n",
       "122435         1.0  POINT (-324077.427 174277.317)   \n",
       "88433          1.0  POINT (-323229.960 177776.695)   \n",
       "29485          1.0  POINT (-324400.107 183943.345)   \n",
       "4547           1.0  POINT (-324532.413 186536.371)   \n",
       "2280           1.0  POINT (-324523.035 186771.201)   \n",
       "\n",
       "                             point_geom      distance  \n",
       "pointid                                                \n",
       "299245   POINT (-328589.703 156058.796)  31085.725136  \n",
       "281110   POINT (-328277.478 157935.423)  29199.009447  \n",
       "281109   POINT (-328513.720 157944.936)  29198.055622  \n",
       "269776   POINT (-327993.825 159104.515)  28022.478282  \n",
       "256175   POINT (-327700.774 160509.093)  26612.702170  \n",
       "...                                 ...           ...  \n",
       "122435   POINT (-324077.427 174277.317)  13249.580751  \n",
       "88433    POINT (-323229.960 177776.695)  10206.092570  \n",
       "29485    POINT (-324400.107 183943.345)   4326.733478  \n",
       "4547     POINT (-324532.413 186536.371)   2865.933776  \n",
       "2280     POINT (-324523.035 186771.201)   2836.837913  \n",
       "\n",
       "[67 rows x 4 columns]"
      ]
     },
     "execution_count": 45,
     "metadata": {},
     "output_type": "execute_result"
    }
   ],
   "source": [
    "one_clipped"
   ]
  },
  {
   "cell_type": "raw",
   "id": "af33a44d-6a57-4a41-9d35-dbf4883f93a6",
   "metadata": {},
   "source": [
    "# Decay-weight opportunities by travel time\n",
    "# Define travel speed (in MPH)\n",
    "speed <- 10\n",
    "# Define time cutoff (in minutes)\n",
    "cutoff <- 60\n",
    "intersected_points <- as.data.frame(intersected_points) %>%\n",
    "mutate(decay_weighted_opps = grid_code * exp(log(0.5) / (cutoff * 60) * (((60 * dist * 0.000621371) / speed) * 60)))\n",
    "\n",
    "# Sum decay-weighted opportunities by origin\n",
    "access <- sum(intersected_points$decay_weighted_opps)\n",
    "access_df <- data.frame(origin, access)\n",
    "\n",
    "out <- rbind.data.frame(access_df, out)"
   ]
  },
  {
   "cell_type": "code",
   "execution_count": 35,
   "id": "61970d24-2ebe-4225-bfcb-41c05b076448",
   "metadata": {},
   "outputs": [],
   "source": [
    "import math"
   ]
  },
  {
   "cell_type": "code",
   "execution_count": 34,
   "id": "c9ed313d-7c16-467e-8945-59f13aaac682",
   "metadata": {},
   "outputs": [],
   "source": [
    "speed, cutoff = 10, 60"
   ]
  },
  {
   "cell_type": "code",
   "execution_count": 40,
   "id": "a2af8b12-6593-4dbf-971b-2f69d2c31c2e",
   "metadata": {},
   "outputs": [],
   "source": [
    "def decay_weight_opportunity(row):\n",
    "    \n",
    "    decay_factor = math.e ** (math.log(0.5) / (cutoff * 60) * (((60 * row.distance * 0.000621371) / speed) * 60))\n",
    "    row['decay_weighted_opps'] = row.grid_code * decay_factor\n",
    "    return row"
   ]
  },
  {
   "cell_type": "code",
   "execution_count": 42,
   "id": "0a16b33e-a3a2-4d05-a7ca-cf0d1a989112",
   "metadata": {},
   "outputs": [
    {
     "name": "stdout",
     "output_type": "stream",
     "text": [
      "37.8 ms ± 438 µs per loop (mean ± std. dev. of 7 runs, 10 loops each)\n"
     ]
    }
   ],
   "source": [
    "%%timeit\n",
    "one_clipped.apply(decay_weight_opportunity, axis = 1)"
   ]
  },
  {
   "cell_type": "code",
   "execution_count": 49,
   "id": "36097c13-fc61-468f-b747-aabb2446aec0",
   "metadata": {},
   "outputs": [
    {
     "data": {
      "text/plain": [
       "29.935279499999996"
      ]
     },
     "execution_count": 49,
     "metadata": {},
     "output_type": "execute_result"
    }
   ],
   "source": [
    "each_weight_ms = 37.8 # from timeit\n",
    "weight_sec = central.shape[0] * each_weight_ms * 10**-3\n",
    "\n",
    "weight_hours = weight_sec / 60**2\n",
    "weight_hours"
   ]
  },
  {
   "cell_type": "code",
   "execution_count": 66,
   "id": "f7eaea13-0be0-4708-8a3c-a7c78140e109",
   "metadata": {},
   "outputs": [],
   "source": [
    "one_clipped = one_clipped.apply(decay_weight_opportunity, axis = 1)"
   ]
  },
  {
   "cell_type": "code",
   "execution_count": 67,
   "id": "a08f501a-bdbd-4ad3-b7a9-c0b56130b4c7",
   "metadata": {},
   "outputs": [
    {
     "data": {
      "text/html": [
       "<div>\n",
       "<style scoped>\n",
       "    .dataframe tbody tr th:only-of-type {\n",
       "        vertical-align: middle;\n",
       "    }\n",
       "\n",
       "    .dataframe tbody tr th {\n",
       "        vertical-align: top;\n",
       "    }\n",
       "\n",
       "    .dataframe thead th {\n",
       "        text-align: right;\n",
       "    }\n",
       "</style>\n",
       "<table border=\"1\" class=\"dataframe\">\n",
       "  <thead>\n",
       "    <tr style=\"text-align: right;\">\n",
       "      <th></th>\n",
       "      <th>grid_code</th>\n",
       "      <th>geometry</th>\n",
       "      <th>point_geom</th>\n",
       "      <th>distance</th>\n",
       "      <th>decay_weighted_opps</th>\n",
       "    </tr>\n",
       "    <tr>\n",
       "      <th>pointid</th>\n",
       "      <th></th>\n",
       "      <th></th>\n",
       "      <th></th>\n",
       "      <th></th>\n",
       "      <th></th>\n",
       "    </tr>\n",
       "  </thead>\n",
       "  <tbody>\n",
       "    <tr>\n",
       "      <th>299245</th>\n",
       "      <td>1.0</td>\n",
       "      <td>POINT (-328589.703 156058.796)</td>\n",
       "      <td>POINT (-328589.7027530935 156058.7964954544)</td>\n",
       "      <td>31085.725136</td>\n",
       "      <td>0.262143</td>\n",
       "    </tr>\n",
       "    <tr>\n",
       "      <th>281110</th>\n",
       "      <td>1.0</td>\n",
       "      <td>POINT (-328277.478 157935.423)</td>\n",
       "      <td>POINT (-328277.47819791455 157935.42259707302)</td>\n",
       "      <td>29199.009447</td>\n",
       "      <td>0.284334</td>\n",
       "    </tr>\n",
       "    <tr>\n",
       "      <th>281109</th>\n",
       "      <td>1.0</td>\n",
       "      <td>POINT (-328513.720 157944.936)</td>\n",
       "      <td>POINT (-328513.71974135406 157944.93614463136)</td>\n",
       "      <td>29198.055622</td>\n",
       "      <td>0.284346</td>\n",
       "    </tr>\n",
       "    <tr>\n",
       "      <th>269776</th>\n",
       "      <td>1.0</td>\n",
       "      <td>POINT (-327993.825 159104.515)</td>\n",
       "      <td>POINT (-327993.8249839457 159104.51514123473)</td>\n",
       "      <td>28022.478282</td>\n",
       "      <td>0.299113</td>\n",
       "    </tr>\n",
       "    <tr>\n",
       "      <th>256175</th>\n",
       "      <td>1.0</td>\n",
       "      <td>POINT (-327700.774 160509.093)</td>\n",
       "      <td>POINT (-327700.7741634822 160509.09282183833)</td>\n",
       "      <td>26612.702170</td>\n",
       "      <td>0.317838</td>\n",
       "    </tr>\n",
       "    <tr>\n",
       "      <th>...</th>\n",
       "      <td>...</td>\n",
       "      <td>...</td>\n",
       "      <td>...</td>\n",
       "      <td>...</td>\n",
       "      <td>...</td>\n",
       "    </tr>\n",
       "    <tr>\n",
       "      <th>122435</th>\n",
       "      <td>1.0</td>\n",
       "      <td>POINT (-324077.427 174277.317)</td>\n",
       "      <td>POINT (-324077.4269945271 174277.31736346334)</td>\n",
       "      <td>13249.580751</td>\n",
       "      <td>0.565151</td>\n",
       "    </tr>\n",
       "    <tr>\n",
       "      <th>88433</th>\n",
       "      <td>1.0</td>\n",
       "      <td>POINT (-323229.960 177776.695)</td>\n",
       "      <td>POINT (-323229.9601252843 177776.69520912413)</td>\n",
       "      <td>10206.092570</td>\n",
       "      <td>0.644308</td>\n",
       "    </tr>\n",
       "    <tr>\n",
       "      <th>29485</th>\n",
       "      <td>1.0</td>\n",
       "      <td>POINT (-324400.107 183943.345)</td>\n",
       "      <td>POINT (-324400.10666450474 183943.34467456443)</td>\n",
       "      <td>4326.733478</td>\n",
       "      <td>0.829980</td>\n",
       "    </tr>\n",
       "    <tr>\n",
       "      <th>4547</th>\n",
       "      <td>1.0</td>\n",
       "      <td>POINT (-324532.413 186536.371)</td>\n",
       "      <td>POINT (-324532.4132057393 186536.3710456635)</td>\n",
       "      <td>2865.933776</td>\n",
       "      <td>0.883878</td>\n",
       "    </tr>\n",
       "    <tr>\n",
       "      <th>2280</th>\n",
       "      <td>1.0</td>\n",
       "      <td>POINT (-324523.035 186771.201)</td>\n",
       "      <td>POINT (-324523.03485150874 186771.2012995747)</td>\n",
       "      <td>2836.837913</td>\n",
       "      <td>0.884986</td>\n",
       "    </tr>\n",
       "  </tbody>\n",
       "</table>\n",
       "<p>67 rows × 5 columns</p>\n",
       "</div>"
      ],
      "text/plain": [
       "         grid_code                        geometry  \\\n",
       "pointid                                              \n",
       "299245         1.0  POINT (-328589.703 156058.796)   \n",
       "281110         1.0  POINT (-328277.478 157935.423)   \n",
       "281109         1.0  POINT (-328513.720 157944.936)   \n",
       "269776         1.0  POINT (-327993.825 159104.515)   \n",
       "256175         1.0  POINT (-327700.774 160509.093)   \n",
       "...            ...                             ...   \n",
       "122435         1.0  POINT (-324077.427 174277.317)   \n",
       "88433          1.0  POINT (-323229.960 177776.695)   \n",
       "29485          1.0  POINT (-324400.107 183943.345)   \n",
       "4547           1.0  POINT (-324532.413 186536.371)   \n",
       "2280           1.0  POINT (-324523.035 186771.201)   \n",
       "\n",
       "                                             point_geom      distance  \\\n",
       "pointid                                                                 \n",
       "299245     POINT (-328589.7027530935 156058.7964954544)  31085.725136   \n",
       "281110   POINT (-328277.47819791455 157935.42259707302)  29199.009447   \n",
       "281109   POINT (-328513.71974135406 157944.93614463136)  29198.055622   \n",
       "269776    POINT (-327993.8249839457 159104.51514123473)  28022.478282   \n",
       "256175    POINT (-327700.7741634822 160509.09282183833)  26612.702170   \n",
       "...                                                 ...           ...   \n",
       "122435    POINT (-324077.4269945271 174277.31736346334)  13249.580751   \n",
       "88433     POINT (-323229.9601252843 177776.69520912413)  10206.092570   \n",
       "29485    POINT (-324400.10666450474 183943.34467456443)   4326.733478   \n",
       "4547       POINT (-324532.4132057393 186536.3710456635)   2865.933776   \n",
       "2280      POINT (-324523.03485150874 186771.2012995747)   2836.837913   \n",
       "\n",
       "         decay_weighted_opps  \n",
       "pointid                       \n",
       "299245              0.262143  \n",
       "281110              0.284334  \n",
       "281109              0.284346  \n",
       "269776              0.299113  \n",
       "256175              0.317838  \n",
       "...                      ...  \n",
       "122435              0.565151  \n",
       "88433               0.644308  \n",
       "29485               0.829980  \n",
       "4547                0.883878  \n",
       "2280                0.884986  \n",
       "\n",
       "[67 rows x 5 columns]"
      ]
     },
     "execution_count": 67,
     "metadata": {},
     "output_type": "execute_result"
    }
   ],
   "source": [
    "one_clipped"
   ]
  },
  {
   "cell_type": "code",
   "execution_count": 72,
   "id": "72596fb3-553c-4af3-9053-359bea3f18d6",
   "metadata": {},
   "outputs": [
    {
     "data": {
      "text/plain": [
       "57.5342901693008"
      ]
     },
     "execution_count": 72,
     "metadata": {},
     "output_type": "execute_result"
    }
   ],
   "source": [
    "# answer for one row...\n",
    "one_sum = one_clipped.decay_weighted_opps.sum()\n",
    "one_sum"
   ]
  },
  {
   "cell_type": "markdown",
   "id": "9f807836-8dc1-46e0-a210-241b49dcebba",
   "metadata": {},
   "source": [
    "## How long does it take?"
   ]
  },
  {
   "cell_type": "code",
   "execution_count": 60,
   "id": "0973b1a4-4a03-4935-9962-d939549f53cd",
   "metadata": {},
   "outputs": [],
   "source": [
    "central_hours = clip_hours + dist_hours + weight_hours"
   ]
  },
  {
   "cell_type": "code",
   "execution_count": 61,
   "id": "25aea881-8657-4a3a-8614-bb1190b7dca3",
   "metadata": {},
   "outputs": [
    {
     "data": {
      "text/plain": [
       "41.89672028222222"
      ]
     },
     "execution_count": 61,
     "metadata": {},
     "output_type": "execute_result"
    }
   ],
   "source": [
    "central_hours"
   ]
  },
  {
   "cell_type": "code",
   "execution_count": 62,
   "id": "ed9ca3f5-cb7d-4ca6-bae5-893bee046e2d",
   "metadata": {},
   "outputs": [],
   "source": [
    "central_proportion = central.shape[0] / (nor.shape[0] + so.shape[0] + mo.shape[0] + central.shape[0])"
   ]
  },
  {
   "cell_type": "code",
   "execution_count": 63,
   "id": "10c054f2-e1b7-4b27-aba1-3838147aa0f4",
   "metadata": {},
   "outputs": [],
   "source": [
    "total_hours = central_hours * 1/central_proportion"
   ]
  },
  {
   "cell_type": "code",
   "execution_count": 64,
   "id": "0d381d68-46bd-42ec-bf58-c35610de7850",
   "metadata": {},
   "outputs": [
    {
     "data": {
      "text/plain": [
       "122.32880233777777"
      ]
     },
     "execution_count": 64,
     "metadata": {},
     "output_type": "execute_result"
    }
   ],
   "source": [
    "total_hours"
   ]
  },
  {
   "cell_type": "code",
   "execution_count": 65,
   "id": "021e08cb-b82c-4030-9af2-167f72eb6866",
   "metadata": {},
   "outputs": [
    {
     "data": {
      "text/plain": [
       "5.097033430740741"
      ]
     },
     "execution_count": 65,
     "metadata": {},
     "output_type": "execute_result"
    }
   ],
   "source": [
    "total_days = total_hours / 24\n",
    "total_days"
   ]
  }
 ],
 "metadata": {
  "kernelspec": {
   "display_name": "Python 3 (ipykernel)",
   "language": "python",
   "name": "python3"
  },
  "language_info": {
   "codemirror_mode": {
    "name": "ipython",
    "version": 3
   },
   "file_extension": ".py",
   "mimetype": "text/x-python",
   "name": "python",
   "nbconvert_exporter": "python",
   "pygments_lexer": "ipython3",
   "version": "3.9.13"
  },
  "widgets": {
   "application/vnd.jupyter.widget-state+json": {
    "state": {},
    "version_major": 2,
    "version_minor": 0
   }
  }
 },
 "nbformat": 4,
 "nbformat_minor": 5
}
