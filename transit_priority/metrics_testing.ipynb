{
 "cells": [
  {
   "cell_type": "code",
   "execution_count": null,
   "id": "537362ec-82ae-4ee7-976d-873aced2a03a",
   "metadata": {},
   "outputs": [],
   "source": [
    "import geopandas as gpd\n",
    "import pandas as pd\n",
    "from siuba import *"
   ]
  },
  {
   "cell_type": "markdown",
   "id": "ec688d95-b346-40b9-94fd-b063c461c3b4",
   "metadata": {},
   "source": [
    "# Ad-hoc Transit Priority Rankings\n",
    "\n",
    "* unwieldy given combinination of overlapping corridors, temporal differences, external metrics (accessibility+ridership)\n",
    "* we don't currently expect to repeat this process, if we do we should find a way to streamline\n",
    "* accessibility data via Conveyal and external post-processing tool, resulting csv also includes manually researched ridership munbers"
   ]
  },
  {
   "cell_type": "markdown",
   "id": "4f8bf6e0-70d3-45cf-ae28-db9ed123782a",
   "metadata": {},
   "source": [
    "# project sources\n",
    "\n",
    "## dropped/excluded\n",
    "\n",
    "* US 50 (withdrawn)\n",
    "* US 101 Marin (minimal accessibility/speed benefits, worthwhile project better analyzed in another context)\n",
    "* MST reroute (apparent marginal/negative benefits, institutional barriers to relocating/adding service)"
   ]
  },
  {
   "cell_type": "markdown",
   "id": "6b8ab392-d028-430a-aafb-a906a3959785",
   "metadata": {},
   "source": [
    "# read and aggregate"
   ]
  },
  {
   "cell_type": "markdown",
   "id": "a1218aa1-3ce7-4d76-ad3a-0640da87f0bb",
   "metadata": {},
   "source": [
    "## original metrics from two cycles of engagement with districts"
   ]
  },
  {
   "cell_type": "code",
   "execution_count": null,
   "id": "5a7dea99-b0af-4333-8358-6e3996742515",
   "metadata": {},
   "outputs": [],
   "source": [
    "first_set = gpd.read_file('./june16_corridor_metrics_speeds.geojson')\n",
    "first_set = first_set >> filter(-_.corridor.str.contains('us50')) #dropped by dist\n",
    "first_set = first_set >> filter(-_.corridor.str.contains('us101_lombard')) #has hov lane\n",
    "first_set['submission_round'] = 1"
   ]
  },
  {
   "cell_type": "code",
   "execution_count": null,
   "id": "f72389aa-7bf3-43d2-96b8-00c76cfd0c69",
   "metadata": {},
   "outputs": [],
   "source": [
    "(first_set >> select(-_.geometry)).to_csv('pending_accessibility.csv')"
   ]
  },
  {
   "cell_type": "code",
   "execution_count": null,
   "id": "11e52687-3f5b-4326-8480-46b346c300b9",
   "metadata": {},
   "outputs": [],
   "source": [
    "second_set = gpd.read_file('./sep9_corridor_metrics_speeds.geojson')\n",
    "second_set['submission_round'] = 2"
   ]
  },
  {
   "cell_type": "markdown",
   "id": "e30601f5-c18e-4467-9838-0e9cbbf03e87",
   "metadata": {},
   "source": [
    "## combine bbb and Metro"
   ]
  },
  {
   "cell_type": "code",
   "execution_count": null,
   "id": "9441a517-2df4-4827-888e-ce9aba7cee36",
   "metadata": {},
   "outputs": [],
   "source": [
    "smbbb = gpd.read_parquet('./sep9_big_blue_bus_sr2.parquet')"
   ]
  },
  {
   "cell_type": "code",
   "execution_count": null,
   "id": "97dd18d3-af16-49c2-90b0-814e5fdc90ff",
   "metadata": {},
   "outputs": [],
   "source": [
    "smbbb.corridor = smbbb.corridor.map(lambda x: x[4:])"
   ]
  },
  {
   "cell_type": "code",
   "execution_count": null,
   "id": "048aa0dd-feda-4463-ae43-69122ca49264",
   "metadata": {},
   "outputs": [],
   "source": [
    "metro = second_set >> filter(_.corridor.str.contains('sr2'))"
   ]
  },
  {
   "cell_type": "code",
   "execution_count": null,
   "id": "491fbd3a-a30a-4a2c-8962-80c3d8dc6636",
   "metadata": {},
   "outputs": [],
   "source": [
    "df1 = metro >> select(_.corridor, _.total_speed_delay, _.n_trips, _.trips_added)\n",
    "df2 = smbbb >> select(_.corridor, _.total_speed_delay, _.n_trips, _.trips_added)"
   ]
  },
  {
   "cell_type": "code",
   "execution_count": null,
   "id": "5161689c-ca86-47a7-b613-1e8d1ec73f94",
   "metadata": {},
   "outputs": [],
   "source": [
    "grouped = pd.concat([df1, df2]).groupby('corridor').sum().reset_index()"
   ]
  },
  {
   "cell_type": "code",
   "execution_count": null,
   "id": "4187b9fb-cf19-4106-b584-9e09a4a5c72c",
   "metadata": {},
   "outputs": [],
   "source": [
    "grouped"
   ]
  },
  {
   "cell_type": "code",
   "execution_count": null,
   "id": "2f5f3984-c134-4061-ac51-bbc0a41e975e",
   "metadata": {},
   "outputs": [],
   "source": [
    "sr2_all = second_set >> filter(_.corridor.str.contains('sr2')) >> select(-_.total_speed_delay, -_.n_trips, -_.trips_added)"
   ]
  },
  {
   "cell_type": "code",
   "execution_count": null,
   "id": "0ba4dbd6-eeb4-4fb5-94aa-c824b87a448d",
   "metadata": {},
   "outputs": [],
   "source": [
    "sr2_all = sr2_all >> inner_join(_, grouped, on = 'corridor')"
   ]
  },
  {
   "cell_type": "code",
   "execution_count": null,
   "id": "582a5076-dabf-477a-9f7d-0c68f7c94797",
   "metadata": {},
   "outputs": [],
   "source": [
    "no_sr2 = second_set >> filter(-_.corridor.str.contains('sr2'))"
   ]
  },
  {
   "cell_type": "code",
   "execution_count": null,
   "id": "caff67a3-5ce7-4e1b-bafd-a1ed91157a3c",
   "metadata": {},
   "outputs": [],
   "source": [
    "second_set = pd.concat([no_sr2, sr2_all])"
   ]
  },
  {
   "cell_type": "code",
   "execution_count": null,
   "id": "8c26f5e8-929a-4e16-8a54-18b1c986da9b",
   "metadata": {},
   "outputs": [],
   "source": [
    "access_results = pd.read_csv('./AccessibilityResults.csv')"
   ]
  },
  {
   "cell_type": "code",
   "execution_count": null,
   "id": "62321092-c1f4-4067-b52c-6f9454209c99",
   "metadata": {},
   "outputs": [],
   "source": [
    "first_set >> head(3)"
   ]
  },
  {
   "cell_type": "code",
   "execution_count": null,
   "id": "ecb38950-2dbe-4362-a164-4c0fc1df27f5",
   "metadata": {},
   "outputs": [],
   "source": [
    "second_set >> head(3)"
   ]
  },
  {
   "cell_type": "code",
   "execution_count": null,
   "id": "68a89f54-3615-4cff-a893-ffa2329c6715",
   "metadata": {},
   "outputs": [],
   "source": [
    "all_corridors = pd.concat([first_set, second_set])"
   ]
  },
  {
   "cell_type": "code",
   "execution_count": null,
   "id": "6bd92ff3-0ae2-463e-8201-39a94c685296",
   "metadata": {},
   "outputs": [],
   "source": [
    "all_grouped = (all_corridors >> group_by(_.corridor, _.organization, _.submission_round)  # length and span cause fan-out, re-add later...\n",
    "               >> summarize(sum_trips =_.n_trips.sum(), total_delay = _.total_speed_delay.max())\n",
    "               >> mutate(avg_delay_minutes = _.total_delay / _.sum_trips)\n",
    ")"
   ]
  },
  {
   "cell_type": "markdown",
   "id": "e91cb470-e608-48b2-bc02-2749e75cc6bc",
   "metadata": {},
   "source": [
    "## note: don't sum/aggregate accessibility results within a corridor"
   ]
  },
  {
   "cell_type": "code",
   "execution_count": null,
   "id": "ecc497a3-be3a-4460-88de-fbd8d5495b9d",
   "metadata": {},
   "outputs": [],
   "source": [
    "rider_access_joined = all_grouped >> left_join(_, access_results, on=['corridor', 'submission_round'])"
   ]
  },
  {
   "cell_type": "markdown",
   "id": "7fb0d8ac-f027-4633-9401-893d9b32c4b8",
   "metadata": {},
   "source": [
    "# Adding ridership (added to accessibility csv)\n",
    "\n",
    "## apportioning ridership for partial-hour bus lane on sr2\n",
    "\n",
    "* evenly during daytime hours (0500 - 2200), match post-covid trends of less peaking\n",
    "* 22,669 daily for entire corr\n",
    "* \n",
    "\n",
    "## notes\n",
    "* for SDMTS, sum ridership from routes 60, 235, 225"
   ]
  },
  {
   "cell_type": "code",
   "execution_count": null,
   "id": "36324c93-cf5b-4c1b-94fe-d3a6c40aae9c",
   "metadata": {},
   "outputs": [],
   "source": [
    "metro_4_ridership = 22669\n",
    "bbb_1_ridership = 5747\n",
    "riders_per_hour = (metro_4_ridership + bbb_1_ridership) / (22 - 5)"
   ]
  },
  {
   "cell_type": "code",
   "execution_count": null,
   "id": "f192dcd7-d066-4470-975f-31b2a11293e3",
   "metadata": {},
   "outputs": [],
   "source": [
    "rider_estimates = (second_set >> filter(_.corridor.str.contains('sr2'))\n",
    " >> select(_.corridor, _.span_hours, _.submission_round)\n",
    " >> mutate(daily_riders = _.span_hours * riders_per_hour)\n",
    " >> select(-_.span_hours)\n",
    ")\n",
    "rider_estimates"
   ]
  },
  {
   "cell_type": "code",
   "execution_count": null,
   "id": "e8b3f125-d59d-4afd-bdd7-ac95800b683b",
   "metadata": {},
   "outputs": [],
   "source": [
    "rider_access_joined = rider_access_joined >> left_join(_, rider_estimates, on =['corridor', 'submission_round'])"
   ]
  },
  {
   "cell_type": "code",
   "execution_count": null,
   "id": "83b7ab5d-d897-4ce8-8400-f8ee574ca51c",
   "metadata": {},
   "outputs": [],
   "source": [
    "rider_access_joined['daily_riders'] = rider_access_joined.daily_riders_x.fillna(rider_access_joined.daily_riders_y)"
   ]
  },
  {
   "cell_type": "code",
   "execution_count": null,
   "id": "e6326609-59f2-4212-a901-3fbf5c357ba3",
   "metadata": {},
   "outputs": [],
   "source": [
    "rider_access_joined = rider_access_joined >> select(-_.daily_riders_x, -_.daily_riders_y)"
   ]
  },
  {
   "cell_type": "markdown",
   "id": "bdd60f8a-701d-4e84-b25e-90009e5dd351",
   "metadata": {},
   "source": [
    "# Create defined projects from disaggregated sr2"
   ]
  },
  {
   "cell_type": "code",
   "execution_count": null,
   "id": "9bea0b2d-3cdb-4815-b228-c959c493a5e3",
   "metadata": {},
   "outputs": [],
   "source": [
    "df = rider_access_joined >> filter(_.corridor.str.contains('sr2'), _.submission_round == 2)"
   ]
  },
  {
   "cell_type": "code",
   "execution_count": null,
   "id": "3299c9f9-c836-4f6a-84dd-1a8152616726",
   "metadata": {},
   "outputs": [],
   "source": [
    "df"
   ]
  },
  {
   "cell_type": "code",
   "execution_count": null,
   "id": "a945eb3d-54ac-4935-b1af-8a38ef064479",
   "metadata": {},
   "outputs": [],
   "source": [
    "def df_combined(filtered_df, corridor):\n",
    "    df2 = filtered_df[['sum_trips', 'total_delay', 'daily_riders']].sum()\n",
    "    df2['avg_delay_minutes'] = df2.total_delay / df2.sum_trips\n",
    "    df2['corridor'] = corridor\n",
    "    df2_dict = df2.to_dict()\n",
    "    unchanged_series = (filtered_df >> select(-_.sum_trips, -_.total_delay, -_.daily_riders, -_.avg_delay_minutes, -_.corridor)).iloc[0,:]\n",
    "    unchanged_dict = unchanged_series.to_dict()\n",
    "    merged_dict = df2_dict | unchanged_dict\n",
    "    merged_df = pd.DataFrame(merged_dict, index=[99])\n",
    "    return merged_df"
   ]
  },
  {
   "cell_type": "code",
   "execution_count": null,
   "id": "a1b291d7-c741-4829-b9b6-baed16febc51",
   "metadata": {},
   "outputs": [],
   "source": [
    "all_day_df = df_combined(df, 'sr2_all_day')"
   ]
  },
  {
   "cell_type": "code",
   "execution_count": null,
   "id": "d900619f-4f96-438f-97ee-fb97bf3a7559",
   "metadata": {},
   "outputs": [],
   "source": [
    "peak_only_df = df_combined(df >> filter(_.corridor.isin(['sr2_am', 'sr2_pm'])), 'sr2_peak')"
   ]
  },
  {
   "cell_type": "code",
   "execution_count": null,
   "id": "f4a72c83-2a81-475c-b72a-39a065d9136c",
   "metadata": {},
   "outputs": [],
   "source": [
    "with_sr2 = pd.concat([rider_access_joined, all_day_df, peak_only_df]).reset_index(drop=True)"
   ]
  },
  {
   "cell_type": "code",
   "execution_count": null,
   "id": "ec32fdbe-2b4b-41a4-a549-a58b263c0c2d",
   "metadata": {},
   "outputs": [],
   "source": [
    "sr2_precursors = ['sr2_am', 'sr2_pm', 'sr2_early_am', 'sr2_eve', 'sr2_mid']"
   ]
  },
  {
   "cell_type": "code",
   "execution_count": null,
   "id": "3cbcf341-64bd-4f7d-8ed9-15ef5725bf60",
   "metadata": {},
   "outputs": [],
   "source": [
    "eval_df = with_sr2 >> filter(-_.corridor.isin(sr2_precursors))"
   ]
  },
  {
   "cell_type": "markdown",
   "id": "3d4acc81-299d-4d27-9a93-d680b426ccdf",
   "metadata": {},
   "source": [
    "# Testing metrics"
   ]
  },
  {
   "cell_type": "code",
   "execution_count": null,
   "id": "1833ed5d-628d-4a23-aa35-6defec77004c",
   "metadata": {},
   "outputs": [],
   "source": [
    "eval_df.columns"
   ]
  },
  {
   "cell_type": "code",
   "execution_count": null,
   "id": "e85168da-0aa8-4d0e-94e1-9730abd5276f",
   "metadata": {},
   "outputs": [],
   "source": [
    "eval_df = (eval_df >> mutate(rider_minutes_delay = _.avg_delay_minutes * _.daily_riders)\n",
    "         >> select(_.corridor, _.organization, _.submission_round,\n",
    "                   _.weighted_avg_change_access_Jobs, _.weighted_avg_change_access_POIs,\n",
    "                   _.avg_pct_chng_access,\n",
    "                   _.pct_li_sub50k, _.daily_riders, _.rider_minutes_delay\n",
    "                  )\n",
    "         >> select(-_.weighted_avg_change_access_POIs)\n",
    ")"
   ]
  },
  {
   "cell_type": "code",
   "execution_count": null,
   "id": "30a95cd2-49ea-4830-86cd-42211e81b74a",
   "metadata": {},
   "outputs": [],
   "source": [
    "eval_df >> filter(_.daily_riders.isna())"
   ]
  },
  {
   "cell_type": "code",
   "execution_count": null,
   "id": "4b39c7bc-07f3-45ce-b2f8-a50db787aba3",
   "metadata": {},
   "outputs": [],
   "source": [
    "eval_df = eval_df.dropna()"
   ]
  },
  {
   "cell_type": "code",
   "execution_count": null,
   "id": "80fda105-1ca7-462f-94bc-c66c4cdba4f8",
   "metadata": {},
   "outputs": [],
   "source": [
    "nineteenth = eval_df >> filter(_.corridor.str.contains('sr1_19th'))"
   ]
  },
  {
   "cell_type": "code",
   "execution_count": null,
   "id": "707691f0-410f-4e12-90b0-9890ffe093ea",
   "metadata": {},
   "outputs": [],
   "source": [
    "nineteenth.rider_minutes_delay = nineteenth.rider_minutes_delay.sum()"
   ]
  },
  {
   "cell_type": "code",
   "execution_count": null,
   "id": "048e678a-483f-4bb3-8aca-2db41f7d58ac",
   "metadata": {},
   "outputs": [],
   "source": [
    "nineteenth.corridor = 'sr1_19th'"
   ]
  },
  {
   "cell_type": "code",
   "execution_count": null,
   "id": "c33511f0-0aed-4418-a676-85ec6ca1ddb1",
   "metadata": {},
   "outputs": [],
   "source": [
    "eval_df = pd.concat([eval_df >> filter(-_.corridor.str.contains('sr1_19th')), nineteenth.iloc[:1,:]])"
   ]
  },
  {
   "cell_type": "code",
   "execution_count": null,
   "id": "cceab075-d088-4aee-97e4-71e13276b7a3",
   "metadata": {
    "tags": []
   },
   "outputs": [],
   "source": [
    "# eval_df"
   ]
  },
  {
   "cell_type": "markdown",
   "id": "9b4ec38b-a19d-4779-936f-31934308c776",
   "metadata": {},
   "source": [
    "# Draft ranking"
   ]
  },
  {
   "cell_type": "code",
   "execution_count": null,
   "id": "ed9df12d-d477-4082-9010-c23b1ab6a8e4",
   "metadata": {},
   "outputs": [],
   "source": [
    "from scipy import stats\n",
    "eval_df[\"pctile_access\"] = eval_df.avg_pct_chng_access.map(lambda x: stats.percentileofscore(eval_df.avg_pct_chng_access, x))\n",
    "eval_df[\"pctile_rider\"] = eval_df.daily_riders.map(lambda x: stats.percentileofscore(eval_df.daily_riders, x))\n",
    "eval_df[\"pctile_rider_delay\"] = eval_df.rider_minutes_delay.map(lambda x: stats.percentileofscore(eval_df.rider_minutes_delay, x))"
   ]
  },
  {
   "cell_type": "code",
   "execution_count": null,
   "id": "34dc8ba5-efe5-42a8-9d9b-bf4893bb4162",
   "metadata": {},
   "outputs": [],
   "source": [
    "eval_df['total_score'] = eval_df.pctile_access + eval_df.pctile_rider + eval_df.pctile_rider_delay\n",
    "# eval_df >> arrange(-_.total_score)"
   ]
  },
  {
   "cell_type": "code",
   "execution_count": null,
   "id": "2d17646f-a127-4bd9-b06e-52816d278281",
   "metadata": {},
   "outputs": [],
   "source": [
    "first_filtered = first_set >> distinct(_.corridor, _.length_miles, _.geometry)"
   ]
  },
  {
   "cell_type": "code",
   "execution_count": null,
   "id": "a11c58ca-e587-47b0-9082-0f62a23e5832",
   "metadata": {},
   "outputs": [],
   "source": [
    "second_filtered = second_set >> distinct(_.corridor, _.length_miles, _.geometry) >> filter(-_.corridor.isin(['sr2_am', 'sr2_mid', 'sr2_eve']))"
   ]
  },
  {
   "cell_type": "code",
   "execution_count": null,
   "id": "7d8d904c-3cd2-401a-8044-57c8f14b1d73",
   "metadata": {},
   "outputs": [],
   "source": [
    "# second_filtered.explore()"
   ]
  },
  {
   "cell_type": "code",
   "execution_count": null,
   "id": "2e3da8fd-1b86-4a3f-b724-a857a1ea3fa3",
   "metadata": {},
   "outputs": [],
   "source": [
    "second_filtered = second_filtered.dissolve('corridor').reset_index()"
   ]
  },
  {
   "cell_type": "code",
   "execution_count": null,
   "id": "cbfa6449-a9ac-416a-a469-7e60775ba0f8",
   "metadata": {},
   "outputs": [],
   "source": [
    "second_filtered"
   ]
  },
  {
   "cell_type": "code",
   "execution_count": null,
   "id": "733ad66d-5424-452c-9297-6340772b6f98",
   "metadata": {},
   "outputs": [],
   "source": [
    "second_filtered.corridor = second_filtered.corridor.str.replace('sr2_early_am', 'sr2_all_day')\n",
    "second_filtered.corridor = second_filtered.corridor.str.replace('sr2_pm', 'sr2_peak')"
   ]
  },
  {
   "cell_type": "code",
   "execution_count": null,
   "id": "116bf608-fcfe-42f9-b17e-2248684f7de0",
   "metadata": {},
   "outputs": [],
   "source": [
    "first_filtered.corridor = first_filtered.corridor.str.replace('sr1_19th_a', 'sr1_19th')\n",
    "first_filtered.corridor = first_filtered.corridor.str.replace('sr1_19th_b', 'sr1_19th')"
   ]
  },
  {
   "cell_type": "code",
   "execution_count": null,
   "id": "9340a658-712d-4923-8a59-bf370b3a2fa8",
   "metadata": {},
   "outputs": [],
   "source": [
    "first_filtered = first_filtered.dissolve('corridor').reset_index()"
   ]
  },
  {
   "cell_type": "code",
   "execution_count": null,
   "id": "e5b8de5d-ea86-411b-afdf-8d2950f2e6c1",
   "metadata": {},
   "outputs": [],
   "source": [
    "both_filtered = pd.concat([first_filtered, second_filtered])"
   ]
  },
  {
   "cell_type": "code",
   "execution_count": null,
   "id": "fe5b5057-0e60-4b01-a86c-72dfa962ba62",
   "metadata": {},
   "outputs": [],
   "source": [
    "from calitp_data_analysis import geography_utils"
   ]
  },
  {
   "cell_type": "code",
   "execution_count": null,
   "id": "98957b92-b366-4574-a7de-84c333d9ad53",
   "metadata": {},
   "outputs": [],
   "source": [
    "with_geom = eval_df >> left_join(_, both_filtered, on = 'corridor')\n",
    "with_geom = gpd.GeoDataFrame(with_geom, crs=geography_utils.CA_NAD83Albers)"
   ]
  },
  {
   "cell_type": "code",
   "execution_count": null,
   "id": "8014f5f5-0ee1-4448-b992-4681542a1383",
   "metadata": {},
   "outputs": [],
   "source": [
    "# with_geom.explore()"
   ]
  },
  {
   "cell_type": "markdown",
   "id": "6dfaed79-ebd1-48c0-b818-745ade45eca3",
   "metadata": {},
   "source": [
    "# Normalized draft ranking"
   ]
  },
  {
   "cell_type": "code",
   "execution_count": null,
   "id": "0acb1c77-5257-4e9c-a952-7e1a8368e202",
   "metadata": {},
   "outputs": [],
   "source": [
    "# with_geom = with_geom >> select(-_.pctile_access, -_.pctile_rider, -_.pctile_rider_delay)"
   ]
  },
  {
   "cell_type": "code",
   "execution_count": null,
   "id": "4c452240-7a94-47c2-a5ec-794fdf398968",
   "metadata": {},
   "outputs": [],
   "source": [
    "with_geom = with_geom >> mutate(access_mi = _.weighted_avg_change_access_Jobs / _.length_miles,\n",
    "                    riders_mi = _.daily_riders / _.length_miles,\n",
    "                    rider_delay_mi = _.rider_minutes_delay / _.length_miles\n",
    "                   )"
   ]
  },
  {
   "cell_type": "code",
   "execution_count": null,
   "id": "7e161e5d-ecb5-42cc-bc89-eb6b772dd053",
   "metadata": {},
   "outputs": [],
   "source": [
    "with_geom[\"pctile_access_norm\"] = with_geom.access_mi.map(lambda x: stats.percentileofscore(with_geom.access_mi, x))\n",
    "with_geom[\"pctile_rider_norm\"] = with_geom.riders_mi.map(lambda x: stats.percentileofscore(with_geom.riders_mi, x))\n",
    "with_geom[\"pctile_rider_delay_norm\"] = with_geom.rider_delay_mi.map(lambda x: stats.percentileofscore(with_geom.rider_delay_mi, x))\n",
    "\n",
    "with_geom['total_score_norm'] = with_geom.pctile_access_norm + with_geom.pctile_rider_norm + with_geom.pctile_rider_delay_norm\n",
    "# with_geom >> arrange(-_.total_score_norm)"
   ]
  },
  {
   "cell_type": "code",
   "execution_count": null,
   "id": "5b728774-4a6b-4f07-98a4-ee6526d93fc8",
   "metadata": {},
   "outputs": [],
   "source": [
    "with_geom.columns"
   ]
  },
  {
   "cell_type": "code",
   "execution_count": null,
   "id": "e9908b03-54d8-4944-b12b-6d220aca372f",
   "metadata": {},
   "outputs": [],
   "source": [
    "(with_geom >> select(-_.geometry)).to_csv('detailed_scores.csv')"
   ]
  },
  {
   "cell_type": "code",
   "execution_count": null,
   "id": "13210037-5e86-4f73-ad48-95739447272b",
   "metadata": {},
   "outputs": [],
   "source": [
    "summary = with_geom >> select(_.corridor, _.organization, _.submission_round,\n",
    "                   _.pct_li_sub50k, _.length_miles, _.total_score,\n",
    "                   _.total_score_norm\n",
    "                   )"
   ]
  },
  {
   "cell_type": "code",
   "execution_count": null,
   "id": "a090f4f4-5ff2-4384-a0a2-8bc1aedf1910",
   "metadata": {},
   "outputs": [],
   "source": [
    "summary >> arrange(-_.total_score_norm)"
   ]
  },
  {
   "cell_type": "code",
   "execution_count": null,
   "id": "f075a7d8-6c2f-41e5-9a2d-d7aaf7586ad6",
   "metadata": {},
   "outputs": [],
   "source": [
    "# (with_geom >> filter(_.corridor == 'sr123_san_pablo')).explore(tiles = \"CartoDB positron\")"
   ]
  },
  {
   "cell_type": "code",
   "execution_count": null,
   "id": "6169af37-d3a5-4a46-834f-e9246e0bc5f6",
   "metadata": {},
   "outputs": [],
   "source": [
    "# with_geom.explore(tiles = \"CartoDB positron\")"
   ]
  }
 ],
 "metadata": {
  "kernelspec": {
   "display_name": "Python 3 (ipykernel)",
   "language": "python",
   "name": "python3"
  },
  "language_info": {
   "codemirror_mode": {
    "name": "ipython",
    "version": 3
   },
   "file_extension": ".py",
   "mimetype": "text/x-python",
   "name": "python",
   "nbconvert_exporter": "python",
   "pygments_lexer": "ipython3",
   "version": "3.9.13"
  },
  "widgets": {
   "application/vnd.jupyter.widget-state+json": {
    "state": {},
    "version_major": 2,
    "version_minor": 0
   }
  }
 },
 "nbformat": 4,
 "nbformat_minor": 5
}
