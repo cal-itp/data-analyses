{
 "cells": [
  {
   "cell_type": "code",
   "execution_count": 1,
   "id": "46898b5c-b5cc-4096-ab68-8c3e42fab870",
   "metadata": {},
   "outputs": [],
   "source": [
    "%%capture\n",
    "import warnings\n",
    "warnings.filterwarnings('ignore')\n",
    "\n",
    "import os\n",
    "os.environ[\"CALITP_BQ_MAX_BYTES\"] = str(800_000_000_000)\n",
    "from shared_utils import rt_dates, rt_utils\n",
    "\n",
    "from calitp_data_analysis.tables import tbls\n",
    "import calitp_data_analysis.magics\n",
    "\n",
    "from siuba import *\n",
    "import pandas as pd\n",
    "import geopandas as gpd\n",
    "\n",
    "import datetime as dt\n",
    "\n",
    "import importlib\n",
    "from rt_analysis import rt_filter_map_plot\n",
    "# import build_speedmaps_index\n",
    "\n",
    "from IPython.display import display, Markdown, Latex, HTML\n",
    "import json"
   ]
  },
  {
   "cell_type": "code",
   "execution_count": 2,
   "id": "a639fd84-29ca-4678-b568-2b1022701e14",
   "metadata": {},
   "outputs": [],
   "source": [
    "analysis_date = dt.date.fromisoformat(rt_dates.DATES['aug2023a'])"
   ]
  },
  {
   "cell_type": "code",
   "execution_count": 3,
   "id": "47c79d99-c82f-4e1e-b11e-2b1e83c13a1b",
   "metadata": {},
   "outputs": [
    {
     "name": "stdout",
     "output_type": "stream",
     "text": [
      "{\"human_date\": \"August 23 2023 (Wednesday)\"}\n"
     ]
    }
   ],
   "source": [
    "%%capture_parameters\n",
    "human_date = analysis_date.strftime('%B %d %Y (%A)')\n",
    "human_date"
   ]
  },
  {
   "cell_type": "code",
   "execution_count": 4,
   "id": "8352dcfe-9c50-46ee-9f80-3b912440968e",
   "metadata": {},
   "outputs": [],
   "source": [
    "from tqdm.notebook import tqdm"
   ]
  },
  {
   "cell_type": "code",
   "execution_count": 5,
   "id": "db730c59-9a01-4015-aecf-3e2417fd0713",
   "metadata": {},
   "outputs": [
    {
     "data": {
      "application/vnd.jupyter.widget-view+json": {
       "model_id": "ca67c61abeb84a23bc73e4b36cfa31bf",
       "version_major": 2,
       "version_minor": 0
      },
      "text/plain": [
       "0it [00:00, ?it/s]"
      ]
     },
     "metadata": {},
     "output_type": "display_data"
    }
   ],
   "source": [
    "pbar = tqdm()"
   ]
  },
  {
   "cell_type": "markdown",
   "id": "8049ab71-3913-4d57-999d-95b56ec72387",
   "metadata": {},
   "source": [
    "# District Submissions Sep 2023\n"
   ]
  },
  {
   "cell_type": "code",
   "execution_count": 6,
   "id": "60fb513f-16f9-450f-9208-6d9416e2d864",
   "metadata": {},
   "outputs": [],
   "source": [
    "line_priority = gpd.read_file('./linear_priority_sep8.geojson')"
   ]
  },
  {
   "cell_type": "code",
   "execution_count": 7,
   "id": "1dbe7b5b-09dc-42e3-b547-0a6b19b68cb9",
   "metadata": {},
   "outputs": [],
   "source": [
    "# line_priority"
   ]
  },
  {
   "cell_type": "markdown",
   "id": "a9bce2ac-54cb-42aa-8185-0c3e35844f9a",
   "metadata": {
    "jp-MarkdownHeadingCollapsed": true,
    "tags": []
   },
   "source": [
    "## MST -- SR68 (speculative?)\n",
    "\n",
    "* TODO analyze on existing alignment..."
   ]
  },
  {
   "cell_type": "code",
   "execution_count": 8,
   "id": "661a1d98-b62a-4881-ba26-149c1409d3af",
   "metadata": {},
   "outputs": [
    {
     "data": {
      "text/plain": [
       "'•\\tAny improvements to transit priority would be welcome and they would consider shifting their Monterey to Salinas from Blanco and reservation to back to 68 w better flow. Currently MST no longer offers service along SR68 due to traffic. '"
      ]
     },
     "execution_count": 8,
     "metadata": {},
     "output_type": "execute_result"
    }
   ],
   "source": [
    "line_priority.iloc[[0]].geo_comments[0]"
   ]
  },
  {
   "cell_type": "code",
   "execution_count": 9,
   "id": "24c42ccc-8cd5-42d9-b089-24793667fbd8",
   "metadata": {},
   "outputs": [
    {
     "data": {
      "text/html": [
       "<div style=\"width:100%;\"><div style=\"position:relative;width:100%;height:0;padding-bottom:60%;\"><span style=\"color:#565656\">Make this Notebook Trusted to load map: File -> Trust Notebook</span><iframe src=\"about:blank\" style=\"position:absolute;width:100%;height:100%;left:0;top:0;border:none !important;\" data-html=%3C%21DOCTYPE%20html%3E%0A%3Chead%3E%20%20%20%20%0A%20%20%20%20%3Cmeta%20http-equiv%3D%22content-type%22%20content%3D%22text/html%3B%20charset%3DUTF-8%22%20/%3E%0A%20%20%20%20%0A%20%20%20%20%20%20%20%20%3Cscript%3E%0A%20%20%20%20%20%20%20%20%20%20%20%20L_NO_TOUCH%20%3D%20false%3B%0A%20%20%20%20%20%20%20%20%20%20%20%20L_DISABLE_3D%20%3D%20false%3B%0A%20%20%20%20%20%20%20%20%3C/script%3E%0A%20%20%20%20%0A%20%20%20%20%3Cstyle%3Ehtml%2C%20body%20%7Bwidth%3A%20100%25%3Bheight%3A%20100%25%3Bmargin%3A%200%3Bpadding%3A%200%3B%7D%3C/style%3E%0A%20%20%20%20%3Cstyle%3E%23map%20%7Bposition%3Aabsolute%3Btop%3A0%3Bbottom%3A0%3Bright%3A0%3Bleft%3A0%3B%7D%3C/style%3E%0A%20%20%20%20%3Cscript%20src%3D%22https%3A//cdn.jsdelivr.net/npm/leaflet%401.6.0/dist/leaflet.js%22%3E%3C/script%3E%0A%20%20%20%20%3Cscript%20src%3D%22https%3A//code.jquery.com/jquery-1.12.4.min.js%22%3E%3C/script%3E%0A%20%20%20%20%3Cscript%20src%3D%22https%3A//maxcdn.bootstrapcdn.com/bootstrap/3.2.0/js/bootstrap.min.js%22%3E%3C/script%3E%0A%20%20%20%20%3Cscript%20src%3D%22https%3A//cdnjs.cloudflare.com/ajax/libs/Leaflet.awesome-markers/2.0.2/leaflet.awesome-markers.js%22%3E%3C/script%3E%0A%20%20%20%20%3Clink%20rel%3D%22stylesheet%22%20href%3D%22https%3A//cdn.jsdelivr.net/npm/leaflet%401.6.0/dist/leaflet.css%22/%3E%0A%20%20%20%20%3Clink%20rel%3D%22stylesheet%22%20href%3D%22https%3A//maxcdn.bootstrapcdn.com/bootstrap/3.2.0/css/bootstrap.min.css%22/%3E%0A%20%20%20%20%3Clink%20rel%3D%22stylesheet%22%20href%3D%22https%3A//maxcdn.bootstrapcdn.com/bootstrap/3.2.0/css/bootstrap-theme.min.css%22/%3E%0A%20%20%20%20%3Clink%20rel%3D%22stylesheet%22%20href%3D%22https%3A//maxcdn.bootstrapcdn.com/font-awesome/4.6.3/css/font-awesome.min.css%22/%3E%0A%20%20%20%20%3Clink%20rel%3D%22stylesheet%22%20href%3D%22https%3A//cdnjs.cloudflare.com/ajax/libs/Leaflet.awesome-markers/2.0.2/leaflet.awesome-markers.css%22/%3E%0A%20%20%20%20%3Clink%20rel%3D%22stylesheet%22%20href%3D%22https%3A//cdn.jsdelivr.net/gh/python-visualization/folium/folium/templates/leaflet.awesome.rotate.min.css%22/%3E%0A%20%20%20%20%0A%20%20%20%20%20%20%20%20%20%20%20%20%3Cmeta%20name%3D%22viewport%22%20content%3D%22width%3Ddevice-width%2C%0A%20%20%20%20%20%20%20%20%20%20%20%20%20%20%20%20initial-scale%3D1.0%2C%20maximum-scale%3D1.0%2C%20user-scalable%3Dno%22%20/%3E%0A%20%20%20%20%20%20%20%20%20%20%20%20%3Cstyle%3E%0A%20%20%20%20%20%20%20%20%20%20%20%20%20%20%20%20%23map_fcb16e212b2249a9bd49aae2c829130c%20%7B%0A%20%20%20%20%20%20%20%20%20%20%20%20%20%20%20%20%20%20%20%20position%3A%20relative%3B%0A%20%20%20%20%20%20%20%20%20%20%20%20%20%20%20%20%20%20%20%20width%3A%20100.0%25%3B%0A%20%20%20%20%20%20%20%20%20%20%20%20%20%20%20%20%20%20%20%20height%3A%20100.0%25%3B%0A%20%20%20%20%20%20%20%20%20%20%20%20%20%20%20%20%20%20%20%20left%3A%200.0%25%3B%0A%20%20%20%20%20%20%20%20%20%20%20%20%20%20%20%20%20%20%20%20top%3A%200.0%25%3B%0A%20%20%20%20%20%20%20%20%20%20%20%20%20%20%20%20%7D%0A%20%20%20%20%20%20%20%20%20%20%20%20%3C/style%3E%0A%20%20%20%20%20%20%20%20%0A%20%20%20%20%0A%20%20%20%20%20%20%20%20%20%20%20%20%20%20%20%20%20%20%20%20%3Cstyle%3E%0A%20%20%20%20%20%20%20%20%20%20%20%20%20%20%20%20%20%20%20%20%20%20%20%20.foliumtooltip%20%7B%0A%20%20%20%20%20%20%20%20%20%20%20%20%20%20%20%20%20%20%20%20%20%20%20%20%20%20%20%20%0A%20%20%20%20%20%20%20%20%20%20%20%20%20%20%20%20%20%20%20%20%20%20%20%20%7D%0A%20%20%20%20%20%20%20%20%20%20%20%20%20%20%20%20%20%20%20%20%20%20%20.foliumtooltip%20table%7B%0A%20%20%20%20%20%20%20%20%20%20%20%20%20%20%20%20%20%20%20%20%20%20%20%20%20%20%20%20margin%3A%20auto%3B%0A%20%20%20%20%20%20%20%20%20%20%20%20%20%20%20%20%20%20%20%20%20%20%20%20%7D%0A%20%20%20%20%20%20%20%20%20%20%20%20%20%20%20%20%20%20%20%20%20%20%20%20.foliumtooltip%20tr%7B%0A%20%20%20%20%20%20%20%20%20%20%20%20%20%20%20%20%20%20%20%20%20%20%20%20%20%20%20%20text-align%3A%20left%3B%0A%20%20%20%20%20%20%20%20%20%20%20%20%20%20%20%20%20%20%20%20%20%20%20%20%7D%0A%20%20%20%20%20%20%20%20%20%20%20%20%20%20%20%20%20%20%20%20%20%20%20%20.foliumtooltip%20th%7B%0A%20%20%20%20%20%20%20%20%20%20%20%20%20%20%20%20%20%20%20%20%20%20%20%20%20%20%20%20padding%3A%202px%3B%20padding-right%3A%208px%3B%0A%20%20%20%20%20%20%20%20%20%20%20%20%20%20%20%20%20%20%20%20%20%20%20%20%7D%0A%20%20%20%20%20%20%20%20%20%20%20%20%20%20%20%20%20%20%20%20%3C/style%3E%0A%20%20%20%20%20%20%20%20%20%20%20%20%0A%3C/head%3E%0A%3Cbody%3E%20%20%20%20%0A%20%20%20%20%0A%20%20%20%20%20%20%20%20%20%20%20%20%3Cdiv%20class%3D%22folium-map%22%20id%3D%22map_fcb16e212b2249a9bd49aae2c829130c%22%20%3E%3C/div%3E%0A%20%20%20%20%20%20%20%20%0A%3C/body%3E%0A%3Cscript%3E%20%20%20%20%0A%20%20%20%20%0A%20%20%20%20%20%20%20%20%20%20%20%20var%20map_fcb16e212b2249a9bd49aae2c829130c%20%3D%20L.map%28%0A%20%20%20%20%20%20%20%20%20%20%20%20%20%20%20%20%22map_fcb16e212b2249a9bd49aae2c829130c%22%2C%0A%20%20%20%20%20%20%20%20%20%20%20%20%20%20%20%20%7B%0A%20%20%20%20%20%20%20%20%20%20%20%20%20%20%20%20%20%20%20%20center%3A%20%5B36.655768985000066%2C%20-121.66020876249996%5D%2C%0A%20%20%20%20%20%20%20%20%20%20%20%20%20%20%20%20%20%20%20%20crs%3A%20L.CRS.EPSG3857%2C%0A%20%20%20%20%20%20%20%20%20%20%20%20%20%20%20%20%20%20%20%20zoom%3A%2010%2C%0A%20%20%20%20%20%20%20%20%20%20%20%20%20%20%20%20%20%20%20%20zoomControl%3A%20true%2C%0A%20%20%20%20%20%20%20%20%20%20%20%20%20%20%20%20%20%20%20%20preferCanvas%3A%20false%2C%0A%20%20%20%20%20%20%20%20%20%20%20%20%20%20%20%20%7D%0A%20%20%20%20%20%20%20%20%20%20%20%20%29%3B%0A%20%20%20%20%20%20%20%20%20%20%20%20L.control.scale%28%29.addTo%28map_fcb16e212b2249a9bd49aae2c829130c%29%3B%0A%0A%20%20%20%20%20%20%20%20%20%20%20%20%0A%0A%20%20%20%20%20%20%20%20%0A%20%20%20%20%0A%20%20%20%20%20%20%20%20%20%20%20%20var%20tile_layer_4ba0e13b1a4145a28142ec471ca49067%20%3D%20L.tileLayer%28%0A%20%20%20%20%20%20%20%20%20%20%20%20%20%20%20%20%22https%3A//%7Bs%7D.tile.openstreetmap.org/%7Bz%7D/%7Bx%7D/%7By%7D.png%22%2C%0A%20%20%20%20%20%20%20%20%20%20%20%20%20%20%20%20%7B%22attribution%22%3A%20%22Data%20by%20%5Cu0026copy%3B%20%5Cu003ca%20href%3D%5C%22http%3A//openstreetmap.org%5C%22%5Cu003eOpenStreetMap%5Cu003c/a%5Cu003e%2C%20under%20%5Cu003ca%20href%3D%5C%22http%3A//www.openstreetmap.org/copyright%5C%22%5Cu003eODbL%5Cu003c/a%5Cu003e.%22%2C%20%22detectRetina%22%3A%20false%2C%20%22maxNativeZoom%22%3A%2018%2C%20%22maxZoom%22%3A%2018%2C%20%22minZoom%22%3A%200%2C%20%22noWrap%22%3A%20false%2C%20%22opacity%22%3A%201%2C%20%22subdomains%22%3A%20%22abc%22%2C%20%22tms%22%3A%20false%7D%0A%20%20%20%20%20%20%20%20%20%20%20%20%29.addTo%28map_fcb16e212b2249a9bd49aae2c829130c%29%3B%0A%20%20%20%20%20%20%20%20%0A%20%20%20%20%0A%20%20%20%20%20%20%20%20%20%20%20%20map_fcb16e212b2249a9bd49aae2c829130c.fitBounds%28%0A%20%20%20%20%20%20%20%20%20%20%20%20%20%20%20%20%5B%5B36.655480699000066%2C%20-121.66034282199996%5D%2C%20%5B36.656057271000066%2C%20-121.66007470299996%5D%5D%2C%0A%20%20%20%20%20%20%20%20%20%20%20%20%20%20%20%20%7B%7D%0A%20%20%20%20%20%20%20%20%20%20%20%20%29%3B%0A%20%20%20%20%20%20%20%20%0A%20%20%20%20%0A%20%20%20%20%20%20%20%20function%20geo_json_22630c6037cf4c10a8351cbcf86b9a49_styler%28feature%29%20%7B%0A%20%20%20%20%20%20%20%20%20%20%20%20switch%28feature.id%29%20%7B%0A%20%20%20%20%20%20%20%20%20%20%20%20%20%20%20%20default%3A%0A%20%20%20%20%20%20%20%20%20%20%20%20%20%20%20%20%20%20%20%20return%20%7B%22fillOpacity%22%3A%200.5%2C%20%22weight%22%3A%202%7D%3B%0A%20%20%20%20%20%20%20%20%20%20%20%20%7D%0A%20%20%20%20%20%20%20%20%7D%0A%20%20%20%20%20%20%20%20function%20geo_json_22630c6037cf4c10a8351cbcf86b9a49_highlighter%28feature%29%20%7B%0A%20%20%20%20%20%20%20%20%20%20%20%20switch%28feature.id%29%20%7B%0A%20%20%20%20%20%20%20%20%20%20%20%20%20%20%20%20default%3A%0A%20%20%20%20%20%20%20%20%20%20%20%20%20%20%20%20%20%20%20%20return%20%7B%22fillOpacity%22%3A%200.75%7D%3B%0A%20%20%20%20%20%20%20%20%20%20%20%20%7D%0A%20%20%20%20%20%20%20%20%7D%0A%20%20%20%20%20%20%20%20function%20geo_json_22630c6037cf4c10a8351cbcf86b9a49_pointToLayer%28feature%2C%20latlng%29%20%7B%0A%20%20%20%20%20%20%20%20%20%20%20%20var%20opts%20%3D%20%7B%22bubblingMouseEvents%22%3A%20true%2C%20%22color%22%3A%20%22%233388ff%22%2C%20%22dashArray%22%3A%20null%2C%20%22dashOffset%22%3A%20null%2C%20%22fill%22%3A%20true%2C%20%22fillColor%22%3A%20%22%233388ff%22%2C%20%22fillOpacity%22%3A%200.2%2C%20%22fillRule%22%3A%20%22evenodd%22%2C%20%22lineCap%22%3A%20%22round%22%2C%20%22lineJoin%22%3A%20%22round%22%2C%20%22opacity%22%3A%201.0%2C%20%22radius%22%3A%202%2C%20%22stroke%22%3A%20true%2C%20%22weight%22%3A%203%7D%3B%0A%20%20%20%20%20%20%20%20%20%20%20%20%0A%20%20%20%20%20%20%20%20%20%20%20%20let%20style%20%3D%20geo_json_22630c6037cf4c10a8351cbcf86b9a49_styler%28feature%29%0A%20%20%20%20%20%20%20%20%20%20%20%20Object.assign%28opts%2C%20style%29%0A%20%20%20%20%20%20%20%20%20%20%20%20%0A%20%20%20%20%20%20%20%20%20%20%20%20return%20new%20L.CircleMarker%28latlng%2C%20opts%29%0A%20%20%20%20%20%20%20%20%7D%0A%0A%20%20%20%20%20%20%20%20function%20geo_json_22630c6037cf4c10a8351cbcf86b9a49_onEachFeature%28feature%2C%20layer%29%20%7B%0A%20%20%20%20%20%20%20%20%20%20%20%20layer.on%28%7B%0A%20%20%20%20%20%20%20%20%20%20%20%20%20%20%20%20mouseout%3A%20function%28e%29%20%7B%0A%20%20%20%20%20%20%20%20%20%20%20%20%20%20%20%20%20%20%20%20if%28typeof%20e.target.setStyle%20%3D%3D%3D%20%22function%22%29%7B%0A%20%20%20%20%20%20%20%20%20%20%20%20%20%20%20%20%20%20%20%20%20%20%20%20geo_json_22630c6037cf4c10a8351cbcf86b9a49.resetStyle%28e.target%29%3B%0A%20%20%20%20%20%20%20%20%20%20%20%20%20%20%20%20%20%20%20%20%7D%0A%20%20%20%20%20%20%20%20%20%20%20%20%20%20%20%20%7D%2C%0A%20%20%20%20%20%20%20%20%20%20%20%20%20%20%20%20mouseover%3A%20function%28e%29%20%7B%0A%20%20%20%20%20%20%20%20%20%20%20%20%20%20%20%20%20%20%20%20if%28typeof%20e.target.setStyle%20%3D%3D%3D%20%22function%22%29%7B%0A%20%20%20%20%20%20%20%20%20%20%20%20%20%20%20%20%20%20%20%20%20%20%20%20const%20highlightStyle%20%3D%20geo_json_22630c6037cf4c10a8351cbcf86b9a49_highlighter%28e.target.feature%29%0A%20%20%20%20%20%20%20%20%20%20%20%20%20%20%20%20%20%20%20%20%20%20%20%20e.target.setStyle%28highlightStyle%29%3B%0A%20%20%20%20%20%20%20%20%20%20%20%20%20%20%20%20%20%20%20%20%7D%0A%20%20%20%20%20%20%20%20%20%20%20%20%20%20%20%20%7D%2C%0A%20%20%20%20%20%20%20%20%20%20%20%20%7D%29%3B%0A%20%20%20%20%20%20%20%20%7D%3B%0A%20%20%20%20%20%20%20%20var%20geo_json_22630c6037cf4c10a8351cbcf86b9a49%20%3D%20L.geoJson%28null%2C%20%7B%0A%20%20%20%20%20%20%20%20%20%20%20%20%20%20%20%20onEachFeature%3A%20geo_json_22630c6037cf4c10a8351cbcf86b9a49_onEachFeature%2C%0A%20%20%20%20%20%20%20%20%20%20%20%20%0A%20%20%20%20%20%20%20%20%20%20%20%20%20%20%20%20style%3A%20geo_json_22630c6037cf4c10a8351cbcf86b9a49_styler%2C%0A%20%20%20%20%20%20%20%20%20%20%20%20%20%20%20%20pointToLayer%3A%20geo_json_22630c6037cf4c10a8351cbcf86b9a49_pointToLayer%0A%20%20%20%20%20%20%20%20%7D%29%3B%0A%0A%20%20%20%20%20%20%20%20function%20geo_json_22630c6037cf4c10a8351cbcf86b9a49_add%20%28data%29%20%7B%0A%20%20%20%20%20%20%20%20%20%20%20%20geo_json_22630c6037cf4c10a8351cbcf86b9a49%0A%20%20%20%20%20%20%20%20%20%20%20%20%20%20%20%20.addData%28data%29%0A%20%20%20%20%20%20%20%20%20%20%20%20%20%20%20%20.addTo%28map_fcb16e212b2249a9bd49aae2c829130c%29%3B%0A%20%20%20%20%20%20%20%20%7D%0A%20%20%20%20%20%20%20%20%20%20%20%20geo_json_22630c6037cf4c10a8351cbcf86b9a49_add%28%7B%22bbox%22%3A%20%5B-121.66034282199996%2C%2036.655480699000066%2C%20-121.66007470299996%2C%2036.656057271000066%5D%2C%20%22features%22%3A%20%5B%7B%22bbox%22%3A%20%5B-121.66034282199996%2C%2036.655480699000066%2C%20-121.66007470299996%2C%2036.656057271000066%5D%2C%20%22geometry%22%3A%20%7B%22coordinates%22%3A%20%5B%5B-121.66007470299996%2C%2036.656057271000066%2C%200.0%5D%2C%20%5B-121.66034282199996%2C%2036.655480699000066%2C%200.0%5D%5D%2C%20%22type%22%3A%20%22LineString%22%7D%2C%20%22id%22%3A%20%220%22%2C%20%22properties%22%3A%20%7B%22Bus_Brdng_Islnds%22%3A%20null%2C%20%22CT_District%22%3A%20%2205%22%2C%20%22Centerline_Miles%22%3A%20null%2C%20%22County%22%3A%20%22MON%22%2C%20%22CreationDate%22%3A%201693008805000%2C%20%22EditDate%22%3A%201693421420000%2C%20%22Geom_Priority_Intervention_Type%22%3A%20%22Queue_Jump_lanes/signals%22%2C%20%22Imprv_Site_Amnts%22%3A%2010.0%2C%20%22Lyr%22%3A%20%22%5C%22Lns4%5C%22%22%2C%20%22OBJECTID%22%3A%201%2C%20%22One_Side_Rdwy_Only%22%3A%20null%2C%20%22Priority_Intervention_Type_All%22%3A%20%22Queue_Jump_lanes/signals%2CImproved_transit_stop_amenities_including_lighting_and_seating%22%2C%20%22Queue_Jumps%22%3A%204.0%2C%20%22Route%22%3A%2068%2C%20%22Scrs%22%3A%20%22Transit%201%3A1%20chats%2C%20MST%20Network%20Plan%2C%20Salinas%20Valley%20Express%20Transit%20Corridor%20Planning%20Study%22%2C%20%22Scrs_Link%22%3A%20%22https%3A//mst.org/wp-content/media/Draft-Report-5.23.19.pdf%20AND%20https%3A//mst.org/wp-content/media/MST-Final-Network-Plan-Feb-2022.pdf%22%2C%20%22Shape_Length%22%3A%200.0006358640336924469%2C%20%22Submitter_Email%22%3A%20%22JOANNA.XIAO%40DOT.CA.GOV%22%2C%20%22Submitter_Name%22%3A%20%22Joanna%20Xiao%22%2C%20%22Transit_Op_Support%22%3A%20%22yes%22%2C%20%22geo_comments%22%3A%20%22%5Cu2022%5CtAny%20improvements%20to%20transit%20priority%20would%20be%20welcome%20and%20they%20would%20consider%20shifting%20their%20Monterey%20to%20Salinas%20from%20Blanco%20and%20reservation%20to%20back%20to%2068%20w%20better%20flow.%20Currently%20MST%20no%20longer%20offers%20service%20along%20SR68%20due%20to%20traffic.%20%22%7D%2C%20%22type%22%3A%20%22Feature%22%7D%5D%2C%20%22type%22%3A%20%22FeatureCollection%22%7D%29%3B%0A%0A%20%20%20%20%20%20%20%20%0A%20%20%20%20%0A%20%20%20%20geo_json_22630c6037cf4c10a8351cbcf86b9a49.bindTooltip%28%0A%20%20%20%20function%28layer%29%7B%0A%20%20%20%20let%20div%20%3D%20L.DomUtil.create%28%27div%27%29%3B%0A%20%20%20%20%0A%20%20%20%20let%20handleObject%20%3D%20feature%3D%3Etypeof%28feature%29%3D%3D%27object%27%20%3F%20JSON.stringify%28feature%29%20%3A%20feature%3B%0A%20%20%20%20let%20fields%20%3D%20%5B%22OBJECTID%22%2C%20%22Submitter_Name%22%2C%20%22Submitter_Email%22%2C%20%22Priority_Intervention_Type_All%22%2C%20%22Scrs%22%2C%20%22Scrs_Link%22%2C%20%22Centerline_Miles%22%2C%20%22One_Side_Rdwy_Only%22%2C%20%22Queue_Jumps%22%2C%20%22Bus_Brdng_Islnds%22%2C%20%22Imprv_Site_Amnts%22%2C%20%22Transit_Op_Support%22%2C%20%22CT_District%22%2C%20%22County%22%2C%20%22Route%22%2C%20%22Geom_Priority_Intervention_Type%22%2C%20%22geo_comments%22%2C%20%22CreationDate%22%2C%20%22Lyr%22%2C%20%22EditDate%22%2C%20%22Shape_Length%22%5D%3B%0A%20%20%20%20let%20aliases%20%3D%20%5B%22OBJECTID%22%2C%20%22Submitter_Name%22%2C%20%22Submitter_Email%22%2C%20%22Priority_Intervention_Type_All%22%2C%20%22Scrs%22%2C%20%22Scrs_Link%22%2C%20%22Centerline_Miles%22%2C%20%22One_Side_Rdwy_Only%22%2C%20%22Queue_Jumps%22%2C%20%22Bus_Brdng_Islnds%22%2C%20%22Imprv_Site_Amnts%22%2C%20%22Transit_Op_Support%22%2C%20%22CT_District%22%2C%20%22County%22%2C%20%22Route%22%2C%20%22Geom_Priority_Intervention_Type%22%2C%20%22geo_comments%22%2C%20%22CreationDate%22%2C%20%22Lyr%22%2C%20%22EditDate%22%2C%20%22Shape_Length%22%5D%3B%0A%20%20%20%20let%20table%20%3D%20%27%3Ctable%3E%27%20%2B%0A%20%20%20%20%20%20%20%20String%28%0A%20%20%20%20%20%20%20%20fields.map%28%0A%20%20%20%20%20%20%20%20%28v%2Ci%29%3D%3E%0A%20%20%20%20%20%20%20%20%60%3Ctr%3E%0A%20%20%20%20%20%20%20%20%20%20%20%20%3Cth%3E%24%7Baliases%5Bi%5D%7D%3C/th%3E%0A%20%20%20%20%20%20%20%20%20%20%20%20%0A%20%20%20%20%20%20%20%20%20%20%20%20%3Ctd%3E%24%7BhandleObject%28layer.feature.properties%5Bv%5D%29%7D%3C/td%3E%0A%20%20%20%20%20%20%20%20%3C/tr%3E%60%29.join%28%27%27%29%29%0A%20%20%20%20%2B%27%3C/table%3E%27%3B%0A%20%20%20%20div.innerHTML%3Dtable%3B%0A%20%20%20%20%0A%20%20%20%20return%20div%0A%20%20%20%20%7D%0A%20%20%20%20%2C%7B%22className%22%3A%20%22foliumtooltip%22%2C%20%22sticky%22%3A%20true%7D%29%3B%0A%20%20%20%20%20%20%20%20%20%20%20%20%20%20%20%20%20%20%20%20%20%0A%3C/script%3E onload=\"this.contentDocument.open();this.contentDocument.write(    decodeURIComponent(this.getAttribute('data-html')));this.contentDocument.close();\" allowfullscreen webkitallowfullscreen mozallowfullscreen></iframe></div></div>"
      ],
      "text/plain": [
       "<folium.folium.Map at 0x7f0ee366eb50>"
      ]
     },
     "execution_count": 9,
     "metadata": {},
     "output_type": "execute_result"
    }
   ],
   "source": [
    "line_priority.iloc[[0]].explore()"
   ]
  },
  {
   "cell_type": "markdown",
   "id": "0971e08d-8f06-4d23-8dcd-f115d50072d1",
   "metadata": {
    "tags": []
   },
   "source": [
    "### 5 MST - analyze w/ 0"
   ]
  },
  {
   "cell_type": "code",
   "execution_count": 10,
   "id": "f9ff32cd-609d-4c7e-8885-b4aa5f4d5eba",
   "metadata": {},
   "outputs": [
    {
     "data": {
      "text/html": [
       "<div>\n",
       "<style scoped>\n",
       "    .dataframe tbody tr th:only-of-type {\n",
       "        vertical-align: middle;\n",
       "    }\n",
       "\n",
       "    .dataframe tbody tr th {\n",
       "        vertical-align: top;\n",
       "    }\n",
       "\n",
       "    .dataframe thead th {\n",
       "        text-align: right;\n",
       "    }\n",
       "</style>\n",
       "<table border=\"1\" class=\"dataframe\">\n",
       "  <thead>\n",
       "    <tr style=\"text-align: right;\">\n",
       "      <th></th>\n",
       "      <th>OBJECTID</th>\n",
       "      <th>Submitter_Name</th>\n",
       "      <th>Submitter_Email</th>\n",
       "      <th>Priority_Intervention_Type_All</th>\n",
       "      <th>Scrs</th>\n",
       "      <th>Scrs_Link</th>\n",
       "      <th>Centerline_Miles</th>\n",
       "      <th>One_Side_Rdwy_Only</th>\n",
       "      <th>Queue_Jumps</th>\n",
       "      <th>Bus_Brdng_Islnds</th>\n",
       "      <th>...</th>\n",
       "      <th>CT_District</th>\n",
       "      <th>County</th>\n",
       "      <th>Route</th>\n",
       "      <th>Geom_Priority_Intervention_Type</th>\n",
       "      <th>geo_comments</th>\n",
       "      <th>CreationDate</th>\n",
       "      <th>Lyr</th>\n",
       "      <th>EditDate</th>\n",
       "      <th>Shape_Length</th>\n",
       "      <th>geometry</th>\n",
       "    </tr>\n",
       "  </thead>\n",
       "  <tbody>\n",
       "    <tr>\n",
       "      <th>5</th>\n",
       "      <td>6</td>\n",
       "      <td>Joanna Xiao</td>\n",
       "      <td>JOANNA.XIAO@DOT.CA.GOV</td>\n",
       "      <td>Queue_Jump_lanes/signals,Improved_transit_stop...</td>\n",
       "      <td>Transit 1:1 chats, MST Network Plan, Salinas V...</td>\n",
       "      <td>https://mst.org/wp-content/media/Draft-Report-...</td>\n",
       "      <td>NaN</td>\n",
       "      <td>NaN</td>\n",
       "      <td>4.0</td>\n",
       "      <td>NaN</td>\n",
       "      <td>...</td>\n",
       "      <td>05</td>\n",
       "      <td>MON</td>\n",
       "      <td>68</td>\n",
       "      <td>Queue_Jump_lanes/signals</td>\n",
       "      <td>•\\tAny improvements to transit priority would ...</td>\n",
       "      <td>1693008805000</td>\n",
       "      <td>\"Lns2\"</td>\n",
       "      <td>1693421427000</td>\n",
       "      <td>0.000255</td>\n",
       "      <td>LINESTRING Z (-121.65471 36.67121 0.00000, -12...</td>\n",
       "    </tr>\n",
       "  </tbody>\n",
       "</table>\n",
       "<p>1 rows × 22 columns</p>\n",
       "</div>"
      ],
      "text/plain": [
       "   OBJECTID Submitter_Name         Submitter_Email  \\\n",
       "5         6    Joanna Xiao  JOANNA.XIAO@DOT.CA.GOV   \n",
       "\n",
       "                      Priority_Intervention_Type_All  \\\n",
       "5  Queue_Jump_lanes/signals,Improved_transit_stop...   \n",
       "\n",
       "                                                Scrs  \\\n",
       "5  Transit 1:1 chats, MST Network Plan, Salinas V...   \n",
       "\n",
       "                                           Scrs_Link  Centerline_Miles  \\\n",
       "5  https://mst.org/wp-content/media/Draft-Report-...               NaN   \n",
       "\n",
       "  One_Side_Rdwy_Only  Queue_Jumps  Bus_Brdng_Islnds  ...  CT_District County  \\\n",
       "5                NaN          4.0               NaN  ...           05    MON   \n",
       "\n",
       "  Route Geom_Priority_Intervention_Type  \\\n",
       "5    68        Queue_Jump_lanes/signals   \n",
       "\n",
       "                                        geo_comments   CreationDate     Lyr  \\\n",
       "5  •\\tAny improvements to transit priority would ...  1693008805000  \"Lns2\"   \n",
       "\n",
       "        EditDate Shape_Length  \\\n",
       "5  1693421427000     0.000255   \n",
       "\n",
       "                                            geometry  \n",
       "5  LINESTRING Z (-121.65471 36.67121 0.00000, -12...  \n",
       "\n",
       "[1 rows x 22 columns]"
      ]
     },
     "execution_count": 10,
     "metadata": {},
     "output_type": "execute_result"
    }
   ],
   "source": [
    "line_priority.iloc[[5]]"
   ]
  },
  {
   "cell_type": "code",
   "execution_count": 11,
   "id": "32711315-5945-427a-ad88-243906910a09",
   "metadata": {},
   "outputs": [
    {
     "data": {
      "text/plain": [
       "'•\\tAny improvements to transit priority would be welcome and they would consider shifting their Monterey to Salinas from Blanco and reservation to back to 68 w better flow. Currently MST no longer offers service along SR68 due to traffic. '"
      ]
     },
     "execution_count": 11,
     "metadata": {},
     "output_type": "execute_result"
    }
   ],
   "source": [
    "line_priority.iloc[[5]].geo_comments.iloc[0]"
   ]
  },
  {
   "cell_type": "code",
   "execution_count": 12,
   "id": "919f22d8-6d1e-49e1-b7ee-2d67af339fda",
   "metadata": {},
   "outputs": [
    {
     "data": {
      "text/html": [
       "<div style=\"width:100%;\"><div style=\"position:relative;width:100%;height:0;padding-bottom:60%;\"><span style=\"color:#565656\">Make this Notebook Trusted to load map: File -> Trust Notebook</span><iframe src=\"about:blank\" style=\"position:absolute;width:100%;height:100%;left:0;top:0;border:none !important;\" data-html=%3C%21DOCTYPE%20html%3E%0A%3Chead%3E%20%20%20%20%0A%20%20%20%20%3Cmeta%20http-equiv%3D%22content-type%22%20content%3D%22text/html%3B%20charset%3DUTF-8%22%20/%3E%0A%20%20%20%20%0A%20%20%20%20%20%20%20%20%3Cscript%3E%0A%20%20%20%20%20%20%20%20%20%20%20%20L_NO_TOUCH%20%3D%20false%3B%0A%20%20%20%20%20%20%20%20%20%20%20%20L_DISABLE_3D%20%3D%20false%3B%0A%20%20%20%20%20%20%20%20%3C/script%3E%0A%20%20%20%20%0A%20%20%20%20%3Cstyle%3Ehtml%2C%20body%20%7Bwidth%3A%20100%25%3Bheight%3A%20100%25%3Bmargin%3A%200%3Bpadding%3A%200%3B%7D%3C/style%3E%0A%20%20%20%20%3Cstyle%3E%23map%20%7Bposition%3Aabsolute%3Btop%3A0%3Bbottom%3A0%3Bright%3A0%3Bleft%3A0%3B%7D%3C/style%3E%0A%20%20%20%20%3Cscript%20src%3D%22https%3A//cdn.jsdelivr.net/npm/leaflet%401.6.0/dist/leaflet.js%22%3E%3C/script%3E%0A%20%20%20%20%3Cscript%20src%3D%22https%3A//code.jquery.com/jquery-1.12.4.min.js%22%3E%3C/script%3E%0A%20%20%20%20%3Cscript%20src%3D%22https%3A//maxcdn.bootstrapcdn.com/bootstrap/3.2.0/js/bootstrap.min.js%22%3E%3C/script%3E%0A%20%20%20%20%3Cscript%20src%3D%22https%3A//cdnjs.cloudflare.com/ajax/libs/Leaflet.awesome-markers/2.0.2/leaflet.awesome-markers.js%22%3E%3C/script%3E%0A%20%20%20%20%3Clink%20rel%3D%22stylesheet%22%20href%3D%22https%3A//cdn.jsdelivr.net/npm/leaflet%401.6.0/dist/leaflet.css%22/%3E%0A%20%20%20%20%3Clink%20rel%3D%22stylesheet%22%20href%3D%22https%3A//maxcdn.bootstrapcdn.com/bootstrap/3.2.0/css/bootstrap.min.css%22/%3E%0A%20%20%20%20%3Clink%20rel%3D%22stylesheet%22%20href%3D%22https%3A//maxcdn.bootstrapcdn.com/bootstrap/3.2.0/css/bootstrap-theme.min.css%22/%3E%0A%20%20%20%20%3Clink%20rel%3D%22stylesheet%22%20href%3D%22https%3A//maxcdn.bootstrapcdn.com/font-awesome/4.6.3/css/font-awesome.min.css%22/%3E%0A%20%20%20%20%3Clink%20rel%3D%22stylesheet%22%20href%3D%22https%3A//cdnjs.cloudflare.com/ajax/libs/Leaflet.awesome-markers/2.0.2/leaflet.awesome-markers.css%22/%3E%0A%20%20%20%20%3Clink%20rel%3D%22stylesheet%22%20href%3D%22https%3A//cdn.jsdelivr.net/gh/python-visualization/folium/folium/templates/leaflet.awesome.rotate.min.css%22/%3E%0A%20%20%20%20%0A%20%20%20%20%20%20%20%20%20%20%20%20%3Cmeta%20name%3D%22viewport%22%20content%3D%22width%3Ddevice-width%2C%0A%20%20%20%20%20%20%20%20%20%20%20%20%20%20%20%20initial-scale%3D1.0%2C%20maximum-scale%3D1.0%2C%20user-scalable%3Dno%22%20/%3E%0A%20%20%20%20%20%20%20%20%20%20%20%20%3Cstyle%3E%0A%20%20%20%20%20%20%20%20%20%20%20%20%20%20%20%20%23map_e9fe2f76fc774527baf6338c6d3d6317%20%7B%0A%20%20%20%20%20%20%20%20%20%20%20%20%20%20%20%20%20%20%20%20position%3A%20relative%3B%0A%20%20%20%20%20%20%20%20%20%20%20%20%20%20%20%20%20%20%20%20width%3A%20100.0%25%3B%0A%20%20%20%20%20%20%20%20%20%20%20%20%20%20%20%20%20%20%20%20height%3A%20100.0%25%3B%0A%20%20%20%20%20%20%20%20%20%20%20%20%20%20%20%20%20%20%20%20left%3A%200.0%25%3B%0A%20%20%20%20%20%20%20%20%20%20%20%20%20%20%20%20%20%20%20%20top%3A%200.0%25%3B%0A%20%20%20%20%20%20%20%20%20%20%20%20%20%20%20%20%7D%0A%20%20%20%20%20%20%20%20%20%20%20%20%3C/style%3E%0A%20%20%20%20%20%20%20%20%0A%20%20%20%20%0A%20%20%20%20%20%20%20%20%20%20%20%20%20%20%20%20%20%20%20%20%3Cstyle%3E%0A%20%20%20%20%20%20%20%20%20%20%20%20%20%20%20%20%20%20%20%20%20%20%20%20.foliumtooltip%20%7B%0A%20%20%20%20%20%20%20%20%20%20%20%20%20%20%20%20%20%20%20%20%20%20%20%20%20%20%20%20%0A%20%20%20%20%20%20%20%20%20%20%20%20%20%20%20%20%20%20%20%20%20%20%20%20%7D%0A%20%20%20%20%20%20%20%20%20%20%20%20%20%20%20%20%20%20%20%20%20%20%20.foliumtooltip%20table%7B%0A%20%20%20%20%20%20%20%20%20%20%20%20%20%20%20%20%20%20%20%20%20%20%20%20%20%20%20%20margin%3A%20auto%3B%0A%20%20%20%20%20%20%20%20%20%20%20%20%20%20%20%20%20%20%20%20%20%20%20%20%7D%0A%20%20%20%20%20%20%20%20%20%20%20%20%20%20%20%20%20%20%20%20%20%20%20%20.foliumtooltip%20tr%7B%0A%20%20%20%20%20%20%20%20%20%20%20%20%20%20%20%20%20%20%20%20%20%20%20%20%20%20%20%20text-align%3A%20left%3B%0A%20%20%20%20%20%20%20%20%20%20%20%20%20%20%20%20%20%20%20%20%20%20%20%20%7D%0A%20%20%20%20%20%20%20%20%20%20%20%20%20%20%20%20%20%20%20%20%20%20%20%20.foliumtooltip%20th%7B%0A%20%20%20%20%20%20%20%20%20%20%20%20%20%20%20%20%20%20%20%20%20%20%20%20%20%20%20%20padding%3A%202px%3B%20padding-right%3A%208px%3B%0A%20%20%20%20%20%20%20%20%20%20%20%20%20%20%20%20%20%20%20%20%20%20%20%20%7D%0A%20%20%20%20%20%20%20%20%20%20%20%20%20%20%20%20%20%20%20%20%3C/style%3E%0A%20%20%20%20%20%20%20%20%20%20%20%20%0A%3C/head%3E%0A%3Cbody%3E%20%20%20%20%0A%20%20%20%20%0A%20%20%20%20%20%20%20%20%20%20%20%20%3Cdiv%20class%3D%22folium-map%22%20id%3D%22map_e9fe2f76fc774527baf6338c6d3d6317%22%20%3E%3C/div%3E%0A%20%20%20%20%20%20%20%20%0A%3C/body%3E%0A%3Cscript%3E%20%20%20%20%0A%20%20%20%20%0A%20%20%20%20%20%20%20%20%20%20%20%20var%20map_e9fe2f76fc774527baf6338c6d3d6317%20%3D%20L.map%28%0A%20%20%20%20%20%20%20%20%20%20%20%20%20%20%20%20%22map_e9fe2f76fc774527baf6338c6d3d6317%22%2C%0A%20%20%20%20%20%20%20%20%20%20%20%20%20%20%20%20%7B%0A%20%20%20%20%20%20%20%20%20%20%20%20%20%20%20%20%20%20%20%20center%3A%20%5B36.67109194100007%2C%20-121.65475699749999%5D%2C%0A%20%20%20%20%20%20%20%20%20%20%20%20%20%20%20%20%20%20%20%20crs%3A%20L.CRS.EPSG3857%2C%0A%20%20%20%20%20%20%20%20%20%20%20%20%20%20%20%20%20%20%20%20zoom%3A%2010%2C%0A%20%20%20%20%20%20%20%20%20%20%20%20%20%20%20%20%20%20%20%20zoomControl%3A%20true%2C%0A%20%20%20%20%20%20%20%20%20%20%20%20%20%20%20%20%20%20%20%20preferCanvas%3A%20false%2C%0A%20%20%20%20%20%20%20%20%20%20%20%20%20%20%20%20%7D%0A%20%20%20%20%20%20%20%20%20%20%20%20%29%3B%0A%20%20%20%20%20%20%20%20%20%20%20%20L.control.scale%28%29.addTo%28map_e9fe2f76fc774527baf6338c6d3d6317%29%3B%0A%0A%20%20%20%20%20%20%20%20%20%20%20%20%0A%0A%20%20%20%20%20%20%20%20%0A%20%20%20%20%0A%20%20%20%20%20%20%20%20%20%20%20%20var%20tile_layer_f653911f6cbb4b25a1889c2eb804495f%20%3D%20L.tileLayer%28%0A%20%20%20%20%20%20%20%20%20%20%20%20%20%20%20%20%22https%3A//%7Bs%7D.tile.openstreetmap.org/%7Bz%7D/%7Bx%7D/%7By%7D.png%22%2C%0A%20%20%20%20%20%20%20%20%20%20%20%20%20%20%20%20%7B%22attribution%22%3A%20%22Data%20by%20%5Cu0026copy%3B%20%5Cu003ca%20href%3D%5C%22http%3A//openstreetmap.org%5C%22%5Cu003eOpenStreetMap%5Cu003c/a%5Cu003e%2C%20under%20%5Cu003ca%20href%3D%5C%22http%3A//www.openstreetmap.org/copyright%5C%22%5Cu003eODbL%5Cu003c/a%5Cu003e.%22%2C%20%22detectRetina%22%3A%20false%2C%20%22maxNativeZoom%22%3A%2018%2C%20%22maxZoom%22%3A%2018%2C%20%22minZoom%22%3A%200%2C%20%22noWrap%22%3A%20false%2C%20%22opacity%22%3A%201%2C%20%22subdomains%22%3A%20%22abc%22%2C%20%22tms%22%3A%20false%7D%0A%20%20%20%20%20%20%20%20%20%20%20%20%29.addTo%28map_e9fe2f76fc774527baf6338c6d3d6317%29%3B%0A%20%20%20%20%20%20%20%20%0A%20%20%20%20%0A%20%20%20%20%20%20%20%20%20%20%20%20map_e9fe2f76fc774527baf6338c6d3d6317.fitBounds%28%0A%20%20%20%20%20%20%20%20%20%20%20%20%20%20%20%20%5B%5B36.67097361700007%2C%20-121.65480454599998%5D%2C%20%5B36.67121026500007%2C%20-121.654709449%5D%5D%2C%0A%20%20%20%20%20%20%20%20%20%20%20%20%20%20%20%20%7B%7D%0A%20%20%20%20%20%20%20%20%20%20%20%20%29%3B%0A%20%20%20%20%20%20%20%20%0A%20%20%20%20%0A%20%20%20%20%20%20%20%20function%20geo_json_08be38506d804b8b9322112054dbf530_styler%28feature%29%20%7B%0A%20%20%20%20%20%20%20%20%20%20%20%20switch%28feature.id%29%20%7B%0A%20%20%20%20%20%20%20%20%20%20%20%20%20%20%20%20default%3A%0A%20%20%20%20%20%20%20%20%20%20%20%20%20%20%20%20%20%20%20%20return%20%7B%22fillOpacity%22%3A%200.5%2C%20%22weight%22%3A%202%7D%3B%0A%20%20%20%20%20%20%20%20%20%20%20%20%7D%0A%20%20%20%20%20%20%20%20%7D%0A%20%20%20%20%20%20%20%20function%20geo_json_08be38506d804b8b9322112054dbf530_highlighter%28feature%29%20%7B%0A%20%20%20%20%20%20%20%20%20%20%20%20switch%28feature.id%29%20%7B%0A%20%20%20%20%20%20%20%20%20%20%20%20%20%20%20%20default%3A%0A%20%20%20%20%20%20%20%20%20%20%20%20%20%20%20%20%20%20%20%20return%20%7B%22fillOpacity%22%3A%200.75%7D%3B%0A%20%20%20%20%20%20%20%20%20%20%20%20%7D%0A%20%20%20%20%20%20%20%20%7D%0A%20%20%20%20%20%20%20%20function%20geo_json_08be38506d804b8b9322112054dbf530_pointToLayer%28feature%2C%20latlng%29%20%7B%0A%20%20%20%20%20%20%20%20%20%20%20%20var%20opts%20%3D%20%7B%22bubblingMouseEvents%22%3A%20true%2C%20%22color%22%3A%20%22%233388ff%22%2C%20%22dashArray%22%3A%20null%2C%20%22dashOffset%22%3A%20null%2C%20%22fill%22%3A%20true%2C%20%22fillColor%22%3A%20%22%233388ff%22%2C%20%22fillOpacity%22%3A%200.2%2C%20%22fillRule%22%3A%20%22evenodd%22%2C%20%22lineCap%22%3A%20%22round%22%2C%20%22lineJoin%22%3A%20%22round%22%2C%20%22opacity%22%3A%201.0%2C%20%22radius%22%3A%202%2C%20%22stroke%22%3A%20true%2C%20%22weight%22%3A%203%7D%3B%0A%20%20%20%20%20%20%20%20%20%20%20%20%0A%20%20%20%20%20%20%20%20%20%20%20%20let%20style%20%3D%20geo_json_08be38506d804b8b9322112054dbf530_styler%28feature%29%0A%20%20%20%20%20%20%20%20%20%20%20%20Object.assign%28opts%2C%20style%29%0A%20%20%20%20%20%20%20%20%20%20%20%20%0A%20%20%20%20%20%20%20%20%20%20%20%20return%20new%20L.CircleMarker%28latlng%2C%20opts%29%0A%20%20%20%20%20%20%20%20%7D%0A%0A%20%20%20%20%20%20%20%20function%20geo_json_08be38506d804b8b9322112054dbf530_onEachFeature%28feature%2C%20layer%29%20%7B%0A%20%20%20%20%20%20%20%20%20%20%20%20layer.on%28%7B%0A%20%20%20%20%20%20%20%20%20%20%20%20%20%20%20%20mouseout%3A%20function%28e%29%20%7B%0A%20%20%20%20%20%20%20%20%20%20%20%20%20%20%20%20%20%20%20%20if%28typeof%20e.target.setStyle%20%3D%3D%3D%20%22function%22%29%7B%0A%20%20%20%20%20%20%20%20%20%20%20%20%20%20%20%20%20%20%20%20%20%20%20%20geo_json_08be38506d804b8b9322112054dbf530.resetStyle%28e.target%29%3B%0A%20%20%20%20%20%20%20%20%20%20%20%20%20%20%20%20%20%20%20%20%7D%0A%20%20%20%20%20%20%20%20%20%20%20%20%20%20%20%20%7D%2C%0A%20%20%20%20%20%20%20%20%20%20%20%20%20%20%20%20mouseover%3A%20function%28e%29%20%7B%0A%20%20%20%20%20%20%20%20%20%20%20%20%20%20%20%20%20%20%20%20if%28typeof%20e.target.setStyle%20%3D%3D%3D%20%22function%22%29%7B%0A%20%20%20%20%20%20%20%20%20%20%20%20%20%20%20%20%20%20%20%20%20%20%20%20const%20highlightStyle%20%3D%20geo_json_08be38506d804b8b9322112054dbf530_highlighter%28e.target.feature%29%0A%20%20%20%20%20%20%20%20%20%20%20%20%20%20%20%20%20%20%20%20%20%20%20%20e.target.setStyle%28highlightStyle%29%3B%0A%20%20%20%20%20%20%20%20%20%20%20%20%20%20%20%20%20%20%20%20%7D%0A%20%20%20%20%20%20%20%20%20%20%20%20%20%20%20%20%7D%2C%0A%20%20%20%20%20%20%20%20%20%20%20%20%7D%29%3B%0A%20%20%20%20%20%20%20%20%7D%3B%0A%20%20%20%20%20%20%20%20var%20geo_json_08be38506d804b8b9322112054dbf530%20%3D%20L.geoJson%28null%2C%20%7B%0A%20%20%20%20%20%20%20%20%20%20%20%20%20%20%20%20onEachFeature%3A%20geo_json_08be38506d804b8b9322112054dbf530_onEachFeature%2C%0A%20%20%20%20%20%20%20%20%20%20%20%20%0A%20%20%20%20%20%20%20%20%20%20%20%20%20%20%20%20style%3A%20geo_json_08be38506d804b8b9322112054dbf530_styler%2C%0A%20%20%20%20%20%20%20%20%20%20%20%20%20%20%20%20pointToLayer%3A%20geo_json_08be38506d804b8b9322112054dbf530_pointToLayer%0A%20%20%20%20%20%20%20%20%7D%29%3B%0A%0A%20%20%20%20%20%20%20%20function%20geo_json_08be38506d804b8b9322112054dbf530_add%20%28data%29%20%7B%0A%20%20%20%20%20%20%20%20%20%20%20%20geo_json_08be38506d804b8b9322112054dbf530%0A%20%20%20%20%20%20%20%20%20%20%20%20%20%20%20%20.addData%28data%29%0A%20%20%20%20%20%20%20%20%20%20%20%20%20%20%20%20.addTo%28map_e9fe2f76fc774527baf6338c6d3d6317%29%3B%0A%20%20%20%20%20%20%20%20%7D%0A%20%20%20%20%20%20%20%20%20%20%20%20geo_json_08be38506d804b8b9322112054dbf530_add%28%7B%22bbox%22%3A%20%5B-121.65480454599998%2C%2036.67097361700007%2C%20-121.654709449%2C%2036.67121026500007%5D%2C%20%22features%22%3A%20%5B%7B%22bbox%22%3A%20%5B-121.65480454599998%2C%2036.67097361700007%2C%20-121.654709449%2C%2036.67121026500007%5D%2C%20%22geometry%22%3A%20%7B%22coordinates%22%3A%20%5B%5B-121.654709449%2C%2036.67121026500007%2C%200.0%5D%2C%20%5B-121.65480454599998%2C%2036.67097361700007%2C%200.0%5D%5D%2C%20%22type%22%3A%20%22LineString%22%7D%2C%20%22id%22%3A%20%225%22%2C%20%22properties%22%3A%20%7B%22Bus_Brdng_Islnds%22%3A%20null%2C%20%22CT_District%22%3A%20%2205%22%2C%20%22Centerline_Miles%22%3A%20null%2C%20%22County%22%3A%20%22MON%22%2C%20%22CreationDate%22%3A%201693008805000%2C%20%22EditDate%22%3A%201693421427000%2C%20%22Geom_Priority_Intervention_Type%22%3A%20%22Queue_Jump_lanes/signals%22%2C%20%22Imprv_Site_Amnts%22%3A%2010.0%2C%20%22Lyr%22%3A%20%22%5C%22Lns2%5C%22%22%2C%20%22OBJECTID%22%3A%206%2C%20%22One_Side_Rdwy_Only%22%3A%20null%2C%20%22Priority_Intervention_Type_All%22%3A%20%22Queue_Jump_lanes/signals%2CImproved_transit_stop_amenities_including_lighting_and_seating%22%2C%20%22Queue_Jumps%22%3A%204.0%2C%20%22Route%22%3A%2068%2C%20%22Scrs%22%3A%20%22Transit%201%3A1%20chats%2C%20MST%20Network%20Plan%2C%20Salinas%20Valley%20Express%20Transit%20Corridor%20Planning%20Study%22%2C%20%22Scrs_Link%22%3A%20%22https%3A//mst.org/wp-content/media/Draft-Report-5.23.19.pdf%20AND%20https%3A//mst.org/wp-content/media/MST-Final-Network-Plan-Feb-2022.pdf%22%2C%20%22Shape_Length%22%3A%200.00025504061501862397%2C%20%22Submitter_Email%22%3A%20%22JOANNA.XIAO%40DOT.CA.GOV%22%2C%20%22Submitter_Name%22%3A%20%22Joanna%20Xiao%22%2C%20%22Transit_Op_Support%22%3A%20%22yes%22%2C%20%22geo_comments%22%3A%20%22%5Cu2022%5CtAny%20improvements%20to%20transit%20priority%20would%20be%20welcome%20and%20they%20would%20consider%20shifting%20their%20Monterey%20to%20Salinas%20from%20Blanco%20and%20reservation%20to%20back%20to%2068%20w%20better%20flow.%20Currently%20MST%20no%20longer%20offers%20service%20along%20SR68%20due%20to%20traffic.%20%22%7D%2C%20%22type%22%3A%20%22Feature%22%7D%5D%2C%20%22type%22%3A%20%22FeatureCollection%22%7D%29%3B%0A%0A%20%20%20%20%20%20%20%20%0A%20%20%20%20%0A%20%20%20%20geo_json_08be38506d804b8b9322112054dbf530.bindTooltip%28%0A%20%20%20%20function%28layer%29%7B%0A%20%20%20%20let%20div%20%3D%20L.DomUtil.create%28%27div%27%29%3B%0A%20%20%20%20%0A%20%20%20%20let%20handleObject%20%3D%20feature%3D%3Etypeof%28feature%29%3D%3D%27object%27%20%3F%20JSON.stringify%28feature%29%20%3A%20feature%3B%0A%20%20%20%20let%20fields%20%3D%20%5B%22OBJECTID%22%2C%20%22Submitter_Name%22%2C%20%22Submitter_Email%22%2C%20%22Priority_Intervention_Type_All%22%2C%20%22Scrs%22%2C%20%22Scrs_Link%22%2C%20%22Centerline_Miles%22%2C%20%22One_Side_Rdwy_Only%22%2C%20%22Queue_Jumps%22%2C%20%22Bus_Brdng_Islnds%22%2C%20%22Imprv_Site_Amnts%22%2C%20%22Transit_Op_Support%22%2C%20%22CT_District%22%2C%20%22County%22%2C%20%22Route%22%2C%20%22Geom_Priority_Intervention_Type%22%2C%20%22geo_comments%22%2C%20%22CreationDate%22%2C%20%22Lyr%22%2C%20%22EditDate%22%2C%20%22Shape_Length%22%5D%3B%0A%20%20%20%20let%20aliases%20%3D%20%5B%22OBJECTID%22%2C%20%22Submitter_Name%22%2C%20%22Submitter_Email%22%2C%20%22Priority_Intervention_Type_All%22%2C%20%22Scrs%22%2C%20%22Scrs_Link%22%2C%20%22Centerline_Miles%22%2C%20%22One_Side_Rdwy_Only%22%2C%20%22Queue_Jumps%22%2C%20%22Bus_Brdng_Islnds%22%2C%20%22Imprv_Site_Amnts%22%2C%20%22Transit_Op_Support%22%2C%20%22CT_District%22%2C%20%22County%22%2C%20%22Route%22%2C%20%22Geom_Priority_Intervention_Type%22%2C%20%22geo_comments%22%2C%20%22CreationDate%22%2C%20%22Lyr%22%2C%20%22EditDate%22%2C%20%22Shape_Length%22%5D%3B%0A%20%20%20%20let%20table%20%3D%20%27%3Ctable%3E%27%20%2B%0A%20%20%20%20%20%20%20%20String%28%0A%20%20%20%20%20%20%20%20fields.map%28%0A%20%20%20%20%20%20%20%20%28v%2Ci%29%3D%3E%0A%20%20%20%20%20%20%20%20%60%3Ctr%3E%0A%20%20%20%20%20%20%20%20%20%20%20%20%3Cth%3E%24%7Baliases%5Bi%5D%7D%3C/th%3E%0A%20%20%20%20%20%20%20%20%20%20%20%20%0A%20%20%20%20%20%20%20%20%20%20%20%20%3Ctd%3E%24%7BhandleObject%28layer.feature.properties%5Bv%5D%29%7D%3C/td%3E%0A%20%20%20%20%20%20%20%20%3C/tr%3E%60%29.join%28%27%27%29%29%0A%20%20%20%20%2B%27%3C/table%3E%27%3B%0A%20%20%20%20div.innerHTML%3Dtable%3B%0A%20%20%20%20%0A%20%20%20%20return%20div%0A%20%20%20%20%7D%0A%20%20%20%20%2C%7B%22className%22%3A%20%22foliumtooltip%22%2C%20%22sticky%22%3A%20true%7D%29%3B%0A%20%20%20%20%20%20%20%20%20%20%20%20%20%20%20%20%20%20%20%20%20%0A%3C/script%3E onload=\"this.contentDocument.open();this.contentDocument.write(    decodeURIComponent(this.getAttribute('data-html')));this.contentDocument.close();\" allowfullscreen webkitallowfullscreen mozallowfullscreen></iframe></div></div>"
      ],
      "text/plain": [
       "<folium.folium.Map at 0x7f0ee363d4f0>"
      ]
     },
     "execution_count": 12,
     "metadata": {},
     "output_type": "execute_result"
    }
   ],
   "source": [
    "line_priority.iloc[[5]].explore()"
   ]
  },
  {
   "cell_type": "markdown",
   "id": "751d5a42-d55d-4092-a2c2-530f263267b1",
   "metadata": {
    "tags": []
   },
   "source": [
    "### 12 MST (group with 0, 5)"
   ]
  },
  {
   "cell_type": "code",
   "execution_count": 13,
   "id": "940259e6-2a7b-4008-b603-7937b9fcba8a",
   "metadata": {},
   "outputs": [
    {
     "data": {
      "text/html": [
       "<div>\n",
       "<style scoped>\n",
       "    .dataframe tbody tr th:only-of-type {\n",
       "        vertical-align: middle;\n",
       "    }\n",
       "\n",
       "    .dataframe tbody tr th {\n",
       "        vertical-align: top;\n",
       "    }\n",
       "\n",
       "    .dataframe thead th {\n",
       "        text-align: right;\n",
       "    }\n",
       "</style>\n",
       "<table border=\"1\" class=\"dataframe\">\n",
       "  <thead>\n",
       "    <tr style=\"text-align: right;\">\n",
       "      <th></th>\n",
       "      <th>OBJECTID</th>\n",
       "      <th>Submitter_Name</th>\n",
       "      <th>Submitter_Email</th>\n",
       "      <th>Priority_Intervention_Type_All</th>\n",
       "      <th>Scrs</th>\n",
       "      <th>Scrs_Link</th>\n",
       "      <th>Centerline_Miles</th>\n",
       "      <th>One_Side_Rdwy_Only</th>\n",
       "      <th>Queue_Jumps</th>\n",
       "      <th>Bus_Brdng_Islnds</th>\n",
       "      <th>...</th>\n",
       "      <th>CT_District</th>\n",
       "      <th>County</th>\n",
       "      <th>Route</th>\n",
       "      <th>Geom_Priority_Intervention_Type</th>\n",
       "      <th>geo_comments</th>\n",
       "      <th>CreationDate</th>\n",
       "      <th>Lyr</th>\n",
       "      <th>EditDate</th>\n",
       "      <th>Shape_Length</th>\n",
       "      <th>geometry</th>\n",
       "    </tr>\n",
       "  </thead>\n",
       "  <tbody>\n",
       "    <tr>\n",
       "      <th>12</th>\n",
       "      <td>13</td>\n",
       "      <td>Joanna Xiao</td>\n",
       "      <td>JOANNA.XIAO@DOT.CA.GOV</td>\n",
       "      <td>Queue_Jump_lanes/signals,Improved_transit_stop...</td>\n",
       "      <td>Transit 1:1 chats, MST Network Plan, Salinas V...</td>\n",
       "      <td>https://mst.org/wp-content/media/Draft-Report-...</td>\n",
       "      <td>NaN</td>\n",
       "      <td>NaN</td>\n",
       "      <td>4.0</td>\n",
       "      <td>NaN</td>\n",
       "      <td>...</td>\n",
       "      <td>05</td>\n",
       "      <td>MON</td>\n",
       "      <td>68</td>\n",
       "      <td>Queue_Jump_lanes/signals</td>\n",
       "      <td>•\\tAny improvements to transit priority would ...</td>\n",
       "      <td>1693008805000</td>\n",
       "      <td>\"Lns1\"</td>\n",
       "      <td>1693421431000</td>\n",
       "      <td>0.000678</td>\n",
       "      <td>LINESTRING Z (-121.65753 36.66258 0.00000, -12...</td>\n",
       "    </tr>\n",
       "  </tbody>\n",
       "</table>\n",
       "<p>1 rows × 22 columns</p>\n",
       "</div>"
      ],
      "text/plain": [
       "    OBJECTID Submitter_Name         Submitter_Email  \\\n",
       "12        13    Joanna Xiao  JOANNA.XIAO@DOT.CA.GOV   \n",
       "\n",
       "                       Priority_Intervention_Type_All  \\\n",
       "12  Queue_Jump_lanes/signals,Improved_transit_stop...   \n",
       "\n",
       "                                                 Scrs  \\\n",
       "12  Transit 1:1 chats, MST Network Plan, Salinas V...   \n",
       "\n",
       "                                            Scrs_Link  Centerline_Miles  \\\n",
       "12  https://mst.org/wp-content/media/Draft-Report-...               NaN   \n",
       "\n",
       "   One_Side_Rdwy_Only  Queue_Jumps  Bus_Brdng_Islnds  ...  CT_District County  \\\n",
       "12                NaN          4.0               NaN  ...           05    MON   \n",
       "\n",
       "   Route Geom_Priority_Intervention_Type  \\\n",
       "12    68        Queue_Jump_lanes/signals   \n",
       "\n",
       "                                         geo_comments   CreationDate     Lyr  \\\n",
       "12  •\\tAny improvements to transit priority would ...  1693008805000  \"Lns1\"   \n",
       "\n",
       "         EditDate Shape_Length  \\\n",
       "12  1693421431000     0.000678   \n",
       "\n",
       "                                             geometry  \n",
       "12  LINESTRING Z (-121.65753 36.66258 0.00000, -12...  \n",
       "\n",
       "[1 rows x 22 columns]"
      ]
     },
     "execution_count": 13,
     "metadata": {},
     "output_type": "execute_result"
    }
   ],
   "source": [
    "line_priority.iloc[[12]]"
   ]
  },
  {
   "cell_type": "code",
   "execution_count": 14,
   "id": "39561373-1c1c-4192-98e9-daba976492c5",
   "metadata": {},
   "outputs": [
    {
     "data": {
      "text/plain": [
       "'•\\tAny improvements to transit priority would be welcome and they would consider shifting their Monterey to Salinas from Blanco and reservation to back to 68 w better flow. Currently MST no longer offers service along SR68 due to traffic. '"
      ]
     },
     "execution_count": 14,
     "metadata": {},
     "output_type": "execute_result"
    }
   ],
   "source": [
    "line_priority.iloc[[12]].geo_comments.iloc[0]"
   ]
  },
  {
   "cell_type": "code",
   "execution_count": 15,
   "id": "2986fa9d-8098-420b-b1c4-2b8df1ca39ab",
   "metadata": {},
   "outputs": [
    {
     "data": {
      "text/html": [
       "<div style=\"width:100%;\"><div style=\"position:relative;width:100%;height:0;padding-bottom:60%;\"><span style=\"color:#565656\">Make this Notebook Trusted to load map: File -> Trust Notebook</span><iframe src=\"about:blank\" style=\"position:absolute;width:100%;height:100%;left:0;top:0;border:none !important;\" data-html=%3C%21DOCTYPE%20html%3E%0A%3Chead%3E%20%20%20%20%0A%20%20%20%20%3Cmeta%20http-equiv%3D%22content-type%22%20content%3D%22text/html%3B%20charset%3DUTF-8%22%20/%3E%0A%20%20%20%20%0A%20%20%20%20%20%20%20%20%3Cscript%3E%0A%20%20%20%20%20%20%20%20%20%20%20%20L_NO_TOUCH%20%3D%20false%3B%0A%20%20%20%20%20%20%20%20%20%20%20%20L_DISABLE_3D%20%3D%20false%3B%0A%20%20%20%20%20%20%20%20%3C/script%3E%0A%20%20%20%20%0A%20%20%20%20%3Cstyle%3Ehtml%2C%20body%20%7Bwidth%3A%20100%25%3Bheight%3A%20100%25%3Bmargin%3A%200%3Bpadding%3A%200%3B%7D%3C/style%3E%0A%20%20%20%20%3Cstyle%3E%23map%20%7Bposition%3Aabsolute%3Btop%3A0%3Bbottom%3A0%3Bright%3A0%3Bleft%3A0%3B%7D%3C/style%3E%0A%20%20%20%20%3Cscript%20src%3D%22https%3A//cdn.jsdelivr.net/npm/leaflet%401.6.0/dist/leaflet.js%22%3E%3C/script%3E%0A%20%20%20%20%3Cscript%20src%3D%22https%3A//code.jquery.com/jquery-1.12.4.min.js%22%3E%3C/script%3E%0A%20%20%20%20%3Cscript%20src%3D%22https%3A//maxcdn.bootstrapcdn.com/bootstrap/3.2.0/js/bootstrap.min.js%22%3E%3C/script%3E%0A%20%20%20%20%3Cscript%20src%3D%22https%3A//cdnjs.cloudflare.com/ajax/libs/Leaflet.awesome-markers/2.0.2/leaflet.awesome-markers.js%22%3E%3C/script%3E%0A%20%20%20%20%3Clink%20rel%3D%22stylesheet%22%20href%3D%22https%3A//cdn.jsdelivr.net/npm/leaflet%401.6.0/dist/leaflet.css%22/%3E%0A%20%20%20%20%3Clink%20rel%3D%22stylesheet%22%20href%3D%22https%3A//maxcdn.bootstrapcdn.com/bootstrap/3.2.0/css/bootstrap.min.css%22/%3E%0A%20%20%20%20%3Clink%20rel%3D%22stylesheet%22%20href%3D%22https%3A//maxcdn.bootstrapcdn.com/bootstrap/3.2.0/css/bootstrap-theme.min.css%22/%3E%0A%20%20%20%20%3Clink%20rel%3D%22stylesheet%22%20href%3D%22https%3A//maxcdn.bootstrapcdn.com/font-awesome/4.6.3/css/font-awesome.min.css%22/%3E%0A%20%20%20%20%3Clink%20rel%3D%22stylesheet%22%20href%3D%22https%3A//cdnjs.cloudflare.com/ajax/libs/Leaflet.awesome-markers/2.0.2/leaflet.awesome-markers.css%22/%3E%0A%20%20%20%20%3Clink%20rel%3D%22stylesheet%22%20href%3D%22https%3A//cdn.jsdelivr.net/gh/python-visualization/folium/folium/templates/leaflet.awesome.rotate.min.css%22/%3E%0A%20%20%20%20%0A%20%20%20%20%20%20%20%20%20%20%20%20%3Cmeta%20name%3D%22viewport%22%20content%3D%22width%3Ddevice-width%2C%0A%20%20%20%20%20%20%20%20%20%20%20%20%20%20%20%20initial-scale%3D1.0%2C%20maximum-scale%3D1.0%2C%20user-scalable%3Dno%22%20/%3E%0A%20%20%20%20%20%20%20%20%20%20%20%20%3Cstyle%3E%0A%20%20%20%20%20%20%20%20%20%20%20%20%20%20%20%20%23map_e09f5d11269744a58a8f94289c773fab%20%7B%0A%20%20%20%20%20%20%20%20%20%20%20%20%20%20%20%20%20%20%20%20position%3A%20relative%3B%0A%20%20%20%20%20%20%20%20%20%20%20%20%20%20%20%20%20%20%20%20width%3A%20100.0%25%3B%0A%20%20%20%20%20%20%20%20%20%20%20%20%20%20%20%20%20%20%20%20height%3A%20100.0%25%3B%0A%20%20%20%20%20%20%20%20%20%20%20%20%20%20%20%20%20%20%20%20left%3A%200.0%25%3B%0A%20%20%20%20%20%20%20%20%20%20%20%20%20%20%20%20%20%20%20%20top%3A%200.0%25%3B%0A%20%20%20%20%20%20%20%20%20%20%20%20%20%20%20%20%7D%0A%20%20%20%20%20%20%20%20%20%20%20%20%3C/style%3E%0A%20%20%20%20%20%20%20%20%0A%20%20%20%20%0A%20%20%20%20%20%20%20%20%20%20%20%20%20%20%20%20%20%20%20%20%3Cstyle%3E%0A%20%20%20%20%20%20%20%20%20%20%20%20%20%20%20%20%20%20%20%20%20%20%20%20.foliumtooltip%20%7B%0A%20%20%20%20%20%20%20%20%20%20%20%20%20%20%20%20%20%20%20%20%20%20%20%20%20%20%20%20%0A%20%20%20%20%20%20%20%20%20%20%20%20%20%20%20%20%20%20%20%20%20%20%20%20%7D%0A%20%20%20%20%20%20%20%20%20%20%20%20%20%20%20%20%20%20%20%20%20%20%20.foliumtooltip%20table%7B%0A%20%20%20%20%20%20%20%20%20%20%20%20%20%20%20%20%20%20%20%20%20%20%20%20%20%20%20%20margin%3A%20auto%3B%0A%20%20%20%20%20%20%20%20%20%20%20%20%20%20%20%20%20%20%20%20%20%20%20%20%7D%0A%20%20%20%20%20%20%20%20%20%20%20%20%20%20%20%20%20%20%20%20%20%20%20%20.foliumtooltip%20tr%7B%0A%20%20%20%20%20%20%20%20%20%20%20%20%20%20%20%20%20%20%20%20%20%20%20%20%20%20%20%20text-align%3A%20left%3B%0A%20%20%20%20%20%20%20%20%20%20%20%20%20%20%20%20%20%20%20%20%20%20%20%20%7D%0A%20%20%20%20%20%20%20%20%20%20%20%20%20%20%20%20%20%20%20%20%20%20%20%20.foliumtooltip%20th%7B%0A%20%20%20%20%20%20%20%20%20%20%20%20%20%20%20%20%20%20%20%20%20%20%20%20%20%20%20%20padding%3A%202px%3B%20padding-right%3A%208px%3B%0A%20%20%20%20%20%20%20%20%20%20%20%20%20%20%20%20%20%20%20%20%20%20%20%20%7D%0A%20%20%20%20%20%20%20%20%20%20%20%20%20%20%20%20%20%20%20%20%3C/style%3E%0A%20%20%20%20%20%20%20%20%20%20%20%20%0A%3C/head%3E%0A%3Cbody%3E%20%20%20%20%0A%20%20%20%20%0A%20%20%20%20%20%20%20%20%20%20%20%20%3Cdiv%20class%3D%22folium-map%22%20id%3D%22map_e09f5d11269744a58a8f94289c773fab%22%20%3E%3C/div%3E%0A%20%20%20%20%20%20%20%20%0A%3C/body%3E%0A%3Cscript%3E%20%20%20%20%0A%20%20%20%20%0A%20%20%20%20%20%20%20%20%20%20%20%20var%20map_e09f5d11269744a58a8f94289c773fab%20%3D%20L.map%28%0A%20%20%20%20%20%20%20%20%20%20%20%20%20%20%20%20%22map_e09f5d11269744a58a8f94289c773fab%22%2C%0A%20%20%20%20%20%20%20%20%20%20%20%20%20%20%20%20%7B%0A%20%20%20%20%20%20%20%20%20%20%20%20%20%20%20%20%20%20%20%20center%3A%20%5B36.662644952500045%2C%20-121.65765208049996%5D%2C%0A%20%20%20%20%20%20%20%20%20%20%20%20%20%20%20%20%20%20%20%20crs%3A%20L.CRS.EPSG3857%2C%0A%20%20%20%20%20%20%20%20%20%20%20%20%20%20%20%20%20%20%20%20zoom%3A%2010%2C%0A%20%20%20%20%20%20%20%20%20%20%20%20%20%20%20%20%20%20%20%20zoomControl%3A%20true%2C%0A%20%20%20%20%20%20%20%20%20%20%20%20%20%20%20%20%20%20%20%20preferCanvas%3A%20false%2C%0A%20%20%20%20%20%20%20%20%20%20%20%20%20%20%20%20%7D%0A%20%20%20%20%20%20%20%20%20%20%20%20%29%3B%0A%20%20%20%20%20%20%20%20%20%20%20%20L.control.scale%28%29.addTo%28map_e09f5d11269744a58a8f94289c773fab%29%3B%0A%0A%20%20%20%20%20%20%20%20%20%20%20%20%0A%0A%20%20%20%20%20%20%20%20%0A%20%20%20%20%0A%20%20%20%20%20%20%20%20%20%20%20%20var%20tile_layer_87cce76b946c4e8280a7b78507a4b9d7%20%3D%20L.tileLayer%28%0A%20%20%20%20%20%20%20%20%20%20%20%20%20%20%20%20%22https%3A//%7Bs%7D.tile.openstreetmap.org/%7Bz%7D/%7Bx%7D/%7By%7D.png%22%2C%0A%20%20%20%20%20%20%20%20%20%20%20%20%20%20%20%20%7B%22attribution%22%3A%20%22Data%20by%20%5Cu0026copy%3B%20%5Cu003ca%20href%3D%5C%22http%3A//openstreetmap.org%5C%22%5Cu003eOpenStreetMap%5Cu003c/a%5Cu003e%2C%20under%20%5Cu003ca%20href%3D%5C%22http%3A//www.openstreetmap.org/copyright%5C%22%5Cu003eODbL%5Cu003c/a%5Cu003e.%22%2C%20%22detectRetina%22%3A%20false%2C%20%22maxNativeZoom%22%3A%2018%2C%20%22maxZoom%22%3A%2018%2C%20%22minZoom%22%3A%200%2C%20%22noWrap%22%3A%20false%2C%20%22opacity%22%3A%201%2C%20%22subdomains%22%3A%20%22abc%22%2C%20%22tms%22%3A%20false%7D%0A%20%20%20%20%20%20%20%20%20%20%20%20%29.addTo%28map_e09f5d11269744a58a8f94289c773fab%29%3B%0A%20%20%20%20%20%20%20%20%0A%20%20%20%20%0A%20%20%20%20%20%20%20%20%20%20%20%20map_e09f5d11269744a58a8f94289c773fab.fitBounds%28%0A%20%20%20%20%20%20%20%20%20%20%20%20%20%20%20%20%5B%5B36.66249410100005%2C%20-121.65777869199997%5D%2C%20%5B36.66279580400004%2C%20-121.65752546899995%5D%5D%2C%0A%20%20%20%20%20%20%20%20%20%20%20%20%20%20%20%20%7B%7D%0A%20%20%20%20%20%20%20%20%20%20%20%20%29%3B%0A%20%20%20%20%20%20%20%20%0A%20%20%20%20%0A%20%20%20%20%20%20%20%20function%20geo_json_90b42a0e54ba442d94de14647d4663a0_styler%28feature%29%20%7B%0A%20%20%20%20%20%20%20%20%20%20%20%20switch%28feature.id%29%20%7B%0A%20%20%20%20%20%20%20%20%20%20%20%20%20%20%20%20default%3A%0A%20%20%20%20%20%20%20%20%20%20%20%20%20%20%20%20%20%20%20%20return%20%7B%22fillOpacity%22%3A%200.5%2C%20%22weight%22%3A%202%7D%3B%0A%20%20%20%20%20%20%20%20%20%20%20%20%7D%0A%20%20%20%20%20%20%20%20%7D%0A%20%20%20%20%20%20%20%20function%20geo_json_90b42a0e54ba442d94de14647d4663a0_highlighter%28feature%29%20%7B%0A%20%20%20%20%20%20%20%20%20%20%20%20switch%28feature.id%29%20%7B%0A%20%20%20%20%20%20%20%20%20%20%20%20%20%20%20%20default%3A%0A%20%20%20%20%20%20%20%20%20%20%20%20%20%20%20%20%20%20%20%20return%20%7B%22fillOpacity%22%3A%200.75%7D%3B%0A%20%20%20%20%20%20%20%20%20%20%20%20%7D%0A%20%20%20%20%20%20%20%20%7D%0A%20%20%20%20%20%20%20%20function%20geo_json_90b42a0e54ba442d94de14647d4663a0_pointToLayer%28feature%2C%20latlng%29%20%7B%0A%20%20%20%20%20%20%20%20%20%20%20%20var%20opts%20%3D%20%7B%22bubblingMouseEvents%22%3A%20true%2C%20%22color%22%3A%20%22%233388ff%22%2C%20%22dashArray%22%3A%20null%2C%20%22dashOffset%22%3A%20null%2C%20%22fill%22%3A%20true%2C%20%22fillColor%22%3A%20%22%233388ff%22%2C%20%22fillOpacity%22%3A%200.2%2C%20%22fillRule%22%3A%20%22evenodd%22%2C%20%22lineCap%22%3A%20%22round%22%2C%20%22lineJoin%22%3A%20%22round%22%2C%20%22opacity%22%3A%201.0%2C%20%22radius%22%3A%202%2C%20%22stroke%22%3A%20true%2C%20%22weight%22%3A%203%7D%3B%0A%20%20%20%20%20%20%20%20%20%20%20%20%0A%20%20%20%20%20%20%20%20%20%20%20%20let%20style%20%3D%20geo_json_90b42a0e54ba442d94de14647d4663a0_styler%28feature%29%0A%20%20%20%20%20%20%20%20%20%20%20%20Object.assign%28opts%2C%20style%29%0A%20%20%20%20%20%20%20%20%20%20%20%20%0A%20%20%20%20%20%20%20%20%20%20%20%20return%20new%20L.CircleMarker%28latlng%2C%20opts%29%0A%20%20%20%20%20%20%20%20%7D%0A%0A%20%20%20%20%20%20%20%20function%20geo_json_90b42a0e54ba442d94de14647d4663a0_onEachFeature%28feature%2C%20layer%29%20%7B%0A%20%20%20%20%20%20%20%20%20%20%20%20layer.on%28%7B%0A%20%20%20%20%20%20%20%20%20%20%20%20%20%20%20%20mouseout%3A%20function%28e%29%20%7B%0A%20%20%20%20%20%20%20%20%20%20%20%20%20%20%20%20%20%20%20%20if%28typeof%20e.target.setStyle%20%3D%3D%3D%20%22function%22%29%7B%0A%20%20%20%20%20%20%20%20%20%20%20%20%20%20%20%20%20%20%20%20%20%20%20%20geo_json_90b42a0e54ba442d94de14647d4663a0.resetStyle%28e.target%29%3B%0A%20%20%20%20%20%20%20%20%20%20%20%20%20%20%20%20%20%20%20%20%7D%0A%20%20%20%20%20%20%20%20%20%20%20%20%20%20%20%20%7D%2C%0A%20%20%20%20%20%20%20%20%20%20%20%20%20%20%20%20mouseover%3A%20function%28e%29%20%7B%0A%20%20%20%20%20%20%20%20%20%20%20%20%20%20%20%20%20%20%20%20if%28typeof%20e.target.setStyle%20%3D%3D%3D%20%22function%22%29%7B%0A%20%20%20%20%20%20%20%20%20%20%20%20%20%20%20%20%20%20%20%20%20%20%20%20const%20highlightStyle%20%3D%20geo_json_90b42a0e54ba442d94de14647d4663a0_highlighter%28e.target.feature%29%0A%20%20%20%20%20%20%20%20%20%20%20%20%20%20%20%20%20%20%20%20%20%20%20%20e.target.setStyle%28highlightStyle%29%3B%0A%20%20%20%20%20%20%20%20%20%20%20%20%20%20%20%20%20%20%20%20%7D%0A%20%20%20%20%20%20%20%20%20%20%20%20%20%20%20%20%7D%2C%0A%20%20%20%20%20%20%20%20%20%20%20%20%7D%29%3B%0A%20%20%20%20%20%20%20%20%7D%3B%0A%20%20%20%20%20%20%20%20var%20geo_json_90b42a0e54ba442d94de14647d4663a0%20%3D%20L.geoJson%28null%2C%20%7B%0A%20%20%20%20%20%20%20%20%20%20%20%20%20%20%20%20onEachFeature%3A%20geo_json_90b42a0e54ba442d94de14647d4663a0_onEachFeature%2C%0A%20%20%20%20%20%20%20%20%20%20%20%20%0A%20%20%20%20%20%20%20%20%20%20%20%20%20%20%20%20style%3A%20geo_json_90b42a0e54ba442d94de14647d4663a0_styler%2C%0A%20%20%20%20%20%20%20%20%20%20%20%20%20%20%20%20pointToLayer%3A%20geo_json_90b42a0e54ba442d94de14647d4663a0_pointToLayer%0A%20%20%20%20%20%20%20%20%7D%29%3B%0A%0A%20%20%20%20%20%20%20%20function%20geo_json_90b42a0e54ba442d94de14647d4663a0_add%20%28data%29%20%7B%0A%20%20%20%20%20%20%20%20%20%20%20%20geo_json_90b42a0e54ba442d94de14647d4663a0%0A%20%20%20%20%20%20%20%20%20%20%20%20%20%20%20%20.addData%28data%29%0A%20%20%20%20%20%20%20%20%20%20%20%20%20%20%20%20.addTo%28map_e09f5d11269744a58a8f94289c773fab%29%3B%0A%20%20%20%20%20%20%20%20%7D%0A%20%20%20%20%20%20%20%20%20%20%20%20geo_json_90b42a0e54ba442d94de14647d4663a0_add%28%7B%22bbox%22%3A%20%5B-121.65777869199997%2C%2036.66249410100005%2C%20-121.65752546899995%2C%2036.66279580400004%5D%2C%20%22features%22%3A%20%5B%7B%22bbox%22%3A%20%5B-121.65777869199997%2C%2036.66249410100005%2C%20-121.65752546899995%2C%2036.66279580400004%5D%2C%20%22geometry%22%3A%20%7B%22coordinates%22%3A%20%5B%5B-121.65752546899995%2C%2036.66258072900007%2C%200.0%5D%2C%20%5B-121.65772283399997%2C%2036.66263748500006%2C%200.0%5D%2C%20%5B-121.65777869199997%2C%2036.66249410100005%2C%200.0%5D%2C%20%5B-121.65767442399999%2C%2036.66279580400004%2C%200.0%5D%5D%2C%20%22type%22%3A%20%22LineString%22%7D%2C%20%22id%22%3A%20%2212%22%2C%20%22properties%22%3A%20%7B%22Bus_Brdng_Islnds%22%3A%20null%2C%20%22CT_District%22%3A%20%2205%22%2C%20%22Centerline_Miles%22%3A%20null%2C%20%22County%22%3A%20%22MON%22%2C%20%22CreationDate%22%3A%201693008805000%2C%20%22EditDate%22%3A%201693421431000%2C%20%22Geom_Priority_Intervention_Type%22%3A%20%22Queue_Jump_lanes/signals%22%2C%20%22Imprv_Site_Amnts%22%3A%2010.0%2C%20%22Lyr%22%3A%20%22%5C%22Lns1%5C%22%22%2C%20%22OBJECTID%22%3A%2013%2C%20%22One_Side_Rdwy_Only%22%3A%20null%2C%20%22Priority_Intervention_Type_All%22%3A%20%22Queue_Jump_lanes/signals%2CImproved_transit_stop_amenities_including_lighting_and_seating%22%2C%20%22Queue_Jumps%22%3A%204.0%2C%20%22Route%22%3A%2068%2C%20%22Scrs%22%3A%20%22Transit%201%3A1%20chats%2C%20MST%20Network%20Plan%2C%20Salinas%20Valley%20Express%20Transit%20Corridor%20Planning%20Study%22%2C%20%22Scrs_Link%22%3A%20%22https%3A//mst.org/wp-content/media/Draft-Report-5.23.19.pdf%20AND%20https%3A//mst.org/wp-content/media/MST-Final-Network-Plan-Feb-2022.pdf%22%2C%20%22Shape_Length%22%3A%200.0006784559926462741%2C%20%22Submitter_Email%22%3A%20%22JOANNA.XIAO%40DOT.CA.GOV%22%2C%20%22Submitter_Name%22%3A%20%22Joanna%20Xiao%22%2C%20%22Transit_Op_Support%22%3A%20%22yes%22%2C%20%22geo_comments%22%3A%20%22%5Cu2022%5CtAny%20improvements%20to%20transit%20priority%20would%20be%20welcome%20and%20they%20would%20consider%20shifting%20their%20Monterey%20to%20Salinas%20from%20Blanco%20and%20reservation%20to%20back%20to%2068%20w%20better%20flow.%20Currently%20MST%20no%20longer%20offers%20service%20along%20SR68%20due%20to%20traffic.%20%22%7D%2C%20%22type%22%3A%20%22Feature%22%7D%5D%2C%20%22type%22%3A%20%22FeatureCollection%22%7D%29%3B%0A%0A%20%20%20%20%20%20%20%20%0A%20%20%20%20%0A%20%20%20%20geo_json_90b42a0e54ba442d94de14647d4663a0.bindTooltip%28%0A%20%20%20%20function%28layer%29%7B%0A%20%20%20%20let%20div%20%3D%20L.DomUtil.create%28%27div%27%29%3B%0A%20%20%20%20%0A%20%20%20%20let%20handleObject%20%3D%20feature%3D%3Etypeof%28feature%29%3D%3D%27object%27%20%3F%20JSON.stringify%28feature%29%20%3A%20feature%3B%0A%20%20%20%20let%20fields%20%3D%20%5B%22OBJECTID%22%2C%20%22Submitter_Name%22%2C%20%22Submitter_Email%22%2C%20%22Priority_Intervention_Type_All%22%2C%20%22Scrs%22%2C%20%22Scrs_Link%22%2C%20%22Centerline_Miles%22%2C%20%22One_Side_Rdwy_Only%22%2C%20%22Queue_Jumps%22%2C%20%22Bus_Brdng_Islnds%22%2C%20%22Imprv_Site_Amnts%22%2C%20%22Transit_Op_Support%22%2C%20%22CT_District%22%2C%20%22County%22%2C%20%22Route%22%2C%20%22Geom_Priority_Intervention_Type%22%2C%20%22geo_comments%22%2C%20%22CreationDate%22%2C%20%22Lyr%22%2C%20%22EditDate%22%2C%20%22Shape_Length%22%5D%3B%0A%20%20%20%20let%20aliases%20%3D%20%5B%22OBJECTID%22%2C%20%22Submitter_Name%22%2C%20%22Submitter_Email%22%2C%20%22Priority_Intervention_Type_All%22%2C%20%22Scrs%22%2C%20%22Scrs_Link%22%2C%20%22Centerline_Miles%22%2C%20%22One_Side_Rdwy_Only%22%2C%20%22Queue_Jumps%22%2C%20%22Bus_Brdng_Islnds%22%2C%20%22Imprv_Site_Amnts%22%2C%20%22Transit_Op_Support%22%2C%20%22CT_District%22%2C%20%22County%22%2C%20%22Route%22%2C%20%22Geom_Priority_Intervention_Type%22%2C%20%22geo_comments%22%2C%20%22CreationDate%22%2C%20%22Lyr%22%2C%20%22EditDate%22%2C%20%22Shape_Length%22%5D%3B%0A%20%20%20%20let%20table%20%3D%20%27%3Ctable%3E%27%20%2B%0A%20%20%20%20%20%20%20%20String%28%0A%20%20%20%20%20%20%20%20fields.map%28%0A%20%20%20%20%20%20%20%20%28v%2Ci%29%3D%3E%0A%20%20%20%20%20%20%20%20%60%3Ctr%3E%0A%20%20%20%20%20%20%20%20%20%20%20%20%3Cth%3E%24%7Baliases%5Bi%5D%7D%3C/th%3E%0A%20%20%20%20%20%20%20%20%20%20%20%20%0A%20%20%20%20%20%20%20%20%20%20%20%20%3Ctd%3E%24%7BhandleObject%28layer.feature.properties%5Bv%5D%29%7D%3C/td%3E%0A%20%20%20%20%20%20%20%20%3C/tr%3E%60%29.join%28%27%27%29%29%0A%20%20%20%20%2B%27%3C/table%3E%27%3B%0A%20%20%20%20div.innerHTML%3Dtable%3B%0A%20%20%20%20%0A%20%20%20%20return%20div%0A%20%20%20%20%7D%0A%20%20%20%20%2C%7B%22className%22%3A%20%22foliumtooltip%22%2C%20%22sticky%22%3A%20true%7D%29%3B%0A%20%20%20%20%20%20%20%20%20%20%20%20%20%20%20%20%20%20%20%20%20%0A%3C/script%3E onload=\"this.contentDocument.open();this.contentDocument.write(    decodeURIComponent(this.getAttribute('data-html')));this.contentDocument.close();\" allowfullscreen webkitallowfullscreen mozallowfullscreen></iframe></div></div>"
      ],
      "text/plain": [
       "<folium.folium.Map at 0x7f0ee352fd90>"
      ]
     },
     "execution_count": 15,
     "metadata": {},
     "output_type": "execute_result"
    }
   ],
   "source": [
    "line_priority.iloc[[12]].explore()"
   ]
  },
  {
   "cell_type": "code",
   "execution_count": 16,
   "id": "6a478370-24c4-42e8-9921-4d97324d1d2f",
   "metadata": {
    "tags": [
     "parameters"
    ]
   },
   "outputs": [],
   "source": [
    "## parameters cell\n",
    "itp_id = 208"
   ]
  },
  {
   "cell_type": "code",
   "execution_count": 17,
   "id": "218f56e4-0ce3-494b-b3fb-8b0885df1809",
   "metadata": {},
   "outputs": [],
   "source": [
    "%%capture\n",
    "rt_day = rt_filter_map_plot.from_gcs(itp_id, analysis_date, pbar)"
   ]
  },
  {
   "cell_type": "code",
   "execution_count": 18,
   "id": "d37fe11f-a90e-4b08-9cf2-b031a3a829e0",
   "metadata": {},
   "outputs": [
    {
     "name": "stdout",
     "output_type": "stream",
     "text": [
      "{\"organization_name\": \"Monterey-Salinas Transit\"}\n"
     ]
    }
   ],
   "source": [
    "%%capture_parameters\n",
    "organization_name = rt_day.organization_name\n",
    "organization_name"
   ]
  },
  {
   "cell_type": "code",
   "execution_count": 19,
   "id": "58441f14-6ba4-4293-8cfd-69c217ab966b",
   "metadata": {},
   "outputs": [],
   "source": [
    "rt_day.set_filter(route_names = ['20'])"
   ]
  },
  {
   "cell_type": "code",
   "execution_count": 20,
   "id": "936a85ee-56c1-4742-8443-d8e171c69299",
   "metadata": {},
   "outputs": [],
   "source": [
    "_m = rt_day.segment_speed_map()"
   ]
  },
  {
   "cell_type": "code",
   "execution_count": 21,
   "id": "23d9e22f-3efe-4de5-b376-ecbbfcb8005c",
   "metadata": {},
   "outputs": [
    {
     "data": {
      "text/plain": [
       "31345.658237169577"
      ]
     },
     "execution_count": 21,
     "metadata": {},
     "output_type": "execute_result"
    }
   ],
   "source": [
    "route_20_length = rt_day.stop_segment_speed_view.shape_meters.max()\n",
    "route_20_length"
   ]
  },
  {
   "cell_type": "code",
   "execution_count": 22,
   "id": "9c49d98b-24d0-42d9-8849-4ba7f2644f5a",
   "metadata": {},
   "outputs": [
    {
     "data": {
      "text/plain": [
       "17.986663215651024"
      ]
     },
     "execution_count": 22,
     "metadata": {},
     "output_type": "execute_result"
    }
   ],
   "source": [
    "p20_allday_mph = rt_day._filter(rt_day.rt_trips).mean_speed_mph.quantile(.2)\n",
    "p20_allday_mph"
   ]
  },
  {
   "cell_type": "code",
   "execution_count": 23,
   "id": "ef3da0e7-a668-4ff1-81b6-16c6aa11c470",
   "metadata": {},
   "outputs": [
    {
     "data": {
      "text/plain": [
       "1.0831054648810645"
      ]
     },
     "execution_count": 23,
     "metadata": {},
     "output_type": "execute_result"
    }
   ],
   "source": [
    "route_20_mi = route_20_length / 1609\n",
    "runtime_hr = route_20_mi / p20_allday_mph\n",
    "runtime_hr"
   ]
  },
  {
   "cell_type": "markdown",
   "id": "6955b9c9-4e82-4736-8257-599be03a1674",
   "metadata": {
    "jp-MarkdownHeadingCollapsed": true,
    "tags": []
   },
   "source": [
    "## 1 MST -- John (~queue jumps~/amenities)\n",
    "\n",
    "* propose not modeling a speed increase"
   ]
  },
  {
   "cell_type": "code",
   "execution_count": 24,
   "id": "dbdf7458-fa8f-4dd9-aadb-781f43ab54ec",
   "metadata": {},
   "outputs": [
    {
     "data": {
      "text/html": [
       "<div>\n",
       "<style scoped>\n",
       "    .dataframe tbody tr th:only-of-type {\n",
       "        vertical-align: middle;\n",
       "    }\n",
       "\n",
       "    .dataframe tbody tr th {\n",
       "        vertical-align: top;\n",
       "    }\n",
       "\n",
       "    .dataframe thead th {\n",
       "        text-align: right;\n",
       "    }\n",
       "</style>\n",
       "<table border=\"1\" class=\"dataframe\">\n",
       "  <thead>\n",
       "    <tr style=\"text-align: right;\">\n",
       "      <th></th>\n",
       "      <th>OBJECTID</th>\n",
       "      <th>Submitter_Name</th>\n",
       "      <th>Submitter_Email</th>\n",
       "      <th>Priority_Intervention_Type_All</th>\n",
       "      <th>Scrs</th>\n",
       "      <th>Scrs_Link</th>\n",
       "      <th>Centerline_Miles</th>\n",
       "      <th>One_Side_Rdwy_Only</th>\n",
       "      <th>Queue_Jumps</th>\n",
       "      <th>Bus_Brdng_Islnds</th>\n",
       "      <th>...</th>\n",
       "      <th>CT_District</th>\n",
       "      <th>County</th>\n",
       "      <th>Route</th>\n",
       "      <th>Geom_Priority_Intervention_Type</th>\n",
       "      <th>geo_comments</th>\n",
       "      <th>CreationDate</th>\n",
       "      <th>Lyr</th>\n",
       "      <th>EditDate</th>\n",
       "      <th>Shape_Length</th>\n",
       "      <th>geometry</th>\n",
       "    </tr>\n",
       "  </thead>\n",
       "  <tbody>\n",
       "    <tr>\n",
       "      <th>1</th>\n",
       "      <td>2</td>\n",
       "      <td>Joanna Xiao</td>\n",
       "      <td>JOANNA.XIAO@DOT.CA.GOV</td>\n",
       "      <td>Queue_Jump_lanes/signals,Improved_transit_stop...</td>\n",
       "      <td>Transit 1:1 chats, MST Network Plan, Salinas V...</td>\n",
       "      <td>https://mst.org/wp-content/media/Draft-Report-...</td>\n",
       "      <td>NaN</td>\n",
       "      <td>NaN</td>\n",
       "      <td>4.0</td>\n",
       "      <td>NaN</td>\n",
       "      <td>...</td>\n",
       "      <td>05</td>\n",
       "      <td>MON</td>\n",
       "      <td>68</td>\n",
       "      <td>NaN</td>\n",
       "      <td>•\\tAlong John St. there are plans to redevelop...</td>\n",
       "      <td>1693008805000</td>\n",
       "      <td>\"Lns3\"</td>\n",
       "      <td>1693421423000</td>\n",
       "      <td>0.000703</td>\n",
       "      <td>LINESTRING Z (-121.64722 36.66942 0.00000, -12...</td>\n",
       "    </tr>\n",
       "  </tbody>\n",
       "</table>\n",
       "<p>1 rows × 22 columns</p>\n",
       "</div>"
      ],
      "text/plain": [
       "   OBJECTID Submitter_Name         Submitter_Email  \\\n",
       "1         2    Joanna Xiao  JOANNA.XIAO@DOT.CA.GOV   \n",
       "\n",
       "                      Priority_Intervention_Type_All  \\\n",
       "1  Queue_Jump_lanes/signals,Improved_transit_stop...   \n",
       "\n",
       "                                                Scrs  \\\n",
       "1  Transit 1:1 chats, MST Network Plan, Salinas V...   \n",
       "\n",
       "                                           Scrs_Link  Centerline_Miles  \\\n",
       "1  https://mst.org/wp-content/media/Draft-Report-...               NaN   \n",
       "\n",
       "  One_Side_Rdwy_Only  Queue_Jumps  Bus_Brdng_Islnds  ...  CT_District County  \\\n",
       "1                NaN          4.0               NaN  ...           05    MON   \n",
       "\n",
       "  Route Geom_Priority_Intervention_Type  \\\n",
       "1    68                             NaN   \n",
       "\n",
       "                                        geo_comments   CreationDate     Lyr  \\\n",
       "1  •\\tAlong John St. there are plans to redevelop...  1693008805000  \"Lns3\"   \n",
       "\n",
       "        EditDate Shape_Length  \\\n",
       "1  1693421423000     0.000703   \n",
       "\n",
       "                                            geometry  \n",
       "1  LINESTRING Z (-121.64722 36.66942 0.00000, -12...  \n",
       "\n",
       "[1 rows x 22 columns]"
      ]
     },
     "execution_count": 24,
     "metadata": {},
     "output_type": "execute_result"
    }
   ],
   "source": [
    "line_priority.iloc[[1]]"
   ]
  },
  {
   "cell_type": "code",
   "execution_count": 25,
   "id": "cb081e8f-dd63-4ea8-a513-6597502b45fb",
   "metadata": {},
   "outputs": [
    {
     "data": {
      "text/plain": [
       "'•\\tAlong John St. there are plans to redevelop in this area, any sidewalk improvements or curb ramps and wide sidewalks and shelters at major intersections would be helpful'"
      ]
     },
     "execution_count": 25,
     "metadata": {},
     "output_type": "execute_result"
    }
   ],
   "source": [
    "line_priority.iloc[[1]].geo_comments.iloc[0]"
   ]
  },
  {
   "cell_type": "code",
   "execution_count": 26,
   "id": "55d781a7-7929-4404-8aba-76cc0fc86f4d",
   "metadata": {},
   "outputs": [
    {
     "data": {
      "text/html": [
       "<div style=\"width:100%;\"><div style=\"position:relative;width:100%;height:0;padding-bottom:60%;\"><span style=\"color:#565656\">Make this Notebook Trusted to load map: File -> Trust Notebook</span><iframe src=\"about:blank\" style=\"position:absolute;width:100%;height:100%;left:0;top:0;border:none !important;\" data-html=%3C%21DOCTYPE%20html%3E%0A%3Chead%3E%20%20%20%20%0A%20%20%20%20%3Cmeta%20http-equiv%3D%22content-type%22%20content%3D%22text/html%3B%20charset%3DUTF-8%22%20/%3E%0A%20%20%20%20%0A%20%20%20%20%20%20%20%20%3Cscript%3E%0A%20%20%20%20%20%20%20%20%20%20%20%20L_NO_TOUCH%20%3D%20false%3B%0A%20%20%20%20%20%20%20%20%20%20%20%20L_DISABLE_3D%20%3D%20false%3B%0A%20%20%20%20%20%20%20%20%3C/script%3E%0A%20%20%20%20%0A%20%20%20%20%3Cstyle%3Ehtml%2C%20body%20%7Bwidth%3A%20100%25%3Bheight%3A%20100%25%3Bmargin%3A%200%3Bpadding%3A%200%3B%7D%3C/style%3E%0A%20%20%20%20%3Cstyle%3E%23map%20%7Bposition%3Aabsolute%3Btop%3A0%3Bbottom%3A0%3Bright%3A0%3Bleft%3A0%3B%7D%3C/style%3E%0A%20%20%20%20%3Cscript%20src%3D%22https%3A//cdn.jsdelivr.net/npm/leaflet%401.6.0/dist/leaflet.js%22%3E%3C/script%3E%0A%20%20%20%20%3Cscript%20src%3D%22https%3A//code.jquery.com/jquery-1.12.4.min.js%22%3E%3C/script%3E%0A%20%20%20%20%3Cscript%20src%3D%22https%3A//maxcdn.bootstrapcdn.com/bootstrap/3.2.0/js/bootstrap.min.js%22%3E%3C/script%3E%0A%20%20%20%20%3Cscript%20src%3D%22https%3A//cdnjs.cloudflare.com/ajax/libs/Leaflet.awesome-markers/2.0.2/leaflet.awesome-markers.js%22%3E%3C/script%3E%0A%20%20%20%20%3Clink%20rel%3D%22stylesheet%22%20href%3D%22https%3A//cdn.jsdelivr.net/npm/leaflet%401.6.0/dist/leaflet.css%22/%3E%0A%20%20%20%20%3Clink%20rel%3D%22stylesheet%22%20href%3D%22https%3A//maxcdn.bootstrapcdn.com/bootstrap/3.2.0/css/bootstrap.min.css%22/%3E%0A%20%20%20%20%3Clink%20rel%3D%22stylesheet%22%20href%3D%22https%3A//maxcdn.bootstrapcdn.com/bootstrap/3.2.0/css/bootstrap-theme.min.css%22/%3E%0A%20%20%20%20%3Clink%20rel%3D%22stylesheet%22%20href%3D%22https%3A//maxcdn.bootstrapcdn.com/font-awesome/4.6.3/css/font-awesome.min.css%22/%3E%0A%20%20%20%20%3Clink%20rel%3D%22stylesheet%22%20href%3D%22https%3A//cdnjs.cloudflare.com/ajax/libs/Leaflet.awesome-markers/2.0.2/leaflet.awesome-markers.css%22/%3E%0A%20%20%20%20%3Clink%20rel%3D%22stylesheet%22%20href%3D%22https%3A//cdn.jsdelivr.net/gh/python-visualization/folium/folium/templates/leaflet.awesome.rotate.min.css%22/%3E%0A%20%20%20%20%0A%20%20%20%20%20%20%20%20%20%20%20%20%3Cmeta%20name%3D%22viewport%22%20content%3D%22width%3Ddevice-width%2C%0A%20%20%20%20%20%20%20%20%20%20%20%20%20%20%20%20initial-scale%3D1.0%2C%20maximum-scale%3D1.0%2C%20user-scalable%3Dno%22%20/%3E%0A%20%20%20%20%20%20%20%20%20%20%20%20%3Cstyle%3E%0A%20%20%20%20%20%20%20%20%20%20%20%20%20%20%20%20%23map_5d49ae3c0a4b469781d9cdbdd2c0ea13%20%7B%0A%20%20%20%20%20%20%20%20%20%20%20%20%20%20%20%20%20%20%20%20position%3A%20relative%3B%0A%20%20%20%20%20%20%20%20%20%20%20%20%20%20%20%20%20%20%20%20width%3A%20100.0%25%3B%0A%20%20%20%20%20%20%20%20%20%20%20%20%20%20%20%20%20%20%20%20height%3A%20100.0%25%3B%0A%20%20%20%20%20%20%20%20%20%20%20%20%20%20%20%20%20%20%20%20left%3A%200.0%25%3B%0A%20%20%20%20%20%20%20%20%20%20%20%20%20%20%20%20%20%20%20%20top%3A%200.0%25%3B%0A%20%20%20%20%20%20%20%20%20%20%20%20%20%20%20%20%7D%0A%20%20%20%20%20%20%20%20%20%20%20%20%3C/style%3E%0A%20%20%20%20%20%20%20%20%0A%20%20%20%20%0A%20%20%20%20%20%20%20%20%20%20%20%20%20%20%20%20%20%20%20%20%3Cstyle%3E%0A%20%20%20%20%20%20%20%20%20%20%20%20%20%20%20%20%20%20%20%20%20%20%20%20.foliumtooltip%20%7B%0A%20%20%20%20%20%20%20%20%20%20%20%20%20%20%20%20%20%20%20%20%20%20%20%20%20%20%20%20%0A%20%20%20%20%20%20%20%20%20%20%20%20%20%20%20%20%20%20%20%20%20%20%20%20%7D%0A%20%20%20%20%20%20%20%20%20%20%20%20%20%20%20%20%20%20%20%20%20%20%20.foliumtooltip%20table%7B%0A%20%20%20%20%20%20%20%20%20%20%20%20%20%20%20%20%20%20%20%20%20%20%20%20%20%20%20%20margin%3A%20auto%3B%0A%20%20%20%20%20%20%20%20%20%20%20%20%20%20%20%20%20%20%20%20%20%20%20%20%7D%0A%20%20%20%20%20%20%20%20%20%20%20%20%20%20%20%20%20%20%20%20%20%20%20%20.foliumtooltip%20tr%7B%0A%20%20%20%20%20%20%20%20%20%20%20%20%20%20%20%20%20%20%20%20%20%20%20%20%20%20%20%20text-align%3A%20left%3B%0A%20%20%20%20%20%20%20%20%20%20%20%20%20%20%20%20%20%20%20%20%20%20%20%20%7D%0A%20%20%20%20%20%20%20%20%20%20%20%20%20%20%20%20%20%20%20%20%20%20%20%20.foliumtooltip%20th%7B%0A%20%20%20%20%20%20%20%20%20%20%20%20%20%20%20%20%20%20%20%20%20%20%20%20%20%20%20%20padding%3A%202px%3B%20padding-right%3A%208px%3B%0A%20%20%20%20%20%20%20%20%20%20%20%20%20%20%20%20%20%20%20%20%20%20%20%20%7D%0A%20%20%20%20%20%20%20%20%20%20%20%20%20%20%20%20%20%20%20%20%3C/style%3E%0A%20%20%20%20%20%20%20%20%20%20%20%20%0A%3C/head%3E%0A%3Cbody%3E%20%20%20%20%0A%20%20%20%20%0A%20%20%20%20%20%20%20%20%20%20%20%20%3Cdiv%20class%3D%22folium-map%22%20id%3D%22map_5d49ae3c0a4b469781d9cdbdd2c0ea13%22%20%3E%3C/div%3E%0A%20%20%20%20%20%20%20%20%0A%3C/body%3E%0A%3Cscript%3E%20%20%20%20%0A%20%20%20%20%0A%20%20%20%20%20%20%20%20%20%20%20%20var%20map_5d49ae3c0a4b469781d9cdbdd2c0ea13%20%3D%20L.map%28%0A%20%20%20%20%20%20%20%20%20%20%20%20%20%20%20%20%22map_5d49ae3c0a4b469781d9cdbdd2c0ea13%22%2C%0A%20%20%20%20%20%20%20%20%20%20%20%20%20%20%20%20%7B%0A%20%20%20%20%20%20%20%20%20%20%20%20%20%20%20%20%20%20%20%20center%3A%20%5B36.66947024250007%2C%20-121.64686901099998%5D%2C%0A%20%20%20%20%20%20%20%20%20%20%20%20%20%20%20%20%20%20%20%20crs%3A%20L.CRS.EPSG3857%2C%0A%20%20%20%20%20%20%20%20%20%20%20%20%20%20%20%20%20%20%20%20zoom%3A%2010%2C%0A%20%20%20%20%20%20%20%20%20%20%20%20%20%20%20%20%20%20%20%20zoomControl%3A%20true%2C%0A%20%20%20%20%20%20%20%20%20%20%20%20%20%20%20%20%20%20%20%20preferCanvas%3A%20false%2C%0A%20%20%20%20%20%20%20%20%20%20%20%20%20%20%20%20%7D%0A%20%20%20%20%20%20%20%20%20%20%20%20%29%3B%0A%20%20%20%20%20%20%20%20%20%20%20%20L.control.scale%28%29.addTo%28map_5d49ae3c0a4b469781d9cdbdd2c0ea13%29%3B%0A%0A%20%20%20%20%20%20%20%20%20%20%20%20%0A%0A%20%20%20%20%20%20%20%20%0A%20%20%20%20%0A%20%20%20%20%20%20%20%20%20%20%20%20var%20tile_layer_07bcb8767ab44100b8495556192b10bc%20%3D%20L.tileLayer%28%0A%20%20%20%20%20%20%20%20%20%20%20%20%20%20%20%20%22https%3A//%7Bs%7D.tile.openstreetmap.org/%7Bz%7D/%7Bx%7D/%7By%7D.png%22%2C%0A%20%20%20%20%20%20%20%20%20%20%20%20%20%20%20%20%7B%22attribution%22%3A%20%22Data%20by%20%5Cu0026copy%3B%20%5Cu003ca%20href%3D%5C%22http%3A//openstreetmap.org%5C%22%5Cu003eOpenStreetMap%5Cu003c/a%5Cu003e%2C%20under%20%5Cu003ca%20href%3D%5C%22http%3A//www.openstreetmap.org/copyright%5C%22%5Cu003eODbL%5Cu003c/a%5Cu003e.%22%2C%20%22detectRetina%22%3A%20false%2C%20%22maxNativeZoom%22%3A%2018%2C%20%22maxZoom%22%3A%2018%2C%20%22minZoom%22%3A%200%2C%20%22noWrap%22%3A%20false%2C%20%22opacity%22%3A%201%2C%20%22subdomains%22%3A%20%22abc%22%2C%20%22tms%22%3A%20false%7D%0A%20%20%20%20%20%20%20%20%20%20%20%20%29.addTo%28map_5d49ae3c0a4b469781d9cdbdd2c0ea13%29%3B%0A%20%20%20%20%20%20%20%20%0A%20%20%20%20%0A%20%20%20%20%20%20%20%20%20%20%20%20map_5d49ae3c0a4b469781d9cdbdd2c0ea13.fitBounds%28%0A%20%20%20%20%20%20%20%20%20%20%20%20%20%20%20%20%5B%5B36.669417972000076%2C%20-121.64721657199999%5D%2C%20%5B36.66952251300006%2C%20-121.64652144999997%5D%5D%2C%0A%20%20%20%20%20%20%20%20%20%20%20%20%20%20%20%20%7B%7D%0A%20%20%20%20%20%20%20%20%20%20%20%20%29%3B%0A%20%20%20%20%20%20%20%20%0A%20%20%20%20%0A%20%20%20%20%20%20%20%20function%20geo_json_f540d935b1b140e0ab2515e69201e8ea_styler%28feature%29%20%7B%0A%20%20%20%20%20%20%20%20%20%20%20%20switch%28feature.id%29%20%7B%0A%20%20%20%20%20%20%20%20%20%20%20%20%20%20%20%20default%3A%0A%20%20%20%20%20%20%20%20%20%20%20%20%20%20%20%20%20%20%20%20return%20%7B%22fillOpacity%22%3A%200.5%2C%20%22weight%22%3A%202%7D%3B%0A%20%20%20%20%20%20%20%20%20%20%20%20%7D%0A%20%20%20%20%20%20%20%20%7D%0A%20%20%20%20%20%20%20%20function%20geo_json_f540d935b1b140e0ab2515e69201e8ea_highlighter%28feature%29%20%7B%0A%20%20%20%20%20%20%20%20%20%20%20%20switch%28feature.id%29%20%7B%0A%20%20%20%20%20%20%20%20%20%20%20%20%20%20%20%20default%3A%0A%20%20%20%20%20%20%20%20%20%20%20%20%20%20%20%20%20%20%20%20return%20%7B%22fillOpacity%22%3A%200.75%7D%3B%0A%20%20%20%20%20%20%20%20%20%20%20%20%7D%0A%20%20%20%20%20%20%20%20%7D%0A%20%20%20%20%20%20%20%20function%20geo_json_f540d935b1b140e0ab2515e69201e8ea_pointToLayer%28feature%2C%20latlng%29%20%7B%0A%20%20%20%20%20%20%20%20%20%20%20%20var%20opts%20%3D%20%7B%22bubblingMouseEvents%22%3A%20true%2C%20%22color%22%3A%20%22%233388ff%22%2C%20%22dashArray%22%3A%20null%2C%20%22dashOffset%22%3A%20null%2C%20%22fill%22%3A%20true%2C%20%22fillColor%22%3A%20%22%233388ff%22%2C%20%22fillOpacity%22%3A%200.2%2C%20%22fillRule%22%3A%20%22evenodd%22%2C%20%22lineCap%22%3A%20%22round%22%2C%20%22lineJoin%22%3A%20%22round%22%2C%20%22opacity%22%3A%201.0%2C%20%22radius%22%3A%202%2C%20%22stroke%22%3A%20true%2C%20%22weight%22%3A%203%7D%3B%0A%20%20%20%20%20%20%20%20%20%20%20%20%0A%20%20%20%20%20%20%20%20%20%20%20%20let%20style%20%3D%20geo_json_f540d935b1b140e0ab2515e69201e8ea_styler%28feature%29%0A%20%20%20%20%20%20%20%20%20%20%20%20Object.assign%28opts%2C%20style%29%0A%20%20%20%20%20%20%20%20%20%20%20%20%0A%20%20%20%20%20%20%20%20%20%20%20%20return%20new%20L.CircleMarker%28latlng%2C%20opts%29%0A%20%20%20%20%20%20%20%20%7D%0A%0A%20%20%20%20%20%20%20%20function%20geo_json_f540d935b1b140e0ab2515e69201e8ea_onEachFeature%28feature%2C%20layer%29%20%7B%0A%20%20%20%20%20%20%20%20%20%20%20%20layer.on%28%7B%0A%20%20%20%20%20%20%20%20%20%20%20%20%20%20%20%20mouseout%3A%20function%28e%29%20%7B%0A%20%20%20%20%20%20%20%20%20%20%20%20%20%20%20%20%20%20%20%20if%28typeof%20e.target.setStyle%20%3D%3D%3D%20%22function%22%29%7B%0A%20%20%20%20%20%20%20%20%20%20%20%20%20%20%20%20%20%20%20%20%20%20%20%20geo_json_f540d935b1b140e0ab2515e69201e8ea.resetStyle%28e.target%29%3B%0A%20%20%20%20%20%20%20%20%20%20%20%20%20%20%20%20%20%20%20%20%7D%0A%20%20%20%20%20%20%20%20%20%20%20%20%20%20%20%20%7D%2C%0A%20%20%20%20%20%20%20%20%20%20%20%20%20%20%20%20mouseover%3A%20function%28e%29%20%7B%0A%20%20%20%20%20%20%20%20%20%20%20%20%20%20%20%20%20%20%20%20if%28typeof%20e.target.setStyle%20%3D%3D%3D%20%22function%22%29%7B%0A%20%20%20%20%20%20%20%20%20%20%20%20%20%20%20%20%20%20%20%20%20%20%20%20const%20highlightStyle%20%3D%20geo_json_f540d935b1b140e0ab2515e69201e8ea_highlighter%28e.target.feature%29%0A%20%20%20%20%20%20%20%20%20%20%20%20%20%20%20%20%20%20%20%20%20%20%20%20e.target.setStyle%28highlightStyle%29%3B%0A%20%20%20%20%20%20%20%20%20%20%20%20%20%20%20%20%20%20%20%20%7D%0A%20%20%20%20%20%20%20%20%20%20%20%20%20%20%20%20%7D%2C%0A%20%20%20%20%20%20%20%20%20%20%20%20%7D%29%3B%0A%20%20%20%20%20%20%20%20%7D%3B%0A%20%20%20%20%20%20%20%20var%20geo_json_f540d935b1b140e0ab2515e69201e8ea%20%3D%20L.geoJson%28null%2C%20%7B%0A%20%20%20%20%20%20%20%20%20%20%20%20%20%20%20%20onEachFeature%3A%20geo_json_f540d935b1b140e0ab2515e69201e8ea_onEachFeature%2C%0A%20%20%20%20%20%20%20%20%20%20%20%20%0A%20%20%20%20%20%20%20%20%20%20%20%20%20%20%20%20style%3A%20geo_json_f540d935b1b140e0ab2515e69201e8ea_styler%2C%0A%20%20%20%20%20%20%20%20%20%20%20%20%20%20%20%20pointToLayer%3A%20geo_json_f540d935b1b140e0ab2515e69201e8ea_pointToLayer%0A%20%20%20%20%20%20%20%20%7D%29%3B%0A%0A%20%20%20%20%20%20%20%20function%20geo_json_f540d935b1b140e0ab2515e69201e8ea_add%20%28data%29%20%7B%0A%20%20%20%20%20%20%20%20%20%20%20%20geo_json_f540d935b1b140e0ab2515e69201e8ea%0A%20%20%20%20%20%20%20%20%20%20%20%20%20%20%20%20.addData%28data%29%0A%20%20%20%20%20%20%20%20%20%20%20%20%20%20%20%20.addTo%28map_5d49ae3c0a4b469781d9cdbdd2c0ea13%29%3B%0A%20%20%20%20%20%20%20%20%7D%0A%20%20%20%20%20%20%20%20%20%20%20%20geo_json_f540d935b1b140e0ab2515e69201e8ea_add%28%7B%22bbox%22%3A%20%5B-121.64721657199999%2C%2036.669417972000076%2C%20-121.64652144999997%2C%2036.66952251300006%5D%2C%20%22features%22%3A%20%5B%7B%22bbox%22%3A%20%5B-121.64721657199999%2C%2036.669417972000076%2C%20-121.64652144999997%2C%2036.66952251300006%5D%2C%20%22geometry%22%3A%20%7B%22coordinates%22%3A%20%5B%5B-121.64721657199999%2C%2036.669417972000076%2C%200.0%5D%2C%20%5B-121.64652144999997%2C%2036.66952251300006%2C%200.0%5D%5D%2C%20%22type%22%3A%20%22LineString%22%7D%2C%20%22id%22%3A%20%221%22%2C%20%22properties%22%3A%20%7B%22Bus_Brdng_Islnds%22%3A%20null%2C%20%22CT_District%22%3A%20%2205%22%2C%20%22Centerline_Miles%22%3A%20null%2C%20%22County%22%3A%20%22MON%22%2C%20%22CreationDate%22%3A%201693008805000%2C%20%22EditDate%22%3A%201693421423000%2C%20%22Geom_Priority_Intervention_Type%22%3A%20null%2C%20%22Imprv_Site_Amnts%22%3A%2010.0%2C%20%22Lyr%22%3A%20%22%5C%22Lns3%5C%22%22%2C%20%22OBJECTID%22%3A%202%2C%20%22One_Side_Rdwy_Only%22%3A%20null%2C%20%22Priority_Intervention_Type_All%22%3A%20%22Queue_Jump_lanes/signals%2CImproved_transit_stop_amenities_including_lighting_and_seating%22%2C%20%22Queue_Jumps%22%3A%204.0%2C%20%22Route%22%3A%2068%2C%20%22Scrs%22%3A%20%22Transit%201%3A1%20chats%2C%20MST%20Network%20Plan%2C%20Salinas%20Valley%20Express%20Transit%20Corridor%20Planning%20Study%22%2C%20%22Scrs_Link%22%3A%20%22https%3A//mst.org/wp-content/media/Draft-Report-5.23.19.pdf%20AND%20https%3A//mst.org/wp-content/media/MST-Final-Network-Plan-Feb-2022.pdf%22%2C%20%22Shape_Length%22%3A%200.0007029391265223855%2C%20%22Submitter_Email%22%3A%20%22JOANNA.XIAO%40DOT.CA.GOV%22%2C%20%22Submitter_Name%22%3A%20%22Joanna%20Xiao%22%2C%20%22Transit_Op_Support%22%3A%20%22yes%22%2C%20%22geo_comments%22%3A%20%22%5Cu2022%5CtAlong%20John%20St.%20there%20are%20plans%20to%20redevelop%20in%20this%20area%2C%20any%20sidewalk%20improvements%20or%20curb%20ramps%20and%20wide%20sidewalks%20and%20shelters%20at%20major%20intersections%20would%20be%20helpful%22%7D%2C%20%22type%22%3A%20%22Feature%22%7D%5D%2C%20%22type%22%3A%20%22FeatureCollection%22%7D%29%3B%0A%0A%20%20%20%20%20%20%20%20%0A%20%20%20%20%0A%20%20%20%20geo_json_f540d935b1b140e0ab2515e69201e8ea.bindTooltip%28%0A%20%20%20%20function%28layer%29%7B%0A%20%20%20%20let%20div%20%3D%20L.DomUtil.create%28%27div%27%29%3B%0A%20%20%20%20%0A%20%20%20%20let%20handleObject%20%3D%20feature%3D%3Etypeof%28feature%29%3D%3D%27object%27%20%3F%20JSON.stringify%28feature%29%20%3A%20feature%3B%0A%20%20%20%20let%20fields%20%3D%20%5B%22OBJECTID%22%2C%20%22Submitter_Name%22%2C%20%22Submitter_Email%22%2C%20%22Priority_Intervention_Type_All%22%2C%20%22Scrs%22%2C%20%22Scrs_Link%22%2C%20%22Centerline_Miles%22%2C%20%22One_Side_Rdwy_Only%22%2C%20%22Queue_Jumps%22%2C%20%22Bus_Brdng_Islnds%22%2C%20%22Imprv_Site_Amnts%22%2C%20%22Transit_Op_Support%22%2C%20%22CT_District%22%2C%20%22County%22%2C%20%22Route%22%2C%20%22Geom_Priority_Intervention_Type%22%2C%20%22geo_comments%22%2C%20%22CreationDate%22%2C%20%22Lyr%22%2C%20%22EditDate%22%2C%20%22Shape_Length%22%5D%3B%0A%20%20%20%20let%20aliases%20%3D%20%5B%22OBJECTID%22%2C%20%22Submitter_Name%22%2C%20%22Submitter_Email%22%2C%20%22Priority_Intervention_Type_All%22%2C%20%22Scrs%22%2C%20%22Scrs_Link%22%2C%20%22Centerline_Miles%22%2C%20%22One_Side_Rdwy_Only%22%2C%20%22Queue_Jumps%22%2C%20%22Bus_Brdng_Islnds%22%2C%20%22Imprv_Site_Amnts%22%2C%20%22Transit_Op_Support%22%2C%20%22CT_District%22%2C%20%22County%22%2C%20%22Route%22%2C%20%22Geom_Priority_Intervention_Type%22%2C%20%22geo_comments%22%2C%20%22CreationDate%22%2C%20%22Lyr%22%2C%20%22EditDate%22%2C%20%22Shape_Length%22%5D%3B%0A%20%20%20%20let%20table%20%3D%20%27%3Ctable%3E%27%20%2B%0A%20%20%20%20%20%20%20%20String%28%0A%20%20%20%20%20%20%20%20fields.map%28%0A%20%20%20%20%20%20%20%20%28v%2Ci%29%3D%3E%0A%20%20%20%20%20%20%20%20%60%3Ctr%3E%0A%20%20%20%20%20%20%20%20%20%20%20%20%3Cth%3E%24%7Baliases%5Bi%5D%7D%3C/th%3E%0A%20%20%20%20%20%20%20%20%20%20%20%20%0A%20%20%20%20%20%20%20%20%20%20%20%20%3Ctd%3E%24%7BhandleObject%28layer.feature.properties%5Bv%5D%29%7D%3C/td%3E%0A%20%20%20%20%20%20%20%20%3C/tr%3E%60%29.join%28%27%27%29%29%0A%20%20%20%20%2B%27%3C/table%3E%27%3B%0A%20%20%20%20div.innerHTML%3Dtable%3B%0A%20%20%20%20%0A%20%20%20%20return%20div%0A%20%20%20%20%7D%0A%20%20%20%20%2C%7B%22className%22%3A%20%22foliumtooltip%22%2C%20%22sticky%22%3A%20true%7D%29%3B%0A%20%20%20%20%20%20%20%20%20%20%20%20%20%20%20%20%20%20%20%20%20%0A%3C/script%3E onload=\"this.contentDocument.open();this.contentDocument.write(    decodeURIComponent(this.getAttribute('data-html')));this.contentDocument.close();\" allowfullscreen webkitallowfullscreen mozallowfullscreen></iframe></div></div>"
      ],
      "text/plain": [
       "<folium.folium.Map at 0x7f0ee3460f10>"
      ]
     },
     "execution_count": 26,
     "metadata": {},
     "output_type": "execute_result"
    }
   ],
   "source": [
    "line_priority.iloc[[1]].explore()"
   ]
  },
  {
   "cell_type": "markdown",
   "id": "9dde7b8c-05ac-4e83-9b1b-a1cd47cf85ee",
   "metadata": {
    "jp-MarkdownHeadingCollapsed": true,
    "tags": []
   },
   "source": [
    "## 2 Humboldt (TSP)\n",
    "\n",
    "* TSP for entire area, TODO existing runtime?"
   ]
  },
  {
   "cell_type": "code",
   "execution_count": 27,
   "id": "07f69aec-a8c3-4869-a871-614c25fb6fee",
   "metadata": {},
   "outputs": [
    {
     "data": {
      "text/html": [
       "<div>\n",
       "<style scoped>\n",
       "    .dataframe tbody tr th:only-of-type {\n",
       "        vertical-align: middle;\n",
       "    }\n",
       "\n",
       "    .dataframe tbody tr th {\n",
       "        vertical-align: top;\n",
       "    }\n",
       "\n",
       "    .dataframe thead th {\n",
       "        text-align: right;\n",
       "    }\n",
       "</style>\n",
       "<table border=\"1\" class=\"dataframe\">\n",
       "  <thead>\n",
       "    <tr style=\"text-align: right;\">\n",
       "      <th></th>\n",
       "      <th>OBJECTID</th>\n",
       "      <th>Submitter_Name</th>\n",
       "      <th>Submitter_Email</th>\n",
       "      <th>Priority_Intervention_Type_All</th>\n",
       "      <th>Scrs</th>\n",
       "      <th>Scrs_Link</th>\n",
       "      <th>Centerline_Miles</th>\n",
       "      <th>One_Side_Rdwy_Only</th>\n",
       "      <th>Queue_Jumps</th>\n",
       "      <th>Bus_Brdng_Islnds</th>\n",
       "      <th>...</th>\n",
       "      <th>CT_District</th>\n",
       "      <th>County</th>\n",
       "      <th>Route</th>\n",
       "      <th>Geom_Priority_Intervention_Type</th>\n",
       "      <th>geo_comments</th>\n",
       "      <th>CreationDate</th>\n",
       "      <th>Lyr</th>\n",
       "      <th>EditDate</th>\n",
       "      <th>Shape_Length</th>\n",
       "      <th>geometry</th>\n",
       "    </tr>\n",
       "  </thead>\n",
       "  <tbody>\n",
       "    <tr>\n",
       "      <th>2</th>\n",
       "      <td>3</td>\n",
       "      <td>Suresh Ratnam</td>\n",
       "      <td>suresh.ratnam@dot.ca.gov</td>\n",
       "      <td>Queue_Jump_lanes/signals</td>\n",
       "      <td>Humboldt Transit Authority (HTA)</td>\n",
       "      <td>https://hta.org/</td>\n",
       "      <td>NaN</td>\n",
       "      <td>NaN</td>\n",
       "      <td>29.0</td>\n",
       "      <td>NaN</td>\n",
       "      <td>...</td>\n",
       "      <td>01</td>\n",
       "      <td>HUM</td>\n",
       "      <td>101</td>\n",
       "      <td>NaN</td>\n",
       "      <td>The 3.8-mile section of US 101 with 29 traffic...</td>\n",
       "      <td>1692314474000</td>\n",
       "      <td>\"Lns2\"</td>\n",
       "      <td>1693421427000</td>\n",
       "      <td>0.029117</td>\n",
       "      <td>LINESTRING Z (-124.14698 40.80467 0.00000, -12...</td>\n",
       "    </tr>\n",
       "  </tbody>\n",
       "</table>\n",
       "<p>1 rows × 22 columns</p>\n",
       "</div>"
      ],
      "text/plain": [
       "   OBJECTID Submitter_Name           Submitter_Email  \\\n",
       "2         3  Suresh Ratnam  suresh.ratnam@dot.ca.gov   \n",
       "\n",
       "  Priority_Intervention_Type_All                              Scrs  \\\n",
       "2       Queue_Jump_lanes/signals  Humboldt Transit Authority (HTA)   \n",
       "\n",
       "          Scrs_Link  Centerline_Miles One_Side_Rdwy_Only  Queue_Jumps  \\\n",
       "2  https://hta.org/               NaN                NaN         29.0   \n",
       "\n",
       "   Bus_Brdng_Islnds  ...  CT_District County Route  \\\n",
       "2               NaN  ...           01    HUM   101   \n",
       "\n",
       "  Geom_Priority_Intervention_Type  \\\n",
       "2                             NaN   \n",
       "\n",
       "                                        geo_comments   CreationDate     Lyr  \\\n",
       "2  The 3.8-mile section of US 101 with 29 traffic...  1692314474000  \"Lns2\"   \n",
       "\n",
       "        EditDate Shape_Length  \\\n",
       "2  1693421427000     0.029117   \n",
       "\n",
       "                                            geometry  \n",
       "2  LINESTRING Z (-124.14698 40.80467 0.00000, -12...  \n",
       "\n",
       "[1 rows x 22 columns]"
      ]
     },
     "execution_count": 27,
     "metadata": {},
     "output_type": "execute_result"
    }
   ],
   "source": [
    "line_priority.iloc[[2]]"
   ]
  },
  {
   "cell_type": "code",
   "execution_count": 28,
   "id": "52a889ca-35d4-4250-a3df-248b072c63df",
   "metadata": {},
   "outputs": [
    {
     "data": {
      "text/plain": [
       "'The 3.8-mile section of US 101 with 29 traffic signals through downtown Eureka ( the county seat of Humboldt County) is used by Humboldt Transit Authority’s (HTA) Redwood Transit System (RTS) and the Southern Humboldt Intercity bus lines.  Traffic Signal Priority would improve transit bus service speeds through this downtown corridor thus reducing delay for transit vehicles. '"
      ]
     },
     "execution_count": 28,
     "metadata": {},
     "output_type": "execute_result"
    }
   ],
   "source": [
    "line_priority.iloc[[2]].geo_comments[2]"
   ]
  },
  {
   "cell_type": "code",
   "execution_count": 29,
   "id": "3ed84c32-6b9c-4e8c-b3cb-18eee59f637f",
   "metadata": {},
   "outputs": [
    {
     "data": {
      "text/html": [
       "<div style=\"width:100%;\"><div style=\"position:relative;width:100%;height:0;padding-bottom:60%;\"><span style=\"color:#565656\">Make this Notebook Trusted to load map: File -> Trust Notebook</span><iframe src=\"about:blank\" style=\"position:absolute;width:100%;height:100%;left:0;top:0;border:none !important;\" data-html=%3C%21DOCTYPE%20html%3E%0A%3Chead%3E%20%20%20%20%0A%20%20%20%20%3Cmeta%20http-equiv%3D%22content-type%22%20content%3D%22text/html%3B%20charset%3DUTF-8%22%20/%3E%0A%20%20%20%20%0A%20%20%20%20%20%20%20%20%3Cscript%3E%0A%20%20%20%20%20%20%20%20%20%20%20%20L_NO_TOUCH%20%3D%20false%3B%0A%20%20%20%20%20%20%20%20%20%20%20%20L_DISABLE_3D%20%3D%20false%3B%0A%20%20%20%20%20%20%20%20%3C/script%3E%0A%20%20%20%20%0A%20%20%20%20%3Cstyle%3Ehtml%2C%20body%20%7Bwidth%3A%20100%25%3Bheight%3A%20100%25%3Bmargin%3A%200%3Bpadding%3A%200%3B%7D%3C/style%3E%0A%20%20%20%20%3Cstyle%3E%23map%20%7Bposition%3Aabsolute%3Btop%3A0%3Bbottom%3A0%3Bright%3A0%3Bleft%3A0%3B%7D%3C/style%3E%0A%20%20%20%20%3Cscript%20src%3D%22https%3A//cdn.jsdelivr.net/npm/leaflet%401.6.0/dist/leaflet.js%22%3E%3C/script%3E%0A%20%20%20%20%3Cscript%20src%3D%22https%3A//code.jquery.com/jquery-1.12.4.min.js%22%3E%3C/script%3E%0A%20%20%20%20%3Cscript%20src%3D%22https%3A//maxcdn.bootstrapcdn.com/bootstrap/3.2.0/js/bootstrap.min.js%22%3E%3C/script%3E%0A%20%20%20%20%3Cscript%20src%3D%22https%3A//cdnjs.cloudflare.com/ajax/libs/Leaflet.awesome-markers/2.0.2/leaflet.awesome-markers.js%22%3E%3C/script%3E%0A%20%20%20%20%3Clink%20rel%3D%22stylesheet%22%20href%3D%22https%3A//cdn.jsdelivr.net/npm/leaflet%401.6.0/dist/leaflet.css%22/%3E%0A%20%20%20%20%3Clink%20rel%3D%22stylesheet%22%20href%3D%22https%3A//maxcdn.bootstrapcdn.com/bootstrap/3.2.0/css/bootstrap.min.css%22/%3E%0A%20%20%20%20%3Clink%20rel%3D%22stylesheet%22%20href%3D%22https%3A//maxcdn.bootstrapcdn.com/bootstrap/3.2.0/css/bootstrap-theme.min.css%22/%3E%0A%20%20%20%20%3Clink%20rel%3D%22stylesheet%22%20href%3D%22https%3A//maxcdn.bootstrapcdn.com/font-awesome/4.6.3/css/font-awesome.min.css%22/%3E%0A%20%20%20%20%3Clink%20rel%3D%22stylesheet%22%20href%3D%22https%3A//cdnjs.cloudflare.com/ajax/libs/Leaflet.awesome-markers/2.0.2/leaflet.awesome-markers.css%22/%3E%0A%20%20%20%20%3Clink%20rel%3D%22stylesheet%22%20href%3D%22https%3A//cdn.jsdelivr.net/gh/python-visualization/folium/folium/templates/leaflet.awesome.rotate.min.css%22/%3E%0A%20%20%20%20%0A%20%20%20%20%20%20%20%20%20%20%20%20%3Cmeta%20name%3D%22viewport%22%20content%3D%22width%3Ddevice-width%2C%0A%20%20%20%20%20%20%20%20%20%20%20%20%20%20%20%20initial-scale%3D1.0%2C%20maximum-scale%3D1.0%2C%20user-scalable%3Dno%22%20/%3E%0A%20%20%20%20%20%20%20%20%20%20%20%20%3Cstyle%3E%0A%20%20%20%20%20%20%20%20%20%20%20%20%20%20%20%20%23map_6cdef5f6868c44ffab7c03922517c712%20%7B%0A%20%20%20%20%20%20%20%20%20%20%20%20%20%20%20%20%20%20%20%20position%3A%20relative%3B%0A%20%20%20%20%20%20%20%20%20%20%20%20%20%20%20%20%20%20%20%20width%3A%20100.0%25%3B%0A%20%20%20%20%20%20%20%20%20%20%20%20%20%20%20%20%20%20%20%20height%3A%20100.0%25%3B%0A%20%20%20%20%20%20%20%20%20%20%20%20%20%20%20%20%20%20%20%20left%3A%200.0%25%3B%0A%20%20%20%20%20%20%20%20%20%20%20%20%20%20%20%20%20%20%20%20top%3A%200.0%25%3B%0A%20%20%20%20%20%20%20%20%20%20%20%20%20%20%20%20%7D%0A%20%20%20%20%20%20%20%20%20%20%20%20%3C/style%3E%0A%20%20%20%20%20%20%20%20%0A%20%20%20%20%0A%20%20%20%20%20%20%20%20%20%20%20%20%20%20%20%20%20%20%20%20%3Cstyle%3E%0A%20%20%20%20%20%20%20%20%20%20%20%20%20%20%20%20%20%20%20%20%20%20%20%20.foliumtooltip%20%7B%0A%20%20%20%20%20%20%20%20%20%20%20%20%20%20%20%20%20%20%20%20%20%20%20%20%20%20%20%20%0A%20%20%20%20%20%20%20%20%20%20%20%20%20%20%20%20%20%20%20%20%20%20%20%20%7D%0A%20%20%20%20%20%20%20%20%20%20%20%20%20%20%20%20%20%20%20%20%20%20%20.foliumtooltip%20table%7B%0A%20%20%20%20%20%20%20%20%20%20%20%20%20%20%20%20%20%20%20%20%20%20%20%20%20%20%20%20margin%3A%20auto%3B%0A%20%20%20%20%20%20%20%20%20%20%20%20%20%20%20%20%20%20%20%20%20%20%20%20%7D%0A%20%20%20%20%20%20%20%20%20%20%20%20%20%20%20%20%20%20%20%20%20%20%20%20.foliumtooltip%20tr%7B%0A%20%20%20%20%20%20%20%20%20%20%20%20%20%20%20%20%20%20%20%20%20%20%20%20%20%20%20%20text-align%3A%20left%3B%0A%20%20%20%20%20%20%20%20%20%20%20%20%20%20%20%20%20%20%20%20%20%20%20%20%7D%0A%20%20%20%20%20%20%20%20%20%20%20%20%20%20%20%20%20%20%20%20%20%20%20%20.foliumtooltip%20th%7B%0A%20%20%20%20%20%20%20%20%20%20%20%20%20%20%20%20%20%20%20%20%20%20%20%20%20%20%20%20padding%3A%202px%3B%20padding-right%3A%208px%3B%0A%20%20%20%20%20%20%20%20%20%20%20%20%20%20%20%20%20%20%20%20%20%20%20%20%7D%0A%20%20%20%20%20%20%20%20%20%20%20%20%20%20%20%20%20%20%20%20%3C/style%3E%0A%20%20%20%20%20%20%20%20%20%20%20%20%0A%3C/head%3E%0A%3Cbody%3E%20%20%20%20%0A%20%20%20%20%0A%20%20%20%20%20%20%20%20%20%20%20%20%3Cdiv%20class%3D%22folium-map%22%20id%3D%22map_6cdef5f6868c44ffab7c03922517c712%22%20%3E%3C/div%3E%0A%20%20%20%20%20%20%20%20%0A%3C/body%3E%0A%3Cscript%3E%20%20%20%20%0A%20%20%20%20%0A%20%20%20%20%20%20%20%20%20%20%20%20var%20map_6cdef5f6868c44ffab7c03922517c712%20%3D%20L.map%28%0A%20%20%20%20%20%20%20%20%20%20%20%20%20%20%20%20%22map_6cdef5f6868c44ffab7c03922517c712%22%2C%0A%20%20%20%20%20%20%20%20%20%20%20%20%20%20%20%20%7B%0A%20%20%20%20%20%20%20%20%20%20%20%20%20%20%20%20%20%20%20%20center%3A%20%5B40.80270295550005%2C%20-124.16098912199996%5D%2C%0A%20%20%20%20%20%20%20%20%20%20%20%20%20%20%20%20%20%20%20%20crs%3A%20L.CRS.EPSG3857%2C%0A%20%20%20%20%20%20%20%20%20%20%20%20%20%20%20%20%20%20%20%20zoom%3A%2010%2C%0A%20%20%20%20%20%20%20%20%20%20%20%20%20%20%20%20%20%20%20%20zoomControl%3A%20true%2C%0A%20%20%20%20%20%20%20%20%20%20%20%20%20%20%20%20%20%20%20%20preferCanvas%3A%20false%2C%0A%20%20%20%20%20%20%20%20%20%20%20%20%20%20%20%20%7D%0A%20%20%20%20%20%20%20%20%20%20%20%20%29%3B%0A%20%20%20%20%20%20%20%20%20%20%20%20L.control.scale%28%29.addTo%28map_6cdef5f6868c44ffab7c03922517c712%29%3B%0A%0A%20%20%20%20%20%20%20%20%20%20%20%20%0A%0A%20%20%20%20%20%20%20%20%0A%20%20%20%20%0A%20%20%20%20%20%20%20%20%20%20%20%20var%20tile_layer_d1e616ec5b1849b4a08b7547cf10e6af%20%3D%20L.tileLayer%28%0A%20%20%20%20%20%20%20%20%20%20%20%20%20%20%20%20%22https%3A//%7Bs%7D.tile.openstreetmap.org/%7Bz%7D/%7Bx%7D/%7By%7D.png%22%2C%0A%20%20%20%20%20%20%20%20%20%20%20%20%20%20%20%20%7B%22attribution%22%3A%20%22Data%20by%20%5Cu0026copy%3B%20%5Cu003ca%20href%3D%5C%22http%3A//openstreetmap.org%5C%22%5Cu003eOpenStreetMap%5Cu003c/a%5Cu003e%2C%20under%20%5Cu003ca%20href%3D%5C%22http%3A//www.openstreetmap.org/copyright%5C%22%5Cu003eODbL%5Cu003c/a%5Cu003e.%22%2C%20%22detectRetina%22%3A%20false%2C%20%22maxNativeZoom%22%3A%2018%2C%20%22maxZoom%22%3A%2018%2C%20%22minZoom%22%3A%200%2C%20%22noWrap%22%3A%20false%2C%20%22opacity%22%3A%201%2C%20%22subdomains%22%3A%20%22abc%22%2C%20%22tms%22%3A%20false%7D%0A%20%20%20%20%20%20%20%20%20%20%20%20%29.addTo%28map_6cdef5f6868c44ffab7c03922517c712%29%3B%0A%20%20%20%20%20%20%20%20%0A%20%20%20%20%0A%20%20%20%20%20%20%20%20%20%20%20%20map_6cdef5f6868c44ffab7c03922517c712.fitBounds%28%0A%20%20%20%20%20%20%20%20%20%20%20%20%20%20%20%20%5B%5B40.80073759000004%2C%20-124.17500098199997%5D%2C%20%5B40.804668321000065%2C%20-124.14697726199995%5D%5D%2C%0A%20%20%20%20%20%20%20%20%20%20%20%20%20%20%20%20%7B%7D%0A%20%20%20%20%20%20%20%20%20%20%20%20%29%3B%0A%20%20%20%20%20%20%20%20%0A%20%20%20%20%0A%20%20%20%20%20%20%20%20function%20geo_json_04587dc018c74d549e19b5e1677d9f5b_styler%28feature%29%20%7B%0A%20%20%20%20%20%20%20%20%20%20%20%20switch%28feature.id%29%20%7B%0A%20%20%20%20%20%20%20%20%20%20%20%20%20%20%20%20default%3A%0A%20%20%20%20%20%20%20%20%20%20%20%20%20%20%20%20%20%20%20%20return%20%7B%22fillOpacity%22%3A%200.5%2C%20%22weight%22%3A%202%7D%3B%0A%20%20%20%20%20%20%20%20%20%20%20%20%7D%0A%20%20%20%20%20%20%20%20%7D%0A%20%20%20%20%20%20%20%20function%20geo_json_04587dc018c74d549e19b5e1677d9f5b_highlighter%28feature%29%20%7B%0A%20%20%20%20%20%20%20%20%20%20%20%20switch%28feature.id%29%20%7B%0A%20%20%20%20%20%20%20%20%20%20%20%20%20%20%20%20default%3A%0A%20%20%20%20%20%20%20%20%20%20%20%20%20%20%20%20%20%20%20%20return%20%7B%22fillOpacity%22%3A%200.75%7D%3B%0A%20%20%20%20%20%20%20%20%20%20%20%20%7D%0A%20%20%20%20%20%20%20%20%7D%0A%20%20%20%20%20%20%20%20function%20geo_json_04587dc018c74d549e19b5e1677d9f5b_pointToLayer%28feature%2C%20latlng%29%20%7B%0A%20%20%20%20%20%20%20%20%20%20%20%20var%20opts%20%3D%20%7B%22bubblingMouseEvents%22%3A%20true%2C%20%22color%22%3A%20%22%233388ff%22%2C%20%22dashArray%22%3A%20null%2C%20%22dashOffset%22%3A%20null%2C%20%22fill%22%3A%20true%2C%20%22fillColor%22%3A%20%22%233388ff%22%2C%20%22fillOpacity%22%3A%200.2%2C%20%22fillRule%22%3A%20%22evenodd%22%2C%20%22lineCap%22%3A%20%22round%22%2C%20%22lineJoin%22%3A%20%22round%22%2C%20%22opacity%22%3A%201.0%2C%20%22radius%22%3A%202%2C%20%22stroke%22%3A%20true%2C%20%22weight%22%3A%203%7D%3B%0A%20%20%20%20%20%20%20%20%20%20%20%20%0A%20%20%20%20%20%20%20%20%20%20%20%20let%20style%20%3D%20geo_json_04587dc018c74d549e19b5e1677d9f5b_styler%28feature%29%0A%20%20%20%20%20%20%20%20%20%20%20%20Object.assign%28opts%2C%20style%29%0A%20%20%20%20%20%20%20%20%20%20%20%20%0A%20%20%20%20%20%20%20%20%20%20%20%20return%20new%20L.CircleMarker%28latlng%2C%20opts%29%0A%20%20%20%20%20%20%20%20%7D%0A%0A%20%20%20%20%20%20%20%20function%20geo_json_04587dc018c74d549e19b5e1677d9f5b_onEachFeature%28feature%2C%20layer%29%20%7B%0A%20%20%20%20%20%20%20%20%20%20%20%20layer.on%28%7B%0A%20%20%20%20%20%20%20%20%20%20%20%20%20%20%20%20mouseout%3A%20function%28e%29%20%7B%0A%20%20%20%20%20%20%20%20%20%20%20%20%20%20%20%20%20%20%20%20if%28typeof%20e.target.setStyle%20%3D%3D%3D%20%22function%22%29%7B%0A%20%20%20%20%20%20%20%20%20%20%20%20%20%20%20%20%20%20%20%20%20%20%20%20geo_json_04587dc018c74d549e19b5e1677d9f5b.resetStyle%28e.target%29%3B%0A%20%20%20%20%20%20%20%20%20%20%20%20%20%20%20%20%20%20%20%20%7D%0A%20%20%20%20%20%20%20%20%20%20%20%20%20%20%20%20%7D%2C%0A%20%20%20%20%20%20%20%20%20%20%20%20%20%20%20%20mouseover%3A%20function%28e%29%20%7B%0A%20%20%20%20%20%20%20%20%20%20%20%20%20%20%20%20%20%20%20%20if%28typeof%20e.target.setStyle%20%3D%3D%3D%20%22function%22%29%7B%0A%20%20%20%20%20%20%20%20%20%20%20%20%20%20%20%20%20%20%20%20%20%20%20%20const%20highlightStyle%20%3D%20geo_json_04587dc018c74d549e19b5e1677d9f5b_highlighter%28e.target.feature%29%0A%20%20%20%20%20%20%20%20%20%20%20%20%20%20%20%20%20%20%20%20%20%20%20%20e.target.setStyle%28highlightStyle%29%3B%0A%20%20%20%20%20%20%20%20%20%20%20%20%20%20%20%20%20%20%20%20%7D%0A%20%20%20%20%20%20%20%20%20%20%20%20%20%20%20%20%7D%2C%0A%20%20%20%20%20%20%20%20%20%20%20%20%7D%29%3B%0A%20%20%20%20%20%20%20%20%7D%3B%0A%20%20%20%20%20%20%20%20var%20geo_json_04587dc018c74d549e19b5e1677d9f5b%20%3D%20L.geoJson%28null%2C%20%7B%0A%20%20%20%20%20%20%20%20%20%20%20%20%20%20%20%20onEachFeature%3A%20geo_json_04587dc018c74d549e19b5e1677d9f5b_onEachFeature%2C%0A%20%20%20%20%20%20%20%20%20%20%20%20%0A%20%20%20%20%20%20%20%20%20%20%20%20%20%20%20%20style%3A%20geo_json_04587dc018c74d549e19b5e1677d9f5b_styler%2C%0A%20%20%20%20%20%20%20%20%20%20%20%20%20%20%20%20pointToLayer%3A%20geo_json_04587dc018c74d549e19b5e1677d9f5b_pointToLayer%0A%20%20%20%20%20%20%20%20%7D%29%3B%0A%0A%20%20%20%20%20%20%20%20function%20geo_json_04587dc018c74d549e19b5e1677d9f5b_add%20%28data%29%20%7B%0A%20%20%20%20%20%20%20%20%20%20%20%20geo_json_04587dc018c74d549e19b5e1677d9f5b%0A%20%20%20%20%20%20%20%20%20%20%20%20%20%20%20%20.addData%28data%29%0A%20%20%20%20%20%20%20%20%20%20%20%20%20%20%20%20.addTo%28map_6cdef5f6868c44ffab7c03922517c712%29%3B%0A%20%20%20%20%20%20%20%20%7D%0A%20%20%20%20%20%20%20%20%20%20%20%20geo_json_04587dc018c74d549e19b5e1677d9f5b_add%28%7B%22bbox%22%3A%20%5B-124.17500098199997%2C%2040.80073759000004%2C%20-124.14697726199995%2C%2040.804668321000065%5D%2C%20%22features%22%3A%20%5B%7B%22bbox%22%3A%20%5B-124.17500098199997%2C%2040.80073759000004%2C%20-124.14697726199995%2C%2040.804668321000065%5D%2C%20%22geometry%22%3A%20%7B%22coordinates%22%3A%20%5B%5B-124.14697726199995%2C%2040.804668321000065%2C%200.0%5D%2C%20%5B-124.15521700799997%2C%2040.80460335200007%2C%200.0%5D%2C%20%5B-124.15594656899998%2C%2040.804181053000036%2C%200.0%5D%2C%20%5B-124.170108632%2C%2040.80226443000004%2C%200.0%5D%2C%20%5B-124.17495806599999%2C%2040.801582229000076%2C%200.0%5D%2C%20%5B-124.17500098199997%2C%2040.80073759000004%2C%200.0%5D%5D%2C%20%22type%22%3A%20%22LineString%22%7D%2C%20%22id%22%3A%20%222%22%2C%20%22properties%22%3A%20%7B%22Bus_Brdng_Islnds%22%3A%20null%2C%20%22CT_District%22%3A%20%2201%22%2C%20%22Centerline_Miles%22%3A%20null%2C%20%22County%22%3A%20%22HUM%22%2C%20%22CreationDate%22%3A%201692314474000%2C%20%22EditDate%22%3A%201693421427000%2C%20%22Geom_Priority_Intervention_Type%22%3A%20null%2C%20%22Imprv_Site_Amnts%22%3A%20null%2C%20%22Lyr%22%3A%20%22%5C%22Lns2%5C%22%22%2C%20%22OBJECTID%22%3A%203%2C%20%22One_Side_Rdwy_Only%22%3A%20null%2C%20%22Priority_Intervention_Type_All%22%3A%20%22Queue_Jump_lanes/signals%22%2C%20%22Queue_Jumps%22%3A%2029.0%2C%20%22Route%22%3A%20101%2C%20%22Scrs%22%3A%20%22Humboldt%20Transit%20Authority%20%28HTA%29%22%2C%20%22Scrs_Link%22%3A%20%22https%3A//hta.org/%22%2C%20%22Shape_Length%22%3A%200.029117050431858593%2C%20%22Submitter_Email%22%3A%20%22suresh.ratnam%40dot.ca.gov%22%2C%20%22Submitter_Name%22%3A%20%22Suresh%20Ratnam%22%2C%20%22Transit_Op_Support%22%3A%20%22yes%22%2C%20%22geo_comments%22%3A%20%22The%203.8-mile%20section%20of%20US%20101%20with%2029%20traffic%20signals%20through%20downtown%20Eureka%20%28%20the%20county%20seat%20of%20Humboldt%20County%29%20is%20used%20by%20Humboldt%20Transit%20Authority%5Cu2019s%20%28HTA%29%20Redwood%20Transit%20System%20%28RTS%29%20and%20the%20Southern%20Humboldt%20Intercity%20bus%20lines.%20%20Traffic%20Signal%20Priority%20would%20improve%20transit%20bus%20service%20speeds%20through%20this%20downtown%20corridor%20thus%20reducing%20delay%20for%20transit%20vehicles.%20%22%7D%2C%20%22type%22%3A%20%22Feature%22%7D%5D%2C%20%22type%22%3A%20%22FeatureCollection%22%7D%29%3B%0A%0A%20%20%20%20%20%20%20%20%0A%20%20%20%20%0A%20%20%20%20geo_json_04587dc018c74d549e19b5e1677d9f5b.bindTooltip%28%0A%20%20%20%20function%28layer%29%7B%0A%20%20%20%20let%20div%20%3D%20L.DomUtil.create%28%27div%27%29%3B%0A%20%20%20%20%0A%20%20%20%20let%20handleObject%20%3D%20feature%3D%3Etypeof%28feature%29%3D%3D%27object%27%20%3F%20JSON.stringify%28feature%29%20%3A%20feature%3B%0A%20%20%20%20let%20fields%20%3D%20%5B%22OBJECTID%22%2C%20%22Submitter_Name%22%2C%20%22Submitter_Email%22%2C%20%22Priority_Intervention_Type_All%22%2C%20%22Scrs%22%2C%20%22Scrs_Link%22%2C%20%22Centerline_Miles%22%2C%20%22One_Side_Rdwy_Only%22%2C%20%22Queue_Jumps%22%2C%20%22Bus_Brdng_Islnds%22%2C%20%22Imprv_Site_Amnts%22%2C%20%22Transit_Op_Support%22%2C%20%22CT_District%22%2C%20%22County%22%2C%20%22Route%22%2C%20%22Geom_Priority_Intervention_Type%22%2C%20%22geo_comments%22%2C%20%22CreationDate%22%2C%20%22Lyr%22%2C%20%22EditDate%22%2C%20%22Shape_Length%22%5D%3B%0A%20%20%20%20let%20aliases%20%3D%20%5B%22OBJECTID%22%2C%20%22Submitter_Name%22%2C%20%22Submitter_Email%22%2C%20%22Priority_Intervention_Type_All%22%2C%20%22Scrs%22%2C%20%22Scrs_Link%22%2C%20%22Centerline_Miles%22%2C%20%22One_Side_Rdwy_Only%22%2C%20%22Queue_Jumps%22%2C%20%22Bus_Brdng_Islnds%22%2C%20%22Imprv_Site_Amnts%22%2C%20%22Transit_Op_Support%22%2C%20%22CT_District%22%2C%20%22County%22%2C%20%22Route%22%2C%20%22Geom_Priority_Intervention_Type%22%2C%20%22geo_comments%22%2C%20%22CreationDate%22%2C%20%22Lyr%22%2C%20%22EditDate%22%2C%20%22Shape_Length%22%5D%3B%0A%20%20%20%20let%20table%20%3D%20%27%3Ctable%3E%27%20%2B%0A%20%20%20%20%20%20%20%20String%28%0A%20%20%20%20%20%20%20%20fields.map%28%0A%20%20%20%20%20%20%20%20%28v%2Ci%29%3D%3E%0A%20%20%20%20%20%20%20%20%60%3Ctr%3E%0A%20%20%20%20%20%20%20%20%20%20%20%20%3Cth%3E%24%7Baliases%5Bi%5D%7D%3C/th%3E%0A%20%20%20%20%20%20%20%20%20%20%20%20%0A%20%20%20%20%20%20%20%20%20%20%20%20%3Ctd%3E%24%7BhandleObject%28layer.feature.properties%5Bv%5D%29%7D%3C/td%3E%0A%20%20%20%20%20%20%20%20%3C/tr%3E%60%29.join%28%27%27%29%29%0A%20%20%20%20%2B%27%3C/table%3E%27%3B%0A%20%20%20%20div.innerHTML%3Dtable%3B%0A%20%20%20%20%0A%20%20%20%20return%20div%0A%20%20%20%20%7D%0A%20%20%20%20%2C%7B%22className%22%3A%20%22foliumtooltip%22%2C%20%22sticky%22%3A%20true%7D%29%3B%0A%20%20%20%20%20%20%20%20%20%20%20%20%20%20%20%20%20%20%20%20%20%0A%3C/script%3E onload=\"this.contentDocument.open();this.contentDocument.write(    decodeURIComponent(this.getAttribute('data-html')));this.contentDocument.close();\" allowfullscreen webkitallowfullscreen mozallowfullscreen></iframe></div></div>"
      ],
      "text/plain": [
       "<folium.folium.Map at 0x7f0ee352d520>"
      ]
     },
     "execution_count": 29,
     "metadata": {},
     "output_type": "execute_result"
    }
   ],
   "source": [
    "line_priority.iloc[[2]].explore()"
   ]
  },
  {
   "cell_type": "markdown",
   "id": "84f79735-a2e2-490d-b9e9-a1c60afcaa09",
   "metadata": {
    "jp-MarkdownHeadingCollapsed": true,
    "tags": []
   },
   "source": [
    "## 3 Humboldt (bus lane)\n",
    "\n",
    "* Are buses going to use this instead of US101?\n",
    "* per plan, yes \" southbound travel would shift to an improved one-way Koster Street and a new one-way facility north of Vigo Street to Bayshore Mall. South Broadway would be improved with bike lanes and pedestrian safety improvements within the existing right of way. \"\n",
    "* propose modelling bus lane on full plan area, including one-way couplets and two-way section\n",
    "* can probably reuse prior runs..."
   ]
  },
  {
   "cell_type": "code",
   "execution_count": 30,
   "id": "b52c5b92-e295-48d8-aadd-ac68048cf49a",
   "metadata": {},
   "outputs": [
    {
     "data": {
      "text/plain": [
       "'https://www.hcaog.net/documents/eureka-broadway-multimodal-corridor-plan-2021'"
      ]
     },
     "execution_count": 30,
     "metadata": {},
     "output_type": "execute_result"
    }
   ],
   "source": [
    "line_priority.iloc[[3]].Scrs_Link.iloc[0]"
   ]
  },
  {
   "cell_type": "code",
   "execution_count": 31,
   "id": "7267a0fe-ad65-4fa7-b2b0-aec4a81ecf54",
   "metadata": {},
   "outputs": [
    {
     "data": {
      "text/html": [
       "<div>\n",
       "<style scoped>\n",
       "    .dataframe tbody tr th:only-of-type {\n",
       "        vertical-align: middle;\n",
       "    }\n",
       "\n",
       "    .dataframe tbody tr th {\n",
       "        vertical-align: top;\n",
       "    }\n",
       "\n",
       "    .dataframe thead th {\n",
       "        text-align: right;\n",
       "    }\n",
       "</style>\n",
       "<table border=\"1\" class=\"dataframe\">\n",
       "  <thead>\n",
       "    <tr style=\"text-align: right;\">\n",
       "      <th></th>\n",
       "      <th>OBJECTID</th>\n",
       "      <th>Submitter_Name</th>\n",
       "      <th>Submitter_Email</th>\n",
       "      <th>Priority_Intervention_Type_All</th>\n",
       "      <th>Scrs</th>\n",
       "      <th>Scrs_Link</th>\n",
       "      <th>Centerline_Miles</th>\n",
       "      <th>One_Side_Rdwy_Only</th>\n",
       "      <th>Queue_Jumps</th>\n",
       "      <th>Bus_Brdng_Islnds</th>\n",
       "      <th>...</th>\n",
       "      <th>CT_District</th>\n",
       "      <th>County</th>\n",
       "      <th>Route</th>\n",
       "      <th>Geom_Priority_Intervention_Type</th>\n",
       "      <th>geo_comments</th>\n",
       "      <th>CreationDate</th>\n",
       "      <th>Lyr</th>\n",
       "      <th>EditDate</th>\n",
       "      <th>Shape_Length</th>\n",
       "      <th>geometry</th>\n",
       "    </tr>\n",
       "  </thead>\n",
       "  <tbody>\n",
       "    <tr>\n",
       "      <th>3</th>\n",
       "      <td>4</td>\n",
       "      <td>Suresh Ratnam</td>\n",
       "      <td>suresh.ratnam@dot.ca.gov</td>\n",
       "      <td>Bus_Only_Lane_(full-time),Improved_transit_sto...</td>\n",
       "      <td>Eureka Broadway Multimodal Corridor Plan</td>\n",
       "      <td>https://www.hcaog.net/documents/eureka-broadwa...</td>\n",
       "      <td>0.4</td>\n",
       "      <td>no</td>\n",
       "      <td>NaN</td>\n",
       "      <td>NaN</td>\n",
       "      <td>...</td>\n",
       "      <td>01</td>\n",
       "      <td>HUM</td>\n",
       "      <td>101</td>\n",
       "      <td>Bus_Only_Lane_(full-time)</td>\n",
       "      <td>NaN</td>\n",
       "      <td>1692393688000</td>\n",
       "      <td>\"Lns2\"</td>\n",
       "      <td>1693421427000</td>\n",
       "      <td>0.007115</td>\n",
       "      <td>LINESTRING Z (-124.17905 40.79827 0.00000, -12...</td>\n",
       "    </tr>\n",
       "  </tbody>\n",
       "</table>\n",
       "<p>1 rows × 22 columns</p>\n",
       "</div>"
      ],
      "text/plain": [
       "   OBJECTID Submitter_Name           Submitter_Email  \\\n",
       "3         4  Suresh Ratnam  suresh.ratnam@dot.ca.gov   \n",
       "\n",
       "                      Priority_Intervention_Type_All  \\\n",
       "3  Bus_Only_Lane_(full-time),Improved_transit_sto...   \n",
       "\n",
       "                                       Scrs  \\\n",
       "3  Eureka Broadway Multimodal Corridor Plan   \n",
       "\n",
       "                                           Scrs_Link  Centerline_Miles  \\\n",
       "3  https://www.hcaog.net/documents/eureka-broadwa...               0.4   \n",
       "\n",
       "  One_Side_Rdwy_Only  Queue_Jumps  Bus_Brdng_Islnds  ...  CT_District County  \\\n",
       "3                 no          NaN               NaN  ...           01    HUM   \n",
       "\n",
       "  Route Geom_Priority_Intervention_Type  geo_comments   CreationDate     Lyr  \\\n",
       "3   101       Bus_Only_Lane_(full-time)           NaN  1692393688000  \"Lns2\"   \n",
       "\n",
       "        EditDate Shape_Length  \\\n",
       "3  1693421427000     0.007115   \n",
       "\n",
       "                                            geometry  \n",
       "3  LINESTRING Z (-124.17905 40.79827 0.00000, -12...  \n",
       "\n",
       "[1 rows x 22 columns]"
      ]
     },
     "execution_count": 31,
     "metadata": {},
     "output_type": "execute_result"
    }
   ],
   "source": [
    "line_priority.iloc[[3]]"
   ]
  },
  {
   "cell_type": "code",
   "execution_count": 32,
   "id": "6d8c9869-e701-4bdf-a582-e4fa8a231749",
   "metadata": {},
   "outputs": [
    {
     "data": {
      "text/plain": [
       "3    NaN\n",
       "Name: geo_comments, dtype: object"
      ]
     },
     "execution_count": 32,
     "metadata": {},
     "output_type": "execute_result"
    }
   ],
   "source": [
    "line_priority.iloc[[3]].geo_comments"
   ]
  },
  {
   "cell_type": "code",
   "execution_count": 33,
   "id": "e144953f-6258-4842-b7ee-15e57fc705ae",
   "metadata": {},
   "outputs": [
    {
     "data": {
      "text/html": [
       "<div style=\"width:100%;\"><div style=\"position:relative;width:100%;height:0;padding-bottom:60%;\"><span style=\"color:#565656\">Make this Notebook Trusted to load map: File -> Trust Notebook</span><iframe src=\"about:blank\" style=\"position:absolute;width:100%;height:100%;left:0;top:0;border:none !important;\" data-html=%3C%21DOCTYPE%20html%3E%0A%3Chead%3E%20%20%20%20%0A%20%20%20%20%3Cmeta%20http-equiv%3D%22content-type%22%20content%3D%22text/html%3B%20charset%3DUTF-8%22%20/%3E%0A%20%20%20%20%0A%20%20%20%20%20%20%20%20%3Cscript%3E%0A%20%20%20%20%20%20%20%20%20%20%20%20L_NO_TOUCH%20%3D%20false%3B%0A%20%20%20%20%20%20%20%20%20%20%20%20L_DISABLE_3D%20%3D%20false%3B%0A%20%20%20%20%20%20%20%20%3C/script%3E%0A%20%20%20%20%0A%20%20%20%20%3Cstyle%3Ehtml%2C%20body%20%7Bwidth%3A%20100%25%3Bheight%3A%20100%25%3Bmargin%3A%200%3Bpadding%3A%200%3B%7D%3C/style%3E%0A%20%20%20%20%3Cstyle%3E%23map%20%7Bposition%3Aabsolute%3Btop%3A0%3Bbottom%3A0%3Bright%3A0%3Bleft%3A0%3B%7D%3C/style%3E%0A%20%20%20%20%3Cscript%20src%3D%22https%3A//cdn.jsdelivr.net/npm/leaflet%401.6.0/dist/leaflet.js%22%3E%3C/script%3E%0A%20%20%20%20%3Cscript%20src%3D%22https%3A//code.jquery.com/jquery-1.12.4.min.js%22%3E%3C/script%3E%0A%20%20%20%20%3Cscript%20src%3D%22https%3A//maxcdn.bootstrapcdn.com/bootstrap/3.2.0/js/bootstrap.min.js%22%3E%3C/script%3E%0A%20%20%20%20%3Cscript%20src%3D%22https%3A//cdnjs.cloudflare.com/ajax/libs/Leaflet.awesome-markers/2.0.2/leaflet.awesome-markers.js%22%3E%3C/script%3E%0A%20%20%20%20%3Clink%20rel%3D%22stylesheet%22%20href%3D%22https%3A//cdn.jsdelivr.net/npm/leaflet%401.6.0/dist/leaflet.css%22/%3E%0A%20%20%20%20%3Clink%20rel%3D%22stylesheet%22%20href%3D%22https%3A//maxcdn.bootstrapcdn.com/bootstrap/3.2.0/css/bootstrap.min.css%22/%3E%0A%20%20%20%20%3Clink%20rel%3D%22stylesheet%22%20href%3D%22https%3A//maxcdn.bootstrapcdn.com/bootstrap/3.2.0/css/bootstrap-theme.min.css%22/%3E%0A%20%20%20%20%3Clink%20rel%3D%22stylesheet%22%20href%3D%22https%3A//maxcdn.bootstrapcdn.com/font-awesome/4.6.3/css/font-awesome.min.css%22/%3E%0A%20%20%20%20%3Clink%20rel%3D%22stylesheet%22%20href%3D%22https%3A//cdnjs.cloudflare.com/ajax/libs/Leaflet.awesome-markers/2.0.2/leaflet.awesome-markers.css%22/%3E%0A%20%20%20%20%3Clink%20rel%3D%22stylesheet%22%20href%3D%22https%3A//cdn.jsdelivr.net/gh/python-visualization/folium/folium/templates/leaflet.awesome.rotate.min.css%22/%3E%0A%20%20%20%20%0A%20%20%20%20%20%20%20%20%20%20%20%20%3Cmeta%20name%3D%22viewport%22%20content%3D%22width%3Ddevice-width%2C%0A%20%20%20%20%20%20%20%20%20%20%20%20%20%20%20%20initial-scale%3D1.0%2C%20maximum-scale%3D1.0%2C%20user-scalable%3Dno%22%20/%3E%0A%20%20%20%20%20%20%20%20%20%20%20%20%3Cstyle%3E%0A%20%20%20%20%20%20%20%20%20%20%20%20%20%20%20%20%23map_8690b78379e1404d8f2dccee365243a4%20%7B%0A%20%20%20%20%20%20%20%20%20%20%20%20%20%20%20%20%20%20%20%20position%3A%20relative%3B%0A%20%20%20%20%20%20%20%20%20%20%20%20%20%20%20%20%20%20%20%20width%3A%20100.0%25%3B%0A%20%20%20%20%20%20%20%20%20%20%20%20%20%20%20%20%20%20%20%20height%3A%20100.0%25%3B%0A%20%20%20%20%20%20%20%20%20%20%20%20%20%20%20%20%20%20%20%20left%3A%200.0%25%3B%0A%20%20%20%20%20%20%20%20%20%20%20%20%20%20%20%20%20%20%20%20top%3A%200.0%25%3B%0A%20%20%20%20%20%20%20%20%20%20%20%20%20%20%20%20%7D%0A%20%20%20%20%20%20%20%20%20%20%20%20%3C/style%3E%0A%20%20%20%20%20%20%20%20%0A%20%20%20%20%0A%20%20%20%20%20%20%20%20%20%20%20%20%20%20%20%20%20%20%20%20%3Cstyle%3E%0A%20%20%20%20%20%20%20%20%20%20%20%20%20%20%20%20%20%20%20%20%20%20%20%20.foliumtooltip%20%7B%0A%20%20%20%20%20%20%20%20%20%20%20%20%20%20%20%20%20%20%20%20%20%20%20%20%20%20%20%20%0A%20%20%20%20%20%20%20%20%20%20%20%20%20%20%20%20%20%20%20%20%20%20%20%20%7D%0A%20%20%20%20%20%20%20%20%20%20%20%20%20%20%20%20%20%20%20%20%20%20%20.foliumtooltip%20table%7B%0A%20%20%20%20%20%20%20%20%20%20%20%20%20%20%20%20%20%20%20%20%20%20%20%20%20%20%20%20margin%3A%20auto%3B%0A%20%20%20%20%20%20%20%20%20%20%20%20%20%20%20%20%20%20%20%20%20%20%20%20%7D%0A%20%20%20%20%20%20%20%20%20%20%20%20%20%20%20%20%20%20%20%20%20%20%20%20.foliumtooltip%20tr%7B%0A%20%20%20%20%20%20%20%20%20%20%20%20%20%20%20%20%20%20%20%20%20%20%20%20%20%20%20%20text-align%3A%20left%3B%0A%20%20%20%20%20%20%20%20%20%20%20%20%20%20%20%20%20%20%20%20%20%20%20%20%7D%0A%20%20%20%20%20%20%20%20%20%20%20%20%20%20%20%20%20%20%20%20%20%20%20%20.foliumtooltip%20th%7B%0A%20%20%20%20%20%20%20%20%20%20%20%20%20%20%20%20%20%20%20%20%20%20%20%20%20%20%20%20padding%3A%202px%3B%20padding-right%3A%208px%3B%0A%20%20%20%20%20%20%20%20%20%20%20%20%20%20%20%20%20%20%20%20%20%20%20%20%7D%0A%20%20%20%20%20%20%20%20%20%20%20%20%20%20%20%20%20%20%20%20%3C/style%3E%0A%20%20%20%20%20%20%20%20%20%20%20%20%0A%3C/head%3E%0A%3Cbody%3E%20%20%20%20%0A%20%20%20%20%0A%20%20%20%20%20%20%20%20%20%20%20%20%3Cdiv%20class%3D%22folium-map%22%20id%3D%22map_8690b78379e1404d8f2dccee365243a4%22%20%3E%3C/div%3E%0A%20%20%20%20%20%20%20%20%0A%3C/body%3E%0A%3Cscript%3E%20%20%20%20%0A%20%20%20%20%0A%20%20%20%20%20%20%20%20%20%20%20%20var%20map_8690b78379e1404d8f2dccee365243a4%20%3D%20L.map%28%0A%20%20%20%20%20%20%20%20%20%20%20%20%20%20%20%20%22map_8690b78379e1404d8f2dccee365243a4%22%2C%0A%20%20%20%20%20%20%20%20%20%20%20%20%20%20%20%20%7B%0A%20%20%20%20%20%20%20%20%20%20%20%20%20%20%20%20%20%20%20%20center%3A%20%5B40.79471234600004%2C%20-124.17908947849998%5D%2C%0A%20%20%20%20%20%20%20%20%20%20%20%20%20%20%20%20%20%20%20%20crs%3A%20L.CRS.EPSG3857%2C%0A%20%20%20%20%20%20%20%20%20%20%20%20%20%20%20%20%20%20%20%20zoom%3A%2010%2C%0A%20%20%20%20%20%20%20%20%20%20%20%20%20%20%20%20%20%20%20%20zoomControl%3A%20true%2C%0A%20%20%20%20%20%20%20%20%20%20%20%20%20%20%20%20%20%20%20%20preferCanvas%3A%20false%2C%0A%20%20%20%20%20%20%20%20%20%20%20%20%20%20%20%20%7D%0A%20%20%20%20%20%20%20%20%20%20%20%20%29%3B%0A%20%20%20%20%20%20%20%20%20%20%20%20L.control.scale%28%29.addTo%28map_8690b78379e1404d8f2dccee365243a4%29%3B%0A%0A%20%20%20%20%20%20%20%20%20%20%20%20%0A%0A%20%20%20%20%20%20%20%20%0A%20%20%20%20%0A%20%20%20%20%20%20%20%20%20%20%20%20var%20tile_layer_12b0b5f1a9734a4f8544e9eb898dc509%20%3D%20L.tileLayer%28%0A%20%20%20%20%20%20%20%20%20%20%20%20%20%20%20%20%22https%3A//%7Bs%7D.tile.openstreetmap.org/%7Bz%7D/%7Bx%7D/%7By%7D.png%22%2C%0A%20%20%20%20%20%20%20%20%20%20%20%20%20%20%20%20%7B%22attribution%22%3A%20%22Data%20by%20%5Cu0026copy%3B%20%5Cu003ca%20href%3D%5C%22http%3A//openstreetmap.org%5C%22%5Cu003eOpenStreetMap%5Cu003c/a%5Cu003e%2C%20under%20%5Cu003ca%20href%3D%5C%22http%3A//www.openstreetmap.org/copyright%5C%22%5Cu003eODbL%5Cu003c/a%5Cu003e.%22%2C%20%22detectRetina%22%3A%20false%2C%20%22maxNativeZoom%22%3A%2018%2C%20%22maxZoom%22%3A%2018%2C%20%22minZoom%22%3A%200%2C%20%22noWrap%22%3A%20false%2C%20%22opacity%22%3A%201%2C%20%22subdomains%22%3A%20%22abc%22%2C%20%22tms%22%3A%20false%7D%0A%20%20%20%20%20%20%20%20%20%20%20%20%29.addTo%28map_8690b78379e1404d8f2dccee365243a4%29%3B%0A%20%20%20%20%20%20%20%20%0A%20%20%20%20%0A%20%20%20%20%20%20%20%20%20%20%20%20map_8690b78379e1404d8f2dccee365243a4.fitBounds%28%0A%20%20%20%20%20%20%20%20%20%20%20%20%20%20%20%20%5B%5B40.79115520700003%2C%20-124.17913005399998%5D%2C%20%5B40.79826948500005%2C%20-124.17904890299997%5D%5D%2C%0A%20%20%20%20%20%20%20%20%20%20%20%20%20%20%20%20%7B%7D%0A%20%20%20%20%20%20%20%20%20%20%20%20%29%3B%0A%20%20%20%20%20%20%20%20%0A%20%20%20%20%0A%20%20%20%20%20%20%20%20function%20geo_json_fbb1708406b44b938d491ec93dd5b525_styler%28feature%29%20%7B%0A%20%20%20%20%20%20%20%20%20%20%20%20switch%28feature.id%29%20%7B%0A%20%20%20%20%20%20%20%20%20%20%20%20%20%20%20%20default%3A%0A%20%20%20%20%20%20%20%20%20%20%20%20%20%20%20%20%20%20%20%20return%20%7B%22fillOpacity%22%3A%200.5%2C%20%22weight%22%3A%202%7D%3B%0A%20%20%20%20%20%20%20%20%20%20%20%20%7D%0A%20%20%20%20%20%20%20%20%7D%0A%20%20%20%20%20%20%20%20function%20geo_json_fbb1708406b44b938d491ec93dd5b525_highlighter%28feature%29%20%7B%0A%20%20%20%20%20%20%20%20%20%20%20%20switch%28feature.id%29%20%7B%0A%20%20%20%20%20%20%20%20%20%20%20%20%20%20%20%20default%3A%0A%20%20%20%20%20%20%20%20%20%20%20%20%20%20%20%20%20%20%20%20return%20%7B%22fillOpacity%22%3A%200.75%7D%3B%0A%20%20%20%20%20%20%20%20%20%20%20%20%7D%0A%20%20%20%20%20%20%20%20%7D%0A%20%20%20%20%20%20%20%20function%20geo_json_fbb1708406b44b938d491ec93dd5b525_pointToLayer%28feature%2C%20latlng%29%20%7B%0A%20%20%20%20%20%20%20%20%20%20%20%20var%20opts%20%3D%20%7B%22bubblingMouseEvents%22%3A%20true%2C%20%22color%22%3A%20%22%233388ff%22%2C%20%22dashArray%22%3A%20null%2C%20%22dashOffset%22%3A%20null%2C%20%22fill%22%3A%20true%2C%20%22fillColor%22%3A%20%22%233388ff%22%2C%20%22fillOpacity%22%3A%200.2%2C%20%22fillRule%22%3A%20%22evenodd%22%2C%20%22lineCap%22%3A%20%22round%22%2C%20%22lineJoin%22%3A%20%22round%22%2C%20%22opacity%22%3A%201.0%2C%20%22radius%22%3A%202%2C%20%22stroke%22%3A%20true%2C%20%22weight%22%3A%203%7D%3B%0A%20%20%20%20%20%20%20%20%20%20%20%20%0A%20%20%20%20%20%20%20%20%20%20%20%20let%20style%20%3D%20geo_json_fbb1708406b44b938d491ec93dd5b525_styler%28feature%29%0A%20%20%20%20%20%20%20%20%20%20%20%20Object.assign%28opts%2C%20style%29%0A%20%20%20%20%20%20%20%20%20%20%20%20%0A%20%20%20%20%20%20%20%20%20%20%20%20return%20new%20L.CircleMarker%28latlng%2C%20opts%29%0A%20%20%20%20%20%20%20%20%7D%0A%0A%20%20%20%20%20%20%20%20function%20geo_json_fbb1708406b44b938d491ec93dd5b525_onEachFeature%28feature%2C%20layer%29%20%7B%0A%20%20%20%20%20%20%20%20%20%20%20%20layer.on%28%7B%0A%20%20%20%20%20%20%20%20%20%20%20%20%20%20%20%20mouseout%3A%20function%28e%29%20%7B%0A%20%20%20%20%20%20%20%20%20%20%20%20%20%20%20%20%20%20%20%20if%28typeof%20e.target.setStyle%20%3D%3D%3D%20%22function%22%29%7B%0A%20%20%20%20%20%20%20%20%20%20%20%20%20%20%20%20%20%20%20%20%20%20%20%20geo_json_fbb1708406b44b938d491ec93dd5b525.resetStyle%28e.target%29%3B%0A%20%20%20%20%20%20%20%20%20%20%20%20%20%20%20%20%20%20%20%20%7D%0A%20%20%20%20%20%20%20%20%20%20%20%20%20%20%20%20%7D%2C%0A%20%20%20%20%20%20%20%20%20%20%20%20%20%20%20%20mouseover%3A%20function%28e%29%20%7B%0A%20%20%20%20%20%20%20%20%20%20%20%20%20%20%20%20%20%20%20%20if%28typeof%20e.target.setStyle%20%3D%3D%3D%20%22function%22%29%7B%0A%20%20%20%20%20%20%20%20%20%20%20%20%20%20%20%20%20%20%20%20%20%20%20%20const%20highlightStyle%20%3D%20geo_json_fbb1708406b44b938d491ec93dd5b525_highlighter%28e.target.feature%29%0A%20%20%20%20%20%20%20%20%20%20%20%20%20%20%20%20%20%20%20%20%20%20%20%20e.target.setStyle%28highlightStyle%29%3B%0A%20%20%20%20%20%20%20%20%20%20%20%20%20%20%20%20%20%20%20%20%7D%0A%20%20%20%20%20%20%20%20%20%20%20%20%20%20%20%20%7D%2C%0A%20%20%20%20%20%20%20%20%20%20%20%20%7D%29%3B%0A%20%20%20%20%20%20%20%20%7D%3B%0A%20%20%20%20%20%20%20%20var%20geo_json_fbb1708406b44b938d491ec93dd5b525%20%3D%20L.geoJson%28null%2C%20%7B%0A%20%20%20%20%20%20%20%20%20%20%20%20%20%20%20%20onEachFeature%3A%20geo_json_fbb1708406b44b938d491ec93dd5b525_onEachFeature%2C%0A%20%20%20%20%20%20%20%20%20%20%20%20%0A%20%20%20%20%20%20%20%20%20%20%20%20%20%20%20%20style%3A%20geo_json_fbb1708406b44b938d491ec93dd5b525_styler%2C%0A%20%20%20%20%20%20%20%20%20%20%20%20%20%20%20%20pointToLayer%3A%20geo_json_fbb1708406b44b938d491ec93dd5b525_pointToLayer%0A%20%20%20%20%20%20%20%20%7D%29%3B%0A%0A%20%20%20%20%20%20%20%20function%20geo_json_fbb1708406b44b938d491ec93dd5b525_add%20%28data%29%20%7B%0A%20%20%20%20%20%20%20%20%20%20%20%20geo_json_fbb1708406b44b938d491ec93dd5b525%0A%20%20%20%20%20%20%20%20%20%20%20%20%20%20%20%20.addData%28data%29%0A%20%20%20%20%20%20%20%20%20%20%20%20%20%20%20%20.addTo%28map_8690b78379e1404d8f2dccee365243a4%29%3B%0A%20%20%20%20%20%20%20%20%7D%0A%20%20%20%20%20%20%20%20%20%20%20%20geo_json_fbb1708406b44b938d491ec93dd5b525_add%28%7B%22bbox%22%3A%20%5B-124.17913005399998%2C%2040.79115520700003%2C%20-124.17904890299997%2C%2040.79826948500005%5D%2C%20%22features%22%3A%20%5B%7B%22bbox%22%3A%20%5B-124.17913005399998%2C%2040.79115520700003%2C%20-124.17904890299997%2C%2040.79826948500005%5D%2C%20%22geometry%22%3A%20%7B%22coordinates%22%3A%20%5B%5B-124.17904890299997%2C%2040.79826948500005%2C%200.0%5D%2C%20%5B-124.17913005399998%2C%2040.79115520700003%2C%200.0%5D%5D%2C%20%22type%22%3A%20%22LineString%22%7D%2C%20%22id%22%3A%20%223%22%2C%20%22properties%22%3A%20%7B%22Bus_Brdng_Islnds%22%3A%20null%2C%20%22CT_District%22%3A%20%2201%22%2C%20%22Centerline_Miles%22%3A%200.4%2C%20%22County%22%3A%20%22HUM%22%2C%20%22CreationDate%22%3A%201692393688000%2C%20%22EditDate%22%3A%201693421427000%2C%20%22Geom_Priority_Intervention_Type%22%3A%20%22Bus_Only_Lane_%28full-time%29%22%2C%20%22Imprv_Site_Amnts%22%3A%205.0%2C%20%22Lyr%22%3A%20%22%5C%22Lns2%5C%22%22%2C%20%22OBJECTID%22%3A%204%2C%20%22One_Side_Rdwy_Only%22%3A%20%22no%22%2C%20%22Priority_Intervention_Type_All%22%3A%20%22Bus_Only_Lane_%28full-time%29%2CImproved_transit_stop_amenities_including_lighting_and_seating%22%2C%20%22Queue_Jumps%22%3A%20null%2C%20%22Route%22%3A%20101%2C%20%22Scrs%22%3A%20%22Eureka%20Broadway%20Multimodal%20Corridor%20Plan%22%2C%20%22Scrs_Link%22%3A%20%22https%3A//www.hcaog.net/documents/eureka-broadway-multimodal-corridor-plan-2021%22%2C%20%22Shape_Length%22%3A%200.007114740820742096%2C%20%22Submitter_Email%22%3A%20%22suresh.ratnam%40dot.ca.gov%22%2C%20%22Submitter_Name%22%3A%20%22Suresh%20Ratnam%22%2C%20%22Transit_Op_Support%22%3A%20%22yes%22%2C%20%22geo_comments%22%3A%20null%7D%2C%20%22type%22%3A%20%22Feature%22%7D%5D%2C%20%22type%22%3A%20%22FeatureCollection%22%7D%29%3B%0A%0A%20%20%20%20%20%20%20%20%0A%20%20%20%20%0A%20%20%20%20geo_json_fbb1708406b44b938d491ec93dd5b525.bindTooltip%28%0A%20%20%20%20function%28layer%29%7B%0A%20%20%20%20let%20div%20%3D%20L.DomUtil.create%28%27div%27%29%3B%0A%20%20%20%20%0A%20%20%20%20let%20handleObject%20%3D%20feature%3D%3Etypeof%28feature%29%3D%3D%27object%27%20%3F%20JSON.stringify%28feature%29%20%3A%20feature%3B%0A%20%20%20%20let%20fields%20%3D%20%5B%22OBJECTID%22%2C%20%22Submitter_Name%22%2C%20%22Submitter_Email%22%2C%20%22Priority_Intervention_Type_All%22%2C%20%22Scrs%22%2C%20%22Scrs_Link%22%2C%20%22Centerline_Miles%22%2C%20%22One_Side_Rdwy_Only%22%2C%20%22Queue_Jumps%22%2C%20%22Bus_Brdng_Islnds%22%2C%20%22Imprv_Site_Amnts%22%2C%20%22Transit_Op_Support%22%2C%20%22CT_District%22%2C%20%22County%22%2C%20%22Route%22%2C%20%22Geom_Priority_Intervention_Type%22%2C%20%22geo_comments%22%2C%20%22CreationDate%22%2C%20%22Lyr%22%2C%20%22EditDate%22%2C%20%22Shape_Length%22%5D%3B%0A%20%20%20%20let%20aliases%20%3D%20%5B%22OBJECTID%22%2C%20%22Submitter_Name%22%2C%20%22Submitter_Email%22%2C%20%22Priority_Intervention_Type_All%22%2C%20%22Scrs%22%2C%20%22Scrs_Link%22%2C%20%22Centerline_Miles%22%2C%20%22One_Side_Rdwy_Only%22%2C%20%22Queue_Jumps%22%2C%20%22Bus_Brdng_Islnds%22%2C%20%22Imprv_Site_Amnts%22%2C%20%22Transit_Op_Support%22%2C%20%22CT_District%22%2C%20%22County%22%2C%20%22Route%22%2C%20%22Geom_Priority_Intervention_Type%22%2C%20%22geo_comments%22%2C%20%22CreationDate%22%2C%20%22Lyr%22%2C%20%22EditDate%22%2C%20%22Shape_Length%22%5D%3B%0A%20%20%20%20let%20table%20%3D%20%27%3Ctable%3E%27%20%2B%0A%20%20%20%20%20%20%20%20String%28%0A%20%20%20%20%20%20%20%20fields.map%28%0A%20%20%20%20%20%20%20%20%28v%2Ci%29%3D%3E%0A%20%20%20%20%20%20%20%20%60%3Ctr%3E%0A%20%20%20%20%20%20%20%20%20%20%20%20%3Cth%3E%24%7Baliases%5Bi%5D%7D%3C/th%3E%0A%20%20%20%20%20%20%20%20%20%20%20%20%0A%20%20%20%20%20%20%20%20%20%20%20%20%3Ctd%3E%24%7BhandleObject%28layer.feature.properties%5Bv%5D%29%7D%3C/td%3E%0A%20%20%20%20%20%20%20%20%3C/tr%3E%60%29.join%28%27%27%29%29%0A%20%20%20%20%2B%27%3C/table%3E%27%3B%0A%20%20%20%20div.innerHTML%3Dtable%3B%0A%20%20%20%20%0A%20%20%20%20return%20div%0A%20%20%20%20%7D%0A%20%20%20%20%2C%7B%22className%22%3A%20%22foliumtooltip%22%2C%20%22sticky%22%3A%20true%7D%29%3B%0A%20%20%20%20%20%20%20%20%20%20%20%20%20%20%20%20%20%20%20%20%20%0A%3C/script%3E onload=\"this.contentDocument.open();this.contentDocument.write(    decodeURIComponent(this.getAttribute('data-html')));this.contentDocument.close();\" allowfullscreen webkitallowfullscreen mozallowfullscreen></iframe></div></div>"
      ],
      "text/plain": [
       "<folium.folium.Map at 0x7f0ee22cfd30>"
      ]
     },
     "execution_count": 33,
     "metadata": {},
     "output_type": "execute_result"
    }
   ],
   "source": [
    "line_priority.iloc[[3]].explore()"
   ]
  },
  {
   "cell_type": "markdown",
   "id": "d8db65df-720b-48ba-9b8b-21e4c2ccfcaa",
   "metadata": {
    "jp-MarkdownHeadingCollapsed": true,
    "tags": []
   },
   "source": [
    "## 9 HTA (queue jump, goes w/ 3)"
   ]
  },
  {
   "cell_type": "code",
   "execution_count": 34,
   "id": "46ead714-4141-4759-92a5-b991cd2044c5",
   "metadata": {},
   "outputs": [
    {
     "data": {
      "text/html": [
       "<div>\n",
       "<style scoped>\n",
       "    .dataframe tbody tr th:only-of-type {\n",
       "        vertical-align: middle;\n",
       "    }\n",
       "\n",
       "    .dataframe tbody tr th {\n",
       "        vertical-align: top;\n",
       "    }\n",
       "\n",
       "    .dataframe thead th {\n",
       "        text-align: right;\n",
       "    }\n",
       "</style>\n",
       "<table border=\"1\" class=\"dataframe\">\n",
       "  <thead>\n",
       "    <tr style=\"text-align: right;\">\n",
       "      <th></th>\n",
       "      <th>OBJECTID</th>\n",
       "      <th>Submitter_Name</th>\n",
       "      <th>Submitter_Email</th>\n",
       "      <th>Priority_Intervention_Type_All</th>\n",
       "      <th>Scrs</th>\n",
       "      <th>Scrs_Link</th>\n",
       "      <th>Centerline_Miles</th>\n",
       "      <th>One_Side_Rdwy_Only</th>\n",
       "      <th>Queue_Jumps</th>\n",
       "      <th>Bus_Brdng_Islnds</th>\n",
       "      <th>...</th>\n",
       "      <th>CT_District</th>\n",
       "      <th>County</th>\n",
       "      <th>Route</th>\n",
       "      <th>Geom_Priority_Intervention_Type</th>\n",
       "      <th>geo_comments</th>\n",
       "      <th>CreationDate</th>\n",
       "      <th>Lyr</th>\n",
       "      <th>EditDate</th>\n",
       "      <th>Shape_Length</th>\n",
       "      <th>geometry</th>\n",
       "    </tr>\n",
       "  </thead>\n",
       "  <tbody>\n",
       "    <tr>\n",
       "      <th>9</th>\n",
       "      <td>10</td>\n",
       "      <td>Suresh Ratnam</td>\n",
       "      <td>suresh.ratnam@dot.ca.gov</td>\n",
       "      <td>Queue_Jump_lanes/signals</td>\n",
       "      <td>Humboldt Transit Authority (HTA)</td>\n",
       "      <td>https://hta.org/</td>\n",
       "      <td>NaN</td>\n",
       "      <td>NaN</td>\n",
       "      <td>29.0</td>\n",
       "      <td>NaN</td>\n",
       "      <td>...</td>\n",
       "      <td>01</td>\n",
       "      <td>HUM</td>\n",
       "      <td>101</td>\n",
       "      <td>NaN</td>\n",
       "      <td>NaN</td>\n",
       "      <td>1692314474000</td>\n",
       "      <td>\"Lns1\"</td>\n",
       "      <td>1693421431000</td>\n",
       "      <td>0.064769</td>\n",
       "      <td>LINESTRING Z (-124.14697 40.80386 0.00000, -12...</td>\n",
       "    </tr>\n",
       "  </tbody>\n",
       "</table>\n",
       "<p>1 rows × 22 columns</p>\n",
       "</div>"
      ],
      "text/plain": [
       "   OBJECTID Submitter_Name           Submitter_Email  \\\n",
       "9        10  Suresh Ratnam  suresh.ratnam@dot.ca.gov   \n",
       "\n",
       "  Priority_Intervention_Type_All                              Scrs  \\\n",
       "9       Queue_Jump_lanes/signals  Humboldt Transit Authority (HTA)   \n",
       "\n",
       "          Scrs_Link  Centerline_Miles One_Side_Rdwy_Only  Queue_Jumps  \\\n",
       "9  https://hta.org/               NaN                NaN         29.0   \n",
       "\n",
       "   Bus_Brdng_Islnds  ...  CT_District County Route  \\\n",
       "9               NaN  ...           01    HUM   101   \n",
       "\n",
       "  Geom_Priority_Intervention_Type  geo_comments   CreationDate     Lyr  \\\n",
       "9                             NaN           NaN  1692314474000  \"Lns1\"   \n",
       "\n",
       "        EditDate Shape_Length  \\\n",
       "9  1693421431000     0.064769   \n",
       "\n",
       "                                            geometry  \n",
       "9  LINESTRING Z (-124.14697 40.80386 0.00000, -12...  \n",
       "\n",
       "[1 rows x 22 columns]"
      ]
     },
     "execution_count": 34,
     "metadata": {},
     "output_type": "execute_result"
    }
   ],
   "source": [
    "line_priority.iloc[[9]]"
   ]
  },
  {
   "cell_type": "code",
   "execution_count": 35,
   "id": "518e9542-dca4-4f27-9953-157ceb2e81d3",
   "metadata": {},
   "outputs": [
    {
     "data": {
      "text/plain": [
       "nan"
      ]
     },
     "execution_count": 35,
     "metadata": {},
     "output_type": "execute_result"
    }
   ],
   "source": [
    "line_priority.iloc[[9]].geo_comments.iloc[0]"
   ]
  },
  {
   "cell_type": "code",
   "execution_count": 36,
   "id": "963ed972-7548-4760-b290-d0f57859e76b",
   "metadata": {},
   "outputs": [
    {
     "data": {
      "text/html": [
       "<div style=\"width:100%;\"><div style=\"position:relative;width:100%;height:0;padding-bottom:60%;\"><span style=\"color:#565656\">Make this Notebook Trusted to load map: File -> Trust Notebook</span><iframe src=\"about:blank\" style=\"position:absolute;width:100%;height:100%;left:0;top:0;border:none !important;\" data-html=%3C%21DOCTYPE%20html%3E%0A%3Chead%3E%20%20%20%20%0A%20%20%20%20%3Cmeta%20http-equiv%3D%22content-type%22%20content%3D%22text/html%3B%20charset%3DUTF-8%22%20/%3E%0A%20%20%20%20%0A%20%20%20%20%20%20%20%20%3Cscript%3E%0A%20%20%20%20%20%20%20%20%20%20%20%20L_NO_TOUCH%20%3D%20false%3B%0A%20%20%20%20%20%20%20%20%20%20%20%20L_DISABLE_3D%20%3D%20false%3B%0A%20%20%20%20%20%20%20%20%3C/script%3E%0A%20%20%20%20%0A%20%20%20%20%3Cstyle%3Ehtml%2C%20body%20%7Bwidth%3A%20100%25%3Bheight%3A%20100%25%3Bmargin%3A%200%3Bpadding%3A%200%3B%7D%3C/style%3E%0A%20%20%20%20%3Cstyle%3E%23map%20%7Bposition%3Aabsolute%3Btop%3A0%3Bbottom%3A0%3Bright%3A0%3Bleft%3A0%3B%7D%3C/style%3E%0A%20%20%20%20%3Cscript%20src%3D%22https%3A//cdn.jsdelivr.net/npm/leaflet%401.6.0/dist/leaflet.js%22%3E%3C/script%3E%0A%20%20%20%20%3Cscript%20src%3D%22https%3A//code.jquery.com/jquery-1.12.4.min.js%22%3E%3C/script%3E%0A%20%20%20%20%3Cscript%20src%3D%22https%3A//maxcdn.bootstrapcdn.com/bootstrap/3.2.0/js/bootstrap.min.js%22%3E%3C/script%3E%0A%20%20%20%20%3Cscript%20src%3D%22https%3A//cdnjs.cloudflare.com/ajax/libs/Leaflet.awesome-markers/2.0.2/leaflet.awesome-markers.js%22%3E%3C/script%3E%0A%20%20%20%20%3Clink%20rel%3D%22stylesheet%22%20href%3D%22https%3A//cdn.jsdelivr.net/npm/leaflet%401.6.0/dist/leaflet.css%22/%3E%0A%20%20%20%20%3Clink%20rel%3D%22stylesheet%22%20href%3D%22https%3A//maxcdn.bootstrapcdn.com/bootstrap/3.2.0/css/bootstrap.min.css%22/%3E%0A%20%20%20%20%3Clink%20rel%3D%22stylesheet%22%20href%3D%22https%3A//maxcdn.bootstrapcdn.com/bootstrap/3.2.0/css/bootstrap-theme.min.css%22/%3E%0A%20%20%20%20%3Clink%20rel%3D%22stylesheet%22%20href%3D%22https%3A//maxcdn.bootstrapcdn.com/font-awesome/4.6.3/css/font-awesome.min.css%22/%3E%0A%20%20%20%20%3Clink%20rel%3D%22stylesheet%22%20href%3D%22https%3A//cdnjs.cloudflare.com/ajax/libs/Leaflet.awesome-markers/2.0.2/leaflet.awesome-markers.css%22/%3E%0A%20%20%20%20%3Clink%20rel%3D%22stylesheet%22%20href%3D%22https%3A//cdn.jsdelivr.net/gh/python-visualization/folium/folium/templates/leaflet.awesome.rotate.min.css%22/%3E%0A%20%20%20%20%0A%20%20%20%20%20%20%20%20%20%20%20%20%3Cmeta%20name%3D%22viewport%22%20content%3D%22width%3Ddevice-width%2C%0A%20%20%20%20%20%20%20%20%20%20%20%20%20%20%20%20initial-scale%3D1.0%2C%20maximum-scale%3D1.0%2C%20user-scalable%3Dno%22%20/%3E%0A%20%20%20%20%20%20%20%20%20%20%20%20%3Cstyle%3E%0A%20%20%20%20%20%20%20%20%20%20%20%20%20%20%20%20%23map_98a17def72564b28a811bafb500e9936%20%7B%0A%20%20%20%20%20%20%20%20%20%20%20%20%20%20%20%20%20%20%20%20position%3A%20relative%3B%0A%20%20%20%20%20%20%20%20%20%20%20%20%20%20%20%20%20%20%20%20width%3A%20100.0%25%3B%0A%20%20%20%20%20%20%20%20%20%20%20%20%20%20%20%20%20%20%20%20height%3A%20100.0%25%3B%0A%20%20%20%20%20%20%20%20%20%20%20%20%20%20%20%20%20%20%20%20left%3A%200.0%25%3B%0A%20%20%20%20%20%20%20%20%20%20%20%20%20%20%20%20%20%20%20%20top%3A%200.0%25%3B%0A%20%20%20%20%20%20%20%20%20%20%20%20%20%20%20%20%7D%0A%20%20%20%20%20%20%20%20%20%20%20%20%3C/style%3E%0A%20%20%20%20%20%20%20%20%0A%20%20%20%20%0A%20%20%20%20%20%20%20%20%20%20%20%20%20%20%20%20%20%20%20%20%3Cstyle%3E%0A%20%20%20%20%20%20%20%20%20%20%20%20%20%20%20%20%20%20%20%20%20%20%20%20.foliumtooltip%20%7B%0A%20%20%20%20%20%20%20%20%20%20%20%20%20%20%20%20%20%20%20%20%20%20%20%20%20%20%20%20%0A%20%20%20%20%20%20%20%20%20%20%20%20%20%20%20%20%20%20%20%20%20%20%20%20%7D%0A%20%20%20%20%20%20%20%20%20%20%20%20%20%20%20%20%20%20%20%20%20%20%20.foliumtooltip%20table%7B%0A%20%20%20%20%20%20%20%20%20%20%20%20%20%20%20%20%20%20%20%20%20%20%20%20%20%20%20%20margin%3A%20auto%3B%0A%20%20%20%20%20%20%20%20%20%20%20%20%20%20%20%20%20%20%20%20%20%20%20%20%7D%0A%20%20%20%20%20%20%20%20%20%20%20%20%20%20%20%20%20%20%20%20%20%20%20%20.foliumtooltip%20tr%7B%0A%20%20%20%20%20%20%20%20%20%20%20%20%20%20%20%20%20%20%20%20%20%20%20%20%20%20%20%20text-align%3A%20left%3B%0A%20%20%20%20%20%20%20%20%20%20%20%20%20%20%20%20%20%20%20%20%20%20%20%20%7D%0A%20%20%20%20%20%20%20%20%20%20%20%20%20%20%20%20%20%20%20%20%20%20%20%20.foliumtooltip%20th%7B%0A%20%20%20%20%20%20%20%20%20%20%20%20%20%20%20%20%20%20%20%20%20%20%20%20%20%20%20%20padding%3A%202px%3B%20padding-right%3A%208px%3B%0A%20%20%20%20%20%20%20%20%20%20%20%20%20%20%20%20%20%20%20%20%20%20%20%20%7D%0A%20%20%20%20%20%20%20%20%20%20%20%20%20%20%20%20%20%20%20%20%3C/style%3E%0A%20%20%20%20%20%20%20%20%20%20%20%20%0A%3C/head%3E%0A%3Cbody%3E%20%20%20%20%0A%20%20%20%20%0A%20%20%20%20%20%20%20%20%20%20%20%20%3Cdiv%20class%3D%22folium-map%22%20id%3D%22map_98a17def72564b28a811bafb500e9936%22%20%3E%3C/div%3E%0A%20%20%20%20%20%20%20%20%0A%3C/body%3E%0A%3Cscript%3E%20%20%20%20%0A%20%20%20%20%0A%20%20%20%20%20%20%20%20%20%20%20%20var%20map_98a17def72564b28a811bafb500e9936%20%3D%20L.map%28%0A%20%20%20%20%20%20%20%20%20%20%20%20%20%20%20%20%22map_98a17def72564b28a811bafb500e9936%22%2C%0A%20%20%20%20%20%20%20%20%20%20%20%20%20%20%20%20%7B%0A%20%20%20%20%20%20%20%20%20%20%20%20%20%20%20%20%20%20%20%20center%3A%20%5B40.78676392050005%2C%20-124.16921693599997%5D%2C%0A%20%20%20%20%20%20%20%20%20%20%20%20%20%20%20%20%20%20%20%20crs%3A%20L.CRS.EPSG3857%2C%0A%20%20%20%20%20%20%20%20%20%20%20%20%20%20%20%20%20%20%20%20zoom%3A%2010%2C%0A%20%20%20%20%20%20%20%20%20%20%20%20%20%20%20%20%20%20%20%20zoomControl%3A%20true%2C%0A%20%20%20%20%20%20%20%20%20%20%20%20%20%20%20%20%20%20%20%20preferCanvas%3A%20false%2C%0A%20%20%20%20%20%20%20%20%20%20%20%20%20%20%20%20%7D%0A%20%20%20%20%20%20%20%20%20%20%20%20%29%3B%0A%20%20%20%20%20%20%20%20%20%20%20%20L.control.scale%28%29.addTo%28map_98a17def72564b28a811bafb500e9936%29%3B%0A%0A%20%20%20%20%20%20%20%20%20%20%20%20%0A%0A%20%20%20%20%20%20%20%20%0A%20%20%20%20%0A%20%20%20%20%20%20%20%20%20%20%20%20var%20tile_layer_ce088dc117e14f5bae33816db3ce84b2%20%3D%20L.tileLayer%28%0A%20%20%20%20%20%20%20%20%20%20%20%20%20%20%20%20%22https%3A//%7Bs%7D.tile.openstreetmap.org/%7Bz%7D/%7Bx%7D/%7By%7D.png%22%2C%0A%20%20%20%20%20%20%20%20%20%20%20%20%20%20%20%20%7B%22attribution%22%3A%20%22Data%20by%20%5Cu0026copy%3B%20%5Cu003ca%20href%3D%5C%22http%3A//openstreetmap.org%5C%22%5Cu003eOpenStreetMap%5Cu003c/a%5Cu003e%2C%20under%20%5Cu003ca%20href%3D%5C%22http%3A//www.openstreetmap.org/copyright%5C%22%5Cu003eODbL%5Cu003c/a%5Cu003e.%22%2C%20%22detectRetina%22%3A%20false%2C%20%22maxNativeZoom%22%3A%2018%2C%20%22maxZoom%22%3A%2018%2C%20%22minZoom%22%3A%200%2C%20%22noWrap%22%3A%20false%2C%20%22opacity%22%3A%201%2C%20%22subdomains%22%3A%20%22abc%22%2C%20%22tms%22%3A%20false%7D%0A%20%20%20%20%20%20%20%20%20%20%20%20%29.addTo%28map_98a17def72564b28a811bafb500e9936%29%3B%0A%20%20%20%20%20%20%20%20%0A%20%20%20%20%0A%20%20%20%20%20%20%20%20%20%20%20%20map_98a17def72564b28a811bafb500e9936.fitBounds%28%0A%20%20%20%20%20%20%20%20%20%20%20%20%20%20%20%20%5B%5B40.76960752200006%2C%20-124.191468542%5D%2C%20%5B40.80392031900004%2C%20-124.14696532999994%5D%5D%2C%0A%20%20%20%20%20%20%20%20%20%20%20%20%20%20%20%20%7B%7D%0A%20%20%20%20%20%20%20%20%20%20%20%20%29%3B%0A%20%20%20%20%20%20%20%20%0A%20%20%20%20%0A%20%20%20%20%20%20%20%20function%20geo_json_b08eead3004b4076898a578881daf880_styler%28feature%29%20%7B%0A%20%20%20%20%20%20%20%20%20%20%20%20switch%28feature.id%29%20%7B%0A%20%20%20%20%20%20%20%20%20%20%20%20%20%20%20%20default%3A%0A%20%20%20%20%20%20%20%20%20%20%20%20%20%20%20%20%20%20%20%20return%20%7B%22fillOpacity%22%3A%200.5%2C%20%22weight%22%3A%202%7D%3B%0A%20%20%20%20%20%20%20%20%20%20%20%20%7D%0A%20%20%20%20%20%20%20%20%7D%0A%20%20%20%20%20%20%20%20function%20geo_json_b08eead3004b4076898a578881daf880_highlighter%28feature%29%20%7B%0A%20%20%20%20%20%20%20%20%20%20%20%20switch%28feature.id%29%20%7B%0A%20%20%20%20%20%20%20%20%20%20%20%20%20%20%20%20default%3A%0A%20%20%20%20%20%20%20%20%20%20%20%20%20%20%20%20%20%20%20%20return%20%7B%22fillOpacity%22%3A%200.75%7D%3B%0A%20%20%20%20%20%20%20%20%20%20%20%20%7D%0A%20%20%20%20%20%20%20%20%7D%0A%20%20%20%20%20%20%20%20function%20geo_json_b08eead3004b4076898a578881daf880_pointToLayer%28feature%2C%20latlng%29%20%7B%0A%20%20%20%20%20%20%20%20%20%20%20%20var%20opts%20%3D%20%7B%22bubblingMouseEvents%22%3A%20true%2C%20%22color%22%3A%20%22%233388ff%22%2C%20%22dashArray%22%3A%20null%2C%20%22dashOffset%22%3A%20null%2C%20%22fill%22%3A%20true%2C%20%22fillColor%22%3A%20%22%233388ff%22%2C%20%22fillOpacity%22%3A%200.2%2C%20%22fillRule%22%3A%20%22evenodd%22%2C%20%22lineCap%22%3A%20%22round%22%2C%20%22lineJoin%22%3A%20%22round%22%2C%20%22opacity%22%3A%201.0%2C%20%22radius%22%3A%202%2C%20%22stroke%22%3A%20true%2C%20%22weight%22%3A%203%7D%3B%0A%20%20%20%20%20%20%20%20%20%20%20%20%0A%20%20%20%20%20%20%20%20%20%20%20%20let%20style%20%3D%20geo_json_b08eead3004b4076898a578881daf880_styler%28feature%29%0A%20%20%20%20%20%20%20%20%20%20%20%20Object.assign%28opts%2C%20style%29%0A%20%20%20%20%20%20%20%20%20%20%20%20%0A%20%20%20%20%20%20%20%20%20%20%20%20return%20new%20L.CircleMarker%28latlng%2C%20opts%29%0A%20%20%20%20%20%20%20%20%7D%0A%0A%20%20%20%20%20%20%20%20function%20geo_json_b08eead3004b4076898a578881daf880_onEachFeature%28feature%2C%20layer%29%20%7B%0A%20%20%20%20%20%20%20%20%20%20%20%20layer.on%28%7B%0A%20%20%20%20%20%20%20%20%20%20%20%20%20%20%20%20mouseout%3A%20function%28e%29%20%7B%0A%20%20%20%20%20%20%20%20%20%20%20%20%20%20%20%20%20%20%20%20if%28typeof%20e.target.setStyle%20%3D%3D%3D%20%22function%22%29%7B%0A%20%20%20%20%20%20%20%20%20%20%20%20%20%20%20%20%20%20%20%20%20%20%20%20geo_json_b08eead3004b4076898a578881daf880.resetStyle%28e.target%29%3B%0A%20%20%20%20%20%20%20%20%20%20%20%20%20%20%20%20%20%20%20%20%7D%0A%20%20%20%20%20%20%20%20%20%20%20%20%20%20%20%20%7D%2C%0A%20%20%20%20%20%20%20%20%20%20%20%20%20%20%20%20mouseover%3A%20function%28e%29%20%7B%0A%20%20%20%20%20%20%20%20%20%20%20%20%20%20%20%20%20%20%20%20if%28typeof%20e.target.setStyle%20%3D%3D%3D%20%22function%22%29%7B%0A%20%20%20%20%20%20%20%20%20%20%20%20%20%20%20%20%20%20%20%20%20%20%20%20const%20highlightStyle%20%3D%20geo_json_b08eead3004b4076898a578881daf880_highlighter%28e.target.feature%29%0A%20%20%20%20%20%20%20%20%20%20%20%20%20%20%20%20%20%20%20%20%20%20%20%20e.target.setStyle%28highlightStyle%29%3B%0A%20%20%20%20%20%20%20%20%20%20%20%20%20%20%20%20%20%20%20%20%7D%0A%20%20%20%20%20%20%20%20%20%20%20%20%20%20%20%20%7D%2C%0A%20%20%20%20%20%20%20%20%20%20%20%20%7D%29%3B%0A%20%20%20%20%20%20%20%20%7D%3B%0A%20%20%20%20%20%20%20%20var%20geo_json_b08eead3004b4076898a578881daf880%20%3D%20L.geoJson%28null%2C%20%7B%0A%20%20%20%20%20%20%20%20%20%20%20%20%20%20%20%20onEachFeature%3A%20geo_json_b08eead3004b4076898a578881daf880_onEachFeature%2C%0A%20%20%20%20%20%20%20%20%20%20%20%20%0A%20%20%20%20%20%20%20%20%20%20%20%20%20%20%20%20style%3A%20geo_json_b08eead3004b4076898a578881daf880_styler%2C%0A%20%20%20%20%20%20%20%20%20%20%20%20%20%20%20%20pointToLayer%3A%20geo_json_b08eead3004b4076898a578881daf880_pointToLayer%0A%20%20%20%20%20%20%20%20%7D%29%3B%0A%0A%20%20%20%20%20%20%20%20function%20geo_json_b08eead3004b4076898a578881daf880_add%20%28data%29%20%7B%0A%20%20%20%20%20%20%20%20%20%20%20%20geo_json_b08eead3004b4076898a578881daf880%0A%20%20%20%20%20%20%20%20%20%20%20%20%20%20%20%20.addData%28data%29%0A%20%20%20%20%20%20%20%20%20%20%20%20%20%20%20%20.addTo%28map_98a17def72564b28a811bafb500e9936%29%3B%0A%20%20%20%20%20%20%20%20%7D%0A%20%20%20%20%20%20%20%20%20%20%20%20geo_json_b08eead3004b4076898a578881daf880_add%28%7B%22bbox%22%3A%20%5B-124.191468542%2C%2040.76960752200006%2C%20-124.14696532999994%2C%2040.80392031900004%5D%2C%20%22features%22%3A%20%5B%7B%22bbox%22%3A%20%5B-124.191468542%2C%2040.76960752200006%2C%20-124.14696532999994%2C%2040.80392031900004%5D%2C%20%22geometry%22%3A%20%7B%22coordinates%22%3A%20%5B%5B-124.14696532999994%2C%2040.80385535000005%2C%200.0%5D%2C%20%5B-124.15378886899998%2C%2040.80392031900004%2C%200.0%5D%2C%20%5B-124.15503341399994%2C%2040.80336807600003%2C%200.0%5D%2C%20%5B-124.17494613399998%2C%2040.80063927500004%2C%200.0%5D%2C%20%5B-124.17516071099999%2C%2040.79726060400003%2C%200.0%5D%2C%20%5B-124.17859393799995%2C%2040.79108758900003%2C%200.0%5D%2C%20%5B-124.18258506499996%2C%2040.78419912600003%2C%200.0%5D%2C%20%5B-124.18627578499996%2C%2040.779519762000064%2C%200.0%5D%2C%20%5B-124.18945151999998%2C%2040.77779741400008%2C%200.0%5D%2C%20%5B-124.19013816599994%2C%2040.776627491000056%2C%200.0%5D%2C%20%5B-124.19030982699996%2C%2040.77558754200004%2C%200.0%5D%2C%20%5B-124.191468542%2C%2040.76960752200006%2C%200.0%5D%5D%2C%20%22type%22%3A%20%22LineString%22%7D%2C%20%22id%22%3A%20%229%22%2C%20%22properties%22%3A%20%7B%22Bus_Brdng_Islnds%22%3A%20null%2C%20%22CT_District%22%3A%20%2201%22%2C%20%22Centerline_Miles%22%3A%20null%2C%20%22County%22%3A%20%22HUM%22%2C%20%22CreationDate%22%3A%201692314474000%2C%20%22EditDate%22%3A%201693421431000%2C%20%22Geom_Priority_Intervention_Type%22%3A%20null%2C%20%22Imprv_Site_Amnts%22%3A%20null%2C%20%22Lyr%22%3A%20%22%5C%22Lns1%5C%22%22%2C%20%22OBJECTID%22%3A%2010%2C%20%22One_Side_Rdwy_Only%22%3A%20null%2C%20%22Priority_Intervention_Type_All%22%3A%20%22Queue_Jump_lanes/signals%22%2C%20%22Queue_Jumps%22%3A%2029.0%2C%20%22Route%22%3A%20101%2C%20%22Scrs%22%3A%20%22Humboldt%20Transit%20Authority%20%28HTA%29%22%2C%20%22Scrs_Link%22%3A%20%22https%3A//hta.org/%22%2C%20%22Shape_Length%22%3A%200.06476860149110408%2C%20%22Submitter_Email%22%3A%20%22suresh.ratnam%40dot.ca.gov%22%2C%20%22Submitter_Name%22%3A%20%22Suresh%20Ratnam%22%2C%20%22Transit_Op_Support%22%3A%20%22yes%22%2C%20%22geo_comments%22%3A%20null%7D%2C%20%22type%22%3A%20%22Feature%22%7D%5D%2C%20%22type%22%3A%20%22FeatureCollection%22%7D%29%3B%0A%0A%20%20%20%20%20%20%20%20%0A%20%20%20%20%0A%20%20%20%20geo_json_b08eead3004b4076898a578881daf880.bindTooltip%28%0A%20%20%20%20function%28layer%29%7B%0A%20%20%20%20let%20div%20%3D%20L.DomUtil.create%28%27div%27%29%3B%0A%20%20%20%20%0A%20%20%20%20let%20handleObject%20%3D%20feature%3D%3Etypeof%28feature%29%3D%3D%27object%27%20%3F%20JSON.stringify%28feature%29%20%3A%20feature%3B%0A%20%20%20%20let%20fields%20%3D%20%5B%22OBJECTID%22%2C%20%22Submitter_Name%22%2C%20%22Submitter_Email%22%2C%20%22Priority_Intervention_Type_All%22%2C%20%22Scrs%22%2C%20%22Scrs_Link%22%2C%20%22Centerline_Miles%22%2C%20%22One_Side_Rdwy_Only%22%2C%20%22Queue_Jumps%22%2C%20%22Bus_Brdng_Islnds%22%2C%20%22Imprv_Site_Amnts%22%2C%20%22Transit_Op_Support%22%2C%20%22CT_District%22%2C%20%22County%22%2C%20%22Route%22%2C%20%22Geom_Priority_Intervention_Type%22%2C%20%22geo_comments%22%2C%20%22CreationDate%22%2C%20%22Lyr%22%2C%20%22EditDate%22%2C%20%22Shape_Length%22%5D%3B%0A%20%20%20%20let%20aliases%20%3D%20%5B%22OBJECTID%22%2C%20%22Submitter_Name%22%2C%20%22Submitter_Email%22%2C%20%22Priority_Intervention_Type_All%22%2C%20%22Scrs%22%2C%20%22Scrs_Link%22%2C%20%22Centerline_Miles%22%2C%20%22One_Side_Rdwy_Only%22%2C%20%22Queue_Jumps%22%2C%20%22Bus_Brdng_Islnds%22%2C%20%22Imprv_Site_Amnts%22%2C%20%22Transit_Op_Support%22%2C%20%22CT_District%22%2C%20%22County%22%2C%20%22Route%22%2C%20%22Geom_Priority_Intervention_Type%22%2C%20%22geo_comments%22%2C%20%22CreationDate%22%2C%20%22Lyr%22%2C%20%22EditDate%22%2C%20%22Shape_Length%22%5D%3B%0A%20%20%20%20let%20table%20%3D%20%27%3Ctable%3E%27%20%2B%0A%20%20%20%20%20%20%20%20String%28%0A%20%20%20%20%20%20%20%20fields.map%28%0A%20%20%20%20%20%20%20%20%28v%2Ci%29%3D%3E%0A%20%20%20%20%20%20%20%20%60%3Ctr%3E%0A%20%20%20%20%20%20%20%20%20%20%20%20%3Cth%3E%24%7Baliases%5Bi%5D%7D%3C/th%3E%0A%20%20%20%20%20%20%20%20%20%20%20%20%0A%20%20%20%20%20%20%20%20%20%20%20%20%3Ctd%3E%24%7BhandleObject%28layer.feature.properties%5Bv%5D%29%7D%3C/td%3E%0A%20%20%20%20%20%20%20%20%3C/tr%3E%60%29.join%28%27%27%29%29%0A%20%20%20%20%2B%27%3C/table%3E%27%3B%0A%20%20%20%20div.innerHTML%3Dtable%3B%0A%20%20%20%20%0A%20%20%20%20return%20div%0A%20%20%20%20%7D%0A%20%20%20%20%2C%7B%22className%22%3A%20%22foliumtooltip%22%2C%20%22sticky%22%3A%20true%7D%29%3B%0A%20%20%20%20%20%20%20%20%20%20%20%20%20%20%20%20%20%20%20%20%20%0A%3C/script%3E onload=\"this.contentDocument.open();this.contentDocument.write(    decodeURIComponent(this.getAttribute('data-html')));this.contentDocument.close();\" allowfullscreen webkitallowfullscreen mozallowfullscreen></iframe></div></div>"
      ],
      "text/plain": [
       "<folium.folium.Map at 0x7f0ee2357a30>"
      ]
     },
     "execution_count": 36,
     "metadata": {},
     "output_type": "execute_result"
    }
   ],
   "source": [
    "line_priority.iloc[[9]].explore()"
   ]
  },
  {
   "cell_type": "markdown",
   "id": "6994f80f-b565-4935-8d5c-ef96651d9dfd",
   "metadata": {
    "jp-MarkdownHeadingCollapsed": true,
    "tags": []
   },
   "source": [
    "## 10 HTA (bus lane, group w/ 3, 9)"
   ]
  },
  {
   "cell_type": "code",
   "execution_count": 37,
   "id": "8bfe46a2-2b27-4cf7-87e9-8da5a9c9228e",
   "metadata": {},
   "outputs": [
    {
     "data": {
      "text/html": [
       "<div>\n",
       "<style scoped>\n",
       "    .dataframe tbody tr th:only-of-type {\n",
       "        vertical-align: middle;\n",
       "    }\n",
       "\n",
       "    .dataframe tbody tr th {\n",
       "        vertical-align: top;\n",
       "    }\n",
       "\n",
       "    .dataframe thead th {\n",
       "        text-align: right;\n",
       "    }\n",
       "</style>\n",
       "<table border=\"1\" class=\"dataframe\">\n",
       "  <thead>\n",
       "    <tr style=\"text-align: right;\">\n",
       "      <th></th>\n",
       "      <th>OBJECTID</th>\n",
       "      <th>Submitter_Name</th>\n",
       "      <th>Submitter_Email</th>\n",
       "      <th>Priority_Intervention_Type_All</th>\n",
       "      <th>Scrs</th>\n",
       "      <th>Scrs_Link</th>\n",
       "      <th>Centerline_Miles</th>\n",
       "      <th>One_Side_Rdwy_Only</th>\n",
       "      <th>Queue_Jumps</th>\n",
       "      <th>Bus_Brdng_Islnds</th>\n",
       "      <th>...</th>\n",
       "      <th>CT_District</th>\n",
       "      <th>County</th>\n",
       "      <th>Route</th>\n",
       "      <th>Geom_Priority_Intervention_Type</th>\n",
       "      <th>geo_comments</th>\n",
       "      <th>CreationDate</th>\n",
       "      <th>Lyr</th>\n",
       "      <th>EditDate</th>\n",
       "      <th>Shape_Length</th>\n",
       "      <th>geometry</th>\n",
       "    </tr>\n",
       "  </thead>\n",
       "  <tbody>\n",
       "    <tr>\n",
       "      <th>10</th>\n",
       "      <td>11</td>\n",
       "      <td>Suresh Ratnam</td>\n",
       "      <td>suresh.ratnam@dot.ca.gov</td>\n",
       "      <td>Bus_Only_Lane_(full-time),Improved_transit_sto...</td>\n",
       "      <td>Eureka Broadway Multimodal Corridor Plan</td>\n",
       "      <td>https://www.hcaog.net/documents/eureka-broadwa...</td>\n",
       "      <td>0.4</td>\n",
       "      <td>no</td>\n",
       "      <td>NaN</td>\n",
       "      <td>NaN</td>\n",
       "      <td>...</td>\n",
       "      <td>01</td>\n",
       "      <td>HUM</td>\n",
       "      <td>101</td>\n",
       "      <td>Bus_Only_Lane_(full-time)</td>\n",
       "      <td>NaN</td>\n",
       "      <td>1692393688000</td>\n",
       "      <td>\"Lns1\"</td>\n",
       "      <td>1693421431000</td>\n",
       "      <td>0.006674</td>\n",
       "      <td>LINESTRING Z (-124.17837 40.79152 0.00000, -12...</td>\n",
       "    </tr>\n",
       "  </tbody>\n",
       "</table>\n",
       "<p>1 rows × 22 columns</p>\n",
       "</div>"
      ],
      "text/plain": [
       "    OBJECTID Submitter_Name           Submitter_Email  \\\n",
       "10        11  Suresh Ratnam  suresh.ratnam@dot.ca.gov   \n",
       "\n",
       "                       Priority_Intervention_Type_All  \\\n",
       "10  Bus_Only_Lane_(full-time),Improved_transit_sto...   \n",
       "\n",
       "                                        Scrs  \\\n",
       "10  Eureka Broadway Multimodal Corridor Plan   \n",
       "\n",
       "                                            Scrs_Link  Centerline_Miles  \\\n",
       "10  https://www.hcaog.net/documents/eureka-broadwa...               0.4   \n",
       "\n",
       "   One_Side_Rdwy_Only  Queue_Jumps  Bus_Brdng_Islnds  ...  CT_District County  \\\n",
       "10                 no          NaN               NaN  ...           01    HUM   \n",
       "\n",
       "   Route Geom_Priority_Intervention_Type  geo_comments   CreationDate     Lyr  \\\n",
       "10   101       Bus_Only_Lane_(full-time)           NaN  1692393688000  \"Lns1\"   \n",
       "\n",
       "         EditDate Shape_Length  \\\n",
       "10  1693421431000     0.006674   \n",
       "\n",
       "                                             geometry  \n",
       "10  LINESTRING Z (-124.17837 40.79152 0.00000, -12...  \n",
       "\n",
       "[1 rows x 22 columns]"
      ]
     },
     "execution_count": 37,
     "metadata": {},
     "output_type": "execute_result"
    }
   ],
   "source": [
    "line_priority.iloc[[10]]"
   ]
  },
  {
   "cell_type": "code",
   "execution_count": 38,
   "id": "e048c730-2cc9-4d03-90c3-f09ead1c6625",
   "metadata": {},
   "outputs": [
    {
     "data": {
      "text/plain": [
       "nan"
      ]
     },
     "execution_count": 38,
     "metadata": {},
     "output_type": "execute_result"
    }
   ],
   "source": [
    "line_priority.iloc[[10]].geo_comments.iloc[0]"
   ]
  },
  {
   "cell_type": "code",
   "execution_count": 39,
   "id": "f84d96ab-f7df-43fb-a695-52fa657faa53",
   "metadata": {},
   "outputs": [
    {
     "data": {
      "text/html": [
       "<div style=\"width:100%;\"><div style=\"position:relative;width:100%;height:0;padding-bottom:60%;\"><span style=\"color:#565656\">Make this Notebook Trusted to load map: File -> Trust Notebook</span><iframe src=\"about:blank\" style=\"position:absolute;width:100%;height:100%;left:0;top:0;border:none !important;\" data-html=%3C%21DOCTYPE%20html%3E%0A%3Chead%3E%20%20%20%20%0A%20%20%20%20%3Cmeta%20http-equiv%3D%22content-type%22%20content%3D%22text/html%3B%20charset%3DUTF-8%22%20/%3E%0A%20%20%20%20%0A%20%20%20%20%20%20%20%20%3Cscript%3E%0A%20%20%20%20%20%20%20%20%20%20%20%20L_NO_TOUCH%20%3D%20false%3B%0A%20%20%20%20%20%20%20%20%20%20%20%20L_DISABLE_3D%20%3D%20false%3B%0A%20%20%20%20%20%20%20%20%3C/script%3E%0A%20%20%20%20%0A%20%20%20%20%3Cstyle%3Ehtml%2C%20body%20%7Bwidth%3A%20100%25%3Bheight%3A%20100%25%3Bmargin%3A%200%3Bpadding%3A%200%3B%7D%3C/style%3E%0A%20%20%20%20%3Cstyle%3E%23map%20%7Bposition%3Aabsolute%3Btop%3A0%3Bbottom%3A0%3Bright%3A0%3Bleft%3A0%3B%7D%3C/style%3E%0A%20%20%20%20%3Cscript%20src%3D%22https%3A//cdn.jsdelivr.net/npm/leaflet%401.6.0/dist/leaflet.js%22%3E%3C/script%3E%0A%20%20%20%20%3Cscript%20src%3D%22https%3A//code.jquery.com/jquery-1.12.4.min.js%22%3E%3C/script%3E%0A%20%20%20%20%3Cscript%20src%3D%22https%3A//maxcdn.bootstrapcdn.com/bootstrap/3.2.0/js/bootstrap.min.js%22%3E%3C/script%3E%0A%20%20%20%20%3Cscript%20src%3D%22https%3A//cdnjs.cloudflare.com/ajax/libs/Leaflet.awesome-markers/2.0.2/leaflet.awesome-markers.js%22%3E%3C/script%3E%0A%20%20%20%20%3Clink%20rel%3D%22stylesheet%22%20href%3D%22https%3A//cdn.jsdelivr.net/npm/leaflet%401.6.0/dist/leaflet.css%22/%3E%0A%20%20%20%20%3Clink%20rel%3D%22stylesheet%22%20href%3D%22https%3A//maxcdn.bootstrapcdn.com/bootstrap/3.2.0/css/bootstrap.min.css%22/%3E%0A%20%20%20%20%3Clink%20rel%3D%22stylesheet%22%20href%3D%22https%3A//maxcdn.bootstrapcdn.com/bootstrap/3.2.0/css/bootstrap-theme.min.css%22/%3E%0A%20%20%20%20%3Clink%20rel%3D%22stylesheet%22%20href%3D%22https%3A//maxcdn.bootstrapcdn.com/font-awesome/4.6.3/css/font-awesome.min.css%22/%3E%0A%20%20%20%20%3Clink%20rel%3D%22stylesheet%22%20href%3D%22https%3A//cdnjs.cloudflare.com/ajax/libs/Leaflet.awesome-markers/2.0.2/leaflet.awesome-markers.css%22/%3E%0A%20%20%20%20%3Clink%20rel%3D%22stylesheet%22%20href%3D%22https%3A//cdn.jsdelivr.net/gh/python-visualization/folium/folium/templates/leaflet.awesome.rotate.min.css%22/%3E%0A%20%20%20%20%0A%20%20%20%20%20%20%20%20%20%20%20%20%3Cmeta%20name%3D%22viewport%22%20content%3D%22width%3Ddevice-width%2C%0A%20%20%20%20%20%20%20%20%20%20%20%20%20%20%20%20initial-scale%3D1.0%2C%20maximum-scale%3D1.0%2C%20user-scalable%3Dno%22%20/%3E%0A%20%20%20%20%20%20%20%20%20%20%20%20%3Cstyle%3E%0A%20%20%20%20%20%20%20%20%20%20%20%20%20%20%20%20%23map_26404bf85d9349e182bf278f9f447e2c%20%7B%0A%20%20%20%20%20%20%20%20%20%20%20%20%20%20%20%20%20%20%20%20position%3A%20relative%3B%0A%20%20%20%20%20%20%20%20%20%20%20%20%20%20%20%20%20%20%20%20width%3A%20100.0%25%3B%0A%20%20%20%20%20%20%20%20%20%20%20%20%20%20%20%20%20%20%20%20height%3A%20100.0%25%3B%0A%20%20%20%20%20%20%20%20%20%20%20%20%20%20%20%20%20%20%20%20left%3A%200.0%25%3B%0A%20%20%20%20%20%20%20%20%20%20%20%20%20%20%20%20%20%20%20%20top%3A%200.0%25%3B%0A%20%20%20%20%20%20%20%20%20%20%20%20%20%20%20%20%7D%0A%20%20%20%20%20%20%20%20%20%20%20%20%3C/style%3E%0A%20%20%20%20%20%20%20%20%0A%20%20%20%20%0A%20%20%20%20%20%20%20%20%20%20%20%20%20%20%20%20%20%20%20%20%3Cstyle%3E%0A%20%20%20%20%20%20%20%20%20%20%20%20%20%20%20%20%20%20%20%20%20%20%20%20.foliumtooltip%20%7B%0A%20%20%20%20%20%20%20%20%20%20%20%20%20%20%20%20%20%20%20%20%20%20%20%20%20%20%20%20%0A%20%20%20%20%20%20%20%20%20%20%20%20%20%20%20%20%20%20%20%20%20%20%20%20%7D%0A%20%20%20%20%20%20%20%20%20%20%20%20%20%20%20%20%20%20%20%20%20%20%20.foliumtooltip%20table%7B%0A%20%20%20%20%20%20%20%20%20%20%20%20%20%20%20%20%20%20%20%20%20%20%20%20%20%20%20%20margin%3A%20auto%3B%0A%20%20%20%20%20%20%20%20%20%20%20%20%20%20%20%20%20%20%20%20%20%20%20%20%7D%0A%20%20%20%20%20%20%20%20%20%20%20%20%20%20%20%20%20%20%20%20%20%20%20%20.foliumtooltip%20tr%7B%0A%20%20%20%20%20%20%20%20%20%20%20%20%20%20%20%20%20%20%20%20%20%20%20%20%20%20%20%20text-align%3A%20left%3B%0A%20%20%20%20%20%20%20%20%20%20%20%20%20%20%20%20%20%20%20%20%20%20%20%20%7D%0A%20%20%20%20%20%20%20%20%20%20%20%20%20%20%20%20%20%20%20%20%20%20%20%20.foliumtooltip%20th%7B%0A%20%20%20%20%20%20%20%20%20%20%20%20%20%20%20%20%20%20%20%20%20%20%20%20%20%20%20%20padding%3A%202px%3B%20padding-right%3A%208px%3B%0A%20%20%20%20%20%20%20%20%20%20%20%20%20%20%20%20%20%20%20%20%20%20%20%20%7D%0A%20%20%20%20%20%20%20%20%20%20%20%20%20%20%20%20%20%20%20%20%3C/style%3E%0A%20%20%20%20%20%20%20%20%20%20%20%20%0A%3C/head%3E%0A%3Cbody%3E%20%20%20%20%0A%20%20%20%20%0A%20%20%20%20%20%20%20%20%20%20%20%20%3Cdiv%20class%3D%22folium-map%22%20id%3D%22map_26404bf85d9349e182bf278f9f447e2c%22%20%3E%3C/div%3E%0A%20%20%20%20%20%20%20%20%0A%3C/body%3E%0A%3Cscript%3E%20%20%20%20%0A%20%20%20%20%0A%20%20%20%20%20%20%20%20%20%20%20%20var%20map_26404bf85d9349e182bf278f9f447e2c%20%3D%20L.map%28%0A%20%20%20%20%20%20%20%20%20%20%20%20%20%20%20%20%22map_26404bf85d9349e182bf278f9f447e2c%22%2C%0A%20%20%20%20%20%20%20%20%20%20%20%20%20%20%20%20%7B%0A%20%20%20%20%20%20%20%20%20%20%20%20%20%20%20%20%20%20%20%20center%3A%20%5B40.79442339250005%2C%20-124.17673461549995%5D%2C%0A%20%20%20%20%20%20%20%20%20%20%20%20%20%20%20%20%20%20%20%20crs%3A%20L.CRS.EPSG3857%2C%0A%20%20%20%20%20%20%20%20%20%20%20%20%20%20%20%20%20%20%20%20zoom%3A%2010%2C%0A%20%20%20%20%20%20%20%20%20%20%20%20%20%20%20%20%20%20%20%20zoomControl%3A%20true%2C%0A%20%20%20%20%20%20%20%20%20%20%20%20%20%20%20%20%20%20%20%20preferCanvas%3A%20false%2C%0A%20%20%20%20%20%20%20%20%20%20%20%20%20%20%20%20%7D%0A%20%20%20%20%20%20%20%20%20%20%20%20%29%3B%0A%20%20%20%20%20%20%20%20%20%20%20%20L.control.scale%28%29.addTo%28map_26404bf85d9349e182bf278f9f447e2c%29%3B%0A%0A%20%20%20%20%20%20%20%20%20%20%20%20%0A%0A%20%20%20%20%20%20%20%20%0A%20%20%20%20%0A%20%20%20%20%20%20%20%20%20%20%20%20var%20tile_layer_e0c263ead437420abf53c3ae28fb19ee%20%3D%20L.tileLayer%28%0A%20%20%20%20%20%20%20%20%20%20%20%20%20%20%20%20%22https%3A//%7Bs%7D.tile.openstreetmap.org/%7Bz%7D/%7Bx%7D/%7By%7D.png%22%2C%0A%20%20%20%20%20%20%20%20%20%20%20%20%20%20%20%20%7B%22attribution%22%3A%20%22Data%20by%20%5Cu0026copy%3B%20%5Cu003ca%20href%3D%5C%22http%3A//openstreetmap.org%5C%22%5Cu003eOpenStreetMap%5Cu003c/a%5Cu003e%2C%20under%20%5Cu003ca%20href%3D%5C%22http%3A//www.openstreetmap.org/copyright%5C%22%5Cu003eODbL%5Cu003c/a%5Cu003e.%22%2C%20%22detectRetina%22%3A%20false%2C%20%22maxNativeZoom%22%3A%2018%2C%20%22maxZoom%22%3A%2018%2C%20%22minZoom%22%3A%200%2C%20%22noWrap%22%3A%20false%2C%20%22opacity%22%3A%201%2C%20%22subdomains%22%3A%20%22abc%22%2C%20%22tms%22%3A%20false%7D%0A%20%20%20%20%20%20%20%20%20%20%20%20%29.addTo%28map_26404bf85d9349e182bf278f9f447e2c%29%3B%0A%20%20%20%20%20%20%20%20%0A%20%20%20%20%0A%20%20%20%20%20%20%20%20%20%20%20%20map_26404bf85d9349e182bf278f9f447e2c.fitBounds%28%0A%20%20%20%20%20%20%20%20%20%20%20%20%20%20%20%20%5B%5B40.79152316700004%2C%20-124.17837388899994%5D%2C%20%5B40.797323618000064%2C%20-124.17509534199996%5D%5D%2C%0A%20%20%20%20%20%20%20%20%20%20%20%20%20%20%20%20%7B%7D%0A%20%20%20%20%20%20%20%20%20%20%20%20%29%3B%0A%20%20%20%20%20%20%20%20%0A%20%20%20%20%0A%20%20%20%20%20%20%20%20function%20geo_json_f4efc324403c47009bb24cbe58d7f275_styler%28feature%29%20%7B%0A%20%20%20%20%20%20%20%20%20%20%20%20switch%28feature.id%29%20%7B%0A%20%20%20%20%20%20%20%20%20%20%20%20%20%20%20%20default%3A%0A%20%20%20%20%20%20%20%20%20%20%20%20%20%20%20%20%20%20%20%20return%20%7B%22fillOpacity%22%3A%200.5%2C%20%22weight%22%3A%202%7D%3B%0A%20%20%20%20%20%20%20%20%20%20%20%20%7D%0A%20%20%20%20%20%20%20%20%7D%0A%20%20%20%20%20%20%20%20function%20geo_json_f4efc324403c47009bb24cbe58d7f275_highlighter%28feature%29%20%7B%0A%20%20%20%20%20%20%20%20%20%20%20%20switch%28feature.id%29%20%7B%0A%20%20%20%20%20%20%20%20%20%20%20%20%20%20%20%20default%3A%0A%20%20%20%20%20%20%20%20%20%20%20%20%20%20%20%20%20%20%20%20return%20%7B%22fillOpacity%22%3A%200.75%7D%3B%0A%20%20%20%20%20%20%20%20%20%20%20%20%7D%0A%20%20%20%20%20%20%20%20%7D%0A%20%20%20%20%20%20%20%20function%20geo_json_f4efc324403c47009bb24cbe58d7f275_pointToLayer%28feature%2C%20latlng%29%20%7B%0A%20%20%20%20%20%20%20%20%20%20%20%20var%20opts%20%3D%20%7B%22bubblingMouseEvents%22%3A%20true%2C%20%22color%22%3A%20%22%233388ff%22%2C%20%22dashArray%22%3A%20null%2C%20%22dashOffset%22%3A%20null%2C%20%22fill%22%3A%20true%2C%20%22fillColor%22%3A%20%22%233388ff%22%2C%20%22fillOpacity%22%3A%200.2%2C%20%22fillRule%22%3A%20%22evenodd%22%2C%20%22lineCap%22%3A%20%22round%22%2C%20%22lineJoin%22%3A%20%22round%22%2C%20%22opacity%22%3A%201.0%2C%20%22radius%22%3A%202%2C%20%22stroke%22%3A%20true%2C%20%22weight%22%3A%203%7D%3B%0A%20%20%20%20%20%20%20%20%20%20%20%20%0A%20%20%20%20%20%20%20%20%20%20%20%20let%20style%20%3D%20geo_json_f4efc324403c47009bb24cbe58d7f275_styler%28feature%29%0A%20%20%20%20%20%20%20%20%20%20%20%20Object.assign%28opts%2C%20style%29%0A%20%20%20%20%20%20%20%20%20%20%20%20%0A%20%20%20%20%20%20%20%20%20%20%20%20return%20new%20L.CircleMarker%28latlng%2C%20opts%29%0A%20%20%20%20%20%20%20%20%7D%0A%0A%20%20%20%20%20%20%20%20function%20geo_json_f4efc324403c47009bb24cbe58d7f275_onEachFeature%28feature%2C%20layer%29%20%7B%0A%20%20%20%20%20%20%20%20%20%20%20%20layer.on%28%7B%0A%20%20%20%20%20%20%20%20%20%20%20%20%20%20%20%20mouseout%3A%20function%28e%29%20%7B%0A%20%20%20%20%20%20%20%20%20%20%20%20%20%20%20%20%20%20%20%20if%28typeof%20e.target.setStyle%20%3D%3D%3D%20%22function%22%29%7B%0A%20%20%20%20%20%20%20%20%20%20%20%20%20%20%20%20%20%20%20%20%20%20%20%20geo_json_f4efc324403c47009bb24cbe58d7f275.resetStyle%28e.target%29%3B%0A%20%20%20%20%20%20%20%20%20%20%20%20%20%20%20%20%20%20%20%20%7D%0A%20%20%20%20%20%20%20%20%20%20%20%20%20%20%20%20%7D%2C%0A%20%20%20%20%20%20%20%20%20%20%20%20%20%20%20%20mouseover%3A%20function%28e%29%20%7B%0A%20%20%20%20%20%20%20%20%20%20%20%20%20%20%20%20%20%20%20%20if%28typeof%20e.target.setStyle%20%3D%3D%3D%20%22function%22%29%7B%0A%20%20%20%20%20%20%20%20%20%20%20%20%20%20%20%20%20%20%20%20%20%20%20%20const%20highlightStyle%20%3D%20geo_json_f4efc324403c47009bb24cbe58d7f275_highlighter%28e.target.feature%29%0A%20%20%20%20%20%20%20%20%20%20%20%20%20%20%20%20%20%20%20%20%20%20%20%20e.target.setStyle%28highlightStyle%29%3B%0A%20%20%20%20%20%20%20%20%20%20%20%20%20%20%20%20%20%20%20%20%7D%0A%20%20%20%20%20%20%20%20%20%20%20%20%20%20%20%20%7D%2C%0A%20%20%20%20%20%20%20%20%20%20%20%20%7D%29%3B%0A%20%20%20%20%20%20%20%20%7D%3B%0A%20%20%20%20%20%20%20%20var%20geo_json_f4efc324403c47009bb24cbe58d7f275%20%3D%20L.geoJson%28null%2C%20%7B%0A%20%20%20%20%20%20%20%20%20%20%20%20%20%20%20%20onEachFeature%3A%20geo_json_f4efc324403c47009bb24cbe58d7f275_onEachFeature%2C%0A%20%20%20%20%20%20%20%20%20%20%20%20%0A%20%20%20%20%20%20%20%20%20%20%20%20%20%20%20%20style%3A%20geo_json_f4efc324403c47009bb24cbe58d7f275_styler%2C%0A%20%20%20%20%20%20%20%20%20%20%20%20%20%20%20%20pointToLayer%3A%20geo_json_f4efc324403c47009bb24cbe58d7f275_pointToLayer%0A%20%20%20%20%20%20%20%20%7D%29%3B%0A%0A%20%20%20%20%20%20%20%20function%20geo_json_f4efc324403c47009bb24cbe58d7f275_add%20%28data%29%20%7B%0A%20%20%20%20%20%20%20%20%20%20%20%20geo_json_f4efc324403c47009bb24cbe58d7f275%0A%20%20%20%20%20%20%20%20%20%20%20%20%20%20%20%20.addData%28data%29%0A%20%20%20%20%20%20%20%20%20%20%20%20%20%20%20%20.addTo%28map_26404bf85d9349e182bf278f9f447e2c%29%3B%0A%20%20%20%20%20%20%20%20%7D%0A%20%20%20%20%20%20%20%20%20%20%20%20geo_json_f4efc324403c47009bb24cbe58d7f275_add%28%7B%22bbox%22%3A%20%5B-124.17837388899994%2C%2040.79152316700004%2C%20-124.17509534199996%2C%2040.797323618000064%5D%2C%20%22features%22%3A%20%5B%7B%22bbox%22%3A%20%5B-124.17837388899994%2C%2040.79152316700004%2C%20-124.17509534199996%2C%2040.797323618000064%5D%2C%20%22geometry%22%3A%20%7B%22coordinates%22%3A%20%5B%5B-124.17837388899994%2C%2040.79152316700004%2C%200.0%5D%2C%20%5B-124.17515473499998%2C%2040.797071826000035%2C%200.0%5D%2C%20%5B-124.17513097799997%2C%2040.79716175100003%2C%200.0%5D%2C%20%5B-124.17509534199996%2C%2040.797323618000064%2C%200.0%5D%5D%2C%20%22type%22%3A%20%22LineString%22%7D%2C%20%22id%22%3A%20%2210%22%2C%20%22properties%22%3A%20%7B%22Bus_Brdng_Islnds%22%3A%20null%2C%20%22CT_District%22%3A%20%2201%22%2C%20%22Centerline_Miles%22%3A%200.4%2C%20%22County%22%3A%20%22HUM%22%2C%20%22CreationDate%22%3A%201692393688000%2C%20%22EditDate%22%3A%201693421431000%2C%20%22Geom_Priority_Intervention_Type%22%3A%20%22Bus_Only_Lane_%28full-time%29%22%2C%20%22Imprv_Site_Amnts%22%3A%205.0%2C%20%22Lyr%22%3A%20%22%5C%22Lns1%5C%22%22%2C%20%22OBJECTID%22%3A%2011%2C%20%22One_Side_Rdwy_Only%22%3A%20%22no%22%2C%20%22Priority_Intervention_Type_All%22%3A%20%22Bus_Only_Lane_%28full-time%29%2CImproved_transit_stop_amenities_including_lighting_and_seating%22%2C%20%22Queue_Jumps%22%3A%20null%2C%20%22Route%22%3A%20101%2C%20%22Scrs%22%3A%20%22Eureka%20Broadway%20Multimodal%20Corridor%20Plan%22%2C%20%22Scrs_Link%22%3A%20%22https%3A//www.hcaog.net/documents/eureka-broadway-multimodal-corridor-plan-2021%22%2C%20%22Shape_Length%22%3A%200.006673624484121348%2C%20%22Submitter_Email%22%3A%20%22suresh.ratnam%40dot.ca.gov%22%2C%20%22Submitter_Name%22%3A%20%22Suresh%20Ratnam%22%2C%20%22Transit_Op_Support%22%3A%20%22yes%22%2C%20%22geo_comments%22%3A%20null%7D%2C%20%22type%22%3A%20%22Feature%22%7D%5D%2C%20%22type%22%3A%20%22FeatureCollection%22%7D%29%3B%0A%0A%20%20%20%20%20%20%20%20%0A%20%20%20%20%0A%20%20%20%20geo_json_f4efc324403c47009bb24cbe58d7f275.bindTooltip%28%0A%20%20%20%20function%28layer%29%7B%0A%20%20%20%20let%20div%20%3D%20L.DomUtil.create%28%27div%27%29%3B%0A%20%20%20%20%0A%20%20%20%20let%20handleObject%20%3D%20feature%3D%3Etypeof%28feature%29%3D%3D%27object%27%20%3F%20JSON.stringify%28feature%29%20%3A%20feature%3B%0A%20%20%20%20let%20fields%20%3D%20%5B%22OBJECTID%22%2C%20%22Submitter_Name%22%2C%20%22Submitter_Email%22%2C%20%22Priority_Intervention_Type_All%22%2C%20%22Scrs%22%2C%20%22Scrs_Link%22%2C%20%22Centerline_Miles%22%2C%20%22One_Side_Rdwy_Only%22%2C%20%22Queue_Jumps%22%2C%20%22Bus_Brdng_Islnds%22%2C%20%22Imprv_Site_Amnts%22%2C%20%22Transit_Op_Support%22%2C%20%22CT_District%22%2C%20%22County%22%2C%20%22Route%22%2C%20%22Geom_Priority_Intervention_Type%22%2C%20%22geo_comments%22%2C%20%22CreationDate%22%2C%20%22Lyr%22%2C%20%22EditDate%22%2C%20%22Shape_Length%22%5D%3B%0A%20%20%20%20let%20aliases%20%3D%20%5B%22OBJECTID%22%2C%20%22Submitter_Name%22%2C%20%22Submitter_Email%22%2C%20%22Priority_Intervention_Type_All%22%2C%20%22Scrs%22%2C%20%22Scrs_Link%22%2C%20%22Centerline_Miles%22%2C%20%22One_Side_Rdwy_Only%22%2C%20%22Queue_Jumps%22%2C%20%22Bus_Brdng_Islnds%22%2C%20%22Imprv_Site_Amnts%22%2C%20%22Transit_Op_Support%22%2C%20%22CT_District%22%2C%20%22County%22%2C%20%22Route%22%2C%20%22Geom_Priority_Intervention_Type%22%2C%20%22geo_comments%22%2C%20%22CreationDate%22%2C%20%22Lyr%22%2C%20%22EditDate%22%2C%20%22Shape_Length%22%5D%3B%0A%20%20%20%20let%20table%20%3D%20%27%3Ctable%3E%27%20%2B%0A%20%20%20%20%20%20%20%20String%28%0A%20%20%20%20%20%20%20%20fields.map%28%0A%20%20%20%20%20%20%20%20%28v%2Ci%29%3D%3E%0A%20%20%20%20%20%20%20%20%60%3Ctr%3E%0A%20%20%20%20%20%20%20%20%20%20%20%20%3Cth%3E%24%7Baliases%5Bi%5D%7D%3C/th%3E%0A%20%20%20%20%20%20%20%20%20%20%20%20%0A%20%20%20%20%20%20%20%20%20%20%20%20%3Ctd%3E%24%7BhandleObject%28layer.feature.properties%5Bv%5D%29%7D%3C/td%3E%0A%20%20%20%20%20%20%20%20%3C/tr%3E%60%29.join%28%27%27%29%29%0A%20%20%20%20%2B%27%3C/table%3E%27%3B%0A%20%20%20%20div.innerHTML%3Dtable%3B%0A%20%20%20%20%0A%20%20%20%20return%20div%0A%20%20%20%20%7D%0A%20%20%20%20%2C%7B%22className%22%3A%20%22foliumtooltip%22%2C%20%22sticky%22%3A%20true%7D%29%3B%0A%20%20%20%20%20%20%20%20%20%20%20%20%20%20%20%20%20%20%20%20%20%0A%3C/script%3E onload=\"this.contentDocument.open();this.contentDocument.write(    decodeURIComponent(this.getAttribute('data-html')));this.contentDocument.close();\" allowfullscreen webkitallowfullscreen mozallowfullscreen></iframe></div></div>"
      ],
      "text/plain": [
       "<folium.folium.Map at 0x7f0ee165dc40>"
      ]
     },
     "execution_count": 39,
     "metadata": {},
     "output_type": "execute_result"
    }
   ],
   "source": [
    "line_priority.iloc[[10]].explore()"
   ]
  },
  {
   "cell_type": "markdown",
   "id": "6b190822-532b-427e-ade8-bbd9bf9e7756",
   "metadata": {
    "tags": []
   },
   "source": [
    "## 4 LA Metro (Bus Lane, peak only)"
   ]
  },
  {
   "cell_type": "code",
   "execution_count": 40,
   "id": "4ea4fb84-0b4a-49ce-8cd2-e95ed6d2f4c0",
   "metadata": {},
   "outputs": [
    {
     "data": {
      "text/html": [
       "<div>\n",
       "<style scoped>\n",
       "    .dataframe tbody tr th:only-of-type {\n",
       "        vertical-align: middle;\n",
       "    }\n",
       "\n",
       "    .dataframe tbody tr th {\n",
       "        vertical-align: top;\n",
       "    }\n",
       "\n",
       "    .dataframe thead th {\n",
       "        text-align: right;\n",
       "    }\n",
       "</style>\n",
       "<table border=\"1\" class=\"dataframe\">\n",
       "  <thead>\n",
       "    <tr style=\"text-align: right;\">\n",
       "      <th></th>\n",
       "      <th>OBJECTID</th>\n",
       "      <th>Submitter_Name</th>\n",
       "      <th>Submitter_Email</th>\n",
       "      <th>Priority_Intervention_Type_All</th>\n",
       "      <th>Scrs</th>\n",
       "      <th>Scrs_Link</th>\n",
       "      <th>Centerline_Miles</th>\n",
       "      <th>One_Side_Rdwy_Only</th>\n",
       "      <th>Queue_Jumps</th>\n",
       "      <th>Bus_Brdng_Islnds</th>\n",
       "      <th>...</th>\n",
       "      <th>CT_District</th>\n",
       "      <th>County</th>\n",
       "      <th>Route</th>\n",
       "      <th>Geom_Priority_Intervention_Type</th>\n",
       "      <th>geo_comments</th>\n",
       "      <th>CreationDate</th>\n",
       "      <th>Lyr</th>\n",
       "      <th>EditDate</th>\n",
       "      <th>Shape_Length</th>\n",
       "      <th>geometry</th>\n",
       "    </tr>\n",
       "  </thead>\n",
       "  <tbody>\n",
       "    <tr>\n",
       "      <th>4</th>\n",
       "      <td>5</td>\n",
       "      <td>Carlo Ramirez</td>\n",
       "      <td>carlo.ramirez@dot.ca.gov</td>\n",
       "      <td>Bus_Only_Lane_(limited_hours)</td>\n",
       "      <td>SHOPP</td>\n",
       "      <td>http://10.56.12.86/pirs/newlayout/index.cfm?se...</td>\n",
       "      <td>1.4</td>\n",
       "      <td>no</td>\n",
       "      <td>NaN</td>\n",
       "      <td>NaN</td>\n",
       "      <td>...</td>\n",
       "      <td>07</td>\n",
       "      <td>LA</td>\n",
       "      <td>2</td>\n",
       "      <td>Bus_Only_Lane_(limited_hours)</td>\n",
       "      <td>Project is part of SHOPP looking to add two la...</td>\n",
       "      <td>1692996744000</td>\n",
       "      <td>\"Lns2\"</td>\n",
       "      <td>1693421427000</td>\n",
       "      <td>0.022212</td>\n",
       "      <td>LINESTRING Z (-118.46780 34.03848 0.00000, -11...</td>\n",
       "    </tr>\n",
       "  </tbody>\n",
       "</table>\n",
       "<p>1 rows × 22 columns</p>\n",
       "</div>"
      ],
      "text/plain": [
       "   OBJECTID  Submitter_Name           Submitter_Email  \\\n",
       "4         5  Carlo Ramirez   carlo.ramirez@dot.ca.gov   \n",
       "\n",
       "  Priority_Intervention_Type_All   Scrs  \\\n",
       "4  Bus_Only_Lane_(limited_hours)  SHOPP   \n",
       "\n",
       "                                           Scrs_Link  Centerline_Miles  \\\n",
       "4  http://10.56.12.86/pirs/newlayout/index.cfm?se...               1.4   \n",
       "\n",
       "  One_Side_Rdwy_Only  Queue_Jumps  Bus_Brdng_Islnds  ...  CT_District County  \\\n",
       "4                 no          NaN               NaN  ...           07     LA   \n",
       "\n",
       "  Route Geom_Priority_Intervention_Type  \\\n",
       "4     2   Bus_Only_Lane_(limited_hours)   \n",
       "\n",
       "                                        geo_comments   CreationDate     Lyr  \\\n",
       "4  Project is part of SHOPP looking to add two la...  1692996744000  \"Lns2\"   \n",
       "\n",
       "        EditDate Shape_Length  \\\n",
       "4  1693421427000     0.022212   \n",
       "\n",
       "                                            geometry  \n",
       "4  LINESTRING Z (-118.46780 34.03848 0.00000, -11...  \n",
       "\n",
       "[1 rows x 22 columns]"
      ]
     },
     "execution_count": 40,
     "metadata": {},
     "output_type": "execute_result"
    }
   ],
   "source": [
    "line_priority.iloc[[4]]"
   ]
  },
  {
   "cell_type": "code",
   "execution_count": 41,
   "id": "f5feac24-bd55-499e-85bb-cdf1b4f18e55",
   "metadata": {},
   "outputs": [
    {
     "data": {
      "text/plain": [
       "'Project is part of SHOPP looking to add two lanes in both directions. One lane westbound and one lane eastbound, both operating in peak hours, 7 am-9 am and 4 pm to 7 pm. Area is very congested, due to high usage of work and residential commuters. Caltrans has worked with Santa Monica Big Blue Bus to alleviate congestion by operating transit in these peak hours. These bus lanes are a part of a segmented project. This is segment A. Segment C has been managed and fulfill by LA Metro, to include bus lanes. Segment B does not have bus only lane improvements. Potential funding could not only fulfill Segment A scope of work, but also, help amend the scope and add bus only lanes to Segment B.  Segment A includes other pedestrian enhancements, such as, PHB, aka, HAWK system(s). The project is RTL and has petitioned the CTC for more funding. This is a SHOPP Project, under the EA 33360. '"
      ]
     },
     "execution_count": 41,
     "metadata": {},
     "output_type": "execute_result"
    }
   ],
   "source": [
    "line_priority.iloc[[4]].geo_comments.iloc[0]"
   ]
  },
  {
   "cell_type": "code",
   "execution_count": 42,
   "id": "f65cbfe4-252d-4dbc-bceb-f183c2b42431",
   "metadata": {},
   "outputs": [
    {
     "data": {
      "text/html": [
       "<div style=\"width:100%;\"><div style=\"position:relative;width:100%;height:0;padding-bottom:60%;\"><span style=\"color:#565656\">Make this Notebook Trusted to load map: File -> Trust Notebook</span><iframe src=\"about:blank\" style=\"position:absolute;width:100%;height:100%;left:0;top:0;border:none !important;\" data-html=%3C%21DOCTYPE%20html%3E%0A%3Chead%3E%20%20%20%20%0A%20%20%20%20%3Cmeta%20http-equiv%3D%22content-type%22%20content%3D%22text/html%3B%20charset%3DUTF-8%22%20/%3E%0A%20%20%20%20%0A%20%20%20%20%20%20%20%20%3Cscript%3E%0A%20%20%20%20%20%20%20%20%20%20%20%20L_NO_TOUCH%20%3D%20false%3B%0A%20%20%20%20%20%20%20%20%20%20%20%20L_DISABLE_3D%20%3D%20false%3B%0A%20%20%20%20%20%20%20%20%3C/script%3E%0A%20%20%20%20%0A%20%20%20%20%3Cstyle%3Ehtml%2C%20body%20%7Bwidth%3A%20100%25%3Bheight%3A%20100%25%3Bmargin%3A%200%3Bpadding%3A%200%3B%7D%3C/style%3E%0A%20%20%20%20%3Cstyle%3E%23map%20%7Bposition%3Aabsolute%3Btop%3A0%3Bbottom%3A0%3Bright%3A0%3Bleft%3A0%3B%7D%3C/style%3E%0A%20%20%20%20%3Cscript%20src%3D%22https%3A//cdn.jsdelivr.net/npm/leaflet%401.6.0/dist/leaflet.js%22%3E%3C/script%3E%0A%20%20%20%20%3Cscript%20src%3D%22https%3A//code.jquery.com/jquery-1.12.4.min.js%22%3E%3C/script%3E%0A%20%20%20%20%3Cscript%20src%3D%22https%3A//maxcdn.bootstrapcdn.com/bootstrap/3.2.0/js/bootstrap.min.js%22%3E%3C/script%3E%0A%20%20%20%20%3Cscript%20src%3D%22https%3A//cdnjs.cloudflare.com/ajax/libs/Leaflet.awesome-markers/2.0.2/leaflet.awesome-markers.js%22%3E%3C/script%3E%0A%20%20%20%20%3Clink%20rel%3D%22stylesheet%22%20href%3D%22https%3A//cdn.jsdelivr.net/npm/leaflet%401.6.0/dist/leaflet.css%22/%3E%0A%20%20%20%20%3Clink%20rel%3D%22stylesheet%22%20href%3D%22https%3A//maxcdn.bootstrapcdn.com/bootstrap/3.2.0/css/bootstrap.min.css%22/%3E%0A%20%20%20%20%3Clink%20rel%3D%22stylesheet%22%20href%3D%22https%3A//maxcdn.bootstrapcdn.com/bootstrap/3.2.0/css/bootstrap-theme.min.css%22/%3E%0A%20%20%20%20%3Clink%20rel%3D%22stylesheet%22%20href%3D%22https%3A//maxcdn.bootstrapcdn.com/font-awesome/4.6.3/css/font-awesome.min.css%22/%3E%0A%20%20%20%20%3Clink%20rel%3D%22stylesheet%22%20href%3D%22https%3A//cdnjs.cloudflare.com/ajax/libs/Leaflet.awesome-markers/2.0.2/leaflet.awesome-markers.css%22/%3E%0A%20%20%20%20%3Clink%20rel%3D%22stylesheet%22%20href%3D%22https%3A//cdn.jsdelivr.net/gh/python-visualization/folium/folium/templates/leaflet.awesome.rotate.min.css%22/%3E%0A%20%20%20%20%0A%20%20%20%20%20%20%20%20%20%20%20%20%3Cmeta%20name%3D%22viewport%22%20content%3D%22width%3Ddevice-width%2C%0A%20%20%20%20%20%20%20%20%20%20%20%20%20%20%20%20initial-scale%3D1.0%2C%20maximum-scale%3D1.0%2C%20user-scalable%3Dno%22%20/%3E%0A%20%20%20%20%20%20%20%20%20%20%20%20%3Cstyle%3E%0A%20%20%20%20%20%20%20%20%20%20%20%20%20%20%20%20%23map_2e2c9ae5f0af4dc6a44a19eb822e40a5%20%7B%0A%20%20%20%20%20%20%20%20%20%20%20%20%20%20%20%20%20%20%20%20position%3A%20relative%3B%0A%20%20%20%20%20%20%20%20%20%20%20%20%20%20%20%20%20%20%20%20width%3A%20100.0%25%3B%0A%20%20%20%20%20%20%20%20%20%20%20%20%20%20%20%20%20%20%20%20height%3A%20100.0%25%3B%0A%20%20%20%20%20%20%20%20%20%20%20%20%20%20%20%20%20%20%20%20left%3A%200.0%25%3B%0A%20%20%20%20%20%20%20%20%20%20%20%20%20%20%20%20%20%20%20%20top%3A%200.0%25%3B%0A%20%20%20%20%20%20%20%20%20%20%20%20%20%20%20%20%7D%0A%20%20%20%20%20%20%20%20%20%20%20%20%3C/style%3E%0A%20%20%20%20%20%20%20%20%0A%20%20%20%20%0A%20%20%20%20%20%20%20%20%20%20%20%20%20%20%20%20%20%20%20%20%3Cstyle%3E%0A%20%20%20%20%20%20%20%20%20%20%20%20%20%20%20%20%20%20%20%20%20%20%20%20.foliumtooltip%20%7B%0A%20%20%20%20%20%20%20%20%20%20%20%20%20%20%20%20%20%20%20%20%20%20%20%20%20%20%20%20%0A%20%20%20%20%20%20%20%20%20%20%20%20%20%20%20%20%20%20%20%20%20%20%20%20%7D%0A%20%20%20%20%20%20%20%20%20%20%20%20%20%20%20%20%20%20%20%20%20%20%20.foliumtooltip%20table%7B%0A%20%20%20%20%20%20%20%20%20%20%20%20%20%20%20%20%20%20%20%20%20%20%20%20%20%20%20%20margin%3A%20auto%3B%0A%20%20%20%20%20%20%20%20%20%20%20%20%20%20%20%20%20%20%20%20%20%20%20%20%7D%0A%20%20%20%20%20%20%20%20%20%20%20%20%20%20%20%20%20%20%20%20%20%20%20%20.foliumtooltip%20tr%7B%0A%20%20%20%20%20%20%20%20%20%20%20%20%20%20%20%20%20%20%20%20%20%20%20%20%20%20%20%20text-align%3A%20left%3B%0A%20%20%20%20%20%20%20%20%20%20%20%20%20%20%20%20%20%20%20%20%20%20%20%20%7D%0A%20%20%20%20%20%20%20%20%20%20%20%20%20%20%20%20%20%20%20%20%20%20%20%20.foliumtooltip%20th%7B%0A%20%20%20%20%20%20%20%20%20%20%20%20%20%20%20%20%20%20%20%20%20%20%20%20%20%20%20%20padding%3A%202px%3B%20padding-right%3A%208px%3B%0A%20%20%20%20%20%20%20%20%20%20%20%20%20%20%20%20%20%20%20%20%20%20%20%20%7D%0A%20%20%20%20%20%20%20%20%20%20%20%20%20%20%20%20%20%20%20%20%3C/style%3E%0A%20%20%20%20%20%20%20%20%20%20%20%20%0A%3C/head%3E%0A%3Cbody%3E%20%20%20%20%0A%20%20%20%20%0A%20%20%20%20%20%20%20%20%20%20%20%20%3Cdiv%20class%3D%22folium-map%22%20id%3D%22map_2e2c9ae5f0af4dc6a44a19eb822e40a5%22%20%3E%3C/div%3E%0A%20%20%20%20%20%20%20%20%0A%3C/body%3E%0A%3Cscript%3E%20%20%20%20%0A%20%20%20%20%0A%20%20%20%20%20%20%20%20%20%20%20%20var%20map_2e2c9ae5f0af4dc6a44a19eb822e40a5%20%3D%20L.map%28%0A%20%20%20%20%20%20%20%20%20%20%20%20%20%20%20%20%22map_2e2c9ae5f0af4dc6a44a19eb822e40a5%22%2C%0A%20%20%20%20%20%20%20%20%20%20%20%20%20%20%20%20%7B%0A%20%20%20%20%20%20%20%20%20%20%20%20%20%20%20%20%20%20%20%20center%3A%20%5B34.04271721950005%2C%20-118.45753043449997%5D%2C%0A%20%20%20%20%20%20%20%20%20%20%20%20%20%20%20%20%20%20%20%20crs%3A%20L.CRS.EPSG3857%2C%0A%20%20%20%20%20%20%20%20%20%20%20%20%20%20%20%20%20%20%20%20zoom%3A%2010%2C%0A%20%20%20%20%20%20%20%20%20%20%20%20%20%20%20%20%20%20%20%20zoomControl%3A%20true%2C%0A%20%20%20%20%20%20%20%20%20%20%20%20%20%20%20%20%20%20%20%20preferCanvas%3A%20false%2C%0A%20%20%20%20%20%20%20%20%20%20%20%20%20%20%20%20%7D%0A%20%20%20%20%20%20%20%20%20%20%20%20%29%3B%0A%20%20%20%20%20%20%20%20%20%20%20%20L.control.scale%28%29.addTo%28map_2e2c9ae5f0af4dc6a44a19eb822e40a5%29%3B%0A%0A%20%20%20%20%20%20%20%20%20%20%20%20%0A%0A%20%20%20%20%20%20%20%20%0A%20%20%20%20%0A%20%20%20%20%20%20%20%20%20%20%20%20var%20tile_layer_4a4f53af2af740ab9ace0084b32098db%20%3D%20L.tileLayer%28%0A%20%20%20%20%20%20%20%20%20%20%20%20%20%20%20%20%22https%3A//%7Bs%7D.tile.openstreetmap.org/%7Bz%7D/%7Bx%7D/%7By%7D.png%22%2C%0A%20%20%20%20%20%20%20%20%20%20%20%20%20%20%20%20%7B%22attribution%22%3A%20%22Data%20by%20%5Cu0026copy%3B%20%5Cu003ca%20href%3D%5C%22http%3A//openstreetmap.org%5C%22%5Cu003eOpenStreetMap%5Cu003c/a%5Cu003e%2C%20under%20%5Cu003ca%20href%3D%5C%22http%3A//www.openstreetmap.org/copyright%5C%22%5Cu003eODbL%5Cu003c/a%5Cu003e.%22%2C%20%22detectRetina%22%3A%20false%2C%20%22maxNativeZoom%22%3A%2018%2C%20%22maxZoom%22%3A%2018%2C%20%22minZoom%22%3A%200%2C%20%22noWrap%22%3A%20false%2C%20%22opacity%22%3A%201%2C%20%22subdomains%22%3A%20%22abc%22%2C%20%22tms%22%3A%20false%7D%0A%20%20%20%20%20%20%20%20%20%20%20%20%29.addTo%28map_2e2c9ae5f0af4dc6a44a19eb822e40a5%29%3B%0A%20%20%20%20%20%20%20%20%0A%20%20%20%20%0A%20%20%20%20%20%20%20%20%20%20%20%20map_2e2c9ae5f0af4dc6a44a19eb822e40a5.fitBounds%28%0A%20%20%20%20%20%20%20%20%20%20%20%20%20%20%20%20%5B%5B34.038478405000035%2C%20-118.46779578499996%5D%2C%20%5B34.04695603400006%2C%20-118.44726508399998%5D%5D%2C%0A%20%20%20%20%20%20%20%20%20%20%20%20%20%20%20%20%7B%7D%0A%20%20%20%20%20%20%20%20%20%20%20%20%29%3B%0A%20%20%20%20%20%20%20%20%0A%20%20%20%20%0A%20%20%20%20%20%20%20%20function%20geo_json_0e9a458aa42a43428e8ad730aeb36e45_styler%28feature%29%20%7B%0A%20%20%20%20%20%20%20%20%20%20%20%20switch%28feature.id%29%20%7B%0A%20%20%20%20%20%20%20%20%20%20%20%20%20%20%20%20default%3A%0A%20%20%20%20%20%20%20%20%20%20%20%20%20%20%20%20%20%20%20%20return%20%7B%22fillOpacity%22%3A%200.5%2C%20%22weight%22%3A%202%7D%3B%0A%20%20%20%20%20%20%20%20%20%20%20%20%7D%0A%20%20%20%20%20%20%20%20%7D%0A%20%20%20%20%20%20%20%20function%20geo_json_0e9a458aa42a43428e8ad730aeb36e45_highlighter%28feature%29%20%7B%0A%20%20%20%20%20%20%20%20%20%20%20%20switch%28feature.id%29%20%7B%0A%20%20%20%20%20%20%20%20%20%20%20%20%20%20%20%20default%3A%0A%20%20%20%20%20%20%20%20%20%20%20%20%20%20%20%20%20%20%20%20return%20%7B%22fillOpacity%22%3A%200.75%7D%3B%0A%20%20%20%20%20%20%20%20%20%20%20%20%7D%0A%20%20%20%20%20%20%20%20%7D%0A%20%20%20%20%20%20%20%20function%20geo_json_0e9a458aa42a43428e8ad730aeb36e45_pointToLayer%28feature%2C%20latlng%29%20%7B%0A%20%20%20%20%20%20%20%20%20%20%20%20var%20opts%20%3D%20%7B%22bubblingMouseEvents%22%3A%20true%2C%20%22color%22%3A%20%22%233388ff%22%2C%20%22dashArray%22%3A%20null%2C%20%22dashOffset%22%3A%20null%2C%20%22fill%22%3A%20true%2C%20%22fillColor%22%3A%20%22%233388ff%22%2C%20%22fillOpacity%22%3A%200.2%2C%20%22fillRule%22%3A%20%22evenodd%22%2C%20%22lineCap%22%3A%20%22round%22%2C%20%22lineJoin%22%3A%20%22round%22%2C%20%22opacity%22%3A%201.0%2C%20%22radius%22%3A%202%2C%20%22stroke%22%3A%20true%2C%20%22weight%22%3A%203%7D%3B%0A%20%20%20%20%20%20%20%20%20%20%20%20%0A%20%20%20%20%20%20%20%20%20%20%20%20let%20style%20%3D%20geo_json_0e9a458aa42a43428e8ad730aeb36e45_styler%28feature%29%0A%20%20%20%20%20%20%20%20%20%20%20%20Object.assign%28opts%2C%20style%29%0A%20%20%20%20%20%20%20%20%20%20%20%20%0A%20%20%20%20%20%20%20%20%20%20%20%20return%20new%20L.CircleMarker%28latlng%2C%20opts%29%0A%20%20%20%20%20%20%20%20%7D%0A%0A%20%20%20%20%20%20%20%20function%20geo_json_0e9a458aa42a43428e8ad730aeb36e45_onEachFeature%28feature%2C%20layer%29%20%7B%0A%20%20%20%20%20%20%20%20%20%20%20%20layer.on%28%7B%0A%20%20%20%20%20%20%20%20%20%20%20%20%20%20%20%20mouseout%3A%20function%28e%29%20%7B%0A%20%20%20%20%20%20%20%20%20%20%20%20%20%20%20%20%20%20%20%20if%28typeof%20e.target.setStyle%20%3D%3D%3D%20%22function%22%29%7B%0A%20%20%20%20%20%20%20%20%20%20%20%20%20%20%20%20%20%20%20%20%20%20%20%20geo_json_0e9a458aa42a43428e8ad730aeb36e45.resetStyle%28e.target%29%3B%0A%20%20%20%20%20%20%20%20%20%20%20%20%20%20%20%20%20%20%20%20%7D%0A%20%20%20%20%20%20%20%20%20%20%20%20%20%20%20%20%7D%2C%0A%20%20%20%20%20%20%20%20%20%20%20%20%20%20%20%20mouseover%3A%20function%28e%29%20%7B%0A%20%20%20%20%20%20%20%20%20%20%20%20%20%20%20%20%20%20%20%20if%28typeof%20e.target.setStyle%20%3D%3D%3D%20%22function%22%29%7B%0A%20%20%20%20%20%20%20%20%20%20%20%20%20%20%20%20%20%20%20%20%20%20%20%20const%20highlightStyle%20%3D%20geo_json_0e9a458aa42a43428e8ad730aeb36e45_highlighter%28e.target.feature%29%0A%20%20%20%20%20%20%20%20%20%20%20%20%20%20%20%20%20%20%20%20%20%20%20%20e.target.setStyle%28highlightStyle%29%3B%0A%20%20%20%20%20%20%20%20%20%20%20%20%20%20%20%20%20%20%20%20%7D%0A%20%20%20%20%20%20%20%20%20%20%20%20%20%20%20%20%7D%2C%0A%20%20%20%20%20%20%20%20%20%20%20%20%7D%29%3B%0A%20%20%20%20%20%20%20%20%7D%3B%0A%20%20%20%20%20%20%20%20var%20geo_json_0e9a458aa42a43428e8ad730aeb36e45%20%3D%20L.geoJson%28null%2C%20%7B%0A%20%20%20%20%20%20%20%20%20%20%20%20%20%20%20%20onEachFeature%3A%20geo_json_0e9a458aa42a43428e8ad730aeb36e45_onEachFeature%2C%0A%20%20%20%20%20%20%20%20%20%20%20%20%0A%20%20%20%20%20%20%20%20%20%20%20%20%20%20%20%20style%3A%20geo_json_0e9a458aa42a43428e8ad730aeb36e45_styler%2C%0A%20%20%20%20%20%20%20%20%20%20%20%20%20%20%20%20pointToLayer%3A%20geo_json_0e9a458aa42a43428e8ad730aeb36e45_pointToLayer%0A%20%20%20%20%20%20%20%20%7D%29%3B%0A%0A%20%20%20%20%20%20%20%20function%20geo_json_0e9a458aa42a43428e8ad730aeb36e45_add%20%28data%29%20%7B%0A%20%20%20%20%20%20%20%20%20%20%20%20geo_json_0e9a458aa42a43428e8ad730aeb36e45%0A%20%20%20%20%20%20%20%20%20%20%20%20%20%20%20%20.addData%28data%29%0A%20%20%20%20%20%20%20%20%20%20%20%20%20%20%20%20.addTo%28map_2e2c9ae5f0af4dc6a44a19eb822e40a5%29%3B%0A%20%20%20%20%20%20%20%20%7D%0A%20%20%20%20%20%20%20%20%20%20%20%20geo_json_0e9a458aa42a43428e8ad730aeb36e45_add%28%7B%22bbox%22%3A%20%5B-118.46779578499996%2C%2034.038478405000035%2C%20-118.44726508399998%2C%2034.04695603400006%5D%2C%20%22features%22%3A%20%5B%7B%22bbox%22%3A%20%5B-118.46779578499996%2C%2034.038478405000035%2C%20-118.44726508399998%2C%2034.04695603400006%5D%2C%20%22geometry%22%3A%20%7B%22coordinates%22%3A%20%5B%5B-118.46779578499996%2C%2034.038478405000035%2C%200.0%5D%2C%20%5B-118.44726508399998%2C%2034.04695603400006%2C%200.0%5D%5D%2C%20%22type%22%3A%20%22LineString%22%7D%2C%20%22id%22%3A%20%224%22%2C%20%22properties%22%3A%20%7B%22Bus_Brdng_Islnds%22%3A%20null%2C%20%22CT_District%22%3A%20%2207%22%2C%20%22Centerline_Miles%22%3A%201.4%2C%20%22County%22%3A%20%22LA%22%2C%20%22CreationDate%22%3A%201692996744000%2C%20%22EditDate%22%3A%201693421427000%2C%20%22Geom_Priority_Intervention_Type%22%3A%20%22Bus_Only_Lane_%28limited_hours%29%22%2C%20%22Imprv_Site_Amnts%22%3A%20null%2C%20%22Lyr%22%3A%20%22%5C%22Lns2%5C%22%22%2C%20%22OBJECTID%22%3A%205%2C%20%22One_Side_Rdwy_Only%22%3A%20%22no%22%2C%20%22Priority_Intervention_Type_All%22%3A%20%22Bus_Only_Lane_%28limited_hours%29%22%2C%20%22Queue_Jumps%22%3A%20null%2C%20%22Route%22%3A%202%2C%20%22Scrs%22%3A%20%22SHOPP%22%2C%20%22Scrs_Link%22%3A%20%22http%3A//10.56.12.86/pirs/newlayout/index.cfm%3FselectEA%3D%5Cu0026EA%3D33360%22%2C%20%22Shape_Length%22%3A%200.022212156064030365%2C%20%22Submitter_Email%22%3A%20%22carlo.ramirez%40dot.ca.gov%22%2C%20%22Submitter_Name%22%3A%20%22Carlo%20Ramirez%20%22%2C%20%22Transit_Op_Support%22%3A%20%22yes%22%2C%20%22geo_comments%22%3A%20%22Project%20is%20part%20of%20SHOPP%20looking%20to%20add%20two%20lanes%20in%20both%20directions.%20One%20lane%20westbound%20and%20one%20lane%20eastbound%2C%20both%20operating%20in%20peak%20hours%2C%207%20am-9%20am%20and%204%20pm%20to%207%20pm.%20Area%20is%20very%20congested%2C%20due%20to%20high%20usage%20of%20work%20and%20residential%20commuters.%20Caltrans%20has%20worked%20with%20Santa%20Monica%20Big%20Blue%20Bus%20to%20alleviate%20congestion%20by%20operating%20transit%20in%20these%20peak%20hours.%20These%20bus%20lanes%20are%20a%20part%20of%20a%20segmented%20project.%20This%20is%20segment%20A.%20Segment%20C%20has%20been%20managed%20and%20fulfill%20by%20LA%20Metro%2C%20to%20include%20bus%20lanes.%20Segment%20B%20does%20not%20have%20bus%20only%20lane%20improvements.%20Potential%20funding%20could%20not%20only%20fulfill%20Segment%20A%20scope%20of%20work%2C%20but%20also%2C%20help%20amend%20the%20scope%20and%20add%20bus%20only%20lanes%20to%20Segment%20B.%20%20Segment%20A%20includes%20other%20pedestrian%20enhancements%2C%20such%20as%2C%20PHB%2C%20aka%2C%20HAWK%20system%28s%29.%20The%20project%20is%20RTL%20and%20has%20petitioned%20the%20CTC%20for%20more%20funding.%20This%20is%20a%20SHOPP%20Project%2C%20under%20the%20EA%2033360.%20%22%7D%2C%20%22type%22%3A%20%22Feature%22%7D%5D%2C%20%22type%22%3A%20%22FeatureCollection%22%7D%29%3B%0A%0A%20%20%20%20%20%20%20%20%0A%20%20%20%20%0A%20%20%20%20geo_json_0e9a458aa42a43428e8ad730aeb36e45.bindTooltip%28%0A%20%20%20%20function%28layer%29%7B%0A%20%20%20%20let%20div%20%3D%20L.DomUtil.create%28%27div%27%29%3B%0A%20%20%20%20%0A%20%20%20%20let%20handleObject%20%3D%20feature%3D%3Etypeof%28feature%29%3D%3D%27object%27%20%3F%20JSON.stringify%28feature%29%20%3A%20feature%3B%0A%20%20%20%20let%20fields%20%3D%20%5B%22OBJECTID%22%2C%20%22Submitter_Name%22%2C%20%22Submitter_Email%22%2C%20%22Priority_Intervention_Type_All%22%2C%20%22Scrs%22%2C%20%22Scrs_Link%22%2C%20%22Centerline_Miles%22%2C%20%22One_Side_Rdwy_Only%22%2C%20%22Queue_Jumps%22%2C%20%22Bus_Brdng_Islnds%22%2C%20%22Imprv_Site_Amnts%22%2C%20%22Transit_Op_Support%22%2C%20%22CT_District%22%2C%20%22County%22%2C%20%22Route%22%2C%20%22Geom_Priority_Intervention_Type%22%2C%20%22geo_comments%22%2C%20%22CreationDate%22%2C%20%22Lyr%22%2C%20%22EditDate%22%2C%20%22Shape_Length%22%5D%3B%0A%20%20%20%20let%20aliases%20%3D%20%5B%22OBJECTID%22%2C%20%22Submitter_Name%22%2C%20%22Submitter_Email%22%2C%20%22Priority_Intervention_Type_All%22%2C%20%22Scrs%22%2C%20%22Scrs_Link%22%2C%20%22Centerline_Miles%22%2C%20%22One_Side_Rdwy_Only%22%2C%20%22Queue_Jumps%22%2C%20%22Bus_Brdng_Islnds%22%2C%20%22Imprv_Site_Amnts%22%2C%20%22Transit_Op_Support%22%2C%20%22CT_District%22%2C%20%22County%22%2C%20%22Route%22%2C%20%22Geom_Priority_Intervention_Type%22%2C%20%22geo_comments%22%2C%20%22CreationDate%22%2C%20%22Lyr%22%2C%20%22EditDate%22%2C%20%22Shape_Length%22%5D%3B%0A%20%20%20%20let%20table%20%3D%20%27%3Ctable%3E%27%20%2B%0A%20%20%20%20%20%20%20%20String%28%0A%20%20%20%20%20%20%20%20fields.map%28%0A%20%20%20%20%20%20%20%20%28v%2Ci%29%3D%3E%0A%20%20%20%20%20%20%20%20%60%3Ctr%3E%0A%20%20%20%20%20%20%20%20%20%20%20%20%3Cth%3E%24%7Baliases%5Bi%5D%7D%3C/th%3E%0A%20%20%20%20%20%20%20%20%20%20%20%20%0A%20%20%20%20%20%20%20%20%20%20%20%20%3Ctd%3E%24%7BhandleObject%28layer.feature.properties%5Bv%5D%29%7D%3C/td%3E%0A%20%20%20%20%20%20%20%20%3C/tr%3E%60%29.join%28%27%27%29%29%0A%20%20%20%20%2B%27%3C/table%3E%27%3B%0A%20%20%20%20div.innerHTML%3Dtable%3B%0A%20%20%20%20%0A%20%20%20%20return%20div%0A%20%20%20%20%7D%0A%20%20%20%20%2C%7B%22className%22%3A%20%22foliumtooltip%22%2C%20%22sticky%22%3A%20true%7D%29%3B%0A%20%20%20%20%20%20%20%20%20%20%20%20%20%20%20%20%20%20%20%20%20%0A%3C/script%3E onload=\"this.contentDocument.open();this.contentDocument.write(    decodeURIComponent(this.getAttribute('data-html')));this.contentDocument.close();\" allowfullscreen webkitallowfullscreen mozallowfullscreen></iframe></div></div>"
      ],
      "text/plain": [
       "<folium.folium.Map at 0x7f0ee347efa0>"
      ]
     },
     "execution_count": 42,
     "metadata": {},
     "output_type": "execute_result"
    }
   ],
   "source": [
    "line_priority.iloc[[4]].explore()"
   ]
  },
  {
   "cell_type": "markdown",
   "id": "52024183-781f-4ea5-8f43-37e86c8f3397",
   "metadata": {
    "tags": []
   },
   "source": [
    "### 11 LA Metro -- analyze w/ 4\n",
    "\n",
    "* duplicate geography, one analysis"
   ]
  },
  {
   "cell_type": "code",
   "execution_count": 43,
   "id": "3ebbffc4-110e-4a7a-b0d9-06e2dd152296",
   "metadata": {},
   "outputs": [
    {
     "data": {
      "text/html": [
       "<div>\n",
       "<style scoped>\n",
       "    .dataframe tbody tr th:only-of-type {\n",
       "        vertical-align: middle;\n",
       "    }\n",
       "\n",
       "    .dataframe tbody tr th {\n",
       "        vertical-align: top;\n",
       "    }\n",
       "\n",
       "    .dataframe thead th {\n",
       "        text-align: right;\n",
       "    }\n",
       "</style>\n",
       "<table border=\"1\" class=\"dataframe\">\n",
       "  <thead>\n",
       "    <tr style=\"text-align: right;\">\n",
       "      <th></th>\n",
       "      <th>OBJECTID</th>\n",
       "      <th>Submitter_Name</th>\n",
       "      <th>Submitter_Email</th>\n",
       "      <th>Priority_Intervention_Type_All</th>\n",
       "      <th>Scrs</th>\n",
       "      <th>Scrs_Link</th>\n",
       "      <th>Centerline_Miles</th>\n",
       "      <th>One_Side_Rdwy_Only</th>\n",
       "      <th>Queue_Jumps</th>\n",
       "      <th>Bus_Brdng_Islnds</th>\n",
       "      <th>...</th>\n",
       "      <th>CT_District</th>\n",
       "      <th>County</th>\n",
       "      <th>Route</th>\n",
       "      <th>Geom_Priority_Intervention_Type</th>\n",
       "      <th>geo_comments</th>\n",
       "      <th>CreationDate</th>\n",
       "      <th>Lyr</th>\n",
       "      <th>EditDate</th>\n",
       "      <th>Shape_Length</th>\n",
       "      <th>geometry</th>\n",
       "    </tr>\n",
       "  </thead>\n",
       "  <tbody>\n",
       "    <tr>\n",
       "      <th>11</th>\n",
       "      <td>12</td>\n",
       "      <td>Carlo Ramirez</td>\n",
       "      <td>carlo.ramirez@dot.ca.gov</td>\n",
       "      <td>Bus_Only_Lane_(limited_hours)</td>\n",
       "      <td>SHOPP</td>\n",
       "      <td>http://10.56.12.86/pirs/newlayout/index.cfm?se...</td>\n",
       "      <td>1.4</td>\n",
       "      <td>no</td>\n",
       "      <td>NaN</td>\n",
       "      <td>NaN</td>\n",
       "      <td>...</td>\n",
       "      <td>07</td>\n",
       "      <td>LA</td>\n",
       "      <td>2</td>\n",
       "      <td>Bus_Only_Lane_(limited_hours)</td>\n",
       "      <td>Project is part of SHOPP looking to add two la...</td>\n",
       "      <td>1692996744000</td>\n",
       "      <td>\"Lns1\"</td>\n",
       "      <td>1693421431000</td>\n",
       "      <td>0.022211</td>\n",
       "      <td>LINESTRING Z (-118.46788 34.03860 0.00000, -11...</td>\n",
       "    </tr>\n",
       "  </tbody>\n",
       "</table>\n",
       "<p>1 rows × 22 columns</p>\n",
       "</div>"
      ],
      "text/plain": [
       "    OBJECTID  Submitter_Name           Submitter_Email  \\\n",
       "11        12  Carlo Ramirez   carlo.ramirez@dot.ca.gov   \n",
       "\n",
       "   Priority_Intervention_Type_All   Scrs  \\\n",
       "11  Bus_Only_Lane_(limited_hours)  SHOPP   \n",
       "\n",
       "                                            Scrs_Link  Centerline_Miles  \\\n",
       "11  http://10.56.12.86/pirs/newlayout/index.cfm?se...               1.4   \n",
       "\n",
       "   One_Side_Rdwy_Only  Queue_Jumps  Bus_Brdng_Islnds  ...  CT_District County  \\\n",
       "11                 no          NaN               NaN  ...           07     LA   \n",
       "\n",
       "   Route Geom_Priority_Intervention_Type  \\\n",
       "11     2   Bus_Only_Lane_(limited_hours)   \n",
       "\n",
       "                                         geo_comments   CreationDate     Lyr  \\\n",
       "11  Project is part of SHOPP looking to add two la...  1692996744000  \"Lns1\"   \n",
       "\n",
       "         EditDate Shape_Length  \\\n",
       "11  1693421431000     0.022211   \n",
       "\n",
       "                                             geometry  \n",
       "11  LINESTRING Z (-118.46788 34.03860 0.00000, -11...  \n",
       "\n",
       "[1 rows x 22 columns]"
      ]
     },
     "execution_count": 43,
     "metadata": {},
     "output_type": "execute_result"
    }
   ],
   "source": [
    "line_priority.iloc[[11]]"
   ]
  },
  {
   "cell_type": "code",
   "execution_count": 44,
   "id": "b4e38635-d95b-4e68-ae70-f420b08a23bb",
   "metadata": {},
   "outputs": [
    {
     "data": {
      "text/plain": [
       "'Project is part of SHOPP looking to add two lanes in both directions. One lane westbound and one lane eastbound, both operating in peak hours, 7 am-9 am and 4 pm to 7 pm. Area is very congested, due to high usage of work and residential commuters. Caltrans has worked with Santa Monica Big Blue Bus to alleviate congestion by operating transit in these peak hours. These bus lanes are a part of a segmented project. This is segment A. Segment C has been managed and fulfill by LA Metro, to include bus lanes. Segment B does not have bus only lane improvements. Potential funding could not only fulfill Segment A scope of work, but also, help amend the scope and add bus only lanes to Segment B.  Segment A includes other pedestrian enhancements, such as, PHB, aka, HAWK system(s). The project is RTL and has petitioned the CTC for more funding. This is a SHOPP Project, under the EA 33360. '"
      ]
     },
     "execution_count": 44,
     "metadata": {},
     "output_type": "execute_result"
    }
   ],
   "source": [
    "line_priority.iloc[[11]].geo_comments.iloc[0]"
   ]
  },
  {
   "cell_type": "code",
   "execution_count": 45,
   "id": "1ef1fa90-18f7-4421-aef9-084b8cc654b1",
   "metadata": {},
   "outputs": [
    {
     "data": {
      "text/html": [
       "<div style=\"width:100%;\"><div style=\"position:relative;width:100%;height:0;padding-bottom:60%;\"><span style=\"color:#565656\">Make this Notebook Trusted to load map: File -> Trust Notebook</span><iframe src=\"about:blank\" style=\"position:absolute;width:100%;height:100%;left:0;top:0;border:none !important;\" data-html=%3C%21DOCTYPE%20html%3E%0A%3Chead%3E%20%20%20%20%0A%20%20%20%20%3Cmeta%20http-equiv%3D%22content-type%22%20content%3D%22text/html%3B%20charset%3DUTF-8%22%20/%3E%0A%20%20%20%20%0A%20%20%20%20%20%20%20%20%3Cscript%3E%0A%20%20%20%20%20%20%20%20%20%20%20%20L_NO_TOUCH%20%3D%20false%3B%0A%20%20%20%20%20%20%20%20%20%20%20%20L_DISABLE_3D%20%3D%20false%3B%0A%20%20%20%20%20%20%20%20%3C/script%3E%0A%20%20%20%20%0A%20%20%20%20%3Cstyle%3Ehtml%2C%20body%20%7Bwidth%3A%20100%25%3Bheight%3A%20100%25%3Bmargin%3A%200%3Bpadding%3A%200%3B%7D%3C/style%3E%0A%20%20%20%20%3Cstyle%3E%23map%20%7Bposition%3Aabsolute%3Btop%3A0%3Bbottom%3A0%3Bright%3A0%3Bleft%3A0%3B%7D%3C/style%3E%0A%20%20%20%20%3Cscript%20src%3D%22https%3A//cdn.jsdelivr.net/npm/leaflet%401.6.0/dist/leaflet.js%22%3E%3C/script%3E%0A%20%20%20%20%3Cscript%20src%3D%22https%3A//code.jquery.com/jquery-1.12.4.min.js%22%3E%3C/script%3E%0A%20%20%20%20%3Cscript%20src%3D%22https%3A//maxcdn.bootstrapcdn.com/bootstrap/3.2.0/js/bootstrap.min.js%22%3E%3C/script%3E%0A%20%20%20%20%3Cscript%20src%3D%22https%3A//cdnjs.cloudflare.com/ajax/libs/Leaflet.awesome-markers/2.0.2/leaflet.awesome-markers.js%22%3E%3C/script%3E%0A%20%20%20%20%3Clink%20rel%3D%22stylesheet%22%20href%3D%22https%3A//cdn.jsdelivr.net/npm/leaflet%401.6.0/dist/leaflet.css%22/%3E%0A%20%20%20%20%3Clink%20rel%3D%22stylesheet%22%20href%3D%22https%3A//maxcdn.bootstrapcdn.com/bootstrap/3.2.0/css/bootstrap.min.css%22/%3E%0A%20%20%20%20%3Clink%20rel%3D%22stylesheet%22%20href%3D%22https%3A//maxcdn.bootstrapcdn.com/bootstrap/3.2.0/css/bootstrap-theme.min.css%22/%3E%0A%20%20%20%20%3Clink%20rel%3D%22stylesheet%22%20href%3D%22https%3A//maxcdn.bootstrapcdn.com/font-awesome/4.6.3/css/font-awesome.min.css%22/%3E%0A%20%20%20%20%3Clink%20rel%3D%22stylesheet%22%20href%3D%22https%3A//cdnjs.cloudflare.com/ajax/libs/Leaflet.awesome-markers/2.0.2/leaflet.awesome-markers.css%22/%3E%0A%20%20%20%20%3Clink%20rel%3D%22stylesheet%22%20href%3D%22https%3A//cdn.jsdelivr.net/gh/python-visualization/folium/folium/templates/leaflet.awesome.rotate.min.css%22/%3E%0A%20%20%20%20%0A%20%20%20%20%20%20%20%20%20%20%20%20%3Cmeta%20name%3D%22viewport%22%20content%3D%22width%3Ddevice-width%2C%0A%20%20%20%20%20%20%20%20%20%20%20%20%20%20%20%20initial-scale%3D1.0%2C%20maximum-scale%3D1.0%2C%20user-scalable%3Dno%22%20/%3E%0A%20%20%20%20%20%20%20%20%20%20%20%20%3Cstyle%3E%0A%20%20%20%20%20%20%20%20%20%20%20%20%20%20%20%20%23map_472f26cbf6944b76943bfa7badaecade%20%7B%0A%20%20%20%20%20%20%20%20%20%20%20%20%20%20%20%20%20%20%20%20position%3A%20relative%3B%0A%20%20%20%20%20%20%20%20%20%20%20%20%20%20%20%20%20%20%20%20width%3A%20100.0%25%3B%0A%20%20%20%20%20%20%20%20%20%20%20%20%20%20%20%20%20%20%20%20height%3A%20100.0%25%3B%0A%20%20%20%20%20%20%20%20%20%20%20%20%20%20%20%20%20%20%20%20left%3A%200.0%25%3B%0A%20%20%20%20%20%20%20%20%20%20%20%20%20%20%20%20%20%20%20%20top%3A%200.0%25%3B%0A%20%20%20%20%20%20%20%20%20%20%20%20%20%20%20%20%7D%0A%20%20%20%20%20%20%20%20%20%20%20%20%3C/style%3E%0A%20%20%20%20%20%20%20%20%0A%20%20%20%20%0A%20%20%20%20%20%20%20%20%20%20%20%20%20%20%20%20%20%20%20%20%3Cstyle%3E%0A%20%20%20%20%20%20%20%20%20%20%20%20%20%20%20%20%20%20%20%20%20%20%20%20.foliumtooltip%20%7B%0A%20%20%20%20%20%20%20%20%20%20%20%20%20%20%20%20%20%20%20%20%20%20%20%20%20%20%20%20%0A%20%20%20%20%20%20%20%20%20%20%20%20%20%20%20%20%20%20%20%20%20%20%20%20%7D%0A%20%20%20%20%20%20%20%20%20%20%20%20%20%20%20%20%20%20%20%20%20%20%20.foliumtooltip%20table%7B%0A%20%20%20%20%20%20%20%20%20%20%20%20%20%20%20%20%20%20%20%20%20%20%20%20%20%20%20%20margin%3A%20auto%3B%0A%20%20%20%20%20%20%20%20%20%20%20%20%20%20%20%20%20%20%20%20%20%20%20%20%7D%0A%20%20%20%20%20%20%20%20%20%20%20%20%20%20%20%20%20%20%20%20%20%20%20%20.foliumtooltip%20tr%7B%0A%20%20%20%20%20%20%20%20%20%20%20%20%20%20%20%20%20%20%20%20%20%20%20%20%20%20%20%20text-align%3A%20left%3B%0A%20%20%20%20%20%20%20%20%20%20%20%20%20%20%20%20%20%20%20%20%20%20%20%20%7D%0A%20%20%20%20%20%20%20%20%20%20%20%20%20%20%20%20%20%20%20%20%20%20%20%20.foliumtooltip%20th%7B%0A%20%20%20%20%20%20%20%20%20%20%20%20%20%20%20%20%20%20%20%20%20%20%20%20%20%20%20%20padding%3A%202px%3B%20padding-right%3A%208px%3B%0A%20%20%20%20%20%20%20%20%20%20%20%20%20%20%20%20%20%20%20%20%20%20%20%20%7D%0A%20%20%20%20%20%20%20%20%20%20%20%20%20%20%20%20%20%20%20%20%3C/style%3E%0A%20%20%20%20%20%20%20%20%20%20%20%20%0A%3C/head%3E%0A%3Cbody%3E%20%20%20%20%0A%20%20%20%20%0A%20%20%20%20%20%20%20%20%20%20%20%20%3Cdiv%20class%3D%22folium-map%22%20id%3D%22map_472f26cbf6944b76943bfa7badaecade%22%20%3E%3C/div%3E%0A%20%20%20%20%20%20%20%20%0A%3C/body%3E%0A%3Cscript%3E%20%20%20%20%0A%20%20%20%20%0A%20%20%20%20%20%20%20%20%20%20%20%20var%20map_472f26cbf6944b76943bfa7badaecade%20%3D%20L.map%28%0A%20%20%20%20%20%20%20%20%20%20%20%20%20%20%20%20%22map_472f26cbf6944b76943bfa7badaecade%22%2C%0A%20%20%20%20%20%20%20%20%20%20%20%20%20%20%20%20%7B%0A%20%20%20%20%20%20%20%20%20%20%20%20%20%20%20%20%20%20%20%20center%3A%20%5B34.04275105800005%2C%20-118.45758205399997%5D%2C%0A%20%20%20%20%20%20%20%20%20%20%20%20%20%20%20%20%20%20%20%20crs%3A%20L.CRS.EPSG3857%2C%0A%20%20%20%20%20%20%20%20%20%20%20%20%20%20%20%20%20%20%20%20zoom%3A%2010%2C%0A%20%20%20%20%20%20%20%20%20%20%20%20%20%20%20%20%20%20%20%20zoomControl%3A%20true%2C%0A%20%20%20%20%20%20%20%20%20%20%20%20%20%20%20%20%20%20%20%20preferCanvas%3A%20false%2C%0A%20%20%20%20%20%20%20%20%20%20%20%20%20%20%20%20%7D%0A%20%20%20%20%20%20%20%20%20%20%20%20%29%3B%0A%20%20%20%20%20%20%20%20%20%20%20%20L.control.scale%28%29.addTo%28map_472f26cbf6944b76943bfa7badaecade%29%3B%0A%0A%20%20%20%20%20%20%20%20%20%20%20%20%0A%0A%20%20%20%20%20%20%20%20%0A%20%20%20%20%0A%20%20%20%20%20%20%20%20%20%20%20%20var%20tile_layer_fec4af5bf2ca4d02b6ce834728063b0d%20%3D%20L.tileLayer%28%0A%20%20%20%20%20%20%20%20%20%20%20%20%20%20%20%20%22https%3A//%7Bs%7D.tile.openstreetmap.org/%7Bz%7D/%7Bx%7D/%7By%7D.png%22%2C%0A%20%20%20%20%20%20%20%20%20%20%20%20%20%20%20%20%7B%22attribution%22%3A%20%22Data%20by%20%5Cu0026copy%3B%20%5Cu003ca%20href%3D%5C%22http%3A//openstreetmap.org%5C%22%5Cu003eOpenStreetMap%5Cu003c/a%5Cu003e%2C%20under%20%5Cu003ca%20href%3D%5C%22http%3A//www.openstreetmap.org/copyright%5C%22%5Cu003eODbL%5Cu003c/a%5Cu003e.%22%2C%20%22detectRetina%22%3A%20false%2C%20%22maxNativeZoom%22%3A%2018%2C%20%22maxZoom%22%3A%2018%2C%20%22minZoom%22%3A%200%2C%20%22noWrap%22%3A%20false%2C%20%22opacity%22%3A%201%2C%20%22subdomains%22%3A%20%22abc%22%2C%20%22tms%22%3A%20false%7D%0A%20%20%20%20%20%20%20%20%20%20%20%20%29.addTo%28map_472f26cbf6944b76943bfa7badaecade%29%3B%0A%20%20%20%20%20%20%20%20%0A%20%20%20%20%0A%20%20%20%20%20%20%20%20%20%20%20%20map_472f26cbf6944b76943bfa7badaecade.fitBounds%28%0A%20%20%20%20%20%20%20%20%20%20%20%20%20%20%20%20%5B%5B34.03859759000005%2C%20-118.46788173699997%5D%2C%20%5B34.04690452600005%2C%20-118.44728237099997%5D%5D%2C%0A%20%20%20%20%20%20%20%20%20%20%20%20%20%20%20%20%7B%7D%0A%20%20%20%20%20%20%20%20%20%20%20%20%29%3B%0A%20%20%20%20%20%20%20%20%0A%20%20%20%20%0A%20%20%20%20%20%20%20%20function%20geo_json_1f3bac0811bc407fa97e53866dd27182_styler%28feature%29%20%7B%0A%20%20%20%20%20%20%20%20%20%20%20%20switch%28feature.id%29%20%7B%0A%20%20%20%20%20%20%20%20%20%20%20%20%20%20%20%20default%3A%0A%20%20%20%20%20%20%20%20%20%20%20%20%20%20%20%20%20%20%20%20return%20%7B%22fillOpacity%22%3A%200.5%2C%20%22weight%22%3A%202%7D%3B%0A%20%20%20%20%20%20%20%20%20%20%20%20%7D%0A%20%20%20%20%20%20%20%20%7D%0A%20%20%20%20%20%20%20%20function%20geo_json_1f3bac0811bc407fa97e53866dd27182_highlighter%28feature%29%20%7B%0A%20%20%20%20%20%20%20%20%20%20%20%20switch%28feature.id%29%20%7B%0A%20%20%20%20%20%20%20%20%20%20%20%20%20%20%20%20default%3A%0A%20%20%20%20%20%20%20%20%20%20%20%20%20%20%20%20%20%20%20%20return%20%7B%22fillOpacity%22%3A%200.75%7D%3B%0A%20%20%20%20%20%20%20%20%20%20%20%20%7D%0A%20%20%20%20%20%20%20%20%7D%0A%20%20%20%20%20%20%20%20function%20geo_json_1f3bac0811bc407fa97e53866dd27182_pointToLayer%28feature%2C%20latlng%29%20%7B%0A%20%20%20%20%20%20%20%20%20%20%20%20var%20opts%20%3D%20%7B%22bubblingMouseEvents%22%3A%20true%2C%20%22color%22%3A%20%22%233388ff%22%2C%20%22dashArray%22%3A%20null%2C%20%22dashOffset%22%3A%20null%2C%20%22fill%22%3A%20true%2C%20%22fillColor%22%3A%20%22%233388ff%22%2C%20%22fillOpacity%22%3A%200.2%2C%20%22fillRule%22%3A%20%22evenodd%22%2C%20%22lineCap%22%3A%20%22round%22%2C%20%22lineJoin%22%3A%20%22round%22%2C%20%22opacity%22%3A%201.0%2C%20%22radius%22%3A%202%2C%20%22stroke%22%3A%20true%2C%20%22weight%22%3A%203%7D%3B%0A%20%20%20%20%20%20%20%20%20%20%20%20%0A%20%20%20%20%20%20%20%20%20%20%20%20let%20style%20%3D%20geo_json_1f3bac0811bc407fa97e53866dd27182_styler%28feature%29%0A%20%20%20%20%20%20%20%20%20%20%20%20Object.assign%28opts%2C%20style%29%0A%20%20%20%20%20%20%20%20%20%20%20%20%0A%20%20%20%20%20%20%20%20%20%20%20%20return%20new%20L.CircleMarker%28latlng%2C%20opts%29%0A%20%20%20%20%20%20%20%20%7D%0A%0A%20%20%20%20%20%20%20%20function%20geo_json_1f3bac0811bc407fa97e53866dd27182_onEachFeature%28feature%2C%20layer%29%20%7B%0A%20%20%20%20%20%20%20%20%20%20%20%20layer.on%28%7B%0A%20%20%20%20%20%20%20%20%20%20%20%20%20%20%20%20mouseout%3A%20function%28e%29%20%7B%0A%20%20%20%20%20%20%20%20%20%20%20%20%20%20%20%20%20%20%20%20if%28typeof%20e.target.setStyle%20%3D%3D%3D%20%22function%22%29%7B%0A%20%20%20%20%20%20%20%20%20%20%20%20%20%20%20%20%20%20%20%20%20%20%20%20geo_json_1f3bac0811bc407fa97e53866dd27182.resetStyle%28e.target%29%3B%0A%20%20%20%20%20%20%20%20%20%20%20%20%20%20%20%20%20%20%20%20%7D%0A%20%20%20%20%20%20%20%20%20%20%20%20%20%20%20%20%7D%2C%0A%20%20%20%20%20%20%20%20%20%20%20%20%20%20%20%20mouseover%3A%20function%28e%29%20%7B%0A%20%20%20%20%20%20%20%20%20%20%20%20%20%20%20%20%20%20%20%20if%28typeof%20e.target.setStyle%20%3D%3D%3D%20%22function%22%29%7B%0A%20%20%20%20%20%20%20%20%20%20%20%20%20%20%20%20%20%20%20%20%20%20%20%20const%20highlightStyle%20%3D%20geo_json_1f3bac0811bc407fa97e53866dd27182_highlighter%28e.target.feature%29%0A%20%20%20%20%20%20%20%20%20%20%20%20%20%20%20%20%20%20%20%20%20%20%20%20e.target.setStyle%28highlightStyle%29%3B%0A%20%20%20%20%20%20%20%20%20%20%20%20%20%20%20%20%20%20%20%20%7D%0A%20%20%20%20%20%20%20%20%20%20%20%20%20%20%20%20%7D%2C%0A%20%20%20%20%20%20%20%20%20%20%20%20%7D%29%3B%0A%20%20%20%20%20%20%20%20%7D%3B%0A%20%20%20%20%20%20%20%20var%20geo_json_1f3bac0811bc407fa97e53866dd27182%20%3D%20L.geoJson%28null%2C%20%7B%0A%20%20%20%20%20%20%20%20%20%20%20%20%20%20%20%20onEachFeature%3A%20geo_json_1f3bac0811bc407fa97e53866dd27182_onEachFeature%2C%0A%20%20%20%20%20%20%20%20%20%20%20%20%0A%20%20%20%20%20%20%20%20%20%20%20%20%20%20%20%20style%3A%20geo_json_1f3bac0811bc407fa97e53866dd27182_styler%2C%0A%20%20%20%20%20%20%20%20%20%20%20%20%20%20%20%20pointToLayer%3A%20geo_json_1f3bac0811bc407fa97e53866dd27182_pointToLayer%0A%20%20%20%20%20%20%20%20%7D%29%3B%0A%0A%20%20%20%20%20%20%20%20function%20geo_json_1f3bac0811bc407fa97e53866dd27182_add%20%28data%29%20%7B%0A%20%20%20%20%20%20%20%20%20%20%20%20geo_json_1f3bac0811bc407fa97e53866dd27182%0A%20%20%20%20%20%20%20%20%20%20%20%20%20%20%20%20.addData%28data%29%0A%20%20%20%20%20%20%20%20%20%20%20%20%20%20%20%20.addTo%28map_472f26cbf6944b76943bfa7badaecade%29%3B%0A%20%20%20%20%20%20%20%20%7D%0A%20%20%20%20%20%20%20%20%20%20%20%20geo_json_1f3bac0811bc407fa97e53866dd27182_add%28%7B%22bbox%22%3A%20%5B-118.46788173699997%2C%2034.03859759000005%2C%20-118.44728237099997%2C%2034.04690452600005%5D%2C%20%22features%22%3A%20%5B%7B%22bbox%22%3A%20%5B-118.46788173699997%2C%2034.03859759000005%2C%20-118.44728237099997%2C%2034.04690452600005%5D%2C%20%22geometry%22%3A%20%7B%22coordinates%22%3A%20%5B%5B-118.46788173699997%2C%2034.03859759000005%2C%200.0%5D%2C%20%5B-118.44728237099997%2C%2034.04690452600005%2C%200.0%5D%5D%2C%20%22type%22%3A%20%22LineString%22%7D%2C%20%22id%22%3A%20%2211%22%2C%20%22properties%22%3A%20%7B%22Bus_Brdng_Islnds%22%3A%20null%2C%20%22CT_District%22%3A%20%2207%22%2C%20%22Centerline_Miles%22%3A%201.4%2C%20%22County%22%3A%20%22LA%22%2C%20%22CreationDate%22%3A%201692996744000%2C%20%22EditDate%22%3A%201693421431000%2C%20%22Geom_Priority_Intervention_Type%22%3A%20%22Bus_Only_Lane_%28limited_hours%29%22%2C%20%22Imprv_Site_Amnts%22%3A%20null%2C%20%22Lyr%22%3A%20%22%5C%22Lns1%5C%22%22%2C%20%22OBJECTID%22%3A%2012%2C%20%22One_Side_Rdwy_Only%22%3A%20%22no%22%2C%20%22Priority_Intervention_Type_All%22%3A%20%22Bus_Only_Lane_%28limited_hours%29%22%2C%20%22Queue_Jumps%22%3A%20null%2C%20%22Route%22%3A%202%2C%20%22Scrs%22%3A%20%22SHOPP%22%2C%20%22Scrs_Link%22%3A%20%22http%3A//10.56.12.86/pirs/newlayout/index.cfm%3FselectEA%3D%5Cu0026EA%3D33360%22%2C%20%22Shape_Length%22%3A%200.022211237365575957%2C%20%22Submitter_Email%22%3A%20%22carlo.ramirez%40dot.ca.gov%22%2C%20%22Submitter_Name%22%3A%20%22Carlo%20Ramirez%20%22%2C%20%22Transit_Op_Support%22%3A%20%22yes%22%2C%20%22geo_comments%22%3A%20%22Project%20is%20part%20of%20SHOPP%20looking%20to%20add%20two%20lanes%20in%20both%20directions.%20One%20lane%20westbound%20and%20one%20lane%20eastbound%2C%20both%20operating%20in%20peak%20hours%2C%207%20am-9%20am%20and%204%20pm%20to%207%20pm.%20Area%20is%20very%20congested%2C%20due%20to%20high%20usage%20of%20work%20and%20residential%20commuters.%20Caltrans%20has%20worked%20with%20Santa%20Monica%20Big%20Blue%20Bus%20to%20alleviate%20congestion%20by%20operating%20transit%20in%20these%20peak%20hours.%20These%20bus%20lanes%20are%20a%20part%20of%20a%20segmented%20project.%20This%20is%20segment%20A.%20Segment%20C%20has%20been%20managed%20and%20fulfill%20by%20LA%20Metro%2C%20to%20include%20bus%20lanes.%20Segment%20B%20does%20not%20have%20bus%20only%20lane%20improvements.%20Potential%20funding%20could%20not%20only%20fulfill%20Segment%20A%20scope%20of%20work%2C%20but%20also%2C%20help%20amend%20the%20scope%20and%20add%20bus%20only%20lanes%20to%20Segment%20B.%20%20Segment%20A%20includes%20other%20pedestrian%20enhancements%2C%20such%20as%2C%20PHB%2C%20aka%2C%20HAWK%20system%28s%29.%20The%20project%20is%20RTL%20and%20has%20petitioned%20the%20CTC%20for%20more%20funding.%20This%20is%20a%20SHOPP%20Project%2C%20under%20the%20EA%2033360.%20%22%7D%2C%20%22type%22%3A%20%22Feature%22%7D%5D%2C%20%22type%22%3A%20%22FeatureCollection%22%7D%29%3B%0A%0A%20%20%20%20%20%20%20%20%0A%20%20%20%20%0A%20%20%20%20geo_json_1f3bac0811bc407fa97e53866dd27182.bindTooltip%28%0A%20%20%20%20function%28layer%29%7B%0A%20%20%20%20let%20div%20%3D%20L.DomUtil.create%28%27div%27%29%3B%0A%20%20%20%20%0A%20%20%20%20let%20handleObject%20%3D%20feature%3D%3Etypeof%28feature%29%3D%3D%27object%27%20%3F%20JSON.stringify%28feature%29%20%3A%20feature%3B%0A%20%20%20%20let%20fields%20%3D%20%5B%22OBJECTID%22%2C%20%22Submitter_Name%22%2C%20%22Submitter_Email%22%2C%20%22Priority_Intervention_Type_All%22%2C%20%22Scrs%22%2C%20%22Scrs_Link%22%2C%20%22Centerline_Miles%22%2C%20%22One_Side_Rdwy_Only%22%2C%20%22Queue_Jumps%22%2C%20%22Bus_Brdng_Islnds%22%2C%20%22Imprv_Site_Amnts%22%2C%20%22Transit_Op_Support%22%2C%20%22CT_District%22%2C%20%22County%22%2C%20%22Route%22%2C%20%22Geom_Priority_Intervention_Type%22%2C%20%22geo_comments%22%2C%20%22CreationDate%22%2C%20%22Lyr%22%2C%20%22EditDate%22%2C%20%22Shape_Length%22%5D%3B%0A%20%20%20%20let%20aliases%20%3D%20%5B%22OBJECTID%22%2C%20%22Submitter_Name%22%2C%20%22Submitter_Email%22%2C%20%22Priority_Intervention_Type_All%22%2C%20%22Scrs%22%2C%20%22Scrs_Link%22%2C%20%22Centerline_Miles%22%2C%20%22One_Side_Rdwy_Only%22%2C%20%22Queue_Jumps%22%2C%20%22Bus_Brdng_Islnds%22%2C%20%22Imprv_Site_Amnts%22%2C%20%22Transit_Op_Support%22%2C%20%22CT_District%22%2C%20%22County%22%2C%20%22Route%22%2C%20%22Geom_Priority_Intervention_Type%22%2C%20%22geo_comments%22%2C%20%22CreationDate%22%2C%20%22Lyr%22%2C%20%22EditDate%22%2C%20%22Shape_Length%22%5D%3B%0A%20%20%20%20let%20table%20%3D%20%27%3Ctable%3E%27%20%2B%0A%20%20%20%20%20%20%20%20String%28%0A%20%20%20%20%20%20%20%20fields.map%28%0A%20%20%20%20%20%20%20%20%28v%2Ci%29%3D%3E%0A%20%20%20%20%20%20%20%20%60%3Ctr%3E%0A%20%20%20%20%20%20%20%20%20%20%20%20%3Cth%3E%24%7Baliases%5Bi%5D%7D%3C/th%3E%0A%20%20%20%20%20%20%20%20%20%20%20%20%0A%20%20%20%20%20%20%20%20%20%20%20%20%3Ctd%3E%24%7BhandleObject%28layer.feature.properties%5Bv%5D%29%7D%3C/td%3E%0A%20%20%20%20%20%20%20%20%3C/tr%3E%60%29.join%28%27%27%29%29%0A%20%20%20%20%2B%27%3C/table%3E%27%3B%0A%20%20%20%20div.innerHTML%3Dtable%3B%0A%20%20%20%20%0A%20%20%20%20return%20div%0A%20%20%20%20%7D%0A%20%20%20%20%2C%7B%22className%22%3A%20%22foliumtooltip%22%2C%20%22sticky%22%3A%20true%7D%29%3B%0A%20%20%20%20%20%20%20%20%20%20%20%20%20%20%20%20%20%20%20%20%20%0A%3C/script%3E onload=\"this.contentDocument.open();this.contentDocument.write(    decodeURIComponent(this.getAttribute('data-html')));this.contentDocument.close();\" allowfullscreen webkitallowfullscreen mozallowfullscreen></iframe></div></div>"
      ],
      "text/plain": [
       "<folium.folium.Map at 0x7f0ee22fdf40>"
      ]
     },
     "execution_count": 45,
     "metadata": {},
     "output_type": "execute_result"
    }
   ],
   "source": [
    "line_priority.iloc[[11]].explore()"
   ]
  },
  {
   "cell_type": "code",
   "execution_count": 46,
   "id": "151c8ec1-dddd-456b-acd7-cb9d9f46a207",
   "metadata": {
    "tags": [
     "parameters"
    ]
   },
   "outputs": [],
   "source": [
    "## parameters cell\n",
    "itp_id = 182"
   ]
  },
  {
   "cell_type": "code",
   "execution_count": 47,
   "id": "521694b8-8428-4026-97ac-fa36f830ce31",
   "metadata": {},
   "outputs": [],
   "source": [
    "%%capture\n",
    "rt_day = rt_filter_map_plot.from_gcs(itp_id, analysis_date, pbar)"
   ]
  },
  {
   "cell_type": "code",
   "execution_count": 48,
   "id": "e693b1db-1fea-4856-9c83-1aefbd3b9592",
   "metadata": {},
   "outputs": [
    {
     "name": "stdout",
     "output_type": "stream",
     "text": [
      "{\"organization_name\": \"Los Angeles County Metropolitan Transportation Authority\"}\n"
     ]
    }
   ],
   "source": [
    "%%capture_parameters\n",
    "organization_name = rt_day.organization_name\n",
    "organization_name"
   ]
  },
  {
   "cell_type": "code",
   "execution_count": 49,
   "id": "2bd44c29-e032-4217-b1cc-030426de9080",
   "metadata": {},
   "outputs": [],
   "source": [
    "rt_day.set_filter(route_names = ['4'], start_time='07:00', end_time='09:00')"
   ]
  },
  {
   "cell_type": "code",
   "execution_count": 50,
   "id": "9f991e24-5891-4911-91f5-c2e12e24cefb",
   "metadata": {},
   "outputs": [],
   "source": [
    "_m = rt_day.segment_speed_map()"
   ]
  },
  {
   "cell_type": "code",
   "execution_count": 51,
   "id": "069a1125-0cfa-4d99-949d-f901721c1b99",
   "metadata": {},
   "outputs": [],
   "source": [
    "rt_day.autocorridor(shape_id = '40330_JUNE23', stop_seq_range = [7, 10])"
   ]
  },
  {
   "cell_type": "code",
   "execution_count": 52,
   "id": "b8367a1b-dde7-4b1a-8114-03574249c57e",
   "metadata": {},
   "outputs": [],
   "source": [
    "##TODO frequency improvements by period? midday speeds?"
   ]
  },
  {
   "cell_type": "code",
   "execution_count": 53,
   "id": "def2087c-75c9-4aa2-9c1b-73a3ffd167ca",
   "metadata": {},
   "outputs": [
    {
     "name": "stdout",
     "output_type": "stream",
     "text": [
      "metrics attached to self.corridor: \n"
     ]
    },
    {
     "data": {
      "text/html": [
       "<div>\n",
       "<style scoped>\n",
       "    .dataframe tbody tr th:only-of-type {\n",
       "        vertical-align: middle;\n",
       "    }\n",
       "\n",
       "    .dataframe tbody tr th {\n",
       "        vertical-align: top;\n",
       "    }\n",
       "\n",
       "    .dataframe thead th {\n",
       "        text-align: right;\n",
       "    }\n",
       "</style>\n",
       "<table border=\"1\" class=\"dataframe\">\n",
       "  <thead>\n",
       "    <tr style=\"text-align: right;\">\n",
       "      <th></th>\n",
       "      <th>route_id</th>\n",
       "      <th>route_short_name</th>\n",
       "      <th>organization</th>\n",
       "      <th>p20_corr_mph</th>\n",
       "      <th>p50_corr_mph</th>\n",
       "      <th>avg_corr_mph</th>\n",
       "      <th>speed_delay_minutes</th>\n",
       "      <th>total_speed_delay</th>\n",
       "      <th>p50_runtime_minutes</th>\n",
       "      <th>n_trips</th>\n",
       "      <th>span_hours</th>\n",
       "      <th>daily_avg_trips_hr</th>\n",
       "      <th>trips_added</th>\n",
       "      <th>new_avg_trips_hr</th>\n",
       "      <th>length_miles</th>\n",
       "      <th>distance_meters</th>\n",
       "      <th>target_mph</th>\n",
       "      <th>geometry</th>\n",
       "    </tr>\n",
       "  </thead>\n",
       "  <tbody>\n",
       "    <tr>\n",
       "      <th>0</th>\n",
       "      <td>4-13168</td>\n",
       "      <td>4</td>\n",
       "      <td>Los Angeles County Metropolitan Transportation...</td>\n",
       "      <td>4.7</td>\n",
       "      <td>11.1</td>\n",
       "      <td>9.3</td>\n",
       "      <td>94.2</td>\n",
       "      <td>94.2</td>\n",
       "      <td>96.2</td>\n",
       "      <td>33</td>\n",
       "      <td>2.3</td>\n",
       "      <td>7.2</td>\n",
       "      <td>1.0</td>\n",
       "      <td>7.4</td>\n",
       "      <td>1.2</td>\n",
       "      <td>1982.4</td>\n",
       "      <td>16</td>\n",
       "      <td>POLYGON ((140814.209 -441265.975, 140892.548 -...</td>\n",
       "    </tr>\n",
       "  </tbody>\n",
       "</table>\n",
       "</div>"
      ],
      "text/plain": [
       "  route_id route_short_name  \\\n",
       "0  4-13168                4   \n",
       "\n",
       "                                        organization  p20_corr_mph  \\\n",
       "0  Los Angeles County Metropolitan Transportation...           4.7   \n",
       "\n",
       "   p50_corr_mph  avg_corr_mph  speed_delay_minutes  total_speed_delay  \\\n",
       "0          11.1           9.3                 94.2               94.2   \n",
       "\n",
       "   p50_runtime_minutes  n_trips  span_hours  daily_avg_trips_hr  trips_added  \\\n",
       "0                 96.2       33         2.3                 7.2          1.0   \n",
       "\n",
       "   new_avg_trips_hr  length_miles  distance_meters  target_mph  \\\n",
       "0               7.4           1.2           1982.4          16   \n",
       "\n",
       "                                            geometry  \n",
       "0  POLYGON ((140814.209 -441265.975, 140892.548 -...  "
      ]
     },
     "execution_count": 53,
     "metadata": {},
     "output_type": "execute_result"
    }
   ],
   "source": [
    "rt_day.corridor_metrics()"
   ]
  },
  {
   "cell_type": "code",
   "execution_count": 54,
   "id": "653ff460-ed40-4b09-a5bb-fce29833f477",
   "metadata": {},
   "outputs": [],
   "source": [
    "all_corridors = []"
   ]
  },
  {
   "cell_type": "code",
   "execution_count": 55,
   "id": "8b8f2bb7-c7ab-4a28-bd5e-ae71d3f25b48",
   "metadata": {},
   "outputs": [],
   "source": [
    "rt_day.corridor['corridor'] = 'sr2_am'"
   ]
  },
  {
   "cell_type": "code",
   "execution_count": 56,
   "id": "71a5f1bb-0c4d-45fe-919b-5a0ce36c29b3",
   "metadata": {},
   "outputs": [],
   "source": [
    "all_corridors += [rt_day.corridor]"
   ]
  },
  {
   "cell_type": "code",
   "execution_count": 57,
   "id": "2754798e-4c6b-4640-8b0d-d5d1392dcbb3",
   "metadata": {},
   "outputs": [],
   "source": [
    "rt_day.set_filter(route_names = ['4'], start_time='16:00', end_time='19:00')"
   ]
  },
  {
   "cell_type": "code",
   "execution_count": 58,
   "id": "ab8466ec-a07e-4963-b89b-5528fe74ddbf",
   "metadata": {},
   "outputs": [],
   "source": [
    "_m = rt_day.segment_speed_map()"
   ]
  },
  {
   "cell_type": "code",
   "execution_count": 59,
   "id": "01fe319b-7b21-4f97-a43a-2d5be05bd5e8",
   "metadata": {},
   "outputs": [],
   "source": [
    "rt_day.autocorridor(shape_id = '40324_JUNE23', stop_seq_range = [6.5, 10])"
   ]
  },
  {
   "cell_type": "code",
   "execution_count": 60,
   "id": "5ca61d1a-63b6-4b1b-ad9d-7c93834ce5ec",
   "metadata": {},
   "outputs": [
    {
     "name": "stdout",
     "output_type": "stream",
     "text": [
      "metrics attached to self.corridor: \n"
     ]
    },
    {
     "data": {
      "text/html": [
       "<div>\n",
       "<style scoped>\n",
       "    .dataframe tbody tr th:only-of-type {\n",
       "        vertical-align: middle;\n",
       "    }\n",
       "\n",
       "    .dataframe tbody tr th {\n",
       "        vertical-align: top;\n",
       "    }\n",
       "\n",
       "    .dataframe thead th {\n",
       "        text-align: right;\n",
       "    }\n",
       "</style>\n",
       "<table border=\"1\" class=\"dataframe\">\n",
       "  <thead>\n",
       "    <tr style=\"text-align: right;\">\n",
       "      <th></th>\n",
       "      <th>route_id</th>\n",
       "      <th>route_short_name</th>\n",
       "      <th>organization</th>\n",
       "      <th>p20_corr_mph</th>\n",
       "      <th>p50_corr_mph</th>\n",
       "      <th>avg_corr_mph</th>\n",
       "      <th>speed_delay_minutes</th>\n",
       "      <th>total_speed_delay</th>\n",
       "      <th>p50_runtime_minutes</th>\n",
       "      <th>n_trips</th>\n",
       "      <th>span_hours</th>\n",
       "      <th>daily_avg_trips_hr</th>\n",
       "      <th>trips_added</th>\n",
       "      <th>new_avg_trips_hr</th>\n",
       "      <th>length_miles</th>\n",
       "      <th>distance_meters</th>\n",
       "      <th>target_mph</th>\n",
       "      <th>geometry</th>\n",
       "    </tr>\n",
       "  </thead>\n",
       "  <tbody>\n",
       "    <tr>\n",
       "      <th>0</th>\n",
       "      <td>4-13168</td>\n",
       "      <td>4</td>\n",
       "      <td>Los Angeles County Metropolitan Transportation...</td>\n",
       "      <td>4.9</td>\n",
       "      <td>6.8</td>\n",
       "      <td>7.9</td>\n",
       "      <td>342.4</td>\n",
       "      <td>342.4</td>\n",
       "      <td>153.5</td>\n",
       "      <td>42</td>\n",
       "      <td>3.1</td>\n",
       "      <td>6.7</td>\n",
       "      <td>2.2</td>\n",
       "      <td>7.1</td>\n",
       "      <td>1.3</td>\n",
       "      <td>2105.6</td>\n",
       "      <td>16</td>\n",
       "      <td>POLYGON ((140814.209 -441265.975, 140892.548 -...</td>\n",
       "    </tr>\n",
       "  </tbody>\n",
       "</table>\n",
       "</div>"
      ],
      "text/plain": [
       "  route_id route_short_name  \\\n",
       "0  4-13168                4   \n",
       "\n",
       "                                        organization  p20_corr_mph  \\\n",
       "0  Los Angeles County Metropolitan Transportation...           4.9   \n",
       "\n",
       "   p50_corr_mph  avg_corr_mph  speed_delay_minutes  total_speed_delay  \\\n",
       "0           6.8           7.9                342.4              342.4   \n",
       "\n",
       "   p50_runtime_minutes  n_trips  span_hours  daily_avg_trips_hr  trips_added  \\\n",
       "0                153.5       42         3.1                 6.7          2.2   \n",
       "\n",
       "   new_avg_trips_hr  length_miles  distance_meters  target_mph  \\\n",
       "0               7.1           1.3           2105.6          16   \n",
       "\n",
       "                                            geometry  \n",
       "0  POLYGON ((140814.209 -441265.975, 140892.548 -...  "
      ]
     },
     "execution_count": 60,
     "metadata": {},
     "output_type": "execute_result"
    }
   ],
   "source": [
    "rt_day.corridor_metrics()"
   ]
  },
  {
   "cell_type": "code",
   "execution_count": 61,
   "id": "21a765ba-85da-4029-bb65-ba80a46cc454",
   "metadata": {},
   "outputs": [],
   "source": [
    "rt_day.corridor['corridor'] = 'sr2_pm'"
   ]
  },
  {
   "cell_type": "code",
   "execution_count": 62,
   "id": "ec994c13-d7b8-47d1-b9b3-5beb316874d7",
   "metadata": {},
   "outputs": [],
   "source": [
    "all_corridors += [rt_day.corridor]"
   ]
  },
  {
   "cell_type": "markdown",
   "id": "ad574392-0c4d-4c71-9bc1-45511b1daedc",
   "metadata": {},
   "source": [
    "### midday improvements..."
   ]
  },
  {
   "cell_type": "code",
   "execution_count": 63,
   "id": "75f0ce81-d5e3-4fc3-a5d3-8ab77f27d019",
   "metadata": {},
   "outputs": [],
   "source": [
    "rt_day.set_filter(route_names = ['4'], start_time='09:00', end_time='16:00')"
   ]
  },
  {
   "cell_type": "code",
   "execution_count": 64,
   "id": "e79c414e-4b22-4d0e-b1f5-965caa4156e2",
   "metadata": {},
   "outputs": [],
   "source": [
    "_m = rt_day.segment_speed_map()"
   ]
  },
  {
   "cell_type": "code",
   "execution_count": 65,
   "id": "3baa8ac2-cf89-4e92-9bef-2d5ab6aca7da",
   "metadata": {},
   "outputs": [],
   "source": [
    "rt_day.autocorridor(shape_id = '40323_JUNE23', stop_seq_range = [6.5, 10])"
   ]
  },
  {
   "cell_type": "code",
   "execution_count": 66,
   "id": "77447002-9a5b-4297-a493-391e8d2db4b9",
   "metadata": {},
   "outputs": [
    {
     "name": "stdout",
     "output_type": "stream",
     "text": [
      "metrics attached to self.corridor: \n"
     ]
    },
    {
     "data": {
      "text/html": [
       "<div>\n",
       "<style scoped>\n",
       "    .dataframe tbody tr th:only-of-type {\n",
       "        vertical-align: middle;\n",
       "    }\n",
       "\n",
       "    .dataframe tbody tr th {\n",
       "        vertical-align: top;\n",
       "    }\n",
       "\n",
       "    .dataframe thead th {\n",
       "        text-align: right;\n",
       "    }\n",
       "</style>\n",
       "<table border=\"1\" class=\"dataframe\">\n",
       "  <thead>\n",
       "    <tr style=\"text-align: right;\">\n",
       "      <th></th>\n",
       "      <th>route_id</th>\n",
       "      <th>route_short_name</th>\n",
       "      <th>organization</th>\n",
       "      <th>p20_corr_mph</th>\n",
       "      <th>p50_corr_mph</th>\n",
       "      <th>avg_corr_mph</th>\n",
       "      <th>speed_delay_minutes</th>\n",
       "      <th>total_speed_delay</th>\n",
       "      <th>p50_runtime_minutes</th>\n",
       "      <th>n_trips</th>\n",
       "      <th>span_hours</th>\n",
       "      <th>daily_avg_trips_hr</th>\n",
       "      <th>trips_added</th>\n",
       "      <th>new_avg_trips_hr</th>\n",
       "      <th>length_miles</th>\n",
       "      <th>distance_meters</th>\n",
       "      <th>target_mph</th>\n",
       "      <th>geometry</th>\n",
       "    </tr>\n",
       "  </thead>\n",
       "  <tbody>\n",
       "    <tr>\n",
       "      <th>0</th>\n",
       "      <td>4-13168</td>\n",
       "      <td>4</td>\n",
       "      <td>Los Angeles County Metropolitan Transportation...</td>\n",
       "      <td>3.4</td>\n",
       "      <td>8.8</td>\n",
       "      <td>7.8</td>\n",
       "      <td>685.4</td>\n",
       "      <td>685.4</td>\n",
       "      <td>131.2</td>\n",
       "      <td>111</td>\n",
       "      <td>6.9</td>\n",
       "      <td>8.0</td>\n",
       "      <td>5.2</td>\n",
       "      <td>8.4</td>\n",
       "      <td>1.3</td>\n",
       "      <td>2105.6</td>\n",
       "      <td>16</td>\n",
       "      <td>POLYGON ((140814.209 -441265.975, 140892.548 -...</td>\n",
       "    </tr>\n",
       "  </tbody>\n",
       "</table>\n",
       "</div>"
      ],
      "text/plain": [
       "  route_id route_short_name  \\\n",
       "0  4-13168                4   \n",
       "\n",
       "                                        organization  p20_corr_mph  \\\n",
       "0  Los Angeles County Metropolitan Transportation...           3.4   \n",
       "\n",
       "   p50_corr_mph  avg_corr_mph  speed_delay_minutes  total_speed_delay  \\\n",
       "0           8.8           7.8                685.4              685.4   \n",
       "\n",
       "   p50_runtime_minutes  n_trips  span_hours  daily_avg_trips_hr  trips_added  \\\n",
       "0                131.2      111         6.9                 8.0          5.2   \n",
       "\n",
       "   new_avg_trips_hr  length_miles  distance_meters  target_mph  \\\n",
       "0               8.4           1.3           2105.6          16   \n",
       "\n",
       "                                            geometry  \n",
       "0  POLYGON ((140814.209 -441265.975, 140892.548 -...  "
      ]
     },
     "execution_count": 66,
     "metadata": {},
     "output_type": "execute_result"
    }
   ],
   "source": [
    "rt_day.corridor_metrics()"
   ]
  },
  {
   "cell_type": "code",
   "execution_count": 67,
   "id": "d65b6675-b541-4f6e-a7c0-3313e41be53c",
   "metadata": {},
   "outputs": [],
   "source": [
    "rt_day.corridor['corridor'] = 'sr2_mid'"
   ]
  },
  {
   "cell_type": "code",
   "execution_count": 68,
   "id": "0219c354-8c15-4769-ba72-9ff57dfe78e0",
   "metadata": {},
   "outputs": [],
   "source": [
    "all_corridors += [rt_day.corridor]"
   ]
  },
  {
   "cell_type": "markdown",
   "id": "aad9473a-e22d-4444-a721-8bfe132eafe5",
   "metadata": {},
   "source": [
    "### eve improvements..."
   ]
  },
  {
   "cell_type": "code",
   "execution_count": 69,
   "id": "7dc756db-2413-4d22-8eb6-3ce92cec1928",
   "metadata": {},
   "outputs": [],
   "source": [
    "rt_day.set_filter(route_names = ['4'], start_time='19:00')"
   ]
  },
  {
   "cell_type": "code",
   "execution_count": 70,
   "id": "8a37a005-097f-461c-a41c-7ccbe2e04afb",
   "metadata": {},
   "outputs": [],
   "source": [
    "_m = rt_day.segment_speed_map()"
   ]
  },
  {
   "cell_type": "code",
   "execution_count": 71,
   "id": "5a44752e-5bbf-4a6c-9b94-4ecbe536f3f9",
   "metadata": {},
   "outputs": [],
   "source": [
    "rt_day.autocorridor(shape_id = '40323_JUNE23', stop_seq_range = [6.5, 10])"
   ]
  },
  {
   "cell_type": "code",
   "execution_count": 72,
   "id": "32cc67d6-698d-4c6a-b381-2ba8282d2524",
   "metadata": {},
   "outputs": [
    {
     "name": "stdout",
     "output_type": "stream",
     "text": [
      "metrics attached to self.corridor: \n"
     ]
    },
    {
     "data": {
      "text/html": [
       "<div>\n",
       "<style scoped>\n",
       "    .dataframe tbody tr th:only-of-type {\n",
       "        vertical-align: middle;\n",
       "    }\n",
       "\n",
       "    .dataframe tbody tr th {\n",
       "        vertical-align: top;\n",
       "    }\n",
       "\n",
       "    .dataframe thead th {\n",
       "        text-align: right;\n",
       "    }\n",
       "</style>\n",
       "<table border=\"1\" class=\"dataframe\">\n",
       "  <thead>\n",
       "    <tr style=\"text-align: right;\">\n",
       "      <th></th>\n",
       "      <th>route_id</th>\n",
       "      <th>route_short_name</th>\n",
       "      <th>organization</th>\n",
       "      <th>p20_corr_mph</th>\n",
       "      <th>p50_corr_mph</th>\n",
       "      <th>avg_corr_mph</th>\n",
       "      <th>speed_delay_minutes</th>\n",
       "      <th>total_speed_delay</th>\n",
       "      <th>p50_runtime_minutes</th>\n",
       "      <th>n_trips</th>\n",
       "      <th>span_hours</th>\n",
       "      <th>daily_avg_trips_hr</th>\n",
       "      <th>trips_added</th>\n",
       "      <th>new_avg_trips_hr</th>\n",
       "      <th>length_miles</th>\n",
       "      <th>distance_meters</th>\n",
       "      <th>target_mph</th>\n",
       "      <th>geometry</th>\n",
       "    </tr>\n",
       "  </thead>\n",
       "  <tbody>\n",
       "    <tr>\n",
       "      <th>0</th>\n",
       "      <td>4-13168</td>\n",
       "      <td>4</td>\n",
       "      <td>Los Angeles County Metropolitan Transportation...</td>\n",
       "      <td>10.2</td>\n",
       "      <td>13.5</td>\n",
       "      <td>13.2</td>\n",
       "      <td>89.8</td>\n",
       "      <td>89.8</td>\n",
       "      <td>98.7</td>\n",
       "      <td>23</td>\n",
       "      <td>2.6</td>\n",
       "      <td>4.5</td>\n",
       "      <td>0.9</td>\n",
       "      <td>4.6</td>\n",
       "      <td>1.3</td>\n",
       "      <td>2105.6</td>\n",
       "      <td>16</td>\n",
       "      <td>POLYGON ((140814.209 -441265.975, 140892.548 -...</td>\n",
       "    </tr>\n",
       "  </tbody>\n",
       "</table>\n",
       "</div>"
      ],
      "text/plain": [
       "  route_id route_short_name  \\\n",
       "0  4-13168                4   \n",
       "\n",
       "                                        organization  p20_corr_mph  \\\n",
       "0  Los Angeles County Metropolitan Transportation...          10.2   \n",
       "\n",
       "   p50_corr_mph  avg_corr_mph  speed_delay_minutes  total_speed_delay  \\\n",
       "0          13.5          13.2                 89.8               89.8   \n",
       "\n",
       "   p50_runtime_minutes  n_trips  span_hours  daily_avg_trips_hr  trips_added  \\\n",
       "0                 98.7       23         2.6                 4.5          0.9   \n",
       "\n",
       "   new_avg_trips_hr  length_miles  distance_meters  target_mph  \\\n",
       "0               4.6           1.3           2105.6          16   \n",
       "\n",
       "                                            geometry  \n",
       "0  POLYGON ((140814.209 -441265.975, 140892.548 -...  "
      ]
     },
     "execution_count": 72,
     "metadata": {},
     "output_type": "execute_result"
    }
   ],
   "source": [
    "rt_day.corridor_metrics()"
   ]
  },
  {
   "cell_type": "code",
   "execution_count": 73,
   "id": "d94dcd35-16f2-4ae3-bae7-1d4bd9c58e17",
   "metadata": {},
   "outputs": [],
   "source": [
    "rt_day.corridor['corridor'] = 'sr2_eve'"
   ]
  },
  {
   "cell_type": "code",
   "execution_count": 74,
   "id": "ae971061-68c8-4c01-9d34-8c04f3ee8d7f",
   "metadata": {},
   "outputs": [],
   "source": [
    "all_corridors += [rt_day.corridor]"
   ]
  },
  {
   "cell_type": "markdown",
   "id": "ff99e7d3-e433-407c-a700-37ad1de5dc38",
   "metadata": {},
   "source": [
    "### early am improvements..."
   ]
  },
  {
   "cell_type": "code",
   "execution_count": 75,
   "id": "b0ce0dac-8a75-4933-a77d-121f5cd04e67",
   "metadata": {},
   "outputs": [],
   "source": [
    "rt_day.set_filter(route_names = ['4'], end_time='07:00')"
   ]
  },
  {
   "cell_type": "code",
   "execution_count": 76,
   "id": "bb978289-28d9-4e25-bf8c-e02d26db9b13",
   "metadata": {},
   "outputs": [],
   "source": [
    "_m = rt_day.segment_speed_map()"
   ]
  },
  {
   "cell_type": "code",
   "execution_count": 77,
   "id": "cd316197-b7b9-4652-8367-4975924b15bc",
   "metadata": {},
   "outputs": [],
   "source": [
    "rt_day.autocorridor(shape_id = '40323_JUNE23', stop_seq_range = [6.5, 10])"
   ]
  },
  {
   "cell_type": "code",
   "execution_count": 78,
   "id": "52b86208-acec-4fea-a16d-8431b733c637",
   "metadata": {},
   "outputs": [
    {
     "name": "stdout",
     "output_type": "stream",
     "text": [
      "metrics attached to self.corridor: \n"
     ]
    },
    {
     "data": {
      "text/html": [
       "<div>\n",
       "<style scoped>\n",
       "    .dataframe tbody tr th:only-of-type {\n",
       "        vertical-align: middle;\n",
       "    }\n",
       "\n",
       "    .dataframe tbody tr th {\n",
       "        vertical-align: top;\n",
       "    }\n",
       "\n",
       "    .dataframe thead th {\n",
       "        text-align: right;\n",
       "    }\n",
       "</style>\n",
       "<table border=\"1\" class=\"dataframe\">\n",
       "  <thead>\n",
       "    <tr style=\"text-align: right;\">\n",
       "      <th></th>\n",
       "      <th>route_id</th>\n",
       "      <th>route_short_name</th>\n",
       "      <th>organization</th>\n",
       "      <th>p20_corr_mph</th>\n",
       "      <th>p50_corr_mph</th>\n",
       "      <th>avg_corr_mph</th>\n",
       "      <th>speed_delay_minutes</th>\n",
       "      <th>total_speed_delay</th>\n",
       "      <th>p50_runtime_minutes</th>\n",
       "      <th>n_trips</th>\n",
       "      <th>span_hours</th>\n",
       "      <th>daily_avg_trips_hr</th>\n",
       "      <th>trips_added</th>\n",
       "      <th>new_avg_trips_hr</th>\n",
       "      <th>length_miles</th>\n",
       "      <th>distance_meters</th>\n",
       "      <th>target_mph</th>\n",
       "      <th>geometry</th>\n",
       "    </tr>\n",
       "  </thead>\n",
       "  <tbody>\n",
       "    <tr>\n",
       "      <th>0</th>\n",
       "      <td>4-13168</td>\n",
       "      <td>4</td>\n",
       "      <td>Los Angeles County Metropolitan Transportation...</td>\n",
       "      <td>12.9</td>\n",
       "      <td>15.6</td>\n",
       "      <td>15.9</td>\n",
       "      <td>4.1</td>\n",
       "      <td>4.1</td>\n",
       "      <td>62.8</td>\n",
       "      <td>14</td>\n",
       "      <td>1.0</td>\n",
       "      <td>7.2</td>\n",
       "      <td>0.1</td>\n",
       "      <td>7.0</td>\n",
       "      <td>1.3</td>\n",
       "      <td>2105.6</td>\n",
       "      <td>16</td>\n",
       "      <td>POLYGON ((140814.209 -441265.975, 140892.548 -...</td>\n",
       "    </tr>\n",
       "  </tbody>\n",
       "</table>\n",
       "</div>"
      ],
      "text/plain": [
       "  route_id route_short_name  \\\n",
       "0  4-13168                4   \n",
       "\n",
       "                                        organization  p20_corr_mph  \\\n",
       "0  Los Angeles County Metropolitan Transportation...          12.9   \n",
       "\n",
       "   p50_corr_mph  avg_corr_mph  speed_delay_minutes  total_speed_delay  \\\n",
       "0          15.6          15.9                  4.1                4.1   \n",
       "\n",
       "   p50_runtime_minutes  n_trips  span_hours  daily_avg_trips_hr  trips_added  \\\n",
       "0                 62.8       14         1.0                 7.2          0.1   \n",
       "\n",
       "   new_avg_trips_hr  length_miles  distance_meters  target_mph  \\\n",
       "0               7.0           1.3           2105.6          16   \n",
       "\n",
       "                                            geometry  \n",
       "0  POLYGON ((140814.209 -441265.975, 140892.548 -...  "
      ]
     },
     "execution_count": 78,
     "metadata": {},
     "output_type": "execute_result"
    }
   ],
   "source": [
    "rt_day.corridor_metrics()"
   ]
  },
  {
   "cell_type": "code",
   "execution_count": 79,
   "id": "c6b92f2e-491d-447b-8099-dad9de2c7df3",
   "metadata": {},
   "outputs": [],
   "source": [
    "rt_day.corridor['corridor'] = 'sr2_early_am'"
   ]
  },
  {
   "cell_type": "code",
   "execution_count": 80,
   "id": "4bb5d048-c56c-4a82-ab88-4c1099d3f6e3",
   "metadata": {},
   "outputs": [],
   "source": [
    "all_corridors += [rt_day.corridor]"
   ]
  },
  {
   "cell_type": "markdown",
   "id": "c0525bf1-8549-46e3-b602-320c896d9381",
   "metadata": {
    "tags": []
   },
   "source": [
    "## 6 AC Transit (Bus Lane)"
   ]
  },
  {
   "cell_type": "code",
   "execution_count": 81,
   "id": "c9c3cfe2-d588-4593-ac89-250de7c09b90",
   "metadata": {},
   "outputs": [
    {
     "data": {
      "text/html": [
       "<div>\n",
       "<style scoped>\n",
       "    .dataframe tbody tr th:only-of-type {\n",
       "        vertical-align: middle;\n",
       "    }\n",
       "\n",
       "    .dataframe tbody tr th {\n",
       "        vertical-align: top;\n",
       "    }\n",
       "\n",
       "    .dataframe thead th {\n",
       "        text-align: right;\n",
       "    }\n",
       "</style>\n",
       "<table border=\"1\" class=\"dataframe\">\n",
       "  <thead>\n",
       "    <tr style=\"text-align: right;\">\n",
       "      <th></th>\n",
       "      <th>OBJECTID</th>\n",
       "      <th>Submitter_Name</th>\n",
       "      <th>Submitter_Email</th>\n",
       "      <th>Priority_Intervention_Type_All</th>\n",
       "      <th>Scrs</th>\n",
       "      <th>Scrs_Link</th>\n",
       "      <th>Centerline_Miles</th>\n",
       "      <th>One_Side_Rdwy_Only</th>\n",
       "      <th>Queue_Jumps</th>\n",
       "      <th>Bus_Brdng_Islnds</th>\n",
       "      <th>...</th>\n",
       "      <th>CT_District</th>\n",
       "      <th>County</th>\n",
       "      <th>Route</th>\n",
       "      <th>Geom_Priority_Intervention_Type</th>\n",
       "      <th>geo_comments</th>\n",
       "      <th>CreationDate</th>\n",
       "      <th>Lyr</th>\n",
       "      <th>EditDate</th>\n",
       "      <th>Shape_Length</th>\n",
       "      <th>geometry</th>\n",
       "    </tr>\n",
       "  </thead>\n",
       "  <tbody>\n",
       "    <tr>\n",
       "      <th>6</th>\n",
       "      <td>7</td>\n",
       "      <td>Sergio, Ruiz</td>\n",
       "      <td>sergio.ruiz@dot.ca.gov</td>\n",
       "      <td>Bus_Only_Lane_(full-time),Bus_Boarding_Islands</td>\n",
       "      <td>San Pablo Avenue Corridor Project - Bus and Bi...</td>\n",
       "      <td>https://www.alamedactc.org/programs-projects/m...</td>\n",
       "      <td>1.7</td>\n",
       "      <td>no</td>\n",
       "      <td>NaN</td>\n",
       "      <td>14.0</td>\n",
       "      <td>...</td>\n",
       "      <td>04</td>\n",
       "      <td>ALA</td>\n",
       "      <td>123</td>\n",
       "      <td>Bus_Only_Lane_(full-time)</td>\n",
       "      <td>Showing SB bus only lane within Caltrans ROW o...</td>\n",
       "      <td>1693010677000</td>\n",
       "      <td>\"Lns2\"</td>\n",
       "      <td>1693421427000</td>\n",
       "      <td>0.025148</td>\n",
       "      <td>LINESTRING Z (-122.27921 37.82873 0.00000, -12...</td>\n",
       "    </tr>\n",
       "  </tbody>\n",
       "</table>\n",
       "<p>1 rows × 22 columns</p>\n",
       "</div>"
      ],
      "text/plain": [
       "   OBJECTID Submitter_Name         Submitter_Email  \\\n",
       "6         7   Sergio, Ruiz  sergio.ruiz@dot.ca.gov   \n",
       "\n",
       "                   Priority_Intervention_Type_All  \\\n",
       "6  Bus_Only_Lane_(full-time),Bus_Boarding_Islands   \n",
       "\n",
       "                                                Scrs  \\\n",
       "6  San Pablo Avenue Corridor Project - Bus and Bi...   \n",
       "\n",
       "                                           Scrs_Link  Centerline_Miles  \\\n",
       "6  https://www.alamedactc.org/programs-projects/m...               1.7   \n",
       "\n",
       "  One_Side_Rdwy_Only  Queue_Jumps  Bus_Brdng_Islnds  ...  CT_District County  \\\n",
       "6                 no          NaN              14.0  ...           04    ALA   \n",
       "\n",
       "  Route Geom_Priority_Intervention_Type  \\\n",
       "6   123       Bus_Only_Lane_(full-time)   \n",
       "\n",
       "                                        geo_comments   CreationDate     Lyr  \\\n",
       "6  Showing SB bus only lane within Caltrans ROW o...  1693010677000  \"Lns2\"   \n",
       "\n",
       "        EditDate Shape_Length  \\\n",
       "6  1693421427000     0.025148   \n",
       "\n",
       "                                            geometry  \n",
       "6  LINESTRING Z (-122.27921 37.82873 0.00000, -12...  \n",
       "\n",
       "[1 rows x 22 columns]"
      ]
     },
     "execution_count": 81,
     "metadata": {},
     "output_type": "execute_result"
    }
   ],
   "source": [
    "line_priority.iloc[[6]]"
   ]
  },
  {
   "cell_type": "code",
   "execution_count": 82,
   "id": "91877c20-700b-44fe-b33a-736429d35488",
   "metadata": {},
   "outputs": [
    {
     "data": {
      "text/plain": [
       "'Showing SB bus only lane within Caltrans ROW only. Project extends south to Thomas L. Berkeley Way in Oakland.'"
      ]
     },
     "execution_count": 82,
     "metadata": {},
     "output_type": "execute_result"
    }
   ],
   "source": [
    "line_priority.iloc[[6]].geo_comments.iloc[0]"
   ]
  },
  {
   "cell_type": "code",
   "execution_count": 83,
   "id": "03438df6-f3e1-45b7-a27d-8d98ac6c217e",
   "metadata": {},
   "outputs": [
    {
     "data": {
      "text/html": [
       "<div style=\"width:100%;\"><div style=\"position:relative;width:100%;height:0;padding-bottom:60%;\"><span style=\"color:#565656\">Make this Notebook Trusted to load map: File -> Trust Notebook</span><iframe src=\"about:blank\" style=\"position:absolute;width:100%;height:100%;left:0;top:0;border:none !important;\" data-html=%3C%21DOCTYPE%20html%3E%0A%3Chead%3E%20%20%20%20%0A%20%20%20%20%3Cmeta%20http-equiv%3D%22content-type%22%20content%3D%22text/html%3B%20charset%3DUTF-8%22%20/%3E%0A%20%20%20%20%0A%20%20%20%20%20%20%20%20%3Cscript%3E%0A%20%20%20%20%20%20%20%20%20%20%20%20L_NO_TOUCH%20%3D%20false%3B%0A%20%20%20%20%20%20%20%20%20%20%20%20L_DISABLE_3D%20%3D%20false%3B%0A%20%20%20%20%20%20%20%20%3C/script%3E%0A%20%20%20%20%0A%20%20%20%20%3Cstyle%3Ehtml%2C%20body%20%7Bwidth%3A%20100%25%3Bheight%3A%20100%25%3Bmargin%3A%200%3Bpadding%3A%200%3B%7D%3C/style%3E%0A%20%20%20%20%3Cstyle%3E%23map%20%7Bposition%3Aabsolute%3Btop%3A0%3Bbottom%3A0%3Bright%3A0%3Bleft%3A0%3B%7D%3C/style%3E%0A%20%20%20%20%3Cscript%20src%3D%22https%3A//cdn.jsdelivr.net/npm/leaflet%401.6.0/dist/leaflet.js%22%3E%3C/script%3E%0A%20%20%20%20%3Cscript%20src%3D%22https%3A//code.jquery.com/jquery-1.12.4.min.js%22%3E%3C/script%3E%0A%20%20%20%20%3Cscript%20src%3D%22https%3A//maxcdn.bootstrapcdn.com/bootstrap/3.2.0/js/bootstrap.min.js%22%3E%3C/script%3E%0A%20%20%20%20%3Cscript%20src%3D%22https%3A//cdnjs.cloudflare.com/ajax/libs/Leaflet.awesome-markers/2.0.2/leaflet.awesome-markers.js%22%3E%3C/script%3E%0A%20%20%20%20%3Clink%20rel%3D%22stylesheet%22%20href%3D%22https%3A//cdn.jsdelivr.net/npm/leaflet%401.6.0/dist/leaflet.css%22/%3E%0A%20%20%20%20%3Clink%20rel%3D%22stylesheet%22%20href%3D%22https%3A//maxcdn.bootstrapcdn.com/bootstrap/3.2.0/css/bootstrap.min.css%22/%3E%0A%20%20%20%20%3Clink%20rel%3D%22stylesheet%22%20href%3D%22https%3A//maxcdn.bootstrapcdn.com/bootstrap/3.2.0/css/bootstrap-theme.min.css%22/%3E%0A%20%20%20%20%3Clink%20rel%3D%22stylesheet%22%20href%3D%22https%3A//maxcdn.bootstrapcdn.com/font-awesome/4.6.3/css/font-awesome.min.css%22/%3E%0A%20%20%20%20%3Clink%20rel%3D%22stylesheet%22%20href%3D%22https%3A//cdnjs.cloudflare.com/ajax/libs/Leaflet.awesome-markers/2.0.2/leaflet.awesome-markers.css%22/%3E%0A%20%20%20%20%3Clink%20rel%3D%22stylesheet%22%20href%3D%22https%3A//cdn.jsdelivr.net/gh/python-visualization/folium/folium/templates/leaflet.awesome.rotate.min.css%22/%3E%0A%20%20%20%20%0A%20%20%20%20%20%20%20%20%20%20%20%20%3Cmeta%20name%3D%22viewport%22%20content%3D%22width%3Ddevice-width%2C%0A%20%20%20%20%20%20%20%20%20%20%20%20%20%20%20%20initial-scale%3D1.0%2C%20maximum-scale%3D1.0%2C%20user-scalable%3Dno%22%20/%3E%0A%20%20%20%20%20%20%20%20%20%20%20%20%3Cstyle%3E%0A%20%20%20%20%20%20%20%20%20%20%20%20%20%20%20%20%23map_8a2728b0125a450aa9f0abed214b65e8%20%7B%0A%20%20%20%20%20%20%20%20%20%20%20%20%20%20%20%20%20%20%20%20position%3A%20relative%3B%0A%20%20%20%20%20%20%20%20%20%20%20%20%20%20%20%20%20%20%20%20width%3A%20100.0%25%3B%0A%20%20%20%20%20%20%20%20%20%20%20%20%20%20%20%20%20%20%20%20height%3A%20100.0%25%3B%0A%20%20%20%20%20%20%20%20%20%20%20%20%20%20%20%20%20%20%20%20left%3A%200.0%25%3B%0A%20%20%20%20%20%20%20%20%20%20%20%20%20%20%20%20%20%20%20%20top%3A%200.0%25%3B%0A%20%20%20%20%20%20%20%20%20%20%20%20%20%20%20%20%7D%0A%20%20%20%20%20%20%20%20%20%20%20%20%3C/style%3E%0A%20%20%20%20%20%20%20%20%0A%20%20%20%20%0A%20%20%20%20%20%20%20%20%20%20%20%20%20%20%20%20%20%20%20%20%3Cstyle%3E%0A%20%20%20%20%20%20%20%20%20%20%20%20%20%20%20%20%20%20%20%20%20%20%20%20.foliumtooltip%20%7B%0A%20%20%20%20%20%20%20%20%20%20%20%20%20%20%20%20%20%20%20%20%20%20%20%20%20%20%20%20%0A%20%20%20%20%20%20%20%20%20%20%20%20%20%20%20%20%20%20%20%20%20%20%20%20%7D%0A%20%20%20%20%20%20%20%20%20%20%20%20%20%20%20%20%20%20%20%20%20%20%20.foliumtooltip%20table%7B%0A%20%20%20%20%20%20%20%20%20%20%20%20%20%20%20%20%20%20%20%20%20%20%20%20%20%20%20%20margin%3A%20auto%3B%0A%20%20%20%20%20%20%20%20%20%20%20%20%20%20%20%20%20%20%20%20%20%20%20%20%7D%0A%20%20%20%20%20%20%20%20%20%20%20%20%20%20%20%20%20%20%20%20%20%20%20%20.foliumtooltip%20tr%7B%0A%20%20%20%20%20%20%20%20%20%20%20%20%20%20%20%20%20%20%20%20%20%20%20%20%20%20%20%20text-align%3A%20left%3B%0A%20%20%20%20%20%20%20%20%20%20%20%20%20%20%20%20%20%20%20%20%20%20%20%20%7D%0A%20%20%20%20%20%20%20%20%20%20%20%20%20%20%20%20%20%20%20%20%20%20%20%20.foliumtooltip%20th%7B%0A%20%20%20%20%20%20%20%20%20%20%20%20%20%20%20%20%20%20%20%20%20%20%20%20%20%20%20%20padding%3A%202px%3B%20padding-right%3A%208px%3B%0A%20%20%20%20%20%20%20%20%20%20%20%20%20%20%20%20%20%20%20%20%20%20%20%20%7D%0A%20%20%20%20%20%20%20%20%20%20%20%20%20%20%20%20%20%20%20%20%3C/style%3E%0A%20%20%20%20%20%20%20%20%20%20%20%20%0A%3C/head%3E%0A%3Cbody%3E%20%20%20%20%0A%20%20%20%20%0A%20%20%20%20%20%20%20%20%20%20%20%20%3Cdiv%20class%3D%22folium-map%22%20id%3D%22map_8a2728b0125a450aa9f0abed214b65e8%22%20%3E%3C/div%3E%0A%20%20%20%20%20%20%20%20%0A%3C/body%3E%0A%3Cscript%3E%20%20%20%20%0A%20%20%20%20%0A%20%20%20%20%20%20%20%20%20%20%20%20var%20map_8a2728b0125a450aa9f0abed214b65e8%20%3D%20L.map%28%0A%20%20%20%20%20%20%20%20%20%20%20%20%20%20%20%20%22map_8a2728b0125a450aa9f0abed214b65e8%22%2C%0A%20%20%20%20%20%20%20%20%20%20%20%20%20%20%20%20%7B%0A%20%20%20%20%20%20%20%20%20%20%20%20%20%20%20%20%20%20%20%20center%3A%20%5B37.84069834350004%2C%20-122.28305513649997%5D%2C%0A%20%20%20%20%20%20%20%20%20%20%20%20%20%20%20%20%20%20%20%20crs%3A%20L.CRS.EPSG3857%2C%0A%20%20%20%20%20%20%20%20%20%20%20%20%20%20%20%20%20%20%20%20zoom%3A%2010%2C%0A%20%20%20%20%20%20%20%20%20%20%20%20%20%20%20%20%20%20%20%20zoomControl%3A%20true%2C%0A%20%20%20%20%20%20%20%20%20%20%20%20%20%20%20%20%20%20%20%20preferCanvas%3A%20false%2C%0A%20%20%20%20%20%20%20%20%20%20%20%20%20%20%20%20%7D%0A%20%20%20%20%20%20%20%20%20%20%20%20%29%3B%0A%20%20%20%20%20%20%20%20%20%20%20%20L.control.scale%28%29.addTo%28map_8a2728b0125a450aa9f0abed214b65e8%29%3B%0A%0A%20%20%20%20%20%20%20%20%20%20%20%20%0A%0A%20%20%20%20%20%20%20%20%0A%20%20%20%20%0A%20%20%20%20%20%20%20%20%20%20%20%20var%20tile_layer_ece23991506f4f839c748d83635a999d%20%3D%20L.tileLayer%28%0A%20%20%20%20%20%20%20%20%20%20%20%20%20%20%20%20%22https%3A//%7Bs%7D.tile.openstreetmap.org/%7Bz%7D/%7Bx%7D/%7By%7D.png%22%2C%0A%20%20%20%20%20%20%20%20%20%20%20%20%20%20%20%20%7B%22attribution%22%3A%20%22Data%20by%20%5Cu0026copy%3B%20%5Cu003ca%20href%3D%5C%22http%3A//openstreetmap.org%5C%22%5Cu003eOpenStreetMap%5Cu003c/a%5Cu003e%2C%20under%20%5Cu003ca%20href%3D%5C%22http%3A//www.openstreetmap.org/copyright%5C%22%5Cu003eODbL%5Cu003c/a%5Cu003e.%22%2C%20%22detectRetina%22%3A%20false%2C%20%22maxNativeZoom%22%3A%2018%2C%20%22maxZoom%22%3A%2018%2C%20%22minZoom%22%3A%200%2C%20%22noWrap%22%3A%20false%2C%20%22opacity%22%3A%201%2C%20%22subdomains%22%3A%20%22abc%22%2C%20%22tms%22%3A%20false%7D%0A%20%20%20%20%20%20%20%20%20%20%20%20%29.addTo%28map_8a2728b0125a450aa9f0abed214b65e8%29%3B%0A%20%20%20%20%20%20%20%20%0A%20%20%20%20%0A%20%20%20%20%20%20%20%20%20%20%20%20map_8a2728b0125a450aa9f0abed214b65e8.fitBounds%28%0A%20%20%20%20%20%20%20%20%20%20%20%20%20%20%20%20%5B%5B37.82872778900003%2C%20-122.286903801%5D%2C%20%5B37.85266889800005%2C%20-122.27920647199994%5D%5D%2C%0A%20%20%20%20%20%20%20%20%20%20%20%20%20%20%20%20%7B%7D%0A%20%20%20%20%20%20%20%20%20%20%20%20%29%3B%0A%20%20%20%20%20%20%20%20%0A%20%20%20%20%0A%20%20%20%20%20%20%20%20function%20geo_json_0be148cec5fb43f8b6355f832ba49f2c_styler%28feature%29%20%7B%0A%20%20%20%20%20%20%20%20%20%20%20%20switch%28feature.id%29%20%7B%0A%20%20%20%20%20%20%20%20%20%20%20%20%20%20%20%20default%3A%0A%20%20%20%20%20%20%20%20%20%20%20%20%20%20%20%20%20%20%20%20return%20%7B%22fillOpacity%22%3A%200.5%2C%20%22weight%22%3A%202%7D%3B%0A%20%20%20%20%20%20%20%20%20%20%20%20%7D%0A%20%20%20%20%20%20%20%20%7D%0A%20%20%20%20%20%20%20%20function%20geo_json_0be148cec5fb43f8b6355f832ba49f2c_highlighter%28feature%29%20%7B%0A%20%20%20%20%20%20%20%20%20%20%20%20switch%28feature.id%29%20%7B%0A%20%20%20%20%20%20%20%20%20%20%20%20%20%20%20%20default%3A%0A%20%20%20%20%20%20%20%20%20%20%20%20%20%20%20%20%20%20%20%20return%20%7B%22fillOpacity%22%3A%200.75%7D%3B%0A%20%20%20%20%20%20%20%20%20%20%20%20%7D%0A%20%20%20%20%20%20%20%20%7D%0A%20%20%20%20%20%20%20%20function%20geo_json_0be148cec5fb43f8b6355f832ba49f2c_pointToLayer%28feature%2C%20latlng%29%20%7B%0A%20%20%20%20%20%20%20%20%20%20%20%20var%20opts%20%3D%20%7B%22bubblingMouseEvents%22%3A%20true%2C%20%22color%22%3A%20%22%233388ff%22%2C%20%22dashArray%22%3A%20null%2C%20%22dashOffset%22%3A%20null%2C%20%22fill%22%3A%20true%2C%20%22fillColor%22%3A%20%22%233388ff%22%2C%20%22fillOpacity%22%3A%200.2%2C%20%22fillRule%22%3A%20%22evenodd%22%2C%20%22lineCap%22%3A%20%22round%22%2C%20%22lineJoin%22%3A%20%22round%22%2C%20%22opacity%22%3A%201.0%2C%20%22radius%22%3A%202%2C%20%22stroke%22%3A%20true%2C%20%22weight%22%3A%203%7D%3B%0A%20%20%20%20%20%20%20%20%20%20%20%20%0A%20%20%20%20%20%20%20%20%20%20%20%20let%20style%20%3D%20geo_json_0be148cec5fb43f8b6355f832ba49f2c_styler%28feature%29%0A%20%20%20%20%20%20%20%20%20%20%20%20Object.assign%28opts%2C%20style%29%0A%20%20%20%20%20%20%20%20%20%20%20%20%0A%20%20%20%20%20%20%20%20%20%20%20%20return%20new%20L.CircleMarker%28latlng%2C%20opts%29%0A%20%20%20%20%20%20%20%20%7D%0A%0A%20%20%20%20%20%20%20%20function%20geo_json_0be148cec5fb43f8b6355f832ba49f2c_onEachFeature%28feature%2C%20layer%29%20%7B%0A%20%20%20%20%20%20%20%20%20%20%20%20layer.on%28%7B%0A%20%20%20%20%20%20%20%20%20%20%20%20%20%20%20%20mouseout%3A%20function%28e%29%20%7B%0A%20%20%20%20%20%20%20%20%20%20%20%20%20%20%20%20%20%20%20%20if%28typeof%20e.target.setStyle%20%3D%3D%3D%20%22function%22%29%7B%0A%20%20%20%20%20%20%20%20%20%20%20%20%20%20%20%20%20%20%20%20%20%20%20%20geo_json_0be148cec5fb43f8b6355f832ba49f2c.resetStyle%28e.target%29%3B%0A%20%20%20%20%20%20%20%20%20%20%20%20%20%20%20%20%20%20%20%20%7D%0A%20%20%20%20%20%20%20%20%20%20%20%20%20%20%20%20%7D%2C%0A%20%20%20%20%20%20%20%20%20%20%20%20%20%20%20%20mouseover%3A%20function%28e%29%20%7B%0A%20%20%20%20%20%20%20%20%20%20%20%20%20%20%20%20%20%20%20%20if%28typeof%20e.target.setStyle%20%3D%3D%3D%20%22function%22%29%7B%0A%20%20%20%20%20%20%20%20%20%20%20%20%20%20%20%20%20%20%20%20%20%20%20%20const%20highlightStyle%20%3D%20geo_json_0be148cec5fb43f8b6355f832ba49f2c_highlighter%28e.target.feature%29%0A%20%20%20%20%20%20%20%20%20%20%20%20%20%20%20%20%20%20%20%20%20%20%20%20e.target.setStyle%28highlightStyle%29%3B%0A%20%20%20%20%20%20%20%20%20%20%20%20%20%20%20%20%20%20%20%20%7D%0A%20%20%20%20%20%20%20%20%20%20%20%20%20%20%20%20%7D%2C%0A%20%20%20%20%20%20%20%20%20%20%20%20%7D%29%3B%0A%20%20%20%20%20%20%20%20%7D%3B%0A%20%20%20%20%20%20%20%20var%20geo_json_0be148cec5fb43f8b6355f832ba49f2c%20%3D%20L.geoJson%28null%2C%20%7B%0A%20%20%20%20%20%20%20%20%20%20%20%20%20%20%20%20onEachFeature%3A%20geo_json_0be148cec5fb43f8b6355f832ba49f2c_onEachFeature%2C%0A%20%20%20%20%20%20%20%20%20%20%20%20%0A%20%20%20%20%20%20%20%20%20%20%20%20%20%20%20%20style%3A%20geo_json_0be148cec5fb43f8b6355f832ba49f2c_styler%2C%0A%20%20%20%20%20%20%20%20%20%20%20%20%20%20%20%20pointToLayer%3A%20geo_json_0be148cec5fb43f8b6355f832ba49f2c_pointToLayer%0A%20%20%20%20%20%20%20%20%7D%29%3B%0A%0A%20%20%20%20%20%20%20%20function%20geo_json_0be148cec5fb43f8b6355f832ba49f2c_add%20%28data%29%20%7B%0A%20%20%20%20%20%20%20%20%20%20%20%20geo_json_0be148cec5fb43f8b6355f832ba49f2c%0A%20%20%20%20%20%20%20%20%20%20%20%20%20%20%20%20.addData%28data%29%0A%20%20%20%20%20%20%20%20%20%20%20%20%20%20%20%20.addTo%28map_8a2728b0125a450aa9f0abed214b65e8%29%3B%0A%20%20%20%20%20%20%20%20%7D%0A%20%20%20%20%20%20%20%20%20%20%20%20geo_json_0be148cec5fb43f8b6355f832ba49f2c_add%28%7B%22bbox%22%3A%20%5B-122.286903801%2C%2037.82872778900003%2C%20-122.27920647199994%2C%2037.85266889800005%5D%2C%20%22features%22%3A%20%5B%7B%22bbox%22%3A%20%5B-122.286903801%2C%2037.82872778900003%2C%20-122.27920647199994%2C%2037.85266889800005%5D%2C%20%22geometry%22%3A%20%7B%22coordinates%22%3A%20%5B%5B-122.27920647199994%2C%2037.82872778900003%2C%200.0%5D%2C%20%5B-122.286903801%2C%2037.85266889800005%2C%200.0%5D%5D%2C%20%22type%22%3A%20%22LineString%22%7D%2C%20%22id%22%3A%20%226%22%2C%20%22properties%22%3A%20%7B%22Bus_Brdng_Islnds%22%3A%2014.0%2C%20%22CT_District%22%3A%20%2204%22%2C%20%22Centerline_Miles%22%3A%201.7%2C%20%22County%22%3A%20%22ALA%22%2C%20%22CreationDate%22%3A%201693010677000%2C%20%22EditDate%22%3A%201693421427000%2C%20%22Geom_Priority_Intervention_Type%22%3A%20%22Bus_Only_Lane_%28full-time%29%22%2C%20%22Imprv_Site_Amnts%22%3A%20null%2C%20%22Lyr%22%3A%20%22%5C%22Lns2%5C%22%22%2C%20%22OBJECTID%22%3A%207%2C%20%22One_Side_Rdwy_Only%22%3A%20%22no%22%2C%20%22Priority_Intervention_Type_All%22%3A%20%22Bus_Only_Lane_%28full-time%29%2CBus_Boarding_Islands%22%2C%20%22Queue_Jumps%22%3A%20null%2C%20%22Route%22%3A%20123%2C%20%22Scrs%22%3A%20%22San%20Pablo%20Avenue%20Corridor%20Project%20-%20Bus%20and%20Bike%20Lanes%20Project%2C%20EA%202W290%20%28oversight%29%20%281%20of%202%29%22%2C%20%22Scrs_Link%22%3A%20%22https%3A//www.alamedactc.org/programs-projects/multimodal-arterial-roads/sanpabloave%20%22%2C%20%22Shape_Length%22%3A%200.025148072965654883%2C%20%22Submitter_Email%22%3A%20%22sergio.ruiz%40dot.ca.gov%22%2C%20%22Submitter_Name%22%3A%20%22Sergio%2C%20Ruiz%22%2C%20%22Transit_Op_Support%22%3A%20%22yes%22%2C%20%22geo_comments%22%3A%20%22Showing%20SB%20bus%20only%20lane%20within%20Caltrans%20ROW%20only.%20Project%20extends%20south%20to%20Thomas%20L.%20Berkeley%20Way%20in%20Oakland.%22%7D%2C%20%22type%22%3A%20%22Feature%22%7D%5D%2C%20%22type%22%3A%20%22FeatureCollection%22%7D%29%3B%0A%0A%20%20%20%20%20%20%20%20%0A%20%20%20%20%0A%20%20%20%20geo_json_0be148cec5fb43f8b6355f832ba49f2c.bindTooltip%28%0A%20%20%20%20function%28layer%29%7B%0A%20%20%20%20let%20div%20%3D%20L.DomUtil.create%28%27div%27%29%3B%0A%20%20%20%20%0A%20%20%20%20let%20handleObject%20%3D%20feature%3D%3Etypeof%28feature%29%3D%3D%27object%27%20%3F%20JSON.stringify%28feature%29%20%3A%20feature%3B%0A%20%20%20%20let%20fields%20%3D%20%5B%22OBJECTID%22%2C%20%22Submitter_Name%22%2C%20%22Submitter_Email%22%2C%20%22Priority_Intervention_Type_All%22%2C%20%22Scrs%22%2C%20%22Scrs_Link%22%2C%20%22Centerline_Miles%22%2C%20%22One_Side_Rdwy_Only%22%2C%20%22Queue_Jumps%22%2C%20%22Bus_Brdng_Islnds%22%2C%20%22Imprv_Site_Amnts%22%2C%20%22Transit_Op_Support%22%2C%20%22CT_District%22%2C%20%22County%22%2C%20%22Route%22%2C%20%22Geom_Priority_Intervention_Type%22%2C%20%22geo_comments%22%2C%20%22CreationDate%22%2C%20%22Lyr%22%2C%20%22EditDate%22%2C%20%22Shape_Length%22%5D%3B%0A%20%20%20%20let%20aliases%20%3D%20%5B%22OBJECTID%22%2C%20%22Submitter_Name%22%2C%20%22Submitter_Email%22%2C%20%22Priority_Intervention_Type_All%22%2C%20%22Scrs%22%2C%20%22Scrs_Link%22%2C%20%22Centerline_Miles%22%2C%20%22One_Side_Rdwy_Only%22%2C%20%22Queue_Jumps%22%2C%20%22Bus_Brdng_Islnds%22%2C%20%22Imprv_Site_Amnts%22%2C%20%22Transit_Op_Support%22%2C%20%22CT_District%22%2C%20%22County%22%2C%20%22Route%22%2C%20%22Geom_Priority_Intervention_Type%22%2C%20%22geo_comments%22%2C%20%22CreationDate%22%2C%20%22Lyr%22%2C%20%22EditDate%22%2C%20%22Shape_Length%22%5D%3B%0A%20%20%20%20let%20table%20%3D%20%27%3Ctable%3E%27%20%2B%0A%20%20%20%20%20%20%20%20String%28%0A%20%20%20%20%20%20%20%20fields.map%28%0A%20%20%20%20%20%20%20%20%28v%2Ci%29%3D%3E%0A%20%20%20%20%20%20%20%20%60%3Ctr%3E%0A%20%20%20%20%20%20%20%20%20%20%20%20%3Cth%3E%24%7Baliases%5Bi%5D%7D%3C/th%3E%0A%20%20%20%20%20%20%20%20%20%20%20%20%0A%20%20%20%20%20%20%20%20%20%20%20%20%3Ctd%3E%24%7BhandleObject%28layer.feature.properties%5Bv%5D%29%7D%3C/td%3E%0A%20%20%20%20%20%20%20%20%3C/tr%3E%60%29.join%28%27%27%29%29%0A%20%20%20%20%2B%27%3C/table%3E%27%3B%0A%20%20%20%20div.innerHTML%3Dtable%3B%0A%20%20%20%20%0A%20%20%20%20return%20div%0A%20%20%20%20%7D%0A%20%20%20%20%2C%7B%22className%22%3A%20%22foliumtooltip%22%2C%20%22sticky%22%3A%20true%7D%29%3B%0A%20%20%20%20%20%20%20%20%20%20%20%20%20%20%20%20%20%20%20%20%20%0A%3C/script%3E onload=\"this.contentDocument.open();this.contentDocument.write(    decodeURIComponent(this.getAttribute('data-html')));this.contentDocument.close();\" allowfullscreen webkitallowfullscreen mozallowfullscreen></iframe></div></div>"
      ],
      "text/plain": [
       "<folium.folium.Map at 0x7f0ee352f160>"
      ]
     },
     "execution_count": 83,
     "metadata": {},
     "output_type": "execute_result"
    }
   ],
   "source": [
    "line_priority.iloc[[6]].explore()"
   ]
  },
  {
   "cell_type": "markdown",
   "id": "ee63dfdf-18a7-4fc4-a89e-4c91348f9532",
   "metadata": {
    "tags": []
   },
   "source": [
    "### 13 AC Transit (Bus Lane, analyze w/ 6)\n",
    "\n",
    "* NB and SB submitted seperately but can model together"
   ]
  },
  {
   "cell_type": "code",
   "execution_count": 84,
   "id": "4f755220-22b7-4ffe-b14e-1e7c89621910",
   "metadata": {
    "tags": [
     "parameters"
    ]
   },
   "outputs": [],
   "source": [
    "## parameters cell\n",
    "itp_id = 4"
   ]
  },
  {
   "cell_type": "code",
   "execution_count": 85,
   "id": "6573c5ad-b994-4926-a115-5b4587e0b601",
   "metadata": {},
   "outputs": [],
   "source": [
    "%%capture\n",
    "rt_day = rt_filter_map_plot.from_gcs(itp_id, analysis_date, pbar)"
   ]
  },
  {
   "cell_type": "code",
   "execution_count": 86,
   "id": "34c6bc8d-b76c-4c10-8bf3-decce0416684",
   "metadata": {},
   "outputs": [],
   "source": [
    "rt_day.transit_priority_target_mph = 20"
   ]
  },
  {
   "cell_type": "code",
   "execution_count": 87,
   "id": "1f2e3d47-d92e-4c1c-b2ea-ab77ef8df86b",
   "metadata": {},
   "outputs": [
    {
     "name": "stdout",
     "output_type": "stream",
     "text": [
      "{\"organization_name\": \"Alameda-Contra Costa Transit District\"}\n"
     ]
    }
   ],
   "source": [
    "%%capture_parameters\n",
    "organization_name = rt_day.organization_name\n",
    "organization_name"
   ]
  },
  {
   "cell_type": "code",
   "execution_count": 88,
   "id": "8ff25a57-4424-4957-ab1d-c02c40df1a9c",
   "metadata": {},
   "outputs": [],
   "source": [
    "rt_day.set_filter(route_names = ['72', '72M', '72R'])"
   ]
  },
  {
   "cell_type": "code",
   "execution_count": 89,
   "id": "8d0d3e98-ac1c-418d-8500-42ede60a84f5",
   "metadata": {},
   "outputs": [],
   "source": [
    "_m = rt_day.segment_speed_map()"
   ]
  },
  {
   "cell_type": "code",
   "execution_count": 90,
   "id": "f44e42b2-49f0-45af-a175-666298ffcd54",
   "metadata": {},
   "outputs": [],
   "source": [
    "rt_day.autocorridor(shape_id = 'shp-72R-58', stop_seq_range = [17, 19])"
   ]
  },
  {
   "cell_type": "code",
   "execution_count": 91,
   "id": "78c1d10d-41ca-4c3c-8305-6a328532d55c",
   "metadata": {},
   "outputs": [],
   "source": [
    "# rt_day.corridor_stop_delays >> distinct(_.route_short_name)"
   ]
  },
  {
   "cell_type": "code",
   "execution_count": 92,
   "id": "5f88c525-f330-4ca0-9e9b-ccdc85c2b4d5",
   "metadata": {},
   "outputs": [
    {
     "name": "stdout",
     "output_type": "stream",
     "text": [
      "metrics attached to self.corridor: \n"
     ]
    },
    {
     "data": {
      "text/html": [
       "<div>\n",
       "<style scoped>\n",
       "    .dataframe tbody tr th:only-of-type {\n",
       "        vertical-align: middle;\n",
       "    }\n",
       "\n",
       "    .dataframe tbody tr th {\n",
       "        vertical-align: top;\n",
       "    }\n",
       "\n",
       "    .dataframe thead th {\n",
       "        text-align: right;\n",
       "    }\n",
       "</style>\n",
       "<table border=\"1\" class=\"dataframe\">\n",
       "  <thead>\n",
       "    <tr style=\"text-align: right;\">\n",
       "      <th></th>\n",
       "      <th>route_id</th>\n",
       "      <th>route_short_name</th>\n",
       "      <th>organization</th>\n",
       "      <th>p20_corr_mph</th>\n",
       "      <th>p50_corr_mph</th>\n",
       "      <th>avg_corr_mph</th>\n",
       "      <th>speed_delay_minutes</th>\n",
       "      <th>total_speed_delay</th>\n",
       "      <th>p50_runtime_minutes</th>\n",
       "      <th>n_trips</th>\n",
       "      <th>span_hours</th>\n",
       "      <th>daily_avg_trips_hr</th>\n",
       "      <th>trips_added</th>\n",
       "      <th>new_avg_trips_hr</th>\n",
       "      <th>length_miles</th>\n",
       "      <th>distance_meters</th>\n",
       "      <th>target_mph</th>\n",
       "      <th>geometry</th>\n",
       "    </tr>\n",
       "  </thead>\n",
       "  <tbody>\n",
       "    <tr>\n",
       "      <th>0</th>\n",
       "      <td>72</td>\n",
       "      <td>72</td>\n",
       "      <td>Alameda-Contra Costa Transit District</td>\n",
       "      <td>11.3</td>\n",
       "      <td>12.9</td>\n",
       "      <td>13.2</td>\n",
       "      <td>231.0</td>\n",
       "      <td>872.0</td>\n",
       "      <td>85.6</td>\n",
       "      <td>56</td>\n",
       "      <td>14.8</td>\n",
       "      <td>1.9</td>\n",
       "      <td>2.7</td>\n",
       "      <td>2.0</td>\n",
       "      <td>1.1</td>\n",
       "      <td>1830.9</td>\n",
       "      <td>20</td>\n",
       "      <td>POLYGON ((-200526.017 -17118.327, -200519.214 ...</td>\n",
       "    </tr>\n",
       "    <tr>\n",
       "      <th>1</th>\n",
       "      <td>72M</td>\n",
       "      <td>72M</td>\n",
       "      <td>Alameda-Contra Costa Transit District</td>\n",
       "      <td>10.2</td>\n",
       "      <td>12.2</td>\n",
       "      <td>13.2</td>\n",
       "      <td>257.0</td>\n",
       "      <td>872.0</td>\n",
       "      <td>78.4</td>\n",
       "      <td>62</td>\n",
       "      <td>14.5</td>\n",
       "      <td>2.1</td>\n",
       "      <td>3.3</td>\n",
       "      <td>2.3</td>\n",
       "      <td>1.1</td>\n",
       "      <td>NaN</td>\n",
       "      <td>20</td>\n",
       "      <td>POLYGON ((-200526.017 -17118.327, -200519.214 ...</td>\n",
       "    </tr>\n",
       "    <tr>\n",
       "      <th>2</th>\n",
       "      <td>72R</td>\n",
       "      <td>72R</td>\n",
       "      <td>Alameda-Contra Costa Transit District</td>\n",
       "      <td>12.2</td>\n",
       "      <td>13.7</td>\n",
       "      <td>14.6</td>\n",
       "      <td>384.0</td>\n",
       "      <td>872.0</td>\n",
       "      <td>62.7</td>\n",
       "      <td>101</td>\n",
       "      <td>13.2</td>\n",
       "      <td>3.8</td>\n",
       "      <td>6.1</td>\n",
       "      <td>4.1</td>\n",
       "      <td>1.1</td>\n",
       "      <td>NaN</td>\n",
       "      <td>20</td>\n",
       "      <td>POLYGON ((-200526.017 -17118.327, -200519.214 ...</td>\n",
       "    </tr>\n",
       "  </tbody>\n",
       "</table>\n",
       "</div>"
      ],
      "text/plain": [
       "  route_id route_short_name                           organization  \\\n",
       "0       72               72  Alameda-Contra Costa Transit District   \n",
       "1      72M              72M  Alameda-Contra Costa Transit District   \n",
       "2      72R              72R  Alameda-Contra Costa Transit District   \n",
       "\n",
       "   p20_corr_mph  p50_corr_mph  avg_corr_mph  speed_delay_minutes  \\\n",
       "0          11.3          12.9          13.2                231.0   \n",
       "1          10.2          12.2          13.2                257.0   \n",
       "2          12.2          13.7          14.6                384.0   \n",
       "\n",
       "   total_speed_delay  p50_runtime_minutes  n_trips  span_hours  \\\n",
       "0              872.0                 85.6       56        14.8   \n",
       "1              872.0                 78.4       62        14.5   \n",
       "2              872.0                 62.7      101        13.2   \n",
       "\n",
       "   daily_avg_trips_hr  trips_added  new_avg_trips_hr  length_miles  \\\n",
       "0                 1.9          2.7               2.0           1.1   \n",
       "1                 2.1          3.3               2.3           1.1   \n",
       "2                 3.8          6.1               4.1           1.1   \n",
       "\n",
       "   distance_meters  target_mph  \\\n",
       "0           1830.9          20   \n",
       "1              NaN          20   \n",
       "2              NaN          20   \n",
       "\n",
       "                                            geometry  \n",
       "0  POLYGON ((-200526.017 -17118.327, -200519.214 ...  \n",
       "1  POLYGON ((-200526.017 -17118.327, -200519.214 ...  \n",
       "2  POLYGON ((-200526.017 -17118.327, -200519.214 ...  "
      ]
     },
     "execution_count": 92,
     "metadata": {},
     "output_type": "execute_result"
    }
   ],
   "source": [
    "rt_day.corridor_metrics()"
   ]
  },
  {
   "cell_type": "code",
   "execution_count": 93,
   "id": "1b89df41-24f6-43c1-ad1f-3ae92b929664",
   "metadata": {},
   "outputs": [],
   "source": [
    "rt_day.corridor['corridor'] = 'sr123'"
   ]
  },
  {
   "cell_type": "code",
   "execution_count": 94,
   "id": "b46904a1-6344-476e-b522-ad7dc83dc076",
   "metadata": {},
   "outputs": [],
   "source": [
    "all_corridors += [rt_day.corridor]"
   ]
  },
  {
   "cell_type": "markdown",
   "id": "2ec05f89-6c8c-4b4d-ada4-930514f2caa7",
   "metadata": {
    "jp-MarkdownHeadingCollapsed": true,
    "tags": []
   },
   "source": [
    "## 7 GGT (queue jump, new direct fwy link?)\n",
    "\n",
    "* _relocates_ stop from existing location in interchange (currently requires uncontrolled crossing of onramp)\n",
    "* will improve ADA compliance, rider comfort, transfer\n",
    "* unlikely to improve mainline speed, may slightly slow mainline service"
   ]
  },
  {
   "cell_type": "code",
   "execution_count": 95,
   "id": "79029c41-0959-44a0-86f0-e2f104e32c14",
   "metadata": {},
   "outputs": [
    {
     "data": {
      "text/html": [
       "<div>\n",
       "<style scoped>\n",
       "    .dataframe tbody tr th:only-of-type {\n",
       "        vertical-align: middle;\n",
       "    }\n",
       "\n",
       "    .dataframe tbody tr th {\n",
       "        vertical-align: top;\n",
       "    }\n",
       "\n",
       "    .dataframe thead th {\n",
       "        text-align: right;\n",
       "    }\n",
       "</style>\n",
       "<table border=\"1\" class=\"dataframe\">\n",
       "  <thead>\n",
       "    <tr style=\"text-align: right;\">\n",
       "      <th></th>\n",
       "      <th>OBJECTID</th>\n",
       "      <th>Submitter_Name</th>\n",
       "      <th>Submitter_Email</th>\n",
       "      <th>Priority_Intervention_Type_All</th>\n",
       "      <th>Scrs</th>\n",
       "      <th>Scrs_Link</th>\n",
       "      <th>Centerline_Miles</th>\n",
       "      <th>One_Side_Rdwy_Only</th>\n",
       "      <th>Queue_Jumps</th>\n",
       "      <th>Bus_Brdng_Islnds</th>\n",
       "      <th>...</th>\n",
       "      <th>CT_District</th>\n",
       "      <th>County</th>\n",
       "      <th>Route</th>\n",
       "      <th>Geom_Priority_Intervention_Type</th>\n",
       "      <th>geo_comments</th>\n",
       "      <th>CreationDate</th>\n",
       "      <th>Lyr</th>\n",
       "      <th>EditDate</th>\n",
       "      <th>Shape_Length</th>\n",
       "      <th>geometry</th>\n",
       "    </tr>\n",
       "  </thead>\n",
       "  <tbody>\n",
       "    <tr>\n",
       "      <th>7</th>\n",
       "      <td>8</td>\n",
       "      <td>Sergio, Ruiz</td>\n",
       "      <td>sergio.ruiz@dot.ca.gov</td>\n",
       "      <td>Queue_Jump_lanes/signals,Improved_transit_stop...</td>\n",
       "      <td>US 101 Tamalpais Drive Overcrossing ADA and Br...</td>\n",
       "      <td>https://d4vpm3.wixsite.com/tamalpaisoc</td>\n",
       "      <td>NaN</td>\n",
       "      <td>NaN</td>\n",
       "      <td>2.0</td>\n",
       "      <td>NaN</td>\n",
       "      <td>...</td>\n",
       "      <td>04</td>\n",
       "      <td>MRN</td>\n",
       "      <td>101</td>\n",
       "      <td>Queue_Jump_lanes/signals</td>\n",
       "      <td>New queue jump lanes and TSP at SB ramp inters...</td>\n",
       "      <td>1693015153000</td>\n",
       "      <td>\"Lns2\"</td>\n",
       "      <td>1693421427000</td>\n",
       "      <td>0.00129</td>\n",
       "      <td>LINESTRING Z (-122.51611 37.92596 0.00000, -12...</td>\n",
       "    </tr>\n",
       "  </tbody>\n",
       "</table>\n",
       "<p>1 rows × 22 columns</p>\n",
       "</div>"
      ],
      "text/plain": [
       "   OBJECTID Submitter_Name         Submitter_Email  \\\n",
       "7         8   Sergio, Ruiz  sergio.ruiz@dot.ca.gov   \n",
       "\n",
       "                      Priority_Intervention_Type_All  \\\n",
       "7  Queue_Jump_lanes/signals,Improved_transit_stop...   \n",
       "\n",
       "                                                Scrs  \\\n",
       "7  US 101 Tamalpais Drive Overcrossing ADA and Br...   \n",
       "\n",
       "                                 Scrs_Link  Centerline_Miles  \\\n",
       "7  https://d4vpm3.wixsite.com/tamalpaisoc                NaN   \n",
       "\n",
       "  One_Side_Rdwy_Only  Queue_Jumps  Bus_Brdng_Islnds  ...  CT_District County  \\\n",
       "7                NaN          2.0               NaN  ...           04    MRN   \n",
       "\n",
       "  Route Geom_Priority_Intervention_Type  \\\n",
       "7   101        Queue_Jump_lanes/signals   \n",
       "\n",
       "                                        geo_comments   CreationDate     Lyr  \\\n",
       "7  New queue jump lanes and TSP at SB ramp inters...  1693015153000  \"Lns2\"   \n",
       "\n",
       "        EditDate Shape_Length  \\\n",
       "7  1693421427000      0.00129   \n",
       "\n",
       "                                            geometry  \n",
       "7  LINESTRING Z (-122.51611 37.92596 0.00000, -12...  \n",
       "\n",
       "[1 rows x 22 columns]"
      ]
     },
     "execution_count": 95,
     "metadata": {},
     "output_type": "execute_result"
    }
   ],
   "source": [
    "line_priority.iloc[[7]]"
   ]
  },
  {
   "cell_type": "code",
   "execution_count": 96,
   "id": "4ad63c29-9242-40ad-b06e-a4692251a64c",
   "metadata": {},
   "outputs": [
    {
     "data": {
      "text/plain": [
       "'New queue jump lanes and TSP at SB ramp intersection to address bus speed and reliability and transit operator input.'"
      ]
     },
     "execution_count": 96,
     "metadata": {},
     "output_type": "execute_result"
    }
   ],
   "source": [
    "line_priority.iloc[[7]].geo_comments.iloc[0]"
   ]
  },
  {
   "cell_type": "code",
   "execution_count": 97,
   "id": "94a3863c-f416-4637-be2f-469229083f76",
   "metadata": {},
   "outputs": [
    {
     "data": {
      "text/html": [
       "<div style=\"width:100%;\"><div style=\"position:relative;width:100%;height:0;padding-bottom:60%;\"><span style=\"color:#565656\">Make this Notebook Trusted to load map: File -> Trust Notebook</span><iframe src=\"about:blank\" style=\"position:absolute;width:100%;height:100%;left:0;top:0;border:none !important;\" data-html=%3C%21DOCTYPE%20html%3E%0A%3Chead%3E%20%20%20%20%0A%20%20%20%20%3Cmeta%20http-equiv%3D%22content-type%22%20content%3D%22text/html%3B%20charset%3DUTF-8%22%20/%3E%0A%20%20%20%20%0A%20%20%20%20%20%20%20%20%3Cscript%3E%0A%20%20%20%20%20%20%20%20%20%20%20%20L_NO_TOUCH%20%3D%20false%3B%0A%20%20%20%20%20%20%20%20%20%20%20%20L_DISABLE_3D%20%3D%20false%3B%0A%20%20%20%20%20%20%20%20%3C/script%3E%0A%20%20%20%20%0A%20%20%20%20%3Cstyle%3Ehtml%2C%20body%20%7Bwidth%3A%20100%25%3Bheight%3A%20100%25%3Bmargin%3A%200%3Bpadding%3A%200%3B%7D%3C/style%3E%0A%20%20%20%20%3Cstyle%3E%23map%20%7Bposition%3Aabsolute%3Btop%3A0%3Bbottom%3A0%3Bright%3A0%3Bleft%3A0%3B%7D%3C/style%3E%0A%20%20%20%20%3Cscript%20src%3D%22https%3A//cdn.jsdelivr.net/npm/leaflet%401.6.0/dist/leaflet.js%22%3E%3C/script%3E%0A%20%20%20%20%3Cscript%20src%3D%22https%3A//code.jquery.com/jquery-1.12.4.min.js%22%3E%3C/script%3E%0A%20%20%20%20%3Cscript%20src%3D%22https%3A//maxcdn.bootstrapcdn.com/bootstrap/3.2.0/js/bootstrap.min.js%22%3E%3C/script%3E%0A%20%20%20%20%3Cscript%20src%3D%22https%3A//cdnjs.cloudflare.com/ajax/libs/Leaflet.awesome-markers/2.0.2/leaflet.awesome-markers.js%22%3E%3C/script%3E%0A%20%20%20%20%3Clink%20rel%3D%22stylesheet%22%20href%3D%22https%3A//cdn.jsdelivr.net/npm/leaflet%401.6.0/dist/leaflet.css%22/%3E%0A%20%20%20%20%3Clink%20rel%3D%22stylesheet%22%20href%3D%22https%3A//maxcdn.bootstrapcdn.com/bootstrap/3.2.0/css/bootstrap.min.css%22/%3E%0A%20%20%20%20%3Clink%20rel%3D%22stylesheet%22%20href%3D%22https%3A//maxcdn.bootstrapcdn.com/bootstrap/3.2.0/css/bootstrap-theme.min.css%22/%3E%0A%20%20%20%20%3Clink%20rel%3D%22stylesheet%22%20href%3D%22https%3A//maxcdn.bootstrapcdn.com/font-awesome/4.6.3/css/font-awesome.min.css%22/%3E%0A%20%20%20%20%3Clink%20rel%3D%22stylesheet%22%20href%3D%22https%3A//cdnjs.cloudflare.com/ajax/libs/Leaflet.awesome-markers/2.0.2/leaflet.awesome-markers.css%22/%3E%0A%20%20%20%20%3Clink%20rel%3D%22stylesheet%22%20href%3D%22https%3A//cdn.jsdelivr.net/gh/python-visualization/folium/folium/templates/leaflet.awesome.rotate.min.css%22/%3E%0A%20%20%20%20%0A%20%20%20%20%20%20%20%20%20%20%20%20%3Cmeta%20name%3D%22viewport%22%20content%3D%22width%3Ddevice-width%2C%0A%20%20%20%20%20%20%20%20%20%20%20%20%20%20%20%20initial-scale%3D1.0%2C%20maximum-scale%3D1.0%2C%20user-scalable%3Dno%22%20/%3E%0A%20%20%20%20%20%20%20%20%20%20%20%20%3Cstyle%3E%0A%20%20%20%20%20%20%20%20%20%20%20%20%20%20%20%20%23map_0c91f7f92bae47b495fa607d03c666ea%20%7B%0A%20%20%20%20%20%20%20%20%20%20%20%20%20%20%20%20%20%20%20%20position%3A%20relative%3B%0A%20%20%20%20%20%20%20%20%20%20%20%20%20%20%20%20%20%20%20%20width%3A%20100.0%25%3B%0A%20%20%20%20%20%20%20%20%20%20%20%20%20%20%20%20%20%20%20%20height%3A%20100.0%25%3B%0A%20%20%20%20%20%20%20%20%20%20%20%20%20%20%20%20%20%20%20%20left%3A%200.0%25%3B%0A%20%20%20%20%20%20%20%20%20%20%20%20%20%20%20%20%20%20%20%20top%3A%200.0%25%3B%0A%20%20%20%20%20%20%20%20%20%20%20%20%20%20%20%20%7D%0A%20%20%20%20%20%20%20%20%20%20%20%20%3C/style%3E%0A%20%20%20%20%20%20%20%20%0A%20%20%20%20%0A%20%20%20%20%20%20%20%20%20%20%20%20%20%20%20%20%20%20%20%20%3Cstyle%3E%0A%20%20%20%20%20%20%20%20%20%20%20%20%20%20%20%20%20%20%20%20%20%20%20%20.foliumtooltip%20%7B%0A%20%20%20%20%20%20%20%20%20%20%20%20%20%20%20%20%20%20%20%20%20%20%20%20%20%20%20%20%0A%20%20%20%20%20%20%20%20%20%20%20%20%20%20%20%20%20%20%20%20%20%20%20%20%7D%0A%20%20%20%20%20%20%20%20%20%20%20%20%20%20%20%20%20%20%20%20%20%20%20.foliumtooltip%20table%7B%0A%20%20%20%20%20%20%20%20%20%20%20%20%20%20%20%20%20%20%20%20%20%20%20%20%20%20%20%20margin%3A%20auto%3B%0A%20%20%20%20%20%20%20%20%20%20%20%20%20%20%20%20%20%20%20%20%20%20%20%20%7D%0A%20%20%20%20%20%20%20%20%20%20%20%20%20%20%20%20%20%20%20%20%20%20%20%20.foliumtooltip%20tr%7B%0A%20%20%20%20%20%20%20%20%20%20%20%20%20%20%20%20%20%20%20%20%20%20%20%20%20%20%20%20text-align%3A%20left%3B%0A%20%20%20%20%20%20%20%20%20%20%20%20%20%20%20%20%20%20%20%20%20%20%20%20%7D%0A%20%20%20%20%20%20%20%20%20%20%20%20%20%20%20%20%20%20%20%20%20%20%20%20.foliumtooltip%20th%7B%0A%20%20%20%20%20%20%20%20%20%20%20%20%20%20%20%20%20%20%20%20%20%20%20%20%20%20%20%20padding%3A%202px%3B%20padding-right%3A%208px%3B%0A%20%20%20%20%20%20%20%20%20%20%20%20%20%20%20%20%20%20%20%20%20%20%20%20%7D%0A%20%20%20%20%20%20%20%20%20%20%20%20%20%20%20%20%20%20%20%20%3C/style%3E%0A%20%20%20%20%20%20%20%20%20%20%20%20%0A%3C/head%3E%0A%3Cbody%3E%20%20%20%20%0A%20%20%20%20%0A%20%20%20%20%20%20%20%20%20%20%20%20%3Cdiv%20class%3D%22folium-map%22%20id%3D%22map_0c91f7f92bae47b495fa607d03c666ea%22%20%3E%3C/div%3E%0A%20%20%20%20%20%20%20%20%0A%3C/body%3E%0A%3Cscript%3E%20%20%20%20%0A%20%20%20%20%0A%20%20%20%20%20%20%20%20%20%20%20%20var%20map_0c91f7f92bae47b495fa607d03c666ea%20%3D%20L.map%28%0A%20%20%20%20%20%20%20%20%20%20%20%20%20%20%20%20%22map_0c91f7f92bae47b495fa607d03c666ea%22%2C%0A%20%20%20%20%20%20%20%20%20%20%20%20%20%20%20%20%7B%0A%20%20%20%20%20%20%20%20%20%20%20%20%20%20%20%20%20%20%20%20center%3A%20%5B37.92547893300005%2C%20-122.51586235799996%5D%2C%0A%20%20%20%20%20%20%20%20%20%20%20%20%20%20%20%20%20%20%20%20crs%3A%20L.CRS.EPSG3857%2C%0A%20%20%20%20%20%20%20%20%20%20%20%20%20%20%20%20%20%20%20%20zoom%3A%2010%2C%0A%20%20%20%20%20%20%20%20%20%20%20%20%20%20%20%20%20%20%20%20zoomControl%3A%20true%2C%0A%20%20%20%20%20%20%20%20%20%20%20%20%20%20%20%20%20%20%20%20preferCanvas%3A%20false%2C%0A%20%20%20%20%20%20%20%20%20%20%20%20%20%20%20%20%7D%0A%20%20%20%20%20%20%20%20%20%20%20%20%29%3B%0A%20%20%20%20%20%20%20%20%20%20%20%20L.control.scale%28%29.addTo%28map_0c91f7f92bae47b495fa607d03c666ea%29%3B%0A%0A%20%20%20%20%20%20%20%20%20%20%20%20%0A%0A%20%20%20%20%20%20%20%20%0A%20%20%20%20%0A%20%20%20%20%20%20%20%20%20%20%20%20var%20tile_layer_dd262424f73d4ee39512c5bc35c6a049%20%3D%20L.tileLayer%28%0A%20%20%20%20%20%20%20%20%20%20%20%20%20%20%20%20%22https%3A//%7Bs%7D.tile.openstreetmap.org/%7Bz%7D/%7Bx%7D/%7By%7D.png%22%2C%0A%20%20%20%20%20%20%20%20%20%20%20%20%20%20%20%20%7B%22attribution%22%3A%20%22Data%20by%20%5Cu0026copy%3B%20%5Cu003ca%20href%3D%5C%22http%3A//openstreetmap.org%5C%22%5Cu003eOpenStreetMap%5Cu003c/a%5Cu003e%2C%20under%20%5Cu003ca%20href%3D%5C%22http%3A//www.openstreetmap.org/copyright%5C%22%5Cu003eODbL%5Cu003c/a%5Cu003e.%22%2C%20%22detectRetina%22%3A%20false%2C%20%22maxNativeZoom%22%3A%2018%2C%20%22maxZoom%22%3A%2018%2C%20%22minZoom%22%3A%200%2C%20%22noWrap%22%3A%20false%2C%20%22opacity%22%3A%201%2C%20%22subdomains%22%3A%20%22abc%22%2C%20%22tms%22%3A%20false%7D%0A%20%20%20%20%20%20%20%20%20%20%20%20%29.addTo%28map_0c91f7f92bae47b495fa607d03c666ea%29%3B%0A%20%20%20%20%20%20%20%20%0A%20%20%20%20%0A%20%20%20%20%20%20%20%20%20%20%20%20map_0c91f7f92bae47b495fa607d03c666ea.fitBounds%28%0A%20%20%20%20%20%20%20%20%20%20%20%20%20%20%20%20%5B%5B37.92500022300004%2C%20-122.51618718699996%5D%2C%20%5B37.92595764300006%2C%20-122.51553752899997%5D%5D%2C%0A%20%20%20%20%20%20%20%20%20%20%20%20%20%20%20%20%7B%7D%0A%20%20%20%20%20%20%20%20%20%20%20%20%29%3B%0A%20%20%20%20%20%20%20%20%0A%20%20%20%20%0A%20%20%20%20%20%20%20%20function%20geo_json_b4d75c914d9e472dbeecbfdbe450a176_styler%28feature%29%20%7B%0A%20%20%20%20%20%20%20%20%20%20%20%20switch%28feature.id%29%20%7B%0A%20%20%20%20%20%20%20%20%20%20%20%20%20%20%20%20default%3A%0A%20%20%20%20%20%20%20%20%20%20%20%20%20%20%20%20%20%20%20%20return%20%7B%22fillOpacity%22%3A%200.5%2C%20%22weight%22%3A%202%7D%3B%0A%20%20%20%20%20%20%20%20%20%20%20%20%7D%0A%20%20%20%20%20%20%20%20%7D%0A%20%20%20%20%20%20%20%20function%20geo_json_b4d75c914d9e472dbeecbfdbe450a176_highlighter%28feature%29%20%7B%0A%20%20%20%20%20%20%20%20%20%20%20%20switch%28feature.id%29%20%7B%0A%20%20%20%20%20%20%20%20%20%20%20%20%20%20%20%20default%3A%0A%20%20%20%20%20%20%20%20%20%20%20%20%20%20%20%20%20%20%20%20return%20%7B%22fillOpacity%22%3A%200.75%7D%3B%0A%20%20%20%20%20%20%20%20%20%20%20%20%7D%0A%20%20%20%20%20%20%20%20%7D%0A%20%20%20%20%20%20%20%20function%20geo_json_b4d75c914d9e472dbeecbfdbe450a176_pointToLayer%28feature%2C%20latlng%29%20%7B%0A%20%20%20%20%20%20%20%20%20%20%20%20var%20opts%20%3D%20%7B%22bubblingMouseEvents%22%3A%20true%2C%20%22color%22%3A%20%22%233388ff%22%2C%20%22dashArray%22%3A%20null%2C%20%22dashOffset%22%3A%20null%2C%20%22fill%22%3A%20true%2C%20%22fillColor%22%3A%20%22%233388ff%22%2C%20%22fillOpacity%22%3A%200.2%2C%20%22fillRule%22%3A%20%22evenodd%22%2C%20%22lineCap%22%3A%20%22round%22%2C%20%22lineJoin%22%3A%20%22round%22%2C%20%22opacity%22%3A%201.0%2C%20%22radius%22%3A%202%2C%20%22stroke%22%3A%20true%2C%20%22weight%22%3A%203%7D%3B%0A%20%20%20%20%20%20%20%20%20%20%20%20%0A%20%20%20%20%20%20%20%20%20%20%20%20let%20style%20%3D%20geo_json_b4d75c914d9e472dbeecbfdbe450a176_styler%28feature%29%0A%20%20%20%20%20%20%20%20%20%20%20%20Object.assign%28opts%2C%20style%29%0A%20%20%20%20%20%20%20%20%20%20%20%20%0A%20%20%20%20%20%20%20%20%20%20%20%20return%20new%20L.CircleMarker%28latlng%2C%20opts%29%0A%20%20%20%20%20%20%20%20%7D%0A%0A%20%20%20%20%20%20%20%20function%20geo_json_b4d75c914d9e472dbeecbfdbe450a176_onEachFeature%28feature%2C%20layer%29%20%7B%0A%20%20%20%20%20%20%20%20%20%20%20%20layer.on%28%7B%0A%20%20%20%20%20%20%20%20%20%20%20%20%20%20%20%20mouseout%3A%20function%28e%29%20%7B%0A%20%20%20%20%20%20%20%20%20%20%20%20%20%20%20%20%20%20%20%20if%28typeof%20e.target.setStyle%20%3D%3D%3D%20%22function%22%29%7B%0A%20%20%20%20%20%20%20%20%20%20%20%20%20%20%20%20%20%20%20%20%20%20%20%20geo_json_b4d75c914d9e472dbeecbfdbe450a176.resetStyle%28e.target%29%3B%0A%20%20%20%20%20%20%20%20%20%20%20%20%20%20%20%20%20%20%20%20%7D%0A%20%20%20%20%20%20%20%20%20%20%20%20%20%20%20%20%7D%2C%0A%20%20%20%20%20%20%20%20%20%20%20%20%20%20%20%20mouseover%3A%20function%28e%29%20%7B%0A%20%20%20%20%20%20%20%20%20%20%20%20%20%20%20%20%20%20%20%20if%28typeof%20e.target.setStyle%20%3D%3D%3D%20%22function%22%29%7B%0A%20%20%20%20%20%20%20%20%20%20%20%20%20%20%20%20%20%20%20%20%20%20%20%20const%20highlightStyle%20%3D%20geo_json_b4d75c914d9e472dbeecbfdbe450a176_highlighter%28e.target.feature%29%0A%20%20%20%20%20%20%20%20%20%20%20%20%20%20%20%20%20%20%20%20%20%20%20%20e.target.setStyle%28highlightStyle%29%3B%0A%20%20%20%20%20%20%20%20%20%20%20%20%20%20%20%20%20%20%20%20%7D%0A%20%20%20%20%20%20%20%20%20%20%20%20%20%20%20%20%7D%2C%0A%20%20%20%20%20%20%20%20%20%20%20%20%7D%29%3B%0A%20%20%20%20%20%20%20%20%7D%3B%0A%20%20%20%20%20%20%20%20var%20geo_json_b4d75c914d9e472dbeecbfdbe450a176%20%3D%20L.geoJson%28null%2C%20%7B%0A%20%20%20%20%20%20%20%20%20%20%20%20%20%20%20%20onEachFeature%3A%20geo_json_b4d75c914d9e472dbeecbfdbe450a176_onEachFeature%2C%0A%20%20%20%20%20%20%20%20%20%20%20%20%0A%20%20%20%20%20%20%20%20%20%20%20%20%20%20%20%20style%3A%20geo_json_b4d75c914d9e472dbeecbfdbe450a176_styler%2C%0A%20%20%20%20%20%20%20%20%20%20%20%20%20%20%20%20pointToLayer%3A%20geo_json_b4d75c914d9e472dbeecbfdbe450a176_pointToLayer%0A%20%20%20%20%20%20%20%20%7D%29%3B%0A%0A%20%20%20%20%20%20%20%20function%20geo_json_b4d75c914d9e472dbeecbfdbe450a176_add%20%28data%29%20%7B%0A%20%20%20%20%20%20%20%20%20%20%20%20geo_json_b4d75c914d9e472dbeecbfdbe450a176%0A%20%20%20%20%20%20%20%20%20%20%20%20%20%20%20%20.addData%28data%29%0A%20%20%20%20%20%20%20%20%20%20%20%20%20%20%20%20.addTo%28map_0c91f7f92bae47b495fa607d03c666ea%29%3B%0A%20%20%20%20%20%20%20%20%7D%0A%20%20%20%20%20%20%20%20%20%20%20%20geo_json_b4d75c914d9e472dbeecbfdbe450a176_add%28%7B%22bbox%22%3A%20%5B-122.51618718699996%2C%2037.92500022300004%2C%20-122.51553752899997%2C%2037.92595764300006%5D%2C%20%22features%22%3A%20%5B%7B%22bbox%22%3A%20%5B-122.51618718699996%2C%2037.92500022300004%2C%20-122.51553752899997%2C%2037.92595764300006%5D%2C%20%22geometry%22%3A%20%7B%22coordinates%22%3A%20%5B%5B-122.51610795999994%2C%2037.92595764300006%2C%200.0%5D%2C%20%5B-122.51618718699996%2C%2037.92568016700005%2C%200.0%5D%2C%20%5B-122.51609211499999%2C%2037.92538519200008%2C%200.0%5D%2C%20%5B-122.51587028099999%2C%2037.92514021200003%2C%200.0%5D%2C%20%5B-122.51553752899997%2C%2037.92500022300004%2C%200.0%5D%5D%2C%20%22type%22%3A%20%22LineString%22%7D%2C%20%22id%22%3A%20%227%22%2C%20%22properties%22%3A%20%7B%22Bus_Brdng_Islnds%22%3A%20null%2C%20%22CT_District%22%3A%20%2204%22%2C%20%22Centerline_Miles%22%3A%20null%2C%20%22County%22%3A%20%22MRN%22%2C%20%22CreationDate%22%3A%201693015153000%2C%20%22EditDate%22%3A%201693421427000%2C%20%22Geom_Priority_Intervention_Type%22%3A%20%22Queue_Jump_lanes/signals%22%2C%20%22Imprv_Site_Amnts%22%3A%203.0%2C%20%22Lyr%22%3A%20%22%5C%22Lns2%5C%22%22%2C%20%22OBJECTID%22%3A%208%2C%20%22One_Side_Rdwy_Only%22%3A%20null%2C%20%22Priority_Intervention_Type_All%22%3A%20%22Queue_Jump_lanes/signals%2CImproved_transit_stop_amenities_including_lighting_and_seating%22%2C%20%22Queue_Jumps%22%3A%202.0%2C%20%22Route%22%3A%20101%2C%20%22Scrs%22%3A%20%22US%20101%20Tamalpais%20Drive%20Overcrossing%20ADA%20and%20Bridge%20Retrofit%20Project%2C%20EA%204J860%20%28SHOPP%29%22%2C%20%22Scrs_Link%22%3A%20%22https%3A//d4vpm3.wixsite.com/tamalpaisoc%20%22%2C%20%22Shape_Length%22%3A%200.0012899753734341105%2C%20%22Submitter_Email%22%3A%20%22sergio.ruiz%40dot.ca.gov%22%2C%20%22Submitter_Name%22%3A%20%22Sergio%2C%20Ruiz%22%2C%20%22Transit_Op_Support%22%3A%20%22yes%22%2C%20%22geo_comments%22%3A%20%22New%20queue%20jump%20lanes%20and%20TSP%20at%20SB%20ramp%20intersection%20to%20address%20bus%20speed%20and%20reliability%20and%20transit%20operator%20input.%22%7D%2C%20%22type%22%3A%20%22Feature%22%7D%5D%2C%20%22type%22%3A%20%22FeatureCollection%22%7D%29%3B%0A%0A%20%20%20%20%20%20%20%20%0A%20%20%20%20%0A%20%20%20%20geo_json_b4d75c914d9e472dbeecbfdbe450a176.bindTooltip%28%0A%20%20%20%20function%28layer%29%7B%0A%20%20%20%20let%20div%20%3D%20L.DomUtil.create%28%27div%27%29%3B%0A%20%20%20%20%0A%20%20%20%20let%20handleObject%20%3D%20feature%3D%3Etypeof%28feature%29%3D%3D%27object%27%20%3F%20JSON.stringify%28feature%29%20%3A%20feature%3B%0A%20%20%20%20let%20fields%20%3D%20%5B%22OBJECTID%22%2C%20%22Submitter_Name%22%2C%20%22Submitter_Email%22%2C%20%22Priority_Intervention_Type_All%22%2C%20%22Scrs%22%2C%20%22Scrs_Link%22%2C%20%22Centerline_Miles%22%2C%20%22One_Side_Rdwy_Only%22%2C%20%22Queue_Jumps%22%2C%20%22Bus_Brdng_Islnds%22%2C%20%22Imprv_Site_Amnts%22%2C%20%22Transit_Op_Support%22%2C%20%22CT_District%22%2C%20%22County%22%2C%20%22Route%22%2C%20%22Geom_Priority_Intervention_Type%22%2C%20%22geo_comments%22%2C%20%22CreationDate%22%2C%20%22Lyr%22%2C%20%22EditDate%22%2C%20%22Shape_Length%22%5D%3B%0A%20%20%20%20let%20aliases%20%3D%20%5B%22OBJECTID%22%2C%20%22Submitter_Name%22%2C%20%22Submitter_Email%22%2C%20%22Priority_Intervention_Type_All%22%2C%20%22Scrs%22%2C%20%22Scrs_Link%22%2C%20%22Centerline_Miles%22%2C%20%22One_Side_Rdwy_Only%22%2C%20%22Queue_Jumps%22%2C%20%22Bus_Brdng_Islnds%22%2C%20%22Imprv_Site_Amnts%22%2C%20%22Transit_Op_Support%22%2C%20%22CT_District%22%2C%20%22County%22%2C%20%22Route%22%2C%20%22Geom_Priority_Intervention_Type%22%2C%20%22geo_comments%22%2C%20%22CreationDate%22%2C%20%22Lyr%22%2C%20%22EditDate%22%2C%20%22Shape_Length%22%5D%3B%0A%20%20%20%20let%20table%20%3D%20%27%3Ctable%3E%27%20%2B%0A%20%20%20%20%20%20%20%20String%28%0A%20%20%20%20%20%20%20%20fields.map%28%0A%20%20%20%20%20%20%20%20%28v%2Ci%29%3D%3E%0A%20%20%20%20%20%20%20%20%60%3Ctr%3E%0A%20%20%20%20%20%20%20%20%20%20%20%20%3Cth%3E%24%7Baliases%5Bi%5D%7D%3C/th%3E%0A%20%20%20%20%20%20%20%20%20%20%20%20%0A%20%20%20%20%20%20%20%20%20%20%20%20%3Ctd%3E%24%7BhandleObject%28layer.feature.properties%5Bv%5D%29%7D%3C/td%3E%0A%20%20%20%20%20%20%20%20%3C/tr%3E%60%29.join%28%27%27%29%29%0A%20%20%20%20%2B%27%3C/table%3E%27%3B%0A%20%20%20%20div.innerHTML%3Dtable%3B%0A%20%20%20%20%0A%20%20%20%20return%20div%0A%20%20%20%20%7D%0A%20%20%20%20%2C%7B%22className%22%3A%20%22foliumtooltip%22%2C%20%22sticky%22%3A%20true%7D%29%3B%0A%20%20%20%20%20%20%20%20%20%20%20%20%20%20%20%20%20%20%20%20%20%0A%3C/script%3E onload=\"this.contentDocument.open();this.contentDocument.write(    decodeURIComponent(this.getAttribute('data-html')));this.contentDocument.close();\" allowfullscreen webkitallowfullscreen mozallowfullscreen></iframe></div></div>"
      ],
      "text/plain": [
       "<folium.folium.Map at 0x7f0ed2edcb50>"
      ]
     },
     "execution_count": 97,
     "metadata": {},
     "output_type": "execute_result"
    }
   ],
   "source": [
    "line_priority.iloc[[7]].explore()"
   ]
  },
  {
   "cell_type": "markdown",
   "id": "99c35a3c-33d7-4dbe-85ab-918d273b470a",
   "metadata": {
    "tags": []
   },
   "source": [
    "### 14 GGT (queue jump, new direct fwy link?, group w/ 7)"
   ]
  },
  {
   "cell_type": "code",
   "execution_count": 98,
   "id": "7fc29fa8-4177-46dd-bd3d-21f23b0b43af",
   "metadata": {},
   "outputs": [
    {
     "data": {
      "text/html": [
       "<div>\n",
       "<style scoped>\n",
       "    .dataframe tbody tr th:only-of-type {\n",
       "        vertical-align: middle;\n",
       "    }\n",
       "\n",
       "    .dataframe tbody tr th {\n",
       "        vertical-align: top;\n",
       "    }\n",
       "\n",
       "    .dataframe thead th {\n",
       "        text-align: right;\n",
       "    }\n",
       "</style>\n",
       "<table border=\"1\" class=\"dataframe\">\n",
       "  <thead>\n",
       "    <tr style=\"text-align: right;\">\n",
       "      <th></th>\n",
       "      <th>OBJECTID</th>\n",
       "      <th>Submitter_Name</th>\n",
       "      <th>Submitter_Email</th>\n",
       "      <th>Priority_Intervention_Type_All</th>\n",
       "      <th>Scrs</th>\n",
       "      <th>Scrs_Link</th>\n",
       "      <th>Centerline_Miles</th>\n",
       "      <th>One_Side_Rdwy_Only</th>\n",
       "      <th>Queue_Jumps</th>\n",
       "      <th>Bus_Brdng_Islnds</th>\n",
       "      <th>...</th>\n",
       "      <th>CT_District</th>\n",
       "      <th>County</th>\n",
       "      <th>Route</th>\n",
       "      <th>Geom_Priority_Intervention_Type</th>\n",
       "      <th>geo_comments</th>\n",
       "      <th>CreationDate</th>\n",
       "      <th>Lyr</th>\n",
       "      <th>EditDate</th>\n",
       "      <th>Shape_Length</th>\n",
       "      <th>geometry</th>\n",
       "    </tr>\n",
       "  </thead>\n",
       "  <tbody>\n",
       "    <tr>\n",
       "      <th>14</th>\n",
       "      <td>15</td>\n",
       "      <td>Sergio, Ruiz</td>\n",
       "      <td>sergio.ruiz@dot.ca.gov</td>\n",
       "      <td>Queue_Jump_lanes/signals,Improved_transit_stop...</td>\n",
       "      <td>US 101 Tamalpais Drive Overcrossing ADA and Br...</td>\n",
       "      <td>https://d4vpm3.wixsite.com/tamalpaisoc</td>\n",
       "      <td>NaN</td>\n",
       "      <td>NaN</td>\n",
       "      <td>2.0</td>\n",
       "      <td>NaN</td>\n",
       "      <td>...</td>\n",
       "      <td>04</td>\n",
       "      <td>MRN</td>\n",
       "      <td>101</td>\n",
       "      <td>Queue_Jump_lanes/signals</td>\n",
       "      <td>New queue jump lanes and TSP at NB ramp inters...</td>\n",
       "      <td>1693015153000</td>\n",
       "      <td>\"Lns1\"</td>\n",
       "      <td>1693421431000</td>\n",
       "      <td>0.001093</td>\n",
       "      <td>LINESTRING Z (-122.51360 37.92683 0.00000, -12...</td>\n",
       "    </tr>\n",
       "  </tbody>\n",
       "</table>\n",
       "<p>1 rows × 22 columns</p>\n",
       "</div>"
      ],
      "text/plain": [
       "    OBJECTID Submitter_Name         Submitter_Email  \\\n",
       "14        15   Sergio, Ruiz  sergio.ruiz@dot.ca.gov   \n",
       "\n",
       "                       Priority_Intervention_Type_All  \\\n",
       "14  Queue_Jump_lanes/signals,Improved_transit_stop...   \n",
       "\n",
       "                                                 Scrs  \\\n",
       "14  US 101 Tamalpais Drive Overcrossing ADA and Br...   \n",
       "\n",
       "                                  Scrs_Link  Centerline_Miles  \\\n",
       "14  https://d4vpm3.wixsite.com/tamalpaisoc                NaN   \n",
       "\n",
       "   One_Side_Rdwy_Only  Queue_Jumps  Bus_Brdng_Islnds  ...  CT_District County  \\\n",
       "14                NaN          2.0               NaN  ...           04    MRN   \n",
       "\n",
       "   Route Geom_Priority_Intervention_Type  \\\n",
       "14   101        Queue_Jump_lanes/signals   \n",
       "\n",
       "                                         geo_comments   CreationDate     Lyr  \\\n",
       "14  New queue jump lanes and TSP at NB ramp inters...  1693015153000  \"Lns1\"   \n",
       "\n",
       "         EditDate Shape_Length  \\\n",
       "14  1693421431000     0.001093   \n",
       "\n",
       "                                             geometry  \n",
       "14  LINESTRING Z (-122.51360 37.92683 0.00000, -12...  \n",
       "\n",
       "[1 rows x 22 columns]"
      ]
     },
     "execution_count": 98,
     "metadata": {},
     "output_type": "execute_result"
    }
   ],
   "source": [
    "line_priority.iloc[[14]]"
   ]
  },
  {
   "cell_type": "code",
   "execution_count": 99,
   "id": "182ac574-6f5f-4c10-8882-cec336bc0885",
   "metadata": {},
   "outputs": [
    {
     "data": {
      "text/plain": [
       "'New queue jump lanes and TSP at NB ramp intersection to address bus speed and reliability and transit operator input.'"
      ]
     },
     "execution_count": 99,
     "metadata": {},
     "output_type": "execute_result"
    }
   ],
   "source": [
    "line_priority.iloc[[14]].geo_comments.iloc[0]"
   ]
  },
  {
   "cell_type": "code",
   "execution_count": 100,
   "id": "f55dfe6a-5b31-4b62-9f78-299a20f85e90",
   "metadata": {},
   "outputs": [
    {
     "data": {
      "text/html": [
       "<div style=\"width:100%;\"><div style=\"position:relative;width:100%;height:0;padding-bottom:60%;\"><span style=\"color:#565656\">Make this Notebook Trusted to load map: File -> Trust Notebook</span><iframe src=\"about:blank\" style=\"position:absolute;width:100%;height:100%;left:0;top:0;border:none !important;\" data-html=%3C%21DOCTYPE%20html%3E%0A%3Chead%3E%20%20%20%20%0A%20%20%20%20%3Cmeta%20http-equiv%3D%22content-type%22%20content%3D%22text/html%3B%20charset%3DUTF-8%22%20/%3E%0A%20%20%20%20%0A%20%20%20%20%20%20%20%20%3Cscript%3E%0A%20%20%20%20%20%20%20%20%20%20%20%20L_NO_TOUCH%20%3D%20false%3B%0A%20%20%20%20%20%20%20%20%20%20%20%20L_DISABLE_3D%20%3D%20false%3B%0A%20%20%20%20%20%20%20%20%3C/script%3E%0A%20%20%20%20%0A%20%20%20%20%3Cstyle%3Ehtml%2C%20body%20%7Bwidth%3A%20100%25%3Bheight%3A%20100%25%3Bmargin%3A%200%3Bpadding%3A%200%3B%7D%3C/style%3E%0A%20%20%20%20%3Cstyle%3E%23map%20%7Bposition%3Aabsolute%3Btop%3A0%3Bbottom%3A0%3Bright%3A0%3Bleft%3A0%3B%7D%3C/style%3E%0A%20%20%20%20%3Cscript%20src%3D%22https%3A//cdn.jsdelivr.net/npm/leaflet%401.6.0/dist/leaflet.js%22%3E%3C/script%3E%0A%20%20%20%20%3Cscript%20src%3D%22https%3A//code.jquery.com/jquery-1.12.4.min.js%22%3E%3C/script%3E%0A%20%20%20%20%3Cscript%20src%3D%22https%3A//maxcdn.bootstrapcdn.com/bootstrap/3.2.0/js/bootstrap.min.js%22%3E%3C/script%3E%0A%20%20%20%20%3Cscript%20src%3D%22https%3A//cdnjs.cloudflare.com/ajax/libs/Leaflet.awesome-markers/2.0.2/leaflet.awesome-markers.js%22%3E%3C/script%3E%0A%20%20%20%20%3Clink%20rel%3D%22stylesheet%22%20href%3D%22https%3A//cdn.jsdelivr.net/npm/leaflet%401.6.0/dist/leaflet.css%22/%3E%0A%20%20%20%20%3Clink%20rel%3D%22stylesheet%22%20href%3D%22https%3A//maxcdn.bootstrapcdn.com/bootstrap/3.2.0/css/bootstrap.min.css%22/%3E%0A%20%20%20%20%3Clink%20rel%3D%22stylesheet%22%20href%3D%22https%3A//maxcdn.bootstrapcdn.com/bootstrap/3.2.0/css/bootstrap-theme.min.css%22/%3E%0A%20%20%20%20%3Clink%20rel%3D%22stylesheet%22%20href%3D%22https%3A//maxcdn.bootstrapcdn.com/font-awesome/4.6.3/css/font-awesome.min.css%22/%3E%0A%20%20%20%20%3Clink%20rel%3D%22stylesheet%22%20href%3D%22https%3A//cdnjs.cloudflare.com/ajax/libs/Leaflet.awesome-markers/2.0.2/leaflet.awesome-markers.css%22/%3E%0A%20%20%20%20%3Clink%20rel%3D%22stylesheet%22%20href%3D%22https%3A//cdn.jsdelivr.net/gh/python-visualization/folium/folium/templates/leaflet.awesome.rotate.min.css%22/%3E%0A%20%20%20%20%0A%20%20%20%20%20%20%20%20%20%20%20%20%3Cmeta%20name%3D%22viewport%22%20content%3D%22width%3Ddevice-width%2C%0A%20%20%20%20%20%20%20%20%20%20%20%20%20%20%20%20initial-scale%3D1.0%2C%20maximum-scale%3D1.0%2C%20user-scalable%3Dno%22%20/%3E%0A%20%20%20%20%20%20%20%20%20%20%20%20%3Cstyle%3E%0A%20%20%20%20%20%20%20%20%20%20%20%20%20%20%20%20%23map_aecbf3a099a84a9e8c50ab9595a4ee49%20%7B%0A%20%20%20%20%20%20%20%20%20%20%20%20%20%20%20%20%20%20%20%20position%3A%20relative%3B%0A%20%20%20%20%20%20%20%20%20%20%20%20%20%20%20%20%20%20%20%20width%3A%20100.0%25%3B%0A%20%20%20%20%20%20%20%20%20%20%20%20%20%20%20%20%20%20%20%20height%3A%20100.0%25%3B%0A%20%20%20%20%20%20%20%20%20%20%20%20%20%20%20%20%20%20%20%20left%3A%200.0%25%3B%0A%20%20%20%20%20%20%20%20%20%20%20%20%20%20%20%20%20%20%20%20top%3A%200.0%25%3B%0A%20%20%20%20%20%20%20%20%20%20%20%20%20%20%20%20%7D%0A%20%20%20%20%20%20%20%20%20%20%20%20%3C/style%3E%0A%20%20%20%20%20%20%20%20%0A%20%20%20%20%0A%20%20%20%20%20%20%20%20%20%20%20%20%20%20%20%20%20%20%20%20%3Cstyle%3E%0A%20%20%20%20%20%20%20%20%20%20%20%20%20%20%20%20%20%20%20%20%20%20%20%20.foliumtooltip%20%7B%0A%20%20%20%20%20%20%20%20%20%20%20%20%20%20%20%20%20%20%20%20%20%20%20%20%20%20%20%20%0A%20%20%20%20%20%20%20%20%20%20%20%20%20%20%20%20%20%20%20%20%20%20%20%20%7D%0A%20%20%20%20%20%20%20%20%20%20%20%20%20%20%20%20%20%20%20%20%20%20%20.foliumtooltip%20table%7B%0A%20%20%20%20%20%20%20%20%20%20%20%20%20%20%20%20%20%20%20%20%20%20%20%20%20%20%20%20margin%3A%20auto%3B%0A%20%20%20%20%20%20%20%20%20%20%20%20%20%20%20%20%20%20%20%20%20%20%20%20%7D%0A%20%20%20%20%20%20%20%20%20%20%20%20%20%20%20%20%20%20%20%20%20%20%20%20.foliumtooltip%20tr%7B%0A%20%20%20%20%20%20%20%20%20%20%20%20%20%20%20%20%20%20%20%20%20%20%20%20%20%20%20%20text-align%3A%20left%3B%0A%20%20%20%20%20%20%20%20%20%20%20%20%20%20%20%20%20%20%20%20%20%20%20%20%7D%0A%20%20%20%20%20%20%20%20%20%20%20%20%20%20%20%20%20%20%20%20%20%20%20%20.foliumtooltip%20th%7B%0A%20%20%20%20%20%20%20%20%20%20%20%20%20%20%20%20%20%20%20%20%20%20%20%20%20%20%20%20padding%3A%202px%3B%20padding-right%3A%208px%3B%0A%20%20%20%20%20%20%20%20%20%20%20%20%20%20%20%20%20%20%20%20%20%20%20%20%7D%0A%20%20%20%20%20%20%20%20%20%20%20%20%20%20%20%20%20%20%20%20%3C/style%3E%0A%20%20%20%20%20%20%20%20%20%20%20%20%0A%3C/head%3E%0A%3Cbody%3E%20%20%20%20%0A%20%20%20%20%0A%20%20%20%20%20%20%20%20%20%20%20%20%3Cdiv%20class%3D%22folium-map%22%20id%3D%22map_aecbf3a099a84a9e8c50ab9595a4ee49%22%20%3E%3C/div%3E%0A%20%20%20%20%20%20%20%20%0A%3C/body%3E%0A%3Cscript%3E%20%20%20%20%0A%20%20%20%20%0A%20%20%20%20%20%20%20%20%20%20%20%20var%20map_aecbf3a099a84a9e8c50ab9595a4ee49%20%3D%20L.map%28%0A%20%20%20%20%20%20%20%20%20%20%20%20%20%20%20%20%22map_aecbf3a099a84a9e8c50ab9595a4ee49%22%2C%0A%20%20%20%20%20%20%20%20%20%20%20%20%20%20%20%20%7B%0A%20%20%20%20%20%20%20%20%20%20%20%20%20%20%20%20%20%20%20%20center%3A%20%5B37.92636133650004%2C%20-122.51338913849995%5D%2C%0A%20%20%20%20%20%20%20%20%20%20%20%20%20%20%20%20%20%20%20%20crs%3A%20L.CRS.EPSG3857%2C%0A%20%20%20%20%20%20%20%20%20%20%20%20%20%20%20%20%20%20%20%20zoom%3A%2010%2C%0A%20%20%20%20%20%20%20%20%20%20%20%20%20%20%20%20%20%20%20%20zoomControl%3A%20true%2C%0A%20%20%20%20%20%20%20%20%20%20%20%20%20%20%20%20%20%20%20%20preferCanvas%3A%20false%2C%0A%20%20%20%20%20%20%20%20%20%20%20%20%20%20%20%20%7D%0A%20%20%20%20%20%20%20%20%20%20%20%20%29%3B%0A%20%20%20%20%20%20%20%20%20%20%20%20L.control.scale%28%29.addTo%28map_aecbf3a099a84a9e8c50ab9595a4ee49%29%3B%0A%0A%20%20%20%20%20%20%20%20%20%20%20%20%0A%0A%20%20%20%20%20%20%20%20%0A%20%20%20%20%0A%20%20%20%20%20%20%20%20%20%20%20%20var%20tile_layer_127eaf739aa648a9aee29b687353b6b8%20%3D%20L.tileLayer%28%0A%20%20%20%20%20%20%20%20%20%20%20%20%20%20%20%20%22https%3A//%7Bs%7D.tile.openstreetmap.org/%7Bz%7D/%7Bx%7D/%7By%7D.png%22%2C%0A%20%20%20%20%20%20%20%20%20%20%20%20%20%20%20%20%7B%22attribution%22%3A%20%22Data%20by%20%5Cu0026copy%3B%20%5Cu003ca%20href%3D%5C%22http%3A//openstreetmap.org%5C%22%5Cu003eOpenStreetMap%5Cu003c/a%5Cu003e%2C%20under%20%5Cu003ca%20href%3D%5C%22http%3A//www.openstreetmap.org/copyright%5C%22%5Cu003eODbL%5Cu003c/a%5Cu003e.%22%2C%20%22detectRetina%22%3A%20false%2C%20%22maxNativeZoom%22%3A%2018%2C%20%22maxZoom%22%3A%2018%2C%20%22minZoom%22%3A%200%2C%20%22noWrap%22%3A%20false%2C%20%22opacity%22%3A%201%2C%20%22subdomains%22%3A%20%22abc%22%2C%20%22tms%22%3A%20false%7D%0A%20%20%20%20%20%20%20%20%20%20%20%20%29.addTo%28map_aecbf3a099a84a9e8c50ab9595a4ee49%29%3B%0A%20%20%20%20%20%20%20%20%0A%20%20%20%20%0A%20%20%20%20%20%20%20%20%20%20%20%20map_aecbf3a099a84a9e8c50ab9595a4ee49.fitBounds%28%0A%20%20%20%20%20%20%20%20%20%20%20%20%20%20%20%20%5B%5B37.925893881000036%2C%20-122.51359988099995%5D%2C%20%5B37.92682879200004%2C%20-122.51317839599994%5D%5D%2C%0A%20%20%20%20%20%20%20%20%20%20%20%20%20%20%20%20%7B%7D%0A%20%20%20%20%20%20%20%20%20%20%20%20%29%3B%0A%20%20%20%20%20%20%20%20%0A%20%20%20%20%0A%20%20%20%20%20%20%20%20function%20geo_json_4ede34d94af2485c8a6cec156a44ab3c_styler%28feature%29%20%7B%0A%20%20%20%20%20%20%20%20%20%20%20%20switch%28feature.id%29%20%7B%0A%20%20%20%20%20%20%20%20%20%20%20%20%20%20%20%20default%3A%0A%20%20%20%20%20%20%20%20%20%20%20%20%20%20%20%20%20%20%20%20return%20%7B%22fillOpacity%22%3A%200.5%2C%20%22weight%22%3A%202%7D%3B%0A%20%20%20%20%20%20%20%20%20%20%20%20%7D%0A%20%20%20%20%20%20%20%20%7D%0A%20%20%20%20%20%20%20%20function%20geo_json_4ede34d94af2485c8a6cec156a44ab3c_highlighter%28feature%29%20%7B%0A%20%20%20%20%20%20%20%20%20%20%20%20switch%28feature.id%29%20%7B%0A%20%20%20%20%20%20%20%20%20%20%20%20%20%20%20%20default%3A%0A%20%20%20%20%20%20%20%20%20%20%20%20%20%20%20%20%20%20%20%20return%20%7B%22fillOpacity%22%3A%200.75%7D%3B%0A%20%20%20%20%20%20%20%20%20%20%20%20%7D%0A%20%20%20%20%20%20%20%20%7D%0A%20%20%20%20%20%20%20%20function%20geo_json_4ede34d94af2485c8a6cec156a44ab3c_pointToLayer%28feature%2C%20latlng%29%20%7B%0A%20%20%20%20%20%20%20%20%20%20%20%20var%20opts%20%3D%20%7B%22bubblingMouseEvents%22%3A%20true%2C%20%22color%22%3A%20%22%233388ff%22%2C%20%22dashArray%22%3A%20null%2C%20%22dashOffset%22%3A%20null%2C%20%22fill%22%3A%20true%2C%20%22fillColor%22%3A%20%22%233388ff%22%2C%20%22fillOpacity%22%3A%200.2%2C%20%22fillRule%22%3A%20%22evenodd%22%2C%20%22lineCap%22%3A%20%22round%22%2C%20%22lineJoin%22%3A%20%22round%22%2C%20%22opacity%22%3A%201.0%2C%20%22radius%22%3A%202%2C%20%22stroke%22%3A%20true%2C%20%22weight%22%3A%203%7D%3B%0A%20%20%20%20%20%20%20%20%20%20%20%20%0A%20%20%20%20%20%20%20%20%20%20%20%20let%20style%20%3D%20geo_json_4ede34d94af2485c8a6cec156a44ab3c_styler%28feature%29%0A%20%20%20%20%20%20%20%20%20%20%20%20Object.assign%28opts%2C%20style%29%0A%20%20%20%20%20%20%20%20%20%20%20%20%0A%20%20%20%20%20%20%20%20%20%20%20%20return%20new%20L.CircleMarker%28latlng%2C%20opts%29%0A%20%20%20%20%20%20%20%20%7D%0A%0A%20%20%20%20%20%20%20%20function%20geo_json_4ede34d94af2485c8a6cec156a44ab3c_onEachFeature%28feature%2C%20layer%29%20%7B%0A%20%20%20%20%20%20%20%20%20%20%20%20layer.on%28%7B%0A%20%20%20%20%20%20%20%20%20%20%20%20%20%20%20%20mouseout%3A%20function%28e%29%20%7B%0A%20%20%20%20%20%20%20%20%20%20%20%20%20%20%20%20%20%20%20%20if%28typeof%20e.target.setStyle%20%3D%3D%3D%20%22function%22%29%7B%0A%20%20%20%20%20%20%20%20%20%20%20%20%20%20%20%20%20%20%20%20%20%20%20%20geo_json_4ede34d94af2485c8a6cec156a44ab3c.resetStyle%28e.target%29%3B%0A%20%20%20%20%20%20%20%20%20%20%20%20%20%20%20%20%20%20%20%20%7D%0A%20%20%20%20%20%20%20%20%20%20%20%20%20%20%20%20%7D%2C%0A%20%20%20%20%20%20%20%20%20%20%20%20%20%20%20%20mouseover%3A%20function%28e%29%20%7B%0A%20%20%20%20%20%20%20%20%20%20%20%20%20%20%20%20%20%20%20%20if%28typeof%20e.target.setStyle%20%3D%3D%3D%20%22function%22%29%7B%0A%20%20%20%20%20%20%20%20%20%20%20%20%20%20%20%20%20%20%20%20%20%20%20%20const%20highlightStyle%20%3D%20geo_json_4ede34d94af2485c8a6cec156a44ab3c_highlighter%28e.target.feature%29%0A%20%20%20%20%20%20%20%20%20%20%20%20%20%20%20%20%20%20%20%20%20%20%20%20e.target.setStyle%28highlightStyle%29%3B%0A%20%20%20%20%20%20%20%20%20%20%20%20%20%20%20%20%20%20%20%20%7D%0A%20%20%20%20%20%20%20%20%20%20%20%20%20%20%20%20%7D%2C%0A%20%20%20%20%20%20%20%20%20%20%20%20%7D%29%3B%0A%20%20%20%20%20%20%20%20%7D%3B%0A%20%20%20%20%20%20%20%20var%20geo_json_4ede34d94af2485c8a6cec156a44ab3c%20%3D%20L.geoJson%28null%2C%20%7B%0A%20%20%20%20%20%20%20%20%20%20%20%20%20%20%20%20onEachFeature%3A%20geo_json_4ede34d94af2485c8a6cec156a44ab3c_onEachFeature%2C%0A%20%20%20%20%20%20%20%20%20%20%20%20%0A%20%20%20%20%20%20%20%20%20%20%20%20%20%20%20%20style%3A%20geo_json_4ede34d94af2485c8a6cec156a44ab3c_styler%2C%0A%20%20%20%20%20%20%20%20%20%20%20%20%20%20%20%20pointToLayer%3A%20geo_json_4ede34d94af2485c8a6cec156a44ab3c_pointToLayer%0A%20%20%20%20%20%20%20%20%7D%29%3B%0A%0A%20%20%20%20%20%20%20%20function%20geo_json_4ede34d94af2485c8a6cec156a44ab3c_add%20%28data%29%20%7B%0A%20%20%20%20%20%20%20%20%20%20%20%20geo_json_4ede34d94af2485c8a6cec156a44ab3c%0A%20%20%20%20%20%20%20%20%20%20%20%20%20%20%20%20.addData%28data%29%0A%20%20%20%20%20%20%20%20%20%20%20%20%20%20%20%20.addTo%28map_aecbf3a099a84a9e8c50ab9595a4ee49%29%3B%0A%20%20%20%20%20%20%20%20%7D%0A%20%20%20%20%20%20%20%20%20%20%20%20geo_json_4ede34d94af2485c8a6cec156a44ab3c_add%28%7B%22bbox%22%3A%20%5B-122.51359988099995%2C%2037.925893881000036%2C%20-122.51317839599994%2C%2037.92682879200004%5D%2C%20%22features%22%3A%20%5B%7B%22bbox%22%3A%20%5B-122.51359988099995%2C%2037.925893881000036%2C%20-122.51317839599994%2C%2037.92682879200004%5D%2C%20%22geometry%22%3A%20%7B%22coordinates%22%3A%20%5B%5B-122.51359988099995%2C%2037.92682879200004%2C%200.0%5D%2C%20%5B-122.51340973699996%2C%2037.926681307000024%2C%200.0%5D%2C%20%5B-122.51326712899998%2C%2037.926488825000035%2C%200.0%5D%2C%20%5B-122.51317839599994%2C%2037.926226350000036%2C%200.0%5D%2C%20%5B-122.51322276299999%2C%2037.925893881000036%2C%200.0%5D%5D%2C%20%22type%22%3A%20%22LineString%22%7D%2C%20%22id%22%3A%20%2214%22%2C%20%22properties%22%3A%20%7B%22Bus_Brdng_Islnds%22%3A%20null%2C%20%22CT_District%22%3A%20%2204%22%2C%20%22Centerline_Miles%22%3A%20null%2C%20%22County%22%3A%20%22MRN%22%2C%20%22CreationDate%22%3A%201693015153000%2C%20%22EditDate%22%3A%201693421431000%2C%20%22Geom_Priority_Intervention_Type%22%3A%20%22Queue_Jump_lanes/signals%22%2C%20%22Imprv_Site_Amnts%22%3A%203.0%2C%20%22Lyr%22%3A%20%22%5C%22Lns1%5C%22%22%2C%20%22OBJECTID%22%3A%2015%2C%20%22One_Side_Rdwy_Only%22%3A%20null%2C%20%22Priority_Intervention_Type_All%22%3A%20%22Queue_Jump_lanes/signals%2CImproved_transit_stop_amenities_including_lighting_and_seating%22%2C%20%22Queue_Jumps%22%3A%202.0%2C%20%22Route%22%3A%20101%2C%20%22Scrs%22%3A%20%22US%20101%20Tamalpais%20Drive%20Overcrossing%20ADA%20and%20Bridge%20Retrofit%20Project%2C%20EA%204J860%20%28SHOPP%29%22%2C%20%22Scrs_Link%22%3A%20%22https%3A//d4vpm3.wixsite.com/tamalpaisoc%20%22%2C%20%22Shape_Length%22%3A%200.0010926765873298708%2C%20%22Submitter_Email%22%3A%20%22sergio.ruiz%40dot.ca.gov%22%2C%20%22Submitter_Name%22%3A%20%22Sergio%2C%20Ruiz%22%2C%20%22Transit_Op_Support%22%3A%20%22yes%22%2C%20%22geo_comments%22%3A%20%22New%20queue%20jump%20lanes%20and%20TSP%20at%20NB%20ramp%20intersection%20to%20address%20bus%20speed%20and%20reliability%20and%20transit%20operator%20input.%22%7D%2C%20%22type%22%3A%20%22Feature%22%7D%5D%2C%20%22type%22%3A%20%22FeatureCollection%22%7D%29%3B%0A%0A%20%20%20%20%20%20%20%20%0A%20%20%20%20%0A%20%20%20%20geo_json_4ede34d94af2485c8a6cec156a44ab3c.bindTooltip%28%0A%20%20%20%20function%28layer%29%7B%0A%20%20%20%20let%20div%20%3D%20L.DomUtil.create%28%27div%27%29%3B%0A%20%20%20%20%0A%20%20%20%20let%20handleObject%20%3D%20feature%3D%3Etypeof%28feature%29%3D%3D%27object%27%20%3F%20JSON.stringify%28feature%29%20%3A%20feature%3B%0A%20%20%20%20let%20fields%20%3D%20%5B%22OBJECTID%22%2C%20%22Submitter_Name%22%2C%20%22Submitter_Email%22%2C%20%22Priority_Intervention_Type_All%22%2C%20%22Scrs%22%2C%20%22Scrs_Link%22%2C%20%22Centerline_Miles%22%2C%20%22One_Side_Rdwy_Only%22%2C%20%22Queue_Jumps%22%2C%20%22Bus_Brdng_Islnds%22%2C%20%22Imprv_Site_Amnts%22%2C%20%22Transit_Op_Support%22%2C%20%22CT_District%22%2C%20%22County%22%2C%20%22Route%22%2C%20%22Geom_Priority_Intervention_Type%22%2C%20%22geo_comments%22%2C%20%22CreationDate%22%2C%20%22Lyr%22%2C%20%22EditDate%22%2C%20%22Shape_Length%22%5D%3B%0A%20%20%20%20let%20aliases%20%3D%20%5B%22OBJECTID%22%2C%20%22Submitter_Name%22%2C%20%22Submitter_Email%22%2C%20%22Priority_Intervention_Type_All%22%2C%20%22Scrs%22%2C%20%22Scrs_Link%22%2C%20%22Centerline_Miles%22%2C%20%22One_Side_Rdwy_Only%22%2C%20%22Queue_Jumps%22%2C%20%22Bus_Brdng_Islnds%22%2C%20%22Imprv_Site_Amnts%22%2C%20%22Transit_Op_Support%22%2C%20%22CT_District%22%2C%20%22County%22%2C%20%22Route%22%2C%20%22Geom_Priority_Intervention_Type%22%2C%20%22geo_comments%22%2C%20%22CreationDate%22%2C%20%22Lyr%22%2C%20%22EditDate%22%2C%20%22Shape_Length%22%5D%3B%0A%20%20%20%20let%20table%20%3D%20%27%3Ctable%3E%27%20%2B%0A%20%20%20%20%20%20%20%20String%28%0A%20%20%20%20%20%20%20%20fields.map%28%0A%20%20%20%20%20%20%20%20%28v%2Ci%29%3D%3E%0A%20%20%20%20%20%20%20%20%60%3Ctr%3E%0A%20%20%20%20%20%20%20%20%20%20%20%20%3Cth%3E%24%7Baliases%5Bi%5D%7D%3C/th%3E%0A%20%20%20%20%20%20%20%20%20%20%20%20%0A%20%20%20%20%20%20%20%20%20%20%20%20%3Ctd%3E%24%7BhandleObject%28layer.feature.properties%5Bv%5D%29%7D%3C/td%3E%0A%20%20%20%20%20%20%20%20%3C/tr%3E%60%29.join%28%27%27%29%29%0A%20%20%20%20%2B%27%3C/table%3E%27%3B%0A%20%20%20%20div.innerHTML%3Dtable%3B%0A%20%20%20%20%0A%20%20%20%20return%20div%0A%20%20%20%20%7D%0A%20%20%20%20%2C%7B%22className%22%3A%20%22foliumtooltip%22%2C%20%22sticky%22%3A%20true%7D%29%3B%0A%20%20%20%20%20%20%20%20%20%20%20%20%20%20%20%20%20%20%20%20%20%0A%3C/script%3E onload=\"this.contentDocument.open();this.contentDocument.write(    decodeURIComponent(this.getAttribute('data-html')));this.contentDocument.close();\" allowfullscreen webkitallowfullscreen mozallowfullscreen></iframe></div></div>"
      ],
      "text/plain": [
       "<folium.folium.Map at 0x7f0ee347ebe0>"
      ]
     },
     "execution_count": 100,
     "metadata": {},
     "output_type": "execute_result"
    }
   ],
   "source": [
    "line_priority.iloc[[14]].explore()"
   ]
  },
  {
   "cell_type": "markdown",
   "id": "25eaa87e-d803-4f59-a8f7-59e299efd7e8",
   "metadata": {
    "tags": []
   },
   "source": [
    "## 8 SDMTS (Bus Lane, fwy?)"
   ]
  },
  {
   "cell_type": "code",
   "execution_count": 101,
   "id": "2e5a6719-d141-4257-b632-c623f2a4235c",
   "metadata": {},
   "outputs": [
    {
     "data": {
      "text/html": [
       "<div>\n",
       "<style scoped>\n",
       "    .dataframe tbody tr th:only-of-type {\n",
       "        vertical-align: middle;\n",
       "    }\n",
       "\n",
       "    .dataframe tbody tr th {\n",
       "        vertical-align: top;\n",
       "    }\n",
       "\n",
       "    .dataframe thead th {\n",
       "        text-align: right;\n",
       "    }\n",
       "</style>\n",
       "<table border=\"1\" class=\"dataframe\">\n",
       "  <thead>\n",
       "    <tr style=\"text-align: right;\">\n",
       "      <th></th>\n",
       "      <th>OBJECTID</th>\n",
       "      <th>Submitter_Name</th>\n",
       "      <th>Submitter_Email</th>\n",
       "      <th>Priority_Intervention_Type_All</th>\n",
       "      <th>Scrs</th>\n",
       "      <th>Scrs_Link</th>\n",
       "      <th>Centerline_Miles</th>\n",
       "      <th>One_Side_Rdwy_Only</th>\n",
       "      <th>Queue_Jumps</th>\n",
       "      <th>Bus_Brdng_Islnds</th>\n",
       "      <th>...</th>\n",
       "      <th>CT_District</th>\n",
       "      <th>County</th>\n",
       "      <th>Route</th>\n",
       "      <th>Geom_Priority_Intervention_Type</th>\n",
       "      <th>geo_comments</th>\n",
       "      <th>CreationDate</th>\n",
       "      <th>Lyr</th>\n",
       "      <th>EditDate</th>\n",
       "      <th>Shape_Length</th>\n",
       "      <th>geometry</th>\n",
       "    </tr>\n",
       "  </thead>\n",
       "  <tbody>\n",
       "    <tr>\n",
       "      <th>8</th>\n",
       "      <td>9</td>\n",
       "      <td>Alyssa Ahn</td>\n",
       "      <td>alyssa.ahn@dot.ca.gov</td>\n",
       "      <td>Bus_Only_Lane_(full-time)</td>\n",
       "      <td>NaN</td>\n",
       "      <td>NaN</td>\n",
       "      <td>4.66</td>\n",
       "      <td>no</td>\n",
       "      <td>NaN</td>\n",
       "      <td>NaN</td>\n",
       "      <td>...</td>\n",
       "      <td>11</td>\n",
       "      <td>SD</td>\n",
       "      <td>805</td>\n",
       "      <td>Bus_Only_Lane_(full-time)</td>\n",
       "      <td>Route 15 PM R3.30/M4.66 (to University Avenue ...</td>\n",
       "      <td>1693251188000</td>\n",
       "      <td>\"Lns2\"</td>\n",
       "      <td>1693421427000</td>\n",
       "      <td>0.020183</td>\n",
       "      <td>LINESTRING Z (-117.10863 32.74968 0.00000, -11...</td>\n",
       "    </tr>\n",
       "  </tbody>\n",
       "</table>\n",
       "<p>1 rows × 22 columns</p>\n",
       "</div>"
      ],
      "text/plain": [
       "   OBJECTID Submitter_Name        Submitter_Email  \\\n",
       "8         9     Alyssa Ahn  alyssa.ahn@dot.ca.gov   \n",
       "\n",
       "  Priority_Intervention_Type_All Scrs Scrs_Link  Centerline_Miles  \\\n",
       "8      Bus_Only_Lane_(full-time)  NaN       NaN              4.66   \n",
       "\n",
       "  One_Side_Rdwy_Only  Queue_Jumps  Bus_Brdng_Islnds  ...  CT_District County  \\\n",
       "8                 no          NaN               NaN  ...           11     SD   \n",
       "\n",
       "  Route Geom_Priority_Intervention_Type  \\\n",
       "8   805       Bus_Only_Lane_(full-time)   \n",
       "\n",
       "                                        geo_comments   CreationDate     Lyr  \\\n",
       "8  Route 15 PM R3.30/M4.66 (to University Avenue ...  1693251188000  \"Lns2\"   \n",
       "\n",
       "        EditDate Shape_Length  \\\n",
       "8  1693421427000     0.020183   \n",
       "\n",
       "                                            geometry  \n",
       "8  LINESTRING Z (-117.10863 32.74968 0.00000, -11...  \n",
       "\n",
       "[1 rows x 22 columns]"
      ]
     },
     "execution_count": 101,
     "metadata": {},
     "output_type": "execute_result"
    }
   ],
   "source": [
    "line_priority.iloc[[8]]"
   ]
  },
  {
   "cell_type": "code",
   "execution_count": 102,
   "id": "edb81235-5a4b-4b14-815f-55f78471079b",
   "metadata": {},
   "outputs": [
    {
     "data": {
      "text/plain": [
       "'Route 15 PM R3.30/M4.66 (to University Avenue OC at Transit Hub) NB and SB '"
      ]
     },
     "execution_count": 102,
     "metadata": {},
     "output_type": "execute_result"
    }
   ],
   "source": [
    "line_priority.iloc[[8]].geo_comments.iloc[0]"
   ]
  },
  {
   "cell_type": "code",
   "execution_count": 103,
   "id": "7ea2eef9-6882-41c0-9e42-6246cffc4a57",
   "metadata": {},
   "outputs": [
    {
     "data": {
      "text/html": [
       "<div style=\"width:100%;\"><div style=\"position:relative;width:100%;height:0;padding-bottom:60%;\"><span style=\"color:#565656\">Make this Notebook Trusted to load map: File -> Trust Notebook</span><iframe src=\"about:blank\" style=\"position:absolute;width:100%;height:100%;left:0;top:0;border:none !important;\" data-html=%3C%21DOCTYPE%20html%3E%0A%3Chead%3E%20%20%20%20%0A%20%20%20%20%3Cmeta%20http-equiv%3D%22content-type%22%20content%3D%22text/html%3B%20charset%3DUTF-8%22%20/%3E%0A%20%20%20%20%0A%20%20%20%20%20%20%20%20%3Cscript%3E%0A%20%20%20%20%20%20%20%20%20%20%20%20L_NO_TOUCH%20%3D%20false%3B%0A%20%20%20%20%20%20%20%20%20%20%20%20L_DISABLE_3D%20%3D%20false%3B%0A%20%20%20%20%20%20%20%20%3C/script%3E%0A%20%20%20%20%0A%20%20%20%20%3Cstyle%3Ehtml%2C%20body%20%7Bwidth%3A%20100%25%3Bheight%3A%20100%25%3Bmargin%3A%200%3Bpadding%3A%200%3B%7D%3C/style%3E%0A%20%20%20%20%3Cstyle%3E%23map%20%7Bposition%3Aabsolute%3Btop%3A0%3Bbottom%3A0%3Bright%3A0%3Bleft%3A0%3B%7D%3C/style%3E%0A%20%20%20%20%3Cscript%20src%3D%22https%3A//cdn.jsdelivr.net/npm/leaflet%401.6.0/dist/leaflet.js%22%3E%3C/script%3E%0A%20%20%20%20%3Cscript%20src%3D%22https%3A//code.jquery.com/jquery-1.12.4.min.js%22%3E%3C/script%3E%0A%20%20%20%20%3Cscript%20src%3D%22https%3A//maxcdn.bootstrapcdn.com/bootstrap/3.2.0/js/bootstrap.min.js%22%3E%3C/script%3E%0A%20%20%20%20%3Cscript%20src%3D%22https%3A//cdnjs.cloudflare.com/ajax/libs/Leaflet.awesome-markers/2.0.2/leaflet.awesome-markers.js%22%3E%3C/script%3E%0A%20%20%20%20%3Clink%20rel%3D%22stylesheet%22%20href%3D%22https%3A//cdn.jsdelivr.net/npm/leaflet%401.6.0/dist/leaflet.css%22/%3E%0A%20%20%20%20%3Clink%20rel%3D%22stylesheet%22%20href%3D%22https%3A//maxcdn.bootstrapcdn.com/bootstrap/3.2.0/css/bootstrap.min.css%22/%3E%0A%20%20%20%20%3Clink%20rel%3D%22stylesheet%22%20href%3D%22https%3A//maxcdn.bootstrapcdn.com/bootstrap/3.2.0/css/bootstrap-theme.min.css%22/%3E%0A%20%20%20%20%3Clink%20rel%3D%22stylesheet%22%20href%3D%22https%3A//maxcdn.bootstrapcdn.com/font-awesome/4.6.3/css/font-awesome.min.css%22/%3E%0A%20%20%20%20%3Clink%20rel%3D%22stylesheet%22%20href%3D%22https%3A//cdnjs.cloudflare.com/ajax/libs/Leaflet.awesome-markers/2.0.2/leaflet.awesome-markers.css%22/%3E%0A%20%20%20%20%3Clink%20rel%3D%22stylesheet%22%20href%3D%22https%3A//cdn.jsdelivr.net/gh/python-visualization/folium/folium/templates/leaflet.awesome.rotate.min.css%22/%3E%0A%20%20%20%20%0A%20%20%20%20%20%20%20%20%20%20%20%20%3Cmeta%20name%3D%22viewport%22%20content%3D%22width%3Ddevice-width%2C%0A%20%20%20%20%20%20%20%20%20%20%20%20%20%20%20%20initial-scale%3D1.0%2C%20maximum-scale%3D1.0%2C%20user-scalable%3Dno%22%20/%3E%0A%20%20%20%20%20%20%20%20%20%20%20%20%3Cstyle%3E%0A%20%20%20%20%20%20%20%20%20%20%20%20%20%20%20%20%23map_d4bcd921b1de4da7a046eb47cf4a9cdd%20%7B%0A%20%20%20%20%20%20%20%20%20%20%20%20%20%20%20%20%20%20%20%20position%3A%20relative%3B%0A%20%20%20%20%20%20%20%20%20%20%20%20%20%20%20%20%20%20%20%20width%3A%20100.0%25%3B%0A%20%20%20%20%20%20%20%20%20%20%20%20%20%20%20%20%20%20%20%20height%3A%20100.0%25%3B%0A%20%20%20%20%20%20%20%20%20%20%20%20%20%20%20%20%20%20%20%20left%3A%200.0%25%3B%0A%20%20%20%20%20%20%20%20%20%20%20%20%20%20%20%20%20%20%20%20top%3A%200.0%25%3B%0A%20%20%20%20%20%20%20%20%20%20%20%20%20%20%20%20%7D%0A%20%20%20%20%20%20%20%20%20%20%20%20%3C/style%3E%0A%20%20%20%20%20%20%20%20%0A%20%20%20%20%0A%20%20%20%20%20%20%20%20%20%20%20%20%20%20%20%20%20%20%20%20%3Cstyle%3E%0A%20%20%20%20%20%20%20%20%20%20%20%20%20%20%20%20%20%20%20%20%20%20%20%20.foliumtooltip%20%7B%0A%20%20%20%20%20%20%20%20%20%20%20%20%20%20%20%20%20%20%20%20%20%20%20%20%20%20%20%20%0A%20%20%20%20%20%20%20%20%20%20%20%20%20%20%20%20%20%20%20%20%20%20%20%20%7D%0A%20%20%20%20%20%20%20%20%20%20%20%20%20%20%20%20%20%20%20%20%20%20%20.foliumtooltip%20table%7B%0A%20%20%20%20%20%20%20%20%20%20%20%20%20%20%20%20%20%20%20%20%20%20%20%20%20%20%20%20margin%3A%20auto%3B%0A%20%20%20%20%20%20%20%20%20%20%20%20%20%20%20%20%20%20%20%20%20%20%20%20%7D%0A%20%20%20%20%20%20%20%20%20%20%20%20%20%20%20%20%20%20%20%20%20%20%20%20.foliumtooltip%20tr%7B%0A%20%20%20%20%20%20%20%20%20%20%20%20%20%20%20%20%20%20%20%20%20%20%20%20%20%20%20%20text-align%3A%20left%3B%0A%20%20%20%20%20%20%20%20%20%20%20%20%20%20%20%20%20%20%20%20%20%20%20%20%7D%0A%20%20%20%20%20%20%20%20%20%20%20%20%20%20%20%20%20%20%20%20%20%20%20%20.foliumtooltip%20th%7B%0A%20%20%20%20%20%20%20%20%20%20%20%20%20%20%20%20%20%20%20%20%20%20%20%20%20%20%20%20padding%3A%202px%3B%20padding-right%3A%208px%3B%0A%20%20%20%20%20%20%20%20%20%20%20%20%20%20%20%20%20%20%20%20%20%20%20%20%7D%0A%20%20%20%20%20%20%20%20%20%20%20%20%20%20%20%20%20%20%20%20%3C/style%3E%0A%20%20%20%20%20%20%20%20%20%20%20%20%0A%3C/head%3E%0A%3Cbody%3E%20%20%20%20%0A%20%20%20%20%0A%20%20%20%20%20%20%20%20%20%20%20%20%3Cdiv%20class%3D%22folium-map%22%20id%3D%22map_d4bcd921b1de4da7a046eb47cf4a9cdd%22%20%3E%3C/div%3E%0A%20%20%20%20%20%20%20%20%0A%3C/body%3E%0A%3Cscript%3E%20%20%20%20%0A%20%20%20%20%0A%20%20%20%20%20%20%20%20%20%20%20%20var%20map_d4bcd921b1de4da7a046eb47cf4a9cdd%20%3D%20L.map%28%0A%20%20%20%20%20%20%20%20%20%20%20%20%20%20%20%20%22map_d4bcd921b1de4da7a046eb47cf4a9cdd%22%2C%0A%20%20%20%20%20%20%20%20%20%20%20%20%20%20%20%20%7B%0A%20%20%20%20%20%20%20%20%20%20%20%20%20%20%20%20%20%20%20%20center%3A%20%5B32.74046312450005%2C%20-117.11095474099997%5D%2C%0A%20%20%20%20%20%20%20%20%20%20%20%20%20%20%20%20%20%20%20%20crs%3A%20L.CRS.EPSG3857%2C%0A%20%20%20%20%20%20%20%20%20%20%20%20%20%20%20%20%20%20%20%20zoom%3A%2010%2C%0A%20%20%20%20%20%20%20%20%20%20%20%20%20%20%20%20%20%20%20%20zoomControl%3A%20true%2C%0A%20%20%20%20%20%20%20%20%20%20%20%20%20%20%20%20%20%20%20%20preferCanvas%3A%20false%2C%0A%20%20%20%20%20%20%20%20%20%20%20%20%20%20%20%20%7D%0A%20%20%20%20%20%20%20%20%20%20%20%20%29%3B%0A%20%20%20%20%20%20%20%20%20%20%20%20L.control.scale%28%29.addTo%28map_d4bcd921b1de4da7a046eb47cf4a9cdd%29%3B%0A%0A%20%20%20%20%20%20%20%20%20%20%20%20%0A%0A%20%20%20%20%20%20%20%20%0A%20%20%20%20%0A%20%20%20%20%20%20%20%20%20%20%20%20var%20tile_layer_270295b0a95b4384864586a6d08d0fb7%20%3D%20L.tileLayer%28%0A%20%20%20%20%20%20%20%20%20%20%20%20%20%20%20%20%22https%3A//%7Bs%7D.tile.openstreetmap.org/%7Bz%7D/%7Bx%7D/%7By%7D.png%22%2C%0A%20%20%20%20%20%20%20%20%20%20%20%20%20%20%20%20%7B%22attribution%22%3A%20%22Data%20by%20%5Cu0026copy%3B%20%5Cu003ca%20href%3D%5C%22http%3A//openstreetmap.org%5C%22%5Cu003eOpenStreetMap%5Cu003c/a%5Cu003e%2C%20under%20%5Cu003ca%20href%3D%5C%22http%3A//www.openstreetmap.org/copyright%5C%22%5Cu003eODbL%5Cu003c/a%5Cu003e.%22%2C%20%22detectRetina%22%3A%20false%2C%20%22maxNativeZoom%22%3A%2018%2C%20%22maxZoom%22%3A%2018%2C%20%22minZoom%22%3A%200%2C%20%22noWrap%22%3A%20false%2C%20%22opacity%22%3A%201%2C%20%22subdomains%22%3A%20%22abc%22%2C%20%22tms%22%3A%20false%7D%0A%20%20%20%20%20%20%20%20%20%20%20%20%29.addTo%28map_d4bcd921b1de4da7a046eb47cf4a9cdd%29%3B%0A%20%20%20%20%20%20%20%20%0A%20%20%20%20%0A%20%20%20%20%20%20%20%20%20%20%20%20map_d4bcd921b1de4da7a046eb47cf4a9cdd.fitBounds%28%0A%20%20%20%20%20%20%20%20%20%20%20%20%20%20%20%20%5B%5B32.73124610000008%2C%20-117.11327831799997%5D%2C%20%5B32.74968014900003%2C%20-117.10863116399997%5D%5D%2C%0A%20%20%20%20%20%20%20%20%20%20%20%20%20%20%20%20%7B%7D%0A%20%20%20%20%20%20%20%20%20%20%20%20%29%3B%0A%20%20%20%20%20%20%20%20%0A%20%20%20%20%0A%20%20%20%20%20%20%20%20function%20geo_json_945dab0e0e5b42648dc1d562a653c42a_styler%28feature%29%20%7B%0A%20%20%20%20%20%20%20%20%20%20%20%20switch%28feature.id%29%20%7B%0A%20%20%20%20%20%20%20%20%20%20%20%20%20%20%20%20default%3A%0A%20%20%20%20%20%20%20%20%20%20%20%20%20%20%20%20%20%20%20%20return%20%7B%22fillOpacity%22%3A%200.5%2C%20%22weight%22%3A%202%7D%3B%0A%20%20%20%20%20%20%20%20%20%20%20%20%7D%0A%20%20%20%20%20%20%20%20%7D%0A%20%20%20%20%20%20%20%20function%20geo_json_945dab0e0e5b42648dc1d562a653c42a_highlighter%28feature%29%20%7B%0A%20%20%20%20%20%20%20%20%20%20%20%20switch%28feature.id%29%20%7B%0A%20%20%20%20%20%20%20%20%20%20%20%20%20%20%20%20default%3A%0A%20%20%20%20%20%20%20%20%20%20%20%20%20%20%20%20%20%20%20%20return%20%7B%22fillOpacity%22%3A%200.75%7D%3B%0A%20%20%20%20%20%20%20%20%20%20%20%20%7D%0A%20%20%20%20%20%20%20%20%7D%0A%20%20%20%20%20%20%20%20function%20geo_json_945dab0e0e5b42648dc1d562a653c42a_pointToLayer%28feature%2C%20latlng%29%20%7B%0A%20%20%20%20%20%20%20%20%20%20%20%20var%20opts%20%3D%20%7B%22bubblingMouseEvents%22%3A%20true%2C%20%22color%22%3A%20%22%233388ff%22%2C%20%22dashArray%22%3A%20null%2C%20%22dashOffset%22%3A%20null%2C%20%22fill%22%3A%20true%2C%20%22fillColor%22%3A%20%22%233388ff%22%2C%20%22fillOpacity%22%3A%200.2%2C%20%22fillRule%22%3A%20%22evenodd%22%2C%20%22lineCap%22%3A%20%22round%22%2C%20%22lineJoin%22%3A%20%22round%22%2C%20%22opacity%22%3A%201.0%2C%20%22radius%22%3A%202%2C%20%22stroke%22%3A%20true%2C%20%22weight%22%3A%203%7D%3B%0A%20%20%20%20%20%20%20%20%20%20%20%20%0A%20%20%20%20%20%20%20%20%20%20%20%20let%20style%20%3D%20geo_json_945dab0e0e5b42648dc1d562a653c42a_styler%28feature%29%0A%20%20%20%20%20%20%20%20%20%20%20%20Object.assign%28opts%2C%20style%29%0A%20%20%20%20%20%20%20%20%20%20%20%20%0A%20%20%20%20%20%20%20%20%20%20%20%20return%20new%20L.CircleMarker%28latlng%2C%20opts%29%0A%20%20%20%20%20%20%20%20%7D%0A%0A%20%20%20%20%20%20%20%20function%20geo_json_945dab0e0e5b42648dc1d562a653c42a_onEachFeature%28feature%2C%20layer%29%20%7B%0A%20%20%20%20%20%20%20%20%20%20%20%20layer.on%28%7B%0A%20%20%20%20%20%20%20%20%20%20%20%20%20%20%20%20mouseout%3A%20function%28e%29%20%7B%0A%20%20%20%20%20%20%20%20%20%20%20%20%20%20%20%20%20%20%20%20if%28typeof%20e.target.setStyle%20%3D%3D%3D%20%22function%22%29%7B%0A%20%20%20%20%20%20%20%20%20%20%20%20%20%20%20%20%20%20%20%20%20%20%20%20geo_json_945dab0e0e5b42648dc1d562a653c42a.resetStyle%28e.target%29%3B%0A%20%20%20%20%20%20%20%20%20%20%20%20%20%20%20%20%20%20%20%20%7D%0A%20%20%20%20%20%20%20%20%20%20%20%20%20%20%20%20%7D%2C%0A%20%20%20%20%20%20%20%20%20%20%20%20%20%20%20%20mouseover%3A%20function%28e%29%20%7B%0A%20%20%20%20%20%20%20%20%20%20%20%20%20%20%20%20%20%20%20%20if%28typeof%20e.target.setStyle%20%3D%3D%3D%20%22function%22%29%7B%0A%20%20%20%20%20%20%20%20%20%20%20%20%20%20%20%20%20%20%20%20%20%20%20%20const%20highlightStyle%20%3D%20geo_json_945dab0e0e5b42648dc1d562a653c42a_highlighter%28e.target.feature%29%0A%20%20%20%20%20%20%20%20%20%20%20%20%20%20%20%20%20%20%20%20%20%20%20%20e.target.setStyle%28highlightStyle%29%3B%0A%20%20%20%20%20%20%20%20%20%20%20%20%20%20%20%20%20%20%20%20%7D%0A%20%20%20%20%20%20%20%20%20%20%20%20%20%20%20%20%7D%2C%0A%20%20%20%20%20%20%20%20%20%20%20%20%7D%29%3B%0A%20%20%20%20%20%20%20%20%7D%3B%0A%20%20%20%20%20%20%20%20var%20geo_json_945dab0e0e5b42648dc1d562a653c42a%20%3D%20L.geoJson%28null%2C%20%7B%0A%20%20%20%20%20%20%20%20%20%20%20%20%20%20%20%20onEachFeature%3A%20geo_json_945dab0e0e5b42648dc1d562a653c42a_onEachFeature%2C%0A%20%20%20%20%20%20%20%20%20%20%20%20%0A%20%20%20%20%20%20%20%20%20%20%20%20%20%20%20%20style%3A%20geo_json_945dab0e0e5b42648dc1d562a653c42a_styler%2C%0A%20%20%20%20%20%20%20%20%20%20%20%20%20%20%20%20pointToLayer%3A%20geo_json_945dab0e0e5b42648dc1d562a653c42a_pointToLayer%0A%20%20%20%20%20%20%20%20%7D%29%3B%0A%0A%20%20%20%20%20%20%20%20function%20geo_json_945dab0e0e5b42648dc1d562a653c42a_add%20%28data%29%20%7B%0A%20%20%20%20%20%20%20%20%20%20%20%20geo_json_945dab0e0e5b42648dc1d562a653c42a%0A%20%20%20%20%20%20%20%20%20%20%20%20%20%20%20%20.addData%28data%29%0A%20%20%20%20%20%20%20%20%20%20%20%20%20%20%20%20.addTo%28map_d4bcd921b1de4da7a046eb47cf4a9cdd%29%3B%0A%20%20%20%20%20%20%20%20%7D%0A%20%20%20%20%20%20%20%20%20%20%20%20geo_json_945dab0e0e5b42648dc1d562a653c42a_add%28%7B%22bbox%22%3A%20%5B-117.11327831799997%2C%2032.73124610000008%2C%20-117.10863116399997%2C%2032.74968014900003%5D%2C%20%22features%22%3A%20%5B%7B%22bbox%22%3A%20%5B-117.11327831799997%2C%2032.73124610000008%2C%20-117.10863116399997%2C%2032.74968014900003%5D%2C%20%22geometry%22%3A%20%7B%22coordinates%22%3A%20%5B%5B-117.10863116399997%2C%2032.74968014900003%2C%200.0%5D%2C%20%5B-117.10865521699998%2C%2032.74804958900006%2C%200.0%5D%2C%20%5B-117.10867927099997%2C%2032.746835754000074%2C%200.0%5D%2C%20%5B-117.10880434899997%2C%2032.74621264500007%2C%200.0%5D%2C%20%5B-117.10901602099995%2C%2032.745617856000024%2C%200.0%5D%2C%20%5B-117.10941049999997%2C%2032.744897629000036%2C%200.0%5D%2C%20%5B-117.11000702899997%2C%2032.74406814800005%2C%200.0%5D%2C%20%5B-117.11132997699997%2C%2032.742655987000035%2C%200.0%5D%2C%20%5B-117.11227768799995%2C%2032.74166462900007%2C%200.0%5D%2C%20%5B-117.11267697799997%2C%2032.741053624000074%2C%200.0%5D%2C%20%5B-117.11298005299994%2C%2032.740434521000054%2C%200.0%5D%2C%20%5B-117.11313880699998%2C%2032.74001369100006%2C%200.0%5D%2C%20%5B-117.11327831799997%2C%2032.73935006900007%2C%200.0%5D%2C%20%5B-117.11327831799997%2C%2032.738285838000024%2C%200.0%5D%2C%20%5B-117.11317729299998%2C%2032.73754936500006%2C%200.0%5D%2C%20%5B-117.11273470699996%2C%2032.73633943400006%2C%200.0%5D%2C%20%5B-117.11210931299996%2C%2032.734544225000036%2C%200.0%5D%2C%20%5B-117.11176294099994%2C%2032.73347588900003%2C%200.0%5D%2C%20%5B-117.11163305199995%2C%2032.73286482700007%2C%200.0%5D%2C%20%5B-117.111505567%2C%2032.73205951400007%2C%200.0%5D%2C%20%5B-117.11145986599996%2C%2032.73124610000008%2C%200.0%5D%5D%2C%20%22type%22%3A%20%22LineString%22%7D%2C%20%22id%22%3A%20%228%22%2C%20%22properties%22%3A%20%7B%22Bus_Brdng_Islnds%22%3A%20null%2C%20%22CT_District%22%3A%20%2211%22%2C%20%22Centerline_Miles%22%3A%204.66%2C%20%22County%22%3A%20%22SD%22%2C%20%22CreationDate%22%3A%201693251188000%2C%20%22EditDate%22%3A%201693421427000%2C%20%22Geom_Priority_Intervention_Type%22%3A%20%22Bus_Only_Lane_%28full-time%29%22%2C%20%22Imprv_Site_Amnts%22%3A%20null%2C%20%22Lyr%22%3A%20%22%5C%22Lns2%5C%22%22%2C%20%22OBJECTID%22%3A%209%2C%20%22One_Side_Rdwy_Only%22%3A%20%22no%22%2C%20%22Priority_Intervention_Type_All%22%3A%20%22Bus_Only_Lane_%28full-time%29%22%2C%20%22Queue_Jumps%22%3A%20null%2C%20%22Route%22%3A%20805%2C%20%22Scrs%22%3A%20null%2C%20%22Scrs_Link%22%3A%20null%2C%20%22Shape_Length%22%3A%200.020183003862320546%2C%20%22Submitter_Email%22%3A%20%22alyssa.ahn%40dot.ca.gov%22%2C%20%22Submitter_Name%22%3A%20%22Alyssa%20Ahn%22%2C%20%22Transit_Op_Support%22%3A%20%22yes%22%2C%20%22geo_comments%22%3A%20%22Route%2015%20PM%20R3.30/M4.66%20%28to%20University%20Avenue%20OC%20at%20Transit%20Hub%29%20NB%20and%20SB%20%22%7D%2C%20%22type%22%3A%20%22Feature%22%7D%5D%2C%20%22type%22%3A%20%22FeatureCollection%22%7D%29%3B%0A%0A%20%20%20%20%20%20%20%20%0A%20%20%20%20%0A%20%20%20%20geo_json_945dab0e0e5b42648dc1d562a653c42a.bindTooltip%28%0A%20%20%20%20function%28layer%29%7B%0A%20%20%20%20let%20div%20%3D%20L.DomUtil.create%28%27div%27%29%3B%0A%20%20%20%20%0A%20%20%20%20let%20handleObject%20%3D%20feature%3D%3Etypeof%28feature%29%3D%3D%27object%27%20%3F%20JSON.stringify%28feature%29%20%3A%20feature%3B%0A%20%20%20%20let%20fields%20%3D%20%5B%22OBJECTID%22%2C%20%22Submitter_Name%22%2C%20%22Submitter_Email%22%2C%20%22Priority_Intervention_Type_All%22%2C%20%22Scrs%22%2C%20%22Scrs_Link%22%2C%20%22Centerline_Miles%22%2C%20%22One_Side_Rdwy_Only%22%2C%20%22Queue_Jumps%22%2C%20%22Bus_Brdng_Islnds%22%2C%20%22Imprv_Site_Amnts%22%2C%20%22Transit_Op_Support%22%2C%20%22CT_District%22%2C%20%22County%22%2C%20%22Route%22%2C%20%22Geom_Priority_Intervention_Type%22%2C%20%22geo_comments%22%2C%20%22CreationDate%22%2C%20%22Lyr%22%2C%20%22EditDate%22%2C%20%22Shape_Length%22%5D%3B%0A%20%20%20%20let%20aliases%20%3D%20%5B%22OBJECTID%22%2C%20%22Submitter_Name%22%2C%20%22Submitter_Email%22%2C%20%22Priority_Intervention_Type_All%22%2C%20%22Scrs%22%2C%20%22Scrs_Link%22%2C%20%22Centerline_Miles%22%2C%20%22One_Side_Rdwy_Only%22%2C%20%22Queue_Jumps%22%2C%20%22Bus_Brdng_Islnds%22%2C%20%22Imprv_Site_Amnts%22%2C%20%22Transit_Op_Support%22%2C%20%22CT_District%22%2C%20%22County%22%2C%20%22Route%22%2C%20%22Geom_Priority_Intervention_Type%22%2C%20%22geo_comments%22%2C%20%22CreationDate%22%2C%20%22Lyr%22%2C%20%22EditDate%22%2C%20%22Shape_Length%22%5D%3B%0A%20%20%20%20let%20table%20%3D%20%27%3Ctable%3E%27%20%2B%0A%20%20%20%20%20%20%20%20String%28%0A%20%20%20%20%20%20%20%20fields.map%28%0A%20%20%20%20%20%20%20%20%28v%2Ci%29%3D%3E%0A%20%20%20%20%20%20%20%20%60%3Ctr%3E%0A%20%20%20%20%20%20%20%20%20%20%20%20%3Cth%3E%24%7Baliases%5Bi%5D%7D%3C/th%3E%0A%20%20%20%20%20%20%20%20%20%20%20%20%0A%20%20%20%20%20%20%20%20%20%20%20%20%3Ctd%3E%24%7BhandleObject%28layer.feature.properties%5Bv%5D%29%7D%3C/td%3E%0A%20%20%20%20%20%20%20%20%3C/tr%3E%60%29.join%28%27%27%29%29%0A%20%20%20%20%2B%27%3C/table%3E%27%3B%0A%20%20%20%20div.innerHTML%3Dtable%3B%0A%20%20%20%20%0A%20%20%20%20return%20div%0A%20%20%20%20%7D%0A%20%20%20%20%2C%7B%22className%22%3A%20%22foliumtooltip%22%2C%20%22sticky%22%3A%20true%7D%29%3B%0A%20%20%20%20%20%20%20%20%20%20%20%20%20%20%20%20%20%20%20%20%20%0A%3C/script%3E onload=\"this.contentDocument.open();this.contentDocument.write(    decodeURIComponent(this.getAttribute('data-html')));this.contentDocument.close();\" allowfullscreen webkitallowfullscreen mozallowfullscreen></iframe></div></div>"
      ],
      "text/plain": [
       "<folium.folium.Map at 0x7f0ee352fb50>"
      ]
     },
     "execution_count": 103,
     "metadata": {},
     "output_type": "execute_result"
    }
   ],
   "source": [
    "line_priority.iloc[[8]].explore()"
   ]
  },
  {
   "cell_type": "code",
   "execution_count": 104,
   "id": "fc2a84e5-ee7b-4d1e-b24e-a9c63eaa3b3f",
   "metadata": {
    "tags": [
     "parameters"
    ]
   },
   "outputs": [],
   "source": [
    "## parameters cell\n",
    "itp_id = 278"
   ]
  },
  {
   "cell_type": "code",
   "execution_count": 105,
   "id": "398c82d6-bb68-46bf-b34c-a5b9100656b8",
   "metadata": {},
   "outputs": [
    {
     "data": {
      "application/vnd.jupyter.widget-view+json": {
       "model_id": "0ed557f2a82448a886abce8abaee7a43",
       "version_major": 2,
       "version_minor": 0
      },
      "text/plain": [
       "0it [00:00, ?it/s]"
      ]
     },
     "metadata": {},
     "output_type": "display_data"
    }
   ],
   "source": [
    "pbar = tqdm()\n",
    "\n",
    "# from rt_analysis import rt_parser\n",
    "\n",
    "# rt_day = rt_parser.OperatorDayAnalysis(itp_id,\n",
    "#                                        analysis_date, pbar)\n",
    "\n",
    "# rt_day.export_views_gcs()"
   ]
  },
  {
   "cell_type": "code",
   "execution_count": 106,
   "id": "20448d65-b6d4-4afc-a19f-33f644544e74",
   "metadata": {},
   "outputs": [],
   "source": [
    "%%capture\n",
    "rt_day = rt_filter_map_plot.from_gcs(itp_id, analysis_date, pbar)"
   ]
  },
  {
   "cell_type": "code",
   "execution_count": 107,
   "id": "634451e5-b966-4cd7-af80-70c0dbfab660",
   "metadata": {},
   "outputs": [],
   "source": [
    "rt_day.transit_priority_target_mph = 65"
   ]
  },
  {
   "cell_type": "code",
   "execution_count": 108,
   "id": "2bb30ba6-2560-479e-8d37-091e57371e05",
   "metadata": {},
   "outputs": [
    {
     "name": "stdout",
     "output_type": "stream",
     "text": [
      "{\"organization_name\": \"San Diego Metropolitan Transit System\"}\n"
     ]
    }
   ],
   "source": [
    "%%capture_parameters\n",
    "organization_name = rt_day.organization_name\n",
    "organization_name"
   ]
  },
  {
   "cell_type": "code",
   "execution_count": 109,
   "id": "d9fe013a-6ce5-4145-8f1a-a260c600c35c",
   "metadata": {},
   "outputs": [],
   "source": [
    "rt_day.set_filter(route_names = ['235'])"
   ]
  },
  {
   "cell_type": "code",
   "execution_count": 110,
   "id": "d05fe31e-672c-421d-af3f-7e08d1c1f38d",
   "metadata": {},
   "outputs": [],
   "source": [
    "_m = rt_day.segment_speed_map()"
   ]
  },
  {
   "cell_type": "code",
   "execution_count": 111,
   "id": "f23f71db-5d1a-4c4b-b2f8-e0e11d5211e4",
   "metadata": {},
   "outputs": [],
   "source": [
    "rt_day.autocorridor(shape_id = '235_0_65', stop_seq_range = [6.71, 7])"
   ]
  },
  {
   "cell_type": "code",
   "execution_count": 112,
   "id": "6a7a877e-3ea2-4c8c-a1e4-26fd8e8d6eb2",
   "metadata": {},
   "outputs": [
    {
     "data": {
      "text/html": [
       "<div>\n",
       "<style scoped>\n",
       "    .dataframe tbody tr th:only-of-type {\n",
       "        vertical-align: middle;\n",
       "    }\n",
       "\n",
       "    .dataframe tbody tr th {\n",
       "        vertical-align: top;\n",
       "    }\n",
       "\n",
       "    .dataframe thead th {\n",
       "        text-align: right;\n",
       "    }\n",
       "</style>\n",
       "<table border=\"1\" class=\"dataframe\">\n",
       "  <thead>\n",
       "    <tr style=\"text-align: right;\">\n",
       "      <th></th>\n",
       "      <th>route_short_name</th>\n",
       "    </tr>\n",
       "  </thead>\n",
       "  <tbody>\n",
       "    <tr>\n",
       "      <th>0</th>\n",
       "      <td>10</td>\n",
       "    </tr>\n",
       "    <tr>\n",
       "      <th>1</th>\n",
       "      <td>60</td>\n",
       "    </tr>\n",
       "    <tr>\n",
       "      <th>2</th>\n",
       "      <td>7</td>\n",
       "    </tr>\n",
       "    <tr>\n",
       "      <th>3</th>\n",
       "      <td>235</td>\n",
       "    </tr>\n",
       "    <tr>\n",
       "      <th>4</th>\n",
       "      <td>965</td>\n",
       "    </tr>\n",
       "  </tbody>\n",
       "</table>\n",
       "</div>"
      ],
      "text/plain": [
       "  route_short_name\n",
       "0               10\n",
       "1               60\n",
       "2                7\n",
       "3              235\n",
       "4              965"
      ]
     },
     "execution_count": 112,
     "metadata": {},
     "output_type": "execute_result"
    }
   ],
   "source": [
    "rt_day.corridor_stop_delays >> distinct(_.route_short_name)"
   ]
  },
  {
   "cell_type": "code",
   "execution_count": 113,
   "id": "4d22c3c2-7edf-4ab5-a9be-1d809e38e646",
   "metadata": {},
   "outputs": [
    {
     "name": "stdout",
     "output_type": "stream",
     "text": [
      "metrics attached to self.corridor: \n"
     ]
    },
    {
     "data": {
      "text/html": [
       "<div>\n",
       "<style scoped>\n",
       "    .dataframe tbody tr th:only-of-type {\n",
       "        vertical-align: middle;\n",
       "    }\n",
       "\n",
       "    .dataframe tbody tr th {\n",
       "        vertical-align: top;\n",
       "    }\n",
       "\n",
       "    .dataframe thead th {\n",
       "        text-align: right;\n",
       "    }\n",
       "</style>\n",
       "<table border=\"1\" class=\"dataframe\">\n",
       "  <thead>\n",
       "    <tr style=\"text-align: right;\">\n",
       "      <th></th>\n",
       "      <th>route_id</th>\n",
       "      <th>route_short_name</th>\n",
       "      <th>organization</th>\n",
       "      <th>p20_corr_mph</th>\n",
       "      <th>p50_corr_mph</th>\n",
       "      <th>avg_corr_mph</th>\n",
       "      <th>speed_delay_minutes</th>\n",
       "      <th>total_speed_delay</th>\n",
       "      <th>p50_runtime_minutes</th>\n",
       "      <th>n_trips</th>\n",
       "      <th>span_hours</th>\n",
       "      <th>daily_avg_trips_hr</th>\n",
       "      <th>trips_added</th>\n",
       "      <th>new_avg_trips_hr</th>\n",
       "      <th>length_miles</th>\n",
       "      <th>distance_meters</th>\n",
       "      <th>target_mph</th>\n",
       "      <th>geometry</th>\n",
       "    </tr>\n",
       "  </thead>\n",
       "  <tbody>\n",
       "    <tr>\n",
       "      <th>0</th>\n",
       "      <td>235</td>\n",
       "      <td>235</td>\n",
       "      <td>San Diego Metropolitan Transit System</td>\n",
       "      <td>25.0</td>\n",
       "      <td>29.1</td>\n",
       "      <td>28.2</td>\n",
       "      <td>313.9</td>\n",
       "      <td>313.9</td>\n",
       "      <td>77.0</td>\n",
       "      <td>109</td>\n",
       "      <td>14.9</td>\n",
       "      <td>3.7</td>\n",
       "      <td>4.1</td>\n",
       "      <td>3.8</td>\n",
       "      <td>1.0</td>\n",
       "      <td>1609.3</td>\n",
       "      <td>65</td>\n",
       "      <td>POLYGON ((270968.467 -582950.917, 270992.769 -...</td>\n",
       "    </tr>\n",
       "  </tbody>\n",
       "</table>\n",
       "</div>"
      ],
      "text/plain": [
       "  route_id route_short_name                           organization  \\\n",
       "0      235              235  San Diego Metropolitan Transit System   \n",
       "\n",
       "   p20_corr_mph  p50_corr_mph  avg_corr_mph  speed_delay_minutes  \\\n",
       "0          25.0          29.1          28.2                313.9   \n",
       "\n",
       "   total_speed_delay  p50_runtime_minutes  n_trips  span_hours  \\\n",
       "0              313.9                 77.0      109        14.9   \n",
       "\n",
       "   daily_avg_trips_hr  trips_added  new_avg_trips_hr  length_miles  \\\n",
       "0                 3.7          4.1               3.8           1.0   \n",
       "\n",
       "   distance_meters  target_mph  \\\n",
       "0           1609.3          65   \n",
       "\n",
       "                                            geometry  \n",
       "0  POLYGON ((270968.467 -582950.917, 270992.769 -...  "
      ]
     },
     "execution_count": 113,
     "metadata": {},
     "output_type": "execute_result"
    }
   ],
   "source": [
    "rt_day.corridor_metrics()"
   ]
  },
  {
   "cell_type": "code",
   "execution_count": 114,
   "id": "dbcf2c67-9613-44b0-836d-8a09eb2af6fd",
   "metadata": {},
   "outputs": [],
   "source": [
    "rt_day.corridor['corridor'] = 'sr15'"
   ]
  },
  {
   "cell_type": "code",
   "execution_count": 115,
   "id": "e4647cd8-96fe-468f-9ed2-b0204c10db68",
   "metadata": {},
   "outputs": [],
   "source": [
    "all_corridors += [rt_day.corridor]"
   ]
  },
  {
   "cell_type": "markdown",
   "id": "1af714fa-fac1-4fe7-bf62-11ba7fe1924f",
   "metadata": {
    "tags": []
   },
   "source": [
    "## 15 SDMTS (Bus Lane, fwy?)\n",
    "\n",
    "* existing service on only part of project\n",
    "* TODO debug?"
   ]
  },
  {
   "cell_type": "code",
   "execution_count": 116,
   "id": "010e4d55-62e5-4c21-ad7d-7e26192e394c",
   "metadata": {},
   "outputs": [
    {
     "data": {
      "text/html": [
       "<div>\n",
       "<style scoped>\n",
       "    .dataframe tbody tr th:only-of-type {\n",
       "        vertical-align: middle;\n",
       "    }\n",
       "\n",
       "    .dataframe tbody tr th {\n",
       "        vertical-align: top;\n",
       "    }\n",
       "\n",
       "    .dataframe thead th {\n",
       "        text-align: right;\n",
       "    }\n",
       "</style>\n",
       "<table border=\"1\" class=\"dataframe\">\n",
       "  <thead>\n",
       "    <tr style=\"text-align: right;\">\n",
       "      <th></th>\n",
       "      <th>OBJECTID</th>\n",
       "      <th>Submitter_Name</th>\n",
       "      <th>Submitter_Email</th>\n",
       "      <th>Priority_Intervention_Type_All</th>\n",
       "      <th>Scrs</th>\n",
       "      <th>Scrs_Link</th>\n",
       "      <th>Centerline_Miles</th>\n",
       "      <th>One_Side_Rdwy_Only</th>\n",
       "      <th>Queue_Jumps</th>\n",
       "      <th>Bus_Brdng_Islnds</th>\n",
       "      <th>...</th>\n",
       "      <th>CT_District</th>\n",
       "      <th>County</th>\n",
       "      <th>Route</th>\n",
       "      <th>Geom_Priority_Intervention_Type</th>\n",
       "      <th>geo_comments</th>\n",
       "      <th>CreationDate</th>\n",
       "      <th>Lyr</th>\n",
       "      <th>EditDate</th>\n",
       "      <th>Shape_Length</th>\n",
       "      <th>geometry</th>\n",
       "    </tr>\n",
       "  </thead>\n",
       "  <tbody>\n",
       "    <tr>\n",
       "      <th>15</th>\n",
       "      <td>16</td>\n",
       "      <td>Alyssa Ahn</td>\n",
       "      <td>alyssa.ahn@dot.ca.gov</td>\n",
       "      <td>Bus_Only_Lane_(full-time)</td>\n",
       "      <td>NaN</td>\n",
       "      <td>NaN</td>\n",
       "      <td>4.66</td>\n",
       "      <td>no</td>\n",
       "      <td>NaN</td>\n",
       "      <td>NaN</td>\n",
       "      <td>...</td>\n",
       "      <td>11</td>\n",
       "      <td>SD</td>\n",
       "      <td>805</td>\n",
       "      <td>Bus_Only_Lane_(full-time)</td>\n",
       "      <td>805 Route: PM 12.6/15.9 are the post miles for...</td>\n",
       "      <td>1693251188000</td>\n",
       "      <td>\"Lns1\"</td>\n",
       "      <td>1693421431000</td>\n",
       "      <td>0.050295</td>\n",
       "      <td>LINESTRING Z (-117.12200 32.74793 0.00000, -11...</td>\n",
       "    </tr>\n",
       "  </tbody>\n",
       "</table>\n",
       "<p>1 rows × 22 columns</p>\n",
       "</div>"
      ],
      "text/plain": [
       "    OBJECTID Submitter_Name        Submitter_Email  \\\n",
       "15        16     Alyssa Ahn  alyssa.ahn@dot.ca.gov   \n",
       "\n",
       "   Priority_Intervention_Type_All Scrs Scrs_Link  Centerline_Miles  \\\n",
       "15      Bus_Only_Lane_(full-time)  NaN       NaN              4.66   \n",
       "\n",
       "   One_Side_Rdwy_Only  Queue_Jumps  Bus_Brdng_Islnds  ...  CT_District County  \\\n",
       "15                 no          NaN               NaN  ...           11     SD   \n",
       "\n",
       "   Route Geom_Priority_Intervention_Type  \\\n",
       "15   805       Bus_Only_Lane_(full-time)   \n",
       "\n",
       "                                         geo_comments   CreationDate     Lyr  \\\n",
       "15  805 Route: PM 12.6/15.9 are the post miles for...  1693251188000  \"Lns1\"   \n",
       "\n",
       "         EditDate Shape_Length  \\\n",
       "15  1693421431000     0.050295   \n",
       "\n",
       "                                             geometry  \n",
       "15  LINESTRING Z (-117.12200 32.74793 0.00000, -11...  \n",
       "\n",
       "[1 rows x 22 columns]"
      ]
     },
     "execution_count": 116,
     "metadata": {},
     "output_type": "execute_result"
    }
   ],
   "source": [
    "line_priority.iloc[[15]]"
   ]
  },
  {
   "cell_type": "code",
   "execution_count": 117,
   "id": "6a9d8e15-e88b-46d8-a579-20406368914a",
   "metadata": {},
   "outputs": [
    {
     "data": {
      "text/plain": [
       "'805 Route: PM 12.6/15.9 are the post miles for the entire 805 Route project both NB and SB. PM 13.99/14.45 (from NB begin of Transit Only Lane to Begin Bridge of SR-15 Transit only Connector) '"
      ]
     },
     "execution_count": 117,
     "metadata": {},
     "output_type": "execute_result"
    }
   ],
   "source": [
    "line_priority.iloc[[15]].geo_comments.iloc[0]"
   ]
  },
  {
   "cell_type": "code",
   "execution_count": 118,
   "id": "e71377d2-2c2d-43be-ad20-8ef44445a1f0",
   "metadata": {},
   "outputs": [
    {
     "data": {
      "text/html": [
       "<div style=\"width:100%;\"><div style=\"position:relative;width:100%;height:0;padding-bottom:60%;\"><span style=\"color:#565656\">Make this Notebook Trusted to load map: File -> Trust Notebook</span><iframe src=\"about:blank\" style=\"position:absolute;width:100%;height:100%;left:0;top:0;border:none !important;\" data-html=%3C%21DOCTYPE%20html%3E%0A%3Chead%3E%20%20%20%20%0A%20%20%20%20%3Cmeta%20http-equiv%3D%22content-type%22%20content%3D%22text/html%3B%20charset%3DUTF-8%22%20/%3E%0A%20%20%20%20%0A%20%20%20%20%20%20%20%20%3Cscript%3E%0A%20%20%20%20%20%20%20%20%20%20%20%20L_NO_TOUCH%20%3D%20false%3B%0A%20%20%20%20%20%20%20%20%20%20%20%20L_DISABLE_3D%20%3D%20false%3B%0A%20%20%20%20%20%20%20%20%3C/script%3E%0A%20%20%20%20%0A%20%20%20%20%3Cstyle%3Ehtml%2C%20body%20%7Bwidth%3A%20100%25%3Bheight%3A%20100%25%3Bmargin%3A%200%3Bpadding%3A%200%3B%7D%3C/style%3E%0A%20%20%20%20%3Cstyle%3E%23map%20%7Bposition%3Aabsolute%3Btop%3A0%3Bbottom%3A0%3Bright%3A0%3Bleft%3A0%3B%7D%3C/style%3E%0A%20%20%20%20%3Cscript%20src%3D%22https%3A//cdn.jsdelivr.net/npm/leaflet%401.6.0/dist/leaflet.js%22%3E%3C/script%3E%0A%20%20%20%20%3Cscript%20src%3D%22https%3A//code.jquery.com/jquery-1.12.4.min.js%22%3E%3C/script%3E%0A%20%20%20%20%3Cscript%20src%3D%22https%3A//maxcdn.bootstrapcdn.com/bootstrap/3.2.0/js/bootstrap.min.js%22%3E%3C/script%3E%0A%20%20%20%20%3Cscript%20src%3D%22https%3A//cdnjs.cloudflare.com/ajax/libs/Leaflet.awesome-markers/2.0.2/leaflet.awesome-markers.js%22%3E%3C/script%3E%0A%20%20%20%20%3Clink%20rel%3D%22stylesheet%22%20href%3D%22https%3A//cdn.jsdelivr.net/npm/leaflet%401.6.0/dist/leaflet.css%22/%3E%0A%20%20%20%20%3Clink%20rel%3D%22stylesheet%22%20href%3D%22https%3A//maxcdn.bootstrapcdn.com/bootstrap/3.2.0/css/bootstrap.min.css%22/%3E%0A%20%20%20%20%3Clink%20rel%3D%22stylesheet%22%20href%3D%22https%3A//maxcdn.bootstrapcdn.com/bootstrap/3.2.0/css/bootstrap-theme.min.css%22/%3E%0A%20%20%20%20%3Clink%20rel%3D%22stylesheet%22%20href%3D%22https%3A//maxcdn.bootstrapcdn.com/font-awesome/4.6.3/css/font-awesome.min.css%22/%3E%0A%20%20%20%20%3Clink%20rel%3D%22stylesheet%22%20href%3D%22https%3A//cdnjs.cloudflare.com/ajax/libs/Leaflet.awesome-markers/2.0.2/leaflet.awesome-markers.css%22/%3E%0A%20%20%20%20%3Clink%20rel%3D%22stylesheet%22%20href%3D%22https%3A//cdn.jsdelivr.net/gh/python-visualization/folium/folium/templates/leaflet.awesome.rotate.min.css%22/%3E%0A%20%20%20%20%0A%20%20%20%20%20%20%20%20%20%20%20%20%3Cmeta%20name%3D%22viewport%22%20content%3D%22width%3Ddevice-width%2C%0A%20%20%20%20%20%20%20%20%20%20%20%20%20%20%20%20initial-scale%3D1.0%2C%20maximum-scale%3D1.0%2C%20user-scalable%3Dno%22%20/%3E%0A%20%20%20%20%20%20%20%20%20%20%20%20%3Cstyle%3E%0A%20%20%20%20%20%20%20%20%20%20%20%20%20%20%20%20%23map_8706b6a0967841c1b8ee5bb001956175%20%7B%0A%20%20%20%20%20%20%20%20%20%20%20%20%20%20%20%20%20%20%20%20position%3A%20relative%3B%0A%20%20%20%20%20%20%20%20%20%20%20%20%20%20%20%20%20%20%20%20width%3A%20100.0%25%3B%0A%20%20%20%20%20%20%20%20%20%20%20%20%20%20%20%20%20%20%20%20height%3A%20100.0%25%3B%0A%20%20%20%20%20%20%20%20%20%20%20%20%20%20%20%20%20%20%20%20left%3A%200.0%25%3B%0A%20%20%20%20%20%20%20%20%20%20%20%20%20%20%20%20%20%20%20%20top%3A%200.0%25%3B%0A%20%20%20%20%20%20%20%20%20%20%20%20%20%20%20%20%7D%0A%20%20%20%20%20%20%20%20%20%20%20%20%3C/style%3E%0A%20%20%20%20%20%20%20%20%0A%20%20%20%20%0A%20%20%20%20%20%20%20%20%20%20%20%20%20%20%20%20%20%20%20%20%3Cstyle%3E%0A%20%20%20%20%20%20%20%20%20%20%20%20%20%20%20%20%20%20%20%20%20%20%20%20.foliumtooltip%20%7B%0A%20%20%20%20%20%20%20%20%20%20%20%20%20%20%20%20%20%20%20%20%20%20%20%20%20%20%20%20%0A%20%20%20%20%20%20%20%20%20%20%20%20%20%20%20%20%20%20%20%20%20%20%20%20%7D%0A%20%20%20%20%20%20%20%20%20%20%20%20%20%20%20%20%20%20%20%20%20%20%20.foliumtooltip%20table%7B%0A%20%20%20%20%20%20%20%20%20%20%20%20%20%20%20%20%20%20%20%20%20%20%20%20%20%20%20%20margin%3A%20auto%3B%0A%20%20%20%20%20%20%20%20%20%20%20%20%20%20%20%20%20%20%20%20%20%20%20%20%7D%0A%20%20%20%20%20%20%20%20%20%20%20%20%20%20%20%20%20%20%20%20%20%20%20%20.foliumtooltip%20tr%7B%0A%20%20%20%20%20%20%20%20%20%20%20%20%20%20%20%20%20%20%20%20%20%20%20%20%20%20%20%20text-align%3A%20left%3B%0A%20%20%20%20%20%20%20%20%20%20%20%20%20%20%20%20%20%20%20%20%20%20%20%20%7D%0A%20%20%20%20%20%20%20%20%20%20%20%20%20%20%20%20%20%20%20%20%20%20%20%20.foliumtooltip%20th%7B%0A%20%20%20%20%20%20%20%20%20%20%20%20%20%20%20%20%20%20%20%20%20%20%20%20%20%20%20%20padding%3A%202px%3B%20padding-right%3A%208px%3B%0A%20%20%20%20%20%20%20%20%20%20%20%20%20%20%20%20%20%20%20%20%20%20%20%20%7D%0A%20%20%20%20%20%20%20%20%20%20%20%20%20%20%20%20%20%20%20%20%3C/style%3E%0A%20%20%20%20%20%20%20%20%20%20%20%20%0A%3C/head%3E%0A%3Cbody%3E%20%20%20%20%0A%20%20%20%20%0A%20%20%20%20%20%20%20%20%20%20%20%20%3Cdiv%20class%3D%22folium-map%22%20id%3D%22map_8706b6a0967841c1b8ee5bb001956175%22%20%3E%3C/div%3E%0A%20%20%20%20%20%20%20%20%0A%3C/body%3E%0A%3Cscript%3E%20%20%20%20%0A%20%20%20%20%0A%20%20%20%20%20%20%20%20%20%20%20%20var%20map_8706b6a0967841c1b8ee5bb001956175%20%3D%20L.map%28%0A%20%20%20%20%20%20%20%20%20%20%20%20%20%20%20%20%22map_8706b6a0967841c1b8ee5bb001956175%22%2C%0A%20%20%20%20%20%20%20%20%20%20%20%20%20%20%20%20%7B%0A%20%20%20%20%20%20%20%20%20%20%20%20%20%20%20%20%20%20%20%20center%3A%20%5B32.72761588100005%2C%20-117.10941515999994%5D%2C%0A%20%20%20%20%20%20%20%20%20%20%20%20%20%20%20%20%20%20%20%20crs%3A%20L.CRS.EPSG3857%2C%0A%20%20%20%20%20%20%20%20%20%20%20%20%20%20%20%20%20%20%20%20zoom%3A%2010%2C%0A%20%20%20%20%20%20%20%20%20%20%20%20%20%20%20%20%20%20%20%20zoomControl%3A%20true%2C%0A%20%20%20%20%20%20%20%20%20%20%20%20%20%20%20%20%20%20%20%20preferCanvas%3A%20false%2C%0A%20%20%20%20%20%20%20%20%20%20%20%20%20%20%20%20%7D%0A%20%20%20%20%20%20%20%20%20%20%20%20%29%3B%0A%20%20%20%20%20%20%20%20%20%20%20%20L.control.scale%28%29.addTo%28map_8706b6a0967841c1b8ee5bb001956175%29%3B%0A%0A%20%20%20%20%20%20%20%20%20%20%20%20%0A%0A%20%20%20%20%20%20%20%20%0A%20%20%20%20%0A%20%20%20%20%20%20%20%20%20%20%20%20var%20tile_layer_0beafb7844fa47a98369c92c0dc0d96d%20%3D%20L.tileLayer%28%0A%20%20%20%20%20%20%20%20%20%20%20%20%20%20%20%20%22https%3A//%7Bs%7D.tile.openstreetmap.org/%7Bz%7D/%7Bx%7D/%7By%7D.png%22%2C%0A%20%20%20%20%20%20%20%20%20%20%20%20%20%20%20%20%7B%22attribution%22%3A%20%22Data%20by%20%5Cu0026copy%3B%20%5Cu003ca%20href%3D%5C%22http%3A//openstreetmap.org%5C%22%5Cu003eOpenStreetMap%5Cu003c/a%5Cu003e%2C%20under%20%5Cu003ca%20href%3D%5C%22http%3A//www.openstreetmap.org/copyright%5C%22%5Cu003eODbL%5Cu003c/a%5Cu003e.%22%2C%20%22detectRetina%22%3A%20false%2C%20%22maxNativeZoom%22%3A%2018%2C%20%22maxZoom%22%3A%2018%2C%20%22minZoom%22%3A%200%2C%20%22noWrap%22%3A%20false%2C%20%22opacity%22%3A%201%2C%20%22subdomains%22%3A%20%22abc%22%2C%20%22tms%22%3A%20false%7D%0A%20%20%20%20%20%20%20%20%20%20%20%20%29.addTo%28map_8706b6a0967841c1b8ee5bb001956175%29%3B%0A%20%20%20%20%20%20%20%20%0A%20%20%20%20%0A%20%20%20%20%20%20%20%20%20%20%20%20map_8706b6a0967841c1b8ee5bb001956175.fitBounds%28%0A%20%20%20%20%20%20%20%20%20%20%20%20%20%20%20%20%5B%5B32.70729748200006%2C%20-117.12199650799994%5D%2C%20%5B32.74793428000004%2C%20-117.09683381199994%5D%5D%2C%0A%20%20%20%20%20%20%20%20%20%20%20%20%20%20%20%20%7B%7D%0A%20%20%20%20%20%20%20%20%20%20%20%20%29%3B%0A%20%20%20%20%20%20%20%20%0A%20%20%20%20%0A%20%20%20%20%20%20%20%20function%20geo_json_8c255bd0e8b5464d8c8dfa025957edcd_styler%28feature%29%20%7B%0A%20%20%20%20%20%20%20%20%20%20%20%20switch%28feature.id%29%20%7B%0A%20%20%20%20%20%20%20%20%20%20%20%20%20%20%20%20default%3A%0A%20%20%20%20%20%20%20%20%20%20%20%20%20%20%20%20%20%20%20%20return%20%7B%22fillOpacity%22%3A%200.5%2C%20%22weight%22%3A%202%7D%3B%0A%20%20%20%20%20%20%20%20%20%20%20%20%7D%0A%20%20%20%20%20%20%20%20%7D%0A%20%20%20%20%20%20%20%20function%20geo_json_8c255bd0e8b5464d8c8dfa025957edcd_highlighter%28feature%29%20%7B%0A%20%20%20%20%20%20%20%20%20%20%20%20switch%28feature.id%29%20%7B%0A%20%20%20%20%20%20%20%20%20%20%20%20%20%20%20%20default%3A%0A%20%20%20%20%20%20%20%20%20%20%20%20%20%20%20%20%20%20%20%20return%20%7B%22fillOpacity%22%3A%200.75%7D%3B%0A%20%20%20%20%20%20%20%20%20%20%20%20%7D%0A%20%20%20%20%20%20%20%20%7D%0A%20%20%20%20%20%20%20%20function%20geo_json_8c255bd0e8b5464d8c8dfa025957edcd_pointToLayer%28feature%2C%20latlng%29%20%7B%0A%20%20%20%20%20%20%20%20%20%20%20%20var%20opts%20%3D%20%7B%22bubblingMouseEvents%22%3A%20true%2C%20%22color%22%3A%20%22%233388ff%22%2C%20%22dashArray%22%3A%20null%2C%20%22dashOffset%22%3A%20null%2C%20%22fill%22%3A%20true%2C%20%22fillColor%22%3A%20%22%233388ff%22%2C%20%22fillOpacity%22%3A%200.2%2C%20%22fillRule%22%3A%20%22evenodd%22%2C%20%22lineCap%22%3A%20%22round%22%2C%20%22lineJoin%22%3A%20%22round%22%2C%20%22opacity%22%3A%201.0%2C%20%22radius%22%3A%202%2C%20%22stroke%22%3A%20true%2C%20%22weight%22%3A%203%7D%3B%0A%20%20%20%20%20%20%20%20%20%20%20%20%0A%20%20%20%20%20%20%20%20%20%20%20%20let%20style%20%3D%20geo_json_8c255bd0e8b5464d8c8dfa025957edcd_styler%28feature%29%0A%20%20%20%20%20%20%20%20%20%20%20%20Object.assign%28opts%2C%20style%29%0A%20%20%20%20%20%20%20%20%20%20%20%20%0A%20%20%20%20%20%20%20%20%20%20%20%20return%20new%20L.CircleMarker%28latlng%2C%20opts%29%0A%20%20%20%20%20%20%20%20%7D%0A%0A%20%20%20%20%20%20%20%20function%20geo_json_8c255bd0e8b5464d8c8dfa025957edcd_onEachFeature%28feature%2C%20layer%29%20%7B%0A%20%20%20%20%20%20%20%20%20%20%20%20layer.on%28%7B%0A%20%20%20%20%20%20%20%20%20%20%20%20%20%20%20%20mouseout%3A%20function%28e%29%20%7B%0A%20%20%20%20%20%20%20%20%20%20%20%20%20%20%20%20%20%20%20%20if%28typeof%20e.target.setStyle%20%3D%3D%3D%20%22function%22%29%7B%0A%20%20%20%20%20%20%20%20%20%20%20%20%20%20%20%20%20%20%20%20%20%20%20%20geo_json_8c255bd0e8b5464d8c8dfa025957edcd.resetStyle%28e.target%29%3B%0A%20%20%20%20%20%20%20%20%20%20%20%20%20%20%20%20%20%20%20%20%7D%0A%20%20%20%20%20%20%20%20%20%20%20%20%20%20%20%20%7D%2C%0A%20%20%20%20%20%20%20%20%20%20%20%20%20%20%20%20mouseover%3A%20function%28e%29%20%7B%0A%20%20%20%20%20%20%20%20%20%20%20%20%20%20%20%20%20%20%20%20if%28typeof%20e.target.setStyle%20%3D%3D%3D%20%22function%22%29%7B%0A%20%20%20%20%20%20%20%20%20%20%20%20%20%20%20%20%20%20%20%20%20%20%20%20const%20highlightStyle%20%3D%20geo_json_8c255bd0e8b5464d8c8dfa025957edcd_highlighter%28e.target.feature%29%0A%20%20%20%20%20%20%20%20%20%20%20%20%20%20%20%20%20%20%20%20%20%20%20%20e.target.setStyle%28highlightStyle%29%3B%0A%20%20%20%20%20%20%20%20%20%20%20%20%20%20%20%20%20%20%20%20%7D%0A%20%20%20%20%20%20%20%20%20%20%20%20%20%20%20%20%7D%2C%0A%20%20%20%20%20%20%20%20%20%20%20%20%7D%29%3B%0A%20%20%20%20%20%20%20%20%7D%3B%0A%20%20%20%20%20%20%20%20var%20geo_json_8c255bd0e8b5464d8c8dfa025957edcd%20%3D%20L.geoJson%28null%2C%20%7B%0A%20%20%20%20%20%20%20%20%20%20%20%20%20%20%20%20onEachFeature%3A%20geo_json_8c255bd0e8b5464d8c8dfa025957edcd_onEachFeature%2C%0A%20%20%20%20%20%20%20%20%20%20%20%20%0A%20%20%20%20%20%20%20%20%20%20%20%20%20%20%20%20style%3A%20geo_json_8c255bd0e8b5464d8c8dfa025957edcd_styler%2C%0A%20%20%20%20%20%20%20%20%20%20%20%20%20%20%20%20pointToLayer%3A%20geo_json_8c255bd0e8b5464d8c8dfa025957edcd_pointToLayer%0A%20%20%20%20%20%20%20%20%7D%29%3B%0A%0A%20%20%20%20%20%20%20%20function%20geo_json_8c255bd0e8b5464d8c8dfa025957edcd_add%20%28data%29%20%7B%0A%20%20%20%20%20%20%20%20%20%20%20%20geo_json_8c255bd0e8b5464d8c8dfa025957edcd%0A%20%20%20%20%20%20%20%20%20%20%20%20%20%20%20%20.addData%28data%29%0A%20%20%20%20%20%20%20%20%20%20%20%20%20%20%20%20.addTo%28map_8706b6a0967841c1b8ee5bb001956175%29%3B%0A%20%20%20%20%20%20%20%20%7D%0A%20%20%20%20%20%20%20%20%20%20%20%20geo_json_8c255bd0e8b5464d8c8dfa025957edcd_add%28%7B%22bbox%22%3A%20%5B-117.12199650799994%2C%2032.70729748200006%2C%20-117.09683381199994%2C%2032.74793428000004%5D%2C%20%22features%22%3A%20%5B%7B%22bbox%22%3A%20%5B-117.12199650799994%2C%2032.70729748200006%2C%20-117.09683381199994%2C%2032.74793428000004%5D%2C%20%22geometry%22%3A%20%7B%22coordinates%22%3A%20%5B%5B-117.12199650799994%2C%2032.74793428000004%2C%200.0%5D%2C%20%5B-117.11616717299995%2C%2032.74079935200007%2C%200.0%5D%2C%20%5B-117.11353503299995%2C%2032.73521614200007%2C%200.0%5D%2C%20%5B-117.11164675799995%2C%2032.731903954000074%2C%200.0%5D%2C%20%5B-117.10890017599996%2C%2032.73041177500005%2C%200.0%5D%2C%20%5B-117.10621796699996%2C%2032.72886504200005%2C%200.0%5D%2C%20%5B-117.10470162399997%2C%2032.72746908600004%2C%200.0%5D%2C%20%5B-117.10361443599999%2C%2032.72568800600004%2C%200.0%5D%2C%20%5B-117.10284195899999%2C%2032.724099445000036%2C%200.0%5D%2C%20%5B-117.10267029699997%2C%2032.722246090000056%2C%200.0%5D%2C%20%5B-117.10295639999998%2C%2032.71863554400005%2C%200.0%5D%2C%20%5B-117.10298500999994%2C%2032.71620436200004%2C%200.0%5D%2C%20%5B-117.10241280599996%2C%2032.713965690000066%2C%200.0%5D%2C%20%5B-117.10135422699994%2C%2032.71213619400004%2C%200.0%5D%2C%20%5B-117.09683381199994%2C%2032.70729748200006%2C%200.0%5D%5D%2C%20%22type%22%3A%20%22LineString%22%7D%2C%20%22id%22%3A%20%2215%22%2C%20%22properties%22%3A%20%7B%22Bus_Brdng_Islnds%22%3A%20null%2C%20%22CT_District%22%3A%20%2211%22%2C%20%22Centerline_Miles%22%3A%204.66%2C%20%22County%22%3A%20%22SD%22%2C%20%22CreationDate%22%3A%201693251188000%2C%20%22EditDate%22%3A%201693421431000%2C%20%22Geom_Priority_Intervention_Type%22%3A%20%22Bus_Only_Lane_%28full-time%29%22%2C%20%22Imprv_Site_Amnts%22%3A%20null%2C%20%22Lyr%22%3A%20%22%5C%22Lns1%5C%22%22%2C%20%22OBJECTID%22%3A%2016%2C%20%22One_Side_Rdwy_Only%22%3A%20%22no%22%2C%20%22Priority_Intervention_Type_All%22%3A%20%22Bus_Only_Lane_%28full-time%29%22%2C%20%22Queue_Jumps%22%3A%20null%2C%20%22Route%22%3A%20805%2C%20%22Scrs%22%3A%20null%2C%20%22Scrs_Link%22%3A%20null%2C%20%22Shape_Length%22%3A%200.05029536794555422%2C%20%22Submitter_Email%22%3A%20%22alyssa.ahn%40dot.ca.gov%22%2C%20%22Submitter_Name%22%3A%20%22Alyssa%20Ahn%22%2C%20%22Transit_Op_Support%22%3A%20%22yes%22%2C%20%22geo_comments%22%3A%20%22805%20Route%3A%20PM%2012.6/15.9%20are%20the%20post%20miles%20for%20the%20entire%20805%20Route%20project%20both%20NB%20and%20SB.%20PM%2013.99/14.45%20%28from%20NB%20begin%20of%20Transit%20Only%20Lane%20to%20Begin%20Bridge%20of%20SR-15%20Transit%20only%20Connector%29%20%22%7D%2C%20%22type%22%3A%20%22Feature%22%7D%5D%2C%20%22type%22%3A%20%22FeatureCollection%22%7D%29%3B%0A%0A%20%20%20%20%20%20%20%20%0A%20%20%20%20%0A%20%20%20%20geo_json_8c255bd0e8b5464d8c8dfa025957edcd.bindTooltip%28%0A%20%20%20%20function%28layer%29%7B%0A%20%20%20%20let%20div%20%3D%20L.DomUtil.create%28%27div%27%29%3B%0A%20%20%20%20%0A%20%20%20%20let%20handleObject%20%3D%20feature%3D%3Etypeof%28feature%29%3D%3D%27object%27%20%3F%20JSON.stringify%28feature%29%20%3A%20feature%3B%0A%20%20%20%20let%20fields%20%3D%20%5B%22OBJECTID%22%2C%20%22Submitter_Name%22%2C%20%22Submitter_Email%22%2C%20%22Priority_Intervention_Type_All%22%2C%20%22Scrs%22%2C%20%22Scrs_Link%22%2C%20%22Centerline_Miles%22%2C%20%22One_Side_Rdwy_Only%22%2C%20%22Queue_Jumps%22%2C%20%22Bus_Brdng_Islnds%22%2C%20%22Imprv_Site_Amnts%22%2C%20%22Transit_Op_Support%22%2C%20%22CT_District%22%2C%20%22County%22%2C%20%22Route%22%2C%20%22Geom_Priority_Intervention_Type%22%2C%20%22geo_comments%22%2C%20%22CreationDate%22%2C%20%22Lyr%22%2C%20%22EditDate%22%2C%20%22Shape_Length%22%5D%3B%0A%20%20%20%20let%20aliases%20%3D%20%5B%22OBJECTID%22%2C%20%22Submitter_Name%22%2C%20%22Submitter_Email%22%2C%20%22Priority_Intervention_Type_All%22%2C%20%22Scrs%22%2C%20%22Scrs_Link%22%2C%20%22Centerline_Miles%22%2C%20%22One_Side_Rdwy_Only%22%2C%20%22Queue_Jumps%22%2C%20%22Bus_Brdng_Islnds%22%2C%20%22Imprv_Site_Amnts%22%2C%20%22Transit_Op_Support%22%2C%20%22CT_District%22%2C%20%22County%22%2C%20%22Route%22%2C%20%22Geom_Priority_Intervention_Type%22%2C%20%22geo_comments%22%2C%20%22CreationDate%22%2C%20%22Lyr%22%2C%20%22EditDate%22%2C%20%22Shape_Length%22%5D%3B%0A%20%20%20%20let%20table%20%3D%20%27%3Ctable%3E%27%20%2B%0A%20%20%20%20%20%20%20%20String%28%0A%20%20%20%20%20%20%20%20fields.map%28%0A%20%20%20%20%20%20%20%20%28v%2Ci%29%3D%3E%0A%20%20%20%20%20%20%20%20%60%3Ctr%3E%0A%20%20%20%20%20%20%20%20%20%20%20%20%3Cth%3E%24%7Baliases%5Bi%5D%7D%3C/th%3E%0A%20%20%20%20%20%20%20%20%20%20%20%20%0A%20%20%20%20%20%20%20%20%20%20%20%20%3Ctd%3E%24%7BhandleObject%28layer.feature.properties%5Bv%5D%29%7D%3C/td%3E%0A%20%20%20%20%20%20%20%20%3C/tr%3E%60%29.join%28%27%27%29%29%0A%20%20%20%20%2B%27%3C/table%3E%27%3B%0A%20%20%20%20div.innerHTML%3Dtable%3B%0A%20%20%20%20%0A%20%20%20%20return%20div%0A%20%20%20%20%7D%0A%20%20%20%20%2C%7B%22className%22%3A%20%22foliumtooltip%22%2C%20%22sticky%22%3A%20true%7D%29%3B%0A%20%20%20%20%20%20%20%20%20%20%20%20%20%20%20%20%20%20%20%20%20%0A%3C/script%3E onload=\"this.contentDocument.open();this.contentDocument.write(    decodeURIComponent(this.getAttribute('data-html')));this.contentDocument.close();\" allowfullscreen webkitallowfullscreen mozallowfullscreen></iframe></div></div>"
      ],
      "text/plain": [
       "<folium.folium.Map at 0x7f0ee167d130>"
      ]
     },
     "execution_count": 118,
     "metadata": {},
     "output_type": "execute_result"
    }
   ],
   "source": [
    "line_priority.iloc[[15]].explore()"
   ]
  },
  {
   "cell_type": "code",
   "execution_count": 119,
   "id": "9330423a-b930-474a-83e9-5b22ca258037",
   "metadata": {},
   "outputs": [],
   "source": [
    "rt_day.transit_priority_target_mph = 65"
   ]
  },
  {
   "cell_type": "code",
   "execution_count": 120,
   "id": "d418011b-1e00-4dfb-a41d-77068c45b167",
   "metadata": {},
   "outputs": [],
   "source": [
    "rt_day.set_filter(route_names = ['60'])"
   ]
  },
  {
   "cell_type": "code",
   "execution_count": 121,
   "id": "f683d4e6-969e-4f62-be4d-cc31decef1b3",
   "metadata": {},
   "outputs": [],
   "source": [
    "_m = rt_day.segment_speed_map()"
   ]
  },
  {
   "cell_type": "code",
   "execution_count": 122,
   "id": "20c77bb4-e5cf-4b66-a294-ce95658530f4",
   "metadata": {},
   "outputs": [],
   "source": [
    "rt_day.autocorridor(shape_id = '60_0_19', stop_seq_range = [1.17, 1.67])"
   ]
  },
  {
   "cell_type": "code",
   "execution_count": 123,
   "id": "c54b0ba1-0ba7-4974-a482-72875889285b",
   "metadata": {},
   "outputs": [
    {
     "data": {
      "text/html": [
       "<div style=\"width:100%;\"><div style=\"position:relative;width:100%;height:0;padding-bottom:60%;\"><span style=\"color:#565656\">Make this Notebook Trusted to load map: File -> Trust Notebook</span><iframe src=\"about:blank\" style=\"position:absolute;width:100%;height:100%;left:0;top:0;border:none !important;\" data-html=%3C%21DOCTYPE%20html%3E%0A%3Chead%3E%20%20%20%20%0A%20%20%20%20%3Cmeta%20http-equiv%3D%22content-type%22%20content%3D%22text/html%3B%20charset%3DUTF-8%22%20/%3E%0A%20%20%20%20%0A%20%20%20%20%20%20%20%20%3Cscript%3E%0A%20%20%20%20%20%20%20%20%20%20%20%20L_NO_TOUCH%20%3D%20false%3B%0A%20%20%20%20%20%20%20%20%20%20%20%20L_DISABLE_3D%20%3D%20false%3B%0A%20%20%20%20%20%20%20%20%3C/script%3E%0A%20%20%20%20%0A%20%20%20%20%3Cstyle%3Ehtml%2C%20body%20%7Bwidth%3A%20100%25%3Bheight%3A%20100%25%3Bmargin%3A%200%3Bpadding%3A%200%3B%7D%3C/style%3E%0A%20%20%20%20%3Cstyle%3E%23map%20%7Bposition%3Aabsolute%3Btop%3A0%3Bbottom%3A0%3Bright%3A0%3Bleft%3A0%3B%7D%3C/style%3E%0A%20%20%20%20%3Cscript%20src%3D%22https%3A//cdn.jsdelivr.net/npm/leaflet%401.6.0/dist/leaflet.js%22%3E%3C/script%3E%0A%20%20%20%20%3Cscript%20src%3D%22https%3A//code.jquery.com/jquery-1.12.4.min.js%22%3E%3C/script%3E%0A%20%20%20%20%3Cscript%20src%3D%22https%3A//maxcdn.bootstrapcdn.com/bootstrap/3.2.0/js/bootstrap.min.js%22%3E%3C/script%3E%0A%20%20%20%20%3Cscript%20src%3D%22https%3A//cdnjs.cloudflare.com/ajax/libs/Leaflet.awesome-markers/2.0.2/leaflet.awesome-markers.js%22%3E%3C/script%3E%0A%20%20%20%20%3Clink%20rel%3D%22stylesheet%22%20href%3D%22https%3A//cdn.jsdelivr.net/npm/leaflet%401.6.0/dist/leaflet.css%22/%3E%0A%20%20%20%20%3Clink%20rel%3D%22stylesheet%22%20href%3D%22https%3A//maxcdn.bootstrapcdn.com/bootstrap/3.2.0/css/bootstrap.min.css%22/%3E%0A%20%20%20%20%3Clink%20rel%3D%22stylesheet%22%20href%3D%22https%3A//maxcdn.bootstrapcdn.com/bootstrap/3.2.0/css/bootstrap-theme.min.css%22/%3E%0A%20%20%20%20%3Clink%20rel%3D%22stylesheet%22%20href%3D%22https%3A//maxcdn.bootstrapcdn.com/font-awesome/4.6.3/css/font-awesome.min.css%22/%3E%0A%20%20%20%20%3Clink%20rel%3D%22stylesheet%22%20href%3D%22https%3A//cdnjs.cloudflare.com/ajax/libs/Leaflet.awesome-markers/2.0.2/leaflet.awesome-markers.css%22/%3E%0A%20%20%20%20%3Clink%20rel%3D%22stylesheet%22%20href%3D%22https%3A//cdn.jsdelivr.net/gh/python-visualization/folium/folium/templates/leaflet.awesome.rotate.min.css%22/%3E%0A%20%20%20%20%0A%20%20%20%20%20%20%20%20%20%20%20%20%3Cmeta%20name%3D%22viewport%22%20content%3D%22width%3Ddevice-width%2C%0A%20%20%20%20%20%20%20%20%20%20%20%20%20%20%20%20initial-scale%3D1.0%2C%20maximum-scale%3D1.0%2C%20user-scalable%3Dno%22%20/%3E%0A%20%20%20%20%20%20%20%20%20%20%20%20%3Cstyle%3E%0A%20%20%20%20%20%20%20%20%20%20%20%20%20%20%20%20%23map_651b90d684064c43bab7437a448f3311%20%7B%0A%20%20%20%20%20%20%20%20%20%20%20%20%20%20%20%20%20%20%20%20position%3A%20relative%3B%0A%20%20%20%20%20%20%20%20%20%20%20%20%20%20%20%20%20%20%20%20width%3A%20100.0%25%3B%0A%20%20%20%20%20%20%20%20%20%20%20%20%20%20%20%20%20%20%20%20height%3A%20100.0%25%3B%0A%20%20%20%20%20%20%20%20%20%20%20%20%20%20%20%20%20%20%20%20left%3A%200.0%25%3B%0A%20%20%20%20%20%20%20%20%20%20%20%20%20%20%20%20%20%20%20%20top%3A%200.0%25%3B%0A%20%20%20%20%20%20%20%20%20%20%20%20%20%20%20%20%7D%0A%20%20%20%20%20%20%20%20%20%20%20%20%3C/style%3E%0A%20%20%20%20%20%20%20%20%0A%20%20%20%20%0A%20%20%20%20%20%20%20%20%20%20%20%20%20%20%20%20%20%20%20%20%3Cstyle%3E%0A%20%20%20%20%20%20%20%20%20%20%20%20%20%20%20%20%20%20%20%20%20%20%20%20.foliumtooltip%20%7B%0A%20%20%20%20%20%20%20%20%20%20%20%20%20%20%20%20%20%20%20%20%20%20%20%20%20%20%20%20%0A%20%20%20%20%20%20%20%20%20%20%20%20%20%20%20%20%20%20%20%20%20%20%20%20%7D%0A%20%20%20%20%20%20%20%20%20%20%20%20%20%20%20%20%20%20%20%20%20%20%20.foliumtooltip%20table%7B%0A%20%20%20%20%20%20%20%20%20%20%20%20%20%20%20%20%20%20%20%20%20%20%20%20%20%20%20%20margin%3A%20auto%3B%0A%20%20%20%20%20%20%20%20%20%20%20%20%20%20%20%20%20%20%20%20%20%20%20%20%7D%0A%20%20%20%20%20%20%20%20%20%20%20%20%20%20%20%20%20%20%20%20%20%20%20%20.foliumtooltip%20tr%7B%0A%20%20%20%20%20%20%20%20%20%20%20%20%20%20%20%20%20%20%20%20%20%20%20%20%20%20%20%20text-align%3A%20left%3B%0A%20%20%20%20%20%20%20%20%20%20%20%20%20%20%20%20%20%20%20%20%20%20%20%20%7D%0A%20%20%20%20%20%20%20%20%20%20%20%20%20%20%20%20%20%20%20%20%20%20%20%20.foliumtooltip%20th%7B%0A%20%20%20%20%20%20%20%20%20%20%20%20%20%20%20%20%20%20%20%20%20%20%20%20%20%20%20%20padding%3A%202px%3B%20padding-right%3A%208px%3B%0A%20%20%20%20%20%20%20%20%20%20%20%20%20%20%20%20%20%20%20%20%20%20%20%20%7D%0A%20%20%20%20%20%20%20%20%20%20%20%20%20%20%20%20%20%20%20%20%3C/style%3E%0A%20%20%20%20%20%20%20%20%20%20%20%20%0A%3C/head%3E%0A%3Cbody%3E%20%20%20%20%0A%20%20%20%20%0A%20%20%20%20%20%20%20%20%20%20%20%20%3Cdiv%20class%3D%22folium-map%22%20id%3D%22map_651b90d684064c43bab7437a448f3311%22%20%3E%3C/div%3E%0A%20%20%20%20%20%20%20%20%0A%3C/body%3E%0A%3Cscript%3E%20%20%20%20%0A%20%20%20%20%0A%20%20%20%20%20%20%20%20%20%20%20%20var%20map_651b90d684064c43bab7437a448f3311%20%3D%20L.map%28%0A%20%20%20%20%20%20%20%20%20%20%20%20%20%20%20%20%22map_651b90d684064c43bab7437a448f3311%22%2C%0A%20%20%20%20%20%20%20%20%20%20%20%20%20%20%20%20%7B%0A%20%20%20%20%20%20%20%20%20%20%20%20%20%20%20%20%20%20%20%20center%3A%20%5B32.728297408462105%2C%20-117.1076579099248%5D%2C%0A%20%20%20%20%20%20%20%20%20%20%20%20%20%20%20%20%20%20%20%20crs%3A%20L.CRS.EPSG3857%2C%0A%20%20%20%20%20%20%20%20%20%20%20%20%20%20%20%20%20%20%20%20zoom%3A%2010%2C%0A%20%20%20%20%20%20%20%20%20%20%20%20%20%20%20%20%20%20%20%20zoomControl%3A%20true%2C%0A%20%20%20%20%20%20%20%20%20%20%20%20%20%20%20%20%20%20%20%20preferCanvas%3A%20false%2C%0A%20%20%20%20%20%20%20%20%20%20%20%20%20%20%20%20%7D%0A%20%20%20%20%20%20%20%20%20%20%20%20%29%3B%0A%20%20%20%20%20%20%20%20%20%20%20%20L.control.scale%28%29.addTo%28map_651b90d684064c43bab7437a448f3311%29%3B%0A%0A%20%20%20%20%20%20%20%20%20%20%20%20%0A%0A%20%20%20%20%20%20%20%20%0A%20%20%20%20%0A%20%20%20%20%20%20%20%20%20%20%20%20var%20tile_layer_0f147e22cb70476d924b4d79706c14b5%20%3D%20L.tileLayer%28%0A%20%20%20%20%20%20%20%20%20%20%20%20%20%20%20%20%22https%3A//%7Bs%7D.tile.openstreetmap.org/%7Bz%7D/%7Bx%7D/%7By%7D.png%22%2C%0A%20%20%20%20%20%20%20%20%20%20%20%20%20%20%20%20%7B%22attribution%22%3A%20%22Data%20by%20%5Cu0026copy%3B%20%5Cu003ca%20href%3D%5C%22http%3A//openstreetmap.org%5C%22%5Cu003eOpenStreetMap%5Cu003c/a%5Cu003e%2C%20under%20%5Cu003ca%20href%3D%5C%22http%3A//www.openstreetmap.org/copyright%5C%22%5Cu003eODbL%5Cu003c/a%5Cu003e.%22%2C%20%22detectRetina%22%3A%20false%2C%20%22maxNativeZoom%22%3A%2018%2C%20%22maxZoom%22%3A%2018%2C%20%22minZoom%22%3A%200%2C%20%22noWrap%22%3A%20false%2C%20%22opacity%22%3A%201%2C%20%22subdomains%22%3A%20%22abc%22%2C%20%22tms%22%3A%20false%7D%0A%20%20%20%20%20%20%20%20%20%20%20%20%29.addTo%28map_651b90d684064c43bab7437a448f3311%29%3B%0A%20%20%20%20%20%20%20%20%0A%20%20%20%20%0A%20%20%20%20%20%20%20%20%20%20%20%20map_651b90d684064c43bab7437a448f3311.fitBounds%28%0A%20%20%20%20%20%20%20%20%20%20%20%20%20%20%20%20%5B%5B32.7153749608791%2C%20-117.11381902987902%5D%2C%20%5B32.741219856045106%2C%20-117.10149678997058%5D%5D%2C%0A%20%20%20%20%20%20%20%20%20%20%20%20%20%20%20%20%7B%7D%0A%20%20%20%20%20%20%20%20%20%20%20%20%29%3B%0A%20%20%20%20%20%20%20%20%0A%20%20%20%20%0A%20%20%20%20%20%20%20%20function%20geo_json_6cdf27f05e9647bda950a3f67ac002dd_styler%28feature%29%20%7B%0A%20%20%20%20%20%20%20%20%20%20%20%20switch%28feature.id%29%20%7B%0A%20%20%20%20%20%20%20%20%20%20%20%20%20%20%20%20default%3A%0A%20%20%20%20%20%20%20%20%20%20%20%20%20%20%20%20%20%20%20%20return%20%7B%22fillOpacity%22%3A%200.5%2C%20%22weight%22%3A%202%7D%3B%0A%20%20%20%20%20%20%20%20%20%20%20%20%7D%0A%20%20%20%20%20%20%20%20%7D%0A%20%20%20%20%20%20%20%20function%20geo_json_6cdf27f05e9647bda950a3f67ac002dd_highlighter%28feature%29%20%7B%0A%20%20%20%20%20%20%20%20%20%20%20%20switch%28feature.id%29%20%7B%0A%20%20%20%20%20%20%20%20%20%20%20%20%20%20%20%20default%3A%0A%20%20%20%20%20%20%20%20%20%20%20%20%20%20%20%20%20%20%20%20return%20%7B%22fillOpacity%22%3A%200.75%7D%3B%0A%20%20%20%20%20%20%20%20%20%20%20%20%7D%0A%20%20%20%20%20%20%20%20%7D%0A%20%20%20%20%20%20%20%20function%20geo_json_6cdf27f05e9647bda950a3f67ac002dd_pointToLayer%28feature%2C%20latlng%29%20%7B%0A%20%20%20%20%20%20%20%20%20%20%20%20var%20opts%20%3D%20%7B%22bubblingMouseEvents%22%3A%20true%2C%20%22color%22%3A%20%22%233388ff%22%2C%20%22dashArray%22%3A%20null%2C%20%22dashOffset%22%3A%20null%2C%20%22fill%22%3A%20true%2C%20%22fillColor%22%3A%20%22%233388ff%22%2C%20%22fillOpacity%22%3A%200.2%2C%20%22fillRule%22%3A%20%22evenodd%22%2C%20%22lineCap%22%3A%20%22round%22%2C%20%22lineJoin%22%3A%20%22round%22%2C%20%22opacity%22%3A%201.0%2C%20%22radius%22%3A%202%2C%20%22stroke%22%3A%20true%2C%20%22weight%22%3A%203%7D%3B%0A%20%20%20%20%20%20%20%20%20%20%20%20%0A%20%20%20%20%20%20%20%20%20%20%20%20let%20style%20%3D%20geo_json_6cdf27f05e9647bda950a3f67ac002dd_styler%28feature%29%0A%20%20%20%20%20%20%20%20%20%20%20%20Object.assign%28opts%2C%20style%29%0A%20%20%20%20%20%20%20%20%20%20%20%20%0A%20%20%20%20%20%20%20%20%20%20%20%20return%20new%20L.CircleMarker%28latlng%2C%20opts%29%0A%20%20%20%20%20%20%20%20%7D%0A%0A%20%20%20%20%20%20%20%20function%20geo_json_6cdf27f05e9647bda950a3f67ac002dd_onEachFeature%28feature%2C%20layer%29%20%7B%0A%20%20%20%20%20%20%20%20%20%20%20%20layer.on%28%7B%0A%20%20%20%20%20%20%20%20%20%20%20%20%20%20%20%20mouseout%3A%20function%28e%29%20%7B%0A%20%20%20%20%20%20%20%20%20%20%20%20%20%20%20%20%20%20%20%20if%28typeof%20e.target.setStyle%20%3D%3D%3D%20%22function%22%29%7B%0A%20%20%20%20%20%20%20%20%20%20%20%20%20%20%20%20%20%20%20%20%20%20%20%20geo_json_6cdf27f05e9647bda950a3f67ac002dd.resetStyle%28e.target%29%3B%0A%20%20%20%20%20%20%20%20%20%20%20%20%20%20%20%20%20%20%20%20%7D%0A%20%20%20%20%20%20%20%20%20%20%20%20%20%20%20%20%7D%2C%0A%20%20%20%20%20%20%20%20%20%20%20%20%20%20%20%20mouseover%3A%20function%28e%29%20%7B%0A%20%20%20%20%20%20%20%20%20%20%20%20%20%20%20%20%20%20%20%20if%28typeof%20e.target.setStyle%20%3D%3D%3D%20%22function%22%29%7B%0A%20%20%20%20%20%20%20%20%20%20%20%20%20%20%20%20%20%20%20%20%20%20%20%20const%20highlightStyle%20%3D%20geo_json_6cdf27f05e9647bda950a3f67ac002dd_highlighter%28e.target.feature%29%0A%20%20%20%20%20%20%20%20%20%20%20%20%20%20%20%20%20%20%20%20%20%20%20%20e.target.setStyle%28highlightStyle%29%3B%0A%20%20%20%20%20%20%20%20%20%20%20%20%20%20%20%20%20%20%20%20%7D%0A%20%20%20%20%20%20%20%20%20%20%20%20%20%20%20%20%7D%2C%0A%20%20%20%20%20%20%20%20%20%20%20%20%7D%29%3B%0A%20%20%20%20%20%20%20%20%7D%3B%0A%20%20%20%20%20%20%20%20var%20geo_json_6cdf27f05e9647bda950a3f67ac002dd%20%3D%20L.geoJson%28null%2C%20%7B%0A%20%20%20%20%20%20%20%20%20%20%20%20%20%20%20%20onEachFeature%3A%20geo_json_6cdf27f05e9647bda950a3f67ac002dd_onEachFeature%2C%0A%20%20%20%20%20%20%20%20%20%20%20%20%0A%20%20%20%20%20%20%20%20%20%20%20%20%20%20%20%20style%3A%20geo_json_6cdf27f05e9647bda950a3f67ac002dd_styler%2C%0A%20%20%20%20%20%20%20%20%20%20%20%20%20%20%20%20pointToLayer%3A%20geo_json_6cdf27f05e9647bda950a3f67ac002dd_pointToLayer%0A%20%20%20%20%20%20%20%20%7D%29%3B%0A%0A%20%20%20%20%20%20%20%20function%20geo_json_6cdf27f05e9647bda950a3f67ac002dd_add%20%28data%29%20%7B%0A%20%20%20%20%20%20%20%20%20%20%20%20geo_json_6cdf27f05e9647bda950a3f67ac002dd%0A%20%20%20%20%20%20%20%20%20%20%20%20%20%20%20%20.addData%28data%29%0A%20%20%20%20%20%20%20%20%20%20%20%20%20%20%20%20.addTo%28map_651b90d684064c43bab7437a448f3311%29%3B%0A%20%20%20%20%20%20%20%20%7D%0A%20%20%20%20%20%20%20%20%20%20%20%20geo_json_6cdf27f05e9647bda950a3f67ac002dd_add%28%7B%22bbox%22%3A%20%5B-117.11381902987902%2C%2032.7153749608791%2C%20-117.10149678997058%2C%2032.741219856045106%5D%2C%20%22features%22%3A%20%5B%7B%22bbox%22%3A%20%5B-117.11381902987902%2C%2032.7153749608791%2C%20-117.10149678997058%2C%2032.741219856045106%5D%2C%20%22geometry%22%3A%20%7B%22coordinates%22%3A%20%5B%5B%5B-117.10377455997418%2C%2032.71636521268274%5D%2C%20%5B-117.10386612028736%2C%2032.7171548519155%5D%2C%20%5B-117.10387014204522%2C%2032.71720239493657%5D%2C%20%5B-117.10388540582507%2C%2032.71748850480823%5D%2C%20%5B-117.10388593883312%2C%2032.71755844606282%5D%2C%20%5B-117.10387068413276%2C%2032.71795898619123%5D%2C%20%5B-117.10386194370797%2C%2032.718048881813225%5D%2C%20%5B-117.10383418776526%2C%2032.71822582713452%5D%2C%20%5B-117.10376182327762%2C%2032.718884452387954%5D%2C%20%5B-117.10375681262877%2C%2032.71896463317924%5D%2C%20%5B-117.10375681362643%2C%2032.719039914927414%5D%2C%20%5B-117.10375441615301%2C%2032.71910047727114%5D%2C%20%5B-117.10368816550398%2C%2032.719936160506286%5D%2C%20%5B-117.1036881661134%2C%2032.71998214492736%5D%2C%20%5B-117.1036881727361%2C%2032.72048186492733%5D%2C%20%5B-117.10368709563637%2C%2032.72052247366195%5D%2C%20%5B-117.10364216897251%2C%2032.721368734925434%5D%2C%20%5B-117.10362739863685%2C%2032.72264403249523%5D%2C%20%5B-117.10366292176347%2C%2032.723308099380475%5D%2C%20%5B-117.10368629017891%2C%2032.72350669339475%5D%2C%20%5B-117.10377981683263%2C%2032.72394090367123%5D%2C%20%5B-117.10409315979051%2C%2032.72503449016276%5D%2C%20%5B-117.10409315979051%2C%2032.72503449016276%5D%2C%20%5B-117.10413427338776%2C%2032.725177976783165%5D%2C%20%5B-117.10418237819303%2C%2032.72526123444365%5D%2C%20%5B-117.10422456625184%2C%2032.72534461293008%5D%2C%20%5B-117.10455281175987%2C%2032.72609537026896%5D%2C%20%5B-117.1047660608094%2C%2032.72641219175082%5D%2C%20%5B-117.10494082066724%2C%2032.726649360133244%5D%2C%20%5B-117.10567393313788%2C%2032.72745648100218%5D%2C%20%5B-117.10605491644674%2C%2032.72780738539519%5D%2C%20%5B-117.10653807347953%2C%2032.72820081304098%5D%2C%20%5B-117.10701031662305%2C%2032.728534157812796%5D%2C%20%5B-117.10739238468749%2C%2032.72878117880397%5D%2C%20%5B-117.10839990148057%2C%2032.729306844704624%5D%2C%20%5B-117.10845476299212%2C%2032.72933748436715%5D%2C%20%5B-117.10916429970432%2C%2032.72976091092662%5D%2C%20%5B-117.10921072285059%2C%2032.72979024558222%5D%2C%20%5B-117.10991262050955%2C%2032.73025945192113%5D%2C%20%5B-117.10998679074522%2C%2032.730313911579806%5D%2C%20%5B-117.11011332361315%2C%2032.730415833800116%5D%2C%20%5B-117.11059815315947%2C%2032.730785053286965%5D%2C%20%5B-117.11067904617335%2C%2032.73085365960655%5D%2C%20%5B-117.11075079095149%2C%2032.73092922465332%5D%2C%20%5B-117.11098099846001%2C%2032.73120030104907%5D%2C%20%5B-117.11098099846001%2C%2032.731200301049086%5D%2C%20%5B-117.11180365737881%2C%2032.732168987455445%5D%2C%20%5B-117.1118731180398%2C%2032.732262317408775%5D%2C%20%5B-117.11204096014811%2C%2032.73252171616909%5D%2C%20%5B-117.11207505681637%2C%2032.732579175607945%5D%2C%20%5B-117.11217423855749%2C%2032.7327622848487%5D%2C%20%5B-117.1121800697866%2C%2032.73277324218485%5D%2C%20%5B-117.11235555305662%2C%2032.73310893083332%5D%2C%20%5B-117.11238580642085%2C%2032.733173379492094%5D%2C%20%5B-117.11241013414146%2C%2032.73323960627677%5D%2C%20%5B-117.11262376211032%2C%2032.73391099453938%5D%2C%20%5B-117.11264277148774%2C%2032.73398201394045%5D%2C%20%5B-117.11308027745463%2C%2032.73598836579403%5D%2C%20%5B-117.1135850339315%2C%2032.737777529535514%5D%2C%20%5B-117.11359348837567%2C%2032.73781015278587%5D%2C%20%5B-117.11369267361214%2C%2032.73822977196659%5D%2C%20%5B-117.1137085459316%2C%2032.73832077927161%5D%2C%20%5B-117.11381536825286%2C%2032.73926300837581%5D%2C%20%5B-117.11381902987902%2C%2032.73939262774597%5D%2C%20%5B-117.11377327056529%2C%2032.74020133813113%5D%2C%20%5B-117.11376001329164%2C%2032.74030645122081%5D%2C%20%5B-117.11373235204299%2C%2032.740409530868384%5D%2C%20%5B-117.11367800419991%2C%2032.740568397615775%5D%2C%20%5B-117.11364399608425%2C%2032.74065219344443%5D%2C%20%5B-117.11360046039056%2C%2032.7407327606795%5D%2C%20%5B-117.1135478163693%2C%2032.74080932340477%5D%2C%20%5B-117.11348657099445%2C%2032.74088114426839%5D%2C%20%5B-117.11341731408193%2C%2032.74094753158415%5D%2C%20%5B-117.11334071260946%2C%2032.74100784599331%5D%2C%20%5B-117.11325750429359%2C%2032.74106150662258%5D%2C%20%5B-117.11316849048491%2C%2032.74110799667846%5D%2C%20%5B-117.11307452845024%2C%2032.741146868424984%5D%2C%20%5B-117.11297652311613%2C%2032.74117774749606%5D%2C%20%5B-117.11287541835316%2C%2032.741200336501024%5D%2C%20%5B-117.11277218788479%2C%2032.74121441788919%5D%2C%20%5B-117.11266782590901%2C%2032.741219856045106%5D%2C%20%5B-117.11256333752225%2C%2032.741216598594804%5D%2C%20%5B-117.11245972903845%2C%2032.74120467691024%5D%2C%20%5B-117.11235799829657%2C%2032.74118420580714%5D%2C%20%5B-117.11225912504943%2C%2032.74115538243912%5D%2C%20%5B-117.11216406152712%2C%2032.74111848439873%5D%2C%20%5B-117.11207372326538%2C%2032.74107386704391%5D%2C%20%5B-117.11198898028773%2C%2032.74102196007523%5D%2C%20%5B-117.111910648726%2C%2032.740963263397035%5D%2C%20%5B-117.11183948296004%2C%2032.7408983423032%5D%2C%20%5B-117.1117761683526%2C%2032.7408278220319%5D%2C%20%5B-117.111721314649%2C%2032.74075238174405%5D%2C%20%5B-117.11167545010515%2C%2032.74067274798229%5D%2C%20%5B-117.11163901640091%2C%2032.74058968767316%5D%2C%20%5B-117.11161236438717%2C%2032.74050400074123%5D%2C%20%5B-117.11159575070799%2C%2032.74041651240465%5D%2C%20%5B-117.11158933533007%2C%2032.74032806522793%5D%2C%20%5B-117.11159318000347%2C%2032.7402395110073%5D%2C%20%5B-117.11160724766823%2C%2032.74015170256735%5D%2C%20%5B-117.11163140281239%2C%2032.74006548554798%5D%2C%20%5B-117.11165083898882%2C%2032.74000867501064%5D%2C%20%5B-117.11168693613742%2C%2032.739371023428795%5D%2C%20%5B-117.1115926682596%2C%2032.7385393374768%5D%2C%20%5B-117.11150803782084%2C%2032.738181255374954%5D%2C%20%5B-117.11100147268303%2C%2032.736385516614384%5D%2C%20%5B-117.11099000867904%2C%2032.73633963987472%5D%2C%20%5B-117.11055533728042%2C%2032.73434605115248%5D%2C%20%5B-117.11037427439156%2C%2032.73377696300657%5D%2C%20%5B-117.11023489383088%2C%2032.73351032430233%5D%2C%20%5B-117.11015451398964%2C%2032.73336192072201%5D%2C%20%5B-117.11003629121714%2C%2032.73317920200396%5D%2C%20%5B-117.10925174239452%2C%2032.732255367806104%5D%2C%20%5B-117.10925174239452%2C%2032.73225536780608%5D%2C%20%5B-117.10908868105905%2C%2032.732063353761525%5D%2C%20%5B-117.10867826413909%2C%2032.73175079874015%5D%2C%20%5B-117.10865638740815%2C%2032.73173366378584%5D%2C%20%5B-117.10855466140251%2C%2032.73165172250242%5D%2C%20%5B-117.10791406681017%2C%2032.73122349226273%5D%2C%20%5B-117.10725507918055%2C%2032.73083022889102%5D%2C%20%5B-117.10623021157484%2C%2032.730295507007945%5D%2C%20%5B-117.10614256353888%2C%2032.73024449532382%5D%2C%20%5B-117.10570005188555%2C%2032.72995839306336%5D%2C%20%5B-117.10566441918711%2C%2032.729934315851054%5D%2C%20%5B-117.10514561781407%2C%2032.729568103054724%5D%2C%20%5B-117.10508931847022%2C%2032.72952540743081%5D%2C%20%5B-117.10455525813637%2C%2032.72909052431446%5D%2C%20%5B-117.10450940690414%2C%2032.72905081707188%5D%2C%20%5B-117.10407453750209%2C%2032.72865027437667%5D%2C%20%5B-117.10401431274776%2C%2032.728589668695825%5D%2C%20%5B-117.10322085648411%2C%2032.727716093400474%5D%2C%20%5B-117.10316142644267%2C%2032.72764358611983%5D%2C%20%5B-117.10294780843046%2C%2032.727353674593786%5D%2C%20%5B-117.10292605433584%2C%2032.72732279904701%5D%2C%20%5B-117.10265902741656%2C%2032.72692606709358%5D%2C%20%5B-117.1026189960388%2C%2032.72686050041401%5D%2C%20%5B-117.10258541715433%2C%2032.72679238083927%5D%2C%20%5B-117.102245465417%2C%2032.72601480693444%5D%2C%20%5B-117.1021698539044%2C%2032.725883936395974%5D%2C%20%5B-117.10212471362011%2C%2032.72579371563116%5D%2C%20%5B-117.10209137302769%2C%2032.725699879520064%5D%2C%20%5B-117.10202285713295%2C%2032.7254607377274%5D%2C%20%5B-117.10202285713295%2C%2032.72546073772738%5D%2C%20%5B-117.10170228948748%2C%2032.724341836335604%5D%2C%20%5B-117.10168952007832%2C%2032.72429090456977%5D%2C%20%5B-117.10158271632879%2C%2032.72379499368494%5D%2C%20%5B-117.1015706534212%2C%2032.72372242424919%5D%2C%20%5B-117.10154013680831%2C%2032.72346302399344%5D%2C%20%5B-117.10153597142359%2C%2032.72341430148677%5D%2C%20%5B-117.10149783084906%2C%2032.72270095116579%5D%2C%20%5B-117.10149678997058%2C%2032.72265117921135%5D%2C%20%5B-117.1015120674105%2C%2032.72133510933989%5D%2C%20%5B-117.10151309404796%2C%2032.721303375825656%5D%2C%20%5B-117.10155780753315%2C%2032.72046155028817%5D%2C%20%5B-117.10155781388663%2C%2032.71998214492736%5D%2C%20%5B-117.10155781489779%2C%2032.719905844927396%5D%2C%20%5B-117.10156021405042%2C%2032.719845282047125%5D%2C%20%5B-117.10162648677533%2C%2032.71900959963673%5D%2C%20%5B-117.10162648768807%2C%2032.7189407249274%5D%2C%20%5B-117.10162798061737%2C%2032.71889294193106%5D%2C%20%5B-117.10163561222828%2C%2032.71877087199525%5D%2C%20%5B-117.10163871247309%2C%2032.71873489553167%5D%2C%20%5B-117.1017150115545%2C%2032.71804062617138%5D%2C%20%5B-117.10171971690926%2C%2032.7180053379429%5D%2C%20%5B-117.10174321675014%2C%2032.71785555061318%5D%2C%20%5B-117.1017554288188%2C%2032.71753512316032%5D%2C%20%5B-117.10174330683726%2C%2032.7173077914766%5D%2C%20%5B-117.10166160327783%2C%2032.71660299957988%5D%2C%20%5B-117.1016288891008%2C%2032.7164865338406%5D%2C%20%5B-117.10160969305869%2C%2032.71639942383082%5D%2C%20%5B-117.1016006606452%2C%2032.71631113810845%5D%2C%20%5B-117.10160187881417%2C%2032.716222526915445%5D%2C%20%5B-117.10161333580015%2C%2032.7161344436257%5D%2C%20%5B-117.10163492123317%2C%2032.71604773652673%5D%2C%20%5B-117.10166642720282%2C%2032.71596324065011%5D%2C%20%5B-117.10170755026174%2C%2032.71588176973012%5D%2C%20%5B-117.10175789434905%2C%2032.71580410836709%5D%2C%20%5B-117.10181697460558%2C%2032.71573100447167%5D%2C%20%5B-117.10188422204398%2C%2032.715663162062604%5D%2C%20%5B-117.10195898902882%2C%2032.71560123448681%5D%2C%20%5B-117.10204055551394%2C%2032.715545818128135%5D%2C%20%5B-117.10212813597691%2C%2032.715497446663996%5D%2C%20%5B-117.10222088698362%2C%2032.71545658592645%5D%2C%20%5B-117.10231791531055%2C%2032.71542362941644%5D%2C%20%5B-117.10241828654637%2C%2032.71539889451435%5D%2C%20%5B-117.10252103408966%2C%2032.71538261942416%5D%2C%20%5B-117.10262516845695%2C%2032.7153749608791%5D%2C%20%5B-117.10272968681063%2C%2032.7153759926332%5D%2C%20%5B-117.10283358261556%2C%2032.715385704750204%5D%2C%20%5B-117.10293585533132%2C%2032.71540400369997%5D%2C%20%5B-117.10303552004666%2C%2032.71543071325877%5D%2C%20%5B-117.10313161696352%2C%2032.71546557620608%5D%2C%20%5B-117.10322322063939%2C%2032.71550825680198%5D%2C%20%5B-117.10330944889888%2C%2032.71555834401961%5D%2C%20%5B-117.10338947132892%2C%2032.71561535550346%5D%2C%20%5B-117.10346251727559%2C%2032.71567874221427%5D%2C%20%5B-117.10352788326568%2C%2032.715747893716006%5D%2C%20%5B-117.10358493978167%2C%2032.71582214405433%5D%2C%20%5B-117.1036331373244%2C%2032.71590077816935%5D%2C%20%5B-117.10367201170585%2C%2032.715983038781964%5D%2C%20%5B-117.10370118851998%2C%2032.71606813368632%5D%2C%20%5B-117.1037506891555%2C%2032.71624434468562%5D%2C%20%5B-117.10377455997418%2C%2032.71636521268274%5D%5D%5D%2C%20%22type%22%3A%20%22Polygon%22%7D%2C%20%22id%22%3A%20%220%22%2C%20%22properties%22%3A%20%7B%22distance_meters%22%3A%202000.0%7D%2C%20%22type%22%3A%20%22Feature%22%7D%5D%2C%20%22type%22%3A%20%22FeatureCollection%22%7D%29%3B%0A%0A%20%20%20%20%20%20%20%20%0A%20%20%20%20%0A%20%20%20%20geo_json_6cdf27f05e9647bda950a3f67ac002dd.bindTooltip%28%0A%20%20%20%20function%28layer%29%7B%0A%20%20%20%20let%20div%20%3D%20L.DomUtil.create%28%27div%27%29%3B%0A%20%20%20%20%0A%20%20%20%20let%20handleObject%20%3D%20feature%3D%3Etypeof%28feature%29%3D%3D%27object%27%20%3F%20JSON.stringify%28feature%29%20%3A%20feature%3B%0A%20%20%20%20let%20fields%20%3D%20%5B%22distance_meters%22%5D%3B%0A%20%20%20%20let%20aliases%20%3D%20%5B%22distance_meters%22%5D%3B%0A%20%20%20%20let%20table%20%3D%20%27%3Ctable%3E%27%20%2B%0A%20%20%20%20%20%20%20%20String%28%0A%20%20%20%20%20%20%20%20fields.map%28%0A%20%20%20%20%20%20%20%20%28v%2Ci%29%3D%3E%0A%20%20%20%20%20%20%20%20%60%3Ctr%3E%0A%20%20%20%20%20%20%20%20%20%20%20%20%3Cth%3E%24%7Baliases%5Bi%5D%7D%3C/th%3E%0A%20%20%20%20%20%20%20%20%20%20%20%20%0A%20%20%20%20%20%20%20%20%20%20%20%20%3Ctd%3E%24%7BhandleObject%28layer.feature.properties%5Bv%5D%29%7D%3C/td%3E%0A%20%20%20%20%20%20%20%20%3C/tr%3E%60%29.join%28%27%27%29%29%0A%20%20%20%20%2B%27%3C/table%3E%27%3B%0A%20%20%20%20div.innerHTML%3Dtable%3B%0A%20%20%20%20%0A%20%20%20%20return%20div%0A%20%20%20%20%7D%0A%20%20%20%20%2C%7B%22className%22%3A%20%22foliumtooltip%22%2C%20%22sticky%22%3A%20true%7D%29%3B%0A%20%20%20%20%20%20%20%20%20%20%20%20%20%20%20%20%20%20%20%20%20%0A%3C/script%3E onload=\"this.contentDocument.open();this.contentDocument.write(    decodeURIComponent(this.getAttribute('data-html')));this.contentDocument.close();\" allowfullscreen webkitallowfullscreen mozallowfullscreen></iframe></div></div>"
      ],
      "text/plain": [
       "<folium.folium.Map at 0x7f0eabf08610>"
      ]
     },
     "execution_count": 123,
     "metadata": {},
     "output_type": "execute_result"
    }
   ],
   "source": [
    "rt_day.corridor.explore()"
   ]
  },
  {
   "cell_type": "code",
   "execution_count": 124,
   "id": "824f0b05-28ca-4bfe-a5a2-5fc82cd72e5e",
   "metadata": {},
   "outputs": [
    {
     "name": "stdout",
     "output_type": "stream",
     "text": [
      "metrics attached to self.corridor: \n"
     ]
    },
    {
     "data": {
      "text/html": [
       "<div>\n",
       "<style scoped>\n",
       "    .dataframe tbody tr th:only-of-type {\n",
       "        vertical-align: middle;\n",
       "    }\n",
       "\n",
       "    .dataframe tbody tr th {\n",
       "        vertical-align: top;\n",
       "    }\n",
       "\n",
       "    .dataframe thead th {\n",
       "        text-align: right;\n",
       "    }\n",
       "</style>\n",
       "<table border=\"1\" class=\"dataframe\">\n",
       "  <thead>\n",
       "    <tr style=\"text-align: right;\">\n",
       "      <th></th>\n",
       "      <th>route_id</th>\n",
       "      <th>route_short_name</th>\n",
       "      <th>organization</th>\n",
       "      <th>p20_corr_mph</th>\n",
       "      <th>p50_corr_mph</th>\n",
       "      <th>avg_corr_mph</th>\n",
       "      <th>speed_delay_minutes</th>\n",
       "      <th>total_speed_delay</th>\n",
       "      <th>p50_runtime_minutes</th>\n",
       "      <th>n_trips</th>\n",
       "      <th>span_hours</th>\n",
       "      <th>daily_avg_trips_hr</th>\n",
       "      <th>trips_added</th>\n",
       "      <th>new_avg_trips_hr</th>\n",
       "      <th>length_miles</th>\n",
       "      <th>distance_meters</th>\n",
       "      <th>target_mph</th>\n",
       "      <th>geometry</th>\n",
       "    </tr>\n",
       "  </thead>\n",
       "  <tbody>\n",
       "    <tr>\n",
       "      <th>0</th>\n",
       "      <td>60</td>\n",
       "      <td>60</td>\n",
       "      <td>San Diego Metropolitan Transit System</td>\n",
       "      <td>14.0</td>\n",
       "      <td>16.4</td>\n",
       "      <td>18.2</td>\n",
       "      <td>38.9</td>\n",
       "      <td>38.9</td>\n",
       "      <td>46.4</td>\n",
       "      <td>12</td>\n",
       "      <td>12.4</td>\n",
       "      <td>0.5</td>\n",
       "      <td>0.8</td>\n",
       "      <td>0.5</td>\n",
       "      <td>1.2</td>\n",
       "      <td>2000.0</td>\n",
       "      <td>65</td>\n",
       "      <td>POLYGON ((271871.035 -584286.371, 271859.772 -...</td>\n",
       "    </tr>\n",
       "  </tbody>\n",
       "</table>\n",
       "</div>"
      ],
      "text/plain": [
       "  route_id route_short_name                           organization  \\\n",
       "0       60               60  San Diego Metropolitan Transit System   \n",
       "\n",
       "   p20_corr_mph  p50_corr_mph  avg_corr_mph  speed_delay_minutes  \\\n",
       "0          14.0          16.4          18.2                 38.9   \n",
       "\n",
       "   total_speed_delay  p50_runtime_minutes  n_trips  span_hours  \\\n",
       "0               38.9                 46.4       12        12.4   \n",
       "\n",
       "   daily_avg_trips_hr  trips_added  new_avg_trips_hr  length_miles  \\\n",
       "0                 0.5          0.8               0.5           1.2   \n",
       "\n",
       "   distance_meters  target_mph  \\\n",
       "0           2000.0          65   \n",
       "\n",
       "                                            geometry  \n",
       "0  POLYGON ((271871.035 -584286.371, 271859.772 -...  "
      ]
     },
     "execution_count": 124,
     "metadata": {},
     "output_type": "execute_result"
    }
   ],
   "source": [
    "rt_day.corridor_metrics()"
   ]
  },
  {
   "cell_type": "code",
   "execution_count": 125,
   "id": "0eab6a36-5496-48f8-8650-33dbc610301c",
   "metadata": {},
   "outputs": [],
   "source": [
    "rt_day.corridor['corridor'] = 'i805'"
   ]
  },
  {
   "cell_type": "code",
   "execution_count": 126,
   "id": "c691ccf3-95bd-4ffc-bbab-9a268496a30b",
   "metadata": {},
   "outputs": [],
   "source": [
    "all_corridors += [rt_day.corridor]"
   ]
  },
  {
   "cell_type": "code",
   "execution_count": 127,
   "id": "d0eace7a-413c-473d-a99c-6bd951f56799",
   "metadata": {},
   "outputs": [],
   "source": [
    "rt_day.set_filter(route_names=['225'])"
   ]
  },
  {
   "cell_type": "code",
   "execution_count": 128,
   "id": "6124b0e9-5827-4853-82d8-c815732110c5",
   "metadata": {},
   "outputs": [],
   "source": [
    "_m = rt_day.segment_speed_map()"
   ]
  },
  {
   "cell_type": "code",
   "execution_count": 129,
   "id": "7e4f848b-5c38-4440-9794-a496644ece65",
   "metadata": {},
   "outputs": [],
   "source": [
    "rt_day.autocorridor(shape_id = '225_0_20', stop_seq_range = [7.68, 7.74])"
   ]
  },
  {
   "cell_type": "code",
   "execution_count": 130,
   "id": "78aa0c5b-85a7-4019-8591-f21a9fbd56a4",
   "metadata": {},
   "outputs": [
    {
     "data": {
      "text/html": [
       "<div style=\"width:100%;\"><div style=\"position:relative;width:100%;height:0;padding-bottom:60%;\"><span style=\"color:#565656\">Make this Notebook Trusted to load map: File -> Trust Notebook</span><iframe src=\"about:blank\" style=\"position:absolute;width:100%;height:100%;left:0;top:0;border:none !important;\" data-html=%3C%21DOCTYPE%20html%3E%0A%3Chead%3E%20%20%20%20%0A%20%20%20%20%3Cmeta%20http-equiv%3D%22content-type%22%20content%3D%22text/html%3B%20charset%3DUTF-8%22%20/%3E%0A%20%20%20%20%0A%20%20%20%20%20%20%20%20%3Cscript%3E%0A%20%20%20%20%20%20%20%20%20%20%20%20L_NO_TOUCH%20%3D%20false%3B%0A%20%20%20%20%20%20%20%20%20%20%20%20L_DISABLE_3D%20%3D%20false%3B%0A%20%20%20%20%20%20%20%20%3C/script%3E%0A%20%20%20%20%0A%20%20%20%20%3Cstyle%3Ehtml%2C%20body%20%7Bwidth%3A%20100%25%3Bheight%3A%20100%25%3Bmargin%3A%200%3Bpadding%3A%200%3B%7D%3C/style%3E%0A%20%20%20%20%3Cstyle%3E%23map%20%7Bposition%3Aabsolute%3Btop%3A0%3Bbottom%3A0%3Bright%3A0%3Bleft%3A0%3B%7D%3C/style%3E%0A%20%20%20%20%3Cscript%20src%3D%22https%3A//cdn.jsdelivr.net/npm/leaflet%401.6.0/dist/leaflet.js%22%3E%3C/script%3E%0A%20%20%20%20%3Cscript%20src%3D%22https%3A//code.jquery.com/jquery-1.12.4.min.js%22%3E%3C/script%3E%0A%20%20%20%20%3Cscript%20src%3D%22https%3A//maxcdn.bootstrapcdn.com/bootstrap/3.2.0/js/bootstrap.min.js%22%3E%3C/script%3E%0A%20%20%20%20%3Cscript%20src%3D%22https%3A//cdnjs.cloudflare.com/ajax/libs/Leaflet.awesome-markers/2.0.2/leaflet.awesome-markers.js%22%3E%3C/script%3E%0A%20%20%20%20%3Clink%20rel%3D%22stylesheet%22%20href%3D%22https%3A//cdn.jsdelivr.net/npm/leaflet%401.6.0/dist/leaflet.css%22/%3E%0A%20%20%20%20%3Clink%20rel%3D%22stylesheet%22%20href%3D%22https%3A//maxcdn.bootstrapcdn.com/bootstrap/3.2.0/css/bootstrap.min.css%22/%3E%0A%20%20%20%20%3Clink%20rel%3D%22stylesheet%22%20href%3D%22https%3A//maxcdn.bootstrapcdn.com/bootstrap/3.2.0/css/bootstrap-theme.min.css%22/%3E%0A%20%20%20%20%3Clink%20rel%3D%22stylesheet%22%20href%3D%22https%3A//maxcdn.bootstrapcdn.com/font-awesome/4.6.3/css/font-awesome.min.css%22/%3E%0A%20%20%20%20%3Clink%20rel%3D%22stylesheet%22%20href%3D%22https%3A//cdnjs.cloudflare.com/ajax/libs/Leaflet.awesome-markers/2.0.2/leaflet.awesome-markers.css%22/%3E%0A%20%20%20%20%3Clink%20rel%3D%22stylesheet%22%20href%3D%22https%3A//cdn.jsdelivr.net/gh/python-visualization/folium/folium/templates/leaflet.awesome.rotate.min.css%22/%3E%0A%20%20%20%20%0A%20%20%20%20%20%20%20%20%20%20%20%20%3Cmeta%20name%3D%22viewport%22%20content%3D%22width%3Ddevice-width%2C%0A%20%20%20%20%20%20%20%20%20%20%20%20%20%20%20%20initial-scale%3D1.0%2C%20maximum-scale%3D1.0%2C%20user-scalable%3Dno%22%20/%3E%0A%20%20%20%20%20%20%20%20%20%20%20%20%3Cstyle%3E%0A%20%20%20%20%20%20%20%20%20%20%20%20%20%20%20%20%23map_dc4b7e7d338141feb3051ff95cd1bce7%20%7B%0A%20%20%20%20%20%20%20%20%20%20%20%20%20%20%20%20%20%20%20%20position%3A%20relative%3B%0A%20%20%20%20%20%20%20%20%20%20%20%20%20%20%20%20%20%20%20%20width%3A%20100.0%25%3B%0A%20%20%20%20%20%20%20%20%20%20%20%20%20%20%20%20%20%20%20%20height%3A%20100.0%25%3B%0A%20%20%20%20%20%20%20%20%20%20%20%20%20%20%20%20%20%20%20%20left%3A%200.0%25%3B%0A%20%20%20%20%20%20%20%20%20%20%20%20%20%20%20%20%20%20%20%20top%3A%200.0%25%3B%0A%20%20%20%20%20%20%20%20%20%20%20%20%20%20%20%20%7D%0A%20%20%20%20%20%20%20%20%20%20%20%20%3C/style%3E%0A%20%20%20%20%20%20%20%20%0A%20%20%20%20%0A%20%20%20%20%20%20%20%20%20%20%20%20%20%20%20%20%20%20%20%20%3Cstyle%3E%0A%20%20%20%20%20%20%20%20%20%20%20%20%20%20%20%20%20%20%20%20%20%20%20%20.foliumtooltip%20%7B%0A%20%20%20%20%20%20%20%20%20%20%20%20%20%20%20%20%20%20%20%20%20%20%20%20%20%20%20%20%0A%20%20%20%20%20%20%20%20%20%20%20%20%20%20%20%20%20%20%20%20%20%20%20%20%7D%0A%20%20%20%20%20%20%20%20%20%20%20%20%20%20%20%20%20%20%20%20%20%20%20.foliumtooltip%20table%7B%0A%20%20%20%20%20%20%20%20%20%20%20%20%20%20%20%20%20%20%20%20%20%20%20%20%20%20%20%20margin%3A%20auto%3B%0A%20%20%20%20%20%20%20%20%20%20%20%20%20%20%20%20%20%20%20%20%20%20%20%20%7D%0A%20%20%20%20%20%20%20%20%20%20%20%20%20%20%20%20%20%20%20%20%20%20%20%20.foliumtooltip%20tr%7B%0A%20%20%20%20%20%20%20%20%20%20%20%20%20%20%20%20%20%20%20%20%20%20%20%20%20%20%20%20text-align%3A%20left%3B%0A%20%20%20%20%20%20%20%20%20%20%20%20%20%20%20%20%20%20%20%20%20%20%20%20%7D%0A%20%20%20%20%20%20%20%20%20%20%20%20%20%20%20%20%20%20%20%20%20%20%20%20.foliumtooltip%20th%7B%0A%20%20%20%20%20%20%20%20%20%20%20%20%20%20%20%20%20%20%20%20%20%20%20%20%20%20%20%20padding%3A%202px%3B%20padding-right%3A%208px%3B%0A%20%20%20%20%20%20%20%20%20%20%20%20%20%20%20%20%20%20%20%20%20%20%20%20%7D%0A%20%20%20%20%20%20%20%20%20%20%20%20%20%20%20%20%20%20%20%20%3C/style%3E%0A%20%20%20%20%20%20%20%20%20%20%20%20%0A%3C/head%3E%0A%3Cbody%3E%20%20%20%20%0A%20%20%20%20%0A%20%20%20%20%20%20%20%20%20%20%20%20%3Cdiv%20class%3D%22folium-map%22%20id%3D%22map_dc4b7e7d338141feb3051ff95cd1bce7%22%20%3E%3C/div%3E%0A%20%20%20%20%20%20%20%20%0A%3C/body%3E%0A%3Cscript%3E%20%20%20%20%0A%20%20%20%20%0A%20%20%20%20%20%20%20%20%20%20%20%20var%20map_dc4b7e7d338141feb3051ff95cd1bce7%20%3D%20L.map%28%0A%20%20%20%20%20%20%20%20%20%20%20%20%20%20%20%20%22map_dc4b7e7d338141feb3051ff95cd1bce7%22%2C%0A%20%20%20%20%20%20%20%20%20%20%20%20%20%20%20%20%7B%0A%20%20%20%20%20%20%20%20%20%20%20%20%20%20%20%20%20%20%20%20center%3A%20%5B32.713207164977064%2C%20-117.10282270974173%5D%2C%0A%20%20%20%20%20%20%20%20%20%20%20%20%20%20%20%20%20%20%20%20crs%3A%20L.CRS.EPSG3857%2C%0A%20%20%20%20%20%20%20%20%20%20%20%20%20%20%20%20%20%20%20%20zoom%3A%2010%2C%0A%20%20%20%20%20%20%20%20%20%20%20%20%20%20%20%20%20%20%20%20zoomControl%3A%20true%2C%0A%20%20%20%20%20%20%20%20%20%20%20%20%20%20%20%20%20%20%20%20preferCanvas%3A%20false%2C%0A%20%20%20%20%20%20%20%20%20%20%20%20%20%20%20%20%7D%0A%20%20%20%20%20%20%20%20%20%20%20%20%29%3B%0A%20%20%20%20%20%20%20%20%20%20%20%20L.control.scale%28%29.addTo%28map_dc4b7e7d338141feb3051ff95cd1bce7%29%3B%0A%0A%20%20%20%20%20%20%20%20%20%20%20%20%0A%0A%20%20%20%20%20%20%20%20%0A%20%20%20%20%0A%20%20%20%20%20%20%20%20%20%20%20%20var%20tile_layer_7e793a1e8aa743b0bf0ab1ec1dc71096%20%3D%20L.tileLayer%28%0A%20%20%20%20%20%20%20%20%20%20%20%20%20%20%20%20%22https%3A//%7Bs%7D.tile.openstreetmap.org/%7Bz%7D/%7Bx%7D/%7By%7D.png%22%2C%0A%20%20%20%20%20%20%20%20%20%20%20%20%20%20%20%20%7B%22attribution%22%3A%20%22Data%20by%20%5Cu0026copy%3B%20%5Cu003ca%20href%3D%5C%22http%3A//openstreetmap.org%5C%22%5Cu003eOpenStreetMap%5Cu003c/a%5Cu003e%2C%20under%20%5Cu003ca%20href%3D%5C%22http%3A//www.openstreetmap.org/copyright%5C%22%5Cu003eODbL%5Cu003c/a%5Cu003e.%22%2C%20%22detectRetina%22%3A%20false%2C%20%22maxNativeZoom%22%3A%2018%2C%20%22maxZoom%22%3A%2018%2C%20%22minZoom%22%3A%200%2C%20%22noWrap%22%3A%20false%2C%20%22opacity%22%3A%201%2C%20%22subdomains%22%3A%20%22abc%22%2C%20%22tms%22%3A%20false%7D%0A%20%20%20%20%20%20%20%20%20%20%20%20%29.addTo%28map_dc4b7e7d338141feb3051ff95cd1bce7%29%3B%0A%20%20%20%20%20%20%20%20%0A%20%20%20%20%0A%20%20%20%20%20%20%20%20%20%20%20%20map_dc4b7e7d338141feb3051ff95cd1bce7.fitBounds%28%0A%20%20%20%20%20%20%20%20%20%20%20%20%20%20%20%20%5B%5B32.70641900768031%2C%20-117.11012303492404%5D%2C%20%5B32.719995322273824%2C%20-117.09552238455942%5D%5D%2C%0A%20%20%20%20%20%20%20%20%20%20%20%20%20%20%20%20%7B%7D%0A%20%20%20%20%20%20%20%20%20%20%20%20%29%3B%0A%20%20%20%20%20%20%20%20%0A%20%20%20%20%0A%20%20%20%20%20%20%20%20function%20geo_json_114d5ad038bc4e0eaf7f9d20c12e6f44_styler%28feature%29%20%7B%0A%20%20%20%20%20%20%20%20%20%20%20%20switch%28feature.id%29%20%7B%0A%20%20%20%20%20%20%20%20%20%20%20%20%20%20%20%20default%3A%0A%20%20%20%20%20%20%20%20%20%20%20%20%20%20%20%20%20%20%20%20return%20%7B%22fillOpacity%22%3A%200.5%2C%20%22weight%22%3A%202%7D%3B%0A%20%20%20%20%20%20%20%20%20%20%20%20%7D%0A%20%20%20%20%20%20%20%20%7D%0A%20%20%20%20%20%20%20%20function%20geo_json_114d5ad038bc4e0eaf7f9d20c12e6f44_highlighter%28feature%29%20%7B%0A%20%20%20%20%20%20%20%20%20%20%20%20switch%28feature.id%29%20%7B%0A%20%20%20%20%20%20%20%20%20%20%20%20%20%20%20%20default%3A%0A%20%20%20%20%20%20%20%20%20%20%20%20%20%20%20%20%20%20%20%20return%20%7B%22fillOpacity%22%3A%200.75%7D%3B%0A%20%20%20%20%20%20%20%20%20%20%20%20%7D%0A%20%20%20%20%20%20%20%20%7D%0A%20%20%20%20%20%20%20%20function%20geo_json_114d5ad038bc4e0eaf7f9d20c12e6f44_pointToLayer%28feature%2C%20latlng%29%20%7B%0A%20%20%20%20%20%20%20%20%20%20%20%20var%20opts%20%3D%20%7B%22bubblingMouseEvents%22%3A%20true%2C%20%22color%22%3A%20%22%233388ff%22%2C%20%22dashArray%22%3A%20null%2C%20%22dashOffset%22%3A%20null%2C%20%22fill%22%3A%20true%2C%20%22fillColor%22%3A%20%22%233388ff%22%2C%20%22fillOpacity%22%3A%200.2%2C%20%22fillRule%22%3A%20%22evenodd%22%2C%20%22lineCap%22%3A%20%22round%22%2C%20%22lineJoin%22%3A%20%22round%22%2C%20%22opacity%22%3A%201.0%2C%20%22radius%22%3A%202%2C%20%22stroke%22%3A%20true%2C%20%22weight%22%3A%203%7D%3B%0A%20%20%20%20%20%20%20%20%20%20%20%20%0A%20%20%20%20%20%20%20%20%20%20%20%20let%20style%20%3D%20geo_json_114d5ad038bc4e0eaf7f9d20c12e6f44_styler%28feature%29%0A%20%20%20%20%20%20%20%20%20%20%20%20Object.assign%28opts%2C%20style%29%0A%20%20%20%20%20%20%20%20%20%20%20%20%0A%20%20%20%20%20%20%20%20%20%20%20%20return%20new%20L.CircleMarker%28latlng%2C%20opts%29%0A%20%20%20%20%20%20%20%20%7D%0A%0A%20%20%20%20%20%20%20%20function%20geo_json_114d5ad038bc4e0eaf7f9d20c12e6f44_onEachFeature%28feature%2C%20layer%29%20%7B%0A%20%20%20%20%20%20%20%20%20%20%20%20layer.on%28%7B%0A%20%20%20%20%20%20%20%20%20%20%20%20%20%20%20%20mouseout%3A%20function%28e%29%20%7B%0A%20%20%20%20%20%20%20%20%20%20%20%20%20%20%20%20%20%20%20%20if%28typeof%20e.target.setStyle%20%3D%3D%3D%20%22function%22%29%7B%0A%20%20%20%20%20%20%20%20%20%20%20%20%20%20%20%20%20%20%20%20%20%20%20%20geo_json_114d5ad038bc4e0eaf7f9d20c12e6f44.resetStyle%28e.target%29%3B%0A%20%20%20%20%20%20%20%20%20%20%20%20%20%20%20%20%20%20%20%20%7D%0A%20%20%20%20%20%20%20%20%20%20%20%20%20%20%20%20%7D%2C%0A%20%20%20%20%20%20%20%20%20%20%20%20%20%20%20%20mouseover%3A%20function%28e%29%20%7B%0A%20%20%20%20%20%20%20%20%20%20%20%20%20%20%20%20%20%20%20%20if%28typeof%20e.target.setStyle%20%3D%3D%3D%20%22function%22%29%7B%0A%20%20%20%20%20%20%20%20%20%20%20%20%20%20%20%20%20%20%20%20%20%20%20%20const%20highlightStyle%20%3D%20geo_json_114d5ad038bc4e0eaf7f9d20c12e6f44_highlighter%28e.target.feature%29%0A%20%20%20%20%20%20%20%20%20%20%20%20%20%20%20%20%20%20%20%20%20%20%20%20e.target.setStyle%28highlightStyle%29%3B%0A%20%20%20%20%20%20%20%20%20%20%20%20%20%20%20%20%20%20%20%20%7D%0A%20%20%20%20%20%20%20%20%20%20%20%20%20%20%20%20%7D%2C%0A%20%20%20%20%20%20%20%20%20%20%20%20%7D%29%3B%0A%20%20%20%20%20%20%20%20%7D%3B%0A%20%20%20%20%20%20%20%20var%20geo_json_114d5ad038bc4e0eaf7f9d20c12e6f44%20%3D%20L.geoJson%28null%2C%20%7B%0A%20%20%20%20%20%20%20%20%20%20%20%20%20%20%20%20onEachFeature%3A%20geo_json_114d5ad038bc4e0eaf7f9d20c12e6f44_onEachFeature%2C%0A%20%20%20%20%20%20%20%20%20%20%20%20%0A%20%20%20%20%20%20%20%20%20%20%20%20%20%20%20%20style%3A%20geo_json_114d5ad038bc4e0eaf7f9d20c12e6f44_styler%2C%0A%20%20%20%20%20%20%20%20%20%20%20%20%20%20%20%20pointToLayer%3A%20geo_json_114d5ad038bc4e0eaf7f9d20c12e6f44_pointToLayer%0A%20%20%20%20%20%20%20%20%7D%29%3B%0A%0A%20%20%20%20%20%20%20%20function%20geo_json_114d5ad038bc4e0eaf7f9d20c12e6f44_add%20%28data%29%20%7B%0A%20%20%20%20%20%20%20%20%20%20%20%20geo_json_114d5ad038bc4e0eaf7f9d20c12e6f44%0A%20%20%20%20%20%20%20%20%20%20%20%20%20%20%20%20.addData%28data%29%0A%20%20%20%20%20%20%20%20%20%20%20%20%20%20%20%20.addTo%28map_dc4b7e7d338141feb3051ff95cd1bce7%29%3B%0A%20%20%20%20%20%20%20%20%7D%0A%20%20%20%20%20%20%20%20%20%20%20%20geo_json_114d5ad038bc4e0eaf7f9d20c12e6f44_add%28%7B%22bbox%22%3A%20%5B-117.11012303492404%2C%2032.70641900768031%2C%20-117.09552238455942%2C%2032.719995322273824%5D%2C%20%22features%22%3A%20%5B%7B%22bbox%22%3A%20%5B-117.11012303492404%2C%2032.70641900768031%2C%20-117.09552238455942%2C%2032.719995322273824%5D%2C%20%22geometry%22%3A%20%7B%22coordinates%22%3A%20%5B%5B%5B-117.09776197709672%2C%2032.70713475452171%5D%2C%20%5B-117.09780972572155%2C%2032.70718101795957%5D%2C%20%5B-117.09880917926658%2C%2032.70821861144272%5D%2C%20%5B-117.09883022402565%2C%2032.708241183556865%5D%2C%20%5B-117.09945452652734%2C%2032.70893316958895%5D%2C%20%5B-117.1009024918848%2C%2032.71044934353747%5D%2C%20%5B-117.10094061327949%2C%2032.71049176197622%5D%2C%20%5B-117.10129836320012%2C%2032.710915211823995%5D%2C%20%5B-117.10134215768475%2C%2032.71096174701146%5D%2C%20%5B-117.10139228363535%2C%2032.711019582825266%5D%2C%20%5B-117.10143683395296%2C%2032.71108061114937%5D%2C%20%5B-117.10156653548002%2C%2032.71127516019875%5D%2C%20%5B-117.10161454731818%2C%2032.71135648253911%5D%2C%20%5B-117.1024995740549%2C%2032.71306546571618%5D%2C%20%5B-117.10253952217029%2C%2032.71315529744371%5D%2C%20%5B-117.1028294509649%2C%2032.71392967511703%5D%2C%20%5B-117.10285792194715%2C%2032.71402258076085%5D%2C%20%5B-117.10303823785004%2C%2032.7147728001496%5D%2C%20%5B-117.10303823785004%2C%2032.7147728001496%5D%2C%20%5B-117.10305918982174%2C%2032.71485997159977%5D%2C%20%5B-117.10308566111686%2C%2032.7149283448625%5D%2C%20%5B-117.1031147765088%2C%2032.715019325432536%5D%2C%20%5B-117.10313254571898%2C%2032.715112383625645%5D%2C%20%5B-117.10320884346584%2C%2032.71570747298699%5D%2C%20%5B-117.10321498566762%2C%2032.71579298893177%5D%2C%20%5B-117.10322217767127%2C%2032.71624926447362%5D%2C%20%5B-117.10326200078083%2C%2032.716693855578725%5D%2C%20%5B-117.1032974862044%2C%2032.71687889221299%5D%2C%20%5B-117.10343275775575%2C%2032.717269984555735%5D%2C%20%5B-117.10350442529747%2C%2032.71740277380564%5D%2C%20%5B-117.10365083457646%2C%2032.717606703332045%5D%2C%20%5B-117.10369396373376%2C%2032.71765270753629%5D%2C%20%5B-117.10375336796334%2C%2032.71770551042294%5D%2C%20%5B-117.10397667312843%2C%2032.717860945374234%5D%2C%20%5B-117.10406818195278%2C%2032.71789450143866%5D%2C%20%5B-117.10415445404968%2C%2032.717930130101664%5D%2C%20%5B-117.10423659363414%2C%2032.717972196861886%5D%2C%20%5B-117.10444464902572%2C%2032.718089909553974%5D%2C%20%5B-117.10475994956464%2C%2032.71816765616241%5D%2C%20%5B-117.10502690393386%2C%2032.71818836651737%5D%2C%20%5B-117.10518337005324%2C%2032.71818210742693%5D%2C%20%5B-117.10531876991884%2C%2032.718142843671934%5D%2C%20%5B-117.10542354915229%2C%2032.718090454096696%5D%2C%20%5B-117.10549949599637%2C%2032.71805591246116%5D%2C%20%5B-117.1055784882236%2C%2032.71802668930058%5D%2C%20%5B-117.10629564185108%2C%2032.71779017149005%5D%2C%20%5B-117.10637033202258%2C%2032.717768207056515%5D%2C%20%5B-117.10678231801027%2C%2032.71766139807104%5D%2C%20%5B-117.10688787100699%2C%2032.717638960829106%5D%2C%20%5B-117.10699557345319%2C%2032.71762577093413%5D%2C%20%5B-117.10895963964866%2C%2032.71747152877023%5D%2C%20%5B-117.10906406987043%2C%2032.71746769351981%5D%2C%20%5B-117.10916844065551%2C%2032.71747255449174%5D%2C%20%5B-117.10927174688977%2C%2032.71748606487363%5D%2C%20%5B-117.10937299370988%2C%2032.71750809455696%5D%2C%20%5B-117.10947120608324%2C%2032.71753843138992%5D%2C%20%5B-117.10956543819685%2C%2032.71757678322024%5D%2C%20%5B-117.1096547825651%2C%2032.71762278070883%5D%2C%20%5B-117.10973837876844%2C%2032.717675980885964%5D%2C%20%5B-117.10981542173916%2C%2032.71773587141695%5D%2C%20%5B-117.10988516951427%2C%2032.71780187553587%5D%2C%20%5B-117.10994695038086%2C%2032.7178733575996%5D%2C%20%5B-117.11000016934524%2C%2032.71794962920884%5D%2C%20%5B-117.11004431386341%2C%2032.718029955837316%5D%2C%20%5B-117.11007895877782%2C%2032.71811356390551%5D%2C%20%5B-117.11010377041262%2C%2032.718199648229884%5D%2C%20%5B-117.11011850978826%2C%2032.71828737977708%5D%2C%20%5B-117.11012303492404%2C%2032.71837591364801%5D%2C%20%5B-117.11011730220676%2C%2032.718464397214106%5D%2C%20%5B-117.11010136681209%2C%2032.71855197832897%5D%2C%20%5B-117.11007538217434%2C%2032.71863781353466%5D%2C%20%5B-117.11003959851021%2C%2032.718721076185204%5D%2C%20%5B-117.10999436041004%2C%2032.71880096440753%5D%2C%20%5B-117.10994010352037%2C%2032.71887670882464%5D%2C%20%5B-117.10987735034914%2C%2032.718947579965025%5D%2C%20%5B-117.1098067052342%2C%2032.719012895288785%5D%2C%20%5B-117.10972884852379%2C%2032.71907202576103%5D%2C%20%5B-117.10964453002421%2C%2032.71912440191038%5D%2C%20%5B-117.10955456177892%2C%2032.719169519313795%5D%2C%20%5B-117.1094598102476%2C%2032.71920694345503%5D%2C%20%5B-117.10936118796097%2C%2032.71923631390928%5D%2C%20%5B-117.10925964473196%2C%2032.71925734781528%5D%2C%20%5B-117.10915615850733%2C%2032.71926984259899%5D%2C%20%5B-117.10730083396747%2C%2032.719415545625644%5D%2C%20%5B-117.10703114154258%2C%2032.71948546431625%5D%2C%20%5B-117.10643136119161%2C%2032.71968327263257%5D%2C%20%5B-117.1063074200688%2C%2032.71974524326146%5D%2C%20%5B-117.1062115292794%2C%2032.71978777744817%5D%2C%20%5B-117.10611104227362%2C%2032.719821843264455%5D%2C%20%5B-117.10572956869295%2C%2032.71993246430418%5D%2C%20%5B-117.1056333018302%2C%2032.719956153822416%5D%2C%20%5B-117.10553483439365%2C%2032.719972066738904%5D%2C%20%5B-117.10543503845271%2C%2032.71998006212244%5D%2C%20%5B-117.10505356418116%2C%2032.719995322273824%5D%2C%20%5B-117.10490629204388%2C%2032.71999256851174%5D%2C%20%5B-117.10446377713443%2C%2032.71995823817215%5D%2C%20%5B-117.10436266076147%2C%2032.71994622734436%5D%2C%20%5B-117.10426336550752%2C%2032.71992606406611%5D%2C%20%5B-117.10370642000758%2C%2032.71978873275624%5D%2C%20%5B-117.10362239864251%2C%2032.71976475732513%5D%2C%20%5B-117.10354102011495%2C%2032.71973494164874%5D%2C%20%5B-117.1034628481535%2C%2032.719699492267765%5D%2C%20%5B-117.10339417772003%2C%2032.71966516197402%5D%2C%20%5B-117.1033439568176%2C%2032.71963843055382%5D%2C%20%5B-117.10313410110263%2C%2032.71951969884639%5D%2C%20%5B-117.10299356740788%2C%2032.71946816520695%5D%2C%20%5B-117.10290454350309%2C%2032.71943126226281%5D%2C%20%5B-117.10281995032152%2C%2032.719387505236725%5D%2C%20%5B-117.10274052005154%2C%2032.7193372728663%5D%2C%20%5B-117.1023514189506%2C%2032.719066430787045%5D%2C%20%5B-117.10225654355877%2C%2032.718991760854266%5D%2C%20%5B-117.10211921366455%2C%2032.71886969001741%5D%2C%20%5B-117.10205614190386%2C%2032.71880830977494%5D%2C%20%5B-117.10194170237035%2C%2032.718686239020485%5D%2C%20%5B-117.10186569332743%2C%2032.71859387368772%5D%2C%20%5B-117.10165207544802%2C%2032.7182963221511%5D%2C%20%5B-117.10159336814895%2C%2032.718202542961826%5D%2C%20%5B-117.10146367043872%2C%2032.717962221968634%5D%2C%20%5B-117.10141013676368%2C%2032.717840600076116%5D%2C%20%5B-117.1012346626608%2C%2032.717333238658185%5D%2C%20%5B-117.10120543338498%2C%2032.717224058315814%5D%2C%20%5B-117.1011520369311%2C%2032.716945587871955%5D%2C%20%5B-117.10114129220611%2C%2032.71686905177824%5D%2C%20%5B-117.10109551892154%2C%2032.71635788139388%5D%2C%20%5B-117.10109255759475%2C%2032.716301570989174%5D%2C%20%5B-117.10108560879092%2C%2032.715859982557994%5D%2C%20%5B-117.10102685429817%2C%2032.715401629227394%5D%2C%20%5B-117.10101589312048%2C%2032.71537331549866%5D%2C%20%5B-117.10098422230946%2C%2032.715272001214416%5D%2C%20%5B-117.10095091060099%2C%2032.71513339181598%5D%2C%20%5B-117.10095091060099%2C%2032.71513339181597%5D%2C%20%5B-117.10078193146533%2C%2032.714430264837844%5D%2C%20%5B-117.10052632383399%2C%2032.71374751084717%5D%2C%20%5B-117.09968571106108%2C%2032.71212421644878%5D%2C%20%5B-117.0996241885109%2C%2032.71203193111806%5D%2C%20%5B-117.09961608089311%2C%2032.71202331593079%5D%2C%20%5B-117.09958275307147%2C%2032.711985953478965%5D%2C%20%5B-117.09922723690516%2C%2032.71156513779797%5D%2C%20%5B-117.09778982182313%2C%2032.71005998033435%5D%2C%20%5B-117.09777162136302%2C%2032.7100403738433%5D%2C%20%5B-117.0971486946227%2C%2032.709349897959406%5D%2C%20%5B-117.0961829275483%2C%2032.70834725696172%5D%2C%20%5B-117.09604752113565%2C%2032.70822473854231%5D%2C%20%5B-117.09595443482091%2C%2032.70812786887041%5D%2C%20%5B-117.09571683600682%2C%2032.707842335942644%5D%2C%20%5B-117.09566084548071%2C%2032.707767506731834%5D%2C%20%5B-117.09561377495481%2C%2032.70768838453709%5D%2C%20%5B-117.09557607772396%2C%2032.707605731358655%5D%2C%20%5B-117.09554811680813%2C%2032.70752034320016%5D%2C%20%5B-117.09553016145725%2C%2032.70743304240289%5D%2C%20%5B-117.09552238455942%2C%2032.70734466972552%5D%2C%20%5B-117.09552486097697%2C%2032.70725607624718%5D%2C%20%5B-117.09553756682699%2C%2032.70716811517077%5D%2C%20%5B-117.09556037971235%2C%2032.707081633606506%5D%2C%20%5B-117.09559307990199%2C%2032.70699746441383%5D%2C%20%5B-117.09563535244804%2C%2032.7069164181805%5D%2C%20%5B-117.09568679022004%2C%2032.706839275416705%5D%2C%20%5B-117.09574689782671%2C%2032.70676677903856%5D%2C%20%5B-117.09581509638755%2C%2032.706699627213894%5D%2C%20%5B-117.09589072910809%2C%2032.70663846663904%5D%2C%20%5B-117.09597306760548%2C%2032.706583886311044%5D%2C%20%5B-117.09606131892316%2C%2032.706536411856156%5D%2C%20%5B-117.09615463316707%2C%2032.70649650046769%5D%2C%20%5B-117.09625211169009%2C%2032.70646453650411%5D%2C%20%5B-117.09635281574576%2C%2032.70644082778726%5D%2C%20%5B-117.0964557755279%2C%2032.706425602638596%5D%2C%20%5B-117.09655999950928%2C%2032.70641900768031%5D%2C%20%5B-117.09666448398939%2C%2032.7064211064235%5D%2C%20%5B-117.09676822275935%2C%2032.706431878656886%5D%2C%20%5B-117.09687021679079%2C%2032.70645122064084%5D%2C%20%5B-117.09696948385601%2C%2032.70647894610701%5D%2C%20%5B-117.09706506798611%2C%2032.70651478805141%5D%2C%20%5B-117.09715604867633%2C%2032.70655840130596%5D%2C%20%5B-117.09724154975032%2C%2032.70660936586206%5D%2C%20%5B-117.09732074779744%2C%2032.70666719091496%5D%2C%20%5B-117.09739288010219%2C%2032.7067313195904%5D%2C%20%5B-117.09745725198948%2C%2032.706801134306794%5D%2C%20%5B-117.09765227194544%2C%2032.707035492801%5D%2C%20%5B-117.09776197709672%2C%2032.70713475452171%5D%5D%5D%2C%20%22type%22%3A%20%22Polygon%22%7D%2C%20%22id%22%3A%20%220%22%2C%20%22properties%22%3A%20%7B%22distance_meters%22%3A%201000.0%7D%2C%20%22type%22%3A%20%22Feature%22%7D%5D%2C%20%22type%22%3A%20%22FeatureCollection%22%7D%29%3B%0A%0A%20%20%20%20%20%20%20%20%0A%20%20%20%20%0A%20%20%20%20geo_json_114d5ad038bc4e0eaf7f9d20c12e6f44.bindTooltip%28%0A%20%20%20%20function%28layer%29%7B%0A%20%20%20%20let%20div%20%3D%20L.DomUtil.create%28%27div%27%29%3B%0A%20%20%20%20%0A%20%20%20%20let%20handleObject%20%3D%20feature%3D%3Etypeof%28feature%29%3D%3D%27object%27%20%3F%20JSON.stringify%28feature%29%20%3A%20feature%3B%0A%20%20%20%20let%20fields%20%3D%20%5B%22distance_meters%22%5D%3B%0A%20%20%20%20let%20aliases%20%3D%20%5B%22distance_meters%22%5D%3B%0A%20%20%20%20let%20table%20%3D%20%27%3Ctable%3E%27%20%2B%0A%20%20%20%20%20%20%20%20String%28%0A%20%20%20%20%20%20%20%20fields.map%28%0A%20%20%20%20%20%20%20%20%28v%2Ci%29%3D%3E%0A%20%20%20%20%20%20%20%20%60%3Ctr%3E%0A%20%20%20%20%20%20%20%20%20%20%20%20%3Cth%3E%24%7Baliases%5Bi%5D%7D%3C/th%3E%0A%20%20%20%20%20%20%20%20%20%20%20%20%0A%20%20%20%20%20%20%20%20%20%20%20%20%3Ctd%3E%24%7BhandleObject%28layer.feature.properties%5Bv%5D%29%7D%3C/td%3E%0A%20%20%20%20%20%20%20%20%3C/tr%3E%60%29.join%28%27%27%29%29%0A%20%20%20%20%2B%27%3C/table%3E%27%3B%0A%20%20%20%20div.innerHTML%3Dtable%3B%0A%20%20%20%20%0A%20%20%20%20return%20div%0A%20%20%20%20%7D%0A%20%20%20%20%2C%7B%22className%22%3A%20%22foliumtooltip%22%2C%20%22sticky%22%3A%20true%7D%29%3B%0A%20%20%20%20%20%20%20%20%20%20%20%20%20%20%20%20%20%20%20%20%20%0A%3C/script%3E onload=\"this.contentDocument.open();this.contentDocument.write(    decodeURIComponent(this.getAttribute('data-html')));this.contentDocument.close();\" allowfullscreen webkitallowfullscreen mozallowfullscreen></iframe></div></div>"
      ],
      "text/plain": [
       "<folium.folium.Map at 0x7f0ee22eb610>"
      ]
     },
     "execution_count": 130,
     "metadata": {},
     "output_type": "execute_result"
    }
   ],
   "source": [
    "rt_day.corridor.explore()"
   ]
  },
  {
   "cell_type": "code",
   "execution_count": null,
   "id": "8b135342-db7f-4c82-9d1d-1270128737c6",
   "metadata": {},
   "outputs": [],
   "source": [
    "rt_day.corridor_metrics()"
   ]
  },
  {
   "cell_type": "code",
   "execution_count": null,
   "id": "f9412764-b575-4cf4-b914-5920ea20cc3a",
   "metadata": {},
   "outputs": [],
   "source": [
    "rt_day.corridor['corridor'] = 'i805'"
   ]
  },
  {
   "cell_type": "code",
   "execution_count": null,
   "id": "5c801b7e-c385-4fe4-ab63-8c5a64da2964",
   "metadata": {},
   "outputs": [],
   "source": [
    "all_corridors += [rt_day.corridor]"
   ]
  },
  {
   "cell_type": "markdown",
   "id": "90b6f36f-1ead-4545-9760-2d70c2a79b1c",
   "metadata": {},
   "source": [
    "## Concat and Export"
   ]
  },
  {
   "cell_type": "code",
   "execution_count": null,
   "id": "8c0648aa-3972-4979-9523-c416535435dd",
   "metadata": {},
   "outputs": [],
   "source": [
    "gdf = pd.concat(all_corridors)"
   ]
  },
  {
   "cell_type": "code",
   "execution_count": null,
   "id": "d24d14a4-5e30-4c03-bf35-96f2249d8585",
   "metadata": {},
   "outputs": [],
   "source": [
    "gdf.to_file('./sep9_corridor_metrics_speeds.geojson')"
   ]
  },
  {
   "cell_type": "code",
   "execution_count": null,
   "id": "792ffd12-1c4c-464d-a353-df4d73e62bb5",
   "metadata": {},
   "outputs": [],
   "source": [
    "gdf.to_csv('./sep9_corridor_metrics_speeds.csv')"
   ]
  },
  {
   "cell_type": "code",
   "execution_count": null,
   "id": "0e1ff787-a36d-4ecb-96b0-a9574cff2d60",
   "metadata": {},
   "outputs": [],
   "source": [
    "gdf.columns"
   ]
  },
  {
   "cell_type": "markdown",
   "id": "b58cffe8-7301-4bf9-8c32-a55777c426fe",
   "metadata": {},
   "source": [
    "# Points\n",
    "\n",
    "* All seem to be stop locations along projects included above..."
   ]
  },
  {
   "cell_type": "code",
   "execution_count": null,
   "id": "6fd16880-25b1-4452-bac6-b2f927b2c57c",
   "metadata": {},
   "outputs": [],
   "source": [
    "# point_priority = gpd.read_file('./point_priority_sep8.geojson')"
   ]
  },
  {
   "cell_type": "code",
   "execution_count": null,
   "id": "a9ae0abf-5777-401c-99b6-ef34d3eea1a1",
   "metadata": {},
   "outputs": [],
   "source": [
    "# point_priority.explore()"
   ]
  }
 ],
 "metadata": {
  "kernelspec": {
   "display_name": "Python 3 (ipykernel)",
   "language": "python",
   "name": "python3"
  },
  "language_info": {
   "codemirror_mode": {
    "name": "ipython",
    "version": 3
   },
   "file_extension": ".py",
   "mimetype": "text/x-python",
   "name": "python",
   "nbconvert_exporter": "python",
   "pygments_lexer": "ipython3",
   "version": "3.9.13"
  },
  "widgets": {
   "application/vnd.jupyter.widget-state+json": {
    "state": {
     "0ed557f2a82448a886abce8abaee7a43": {
      "model_module": "@jupyter-widgets/controls",
      "model_module_version": "1.5.0",
      "model_name": "HBoxModel",
      "state": {
       "children": [
        "IPY_MODEL_97a43ec9ef0c40b1baa1dc9bc91b6fd7",
        "IPY_MODEL_dbbc14f58257457d98452e95dc90967d",
        "IPY_MODEL_3efc95e87dc744568150e7ca27690b4f"
       ],
       "layout": "IPY_MODEL_81b2b69490cb44cebc60220984055ec8"
      }
     },
     "1c87f6fa37c44a62a64acd4807ec8d80": {
      "model_module": "@jupyter-widgets/controls",
      "model_module_version": "1.5.0",
      "model_name": "HTMLModel",
      "state": {
       "layout": "IPY_MODEL_abdab4ffabac4fd2aa3dcb999bc455c5",
       "style": "IPY_MODEL_9bc1603c423a49f5a581e25ae7dd7e8e",
       "value": "Generating segment speeds itp_id: 4 org: Alameda-Contra : 100%"
      }
     },
     "21eda99ec46c4969a02de843aa2a9876": {
      "model_module": "@jupyter-widgets/controls",
      "model_module_version": "1.5.0",
      "model_name": "ProgressStyleModel",
      "state": {
       "description_width": ""
      }
     },
     "3e9178bd09164238ae835ce4bc03f08a": {
      "model_module": "@jupyter-widgets/controls",
      "model_module_version": "1.5.0",
      "model_name": "DescriptionStyleModel",
      "state": {
       "description_width": ""
      }
     },
     "3efc95e87dc744568150e7ca27690b4f": {
      "model_module": "@jupyter-widgets/controls",
      "model_module_version": "1.5.0",
      "model_name": "HTMLModel",
      "state": {
       "layout": "IPY_MODEL_8a1dee5edcaf41ceaccf57a5870a6463",
       "style": "IPY_MODEL_ce54e43fc4b74b709aaa2be0fbdeba30",
       "value": " 2/2 [00:07&lt;00:00,  3.64s/it]"
      }
     },
     "4bb136fd630f4fd9abc2283978b6ec8e": {
      "model_module": "@jupyter-widgets/controls",
      "model_module_version": "1.5.0",
      "model_name": "HTMLModel",
      "state": {
       "layout": "IPY_MODEL_fd430850854b47b09a43d7060b37f2ca",
       "style": "IPY_MODEL_3e9178bd09164238ae835ce4bc03f08a",
       "value": " 10/10 [01:43&lt;00:00,  3.94s/it]"
      }
     },
     "67f35ed318ce4339b4e4b7294211c86f": {
      "model_module": "@jupyter-widgets/controls",
      "model_module_version": "1.5.0",
      "model_name": "FloatProgressModel",
      "state": {
       "bar_style": "success",
       "layout": "IPY_MODEL_907cf0af44b64a86b13b4c84f02abef1",
       "max": 10,
       "style": "IPY_MODEL_72988421c58e4b61ab20026a92307984",
       "value": 10
      }
     },
     "6af33ac0df2c4739b6588b8110fc1c81": {
      "model_module": "@jupyter-widgets/base",
      "model_module_version": "1.2.0",
      "model_name": "LayoutModel",
      "state": {}
     },
     "72988421c58e4b61ab20026a92307984": {
      "model_module": "@jupyter-widgets/controls",
      "model_module_version": "1.5.0",
      "model_name": "ProgressStyleModel",
      "state": {
       "description_width": ""
      }
     },
     "7b197ac81ee642b6a8ece989bdbe0b7e": {
      "model_module": "@jupyter-widgets/base",
      "model_module_version": "1.2.0",
      "model_name": "LayoutModel",
      "state": {}
     },
     "81b2b69490cb44cebc60220984055ec8": {
      "model_module": "@jupyter-widgets/base",
      "model_module_version": "1.2.0",
      "model_name": "LayoutModel",
      "state": {}
     },
     "8a1dee5edcaf41ceaccf57a5870a6463": {
      "model_module": "@jupyter-widgets/base",
      "model_module_version": "1.2.0",
      "model_name": "LayoutModel",
      "state": {}
     },
     "907cf0af44b64a86b13b4c84f02abef1": {
      "model_module": "@jupyter-widgets/base",
      "model_module_version": "1.2.0",
      "model_name": "LayoutModel",
      "state": {}
     },
     "97a43ec9ef0c40b1baa1dc9bc91b6fd7": {
      "model_module": "@jupyter-widgets/controls",
      "model_module_version": "1.5.0",
      "model_name": "HTMLModel",
      "state": {
       "layout": "IPY_MODEL_9b9e2d979f1948f689738501abb6df2e",
       "style": "IPY_MODEL_deaecc0e5234458188a5c10807824a0a",
       "value": "Generating segment speeds itp_id: 278 org: San Diego Metro: 100%"
      }
     },
     "9b9e2d979f1948f689738501abb6df2e": {
      "model_module": "@jupyter-widgets/base",
      "model_module_version": "1.2.0",
      "model_name": "LayoutModel",
      "state": {}
     },
     "9bc1603c423a49f5a581e25ae7dd7e8e": {
      "model_module": "@jupyter-widgets/controls",
      "model_module_version": "1.5.0",
      "model_name": "DescriptionStyleModel",
      "state": {
       "description_width": ""
      }
     },
     "abdab4ffabac4fd2aa3dcb999bc455c5": {
      "model_module": "@jupyter-widgets/base",
      "model_module_version": "1.2.0",
      "model_name": "LayoutModel",
      "state": {}
     },
     "ca67c61abeb84a23bc73e4b36cfa31bf": {
      "model_module": "@jupyter-widgets/controls",
      "model_module_version": "1.5.0",
      "model_name": "HBoxModel",
      "state": {
       "children": [
        "IPY_MODEL_1c87f6fa37c44a62a64acd4807ec8d80",
        "IPY_MODEL_67f35ed318ce4339b4e4b7294211c86f",
        "IPY_MODEL_4bb136fd630f4fd9abc2283978b6ec8e"
       ],
       "layout": "IPY_MODEL_6af33ac0df2c4739b6588b8110fc1c81"
      }
     },
     "ce54e43fc4b74b709aaa2be0fbdeba30": {
      "model_module": "@jupyter-widgets/controls",
      "model_module_version": "1.5.0",
      "model_name": "DescriptionStyleModel",
      "state": {
       "description_width": ""
      }
     },
     "dbbc14f58257457d98452e95dc90967d": {
      "model_module": "@jupyter-widgets/controls",
      "model_module_version": "1.5.0",
      "model_name": "FloatProgressModel",
      "state": {
       "layout": "IPY_MODEL_7b197ac81ee642b6a8ece989bdbe0b7e",
       "max": 2,
       "style": "IPY_MODEL_21eda99ec46c4969a02de843aa2a9876",
       "value": 2
      }
     },
     "deaecc0e5234458188a5c10807824a0a": {
      "model_module": "@jupyter-widgets/controls",
      "model_module_version": "1.5.0",
      "model_name": "DescriptionStyleModel",
      "state": {
       "description_width": ""
      }
     },
     "fd430850854b47b09a43d7060b37f2ca": {
      "model_module": "@jupyter-widgets/base",
      "model_module_version": "1.2.0",
      "model_name": "LayoutModel",
      "state": {}
     }
    },
    "version_major": 2,
    "version_minor": 0
   }
  }
 },
 "nbformat": 4,
 "nbformat_minor": 5
}
