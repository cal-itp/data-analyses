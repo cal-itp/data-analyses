{
 "cells": [
  {
   "cell_type": "markdown",
   "id": "037b6307-b03d-4630-9e99-00c94fcae40d",
   "metadata": {},
   "source": [
    "# Are route categories stable quarter to quarter?\n",
    "\n",
    "If a `route_id` is `parallel` in one quarter, would it change to `on_shn` in another? It should be pretty stable, since how often would a bus route drastically deviate from its original route? \n",
    "\n",
    "Freeways don't change quarter to quarter.\n",
    "\n",
    "Check if there are large shifts in categories from current quarter to prior quarter."
   ]
  },
  {
   "cell_type": "code",
   "execution_count": 1,
   "id": "519e516a-f08e-44c4-9315-2f1848991ba8",
   "metadata": {},
   "outputs": [
    {
     "name": "stderr",
     "output_type": "stream",
     "text": [
      "/opt/conda/lib/python3.9/site-packages/geopandas/_compat.py:123: UserWarning: The Shapely GEOS version (3.11.1-CAPI-1.17.1) is incompatible with the GEOS version PyGEOS was compiled with (3.10.1-CAPI-1.16.0). Conversions between both will be slow.\n",
      "  warnings.warn(\n",
      "/tmp/ipykernel_1812/2943624353.py:1: UserWarning: Shapely 2.0 is installed, but because PyGEOS is also installed, GeoPandas will still use PyGEOS by default for now. To force to use and test Shapely 2.0, you have to set the environment variable USE_PYGEOS=0. You can do this before starting the Python process, or in your code before importing geopandas:\n",
      "\n",
      "import os\n",
      "os.environ['USE_PYGEOS'] = '0'\n",
      "import geopandas\n",
      "\n",
      "In a future release, GeoPandas will switch to using Shapely by default. If you are using PyGEOS directly (calling PyGEOS functions on geometries from GeoPandas), this will then stop working and you are encouraged to migrate from PyGEOS to Shapely 2.0 (https://shapely.readthedocs.io/en/latest/migration_pygeos.html).\n",
      "  import geopandas as gpd\n"
     ]
    }
   ],
   "source": [
    "import geopandas as gpd\n",
    "import pandas as pd\n",
    "\n",
    "from shared_utils import rt_dates\n",
    "from update_vars import BUS_SERVICE_GCS"
   ]
  },
  {
   "cell_type": "code",
   "execution_count": 2,
   "id": "4f723d37-9ee1-4184-9b8e-e641debb5de4",
   "metadata": {},
   "outputs": [],
   "source": [
    "# Only look at v2 warehouse\n",
    "dfs = {}\n",
    "for key, date in rt_dates.PMAC.items():\n",
    "    if \"2023\" in date:\n",
    "        df = gpd.read_parquet(f\"{BUS_SERVICE_GCS}routes_categorized_{date}.parquet\")\n",
    "        dfs[key] = df"
   ]
  },
  {
   "cell_type": "code",
   "execution_count": 3,
   "id": "212768d2-44d6-4751-9d6b-3308e95b8f9d",
   "metadata": {},
   "outputs": [],
   "source": [
    "keep_cols = [\n",
    "    \"feed_key\", \"name\",\n",
    "    \"category\", \"route_id\", \n",
    "    \"district\"\n",
    "]\n",
    "\n",
    "df1 = dfs[\"Q1_2023\"][keep_cols]\n",
    "df2 = dfs[\"Q2_2023\"][keep_cols]"
   ]
  },
  {
   "cell_type": "code",
   "execution_count": 4,
   "id": "bbbea287-3737-4eae-8c78-ebb388e5c382",
   "metadata": {},
   "outputs": [],
   "source": [
    "def compare_col(df1, df2, col):\n",
    "    print(df1[col].value_counts())\n",
    "    print(df2[col].value_counts())\n",
    "    print(df1[col].value_counts(normalize=True))\n",
    "    print(df2[col].value_counts(normalize=True))"
   ]
  },
  {
   "cell_type": "code",
   "execution_count": 5,
   "id": "6b0c0c1b-f1f4-4bdd-aa09-a4afd03525ca",
   "metadata": {},
   "outputs": [
    {
     "name": "stdout",
     "output_type": "stream",
     "text": [
      "intersects_shn    1229\n",
      "on_shn             548\n",
      "other              492\n",
      "Name: category, dtype: int64\n",
      "intersects_shn    1248\n",
      "on_shn             566\n",
      "other              519\n",
      "Name: category, dtype: int64\n",
      "intersects_shn    0.541648\n",
      "on_shn            0.241516\n",
      "other             0.216836\n",
      "Name: category, dtype: float64\n",
      "intersects_shn    0.534934\n",
      "on_shn            0.242606\n",
      "other             0.222460\n",
      "Name: category, dtype: float64\n"
     ]
    }
   ],
   "source": [
    "compare_col(df1, df2, \"category\")"
   ]
  },
  {
   "cell_type": "code",
   "execution_count": 6,
   "id": "4a36a890-7cf0-4333-836c-f8660118cd46",
   "metadata": {},
   "outputs": [
    {
     "name": "stdout",
     "output_type": "stream",
     "text": [
      "4.0     664\n",
      "7.0     518\n",
      "3.0     216\n",
      "8.0     184\n",
      "11.0    151\n",
      "5.0     142\n",
      "10.0     93\n",
      "6.0      86\n",
      "12.0     71\n",
      "2.0      41\n",
      "1.0      39\n",
      "9.0      16\n",
      "Name: district, dtype: int64\n",
      "4.0     647\n",
      "7.0     529\n",
      "3.0     214\n",
      "8.0     181\n",
      "11.0    163\n",
      "5.0     144\n",
      "10.0    129\n",
      "6.0     116\n",
      "12.0     71\n",
      "1.0      40\n",
      "2.0      35\n",
      "9.0      16\n",
      "Name: district, dtype: int64\n",
      "4.0     0.298964\n",
      "7.0     0.233228\n",
      "3.0     0.097253\n",
      "8.0     0.082846\n",
      "11.0    0.067987\n",
      "5.0     0.063935\n",
      "10.0    0.041873\n",
      "6.0     0.038721\n",
      "12.0    0.031968\n",
      "2.0     0.018460\n",
      "1.0     0.017560\n",
      "9.0     0.007204\n",
      "Name: district, dtype: float64\n",
      "4.0     0.283151\n",
      "7.0     0.231510\n",
      "3.0     0.093654\n",
      "8.0     0.079212\n",
      "11.0    0.071335\n",
      "5.0     0.063020\n",
      "10.0    0.056455\n",
      "6.0     0.050766\n",
      "12.0    0.031072\n",
      "1.0     0.017505\n",
      "2.0     0.015317\n",
      "9.0     0.007002\n",
      "Name: district, dtype: float64\n"
     ]
    }
   ],
   "source": [
    "compare_col(df1, df2, \"district\")"
   ]
  },
  {
   "cell_type": "code",
   "execution_count": 7,
   "id": "12a837d8-6849-44c7-9f05-733d78809349",
   "metadata": {},
   "outputs": [],
   "source": [
    "m1 = pd.merge(\n",
    "    df1, \n",
    "    df2,\n",
    "    on = [\"feed_key\", \"name\", \"route_id\"],\n",
    "    how = \"outer\",\n",
    "    validate = \"1:1\",\n",
    "    indicator=\"compare_categories\"\n",
    ")"
   ]
  },
  {
   "cell_type": "code",
   "execution_count": 8,
   "id": "5482a309-8825-4e14-928c-29bb594d9d60",
   "metadata": {},
   "outputs": [
    {
     "data": {
      "text/plain": [
       "right_only    2061\n",
       "left_only     1997\n",
       "both           272\n",
       "Name: compare_categories, dtype: int64"
      ]
     },
     "execution_count": 8,
     "metadata": {},
     "output_type": "execute_result"
    }
   ],
   "source": [
    "m1.compare_categories.value_counts()"
   ]
  },
  {
   "cell_type": "code",
   "execution_count": 9,
   "id": "2ec0413a-3ec0-49bb-aaf6-96866554480e",
   "metadata": {},
   "outputs": [],
   "source": [
    "in_both = m1[(m1.compare_categories==\"both\")]"
   ]
  },
  {
   "cell_type": "code",
   "execution_count": 10,
   "id": "38359bf6-37d3-4aa1-90f4-ae43720061a2",
   "metadata": {},
   "outputs": [
    {
     "data": {
      "text/plain": [
       "(272, 8)"
      ]
     },
     "execution_count": 10,
     "metadata": {},
     "output_type": "execute_result"
    }
   ],
   "source": [
    "in_both.shape"
   ]
  },
  {
   "cell_type": "code",
   "execution_count": 11,
   "id": "80cc287d-89dc-4563-80f9-a2fc029036ed",
   "metadata": {},
   "outputs": [
    {
     "data": {
      "text/plain": [
       "(0, 8)"
      ]
     },
     "execution_count": 11,
     "metadata": {},
     "output_type": "execute_result"
    }
   ],
   "source": [
    "in_both[(in_both.category_x != in_both.category_y)].shape"
   ]
  },
  {
   "cell_type": "code",
   "execution_count": null,
   "id": "7f6628ea-5f21-46c2-9a57-81d3d7a4041e",
   "metadata": {},
   "outputs": [],
   "source": []
  }
 ],
 "metadata": {
  "kernelspec": {
   "display_name": "Python 3 (ipykernel)",
   "language": "python",
   "name": "python3"
  },
  "language_info": {
   "codemirror_mode": {
    "name": "ipython",
    "version": 3
   },
   "file_extension": ".py",
   "mimetype": "text/x-python",
   "name": "python",
   "nbconvert_exporter": "python",
   "pygments_lexer": "ipython3",
   "version": "3.9.13"
  }
 },
 "nbformat": 4,
 "nbformat_minor": 5
}
