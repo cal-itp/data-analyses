{
 "cells": [
  {
   "cell_type": "markdown",
   "id": "0801efda-e075-4826-a167-a8e54a8167fb",
   "metadata": {},
   "source": [
    "# PMAC: Historical Comparisons\n",
    "\n",
    "Let's compare quarterly metrics for PMAC.\n",
    "\n",
    "* Get % change on total service hours by parallel/on_shn/other\n",
    "* Get % change on unique routes by parallel/on_shn/other\n",
    "\n",
    "\n",
    "Only show first 2 groups for historical comparisons\n",
    "\n",
    "move scripts related to pmac all into its own folder, rename performance objectives, rework everything into 1 report\n",
    "\n",
    "\n",
    "\n",
    "3 new groups:\n",
    "* previous parallel def was for Chad Edison, we adapted it, but let's narrowly define a new set for this performance objective\n",
    "\n",
    "* on shn - directly on it\n",
    "* affected by SHN, within a mile after, can consider moving or supplementing its service, but that SHN can impact and cause bottlenecks where causes are getting on/off\n",
    "* other\n",
    "\n",
    "on speedmaps, interface where local streets intersect with highway onramps, that is a bottleneck\n",
    "\n",
    "objective is trying to say we want to run more transit ON SHN!"
   ]
  },
  {
   "cell_type": "code",
   "execution_count": 1,
   "id": "34d1396e-e0c7-4804-8647-4aae76cc300c",
   "metadata": {},
   "outputs": [
    {
     "name": "stderr",
     "output_type": "stream",
     "text": [
      "/opt/conda/lib/python3.10/site-packages/geopandas/_compat.py:112: UserWarning: The Shapely GEOS version (3.10.3-CAPI-1.16.1) is incompatible with the GEOS version PyGEOS was compiled with (3.10.1-CAPI-1.16.0). Conversions between both will be slow.\n",
      "  warnings.warn(\n"
     ]
    },
    {
     "data": {
      "text/plain": [
       "RendererRegistry.enable('html')"
      ]
     },
     "execution_count": 1,
     "metadata": {},
     "output_type": "execute_result"
    }
   ],
   "source": [
    "import altair as alt\n",
    "import pandas as pd\n",
    "\n",
    "from IPython.display import HTML\n",
    "\n",
    "import pmac_utils\n",
    "from shared_utils import rt_dates\n",
    "from shared_utils import calitp_color_palette as cp\n",
    "from setup_tract_charts import labeling\n",
    "\n",
    "alt.renderers.enable(\"html\")"
   ]
  },
  {
   "cell_type": "code",
   "execution_count": 2,
   "id": "6a32d35f-ccda-4d6c-91d7-9ac4f00cd1b0",
   "metadata": {},
   "outputs": [],
   "source": [
    "dfs = {}\n",
    "df = pd.DataFrame()\n",
    "\n",
    "for key, date in rt_dates.PMAC.items():\n",
    "    quarter_df = pmac_utils.flag_parallel_intersecting_routes(date)\n",
    "    \n",
    "    # In D2_pmac, only keep subset where _merge==\"both\"\n",
    "    # If it's not able to merge correctly at itp_id-route_id level, let's drop those\n",
    "    plot_df = quarter_df[quarter_df._merge==\"both\"]\n",
    "    summary = pmac_utils.get_summary_table(plot_df)\n",
    "    summary = summary.assign(\n",
    "        qtr = key,\n",
    "        service_date = date\n",
    "    )\n",
    "    \n",
    "    dfs[key] = summary\n",
    "    \n",
    "    df = pd.concat([df, summary], axis=0)"
   ]
  },
  {
   "cell_type": "code",
   "execution_count": 3,
   "id": "ce03152c-6ab2-4185-ae51-a3358edfbec3",
   "metadata": {},
   "outputs": [],
   "source": [
    "def clean_df_for_viz(df: pd.DataFrame) -> pd.DataFrame:\n",
    "    \"\"\"\n",
    "    Extra cleaning for the 'long' df for making bar chart.\n",
    "    \"\"\"\n",
    "    cleaned_categories = {\n",
    "        \"parallel\": \"Parallel\",\n",
    "        \"on_shn\": \"On SHN\",\n",
    "        \"other\": \"Other\",\n",
    "    }\n",
    "    \n",
    "    df = df.assign(\n",
    "        year = df.qtr.str.split('_', expand=True)[1].astype(int),\n",
    "        qtr = df.qtr.str.split('_', expand=True)[0],\n",
    "        category = df.category.map(cleaned_categories)\n",
    "    )\n",
    "    \n",
    "    return df\n",
    "\n",
    "df = clean_df_for_viz(df)"
   ]
  },
  {
   "cell_type": "code",
   "execution_count": 4,
   "id": "2a4f3bb4-d1aa-4f72-acf0-a14dd233d6da",
   "metadata": {},
   "outputs": [
    {
     "name": "stdout",
     "output_type": "stream",
     "text": [
      "Q1_2022: 91271\n",
      "Q2_2022: 107676\n"
     ]
    }
   ],
   "source": [
    "for date, dataset in dfs.items():\n",
    "    print(f\"{date}: {dataset.total_service_hours.sum()}\")"
   ]
  },
  {
   "cell_type": "code",
   "execution_count": 5,
   "id": "0e477d05-92c6-421d-b877-fa34648fb768",
   "metadata": {},
   "outputs": [
    {
     "data": {
      "text/html": [
       "<div>\n",
       "<style scoped>\n",
       "    .dataframe tbody tr th:only-of-type {\n",
       "        vertical-align: middle;\n",
       "    }\n",
       "\n",
       "    .dataframe tbody tr th {\n",
       "        vertical-align: top;\n",
       "    }\n",
       "\n",
       "    .dataframe thead th {\n",
       "        text-align: right;\n",
       "    }\n",
       "</style>\n",
       "<table border=\"1\" class=\"dataframe\">\n",
       "  <thead>\n",
       "    <tr style=\"text-align: right;\">\n",
       "      <th></th>\n",
       "      <th>category</th>\n",
       "      <th>total_service_hours</th>\n",
       "      <th>unique_route</th>\n",
       "      <th>pct_total_service_hours</th>\n",
       "      <th>pct_unique_route</th>\n",
       "      <th>qtr</th>\n",
       "      <th>service_date</th>\n",
       "    </tr>\n",
       "  </thead>\n",
       "  <tbody>\n",
       "    <tr>\n",
       "      <th>0</th>\n",
       "      <td>parallel</td>\n",
       "      <td>69435</td>\n",
       "      <td>1977</td>\n",
       "      <td>0.761</td>\n",
       "      <td>0.751</td>\n",
       "      <td>Q1_2022</td>\n",
       "      <td>2022-02-08</td>\n",
       "    </tr>\n",
       "    <tr>\n",
       "      <th>2</th>\n",
       "      <td>on_shn</td>\n",
       "      <td>1229</td>\n",
       "      <td>59</td>\n",
       "      <td>0.013</td>\n",
       "      <td>0.022</td>\n",
       "      <td>Q1_2022</td>\n",
       "      <td>2022-02-08</td>\n",
       "    </tr>\n",
       "    <tr>\n",
       "      <th>1</th>\n",
       "      <td>other</td>\n",
       "      <td>20607</td>\n",
       "      <td>596</td>\n",
       "      <td>0.226</td>\n",
       "      <td>0.226</td>\n",
       "      <td>Q1_2022</td>\n",
       "      <td>2022-02-08</td>\n",
       "    </tr>\n",
       "  </tbody>\n",
       "</table>\n",
       "</div>"
      ],
      "text/plain": [
       "   category  total_service_hours  unique_route  pct_total_service_hours  \\\n",
       "0  parallel                69435          1977                    0.761   \n",
       "2    on_shn                 1229            59                    0.013   \n",
       "1     other                20607           596                    0.226   \n",
       "\n",
       "   pct_unique_route      qtr service_date  \n",
       "0             0.751  Q1_2022   2022-02-08  \n",
       "2             0.022  Q1_2022   2022-02-08  \n",
       "1             0.226  Q1_2022   2022-02-08  "
      ]
     },
     "execution_count": 5,
     "metadata": {},
     "output_type": "execute_result"
    }
   ],
   "source": [
    "dfs[\"Q1_2022\"]"
   ]
  },
  {
   "cell_type": "code",
   "execution_count": 6,
   "id": "a9be1e56-3364-4476-8e99-0a88e20f11ec",
   "metadata": {},
   "outputs": [],
   "source": [
    "def change_from_prior(current: pd.DataFrame, prior: pd.DataFrame, \n",
    "                      col: str) -> pd.DataFrame:\n",
    "    keep_cols = [\"category\", col]\n",
    "    \n",
    "    current2 = current[keep_cols].rename(columns={col: \"current\"})\n",
    "    prior2 = prior[keep_cols].rename(columns={col: \"prior\"})\n",
    "                  \n",
    "    df = pd.merge(current2, prior2, on = \"category\", how = \"inner\")\n",
    "    \n",
    "    df = df.assign(\n",
    "        change = df.current - df.prior,\n",
    "        pct_change = (df.current - df.prior).divide(df.prior)\n",
    "    )\n",
    "        \n",
    "    df_style = (pmac_utils.sort_by_column(df)\n",
    "           .style.format(\n",
    "               subset=['current', 'prior', 'change'], \n",
    "               **{'formatter': '{:,}'})\n",
    "                .format(\n",
    "                    subset=['pct_change'],\n",
    "                    **{'formatter': '{:,.3f}'}\n",
    "                )\n",
    "                .set_properties(\n",
    "                    subset=['current', 'prior', 'change', 'pct_change'], \n",
    "                    **{'text-align': 'center'})\n",
    "                .set_properties(\n",
    "                    subset='category',\n",
    "                    **{'text-align': 'left'}\n",
    "                )\n",
    "                .set_table_styles([dict(selector='th', \n",
    "                                        props=[('text-align', 'center')])\n",
    "                                        ])\n",
    "           .hide(axis=\"index\")\n",
    "           .to_html()\n",
    "          )\n",
    "    \n",
    "    display(HTML(df_style))\n",
    "    \n",
    "    return df"
   ]
  },
  {
   "cell_type": "code",
   "execution_count": 7,
   "id": "bab7f691-fec3-4c5e-9042-e9ff6d8246a6",
   "metadata": {},
   "outputs": [
    {
     "data": {
      "text/html": [
       "<style type=\"text/css\">\n",
       "#T_45527 th {\n",
       "  text-align: center;\n",
       "}\n",
       "#T_45527_row0_col0, #T_45527_row1_col0, #T_45527_row2_col0 {\n",
       "  text-align: left;\n",
       "}\n",
       "#T_45527_row0_col1, #T_45527_row0_col2, #T_45527_row0_col3, #T_45527_row0_col4, #T_45527_row1_col1, #T_45527_row1_col2, #T_45527_row1_col3, #T_45527_row1_col4, #T_45527_row2_col1, #T_45527_row2_col2, #T_45527_row2_col3, #T_45527_row2_col4 {\n",
       "  text-align: center;\n",
       "}\n",
       "</style>\n",
       "<table id=\"T_45527\">\n",
       "  <thead>\n",
       "    <tr>\n",
       "      <th id=\"T_45527_level0_col0\" class=\"col_heading level0 col0\" >category</th>\n",
       "      <th id=\"T_45527_level0_col1\" class=\"col_heading level0 col1\" >current</th>\n",
       "      <th id=\"T_45527_level0_col2\" class=\"col_heading level0 col2\" >prior</th>\n",
       "      <th id=\"T_45527_level0_col3\" class=\"col_heading level0 col3\" >change</th>\n",
       "      <th id=\"T_45527_level0_col4\" class=\"col_heading level0 col4\" >pct_change</th>\n",
       "    </tr>\n",
       "  </thead>\n",
       "  <tbody>\n",
       "    <tr>\n",
       "      <td id=\"T_45527_row0_col0\" class=\"data row0 col0\" >parallel</td>\n",
       "      <td id=\"T_45527_row0_col1\" class=\"data row0 col1\" >71,816</td>\n",
       "      <td id=\"T_45527_row0_col2\" class=\"data row0 col2\" >69,435</td>\n",
       "      <td id=\"T_45527_row0_col3\" class=\"data row0 col3\" >2,381</td>\n",
       "      <td id=\"T_45527_row0_col4\" class=\"data row0 col4\" >0.034</td>\n",
       "    </tr>\n",
       "    <tr>\n",
       "      <td id=\"T_45527_row1_col0\" class=\"data row1 col0\" >on_shn</td>\n",
       "      <td id=\"T_45527_row1_col1\" class=\"data row1 col1\" >1,409</td>\n",
       "      <td id=\"T_45527_row1_col2\" class=\"data row1 col2\" >1,229</td>\n",
       "      <td id=\"T_45527_row1_col3\" class=\"data row1 col3\" >180</td>\n",
       "      <td id=\"T_45527_row1_col4\" class=\"data row1 col4\" >0.146</td>\n",
       "    </tr>\n",
       "    <tr>\n",
       "      <td id=\"T_45527_row2_col0\" class=\"data row2 col0\" >other</td>\n",
       "      <td id=\"T_45527_row2_col1\" class=\"data row2 col1\" >34,451</td>\n",
       "      <td id=\"T_45527_row2_col2\" class=\"data row2 col2\" >20,607</td>\n",
       "      <td id=\"T_45527_row2_col3\" class=\"data row2 col3\" >13,844</td>\n",
       "      <td id=\"T_45527_row2_col4\" class=\"data row2 col4\" >0.672</td>\n",
       "    </tr>\n",
       "  </tbody>\n",
       "</table>\n"
      ],
      "text/plain": [
       "<IPython.core.display.HTML object>"
      ]
     },
     "metadata": {},
     "output_type": "display_data"
    }
   ],
   "source": [
    "service_hours_df = change_from_prior(dfs[\"Q2_2022\"], dfs[\"Q1_2022\"], \"total_service_hours\")"
   ]
  },
  {
   "cell_type": "code",
   "execution_count": 8,
   "id": "24373ead-01da-4f97-afc1-77a780a16109",
   "metadata": {},
   "outputs": [
    {
     "data": {
      "text/html": [
       "<style type=\"text/css\">\n",
       "#T_b7005 th {\n",
       "  text-align: center;\n",
       "}\n",
       "#T_b7005_row0_col0, #T_b7005_row1_col0, #T_b7005_row2_col0 {\n",
       "  text-align: left;\n",
       "}\n",
       "#T_b7005_row0_col1, #T_b7005_row0_col2, #T_b7005_row0_col3, #T_b7005_row0_col4, #T_b7005_row1_col1, #T_b7005_row1_col2, #T_b7005_row1_col3, #T_b7005_row1_col4, #T_b7005_row2_col1, #T_b7005_row2_col2, #T_b7005_row2_col3, #T_b7005_row2_col4 {\n",
       "  text-align: center;\n",
       "}\n",
       "</style>\n",
       "<table id=\"T_b7005\">\n",
       "  <thead>\n",
       "    <tr>\n",
       "      <th id=\"T_b7005_level0_col0\" class=\"col_heading level0 col0\" >category</th>\n",
       "      <th id=\"T_b7005_level0_col1\" class=\"col_heading level0 col1\" >current</th>\n",
       "      <th id=\"T_b7005_level0_col2\" class=\"col_heading level0 col2\" >prior</th>\n",
       "      <th id=\"T_b7005_level0_col3\" class=\"col_heading level0 col3\" >change</th>\n",
       "      <th id=\"T_b7005_level0_col4\" class=\"col_heading level0 col4\" >pct_change</th>\n",
       "    </tr>\n",
       "  </thead>\n",
       "  <tbody>\n",
       "    <tr>\n",
       "      <td id=\"T_b7005_row0_col0\" class=\"data row0 col0\" >parallel</td>\n",
       "      <td id=\"T_b7005_row0_col1\" class=\"data row0 col1\" >1,997</td>\n",
       "      <td id=\"T_b7005_row0_col2\" class=\"data row0 col2\" >1,977</td>\n",
       "      <td id=\"T_b7005_row0_col3\" class=\"data row0 col3\" >20</td>\n",
       "      <td id=\"T_b7005_row0_col4\" class=\"data row0 col4\" >0.010</td>\n",
       "    </tr>\n",
       "    <tr>\n",
       "      <td id=\"T_b7005_row1_col0\" class=\"data row1 col0\" >on_shn</td>\n",
       "      <td id=\"T_b7005_row1_col1\" class=\"data row1 col1\" >66</td>\n",
       "      <td id=\"T_b7005_row1_col2\" class=\"data row1 col2\" >59</td>\n",
       "      <td id=\"T_b7005_row1_col3\" class=\"data row1 col3\" >7</td>\n",
       "      <td id=\"T_b7005_row1_col4\" class=\"data row1 col4\" >0.119</td>\n",
       "    </tr>\n",
       "    <tr>\n",
       "      <td id=\"T_b7005_row2_col0\" class=\"data row2 col0\" >other</td>\n",
       "      <td id=\"T_b7005_row2_col1\" class=\"data row2 col1\" >850</td>\n",
       "      <td id=\"T_b7005_row2_col2\" class=\"data row2 col2\" >596</td>\n",
       "      <td id=\"T_b7005_row2_col3\" class=\"data row2 col3\" >254</td>\n",
       "      <td id=\"T_b7005_row2_col4\" class=\"data row2 col4\" >0.426</td>\n",
       "    </tr>\n",
       "  </tbody>\n",
       "</table>\n"
      ],
      "text/plain": [
       "<IPython.core.display.HTML object>"
      ]
     },
     "metadata": {},
     "output_type": "display_data"
    }
   ],
   "source": [
    "unique_route_df = change_from_prior(dfs[\"Q2_2022\"], dfs[\"Q1_2022\"], \"unique_route\")"
   ]
  },
  {
   "cell_type": "code",
   "execution_count": 9,
   "id": "aef85c8c-8677-4373-a218-9cac0510a45f",
   "metadata": {},
   "outputs": [],
   "source": [
    "def make_grouped_bar_chart(df: pd.DataFrame, \n",
    "                           x_col: str, y_col: str, \n",
    "                           group_col: str = \"category\"\n",
    "                          ) -> alt.Chart:\n",
    "    \n",
    "    chart = (alt.Chart(df)\n",
    "             .mark_bar()\n",
    "             .encode(\n",
    "                 x=alt.X(x_col, title=\"\"),\n",
    "                 y=alt.Y(y_col, \n",
    "                         title=labeling(y_col)),\n",
    "                 column=alt.Column(group_col, \n",
    "                                   title=labeling(group_col),\n",
    "                                   sort=[\"Parallel\", \"On SHN\", \"Other\"]\n",
    "                                  ),\n",
    "                 color=alt.Color(f\"{x_col}:N\", scale=alt.Scale(\n",
    "                     range=cp.CALITP_CATEGORY_BRIGHT_COLORS))\n",
    "             )\n",
    "            )\n",
    "    \n",
    "    return chart\n",
    "\n"
   ]
  },
  {
   "cell_type": "code",
   "execution_count": 10,
   "id": "49ff1d75-b455-4fe4-9c95-c4a1b53ce24d",
   "metadata": {},
   "outputs": [
    {
     "data": {
      "text/html": [
       "\n",
       "<div id=\"altair-viz-19350e4b48a64b9ca064d54bc1db0511\"></div>\n",
       "<script type=\"text/javascript\">\n",
       "  var VEGA_DEBUG = (typeof VEGA_DEBUG == \"undefined\") ? {} : VEGA_DEBUG;\n",
       "  (function(spec, embedOpt){\n",
       "    let outputDiv = document.currentScript.previousElementSibling;\n",
       "    if (outputDiv.id !== \"altair-viz-19350e4b48a64b9ca064d54bc1db0511\") {\n",
       "      outputDiv = document.getElementById(\"altair-viz-19350e4b48a64b9ca064d54bc1db0511\");\n",
       "    }\n",
       "    const paths = {\n",
       "      \"vega\": \"https://cdn.jsdelivr.net/npm//vega@5?noext\",\n",
       "      \"vega-lib\": \"https://cdn.jsdelivr.net/npm//vega-lib?noext\",\n",
       "      \"vega-lite\": \"https://cdn.jsdelivr.net/npm//vega-lite@4.17.0?noext\",\n",
       "      \"vega-embed\": \"https://cdn.jsdelivr.net/npm//vega-embed@6?noext\",\n",
       "    };\n",
       "\n",
       "    function maybeLoadScript(lib, version) {\n",
       "      var key = `${lib.replace(\"-\", \"\")}_version`;\n",
       "      return (VEGA_DEBUG[key] == version) ?\n",
       "        Promise.resolve(paths[lib]) :\n",
       "        new Promise(function(resolve, reject) {\n",
       "          var s = document.createElement('script');\n",
       "          document.getElementsByTagName(\"head\")[0].appendChild(s);\n",
       "          s.async = true;\n",
       "          s.onload = () => {\n",
       "            VEGA_DEBUG[key] = version;\n",
       "            return resolve(paths[lib]);\n",
       "          };\n",
       "          s.onerror = () => reject(`Error loading script: ${paths[lib]}`);\n",
       "          s.src = paths[lib];\n",
       "        });\n",
       "    }\n",
       "\n",
       "    function showError(err) {\n",
       "      outputDiv.innerHTML = `<div class=\"error\" style=\"color:red;\">${err}</div>`;\n",
       "      throw err;\n",
       "    }\n",
       "\n",
       "    function displayChart(vegaEmbed) {\n",
       "      vegaEmbed(outputDiv, spec, embedOpt)\n",
       "        .catch(err => showError(`Javascript Error: ${err.message}<br>This usually means there's a typo in your chart specification. See the javascript console for the full traceback.`));\n",
       "    }\n",
       "\n",
       "    if(typeof define === \"function\" && define.amd) {\n",
       "      requirejs.config({paths});\n",
       "      require([\"vega-embed\"], displayChart, err => showError(`Error loading script: ${err.message}`));\n",
       "    } else {\n",
       "      maybeLoadScript(\"vega\", \"5\")\n",
       "        .then(() => maybeLoadScript(\"vega-lite\", \"4.17.0\"))\n",
       "        .then(() => maybeLoadScript(\"vega-embed\", \"6\"))\n",
       "        .catch(showError)\n",
       "        .then(() => displayChart(vegaEmbed));\n",
       "    }\n",
       "  })({\"config\": {\"view\": {\"continuousWidth\": 400, \"continuousHeight\": 300}}, \"data\": {\"name\": \"data-ad6cd1480dd425d35a18fab37753d3db\"}, \"mark\": \"bar\", \"encoding\": {\"color\": {\"field\": \"qtr\", \"scale\": {\"range\": [\"#2EA8CE\", \"#EB9F3C\", \"#F4D837\", \"#51BF9D\", \"#8CBCCB\", \"#9487C0\"]}, \"type\": \"nominal\"}, \"column\": {\"field\": \"category\", \"sort\": [\"Parallel\", \"On SHN\", \"Other\"], \"title\": \"Category\", \"type\": \"nominal\"}, \"x\": {\"field\": \"qtr\", \"title\": \"\", \"type\": \"nominal\"}, \"y\": {\"field\": \"total_service_hours\", \"title\": \"Total Service Hours\", \"type\": \"quantitative\"}}, \"$schema\": \"https://vega.github.io/schema/vega-lite/v4.17.0.json\", \"datasets\": {\"data-ad6cd1480dd425d35a18fab37753d3db\": [{\"category\": \"Parallel\", \"total_service_hours\": 69435, \"unique_route\": 1977, \"pct_total_service_hours\": 0.761, \"pct_unique_route\": 0.751, \"qtr\": \"Q1\", \"service_date\": \"2022-02-08\", \"year\": 2022}, {\"category\": \"On SHN\", \"total_service_hours\": 1229, \"unique_route\": 59, \"pct_total_service_hours\": 0.013, \"pct_unique_route\": 0.022, \"qtr\": \"Q1\", \"service_date\": \"2022-02-08\", \"year\": 2022}, {\"category\": \"Other\", \"total_service_hours\": 20607, \"unique_route\": 596, \"pct_total_service_hours\": 0.226, \"pct_unique_route\": 0.226, \"qtr\": \"Q1\", \"service_date\": \"2022-02-08\", \"year\": 2022}, {\"category\": \"Parallel\", \"total_service_hours\": 71816, \"unique_route\": 1997, \"pct_total_service_hours\": 0.667, \"pct_unique_route\": 0.686, \"qtr\": \"Q2\", \"service_date\": \"2022-05-04\", \"year\": 2022}, {\"category\": \"On SHN\", \"total_service_hours\": 1409, \"unique_route\": 66, \"pct_total_service_hours\": 0.013, \"pct_unique_route\": 0.023, \"qtr\": \"Q2\", \"service_date\": \"2022-05-04\", \"year\": 2022}, {\"category\": \"Other\", \"total_service_hours\": 34451, \"unique_route\": 850, \"pct_total_service_hours\": 0.32, \"pct_unique_route\": 0.292, \"qtr\": \"Q2\", \"service_date\": \"2022-05-04\", \"year\": 2022}]}}, {\"mode\": \"vega-lite\"});\n",
       "</script>"
      ],
      "text/plain": [
       "alt.Chart(...)"
      ]
     },
     "execution_count": 10,
     "metadata": {},
     "output_type": "execute_result"
    }
   ],
   "source": [
    "make_grouped_bar_chart(df, x_col=\"qtr\", \n",
    "                       y_col=\"total_service_hours\",\n",
    "                       group_col=\"category\")"
   ]
  },
  {
   "cell_type": "code",
   "execution_count": 11,
   "id": "797144d7-9822-470c-b13c-a3beca5d7c09",
   "metadata": {},
   "outputs": [
    {
     "data": {
      "text/html": [
       "\n",
       "<div id=\"altair-viz-1b75a025296f47d69800b2588266c29d\"></div>\n",
       "<script type=\"text/javascript\">\n",
       "  var VEGA_DEBUG = (typeof VEGA_DEBUG == \"undefined\") ? {} : VEGA_DEBUG;\n",
       "  (function(spec, embedOpt){\n",
       "    let outputDiv = document.currentScript.previousElementSibling;\n",
       "    if (outputDiv.id !== \"altair-viz-1b75a025296f47d69800b2588266c29d\") {\n",
       "      outputDiv = document.getElementById(\"altair-viz-1b75a025296f47d69800b2588266c29d\");\n",
       "    }\n",
       "    const paths = {\n",
       "      \"vega\": \"https://cdn.jsdelivr.net/npm//vega@5?noext\",\n",
       "      \"vega-lib\": \"https://cdn.jsdelivr.net/npm//vega-lib?noext\",\n",
       "      \"vega-lite\": \"https://cdn.jsdelivr.net/npm//vega-lite@4.17.0?noext\",\n",
       "      \"vega-embed\": \"https://cdn.jsdelivr.net/npm//vega-embed@6?noext\",\n",
       "    };\n",
       "\n",
       "    function maybeLoadScript(lib, version) {\n",
       "      var key = `${lib.replace(\"-\", \"\")}_version`;\n",
       "      return (VEGA_DEBUG[key] == version) ?\n",
       "        Promise.resolve(paths[lib]) :\n",
       "        new Promise(function(resolve, reject) {\n",
       "          var s = document.createElement('script');\n",
       "          document.getElementsByTagName(\"head\")[0].appendChild(s);\n",
       "          s.async = true;\n",
       "          s.onload = () => {\n",
       "            VEGA_DEBUG[key] = version;\n",
       "            return resolve(paths[lib]);\n",
       "          };\n",
       "          s.onerror = () => reject(`Error loading script: ${paths[lib]}`);\n",
       "          s.src = paths[lib];\n",
       "        });\n",
       "    }\n",
       "\n",
       "    function showError(err) {\n",
       "      outputDiv.innerHTML = `<div class=\"error\" style=\"color:red;\">${err}</div>`;\n",
       "      throw err;\n",
       "    }\n",
       "\n",
       "    function displayChart(vegaEmbed) {\n",
       "      vegaEmbed(outputDiv, spec, embedOpt)\n",
       "        .catch(err => showError(`Javascript Error: ${err.message}<br>This usually means there's a typo in your chart specification. See the javascript console for the full traceback.`));\n",
       "    }\n",
       "\n",
       "    if(typeof define === \"function\" && define.amd) {\n",
       "      requirejs.config({paths});\n",
       "      require([\"vega-embed\"], displayChart, err => showError(`Error loading script: ${err.message}`));\n",
       "    } else {\n",
       "      maybeLoadScript(\"vega\", \"5\")\n",
       "        .then(() => maybeLoadScript(\"vega-lite\", \"4.17.0\"))\n",
       "        .then(() => maybeLoadScript(\"vega-embed\", \"6\"))\n",
       "        .catch(showError)\n",
       "        .then(() => displayChart(vegaEmbed));\n",
       "    }\n",
       "  })({\"config\": {\"view\": {\"continuousWidth\": 400, \"continuousHeight\": 300}}, \"data\": {\"name\": \"data-ad6cd1480dd425d35a18fab37753d3db\"}, \"mark\": \"bar\", \"encoding\": {\"color\": {\"field\": \"qtr\", \"scale\": {\"range\": [\"#2EA8CE\", \"#EB9F3C\", \"#F4D837\", \"#51BF9D\", \"#8CBCCB\", \"#9487C0\"]}, \"type\": \"nominal\"}, \"column\": {\"field\": \"category\", \"sort\": [\"Parallel\", \"On SHN\", \"Other\"], \"title\": \"Category\", \"type\": \"nominal\"}, \"x\": {\"field\": \"qtr\", \"title\": \"\", \"type\": \"nominal\"}, \"y\": {\"field\": \"unique_route\", \"title\": \"Unique Route\", \"type\": \"quantitative\"}}, \"$schema\": \"https://vega.github.io/schema/vega-lite/v4.17.0.json\", \"datasets\": {\"data-ad6cd1480dd425d35a18fab37753d3db\": [{\"category\": \"Parallel\", \"total_service_hours\": 69435, \"unique_route\": 1977, \"pct_total_service_hours\": 0.761, \"pct_unique_route\": 0.751, \"qtr\": \"Q1\", \"service_date\": \"2022-02-08\", \"year\": 2022}, {\"category\": \"On SHN\", \"total_service_hours\": 1229, \"unique_route\": 59, \"pct_total_service_hours\": 0.013, \"pct_unique_route\": 0.022, \"qtr\": \"Q1\", \"service_date\": \"2022-02-08\", \"year\": 2022}, {\"category\": \"Other\", \"total_service_hours\": 20607, \"unique_route\": 596, \"pct_total_service_hours\": 0.226, \"pct_unique_route\": 0.226, \"qtr\": \"Q1\", \"service_date\": \"2022-02-08\", \"year\": 2022}, {\"category\": \"Parallel\", \"total_service_hours\": 71816, \"unique_route\": 1997, \"pct_total_service_hours\": 0.667, \"pct_unique_route\": 0.686, \"qtr\": \"Q2\", \"service_date\": \"2022-05-04\", \"year\": 2022}, {\"category\": \"On SHN\", \"total_service_hours\": 1409, \"unique_route\": 66, \"pct_total_service_hours\": 0.013, \"pct_unique_route\": 0.023, \"qtr\": \"Q2\", \"service_date\": \"2022-05-04\", \"year\": 2022}, {\"category\": \"Other\", \"total_service_hours\": 34451, \"unique_route\": 850, \"pct_total_service_hours\": 0.32, \"pct_unique_route\": 0.292, \"qtr\": \"Q2\", \"service_date\": \"2022-05-04\", \"year\": 2022}]}}, {\"mode\": \"vega-lite\"});\n",
       "</script>"
      ],
      "text/plain": [
       "alt.Chart(...)"
      ]
     },
     "execution_count": 11,
     "metadata": {},
     "output_type": "execute_result"
    }
   ],
   "source": [
    "make_grouped_bar_chart(df, x_col=\"qtr\", \n",
    "                       y_col=\"unique_route\",\n",
    "                       group_col=\"category\")"
   ]
  },
  {
   "cell_type": "code",
   "execution_count": null,
   "id": "cc1e0b65-4b7f-40ec-9855-df283f30c701",
   "metadata": {},
   "outputs": [],
   "source": []
  }
 ],
 "metadata": {
  "kernelspec": {
   "display_name": "Python 3 (ipykernel)",
   "language": "python",
   "name": "python3"
  },
  "language_info": {
   "codemirror_mode": {
    "name": "ipython",
    "version": 3
   },
   "file_extension": ".py",
   "mimetype": "text/x-python",
   "name": "python",
   "nbconvert_exporter": "python",
   "pygments_lexer": "ipython3",
   "version": "3.10.5"
  }
 },
 "nbformat": 4,
 "nbformat_minor": 5
}
