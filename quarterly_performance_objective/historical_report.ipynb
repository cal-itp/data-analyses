{
 "cells": [
  {
   "cell_type": "markdown",
   "id": "0801efda-e075-4826-a167-a8e54a8167fb",
   "metadata": {},
   "source": [
    "# Quarterly Performance Objective - Historical Trends\n",
    "\n",
    "**01 - Increase total amount of service on the SHN and reliability of that service by 2024**\n",
    "\n",
    "## Routes on the State Highway Network (SHN)\n",
    "Transit routes along the SHN can be categorized into 3 groups:\n",
    "1. **On SHN** - where at least 20% of the transit route runs the SHN (within 50 ft) \n",
    "2. **Intersects SHN** - where at least 35% of the transit route runs within 0.5 mile of the SHN.\n",
    "3. **Other** - all other transit routes.\n",
    "\n",
    "## Metrics\n",
    "* service hours, service hours per route\n",
    "* delay hours, delay hours per route\n",
    "\n",
    "The metrics are shown for for transit routes **on the SHN** and **intersects SHN**."
   ]
  },
  {
   "cell_type": "code",
   "execution_count": null,
   "id": "34d1396e-e0c7-4804-8647-4aae76cc300c",
   "metadata": {},
   "outputs": [],
   "source": [
    "import altair as alt\n",
    "import pandas as pd\n",
    "\n",
    "import B1_report_metrics as report_metrics\n",
    "from shared_utils import rt_dates \n",
    "from shared_utils import calitp_color_palette as cp\n",
    "from bus_service_utils import chart_utils"
   ]
  },
  {
   "cell_type": "code",
   "execution_count": null,
   "id": "cc1eeb8f-d2ae-4152-8624-a7a10012d6bf",
   "metadata": {},
   "outputs": [],
   "source": [
    "quarterly_metrics_dict = {k: v for k, v in rt_dates.PMAC.items() if k != \"Q1_2022\"}\n",
    "\n",
    "df = report_metrics.concatenate_summary_across_dates(quarterly_metrics_dict)"
   ]
  },
  {
   "cell_type": "code",
   "execution_count": null,
   "id": "1609322c-7490-4433-9678-c7639e165197",
   "metadata": {},
   "outputs": [],
   "source": [
    "def base_quarterly_bar(df: pd.DataFrame, variable: str,\n",
    "                       x_col: str, y_col: str) -> alt.Chart: \n",
    "    \n",
    "    category = df.category.iloc[0]\n",
    "    if category==\"On SHN\":\n",
    "        color = cp.CALITP_CATEGORY_BRIGHT_COLORS[0]\n",
    "    elif category==\"Intersects SHN\":\n",
    "        color = cp.CALITP_CATEGORY_BRIGHT_COLORS[3]\n",
    "    \n",
    "    year = df.year.iloc[0]\n",
    "    bar = (alt.Chart(df)\n",
    "           .mark_bar()\n",
    "           .encode(\n",
    "               x=alt.X(f\"{x_col}:O\", axis=alt.Axis(format=f'{year} Q%q'), \n",
    "                       title = None),\n",
    "               y=alt.Y(f\"{y_col}:Q\", title = chart_utils.labeling(variable)),\n",
    "               color = alt.value(color),\n",
    "               tooltip=['category', \n",
    "                        'year', 'quarter', \n",
    "                        'variable', 'value']\n",
    "           )\n",
    "          )\n",
    "           \n",
    "    return bar\n",
    "\n",
    "\n",
    "def quarterly_bar_for_category(\n",
    "    df: pd.DataFrame, \n",
    "    variable_list: list = [\"service_hours\", \"delay_hours\"], \n",
    "    category: str = \"On SHN\",\n",
    "    x_col: str = \"quarter(service_date)\", \n",
    "    y_col: str = \"value\", \n",
    "    chart_height: int = 200, chart_width: int = 500,\n",
    ") -> alt.Chart: \n",
    "    \"\"\"\n",
    "    Plot quarterly metrics within the same category.\n",
    "    Ex: for all routes on SHN, show service hours, delay hours, \n",
    "    avg service hours, etc\n",
    "    \"\"\"\n",
    "    subset = df[(df.variable.isin(variable_list)) & (df.category==category)]\n",
    "   \n",
    "    var1 = variable_list[0]\n",
    "    df1 = subset[subset.variable==var1]\n",
    "    var2 = variable_list[1]\n",
    "    df2 = subset[subset.variable==var2]\n",
    "\n",
    "    bar1 = (base_quarterly_bar(df1, var1, x_col, y_col)\n",
    "            .properties(title={\n",
    "                \"text\": f\"{chart_utils.labeling(var1)}\",\n",
    "                \"subtitle\": f\"Routes {category.title()}\"\n",
    "            }, width = chart_width, height = chart_height)\n",
    "            .interactive()\n",
    "           )\n",
    "    \n",
    "    bar2 = (base_quarterly_bar(df2, var2, x_col, y_col)\n",
    "            .properties(title={\n",
    "                \"text\": f\"{chart_utils.labeling(var2)}\",\n",
    "                \"subtitle\": f\"Routes {category.title()}\"\n",
    "            }, width = chart_width, height = chart_height)\n",
    "            .interactive()\n",
    "           )\n",
    "    \n",
    "    combined = (alt.hconcat(bar1, bar2)\n",
    "                .resolve_scale(y=\"independent\")\n",
    "               )\n",
    "\n",
    "    return combined"
   ]
  },
  {
   "cell_type": "markdown",
   "id": "aa5564b6-6056-4dbc-8f36-193d7cf9043c",
   "metadata": {},
   "source": [
    "## Routes on SHN"
   ]
  },
  {
   "cell_type": "code",
   "execution_count": null,
   "id": "95450d50-4340-4716-86e5-6555b888c429",
   "metadata": {},
   "outputs": [],
   "source": [
    "# chart utils\n",
    "HEIGHT = 250\n",
    "WIDTH = 200"
   ]
  },
  {
   "cell_type": "code",
   "execution_count": null,
   "id": "b3b929dd-f394-457f-b57d-2a292f7f3fd8",
   "metadata": {},
   "outputs": [],
   "source": [
    "category = \"On SHN\"\n",
    "var_list = [\"service_hours_per_route\", \"delay_hours_per_route\"]\n",
    "\n",
    "chart = quarterly_bar_for_category(\n",
    "    df,\n",
    "    variable_list = var_list, \n",
    "    category = category,\n",
    "    x_col = \"quarter(service_date)\",\n",
    "    y_col = \"value\",\n",
    "    chart_height = HEIGHT, chart_width = WIDTH\n",
    ")\n",
    "\n",
    "chart"
   ]
  },
  {
   "cell_type": "code",
   "execution_count": null,
   "id": "e8990963-9167-439b-a929-e6ef9107256e",
   "metadata": {},
   "outputs": [],
   "source": [
    "var_list = [\"service_hours\", \"delay_hours\"]\n",
    "\n",
    "chart = quarterly_bar_for_category(\n",
    "    df,\n",
    "    variable_list = var_list, \n",
    "    category = category,\n",
    "    x_col = \"quarter(service_date)\",\n",
    "    y_col = \"value\",\n",
    "    chart_height = HEIGHT, chart_width = WIDTH\n",
    ")\n",
    "\n",
    "chart"
   ]
  },
  {
   "cell_type": "markdown",
   "id": "e69f82d3-0dd4-454c-b89b-70f290c6f590",
   "metadata": {},
   "source": [
    "## Routes Intersecting SHN"
   ]
  },
  {
   "cell_type": "code",
   "execution_count": null,
   "id": "9243c9f7-d096-4c2f-bc24-c3947ef2e1aa",
   "metadata": {},
   "outputs": [],
   "source": [
    "category = \"Intersects SHN\"\n",
    "var_list = [\"service_hours_per_route\", \"delay_hours_per_route\"]\n",
    "\n",
    "chart = quarterly_bar_for_category(\n",
    "    df,\n",
    "    variable_list = var_list, \n",
    "    category = category,\n",
    "    x_col = \"quarter(service_date)\",\n",
    "    y_col = \"value\",\n",
    "    chart_height = HEIGHT, chart_width = WIDTH\n",
    ")\n",
    "\n",
    "chart"
   ]
  },
  {
   "cell_type": "code",
   "execution_count": null,
   "id": "e7b40537-948b-4871-95b7-f73d3cd20410",
   "metadata": {},
   "outputs": [],
   "source": [
    "var_list = [\"service_hours\", \"delay_hours\"]\n",
    "\n",
    "chart = quarterly_bar_for_category(\n",
    "    df,\n",
    "    variable_list = var_list, \n",
    "    category = category,\n",
    "    x_col = \"quarter(service_date)\",\n",
    "    y_col = \"value\",\n",
    "    chart_height = HEIGHT, chart_width = WIDTH\n",
    ")\n",
    "\n",
    "chart"
   ]
  },
  {
   "cell_type": "code",
   "execution_count": null,
   "id": "98d6349f-4e45-4929-a21a-26cd4f0396ab",
   "metadata": {},
   "outputs": [],
   "source": []
  }
 ],
 "metadata": {
  "kernelspec": {
   "display_name": "Python 3 (ipykernel)",
   "language": "python",
   "name": "python3"
  },
  "language_info": {
   "codemirror_mode": {
    "name": "ipython",
    "version": 3
   },
   "file_extension": ".py",
   "mimetype": "text/x-python",
   "name": "python",
   "nbconvert_exporter": "python",
   "pygments_lexer": "ipython3",
   "version": "3.10.6"
  }
 },
 "nbformat": 4,
 "nbformat_minor": 5
}
