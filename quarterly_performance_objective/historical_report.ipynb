{
 "cells": [
  {
   "cell_type": "markdown",
   "id": "0801efda-e075-4826-a167-a8e54a8167fb",
   "metadata": {},
   "source": [
    "# Quarterly Performance Objective - Historical Comparisons\n",
    "\n",
    "Let's compare quarterly metrics for PMAC.\n",
    "\n",
    "* Get % change on total service hours by on_shn/intersects_shn\n",
    "* Get % change on unique routes by on_shn/intersects_shn\n",
    "\n",
    "\n",
    "Only show first 2 groups for historical comparisons"
   ]
  },
  {
   "cell_type": "code",
   "execution_count": 1,
   "id": "34d1396e-e0c7-4804-8647-4aae76cc300c",
   "metadata": {},
   "outputs": [
    {
     "name": "stderr",
     "output_type": "stream",
     "text": [
      "/opt/conda/lib/python3.10/site-packages/geopandas/_compat.py:112: UserWarning: The Shapely GEOS version (3.10.3-CAPI-1.16.1) is incompatible with the GEOS version PyGEOS was compiled with (3.10.1-CAPI-1.16.0). Conversions between both will be slow.\n",
      "  warnings.warn(\n"
     ]
    }
   ],
   "source": [
    "import altair as alt\n",
    "import geopandas as gpd\n",
    "import pandas as pd\n",
    "\n",
    "from IPython.display import HTML\n",
    "from typing import Literal\n",
    "\n",
    "import B1_report_metrics as report_metrics\n",
    "from shared_utils import rt_dates, rt_utils\n",
    "from shared_utils import calitp_color_palette as cp\n",
    "from update_vars import BUS_SERVICE_GCS\n",
    "\n",
    "#alt.renderers.enable(\"html\")"
   ]
  },
  {
   "cell_type": "code",
   "execution_count": 2,
   "id": "8b374763-a029-4b3a-8668-ad4397b85007",
   "metadata": {},
   "outputs": [],
   "source": [
    "def concatenate_summary_tables_across_dates(\n",
    "    summary_category: Literal[\"service_hours\", \"delay\"], rt_dates_dict: dict) -> pd.DataFrame:\n",
    "    \n",
    "    df = pd.DataFrame()\n",
    "    \n",
    "    for quarter, date in rt_dates_dict.items():\n",
    "    \n",
    "        path = rt_utils.check_cached(\n",
    "            f\"routes_categorized_with_delay_{date}.parquet\", \n",
    "            BUS_SERVICE_GCS,\n",
    "            subfolder = \"\"\n",
    "        )\n",
    "\n",
    "        if path is not None:\n",
    "            date_df = gpd.read_parquet(path)\n",
    "            plot_df = date_df[date_df._merge==\"both\"]\n",
    "            \n",
    "            if summary_category==\"service_hours\":\n",
    "                summary = report_metrics.get_service_hours_summary_table(plot_df)\n",
    "            \n",
    "            elif summary_category == \"delay\":\n",
    "                summary = report_metrics.get_delay_summary_table(plot_df)\n",
    "\n",
    "            summary = summary.assign(\n",
    "                service_date = date,\n",
    "                #year = int(quarter.split('_')[1]),\n",
    "                #qtr = quarter.split('_')[0],\n",
    "            )\n",
    "\n",
    "            df = pd.concat([df, summary], axis=0)\n",
    "        else:\n",
    "            continue\n",
    "        \n",
    "        return df\n"
   ]
  },
  {
   "cell_type": "code",
   "execution_count": 3,
   "id": "d700e11e-ff9d-4e0d-be76-598472276483",
   "metadata": {},
   "outputs": [],
   "source": [
    "service_hours_df = concatenate_summary_tables_across_dates(\n",
    "    \"service_hours\", rt_dates.PMAC)\n",
    "delay_df = concatenate_summary_tables_across_dates(\n",
    "    \"delay\", rt_dates.PMAC)"
   ]
  },
  {
   "cell_type": "code",
   "execution_count": 4,
   "id": "3687865f-c0e8-426e-afda-c50991874709",
   "metadata": {},
   "outputs": [],
   "source": [
    "test2 = service_hours_df.assign(\n",
    "    service_date = \"2022-08-17\"\n",
    ")"
   ]
  },
  {
   "cell_type": "code",
   "execution_count": 5,
   "id": "7e934630-9bb2-4307-bfb2-cd22ad6ff49a",
   "metadata": {},
   "outputs": [],
   "source": [
    "df = pd.concat([service_hours_df,test2], axis=0)"
   ]
  },
  {
   "cell_type": "code",
   "execution_count": 7,
   "id": "8b3fd592-b82e-4009-b802-7df9ef98ef5c",
   "metadata": {},
   "outputs": [],
   "source": [
    "def reshape_to_long(df: pd.DataFrame, \n",
    "                    summary_category: Literal[\"service_hours\", \"delay\"]\n",
    "                   ) -> pd.DataFrame: \n",
    "    if summary_category == \"service_hours\":\n",
    "        value_vars = [\"total_service_hours\", \"unique_route\",  \"service_hrs_per_route\",\n",
    "                      \"pct_total_service_hours\", \"pct_unique_route\", \n",
    "                     ]\n",
    "        \n",
    "    elif summary_category == \"delay\":\n",
    "        value_vars = [\"delay_hours\", \"unique_route\", \"delay_hours_per_route\",\n",
    "                      \"pct_delay_hours\", \"pct_unique_route\"]\n",
    "        \n",
    "    df_long = pd.melt(\n",
    "        df, \n",
    "        id_vars = [\"category\", \"service_date\"],\n",
    "        value_vars = value_vars)\n",
    "    \n",
    "    return df_long"
   ]
  },
  {
   "cell_type": "code",
   "execution_count": 9,
   "id": "7256d57d-0e59-4a9c-a6e5-dc04935e64cd",
   "metadata": {},
   "outputs": [],
   "source": [
    "service_hours_df2 = reshape_to_long(df, summary_category=\"service_hours\")\n",
    "delay_df2 = reshape_to_long(delay_df, summary_category=\"delay\")"
   ]
  },
  {
   "cell_type": "code",
   "execution_count": 12,
   "id": "0cf54fe6-4b5b-411d-9332-30c345e2370f",
   "metadata": {},
   "outputs": [],
   "source": [
    "from shared_utils import styleguide"
   ]
  },
  {
   "cell_type": "code",
   "execution_count": null,
   "id": "35b64587-d49a-4ac5-9e35-c3731bfd99b5",
   "metadata": {},
   "outputs": [],
   "source": []
  },
  {
   "cell_type": "code",
   "execution_count": 26,
   "id": "6b872b61-1c05-487c-a115-7908a2547ec6",
   "metadata": {},
   "outputs": [],
   "source": [
    "def base_bar(df: pd.DataFrame, x_col: str, y_col: str) -> alt.Chart:\n",
    "    bar = (alt.Chart(df)\n",
    "           .mark_bar(size=50)\n",
    "           .encode(\n",
    "               x=alt.X(f\"{x_col}:T\"),\n",
    "               y=alt.Y(f\"{y_col}:Q\")\n",
    "           )\n",
    "          )\n",
    "    \n",
    "    return bar\n",
    "\n",
    "def time_series_bar_by_category(df: pd.DataFrame, \n",
    "                                variable: str = \"total_service_hours\", \n",
    "                                x_col: str = \"quarter(service_date)\", \n",
    "                                y_col: str = \"value\") -> alt.Chart: \n",
    "    \n",
    "    subset = df[(df.variable == variable)]\n",
    "    on_shn = subset[(subset.category==\"On SHN\")]\n",
    "    intersects_shn = subset[(subset.category==\"Intersects SHN\")]\n",
    "    \n",
    "    bar1 = base_bar(on_shn, x_col, y_col)\n",
    "    bar2 = base_bar(intersects_shn, x_col, y_col)\n",
    "    \n",
    "    bar1 = styleguide.apply_chart_config(bar1).interactive()\n",
    "    #bar2 = styleguide.apply_chart_config(bar2)\n",
    "    \n",
    "    #combined = bar1 | bar2\n",
    "    \n",
    "    return bar1 "
   ]
  },
  {
   "cell_type": "code",
   "execution_count": 29,
   "id": "ba522f40-3a1b-481f-96c0-ffc012163d88",
   "metadata": {},
   "outputs": [
    {
     "data": {
      "text/html": [
       "<div>\n",
       "<style scoped>\n",
       "    .dataframe tbody tr th:only-of-type {\n",
       "        vertical-align: middle;\n",
       "    }\n",
       "\n",
       "    .dataframe tbody tr th {\n",
       "        vertical-align: top;\n",
       "    }\n",
       "\n",
       "    .dataframe thead th {\n",
       "        text-align: right;\n",
       "    }\n",
       "</style>\n",
       "<table border=\"1\" class=\"dataframe\">\n",
       "  <thead>\n",
       "    <tr style=\"text-align: right;\">\n",
       "      <th></th>\n",
       "      <th>category</th>\n",
       "      <th>service_date</th>\n",
       "      <th>variable</th>\n",
       "      <th>value</th>\n",
       "    </tr>\n",
       "  </thead>\n",
       "  <tbody>\n",
       "    <tr>\n",
       "      <th>0</th>\n",
       "      <td>On SHN</td>\n",
       "      <td>2022-05-04</td>\n",
       "      <td>total_service_hours</td>\n",
       "      <td>15636.0</td>\n",
       "    </tr>\n",
       "    <tr>\n",
       "      <th>1</th>\n",
       "      <td>Intersects SHN</td>\n",
       "      <td>2022-05-04</td>\n",
       "      <td>total_service_hours</td>\n",
       "      <td>53232.0</td>\n",
       "    </tr>\n",
       "    <tr>\n",
       "      <th>2</th>\n",
       "      <td>Other</td>\n",
       "      <td>2022-05-04</td>\n",
       "      <td>total_service_hours</td>\n",
       "      <td>29484.0</td>\n",
       "    </tr>\n",
       "    <tr>\n",
       "      <th>3</th>\n",
       "      <td>On SHN</td>\n",
       "      <td>2022-08-17</td>\n",
       "      <td>total_service_hours</td>\n",
       "      <td>15636.0</td>\n",
       "    </tr>\n",
       "    <tr>\n",
       "      <th>4</th>\n",
       "      <td>Intersects SHN</td>\n",
       "      <td>2022-08-17</td>\n",
       "      <td>total_service_hours</td>\n",
       "      <td>53232.0</td>\n",
       "    </tr>\n",
       "    <tr>\n",
       "      <th>5</th>\n",
       "      <td>Other</td>\n",
       "      <td>2022-08-17</td>\n",
       "      <td>total_service_hours</td>\n",
       "      <td>29484.0</td>\n",
       "    </tr>\n",
       "  </tbody>\n",
       "</table>\n",
       "</div>"
      ],
      "text/plain": [
       "         category service_date             variable    value\n",
       "0          On SHN   2022-05-04  total_service_hours  15636.0\n",
       "1  Intersects SHN   2022-05-04  total_service_hours  53232.0\n",
       "2           Other   2022-05-04  total_service_hours  29484.0\n",
       "3          On SHN   2022-08-17  total_service_hours  15636.0\n",
       "4  Intersects SHN   2022-08-17  total_service_hours  53232.0\n",
       "5           Other   2022-08-17  total_service_hours  29484.0"
      ]
     },
     "execution_count": 29,
     "metadata": {},
     "output_type": "execute_result"
    }
   ],
   "source": [
    "service_hours_df2[service_hours_df2.variable==\"total_service_hours\"]"
   ]
  },
  {
   "cell_type": "code",
   "execution_count": 89,
   "id": "05a594cc-0345-4ce8-83bb-ecc46290c87d",
   "metadata": {},
   "outputs": [],
   "source": [
    "chart = (alt.Chart(\n",
    "    service_hours_df2[(service_hours_df2.variable==\"total_service_hours\") & \n",
    "                      (service_hours_df2.category==\"On SHN\")\n",
    "                     ])\n",
    "         .mark_bar(size=10)\n",
    "         .encode(\n",
    "             x=alt.X(\"service_date:O\"),\n",
    "             y=alt.Y(\"sum(value):Q\"),\n",
    "         ).properties(width=100, height=100)\n",
    "        )"
   ]
  },
  {
   "cell_type": "code",
   "execution_count": 90,
   "id": "54029d10-1bd2-4f15-b1c9-72b379a956ca",
   "metadata": {},
   "outputs": [],
   "source": [
    "chart2 = (alt.Chart(\n",
    "    service_hours_df2[(service_hours_df2.variable==\"total_service_hours\") & \n",
    "                      (service_hours_df2.category==\"Intersects SHN\")\n",
    "                     ])\n",
    "         .mark_bar(size=10)\n",
    "         .encode(\n",
    "             x=alt.X(\"service_date:O\"),\n",
    "             y=alt.Y(\"sum(value):Q\"),\n",
    "         ).properties(width=100, height=100)\n",
    "        )"
   ]
  },
  {
   "cell_type": "code",
   "execution_count": 95,
   "id": "9e62a47f-9cec-4448-916e-234605eaef49",
   "metadata": {},
   "outputs": [],
   "source": [
    "combined = alt.hconcat(chart, chart2).properties(\n",
    "    title=\"title\").resolve_scale(x='shared', y='shared')"
   ]
  },
  {
   "cell_type": "code",
   "execution_count": 96,
   "id": "24b5fdb0-40b2-4a66-a15a-915c2bebae56",
   "metadata": {},
   "outputs": [
    {
     "data": {
      "text/html": [
       "\n",
       "<div id=\"altair-viz-81416eb4962c45dc89d494005fc5d0f6\"></div>\n",
       "<script type=\"text/javascript\">\n",
       "  var VEGA_DEBUG = (typeof VEGA_DEBUG == \"undefined\") ? {} : VEGA_DEBUG;\n",
       "  (function(spec, embedOpt){\n",
       "    let outputDiv = document.currentScript.previousElementSibling;\n",
       "    if (outputDiv.id !== \"altair-viz-81416eb4962c45dc89d494005fc5d0f6\") {\n",
       "      outputDiv = document.getElementById(\"altair-viz-81416eb4962c45dc89d494005fc5d0f6\");\n",
       "    }\n",
       "    const paths = {\n",
       "      \"vega\": \"https://cdn.jsdelivr.net/npm//vega@5?noext\",\n",
       "      \"vega-lib\": \"https://cdn.jsdelivr.net/npm//vega-lib?noext\",\n",
       "      \"vega-lite\": \"https://cdn.jsdelivr.net/npm//vega-lite@4.17.0?noext\",\n",
       "      \"vega-embed\": \"https://cdn.jsdelivr.net/npm//vega-embed@6?noext\",\n",
       "    };\n",
       "\n",
       "    function maybeLoadScript(lib, version) {\n",
       "      var key = `${lib.replace(\"-\", \"\")}_version`;\n",
       "      return (VEGA_DEBUG[key] == version) ?\n",
       "        Promise.resolve(paths[lib]) :\n",
       "        new Promise(function(resolve, reject) {\n",
       "          var s = document.createElement('script');\n",
       "          document.getElementsByTagName(\"head\")[0].appendChild(s);\n",
       "          s.async = true;\n",
       "          s.onload = () => {\n",
       "            VEGA_DEBUG[key] = version;\n",
       "            return resolve(paths[lib]);\n",
       "          };\n",
       "          s.onerror = () => reject(`Error loading script: ${paths[lib]}`);\n",
       "          s.src = paths[lib];\n",
       "        });\n",
       "    }\n",
       "\n",
       "    function showError(err) {\n",
       "      outputDiv.innerHTML = `<div class=\"error\" style=\"color:red;\">${err}</div>`;\n",
       "      throw err;\n",
       "    }\n",
       "\n",
       "    function displayChart(vegaEmbed) {\n",
       "      vegaEmbed(outputDiv, spec, embedOpt)\n",
       "        .catch(err => showError(`Javascript Error: ${err.message}<br>This usually means there's a typo in your chart specification. See the javascript console for the full traceback.`));\n",
       "    }\n",
       "\n",
       "    if(typeof define === \"function\" && define.amd) {\n",
       "      requirejs.config({paths});\n",
       "      require([\"vega-embed\"], displayChart, err => showError(`Error loading script: ${err.message}`));\n",
       "    } else {\n",
       "      maybeLoadScript(\"vega\", \"5\")\n",
       "        .then(() => maybeLoadScript(\"vega-lite\", \"4.17.0\"))\n",
       "        .then(() => maybeLoadScript(\"vega-embed\", \"6\"))\n",
       "        .catch(showError)\n",
       "        .then(() => displayChart(vegaEmbed));\n",
       "    }\n",
       "  })({\"config\": {\"view\": {\"continuousWidth\": 400, \"continuousHeight\": 300}}, \"hconcat\": [{\"data\": {\"name\": \"data-699c03d655d205f3a79793f4900e49c2\"}, \"mark\": {\"type\": \"bar\", \"size\": 10}, \"encoding\": {\"x\": {\"field\": \"service_date\", \"type\": \"ordinal\"}, \"y\": {\"aggregate\": \"sum\", \"field\": \"value\", \"type\": \"quantitative\"}}, \"height\": 100, \"width\": 100}, {\"data\": {\"name\": \"data-cddd3531687cc8d5c9ff263ef139a9dc\"}, \"mark\": {\"type\": \"bar\", \"size\": 10}, \"encoding\": {\"x\": {\"field\": \"service_date\", \"type\": \"ordinal\"}, \"y\": {\"aggregate\": \"sum\", \"field\": \"value\", \"type\": \"quantitative\"}}, \"height\": 100, \"width\": 100}], \"resolve\": {\"scale\": {\"x\": \"shared\", \"y\": \"shared\"}}, \"title\": \"title\", \"$schema\": \"https://vega.github.io/schema/vega-lite/v4.17.0.json\", \"datasets\": {\"data-699c03d655d205f3a79793f4900e49c2\": [{\"category\": \"On SHN\", \"service_date\": \"2022-05-04\", \"variable\": \"total_service_hours\", \"value\": 15636.0}, {\"category\": \"On SHN\", \"service_date\": \"2022-08-17\", \"variable\": \"total_service_hours\", \"value\": 15636.0}], \"data-cddd3531687cc8d5c9ff263ef139a9dc\": [{\"category\": \"Intersects SHN\", \"service_date\": \"2022-05-04\", \"variable\": \"total_service_hours\", \"value\": 53232.0}, {\"category\": \"Intersects SHN\", \"service_date\": \"2022-08-17\", \"variable\": \"total_service_hours\", \"value\": 53232.0}]}}, {\"mode\": \"vega-lite\"});\n",
       "</script>"
      ],
      "text/plain": [
       "alt.HConcatChart(...)"
      ]
     },
     "execution_count": 96,
     "metadata": {},
     "output_type": "execute_result"
    }
   ],
   "source": [
    "combined"
   ]
  },
  {
   "cell_type": "code",
   "execution_count": 37,
   "id": "da384cae-e088-4a5a-936b-2dfe42ca0432",
   "metadata": {},
   "outputs": [
    {
     "data": {
      "text/html": [
       "\n",
       "<div id=\"altair-viz-e9a44b0a5090462d875a4d9d8e6b1419\"></div>\n",
       "<script type=\"text/javascript\">\n",
       "  var VEGA_DEBUG = (typeof VEGA_DEBUG == \"undefined\") ? {} : VEGA_DEBUG;\n",
       "  (function(spec, embedOpt){\n",
       "    let outputDiv = document.currentScript.previousElementSibling;\n",
       "    if (outputDiv.id !== \"altair-viz-e9a44b0a5090462d875a4d9d8e6b1419\") {\n",
       "      outputDiv = document.getElementById(\"altair-viz-e9a44b0a5090462d875a4d9d8e6b1419\");\n",
       "    }\n",
       "    const paths = {\n",
       "      \"vega\": \"https://cdn.jsdelivr.net/npm//vega@5?noext\",\n",
       "      \"vega-lib\": \"https://cdn.jsdelivr.net/npm//vega-lib?noext\",\n",
       "      \"vega-lite\": \"https://cdn.jsdelivr.net/npm//vega-lite@4.17.0?noext\",\n",
       "      \"vega-embed\": \"https://cdn.jsdelivr.net/npm//vega-embed@6?noext\",\n",
       "    };\n",
       "\n",
       "    function maybeLoadScript(lib, version) {\n",
       "      var key = `${lib.replace(\"-\", \"\")}_version`;\n",
       "      return (VEGA_DEBUG[key] == version) ?\n",
       "        Promise.resolve(paths[lib]) :\n",
       "        new Promise(function(resolve, reject) {\n",
       "          var s = document.createElement('script');\n",
       "          document.getElementsByTagName(\"head\")[0].appendChild(s);\n",
       "          s.async = true;\n",
       "          s.onload = () => {\n",
       "            VEGA_DEBUG[key] = version;\n",
       "            return resolve(paths[lib]);\n",
       "          };\n",
       "          s.onerror = () => reject(`Error loading script: ${paths[lib]}`);\n",
       "          s.src = paths[lib];\n",
       "        });\n",
       "    }\n",
       "\n",
       "    function showError(err) {\n",
       "      outputDiv.innerHTML = `<div class=\"error\" style=\"color:red;\">${err}</div>`;\n",
       "      throw err;\n",
       "    }\n",
       "\n",
       "    function displayChart(vegaEmbed) {\n",
       "      vegaEmbed(outputDiv, spec, embedOpt)\n",
       "        .catch(err => showError(`Javascript Error: ${err.message}<br>This usually means there's a typo in your chart specification. See the javascript console for the full traceback.`));\n",
       "    }\n",
       "\n",
       "    if(typeof define === \"function\" && define.amd) {\n",
       "      requirejs.config({paths});\n",
       "      require([\"vega-embed\"], displayChart, err => showError(`Error loading script: ${err.message}`));\n",
       "    } else {\n",
       "      maybeLoadScript(\"vega\", \"5\")\n",
       "        .then(() => maybeLoadScript(\"vega-lite\", \"4.17.0\"))\n",
       "        .then(() => maybeLoadScript(\"vega-embed\", \"6\"))\n",
       "        .catch(showError)\n",
       "        .then(() => displayChart(vegaEmbed));\n",
       "    }\n",
       "  })({\"config\": {\"view\": {\"continuousWidth\": 400, \"continuousHeight\": 300}, \"axis\": {\"domainColor\": \"#cbcbcb\", \"grid\": true, \"gridColor\": \"#cbcbcb\", \"gridWidth\": 1, \"labelColor\": \"#474747\", \"labelFont\": \"Nunito Sans\", \"labelFontSize\": 10, \"labelPadding\": 4, \"tickColor\": \"#cbcbcb\", \"tickSize\": 10, \"titleColor\": \"#333\", \"titleFont\": \"Raleway\", \"titleFontSize\": 12, \"titlePadding\": 10}, \"axisBand\": {\"grid\": false}, \"background\": \"white\", \"font\": \"Raleway\", \"header\": {\"labelFont\": \"Nunito Sans\", \"titleFont\": \"Raleway\"}, \"legend\": {\"labelColor\": \"#333\", \"labelFont\": \"Nunito Sans\", \"labelFontSize\": 11, \"labelLimit\": 0, \"padding\": 1, \"symbolSize\": 30, \"symbolType\": \"square\", \"titleColor\": \"#333\", \"titleFont\": \"Raleway\", \"titleFontSize\": 14, \"titlePadding\": 10}, \"title\": {\"anchor\": \"middle\", \"font\": \"Raleway\", \"fontSize\": 18, \"fontWeight\": 300, \"offset\": 20}}, \"data\": {\"name\": \"data-699c03d655d205f3a79793f4900e49c2\"}, \"mark\": {\"type\": \"bar\", \"size\": 50}, \"encoding\": {\"x\": {\"field\": \"service_date\", \"timeUnit\": \"quarter\", \"type\": \"temporal\"}, \"y\": {\"field\": \"value\", \"type\": \"quantitative\"}}, \"selection\": {\"selector002\": {\"type\": \"interval\", \"bind\": \"scales\", \"encodings\": [\"x\", \"y\"]}}, \"$schema\": \"https://vega.github.io/schema/vega-lite/v4.17.0.json\", \"datasets\": {\"data-699c03d655d205f3a79793f4900e49c2\": [{\"category\": \"On SHN\", \"service_date\": \"2022-05-04\", \"variable\": \"total_service_hours\", \"value\": 15636.0}, {\"category\": \"On SHN\", \"service_date\": \"2022-08-17\", \"variable\": \"total_service_hours\", \"value\": 15636.0}]}}, {\"mode\": \"vega-lite\"});\n",
       "</script>"
      ],
      "text/plain": [
       "alt.Chart(...)"
      ]
     },
     "execution_count": 37,
     "metadata": {},
     "output_type": "execute_result"
    }
   ],
   "source": [
    "time_series_bar_by_category(service_hours_df2,\n",
    "                            variable = \"total_service_hours\",\n",
    "                            x_col = \"quarter(service_date)\",\n",
    "                            y_col = \"value\"\n",
    "                           )"
   ]
  },
  {
   "cell_type": "code",
   "execution_count": null,
   "id": "a1480632-e638-4e40-a5b0-caef8219fdb4",
   "metadata": {},
   "outputs": [],
   "source": []
  },
  {
   "cell_type": "code",
   "execution_count": null,
   "id": "d3900e04-38b8-4d8a-9528-975b517f89ef",
   "metadata": {},
   "outputs": [],
   "source": []
  },
  {
   "cell_type": "code",
   "execution_count": null,
   "id": "a9be1e56-3364-4476-8e99-0a88e20f11ec",
   "metadata": {},
   "outputs": [],
   "source": [
    "def change_from_prior(current: pd.DataFrame, prior: pd.DataFrame, \n",
    "                      col: str) -> pd.DataFrame:\n",
    "    keep_cols = [\"category\", col]\n",
    "    \n",
    "    current2 = current[keep_cols].rename(columns={col: \"current\"})\n",
    "    prior2 = prior[keep_cols].rename(columns={col: \"prior\"})\n",
    "                  \n",
    "    df = pd.merge(current2, prior2, on = \"category\", how = \"inner\")\n",
    "    \n",
    "    df = df.assign(\n",
    "        change = df.current - df.prior,\n",
    "        pct_change = (df.current - df.prior).divide(df.prior)\n",
    "    )\n",
    "        \n",
    "    df_style = (pmac_utils.sort_by_column(df)\n",
    "           .style.format(\n",
    "               subset=['current', 'prior', 'change'], \n",
    "               **{'formatter': '{:,}'})\n",
    "                .format(\n",
    "                    subset=['pct_change'],\n",
    "                    **{'formatter': '{:,.3f}'}\n",
    "                )\n",
    "                .set_properties(\n",
    "                    subset=['current', 'prior', 'change', 'pct_change'], \n",
    "                    **{'text-align': 'center'})\n",
    "                .set_properties(\n",
    "                    subset='category',\n",
    "                    **{'text-align': 'left'}\n",
    "                )\n",
    "                .set_table_styles([dict(selector='th', \n",
    "                                        props=[('text-align', 'center')])\n",
    "                                        ])\n",
    "           .hide(axis=\"index\")\n",
    "           .to_html()\n",
    "          )\n",
    "    \n",
    "    display(HTML(df_style))\n",
    "    \n",
    "    return df"
   ]
  },
  {
   "cell_type": "code",
   "execution_count": null,
   "id": "bab7f691-fec3-4c5e-9042-e9ff6d8246a6",
   "metadata": {},
   "outputs": [],
   "source": [
    "service_hours_df = change_from_prior(dfs[\"Q2_2022\"], dfs[\"Q1_2022\"], \"total_service_hours\")"
   ]
  },
  {
   "cell_type": "code",
   "execution_count": null,
   "id": "24373ead-01da-4f97-afc1-77a780a16109",
   "metadata": {},
   "outputs": [],
   "source": [
    "unique_route_df = change_from_prior(dfs[\"Q2_2022\"], dfs[\"Q1_2022\"], \"unique_route\")"
   ]
  },
  {
   "cell_type": "code",
   "execution_count": null,
   "id": "aef85c8c-8677-4373-a218-9cac0510a45f",
   "metadata": {},
   "outputs": [],
   "source": [
    "def make_grouped_bar_chart(df: pd.DataFrame, \n",
    "                           x_col: str, y_col: str, \n",
    "                           group_col: str = \"category\"\n",
    "                          ) -> alt.Chart:\n",
    "    \n",
    "    chart = (alt.Chart(df)\n",
    "             .mark_bar()\n",
    "             .encode(\n",
    "                 x=alt.X(x_col, title=\"\"),\n",
    "                 y=alt.Y(y_col, \n",
    "                         title=y_col),\n",
    "                 column=alt.Column(group_col, \n",
    "                                   title=group_col,\n",
    "                                   sort=[\"On SHN\", \"Intersects SHN\"]\n",
    "                                  ),\n",
    "                 color=alt.Color(f\"{x_col}:N\", scale=alt.Scale(\n",
    "                     range=cp.CALITP_CATEGORY_BRIGHT_COLORS))\n",
    "             )\n",
    "            )\n",
    "    \n",
    "    return chart"
   ]
  },
  {
   "cell_type": "code",
   "execution_count": null,
   "id": "66d4d4bd-091d-446d-adc7-2a127202ec30",
   "metadata": {},
   "outputs": [],
   "source": [
    "include_me = [\"On SHN\", \"Intersects SHN\"]"
   ]
  },
  {
   "cell_type": "code",
   "execution_count": null,
   "id": "49ff1d75-b455-4fe4-9c95-c4a1b53ce24d",
   "metadata": {},
   "outputs": [],
   "source": [
    "make_grouped_bar_chart(\n",
    "    service_hours_df[service_hours_df.category.isin(include_me)], \n",
    "    x_col=\"qtr\", y_col=\"total_service_hours\", group_col=\"category\")"
   ]
  },
  {
   "cell_type": "code",
   "execution_count": null,
   "id": "cc1e0b65-4b7f-40ec-9855-df283f30c701",
   "metadata": {},
   "outputs": [],
   "source": []
  }
 ],
 "metadata": {
  "kernelspec": {
   "display_name": "Python 3 (ipykernel)",
   "language": "python",
   "name": "python3"
  },
  "language_info": {
   "codemirror_mode": {
    "name": "ipython",
    "version": 3
   },
   "file_extension": ".py",
   "mimetype": "text/x-python",
   "name": "python",
   "nbconvert_exporter": "python",
   "pygments_lexer": "ipython3",
   "version": "3.10.5"
  }
 },
 "nbformat": 4,
 "nbformat_minor": 5
}
