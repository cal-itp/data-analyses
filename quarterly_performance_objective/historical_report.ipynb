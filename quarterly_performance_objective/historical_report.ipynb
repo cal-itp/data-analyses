{
 "cells": [
  {
   "cell_type": "markdown",
   "id": "0801efda-e075-4826-a167-a8e54a8167fb",
   "metadata": {},
   "source": [
    "# Historical Trends\n",
    "\n",
    "<b>01 - Increase total amount of service on the SHN and reliability of that service by 2024</b>\n",
    "\n",
    "## Routes on the State Highway Network (SHN)\n",
    "Transit routes along the SHN can be categorized into 3 groups:\n",
    "1. **On SHN** - where at least 20% of the transit route runs the SHN (within 50 ft) \n",
    "2. **Intersects SHN** - where at least 35% of the transit route runs within 0.5 mile of the SHN.\n",
    "3. **Other** - all other transit routes.\n",
    "\n",
    "## Metrics\n",
    "* service hours, service hours per route\n",
    "* delay hours, delay hours per route\n",
    "\n",
    "The metrics are shown for for transit routes **on the SHN** and **intersects SHN**."
   ]
  },
  {
   "cell_type": "code",
   "execution_count": null,
   "id": "34d1396e-e0c7-4804-8647-4aae76cc300c",
   "metadata": {},
   "outputs": [],
   "source": [
    "%%capture\n",
    "import warnings\n",
    "warnings.filterwarnings('ignore')\n",
    "\n",
    "import altair as alt\n",
    "import calitp_data_analysis.magics\n",
    "import pandas as pd\n",
    "\n",
    "import report_metrics\n",
    "from shared_utils import rt_dates, portfolio_utils\n",
    "from calitp_data_analysis import calitp_color_palette as cp\n",
    "from calitp_data_analysis import styleguide\n",
    "from bus_service_utils import chart_utils"
   ]
  },
  {
   "cell_type": "code",
   "execution_count": null,
   "id": "c5fb6bec-7aa3-4ee2-97a2-21f5713df370",
   "metadata": {},
   "outputs": [],
   "source": [
    "quarterly_metrics_dict"
   ]
  },
  {
   "cell_type": "code",
   "execution_count": null,
   "id": "cc1eeb8f-d2ae-4152-8624-a7a10012d6bf",
   "metadata": {},
   "outputs": [],
   "source": [
    "quarterly_metrics_dict = {k: v for k, v in rt_dates.PMAC.items() \n",
    "                          if \"2022\" not in k  and k != \"Q1_2023\"}\n",
    "\n",
    "summary_df = report_metrics.concatenate_summary_across_dates(\n",
    "    quarterly_metrics_dict, summary_dataset = \"summary\")"
   ]
  },
  {
   "cell_type": "code",
   "execution_count": null,
   "id": "ba2aff18-9a0a-40cc-8bfd-5ef655e64071",
   "metadata": {},
   "outputs": [],
   "source": [
    "def get_statewide_averages(df: pd.DataFrame) -> pd.DataFrame:\n",
    "\n",
    "    var_list = [\"service_hours\", \"delay_hours\", \n",
    "                \"unique_route\", \"delay_unique_route\"]\n",
    "\n",
    "    group_cols = [\"year_quarter\", \"service_date\", \"year\", \"quarter\"]\n",
    "\n",
    "    all_routes = portfolio_utils.aggregate_by_geography(\n",
    "        df[df.variable.isin(var_list)],\n",
    "        group_cols + [\"variable\"],\n",
    "        sum_cols = [\"value\"]\n",
    "    )\n",
    "    \n",
    "    # Make wide, to calculate average again\n",
    "    all_routes2 = pd.pivot(all_routes, \n",
    "         index = group_cols, \n",
    "         columns = \"variable\", values = \"value\"\n",
    "        ).reset_index()\n",
    "    \n",
    "    all_routes2 = all_routes2.assign(\n",
    "        service_hours_per_route = (all_routes2.service_hours.divide(\n",
    "            all_routes2.unique_route)).round(2), \n",
    "        delay_hours_per_route = (all_routes2.delay_hours.divide(\n",
    "            all_routes2.delay_unique_route)).round(2),\n",
    "        category = \"All\"\n",
    "    )\n",
    "    \n",
    "    #https://stackoverflow.com/questions/55027108/pandas-rename-index\n",
    "    # Get rid of column name\n",
    "    all_routes2.columns.name = \"\"\n",
    "    \n",
    "    # Wrangle back to long!\n",
    "    value_vars = [c for c in all_routes2.columns if c != \"category\" and \n",
    "                  c not in group_cols\n",
    "                 ]\n",
    "\n",
    "    all_routes3 = pd.melt(\n",
    "        all_routes2, \n",
    "        id_vars = group_cols + [\"category\"],\n",
    "        var_name = \"variable\",\n",
    "        value_vars = value_vars \n",
    "    )\n",
    "    \n",
    "    return all_routes3"
   ]
  },
  {
   "cell_type": "code",
   "execution_count": null,
   "id": "a65763be-f6e8-4ea4-bcf0-62e0ce3dd811",
   "metadata": {},
   "outputs": [],
   "source": [
    "statewide_avg = get_statewide_averages(summary_df)"
   ]
  },
  {
   "cell_type": "code",
   "execution_count": null,
   "id": "b9b7e294-74b9-451d-b169-6eca6a649d72",
   "metadata": {},
   "outputs": [],
   "source": [
    "# chart utils\n",
    "HEIGHT = 250\n",
    "WIDTH = 200\n",
    "\n",
    "def base_quarterly_bar(df: pd.DataFrame, variable: str,\n",
    "                       x_col: str, y_col: str) -> alt.Chart:\n",
    "        \n",
    "    bar = (alt.Chart(df)\n",
    "           .mark_bar()\n",
    "           .encode(\n",
    "               x=alt.X(f\"{x_col}:O\", \n",
    "                       #axis=alt.Axis(format=f'%Y Q%q'), \n",
    "                       title = None),\n",
    "               y=alt.Y(f\"{y_col}:Q\", title = chart_utils.labeling(variable)),\n",
    "           )\n",
    "          )\n",
    "           \n",
    "    return bar"
   ]
  },
  {
   "cell_type": "code",
   "execution_count": null,
   "id": "bcf6de1e-b4e2-488b-8310-e9fe7e82184a",
   "metadata": {},
   "outputs": [],
   "source": [
    "def quarterly_bar_for_category(\n",
    "    df: pd.DataFrame, \n",
    "    variable_list: list = [\"service_hours\", \"delay_hours\"], \n",
    "    category: str = \"On SHN\",\n",
    "    x_col: str = \"year_quarter\", \n",
    "    y_col: str = \"value\", \n",
    "    chart_height: int = 200, chart_width: int = 500,\n",
    ") -> alt.Chart: \n",
    "    \"\"\"\n",
    "    Plot quarterly metrics within the same category.\n",
    "    Ex: for all routes on SHN, show service hours, delay hours, \n",
    "    avg service hours, etc\n",
    "    \"\"\"\n",
    "    subset = df[(df.variable.isin(variable_list)) & (df.category==category)]\n",
    "   \n",
    "    var1 = variable_list[0]\n",
    "    df1 = subset[subset.variable==var1]\n",
    "    var2 = variable_list[1]\n",
    "    df2 = subset[subset.variable==var2]\n",
    "\n",
    "    category = df1.category.iloc[0]\n",
    "    \n",
    "    color_dict = {\n",
    "        \"On SHN\": cp.CALITP_CATEGORY_BRIGHT_COLORS[4],\n",
    "        \"Intersects SHN\": cp.CALITP_CATEGORY_BRIGHT_COLORS[3],\n",
    "        \"All\": cp.CALITP_CATEGORY_BRIGHT_COLORS[0],\n",
    "        \"service_hours\": cp.CALITP_CATEGORY_BRIGHT_COLORS[4], # light blue\n",
    "        \"delay_hours\": cp.CALITP_CATEGORY_BRIGHT_COLORS[1], # light orange\n",
    "        \"service_hours_per_route\": cp.CALITP_CATEGORY_BRIGHT_COLORS[0], # med blue\n",
    "        \"delay_hours_per_route\": cp.CALITP_CATEGORY_BOLD_COLORS[1], # dark orange\n",
    "    }\n",
    "    \n",
    "    tooltip = ['year', 'quarter', 'year_quarter', \n",
    "               'variable', 'category', 'value']\n",
    "    \n",
    "    bar1 = (base_quarterly_bar(df1, var1, x_col, y_col)\n",
    "            .encode(color = alt.value(color_dict[var1]), \n",
    "                    tooltip = tooltip)\n",
    "            .properties(title={\n",
    "                \"text\": f\"{chart_utils.labeling(var1)}\",\n",
    "                \"subtitle\": f\"{category}\"\n",
    "            }, width = chart_width, height = chart_height)\n",
    "            .interactive()\n",
    "           )\n",
    "    \n",
    "    bar2 = (base_quarterly_bar(df2, var2, x_col, y_col)\n",
    "            .encode(color=alt.value(color_dict[var2]), \n",
    "                    tooltip = tooltip)\n",
    "            .properties(title={\n",
    "                \"text\": f\"{chart_utils.labeling(var2)}\",\n",
    "                \"subtitle\": f\"{category}\"\n",
    "            }, width = chart_width, height = chart_height)\n",
    "            .interactive()\n",
    "           )\n",
    "    \n",
    "    if var1 == \"service_hours\":\n",
    "        space = 0\n",
    "    else:\n",
    "        space = 25\n",
    "    combined = (styleguide.apply_chart_config(alt.hconcat(bar1, bar2, \n",
    "                                                          spacing=space))\n",
    "                .resolve_scale(y=\"independent\")\n",
    "               )\n",
    "\n",
    "    return combined"
   ]
  },
  {
   "cell_type": "markdown",
   "id": "38b33eff-e35d-45f6-8338-efc20fe77e12",
   "metadata": {},
   "source": [
    "## All Routes"
   ]
  },
  {
   "cell_type": "code",
   "execution_count": null,
   "id": "a71a4b63-f133-4800-b754-3c5390425960",
   "metadata": {},
   "outputs": [],
   "source": [
    "category = \"All\"\n",
    "var_list = [\"service_hours_per_route\", \"delay_hours_per_route\"]\n",
    "\n",
    "s1 = quarterly_bar_for_category(\n",
    "    statewide_avg,\n",
    "    variable_list = var_list, \n",
    "    category = category,\n",
    "    x_col = \"year_quarter\",\n",
    "    y_col = \"value\",\n",
    "    chart_height = HEIGHT, chart_width = WIDTH\n",
    ")\n",
    "\n",
    "\n",
    "var_list = [\"service_hours\", \"delay_hours\"]\n",
    "\n",
    "s2 = quarterly_bar_for_category(\n",
    "    statewide_avg,\n",
    "    variable_list = var_list, \n",
    "    category = category,\n",
    "    x_col = \"year_quarter\",\n",
    "    y_col = \"value\",\n",
    "    chart_height = HEIGHT, chart_width = WIDTH\n",
    ")"
   ]
  },
  {
   "cell_type": "code",
   "execution_count": null,
   "id": "c73c9542-f54d-44ee-92cc-80a751864de8",
   "metadata": {},
   "outputs": [],
   "source": [
    "s1"
   ]
  },
  {
   "cell_type": "code",
   "execution_count": null,
   "id": "3928dcc1-58e7-4a1b-b91f-8e8c5044eb7c",
   "metadata": {},
   "outputs": [],
   "source": [
    "s2"
   ]
  },
  {
   "cell_type": "markdown",
   "id": "aa5564b6-6056-4dbc-8f36-193d7cf9043c",
   "metadata": {},
   "source": [
    "## Routes on SHN"
   ]
  },
  {
   "cell_type": "code",
   "execution_count": null,
   "id": "b3b929dd-f394-457f-b57d-2a292f7f3fd8",
   "metadata": {},
   "outputs": [],
   "source": [
    "category = \"On SHN\"\n",
    "var_list = [\"service_hours_per_route\", \"delay_hours_per_route\"]\n",
    "\n",
    "o1 = quarterly_bar_for_category(\n",
    "    summary_df,\n",
    "    variable_list = var_list, \n",
    "    category = category,\n",
    "    x_col = \"year_quarter\",\n",
    "    y_col = \"value\",\n",
    "    chart_height = HEIGHT, chart_width = WIDTH\n",
    ")\n",
    "\n",
    "var_list = [\"service_hours\", \"delay_hours\"]\n",
    "\n",
    "o2 = quarterly_bar_for_category(\n",
    "    summary_df,\n",
    "    variable_list = var_list, \n",
    "    category = category,\n",
    "    x_col = \"year_quarter\",\n",
    "    y_col = \"value\",\n",
    "    chart_height = HEIGHT, chart_width = WIDTH\n",
    ")"
   ]
  },
  {
   "cell_type": "code",
   "execution_count": null,
   "id": "e8990963-9167-439b-a929-e6ef9107256e",
   "metadata": {},
   "outputs": [],
   "source": [
    "o1"
   ]
  },
  {
   "cell_type": "code",
   "execution_count": null,
   "id": "6f154b08-d722-4959-be45-32bd93560576",
   "metadata": {},
   "outputs": [],
   "source": [
    "o2"
   ]
  },
  {
   "cell_type": "markdown",
   "id": "e69f82d3-0dd4-454c-b89b-70f290c6f590",
   "metadata": {},
   "source": [
    "## Routes Intersecting SHN"
   ]
  },
  {
   "cell_type": "code",
   "execution_count": null,
   "id": "9243c9f7-d096-4c2f-bc24-c3947ef2e1aa",
   "metadata": {},
   "outputs": [],
   "source": [
    "category = \"Intersects SHN\"\n",
    "var_list = [\"service_hours_per_route\", \"delay_hours_per_route\"]\n",
    "\n",
    "i1 = quarterly_bar_for_category(\n",
    "    summary_df,\n",
    "    variable_list = var_list, \n",
    "    category = category,\n",
    "    x_col = \"year_quarter\",\n",
    "    y_col = \"value\",\n",
    "    chart_height = HEIGHT, chart_width = WIDTH\n",
    ")\n",
    "\n",
    "var_list = [\"service_hours\", \"delay_hours\"]\n",
    "\n",
    "i2 = quarterly_bar_for_category(\n",
    "    summary_df,\n",
    "    variable_list = var_list, \n",
    "    category = category,\n",
    "    x_col = \"year_quarter\",\n",
    "    y_col = \"value\",\n",
    "    chart_height = HEIGHT, chart_width = WIDTH\n",
    ")\n"
   ]
  },
  {
   "cell_type": "code",
   "execution_count": null,
   "id": "e7b40537-948b-4871-95b7-f73d3cd20410",
   "metadata": {},
   "outputs": [],
   "source": [
    "i1"
   ]
  },
  {
   "cell_type": "code",
   "execution_count": null,
   "id": "91447b75-d247-4bf5-b522-7b9f22a94a17",
   "metadata": {},
   "outputs": [],
   "source": [
    "i2"
   ]
  },
  {
   "cell_type": "markdown",
   "id": "60fc11da-799b-46d6-b682-5158c4705fe9",
   "metadata": {},
   "source": [
    "## Routes on SHN by District"
   ]
  },
  {
   "cell_type": "code",
   "execution_count": null,
   "id": "ca1363fb-8fd9-4578-a466-7105c21c4170",
   "metadata": {},
   "outputs": [],
   "source": [
    "district_df = report_metrics.concatenate_summary_across_dates(\n",
    "    quarterly_metrics_dict, summary_dataset = \"district\")"
   ]
  },
  {
   "cell_type": "code",
   "execution_count": null,
   "id": "497496fb-63d6-4fa8-a4d1-d3e8fd3673dc",
   "metadata": {},
   "outputs": [],
   "source": [
    "def facet_by_district(df: pd.DataFrame, variable: str) -> alt.Chart:\n",
    "    subset = df[df.variable == variable]\n",
    "    \n",
    "    bar = (alt.Chart(subset)\n",
    "          .mark_bar()\n",
    "          .encode(\n",
    "              x=alt.X(f\"year_quarter:O\"),\n",
    "              y = alt.Y(\"value:Q\", title=f\"{variable.replace('_', ' '.title())}\"),\n",
    "              color = alt.Color(\"district:N\", title=None, \n",
    "                                scale = alt.Scale(\n",
    "                                   range = cp.CALITP_CATEGORY_BRIGHT_COLORS + \n",
    "                                   cp.CALITP_CATEGORY_BOLD_COLORS), legend=None),\n",
    "              tooltip = [\"district\", \"year_quarter\", \"value\", \"variable\"]\n",
    "          ).facet(facet=\"district:N\", columns = 1, spacing=10, \n",
    "                  title = f\"{variable.replace('_', ' ').title()}\")\n",
    "          .interactive()\n",
    "         )\n",
    "    \n",
    "    return bar"
   ]
  },
  {
   "cell_type": "code",
   "execution_count": null,
   "id": "8fa9eef8-ee56-42cf-9110-e445f223025d",
   "metadata": {},
   "outputs": [],
   "source": [
    "bar1 = facet_by_district(district_df, \"avg_service_hours\")\n",
    "bar2 = facet_by_district(district_df, \"avg_delay_hours\")\n",
    "\n",
    "district_chart = styleguide.apply_chart_config(alt.hconcat(bar1, bar2))\n",
    "district_chart"
   ]
  },
  {
   "cell_type": "code",
   "execution_count": null,
   "id": "a0f0c816-03dc-41ca-81b7-8a6c11930c52",
   "metadata": {},
   "outputs": [],
   "source": []
  }
 ],
 "metadata": {
  "kernelspec": {
   "display_name": "Python 3 (ipykernel)",
   "language": "python",
   "name": "python3"
  },
  "language_info": {
   "codemirror_mode": {
    "name": "ipython",
    "version": 3
   },
   "file_extension": ".py",
   "mimetype": "text/x-python",
   "name": "python",
   "nbconvert_exporter": "python",
   "pygments_lexer": "ipython3",
   "version": "3.9.13"
  }
 },
 "nbformat": 4,
 "nbformat_minor": 5
}
