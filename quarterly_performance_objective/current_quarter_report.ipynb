{
 "cells": [
  {
   "cell_type": "markdown",
   "id": "aba3b0aa-73bf-4a8d-b4ee-64ecc98196fc",
   "metadata": {},
   "source": [
    "# Current Quarter\n",
    "\n",
    "<b>01 - Increase total amount of service on the SHN and reliability of that service by 2024</b>\n",
    "\n",
    "## Routes on the State Highway Network (SHN)\n",
    "\n",
    "Transit routes along the SHN can be categorized into 3 groups:\n",
    "1. **On SHN** - where at least 20% of the transit route runs the SHN (within 50 ft) \n",
    "2. **Intersects SHN** - where at least 35% of the transit route runs within 0.5 mile of the SHN.\n",
    "3. **Other** - all other transit routes.\n",
    "\n",
    "### Metrics\n",
    "* service hours, service hours per route\n",
    "* delay hours, delay hours per route\n",
    "* map of route by category (and by mode)\n",
    "\n",
    "The metrics are shown for for transit routes **on the SHN** and **intersects SHN**."
   ]
  },
  {
   "cell_type": "code",
   "execution_count": 1,
   "id": "792ee3df-ebcb-4bf7-a7f2-f7f903efe126",
   "metadata": {},
   "outputs": [],
   "source": [
    "%%capture\n",
    "import warnings\n",
    "warnings.filterwarnings('ignore')\n",
    "\n",
    "import altair as alt\n",
    "import calitp_data_analysis.magics\n",
    "import geopandas as gpd\n",
    "import intake\n",
    "import pandas as pd\n",
    "\n",
    "from IPython.display import HTML\n",
    "\n",
    "import C1_report_metrics as report_metrics\n",
    "import C2_report_charts as report_charts\n",
    "from update_vars import BUS_SERVICE_GCS, CURRENT_QUARTER, ANALYSIS_DATE\n",
    "from shared_utils import portfolio_utils, rt_dates\n",
    "from calitp_data_analysis import calitp_color_palette as cp\n",
    "from calitp_data_analysis import styleguide\n",
    "\n",
    "hq_catalog = intake.open_catalog(\"../high_quality_transit_areas/*.yml\")"
   ]
  },
  {
   "cell_type": "code",
   "execution_count": 2,
   "id": "a15fcf6a-b0d4-47f0-be78-118ddf43ab91",
   "metadata": {
    "tags": [
     "parameters"
    ]
   },
   "outputs": [],
   "source": [
    "# parameters cell"
   ]
  },
  {
   "cell_type": "code",
   "execution_count": 3,
   "id": "e00a8689-f56e-47d4-bd4a-6795122a1e86",
   "metadata": {},
   "outputs": [
    {
     "name": "stdout",
     "output_type": "stream",
     "text": [
      "{\"CURRENT_QUARTER\": \"Q4_2023\", \"ANALYSIS_DATE\": \"2023-10-11\", \"QUARTER_CLEANED\": \"Q4 2023\"}\n"
     ]
    }
   ],
   "source": [
    "%%capture_parameters\n",
    "QUARTER_CLEANED = CURRENT_QUARTER.replace('_', ' ')\n",
    "CURRENT_QUARTER, ANALYSIS_DATE, QUARTER_CLEANED"
   ]
  },
  {
   "cell_type": "code",
   "execution_count": 4,
   "id": "add13293-3d9d-40e0-b1fb-c50b89fe84de",
   "metadata": {},
   "outputs": [],
   "source": [
    "df = report_metrics.prep_data_for_report(ANALYSIS_DATE)"
   ]
  },
  {
   "cell_type": "markdown",
   "id": "c22bad3d-2f2c-4e1c-8aae-edc59377410a",
   "metadata": {},
   "source": [
    "## Statewide Stats for {QUARTER_CLEANED} ({ANALYSIS_DATE})"
   ]
  },
  {
   "cell_type": "code",
   "execution_count": 5,
   "id": "79217ca7-e3d6-46eb-b5f9-4bf79c230f24",
   "metadata": {},
   "outputs": [],
   "source": [
    "summary = report_metrics.get_service_hours_summary_table(df)  "
   ]
  },
  {
   "cell_type": "code",
   "execution_count": 6,
   "id": "92e49d50-009f-4b2e-9661-688b81c38694",
   "metadata": {},
   "outputs": [],
   "source": [
    "all_hours = portfolio_utils.aggregate_by_geography(\n",
    "    summary.assign(category=\"All\"),\n",
    "    group_cols = [\"category\"],\n",
    "    sum_cols = [\"unique_route\", \"service_hours\"]\n",
    ")"
   ]
  },
  {
   "cell_type": "code",
   "execution_count": 7,
   "id": "5ef150ae-3dda-42ec-af43-13b36df5e231",
   "metadata": {},
   "outputs": [
    {
     "data": {
      "text/html": [
       "<h3>87,240.0 total service hours statewide</h3><h3>34.0 service hours per route statewide</h3>"
      ],
      "text/plain": [
       "<IPython.core.display.HTML object>"
      ]
     },
     "metadata": {},
     "output_type": "display_data"
    }
   ],
   "source": [
    "STATEWIDE_HOURS = all_hours.service_hours.iloc[0]\n",
    "FORMATTED_HOURS = f'{STATEWIDE_HOURS:,}' \n",
    "AVG_SERVICE = round(STATEWIDE_HOURS / all_hours.unique_route.iloc[0], 1)\n",
    "\n",
    "display(\n",
    "    HTML(\n",
    "        f\"<h3>{FORMATTED_HOURS} total service hours statewide</h3>\"\n",
    "        f\"<h3>{AVG_SERVICE} service hours per route statewide</h3>\"\n",
    "\n",
    "    )\n",
    ")"
   ]
  },
  {
   "cell_type": "code",
   "execution_count": 8,
   "id": "78da2714-2999-4763-ab71-b041a68c5d68",
   "metadata": {},
   "outputs": [
    {
     "data": {
      "text/html": [
       "\n",
       "<style>\n",
       "  #altair-viz-39c2b14e053e41998fe07e4547aa6e3f.vega-embed {\n",
       "    width: 100%;\n",
       "    display: flex;\n",
       "  }\n",
       "\n",
       "  #altair-viz-39c2b14e053e41998fe07e4547aa6e3f.vega-embed details,\n",
       "  #altair-viz-39c2b14e053e41998fe07e4547aa6e3f.vega-embed details summary {\n",
       "    position: relative;\n",
       "  }\n",
       "</style>\n",
       "<div id=\"altair-viz-39c2b14e053e41998fe07e4547aa6e3f\"></div>\n",
       "<script type=\"text/javascript\">\n",
       "  var VEGA_DEBUG = (typeof VEGA_DEBUG == \"undefined\") ? {} : VEGA_DEBUG;\n",
       "  (function(spec, embedOpt){\n",
       "    let outputDiv = document.currentScript.previousElementSibling;\n",
       "    if (outputDiv.id !== \"altair-viz-39c2b14e053e41998fe07e4547aa6e3f\") {\n",
       "      outputDiv = document.getElementById(\"altair-viz-39c2b14e053e41998fe07e4547aa6e3f\");\n",
       "    }\n",
       "    const paths = {\n",
       "      \"vega\": \"https://cdn.jsdelivr.net/npm/vega@5?noext\",\n",
       "      \"vega-lib\": \"https://cdn.jsdelivr.net/npm/vega-lib?noext\",\n",
       "      \"vega-lite\": \"https://cdn.jsdelivr.net/npm/vega-lite@5.14.1?noext\",\n",
       "      \"vega-embed\": \"https://cdn.jsdelivr.net/npm/vega-embed@6?noext\",\n",
       "    };\n",
       "\n",
       "    function maybeLoadScript(lib, version) {\n",
       "      var key = `${lib.replace(\"-\", \"\")}_version`;\n",
       "      return (VEGA_DEBUG[key] == version) ?\n",
       "        Promise.resolve(paths[lib]) :\n",
       "        new Promise(function(resolve, reject) {\n",
       "          var s = document.createElement('script');\n",
       "          document.getElementsByTagName(\"head\")[0].appendChild(s);\n",
       "          s.async = true;\n",
       "          s.onload = () => {\n",
       "            VEGA_DEBUG[key] = version;\n",
       "            return resolve(paths[lib]);\n",
       "          };\n",
       "          s.onerror = () => reject(`Error loading script: ${paths[lib]}`);\n",
       "          s.src = paths[lib];\n",
       "        });\n",
       "    }\n",
       "\n",
       "    function showError(err) {\n",
       "      outputDiv.innerHTML = `<div class=\"error\" style=\"color:red;\">${err}</div>`;\n",
       "      throw err;\n",
       "    }\n",
       "\n",
       "    function displayChart(vegaEmbed) {\n",
       "      vegaEmbed(outputDiv, spec, embedOpt)\n",
       "        .catch(err => showError(`Javascript Error: ${err.message}<br>This usually means there's a typo in your chart specification. See the javascript console for the full traceback.`));\n",
       "    }\n",
       "\n",
       "    if(typeof define === \"function\" && define.amd) {\n",
       "      requirejs.config({paths});\n",
       "      require([\"vega-embed\"], displayChart, err => showError(`Error loading script: ${err.message}`));\n",
       "    } else {\n",
       "      maybeLoadScript(\"vega\", \"5\")\n",
       "        .then(() => maybeLoadScript(\"vega-lite\", \"5.14.1\"))\n",
       "        .then(() => maybeLoadScript(\"vega-embed\", \"6\"))\n",
       "        .catch(showError)\n",
       "        .then(() => displayChart(vegaEmbed));\n",
       "    }\n",
       "  })({\"config\": {\"view\": {\"continuousWidth\": 300, \"continuousHeight\": 300}, \"axis\": {\"domainColor\": \"#cbcbcb\", \"grid\": true, \"gridColor\": \"#cbcbcb\", \"gridWidth\": 1, \"labelColor\": \"#474747\", \"labelFont\": \"Nunito Sans\", \"labelFontSize\": 10, \"labelPadding\": 4, \"tickColor\": \"#cbcbcb\", \"tickSize\": 10, \"titleColor\": \"#333\", \"titleFont\": \"Raleway\", \"titleFontSize\": 12, \"titlePadding\": 10}, \"axisBand\": {\"grid\": false}, \"background\": \"white\", \"font\": \"Raleway\", \"header\": {\"labelFont\": \"Nunito Sans\", \"titleFont\": \"Raleway\"}, \"legend\": {\"labelColor\": \"#333\", \"labelFont\": \"Nunito Sans\", \"labelFontSize\": 11, \"labelLimit\": 0, \"padding\": 1, \"symbolSize\": 30, \"symbolType\": \"square\", \"titleColor\": \"#333\", \"titleFont\": \"Raleway\", \"titleFontSize\": 14, \"titlePadding\": 10}, \"title\": {\"anchor\": \"middle\", \"font\": \"Raleway\", \"fontSize\": 18, \"fontWeight\": 300, \"offset\": 20}}, \"hconcat\": [{\"mark\": {\"type\": \"bar\"}, \"encoding\": {\"color\": {\"field\": \"category\", \"scale\": {\"domain\": [\"On SHN\", \"Intersects SHN\", \"Other\"], \"range\": [\"#51BF9D\", \"#8CBCCB\", \"#EB9F3C\"]}, \"title\": \"Category\", \"type\": \"nominal\"}, \"x\": {\"field\": \"category\", \"sort\": [\"On SHN\", \"Intersects SHN\", \"Other\"], \"type\": \"nominal\"}, \"y\": {\"field\": \"service_hours_per_route\", \"title\": \"Service Hours Per Route\", \"type\": \"quantitative\"}}, \"height\": 200, \"title\": \"Service Hours Per Route by Category\", \"width\": 150}, {\"mark\": {\"type\": \"bar\"}, \"encoding\": {\"color\": {\"field\": \"category\", \"scale\": {\"domain\": [\"On SHN\", \"Intersects SHN\", \"Other\"], \"range\": [\"#51BF9D\", \"#8CBCCB\", \"#EB9F3C\"]}, \"title\": \"Category\", \"type\": \"nominal\"}, \"x\": {\"field\": \"category\", \"sort\": [\"On SHN\", \"Intersects SHN\", \"Other\"], \"type\": \"nominal\"}, \"y\": {\"field\": \"service_hours\", \"title\": \"Service Hours\", \"type\": \"quantitative\"}}, \"height\": 200, \"title\": \"Service Hours by Category\", \"width\": 150}], \"data\": {\"name\": \"data-6aaf946f634310d0836704c756a77328\"}, \"$schema\": \"https://vega.github.io/schema/vega-lite/v5.14.1.json\", \"datasets\": {\"data-6aaf946f634310d0836704c756a77328\": [{\"category\": \"On SHN\", \"service_hours\": 12997.0, \"unique_route\": 603, \"pct_service_hours\": 0.149, \"pct_unique_route\": 0.235, \"service_hours_per_route\": 21.55}, {\"category\": \"Intersects SHN\", \"service_hours\": 46693.0, \"unique_route\": 1291, \"pct_service_hours\": 0.535, \"pct_unique_route\": 0.503, \"service_hours_per_route\": 36.17}, {\"category\": \"Other\", \"service_hours\": 27550.0, \"unique_route\": 674, \"pct_service_hours\": 0.316, \"pct_unique_route\": 0.262, \"service_hours_per_route\": 40.88}]}}, {\"mode\": \"vega-lite\"});\n",
       "</script>"
      ],
      "text/plain": [
       "alt.HConcatChart(...)"
      ]
     },
     "execution_count": 8,
     "metadata": {},
     "output_type": "execute_result"
    }
   ],
   "source": [
    "# Chart utils\n",
    "HEIGHT = 200\n",
    "WIDTH = 150\n",
    "\n",
    "color_dict = {\n",
    "    \"On SHN\": cp.CALITP_CATEGORY_BRIGHT_COLORS[3],\n",
    "    \"Intersects SHN\": cp.CALITP_CATEGORY_BRIGHT_COLORS[4],\n",
    "    \"Other\": cp.CALITP_CATEGORY_BRIGHT_COLORS[1]\n",
    "}\n",
    "\n",
    "def make_bar_by_category(df: pd.DataFrame, x_col: str,\n",
    "                         y_col: str) -> alt.Chart:\n",
    "    \n",
    "    base_bar = report_charts.base_bar(df, x_col = x_col)\n",
    "    legend_sort_order = [\"On SHN\", \"Intersects SHN\", \"Other\"]\n",
    "    \n",
    "    y_title = y_col.replace('_', ' ').title()\n",
    "    \n",
    "    chart = base_bar.encode(\n",
    "        x = alt.X(x_col, sort = legend_sort_order),\n",
    "        y = alt.Y(f\"{y_col}:Q\", title = f\"{y_title}\"),\n",
    "        color = alt.Color(f\"{x_col}:N\", title = f\"{x_col.title()}\",\n",
    "                          scale = alt.Scale(domain = legend_sort_order,\n",
    "                              range = list(color_dict.values())))\n",
    "    )\n",
    "    \n",
    "    chart = (chart\n",
    "             .properties(width = WIDTH, height = HEIGHT, \n",
    "                         title= f\"{y_title} by Category\")\n",
    "            )\n",
    "    \n",
    "    return chart\n",
    "\n",
    "s1 = make_bar_by_category(summary, x_col = \"category\", \n",
    "                          y_col = \"service_hours_per_route\")\n",
    "s2 = make_bar_by_category(summary, x_col = \"category\", \n",
    "                          y_col = \"service_hours\")\n",
    "\n",
    "combined = alt.hconcat(s1, s2)\n",
    "combined = styleguide.apply_chart_config(combined)\n",
    "\n",
    "combined"
   ]
  },
  {
   "cell_type": "code",
   "execution_count": 9,
   "id": "81c94bf7-f55b-43e2-9204-ad70b45f61a2",
   "metadata": {},
   "outputs": [
    {
     "data": {
      "text/html": [
       "<style type=\"text/css\">\n",
       "#T_ddd69 th {\n",
       "  text-align: center;\n",
       "}\n",
       "#T_ddd69_row0_col0, #T_ddd69_row1_col0, #T_ddd69_row2_col0 {\n",
       "  text-align: left;\n",
       "}\n",
       "#T_ddd69_row0_col1, #T_ddd69_row0_col2, #T_ddd69_row0_col3, #T_ddd69_row0_col4, #T_ddd69_row0_col5, #T_ddd69_row1_col1, #T_ddd69_row1_col2, #T_ddd69_row1_col3, #T_ddd69_row1_col4, #T_ddd69_row1_col5, #T_ddd69_row2_col1, #T_ddd69_row2_col2, #T_ddd69_row2_col3, #T_ddd69_row2_col4, #T_ddd69_row2_col5 {\n",
       "  text-align: center;\n",
       "}\n",
       "</style>\n",
       "<table id=\"T_ddd69\">\n",
       "  <thead>\n",
       "    <tr>\n",
       "      <th id=\"T_ddd69_level0_col0\" class=\"col_heading level0 col0\" >Category</th>\n",
       "      <th id=\"T_ddd69_level0_col1\" class=\"col_heading level0 col1\" >Service Hours</th>\n",
       "      <th id=\"T_ddd69_level0_col2\" class=\"col_heading level0 col2\" ># Routes</th>\n",
       "      <th id=\"T_ddd69_level0_col3\" class=\"col_heading level0 col3\" >% Service Hours</th>\n",
       "      <th id=\"T_ddd69_level0_col4\" class=\"col_heading level0 col4\" >% Routes</th>\n",
       "      <th id=\"T_ddd69_level0_col5\" class=\"col_heading level0 col5\" >Service Hours per Route</th>\n",
       "    </tr>\n",
       "  </thead>\n",
       "  <tbody>\n",
       "    <tr>\n",
       "      <td id=\"T_ddd69_row0_col0\" class=\"data row0 col0\" >On SHN</td>\n",
       "      <td id=\"T_ddd69_row0_col1\" class=\"data row0 col1\" >12,997</td>\n",
       "      <td id=\"T_ddd69_row0_col2\" class=\"data row0 col2\" >603</td>\n",
       "      <td id=\"T_ddd69_row0_col3\" class=\"data row0 col3\" >14.9%</td>\n",
       "      <td id=\"T_ddd69_row0_col4\" class=\"data row0 col4\" >23.5%</td>\n",
       "      <td id=\"T_ddd69_row0_col5\" class=\"data row0 col5\" >21.6</td>\n",
       "    </tr>\n",
       "    <tr>\n",
       "      <td id=\"T_ddd69_row1_col0\" class=\"data row1 col0\" >Intersects SHN</td>\n",
       "      <td id=\"T_ddd69_row1_col1\" class=\"data row1 col1\" >46,693</td>\n",
       "      <td id=\"T_ddd69_row1_col2\" class=\"data row1 col2\" >1,291</td>\n",
       "      <td id=\"T_ddd69_row1_col3\" class=\"data row1 col3\" >53.5%</td>\n",
       "      <td id=\"T_ddd69_row1_col4\" class=\"data row1 col4\" >50.3%</td>\n",
       "      <td id=\"T_ddd69_row1_col5\" class=\"data row1 col5\" >36.2</td>\n",
       "    </tr>\n",
       "    <tr>\n",
       "      <td id=\"T_ddd69_row2_col0\" class=\"data row2 col0\" >Other</td>\n",
       "      <td id=\"T_ddd69_row2_col1\" class=\"data row2 col1\" >27,550</td>\n",
       "      <td id=\"T_ddd69_row2_col2\" class=\"data row2 col2\" >674</td>\n",
       "      <td id=\"T_ddd69_row2_col3\" class=\"data row2 col3\" >31.6%</td>\n",
       "      <td id=\"T_ddd69_row2_col4\" class=\"data row2 col4\" >26.2%</td>\n",
       "      <td id=\"T_ddd69_row2_col5\" class=\"data row2 col5\" >40.9</td>\n",
       "    </tr>\n",
       "  </tbody>\n",
       "</table>\n"
      ],
      "text/plain": [
       "<IPython.core.display.HTML object>"
      ]
     },
     "metadata": {},
     "output_type": "display_data"
    }
   ],
   "source": [
    "service_cols_dict = {\n",
    "    \"category\": \"Category\",\n",
    "    \"service_hours\": \"Service Hours\",\n",
    "    \"pct_service_hours\": \"% Service Hours\",\n",
    "    \"unique_route\": \"# Routes\",\n",
    "    \"pct_unique_route\": \"% Routes\",\n",
    "    \"service_hours_per_route\": \"Service Hours per Route\",\n",
    "}\n",
    "\n",
    "summary_styled = portfolio_utils.style_table(\n",
    "    summary, \n",
    "    rename_cols = service_cols_dict, \n",
    "    integer_cols = [\"Service Hours\", \"# Routes\"],\n",
    "    one_decimal_cols = [\"Service Hours per Route\"],\n",
    "    left_align_cols = \"first\",\n",
    "    center_align_cols = \"all\",\n",
    "    custom_format_cols = {'{:.1%}': [\"% Service Hours\", \"% Routes\"]},\n",
    "    display_table = True\n",
    ")"
   ]
  },
  {
   "cell_type": "markdown",
   "id": "4466056e-6c6e-437f-acec-f9e9323d5153",
   "metadata": {},
   "source": [
    "## Reliability (Delay)\n",
    "\n",
    "Note: Not every route has GTFS Real-Time information, which supplies delay data.\n",
    "\n",
    "**-- Work in progress --**"
   ]
  },
  {
   "cell_type": "code",
   "execution_count": 10,
   "id": "0867cb50-8fdc-43a7-a286-e3c782792cb3",
   "metadata": {},
   "outputs": [],
   "source": [
    "#delay_df = df[df.merge_delay==\"both\"]\n",
    "#delay_summary = report_metrics.get_delay_summary_table(delay_df)"
   ]
  },
  {
   "cell_type": "code",
   "execution_count": 11,
   "id": "fdf3b32c-6842-4c16-b076-805c7f1c9f68",
   "metadata": {},
   "outputs": [],
   "source": [
    "#STATEWIDE_DELAY = delay_summary.delay_hours.sum()\n",
    "#FORMATTED_HOURS = f'{STATEWIDE_DELAY:,g}' \n",
    "#AVG_DELAY = round(STATEWIDE_DELAY / delay_summary.unique_route.sum(), 2)\n",
    "\n",
    "\n",
    "#display(\n",
    "#    HTML(\n",
    "#        f\"<h3>{FORMATTED_HOURS} total delay hours statewide</h3>\"\n",
    "#        f\"<h3>{AVG_DELAY} delay hours per route statewide</h3>\"\n",
    "#    )\n",
    "#)"
   ]
  },
  {
   "cell_type": "code",
   "execution_count": 12,
   "id": "a677fc4c-3156-4ecc-abbb-334e3849cec4",
   "metadata": {},
   "outputs": [],
   "source": [
    "#d1 = make_bar_by_category(delay_summary, x_col = \"category\", \n",
    "#                          y_col = \"delay_hours_per_route\")\n",
    "#d2 = make_bar_by_category(delay_summary, x_col = \"category\", \n",
    "#                          y_col = \"delay_hours\")\n",
    "\n",
    "#combined = alt.hconcat(d1, d2)\n",
    "#combined = styleguide.apply_chart_config(combined)\n",
    "\n",
    "#combined"
   ]
  },
  {
   "cell_type": "code",
   "execution_count": 13,
   "id": "6c3fdecd-9b56-4121-9d97-f1b22fe67fab",
   "metadata": {},
   "outputs": [],
   "source": [
    "delay_cols_dict = {\n",
    "    \"category\": \"Category\",\n",
    "    \"delay_hours\": \"Total Delay Hours\",\n",
    "    \"pct_delay_hours\": \"% Delay Hours\",\n",
    "    \"unique_route\": \"# Routes\",\n",
    "    \"pct_unique_route\": \"% Routes\",\n",
    "    \"delay_hours_per_route\": \"Delay Hours per Route\",\n",
    "}\n",
    "\n",
    "#delay_summary_styled = portfolio_utils.style_table(\n",
    "#    delay_summary, \n",
    "#    rename_cols = delay_cols_dict, \n",
    "#    integer_cols = [\"Total Delay Hours\", \"# Routes\"],\n",
    "#    two_decimal_cols = [\"Delay Hours per Route\"],\n",
    "#    left_align_cols = \"first\",\n",
    "#    center_align_cols = \"all\",\n",
    "#    custom_format_cols = {'{:.1%}': [\"% Delay Hours\", \"% Routes\"]},\n",
    "#    display_table = True\n",
    "#)"
   ]
  },
  {
   "cell_type": "markdown",
   "id": "94f69cf9-4e05-4c49-b19b-81661d394169",
   "metadata": {},
   "source": [
    "## By District"
   ]
  },
  {
   "cell_type": "code",
   "execution_count": 14,
   "id": "d4a74098-6dce-42ec-8393-545e97bd7e04",
   "metadata": {},
   "outputs": [],
   "source": [
    "# Have some rows where district is missing, \n",
    "# but only for intersects_shn and other categories\n",
    "# focus on just the on_shn category and do district breakdown\n",
    "#df[(df.district.isna())].category.value_counts()"
   ]
  },
  {
   "cell_type": "code",
   "execution_count": 15,
   "id": "5f948e21-1555-4892-a4c2-1da54a84c268",
   "metadata": {},
   "outputs": [
    {
     "data": {
      "text/html": [
       "\n",
       "<style>\n",
       "  #altair-viz-b8ea2df5d44444f1a8c0bed5100210bd.vega-embed {\n",
       "    width: 100%;\n",
       "    display: flex;\n",
       "  }\n",
       "\n",
       "  #altair-viz-b8ea2df5d44444f1a8c0bed5100210bd.vega-embed details,\n",
       "  #altair-viz-b8ea2df5d44444f1a8c0bed5100210bd.vega-embed details summary {\n",
       "    position: relative;\n",
       "  }\n",
       "</style>\n",
       "<div id=\"altair-viz-b8ea2df5d44444f1a8c0bed5100210bd\"></div>\n",
       "<script type=\"text/javascript\">\n",
       "  var VEGA_DEBUG = (typeof VEGA_DEBUG == \"undefined\") ? {} : VEGA_DEBUG;\n",
       "  (function(spec, embedOpt){\n",
       "    let outputDiv = document.currentScript.previousElementSibling;\n",
       "    if (outputDiv.id !== \"altair-viz-b8ea2df5d44444f1a8c0bed5100210bd\") {\n",
       "      outputDiv = document.getElementById(\"altair-viz-b8ea2df5d44444f1a8c0bed5100210bd\");\n",
       "    }\n",
       "    const paths = {\n",
       "      \"vega\": \"https://cdn.jsdelivr.net/npm/vega@5?noext\",\n",
       "      \"vega-lib\": \"https://cdn.jsdelivr.net/npm/vega-lib?noext\",\n",
       "      \"vega-lite\": \"https://cdn.jsdelivr.net/npm/vega-lite@5.14.1?noext\",\n",
       "      \"vega-embed\": \"https://cdn.jsdelivr.net/npm/vega-embed@6?noext\",\n",
       "    };\n",
       "\n",
       "    function maybeLoadScript(lib, version) {\n",
       "      var key = `${lib.replace(\"-\", \"\")}_version`;\n",
       "      return (VEGA_DEBUG[key] == version) ?\n",
       "        Promise.resolve(paths[lib]) :\n",
       "        new Promise(function(resolve, reject) {\n",
       "          var s = document.createElement('script');\n",
       "          document.getElementsByTagName(\"head\")[0].appendChild(s);\n",
       "          s.async = true;\n",
       "          s.onload = () => {\n",
       "            VEGA_DEBUG[key] = version;\n",
       "            return resolve(paths[lib]);\n",
       "          };\n",
       "          s.onerror = () => reject(`Error loading script: ${paths[lib]}`);\n",
       "          s.src = paths[lib];\n",
       "        });\n",
       "    }\n",
       "\n",
       "    function showError(err) {\n",
       "      outputDiv.innerHTML = `<div class=\"error\" style=\"color:red;\">${err}</div>`;\n",
       "      throw err;\n",
       "    }\n",
       "\n",
       "    function displayChart(vegaEmbed) {\n",
       "      vegaEmbed(outputDiv, spec, embedOpt)\n",
       "        .catch(err => showError(`Javascript Error: ${err.message}<br>This usually means there's a typo in your chart specification. See the javascript console for the full traceback.`));\n",
       "    }\n",
       "\n",
       "    if(typeof define === \"function\" && define.amd) {\n",
       "      requirejs.config({paths});\n",
       "      require([\"vega-embed\"], displayChart, err => showError(`Error loading script: ${err.message}`));\n",
       "    } else {\n",
       "      maybeLoadScript(\"vega\", \"5\")\n",
       "        .then(() => maybeLoadScript(\"vega-lite\", \"5.14.1\"))\n",
       "        .then(() => maybeLoadScript(\"vega-embed\", \"6\"))\n",
       "        .catch(showError)\n",
       "        .then(() => displayChart(vegaEmbed));\n",
       "    }\n",
       "  })({\"config\": {\"view\": {\"continuousWidth\": 300, \"continuousHeight\": 300, \"strokeWidth\": 0}, \"axis\": {\"grid\": false}, \"axisBand\": {\"grid\": false}, \"background\": \"white\", \"font\": \"Raleway\", \"header\": {\"labelFont\": \"Nunito Sans\", \"titleFont\": \"Raleway\"}, \"legend\": {\"labelColor\": \"#333\", \"labelFont\": \"Nunito Sans\", \"labelFontSize\": 11, \"labelLimit\": 0, \"padding\": 1, \"symbolSize\": 30, \"symbolType\": \"square\", \"titleColor\": \"#333\", \"titleFont\": \"Raleway\", \"titleFontSize\": 14, \"titlePadding\": 10}, \"title\": {\"anchor\": \"middle\", \"font\": \"Raleway\", \"fontSize\": 18, \"fontWeight\": 300, \"offset\": 20}}, \"hconcat\": [{\"layer\": [{\"mark\": {\"type\": \"bar\"}, \"encoding\": {\"color\": {\"field\": \"district\", \"legend\": null, \"scale\": {\"range\": [\"#2EA8CE\", \"#EB9F3C\", \"#F4D837\", \"#51BF9D\", \"#8CBCCB\", \"#9487C0\"]}, \"type\": \"nominal\"}, \"x\": {\"field\": \"district\", \"title\": \"District\", \"type\": \"nominal\"}, \"y\": {\"axis\": null, \"field\": \"avg_service_hours\", \"scale\": {\"domain\": [0, 64.68]}, \"title\": \"Avg Service Hours\", \"type\": \"quantitative\"}}, \"name\": \"view_2\"}, {\"mark\": {\"type\": \"text\", \"align\": \"center\", \"baseline\": \"bottom\", \"color\": \"black\", \"dy\": -5}, \"encoding\": {\"color\": {\"value\": \"black\"}, \"text\": {\"field\": \"avg_service_hours\", \"format\": \",.1f\", \"type\": \"quantitative\"}, \"tooltip\": [{\"field\": \"district\", \"type\": \"nominal\"}, {\"field\": \"avg_service_hours\", \"format\": \",\", \"title\": \"avg service hours\", \"type\": \"quantitative\"}], \"x\": {\"field\": \"district\", \"title\": \"District\", \"type\": \"nominal\"}, \"y\": {\"axis\": null, \"field\": \"avg_service_hours\", \"scale\": {\"domain\": [0, 64.68]}, \"title\": \"Avg Service Hours\", \"type\": \"quantitative\"}}}], \"height\": 200, \"title\": {\"text\": \"Avg Service Hours by District\", \"subtitle\": \"Routes on SHN\"}, \"width\": 300}, {\"layer\": [{\"mark\": {\"type\": \"bar\"}, \"encoding\": {\"color\": {\"field\": \"district\", \"legend\": null, \"scale\": {\"range\": [\"#2EA8CE\", \"#EB9F3C\", \"#F4D837\", \"#51BF9D\", \"#8CBCCB\", \"#9487C0\"]}, \"type\": \"nominal\"}, \"x\": {\"field\": \"district\", \"title\": \"District\", \"type\": \"nominal\"}, \"y\": {\"axis\": null, \"field\": \"service_hours\", \"scale\": {\"domain\": [0, 4633.200000000001]}, \"title\": \"Service Hours\", \"type\": \"quantitative\"}}, \"name\": \"view_1\"}, {\"mark\": {\"type\": \"text\", \"align\": \"center\", \"baseline\": \"bottom\", \"color\": \"black\", \"dy\": -5}, \"encoding\": {\"color\": {\"value\": \"black\"}, \"text\": {\"field\": \"service_hours\", \"format\": \",.0f\", \"type\": \"quantitative\"}, \"tooltip\": [{\"field\": \"district\", \"type\": \"nominal\"}, {\"field\": \"service_hours\", \"format\": \",\", \"title\": \"service hours\", \"type\": \"quantitative\"}], \"x\": {\"field\": \"district\", \"title\": \"District\", \"type\": \"nominal\"}, \"y\": {\"axis\": null, \"field\": \"service_hours\", \"scale\": {\"domain\": [0, 4633.200000000001]}, \"title\": \"Service Hours\", \"type\": \"quantitative\"}}}], \"height\": 200, \"title\": {\"text\": \"Service Hours by District\", \"subtitle\": \"Routes on SHN\"}, \"width\": 300}], \"data\": {\"name\": \"data-69948f9937530baa2454d622c060fa40\"}, \"params\": [{\"name\": \"param_2\", \"select\": {\"type\": \"interval\", \"encodings\": [\"x\", \"y\"]}, \"bind\": \"scales\", \"views\": [\"view_2\"]}, {\"name\": \"param_1\", \"select\": {\"type\": \"interval\", \"encodings\": [\"x\", \"y\"]}, \"bind\": \"scales\", \"views\": [\"view_1\"]}], \"resolve\": {\"scale\": {\"x\": \"independent\", \"y\": \"independent\"}}, \"title\": \"Service Hours by District\", \"$schema\": \"https://vega.github.io/schema/vega-lite/v5.14.1.json\", \"datasets\": {\"data-69948f9937530baa2454d622c060fa40\": [{\"district\": 1, \"service_hours\": 245, \"unique_route\": 18, \"pct_service_hours\": 0, \"pct_unique_route\": 0, \"avg_service_hours\": 13.6}, {\"district\": 2, \"service_hours\": 208, \"unique_route\": 27, \"pct_service_hours\": 0, \"pct_unique_route\": 0, \"avg_service_hours\": 7.7}, {\"district\": 3, \"service_hours\": 696, \"unique_route\": 81, \"pct_service_hours\": 0, \"pct_unique_route\": 0, \"avg_service_hours\": 8.6}, {\"district\": 4, \"service_hours\": 4212, \"unique_route\": 143, \"pct_service_hours\": 0, \"pct_unique_route\": 0, \"avg_service_hours\": 29.5}, {\"district\": 5, \"service_hours\": 771, \"unique_route\": 55, \"pct_service_hours\": 0, \"pct_unique_route\": 0, \"avg_service_hours\": 14.0}, {\"district\": 6, \"service_hours\": 427, \"unique_route\": 37, \"pct_service_hours\": 0, \"pct_unique_route\": 0, \"avg_service_hours\": 11.5}, {\"district\": 7, \"service_hours\": 3246, \"unique_route\": 100, \"pct_service_hours\": 0, \"pct_unique_route\": 0, \"avg_service_hours\": 32.5}, {\"district\": 8, \"service_hours\": 1076, \"unique_route\": 52, \"pct_service_hours\": 0, \"pct_unique_route\": 0, \"avg_service_hours\": 20.7}, {\"district\": 9, \"service_hours\": 112, \"unique_route\": 11, \"pct_service_hours\": 0, \"pct_unique_route\": 0, \"avg_service_hours\": 10.2}, {\"district\": 10, \"service_hours\": 601, \"unique_route\": 40, \"pct_service_hours\": 0, \"pct_unique_route\": 0, \"avg_service_hours\": 15.0}, {\"district\": 11, \"service_hours\": 815, \"unique_route\": 29, \"pct_service_hours\": 0, \"pct_unique_route\": 0, \"avg_service_hours\": 28.1}, {\"district\": 12, \"service_hours\": 588, \"unique_route\": 10, \"pct_service_hours\": 0, \"pct_unique_route\": 0, \"avg_service_hours\": 58.8}]}}, {\"mode\": \"vega-lite\"});\n",
       "</script>"
      ],
      "text/plain": [
       "alt.HConcatChart(...)"
      ]
     },
     "execution_count": 15,
     "metadata": {},
     "output_type": "execute_result"
    }
   ],
   "source": [
    "# Chart utils\n",
    "WIDTH = 300\n",
    "HEIGHT = 200\n",
    "\n",
    "by_district_service = report_metrics.by_district_on_shn_breakdown(\n",
    "    df, [\"service_hours\", \"unique_route\"])\n",
    "\n",
    "bar_total = (report_charts.make_district_bar(\n",
    "            by_district_service, \"service_hours\")\n",
    "            .properties(width=WIDTH, height=HEIGHT)  \n",
    "            )\n",
    "bar_avg = (report_charts.make_district_bar(\n",
    "            by_district_service, \"avg_service_hours\")\n",
    "           .properties(width=WIDTH, height=HEIGHT)\n",
    "          )\n",
    "\n",
    "service_hours_chart = report_charts.configure_hconcat_charts(\n",
    "    [bar_avg, bar_total], \n",
    "    x_scale=\"independent\", \n",
    "    y_scale=\"independent\", \n",
    "    chart_title=\"Service Hours by District\")\n",
    "\n",
    "service_hours_chart"
   ]
  },
  {
   "cell_type": "code",
   "execution_count": 16,
   "id": "24d959ea-e8fe-46fc-a2d2-bb85ada4f627",
   "metadata": {},
   "outputs": [],
   "source": [
    "#by_district_delay = report_metrics.by_district_on_shn_breakdown(\n",
    "#    df, [\"delay_hours\", \"unique_route\"]\n",
    "#)\n",
    "\n",
    "#bar_total = (report_charts.make_district_bar(\n",
    "#            by_district_delay, \"delay_hours\")\n",
    "#            .properties(width=WIDTH, height=HEIGHT)      \n",
    "#            )\n",
    "#bar_avg = (report_charts.make_district_bar(\n",
    "#            by_district_delay, \"avg_delay_hours\")\n",
    "#           .properties(width=WIDTH, height=HEIGHT)\n",
    "#          )\n",
    "\n",
    "#delay_hours_chart = report_charts.configure_hconcat_charts(\n",
    "#    [bar_avg, bar_total], \n",
    "#    x_scale=\"independent\", \n",
    "#    y_scale=\"independent\", \n",
    "#    chart_title=\"Delay Hours by District\")\n",
    "\n",
    "#delay_hours_chart"
   ]
  },
  {
   "cell_type": "markdown",
   "id": "aee65310-bd12-4dfe-9fb4-237d43d0a163",
   "metadata": {},
   "source": [
    "## Map of Routes by Category"
   ]
  },
  {
   "cell_type": "code",
   "execution_count": 17,
   "id": "058dd099-90e2-490e-8a26-5858e00022fb",
   "metadata": {},
   "outputs": [],
   "source": [
    "def data_for_viz(df: gpd.GeoDataFrame):\n",
    "    gdf = report_metrics.clean_up_category_values(df)\n",
    "    \n",
    "    # line must fall within CA\n",
    "    ca = hq_catalog.ca_boundary.read().to_crs(f\"EPSG: {gdf.crs.to_epsg()}\")\n",
    "\n",
    "    gdf = gpd.sjoin(\n",
    "        gdf,\n",
    "        ca,\n",
    "        how = \"inner\",\n",
    "        predicate = \"within\",\n",
    "    ).drop(columns= [\"index_right\"])\n",
    "    \n",
    "    # Drop columns that shouldn't get displayed in tooltip\n",
    "    drop_cols = [\n",
    "        #\"merge_delay\", \n",
    "        \"State\", \"unique_route\"]\n",
    "    \n",
    "    gdf2 = gdf.drop(columns = drop_cols)\n",
    "    \n",
    "    return gdf2\n",
    "\n",
    "\n",
    "gdf = data_for_viz(df)"
   ]
  },
  {
   "cell_type": "markdown",
   "id": "559fbcde-f01d-400f-bb15-b7c770997abb",
   "metadata": {},
   "source": [
    "### All Routes"
   ]
  },
  {
   "cell_type": "code",
   "execution_count": null,
   "id": "735ccd97-9c90-47c6-b768-bc09f02b887b",
   "metadata": {},
   "outputs": [],
   "source": [
    "def make_map(gdf: gpd.GeoDataFrame): \n",
    "    # category is going to be sorted alphabetically,\n",
    "    # so sort our color_dict\n",
    "    sorted_dict = dict(sorted(color_dict.items()))\n",
    "    \n",
    "    m = gdf.explore(\n",
    "        \"category\", categorical=True,\n",
    "        cmap = list(sorted_dict.values()),\n",
    "        tiles = \"Carto DB Positron\"\n",
    "    )\n",
    "\n",
    "    display(m)\n",
    "    \n",
    "make_map(gdf)"
   ]
  },
  {
   "cell_type": "code",
   "execution_count": null,
   "id": "948cb692-79b3-428a-a91d-e38ed3763d06",
   "metadata": {},
   "outputs": [],
   "source": []
  }
 ],
 "metadata": {
  "kernelspec": {
   "display_name": "Python 3 (ipykernel)",
   "language": "python",
   "name": "python3"
  },
  "language_info": {
   "codemirror_mode": {
    "name": "ipython",
    "version": 3
   },
   "file_extension": ".py",
   "mimetype": "text/x-python",
   "name": "python",
   "nbconvert_exporter": "python",
   "pygments_lexer": "ipython3",
   "version": "3.9.13"
  }
 },
 "nbformat": 4,
 "nbformat_minor": 5
}
