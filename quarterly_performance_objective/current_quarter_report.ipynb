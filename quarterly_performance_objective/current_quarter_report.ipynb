{
 "cells": [
  {
   "cell_type": "markdown",
   "id": "aba3b0aa-73bf-4a8d-b4ee-64ecc98196fc",
   "metadata": {},
   "source": [
    "# Quarterly Mass Transit Performance Objective\n",
    "\n",
    "**01 - Increase total amount of service on the SHN and reliability of that service by 2024**\n",
    "\n",
    "Metrics: total service hours, average service hours, and number of transit routes (n, %).\n",
    "\n",
    "## Routes on the State Highway Network (SHN)\n",
    "\n",
    "Transit routes along the SHN can be categorized into 3 groups:\n",
    "1. **On SHN** - where at least 20% of the transit route runs the SHN (within 50 ft) \n",
    "2. **Intersects SHN** - where at least 35% of the transit route runs within 0.5 mile of the SHN.\n",
    "3. **Other** - all other transit routes."
   ]
  },
  {
   "cell_type": "code",
   "execution_count": 1,
   "id": "792ee3df-ebcb-4bf7-a7f2-f7f903efe126",
   "metadata": {},
   "outputs": [
    {
     "name": "stderr",
     "output_type": "stream",
     "text": [
      "/opt/conda/lib/python3.10/site-packages/geopandas/_compat.py:112: UserWarning: The Shapely GEOS version (3.10.3-CAPI-1.16.1) is incompatible with the GEOS version PyGEOS was compiled with (3.10.1-CAPI-1.16.0). Conversions between both will be slow.\n",
      "  warnings.warn(\n"
     ]
    }
   ],
   "source": [
    "import altair as alt\n",
    "import branca\n",
    "import geopandas as gpd\n",
    "import intake\n",
    "import pandas as pd\n",
    "\n",
    "from IPython.display import HTML, Markdown\n",
    "\n",
    "import B1_report_metrics as report_metrics\n",
    "from update_vars import ANALYSIS_DATE, BUS_SERVICE_GCS\n",
    "from shared_utils import geography_utils, styleguide\n",
    "from shared_utils import calitp_color_palette as cp\n",
    "from bus_service_utils import chart_utils, report_utils\n",
    "\n",
    "hq_catalog = intake.open_catalog(\"../high_quality_transit_areas/*.yml\")\n",
    "catalog = intake.open_catalog(\"*.yml\")"
   ]
  },
  {
   "cell_type": "code",
   "execution_count": 2,
   "id": "add13293-3d9d-40e0-b1fb-c50b89fe84de",
   "metadata": {},
   "outputs": [],
   "source": [
    "df = catalog.routes_categorized_with_delay.read()\n",
    "\n",
    "#df = gpd.read_parquet(\n",
    "#    f\"{BUS_SERVICE_GCS}routes_categorized_with_delay_{ANALYSIS_DATE}.parquet\")"
   ]
  },
  {
   "cell_type": "code",
   "execution_count": 3,
   "id": "803015d0-1530-41ef-99c4-9550253a3c14",
   "metadata": {},
   "outputs": [],
   "source": [
    "def route_type_names(row): \n",
    "    if row.route_type in ['0', '1', '2']:\n",
    "        return \"Rail\"\n",
    "    elif row.route_type == '3':\n",
    "        return \"Bus\"\n",
    "    elif row.route_type == '4':\n",
    "        return \"Ferry\"\n",
    "    else:\n",
    "        return \"Unknown\"\n",
    "\n",
    "#df[\"route_type_name\"] = df.apply(lambda x: route_type_names(x), axis=1)"
   ]
  },
  {
   "cell_type": "code",
   "execution_count": null,
   "id": "26c80e11-9273-44e5-8b06-edfb20f6b118",
   "metadata": {},
   "outputs": [],
   "source": [
    "#df.route_type_name.value_counts()\n",
    "#df[(df.route_type_name==\"Unknown\")].calitp_itp_id.value_counts()\n",
    "#df[df.category==\"on_shn\"].route_type_name.value_counts()\n",
    "#df[df.category==\"intersects_shn\"].route_type_name.value_counts()"
   ]
  },
  {
   "cell_type": "code",
   "execution_count": 4,
   "id": "e022a8a3-9fc4-4e27-8e4e-e66c16df8e21",
   "metadata": {},
   "outputs": [],
   "source": [
    "# Should I subset to df[df._merge==\"both\"]?\n",
    "# both means that it found a corresponding match in itp_id-route_id \n",
    "# since it's been aggregated up to route_id level (shape_id can mismatch more easily)\n",
    "# Decide here, this is the subset of data I will use for rest of notebook\n",
    "plot_df = df[df._merge==\"both\"]"
   ]
  },
  {
   "cell_type": "markdown",
   "id": "c22bad3d-2f2c-4e1c-8aae-edc59377410a",
   "metadata": {},
   "source": [
    "## Statewide Stats  \n",
    "\n",
    "* How many service hours are scheduled for a typical weekday for (1)?"
   ]
  },
  {
   "cell_type": "code",
   "execution_count": 5,
   "id": "79217ca7-e3d6-46eb-b5f9-4bf79c230f24",
   "metadata": {},
   "outputs": [],
   "source": [
    "summary = report_metrics.get_service_hours_summary_table(plot_df)  "
   ]
  },
  {
   "cell_type": "code",
   "execution_count": 6,
   "id": "92e49d50-009f-4b2e-9661-688b81c38694",
   "metadata": {},
   "outputs": [],
   "source": [
    "all_hours = geography_utils.aggregate_by_geography(\n",
    "    summary.assign(category=\"All\"),\n",
    "    group_cols = [\"category\"],\n",
    "    sum_cols = [\"unique_route\", \"total_service_hours\"]\n",
    ")"
   ]
  },
  {
   "cell_type": "code",
   "execution_count": 7,
   "id": "5ef150ae-3dda-42ec-af43-13b36df5e231",
   "metadata": {},
   "outputs": [
    {
     "data": {
      "text/markdown": [
       "### Q2 2022 (2022-08-17): 98,352 total service hours statewide"
      ],
      "text/plain": [
       "<IPython.core.display.Markdown object>"
      ]
     },
     "metadata": {},
     "output_type": "display_data"
    }
   ],
   "source": [
    "STATEWIDE_HOURS = all_hours.total_service_hours.iloc[0]\n",
    "FORMATTED_HOURS = f'{STATEWIDE_HOURS:,}' \n",
    "\n",
    "display(\n",
    "    Markdown(\n",
    "        f\"### Q2 2022 ({ANALYSIS_DATE}): \"\n",
    "        f\"{FORMATTED_HOURS} total service hours statewide\"\n",
    "    )\n",
    ")"
   ]
  },
  {
   "cell_type": "code",
   "execution_count": 8,
   "id": "81c94bf7-f55b-43e2-9204-ad70b45f61a2",
   "metadata": {},
   "outputs": [
    {
     "data": {
      "text/html": [
       "<style type=\"text/css\">\n",
       "#T_62b64 th {\n",
       "  text-align: center;\n",
       "}\n",
       "#T_62b64_row0_col0, #T_62b64_row1_col0, #T_62b64_row2_col0 {\n",
       "  text-align: left;\n",
       "}\n",
       "#T_62b64_row0_col1, #T_62b64_row0_col2, #T_62b64_row0_col3, #T_62b64_row0_col4, #T_62b64_row0_col5, #T_62b64_row1_col1, #T_62b64_row1_col2, #T_62b64_row1_col3, #T_62b64_row1_col4, #T_62b64_row1_col5, #T_62b64_row2_col1, #T_62b64_row2_col2, #T_62b64_row2_col3, #T_62b64_row2_col4, #T_62b64_row2_col5 {\n",
       "  text-align: center;\n",
       "}\n",
       "</style>\n",
       "<table id=\"T_62b64\">\n",
       "  <thead>\n",
       "    <tr>\n",
       "      <th id=\"T_62b64_level0_col0\" class=\"col_heading level0 col0\" >Category</th>\n",
       "      <th id=\"T_62b64_level0_col1\" class=\"col_heading level0 col1\" >Total Service Hours</th>\n",
       "      <th id=\"T_62b64_level0_col2\" class=\"col_heading level0 col2\" ># Routes</th>\n",
       "      <th id=\"T_62b64_level0_col3\" class=\"col_heading level0 col3\" >% Service Hours</th>\n",
       "      <th id=\"T_62b64_level0_col4\" class=\"col_heading level0 col4\" >% Routes</th>\n",
       "      <th id=\"T_62b64_level0_col5\" class=\"col_heading level0 col5\" >Service Hours per Route</th>\n",
       "    </tr>\n",
       "  </thead>\n",
       "  <tbody>\n",
       "    <tr>\n",
       "      <td id=\"T_62b64_row0_col0\" class=\"data row0 col0\" >On SHN</td>\n",
       "      <td id=\"T_62b64_row0_col1\" class=\"data row0 col1\" >15636</td>\n",
       "      <td id=\"T_62b64_row0_col2\" class=\"data row0 col2\" >657</td>\n",
       "      <td id=\"T_62b64_row0_col3\" class=\"data row0 col3\" >15.9%</td>\n",
       "      <td id=\"T_62b64_row0_col4\" class=\"data row0 col4\" >24.2%</td>\n",
       "      <td id=\"T_62b64_row0_col5\" class=\"data row0 col5\" >23.800000</td>\n",
       "    </tr>\n",
       "    <tr>\n",
       "      <td id=\"T_62b64_row1_col0\" class=\"data row1 col0\" >Intersects SHN</td>\n",
       "      <td id=\"T_62b64_row1_col1\" class=\"data row1 col1\" >53232</td>\n",
       "      <td id=\"T_62b64_row1_col2\" class=\"data row1 col2\" >1503</td>\n",
       "      <td id=\"T_62b64_row1_col3\" class=\"data row1 col3\" >54.1%</td>\n",
       "      <td id=\"T_62b64_row1_col4\" class=\"data row1 col4\" >55.4%</td>\n",
       "      <td id=\"T_62b64_row1_col5\" class=\"data row1 col5\" >35.420000</td>\n",
       "    </tr>\n",
       "    <tr>\n",
       "      <td id=\"T_62b64_row2_col0\" class=\"data row2 col0\" >Other</td>\n",
       "      <td id=\"T_62b64_row2_col1\" class=\"data row2 col1\" >29484</td>\n",
       "      <td id=\"T_62b64_row2_col2\" class=\"data row2 col2\" >551</td>\n",
       "      <td id=\"T_62b64_row2_col3\" class=\"data row2 col3\" >30.0%</td>\n",
       "      <td id=\"T_62b64_row2_col4\" class=\"data row2 col4\" >20.3%</td>\n",
       "      <td id=\"T_62b64_row2_col5\" class=\"data row2 col5\" >53.510000</td>\n",
       "    </tr>\n",
       "  </tbody>\n",
       "</table>\n"
      ],
      "text/plain": [
       "<IPython.core.display.HTML object>"
      ]
     },
     "metadata": {},
     "output_type": "display_data"
    }
   ],
   "source": [
    "service_cols_dict = {\n",
    "    \"category\": \"Category\",\n",
    "    \"total_service_hours\": \"Total Service Hours\",\n",
    "    \"pct_total_service_hours\": \"% Service Hours\",\n",
    "    \"unique_route\": \"# Routes\",\n",
    "    \"pct_unique_route\": \"% Routes\",\n",
    "    \"service_hrs_per_route\": \"Service Hours per Route\",\n",
    "}\n",
    "\n",
    "summary_styled = report_utils.style_table(\n",
    "    summary, \n",
    "    rename_cols = service_cols_dict, \n",
    "    integer_cols = [\"Total Service Hours\", \"# Routes\"],\n",
    "    one_decimal_cols = [\"Service Hours per Route\"],\n",
    "    left_align_cols = \"first\",\n",
    "    center_align_cols = \"all\",\n",
    "    custom_format_cols = {'{:.1%}': [\"% Service Hours\", \"% Routes\"]},\n",
    "    display_table = True\n",
    ")"
   ]
  },
  {
   "cell_type": "markdown",
   "id": "4466056e-6c6e-437f-acec-f9e9323d5153",
   "metadata": {},
   "source": [
    "## Reliability (Delay)\n",
    "\n",
    "Be careful here, since delay is not merged onto every route. \n",
    "\n",
    "Need apples to apples comparison across quarters."
   ]
  },
  {
   "cell_type": "code",
   "execution_count": null,
   "id": "0867cb50-8fdc-43a7-a286-e3c782792cb3",
   "metadata": {},
   "outputs": [],
   "source": [
    "delay_df = plot_df[plot_df.merge_delay==\"both\"]\n",
    "delay_summary = report_metrics.get_delay_summary_table(delay_df)"
   ]
  },
  {
   "cell_type": "code",
   "execution_count": null,
   "id": "6c3fdecd-9b56-4121-9d97-f1b22fe67fab",
   "metadata": {},
   "outputs": [],
   "source": [
    "delay_cols_dict = {\n",
    "    \"category\": \"Category\",\n",
    "    \"delay_hours\": \"Total Delay Hours\",\n",
    "    \"pct_delay_hours\": \"% Delay Hours\",\n",
    "    \"unique_route\": \"# Routes\",\n",
    "    \"pct_unique_route\": \"% Routes\",\n",
    "    \"delay_hours_per_route\": \"Delay Hours per Route\",\n",
    "}\n",
    "\n",
    "delay_summary_styled = report_utils.style_table(\n",
    "    delay_summary, \n",
    "    rename_cols = delay_cols_dict, \n",
    "    integer_cols = [\"Total Delay Hours\", \"# Routes\"],\n",
    "    two_decimal_cols = [\"Delay Hours per Route\"],\n",
    "    left_align_cols = \"first\",\n",
    "    center_align_cols = \"all\",\n",
    "    custom_format_cols = {'{:.1%}': [\"% Delay Hours\", \"% Routes\"]},\n",
    "    display_table = True\n",
    ")"
   ]
  },
  {
   "cell_type": "code",
   "execution_count": null,
   "id": "c3e135dd-c034-4dcc-ad82-09c77aab21d5",
   "metadata": {},
   "outputs": [],
   "source": [
    "# Where district is missing, it's not parallel routes\n",
    "# So let's ignore those sections and focus on just on_shn and do breakdown\n",
    "#plot_df[(plot_df.District.isna())].category.value_counts()"
   ]
  },
  {
   "cell_type": "code",
   "execution_count": null,
   "id": "2a9769a3-9186-450a-a710-6033f6ee6229",
   "metadata": {},
   "outputs": [],
   "source": [
    "def by_district_on_shn_breakdown(df: pd.DataFrame, sum_cols: list) -> pd.DataFrame:\n",
    "    by_district = geography_utils.aggregate_by_geography(\n",
    "        df[df.category==\"on_shn\"],\n",
    "        group_cols = [\"District\"],\n",
    "        sum_cols = sum_cols\n",
    "    ).astype(int)\n",
    "\n",
    "    by_district = (report_metrics.add_percent(\n",
    "        by_district, \n",
    "        sum_cols)\n",
    "        .sort_values(\"District\")\n",
    "    )\n",
    "    \n",
    "    pct_cols = [f\"pct_{c}\" for c in sum_cols]\n",
    "    \n",
    "    for c in pct_cols:\n",
    "        by_district[c] = by_district[c].round(3)\n",
    "    \n",
    "    return by_district"
   ]
  },
  {
   "cell_type": "code",
   "execution_count": null,
   "id": "3c9272a0-2e6a-4e43-8275-5053e601a697",
   "metadata": {},
   "outputs": [],
   "source": [
    "plot_df = plot_df.assign(\n",
    "    delay_hours = round(plot_df.delay_seconds / 60 ** 2, 2)\n",
    ")"
   ]
  },
  {
   "cell_type": "code",
   "execution_count": null,
   "id": "7faed671-aa09-4c22-b9b3-da1eeddb4fa7",
   "metadata": {},
   "outputs": [],
   "source": [
    "%%html\n",
    "<style>\n",
    "@import url('https://fonts.googleapis.com/css?family=Raleway');\n",
    "@import url('https://fonts.googleapis.com/css?family=Nunito+Sans');\n",
    "@import url('https://fonts.googleapis.com/css?family=Bitter');\n",
    "</style>"
   ]
  },
  {
   "cell_type": "code",
   "execution_count": null,
   "id": "1985fa95-1916-4ec7-95c9-e5df27477d6b",
   "metadata": {},
   "outputs": [],
   "source": [
    "def base_bar(df: pd.DataFrame) -> alt.Chart:\n",
    "    chart = (alt.Chart(df)\n",
    "             .mark_bar()\n",
    "             .encode(\n",
    "                 x=alt.X(\"District:N\", title=\"District\")\n",
    "             )\n",
    "            )\n",
    "    return chart\n",
    "\n",
    "\n",
    "def make_bar(df: pd.DataFrame, y_col: str) -> alt.Chart:\n",
    "    \"\"\"\n",
    "    Make bar chart that's total service hours or \n",
    "    average service hours by district.\n",
    "    \"\"\"\n",
    "    y_title = f\"{y_col.replace('_', ' ').title()}\"\n",
    "    \n",
    "    if y_col == \"total_service_hours\":\n",
    "        value_format = \",.0f\"\n",
    "        y_buffer = 1_400\n",
    "    elif y_col == \"avg_delay_hours\": \n",
    "        value_format = \",.1f\"\n",
    "        y_buffer = 1\n",
    "    else:\n",
    "        value_format = \",.1f\"\n",
    "        y_buffer = 5\n",
    "    \n",
    "    Y_MAX = df[y_col].max() + y_buffer\n",
    "    \n",
    "    bar = base_bar(df)\n",
    "    \n",
    "    bar = (bar.encode(\n",
    "        y=alt.Y(f\"{y_col}:Q\", title=f\"{y_title}\", \n",
    "                scale=alt.Scale(domain=[0, Y_MAX]),\n",
    "                axis=None\n",
    "               ),\n",
    "        color=alt.Color(\"District:N\", \n",
    "                        scale=alt.Scale(\n",
    "                            range=cp.CALITP_CATEGORY_BRIGHT_COLORS\n",
    "                        ), legend=None\n",
    "                )\n",
    "             )\n",
    "            )\n",
    "    #https://stackoverflow.com/questions/54015250/altair-setting-constant-label-color-for-bar-chart\n",
    "    text = (bar\n",
    "            .mark_text(align=\"center\", baseline=\"bottom\",\n",
    "                       color=\"black\", dy=-5  \n",
    "                      )\n",
    "            .encode(text=alt.Text(y_col, format=value_format), \n",
    "                    # Set color here, because encoding for mark_text gets \n",
    "                    # superseded by alt.Color\n",
    "                   color=alt.value(\"black\"), \n",
    "                   tooltip=[\"District:N\", \n",
    "                            alt.Tooltip(f\"{y_col}:Q\", format=\",\",\n",
    "                                        title=f\"{y_col.replace('_', ' '.title())}\"\n",
    "                                       )] \n",
    "                    \n",
    "        )\n",
    "    )\n",
    "      \n",
    "    chart = (bar+text)\n",
    "    \n",
    "    chart = (styleguide.preset_chart_config(chart)\n",
    "             .properties(title= {\n",
    "                 \"text\": f\"{y_title} by District\",\n",
    "                 \"subtitle\": \"Routes on SHN\"\n",
    "            }).configure_axis(grid=False)\n",
    "             .configure_view(strokeWidth=0)\n",
    "             .interactive()\n",
    "            )\n",
    "        \n",
    "    display(chart)"
   ]
  },
  {
   "cell_type": "code",
   "execution_count": null,
   "id": "378a7f37-3a7a-4ad0-a228-89b21408b5d8",
   "metadata": {},
   "outputs": [],
   "source": [
    "by_district_service = by_district_on_shn_breakdown(\n",
    "    plot_df, [\"total_service_hours\", \"unique_route\"])\n",
    "\n",
    "by_district_service = by_district_service.assign(\n",
    "    avg_service_hours = by_district_service.total_service_hours.divide(\n",
    "        by_district_service.unique_route).round(1)\n",
    ")\n",
    "\n",
    "metrics = [\n",
    "    \"total_service_hours\", \n",
    "    \"avg_service_hours\"\n",
    "]\n",
    "\n",
    "for m in metrics:\n",
    "    make_bar(by_district_service, m)"
   ]
  },
  {
   "cell_type": "code",
   "execution_count": null,
   "id": "0b46795b-2891-40c8-baf6-9f735dbae902",
   "metadata": {},
   "outputs": [],
   "source": [
    "by_district_delay = by_district_on_shn_breakdown(\n",
    "    plot_df, [\"delay_hours\", \"unique_route\"]\n",
    ")\n",
    "\n",
    "by_district_delay = by_district_delay.assign(\n",
    "    avg_delay_hours = by_district_delay.delay_hours.divide(\n",
    "        by_district_delay.unique_route).round(2)\n",
    ")\n",
    "\n",
    "metrics = [\n",
    "    \"delay_hours\", \n",
    "    \"avg_delay_hours\"\n",
    "]\n",
    "\n",
    "for m in metrics:\n",
    "    make_bar(by_district_delay, m)\n"
   ]
  },
  {
   "cell_type": "markdown",
   "id": "aee65310-bd12-4dfe-9fb4-237d43d0a163",
   "metadata": {},
   "source": [
    "## Map of Routes on or Intersecting SHN"
   ]
  },
  {
   "cell_type": "code",
   "execution_count": null,
   "id": "058dd099-90e2-490e-8a26-5858e00022fb",
   "metadata": {},
   "outputs": [],
   "source": [
    "def prep_data_for_viz(df: gpd.GeoDataFrame):\n",
    "    category_labeling = {\n",
    "        \"on_shn\": \"On SHN\",\n",
    "        \"intersects_shn\": \"Intersects SHN\",\n",
    "        \"other\": \"Other\",\n",
    "    }\n",
    "\n",
    "    def labeling(word: str) -> str: \n",
    "        return chart_utils.labeling(word, category_labeling)\n",
    "    \n",
    "        \n",
    "    gdf = df.assign(\n",
    "        category = df.category.map(category_labeling),\n",
    "    ) \n",
    "    \n",
    "    # line must fall within CA\n",
    "    ca = hq_catalog.ca_boundary.read().to_crs(f\"EPSG: {gdf.crs.to_epsg()}\")\n",
    "\n",
    "    gdf = gpd.sjoin(\n",
    "        gdf,\n",
    "        ca,\n",
    "        how = \"inner\",\n",
    "        predicate = \"within\",\n",
    "    ).drop(columns= [\"index_right\"])\n",
    "\n",
    "    # Buffer to style the line, project to WGS84 for folium\n",
    "    gdf = gdf.assign(\n",
    "        geometry = (gdf.geometry.to_crs(geography_utils.CA_StatePlane)\n",
    "                    .buffer(250).simplify(tolerance=100)\n",
    "                    .to_crs(geography_utils.WGS84)\n",
    "                   )\n",
    "    )\n",
    "    \n",
    "    # Drop columns that shouldn't get displayed in tooltip\n",
    "    drop_cols = [\"_merge\", \"merge_delay\", \"State\"]\n",
    "    \n",
    "    gdf2 = gdf.drop(columns = drop_cols)\n",
    "    \n",
    "    return gdf2\n",
    "\n",
    "\n",
    "gdf = prep_data_for_viz(df)"
   ]
  },
  {
   "cell_type": "code",
   "execution_count": null,
   "id": "b4a27707-7044-449f-af87-f46e0a2ab3bc",
   "metadata": {},
   "outputs": [],
   "source": [
    "route_map = gdf.explore(\n",
    "    \"category\", \n",
    "    categorical=True, \n",
    "    cmap = [cp.CALITP_CATEGORY_BRIGHT_COLORS[0], \n",
    "            cp.CALITP_CATEGORY_BRIGHT_COLORS[1],\n",
    "            cp.CALITP_CATEGORY_BRIGHT_COLORS[2]\n",
    "    ],\n",
    "    tiles = \"Carto DB Positron\"\n",
    ")\n",
    "\n",
    "route_map"
   ]
  },
  {
   "cell_type": "code",
   "execution_count": null,
   "id": "77b85f72-029e-4b18-8f62-7df75f1a1f31",
   "metadata": {},
   "outputs": [],
   "source": []
  }
 ],
 "metadata": {
  "kernelspec": {
   "display_name": "Python 3 (ipykernel)",
   "language": "python",
   "name": "python3"
  },
  "language_info": {
   "codemirror_mode": {
    "name": "ipython",
    "version": 3
   },
   "file_extension": ".py",
   "mimetype": "text/x-python",
   "name": "python",
   "nbconvert_exporter": "python",
   "pygments_lexer": "ipython3",
   "version": "3.10.5"
  }
 },
 "nbformat": 4,
 "nbformat_minor": 5
}
