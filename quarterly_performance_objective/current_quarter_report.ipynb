{
 "cells": [
  {
   "cell_type": "markdown",
   "id": "aba3b0aa-73bf-4a8d-b4ee-64ecc98196fc",
   "metadata": {},
   "source": [
    "# PMAC presentation\n",
    "\n",
    "**MT.PO.01: increase total amount of service on the SHN and reliability of that service by 2024**\n",
    "\n",
    "Metrics: total service hours, average service hours, and number of transit routes (n, %).\n",
    "\n",
    "## Routes on the State Highway Network (SHN)\n",
    "\n",
    "Transit routes along the SHN can be categorized into 3 groups:\n",
    "1. **Parallel** - where at least 30% of the transit route runs within 1 mile of the SHN *and* that distance is at least 10% of the SHN length.\n",
    "2. **On SHN** - any transit routes that don't meet the above criteria, but travels on the SHN for at least 10% of the transit route.\n",
    "3. **Other** - all other transit routes.\n",
    "\n",
    "\n",
    "* How many of these agencies that have parallel routes on SHN also have GTFS RT?\n",
    "Use `isin` and find `itp_id`, not route-specific, because most agencies that provide GTFS RT do it for the majority of their routes.\n",
    "\n",
    "## Parallel Routes by District\n",
    "\n"
   ]
  },
  {
   "cell_type": "code",
   "execution_count": 1,
   "id": "792ee3df-ebcb-4bf7-a7f2-f7f903efe126",
   "metadata": {},
   "outputs": [
    {
     "name": "stderr",
     "output_type": "stream",
     "text": [
      "/opt/conda/lib/python3.10/site-packages/geopandas/_compat.py:112: UserWarning: The Shapely GEOS version (3.10.3-CAPI-1.16.1) is incompatible with the GEOS version PyGEOS was compiled with (3.10.1-CAPI-1.16.0). Conversions between both will be slow.\n",
      "  warnings.warn(\n"
     ]
    }
   ],
   "source": [
    "import altair as alt\n",
    "import branca\n",
    "import geopandas as gpd\n",
    "import intake\n",
    "import pandas as pd\n",
    "\n",
    "from IPython.display import HTML, Markdown\n",
    "\n",
    "import B1_report_metrics as report_utils\n",
    "from update_vars import ANALYSIS_DATE, BUS_SERVICE_GCS\n",
    "from shared_utils import geography_utils, styleguide, map_utils\n",
    "from shared_utils import calitp_color_palette as cp\n",
    "\n",
    "hq_catalog = intake.open_catalog(\"../high_quality_transit_areas/*.yml\")"
   ]
  },
  {
   "cell_type": "code",
   "execution_count": 2,
   "id": "add13293-3d9d-40e0-b1fb-c50b89fe84de",
   "metadata": {},
   "outputs": [],
   "source": [
    "df = gpd.read_parquet(\n",
    "    f\"{BUS_SERVICE_GCS}routes_categorized_with_delay_{ANALYSIS_DATE}.parquet\")"
   ]
  },
  {
   "cell_type": "code",
   "execution_count": 8,
   "id": "d825d2a0-5894-49a1-949e-faecee767c11",
   "metadata": {},
   "outputs": [
    {
     "data": {
      "text/plain": [
       "98353.85"
      ]
     },
     "execution_count": 8,
     "metadata": {},
     "output_type": "execute_result"
    }
   ],
   "source": [
    "df.total_service_hours.sum()"
   ]
  },
  {
   "cell_type": "code",
   "execution_count": 3,
   "id": "e022a8a3-9fc4-4e27-8e4e-e66c16df8e21",
   "metadata": {},
   "outputs": [],
   "source": [
    "# Should I subset to df[df._merge==\"both\"]?\n",
    "# both means that it found a corresponding match in itp_id-route_id \n",
    "# since it's been aggregated up to route_id level (shape_id can mismatch more easily)\n",
    "# Decide here, this is the subset of data I will use for rest of notebook\n",
    "plot_df = df[df._merge==\"both\"]"
   ]
  },
  {
   "cell_type": "markdown",
   "id": "c22bad3d-2f2c-4e1c-8aae-edc59377410a",
   "metadata": {},
   "source": [
    "## Statewide Stats  \n",
    "\n",
    "* How many service hours are scheduled for a typical weekday for (1)?"
   ]
  },
  {
   "cell_type": "code",
   "execution_count": 4,
   "id": "79217ca7-e3d6-46eb-b5f9-4bf79c230f24",
   "metadata": {},
   "outputs": [],
   "source": [
    "summary = report_utils.get_summary_table(plot_df)  "
   ]
  },
  {
   "cell_type": "code",
   "execution_count": 5,
   "id": "92e49d50-009f-4b2e-9661-688b81c38694",
   "metadata": {},
   "outputs": [
    {
     "data": {
      "text/html": [
       "<div>\n",
       "<style scoped>\n",
       "    .dataframe tbody tr th:only-of-type {\n",
       "        vertical-align: middle;\n",
       "    }\n",
       "\n",
       "    .dataframe tbody tr th {\n",
       "        vertical-align: top;\n",
       "    }\n",
       "\n",
       "    .dataframe thead th {\n",
       "        text-align: right;\n",
       "    }\n",
       "</style>\n",
       "<table border=\"1\" class=\"dataframe\">\n",
       "  <thead>\n",
       "    <tr style=\"text-align: right;\">\n",
       "      <th></th>\n",
       "      <th>category</th>\n",
       "      <th>total_service_hours</th>\n",
       "      <th>unique_route</th>\n",
       "    </tr>\n",
       "  </thead>\n",
       "  <tbody>\n",
       "    <tr>\n",
       "      <th>0</th>\n",
       "      <td>All</td>\n",
       "      <td>98352</td>\n",
       "      <td>2711.0</td>\n",
       "    </tr>\n",
       "  </tbody>\n",
       "</table>\n",
       "</div>"
      ],
      "text/plain": [
       "  category  total_service_hours  unique_route\n",
       "0      All                98352        2711.0"
      ]
     },
     "execution_count": 5,
     "metadata": {},
     "output_type": "execute_result"
    }
   ],
   "source": [
    "all_hours = geography_utils.aggregate_by_geography(\n",
    "    summary.assign(category=\"All\"),\n",
    "    group_cols = [\"category\"],\n",
    "    sum_cols = [\"unique_route\", \"total_service_hours\"]\n",
    ")\n",
    "\n",
    "all_hours"
   ]
  },
  {
   "cell_type": "code",
   "execution_count": 6,
   "id": "5ef150ae-3dda-42ec-af43-13b36df5e231",
   "metadata": {},
   "outputs": [
    {
     "data": {
      "text/markdown": [
       "### Q2 2022 (2022-05-04): 98,352 total service hours statewide"
      ],
      "text/plain": [
       "<IPython.core.display.Markdown object>"
      ]
     },
     "metadata": {},
     "output_type": "display_data"
    }
   ],
   "source": [
    "STATEWIDE_HOURS = all_hours.total_service_hours.iloc[0]\n",
    "FORMATTED_HOURS = f'{STATEWIDE_HOURS:,}' \n",
    "\n",
    "display(\n",
    "    Markdown(\n",
    "        f\"### Q2 2022 ({ANALYSIS_DATE}): \"\n",
    "        f\"{FORMATTED_HOURS} total service hours statewide\"\n",
    "    )\n",
    ")\n",
    "\n",
    "# Mass Transit PO (Performance Objective)\n",
    "# Performance Objectives"
   ]
  },
  {
   "cell_type": "code",
   "execution_count": null,
   "id": "4695f1ed-7ee3-4adf-a1fb-62fe49a42946",
   "metadata": {},
   "outputs": [],
   "source": [
    "def format_table(df: pd.DataFrame):\n",
    "    col_order = ['category', 'unique_route', 'pct_unique_route',\n",
    "                 'total_service_hours', 'pct_total_service_hours'\n",
    "                ]\n",
    "\n",
    "    rename_cols_dict = {\n",
    "        \"category\": \"Category\",\n",
    "        \"unique_route\": \"# Routes\",\n",
    "        \"pct_unique_route\": \"% Routes\",\n",
    "        \"total_service_hours\": \"Total Service Hours\",\n",
    "        \"pct_total_service_hours\": \"% Service Hours\",\n",
    "        \n",
    "    }\n",
    "    \n",
    "    df2 = (df[col_order]\n",
    "           .pipe(pmac_utils.sort_by_column)\n",
    "           .pipe(pmac_utils.clean_up_category_values)\n",
    "           .rename(columns = rename_cols_dict)\n",
    "          )\n",
    "\n",
    "    table = (df2.style.format(\n",
    "                subset = [\"# Routes\", \"Total Service Hours\"], \n",
    "                **{'formatter': '{:,}'})\n",
    "             .format(\n",
    "                 subset=[\"% Routes\", \"% Service Hours\"],\n",
    "                 **{'formatter': '{:.1%}'}\n",
    "             )\n",
    "             .set_properties(**{'text-align': 'center'})\n",
    "             .set_table_styles([dict(\n",
    "                 selector='th', \n",
    "                 props=[('text-align', 'center')])  \n",
    "                               ])\n",
    "             .hide(axis=\"index\")\n",
    "            .to_html() \n",
    "    )\n",
    "    \n",
    "    display(HTML(table))\n",
    "    \n",
    "    \n",
    "format_table(summary)"
   ]
  },
  {
   "cell_type": "code",
   "execution_count": null,
   "id": "30f3ccbf-b9e6-49a8-9cf7-ec03e34524e4",
   "metadata": {},
   "outputs": [],
   "source": []
  },
  {
   "cell_type": "code",
   "execution_count": null,
   "id": "c3e135dd-c034-4dcc-ad82-09c77aab21d5",
   "metadata": {},
   "outputs": [],
   "source": [
    "# Where district is missing, it's not parallel routes\n",
    "# So let's ignore those sections and focus on just parallel and do breakdown\n",
    "#plot_df[(plot_df.District.isna())].category.value_counts()"
   ]
  },
  {
   "cell_type": "code",
   "execution_count": null,
   "id": "2a9769a3-9186-450a-a710-6033f6ee6229",
   "metadata": {},
   "outputs": [],
   "source": [
    "def by_district_parallel_breakdown(df: pd.DataFrame) -> pd.DataFrame:\n",
    "    by_district = geography_utils.aggregate_by_geography(\n",
    "        df[df.category==\"parallel\"],\n",
    "        group_cols = [\"District\"],\n",
    "        sum_cols = [\"total_service_hours\", \"unique_route\"]\n",
    "    ).astype({\"total_service_hours\": int})\n",
    "\n",
    "    by_district = (pmac_utils.add_percent(\n",
    "        by_district, \n",
    "        [\"total_service_hours\", \"unique_route\"])\n",
    "        .sort_values(\"District\")\n",
    "    )\n",
    "\n",
    "    for c in [\"pct_total_service_hours\", \"pct_unique_route\"]:\n",
    "        by_district[c] = by_district[c].round(1)\n",
    "    \n",
    "    return by_district"
   ]
  },
  {
   "cell_type": "code",
   "execution_count": null,
   "id": "c55917d7-09c4-41e9-8b2b-a21cb8529fbf",
   "metadata": {},
   "outputs": [],
   "source": [
    "by_district = by_district_parallel_breakdown(plot_df)\n",
    "#by_district"
   ]
  },
  {
   "cell_type": "code",
   "execution_count": null,
   "id": "7faed671-aa09-4c22-b9b3-da1eeddb4fa7",
   "metadata": {},
   "outputs": [],
   "source": [
    "%%html\n",
    "<style>\n",
    "@import url('https://fonts.googleapis.com/css?family=Raleway');\n",
    "@import url('https://fonts.googleapis.com/css?family=Nunito+Sans');\n",
    "@import url('https://fonts.googleapis.com/css?family=Bitter');\n",
    "</style>"
   ]
  },
  {
   "cell_type": "code",
   "execution_count": null,
   "id": "1985fa95-1916-4ec7-95c9-e5df27477d6b",
   "metadata": {},
   "outputs": [],
   "source": [
    "def base_bar(df: pd.DataFrame) -> alt.Chart:\n",
    "    chart = (alt.Chart(df)\n",
    "             .mark_bar()\n",
    "             .encode(\n",
    "                 x=alt.X(\"District:N\", title=\"District\")\n",
    "             )\n",
    "            )\n",
    "    return chart\n",
    "\n",
    "\n",
    "def make_bar(df: pd.DataFrame, y_col: str) -> alt.Chart:\n",
    "    \"\"\"\n",
    "    Make bar chart that's total service hours or \n",
    "    average service hours by district.\n",
    "    \"\"\"\n",
    "    y_title = f\"{y_col.replace('_', ' ').title()}\"\n",
    "    \n",
    "    if y_col == \"total_service_hours\":\n",
    "        value_format = \",.0f\"\n",
    "        y_buffer = 1_400\n",
    "    else:\n",
    "        value_format = \",.1f\"\n",
    "        y_buffer = 10\n",
    "    \n",
    "    Y_MAX = df[y_col].max() + y_buffer\n",
    "    \n",
    "    bar = base_bar(df)\n",
    "    \n",
    "    bar = (bar.encode(\n",
    "        y=alt.Y(f\"{y_col}:Q\", title=f\"{y_title}\", \n",
    "                scale=alt.Scale(domain=[0, Y_MAX]),\n",
    "                axis=None\n",
    "               ),\n",
    "        color=alt.Color(\"District:N\", \n",
    "                        scale=alt.Scale(\n",
    "                            range=cp.CALITP_CATEGORY_BRIGHT_COLORS\n",
    "                        ), legend=None\n",
    "                )\n",
    "             )\n",
    "            )\n",
    "    #https://stackoverflow.com/questions/54015250/altair-setting-constant-label-color-for-bar-chart\n",
    "    text = (bar\n",
    "            .mark_text(align=\"center\", baseline=\"bottom\",\n",
    "                       color=\"black\", dy=-5  \n",
    "                      )\n",
    "            .encode(text=alt.Text(y_col, format=value_format), \n",
    "                    # Set color here, because encoding for mark_text gets \n",
    "                    # superseded by alt.Color\n",
    "                   color=alt.value(\"black\"), \n",
    "                   tooltip=[\"District:N\", \n",
    "                            alt.Tooltip(\"total_service_hours:Q\", format=\",\",\n",
    "                                        title=\"Total Service Hours\"\n",
    "                                       ),\n",
    "                            alt.Tooltip(f\"avg_service_hours:Q\", format=\",.1f\",\n",
    "                                        title='Avg Service Hours')] \n",
    "                   )\n",
    "    )\n",
    "      \n",
    "    chart = (bar+text)\n",
    "    \n",
    "    chart = (styleguide.preset_chart_config(chart)\n",
    "             .properties(title= {\n",
    "                 \"text\": f\"{y_title} by District\",\n",
    "                 \"subtitle\": \"Parallel Routes\"\n",
    "            }).configure_axis(grid=False)\n",
    "             .configure_view(strokeWidth=0)\n",
    "             .interactive()\n",
    "            )\n",
    "    \n",
    "    #chart.save(f\"{IMG_PATH}pmac_{y_col}.png\")\n",
    "    \n",
    "    display(chart)"
   ]
  },
  {
   "cell_type": "code",
   "execution_count": null,
   "id": "378a7f37-3a7a-4ad0-a228-89b21408b5d8",
   "metadata": {},
   "outputs": [],
   "source": [
    "by_district = by_district.assign(\n",
    "    avg_service_hours = by_district.total_service_hours.divide(\n",
    "        by_district.unique_route).round(1)\n",
    ")\n",
    "\n",
    "metrics = [\n",
    "    \"total_service_hours\", \n",
    "    \"avg_service_hours\"\n",
    "]\n",
    "\n",
    "for m in metrics:\n",
    "    make_bar(by_district, m)"
   ]
  },
  {
   "cell_type": "markdown",
   "id": "aee65310-bd12-4dfe-9fb4-237d43d0a163",
   "metadata": {},
   "source": [
    "## Map of Parallel / On SHN / Other Routes"
   ]
  },
  {
   "cell_type": "code",
   "execution_count": null,
   "id": "058dd099-90e2-490e-8a26-5858e00022fb",
   "metadata": {},
   "outputs": [],
   "source": [
    "def prep_data_for_viz():\n",
    "    # This categorized_routes_with_geom pulls from merge_routelines_trips\n",
    "    # and adds route's line geom\n",
    "    categorized_routes_with_geom = add_route_geom(ANALYSIS_DATE)\n",
    "    \n",
    "    category_labeling = {\n",
    "        \"parallel\": 0,\n",
    "        \"on_shn\": 1,\n",
    "        \"other\": 2,\n",
    "    }\n",
    "    \n",
    "    gdf = categorized_routes_with_geom.assign(\n",
    "        category2 = categorized_routes_with_geom.category.map(category_labeling),\n",
    "    ) \n",
    "    \n",
    "    # line must fall within CA\n",
    "    ca = hq_catalog.ca_boundary.read().to_crs(f\"EPSG: {gdf.crs.to_epsg()}\")\n",
    "\n",
    "    gdf = gpd.sjoin(\n",
    "        gdf,\n",
    "        ca,\n",
    "        how = \"inner\",\n",
    "        predicate = \"within\",\n",
    "    ).drop(columns= [\"index_right\"])\n",
    "\n",
    "    # Buffer to style the line, project to WGS84 for folium\n",
    "    gdf = gdf.assign(\n",
    "        geometry = gdf.geometry.simplify(tolerance=100).buffer(300)\n",
    "    ).to_crs(geography_utils.WGS84)\n",
    "    \n",
    "    return gdf\n",
    "\n",
    "\n",
    "gdf = prep_data_for_viz()"
   ]
  },
  {
   "cell_type": "code",
   "execution_count": null,
   "id": "d5605be4-b014-4673-8af5-061ba5fb6ee9",
   "metadata": {},
   "outputs": [],
   "source": [
    "MIN_VALUE = gdf.category2.min()\n",
    "MAX_VALUE = gdf.category2.max()\n",
    "\n",
    "#CAT_VALUES = sorted(gdf.category2.unique().tolist())\n",
    "\n",
    "colorscale = branca.colormap.StepColormap(\n",
    "    colors = [cp.CALITP_CATEGORY_BRIGHT_COLORS[0], \n",
    "              cp.CALITP_CATEGORY_BRIGHT_COLORS[1],\n",
    "              cp.CALITP_CATEGORY_BRIGHT_COLORS[2]\n",
    "             ],\n",
    "    # play with these thresholds to get all 3 colors displayed\n",
    "    # have to add an additional value beyond max_value so max_value displayed\n",
    "    # don't put index=CAT_VALUES\n",
    "    vmin = MIN_VALUE, vmax = MAX_VALUE, \n",
    ")\n",
    "\n",
    "display(colorscale)\n",
    "\n",
    "POPUP_DICT = {\n",
    "    \"itp_id\": \"ITP ID\", \n",
    "    \"category\": \"Category\",\n",
    "    \"route_id\": \"Route ID\", \n",
    "    \"total_service_hours\": \"Daily Service Hours\",\n",
    "    \"route_length_mi\": \"Route Length (mi)\",\n",
    "    \"District\": \"District\",\n",
    "}\n",
    "\n",
    "m = map_utils.make_folium_choropleth_map(\n",
    "    gdf,\n",
    "    plot_col = \"category2\",\n",
    "    popup_dict = POPUP_DICT, tooltip_dict = POPUP_DICT,\n",
    "    fig_width = 700, fig_height = 800,\n",
    "    colorscale = colorscale,\n",
    "    title = \"\",\n",
    "    legend_name = None\n",
    ")\n",
    "\n",
    "m"
   ]
  },
  {
   "cell_type": "code",
   "execution_count": null,
   "id": "77b85f72-029e-4b18-8f62-7df75f1a1f31",
   "metadata": {},
   "outputs": [],
   "source": []
  }
 ],
 "metadata": {
  "kernelspec": {
   "display_name": "Python 3 (ipykernel)",
   "language": "python",
   "name": "python3"
  },
  "language_info": {
   "codemirror_mode": {
    "name": "ipython",
    "version": 3
   },
   "file_extension": ".py",
   "mimetype": "text/x-python",
   "name": "python",
   "nbconvert_exporter": "python",
   "pygments_lexer": "ipython3",
   "version": "3.10.5"
  }
 },
 "nbformat": 4,
 "nbformat_minor": 5
}
