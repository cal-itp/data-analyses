{
 "cells": [
  {
   "cell_type": "markdown",
   "id": "aba3b0aa-73bf-4a8d-b4ee-64ecc98196fc",
   "metadata": {},
   "source": [
    "# Quarterly Mass Transit Performance Objective\n",
    "\n",
    "**01 - Increase total amount of service on the SHN and reliability of that service by 2024**\n",
    "\n",
    "Metrics: total service hours, average service hours, and number of transit routes (n, %).\n",
    "\n",
    "## Routes on the State Highway Network (SHN)\n",
    "\n",
    "Transit routes along the SHN can be categorized into 3 groups:\n",
    "1. **On SHN** - where at least 20% of the transit route runs the SHN (within 50 ft) \n",
    "2. **Intersects SHN** - where at least 35% of the transit route runs within 0.5 mile of the SHN.\n",
    "3. **Other** - all other transit routes."
   ]
  },
  {
   "cell_type": "code",
   "execution_count": null,
   "id": "792ee3df-ebcb-4bf7-a7f2-f7f903efe126",
   "metadata": {},
   "outputs": [],
   "source": [
    "import geopandas as gpd\n",
    "import intake\n",
    "import pandas as pd\n",
    "\n",
    "from IPython.display import HTML, Markdown\n",
    "\n",
    "import B1_report_metrics as report_metrics\n",
    "import B2_report_charts as report_charts\n",
    "from update_vars import ANALYSIS_DATE, BUS_SERVICE_GCS, CURRENT_QUARTER\n",
    "from shared_utils import geography_utils, portfolio_utils\n",
    "from shared_utils import calitp_color_palette as cp\n",
    "from bus_service_utils import chart_utils\n",
    "\n",
    "hq_catalog = intake.open_catalog(\"../high_quality_transit_areas/*.yml\")"
   ]
  },
  {
   "cell_type": "code",
   "execution_count": null,
   "id": "add13293-3d9d-40e0-b1fb-c50b89fe84de",
   "metadata": {},
   "outputs": [],
   "source": [
    "df = gpd.read_parquet(\n",
    "    f\"{BUS_SERVICE_GCS}routes_categorized_with_delay_{ANALYSIS_DATE}.parquet\")"
   ]
  },
  {
   "cell_type": "code",
   "execution_count": null,
   "id": "803015d0-1530-41ef-99c4-9550253a3c14",
   "metadata": {},
   "outputs": [],
   "source": [
    "def route_type_names(row): \n",
    "    if row.route_type in ['0', '1', '2']:\n",
    "        return \"Rail\"\n",
    "    elif row.route_type == '3':\n",
    "        return \"Bus\"\n",
    "    elif row.route_type == '4':\n",
    "        return \"Ferry\"\n",
    "    else:\n",
    "        return \"Unknown\"\n",
    "\n",
    "    \n",
    "# Some interest in excluding modes like rail from District 4\n",
    "df = df.assign(\n",
    "    route_type_name = df.apply(lambda x: route_type_names(x), axis=1),\n",
    "    delay_hours = round(df.delay_seconds / 60 ** 2, 2)\n",
    ").drop(columns = \"delay_seconds\")\n",
    "\n",
    "\n",
    "#df[df.category==\"on_shn\"].route_type_name.value_counts()\n",
    "# This shows that only Bus and Unknown are present for on_shn"
   ]
  },
  {
   "cell_type": "code",
   "execution_count": null,
   "id": "26c80e11-9273-44e5-8b06-edfb20f6b118",
   "metadata": {},
   "outputs": [],
   "source": [
    "#df.route_type_name.value_counts()\n",
    "#df[(df.route_type_name==\"Unknown\")].calitp_itp_id.value_counts()\n",
    "#df[df.category==\"intersects_shn\"].route_type_name.value_counts()"
   ]
  },
  {
   "cell_type": "code",
   "execution_count": null,
   "id": "e022a8a3-9fc4-4e27-8e4e-e66c16df8e21",
   "metadata": {},
   "outputs": [],
   "source": [
    "# Should I subset to df[df._merge==\"both\"]?\n",
    "# both means that it found a corresponding match in itp_id-route_id \n",
    "# since it's been aggregated up to route_id level (shape_id can mismatch more easily)\n",
    "# Decide here, this is the subset of data I will use for rest of notebook\n",
    "plot_df = df[df._merge==\"both\"]"
   ]
  },
  {
   "cell_type": "markdown",
   "id": "c22bad3d-2f2c-4e1c-8aae-edc59377410a",
   "metadata": {},
   "source": [
    "## Statewide Stats  \n",
    "\n",
    "* How many service hours are scheduled for a typical weekday for (1)?"
   ]
  },
  {
   "cell_type": "code",
   "execution_count": null,
   "id": "79217ca7-e3d6-46eb-b5f9-4bf79c230f24",
   "metadata": {},
   "outputs": [],
   "source": [
    "summary = report_metrics.get_service_hours_summary_table(plot_df)  "
   ]
  },
  {
   "cell_type": "code",
   "execution_count": null,
   "id": "92e49d50-009f-4b2e-9661-688b81c38694",
   "metadata": {},
   "outputs": [],
   "source": [
    "all_hours = geography_utils.aggregate_by_geography(\n",
    "    summary.assign(category=\"All\"),\n",
    "    group_cols = [\"category\"],\n",
    "    sum_cols = [\"unique_route\", \"service_hours\"]\n",
    ")"
   ]
  },
  {
   "cell_type": "code",
   "execution_count": null,
   "id": "5ef150ae-3dda-42ec-af43-13b36df5e231",
   "metadata": {},
   "outputs": [],
   "source": [
    "STATEWIDE_HOURS = all_hours.service_hours.iloc[0]\n",
    "FORMATTED_HOURS = f'{STATEWIDE_HOURS:,}' \n",
    "\n",
    "display(\n",
    "    Markdown(\n",
    "        f\"### {CURRENT_QUARTER.replace('_', ' ')} ({ANALYSIS_DATE}): \"\n",
    "        f\"{FORMATTED_HOURS} total service hours statewide\"\n",
    "    )\n",
    ")"
   ]
  },
  {
   "cell_type": "code",
   "execution_count": null,
   "id": "81c94bf7-f55b-43e2-9204-ad70b45f61a2",
   "metadata": {},
   "outputs": [],
   "source": [
    "service_cols_dict = {\n",
    "    \"category\": \"Category\",\n",
    "    \"service_hours\": \"Service Hours\",\n",
    "    \"pct_total_service_hours\": \"% Service Hours\",\n",
    "    \"unique_route\": \"# Routes\",\n",
    "    \"pct_unique_route\": \"% Routes\",\n",
    "    \"service_hrs_per_route\": \"Service Hours per Route\",\n",
    "}\n",
    "\n",
    "summary_styled = portfolio_utils.style_table(\n",
    "    summary, \n",
    "    rename_cols = service_cols_dict, \n",
    "    integer_cols = [\"Service Hours\", \"# Routes\"],\n",
    "    one_decimal_cols = [\"Service Hours per Route\"],\n",
    "    left_align_cols = \"first\",\n",
    "    center_align_cols = \"all\",\n",
    "    custom_format_cols = {'{:.1%}': [\"% Service Hours\", \"% Routes\"]},\n",
    "    display_table = True\n",
    ")"
   ]
  },
  {
   "cell_type": "markdown",
   "id": "4466056e-6c6e-437f-acec-f9e9323d5153",
   "metadata": {},
   "source": [
    "## Reliability (Delay)\n",
    "\n",
    "Be careful here, since delay is not merged onto every route. \n",
    "\n",
    "Need apples to apples comparison across quarters."
   ]
  },
  {
   "cell_type": "code",
   "execution_count": null,
   "id": "0867cb50-8fdc-43a7-a286-e3c782792cb3",
   "metadata": {},
   "outputs": [],
   "source": [
    "delay_df = plot_df[plot_df.merge_delay==\"both\"]\n",
    "delay_summary = report_metrics.get_delay_summary_table(delay_df)"
   ]
  },
  {
   "cell_type": "code",
   "execution_count": null,
   "id": "6c3fdecd-9b56-4121-9d97-f1b22fe67fab",
   "metadata": {},
   "outputs": [],
   "source": [
    "delay_cols_dict = {\n",
    "    \"category\": \"Category\",\n",
    "    \"delay_hours\": \"Total Delay Hours\",\n",
    "    \"pct_delay_hours\": \"% Delay Hours\",\n",
    "    \"unique_route\": \"# Routes\",\n",
    "    \"pct_unique_route\": \"% Routes\",\n",
    "    \"delay_hours_per_route\": \"Delay Hours per Route\",\n",
    "}\n",
    "\n",
    "delay_summary_styled = portfolio_utils.style_table(\n",
    "    delay_summary, \n",
    "    rename_cols = delay_cols_dict, \n",
    "    integer_cols = [\"Total Delay Hours\", \"# Routes\"],\n",
    "    two_decimal_cols = [\"Delay Hours per Route\"],\n",
    "    left_align_cols = \"first\",\n",
    "    center_align_cols = \"all\",\n",
    "    custom_format_cols = {'{:.1%}': [\"% Delay Hours\", \"% Routes\"]},\n",
    "    display_table = True\n",
    ")"
   ]
  },
  {
   "cell_type": "code",
   "execution_count": null,
   "id": "d4a74098-6dce-42ec-8393-545e97bd7e04",
   "metadata": {},
   "outputs": [],
   "source": [
    "# Have some rows where district is missing\n",
    "# focus on just the on_shn category and do district breakdown\n",
    "#plot_df[(plot_df.District.isna())].category.value_counts()\n",
    "\n",
    "\n",
    "# Chart utils\n",
    "WIDTH = 300\n",
    "HEIGHT = 200"
   ]
  },
  {
   "cell_type": "code",
   "execution_count": null,
   "id": "5f948e21-1555-4892-a4c2-1da54a84c268",
   "metadata": {},
   "outputs": [],
   "source": [
    "by_district_service = report_metrics.by_district_on_shn_breakdown(\n",
    "    plot_df, [\"service_hours\", \"unique_route\"])\n",
    "\n",
    "bar_total = (report_charts.make_bar(by_district_service, \"service_hours\")\n",
    "             .properties(width=WIDTH, height=HEIGHT)  \n",
    "            )\n",
    "bar_avg = (report_charts.make_bar(by_district_service, \"avg_service_hours\")\n",
    "           .properties(width=WIDTH, height=HEIGHT)\n",
    "          )\n",
    "\n",
    "service_hours_chart = report_charts.configure_hconcat_charts(\n",
    "    [bar_total, bar_avg], \n",
    "    x_scale=\"independent\", \n",
    "    y_scale=\"independent\", \n",
    "    chart_title=\"Service Hours by District\")\n",
    "\n",
    "service_hours_chart"
   ]
  },
  {
   "cell_type": "code",
   "execution_count": null,
   "id": "24d959ea-e8fe-46fc-a2d2-bb85ada4f627",
   "metadata": {},
   "outputs": [],
   "source": [
    "by_district_delay = report_metrics.by_district_on_shn_breakdown(\n",
    "    plot_df, [\"delay_hours\", \"unique_route\"]\n",
    ")\n",
    "\n",
    "bar_total = (report_charts.make_bar(by_district_delay, \"delay_hours\")\n",
    "             .properties(width=WIDTH, height=HEIGHT)      \n",
    "            )\n",
    "bar_avg = (report_charts.make_bar(by_district_delay, \"avg_delay_hours\")\n",
    "           .properties(width=WIDTH, height=HEIGHT)\n",
    "          )\n",
    "\n",
    "delay_hours_chart = report_charts.configure_hconcat_charts(\n",
    "    [bar_total, bar_avg], \n",
    "    x_scale=\"independent\", \n",
    "    y_scale=\"independent\", \n",
    "    chart_title=\"Delay Hours by District\")\n",
    "\n",
    "delay_hours_chart"
   ]
  },
  {
   "cell_type": "markdown",
   "id": "aee65310-bd12-4dfe-9fb4-237d43d0a163",
   "metadata": {},
   "source": [
    "## Map of Routes by Category"
   ]
  },
  {
   "cell_type": "code",
   "execution_count": null,
   "id": "058dd099-90e2-490e-8a26-5858e00022fb",
   "metadata": {},
   "outputs": [],
   "source": [
    "def prep_data_for_viz(df: gpd.GeoDataFrame):\n",
    "    gdf = report_metrics.clean_up_category_values(df)\n",
    "    \n",
    "    # line must fall within CA\n",
    "    ca = hq_catalog.ca_boundary.read().to_crs(f\"EPSG: {gdf.crs.to_epsg()}\")\n",
    "\n",
    "    gdf = gpd.sjoin(\n",
    "        gdf,\n",
    "        ca,\n",
    "        how = \"inner\",\n",
    "        predicate = \"within\",\n",
    "    ).drop(columns= [\"index_right\"])\n",
    "\n",
    "    # Buffer to style the line, project to WGS84 for folium\n",
    "    gdf = gdf.assign(\n",
    "        geometry = (gdf.geometry.to_crs(geography_utils.CA_StatePlane)\n",
    "                    .buffer(250).simplify(tolerance=100)\n",
    "                    .to_crs(geography_utils.WGS84)\n",
    "                   )\n",
    "    )\n",
    "    \n",
    "    # Drop columns that shouldn't get displayed in tooltip\n",
    "    drop_cols = [\"_merge\", \"merge_delay\", \"State\"]\n",
    "    \n",
    "    gdf2 = gdf.drop(columns = drop_cols)\n",
    "    \n",
    "    return gdf2\n",
    "\n",
    "\n",
    "drop_cols = [\"unique_route\"]\n",
    "gdf = prep_data_for_viz(df.drop(columns = drop_cols))"
   ]
  },
  {
   "cell_type": "markdown",
   "id": "559fbcde-f01d-400f-bb15-b7c770997abb",
   "metadata": {},
   "source": [
    "### All Routes (modes: rail, bus, ferry, unknown)"
   ]
  },
  {
   "cell_type": "code",
   "execution_count": null,
   "id": "735ccd97-9c90-47c6-b768-bc09f02b887b",
   "metadata": {},
   "outputs": [],
   "source": [
    "route_map = gdf.explore(\n",
    "    \"category\", \n",
    "    categorical=True, \n",
    "    cmap = [cp.CALITP_CATEGORY_BRIGHT_COLORS[0], \n",
    "            cp.CALITP_CATEGORY_BRIGHT_COLORS[1],\n",
    "            cp.CALITP_CATEGORY_BRIGHT_COLORS[2]\n",
    "    ],\n",
    "    tiles = \"Carto DB Positron\"\n",
    ")\n",
    "\n",
    "route_map"
   ]
  },
  {
   "cell_type": "markdown",
   "id": "2073f399-5203-410e-8420-e32787a9c084",
   "metadata": {},
   "source": [
    "### Rail / Ferry / Unknown Routes"
   ]
  },
  {
   "cell_type": "code",
   "execution_count": null,
   "id": "b4a27707-7044-449f-af87-f46e0a2ab3bc",
   "metadata": {},
   "outputs": [],
   "source": [
    "include = [\"Rail\", \"Ferry\", \"Unknown\"]\n",
    "\n",
    "route_map2 = gdf[gdf.route_type_name.isin(include)].explore(\n",
    "    \"category\", \n",
    "    categorical=True, \n",
    "    cmap = [cp.CALITP_CATEGORY_BRIGHT_COLORS[0], \n",
    "            cp.CALITP_CATEGORY_BRIGHT_COLORS[1],\n",
    "            cp.CALITP_CATEGORY_BRIGHT_COLORS[2]\n",
    "    ],\n",
    "    tiles = \"Carto DB Positron\"\n",
    ")\n",
    "\n",
    "route_map2"
   ]
  },
  {
   "cell_type": "markdown",
   "id": "1044759a-0f99-43c6-8077-c3bacf71bf93",
   "metadata": {},
   "source": [
    "### Bus Routes"
   ]
  },
  {
   "cell_type": "code",
   "execution_count": null,
   "id": "115b2877-71c6-40ca-943d-2fd6529cef28",
   "metadata": {},
   "outputs": [],
   "source": [
    "include = [\"Bus\"]\n",
    "\n",
    "route_map3 = gdf[gdf.route_type_name.isin(include)].explore(\n",
    "    \"category\", \n",
    "    categorical=True, \n",
    "    cmap = [cp.CALITP_CATEGORY_BRIGHT_COLORS[0], \n",
    "            cp.CALITP_CATEGORY_BRIGHT_COLORS[1],\n",
    "            cp.CALITP_CATEGORY_BRIGHT_COLORS[2]\n",
    "    ],\n",
    "    tiles = \"Carto DB Positron\"\n",
    ")\n",
    "\n",
    "route_map3"
   ]
  }
 ],
 "metadata": {
  "kernelspec": {
   "display_name": "Python 3 (ipykernel)",
   "language": "python",
   "name": "python3"
  },
  "language_info": {
   "codemirror_mode": {
    "name": "ipython",
    "version": 3
   },
   "file_extension": ".py",
   "mimetype": "text/x-python",
   "name": "python",
   "nbconvert_exporter": "python",
   "pygments_lexer": "ipython3",
   "version": "3.10.6"
  }
 },
 "nbformat": 4,
 "nbformat_minor": 5
}
