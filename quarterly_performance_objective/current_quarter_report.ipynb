{
 "cells": [
  {
   "cell_type": "markdown",
   "id": "aba3b0aa-73bf-4a8d-b4ee-64ecc98196fc",
   "metadata": {},
   "source": [
    "# Current Quarter\n",
    "\n",
    "<b>01 - Increase total amount of service on the SHN and reliability of that service by 2024</b>\n",
    "\n",
    "## Routes on the State Highway Network (SHN)\n",
    "\n",
    "Transit routes along the SHN can be categorized into 3 groups:\n",
    "1. **On SHN** - where at least 20% of the transit route runs the SHN (within 50 ft) \n",
    "2. **Intersects SHN** - where at least 35% of the transit route runs within 0.5 mile of the SHN.\n",
    "3. **Other** - all other transit routes.\n",
    "\n",
    "### Metrics\n",
    "* service hours, service hours per route\n",
    "* delay hours, delay hours per route\n",
    "* map of route by category (and by mode)\n",
    "\n",
    "The metrics are shown for for transit routes **on the SHN** and **intersects SHN**."
   ]
  },
  {
   "cell_type": "code",
   "execution_count": null,
   "id": "792ee3df-ebcb-4bf7-a7f2-f7f903efe126",
   "metadata": {},
   "outputs": [],
   "source": [
    "%%capture\n",
    "import warnings\n",
    "warnings.filterwarnings('ignore')\n",
    "\n",
    "import altair as alt\n",
    "import calitp_data_analysis.magics\n",
    "import geopandas as gpd\n",
    "import intake\n",
    "import pandas as pd\n",
    "\n",
    "from IPython.display import HTML\n",
    "\n",
    "import report_metrics\n",
    "import report_charts\n",
    "from update_vars import BUS_SERVICE_GCS, CURRENT_QUARTER, ANALYSIS_DATE\n",
    "from shared_utils import portfolio_utils, rt_dates\n",
    "from calitp_data_analysis import calitp_color_palette as cp\n",
    "from calitp_data_analysis import styleguide\n",
    "\n",
    "hq_catalog = intake.open_catalog(\"../high_quality_transit_areas/*.yml\")"
   ]
  },
  {
   "cell_type": "code",
   "execution_count": null,
   "id": "a15fcf6a-b0d4-47f0-be78-118ddf43ab91",
   "metadata": {
    "tags": [
     "parameters"
    ]
   },
   "outputs": [],
   "source": [
    "# parameters cell"
   ]
  },
  {
   "cell_type": "code",
   "execution_count": null,
   "id": "e00a8689-f56e-47d4-bd4a-6795122a1e86",
   "metadata": {},
   "outputs": [],
   "source": [
    "%%capture_parameters\n",
    "QUARTER_CLEANED = CURRENT_QUARTER.replace('_', ' ')\n",
    "CURRENT_QUARTER, ANALYSIS_DATE, QUARTER_CLEANED"
   ]
  },
  {
   "cell_type": "code",
   "execution_count": null,
   "id": "add13293-3d9d-40e0-b1fb-c50b89fe84de",
   "metadata": {},
   "outputs": [],
   "source": [
    "df = report_metrics.prep_data_for_report(ANALYSIS_DATE)"
   ]
  },
  {
   "cell_type": "markdown",
   "id": "c22bad3d-2f2c-4e1c-8aae-edc59377410a",
   "metadata": {},
   "source": [
    "## Statewide Stats for {QUARTER_CLEANED} ({ANALYSIS_DATE})"
   ]
  },
  {
   "cell_type": "code",
   "execution_count": null,
   "id": "79217ca7-e3d6-46eb-b5f9-4bf79c230f24",
   "metadata": {},
   "outputs": [],
   "source": [
    "summary = report_metrics.get_service_hours_summary_table(df)  "
   ]
  },
  {
   "cell_type": "code",
   "execution_count": null,
   "id": "92e49d50-009f-4b2e-9661-688b81c38694",
   "metadata": {},
   "outputs": [],
   "source": [
    "all_hours = portfolio_utils.aggregate_by_geography(\n",
    "    summary.assign(category=\"All\"),\n",
    "    group_cols = [\"category\"],\n",
    "    sum_cols = [\"unique_route\", \"service_hours\"]\n",
    ")"
   ]
  },
  {
   "cell_type": "code",
   "execution_count": null,
   "id": "5ef150ae-3dda-42ec-af43-13b36df5e231",
   "metadata": {},
   "outputs": [],
   "source": [
    "STATEWIDE_HOURS = all_hours.service_hours.iloc[0]\n",
    "FORMATTED_HOURS = f'{STATEWIDE_HOURS:,}' \n",
    "AVG_SERVICE = round(STATEWIDE_HOURS / all_hours.unique_route.iloc[0], 1)\n",
    "\n",
    "display(\n",
    "    HTML(\n",
    "        f\"<h3>{FORMATTED_HOURS} total service hours statewide</h3>\"\n",
    "        f\"<h3>{AVG_SERVICE} service hours per route statewide</h3>\"\n",
    "\n",
    "    )\n",
    ")"
   ]
  },
  {
   "cell_type": "code",
   "execution_count": null,
   "id": "78da2714-2999-4763-ab71-b041a68c5d68",
   "metadata": {},
   "outputs": [],
   "source": [
    "# Chart utils\n",
    "HEIGHT = 200\n",
    "WIDTH = 150\n",
    "\n",
    "color_dict = {\n",
    "    \"On SHN\": cp.CALITP_CATEGORY_BRIGHT_COLORS[3],\n",
    "    \"Intersects SHN\": cp.CALITP_CATEGORY_BRIGHT_COLORS[4],\n",
    "    \"Other\": cp.CALITP_CATEGORY_BRIGHT_COLORS[1]\n",
    "}\n",
    "\n",
    "def make_bar_by_category(df: pd.DataFrame, x_col: str,\n",
    "                         y_col: str) -> alt.Chart:\n",
    "    \n",
    "    base_bar = report_charts.base_bar(df, x_col = x_col)\n",
    "    legend_sort_order = [\"On SHN\", \"Intersects SHN\", \"Other\"]\n",
    "    \n",
    "    y_title = y_col.replace('_', ' ').title()\n",
    "    \n",
    "    chart = base_bar.encode(\n",
    "        x = alt.X(x_col, sort = legend_sort_order),\n",
    "        y = alt.Y(f\"{y_col}:Q\", title = f\"{y_title}\"),\n",
    "        color = alt.Color(f\"{x_col}:N\", title = f\"{x_col.title()}\",\n",
    "                          scale = alt.Scale(domain = legend_sort_order,\n",
    "                              range = list(color_dict.values())))\n",
    "    )\n",
    "    \n",
    "    chart = (chart\n",
    "             .properties(width = WIDTH, height = HEIGHT, \n",
    "                         title= f\"{y_title} by Category\")\n",
    "            )\n",
    "    \n",
    "    return chart\n",
    "\n",
    "s1 = make_bar_by_category(summary, x_col = \"category\", \n",
    "                          y_col = \"service_hours_per_route\")\n",
    "s2 = make_bar_by_category(summary, x_col = \"category\", \n",
    "                          y_col = \"service_hours\")\n",
    "\n",
    "combined = alt.hconcat(s1, s2)\n",
    "combined = styleguide.apply_chart_config(combined)\n",
    "\n",
    "combined"
   ]
  },
  {
   "cell_type": "code",
   "execution_count": null,
   "id": "81c94bf7-f55b-43e2-9204-ad70b45f61a2",
   "metadata": {},
   "outputs": [],
   "source": [
    "service_cols_dict = {\n",
    "    \"category\": \"Category\",\n",
    "    \"service_hours\": \"Service Hours\",\n",
    "    \"pct_service_hours\": \"% Service Hours\",\n",
    "    \"unique_route\": \"# Routes\",\n",
    "    \"pct_unique_route\": \"% Routes\",\n",
    "    \"service_hours_per_route\": \"Service Hours per Route\",\n",
    "}\n",
    "\n",
    "summary_styled = portfolio_utils.style_table(\n",
    "    summary, \n",
    "    rename_cols = service_cols_dict, \n",
    "    integer_cols = [\"Service Hours\", \"# Routes\"],\n",
    "    one_decimal_cols = [\"Service Hours per Route\"],\n",
    "    left_align_cols = \"first\",\n",
    "    center_align_cols = \"all\",\n",
    "    custom_format_cols = {'{:.1%}': [\"% Service Hours\", \"% Routes\"]},\n",
    "    display_table = True\n",
    ")"
   ]
  },
  {
   "cell_type": "markdown",
   "id": "4466056e-6c6e-437f-acec-f9e9323d5153",
   "metadata": {},
   "source": [
    "## Reliability (Delay)\n",
    "\n",
    "Note: Not every route has GTFS Real-Time information, which supplies delay data."
   ]
  },
  {
   "cell_type": "code",
   "execution_count": null,
   "id": "0867cb50-8fdc-43a7-a286-e3c782792cb3",
   "metadata": {},
   "outputs": [],
   "source": [
    "delay_summary = report_metrics.get_delay_summary_table(df)"
   ]
  },
  {
   "cell_type": "code",
   "execution_count": null,
   "id": "3e12806f-bf4a-453d-a753-ffe42f2a7b90",
   "metadata": {},
   "outputs": [],
   "source": [
    "delay_summary"
   ]
  },
  {
   "cell_type": "code",
   "execution_count": null,
   "id": "fdf3b32c-6842-4c16-b076-805c7f1c9f68",
   "metadata": {},
   "outputs": [],
   "source": [
    "STATEWIDE_DELAY = delay_summary.delay_hours.sum()\n",
    "FORMATTED_HOURS = f'{STATEWIDE_DELAY:,g}' \n",
    "AVG_DELAY = round(STATEWIDE_DELAY / delay_summary.unique_route.sum(), 2)\n",
    "\n",
    "\n",
    "display(\n",
    "    HTML(\n",
    "        f\"<h3>{FORMATTED_HOURS} total delay hours statewide</h3>\"\n",
    "        f\"<h3>{AVG_DELAY} delay hours per route statewide</h3>\"\n",
    "    )\n",
    ")"
   ]
  },
  {
   "cell_type": "code",
   "execution_count": null,
   "id": "a677fc4c-3156-4ecc-abbb-334e3849cec4",
   "metadata": {},
   "outputs": [],
   "source": [
    "d1 = make_bar_by_category(delay_summary, x_col = \"category\", \n",
    "                          y_col = \"delay_hours_per_route\")\n",
    "d2 = make_bar_by_category(delay_summary, x_col = \"category\", \n",
    "                          y_col = \"delay_hours\")\n",
    "\n",
    "combined = alt.hconcat(d1, d2)\n",
    "combined = styleguide.apply_chart_config(combined)\n",
    "\n",
    "combined"
   ]
  },
  {
   "cell_type": "code",
   "execution_count": null,
   "id": "6c3fdecd-9b56-4121-9d97-f1b22fe67fab",
   "metadata": {},
   "outputs": [],
   "source": [
    "delay_cols_dict = {\n",
    "    \"category\": \"Category\",\n",
    "    \"delay_hours\": \"Total Delay Hours\",\n",
    "    \"pct_delay_hours\": \"% Delay Hours\",\n",
    "    \"unique_route\": \"# Routes\",\n",
    "    \"pct_unique_route\": \"% Routes\",\n",
    "    \"delay_hours_per_route\": \"Delay Hours per Route\",\n",
    "}\n",
    "\n",
    "delay_summary_styled = portfolio_utils.style_table(\n",
    "    delay_summary, \n",
    "    rename_cols = delay_cols_dict, \n",
    "    integer_cols = [\"Total Delay Hours\", \"# Routes\"],\n",
    "    two_decimal_cols = [\"Delay Hours per Route\"],\n",
    "    left_align_cols = \"first\",\n",
    "    center_align_cols = \"all\",\n",
    "    custom_format_cols = {'{:.1%}': [\"% Delay Hours\", \"% Routes\"]},\n",
    "    display_table = True\n",
    ")"
   ]
  },
  {
   "cell_type": "markdown",
   "id": "94f69cf9-4e05-4c49-b19b-81661d394169",
   "metadata": {},
   "source": [
    "## By District"
   ]
  },
  {
   "cell_type": "code",
   "execution_count": null,
   "id": "d4a74098-6dce-42ec-8393-545e97bd7e04",
   "metadata": {},
   "outputs": [],
   "source": [
    "# Have some rows where district is missing, \n",
    "# but only for intersects_shn and other categories\n",
    "# focus on just the on_shn category and do district breakdown\n",
    "df[(df.district.isna())].category.value_counts()"
   ]
  },
  {
   "cell_type": "code",
   "execution_count": null,
   "id": "5f948e21-1555-4892-a4c2-1da54a84c268",
   "metadata": {},
   "outputs": [],
   "source": [
    "# Chart utils\n",
    "WIDTH = 300\n",
    "HEIGHT = 200\n",
    "\n",
    "by_district_service = report_metrics.by_district_on_shn_breakdown(\n",
    "    df, [\"service_hours\", \"unique_route\"])\n",
    "\n",
    "bar_total = (report_charts.make_district_bar(\n",
    "            by_district_service, \"service_hours\")\n",
    "            .properties(width=WIDTH, height=HEIGHT)  \n",
    "            )\n",
    "bar_avg = (report_charts.make_district_bar(\n",
    "            by_district_service, \"avg_service_hours\")\n",
    "           .properties(width=WIDTH, height=HEIGHT)\n",
    "          )\n",
    "\n",
    "service_hours_chart = report_charts.configure_hconcat_charts(\n",
    "    [bar_avg, bar_total], \n",
    "    x_scale=\"independent\", \n",
    "    y_scale=\"independent\", \n",
    "    chart_title=\"Service Hours by District\")\n",
    "\n",
    "service_hours_chart"
   ]
  },
  {
   "cell_type": "code",
   "execution_count": null,
   "id": "24d959ea-e8fe-46fc-a2d2-bb85ada4f627",
   "metadata": {},
   "outputs": [],
   "source": [
    "by_district_delay = report_metrics.by_district_on_shn_breakdown(\n",
    "    df, [\"delay_hours\", \"unique_route\"]\n",
    ")\n",
    "\n",
    "bar_total = (report_charts.make_district_bar(\n",
    "            by_district_delay, \"delay_hours\")\n",
    "            .properties(width=WIDTH, height=HEIGHT)      \n",
    "            )\n",
    "bar_avg = (report_charts.make_district_bar(\n",
    "            by_district_delay, \"avg_delay_hours\")\n",
    "           .properties(width=WIDTH, height=HEIGHT)\n",
    "          )\n",
    "\n",
    "delay_hours_chart = report_charts.configure_hconcat_charts(\n",
    "    [bar_avg, bar_total], \n",
    "    x_scale=\"independent\", \n",
    "    y_scale=\"independent\", \n",
    "    chart_title=\"Delay Hours by District\")\n",
    "\n",
    "delay_hours_chart"
   ]
  },
  {
   "cell_type": "markdown",
   "id": "aee65310-bd12-4dfe-9fb4-237d43d0a163",
   "metadata": {},
   "source": [
    "## Map of Routes by Category"
   ]
  },
  {
   "cell_type": "code",
   "execution_count": null,
   "id": "058dd099-90e2-490e-8a26-5858e00022fb",
   "metadata": {},
   "outputs": [],
   "source": [
    "def data_for_viz(df: gpd.GeoDataFrame):\n",
    "    gdf = report_metrics.clean_up_category_values(df)\n",
    "    \n",
    "    # line must fall within CA\n",
    "    ca = hq_catalog.ca_boundary.read().to_crs(f\"EPSG: {gdf.crs.to_epsg()}\")\n",
    "\n",
    "    gdf = gpd.sjoin(\n",
    "        gdf,\n",
    "        ca,\n",
    "        how = \"inner\",\n",
    "        predicate = \"within\",\n",
    "    ).drop(columns= [\"index_right\"])\n",
    "    \n",
    "    # Drop columns that shouldn't get displayed in tooltip\n",
    "    drop_cols = [\n",
    "        \"rt_sched_category\", \n",
    "        \"State\", \"unique_route\"]\n",
    "    \n",
    "    gdf2 = gdf.drop(columns = drop_cols)\n",
    "    \n",
    "    return gdf2\n",
    "\n",
    "\n",
    "gdf = data_for_viz(df)"
   ]
  },
  {
   "cell_type": "markdown",
   "id": "559fbcde-f01d-400f-bb15-b7c770997abb",
   "metadata": {},
   "source": [
    "### All Routes"
   ]
  },
  {
   "cell_type": "code",
   "execution_count": null,
   "id": "735ccd97-9c90-47c6-b768-bc09f02b887b",
   "metadata": {},
   "outputs": [],
   "source": [
    "def make_map(gdf: gpd.GeoDataFrame): \n",
    "    # category is going to be sorted alphabetically,\n",
    "    # so sort our color_dict\n",
    "    sorted_dict = dict(sorted(color_dict.items()))\n",
    "    \n",
    "    m = gdf.explore(\n",
    "        \"category\", categorical=True,\n",
    "        cmap = list(sorted_dict.values()),\n",
    "        tiles = \"Carto DB Positron\"\n",
    "    )\n",
    "\n",
    "    display(m)\n",
    "    \n",
    "make_map(gdf)"
   ]
  },
  {
   "cell_type": "code",
   "execution_count": null,
   "id": "948cb692-79b3-428a-a91d-e38ed3763d06",
   "metadata": {},
   "outputs": [],
   "source": []
  }
 ],
 "metadata": {
  "kernelspec": {
   "display_name": "Python 3 (ipykernel)",
   "language": "python",
   "name": "python3"
  },
  "language_info": {
   "codemirror_mode": {
    "name": "ipython",
    "version": 3
   },
   "file_extension": ".py",
   "mimetype": "text/x-python",
   "name": "python",
   "nbconvert_exporter": "python",
   "pygments_lexer": "ipython3",
   "version": "3.9.13"
  }
 },
 "nbformat": 4,
 "nbformat_minor": 5
}
