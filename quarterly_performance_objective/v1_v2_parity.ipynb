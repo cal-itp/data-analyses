{
 "cells": [
  {
   "cell_type": "markdown",
   "id": "92ed2aca-15b9-4551-a2f3-fd64e0d0c4de",
   "metadata": {},
   "source": [
    "# Quarterly metrics: v1 and v2 parity\n",
    "\n",
    "* Step through each step, from raw data from BQ to processed data and compare v1 to v2\n",
    "* `district` is now determined differently, at the route-level, instead of `itp_id` level\n",
    "* Do a geospatial overlay to find which district that route mostly overlaps with\n",
    "* Constraint is because we used to match `itp_id` to get `caltrans_district`, but moving to warehouse v2, we don't have a corresponding table to go from `feed_key` to `caltrans_district`. \n",
    "* If we just determine it geospatially, it won't matter as much, but it does mean that within an operator, it can have routes in different districts"
   ]
  },
  {
   "cell_type": "code",
   "execution_count": 1,
   "id": "9db055a1-5b08-4ad5-b686-219811c685fd",
   "metadata": {},
   "outputs": [
    {
     "name": "stderr",
     "output_type": "stream",
     "text": [
      "/opt/conda/lib/python3.9/site-packages/geopandas/_compat.py:123: UserWarning: The Shapely GEOS version (3.10.3-CAPI-1.16.1) is incompatible with the GEOS version PyGEOS was compiled with (3.10.1-CAPI-1.16.0). Conversions between both will be slow.\n",
      "  warnings.warn(\n"
     ]
    }
   ],
   "source": [
    "import geopandas as gpd\n",
    "import pandas as pd\n",
    "\n",
    "from shared_utils import rt_dates\n",
    "from IPython.display import Markdown\n",
    "from update_vars import BUS_SERVICE_GCS, COMPILED_CACHED_GCS \n",
    "\n",
    "date_q2 = rt_dates.PMAC[\"Q2_2022\"]\n",
    "date_q3 = rt_dates.PMAC[\"Q3_2022\"]\n",
    "date_q4 = rt_dates.PMAC[\"Q4_2022\"]\n",
    "\n",
    "dates = [date_q2, date_q3, date_q4]"
   ]
  },
  {
   "cell_type": "markdown",
   "id": "9161bbc2-7611-48cc-b0d0-58a4aa7d72ed",
   "metadata": {},
   "source": [
    "## Source Data Differences\n",
    "* Both v1 data, but one was downloaded soon after that date (closer to May 2022), and one was downloaded in Jan 2023"
   ]
  },
  {
   "cell_type": "code",
   "execution_count": 2,
   "id": "1bff374e-9497-42c3-a0fb-fb3ecf1fbe75",
   "metadata": {},
   "outputs": [],
   "source": [
    "trips0 = pd.read_parquet(f\"{COMPILED_CACHED_GCS}trips_{date_q2}_all.parquet\")\n",
    "trips1 = pd.read_parquet(f\"{COMPILED_CACHED_GCS}trips_{date_q2}_v1.parquet\")"
   ]
  },
  {
   "cell_type": "code",
   "execution_count": 3,
   "id": "d88f8adb-de49-4b53-8105-db9b77598f31",
   "metadata": {},
   "outputs": [
    {
     "data": {
      "text/plain": [
       "Index(['calitp_itp_id', 'calitp_url_number', 'service_date', 'trip_key',\n",
       "       'trip_id', 'route_id', 'direction_id', 'shape_id',\n",
       "       'calitp_extracted_at', 'calitp_deleted_at', 'trip_first_departure_ts',\n",
       "       'trip_last_arrival_ts', 'service_hours'],\n",
       "      dtype='object')"
      ]
     },
     "execution_count": 3,
     "metadata": {},
     "output_type": "execute_result"
    }
   ],
   "source": [
    "trips1.columns"
   ]
  },
  {
   "cell_type": "code",
   "execution_count": 4,
   "id": "28d72571-999b-45ad-9f21-ff65d76fde57",
   "metadata": {},
   "outputs": [
    {
     "data": {
      "text/plain": [
       "Index(['calitp_itp_id', 'calitp_url_number', 'service_date', 'trip_key',\n",
       "       'trip_id', 'route_id', 'direction_id', 'shape_id',\n",
       "       'calitp_extracted_at', 'calitp_deleted_at', 'route_short_name',\n",
       "       'route_long_name', 'route_desc', 'route_type'],\n",
       "      dtype='object')"
      ]
     },
     "execution_count": 4,
     "metadata": {},
     "output_type": "execute_result"
    }
   ],
   "source": [
    "trips0.columns"
   ]
  },
  {
   "cell_type": "code",
   "execution_count": 5,
   "id": "24eac476-0126-4b16-bb1a-c945064219de",
   "metadata": {},
   "outputs": [],
   "source": [
    "m1 = pd.merge(\n",
    "    trips0, \n",
    "    trips1, \n",
    "    on = [\"calitp_itp_id\", \"calitp_url_number\",\n",
    "          \"trip_id\", \"route_id\", \"shape_id\", \"direction_id\"],\n",
    "    how = \"outer\",\n",
    "    validate = \"m:1\", # why does this have to be m on left?\n",
    "    indicator=True\n",
    ")"
   ]
  },
  {
   "cell_type": "markdown",
   "id": "d19b5b24-a678-4b14-a042-ab6788fa5e7a",
   "metadata": {},
   "source": [
    "The presence of multiple `trip_keys` is what's causing the duplicates. \n",
    "\n",
    "**Finding**: can't solve the differences that come from querying the same date at different times. `trip_keys` might have gone through different cleaning steps"
   ]
  },
  {
   "cell_type": "code",
   "execution_count": 6,
   "id": "8847d5ea-f3e8-4a8a-be2f-1623949394ec",
   "metadata": {},
   "outputs": [
    {
     "data": {
      "text/plain": [
       "both          104721\n",
       "right_only     26325\n",
       "left_only        213\n",
       "Name: _merge, dtype: int64"
      ]
     },
     "execution_count": 6,
     "metadata": {},
     "output_type": "execute_result"
    }
   ],
   "source": [
    "m1._merge.value_counts()"
   ]
  },
  {
   "cell_type": "code",
   "execution_count": 7,
   "id": "d234ac73-735b-4621-b74a-49c1408a5035",
   "metadata": {},
   "outputs": [
    {
     "name": "stdout",
     "output_type": "stream",
     "text": [
      "orig # rows: 104934\n",
      "drop dups across all columns: 104836\n",
      "drop dups based on operator-trip-ids (not keys): 101888\n"
     ]
    }
   ],
   "source": [
    "orig = trips0.shape[0]\n",
    "drop_dups_all = trips0.drop_duplicates().shape[0]\n",
    "drop_dups_subset = trips0.drop_duplicates(\n",
    "    subset=[\"calitp_itp_id\", \"calitp_url_number\",\n",
    "            \"trip_id\", \"route_id\",\n",
    "            \"shape_id\", \"direction_id\"]).shape[0]\n",
    "\n",
    "print(f\"orig # rows: {orig}\")\n",
    "print(f\"drop dups across all columns: {drop_dups_all}\")\n",
    "print(f\"drop dups based on operator-trip-ids (not keys): {drop_dups_subset}\")"
   ]
  },
  {
   "cell_type": "markdown",
   "id": "71d2471a-097c-407f-be71-24da36c4b931",
   "metadata": {},
   "source": [
    "## Source Data: Trips\n",
    "\n",
    "* Big Query table for that date\n",
    "* There are minor differences in downloading the same selected_date from months ago and downloading it yesterday.\n",
    "* Probably some bug fixes have been made, so even for the same selected_date, the query doesn't return exactly the same results, and that's to be expected."
   ]
  },
  {
   "cell_type": "code",
   "execution_count": 8,
   "id": "c11b0f98-a476-4cfc-980d-0836c3b43d5e",
   "metadata": {},
   "outputs": [],
   "source": [
    "def compare_trips_table(date: str):\n",
    "    display(Markdown(f\"### Date: {date}\"))\n",
    "    \n",
    "    df1 = pd.read_parquet(f\"{COMPILED_CACHED_GCS}trips_{date}_v1.parquet\")\n",
    "    df2 = pd.read_parquet(f\"{COMPILED_CACHED_GCS}trips_{date}_v2.parquet\")\n",
    "    \n",
    "    v1_operator_cols = [\"calitp_itp_id\"]\n",
    "    v2_operator_cols = [\"feed_key\"]\n",
    "    trip_cols = [\"trip_id\", \"route_id\", \"service_hours\"]\n",
    "    \n",
    "    df1_pared = df1[v1_operator_cols + trip_cols].drop_duplicates()\n",
    "    df2_pared = df2[v2_operator_cols + trip_cols].drop_duplicates()\n",
    "    \n",
    "    display(Markdown(f\"#### Total service hours\"))\n",
    "    print(f\"{df1.service_hours.sum(), df2.service_hours.sum()}\")\n",
    "    \n",
    "    display(Markdown(f\"#### Total service hours for operator (dups dropped)\"))\n",
    "    print(f\"{df1_pared.service_hours.sum(), df2_pared.service_hours.sum()}\")    \n",
    "    \n",
    "    display(Markdown(\"#### Unique trips\"))\n",
    "    print(f\"{len(df1_pared), len(df2_pared)}\")\n",
    "    \n",
    "    display(Markdown(\"#### Unique routes\"))\n",
    "    df1_route = df1_pared[v1_operator_cols + [\"route_id\"]].drop_duplicates()\n",
    "    df2_route = df2_pared[v2_operator_cols + [\"route_id\"]].drop_duplicates()\n",
    "    print(f\"{len(df1_route), len(df2_route)}\")"
   ]
  },
  {
   "cell_type": "code",
   "execution_count": 9,
   "id": "5167954b-b851-4844-be3f-d59b93d1ca95",
   "metadata": {},
   "outputs": [
    {
     "data": {
      "text/markdown": [
       "### Date: 2022-05-04"
      ],
      "text/plain": [
       "<IPython.core.display.Markdown object>"
      ]
     },
     "metadata": {},
     "output_type": "display_data"
    },
    {
     "data": {
      "text/markdown": [
       "#### Total service hours"
      ],
      "text/plain": [
       "<IPython.core.display.Markdown object>"
      ]
     },
     "metadata": {},
     "output_type": "display_data"
    },
    {
     "name": "stdout",
     "output_type": "stream",
     "text": [
      "(108745.16555555553, 117057.43555555555)\n"
     ]
    },
    {
     "data": {
      "text/markdown": [
       "#### Total service hours for operator (dups dropped)"
      ],
      "text/plain": [
       "<IPython.core.display.Markdown object>"
      ]
     },
     "metadata": {},
     "output_type": "display_data"
    },
    {
     "name": "stdout",
     "output_type": "stream",
     "text": [
      "(98052.44027777776, 117054.88555555555)\n"
     ]
    },
    {
     "data": {
      "text/markdown": [
       "#### Unique trips"
      ],
      "text/plain": [
       "<IPython.core.display.Markdown object>"
      ]
     },
     "metadata": {},
     "output_type": "display_data"
    },
    {
     "name": "stdout",
     "output_type": "stream",
     "text": [
      "(115945, 143932)\n"
     ]
    },
    {
     "data": {
      "text/markdown": [
       "#### Unique routes"
      ],
      "text/plain": [
       "<IPython.core.display.Markdown object>"
      ]
     },
     "metadata": {},
     "output_type": "display_data"
    },
    {
     "name": "stdout",
     "output_type": "stream",
     "text": [
      "(2981, 3481)\n"
     ]
    },
    {
     "data": {
      "text/markdown": [
       "### Date: 2022-08-17"
      ],
      "text/plain": [
       "<IPython.core.display.Markdown object>"
      ]
     },
     "metadata": {},
     "output_type": "display_data"
    },
    {
     "data": {
      "text/markdown": [
       "#### Total service hours"
      ],
      "text/plain": [
       "<IPython.core.display.Markdown object>"
      ]
     },
     "metadata": {},
     "output_type": "display_data"
    },
    {
     "name": "stdout",
     "output_type": "stream",
     "text": [
      "(109174.03000000001, 101674.71194444444)\n"
     ]
    },
    {
     "data": {
      "text/markdown": [
       "#### Total service hours for operator (dups dropped)"
      ],
      "text/plain": [
       "<IPython.core.display.Markdown object>"
      ]
     },
     "metadata": {},
     "output_type": "display_data"
    },
    {
     "name": "stdout",
     "output_type": "stream",
     "text": [
      "(101352.36333333336, 101672.16194444445)\n"
     ]
    },
    {
     "data": {
      "text/markdown": [
       "#### Unique trips"
      ],
      "text/plain": [
       "<IPython.core.display.Markdown object>"
      ]
     },
     "metadata": {},
     "output_type": "display_data"
    },
    {
     "name": "stdout",
     "output_type": "stream",
     "text": [
      "(129291, 129955)\n"
     ]
    },
    {
     "data": {
      "text/markdown": [
       "#### Unique routes"
      ],
      "text/plain": [
       "<IPython.core.display.Markdown object>"
      ]
     },
     "metadata": {},
     "output_type": "display_data"
    },
    {
     "name": "stdout",
     "output_type": "stream",
     "text": [
      "(2977, 2904)\n"
     ]
    },
    {
     "data": {
      "text/markdown": [
       "### Date: 2022-10-12"
      ],
      "text/plain": [
       "<IPython.core.display.Markdown object>"
      ]
     },
     "metadata": {},
     "output_type": "display_data"
    },
    {
     "data": {
      "text/markdown": [
       "#### Total service hours"
      ],
      "text/plain": [
       "<IPython.core.display.Markdown object>"
      ]
     },
     "metadata": {},
     "output_type": "display_data"
    },
    {
     "name": "stdout",
     "output_type": "stream",
     "text": [
      "(113752.53305555554, 105073.36277777779)\n"
     ]
    },
    {
     "data": {
      "text/markdown": [
       "#### Total service hours for operator (dups dropped)"
      ],
      "text/plain": [
       "<IPython.core.display.Markdown object>"
      ]
     },
     "metadata": {},
     "output_type": "display_data"
    },
    {
     "name": "stdout",
     "output_type": "stream",
     "text": [
      "(98939.19083333333, 105073.36277777779)\n"
     ]
    },
    {
     "data": {
      "text/markdown": [
       "#### Unique trips"
      ],
      "text/plain": [
       "<IPython.core.display.Markdown object>"
      ]
     },
     "metadata": {},
     "output_type": "display_data"
    },
    {
     "name": "stdout",
     "output_type": "stream",
     "text": [
      "(126925, 135483)\n"
     ]
    },
    {
     "data": {
      "text/markdown": [
       "#### Unique routes"
      ],
      "text/plain": [
       "<IPython.core.display.Markdown object>"
      ]
     },
     "metadata": {},
     "output_type": "display_data"
    },
    {
     "name": "stdout",
     "output_type": "stream",
     "text": [
      "(3135, 3077)\n"
     ]
    }
   ],
   "source": [
    "for d in dates:\n",
    "    compare_trips_table(d)"
   ]
  },
  {
   "cell_type": "markdown",
   "id": "64f7bdca-b1a6-4bbc-8ab8-fa02b6f1e721",
   "metadata": {},
   "source": [
    "## Step 1: create route-level df"
   ]
  },
  {
   "cell_type": "code",
   "execution_count": 10,
   "id": "c75fe325-7273-4f57-bfdd-fdcd60ef79de",
   "metadata": {},
   "outputs": [],
   "source": [
    "def compare_route_df(date: str):\n",
    "    display(Markdown(f\"### Date: {date}\"))\n",
    "    \n",
    "    df1 = gpd.read_parquet(f\"{BUS_SERVICE_GCS}routes_{date}_v1.parquet\")\n",
    "    df2 = gpd.read_parquet(f\"{BUS_SERVICE_GCS}routes_{date}_v2.parquet\")\n",
    "    # Oops, accidentally included MTC 511, which is excluded in v1 always\n",
    "    df2 = df2[df2.name != \"Bay Area 511 Schedule\"]\n",
    "    \n",
    "    v1_operator_cols = [\"calitp_itp_id\", \"total_routes\", \"district\", \"route_id\"]\n",
    "    v2_operator_cols = [\"feed_key\", \"total_routes\", \"district\", \"route_id\"]\n",
    "    route_cols = [\"service_hours\"]\n",
    "    \n",
    "    df1_pared = df1[v1_operator_cols+route_cols].drop_duplicates(subset=v1_operator_cols)\n",
    "    df2_pared = df2[v2_operator_cols+route_cols].drop_duplicates(subset=v2_operator_cols)\n",
    "    \n",
    "    display(Markdown(f\"#### Total service hours\"))\n",
    "    print(f\"{df1.service_hours.sum(), df2.service_hours.sum()}\")\n",
    "    \n",
    "    display(Markdown(f\"#### Total service hours for operator (dups dropped)\"))\n",
    "    print(f\"{df1_pared.service_hours.sum(), df2_pared.service_hours.sum()}\")    \n",
    "        \n",
    "    display(Markdown(\"#### Unique routes\"))\n",
    "    print(f\"{len(df1_pared), len(df2_pared)}\")\n",
    "    \n",
    "    display(Markdown(\"#### Total routes\"))\n",
    "    print(f\"v1 total routes distribution: {df1_pared.total_routes.describe()}\")\n",
    "    print(f\"v2 total routes distribution: {df2_pared.total_routes.describe()}\")\n",
    "    \n",
    "    display(Markdown(\"#### District breakdown\"))\n",
    "    print(df1_pared.district.value_counts(), df1_pared.district.value_counts(normalize=True))\n",
    "    print(df2_pared.district.value_counts(), df2_pared.district.value_counts(normalize=True))"
   ]
  },
  {
   "cell_type": "code",
   "execution_count": 11,
   "id": "37b215bf-d28b-40a0-9c69-915ac98c53f9",
   "metadata": {},
   "outputs": [
    {
     "data": {
      "text/markdown": [
       "### Date: 2022-05-04"
      ],
      "text/plain": [
       "<IPython.core.display.Markdown object>"
      ]
     },
     "metadata": {},
     "output_type": "display_data"
    },
    {
     "data": {
      "text/markdown": [
       "#### Total service hours"
      ],
      "text/plain": [
       "<IPython.core.display.Markdown object>"
      ]
     },
     "metadata": {},
     "output_type": "display_data"
    },
    {
     "name": "stdout",
     "output_type": "stream",
     "text": [
      "(97345.10083333333, 94658.69)\n"
     ]
    },
    {
     "data": {
      "text/markdown": [
       "#### Total service hours for operator (dups dropped)"
      ],
      "text/plain": [
       "<IPython.core.display.Markdown object>"
      ]
     },
     "metadata": {},
     "output_type": "display_data"
    },
    {
     "name": "stdout",
     "output_type": "stream",
     "text": [
      "(97345.10083333333, 94658.69)\n"
     ]
    },
    {
     "data": {
      "text/markdown": [
       "#### Unique routes"
      ],
      "text/plain": [
       "<IPython.core.display.Markdown object>"
      ]
     },
     "metadata": {},
     "output_type": "display_data"
    },
    {
     "name": "stdout",
     "output_type": "stream",
     "text": [
      "(2739, 2826)\n"
     ]
    },
    {
     "data": {
      "text/markdown": [
       "#### Total routes"
      ],
      "text/plain": [
       "<IPython.core.display.Markdown object>"
      ]
     },
     "metadata": {},
     "output_type": "display_data"
    },
    {
     "name": "stdout",
     "output_type": "stream",
     "text": [
      "v1 total routes distribution: count    2739.000000\n",
      "mean       43.059876\n",
      "std        36.055190\n",
      "min         1.000000\n",
      "25%        16.000000\n",
      "50%        29.000000\n",
      "75%        62.000000\n",
      "max       129.000000\n",
      "Name: total_routes, dtype: float64\n",
      "v2 total routes distribution: count    2826.000000\n",
      "mean       47.418967\n",
      "std        38.709346\n",
      "min         1.000000\n",
      "25%        16.000000\n",
      "50%        36.000000\n",
      "75%        67.000000\n",
      "max       129.000000\n",
      "Name: total_routes, dtype: float64\n"
     ]
    },
    {
     "data": {
      "text/markdown": [
       "#### District breakdown"
      ],
      "text/plain": [
       "<IPython.core.display.Markdown object>"
      ]
     },
     "metadata": {},
     "output_type": "display_data"
    },
    {
     "name": "stdout",
     "output_type": "stream",
     "text": [
      "4.0     774\n",
      "7.0     736\n",
      "3.0     221\n",
      "8.0     164\n",
      "11.0    142\n",
      "10.0    133\n",
      "5.0     123\n",
      "6.0     121\n",
      "12.0    119\n",
      "1.0      75\n",
      "2.0      61\n",
      "9.0      22\n",
      "Name: district, dtype: int64 4.0     0.287625\n",
      "7.0     0.273504\n",
      "3.0     0.082126\n",
      "8.0     0.060944\n",
      "11.0    0.052768\n",
      "10.0    0.049424\n",
      "5.0     0.045708\n",
      "6.0     0.044965\n",
      "12.0    0.044221\n",
      "1.0     0.027871\n",
      "2.0     0.022668\n",
      "9.0     0.008175\n",
      "Name: district, dtype: float64\n",
      "4.0     1155\n",
      "7.0      588\n",
      "3.0      215\n",
      "8.0      163\n",
      "11.0     142\n",
      "10.0     133\n",
      "5.0      123\n",
      "6.0      112\n",
      "12.0      59\n",
      "2.0       38\n",
      "1.0       36\n",
      "9.0       14\n",
      "Name: district, dtype: int64 4.0     0.415767\n",
      "7.0     0.211663\n",
      "3.0     0.077394\n",
      "8.0     0.058675\n",
      "11.0    0.051116\n",
      "10.0    0.047876\n",
      "5.0     0.044276\n",
      "6.0     0.040317\n",
      "12.0    0.021238\n",
      "2.0     0.013679\n",
      "1.0     0.012959\n",
      "9.0     0.005040\n",
      "Name: district, dtype: float64\n"
     ]
    },
    {
     "data": {
      "text/markdown": [
       "### Date: 2022-08-17"
      ],
      "text/plain": [
       "<IPython.core.display.Markdown object>"
      ]
     },
     "metadata": {},
     "output_type": "display_data"
    },
    {
     "data": {
      "text/markdown": [
       "#### Total service hours"
      ],
      "text/plain": [
       "<IPython.core.display.Markdown object>"
      ]
     },
     "metadata": {},
     "output_type": "display_data"
    },
    {
     "name": "stdout",
     "output_type": "stream",
     "text": [
      "(95755.14694444445, 97555.44527777779)\n"
     ]
    },
    {
     "data": {
      "text/markdown": [
       "#### Total service hours for operator (dups dropped)"
      ],
      "text/plain": [
       "<IPython.core.display.Markdown object>"
      ]
     },
     "metadata": {},
     "output_type": "display_data"
    },
    {
     "name": "stdout",
     "output_type": "stream",
     "text": [
      "(95755.14694444445, 97555.44527777779)\n"
     ]
    },
    {
     "data": {
      "text/markdown": [
       "#### Unique routes"
      ],
      "text/plain": [
       "<IPython.core.display.Markdown object>"
      ]
     },
     "metadata": {},
     "output_type": "display_data"
    },
    {
     "name": "stdout",
     "output_type": "stream",
     "text": [
      "(2688, 2832)\n"
     ]
    },
    {
     "data": {
      "text/markdown": [
       "#### Total routes"
      ],
      "text/plain": [
       "<IPython.core.display.Markdown object>"
      ]
     },
     "metadata": {},
     "output_type": "display_data"
    },
    {
     "name": "stdout",
     "output_type": "stream",
     "text": [
      "v1 total routes distribution: count    2688.000000\n",
      "mean       40.773065\n",
      "std        36.017630\n",
      "min         1.000000\n",
      "25%        15.000000\n",
      "50%        27.000000\n",
      "75%        58.000000\n",
      "max       131.000000\n",
      "Name: total_routes, dtype: float64\n",
      "v2 total routes distribution: count    2832.000000\n",
      "mean       46.563559\n",
      "std        39.441825\n",
      "min         1.000000\n",
      "25%        15.000000\n",
      "50%        36.000000\n",
      "75%        68.000000\n",
      "max       131.000000\n",
      "Name: total_routes, dtype: float64\n"
     ]
    },
    {
     "data": {
      "text/markdown": [
       "#### District breakdown"
      ],
      "text/plain": [
       "<IPython.core.display.Markdown object>"
      ]
     },
     "metadata": {},
     "output_type": "display_data"
    },
    {
     "name": "stdout",
     "output_type": "stream",
     "text": [
      "4.0     772\n",
      "7.0     748\n",
      "3.0     160\n",
      "11.0    151\n",
      "8.0     149\n",
      "10.0    133\n",
      "12.0    133\n",
      "6.0     130\n",
      "5.0     120\n",
      "1.0      70\n",
      "2.0      59\n",
      "9.0      21\n",
      "Name: district, dtype: int64 4.0     0.291761\n",
      "7.0     0.282691\n",
      "3.0     0.060469\n",
      "11.0    0.057067\n",
      "8.0     0.056311\n",
      "10.0    0.050265\n",
      "12.0    0.050265\n",
      "6.0     0.049131\n",
      "5.0     0.045351\n",
      "1.0     0.026455\n",
      "2.0     0.022298\n",
      "9.0     0.007937\n",
      "Name: district, dtype: float64\n",
      "4.0     1217\n",
      "7.0      592\n",
      "11.0     151\n",
      "3.0      149\n",
      "8.0      148\n",
      "10.0     133\n",
      "6.0      120\n",
      "5.0      120\n",
      "12.0      73\n",
      "2.0       37\n",
      "1.0       37\n",
      "9.0       13\n",
      "Name: district, dtype: int64 4.0     0.436201\n",
      "7.0     0.212186\n",
      "11.0    0.054122\n",
      "3.0     0.053405\n",
      "8.0     0.053047\n",
      "10.0    0.047670\n",
      "6.0     0.043011\n",
      "5.0     0.043011\n",
      "12.0    0.026165\n",
      "2.0     0.013262\n",
      "1.0     0.013262\n",
      "9.0     0.004659\n",
      "Name: district, dtype: float64\n"
     ]
    },
    {
     "data": {
      "text/markdown": [
       "### Date: 2022-10-12"
      ],
      "text/plain": [
       "<IPython.core.display.Markdown object>"
      ]
     },
     "metadata": {},
     "output_type": "display_data"
    },
    {
     "data": {
      "text/markdown": [
       "#### Total service hours"
      ],
      "text/plain": [
       "<IPython.core.display.Markdown object>"
      ]
     },
     "metadata": {},
     "output_type": "display_data"
    },
    {
     "name": "stdout",
     "output_type": "stream",
     "text": [
      "(107837.96916666668, 102686.6461111111)\n"
     ]
    },
    {
     "data": {
      "text/markdown": [
       "#### Total service hours for operator (dups dropped)"
      ],
      "text/plain": [
       "<IPython.core.display.Markdown object>"
      ]
     },
     "metadata": {},
     "output_type": "display_data"
    },
    {
     "name": "stdout",
     "output_type": "stream",
     "text": [
      "(107837.96916666668, 102686.6461111111)\n"
     ]
    },
    {
     "data": {
      "text/markdown": [
       "#### Unique routes"
      ],
      "text/plain": [
       "<IPython.core.display.Markdown object>"
      ]
     },
     "metadata": {},
     "output_type": "display_data"
    },
    {
     "name": "stdout",
     "output_type": "stream",
     "text": [
      "(2918, 3027)\n"
     ]
    },
    {
     "data": {
      "text/markdown": [
       "#### Total routes"
      ],
      "text/plain": [
       "<IPython.core.display.Markdown object>"
      ]
     },
     "metadata": {},
     "output_type": "display_data"
    },
    {
     "name": "stdout",
     "output_type": "stream",
     "text": [
      "v1 total routes distribution: count    2918.000000\n",
      "mean       43.316655\n",
      "std        35.680828\n",
      "min         1.000000\n",
      "25%        16.000000\n",
      "50%        30.000000\n",
      "75%        64.000000\n",
      "max       131.000000\n",
      "Name: total_routes, dtype: float64\n",
      "v2 total routes distribution: count    3027.000000\n",
      "mean       46.379584\n",
      "std        38.526996\n",
      "min         1.000000\n",
      "25%        16.000000\n",
      "50%        36.000000\n",
      "75%        65.000000\n",
      "max       131.000000\n",
      "Name: total_routes, dtype: float64\n"
     ]
    },
    {
     "data": {
      "text/markdown": [
       "#### District breakdown"
      ],
      "text/plain": [
       "<IPython.core.display.Markdown object>"
      ]
     },
     "metadata": {},
     "output_type": "display_data"
    },
    {
     "name": "stdout",
     "output_type": "stream",
     "text": [
      "7.0     835\n",
      "4.0     800\n",
      "3.0     220\n",
      "8.0     180\n",
      "11.0    151\n",
      "5.0     142\n",
      "12.0    132\n",
      "10.0    129\n",
      "6.0     129\n",
      "1.0      78\n",
      "2.0      59\n",
      "9.0      19\n",
      "Name: district, dtype: int64 7.0     0.290536\n",
      "4.0     0.278358\n",
      "3.0     0.076548\n",
      "8.0     0.062630\n",
      "11.0    0.052540\n",
      "5.0     0.049408\n",
      "12.0    0.045929\n",
      "10.0    0.044885\n",
      "6.0     0.044885\n",
      "1.0     0.027140\n",
      "2.0     0.020529\n",
      "9.0     0.006611\n",
      "Name: district, dtype: float64\n",
      "4.0     1265\n",
      "7.0      626\n",
      "3.0      220\n",
      "8.0      179\n",
      "11.0     151\n",
      "5.0      141\n",
      "10.0     129\n",
      "6.0      113\n",
      "12.0      71\n",
      "1.0       39\n",
      "2.0       37\n",
      "9.0       12\n",
      "Name: district, dtype: int64 4.0     0.424070\n",
      "7.0     0.209856\n",
      "3.0     0.073751\n",
      "8.0     0.060007\n",
      "11.0    0.050620\n",
      "5.0     0.047268\n",
      "10.0    0.043245\n",
      "6.0     0.037881\n",
      "12.0    0.023802\n",
      "1.0     0.013074\n",
      "2.0     0.012404\n",
      "9.0     0.004023\n",
      "Name: district, dtype: float64\n"
     ]
    }
   ],
   "source": [
    "for d in dates:\n",
    "    compare_route_df(d)"
   ]
  },
  {
   "cell_type": "markdown",
   "id": "545ae75b-45bd-45dd-a6a0-598f6b27676b",
   "metadata": {},
   "source": [
    "## Category 1: Routes on SHN"
   ]
  },
  {
   "cell_type": "code",
   "execution_count": 12,
   "id": "eaa5069f-445e-41e9-a9d3-e1a636cb4670",
   "metadata": {},
   "outputs": [],
   "source": [
    "def compare_routes_on_shn(date: str):\n",
    "    display(Markdown(f\"### Date: {date}\"))\n",
    "    \n",
    "    df1 = gpd.read_parquet(\n",
    "        f\"{BUS_SERVICE_GCS}routes_on_shn_{date}_v1.parquet\")\n",
    "    df2 = gpd.read_parquet(\n",
    "        f\"{BUS_SERVICE_GCS}routes_on_shn_{date}_v2.parquet\")\n",
    "    df2 = df2[df2.name != \"Bay Area 511 Schedule\"]\n",
    "    \n",
    "    display(Markdown(f\"#### Rows\"))\n",
    "    print(f\"{len(df1), len(df2)}\")\n",
    "\n",
    "    display(Markdown(f\"#### Distribution of Parallel\"))\n",
    "    \n",
    "    print(df1.parallel.value_counts())\n",
    "    print(df1.parallel.value_counts(normalize=True))\n",
    "    print(df2.parallel.value_counts())\n",
    "    print(df2.parallel.value_counts(normalize=True))"
   ]
  },
  {
   "cell_type": "code",
   "execution_count": 13,
   "id": "e2dbb3cf-ebf6-4522-b3eb-211bdecf252c",
   "metadata": {},
   "outputs": [
    {
     "data": {
      "text/markdown": [
       "### Date: 2022-05-04"
      ],
      "text/plain": [
       "<IPython.core.display.Markdown object>"
      ]
     },
     "metadata": {},
     "output_type": "display_data"
    },
    {
     "data": {
      "text/markdown": [
       "#### Rows"
      ],
      "text/plain": [
       "<IPython.core.display.Markdown object>"
      ]
     },
     "metadata": {},
     "output_type": "display_data"
    },
    {
     "name": "stdout",
     "output_type": "stream",
     "text": [
      "(6814, 7215)\n"
     ]
    },
    {
     "data": {
      "text/markdown": [
       "#### Distribution of Parallel"
      ],
      "text/plain": [
       "<IPython.core.display.Markdown object>"
      ]
     },
     "metadata": {},
     "output_type": "display_data"
    },
    {
     "name": "stdout",
     "output_type": "stream",
     "text": [
      "0    5999\n",
      "1     815\n",
      "Name: parallel, dtype: int64\n",
      "0    0.880393\n",
      "1    0.119607\n",
      "Name: parallel, dtype: float64\n",
      "0    6402\n",
      "1     813\n",
      "Name: parallel, dtype: int64\n",
      "0    0.887318\n",
      "1    0.112682\n",
      "Name: parallel, dtype: float64\n"
     ]
    },
    {
     "data": {
      "text/markdown": [
       "### Date: 2022-08-17"
      ],
      "text/plain": [
       "<IPython.core.display.Markdown object>"
      ]
     },
     "metadata": {},
     "output_type": "display_data"
    },
    {
     "data": {
      "text/markdown": [
       "#### Rows"
      ],
      "text/plain": [
       "<IPython.core.display.Markdown object>"
      ]
     },
     "metadata": {},
     "output_type": "display_data"
    },
    {
     "name": "stdout",
     "output_type": "stream",
     "text": [
      "(6650, 7075)\n"
     ]
    },
    {
     "data": {
      "text/markdown": [
       "#### Distribution of Parallel"
      ],
      "text/plain": [
       "<IPython.core.display.Markdown object>"
      ]
     },
     "metadata": {},
     "output_type": "display_data"
    },
    {
     "name": "stdout",
     "output_type": "stream",
     "text": [
      "0    5825\n",
      "1     825\n",
      "Name: parallel, dtype: int64\n",
      "0    0.87594\n",
      "1    0.12406\n",
      "Name: parallel, dtype: float64\n",
      "0    6242\n",
      "1     833\n",
      "Name: parallel, dtype: int64\n",
      "0    0.882261\n",
      "1    0.117739\n",
      "Name: parallel, dtype: float64\n"
     ]
    },
    {
     "data": {
      "text/markdown": [
       "### Date: 2022-10-12"
      ],
      "text/plain": [
       "<IPython.core.display.Markdown object>"
      ]
     },
     "metadata": {},
     "output_type": "display_data"
    },
    {
     "data": {
      "text/markdown": [
       "#### Rows"
      ],
      "text/plain": [
       "<IPython.core.display.Markdown object>"
      ]
     },
     "metadata": {},
     "output_type": "display_data"
    },
    {
     "name": "stdout",
     "output_type": "stream",
     "text": [
      "(7220, 7561)\n"
     ]
    },
    {
     "data": {
      "text/markdown": [
       "#### Distribution of Parallel"
      ],
      "text/plain": [
       "<IPython.core.display.Markdown object>"
      ]
     },
     "metadata": {},
     "output_type": "display_data"
    },
    {
     "name": "stdout",
     "output_type": "stream",
     "text": [
      "0    6349\n",
      "1     871\n",
      "Name: parallel, dtype: int64\n",
      "0    0.879363\n",
      "1    0.120637\n",
      "Name: parallel, dtype: float64\n",
      "0    6716\n",
      "1     845\n",
      "Name: parallel, dtype: int64\n",
      "0    0.888242\n",
      "1    0.111758\n",
      "Name: parallel, dtype: float64\n"
     ]
    }
   ],
   "source": [
    "for d in dates:\n",
    "    compare_routes_on_shn(d)"
   ]
  },
  {
   "cell_type": "code",
   "execution_count": 14,
   "id": "f55c6d1c-6fc1-468a-b247-1ff44e4090f7",
   "metadata": {},
   "outputs": [],
   "source": [
    "def compare_parallel_or_intersecting(date: str):\n",
    "    display(Markdown(f\"### Date: {date}\"))\n",
    "    \n",
    "    df1 = gpd.read_parquet(\n",
    "        f\"{BUS_SERVICE_GCS}parallel_or_intersecting_{date}_v1.parquet\")\n",
    "    df2 = gpd.read_parquet(\n",
    "        f\"{BUS_SERVICE_GCS}parallel_or_intersecting_{date}_v2.parquet\")\n",
    "    df2 = df2[df2.name != \"Bay Area 511 Schedule\"]\n",
    "    \n",
    "    display(Markdown(f\"#### Rows\"))\n",
    "    print(f\"{len(df1), len(df2)}\")\n",
    "\n",
    "    display(Markdown(f\"#### Distribution of Parallel\"))\n",
    "    print(df1.parallel.value_counts())\n",
    "    print(df1.parallel.value_counts(normalize=True))\n",
    "    print(df2.parallel.value_counts())\n",
    "    print(df2.parallel.value_counts(normalize=True))"
   ]
  },
  {
   "cell_type": "code",
   "execution_count": 15,
   "id": "49e10506-7883-490d-a64c-51fe58e8d04c",
   "metadata": {},
   "outputs": [
    {
     "data": {
      "text/markdown": [
       "### Date: 2022-05-04"
      ],
      "text/plain": [
       "<IPython.core.display.Markdown object>"
      ]
     },
     "metadata": {},
     "output_type": "display_data"
    },
    {
     "data": {
      "text/markdown": [
       "#### Rows"
      ],
      "text/plain": [
       "<IPython.core.display.Markdown object>"
      ]
     },
     "metadata": {},
     "output_type": "display_data"
    },
    {
     "name": "stdout",
     "output_type": "stream",
     "text": [
      "(9269, 10013)\n"
     ]
    },
    {
     "data": {
      "text/markdown": [
       "#### Distribution of Parallel"
      ],
      "text/plain": [
       "<IPython.core.display.Markdown object>"
      ]
     },
     "metadata": {},
     "output_type": "display_data"
    },
    {
     "name": "stdout",
     "output_type": "stream",
     "text": [
      "0    5918\n",
      "1    3351\n",
      "Name: parallel, dtype: int64\n",
      "0    0.638472\n",
      "1    0.361528\n",
      "Name: parallel, dtype: float64\n",
      "0    6472\n",
      "1    3541\n",
      "Name: parallel, dtype: int64\n",
      "0    0.64636\n",
      "1    0.35364\n",
      "Name: parallel, dtype: float64\n"
     ]
    },
    {
     "data": {
      "text/markdown": [
       "### Date: 2022-08-17"
      ],
      "text/plain": [
       "<IPython.core.display.Markdown object>"
      ]
     },
     "metadata": {},
     "output_type": "display_data"
    },
    {
     "data": {
      "text/markdown": [
       "#### Rows"
      ],
      "text/plain": [
       "<IPython.core.display.Markdown object>"
      ]
     },
     "metadata": {},
     "output_type": "display_data"
    },
    {
     "name": "stdout",
     "output_type": "stream",
     "text": [
      "(9006, 9768)\n"
     ]
    },
    {
     "data": {
      "text/markdown": [
       "#### Distribution of Parallel"
      ],
      "text/plain": [
       "<IPython.core.display.Markdown object>"
      ]
     },
     "metadata": {},
     "output_type": "display_data"
    },
    {
     "name": "stdout",
     "output_type": "stream",
     "text": [
      "0    5694\n",
      "1    3312\n",
      "Name: parallel, dtype: int64\n",
      "0    0.632245\n",
      "1    0.367755\n",
      "Name: parallel, dtype: float64\n",
      "0    6157\n",
      "1    3611\n",
      "Name: parallel, dtype: int64\n",
      "0    0.630324\n",
      "1    0.369676\n",
      "Name: parallel, dtype: float64\n"
     ]
    },
    {
     "data": {
      "text/markdown": [
       "### Date: 2022-10-12"
      ],
      "text/plain": [
       "<IPython.core.display.Markdown object>"
      ]
     },
     "metadata": {},
     "output_type": "display_data"
    },
    {
     "data": {
      "text/markdown": [
       "#### Rows"
      ],
      "text/plain": [
       "<IPython.core.display.Markdown object>"
      ]
     },
     "metadata": {},
     "output_type": "display_data"
    },
    {
     "name": "stdout",
     "output_type": "stream",
     "text": [
      "(9823, 10539)\n"
     ]
    },
    {
     "data": {
      "text/markdown": [
       "#### Distribution of Parallel"
      ],
      "text/plain": [
       "<IPython.core.display.Markdown object>"
      ]
     },
     "metadata": {},
     "output_type": "display_data"
    },
    {
     "name": "stdout",
     "output_type": "stream",
     "text": [
      "0    6232\n",
      "1    3591\n",
      "Name: parallel, dtype: int64\n",
      "0    0.634429\n",
      "1    0.365571\n",
      "Name: parallel, dtype: float64\n",
      "0    6723\n",
      "1    3816\n",
      "Name: parallel, dtype: int64\n",
      "0    0.637916\n",
      "1    0.362084\n",
      "Name: parallel, dtype: float64\n"
     ]
    }
   ],
   "source": [
    "for d in dates:\n",
    "    compare_parallel_or_intersecting(d)"
   ]
  },
  {
   "cell_type": "markdown",
   "id": "3b2224c4-e5f6-4355-bf0b-818abee74d80",
   "metadata": {},
   "source": [
    "## Processed Data: Routes Categorized"
   ]
  },
  {
   "cell_type": "code",
   "execution_count": 16,
   "id": "ab904407-8f67-466e-895d-4a6cf562e21c",
   "metadata": {},
   "outputs": [],
   "source": [
    "def compare_routes_categorized(date: str):\n",
    "    display(Markdown(f\"### Date: {date}\"))\n",
    "    \n",
    "    df1 = gpd.read_parquet(\n",
    "        f\"{BUS_SERVICE_GCS}routes_categorized_{date}_v1.parquet\")\n",
    "    df2 = gpd.read_parquet(\n",
    "        f\"{BUS_SERVICE_GCS}routes_categorized_{date}_v2.parquet\")\n",
    "    \n",
    "    df2 = df2[df2.name != \"Bay Area 511 Schedule\"]\n",
    "    \n",
    "    display(Markdown(f\"#### Rows\"))\n",
    "    print(f\"{len(df1), len(df2)}\")\n",
    "\n",
    "    display(Markdown(f\"#### Distribution of Categories\"))\n",
    "    print(df1.category.value_counts())\n",
    "    print(df1.category.value_counts(normalize=True))\n",
    "    print(df2.category.value_counts())\n",
    "    print(df2.category.value_counts(normalize=True))\n",
    "    \n",
    "    display(Markdown(f\"#### Distribution of District...now done with overlay\"))\n",
    "    print(df1.district.value_counts())\n",
    "    print(df1.district.value_counts(normalize=True))\n",
    "    print(df2.district.value_counts())\n",
    "    print(df2.district.value_counts(normalize=True))"
   ]
  },
  {
   "cell_type": "code",
   "execution_count": 19,
   "id": "0f540375-9f5b-4182-8afc-19aa109c5d3c",
   "metadata": {},
   "outputs": [
    {
     "data": {
      "text/markdown": [
       "### Date: 2022-05-04"
      ],
      "text/plain": [
       "<IPython.core.display.Markdown object>"
      ]
     },
     "metadata": {},
     "output_type": "display_data"
    },
    {
     "data": {
      "text/markdown": [
       "#### Rows"
      ],
      "text/plain": [
       "<IPython.core.display.Markdown object>"
      ]
     },
     "metadata": {},
     "output_type": "display_data"
    },
    {
     "name": "stdout",
     "output_type": "stream",
     "text": [
      "(2739, 2826)\n"
     ]
    },
    {
     "data": {
      "text/markdown": [
       "#### Distribution of Categories"
      ],
      "text/plain": [
       "<IPython.core.display.Markdown object>"
      ]
     },
     "metadata": {},
     "output_type": "display_data"
    },
    {
     "name": "stdout",
     "output_type": "stream",
     "text": [
      "intersects_shn    1510\n",
      "on_shn             669\n",
      "other              560\n",
      "Name: category, dtype: int64\n",
      "intersects_shn    0.551296\n",
      "on_shn            0.244250\n",
      "other             0.204454\n",
      "Name: category, dtype: float64\n",
      "intersects_shn    1579\n",
      "on_shn             670\n",
      "other              577\n",
      "Name: category, dtype: int64\n",
      "intersects_shn    0.558740\n",
      "on_shn            0.237084\n",
      "other             0.204176\n",
      "Name: category, dtype: float64\n"
     ]
    },
    {
     "data": {
      "text/markdown": [
       "#### Distribution of District...now done with overlay"
      ],
      "text/plain": [
       "<IPython.core.display.Markdown object>"
      ]
     },
     "metadata": {},
     "output_type": "display_data"
    },
    {
     "name": "stdout",
     "output_type": "stream",
     "text": [
      "4.0     774\n",
      "7.0     736\n",
      "3.0     221\n",
      "8.0     164\n",
      "11.0    142\n",
      "10.0    133\n",
      "5.0     123\n",
      "6.0     121\n",
      "12.0    119\n",
      "1.0      75\n",
      "2.0      61\n",
      "9.0      22\n",
      "Name: district, dtype: int64\n",
      "4.0     0.287625\n",
      "7.0     0.273504\n",
      "3.0     0.082126\n",
      "8.0     0.060944\n",
      "11.0    0.052768\n",
      "10.0    0.049424\n",
      "5.0     0.045708\n",
      "6.0     0.044965\n",
      "12.0    0.044221\n",
      "1.0     0.027871\n",
      "2.0     0.022668\n",
      "9.0     0.008175\n",
      "Name: district, dtype: float64\n",
      "4.0     1155\n",
      "7.0      588\n",
      "3.0      215\n",
      "8.0      163\n",
      "11.0     142\n",
      "10.0     133\n",
      "5.0      123\n",
      "6.0      112\n",
      "12.0      59\n",
      "2.0       38\n",
      "1.0       36\n",
      "9.0       14\n",
      "Name: district, dtype: int64\n",
      "4.0     0.415767\n",
      "7.0     0.211663\n",
      "3.0     0.077394\n",
      "8.0     0.058675\n",
      "11.0    0.051116\n",
      "10.0    0.047876\n",
      "5.0     0.044276\n",
      "6.0     0.040317\n",
      "12.0    0.021238\n",
      "2.0     0.013679\n",
      "1.0     0.012959\n",
      "9.0     0.005040\n",
      "Name: district, dtype: float64\n"
     ]
    },
    {
     "data": {
      "text/markdown": [
       "### Date: 2022-08-17"
      ],
      "text/plain": [
       "<IPython.core.display.Markdown object>"
      ]
     },
     "metadata": {},
     "output_type": "display_data"
    },
    {
     "data": {
      "text/markdown": [
       "#### Rows"
      ],
      "text/plain": [
       "<IPython.core.display.Markdown object>"
      ]
     },
     "metadata": {},
     "output_type": "display_data"
    },
    {
     "name": "stdout",
     "output_type": "stream",
     "text": [
      "(2688, 2832)\n"
     ]
    },
    {
     "data": {
      "text/markdown": [
       "#### Distribution of Categories"
      ],
      "text/plain": [
       "<IPython.core.display.Markdown object>"
      ]
     },
     "metadata": {},
     "output_type": "display_data"
    },
    {
     "name": "stdout",
     "output_type": "stream",
     "text": [
      "intersects_shn    1474\n",
      "on_shn             673\n",
      "other              541\n",
      "Name: category, dtype: int64\n",
      "intersects_shn    0.548363\n",
      "on_shn            0.250372\n",
      "other             0.201265\n",
      "Name: category, dtype: float64\n",
      "intersects_shn    1589\n",
      "on_shn             684\n",
      "other              559\n",
      "Name: category, dtype: int64\n",
      "intersects_shn    0.561088\n",
      "on_shn            0.241525\n",
      "other             0.197387\n",
      "Name: category, dtype: float64\n"
     ]
    },
    {
     "data": {
      "text/markdown": [
       "#### Distribution of District...now done with overlay"
      ],
      "text/plain": [
       "<IPython.core.display.Markdown object>"
      ]
     },
     "metadata": {},
     "output_type": "display_data"
    },
    {
     "name": "stdout",
     "output_type": "stream",
     "text": [
      "4.0     772\n",
      "7.0     748\n",
      "3.0     160\n",
      "11.0    151\n",
      "8.0     149\n",
      "10.0    133\n",
      "12.0    133\n",
      "6.0     130\n",
      "5.0     120\n",
      "1.0      70\n",
      "2.0      59\n",
      "9.0      21\n",
      "Name: district, dtype: int64\n",
      "4.0     0.291761\n",
      "7.0     0.282691\n",
      "3.0     0.060469\n",
      "11.0    0.057067\n",
      "8.0     0.056311\n",
      "10.0    0.050265\n",
      "12.0    0.050265\n",
      "6.0     0.049131\n",
      "5.0     0.045351\n",
      "1.0     0.026455\n",
      "2.0     0.022298\n",
      "9.0     0.007937\n",
      "Name: district, dtype: float64\n",
      "4.0     1217\n",
      "7.0      592\n",
      "11.0     151\n",
      "3.0      149\n",
      "8.0      148\n",
      "10.0     133\n",
      "6.0      120\n",
      "5.0      120\n",
      "12.0      73\n",
      "2.0       37\n",
      "1.0       37\n",
      "9.0       13\n",
      "Name: district, dtype: int64\n",
      "4.0     0.436201\n",
      "7.0     0.212186\n",
      "11.0    0.054122\n",
      "3.0     0.053405\n",
      "8.0     0.053047\n",
      "10.0    0.047670\n",
      "6.0     0.043011\n",
      "5.0     0.043011\n",
      "12.0    0.026165\n",
      "2.0     0.013262\n",
      "1.0     0.013262\n",
      "9.0     0.004659\n",
      "Name: district, dtype: float64\n"
     ]
    },
    {
     "data": {
      "text/markdown": [
       "### Date: 2022-10-12"
      ],
      "text/plain": [
       "<IPython.core.display.Markdown object>"
      ]
     },
     "metadata": {},
     "output_type": "display_data"
    },
    {
     "data": {
      "text/markdown": [
       "#### Rows"
      ],
      "text/plain": [
       "<IPython.core.display.Markdown object>"
      ]
     },
     "metadata": {},
     "output_type": "display_data"
    },
    {
     "name": "stdout",
     "output_type": "stream",
     "text": [
      "(2918, 3027)\n"
     ]
    },
    {
     "data": {
      "text/markdown": [
       "#### Distribution of Categories"
      ],
      "text/plain": [
       "<IPython.core.display.Markdown object>"
      ]
     },
     "metadata": {},
     "output_type": "display_data"
    },
    {
     "name": "stdout",
     "output_type": "stream",
     "text": [
      "intersects_shn    1617\n",
      "on_shn             708\n",
      "other              593\n",
      "Name: category, dtype: int64\n",
      "intersects_shn    0.554147\n",
      "on_shn            0.242632\n",
      "other             0.203221\n",
      "Name: category, dtype: float64\n",
      "intersects_shn    1723\n",
      "on_shn             698\n",
      "other              606\n",
      "Name: category, dtype: int64\n",
      "intersects_shn    0.569210\n",
      "on_shn            0.230591\n",
      "other             0.200198\n",
      "Name: category, dtype: float64\n"
     ]
    },
    {
     "data": {
      "text/markdown": [
       "#### Distribution of District...now done with overlay"
      ],
      "text/plain": [
       "<IPython.core.display.Markdown object>"
      ]
     },
     "metadata": {},
     "output_type": "display_data"
    },
    {
     "name": "stdout",
     "output_type": "stream",
     "text": [
      "7.0     835\n",
      "4.0     800\n",
      "3.0     220\n",
      "8.0     180\n",
      "11.0    151\n",
      "5.0     142\n",
      "12.0    132\n",
      "10.0    129\n",
      "6.0     129\n",
      "1.0      78\n",
      "2.0      59\n",
      "9.0      19\n",
      "Name: district, dtype: int64\n",
      "7.0     0.290536\n",
      "4.0     0.278358\n",
      "3.0     0.076548\n",
      "8.0     0.062630\n",
      "11.0    0.052540\n",
      "5.0     0.049408\n",
      "12.0    0.045929\n",
      "10.0    0.044885\n",
      "6.0     0.044885\n",
      "1.0     0.027140\n",
      "2.0     0.020529\n",
      "9.0     0.006611\n",
      "Name: district, dtype: float64\n",
      "4.0     1265\n",
      "7.0      626\n",
      "3.0      220\n",
      "8.0      179\n",
      "11.0     151\n",
      "5.0      141\n",
      "10.0     129\n",
      "6.0      113\n",
      "12.0      71\n",
      "1.0       39\n",
      "2.0       37\n",
      "9.0       12\n",
      "Name: district, dtype: int64\n",
      "4.0     0.424070\n",
      "7.0     0.209856\n",
      "3.0     0.073751\n",
      "8.0     0.060007\n",
      "11.0    0.050620\n",
      "5.0     0.047268\n",
      "10.0    0.043245\n",
      "6.0     0.037881\n",
      "12.0    0.023802\n",
      "1.0     0.013074\n",
      "2.0     0.012404\n",
      "9.0     0.004023\n",
      "Name: district, dtype: float64\n"
     ]
    }
   ],
   "source": [
    "for d in dates:\n",
    "    compare_routes_categorized(d)"
   ]
  },
  {
   "cell_type": "code",
   "execution_count": null,
   "id": "8f482a63-0110-4303-8779-09ead3f533c5",
   "metadata": {},
   "outputs": [],
   "source": []
  }
 ],
 "metadata": {
  "kernelspec": {
   "display_name": "Python 3 (ipykernel)",
   "language": "python",
   "name": "python3"
  },
  "language_info": {
   "codemirror_mode": {
    "name": "ipython",
    "version": 3
   },
   "file_extension": ".py",
   "mimetype": "text/x-python",
   "name": "python",
   "nbconvert_exporter": "python",
   "pygments_lexer": "ipython3",
   "version": "3.9.13"
  }
 },
 "nbformat": 4,
 "nbformat_minor": 5
}
