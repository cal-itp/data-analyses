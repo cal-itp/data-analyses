{
 "cells": [
  {
   "cell_type": "code",
   "execution_count": 1,
   "id": "ac1ae78f-ac19-4bb4-99bb-09ae5fad0ac5",
   "metadata": {},
   "outputs": [
    {
     "name": "stderr",
     "output_type": "stream",
     "text": [
      "/opt/conda/lib/python3.9/site-packages/geopandas/_compat.py:123: UserWarning: The Shapely GEOS version (3.10.3-CAPI-1.16.1) is incompatible with the GEOS version PyGEOS was compiled with (3.10.1-CAPI-1.16.0). Conversions between both will be slow.\n",
      "  warnings.warn(\n"
     ]
    }
   ],
   "source": [
    "import geopandas as gpd\n",
    "import pandas as pd\n",
    "\n",
    "from shared_utils import rt_dates\n",
    "from update_vars import BUS_SERVICE_GCS, COMPILED_CACHED_GCS "
   ]
  },
  {
   "cell_type": "code",
   "execution_count": 2,
   "id": "2d0e3275-5eeb-4a4f-8da0-3116143500f5",
   "metadata": {},
   "outputs": [],
   "source": [
    "ANALYSIS_DATE = rt_dates.PMAC[\"Q4_2022\"]\n",
    "\n",
    "df1 = pd.read_parquet(\n",
    "    f\"{BUS_SERVICE_GCS}trips_with_hrs_{ANALYSIS_DATE}.parquet\")\n",
    "\n",
    "df2 = gpd.read_parquet(\n",
    "    f\"{BUS_SERVICE_GCS}routes_{ANALYSIS_DATE}_v2.parquet\")"
   ]
  },
  {
   "cell_type": "code",
   "execution_count": 7,
   "id": "28c4219b-9b4c-4b12-bc46-f7a6de0e222a",
   "metadata": {},
   "outputs": [
    {
     "data": {
      "text/plain": [
       "28353.39944444444"
      ]
     },
     "execution_count": 7,
     "metadata": {},
     "output_type": "execute_result"
    }
   ],
   "source": [
    "df1[[\"calitp_itp_id\", \"route_id\", \n",
    "     \"shape_id\", \"total_service_hours\"]\n",
    "   ].drop_duplicates().total_service_hours.sum()"
   ]
  },
  {
   "cell_type": "code",
   "execution_count": 4,
   "id": "36f1a8c2-e84c-4ecc-aa3c-cc23342c4134",
   "metadata": {},
   "outputs": [
    {
     "data": {
      "text/plain": [
       "31448.98333333333"
      ]
     },
     "execution_count": 4,
     "metadata": {},
     "output_type": "execute_result"
    }
   ],
   "source": [
    "df1.total_service_hours.sum()"
   ]
  },
  {
   "cell_type": "code",
   "execution_count": 5,
   "id": "5e1aabaf-a50e-4189-ae02-0a8809fa2ce8",
   "metadata": {},
   "outputs": [
    {
     "data": {
      "text/plain": [
       "102686.6461111111"
      ]
     },
     "execution_count": 5,
     "metadata": {},
     "output_type": "execute_result"
    }
   ],
   "source": [
    "df2.service_hours.sum()"
   ]
  },
  {
   "cell_type": "code",
   "execution_count": null,
   "id": "238f44b4-8365-476f-b0de-8bde5f1cf86a",
   "metadata": {},
   "outputs": [],
   "source": []
  }
 ],
 "metadata": {
  "kernelspec": {
   "display_name": "Python 3 (ipykernel)",
   "language": "python",
   "name": "python3"
  },
  "language_info": {
   "codemirror_mode": {
    "name": "ipython",
    "version": 3
   },
   "file_extension": ".py",
   "mimetype": "text/x-python",
   "name": "python",
   "nbconvert_exporter": "python",
   "pygments_lexer": "ipython3",
   "version": "3.9.13"
  }
 },
 "nbformat": 4,
 "nbformat_minor": 5
}
