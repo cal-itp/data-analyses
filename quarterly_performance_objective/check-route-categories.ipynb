{
 "cells": [
  {
   "cell_type": "markdown",
   "id": "0fe6a2ee-2b13-4541-b88d-767967d336cf",
   "metadata": {},
   "source": [
    "# Categorize `on_shn`, `parallel` (affected by SHN), and `other`"
   ]
  },
  {
   "cell_type": "code",
   "execution_count": null,
   "id": "49a3bed2-9a44-4f33-a882-f4bb46ff5853",
   "metadata": {},
   "outputs": [],
   "source": [
    "import geopandas as gpd\n",
    "import pandas as pd\n",
    "\n",
    "from update_vars import (ANALYSIS_DATE, \n",
    "                         BUS_SERVICE_GCS, COMPILED_CACHED_GCS)"
   ]
  },
  {
   "cell_type": "markdown",
   "id": "a4d90a10-fffb-4da3-a491-46d348979d8a",
   "metadata": {},
   "source": [
    "## `on_shn`\n",
    "* Since `on_shn` is the primary category, and it's drawn with a 50 ft buffer around hwy centerline, no longer need to use `pct_highway` (set `pct_highway > 0`)\n",
    "* Is 25% too high of a threshold? \n",
    "* `pct_route` threshold of 20% and 25% both fall within the top 70%-75% of routes\n",
    "* Settle for at least 20% of route length runs within 50 ft of hwy (on hwy)"
   ]
  },
  {
   "cell_type": "code",
   "execution_count": null,
   "id": "f6351dd0-74e5-4e70-9bd7-534aa391630e",
   "metadata": {},
   "outputs": [],
   "source": [
    "df = gpd.read_parquet(f\"{BUS_SERVICE_GCS}routes_on_shn_{ANALYSIS_DATE}.parquet\")\n",
    "\n",
    "print(f\"# rows (route_id-Route pairs): {len(df)}\")\n",
    "print(f\"# route_id: {len(df[['itp_id', 'route_id']].drop_duplicates())}\")"
   ]
  },
  {
   "cell_type": "code",
   "execution_count": null,
   "id": "da4f50a0-d90d-4f9e-bd0e-43f4627e3875",
   "metadata": {},
   "outputs": [],
   "source": [
    "unique_routes = (df.sort_values([\"itp_id\", \"route_id\", \"pct_route\"], \n",
    "                               ascending=[True, True, False])\n",
    "                 .drop_duplicates(subset=[\"itp_id\", \"route_id\"])\n",
    "                 .reset_index(drop=True)\n",
    "                )\n",
    "\n",
    "ptile = []\n",
    "\n",
    "for i in range(5, 100, 5):\n",
    "    ptile.append(i/100)\n",
    "\n",
    "unique_routes.pct_route.describe(percentiles=ptile)"
   ]
  },
  {
   "cell_type": "code",
   "execution_count": null,
   "id": "4f73424c-12ec-4704-839b-99b993f1422b",
   "metadata": {},
   "outputs": [],
   "source": [
    "for r in range(20, 35, 5):\n",
    "    subset = unique_routes[unique_routes.pct_route >= r/100]\n",
    "        \n",
    "    print(f\"route threshold: {r/100} - {len(subset)}\")"
   ]
  },
  {
   "cell_type": "code",
   "execution_count": null,
   "id": "7923082e-901a-4b79-807d-fdfd4d6f2324",
   "metadata": {},
   "outputs": [],
   "source": [
    "twenty = unique_routes[unique_routes.pct_route >= 0.20]\n",
    "twentyfive = unique_routes[unique_routes.pct_route >= 0.25]"
   ]
  },
  {
   "cell_type": "code",
   "execution_count": null,
   "id": "b3d9928a-b126-42ef-b31a-8db35d361693",
   "metadata": {},
   "outputs": [],
   "source": [
    "def make_map(gdf: gpd.GeoDataFrame): \n",
    "    \n",
    "    cols = [\"itp_id\", \"route_id\", \"geometry\"]\n",
    "\n",
    "    m = (gdf[cols].drop_duplicates()\n",
    "         .explore(\"itp_id\", categorical=True, tiles = \"CartoDB Positron\")\n",
    "    )\n",
    "    \n",
    "    print(f\"route threshold: {gdf.pct_route.min()}\")\n",
    "    display(m)"
   ]
  },
  {
   "cell_type": "code",
   "execution_count": null,
   "id": "c2219597-792a-4d68-b63a-04dc898ecdcc",
   "metadata": {},
   "outputs": [],
   "source": [
    "#make_map(twenty)\n",
    "#make_map(twentyfive)"
   ]
  },
  {
   "cell_type": "code",
   "execution_count": null,
   "id": "7bad865c-4c0f-433d-81f2-f695564fa6ca",
   "metadata": {},
   "outputs": [],
   "source": [
    "itp_id = 182\n",
    "\n",
    "operator_twenty = twenty[twenty.itp_id==itp_id]\n",
    "operator_twentyfive = twentyfive[twentyfive.itp_id==itp_id]\n",
    "\n",
    "difference_routes = list(set(operator_twentyfive.route_id)\n",
    "     .symmetric_difference(set(operator_twenty.route_id)))\n",
    "\n",
    "make_map(operator_twenty)\n",
    "make_map(operator_twentyfive)\n",
    "\n",
    "print(\"Routes Included if Threshold is 20%\")\n",
    "make_map(operator_twenty[operator_twenty.route_id.isin(difference_routes)])"
   ]
  },
  {
   "cell_type": "code",
   "execution_count": null,
   "id": "af1e8a15-13ec-4b1e-b24a-543e3b28c4cc",
   "metadata": {},
   "outputs": [],
   "source": [
    "itp_id = 4\n",
    "\n",
    "operator_twenty = twenty[twenty.itp_id==itp_id]\n",
    "operator_twentyfive = twentyfive[twentyfive.itp_id==itp_id]\n",
    "\n",
    "difference_routes = list(set(operator_twentyfive.route_id)\n",
    "     .symmetric_difference(set(operator_twenty.route_id)))\n",
    "\n",
    "make_map(operator_twenty)\n",
    "make_map(operator_twentyfive)\n",
    "\n",
    "print(\"Routes Included if Threshold is 20%\")\n",
    "make_map(operator_twenty[operator_twenty.route_id.isin(difference_routes)])"
   ]
  },
  {
   "cell_type": "markdown",
   "id": "915efd7b-dfd8-4285-96b4-6257f3392885",
   "metadata": {},
   "source": [
    "## `parallel`\n",
    "\n",
    "* These are routes that are affected by SHN, where bottlenecks might occur because bus routes have to pass through where there are on-ramps. \n",
    "* Use a 0.5 mile buffer from SHN, and see whether threshold should be 30%? 20%? lower? higher?\n",
    "* It's much more marginal to add a couple more routes in this category, go with 20%, which will grab about 60% of the 260 routes that was tagged as being `parallel` and is not `on_shn`"
   ]
  },
  {
   "cell_type": "code",
   "execution_count": null,
   "id": "4251cc97-0a2d-4acb-b4cf-3493a528f323",
   "metadata": {},
   "outputs": [],
   "source": [
    "df2 = gpd.read_parquet(f\"{BUS_SERVICE_GCS}parallel_or_intersecting_{ANALYSIS_DATE}.parquet\")\n",
    "\n",
    "print(f\"# rows (route_id-Route pairs): {len(df2)}\")\n",
    "print(f\"# route_id: {len(df2[['itp_id', 'route_id']].drop_duplicates())}\")"
   ]
  },
  {
   "cell_type": "code",
   "execution_count": null,
   "id": "7e0278d5-1a80-4a50-8a98-9643f639751c",
   "metadata": {},
   "outputs": [],
   "source": [
    "unique_routes2 = (df2.sort_values([\"itp_id\", \"route_id\", \"pct_route\"], \n",
    "                               ascending=[True, True, False])\n",
    "                 .drop_duplicates(subset=[\"itp_id\", \"route_id\"])\n",
    "                 .reset_index(drop=True)\n",
    "                )"
   ]
  },
  {
   "cell_type": "code",
   "execution_count": null,
   "id": "568aaa67-1468-449b-b58c-77a8217b7937",
   "metadata": {},
   "outputs": [],
   "source": [
    "route_cols = [\"itp_id\", \"route_id\"]\n",
    "\n",
    "on_shn = (unique_routes[unique_routes.pct_route >= 0.2]\n",
    "          .assign(category=\"on_shn\")\n",
    "          .rename(columns = {\"pct_route\": \"pct_route_on_hwy\"})\n",
    "          [route_cols + [\"pct_route_on_hwy\"]]\n",
    "         )"
   ]
  },
  {
   "cell_type": "code",
   "execution_count": null,
   "id": "d09c3c4b-8c44-4a18-9164-c7b134060a63",
   "metadata": {},
   "outputs": [],
   "source": [
    "unique_routes3 = pd.merge(\n",
    "    on_shn,\n",
    "    unique_routes2[route_cols + [\"pct_route\"]],\n",
    "    on = route_cols,\n",
    "    how = \"outer\",\n",
    "    validate = \"1:1\",\n",
    "    indicator=True\n",
    ")\n",
    "\n",
    "unique_routes3._merge.value_counts()"
   ]
  },
  {
   "cell_type": "code",
   "execution_count": null,
   "id": "187e5c99-2a62-4076-9b18-f0929b0035a3",
   "metadata": {},
   "outputs": [],
   "source": [
    "ptile = []\n",
    "\n",
    "for i in range(5, 100, 5):\n",
    "    ptile.append(i/100)\n",
    "\n",
    "unique_routes3[unique_routes3._merge==\"right_only\"].pct_route.describe(percentiles=ptile)"
   ]
  },
  {
   "cell_type": "code",
   "execution_count": null,
   "id": "b3344e39-0cec-4578-a966-d99d11d49069",
   "metadata": {},
   "outputs": [],
   "source": [
    "# There's quite a lot more routes we can add\n",
    "# in this intersects_shn group\n",
    "for r in range(20, 35, 5):\n",
    "    subset = unique_routes3[(unique_routes3._merge==\"right_only\") &\n",
    "                            (unique_routes3.pct_route >= r/100)]\n",
    "        \n",
    "    print(f\"route threshold: {r/100} - {len(subset)}\")\n",
    "    \n",
    "    make_map(df2[df2.route_id.isin(subset.route_id)])"
   ]
  },
  {
   "cell_type": "markdown",
   "id": "441f9dc1-ec2d-4cb8-8317-5658dc82c836",
   "metadata": {},
   "source": [
    "Depends whether we want another 50% of the routes of the 1,900 routes (`pct_route >= 0.35`)\n",
    "\n",
    "Looking at LA Metro, we do want to grab all the routes that span big boulevards, and don't want to be too restrictive. Stick with `pct_route >= 0.35`, since that's close to 1/3 of the route, and gives more options for improvements. Grabbing another 50% of the 1,900 routes is ok."
   ]
  },
  {
   "cell_type": "code",
   "execution_count": null,
   "id": "a143425e-0067-431d-bf3c-ef41062589f6",
   "metadata": {},
   "outputs": [],
   "source": [
    "unique_routes3[unique_routes3._merge==\"right_only\"].itp_id.value_counts()"
   ]
  },
  {
   "cell_type": "code",
   "execution_count": null,
   "id": "67e8defe-2aef-4d85-8fdb-fd23d1c2e850",
   "metadata": {},
   "outputs": [],
   "source": [
    "itp_id = 182\n",
    "\n",
    "for r in range(25, 50, 5):\n",
    "    subset = unique_routes3[(unique_routes3._merge==\"right_only\") &\n",
    "                            (unique_routes3.pct_route >= r/100)]\n",
    "        \n",
    "    print(f\"route threshold: {r/100} - {len(subset)}\")\n",
    "    \n",
    "    make_map(df2[(df2.itp_id==itp_id) & \n",
    "                 (df2.route_id.isin(subset.route_id))])"
   ]
  },
  {
   "cell_type": "code",
   "execution_count": null,
   "id": "ffbfe1a4-b37c-416e-a87b-4ce83a9d549d",
   "metadata": {},
   "outputs": [],
   "source": []
  }
 ],
 "metadata": {
  "kernelspec": {
   "display_name": "Python 3 (ipykernel)",
   "language": "python",
   "name": "python3"
  },
  "language_info": {
   "codemirror_mode": {
    "name": "ipython",
    "version": 3
   },
   "file_extension": ".py",
   "mimetype": "text/x-python",
   "name": "python",
   "nbconvert_exporter": "python",
   "pygments_lexer": "ipython3",
   "version": "3.9.13"
  }
 },
 "nbformat": 4,
 "nbformat_minor": 5
}
