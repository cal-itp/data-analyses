{
 "cells": [
  {
   "cell_type": "markdown",
   "id": "be271b0b-3fc1-4b28-998f-6c3ee50140f3",
   "metadata": {},
   "source": [
    "## Exercise 5: Geospatial wrangling and making maps\n",
    "\n",
    "Skills: \n",
    "* More geospatial practice building on earlier skills\n",
    "* Make a map with `geopandas`\n",
    "\n",
    "References: \n",
    "* https://docs.calitp.org/data-infra/analytics_new_analysts/02-data-analysis-intermediate.html\n",
    "* https://docs.calitp.org/data-infra/analytics_tools/python_libraries.html"
   ]
  },
  {
   "cell_type": "code",
   "execution_count": 1,
   "id": "a0673993-3a04-44c1-af48-46f10eb71198",
   "metadata": {},
   "outputs": [
    {
     "name": "stderr",
     "output_type": "stream",
     "text": [
      "/opt/conda/lib/python3.9/site-packages/geopandas/_compat.py:124: UserWarning: The Shapely GEOS version (3.11.1-CAPI-1.17.1) is incompatible with the GEOS version PyGEOS was compiled with (3.10.1-CAPI-1.16.0). Conversions between both will be slow.\n",
      "  warnings.warn(\n",
      "/tmp/ipykernel_1112/2144877482.py:1: DeprecationWarning: Shapely 2.0 is installed, but because PyGEOS is also installed, GeoPandas still uses PyGEOS by default. However, starting with version 0.14, the default will switch to Shapely. To force to use Shapely 2.0 now, you can either uninstall PyGEOS or set the environment variable USE_PYGEOS=0. You can do this before starting the Python process, or in your code before importing geopandas:\n",
      "\n",
      "import os\n",
      "os.environ['USE_PYGEOS'] = '0'\n",
      "import geopandas\n",
      "\n",
      "In the next release, GeoPandas will switch to using Shapely by default, even if PyGEOS is installed. If you only have PyGEOS installed to get speed-ups, this switch should be smooth. However, if you are using PyGEOS directly (calling PyGEOS functions on geometries from GeoPandas), this will then stop working and you are encouraged to migrate from PyGEOS to Shapely 2.0 (https://shapely.readthedocs.io/en/latest/migration_pygeos.html).\n",
      "  import geopandas as gpd\n",
      "/opt/conda/lib/python3.9/site-packages/google/auth/_default.py:78: UserWarning: Your application has authenticated using end user credentials from Google Cloud SDK without a quota project. You might receive a \"quota exceeded\" or \"API not enabled\" error. See the following page for troubleshooting: https://cloud.google.com/docs/authentication/adc-troubleshooting/user-creds. \n",
      "  warnings.warn(_CLOUD_SDK_CREDENTIALS_WARNING)\n",
      "/opt/conda/lib/python3.9/site-packages/google/auth/_default.py:78: UserWarning: Your application has authenticated using end user credentials from Google Cloud SDK without a quota project. You might receive a \"quota exceeded\" or \"API not enabled\" error. See the following page for troubleshooting: https://cloud.google.com/docs/authentication/adc-troubleshooting/user-creds. \n",
      "  warnings.warn(_CLOUD_SDK_CREDENTIALS_WARNING)\n",
      "/opt/conda/lib/python3.9/site-packages/google/auth/_default.py:78: UserWarning: Your application has authenticated using end user credentials from Google Cloud SDK without a quota project. You might receive a \"quota exceeded\" or \"API not enabled\" error. See the following page for troubleshooting: https://cloud.google.com/docs/authentication/adc-troubleshooting/user-creds. \n",
      "  warnings.warn(_CLOUD_SDK_CREDENTIALS_WARNING)\n"
     ]
    }
   ],
   "source": [
    "import geopandas as gpd\n",
    "import intake\n",
    "import os\n",
    "import pandas as pd\n",
    "import shapely\n",
    "\n",
    "os.environ[\"CALITP_BQ_MAX_BYTES\"] = str(100_000_000_000)\n",
    "\n",
    "from calitp_data_analysis.tables import tbls\n",
    "from siuba import *\n",
    "\n",
    "# Hint: if this doesn't import: refer to docs for correctly import\n",
    "# cd into _shared_utils folder, run the make setup_env command\n",
    "import shared_utils"
   ]
  },
  {
   "cell_type": "markdown",
   "id": "6c762aa7-15ac-4f6d-9867-e35b0b723a57",
   "metadata": {},
   "source": [
    "## Research Question\n",
    "\n",
    "What's the average number of trips per stop by operators in southern California? Show visualizations at the operator and county-level.\n",
    "<br>**Geographic scope:** southern California counties\n",
    "<br>**Deliverables:** chart(s) and map(s) showing metrics comparing across counties and also across operators. Make these visualizations using function(s).\n",
    "\n",
    "### Prep data\n",
    "\n",
    "* Use the same query, but grab a different set of operators. These are in southern California, so the map should zoom in counties ranging from LA to SD.\n",
    "* *Hint*: for some counties, there are multiple operators. Make sure the average trips per stop by counties is the weighted average.\n",
    "* Use the same [shapefile for CA counties](https://gis.data.ca.gov/datasets/CALFIRE-Forestry::california-county-boundaries/explore?location=37.246136%2C-119.002032%2C6.12) as in Exercise 4.\n",
    "* Join the data and only keep counties that have bus stops."
   ]
  },
  {
   "cell_type": "code",
   "execution_count": 24,
   "id": "3d11c71e-06f2-4419-827e-8a4e0876f412",
   "metadata": {},
   "outputs": [
    {
     "data": {
      "text/html": [
       "<div>\n",
       "<style scoped>\n",
       "    .dataframe tbody tr th:only-of-type {\n",
       "        vertical-align: middle;\n",
       "    }\n",
       "\n",
       "    .dataframe tbody tr th {\n",
       "        vertical-align: top;\n",
       "    }\n",
       "\n",
       "    .dataframe thead th {\n",
       "        text-align: right;\n",
       "    }\n",
       "</style>\n",
       "<table border=\"1\" class=\"dataframe\">\n",
       "  <thead>\n",
       "    <tr style=\"text-align: right;\">\n",
       "      <th></th>\n",
       "      <th>feed_key</th>\n",
       "      <th>name</th>\n",
       "    </tr>\n",
       "  </thead>\n",
       "  <tbody>\n",
       "    <tr>\n",
       "      <th>0</th>\n",
       "      <td>5efaa2460085a481db5dfbf57ae78187</td>\n",
       "      <td>Kern Schedule</td>\n",
       "    </tr>\n",
       "    <tr>\n",
       "      <th>1</th>\n",
       "      <td>c50220b8622624dfa0c5c22859b14694</td>\n",
       "      <td>Humboldt Schedule</td>\n",
       "    </tr>\n",
       "    <tr>\n",
       "      <th>2</th>\n",
       "      <td>1b77ef49f5bc70038cbf15e4f5f98477</td>\n",
       "      <td>Compton Schedule</td>\n",
       "    </tr>\n",
       "    <tr>\n",
       "      <th>3</th>\n",
       "      <td>4b6b673ab50c016344c1adf09de2cc84</td>\n",
       "      <td>Banning Pass Schedule</td>\n",
       "    </tr>\n",
       "    <tr>\n",
       "      <th>4</th>\n",
       "      <td>7a7e9069dedca7a58e5a89aaa0a97256</td>\n",
       "      <td>Bay Area 511 Santa Rosa CityBus Schedule</td>\n",
       "    </tr>\n",
       "  </tbody>\n",
       "</table>\n",
       "</div>"
      ],
      "text/plain": [
       "                           feed_key                                      name\n",
       "0  5efaa2460085a481db5dfbf57ae78187                             Kern Schedule\n",
       "1  c50220b8622624dfa0c5c22859b14694                         Humboldt Schedule\n",
       "2  1b77ef49f5bc70038cbf15e4f5f98477                          Compton Schedule\n",
       "3  4b6b673ab50c016344c1adf09de2cc84                     Banning Pass Schedule\n",
       "4  7a7e9069dedca7a58e5a89aaa0a97256  Bay Area 511 Santa Rosa CityBus Schedule"
      ]
     },
     "execution_count": 24,
     "metadata": {},
     "output_type": "execute_result"
    }
   ],
   "source": [
    "feeds_to_names = shared_utils.gtfs_utils_v2.schedule_daily_feed_to_gtfs_dataset_name(\n",
    "    selected_date = \"2022-06-01\",\n",
    "    get_df = True\n",
    ")[[\"feed_key\", \"name\"]].drop_duplicates()\n",
    "\n",
    "feeds_to_names.head()"
   ]
  },
  {
   "cell_type": "code",
   "execution_count": 37,
   "id": "dd76306d-f810-45cd-947a-8d202ac19451",
   "metadata": {},
   "outputs": [
    {
     "data": {
      "text/plain": [
       "geopandas.geodataframe.GeoDataFrame"
      ]
     },
     "execution_count": 37,
     "metadata": {},
     "output_type": "execute_result"
    }
   ],
   "source": [
    "#also brining in CA Counties from ex 4.\n",
    "\n",
    "ca_county = gpd.read_file('https://services1.arcgis.com/jUJYIo9tSA7EHvfZ/arcgis/rest/services/California_County_Boundaries/FeatureServer/0/query?outFields=*&where=1%3D1&f=geojson')\n",
    "type(ca_county)"
   ]
  },
  {
   "cell_type": "code",
   "execution_count": 29,
   "id": "b3e192d2-fca7-4717-9c2d-3f06fb089383",
   "metadata": {},
   "outputs": [
    {
     "data": {
      "text/plain": [
       "pandas.core.frame.DataFrame"
      ]
     },
     "execution_count": 29,
     "metadata": {},
     "output_type": "execute_result"
    }
   ],
   "source": [
    "type(feeds_to_names)"
   ]
  },
  {
   "cell_type": "code",
   "execution_count": 26,
   "id": "277963d3-fb42-44db-83ae-9ba310e6c383",
   "metadata": {},
   "outputs": [
    {
     "data": {
      "text/plain": [
       "['41ee0151e3cac17098d055ce25b3f104',\n",
       " '239e56d11510f71d7182a24c5621be8c',\n",
       " '455fadac7ed63a72e7d3f36273d78313',\n",
       " 'e7985c6c0c873f17871d79a527a50afa',\n",
       " 'a3af905228efc93bb48f360b92965afb',\n",
       " 'd76560b3dfecce2d588023bf1d1c4c2d']"
      ]
     },
     "execution_count": 26,
     "metadata": {},
     "output_type": "execute_result"
    }
   ],
   "source": [
    "OPERATORS = [\n",
    "    \"Alhambra Schedule\", \n",
    "    \"San Diego Schedule\",\n",
    "    \"Big Blue Bus Schedule\",\n",
    "    \"Culver City Schedule\",\n",
    "    \"OmniTrans Schedule\",\n",
    "    \"OCTA Schedule\"\n",
    "]\n",
    "\n",
    "SUBSET_FEEDS = feeds_to_names[\n",
    "    feeds_to_names.name.isin(OPERATORS)\n",
    "].feed_key.tolist()\n",
    "\n",
    "SUBSET_FEEDS\n",
    "#gives us the feed_key for the list of operators found in the `feeds_to_name` list"
   ]
  },
  {
   "cell_type": "code",
   "execution_count": 5,
   "id": "cb619ecd-d33d-4d77-b9d0-547958dd069f",
   "metadata": {},
   "outputs": [
    {
     "name": "stderr",
     "output_type": "stream",
     "text": [
      "/opt/conda/lib/python3.9/site-packages/sqlalchemy_bigquery/_types.py:101: SAWarning: Did not recognize type 'GEOGRAPHY' of column 'pt_geom'\n",
      "  sqlalchemy.util.warn(\n"
     ]
    }
   ],
   "source": [
    "stops = (\n",
    "    tbls.mart_gtfs.fct_daily_scheduled_stops()\n",
    "    >> filter(_.feed_key.isin(SUBSET_FEEDS))\n",
    "    >> filter(_.service_date == \"2022-06-01\")\n",
    "    >> select(_.feed_key, \n",
    "              _.stop_id, _.pt_geom)\n",
    "    >> collect()\n",
    ")"
   ]
  },
  {
   "cell_type": "markdown",
   "id": "8a89644b-4f56-40cc-b808-d5ddb7cfd1ef",
   "metadata": {},
   "source": [
    "Check the type of `stops`. Is it a pandas df or geopandas gdf?"
   ]
  },
  {
   "cell_type": "code",
   "execution_count": 6,
   "id": "716059a9-55e4-4696-a6ae-26ae982b70ed",
   "metadata": {},
   "outputs": [
    {
     "data": {
      "text/plain": [
       "pandas.core.frame.DataFrame"
      ]
     },
     "execution_count": 6,
     "metadata": {},
     "output_type": "execute_result"
    }
   ],
   "source": [
    "# initial check of `stops` df to see if its a pandas or gdf\n",
    "\n",
    "type(stops)\n",
    "\n",
    "#its pandas df"
   ]
  },
  {
   "cell_type": "code",
   "execution_count": 7,
   "id": "5d1b1ae2-84a6-4f0a-8635-6f8575bf842c",
   "metadata": {},
   "outputs": [],
   "source": [
    "# Turn stops into a gdf\n",
    "geom = [shapely.wkt.loads(x) for x in stops.pt_geom]\n",
    "\n",
    "stops = gpd.GeoDataFrame(\n",
    "    stops, \n",
    "    geometry=geom, \n",
    "    crs=\"EPSG:4326\"\n",
    ").drop(columns=\"pt_geom\")"
   ]
  },
  {
   "cell_type": "markdown",
   "id": "ea41dd6f-4e50-4dc3-a349-82ef1acdd621",
   "metadata": {},
   "source": [
    "Check the type of `stops`. Is it a pandas df or geopandas gdf?\n",
    "\n",
    "What is the CRS and geometry column name?"
   ]
  },
  {
   "cell_type": "code",
   "execution_count": 8,
   "id": "2de7a91f-a372-4f58-b20c-51a039afb286",
   "metadata": {},
   "outputs": [
    {
     "name": "stdout",
     "output_type": "stream",
     "text": [
      "<class 'geopandas.geodataframe.GeoDataFrame'>\n",
      "EPSG:4326\n",
      "(13247, 3)\n",
      "                           feed_key stop_id                     geometry\n",
      "0  239e56d11510f71d7182a24c5621be8c    1017  POINT (-118.38411 34.05184)\n",
      "1  239e56d11510f71d7182a24c5621be8c    1061  POINT (-118.39544 34.05224)\n",
      "2  239e56d11510f71d7182a24c5621be8c    1089  POINT (-118.39499 34.04938)\n",
      "3  239e56d11510f71d7182a24c5621be8c    1090  POINT (-118.39077 34.04875)\n",
      "4  239e56d11510f71d7182a24c5621be8c    1092  POINT (-118.38664 34.04898)\n",
      "e7985c6c0c873f17871d79a527a50afa    5317\n",
      "455fadac7ed63a72e7d3f36273d78313    4226\n",
      "a3af905228efc93bb48f360b92965afb    2277\n",
      "239e56d11510f71d7182a24c5621be8c     916\n",
      "41ee0151e3cac17098d055ce25b3f104     431\n",
      "d76560b3dfecce2d588023bf1d1c4c2d      80\n",
      "Name: feed_key, dtype: int64\n"
     ]
    }
   ],
   "source": [
    "print(type(stops))\n",
    "print(stops.crs)\n",
    "print(stops.shape)\n",
    "print(stops.head())\n",
    "print(stops.feed_key.value_counts())\n",
    "#now stops is gdf\n",
    "#CRS set to EPSG:4326\n",
    "#Geometry column name is called `geometry`"
   ]
  },
  {
   "cell_type": "markdown",
   "id": "893a7fff-a99e-4eed-ae04-1cf5f6549f9d",
   "metadata": {},
   "source": [
    "### Bring in a new table from BigQuery\n",
    "\n",
    "* In `mart_gtfs`, bring in the table called `fct_daily_scheduled_stops` for the subset of feeds defined above.\n",
    "* Modify the snippet below to:\n",
    "   * filter for the subset of operators\n",
    "   * only keep columns: `feed_key`, `stop_id`, `stop_event_count`"
   ]
  },
  {
   "cell_type": "code",
   "execution_count": 27,
   "id": "14b70ab4-b500-4d89-b9bc-fbb9363b0ef3",
   "metadata": {},
   "outputs": [
    {
     "name": "stderr",
     "output_type": "stream",
     "text": [
      "/opt/conda/lib/python3.9/site-packages/sqlalchemy_bigquery/_types.py:101: SAWarning: Did not recognize type 'GEOGRAPHY' of column 'pt_geom'\n",
      "  sqlalchemy.util.warn(\n"
     ]
    }
   ],
   "source": [
    "#initial code snippet\n",
    "#stop_counts = (\n",
    "#    tbls.mart_gtfs.fct_daily_scheduled_stops()\n",
    "#    >> filter(_.activity_date == \"2022-06-01\")\n",
    "#)\n",
    "\n",
    "stop_counts = (\n",
    "    tbls.mart_gtfs.fct_daily_scheduled_stops()\n",
    "    >> filter(_.feed_key.isin(SUBSET_FEEDS))\n",
    "    >> select(_.feed_key, \n",
    "              _.stop_id, _.stop_event_count)\n",
    "    >> collect()\n",
    ")\n",
    "\n"
   ]
  },
  {
   "cell_type": "code",
   "execution_count": 23,
   "id": "d8d80349-1fdf-4929-9d29-b439b66b4c75",
   "metadata": {},
   "outputs": [
    {
     "name": "stdout",
     "output_type": "stream",
     "text": [
      "<class 'pandas.core.frame.DataFrame'>\n",
      "(743023, 3)\n",
      "                           feed_key stop_id  stop_event_count\n",
      "0  41ee0151e3cac17098d055ce25b3f104       1               103\n",
      "1  41ee0151e3cac17098d055ce25b3f104       1                88\n",
      "2  41ee0151e3cac17098d055ce25b3f104       1                88\n",
      "3  41ee0151e3cac17098d055ce25b3f104       1               103\n",
      "4  41ee0151e3cac17098d055ce25b3f104       1                88\n",
      "e7985c6c0c873f17871d79a527a50afa    320609\n",
      "a3af905228efc93bb48f360b92965afb    207083\n",
      "455fadac7ed63a72e7d3f36273d78313     93099\n",
      "239e56d11510f71d7182a24c5621be8c     92786\n",
      "d76560b3dfecce2d588023bf1d1c4c2d     22888\n",
      "41ee0151e3cac17098d055ce25b3f104      6558\n",
      "Name: feed_key, dtype: int64\n"
     ]
    }
   ],
   "source": [
    "#stop counts initially was a siuba query. need to add `>> collect()` to convert to a pandas df?\n",
    "print(type(stop_counts))\n",
    "print(stop_counts.shape)\n",
    "print(stop_counts.head())\n",
    "print(stop_counts.feed_key.value_counts())"
   ]
  },
  {
   "cell_type": "markdown",
   "id": "e8f32be3-7e0e-4c51-affd-1c67b879b0ec",
   "metadata": {},
   "source": [
    "### Aggregate\n",
    "* Write a function to aggregate to the operator level or county level, add new columns for desired metrics.\n",
    "* Merge in CA shapefile to get a gdf.\n",
    "* Add another `geometry` column, called `centroid`, and grab the county's centroid.\n",
    "* Refer to [docs](https://geopandas.org/en/stable/docs/reference/api/geopandas.GeoDataFrame.set_geometry.html) to see how to pick which column to use as the `geometry` for the gdf, since technically, a gdf can handle multiple geometry columns."
   ]
  },
  {
   "cell_type": "code",
   "execution_count": 35,
   "id": "3a5ccd2d-29f5-42fe-93f8-b47e55cf5878",
   "metadata": {},
   "outputs": [
    {
     "name": "stdout",
     "output_type": "stream",
     "text": [
      "['feed_key', 'name']\n",
      "['feed_key', 'stop_id', 'geometry']\n",
      "['feed_key', 'stop_id', 'stop_event_count']\n",
      "['OBJECTID', 'COUNTY_NAME', 'COUNTY_ABBREV', 'COUNTY_NUM', 'COUNTY_CODE', 'COUNTY_FIPS', 'ISLAND', 'Shape__Area', 'Shape__Length', 'GlobalID', 'geometry']\n"
     ]
    }
   ],
   "source": [
    "#listing out all df/gdf columns\n",
    "\n",
    "print(list(feeds_to_names.columns))\n",
    "print(list(stops.columns))\n",
    "print(list(stop_counts.columns))\n",
    "print(list(ca_county.columns))"
   ]
  },
  {
   "cell_type": "markdown",
   "id": "7739beb3-26cc-4e6c-b989-76011b18d351",
   "metadata": {},
   "source": [
    "### methdology\n",
    "What's the average number of trips per stop by operators in southern California? Show visualizations at the operator and county-level.\n",
    "\n",
    "table structure \n",
    "* County\n",
    "* operator name\n",
    "* count of stop_id\n",
    "\n",
    "\n",
    "potential new columns\n",
    "* number of trips\n",
    "* number of stops\n",
    "* aver"
   ]
  },
  {
   "cell_type": "markdown",
   "id": "533611ec-f316-4459-9237-476e5fcbfee0",
   "metadata": {},
   "source": [
    "### Visualizations\n",
    "* Make one chart for comparing trips per stop by operators, and another chart for comparing it by counties. Use a function to do this.\n",
    "* Make 1 map for comparing trips per stop by counties. Use `gdf.explore()` to do this.\n",
    "* Visualizations should follow the Cal-ITP style guide: [styleguide example notebook](https://github.com/cal-itp/data-analyses/blob/main/example_report/style-guide-examples.ipynb)\n",
    "* More on `folium` and `ipyleaflet`: https://github.com/jorisvandenbossche/geopandas-tutorial/blob/master/05-more-on-visualization.ipynb"
   ]
  },
  {
   "cell_type": "code",
   "execution_count": null,
   "id": "f2349ddd-8cb6-4452-95ab-8a0d1aca3b20",
   "metadata": {},
   "outputs": [],
   "source": [
    "# To add styleguide\n",
    "from shared_utils import styleguide\n",
    "from shared_utils import calitp_color_palette as cp"
   ]
  }
 ],
 "metadata": {
  "kernelspec": {
   "display_name": "Python 3 (ipykernel)",
   "language": "python",
   "name": "python3"
  },
  "language_info": {
   "codemirror_mode": {
    "name": "ipython",
    "version": 3
   },
   "file_extension": ".py",
   "mimetype": "text/x-python",
   "name": "python",
   "nbconvert_exporter": "python",
   "pygments_lexer": "ipython3",
   "version": "3.9.13"
  }
 },
 "nbformat": 4,
 "nbformat_minor": 5
}
