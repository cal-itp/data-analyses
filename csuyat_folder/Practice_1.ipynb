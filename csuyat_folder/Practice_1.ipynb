{
 "cells": [
  {
   "cell_type": "markdown",
   "id": "13e9c335-44d5-49ef-8750-1322d8b5d5eb",
   "metadata": {},
   "source": [
    "## I'm adding a new file!\n",
    "### This is a new line!"
   ]
  },
  {
   "cell_type": "code",
   "execution_count": 7,
   "id": "e227c48f-d980-4555-bf05-89461d657637",
   "metadata": {},
   "outputs": [],
   "source": [
    "### Here's another header"
   ]
  },
  {
   "cell_type": "code",
   "execution_count": 4,
   "id": "d4b55bad-e4fd-4d11-a3c0-f3c3808f8191",
   "metadata": {},
   "outputs": [
    {
     "name": "stdout",
     "output_type": "stream",
     "text": [
      "Hi Christian!\n"
     ]
    }
   ],
   "source": [
    "print('Hi Christian!')"
   ]
  },
  {
   "cell_type": "code",
   "execution_count": 8,
   "id": "466f13ae-1262-4cda-8c89-3aa6f11126af",
   "metadata": {},
   "outputs": [
    {
     "name": "stdout",
     "output_type": "stream",
     "text": [
      "Hello World\n"
     ]
    }
   ],
   "source": [
    "print('Hello World')"
   ]
  },
  {
   "cell_type": "code",
   "execution_count": 1,
   "id": "4d184b39-ca4f-43a9-bb0a-3635d5ce5be1",
   "metadata": {},
   "outputs": [
    {
     "name": "stdout",
     "output_type": "stream",
     "text": [
      "This is a test\n"
     ]
    }
   ],
   "source": [
    "print('This is a test')"
   ]
  },
  {
   "cell_type": "code",
   "execution_count": null,
   "id": "120bf9f7-6934-4307-bb45-06f9d5d49f62",
   "metadata": {},
   "outputs": [],
   "source": []
  }
 ],
 "metadata": {
  "kernelspec": {
   "display_name": "Python 3 (ipykernel)",
   "language": "python",
   "name": "python3"
  },
  "language_info": {
   "codemirror_mode": {
    "name": "ipython",
    "version": 3
   },
   "file_extension": ".py",
   "mimetype": "text/x-python",
   "name": "python",
   "nbconvert_exporter": "python",
   "pygments_lexer": "ipython3",
   "version": "3.9.13"
  }
 },
 "nbformat": 4,
 "nbformat_minor": 5
}
