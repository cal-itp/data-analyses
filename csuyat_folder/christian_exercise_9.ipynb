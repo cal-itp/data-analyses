{
 "cells": [
  {
   "cell_type": "markdown",
   "id": "84872c99-cfe4-4298-b2c1-e968dae374ab",
   "metadata": {},
   "source": [
    "# Exercise 9: series\n",
    "\n",
    "* pandas series vs numpy arrays [explanation](https://jakevdp.github.io/PythonDataScienceHandbook/03.01-introducing-pandas-objects.html)\n",
    "\n",
    "### Common series operations\n",
    "These are the most common series operations we use. Refer to the `pandas` docs for even more!\n",
    "\n",
    "* Getting dates, hours, minutes from datetime types (`df.datetime_col.dt.date`)\n",
    "* Parsing strings (`df.string_col.str.split('_')`)\n",
    "\n",
    "### Common geoseries operations\n",
    "These are the most common. Refer to the `geopandas` docs for even more!\n",
    "\n",
    "* `distance` between 2 points or a point to a polygon or line [docs](https://geopandas.org/en/stable/docs/reference/api/geopandas.GeoSeries.distance.html)\n",
    "* `intersects`: [docs](https://geopandas.org/en/stable/docs/reference/api/geopandas.GeoSeries.intersects.html)\n",
    "* `within`: [docs](https://geopandas.org/en/stable/docs/reference/api/geopandas.GeoSeries.within.html)\n",
    "* `contains`: [docs](https://geopandas.org/en/stable/docs/reference/api/geopandas.GeoSeries.contains.html)\n",
    "\n",
    "In fact, we've often used geoseries methods without even realizing it. Often, we'd create a new column that stores either the line's length or a polygon's area. `gdf.geometry` is a geoseries, and we call methods on that geoseries, and add that as a new column.\n",
    "\n",
    "For calculations like `length`, `area`, and `distance`, we need to use a projected CRS that has units like meters or feet. We cannot use decimal degrees (do not use WGS 84 / EPSG:3326)! Distance calculations must be done only once the spherical 3D Earth has been converted into a 2D plane.\n",
    "\n",
    "* `length`: get the length of a line (`gdf.geometry.length`)\n",
    "* `area`: get the area of a polygon (`gdf.geometry.area`)\n",
    "* `centroid`: get the centroid of a polygon (`gdf.geometry.centroid`)\n",
    "* `x`: get the x coordinate of a point (`gdf.geometry.x`)\n",
    "* `y`: get the y coordinate of a point (`gdf.geometry.y`)\n",
    "\n",
    "### Arrays\n",
    "* Occasionally, we may even use arrays, especially when the datasets get even larger but we have simple mathematical calculations\n",
    "* If we need to apply an exponential decay function to a distance column, we essentially want to multiple `distance` by some number\n",
    "* Since this exponential decay function is somewhat custom and requires us to write our own formula, we would extract the column as a series (`df.distance`) and multiply each value by some other number.\n",
    "* Even quicker is to use `numpy` with `distance_array = np.array(df.distance)` and get `exponential_array = distance_array*some_number`"
   ]
  },
  {
   "cell_type": "code",
   "execution_count": 1,
   "id": "857e8b4d-efc3-4919-85da-6af600d4a39c",
   "metadata": {},
   "outputs": [],
   "source": [
    "import geopandas as gpd\n",
    "import intake\n",
    "import numpy as np\n",
    "import pandas as pd\n",
    "\n",
    "catalog = intake.open_catalog(\n",
    "    \"../_shared_utils/shared_utils/shared_data_catalog.yml\")"
   ]
  },
  {
   "cell_type": "markdown",
   "id": "0aac8643-45b0-47c6-af66-7e718942f82d",
   "metadata": {},
   "source": [
    "If you're asking how far is a transit stop from the interstate, you'd want the distance of every point (every row) compared to an interstate highway geometry.\n",
    "\n",
    "Let's prep the datasets to use series / geoseries to do this."
   ]
  },
  {
   "cell_type": "code",
   "execution_count": null,
   "id": "4769438c-5b5d-4e94-b214-cda4fbedd13e",
   "metadata": {},
   "outputs": [],
   "source": [
    "stops = catalog.ca_transit_stops.read()[[\"agency\", \"stop_id\", \n",
    "                                         \"stop_name\", \"geometry\"]]\n",
    "highways = catalog.state_highway_network.read()"
   ]
  },
  {
   "cell_type": "code",
   "execution_count": null,
   "id": "90075587-1151-4844-9079-e3cd03138337",
   "metadata": {},
   "outputs": [],
   "source": []
  },
  {
   "cell_type": "markdown",
   "id": "2e8d2b6e-8f36-4469-8e44-17ac5c17002b",
   "metadata": {},
   "source": [
    "Since we want to know the distance from a stop's point to the interstate generally, we need a dissolve. We don't want to compare the distance against the I-5, the I-10 individually, but to the interstate system as a whole."
   ]
  },
  {
   "cell_type": "code",
   "execution_count": null,
   "id": "87324210-da50-4973-b652-703355bc8407",
   "metadata": {},
   "outputs": [],
   "source": [
    "interstates = (highways[highways.RouteType==\"Interstate\"]\n",
    "               .dissolve()\n",
    "               .reset_index()\n",
    "               [[\"geometry\"]]\n",
    "              )"
   ]
  },
  {
   "cell_type": "code",
   "execution_count": null,
   "id": "a26c2ee1-d636-4545-a7cf-3ee202ee3a41",
   "metadata": {},
   "outputs": [],
   "source": []
  },
  {
   "cell_type": "code",
   "execution_count": null,
   "id": "857d6bb1-bf13-4b63-b89d-89d9c3921861",
   "metadata": {},
   "outputs": [],
   "source": [
    "df_check(stops)"
   ]
  },
  {
   "cell_type": "code",
   "execution_count": null,
   "id": "8b549214-18d8-4e22-822f-eb709bf3924f",
   "metadata": {},
   "outputs": [],
   "source": [
    "df_check(highways)"
   ]
  },
  {
   "cell_type": "code",
   "execution_count": null,
   "id": "6f864ee3-8c3d-4e81-bef1-f5d52aa80af1",
   "metadata": {},
   "outputs": [],
   "source": [
    "highways.plot()"
   ]
  },
  {
   "cell_type": "code",
   "execution_count": null,
   "id": "93b966ed-3115-425d-8521-1d98403a526c",
   "metadata": {},
   "outputs": [],
   "source": [
    "# This is still a gdf, just with 1 column\n",
    "type(interstates)"
   ]
  },
  {
   "cell_type": "code",
   "execution_count": null,
   "id": "856fd119-11bc-430f-97b9-b9833012b5fe",
   "metadata": {},
   "outputs": [],
   "source": [
    "df_check(interstates)"
   ]
  },
  {
   "cell_type": "code",
   "execution_count": null,
   "id": "6d77f3c0-d520-4d90-a7ee-8466b26daf28",
   "metadata": {},
   "outputs": [],
   "source": [
    "# Pulling out the individual column, it becomes a series/geoseries.\n",
    "# It's a geoseries here because we had a gdf. \n",
    "# If it was a df, it would be a series.\n",
    "print(type(stops.geometry))\n",
    "print(type(interstates.geometry))"
   ]
  },
  {
   "cell_type": "markdown",
   "id": "76e590eb-aeaf-437f-a5b7-5b6947dd34cc",
   "metadata": {},
   "source": [
    "Distance is something you can calculate using `geopandas`.\n",
    "\n",
    "Specifically, it takes a geoseries on the left, and either a geoseries or a single geometry on the right.\n",
    "\n",
    "An example of having 2 geoseries would be comparing the distance between 2 points. On the left, it would be a geoseries of the origin points and on the right, destination points."
   ]
  },
  {
   "cell_type": "code",
   "execution_count": null,
   "id": "98652a57-47f1-4fce-940d-01530e6c112d",
   "metadata": {},
   "outputs": [],
   "source": [
    "# We get a warning if we leave it in EPSG:4326!\n",
    "stops.geometry.distance(interstates.geometry.iloc[0])"
   ]
  },
  {
   "cell_type": "code",
   "execution_count": null,
   "id": "01f76443-ff98-4340-bc40-5ee42c5534be",
   "metadata": {},
   "outputs": [],
   "source": [
    "stops_geom = stops.to_crs(\"EPSG:2229\").geometry\n",
    "interstates_geom = interstates.to_crs(\"EPSG:2229\").geometry.iloc[0]"
   ]
  },
  {
   "cell_type": "code",
   "execution_count": null,
   "id": "1b48c3b6-42b3-4548-86c2-1a82640da3fe",
   "metadata": {},
   "outputs": [],
   "source": [
    "df_check(stops_geom)"
   ]
  },
  {
   "cell_type": "code",
   "execution_count": null,
   "id": "698d678d-de4c-44c8-9366-618487e26d78",
   "metadata": {},
   "outputs": [],
   "source": [
    "interstates_geom"
   ]
  },
  {
   "cell_type": "code",
   "execution_count": null,
   "id": "1cc464f7-3f5f-4b60-9ab8-0e24cbf02c5d",
   "metadata": {},
   "outputs": [],
   "source": [
    "distance_series = stops_geom.distance(interstates_geom)"
   ]
  },
  {
   "cell_type": "code",
   "execution_count": null,
   "id": "7b0079d8-6485-4666-aeae-f93bed9df7fc",
   "metadata": {},
   "outputs": [],
   "source": [
    "#returns a series (like a 1 col table)\n",
    "df_check(distance_series)\n"
   ]
  },
  {
   "cell_type": "code",
   "execution_count": null,
   "id": "f7aff458-964e-4b07-aed7-49bad17a90a1",
   "metadata": {},
   "outputs": [],
   "source": [
    "# Let's make sure that for every stop, a distance is calculated\n",
    "print(f\"# rows in stops: {len(stops_geom)}\")\n",
    "print(f\"# rows in stops: {len(distance_series)}\")"
   ]
  },
  {
   "cell_type": "code",
   "execution_count": null,
   "id": "0dd7a990-e28b-4927-8215-b7255e450730",
   "metadata": {},
   "outputs": [],
   "source": [
    "# distance is numeric, not a geometry, so we're back to being a series\n",
    "type(distance_series)"
   ]
  },
  {
   "cell_type": "markdown",
   "id": "c264d096-fbc3-4450-9f9c-1bf11b805267",
   "metadata": {},
   "source": [
    "What can we do with this? \n",
    "\n",
    "We usually add it as a new column. Since we did nothing to shift the index, we can just attach the series back to our gdf.\n",
    "\n",
    "Getting a distance calculation using geoseries is much quicker than a row-wise lambda function where you calculate the distance.\n",
    "\n",
    "```\n",
    "Alternative method that's slower:\n",
    "      \n",
    "interstate_geom = interstates.geometry.iloc[0]\n",
    "\n",
    "stops = stops.assign(\n",
    "   distance = stops.geometry.apply(\n",
    "         lambda x: x.distance(interstate_geom))\n",
    ")   \n",
    "```"
   ]
  },
  {
   "cell_type": "code",
   "execution_count": null,
   "id": "7609c11a-be1d-491d-a6ef-a6418b90d821",
   "metadata": {},
   "outputs": [],
   "source": [
    "#adds a new column to stops called `distance_to_interstate` and fills it with values from `distance_series`. \n",
    "#the indicies are the same for both, meaning they match up\n",
    "\n",
    "stops = stops.assign(\n",
    "    distance_to_interstate = distance_series\n",
    ")"
   ]
  },
  {
   "cell_type": "code",
   "execution_count": null,
   "id": "5f16fb3a-d1ef-4f96-b436-6f54c6da3fa6",
   "metadata": {},
   "outputs": [],
   "source": [
    "df_check(stops)"
   ]
  },
  {
   "cell_type": "code",
   "execution_count": null,
   "id": "4990dead-00a1-482f-ac6b-26b31e7289fb",
   "metadata": {},
   "outputs": [],
   "source": [
    "#this cell took a loooooooong time to run\n",
    "#%%timeit\n",
    "#distance_series = stops_geom.distance(interstates_geom)"
   ]
  },
  {
   "cell_type": "code",
   "execution_count": null,
   "id": "955c45f0-bf8b-41f5-a2c8-7dfcc2513463",
   "metadata": {},
   "outputs": [],
   "source": [
    "#also took a loooooong time to run\n",
    "#%%timeit\n",
    "#stops.assign(\n",
    "   #distance = stops.geometry.apply(\n",
    "       #  lambda x: x.distance(interstates_geom))\n",
    "#)   "
   ]
  },
  {
   "cell_type": "code",
   "execution_count": null,
   "id": "9ef4ec02-0486-4103-87a0-4d41a1520318",
   "metadata": {},
   "outputs": [],
   "source": [
    "#import dask_geopandas as dg\n",
    "\n",
    "#stops_gddf = dg.from_geopandas(stops, npartitions=2)\n",
    "#stops_geom_dg = stops_gddf.to_crs(\"EPSG:2229\").geometry"
   ]
  },
  {
   "cell_type": "code",
   "execution_count": null,
   "id": "6a486f4a-4ddf-4a2a-83d0-454fd4684e73",
   "metadata": {},
   "outputs": [],
   "source": [
    "#was a lot laster to run\n",
    "#%%timeit\n",
    "\n",
    "#distance_series = stops_geom_dg.distance(interstates_geom)"
   ]
  },
  {
   "cell_type": "markdown",
   "id": "fd487060-64f6-46f0-b600-f0856957077b",
   "metadata": {},
   "source": [
    "## To Do\n",
    "\n",
    "* Use the `stop_times` table and `stops` table.\n",
    "* Calculate the straight line distance between the first and last stop for each trip. Call this column `trip_distance`\n",
    "* Calculate the distance between each stop to the nearest interstate. For each trip, keep the value for the stop that's the closest to the interstate. Call this column `shortest_distance_hwy`.\n",
    "* For each trip, add these 2 new columns, but use series, geoseries, and/or arrays to assign it.\n",
    "* Provide a preview of the resulting df (do not export)"
   ]
  },
  {
   "cell_type": "code",
   "execution_count": 2,
   "id": "9382c83d-d0d7-462d-bd64-3854d6f5325e",
   "metadata": {},
   "outputs": [],
   "source": [
    "GCS_FILE_PATH = (\"gs://calitp-analytics-data/data-analyses/\"\n",
    "                 \"rt_delay/compiled_cached_views/\"\n",
    "                )\n",
    "\n",
    "analysis_date = \"2023-01-18\"\n",
    "STOP_TIMES_FILE = f\"{GCS_FILE_PATH}st_{analysis_date}.parquet\"\n",
    "STOPS_FILE = f\"{GCS_FILE_PATH}stops_{analysis_date}.parquet\"\n",
    "highways = catalog.state_highway_network.read()"
   ]
  },
  {
   "cell_type": "code",
   "execution_count": 3,
   "id": "ebc4a634-fc03-4be9-bbb3-4e9c061d8570",
   "metadata": {},
   "outputs": [
    {
     "name": "stderr",
     "output_type": "stream",
     "text": [
      "/opt/conda/lib/python3.9/site-packages/google/auth/_default.py:78: UserWarning: Your application has authenticated using end user credentials from Google Cloud SDK without a quota project. You might receive a \"quota exceeded\" or \"API not enabled\" error. See the following page for troubleshooting: https://cloud.google.com/docs/authentication/adc-troubleshooting/user-creds. \n",
      "  warnings.warn(_CLOUD_SDK_CREDENTIALS_WARNING)\n"
     ]
    }
   ],
   "source": [
    "#import parquet files\n",
    "stops = pd.read_parquet(STOPS_FILE)\n",
    "stop_times = pd.read_parquet(STOP_TIMES_FILE)"
   ]
  },
  {
   "cell_type": "code",
   "execution_count": 4,
   "id": "123666bf-a8e4-432a-907e-05cef219f208",
   "metadata": {},
   "outputs": [],
   "source": [
    "#grabbed ca map from previous exercise. so ican clip everything to CA\n",
    "districts = catalog.caltrans_districts.read().to_crs('EPSG:2229')\n"
   ]
  },
  {
   "cell_type": "code",
   "execution_count": 5,
   "id": "223591ed-1613-4f12-b54d-3b932dad8ce3",
   "metadata": {},
   "outputs": [],
   "source": [
    "ca = districts.dissolve()"
   ]
  },
  {
   "cell_type": "code",
   "execution_count": 6,
   "id": "2568f9eb-1832-47f9-8b04-364c753dbc6c",
   "metadata": {},
   "outputs": [],
   "source": [
    "#function that runs the same checks for dfs\n",
    "def df_check(x):\n",
    "    display(f'shape of df:{x.shape}'),\n",
    "    display(f'type of :{type(x)}'),\n",
    "    display(x.head()),\n",
    "    return "
   ]
  },
  {
   "cell_type": "code",
   "execution_count": 7,
   "id": "872f37ee-b96e-407a-aaf4-558463b31446",
   "metadata": {},
   "outputs": [
    {
     "data": {
      "text/plain": [
       "'shape of df:(84688, 16)'"
      ]
     },
     "metadata": {},
     "output_type": "display_data"
    },
    {
     "data": {
      "text/plain": [
       "\"type of :<class 'pandas.core.frame.DataFrame'>\""
      ]
     },
     "metadata": {},
     "output_type": "display_data"
    },
    {
     "data": {
      "text/html": [
       "<div>\n",
       "<style scoped>\n",
       "    .dataframe tbody tr th:only-of-type {\n",
       "        vertical-align: middle;\n",
       "    }\n",
       "\n",
       "    .dataframe tbody tr th {\n",
       "        vertical-align: top;\n",
       "    }\n",
       "\n",
       "    .dataframe thead th {\n",
       "        text-align: right;\n",
       "    }\n",
       "</style>\n",
       "<table border=\"1\" class=\"dataframe\">\n",
       "  <thead>\n",
       "    <tr style=\"text-align: right;\">\n",
       "      <th></th>\n",
       "      <th>feed_key</th>\n",
       "      <th>stop_id</th>\n",
       "      <th>stop_key</th>\n",
       "      <th>stop_name</th>\n",
       "      <th>route_type_0</th>\n",
       "      <th>route_type_1</th>\n",
       "      <th>route_type_2</th>\n",
       "      <th>route_type_3</th>\n",
       "      <th>route_type_4</th>\n",
       "      <th>route_type_5</th>\n",
       "      <th>route_type_6</th>\n",
       "      <th>route_type_7</th>\n",
       "      <th>route_type_11</th>\n",
       "      <th>route_type_12</th>\n",
       "      <th>missing_route_type</th>\n",
       "      <th>geometry</th>\n",
       "    </tr>\n",
       "  </thead>\n",
       "  <tbody>\n",
       "    <tr>\n",
       "      <th>0</th>\n",
       "      <td>6adf6cd9b6d24ab4ee8ee220e3697a73</td>\n",
       "      <td>15193</td>\n",
       "      <td>d4eb0920e7e256606df449c31b3c3e6a</td>\n",
       "      <td>Vanowen / Encino</td>\n",
       "      <td>NaN</td>\n",
       "      <td>NaN</td>\n",
       "      <td>NaN</td>\n",
       "      <td>69.0</td>\n",
       "      <td>NaN</td>\n",
       "      <td>NaN</td>\n",
       "      <td>None</td>\n",
       "      <td>None</td>\n",
       "      <td>None</td>\n",
       "      <td>None</td>\n",
       "      <td>None</td>\n",
       "      <td>b'\\x01\\x01\\x00\\x00\\x00?\\xe5\\x98,\\xee\\xa0]\\xc0\\...</td>\n",
       "    </tr>\n",
       "    <tr>\n",
       "      <th>1</th>\n",
       "      <td>6adf6cd9b6d24ab4ee8ee220e3697a73</td>\n",
       "      <td>14025</td>\n",
       "      <td>038cca58ef5f071ff5c94b8213989f87</td>\n",
       "      <td>Vermont / 110th</td>\n",
       "      <td>NaN</td>\n",
       "      <td>NaN</td>\n",
       "      <td>NaN</td>\n",
       "      <td>107.0</td>\n",
       "      <td>NaN</td>\n",
       "      <td>NaN</td>\n",
       "      <td>None</td>\n",
       "      <td>None</td>\n",
       "      <td>None</td>\n",
       "      <td>None</td>\n",
       "      <td>None</td>\n",
       "      <td>b'\\x01\\x01\\x00\\x00\\x00\\x10\\x1em\\x1c\\xb1\\x92]\\x...</td>\n",
       "    </tr>\n",
       "    <tr>\n",
       "      <th>2</th>\n",
       "      <td>6adf6cd9b6d24ab4ee8ee220e3697a73</td>\n",
       "      <td>15638</td>\n",
       "      <td>06b1447efcc028791c8409d65fa3b3ee</td>\n",
       "      <td>3rd / Hobart</td>\n",
       "      <td>NaN</td>\n",
       "      <td>NaN</td>\n",
       "      <td>NaN</td>\n",
       "      <td>143.0</td>\n",
       "      <td>NaN</td>\n",
       "      <td>NaN</td>\n",
       "      <td>None</td>\n",
       "      <td>None</td>\n",
       "      <td>None</td>\n",
       "      <td>None</td>\n",
       "      <td>None</td>\n",
       "      <td>b'\\x01\\x01\\x00\\x00\\x00\\xd7d\\x8dz\\x88\\x93]\\xc03...</td>\n",
       "    </tr>\n",
       "    <tr>\n",
       "      <th>3</th>\n",
       "      <td>6adf6cd9b6d24ab4ee8ee220e3697a73</td>\n",
       "      <td>10244</td>\n",
       "      <td>87f19e30889f90d25e6dee49f04c4985</td>\n",
       "      <td>Vernon / Hooper</td>\n",
       "      <td>NaN</td>\n",
       "      <td>NaN</td>\n",
       "      <td>NaN</td>\n",
       "      <td>97.0</td>\n",
       "      <td>NaN</td>\n",
       "      <td>NaN</td>\n",
       "      <td>None</td>\n",
       "      <td>None</td>\n",
       "      <td>None</td>\n",
       "      <td>None</td>\n",
       "      <td>None</td>\n",
       "      <td>b'\\x01\\x01\\x00\\x00\\x00z\\xc2\\x12\\x0f(\\x90]\\xc0\\...</td>\n",
       "    </tr>\n",
       "    <tr>\n",
       "      <th>4</th>\n",
       "      <td>6adf6cd9b6d24ab4ee8ee220e3697a73</td>\n",
       "      <td>20206</td>\n",
       "      <td>eda9e3eb339b7f510babcd4ee0999f85</td>\n",
       "      <td>Broadway / Pacific</td>\n",
       "      <td>NaN</td>\n",
       "      <td>NaN</td>\n",
       "      <td>NaN</td>\n",
       "      <td>108.0</td>\n",
       "      <td>NaN</td>\n",
       "      <td>NaN</td>\n",
       "      <td>None</td>\n",
       "      <td>None</td>\n",
       "      <td>None</td>\n",
       "      <td>None</td>\n",
       "      <td>None</td>\n",
       "      <td>b'\\x01\\x01\\x00\\x00\\x001du\\xab\\xe7\\x90]\\xc0\\xf4...</td>\n",
       "    </tr>\n",
       "  </tbody>\n",
       "</table>\n",
       "</div>"
      ],
      "text/plain": [
       "                           feed_key stop_id                          stop_key  \\\n",
       "0  6adf6cd9b6d24ab4ee8ee220e3697a73   15193  d4eb0920e7e256606df449c31b3c3e6a   \n",
       "1  6adf6cd9b6d24ab4ee8ee220e3697a73   14025  038cca58ef5f071ff5c94b8213989f87   \n",
       "2  6adf6cd9b6d24ab4ee8ee220e3697a73   15638  06b1447efcc028791c8409d65fa3b3ee   \n",
       "3  6adf6cd9b6d24ab4ee8ee220e3697a73   10244  87f19e30889f90d25e6dee49f04c4985   \n",
       "4  6adf6cd9b6d24ab4ee8ee220e3697a73   20206  eda9e3eb339b7f510babcd4ee0999f85   \n",
       "\n",
       "            stop_name  route_type_0  route_type_1  route_type_2  route_type_3  \\\n",
       "0    Vanowen / Encino           NaN           NaN           NaN          69.0   \n",
       "1     Vermont / 110th           NaN           NaN           NaN         107.0   \n",
       "2        3rd / Hobart           NaN           NaN           NaN         143.0   \n",
       "3     Vernon / Hooper           NaN           NaN           NaN          97.0   \n",
       "4  Broadway / Pacific           NaN           NaN           NaN         108.0   \n",
       "\n",
       "   route_type_4  route_type_5 route_type_6 route_type_7 route_type_11  \\\n",
       "0           NaN           NaN         None         None          None   \n",
       "1           NaN           NaN         None         None          None   \n",
       "2           NaN           NaN         None         None          None   \n",
       "3           NaN           NaN         None         None          None   \n",
       "4           NaN           NaN         None         None          None   \n",
       "\n",
       "  route_type_12 missing_route_type  \\\n",
       "0          None               None   \n",
       "1          None               None   \n",
       "2          None               None   \n",
       "3          None               None   \n",
       "4          None               None   \n",
       "\n",
       "                                            geometry  \n",
       "0  b'\\x01\\x01\\x00\\x00\\x00?\\xe5\\x98,\\xee\\xa0]\\xc0\\...  \n",
       "1  b'\\x01\\x01\\x00\\x00\\x00\\x10\\x1em\\x1c\\xb1\\x92]\\x...  \n",
       "2  b'\\x01\\x01\\x00\\x00\\x00\\xd7d\\x8dz\\x88\\x93]\\xc03...  \n",
       "3  b'\\x01\\x01\\x00\\x00\\x00z\\xc2\\x12\\x0f(\\x90]\\xc0\\...  \n",
       "4  b'\\x01\\x01\\x00\\x00\\x001du\\xab\\xe7\\x90]\\xc0\\xf4...  "
      ]
     },
     "metadata": {},
     "output_type": "display_data"
    }
   ],
   "source": [
    "#what does each row mean?\n",
    "#each row is a stop_key, a stop_key can have multiple feeds and stops\n",
    "#what is the difference between stop_key and stop_id?\n",
    "\n",
    "#noticed the geometry col is in WKB. need to convert this to something else.\n",
    "\n",
    "df_check(stops)"
   ]
  },
  {
   "cell_type": "code",
   "execution_count": 8,
   "id": "2fb374d4-4fa0-4af1-b1ca-374f2a77669e",
   "metadata": {},
   "outputs": [],
   "source": [
    "#found method to create geoseries from wkb.\n",
    "test = gpd.GeoSeries.from_wkb(stops.geometry)\n"
   ]
  },
  {
   "cell_type": "code",
   "execution_count": 9,
   "id": "f8e00704-d547-4776-b013-2c3d272643f7",
   "metadata": {},
   "outputs": [],
   "source": [
    "#have a geoeries called `test`. now i am able to add this series back to initial stops table (using assign)\n",
    "stops2 = stops.assign(pt_geom = test)"
   ]
  },
  {
   "cell_type": "code",
   "execution_count": 10,
   "id": "2b489b84-5df1-4537-9de2-974b7c42405f",
   "metadata": {},
   "outputs": [],
   "source": [
    "#now I can create a gdf and set an active geom col and change crs to ft.\n",
    "stops2 = gpd.GeoDataFrame(stops2).set_geometry('pt_geom').set_crs('EPSG:2229')"
   ]
  },
  {
   "cell_type": "code",
   "execution_count": 11,
   "id": "11deab8d-7848-4b8e-9e7b-c8228161839d",
   "metadata": {},
   "outputs": [
    {
     "data": {
      "text/plain": [
       "'shape of df:(84688, 17)'"
      ]
     },
     "metadata": {},
     "output_type": "display_data"
    },
    {
     "data": {
      "text/plain": [
       "\"type of :<class 'geopandas.geodataframe.GeoDataFrame'>\""
      ]
     },
     "metadata": {},
     "output_type": "display_data"
    },
    {
     "data": {
      "text/html": [
       "<div>\n",
       "<style scoped>\n",
       "    .dataframe tbody tr th:only-of-type {\n",
       "        vertical-align: middle;\n",
       "    }\n",
       "\n",
       "    .dataframe tbody tr th {\n",
       "        vertical-align: top;\n",
       "    }\n",
       "\n",
       "    .dataframe thead th {\n",
       "        text-align: right;\n",
       "    }\n",
       "</style>\n",
       "<table border=\"1\" class=\"dataframe\">\n",
       "  <thead>\n",
       "    <tr style=\"text-align: right;\">\n",
       "      <th></th>\n",
       "      <th>feed_key</th>\n",
       "      <th>stop_id</th>\n",
       "      <th>stop_key</th>\n",
       "      <th>stop_name</th>\n",
       "      <th>route_type_0</th>\n",
       "      <th>route_type_1</th>\n",
       "      <th>route_type_2</th>\n",
       "      <th>route_type_3</th>\n",
       "      <th>route_type_4</th>\n",
       "      <th>route_type_5</th>\n",
       "      <th>route_type_6</th>\n",
       "      <th>route_type_7</th>\n",
       "      <th>route_type_11</th>\n",
       "      <th>route_type_12</th>\n",
       "      <th>missing_route_type</th>\n",
       "      <th>geometry</th>\n",
       "      <th>pt_geom</th>\n",
       "    </tr>\n",
       "  </thead>\n",
       "  <tbody>\n",
       "    <tr>\n",
       "      <th>0</th>\n",
       "      <td>6adf6cd9b6d24ab4ee8ee220e3697a73</td>\n",
       "      <td>15193</td>\n",
       "      <td>d4eb0920e7e256606df449c31b3c3e6a</td>\n",
       "      <td>Vanowen / Encino</td>\n",
       "      <td>NaN</td>\n",
       "      <td>NaN</td>\n",
       "      <td>NaN</td>\n",
       "      <td>69.0</td>\n",
       "      <td>NaN</td>\n",
       "      <td>NaN</td>\n",
       "      <td>None</td>\n",
       "      <td>None</td>\n",
       "      <td>None</td>\n",
       "      <td>None</td>\n",
       "      <td>None</td>\n",
       "      <td>b'\\x01\\x01\\x00\\x00\\x00?\\xe5\\x98,\\xee\\xa0]\\xc0\\...</td>\n",
       "      <td>POINT (-118.515 34.194)</td>\n",
       "    </tr>\n",
       "    <tr>\n",
       "      <th>1</th>\n",
       "      <td>6adf6cd9b6d24ab4ee8ee220e3697a73</td>\n",
       "      <td>14025</td>\n",
       "      <td>038cca58ef5f071ff5c94b8213989f87</td>\n",
       "      <td>Vermont / 110th</td>\n",
       "      <td>NaN</td>\n",
       "      <td>NaN</td>\n",
       "      <td>NaN</td>\n",
       "      <td>107.0</td>\n",
       "      <td>NaN</td>\n",
       "      <td>NaN</td>\n",
       "      <td>None</td>\n",
       "      <td>None</td>\n",
       "      <td>None</td>\n",
       "      <td>None</td>\n",
       "      <td>None</td>\n",
       "      <td>b'\\x01\\x01\\x00\\x00\\x00\\x10\\x1em\\x1c\\xb1\\x92]\\x...</td>\n",
       "      <td>POINT (-118.292 33.936)</td>\n",
       "    </tr>\n",
       "    <tr>\n",
       "      <th>2</th>\n",
       "      <td>6adf6cd9b6d24ab4ee8ee220e3697a73</td>\n",
       "      <td>15638</td>\n",
       "      <td>06b1447efcc028791c8409d65fa3b3ee</td>\n",
       "      <td>3rd / Hobart</td>\n",
       "      <td>NaN</td>\n",
       "      <td>NaN</td>\n",
       "      <td>NaN</td>\n",
       "      <td>143.0</td>\n",
       "      <td>NaN</td>\n",
       "      <td>NaN</td>\n",
       "      <td>None</td>\n",
       "      <td>None</td>\n",
       "      <td>None</td>\n",
       "      <td>None</td>\n",
       "      <td>None</td>\n",
       "      <td>b'\\x01\\x01\\x00\\x00\\x00\\xd7d\\x8dz\\x88\\x93]\\xc03...</td>\n",
       "      <td>POINT (-118.305 34.069)</td>\n",
       "    </tr>\n",
       "    <tr>\n",
       "      <th>3</th>\n",
       "      <td>6adf6cd9b6d24ab4ee8ee220e3697a73</td>\n",
       "      <td>10244</td>\n",
       "      <td>87f19e30889f90d25e6dee49f04c4985</td>\n",
       "      <td>Vernon / Hooper</td>\n",
       "      <td>NaN</td>\n",
       "      <td>NaN</td>\n",
       "      <td>NaN</td>\n",
       "      <td>97.0</td>\n",
       "      <td>NaN</td>\n",
       "      <td>NaN</td>\n",
       "      <td>None</td>\n",
       "      <td>None</td>\n",
       "      <td>None</td>\n",
       "      <td>None</td>\n",
       "      <td>None</td>\n",
       "      <td>b'\\x01\\x01\\x00\\x00\\x00z\\xc2\\x12\\x0f(\\x90]\\xc0\\...</td>\n",
       "      <td>POINT (-118.252 34.004)</td>\n",
       "    </tr>\n",
       "    <tr>\n",
       "      <th>4</th>\n",
       "      <td>6adf6cd9b6d24ab4ee8ee220e3697a73</td>\n",
       "      <td>20206</td>\n",
       "      <td>eda9e3eb339b7f510babcd4ee0999f85</td>\n",
       "      <td>Broadway / Pacific</td>\n",
       "      <td>NaN</td>\n",
       "      <td>NaN</td>\n",
       "      <td>NaN</td>\n",
       "      <td>108.0</td>\n",
       "      <td>NaN</td>\n",
       "      <td>NaN</td>\n",
       "      <td>None</td>\n",
       "      <td>None</td>\n",
       "      <td>None</td>\n",
       "      <td>None</td>\n",
       "      <td>None</td>\n",
       "      <td>b'\\x01\\x01\\x00\\x00\\x001du\\xab\\xe7\\x90]\\xc0\\xf4...</td>\n",
       "      <td>POINT (-118.264 34.147)</td>\n",
       "    </tr>\n",
       "  </tbody>\n",
       "</table>\n",
       "</div>"
      ],
      "text/plain": [
       "                           feed_key stop_id                          stop_key  \\\n",
       "0  6adf6cd9b6d24ab4ee8ee220e3697a73   15193  d4eb0920e7e256606df449c31b3c3e6a   \n",
       "1  6adf6cd9b6d24ab4ee8ee220e3697a73   14025  038cca58ef5f071ff5c94b8213989f87   \n",
       "2  6adf6cd9b6d24ab4ee8ee220e3697a73   15638  06b1447efcc028791c8409d65fa3b3ee   \n",
       "3  6adf6cd9b6d24ab4ee8ee220e3697a73   10244  87f19e30889f90d25e6dee49f04c4985   \n",
       "4  6adf6cd9b6d24ab4ee8ee220e3697a73   20206  eda9e3eb339b7f510babcd4ee0999f85   \n",
       "\n",
       "            stop_name  route_type_0  route_type_1  route_type_2  route_type_3  \\\n",
       "0    Vanowen / Encino           NaN           NaN           NaN          69.0   \n",
       "1     Vermont / 110th           NaN           NaN           NaN         107.0   \n",
       "2        3rd / Hobart           NaN           NaN           NaN         143.0   \n",
       "3     Vernon / Hooper           NaN           NaN           NaN          97.0   \n",
       "4  Broadway / Pacific           NaN           NaN           NaN         108.0   \n",
       "\n",
       "   route_type_4  route_type_5 route_type_6 route_type_7 route_type_11  \\\n",
       "0           NaN           NaN         None         None          None   \n",
       "1           NaN           NaN         None         None          None   \n",
       "2           NaN           NaN         None         None          None   \n",
       "3           NaN           NaN         None         None          None   \n",
       "4           NaN           NaN         None         None          None   \n",
       "\n",
       "  route_type_12 missing_route_type  \\\n",
       "0          None               None   \n",
       "1          None               None   \n",
       "2          None               None   \n",
       "3          None               None   \n",
       "4          None               None   \n",
       "\n",
       "                                            geometry                  pt_geom  \n",
       "0  b'\\x01\\x01\\x00\\x00\\x00?\\xe5\\x98,\\xee\\xa0]\\xc0\\...  POINT (-118.515 34.194)  \n",
       "1  b'\\x01\\x01\\x00\\x00\\x00\\x10\\x1em\\x1c\\xb1\\x92]\\x...  POINT (-118.292 33.936)  \n",
       "2  b'\\x01\\x01\\x00\\x00\\x00\\xd7d\\x8dz\\x88\\x93]\\xc03...  POINT (-118.305 34.069)  \n",
       "3  b'\\x01\\x01\\x00\\x00\\x00z\\xc2\\x12\\x0f(\\x90]\\xc0\\...  POINT (-118.252 34.004)  \n",
       "4  b'\\x01\\x01\\x00\\x00\\x001du\\xab\\xe7\\x90]\\xc0\\xf4...  POINT (-118.264 34.147)  "
      ]
     },
     "metadata": {},
     "output_type": "display_data"
    },
    {
     "data": {
      "text/plain": [
       "'pt_geom'"
      ]
     },
     "execution_count": 11,
     "metadata": {},
     "output_type": "execute_result"
    }
   ],
   "source": [
    "#function confirms that stops2 is a gdf, also used `stops2.geometry.name` and `stops2.crs` to confirm active geom col and crs was set as intended.\n",
    "df_check(stops2)\n",
    "\n",
    "#plotting reveals the stops2 is nationwide. may need to clip this to CA only or something.\n",
    "stops2.geometry.name\n"
   ]
  },
  {
   "cell_type": "code",
   "execution_count": 12,
   "id": "d265c106-3d06-4f80-9892-f30601ad0215",
   "metadata": {},
   "outputs": [
    {
     "data": {
      "text/plain": [
       "'shape of df:(3589931, 9)'"
      ]
     },
     "metadata": {},
     "output_type": "display_data"
    },
    {
     "data": {
      "text/plain": [
       "\"type of :<class 'pandas.core.frame.DataFrame'>\""
      ]
     },
     "metadata": {},
     "output_type": "display_data"
    },
    {
     "data": {
      "text/html": [
       "<div>\n",
       "<style scoped>\n",
       "    .dataframe tbody tr th:only-of-type {\n",
       "        vertical-align: middle;\n",
       "    }\n",
       "\n",
       "    .dataframe tbody tr th {\n",
       "        vertical-align: top;\n",
       "    }\n",
       "\n",
       "    .dataframe thead th {\n",
       "        text-align: right;\n",
       "    }\n",
       "</style>\n",
       "<table border=\"1\" class=\"dataframe\">\n",
       "  <thead>\n",
       "    <tr style=\"text-align: right;\">\n",
       "      <th></th>\n",
       "      <th>feed_key</th>\n",
       "      <th>trip_id</th>\n",
       "      <th>stop_id</th>\n",
       "      <th>stop_sequence</th>\n",
       "      <th>timepoint</th>\n",
       "      <th>arrival_sec</th>\n",
       "      <th>departure_sec</th>\n",
       "      <th>arrival_hour</th>\n",
       "      <th>departure_hour</th>\n",
       "    </tr>\n",
       "  </thead>\n",
       "  <tbody>\n",
       "    <tr>\n",
       "      <th>0</th>\n",
       "      <td>48138ae7269d615d5509958097039bf7</td>\n",
       "      <td>t287-b194-sl4_merged_3564</td>\n",
       "      <td>1140</td>\n",
       "      <td>11</td>\n",
       "      <td>NaN</td>\n",
       "      <td>25047</td>\n",
       "      <td>25047</td>\n",
       "      <td>6</td>\n",
       "      <td>6</td>\n",
       "    </tr>\n",
       "    <tr>\n",
       "      <th>1</th>\n",
       "      <td>48138ae7269d615d5509958097039bf7</td>\n",
       "      <td>t708-b12D-sl4_merged_4213</td>\n",
       "      <td>1161</td>\n",
       "      <td>25</td>\n",
       "      <td>NaN</td>\n",
       "      <td>66583</td>\n",
       "      <td>66583</td>\n",
       "      <td>18</td>\n",
       "      <td>18</td>\n",
       "    </tr>\n",
       "    <tr>\n",
       "      <th>2</th>\n",
       "      <td>48138ae7269d615d5509958097039bf7</td>\n",
       "      <td>t476-b194-sl4_merged_4047</td>\n",
       "      <td>1153</td>\n",
       "      <td>22</td>\n",
       "      <td>NaN</td>\n",
       "      <td>43440</td>\n",
       "      <td>43440</td>\n",
       "      <td>12</td>\n",
       "      <td>12</td>\n",
       "    </tr>\n",
       "    <tr>\n",
       "      <th>3</th>\n",
       "      <td>48138ae7269d615d5509958097039bf7</td>\n",
       "      <td>t6DF-b68-sl4_merged_3187</td>\n",
       "      <td>1437</td>\n",
       "      <td>4</td>\n",
       "      <td>NaN</td>\n",
       "      <td>64959</td>\n",
       "      <td>64959</td>\n",
       "      <td>18</td>\n",
       "      <td>18</td>\n",
       "    </tr>\n",
       "    <tr>\n",
       "      <th>4</th>\n",
       "      <td>d4642902c43d526677dff02b09342b78</td>\n",
       "      <td>t607-b1F4B-sl2_merged_1620</td>\n",
       "      <td>601</td>\n",
       "      <td>1</td>\n",
       "      <td>NaN</td>\n",
       "      <td>56580</td>\n",
       "      <td>56580</td>\n",
       "      <td>15</td>\n",
       "      <td>15</td>\n",
       "    </tr>\n",
       "  </tbody>\n",
       "</table>\n",
       "</div>"
      ],
      "text/plain": [
       "                           feed_key                     trip_id stop_id  \\\n",
       "0  48138ae7269d615d5509958097039bf7   t287-b194-sl4_merged_3564    1140   \n",
       "1  48138ae7269d615d5509958097039bf7   t708-b12D-sl4_merged_4213    1161   \n",
       "2  48138ae7269d615d5509958097039bf7   t476-b194-sl4_merged_4047    1153   \n",
       "3  48138ae7269d615d5509958097039bf7    t6DF-b68-sl4_merged_3187    1437   \n",
       "4  d4642902c43d526677dff02b09342b78  t607-b1F4B-sl2_merged_1620     601   \n",
       "\n",
       "   stop_sequence  timepoint  arrival_sec  departure_sec  arrival_hour  \\\n",
       "0             11        NaN        25047          25047             6   \n",
       "1             25        NaN        66583          66583            18   \n",
       "2             22        NaN        43440          43440            12   \n",
       "3              4        NaN        64959          64959            18   \n",
       "4              1        NaN        56580          56580            15   \n",
       "\n",
       "   departure_hour  \n",
       "0               6  \n",
       "1              18  \n",
       "2              12  \n",
       "3              18  \n",
       "4              15  "
      ]
     },
     "metadata": {},
     "output_type": "display_data"
    }
   ],
   "source": [
    "df_check(stop_times)"
   ]
  },
  {
   "cell_type": "code",
   "execution_count": 13,
   "id": "e5ece61b-436b-4350-b528-96b0a4c4c55e",
   "metadata": {},
   "outputs": [],
   "source": [
    "#join stops2 and stop times, resulting df is for every stop, we get the stop time and its location \n",
    "stop2times = stops2.merge(stop_times, how='inner', on=['feed_key', 'stop_id'])"
   ]
  },
  {
   "cell_type": "code",
   "execution_count": 14,
   "id": "b660aa97-06a7-404d-b4e2-957b5163c23f",
   "metadata": {},
   "outputs": [
    {
     "data": {
      "text/plain": [
       "'shape of df:(3589718, 24)'"
      ]
     },
     "metadata": {},
     "output_type": "display_data"
    },
    {
     "data": {
      "text/plain": [
       "\"type of :<class 'geopandas.geodataframe.GeoDataFrame'>\""
      ]
     },
     "metadata": {},
     "output_type": "display_data"
    },
    {
     "data": {
      "text/html": [
       "<div>\n",
       "<style scoped>\n",
       "    .dataframe tbody tr th:only-of-type {\n",
       "        vertical-align: middle;\n",
       "    }\n",
       "\n",
       "    .dataframe tbody tr th {\n",
       "        vertical-align: top;\n",
       "    }\n",
       "\n",
       "    .dataframe thead th {\n",
       "        text-align: right;\n",
       "    }\n",
       "</style>\n",
       "<table border=\"1\" class=\"dataframe\">\n",
       "  <thead>\n",
       "    <tr style=\"text-align: right;\">\n",
       "      <th></th>\n",
       "      <th>feed_key</th>\n",
       "      <th>stop_id</th>\n",
       "      <th>stop_key</th>\n",
       "      <th>stop_name</th>\n",
       "      <th>route_type_0</th>\n",
       "      <th>route_type_1</th>\n",
       "      <th>route_type_2</th>\n",
       "      <th>route_type_3</th>\n",
       "      <th>route_type_4</th>\n",
       "      <th>route_type_5</th>\n",
       "      <th>...</th>\n",
       "      <th>missing_route_type</th>\n",
       "      <th>geometry</th>\n",
       "      <th>pt_geom</th>\n",
       "      <th>trip_id</th>\n",
       "      <th>stop_sequence</th>\n",
       "      <th>timepoint</th>\n",
       "      <th>arrival_sec</th>\n",
       "      <th>departure_sec</th>\n",
       "      <th>arrival_hour</th>\n",
       "      <th>departure_hour</th>\n",
       "    </tr>\n",
       "  </thead>\n",
       "  <tbody>\n",
       "    <tr>\n",
       "      <th>0</th>\n",
       "      <td>6adf6cd9b6d24ab4ee8ee220e3697a73</td>\n",
       "      <td>15193</td>\n",
       "      <td>d4eb0920e7e256606df449c31b3c3e6a</td>\n",
       "      <td>Vanowen / Encino</td>\n",
       "      <td>NaN</td>\n",
       "      <td>NaN</td>\n",
       "      <td>NaN</td>\n",
       "      <td>69.0</td>\n",
       "      <td>NaN</td>\n",
       "      <td>NaN</td>\n",
       "      <td>...</td>\n",
       "      <td>None</td>\n",
       "      <td>b'\\x01\\x01\\x00\\x00\\x00?\\xe5\\x98,\\xee\\xa0]\\xc0\\...</td>\n",
       "      <td>POINT (-118.515 34.194)</td>\n",
       "      <td>10165002071128-DEC22</td>\n",
       "      <td>54</td>\n",
       "      <td>0.0</td>\n",
       "      <td>44760</td>\n",
       "      <td>44760</td>\n",
       "      <td>12</td>\n",
       "      <td>12</td>\n",
       "    </tr>\n",
       "    <tr>\n",
       "      <th>1</th>\n",
       "      <td>6adf6cd9b6d24ab4ee8ee220e3697a73</td>\n",
       "      <td>15193</td>\n",
       "      <td>d4eb0920e7e256606df449c31b3c3e6a</td>\n",
       "      <td>Vanowen / Encino</td>\n",
       "      <td>NaN</td>\n",
       "      <td>NaN</td>\n",
       "      <td>NaN</td>\n",
       "      <td>69.0</td>\n",
       "      <td>NaN</td>\n",
       "      <td>NaN</td>\n",
       "      <td>...</td>\n",
       "      <td>None</td>\n",
       "      <td>b'\\x01\\x01\\x00\\x00\\x00?\\xe5\\x98,\\xee\\xa0]\\xc0\\...</td>\n",
       "      <td>POINT (-118.515 34.194)</td>\n",
       "      <td>10165002070728-DEC22</td>\n",
       "      <td>54</td>\n",
       "      <td>0.0</td>\n",
       "      <td>30480</td>\n",
       "      <td>30480</td>\n",
       "      <td>8</td>\n",
       "      <td>8</td>\n",
       "    </tr>\n",
       "    <tr>\n",
       "      <th>2</th>\n",
       "      <td>6adf6cd9b6d24ab4ee8ee220e3697a73</td>\n",
       "      <td>15193</td>\n",
       "      <td>d4eb0920e7e256606df449c31b3c3e6a</td>\n",
       "      <td>Vanowen / Encino</td>\n",
       "      <td>NaN</td>\n",
       "      <td>NaN</td>\n",
       "      <td>NaN</td>\n",
       "      <td>69.0</td>\n",
       "      <td>NaN</td>\n",
       "      <td>NaN</td>\n",
       "      <td>...</td>\n",
       "      <td>None</td>\n",
       "      <td>b'\\x01\\x01\\x00\\x00\\x00?\\xe5\\x98,\\xee\\xa0]\\xc0\\...</td>\n",
       "      <td>POINT (-118.515 34.194)</td>\n",
       "      <td>10165002071426-DEC22</td>\n",
       "      <td>54</td>\n",
       "      <td>0.0</td>\n",
       "      <td>55740</td>\n",
       "      <td>55740</td>\n",
       "      <td>15</td>\n",
       "      <td>15</td>\n",
       "    </tr>\n",
       "    <tr>\n",
       "      <th>3</th>\n",
       "      <td>6adf6cd9b6d24ab4ee8ee220e3697a73</td>\n",
       "      <td>15193</td>\n",
       "      <td>d4eb0920e7e256606df449c31b3c3e6a</td>\n",
       "      <td>Vanowen / Encino</td>\n",
       "      <td>NaN</td>\n",
       "      <td>NaN</td>\n",
       "      <td>NaN</td>\n",
       "      <td>69.0</td>\n",
       "      <td>NaN</td>\n",
       "      <td>NaN</td>\n",
       "      <td>...</td>\n",
       "      <td>None</td>\n",
       "      <td>b'\\x01\\x01\\x00\\x00\\x00?\\xe5\\x98,\\xee\\xa0]\\xc0\\...</td>\n",
       "      <td>POINT (-118.515 34.194)</td>\n",
       "      <td>10165002071113-DEC22</td>\n",
       "      <td>54</td>\n",
       "      <td>0.0</td>\n",
       "      <td>43860</td>\n",
       "      <td>43860</td>\n",
       "      <td>12</td>\n",
       "      <td>12</td>\n",
       "    </tr>\n",
       "    <tr>\n",
       "      <th>4</th>\n",
       "      <td>6adf6cd9b6d24ab4ee8ee220e3697a73</td>\n",
       "      <td>15193</td>\n",
       "      <td>d4eb0920e7e256606df449c31b3c3e6a</td>\n",
       "      <td>Vanowen / Encino</td>\n",
       "      <td>NaN</td>\n",
       "      <td>NaN</td>\n",
       "      <td>NaN</td>\n",
       "      <td>69.0</td>\n",
       "      <td>NaN</td>\n",
       "      <td>NaN</td>\n",
       "      <td>...</td>\n",
       "      <td>None</td>\n",
       "      <td>b'\\x01\\x01\\x00\\x00\\x00?\\xe5\\x98,\\xee\\xa0]\\xc0\\...</td>\n",
       "      <td>POINT (-118.515 34.194)</td>\n",
       "      <td>10165002071541-DEC22</td>\n",
       "      <td>54</td>\n",
       "      <td>0.0</td>\n",
       "      <td>60180</td>\n",
       "      <td>60180</td>\n",
       "      <td>16</td>\n",
       "      <td>16</td>\n",
       "    </tr>\n",
       "  </tbody>\n",
       "</table>\n",
       "<p>5 rows × 24 columns</p>\n",
       "</div>"
      ],
      "text/plain": [
       "                           feed_key stop_id                          stop_key  \\\n",
       "0  6adf6cd9b6d24ab4ee8ee220e3697a73   15193  d4eb0920e7e256606df449c31b3c3e6a   \n",
       "1  6adf6cd9b6d24ab4ee8ee220e3697a73   15193  d4eb0920e7e256606df449c31b3c3e6a   \n",
       "2  6adf6cd9b6d24ab4ee8ee220e3697a73   15193  d4eb0920e7e256606df449c31b3c3e6a   \n",
       "3  6adf6cd9b6d24ab4ee8ee220e3697a73   15193  d4eb0920e7e256606df449c31b3c3e6a   \n",
       "4  6adf6cd9b6d24ab4ee8ee220e3697a73   15193  d4eb0920e7e256606df449c31b3c3e6a   \n",
       "\n",
       "          stop_name  route_type_0  route_type_1  route_type_2  route_type_3  \\\n",
       "0  Vanowen / Encino           NaN           NaN           NaN          69.0   \n",
       "1  Vanowen / Encino           NaN           NaN           NaN          69.0   \n",
       "2  Vanowen / Encino           NaN           NaN           NaN          69.0   \n",
       "3  Vanowen / Encino           NaN           NaN           NaN          69.0   \n",
       "4  Vanowen / Encino           NaN           NaN           NaN          69.0   \n",
       "\n",
       "   route_type_4  route_type_5  ... missing_route_type  \\\n",
       "0           NaN           NaN  ...               None   \n",
       "1           NaN           NaN  ...               None   \n",
       "2           NaN           NaN  ...               None   \n",
       "3           NaN           NaN  ...               None   \n",
       "4           NaN           NaN  ...               None   \n",
       "\n",
       "                                            geometry                  pt_geom  \\\n",
       "0  b'\\x01\\x01\\x00\\x00\\x00?\\xe5\\x98,\\xee\\xa0]\\xc0\\...  POINT (-118.515 34.194)   \n",
       "1  b'\\x01\\x01\\x00\\x00\\x00?\\xe5\\x98,\\xee\\xa0]\\xc0\\...  POINT (-118.515 34.194)   \n",
       "2  b'\\x01\\x01\\x00\\x00\\x00?\\xe5\\x98,\\xee\\xa0]\\xc0\\...  POINT (-118.515 34.194)   \n",
       "3  b'\\x01\\x01\\x00\\x00\\x00?\\xe5\\x98,\\xee\\xa0]\\xc0\\...  POINT (-118.515 34.194)   \n",
       "4  b'\\x01\\x01\\x00\\x00\\x00?\\xe5\\x98,\\xee\\xa0]\\xc0\\...  POINT (-118.515 34.194)   \n",
       "\n",
       "                trip_id stop_sequence timepoint arrival_sec departure_sec  \\\n",
       "0  10165002071128-DEC22            54       0.0       44760         44760   \n",
       "1  10165002070728-DEC22            54       0.0       30480         30480   \n",
       "2  10165002071426-DEC22            54       0.0       55740         55740   \n",
       "3  10165002071113-DEC22            54       0.0       43860         43860   \n",
       "4  10165002071541-DEC22            54       0.0       60180         60180   \n",
       "\n",
       "   arrival_hour  departure_hour  \n",
       "0            12              12  \n",
       "1             8               8  \n",
       "2            15              15  \n",
       "3            12              12  \n",
       "4            16              16  \n",
       "\n",
       "[5 rows x 24 columns]"
      ]
     },
     "metadata": {},
     "output_type": "display_data"
    },
    {
     "data": {
      "text/plain": [
       "'pt_geom'"
      ]
     },
     "execution_count": 14,
     "metadata": {},
     "output_type": "execute_result"
    }
   ],
   "source": [
    "#check to make sure merge works and that active geom col is pt_geom\n",
    "df_check(stop2times)\n",
    "stop2times.geometry.name"
   ]
  },
  {
   "cell_type": "code",
   "execution_count": null,
   "id": "7978bd8a-f132-432c-9595-6b88f86b97c1",
   "metadata": {},
   "outputs": [],
   "source": [
    "#Calculate the straight line distance between the first and last stop for each trip. Call this column trip_distance\n",
    "\n",
    "#how do find the first and last stop of a trip? try a grouby/agg "
   ]
  },
  {
   "cell_type": "code",
   "execution_count": 25,
   "id": "88096a88-6fb8-4d7b-a7d3-cd24181eef8a",
   "metadata": {},
   "outputs": [
    {
     "data": {
      "text/html": [
       "<div>\n",
       "<style scoped>\n",
       "    .dataframe tbody tr th:only-of-type {\n",
       "        vertical-align: middle;\n",
       "    }\n",
       "\n",
       "    .dataframe tbody tr th {\n",
       "        vertical-align: top;\n",
       "    }\n",
       "\n",
       "    .dataframe thead th {\n",
       "        text-align: right;\n",
       "    }\n",
       "</style>\n",
       "<table border=\"1\" class=\"dataframe\">\n",
       "  <thead>\n",
       "    <tr style=\"text-align: right;\">\n",
       "      <th></th>\n",
       "      <th>trip_id</th>\n",
       "      <th>stop_id</th>\n",
       "      <th>stop_sequence</th>\n",
       "    </tr>\n",
       "  </thead>\n",
       "  <tbody>\n",
       "    <tr>\n",
       "      <th>0</th>\n",
       "      <td>002bqqucv</td>\n",
       "      <td>1</td>\n",
       "      <td>6</td>\n",
       "    </tr>\n",
       "    <tr>\n",
       "      <th>1</th>\n",
       "      <td>002bqqucv</td>\n",
       "      <td>11</td>\n",
       "      <td>10</td>\n",
       "    </tr>\n",
       "    <tr>\n",
       "      <th>2</th>\n",
       "      <td>002bqqucv</td>\n",
       "      <td>12</td>\n",
       "      <td>2</td>\n",
       "    </tr>\n",
       "    <tr>\n",
       "      <th>3</th>\n",
       "      <td>002bqqucv</td>\n",
       "      <td>13</td>\n",
       "      <td>3</td>\n",
       "    </tr>\n",
       "    <tr>\n",
       "      <th>4</th>\n",
       "      <td>002bqqucv</td>\n",
       "      <td>14</td>\n",
       "      <td>4</td>\n",
       "    </tr>\n",
       "    <tr>\n",
       "      <th>...</th>\n",
       "      <td>...</td>\n",
       "      <td>...</td>\n",
       "      <td>...</td>\n",
       "    </tr>\n",
       "    <tr>\n",
       "      <th>3564958</th>\n",
       "      <td>zwxp4b4ea</td>\n",
       "      <td>14</td>\n",
       "      <td>4</td>\n",
       "    </tr>\n",
       "    <tr>\n",
       "      <th>3564959</th>\n",
       "      <td>zwxp4b4ea</td>\n",
       "      <td>15</td>\n",
       "      <td>5</td>\n",
       "    </tr>\n",
       "    <tr>\n",
       "      <th>3564960</th>\n",
       "      <td>zwxp4b4ea</td>\n",
       "      <td>2</td>\n",
       "      <td>7</td>\n",
       "    </tr>\n",
       "    <tr>\n",
       "      <th>3564961</th>\n",
       "      <td>zwxp4b4ea</td>\n",
       "      <td>3</td>\n",
       "      <td>8</td>\n",
       "    </tr>\n",
       "    <tr>\n",
       "      <th>3564962</th>\n",
       "      <td>zwxp4b4ea</td>\n",
       "      <td>4</td>\n",
       "      <td>9</td>\n",
       "    </tr>\n",
       "  </tbody>\n",
       "</table>\n",
       "<p>3564963 rows × 3 columns</p>\n",
       "</div>"
      ],
      "text/plain": [
       "           trip_id stop_id  stop_sequence\n",
       "0        002bqqucv       1              6\n",
       "1        002bqqucv      11             10\n",
       "2        002bqqucv      12              2\n",
       "3        002bqqucv      13              3\n",
       "4        002bqqucv      14              4\n",
       "...            ...     ...            ...\n",
       "3564958  zwxp4b4ea      14              4\n",
       "3564959  zwxp4b4ea      15              5\n",
       "3564960  zwxp4b4ea       2              7\n",
       "3564961  zwxp4b4ea       3              8\n",
       "3564962  zwxp4b4ea       4              9\n",
       "\n",
       "[3564963 rows x 3 columns]"
      ]
     },
     "execution_count": 25,
     "metadata": {},
     "output_type": "execute_result"
    }
   ],
   "source": [
    "#testing pivot table for max stop sequence (aka last stop)\n",
    "\n",
    "#for every trip, there are multiple stops. for every stop, there is a stop sequence \n",
    "#need coordinates for the stop!\n",
    "pivot_max = stop2times.pivot_table(\n",
    "    index=['trip_id','stop_id'],\n",
    "    values=['stop_sequence'],\n",
    "    aggfunc={\n",
    "        'stop_sequence':'max'}\n",
    ").reset_index()\n",
    "\n",
    "pivot_max"
   ]
  },
  {
   "cell_type": "code",
   "execution_count": 26,
   "id": "3b563b4f-41a8-442f-8062-aedd0e372959",
   "metadata": {},
   "outputs": [],
   "source": [
    "#test to merge in pt_geom column frrom stop2times, based on stop and trip id\n",
    "pivot_max2 = pivot_max.merge(stop2times[['trip_id','stop_id','pt_geom']], on=['stop_id','trip_id'], how='inner').drop_duplicates().rename(columns={'stop_sequence':'last_stop', 'pt_geom':'last_stop_geom'})"
   ]
  },
  {
   "cell_type": "code",
   "execution_count": 27,
   "id": "ecb930bd-d57d-4ef8-84af-821a8ea9bbad",
   "metadata": {},
   "outputs": [
    {
     "data": {
      "text/plain": [
       "'shape of df:(3568059, 4)'"
      ]
     },
     "metadata": {},
     "output_type": "display_data"
    },
    {
     "data": {
      "text/plain": [
       "\"type of :<class 'pandas.core.frame.DataFrame'>\""
      ]
     },
     "metadata": {},
     "output_type": "display_data"
    },
    {
     "data": {
      "text/html": [
       "<div>\n",
       "<style scoped>\n",
       "    .dataframe tbody tr th:only-of-type {\n",
       "        vertical-align: middle;\n",
       "    }\n",
       "\n",
       "    .dataframe tbody tr th {\n",
       "        vertical-align: top;\n",
       "    }\n",
       "\n",
       "    .dataframe thead th {\n",
       "        text-align: right;\n",
       "    }\n",
       "</style>\n",
       "<table border=\"1\" class=\"dataframe\">\n",
       "  <thead>\n",
       "    <tr style=\"text-align: right;\">\n",
       "      <th></th>\n",
       "      <th>trip_id</th>\n",
       "      <th>stop_id</th>\n",
       "      <th>last_stop</th>\n",
       "      <th>last_stop_geom</th>\n",
       "    </tr>\n",
       "  </thead>\n",
       "  <tbody>\n",
       "    <tr>\n",
       "      <th>0</th>\n",
       "      <td>002bqqucv</td>\n",
       "      <td>1</td>\n",
       "      <td>6</td>\n",
       "      <td>POINT (-122.387 37.615)</td>\n",
       "    </tr>\n",
       "    <tr>\n",
       "      <th>1</th>\n",
       "      <td>002bqqucv</td>\n",
       "      <td>11</td>\n",
       "      <td>10</td>\n",
       "      <td>POINT (-122.399 37.632)</td>\n",
       "    </tr>\n",
       "    <tr>\n",
       "      <th>3</th>\n",
       "      <td>002bqqucv</td>\n",
       "      <td>12</td>\n",
       "      <td>2</td>\n",
       "      <td>POINT (-122.398 37.631)</td>\n",
       "    </tr>\n",
       "    <tr>\n",
       "      <th>4</th>\n",
       "      <td>002bqqucv</td>\n",
       "      <td>13</td>\n",
       "      <td>3</td>\n",
       "      <td>POINT (-122.397 37.629)</td>\n",
       "    </tr>\n",
       "    <tr>\n",
       "      <th>5</th>\n",
       "      <td>002bqqucv</td>\n",
       "      <td>14</td>\n",
       "      <td>4</td>\n",
       "      <td>POINT (-122.398 37.628)</td>\n",
       "    </tr>\n",
       "  </tbody>\n",
       "</table>\n",
       "</div>"
      ],
      "text/plain": [
       "     trip_id stop_id  last_stop           last_stop_geom\n",
       "0  002bqqucv       1          6  POINT (-122.387 37.615)\n",
       "1  002bqqucv      11         10  POINT (-122.399 37.632)\n",
       "3  002bqqucv      12          2  POINT (-122.398 37.631)\n",
       "4  002bqqucv      13          3  POINT (-122.397 37.629)\n",
       "5  002bqqucv      14          4  POINT (-122.398 37.628)"
      ]
     },
     "metadata": {},
     "output_type": "display_data"
    }
   ],
   "source": [
    "#checking pivot merge to ensure column was renamed and have point geometry col\n",
    "#note the resulting df is NOT A GDF\n",
    "df_check(pivot_max2)"
   ]
  },
  {
   "cell_type": "code",
   "execution_count": 28,
   "id": "db526207-4f50-4cd7-922b-3cfa47dede87",
   "metadata": {},
   "outputs": [
    {
     "data": {
      "text/html": [
       "<div>\n",
       "<style scoped>\n",
       "    .dataframe tbody tr th:only-of-type {\n",
       "        vertical-align: middle;\n",
       "    }\n",
       "\n",
       "    .dataframe tbody tr th {\n",
       "        vertical-align: top;\n",
       "    }\n",
       "\n",
       "    .dataframe thead th {\n",
       "        text-align: right;\n",
       "    }\n",
       "</style>\n",
       "<table border=\"1\" class=\"dataframe\">\n",
       "  <thead>\n",
       "    <tr style=\"text-align: right;\">\n",
       "      <th></th>\n",
       "      <th>trip_id</th>\n",
       "      <th>stop_id</th>\n",
       "      <th>stop_sequence</th>\n",
       "    </tr>\n",
       "  </thead>\n",
       "  <tbody>\n",
       "    <tr>\n",
       "      <th>0</th>\n",
       "      <td>002bqqucv</td>\n",
       "      <td>1</td>\n",
       "      <td>6</td>\n",
       "    </tr>\n",
       "    <tr>\n",
       "      <th>1</th>\n",
       "      <td>002bqqucv</td>\n",
       "      <td>11</td>\n",
       "      <td>1</td>\n",
       "    </tr>\n",
       "    <tr>\n",
       "      <th>2</th>\n",
       "      <td>002bqqucv</td>\n",
       "      <td>12</td>\n",
       "      <td>2</td>\n",
       "    </tr>\n",
       "    <tr>\n",
       "      <th>3</th>\n",
       "      <td>002bqqucv</td>\n",
       "      <td>13</td>\n",
       "      <td>3</td>\n",
       "    </tr>\n",
       "    <tr>\n",
       "      <th>4</th>\n",
       "      <td>002bqqucv</td>\n",
       "      <td>14</td>\n",
       "      <td>4</td>\n",
       "    </tr>\n",
       "    <tr>\n",
       "      <th>...</th>\n",
       "      <td>...</td>\n",
       "      <td>...</td>\n",
       "      <td>...</td>\n",
       "    </tr>\n",
       "    <tr>\n",
       "      <th>3564958</th>\n",
       "      <td>zwxp4b4ea</td>\n",
       "      <td>14</td>\n",
       "      <td>4</td>\n",
       "    </tr>\n",
       "    <tr>\n",
       "      <th>3564959</th>\n",
       "      <td>zwxp4b4ea</td>\n",
       "      <td>15</td>\n",
       "      <td>5</td>\n",
       "    </tr>\n",
       "    <tr>\n",
       "      <th>3564960</th>\n",
       "      <td>zwxp4b4ea</td>\n",
       "      <td>2</td>\n",
       "      <td>7</td>\n",
       "    </tr>\n",
       "    <tr>\n",
       "      <th>3564961</th>\n",
       "      <td>zwxp4b4ea</td>\n",
       "      <td>3</td>\n",
       "      <td>8</td>\n",
       "    </tr>\n",
       "    <tr>\n",
       "      <th>3564962</th>\n",
       "      <td>zwxp4b4ea</td>\n",
       "      <td>4</td>\n",
       "      <td>9</td>\n",
       "    </tr>\n",
       "  </tbody>\n",
       "</table>\n",
       "<p>3564963 rows × 3 columns</p>\n",
       "</div>"
      ],
      "text/plain": [
       "           trip_id stop_id  stop_sequence\n",
       "0        002bqqucv       1              6\n",
       "1        002bqqucv      11              1\n",
       "2        002bqqucv      12              2\n",
       "3        002bqqucv      13              3\n",
       "4        002bqqucv      14              4\n",
       "...            ...     ...            ...\n",
       "3564958  zwxp4b4ea      14              4\n",
       "3564959  zwxp4b4ea      15              5\n",
       "3564960  zwxp4b4ea       2              7\n",
       "3564961  zwxp4b4ea       3              8\n",
       "3564962  zwxp4b4ea       4              9\n",
       "\n",
       "[3564963 rows x 3 columns]"
      ]
     },
     "execution_count": 28,
     "metadata": {},
     "output_type": "execute_result"
    }
   ],
   "source": [
    "#using same pivot table method to get min stop value (aka first stop)\n",
    "pivot_min = stop2times.pivot_table(\n",
    "    index=['trip_id', 'stop_id'],\n",
    "    values=['stop_sequence'],\n",
    "    aggfunc={\n",
    "        'stop_sequence':'min'}\n",
    ").reset_index()\n",
    "\n",
    "pivot_min"
   ]
  },
  {
   "cell_type": "code",
   "execution_count": 29,
   "id": "5cb469c6-0164-43fc-aa62-cd789d3c1d32",
   "metadata": {},
   "outputs": [],
   "source": [
    "pivot_min2 = pivot_min.merge(stop2times[['trip_id','stop_id', 'pt_geom']], on=['trip_id','stop_id'], how='inner').drop_duplicates().rename(columns={'stop_sequence':'first_stop', 'pt_geom': 'first_stop_geom'})"
   ]
  },
  {
   "cell_type": "code",
   "execution_count": 30,
   "id": "33e6f575-a82f-4422-b693-b5efe59f5772",
   "metadata": {},
   "outputs": [
    {
     "data": {
      "text/html": [
       "<div>\n",
       "<style scoped>\n",
       "    .dataframe tbody tr th:only-of-type {\n",
       "        vertical-align: middle;\n",
       "    }\n",
       "\n",
       "    .dataframe tbody tr th {\n",
       "        vertical-align: top;\n",
       "    }\n",
       "\n",
       "    .dataframe thead th {\n",
       "        text-align: right;\n",
       "    }\n",
       "</style>\n",
       "<table border=\"1\" class=\"dataframe\">\n",
       "  <thead>\n",
       "    <tr style=\"text-align: right;\">\n",
       "      <th></th>\n",
       "      <th>trip_id</th>\n",
       "      <th>stop_id</th>\n",
       "      <th>first_stop</th>\n",
       "      <th>first_stop_geom</th>\n",
       "    </tr>\n",
       "  </thead>\n",
       "  <tbody>\n",
       "    <tr>\n",
       "      <th>0</th>\n",
       "      <td>002bqqucv</td>\n",
       "      <td>1</td>\n",
       "      <td>6</td>\n",
       "      <td>POINT (-122.387 37.615)</td>\n",
       "    </tr>\n",
       "    <tr>\n",
       "      <th>1</th>\n",
       "      <td>002bqqucv</td>\n",
       "      <td>11</td>\n",
       "      <td>1</td>\n",
       "      <td>POINT (-122.399 37.632)</td>\n",
       "    </tr>\n",
       "    <tr>\n",
       "      <th>3</th>\n",
       "      <td>002bqqucv</td>\n",
       "      <td>12</td>\n",
       "      <td>2</td>\n",
       "      <td>POINT (-122.398 37.631)</td>\n",
       "    </tr>\n",
       "    <tr>\n",
       "      <th>4</th>\n",
       "      <td>002bqqucv</td>\n",
       "      <td>13</td>\n",
       "      <td>3</td>\n",
       "      <td>POINT (-122.397 37.629)</td>\n",
       "    </tr>\n",
       "    <tr>\n",
       "      <th>5</th>\n",
       "      <td>002bqqucv</td>\n",
       "      <td>14</td>\n",
       "      <td>4</td>\n",
       "      <td>POINT (-122.398 37.628)</td>\n",
       "    </tr>\n",
       "    <tr>\n",
       "      <th>...</th>\n",
       "      <td>...</td>\n",
       "      <td>...</td>\n",
       "      <td>...</td>\n",
       "      <td>...</td>\n",
       "    </tr>\n",
       "    <tr>\n",
       "      <th>3589713</th>\n",
       "      <td>zwxp4b4ea</td>\n",
       "      <td>14</td>\n",
       "      <td>4</td>\n",
       "      <td>POINT (-122.398 37.628)</td>\n",
       "    </tr>\n",
       "    <tr>\n",
       "      <th>3589714</th>\n",
       "      <td>zwxp4b4ea</td>\n",
       "      <td>15</td>\n",
       "      <td>5</td>\n",
       "      <td>POINT (-122.398 37.627)</td>\n",
       "    </tr>\n",
       "    <tr>\n",
       "      <th>3589715</th>\n",
       "      <td>zwxp4b4ea</td>\n",
       "      <td>2</td>\n",
       "      <td>7</td>\n",
       "      <td>POINT (-122.384 37.617)</td>\n",
       "    </tr>\n",
       "    <tr>\n",
       "      <th>3589716</th>\n",
       "      <td>zwxp4b4ea</td>\n",
       "      <td>3</td>\n",
       "      <td>8</td>\n",
       "      <td>POINT (-122.387 37.618)</td>\n",
       "    </tr>\n",
       "    <tr>\n",
       "      <th>3589717</th>\n",
       "      <td>zwxp4b4ea</td>\n",
       "      <td>4</td>\n",
       "      <td>9</td>\n",
       "      <td>POINT (-122.390 37.616)</td>\n",
       "    </tr>\n",
       "  </tbody>\n",
       "</table>\n",
       "<p>3568059 rows × 4 columns</p>\n",
       "</div>"
      ],
      "text/plain": [
       "           trip_id stop_id  first_stop          first_stop_geom\n",
       "0        002bqqucv       1           6  POINT (-122.387 37.615)\n",
       "1        002bqqucv      11           1  POINT (-122.399 37.632)\n",
       "3        002bqqucv      12           2  POINT (-122.398 37.631)\n",
       "4        002bqqucv      13           3  POINT (-122.397 37.629)\n",
       "5        002bqqucv      14           4  POINT (-122.398 37.628)\n",
       "...            ...     ...         ...                      ...\n",
       "3589713  zwxp4b4ea      14           4  POINT (-122.398 37.628)\n",
       "3589714  zwxp4b4ea      15           5  POINT (-122.398 37.627)\n",
       "3589715  zwxp4b4ea       2           7  POINT (-122.384 37.617)\n",
       "3589716  zwxp4b4ea       3           8  POINT (-122.387 37.618)\n",
       "3589717  zwxp4b4ea       4           9  POINT (-122.390 37.616)\n",
       "\n",
       "[3568059 rows x 4 columns]"
      ]
     },
     "execution_count": 30,
     "metadata": {},
     "output_type": "execute_result"
    }
   ],
   "source": [
    "pivot_min2"
   ]
  },
  {
   "cell_type": "code",
   "execution_count": 31,
   "id": "1ce1940c-8f0d-4e7e-aad4-07e7b30577ce",
   "metadata": {},
   "outputs": [],
   "source": [
    "#stps to creat gdf\n",
    "#stops2 = gpd.GeoDataFrame(stops2).set_geometry('pt_geom').set_crs('EPSG:2229')\n",
    "\n",
    "def makegdf(df, geom):\n",
    "    gdf = gpd.GeoDataFrame(df).set_geometry(geom).set_crs('EPSG:2229')\n",
    "    \n",
    "    return gdf"
   ]
  },
  {
   "cell_type": "code",
   "execution_count": 38,
   "id": "25cb7d2d-daf0-4036-b98e-8bcc33da9a68",
   "metadata": {},
   "outputs": [],
   "source": [
    "gdfmax = makegdf(pivot_max2, 'last_stop_geom')\n",
    "\n",
    "gdfmin = makegdf(pivot_min2, 'first_stop_geom')"
   ]
  },
  {
   "cell_type": "code",
   "execution_count": 47,
   "id": "7d288b57-5e06-4bd9-b2b8-f0775e80f260",
   "metadata": {},
   "outputs": [
    {
     "data": {
      "text/plain": [
       "'last_stop_geom'"
      ]
     },
     "metadata": {},
     "output_type": "display_data"
    },
    {
     "data": {
      "text/plain": [
       "'first_stop_geom'"
      ]
     },
     "metadata": {},
     "output_type": "display_data"
    },
    {
     "data": {
      "text/plain": [
       "True"
      ]
     },
     "metadata": {},
     "output_type": "display_data"
    }
   ],
   "source": [
    "#check to ensure active geom col is set as intended, and crs is equivilent \n",
    "display(gdfmax.geometry.name)\n",
    "display(gdfmin.geometry.name)\n",
    "display(gdfmax.crs == gdfmin.crs)"
   ]
  },
  {
   "cell_type": "code",
   "execution_count": 43,
   "id": "916fedc8-7a61-46af-9b26-2ca77f066907",
   "metadata": {},
   "outputs": [
    {
     "data": {
      "text/plain": [
       "'shape of df:(3568059, 4)'"
      ]
     },
     "metadata": {},
     "output_type": "display_data"
    },
    {
     "data": {
      "text/plain": [
       "\"type of :<class 'geopandas.geodataframe.GeoDataFrame'>\""
      ]
     },
     "metadata": {},
     "output_type": "display_data"
    },
    {
     "data": {
      "text/html": [
       "<div>\n",
       "<style scoped>\n",
       "    .dataframe tbody tr th:only-of-type {\n",
       "        vertical-align: middle;\n",
       "    }\n",
       "\n",
       "    .dataframe tbody tr th {\n",
       "        vertical-align: top;\n",
       "    }\n",
       "\n",
       "    .dataframe thead th {\n",
       "        text-align: right;\n",
       "    }\n",
       "</style>\n",
       "<table border=\"1\" class=\"dataframe\">\n",
       "  <thead>\n",
       "    <tr style=\"text-align: right;\">\n",
       "      <th></th>\n",
       "      <th>trip_id</th>\n",
       "      <th>stop_id</th>\n",
       "      <th>last_stop</th>\n",
       "      <th>last_stop_geom</th>\n",
       "    </tr>\n",
       "  </thead>\n",
       "  <tbody>\n",
       "    <tr>\n",
       "      <th>0</th>\n",
       "      <td>002bqqucv</td>\n",
       "      <td>1</td>\n",
       "      <td>6</td>\n",
       "      <td>POINT (-122.387 37.615)</td>\n",
       "    </tr>\n",
       "    <tr>\n",
       "      <th>1</th>\n",
       "      <td>002bqqucv</td>\n",
       "      <td>11</td>\n",
       "      <td>10</td>\n",
       "      <td>POINT (-122.399 37.632)</td>\n",
       "    </tr>\n",
       "    <tr>\n",
       "      <th>3</th>\n",
       "      <td>002bqqucv</td>\n",
       "      <td>12</td>\n",
       "      <td>2</td>\n",
       "      <td>POINT (-122.398 37.631)</td>\n",
       "    </tr>\n",
       "    <tr>\n",
       "      <th>4</th>\n",
       "      <td>002bqqucv</td>\n",
       "      <td>13</td>\n",
       "      <td>3</td>\n",
       "      <td>POINT (-122.397 37.629)</td>\n",
       "    </tr>\n",
       "    <tr>\n",
       "      <th>5</th>\n",
       "      <td>002bqqucv</td>\n",
       "      <td>14</td>\n",
       "      <td>4</td>\n",
       "      <td>POINT (-122.398 37.628)</td>\n",
       "    </tr>\n",
       "  </tbody>\n",
       "</table>\n",
       "</div>"
      ],
      "text/plain": [
       "     trip_id stop_id  last_stop           last_stop_geom\n",
       "0  002bqqucv       1          6  POINT (-122.387 37.615)\n",
       "1  002bqqucv      11         10  POINT (-122.399 37.632)\n",
       "3  002bqqucv      12          2  POINT (-122.398 37.631)\n",
       "4  002bqqucv      13          3  POINT (-122.397 37.629)\n",
       "5  002bqqucv      14          4  POINT (-122.398 37.628)"
      ]
     },
     "metadata": {},
     "output_type": "display_data"
    },
    {
     "data": {
      "text/plain": [
       "'shape of df:(3568059, 4)'"
      ]
     },
     "metadata": {},
     "output_type": "display_data"
    },
    {
     "data": {
      "text/plain": [
       "\"type of :<class 'geopandas.geodataframe.GeoDataFrame'>\""
      ]
     },
     "metadata": {},
     "output_type": "display_data"
    },
    {
     "data": {
      "text/html": [
       "<div>\n",
       "<style scoped>\n",
       "    .dataframe tbody tr th:only-of-type {\n",
       "        vertical-align: middle;\n",
       "    }\n",
       "\n",
       "    .dataframe tbody tr th {\n",
       "        vertical-align: top;\n",
       "    }\n",
       "\n",
       "    .dataframe thead th {\n",
       "        text-align: right;\n",
       "    }\n",
       "</style>\n",
       "<table border=\"1\" class=\"dataframe\">\n",
       "  <thead>\n",
       "    <tr style=\"text-align: right;\">\n",
       "      <th></th>\n",
       "      <th>trip_id</th>\n",
       "      <th>stop_id</th>\n",
       "      <th>first_stop</th>\n",
       "      <th>first_stop_geom</th>\n",
       "    </tr>\n",
       "  </thead>\n",
       "  <tbody>\n",
       "    <tr>\n",
       "      <th>0</th>\n",
       "      <td>002bqqucv</td>\n",
       "      <td>1</td>\n",
       "      <td>6</td>\n",
       "      <td>POINT (-122.387 37.615)</td>\n",
       "    </tr>\n",
       "    <tr>\n",
       "      <th>1</th>\n",
       "      <td>002bqqucv</td>\n",
       "      <td>11</td>\n",
       "      <td>1</td>\n",
       "      <td>POINT (-122.399 37.632)</td>\n",
       "    </tr>\n",
       "    <tr>\n",
       "      <th>3</th>\n",
       "      <td>002bqqucv</td>\n",
       "      <td>12</td>\n",
       "      <td>2</td>\n",
       "      <td>POINT (-122.398 37.631)</td>\n",
       "    </tr>\n",
       "    <tr>\n",
       "      <th>4</th>\n",
       "      <td>002bqqucv</td>\n",
       "      <td>13</td>\n",
       "      <td>3</td>\n",
       "      <td>POINT (-122.397 37.629)</td>\n",
       "    </tr>\n",
       "    <tr>\n",
       "      <th>5</th>\n",
       "      <td>002bqqucv</td>\n",
       "      <td>14</td>\n",
       "      <td>4</td>\n",
       "      <td>POINT (-122.398 37.628)</td>\n",
       "    </tr>\n",
       "  </tbody>\n",
       "</table>\n",
       "</div>"
      ],
      "text/plain": [
       "     trip_id stop_id  first_stop          first_stop_geom\n",
       "0  002bqqucv       1           6  POINT (-122.387 37.615)\n",
       "1  002bqqucv      11           1  POINT (-122.399 37.632)\n",
       "3  002bqqucv      12           2  POINT (-122.398 37.631)\n",
       "4  002bqqucv      13           3  POINT (-122.397 37.629)\n",
       "5  002bqqucv      14           4  POINT (-122.398 37.628)"
      ]
     },
     "metadata": {},
     "output_type": "display_data"
    }
   ],
   "source": [
    "df_check(gdfmax)\n",
    "df_check(gdfmin)"
   ]
  },
  {
   "cell_type": "code",
   "execution_count": 49,
   "id": "51c44848-3f31-445b-bde5-bf3847a1aadb",
   "metadata": {},
   "outputs": [
    {
     "data": {
      "text/plain": [
       "0.0    3568059\n",
       "dtype: int64"
      ]
     },
     "execution_count": 49,
     "metadata": {},
     "output_type": "execute_result"
    }
   ],
   "source": [
    "#test to find the distance between pivot_max2 and pivot_min 2\n",
    "\n",
    "distance = gdfmax.distance(gdfmin)\n",
    "\n",
    "#all that work and got 0 for evertthing :(\n",
    "distance.value_counts()\n"
   ]
  },
  {
   "cell_type": "code",
   "execution_count": null,
   "id": "89721bbe-cf67-40a3-bc4f-d0d207ad4cae",
   "metadata": {},
   "outputs": [],
   "source": [
    "#then add distance back to stop2times"
   ]
  },
  {
   "cell_type": "markdown",
   "id": "91a61038-8ab2-4d5d-8f43-ba624c47d2e6",
   "metadata": {},
   "source": [
    "# hall-o-shame"
   ]
  },
  {
   "cell_type": "code",
   "execution_count": 21,
   "id": "cb7dd5cb-5b28-494d-bf10-a2032fed1641",
   "metadata": {},
   "outputs": [],
   "source": [
    "#merge pivot_max back into stop2times table to get the location of last stop\n",
    "#stop2times_test = stop2times.merge(pivot_max, on=['trip_id','stop_id'],how='left')"
   ]
  },
  {
   "cell_type": "code",
   "execution_count": null,
   "id": "c4a672ff-61e3-40db-9aa9-e06807fb3677",
   "metadata": {},
   "outputs": [],
   "source": [
    "#df_check(stop2times_test)"
   ]
  },
  {
   "cell_type": "code",
   "execution_count": null,
   "id": "d2089d1c-c384-4779-9333-169b699ca144",
   "metadata": {},
   "outputs": [],
   "source": [
    "#merge pivot_min back into stop2times to get location of first stop.\n",
    "#stop2times_test_2 = stop2times_test.merge(pivot_min, on=['trip_id','stop_id'], how='left')"
   ]
  },
  {
   "cell_type": "code",
   "execution_count": null,
   "id": "663595f5-dab4-4351-a351-718c6e0d21b4",
   "metadata": {},
   "outputs": [],
   "source": [
    "#df_check(stop2times_test_2)"
   ]
  },
  {
   "cell_type": "code",
   "execution_count": null,
   "id": "1d68aaff-5868-4961-8d95-43a031983163",
   "metadata": {},
   "outputs": [],
   "source": [
    "#test to calculate distance between first and last stop\n",
    "\n"
   ]
  },
  {
   "cell_type": "code",
   "execution_count": null,
   "id": "afbb089c-d2c5-4a54-a4f8-dde4a7b48d5c",
   "metadata": {},
   "outputs": [],
   "source": [
    "#cleaned up a couple of columns, dissolved by routes, reset index and set crs to feet\n",
    "#highways_d = highways[['Route', 'geometry', 'RouteType']].dissolve(by='Route').reset_index().to_crs('EPSG:2229')"
   ]
  },
  {
   "cell_type": "code",
   "execution_count": null,
   "id": "19f0a2ac-b736-424a-871e-3a7726f0641f",
   "metadata": {},
   "outputs": [],
   "source": [
    "#can you sjoin highways and stops to get stops in ca?\n",
    "\n",
    "#sjoin = gpd.sjoin(highways.to_crs('EPSG:2229'), stops2, how='right')\n",
    "\n",
    "\n",
    "#sjoin.plot()"
   ]
  },
  {
   "cell_type": "code",
   "execution_count": null,
   "id": "0bc1dd64-42f4-4da3-8edd-f54a77284552",
   "metadata": {
    "tags": []
   },
   "outputs": [],
   "source": [
    "#df_check(highways_d)\n",
    "#highways_d.plot()"
   ]
  },
  {
   "cell_type": "code",
   "execution_count": null,
   "id": "90b2c22e-d8e9-4cb1-96d2-0c8a7cc6cec2",
   "metadata": {},
   "outputs": [],
   "source": [
    "#test = stop2times({'trip_id': group.groups.keys(), \n",
    "#                   'first_stop': first_stop, \n",
    "#                  'last_stop': last_stop}\n",
    "#                 )\n",
    "#test.head"
   ]
  },
  {
   "cell_type": "code",
   "execution_count": null,
   "id": "f9a1fbf1-352c-4266-93b0-a73ca9b373fa",
   "metadata": {},
   "outputs": [],
   "source": [
    "#test to find the first stop of a trip usign .iloc[0]\n",
    "#group = stop_times.groupby('trip_id')"
   ]
  },
  {
   "cell_type": "code",
   "execution_count": null,
   "id": "3e83a920-015f-472b-92fc-ee6fb4ac8efe",
   "metadata": {},
   "outputs": [],
   "source": [
    "#first_stop = []\n",
    "#last_stop = []"
   ]
  },
  {
   "cell_type": "code",
   "execution_count": null,
   "id": "322ec81f-22c7-4a21-981d-7011cf193313",
   "metadata": {},
   "outputs": [],
   "source": [
    "# FOR LOOPS!!!\n",
    "#for `every trip_id` group in group df, do this operation\n",
    "#for trip_id, group in group:\n",
    "#    f_stop = group.iloc[0]['stop_id']\n",
    "#    l_stop = group.iloc[-1]['stop_id']"
   ]
  },
  {
   "cell_type": "code",
   "execution_count": null,
   "id": "24f81010-7f02-4a54-9e86-ac96a12d5f40",
   "metadata": {},
   "outputs": [],
   "source": [
    "#first_stop.append(f_stop)\n",
    "#first_stop"
   ]
  },
  {
   "cell_type": "code",
   "execution_count": null,
   "id": "462cafee-9570-4de5-b69c-3ab23d2dc90e",
   "metadata": {},
   "outputs": [],
   "source": [
    "#last_stop.append(l_stop)\n",
    "#last_stop"
   ]
  },
  {
   "cell_type": "code",
   "execution_count": null,
   "id": "052e47b1-3dcf-4f8f-aa76-cb398373d8f9",
   "metadata": {},
   "outputs": [],
   "source": [
    "#group.groups.keys()"
   ]
  },
  {
   "cell_type": "code",
   "execution_count": null,
   "id": "8c9106e1-3739-4b73-892a-55befcabd562",
   "metadata": {},
   "outputs": [],
   "source": [
    "\n",
    "#add new col - first_stop. use assign with trip ID, and stop_sequence.iloc[0]\n",
    "#add new col - last _stop. use assign with trip ID, and stop_sequence.iloc[-1]\n",
    "#all new col - distance between first and last stop with distance first stop, last stop\n",
    "\n"
   ]
  },
  {
   "cell_type": "code",
   "execution_count": null,
   "id": "70ce5a0a-44f0-41fd-b4ec-2bc8bc964f4d",
   "metadata": {},
   "outputs": [],
   "source": [
    "#overlay highways with stops2?\n",
    "#RETURNS NOTHING!\n",
    "#test = gpd.overlay(stops2, highways.to_crs('EPSG:2229'), how='intersection', keep_geom_type=True)"
   ]
  },
  {
   "cell_type": "code",
   "execution_count": null,
   "id": "c4b5985a-979d-4df0-a9fb-e94292d9b877",
   "metadata": {},
   "outputs": [],
   "source": [
    "#try to overlay stop2times on highways_d (points on line?)\n",
    "#RETURNS NOTHING!\n",
    "#test = gpd.overlay(highways.to_crs('EPSG:2229'), stop2times, how ='intersection', keep_geom_type=True)"
   ]
  },
  {
   "cell_type": "code",
   "execution_count": null,
   "id": "a50e20a1-2cab-4c90-81d6-91d51b106b47",
   "metadata": {},
   "outputs": [],
   "source": [
    "#df_check(test)"
   ]
  },
  {
   "cell_type": "code",
   "execution_count": null,
   "id": "e6ff5aa5-b466-4d00-a668-e29626c54453",
   "metadata": {},
   "outputs": [],
   "source": [
    "#Calculate the distance between each stop to the nearest interstate. \n",
    "#For each trip, keep the value for the stop that's the closest to the interstate. Call this column shortest_distance_hwy."
   ]
  },
  {
   "cell_type": "code",
   "execution_count": null,
   "id": "322c3f49-2f3d-4e74-9d22-d627ad6ec13d",
   "metadata": {},
   "outputs": [],
   "source": [
    "#can i dissolve by trip_ID, then get length?\n",
    "\n",
    "#NOPE DIDNT WORK AS EXPECTED\n",
    "\n",
    "#trip_d = stop2times.dissolve(by='trip_id').reset_index()"
   ]
  },
  {
   "cell_type": "code",
   "execution_count": null,
   "id": "5254d826-3925-4c55-8e90-91c08a335b09",
   "metadata": {},
   "outputs": [],
   "source": [
    "#df_check(trip_d)\n",
    "#trip_d.plot()"
   ]
  }
 ],
 "metadata": {
  "kernelspec": {
   "display_name": "Python 3 (ipykernel)",
   "language": "python",
   "name": "python3"
  },
  "language_info": {
   "codemirror_mode": {
    "name": "ipython",
    "version": 3
   },
   "file_extension": ".py",
   "mimetype": "text/x-python",
   "name": "python",
   "nbconvert_exporter": "python",
   "pygments_lexer": "ipython3",
   "version": "3.9.13"
  }
 },
 "nbformat": 4,
 "nbformat_minor": 5
}
