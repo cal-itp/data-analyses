{
 "cells": [
  {
   "cell_type": "markdown",
   "id": "84872c99-cfe4-4298-b2c1-e968dae374ab",
   "metadata": {},
   "source": [
    "# Exercise 9: series\n",
    "\n",
    "* pandas series vs numpy arrays [explanation](https://jakevdp.github.io/PythonDataScienceHandbook/03.01-introducing-pandas-objects.html)\n",
    "\n",
    "### Common series operations\n",
    "These are the most common series operations we use. Refer to the `pandas` docs for even more!\n",
    "\n",
    "* Getting dates, hours, minutes from datetime types (`df.datetime_col.dt.date`)\n",
    "* Parsing strings (`df.string_col.str.split('_')`)\n",
    "\n",
    "### Common geoseries operations\n",
    "These are the most common. Refer to the `geopandas` docs for even more!\n",
    "\n",
    "* `distance` between 2 points or a point to a polygon or line [docs](https://geopandas.org/en/stable/docs/reference/api/geopandas.GeoSeries.distance.html)\n",
    "* `intersects`: [docs](https://geopandas.org/en/stable/docs/reference/api/geopandas.GeoSeries.intersects.html)\n",
    "* `within`: [docs](https://geopandas.org/en/stable/docs/reference/api/geopandas.GeoSeries.within.html)\n",
    "* `contains`: [docs](https://geopandas.org/en/stable/docs/reference/api/geopandas.GeoSeries.contains.html)\n",
    "\n",
    "In fact, we've often used geoseries methods without even realizing it. Often, we'd create a new column that stores either the line's length or a polygon's area. `gdf.geometry` is a geoseries, and we call methods on that geoseries, and add that as a new column.\n",
    "\n",
    "For calculations like `length`, `area`, and `distance`, we need to use a projected CRS that has units like meters or feet. We cannot use decimal degrees (do not use WGS 84 / EPSG:3326)! Distance calculations must be done only once the spherical 3D Earth has been converted into a 2D plane.\n",
    "\n",
    "* `length`: get the length of a line (`gdf.geometry.length`)\n",
    "* `area`: get the area of a polygon (`gdf.geometry.area`)\n",
    "* `centroid`: get the centroid of a polygon (`gdf.geometry.centroid`)\n",
    "* `x`: get the x coordinate of a point (`gdf.geometry.x`)\n",
    "* `y`: get the y coordinate of a point (`gdf.geometry.y`)\n",
    "\n",
    "### Arrays\n",
    "* Occasionally, we may even use arrays, especially when the datasets get even larger but we have simple mathematical calculations\n",
    "* If we need to apply an exponential decay function to a distance column, we essentially want to multiple `distance` by some number\n",
    "* Since this exponential decay function is somewhat custom and requires us to write our own formula, we would extract the column as a series (`df.distance`) and multiply each value by some other number.\n",
    "* Even quicker is to use `numpy` with `distance_array = np.array(df.distance)` and get `exponential_array = distance_array*some_number`"
   ]
  },
  {
   "cell_type": "code",
   "execution_count": 1,
   "id": "857e8b4d-efc3-4919-85da-6af600d4a39c",
   "metadata": {},
   "outputs": [],
   "source": [
    "import geopandas as gpd\n",
    "import intake\n",
    "import numpy as np\n",
    "import pandas as pd\n",
    "\n",
    "catalog = intake.open_catalog(\n",
    "    \"../_shared_utils/shared_utils/shared_data_catalog.yml\")"
   ]
  },
  {
   "cell_type": "markdown",
   "id": "0aac8643-45b0-47c6-af66-7e718942f82d",
   "metadata": {},
   "source": [
    "If you're asking how far is a transit stop from the interstate, you'd want the distance of every point (every row) compared to an interstate highway geometry.\n",
    "\n",
    "Let's prep the datasets to use series / geoseries to do this."
   ]
  },
  {
   "cell_type": "code",
   "execution_count": 2,
   "id": "4769438c-5b5d-4e94-b214-cda4fbedd13e",
   "metadata": {},
   "outputs": [],
   "source": [
    "stops = catalog.ca_transit_stops.read()[[\"agency\", \"stop_id\", \n",
    "                                         \"stop_name\", \"geometry\"]]\n",
    "highways = catalog.state_highway_network.read()"
   ]
  },
  {
   "cell_type": "markdown",
   "id": "2e8d2b6e-8f36-4469-8e44-17ac5c17002b",
   "metadata": {},
   "source": [
    "Since we want to know the distance from a stop's point to the interstate generally, we need a dissolve. We don't want to compare the distance against the I-5, the I-10 individually, but to the interstate system as a whole."
   ]
  },
  {
   "cell_type": "code",
   "execution_count": 3,
   "id": "87324210-da50-4973-b652-703355bc8407",
   "metadata": {},
   "outputs": [],
   "source": [
    "interstates = (highways[highways.RouteType==\"Interstate\"]\n",
    "               .dissolve()\n",
    "               .reset_index()\n",
    "               [[\"geometry\"]]\n",
    "              ) "
   ]
  },
  {
   "cell_type": "code",
   "execution_count": 4,
   "id": "93b966ed-3115-425d-8521-1d98403a526c",
   "metadata": {},
   "outputs": [
    {
     "data": {
      "text/plain": [
       "geopandas.geodataframe.GeoDataFrame"
      ]
     },
     "execution_count": 4,
     "metadata": {},
     "output_type": "execute_result"
    }
   ],
   "source": [
    "# This is still a gdf, just with 1 column\n",
    "type(interstates)"
   ]
  },
  {
   "cell_type": "code",
   "execution_count": 5,
   "id": "6d77f3c0-d520-4d90-a7ee-8466b26daf28",
   "metadata": {},
   "outputs": [
    {
     "name": "stdout",
     "output_type": "stream",
     "text": [
      "<class 'geopandas.geoseries.GeoSeries'>\n",
      "<class 'geopandas.geoseries.GeoSeries'>\n"
     ]
    }
   ],
   "source": [
    "# Pulling out the individual column, it becomes a series/geoseries.\n",
    "# It's a geoseries here because we had a gdf. \n",
    "# If it was a df, it would be a series.\n",
    "print(type(stops.geometry))\n",
    "print(type(interstates.geometry))"
   ]
  },
  {
   "cell_type": "markdown",
   "id": "76e590eb-aeaf-437f-a5b7-5b6947dd34cc",
   "metadata": {},
   "source": [
    "Distance is something you can calculate using `geopandas`.\n",
    "\n",
    "Specifically, it takes a geoseries on the left, and either a geoseries or a single geometry on the right.\n",
    "\n",
    "An example of having 2 geoseries would be comparing the distance between 2 points. On the left, it would be a geoseries of the origin points and on the right, destination points."
   ]
  },
  {
   "cell_type": "code",
   "execution_count": 6,
   "id": "98652a57-47f1-4fce-940d-01530e6c112d",
   "metadata": {},
   "outputs": [
    {
     "name": "stderr",
     "output_type": "stream",
     "text": [
      "/tmp/ipykernel_204/2451250416.py:2: UserWarning: Geometry is in a geographic CRS. Results from 'distance' are likely incorrect. Use 'GeoSeries.to_crs()' to re-project geometries to a projected CRS before this operation.\n",
      "\n",
      "  stops.geometry.distance(interstates.geometry.iloc[0])\n"
     ]
    },
    {
     "data": {
      "text/plain": [
       "0         0.023029\n",
       "1         0.024552\n",
       "2         0.027300\n",
       "3         0.026145\n",
       "4         0.023530\n",
       "            ...   \n",
       "119963    0.294958\n",
       "119964    0.293110\n",
       "119965    0.292390\n",
       "119966    0.293875\n",
       "119967    0.291830\n",
       "Length: 119968, dtype: float64"
      ]
     },
     "execution_count": 6,
     "metadata": {},
     "output_type": "execute_result"
    }
   ],
   "source": [
    "# We get a warning if we leave it in EPSG:4326!\n",
    "stops.geometry.distance(interstates.geometry.iloc[0])"
   ]
  },
  {
   "cell_type": "code",
   "execution_count": 7,
   "id": "01f76443-ff98-4340-bc40-5ee42c5534be",
   "metadata": {},
   "outputs": [],
   "source": [
    "stops_geom = stops.to_crs(\"EPSG:2229\").geometry\n",
    "interstates_geom = interstates.to_crs(\"EPSG:2229\").geometry.iloc[0]"
   ]
  },
  {
   "cell_type": "code",
   "execution_count": 8,
   "id": "1cc464f7-3f5f-4b60-9ab8-0e24cbf02c5d",
   "metadata": {},
   "outputs": [],
   "source": [
    "distance_series = stops_geom.distance(interstates_geom)"
   ]
  },
  {
   "cell_type": "code",
   "execution_count": 9,
   "id": "f7aff458-964e-4b07-aed7-49bad17a90a1",
   "metadata": {},
   "outputs": [
    {
     "name": "stdout",
     "output_type": "stream",
     "text": [
      "# rows in stops: 119968\n",
      "# rows in stops: 119968\n"
     ]
    }
   ],
   "source": [
    "# Let's make sure that for every stop, a distance is calculated\n",
    "print(f\"# rows in stops: {len(stops_geom)}\")\n",
    "print(f\"# rows in stops: {len(distance_series)}\")"
   ]
  },
  {
   "cell_type": "code",
   "execution_count": 10,
   "id": "0dd7a990-e28b-4927-8215-b7255e450730",
   "metadata": {},
   "outputs": [
    {
     "data": {
      "text/plain": [
       "pandas.core.series.Series"
      ]
     },
     "execution_count": 10,
     "metadata": {},
     "output_type": "execute_result"
    }
   ],
   "source": [
    "# distance is numeric, not a geometry, so we're back to being a series\n",
    "type(distance_series)"
   ]
  },
  {
   "cell_type": "markdown",
   "id": "c264d096-fbc3-4450-9f9c-1bf11b805267",
   "metadata": {},
   "source": [
    "What can we do with this? \n",
    "\n",
    "We usually add it as a new column. Since we did nothing to shift the index, we can just attach the series back to our gdf.\n",
    "\n",
    "Getting a distance calculation using geoseries is much quicker than a row-wise lambda function where you calculate the distance.\n",
    "\n",
    "```\n",
    "Alternative method that's slower:\n",
    "      \n",
    "interstate_geom = interstates.geometry.iloc[0]\n",
    "\n",
    "stops = stops.assign(\n",
    "   distance = stops.geometry.apply(\n",
    "         lambda x: x.distance(interstate_geom))\n",
    ")   \n",
    "```"
   ]
  },
  {
   "cell_type": "code",
   "execution_count": 11,
   "id": "7609c11a-be1d-491d-a6ef-a6418b90d821",
   "metadata": {},
   "outputs": [],
   "source": [
    "stops = stops.assign(\n",
    "    distance_to_interstate = distance_series\n",
    ")"
   ]
  },
  {
   "cell_type": "code",
   "execution_count": 12,
   "id": "4990dead-00a1-482f-ac6b-26b31e7289fb",
   "metadata": {},
   "outputs": [
    {
     "name": "stdout",
     "output_type": "stream",
     "text": [
      "22.7 s ± 185 ms per loop (mean ± std. dev. of 7 runs, 1 loop each)\n"
     ]
    }
   ],
   "source": [
    "%%timeit\n",
    "distance_series = stops_geom.distance(interstates_geom)"
   ]
  },
  {
   "cell_type": "code",
   "execution_count": 13,
   "id": "955c45f0-bf8b-41f5-a2c8-7dfcc2513463",
   "metadata": {},
   "outputs": [
    {
     "name": "stdout",
     "output_type": "stream",
     "text": [
      "54.3 s ± 11.1 s per loop (mean ± std. dev. of 7 runs, 1 loop each)\n"
     ]
    }
   ],
   "source": [
    "%%timeit\n",
    "stops.assign(\n",
    "   distance = stops.geometry.apply(\n",
    "         lambda x: x.distance(interstates_geom))\n",
    ")   "
   ]
  },
  {
   "cell_type": "code",
   "execution_count": 14,
   "id": "9ef4ec02-0486-4103-87a0-4d41a1520318",
   "metadata": {},
   "outputs": [],
   "source": [
    "import dask_geopandas as dg\n",
    "\n",
    "stops_gddf = dg.from_geopandas(stops, npartitions=2)\n",
    "stops_geom_dg = stops_gddf.to_crs(\"EPSG:2229\").geometry"
   ]
  },
  {
   "cell_type": "code",
   "execution_count": 15,
   "id": "6a486f4a-4ddf-4a2a-83d0-454fd4684e73",
   "metadata": {},
   "outputs": [
    {
     "name": "stdout",
     "output_type": "stream",
     "text": [
      "2.22 ms ± 75.9 µs per loop (mean ± std. dev. of 7 runs, 100 loops each)\n"
     ]
    }
   ],
   "source": [
    "%%timeit\n",
    "\n",
    "distance_series = stops_geom_dg.distance(interstates_geom)"
   ]
  },
  {
   "cell_type": "markdown",
   "id": "fd487060-64f6-46f0-b600-f0856957077b",
   "metadata": {},
   "source": [
    "## To Do\n",
    "\n",
    "* Use the `stop_times` table and `stops` table.\n",
    "* Calculate the straight line distance between the first and last stop for each trip. Call this column `trip_distance`\n",
    "* Calculate the distance between each stop to the nearest interstate. For each trip, keep the value for the stop that's the closest to the interstate. Call this column `shortest_distance_hwy`.\n",
    "* For each trip, add these 2 new columns, but use series, geoseries, and/or arrays to assign it.\n",
    "* Provide a preview of the resulting df (do not export)"
   ]
  },
  {
   "cell_type": "code",
   "execution_count": 16,
   "id": "9382c83d-d0d7-462d-bd64-3854d6f5325e",
   "metadata": {},
   "outputs": [],
   "source": [
    "GCS_FILE_PATH = (\"gs://calitp-analytics-data/data-analyses/\"\n",
    "                 \"rt_delay/compiled_cached_views/\"\n",
    "                )\n",
    "\n",
    "analysis_date = \"2023-01-18\"\n",
    "STOP_TIMES_FILE = f\"{GCS_FILE_PATH}st_{analysis_date}.parquet\"\n",
    "STOPS_FILE = f\"{GCS_FILE_PATH}stops_{analysis_date}.parquet\"\n",
    "highways = catalog.state_highway_network.read()"
   ]
  },
  {
   "cell_type": "code",
   "execution_count": 22,
   "id": "ebc4a634-fc03-4be9-bbb3-4e9c061d8570",
   "metadata": {},
   "outputs": [],
   "source": [
    "#test to import parquet files\n",
    "stops = pd.read_parquet(STOPS_FILE)\n",
    "stop_times = pd.read_parquet(STOP_TIMES_FILE)"
   ]
  },
  {
   "cell_type": "code",
   "execution_count": 25,
   "id": "284acae2-0bbc-40af-8ae8-bfdecd7af8e4",
   "metadata": {},
   "outputs": [],
   "source": [
    "#function that runs the same checks for dfs\n",
    "def df_check(x):\n",
    "    display(f'shape of df:{x.shape}'),\n",
    "    display(f'type of :{type(x)}'),\n",
    "    display(x.head()),\n",
    "    return "
   ]
  },
  {
   "cell_type": "code",
   "execution_count": 26,
   "id": "872f37ee-b96e-407a-aaf4-558463b31446",
   "metadata": {},
   "outputs": [
    {
     "data": {
      "text/plain": [
       "'shape of df:(84688, 16)'"
      ]
     },
     "metadata": {},
     "output_type": "display_data"
    },
    {
     "data": {
      "text/plain": [
       "\"type of :<class 'pandas.core.frame.DataFrame'>\""
      ]
     },
     "metadata": {},
     "output_type": "display_data"
    },
    {
     "data": {
      "text/html": [
       "<div>\n",
       "<style scoped>\n",
       "    .dataframe tbody tr th:only-of-type {\n",
       "        vertical-align: middle;\n",
       "    }\n",
       "\n",
       "    .dataframe tbody tr th {\n",
       "        vertical-align: top;\n",
       "    }\n",
       "\n",
       "    .dataframe thead th {\n",
       "        text-align: right;\n",
       "    }\n",
       "</style>\n",
       "<table border=\"1\" class=\"dataframe\">\n",
       "  <thead>\n",
       "    <tr style=\"text-align: right;\">\n",
       "      <th></th>\n",
       "      <th>feed_key</th>\n",
       "      <th>stop_id</th>\n",
       "      <th>stop_key</th>\n",
       "      <th>stop_name</th>\n",
       "      <th>route_type_0</th>\n",
       "      <th>route_type_1</th>\n",
       "      <th>route_type_2</th>\n",
       "      <th>route_type_3</th>\n",
       "      <th>route_type_4</th>\n",
       "      <th>route_type_5</th>\n",
       "      <th>route_type_6</th>\n",
       "      <th>route_type_7</th>\n",
       "      <th>route_type_11</th>\n",
       "      <th>route_type_12</th>\n",
       "      <th>missing_route_type</th>\n",
       "      <th>geometry</th>\n",
       "    </tr>\n",
       "  </thead>\n",
       "  <tbody>\n",
       "    <tr>\n",
       "      <th>0</th>\n",
       "      <td>6adf6cd9b6d24ab4ee8ee220e3697a73</td>\n",
       "      <td>15193</td>\n",
       "      <td>d4eb0920e7e256606df449c31b3c3e6a</td>\n",
       "      <td>Vanowen / Encino</td>\n",
       "      <td>NaN</td>\n",
       "      <td>NaN</td>\n",
       "      <td>NaN</td>\n",
       "      <td>69.0</td>\n",
       "      <td>NaN</td>\n",
       "      <td>NaN</td>\n",
       "      <td>None</td>\n",
       "      <td>None</td>\n",
       "      <td>None</td>\n",
       "      <td>None</td>\n",
       "      <td>None</td>\n",
       "      <td>b'\\x01\\x01\\x00\\x00\\x00?\\xe5\\x98,\\xee\\xa0]\\xc0\\...</td>\n",
       "    </tr>\n",
       "    <tr>\n",
       "      <th>1</th>\n",
       "      <td>6adf6cd9b6d24ab4ee8ee220e3697a73</td>\n",
       "      <td>14025</td>\n",
       "      <td>038cca58ef5f071ff5c94b8213989f87</td>\n",
       "      <td>Vermont / 110th</td>\n",
       "      <td>NaN</td>\n",
       "      <td>NaN</td>\n",
       "      <td>NaN</td>\n",
       "      <td>107.0</td>\n",
       "      <td>NaN</td>\n",
       "      <td>NaN</td>\n",
       "      <td>None</td>\n",
       "      <td>None</td>\n",
       "      <td>None</td>\n",
       "      <td>None</td>\n",
       "      <td>None</td>\n",
       "      <td>b'\\x01\\x01\\x00\\x00\\x00\\x10\\x1em\\x1c\\xb1\\x92]\\x...</td>\n",
       "    </tr>\n",
       "    <tr>\n",
       "      <th>2</th>\n",
       "      <td>6adf6cd9b6d24ab4ee8ee220e3697a73</td>\n",
       "      <td>15638</td>\n",
       "      <td>06b1447efcc028791c8409d65fa3b3ee</td>\n",
       "      <td>3rd / Hobart</td>\n",
       "      <td>NaN</td>\n",
       "      <td>NaN</td>\n",
       "      <td>NaN</td>\n",
       "      <td>143.0</td>\n",
       "      <td>NaN</td>\n",
       "      <td>NaN</td>\n",
       "      <td>None</td>\n",
       "      <td>None</td>\n",
       "      <td>None</td>\n",
       "      <td>None</td>\n",
       "      <td>None</td>\n",
       "      <td>b'\\x01\\x01\\x00\\x00\\x00\\xd7d\\x8dz\\x88\\x93]\\xc03...</td>\n",
       "    </tr>\n",
       "    <tr>\n",
       "      <th>3</th>\n",
       "      <td>6adf6cd9b6d24ab4ee8ee220e3697a73</td>\n",
       "      <td>10244</td>\n",
       "      <td>87f19e30889f90d25e6dee49f04c4985</td>\n",
       "      <td>Vernon / Hooper</td>\n",
       "      <td>NaN</td>\n",
       "      <td>NaN</td>\n",
       "      <td>NaN</td>\n",
       "      <td>97.0</td>\n",
       "      <td>NaN</td>\n",
       "      <td>NaN</td>\n",
       "      <td>None</td>\n",
       "      <td>None</td>\n",
       "      <td>None</td>\n",
       "      <td>None</td>\n",
       "      <td>None</td>\n",
       "      <td>b'\\x01\\x01\\x00\\x00\\x00z\\xc2\\x12\\x0f(\\x90]\\xc0\\...</td>\n",
       "    </tr>\n",
       "    <tr>\n",
       "      <th>4</th>\n",
       "      <td>6adf6cd9b6d24ab4ee8ee220e3697a73</td>\n",
       "      <td>20206</td>\n",
       "      <td>eda9e3eb339b7f510babcd4ee0999f85</td>\n",
       "      <td>Broadway / Pacific</td>\n",
       "      <td>NaN</td>\n",
       "      <td>NaN</td>\n",
       "      <td>NaN</td>\n",
       "      <td>108.0</td>\n",
       "      <td>NaN</td>\n",
       "      <td>NaN</td>\n",
       "      <td>None</td>\n",
       "      <td>None</td>\n",
       "      <td>None</td>\n",
       "      <td>None</td>\n",
       "      <td>None</td>\n",
       "      <td>b'\\x01\\x01\\x00\\x00\\x001du\\xab\\xe7\\x90]\\xc0\\xf4...</td>\n",
       "    </tr>\n",
       "  </tbody>\n",
       "</table>\n",
       "</div>"
      ],
      "text/plain": [
       "                           feed_key stop_id                          stop_key  \\\n",
       "0  6adf6cd9b6d24ab4ee8ee220e3697a73   15193  d4eb0920e7e256606df449c31b3c3e6a   \n",
       "1  6adf6cd9b6d24ab4ee8ee220e3697a73   14025  038cca58ef5f071ff5c94b8213989f87   \n",
       "2  6adf6cd9b6d24ab4ee8ee220e3697a73   15638  06b1447efcc028791c8409d65fa3b3ee   \n",
       "3  6adf6cd9b6d24ab4ee8ee220e3697a73   10244  87f19e30889f90d25e6dee49f04c4985   \n",
       "4  6adf6cd9b6d24ab4ee8ee220e3697a73   20206  eda9e3eb339b7f510babcd4ee0999f85   \n",
       "\n",
       "            stop_name  route_type_0  route_type_1  route_type_2  route_type_3  \\\n",
       "0    Vanowen / Encino           NaN           NaN           NaN          69.0   \n",
       "1     Vermont / 110th           NaN           NaN           NaN         107.0   \n",
       "2        3rd / Hobart           NaN           NaN           NaN         143.0   \n",
       "3     Vernon / Hooper           NaN           NaN           NaN          97.0   \n",
       "4  Broadway / Pacific           NaN           NaN           NaN         108.0   \n",
       "\n",
       "   route_type_4  route_type_5 route_type_6 route_type_7 route_type_11  \\\n",
       "0           NaN           NaN         None         None          None   \n",
       "1           NaN           NaN         None         None          None   \n",
       "2           NaN           NaN         None         None          None   \n",
       "3           NaN           NaN         None         None          None   \n",
       "4           NaN           NaN         None         None          None   \n",
       "\n",
       "  route_type_12 missing_route_type  \\\n",
       "0          None               None   \n",
       "1          None               None   \n",
       "2          None               None   \n",
       "3          None               None   \n",
       "4          None               None   \n",
       "\n",
       "                                            geometry  \n",
       "0  b'\\x01\\x01\\x00\\x00\\x00?\\xe5\\x98,\\xee\\xa0]\\xc0\\...  \n",
       "1  b'\\x01\\x01\\x00\\x00\\x00\\x10\\x1em\\x1c\\xb1\\x92]\\x...  \n",
       "2  b'\\x01\\x01\\x00\\x00\\x00\\xd7d\\x8dz\\x88\\x93]\\xc03...  \n",
       "3  b'\\x01\\x01\\x00\\x00\\x00z\\xc2\\x12\\x0f(\\x90]\\xc0\\...  \n",
       "4  b'\\x01\\x01\\x00\\x00\\x001du\\xab\\xe7\\x90]\\xc0\\xf4...  "
      ]
     },
     "metadata": {},
     "output_type": "display_data"
    }
   ],
   "source": [
    "#what does each row mean?\n",
    "#each row is a stop_key, a stop_key can have multiple feeds and stops\n",
    "#what is the difference between stop_key and stop_id?\n",
    "df_check(stops)"
   ]
  },
  {
   "cell_type": "code",
   "execution_count": 27,
   "id": "d265c106-3d06-4f80-9892-f30601ad0215",
   "metadata": {},
   "outputs": [
    {
     "data": {
      "text/plain": [
       "'shape of df:(3589931, 9)'"
      ]
     },
     "metadata": {},
     "output_type": "display_data"
    },
    {
     "data": {
      "text/plain": [
       "\"type of :<class 'pandas.core.frame.DataFrame'>\""
      ]
     },
     "metadata": {},
     "output_type": "display_data"
    },
    {
     "data": {
      "text/html": [
       "<div>\n",
       "<style scoped>\n",
       "    .dataframe tbody tr th:only-of-type {\n",
       "        vertical-align: middle;\n",
       "    }\n",
       "\n",
       "    .dataframe tbody tr th {\n",
       "        vertical-align: top;\n",
       "    }\n",
       "\n",
       "    .dataframe thead th {\n",
       "        text-align: right;\n",
       "    }\n",
       "</style>\n",
       "<table border=\"1\" class=\"dataframe\">\n",
       "  <thead>\n",
       "    <tr style=\"text-align: right;\">\n",
       "      <th></th>\n",
       "      <th>feed_key</th>\n",
       "      <th>trip_id</th>\n",
       "      <th>stop_id</th>\n",
       "      <th>stop_sequence</th>\n",
       "      <th>timepoint</th>\n",
       "      <th>arrival_sec</th>\n",
       "      <th>departure_sec</th>\n",
       "      <th>arrival_hour</th>\n",
       "      <th>departure_hour</th>\n",
       "    </tr>\n",
       "  </thead>\n",
       "  <tbody>\n",
       "    <tr>\n",
       "      <th>0</th>\n",
       "      <td>48138ae7269d615d5509958097039bf7</td>\n",
       "      <td>t287-b194-sl4_merged_3564</td>\n",
       "      <td>1140</td>\n",
       "      <td>11</td>\n",
       "      <td>NaN</td>\n",
       "      <td>25047</td>\n",
       "      <td>25047</td>\n",
       "      <td>6</td>\n",
       "      <td>6</td>\n",
       "    </tr>\n",
       "    <tr>\n",
       "      <th>1</th>\n",
       "      <td>48138ae7269d615d5509958097039bf7</td>\n",
       "      <td>t708-b12D-sl4_merged_4213</td>\n",
       "      <td>1161</td>\n",
       "      <td>25</td>\n",
       "      <td>NaN</td>\n",
       "      <td>66583</td>\n",
       "      <td>66583</td>\n",
       "      <td>18</td>\n",
       "      <td>18</td>\n",
       "    </tr>\n",
       "    <tr>\n",
       "      <th>2</th>\n",
       "      <td>48138ae7269d615d5509958097039bf7</td>\n",
       "      <td>t476-b194-sl4_merged_4047</td>\n",
       "      <td>1153</td>\n",
       "      <td>22</td>\n",
       "      <td>NaN</td>\n",
       "      <td>43440</td>\n",
       "      <td>43440</td>\n",
       "      <td>12</td>\n",
       "      <td>12</td>\n",
       "    </tr>\n",
       "    <tr>\n",
       "      <th>3</th>\n",
       "      <td>48138ae7269d615d5509958097039bf7</td>\n",
       "      <td>t6DF-b68-sl4_merged_3187</td>\n",
       "      <td>1437</td>\n",
       "      <td>4</td>\n",
       "      <td>NaN</td>\n",
       "      <td>64959</td>\n",
       "      <td>64959</td>\n",
       "      <td>18</td>\n",
       "      <td>18</td>\n",
       "    </tr>\n",
       "    <tr>\n",
       "      <th>4</th>\n",
       "      <td>d4642902c43d526677dff02b09342b78</td>\n",
       "      <td>t607-b1F4B-sl2_merged_1620</td>\n",
       "      <td>601</td>\n",
       "      <td>1</td>\n",
       "      <td>NaN</td>\n",
       "      <td>56580</td>\n",
       "      <td>56580</td>\n",
       "      <td>15</td>\n",
       "      <td>15</td>\n",
       "    </tr>\n",
       "  </tbody>\n",
       "</table>\n",
       "</div>"
      ],
      "text/plain": [
       "                           feed_key                     trip_id stop_id  \\\n",
       "0  48138ae7269d615d5509958097039bf7   t287-b194-sl4_merged_3564    1140   \n",
       "1  48138ae7269d615d5509958097039bf7   t708-b12D-sl4_merged_4213    1161   \n",
       "2  48138ae7269d615d5509958097039bf7   t476-b194-sl4_merged_4047    1153   \n",
       "3  48138ae7269d615d5509958097039bf7    t6DF-b68-sl4_merged_3187    1437   \n",
       "4  d4642902c43d526677dff02b09342b78  t607-b1F4B-sl2_merged_1620     601   \n",
       "\n",
       "   stop_sequence  timepoint  arrival_sec  departure_sec  arrival_hour  \\\n",
       "0             11        NaN        25047          25047             6   \n",
       "1             25        NaN        66583          66583            18   \n",
       "2             22        NaN        43440          43440            12   \n",
       "3              4        NaN        64959          64959            18   \n",
       "4              1        NaN        56580          56580            15   \n",
       "\n",
       "   departure_hour  \n",
       "0               6  \n",
       "1              18  \n",
       "2              12  \n",
       "3              18  \n",
       "4              15  "
      ]
     },
     "metadata": {},
     "output_type": "display_data"
    }
   ],
   "source": [
    "df_check(stop_times)"
   ]
  },
  {
   "cell_type": "code",
   "execution_count": 58,
   "id": "0b067a36-72ba-450a-bdc5-faa6773b6494",
   "metadata": {},
   "outputs": [
    {
     "data": {
      "text/html": [
       "<div>\n",
       "<style scoped>\n",
       "    .dataframe tbody tr th:only-of-type {\n",
       "        vertical-align: middle;\n",
       "    }\n",
       "\n",
       "    .dataframe tbody tr th {\n",
       "        vertical-align: top;\n",
       "    }\n",
       "\n",
       "    .dataframe thead th {\n",
       "        text-align: right;\n",
       "    }\n",
       "</style>\n",
       "<table border=\"1\" class=\"dataframe\">\n",
       "  <thead>\n",
       "    <tr style=\"text-align: right;\">\n",
       "      <th></th>\n",
       "      <th>feed_key</th>\n",
       "      <th>trip_id</th>\n",
       "      <th>stop_id</th>\n",
       "      <th>stop_sequence</th>\n",
       "      <th>timepoint</th>\n",
       "      <th>arrival_sec</th>\n",
       "      <th>departure_sec</th>\n",
       "      <th>arrival_hour</th>\n",
       "      <th>departure_hour</th>\n",
       "    </tr>\n",
       "  </thead>\n",
       "  <tbody>\n",
       "    <tr>\n",
       "      <th>1914079</th>\n",
       "      <td>d1b694a25d2e172e9ea98abe1829a0fd</td>\n",
       "      <td>002bqqucv</td>\n",
       "      <td>11</td>\n",
       "      <td>1</td>\n",
       "      <td>1.0</td>\n",
       "      <td>33960</td>\n",
       "      <td>33960</td>\n",
       "      <td>9</td>\n",
       "      <td>9</td>\n",
       "    </tr>\n",
       "    <tr>\n",
       "      <th>79498</th>\n",
       "      <td>d1b694a25d2e172e9ea98abe1829a0fd</td>\n",
       "      <td>002bqqucv</td>\n",
       "      <td>12</td>\n",
       "      <td>2</td>\n",
       "      <td>1.0</td>\n",
       "      <td>34020</td>\n",
       "      <td>34020</td>\n",
       "      <td>9</td>\n",
       "      <td>9</td>\n",
       "    </tr>\n",
       "    <tr>\n",
       "      <th>1861424</th>\n",
       "      <td>d1b694a25d2e172e9ea98abe1829a0fd</td>\n",
       "      <td>002bqqucv</td>\n",
       "      <td>13</td>\n",
       "      <td>3</td>\n",
       "      <td>1.0</td>\n",
       "      <td>34080</td>\n",
       "      <td>34080</td>\n",
       "      <td>9</td>\n",
       "      <td>9</td>\n",
       "    </tr>\n",
       "    <tr>\n",
       "      <th>142166</th>\n",
       "      <td>d1b694a25d2e172e9ea98abe1829a0fd</td>\n",
       "      <td>002bqqucv</td>\n",
       "      <td>14</td>\n",
       "      <td>4</td>\n",
       "      <td>1.0</td>\n",
       "      <td>34140</td>\n",
       "      <td>34140</td>\n",
       "      <td>9</td>\n",
       "      <td>9</td>\n",
       "    </tr>\n",
       "    <tr>\n",
       "      <th>104676</th>\n",
       "      <td>d1b694a25d2e172e9ea98abe1829a0fd</td>\n",
       "      <td>002bqqucv</td>\n",
       "      <td>15</td>\n",
       "      <td>5</td>\n",
       "      <td>1.0</td>\n",
       "      <td>34200</td>\n",
       "      <td>34200</td>\n",
       "      <td>9</td>\n",
       "      <td>9</td>\n",
       "    </tr>\n",
       "    <tr>\n",
       "      <th>...</th>\n",
       "      <td>...</td>\n",
       "      <td>...</td>\n",
       "      <td>...</td>\n",
       "      <td>...</td>\n",
       "      <td>...</td>\n",
       "      <td>...</td>\n",
       "      <td>...</td>\n",
       "      <td>...</td>\n",
       "      <td>...</td>\n",
       "    </tr>\n",
       "    <tr>\n",
       "      <th>70056</th>\n",
       "      <td>d1b694a25d2e172e9ea98abe1829a0fd</td>\n",
       "      <td>zwxp4b4ea</td>\n",
       "      <td>1</td>\n",
       "      <td>6</td>\n",
       "      <td>1.0</td>\n",
       "      <td>19560</td>\n",
       "      <td>19560</td>\n",
       "      <td>5</td>\n",
       "      <td>5</td>\n",
       "    </tr>\n",
       "    <tr>\n",
       "      <th>130401</th>\n",
       "      <td>d1b694a25d2e172e9ea98abe1829a0fd</td>\n",
       "      <td>zwxp4b4ea</td>\n",
       "      <td>2</td>\n",
       "      <td>7</td>\n",
       "      <td>1.0</td>\n",
       "      <td>19620</td>\n",
       "      <td>19620</td>\n",
       "      <td>5</td>\n",
       "      <td>5</td>\n",
       "    </tr>\n",
       "    <tr>\n",
       "      <th>1856152</th>\n",
       "      <td>d1b694a25d2e172e9ea98abe1829a0fd</td>\n",
       "      <td>zwxp4b4ea</td>\n",
       "      <td>3</td>\n",
       "      <td>8</td>\n",
       "      <td>1.0</td>\n",
       "      <td>19740</td>\n",
       "      <td>19740</td>\n",
       "      <td>5</td>\n",
       "      <td>5</td>\n",
       "    </tr>\n",
       "    <tr>\n",
       "      <th>177447</th>\n",
       "      <td>d1b694a25d2e172e9ea98abe1829a0fd</td>\n",
       "      <td>zwxp4b4ea</td>\n",
       "      <td>4</td>\n",
       "      <td>9</td>\n",
       "      <td>1.0</td>\n",
       "      <td>19920</td>\n",
       "      <td>19920</td>\n",
       "      <td>5</td>\n",
       "      <td>5</td>\n",
       "    </tr>\n",
       "    <tr>\n",
       "      <th>1942429</th>\n",
       "      <td>d1b694a25d2e172e9ea98abe1829a0fd</td>\n",
       "      <td>zwxp4b4ea</td>\n",
       "      <td>11</td>\n",
       "      <td>10</td>\n",
       "      <td>1.0</td>\n",
       "      <td>20340</td>\n",
       "      <td>20340</td>\n",
       "      <td>5</td>\n",
       "      <td>5</td>\n",
       "    </tr>\n",
       "  </tbody>\n",
       "</table>\n",
       "<p>3589931 rows × 9 columns</p>\n",
       "</div>"
      ],
      "text/plain": [
       "                                 feed_key    trip_id stop_id  stop_sequence  \\\n",
       "1914079  d1b694a25d2e172e9ea98abe1829a0fd  002bqqucv      11              1   \n",
       "79498    d1b694a25d2e172e9ea98abe1829a0fd  002bqqucv      12              2   \n",
       "1861424  d1b694a25d2e172e9ea98abe1829a0fd  002bqqucv      13              3   \n",
       "142166   d1b694a25d2e172e9ea98abe1829a0fd  002bqqucv      14              4   \n",
       "104676   d1b694a25d2e172e9ea98abe1829a0fd  002bqqucv      15              5   \n",
       "...                                   ...        ...     ...            ...   \n",
       "70056    d1b694a25d2e172e9ea98abe1829a0fd  zwxp4b4ea       1              6   \n",
       "130401   d1b694a25d2e172e9ea98abe1829a0fd  zwxp4b4ea       2              7   \n",
       "1856152  d1b694a25d2e172e9ea98abe1829a0fd  zwxp4b4ea       3              8   \n",
       "177447   d1b694a25d2e172e9ea98abe1829a0fd  zwxp4b4ea       4              9   \n",
       "1942429  d1b694a25d2e172e9ea98abe1829a0fd  zwxp4b4ea      11             10   \n",
       "\n",
       "         timepoint  arrival_sec  departure_sec  arrival_hour  departure_hour  \n",
       "1914079        1.0        33960          33960             9               9  \n",
       "79498          1.0        34020          34020             9               9  \n",
       "1861424        1.0        34080          34080             9               9  \n",
       "142166         1.0        34140          34140             9               9  \n",
       "104676         1.0        34200          34200             9               9  \n",
       "...            ...          ...            ...           ...             ...  \n",
       "70056          1.0        19560          19560             5               5  \n",
       "130401         1.0        19620          19620             5               5  \n",
       "1856152        1.0        19740          19740             5               5  \n",
       "177447         1.0        19920          19920             5               5  \n",
       "1942429        1.0        20340          20340             5               5  \n",
       "\n",
       "[3589931 rows x 9 columns]"
      ]
     },
     "execution_count": 58,
     "metadata": {},
     "output_type": "execute_result"
    }
   ],
   "source": [
    "stop_times.sort_values(['trip_id', 'stop_sequence'])"
   ]
  },
  {
   "cell_type": "code",
   "execution_count": 28,
   "id": "da40e793-6422-4be0-af82-a5b4c2524568",
   "metadata": {},
   "outputs": [
    {
     "data": {
      "text/plain": [
       "'shape of df:(1052, 6)'"
      ]
     },
     "metadata": {},
     "output_type": "display_data"
    },
    {
     "data": {
      "text/plain": [
       "\"type of :<class 'geopandas.geodataframe.GeoDataFrame'>\""
      ]
     },
     "metadata": {},
     "output_type": "display_data"
    },
    {
     "data": {
      "text/html": [
       "<div>\n",
       "<style scoped>\n",
       "    .dataframe tbody tr th:only-of-type {\n",
       "        vertical-align: middle;\n",
       "    }\n",
       "\n",
       "    .dataframe tbody tr th {\n",
       "        vertical-align: top;\n",
       "    }\n",
       "\n",
       "    .dataframe thead th {\n",
       "        text-align: right;\n",
       "    }\n",
       "</style>\n",
       "<table border=\"1\" class=\"dataframe\">\n",
       "  <thead>\n",
       "    <tr style=\"text-align: right;\">\n",
       "      <th></th>\n",
       "      <th>Route</th>\n",
       "      <th>County</th>\n",
       "      <th>District</th>\n",
       "      <th>RouteType</th>\n",
       "      <th>Direction</th>\n",
       "      <th>geometry</th>\n",
       "    </tr>\n",
       "  </thead>\n",
       "  <tbody>\n",
       "    <tr>\n",
       "      <th>0</th>\n",
       "      <td>1</td>\n",
       "      <td>LA</td>\n",
       "      <td>7</td>\n",
       "      <td>State</td>\n",
       "      <td>NB</td>\n",
       "      <td>MULTILINESTRING ((-118.14322 33.79010, -118.14...</td>\n",
       "    </tr>\n",
       "    <tr>\n",
       "      <th>1</th>\n",
       "      <td>1</td>\n",
       "      <td>LA</td>\n",
       "      <td>7</td>\n",
       "      <td>State</td>\n",
       "      <td>SB</td>\n",
       "      <td>MULTILINESTRING ((-118.39630 33.94454, -118.39...</td>\n",
       "    </tr>\n",
       "    <tr>\n",
       "      <th>2</th>\n",
       "      <td>1</td>\n",
       "      <td>MEN</td>\n",
       "      <td>1</td>\n",
       "      <td>State</td>\n",
       "      <td>NB</td>\n",
       "      <td>MULTILINESTRING ((-123.81956 39.79816, -123.81...</td>\n",
       "    </tr>\n",
       "    <tr>\n",
       "      <th>3</th>\n",
       "      <td>1</td>\n",
       "      <td>MEN</td>\n",
       "      <td>1</td>\n",
       "      <td>State</td>\n",
       "      <td>SB</td>\n",
       "      <td>MULTILINESTRING ((-123.79591 39.69252, -123.79...</td>\n",
       "    </tr>\n",
       "    <tr>\n",
       "      <th>4</th>\n",
       "      <td>1</td>\n",
       "      <td>MON</td>\n",
       "      <td>5</td>\n",
       "      <td>State</td>\n",
       "      <td>NB</td>\n",
       "      <td>MULTILINESTRING ((-121.76641 36.77189, -121.76...</td>\n",
       "    </tr>\n",
       "  </tbody>\n",
       "</table>\n",
       "</div>"
      ],
      "text/plain": [
       "   Route County  District RouteType Direction  \\\n",
       "0      1     LA         7     State        NB   \n",
       "1      1     LA         7     State        SB   \n",
       "2      1    MEN         1     State        NB   \n",
       "3      1    MEN         1     State        SB   \n",
       "4      1    MON         5     State        NB   \n",
       "\n",
       "                                            geometry  \n",
       "0  MULTILINESTRING ((-118.14322 33.79010, -118.14...  \n",
       "1  MULTILINESTRING ((-118.39630 33.94454, -118.39...  \n",
       "2  MULTILINESTRING ((-123.81956 39.79816, -123.81...  \n",
       "3  MULTILINESTRING ((-123.79591 39.69252, -123.79...  \n",
       "4  MULTILINESTRING ((-121.76641 36.77189, -121.76...  "
      ]
     },
     "metadata": {},
     "output_type": "display_data"
    }
   ],
   "source": [
    "df_check(highways)"
   ]
  },
  {
   "cell_type": "code",
   "execution_count": 44,
   "id": "afbb089c-d2c5-4a54-a4f8-dde4a7b48d5c",
   "metadata": {},
   "outputs": [],
   "source": [
    "highways_d = highways.dissolve(by='Route').reset_index()"
   ]
  },
  {
   "cell_type": "code",
   "execution_count": 46,
   "id": "0bc1dd64-42f4-4da3-8edd-f54a77284552",
   "metadata": {},
   "outputs": [
    {
     "data": {
      "text/plain": [
       "'shape of df:(242, 6)'"
      ]
     },
     "metadata": {},
     "output_type": "display_data"
    },
    {
     "data": {
      "text/plain": [
       "\"type of :<class 'geopandas.geodataframe.GeoDataFrame'>\""
      ]
     },
     "metadata": {},
     "output_type": "display_data"
    },
    {
     "data": {
      "text/html": [
       "<div>\n",
       "<style scoped>\n",
       "    .dataframe tbody tr th:only-of-type {\n",
       "        vertical-align: middle;\n",
       "    }\n",
       "\n",
       "    .dataframe tbody tr th {\n",
       "        vertical-align: top;\n",
       "    }\n",
       "\n",
       "    .dataframe thead th {\n",
       "        text-align: right;\n",
       "    }\n",
       "</style>\n",
       "<table border=\"1\" class=\"dataframe\">\n",
       "  <thead>\n",
       "    <tr style=\"text-align: right;\">\n",
       "      <th></th>\n",
       "      <th>Route</th>\n",
       "      <th>geometry</th>\n",
       "      <th>County</th>\n",
       "      <th>District</th>\n",
       "      <th>RouteType</th>\n",
       "      <th>Direction</th>\n",
       "    </tr>\n",
       "  </thead>\n",
       "  <tbody>\n",
       "    <tr>\n",
       "      <th>0</th>\n",
       "      <td>1</td>\n",
       "      <td>MULTILINESTRING ((-118.14322 33.79010, -118.14...</td>\n",
       "      <td>LA</td>\n",
       "      <td>7</td>\n",
       "      <td>State</td>\n",
       "      <td>NB</td>\n",
       "    </tr>\n",
       "    <tr>\n",
       "      <th>1</th>\n",
       "      <td>2</td>\n",
       "      <td>MULTILINESTRING ((-118.23350 34.11859, -118.23...</td>\n",
       "      <td>LA</td>\n",
       "      <td>7</td>\n",
       "      <td>State</td>\n",
       "      <td>EB</td>\n",
       "    </tr>\n",
       "    <tr>\n",
       "      <th>2</th>\n",
       "      <td>3</td>\n",
       "      <td>MULTILINESTRING ((-122.67443 41.67834, -122.67...</td>\n",
       "      <td>SIS</td>\n",
       "      <td>2</td>\n",
       "      <td>State</td>\n",
       "      <td>NB</td>\n",
       "    </tr>\n",
       "    <tr>\n",
       "      <th>3</th>\n",
       "      <td>4</td>\n",
       "      <td>MULTILINESTRING ((-120.01535 38.48068, -120.01...</td>\n",
       "      <td>ALP</td>\n",
       "      <td>10</td>\n",
       "      <td>State</td>\n",
       "      <td>EB</td>\n",
       "    </tr>\n",
       "    <tr>\n",
       "      <th>4</th>\n",
       "      <td>5</td>\n",
       "      <td>MULTILINESTRING ((-122.06017 39.01932, -122.06...</td>\n",
       "      <td>COL</td>\n",
       "      <td>3</td>\n",
       "      <td>Interstate</td>\n",
       "      <td>NB</td>\n",
       "    </tr>\n",
       "  </tbody>\n",
       "</table>\n",
       "</div>"
      ],
      "text/plain": [
       "   Route                                           geometry County  District  \\\n",
       "0      1  MULTILINESTRING ((-118.14322 33.79010, -118.14...     LA         7   \n",
       "1      2  MULTILINESTRING ((-118.23350 34.11859, -118.23...     LA         7   \n",
       "2      3  MULTILINESTRING ((-122.67443 41.67834, -122.67...    SIS         2   \n",
       "3      4  MULTILINESTRING ((-120.01535 38.48068, -120.01...    ALP        10   \n",
       "4      5  MULTILINESTRING ((-122.06017 39.01932, -122.06...    COL         3   \n",
       "\n",
       "    RouteType Direction  \n",
       "0       State        NB  \n",
       "1       State        EB  \n",
       "2       State        NB  \n",
       "3       State        EB  \n",
       "4  Interstate        NB  "
      ]
     },
     "metadata": {},
     "output_type": "display_data"
    }
   ],
   "source": [
    "df_check(highways_d)"
   ]
  },
  {
   "cell_type": "code",
   "execution_count": null,
   "id": "a0a4bb9f-cf65-43b9-b404-b9f5dcd47f98",
   "metadata": {},
   "outputs": [],
   "source": []
  }
 ],
 "metadata": {
  "kernelspec": {
   "display_name": "Python 3 (ipykernel)",
   "language": "python",
   "name": "python3"
  },
  "language_info": {
   "codemirror_mode": {
    "name": "ipython",
    "version": 3
   },
   "file_extension": ".py",
   "mimetype": "text/x-python",
   "name": "python",
   "nbconvert_exporter": "python",
   "pygments_lexer": "ipython3",
   "version": "3.9.13"
  }
 },
 "nbformat": 4,
 "nbformat_minor": 5
}
