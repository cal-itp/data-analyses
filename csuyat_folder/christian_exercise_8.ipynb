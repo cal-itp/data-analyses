{
 "cells": [
  {
   "cell_type": "markdown",
   "id": "93e80df1-e5c7-4b91-82e8-7a83bcc7ae00",
   "metadata": {},
   "source": [
    "# Exercise 8: Put all the concepts in Exercise 7 together\n",
    "\n",
    "Skills:\n",
    "* Apply all the concepts covered in Exercise 7 for a research question. Know when to use what concept.\n",
    "\n",
    "References: \n",
    "* Exercise 7\n",
    "\n",
    "\n",
    "### To Do\n",
    "\n",
    "Narrow down the list of rail routes in CA to 3 groups. Use the SHN network to determine how much of the rail route runs near the SHN. We care only about rail routes that run entirely in CA (use stops to figure this out).\n",
    "\n",
    "**Near** the interstate, US highway, or state highway is defined by being within a quarter mile. For this exercise, the distinction between interstate, US highway, and state highway is not important; treat any road that shows up in the dataset as \"the SHN\".\n",
    "\n",
    "There are theoretically 3 groupings: \n",
    "* rail routes that are never within 0.25 miles of the SHN (>0.25\n",
    "* rail routes with > 0 but less than half of its length near the SHN (0<x<0.5)\n",
    "* rail routes with at least half of its length near the SHN(\n",
    "\n",
    "Provide a table and a chart showing how many rail routes fall into each of the 3 groups by district.\n",
    "\n",
    "Use a Markdown cell at the end to connect which geospatial concept was applied to which step of the process. The concepts that should be used are `projecting CRS`, `buffering`, `dissolve`, `clipping`, `spatial join`, `overlay`. "
   ]
  },
  {
   "cell_type": "markdown",
   "id": "40b483c5-233b-4547-956f-90f0f426f073",
   "metadata": {},
   "source": [
    "---\n",
    "---\n",
    "## Notes\n",
    "* all imported dfs are gdf \n",
    "* all with CRS 4326 (decimal degrees)\n",
    "* all with active geometry col set to `geometry`\n",
    "* all gdf filtered down to rail groups 0, 1 and 2\n",
    "* geometry type for each gdf\n",
    "    1. districts - polygon\n",
    "    2. ca_highways - multi line string \n",
    "    3. routes - line string\n",
    "    4. rail_routes - line string\n",
    "    5. stops - point\n",
    "    6. rail_stops - point\n",
    "* check the plots of all the gdfs\n",
    "* gdf not in CA\n",
    "    1. routes (nationwide)\n",
    "    2. rail routes (nationwide)\n",
    "    3. stops \n",
    "    4. rail stops \n",
    "---\n",
    "## Cleaning\n",
    "\n",
    "* COMPLETE project all gdf to \"EPSG:2229\" to get everything in feet\n",
    "* COMPELTE subset/filter all gdf to California only\n",
    "    1. dissolve districts map to be CA only.\n",
    "    2. clip the other gdf to CA map. \n",
    "        `ca` - California polygon\n",
    "        \n",
    "        `ca_routes` - transit routes in CA\n",
    "        \n",
    "        `ca_rail` - rail routes in CA for 0,1,2\n",
    "        \n",
    "        `ca_stops` - transit stops in CA\n",
    "        \n",
    "        `ca_rail_stops` - rail stops in CA for 0,1,2\n",
    "\n",
    "* prepare gdfs needed\n",
    "    1. COMPLETE buffer rail routes to 1320ft (.25miles)\n",
    "        `ca_rail_buffer`\n",
    "    2. dissolved all of those clipped gdf\n",
    "    \n",
    "        \n",
    "---\n",
    "\n",
    "\n",
    "## Breakdown of steps\n",
    "\n",
    "    \n",
    "\n",
    "### Use the SHN network to determine how much of the rail route runs near the SHN (<.25 miles)\n",
    "   * need: \n",
    "       1. `ca_rail_buffer`\n",
    "       2. `ca highway` \n",
    "       3. `district`\n",
    "\n",
    "   * steps:\n",
    "       1. create a GDF that combines the geomtry cols of the 3 gdf\n",
    "       Or make a join of 2 gdf, then overlay the 3rd?\n",
    "       overlay is for intersecting layers?\n",
    "    \n",
    "### rail routes that are never within 0.25 miles of the SHN\n",
    "    * need:\n",
    "        1. buffered route map\n",
    "        \n",
    "\n",
    "### rail routes with > 0 but less than half of its length near the SHN\n",
    "    1. buffered rail route to < half_len\n",
    "\n",
    "### rail routes with at least half of its length near the SHN\n",
    "    1. buffered rail route to >= half_len\n",
    "---\n",
    "---"
   ]
  },
  {
   "cell_type": "code",
   "execution_count": null,
   "id": "2bf3479c-9114-4bb7-be39-dad0127b2d8c",
   "metadata": {},
   "outputs": [],
   "source": [
    "import geopandas as gpd\n",
    "import intake\n",
    "import pandas as pd\n",
    "\n",
    "catalog = intake.open_catalog(\n",
    "    \"../_shared_utils/shared_utils/shared_data_catalog.yml\")"
   ]
  },
  {
   "cell_type": "code",
   "execution_count": null,
   "id": "4658193f-0de9-4287-8c33-cd21330ff8cb",
   "metadata": {},
   "outputs": [],
   "source": [
    "# Import data\n",
    "districts = catalog.caltrans_districts.read()\n",
    "ca_highways = catalog.state_highway_network.read()\n",
    "\n",
    "rail_group = ['0', '1', '2']\n",
    "routes = catalog.ca_transit_routes.read()\n",
    "rail_routes = routes[routes.route_type.isin(rail_group)\n",
    "                    ].reset_index(drop=True)\n",
    "\n",
    "stops = catalog.ca_transit_stops.read()\n",
    "rail_stops = stops[stops.route_type.isin(rail_group)\n",
    "                  ].reset_index(drop=True)"
   ]
  },
  {
   "cell_type": "markdown",
   "id": "f8886b93-7f47-4c93-ae94-96486606b19f",
   "metadata": {},
   "source": [
    "---\n",
    "\n",
    "## Geodataframe checks\n",
    "\n",
    "---"
   ]
  },
  {
   "cell_type": "code",
   "execution_count": null,
   "id": "b1e1a77d-3727-428a-a4eb-416a40481133",
   "metadata": {},
   "outputs": [],
   "source": [
    "#function test\n",
    "\n",
    "def gdf_check(gdf):(\n",
    "    print(f'Dataframe type is = {type(gdf)}'),\n",
    "    print(f'GDF shape is = {gdf.shape}'),\n",
    "    print(f'Active geometry col name is = {gdf.geometry.name}'),\n",
    "    display(gdf.head()),\n",
    "    display(gdf.plot()),\n",
    "    display(gdf.crs)\n",
    "    )"
   ]
  },
  {
   "cell_type": "code",
   "execution_count": null,
   "id": "4ffaf1b2-d702-4e93-9e41-0c8083372f87",
   "metadata": {},
   "outputs": [],
   "source": [
    "#gdf of caltrans districts\n",
    "#1 row for each districts, each district is a polygon\n",
    "\n",
    "gdf_check(districts)"
   ]
  },
  {
   "cell_type": "code",
   "execution_count": null,
   "id": "4df7f45e-394c-4cc0-84f8-0b7d05d90fb5",
   "metadata": {},
   "outputs": [],
   "source": [
    "#gdf of CA highways\n",
    "#each row is a segment of a route, \n",
    "\n",
    "gdf_check(ca_highways)"
   ]
  },
  {
   "cell_type": "code",
   "execution_count": null,
   "id": "0562f0d2-64a7-4d5a-90e2-215a9140fa01",
   "metadata": {},
   "outputs": [],
   "source": [
    "rail_group"
   ]
  },
  {
   "cell_type": "code",
   "execution_count": null,
   "id": "24123c29-d924-48f1-bcf6-59827f05b937",
   "metadata": {},
   "outputs": [],
   "source": [
    "#gdf of all transit routes, nation wide?\n",
    "\n",
    "gdf_check(routes)"
   ]
  },
  {
   "cell_type": "code",
   "execution_count": null,
   "id": "eed5a1a7-dc13-4b84-9f24-79b8df3c6b8e",
   "metadata": {},
   "outputs": [],
   "source": [
    "#gdf of all rail routes, for the sub rail-group\n",
    "\n",
    "gdf_check(rail_routes)"
   ]
  },
  {
   "cell_type": "code",
   "execution_count": null,
   "id": "0b5050c0-86a2-4721-89ee-c9d69ab2ce16",
   "metadata": {},
   "outputs": [],
   "source": [
    "#gdf of all transit stops\n",
    "gdf_check(stops)"
   ]
  },
  {
   "cell_type": "code",
   "execution_count": null,
   "id": "1fa75963-8382-498f-a415-cf843f7dcf75",
   "metadata": {},
   "outputs": [],
   "source": [
    "#gdf of all rail stops\n",
    "gdf_check(rail_stops)"
   ]
  },
  {
   "cell_type": "markdown",
   "id": "a41601a9-4c18-4e9c-b95b-4861439edfbd",
   "metadata": {},
   "source": [
    "---\n",
    "\n",
    "## Cleaning\n",
    "\n",
    "---"
   ]
  },
  {
   "cell_type": "code",
   "execution_count": null,
   "id": "3a802c81-b42d-4c52-a042-db6a455b7c75",
   "metadata": {},
   "outputs": [],
   "source": [
    "# projected CRS to 2229\n",
    "districts2229 = districts.to_crs('EPSG:2229')\n",
    "ca_highways2229 = ca_highways.to_crs('EPSG:2229')\n",
    "routes2229 = routes.to_crs('EPSG:2229')\n",
    "rail_routes2229 = rail_routes.to_crs('EPSG:2229')\n",
    "stops2229 = stops.to_crs('EPSG:2229')\n",
    "rail_stops2229 = rail_stops.to_crs('EPSG:2229')\n",
    "\n"
   ]
  },
  {
   "cell_type": "code",
   "execution_count": null,
   "id": "9f5e3796-bc87-42f1-a731-85e2b1105065",
   "metadata": {},
   "outputs": [],
   "source": [
    "#clip the remaining gdf to ca map\n",
    "#1. routes (nationwide)\n",
    "#2. rail routes (nationwide)\n",
    "#3. stops \n",
    "#4. rail stops\n",
    "#syntax: gdf.clip(gdf)\n",
    "\n",
    "ca_routes = routes2229.clip(ca)\n",
    "ca_rail = rail_routes2229.clip(ca)\n",
    "ca_stops = stops2229.clip(ca)\n",
    "ca_rail_stops = rail_stops2229.clip(ca)\n"
   ]
  },
  {
   "cell_type": "code",
   "execution_count": null,
   "id": "ccb7d987-6576-44d1-bdcd-e61cee0ab3dd",
   "metadata": {},
   "outputs": [],
   "source": [
    "# try GDF check on clipped gdf\n",
    "\n"
   ]
  },
  {
   "cell_type": "code",
   "execution_count": null,
   "id": "91da7ff4-cf10-4ddc-8d48-c79937eb4087",
   "metadata": {},
   "outputs": [],
   "source": [
    "# dissolve district to single CA map\n",
    "ca = districts2229.dissolve()\n",
    "gdf_check(ca)"
   ]
  },
  {
   "cell_type": "code",
   "execution_count": null,
   "id": "155014e4-0798-4937-974e-b9becc1c5544",
   "metadata": {},
   "outputs": [],
   "source": [
    "#What else can i dissolve?\n",
    "\n",
    "#Dissolving one by one\n",
    "\n",
    "ca_highway_d = ca_highways2229.dissolve()\n"
   ]
  },
  {
   "cell_type": "code",
   "execution_count": null,
   "id": "44c09727-c50b-43a4-bdef-d0dccfa264fe",
   "metadata": {},
   "outputs": [],
   "source": [
    "#update to ca_routes (clipped)\n",
    "\n",
    "routes_d= routes2229.dissolve()\n"
   ]
  },
  {
   "cell_type": "code",
   "execution_count": null,
   "id": "d668a4b0-b9c5-49df-a616-ddf10962c268",
   "metadata": {},
   "outputs": [],
   "source": [
    "#update to clipped rail routes\n",
    "rail_routes_d= rail_routes2229.dissolve()"
   ]
  },
  {
   "cell_type": "code",
   "execution_count": null,
   "id": "55f4ea2c-f369-4bb1-af9b-a0b023bfdfbc",
   "metadata": {},
   "outputs": [],
   "source": [
    "#update to clipped stops route\n",
    "\n",
    "stops_d = stops2229.dissolve()"
   ]
  },
  {
   "cell_type": "code",
   "execution_count": null,
   "id": "888dc051-b43f-4528-892f-96f1e4d9067d",
   "metadata": {},
   "outputs": [],
   "source": [
    "#update to clipped rail stops routes\n",
    "rail_stops_d = rail_stops2229.dissolve()"
   ]
  },
  {
   "cell_type": "code",
   "execution_count": null,
   "id": "42ae155d-88d9-4a53-a7b7-5e1218caabcf",
   "metadata": {},
   "outputs": [],
   "source": [
    "#dissolve check function\n",
    "\n",
    "def d_check(x):\n",
    "    display(x.head()),\n",
    "    display(x.plot())\n",
    "    return\n"
   ]
  },
  {
   "cell_type": "code",
   "execution_count": null,
   "id": "4a6464c9-409f-4af1-ad05-f15c77ff84c2",
   "metadata": {},
   "outputs": [],
   "source": [
    "d_check(highway_d)"
   ]
  },
  {
   "cell_type": "code",
   "execution_count": null,
   "id": "f0f2308c-4045-4d1a-9ab5-baecc9c1760a",
   "metadata": {},
   "outputs": [],
   "source": [
    "d_check(routes_d)"
   ]
  },
  {
   "cell_type": "code",
   "execution_count": null,
   "id": "413f7c2e-85cc-469b-8f18-a3dcfef1b4e8",
   "metadata": {},
   "outputs": [],
   "source": [
    "d_check(rail_routes_d)"
   ]
  },
  {
   "cell_type": "code",
   "execution_count": null,
   "id": "6f2f9c93-2b21-4a86-9639-1d6e57c5a536",
   "metadata": {},
   "outputs": [],
   "source": [
    "d_check(stops_d)"
   ]
  },
  {
   "cell_type": "code",
   "execution_count": null,
   "id": "44a2daeb-8403-4ade-8960-52ff5f914544",
   "metadata": {},
   "outputs": [],
   "source": [
    "d_check(rail_stops_d)"
   ]
  },
  {
   "cell_type": "code",
   "execution_count": null,
   "id": "b42d5b03-a2f0-4340-a4bf-c2d00b309887",
   "metadata": {},
   "outputs": [],
   "source": [
    "#### TRY DISSOLVING THE ABOVE!!!\n",
    "### THEN OVERLAY ON STUFF"
   ]
  },
  {
   "cell_type": "code",
   "execution_count": null,
   "id": "22adc627-7e0f-4cd8-8690-cfccf947f8f4",
   "metadata": {},
   "outputs": [],
   "source": [
    "d_check(ca_routes)"
   ]
  },
  {
   "cell_type": "code",
   "execution_count": null,
   "id": "9edbd133-82b5-4653-ba5d-d458bc61a557",
   "metadata": {},
   "outputs": [],
   "source": [
    "d_check(ca_rail)"
   ]
  },
  {
   "cell_type": "code",
   "execution_count": null,
   "id": "cd195f71-358c-48b7-8fdd-7c0eb99ee204",
   "metadata": {},
   "outputs": [],
   "source": [
    "d_check(ca_stops)"
   ]
  },
  {
   "cell_type": "code",
   "execution_count": null,
   "id": "25f55159-cf5d-4739-b3c0-0a5a19f1774b",
   "metadata": {},
   "outputs": [],
   "source": [
    "d_check(ca_rail_stops)"
   ]
  },
  {
   "cell_type": "markdown",
   "id": "bed7ab3c-2f98-467f-ab36-8ff130e49944",
   "metadata": {},
   "source": [
    "---\n",
    "\n",
    "analysis\n",
    "\n",
    "---"
   ]
  },
  {
   "cell_type": "code",
   "execution_count": null,
   "id": "e5747924-9e95-4d57-a1e2-b8935bd72e0c",
   "metadata": {},
   "outputs": [],
   "source": [
    "# buffering the rail route to 1320 ft.\n",
    "\n",
    "ca_rail_buffer = ca_rail.assign(g_buffer = ca_rail.geometry.buffer(1320))\n",
    "\n",
    "display(ca_rail_buffer.head())\n",
    "display(ca_rail_buffer.geometry.name)\n",
    "ca_rail_buffer.plot()"
   ]
  },
  {
   "cell_type": "code",
   "execution_count": null,
   "id": "000968b9-88f7-4c8d-b301-eebbc5fa2583",
   "metadata": {},
   "outputs": [],
   "source": [
    "ca_highways.plot()"
   ]
  },
  {
   "cell_type": "code",
   "execution_count": null,
   "id": "39a232ed-2875-40fe-a6fe-d63660ca1096",
   "metadata": {},
   "outputs": [],
   "source": [
    "# add new col for length and half-legth of rail route from ca_rail\n",
    "# may need this later to update buffer\n",
    "ca_rail = ca_rail.assign(length = ca_rail.geometry.length)\n",
    "ca_rail.head()"
   ]
  },
  {
   "cell_type": "code",
   "execution_count": null,
   "id": "cf7fa2a5-0a16-44d6-a3fc-b8d856ae8396",
   "metadata": {},
   "outputs": [],
   "source": [
    "#Test of overlay districts and ca_rail_buffer \n",
    "\n",
    "overlay = gpd.overlay(\n",
    "    districts2229,\n",
    "    ca_rail_buffer.set_geometry('g_buffer'),\n",
    "    how = 'difference',\n",
    "    keep_geom_type=True\n",
    ")\n"
   ]
  },
  {
   "cell_type": "code",
   "execution_count": null,
   "id": "e3bd9cb8-3889-4505-86e6-3f711624bc31",
   "metadata": {},
   "outputs": [],
   "source": [
    "districts2229"
   ]
  },
  {
   "cell_type": "code",
   "execution_count": null,
   "id": "cb290124-9714-4d54-a9fc-a4bc2728ee5e",
   "metadata": {},
   "outputs": [],
   "source": [
    "ca_rail_buffer.head(2)"
   ]
  },
  {
   "cell_type": "code",
   "execution_count": null,
   "id": "28fb4327-690b-437f-a0db-b8e5ecfa3075",
   "metadata": {},
   "outputs": [],
   "source": [
    "#got something when i overlay districts and rail routes!\n",
    "\n",
    "#inspect what happens to the geometry column after overlaying. are there any duplicate rows? if so, why.\n",
    "#are the routes the same after the overlay?\n",
    "#remember to use length, and % of something. \n",
    "# \n",
    "display(overlay)\n",
    "display(overlay.geometry.name)\n",
    "overlay.plot()"
   ]
  },
  {
   "cell_type": "code",
   "execution_count": null,
   "id": "6cea2ae5-d058-440c-ab47-311a300f30ea",
   "metadata": {},
   "outputs": [],
   "source": [
    "import matplotlib.pyplot as plt\n",
    "\n"
   ]
  },
  {
   "cell_type": "code",
   "execution_count": null,
   "id": "2b7f1db0-0fbf-44a7-9aec-cbe5d4616011",
   "metadata": {},
   "outputs": [],
   "source": [
    "#try dissolving highways2999.\n",
    "#overlay changes geometry values.\n",
    "#try overlay to get length of rail route that interects\n",
    "#try to find difference of overlayed geomety from SHN\n",
    "highways2229"
   ]
  },
  {
   "cell_type": "code",
   "execution_count": null,
   "id": "2107b415-753e-4af0-8158-f8916c12e8cc",
   "metadata": {},
   "outputs": [],
   "source": [
    "#found this via youtube tutorial.\n",
    "#maps the highways and rail routes over distrcts\n",
    "\n",
    "fig, ax = plt.subplots(figsize = (10,8))\n",
    "highways2229.plot(ax = ax, edgecolor = 'black')\n",
    "ca_rail_buffer.plot(ax= ax, edgecolor = 'white')\n",
    "districts2229.plot(ax = ax)"
   ]
  },
  {
   "cell_type": "code",
   "execution_count": null,
   "id": "9dd68671-c145-4276-8c27-0422252483bb",
   "metadata": {},
   "outputs": [],
   "source": []
  }
 ],
 "metadata": {
  "kernelspec": {
   "display_name": "Python 3 (ipykernel)",
   "language": "python",
   "name": "python3"
  },
  "language_info": {
   "codemirror_mode": {
    "name": "ipython",
    "version": 3
   },
   "file_extension": ".py",
   "mimetype": "text/x-python",
   "name": "python",
   "nbconvert_exporter": "python",
   "pygments_lexer": "ipython3",
   "version": "3.9.13"
  }
 },
 "nbformat": 4,
 "nbformat_minor": 5
}
