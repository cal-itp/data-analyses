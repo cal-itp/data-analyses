{
 "cells": [
  {
   "cell_type": "markdown",
   "id": "93e80df1-e5c7-4b91-82e8-7a83bcc7ae00",
   "metadata": {},
   "source": [
    "# Exercise 8: Put all the concepts in Exercise 7 together\n",
    "\n",
    "Skills:\n",
    "* Apply all the concepts covered in Exercise 7 for a research question. Know when to use what concept.\n",
    "\n",
    "References: \n",
    "* Exercise 7\n",
    "\n",
    "\n",
    "### To Do\n",
    "\n",
    "Narrow down the list of rail routes in CA to 3 groups. Use the SHN network to determine how much of the rail route runs near the SHN. We care only about rail routes that run entirely in CA (use stops to figure this out).\n",
    "\n",
    "**Near** the interstate, US highway, or state highway is defined by being within a quarter mile. For this exercise, the distinction between interstate, US highway, and state highway is not important; treat any road that shows up in the dataset as \"the SHN\".\n",
    "\n",
    "There are theoretically 3 groupings: \n",
    "* rail routes that are never within 0.25 miles of the SHN (>0.25\n",
    "* rail routes with > 0 but less than half of its length near the SHN (0<x<0.5)\n",
    "* rail routes with at least half of its length near the SHN(\n",
    "\n",
    "Provide a table and a chart showing how many rail routes fall into each of the 3 groups by district.\n",
    "\n",
    "Use a Markdown cell at the end to connect which geospatial concept was applied to which step of the process. The concepts that should be used are `projecting CRS`, `buffering`, `dissolve`, `clipping`, `spatial join`, `overlay`. "
   ]
  },
  {
   "cell_type": "markdown",
   "id": "40b483c5-233b-4547-956f-90f0f426f073",
   "metadata": {
    "tags": []
   },
   "source": [
    "---\n",
    "---\n",
    "## Notes\n",
    "* all imported dfs are gdf \n",
    "* all with CRS 4326 (decimal degrees)\n",
    "* all with active geometry col set to `geometry`\n",
    "* all gdf filtered down to rail groups 0, 1 and 2\n",
    "* geometry type for each gdf\n",
    "    1. districts - polygon\n",
    "    2. ca_highways - multi line string \n",
    "    3. routes - line string\n",
    "    4. rail_routes - line string\n",
    "    5. stops - point\n",
    "    6. rail_stops - point\n",
    "* check the plots of all the gdfs\n",
    "* gdf not in CA\n",
    "    1. routes (nationwide)\n",
    "    2. rail routes (nationwide)\n",
    "    3. stops \n",
    "    4. rail stops \n",
    "---\n",
    "## Cleaning\n",
    "\n",
    "COMPLETE project all gdf to `EPSG:2229` to get everything in feet and clip all gdf to California only\n",
    "\n",
    "COMPLETE 1. dissolve districts map to be CA only.\n",
    "\n",
    "    * `ca` - California polygon\n",
    "        \n",
    "COMPLETE 2. update `ca_highways` map to new CRS\n",
    "    \n",
    "COMPLETE 3. clip the other gdf to CA map. \n",
    "\n",
    "    * `ca_routes` - transit routes in CA\n",
    "    * `ca_rail` - rail routes in CA for 0,1,2\n",
    "    * `ca_stops` - transit stops in CA\n",
    "    * `ca_rail_stops` - rail stops in CA for 0,1,2\n",
    "     \n",
    "COMPLETE 4. dissolve these ca maps to see what you get\n",
    "\n",
    "    * `ca_routes_d`\n",
    "    * `ca_rail_d`\n",
    "    * `ca_stops_d`  \n",
    "    * `ca_rail_stops_d`\n",
    "\n",
    "5. check all new gdf against `gdf_check` function to ensure everything looks good\n",
    "   \n",
    "   \n",
    "### prepare gdfs needed\n",
    "1. COMPLETE buffer rail routes to 1320ft (.25miles)\n",
    "    * `ca_rail`\n",
    "2. dissolved all of those clipped gdf\n",
    "    \n",
    "        \n",
    "\n",
    "---\n",
    "---"
   ]
  },
  {
   "cell_type": "code",
   "execution_count": 1,
   "id": "2bf3479c-9114-4bb7-be39-dad0127b2d8c",
   "metadata": {},
   "outputs": [],
   "source": [
    "import geopandas as gpd\n",
    "import intake\n",
    "import pandas as pd\n",
    "\n",
    "catalog = intake.open_catalog(\n",
    "    \"../_shared_utils/shared_utils/shared_data_catalog.yml\")"
   ]
  },
  {
   "cell_type": "code",
   "execution_count": 2,
   "id": "4658193f-0de9-4287-8c33-cd21330ff8cb",
   "metadata": {},
   "outputs": [],
   "source": [
    "# Import data\n",
    "districts = catalog.caltrans_districts.read()\n",
    "ca_highways = catalog.state_highway_network.read()\n",
    "\n",
    "rail_group = ['0', '1', '2']\n",
    "routes = catalog.ca_transit_routes.read()\n",
    "rail_routes = routes[routes.route_type.isin(rail_group)\n",
    "                    ].reset_index(drop=True)\n",
    "\n",
    "stops = catalog.ca_transit_stops.read()\n",
    "rail_stops = stops[stops.route_type.isin(rail_group)\n",
    "                  ].reset_index(drop=True)"
   ]
  },
  {
   "cell_type": "markdown",
   "id": "f8886b93-7f47-4c93-ae94-96486606b19f",
   "metadata": {},
   "source": [
    "---\n",
    "\n",
    "## Geodataframe checks\n",
    "\n",
    "---"
   ]
  },
  {
   "cell_type": "code",
   "execution_count": 3,
   "id": "b1e1a77d-3727-428a-a4eb-416a40481133",
   "metadata": {},
   "outputs": [],
   "source": [
    "#function that checks multiple aspects of a gdf\n",
    "\n",
    "def gdf_check(gdf):(\n",
    "    print(f'Dataframe type is = {type(gdf)}'),\n",
    "    print(f'GDF shape is = {gdf.shape}'),\n",
    "    print(f'Active geometry col name is = {gdf.geometry.name}'),\n",
    "    display(gdf.head()),\n",
    "    display(gdf.plot()),\n",
    "    display(gdf.crs)\n",
    "    )"
   ]
  },
  {
   "cell_type": "code",
   "execution_count": null,
   "id": "4ffaf1b2-d702-4e93-9e41-0c8083372f87",
   "metadata": {},
   "outputs": [],
   "source": [
    "#gdf of caltrans districts\n",
    "#1 row for each districts, each district is a polygon\n",
    "\n",
    "    #gdf_check(districts)"
   ]
  },
  {
   "cell_type": "code",
   "execution_count": null,
   "id": "4df7f45e-394c-4cc0-84f8-0b7d05d90fb5",
   "metadata": {},
   "outputs": [],
   "source": [
    "#gdf of CA highways\n",
    "#each row is a segment of a route, \n",
    "\n",
    "    #gdf_check(ca_highways)"
   ]
  },
  {
   "cell_type": "code",
   "execution_count": null,
   "id": "0562f0d2-64a7-4d5a-90e2-215a9140fa01",
   "metadata": {},
   "outputs": [],
   "source": [
    "    #rail_group"
   ]
  },
  {
   "cell_type": "code",
   "execution_count": null,
   "id": "24123c29-d924-48f1-bcf6-59827f05b937",
   "metadata": {},
   "outputs": [],
   "source": [
    "#gdf of all transit routes, nation wide?\n",
    "\n",
    "    #gdf_check(routes)"
   ]
  },
  {
   "cell_type": "code",
   "execution_count": null,
   "id": "eed5a1a7-dc13-4b84-9f24-79b8df3c6b8e",
   "metadata": {},
   "outputs": [],
   "source": [
    "#gdf of all rail routes, for the sub rail-group\n",
    "\n",
    "    #gdf_check(rail_routes)"
   ]
  },
  {
   "cell_type": "code",
   "execution_count": null,
   "id": "0b5050c0-86a2-4721-89ee-c9d69ab2ce16",
   "metadata": {},
   "outputs": [],
   "source": [
    "#gdf of all transit stops\n",
    "\n",
    "    #gdf_check(stops)"
   ]
  },
  {
   "cell_type": "code",
   "execution_count": null,
   "id": "1fa75963-8382-498f-a415-cf843f7dcf75",
   "metadata": {},
   "outputs": [],
   "source": [
    "#gdf of all rail stops\n",
    "\n",
    "    #gdf_check(rail_stops)"
   ]
  },
  {
   "cell_type": "markdown",
   "id": "a41601a9-4c18-4e9c-b95b-4861439edfbd",
   "metadata": {},
   "source": [
    "---\n",
    "\n",
    "## Cleaning\n",
    "\n",
    "---"
   ]
  },
  {
   "cell_type": "code",
   "execution_count": 4,
   "id": "f8c3d2f3-4d2a-40dc-b252-fc6091f8257e",
   "metadata": {},
   "outputs": [],
   "source": [
    "#setting crs and dissolving district map to one polygon\n",
    "#only kept the following columns, other columns were left out.\n",
    "\n",
    "ca = districts[['geometry', 'Shape__Area', 'Shape__Length']].to_crs('EPSG:2229').dissolve()\n"
   ]
  },
  {
   "cell_type": "code",
   "execution_count": 5,
   "id": "3cdf710d-8cf9-40ed-92d9-6fa83b0b68c3",
   "metadata": {},
   "outputs": [],
   "source": [
    "#updating initial districts gdf to new CRS\n",
    "districts = districts.to_crs('EPSG:2229')\n",
    "\n"
   ]
  },
  {
   "cell_type": "code",
   "execution_count": 6,
   "id": "72ad9a06-3bd5-4c0c-938c-dfd2d41e0f01",
   "metadata": {},
   "outputs": [],
   "source": [
    "#update CRS for ca_highways\n",
    "ca_highways = ca_highways.to_crs('EPSG:2229')\n"
   ]
  },
  {
   "cell_type": "code",
   "execution_count": 7,
   "id": "4b2848cf-0514-47ac-a62e-93129df071eb",
   "metadata": {},
   "outputs": [],
   "source": [
    "#CA highway gdf with 2nd, buffered geometry col.\n",
    "ca_highways2 = ca_highways.assign(geom_buff = ca_highways.geometry.buffer(1320)).set_geometry('geom_buff')"
   ]
  },
  {
   "cell_type": "code",
   "execution_count": 8,
   "id": "2bfa265e-d9c9-4c56-9bd4-71b6c723a832",
   "metadata": {},
   "outputs": [],
   "source": [
    "#test to combine clipping and CRS\n",
    "#TEST WORKS! apply same to other gdfs\n",
    "\n",
    "#update CRS to feet and clip transit routes to CA. outcome is tranits routes in CA only\n",
    "ca_routes = routes.to_crs('EPSG:2229').clip(ca)"
   ]
  },
  {
   "cell_type": "code",
   "execution_count": 9,
   "id": "275dc180-84a9-4aac-b53a-f673e6801a99",
   "metadata": {},
   "outputs": [],
   "source": [
    "#clipped rail routes to CA only\n",
    "ca_rail = rail_routes.to_crs('EPSG:2229').clip(ca)"
   ]
  },
  {
   "cell_type": "code",
   "execution_count": 10,
   "id": "7f4a5147-f0dc-4653-9adb-33e3b4b332e4",
   "metadata": {},
   "outputs": [],
   "source": [
    "#ca_rail routes with new active geometry column buffered to .25mi\n",
    "\n",
    "ca_rail2 = ca_rail.assign(geom_buff = ca_rail.geometry.buffer(1320)).set_geometry('geom_buff')"
   ]
  },
  {
   "cell_type": "code",
   "execution_count": 11,
   "id": "89d439a1-89bf-4c34-ab8b-821cdc9c8486",
   "metadata": {},
   "outputs": [],
   "source": [
    "#clipped transit stops to CA only\n",
    "ca_stops = stops.to_crs('EPSG:2229').clip(ca)"
   ]
  },
  {
   "cell_type": "code",
   "execution_count": 12,
   "id": "1505935e-55f1-4e3e-a9d1-1b9a3ad3a527",
   "metadata": {},
   "outputs": [],
   "source": [
    "#clipped rail stops to CA only\n",
    "ca_rail_stops = rail_stops.to_crs('EPSG:2229').clip(ca)"
   ]
  },
  {
   "cell_type": "markdown",
   "id": "13460575-509a-4387-8dac-d6501aa9ac56",
   "metadata": {},
   "source": [
    "---\n",
    "\n",
    "Checking new gdfs after clipping and new CRS\n",
    "\n",
    "---"
   ]
  },
  {
   "cell_type": "code",
   "execution_count": null,
   "id": "9e981788-2d34-486d-a378-ee4ba7c361fe",
   "metadata": {},
   "outputs": [],
   "source": [
    "#check CA gdf, should be a single polygon of CA\n",
    "gdf_check(ca)"
   ]
  },
  {
   "cell_type": "code",
   "execution_count": null,
   "id": "8ba9c62f-7468-4d8f-be5c-4f9fae8bd748",
   "metadata": {},
   "outputs": [],
   "source": [
    "gdf_check(districts)"
   ]
  },
  {
   "cell_type": "code",
   "execution_count": null,
   "id": "25bbd4d5-589a-48ac-9243-7398274684a5",
   "metadata": {},
   "outputs": [],
   "source": [
    "gdf_check(ca_highways)"
   ]
  },
  {
   "cell_type": "code",
   "execution_count": null,
   "id": "66e51719-101b-4517-a03f-3c0b38644dc7",
   "metadata": {},
   "outputs": [],
   "source": [
    "gdf_check(ca_highways2)"
   ]
  },
  {
   "cell_type": "code",
   "execution_count": null,
   "id": "ccb7d987-6576-44d1-bdcd-e61cee0ab3dd",
   "metadata": {},
   "outputs": [],
   "source": [
    "gdf_check(ca_routes)"
   ]
  },
  {
   "cell_type": "code",
   "execution_count": null,
   "id": "3b5992eb-099d-4e76-8853-18e70a0d8d3d",
   "metadata": {},
   "outputs": [],
   "source": [
    "gdf_check(ca_rail)"
   ]
  },
  {
   "cell_type": "code",
   "execution_count": null,
   "id": "fe38250a-2ae2-4cdd-8b36-f40ca2d7ec85",
   "metadata": {},
   "outputs": [],
   "source": [
    "gdf_check(ca_rail2)"
   ]
  },
  {
   "cell_type": "code",
   "execution_count": null,
   "id": "797ce54b-862a-4a6b-a9f5-de74640e79d7",
   "metadata": {},
   "outputs": [],
   "source": [
    "gdf_check(ca_stops)"
   ]
  },
  {
   "cell_type": "code",
   "execution_count": null,
   "id": "ae1ce740-84c4-4860-863c-4a4d4b416e44",
   "metadata": {},
   "outputs": [],
   "source": [
    "gdf_check(ca_rail_stops)"
   ]
  },
  {
   "cell_type": "markdown",
   "id": "e4784bf4-45db-4daa-a930-63b66e5195a5",
   "metadata": {
    "tags": []
   },
   "source": [
    "---\n",
    "\n",
    "Dissolve and check new gdfs\n",
    "\n",
    "---\n"
   ]
  },
  {
   "cell_type": "code",
   "execution_count": null,
   "id": "155014e4-0798-4937-974e-b9becc1c5544",
   "metadata": {
    "tags": []
   },
   "outputs": [],
   "source": [
    "#Dissolving one by one\n",
    "\n",
    "ca_highway_d = ca_highways.dissolve()"
   ]
  },
  {
   "cell_type": "code",
   "execution_count": null,
   "id": "44c09727-c50b-43a4-bdef-d0dccfa264fe",
   "metadata": {},
   "outputs": [],
   "source": [
    "routes_d= ca_routes.dissolve()"
   ]
  },
  {
   "cell_type": "code",
   "execution_count": null,
   "id": "d668a4b0-b9c5-49df-a616-ddf10962c268",
   "metadata": {},
   "outputs": [],
   "source": [
    "rail_d= ca_rail.dissolve()"
   ]
  },
  {
   "cell_type": "code",
   "execution_count": null,
   "id": "55f4ea2c-f369-4bb1-af9b-a0b023bfdfbc",
   "metadata": {},
   "outputs": [],
   "source": [
    "stops_d = ca_stops.dissolve()"
   ]
  },
  {
   "cell_type": "code",
   "execution_count": null,
   "id": "888dc051-b43f-4528-892f-96f1e4d9067d",
   "metadata": {},
   "outputs": [],
   "source": [
    "rail_stops_d = ca_rail_stops.dissolve()"
   ]
  },
  {
   "cell_type": "markdown",
   "id": "9af57434-91bd-4716-82d6-18b21dc19fd6",
   "metadata": {},
   "source": [
    "---"
   ]
  },
  {
   "cell_type": "code",
   "execution_count": null,
   "id": "08bcaced-121b-4677-99da-bf3187a5e805",
   "metadata": {},
   "outputs": [],
   "source": [
    "gdf_check(ca_highway_d)"
   ]
  },
  {
   "cell_type": "code",
   "execution_count": null,
   "id": "4bacf185-a373-42f1-ac88-ab4e18eea631",
   "metadata": {},
   "outputs": [],
   "source": [
    "gdf_check(routes_d)"
   ]
  },
  {
   "cell_type": "code",
   "execution_count": null,
   "id": "35b468fc-d205-443d-8a83-601839f7926d",
   "metadata": {},
   "outputs": [],
   "source": [
    "gdf_check(rail_d)"
   ]
  },
  {
   "cell_type": "code",
   "execution_count": null,
   "id": "0c9acbf4-f3a9-4a72-ba5c-0736d795d5bb",
   "metadata": {},
   "outputs": [],
   "source": [
    "gdf_check(stops_d)"
   ]
  },
  {
   "cell_type": "code",
   "execution_count": null,
   "id": "46cf823c-122e-47f9-a2d3-5dc91a01d77a",
   "metadata": {},
   "outputs": [],
   "source": [
    "gdf_check(rail_stops_d)"
   ]
  },
  {
   "cell_type": "code",
   "execution_count": null,
   "id": "b42d5b03-a2f0-4340-a4bf-c2d00b309887",
   "metadata": {},
   "outputs": [],
   "source": [
    "### try to overlay the dissolve gdfs over stuff"
   ]
  },
  {
   "cell_type": "markdown",
   "id": "bed7ab3c-2f98-467f-ab36-8ff130e49944",
   "metadata": {},
   "source": [
    "---\n",
    "---\n",
    "\n",
    "\n",
    "## Breakdown of steps\n",
    "\n",
    "### Use the SHN network to determine how much of the rail route runs near the SHN (<.25 miles)\n",
    "* need: \n",
    "    1. `ca_rail2` (buffered to .25mi)\n",
    "    2. `ca_highway` \n",
    "    3. `district`\n",
    "\n",
    "* steps:\n",
    "    1. create a GDF that combines the geomtry cols of the 3 gdf\n",
    "    Or make a join of 2 gdf, then overlay the 3rd?\n",
    "        * can i join 2 routes/line together, then overlay on district?\n",
    "    \n",
    "    \n",
    "### (list of) rail routes that are never within 0.25 miles of the SHN\n",
    "    * need:\n",
    "        1. rail route map\n",
    "        2. highway map\n",
    "        need to buffer highway map to 1320ft.\n",
    "        use overlay `systemic difference` to get get rai routes THAT DO NOT touch the buffered highway?!\n",
    "        \n",
    "\n",
    "### (list of) rail routes with > 0 but less than half of its length near the SHN\n",
    "    1. buffered rail route to < half_len\n",
    "    \n",
    "\n",
    "### (list of) rail routes with at least half of its length near the SHN\n",
    "    1. buffered rail route to >= half_len\n",
    "\n",
    "---\n",
    "---"
   ]
  },
  {
   "cell_type": "code",
   "execution_count": 17,
   "id": "a5f73b46-1c6a-4f99-b0b4-32df9c1d4b94",
   "metadata": {},
   "outputs": [
    {
     "name": "stdout",
     "output_type": "stream",
     "text": [
      "Dataframe type is = <class 'geopandas.geodataframe.GeoDataFrame'>\n",
      "GDF shape is = (145, 11)\n",
      "Active geometry col name is = geom_buff\n"
     ]
    },
    {
     "data": {
      "text/html": [
       "<div>\n",
       "<style scoped>\n",
       "    .dataframe tbody tr th:only-of-type {\n",
       "        vertical-align: middle;\n",
       "    }\n",
       "\n",
       "    .dataframe tbody tr th {\n",
       "        vertical-align: top;\n",
       "    }\n",
       "\n",
       "    .dataframe thead th {\n",
       "        text-align: right;\n",
       "    }\n",
       "</style>\n",
       "<table border=\"1\" class=\"dataframe\">\n",
       "  <thead>\n",
       "    <tr style=\"text-align: right;\">\n",
       "      <th></th>\n",
       "      <th>org_id</th>\n",
       "      <th>agency</th>\n",
       "      <th>route_id</th>\n",
       "      <th>route_type</th>\n",
       "      <th>route_name</th>\n",
       "      <th>shape_id</th>\n",
       "      <th>n_trips</th>\n",
       "      <th>base64_url</th>\n",
       "      <th>uri</th>\n",
       "      <th>geometry</th>\n",
       "      <th>geom_buff</th>\n",
       "    </tr>\n",
       "  </thead>\n",
       "  <tbody>\n",
       "    <tr>\n",
       "      <th>167</th>\n",
       "      <td>recPnGkwdpnr8jmHB</td>\n",
       "      <td>Los Angeles County Metropolitan Transportation...</td>\n",
       "      <td>805</td>\n",
       "      <td>1</td>\n",
       "      <td>Metro D-Line</td>\n",
       "      <td>805EB_190513</td>\n",
       "      <td>89</td>\n",
       "      <td>aHR0cHM6Ly9naXRsYWIuY29tL0xBQ01UQS9ndGZzX3JhaW...</td>\n",
       "      <td>https://gitlab.com/LACMTA/gtfs_rail/raw/master...</td>\n",
       "      <td>LINESTRING (6467811.689 1844958.751, 6467905.8...</td>\n",
       "      <td>POLYGON ((6467900.569 1846279.119, 6468010.695...</td>\n",
       "    </tr>\n",
       "    <tr>\n",
       "      <th>168</th>\n",
       "      <td>recPnGkwdpnr8jmHB</td>\n",
       "      <td>Los Angeles County Metropolitan Transportation...</td>\n",
       "      <td>805</td>\n",
       "      <td>1</td>\n",
       "      <td>Metro D-Line</td>\n",
       "      <td>805WB_190513</td>\n",
       "      <td>88</td>\n",
       "      <td>aHR0cHM6Ly9naXRsYWIuY29tL0xBQ01UQS9ndGZzX3JhaW...</td>\n",
       "      <td>https://gitlab.com/LACMTA/gtfs_rail/raw/master...</td>\n",
       "      <td>LINESTRING (6491361.499 1839175.379, 6491362.1...</td>\n",
       "      <td>POLYGON ((6471162.297 1846334.759, 6471168.277...</td>\n",
       "    </tr>\n",
       "    <tr>\n",
       "      <th>161</th>\n",
       "      <td>recPnGkwdpnr8jmHB</td>\n",
       "      <td>Los Angeles County Metropolitan Transportation...</td>\n",
       "      <td>802</td>\n",
       "      <td>1</td>\n",
       "      <td>Metro B-Line</td>\n",
       "      <td>802EB_190513</td>\n",
       "      <td>91</td>\n",
       "      <td>aHR0cHM6Ly9naXRsYWIuY29tL0xBQ01UQS9ndGZzX3JhaW...</td>\n",
       "      <td>https://gitlab.com/LACMTA/gtfs_rail/raw/master...</td>\n",
       "      <td>LINESTRING (6447247.135 1884754.987, 6447751.8...</td>\n",
       "      <td>POLYGON ((6448933.329 1884330.766, 6449168.390...</td>\n",
       "    </tr>\n",
       "    <tr>\n",
       "      <th>162</th>\n",
       "      <td>recPnGkwdpnr8jmHB</td>\n",
       "      <td>Los Angeles County Metropolitan Transportation...</td>\n",
       "      <td>802</td>\n",
       "      <td>1</td>\n",
       "      <td>Metro B-Line</td>\n",
       "      <td>802WB_190513</td>\n",
       "      <td>91</td>\n",
       "      <td>aHR0cHM6Ly9naXRsYWIuY29tL0xBQ01UQS9ndGZzX3JhaW...</td>\n",
       "      <td>https://gitlab.com/LACMTA/gtfs_rail/raw/master...</td>\n",
       "      <td>LINESTRING (6491361.510 1839175.378, 6491362.2...</td>\n",
       "      <td>POLYGON ((6452950.740 1871989.509, 6452949.298...</td>\n",
       "    </tr>\n",
       "    <tr>\n",
       "      <th>147</th>\n",
       "      <td>recC5CT95EufmQCXr</td>\n",
       "      <td>Santa Clara Valley Transportation Authority</td>\n",
       "      <td>BlueS</td>\n",
       "      <td>0</td>\n",
       "      <td>Due to construction, portions of Light Rail re...</td>\n",
       "      <td>110754</td>\n",
       "      <td>2</td>\n",
       "      <td>aHR0cHM6Ly9hcGkuNTExLm9yZy90cmFuc2l0L2RhdGFmZW...</td>\n",
       "      <td>https://api.511.org/transit/datafeeds?api_key=...</td>\n",
       "      <td>LINESTRING (5426631.150 3064619.004, 5427824.4...</td>\n",
       "      <td>POLYGON ((5427478.397 3055391.367, 5427457.482...</td>\n",
       "    </tr>\n",
       "  </tbody>\n",
       "</table>\n",
       "</div>"
      ],
      "text/plain": [
       "                org_id                                             agency  \\\n",
       "167  recPnGkwdpnr8jmHB  Los Angeles County Metropolitan Transportation...   \n",
       "168  recPnGkwdpnr8jmHB  Los Angeles County Metropolitan Transportation...   \n",
       "161  recPnGkwdpnr8jmHB  Los Angeles County Metropolitan Transportation...   \n",
       "162  recPnGkwdpnr8jmHB  Los Angeles County Metropolitan Transportation...   \n",
       "147  recC5CT95EufmQCXr        Santa Clara Valley Transportation Authority   \n",
       "\n",
       "    route_id route_type                                         route_name  \\\n",
       "167      805          1                                       Metro D-Line   \n",
       "168      805          1                                       Metro D-Line   \n",
       "161      802          1                                       Metro B-Line   \n",
       "162      802          1                                       Metro B-Line   \n",
       "147    BlueS          0  Due to construction, portions of Light Rail re...   \n",
       "\n",
       "         shape_id  n_trips                                         base64_url  \\\n",
       "167  805EB_190513       89  aHR0cHM6Ly9naXRsYWIuY29tL0xBQ01UQS9ndGZzX3JhaW...   \n",
       "168  805WB_190513       88  aHR0cHM6Ly9naXRsYWIuY29tL0xBQ01UQS9ndGZzX3JhaW...   \n",
       "161  802EB_190513       91  aHR0cHM6Ly9naXRsYWIuY29tL0xBQ01UQS9ndGZzX3JhaW...   \n",
       "162  802WB_190513       91  aHR0cHM6Ly9naXRsYWIuY29tL0xBQ01UQS9ndGZzX3JhaW...   \n",
       "147        110754        2  aHR0cHM6Ly9hcGkuNTExLm9yZy90cmFuc2l0L2RhdGFmZW...   \n",
       "\n",
       "                                                   uri  \\\n",
       "167  https://gitlab.com/LACMTA/gtfs_rail/raw/master...   \n",
       "168  https://gitlab.com/LACMTA/gtfs_rail/raw/master...   \n",
       "161  https://gitlab.com/LACMTA/gtfs_rail/raw/master...   \n",
       "162  https://gitlab.com/LACMTA/gtfs_rail/raw/master...   \n",
       "147  https://api.511.org/transit/datafeeds?api_key=...   \n",
       "\n",
       "                                              geometry  \\\n",
       "167  LINESTRING (6467811.689 1844958.751, 6467905.8...   \n",
       "168  LINESTRING (6491361.499 1839175.379, 6491362.1...   \n",
       "161  LINESTRING (6447247.135 1884754.987, 6447751.8...   \n",
       "162  LINESTRING (6491361.510 1839175.378, 6491362.2...   \n",
       "147  LINESTRING (5426631.150 3064619.004, 5427824.4...   \n",
       "\n",
       "                                             geom_buff  \n",
       "167  POLYGON ((6467900.569 1846279.119, 6468010.695...  \n",
       "168  POLYGON ((6471162.297 1846334.759, 6471168.277...  \n",
       "161  POLYGON ((6448933.329 1884330.766, 6449168.390...  \n",
       "162  POLYGON ((6452950.740 1871989.509, 6452949.298...  \n",
       "147  POLYGON ((5427478.397 3055391.367, 5427457.482...  "
      ]
     },
     "metadata": {},
     "output_type": "display_data"
    },
    {
     "data": {
      "text/plain": [
       "<AxesSubplot:>"
      ]
     },
     "metadata": {},
     "output_type": "display_data"
    },
    {
     "data": {
      "text/plain": [
       "<Projected CRS: EPSG:2229>\n",
       "Name: NAD83 / California zone 5 (ftUS)\n",
       "Axis Info [cartesian]:\n",
       "- X[east]: Easting (US survey foot)\n",
       "- Y[north]: Northing (US survey foot)\n",
       "Area of Use:\n",
       "- name: United States (USA) - California - counties Kern; Los Angeles; San Bernardino; San Luis Obispo; Santa Barbara; Ventura.\n",
       "- bounds: (-121.42, 32.76, -114.12, 35.81)\n",
       "Coordinate Operation:\n",
       "- name: SPCS83 California zone 5 (US Survey feet)\n",
       "- method: Lambert Conic Conformal (2SP)\n",
       "Datum: North American Datum 1983\n",
       "- Ellipsoid: GRS 1980\n",
       "- Prime Meridian: Greenwich"
      ]
     },
     "metadata": {},
     "output_type": "display_data"
    },
    {
     "data": {
      "image/png": "[encoded data removed]",
      "text/plain": [
       "<Figure size 640x480 with 1 Axes>"
      ]
     },
     "metadata": {},
     "output_type": "display_data"
    }
   ],
   "source": [
    "#(list of) rail routes that are never within 0.25 miles of the SHN\n",
    "\n",
    "#get CA rail routes - 'ca_rail2' (with buffered col)\n",
    "#get CA highway map - `ca_highways2' (with buffered col)\n",
    "#add new geom column to highway map that buffers to 1320ft\n",
    "#use overlay to find rail routes that do not touch buffered geom col\n",
    "\n",
    "gdf_check(ca_rail2)\n"
   ]
  },
  {
   "cell_type": "code",
   "execution_count": 16,
   "id": "c6ef6c31-68c8-4eb5-af7c-207c82566042",
   "metadata": {},
   "outputs": [
    {
     "name": "stdout",
     "output_type": "stream",
     "text": [
      "Dataframe type is = <class 'geopandas.geodataframe.GeoDataFrame'>\n",
      "GDF shape is = (1052, 7)\n",
      "Active geometry col name is = geom_buff\n"
     ]
    },
    {
     "data": {
      "text/html": [
       "<div>\n",
       "<style scoped>\n",
       "    .dataframe tbody tr th:only-of-type {\n",
       "        vertical-align: middle;\n",
       "    }\n",
       "\n",
       "    .dataframe tbody tr th {\n",
       "        vertical-align: top;\n",
       "    }\n",
       "\n",
       "    .dataframe thead th {\n",
       "        text-align: right;\n",
       "    }\n",
       "</style>\n",
       "<table border=\"1\" class=\"dataframe\">\n",
       "  <thead>\n",
       "    <tr style=\"text-align: right;\">\n",
       "      <th></th>\n",
       "      <th>Route</th>\n",
       "      <th>County</th>\n",
       "      <th>District</th>\n",
       "      <th>RouteType</th>\n",
       "      <th>Direction</th>\n",
       "      <th>geometry</th>\n",
       "      <th>geom_buff</th>\n",
       "    </tr>\n",
       "  </thead>\n",
       "  <tbody>\n",
       "    <tr>\n",
       "      <th>0</th>\n",
       "      <td>1</td>\n",
       "      <td>LA</td>\n",
       "      <td>7</td>\n",
       "      <td>State</td>\n",
       "      <td>NB</td>\n",
       "      <td>MULTILINESTRING ((6518147.781 1746024.206, 651...</td>\n",
       "      <td>MULTIPOLYGON (((6418422.544 1822537.036, 64183...</td>\n",
       "    </tr>\n",
       "    <tr>\n",
       "      <th>1</th>\n",
       "      <td>1</td>\n",
       "      <td>LA</td>\n",
       "      <td>7</td>\n",
       "      <td>State</td>\n",
       "      <td>SB</td>\n",
       "      <td>MULTILINESTRING ((6441469.111 1802436.519, 644...</td>\n",
       "      <td>MULTIPOLYGON (((6419949.608 1824653.780, 64202...</td>\n",
       "    </tr>\n",
       "    <tr>\n",
       "      <th>2</th>\n",
       "      <td>1</td>\n",
       "      <td>MEN</td>\n",
       "      <td>1</td>\n",
       "      <td>State</td>\n",
       "      <td>NB</td>\n",
       "      <td>MULTILINESTRING ((4921021.829 3983216.471, 492...</td>\n",
       "      <td>POLYGON ((4911745.763 3829424.582, 4911745.763...</td>\n",
       "    </tr>\n",
       "    <tr>\n",
       "      <th>3</th>\n",
       "      <td>1</td>\n",
       "      <td>MEN</td>\n",
       "      <td>1</td>\n",
       "      <td>State</td>\n",
       "      <td>SB</td>\n",
       "      <td>MULTILINESTRING ((4925456.388 3944268.826, 492...</td>\n",
       "      <td>POLYGON ((4911745.763 3829424.582, 4911745.763...</td>\n",
       "    </tr>\n",
       "    <tr>\n",
       "      <th>4</th>\n",
       "      <td>1</td>\n",
       "      <td>MON</td>\n",
       "      <td>5</td>\n",
       "      <td>State</td>\n",
       "      <td>NB</td>\n",
       "      <td>MULTILINESTRING ((5458132.055 2852112.660, 545...</td>\n",
       "      <td>POLYGON ((5402587.103 2750654.347, 5402573.418...</td>\n",
       "    </tr>\n",
       "  </tbody>\n",
       "</table>\n",
       "</div>"
      ],
      "text/plain": [
       "   Route County  District RouteType Direction  \\\n",
       "0      1     LA         7     State        NB   \n",
       "1      1     LA         7     State        SB   \n",
       "2      1    MEN         1     State        NB   \n",
       "3      1    MEN         1     State        SB   \n",
       "4      1    MON         5     State        NB   \n",
       "\n",
       "                                            geometry  \\\n",
       "0  MULTILINESTRING ((6518147.781 1746024.206, 651...   \n",
       "1  MULTILINESTRING ((6441469.111 1802436.519, 644...   \n",
       "2  MULTILINESTRING ((4921021.829 3983216.471, 492...   \n",
       "3  MULTILINESTRING ((4925456.388 3944268.826, 492...   \n",
       "4  MULTILINESTRING ((5458132.055 2852112.660, 545...   \n",
       "\n",
       "                                           geom_buff  \n",
       "0  MULTIPOLYGON (((6418422.544 1822537.036, 64183...  \n",
       "1  MULTIPOLYGON (((6419949.608 1824653.780, 64202...  \n",
       "2  POLYGON ((4911745.763 3829424.582, 4911745.763...  \n",
       "3  POLYGON ((4911745.763 3829424.582, 4911745.763...  \n",
       "4  POLYGON ((5402587.103 2750654.347, 5402573.418...  "
      ]
     },
     "metadata": {},
     "output_type": "display_data"
    },
    {
     "data": {
      "text/plain": [
       "<AxesSubplot:>"
      ]
     },
     "metadata": {},
     "output_type": "display_data"
    },
    {
     "data": {
      "text/plain": [
       "<Projected CRS: EPSG:2229>\n",
       "Name: NAD83 / California zone 5 (ftUS)\n",
       "Axis Info [cartesian]:\n",
       "- X[east]: Easting (US survey foot)\n",
       "- Y[north]: Northing (US survey foot)\n",
       "Area of Use:\n",
       "- name: United States (USA) - California - counties Kern; Los Angeles; San Bernardino; San Luis Obispo; Santa Barbara; Ventura.\n",
       "- bounds: (-121.42, 32.76, -114.12, 35.81)\n",
       "Coordinate Operation:\n",
       "- name: SPCS83 California zone 5 (US Survey feet)\n",
       "- method: Lambert Conic Conformal (2SP)\n",
       "Datum: North American Datum 1983\n",
       "- Ellipsoid: GRS 1980\n",
       "- Prime Meridian: Greenwich"
      ]
     },
     "metadata": {},
     "output_type": "display_data"
    },
    {
     "data": {
      "image/png": "[encoded data removed]",
      "text/plain": [
       "<Figure size 640x480 with 1 Axes>"
      ]
     },
     "metadata": {},
     "output_type": "display_data"
    }
   ],
   "source": [
    "gdf_check(ca_highways2)"
   ]
  },
  {
   "cell_type": "code",
   "execution_count": 21,
   "id": "bc52e7e3-0539-4c83-9d3c-33afedfb4596",
   "metadata": {},
   "outputs": [],
   "source": [
    "#test overlay of `ca_rail2` and `ca_highways2`, Result: a map of rail routes that are NOT touching a highway\n",
    "\n",
    "#testing different orders for overlays and how=\n",
    "\n",
    "highway_rail = gpd.overlay(ca_highways2, ca_rail2, how='symmetric_difference', keep_geom_type=True)\n",
    "rail_highway = gpd.overlay(ca_rail2, ca_highways2, how='symmetric_difference', keep_geom_type=True)"
   ]
  },
  {
   "cell_type": "code",
   "execution_count": 26,
   "id": "02bc0dc7-dddc-433a-a3a4-d310aa7a9b68",
   "metadata": {},
   "outputs": [],
   "source": [
    "def test(x,y):\n",
    "    display(x.head()),\n",
    "    display(y.head()),\n",
    "    display(x.plot(color='red')),\n",
    "    display(y.plot(color='green'))\n",
    "    return"
   ]
  },
  {
   "cell_type": "code",
   "execution_count": 27,
   "id": "e5a50c9d-60df-4d8b-81ad-7b8d48279456",
   "metadata": {},
   "outputs": [
    {
     "data": {
      "text/html": [
       "<div>\n",
       "<style scoped>\n",
       "    .dataframe tbody tr th:only-of-type {\n",
       "        vertical-align: middle;\n",
       "    }\n",
       "\n",
       "    .dataframe tbody tr th {\n",
       "        vertical-align: top;\n",
       "    }\n",
       "\n",
       "    .dataframe thead th {\n",
       "        text-align: right;\n",
       "    }\n",
       "</style>\n",
       "<table border=\"1\" class=\"dataframe\">\n",
       "  <thead>\n",
       "    <tr style=\"text-align: right;\">\n",
       "      <th></th>\n",
       "      <th>Route</th>\n",
       "      <th>County</th>\n",
       "      <th>District</th>\n",
       "      <th>RouteType</th>\n",
       "      <th>Direction</th>\n",
       "      <th>org_id</th>\n",
       "      <th>agency</th>\n",
       "      <th>route_id</th>\n",
       "      <th>route_type</th>\n",
       "      <th>route_name</th>\n",
       "      <th>shape_id</th>\n",
       "      <th>n_trips</th>\n",
       "      <th>base64_url</th>\n",
       "      <th>uri</th>\n",
       "      <th>geometry</th>\n",
       "    </tr>\n",
       "  </thead>\n",
       "  <tbody>\n",
       "    <tr>\n",
       "      <th>0</th>\n",
       "      <td>1.0</td>\n",
       "      <td>LA</td>\n",
       "      <td>7.0</td>\n",
       "      <td>State</td>\n",
       "      <td>NB</td>\n",
       "      <td>NaN</td>\n",
       "      <td>NaN</td>\n",
       "      <td>NaN</td>\n",
       "      <td>NaN</td>\n",
       "      <td>NaN</td>\n",
       "      <td>NaN</td>\n",
       "      <td>NaN</td>\n",
       "      <td>NaN</td>\n",
       "      <td>NaN</td>\n",
       "      <td>MULTIPOLYGON (((6506105.811 1747298.179, 65061...</td>\n",
       "    </tr>\n",
       "    <tr>\n",
       "      <th>1</th>\n",
       "      <td>1.0</td>\n",
       "      <td>LA</td>\n",
       "      <td>7.0</td>\n",
       "      <td>State</td>\n",
       "      <td>SB</td>\n",
       "      <td>NaN</td>\n",
       "      <td>NaN</td>\n",
       "      <td>NaN</td>\n",
       "      <td>NaN</td>\n",
       "      <td>NaN</td>\n",
       "      <td>NaN</td>\n",
       "      <td>NaN</td>\n",
       "      <td>NaN</td>\n",
       "      <td>NaN</td>\n",
       "      <td>MULTIPOLYGON (((6506104.501 1747258.116, 65061...</td>\n",
       "    </tr>\n",
       "    <tr>\n",
       "      <th>2</th>\n",
       "      <td>1.0</td>\n",
       "      <td>MEN</td>\n",
       "      <td>1.0</td>\n",
       "      <td>State</td>\n",
       "      <td>NB</td>\n",
       "      <td>NaN</td>\n",
       "      <td>NaN</td>\n",
       "      <td>NaN</td>\n",
       "      <td>NaN</td>\n",
       "      <td>NaN</td>\n",
       "      <td>NaN</td>\n",
       "      <td>NaN</td>\n",
       "      <td>NaN</td>\n",
       "      <td>NaN</td>\n",
       "      <td>POLYGON ((4911745.763 3829424.582, 4911745.763...</td>\n",
       "    </tr>\n",
       "    <tr>\n",
       "      <th>3</th>\n",
       "      <td>1.0</td>\n",
       "      <td>MEN</td>\n",
       "      <td>1.0</td>\n",
       "      <td>State</td>\n",
       "      <td>SB</td>\n",
       "      <td>NaN</td>\n",
       "      <td>NaN</td>\n",
       "      <td>NaN</td>\n",
       "      <td>NaN</td>\n",
       "      <td>NaN</td>\n",
       "      <td>NaN</td>\n",
       "      <td>NaN</td>\n",
       "      <td>NaN</td>\n",
       "      <td>NaN</td>\n",
       "      <td>POLYGON ((4911745.763 3829424.582, 4911745.763...</td>\n",
       "    </tr>\n",
       "    <tr>\n",
       "      <th>4</th>\n",
       "      <td>1.0</td>\n",
       "      <td>MON</td>\n",
       "      <td>5.0</td>\n",
       "      <td>State</td>\n",
       "      <td>NB</td>\n",
       "      <td>NaN</td>\n",
       "      <td>NaN</td>\n",
       "      <td>NaN</td>\n",
       "      <td>NaN</td>\n",
       "      <td>NaN</td>\n",
       "      <td>NaN</td>\n",
       "      <td>NaN</td>\n",
       "      <td>NaN</td>\n",
       "      <td>NaN</td>\n",
       "      <td>POLYGON ((5402587.103 2750654.347, 5402573.418...</td>\n",
       "    </tr>\n",
       "  </tbody>\n",
       "</table>\n",
       "</div>"
      ],
      "text/plain": [
       "   Route County  District RouteType Direction org_id agency route_id  \\\n",
       "0    1.0     LA       7.0     State        NB    NaN    NaN      NaN   \n",
       "1    1.0     LA       7.0     State        SB    NaN    NaN      NaN   \n",
       "2    1.0    MEN       1.0     State        NB    NaN    NaN      NaN   \n",
       "3    1.0    MEN       1.0     State        SB    NaN    NaN      NaN   \n",
       "4    1.0    MON       5.0     State        NB    NaN    NaN      NaN   \n",
       "\n",
       "  route_type route_name shape_id  n_trips base64_url  uri  \\\n",
       "0        NaN        NaN      NaN      NaN        NaN  NaN   \n",
       "1        NaN        NaN      NaN      NaN        NaN  NaN   \n",
       "2        NaN        NaN      NaN      NaN        NaN  NaN   \n",
       "3        NaN        NaN      NaN      NaN        NaN  NaN   \n",
       "4        NaN        NaN      NaN      NaN        NaN  NaN   \n",
       "\n",
       "                                            geometry  \n",
       "0  MULTIPOLYGON (((6506105.811 1747298.179, 65061...  \n",
       "1  MULTIPOLYGON (((6506104.501 1747258.116, 65061...  \n",
       "2  POLYGON ((4911745.763 3829424.582, 4911745.763...  \n",
       "3  POLYGON ((4911745.763 3829424.582, 4911745.763...  \n",
       "4  POLYGON ((5402587.103 2750654.347, 5402573.418...  "
      ]
     },
     "metadata": {},
     "output_type": "display_data"
    },
    {
     "data": {
      "text/html": [
       "<div>\n",
       "<style scoped>\n",
       "    .dataframe tbody tr th:only-of-type {\n",
       "        vertical-align: middle;\n",
       "    }\n",
       "\n",
       "    .dataframe tbody tr th {\n",
       "        vertical-align: top;\n",
       "    }\n",
       "\n",
       "    .dataframe thead th {\n",
       "        text-align: right;\n",
       "    }\n",
       "</style>\n",
       "<table border=\"1\" class=\"dataframe\">\n",
       "  <thead>\n",
       "    <tr style=\"text-align: right;\">\n",
       "      <th></th>\n",
       "      <th>org_id</th>\n",
       "      <th>agency</th>\n",
       "      <th>route_id</th>\n",
       "      <th>route_type</th>\n",
       "      <th>route_name</th>\n",
       "      <th>shape_id</th>\n",
       "      <th>n_trips</th>\n",
       "      <th>base64_url</th>\n",
       "      <th>uri</th>\n",
       "      <th>Route</th>\n",
       "      <th>County</th>\n",
       "      <th>District</th>\n",
       "      <th>RouteType</th>\n",
       "      <th>Direction</th>\n",
       "      <th>geometry</th>\n",
       "    </tr>\n",
       "  </thead>\n",
       "  <tbody>\n",
       "    <tr>\n",
       "      <th>0</th>\n",
       "      <td>recPnGkwdpnr8jmHB</td>\n",
       "      <td>Los Angeles County Metropolitan Transportation...</td>\n",
       "      <td>805</td>\n",
       "      <td>1</td>\n",
       "      <td>Metro D-Line</td>\n",
       "      <td>805EB_190513</td>\n",
       "      <td>89.0</td>\n",
       "      <td>aHR0cHM6Ly9naXRsYWIuY29tL0xBQ01UQS9ndGZzX3JhaW...</td>\n",
       "      <td>https://gitlab.com/LACMTA/gtfs_rail/raw/master...</td>\n",
       "      <td>NaN</td>\n",
       "      <td>NaN</td>\n",
       "      <td>NaN</td>\n",
       "      <td>NaN</td>\n",
       "      <td>NaN</td>\n",
       "      <td>MULTIPOLYGON (((6492880.929 1839795.418, 64928...</td>\n",
       "    </tr>\n",
       "    <tr>\n",
       "      <th>1</th>\n",
       "      <td>recPnGkwdpnr8jmHB</td>\n",
       "      <td>Los Angeles County Metropolitan Transportation...</td>\n",
       "      <td>805</td>\n",
       "      <td>1</td>\n",
       "      <td>Metro D-Line</td>\n",
       "      <td>805WB_190513</td>\n",
       "      <td>88.0</td>\n",
       "      <td>aHR0cHM6Ly9naXRsYWIuY29tL0xBQ01UQS9ndGZzX3JhaW...</td>\n",
       "      <td>https://gitlab.com/LACMTA/gtfs_rail/raw/master...</td>\n",
       "      <td>NaN</td>\n",
       "      <td>NaN</td>\n",
       "      <td>NaN</td>\n",
       "      <td>NaN</td>\n",
       "      <td>NaN</td>\n",
       "      <td>MULTIPOLYGON (((6492791.718 1839620.040, 64927...</td>\n",
       "    </tr>\n",
       "    <tr>\n",
       "      <th>2</th>\n",
       "      <td>recPnGkwdpnr8jmHB</td>\n",
       "      <td>Los Angeles County Metropolitan Transportation...</td>\n",
       "      <td>802</td>\n",
       "      <td>1</td>\n",
       "      <td>Metro B-Line</td>\n",
       "      <td>802EB_190513</td>\n",
       "      <td>91.0</td>\n",
       "      <td>aHR0cHM6Ly9naXRsYWIuY29tL0xBQ01UQS9ndGZzX3JhaW...</td>\n",
       "      <td>https://gitlab.com/LACMTA/gtfs_rail/raw/master...</td>\n",
       "      <td>NaN</td>\n",
       "      <td>NaN</td>\n",
       "      <td>NaN</td>\n",
       "      <td>NaN</td>\n",
       "      <td>NaN</td>\n",
       "      <td>MULTIPOLYGON (((6492696.214 1839448.449, 64926...</td>\n",
       "    </tr>\n",
       "    <tr>\n",
       "      <th>3</th>\n",
       "      <td>recPnGkwdpnr8jmHB</td>\n",
       "      <td>Los Angeles County Metropolitan Transportation...</td>\n",
       "      <td>802</td>\n",
       "      <td>1</td>\n",
       "      <td>Metro B-Line</td>\n",
       "      <td>802WB_190513</td>\n",
       "      <td>91.0</td>\n",
       "      <td>aHR0cHM6Ly9naXRsYWIuY29tL0xBQ01UQS9ndGZzX3JhaW...</td>\n",
       "      <td>https://gitlab.com/LACMTA/gtfs_rail/raw/master...</td>\n",
       "      <td>NaN</td>\n",
       "      <td>NaN</td>\n",
       "      <td>NaN</td>\n",
       "      <td>NaN</td>\n",
       "      <td>NaN</td>\n",
       "      <td>MULTIPOLYGON (((6492687.934 1839384.134, 64926...</td>\n",
       "    </tr>\n",
       "    <tr>\n",
       "      <th>4</th>\n",
       "      <td>recC5CT95EufmQCXr</td>\n",
       "      <td>Santa Clara Valley Transportation Authority</td>\n",
       "      <td>BlueS</td>\n",
       "      <td>0</td>\n",
       "      <td>Due to construction, portions of Light Rail re...</td>\n",
       "      <td>110754</td>\n",
       "      <td>2.0</td>\n",
       "      <td>aHR0cHM6Ly9hcGkuNTExLm9yZy90cmFuc2l0L2RhdGFmZW...</td>\n",
       "      <td>https://api.511.org/transit/datafeeds?api_key=...</td>\n",
       "      <td>NaN</td>\n",
       "      <td>NaN</td>\n",
       "      <td>NaN</td>\n",
       "      <td>NaN</td>\n",
       "      <td>NaN</td>\n",
       "      <td>MULTIPOLYGON (((5458902.176 3020696.057, 54588...</td>\n",
       "    </tr>\n",
       "  </tbody>\n",
       "</table>\n",
       "</div>"
      ],
      "text/plain": [
       "              org_id                                             agency  \\\n",
       "0  recPnGkwdpnr8jmHB  Los Angeles County Metropolitan Transportation...   \n",
       "1  recPnGkwdpnr8jmHB  Los Angeles County Metropolitan Transportation...   \n",
       "2  recPnGkwdpnr8jmHB  Los Angeles County Metropolitan Transportation...   \n",
       "3  recPnGkwdpnr8jmHB  Los Angeles County Metropolitan Transportation...   \n",
       "4  recC5CT95EufmQCXr        Santa Clara Valley Transportation Authority   \n",
       "\n",
       "  route_id route_type                                         route_name  \\\n",
       "0      805          1                                       Metro D-Line   \n",
       "1      805          1                                       Metro D-Line   \n",
       "2      802          1                                       Metro B-Line   \n",
       "3      802          1                                       Metro B-Line   \n",
       "4    BlueS          0  Due to construction, portions of Light Rail re...   \n",
       "\n",
       "       shape_id  n_trips                                         base64_url  \\\n",
       "0  805EB_190513     89.0  aHR0cHM6Ly9naXRsYWIuY29tL0xBQ01UQS9ndGZzX3JhaW...   \n",
       "1  805WB_190513     88.0  aHR0cHM6Ly9naXRsYWIuY29tL0xBQ01UQS9ndGZzX3JhaW...   \n",
       "2  802EB_190513     91.0  aHR0cHM6Ly9naXRsYWIuY29tL0xBQ01UQS9ndGZzX3JhaW...   \n",
       "3  802WB_190513     91.0  aHR0cHM6Ly9naXRsYWIuY29tL0xBQ01UQS9ndGZzX3JhaW...   \n",
       "4        110754      2.0  aHR0cHM6Ly9hcGkuNTExLm9yZy90cmFuc2l0L2RhdGFmZW...   \n",
       "\n",
       "                                                 uri  Route County  District  \\\n",
       "0  https://gitlab.com/LACMTA/gtfs_rail/raw/master...    NaN    NaN       NaN   \n",
       "1  https://gitlab.com/LACMTA/gtfs_rail/raw/master...    NaN    NaN       NaN   \n",
       "2  https://gitlab.com/LACMTA/gtfs_rail/raw/master...    NaN    NaN       NaN   \n",
       "3  https://gitlab.com/LACMTA/gtfs_rail/raw/master...    NaN    NaN       NaN   \n",
       "4  https://api.511.org/transit/datafeeds?api_key=...    NaN    NaN       NaN   \n",
       "\n",
       "  RouteType Direction                                           geometry  \n",
       "0       NaN       NaN  MULTIPOLYGON (((6492880.929 1839795.418, 64928...  \n",
       "1       NaN       NaN  MULTIPOLYGON (((6492791.718 1839620.040, 64927...  \n",
       "2       NaN       NaN  MULTIPOLYGON (((6492696.214 1839448.449, 64926...  \n",
       "3       NaN       NaN  MULTIPOLYGON (((6492687.934 1839384.134, 64926...  \n",
       "4       NaN       NaN  MULTIPOLYGON (((5458902.176 3020696.057, 54588...  "
      ]
     },
     "metadata": {},
     "output_type": "display_data"
    },
    {
     "data": {
      "text/plain": [
       "<AxesSubplot:>"
      ]
     },
     "metadata": {},
     "output_type": "display_data"
    },
    {
     "data": {
      "text/plain": [
       "<AxesSubplot:>"
      ]
     },
     "metadata": {},
     "output_type": "display_data"
    },
    {
     "data": {
      "image/png": "[encoded data removed]",
      "text/plain": [
       "<Figure size 640x480 with 1 Axes>"
      ]
     },
     "metadata": {},
     "output_type": "display_data"
    },
    {
     "data": {
      "image/png": "[encoded data removed]",
      "text/plain": [
       "<Figure size 640x480 with 1 Axes>"
      ]
     },
     "metadata": {},
     "output_type": "display_data"
    }
   ],
   "source": [
    "test(highway_rail, rail_highway)"
   ]
  },
  {
   "cell_type": "code",
   "execution_count": null,
   "id": "af498b3d-5984-4fd9-96d6-8bf6ef75aa92",
   "metadata": {},
   "outputs": [],
   "source": [
    "#from Amanda's ex. she:\n",
    "#1. joined rail routes and rail stops (inner, intersects)\n",
    "#2. overlayed highway(disolved) and rail routes join"
   ]
  },
  {
   "cell_type": "markdown",
   "id": "6a8a7006-4c0f-440d-8f0b-3717dcd1c690",
   "metadata": {},
   "source": [
    "---\n",
    "hall of shame (test stuff)\n",
    "\n",
    "---"
   ]
  },
  {
   "cell_type": "code",
   "execution_count": null,
   "id": "d636e0c8-a94e-4fb4-aed7-8bd1f7061111",
   "metadata": {},
   "outputs": [],
   "source": [
    "#what happens if you overlay points on polygon? which datasets are point and which are polygons?\n",
    "#ca_rail_stops = points, ca_rail2 (bufferd rail routes) = polygon\n",
    "\n",
    "#test = gpd.overlay(ca_rail_stops, ca_rail2, how='union', keep_geom_type=False)\n",
    "#test.plot()"
   ]
  },
  {
   "cell_type": "code",
   "execution_count": null,
   "id": "bda751b0-dea0-492e-a1d7-9160421d543f",
   "metadata": {},
   "outputs": [],
   "source": [
    "#test of points on line\n",
    "#ca_rail_stops on ca_rail\n",
    "\n",
    "#dont think sjoin gives me what i imagine (example of sjoin is more closer to clipping)\n",
    "\n",
    "#test of overlay\n",
    "#how ='intersection`: from gdf1, \n",
    "#how ='difference': from gdf1 remove the part that is gf2\n",
    "\n",
    "#does ca, ca_rail2, 'difference' show something different because both gdf have polygon geom type?\n",
    "\n",
    "#what about if both gdf are lines?\n",
    "#when its ca_highways,ca_rail2, difference: start to see gaps missing from highways\n",
    "\n",
    "#join1 = gpd.overlay(ca_stops, ca_highways2, how = 'intersection', keep_geom_type = True)\n",
    "\n",
    "#gdf_check(join1)"
   ]
  },
  {
   "cell_type": "code",
   "execution_count": null,
   "id": "a9cda2e1-5876-48da-88b5-7160e0ee5a18",
   "metadata": {},
   "outputs": [],
   "source": [
    "#Test of sjoins\n",
    "#sjoin ca_rail and ca_highways\n",
    "#doesnt look like it works as we are plotting lines on lines\n",
    "\n",
    "#join1 = gpd.sjoin(ca_rail2, ca_highways, how = 'inner', predicate = 'intersects')\n",
    "\n",
    "#when sjoin is ca_rail2,ca_highways, inner, intersects, get 3000 rows and map looks like rail routes\n",
    "#when sjoin is ca_rail2,ca_highways, left, intersects; similar results\n",
    "#when sjoin is ca_rail2,ca_highways, inner, within; no data and no map\n",
    "#when sjoin is ca_rail2,ca_highways, inner, contains; 68 rows, looks to be northern california\n",
    "#when sjoin is ca_rail2,ca_highways, inner, touches; no data no map\n",
    "#when sjoin is ca_rail2,ca_highways, inner, overlaps; no data no map\n",
    "\n",
    "#gdf_check(join1)"
   ]
  },
  {
   "cell_type": "code",
   "execution_count": null,
   "id": "fc6e7db2-dcbe-4362-8ada-cc768c4045c7",
   "metadata": {},
   "outputs": [],
   "source": [
    "#test of same sjoin, but swapping order. not working, says geometry col not set and cant plot\n",
    "\n",
    "# when ca_highway, ca_ril2, inner, intersects: \n",
    "\n",
    "#join2 = gpd.sjoin(ca_highways, ca_rail2.set_geometry('geom_buff'), how = 'inner', predicate = 'intersects')\n",
    "#join2.head()\n"
   ]
  },
  {
   "cell_type": "code",
   "execution_count": null,
   "id": "e5747924-9e95-4d57-a1e2-b8935bd72e0c",
   "metadata": {},
   "outputs": [],
   "source": [
    "#ca_rail is rail routes in CA buffered to 1320ft(.25miles)\n",
    "#gdf_check(ca_rail)"
   ]
  },
  {
   "cell_type": "code",
   "execution_count": null,
   "id": "000968b9-88f7-4c8d-b301-eebbc5fa2583",
   "metadata": {},
   "outputs": [],
   "source": [
    "#ca_highways.plot()"
   ]
  },
  {
   "cell_type": "code",
   "execution_count": null,
   "id": "39a232ed-2875-40fe-a6fe-d63660ca1096",
   "metadata": {},
   "outputs": [],
   "source": [
    "# add new col for length and half-legth of rail route from ca_rail\n",
    "# may need this later to update buffer\n",
    "#ca_rail = ca_rail.assign(length = ca_rail.geometry.length)\n",
    "#ca_rail.head()"
   ]
  },
  {
   "cell_type": "code",
   "execution_count": null,
   "id": "cf7fa2a5-0a16-44d6-a3fc-b8d856ae8396",
   "metadata": {},
   "outputs": [],
   "source": [
    "#Test of overlay districts and ca_rail_buffer \n",
    "\n",
    "#overlay = gpd.overlay(\n",
    "#    districts2229,\n",
    "#    ca_rail_buffer.set_geometry('g_buffer'),\n",
    "#    how = 'difference',\n",
    "#    keep_geom_type=True\n",
    "#)\n"
   ]
  },
  {
   "cell_type": "code",
   "execution_count": null,
   "id": "e3bd9cb8-3889-4505-86e6-3f711624bc31",
   "metadata": {},
   "outputs": [],
   "source": [
    "#districts2229"
   ]
  },
  {
   "cell_type": "code",
   "execution_count": null,
   "id": "cb290124-9714-4d54-a9fc-a4bc2728ee5e",
   "metadata": {},
   "outputs": [],
   "source": [
    "#ca_rail_buffer.head(2)"
   ]
  },
  {
   "cell_type": "code",
   "execution_count": null,
   "id": "28fb4327-690b-437f-a0db-b8e5ecfa3075",
   "metadata": {},
   "outputs": [],
   "source": [
    "#got something when i overlay districts and rail routes!\n",
    "\n",
    "#inspect what happens to the geometry column after overlaying. are there any duplicate rows? if so, why.\n",
    "#are the routes the same after the overlay?\n",
    "#remember to use length, and % of something. \n",
    "# \n",
    "#display(overlay)\n",
    "#display(overlay.geometry.name)\n",
    "#overlay.plot()"
   ]
  },
  {
   "cell_type": "code",
   "execution_count": null,
   "id": "6cea2ae5-d058-440c-ab47-311a300f30ea",
   "metadata": {},
   "outputs": [],
   "source": [
    "#import matplotlib.pyplot as plt\n",
    "\n"
   ]
  },
  {
   "cell_type": "code",
   "execution_count": null,
   "id": "2b7f1db0-0fbf-44a7-9aec-cbe5d4616011",
   "metadata": {},
   "outputs": [],
   "source": [
    "#try dissolving highways2999.\n",
    "#overlay changes geometry values.\n",
    "#try overlay to get length of rail route that interects\n",
    "#try to find difference of overlayed geomety from SHN\n",
    "\n",
    "#highways2229"
   ]
  },
  {
   "cell_type": "code",
   "execution_count": null,
   "id": "2107b415-753e-4af0-8158-f8916c12e8cc",
   "metadata": {},
   "outputs": [],
   "source": [
    "#found this via youtube tutorial.\n",
    "#maps the highways and rail routes over distrcts\n",
    "\n",
    "#fig, ax = plt.subplots(figsize = (10,8))\n",
    "#highways2229.plot(ax = ax, edgecolor = 'black')\n",
    "#ca_rail_buffer.plot(ax= ax, edgecolor = 'white')\n",
    "#districts2229.plot(ax = ax)"
   ]
  },
  {
   "cell_type": "code",
   "execution_count": null,
   "id": "9dd68671-c145-4276-8c27-0422252483bb",
   "metadata": {},
   "outputs": [],
   "source": []
  }
 ],
 "metadata": {
  "kernelspec": {
   "display_name": "Python 3 (ipykernel)",
   "language": "python",
   "name": "python3"
  },
  "language_info": {
   "codemirror_mode": {
    "name": "ipython",
    "version": 3
   },
   "file_extension": ".py",
   "mimetype": "text/x-python",
   "name": "python",
   "nbconvert_exporter": "python",
   "pygments_lexer": "ipython3",
   "version": "3.9.13"
  }
 },
 "nbformat": 4,
 "nbformat_minor": 5
}
