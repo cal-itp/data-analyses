{
 "cells": [
  {
   "cell_type": "markdown",
   "id": "93e80df1-e5c7-4b91-82e8-7a83bcc7ae00",
   "metadata": {},
   "source": [
    "# Exercise 8: Put all the concepts in Exercise 7 together\n",
    "\n",
    "Skills:\n",
    "* Apply all the concepts covered in Exercise 7 for a research question. Know when to use what concept.\n",
    "\n",
    "References: \n",
    "* Exercise 7\n",
    "\n",
    "\n",
    "### To Do\n",
    "\n",
    "Narrow down the list of rail routes in CA to 3 groups. Use the SHN network to determine how much of the rail route runs near the SHN. We care only about rail routes that run entirely in CA (use stops to figure this out).\n",
    "\n",
    "**Near** the interstate, US highway, or state highway is defined by being within a quarter mile. For this exercise, the distinction between interstate, US highway, and state highway is not important; treat any road that shows up in the dataset as \"the SHN\".\n",
    "\n",
    "There are theoretically 3 groupings: \n",
    "* rail routes that are never within 0.25 miles of the SHN (>0.25\n",
    "* rail routes with > 0 but less than half of its length near the SHN (0<x<0.5)\n",
    "* rail routes with at least half of its length near the SHN(\n",
    "\n",
    "Provide a table and a chart showing how many rail routes fall into each of the 3 groups by district.\n",
    "\n",
    "Use a Markdown cell at the end to connect which geospatial concept was applied to which step of the process. The concepts that should be used are `projecting CRS`, `buffering`, `dissolve`, `clipping`, `spatial join`, `overlay`. "
   ]
  },
  {
   "cell_type": "markdown",
   "id": "40b483c5-233b-4547-956f-90f0f426f073",
   "metadata": {
    "tags": []
   },
   "source": [
    "---\n",
    "---\n",
    "## Notes\n",
    "* all imported dfs are gdf \n",
    "* all with CRS 4326 (decimal degrees)\n",
    "* all with active geometry col set to `geometry`\n",
    "* all gdf filtered down to rail groups 0, 1 and 2\n",
    "* geometry type for each gdf\n",
    "    1. districts - polygon\n",
    "    2. ca_highways - multi line string \n",
    "    3. routes - line string\n",
    "    4. rail_routes - line string\n",
    "    5. stops - point\n",
    "    6. rail_stops - point\n",
    "* check the plots of all the gdfs\n",
    "* gdf not in CA\n",
    "    1. routes (nationwide)\n",
    "    2. rail routes (nationwide)\n",
    "    3. stops \n",
    "    4. rail stops \n",
    "---\n",
    "## Cleaning\n",
    "\n",
    "COMPLETE project all gdf to `EPSG:2229` to get everything in feet and clip all gdf to California only\n",
    "\n",
    "COMPLETE 1. dissolve districts map to be CA only.\n",
    "\n",
    "    * `ca` - California polygon\n",
    "        \n",
    "COMPLETE 2. update `ca_highways` map to new CRS\n",
    "    \n",
    "COMPLETE 3. clip the other gdf to CA map. \n",
    "\n",
    "    * `ca_routes` - transit routes in CA\n",
    "    * `ca_rail` - rail routes in CA for 0,1,2\n",
    "    * `ca_stops` - transit stops in CA\n",
    "    * `ca_rail_stops` - rail stops in CA for 0,1,2\n",
    "     \n",
    "COMPLETE 4. dissolve these ca maps to see what you get\n",
    "\n",
    "    * `ca_routes_d`\n",
    "    * `ca_rail_d`\n",
    "    * `ca_stops_d`  \n",
    "    * `ca_rail_stops_d`\n",
    "\n",
    "5. check all new gdf against `gdf_check` function to ensure everything looks good\n",
    "   \n",
    "   \n",
    "### prepare gdfs needed\n",
    "1. COMPLETE buffer rail routes to 1320ft (.25miles)\n",
    "    * `ca_rail`\n",
    "2. COMPLETE buffer state highway to 1320fr\n",
    "\n",
    "    \n",
    "        \n",
    "\n",
    "---\n",
    "---"
   ]
  },
  {
   "cell_type": "code",
   "execution_count": 1,
   "id": "2bf3479c-9114-4bb7-be39-dad0127b2d8c",
   "metadata": {},
   "outputs": [],
   "source": [
    "import geopandas as gpd\n",
    "import intake\n",
    "import pandas as pd\n",
    "\n",
    "catalog = intake.open_catalog(\n",
    "    \"../_shared_utils/shared_utils/shared_data_catalog.yml\")"
   ]
  },
  {
   "cell_type": "code",
   "execution_count": 2,
   "id": "4658193f-0de9-4287-8c33-cd21330ff8cb",
   "metadata": {},
   "outputs": [],
   "source": [
    "# Import data\n",
    "districts = catalog.caltrans_districts.read()\n",
    "ca_highways = catalog.state_highway_network.read()\n",
    "\n",
    "rail_group = ['0', '1', '2']\n",
    "routes = catalog.ca_transit_routes.read()\n",
    "rail_routes = routes[routes.route_type.isin(rail_group)\n",
    "                    ].reset_index(drop=True)\n",
    "\n",
    "stops = catalog.ca_transit_stops.read()\n",
    "rail_stops = stops[stops.route_type.isin(rail_group)\n",
    "                  ].reset_index(drop=True)"
   ]
  },
  {
   "cell_type": "markdown",
   "id": "f8886b93-7f47-4c93-ae94-96486606b19f",
   "metadata": {},
   "source": [
    "---\n",
    "\n",
    "## Geodataframe checks\n",
    "\n",
    "---"
   ]
  },
  {
   "cell_type": "code",
   "execution_count": 3,
   "id": "b1e1a77d-3727-428a-a4eb-416a40481133",
   "metadata": {},
   "outputs": [],
   "source": [
    "#function that checks multiple aspects of a gdf\n",
    "\n",
    "def gdf_check(gdf):(\n",
    "    print(f'Dataframe type is = {type(gdf)}'),\n",
    "    print(f'GDF shape is = {gdf.shape}'),\n",
    "    print(f'Active geometry col name is = {gdf.geometry.name}'),\n",
    "    display(gdf.head()),\n",
    "    display(gdf.plot()),\n",
    "    display(gdf.crs)\n",
    "    )"
   ]
  },
  {
   "cell_type": "code",
   "execution_count": 4,
   "id": "4ffaf1b2-d702-4e93-9e41-0c8083372f87",
   "metadata": {},
   "outputs": [],
   "source": [
    "#gdf of caltrans districts\n",
    "#1 row for each districts, each district is a polygon\n",
    "\n",
    "    #gdf_check(districts)"
   ]
  },
  {
   "cell_type": "code",
   "execution_count": 5,
   "id": "4df7f45e-394c-4cc0-84f8-0b7d05d90fb5",
   "metadata": {},
   "outputs": [],
   "source": [
    "#gdf of CA highways\n",
    "#each row is a segment of a route, \n",
    "\n",
    "    #gdf_check(ca_highways)"
   ]
  },
  {
   "cell_type": "code",
   "execution_count": 6,
   "id": "0562f0d2-64a7-4d5a-90e2-215a9140fa01",
   "metadata": {},
   "outputs": [],
   "source": [
    "    #rail_group"
   ]
  },
  {
   "cell_type": "code",
   "execution_count": 7,
   "id": "24123c29-d924-48f1-bcf6-59827f05b937",
   "metadata": {},
   "outputs": [],
   "source": [
    "#gdf of all transit routes, nation wide?\n",
    "\n",
    "    #gdf_check(routes)"
   ]
  },
  {
   "cell_type": "code",
   "execution_count": 8,
   "id": "eed5a1a7-dc13-4b84-9f24-79b8df3c6b8e",
   "metadata": {},
   "outputs": [],
   "source": [
    "#gdf of all rail routes, for the sub rail-group\n",
    "\n",
    "    #gdf_check(rail_routes)"
   ]
  },
  {
   "cell_type": "code",
   "execution_count": 9,
   "id": "0b5050c0-86a2-4721-89ee-c9d69ab2ce16",
   "metadata": {},
   "outputs": [],
   "source": [
    "#gdf of all transit stops\n",
    "\n",
    "    #gdf_check(stops)"
   ]
  },
  {
   "cell_type": "code",
   "execution_count": 10,
   "id": "1fa75963-8382-498f-a415-cf843f7dcf75",
   "metadata": {},
   "outputs": [],
   "source": [
    "#gdf of all rail stops\n",
    "\n",
    "    #gdf_check(rail_stops)"
   ]
  },
  {
   "cell_type": "markdown",
   "id": "a41601a9-4c18-4e9c-b95b-4861439edfbd",
   "metadata": {},
   "source": [
    "---\n",
    "\n",
    "## Cleaning\n",
    "\n",
    "---"
   ]
  },
  {
   "cell_type": "code",
   "execution_count": 11,
   "id": "f8c3d2f3-4d2a-40dc-b252-fc6091f8257e",
   "metadata": {},
   "outputs": [],
   "source": [
    "#setting crs and dissolving district map to one polygon\n",
    "#only kept the following columns, other columns were left out.\n",
    "\n",
    "ca = districts[['geometry', 'Shape__Area', 'Shape__Length']].to_crs('EPSG:2229').dissolve()\n"
   ]
  },
  {
   "cell_type": "code",
   "execution_count": 12,
   "id": "3cdf710d-8cf9-40ed-92d9-6fa83b0b68c3",
   "metadata": {},
   "outputs": [],
   "source": [
    "#updating initial districts gdf to new CRS\n",
    "districts = districts.to_crs('EPSG:2229')\n",
    "\n"
   ]
  },
  {
   "cell_type": "code",
   "execution_count": 13,
   "id": "72ad9a06-3bd5-4c0c-938c-dfd2d41e0f01",
   "metadata": {},
   "outputs": [],
   "source": [
    "#update CRS for ca_highways\n",
    "ca_highways = ca_highways.to_crs('EPSG:2229')\n"
   ]
  },
  {
   "cell_type": "code",
   "execution_count": 69,
   "id": "4b2848cf-0514-47ac-a62e-93129df071eb",
   "metadata": {},
   "outputs": [],
   "source": [
    "#CA highway gdf with 2nd, buffered geometry col., dissolved to get consolidate routes and reset index\n",
    "ca_highways2 = ca_highways.assign(geom_buff = ca_highways.geometry.buffer(1320)).set_geometry('geom_buff').dissolve(by='Route').reset_index()"
   ]
  },
  {
   "cell_type": "code",
   "execution_count": 15,
   "id": "2bfa265e-d9c9-4c56-9bd4-71b6c723a832",
   "metadata": {},
   "outputs": [],
   "source": [
    "#test to combine clipping and CRS\n",
    "#TEST WORKS! apply same to other gdfs\n",
    "\n",
    "#update CRS to feet and clip transit routes to CA. outcome is tranits routes in CA only\n",
    "ca_routes = routes.to_crs('EPSG:2229').clip(ca)"
   ]
  },
  {
   "cell_type": "code",
   "execution_count": 16,
   "id": "275dc180-84a9-4aac-b53a-f673e6801a99",
   "metadata": {},
   "outputs": [],
   "source": [
    "#clipped rail routes to CA only\n",
    "ca_rail = rail_routes.to_crs('EPSG:2229').clip(ca)"
   ]
  },
  {
   "cell_type": "code",
   "execution_count": 91,
   "id": "7f4a5147-f0dc-4653-9adb-33e3b4b332e4",
   "metadata": {},
   "outputs": [],
   "source": [
    "#ca_rail routes with new active geometry column buffered to .25mi\n",
    "\n",
    "ca_rail2 = ca_rail.assign(geom_buff = ca_rail.geometry.buffer(1320)).set_geometry('geom_buff').dissolve(by='route_id').reset_index()"
   ]
  },
  {
   "cell_type": "code",
   "execution_count": 18,
   "id": "89d439a1-89bf-4c34-ab8b-821cdc9c8486",
   "metadata": {},
   "outputs": [],
   "source": [
    "#clipped transit stops to CA only\n",
    "ca_stops = stops.to_crs('EPSG:2229').clip(ca)"
   ]
  },
  {
   "cell_type": "code",
   "execution_count": 19,
   "id": "1505935e-55f1-4e3e-a9d1-1b9a3ad3a527",
   "metadata": {},
   "outputs": [],
   "source": [
    "#clipped rail stops to CA only\n",
    "ca_rail_stops = rail_stops.to_crs('EPSG:2229').clip(ca)"
   ]
  },
  {
   "cell_type": "markdown",
   "id": "13460575-509a-4387-8dac-d6501aa9ac56",
   "metadata": {},
   "source": [
    "---\n",
    "\n",
    "Checking new gdfs after clipping and new CRS\n",
    "\n",
    "---"
   ]
  },
  {
   "cell_type": "code",
   "execution_count": 20,
   "id": "9e981788-2d34-486d-a378-ee4ba7c361fe",
   "metadata": {},
   "outputs": [],
   "source": [
    "#check CA gdf, should be a single polygon of CA\n",
    "#gdf_check(ca)"
   ]
  },
  {
   "cell_type": "code",
   "execution_count": 21,
   "id": "8ba9c62f-7468-4d8f-be5c-4f9fae8bd748",
   "metadata": {},
   "outputs": [],
   "source": [
    "#gdf_check(districts)"
   ]
  },
  {
   "cell_type": "code",
   "execution_count": 22,
   "id": "25bbd4d5-589a-48ac-9243-7398274684a5",
   "metadata": {},
   "outputs": [],
   "source": [
    "#gdf_check(ca_highways)"
   ]
  },
  {
   "cell_type": "code",
   "execution_count": 70,
   "id": "66e51719-101b-4517-a03f-3c0b38644dc7",
   "metadata": {},
   "outputs": [
    {
     "name": "stdout",
     "output_type": "stream",
     "text": [
      "Dataframe type is = <class 'geopandas.geodataframe.GeoDataFrame'>\n",
      "GDF shape is = (242, 7)\n",
      "Active geometry col name is = geom_buff\n"
     ]
    },
    {
     "data": {
      "text/html": [
       "<div>\n",
       "<style scoped>\n",
       "    .dataframe tbody tr th:only-of-type {\n",
       "        vertical-align: middle;\n",
       "    }\n",
       "\n",
       "    .dataframe tbody tr th {\n",
       "        vertical-align: top;\n",
       "    }\n",
       "\n",
       "    .dataframe thead th {\n",
       "        text-align: right;\n",
       "    }\n",
       "</style>\n",
       "<table border=\"1\" class=\"dataframe\">\n",
       "  <thead>\n",
       "    <tr style=\"text-align: right;\">\n",
       "      <th></th>\n",
       "      <th>Route</th>\n",
       "      <th>geom_buff</th>\n",
       "      <th>County</th>\n",
       "      <th>District</th>\n",
       "      <th>RouteType</th>\n",
       "      <th>Direction</th>\n",
       "      <th>geometry</th>\n",
       "    </tr>\n",
       "  </thead>\n",
       "  <tbody>\n",
       "    <tr>\n",
       "      <th>0</th>\n",
       "      <td>1</td>\n",
       "      <td>MULTIPOLYGON (((5768306.028 2249930.856, 57682...</td>\n",
       "      <td>LA</td>\n",
       "      <td>7</td>\n",
       "      <td>State</td>\n",
       "      <td>NB</td>\n",
       "      <td>MULTILINESTRING ((6518147.781 1746024.206, 651...</td>\n",
       "    </tr>\n",
       "    <tr>\n",
       "      <th>1</th>\n",
       "      <td>2</td>\n",
       "      <td>MULTIPOLYGON (((6427813.906 1840099.449, 64278...</td>\n",
       "      <td>LA</td>\n",
       "      <td>7</td>\n",
       "      <td>State</td>\n",
       "      <td>EB</td>\n",
       "      <td>MULTILINESTRING ((6490992.937 1865622.285, 649...</td>\n",
       "    </tr>\n",
       "    <tr>\n",
       "      <th>2</th>\n",
       "      <td>3</td>\n",
       "      <td>MULTIPOLYGON (((5110760.868 4245794.255, 51107...</td>\n",
       "      <td>SIS</td>\n",
       "      <td>2</td>\n",
       "      <td>State</td>\n",
       "      <td>NB</td>\n",
       "      <td>MULTILINESTRING ((5275615.149 4654447.197, 527...</td>\n",
       "    </tr>\n",
       "    <tr>\n",
       "      <th>3</th>\n",
       "      <td>4</td>\n",
       "      <td>MULTIPOLYGON (((5534370.605 3258459.531, 55343...</td>\n",
       "      <td>ALP</td>\n",
       "      <td>10</td>\n",
       "      <td>State</td>\n",
       "      <td>EB</td>\n",
       "      <td>MULTILINESTRING ((5983573.255 3460229.889, 598...</td>\n",
       "    </tr>\n",
       "    <tr>\n",
       "      <th>4</th>\n",
       "      <td>5</td>\n",
       "      <td>POLYGON ((5580299.670 3364160.176, 5579775.096...</td>\n",
       "      <td>COL</td>\n",
       "      <td>3</td>\n",
       "      <td>Interstate</td>\n",
       "      <td>NB</td>\n",
       "      <td>MULTILINESTRING ((5405204.172 3674443.942, 540...</td>\n",
       "    </tr>\n",
       "  </tbody>\n",
       "</table>\n",
       "</div>"
      ],
      "text/plain": [
       "   Route                                          geom_buff County  District  \\\n",
       "0      1  MULTIPOLYGON (((5768306.028 2249930.856, 57682...     LA         7   \n",
       "1      2  MULTIPOLYGON (((6427813.906 1840099.449, 64278...     LA         7   \n",
       "2      3  MULTIPOLYGON (((5110760.868 4245794.255, 51107...    SIS         2   \n",
       "3      4  MULTIPOLYGON (((5534370.605 3258459.531, 55343...    ALP        10   \n",
       "4      5  POLYGON ((5580299.670 3364160.176, 5579775.096...    COL         3   \n",
       "\n",
       "    RouteType Direction                                           geometry  \n",
       "0       State        NB  MULTILINESTRING ((6518147.781 1746024.206, 651...  \n",
       "1       State        EB  MULTILINESTRING ((6490992.937 1865622.285, 649...  \n",
       "2       State        NB  MULTILINESTRING ((5275615.149 4654447.197, 527...  \n",
       "3       State        EB  MULTILINESTRING ((5983573.255 3460229.889, 598...  \n",
       "4  Interstate        NB  MULTILINESTRING ((5405204.172 3674443.942, 540...  "
      ]
     },
     "metadata": {},
     "output_type": "display_data"
    },
    {
     "data": {
      "text/plain": [
       "<AxesSubplot:>"
      ]
     },
     "metadata": {},
     "output_type": "display_data"
    },
    {
     "data": {
      "text/plain": [
       "<Projected CRS: EPSG:2229>\n",
       "Name: NAD83 / California zone 5 (ftUS)\n",
       "Axis Info [cartesian]:\n",
       "- X[east]: Easting (US survey foot)\n",
       "- Y[north]: Northing (US survey foot)\n",
       "Area of Use:\n",
       "- name: United States (USA) - California - counties Kern; Los Angeles; San Bernardino; San Luis Obispo; Santa Barbara; Ventura.\n",
       "- bounds: (-121.42, 32.76, -114.12, 35.81)\n",
       "Coordinate Operation:\n",
       "- name: SPCS83 California zone 5 (US Survey feet)\n",
       "- method: Lambert Conic Conformal (2SP)\n",
       "Datum: North American Datum 1983\n",
       "- Ellipsoid: GRS 1980\n",
       "- Prime Meridian: Greenwich"
      ]
     },
     "metadata": {},
     "output_type": "display_data"
    },
    {
     "data": {
      "image/png": "[encoded data removed]",
      "text/plain": [
       "<Figure size 640x480 with 1 Axes>"
      ]
     },
     "metadata": {},
     "output_type": "display_data"
    }
   ],
   "source": [
    "gdf_check(ca_highways2)"
   ]
  },
  {
   "cell_type": "code",
   "execution_count": 24,
   "id": "ccb7d987-6576-44d1-bdcd-e61cee0ab3dd",
   "metadata": {},
   "outputs": [],
   "source": [
    "#gdf_check(ca_routes)"
   ]
  },
  {
   "cell_type": "code",
   "execution_count": 25,
   "id": "3b5992eb-099d-4e76-8853-18e70a0d8d3d",
   "metadata": {},
   "outputs": [],
   "source": [
    "#gdf_check(ca_rail)"
   ]
  },
  {
   "cell_type": "code",
   "execution_count": 26,
   "id": "fe38250a-2ae2-4cdd-8b36-f40ca2d7ec85",
   "metadata": {},
   "outputs": [],
   "source": [
    "#gdf_check(ca_rail2)"
   ]
  },
  {
   "cell_type": "code",
   "execution_count": 27,
   "id": "797ce54b-862a-4a6b-a9f5-de74640e79d7",
   "metadata": {},
   "outputs": [],
   "source": [
    "#gdf_check(ca_stops)"
   ]
  },
  {
   "cell_type": "code",
   "execution_count": 28,
   "id": "ae1ce740-84c4-4860-863c-4a4d4b416e44",
   "metadata": {},
   "outputs": [],
   "source": [
    "#gdf_check(ca_rail_stops)"
   ]
  },
  {
   "cell_type": "markdown",
   "id": "e4784bf4-45db-4daa-a930-63b66e5195a5",
   "metadata": {
    "tags": []
   },
   "source": [
    "---\n",
    "\n",
    "Dissolve and check new gdfs\n",
    "\n",
    "---\n"
   ]
  },
  {
   "cell_type": "code",
   "execution_count": 29,
   "id": "155014e4-0798-4937-974e-b9becc1c5544",
   "metadata": {
    "tags": []
   },
   "outputs": [],
   "source": [
    "#Dissolving one by one\n",
    "\n",
    "#ca_highway_d = ca_highways.dissolve()"
   ]
  },
  {
   "cell_type": "code",
   "execution_count": 30,
   "id": "44c09727-c50b-43a4-bdef-d0dccfa264fe",
   "metadata": {},
   "outputs": [],
   "source": [
    "#routes_d= ca_routes.dissolve()"
   ]
  },
  {
   "cell_type": "code",
   "execution_count": 31,
   "id": "d668a4b0-b9c5-49df-a616-ddf10962c268",
   "metadata": {},
   "outputs": [],
   "source": [
    "#rail_d= ca_rail.dissolve()"
   ]
  },
  {
   "cell_type": "code",
   "execution_count": 32,
   "id": "55f4ea2c-f369-4bb1-af9b-a0b023bfdfbc",
   "metadata": {},
   "outputs": [],
   "source": [
    "#stops_d = ca_stops.dissolve()"
   ]
  },
  {
   "cell_type": "code",
   "execution_count": 33,
   "id": "888dc051-b43f-4528-892f-96f1e4d9067d",
   "metadata": {},
   "outputs": [],
   "source": [
    "#rail_stops_d = ca_rail_stops.dissolve()"
   ]
  },
  {
   "cell_type": "markdown",
   "id": "9af57434-91bd-4716-82d6-18b21dc19fd6",
   "metadata": {},
   "source": [
    "---"
   ]
  },
  {
   "cell_type": "code",
   "execution_count": 34,
   "id": "08bcaced-121b-4677-99da-bf3187a5e805",
   "metadata": {},
   "outputs": [],
   "source": [
    "#gdf_check(ca_highway_d)"
   ]
  },
  {
   "cell_type": "code",
   "execution_count": 35,
   "id": "4bacf185-a373-42f1-ac88-ab4e18eea631",
   "metadata": {},
   "outputs": [],
   "source": [
    "#gdf_check(routes_d)"
   ]
  },
  {
   "cell_type": "code",
   "execution_count": 36,
   "id": "35b468fc-d205-443d-8a83-601839f7926d",
   "metadata": {},
   "outputs": [],
   "source": [
    "#gdf_check(rail_d)"
   ]
  },
  {
   "cell_type": "code",
   "execution_count": 37,
   "id": "0c9acbf4-f3a9-4a72-ba5c-0736d795d5bb",
   "metadata": {},
   "outputs": [],
   "source": [
    "#gdf_check(stops_d)"
   ]
  },
  {
   "cell_type": "code",
   "execution_count": 38,
   "id": "46cf823c-122e-47f9-a2d3-5dc91a01d77a",
   "metadata": {},
   "outputs": [],
   "source": [
    "#gdf_check(rail_stops_d)"
   ]
  },
  {
   "cell_type": "code",
   "execution_count": 39,
   "id": "b42d5b03-a2f0-4340-a4bf-c2d00b309887",
   "metadata": {},
   "outputs": [],
   "source": [
    "### try to overlay the dissolve gdfs over stuff"
   ]
  },
  {
   "cell_type": "markdown",
   "id": "bed7ab3c-2f98-467f-ab36-8ff130e49944",
   "metadata": {},
   "source": [
    "---\n",
    "---\n",
    "\n",
    "### (list of) rail routes that are never within 0.25 miles of the SHN\n",
    "    * need:\n",
    "        1. rail route map\n",
    "        2. highway map\n",
    "        need to buffer highway map to 1320ft.\n",
    "        use overlay `systemic difference` to get get rai routes THAT DO NOT touch the buffered highway?!\n",
    "        \n",
    "\n",
    "### (list of) rail routes with > 0 but less than half of its length near the SHN\n",
    "    1. buffered rail route with length col to < half_len\n",
    "    \n",
    "\n",
    "### (list of) rail routes with at least half of its length near the SHN\n",
    "    1. buffered rail route with length col to >= half_len\n",
    "\n",
    "---\n",
    "---"
   ]
  },
  {
   "cell_type": "code",
   "execution_count": 82,
   "id": "9bc0ce69-0c2e-4cbb-9e12-ed65e334a376",
   "metadata": {},
   "outputs": [
    {
     "name": "stdout",
     "output_type": "stream",
     "text": [
      "Dataframe type is = <class 'geopandas.geodataframe.GeoDataFrame'>\n",
      "GDF shape is = (242, 7)\n",
      "Active geometry col name is = geom_buff\n"
     ]
    },
    {
     "data": {
      "text/html": [
       "<div>\n",
       "<style scoped>\n",
       "    .dataframe tbody tr th:only-of-type {\n",
       "        vertical-align: middle;\n",
       "    }\n",
       "\n",
       "    .dataframe tbody tr th {\n",
       "        vertical-align: top;\n",
       "    }\n",
       "\n",
       "    .dataframe thead th {\n",
       "        text-align: right;\n",
       "    }\n",
       "</style>\n",
       "<table border=\"1\" class=\"dataframe\">\n",
       "  <thead>\n",
       "    <tr style=\"text-align: right;\">\n",
       "      <th></th>\n",
       "      <th>Route</th>\n",
       "      <th>geom_buff</th>\n",
       "      <th>County</th>\n",
       "      <th>District</th>\n",
       "      <th>RouteType</th>\n",
       "      <th>Direction</th>\n",
       "      <th>geometry</th>\n",
       "    </tr>\n",
       "  </thead>\n",
       "  <tbody>\n",
       "    <tr>\n",
       "      <th>0</th>\n",
       "      <td>1</td>\n",
       "      <td>MULTIPOLYGON (((5768306.028 2249930.856, 57682...</td>\n",
       "      <td>LA</td>\n",
       "      <td>7</td>\n",
       "      <td>State</td>\n",
       "      <td>NB</td>\n",
       "      <td>MULTILINESTRING ((6518147.781 1746024.206, 651...</td>\n",
       "    </tr>\n",
       "    <tr>\n",
       "      <th>1</th>\n",
       "      <td>2</td>\n",
       "      <td>MULTIPOLYGON (((6427813.906 1840099.449, 64278...</td>\n",
       "      <td>LA</td>\n",
       "      <td>7</td>\n",
       "      <td>State</td>\n",
       "      <td>EB</td>\n",
       "      <td>MULTILINESTRING ((6490992.937 1865622.285, 649...</td>\n",
       "    </tr>\n",
       "    <tr>\n",
       "      <th>2</th>\n",
       "      <td>3</td>\n",
       "      <td>MULTIPOLYGON (((5110760.868 4245794.255, 51107...</td>\n",
       "      <td>SIS</td>\n",
       "      <td>2</td>\n",
       "      <td>State</td>\n",
       "      <td>NB</td>\n",
       "      <td>MULTILINESTRING ((5275615.149 4654447.197, 527...</td>\n",
       "    </tr>\n",
       "    <tr>\n",
       "      <th>3</th>\n",
       "      <td>4</td>\n",
       "      <td>MULTIPOLYGON (((5534370.605 3258459.531, 55343...</td>\n",
       "      <td>ALP</td>\n",
       "      <td>10</td>\n",
       "      <td>State</td>\n",
       "      <td>EB</td>\n",
       "      <td>MULTILINESTRING ((5983573.255 3460229.889, 598...</td>\n",
       "    </tr>\n",
       "    <tr>\n",
       "      <th>4</th>\n",
       "      <td>5</td>\n",
       "      <td>POLYGON ((5580299.670 3364160.176, 5579775.096...</td>\n",
       "      <td>COL</td>\n",
       "      <td>3</td>\n",
       "      <td>Interstate</td>\n",
       "      <td>NB</td>\n",
       "      <td>MULTILINESTRING ((5405204.172 3674443.942, 540...</td>\n",
       "    </tr>\n",
       "  </tbody>\n",
       "</table>\n",
       "</div>"
      ],
      "text/plain": [
       "   Route                                          geom_buff County  District  \\\n",
       "0      1  MULTIPOLYGON (((5768306.028 2249930.856, 57682...     LA         7   \n",
       "1      2  MULTIPOLYGON (((6427813.906 1840099.449, 64278...     LA         7   \n",
       "2      3  MULTIPOLYGON (((5110760.868 4245794.255, 51107...    SIS         2   \n",
       "3      4  MULTIPOLYGON (((5534370.605 3258459.531, 55343...    ALP        10   \n",
       "4      5  POLYGON ((5580299.670 3364160.176, 5579775.096...    COL         3   \n",
       "\n",
       "    RouteType Direction                                           geometry  \n",
       "0       State        NB  MULTILINESTRING ((6518147.781 1746024.206, 651...  \n",
       "1       State        EB  MULTILINESTRING ((6490992.937 1865622.285, 649...  \n",
       "2       State        NB  MULTILINESTRING ((5275615.149 4654447.197, 527...  \n",
       "3       State        EB  MULTILINESTRING ((5983573.255 3460229.889, 598...  \n",
       "4  Interstate        NB  MULTILINESTRING ((5405204.172 3674443.942, 540...  "
      ]
     },
     "metadata": {},
     "output_type": "display_data"
    },
    {
     "data": {
      "text/plain": [
       "<AxesSubplot:>"
      ]
     },
     "metadata": {},
     "output_type": "display_data"
    },
    {
     "data": {
      "text/plain": [
       "<Projected CRS: EPSG:2229>\n",
       "Name: NAD83 / California zone 5 (ftUS)\n",
       "Axis Info [cartesian]:\n",
       "- X[east]: Easting (US survey foot)\n",
       "- Y[north]: Northing (US survey foot)\n",
       "Area of Use:\n",
       "- name: United States (USA) - California - counties Kern; Los Angeles; San Bernardino; San Luis Obispo; Santa Barbara; Ventura.\n",
       "- bounds: (-121.42, 32.76, -114.12, 35.81)\n",
       "Coordinate Operation:\n",
       "- name: SPCS83 California zone 5 (US Survey feet)\n",
       "- method: Lambert Conic Conformal (2SP)\n",
       "Datum: North American Datum 1983\n",
       "- Ellipsoid: GRS 1980\n",
       "- Prime Meridian: Greenwich"
      ]
     },
     "metadata": {},
     "output_type": "display_data"
    },
    {
     "data": {
      "image/png": "[encoded data removed]",
      "text/plain": [
       "<Figure size 640x480 with 1 Axes>"
      ]
     },
     "metadata": {},
     "output_type": "display_data"
    }
   ],
   "source": [
    "gdf_check(ca_highways2)"
   ]
  },
  {
   "cell_type": "code",
   "execution_count": 92,
   "id": "fa9e4fde-db85-4855-967d-4f64f53bbc60",
   "metadata": {},
   "outputs": [
    {
     "name": "stdout",
     "output_type": "stream",
     "text": [
      "Dataframe type is = <class 'geopandas.geodataframe.GeoDataFrame'>\n",
      "GDF shape is = (43, 11)\n",
      "Active geometry col name is = geom_buff\n"
     ]
    },
    {
     "data": {
      "text/html": [
       "<div>\n",
       "<style scoped>\n",
       "    .dataframe tbody tr th:only-of-type {\n",
       "        vertical-align: middle;\n",
       "    }\n",
       "\n",
       "    .dataframe tbody tr th {\n",
       "        vertical-align: top;\n",
       "    }\n",
       "\n",
       "    .dataframe thead th {\n",
       "        text-align: right;\n",
       "    }\n",
       "</style>\n",
       "<table border=\"1\" class=\"dataframe\">\n",
       "  <thead>\n",
       "    <tr style=\"text-align: right;\">\n",
       "      <th></th>\n",
       "      <th>route_id</th>\n",
       "      <th>geom_buff</th>\n",
       "      <th>org_id</th>\n",
       "      <th>agency</th>\n",
       "      <th>route_type</th>\n",
       "      <th>route_name</th>\n",
       "      <th>shape_id</th>\n",
       "      <th>n_trips</th>\n",
       "      <th>base64_url</th>\n",
       "      <th>uri</th>\n",
       "      <th>geometry</th>\n",
       "    </tr>\n",
       "  </thead>\n",
       "  <tbody>\n",
       "    <tr>\n",
       "      <th>0</th>\n",
       "      <td>36930</td>\n",
       "      <td>POLYGON ((7208303.849 1636404.080, 7208188.951...</td>\n",
       "      <td>recKsb5FnJy70up78</td>\n",
       "      <td>Amtrak</td>\n",
       "      <td>2</td>\n",
       "      <td>Sunset Limited</td>\n",
       "      <td>269</td>\n",
       "      <td>1</td>\n",
       "      <td>aHR0cHM6Ly9jb250ZW50LmFtdHJhay5jb20vY29udGVudC...</td>\n",
       "      <td>https://content.amtrak.com/content/gtfs/GTFS.zip</td>\n",
       "      <td>MULTILINESTRING ((7602807.693 1377257.623, 760...</td>\n",
       "    </tr>\n",
       "    <tr>\n",
       "      <th>1</th>\n",
       "      <td>398</td>\n",
       "      <td>POLYGON ((6754757.919 1526704.211, 6755220.959...</td>\n",
       "      <td>recRBcrX4ZvTyvSnm</td>\n",
       "      <td>North County Transit District</td>\n",
       "      <td>2</td>\n",
       "      <td>COASTER</td>\n",
       "      <td>3980014</td>\n",
       "      <td>15</td>\n",
       "      <td>aHR0cHM6Ly93d3cuZ29uY3RkLmNvbS9nb29nbGVfdHJhbn...</td>\n",
       "      <td>https://www.gonctd.com/google_transit.zip</td>\n",
       "      <td>LINESTRING (6752456.581 1527639.188, 6752915.6...</td>\n",
       "    </tr>\n",
       "    <tr>\n",
       "      <th>2</th>\n",
       "      <td>399</td>\n",
       "      <td>POLYGON ((6754673.376 1526896.526, 6754762.820...</td>\n",
       "      <td>recRBcrX4ZvTyvSnm</td>\n",
       "      <td>North County Transit District</td>\n",
       "      <td>0</td>\n",
       "      <td>SPRINTER</td>\n",
       "      <td>3990004</td>\n",
       "      <td>34</td>\n",
       "      <td>aHR0cHM6Ly93d3cuZ29uY3RkLmNvbS9nb29nbGVfdHJhbn...</td>\n",
       "      <td>https://www.gonctd.com/google_transit.zip</td>\n",
       "      <td>LINESTRING (6751909.888 1528495.892, 6753315.8...</td>\n",
       "    </tr>\n",
       "    <tr>\n",
       "      <th>3</th>\n",
       "      <td>507</td>\n",
       "      <td>POLYGON ((5558965.342 3505259.128, 5558958.407...</td>\n",
       "      <td>rec43oyrfhtPDdRHj</td>\n",
       "      <td>City of Rancho Cordova</td>\n",
       "      <td>0</td>\n",
       "      <td>Downtown - Folsom</td>\n",
       "      <td>46380</td>\n",
       "      <td>26</td>\n",
       "      <td>aHR0cHM6Ly9pcG9ydGFsLnNhY3J0LmNvbS9HVEZTL1NSVE...</td>\n",
       "      <td>https://iportal.sacrt.com/GTFS/SRTD/google_tra...</td>\n",
       "      <td>MULTILINESTRING ((5626117.107 3515594.727, 562...</td>\n",
       "    </tr>\n",
       "    <tr>\n",
       "      <th>4</th>\n",
       "      <td>51</td>\n",
       "      <td>POLYGON ((6489445.068 1844204.366, 6490021.030...</td>\n",
       "      <td>recKsb5FnJy70up78</td>\n",
       "      <td>Amtrak</td>\n",
       "      <td>2</td>\n",
       "      <td>Southwest Chief</td>\n",
       "      <td>118</td>\n",
       "      <td>1</td>\n",
       "      <td>aHR0cHM6Ly9jb250ZW50LmFtdHJhay5jb20vY29udGVudC...</td>\n",
       "      <td>https://content.amtrak.com/content/gtfs/GTFS.zip</td>\n",
       "      <td>LINESTRING (6489947.165 1842910.544, 6490209.2...</td>\n",
       "    </tr>\n",
       "  </tbody>\n",
       "</table>\n",
       "</div>"
      ],
      "text/plain": [
       "  route_id                                          geom_buff  \\\n",
       "0    36930  POLYGON ((7208303.849 1636404.080, 7208188.951...   \n",
       "1      398  POLYGON ((6754757.919 1526704.211, 6755220.959...   \n",
       "2      399  POLYGON ((6754673.376 1526896.526, 6754762.820...   \n",
       "3      507  POLYGON ((5558965.342 3505259.128, 5558958.407...   \n",
       "4       51  POLYGON ((6489445.068 1844204.366, 6490021.030...   \n",
       "\n",
       "              org_id                         agency route_type  \\\n",
       "0  recKsb5FnJy70up78                         Amtrak          2   \n",
       "1  recRBcrX4ZvTyvSnm  North County Transit District          2   \n",
       "2  recRBcrX4ZvTyvSnm  North County Transit District          0   \n",
       "3  rec43oyrfhtPDdRHj         City of Rancho Cordova          0   \n",
       "4  recKsb5FnJy70up78                         Amtrak          2   \n",
       "\n",
       "          route_name shape_id  n_trips  \\\n",
       "0     Sunset Limited      269        1   \n",
       "1            COASTER  3980014       15   \n",
       "2           SPRINTER  3990004       34   \n",
       "3  Downtown - Folsom    46380       26   \n",
       "4    Southwest Chief      118        1   \n",
       "\n",
       "                                          base64_url  \\\n",
       "0  aHR0cHM6Ly9jb250ZW50LmFtdHJhay5jb20vY29udGVudC...   \n",
       "1  aHR0cHM6Ly93d3cuZ29uY3RkLmNvbS9nb29nbGVfdHJhbn...   \n",
       "2  aHR0cHM6Ly93d3cuZ29uY3RkLmNvbS9nb29nbGVfdHJhbn...   \n",
       "3  aHR0cHM6Ly9pcG9ydGFsLnNhY3J0LmNvbS9HVEZTL1NSVE...   \n",
       "4  aHR0cHM6Ly9jb250ZW50LmFtdHJhay5jb20vY29udGVudC...   \n",
       "\n",
       "                                                 uri  \\\n",
       "0   https://content.amtrak.com/content/gtfs/GTFS.zip   \n",
       "1          https://www.gonctd.com/google_transit.zip   \n",
       "2          https://www.gonctd.com/google_transit.zip   \n",
       "3  https://iportal.sacrt.com/GTFS/SRTD/google_tra...   \n",
       "4   https://content.amtrak.com/content/gtfs/GTFS.zip   \n",
       "\n",
       "                                            geometry  \n",
       "0  MULTILINESTRING ((7602807.693 1377257.623, 760...  \n",
       "1  LINESTRING (6752456.581 1527639.188, 6752915.6...  \n",
       "2  LINESTRING (6751909.888 1528495.892, 6753315.8...  \n",
       "3  MULTILINESTRING ((5626117.107 3515594.727, 562...  \n",
       "4  LINESTRING (6489947.165 1842910.544, 6490209.2...  "
      ]
     },
     "metadata": {},
     "output_type": "display_data"
    },
    {
     "data": {
      "text/plain": [
       "<AxesSubplot:>"
      ]
     },
     "metadata": {},
     "output_type": "display_data"
    },
    {
     "data": {
      "text/plain": [
       "<Projected CRS: EPSG:2229>\n",
       "Name: NAD83 / California zone 5 (ftUS)\n",
       "Axis Info [cartesian]:\n",
       "- X[east]: Easting (US survey foot)\n",
       "- Y[north]: Northing (US survey foot)\n",
       "Area of Use:\n",
       "- name: United States (USA) - California - counties Kern; Los Angeles; San Bernardino; San Luis Obispo; Santa Barbara; Ventura.\n",
       "- bounds: (-121.42, 32.76, -114.12, 35.81)\n",
       "Coordinate Operation:\n",
       "- name: SPCS83 California zone 5 (US Survey feet)\n",
       "- method: Lambert Conic Conformal (2SP)\n",
       "Datum: North American Datum 1983\n",
       "- Ellipsoid: GRS 1980\n",
       "- Prime Meridian: Greenwich"
      ]
     },
     "metadata": {},
     "output_type": "display_data"
    },
    {
     "data": {
      "image/png": "[encoded data removed]",
      "text/plain": [
       "<Figure size 640x480 with 1 Axes>"
      ]
     },
     "metadata": {},
     "output_type": "display_data"
    }
   ],
   "source": [
    "gdf_check(ca_rail2)"
   ]
  },
  {
   "cell_type": "code",
   "execution_count": 98,
   "id": "4d9b5d34-f64e-45ee-b73f-8e08c8323fc0",
   "metadata": {},
   "outputs": [],
   "source": [
    "#test overlay with highway, then routes, intersection, keep_geom_type false\n",
    "\n",
    "test = gpd.overlay(ca_highways2, ca_rail2, how='intersection', keep_geom_type=True)"
   ]
  },
  {
   "cell_type": "code",
   "execution_count": 99,
   "id": "8909a384-f6d9-4e11-b5d2-0ceb3f828e84",
   "metadata": {},
   "outputs": [
    {
     "name": "stdout",
     "output_type": "stream",
     "text": [
      "Dataframe type is = <class 'geopandas.geodataframe.GeoDataFrame'>\n",
      "GDF shape is = (454, 17)\n",
      "Active geometry col name is = geometry\n"
     ]
    },
    {
     "data": {
      "text/html": [
       "<div>\n",
       "<style scoped>\n",
       "    .dataframe tbody tr th:only-of-type {\n",
       "        vertical-align: middle;\n",
       "    }\n",
       "\n",
       "    .dataframe tbody tr th {\n",
       "        vertical-align: top;\n",
       "    }\n",
       "\n",
       "    .dataframe thead th {\n",
       "        text-align: right;\n",
       "    }\n",
       "</style>\n",
       "<table border=\"1\" class=\"dataframe\">\n",
       "  <thead>\n",
       "    <tr style=\"text-align: right;\">\n",
       "      <th></th>\n",
       "      <th>Route</th>\n",
       "      <th>County</th>\n",
       "      <th>District</th>\n",
       "      <th>RouteType</th>\n",
       "      <th>Direction</th>\n",
       "      <th>geometry_1</th>\n",
       "      <th>route_id</th>\n",
       "      <th>org_id</th>\n",
       "      <th>agency</th>\n",
       "      <th>route_type</th>\n",
       "      <th>route_name</th>\n",
       "      <th>shape_id</th>\n",
       "      <th>n_trips</th>\n",
       "      <th>base64_url</th>\n",
       "      <th>uri</th>\n",
       "      <th>geometry_2</th>\n",
       "      <th>geometry</th>\n",
       "    </tr>\n",
       "  </thead>\n",
       "  <tbody>\n",
       "    <tr>\n",
       "      <th>0</th>\n",
       "      <td>1</td>\n",
       "      <td>LA</td>\n",
       "      <td>7</td>\n",
       "      <td>State</td>\n",
       "      <td>NB</td>\n",
       "      <td>MULTILINESTRING ((6518147.781 1746024.206, 651...</td>\n",
       "      <td>78</td>\n",
       "      <td>recKsb5FnJy70up78</td>\n",
       "      <td>Amtrak</td>\n",
       "      <td>2</td>\n",
       "      <td>Pacific Surfliner</td>\n",
       "      <td>101</td>\n",
       "      <td>5</td>\n",
       "      <td>aHR0cHM6Ly9jb250ZW50LmFtdHJhay5jb20vY29udGVudC...</td>\n",
       "      <td>https://content.amtrak.com/content/gtfs/GTFS.zip</td>\n",
       "      <td>LINESTRING (6489947.165 1842910.544, 6490209.2...</td>\n",
       "      <td>MULTIPOLYGON (((6658301.975 1626204.312, 66582...</td>\n",
       "    </tr>\n",
       "    <tr>\n",
       "      <th>1</th>\n",
       "      <td>2</td>\n",
       "      <td>LA</td>\n",
       "      <td>7</td>\n",
       "      <td>State</td>\n",
       "      <td>EB</td>\n",
       "      <td>MULTILINESTRING ((6490992.937 1865622.285, 649...</td>\n",
       "      <td>78</td>\n",
       "      <td>recKsb5FnJy70up78</td>\n",
       "      <td>Amtrak</td>\n",
       "      <td>2</td>\n",
       "      <td>Pacific Surfliner</td>\n",
       "      <td>101</td>\n",
       "      <td>5</td>\n",
       "      <td>aHR0cHM6Ly9jb250ZW50LmFtdHJhay5jb20vY29udGVudC...</td>\n",
       "      <td>https://content.amtrak.com/content/gtfs/GTFS.zip</td>\n",
       "      <td>LINESTRING (6489947.165 1842910.544, 6490209.2...</td>\n",
       "      <td>POLYGON ((6485263.594 1863359.038, 6485310.367...</td>\n",
       "    </tr>\n",
       "    <tr>\n",
       "      <th>2</th>\n",
       "      <td>5</td>\n",
       "      <td>COL</td>\n",
       "      <td>3</td>\n",
       "      <td>Interstate</td>\n",
       "      <td>NB</td>\n",
       "      <td>MULTILINESTRING ((5405204.172 3674443.942, 540...</td>\n",
       "      <td>78</td>\n",
       "      <td>recKsb5FnJy70up78</td>\n",
       "      <td>Amtrak</td>\n",
       "      <td>2</td>\n",
       "      <td>Pacific Surfliner</td>\n",
       "      <td>101</td>\n",
       "      <td>5</td>\n",
       "      <td>aHR0cHM6Ly9jb250ZW50LmFtdHJhay5jb20vY29udGVudC...</td>\n",
       "      <td>https://content.amtrak.com/content/gtfs/GTFS.zip</td>\n",
       "      <td>LINESTRING (6489947.165 1842910.544, 6490209.2...</td>\n",
       "      <td>MULTIPOLYGON (((6799399.139 1407345.533, 67993...</td>\n",
       "    </tr>\n",
       "    <tr>\n",
       "      <th>3</th>\n",
       "      <td>8</td>\n",
       "      <td>IMP</td>\n",
       "      <td>11</td>\n",
       "      <td>State</td>\n",
       "      <td>EB</td>\n",
       "      <td>MULTILINESTRING ((7600040.642 1378474.071, 760...</td>\n",
       "      <td>78</td>\n",
       "      <td>recKsb5FnJy70up78</td>\n",
       "      <td>Amtrak</td>\n",
       "      <td>2</td>\n",
       "      <td>Pacific Surfliner</td>\n",
       "      <td>101</td>\n",
       "      <td>5</td>\n",
       "      <td>aHR0cHM6Ly9jb250ZW50LmFtdHJhay5jb20vY29udGVudC...</td>\n",
       "      <td>https://content.amtrak.com/content/gtfs/GTFS.zip</td>\n",
       "      <td>LINESTRING (6489947.165 1842910.544, 6490209.2...</td>\n",
       "      <td>POLYGON ((6808933.445 1370848.187, 6808900.788...</td>\n",
       "    </tr>\n",
       "    <tr>\n",
       "      <th>4</th>\n",
       "      <td>10</td>\n",
       "      <td>LA</td>\n",
       "      <td>7</td>\n",
       "      <td>Interstate</td>\n",
       "      <td>EB</td>\n",
       "      <td>MULTILINESTRING ((6489639.072 1842402.822, 648...</td>\n",
       "      <td>78</td>\n",
       "      <td>recKsb5FnJy70up78</td>\n",
       "      <td>Amtrak</td>\n",
       "      <td>2</td>\n",
       "      <td>Pacific Surfliner</td>\n",
       "      <td>101</td>\n",
       "      <td>5</td>\n",
       "      <td>aHR0cHM6Ly9jb250ZW50LmFtdHJhay5jb20vY29udGVudC...</td>\n",
       "      <td>https://content.amtrak.com/content/gtfs/GTFS.zip</td>\n",
       "      <td>LINESTRING (6489947.165 1842910.544, 6490209.2...</td>\n",
       "      <td>MULTIPOLYGON (((6494521.083 1832206.392, 64944...</td>\n",
       "    </tr>\n",
       "  </tbody>\n",
       "</table>\n",
       "</div>"
      ],
      "text/plain": [
       "   Route County  District   RouteType Direction  \\\n",
       "0      1     LA         7       State        NB   \n",
       "1      2     LA         7       State        EB   \n",
       "2      5    COL         3  Interstate        NB   \n",
       "3      8    IMP        11       State        EB   \n",
       "4     10     LA         7  Interstate        EB   \n",
       "\n",
       "                                          geometry_1 route_id  \\\n",
       "0  MULTILINESTRING ((6518147.781 1746024.206, 651...       78   \n",
       "1  MULTILINESTRING ((6490992.937 1865622.285, 649...       78   \n",
       "2  MULTILINESTRING ((5405204.172 3674443.942, 540...       78   \n",
       "3  MULTILINESTRING ((7600040.642 1378474.071, 760...       78   \n",
       "4  MULTILINESTRING ((6489639.072 1842402.822, 648...       78   \n",
       "\n",
       "              org_id  agency route_type         route_name shape_id  n_trips  \\\n",
       "0  recKsb5FnJy70up78  Amtrak          2  Pacific Surfliner      101        5   \n",
       "1  recKsb5FnJy70up78  Amtrak          2  Pacific Surfliner      101        5   \n",
       "2  recKsb5FnJy70up78  Amtrak          2  Pacific Surfliner      101        5   \n",
       "3  recKsb5FnJy70up78  Amtrak          2  Pacific Surfliner      101        5   \n",
       "4  recKsb5FnJy70up78  Amtrak          2  Pacific Surfliner      101        5   \n",
       "\n",
       "                                          base64_url  \\\n",
       "0  aHR0cHM6Ly9jb250ZW50LmFtdHJhay5jb20vY29udGVudC...   \n",
       "1  aHR0cHM6Ly9jb250ZW50LmFtdHJhay5jb20vY29udGVudC...   \n",
       "2  aHR0cHM6Ly9jb250ZW50LmFtdHJhay5jb20vY29udGVudC...   \n",
       "3  aHR0cHM6Ly9jb250ZW50LmFtdHJhay5jb20vY29udGVudC...   \n",
       "4  aHR0cHM6Ly9jb250ZW50LmFtdHJhay5jb20vY29udGVudC...   \n",
       "\n",
       "                                                uri  \\\n",
       "0  https://content.amtrak.com/content/gtfs/GTFS.zip   \n",
       "1  https://content.amtrak.com/content/gtfs/GTFS.zip   \n",
       "2  https://content.amtrak.com/content/gtfs/GTFS.zip   \n",
       "3  https://content.amtrak.com/content/gtfs/GTFS.zip   \n",
       "4  https://content.amtrak.com/content/gtfs/GTFS.zip   \n",
       "\n",
       "                                          geometry_2  \\\n",
       "0  LINESTRING (6489947.165 1842910.544, 6490209.2...   \n",
       "1  LINESTRING (6489947.165 1842910.544, 6490209.2...   \n",
       "2  LINESTRING (6489947.165 1842910.544, 6490209.2...   \n",
       "3  LINESTRING (6489947.165 1842910.544, 6490209.2...   \n",
       "4  LINESTRING (6489947.165 1842910.544, 6490209.2...   \n",
       "\n",
       "                                            geometry  \n",
       "0  MULTIPOLYGON (((6658301.975 1626204.312, 66582...  \n",
       "1  POLYGON ((6485263.594 1863359.038, 6485310.367...  \n",
       "2  MULTIPOLYGON (((6799399.139 1407345.533, 67993...  \n",
       "3  POLYGON ((6808933.445 1370848.187, 6808900.788...  \n",
       "4  MULTIPOLYGON (((6494521.083 1832206.392, 64944...  "
      ]
     },
     "metadata": {},
     "output_type": "display_data"
    },
    {
     "data": {
      "text/plain": [
       "<AxesSubplot:>"
      ]
     },
     "metadata": {},
     "output_type": "display_data"
    },
    {
     "data": {
      "text/plain": [
       "<Projected CRS: EPSG:2229>\n",
       "Name: NAD83 / California zone 5 (ftUS)\n",
       "Axis Info [cartesian]:\n",
       "- X[east]: Easting (US survey foot)\n",
       "- Y[north]: Northing (US survey foot)\n",
       "Area of Use:\n",
       "- name: United States (USA) - California - counties Kern; Los Angeles; San Bernardino; San Luis Obispo; Santa Barbara; Ventura.\n",
       "- bounds: (-121.42, 32.76, -114.12, 35.81)\n",
       "Coordinate Operation:\n",
       "- name: SPCS83 California zone 5 (US Survey feet)\n",
       "- method: Lambert Conic Conformal (2SP)\n",
       "Datum: North American Datum 1983\n",
       "- Ellipsoid: GRS 1980\n",
       "- Prime Meridian: Greenwich"
      ]
     },
     "metadata": {},
     "output_type": "display_data"
    },
    {
     "data": {
      "image/png": "[encoded data removed]",
      "text/plain": [
       "<Figure size 640x480 with 1 Axes>"
      ]
     },
     "metadata": {},
     "output_type": "display_data"
    }
   ],
   "source": [
    "#test to see what happened\n",
    "gdf_check(test)"
   ]
  },
  {
   "cell_type": "markdown",
   "id": "6a8a7006-4c0f-440d-8f0b-3717dcd1c690",
   "metadata": {},
   "source": [
    "---\n",
    "hall of shame (test stuff)\n",
    "\n",
    "---"
   ]
  },
  {
   "cell_type": "code",
   "execution_count": null,
   "id": "a5f73b46-1c6a-4f99-b0b4-32df9c1d4b94",
   "metadata": {},
   "outputs": [],
   "source": [
    "#(list of) rail routes that are never within 0.25 miles of the SHN\n",
    "\n",
    "#get CA rail routes - 'ca_rail2' (with buffered col)\n",
    "#get CA highway map - `ca_highways2' (with buffered col)\n",
    "#add new geom column to highway map that buffers to 1320ft\n",
    "#use overlay to find rail routes that do not touch buffered geom col\n",
    "\n",
    "#ca_rail2.head()\n"
   ]
  },
  {
   "cell_type": "code",
   "execution_count": null,
   "id": "c6ef6c31-68c8-4eb5-af7c-207c82566042",
   "metadata": {},
   "outputs": [],
   "source": [
    "#ca_highways2.head()ax = df1.plot(color='red');\n",
    "\n",
    "#df2.plot(ax=ax, color='green', alpha=0.5);"
   ]
  },
  {
   "cell_type": "code",
   "execution_count": null,
   "id": "8d4a85fa-7edd-44c0-9370-b9e8d2548939",
   "metadata": {},
   "outputs": [],
   "source": [
    "##Test to plot rail routes over highways.\n",
    "\n",
    "\n",
    "#ax = ca_rail2.plot(color='red');\n",
    "\n",
    "#ca_highways2.plot(ax=ax, color='green', alpha=0.5);"
   ]
  },
  {
   "cell_type": "code",
   "execution_count": 58,
   "id": "bc52e7e3-0539-4c83-9d3c-33afedfb4596",
   "metadata": {},
   "outputs": [],
   "source": [
    "#test overlay of `ca_rail2` and `ca_highways2`, Result: a map of rail routes that are NOT touching a highway\n",
    "\n",
    "#testing different orders for overlays and how=\n",
    "\n",
    "#highway_rail = gpd.overlay(ca_highways2, ca_rail2, how='symmetric_difference', keep_geom_type=True)\n",
    "#rail_highway = gpd.overlay(ca_rail2, ca_highways2, how='symmetric_difference', keep_geom_type=True)"
   ]
  },
  {
   "cell_type": "code",
   "execution_count": 59,
   "id": "02bc0dc7-dddc-433a-a3a4-d310aa7a9b68",
   "metadata": {},
   "outputs": [],
   "source": [
    "#def test(x,y):\n",
    "#    display(x.shape),\n",
    "#    display(x.head()),\n",
    "#    display(y.shape),\n",
    "#    display(y.head()),\n",
    "#    display(x.plot(color='red')),\n",
    "#    display(y.plot(color='green'))\n",
    "#    return"
   ]
  },
  {
   "cell_type": "code",
   "execution_count": null,
   "id": "e5a50c9d-60df-4d8b-81ad-7b8d48279456",
   "metadata": {},
   "outputs": [],
   "source": [
    "#test(highway_rail, rail_highway)"
   ]
  },
  {
   "cell_type": "code",
   "execution_count": null,
   "id": "af498b3d-5984-4fd9-96d6-8bf6ef75aa92",
   "metadata": {},
   "outputs": [],
   "source": [
    "#from Amanda's ex. she:\n",
    "#1. joined rail routes and rail stops (inner, intersects)\n",
    "#2. overlayed highway(disolved) and rail routes join"
   ]
  },
  {
   "cell_type": "code",
   "execution_count": null,
   "id": "d636e0c8-a94e-4fb4-aed7-8bd1f7061111",
   "metadata": {},
   "outputs": [],
   "source": [
    "#what happens if you overlay points on polygon? which datasets are point and which are polygons?\n",
    "#ca_rail_stops = points, ca_rail2 (bufferd rail routes) = polygon\n",
    "\n",
    "#test = gpd.overlay(ca_rail_stops, ca_rail2, how='union', keep_geom_type=False)\n",
    "#test.plot()"
   ]
  },
  {
   "cell_type": "code",
   "execution_count": null,
   "id": "bda751b0-dea0-492e-a1d7-9160421d543f",
   "metadata": {},
   "outputs": [],
   "source": [
    "#test of points on line\n",
    "#ca_rail_stops on ca_rail\n",
    "\n",
    "#dont think sjoin gives me what i imagine (example of sjoin is more closer to clipping)\n",
    "\n",
    "#test of overlay\n",
    "#how ='intersection`: from gdf1, \n",
    "#how ='difference': from gdf1 remove the part that is gf2\n",
    "\n",
    "#does ca, ca_rail2, 'difference' show something different because both gdf have polygon geom type?\n",
    "\n",
    "#what about if both gdf are lines?\n",
    "#when its ca_highways,ca_rail2, difference: start to see gaps missing from highways\n",
    "\n",
    "#join1 = gpd.overlay(ca_stops, ca_highways2, how = 'intersection', keep_geom_type = True)\n",
    "\n",
    "#gdf_check(join1)"
   ]
  },
  {
   "cell_type": "code",
   "execution_count": null,
   "id": "a9cda2e1-5876-48da-88b5-7160e0ee5a18",
   "metadata": {},
   "outputs": [],
   "source": [
    "#Test of sjoins\n",
    "#sjoin ca_rail and ca_highways\n",
    "#doesnt look like it works as we are plotting lines on lines\n",
    "\n",
    "#join1 = gpd.sjoin(ca_rail2, ca_highways, how = 'inner', predicate = 'intersects')\n",
    "\n",
    "#when sjoin is ca_rail2,ca_highways, inner, intersects, get 3000 rows and map looks like rail routes\n",
    "#when sjoin is ca_rail2,ca_highways, left, intersects; similar results\n",
    "#when sjoin is ca_rail2,ca_highways, inner, within; no data and no map\n",
    "#when sjoin is ca_rail2,ca_highways, inner, contains; 68 rows, looks to be northern california\n",
    "#when sjoin is ca_rail2,ca_highways, inner, touches; no data no map\n",
    "#when sjoin is ca_rail2,ca_highways, inner, overlaps; no data no map\n",
    "\n",
    "#gdf_check(join1)"
   ]
  },
  {
   "cell_type": "code",
   "execution_count": null,
   "id": "fc6e7db2-dcbe-4362-8ada-cc768c4045c7",
   "metadata": {},
   "outputs": [],
   "source": [
    "#test of same sjoin, but swapping order. not working, says geometry col not set and cant plot\n",
    "\n",
    "# when ca_highway, ca_ril2, inner, intersects: \n",
    "\n",
    "#join2 = gpd.sjoin(ca_highways, ca_rail2.set_geometry('geom_buff'), how = 'inner', predicate = 'intersects')\n",
    "#join2.head()\n"
   ]
  },
  {
   "cell_type": "code",
   "execution_count": null,
   "id": "e5747924-9e95-4d57-a1e2-b8935bd72e0c",
   "metadata": {},
   "outputs": [],
   "source": [
    "#ca_rail is rail routes in CA buffered to 1320ft(.25miles)\n",
    "#gdf_check(ca_rail)"
   ]
  },
  {
   "cell_type": "code",
   "execution_count": null,
   "id": "000968b9-88f7-4c8d-b301-eebbc5fa2583",
   "metadata": {},
   "outputs": [],
   "source": [
    "#ca_highways.plot()"
   ]
  },
  {
   "cell_type": "code",
   "execution_count": null,
   "id": "39a232ed-2875-40fe-a6fe-d63660ca1096",
   "metadata": {},
   "outputs": [],
   "source": [
    "# add new col for length and half-legth of rail route from ca_rail\n",
    "# may need this later to update buffer\n",
    "#ca_rail = ca_rail.assign(length = ca_rail.geometry.length)\n",
    "#ca_rail.head()"
   ]
  },
  {
   "cell_type": "code",
   "execution_count": null,
   "id": "cf7fa2a5-0a16-44d6-a3fc-b8d856ae8396",
   "metadata": {},
   "outputs": [],
   "source": [
    "#Test of overlay districts and ca_rail_buffer \n",
    "\n",
    "#overlay = gpd.overlay(\n",
    "#    districts2229,\n",
    "#    ca_rail_buffer.set_geometry('g_buffer'),\n",
    "#    how = 'difference',\n",
    "#    keep_geom_type=True\n",
    "#)\n"
   ]
  },
  {
   "cell_type": "code",
   "execution_count": null,
   "id": "e3bd9cb8-3889-4505-86e6-3f711624bc31",
   "metadata": {},
   "outputs": [],
   "source": [
    "#districts2229"
   ]
  },
  {
   "cell_type": "code",
   "execution_count": null,
   "id": "cb290124-9714-4d54-a9fc-a4bc2728ee5e",
   "metadata": {},
   "outputs": [],
   "source": [
    "#ca_rail_buffer.head(2)"
   ]
  },
  {
   "cell_type": "code",
   "execution_count": null,
   "id": "28fb4327-690b-437f-a0db-b8e5ecfa3075",
   "metadata": {},
   "outputs": [],
   "source": [
    "#got something when i overlay districts and rail routes!\n",
    "\n",
    "#inspect what happens to the geometry column after overlaying. are there any duplicate rows? if so, why.\n",
    "#are the routes the same after the overlay?\n",
    "#remember to use length, and % of something. \n",
    "# \n",
    "#display(overlay)\n",
    "#display(overlay.geometry.name)\n",
    "#overlay.plot()"
   ]
  },
  {
   "cell_type": "code",
   "execution_count": null,
   "id": "6cea2ae5-d058-440c-ab47-311a300f30ea",
   "metadata": {},
   "outputs": [],
   "source": [
    "#import matplotlib.pyplot as plt\n",
    "\n"
   ]
  },
  {
   "cell_type": "code",
   "execution_count": null,
   "id": "2b7f1db0-0fbf-44a7-9aec-cbe5d4616011",
   "metadata": {},
   "outputs": [],
   "source": [
    "#try dissolving highways2999.\n",
    "#overlay changes geometry values.\n",
    "#try overlay to get length of rail route that interects\n",
    "#try to find difference of overlayed geomety from SHN\n",
    "\n",
    "#highways2229"
   ]
  },
  {
   "cell_type": "code",
   "execution_count": null,
   "id": "2107b415-753e-4af0-8158-f8916c12e8cc",
   "metadata": {},
   "outputs": [],
   "source": [
    "#found this via youtube tutorial.\n",
    "#maps the highways and rail routes over distrcts\n",
    "\n",
    "#fig, ax = plt.subplots(figsize = (10,8))\n",
    "#highways2229.plot(ax = ax, edgecolor = 'black')\n",
    "#ca_rail_buffer.plot(ax= ax, edgecolor = 'white')\n",
    "#districts2229.plot(ax = ax)"
   ]
  },
  {
   "cell_type": "code",
   "execution_count": null,
   "id": "9dd68671-c145-4276-8c27-0422252483bb",
   "metadata": {},
   "outputs": [],
   "source": []
  }
 ],
 "metadata": {
  "kernelspec": {
   "display_name": "Python 3 (ipykernel)",
   "language": "python",
   "name": "python3"
  },
  "language_info": {
   "codemirror_mode": {
    "name": "ipython",
    "version": 3
   },
   "file_extension": ".py",
   "mimetype": "text/x-python",
   "name": "python",
   "nbconvert_exporter": "python",
   "pygments_lexer": "ipython3",
   "version": "3.9.13"
  }
 },
 "nbformat": 4,
 "nbformat_minor": 5
}
