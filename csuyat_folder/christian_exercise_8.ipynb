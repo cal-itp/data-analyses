{
 "cells": [
  {
   "cell_type": "markdown",
   "id": "93e80df1-e5c7-4b91-82e8-7a83bcc7ae00",
   "metadata": {},
   "source": [
    "# Exercise 8: Put all the concepts in Exercise 7 together\n",
    "\n",
    "Skills:\n",
    "* Apply all the concepts covered in Exercise 7 for a research question. Know when to use what concept.\n",
    "\n",
    "References: \n",
    "* Exercise 7\n",
    "\n",
    "\n",
    "### To Do\n",
    "\n",
    "Narrow down the list of rail routes in CA to 3 groups. Use the SHN network to determine how much of the rail route runs near the SHN. We care only about rail routes that run entirely in CA (use stops to figure this out).\n",
    "\n",
    "**Near** the interstate, US highway, or state highway is defined by being within a quarter mile. For this exercise, the distinction between interstate, US highway, and state highway is not important; treat any road that shows up in the dataset as \"the SHN\".\n",
    "\n",
    "There are theoretically 3 groupings: \n",
    "* rail routes that are never within 0.25 miles of the SHN (>0.25\n",
    "* rail routes with > 0 but less than half of its length near the SHN (0<x<0.5)\n",
    "* rail routes with at least half of its length near the SHN(\n",
    "\n",
    "Provide a table and a chart showing how many rail routes fall into each of the 3 groups by district.\n",
    "\n",
    "Use a Markdown cell at the end to connect which geospatial concept was applied to which step of the process. The concepts that should be used are `projecting CRS`, `buffering`, `dissolve`, `clipping`, `spatial join`, `overlay`. "
   ]
  },
  {
   "cell_type": "markdown",
   "id": "40b483c5-233b-4547-956f-90f0f426f073",
   "metadata": {},
   "source": [
    "---\n",
    "---\n",
    "## Notes\n",
    "* all imported dfs are gdf \n",
    "* all with CRS 4326 (decimal degrees)\n",
    "* all with active geometry col set to `geometry`\n",
    "* all gdf filtered down to rail groups 0, 1 and 2\n",
    "* geometry type for each gdf\n",
    "    1. districts - polygon\n",
    "    2. ca_highways - multi line string \n",
    "    3. routes - line string\n",
    "    4. rail_routes - line string\n",
    "    5. stops - point\n",
    "    6. rail_stops - point\n",
    "* check the plots of all the gdfs\n",
    "* gdf not in CA\n",
    "    1. routes (nationwide)\n",
    "    2. rail routes (nationwide)\n",
    "    3. stops \n",
    "    4. rail stops \n",
    "---\n",
    "## Cleaning\n",
    "\n",
    "COMPLETE project all gdf to `EPSG:2229` to get everything in feet and clip all gdf to California only\n",
    "\n",
    "COMPLETE 1. dissolve districts map to be CA only.\n",
    "    * `ca` - California polygon\n",
    "        \n",
    "COMPLETE 2. update `ca_highways` map to new CRS\n",
    "    \n",
    "COMPLETE 3. clip the other gdf to CA map. \n",
    "    * `ca_routes` - transit routes in CA\n",
    "    * `ca_rail` - rail routes in CA for 0,1,2\n",
    "    * `ca_stops` - transit stops in CA\n",
    "    * `ca_rail_stops` - rail stops in CA for 0,1,2\n",
    "        \n",
    "COMPLETE 4. dissolve these ca maps to see what you get\n",
    "    * `ca_routes_d`\n",
    "    * `ca_rail_d`\n",
    "    * `ca_stops_d`  \n",
    "    * `ca_rail_stops_d`\n",
    "\n",
    "5. check all new gdf against `gdf_check` function to ensure everything looks good\n",
    "   \n",
    "   \n",
    "### prepare gdfs needed\n",
    "1. COMPLETE buffer rail routes to 1320ft (.25miles)\n",
    "    * `ca_rail_buffer`\n",
    "2. dissolved all of those clipped gdf\n",
    "    \n",
    "        \n",
    "---\n",
    "\n",
    "\n",
    "## Breakdown of steps\n",
    "\n",
    "    \n",
    "\n",
    "### Use the SHN network to determine how much of the rail route runs near the SHN (<.25 miles)\n",
    "   * need: \n",
    "       1. `ca_rail_buffer`\n",
    "       2. `ca highway` \n",
    "       3. `district`\n",
    "\n",
    "   * steps:\n",
    "       1. create a GDF that combines the geomtry cols of the 3 gdf\n",
    "       Or make a join of 2 gdf, then overlay the 3rd?\n",
    "       overlay is for intersecting layers?\n",
    "    \n",
    "### rail routes that are never within 0.25 miles of the SHN\n",
    "    * need:\n",
    "        1. buffered route map\n",
    "        \n",
    "\n",
    "### rail routes with > 0 but less than half of its length near the SHN\n",
    "    1. buffered rail route to < half_len\n",
    "\n",
    "### rail routes with at least half of its length near the SHN\n",
    "    1. buffered rail route to >= half_len\n",
    "---\n",
    "---"
   ]
  },
  {
   "cell_type": "code",
   "execution_count": 1,
   "id": "2bf3479c-9114-4bb7-be39-dad0127b2d8c",
   "metadata": {},
   "outputs": [
    {
     "name": "stderr",
     "output_type": "stream",
     "text": [
      "/opt/conda/lib/python3.9/site-packages/geopandas/_compat.py:124: UserWarning: The Shapely GEOS version (3.11.1-CAPI-1.17.1) is incompatible with the GEOS version PyGEOS was compiled with (3.10.1-CAPI-1.16.0). Conversions between both will be slow.\n",
      "  warnings.warn(\n",
      "/tmp/ipykernel_305/1769798718.py:1: DeprecationWarning: Shapely 2.0 is installed, but because PyGEOS is also installed, GeoPandas still uses PyGEOS by default. However, starting with version 0.14, the default will switch to Shapely. To force to use Shapely 2.0 now, you can either uninstall PyGEOS or set the environment variable USE_PYGEOS=0. You can do this before starting the Python process, or in your code before importing geopandas:\n",
      "\n",
      "import os\n",
      "os.environ['USE_PYGEOS'] = '0'\n",
      "import geopandas\n",
      "\n",
      "In the next release, GeoPandas will switch to using Shapely by default, even if PyGEOS is installed. If you only have PyGEOS installed to get speed-ups, this switch should be smooth. However, if you are using PyGEOS directly (calling PyGEOS functions on geometries from GeoPandas), this will then stop working and you are encouraged to migrate from PyGEOS to Shapely 2.0 (https://shapely.readthedocs.io/en/latest/migration_pygeos.html).\n",
      "  import geopandas as gpd\n"
     ]
    }
   ],
   "source": [
    "import geopandas as gpd\n",
    "import intake\n",
    "import pandas as pd\n",
    "\n",
    "catalog = intake.open_catalog(\n",
    "    \"../_shared_utils/shared_utils/shared_data_catalog.yml\")"
   ]
  },
  {
   "cell_type": "code",
   "execution_count": 2,
   "id": "4658193f-0de9-4287-8c33-cd21330ff8cb",
   "metadata": {},
   "outputs": [],
   "source": [
    "# Import data\n",
    "districts = catalog.caltrans_districts.read()\n",
    "ca_highways = catalog.state_highway_network.read()\n",
    "\n",
    "rail_group = ['0', '1', '2']\n",
    "routes = catalog.ca_transit_routes.read()\n",
    "rail_routes = routes[routes.route_type.isin(rail_group)\n",
    "                    ].reset_index(drop=True)\n",
    "\n",
    "stops = catalog.ca_transit_stops.read()\n",
    "rail_stops = stops[stops.route_type.isin(rail_group)\n",
    "                  ].reset_index(drop=True)"
   ]
  },
  {
   "cell_type": "markdown",
   "id": "f8886b93-7f47-4c93-ae94-96486606b19f",
   "metadata": {},
   "source": [
    "---\n",
    "\n",
    "## Geodataframe checks\n",
    "\n",
    "---"
   ]
  },
  {
   "cell_type": "code",
   "execution_count": 3,
   "id": "b1e1a77d-3727-428a-a4eb-416a40481133",
   "metadata": {},
   "outputs": [],
   "source": [
    "#function test\n",
    "\n",
    "def gdf_check(gdf):(\n",
    "    print(f'Dataframe type is = {type(gdf)}'),\n",
    "    print(f'GDF shape is = {gdf.shape}'),\n",
    "    print(f'Active geometry col name is = {gdf.geometry.name}'),\n",
    "    display(gdf.head()),\n",
    "    display(gdf.plot()),\n",
    "    display(gdf.crs)\n",
    "    )"
   ]
  },
  {
   "cell_type": "code",
   "execution_count": null,
   "id": "4ffaf1b2-d702-4e93-9e41-0c8083372f87",
   "metadata": {},
   "outputs": [],
   "source": [
    "#gdf of caltrans districts\n",
    "#1 row for each districts, each district is a polygon\n",
    "\n",
    "    #gdf_check(districts)"
   ]
  },
  {
   "cell_type": "code",
   "execution_count": null,
   "id": "4df7f45e-394c-4cc0-84f8-0b7d05d90fb5",
   "metadata": {},
   "outputs": [],
   "source": [
    "#gdf of CA highways\n",
    "#each row is a segment of a route, \n",
    "\n",
    "    #gdf_check(ca_highways)"
   ]
  },
  {
   "cell_type": "code",
   "execution_count": null,
   "id": "0562f0d2-64a7-4d5a-90e2-215a9140fa01",
   "metadata": {},
   "outputs": [],
   "source": [
    "    #rail_group"
   ]
  },
  {
   "cell_type": "code",
   "execution_count": null,
   "id": "24123c29-d924-48f1-bcf6-59827f05b937",
   "metadata": {},
   "outputs": [],
   "source": [
    "#gdf of all transit routes, nation wide?\n",
    "\n",
    "    #gdf_check(routes)"
   ]
  },
  {
   "cell_type": "code",
   "execution_count": null,
   "id": "eed5a1a7-dc13-4b84-9f24-79b8df3c6b8e",
   "metadata": {},
   "outputs": [],
   "source": [
    "#gdf of all rail routes, for the sub rail-group\n",
    "\n",
    "    #gdf_check(rail_routes)"
   ]
  },
  {
   "cell_type": "code",
   "execution_count": null,
   "id": "0b5050c0-86a2-4721-89ee-c9d69ab2ce16",
   "metadata": {},
   "outputs": [],
   "source": [
    "#gdf of all transit stops\n",
    "\n",
    "    #gdf_check(stops)"
   ]
  },
  {
   "cell_type": "code",
   "execution_count": null,
   "id": "1fa75963-8382-498f-a415-cf843f7dcf75",
   "metadata": {},
   "outputs": [],
   "source": [
    "#gdf of all rail stops\n",
    "\n",
    "    #gdf_check(rail_stops)"
   ]
  },
  {
   "cell_type": "markdown",
   "id": "a41601a9-4c18-4e9c-b95b-4861439edfbd",
   "metadata": {},
   "source": [
    "---\n",
    "\n",
    "## Cleaning\n",
    "\n",
    "---"
   ]
  },
  {
   "cell_type": "code",
   "execution_count": 7,
   "id": "f8c3d2f3-4d2a-40dc-b252-fc6091f8257e",
   "metadata": {},
   "outputs": [
    {
     "name": "stdout",
     "output_type": "stream",
     "text": [
      "Dataframe type is = <class 'geopandas.geodataframe.GeoDataFrame'>\n",
      "GDF shape is = (1, 6)\n",
      "Active geometry col name is = geometry\n"
     ]
    },
    {
     "data": {
      "text/html": [
       "<div>\n",
       "<style scoped>\n",
       "    .dataframe tbody tr th:only-of-type {\n",
       "        vertical-align: middle;\n",
       "    }\n",
       "\n",
       "    .dataframe tbody tr th {\n",
       "        vertical-align: top;\n",
       "    }\n",
       "\n",
       "    .dataframe thead th {\n",
       "        text-align: right;\n",
       "    }\n",
       "</style>\n",
       "<table border=\"1\" class=\"dataframe\">\n",
       "  <thead>\n",
       "    <tr style=\"text-align: right;\">\n",
       "      <th></th>\n",
       "      <th>geometry</th>\n",
       "      <th>OBJECTID</th>\n",
       "      <th>DISTRICT</th>\n",
       "      <th>Region</th>\n",
       "      <th>Shape__Area</th>\n",
       "      <th>Shape__Length</th>\n",
       "    </tr>\n",
       "  </thead>\n",
       "  <tbody>\n",
       "    <tr>\n",
       "      <th>0</th>\n",
       "      <td>POLYGON ((6105565.229 1946214.162, 6102975.223...</td>\n",
       "      <td>1</td>\n",
       "      <td>1</td>\n",
       "      <td>North</td>\n",
       "      <td>4.659910e+10</td>\n",
       "      <td>1.644579e+06</td>\n",
       "    </tr>\n",
       "  </tbody>\n",
       "</table>\n",
       "</div>"
      ],
      "text/plain": [
       "                                            geometry  OBJECTID  DISTRICT  \\\n",
       "0  POLYGON ((6105565.229 1946214.162, 6102975.223...         1         1   \n",
       "\n",
       "  Region   Shape__Area  Shape__Length  \n",
       "0  North  4.659910e+10   1.644579e+06  "
      ]
     },
     "metadata": {},
     "output_type": "display_data"
    },
    {
     "data": {
      "text/plain": [
       "<AxesSubplot:>"
      ]
     },
     "metadata": {},
     "output_type": "display_data"
    },
    {
     "data": {
      "text/plain": [
       "<Projected CRS: EPSG:2229>\n",
       "Name: NAD83 / California zone 5 (ftUS)\n",
       "Axis Info [cartesian]:\n",
       "- X[east]: Easting (US survey foot)\n",
       "- Y[north]: Northing (US survey foot)\n",
       "Area of Use:\n",
       "- name: United States (USA) - California - counties Kern; Los Angeles; San Bernardino; San Luis Obispo; Santa Barbara; Ventura.\n",
       "- bounds: (-121.42, 32.76, -114.12, 35.81)\n",
       "Coordinate Operation:\n",
       "- name: SPCS83 California zone 5 (US Survey feet)\n",
       "- method: Lambert Conic Conformal (2SP)\n",
       "Datum: North American Datum 1983\n",
       "- Ellipsoid: GRS 1980\n",
       "- Prime Meridian: Greenwich"
      ]
     },
     "metadata": {},
     "output_type": "display_data"
    },
    {
     "data": {
      "image/png": "[encoded data removed]",
      "text/plain": [
       "<Figure size 640x480 with 1 Axes>"
      ]
     },
     "metadata": {},
     "output_type": "display_data"
    }
   ],
   "source": [
    "#setting crs and dissolving district map to one polygon\n",
    "ca = districts.to_crs('EPSG:2229').dissolve()\n",
    "\n",
    "gdf_check(ca)"
   ]
  },
  {
   "cell_type": "code",
   "execution_count": 15,
   "id": "72ad9a06-3bd5-4c0c-938c-dfd2d41e0f01",
   "metadata": {},
   "outputs": [
    {
     "name": "stdout",
     "output_type": "stream",
     "text": [
      "Dataframe type is = <class 'geopandas.geodataframe.GeoDataFrame'>\n",
      "GDF shape is = (1052, 6)\n",
      "Active geometry col name is = geometry\n"
     ]
    },
    {
     "data": {
      "text/html": [
       "<div>\n",
       "<style scoped>\n",
       "    .dataframe tbody tr th:only-of-type {\n",
       "        vertical-align: middle;\n",
       "    }\n",
       "\n",
       "    .dataframe tbody tr th {\n",
       "        vertical-align: top;\n",
       "    }\n",
       "\n",
       "    .dataframe thead th {\n",
       "        text-align: right;\n",
       "    }\n",
       "</style>\n",
       "<table border=\"1\" class=\"dataframe\">\n",
       "  <thead>\n",
       "    <tr style=\"text-align: right;\">\n",
       "      <th></th>\n",
       "      <th>Route</th>\n",
       "      <th>County</th>\n",
       "      <th>District</th>\n",
       "      <th>RouteType</th>\n",
       "      <th>Direction</th>\n",
       "      <th>geometry</th>\n",
       "    </tr>\n",
       "  </thead>\n",
       "  <tbody>\n",
       "    <tr>\n",
       "      <th>0</th>\n",
       "      <td>1</td>\n",
       "      <td>LA</td>\n",
       "      <td>7</td>\n",
       "      <td>State</td>\n",
       "      <td>NB</td>\n",
       "      <td>MULTILINESTRING ((6518147.781 1746024.206, 651...</td>\n",
       "    </tr>\n",
       "    <tr>\n",
       "      <th>1</th>\n",
       "      <td>1</td>\n",
       "      <td>LA</td>\n",
       "      <td>7</td>\n",
       "      <td>State</td>\n",
       "      <td>SB</td>\n",
       "      <td>MULTILINESTRING ((6441469.111 1802436.519, 644...</td>\n",
       "    </tr>\n",
       "    <tr>\n",
       "      <th>2</th>\n",
       "      <td>1</td>\n",
       "      <td>MEN</td>\n",
       "      <td>1</td>\n",
       "      <td>State</td>\n",
       "      <td>NB</td>\n",
       "      <td>MULTILINESTRING ((4921021.829 3983216.471, 492...</td>\n",
       "    </tr>\n",
       "    <tr>\n",
       "      <th>3</th>\n",
       "      <td>1</td>\n",
       "      <td>MEN</td>\n",
       "      <td>1</td>\n",
       "      <td>State</td>\n",
       "      <td>SB</td>\n",
       "      <td>MULTILINESTRING ((4925456.388 3944268.826, 492...</td>\n",
       "    </tr>\n",
       "    <tr>\n",
       "      <th>4</th>\n",
       "      <td>1</td>\n",
       "      <td>MON</td>\n",
       "      <td>5</td>\n",
       "      <td>State</td>\n",
       "      <td>NB</td>\n",
       "      <td>MULTILINESTRING ((5458132.055 2852112.660, 545...</td>\n",
       "    </tr>\n",
       "  </tbody>\n",
       "</table>\n",
       "</div>"
      ],
      "text/plain": [
       "   Route County  District RouteType Direction  \\\n",
       "0      1     LA         7     State        NB   \n",
       "1      1     LA         7     State        SB   \n",
       "2      1    MEN         1     State        NB   \n",
       "3      1    MEN         1     State        SB   \n",
       "4      1    MON         5     State        NB   \n",
       "\n",
       "                                            geometry  \n",
       "0  MULTILINESTRING ((6518147.781 1746024.206, 651...  \n",
       "1  MULTILINESTRING ((6441469.111 1802436.519, 644...  \n",
       "2  MULTILINESTRING ((4921021.829 3983216.471, 492...  \n",
       "3  MULTILINESTRING ((4925456.388 3944268.826, 492...  \n",
       "4  MULTILINESTRING ((5458132.055 2852112.660, 545...  "
      ]
     },
     "metadata": {},
     "output_type": "display_data"
    },
    {
     "data": {
      "text/plain": [
       "<AxesSubplot:>"
      ]
     },
     "metadata": {},
     "output_type": "display_data"
    },
    {
     "data": {
      "text/plain": [
       "<Projected CRS: EPSG:2229>\n",
       "Name: NAD83 / California zone 5 (ftUS)\n",
       "Axis Info [cartesian]:\n",
       "- X[east]: Easting (US survey foot)\n",
       "- Y[north]: Northing (US survey foot)\n",
       "Area of Use:\n",
       "- name: United States (USA) - California - counties Kern; Los Angeles; San Bernardino; San Luis Obispo; Santa Barbara; Ventura.\n",
       "- bounds: (-121.42, 32.76, -114.12, 35.81)\n",
       "Coordinate Operation:\n",
       "- name: SPCS83 California zone 5 (US Survey feet)\n",
       "- method: Lambert Conic Conformal (2SP)\n",
       "Datum: North American Datum 1983\n",
       "- Ellipsoid: GRS 1980\n",
       "- Prime Meridian: Greenwich"
      ]
     },
     "metadata": {},
     "output_type": "display_data"
    },
    {
     "data": {
      "image/png": "[encoded data removed]",
      "text/plain": [
       "<Figure size 640x480 with 1 Axes>"
      ]
     },
     "metadata": {},
     "output_type": "display_data"
    }
   ],
   "source": [
    "#update CRS for ca_highways\n",
    "\n",
    "ca_highways = ca_highways.to_crs('EPSG:2229')\n",
    "\n",
    "gdf_check(ca_highways)"
   ]
  },
  {
   "cell_type": "code",
   "execution_count": 10,
   "id": "2bfa265e-d9c9-4c56-9bd4-71b6c723a832",
   "metadata": {},
   "outputs": [],
   "source": [
    "#test to combine clipping and CRS\n",
    "#TEST WORKS! apply same to other gdfs\n",
    "\n",
    "ca_routes = routes.to_crs('EPSG:2229').clip(ca)"
   ]
  },
  {
   "cell_type": "code",
   "execution_count": 11,
   "id": "275dc180-84a9-4aac-b53a-f673e6801a99",
   "metadata": {},
   "outputs": [],
   "source": [
    "ca_rail = rail_routes.to_crs('EPSG:2229').clip(ca)"
   ]
  },
  {
   "cell_type": "code",
   "execution_count": 12,
   "id": "89d439a1-89bf-4c34-ab8b-821cdc9c8486",
   "metadata": {},
   "outputs": [],
   "source": [
    "ca_stops = stops.to_crs('EPSG:2229').clip(ca)"
   ]
  },
  {
   "cell_type": "code",
   "execution_count": 13,
   "id": "1505935e-55f1-4e3e-a9d1-1b9a3ad3a527",
   "metadata": {},
   "outputs": [],
   "source": [
    "ca_rail_stops = rail_stops.to_crs('EPSG:2229').clip(ca)"
   ]
  },
  {
   "cell_type": "code",
   "execution_count": 14,
   "id": "ccb7d987-6576-44d1-bdcd-e61cee0ab3dd",
   "metadata": {},
   "outputs": [
    {
     "name": "stdout",
     "output_type": "stream",
     "text": [
      "Dataframe type is = <class 'geopandas.geodataframe.GeoDataFrame'>\n",
      "GDF shape is = (6516, 10)\n",
      "Active geometry col name is = geometry\n"
     ]
    },
    {
     "data": {
      "text/html": [
       "<div>\n",
       "<style scoped>\n",
       "    .dataframe tbody tr th:only-of-type {\n",
       "        vertical-align: middle;\n",
       "    }\n",
       "\n",
       "    .dataframe tbody tr th {\n",
       "        vertical-align: top;\n",
       "    }\n",
       "\n",
       "    .dataframe thead th {\n",
       "        text-align: right;\n",
       "    }\n",
       "</style>\n",
       "<table border=\"1\" class=\"dataframe\">\n",
       "  <thead>\n",
       "    <tr style=\"text-align: right;\">\n",
       "      <th></th>\n",
       "      <th>org_id</th>\n",
       "      <th>agency</th>\n",
       "      <th>route_id</th>\n",
       "      <th>route_type</th>\n",
       "      <th>route_name</th>\n",
       "      <th>shape_id</th>\n",
       "      <th>n_trips</th>\n",
       "      <th>base64_url</th>\n",
       "      <th>uri</th>\n",
       "      <th>geometry</th>\n",
       "    </tr>\n",
       "  </thead>\n",
       "  <tbody>\n",
       "    <tr>\n",
       "      <th>22</th>\n",
       "      <td>recKsb5FnJy70up78</td>\n",
       "      <td>Amtrak</td>\n",
       "      <td>36930</td>\n",
       "      <td>2</td>\n",
       "      <td>Sunset Limited</td>\n",
       "      <td>269</td>\n",
       "      <td>1</td>\n",
       "      <td>aHR0cHM6Ly9jb250ZW50LmFtdHJhay5jb20vY29udGVudC...</td>\n",
       "      <td>https://content.amtrak.com/content/gtfs/GTFS.zip</td>\n",
       "      <td>MULTILINESTRING ((7602807.693 1377257.623, 760...</td>\n",
       "    </tr>\n",
       "    <tr>\n",
       "      <th>23</th>\n",
       "      <td>recKsb5FnJy70up78</td>\n",
       "      <td>Amtrak</td>\n",
       "      <td>36930</td>\n",
       "      <td>2</td>\n",
       "      <td>Sunset Limited</td>\n",
       "      <td>271</td>\n",
       "      <td>1</td>\n",
       "      <td>aHR0cHM6Ly9jb250ZW50LmFtdHJhay5jb20vY29udGVudC...</td>\n",
       "      <td>https://content.amtrak.com/content/gtfs/GTFS.zip</td>\n",
       "      <td>MULTILINESTRING ((6489947.165 1842910.544, 649...</td>\n",
       "    </tr>\n",
       "    <tr>\n",
       "      <th>2848</th>\n",
       "      <td>recLW3EuIHTqTjdds</td>\n",
       "      <td>Greyhound</td>\n",
       "      <td>US1001</td>\n",
       "      <td>3</td>\n",
       "      <td>Phoenix - Houston</td>\n",
       "      <td>c37251529f04a05b2574ce6daa6843b4</td>\n",
       "      <td>1</td>\n",
       "      <td>aHR0cDovL2d0ZnMuZ2lzLmZsaXgudGVjaC9ndGZzX2dlbm...</td>\n",
       "      <td>http://gtfs.gis.flix.tech/gtfs_generic_us.zip</td>\n",
       "      <td>MULTILINESTRING ((7617963.358 1696760.580, 761...</td>\n",
       "    </tr>\n",
       "    <tr>\n",
       "      <th>2847</th>\n",
       "      <td>recLW3EuIHTqTjdds</td>\n",
       "      <td>Greyhound</td>\n",
       "      <td>US1001</td>\n",
       "      <td>3</td>\n",
       "      <td>Phoenix - Houston</td>\n",
       "      <td>a2bb22ec6b8d212187fa35489ed076a0</td>\n",
       "      <td>1</td>\n",
       "      <td>aHR0cDovL2d0ZnMuZ2lzLmZsaXgudGVjaC9ndGZzX2dlbm...</td>\n",
       "      <td>http://gtfs.gis.flix.tech/gtfs_generic_us.zip</td>\n",
       "      <td>MULTILINESTRING ((6491323.819 1842508.112, 649...</td>\n",
       "    </tr>\n",
       "    <tr>\n",
       "      <th>5840</th>\n",
       "      <td>rech5YtfjpQvVIBAF</td>\n",
       "      <td>Flagship Cruises and Events Inc.</td>\n",
       "      <td>894</td>\n",
       "      <td>3</td>\n",
       "      <td>Morena/Campo - El Cajon</td>\n",
       "      <td>S2_894_2_33</td>\n",
       "      <td>1</td>\n",
       "      <td>aHR0cHM6Ly93d3cuc2RtdHMuY29tL2dvb2dsZV90cmFuc2...</td>\n",
       "      <td>https://www.sdmts.com/google_transit_files/goo...</td>\n",
       "      <td>MULTILINESTRING ((6892035.793 1361216.709, 689...</td>\n",
       "    </tr>\n",
       "  </tbody>\n",
       "</table>\n",
       "</div>"
      ],
      "text/plain": [
       "                 org_id                            agency route_id route_type  \\\n",
       "22    recKsb5FnJy70up78                            Amtrak    36930          2   \n",
       "23    recKsb5FnJy70up78                            Amtrak    36930          2   \n",
       "2848  recLW3EuIHTqTjdds                         Greyhound   US1001          3   \n",
       "2847  recLW3EuIHTqTjdds                         Greyhound   US1001          3   \n",
       "5840  rech5YtfjpQvVIBAF  Flagship Cruises and Events Inc.      894          3   \n",
       "\n",
       "                   route_name                          shape_id  n_trips  \\\n",
       "22             Sunset Limited                               269        1   \n",
       "23             Sunset Limited                               271        1   \n",
       "2848        Phoenix - Houston  c37251529f04a05b2574ce6daa6843b4        1   \n",
       "2847        Phoenix - Houston  a2bb22ec6b8d212187fa35489ed076a0        1   \n",
       "5840  Morena/Campo - El Cajon                       S2_894_2_33        1   \n",
       "\n",
       "                                             base64_url  \\\n",
       "22    aHR0cHM6Ly9jb250ZW50LmFtdHJhay5jb20vY29udGVudC...   \n",
       "23    aHR0cHM6Ly9jb250ZW50LmFtdHJhay5jb20vY29udGVudC...   \n",
       "2848  aHR0cDovL2d0ZnMuZ2lzLmZsaXgudGVjaC9ndGZzX2dlbm...   \n",
       "2847  aHR0cDovL2d0ZnMuZ2lzLmZsaXgudGVjaC9ndGZzX2dlbm...   \n",
       "5840  aHR0cHM6Ly93d3cuc2RtdHMuY29tL2dvb2dsZV90cmFuc2...   \n",
       "\n",
       "                                                    uri  \\\n",
       "22     https://content.amtrak.com/content/gtfs/GTFS.zip   \n",
       "23     https://content.amtrak.com/content/gtfs/GTFS.zip   \n",
       "2848      http://gtfs.gis.flix.tech/gtfs_generic_us.zip   \n",
       "2847      http://gtfs.gis.flix.tech/gtfs_generic_us.zip   \n",
       "5840  https://www.sdmts.com/google_transit_files/goo...   \n",
       "\n",
       "                                               geometry  \n",
       "22    MULTILINESTRING ((7602807.693 1377257.623, 760...  \n",
       "23    MULTILINESTRING ((6489947.165 1842910.544, 649...  \n",
       "2848  MULTILINESTRING ((7617963.358 1696760.580, 761...  \n",
       "2847  MULTILINESTRING ((6491323.819 1842508.112, 649...  \n",
       "5840  MULTILINESTRING ((6892035.793 1361216.709, 689...  "
      ]
     },
     "metadata": {},
     "output_type": "display_data"
    },
    {
     "data": {
      "text/plain": [
       "<AxesSubplot:>"
      ]
     },
     "metadata": {},
     "output_type": "display_data"
    },
    {
     "data": {
      "text/plain": [
       "<Projected CRS: EPSG:2229>\n",
       "Name: NAD83 / California zone 5 (ftUS)\n",
       "Axis Info [cartesian]:\n",
       "- X[east]: Easting (US survey foot)\n",
       "- Y[north]: Northing (US survey foot)\n",
       "Area of Use:\n",
       "- name: United States (USA) - California - counties Kern; Los Angeles; San Bernardino; San Luis Obispo; Santa Barbara; Ventura.\n",
       "- bounds: (-121.42, 32.76, -114.12, 35.81)\n",
       "Coordinate Operation:\n",
       "- name: SPCS83 California zone 5 (US Survey feet)\n",
       "- method: Lambert Conic Conformal (2SP)\n",
       "Datum: North American Datum 1983\n",
       "- Ellipsoid: GRS 1980\n",
       "- Prime Meridian: Greenwich"
      ]
     },
     "metadata": {},
     "output_type": "display_data"
    },
    {
     "data": {
      "image/png": "[encoded data removed]",
      "text/plain": [
       "<Figure size 640x480 with 1 Axes>"
      ]
     },
     "metadata": {},
     "output_type": "display_data"
    }
   ],
   "source": [
    "# try GDF check on clipped gdf\n",
    "gdf_check(ca_routes)\n"
   ]
  },
  {
   "cell_type": "code",
   "execution_count": 16,
   "id": "3b5992eb-099d-4e76-8853-18e70a0d8d3d",
   "metadata": {},
   "outputs": [
    {
     "name": "stdout",
     "output_type": "stream",
     "text": [
      "Dataframe type is = <class 'geopandas.geodataframe.GeoDataFrame'>\n",
      "GDF shape is = (145, 10)\n",
      "Active geometry col name is = geometry\n"
     ]
    },
    {
     "data": {
      "text/html": [
       "<div>\n",
       "<style scoped>\n",
       "    .dataframe tbody tr th:only-of-type {\n",
       "        vertical-align: middle;\n",
       "    }\n",
       "\n",
       "    .dataframe tbody tr th {\n",
       "        vertical-align: top;\n",
       "    }\n",
       "\n",
       "    .dataframe thead th {\n",
       "        text-align: right;\n",
       "    }\n",
       "</style>\n",
       "<table border=\"1\" class=\"dataframe\">\n",
       "  <thead>\n",
       "    <tr style=\"text-align: right;\">\n",
       "      <th></th>\n",
       "      <th>org_id</th>\n",
       "      <th>agency</th>\n",
       "      <th>route_id</th>\n",
       "      <th>route_type</th>\n",
       "      <th>route_name</th>\n",
       "      <th>shape_id</th>\n",
       "      <th>n_trips</th>\n",
       "      <th>base64_url</th>\n",
       "      <th>uri</th>\n",
       "      <th>geometry</th>\n",
       "    </tr>\n",
       "  </thead>\n",
       "  <tbody>\n",
       "    <tr>\n",
       "      <th>167</th>\n",
       "      <td>recPnGkwdpnr8jmHB</td>\n",
       "      <td>Los Angeles County Metropolitan Transportation...</td>\n",
       "      <td>805</td>\n",
       "      <td>1</td>\n",
       "      <td>Metro D-Line</td>\n",
       "      <td>805EB_190513</td>\n",
       "      <td>89</td>\n",
       "      <td>aHR0cHM6Ly9naXRsYWIuY29tL0xBQ01UQS9ndGZzX3JhaW...</td>\n",
       "      <td>https://gitlab.com/LACMTA/gtfs_rail/raw/master...</td>\n",
       "      <td>LINESTRING (6467811.689 1844958.751, 6467905.8...</td>\n",
       "    </tr>\n",
       "    <tr>\n",
       "      <th>168</th>\n",
       "      <td>recPnGkwdpnr8jmHB</td>\n",
       "      <td>Los Angeles County Metropolitan Transportation...</td>\n",
       "      <td>805</td>\n",
       "      <td>1</td>\n",
       "      <td>Metro D-Line</td>\n",
       "      <td>805WB_190513</td>\n",
       "      <td>88</td>\n",
       "      <td>aHR0cHM6Ly9naXRsYWIuY29tL0xBQ01UQS9ndGZzX3JhaW...</td>\n",
       "      <td>https://gitlab.com/LACMTA/gtfs_rail/raw/master...</td>\n",
       "      <td>LINESTRING (6491361.499 1839175.379, 6491362.1...</td>\n",
       "    </tr>\n",
       "    <tr>\n",
       "      <th>161</th>\n",
       "      <td>recPnGkwdpnr8jmHB</td>\n",
       "      <td>Los Angeles County Metropolitan Transportation...</td>\n",
       "      <td>802</td>\n",
       "      <td>1</td>\n",
       "      <td>Metro B-Line</td>\n",
       "      <td>802EB_190513</td>\n",
       "      <td>91</td>\n",
       "      <td>aHR0cHM6Ly9naXRsYWIuY29tL0xBQ01UQS9ndGZzX3JhaW...</td>\n",
       "      <td>https://gitlab.com/LACMTA/gtfs_rail/raw/master...</td>\n",
       "      <td>LINESTRING (6447247.135 1884754.987, 6447751.8...</td>\n",
       "    </tr>\n",
       "    <tr>\n",
       "      <th>162</th>\n",
       "      <td>recPnGkwdpnr8jmHB</td>\n",
       "      <td>Los Angeles County Metropolitan Transportation...</td>\n",
       "      <td>802</td>\n",
       "      <td>1</td>\n",
       "      <td>Metro B-Line</td>\n",
       "      <td>802WB_190513</td>\n",
       "      <td>91</td>\n",
       "      <td>aHR0cHM6Ly9naXRsYWIuY29tL0xBQ01UQS9ndGZzX3JhaW...</td>\n",
       "      <td>https://gitlab.com/LACMTA/gtfs_rail/raw/master...</td>\n",
       "      <td>LINESTRING (6491361.510 1839175.378, 6491362.2...</td>\n",
       "    </tr>\n",
       "    <tr>\n",
       "      <th>147</th>\n",
       "      <td>recC5CT95EufmQCXr</td>\n",
       "      <td>Santa Clara Valley Transportation Authority</td>\n",
       "      <td>BlueS</td>\n",
       "      <td>0</td>\n",
       "      <td>Due to construction, portions of Light Rail re...</td>\n",
       "      <td>110754</td>\n",
       "      <td>2</td>\n",
       "      <td>aHR0cHM6Ly9hcGkuNTExLm9yZy90cmFuc2l0L2RhdGFmZW...</td>\n",
       "      <td>https://api.511.org/transit/datafeeds?api_key=...</td>\n",
       "      <td>LINESTRING (5426631.150 3064619.004, 5427824.4...</td>\n",
       "    </tr>\n",
       "  </tbody>\n",
       "</table>\n",
       "</div>"
      ],
      "text/plain": [
       "                org_id                                             agency  \\\n",
       "167  recPnGkwdpnr8jmHB  Los Angeles County Metropolitan Transportation...   \n",
       "168  recPnGkwdpnr8jmHB  Los Angeles County Metropolitan Transportation...   \n",
       "161  recPnGkwdpnr8jmHB  Los Angeles County Metropolitan Transportation...   \n",
       "162  recPnGkwdpnr8jmHB  Los Angeles County Metropolitan Transportation...   \n",
       "147  recC5CT95EufmQCXr        Santa Clara Valley Transportation Authority   \n",
       "\n",
       "    route_id route_type                                         route_name  \\\n",
       "167      805          1                                       Metro D-Line   \n",
       "168      805          1                                       Metro D-Line   \n",
       "161      802          1                                       Metro B-Line   \n",
       "162      802          1                                       Metro B-Line   \n",
       "147    BlueS          0  Due to construction, portions of Light Rail re...   \n",
       "\n",
       "         shape_id  n_trips                                         base64_url  \\\n",
       "167  805EB_190513       89  aHR0cHM6Ly9naXRsYWIuY29tL0xBQ01UQS9ndGZzX3JhaW...   \n",
       "168  805WB_190513       88  aHR0cHM6Ly9naXRsYWIuY29tL0xBQ01UQS9ndGZzX3JhaW...   \n",
       "161  802EB_190513       91  aHR0cHM6Ly9naXRsYWIuY29tL0xBQ01UQS9ndGZzX3JhaW...   \n",
       "162  802WB_190513       91  aHR0cHM6Ly9naXRsYWIuY29tL0xBQ01UQS9ndGZzX3JhaW...   \n",
       "147        110754        2  aHR0cHM6Ly9hcGkuNTExLm9yZy90cmFuc2l0L2RhdGFmZW...   \n",
       "\n",
       "                                                   uri  \\\n",
       "167  https://gitlab.com/LACMTA/gtfs_rail/raw/master...   \n",
       "168  https://gitlab.com/LACMTA/gtfs_rail/raw/master...   \n",
       "161  https://gitlab.com/LACMTA/gtfs_rail/raw/master...   \n",
       "162  https://gitlab.com/LACMTA/gtfs_rail/raw/master...   \n",
       "147  https://api.511.org/transit/datafeeds?api_key=...   \n",
       "\n",
       "                                              geometry  \n",
       "167  LINESTRING (6467811.689 1844958.751, 6467905.8...  \n",
       "168  LINESTRING (6491361.499 1839175.379, 6491362.1...  \n",
       "161  LINESTRING (6447247.135 1884754.987, 6447751.8...  \n",
       "162  LINESTRING (6491361.510 1839175.378, 6491362.2...  \n",
       "147  LINESTRING (5426631.150 3064619.004, 5427824.4...  "
      ]
     },
     "metadata": {},
     "output_type": "display_data"
    },
    {
     "data": {
      "text/plain": [
       "<AxesSubplot:>"
      ]
     },
     "metadata": {},
     "output_type": "display_data"
    },
    {
     "data": {
      "text/plain": [
       "<Projected CRS: EPSG:2229>\n",
       "Name: NAD83 / California zone 5 (ftUS)\n",
       "Axis Info [cartesian]:\n",
       "- X[east]: Easting (US survey foot)\n",
       "- Y[north]: Northing (US survey foot)\n",
       "Area of Use:\n",
       "- name: United States (USA) - California - counties Kern; Los Angeles; San Bernardino; San Luis Obispo; Santa Barbara; Ventura.\n",
       "- bounds: (-121.42, 32.76, -114.12, 35.81)\n",
       "Coordinate Operation:\n",
       "- name: SPCS83 California zone 5 (US Survey feet)\n",
       "- method: Lambert Conic Conformal (2SP)\n",
       "Datum: North American Datum 1983\n",
       "- Ellipsoid: GRS 1980\n",
       "- Prime Meridian: Greenwich"
      ]
     },
     "metadata": {},
     "output_type": "display_data"
    },
    {
     "data": {
      "image/png": "[encoded data removed]",
      "text/plain": [
       "<Figure size 640x480 with 1 Axes>"
      ]
     },
     "metadata": {},
     "output_type": "display_data"
    }
   ],
   "source": [
    "gdf_check(ca_rail)"
   ]
  },
  {
   "cell_type": "code",
   "execution_count": 17,
   "id": "797ce54b-862a-4a6b-a9f5-de74640e79d7",
   "metadata": {},
   "outputs": [
    {
     "name": "stdout",
     "output_type": "stream",
     "text": [
      "Dataframe type is = <class 'geopandas.geodataframe.GeoDataFrame'>\n",
      "GDF shape is = (116559, 9)\n",
      "Active geometry col name is = geometry\n"
     ]
    },
    {
     "data": {
      "text/html": [
       "<div>\n",
       "<style scoped>\n",
       "    .dataframe tbody tr th:only-of-type {\n",
       "        vertical-align: middle;\n",
       "    }\n",
       "\n",
       "    .dataframe tbody tr th {\n",
       "        vertical-align: top;\n",
       "    }\n",
       "\n",
       "    .dataframe thead th {\n",
       "        text-align: right;\n",
       "    }\n",
       "</style>\n",
       "<table border=\"1\" class=\"dataframe\">\n",
       "  <thead>\n",
       "    <tr style=\"text-align: right;\">\n",
       "      <th></th>\n",
       "      <th>org_id</th>\n",
       "      <th>agency</th>\n",
       "      <th>route_id</th>\n",
       "      <th>route_type</th>\n",
       "      <th>stop_id</th>\n",
       "      <th>stop_name</th>\n",
       "      <th>base64_url</th>\n",
       "      <th>uri</th>\n",
       "      <th>geometry</th>\n",
       "    </tr>\n",
       "  </thead>\n",
       "  <tbody>\n",
       "    <tr>\n",
       "      <th>102103</th>\n",
       "      <td>rech5YtfjpQvVIBAF</td>\n",
       "      <td>Flagship Cruises and Events Inc.</td>\n",
       "      <td>950</td>\n",
       "      <td>3</td>\n",
       "      <td>88963</td>\n",
       "      <td>Otay Mesa Transit Center</td>\n",
       "      <td>aHR0cHM6Ly93d3cuc2RtdHMuY29tL2dvb2dsZV90cmFuc2...</td>\n",
       "      <td>https://www.sdmts.com/google_transit_files/goo...</td>\n",
       "      <td>POINT (6888566.919 1297344.013)</td>\n",
       "    </tr>\n",
       "    <tr>\n",
       "      <th>101162</th>\n",
       "      <td>rech5YtfjpQvVIBAF</td>\n",
       "      <td>Flagship Cruises and Events Inc.</td>\n",
       "      <td>909</td>\n",
       "      <td>3</td>\n",
       "      <td>60529</td>\n",
       "      <td>Via De La Amistad &amp; Roll Dr</td>\n",
       "      <td>aHR0cHM6Ly93d3cuc2RtdHMuY29tL2dvb2dsZV90cmFuc2...</td>\n",
       "      <td>https://www.sdmts.com/google_transit_files/goo...</td>\n",
       "      <td>POINT (6889498.731 1297378.021)</td>\n",
       "    </tr>\n",
       "    <tr>\n",
       "      <th>101173</th>\n",
       "      <td>rech5YtfjpQvVIBAF</td>\n",
       "      <td>Flagship Cruises and Events Inc.</td>\n",
       "      <td>909</td>\n",
       "      <td>3</td>\n",
       "      <td>88964</td>\n",
       "      <td>Otay Mesa Transit Center</td>\n",
       "      <td>aHR0cHM6Ly93d3cuc2RtdHMuY29tL2dvb2dsZV90cmFuc2...</td>\n",
       "      <td>https://www.sdmts.com/google_transit_files/goo...</td>\n",
       "      <td>POINT (6888510.894 1297383.680)</td>\n",
       "    </tr>\n",
       "    <tr>\n",
       "      <th>101065</th>\n",
       "      <td>rech5YtfjpQvVIBAF</td>\n",
       "      <td>Flagship Cruises and Events Inc.</td>\n",
       "      <td>905</td>\n",
       "      <td>3</td>\n",
       "      <td>60523</td>\n",
       "      <td>Siempre Viva Rd &amp; Customhouse Plaza</td>\n",
       "      <td>aHR0cHM6Ly93d3cuc2RtdHMuY29tL2dvb2dsZV90cmFuc2...</td>\n",
       "      <td>https://www.sdmts.com/google_transit_files/goo...</td>\n",
       "      <td>POINT (6886743.534 1297385.771)</td>\n",
       "    </tr>\n",
       "    <tr>\n",
       "      <th>101064</th>\n",
       "      <td>rech5YtfjpQvVIBAF</td>\n",
       "      <td>Flagship Cruises and Events Inc.</td>\n",
       "      <td>905</td>\n",
       "      <td>3</td>\n",
       "      <td>60522</td>\n",
       "      <td>Siempre Viva Rd &amp; Drucker Ln</td>\n",
       "      <td>aHR0cHM6Ly93d3cuc2RtdHMuY29tL2dvb2dsZV90cmFuc2...</td>\n",
       "      <td>https://www.sdmts.com/google_transit_files/goo...</td>\n",
       "      <td>POINT (6885821.738 1297391.965)</td>\n",
       "    </tr>\n",
       "  </tbody>\n",
       "</table>\n",
       "</div>"
      ],
      "text/plain": [
       "                   org_id                            agency route_id  \\\n",
       "102103  rech5YtfjpQvVIBAF  Flagship Cruises and Events Inc.      950   \n",
       "101162  rech5YtfjpQvVIBAF  Flagship Cruises and Events Inc.      909   \n",
       "101173  rech5YtfjpQvVIBAF  Flagship Cruises and Events Inc.      909   \n",
       "101065  rech5YtfjpQvVIBAF  Flagship Cruises and Events Inc.      905   \n",
       "101064  rech5YtfjpQvVIBAF  Flagship Cruises and Events Inc.      905   \n",
       "\n",
       "       route_type stop_id                            stop_name  \\\n",
       "102103          3   88963             Otay Mesa Transit Center   \n",
       "101162          3   60529          Via De La Amistad & Roll Dr   \n",
       "101173          3   88964             Otay Mesa Transit Center   \n",
       "101065          3   60523  Siempre Viva Rd & Customhouse Plaza   \n",
       "101064          3   60522         Siempre Viva Rd & Drucker Ln   \n",
       "\n",
       "                                               base64_url  \\\n",
       "102103  aHR0cHM6Ly93d3cuc2RtdHMuY29tL2dvb2dsZV90cmFuc2...   \n",
       "101162  aHR0cHM6Ly93d3cuc2RtdHMuY29tL2dvb2dsZV90cmFuc2...   \n",
       "101173  aHR0cHM6Ly93d3cuc2RtdHMuY29tL2dvb2dsZV90cmFuc2...   \n",
       "101065  aHR0cHM6Ly93d3cuc2RtdHMuY29tL2dvb2dsZV90cmFuc2...   \n",
       "101064  aHR0cHM6Ly93d3cuc2RtdHMuY29tL2dvb2dsZV90cmFuc2...   \n",
       "\n",
       "                                                      uri  \\\n",
       "102103  https://www.sdmts.com/google_transit_files/goo...   \n",
       "101162  https://www.sdmts.com/google_transit_files/goo...   \n",
       "101173  https://www.sdmts.com/google_transit_files/goo...   \n",
       "101065  https://www.sdmts.com/google_transit_files/goo...   \n",
       "101064  https://www.sdmts.com/google_transit_files/goo...   \n",
       "\n",
       "                               geometry  \n",
       "102103  POINT (6888566.919 1297344.013)  \n",
       "101162  POINT (6889498.731 1297378.021)  \n",
       "101173  POINT (6888510.894 1297383.680)  \n",
       "101065  POINT (6886743.534 1297385.771)  \n",
       "101064  POINT (6885821.738 1297391.965)  "
      ]
     },
     "metadata": {},
     "output_type": "display_data"
    },
    {
     "data": {
      "text/plain": [
       "<AxesSubplot:>"
      ]
     },
     "metadata": {},
     "output_type": "display_data"
    },
    {
     "data": {
      "text/plain": [
       "<Projected CRS: EPSG:2229>\n",
       "Name: NAD83 / California zone 5 (ftUS)\n",
       "Axis Info [cartesian]:\n",
       "- X[east]: Easting (US survey foot)\n",
       "- Y[north]: Northing (US survey foot)\n",
       "Area of Use:\n",
       "- name: United States (USA) - California - counties Kern; Los Angeles; San Bernardino; San Luis Obispo; Santa Barbara; Ventura.\n",
       "- bounds: (-121.42, 32.76, -114.12, 35.81)\n",
       "Coordinate Operation:\n",
       "- name: SPCS83 California zone 5 (US Survey feet)\n",
       "- method: Lambert Conic Conformal (2SP)\n",
       "Datum: North American Datum 1983\n",
       "- Ellipsoid: GRS 1980\n",
       "- Prime Meridian: Greenwich"
      ]
     },
     "metadata": {},
     "output_type": "display_data"
    },
    {
     "data": {
      "image/png": "[encoded data removed]",
      "text/plain": [
       "<Figure size 640x480 with 1 Axes>"
      ]
     },
     "metadata": {},
     "output_type": "display_data"
    }
   ],
   "source": [
    "gdf_check(ca_stops)"
   ]
  },
  {
   "cell_type": "code",
   "execution_count": 18,
   "id": "ae1ce740-84c4-4860-863c-4a4d4b416e44",
   "metadata": {},
   "outputs": [
    {
     "name": "stdout",
     "output_type": "stream",
     "text": [
      "Dataframe type is = <class 'geopandas.geodataframe.GeoDataFrame'>\n",
      "GDF shape is = (1211, 9)\n",
      "Active geometry col name is = geometry\n"
     ]
    },
    {
     "data": {
      "text/html": [
       "<div>\n",
       "<style scoped>\n",
       "    .dataframe tbody tr th:only-of-type {\n",
       "        vertical-align: middle;\n",
       "    }\n",
       "\n",
       "    .dataframe tbody tr th {\n",
       "        vertical-align: top;\n",
       "    }\n",
       "\n",
       "    .dataframe thead th {\n",
       "        text-align: right;\n",
       "    }\n",
       "</style>\n",
       "<table border=\"1\" class=\"dataframe\">\n",
       "  <thead>\n",
       "    <tr style=\"text-align: right;\">\n",
       "      <th></th>\n",
       "      <th>org_id</th>\n",
       "      <th>agency</th>\n",
       "      <th>route_id</th>\n",
       "      <th>route_type</th>\n",
       "      <th>stop_id</th>\n",
       "      <th>stop_name</th>\n",
       "      <th>base64_url</th>\n",
       "      <th>uri</th>\n",
       "      <th>geometry</th>\n",
       "    </tr>\n",
       "  </thead>\n",
       "  <tbody>\n",
       "    <tr>\n",
       "      <th>1537</th>\n",
       "      <td>recPnGkwdpnr8jmHB</td>\n",
       "      <td>Los Angeles County Metropolitan Transportation...</td>\n",
       "      <td>801</td>\n",
       "      <td>0</td>\n",
       "      <td>80102</td>\n",
       "      <td>Pacific Ave Station</td>\n",
       "      <td>aHR0cHM6Ly9naXRsYWIuY29tL0xBQ01UQS9ndGZzX3JhaW...</td>\n",
       "      <td>https://gitlab.com/LACMTA/gtfs_rail/raw/master...</td>\n",
       "      <td>POINT (6502796.262 1739558.050)</td>\n",
       "    </tr>\n",
       "    <tr>\n",
       "      <th>1541</th>\n",
       "      <td>recPnGkwdpnr8jmHB</td>\n",
       "      <td>Los Angeles County Metropolitan Transportation...</td>\n",
       "      <td>801</td>\n",
       "      <td>0</td>\n",
       "      <td>80108</td>\n",
       "      <td>Wardlow Station</td>\n",
       "      <td>aHR0cHM6Ly9naXRsYWIuY29tL0xBQ01UQS9ndGZzX3JhaW...</td>\n",
       "      <td>https://gitlab.com/LACMTA/gtfs_rail/raw/master...</td>\n",
       "      <td>POINT (6502103.679 1756884.927)</td>\n",
       "    </tr>\n",
       "    <tr>\n",
       "      <th>1542</th>\n",
       "      <td>recPnGkwdpnr8jmHB</td>\n",
       "      <td>Los Angeles County Metropolitan Transportation...</td>\n",
       "      <td>801</td>\n",
       "      <td>0</td>\n",
       "      <td>80109</td>\n",
       "      <td>Del Amo Station</td>\n",
       "      <td>aHR0cHM6Ly9naXRsYWIuY29tL0xBQ01UQS9ndGZzX3JhaW...</td>\n",
       "      <td>https://gitlab.com/LACMTA/gtfs_rail/raw/master...</td>\n",
       "      <td>POINT (6497591.225 1767213.933)</td>\n",
       "    </tr>\n",
       "    <tr>\n",
       "      <th>1543</th>\n",
       "      <td>recPnGkwdpnr8jmHB</td>\n",
       "      <td>Los Angeles County Metropolitan Transportation...</td>\n",
       "      <td>801</td>\n",
       "      <td>0</td>\n",
       "      <td>80110</td>\n",
       "      <td>Artesia Station</td>\n",
       "      <td>aHR0cHM6Ly9naXRsYWIuY29tL0xBQ01UQS9ndGZzX3JhaW...</td>\n",
       "      <td>https://gitlab.com/LACMTA/gtfs_rail/raw/master...</td>\n",
       "      <td>POINT (6494125.943 1777360.375)</td>\n",
       "    </tr>\n",
       "    <tr>\n",
       "      <th>1544</th>\n",
       "      <td>recPnGkwdpnr8jmHB</td>\n",
       "      <td>Los Angeles County Metropolitan Transportation...</td>\n",
       "      <td>801</td>\n",
       "      <td>0</td>\n",
       "      <td>80111</td>\n",
       "      <td>Compton Station</td>\n",
       "      <td>aHR0cHM6Ly9naXRsYWIuY29tL0xBQ01UQS9ndGZzX3JhaW...</td>\n",
       "      <td>https://gitlab.com/LACMTA/gtfs_rail/raw/master...</td>\n",
       "      <td>POINT (6493613.327 1785152.416)</td>\n",
       "    </tr>\n",
       "  </tbody>\n",
       "</table>\n",
       "</div>"
      ],
      "text/plain": [
       "                 org_id                                             agency  \\\n",
       "1537  recPnGkwdpnr8jmHB  Los Angeles County Metropolitan Transportation...   \n",
       "1541  recPnGkwdpnr8jmHB  Los Angeles County Metropolitan Transportation...   \n",
       "1542  recPnGkwdpnr8jmHB  Los Angeles County Metropolitan Transportation...   \n",
       "1543  recPnGkwdpnr8jmHB  Los Angeles County Metropolitan Transportation...   \n",
       "1544  recPnGkwdpnr8jmHB  Los Angeles County Metropolitan Transportation...   \n",
       "\n",
       "     route_id route_type stop_id            stop_name  \\\n",
       "1537      801          0   80102  Pacific Ave Station   \n",
       "1541      801          0   80108      Wardlow Station   \n",
       "1542      801          0   80109      Del Amo Station   \n",
       "1543      801          0   80110      Artesia Station   \n",
       "1544      801          0   80111      Compton Station   \n",
       "\n",
       "                                             base64_url  \\\n",
       "1537  aHR0cHM6Ly9naXRsYWIuY29tL0xBQ01UQS9ndGZzX3JhaW...   \n",
       "1541  aHR0cHM6Ly9naXRsYWIuY29tL0xBQ01UQS9ndGZzX3JhaW...   \n",
       "1542  aHR0cHM6Ly9naXRsYWIuY29tL0xBQ01UQS9ndGZzX3JhaW...   \n",
       "1543  aHR0cHM6Ly9naXRsYWIuY29tL0xBQ01UQS9ndGZzX3JhaW...   \n",
       "1544  aHR0cHM6Ly9naXRsYWIuY29tL0xBQ01UQS9ndGZzX3JhaW...   \n",
       "\n",
       "                                                    uri  \\\n",
       "1537  https://gitlab.com/LACMTA/gtfs_rail/raw/master...   \n",
       "1541  https://gitlab.com/LACMTA/gtfs_rail/raw/master...   \n",
       "1542  https://gitlab.com/LACMTA/gtfs_rail/raw/master...   \n",
       "1543  https://gitlab.com/LACMTA/gtfs_rail/raw/master...   \n",
       "1544  https://gitlab.com/LACMTA/gtfs_rail/raw/master...   \n",
       "\n",
       "                             geometry  \n",
       "1537  POINT (6502796.262 1739558.050)  \n",
       "1541  POINT (6502103.679 1756884.927)  \n",
       "1542  POINT (6497591.225 1767213.933)  \n",
       "1543  POINT (6494125.943 1777360.375)  \n",
       "1544  POINT (6493613.327 1785152.416)  "
      ]
     },
     "metadata": {},
     "output_type": "display_data"
    },
    {
     "data": {
      "text/plain": [
       "<AxesSubplot:>"
      ]
     },
     "metadata": {},
     "output_type": "display_data"
    },
    {
     "data": {
      "text/plain": [
       "<Projected CRS: EPSG:2229>\n",
       "Name: NAD83 / California zone 5 (ftUS)\n",
       "Axis Info [cartesian]:\n",
       "- X[east]: Easting (US survey foot)\n",
       "- Y[north]: Northing (US survey foot)\n",
       "Area of Use:\n",
       "- name: United States (USA) - California - counties Kern; Los Angeles; San Bernardino; San Luis Obispo; Santa Barbara; Ventura.\n",
       "- bounds: (-121.42, 32.76, -114.12, 35.81)\n",
       "Coordinate Operation:\n",
       "- name: SPCS83 California zone 5 (US Survey feet)\n",
       "- method: Lambert Conic Conformal (2SP)\n",
       "Datum: North American Datum 1983\n",
       "- Ellipsoid: GRS 1980\n",
       "- Prime Meridian: Greenwich"
      ]
     },
     "metadata": {},
     "output_type": "display_data"
    },
    {
     "data": {
      "image/png": "[encoded data removed]",
      "text/plain": [
       "<Figure size 640x480 with 1 Axes>"
      ]
     },
     "metadata": {},
     "output_type": "display_data"
    }
   ],
   "source": [
    "gdf_check(ca_rail_stops)"
   ]
  },
  {
   "cell_type": "markdown",
   "id": "e4784bf4-45db-4daa-a930-63b66e5195a5",
   "metadata": {},
   "source": [
    "---\n",
    "\n",
    "Dissolve check\n",
    "\n",
    "---\n"
   ]
  },
  {
   "cell_type": "code",
   "execution_count": null,
   "id": "155014e4-0798-4937-974e-b9becc1c5544",
   "metadata": {},
   "outputs": [],
   "source": [
    "\n",
    "#Dissolving one by one\n",
    "\n",
    "ca_highway_d = ca_highways.dissolve()\n"
   ]
  },
  {
   "cell_type": "code",
   "execution_count": null,
   "id": "44c09727-c50b-43a4-bdef-d0dccfa264fe",
   "metadata": {},
   "outputs": [],
   "source": [
    "#update to ca_routes (clipped)\n",
    "\n",
    "routes_d= ca_routes.dissolve()\n"
   ]
  },
  {
   "cell_type": "code",
   "execution_count": null,
   "id": "d668a4b0-b9c5-49df-a616-ddf10962c268",
   "metadata": {},
   "outputs": [],
   "source": [
    "#update to clipped rail routes\n",
    "rail_d= ca_rail.dissolve()"
   ]
  },
  {
   "cell_type": "code",
   "execution_count": null,
   "id": "55f4ea2c-f369-4bb1-af9b-a0b023bfdfbc",
   "metadata": {},
   "outputs": [],
   "source": [
    "#update to clipped stops route\n",
    "\n",
    "stops_d = ca_stops.dissolve()"
   ]
  },
  {
   "cell_type": "code",
   "execution_count": null,
   "id": "888dc051-b43f-4528-892f-96f1e4d9067d",
   "metadata": {},
   "outputs": [],
   "source": [
    "#update to clipped rail stops routes\n",
    "rail_stops_d = rca_rail_stops.dissolve()"
   ]
  },
  {
   "cell_type": "code",
   "execution_count": null,
   "id": "b42d5b03-a2f0-4340-a4bf-c2d00b309887",
   "metadata": {},
   "outputs": [],
   "source": [
    "#### TRY DISSOLVING THE ABOVE!!!\n",
    "### THEN OVERLAY ON STUFF"
   ]
  },
  {
   "cell_type": "markdown",
   "id": "bed7ab3c-2f98-467f-ab36-8ff130e49944",
   "metadata": {},
   "source": [
    "---\n",
    "\n",
    "analysis\n",
    "\n",
    "---"
   ]
  },
  {
   "cell_type": "code",
   "execution_count": null,
   "id": "e5747924-9e95-4d57-a1e2-b8935bd72e0c",
   "metadata": {},
   "outputs": [],
   "source": [
    "# buffering the rail route to 1320 ft.\n",
    "\n",
    "ca_rail_buffer = ca_rail.assign(g_buffer = ca_rail.geometry.buffer(1320))\n",
    "\n",
    "display(ca_rail_buffer.head())\n",
    "display(ca_rail_buffer.geometry.name)\n",
    "ca_rail_buffer.plot()"
   ]
  },
  {
   "cell_type": "code",
   "execution_count": null,
   "id": "000968b9-88f7-4c8d-b301-eebbc5fa2583",
   "metadata": {},
   "outputs": [],
   "source": [
    "ca_highways.plot()"
   ]
  },
  {
   "cell_type": "code",
   "execution_count": null,
   "id": "39a232ed-2875-40fe-a6fe-d63660ca1096",
   "metadata": {},
   "outputs": [],
   "source": [
    "# add new col for length and half-legth of rail route from ca_rail\n",
    "# may need this later to update buffer\n",
    "ca_rail = ca_rail.assign(length = ca_rail.geometry.length)\n",
    "ca_rail.head()"
   ]
  },
  {
   "cell_type": "code",
   "execution_count": null,
   "id": "cf7fa2a5-0a16-44d6-a3fc-b8d856ae8396",
   "metadata": {},
   "outputs": [],
   "source": [
    "#Test of overlay districts and ca_rail_buffer \n",
    "\n",
    "overlay = gpd.overlay(\n",
    "    districts2229,\n",
    "    ca_rail_buffer.set_geometry('g_buffer'),\n",
    "    how = 'difference',\n",
    "    keep_geom_type=True\n",
    ")\n"
   ]
  },
  {
   "cell_type": "code",
   "execution_count": null,
   "id": "e3bd9cb8-3889-4505-86e6-3f711624bc31",
   "metadata": {},
   "outputs": [],
   "source": [
    "districts2229"
   ]
  },
  {
   "cell_type": "code",
   "execution_count": null,
   "id": "cb290124-9714-4d54-a9fc-a4bc2728ee5e",
   "metadata": {},
   "outputs": [],
   "source": [
    "ca_rail_buffer.head(2)"
   ]
  },
  {
   "cell_type": "code",
   "execution_count": null,
   "id": "28fb4327-690b-437f-a0db-b8e5ecfa3075",
   "metadata": {},
   "outputs": [],
   "source": [
    "#got something when i overlay districts and rail routes!\n",
    "\n",
    "#inspect what happens to the geometry column after overlaying. are there any duplicate rows? if so, why.\n",
    "#are the routes the same after the overlay?\n",
    "#remember to use length, and % of something. \n",
    "# \n",
    "display(overlay)\n",
    "display(overlay.geometry.name)\n",
    "overlay.plot()"
   ]
  },
  {
   "cell_type": "code",
   "execution_count": null,
   "id": "6cea2ae5-d058-440c-ab47-311a300f30ea",
   "metadata": {},
   "outputs": [],
   "source": [
    "import matplotlib.pyplot as plt\n",
    "\n"
   ]
  },
  {
   "cell_type": "code",
   "execution_count": null,
   "id": "2b7f1db0-0fbf-44a7-9aec-cbe5d4616011",
   "metadata": {},
   "outputs": [],
   "source": [
    "#try dissolving highways2999.\n",
    "#overlay changes geometry values.\n",
    "#try overlay to get length of rail route that interects\n",
    "#try to find difference of overlayed geomety from SHN\n",
    "highways2229"
   ]
  },
  {
   "cell_type": "code",
   "execution_count": null,
   "id": "2107b415-753e-4af0-8158-f8916c12e8cc",
   "metadata": {},
   "outputs": [],
   "source": [
    "#found this via youtube tutorial.\n",
    "#maps the highways and rail routes over distrcts\n",
    "\n",
    "fig, ax = plt.subplots(figsize = (10,8))\n",
    "highways2229.plot(ax = ax, edgecolor = 'black')\n",
    "ca_rail_buffer.plot(ax= ax, edgecolor = 'white')\n",
    "districts2229.plot(ax = ax)"
   ]
  },
  {
   "cell_type": "code",
   "execution_count": null,
   "id": "9dd68671-c145-4276-8c27-0422252483bb",
   "metadata": {},
   "outputs": [],
   "source": []
  }
 ],
 "metadata": {
  "kernelspec": {
   "display_name": "Python 3 (ipykernel)",
   "language": "python",
   "name": "python3"
  },
  "language_info": {
   "codemirror_mode": {
    "name": "ipython",
    "version": 3
   },
   "file_extension": ".py",
   "mimetype": "text/x-python",
   "name": "python",
   "nbconvert_exporter": "python",
   "pygments_lexer": "ipython3",
   "version": "3.9.13"
  }
 },
 "nbformat": 4,
 "nbformat_minor": 5
}
