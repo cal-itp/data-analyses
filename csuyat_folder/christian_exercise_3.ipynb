{
 "cells": [
  {
   "cell_type": "markdown",
   "id": "9d8776b0-d2ea-4e3a-b46a-eabb048d89f7",
   "metadata": {},
   "source": [
    "# Exercise 3: More tabular data wrangling\n",
    "\n",
    "Skills:\n",
    "* Looping\n",
    "* Dictionary to map values\n",
    "* Dealing with duplicates\n",
    "* Make use of Markdown cells to write some narrative or commentary!\n",
    "\n",
    "References:\n",
    "* https://docs.calitp.org/data-infra/analytics_new_analysts/02-data-analysis-intermediate.html"
   ]
  },
  {
   "cell_type": "code",
   "execution_count": 1,
   "id": "99af77ce-7fd5-43b9-b0bb-239a58827555",
   "metadata": {},
   "outputs": [],
   "source": [
    "import pandas as pd"
   ]
  },
  {
   "cell_type": "code",
   "execution_count": 2,
   "id": "e0004ba4-2535-4aed-9b98-6e6c5339a937",
   "metadata": {},
   "outputs": [
    {
     "name": "stderr",
     "output_type": "stream",
     "text": [
      "/opt/conda/lib/python3.9/site-packages/google/auth/_default.py:78: UserWarning: Your application has authenticated using end user credentials from Google Cloud SDK without a quota project. You might receive a \"quota exceeded\" or \"API not enabled\" error. See the following page for troubleshooting: https://cloud.google.com/docs/authentication/adc-troubleshooting/user-creds. \n",
      "  warnings.warn(_CLOUD_SDK_CREDENTIALS_WARNING)\n"
     ]
    },
    {
     "data": {
      "text/plain": [
       "(3685, 45)"
      ]
     },
     "execution_count": 2,
     "metadata": {},
     "output_type": "execute_result"
    }
   ],
   "source": [
    "GCS_FILE_PATH = \"gs://calitp-analytics-data/data-analyses/bus_service_increase/\"\n",
    "FILE_NAME = \"ntd_metrics_2019.csv\"\n",
    "\n",
    "df = pd.read_csv(f\"{GCS_FILE_PATH}{FILE_NAME}\")\n",
    "df.shape"
   ]
  },
  {
   "cell_type": "code",
   "execution_count": 3,
   "id": "a3058b39-1f2e-4738-bf1d-456a074a5314",
   "metadata": {},
   "outputs": [],
   "source": [
    "# in all columns in df, relace string formats with other formats\n",
    "df.columns = df.columns.str.replace('\\n', ' ').str.replace(' ', '_')"
   ]
  },
  {
   "cell_type": "code",
   "execution_count": 4,
   "id": "147f8d7f-8025-43b4-b380-92a2fa6cbed3",
   "metadata": {},
   "outputs": [
    {
     "name": "stdout",
     "output_type": "stream",
     "text": [
      "# obs: 3685\n",
      "# unique IDs: 2183\n"
     ]
    }
   ],
   "source": [
    "print(f\"# obs: {len(df)}\")\n",
    "print(f\"# unique IDs: {df.NTD_ID.nunique()}\")"
   ]
  },
  {
   "cell_type": "code",
   "execution_count": 8,
   "id": "86d87756-d7ff-495a-bbd4-4ac2f5ab88c8",
   "metadata": {},
   "outputs": [
    {
     "data": {
      "text/plain": [
       "MB    2\n",
       "FB    1\n",
       "DR    1\n",
       "CR    1\n",
       "RB    1\n",
       "HR    1\n",
       "TB    1\n",
       "LR    1\n",
       "Name: Mode, dtype: int64"
      ]
     },
     "execution_count": 8,
     "metadata": {},
     "output_type": "execute_result"
    }
   ],
   "source": [
    "# Pick an example -- see that agency provides service for different modes\n",
    "# df.NTD_ID.value_counts()\n",
    "df[df.NTD_ID==\"10003\"].Mode.value_counts()\n"
   ]
  },
  {
   "cell_type": "markdown",
   "id": "33f4a313-a62a-46ff-a877-d9d4e54a029f",
   "metadata": {},
   "source": [
    "### Dealing with Duplicates\n",
    "\n",
    "* Explore why there are duplicates\n",
    "* What's the analysis about? What should the unit of analysis be?\n",
    "* Should duplicates be dropped? Should duplicates be aggregated into 1 entry?\n",
    "* Hint: It depends on the analysis, and there might be a bit of both. Sometimes, aggregation makes sense. Duplicates require further investigation -- why do they appear in the dataset multiple times? Unless it's completely duplicate information, it doesn't make sense to just drop. It may show that the analysis can be more disaggregate than previously thought."
   ]
  },
  {
   "cell_type": "code",
   "execution_count": 9,
   "id": "e6b0a390-ebc9-4ad7-9290-6af1e7392fe2",
   "metadata": {},
   "outputs": [
    {
     "data": {
      "text/plain": [
       "MB    2\n",
       "HR    1\n",
       "RB    1\n",
       "LR    1\n",
       "VP    1\n",
       "Name: Mode, dtype: int64"
      ]
     },
     "execution_count": 9,
     "metadata": {},
     "output_type": "execute_result"
    }
   ],
   "source": [
    "# But what about this case?\n",
    "# in the df, in col call Agency, check if string contains .... AND in Agency col, filter for cells that are not empty. then do value counts of not empty rows.\n",
    "df[(df.Agency.str.contains(\"Los Angeles County Metropolitan Transportation Authority \")) \n",
    "   & (df.Agency.notna())].Mode.value_counts()"
   ]
  },
  {
   "cell_type": "code",
   "execution_count": 13,
   "id": "05b3ef21-8bb7-421d-a18e-b6257b818d44",
   "metadata": {},
   "outputs": [
    {
     "data": {
      "text/html": [
       "<div>\n",
       "<style scoped>\n",
       "    .dataframe tbody tr th:only-of-type {\n",
       "        vertical-align: middle;\n",
       "    }\n",
       "\n",
       "    .dataframe tbody tr th {\n",
       "        vertical-align: top;\n",
       "    }\n",
       "\n",
       "    .dataframe thead th {\n",
       "        text-align: right;\n",
       "    }\n",
       "</style>\n",
       "<table border=\"1\" class=\"dataframe\">\n",
       "  <thead>\n",
       "    <tr style=\"text-align: right;\">\n",
       "      <th></th>\n",
       "      <th>Agency</th>\n",
       "      <th>City</th>\n",
       "      <th>State</th>\n",
       "      <th>Legacy_NTD_ID</th>\n",
       "      <th>NTD_ID</th>\n",
       "      <th>Organization_Type</th>\n",
       "      <th>Reporter_Type</th>\n",
       "      <th>Primary_UZA__Population</th>\n",
       "      <th>Agency_VOMS</th>\n",
       "      <th>Mode</th>\n",
       "      <th>...</th>\n",
       "      <th>Passenger_Miles_Questionable</th>\n",
       "      <th>Vehicle_Revenue_Miles</th>\n",
       "      <th>Vehicle_Revenue_Miles_Questionable</th>\n",
       "      <th>Any_data_questionable?</th>\n",
       "      <th>Unnamed:_39</th>\n",
       "      <th>Unnamed:_40</th>\n",
       "      <th>Unnamed:_41</th>\n",
       "      <th>1</th>\n",
       "      <th>Unnamed:_43</th>\n",
       "      <th>Unnamed:_44</th>\n",
       "    </tr>\n",
       "  </thead>\n",
       "  <tbody>\n",
       "    <tr>\n",
       "      <th>16</th>\n",
       "      <td>Los Angeles County Metropolitan Transportation...</td>\n",
       "      <td>Los Angeles</td>\n",
       "      <td>CA</td>\n",
       "      <td>9154</td>\n",
       "      <td>90154</td>\n",
       "      <td>Independent Public Agency or Authority of Tran...</td>\n",
       "      <td>Full Reporter</td>\n",
       "      <td>12,150,996</td>\n",
       "      <td>3,469</td>\n",
       "      <td>MB</td>\n",
       "      <td>...</td>\n",
       "      <td>NaN</td>\n",
       "      <td>65,595,822</td>\n",
       "      <td>NaN</td>\n",
       "      <td>No</td>\n",
       "      <td>NaN</td>\n",
       "      <td>NaN</td>\n",
       "      <td>NaN</td>\n",
       "      <td>NaN</td>\n",
       "      <td>NaN</td>\n",
       "      <td>NaN</td>\n",
       "    </tr>\n",
       "    <tr>\n",
       "      <th>17</th>\n",
       "      <td>Los Angeles County Metropolitan Transportation...</td>\n",
       "      <td>Los Angeles</td>\n",
       "      <td>CA</td>\n",
       "      <td>9154</td>\n",
       "      <td>90154</td>\n",
       "      <td>Independent Public Agency or Authority of Tran...</td>\n",
       "      <td>Full Reporter</td>\n",
       "      <td>12,150,996</td>\n",
       "      <td>3,469</td>\n",
       "      <td>MB</td>\n",
       "      <td>...</td>\n",
       "      <td>NaN</td>\n",
       "      <td>5,775,759</td>\n",
       "      <td>NaN</td>\n",
       "      <td>No</td>\n",
       "      <td>NaN</td>\n",
       "      <td>NaN</td>\n",
       "      <td>NaN</td>\n",
       "      <td>NaN</td>\n",
       "      <td>NaN</td>\n",
       "      <td>NaN</td>\n",
       "    </tr>\n",
       "  </tbody>\n",
       "</table>\n",
       "<p>2 rows × 45 columns</p>\n",
       "</div>"
      ],
      "text/plain": [
       "                                               Agency         City State  \\\n",
       "16  Los Angeles County Metropolitan Transportation...  Los Angeles    CA   \n",
       "17  Los Angeles County Metropolitan Transportation...  Los Angeles    CA   \n",
       "\n",
       "   Legacy_NTD_ID NTD_ID                                  Organization_Type  \\\n",
       "16          9154  90154  Independent Public Agency or Authority of Tran...   \n",
       "17          9154  90154  Independent Public Agency or Authority of Tran...   \n",
       "\n",
       "    Reporter_Type Primary_UZA__Population Agency_VOMS Mode  ...  \\\n",
       "16  Full Reporter             12,150,996        3,469   MB  ...   \n",
       "17  Full Reporter             12,150,996        3,469   MB  ...   \n",
       "\n",
       "   Passenger_Miles_Questionable Vehicle_Revenue_Miles  \\\n",
       "16                          NaN           65,595,822    \n",
       "17                          NaN            5,775,759    \n",
       "\n",
       "    Vehicle_Revenue_Miles_Questionable Any_data_questionable? Unnamed:_39  \\\n",
       "16                                 NaN                     No         NaN   \n",
       "17                                 NaN                     No         NaN   \n",
       "\n",
       "   Unnamed:_40  Unnamed:_41    1 Unnamed:_43 Unnamed:_44  \n",
       "16         NaN          NaN  NaN         NaN         NaN  \n",
       "17         NaN          NaN  NaN         NaN         NaN  \n",
       "\n",
       "[2 rows x 45 columns]"
      ]
     },
     "execution_count": 13,
     "metadata": {},
     "output_type": "execute_result"
    }
   ],
   "source": [
    "# Find the column that has different values\n",
    "\n",
    "#VEHICLE_REVENUE_MILES\n",
    "\n",
    "df[(df.Agency.str.contains(\"Los Angeles County Metropolitan Transportation Authority \")) \n",
    "   & (df.Agency.notna()) & \n",
    "   (df.Mode==\"MB\")\n",
    "  ]"
   ]
  },
  {
   "cell_type": "code",
   "execution_count": 14,
   "id": "45f8ddce-719b-472c-bcc3-ad9426b65066",
   "metadata": {},
   "outputs": [
    {
     "name": "stdout",
     "output_type": "stream",
     "text": [
      "# obs: 3685\n",
      "# obs after dropping dups: 3553\n"
     ]
    }
   ],
   "source": [
    "subset_cols = [\n",
    "    'Agency', 'City', 'State', 'Legacy_NTD_ID', 'NTD_ID',\n",
    "    'Organization_Type', 'Reporter_Type', 'Mode'\n",
    "]\n",
    "\n",
    "print(f\"# obs: {len(df)}\")\n",
    "print(f\"# obs after dropping dups: {len(df.drop_duplicates(subset=subset_cols))}\")\n",
    "\n",
    "# What does this indicate? Use Markdown cell and jot down some of the logic."
   ]
  },
  {
   "cell_type": "markdown",
   "id": "43d76eec-b1d2-4fa8-bae7-ce8a08719c8e",
   "metadata": {},
   "source": [
    "### Thoughts\n",
    "The initial dataframe has 3,685 rows. \n",
    "\n",
    "However, based on the columns listed in the `subset_col` list, the `df.dtop_duplicates` dataframe now only has 3,553 rows. \n",
    "Indicaating that there are some duplicate rows based on the `subset_col` list, but may have been unique rows in the initial dataframe. The rows may start to differ outside of the `subset_col` list.\n"
   ]
  },
  {
   "cell_type": "markdown",
   "id": "df5fd3fa-5430-4f4f-853f-f0f2aa535e67",
   "metadata": {},
   "source": [
    "[Markdown reference](https://www.datacamp.com/community/tutorials/markdown-in-jupyter-notebook)"
   ]
  },
  {
   "cell_type": "markdown",
   "id": "023ef8e9-cff2-454c-807f-fe5ec15b4d7b",
   "metadata": {},
   "source": [
    "### Changing values by using a dictionary to map"
   ]
  },
  {
   "cell_type": "code",
   "execution_count": 19,
   "id": "c5fe97d9-e02b-495b-bd74-33ab967ab195",
   "metadata": {},
   "outputs": [],
   "source": [
    "# Transit mode uses a code, \n",
    "# Use a dictionary to map those codes to its full name\n",
    "MODE_NAMES = {\n",
    "    'MB': 'Bus', \n",
    "    'LR': 'Light Rail',\n",
    "    'CB': 'Commuter Bus',\n",
    "}\n",
    "\n",
    "# What happens to the ones that aren't specified in MODE_NAMES?\n",
    "df = df.assign(mode_full_name = df.Mode.map(MODE_NAMES))"
   ]
  },
  {
   "cell_type": "code",
   "execution_count": 16,
   "id": "3caa3075-532f-4a2d-93a0-740cb62a6483",
   "metadata": {},
   "outputs": [
    {
     "data": {
      "text/plain": [
       "Bus             1244\n",
       "Commuter Bus     177\n",
       "Light Rail        23\n",
       "Name: mode_full_name, dtype: int64"
      ]
     },
     "execution_count": 16,
     "metadata": {},
     "output_type": "execute_result"
    }
   ],
   "source": [
    "#only prits the `mode_names` we defined above? \n",
    "df.mode_full_name.value_counts()"
   ]
  },
  {
   "cell_type": "code",
   "execution_count": 20,
   "id": "70836fe4-d5f1-4414-8646-2a2a68368bdd",
   "metadata": {},
   "outputs": [
    {
     "data": {
      "text/plain": [
       "DR    1879\n",
       "VP     112\n",
       "DT     103\n",
       "FB      40\n",
       "CR      27\n",
       "SR      22\n",
       "HR      15\n",
       "RB      13\n",
       "YR       6\n",
       "MG       6\n",
       "TB       5\n",
       "IP       3\n",
       "TR       2\n",
       "PB       1\n",
       "CC       1\n",
       "AR       1\n",
       "Name: Mode, dtype: int64"
      ]
     },
     "execution_count": 20,
     "metadata": {},
     "output_type": "execute_result"
    }
   ],
   "source": [
    "# `isna` checks for empty values. (opposite of `notna`)\n",
    "# looks at the empty values in the `mode_full_name` series in the df, and counts the values of modes in those empty values\n",
    "df[df.mode_full_name.isna()].Mode.value_counts()"
   ]
  },
  {
   "cell_type": "code",
   "execution_count": null,
   "id": "2bdbbed2-4131-46b7-8c64-f4ef677f5b67",
   "metadata": {},
   "outputs": [],
   "source": [
    "# Map values from Mode to rail, bus, and other \n",
    "mode_fill = {}"
   ]
  },
  {
   "cell_type": "code",
   "execution_count": null,
   "id": "04cd1881-1493-49b4-8faa-d9903f717ba8",
   "metadata": {},
   "outputs": [],
   "source": [
    "# can make a dictionary that defines all these values\n",
    "# is it possible to read if the right letter is \"R\", then return Rail. and if right letter is \"B\", to return Bus. else if Other\n",
    "\n"
   ]
  },
  {
   "cell_type": "markdown",
   "id": "10e9ef19-1b35-46fa-86c7-b4e0fbc4bd1f",
   "metadata": {},
   "source": [
    "### Looping\n",
    "\n",
    "Can loop across columns or loop across subsets of data.\n",
    "\n",
    "Sometimes, looping can make sense if you're repeating certain steps. Use it if it makes sense."
   ]
  },
  {
   "cell_type": "code",
   "execution_count": null,
   "id": "c54fe3d6-16c8-4daa-ad9d-05858f8c1430",
   "metadata": {},
   "outputs": [],
   "source": [
    "for c in [\"Agency_VOMS\", \"Mode_VOMS\"]:\n",
    "    df[c] = df[c].str.replace(',', '').fillna('0').astype({c: int})"
   ]
  },
  {
   "cell_type": "code",
   "execution_count": null,
   "id": "acacd833-419a-4249-9c89-588f7e5c6d8a",
   "metadata": {},
   "outputs": [],
   "source": [
    "for s in [\"CA\", \"ID\"]:\n",
    "    subset_df = df[df.State==s]\n",
    "    display(subset_df[[\"Agency\", \"City\"]].drop_duplicates().head())"
   ]
  },
  {
   "cell_type": "markdown",
   "id": "2b3984d3-a1fd-4aa3-9218-f045e0692f36",
   "metadata": {},
   "source": [
    "### To Do:\n",
    "* Keep a subset of columns and clean up column names (no spaces, newlines, etc):\n",
    "    * columns related to identifying the agency\n",
    "    * population, passenger trips\n",
    "    * transit mode\n",
    "    * at least 3 service metric variables, normalized and not normalized\n",
    "* Deal with duplicates - what is the unit for each row? What is the unit for desired analysis? Should an agency appear multiple times, and if so, why?\n",
    "* Aggregate at least 2 ways and show an interesting comparison, after dealing with duplicates somehow (either aggregation and/or defining what the unit of analysis is)\n",
    "* Calculate weighted average after the aggregation for the service metrics\n",
    "* Decide on one type of chart to visualize, and generalize it as a function\n",
    "* Make charts using the function"
   ]
  },
  {
   "cell_type": "markdown",
   "id": "bf71f234-6728-436e-8f1f-c78799cb5d90",
   "metadata": {},
   "source": [
    "### Helpful Hints for Functions\n",
    "* Opportunities are from components that are generalizable in making a chart\n",
    "* Maybe these components need the same lines of code to clean them\n",
    "* You can always further define variables within a function\n",
    "* You can always use f-strings within functions to make slight modifications to the parameters you pass"
   ]
  },
  {
   "cell_type": "code",
   "execution_count": null,
   "id": "ca6f8f9d-43a0-4a88-b19c-98ecff7e4a40",
   "metadata": {},
   "outputs": [],
   "source": [
    "# Sample function\n",
    "import altair as alt\n",
    "\n",
    "def make_bar_chart(df, x_col, y_col):\n",
    "    x_title = f\"{x_col.title()}\"\n",
    "    \n",
    "    chart = (alt.Chart(df)\n",
    "             .mark_bar()\n",
    "             .encode(\n",
    "                 x=alt.X(x_col, title=x_title),\n",
    "                 y=alt.Y(y_col, title=\"\"),\n",
    "             )\n",
    "            )\n",
    "    return chart\n"
   ]
  },
  {
   "cell_type": "code",
   "execution_count": null,
   "id": "2c1cccfb-e8c4-4116-91e3-d887c5165515",
   "metadata": {},
   "outputs": [],
   "source": []
  }
 ],
 "metadata": {
  "kernelspec": {
   "display_name": "Python 3 (ipykernel)",
   "language": "python",
   "name": "python3"
  },
  "language_info": {
   "codemirror_mode": {
    "name": "ipython",
    "version": 3
   },
   "file_extension": ".py",
   "mimetype": "text/x-python",
   "name": "python",
   "nbconvert_exporter": "python",
   "pygments_lexer": "ipython3",
   "version": "3.9.13"
  },
  "toc-autonumbering": false,
  "toc-showmarkdowntxt": false
 },
 "nbformat": 4,
 "nbformat_minor": 5
}
