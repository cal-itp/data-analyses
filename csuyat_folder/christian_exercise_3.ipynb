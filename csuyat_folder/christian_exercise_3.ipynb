{
 "cells": [
  {
   "cell_type": "markdown",
   "id": "9d8776b0-d2ea-4e3a-b46a-eabb048d89f7",
   "metadata": {
    "tags": []
   },
   "source": [
    "# Exercise 3: More tabular data wrangling.\n",
    "\n",
    "Skills:\n",
    "* Looping\n",
    "* Dictionary to map values\n",
    "* Dealing with duplicates\n",
    "* Make use of Markdown cells to write some narrative or commentary!\n",
    "\n",
    "References:\n",
    "* https://docs.calitp.org/data-infra/analytics_new_analysts/02-data-analysis-intermediate.html"
   ]
  },
  {
   "cell_type": "code",
   "execution_count": 1,
   "id": "99af77ce-7fd5-43b9-b0bb-239a58827555",
   "metadata": {},
   "outputs": [],
   "source": [
    "import pandas as pd"
   ]
  },
  {
   "cell_type": "code",
   "execution_count": 2,
   "id": "e0004ba4-2535-4aed-9b98-6e6c5339a937",
   "metadata": {},
   "outputs": [
    {
     "name": "stderr",
     "output_type": "stream",
     "text": [
      "/opt/conda/lib/python3.9/site-packages/google/auth/_default.py:78: UserWarning: Your application has authenticated using end user credentials from Google Cloud SDK without a quota project. You might receive a \"quota exceeded\" or \"API not enabled\" error. See the following page for troubleshooting: https://cloud.google.com/docs/authentication/adc-troubleshooting/user-creds. \n",
      "  warnings.warn(_CLOUD_SDK_CREDENTIALS_WARNING)\n"
     ]
    },
    {
     "data": {
      "text/plain": [
       "(3685, 45)"
      ]
     },
     "execution_count": 2,
     "metadata": {},
     "output_type": "execute_result"
    }
   ],
   "source": [
    "GCS_FILE_PATH = \"gs://calitp-analytics-data/data-analyses/bus_service_increase/\"\n",
    "FILE_NAME = \"ntd_metrics_2019.csv\"\n",
    "\n",
    "df = pd.read_csv(f\"{GCS_FILE_PATH}{FILE_NAME}\")\n",
    "df.shape"
   ]
  },
  {
   "cell_type": "code",
   "execution_count": 3,
   "id": "a3058b39-1f2e-4738-bf1d-456a074a5314",
   "metadata": {},
   "outputs": [
    {
     "data": {
      "text/plain": [
       "(3685, 45)"
      ]
     },
     "execution_count": 3,
     "metadata": {},
     "output_type": "execute_result"
    }
   ],
   "source": [
    "# in all columns in df, relace string formats with other formats\n",
    "df.columns = df.columns.str.replace('\\n', ' ').str.replace(' ', '_')\n",
    "df.shape"
   ]
  },
  {
   "cell_type": "code",
   "execution_count": 4,
   "id": "147f8d7f-8025-43b4-b380-92a2fa6cbed3",
   "metadata": {},
   "outputs": [
    {
     "name": "stdout",
     "output_type": "stream",
     "text": [
      "# obs: 3685\n",
      "# unique IDs: 2183\n"
     ]
    }
   ],
   "source": [
    "print(f\"# obs: {len(df)}\")\n",
    "print(f\"# unique IDs: {df.NTD_ID.nunique()}\")"
   ]
  },
  {
   "cell_type": "code",
   "execution_count": 5,
   "id": "86d87756-d7ff-495a-bbd4-4ac2f5ab88c8",
   "metadata": {},
   "outputs": [
    {
     "data": {
      "text/plain": [
       "MB    2\n",
       "FB    1\n",
       "DR    1\n",
       "CR    1\n",
       "RB    1\n",
       "HR    1\n",
       "TB    1\n",
       "LR    1\n",
       "Name: Mode, dtype: int64"
      ]
     },
     "execution_count": 5,
     "metadata": {},
     "output_type": "execute_result"
    }
   ],
   "source": [
    "# Pick an example -- see that agency provides service for different modes\n",
    "# df.NTD_ID.value_counts()\n",
    "df[df.NTD_ID==\"10003\"].Mode.value_counts()\n"
   ]
  },
  {
   "cell_type": "markdown",
   "id": "33f4a313-a62a-46ff-a877-d9d4e54a029f",
   "metadata": {},
   "source": [
    "### Dealing with Duplicates\n",
    "\n",
    "* Explore why there are duplicates\n",
    "* What's the analysis about? What should the unit of analysis be?\n",
    "* Should duplicates be dropped? Should duplicates be aggregated into 1 entry?\n",
    "* Hint: It depends on the analysis, and there might be a bit of both. Sometimes, aggregation makes sense. Duplicates require further investigation -- why do they appear in the dataset multiple times? Unless it's completely duplicate information, it doesn't make sense to just drop. It may show that the analysis can be more disaggregate than previously thought."
   ]
  },
  {
   "cell_type": "code",
   "execution_count": 6,
   "id": "e6b0a390-ebc9-4ad7-9290-6af1e7392fe2",
   "metadata": {},
   "outputs": [
    {
     "data": {
      "text/plain": [
       "MB    2\n",
       "HR    1\n",
       "RB    1\n",
       "LR    1\n",
       "VP    1\n",
       "Name: Mode, dtype: int64"
      ]
     },
     "execution_count": 6,
     "metadata": {},
     "output_type": "execute_result"
    }
   ],
   "source": [
    "# But what about this case?\n",
    "# in the df, in series call Agency, check if string contains .... AND in Agency series, filter for cells that are not empty. then do value counts of not empty rows.\n",
    "# duplicates may indicate a 1:m relationship with another table. or like, in the warehouse, if something is 'current' or has a different timestamp\n",
    "\n",
    "df[(df.Agency.str.contains(\"Los Angeles County Metropolitan Transportation Authority \")) \n",
    "   & (df.Agency.notna())].Mode.value_counts()"
   ]
  },
  {
   "cell_type": "code",
   "execution_count": 7,
   "id": "05b3ef21-8bb7-421d-a18e-b6257b818d44",
   "metadata": {},
   "outputs": [
    {
     "data": {
      "text/html": [
       "<div>\n",
       "<style scoped>\n",
       "    .dataframe tbody tr th:only-of-type {\n",
       "        vertical-align: middle;\n",
       "    }\n",
       "\n",
       "    .dataframe tbody tr th {\n",
       "        vertical-align: top;\n",
       "    }\n",
       "\n",
       "    .dataframe thead th {\n",
       "        text-align: right;\n",
       "    }\n",
       "</style>\n",
       "<table border=\"1\" class=\"dataframe\">\n",
       "  <thead>\n",
       "    <tr style=\"text-align: right;\">\n",
       "      <th></th>\n",
       "      <th>Agency</th>\n",
       "      <th>City</th>\n",
       "      <th>State</th>\n",
       "      <th>Legacy_NTD_ID</th>\n",
       "      <th>NTD_ID</th>\n",
       "      <th>Organization_Type</th>\n",
       "      <th>Reporter_Type</th>\n",
       "      <th>Primary_UZA__Population</th>\n",
       "      <th>Agency_VOMS</th>\n",
       "      <th>Mode</th>\n",
       "      <th>...</th>\n",
       "      <th>Passenger_Miles_Questionable</th>\n",
       "      <th>Vehicle_Revenue_Miles</th>\n",
       "      <th>Vehicle_Revenue_Miles_Questionable</th>\n",
       "      <th>Any_data_questionable?</th>\n",
       "      <th>Unnamed:_39</th>\n",
       "      <th>Unnamed:_40</th>\n",
       "      <th>Unnamed:_41</th>\n",
       "      <th>1</th>\n",
       "      <th>Unnamed:_43</th>\n",
       "      <th>Unnamed:_44</th>\n",
       "    </tr>\n",
       "  </thead>\n",
       "  <tbody>\n",
       "    <tr>\n",
       "      <th>16</th>\n",
       "      <td>Los Angeles County Metropolitan Transportation...</td>\n",
       "      <td>Los Angeles</td>\n",
       "      <td>CA</td>\n",
       "      <td>9154</td>\n",
       "      <td>90154</td>\n",
       "      <td>Independent Public Agency or Authority of Tran...</td>\n",
       "      <td>Full Reporter</td>\n",
       "      <td>12,150,996</td>\n",
       "      <td>3,469</td>\n",
       "      <td>MB</td>\n",
       "      <td>...</td>\n",
       "      <td>NaN</td>\n",
       "      <td>65,595,822</td>\n",
       "      <td>NaN</td>\n",
       "      <td>No</td>\n",
       "      <td>NaN</td>\n",
       "      <td>NaN</td>\n",
       "      <td>NaN</td>\n",
       "      <td>NaN</td>\n",
       "      <td>NaN</td>\n",
       "      <td>NaN</td>\n",
       "    </tr>\n",
       "    <tr>\n",
       "      <th>17</th>\n",
       "      <td>Los Angeles County Metropolitan Transportation...</td>\n",
       "      <td>Los Angeles</td>\n",
       "      <td>CA</td>\n",
       "      <td>9154</td>\n",
       "      <td>90154</td>\n",
       "      <td>Independent Public Agency or Authority of Tran...</td>\n",
       "      <td>Full Reporter</td>\n",
       "      <td>12,150,996</td>\n",
       "      <td>3,469</td>\n",
       "      <td>MB</td>\n",
       "      <td>...</td>\n",
       "      <td>NaN</td>\n",
       "      <td>5,775,759</td>\n",
       "      <td>NaN</td>\n",
       "      <td>No</td>\n",
       "      <td>NaN</td>\n",
       "      <td>NaN</td>\n",
       "      <td>NaN</td>\n",
       "      <td>NaN</td>\n",
       "      <td>NaN</td>\n",
       "      <td>NaN</td>\n",
       "    </tr>\n",
       "  </tbody>\n",
       "</table>\n",
       "<p>2 rows × 45 columns</p>\n",
       "</div>"
      ],
      "text/plain": [
       "                                               Agency         City State  \\\n",
       "16  Los Angeles County Metropolitan Transportation...  Los Angeles    CA   \n",
       "17  Los Angeles County Metropolitan Transportation...  Los Angeles    CA   \n",
       "\n",
       "   Legacy_NTD_ID NTD_ID                                  Organization_Type  \\\n",
       "16          9154  90154  Independent Public Agency or Authority of Tran...   \n",
       "17          9154  90154  Independent Public Agency or Authority of Tran...   \n",
       "\n",
       "    Reporter_Type Primary_UZA__Population Agency_VOMS Mode  ...  \\\n",
       "16  Full Reporter             12,150,996        3,469   MB  ...   \n",
       "17  Full Reporter             12,150,996        3,469   MB  ...   \n",
       "\n",
       "   Passenger_Miles_Questionable Vehicle_Revenue_Miles  \\\n",
       "16                          NaN           65,595,822    \n",
       "17                          NaN            5,775,759    \n",
       "\n",
       "    Vehicle_Revenue_Miles_Questionable Any_data_questionable? Unnamed:_39  \\\n",
       "16                                 NaN                     No         NaN   \n",
       "17                                 NaN                     No         NaN   \n",
       "\n",
       "   Unnamed:_40  Unnamed:_41    1 Unnamed:_43 Unnamed:_44  \n",
       "16         NaN          NaN  NaN         NaN         NaN  \n",
       "17         NaN          NaN  NaN         NaN         NaN  \n",
       "\n",
       "[2 rows x 45 columns]"
      ]
     },
     "execution_count": 7,
     "metadata": {},
     "output_type": "execute_result"
    }
   ],
   "source": [
    "# Find the column that has different values\n",
    "\n",
    "#VEHICLE_REVENUE_MILES\n",
    "\n",
    "df[(df.Agency.str.contains(\"Los Angeles County Metropolitan Transportation Authority \")) \n",
    "   & (df.Agency.notna()) & \n",
    "   (df.Mode==\"MB\")\n",
    "  ]"
   ]
  },
  {
   "cell_type": "code",
   "execution_count": 8,
   "id": "45f8ddce-719b-472c-bcc3-ad9426b65066",
   "metadata": {},
   "outputs": [
    {
     "name": "stdout",
     "output_type": "stream",
     "text": [
      "# obs: 3685\n",
      "# obs after dropping dups: 3553\n"
     ]
    }
   ],
   "source": [
    "subset_cols = [\n",
    "    'Agency', 'City', 'State', 'Legacy_NTD_ID', 'NTD_ID',\n",
    "    'Organization_Type', 'Reporter_Type', 'Mode'\n",
    "]\n",
    "\n",
    "print(f\"# obs: {len(df)}\")\n",
    "print(f\"# obs after dropping dups: {len(df.drop_duplicates(subset=subset_cols))}\")\n",
    "\n",
    "# What does this indicate? Use Markdown cell and jot down some of the logic."
   ]
  },
  {
   "cell_type": "markdown",
   "id": "43d76eec-b1d2-4fa8-bae7-ce8a08719c8e",
   "metadata": {},
   "source": [
    "### Response to above\n",
    "The initial dataframe has 3,685 rows. \n",
    "\n",
    "However, based on the columns listed in the `subset_col` list, the `df.dtop_duplicates` dataframe now only has 3,553 rows. \n",
    "Indicaating that there are some duplicate rows based on the `subset_col` list, but may have been unique rows in the initial dataframe. The rows may start to differ outside of the `subset_col` list.\n"
   ]
  },
  {
   "cell_type": "markdown",
   "id": "df5fd3fa-5430-4f4f-853f-f0f2aa535e67",
   "metadata": {},
   "source": [
    "[Markdown reference](https://www.datacamp.com/community/tutorials/markdown-in-jupyter-notebook)"
   ]
  },
  {
   "cell_type": "markdown",
   "id": "023ef8e9-cff2-454c-807f-fe5ec15b4d7b",
   "metadata": {},
   "source": [
    "### Changing values by using a dictionary to map"
   ]
  },
  {
   "cell_type": "code",
   "execution_count": 12,
   "id": "c5fe97d9-e02b-495b-bd74-33ab967ab195",
   "metadata": {},
   "outputs": [],
   "source": [
    "# Transit mode uses a code, \n",
    "# Use a dictionary to map those codes to its full name\n",
    "MODE_NAMES = {\n",
    "    'MB': 'Bus', \n",
    "    'LR': 'Light Rail',\n",
    "    'CB': 'Commuter Bus',\n",
    "}\n",
    "\n",
    "# What happens to the ones that aren't specified in MODE_NAMES?\n",
    "# assigns() creates a new col to the df. in this case, assign new col called mode_full_name. then fill the col by taking the mode of the values listed in `mode_names` list.\n",
    "df = df.assign(mode_full_name = df.Mode.map(MODE_NAMES))\n"
   ]
  },
  {
   "cell_type": "code",
   "execution_count": 10,
   "id": "3caa3075-532f-4a2d-93a0-740cb62a6483",
   "metadata": {},
   "outputs": [
    {
     "data": {
      "text/plain": [
       "Bus             1244\n",
       "Commuter Bus     177\n",
       "Light Rail        23\n",
       "Name: mode_full_name, dtype: int64"
      ]
     },
     "execution_count": 10,
     "metadata": {},
     "output_type": "execute_result"
    }
   ],
   "source": [
    "#only prits the `mode_names` we defined above and leaves the rest of the undefined rows blank? So only counds the non-n/a values in the `mode_full_name` column\n",
    "df.mode_full_name.value_counts()"
   ]
  },
  {
   "cell_type": "code",
   "execution_count": 11,
   "id": "70836fe4-d5f1-4414-8646-2a2a68368bdd",
   "metadata": {},
   "outputs": [
    {
     "data": {
      "text/plain": [
       "DR    1879\n",
       "VP     112\n",
       "DT     103\n",
       "FB      40\n",
       "CR      27\n",
       "SR      22\n",
       "HR      15\n",
       "RB      13\n",
       "YR       6\n",
       "MG       6\n",
       "TB       5\n",
       "IP       3\n",
       "TR       2\n",
       "PB       1\n",
       "CC       1\n",
       "AR       1\n",
       "Name: Mode, dtype: int64"
      ]
     },
     "execution_count": 11,
     "metadata": {},
     "output_type": "execute_result"
    }
   ],
   "source": [
    "# `isna` checks for empty values. (opposite of `notna`)\n",
    "# looks at the empty values in the `mode_full_name` series in the df, and counts the values of modes in those empty values\n",
    "df[df.mode_full_name.isna()].Mode.value_counts()"
   ]
  },
  {
   "cell_type": "code",
   "execution_count": 15,
   "id": "2bdbbed2-4131-46b7-8c64-f4ef677f5b67",
   "metadata": {},
   "outputs": [
    {
     "data": {
      "text/plain": [
       "Bus             1249\n",
       "Commuter Bus     177\n",
       "other            103\n",
       "Light Rail        23\n",
       "Rail               6\n",
       "Name: mode_cat, dtype: int64"
      ]
     },
     "execution_count": 15,
     "metadata": {},
     "output_type": "execute_result"
    }
   ],
   "source": [
    "# Map values from Mode to rail, bus, and other \n",
    "# used AND to consolidate some of the values. values ending with R == rail. values ending with B == Bus, the remaining is other\n",
    "#last fucntions says; create dataframe called df, replacing the df from above. use assign to create a new col in df2 called 'Mode_cat'. in `mode_cat`, fill in the cells by mapping the strings in the 'mode fill' dictionary to the values in the `Mode` Col form the initial df\n",
    "#also included the code form the previous directory \n",
    "\n",
    "mode_fill = {'AR'and'CR' and 'DR' and 'HR' and 'SR' and 'TR' and 'YR':'Rail',\n",
    "             'FB' and 'PB' and 'RB'and 'TB': 'Bus',\n",
    "             'CC' and 'MG' and 'IP' and 'VP' and 'DT':'other',\n",
    "             'MB': 'Bus', \n",
    "             'LR': 'Light Rail',\n",
    "             'CB': 'Commuter Bus',\n",
    "}\n",
    "df = df.assign(mode_cat = df.Mode.map(mode_fill))\n",
    "\n",
    "# in df, count the values of each type in the `mode_cat` col\n",
    "df.mode_cat.value_counts()"
   ]
  },
  {
   "cell_type": "markdown",
   "id": "10e9ef19-1b35-46fa-86c7-b4e0fbc4bd1f",
   "metadata": {},
   "source": [
    "### Looping\n",
    "\n",
    "Can loop across columns or loop across subsets of data.\n",
    "\n",
    "Sometimes, looping can make sense if you're repeating certain steps. Use it if it makes sense."
   ]
  },
  {
   "cell_type": "code",
   "execution_count": 16,
   "id": "c54fe3d6-16c8-4daa-ad9d-05858f8c1430",
   "metadata": {},
   "outputs": [],
   "source": [
    "# need help unstanding this section\n",
    "\n",
    "# for ... in ... [], this starts the Loop\n",
    "\n",
    "# C == Agency_VOMS and Mode_VOMS\n",
    "# in df[c] (aka in df Agency_VOMS and Mode_VOMS) replace the string character , with empty space, and fill in blank spaces as integer 0\n",
    "\n",
    "for c in [\"Agency_VOMS\", \"Mode_VOMS\"]:\n",
    "    df[c] = df[c].str.replace(',', '').fillna('0').astype({c: int})"
   ]
  },
  {
   "cell_type": "code",
   "execution_count": 17,
   "id": "acacd833-419a-4249-9c89-588f7e5c6d8a",
   "metadata": {},
   "outputs": [
    {
     "data": {
      "text/html": [
       "<div>\n",
       "<style scoped>\n",
       "    .dataframe tbody tr th:only-of-type {\n",
       "        vertical-align: middle;\n",
       "    }\n",
       "\n",
       "    .dataframe tbody tr th {\n",
       "        vertical-align: top;\n",
       "    }\n",
       "\n",
       "    .dataframe thead th {\n",
       "        text-align: right;\n",
       "    }\n",
       "</style>\n",
       "<table border=\"1\" class=\"dataframe\">\n",
       "  <thead>\n",
       "    <tr style=\"text-align: right;\">\n",
       "      <th></th>\n",
       "      <th>Agency</th>\n",
       "      <th>City</th>\n",
       "    </tr>\n",
       "  </thead>\n",
       "  <tbody>\n",
       "    <tr>\n",
       "      <th>13</th>\n",
       "      <td>Los Angeles County Metropolitan Transportation...</td>\n",
       "      <td>Los Angeles</td>\n",
       "    </tr>\n",
       "    <tr>\n",
       "      <th>72</th>\n",
       "      <td>Orange County Transportation Authority</td>\n",
       "      <td>Orange</td>\n",
       "    </tr>\n",
       "    <tr>\n",
       "      <th>94</th>\n",
       "      <td>Access Services</td>\n",
       "      <td>El Monte</td>\n",
       "    </tr>\n",
       "    <tr>\n",
       "      <th>120</th>\n",
       "      <td>City and County of San Francisco, dba: San Fra...</td>\n",
       "      <td>San Francisco</td>\n",
       "    </tr>\n",
       "    <tr>\n",
       "      <th>131</th>\n",
       "      <td>San Diego Metropolitan Transit System</td>\n",
       "      <td>San Diego</td>\n",
       "    </tr>\n",
       "  </tbody>\n",
       "</table>\n",
       "</div>"
      ],
      "text/plain": [
       "                                                Agency           City\n",
       "13   Los Angeles County Metropolitan Transportation...    Los Angeles\n",
       "72              Orange County Transportation Authority         Orange\n",
       "94                                   Access Services         El Monte\n",
       "120  City and County of San Francisco, dba: San Fra...  San Francisco\n",
       "131              San Diego Metropolitan Transit System      San Diego"
      ]
     },
     "metadata": {},
     "output_type": "display_data"
    },
    {
     "data": {
      "text/html": [
       "<div>\n",
       "<style scoped>\n",
       "    .dataframe tbody tr th:only-of-type {\n",
       "        vertical-align: middle;\n",
       "    }\n",
       "\n",
       "    .dataframe tbody tr th {\n",
       "        vertical-align: top;\n",
       "    }\n",
       "\n",
       "    .dataframe thead th {\n",
       "        text-align: right;\n",
       "    }\n",
       "</style>\n",
       "<table border=\"1\" class=\"dataframe\">\n",
       "  <thead>\n",
       "    <tr style=\"text-align: right;\">\n",
       "      <th></th>\n",
       "      <th>Agency</th>\n",
       "      <th>City</th>\n",
       "    </tr>\n",
       "  </thead>\n",
       "  <tbody>\n",
       "    <tr>\n",
       "      <th>703</th>\n",
       "      <td>Ada County Highway District, dba: ACHD Commute...</td>\n",
       "      <td>Boise</td>\n",
       "    </tr>\n",
       "    <tr>\n",
       "      <th>778</th>\n",
       "      <td>Valley Regional Transit</td>\n",
       "      <td>Meridian</td>\n",
       "    </tr>\n",
       "    <tr>\n",
       "      <th>1440</th>\n",
       "      <td>City of Pocatello, dba: Pocatello Regional Tra...</td>\n",
       "      <td>Pocatello</td>\n",
       "    </tr>\n",
       "    <tr>\n",
       "      <th>1482</th>\n",
       "      <td>Mountain Rides Transportation Authority</td>\n",
       "      <td>Ketchum</td>\n",
       "    </tr>\n",
       "    <tr>\n",
       "      <th>1598</th>\n",
       "      <td>Treasure Valley Transit</td>\n",
       "      <td>Nampa</td>\n",
       "    </tr>\n",
       "  </tbody>\n",
       "</table>\n",
       "</div>"
      ],
      "text/plain": [
       "                                                 Agency       City\n",
       "703   Ada County Highway District, dba: ACHD Commute...      Boise\n",
       "778                             Valley Regional Transit   Meridian\n",
       "1440  City of Pocatello, dba: Pocatello Regional Tra...  Pocatello\n",
       "1482            Mountain Rides Transportation Authority    Ketchum\n",
       "1598                            Treasure Valley Transit      Nampa"
      ]
     },
     "metadata": {},
     "output_type": "display_data"
    }
   ],
   "source": [
    "# create a new df called subset_df based off of initial df\n",
    "# within df look for \n",
    "\n",
    "for s in [\"CA\", \"ID\"]:\n",
    "    subset_df = df[df.State==s]\n",
    "    display(subset_df[[\"Agency\", \"City\"]].drop_duplicates().head())"
   ]
  },
  {
   "cell_type": "markdown",
   "id": "2b3984d3-a1fd-4aa3-9218-f045e0692f36",
   "metadata": {},
   "source": [
    "### To Do:\n",
    "* Keep a subset of columns and clean up column names (no spaces, newlines, etc):\n",
    "    * columns related to identifying the agency\n",
    "    * population, passenger trips\n",
    "    * transit mode\n",
    "    * at least 3 service metric variables, normalized and not normalized\n",
    "* Deal with duplicates - what is the unit for each row? What is the unit for desired analysis? Should an agency appear multiple times, and if so, why?\n",
    "* Aggregate at least 2 ways and show an interesting comparison, after dealing with duplicates somehow (either aggregation and/or defining what the unit of analysis is)\n",
    "* Calculate weighted average after the aggregation for the service metrics\n",
    "* Decide on one type of chart to visualize, and generalize it as a function\n",
    "* Make charts using the function"
   ]
  },
  {
   "cell_type": "markdown",
   "id": "3b733b56-d3cc-4026-95e4-13987226ff50",
   "metadata": {},
   "source": [
    "### Subset of columns.\n",
    "column names were cleaned in previous steps"
   ]
  },
  {
   "cell_type": "code",
   "execution_count": 21,
   "id": "292d693c-364a-4e11-abd9-3d44e6b5c37d",
   "metadata": {},
   "outputs": [
    {
     "data": {
      "text/plain": [
       "0    $3,643,213,720 \n",
       "1       $76,398,352 \n",
       "2      $846,111,742 \n",
       "3        $9,781,667 \n",
       "4       $32,469,300 \n",
       "Name: Fare_Revenues_Earned, dtype: object"
      ]
     },
     "execution_count": 21,
     "metadata": {},
     "output_type": "execute_result"
    }
   ],
   "source": [
    "#identified the columns i want to keep\n",
    "subset_col2 = [\n",
    "   'Agency',\n",
    "    'NTD_ID',\n",
    "    'State',\n",
    "    'Organization_Type',\n",
    "    'Reporter_Type',\n",
    "    'Primary_UZA__Population',\n",
    "    'Agency_VOMS',\n",
    "    'Mode',\n",
    "    'Fare_Revenues_Earned',\n",
    "    'Total_Operating_Expenses',\n",
    "    'Vehicle_Revenue_Miles'\n",
    "    \n",
    "]\n",
    "\n",
    "#creating a new df called df_sub that takes the initial df but only keeps the columns started in `subset_col2` (see ex 2)\n",
    "df_sub = df[subset_col2]\n",
    "\n",
    "#peaked into the df and see that the fare revenue, operating expense are `objects`, but i want `integers`\n",
    "df_sub.Fare_Revenues_Earned.head()"
   ]
  },
  {
   "cell_type": "code",
   "execution_count": 22,
   "id": "a29d11e0-b29e-47aa-b78a-712f26da9b56",
   "metadata": {},
   "outputs": [
    {
     "name": "stderr",
     "output_type": "stream",
     "text": [
      "/tmp/ipykernel_339/1609774437.py:3: FutureWarning: The default value of regex will change from True to False in a future version. In addition, single character regular expressions will *not* be treated as literal strings when regex=True.\n",
      "  df_sub['Fare_Revenues_Earned'] = df_sub.Fare_Revenues_Earned.str.replace('$','').str.replace(',','').str.replace('(','').str.replace(')','')\n",
      "/tmp/ipykernel_339/1609774437.py:3: SettingWithCopyWarning: \n",
      "A value is trying to be set on a copy of a slice from a DataFrame.\n",
      "Try using .loc[row_indexer,col_indexer] = value instead\n",
      "\n",
      "See the caveats in the documentation: https://pandas.pydata.org/pandas-docs/stable/user_guide/indexing.html#returning-a-view-versus-a-copy\n",
      "  df_sub['Fare_Revenues_Earned'] = df_sub.Fare_Revenues_Earned.str.replace('$','').str.replace(',','').str.replace('(','').str.replace(')','')\n",
      "/tmp/ipykernel_339/1609774437.py:4: FutureWarning: The default value of regex will change from True to False in a future version. In addition, single character regular expressions will *not* be treated as literal strings when regex=True.\n",
      "  df_sub['Total_Operating_Expenses'] = df_sub.Total_Operating_Expenses.str.replace('$','').str.replace(',','').str.replace('(','').str.replace(')','')\n",
      "/tmp/ipykernel_339/1609774437.py:4: SettingWithCopyWarning: \n",
      "A value is trying to be set on a copy of a slice from a DataFrame.\n",
      "Try using .loc[row_indexer,col_indexer] = value instead\n",
      "\n",
      "See the caveats in the documentation: https://pandas.pydata.org/pandas-docs/stable/user_guide/indexing.html#returning-a-view-versus-a-copy\n",
      "  df_sub['Total_Operating_Expenses'] = df_sub.Total_Operating_Expenses.str.replace('$','').str.replace(',','').str.replace('(','').str.replace(')','')\n"
     ]
    },
    {
     "data": {
      "text/html": [
       "<div>\n",
       "<style scoped>\n",
       "    .dataframe tbody tr th:only-of-type {\n",
       "        vertical-align: middle;\n",
       "    }\n",
       "\n",
       "    .dataframe tbody tr th {\n",
       "        vertical-align: top;\n",
       "    }\n",
       "\n",
       "    .dataframe thead th {\n",
       "        text-align: right;\n",
       "    }\n",
       "</style>\n",
       "<table border=\"1\" class=\"dataframe\">\n",
       "  <thead>\n",
       "    <tr style=\"text-align: right;\">\n",
       "      <th></th>\n",
       "      <th>Agency</th>\n",
       "      <th>NTD_ID</th>\n",
       "      <th>State</th>\n",
       "      <th>Organization_Type</th>\n",
       "      <th>Reporter_Type</th>\n",
       "      <th>Primary_UZA__Population</th>\n",
       "      <th>Agency_VOMS</th>\n",
       "      <th>Mode</th>\n",
       "      <th>Fare_Revenues_Earned</th>\n",
       "      <th>Total_Operating_Expenses</th>\n",
       "      <th>Vehicle_Revenue_Miles</th>\n",
       "    </tr>\n",
       "  </thead>\n",
       "  <tbody>\n",
       "    <tr>\n",
       "      <th>0</th>\n",
       "      <td>MTA New York City Transit</td>\n",
       "      <td>20008</td>\n",
       "      <td>NY</td>\n",
       "      <td>Subsidiary Unit of a Transit Agency, Reporting...</td>\n",
       "      <td>Full Reporter</td>\n",
       "      <td>18,351,295</td>\n",
       "      <td>10885</td>\n",
       "      <td>HR</td>\n",
       "      <td>3643213720</td>\n",
       "      <td>5206727193</td>\n",
       "      <td>354,616,371</td>\n",
       "    </tr>\n",
       "    <tr>\n",
       "      <th>1</th>\n",
       "      <td>MTA New York City Transit</td>\n",
       "      <td>20008</td>\n",
       "      <td>NY</td>\n",
       "      <td>Subsidiary Unit of a Transit Agency, Reporting...</td>\n",
       "      <td>Full Reporter</td>\n",
       "      <td>18,351,295</td>\n",
       "      <td>10885</td>\n",
       "      <td>CB</td>\n",
       "      <td>76398352</td>\n",
       "      <td>242520835</td>\n",
       "      <td>9,866,807</td>\n",
       "    </tr>\n",
       "    <tr>\n",
       "      <th>2</th>\n",
       "      <td>MTA New York City Transit</td>\n",
       "      <td>20008</td>\n",
       "      <td>NY</td>\n",
       "      <td>Subsidiary Unit of a Transit Agency, Reporting...</td>\n",
       "      <td>Full Reporter</td>\n",
       "      <td>18,351,295</td>\n",
       "      <td>10885</td>\n",
       "      <td>MB</td>\n",
       "      <td>846111742</td>\n",
       "      <td>2685918268</td>\n",
       "      <td>86,233,591</td>\n",
       "    </tr>\n",
       "    <tr>\n",
       "      <th>3</th>\n",
       "      <td>MTA New York City Transit</td>\n",
       "      <td>20008</td>\n",
       "      <td>NY</td>\n",
       "      <td>Subsidiary Unit of a Transit Agency, Reporting...</td>\n",
       "      <td>Full Reporter</td>\n",
       "      <td>18,351,295</td>\n",
       "      <td>10885</td>\n",
       "      <td>DR</td>\n",
       "      <td>9781667</td>\n",
       "      <td>516470491</td>\n",
       "      <td>37,759,280</td>\n",
       "    </tr>\n",
       "    <tr>\n",
       "      <th>4</th>\n",
       "      <td>MTA New York City Transit</td>\n",
       "      <td>20008</td>\n",
       "      <td>NY</td>\n",
       "      <td>Subsidiary Unit of a Transit Agency, Reporting...</td>\n",
       "      <td>Full Reporter</td>\n",
       "      <td>18,351,295</td>\n",
       "      <td>10885</td>\n",
       "      <td>RB</td>\n",
       "      <td>32469300</td>\n",
       "      <td>103071355</td>\n",
       "      <td>3,382,426</td>\n",
       "    </tr>\n",
       "  </tbody>\n",
       "</table>\n",
       "</div>"
      ],
      "text/plain": [
       "                      Agency NTD_ID State  \\\n",
       "0  MTA New York City Transit  20008    NY   \n",
       "1  MTA New York City Transit  20008    NY   \n",
       "2  MTA New York City Transit  20008    NY   \n",
       "3  MTA New York City Transit  20008    NY   \n",
       "4  MTA New York City Transit  20008    NY   \n",
       "\n",
       "                                   Organization_Type  Reporter_Type  \\\n",
       "0  Subsidiary Unit of a Transit Agency, Reporting...  Full Reporter   \n",
       "1  Subsidiary Unit of a Transit Agency, Reporting...  Full Reporter   \n",
       "2  Subsidiary Unit of a Transit Agency, Reporting...  Full Reporter   \n",
       "3  Subsidiary Unit of a Transit Agency, Reporting...  Full Reporter   \n",
       "4  Subsidiary Unit of a Transit Agency, Reporting...  Full Reporter   \n",
       "\n",
       "  Primary_UZA__Population  Agency_VOMS Mode Fare_Revenues_Earned  \\\n",
       "0             18,351,295         10885   HR          3643213720    \n",
       "1             18,351,295         10885   CB            76398352    \n",
       "2             18,351,295         10885   MB           846111742    \n",
       "3             18,351,295         10885   DR             9781667    \n",
       "4             18,351,295         10885   RB            32469300    \n",
       "\n",
       "  Total_Operating_Expenses Vehicle_Revenue_Miles  \n",
       "0              5206727193           354,616,371   \n",
       "1               242520835             9,866,807   \n",
       "2              2685918268            86,233,591   \n",
       "3               516470491            37,759,280   \n",
       "4               103071355             3,382,426   "
      ]
     },
     "execution_count": 22,
     "metadata": {},
     "output_type": "execute_result"
    }
   ],
   "source": [
    "#String Cleaning remove '$' and ',' , '()'from fare revenue and operating cost so i can change data type to int from some of the columns\n",
    "#any way to concolidate this code down? maybe assign?\n",
    "df_sub['Fare_Revenues_Earned'] = df_sub.Fare_Revenues_Earned.str.replace('$','').str.replace(',','').str.replace('(','').str.replace(')','')\n",
    "df_sub['Total_Operating_Expenses'] = df_sub.Total_Operating_Expenses.str.replace('$','').str.replace(',','').str.replace('(','').str.replace(')','')\n",
    "df_sub.head()"
   ]
  },
  {
   "cell_type": "code",
   "execution_count": 24,
   "id": "2a73f949-8774-4651-a182-61a40bc0e114",
   "metadata": {},
   "outputs": [
    {
     "name": "stderr",
     "output_type": "stream",
     "text": [
      "/tmp/ipykernel_339/3615460920.py:4: SettingWithCopyWarning: \n",
      "A value is trying to be set on a copy of a slice from a DataFrame.\n",
      "Try using .loc[row_indexer,col_indexer] = value instead\n",
      "\n",
      "See the caveats in the documentation: https://pandas.pydata.org/pandas-docs/stable/user_guide/indexing.html#returning-a-view-versus-a-copy\n",
      "  df_sub.Fare_Revenues_Earned = df_sub.Fare_Revenues_Earned.astype('Int64')\n",
      "/tmp/ipykernel_339/3615460920.py:5: SettingWithCopyWarning: \n",
      "A value is trying to be set on a copy of a slice from a DataFrame.\n",
      "Try using .loc[row_indexer,col_indexer] = value instead\n",
      "\n",
      "See the caveats in the documentation: https://pandas.pydata.org/pandas-docs/stable/user_guide/indexing.html#returning-a-view-versus-a-copy\n",
      "  df_sub.Total_Operating_Expenses = df_sub.Total_Operating_Expenses.astype('Int64')\n"
     ]
    }
   ],
   "source": [
    "#attempt to change data type for fare rev from object to int\n",
    "#having trouble with the `NaN` cells\n",
    "\n",
    "df_sub.Fare_Revenues_Earned = df_sub.Fare_Revenues_Earned.astype('Int64')\n",
    "df_sub.Total_Operating_Expenses = df_sub.Total_Operating_Expenses.astype('Int64')"
   ]
  },
  {
   "cell_type": "markdown",
   "id": "20aadca1-9ad9-4f9b-8017-62263fffc912",
   "metadata": {},
   "source": [
    "### Dealing with Duplicates"
   ]
  },
  {
   "cell_type": "code",
   "execution_count": 29,
   "id": "c282fb51-be5f-4f21-ab81-0a52c64c8394",
   "metadata": {},
   "outputs": [
    {
     "name": "stdout",
     "output_type": "stream",
     "text": [
      "(3685, 11)\n",
      "(2184, 11)\n"
     ]
    }
   ],
   "source": [
    "#Deal with duplicates - what is the unit for each row? What is the unit for desired analysis? Should an agency appear multiple times, and if so, why?\n",
    "print(df_sub.shape)\n",
    "print(df_sub.drop_duplicates(subset=['NTD_ID']).shape)"
   ]
  },
  {
   "cell_type": "markdown",
   "id": "5f46e3e9-a6c5-483c-af75-bfac666eeb7c",
   "metadata": {},
   "source": [
    "### Thoughts\n",
    "In comparing the `df_sub` dataframe to the `df_sub.drop_duplicates...` dataframe, there is a difference in the number of rows. I dropped duplicates based on the `NTD_ID` of each row and was returned with a list of unique NTD Agencies. \n",
    "\n",
    "However, the reason there were duplicates in the initial dataframe was do to the categorical nature of the `Mode` col. some Agencies have different Modes of transportation, and each mode has its own distinct revenue, operating expenses and vehicle revenue miles.\n",
    "\n",
    "Personally I would like to keep df_sub with the duplicates, and consolidate the duplicate agencies using aggregation"
   ]
  },
  {
   "cell_type": "markdown",
   "id": "e3c7fd57-823b-4ede-a810-254db4e46915",
   "metadata": {},
   "source": [
    "### Aggregations"
   ]
  },
  {
   "cell_type": "code",
   "execution_count": 49,
   "id": "894f196f-b354-4149-9fa2-64a70c02a504",
   "metadata": {},
   "outputs": [
    {
     "data": {
      "text/html": [
       "<div>\n",
       "<style scoped>\n",
       "    .dataframe tbody tr th:only-of-type {\n",
       "        vertical-align: middle;\n",
       "    }\n",
       "\n",
       "    .dataframe tbody tr th {\n",
       "        vertical-align: top;\n",
       "    }\n",
       "\n",
       "    .dataframe thead th {\n",
       "        text-align: right;\n",
       "    }\n",
       "</style>\n",
       "<table border=\"1\" class=\"dataframe\">\n",
       "  <thead>\n",
       "    <tr style=\"text-align: right;\">\n",
       "      <th></th>\n",
       "      <th>State</th>\n",
       "      <th>sum</th>\n",
       "      <th>max</th>\n",
       "      <th>min</th>\n",
       "    </tr>\n",
       "  </thead>\n",
       "  <tbody>\n",
       "    <tr>\n",
       "      <th>36</th>\n",
       "      <td>NY</td>\n",
       "      <td>6646861142</td>\n",
       "      <td>3643213720</td>\n",
       "      <td>0</td>\n",
       "    </tr>\n",
       "    <tr>\n",
       "      <th>5</th>\n",
       "      <td>CA</td>\n",
       "      <td>1794038102</td>\n",
       "      <td>469865645</td>\n",
       "      <td>0</td>\n",
       "    </tr>\n",
       "    <tr>\n",
       "      <th>33</th>\n",
       "      <td>NJ</td>\n",
       "      <td>1450502578</td>\n",
       "      <td>566604397</td>\n",
       "      <td>0</td>\n",
       "    </tr>\n",
       "    <tr>\n",
       "      <th>16</th>\n",
       "      <td>IL</td>\n",
       "      <td>1026181987</td>\n",
       "      <td>365935097</td>\n",
       "      <td>0</td>\n",
       "    </tr>\n",
       "    <tr>\n",
       "      <th>21</th>\n",
       "      <td>MA</td>\n",
       "      <td>754986741</td>\n",
       "      <td>238575681</td>\n",
       "      <td>0</td>\n",
       "    </tr>\n",
       "  </tbody>\n",
       "</table>\n",
       "</div>"
      ],
      "text/plain": [
       "   State         sum         max  min\n",
       "36    NY  6646861142  3643213720    0\n",
       "5     CA  1794038102   469865645    0\n",
       "33    NJ  1450502578   566604397    0\n",
       "16    IL  1026181987   365935097    0\n",
       "21    MA   754986741   238575681    0"
      ]
     },
     "execution_count": 49,
     "metadata": {},
     "output_type": "execute_result"
    }
   ],
   "source": [
    "#what is the total revenue earned per state\n",
    "total_state_rev = df_sub.groupby('State').Fare_Revenues_Earned.agg([sum,max,min]).reset_index().sort_values('sum',ascending=False).head()\n",
    "total_state_rev"
   ]
  },
  {
   "cell_type": "code",
   "execution_count": 72,
   "id": "136ad7c6-cd71-4349-ad63-e8cb1fea1cdb",
   "metadata": {},
   "outputs": [
    {
     "data": {
      "text/html": [
       "<div>\n",
       "<style scoped>\n",
       "    .dataframe tbody tr th:only-of-type {\n",
       "        vertical-align: middle;\n",
       "    }\n",
       "\n",
       "    .dataframe tbody tr th {\n",
       "        vertical-align: top;\n",
       "    }\n",
       "\n",
       "    .dataframe thead th {\n",
       "        text-align: right;\n",
       "    }\n",
       "</style>\n",
       "<table border=\"1\" class=\"dataframe\">\n",
       "  <thead>\n",
       "    <tr style=\"text-align: right;\">\n",
       "      <th></th>\n",
       "      <th>Agency</th>\n",
       "      <th>sum</th>\n",
       "      <th>max</th>\n",
       "      <th>min</th>\n",
       "    </tr>\n",
       "  </thead>\n",
       "  <tbody>\n",
       "    <tr>\n",
       "      <th>1286</th>\n",
       "      <td>MTA New York City Transit</td>\n",
       "      <td>4607974781</td>\n",
       "      <td>3643213720</td>\n",
       "      <td>9781667</td>\n",
       "    </tr>\n",
       "    <tr>\n",
       "      <th>1468</th>\n",
       "      <td>New Jersey Transit Corporation</td>\n",
       "      <td>979873625</td>\n",
       "      <td>566604397</td>\n",
       "      <td>1640036</td>\n",
       "    </tr>\n",
       "    <tr>\n",
       "      <th>1285</th>\n",
       "      <td>MTA Long Island Rail Road</td>\n",
       "      <td>768917681</td>\n",
       "      <td>768917681</td>\n",
       "      <td>768917681</td>\n",
       "    </tr>\n",
       "    <tr>\n",
       "      <th>1342</th>\n",
       "      <td>Metro-North Commuter Railroad Company, dba: MT...</td>\n",
       "      <td>757532731</td>\n",
       "      <td>756678075</td>\n",
       "      <td>236470</td>\n",
       "    </tr>\n",
       "    <tr>\n",
       "      <th>1325</th>\n",
       "      <td>Massachusetts Bay Transportation Authority</td>\n",
       "      <td>671521399</td>\n",
       "      <td>238575681</td>\n",
       "      <td>85258</td>\n",
       "    </tr>\n",
       "  </tbody>\n",
       "</table>\n",
       "</div>"
      ],
      "text/plain": [
       "                                                 Agency         sum  \\\n",
       "1286                          MTA New York City Transit  4607974781   \n",
       "1468                     New Jersey Transit Corporation   979873625   \n",
       "1285                          MTA Long Island Rail Road   768917681   \n",
       "1342  Metro-North Commuter Railroad Company, dba: MT...   757532731   \n",
       "1325         Massachusetts Bay Transportation Authority   671521399   \n",
       "\n",
       "             max        min  \n",
       "1286  3643213720    9781667  \n",
       "1468   566604397    1640036  \n",
       "1285   768917681  768917681  \n",
       "1342   756678075     236470  \n",
       "1325   238575681      85258  "
      ]
     },
     "execution_count": 72,
     "metadata": {},
     "output_type": "execute_result"
    }
   ],
   "source": [
    "#What is the total revenue earned per agency\n",
    "#also used reset index, sort values by descending, show first 5 row\n",
    "df_sub.groupby('Agency').Fare_Revenues_Earned.agg([sum,max,min]).reset_index().sort_values('sum',ascending=False).head()"
   ]
  },
  {
   "cell_type": "code",
   "execution_count": 47,
   "id": "b48ef13c-8374-40fe-9d62-a7b0f9f9acd1",
   "metadata": {},
   "outputs": [
    {
     "data": {
      "text/html": [
       "<div>\n",
       "<style scoped>\n",
       "    .dataframe tbody tr th:only-of-type {\n",
       "        vertical-align: middle;\n",
       "    }\n",
       "\n",
       "    .dataframe tbody tr th {\n",
       "        vertical-align: top;\n",
       "    }\n",
       "\n",
       "    .dataframe thead th {\n",
       "        text-align: right;\n",
       "    }\n",
       "</style>\n",
       "<table border=\"1\" class=\"dataframe\">\n",
       "  <thead>\n",
       "    <tr style=\"text-align: right;\">\n",
       "      <th></th>\n",
       "      <th>Agency</th>\n",
       "      <th>sum</th>\n",
       "      <th>max</th>\n",
       "      <th>min</th>\n",
       "    </tr>\n",
       "  </thead>\n",
       "  <tbody>\n",
       "    <tr>\n",
       "      <th>1286</th>\n",
       "      <td>MTA New York City Transit</td>\n",
       "      <td>8754708142</td>\n",
       "      <td>5206727193</td>\n",
       "      <td>103071355</td>\n",
       "    </tr>\n",
       "    <tr>\n",
       "      <th>1468</th>\n",
       "      <td>New Jersey Transit Corporation</td>\n",
       "      <td>2265083531</td>\n",
       "      <td>1024848749</td>\n",
       "      <td>9265043</td>\n",
       "    </tr>\n",
       "    <tr>\n",
       "      <th>2088</th>\n",
       "      <td>Washington Metropolitan Area Transit Authority</td>\n",
       "      <td>2019352824</td>\n",
       "      <td>1112675403</td>\n",
       "      <td>10081260</td>\n",
       "    </tr>\n",
       "    <tr>\n",
       "      <th>1260</th>\n",
       "      <td>Los Angeles County Metropolitan Transportation...</td>\n",
       "      <td>1918638766</td>\n",
       "      <td>1209706503</td>\n",
       "      <td>15376446</td>\n",
       "    </tr>\n",
       "    <tr>\n",
       "      <th>1285</th>\n",
       "      <td>MTA Long Island Rail Road</td>\n",
       "      <td>1507026548</td>\n",
       "      <td>1507026548</td>\n",
       "      <td>1507026548</td>\n",
       "    </tr>\n",
       "  </tbody>\n",
       "</table>\n",
       "</div>"
      ],
      "text/plain": [
       "                                                 Agency         sum  \\\n",
       "1286                          MTA New York City Transit  8754708142   \n",
       "1468                     New Jersey Transit Corporation  2265083531   \n",
       "2088     Washington Metropolitan Area Transit Authority  2019352824   \n",
       "1260  Los Angeles County Metropolitan Transportation...  1918638766   \n",
       "1285                          MTA Long Island Rail Road  1507026548   \n",
       "\n",
       "             max         min  \n",
       "1286  5206727193   103071355  \n",
       "1468  1024848749     9265043  \n",
       "2088  1112675403    10081260  \n",
       "1260  1209706503    15376446  \n",
       "1285  1507026548  1507026548  "
      ]
     },
     "execution_count": 47,
     "metadata": {},
     "output_type": "execute_result"
    }
   ],
   "source": [
    "#Total operating expenses by agency\n",
    "df_sub.groupby('Agency').Total_Operating_Expenses.agg([sum,max,min]).reset_index().sort_values('sum',ascending=False).head()"
   ]
  },
  {
   "cell_type": "markdown",
   "id": "8260e1d0-e9bf-4ce7-bf37-1fd6e2f25fa5",
   "metadata": {},
   "source": [
    "### Weighted Average"
   ]
  },
  {
   "cell_type": "code",
   "execution_count": 64,
   "id": "756f250e-0390-4a5f-bad9-8f3d17d50f61",
   "metadata": {},
   "outputs": [
    {
     "data": {
      "text/html": [
       "<div>\n",
       "<style scoped>\n",
       "    .dataframe tbody tr th:only-of-type {\n",
       "        vertical-align: middle;\n",
       "    }\n",
       "\n",
       "    .dataframe tbody tr th {\n",
       "        vertical-align: top;\n",
       "    }\n",
       "\n",
       "    .dataframe thead th {\n",
       "        text-align: right;\n",
       "    }\n",
       "</style>\n",
       "<table border=\"1\" class=\"dataframe\">\n",
       "  <thead>\n",
       "    <tr style=\"text-align: right;\">\n",
       "      <th></th>\n",
       "      <th>State</th>\n",
       "      <th>sum</th>\n",
       "      <th>max</th>\n",
       "      <th>min</th>\n",
       "      <th>weights</th>\n",
       "    </tr>\n",
       "  </thead>\n",
       "  <tbody>\n",
       "    <tr>\n",
       "      <th>36</th>\n",
       "      <td>NY</td>\n",
       "      <td>6646861142</td>\n",
       "      <td>3643213720</td>\n",
       "      <td>0</td>\n",
       "      <td>0.57</td>\n",
       "    </tr>\n",
       "    <tr>\n",
       "      <th>5</th>\n",
       "      <td>CA</td>\n",
       "      <td>1794038102</td>\n",
       "      <td>469865645</td>\n",
       "      <td>0</td>\n",
       "      <td>0.15</td>\n",
       "    </tr>\n",
       "    <tr>\n",
       "      <th>33</th>\n",
       "      <td>NJ</td>\n",
       "      <td>1450502578</td>\n",
       "      <td>566604397</td>\n",
       "      <td>0</td>\n",
       "      <td>0.12</td>\n",
       "    </tr>\n",
       "    <tr>\n",
       "      <th>16</th>\n",
       "      <td>IL</td>\n",
       "      <td>1026181987</td>\n",
       "      <td>365935097</td>\n",
       "      <td>0</td>\n",
       "      <td>0.09</td>\n",
       "    </tr>\n",
       "    <tr>\n",
       "      <th>21</th>\n",
       "      <td>MA</td>\n",
       "      <td>754986741</td>\n",
       "      <td>238575681</td>\n",
       "      <td>0</td>\n",
       "      <td>0.06</td>\n",
       "    </tr>\n",
       "  </tbody>\n",
       "</table>\n",
       "</div>"
      ],
      "text/plain": [
       "   State         sum         max  min  weights\n",
       "36    NY  6646861142  3643213720    0     0.57\n",
       "5     CA  1794038102   469865645    0     0.15\n",
       "33    NJ  1450502578   566604397    0     0.12\n",
       "16    IL  1026181987   365935097    0     0.09\n",
       "21    MA   754986741   238575681    0     0.06"
      ]
     },
     "execution_count": 64,
     "metadata": {},
     "output_type": "execute_result"
    }
   ],
   "source": [
    "# of the top 5 staes. found the percentage of each state revenue from total revnue. used those percentages as weights.\n",
    "# hard coded the weights. probably a way to make like a calculated column.\n",
    "\n",
    "total_state_rev['weights'] = [0.57, 0.15, 0.12, 0.09, 0.06]\n",
    "total_state_rev"
   ]
  },
  {
   "cell_type": "code",
   "execution_count": 63,
   "id": "cacf5497-a308-4b1e-a33c-58cf65d2c0b4",
   "metadata": {},
   "outputs": [
    {
     "data": {
      "text/plain": [
       "4413669150.39394"
      ]
     },
     "execution_count": 63,
     "metadata": {},
     "output_type": "execute_result"
    }
   ],
   "source": [
    "#Weighted avereage of total revenue from top 5 state\n",
    "#explained. multipled each states revenue, by their weight, then summed them up. \n",
    "#then divided the revenue total by the sum of all the weights.\n",
    "\n",
    "wt_avg = (total_state_rev['sum']*total_state_rev['weights']).sum() / total_state_rev['weights'].sum()\n",
    "wt_avg"
   ]
  },
  {
   "cell_type": "markdown",
   "id": "eb406a48-9ab8-4098-93c6-8eedeb550d09",
   "metadata": {},
   "source": [
    "### Bar Chart"
   ]
  },
  {
   "cell_type": "code",
   "execution_count": 66,
   "id": "d85448a7-6824-4a3e-b8d8-fe955ed1f699",
   "metadata": {},
   "outputs": [
    {
     "data": {
      "text/plain": [
       "<AxesSubplot:xlabel='State'>"
      ]
     },
     "execution_count": 66,
     "metadata": {},
     "output_type": "execute_result"
    },
    {
     "data": {
      "image/png": "[encoded data removed]",
      "text/plain": [
       "<Figure size 640x480 with 1 Axes>"
      ]
     },
     "metadata": {},
     "output_type": "display_data"
    }
   ],
   "source": [
    "total_state_rev.plot.bar(x='State',y='sum')"
   ]
  },
  {
   "cell_type": "markdown",
   "id": "2989ee6f-0105-4f19-ad1b-c6bf126e7bbe",
   "metadata": {},
   "source": [
    "### Chart with Altair"
   ]
  },
  {
   "cell_type": "code",
   "execution_count": 71,
   "id": "e8822070-0eed-46d9-bf20-b9c57fd56cb2",
   "metadata": {},
   "outputs": [
    {
     "ename": "NameError",
     "evalue": "name 'chart' is not defined",
     "output_type": "error",
     "traceback": [
      "\u001b[0;31m---------------------------------------------------------------------------\u001b[0m",
      "\u001b[0;31mNameError\u001b[0m                                 Traceback (most recent call last)",
      "Cell \u001b[0;32mIn[71], line 17\u001b[0m\n\u001b[1;32m      8\u001b[0m     chart \u001b[38;5;241m=\u001b[39m (alt\u001b[38;5;241m.\u001b[39mChart(total_state_rev)\n\u001b[1;32m      9\u001b[0m              \u001b[38;5;241m.\u001b[39mmark_bar()\n\u001b[1;32m     10\u001b[0m              \u001b[38;5;241m.\u001b[39mencode(\n\u001b[0;32m   (...)\u001b[0m\n\u001b[1;32m     13\u001b[0m              )\n\u001b[1;32m     14\u001b[0m             )\n\u001b[1;32m     15\u001b[0m     \u001b[38;5;28;01mreturn\u001b[39;00m chart\n\u001b[0;32m---> 17\u001b[0m \u001b[43mchart\u001b[49m\u001b[38;5;241m.\u001b[39mshow()\n",
      "\u001b[0;31mNameError\u001b[0m: name 'chart' is not defined"
     ]
    }
   ],
   "source": [
    "## need to look into this more\n",
    "\n",
    "import altair as alt\n",
    "\n",
    "def make_bar_chart(df, x_col, y_col):\n",
    "    x_title = f\"{x_col.title()}\"\n",
    "    \n",
    "    chart = (alt.Chart(total_state_rev)\n",
    "             .mark_bar()\n",
    "             .encode(\n",
    "                 x=alt.X(x_col, title=x_title),\n",
    "                 y=alt.Y(y_col, title=\"\"),\n",
    "             )\n",
    "            )\n",
    "    return chart\n",
    "\n",
    "chart.show()"
   ]
  },
  {
   "cell_type": "markdown",
   "id": "bf71f234-6728-436e-8f1f-c78799cb5d90",
   "metadata": {},
   "source": [
    "### Helpful Hints for Functions\n",
    "* Opportunities are from components that are generalizable in making a chart\n",
    "* Maybe these components need the same lines of code to clean them\n",
    "* You can always further define variables within a function\n",
    "* You can always use f-strings within functions to make slight modifications to the parameters you pass"
   ]
  },
  {
   "cell_type": "code",
   "execution_count": null,
   "id": "ca6f8f9d-43a0-4a88-b19c-98ecff7e4a40",
   "metadata": {},
   "outputs": [],
   "source": [
    "# Sample function\n",
    "import altair as alt\n",
    "\n",
    "def make_bar_chart(df, x_col, y_col):\n",
    "    x_title = f\"{x_col.title()}\"\n",
    "    \n",
    "    chart = (alt.Chart(df)\n",
    "             .mark_bar()\n",
    "             .encode(\n",
    "                 x=alt.X(x_col, title=x_title),\n",
    "                 y=alt.Y(y_col, title=\"\"),\n",
    "             )\n",
    "            )\n",
    "    return chart\n"
   ]
  },
  {
   "cell_type": "markdown",
   "id": "1807b969-fec0-426c-8678-6bc7d73c2c1b",
   "metadata": {},
   "source": [
    "When removing files:\n",
    "* `git rm folder/file.ipynb` if the file is in GitHub (checked in in the past)\n",
    "* if it's not, you can use `rm folder/file.ipynb`\n",
    "* if it's a folder that's been checked in, you can use `git rm folder/ -rf`, followed by `rm folder/ -rf`. r = recursive, f = force."
   ]
  },
  {
   "cell_type": "code",
   "execution_count": null,
   "id": "da172944-fa0a-4cba-a5d4-779bf513056f",
   "metadata": {},
   "outputs": [],
   "source": []
  }
 ],
 "metadata": {
  "kernelspec": {
   "display_name": "Python 3 (ipykernel)",
   "language": "python",
   "name": "python3"
  },
  "language_info": {
   "codemirror_mode": {
    "name": "ipython",
    "version": 3
   },
   "file_extension": ".py",
   "mimetype": "text/x-python",
   "name": "python",
   "nbconvert_exporter": "python",
   "pygments_lexer": "ipython3",
   "version": "3.9.13"
  },
  "toc-autonumbering": false,
  "toc-showmarkdowntxt": false
 },
 "nbformat": 4,
 "nbformat_minor": 5
}
