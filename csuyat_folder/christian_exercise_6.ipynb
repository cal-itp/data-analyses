{
 "cells": [
  {
   "cell_type": "markdown",
   "id": "be271b0b-3fc1-4b28-998f-6c3ee50140f3",
   "metadata": {},
   "source": [
    "## Exercise 6: Shared utility functions, data catalogs\n",
    "\n",
    "Skills: \n",
    "* Import shared utils\n",
    "* Data catalog\n",
    "* Use functions to repeat certain data cleaning steps\n",
    "\n",
    "References: \n",
    "* https://docs.calitp.org/data-infra/analytics_new_analysts/02-data-analysis-intermediate.html\n",
    "* https://docs.calitp.org/data-infra/analytics_tools/python_libraries.html\n",
    "* https://docs.calitp.org/data-infra/analytics_tools/data_catalogs.html"
   ]
  },
  {
   "cell_type": "code",
   "execution_count": 1,
   "id": "cd857644-ccaa-4eb8-8e67-f506a46bbace",
   "metadata": {},
   "outputs": [
    {
     "name": "stderr",
     "output_type": "stream",
     "text": [
      "/opt/conda/lib/python3.9/site-packages/geopandas/_compat.py:124: UserWarning: The Shapely GEOS version (3.11.1-CAPI-1.17.1) is incompatible with the GEOS version PyGEOS was compiled with (3.10.1-CAPI-1.16.0). Conversions between both will be slow.\n",
      "  warnings.warn(\n",
      "/tmp/ipykernel_273/3432162632.py:1: DeprecationWarning: Shapely 2.0 is installed, but because PyGEOS is also installed, GeoPandas still uses PyGEOS by default. However, starting with version 0.14, the default will switch to Shapely. To force to use Shapely 2.0 now, you can either uninstall PyGEOS or set the environment variable USE_PYGEOS=0. You can do this before starting the Python process, or in your code before importing geopandas:\n",
      "\n",
      "import os\n",
      "os.environ['USE_PYGEOS'] = '0'\n",
      "import geopandas\n",
      "\n",
      "In the next release, GeoPandas will switch to using Shapely by default, even if PyGEOS is installed. If you only have PyGEOS installed to get speed-ups, this switch should be smooth. However, if you are using PyGEOS directly (calling PyGEOS functions on geometries from GeoPandas), this will then stop working and you are encouraged to migrate from PyGEOS to Shapely 2.0 (https://shapely.readthedocs.io/en/latest/migration_pygeos.html).\n",
      "  import geopandas as gpd\n",
      "/opt/conda/lib/python3.9/site-packages/google/auth/_default.py:78: UserWarning: Your application has authenticated using end user credentials from Google Cloud SDK without a quota project. You might receive a \"quota exceeded\" or \"API not enabled\" error. See the following page for troubleshooting: https://cloud.google.com/docs/authentication/adc-troubleshooting/user-creds. \n",
      "  warnings.warn(_CLOUD_SDK_CREDENTIALS_WARNING)\n",
      "/opt/conda/lib/python3.9/site-packages/google/auth/_default.py:78: UserWarning: Your application has authenticated using end user credentials from Google Cloud SDK without a quota project. You might receive a \"quota exceeded\" or \"API not enabled\" error. See the following page for troubleshooting: https://cloud.google.com/docs/authentication/adc-troubleshooting/user-creds. \n",
      "  warnings.warn(_CLOUD_SDK_CREDENTIALS_WARNING)\n",
      "/opt/conda/lib/python3.9/site-packages/google/auth/_default.py:78: UserWarning: Your application has authenticated using end user credentials from Google Cloud SDK without a quota project. You might receive a \"quota exceeded\" or \"API not enabled\" error. See the following page for troubleshooting: https://cloud.google.com/docs/authentication/adc-troubleshooting/user-creds. \n",
      "  warnings.warn(_CLOUD_SDK_CREDENTIALS_WARNING)\n"
     ]
    }
   ],
   "source": [
    "import geopandas as gpd\n",
    "import intake\n",
    "import pandas as pd\n",
    "\n",
    "# Hint: if this doesn't import: refer to docs for correctly import\n",
    "# cd into _shared_utils folder, run the make setup_env command\n",
    "import shared_utils"
   ]
  },
  {
   "cell_type": "markdown",
   "id": "39dcaee8-e39e-4329-adc6-7f60b7000403",
   "metadata": {},
   "source": [
    "## Create a data catalog\n",
    "\n",
    "* Include one geospatial data source and one tabular (they should be related...your analysis depends on combining them)\n",
    "* Import your datasets using the catalog method"
   ]
  },
  {
   "cell_type": "markdown",
   "id": "718c5d65-1a23-4f1d-8606-bc0cf1b31c20",
   "metadata": {},
   "source": [
    "#geospatial data source\n",
    "#CA county data again\n",
    "#code snippet\n",
    "    #test_geojson:\n",
    "    #    driver: geojson\n",
    "    #    description: Description\n",
    "    #    args:\n",
    "    #      urlpath: gs://calitp-analytics-data/test_geojson_file.geojson\n",
    "    #      use_fsspec: true\n",
    "\n",
    "ca_county:\n",
    "    driver: geojson\n",
    "    description: california counties\n",
    "    args:\n",
    "            urlpath: https://services1.arcgis.com/jUJYIo9tSA7EHvfZ/arcgis/rest/services/California_County_Boundaries/FeatureServer/0/query?outFields=*&where=1%3D1&f=geojson\n",
    "            use_fspec: true\n"
   ]
  },
  {
   "cell_type": "code",
   "execution_count": 9,
   "id": "810e98e2-ae09-49ef-9b80-c89b3a76d0e4",
   "metadata": {},
   "outputs": [
    {
     "data": {
      "text/plain": [
       "geopandas.geodataframe.GeoDataFrame"
      ]
     },
     "execution_count": 9,
     "metadata": {},
     "output_type": "execute_result"
    }
   ],
   "source": [
    "ca_county = gpd.read_file('https://services1.arcgis.com/jUJYIo9tSA7EHvfZ/arcgis/rest/services/California_County_Boundaries/FeatureServer/0/query?outFields=*&where=1%3D1&f=geojson')\n",
    "type(ca_county)"
   ]
  },
  {
   "cell_type": "code",
   "execution_count": 18,
   "id": "7e675991-981f-4c30-b18a-acfe56317599",
   "metadata": {},
   "outputs": [],
   "source": [
    "#tabular data source (csv, parquet)\n",
    "#stops again from Ex4?\n"
   ]
  },
  {
   "cell_type": "code",
   "execution_count": 2,
   "id": "bef6c70c-0139-4a63-99a2-fb27e03cf0d3",
   "metadata": {},
   "outputs": [],
   "source": [
    "import os\n",
    "\n",
    "#os.environ[\"CALITP_BQ_MAX_BYTES\"] = str(100_000_000_000)\n",
    "pd.set_option(\"display.max_rows\", 20)\n",
    "\n",
    "from calitp_data_analysis.tables import tbls\n",
    "from calitp_data_analysis.sql import query_sql\n",
    "from siuba import *"
   ]
  },
  {
   "cell_type": "code",
   "execution_count": 4,
   "id": "d1a18c86-e416-4252-9d55-1d4399a1b0d6",
   "metadata": {},
   "outputs": [
    {
     "name": "stderr",
     "output_type": "stream",
     "text": [
      "/opt/conda/lib/python3.9/site-packages/sqlalchemy_bigquery/_types.py:101: SAWarning: Did not recognize type 'GEOGRAPHY' of column 'pt_geom'\n",
      "  sqlalchemy.util.warn(\n"
     ]
    }
   ],
   "source": [
    "FEEDS = [\n",
    "    \"25c6505166c01099b2f6f2de173e20b9\", # Caltrain\n",
    "    \"52639f09eb535f75b33d2c6a654cb89e\", # Merced\n",
    "]\n",
    "\n",
    "stops = (\n",
    "    tbls.mart_gtfs.dim_stops()\n",
    "    >> filter(_.feed_key.isin(FEEDS))\n",
    "    >> select(_.feed_key, _.stop_id, \n",
    "             _.stop_lat, _.stop_lon, _.stop_name)\n",
    "    >> arrange(_.feed_key, _.stop_id, \n",
    "               _.stop_lat, _.stop_lon)\n",
    "    >> collect()\n",
    ")"
   ]
  },
  {
   "cell_type": "code",
   "execution_count": 12,
   "id": "d4990f7f-aabe-4c90-a293-4b6f62219561",
   "metadata": {},
   "outputs": [],
   "source": [
    "#savings stops to my gcs folder\n",
    "stops.to_csv('gs://calitp-analytics-data/data-analyses/csuyat_folder/stops_caltrain_merced.csv')"
   ]
  },
  {
   "cell_type": "code",
   "execution_count": null,
   "id": "a0849787-4e49-4584-bc63-5c6f89db4d5f",
   "metadata": {},
   "outputs": [],
   "source": [
    "#code snippet\n",
    "    #test_csv:\n",
    "    #driver: csv\n",
    "    #description: Description\n",
    "   # args:\n",
    "      #urlpath: https://raw.githubusercontent.com/CityOfLosAngeles/covid19-indicators/master/data/ca_county_pop_crosswalk.csv\n",
    "    \n",
    "stops:\n",
    "    driver: csv\n",
    "    description: stops in merced and caltrain\n",
    "    args:\n",
    "            urlpath: gs://calitp-analytics-data/data-analyses/csuyat_folder/stops_caltrain_merced.csv"
   ]
  },
  {
   "cell_type": "code",
   "execution_count": 17,
   "id": "b79a82f9-bfa6-4db0-b075-df30a469b9e0",
   "metadata": {},
   "outputs": [
    {
     "data": {
      "application/yaml": "christian_ex6_catalog:\n  args:\n    path: ./christian_ex6_catalog.yml\n  description: ''\n  driver: intake.catalog.local.YAMLFileCatalog\n  metadata:\n    version: 1\n",
      "text/plain": [
       "christian_ex6_catalog:\n",
       "  args:\n",
       "    path: ./christian_ex6_catalog.yml\n",
       "  description: ''\n",
       "  driver: intake.catalog.local.YAMLFileCatalog\n",
       "  metadata:\n",
       "    version: 1\n"
      ]
     },
     "metadata": {
      "application/json": {
       "root": "christian_ex6_catalog"
      }
     },
     "output_type": "display_data"
    }
   ],
   "source": [
    "#catalog\n",
    "#code sample: catalog = intake.open_catalog(\"./sample-catalog.yml\")\n",
    "\n",
    "catalog = intake.open_catalog(\"./christian_ex6_catalog.yml\")\n",
    "\n",
    "catalog"
   ]
  },
  {
   "cell_type": "markdown",
   "id": "ba0d95ef-6162-4d22-b579-0bed56349cc4",
   "metadata": {},
   "source": [
    "## Combine datasets\n",
    "* Do a merge or spatial join to combine the geospatial and tabular data\n",
    "* Create a new column of a summary statistic to visualize\n",
    "* Rely on `shared_utils` to do at least one operation (aggregation, re-projecting to a different CRS, exporting geoparquet, etc)"
   ]
  },
  {
   "cell_type": "code",
   "execution_count": null,
   "id": "fd9cf4a9-2832-4ae0-85bc-b0a29cac59e9",
   "metadata": {},
   "outputs": [],
   "source": []
  },
  {
   "cell_type": "markdown",
   "id": "2739e378-bd0b-402a-9b3b-f32351f4e70a",
   "metadata": {},
   "source": [
    "## Use functions to do parameterized visualizations\n",
    "* Use a function to create your chart\n",
    "* Within the function, the colors should use the Cal-ITP theme that is available in `styleguide`\n",
    "* Within the function, there should be at least 1 parameter that changes (ex: chart title reflects the correct county, legend title reflects the correct county, etc)\n",
    "* Produce 3 charts, using your function each time, and have the function correctly insert the parameters "
   ]
  },
  {
   "cell_type": "code",
   "execution_count": null,
   "id": "f7ba7e06-e70a-4f34-a6c4-072626720868",
   "metadata": {},
   "outputs": [],
   "source": []
  }
 ],
 "metadata": {
  "kernelspec": {
   "display_name": "Python 3 (ipykernel)",
   "language": "python",
   "name": "python3"
  },
  "language_info": {
   "codemirror_mode": {
    "name": "ipython",
    "version": 3
   },
   "file_extension": ".py",
   "mimetype": "text/x-python",
   "name": "python",
   "nbconvert_exporter": "python",
   "pygments_lexer": "ipython3",
   "version": "3.9.13"
  }
 },
 "nbformat": 4,
 "nbformat_minor": 5
}
