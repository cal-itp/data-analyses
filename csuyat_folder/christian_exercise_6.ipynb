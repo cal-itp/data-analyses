{
 "cells": [
  {
   "cell_type": "markdown",
   "id": "be271b0b-3fc1-4b28-998f-6c3ee50140f3",
   "metadata": {},
   "source": [
    "## Exercise 6: Shared utility functions, data catalogs\n",
    "\n",
    "Skills: \n",
    "* Import shared utils\n",
    "* Data catalog\n",
    "* Use functions to repeat certain data cleaning steps\n",
    "\n",
    "References: \n",
    "* https://docs.calitp.org/data-infra/analytics_new_analysts/02-data-analysis-intermediate.html\n",
    "* https://docs.calitp.org/data-infra/analytics_tools/python_libraries.html\n",
    "* https://docs.calitp.org/data-infra/analytics_tools/data_catalogs.html"
   ]
  },
  {
   "cell_type": "code",
   "execution_count": 1,
   "id": "cd857644-ccaa-4eb8-8e67-f506a46bbace",
   "metadata": {},
   "outputs": [
    {
     "name": "stderr",
     "output_type": "stream",
     "text": [
      "/opt/conda/lib/python3.9/site-packages/geopandas/_compat.py:124: UserWarning: The Shapely GEOS version (3.11.1-CAPI-1.17.1) is incompatible with the GEOS version PyGEOS was compiled with (3.10.1-CAPI-1.16.0). Conversions between both will be slow.\n",
      "  warnings.warn(\n",
      "/tmp/ipykernel_464/3432162632.py:1: DeprecationWarning: Shapely 2.0 is installed, but because PyGEOS is also installed, GeoPandas still uses PyGEOS by default. However, starting with version 0.14, the default will switch to Shapely. To force to use Shapely 2.0 now, you can either uninstall PyGEOS or set the environment variable USE_PYGEOS=0. You can do this before starting the Python process, or in your code before importing geopandas:\n",
      "\n",
      "import os\n",
      "os.environ['USE_PYGEOS'] = '0'\n",
      "import geopandas\n",
      "\n",
      "In the next release, GeoPandas will switch to using Shapely by default, even if PyGEOS is installed. If you only have PyGEOS installed to get speed-ups, this switch should be smooth. However, if you are using PyGEOS directly (calling PyGEOS functions on geometries from GeoPandas), this will then stop working and you are encouraged to migrate from PyGEOS to Shapely 2.0 (https://shapely.readthedocs.io/en/latest/migration_pygeos.html).\n",
      "  import geopandas as gpd\n",
      "/opt/conda/lib/python3.9/site-packages/google/auth/_default.py:78: UserWarning: Your application has authenticated using end user credentials from Google Cloud SDK without a quota project. You might receive a \"quota exceeded\" or \"API not enabled\" error. See the following page for troubleshooting: https://cloud.google.com/docs/authentication/adc-troubleshooting/user-creds. \n",
      "  warnings.warn(_CLOUD_SDK_CREDENTIALS_WARNING)\n",
      "/opt/conda/lib/python3.9/site-packages/google/auth/_default.py:78: UserWarning: Your application has authenticated using end user credentials from Google Cloud SDK without a quota project. You might receive a \"quota exceeded\" or \"API not enabled\" error. See the following page for troubleshooting: https://cloud.google.com/docs/authentication/adc-troubleshooting/user-creds. \n",
      "  warnings.warn(_CLOUD_SDK_CREDENTIALS_WARNING)\n",
      "/opt/conda/lib/python3.9/site-packages/google/auth/_default.py:78: UserWarning: Your application has authenticated using end user credentials from Google Cloud SDK without a quota project. You might receive a \"quota exceeded\" or \"API not enabled\" error. See the following page for troubleshooting: https://cloud.google.com/docs/authentication/adc-troubleshooting/user-creds. \n",
      "  warnings.warn(_CLOUD_SDK_CREDENTIALS_WARNING)\n"
     ]
    }
   ],
   "source": [
    "import geopandas as gpd\n",
    "import intake\n",
    "import pandas as pd\n",
    "\n",
    "# Hint: if this doesn't import: refer to docs for correctly import\n",
    "# cd into _shared_utils folder, run the make setup_env command\n",
    "import shared_utils"
   ]
  },
  {
   "cell_type": "markdown",
   "id": "39dcaee8-e39e-4329-adc6-7f60b7000403",
   "metadata": {},
   "source": [
    "## Create a data catalog\n",
    "\n",
    "* Include one geospatial data source and one tabular (they should be related...your analysis depends on combining them)\n",
    "* Import your datasets using the catalog method"
   ]
  },
  {
   "cell_type": "markdown",
   "id": "718c5d65-1a23-4f1d-8606-bc0cf1b31c20",
   "metadata": {},
   "source": [
    "#geospatial data source\n",
    "#CA county data again\n",
    "#code snippet\n",
    "    #test_geojson:\n",
    "    #    driver: geojson\n",
    "    #    description: Description\n",
    "    #    args:\n",
    "    #      urlpath: gs://calitp-analytics-data/test_geojson_file.geojson\n",
    "    #      use_fsspec: true\n",
    "\n",
    "ca_county:\n",
    "    driver: geojson\n",
    "    description: california counties\n",
    "    args:\n",
    "            urlpath: https://services1.arcgis.com/jUJYIo9tSA7EHvfZ/arcgis/rest/services/California_County_Boundaries/FeatureServer/0/query?outFields=*&where=1%3D1&f=geojson\n",
    "            use_fspec: true\n"
   ]
  },
  {
   "cell_type": "code",
   "execution_count": 12,
   "id": "04d6b36d-a3ff-4bdd-8d8b-f5a96dbede22",
   "metadata": {},
   "outputs": [
    {
     "data": {
      "text/plain": [
       "geopandas.geodataframe.GeoDataFrame"
      ]
     },
     "execution_count": 12,
     "metadata": {},
     "output_type": "execute_result"
    }
   ],
   "source": [
    "county_ext = gpd.read_file('https://services1.arcgis.com/jUJYIo9tSA7EHvfZ/arcgis/rest/services/California_County_Boundaries/FeatureServer/0/query?outFields=*&where=1%3D1&f=geojson')\n",
    "type(county_ext)"
   ]
  },
  {
   "cell_type": "code",
   "execution_count": null,
   "id": "7e675991-981f-4c30-b18a-acfe56317599",
   "metadata": {},
   "outputs": [],
   "source": [
    "#tabular data source (csv, parquet)\n",
    "#stops again from Ex4?\n"
   ]
  },
  {
   "cell_type": "markdown",
   "id": "d403cac7-87c5-48d7-b3db-ff435b8a8f2a",
   "metadata": {},
   "source": [
    "import os\n",
    "\n",
    "#os.environ[\"CALITP_BQ_MAX_BYTES\"] = str(100_000_000_000)\n",
    "pd.set_option(\"display.max_rows\", 20)\n",
    "\n",
    "from calitp_data_analysis.tables import tbls\n",
    "from calitp_data_analysis.sql import query_sql\n",
    "from siuba import *"
   ]
  },
  {
   "cell_type": "markdown",
   "id": "b5ad75d0-fecd-4786-acba-87a0082578c9",
   "metadata": {},
   "source": [
    "FEEDS = [\n",
    "    \"25c6505166c01099b2f6f2de173e20b9\", # Caltrain\n",
    "    \"52639f09eb535f75b33d2c6a654cb89e\", # Merced\n",
    "]\n",
    "\n",
    "stops = (\n",
    "    tbls.mart_gtfs.dim_stops()\n",
    "    >> filter(_.feed_key.isin(FEEDS))\n",
    "    >> select(_.feed_key, _.stop_id, \n",
    "             _.stop_lat, _.stop_lon, _.stop_name)\n",
    "    >> arrange(_.feed_key, _.stop_id, \n",
    "               _.stop_lat, _.stop_lon)\n",
    "    >> collect()\n",
    ")"
   ]
  },
  {
   "cell_type": "code",
   "execution_count": null,
   "id": "d4990f7f-aabe-4c90-a293-4b6f62219561",
   "metadata": {},
   "outputs": [],
   "source": [
    "#savings stops to my gcs folder\n",
    "stops.to_csv('gs://calitp-analytics-data/data-analyses/csuyat_folder/stops_caltrain_merced.csv')"
   ]
  },
  {
   "cell_type": "markdown",
   "id": "a9e65ce1-736e-46e2-a26e-b2fb221e45a0",
   "metadata": {},
   "source": [
    "#code snippet\n",
    "    #test_csv:\n",
    "    #driver: csv\n",
    "    #description: Description\n",
    "   # args:\n",
    "      #urlpath: https://raw.githubusercontent.com/CityOfLosAngeles/covid19-indicators/master/data/ca_county_pop_crosswalk.csv\n",
    "    \n",
    "stops:\n",
    "    driver: csv\n",
    "    description: stops in merced and caltrain\n",
    "    args:\n",
    "            urlpath: gs://calitp-analytics-data/data-analyses/csuyat_folder/stops_caltrain_merced.csv"
   ]
  },
  {
   "cell_type": "code",
   "execution_count": 6,
   "id": "74dc0e71-8621-4030-b7fa-b0593973c09f",
   "metadata": {},
   "outputs": [
    {
     "data": {
      "application/yaml": "christian_ex6_catalog:\n  args:\n    path: ./christian_ex6_catalog.yml\n  description: ''\n  driver: intake.catalog.local.YAMLFileCatalog\n  metadata:\n    version: 1\n",
      "text/plain": [
       "christian_ex6_catalog:\n",
       "  args:\n",
       "    path: ./christian_ex6_catalog.yml\n",
       "  description: ''\n",
       "  driver: intake.catalog.local.YAMLFileCatalog\n",
       "  metadata:\n",
       "    version: 1\n"
      ]
     },
     "metadata": {
      "application/json": {
       "root": "christian_ex6_catalog"
      }
     },
     "output_type": "display_data"
    }
   ],
   "source": [
    "#catalog\n",
    "#code sample: catalog = intake.open_catalog(\"./sample-catalog.yml\")\n",
    "\n",
    "catalog = intake.open_catalog(\"./christian_ex6_catalog.yml\")\n",
    "\n",
    "catalog"
   ]
  },
  {
   "cell_type": "markdown",
   "id": "ba0d95ef-6162-4d22-b579-0bed56349cc4",
   "metadata": {
    "tags": []
   },
   "source": [
    "## Combine datasets\n",
    "* Do a merge or spatial join to combine the geospatial and tabular data\n",
    "* Create a new column of a summary statistic to visualize\n",
    "* Rely on `shared_utils` to do at least one operation (aggregation, re-projecting to a different CRS, exporting geoparquet, etc)"
   ]
  },
  {
   "cell_type": "code",
   "execution_count": 8,
   "id": "fd9cf4a9-2832-4ae0-85bc-b0a29cac59e9",
   "metadata": {},
   "outputs": [
    {
     "ename": "IndexError",
     "evalue": "list index out of range",
     "output_type": "error",
     "traceback": [
      "\u001b[0;31m---------------------------------------------------------------------------\u001b[0m",
      "\u001b[0;31mIndexError\u001b[0m                                Traceback (most recent call last)",
      "Cell \u001b[0;32mIn[8], line 2\u001b[0m\n\u001b[1;32m      1\u001b[0m stops \u001b[38;5;241m=\u001b[39m catalog\u001b[38;5;241m.\u001b[39mstops\u001b[38;5;241m.\u001b[39mread()\n\u001b[0;32m----> 2\u001b[0m ca_county \u001b[38;5;241m=\u001b[39m \u001b[43mcatalog\u001b[49m\u001b[38;5;241;43m.\u001b[39;49m\u001b[43mca_county\u001b[49m\u001b[38;5;241;43m.\u001b[39;49m\u001b[43mread\u001b[49m\u001b[43m(\u001b[49m\u001b[43m)\u001b[49m\n",
      "File \u001b[0;32m/opt/conda/lib/python3.9/site-packages/intake_geopandas/geopandas.py:49\u001b[0m, in \u001b[0;36mGeoPandasSource.read\u001b[0;34m(self)\u001b[0m\n\u001b[1;32m     48\u001b[0m \u001b[38;5;28;01mdef\u001b[39;00m \u001b[38;5;21mread\u001b[39m(\u001b[38;5;28mself\u001b[39m):\n\u001b[0;32m---> 49\u001b[0m     \u001b[38;5;28;43mself\u001b[39;49m\u001b[38;5;241;43m.\u001b[39;49m\u001b[43m_get_schema\u001b[49m\u001b[43m(\u001b[49m\u001b[43m)\u001b[49m\n\u001b[1;32m     50\u001b[0m     \u001b[38;5;28;01mreturn\u001b[39;00m \u001b[38;5;28mself\u001b[39m\u001b[38;5;241m.\u001b[39m_dataframe\n",
      "File \u001b[0;32m/opt/conda/lib/python3.9/site-packages/intake_geopandas/geopandas.py:32\u001b[0m, in \u001b[0;36mGeoPandasSource._get_schema\u001b[0;34m(self)\u001b[0m\n\u001b[1;32m     30\u001b[0m \u001b[38;5;28;01mdef\u001b[39;00m \u001b[38;5;21m_get_schema\u001b[39m(\u001b[38;5;28mself\u001b[39m):\n\u001b[1;32m     31\u001b[0m     \u001b[38;5;28;01mif\u001b[39;00m \u001b[38;5;28mself\u001b[39m\u001b[38;5;241m.\u001b[39m_dataframe \u001b[38;5;129;01mis\u001b[39;00m \u001b[38;5;28;01mNone\u001b[39;00m:\n\u001b[0;32m---> 32\u001b[0m         \u001b[38;5;28;43mself\u001b[39;49m\u001b[38;5;241;43m.\u001b[39;49m\u001b[43m_open_dataset\u001b[49m\u001b[43m(\u001b[49m\u001b[43m)\u001b[49m\n\u001b[1;32m     34\u001b[0m     dtypes \u001b[38;5;241m=\u001b[39m \u001b[38;5;28mself\u001b[39m\u001b[38;5;241m.\u001b[39m_dataframe\u001b[38;5;241m.\u001b[39mdtypes\u001b[38;5;241m.\u001b[39mto_dict()\n\u001b[1;32m     35\u001b[0m     dtypes \u001b[38;5;241m=\u001b[39m {n: \u001b[38;5;28mstr\u001b[39m(t) \u001b[38;5;28;01mfor\u001b[39;00m (n, t) \u001b[38;5;129;01min\u001b[39;00m dtypes\u001b[38;5;241m.\u001b[39mitems()}\n",
      "File \u001b[0;32m/opt/conda/lib/python3.9/site-packages/intake_geopandas/geopandas.py:120\u001b[0m, in \u001b[0;36mGeoPandasFileSource._open_dataset\u001b[0;34m(self)\u001b[0m\n\u001b[1;32m    118\u001b[0m \u001b[38;5;28;01mif\u001b[39;00m \u001b[38;5;28mself\u001b[39m\u001b[38;5;241m.\u001b[39m_use_fsspec:\n\u001b[1;32m    119\u001b[0m     \u001b[38;5;28;01mwith\u001b[39;00m fsspec\u001b[38;5;241m.\u001b[39mopen_files(\u001b[38;5;28mself\u001b[39m\u001b[38;5;241m.\u001b[39murlpath, \u001b[38;5;241m*\u001b[39m\u001b[38;5;241m*\u001b[39m\u001b[38;5;28mself\u001b[39m\u001b[38;5;241m.\u001b[39mstorage_options) \u001b[38;5;28;01mas\u001b[39;00m f:\n\u001b[0;32m--> 120\u001b[0m         f \u001b[38;5;241m=\u001b[39m \u001b[38;5;28mself\u001b[39m\u001b[38;5;241m.\u001b[39m_resolve_single_file(f) \u001b[38;5;28;01mif\u001b[39;00m \u001b[38;5;28mlen\u001b[39m(f) \u001b[38;5;241m>\u001b[39m \u001b[38;5;241m1\u001b[39m \u001b[38;5;28;01melse\u001b[39;00m \u001b[43mf\u001b[49m\u001b[43m[\u001b[49m\u001b[38;5;241;43m0\u001b[39;49m\u001b[43m]\u001b[49m\n\u001b[1;32m    121\u001b[0m         \u001b[38;5;28mself\u001b[39m\u001b[38;5;241m.\u001b[39m_dataframe \u001b[38;5;241m=\u001b[39m geopandas\u001b[38;5;241m.\u001b[39mread_file(\n\u001b[1;32m    122\u001b[0m             f, bbox\u001b[38;5;241m=\u001b[39m\u001b[38;5;28mself\u001b[39m\u001b[38;5;241m.\u001b[39m_bbox, \u001b[38;5;241m*\u001b[39m\u001b[38;5;241m*\u001b[39m\u001b[38;5;28mself\u001b[39m\u001b[38;5;241m.\u001b[39m_geopandas_kwargs,\n\u001b[1;32m    123\u001b[0m         )\n\u001b[1;32m    124\u001b[0m \u001b[38;5;28;01melse\u001b[39;00m:\n",
      "\u001b[0;31mIndexError\u001b[0m: list index out of range"
     ]
    }
   ],
   "source": [
    "# getting error with ca_county catalog\n",
    "stops = catalog.stops.read()\n",
    "ca_county = catalog.ca_county.read()\n"
   ]
  },
  {
   "cell_type": "markdown",
   "id": "8f9c7393-474e-4496-87ec-f52269a6ab1f",
   "metadata": {},
   "source": [
    "Method\n",
    "\n",
    "for stops\n",
    "* drop unnessary column\n",
    "* used shared utils to turn into point geometry and set crs to 2229\n",
    "\n",
    "For ca_county or county_ext\n",
    "* assign crs to 2229\n",
    "\n",
    "for sjoin\n",
    "* ensure geometry col for stops and county are the same\n",
    "* put county on left, join using inner\n"
   ]
  },
  {
   "cell_type": "code",
   "execution_count": 13,
   "id": "a0305d92-4c0b-4033-a6e5-e021ebdbe160",
   "metadata": {},
   "outputs": [
    {
     "data": {
      "text/html": [
       "<div>\n",
       "<style scoped>\n",
       "    .dataframe tbody tr th:only-of-type {\n",
       "        vertical-align: middle;\n",
       "    }\n",
       "\n",
       "    .dataframe tbody tr th {\n",
       "        vertical-align: top;\n",
       "    }\n",
       "\n",
       "    .dataframe thead th {\n",
       "        text-align: right;\n",
       "    }\n",
       "</style>\n",
       "<table border=\"1\" class=\"dataframe\">\n",
       "  <thead>\n",
       "    <tr style=\"text-align: right;\">\n",
       "      <th></th>\n",
       "      <th>Unnamed: 0</th>\n",
       "      <th>feed_key</th>\n",
       "      <th>stop_id</th>\n",
       "      <th>stop_lat</th>\n",
       "      <th>stop_lon</th>\n",
       "      <th>stop_name</th>\n",
       "    </tr>\n",
       "  </thead>\n",
       "  <tbody>\n",
       "    <tr>\n",
       "      <th>0</th>\n",
       "      <td>0</td>\n",
       "      <td>25c6505166c01099b2f6f2de173e20b9</td>\n",
       "      <td>22nd_street</td>\n",
       "      <td>37.756972</td>\n",
       "      <td>-122.392492</td>\n",
       "      <td>22nd Street</td>\n",
       "    </tr>\n",
       "    <tr>\n",
       "      <th>1</th>\n",
       "      <td>1</td>\n",
       "      <td>25c6505166c01099b2f6f2de173e20b9</td>\n",
       "      <td>2537740</td>\n",
       "      <td>37.438491</td>\n",
       "      <td>-122.156405</td>\n",
       "      <td>Stanford Caltrain Station</td>\n",
       "    </tr>\n",
       "    <tr>\n",
       "      <th>2</th>\n",
       "      <td>2</td>\n",
       "      <td>25c6505166c01099b2f6f2de173e20b9</td>\n",
       "      <td>2537744</td>\n",
       "      <td>37.438425</td>\n",
       "      <td>-122.156482</td>\n",
       "      <td>Stanford Caltrain Station</td>\n",
       "    </tr>\n",
       "    <tr>\n",
       "      <th>3</th>\n",
       "      <td>3</td>\n",
       "      <td>25c6505166c01099b2f6f2de173e20b9</td>\n",
       "      <td>70011</td>\n",
       "      <td>37.776390</td>\n",
       "      <td>-122.394992</td>\n",
       "      <td>San Francisco Caltrain Station</td>\n",
       "    </tr>\n",
       "    <tr>\n",
       "      <th>4</th>\n",
       "      <td>4</td>\n",
       "      <td>25c6505166c01099b2f6f2de173e20b9</td>\n",
       "      <td>70012</td>\n",
       "      <td>37.776348</td>\n",
       "      <td>-122.394935</td>\n",
       "      <td>San Francisco Caltrain Station</td>\n",
       "    </tr>\n",
       "  </tbody>\n",
       "</table>\n",
       "</div>"
      ],
      "text/plain": [
       "   Unnamed: 0                          feed_key      stop_id   stop_lat  \\\n",
       "0           0  25c6505166c01099b2f6f2de173e20b9  22nd_street  37.756972   \n",
       "1           1  25c6505166c01099b2f6f2de173e20b9      2537740  37.438491   \n",
       "2           2  25c6505166c01099b2f6f2de173e20b9      2537744  37.438425   \n",
       "3           3  25c6505166c01099b2f6f2de173e20b9        70011  37.776390   \n",
       "4           4  25c6505166c01099b2f6f2de173e20b9        70012  37.776348   \n",
       "\n",
       "     stop_lon                       stop_name  \n",
       "0 -122.392492                     22nd Street  \n",
       "1 -122.156405       Stanford Caltrain Station  \n",
       "2 -122.156482       Stanford Caltrain Station  \n",
       "3 -122.394992  San Francisco Caltrain Station  \n",
       "4 -122.394935  San Francisco Caltrain Station  "
      ]
     },
     "execution_count": 13,
     "metadata": {},
     "output_type": "execute_result"
    }
   ],
   "source": [
    "stops.head()"
   ]
  },
  {
   "cell_type": "code",
   "execution_count": 15,
   "id": "19dc7101-2e13-4c02-890f-6c2389688d7e",
   "metadata": {},
   "outputs": [
    {
     "data": {
      "text/plain": [
       "pandas.core.frame.DataFrame"
      ]
     },
     "execution_count": 15,
     "metadata": {},
     "output_type": "execute_result"
    }
   ],
   "source": [
    "type(stops)"
   ]
  },
  {
   "cell_type": "code",
   "execution_count": null,
   "id": "22da8b2e-4bc3-47aa-8793-c7954d7eb2aa",
   "metadata": {},
   "outputs": [],
   "source": [
    "#use share_utils to create point geometry, check for gdf status\n",
    "#stops_ptg = geography_utils.create_point_geometry(\n",
    "#    stops_gdf,\n",
    "#    \"stop_lon\",\n",
    "#    \"stop_lat\",\n",
    "#    crs = \"EPSG:2229\"\n",
    "#)\n"
   ]
  },
  {
   "cell_type": "code",
   "execution_count": 21,
   "id": "2b9a2be7-d689-447c-931e-dcc48d0e7a10",
   "metadata": {},
   "outputs": [
    {
     "name": "stderr",
     "output_type": "stream",
     "text": [
      "/tmp/ipykernel_464/3910311574.py:9: FutureWarning: You are adding a column named 'geometry' to a GeoDataFrame constructed without an active geometry column. Currently, this automatically sets the active geometry column to 'geometry' but in the future that will no longer happen. Instead, either provide geometry to the GeoDataFrame constructor (GeoDataFrame(... geometry=GeoSeries()) or use `set_geometry('geometry')` to explicitly set the active geometry column.\n",
      "  stops_gdf['geometry'] = geo\n"
     ]
    },
    {
     "data": {
      "text/html": [
       "<div>\n",
       "<style scoped>\n",
       "    .dataframe tbody tr th:only-of-type {\n",
       "        vertical-align: middle;\n",
       "    }\n",
       "\n",
       "    .dataframe tbody tr th {\n",
       "        vertical-align: top;\n",
       "    }\n",
       "\n",
       "    .dataframe thead th {\n",
       "        text-align: right;\n",
       "    }\n",
       "</style>\n",
       "<table border=\"1\" class=\"dataframe\">\n",
       "  <thead>\n",
       "    <tr style=\"text-align: right;\">\n",
       "      <th></th>\n",
       "      <th>Unnamed: 0</th>\n",
       "      <th>feed_key</th>\n",
       "      <th>stop_id</th>\n",
       "      <th>stop_lat</th>\n",
       "      <th>stop_lon</th>\n",
       "      <th>stop_name</th>\n",
       "      <th>geometry</th>\n",
       "    </tr>\n",
       "  </thead>\n",
       "  <tbody>\n",
       "    <tr>\n",
       "      <th>0</th>\n",
       "      <td>0</td>\n",
       "      <td>25c6505166c01099b2f6f2de173e20b9</td>\n",
       "      <td>22nd_street</td>\n",
       "      <td>37.756972</td>\n",
       "      <td>-122.392492</td>\n",
       "      <td>22nd Street</td>\n",
       "      <td>POINT (-122.392 37.757)</td>\n",
       "    </tr>\n",
       "    <tr>\n",
       "      <th>1</th>\n",
       "      <td>1</td>\n",
       "      <td>25c6505166c01099b2f6f2de173e20b9</td>\n",
       "      <td>2537740</td>\n",
       "      <td>37.438491</td>\n",
       "      <td>-122.156405</td>\n",
       "      <td>Stanford Caltrain Station</td>\n",
       "      <td>POINT (-122.156 37.438)</td>\n",
       "    </tr>\n",
       "    <tr>\n",
       "      <th>2</th>\n",
       "      <td>2</td>\n",
       "      <td>25c6505166c01099b2f6f2de173e20b9</td>\n",
       "      <td>2537744</td>\n",
       "      <td>37.438425</td>\n",
       "      <td>-122.156482</td>\n",
       "      <td>Stanford Caltrain Station</td>\n",
       "      <td>POINT (-122.156 37.438)</td>\n",
       "    </tr>\n",
       "    <tr>\n",
       "      <th>3</th>\n",
       "      <td>3</td>\n",
       "      <td>25c6505166c01099b2f6f2de173e20b9</td>\n",
       "      <td>70011</td>\n",
       "      <td>37.776390</td>\n",
       "      <td>-122.394992</td>\n",
       "      <td>San Francisco Caltrain Station</td>\n",
       "      <td>POINT (-122.395 37.776)</td>\n",
       "    </tr>\n",
       "    <tr>\n",
       "      <th>4</th>\n",
       "      <td>4</td>\n",
       "      <td>25c6505166c01099b2f6f2de173e20b9</td>\n",
       "      <td>70012</td>\n",
       "      <td>37.776348</td>\n",
       "      <td>-122.394935</td>\n",
       "      <td>San Francisco Caltrain Station</td>\n",
       "      <td>POINT (-122.395 37.776)</td>\n",
       "    </tr>\n",
       "  </tbody>\n",
       "</table>\n",
       "</div>"
      ],
      "text/plain": [
       "   Unnamed: 0                          feed_key      stop_id   stop_lat  \\\n",
       "0           0  25c6505166c01099b2f6f2de173e20b9  22nd_street  37.756972   \n",
       "1           1  25c6505166c01099b2f6f2de173e20b9      2537740  37.438491   \n",
       "2           2  25c6505166c01099b2f6f2de173e20b9      2537744  37.438425   \n",
       "3           3  25c6505166c01099b2f6f2de173e20b9        70011  37.776390   \n",
       "4           4  25c6505166c01099b2f6f2de173e20b9        70012  37.776348   \n",
       "\n",
       "     stop_lon                       stop_name                 geometry  \n",
       "0 -122.392492                     22nd Street  POINT (-122.392 37.757)  \n",
       "1 -122.156405       Stanford Caltrain Station  POINT (-122.156 37.438)  \n",
       "2 -122.156482       Stanford Caltrain Station  POINT (-122.156 37.438)  \n",
       "3 -122.394992  San Francisco Caltrain Station  POINT (-122.395 37.776)  \n",
       "4 -122.394935  San Francisco Caltrain Station  POINT (-122.395 37.776)  "
      ]
     },
     "execution_count": 21,
     "metadata": {},
     "output_type": "execute_result"
    }
   ],
   "source": [
    "#stops is still a pandas df\n",
    "#convert table to a gdf\n",
    "\n",
    "\n",
    "stops_gdf = gpd.GeoDataFrame(stops)\n",
    "\n",
    "#then turn lat lon into point geo\n",
    "geo = gpd.points_from_xy(stops_gdf.stop_lon, stops_gdf.stop_lat, crs='EPSG:2229')\n",
    "stops_gdf['geometry'] = geo\n",
    "\n"
   ]
  },
  {
   "cell_type": "code",
   "execution_count": 22,
   "id": "438d4ac9-204d-4a6b-bda8-03c194564045",
   "metadata": {},
   "outputs": [
    {
     "data": {
      "text/html": [
       "<div>\n",
       "<style scoped>\n",
       "    .dataframe tbody tr th:only-of-type {\n",
       "        vertical-align: middle;\n",
       "    }\n",
       "\n",
       "    .dataframe tbody tr th {\n",
       "        vertical-align: top;\n",
       "    }\n",
       "\n",
       "    .dataframe thead th {\n",
       "        text-align: right;\n",
       "    }\n",
       "</style>\n",
       "<table border=\"1\" class=\"dataframe\">\n",
       "  <thead>\n",
       "    <tr style=\"text-align: right;\">\n",
       "      <th></th>\n",
       "      <th>feed_key</th>\n",
       "      <th>stop_id</th>\n",
       "      <th>stop_lat</th>\n",
       "      <th>stop_lon</th>\n",
       "      <th>stop_name</th>\n",
       "      <th>geometry</th>\n",
       "    </tr>\n",
       "  </thead>\n",
       "  <tbody>\n",
       "    <tr>\n",
       "      <th>0</th>\n",
       "      <td>25c6505166c01099b2f6f2de173e20b9</td>\n",
       "      <td>22nd_street</td>\n",
       "      <td>37.756972</td>\n",
       "      <td>-122.392492</td>\n",
       "      <td>22nd Street</td>\n",
       "      <td>POINT (-122.392 37.757)</td>\n",
       "    </tr>\n",
       "    <tr>\n",
       "      <th>1</th>\n",
       "      <td>25c6505166c01099b2f6f2de173e20b9</td>\n",
       "      <td>2537740</td>\n",
       "      <td>37.438491</td>\n",
       "      <td>-122.156405</td>\n",
       "      <td>Stanford Caltrain Station</td>\n",
       "      <td>POINT (-122.156 37.438)</td>\n",
       "    </tr>\n",
       "    <tr>\n",
       "      <th>2</th>\n",
       "      <td>25c6505166c01099b2f6f2de173e20b9</td>\n",
       "      <td>2537744</td>\n",
       "      <td>37.438425</td>\n",
       "      <td>-122.156482</td>\n",
       "      <td>Stanford Caltrain Station</td>\n",
       "      <td>POINT (-122.156 37.438)</td>\n",
       "    </tr>\n",
       "    <tr>\n",
       "      <th>3</th>\n",
       "      <td>25c6505166c01099b2f6f2de173e20b9</td>\n",
       "      <td>70011</td>\n",
       "      <td>37.776390</td>\n",
       "      <td>-122.394992</td>\n",
       "      <td>San Francisco Caltrain Station</td>\n",
       "      <td>POINT (-122.395 37.776)</td>\n",
       "    </tr>\n",
       "    <tr>\n",
       "      <th>4</th>\n",
       "      <td>25c6505166c01099b2f6f2de173e20b9</td>\n",
       "      <td>70012</td>\n",
       "      <td>37.776348</td>\n",
       "      <td>-122.394935</td>\n",
       "      <td>San Francisco Caltrain Station</td>\n",
       "      <td>POINT (-122.395 37.776)</td>\n",
       "    </tr>\n",
       "  </tbody>\n",
       "</table>\n",
       "</div>"
      ],
      "text/plain": [
       "                           feed_key      stop_id   stop_lat    stop_lon  \\\n",
       "0  25c6505166c01099b2f6f2de173e20b9  22nd_street  37.756972 -122.392492   \n",
       "1  25c6505166c01099b2f6f2de173e20b9      2537740  37.438491 -122.156405   \n",
       "2  25c6505166c01099b2f6f2de173e20b9      2537744  37.438425 -122.156482   \n",
       "3  25c6505166c01099b2f6f2de173e20b9        70011  37.776390 -122.394992   \n",
       "4  25c6505166c01099b2f6f2de173e20b9        70012  37.776348 -122.394935   \n",
       "\n",
       "                        stop_name                 geometry  \n",
       "0                     22nd Street  POINT (-122.392 37.757)  \n",
       "1       Stanford Caltrain Station  POINT (-122.156 37.438)  \n",
       "2       Stanford Caltrain Station  POINT (-122.156 37.438)  \n",
       "3  San Francisco Caltrain Station  POINT (-122.395 37.776)  \n",
       "4  San Francisco Caltrain Station  POINT (-122.395 37.776)  "
      ]
     },
     "execution_count": 22,
     "metadata": {},
     "output_type": "execute_result"
    }
   ],
   "source": [
    "#drop `unnamed: 0` column\n",
    "\n",
    "stops_gdf = stops_gdf.drop(['Unnamed: 0'], axis=1)\n",
    "stops_gdf.head()"
   ]
  },
  {
   "cell_type": "code",
   "execution_count": 23,
   "id": "2b01b55a-717d-4f0b-9133-bab2b7e18f99",
   "metadata": {},
   "outputs": [
    {
     "data": {
      "text/plain": [
       "geopandas.geodataframe.GeoDataFrame"
      ]
     },
     "execution_count": 23,
     "metadata": {},
     "output_type": "execute_result"
    }
   ],
   "source": [
    "type(stops_gdf)"
   ]
  },
  {
   "cell_type": "code",
   "execution_count": 26,
   "id": "2cb1f640-831f-469e-88f0-207eae3714b4",
   "metadata": {},
   "outputs": [
    {
     "data": {
      "text/plain": [
       "<Geographic 2D CRS: EPSG:4326>\n",
       "Name: WGS 84\n",
       "Axis Info [ellipsoidal]:\n",
       "- Lat[north]: Geodetic latitude (degree)\n",
       "- Lon[east]: Geodetic longitude (degree)\n",
       "Area of Use:\n",
       "- name: World.\n",
       "- bounds: (-180.0, -90.0, 180.0, 90.0)\n",
       "Datum: World Geodetic System 1984 ensemble\n",
       "- Ellipsoid: WGS 84\n",
       "- Prime Meridian: Greenwich"
      ]
     },
     "execution_count": 26,
     "metadata": {},
     "output_type": "execute_result"
    }
   ],
   "source": [
    "county_ext.crs"
   ]
  },
  {
   "cell_type": "code",
   "execution_count": 27,
   "id": "9e2ac40e-8052-49c7-9ff9-cc6b0f088a44",
   "metadata": {},
   "outputs": [],
   "source": [
    "#change crs of `county_ext` to 2229\n",
    "# `to_crs` is onlyt for projecting to another crs temporaily, not really setting it to another crs\n",
    "\n",
    "# county2229 = county_ext.to_crs('EPSG:2229')"
   ]
  },
  {
   "cell_type": "code",
   "execution_count": 28,
   "id": "b6ef9197-7057-4f49-a626-72d6ad50e7a9",
   "metadata": {},
   "outputs": [
    {
     "data": {
      "text/plain": [
       "<Projected CRS: EPSG:2229>\n",
       "Name: NAD83 / California zone 5 (ftUS)\n",
       "Axis Info [cartesian]:\n",
       "- X[east]: Easting (US survey foot)\n",
       "- Y[north]: Northing (US survey foot)\n",
       "Area of Use:\n",
       "- name: United States (USA) - California - counties Kern; Los Angeles; San Bernardino; San Luis Obispo; Santa Barbara; Ventura.\n",
       "- bounds: (-121.42, 32.76, -114.12, 35.81)\n",
       "Coordinate Operation:\n",
       "- name: SPCS83 California zone 5 (US Survey feet)\n",
       "- method: Lambert Conic Conformal (2SP)\n",
       "Datum: North American Datum 1983\n",
       "- Ellipsoid: GRS 1980\n",
       "- Prime Meridian: Greenwich"
      ]
     },
     "execution_count": 28,
     "metadata": {},
     "output_type": "execute_result"
    }
   ],
   "source": [
    "county2229.crs"
   ]
  },
  {
   "cell_type": "code",
   "execution_count": 33,
   "id": "f7691e75-4421-4257-ae22-460592b9b79e",
   "metadata": {},
   "outputs": [
    {
     "data": {
      "text/html": [
       "<div>\n",
       "<style scoped>\n",
       "    .dataframe tbody tr th:only-of-type {\n",
       "        vertical-align: middle;\n",
       "    }\n",
       "\n",
       "    .dataframe tbody tr th {\n",
       "        vertical-align: top;\n",
       "    }\n",
       "\n",
       "    .dataframe thead th {\n",
       "        text-align: right;\n",
       "    }\n",
       "</style>\n",
       "<table border=\"1\" class=\"dataframe\">\n",
       "  <thead>\n",
       "    <tr style=\"text-align: right;\">\n",
       "      <th></th>\n",
       "      <th>OBJECTID</th>\n",
       "      <th>COUNTY_NAME</th>\n",
       "      <th>COUNTY_ABBREV</th>\n",
       "      <th>COUNTY_NUM</th>\n",
       "      <th>COUNTY_CODE</th>\n",
       "      <th>COUNTY_FIPS</th>\n",
       "      <th>ISLAND</th>\n",
       "      <th>Shape__Area</th>\n",
       "      <th>Shape__Length</th>\n",
       "      <th>GlobalID</th>\n",
       "      <th>geometry</th>\n",
       "    </tr>\n",
       "  </thead>\n",
       "  <tbody>\n",
       "    <tr>\n",
       "      <th>0</th>\n",
       "      <td>1</td>\n",
       "      <td>Alameda</td>\n",
       "      <td>ALA</td>\n",
       "      <td>1</td>\n",
       "      <td>01</td>\n",
       "      <td>001</td>\n",
       "      <td>NaN</td>\n",
       "      <td>3.402787e+09</td>\n",
       "      <td>308998.650766</td>\n",
       "      <td>e6f92268-d2dd-4cfb-8b79-5b4b2f07c559</td>\n",
       "      <td>POLYGON ((5327843.636 3270649.517, 5328125.534...</td>\n",
       "    </tr>\n",
       "    <tr>\n",
       "      <th>1</th>\n",
       "      <td>2</td>\n",
       "      <td>Alpine</td>\n",
       "      <td>ALP</td>\n",
       "      <td>2</td>\n",
       "      <td>02</td>\n",
       "      <td>003</td>\n",
       "      <td>NaN</td>\n",
       "      <td>3.146939e+09</td>\n",
       "      <td>274888.492411</td>\n",
       "      <td>870479b2-480a-494b-8352-ad60578839c1</td>\n",
       "      <td>POLYGON ((6107872.113 3543254.346, 6107910.593...</td>\n",
       "    </tr>\n",
       "    <tr>\n",
       "      <th>2</th>\n",
       "      <td>3</td>\n",
       "      <td>Amador</td>\n",
       "      <td>AMA</td>\n",
       "      <td>3</td>\n",
       "      <td>03</td>\n",
       "      <td>005</td>\n",
       "      <td>NaN</td>\n",
       "      <td>2.562635e+09</td>\n",
       "      <td>361708.438013</td>\n",
       "      <td>4f45b3a6-be10-461c-8945-6b2aaa7119f6</td>\n",
       "      <td>POLYGON ((5968863.196 3541606.326, 5968719.695...</td>\n",
       "    </tr>\n",
       "    <tr>\n",
       "      <th>3</th>\n",
       "      <td>4</td>\n",
       "      <td>Butte</td>\n",
       "      <td>BUT</td>\n",
       "      <td>4</td>\n",
       "      <td>04</td>\n",
       "      <td>007</td>\n",
       "      <td>NaN</td>\n",
       "      <td>7.339348e+09</td>\n",
       "      <td>526547.115238</td>\n",
       "      <td>44fba680-aecc-4e04-a499-29d69affbd4a</td>\n",
       "      <td>POLYGON ((5691714.322 3875581.366, 5690777.192...</td>\n",
       "    </tr>\n",
       "    <tr>\n",
       "      <th>4</th>\n",
       "      <td>5</td>\n",
       "      <td>Calaveras</td>\n",
       "      <td>CAL</td>\n",
       "      <td>5</td>\n",
       "      <td>05</td>\n",
       "      <td>009</td>\n",
       "      <td>NaN</td>\n",
       "      <td>4.351069e+09</td>\n",
       "      <td>370637.578323</td>\n",
       "      <td>d11ef739-4a1e-414e-bfd1-e7dcd56cd61e</td>\n",
       "      <td>POLYGON ((5982508.552 3443893.703, 5982516.557...</td>\n",
       "    </tr>\n",
       "  </tbody>\n",
       "</table>\n",
       "</div>"
      ],
      "text/plain": [
       "   OBJECTID COUNTY_NAME COUNTY_ABBREV  COUNTY_NUM COUNTY_CODE COUNTY_FIPS  \\\n",
       "0         1     Alameda           ALA           1          01         001   \n",
       "1         2      Alpine           ALP           2          02         003   \n",
       "2         3      Amador           AMA           3          03         005   \n",
       "3         4       Butte           BUT           4          04         007   \n",
       "4         5   Calaveras           CAL           5          05         009   \n",
       "\n",
       "  ISLAND   Shape__Area  Shape__Length                              GlobalID  \\\n",
       "0    NaN  3.402787e+09  308998.650766  e6f92268-d2dd-4cfb-8b79-5b4b2f07c559   \n",
       "1    NaN  3.146939e+09  274888.492411  870479b2-480a-494b-8352-ad60578839c1   \n",
       "2    NaN  2.562635e+09  361708.438013  4f45b3a6-be10-461c-8945-6b2aaa7119f6   \n",
       "3    NaN  7.339348e+09  526547.115238  44fba680-aecc-4e04-a499-29d69affbd4a   \n",
       "4    NaN  4.351069e+09  370637.578323  d11ef739-4a1e-414e-bfd1-e7dcd56cd61e   \n",
       "\n",
       "                                            geometry  \n",
       "0  POLYGON ((5327843.636 3270649.517, 5328125.534...  \n",
       "1  POLYGON ((6107872.113 3543254.346, 6107910.593...  \n",
       "2  POLYGON ((5968863.196 3541606.326, 5968719.695...  \n",
       "3  POLYGON ((5691714.322 3875581.366, 5690777.192...  \n",
       "4  POLYGON ((5982508.552 3443893.703, 5982516.557...  "
      ]
     },
     "execution_count": 33,
     "metadata": {},
     "output_type": "execute_result"
    }
   ],
   "source": [
    "county2229.head()"
   ]
  },
  {
   "cell_type": "code",
   "execution_count": null,
   "id": "be754717-b1a2-4e3e-b69e-bfd8b0a56e80",
   "metadata": {},
   "outputs": [],
   "source": [
    "stops_gdf = s"
   ]
  },
  {
   "cell_type": "code",
   "execution_count": 36,
   "id": "733e066a-244b-4bfd-b50c-46e45cdc9fed",
   "metadata": {},
   "outputs": [
    {
     "data": {
      "text/plain": [
       "<Projected CRS: EPSG:2229>\n",
       "Name: NAD83 / California zone 5 (ftUS)\n",
       "Axis Info [cartesian]:\n",
       "- X[east]: Easting (US survey foot)\n",
       "- Y[north]: Northing (US survey foot)\n",
       "Area of Use:\n",
       "- name: United States (USA) - California - counties Kern; Los Angeles; San Bernardino; San Luis Obispo; Santa Barbara; Ventura.\n",
       "- bounds: (-121.42, 32.76, -114.12, 35.81)\n",
       "Coordinate Operation:\n",
       "- name: SPCS83 California zone 5 (US Survey feet)\n",
       "- method: Lambert Conic Conformal (2SP)\n",
       "Datum: North American Datum 1983\n",
       "- Ellipsoid: GRS 1980\n",
       "- Prime Meridian: Greenwich"
      ]
     },
     "execution_count": 36,
     "metadata": {},
     "output_type": "execute_result"
    }
   ],
   "source": [
    "stops_gdf.crs"
   ]
  },
  {
   "cell_type": "code",
   "execution_count": 34,
   "id": "95f54de8-138f-4f32-b50e-a90b66c2927d",
   "metadata": {},
   "outputs": [
    {
     "data": {
      "text/html": [
       "<div>\n",
       "<style scoped>\n",
       "    .dataframe tbody tr th:only-of-type {\n",
       "        vertical-align: middle;\n",
       "    }\n",
       "\n",
       "    .dataframe tbody tr th {\n",
       "        vertical-align: top;\n",
       "    }\n",
       "\n",
       "    .dataframe thead th {\n",
       "        text-align: right;\n",
       "    }\n",
       "</style>\n",
       "<table border=\"1\" class=\"dataframe\">\n",
       "  <thead>\n",
       "    <tr style=\"text-align: right;\">\n",
       "      <th></th>\n",
       "      <th>feed_key</th>\n",
       "      <th>stop_id</th>\n",
       "      <th>stop_lat</th>\n",
       "      <th>stop_lon</th>\n",
       "      <th>stop_name</th>\n",
       "      <th>geometry</th>\n",
       "    </tr>\n",
       "  </thead>\n",
       "  <tbody>\n",
       "    <tr>\n",
       "      <th>0</th>\n",
       "      <td>25c6505166c01099b2f6f2de173e20b9</td>\n",
       "      <td>22nd_street</td>\n",
       "      <td>37.756972</td>\n",
       "      <td>-122.392492</td>\n",
       "      <td>22nd Street</td>\n",
       "      <td>POINT (-122.392 37.757)</td>\n",
       "    </tr>\n",
       "    <tr>\n",
       "      <th>1</th>\n",
       "      <td>25c6505166c01099b2f6f2de173e20b9</td>\n",
       "      <td>2537740</td>\n",
       "      <td>37.438491</td>\n",
       "      <td>-122.156405</td>\n",
       "      <td>Stanford Caltrain Station</td>\n",
       "      <td>POINT (-122.156 37.438)</td>\n",
       "    </tr>\n",
       "    <tr>\n",
       "      <th>2</th>\n",
       "      <td>25c6505166c01099b2f6f2de173e20b9</td>\n",
       "      <td>2537744</td>\n",
       "      <td>37.438425</td>\n",
       "      <td>-122.156482</td>\n",
       "      <td>Stanford Caltrain Station</td>\n",
       "      <td>POINT (-122.156 37.438)</td>\n",
       "    </tr>\n",
       "    <tr>\n",
       "      <th>3</th>\n",
       "      <td>25c6505166c01099b2f6f2de173e20b9</td>\n",
       "      <td>70011</td>\n",
       "      <td>37.776390</td>\n",
       "      <td>-122.394992</td>\n",
       "      <td>San Francisco Caltrain Station</td>\n",
       "      <td>POINT (-122.395 37.776)</td>\n",
       "    </tr>\n",
       "    <tr>\n",
       "      <th>4</th>\n",
       "      <td>25c6505166c01099b2f6f2de173e20b9</td>\n",
       "      <td>70012</td>\n",
       "      <td>37.776348</td>\n",
       "      <td>-122.394935</td>\n",
       "      <td>San Francisco Caltrain Station</td>\n",
       "      <td>POINT (-122.395 37.776)</td>\n",
       "    </tr>\n",
       "  </tbody>\n",
       "</table>\n",
       "</div>"
      ],
      "text/plain": [
       "                           feed_key      stop_id   stop_lat    stop_lon  \\\n",
       "0  25c6505166c01099b2f6f2de173e20b9  22nd_street  37.756972 -122.392492   \n",
       "1  25c6505166c01099b2f6f2de173e20b9      2537740  37.438491 -122.156405   \n",
       "2  25c6505166c01099b2f6f2de173e20b9      2537744  37.438425 -122.156482   \n",
       "3  25c6505166c01099b2f6f2de173e20b9        70011  37.776390 -122.394992   \n",
       "4  25c6505166c01099b2f6f2de173e20b9        70012  37.776348 -122.394935   \n",
       "\n",
       "                        stop_name                 geometry  \n",
       "0                     22nd Street  POINT (-122.392 37.757)  \n",
       "1       Stanford Caltrain Station  POINT (-122.156 37.438)  \n",
       "2       Stanford Caltrain Station  POINT (-122.156 37.438)  \n",
       "3  San Francisco Caltrain Station  POINT (-122.395 37.776)  \n",
       "4  San Francisco Caltrain Station  POINT (-122.395 37.776)  "
      ]
     },
     "execution_count": 34,
     "metadata": {},
     "output_type": "execute_result"
    }
   ],
   "source": [
    "stops_gdf.head()"
   ]
  },
  {
   "cell_type": "code",
   "execution_count": 35,
   "id": "de3b2030-090e-494a-a404-fec8640653f6",
   "metadata": {},
   "outputs": [
    {
     "data": {
      "text/plain": [
       "'geometry'"
      ]
     },
     "execution_count": 35,
     "metadata": {},
     "output_type": "execute_result"
    }
   ],
   "source": [
    "stops_gdf.geometry.name"
   ]
  },
  {
   "cell_type": "code",
   "execution_count": 32,
   "id": "cddbcc6c-f65c-4a67-aa3c-2164fbfcb67e",
   "metadata": {},
   "outputs": [
    {
     "data": {
      "text/html": [
       "<div>\n",
       "<style scoped>\n",
       "    .dataframe tbody tr th:only-of-type {\n",
       "        vertical-align: middle;\n",
       "    }\n",
       "\n",
       "    .dataframe tbody tr th {\n",
       "        vertical-align: top;\n",
       "    }\n",
       "\n",
       "    .dataframe thead th {\n",
       "        text-align: right;\n",
       "    }\n",
       "</style>\n",
       "<table border=\"1\" class=\"dataframe\">\n",
       "  <thead>\n",
       "    <tr style=\"text-align: right;\">\n",
       "      <th></th>\n",
       "      <th>OBJECTID</th>\n",
       "      <th>COUNTY_NAME</th>\n",
       "      <th>COUNTY_ABBREV</th>\n",
       "      <th>COUNTY_NUM</th>\n",
       "      <th>COUNTY_CODE</th>\n",
       "      <th>COUNTY_FIPS</th>\n",
       "      <th>ISLAND</th>\n",
       "      <th>Shape__Area</th>\n",
       "      <th>Shape__Length</th>\n",
       "      <th>GlobalID</th>\n",
       "      <th>geometry</th>\n",
       "      <th>index_right</th>\n",
       "      <th>feed_key</th>\n",
       "      <th>stop_id</th>\n",
       "      <th>stop_lat</th>\n",
       "      <th>stop_lon</th>\n",
       "      <th>stop_name</th>\n",
       "    </tr>\n",
       "  </thead>\n",
       "  <tbody>\n",
       "  </tbody>\n",
       "</table>\n",
       "</div>"
      ],
      "text/plain": [
       "Empty GeoDataFrame\n",
       "Columns: [OBJECTID, COUNTY_NAME, COUNTY_ABBREV, COUNTY_NUM, COUNTY_CODE, COUNTY_FIPS, ISLAND, Shape__Area, Shape__Length, GlobalID, geometry, index_right, feed_key, stop_id, stop_lat, stop_lon, stop_name]\n",
       "Index: []"
      ]
     },
     "execution_count": 32,
     "metadata": {},
     "output_type": "execute_result"
    }
   ],
   "source": [
    "#spatial join of stops_gdf and county2229\n",
    "\n",
    "sjoin = gpd.sjoin(county2229, stops_gdf, how='inner')\n",
    "\n",
    "sjoin"
   ]
  },
  {
   "cell_type": "markdown",
   "id": "2739e378-bd0b-402a-9b3b-f32351f4e70a",
   "metadata": {},
   "source": [
    "## Use functions to do parameterized visualizations\n",
    "* Use a function to create your chart\n",
    "* Within the function, the colors should use the Cal-ITP theme that is available in `styleguide`\n",
    "* Within the function, there should be at least 1 parameter that changes (ex: chart title reflects the correct county, legend title reflects the correct county, etc)\n",
    "* Produce 3 charts, using your function each time, and have the function correctly insert the parameters "
   ]
  },
  {
   "cell_type": "code",
   "execution_count": null,
   "id": "f7ba7e06-e70a-4f34-a6c4-072626720868",
   "metadata": {},
   "outputs": [],
   "source": []
  }
 ],
 "metadata": {
  "kernelspec": {
   "display_name": "Python 3 (ipykernel)",
   "language": "python",
   "name": "python3"
  },
  "language_info": {
   "codemirror_mode": {
    "name": "ipython",
    "version": 3
   },
   "file_extension": ".py",
   "mimetype": "text/x-python",
   "name": "python",
   "nbconvert_exporter": "python",
   "pygments_lexer": "ipython3",
   "version": "3.9.13"
  }
 },
 "nbformat": 4,
 "nbformat_minor": 5
}
