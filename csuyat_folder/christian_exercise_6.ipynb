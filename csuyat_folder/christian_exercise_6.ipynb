{
 "cells": [
  {
   "cell_type": "markdown",
   "id": "be271b0b-3fc1-4b28-998f-6c3ee50140f3",
   "metadata": {},
   "source": [
    "## Exercise 6: Shared utility functions, data catalogs\n",
    "\n",
    "Skills: \n",
    "* Import shared utils\n",
    "* Data catalog\n",
    "* Use functions to repeat certain data cleaning steps\n",
    "\n",
    "References: \n",
    "* https://docs.calitp.org/data-infra/analytics_new_analysts/02-data-analysis-intermediate.html\n",
    "* https://docs.calitp.org/data-infra/analytics_tools/python_libraries.html\n",
    "* https://docs.calitp.org/data-infra/analytics_tools/data_catalogs.html"
   ]
  },
  {
   "cell_type": "code",
   "execution_count": 1,
   "id": "cd857644-ccaa-4eb8-8e67-f506a46bbace",
   "metadata": {},
   "outputs": [
    {
     "name": "stderr",
     "output_type": "stream",
     "text": [
      "/opt/conda/lib/python3.9/site-packages/google/auth/_default.py:78: UserWarning: Your application has authenticated using end user credentials from Google Cloud SDK without a quota project. You might receive a \"quota exceeded\" or \"API not enabled\" error. See the following page for troubleshooting: https://cloud.google.com/docs/authentication/adc-troubleshooting/user-creds. \n",
      "  warnings.warn(_CLOUD_SDK_CREDENTIALS_WARNING)\n",
      "/opt/conda/lib/python3.9/site-packages/google/auth/_default.py:78: UserWarning: Your application has authenticated using end user credentials from Google Cloud SDK without a quota project. You might receive a \"quota exceeded\" or \"API not enabled\" error. See the following page for troubleshooting: https://cloud.google.com/docs/authentication/adc-troubleshooting/user-creds. \n",
      "  warnings.warn(_CLOUD_SDK_CREDENTIALS_WARNING)\n",
      "/opt/conda/lib/python3.9/site-packages/google/auth/_default.py:78: UserWarning: Your application has authenticated using end user credentials from Google Cloud SDK without a quota project. You might receive a \"quota exceeded\" or \"API not enabled\" error. See the following page for troubleshooting: https://cloud.google.com/docs/authentication/adc-troubleshooting/user-creds. \n",
      "  warnings.warn(_CLOUD_SDK_CREDENTIALS_WARNING)\n"
     ]
    }
   ],
   "source": [
    "import geopandas as gpd\n",
    "import intake\n",
    "import pandas as pd\n",
    "\n",
    "# Hint: if this doesn't import: refer to docs for correctly import\n",
    "# cd into _shared_utils folder, run the make setup_env command\n",
    "import shared_utils"
   ]
  },
  {
   "cell_type": "markdown",
   "id": "39dcaee8-e39e-4329-adc6-7f60b7000403",
   "metadata": {},
   "source": [
    "## Create a data catalog\n",
    "\n",
    "* Include one geospatial data source and one tabular (they should be related...your analysis depends on combining them)\n",
    "* Import your datasets using the catalog method"
   ]
  },
  {
   "cell_type": "code",
   "execution_count": 2,
   "id": "74dc0e71-8621-4030-b7fa-b0593973c09f",
   "metadata": {},
   "outputs": [
    {
     "data": {
      "application/yaml": "christian_ex6_catalog:\n  args:\n    path: ./christian_ex6_catalog.yml\n  description: ''\n  driver: intake.catalog.local.YAMLFileCatalog\n  metadata:\n    version: 1\n",
      "text/plain": [
       "christian_ex6_catalog:\n",
       "  args:\n",
       "    path: ./christian_ex6_catalog.yml\n",
       "  description: ''\n",
       "  driver: intake.catalog.local.YAMLFileCatalog\n",
       "  metadata:\n",
       "    version: 1\n"
      ]
     },
     "metadata": {
      "application/json": {
       "root": "christian_ex6_catalog"
      }
     },
     "output_type": "display_data"
    }
   ],
   "source": [
    "#catalog. see `christian_ex6_catalog.yml' file\n",
    "#code sample: catalog = intake.open_catalog(\"./sample-catalog.yml\")\n",
    "\n",
    "catalog = intake.open_catalog(\"./christian_ex6_catalog.yml\")\n",
    "\n",
    "catalog"
   ]
  },
  {
   "cell_type": "code",
   "execution_count": 3,
   "id": "fd9cf4a9-2832-4ae0-85bc-b0a29cac59e9",
   "metadata": {},
   "outputs": [],
   "source": [
    "#importing datasets using intake catalog\n",
    "stops = catalog.stops.read()\n",
    "ca_county = catalog.ca_counties.read()\n"
   ]
  },
  {
   "cell_type": "markdown",
   "id": "ba0d95ef-6162-4d22-b579-0bed56349cc4",
   "metadata": {
    "tags": []
   },
   "source": [
    "## Combine datasets\n",
    "* Do a merge or spatial join to combine the geospatial and tabular data\n",
    "* Create a new column of a summary statistic to visualize\n",
    "* Rely on `shared_utils` to do at least one operation (aggregation, re-projecting to a different CRS, exporting geoparquet, etc)"
   ]
  },
  {
   "cell_type": "code",
   "execution_count": null,
   "id": "a0305d92-4c0b-4033-a6e5-e021ebdbe160",
   "metadata": {},
   "outputs": [],
   "source": [
    "#checking whats in `stops`\n",
    "stops.head()"
   ]
  },
  {
   "cell_type": "code",
   "execution_count": null,
   "id": "afc26bfa-3917-45f1-b460-ffc33305148a",
   "metadata": {},
   "outputs": [],
   "source": [
    "#checking to see whats in `ca_county`\n",
    "ca_county.head()"
   ]
  },
  {
   "cell_type": "markdown",
   "id": "8f9c7393-474e-4496-87ec-f52269a6ab1f",
   "metadata": {},
   "source": [
    "### Method\n",
    "\n",
    "for `stops`\n",
    "* drop unnessary column\n",
    "* used shared utils to turn into point geometry and set crs to 2229\n",
    "\n",
    "For `ca_county` \n",
    "* assign crs to 2229\n",
    "\n",
    "for sjoin\n",
    "* ensure geometry col for stops and county are the same\n",
    "* put county on left, join using inner\n"
   ]
  },
  {
   "cell_type": "code",
   "execution_count": 4,
   "id": "0c1b7543-d36f-446c-9250-d39e2a76d3c9",
   "metadata": {},
   "outputs": [
    {
     "data": {
      "text/html": [
       "<div>\n",
       "<style scoped>\n",
       "    .dataframe tbody tr th:only-of-type {\n",
       "        vertical-align: middle;\n",
       "    }\n",
       "\n",
       "    .dataframe tbody tr th {\n",
       "        vertical-align: top;\n",
       "    }\n",
       "\n",
       "    .dataframe thead th {\n",
       "        text-align: right;\n",
       "    }\n",
       "</style>\n",
       "<table border=\"1\" class=\"dataframe\">\n",
       "  <thead>\n",
       "    <tr style=\"text-align: right;\">\n",
       "      <th></th>\n",
       "      <th>feed_key</th>\n",
       "      <th>stop_id</th>\n",
       "      <th>stop_lat</th>\n",
       "      <th>stop_lon</th>\n",
       "      <th>stop_name</th>\n",
       "    </tr>\n",
       "  </thead>\n",
       "  <tbody>\n",
       "    <tr>\n",
       "      <th>0</th>\n",
       "      <td>25c6505166c01099b2f6f2de173e20b9</td>\n",
       "      <td>22nd_street</td>\n",
       "      <td>37.756972</td>\n",
       "      <td>-122.392492</td>\n",
       "      <td>22nd Street</td>\n",
       "    </tr>\n",
       "    <tr>\n",
       "      <th>1</th>\n",
       "      <td>25c6505166c01099b2f6f2de173e20b9</td>\n",
       "      <td>2537740</td>\n",
       "      <td>37.438491</td>\n",
       "      <td>-122.156405</td>\n",
       "      <td>Stanford Caltrain Station</td>\n",
       "    </tr>\n",
       "    <tr>\n",
       "      <th>2</th>\n",
       "      <td>25c6505166c01099b2f6f2de173e20b9</td>\n",
       "      <td>2537744</td>\n",
       "      <td>37.438425</td>\n",
       "      <td>-122.156482</td>\n",
       "      <td>Stanford Caltrain Station</td>\n",
       "    </tr>\n",
       "    <tr>\n",
       "      <th>3</th>\n",
       "      <td>25c6505166c01099b2f6f2de173e20b9</td>\n",
       "      <td>70011</td>\n",
       "      <td>37.776390</td>\n",
       "      <td>-122.394992</td>\n",
       "      <td>San Francisco Caltrain Station</td>\n",
       "    </tr>\n",
       "    <tr>\n",
       "      <th>4</th>\n",
       "      <td>25c6505166c01099b2f6f2de173e20b9</td>\n",
       "      <td>70012</td>\n",
       "      <td>37.776348</td>\n",
       "      <td>-122.394935</td>\n",
       "      <td>San Francisco Caltrain Station</td>\n",
       "    </tr>\n",
       "  </tbody>\n",
       "</table>\n",
       "</div>"
      ],
      "text/plain": [
       "                           feed_key      stop_id   stop_lat    stop_lon  \\\n",
       "0  25c6505166c01099b2f6f2de173e20b9  22nd_street  37.756972 -122.392492   \n",
       "1  25c6505166c01099b2f6f2de173e20b9      2537740  37.438491 -122.156405   \n",
       "2  25c6505166c01099b2f6f2de173e20b9      2537744  37.438425 -122.156482   \n",
       "3  25c6505166c01099b2f6f2de173e20b9        70011  37.776390 -122.394992   \n",
       "4  25c6505166c01099b2f6f2de173e20b9        70012  37.776348 -122.394935   \n",
       "\n",
       "                        stop_name  \n",
       "0                     22nd Street  \n",
       "1       Stanford Caltrain Station  \n",
       "2       Stanford Caltrain Station  \n",
       "3  San Francisco Caltrain Station  \n",
       "4  San Francisco Caltrain Station  "
      ]
     },
     "execution_count": 4,
     "metadata": {},
     "output_type": "execute_result"
    }
   ],
   "source": [
    "#drop unnamed col from `stops`\n",
    "\n",
    "stops = stops.drop(columns=['Unnamed: 0'], axis=1)\n",
    "stops.head()"
   ]
  },
  {
   "cell_type": "code",
   "execution_count": 5,
   "id": "22da8b2e-4bc3-47aa-8793-c7954d7eb2aa",
   "metadata": {},
   "outputs": [
    {
     "data": {
      "text/html": [
       "<div>\n",
       "<style scoped>\n",
       "    .dataframe tbody tr th:only-of-type {\n",
       "        vertical-align: middle;\n",
       "    }\n",
       "\n",
       "    .dataframe tbody tr th {\n",
       "        vertical-align: top;\n",
       "    }\n",
       "\n",
       "    .dataframe thead th {\n",
       "        text-align: right;\n",
       "    }\n",
       "</style>\n",
       "<table border=\"1\" class=\"dataframe\">\n",
       "  <thead>\n",
       "    <tr style=\"text-align: right;\">\n",
       "      <th></th>\n",
       "      <th>feed_key</th>\n",
       "      <th>stop_id</th>\n",
       "      <th>stop_lat</th>\n",
       "      <th>stop_lon</th>\n",
       "      <th>stop_name</th>\n",
       "      <th>geometry</th>\n",
       "    </tr>\n",
       "  </thead>\n",
       "  <tbody>\n",
       "    <tr>\n",
       "      <th>0</th>\n",
       "      <td>25c6505166c01099b2f6f2de173e20b9</td>\n",
       "      <td>22nd_street</td>\n",
       "      <td>37.756972</td>\n",
       "      <td>-122.392492</td>\n",
       "      <td>22nd Street</td>\n",
       "      <td>POINT (5290484.166 3218221.779)</td>\n",
       "    </tr>\n",
       "    <tr>\n",
       "      <th>1</th>\n",
       "      <td>25c6505166c01099b2f6f2de173e20b9</td>\n",
       "      <td>2537740</td>\n",
       "      <td>37.438491</td>\n",
       "      <td>-122.156405</td>\n",
       "      <td>Stanford Caltrain Station</td>\n",
       "      <td>POINT (5353967.719 3099309.691)</td>\n",
       "    </tr>\n",
       "    <tr>\n",
       "      <th>2</th>\n",
       "      <td>25c6505166c01099b2f6f2de173e20b9</td>\n",
       "      <td>2537744</td>\n",
       "      <td>37.438425</td>\n",
       "      <td>-122.156482</td>\n",
       "      <td>Stanford Caltrain Station</td>\n",
       "      <td>POINT (5353944.533 3099286.476)</td>\n",
       "    </tr>\n",
       "    <tr>\n",
       "      <th>3</th>\n",
       "      <td>25c6505166c01099b2f6f2de173e20b9</td>\n",
       "      <td>70011</td>\n",
       "      <td>37.776390</td>\n",
       "      <td>-122.394992</td>\n",
       "      <td>San Francisco Caltrain Station</td>\n",
       "      <td>POINT (5290070.611 3225326.968)</td>\n",
       "    </tr>\n",
       "    <tr>\n",
       "      <th>4</th>\n",
       "      <td>25c6505166c01099b2f6f2de173e20b9</td>\n",
       "      <td>70012</td>\n",
       "      <td>37.776348</td>\n",
       "      <td>-122.394935</td>\n",
       "      <td>San Francisco Caltrain Station</td>\n",
       "      <td>POINT (5290086.422 3225310.947)</td>\n",
       "    </tr>\n",
       "  </tbody>\n",
       "</table>\n",
       "</div>"
      ],
      "text/plain": [
       "                           feed_key      stop_id   stop_lat    stop_lon  \\\n",
       "0  25c6505166c01099b2f6f2de173e20b9  22nd_street  37.756972 -122.392492   \n",
       "1  25c6505166c01099b2f6f2de173e20b9      2537740  37.438491 -122.156405   \n",
       "2  25c6505166c01099b2f6f2de173e20b9      2537744  37.438425 -122.156482   \n",
       "3  25c6505166c01099b2f6f2de173e20b9        70011  37.776390 -122.394992   \n",
       "4  25c6505166c01099b2f6f2de173e20b9        70012  37.776348 -122.394935   \n",
       "\n",
       "                        stop_name                         geometry  \n",
       "0                     22nd Street  POINT (5290484.166 3218221.779)  \n",
       "1       Stanford Caltrain Station  POINT (5353967.719 3099309.691)  \n",
       "2       Stanford Caltrain Station  POINT (5353944.533 3099286.476)  \n",
       "3  San Francisco Caltrain Station  POINT (5290070.611 3225326.968)  \n",
       "4  San Francisco Caltrain Station  POINT (5290086.422 3225310.947)  "
      ]
     },
     "execution_count": 5,
     "metadata": {},
     "output_type": "execute_result"
    }
   ],
   "source": [
    "#use share_utils to create point geometry, check for gdf status\n",
    "#stops_ptg = geography_utils.create_point_geometry(\n",
    "#    stops_gdf,\n",
    "#    \"stop_lon\",\n",
    "#    \"stop_lat\",\n",
    "#    crs = \"EPSG:2229\"\n",
    "#)\n",
    "\n",
    "from calitp_data_analysis import geography_utils\n",
    "\n",
    "stops_ptg = geography_utils.create_point_geometry(\n",
    "    stops,\n",
    "    'stop_lon',\n",
    "    'stop_lat',\n",
    "    crs = 'EPSG:2229'\n",
    ")\n",
    "stops_ptg.head()"
   ]
  },
  {
   "cell_type": "code",
   "execution_count": null,
   "id": "38eeff66-fb36-4e18-bb82-7d73aeb8d581",
   "metadata": {},
   "outputs": [],
   "source": [
    "#checking type of df for `stops_ptg` after creating it. looking for gdf\n",
    "type(stops_ptg)"
   ]
  },
  {
   "cell_type": "code",
   "execution_count": null,
   "id": "7010bdd7-41cb-48ba-979a-920602099a11",
   "metadata": {},
   "outputs": [],
   "source": [
    "#checking for CRS for `stops_ptg`. looking for 2229\n",
    "stops_ptg.crs"
   ]
  },
  {
   "cell_type": "code",
   "execution_count": null,
   "id": "9e2ac40e-8052-49c7-9ff9-cc6b0f088a44",
   "metadata": {},
   "outputs": [],
   "source": [
    "#ensuring ca_county is gdf\n",
    "type(ca_county)"
   ]
  },
  {
   "cell_type": "code",
   "execution_count": null,
   "id": "605a89ea-15eb-46e2-8b02-8e9926784a38",
   "metadata": {},
   "outputs": [],
   "source": [
    "#current CRS set to EPGS 4326\n",
    "ca_county.crs"
   ]
  },
  {
   "cell_type": "code",
   "execution_count": null,
   "id": "88bfe50f-053f-4b97-99f1-1468690d783c",
   "metadata": {},
   "outputs": [],
   "source": [
    "#test to set CRS to another 2229\n",
    "county2229 = ca_county.to_crs('EPSG:2229')"
   ]
  },
  {
   "cell_type": "code",
   "execution_count": null,
   "id": "d757304f-967a-4d2a-952e-e8c25b48d231",
   "metadata": {},
   "outputs": [],
   "source": [
    "#crs now set to 2229\n",
    "county2229.crs"
   ]
  },
  {
   "cell_type": "code",
   "execution_count": null,
   "id": "125d5baf-8474-41e0-a6a4-f09d5f255d32",
   "metadata": {},
   "outputs": [],
   "source": [
    "#checking columns to see what we got\n",
    "county2229.head()\n",
    "\n",
    "#noticed that county2229 geometry column is now a multpolygon. expecting sjoin not to work"
   ]
  },
  {
   "cell_type": "code",
   "execution_count": null,
   "id": "b860f746-6a30-44cc-bdcc-5ee6ed09ec81",
   "metadata": {},
   "outputs": [],
   "source": [
    "stops_ptg.head()\n",
    "#see that geometry column is in point. byt numbers inside look correct"
   ]
  },
  {
   "cell_type": "code",
   "execution_count": null,
   "id": "0b073354-0690-4893-8656-257032aa69ff",
   "metadata": {},
   "outputs": [],
   "source": [
    "#spatial join of county2229 and stops_ptg vis inner join\n",
    "sjoin = gpd.sjoin(county2229, stops_ptg, how='inner')\n",
    "\n",
    "sjoin.head()\n",
    "#join worked any produced something"
   ]
  },
  {
   "cell_type": "code",
   "execution_count": null,
   "id": "50ede435-85f6-4a3c-92a9-537932af61bd",
   "metadata": {},
   "outputs": [],
   "source": [
    "#checking to see what sjoin looks like\n",
    "print(sjoin.shape)\n",
    "print(sjoin.OBJECTID.notna().value_counts())\n",
    "print(sjoin.feed_key.notna().value_counts())\n",
    "\n",
    "#checking for any blank values. true = not blank"
   ]
  },
  {
   "cell_type": "code",
   "execution_count": null,
   "id": "db6db470-b472-4686-90e4-876c5d95c64c",
   "metadata": {},
   "outputs": [],
   "source": [
    "#checking to see if sjoin plots anything\n",
    "\n",
    "sjoin.plot('stop_id')\n",
    "\n",
    "#sjoin plots something"
   ]
  },
  {
   "cell_type": "code",
   "execution_count": null,
   "id": "89580017-abd6-4350-8c2a-9925d68af207",
   "metadata": {},
   "outputs": [],
   "source": [
    "#testing what explore() looks like\n",
    "\n",
    "#TAKES A LONG TIME TO RUN, AND MAKES LOCAL SAVING FAIL.\n",
    "\n",
    "# sjoin.explore('COUNTY_NAME')"
   ]
  },
  {
   "cell_type": "code",
   "execution_count": null,
   "id": "0284af52-8749-4037-be1f-77af7e391fe0",
   "metadata": {},
   "outputs": [],
   "source": [
    "#add a new column that can aggregate some detail like `count of stops per county`\n",
    "\n",
    "#sjoin['stopID_count_per_feedkey'] = sjoin.assign(sjoin.feed_key.count())\n",
    "\n",
    "sjoin_agg = sjoin.groupby('COUNTY_NAME').stop_id.count().reset_index()\n",
    "\n",
    "sjoin_agg"
   ]
  },
  {
   "cell_type": "code",
   "execution_count": null,
   "id": "8ca9ff86-d7ef-4479-a8b4-a13f967a8f06",
   "metadata": {},
   "outputs": [],
   "source": [
    "#test of using group by with multiple col critera\n",
    "sjoin_agg2 = sjoin.groupby(['COUNTY_NAME', 'feed_key']).agg({\n",
    "    'stop_id':'count'\n",
    "}).reset_index().rename(columns = {'stop_id':'stop_id_count'})\n",
    "sjoin_agg2"
   ]
  },
  {
   "cell_type": "code",
   "execution_count": null,
   "id": "1062067f-56d9-4b38-aa71-02037b9f58ac",
   "metadata": {},
   "outputs": [],
   "source": [
    "#alternate test. aggregating stop_id, then inserting into sjoin as new col based on county_name\n",
    "#wth does `transform()` do? see example on Pandas page 'https://pandas.pydata.org/docs/reference/api/pandas.Series.transform.html'\n",
    "sjoin['stop_id_count'] = sjoin.groupby('COUNTY_NAME')['stop_id'].transform('count')\n",
    "sjoin.head()"
   ]
  },
  {
   "cell_type": "markdown",
   "id": "2739e378-bd0b-402a-9b3b-f32351f4e70a",
   "metadata": {},
   "source": [
    "## Use functions to do parameterized visualizations\n",
    "* Use a function to create your chart\n",
    "* Within the function, the colors should use the Cal-ITP theme that is available in `styleguide`\n",
    "* Within the function, there should be at least 1 parameter that changes (ex: chart title reflects the correct county, legend title reflects the correct county, etc)|\n",
    "* Produce 3 charts, using your function each time, and have the function correctly insert the parameters "
   ]
  },
  {
   "cell_type": "code",
   "execution_count": null,
   "id": "0d92362c-899c-4e37-b63e-dad1c5716577",
   "metadata": {},
   "outputs": [],
   "source": [
    "#lets try altair from ex 3, but using sjoin\n",
    "\n",
    "import altair as alt\n",
    "\n",
    "def bar_chart(df, x_col, y_col):\n",
    "    x_title = f\"{x_col.title()}\"\n",
    "    \n",
    "    chart = (alt.Chart(df)\n",
    "             .mark_bar()\n",
    "             .encode(\n",
    "                 x=alt.X(x_col, title=x_title),\n",
    "                 y=alt.Y(y_col, title=\"\"),\n",
    "             )\n",
    "            )\n",
    "    return chart\n",
    "    "
   ]
  },
  {
   "cell_type": "code",
   "execution_count": null,
   "id": "2f8d5767-2f12-4887-a71c-22c650d1a309",
   "metadata": {},
   "outputs": [],
   "source": [
    "#bart_chart function has been made. Now i can reuse the same function and use other dataframes. INSTEAD OF RE WRITING INDIVIDUAL CODE FOR OTHER DATAFRAMES!!\n",
    "\n",
    "#bar_chart(sjoin, 'COUNTY_NAME', 'SHAPE_Area')\n",
    "\n",
    "#COMMENTING OUT CHARTS TO SAVE SPACE!"
   ]
  },
  {
   "cell_type": "code",
   "execution_count": null,
   "id": "6efdbadc-9d21-4e05-87b0-ce4ee32b0a88",
   "metadata": {},
   "outputs": [],
   "source": [
    "#testing styleguide\n",
    "\n",
    "from shared_utils import styleguide\n",
    "from shared_utils import calitp_color_palette as cp"
   ]
  },
  {
   "cell_type": "code",
   "execution_count": null,
   "id": "e9459ca4-ed1f-42ef-82c2-c91bd46ec336",
   "metadata": {},
   "outputs": [],
   "source": [
    "#Test creating a function to make a chart\n",
    "def plot_bar(df,x_col, y_col):\n",
    "    df.plot.bar(x=x_col, y=y_col)"
   ]
  },
  {
   "cell_type": "code",
   "execution_count": null,
   "id": "835b277d-657a-43d1-9820-f72127093fa5",
   "metadata": {},
   "outputs": [],
   "source": [
    "#testing `plot_bar` function\n",
    "#plot_bar(sjoin,'COUNTY_NAME', 'stop_id_count')\n",
    "\n",
    "#it's ugly but `plot_bar` function makes a chart!!!!\n",
    "\n",
    "#COMMENTING OUT CHARTS TO SAVE SPACE!"
   ]
  },
  {
   "cell_type": "code",
   "execution_count": null,
   "id": "09479338-1a60-455f-8937-9b2f48c797b2",
   "metadata": {},
   "outputs": [],
   "source": [
    "#old way\n",
    "#sjoin.plot.bar(x='COUNTY_NAME', y='stop_id_count')\n",
    "\n",
    "#COMMENTING OUT CHARTS TO SAVE SPACE!"
   ]
  },
  {
   "cell_type": "code",
   "execution_count": null,
   "id": "601076db-a0fc-4037-ba94-afcaa6b1d5c3",
   "metadata": {},
   "outputs": [],
   "source": []
  }
 ],
 "metadata": {
  "kernelspec": {
   "display_name": "Python 3 (ipykernel)",
   "language": "python",
   "name": "python3"
  },
  "language_info": {
   "codemirror_mode": {
    "name": "ipython",
    "version": 3
   },
   "file_extension": ".py",
   "mimetype": "text/x-python",
   "name": "python",
   "nbconvert_exporter": "python",
   "pygments_lexer": "ipython3",
   "version": "3.9.13"
  }
 },
 "nbformat": 4,
 "nbformat_minor": 5
}
