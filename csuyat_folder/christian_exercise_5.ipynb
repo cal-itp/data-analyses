{
 "cells": [
  {
   "cell_type": "markdown",
   "id": "be271b0b-3fc1-4b28-998f-6c3ee50140f3",
   "metadata": {},
   "source": [
    "## Exercise 5: Geospatial wrangling and making maps\n",
    "\n",
    "Skills: \n",
    "* More geospatial practice building on earlier skills\n",
    "* Make a map with `geopandas`\n",
    "\n",
    "References: \n",
    "* https://docs.calitp.org/data-infra/analytics_new_analysts/02-data-analysis-intermediate.html\n",
    "* https://docs.calitp.org/data-infra/analytics_tools/python_libraries.html"
   ]
  },
  {
   "cell_type": "code",
   "execution_count": 1,
   "id": "a0673993-3a04-44c1-af48-46f10eb71198",
   "metadata": {},
   "outputs": [
    {
     "name": "stderr",
     "output_type": "stream",
     "text": [
      "/opt/conda/lib/python3.9/site-packages/geopandas/_compat.py:124: UserWarning: The Shapely GEOS version (3.11.1-CAPI-1.17.1) is incompatible with the GEOS version PyGEOS was compiled with (3.10.1-CAPI-1.16.0). Conversions between both will be slow.\n",
      "  warnings.warn(\n",
      "/tmp/ipykernel_362/2144877482.py:1: DeprecationWarning: Shapely 2.0 is installed, but because PyGEOS is also installed, GeoPandas still uses PyGEOS by default. However, starting with version 0.14, the default will switch to Shapely. To force to use Shapely 2.0 now, you can either uninstall PyGEOS or set the environment variable USE_PYGEOS=0. You can do this before starting the Python process, or in your code before importing geopandas:\n",
      "\n",
      "import os\n",
      "os.environ['USE_PYGEOS'] = '0'\n",
      "import geopandas\n",
      "\n",
      "In the next release, GeoPandas will switch to using Shapely by default, even if PyGEOS is installed. If you only have PyGEOS installed to get speed-ups, this switch should be smooth. However, if you are using PyGEOS directly (calling PyGEOS functions on geometries from GeoPandas), this will then stop working and you are encouraged to migrate from PyGEOS to Shapely 2.0 (https://shapely.readthedocs.io/en/latest/migration_pygeos.html).\n",
      "  import geopandas as gpd\n",
      "/opt/conda/lib/python3.9/site-packages/google/auth/_default.py:78: UserWarning: Your application has authenticated using end user credentials from Google Cloud SDK without a quota project. You might receive a \"quota exceeded\" or \"API not enabled\" error. See the following page for troubleshooting: https://cloud.google.com/docs/authentication/adc-troubleshooting/user-creds. \n",
      "  warnings.warn(_CLOUD_SDK_CREDENTIALS_WARNING)\n",
      "/opt/conda/lib/python3.9/site-packages/google/auth/_default.py:78: UserWarning: Your application has authenticated using end user credentials from Google Cloud SDK without a quota project. You might receive a \"quota exceeded\" or \"API not enabled\" error. See the following page for troubleshooting: https://cloud.google.com/docs/authentication/adc-troubleshooting/user-creds. \n",
      "  warnings.warn(_CLOUD_SDK_CREDENTIALS_WARNING)\n",
      "/opt/conda/lib/python3.9/site-packages/google/auth/_default.py:78: UserWarning: Your application has authenticated using end user credentials from Google Cloud SDK without a quota project. You might receive a \"quota exceeded\" or \"API not enabled\" error. See the following page for troubleshooting: https://cloud.google.com/docs/authentication/adc-troubleshooting/user-creds. \n",
      "  warnings.warn(_CLOUD_SDK_CREDENTIALS_WARNING)\n"
     ]
    }
   ],
   "source": [
    "import geopandas as gpd\n",
    "import intake\n",
    "import os\n",
    "import pandas as pd\n",
    "import shapely\n",
    "\n",
    "os.environ[\"CALITP_BQ_MAX_BYTES\"] = str(100_000_000_000)\n",
    "\n",
    "from calitp_data_analysis.tables import tbls\n",
    "from siuba import *\n",
    "\n",
    "# Hint: if this doesn't import: refer to docs for correctly import\n",
    "# cd into _shared_utils folder, run the make setup_env command\n",
    "import shared_utils"
   ]
  },
  {
   "cell_type": "markdown",
   "id": "6c762aa7-15ac-4f6d-9867-e35b0b723a57",
   "metadata": {},
   "source": [
    "## Research Question\n",
    "\n",
    "What's the average number of trips per stop by operators in southern California? Show visualizations at the operator and county-level.\n",
    "<br>**Geographic scope:** southern California counties\n",
    "<br>**Deliverables:** chart(s) and map(s) showing metrics comparing across counties and also across operators. Make these visualizations using function(s).\n",
    "\n",
    "### Prep data\n",
    "\n",
    "* Use the same query, but grab a different set of operators. These are in southern California, so the map should zoom in counties ranging from LA to SD.\n",
    "* *Hint*: for some counties, there are multiple operators. Make sure the average trips per stop by counties is the weighted average.\n",
    "* Use the same [shapefile for CA counties](https://gis.data.ca.gov/datasets/CALFIRE-Forestry::california-county-boundaries/explore?location=37.246136%2C-119.002032%2C6.12) as in Exercise 4.\n",
    "* Join the data and only keep counties that have bus stops."
   ]
  },
  {
   "cell_type": "code",
   "execution_count": 2,
   "id": "3d11c71e-06f2-4419-827e-8a4e0876f412",
   "metadata": {},
   "outputs": [
    {
     "name": "stdout",
     "output_type": "stream",
     "text": [
      "<class 'pandas.core.frame.DataFrame'>\n",
      "(200, 2)\n",
      "Kern Schedule                     1\n",
      "Mendocino Schedule                1\n",
      "StaRTA Schedule                   1\n",
      "Lynwood Schedule                  1\n",
      "Merced GMV Schedule               1\n",
      "                                 ..\n",
      "Rio Vista Schedule                1\n",
      "Bay Area 511 SolTrans Schedule    1\n",
      "SunLine Schedule                  1\n",
      "Baldwin Park Schedule             1\n",
      "Alhambra Schedule                 1\n",
      "Name: name, Length: 200, dtype: int64\n"
     ]
    },
    {
     "data": {
      "text/html": [
       "<div>\n",
       "<style scoped>\n",
       "    .dataframe tbody tr th:only-of-type {\n",
       "        vertical-align: middle;\n",
       "    }\n",
       "\n",
       "    .dataframe tbody tr th {\n",
       "        vertical-align: top;\n",
       "    }\n",
       "\n",
       "    .dataframe thead th {\n",
       "        text-align: right;\n",
       "    }\n",
       "</style>\n",
       "<table border=\"1\" class=\"dataframe\">\n",
       "  <thead>\n",
       "    <tr style=\"text-align: right;\">\n",
       "      <th></th>\n",
       "      <th>feed_key</th>\n",
       "      <th>name</th>\n",
       "    </tr>\n",
       "  </thead>\n",
       "  <tbody>\n",
       "    <tr>\n",
       "      <th>0</th>\n",
       "      <td>5efaa2460085a481db5dfbf57ae78187</td>\n",
       "      <td>Kern Schedule</td>\n",
       "    </tr>\n",
       "    <tr>\n",
       "      <th>1</th>\n",
       "      <td>c50220b8622624dfa0c5c22859b14694</td>\n",
       "      <td>Humboldt Schedule</td>\n",
       "    </tr>\n",
       "    <tr>\n",
       "      <th>2</th>\n",
       "      <td>1b77ef49f5bc70038cbf15e4f5f98477</td>\n",
       "      <td>Compton Schedule</td>\n",
       "    </tr>\n",
       "    <tr>\n",
       "      <th>3</th>\n",
       "      <td>4b6b673ab50c016344c1adf09de2cc84</td>\n",
       "      <td>Banning Pass Schedule</td>\n",
       "    </tr>\n",
       "    <tr>\n",
       "      <th>4</th>\n",
       "      <td>7a7e9069dedca7a58e5a89aaa0a97256</td>\n",
       "      <td>Bay Area 511 Santa Rosa CityBus Schedule</td>\n",
       "    </tr>\n",
       "  </tbody>\n",
       "</table>\n",
       "</div>"
      ],
      "text/plain": [
       "                           feed_key                                      name\n",
       "0  5efaa2460085a481db5dfbf57ae78187                             Kern Schedule\n",
       "1  c50220b8622624dfa0c5c22859b14694                         Humboldt Schedule\n",
       "2  1b77ef49f5bc70038cbf15e4f5f98477                          Compton Schedule\n",
       "3  4b6b673ab50c016344c1adf09de2cc84                     Banning Pass Schedule\n",
       "4  7a7e9069dedca7a58e5a89aaa0a97256  Bay Area 511 Santa Rosa CityBus Schedule"
      ]
     },
     "execution_count": 2,
     "metadata": {},
     "output_type": "execute_result"
    }
   ],
   "source": [
    "#retuns df of name to feed_keys\n",
    "\n",
    "feeds_to_names = shared_utils.gtfs_utils_v2.schedule_daily_feed_to_gtfs_dataset_name(\n",
    "    selected_date = \"2022-06-01\",\n",
    "    get_df = True\n",
    ")[[\"feed_key\", \"name\"]].drop_duplicates()\n",
    "\n",
    "print(type(feeds_to_names))\n",
    "print(feeds_to_names.shape)\n",
    "print(feeds_to_names.name.value_counts())\n",
    "feeds_to_names.head()"
   ]
  },
  {
   "cell_type": "code",
   "execution_count": 3,
   "id": "dd76306d-f810-45cd-947a-8d202ac19451",
   "metadata": {},
   "outputs": [
    {
     "name": "stdout",
     "output_type": "stream",
     "text": [
      "<class 'geopandas.geodataframe.GeoDataFrame'>\n",
      "(69, 11)\n",
      "EPSG:4326\n"
     ]
    },
    {
     "data": {
      "text/html": [
       "<div>\n",
       "<style scoped>\n",
       "    .dataframe tbody tr th:only-of-type {\n",
       "        vertical-align: middle;\n",
       "    }\n",
       "\n",
       "    .dataframe tbody tr th {\n",
       "        vertical-align: top;\n",
       "    }\n",
       "\n",
       "    .dataframe thead th {\n",
       "        text-align: right;\n",
       "    }\n",
       "</style>\n",
       "<table border=\"1\" class=\"dataframe\">\n",
       "  <thead>\n",
       "    <tr style=\"text-align: right;\">\n",
       "      <th></th>\n",
       "      <th>OBJECTID</th>\n",
       "      <th>COUNTY_NAME</th>\n",
       "      <th>COUNTY_ABBREV</th>\n",
       "      <th>COUNTY_NUM</th>\n",
       "      <th>COUNTY_CODE</th>\n",
       "      <th>COUNTY_FIPS</th>\n",
       "      <th>ISLAND</th>\n",
       "      <th>Shape__Area</th>\n",
       "      <th>Shape__Length</th>\n",
       "      <th>GlobalID</th>\n",
       "      <th>geometry</th>\n",
       "    </tr>\n",
       "  </thead>\n",
       "  <tbody>\n",
       "    <tr>\n",
       "      <th>0</th>\n",
       "      <td>1</td>\n",
       "      <td>Alameda</td>\n",
       "      <td>ALA</td>\n",
       "      <td>1</td>\n",
       "      <td>01</td>\n",
       "      <td>001</td>\n",
       "      <td>NaN</td>\n",
       "      <td>3.402787e+09</td>\n",
       "      <td>308998.650766</td>\n",
       "      <td>e6f92268-d2dd-4cfb-8b79-5b4b2f07c559</td>\n",
       "      <td>POLYGON ((-122.27125 37.90503, -122.27024 37.9...</td>\n",
       "    </tr>\n",
       "    <tr>\n",
       "      <th>1</th>\n",
       "      <td>2</td>\n",
       "      <td>Alpine</td>\n",
       "      <td>ALP</td>\n",
       "      <td>2</td>\n",
       "      <td>02</td>\n",
       "      <td>003</td>\n",
       "      <td>NaN</td>\n",
       "      <td>3.146939e+09</td>\n",
       "      <td>274888.492411</td>\n",
       "      <td>870479b2-480a-494b-8352-ad60578839c1</td>\n",
       "      <td>POLYGON ((-119.58667 38.71420, -119.58653 38.7...</td>\n",
       "    </tr>\n",
       "    <tr>\n",
       "      <th>2</th>\n",
       "      <td>3</td>\n",
       "      <td>Amador</td>\n",
       "      <td>AMA</td>\n",
       "      <td>3</td>\n",
       "      <td>03</td>\n",
       "      <td>005</td>\n",
       "      <td>NaN</td>\n",
       "      <td>2.562635e+09</td>\n",
       "      <td>361708.438013</td>\n",
       "      <td>4f45b3a6-be10-461c-8945-6b2aaa7119f6</td>\n",
       "      <td>POLYGON ((-120.07246 38.70276, -120.07249 38.6...</td>\n",
       "    </tr>\n",
       "    <tr>\n",
       "      <th>3</th>\n",
       "      <td>4</td>\n",
       "      <td>Butte</td>\n",
       "      <td>BUT</td>\n",
       "      <td>4</td>\n",
       "      <td>04</td>\n",
       "      <td>007</td>\n",
       "      <td>NaN</td>\n",
       "      <td>7.339348e+09</td>\n",
       "      <td>526547.115238</td>\n",
       "      <td>44fba680-aecc-4e04-a499-29d69affbd4a</td>\n",
       "      <td>POLYGON ((-121.07661 39.59729, -121.07945 39.5...</td>\n",
       "    </tr>\n",
       "    <tr>\n",
       "      <th>4</th>\n",
       "      <td>5</td>\n",
       "      <td>Calaveras</td>\n",
       "      <td>CAL</td>\n",
       "      <td>5</td>\n",
       "      <td>05</td>\n",
       "      <td>009</td>\n",
       "      <td>NaN</td>\n",
       "      <td>4.351069e+09</td>\n",
       "      <td>370637.578323</td>\n",
       "      <td>d11ef739-4a1e-414e-bfd1-e7dcd56cd61e</td>\n",
       "      <td>POLYGON ((-120.01792 38.43586, -120.01788 38.4...</td>\n",
       "    </tr>\n",
       "  </tbody>\n",
       "</table>\n",
       "</div>"
      ],
      "text/plain": [
       "   OBJECTID COUNTY_NAME COUNTY_ABBREV  COUNTY_NUM COUNTY_CODE COUNTY_FIPS  \\\n",
       "0         1     Alameda           ALA           1          01         001   \n",
       "1         2      Alpine           ALP           2          02         003   \n",
       "2         3      Amador           AMA           3          03         005   \n",
       "3         4       Butte           BUT           4          04         007   \n",
       "4         5   Calaveras           CAL           5          05         009   \n",
       "\n",
       "  ISLAND   Shape__Area  Shape__Length                              GlobalID  \\\n",
       "0    NaN  3.402787e+09  308998.650766  e6f92268-d2dd-4cfb-8b79-5b4b2f07c559   \n",
       "1    NaN  3.146939e+09  274888.492411  870479b2-480a-494b-8352-ad60578839c1   \n",
       "2    NaN  2.562635e+09  361708.438013  4f45b3a6-be10-461c-8945-6b2aaa7119f6   \n",
       "3    NaN  7.339348e+09  526547.115238  44fba680-aecc-4e04-a499-29d69affbd4a   \n",
       "4    NaN  4.351069e+09  370637.578323  d11ef739-4a1e-414e-bfd1-e7dcd56cd61e   \n",
       "\n",
       "                                            geometry  \n",
       "0  POLYGON ((-122.27125 37.90503, -122.27024 37.9...  \n",
       "1  POLYGON ((-119.58667 38.71420, -119.58653 38.7...  \n",
       "2  POLYGON ((-120.07246 38.70276, -120.07249 38.6...  \n",
       "3  POLYGON ((-121.07661 39.59729, -121.07945 39.5...  \n",
       "4  POLYGON ((-120.01792 38.43586, -120.01788 38.4...  "
      ]
     },
     "execution_count": 3,
     "metadata": {},
     "output_type": "execute_result"
    }
   ],
   "source": [
    "#also brining in CA Counties from ex 4.\n",
    "\n",
    "ca_county = gpd.read_file('https://services1.arcgis.com/jUJYIo9tSA7EHvfZ/arcgis/rest/services/California_County_Boundaries/FeatureServer/0/query?outFields=*&where=1%3D1&f=geojson')\n",
    "print(type(ca_county))\n",
    "print(ca_county.shape)\n",
    "print(ca_county.crs)\n",
    "ca_county.head()"
   ]
  },
  {
   "cell_type": "code",
   "execution_count": 4,
   "id": "b3e192d2-fca7-4717-9c2d-3f06fb089383",
   "metadata": {},
   "outputs": [
    {
     "data": {
      "text/plain": [
       "pandas.core.frame.DataFrame"
      ]
     },
     "execution_count": 4,
     "metadata": {},
     "output_type": "execute_result"
    }
   ],
   "source": [
    "type(feeds_to_names)"
   ]
  },
  {
   "cell_type": "code",
   "execution_count": 5,
   "id": "277963d3-fb42-44db-83ae-9ba310e6c383",
   "metadata": {},
   "outputs": [
    {
     "data": {
      "text/plain": [
       "['41ee0151e3cac17098d055ce25b3f104',\n",
       " '239e56d11510f71d7182a24c5621be8c',\n",
       " '455fadac7ed63a72e7d3f36273d78313',\n",
       " 'e7985c6c0c873f17871d79a527a50afa',\n",
       " 'a3af905228efc93bb48f360b92965afb',\n",
       " 'd76560b3dfecce2d588023bf1d1c4c2d']"
      ]
     },
     "execution_count": 5,
     "metadata": {},
     "output_type": "execute_result"
    }
   ],
   "source": [
    "OPERATORS = [\n",
    "    \"Alhambra Schedule\", \n",
    "    \"San Diego Schedule\",\n",
    "    \"Big Blue Bus Schedule\",\n",
    "    \"Culver City Schedule\",\n",
    "    \"OmniTrans Schedule\",\n",
    "    \"OCTA Schedule\"\n",
    "]\n",
    "\n",
    "SUBSET_FEEDS = feeds_to_names[\n",
    "    feeds_to_names.name.isin(OPERATORS)\n",
    "].feed_key.tolist()\n",
    "\n",
    "SUBSET_FEEDS\n",
    "#gives us the feed_key for the list of operators found in the `feeds_to_name` list"
   ]
  },
  {
   "cell_type": "code",
   "execution_count": 6,
   "id": "cb619ecd-d33d-4d77-b9d0-547958dd069f",
   "metadata": {},
   "outputs": [
    {
     "name": "stderr",
     "output_type": "stream",
     "text": [
      "/opt/conda/lib/python3.9/site-packages/sqlalchemy_bigquery/_types.py:101: SAWarning: Did not recognize type 'GEOGRAPHY' of column 'pt_geom'\n",
      "  sqlalchemy.util.warn(\n"
     ]
    }
   ],
   "source": [
    "stops = (\n",
    "    tbls.mart_gtfs.fct_daily_scheduled_stops()\n",
    "    >> filter(_.feed_key.isin(SUBSET_FEEDS))\n",
    "    >> filter(_.service_date == \"2022-06-01\")\n",
    "    >> select(_.feed_key, \n",
    "              _.stop_id, _.pt_geom)\n",
    "    >> collect()\n",
    ")"
   ]
  },
  {
   "cell_type": "markdown",
   "id": "8a89644b-4f56-40cc-b808-d5ddb7cfd1ef",
   "metadata": {},
   "source": [
    "Check the type of `stops`. Is it a pandas df or geopandas gdf?"
   ]
  },
  {
   "cell_type": "code",
   "execution_count": 7,
   "id": "716059a9-55e4-4696-a6ae-26ae982b70ed",
   "metadata": {},
   "outputs": [
    {
     "data": {
      "text/plain": [
       "pandas.core.frame.DataFrame"
      ]
     },
     "execution_count": 7,
     "metadata": {},
     "output_type": "execute_result"
    }
   ],
   "source": [
    "# initial check of `stops` df to see if its a pandas or gdf\n",
    "\n",
    "type(stops)\n",
    "\n",
    "#its pandas df"
   ]
  },
  {
   "cell_type": "code",
   "execution_count": 8,
   "id": "5d1b1ae2-84a6-4f0a-8635-6f8575bf842c",
   "metadata": {},
   "outputs": [],
   "source": [
    "# Turn stops into a gdf\n",
    "geom = [shapely.wkt.loads(x) for x in stops.pt_geom]\n",
    "\n",
    "stops = gpd.GeoDataFrame(\n",
    "    stops, \n",
    "    geometry=geom, \n",
    "    crs=\"EPSG:4326\"\n",
    ").drop(columns=\"pt_geom\")"
   ]
  },
  {
   "cell_type": "markdown",
   "id": "ea41dd6f-4e50-4dc3-a349-82ef1acdd621",
   "metadata": {},
   "source": [
    "Check the type of `stops`. Is it a pandas df or geopandas gdf?\n",
    "\n",
    "What is the CRS and geometry column name?"
   ]
  },
  {
   "cell_type": "code",
   "execution_count": 9,
   "id": "2de7a91f-a372-4f58-b20c-51a039afb286",
   "metadata": {},
   "outputs": [
    {
     "name": "stdout",
     "output_type": "stream",
     "text": [
      "<class 'geopandas.geodataframe.GeoDataFrame'>\n",
      "EPSG:4326\n",
      "(13247, 3)\n",
      "                           feed_key  stop_id                     geometry\n",
      "0  d76560b3dfecce2d588023bf1d1c4c2d  2619811  POINT (-118.12516 34.09329)\n",
      "1  d76560b3dfecce2d588023bf1d1c4c2d  2619815  POINT (-118.12714 34.09095)\n",
      "2  d76560b3dfecce2d588023bf1d1c4c2d  2619819  POINT (-118.12918 34.09000)\n",
      "3  d76560b3dfecce2d588023bf1d1c4c2d  2619822  POINT (-118.13417 34.08761)\n",
      "4  d76560b3dfecce2d588023bf1d1c4c2d  2619833  POINT (-118.14516 34.08748)\n",
      "e7985c6c0c873f17871d79a527a50afa    5317\n",
      "455fadac7ed63a72e7d3f36273d78313    4226\n",
      "a3af905228efc93bb48f360b92965afb    2277\n",
      "239e56d11510f71d7182a24c5621be8c     916\n",
      "41ee0151e3cac17098d055ce25b3f104     431\n",
      "d76560b3dfecce2d588023bf1d1c4c2d      80\n",
      "Name: feed_key, dtype: int64\n"
     ]
    }
   ],
   "source": [
    "print(type(stops))\n",
    "print(stops.crs)\n",
    "print(stops.shape)\n",
    "print(stops.head())\n",
    "print(stops.feed_key.value_counts())\n",
    "#now stops is gdf\n",
    "#CRS set to EPSG:4326\n",
    "#Geometry column name is called `geometry`"
   ]
  },
  {
   "cell_type": "markdown",
   "id": "893a7fff-a99e-4eed-ae04-1cf5f6549f9d",
   "metadata": {},
   "source": [
    "### Bring in a new table from BigQuery\n",
    "\n",
    "* In `mart_gtfs`, bring in the table called `fct_daily_scheduled_stops` for the subset of feeds defined above.\n",
    "* Modify the snippet below to:\n",
    "   * filter for the subset of operators\n",
    "   * only keep columns: `feed_key`, `stop_id`, `stop_event_count`"
   ]
  },
  {
   "cell_type": "code",
   "execution_count": 10,
   "id": "14b70ab4-b500-4d89-b9bc-fbb9363b0ef3",
   "metadata": {},
   "outputs": [
    {
     "name": "stderr",
     "output_type": "stream",
     "text": [
      "/opt/conda/lib/python3.9/site-packages/sqlalchemy_bigquery/_types.py:101: SAWarning: Did not recognize type 'GEOGRAPHY' of column 'pt_geom'\n",
      "  sqlalchemy.util.warn(\n"
     ]
    }
   ],
   "source": [
    "#initial code snippet\n",
    "#stop_counts = (\n",
    "#    tbls.mart_gtfs.fct_daily_scheduled_stops()\n",
    "#    >> filter(_.activity_date == \"2022-06-01\")\n",
    "#)\n",
    "\n",
    "stop_counts = (\n",
    "    tbls.mart_gtfs.fct_daily_scheduled_stops()\n",
    "    >> filter(_.feed_key.isin(SUBSET_FEEDS))\n",
    "    >> select(_.feed_key, \n",
    "              _.stop_id, _.stop_event_count)\n",
    "    >> collect()\n",
    ")"
   ]
  },
  {
   "cell_type": "code",
   "execution_count": 11,
   "id": "d8d80349-1fdf-4929-9d29-b439b66b4c75",
   "metadata": {},
   "outputs": [
    {
     "name": "stdout",
     "output_type": "stream",
     "text": [
      "<class 'pandas.core.frame.DataFrame'>\n",
      "(743023, 3)\n",
      "                           feed_key  stop_id  stop_event_count\n",
      "0  d76560b3dfecce2d588023bf1d1c4c2d  2619783                17\n",
      "1  d76560b3dfecce2d588023bf1d1c4c2d  2619783                17\n",
      "2  d76560b3dfecce2d588023bf1d1c4c2d  2619783                17\n",
      "3  d76560b3dfecce2d588023bf1d1c4c2d  2619783                17\n",
      "4  d76560b3dfecce2d588023bf1d1c4c2d  2619783                17\n",
      "e7985c6c0c873f17871d79a527a50afa    320609\n",
      "a3af905228efc93bb48f360b92965afb    207083\n",
      "455fadac7ed63a72e7d3f36273d78313     93099\n",
      "239e56d11510f71d7182a24c5621be8c     92786\n",
      "d76560b3dfecce2d588023bf1d1c4c2d     22888\n",
      "41ee0151e3cac17098d055ce25b3f104      6558\n",
      "Name: feed_key, dtype: int64\n"
     ]
    }
   ],
   "source": [
    "#stop counts initially was a siuba query. need to add `>> collect()` to convert to a pandas df?\n",
    "print(type(stop_counts))\n",
    "print(stop_counts.shape)\n",
    "print(stop_counts.head())\n",
    "print(stop_counts.feed_key.value_counts())"
   ]
  },
  {
   "cell_type": "code",
   "execution_count": 12,
   "id": "3a5ccd2d-29f5-42fe-93f8-b47e55cf5878",
   "metadata": {},
   "outputs": [
    {
     "name": "stdout",
     "output_type": "stream",
     "text": [
      "['feed_key', 'name']\n",
      "<class 'pandas.core.frame.DataFrame'>\n",
      "(200, 2)\n"
     ]
    }
   ],
   "source": [
    "#listing out all df/gdf columns\n",
    "\n",
    "#feeds_to_names\n",
    "\n",
    "print(list(feeds_to_names.columns))\n",
    "print(type(feeds_to_names))\n",
    "print(feeds_to_names.shape)"
   ]
  },
  {
   "cell_type": "code",
   "execution_count": 13,
   "id": "f4dd93f2-adf6-4e0d-bbc2-8d77898b80d1",
   "metadata": {},
   "outputs": [
    {
     "name": "stdout",
     "output_type": "stream",
     "text": [
      "['feed_key', 'stop_id', 'stop_event_count']\n",
      "<class 'pandas.core.frame.DataFrame'>\n",
      "(743023, 3)\n"
     ]
    }
   ],
   "source": [
    "#stop_counts\n",
    "\n",
    "print(list(stop_counts.columns))\n",
    "print(type(stop_counts))\n",
    "print(stop_counts.shape)"
   ]
  },
  {
   "cell_type": "code",
   "execution_count": 14,
   "id": "1c69ba16-a0ae-4c41-a44d-1bca292e9b6b",
   "metadata": {},
   "outputs": [
    {
     "name": "stdout",
     "output_type": "stream",
     "text": [
      "['feed_key', 'stop_id', 'geometry']\n",
      "<class 'geopandas.geodataframe.GeoDataFrame'>\n",
      "EPSG:4326\n",
      "(13247, 3)\n"
     ]
    }
   ],
   "source": [
    "#stops\n",
    "\n",
    "print(list(stops.columns))\n",
    "print(type(stops))\n",
    "print(stops.crs)\n",
    "print(stops.shape)"
   ]
  },
  {
   "cell_type": "code",
   "execution_count": 15,
   "id": "4d7c45bb-f4d0-4012-9ebe-581be1a7e104",
   "metadata": {},
   "outputs": [
    {
     "name": "stdout",
     "output_type": "stream",
     "text": [
      "['OBJECTID', 'COUNTY_NAME', 'COUNTY_ABBREV', 'COUNTY_NUM', 'COUNTY_CODE', 'COUNTY_FIPS', 'ISLAND', 'Shape__Area', 'Shape__Length', 'GlobalID', 'geometry']\n",
      "<class 'geopandas.geodataframe.GeoDataFrame'>\n",
      "EPSG:4326\n",
      "(69, 11)\n"
     ]
    }
   ],
   "source": [
    "#ca_county\n",
    "\n",
    "print(list(ca_county.columns))\n",
    "print(type(ca_county))\n",
    "print(ca_county.crs)\n",
    "print(ca_county.shape)"
   ]
  },
  {
   "cell_type": "markdown",
   "id": "9aad0dc9-7f2d-424b-817b-93d7b8f612a7",
   "metadata": {},
   "source": [
    "### Next steps\n",
    "Join the data and only keep counties that have bus stops.\n",
    "\n",
    "how do you know which stops are bus stops? \n",
    "\n",
    "attempt to add `stop_event_count` col (from stop_counts) to `stops` gdf. then add `name` (from feeds_to_name) and join on `ca_county` via geopandas.sjoin\n"
   ]
  },
  {
   "cell_type": "code",
   "execution_count": 16,
   "id": "98747159-8b38-49ae-a4ff-ed8da248b0b2",
   "metadata": {},
   "outputs": [],
   "source": [
    "# test of merge? but it keeps killing the kernel. \n",
    "# maybe because \n",
    "#stop_stpcnt = pd.merge(stops, stop_counts, on = 'feed_key', how ='left')\n"
   ]
  },
  {
   "cell_type": "code",
   "execution_count": 17,
   "id": "cacad23e-dcd7-4ea8-a558-7493d040e3e9",
   "metadata": {},
   "outputs": [
    {
     "data": {
      "text/html": [
       "<div>\n",
       "<style scoped>\n",
       "    .dataframe tbody tr th:only-of-type {\n",
       "        vertical-align: middle;\n",
       "    }\n",
       "\n",
       "    .dataframe tbody tr th {\n",
       "        vertical-align: top;\n",
       "    }\n",
       "\n",
       "    .dataframe thead th {\n",
       "        text-align: right;\n",
       "    }\n",
       "</style>\n",
       "<table border=\"1\" class=\"dataframe\">\n",
       "  <thead>\n",
       "    <tr style=\"text-align: right;\">\n",
       "      <th></th>\n",
       "      <th>feed_key</th>\n",
       "      <th>stop_id</th>\n",
       "      <th>stop_event_count</th>\n",
       "      <th>name</th>\n",
       "    </tr>\n",
       "  </thead>\n",
       "  <tbody>\n",
       "    <tr>\n",
       "      <th>0</th>\n",
       "      <td>d76560b3dfecce2d588023bf1d1c4c2d</td>\n",
       "      <td>2619783</td>\n",
       "      <td>17</td>\n",
       "      <td>Alhambra Schedule</td>\n",
       "    </tr>\n",
       "    <tr>\n",
       "      <th>1</th>\n",
       "      <td>d76560b3dfecce2d588023bf1d1c4c2d</td>\n",
       "      <td>2619783</td>\n",
       "      <td>17</td>\n",
       "      <td>Alhambra Schedule</td>\n",
       "    </tr>\n",
       "    <tr>\n",
       "      <th>2</th>\n",
       "      <td>d76560b3dfecce2d588023bf1d1c4c2d</td>\n",
       "      <td>2619783</td>\n",
       "      <td>17</td>\n",
       "      <td>Alhambra Schedule</td>\n",
       "    </tr>\n",
       "    <tr>\n",
       "      <th>3</th>\n",
       "      <td>d76560b3dfecce2d588023bf1d1c4c2d</td>\n",
       "      <td>2619783</td>\n",
       "      <td>17</td>\n",
       "      <td>Alhambra Schedule</td>\n",
       "    </tr>\n",
       "    <tr>\n",
       "      <th>4</th>\n",
       "      <td>d76560b3dfecce2d588023bf1d1c4c2d</td>\n",
       "      <td>2619783</td>\n",
       "      <td>17</td>\n",
       "      <td>Alhambra Schedule</td>\n",
       "    </tr>\n",
       "    <tr>\n",
       "      <th>...</th>\n",
       "      <td>...</td>\n",
       "      <td>...</td>\n",
       "      <td>...</td>\n",
       "      <td>...</td>\n",
       "    </tr>\n",
       "    <tr>\n",
       "      <th>743018</th>\n",
       "      <td>a3af905228efc93bb48f360b92965afb</td>\n",
       "      <td>7614_merged_1226787</td>\n",
       "      <td>48</td>\n",
       "      <td>OmniTrans Schedule</td>\n",
       "    </tr>\n",
       "    <tr>\n",
       "      <th>743019</th>\n",
       "      <td>a3af905228efc93bb48f360b92965afb</td>\n",
       "      <td>7614_merged_1226787</td>\n",
       "      <td>48</td>\n",
       "      <td>OmniTrans Schedule</td>\n",
       "    </tr>\n",
       "    <tr>\n",
       "      <th>743020</th>\n",
       "      <td>a3af905228efc93bb48f360b92965afb</td>\n",
       "      <td>7614_merged_1226787</td>\n",
       "      <td>48</td>\n",
       "      <td>OmniTrans Schedule</td>\n",
       "    </tr>\n",
       "    <tr>\n",
       "      <th>743021</th>\n",
       "      <td>a3af905228efc93bb48f360b92965afb</td>\n",
       "      <td>7614_merged_1226787</td>\n",
       "      <td>48</td>\n",
       "      <td>OmniTrans Schedule</td>\n",
       "    </tr>\n",
       "    <tr>\n",
       "      <th>743022</th>\n",
       "      <td>a3af905228efc93bb48f360b92965afb</td>\n",
       "      <td>7614_merged_1226787</td>\n",
       "      <td>48</td>\n",
       "      <td>OmniTrans Schedule</td>\n",
       "    </tr>\n",
       "  </tbody>\n",
       "</table>\n",
       "<p>743023 rows × 4 columns</p>\n",
       "</div>"
      ],
      "text/plain": [
       "                                feed_key              stop_id  \\\n",
       "0       d76560b3dfecce2d588023bf1d1c4c2d              2619783   \n",
       "1       d76560b3dfecce2d588023bf1d1c4c2d              2619783   \n",
       "2       d76560b3dfecce2d588023bf1d1c4c2d              2619783   \n",
       "3       d76560b3dfecce2d588023bf1d1c4c2d              2619783   \n",
       "4       d76560b3dfecce2d588023bf1d1c4c2d              2619783   \n",
       "...                                  ...                  ...   \n",
       "743018  a3af905228efc93bb48f360b92965afb  7614_merged_1226787   \n",
       "743019  a3af905228efc93bb48f360b92965afb  7614_merged_1226787   \n",
       "743020  a3af905228efc93bb48f360b92965afb  7614_merged_1226787   \n",
       "743021  a3af905228efc93bb48f360b92965afb  7614_merged_1226787   \n",
       "743022  a3af905228efc93bb48f360b92965afb  7614_merged_1226787   \n",
       "\n",
       "        stop_event_count                name  \n",
       "0                     17   Alhambra Schedule  \n",
       "1                     17   Alhambra Schedule  \n",
       "2                     17   Alhambra Schedule  \n",
       "3                     17   Alhambra Schedule  \n",
       "4                     17   Alhambra Schedule  \n",
       "...                  ...                 ...  \n",
       "743018                48  OmniTrans Schedule  \n",
       "743019                48  OmniTrans Schedule  \n",
       "743020                48  OmniTrans Schedule  \n",
       "743021                48  OmniTrans Schedule  \n",
       "743022                48  OmniTrans Schedule  \n",
       "\n",
       "[743023 rows x 4 columns]"
      ]
     },
     "execution_count": 17,
     "metadata": {},
     "output_type": "execute_result"
    }
   ],
   "source": [
    "#test merge: stop_counts & feeds_to_name\n",
    "\n",
    "stop_cnt_name = pd.merge(stop_counts, feeds_to_names, on ='feed_key', how = 'left')\n",
    "stop_cnt_name"
   ]
  },
  {
   "cell_type": "code",
   "execution_count": 18,
   "id": "2038c8bf-c2f7-4f0e-974c-bd07878dcbaf",
   "metadata": {},
   "outputs": [
    {
     "name": "stdout",
     "output_type": "stream",
     "text": [
      "(739692, 5)\n"
     ]
    },
    {
     "data": {
      "text/html": [
       "<div>\n",
       "<style scoped>\n",
       "    .dataframe tbody tr th:only-of-type {\n",
       "        vertical-align: middle;\n",
       "    }\n",
       "\n",
       "    .dataframe tbody tr th {\n",
       "        vertical-align: top;\n",
       "    }\n",
       "\n",
       "    .dataframe thead th {\n",
       "        text-align: right;\n",
       "    }\n",
       "</style>\n",
       "<table border=\"1\" class=\"dataframe\">\n",
       "  <thead>\n",
       "    <tr style=\"text-align: right;\">\n",
       "      <th></th>\n",
       "      <th>feed_key</th>\n",
       "      <th>stop_id</th>\n",
       "      <th>geometry</th>\n",
       "      <th>stop_event_count</th>\n",
       "      <th>name</th>\n",
       "    </tr>\n",
       "  </thead>\n",
       "  <tbody>\n",
       "    <tr>\n",
       "      <th>0</th>\n",
       "      <td>d76560b3dfecce2d588023bf1d1c4c2d</td>\n",
       "      <td>2619811</td>\n",
       "      <td>POINT (-118.12516 34.09329)</td>\n",
       "      <td>17</td>\n",
       "      <td>Alhambra Schedule</td>\n",
       "    </tr>\n",
       "    <tr>\n",
       "      <th>1</th>\n",
       "      <td>d76560b3dfecce2d588023bf1d1c4c2d</td>\n",
       "      <td>2619811</td>\n",
       "      <td>POINT (-118.12516 34.09329)</td>\n",
       "      <td>17</td>\n",
       "      <td>Alhambra Schedule</td>\n",
       "    </tr>\n",
       "    <tr>\n",
       "      <th>2</th>\n",
       "      <td>d76560b3dfecce2d588023bf1d1c4c2d</td>\n",
       "      <td>2619811</td>\n",
       "      <td>POINT (-118.12516 34.09329)</td>\n",
       "      <td>17</td>\n",
       "      <td>Alhambra Schedule</td>\n",
       "    </tr>\n",
       "    <tr>\n",
       "      <th>3</th>\n",
       "      <td>d76560b3dfecce2d588023bf1d1c4c2d</td>\n",
       "      <td>2619811</td>\n",
       "      <td>POINT (-118.12516 34.09329)</td>\n",
       "      <td>17</td>\n",
       "      <td>Alhambra Schedule</td>\n",
       "    </tr>\n",
       "    <tr>\n",
       "      <th>4</th>\n",
       "      <td>d76560b3dfecce2d588023bf1d1c4c2d</td>\n",
       "      <td>2619811</td>\n",
       "      <td>POINT (-118.12516 34.09329)</td>\n",
       "      <td>17</td>\n",
       "      <td>Alhambra Schedule</td>\n",
       "    </tr>\n",
       "  </tbody>\n",
       "</table>\n",
       "</div>"
      ],
      "text/plain": [
       "                           feed_key  stop_id                     geometry  \\\n",
       "0  d76560b3dfecce2d588023bf1d1c4c2d  2619811  POINT (-118.12516 34.09329)   \n",
       "1  d76560b3dfecce2d588023bf1d1c4c2d  2619811  POINT (-118.12516 34.09329)   \n",
       "2  d76560b3dfecce2d588023bf1d1c4c2d  2619811  POINT (-118.12516 34.09329)   \n",
       "3  d76560b3dfecce2d588023bf1d1c4c2d  2619811  POINT (-118.12516 34.09329)   \n",
       "4  d76560b3dfecce2d588023bf1d1c4c2d  2619811  POINT (-118.12516 34.09329)   \n",
       "\n",
       "   stop_event_count               name  \n",
       "0                17  Alhambra Schedule  \n",
       "1                17  Alhambra Schedule  \n",
       "2                17  Alhambra Schedule  \n",
       "3                17  Alhambra Schedule  \n",
       "4                17  Alhambra Schedule  "
      ]
     },
     "execution_count": 18,
     "metadata": {},
     "output_type": "execute_result"
    }
   ],
   "source": [
    "#can i join stops with stop_cnt_name\n",
    "stops_and_counts = pd.merge(stops, stop_cnt_name, on =['feed_key', 'stop_id'], how='left')\n",
    "print(stops_and_counts.shape)\n",
    "stops_and_counts.head()"
   ]
  },
  {
   "cell_type": "code",
   "execution_count": 19,
   "id": "a1fc74c5-14fc-4809-b516-26e13836748e",
   "metadata": {},
   "outputs": [
    {
     "data": {
      "text/plain": [
       "<Projected CRS: EPSG:2229>\n",
       "Name: NAD83 / California zone 5 (ftUS)\n",
       "Axis Info [cartesian]:\n",
       "- X[east]: Easting (US survey foot)\n",
       "- Y[north]: Northing (US survey foot)\n",
       "Area of Use:\n",
       "- name: United States (USA) - California - counties Kern; Los Angeles; San Bernardino; San Luis Obispo; Santa Barbara; Ventura.\n",
       "- bounds: (-121.42, 32.76, -114.12, 35.81)\n",
       "Coordinate Operation:\n",
       "- name: SPCS83 California zone 5 (US Survey feet)\n",
       "- method: Lambert Conic Conformal (2SP)\n",
       "Datum: North American Datum 1983\n",
       "- Ellipsoid: GRS 1980\n",
       "- Prime Meridian: Greenwich"
      ]
     },
     "execution_count": 19,
     "metadata": {},
     "output_type": "execute_result"
    }
   ],
   "source": [
    "#change crs from degree to feet\n",
    "stops_and_counts2229 = stops_and_counts.to_crs(\"EPSG:2229\")\n",
    "stops_and_counts2229.crs"
   ]
  },
  {
   "cell_type": "code",
   "execution_count": 20,
   "id": "cae4876a-0b99-4257-b5c4-5c6f385096a5",
   "metadata": {},
   "outputs": [
    {
     "data": {
      "text/plain": [
       "<Projected CRS: EPSG:2229>\n",
       "Name: NAD83 / California zone 5 (ftUS)\n",
       "Axis Info [cartesian]:\n",
       "- X[east]: Easting (US survey foot)\n",
       "- Y[north]: Northing (US survey foot)\n",
       "Area of Use:\n",
       "- name: United States (USA) - California - counties Kern; Los Angeles; San Bernardino; San Luis Obispo; Santa Barbara; Ventura.\n",
       "- bounds: (-121.42, 32.76, -114.12, 35.81)\n",
       "Coordinate Operation:\n",
       "- name: SPCS83 California zone 5 (US Survey feet)\n",
       "- method: Lambert Conic Conformal (2SP)\n",
       "Datum: North American Datum 1983\n",
       "- Ellipsoid: GRS 1980\n",
       "- Prime Meridian: Greenwich"
      ]
     },
     "execution_count": 20,
     "metadata": {},
     "output_type": "execute_result"
    }
   ],
   "source": [
    "ca_county2229 = ca_county.to_crs('EPSG:2229')\n",
    "ca_county2229.crs"
   ]
  },
  {
   "cell_type": "code",
   "execution_count": 21,
   "id": "0c142fcb-2be5-4ad2-aff5-2141eaa8491c",
   "metadata": {},
   "outputs": [],
   "source": [
    "#inner join between `ca_county2229` and `stops_and_counts2229` to keep polygon geometry\n",
    "#final join hopefully\n",
    "\n",
    "county_stop2229 = gpd.sjoin(ca_county2229, stops_and_counts2229, how='inner')"
   ]
  },
  {
   "cell_type": "code",
   "execution_count": 22,
   "id": "90c8e478-ef07-46d0-ac65-1eb6529ebe0a",
   "metadata": {},
   "outputs": [
    {
     "data": {
      "text/plain": [
       "<Projected CRS: EPSG:2229>\n",
       "Name: NAD83 / California zone 5 (ftUS)\n",
       "Axis Info [cartesian]:\n",
       "- X[east]: Easting (US survey foot)\n",
       "- Y[north]: Northing (US survey foot)\n",
       "Area of Use:\n",
       "- name: United States (USA) - California - counties Kern; Los Angeles; San Bernardino; San Luis Obispo; Santa Barbara; Ventura.\n",
       "- bounds: (-121.42, 32.76, -114.12, 35.81)\n",
       "Coordinate Operation:\n",
       "- name: SPCS83 California zone 5 (US Survey feet)\n",
       "- method: Lambert Conic Conformal (2SP)\n",
       "Datum: North American Datum 1983\n",
       "- Ellipsoid: GRS 1980\n",
       "- Prime Meridian: Greenwich"
      ]
     },
     "execution_count": 22,
     "metadata": {},
     "output_type": "execute_result"
    }
   ],
   "source": [
    "#check CRS of new merge\n",
    "county_stop2229.crs\n",
    "\n",
    "#still EPSG2229!"
   ]
  },
  {
   "cell_type": "code",
   "execution_count": 23,
   "id": "4e03625a-8878-4325-8c26-888ccb5dba7b",
   "metadata": {},
   "outputs": [
    {
     "name": "stdout",
     "output_type": "stream",
     "text": [
      "Index(['OBJECTID', 'COUNTY_NAME', 'COUNTY_ABBREV', 'COUNTY_NUM', 'COUNTY_CODE',\n",
      "       'COUNTY_FIPS', 'ISLAND', 'Shape__Area', 'Shape__Length', 'GlobalID',\n",
      "       'geometry', 'index_right', 'feed_key', 'stop_id', 'stop_event_count',\n",
      "       'name'],\n",
      "      dtype='object')\n",
      "True    739692\n",
      "Name: OBJECTID, dtype: int64\n",
      "True    739692\n",
      "Name: feed_key, dtype: int64\n"
     ]
    }
   ],
   "source": [
    "#checking to see what the merge looks like\n",
    "#checking if any of the keys are empty \n",
    "#checking to see what the geometry column looks like\n",
    "print(county_stop2229.columns)\n",
    "print(county_stop2229.OBJECTID.notna().value_counts())\n",
    "print(county_stop2229.feed_key.notna().value_counts())\n",
    "\n",
    "#polycon geometry stayed!\n",
    "#Looks all good!"
   ]
  },
  {
   "cell_type": "code",
   "execution_count": 24,
   "id": "c6188d4b-72ab-4fc7-b99a-f7f19eaa21fd",
   "metadata": {},
   "outputs": [],
   "source": [
    "#test geometry area\n",
    "area = county_stop2229.geometry.area\n"
   ]
  },
  {
   "cell_type": "code",
   "execution_count": 25,
   "id": "613f5147-117d-4f45-9745-3711389f2c45",
   "metadata": {},
   "outputs": [
    {
     "data": {
      "text/plain": [
       "18    1.101419e+11\n",
       "18    1.101419e+11\n",
       "18    1.101419e+11\n",
       "18    1.101419e+11\n",
       "18    1.101419e+11\n",
       "dtype: float64"
      ]
     },
     "execution_count": 25,
     "metadata": {},
     "output_type": "execute_result"
    }
   ],
   "source": [
    "area.head()"
   ]
  },
  {
   "cell_type": "markdown",
   "id": "e8f32be3-7e0e-4c51-affd-1c67b879b0ec",
   "metadata": {},
   "source": [
    "### Aggregate\n",
    "* Write a function to aggregate to the operator level or county level, add new columns for desired metrics. `(average number of trips per stop)`\n",
    "* Merge in CA shapefile to get a gdf.\n",
    "* Add another `geometry` column, called `centroid`, and grab the county's centroid.\n",
    "* Refer to [docs](https://geopandas.org/en/stable/docs/reference/api/geopandas.GeoDataFrame.set_geometry.html) to see how to pick which column to use as the `geometry` for the gdf, since technically, a gdf can handle multiple geometry columns.\n",
    "---\n",
    "\n",
    "#### Remember the Research Question\n",
    "* What's the `average number of trips per stop by operators` in southern California? Show visualizations at the operator and county-level.\n",
    "* Geographic scope: southern California counties\n",
    "* Deliverables: chart(s) and map(s) showing metrics comparing across counties and also across operators. Make these visualizations using function(s)."
   ]
  },
  {
   "cell_type": "code",
   "execution_count": 26,
   "id": "3fce0f4d-7da4-47f7-9497-9623c8ca9cf9",
   "metadata": {},
   "outputs": [],
   "source": [
    "#df with count of unique stop ID per county\n",
    "stopid_by_county = county_stop2229.groupby('COUNTY_NAME').stop_id.nunique().reset_index()\n",
    "\n",
    "#df with count of stop events key per county\n",
    "stopevent_by_county = county_stop2229.groupby('COUNTY_NAME').stop_event_count.sum().reset_index()"
   ]
  },
  {
   "cell_type": "code",
   "execution_count": 32,
   "id": "99342f98-4b99-44f7-a60b-845ebca670c4",
   "metadata": {},
   "outputs": [],
   "source": [
    "#df w/ unique stop ID per operator\n",
    "stopid_op = county_stop2229.groupby('name').stop_id.nunique().reset_index()\n",
    "\n",
    "#df w/ stop event per operator\n",
    "stopevent_op = county_stop2229.groupby('name').stop_event_count.sum().reset_index()"
   ]
  },
  {
   "cell_type": "code",
   "execution_count": 33,
   "id": "c70cdeba-c733-4930-8b94-4418def36d0e",
   "metadata": {},
   "outputs": [
    {
     "data": {
      "text/html": [
       "<div>\n",
       "<style scoped>\n",
       "    .dataframe tbody tr th:only-of-type {\n",
       "        vertical-align: middle;\n",
       "    }\n",
       "\n",
       "    .dataframe tbody tr th {\n",
       "        vertical-align: top;\n",
       "    }\n",
       "\n",
       "    .dataframe thead th {\n",
       "        text-align: right;\n",
       "    }\n",
       "</style>\n",
       "<table border=\"1\" class=\"dataframe\">\n",
       "  <thead>\n",
       "    <tr style=\"text-align: right;\">\n",
       "      <th></th>\n",
       "      <th>COUNTY_NAME</th>\n",
       "      <th>stop_id</th>\n",
       "    </tr>\n",
       "  </thead>\n",
       "  <tbody>\n",
       "    <tr>\n",
       "      <th>0</th>\n",
       "      <td>Los Angeles</td>\n",
       "      <td>1295</td>\n",
       "    </tr>\n",
       "    <tr>\n",
       "      <th>1</th>\n",
       "      <td>Orange</td>\n",
       "      <td>5221</td>\n",
       "    </tr>\n",
       "    <tr>\n",
       "      <th>2</th>\n",
       "      <td>Riverside</td>\n",
       "      <td>4</td>\n",
       "    </tr>\n",
       "    <tr>\n",
       "      <th>3</th>\n",
       "      <td>San Bernardino</td>\n",
       "      <td>2257</td>\n",
       "    </tr>\n",
       "    <tr>\n",
       "      <th>4</th>\n",
       "      <td>San Diego</td>\n",
       "      <td>4226</td>\n",
       "    </tr>\n",
       "  </tbody>\n",
       "</table>\n",
       "</div>"
      ],
      "text/plain": [
       "      COUNTY_NAME  stop_id\n",
       "0     Los Angeles     1295\n",
       "1          Orange     5221\n",
       "2       Riverside        4\n",
       "3  San Bernardino     2257\n",
       "4       San Diego     4226"
      ]
     },
     "execution_count": 33,
     "metadata": {},
     "output_type": "execute_result"
    }
   ],
   "source": [
    "stopid_by_county"
   ]
  },
  {
   "cell_type": "code",
   "execution_count": 27,
   "id": "f083b7df-c780-470d-8040-975552671de7",
   "metadata": {},
   "outputs": [
    {
     "data": {
      "text/html": [
       "<div>\n",
       "<style scoped>\n",
       "    .dataframe tbody tr th:only-of-type {\n",
       "        vertical-align: middle;\n",
       "    }\n",
       "\n",
       "    .dataframe tbody tr th {\n",
       "        vertical-align: top;\n",
       "    }\n",
       "\n",
       "    .dataframe thead th {\n",
       "        text-align: right;\n",
       "    }\n",
       "</style>\n",
       "<table border=\"1\" class=\"dataframe\">\n",
       "  <thead>\n",
       "    <tr style=\"text-align: right;\">\n",
       "      <th></th>\n",
       "      <th>COUNTY_NAME</th>\n",
       "      <th>stop_event_count</th>\n",
       "    </tr>\n",
       "  </thead>\n",
       "  <tbody>\n",
       "    <tr>\n",
       "      <th>0</th>\n",
       "      <td>Los Angeles</td>\n",
       "      <td>6164462</td>\n",
       "    </tr>\n",
       "    <tr>\n",
       "      <th>1</th>\n",
       "      <td>Orange</td>\n",
       "      <td>10237791</td>\n",
       "    </tr>\n",
       "    <tr>\n",
       "      <th>2</th>\n",
       "      <td>Riverside</td>\n",
       "      <td>11212</td>\n",
       "    </tr>\n",
       "    <tr>\n",
       "      <th>3</th>\n",
       "      <td>San Bernardino</td>\n",
       "      <td>4741994</td>\n",
       "    </tr>\n",
       "    <tr>\n",
       "      <th>4</th>\n",
       "      <td>San Diego</td>\n",
       "      <td>4461109</td>\n",
       "    </tr>\n",
       "  </tbody>\n",
       "</table>\n",
       "</div>"
      ],
      "text/plain": [
       "      COUNTY_NAME  stop_event_count\n",
       "0     Los Angeles           6164462\n",
       "1          Orange          10237791\n",
       "2       Riverside             11212\n",
       "3  San Bernardino           4741994\n",
       "4       San Diego           4461109"
      ]
     },
     "execution_count": 27,
     "metadata": {},
     "output_type": "execute_result"
    }
   ],
   "source": [
    "stopevent_by_county"
   ]
  },
  {
   "cell_type": "code",
   "execution_count": 37,
   "id": "2620d956-d031-43f6-823c-5fe95533831c",
   "metadata": {},
   "outputs": [
    {
     "data": {
      "text/html": [
       "<div>\n",
       "<style scoped>\n",
       "    .dataframe tbody tr th:only-of-type {\n",
       "        vertical-align: middle;\n",
       "    }\n",
       "\n",
       "    .dataframe tbody tr th {\n",
       "        vertical-align: top;\n",
       "    }\n",
       "\n",
       "    .dataframe thead th {\n",
       "        text-align: right;\n",
       "    }\n",
       "</style>\n",
       "<table border=\"1\" class=\"dataframe\">\n",
       "  <thead>\n",
       "    <tr style=\"text-align: right;\">\n",
       "      <th></th>\n",
       "      <th>name</th>\n",
       "      <th>stop_id</th>\n",
       "    </tr>\n",
       "  </thead>\n",
       "  <tbody>\n",
       "    <tr>\n",
       "      <th>0</th>\n",
       "      <td>Alhambra Schedule</td>\n",
       "      <td>80</td>\n",
       "    </tr>\n",
       "    <tr>\n",
       "      <th>1</th>\n",
       "      <td>Big Blue Bus Schedule</td>\n",
       "      <td>916</td>\n",
       "    </tr>\n",
       "    <tr>\n",
       "      <th>2</th>\n",
       "      <td>Culver City Schedule</td>\n",
       "      <td>431</td>\n",
       "    </tr>\n",
       "    <tr>\n",
       "      <th>3</th>\n",
       "      <td>OCTA Schedule</td>\n",
       "      <td>5317</td>\n",
       "    </tr>\n",
       "    <tr>\n",
       "      <th>4</th>\n",
       "      <td>OmniTrans Schedule</td>\n",
       "      <td>2277</td>\n",
       "    </tr>\n",
       "    <tr>\n",
       "      <th>5</th>\n",
       "      <td>San Diego Schedule</td>\n",
       "      <td>4226</td>\n",
       "    </tr>\n",
       "  </tbody>\n",
       "</table>\n",
       "</div>"
      ],
      "text/plain": [
       "                    name  stop_id\n",
       "0      Alhambra Schedule       80\n",
       "1  Big Blue Bus Schedule      916\n",
       "2   Culver City Schedule      431\n",
       "3          OCTA Schedule     5317\n",
       "4     OmniTrans Schedule     2277\n",
       "5     San Diego Schedule     4226"
      ]
     },
     "execution_count": 37,
     "metadata": {},
     "output_type": "execute_result"
    }
   ],
   "source": [
    "stopid_op"
   ]
  },
  {
   "cell_type": "code",
   "execution_count": 36,
   "id": "f63a6b17-beeb-4006-b1a8-5da431c5602b",
   "metadata": {},
   "outputs": [
    {
     "data": {
      "text/html": [
       "<div>\n",
       "<style scoped>\n",
       "    .dataframe tbody tr th:only-of-type {\n",
       "        vertical-align: middle;\n",
       "    }\n",
       "\n",
       "    .dataframe tbody tr th {\n",
       "        vertical-align: top;\n",
       "    }\n",
       "\n",
       "    .dataframe thead th {\n",
       "        text-align: right;\n",
       "    }\n",
       "</style>\n",
       "<table border=\"1\" class=\"dataframe\">\n",
       "  <thead>\n",
       "    <tr style=\"text-align: right;\">\n",
       "      <th></th>\n",
       "      <th>name</th>\n",
       "      <th>stop_event_count</th>\n",
       "    </tr>\n",
       "  </thead>\n",
       "  <tbody>\n",
       "    <tr>\n",
       "      <th>0</th>\n",
       "      <td>Alhambra Schedule</td>\n",
       "      <td>671733</td>\n",
       "    </tr>\n",
       "    <tr>\n",
       "      <th>1</th>\n",
       "      <td>Big Blue Bus Schedule</td>\n",
       "      <td>4991199</td>\n",
       "    </tr>\n",
       "    <tr>\n",
       "      <th>2</th>\n",
       "      <td>Culver City Schedule</td>\n",
       "      <td>243002</td>\n",
       "    </tr>\n",
       "    <tr>\n",
       "      <th>3</th>\n",
       "      <td>OCTA Schedule</td>\n",
       "      <td>10432777</td>\n",
       "    </tr>\n",
       "    <tr>\n",
       "      <th>4</th>\n",
       "      <td>OmniTrans Schedule</td>\n",
       "      <td>4816748</td>\n",
       "    </tr>\n",
       "    <tr>\n",
       "      <th>5</th>\n",
       "      <td>San Diego Schedule</td>\n",
       "      <td>4461109</td>\n",
       "    </tr>\n",
       "  </tbody>\n",
       "</table>\n",
       "</div>"
      ],
      "text/plain": [
       "                    name  stop_event_count\n",
       "0      Alhambra Schedule            671733\n",
       "1  Big Blue Bus Schedule           4991199\n",
       "2   Culver City Schedule            243002\n",
       "3          OCTA Schedule          10432777\n",
       "4     OmniTrans Schedule           4816748\n",
       "5     San Diego Schedule           4461109"
      ]
     },
     "execution_count": 36,
     "metadata": {},
     "output_type": "execute_result"
    }
   ],
   "source": [
    "stopevent_op"
   ]
  },
  {
   "cell_type": "code",
   "execution_count": 28,
   "id": "b0dd6d9d-bb56-40a6-a6d3-9baf9cd9e0be",
   "metadata": {},
   "outputs": [],
   "source": [
    "#merge 2 df and add new column for average stop event by stop per county\n",
    "merge = pd.merge(stopevent_by_county, stopid_by_county, how = 'inner')"
   ]
  },
  {
   "cell_type": "code",
   "execution_count": 29,
   "id": "472f1b7b-b03a-4b64-a334-a40f055047b1",
   "metadata": {},
   "outputs": [
    {
     "data": {
      "text/html": [
       "<div>\n",
       "<style scoped>\n",
       "    .dataframe tbody tr th:only-of-type {\n",
       "        vertical-align: middle;\n",
       "    }\n",
       "\n",
       "    .dataframe tbody tr th {\n",
       "        vertical-align: top;\n",
       "    }\n",
       "\n",
       "    .dataframe thead th {\n",
       "        text-align: right;\n",
       "    }\n",
       "</style>\n",
       "<table border=\"1\" class=\"dataframe\">\n",
       "  <thead>\n",
       "    <tr style=\"text-align: right;\">\n",
       "      <th></th>\n",
       "      <th>COUNTY_NAME</th>\n",
       "      <th>stop_event_count</th>\n",
       "      <th>stop_id</th>\n",
       "      <th>stopevent/stopid</th>\n",
       "    </tr>\n",
       "  </thead>\n",
       "  <tbody>\n",
       "    <tr>\n",
       "      <th>0</th>\n",
       "      <td>Los Angeles</td>\n",
       "      <td>6164462</td>\n",
       "      <td>1295</td>\n",
       "      <td>4760.202317</td>\n",
       "    </tr>\n",
       "    <tr>\n",
       "      <th>1</th>\n",
       "      <td>Orange</td>\n",
       "      <td>10237791</td>\n",
       "      <td>5221</td>\n",
       "      <td>1960.886995</td>\n",
       "    </tr>\n",
       "    <tr>\n",
       "      <th>2</th>\n",
       "      <td>Riverside</td>\n",
       "      <td>11212</td>\n",
       "      <td>4</td>\n",
       "      <td>2803.000000</td>\n",
       "    </tr>\n",
       "    <tr>\n",
       "      <th>3</th>\n",
       "      <td>San Bernardino</td>\n",
       "      <td>4741994</td>\n",
       "      <td>2257</td>\n",
       "      <td>2101.016393</td>\n",
       "    </tr>\n",
       "    <tr>\n",
       "      <th>4</th>\n",
       "      <td>San Diego</td>\n",
       "      <td>4461109</td>\n",
       "      <td>4226</td>\n",
       "      <td>1055.633933</td>\n",
       "    </tr>\n",
       "  </tbody>\n",
       "</table>\n",
       "</div>"
      ],
      "text/plain": [
       "      COUNTY_NAME  stop_event_count  stop_id  stopevent/stopid\n",
       "0     Los Angeles           6164462     1295       4760.202317\n",
       "1          Orange          10237791     5221       1960.886995\n",
       "2       Riverside             11212        4       2803.000000\n",
       "3  San Bernardino           4741994     2257       2101.016393\n",
       "4       San Diego           4461109     4226       1055.633933"
      ]
     },
     "execution_count": 29,
     "metadata": {},
     "output_type": "execute_result"
    }
   ],
   "source": [
    "#brain is fried, not sure what the numbers mean but it works with no errors.\n",
    "\n",
    "merge['stopevent/stopid'] = merge.stop_event_count/merge.stop_id\n",
    "merge"
   ]
  },
  {
   "cell_type": "markdown",
   "id": "533611ec-f316-4459-9237-476e5fcbfee0",
   "metadata": {},
   "source": [
    "### Visualizations\n",
    "* Make one chart for comparing trips per stop by operators, and another chart for comparing it by counties. Use a function to do this.\n",
    "* Make 1 map for comparing trips per stop by counties. Use `gdf.explore()` to do this.\n",
    "* Visualizations should follow the Cal-ITP style guide: [styleguide example notebook](https://github.com/cal-itp/data-analyses/blob/main/example_report/style-guide-examples.ipynb)\n",
    "* More on `folium` and `ipyleaflet`: https://github.com/jorisvandenbossche/geopandas-tutorial/blob/master/05-more-on-visualization.ipynb"
   ]
  },
  {
   "cell_type": "code",
   "execution_count": 38,
   "id": "d5e97084-a9cd-4aa0-a59c-fb5f49f231e1",
   "metadata": {},
   "outputs": [
    {
     "data": {
      "text/html": [
       "<div>\n",
       "<style scoped>\n",
       "    .dataframe tbody tr th:only-of-type {\n",
       "        vertical-align: middle;\n",
       "    }\n",
       "\n",
       "    .dataframe tbody tr th {\n",
       "        vertical-align: top;\n",
       "    }\n",
       "\n",
       "    .dataframe thead th {\n",
       "        text-align: right;\n",
       "    }\n",
       "</style>\n",
       "<table border=\"1\" class=\"dataframe\">\n",
       "  <thead>\n",
       "    <tr style=\"text-align: right;\">\n",
       "      <th></th>\n",
       "      <th>feed_key</th>\n",
       "      <th>stop_id</th>\n",
       "      <th>geometry</th>\n",
       "    </tr>\n",
       "  </thead>\n",
       "  <tbody>\n",
       "    <tr>\n",
       "      <th>0</th>\n",
       "      <td>d76560b3dfecce2d588023bf1d1c4c2d</td>\n",
       "      <td>2619811</td>\n",
       "      <td>POINT (-118.12516 34.09329)</td>\n",
       "    </tr>\n",
       "    <tr>\n",
       "      <th>1</th>\n",
       "      <td>d76560b3dfecce2d588023bf1d1c4c2d</td>\n",
       "      <td>2619815</td>\n",
       "      <td>POINT (-118.12714 34.09095)</td>\n",
       "    </tr>\n",
       "    <tr>\n",
       "      <th>2</th>\n",
       "      <td>d76560b3dfecce2d588023bf1d1c4c2d</td>\n",
       "      <td>2619819</td>\n",
       "      <td>POINT (-118.12918 34.09000)</td>\n",
       "    </tr>\n",
       "    <tr>\n",
       "      <th>3</th>\n",
       "      <td>d76560b3dfecce2d588023bf1d1c4c2d</td>\n",
       "      <td>2619822</td>\n",
       "      <td>POINT (-118.13417 34.08761)</td>\n",
       "    </tr>\n",
       "    <tr>\n",
       "      <th>4</th>\n",
       "      <td>d76560b3dfecce2d588023bf1d1c4c2d</td>\n",
       "      <td>2619833</td>\n",
       "      <td>POINT (-118.14516 34.08748)</td>\n",
       "    </tr>\n",
       "  </tbody>\n",
       "</table>\n",
       "</div>"
      ],
      "text/plain": [
       "                           feed_key  stop_id                     geometry\n",
       "0  d76560b3dfecce2d588023bf1d1c4c2d  2619811  POINT (-118.12516 34.09329)\n",
       "1  d76560b3dfecce2d588023bf1d1c4c2d  2619815  POINT (-118.12714 34.09095)\n",
       "2  d76560b3dfecce2d588023bf1d1c4c2d  2619819  POINT (-118.12918 34.09000)\n",
       "3  d76560b3dfecce2d588023bf1d1c4c2d  2619822  POINT (-118.13417 34.08761)\n",
       "4  d76560b3dfecce2d588023bf1d1c4c2d  2619833  POINT (-118.14516 34.08748)"
      ]
     },
     "execution_count": 38,
     "metadata": {},
     "output_type": "execute_result"
    }
   ],
   "source": [
    "stops.head()"
   ]
  },
  {
   "cell_type": "code",
   "execution_count": 31,
   "id": "17cc4bdb-894d-4bc4-9254-c33130342b44",
   "metadata": {},
   "outputs": [
    {
     "data": {
      "text/plain": [
       "<AxesSubplot:>"
      ]
     },
     "execution_count": 31,
     "metadata": {},
     "output_type": "execute_result"
    },
    {
     "data": {
      "image/png": "[encoded data removed]",
      "text/plain": [
       "<Figure size 640x480 with 1 Axes>"
      ]
     },
     "metadata": {},
     "output_type": "display_data"
    }
   ],
   "source": [
    "map1 = stops.plot()\n",
    "map1"
   ]
  },
  {
   "cell_type": "code",
   "execution_count": null,
   "id": "f2349ddd-8cb6-4452-95ab-8a0d1aca3b20",
   "metadata": {},
   "outputs": [],
   "source": [
    "# To add styleguide\n",
    "from shared_utils import styleguide\n",
    "from shared_utils import calitp_color_palette as cp"
   ]
  }
 ],
 "metadata": {
  "kernelspec": {
   "display_name": "Python 3 (ipykernel)",
   "language": "python",
   "name": "python3"
  },
  "language_info": {
   "codemirror_mode": {
    "name": "ipython",
    "version": 3
   },
   "file_extension": ".py",
   "mimetype": "text/x-python",
   "name": "python",
   "nbconvert_exporter": "python",
   "pygments_lexer": "ipython3",
   "version": "3.9.13"
  }
 },
 "nbformat": 4,
 "nbformat_minor": 5
}
