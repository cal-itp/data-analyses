{
 "cells": [
  {
   "cell_type": "markdown",
   "id": "be271b0b-3fc1-4b28-998f-6c3ee50140f3",
   "metadata": {},
   "source": [
    "## Exercise 5: Geospatial wrangling and making maps\n",
    "\n",
    "Skills: \n",
    "* More geospatial practice building on earlier skills\n",
    "* Make a map with `geopandas`\n",
    "\n",
    "References: \n",
    "* https://docs.calitp.org/data-infra/analytics_new_analysts/02-data-analysis-intermediate.html\n",
    "* https://docs.calitp.org/data-infra/analytics_tools/python_libraries.html"
   ]
  },
  {
   "cell_type": "code",
   "execution_count": 1,
   "id": "a0673993-3a04-44c1-af48-46f10eb71198",
   "metadata": {},
   "outputs": [
    {
     "name": "stderr",
     "output_type": "stream",
     "text": [
      "/opt/conda/lib/python3.9/site-packages/geopandas/_compat.py:124: UserWarning: The Shapely GEOS version (3.11.1-CAPI-1.17.1) is incompatible with the GEOS version PyGEOS was compiled with (3.10.1-CAPI-1.16.0). Conversions between both will be slow.\n",
      "  warnings.warn(\n",
      "/tmp/ipykernel_687/2144877482.py:1: DeprecationWarning: Shapely 2.0 is installed, but because PyGEOS is also installed, GeoPandas still uses PyGEOS by default. However, starting with version 0.14, the default will switch to Shapely. To force to use Shapely 2.0 now, you can either uninstall PyGEOS or set the environment variable USE_PYGEOS=0. You can do this before starting the Python process, or in your code before importing geopandas:\n",
      "\n",
      "import os\n",
      "os.environ['USE_PYGEOS'] = '0'\n",
      "import geopandas\n",
      "\n",
      "In the next release, GeoPandas will switch to using Shapely by default, even if PyGEOS is installed. If you only have PyGEOS installed to get speed-ups, this switch should be smooth. However, if you are using PyGEOS directly (calling PyGEOS functions on geometries from GeoPandas), this will then stop working and you are encouraged to migrate from PyGEOS to Shapely 2.0 (https://shapely.readthedocs.io/en/latest/migration_pygeos.html).\n",
      "  import geopandas as gpd\n",
      "/opt/conda/lib/python3.9/site-packages/google/auth/_default.py:78: UserWarning: Your application has authenticated using end user credentials from Google Cloud SDK without a quota project. You might receive a \"quota exceeded\" or \"API not enabled\" error. See the following page for troubleshooting: https://cloud.google.com/docs/authentication/adc-troubleshooting/user-creds. \n",
      "  warnings.warn(_CLOUD_SDK_CREDENTIALS_WARNING)\n",
      "/opt/conda/lib/python3.9/site-packages/google/auth/_default.py:78: UserWarning: Your application has authenticated using end user credentials from Google Cloud SDK without a quota project. You might receive a \"quota exceeded\" or \"API not enabled\" error. See the following page for troubleshooting: https://cloud.google.com/docs/authentication/adc-troubleshooting/user-creds. \n",
      "  warnings.warn(_CLOUD_SDK_CREDENTIALS_WARNING)\n",
      "/opt/conda/lib/python3.9/site-packages/google/auth/_default.py:78: UserWarning: Your application has authenticated using end user credentials from Google Cloud SDK without a quota project. You might receive a \"quota exceeded\" or \"API not enabled\" error. See the following page for troubleshooting: https://cloud.google.com/docs/authentication/adc-troubleshooting/user-creds. \n",
      "  warnings.warn(_CLOUD_SDK_CREDENTIALS_WARNING)\n"
     ]
    }
   ],
   "source": [
    "import geopandas as gpd\n",
    "import intake\n",
    "import os\n",
    "import pandas as pd\n",
    "import shapely\n",
    "\n",
    "os.environ[\"CALITP_BQ_MAX_BYTES\"] = str(100_000_000_000)\n",
    "\n",
    "from calitp_data_analysis.tables import tbls\n",
    "from siuba import *\n",
    "\n",
    "# Hint: if this doesn't import: refer to docs for correctly import\n",
    "# cd into _shared_utils folder, run the make setup_env command\n",
    "import shared_utils"
   ]
  },
  {
   "cell_type": "markdown",
   "id": "6c762aa7-15ac-4f6d-9867-e35b0b723a57",
   "metadata": {},
   "source": [
    "## Research Question\n",
    "\n",
    "What's the average number of trips per stop by operators in southern California? Show visualizations at the operator and county-level.\n",
    "<br>**Geographic scope:** southern California counties\n",
    "<br>**Deliverables:** chart(s) and map(s) showing metrics comparing across counties and also across operators. Make these visualizations using function(s).\n",
    "\n",
    "### Prep data\n",
    "\n",
    "* Use the same query, but grab a different set of operators. These are in southern California, so the map should zoom in counties ranging from LA to SD.\n",
    "* *Hint*: for some counties, there are multiple operators. Make sure the average trips per stop by counties is the weighted average.\n",
    "* Use the same [shapefile for CA counties](https://gis.data.ca.gov/datasets/CALFIRE-Forestry::california-county-boundaries/explore?location=37.246136%2C-119.002032%2C6.12) as in Exercise 4.\n",
    "* Join the data and only keep counties that have bus stops."
   ]
  },
  {
   "cell_type": "code",
   "execution_count": 2,
   "id": "3d11c71e-06f2-4419-827e-8a4e0876f412",
   "metadata": {},
   "outputs": [
    {
     "name": "stdout",
     "output_type": "stream",
     "text": [
      "<class 'pandas.core.frame.DataFrame'>\n",
      "(200, 2)\n",
      "Kern Schedule                     1\n",
      "Mendocino Schedule                1\n",
      "StaRTA Schedule                   1\n",
      "Lynwood Schedule                  1\n",
      "Merced GMV Schedule               1\n",
      "                                 ..\n",
      "Rio Vista Schedule                1\n",
      "Bay Area 511 SolTrans Schedule    1\n",
      "SunLine Schedule                  1\n",
      "Baldwin Park Schedule             1\n",
      "Alhambra Schedule                 1\n",
      "Name: name, Length: 200, dtype: int64\n"
     ]
    },
    {
     "data": {
      "text/html": [
       "<div>\n",
       "<style scoped>\n",
       "    .dataframe tbody tr th:only-of-type {\n",
       "        vertical-align: middle;\n",
       "    }\n",
       "\n",
       "    .dataframe tbody tr th {\n",
       "        vertical-align: top;\n",
       "    }\n",
       "\n",
       "    .dataframe thead th {\n",
       "        text-align: right;\n",
       "    }\n",
       "</style>\n",
       "<table border=\"1\" class=\"dataframe\">\n",
       "  <thead>\n",
       "    <tr style=\"text-align: right;\">\n",
       "      <th></th>\n",
       "      <th>feed_key</th>\n",
       "      <th>name</th>\n",
       "    </tr>\n",
       "  </thead>\n",
       "  <tbody>\n",
       "    <tr>\n",
       "      <th>0</th>\n",
       "      <td>5efaa2460085a481db5dfbf57ae78187</td>\n",
       "      <td>Kern Schedule</td>\n",
       "    </tr>\n",
       "    <tr>\n",
       "      <th>1</th>\n",
       "      <td>c50220b8622624dfa0c5c22859b14694</td>\n",
       "      <td>Humboldt Schedule</td>\n",
       "    </tr>\n",
       "    <tr>\n",
       "      <th>2</th>\n",
       "      <td>1b77ef49f5bc70038cbf15e4f5f98477</td>\n",
       "      <td>Compton Schedule</td>\n",
       "    </tr>\n",
       "    <tr>\n",
       "      <th>3</th>\n",
       "      <td>4b6b673ab50c016344c1adf09de2cc84</td>\n",
       "      <td>Banning Pass Schedule</td>\n",
       "    </tr>\n",
       "    <tr>\n",
       "      <th>4</th>\n",
       "      <td>7a7e9069dedca7a58e5a89aaa0a97256</td>\n",
       "      <td>Bay Area 511 Santa Rosa CityBus Schedule</td>\n",
       "    </tr>\n",
       "  </tbody>\n",
       "</table>\n",
       "</div>"
      ],
      "text/plain": [
       "                           feed_key                                      name\n",
       "0  5efaa2460085a481db5dfbf57ae78187                             Kern Schedule\n",
       "1  c50220b8622624dfa0c5c22859b14694                         Humboldt Schedule\n",
       "2  1b77ef49f5bc70038cbf15e4f5f98477                          Compton Schedule\n",
       "3  4b6b673ab50c016344c1adf09de2cc84                     Banning Pass Schedule\n",
       "4  7a7e9069dedca7a58e5a89aaa0a97256  Bay Area 511 Santa Rosa CityBus Schedule"
      ]
     },
     "execution_count": 2,
     "metadata": {},
     "output_type": "execute_result"
    }
   ],
   "source": [
    "#retuns df of name to feed_keys\n",
    "\n",
    "feeds_to_names = shared_utils.gtfs_utils_v2.schedule_daily_feed_to_gtfs_dataset_name(\n",
    "    selected_date = \"2022-06-01\",\n",
    "    get_df = True\n",
    ")[[\"feed_key\", \"name\"]].drop_duplicates()\n",
    "\n",
    "print(type(feeds_to_names))\n",
    "print(feeds_to_names.shape)\n",
    "print(feeds_to_names.name.value_counts())\n",
    "feeds_to_names.head()"
   ]
  },
  {
   "cell_type": "code",
   "execution_count": 3,
   "id": "dd76306d-f810-45cd-947a-8d202ac19451",
   "metadata": {},
   "outputs": [
    {
     "name": "stdout",
     "output_type": "stream",
     "text": [
      "<class 'geopandas.geodataframe.GeoDataFrame'>\n",
      "(69, 11)\n",
      "EPSG:4326\n"
     ]
    },
    {
     "data": {
      "text/html": [
       "<div>\n",
       "<style scoped>\n",
       "    .dataframe tbody tr th:only-of-type {\n",
       "        vertical-align: middle;\n",
       "    }\n",
       "\n",
       "    .dataframe tbody tr th {\n",
       "        vertical-align: top;\n",
       "    }\n",
       "\n",
       "    .dataframe thead th {\n",
       "        text-align: right;\n",
       "    }\n",
       "</style>\n",
       "<table border=\"1\" class=\"dataframe\">\n",
       "  <thead>\n",
       "    <tr style=\"text-align: right;\">\n",
       "      <th></th>\n",
       "      <th>OBJECTID</th>\n",
       "      <th>COUNTY_NAME</th>\n",
       "      <th>COUNTY_ABBREV</th>\n",
       "      <th>COUNTY_NUM</th>\n",
       "      <th>COUNTY_CODE</th>\n",
       "      <th>COUNTY_FIPS</th>\n",
       "      <th>ISLAND</th>\n",
       "      <th>Shape__Area</th>\n",
       "      <th>Shape__Length</th>\n",
       "      <th>GlobalID</th>\n",
       "      <th>geometry</th>\n",
       "    </tr>\n",
       "  </thead>\n",
       "  <tbody>\n",
       "    <tr>\n",
       "      <th>0</th>\n",
       "      <td>1</td>\n",
       "      <td>Alameda</td>\n",
       "      <td>ALA</td>\n",
       "      <td>1</td>\n",
       "      <td>01</td>\n",
       "      <td>001</td>\n",
       "      <td>NaN</td>\n",
       "      <td>3.402787e+09</td>\n",
       "      <td>308998.650766</td>\n",
       "      <td>e6f92268-d2dd-4cfb-8b79-5b4b2f07c559</td>\n",
       "      <td>POLYGON ((-122.27125 37.90503, -122.27024 37.9...</td>\n",
       "    </tr>\n",
       "    <tr>\n",
       "      <th>1</th>\n",
       "      <td>2</td>\n",
       "      <td>Alpine</td>\n",
       "      <td>ALP</td>\n",
       "      <td>2</td>\n",
       "      <td>02</td>\n",
       "      <td>003</td>\n",
       "      <td>NaN</td>\n",
       "      <td>3.146939e+09</td>\n",
       "      <td>274888.492411</td>\n",
       "      <td>870479b2-480a-494b-8352-ad60578839c1</td>\n",
       "      <td>POLYGON ((-119.58667 38.71420, -119.58653 38.7...</td>\n",
       "    </tr>\n",
       "    <tr>\n",
       "      <th>2</th>\n",
       "      <td>3</td>\n",
       "      <td>Amador</td>\n",
       "      <td>AMA</td>\n",
       "      <td>3</td>\n",
       "      <td>03</td>\n",
       "      <td>005</td>\n",
       "      <td>NaN</td>\n",
       "      <td>2.562635e+09</td>\n",
       "      <td>361708.438013</td>\n",
       "      <td>4f45b3a6-be10-461c-8945-6b2aaa7119f6</td>\n",
       "      <td>POLYGON ((-120.07246 38.70276, -120.07249 38.6...</td>\n",
       "    </tr>\n",
       "    <tr>\n",
       "      <th>3</th>\n",
       "      <td>4</td>\n",
       "      <td>Butte</td>\n",
       "      <td>BUT</td>\n",
       "      <td>4</td>\n",
       "      <td>04</td>\n",
       "      <td>007</td>\n",
       "      <td>NaN</td>\n",
       "      <td>7.339348e+09</td>\n",
       "      <td>526547.115238</td>\n",
       "      <td>44fba680-aecc-4e04-a499-29d69affbd4a</td>\n",
       "      <td>POLYGON ((-121.07661 39.59729, -121.07945 39.5...</td>\n",
       "    </tr>\n",
       "    <tr>\n",
       "      <th>4</th>\n",
       "      <td>5</td>\n",
       "      <td>Calaveras</td>\n",
       "      <td>CAL</td>\n",
       "      <td>5</td>\n",
       "      <td>05</td>\n",
       "      <td>009</td>\n",
       "      <td>NaN</td>\n",
       "      <td>4.351069e+09</td>\n",
       "      <td>370637.578323</td>\n",
       "      <td>d11ef739-4a1e-414e-bfd1-e7dcd56cd61e</td>\n",
       "      <td>POLYGON ((-120.01792 38.43586, -120.01788 38.4...</td>\n",
       "    </tr>\n",
       "  </tbody>\n",
       "</table>\n",
       "</div>"
      ],
      "text/plain": [
       "   OBJECTID COUNTY_NAME COUNTY_ABBREV  COUNTY_NUM COUNTY_CODE COUNTY_FIPS  \\\n",
       "0         1     Alameda           ALA           1          01         001   \n",
       "1         2      Alpine           ALP           2          02         003   \n",
       "2         3      Amador           AMA           3          03         005   \n",
       "3         4       Butte           BUT           4          04         007   \n",
       "4         5   Calaveras           CAL           5          05         009   \n",
       "\n",
       "  ISLAND   Shape__Area  Shape__Length                              GlobalID  \\\n",
       "0    NaN  3.402787e+09  308998.650766  e6f92268-d2dd-4cfb-8b79-5b4b2f07c559   \n",
       "1    NaN  3.146939e+09  274888.492411  870479b2-480a-494b-8352-ad60578839c1   \n",
       "2    NaN  2.562635e+09  361708.438013  4f45b3a6-be10-461c-8945-6b2aaa7119f6   \n",
       "3    NaN  7.339348e+09  526547.115238  44fba680-aecc-4e04-a499-29d69affbd4a   \n",
       "4    NaN  4.351069e+09  370637.578323  d11ef739-4a1e-414e-bfd1-e7dcd56cd61e   \n",
       "\n",
       "                                            geometry  \n",
       "0  POLYGON ((-122.27125 37.90503, -122.27024 37.9...  \n",
       "1  POLYGON ((-119.58667 38.71420, -119.58653 38.7...  \n",
       "2  POLYGON ((-120.07246 38.70276, -120.07249 38.6...  \n",
       "3  POLYGON ((-121.07661 39.59729, -121.07945 39.5...  \n",
       "4  POLYGON ((-120.01792 38.43586, -120.01788 38.4...  "
      ]
     },
     "execution_count": 3,
     "metadata": {},
     "output_type": "execute_result"
    }
   ],
   "source": [
    "#also brining in CA Counties from ex 4.\n",
    "\n",
    "ca_county = gpd.read_file('https://services1.arcgis.com/jUJYIo9tSA7EHvfZ/arcgis/rest/services/California_County_Boundaries/FeatureServer/0/query?outFields=*&where=1%3D1&f=geojson')\n",
    "print(type(ca_county))\n",
    "print(ca_county.shape)\n",
    "print(ca_county.crs)\n",
    "ca_county.head()"
   ]
  },
  {
   "cell_type": "code",
   "execution_count": 4,
   "id": "b3e192d2-fca7-4717-9c2d-3f06fb089383",
   "metadata": {},
   "outputs": [
    {
     "data": {
      "text/plain": [
       "pandas.core.frame.DataFrame"
      ]
     },
     "execution_count": 4,
     "metadata": {},
     "output_type": "execute_result"
    }
   ],
   "source": [
    "type(feeds_to_names)"
   ]
  },
  {
   "cell_type": "code",
   "execution_count": 5,
   "id": "277963d3-fb42-44db-83ae-9ba310e6c383",
   "metadata": {},
   "outputs": [
    {
     "data": {
      "text/plain": [
       "['41ee0151e3cac17098d055ce25b3f104',\n",
       " '239e56d11510f71d7182a24c5621be8c',\n",
       " '455fadac7ed63a72e7d3f36273d78313',\n",
       " 'e7985c6c0c873f17871d79a527a50afa',\n",
       " 'a3af905228efc93bb48f360b92965afb',\n",
       " 'd76560b3dfecce2d588023bf1d1c4c2d']"
      ]
     },
     "execution_count": 5,
     "metadata": {},
     "output_type": "execute_result"
    }
   ],
   "source": [
    "OPERATORS = [\n",
    "    \"Alhambra Schedule\", \n",
    "    \"San Diego Schedule\",\n",
    "    \"Big Blue Bus Schedule\",\n",
    "    \"Culver City Schedule\",\n",
    "    \"OmniTrans Schedule\",\n",
    "    \"OCTA Schedule\"\n",
    "]\n",
    "\n",
    "SUBSET_FEEDS = feeds_to_names[\n",
    "    feeds_to_names.name.isin(OPERATORS)\n",
    "].feed_key.tolist()\n",
    "\n",
    "SUBSET_FEEDS\n",
    "#gives us the feed_key for the list of operators found in the `feeds_to_name` list"
   ]
  },
  {
   "cell_type": "code",
   "execution_count": 6,
   "id": "cb619ecd-d33d-4d77-b9d0-547958dd069f",
   "metadata": {},
   "outputs": [
    {
     "name": "stderr",
     "output_type": "stream",
     "text": [
      "/opt/conda/lib/python3.9/site-packages/sqlalchemy_bigquery/_types.py:101: SAWarning: Did not recognize type 'GEOGRAPHY' of column 'pt_geom'\n",
      "  sqlalchemy.util.warn(\n"
     ]
    }
   ],
   "source": [
    "stops = (\n",
    "    tbls.mart_gtfs.fct_daily_scheduled_stops()\n",
    "    >> filter(_.feed_key.isin(SUBSET_FEEDS))\n",
    "    >> filter(_.service_date == \"2022-06-01\")\n",
    "    >> select(_.feed_key, \n",
    "              _.stop_id, _.pt_geom)\n",
    "    >> collect()\n",
    ")"
   ]
  },
  {
   "cell_type": "markdown",
   "id": "8a89644b-4f56-40cc-b808-d5ddb7cfd1ef",
   "metadata": {},
   "source": [
    "Check the type of `stops`. Is it a pandas df or geopandas gdf?"
   ]
  },
  {
   "cell_type": "code",
   "execution_count": 7,
   "id": "716059a9-55e4-4696-a6ae-26ae982b70ed",
   "metadata": {},
   "outputs": [
    {
     "data": {
      "text/plain": [
       "pandas.core.frame.DataFrame"
      ]
     },
     "execution_count": 7,
     "metadata": {},
     "output_type": "execute_result"
    }
   ],
   "source": [
    "# initial check of `stops` df to see if its a pandas or gdf\n",
    "\n",
    "type(stops)\n",
    "\n",
    "#its pandas df"
   ]
  },
  {
   "cell_type": "code",
   "execution_count": 8,
   "id": "5d1b1ae2-84a6-4f0a-8635-6f8575bf842c",
   "metadata": {},
   "outputs": [],
   "source": [
    "# Turn stops into a gdf\n",
    "geom = [shapely.wkt.loads(x) for x in stops.pt_geom]\n",
    "\n",
    "stops = gpd.GeoDataFrame(\n",
    "    stops, \n",
    "    geometry=geom, \n",
    "    crs=\"EPSG:4326\"\n",
    ").drop(columns=\"pt_geom\")"
   ]
  },
  {
   "cell_type": "markdown",
   "id": "ea41dd6f-4e50-4dc3-a349-82ef1acdd621",
   "metadata": {},
   "source": [
    "Check the type of `stops`. Is it a pandas df or geopandas gdf?\n",
    "\n",
    "What is the CRS and geometry column name?"
   ]
  },
  {
   "cell_type": "code",
   "execution_count": 9,
   "id": "2de7a91f-a372-4f58-b20c-51a039afb286",
   "metadata": {},
   "outputs": [
    {
     "name": "stdout",
     "output_type": "stream",
     "text": [
      "<class 'geopandas.geodataframe.GeoDataFrame'>\n",
      "EPSG:4326\n",
      "(13247, 3)\n",
      "                           feed_key  stop_id                     geometry\n",
      "0  d76560b3dfecce2d588023bf1d1c4c2d  2619811  POINT (-118.12516 34.09329)\n",
      "1  d76560b3dfecce2d588023bf1d1c4c2d  2619815  POINT (-118.12714 34.09095)\n",
      "2  d76560b3dfecce2d588023bf1d1c4c2d  2619819  POINT (-118.12918 34.09000)\n",
      "3  d76560b3dfecce2d588023bf1d1c4c2d  2619822  POINT (-118.13417 34.08761)\n",
      "4  d76560b3dfecce2d588023bf1d1c4c2d  2619833  POINT (-118.14516 34.08748)\n",
      "e7985c6c0c873f17871d79a527a50afa    5317\n",
      "455fadac7ed63a72e7d3f36273d78313    4226\n",
      "a3af905228efc93bb48f360b92965afb    2277\n",
      "239e56d11510f71d7182a24c5621be8c     916\n",
      "41ee0151e3cac17098d055ce25b3f104     431\n",
      "d76560b3dfecce2d588023bf1d1c4c2d      80\n",
      "Name: feed_key, dtype: int64\n"
     ]
    }
   ],
   "source": [
    "print(type(stops))\n",
    "print(stops.crs)\n",
    "print(stops.shape)\n",
    "print(stops.head())\n",
    "print(stops.feed_key.value_counts())\n",
    "#now stops is gdf\n",
    "#CRS set to EPSG:4326\n",
    "#Geometry column name is called `geometry`"
   ]
  },
  {
   "cell_type": "markdown",
   "id": "893a7fff-a99e-4eed-ae04-1cf5f6549f9d",
   "metadata": {},
   "source": [
    "### Bring in a new table from BigQuery\n",
    "\n",
    "* In `mart_gtfs`, bring in the table called `fct_daily_scheduled_stops` for the subset of feeds defined above.\n",
    "* Modify the snippet below to:\n",
    "   * filter for the subset of operators\n",
    "   * only keep columns: `feed_key`, `stop_id`, `stop_event_count`"
   ]
  },
  {
   "cell_type": "code",
   "execution_count": 10,
   "id": "14b70ab4-b500-4d89-b9bc-fbb9363b0ef3",
   "metadata": {},
   "outputs": [
    {
     "name": "stderr",
     "output_type": "stream",
     "text": [
      "/opt/conda/lib/python3.9/site-packages/sqlalchemy_bigquery/_types.py:101: SAWarning: Did not recognize type 'GEOGRAPHY' of column 'pt_geom'\n",
      "  sqlalchemy.util.warn(\n"
     ]
    }
   ],
   "source": [
    "#initial code snippet\n",
    "#stop_counts = (\n",
    "#    tbls.mart_gtfs.fct_daily_scheduled_stops()\n",
    "#    >> filter(_.activity_date == \"2022-06-01\")\n",
    "#)\n",
    "\n",
    "stop_counts = (\n",
    "    tbls.mart_gtfs.fct_daily_scheduled_stops()\n",
    "    >> filter(_.feed_key.isin(SUBSET_FEEDS))\n",
    "    >> select(_.feed_key, \n",
    "              _.stop_id, _.stop_event_count)\n",
    "    >> collect()\n",
    ")"
   ]
  },
  {
   "cell_type": "code",
   "execution_count": 11,
   "id": "d8d80349-1fdf-4929-9d29-b439b66b4c75",
   "metadata": {},
   "outputs": [
    {
     "name": "stdout",
     "output_type": "stream",
     "text": [
      "<class 'pandas.core.frame.DataFrame'>\n",
      "(743023, 3)\n",
      "                           feed_key  stop_id  stop_event_count\n",
      "0  d76560b3dfecce2d588023bf1d1c4c2d  2619783                17\n",
      "1  d76560b3dfecce2d588023bf1d1c4c2d  2619783                17\n",
      "2  d76560b3dfecce2d588023bf1d1c4c2d  2619783                17\n",
      "3  d76560b3dfecce2d588023bf1d1c4c2d  2619783                17\n",
      "4  d76560b3dfecce2d588023bf1d1c4c2d  2619783                17\n",
      "e7985c6c0c873f17871d79a527a50afa    320609\n",
      "a3af905228efc93bb48f360b92965afb    207083\n",
      "455fadac7ed63a72e7d3f36273d78313     93099\n",
      "239e56d11510f71d7182a24c5621be8c     92786\n",
      "d76560b3dfecce2d588023bf1d1c4c2d     22888\n",
      "41ee0151e3cac17098d055ce25b3f104      6558\n",
      "Name: feed_key, dtype: int64\n"
     ]
    }
   ],
   "source": [
    "#stop counts initially was a siuba query. need to add `>> collect()` to convert to a pandas df?\n",
    "print(type(stop_counts))\n",
    "print(stop_counts.shape)\n",
    "print(stop_counts.head())\n",
    "print(stop_counts.feed_key.value_counts())"
   ]
  },
  {
   "cell_type": "code",
   "execution_count": 12,
   "id": "3a5ccd2d-29f5-42fe-93f8-b47e55cf5878",
   "metadata": {},
   "outputs": [
    {
     "name": "stdout",
     "output_type": "stream",
     "text": [
      "['feed_key', 'name']\n",
      "<class 'pandas.core.frame.DataFrame'>\n",
      "(200, 2)\n"
     ]
    }
   ],
   "source": [
    "#listing out all df/gdf columns\n",
    "\n",
    "#feeds_to_names\n",
    "\n",
    "print(list(feeds_to_names.columns))\n",
    "print(type(feeds_to_names))\n",
    "print(feeds_to_names.shape)"
   ]
  },
  {
   "cell_type": "code",
   "execution_count": 13,
   "id": "f4dd93f2-adf6-4e0d-bbc2-8d77898b80d1",
   "metadata": {},
   "outputs": [
    {
     "name": "stdout",
     "output_type": "stream",
     "text": [
      "['feed_key', 'stop_id', 'stop_event_count']\n",
      "<class 'pandas.core.frame.DataFrame'>\n",
      "(743023, 3)\n"
     ]
    }
   ],
   "source": [
    "#stop_counts\n",
    "\n",
    "print(list(stop_counts.columns))\n",
    "print(type(stop_counts))\n",
    "print(stop_counts.shape)"
   ]
  },
  {
   "cell_type": "code",
   "execution_count": 14,
   "id": "1c69ba16-a0ae-4c41-a44d-1bca292e9b6b",
   "metadata": {},
   "outputs": [
    {
     "name": "stdout",
     "output_type": "stream",
     "text": [
      "['feed_key', 'stop_id', 'geometry']\n",
      "<class 'geopandas.geodataframe.GeoDataFrame'>\n",
      "EPSG:4326\n",
      "(13247, 3)\n"
     ]
    }
   ],
   "source": [
    "#stops\n",
    "\n",
    "print(list(stops.columns))\n",
    "print(type(stops))\n",
    "print(stops.crs)\n",
    "print(stops.shape)"
   ]
  },
  {
   "cell_type": "code",
   "execution_count": 15,
   "id": "4d7c45bb-f4d0-4012-9ebe-581be1a7e104",
   "metadata": {},
   "outputs": [
    {
     "name": "stdout",
     "output_type": "stream",
     "text": [
      "['OBJECTID', 'COUNTY_NAME', 'COUNTY_ABBREV', 'COUNTY_NUM', 'COUNTY_CODE', 'COUNTY_FIPS', 'ISLAND', 'Shape__Area', 'Shape__Length', 'GlobalID', 'geometry']\n",
      "<class 'geopandas.geodataframe.GeoDataFrame'>\n",
      "EPSG:4326\n",
      "(69, 11)\n"
     ]
    }
   ],
   "source": [
    "#ca_county\n",
    "\n",
    "print(list(ca_county.columns))\n",
    "print(type(ca_county))\n",
    "print(ca_county.crs)\n",
    "print(ca_county.shape)"
   ]
  },
  {
   "cell_type": "markdown",
   "id": "9aad0dc9-7f2d-424b-817b-93d7b8f612a7",
   "metadata": {},
   "source": [
    "### Next steps\n",
    "Join the data and only keep counties that have bus stops.\n",
    "\n",
    "how do you know which stops are bus stops? \n",
    "\n",
    "attempt to add `stop_event_count` col (from stop_counts) to `stops` gdf. then add `name` (from feeds_to_name) and join on `ca_county` via geopandas.sjoin\n"
   ]
  },
  {
   "cell_type": "code",
   "execution_count": 16,
   "id": "98747159-8b38-49ae-a4ff-ed8da248b0b2",
   "metadata": {},
   "outputs": [],
   "source": [
    "# test of merge? but it keeps killing the kernel. \n",
    "# maybe because \n",
    "#stop_stpcnt = pd.merge(stops, stop_counts, on = 'feed_key', how ='left')\n"
   ]
  },
  {
   "cell_type": "code",
   "execution_count": 17,
   "id": "cacad23e-dcd7-4ea8-a558-7493d040e3e9",
   "metadata": {},
   "outputs": [
    {
     "data": {
      "text/html": [
       "<div>\n",
       "<style scoped>\n",
       "    .dataframe tbody tr th:only-of-type {\n",
       "        vertical-align: middle;\n",
       "    }\n",
       "\n",
       "    .dataframe tbody tr th {\n",
       "        vertical-align: top;\n",
       "    }\n",
       "\n",
       "    .dataframe thead th {\n",
       "        text-align: right;\n",
       "    }\n",
       "</style>\n",
       "<table border=\"1\" class=\"dataframe\">\n",
       "  <thead>\n",
       "    <tr style=\"text-align: right;\">\n",
       "      <th></th>\n",
       "      <th>feed_key</th>\n",
       "      <th>stop_id</th>\n",
       "      <th>stop_event_count</th>\n",
       "      <th>name</th>\n",
       "    </tr>\n",
       "  </thead>\n",
       "  <tbody>\n",
       "    <tr>\n",
       "      <th>0</th>\n",
       "      <td>d76560b3dfecce2d588023bf1d1c4c2d</td>\n",
       "      <td>2619783</td>\n",
       "      <td>17</td>\n",
       "      <td>Alhambra Schedule</td>\n",
       "    </tr>\n",
       "    <tr>\n",
       "      <th>1</th>\n",
       "      <td>d76560b3dfecce2d588023bf1d1c4c2d</td>\n",
       "      <td>2619783</td>\n",
       "      <td>17</td>\n",
       "      <td>Alhambra Schedule</td>\n",
       "    </tr>\n",
       "    <tr>\n",
       "      <th>2</th>\n",
       "      <td>d76560b3dfecce2d588023bf1d1c4c2d</td>\n",
       "      <td>2619783</td>\n",
       "      <td>17</td>\n",
       "      <td>Alhambra Schedule</td>\n",
       "    </tr>\n",
       "    <tr>\n",
       "      <th>3</th>\n",
       "      <td>d76560b3dfecce2d588023bf1d1c4c2d</td>\n",
       "      <td>2619783</td>\n",
       "      <td>17</td>\n",
       "      <td>Alhambra Schedule</td>\n",
       "    </tr>\n",
       "    <tr>\n",
       "      <th>4</th>\n",
       "      <td>d76560b3dfecce2d588023bf1d1c4c2d</td>\n",
       "      <td>2619783</td>\n",
       "      <td>17</td>\n",
       "      <td>Alhambra Schedule</td>\n",
       "    </tr>\n",
       "    <tr>\n",
       "      <th>...</th>\n",
       "      <td>...</td>\n",
       "      <td>...</td>\n",
       "      <td>...</td>\n",
       "      <td>...</td>\n",
       "    </tr>\n",
       "    <tr>\n",
       "      <th>743018</th>\n",
       "      <td>a3af905228efc93bb48f360b92965afb</td>\n",
       "      <td>7614_merged_1226787</td>\n",
       "      <td>48</td>\n",
       "      <td>OmniTrans Schedule</td>\n",
       "    </tr>\n",
       "    <tr>\n",
       "      <th>743019</th>\n",
       "      <td>a3af905228efc93bb48f360b92965afb</td>\n",
       "      <td>7614_merged_1226787</td>\n",
       "      <td>48</td>\n",
       "      <td>OmniTrans Schedule</td>\n",
       "    </tr>\n",
       "    <tr>\n",
       "      <th>743020</th>\n",
       "      <td>a3af905228efc93bb48f360b92965afb</td>\n",
       "      <td>7614_merged_1226787</td>\n",
       "      <td>48</td>\n",
       "      <td>OmniTrans Schedule</td>\n",
       "    </tr>\n",
       "    <tr>\n",
       "      <th>743021</th>\n",
       "      <td>a3af905228efc93bb48f360b92965afb</td>\n",
       "      <td>7614_merged_1226787</td>\n",
       "      <td>48</td>\n",
       "      <td>OmniTrans Schedule</td>\n",
       "    </tr>\n",
       "    <tr>\n",
       "      <th>743022</th>\n",
       "      <td>a3af905228efc93bb48f360b92965afb</td>\n",
       "      <td>7614_merged_1226787</td>\n",
       "      <td>48</td>\n",
       "      <td>OmniTrans Schedule</td>\n",
       "    </tr>\n",
       "  </tbody>\n",
       "</table>\n",
       "<p>743023 rows × 4 columns</p>\n",
       "</div>"
      ],
      "text/plain": [
       "                                feed_key              stop_id  \\\n",
       "0       d76560b3dfecce2d588023bf1d1c4c2d              2619783   \n",
       "1       d76560b3dfecce2d588023bf1d1c4c2d              2619783   \n",
       "2       d76560b3dfecce2d588023bf1d1c4c2d              2619783   \n",
       "3       d76560b3dfecce2d588023bf1d1c4c2d              2619783   \n",
       "4       d76560b3dfecce2d588023bf1d1c4c2d              2619783   \n",
       "...                                  ...                  ...   \n",
       "743018  a3af905228efc93bb48f360b92965afb  7614_merged_1226787   \n",
       "743019  a3af905228efc93bb48f360b92965afb  7614_merged_1226787   \n",
       "743020  a3af905228efc93bb48f360b92965afb  7614_merged_1226787   \n",
       "743021  a3af905228efc93bb48f360b92965afb  7614_merged_1226787   \n",
       "743022  a3af905228efc93bb48f360b92965afb  7614_merged_1226787   \n",
       "\n",
       "        stop_event_count                name  \n",
       "0                     17   Alhambra Schedule  \n",
       "1                     17   Alhambra Schedule  \n",
       "2                     17   Alhambra Schedule  \n",
       "3                     17   Alhambra Schedule  \n",
       "4                     17   Alhambra Schedule  \n",
       "...                  ...                 ...  \n",
       "743018                48  OmniTrans Schedule  \n",
       "743019                48  OmniTrans Schedule  \n",
       "743020                48  OmniTrans Schedule  \n",
       "743021                48  OmniTrans Schedule  \n",
       "743022                48  OmniTrans Schedule  \n",
       "\n",
       "[743023 rows x 4 columns]"
      ]
     },
     "execution_count": 17,
     "metadata": {},
     "output_type": "execute_result"
    }
   ],
   "source": [
    "#test merge: stop_counts & feeds_to_name\n",
    "\n",
    "stop_cnt_name = pd.merge(stop_counts, feeds_to_names, on ='feed_key', how = 'left')\n",
    "stop_cnt_name"
   ]
  },
  {
   "cell_type": "code",
   "execution_count": 18,
   "id": "2038c8bf-c2f7-4f0e-974c-bd07878dcbaf",
   "metadata": {},
   "outputs": [
    {
     "name": "stdout",
     "output_type": "stream",
     "text": [
      "(739692, 5)\n"
     ]
    },
    {
     "data": {
      "text/html": [
       "<div>\n",
       "<style scoped>\n",
       "    .dataframe tbody tr th:only-of-type {\n",
       "        vertical-align: middle;\n",
       "    }\n",
       "\n",
       "    .dataframe tbody tr th {\n",
       "        vertical-align: top;\n",
       "    }\n",
       "\n",
       "    .dataframe thead th {\n",
       "        text-align: right;\n",
       "    }\n",
       "</style>\n",
       "<table border=\"1\" class=\"dataframe\">\n",
       "  <thead>\n",
       "    <tr style=\"text-align: right;\">\n",
       "      <th></th>\n",
       "      <th>feed_key</th>\n",
       "      <th>stop_id</th>\n",
       "      <th>geometry</th>\n",
       "      <th>stop_event_count</th>\n",
       "      <th>name</th>\n",
       "    </tr>\n",
       "  </thead>\n",
       "  <tbody>\n",
       "    <tr>\n",
       "      <th>0</th>\n",
       "      <td>d76560b3dfecce2d588023bf1d1c4c2d</td>\n",
       "      <td>2619811</td>\n",
       "      <td>POINT (-118.12516 34.09329)</td>\n",
       "      <td>17</td>\n",
       "      <td>Alhambra Schedule</td>\n",
       "    </tr>\n",
       "    <tr>\n",
       "      <th>1</th>\n",
       "      <td>d76560b3dfecce2d588023bf1d1c4c2d</td>\n",
       "      <td>2619811</td>\n",
       "      <td>POINT (-118.12516 34.09329)</td>\n",
       "      <td>17</td>\n",
       "      <td>Alhambra Schedule</td>\n",
       "    </tr>\n",
       "    <tr>\n",
       "      <th>2</th>\n",
       "      <td>d76560b3dfecce2d588023bf1d1c4c2d</td>\n",
       "      <td>2619811</td>\n",
       "      <td>POINT (-118.12516 34.09329)</td>\n",
       "      <td>17</td>\n",
       "      <td>Alhambra Schedule</td>\n",
       "    </tr>\n",
       "    <tr>\n",
       "      <th>3</th>\n",
       "      <td>d76560b3dfecce2d588023bf1d1c4c2d</td>\n",
       "      <td>2619811</td>\n",
       "      <td>POINT (-118.12516 34.09329)</td>\n",
       "      <td>17</td>\n",
       "      <td>Alhambra Schedule</td>\n",
       "    </tr>\n",
       "    <tr>\n",
       "      <th>4</th>\n",
       "      <td>d76560b3dfecce2d588023bf1d1c4c2d</td>\n",
       "      <td>2619811</td>\n",
       "      <td>POINT (-118.12516 34.09329)</td>\n",
       "      <td>17</td>\n",
       "      <td>Alhambra Schedule</td>\n",
       "    </tr>\n",
       "  </tbody>\n",
       "</table>\n",
       "</div>"
      ],
      "text/plain": [
       "                           feed_key  stop_id                     geometry  \\\n",
       "0  d76560b3dfecce2d588023bf1d1c4c2d  2619811  POINT (-118.12516 34.09329)   \n",
       "1  d76560b3dfecce2d588023bf1d1c4c2d  2619811  POINT (-118.12516 34.09329)   \n",
       "2  d76560b3dfecce2d588023bf1d1c4c2d  2619811  POINT (-118.12516 34.09329)   \n",
       "3  d76560b3dfecce2d588023bf1d1c4c2d  2619811  POINT (-118.12516 34.09329)   \n",
       "4  d76560b3dfecce2d588023bf1d1c4c2d  2619811  POINT (-118.12516 34.09329)   \n",
       "\n",
       "   stop_event_count               name  \n",
       "0                17  Alhambra Schedule  \n",
       "1                17  Alhambra Schedule  \n",
       "2                17  Alhambra Schedule  \n",
       "3                17  Alhambra Schedule  \n",
       "4                17  Alhambra Schedule  "
      ]
     },
     "execution_count": 18,
     "metadata": {},
     "output_type": "execute_result"
    }
   ],
   "source": [
    "#can i join stops with stop_cnt_name\n",
    "stops_and_counts = pd.merge(stops, stop_cnt_name, on =['feed_key', 'stop_id'], how='left')\n",
    "print(stops_and_counts.shape)\n",
    "stops_and_counts.head()"
   ]
  },
  {
   "cell_type": "code",
   "execution_count": 19,
   "id": "a1fc74c5-14fc-4809-b516-26e13836748e",
   "metadata": {},
   "outputs": [
    {
     "data": {
      "text/plain": [
       "<Projected CRS: EPSG:2229>\n",
       "Name: NAD83 / California zone 5 (ftUS)\n",
       "Axis Info [cartesian]:\n",
       "- X[east]: Easting (US survey foot)\n",
       "- Y[north]: Northing (US survey foot)\n",
       "Area of Use:\n",
       "- name: United States (USA) - California - counties Kern; Los Angeles; San Bernardino; San Luis Obispo; Santa Barbara; Ventura.\n",
       "- bounds: (-121.42, 32.76, -114.12, 35.81)\n",
       "Coordinate Operation:\n",
       "- name: SPCS83 California zone 5 (US Survey feet)\n",
       "- method: Lambert Conic Conformal (2SP)\n",
       "Datum: North American Datum 1983\n",
       "- Ellipsoid: GRS 1980\n",
       "- Prime Meridian: Greenwich"
      ]
     },
     "execution_count": 19,
     "metadata": {},
     "output_type": "execute_result"
    }
   ],
   "source": [
    "#change crs from degree to feet\n",
    "stops_and_counts2229 = stops_and_counts.to_crs(\"EPSG:2229\")\n",
    "stops_and_counts2229.crs"
   ]
  },
  {
   "cell_type": "code",
   "execution_count": 20,
   "id": "cae4876a-0b99-4257-b5c4-5c6f385096a5",
   "metadata": {},
   "outputs": [
    {
     "data": {
      "text/plain": [
       "<Projected CRS: EPSG:2229>\n",
       "Name: NAD83 / California zone 5 (ftUS)\n",
       "Axis Info [cartesian]:\n",
       "- X[east]: Easting (US survey foot)\n",
       "- Y[north]: Northing (US survey foot)\n",
       "Area of Use:\n",
       "- name: United States (USA) - California - counties Kern; Los Angeles; San Bernardino; San Luis Obispo; Santa Barbara; Ventura.\n",
       "- bounds: (-121.42, 32.76, -114.12, 35.81)\n",
       "Coordinate Operation:\n",
       "- name: SPCS83 California zone 5 (US Survey feet)\n",
       "- method: Lambert Conic Conformal (2SP)\n",
       "Datum: North American Datum 1983\n",
       "- Ellipsoid: GRS 1980\n",
       "- Prime Meridian: Greenwich"
      ]
     },
     "execution_count": 20,
     "metadata": {},
     "output_type": "execute_result"
    }
   ],
   "source": [
    "ca_county2229 = ca_county.to_crs('EPSG:2229')\n",
    "ca_county2229.crs"
   ]
  },
  {
   "cell_type": "code",
   "execution_count": 21,
   "id": "0c142fcb-2be5-4ad2-aff5-2141eaa8491c",
   "metadata": {},
   "outputs": [],
   "source": [
    "#inner join between `ca_county2229` and `stops_and_counts2229` to keep polygon geometry\n",
    "#final join hopefully\n",
    "\n",
    "county_stop2229 = gpd.sjoin(ca_county2229, stops_and_counts2229, how='inner')"
   ]
  },
  {
   "cell_type": "code",
   "execution_count": 22,
   "id": "90c8e478-ef07-46d0-ac65-1eb6529ebe0a",
   "metadata": {},
   "outputs": [
    {
     "data": {
      "text/plain": [
       "<Projected CRS: EPSG:2229>\n",
       "Name: NAD83 / California zone 5 (ftUS)\n",
       "Axis Info [cartesian]:\n",
       "- X[east]: Easting (US survey foot)\n",
       "- Y[north]: Northing (US survey foot)\n",
       "Area of Use:\n",
       "- name: United States (USA) - California - counties Kern; Los Angeles; San Bernardino; San Luis Obispo; Santa Barbara; Ventura.\n",
       "- bounds: (-121.42, 32.76, -114.12, 35.81)\n",
       "Coordinate Operation:\n",
       "- name: SPCS83 California zone 5 (US Survey feet)\n",
       "- method: Lambert Conic Conformal (2SP)\n",
       "Datum: North American Datum 1983\n",
       "- Ellipsoid: GRS 1980\n",
       "- Prime Meridian: Greenwich"
      ]
     },
     "execution_count": 22,
     "metadata": {},
     "output_type": "execute_result"
    }
   ],
   "source": [
    "#check CRS of new merge\n",
    "county_stop2229.crs\n",
    "\n",
    "#still EPSG2229!"
   ]
  },
  {
   "cell_type": "code",
   "execution_count": 23,
   "id": "4e03625a-8878-4325-8c26-888ccb5dba7b",
   "metadata": {},
   "outputs": [
    {
     "name": "stdout",
     "output_type": "stream",
     "text": [
      "Index(['OBJECTID', 'COUNTY_NAME', 'COUNTY_ABBREV', 'COUNTY_NUM', 'COUNTY_CODE',\n",
      "       'COUNTY_FIPS', 'ISLAND', 'Shape__Area', 'Shape__Length', 'GlobalID',\n",
      "       'geometry', 'index_right', 'feed_key', 'stop_id', 'stop_event_count',\n",
      "       'name'],\n",
      "      dtype='object')\n",
      "True    739692\n",
      "Name: OBJECTID, dtype: int64\n",
      "True    739692\n",
      "Name: feed_key, dtype: int64\n"
     ]
    }
   ],
   "source": [
    "#checking to see what the merge looks like\n",
    "#checking if any of the keys are empty \n",
    "#checking to see what the geometry column looks like\n",
    "print(county_stop2229.columns)\n",
    "print(county_stop2229.OBJECTID.notna().value_counts())\n",
    "print(county_stop2229.feed_key.notna().value_counts())\n",
    "\n",
    "#polycon geometry stayed!\n",
    "#Looks all good!"
   ]
  },
  {
   "cell_type": "code",
   "execution_count": 24,
   "id": "c6188d4b-72ab-4fc7-b99a-f7f19eaa21fd",
   "metadata": {},
   "outputs": [],
   "source": [
    "#test geometry area\n",
    "area = county_stop2229.geometry.area\n"
   ]
  },
  {
   "cell_type": "code",
   "execution_count": 25,
   "id": "613f5147-117d-4f45-9745-3711389f2c45",
   "metadata": {},
   "outputs": [
    {
     "data": {
      "text/plain": [
       "18    1.101419e+11\n",
       "18    1.101419e+11\n",
       "18    1.101419e+11\n",
       "18    1.101419e+11\n",
       "18    1.101419e+11\n",
       "dtype: float64"
      ]
     },
     "execution_count": 25,
     "metadata": {},
     "output_type": "execute_result"
    }
   ],
   "source": [
    "area.head()"
   ]
  },
  {
   "cell_type": "markdown",
   "id": "e8f32be3-7e0e-4c51-affd-1c67b879b0ec",
   "metadata": {},
   "source": [
    "### Aggregate\n",
    "* Write a function to aggregate to the operator level or county level, add new columns for desired metrics. `(average number of trips per stop)`\n",
    "* Merge in CA shapefile to get a gdf.\n",
    "* Add another `geometry` column, called `centroid`, and grab the county's centroid.\n",
    "* Refer to [docs](https://geopandas.org/en/stable/docs/reference/api/geopandas.GeoDataFrame.set_geometry.html) to see how to pick which column to use as the `geometry` for the gdf, since technically, a gdf can handle multiple geometry columns.\n",
    "---\n",
    "\n",
    "#### Remember the Research Question\n",
    "* What's the `average number of trips per stop by operators` in southern California? Show visualizations at the operator and county-level.\n",
    "* Geographic scope: southern California counties\n",
    "* Deliverables: chart(s) and map(s) showing metrics comparing across counties and also across operators. Make these visualizations using function(s)."
   ]
  },
  {
   "cell_type": "code",
   "execution_count": 26,
   "id": "3fce0f4d-7da4-47f7-9497-9623c8ca9cf9",
   "metadata": {},
   "outputs": [],
   "source": [
    "#df with count of unique stop ID per county\n",
    "stopid_by_county = county_stop2229.groupby('COUNTY_NAME').stop_id.nunique().reset_index()\n",
    "\n",
    "#df with count of stop events key per county\n",
    "stopevent_by_county = county_stop2229.groupby('COUNTY_NAME').stop_event_count.sum().reset_index()"
   ]
  },
  {
   "cell_type": "code",
   "execution_count": 27,
   "id": "99342f98-4b99-44f7-a60b-845ebca670c4",
   "metadata": {},
   "outputs": [],
   "source": [
    "#df w/ unique stop ID per operator\n",
    "stopid_op = county_stop2229.groupby('name').stop_id.nunique().reset_index()\n",
    "\n",
    "#df w/ stop event per operator\n",
    "stopevent_op = county_stop2229.groupby('name').stop_event_count.sum().reset_index()"
   ]
  },
  {
   "cell_type": "code",
   "execution_count": 28,
   "id": "c70cdeba-c733-4930-8b94-4418def36d0e",
   "metadata": {},
   "outputs": [
    {
     "data": {
      "text/html": [
       "<div>\n",
       "<style scoped>\n",
       "    .dataframe tbody tr th:only-of-type {\n",
       "        vertical-align: middle;\n",
       "    }\n",
       "\n",
       "    .dataframe tbody tr th {\n",
       "        vertical-align: top;\n",
       "    }\n",
       "\n",
       "    .dataframe thead th {\n",
       "        text-align: right;\n",
       "    }\n",
       "</style>\n",
       "<table border=\"1\" class=\"dataframe\">\n",
       "  <thead>\n",
       "    <tr style=\"text-align: right;\">\n",
       "      <th></th>\n",
       "      <th>COUNTY_NAME</th>\n",
       "      <th>stop_id</th>\n",
       "    </tr>\n",
       "  </thead>\n",
       "  <tbody>\n",
       "    <tr>\n",
       "      <th>0</th>\n",
       "      <td>Los Angeles</td>\n",
       "      <td>1295</td>\n",
       "    </tr>\n",
       "    <tr>\n",
       "      <th>1</th>\n",
       "      <td>Orange</td>\n",
       "      <td>5221</td>\n",
       "    </tr>\n",
       "    <tr>\n",
       "      <th>2</th>\n",
       "      <td>Riverside</td>\n",
       "      <td>4</td>\n",
       "    </tr>\n",
       "    <tr>\n",
       "      <th>3</th>\n",
       "      <td>San Bernardino</td>\n",
       "      <td>2257</td>\n",
       "    </tr>\n",
       "    <tr>\n",
       "      <th>4</th>\n",
       "      <td>San Diego</td>\n",
       "      <td>4226</td>\n",
       "    </tr>\n",
       "  </tbody>\n",
       "</table>\n",
       "</div>"
      ],
      "text/plain": [
       "      COUNTY_NAME  stop_id\n",
       "0     Los Angeles     1295\n",
       "1          Orange     5221\n",
       "2       Riverside        4\n",
       "3  San Bernardino     2257\n",
       "4       San Diego     4226"
      ]
     },
     "execution_count": 28,
     "metadata": {},
     "output_type": "execute_result"
    }
   ],
   "source": [
    "stopid_by_county"
   ]
  },
  {
   "cell_type": "code",
   "execution_count": 29,
   "id": "f083b7df-c780-470d-8040-975552671de7",
   "metadata": {},
   "outputs": [
    {
     "data": {
      "text/html": [
       "<div>\n",
       "<style scoped>\n",
       "    .dataframe tbody tr th:only-of-type {\n",
       "        vertical-align: middle;\n",
       "    }\n",
       "\n",
       "    .dataframe tbody tr th {\n",
       "        vertical-align: top;\n",
       "    }\n",
       "\n",
       "    .dataframe thead th {\n",
       "        text-align: right;\n",
       "    }\n",
       "</style>\n",
       "<table border=\"1\" class=\"dataframe\">\n",
       "  <thead>\n",
       "    <tr style=\"text-align: right;\">\n",
       "      <th></th>\n",
       "      <th>COUNTY_NAME</th>\n",
       "      <th>stop_event_count</th>\n",
       "    </tr>\n",
       "  </thead>\n",
       "  <tbody>\n",
       "    <tr>\n",
       "      <th>0</th>\n",
       "      <td>Los Angeles</td>\n",
       "      <td>6164462</td>\n",
       "    </tr>\n",
       "    <tr>\n",
       "      <th>1</th>\n",
       "      <td>Orange</td>\n",
       "      <td>10237791</td>\n",
       "    </tr>\n",
       "    <tr>\n",
       "      <th>2</th>\n",
       "      <td>Riverside</td>\n",
       "      <td>11212</td>\n",
       "    </tr>\n",
       "    <tr>\n",
       "      <th>3</th>\n",
       "      <td>San Bernardino</td>\n",
       "      <td>4741994</td>\n",
       "    </tr>\n",
       "    <tr>\n",
       "      <th>4</th>\n",
       "      <td>San Diego</td>\n",
       "      <td>4461109</td>\n",
       "    </tr>\n",
       "  </tbody>\n",
       "</table>\n",
       "</div>"
      ],
      "text/plain": [
       "      COUNTY_NAME  stop_event_count\n",
       "0     Los Angeles           6164462\n",
       "1          Orange          10237791\n",
       "2       Riverside             11212\n",
       "3  San Bernardino           4741994\n",
       "4       San Diego           4461109"
      ]
     },
     "execution_count": 29,
     "metadata": {},
     "output_type": "execute_result"
    }
   ],
   "source": [
    "stopevent_by_county"
   ]
  },
  {
   "cell_type": "code",
   "execution_count": 30,
   "id": "2620d956-d031-43f6-823c-5fe95533831c",
   "metadata": {},
   "outputs": [
    {
     "data": {
      "text/html": [
       "<div>\n",
       "<style scoped>\n",
       "    .dataframe tbody tr th:only-of-type {\n",
       "        vertical-align: middle;\n",
       "    }\n",
       "\n",
       "    .dataframe tbody tr th {\n",
       "        vertical-align: top;\n",
       "    }\n",
       "\n",
       "    .dataframe thead th {\n",
       "        text-align: right;\n",
       "    }\n",
       "</style>\n",
       "<table border=\"1\" class=\"dataframe\">\n",
       "  <thead>\n",
       "    <tr style=\"text-align: right;\">\n",
       "      <th></th>\n",
       "      <th>name</th>\n",
       "      <th>stop_id</th>\n",
       "    </tr>\n",
       "  </thead>\n",
       "  <tbody>\n",
       "    <tr>\n",
       "      <th>0</th>\n",
       "      <td>Alhambra Schedule</td>\n",
       "      <td>80</td>\n",
       "    </tr>\n",
       "    <tr>\n",
       "      <th>1</th>\n",
       "      <td>Big Blue Bus Schedule</td>\n",
       "      <td>916</td>\n",
       "    </tr>\n",
       "    <tr>\n",
       "      <th>2</th>\n",
       "      <td>Culver City Schedule</td>\n",
       "      <td>431</td>\n",
       "    </tr>\n",
       "    <tr>\n",
       "      <th>3</th>\n",
       "      <td>OCTA Schedule</td>\n",
       "      <td>5317</td>\n",
       "    </tr>\n",
       "    <tr>\n",
       "      <th>4</th>\n",
       "      <td>OmniTrans Schedule</td>\n",
       "      <td>2277</td>\n",
       "    </tr>\n",
       "    <tr>\n",
       "      <th>5</th>\n",
       "      <td>San Diego Schedule</td>\n",
       "      <td>4226</td>\n",
       "    </tr>\n",
       "  </tbody>\n",
       "</table>\n",
       "</div>"
      ],
      "text/plain": [
       "                    name  stop_id\n",
       "0      Alhambra Schedule       80\n",
       "1  Big Blue Bus Schedule      916\n",
       "2   Culver City Schedule      431\n",
       "3          OCTA Schedule     5317\n",
       "4     OmniTrans Schedule     2277\n",
       "5     San Diego Schedule     4226"
      ]
     },
     "execution_count": 30,
     "metadata": {},
     "output_type": "execute_result"
    }
   ],
   "source": [
    "stopid_op"
   ]
  },
  {
   "cell_type": "code",
   "execution_count": 31,
   "id": "f63a6b17-beeb-4006-b1a8-5da431c5602b",
   "metadata": {},
   "outputs": [
    {
     "data": {
      "text/html": [
       "<div>\n",
       "<style scoped>\n",
       "    .dataframe tbody tr th:only-of-type {\n",
       "        vertical-align: middle;\n",
       "    }\n",
       "\n",
       "    .dataframe tbody tr th {\n",
       "        vertical-align: top;\n",
       "    }\n",
       "\n",
       "    .dataframe thead th {\n",
       "        text-align: right;\n",
       "    }\n",
       "</style>\n",
       "<table border=\"1\" class=\"dataframe\">\n",
       "  <thead>\n",
       "    <tr style=\"text-align: right;\">\n",
       "      <th></th>\n",
       "      <th>name</th>\n",
       "      <th>stop_event_count</th>\n",
       "    </tr>\n",
       "  </thead>\n",
       "  <tbody>\n",
       "    <tr>\n",
       "      <th>0</th>\n",
       "      <td>Alhambra Schedule</td>\n",
       "      <td>671733</td>\n",
       "    </tr>\n",
       "    <tr>\n",
       "      <th>1</th>\n",
       "      <td>Big Blue Bus Schedule</td>\n",
       "      <td>4991199</td>\n",
       "    </tr>\n",
       "    <tr>\n",
       "      <th>2</th>\n",
       "      <td>Culver City Schedule</td>\n",
       "      <td>243002</td>\n",
       "    </tr>\n",
       "    <tr>\n",
       "      <th>3</th>\n",
       "      <td>OCTA Schedule</td>\n",
       "      <td>10432777</td>\n",
       "    </tr>\n",
       "    <tr>\n",
       "      <th>4</th>\n",
       "      <td>OmniTrans Schedule</td>\n",
       "      <td>4816748</td>\n",
       "    </tr>\n",
       "    <tr>\n",
       "      <th>5</th>\n",
       "      <td>San Diego Schedule</td>\n",
       "      <td>4461109</td>\n",
       "    </tr>\n",
       "  </tbody>\n",
       "</table>\n",
       "</div>"
      ],
      "text/plain": [
       "                    name  stop_event_count\n",
       "0      Alhambra Schedule            671733\n",
       "1  Big Blue Bus Schedule           4991199\n",
       "2   Culver City Schedule            243002\n",
       "3          OCTA Schedule          10432777\n",
       "4     OmniTrans Schedule           4816748\n",
       "5     San Diego Schedule           4461109"
      ]
     },
     "execution_count": 31,
     "metadata": {},
     "output_type": "execute_result"
    }
   ],
   "source": [
    "stopevent_op"
   ]
  },
  {
   "cell_type": "code",
   "execution_count": 32,
   "id": "b0dd6d9d-bb56-40a6-a6d3-9baf9cd9e0be",
   "metadata": {},
   "outputs": [],
   "source": [
    "#merge 2 df and add new column for average stop event by stop per county\n",
    "merge = pd.merge(stopevent_by_county, stopid_by_county, how = 'inner')"
   ]
  },
  {
   "cell_type": "code",
   "execution_count": 29,
   "id": "472f1b7b-b03a-4b64-a334-a40f055047b1",
   "metadata": {},
   "outputs": [
    {
     "data": {
      "text/html": [
       "<div>\n",
       "<style scoped>\n",
       "    .dataframe tbody tr th:only-of-type {\n",
       "        vertical-align: middle;\n",
       "    }\n",
       "\n",
       "    .dataframe tbody tr th {\n",
       "        vertical-align: top;\n",
       "    }\n",
       "\n",
       "    .dataframe thead th {\n",
       "        text-align: right;\n",
       "    }\n",
       "</style>\n",
       "<table border=\"1\" class=\"dataframe\">\n",
       "  <thead>\n",
       "    <tr style=\"text-align: right;\">\n",
       "      <th></th>\n",
       "      <th>COUNTY_NAME</th>\n",
       "      <th>stop_event_count</th>\n",
       "      <th>stop_id</th>\n",
       "      <th>stopevent/stopid</th>\n",
       "    </tr>\n",
       "  </thead>\n",
       "  <tbody>\n",
       "    <tr>\n",
       "      <th>0</th>\n",
       "      <td>Los Angeles</td>\n",
       "      <td>6164462</td>\n",
       "      <td>1295</td>\n",
       "      <td>4760.202317</td>\n",
       "    </tr>\n",
       "    <tr>\n",
       "      <th>1</th>\n",
       "      <td>Orange</td>\n",
       "      <td>10237791</td>\n",
       "      <td>5221</td>\n",
       "      <td>1960.886995</td>\n",
       "    </tr>\n",
       "    <tr>\n",
       "      <th>2</th>\n",
       "      <td>Riverside</td>\n",
       "      <td>11212</td>\n",
       "      <td>4</td>\n",
       "      <td>2803.000000</td>\n",
       "    </tr>\n",
       "    <tr>\n",
       "      <th>3</th>\n",
       "      <td>San Bernardino</td>\n",
       "      <td>4741994</td>\n",
       "      <td>2257</td>\n",
       "      <td>2101.016393</td>\n",
       "    </tr>\n",
       "    <tr>\n",
       "      <th>4</th>\n",
       "      <td>San Diego</td>\n",
       "      <td>4461109</td>\n",
       "      <td>4226</td>\n",
       "      <td>1055.633933</td>\n",
       "    </tr>\n",
       "  </tbody>\n",
       "</table>\n",
       "</div>"
      ],
      "text/plain": [
       "      COUNTY_NAME  stop_event_count  stop_id  stopevent/stopid\n",
       "0     Los Angeles           6164462     1295       4760.202317\n",
       "1          Orange          10237791     5221       1960.886995\n",
       "2       Riverside             11212        4       2803.000000\n",
       "3  San Bernardino           4741994     2257       2101.016393\n",
       "4       San Diego           4461109     4226       1055.633933"
      ]
     },
     "execution_count": 29,
     "metadata": {},
     "output_type": "execute_result"
    }
   ],
   "source": [
    "#brain is fried, not sure what the numbers mean but it works with no errors.\n",
    "\n",
    "merge['stopevent/stopid'] = merge.stop_event_count/merge.stop_id\n",
    "merge"
   ]
  },
  {
   "cell_type": "markdown",
   "id": "533611ec-f316-4459-9237-476e5fcbfee0",
   "metadata": {},
   "source": [
    "### Visualizations\n",
    "* Make one chart for comparing trips per stop by operators, and another chart for comparing it by counties. Use a function to do this.\n",
    "* Make 1 map for comparing trips per stop by counties. Use `gdf.explore()` to do this.\n",
    "* Visualizations should follow the Cal-ITP style guide: [styleguide example notebook](https://github.com/cal-itp/data-analyses/blob/main/example_report/style-guide-examples.ipynb)\n",
    "* More on `folium` and `ipyleaflet`: https://github.com/jorisvandenbossche/geopandas-tutorial/blob/master/05-more-on-visualization.ipynb"
   ]
  },
  {
   "cell_type": "code",
   "execution_count": 36,
   "id": "d5e97084-a9cd-4aa0-a59c-fb5f49f231e1",
   "metadata": {},
   "outputs": [
    {
     "data": {
      "text/html": [
       "<div>\n",
       "<style scoped>\n",
       "    .dataframe tbody tr th:only-of-type {\n",
       "        vertical-align: middle;\n",
       "    }\n",
       "\n",
       "    .dataframe tbody tr th {\n",
       "        vertical-align: top;\n",
       "    }\n",
       "\n",
       "    .dataframe thead th {\n",
       "        text-align: right;\n",
       "    }\n",
       "</style>\n",
       "<table border=\"1\" class=\"dataframe\">\n",
       "  <thead>\n",
       "    <tr style=\"text-align: right;\">\n",
       "      <th></th>\n",
       "      <th>feed_key</th>\n",
       "      <th>stop_id</th>\n",
       "      <th>geometry</th>\n",
       "    </tr>\n",
       "  </thead>\n",
       "  <tbody>\n",
       "    <tr>\n",
       "      <th>0</th>\n",
       "      <td>d76560b3dfecce2d588023bf1d1c4c2d</td>\n",
       "      <td>2619811</td>\n",
       "      <td>POINT (-118.12516 34.09329)</td>\n",
       "    </tr>\n",
       "    <tr>\n",
       "      <th>1</th>\n",
       "      <td>d76560b3dfecce2d588023bf1d1c4c2d</td>\n",
       "      <td>2619815</td>\n",
       "      <td>POINT (-118.12714 34.09095)</td>\n",
       "    </tr>\n",
       "    <tr>\n",
       "      <th>2</th>\n",
       "      <td>d76560b3dfecce2d588023bf1d1c4c2d</td>\n",
       "      <td>2619819</td>\n",
       "      <td>POINT (-118.12918 34.09000)</td>\n",
       "    </tr>\n",
       "    <tr>\n",
       "      <th>3</th>\n",
       "      <td>d76560b3dfecce2d588023bf1d1c4c2d</td>\n",
       "      <td>2619822</td>\n",
       "      <td>POINT (-118.13417 34.08761)</td>\n",
       "    </tr>\n",
       "    <tr>\n",
       "      <th>4</th>\n",
       "      <td>d76560b3dfecce2d588023bf1d1c4c2d</td>\n",
       "      <td>2619833</td>\n",
       "      <td>POINT (-118.14516 34.08748)</td>\n",
       "    </tr>\n",
       "  </tbody>\n",
       "</table>\n",
       "</div>"
      ],
      "text/plain": [
       "                           feed_key  stop_id                     geometry\n",
       "0  d76560b3dfecce2d588023bf1d1c4c2d  2619811  POINT (-118.12516 34.09329)\n",
       "1  d76560b3dfecce2d588023bf1d1c4c2d  2619815  POINT (-118.12714 34.09095)\n",
       "2  d76560b3dfecce2d588023bf1d1c4c2d  2619819  POINT (-118.12918 34.09000)\n",
       "3  d76560b3dfecce2d588023bf1d1c4c2d  2619822  POINT (-118.13417 34.08761)\n",
       "4  d76560b3dfecce2d588023bf1d1c4c2d  2619833  POINT (-118.14516 34.08748)"
      ]
     },
     "execution_count": 36,
     "metadata": {},
     "output_type": "execute_result"
    }
   ],
   "source": [
    "stops.head()\n"
   ]
  },
  {
   "cell_type": "code",
   "execution_count": 38,
   "id": "557c9c25-480d-4c87-bc5a-d13ffc67b78d",
   "metadata": {},
   "outputs": [
    {
     "data": {
      "text/html": [
       "<div>\n",
       "<style scoped>\n",
       "    .dataframe tbody tr th:only-of-type {\n",
       "        vertical-align: middle;\n",
       "    }\n",
       "\n",
       "    .dataframe tbody tr th {\n",
       "        vertical-align: top;\n",
       "    }\n",
       "\n",
       "    .dataframe thead th {\n",
       "        text-align: right;\n",
       "    }\n",
       "</style>\n",
       "<table border=\"1\" class=\"dataframe\">\n",
       "  <thead>\n",
       "    <tr style=\"text-align: right;\">\n",
       "      <th></th>\n",
       "      <th>feed_key</th>\n",
       "      <th>stop_id</th>\n",
       "      <th>geometry</th>\n",
       "      <th>stop_event_count</th>\n",
       "      <th>name</th>\n",
       "    </tr>\n",
       "  </thead>\n",
       "  <tbody>\n",
       "    <tr>\n",
       "      <th>0</th>\n",
       "      <td>d76560b3dfecce2d588023bf1d1c4c2d</td>\n",
       "      <td>2619811</td>\n",
       "      <td>POINT (6523774.224 1856354.299)</td>\n",
       "      <td>17</td>\n",
       "      <td>Alhambra Schedule</td>\n",
       "    </tr>\n",
       "    <tr>\n",
       "      <th>1</th>\n",
       "      <td>d76560b3dfecce2d588023bf1d1c4c2d</td>\n",
       "      <td>2619811</td>\n",
       "      <td>POINT (6523774.224 1856354.299)</td>\n",
       "      <td>17</td>\n",
       "      <td>Alhambra Schedule</td>\n",
       "    </tr>\n",
       "    <tr>\n",
       "      <th>2</th>\n",
       "      <td>d76560b3dfecce2d588023bf1d1c4c2d</td>\n",
       "      <td>2619811</td>\n",
       "      <td>POINT (6523774.224 1856354.299)</td>\n",
       "      <td>17</td>\n",
       "      <td>Alhambra Schedule</td>\n",
       "    </tr>\n",
       "    <tr>\n",
       "      <th>3</th>\n",
       "      <td>d76560b3dfecce2d588023bf1d1c4c2d</td>\n",
       "      <td>2619811</td>\n",
       "      <td>POINT (6523774.224 1856354.299)</td>\n",
       "      <td>17</td>\n",
       "      <td>Alhambra Schedule</td>\n",
       "    </tr>\n",
       "    <tr>\n",
       "      <th>4</th>\n",
       "      <td>d76560b3dfecce2d588023bf1d1c4c2d</td>\n",
       "      <td>2619811</td>\n",
       "      <td>POINT (6523774.224 1856354.299)</td>\n",
       "      <td>17</td>\n",
       "      <td>Alhambra Schedule</td>\n",
       "    </tr>\n",
       "  </tbody>\n",
       "</table>\n",
       "</div>"
      ],
      "text/plain": [
       "                           feed_key  stop_id                         geometry  \\\n",
       "0  d76560b3dfecce2d588023bf1d1c4c2d  2619811  POINT (6523774.224 1856354.299)   \n",
       "1  d76560b3dfecce2d588023bf1d1c4c2d  2619811  POINT (6523774.224 1856354.299)   \n",
       "2  d76560b3dfecce2d588023bf1d1c4c2d  2619811  POINT (6523774.224 1856354.299)   \n",
       "3  d76560b3dfecce2d588023bf1d1c4c2d  2619811  POINT (6523774.224 1856354.299)   \n",
       "4  d76560b3dfecce2d588023bf1d1c4c2d  2619811  POINT (6523774.224 1856354.299)   \n",
       "\n",
       "   stop_event_count               name  \n",
       "0                17  Alhambra Schedule  \n",
       "1                17  Alhambra Schedule  \n",
       "2                17  Alhambra Schedule  \n",
       "3                17  Alhambra Schedule  \n",
       "4                17  Alhambra Schedule  "
      ]
     },
     "execution_count": 38,
     "metadata": {},
     "output_type": "execute_result"
    }
   ],
   "source": [
    "stops_and_counts2229.head()"
   ]
  },
  {
   "cell_type": "code",
   "execution_count": 43,
   "id": "17cc4bdb-894d-4bc4-9254-c33130342b44",
   "metadata": {},
   "outputs": [
    {
     "data": {
      "text/html": [
       "<div style=\"width:100%;\"><div style=\"position:relative;width:100%;height:0;padding-bottom:60%;\"><span style=\"color:#565656\">Make this Notebook Trusted to load map: File -> Trust Notebook</span><iframe src=\"about:blank\" style=\"position:absolute;width:100%;height:100%;left:0;top:0;border:none !important;\" data-html=%3C%21DOCTYPE%20html%3E%0A%3Chead%3E%20%20%20%20%0A%20%20%20%20%3Cmeta%20http-equiv%3D%22content-type%22%20content%3D%22text/html%3B%20charset%3DUTF-8%22%20/%3E%0A%20%20%20%20%0A%20%20%20%20%20%20%20%20%3Cscript%3E%0A%20%20%20%20%20%20%20%20%20%20%20%20L_NO_TOUCH%20%3D%20false%3B%0A%20%20%20%20%20%20%20%20%20%20%20%20L_DISABLE_3D%20%3D%20false%3B%0A%20%20%20%20%20%20%20%20%3C/script%3E%0A%20%20%20%20%0A%20%20%20%20%3Cstyle%3Ehtml%2C%20body%20%7Bwidth%3A%20100%25%3Bheight%3A%20100%25%3Bmargin%3A%200%3Bpadding%3A%200%3B%7D%3C/style%3E%0A%20%20%20%20%3Cstyle%3E%23map%20%7Bposition%3Aabsolute%3Btop%3A0%3Bbottom%3A0%3Bright%3A0%3Bleft%3A0%3B%7D%3C/style%3E%0A%20%20%20%20%3Cscript%20src%3D%22https%3A//cdn.jsdelivr.net/npm/leaflet%401.6.0/dist/leaflet.js%22%3E%3C/script%3E%0A%20%20%20%20%3Cscript%20src%3D%22https%3A//code.jquery.com/jquery-1.12.4.min.js%22%3E%3C/script%3E%0A%20%20%20%20%3Cscript%20src%3D%22https%3A//maxcdn.bootstrapcdn.com/bootstrap/3.2.0/js/bootstrap.min.js%22%3E%3C/script%3E%0A%20%20%20%20%3Cscript%20src%3D%22https%3A//cdnjs.cloudflare.com/ajax/libs/Leaflet.awesome-markers/2.0.2/leaflet.awesome-markers.js%22%3E%3C/script%3E%0A%20%20%20%20%3Clink%20rel%3D%22stylesheet%22%20href%3D%22https%3A//cdn.jsdelivr.net/npm/leaflet%401.6.0/dist/leaflet.css%22/%3E%0A%20%20%20%20%3Clink%20rel%3D%22stylesheet%22%20href%3D%22https%3A//maxcdn.bootstrapcdn.com/bootstrap/3.2.0/css/bootstrap.min.css%22/%3E%0A%20%20%20%20%3Clink%20rel%3D%22stylesheet%22%20href%3D%22https%3A//maxcdn.bootstrapcdn.com/bootstrap/3.2.0/css/bootstrap-theme.min.css%22/%3E%0A%20%20%20%20%3Clink%20rel%3D%22stylesheet%22%20href%3D%22https%3A//maxcdn.bootstrapcdn.com/font-awesome/4.6.3/css/font-awesome.min.css%22/%3E%0A%20%20%20%20%3Clink%20rel%3D%22stylesheet%22%20href%3D%22https%3A//cdnjs.cloudflare.com/ajax/libs/Leaflet.awesome-markers/2.0.2/leaflet.awesome-markers.css%22/%3E%0A%20%20%20%20%3Clink%20rel%3D%22stylesheet%22%20href%3D%22https%3A//cdn.jsdelivr.net/gh/python-visualization/folium/folium/templates/leaflet.awesome.rotate.min.css%22/%3E%0A%20%20%20%20%0A%20%20%20%20%20%20%20%20%20%20%20%20%3Cmeta%20name%3D%22viewport%22%20content%3D%22width%3Ddevice-width%2C%0A%20%20%20%20%20%20%20%20%20%20%20%20%20%20%20%20initial-scale%3D1.0%2C%20maximum-scale%3D1.0%2C%20user-scalable%3Dno%22%20/%3E%0A%20%20%20%20%20%20%20%20%20%20%20%20%3Cstyle%3E%0A%20%20%20%20%20%20%20%20%20%20%20%20%20%20%20%20%23map_eb7be5753cf540399874e13fb6319498%20%7B%0A%20%20%20%20%20%20%20%20%20%20%20%20%20%20%20%20%20%20%20%20position%3A%20relative%3B%0A%20%20%20%20%20%20%20%20%20%20%20%20%20%20%20%20%20%20%20%20width%3A%20100.0%25%3B%0A%20%20%20%20%20%20%20%20%20%20%20%20%20%20%20%20%20%20%20%20height%3A%20100.0%25%3B%0A%20%20%20%20%20%20%20%20%20%20%20%20%20%20%20%20%20%20%20%20left%3A%200.0%25%3B%0A%20%20%20%20%20%20%20%20%20%20%20%20%20%20%20%20%20%20%20%20top%3A%200.0%25%3B%0A%20%20%20%20%20%20%20%20%20%20%20%20%20%20%20%20%7D%0A%20%20%20%20%20%20%20%20%20%20%20%20%3C/style%3E%0A%20%20%20%20%20%20%20%20%0A%20%20%20%20%0A%20%20%20%20%20%20%20%20%20%20%20%20%20%20%20%20%20%20%20%20%3Cstyle%3E%0A%20%20%20%20%20%20%20%20%20%20%20%20%20%20%20%20%20%20%20%20%20%20%20%20.foliumtooltip%20%7B%0A%20%20%20%20%20%20%20%20%20%20%20%20%20%20%20%20%20%20%20%20%20%20%20%20%20%20%20%20%0A%20%20%20%20%20%20%20%20%20%20%20%20%20%20%20%20%20%20%20%20%20%20%20%20%7D%0A%20%20%20%20%20%20%20%20%20%20%20%20%20%20%20%20%20%20%20%20%20%20%20.foliumtooltip%20table%7B%0A%20%20%20%20%20%20%20%20%20%20%20%20%20%20%20%20%20%20%20%20%20%20%20%20%20%20%20%20margin%3A%20auto%3B%0A%20%20%20%20%20%20%20%20%20%20%20%20%20%20%20%20%20%20%20%20%20%20%20%20%7D%0A%20%20%20%20%20%20%20%20%20%20%20%20%20%20%20%20%20%20%20%20%20%20%20%20.foliumtooltip%20tr%7B%0A%20%20%20%20%20%20%20%20%20%20%20%20%20%20%20%20%20%20%20%20%20%20%20%20%20%20%20%20text-align%3A%20left%3B%0A%20%20%20%20%20%20%20%20%20%20%20%20%20%20%20%20%20%20%20%20%20%20%20%20%7D%0A%20%20%20%20%20%20%20%20%20%20%20%20%20%20%20%20%20%20%20%20%20%20%20%20.foliumtooltip%20th%7B%0A%20%20%20%20%20%20%20%20%20%20%20%20%20%20%20%20%20%20%20%20%20%20%20%20%20%20%20%20padding%3A%202px%3B%20padding-right%3A%208px%3B%0A%20%20%20%20%20%20%20%20%20%20%20%20%20%20%20%20%20%20%20%20%20%20%20%20%7D%0A%20%20%20%20%20%20%20%20%20%20%20%20%20%20%20%20%20%20%20%20%3C/style%3E%0A%20%20%20%20%20%20%20%20%20%20%20%20%0A%3C/head%3E%0A%3Cbody%3E%20%20%20%20%0A%20%20%20%20%0A%20%20%20%20%20%20%20%20%20%20%20%20%3Cdiv%20class%3D%22folium-map%22%20id%3D%22map_eb7be5753cf540399874e13fb6319498%22%20%3E%3C/div%3E%0A%20%20%20%20%20%20%20%20%0A%3C/body%3E%0A%3Cscript%3E%20%20%20%20%0A%20%20%20%20%0A%20%20%20%20%20%20%20%20%20%20%20%20var%20map_eb7be5753cf540399874e13fb6319498%20%3D%20L.map%28%0A%20%20%20%20%20%20%20%20%20%20%20%20%20%20%20%20%22map_eb7be5753cf540399874e13fb6319498%22%2C%0A%20%20%20%20%20%20%20%20%20%20%20%20%20%20%20%20%7B%0A%20%20%20%20%20%20%20%20%20%20%20%20%20%20%20%20%20%20%20%20center%3A%20%5B34.0670221025%2C%20-118.32086826950001%5D%2C%0A%20%20%20%20%20%20%20%20%20%20%20%20%20%20%20%20%20%20%20%20crs%3A%20L.CRS.EPSG3857%2C%0A%20%20%20%20%20%20%20%20%20%20%20%20%20%20%20%20%20%20%20%20zoom%3A%2010%2C%0A%20%20%20%20%20%20%20%20%20%20%20%20%20%20%20%20%20%20%20%20zoomControl%3A%20true%2C%0A%20%20%20%20%20%20%20%20%20%20%20%20%20%20%20%20%20%20%20%20preferCanvas%3A%20false%2C%0A%20%20%20%20%20%20%20%20%20%20%20%20%20%20%20%20%7D%0A%20%20%20%20%20%20%20%20%20%20%20%20%29%3B%0A%20%20%20%20%20%20%20%20%20%20%20%20L.control.scale%28%29.addTo%28map_eb7be5753cf540399874e13fb6319498%29%3B%0A%0A%20%20%20%20%20%20%20%20%20%20%20%20%0A%0A%20%20%20%20%20%20%20%20%0A%20%20%20%20%0A%20%20%20%20%20%20%20%20%20%20%20%20var%20tile_layer_27695c2bf1c24d6389b16cbda9dfb14a%20%3D%20L.tileLayer%28%0A%20%20%20%20%20%20%20%20%20%20%20%20%20%20%20%20%22https%3A//%7Bs%7D.tile.openstreetmap.org/%7Bz%7D/%7Bx%7D/%7By%7D.png%22%2C%0A%20%20%20%20%20%20%20%20%20%20%20%20%20%20%20%20%7B%22attribution%22%3A%20%22Data%20by%20%5Cu0026copy%3B%20%5Cu003ca%20href%3D%5C%22http%3A//openstreetmap.org%5C%22%5Cu003eOpenStreetMap%5Cu003c/a%5Cu003e%2C%20under%20%5Cu003ca%20href%3D%5C%22http%3A//www.openstreetmap.org/copyright%5C%22%5Cu003eODbL%5Cu003c/a%5Cu003e.%22%2C%20%22detectRetina%22%3A%20false%2C%20%22maxNativeZoom%22%3A%2018%2C%20%22maxZoom%22%3A%2018%2C%20%22minZoom%22%3A%200%2C%20%22noWrap%22%3A%20false%2C%20%22opacity%22%3A%201%2C%20%22subdomains%22%3A%20%22abc%22%2C%20%22tms%22%3A%20false%7D%0A%20%20%20%20%20%20%20%20%20%20%20%20%29.addTo%28map_eb7be5753cf540399874e13fb6319498%29%3B%0A%20%20%20%20%20%20%20%20%0A%20%20%20%20%0A%20%20%20%20%20%20%20%20%20%20%20%20map_eb7be5753cf540399874e13fb6319498.fitBounds%28%0A%20%20%20%20%20%20%20%20%20%20%20%20%20%20%20%20%5B%5B34.03496%2C%20-118.530506%5D%2C%20%5B34.099084205%2C%20-118.111230539%5D%5D%2C%0A%20%20%20%20%20%20%20%20%20%20%20%20%20%20%20%20%7B%7D%0A%20%20%20%20%20%20%20%20%20%20%20%20%29%3B%0A%20%20%20%20%20%20%20%20%0A%20%20%20%20%0A%20%20%20%20%20%20%20%20function%20geo_json_03c1720b35ef4548a79dd633492553a3_styler%28feature%29%20%7B%0A%20%20%20%20%20%20%20%20%20%20%20%20switch%28feature.id%29%20%7B%0A%20%20%20%20%20%20%20%20%20%20%20%20%20%20%20%20default%3A%0A%20%20%20%20%20%20%20%20%20%20%20%20%20%20%20%20%20%20%20%20return%20%7B%22fillOpacity%22%3A%200.5%2C%20%22weight%22%3A%202%7D%3B%0A%20%20%20%20%20%20%20%20%20%20%20%20%7D%0A%20%20%20%20%20%20%20%20%7D%0A%20%20%20%20%20%20%20%20function%20geo_json_03c1720b35ef4548a79dd633492553a3_highlighter%28feature%29%20%7B%0A%20%20%20%20%20%20%20%20%20%20%20%20switch%28feature.id%29%20%7B%0A%20%20%20%20%20%20%20%20%20%20%20%20%20%20%20%20default%3A%0A%20%20%20%20%20%20%20%20%20%20%20%20%20%20%20%20%20%20%20%20return%20%7B%22fillOpacity%22%3A%200.75%7D%3B%0A%20%20%20%20%20%20%20%20%20%20%20%20%7D%0A%20%20%20%20%20%20%20%20%7D%0A%20%20%20%20%20%20%20%20function%20geo_json_03c1720b35ef4548a79dd633492553a3_pointToLayer%28feature%2C%20latlng%29%20%7B%0A%20%20%20%20%20%20%20%20%20%20%20%20var%20opts%20%3D%20%7B%22bubblingMouseEvents%22%3A%20true%2C%20%22color%22%3A%20%22%233388ff%22%2C%20%22dashArray%22%3A%20null%2C%20%22dashOffset%22%3A%20null%2C%20%22fill%22%3A%20true%2C%20%22fillColor%22%3A%20%22%233388ff%22%2C%20%22fillOpacity%22%3A%200.2%2C%20%22fillRule%22%3A%20%22evenodd%22%2C%20%22lineCap%22%3A%20%22round%22%2C%20%22lineJoin%22%3A%20%22round%22%2C%20%22opacity%22%3A%201.0%2C%20%22radius%22%3A%202%2C%20%22stroke%22%3A%20true%2C%20%22weight%22%3A%203%7D%3B%0A%20%20%20%20%20%20%20%20%20%20%20%20%0A%20%20%20%20%20%20%20%20%20%20%20%20let%20style%20%3D%20geo_json_03c1720b35ef4548a79dd633492553a3_styler%28feature%29%0A%20%20%20%20%20%20%20%20%20%20%20%20Object.assign%28opts%2C%20style%29%0A%20%20%20%20%20%20%20%20%20%20%20%20%0A%20%20%20%20%20%20%20%20%20%20%20%20return%20new%20L.CircleMarker%28latlng%2C%20opts%29%0A%20%20%20%20%20%20%20%20%7D%0A%0A%20%20%20%20%20%20%20%20function%20geo_json_03c1720b35ef4548a79dd633492553a3_onEachFeature%28feature%2C%20layer%29%20%7B%0A%20%20%20%20%20%20%20%20%20%20%20%20layer.on%28%7B%0A%20%20%20%20%20%20%20%20%20%20%20%20%20%20%20%20mouseout%3A%20function%28e%29%20%7B%0A%20%20%20%20%20%20%20%20%20%20%20%20%20%20%20%20%20%20%20%20if%28typeof%20e.target.setStyle%20%3D%3D%3D%20%22function%22%29%7B%0A%20%20%20%20%20%20%20%20%20%20%20%20%20%20%20%20%20%20%20%20%20%20%20%20geo_json_03c1720b35ef4548a79dd633492553a3.resetStyle%28e.target%29%3B%0A%20%20%20%20%20%20%20%20%20%20%20%20%20%20%20%20%20%20%20%20%7D%0A%20%20%20%20%20%20%20%20%20%20%20%20%20%20%20%20%7D%2C%0A%20%20%20%20%20%20%20%20%20%20%20%20%20%20%20%20mouseover%3A%20function%28e%29%20%7B%0A%20%20%20%20%20%20%20%20%20%20%20%20%20%20%20%20%20%20%20%20if%28typeof%20e.target.setStyle%20%3D%3D%3D%20%22function%22%29%7B%0A%20%20%20%20%20%20%20%20%20%20%20%20%20%20%20%20%20%20%20%20%20%20%20%20const%20highlightStyle%20%3D%20geo_json_03c1720b35ef4548a79dd633492553a3_highlighter%28e.target.feature%29%0A%20%20%20%20%20%20%20%20%20%20%20%20%20%20%20%20%20%20%20%20%20%20%20%20e.target.setStyle%28highlightStyle%29%3B%0A%20%20%20%20%20%20%20%20%20%20%20%20%20%20%20%20%20%20%20%20%7D%0A%20%20%20%20%20%20%20%20%20%20%20%20%20%20%20%20%7D%2C%0A%20%20%20%20%20%20%20%20%20%20%20%20%7D%29%3B%0A%20%20%20%20%20%20%20%20%7D%3B%0A%20%20%20%20%20%20%20%20var%20geo_json_03c1720b35ef4548a79dd633492553a3%20%3D%20L.geoJson%28null%2C%20%7B%0A%20%20%20%20%20%20%20%20%20%20%20%20%20%20%20%20onEachFeature%3A%20geo_json_03c1720b35ef4548a79dd633492553a3_onEachFeature%2C%0A%20%20%20%20%20%20%20%20%20%20%20%20%0A%20%20%20%20%20%20%20%20%20%20%20%20%20%20%20%20style%3A%20geo_json_03c1720b35ef4548a79dd633492553a3_styler%2C%0A%20%20%20%20%20%20%20%20%20%20%20%20%20%20%20%20pointToLayer%3A%20geo_json_03c1720b35ef4548a79dd633492553a3_pointToLayer%0A%20%20%20%20%20%20%20%20%7D%29%3B%0A%0A%20%20%20%20%20%20%20%20function%20geo_json_03c1720b35ef4548a79dd633492553a3_add%20%28data%29%20%7B%0A%20%20%20%20%20%20%20%20%20%20%20%20geo_json_03c1720b35ef4548a79dd633492553a3%0A%20%20%20%20%20%20%20%20%20%20%20%20%20%20%20%20.addData%28data%29%0A%20%20%20%20%20%20%20%20%20%20%20%20%20%20%20%20.addTo%28map_eb7be5753cf540399874e13fb6319498%29%3B%0A%20%20%20%20%20%20%20%20%7D%0A%20%20%20%20%20%20%20%20%20%20%20%20geo_json_03c1720b35ef4548a79dd633492553a3_add%28%7B%22bbox%22%3A%20%5B-118.530506%2C%2034.03496%2C%20-118.111230539%2C%2034.099084205%5D%2C%20%22features%22%3A%20%5B%7B%22bbox%22%3A%20%5B-118.125155252%2C%2034.093285893%2C%20-118.125155252%2C%2034.093285893%5D%2C%20%22geometry%22%3A%20%7B%22coordinates%22%3A%20%5B-118.125155252%2C%2034.093285893%5D%2C%20%22type%22%3A%20%22Point%22%7D%2C%20%22id%22%3A%20%220%22%2C%20%22properties%22%3A%20%7B%22feed_key%22%3A%20%22d76560b3dfecce2d588023bf1d1c4c2d%22%2C%20%22stop_id%22%3A%20%222619811%22%7D%2C%20%22type%22%3A%20%22Feature%22%7D%2C%20%7B%22bbox%22%3A%20%5B-118.127137283%2C%2034.090953642%2C%20-118.127137283%2C%2034.090953642%5D%2C%20%22geometry%22%3A%20%7B%22coordinates%22%3A%20%5B-118.127137283%2C%2034.090953642%5D%2C%20%22type%22%3A%20%22Point%22%7D%2C%20%22id%22%3A%20%221%22%2C%20%22properties%22%3A%20%7B%22feed_key%22%3A%20%22d76560b3dfecce2d588023bf1d1c4c2d%22%2C%20%22stop_id%22%3A%20%222619815%22%7D%2C%20%22type%22%3A%20%22Feature%22%7D%2C%20%7B%22bbox%22%3A%20%5B-118.129182621%2C%2034.089998203%2C%20-118.129182621%2C%2034.089998203%5D%2C%20%22geometry%22%3A%20%7B%22coordinates%22%3A%20%5B-118.129182621%2C%2034.089998203%5D%2C%20%22type%22%3A%20%22Point%22%7D%2C%20%22id%22%3A%20%222%22%2C%20%22properties%22%3A%20%7B%22feed_key%22%3A%20%22d76560b3dfecce2d588023bf1d1c4c2d%22%2C%20%22stop_id%22%3A%20%222619819%22%7D%2C%20%22type%22%3A%20%22Feature%22%7D%2C%20%7B%22bbox%22%3A%20%5B-118.134170625%2C%2034.087614196%2C%20-118.134170625%2C%2034.087614196%5D%2C%20%22geometry%22%3A%20%7B%22coordinates%22%3A%20%5B-118.134170625%2C%2034.087614196%5D%2C%20%22type%22%3A%20%22Point%22%7D%2C%20%22id%22%3A%20%223%22%2C%20%22properties%22%3A%20%7B%22feed_key%22%3A%20%22d76560b3dfecce2d588023bf1d1c4c2d%22%2C%20%22stop_id%22%3A%20%222619822%22%7D%2C%20%22type%22%3A%20%22Feature%22%7D%2C%20%7B%22bbox%22%3A%20%5B-118.145162117%2C%2034.087479533%2C%20-118.145162117%2C%2034.087479533%5D%2C%20%22geometry%22%3A%20%7B%22coordinates%22%3A%20%5B-118.145162117%2C%2034.087479533%5D%2C%20%22type%22%3A%20%22Point%22%7D%2C%20%22id%22%3A%20%224%22%2C%20%22properties%22%3A%20%7B%22feed_key%22%3A%20%22d76560b3dfecce2d588023bf1d1c4c2d%22%2C%20%22stop_id%22%3A%20%222619833%22%7D%2C%20%22type%22%3A%20%22Feature%22%7D%2C%20%7B%22bbox%22%3A%20%5B-118.14224367%2C%2034.087495316%2C%20-118.14224367%2C%2034.087495316%5D%2C%20%22geometry%22%3A%20%7B%22coordinates%22%3A%20%5B-118.14224367%2C%2034.087495316%5D%2C%20%22type%22%3A%20%22Point%22%7D%2C%20%22id%22%3A%20%225%22%2C%20%22properties%22%3A%20%7B%22feed_key%22%3A%20%22d76560b3dfecce2d588023bf1d1c4c2d%22%2C%20%22stop_id%22%3A%20%222619835%22%7D%2C%20%22type%22%3A%20%22Feature%22%7D%2C%20%7B%22bbox%22%3A%20%5B-118.151683916%2C%2034.070040547%2C%20-118.151683916%2C%2034.070040547%5D%2C%20%22geometry%22%3A%20%7B%22coordinates%22%3A%20%5B-118.151683916%2C%2034.070040547%5D%2C%20%22type%22%3A%20%22Point%22%7D%2C%20%22id%22%3A%20%226%22%2C%20%22properties%22%3A%20%7B%22feed_key%22%3A%20%22d76560b3dfecce2d588023bf1d1c4c2d%22%2C%20%22stop_id%22%3A%20%222619863%22%7D%2C%20%22type%22%3A%20%22Feature%22%7D%2C%20%7B%22bbox%22%3A%20%5B-118.158034128%2C%2034.069569924%2C%20-118.158034128%2C%2034.069569924%5D%2C%20%22geometry%22%3A%20%7B%22coordinates%22%3A%20%5B-118.158034128%2C%2034.069569924%5D%2C%20%22type%22%3A%20%22Point%22%7D%2C%20%22id%22%3A%20%227%22%2C%20%22properties%22%3A%20%7B%22feed_key%22%3A%20%22d76560b3dfecce2d588023bf1d1c4c2d%22%2C%20%22stop_id%22%3A%20%222619865%22%7D%2C%20%22type%22%3A%20%22Feature%22%7D%2C%20%7B%22bbox%22%3A%20%5B-118.168216699%2C%2034.071580929%2C%20-118.168216699%2C%2034.071580929%5D%2C%20%22geometry%22%3A%20%7B%22coordinates%22%3A%20%5B-118.168216699%2C%2034.071580929%5D%2C%20%22type%22%3A%20%22Point%22%7D%2C%20%22id%22%3A%20%228%22%2C%20%22properties%22%3A%20%7B%22feed_key%22%3A%20%22d76560b3dfecce2d588023bf1d1c4c2d%22%2C%20%22stop_id%22%3A%20%222619868%22%7D%2C%20%22type%22%3A%20%22Feature%22%7D%2C%20%7B%22bbox%22%3A%20%5B-118.172612658%2C%2034.065157973%2C%20-118.172612658%2C%2034.065157973%5D%2C%20%22geometry%22%3A%20%7B%22coordinates%22%3A%20%5B-118.172612658%2C%2034.065157973%5D%2C%20%22type%22%3A%20%22Point%22%7D%2C%20%22id%22%3A%20%229%22%2C%20%22properties%22%3A%20%7B%22feed_key%22%3A%20%22d76560b3dfecce2d588023bf1d1c4c2d%22%2C%20%22stop_id%22%3A%20%222619870%22%7D%2C%20%22type%22%3A%20%22Feature%22%7D%2C%20%7B%22bbox%22%3A%20%5B-118.125291311%2C%2034.099084205%2C%20-118.125291311%2C%2034.099084205%5D%2C%20%22geometry%22%3A%20%7B%22coordinates%22%3A%20%5B-118.125291311%2C%2034.099084205%5D%2C%20%22type%22%3A%20%22Point%22%7D%2C%20%22id%22%3A%20%2210%22%2C%20%22properties%22%3A%20%7B%22feed_key%22%3A%20%22d76560b3dfecce2d588023bf1d1c4c2d%22%2C%20%22stop_id%22%3A%20%222619802%22%7D%2C%20%22type%22%3A%20%22Feature%22%7D%2C%20%7B%22bbox%22%3A%20%5B-118.128243413%2C%2034.097897781%2C%20-118.128243413%2C%2034.097897781%5D%2C%20%22geometry%22%3A%20%7B%22coordinates%22%3A%20%5B-118.128243413%2C%2034.097897781%5D%2C%20%22type%22%3A%20%22Point%22%7D%2C%20%22id%22%3A%20%2211%22%2C%20%22properties%22%3A%20%7B%22feed_key%22%3A%20%22d76560b3dfecce2d588023bf1d1c4c2d%22%2C%20%22stop_id%22%3A%20%222619804%22%7D%2C%20%22type%22%3A%20%22Feature%22%7D%2C%20%7B%22bbox%22%3A%20%5B-118.127051076%2C%2034.095295354%2C%20-118.127051076%2C%2034.095295354%5D%2C%20%22geometry%22%3A%20%7B%22coordinates%22%3A%20%5B-118.127051076%2C%2034.095295354%5D%2C%20%22type%22%3A%20%22Point%22%7D%2C%20%22id%22%3A%20%2212%22%2C%20%22properties%22%3A%20%7B%22feed_key%22%3A%20%22d76560b3dfecce2d588023bf1d1c4c2d%22%2C%20%22stop_id%22%3A%20%222619807%22%7D%2C%20%22type%22%3A%20%22Feature%22%7D%2C%20%7B%22bbox%22%3A%20%5B-118.125459034%2C%2034.092990982%2C%20-118.125459034%2C%2034.092990982%5D%2C%20%22geometry%22%3A%20%7B%22coordinates%22%3A%20%5B-118.125459034%2C%2034.092990982%5D%2C%20%22type%22%3A%20%22Point%22%7D%2C%20%22id%22%3A%20%2213%22%2C%20%22properties%22%3A%20%7B%22feed_key%22%3A%20%22d76560b3dfecce2d588023bf1d1c4c2d%22%2C%20%22stop_id%22%3A%20%222619812%22%7D%2C%20%22type%22%3A%20%22Feature%22%7D%2C%20%7B%22bbox%22%3A%20%5B-118.126634609%2C%2034.091344634%2C%20-118.126634609%2C%2034.091344634%5D%2C%20%22geometry%22%3A%20%7B%22coordinates%22%3A%20%5B-118.126634609%2C%2034.091344634%5D%2C%20%22type%22%3A%20%22Point%22%7D%2C%20%22id%22%3A%20%2214%22%2C%20%22properties%22%3A%20%7B%22feed_key%22%3A%20%22d76560b3dfecce2d588023bf1d1c4c2d%22%2C%20%22stop_id%22%3A%20%222619816%22%7D%2C%20%22type%22%3A%20%22Feature%22%7D%2C%20%7B%22bbox%22%3A%20%5B-118.128878342%2C%2034.090297978%2C%20-118.128878342%2C%2034.090297978%5D%2C%20%22geometry%22%3A%20%7B%22coordinates%22%3A%20%5B-118.128878342%2C%2034.090297978%5D%2C%20%22type%22%3A%20%22Point%22%7D%2C%20%22id%22%3A%20%2215%22%2C%20%22properties%22%3A%20%7B%22feed_key%22%3A%20%22d76560b3dfecce2d588023bf1d1c4c2d%22%2C%20%22stop_id%22%3A%20%222619820%22%7D%2C%20%22type%22%3A%20%22Feature%22%7D%2C%20%7B%22bbox%22%3A%20%5B-118.135527851%2C%2034.087530886%2C%20-118.135527851%2C%2034.087530886%5D%2C%20%22geometry%22%3A%20%7B%22coordinates%22%3A%20%5B-118.135527851%2C%2034.087530886%5D%2C%20%22type%22%3A%20%22Point%22%7D%2C%20%22id%22%3A%20%2216%22%2C%20%22properties%22%3A%20%7B%22feed_key%22%3A%20%22d76560b3dfecce2d588023bf1d1c4c2d%22%2C%20%22stop_id%22%3A%20%222619821%22%7D%2C%20%22type%22%3A%20%22Feature%22%7D%2C%20%7B%22bbox%22%3A%20%5B-118.144726659%2C%2034.087639129%2C%20-118.144726659%2C%2034.087639129%5D%2C%20%22geometry%22%3A%20%7B%22coordinates%22%3A%20%5B-118.144726659%2C%2034.087639129%5D%2C%20%22type%22%3A%20%22Point%22%7D%2C%20%22id%22%3A%20%2217%22%2C%20%22properties%22%3A%20%7B%22feed_key%22%3A%20%22d76560b3dfecce2d588023bf1d1c4c2d%22%2C%20%22stop_id%22%3A%20%222619834%22%7D%2C%20%22type%22%3A%20%22Feature%22%7D%2C%20%7B%22bbox%22%3A%20%5B-118.141787398%2C%2034.08764092%2C%20-118.141787398%2C%2034.08764092%5D%2C%20%22geometry%22%3A%20%7B%22coordinates%22%3A%20%5B-118.141787398%2C%2034.08764092%5D%2C%20%22type%22%3A%20%22Point%22%7D%2C%20%22id%22%3A%20%2218%22%2C%20%22properties%22%3A%20%7B%22feed_key%22%3A%20%22d76560b3dfecce2d588023bf1d1c4c2d%22%2C%20%22stop_id%22%3A%20%222619836%22%7D%2C%20%22type%22%3A%20%22Feature%22%7D%2C%20%7B%22bbox%22%3A%20%5B-118.151981576%2C%2034.076510622%2C%20-118.151981576%2C%2034.076510622%5D%2C%20%22geometry%22%3A%20%7B%22coordinates%22%3A%20%5B-118.151981576%2C%2034.076510622%5D%2C%20%22type%22%3A%20%22Point%22%7D%2C%20%22id%22%3A%20%2219%22%2C%20%22properties%22%3A%20%7B%22feed_key%22%3A%20%22d76560b3dfecce2d588023bf1d1c4c2d%22%2C%20%22stop_id%22%3A%20%222619845%22%7D%2C%20%22type%22%3A%20%22Feature%22%7D%2C%20%7B%22bbox%22%3A%20%5B-118.151894773%2C%2034.069843895%2C%20-118.151894773%2C%2034.069843895%5D%2C%20%22geometry%22%3A%20%7B%22coordinates%22%3A%20%5B-118.151894773%2C%2034.069843895%5D%2C%20%22type%22%3A%20%22Point%22%7D%2C%20%22id%22%3A%20%2220%22%2C%20%22properties%22%3A%20%7B%22feed_key%22%3A%20%22d76560b3dfecce2d588023bf1d1c4c2d%22%2C%20%22stop_id%22%3A%20%222619862%22%7D%2C%20%22type%22%3A%20%22Feature%22%7D%2C%20%7B%22bbox%22%3A%20%5B-118.157784989%2C%2034.069727428%2C%20-118.157784989%2C%2034.069727428%5D%2C%20%22geometry%22%3A%20%7B%22coordinates%22%3A%20%5B-118.157784989%2C%2034.069727428%5D%2C%20%22type%22%3A%20%22Point%22%7D%2C%20%22id%22%3A%20%2221%22%2C%20%22properties%22%3A%20%7B%22feed_key%22%3A%20%22d76560b3dfecce2d588023bf1d1c4c2d%22%2C%20%22stop_id%22%3A%20%222619864%22%7D%2C%20%22type%22%3A%20%22Feature%22%7D%2C%20%7B%22bbox%22%3A%20%5B-118.167880627%2C%2034.071784566%2C%20-118.167880627%2C%2034.071784566%5D%2C%20%22geometry%22%3A%20%7B%22coordinates%22%3A%20%5B-118.167880627%2C%2034.071784566%5D%2C%20%22type%22%3A%20%22Point%22%7D%2C%20%22id%22%3A%20%2222%22%2C%20%22properties%22%3A%20%7B%22feed_key%22%3A%20%22d76560b3dfecce2d588023bf1d1c4c2d%22%2C%20%22stop_id%22%3A%20%222619866%22%7D%2C%20%22type%22%3A%20%22Feature%22%7D%2C%20%7B%22bbox%22%3A%20%5B-118.172849994%2C%2034.065090512%2C%20-118.172849994%2C%2034.065090512%5D%2C%20%22geometry%22%3A%20%7B%22coordinates%22%3A%20%5B-118.172849994%2C%2034.065090512%5D%2C%20%22type%22%3A%20%22Point%22%7D%2C%20%22id%22%3A%20%2223%22%2C%20%22properties%22%3A%20%7B%22feed_key%22%3A%20%22d76560b3dfecce2d588023bf1d1c4c2d%22%2C%20%22stop_id%22%3A%20%222619871%22%7D%2C%20%22type%22%3A%20%22Feature%22%7D%2C%20%7B%22bbox%22%3A%20%5B-118.117346014%2C%2034.079011097%2C%20-118.117346014%2C%2034.079011097%5D%2C%20%22geometry%22%3A%20%7B%22coordinates%22%3A%20%5B-118.117346014%2C%2034.079011097%5D%2C%20%22type%22%3A%20%22Point%22%7D%2C%20%22id%22%3A%20%2224%22%2C%20%22properties%22%3A%20%7B%22feed_key%22%3A%20%22d76560b3dfecce2d588023bf1d1c4c2d%22%2C%20%22stop_id%22%3A%20%222619783%22%7D%2C%20%22type%22%3A%20%22Feature%22%7D%2C%20%7B%22bbox%22%3A%20%5B-118.114294125%2C%2034.080834853%2C%20-118.114294125%2C%2034.080834853%5D%2C%20%22geometry%22%3A%20%7B%22coordinates%22%3A%20%5B-118.114294125%2C%2034.080834853%5D%2C%20%22type%22%3A%20%22Point%22%7D%2C%20%22id%22%3A%20%2225%22%2C%20%22properties%22%3A%20%7B%22feed_key%22%3A%20%22d76560b3dfecce2d588023bf1d1c4c2d%22%2C%20%22stop_id%22%3A%20%222619785%22%7D%2C%20%22type%22%3A%20%22Feature%22%7D%2C%20%7B%22bbox%22%3A%20%5B-118.116862733%2C%2034.085540227%2C%20-118.116862733%2C%2034.085540227%5D%2C%20%22geometry%22%3A%20%7B%22coordinates%22%3A%20%5B-118.116862733%2C%2034.085540227%5D%2C%20%22type%22%3A%20%22Point%22%7D%2C%20%22id%22%3A%20%2226%22%2C%20%22properties%22%3A%20%7B%22feed_key%22%3A%20%22d76560b3dfecce2d588023bf1d1c4c2d%22%2C%20%22stop_id%22%3A%20%222619787%22%7D%2C%20%22type%22%3A%20%22Feature%22%7D%2C%20%7B%22bbox%22%3A%20%5B-118.117051769%2C%2034.08587394%2C%20-118.117051769%2C%2034.08587394%5D%2C%20%22geometry%22%3A%20%7B%22coordinates%22%3A%20%5B-118.117051769%2C%2034.08587394%5D%2C%20%22type%22%3A%20%22Point%22%7D%2C%20%22id%22%3A%20%2227%22%2C%20%22properties%22%3A%20%7B%22feed_key%22%3A%20%22d76560b3dfecce2d588023bf1d1c4c2d%22%2C%20%22stop_id%22%3A%20%222619788%22%7D%2C%20%22type%22%3A%20%22Feature%22%7D%2C%20%7B%22bbox%22%3A%20%5B-118.113869209%2C%2034.080976853%2C%20-118.113869209%2C%2034.080976853%5D%2C%20%22geometry%22%3A%20%7B%22coordinates%22%3A%20%5B-118.113869209%2C%2034.080976853%5D%2C%20%22type%22%3A%20%22Point%22%7D%2C%20%22id%22%3A%20%2228%22%2C%20%22properties%22%3A%20%7B%22feed_key%22%3A%20%22d76560b3dfecce2d588023bf1d1c4c2d%22%2C%20%22stop_id%22%3A%20%222619789%22%7D%2C%20%22type%22%3A%20%22Feature%22%7D%2C%20%7B%22bbox%22%3A%20%5B-118.116573645%2C%2034.07880207%2C%20-118.116573645%2C%2034.07880207%5D%2C%20%22geometry%22%3A%20%7B%22coordinates%22%3A%20%5B-118.116573645%2C%2034.07880207%5D%2C%20%22type%22%3A%20%22Point%22%7D%2C%20%22id%22%3A%20%2229%22%2C%20%22properties%22%3A%20%7B%22feed_key%22%3A%20%22d76560b3dfecce2d588023bf1d1c4c2d%22%2C%20%22stop_id%22%3A%20%222619793%22%7D%2C%20%22type%22%3A%20%22Feature%22%7D%2C%20%7B%22bbox%22%3A%20%5B-118.116897574%2C%2034.090264102%2C%20-118.116897574%2C%2034.090264102%5D%2C%20%22geometry%22%3A%20%7B%22coordinates%22%3A%20%5B-118.116897574%2C%2034.090264102%5D%2C%20%22type%22%3A%20%22Point%22%7D%2C%20%22id%22%3A%20%2230%22%2C%20%22properties%22%3A%20%7B%22feed_key%22%3A%20%22d76560b3dfecce2d588023bf1d1c4c2d%22%2C%20%22stop_id%22%3A%20%222619794%22%7D%2C%20%22type%22%3A%20%22Feature%22%7D%2C%20%7B%22bbox%22%3A%20%5B-118.117098598%2C%2034.090339385%2C%20-118.117098598%2C%2034.090339385%5D%2C%20%22geometry%22%3A%20%7B%22coordinates%22%3A%20%5B-118.117098598%2C%2034.090339385%5D%2C%20%22type%22%3A%20%22Point%22%7D%2C%20%22id%22%3A%20%2231%22%2C%20%22properties%22%3A%20%7B%22feed_key%22%3A%20%22d76560b3dfecce2d588023bf1d1c4c2d%22%2C%20%22stop_id%22%3A%20%222619796%22%7D%2C%20%22type%22%3A%20%22Feature%22%7D%2C%20%7B%22bbox%22%3A%20%5B-118.123892879%2C%2034.096454223%2C%20-118.123892879%2C%2034.096454223%5D%2C%20%22geometry%22%3A%20%7B%22coordinates%22%3A%20%5B-118.123892879%2C%2034.096454223%5D%2C%20%22type%22%3A%20%22Point%22%7D%2C%20%22id%22%3A%20%2232%22%2C%20%22properties%22%3A%20%7B%22feed_key%22%3A%20%22d76560b3dfecce2d588023bf1d1c4c2d%22%2C%20%22stop_id%22%3A%20%222619801%22%7D%2C%20%22type%22%3A%20%22Feature%22%7D%2C%20%7B%22bbox%22%3A%20%5B-118.122451892%2C%2034.094750475%2C%20-118.122451892%2C%2034.094750475%5D%2C%20%22geometry%22%3A%20%7B%22coordinates%22%3A%20%5B-118.122451892%2C%2034.094750475%5D%2C%20%22type%22%3A%20%22Point%22%7D%2C%20%22id%22%3A%20%2233%22%2C%20%22properties%22%3A%20%7B%22feed_key%22%3A%20%22d76560b3dfecce2d588023bf1d1c4c2d%22%2C%20%22stop_id%22%3A%20%222619808%22%7D%2C%20%22type%22%3A%20%22Feature%22%7D%2C%20%7B%22bbox%22%3A%20%5B-118.124045194%2C%2034.09658387%2C%20-118.124045194%2C%2034.09658387%5D%2C%20%22geometry%22%3A%20%7B%22coordinates%22%3A%20%5B-118.124045194%2C%2034.09658387%5D%2C%20%22type%22%3A%20%22Point%22%7D%2C%20%22id%22%3A%20%2234%22%2C%20%22properties%22%3A%20%7B%22feed_key%22%3A%20%22d76560b3dfecce2d588023bf1d1c4c2d%22%2C%20%22stop_id%22%3A%20%222619810%22%7D%2C%20%22type%22%3A%20%22Feature%22%7D%2C%20%7B%22bbox%22%3A%20%5B-118.129249401%2C%2034.094162713%2C%20-118.129249401%2C%2034.094162713%5D%2C%20%22geometry%22%3A%20%7B%22coordinates%22%3A%20%5B-118.129249401%2C%2034.094162713%5D%2C%20%22type%22%3A%20%22Point%22%7D%2C%20%22id%22%3A%20%2235%22%2C%20%22properties%22%3A%20%7B%22feed_key%22%3A%20%22d76560b3dfecce2d588023bf1d1c4c2d%22%2C%20%22stop_id%22%3A%20%222619813%22%7D%2C%20%22type%22%3A%20%22Feature%22%7D%2C%20%7B%22bbox%22%3A%20%5B-118.128655945%2C%2034.09421061%2C%20-118.128655945%2C%2034.09421061%5D%2C%20%22geometry%22%3A%20%7B%22coordinates%22%3A%20%5B-118.128655945%2C%2034.09421061%5D%2C%20%22type%22%3A%20%22Point%22%7D%2C%20%22id%22%3A%20%2236%22%2C%20%22properties%22%3A%20%7B%22feed_key%22%3A%20%22d76560b3dfecce2d588023bf1d1c4c2d%22%2C%20%22stop_id%22%3A%20%222619814%22%7D%2C%20%22type%22%3A%20%22Feature%22%7D%2C%20%7B%22bbox%22%3A%20%5B-118.132458784%2C%2034.092658268%2C%20-118.132458784%2C%2034.092658268%5D%2C%20%22geometry%22%3A%20%7B%22coordinates%22%3A%20%5B-118.132458784%2C%2034.092658268%5D%2C%20%22type%22%3A%20%22Point%22%7D%2C%20%22id%22%3A%20%2237%22%2C%20%22properties%22%3A%20%7B%22feed_key%22%3A%20%22d76560b3dfecce2d588023bf1d1c4c2d%22%2C%20%22stop_id%22%3A%20%222619817%22%7D%2C%20%22type%22%3A%20%22Feature%22%7D%2C%20%7B%22bbox%22%3A%20%5B-118.131917775%2C%2034.092699685%2C%20-118.131917775%2C%2034.092699685%5D%2C%20%22geometry%22%3A%20%7B%22coordinates%22%3A%20%5B-118.131917775%2C%2034.092699685%5D%2C%20%22type%22%3A%20%22Point%22%7D%2C%20%22id%22%3A%20%2238%22%2C%20%22properties%22%3A%20%7B%22feed_key%22%3A%20%22d76560b3dfecce2d588023bf1d1c4c2d%22%2C%20%22stop_id%22%3A%20%222619818%22%7D%2C%20%22type%22%3A%20%22Feature%22%7D%2C%20%7B%22bbox%22%3A%20%5B-118.135038004%2C%2034.091675297%2C%20-118.135038004%2C%2034.091675297%5D%2C%20%22geometry%22%3A%20%7B%22coordinates%22%3A%20%5B-118.135038004%2C%2034.091675297%5D%2C%20%22type%22%3A%20%22Point%22%7D%2C%20%22id%22%3A%20%2239%22%2C%20%22properties%22%3A%20%7B%22feed_key%22%3A%20%22d76560b3dfecce2d588023bf1d1c4c2d%22%2C%20%22stop_id%22%3A%20%222619823%22%7D%2C%20%22type%22%3A%20%22Feature%22%7D%2C%20%7B%22bbox%22%3A%20%5B-118.134109398%2C%2034.091648195%2C%20-118.134109398%2C%2034.091648195%5D%2C%20%22geometry%22%3A%20%7B%22coordinates%22%3A%20%5B-118.134109398%2C%2034.091648195%5D%2C%20%22type%22%3A%20%22Point%22%7D%2C%20%22id%22%3A%20%2240%22%2C%20%22properties%22%3A%20%7B%22feed_key%22%3A%20%22d76560b3dfecce2d588023bf1d1c4c2d%22%2C%20%22stop_id%22%3A%20%222619824%22%7D%2C%20%22type%22%3A%20%22Feature%22%7D%2C%20%7B%22bbox%22%3A%20%5B-118.141868241%2C%2034.091625073%2C%20-118.141868241%2C%2034.091625073%5D%2C%20%22geometry%22%3A%20%7B%22coordinates%22%3A%20%5B-118.141868241%2C%2034.091625073%5D%2C%20%22type%22%3A%20%22Point%22%7D%2C%20%22id%22%3A%20%2241%22%2C%20%22properties%22%3A%20%7B%22feed_key%22%3A%20%22d76560b3dfecce2d588023bf1d1c4c2d%22%2C%20%22stop_id%22%3A%20%222619825%22%7D%2C%20%22type%22%3A%20%22Feature%22%7D%2C%20%7B%22bbox%22%3A%20%5B-118.142393318%2C%2034.091423804%2C%20-118.142393318%2C%2034.091423804%5D%2C%20%22geometry%22%3A%20%7B%22coordinates%22%3A%20%5B-118.142393318%2C%2034.091423804%5D%2C%20%22type%22%3A%20%22Point%22%7D%2C%20%22id%22%3A%20%2242%22%2C%20%22properties%22%3A%20%7B%22feed_key%22%3A%20%22d76560b3dfecce2d588023bf1d1c4c2d%22%2C%20%22stop_id%22%3A%20%222619826%22%7D%2C%20%22type%22%3A%20%22Feature%22%7D%2C%20%7B%22bbox%22%3A%20%5B-118.138137666%2C%2034.091659383%2C%20-118.138137666%2C%2034.091659383%5D%2C%20%22geometry%22%3A%20%7B%22coordinates%22%3A%20%5B-118.138137666%2C%2034.091659383%5D%2C%20%22type%22%3A%20%22Point%22%7D%2C%20%22id%22%3A%20%2243%22%2C%20%22properties%22%3A%20%7B%22feed_key%22%3A%20%22d76560b3dfecce2d588023bf1d1c4c2d%22%2C%20%22stop_id%22%3A%20%222619827%22%7D%2C%20%22type%22%3A%20%22Feature%22%7D%2C%20%7B%22bbox%22%3A%20%5B-118.138561876%2C%2034.091439813%2C%20-118.138561876%2C%2034.091439813%5D%2C%20%22geometry%22%3A%20%7B%22coordinates%22%3A%20%5B-118.138561876%2C%2034.091439813%5D%2C%20%22type%22%3A%20%22Point%22%7D%2C%20%22id%22%3A%20%2244%22%2C%20%22properties%22%3A%20%7B%22feed_key%22%3A%20%22d76560b3dfecce2d588023bf1d1c4c2d%22%2C%20%22stop_id%22%3A%20%222619828%22%7D%2C%20%22type%22%3A%20%22Feature%22%7D%2C%20%7B%22bbox%22%3A%20%5B-118.144133735%2C%2034.09160881%2C%20-118.144133735%2C%2034.09160881%5D%2C%20%22geometry%22%3A%20%7B%22coordinates%22%3A%20%5B-118.144133735%2C%2034.09160881%5D%2C%20%22type%22%3A%20%22Point%22%7D%2C%20%22id%22%3A%20%2245%22%2C%20%22properties%22%3A%20%7B%22feed_key%22%3A%20%22d76560b3dfecce2d588023bf1d1c4c2d%22%2C%20%22stop_id%22%3A%20%222619829%22%7D%2C%20%22type%22%3A%20%22Feature%22%7D%2C%20%7B%22bbox%22%3A%20%5B-118.144860387%2C%2034.091403239%2C%20-118.144860387%2C%2034.091403239%5D%2C%20%22geometry%22%3A%20%7B%22coordinates%22%3A%20%5B-118.144860387%2C%2034.091403239%5D%2C%20%22type%22%3A%20%22Point%22%7D%2C%20%22id%22%3A%20%2246%22%2C%20%22properties%22%3A%20%7B%22feed_key%22%3A%20%22d76560b3dfecce2d588023bf1d1c4c2d%22%2C%20%22stop_id%22%3A%20%222619830%22%7D%2C%20%22type%22%3A%20%22Feature%22%7D%2C%20%7B%22bbox%22%3A%20%5B-118.146428857%2C%2034.088095074%2C%20-118.146428857%2C%2034.088095074%5D%2C%20%22geometry%22%3A%20%7B%22coordinates%22%3A%20%5B-118.146428857%2C%2034.088095074%5D%2C%20%22type%22%3A%20%22Point%22%7D%2C%20%22id%22%3A%20%2247%22%2C%20%22properties%22%3A%20%7B%22feed_key%22%3A%20%22d76560b3dfecce2d588023bf1d1c4c2d%22%2C%20%22stop_id%22%3A%20%222619831%22%7D%2C%20%22type%22%3A%20%22Feature%22%7D%2C%20%7B%22bbox%22%3A%20%5B-118.14672843%2C%2034.088146619%2C%20-118.14672843%2C%2034.088146619%5D%2C%20%22geometry%22%3A%20%7B%22coordinates%22%3A%20%5B-118.14672843%2C%2034.088146619%5D%2C%20%22type%22%3A%20%22Point%22%7D%2C%20%22id%22%3A%20%2248%22%2C%20%22properties%22%3A%20%7B%22feed_key%22%3A%20%22d76560b3dfecce2d588023bf1d1c4c2d%22%2C%20%22stop_id%22%3A%20%222619832%22%7D%2C%20%22type%22%3A%20%22Feature%22%7D%2C%20%7B%22bbox%22%3A%20%5B-118.151059895%2C%2034.076832367%2C%20-118.151059895%2C%2034.076832367%5D%2C%20%22geometry%22%3A%20%7B%22coordinates%22%3A%20%5B-118.151059895%2C%2034.076832367%5D%2C%20%22type%22%3A%20%22Point%22%7D%2C%20%22id%22%3A%20%2249%22%2C%20%22properties%22%3A%20%7B%22feed_key%22%3A%20%22d76560b3dfecce2d588023bf1d1c4c2d%22%2C%20%22stop_id%22%3A%20%222619844%22%7D%2C%20%22type%22%3A%20%22Feature%22%7D%2C%20%7B%22bbox%22%3A%20%5B-118.148346441%2C%2034.076995018%2C%20-118.148346441%2C%2034.076995018%5D%2C%20%22geometry%22%3A%20%7B%22coordinates%22%3A%20%5B-118.148346441%2C%2034.076995018%5D%2C%20%22type%22%3A%20%22Point%22%7D%2C%20%22id%22%3A%20%2250%22%2C%20%22properties%22%3A%20%7B%22feed_key%22%3A%20%22d76560b3dfecce2d588023bf1d1c4c2d%22%2C%20%22stop_id%22%3A%20%222619846%22%7D%2C%20%22type%22%3A%20%22Feature%22%7D%2C%20%7B%22bbox%22%3A%20%5B-118.149047122%2C%2034.07717698%2C%20-118.149047122%2C%2034.07717698%5D%2C%20%22geometry%22%3A%20%7B%22coordinates%22%3A%20%5B-118.149047122%2C%2034.07717698%5D%2C%20%22type%22%3A%20%22Point%22%7D%2C%20%22id%22%3A%20%2251%22%2C%20%22properties%22%3A%20%7B%22feed_key%22%3A%20%22d76560b3dfecce2d588023bf1d1c4c2d%22%2C%20%22stop_id%22%3A%20%222619847%22%7D%2C%20%22type%22%3A%20%22Feature%22%7D%2C%20%7B%22bbox%22%3A%20%5B-118.145152293%2C%2034.077181484%2C%20-118.145152293%2C%2034.077181484%5D%2C%20%22geometry%22%3A%20%7B%22coordinates%22%3A%20%5B-118.145152293%2C%2034.077181484%5D%2C%20%22type%22%3A%20%22Point%22%7D%2C%20%22id%22%3A%20%2252%22%2C%20%22properties%22%3A%20%7B%22feed_key%22%3A%20%22d76560b3dfecce2d588023bf1d1c4c2d%22%2C%20%22stop_id%22%3A%20%222619848%22%7D%2C%20%22type%22%3A%20%22Feature%22%7D%2C%20%7B%22bbox%22%3A%20%5B-118.145759313%2C%2034.077372709%2C%20-118.145759313%2C%2034.077372709%5D%2C%20%22geometry%22%3A%20%7B%22coordinates%22%3A%20%5B-118.145759313%2C%2034.077372709%5D%2C%20%22type%22%3A%20%22Point%22%7D%2C%20%22id%22%3A%20%2253%22%2C%20%22properties%22%3A%20%7B%22feed_key%22%3A%20%22d76560b3dfecce2d588023bf1d1c4c2d%22%2C%20%22stop_id%22%3A%20%222619849%22%7D%2C%20%22type%22%3A%20%22Feature%22%7D%2C%20%7B%22bbox%22%3A%20%5B-118.141541123%2C%2034.077374096%2C%20-118.141541123%2C%2034.077374096%5D%2C%20%22geometry%22%3A%20%7B%22coordinates%22%3A%20%5B-118.141541123%2C%2034.077374096%5D%2C%20%22type%22%3A%20%22Point%22%7D%2C%20%22id%22%3A%20%2254%22%2C%20%22properties%22%3A%20%7B%22feed_key%22%3A%20%22d76560b3dfecce2d588023bf1d1c4c2d%22%2C%20%22stop_id%22%3A%20%222619850%22%7D%2C%20%22type%22%3A%20%22Feature%22%7D%2C%20%7B%22bbox%22%3A%20%5B-118.14210471%2C%2034.077599619%2C%20-118.14210471%2C%2034.077599619%5D%2C%20%22geometry%22%3A%20%7B%22coordinates%22%3A%20%5B-118.14210471%2C%2034.077599619%5D%2C%20%22type%22%3A%20%22Point%22%7D%2C%20%22id%22%3A%20%2255%22%2C%20%22properties%22%3A%20%7B%22feed_key%22%3A%20%22d76560b3dfecce2d588023bf1d1c4c2d%22%2C%20%22stop_id%22%3A%20%222619851%22%7D%2C%20%22type%22%3A%20%22Feature%22%7D%2C%20%7B%22bbox%22%3A%20%5B-118.137902019%2C%2034.077600471%2C%20-118.137902019%2C%2034.077600471%5D%2C%20%22geometry%22%3A%20%7B%22coordinates%22%3A%20%5B-118.137902019%2C%2034.077600471%5D%2C%20%22type%22%3A%20%22Point%22%7D%2C%20%22id%22%3A%20%2256%22%2C%20%22properties%22%3A%20%7B%22feed_key%22%3A%20%22d76560b3dfecce2d588023bf1d1c4c2d%22%2C%20%22stop_id%22%3A%20%222619852%22%7D%2C%20%22type%22%3A%20%22Feature%22%7D%2C%20%7B%22bbox%22%3A%20%5B-118.138420945%2C%2034.077809416%2C%20-118.138420945%2C%2034.077809416%5D%2C%20%22geometry%22%3A%20%7B%22coordinates%22%3A%20%5B-118.138420945%2C%2034.077809416%5D%2C%20%22type%22%3A%20%22Point%22%7D%2C%20%22id%22%3A%20%2257%22%2C%20%22properties%22%3A%20%7B%22feed_key%22%3A%20%22d76560b3dfecce2d588023bf1d1c4c2d%22%2C%20%22stop_id%22%3A%20%222619853%22%7D%2C%20%22type%22%3A%20%22Feature%22%7D%2C%20%7B%22bbox%22%3A%20%5B-118.13484643%2C%2034.078021992%2C%20-118.13484643%2C%2034.078021992%5D%2C%20%22geometry%22%3A%20%7B%22coordinates%22%3A%20%5B-118.13484643%2C%2034.078021992%5D%2C%20%22type%22%3A%20%22Point%22%7D%2C%20%22id%22%3A%20%2258%22%2C%20%22properties%22%3A%20%7B%22feed_key%22%3A%20%22d76560b3dfecce2d588023bf1d1c4c2d%22%2C%20%22stop_id%22%3A%20%222619854%22%7D%2C%20%22type%22%3A%20%22Feature%22%7D%2C%20%7B%22bbox%22%3A%20%5B-118.134073626%2C%2034.077818412%2C%20-118.134073626%2C%2034.077818412%5D%2C%20%22geometry%22%3A%20%7B%22coordinates%22%3A%20%5B-118.134073626%2C%2034.077818412%5D%2C%20%22type%22%3A%20%22Point%22%7D%2C%20%22id%22%3A%20%2259%22%2C%20%22properties%22%3A%20%7B%22feed_key%22%3A%20%22d76560b3dfecce2d588023bf1d1c4c2d%22%2C%20%22stop_id%22%3A%20%222619855%22%7D%2C%20%22type%22%3A%20%22Feature%22%7D%2C%20%7B%22bbox%22%3A%20%5B-118.129071916%2C%2034.078116177%2C%20-118.129071916%2C%2034.078116177%5D%2C%20%22geometry%22%3A%20%7B%22coordinates%22%3A%20%5B-118.129071916%2C%2034.078116177%5D%2C%20%22type%22%3A%20%22Point%22%7D%2C%20%22id%22%3A%20%2260%22%2C%20%22properties%22%3A%20%7B%22feed_key%22%3A%20%22d76560b3dfecce2d588023bf1d1c4c2d%22%2C%20%22stop_id%22%3A%20%222619856%22%7D%2C%20%22type%22%3A%20%22Feature%22%7D%2C%20%7B%22bbox%22%3A%20%5B-118.129673876%2C%2034.078316249%2C%20-118.129673876%2C%2034.078316249%5D%2C%20%22geometry%22%3A%20%7B%22coordinates%22%3A%20%5B-118.129673876%2C%2034.078316249%5D%2C%20%22type%22%3A%20%22Point%22%7D%2C%20%22id%22%3A%20%2261%22%2C%20%22properties%22%3A%20%7B%22feed_key%22%3A%20%22d76560b3dfecce2d588023bf1d1c4c2d%22%2C%20%22stop_id%22%3A%20%222619857%22%7D%2C%20%22type%22%3A%20%22Feature%22%7D%2C%20%7B%22bbox%22%3A%20%5B-118.126523667%2C%2034.078268391%2C%20-118.126523667%2C%2034.078268391%5D%2C%20%22geometry%22%3A%20%7B%22coordinates%22%3A%20%5B-118.126523667%2C%2034.078268391%5D%2C%20%22type%22%3A%20%22Point%22%7D%2C%20%22id%22%3A%20%2262%22%2C%20%22properties%22%3A%20%7B%22feed_key%22%3A%20%22d76560b3dfecce2d588023bf1d1c4c2d%22%2C%20%22stop_id%22%3A%20%222619858%22%7D%2C%20%22type%22%3A%20%22Feature%22%7D%2C%20%7B%22bbox%22%3A%20%5B-118.127067973%2C%2034.07846109%2C%20-118.127067973%2C%2034.07846109%5D%2C%20%22geometry%22%3A%20%7B%22coordinates%22%3A%20%5B-118.127067973%2C%2034.07846109%5D%2C%20%22type%22%3A%20%22Point%22%7D%2C%20%22id%22%3A%20%2263%22%2C%20%22properties%22%3A%20%7B%22feed_key%22%3A%20%22d76560b3dfecce2d588023bf1d1c4c2d%22%2C%20%22stop_id%22%3A%20%222619859%22%7D%2C%20%22type%22%3A%20%22Feature%22%7D%2C%20%7B%22bbox%22%3A%20%5B-118.122700551%2C%2034.078479407%2C%20-118.122700551%2C%2034.078479407%5D%2C%20%22geometry%22%3A%20%7B%22coordinates%22%3A%20%5B-118.122700551%2C%2034.078479407%5D%2C%20%22type%22%3A%20%22Point%22%7D%2C%20%22id%22%3A%20%2264%22%2C%20%22properties%22%3A%20%7B%22feed_key%22%3A%20%22d76560b3dfecce2d588023bf1d1c4c2d%22%2C%20%22stop_id%22%3A%20%222619860%22%7D%2C%20%22type%22%3A%20%22Feature%22%7D%2C%20%7B%22bbox%22%3A%20%5B-118.123521683%2C%2034.078675176%2C%20-118.123521683%2C%2034.078675176%5D%2C%20%22geometry%22%3A%20%7B%22coordinates%22%3A%20%5B-118.123521683%2C%2034.078675176%5D%2C%20%22type%22%3A%20%22Point%22%7D%2C%20%22id%22%3A%20%2265%22%2C%20%22properties%22%3A%20%7B%22feed_key%22%3A%20%22d76560b3dfecce2d588023bf1d1c4c2d%22%2C%20%22stop_id%22%3A%20%222619861%22%7D%2C%20%22type%22%3A%20%22Feature%22%7D%2C%20%7B%22bbox%22%3A%20%5B-118.126425743%2C%2034.095270342%2C%20-118.126425743%2C%2034.095270342%5D%2C%20%22geometry%22%3A%20%7B%22coordinates%22%3A%20%5B-118.126425743%2C%2034.095270342%5D%2C%20%22type%22%3A%20%22Point%22%7D%2C%20%22id%22%3A%20%2266%22%2C%20%22properties%22%3A%20%7B%22feed_key%22%3A%20%22d76560b3dfecce2d588023bf1d1c4c2d%22%2C%20%22stop_id%22%3A%20%222619874%22%7D%2C%20%22type%22%3A%20%22Feature%22%7D%2C%20%7B%22bbox%22%3A%20%5B-118.127349073%2C%2034.095050274%2C%20-118.127349073%2C%2034.095050274%5D%2C%20%22geometry%22%3A%20%7B%22coordinates%22%3A%20%5B-118.127349073%2C%2034.095050274%5D%2C%20%22type%22%3A%20%22Point%22%7D%2C%20%22id%22%3A%20%2267%22%2C%20%22properties%22%3A%20%7B%22feed_key%22%3A%20%22d76560b3dfecce2d588023bf1d1c4c2d%22%2C%20%22stop_id%22%3A%20%222619875%22%7D%2C%20%22type%22%3A%20%22Feature%22%7D%2C%20%7B%22bbox%22%3A%20%5B-118.12337677%2C%2034.096357503%2C%20-118.12337677%2C%2034.096357503%5D%2C%20%22geometry%22%3A%20%7B%22coordinates%22%3A%20%5B-118.12337677%2C%2034.096357503%5D%2C%20%22type%22%3A%20%22Point%22%7D%2C%20%22id%22%3A%20%2268%22%2C%20%22properties%22%3A%20%7B%22feed_key%22%3A%20%22d76560b3dfecce2d588023bf1d1c4c2d%22%2C%20%22stop_id%22%3A%20%222619799%22%7D%2C%20%22type%22%3A%20%22Feature%22%7D%2C%20%7B%22bbox%22%3A%20%5B-118.168372671%2C%2034.063212326%2C%20-118.168372671%2C%2034.063212326%5D%2C%20%22geometry%22%3A%20%7B%22coordinates%22%3A%20%5B-118.168372671%2C%2034.063212326%5D%2C%20%22type%22%3A%20%22Point%22%7D%2C%20%22id%22%3A%20%2269%22%2C%20%22properties%22%3A%20%7B%22feed_key%22%3A%20%22d76560b3dfecce2d588023bf1d1c4c2d%22%2C%20%22stop_id%22%3A%20%222619869%22%7D%2C%20%22type%22%3A%20%22Feature%22%7D%2C%20%7B%22bbox%22%3A%20%5B-118.122320625%2C%2034.094847032%2C%20-118.122320625%2C%2034.094847032%5D%2C%20%22geometry%22%3A%20%7B%22coordinates%22%3A%20%5B-118.122320625%2C%2034.094847032%5D%2C%20%22type%22%3A%20%22Point%22%7D%2C%20%22id%22%3A%20%2270%22%2C%20%22properties%22%3A%20%7B%22feed_key%22%3A%20%22d76560b3dfecce2d588023bf1d1c4c2d%22%2C%20%22stop_id%22%3A%20%222619798%22%7D%2C%20%22type%22%3A%20%22Feature%22%7D%2C%20%7B%22bbox%22%3A%20%5B-118.151621749%2C%2034.087753061%2C%20-118.151621749%2C%2034.087753061%5D%2C%20%22geometry%22%3A%20%7B%22coordinates%22%3A%20%5B-118.151621749%2C%2034.087753061%5D%2C%20%22type%22%3A%20%22Point%22%7D%2C%20%22id%22%3A%20%2271%22%2C%20%22properties%22%3A%20%7B%22feed_key%22%3A%20%22d76560b3dfecce2d588023bf1d1c4c2d%22%2C%20%22stop_id%22%3A%20%222619837%22%7D%2C%20%22type%22%3A%20%22Feature%22%7D%2C%20%7B%22bbox%22%3A%20%5B-118.151805181%2C%2034.084324481%2C%20-118.151805181%2C%2034.084324481%5D%2C%20%22geometry%22%3A%20%7B%22coordinates%22%3A%20%5B-118.151805181%2C%2034.084324481%5D%2C%20%22type%22%3A%20%22Point%22%7D%2C%20%22id%22%3A%20%2272%22%2C%20%22properties%22%3A%20%7B%22feed_key%22%3A%20%22d76560b3dfecce2d588023bf1d1c4c2d%22%2C%20%22stop_id%22%3A%20%222619840%22%7D%2C%20%22type%22%3A%20%22Feature%22%7D%2C%20%7B%22bbox%22%3A%20%5B-118.151762819%2C%2034.080154473%2C%20-118.151762819%2C%2034.080154473%5D%2C%20%22geometry%22%3A%20%7B%22coordinates%22%3A%20%5B-118.151762819%2C%2034.080154473%5D%2C%20%22type%22%3A%20%22Point%22%7D%2C%20%22id%22%3A%20%2273%22%2C%20%22properties%22%3A%20%7B%22feed_key%22%3A%20%22d76560b3dfecce2d588023bf1d1c4c2d%22%2C%20%22stop_id%22%3A%20%222619841%22%7D%2C%20%22type%22%3A%20%22Feature%22%7D%2C%20%7B%22bbox%22%3A%20%5B-118.15175508%2C%2034.077460687%2C%20-118.15175508%2C%2034.077460687%5D%2C%20%22geometry%22%3A%20%7B%22coordinates%22%3A%20%5B-118.15175508%2C%2034.077460687%5D%2C%20%22type%22%3A%20%22Point%22%7D%2C%20%22id%22%3A%20%2274%22%2C%20%22properties%22%3A%20%7B%22feed_key%22%3A%20%22d76560b3dfecce2d588023bf1d1c4c2d%22%2C%20%22stop_id%22%3A%20%222619843%22%7D%2C%20%22type%22%3A%20%22Feature%22%7D%2C%20%7B%22bbox%22%3A%20%5B-118.152091236%2C%2034.087450162%2C%20-118.152091236%2C%2034.087450162%5D%2C%20%22geometry%22%3A%20%7B%22coordinates%22%3A%20%5B-118.152091236%2C%2034.087450162%5D%2C%20%22type%22%3A%20%22Point%22%7D%2C%20%22id%22%3A%20%2275%22%2C%20%22properties%22%3A%20%7B%22feed_key%22%3A%20%22d76560b3dfecce2d588023bf1d1c4c2d%22%2C%20%22stop_id%22%3A%20%222619838%22%7D%2C%20%22type%22%3A%20%22Feature%22%7D%2C%20%7B%22bbox%22%3A%20%5B-118.152046174%2C%2034.083768358%2C%20-118.152046174%2C%2034.083768358%5D%2C%20%22geometry%22%3A%20%7B%22coordinates%22%3A%20%5B-118.152046174%2C%2034.083768358%5D%2C%20%22type%22%3A%20%22Point%22%7D%2C%20%22id%22%3A%20%2276%22%2C%20%22properties%22%3A%20%7B%22feed_key%22%3A%20%22d76560b3dfecce2d588023bf1d1c4c2d%22%2C%20%22stop_id%22%3A%20%222619839%22%7D%2C%20%22type%22%3A%20%22Feature%22%7D%2C%20%7B%22bbox%22%3A%20%5B-118.152027734%2C%2034.079017855%2C%20-118.152027734%2C%2034.079017855%5D%2C%20%22geometry%22%3A%20%7B%22coordinates%22%3A%20%5B-118.152027734%2C%2034.079017855%5D%2C%20%22type%22%3A%20%22Point%22%7D%2C%20%22id%22%3A%20%2277%22%2C%20%22properties%22%3A%20%7B%22feed_key%22%3A%20%22d76560b3dfecce2d588023bf1d1c4c2d%22%2C%20%22stop_id%22%3A%20%222619842%22%7D%2C%20%22type%22%3A%20%22Feature%22%7D%2C%20%7B%22bbox%22%3A%20%5B-118.111601996%2C%2034.079281506%2C%20-118.111601996%2C%2034.079281506%5D%2C%20%22geometry%22%3A%20%7B%22coordinates%22%3A%20%5B-118.111601996%2C%2034.079281506%5D%2C%20%22type%22%3A%20%22Point%22%7D%2C%20%22id%22%3A%20%2278%22%2C%20%22properties%22%3A%20%7B%22feed_key%22%3A%20%22d76560b3dfecce2d588023bf1d1c4c2d%22%2C%20%22stop_id%22%3A%20%222619784%22%7D%2C%20%22type%22%3A%20%22Feature%22%7D%2C%20%7B%22bbox%22%3A%20%5B-118.111230539%2C%2034.079413052%2C%20-118.111230539%2C%2034.079413052%5D%2C%20%22geometry%22%3A%20%7B%22coordinates%22%3A%20%5B-118.111230539%2C%2034.079413052%5D%2C%20%22type%22%3A%20%22Point%22%7D%2C%20%22id%22%3A%20%2279%22%2C%20%22properties%22%3A%20%7B%22feed_key%22%3A%20%22d76560b3dfecce2d588023bf1d1c4c2d%22%2C%20%22stop_id%22%3A%20%222619792%22%7D%2C%20%22type%22%3A%20%22Feature%22%7D%2C%20%7B%22bbox%22%3A%20%5B-118.384115%2C%2034.051842%2C%20-118.384115%2C%2034.051842%5D%2C%20%22geometry%22%3A%20%7B%22coordinates%22%3A%20%5B-118.384115%2C%2034.051842%5D%2C%20%22type%22%3A%20%22Point%22%7D%2C%20%22id%22%3A%20%2280%22%2C%20%22properties%22%3A%20%7B%22feed_key%22%3A%20%22239e56d11510f71d7182a24c5621be8c%22%2C%20%22stop_id%22%3A%20%221017%22%7D%2C%20%22type%22%3A%20%22Feature%22%7D%2C%20%7B%22bbox%22%3A%20%5B-118.395443%2C%2034.052244%2C%20-118.395443%2C%2034.052244%5D%2C%20%22geometry%22%3A%20%7B%22coordinates%22%3A%20%5B-118.395443%2C%2034.052244%5D%2C%20%22type%22%3A%20%22Point%22%7D%2C%20%22id%22%3A%20%2281%22%2C%20%22properties%22%3A%20%7B%22feed_key%22%3A%20%22239e56d11510f71d7182a24c5621be8c%22%2C%20%22stop_id%22%3A%20%221061%22%7D%2C%20%22type%22%3A%20%22Feature%22%7D%2C%20%7B%22bbox%22%3A%20%5B-118.394992%2C%2034.049381%2C%20-118.394992%2C%2034.049381%5D%2C%20%22geometry%22%3A%20%7B%22coordinates%22%3A%20%5B-118.394992%2C%2034.049381%5D%2C%20%22type%22%3A%20%22Point%22%7D%2C%20%22id%22%3A%20%2282%22%2C%20%22properties%22%3A%20%7B%22feed_key%22%3A%20%22239e56d11510f71d7182a24c5621be8c%22%2C%20%22stop_id%22%3A%20%221089%22%7D%2C%20%22type%22%3A%20%22Feature%22%7D%2C%20%7B%22bbox%22%3A%20%5B-118.390768%2C%2034.048749%2C%20-118.390768%2C%2034.048749%5D%2C%20%22geometry%22%3A%20%7B%22coordinates%22%3A%20%5B-118.390768%2C%2034.048749%5D%2C%20%22type%22%3A%20%22Point%22%7D%2C%20%22id%22%3A%20%2283%22%2C%20%22properties%22%3A%20%7B%22feed_key%22%3A%20%22239e56d11510f71d7182a24c5621be8c%22%2C%20%22stop_id%22%3A%20%221090%22%7D%2C%20%22type%22%3A%20%22Feature%22%7D%2C%20%7B%22bbox%22%3A%20%5B-118.386643%2C%2034.048976%2C%20-118.386643%2C%2034.048976%5D%2C%20%22geometry%22%3A%20%7B%22coordinates%22%3A%20%5B-118.386643%2C%2034.048976%5D%2C%20%22type%22%3A%20%22Point%22%7D%2C%20%22id%22%3A%20%2284%22%2C%20%22properties%22%3A%20%7B%22feed_key%22%3A%20%22239e56d11510f71d7182a24c5621be8c%22%2C%20%22stop_id%22%3A%20%221092%22%7D%2C%20%22type%22%3A%20%22Feature%22%7D%2C%20%7B%22bbox%22%3A%20%5B-118.445555%2C%2034.06098%2C%20-118.445555%2C%2034.06098%5D%2C%20%22geometry%22%3A%20%7B%22coordinates%22%3A%20%5B-118.445555%2C%2034.06098%5D%2C%20%22type%22%3A%20%22Point%22%7D%2C%20%22id%22%3A%20%2285%22%2C%20%22properties%22%3A%20%7B%22feed_key%22%3A%20%22239e56d11510f71d7182a24c5621be8c%22%2C%20%22stop_id%22%3A%20%221607%22%7D%2C%20%22type%22%3A%20%22Feature%22%7D%2C%20%7B%22bbox%22%3A%20%5B-118.530184%2C%2034.046436%2C%20-118.530184%2C%2034.046436%5D%2C%20%22geometry%22%3A%20%7B%22coordinates%22%3A%20%5B-118.530184%2C%2034.046436%5D%2C%20%22type%22%3A%20%22Point%22%7D%2C%20%22id%22%3A%20%2286%22%2C%20%22properties%22%3A%20%7B%22feed_key%22%3A%20%22239e56d11510f71d7182a24c5621be8c%22%2C%20%22stop_id%22%3A%20%221650%22%7D%2C%20%22type%22%3A%20%22Feature%22%7D%2C%20%7B%22bbox%22%3A%20%5B-118.530506%2C%2034.046424%2C%20-118.530506%2C%2034.046424%5D%2C%20%22geometry%22%3A%20%7B%22coordinates%22%3A%20%5B-118.530506%2C%2034.046424%5D%2C%20%22type%22%3A%20%22Point%22%7D%2C%20%22id%22%3A%20%2287%22%2C%20%22properties%22%3A%20%7B%22feed_key%22%3A%20%22239e56d11510f71d7182a24c5621be8c%22%2C%20%22stop_id%22%3A%20%221673%22%7D%2C%20%22type%22%3A%20%22Feature%22%7D%2C%20%7B%22bbox%22%3A%20%5B-118.265488%2C%2034.03496%2C%20-118.265488%2C%2034.03496%5D%2C%20%22geometry%22%3A%20%7B%22coordinates%22%3A%20%5B-118.265488%2C%2034.03496%5D%2C%20%22type%22%3A%20%22Point%22%7D%2C%20%22id%22%3A%20%2288%22%2C%20%22properties%22%3A%20%7B%22feed_key%22%3A%20%22239e56d11510f71d7182a24c5621be8c%22%2C%20%22stop_id%22%3A%20%22106%22%7D%2C%20%22type%22%3A%20%22Feature%22%7D%2C%20%7B%22bbox%22%3A%20%5B-118.254906%2C%2034.052896%2C%20-118.254906%2C%2034.052896%5D%2C%20%22geometry%22%3A%20%7B%22coordinates%22%3A%20%5B-118.254906%2C%2034.052896%5D%2C%20%22type%22%3A%20%22Point%22%7D%2C%20%22id%22%3A%20%2289%22%2C%20%22properties%22%3A%20%7B%22feed_key%22%3A%20%22239e56d11510f71d7182a24c5621be8c%22%2C%20%22stop_id%22%3A%20%22110%22%7D%2C%20%22type%22%3A%20%22Feature%22%7D%2C%20%7B%22bbox%22%3A%20%5B-118.266338%2C%2034.03581%2C%20-118.266338%2C%2034.03581%5D%2C%20%22geometry%22%3A%20%7B%22coordinates%22%3A%20%5B-118.266338%2C%2034.03581%5D%2C%20%22type%22%3A%20%22Point%22%7D%2C%20%22id%22%3A%20%2290%22%2C%20%22properties%22%3A%20%7B%22feed_key%22%3A%20%22239e56d11510f71d7182a24c5621be8c%22%2C%20%22stop_id%22%3A%20%22111%22%7D%2C%20%22type%22%3A%20%22Feature%22%7D%2C%20%7B%22bbox%22%3A%20%5B-118.385432%2C%2034.049058%2C%20-118.385432%2C%2034.049058%5D%2C%20%22geometry%22%3A%20%7B%22coordinates%22%3A%20%5B-118.385432%2C%2034.049058%5D%2C%20%22type%22%3A%20%22Point%22%7D%2C%20%22id%22%3A%20%2291%22%2C%20%22properties%22%3A%20%7B%22feed_key%22%3A%20%22239e56d11510f71d7182a24c5621be8c%22%2C%20%22stop_id%22%3A%20%22131%22%7D%2C%20%22type%22%3A%20%22Feature%22%7D%2C%20%7B%22bbox%22%3A%20%5B-118.463329%2C%2034.040462%2C%20-118.463329%2C%2034.040462%5D%2C%20%22geometry%22%3A%20%7B%22coordinates%22%3A%20%5B-118.463329%2C%2034.040462%5D%2C%20%22type%22%3A%20%22Point%22%7D%2C%20%22id%22%3A%20%2292%22%2C%20%22properties%22%3A%20%7B%22feed_key%22%3A%20%22239e56d11510f71d7182a24c5621be8c%22%2C%20%22stop_id%22%3A%20%22151%22%7D%2C%20%22type%22%3A%20%22Feature%22%7D%2C%20%7B%22bbox%22%3A%20%5B-118.253138%2C%2034.052833%2C%20-118.253138%2C%2034.052833%5D%2C%20%22geometry%22%3A%20%7B%22coordinates%22%3A%20%5B-118.253138%2C%2034.052833%5D%2C%20%22type%22%3A%20%22Point%22%7D%2C%20%22id%22%3A%20%2293%22%2C%20%22properties%22%3A%20%7B%22feed_key%22%3A%20%22239e56d11510f71d7182a24c5621be8c%22%2C%20%22stop_id%22%3A%20%22198%22%7D%2C%20%22type%22%3A%20%22Feature%22%7D%2C%20%7B%22bbox%22%3A%20%5B-118.463536%2C%2034.04048%2C%20-118.463536%2C%2034.04048%5D%2C%20%22geometry%22%3A%20%7B%22coordinates%22%3A%20%5B-118.463536%2C%2034.04048%5D%2C%20%22type%22%3A%20%22Point%22%7D%2C%20%22id%22%3A%20%2294%22%2C%20%22properties%22%3A%20%7B%22feed_key%22%3A%20%22239e56d11510f71d7182a24c5621be8c%22%2C%20%22stop_id%22%3A%20%22230%22%7D%2C%20%22type%22%3A%20%22Feature%22%7D%2C%20%7B%22bbox%22%3A%20%5B-118.383845%2C%2034.054419%2C%20-118.383845%2C%2034.054419%5D%2C%20%22geometry%22%3A%20%7B%22coordinates%22%3A%20%5B-118.383845%2C%2034.054419%5D%2C%20%22type%22%3A%20%22Point%22%7D%2C%20%22id%22%3A%20%2295%22%2C%20%22properties%22%3A%20%7B%22feed_key%22%3A%20%22239e56d11510f71d7182a24c5621be8c%22%2C%20%22stop_id%22%3A%20%22246%22%7D%2C%20%22type%22%3A%20%22Feature%22%7D%2C%20%7B%22bbox%22%3A%20%5B-118.237486%2C%2034.056504%2C%20-118.237486%2C%2034.056504%5D%2C%20%22geometry%22%3A%20%7B%22coordinates%22%3A%20%5B-118.237486%2C%2034.056504%5D%2C%20%22type%22%3A%20%22Point%22%7D%2C%20%22id%22%3A%20%2296%22%2C%20%22properties%22%3A%20%7B%22feed_key%22%3A%20%22239e56d11510f71d7182a24c5621be8c%22%2C%20%22stop_id%22%3A%20%22272%22%7D%2C%20%22type%22%3A%20%22Feature%22%7D%2C%20%7B%22bbox%22%3A%20%5B-118.240238%2C%2034.05417%2C%20-118.240238%2C%2034.05417%5D%2C%20%22geometry%22%3A%20%7B%22coordinates%22%3A%20%5B-118.240238%2C%2034.05417%5D%2C%20%22type%22%3A%20%22Point%22%7D%2C%20%22id%22%3A%20%2297%22%2C%20%22properties%22%3A%20%7B%22feed_key%22%3A%20%22239e56d11510f71d7182a24c5621be8c%22%2C%20%22stop_id%22%3A%20%22274%22%7D%2C%20%22type%22%3A%20%22Feature%22%7D%2C%20%7B%22bbox%22%3A%20%5B-118.47479%2C%2034.051934%2C%20-118.47479%2C%2034.051934%5D%2C%20%22geometry%22%3A%20%7B%22coordinates%22%3A%20%5B-118.47479%2C%2034.051934%5D%2C%20%22type%22%3A%20%22Point%22%7D%2C%20%22id%22%3A%20%2298%22%2C%20%22properties%22%3A%20%7B%22feed_key%22%3A%20%22239e56d11510f71d7182a24c5621be8c%22%2C%20%22stop_id%22%3A%20%22642%22%7D%2C%20%22type%22%3A%20%22Feature%22%7D%2C%20%7B%22bbox%22%3A%20%5B-118.480756%2C%2034.050735%2C%20-118.480756%2C%2034.050735%5D%2C%20%22geometry%22%3A%20%7B%22coordinates%22%3A%20%5B-118.480756%2C%2034.050735%5D%2C%20%22type%22%3A%20%22Point%22%7D%2C%20%22id%22%3A%20%2299%22%2C%20%22properties%22%3A%20%7B%22feed_key%22%3A%20%22239e56d11510f71d7182a24c5621be8c%22%2C%20%22stop_id%22%3A%20%22644%22%7D%2C%20%22type%22%3A%20%22Feature%22%7D%5D%2C%20%22type%22%3A%20%22FeatureCollection%22%7D%29%3B%0A%0A%20%20%20%20%20%20%20%20%0A%20%20%20%20%0A%20%20%20%20geo_json_03c1720b35ef4548a79dd633492553a3.bindTooltip%28%0A%20%20%20%20function%28layer%29%7B%0A%20%20%20%20let%20div%20%3D%20L.DomUtil.create%28%27div%27%29%3B%0A%20%20%20%20%0A%20%20%20%20let%20handleObject%20%3D%20feature%3D%3Etypeof%28feature%29%3D%3D%27object%27%20%3F%20JSON.stringify%28feature%29%20%3A%20feature%3B%0A%20%20%20%20let%20fields%20%3D%20%5B%22feed_key%22%2C%20%22stop_id%22%5D%3B%0A%20%20%20%20let%20aliases%20%3D%20%5B%22feed_key%22%2C%20%22stop_id%22%5D%3B%0A%20%20%20%20let%20table%20%3D%20%27%3Ctable%3E%27%20%2B%0A%20%20%20%20%20%20%20%20String%28%0A%20%20%20%20%20%20%20%20fields.map%28%0A%20%20%20%20%20%20%20%20%28v%2Ci%29%3D%3E%0A%20%20%20%20%20%20%20%20%60%3Ctr%3E%0A%20%20%20%20%20%20%20%20%20%20%20%20%3Cth%3E%24%7Baliases%5Bi%5D%7D%3C/th%3E%0A%20%20%20%20%20%20%20%20%20%20%20%20%0A%20%20%20%20%20%20%20%20%20%20%20%20%3Ctd%3E%24%7BhandleObject%28layer.feature.properties%5Bv%5D%29%7D%3C/td%3E%0A%20%20%20%20%20%20%20%20%3C/tr%3E%60%29.join%28%27%27%29%29%0A%20%20%20%20%2B%27%3C/table%3E%27%3B%0A%20%20%20%20div.innerHTML%3Dtable%3B%0A%20%20%20%20%0A%20%20%20%20return%20div%0A%20%20%20%20%7D%0A%20%20%20%20%2C%7B%22className%22%3A%20%22foliumtooltip%22%2C%20%22sticky%22%3A%20true%7D%29%3B%0A%20%20%20%20%20%20%20%20%20%20%20%20%20%20%20%20%20%20%20%20%20%0A%3C/script%3E onload=\"this.contentDocument.open();this.contentDocument.write(    decodeURIComponent(this.getAttribute('data-html')));this.contentDocument.close();\" allowfullscreen webkitallowfullscreen mozallowfullscreen></iframe></div></div>"
      ],
      "text/plain": [
       "<folium.folium.Map at 0x7f52b5d67e50>"
      ]
     },
     "execution_count": 43,
     "metadata": {},
     "output_type": "execute_result"
    }
   ],
   "source": [
    "#test of explore feature\n",
    "stops_map = stops.head(100).explore()\n",
    "stops_map"
   ]
  },
  {
   "cell_type": "code",
   "execution_count": 42,
   "id": "76327dbd-4f68-45d7-a4e1-a8b5c29f135b",
   "metadata": {},
   "outputs": [
    {
     "data": {
      "text/html": [
       "<div style=\"width:100%;\"><div style=\"position:relative;width:100%;height:0;padding-bottom:60%;\"><span style=\"color:#565656\">Make this Notebook Trusted to load map: File -> Trust Notebook</span><iframe src=\"about:blank\" style=\"position:absolute;width:100%;height:100%;left:0;top:0;border:none !important;\" data-html=%3C%21DOCTYPE%20html%3E%0A%3Chead%3E%20%20%20%20%0A%20%20%20%20%3Cmeta%20http-equiv%3D%22content-type%22%20content%3D%22text/html%3B%20charset%3DUTF-8%22%20/%3E%0A%20%20%20%20%0A%20%20%20%20%20%20%20%20%3Cscript%3E%0A%20%20%20%20%20%20%20%20%20%20%20%20L_NO_TOUCH%20%3D%20false%3B%0A%20%20%20%20%20%20%20%20%20%20%20%20L_DISABLE_3D%20%3D%20false%3B%0A%20%20%20%20%20%20%20%20%3C/script%3E%0A%20%20%20%20%0A%20%20%20%20%3Cstyle%3Ehtml%2C%20body%20%7Bwidth%3A%20100%25%3Bheight%3A%20100%25%3Bmargin%3A%200%3Bpadding%3A%200%3B%7D%3C/style%3E%0A%20%20%20%20%3Cstyle%3E%23map%20%7Bposition%3Aabsolute%3Btop%3A0%3Bbottom%3A0%3Bright%3A0%3Bleft%3A0%3B%7D%3C/style%3E%0A%20%20%20%20%3Cscript%20src%3D%22https%3A//cdn.jsdelivr.net/npm/leaflet%401.6.0/dist/leaflet.js%22%3E%3C/script%3E%0A%20%20%20%20%3Cscript%20src%3D%22https%3A//code.jquery.com/jquery-1.12.4.min.js%22%3E%3C/script%3E%0A%20%20%20%20%3Cscript%20src%3D%22https%3A//maxcdn.bootstrapcdn.com/bootstrap/3.2.0/js/bootstrap.min.js%22%3E%3C/script%3E%0A%20%20%20%20%3Cscript%20src%3D%22https%3A//cdnjs.cloudflare.com/ajax/libs/Leaflet.awesome-markers/2.0.2/leaflet.awesome-markers.js%22%3E%3C/script%3E%0A%20%20%20%20%3Clink%20rel%3D%22stylesheet%22%20href%3D%22https%3A//cdn.jsdelivr.net/npm/leaflet%401.6.0/dist/leaflet.css%22/%3E%0A%20%20%20%20%3Clink%20rel%3D%22stylesheet%22%20href%3D%22https%3A//maxcdn.bootstrapcdn.com/bootstrap/3.2.0/css/bootstrap.min.css%22/%3E%0A%20%20%20%20%3Clink%20rel%3D%22stylesheet%22%20href%3D%22https%3A//maxcdn.bootstrapcdn.com/bootstrap/3.2.0/css/bootstrap-theme.min.css%22/%3E%0A%20%20%20%20%3Clink%20rel%3D%22stylesheet%22%20href%3D%22https%3A//maxcdn.bootstrapcdn.com/font-awesome/4.6.3/css/font-awesome.min.css%22/%3E%0A%20%20%20%20%3Clink%20rel%3D%22stylesheet%22%20href%3D%22https%3A//cdnjs.cloudflare.com/ajax/libs/Leaflet.awesome-markers/2.0.2/leaflet.awesome-markers.css%22/%3E%0A%20%20%20%20%3Clink%20rel%3D%22stylesheet%22%20href%3D%22https%3A//cdn.jsdelivr.net/gh/python-visualization/folium/folium/templates/leaflet.awesome.rotate.min.css%22/%3E%0A%20%20%20%20%0A%20%20%20%20%20%20%20%20%20%20%20%20%3Cmeta%20name%3D%22viewport%22%20content%3D%22width%3Ddevice-width%2C%0A%20%20%20%20%20%20%20%20%20%20%20%20%20%20%20%20initial-scale%3D1.0%2C%20maximum-scale%3D1.0%2C%20user-scalable%3Dno%22%20/%3E%0A%20%20%20%20%20%20%20%20%20%20%20%20%3Cstyle%3E%0A%20%20%20%20%20%20%20%20%20%20%20%20%20%20%20%20%23map_741736518e464b488aa0115d71e03c50%20%7B%0A%20%20%20%20%20%20%20%20%20%20%20%20%20%20%20%20%20%20%20%20position%3A%20relative%3B%0A%20%20%20%20%20%20%20%20%20%20%20%20%20%20%20%20%20%20%20%20width%3A%20100.0%25%3B%0A%20%20%20%20%20%20%20%20%20%20%20%20%20%20%20%20%20%20%20%20height%3A%20100.0%25%3B%0A%20%20%20%20%20%20%20%20%20%20%20%20%20%20%20%20%20%20%20%20left%3A%200.0%25%3B%0A%20%20%20%20%20%20%20%20%20%20%20%20%20%20%20%20%20%20%20%20top%3A%200.0%25%3B%0A%20%20%20%20%20%20%20%20%20%20%20%20%20%20%20%20%7D%0A%20%20%20%20%20%20%20%20%20%20%20%20%3C/style%3E%0A%20%20%20%20%20%20%20%20%0A%20%20%20%20%0A%20%20%20%20%20%20%20%20%20%20%20%20%20%20%20%20%20%20%20%20%3Cstyle%3E%0A%20%20%20%20%20%20%20%20%20%20%20%20%20%20%20%20%20%20%20%20%20%20%20%20.foliumtooltip%20%7B%0A%20%20%20%20%20%20%20%20%20%20%20%20%20%20%20%20%20%20%20%20%20%20%20%20%20%20%20%20%0A%20%20%20%20%20%20%20%20%20%20%20%20%20%20%20%20%20%20%20%20%20%20%20%20%7D%0A%20%20%20%20%20%20%20%20%20%20%20%20%20%20%20%20%20%20%20%20%20%20%20.foliumtooltip%20table%7B%0A%20%20%20%20%20%20%20%20%20%20%20%20%20%20%20%20%20%20%20%20%20%20%20%20%20%20%20%20margin%3A%20auto%3B%0A%20%20%20%20%20%20%20%20%20%20%20%20%20%20%20%20%20%20%20%20%20%20%20%20%7D%0A%20%20%20%20%20%20%20%20%20%20%20%20%20%20%20%20%20%20%20%20%20%20%20%20.foliumtooltip%20tr%7B%0A%20%20%20%20%20%20%20%20%20%20%20%20%20%20%20%20%20%20%20%20%20%20%20%20%20%20%20%20text-align%3A%20left%3B%0A%20%20%20%20%20%20%20%20%20%20%20%20%20%20%20%20%20%20%20%20%20%20%20%20%7D%0A%20%20%20%20%20%20%20%20%20%20%20%20%20%20%20%20%20%20%20%20%20%20%20%20.foliumtooltip%20th%7B%0A%20%20%20%20%20%20%20%20%20%20%20%20%20%20%20%20%20%20%20%20%20%20%20%20%20%20%20%20padding%3A%202px%3B%20padding-right%3A%208px%3B%0A%20%20%20%20%20%20%20%20%20%20%20%20%20%20%20%20%20%20%20%20%20%20%20%20%7D%0A%20%20%20%20%20%20%20%20%20%20%20%20%20%20%20%20%20%20%20%20%3C/style%3E%0A%20%20%20%20%20%20%20%20%20%20%20%20%0A%3C/head%3E%0A%3Cbody%3E%20%20%20%20%0A%20%20%20%20%0A%20%20%20%20%20%20%20%20%20%20%20%20%3Cdiv%20class%3D%22folium-map%22%20id%3D%22map_741736518e464b488aa0115d71e03c50%22%20%3E%3C/div%3E%0A%20%20%20%20%20%20%20%20%0A%3C/body%3E%0A%3Cscript%3E%20%20%20%20%0A%20%20%20%20%0A%20%20%20%20%20%20%20%20%20%20%20%20var%20map_741736518e464b488aa0115d71e03c50%20%3D%20L.map%28%0A%20%20%20%20%20%20%20%20%20%20%20%20%20%20%20%20%22map_741736518e464b488aa0115d71e03c50%22%2C%0A%20%20%20%20%20%20%20%20%20%20%20%20%20%20%20%20%7B%0A%20%20%20%20%20%20%20%20%20%20%20%20%20%20%20%20%20%20%20%20center%3A%20%5B34.093285893000015%2C%20-118.12515525200001%5D%2C%0A%20%20%20%20%20%20%20%20%20%20%20%20%20%20%20%20%20%20%20%20crs%3A%20L.CRS.EPSG3857%2C%0A%20%20%20%20%20%20%20%20%20%20%20%20%20%20%20%20%20%20%20%20zoom%3A%2010%2C%0A%20%20%20%20%20%20%20%20%20%20%20%20%20%20%20%20%20%20%20%20zoomControl%3A%20true%2C%0A%20%20%20%20%20%20%20%20%20%20%20%20%20%20%20%20%20%20%20%20preferCanvas%3A%20false%2C%0A%20%20%20%20%20%20%20%20%20%20%20%20%20%20%20%20%7D%0A%20%20%20%20%20%20%20%20%20%20%20%20%29%3B%0A%20%20%20%20%20%20%20%20%20%20%20%20L.control.scale%28%29.addTo%28map_741736518e464b488aa0115d71e03c50%29%3B%0A%0A%20%20%20%20%20%20%20%20%20%20%20%20%0A%0A%20%20%20%20%20%20%20%20%0A%20%20%20%20%0A%20%20%20%20%20%20%20%20%20%20%20%20var%20tile_layer_1458a70c36254108b8548da518b11da9%20%3D%20L.tileLayer%28%0A%20%20%20%20%20%20%20%20%20%20%20%20%20%20%20%20%22https%3A//%7Bs%7D.tile.openstreetmap.org/%7Bz%7D/%7Bx%7D/%7By%7D.png%22%2C%0A%20%20%20%20%20%20%20%20%20%20%20%20%20%20%20%20%7B%22attribution%22%3A%20%22Data%20by%20%5Cu0026copy%3B%20%5Cu003ca%20href%3D%5C%22http%3A//openstreetmap.org%5C%22%5Cu003eOpenStreetMap%5Cu003c/a%5Cu003e%2C%20under%20%5Cu003ca%20href%3D%5C%22http%3A//www.openstreetmap.org/copyright%5C%22%5Cu003eODbL%5Cu003c/a%5Cu003e.%22%2C%20%22detectRetina%22%3A%20false%2C%20%22maxNativeZoom%22%3A%2018%2C%20%22maxZoom%22%3A%2018%2C%20%22minZoom%22%3A%200%2C%20%22noWrap%22%3A%20false%2C%20%22opacity%22%3A%201%2C%20%22subdomains%22%3A%20%22abc%22%2C%20%22tms%22%3A%20false%7D%0A%20%20%20%20%20%20%20%20%20%20%20%20%29.addTo%28map_741736518e464b488aa0115d71e03c50%29%3B%0A%20%20%20%20%20%20%20%20%0A%20%20%20%20%0A%20%20%20%20%20%20%20%20%20%20%20%20map_741736518e464b488aa0115d71e03c50.fitBounds%28%0A%20%20%20%20%20%20%20%20%20%20%20%20%20%20%20%20%5B%5B34.093285893000015%2C%20-118.12515525200001%5D%2C%20%5B34.093285893000015%2C%20-118.12515525200001%5D%5D%2C%0A%20%20%20%20%20%20%20%20%20%20%20%20%20%20%20%20%7B%7D%0A%20%20%20%20%20%20%20%20%20%20%20%20%29%3B%0A%20%20%20%20%20%20%20%20%0A%20%20%20%20%0A%20%20%20%20%20%20%20%20function%20geo_json_484e56a8c0884ad2bcb251797f3041e7_styler%28feature%29%20%7B%0A%20%20%20%20%20%20%20%20%20%20%20%20switch%28feature.id%29%20%7B%0A%20%20%20%20%20%20%20%20%20%20%20%20%20%20%20%20default%3A%0A%20%20%20%20%20%20%20%20%20%20%20%20%20%20%20%20%20%20%20%20return%20%7B%22fillOpacity%22%3A%200.5%2C%20%22weight%22%3A%202%7D%3B%0A%20%20%20%20%20%20%20%20%20%20%20%20%7D%0A%20%20%20%20%20%20%20%20%7D%0A%20%20%20%20%20%20%20%20function%20geo_json_484e56a8c0884ad2bcb251797f3041e7_highlighter%28feature%29%20%7B%0A%20%20%20%20%20%20%20%20%20%20%20%20switch%28feature.id%29%20%7B%0A%20%20%20%20%20%20%20%20%20%20%20%20%20%20%20%20default%3A%0A%20%20%20%20%20%20%20%20%20%20%20%20%20%20%20%20%20%20%20%20return%20%7B%22fillOpacity%22%3A%200.75%7D%3B%0A%20%20%20%20%20%20%20%20%20%20%20%20%7D%0A%20%20%20%20%20%20%20%20%7D%0A%20%20%20%20%20%20%20%20function%20geo_json_484e56a8c0884ad2bcb251797f3041e7_pointToLayer%28feature%2C%20latlng%29%20%7B%0A%20%20%20%20%20%20%20%20%20%20%20%20var%20opts%20%3D%20%7B%22bubblingMouseEvents%22%3A%20true%2C%20%22color%22%3A%20%22%233388ff%22%2C%20%22dashArray%22%3A%20null%2C%20%22dashOffset%22%3A%20null%2C%20%22fill%22%3A%20true%2C%20%22fillColor%22%3A%20%22%233388ff%22%2C%20%22fillOpacity%22%3A%200.2%2C%20%22fillRule%22%3A%20%22evenodd%22%2C%20%22lineCap%22%3A%20%22round%22%2C%20%22lineJoin%22%3A%20%22round%22%2C%20%22opacity%22%3A%201.0%2C%20%22radius%22%3A%202%2C%20%22stroke%22%3A%20true%2C%20%22weight%22%3A%203%7D%3B%0A%20%20%20%20%20%20%20%20%20%20%20%20%0A%20%20%20%20%20%20%20%20%20%20%20%20let%20style%20%3D%20geo_json_484e56a8c0884ad2bcb251797f3041e7_styler%28feature%29%0A%20%20%20%20%20%20%20%20%20%20%20%20Object.assign%28opts%2C%20style%29%0A%20%20%20%20%20%20%20%20%20%20%20%20%0A%20%20%20%20%20%20%20%20%20%20%20%20return%20new%20L.CircleMarker%28latlng%2C%20opts%29%0A%20%20%20%20%20%20%20%20%7D%0A%0A%20%20%20%20%20%20%20%20function%20geo_json_484e56a8c0884ad2bcb251797f3041e7_onEachFeature%28feature%2C%20layer%29%20%7B%0A%20%20%20%20%20%20%20%20%20%20%20%20layer.on%28%7B%0A%20%20%20%20%20%20%20%20%20%20%20%20%20%20%20%20mouseout%3A%20function%28e%29%20%7B%0A%20%20%20%20%20%20%20%20%20%20%20%20%20%20%20%20%20%20%20%20if%28typeof%20e.target.setStyle%20%3D%3D%3D%20%22function%22%29%7B%0A%20%20%20%20%20%20%20%20%20%20%20%20%20%20%20%20%20%20%20%20%20%20%20%20geo_json_484e56a8c0884ad2bcb251797f3041e7.resetStyle%28e.target%29%3B%0A%20%20%20%20%20%20%20%20%20%20%20%20%20%20%20%20%20%20%20%20%7D%0A%20%20%20%20%20%20%20%20%20%20%20%20%20%20%20%20%7D%2C%0A%20%20%20%20%20%20%20%20%20%20%20%20%20%20%20%20mouseover%3A%20function%28e%29%20%7B%0A%20%20%20%20%20%20%20%20%20%20%20%20%20%20%20%20%20%20%20%20if%28typeof%20e.target.setStyle%20%3D%3D%3D%20%22function%22%29%7B%0A%20%20%20%20%20%20%20%20%20%20%20%20%20%20%20%20%20%20%20%20%20%20%20%20const%20highlightStyle%20%3D%20geo_json_484e56a8c0884ad2bcb251797f3041e7_highlighter%28e.target.feature%29%0A%20%20%20%20%20%20%20%20%20%20%20%20%20%20%20%20%20%20%20%20%20%20%20%20e.target.setStyle%28highlightStyle%29%3B%0A%20%20%20%20%20%20%20%20%20%20%20%20%20%20%20%20%20%20%20%20%7D%0A%20%20%20%20%20%20%20%20%20%20%20%20%20%20%20%20%7D%2C%0A%20%20%20%20%20%20%20%20%20%20%20%20%7D%29%3B%0A%20%20%20%20%20%20%20%20%7D%3B%0A%20%20%20%20%20%20%20%20var%20geo_json_484e56a8c0884ad2bcb251797f3041e7%20%3D%20L.geoJson%28null%2C%20%7B%0A%20%20%20%20%20%20%20%20%20%20%20%20%20%20%20%20onEachFeature%3A%20geo_json_484e56a8c0884ad2bcb251797f3041e7_onEachFeature%2C%0A%20%20%20%20%20%20%20%20%20%20%20%20%0A%20%20%20%20%20%20%20%20%20%20%20%20%20%20%20%20style%3A%20geo_json_484e56a8c0884ad2bcb251797f3041e7_styler%2C%0A%20%20%20%20%20%20%20%20%20%20%20%20%20%20%20%20pointToLayer%3A%20geo_json_484e56a8c0884ad2bcb251797f3041e7_pointToLayer%0A%20%20%20%20%20%20%20%20%7D%29%3B%0A%0A%20%20%20%20%20%20%20%20function%20geo_json_484e56a8c0884ad2bcb251797f3041e7_add%20%28data%29%20%7B%0A%20%20%20%20%20%20%20%20%20%20%20%20geo_json_484e56a8c0884ad2bcb251797f3041e7%0A%20%20%20%20%20%20%20%20%20%20%20%20%20%20%20%20.addData%28data%29%0A%20%20%20%20%20%20%20%20%20%20%20%20%20%20%20%20.addTo%28map_741736518e464b488aa0115d71e03c50%29%3B%0A%20%20%20%20%20%20%20%20%7D%0A%20%20%20%20%20%20%20%20%20%20%20%20geo_json_484e56a8c0884ad2bcb251797f3041e7_add%28%7B%22bbox%22%3A%20%5B-118.12515525200001%2C%2034.093285893000015%2C%20-118.12515525200001%2C%2034.093285893000015%5D%2C%20%22features%22%3A%20%5B%7B%22bbox%22%3A%20%5B-118.12515525200001%2C%2034.093285893000015%2C%20-118.12515525200001%2C%2034.093285893000015%5D%2C%20%22geometry%22%3A%20%7B%22coordinates%22%3A%20%5B-118.12515525200001%2C%2034.093285893000015%5D%2C%20%22type%22%3A%20%22Point%22%7D%2C%20%22id%22%3A%20%220%22%2C%20%22properties%22%3A%20%7B%22feed_key%22%3A%20%22d76560b3dfecce2d588023bf1d1c4c2d%22%2C%20%22name%22%3A%20%22Alhambra%20Schedule%22%2C%20%22stop_event_count%22%3A%2017%2C%20%22stop_id%22%3A%20%222619811%22%7D%2C%20%22type%22%3A%20%22Feature%22%7D%2C%20%7B%22bbox%22%3A%20%5B-118.12515525200001%2C%2034.093285893000015%2C%20-118.12515525200001%2C%2034.093285893000015%5D%2C%20%22geometry%22%3A%20%7B%22coordinates%22%3A%20%5B-118.12515525200001%2C%2034.093285893000015%5D%2C%20%22type%22%3A%20%22Point%22%7D%2C%20%22id%22%3A%20%221%22%2C%20%22properties%22%3A%20%7B%22feed_key%22%3A%20%22d76560b3dfecce2d588023bf1d1c4c2d%22%2C%20%22name%22%3A%20%22Alhambra%20Schedule%22%2C%20%22stop_event_count%22%3A%2017%2C%20%22stop_id%22%3A%20%222619811%22%7D%2C%20%22type%22%3A%20%22Feature%22%7D%2C%20%7B%22bbox%22%3A%20%5B-118.12515525200001%2C%2034.093285893000015%2C%20-118.12515525200001%2C%2034.093285893000015%5D%2C%20%22geometry%22%3A%20%7B%22coordinates%22%3A%20%5B-118.12515525200001%2C%2034.093285893000015%5D%2C%20%22type%22%3A%20%22Point%22%7D%2C%20%22id%22%3A%20%222%22%2C%20%22properties%22%3A%20%7B%22feed_key%22%3A%20%22d76560b3dfecce2d588023bf1d1c4c2d%22%2C%20%22name%22%3A%20%22Alhambra%20Schedule%22%2C%20%22stop_event_count%22%3A%2017%2C%20%22stop_id%22%3A%20%222619811%22%7D%2C%20%22type%22%3A%20%22Feature%22%7D%2C%20%7B%22bbox%22%3A%20%5B-118.12515525200001%2C%2034.093285893000015%2C%20-118.12515525200001%2C%2034.093285893000015%5D%2C%20%22geometry%22%3A%20%7B%22coordinates%22%3A%20%5B-118.12515525200001%2C%2034.093285893000015%5D%2C%20%22type%22%3A%20%22Point%22%7D%2C%20%22id%22%3A%20%223%22%2C%20%22properties%22%3A%20%7B%22feed_key%22%3A%20%22d76560b3dfecce2d588023bf1d1c4c2d%22%2C%20%22name%22%3A%20%22Alhambra%20Schedule%22%2C%20%22stop_event_count%22%3A%2017%2C%20%22stop_id%22%3A%20%222619811%22%7D%2C%20%22type%22%3A%20%22Feature%22%7D%2C%20%7B%22bbox%22%3A%20%5B-118.12515525200001%2C%2034.093285893000015%2C%20-118.12515525200001%2C%2034.093285893000015%5D%2C%20%22geometry%22%3A%20%7B%22coordinates%22%3A%20%5B-118.12515525200001%2C%2034.093285893000015%5D%2C%20%22type%22%3A%20%22Point%22%7D%2C%20%22id%22%3A%20%224%22%2C%20%22properties%22%3A%20%7B%22feed_key%22%3A%20%22d76560b3dfecce2d588023bf1d1c4c2d%22%2C%20%22name%22%3A%20%22Alhambra%20Schedule%22%2C%20%22stop_event_count%22%3A%2017%2C%20%22stop_id%22%3A%20%222619811%22%7D%2C%20%22type%22%3A%20%22Feature%22%7D%2C%20%7B%22bbox%22%3A%20%5B-118.12515525200001%2C%2034.093285893000015%2C%20-118.12515525200001%2C%2034.093285893000015%5D%2C%20%22geometry%22%3A%20%7B%22coordinates%22%3A%20%5B-118.12515525200001%2C%2034.093285893000015%5D%2C%20%22type%22%3A%20%22Point%22%7D%2C%20%22id%22%3A%20%225%22%2C%20%22properties%22%3A%20%7B%22feed_key%22%3A%20%22d76560b3dfecce2d588023bf1d1c4c2d%22%2C%20%22name%22%3A%20%22Alhambra%20Schedule%22%2C%20%22stop_event_count%22%3A%2017%2C%20%22stop_id%22%3A%20%222619811%22%7D%2C%20%22type%22%3A%20%22Feature%22%7D%2C%20%7B%22bbox%22%3A%20%5B-118.12515525200001%2C%2034.093285893000015%2C%20-118.12515525200001%2C%2034.093285893000015%5D%2C%20%22geometry%22%3A%20%7B%22coordinates%22%3A%20%5B-118.12515525200001%2C%2034.093285893000015%5D%2C%20%22type%22%3A%20%22Point%22%7D%2C%20%22id%22%3A%20%226%22%2C%20%22properties%22%3A%20%7B%22feed_key%22%3A%20%22d76560b3dfecce2d588023bf1d1c4c2d%22%2C%20%22name%22%3A%20%22Alhambra%20Schedule%22%2C%20%22stop_event_count%22%3A%2017%2C%20%22stop_id%22%3A%20%222619811%22%7D%2C%20%22type%22%3A%20%22Feature%22%7D%2C%20%7B%22bbox%22%3A%20%5B-118.12515525200001%2C%2034.093285893000015%2C%20-118.12515525200001%2C%2034.093285893000015%5D%2C%20%22geometry%22%3A%20%7B%22coordinates%22%3A%20%5B-118.12515525200001%2C%2034.093285893000015%5D%2C%20%22type%22%3A%20%22Point%22%7D%2C%20%22id%22%3A%20%227%22%2C%20%22properties%22%3A%20%7B%22feed_key%22%3A%20%22d76560b3dfecce2d588023bf1d1c4c2d%22%2C%20%22name%22%3A%20%22Alhambra%20Schedule%22%2C%20%22stop_event_count%22%3A%2017%2C%20%22stop_id%22%3A%20%222619811%22%7D%2C%20%22type%22%3A%20%22Feature%22%7D%2C%20%7B%22bbox%22%3A%20%5B-118.12515525200001%2C%2034.093285893000015%2C%20-118.12515525200001%2C%2034.093285893000015%5D%2C%20%22geometry%22%3A%20%7B%22coordinates%22%3A%20%5B-118.12515525200001%2C%2034.093285893000015%5D%2C%20%22type%22%3A%20%22Point%22%7D%2C%20%22id%22%3A%20%228%22%2C%20%22properties%22%3A%20%7B%22feed_key%22%3A%20%22d76560b3dfecce2d588023bf1d1c4c2d%22%2C%20%22name%22%3A%20%22Alhambra%20Schedule%22%2C%20%22stop_event_count%22%3A%2017%2C%20%22stop_id%22%3A%20%222619811%22%7D%2C%20%22type%22%3A%20%22Feature%22%7D%2C%20%7B%22bbox%22%3A%20%5B-118.12515525200001%2C%2034.093285893000015%2C%20-118.12515525200001%2C%2034.093285893000015%5D%2C%20%22geometry%22%3A%20%7B%22coordinates%22%3A%20%5B-118.12515525200001%2C%2034.093285893000015%5D%2C%20%22type%22%3A%20%22Point%22%7D%2C%20%22id%22%3A%20%229%22%2C%20%22properties%22%3A%20%7B%22feed_key%22%3A%20%22d76560b3dfecce2d588023bf1d1c4c2d%22%2C%20%22name%22%3A%20%22Alhambra%20Schedule%22%2C%20%22stop_event_count%22%3A%2017%2C%20%22stop_id%22%3A%20%222619811%22%7D%2C%20%22type%22%3A%20%22Feature%22%7D%2C%20%7B%22bbox%22%3A%20%5B-118.12515525200001%2C%2034.093285893000015%2C%20-118.12515525200001%2C%2034.093285893000015%5D%2C%20%22geometry%22%3A%20%7B%22coordinates%22%3A%20%5B-118.12515525200001%2C%2034.093285893000015%5D%2C%20%22type%22%3A%20%22Point%22%7D%2C%20%22id%22%3A%20%2210%22%2C%20%22properties%22%3A%20%7B%22feed_key%22%3A%20%22d76560b3dfecce2d588023bf1d1c4c2d%22%2C%20%22name%22%3A%20%22Alhambra%20Schedule%22%2C%20%22stop_event_count%22%3A%2017%2C%20%22stop_id%22%3A%20%222619811%22%7D%2C%20%22type%22%3A%20%22Feature%22%7D%2C%20%7B%22bbox%22%3A%20%5B-118.12515525200001%2C%2034.093285893000015%2C%20-118.12515525200001%2C%2034.093285893000015%5D%2C%20%22geometry%22%3A%20%7B%22coordinates%22%3A%20%5B-118.12515525200001%2C%2034.093285893000015%5D%2C%20%22type%22%3A%20%22Point%22%7D%2C%20%22id%22%3A%20%2211%22%2C%20%22properties%22%3A%20%7B%22feed_key%22%3A%20%22d76560b3dfecce2d588023bf1d1c4c2d%22%2C%20%22name%22%3A%20%22Alhambra%20Schedule%22%2C%20%22stop_event_count%22%3A%2017%2C%20%22stop_id%22%3A%20%222619811%22%7D%2C%20%22type%22%3A%20%22Feature%22%7D%2C%20%7B%22bbox%22%3A%20%5B-118.12515525200001%2C%2034.093285893000015%2C%20-118.12515525200001%2C%2034.093285893000015%5D%2C%20%22geometry%22%3A%20%7B%22coordinates%22%3A%20%5B-118.12515525200001%2C%2034.093285893000015%5D%2C%20%22type%22%3A%20%22Point%22%7D%2C%20%22id%22%3A%20%2212%22%2C%20%22properties%22%3A%20%7B%22feed_key%22%3A%20%22d76560b3dfecce2d588023bf1d1c4c2d%22%2C%20%22name%22%3A%20%22Alhambra%20Schedule%22%2C%20%22stop_event_count%22%3A%2017%2C%20%22stop_id%22%3A%20%222619811%22%7D%2C%20%22type%22%3A%20%22Feature%22%7D%2C%20%7B%22bbox%22%3A%20%5B-118.12515525200001%2C%2034.093285893000015%2C%20-118.12515525200001%2C%2034.093285893000015%5D%2C%20%22geometry%22%3A%20%7B%22coordinates%22%3A%20%5B-118.12515525200001%2C%2034.093285893000015%5D%2C%20%22type%22%3A%20%22Point%22%7D%2C%20%22id%22%3A%20%2213%22%2C%20%22properties%22%3A%20%7B%22feed_key%22%3A%20%22d76560b3dfecce2d588023bf1d1c4c2d%22%2C%20%22name%22%3A%20%22Alhambra%20Schedule%22%2C%20%22stop_event_count%22%3A%2017%2C%20%22stop_id%22%3A%20%222619811%22%7D%2C%20%22type%22%3A%20%22Feature%22%7D%2C%20%7B%22bbox%22%3A%20%5B-118.12515525200001%2C%2034.093285893000015%2C%20-118.12515525200001%2C%2034.093285893000015%5D%2C%20%22geometry%22%3A%20%7B%22coordinates%22%3A%20%5B-118.12515525200001%2C%2034.093285893000015%5D%2C%20%22type%22%3A%20%22Point%22%7D%2C%20%22id%22%3A%20%2214%22%2C%20%22properties%22%3A%20%7B%22feed_key%22%3A%20%22d76560b3dfecce2d588023bf1d1c4c2d%22%2C%20%22name%22%3A%20%22Alhambra%20Schedule%22%2C%20%22stop_event_count%22%3A%2017%2C%20%22stop_id%22%3A%20%222619811%22%7D%2C%20%22type%22%3A%20%22Feature%22%7D%2C%20%7B%22bbox%22%3A%20%5B-118.12515525200001%2C%2034.093285893000015%2C%20-118.12515525200001%2C%2034.093285893000015%5D%2C%20%22geometry%22%3A%20%7B%22coordinates%22%3A%20%5B-118.12515525200001%2C%2034.093285893000015%5D%2C%20%22type%22%3A%20%22Point%22%7D%2C%20%22id%22%3A%20%2215%22%2C%20%22properties%22%3A%20%7B%22feed_key%22%3A%20%22d76560b3dfecce2d588023bf1d1c4c2d%22%2C%20%22name%22%3A%20%22Alhambra%20Schedule%22%2C%20%22stop_event_count%22%3A%2017%2C%20%22stop_id%22%3A%20%222619811%22%7D%2C%20%22type%22%3A%20%22Feature%22%7D%2C%20%7B%22bbox%22%3A%20%5B-118.12515525200001%2C%2034.093285893000015%2C%20-118.12515525200001%2C%2034.093285893000015%5D%2C%20%22geometry%22%3A%20%7B%22coordinates%22%3A%20%5B-118.12515525200001%2C%2034.093285893000015%5D%2C%20%22type%22%3A%20%22Point%22%7D%2C%20%22id%22%3A%20%2216%22%2C%20%22properties%22%3A%20%7B%22feed_key%22%3A%20%22d76560b3dfecce2d588023bf1d1c4c2d%22%2C%20%22name%22%3A%20%22Alhambra%20Schedule%22%2C%20%22stop_event_count%22%3A%2017%2C%20%22stop_id%22%3A%20%222619811%22%7D%2C%20%22type%22%3A%20%22Feature%22%7D%2C%20%7B%22bbox%22%3A%20%5B-118.12515525200001%2C%2034.093285893000015%2C%20-118.12515525200001%2C%2034.093285893000015%5D%2C%20%22geometry%22%3A%20%7B%22coordinates%22%3A%20%5B-118.12515525200001%2C%2034.093285893000015%5D%2C%20%22type%22%3A%20%22Point%22%7D%2C%20%22id%22%3A%20%2217%22%2C%20%22properties%22%3A%20%7B%22feed_key%22%3A%20%22d76560b3dfecce2d588023bf1d1c4c2d%22%2C%20%22name%22%3A%20%22Alhambra%20Schedule%22%2C%20%22stop_event_count%22%3A%2017%2C%20%22stop_id%22%3A%20%222619811%22%7D%2C%20%22type%22%3A%20%22Feature%22%7D%2C%20%7B%22bbox%22%3A%20%5B-118.12515525200001%2C%2034.093285893000015%2C%20-118.12515525200001%2C%2034.093285893000015%5D%2C%20%22geometry%22%3A%20%7B%22coordinates%22%3A%20%5B-118.12515525200001%2C%2034.093285893000015%5D%2C%20%22type%22%3A%20%22Point%22%7D%2C%20%22id%22%3A%20%2218%22%2C%20%22properties%22%3A%20%7B%22feed_key%22%3A%20%22d76560b3dfecce2d588023bf1d1c4c2d%22%2C%20%22name%22%3A%20%22Alhambra%20Schedule%22%2C%20%22stop_event_count%22%3A%2017%2C%20%22stop_id%22%3A%20%222619811%22%7D%2C%20%22type%22%3A%20%22Feature%22%7D%2C%20%7B%22bbox%22%3A%20%5B-118.12515525200001%2C%2034.093285893000015%2C%20-118.12515525200001%2C%2034.093285893000015%5D%2C%20%22geometry%22%3A%20%7B%22coordinates%22%3A%20%5B-118.12515525200001%2C%2034.093285893000015%5D%2C%20%22type%22%3A%20%22Point%22%7D%2C%20%22id%22%3A%20%2219%22%2C%20%22properties%22%3A%20%7B%22feed_key%22%3A%20%22d76560b3dfecce2d588023bf1d1c4c2d%22%2C%20%22name%22%3A%20%22Alhambra%20Schedule%22%2C%20%22stop_event_count%22%3A%2017%2C%20%22stop_id%22%3A%20%222619811%22%7D%2C%20%22type%22%3A%20%22Feature%22%7D%2C%20%7B%22bbox%22%3A%20%5B-118.12515525200001%2C%2034.093285893000015%2C%20-118.12515525200001%2C%2034.093285893000015%5D%2C%20%22geometry%22%3A%20%7B%22coordinates%22%3A%20%5B-118.12515525200001%2C%2034.093285893000015%5D%2C%20%22type%22%3A%20%22Point%22%7D%2C%20%22id%22%3A%20%2220%22%2C%20%22properties%22%3A%20%7B%22feed_key%22%3A%20%22d76560b3dfecce2d588023bf1d1c4c2d%22%2C%20%22name%22%3A%20%22Alhambra%20Schedule%22%2C%20%22stop_event_count%22%3A%2017%2C%20%22stop_id%22%3A%20%222619811%22%7D%2C%20%22type%22%3A%20%22Feature%22%7D%2C%20%7B%22bbox%22%3A%20%5B-118.12515525200001%2C%2034.093285893000015%2C%20-118.12515525200001%2C%2034.093285893000015%5D%2C%20%22geometry%22%3A%20%7B%22coordinates%22%3A%20%5B-118.12515525200001%2C%2034.093285893000015%5D%2C%20%22type%22%3A%20%22Point%22%7D%2C%20%22id%22%3A%20%2221%22%2C%20%22properties%22%3A%20%7B%22feed_key%22%3A%20%22d76560b3dfecce2d588023bf1d1c4c2d%22%2C%20%22name%22%3A%20%22Alhambra%20Schedule%22%2C%20%22stop_event_count%22%3A%2017%2C%20%22stop_id%22%3A%20%222619811%22%7D%2C%20%22type%22%3A%20%22Feature%22%7D%2C%20%7B%22bbox%22%3A%20%5B-118.12515525200001%2C%2034.093285893000015%2C%20-118.12515525200001%2C%2034.093285893000015%5D%2C%20%22geometry%22%3A%20%7B%22coordinates%22%3A%20%5B-118.12515525200001%2C%2034.093285893000015%5D%2C%20%22type%22%3A%20%22Point%22%7D%2C%20%22id%22%3A%20%2222%22%2C%20%22properties%22%3A%20%7B%22feed_key%22%3A%20%22d76560b3dfecce2d588023bf1d1c4c2d%22%2C%20%22name%22%3A%20%22Alhambra%20Schedule%22%2C%20%22stop_event_count%22%3A%2017%2C%20%22stop_id%22%3A%20%222619811%22%7D%2C%20%22type%22%3A%20%22Feature%22%7D%2C%20%7B%22bbox%22%3A%20%5B-118.12515525200001%2C%2034.093285893000015%2C%20-118.12515525200001%2C%2034.093285893000015%5D%2C%20%22geometry%22%3A%20%7B%22coordinates%22%3A%20%5B-118.12515525200001%2C%2034.093285893000015%5D%2C%20%22type%22%3A%20%22Point%22%7D%2C%20%22id%22%3A%20%2223%22%2C%20%22properties%22%3A%20%7B%22feed_key%22%3A%20%22d76560b3dfecce2d588023bf1d1c4c2d%22%2C%20%22name%22%3A%20%22Alhambra%20Schedule%22%2C%20%22stop_event_count%22%3A%2017%2C%20%22stop_id%22%3A%20%222619811%22%7D%2C%20%22type%22%3A%20%22Feature%22%7D%2C%20%7B%22bbox%22%3A%20%5B-118.12515525200001%2C%2034.093285893000015%2C%20-118.12515525200001%2C%2034.093285893000015%5D%2C%20%22geometry%22%3A%20%7B%22coordinates%22%3A%20%5B-118.12515525200001%2C%2034.093285893000015%5D%2C%20%22type%22%3A%20%22Point%22%7D%2C%20%22id%22%3A%20%2224%22%2C%20%22properties%22%3A%20%7B%22feed_key%22%3A%20%22d76560b3dfecce2d588023bf1d1c4c2d%22%2C%20%22name%22%3A%20%22Alhambra%20Schedule%22%2C%20%22stop_event_count%22%3A%2017%2C%20%22stop_id%22%3A%20%222619811%22%7D%2C%20%22type%22%3A%20%22Feature%22%7D%2C%20%7B%22bbox%22%3A%20%5B-118.12515525200001%2C%2034.093285893000015%2C%20-118.12515525200001%2C%2034.093285893000015%5D%2C%20%22geometry%22%3A%20%7B%22coordinates%22%3A%20%5B-118.12515525200001%2C%2034.093285893000015%5D%2C%20%22type%22%3A%20%22Point%22%7D%2C%20%22id%22%3A%20%2225%22%2C%20%22properties%22%3A%20%7B%22feed_key%22%3A%20%22d76560b3dfecce2d588023bf1d1c4c2d%22%2C%20%22name%22%3A%20%22Alhambra%20Schedule%22%2C%20%22stop_event_count%22%3A%2017%2C%20%22stop_id%22%3A%20%222619811%22%7D%2C%20%22type%22%3A%20%22Feature%22%7D%2C%20%7B%22bbox%22%3A%20%5B-118.12515525200001%2C%2034.093285893000015%2C%20-118.12515525200001%2C%2034.093285893000015%5D%2C%20%22geometry%22%3A%20%7B%22coordinates%22%3A%20%5B-118.12515525200001%2C%2034.093285893000015%5D%2C%20%22type%22%3A%20%22Point%22%7D%2C%20%22id%22%3A%20%2226%22%2C%20%22properties%22%3A%20%7B%22feed_key%22%3A%20%22d76560b3dfecce2d588023bf1d1c4c2d%22%2C%20%22name%22%3A%20%22Alhambra%20Schedule%22%2C%20%22stop_event_count%22%3A%2017%2C%20%22stop_id%22%3A%20%222619811%22%7D%2C%20%22type%22%3A%20%22Feature%22%7D%2C%20%7B%22bbox%22%3A%20%5B-118.12515525200001%2C%2034.093285893000015%2C%20-118.12515525200001%2C%2034.093285893000015%5D%2C%20%22geometry%22%3A%20%7B%22coordinates%22%3A%20%5B-118.12515525200001%2C%2034.093285893000015%5D%2C%20%22type%22%3A%20%22Point%22%7D%2C%20%22id%22%3A%20%2227%22%2C%20%22properties%22%3A%20%7B%22feed_key%22%3A%20%22d76560b3dfecce2d588023bf1d1c4c2d%22%2C%20%22name%22%3A%20%22Alhambra%20Schedule%22%2C%20%22stop_event_count%22%3A%2017%2C%20%22stop_id%22%3A%20%222619811%22%7D%2C%20%22type%22%3A%20%22Feature%22%7D%2C%20%7B%22bbox%22%3A%20%5B-118.12515525200001%2C%2034.093285893000015%2C%20-118.12515525200001%2C%2034.093285893000015%5D%2C%20%22geometry%22%3A%20%7B%22coordinates%22%3A%20%5B-118.12515525200001%2C%2034.093285893000015%5D%2C%20%22type%22%3A%20%22Point%22%7D%2C%20%22id%22%3A%20%2228%22%2C%20%22properties%22%3A%20%7B%22feed_key%22%3A%20%22d76560b3dfecce2d588023bf1d1c4c2d%22%2C%20%22name%22%3A%20%22Alhambra%20Schedule%22%2C%20%22stop_event_count%22%3A%2017%2C%20%22stop_id%22%3A%20%222619811%22%7D%2C%20%22type%22%3A%20%22Feature%22%7D%2C%20%7B%22bbox%22%3A%20%5B-118.12515525200001%2C%2034.093285893000015%2C%20-118.12515525200001%2C%2034.093285893000015%5D%2C%20%22geometry%22%3A%20%7B%22coordinates%22%3A%20%5B-118.12515525200001%2C%2034.093285893000015%5D%2C%20%22type%22%3A%20%22Point%22%7D%2C%20%22id%22%3A%20%2229%22%2C%20%22properties%22%3A%20%7B%22feed_key%22%3A%20%22d76560b3dfecce2d588023bf1d1c4c2d%22%2C%20%22name%22%3A%20%22Alhambra%20Schedule%22%2C%20%22stop_event_count%22%3A%2017%2C%20%22stop_id%22%3A%20%222619811%22%7D%2C%20%22type%22%3A%20%22Feature%22%7D%2C%20%7B%22bbox%22%3A%20%5B-118.12515525200001%2C%2034.093285893000015%2C%20-118.12515525200001%2C%2034.093285893000015%5D%2C%20%22geometry%22%3A%20%7B%22coordinates%22%3A%20%5B-118.12515525200001%2C%2034.093285893000015%5D%2C%20%22type%22%3A%20%22Point%22%7D%2C%20%22id%22%3A%20%2230%22%2C%20%22properties%22%3A%20%7B%22feed_key%22%3A%20%22d76560b3dfecce2d588023bf1d1c4c2d%22%2C%20%22name%22%3A%20%22Alhambra%20Schedule%22%2C%20%22stop_event_count%22%3A%2017%2C%20%22stop_id%22%3A%20%222619811%22%7D%2C%20%22type%22%3A%20%22Feature%22%7D%2C%20%7B%22bbox%22%3A%20%5B-118.12515525200001%2C%2034.093285893000015%2C%20-118.12515525200001%2C%2034.093285893000015%5D%2C%20%22geometry%22%3A%20%7B%22coordinates%22%3A%20%5B-118.12515525200001%2C%2034.093285893000015%5D%2C%20%22type%22%3A%20%22Point%22%7D%2C%20%22id%22%3A%20%2231%22%2C%20%22properties%22%3A%20%7B%22feed_key%22%3A%20%22d76560b3dfecce2d588023bf1d1c4c2d%22%2C%20%22name%22%3A%20%22Alhambra%20Schedule%22%2C%20%22stop_event_count%22%3A%2017%2C%20%22stop_id%22%3A%20%222619811%22%7D%2C%20%22type%22%3A%20%22Feature%22%7D%2C%20%7B%22bbox%22%3A%20%5B-118.12515525200001%2C%2034.093285893000015%2C%20-118.12515525200001%2C%2034.093285893000015%5D%2C%20%22geometry%22%3A%20%7B%22coordinates%22%3A%20%5B-118.12515525200001%2C%2034.093285893000015%5D%2C%20%22type%22%3A%20%22Point%22%7D%2C%20%22id%22%3A%20%2232%22%2C%20%22properties%22%3A%20%7B%22feed_key%22%3A%20%22d76560b3dfecce2d588023bf1d1c4c2d%22%2C%20%22name%22%3A%20%22Alhambra%20Schedule%22%2C%20%22stop_event_count%22%3A%2017%2C%20%22stop_id%22%3A%20%222619811%22%7D%2C%20%22type%22%3A%20%22Feature%22%7D%2C%20%7B%22bbox%22%3A%20%5B-118.12515525200001%2C%2034.093285893000015%2C%20-118.12515525200001%2C%2034.093285893000015%5D%2C%20%22geometry%22%3A%20%7B%22coordinates%22%3A%20%5B-118.12515525200001%2C%2034.093285893000015%5D%2C%20%22type%22%3A%20%22Point%22%7D%2C%20%22id%22%3A%20%2233%22%2C%20%22properties%22%3A%20%7B%22feed_key%22%3A%20%22d76560b3dfecce2d588023bf1d1c4c2d%22%2C%20%22name%22%3A%20%22Alhambra%20Schedule%22%2C%20%22stop_event_count%22%3A%2017%2C%20%22stop_id%22%3A%20%222619811%22%7D%2C%20%22type%22%3A%20%22Feature%22%7D%2C%20%7B%22bbox%22%3A%20%5B-118.12515525200001%2C%2034.093285893000015%2C%20-118.12515525200001%2C%2034.093285893000015%5D%2C%20%22geometry%22%3A%20%7B%22coordinates%22%3A%20%5B-118.12515525200001%2C%2034.093285893000015%5D%2C%20%22type%22%3A%20%22Point%22%7D%2C%20%22id%22%3A%20%2234%22%2C%20%22properties%22%3A%20%7B%22feed_key%22%3A%20%22d76560b3dfecce2d588023bf1d1c4c2d%22%2C%20%22name%22%3A%20%22Alhambra%20Schedule%22%2C%20%22stop_event_count%22%3A%2017%2C%20%22stop_id%22%3A%20%222619811%22%7D%2C%20%22type%22%3A%20%22Feature%22%7D%2C%20%7B%22bbox%22%3A%20%5B-118.12515525200001%2C%2034.093285893000015%2C%20-118.12515525200001%2C%2034.093285893000015%5D%2C%20%22geometry%22%3A%20%7B%22coordinates%22%3A%20%5B-118.12515525200001%2C%2034.093285893000015%5D%2C%20%22type%22%3A%20%22Point%22%7D%2C%20%22id%22%3A%20%2235%22%2C%20%22properties%22%3A%20%7B%22feed_key%22%3A%20%22d76560b3dfecce2d588023bf1d1c4c2d%22%2C%20%22name%22%3A%20%22Alhambra%20Schedule%22%2C%20%22stop_event_count%22%3A%2017%2C%20%22stop_id%22%3A%20%222619811%22%7D%2C%20%22type%22%3A%20%22Feature%22%7D%2C%20%7B%22bbox%22%3A%20%5B-118.12515525200001%2C%2034.093285893000015%2C%20-118.12515525200001%2C%2034.093285893000015%5D%2C%20%22geometry%22%3A%20%7B%22coordinates%22%3A%20%5B-118.12515525200001%2C%2034.093285893000015%5D%2C%20%22type%22%3A%20%22Point%22%7D%2C%20%22id%22%3A%20%2236%22%2C%20%22properties%22%3A%20%7B%22feed_key%22%3A%20%22d76560b3dfecce2d588023bf1d1c4c2d%22%2C%20%22name%22%3A%20%22Alhambra%20Schedule%22%2C%20%22stop_event_count%22%3A%2017%2C%20%22stop_id%22%3A%20%222619811%22%7D%2C%20%22type%22%3A%20%22Feature%22%7D%2C%20%7B%22bbox%22%3A%20%5B-118.12515525200001%2C%2034.093285893000015%2C%20-118.12515525200001%2C%2034.093285893000015%5D%2C%20%22geometry%22%3A%20%7B%22coordinates%22%3A%20%5B-118.12515525200001%2C%2034.093285893000015%5D%2C%20%22type%22%3A%20%22Point%22%7D%2C%20%22id%22%3A%20%2237%22%2C%20%22properties%22%3A%20%7B%22feed_key%22%3A%20%22d76560b3dfecce2d588023bf1d1c4c2d%22%2C%20%22name%22%3A%20%22Alhambra%20Schedule%22%2C%20%22stop_event_count%22%3A%2017%2C%20%22stop_id%22%3A%20%222619811%22%7D%2C%20%22type%22%3A%20%22Feature%22%7D%2C%20%7B%22bbox%22%3A%20%5B-118.12515525200001%2C%2034.093285893000015%2C%20-118.12515525200001%2C%2034.093285893000015%5D%2C%20%22geometry%22%3A%20%7B%22coordinates%22%3A%20%5B-118.12515525200001%2C%2034.093285893000015%5D%2C%20%22type%22%3A%20%22Point%22%7D%2C%20%22id%22%3A%20%2238%22%2C%20%22properties%22%3A%20%7B%22feed_key%22%3A%20%22d76560b3dfecce2d588023bf1d1c4c2d%22%2C%20%22name%22%3A%20%22Alhambra%20Schedule%22%2C%20%22stop_event_count%22%3A%2017%2C%20%22stop_id%22%3A%20%222619811%22%7D%2C%20%22type%22%3A%20%22Feature%22%7D%2C%20%7B%22bbox%22%3A%20%5B-118.12515525200001%2C%2034.093285893000015%2C%20-118.12515525200001%2C%2034.093285893000015%5D%2C%20%22geometry%22%3A%20%7B%22coordinates%22%3A%20%5B-118.12515525200001%2C%2034.093285893000015%5D%2C%20%22type%22%3A%20%22Point%22%7D%2C%20%22id%22%3A%20%2239%22%2C%20%22properties%22%3A%20%7B%22feed_key%22%3A%20%22d76560b3dfecce2d588023bf1d1c4c2d%22%2C%20%22name%22%3A%20%22Alhambra%20Schedule%22%2C%20%22stop_event_count%22%3A%2017%2C%20%22stop_id%22%3A%20%222619811%22%7D%2C%20%22type%22%3A%20%22Feature%22%7D%2C%20%7B%22bbox%22%3A%20%5B-118.12515525200001%2C%2034.093285893000015%2C%20-118.12515525200001%2C%2034.093285893000015%5D%2C%20%22geometry%22%3A%20%7B%22coordinates%22%3A%20%5B-118.12515525200001%2C%2034.093285893000015%5D%2C%20%22type%22%3A%20%22Point%22%7D%2C%20%22id%22%3A%20%2240%22%2C%20%22properties%22%3A%20%7B%22feed_key%22%3A%20%22d76560b3dfecce2d588023bf1d1c4c2d%22%2C%20%22name%22%3A%20%22Alhambra%20Schedule%22%2C%20%22stop_event_count%22%3A%2017%2C%20%22stop_id%22%3A%20%222619811%22%7D%2C%20%22type%22%3A%20%22Feature%22%7D%2C%20%7B%22bbox%22%3A%20%5B-118.12515525200001%2C%2034.093285893000015%2C%20-118.12515525200001%2C%2034.093285893000015%5D%2C%20%22geometry%22%3A%20%7B%22coordinates%22%3A%20%5B-118.12515525200001%2C%2034.093285893000015%5D%2C%20%22type%22%3A%20%22Point%22%7D%2C%20%22id%22%3A%20%2241%22%2C%20%22properties%22%3A%20%7B%22feed_key%22%3A%20%22d76560b3dfecce2d588023bf1d1c4c2d%22%2C%20%22name%22%3A%20%22Alhambra%20Schedule%22%2C%20%22stop_event_count%22%3A%2017%2C%20%22stop_id%22%3A%20%222619811%22%7D%2C%20%22type%22%3A%20%22Feature%22%7D%2C%20%7B%22bbox%22%3A%20%5B-118.12515525200001%2C%2034.093285893000015%2C%20-118.12515525200001%2C%2034.093285893000015%5D%2C%20%22geometry%22%3A%20%7B%22coordinates%22%3A%20%5B-118.12515525200001%2C%2034.093285893000015%5D%2C%20%22type%22%3A%20%22Point%22%7D%2C%20%22id%22%3A%20%2242%22%2C%20%22properties%22%3A%20%7B%22feed_key%22%3A%20%22d76560b3dfecce2d588023bf1d1c4c2d%22%2C%20%22name%22%3A%20%22Alhambra%20Schedule%22%2C%20%22stop_event_count%22%3A%2017%2C%20%22stop_id%22%3A%20%222619811%22%7D%2C%20%22type%22%3A%20%22Feature%22%7D%2C%20%7B%22bbox%22%3A%20%5B-118.12515525200001%2C%2034.093285893000015%2C%20-118.12515525200001%2C%2034.093285893000015%5D%2C%20%22geometry%22%3A%20%7B%22coordinates%22%3A%20%5B-118.12515525200001%2C%2034.093285893000015%5D%2C%20%22type%22%3A%20%22Point%22%7D%2C%20%22id%22%3A%20%2243%22%2C%20%22properties%22%3A%20%7B%22feed_key%22%3A%20%22d76560b3dfecce2d588023bf1d1c4c2d%22%2C%20%22name%22%3A%20%22Alhambra%20Schedule%22%2C%20%22stop_event_count%22%3A%2017%2C%20%22stop_id%22%3A%20%222619811%22%7D%2C%20%22type%22%3A%20%22Feature%22%7D%2C%20%7B%22bbox%22%3A%20%5B-118.12515525200001%2C%2034.093285893000015%2C%20-118.12515525200001%2C%2034.093285893000015%5D%2C%20%22geometry%22%3A%20%7B%22coordinates%22%3A%20%5B-118.12515525200001%2C%2034.093285893000015%5D%2C%20%22type%22%3A%20%22Point%22%7D%2C%20%22id%22%3A%20%2244%22%2C%20%22properties%22%3A%20%7B%22feed_key%22%3A%20%22d76560b3dfecce2d588023bf1d1c4c2d%22%2C%20%22name%22%3A%20%22Alhambra%20Schedule%22%2C%20%22stop_event_count%22%3A%2017%2C%20%22stop_id%22%3A%20%222619811%22%7D%2C%20%22type%22%3A%20%22Feature%22%7D%2C%20%7B%22bbox%22%3A%20%5B-118.12515525200001%2C%2034.093285893000015%2C%20-118.12515525200001%2C%2034.093285893000015%5D%2C%20%22geometry%22%3A%20%7B%22coordinates%22%3A%20%5B-118.12515525200001%2C%2034.093285893000015%5D%2C%20%22type%22%3A%20%22Point%22%7D%2C%20%22id%22%3A%20%2245%22%2C%20%22properties%22%3A%20%7B%22feed_key%22%3A%20%22d76560b3dfecce2d588023bf1d1c4c2d%22%2C%20%22name%22%3A%20%22Alhambra%20Schedule%22%2C%20%22stop_event_count%22%3A%2017%2C%20%22stop_id%22%3A%20%222619811%22%7D%2C%20%22type%22%3A%20%22Feature%22%7D%2C%20%7B%22bbox%22%3A%20%5B-118.12515525200001%2C%2034.093285893000015%2C%20-118.12515525200001%2C%2034.093285893000015%5D%2C%20%22geometry%22%3A%20%7B%22coordinates%22%3A%20%5B-118.12515525200001%2C%2034.093285893000015%5D%2C%20%22type%22%3A%20%22Point%22%7D%2C%20%22id%22%3A%20%2246%22%2C%20%22properties%22%3A%20%7B%22feed_key%22%3A%20%22d76560b3dfecce2d588023bf1d1c4c2d%22%2C%20%22name%22%3A%20%22Alhambra%20Schedule%22%2C%20%22stop_event_count%22%3A%2017%2C%20%22stop_id%22%3A%20%222619811%22%7D%2C%20%22type%22%3A%20%22Feature%22%7D%2C%20%7B%22bbox%22%3A%20%5B-118.12515525200001%2C%2034.093285893000015%2C%20-118.12515525200001%2C%2034.093285893000015%5D%2C%20%22geometry%22%3A%20%7B%22coordinates%22%3A%20%5B-118.12515525200001%2C%2034.093285893000015%5D%2C%20%22type%22%3A%20%22Point%22%7D%2C%20%22id%22%3A%20%2247%22%2C%20%22properties%22%3A%20%7B%22feed_key%22%3A%20%22d76560b3dfecce2d588023bf1d1c4c2d%22%2C%20%22name%22%3A%20%22Alhambra%20Schedule%22%2C%20%22stop_event_count%22%3A%2017%2C%20%22stop_id%22%3A%20%222619811%22%7D%2C%20%22type%22%3A%20%22Feature%22%7D%2C%20%7B%22bbox%22%3A%20%5B-118.12515525200001%2C%2034.093285893000015%2C%20-118.12515525200001%2C%2034.093285893000015%5D%2C%20%22geometry%22%3A%20%7B%22coordinates%22%3A%20%5B-118.12515525200001%2C%2034.093285893000015%5D%2C%20%22type%22%3A%20%22Point%22%7D%2C%20%22id%22%3A%20%2248%22%2C%20%22properties%22%3A%20%7B%22feed_key%22%3A%20%22d76560b3dfecce2d588023bf1d1c4c2d%22%2C%20%22name%22%3A%20%22Alhambra%20Schedule%22%2C%20%22stop_event_count%22%3A%2017%2C%20%22stop_id%22%3A%20%222619811%22%7D%2C%20%22type%22%3A%20%22Feature%22%7D%2C%20%7B%22bbox%22%3A%20%5B-118.12515525200001%2C%2034.093285893000015%2C%20-118.12515525200001%2C%2034.093285893000015%5D%2C%20%22geometry%22%3A%20%7B%22coordinates%22%3A%20%5B-118.12515525200001%2C%2034.093285893000015%5D%2C%20%22type%22%3A%20%22Point%22%7D%2C%20%22id%22%3A%20%2249%22%2C%20%22properties%22%3A%20%7B%22feed_key%22%3A%20%22d76560b3dfecce2d588023bf1d1c4c2d%22%2C%20%22name%22%3A%20%22Alhambra%20Schedule%22%2C%20%22stop_event_count%22%3A%2017%2C%20%22stop_id%22%3A%20%222619811%22%7D%2C%20%22type%22%3A%20%22Feature%22%7D%2C%20%7B%22bbox%22%3A%20%5B-118.12515525200001%2C%2034.093285893000015%2C%20-118.12515525200001%2C%2034.093285893000015%5D%2C%20%22geometry%22%3A%20%7B%22coordinates%22%3A%20%5B-118.12515525200001%2C%2034.093285893000015%5D%2C%20%22type%22%3A%20%22Point%22%7D%2C%20%22id%22%3A%20%2250%22%2C%20%22properties%22%3A%20%7B%22feed_key%22%3A%20%22d76560b3dfecce2d588023bf1d1c4c2d%22%2C%20%22name%22%3A%20%22Alhambra%20Schedule%22%2C%20%22stop_event_count%22%3A%2017%2C%20%22stop_id%22%3A%20%222619811%22%7D%2C%20%22type%22%3A%20%22Feature%22%7D%2C%20%7B%22bbox%22%3A%20%5B-118.12515525200001%2C%2034.093285893000015%2C%20-118.12515525200001%2C%2034.093285893000015%5D%2C%20%22geometry%22%3A%20%7B%22coordinates%22%3A%20%5B-118.12515525200001%2C%2034.093285893000015%5D%2C%20%22type%22%3A%20%22Point%22%7D%2C%20%22id%22%3A%20%2251%22%2C%20%22properties%22%3A%20%7B%22feed_key%22%3A%20%22d76560b3dfecce2d588023bf1d1c4c2d%22%2C%20%22name%22%3A%20%22Alhambra%20Schedule%22%2C%20%22stop_event_count%22%3A%2017%2C%20%22stop_id%22%3A%20%222619811%22%7D%2C%20%22type%22%3A%20%22Feature%22%7D%2C%20%7B%22bbox%22%3A%20%5B-118.12515525200001%2C%2034.093285893000015%2C%20-118.12515525200001%2C%2034.093285893000015%5D%2C%20%22geometry%22%3A%20%7B%22coordinates%22%3A%20%5B-118.12515525200001%2C%2034.093285893000015%5D%2C%20%22type%22%3A%20%22Point%22%7D%2C%20%22id%22%3A%20%2252%22%2C%20%22properties%22%3A%20%7B%22feed_key%22%3A%20%22d76560b3dfecce2d588023bf1d1c4c2d%22%2C%20%22name%22%3A%20%22Alhambra%20Schedule%22%2C%20%22stop_event_count%22%3A%2017%2C%20%22stop_id%22%3A%20%222619811%22%7D%2C%20%22type%22%3A%20%22Feature%22%7D%2C%20%7B%22bbox%22%3A%20%5B-118.12515525200001%2C%2034.093285893000015%2C%20-118.12515525200001%2C%2034.093285893000015%5D%2C%20%22geometry%22%3A%20%7B%22coordinates%22%3A%20%5B-118.12515525200001%2C%2034.093285893000015%5D%2C%20%22type%22%3A%20%22Point%22%7D%2C%20%22id%22%3A%20%2253%22%2C%20%22properties%22%3A%20%7B%22feed_key%22%3A%20%22d76560b3dfecce2d588023bf1d1c4c2d%22%2C%20%22name%22%3A%20%22Alhambra%20Schedule%22%2C%20%22stop_event_count%22%3A%2017%2C%20%22stop_id%22%3A%20%222619811%22%7D%2C%20%22type%22%3A%20%22Feature%22%7D%2C%20%7B%22bbox%22%3A%20%5B-118.12515525200001%2C%2034.093285893000015%2C%20-118.12515525200001%2C%2034.093285893000015%5D%2C%20%22geometry%22%3A%20%7B%22coordinates%22%3A%20%5B-118.12515525200001%2C%2034.093285893000015%5D%2C%20%22type%22%3A%20%22Point%22%7D%2C%20%22id%22%3A%20%2254%22%2C%20%22properties%22%3A%20%7B%22feed_key%22%3A%20%22d76560b3dfecce2d588023bf1d1c4c2d%22%2C%20%22name%22%3A%20%22Alhambra%20Schedule%22%2C%20%22stop_event_count%22%3A%2017%2C%20%22stop_id%22%3A%20%222619811%22%7D%2C%20%22type%22%3A%20%22Feature%22%7D%2C%20%7B%22bbox%22%3A%20%5B-118.12515525200001%2C%2034.093285893000015%2C%20-118.12515525200001%2C%2034.093285893000015%5D%2C%20%22geometry%22%3A%20%7B%22coordinates%22%3A%20%5B-118.12515525200001%2C%2034.093285893000015%5D%2C%20%22type%22%3A%20%22Point%22%7D%2C%20%22id%22%3A%20%2255%22%2C%20%22properties%22%3A%20%7B%22feed_key%22%3A%20%22d76560b3dfecce2d588023bf1d1c4c2d%22%2C%20%22name%22%3A%20%22Alhambra%20Schedule%22%2C%20%22stop_event_count%22%3A%2017%2C%20%22stop_id%22%3A%20%222619811%22%7D%2C%20%22type%22%3A%20%22Feature%22%7D%2C%20%7B%22bbox%22%3A%20%5B-118.12515525200001%2C%2034.093285893000015%2C%20-118.12515525200001%2C%2034.093285893000015%5D%2C%20%22geometry%22%3A%20%7B%22coordinates%22%3A%20%5B-118.12515525200001%2C%2034.093285893000015%5D%2C%20%22type%22%3A%20%22Point%22%7D%2C%20%22id%22%3A%20%2256%22%2C%20%22properties%22%3A%20%7B%22feed_key%22%3A%20%22d76560b3dfecce2d588023bf1d1c4c2d%22%2C%20%22name%22%3A%20%22Alhambra%20Schedule%22%2C%20%22stop_event_count%22%3A%2017%2C%20%22stop_id%22%3A%20%222619811%22%7D%2C%20%22type%22%3A%20%22Feature%22%7D%2C%20%7B%22bbox%22%3A%20%5B-118.12515525200001%2C%2034.093285893000015%2C%20-118.12515525200001%2C%2034.093285893000015%5D%2C%20%22geometry%22%3A%20%7B%22coordinates%22%3A%20%5B-118.12515525200001%2C%2034.093285893000015%5D%2C%20%22type%22%3A%20%22Point%22%7D%2C%20%22id%22%3A%20%2257%22%2C%20%22properties%22%3A%20%7B%22feed_key%22%3A%20%22d76560b3dfecce2d588023bf1d1c4c2d%22%2C%20%22name%22%3A%20%22Alhambra%20Schedule%22%2C%20%22stop_event_count%22%3A%2017%2C%20%22stop_id%22%3A%20%222619811%22%7D%2C%20%22type%22%3A%20%22Feature%22%7D%2C%20%7B%22bbox%22%3A%20%5B-118.12515525200001%2C%2034.093285893000015%2C%20-118.12515525200001%2C%2034.093285893000015%5D%2C%20%22geometry%22%3A%20%7B%22coordinates%22%3A%20%5B-118.12515525200001%2C%2034.093285893000015%5D%2C%20%22type%22%3A%20%22Point%22%7D%2C%20%22id%22%3A%20%2258%22%2C%20%22properties%22%3A%20%7B%22feed_key%22%3A%20%22d76560b3dfecce2d588023bf1d1c4c2d%22%2C%20%22name%22%3A%20%22Alhambra%20Schedule%22%2C%20%22stop_event_count%22%3A%2017%2C%20%22stop_id%22%3A%20%222619811%22%7D%2C%20%22type%22%3A%20%22Feature%22%7D%2C%20%7B%22bbox%22%3A%20%5B-118.12515525200001%2C%2034.093285893000015%2C%20-118.12515525200001%2C%2034.093285893000015%5D%2C%20%22geometry%22%3A%20%7B%22coordinates%22%3A%20%5B-118.12515525200001%2C%2034.093285893000015%5D%2C%20%22type%22%3A%20%22Point%22%7D%2C%20%22id%22%3A%20%2259%22%2C%20%22properties%22%3A%20%7B%22feed_key%22%3A%20%22d76560b3dfecce2d588023bf1d1c4c2d%22%2C%20%22name%22%3A%20%22Alhambra%20Schedule%22%2C%20%22stop_event_count%22%3A%2017%2C%20%22stop_id%22%3A%20%222619811%22%7D%2C%20%22type%22%3A%20%22Feature%22%7D%2C%20%7B%22bbox%22%3A%20%5B-118.12515525200001%2C%2034.093285893000015%2C%20-118.12515525200001%2C%2034.093285893000015%5D%2C%20%22geometry%22%3A%20%7B%22coordinates%22%3A%20%5B-118.12515525200001%2C%2034.093285893000015%5D%2C%20%22type%22%3A%20%22Point%22%7D%2C%20%22id%22%3A%20%2260%22%2C%20%22properties%22%3A%20%7B%22feed_key%22%3A%20%22d76560b3dfecce2d588023bf1d1c4c2d%22%2C%20%22name%22%3A%20%22Alhambra%20Schedule%22%2C%20%22stop_event_count%22%3A%2017%2C%20%22stop_id%22%3A%20%222619811%22%7D%2C%20%22type%22%3A%20%22Feature%22%7D%2C%20%7B%22bbox%22%3A%20%5B-118.12515525200001%2C%2034.093285893000015%2C%20-118.12515525200001%2C%2034.093285893000015%5D%2C%20%22geometry%22%3A%20%7B%22coordinates%22%3A%20%5B-118.12515525200001%2C%2034.093285893000015%5D%2C%20%22type%22%3A%20%22Point%22%7D%2C%20%22id%22%3A%20%2261%22%2C%20%22properties%22%3A%20%7B%22feed_key%22%3A%20%22d76560b3dfecce2d588023bf1d1c4c2d%22%2C%20%22name%22%3A%20%22Alhambra%20Schedule%22%2C%20%22stop_event_count%22%3A%2017%2C%20%22stop_id%22%3A%20%222619811%22%7D%2C%20%22type%22%3A%20%22Feature%22%7D%2C%20%7B%22bbox%22%3A%20%5B-118.12515525200001%2C%2034.093285893000015%2C%20-118.12515525200001%2C%2034.093285893000015%5D%2C%20%22geometry%22%3A%20%7B%22coordinates%22%3A%20%5B-118.12515525200001%2C%2034.093285893000015%5D%2C%20%22type%22%3A%20%22Point%22%7D%2C%20%22id%22%3A%20%2262%22%2C%20%22properties%22%3A%20%7B%22feed_key%22%3A%20%22d76560b3dfecce2d588023bf1d1c4c2d%22%2C%20%22name%22%3A%20%22Alhambra%20Schedule%22%2C%20%22stop_event_count%22%3A%2017%2C%20%22stop_id%22%3A%20%222619811%22%7D%2C%20%22type%22%3A%20%22Feature%22%7D%2C%20%7B%22bbox%22%3A%20%5B-118.12515525200001%2C%2034.093285893000015%2C%20-118.12515525200001%2C%2034.093285893000015%5D%2C%20%22geometry%22%3A%20%7B%22coordinates%22%3A%20%5B-118.12515525200001%2C%2034.093285893000015%5D%2C%20%22type%22%3A%20%22Point%22%7D%2C%20%22id%22%3A%20%2263%22%2C%20%22properties%22%3A%20%7B%22feed_key%22%3A%20%22d76560b3dfecce2d588023bf1d1c4c2d%22%2C%20%22name%22%3A%20%22Alhambra%20Schedule%22%2C%20%22stop_event_count%22%3A%2017%2C%20%22stop_id%22%3A%20%222619811%22%7D%2C%20%22type%22%3A%20%22Feature%22%7D%2C%20%7B%22bbox%22%3A%20%5B-118.12515525200001%2C%2034.093285893000015%2C%20-118.12515525200001%2C%2034.093285893000015%5D%2C%20%22geometry%22%3A%20%7B%22coordinates%22%3A%20%5B-118.12515525200001%2C%2034.093285893000015%5D%2C%20%22type%22%3A%20%22Point%22%7D%2C%20%22id%22%3A%20%2264%22%2C%20%22properties%22%3A%20%7B%22feed_key%22%3A%20%22d76560b3dfecce2d588023bf1d1c4c2d%22%2C%20%22name%22%3A%20%22Alhambra%20Schedule%22%2C%20%22stop_event_count%22%3A%2017%2C%20%22stop_id%22%3A%20%222619811%22%7D%2C%20%22type%22%3A%20%22Feature%22%7D%2C%20%7B%22bbox%22%3A%20%5B-118.12515525200001%2C%2034.093285893000015%2C%20-118.12515525200001%2C%2034.093285893000015%5D%2C%20%22geometry%22%3A%20%7B%22coordinates%22%3A%20%5B-118.12515525200001%2C%2034.093285893000015%5D%2C%20%22type%22%3A%20%22Point%22%7D%2C%20%22id%22%3A%20%2265%22%2C%20%22properties%22%3A%20%7B%22feed_key%22%3A%20%22d76560b3dfecce2d588023bf1d1c4c2d%22%2C%20%22name%22%3A%20%22Alhambra%20Schedule%22%2C%20%22stop_event_count%22%3A%2017%2C%20%22stop_id%22%3A%20%222619811%22%7D%2C%20%22type%22%3A%20%22Feature%22%7D%2C%20%7B%22bbox%22%3A%20%5B-118.12515525200001%2C%2034.093285893000015%2C%20-118.12515525200001%2C%2034.093285893000015%5D%2C%20%22geometry%22%3A%20%7B%22coordinates%22%3A%20%5B-118.12515525200001%2C%2034.093285893000015%5D%2C%20%22type%22%3A%20%22Point%22%7D%2C%20%22id%22%3A%20%2266%22%2C%20%22properties%22%3A%20%7B%22feed_key%22%3A%20%22d76560b3dfecce2d588023bf1d1c4c2d%22%2C%20%22name%22%3A%20%22Alhambra%20Schedule%22%2C%20%22stop_event_count%22%3A%2017%2C%20%22stop_id%22%3A%20%222619811%22%7D%2C%20%22type%22%3A%20%22Feature%22%7D%2C%20%7B%22bbox%22%3A%20%5B-118.12515525200001%2C%2034.093285893000015%2C%20-118.12515525200001%2C%2034.093285893000015%5D%2C%20%22geometry%22%3A%20%7B%22coordinates%22%3A%20%5B-118.12515525200001%2C%2034.093285893000015%5D%2C%20%22type%22%3A%20%22Point%22%7D%2C%20%22id%22%3A%20%2267%22%2C%20%22properties%22%3A%20%7B%22feed_key%22%3A%20%22d76560b3dfecce2d588023bf1d1c4c2d%22%2C%20%22name%22%3A%20%22Alhambra%20Schedule%22%2C%20%22stop_event_count%22%3A%2017%2C%20%22stop_id%22%3A%20%222619811%22%7D%2C%20%22type%22%3A%20%22Feature%22%7D%2C%20%7B%22bbox%22%3A%20%5B-118.12515525200001%2C%2034.093285893000015%2C%20-118.12515525200001%2C%2034.093285893000015%5D%2C%20%22geometry%22%3A%20%7B%22coordinates%22%3A%20%5B-118.12515525200001%2C%2034.093285893000015%5D%2C%20%22type%22%3A%20%22Point%22%7D%2C%20%22id%22%3A%20%2268%22%2C%20%22properties%22%3A%20%7B%22feed_key%22%3A%20%22d76560b3dfecce2d588023bf1d1c4c2d%22%2C%20%22name%22%3A%20%22Alhambra%20Schedule%22%2C%20%22stop_event_count%22%3A%2017%2C%20%22stop_id%22%3A%20%222619811%22%7D%2C%20%22type%22%3A%20%22Feature%22%7D%2C%20%7B%22bbox%22%3A%20%5B-118.12515525200001%2C%2034.093285893000015%2C%20-118.12515525200001%2C%2034.093285893000015%5D%2C%20%22geometry%22%3A%20%7B%22coordinates%22%3A%20%5B-118.12515525200001%2C%2034.093285893000015%5D%2C%20%22type%22%3A%20%22Point%22%7D%2C%20%22id%22%3A%20%2269%22%2C%20%22properties%22%3A%20%7B%22feed_key%22%3A%20%22d76560b3dfecce2d588023bf1d1c4c2d%22%2C%20%22name%22%3A%20%22Alhambra%20Schedule%22%2C%20%22stop_event_count%22%3A%2017%2C%20%22stop_id%22%3A%20%222619811%22%7D%2C%20%22type%22%3A%20%22Feature%22%7D%2C%20%7B%22bbox%22%3A%20%5B-118.12515525200001%2C%2034.093285893000015%2C%20-118.12515525200001%2C%2034.093285893000015%5D%2C%20%22geometry%22%3A%20%7B%22coordinates%22%3A%20%5B-118.12515525200001%2C%2034.093285893000015%5D%2C%20%22type%22%3A%20%22Point%22%7D%2C%20%22id%22%3A%20%2270%22%2C%20%22properties%22%3A%20%7B%22feed_key%22%3A%20%22d76560b3dfecce2d588023bf1d1c4c2d%22%2C%20%22name%22%3A%20%22Alhambra%20Schedule%22%2C%20%22stop_event_count%22%3A%2017%2C%20%22stop_id%22%3A%20%222619811%22%7D%2C%20%22type%22%3A%20%22Feature%22%7D%2C%20%7B%22bbox%22%3A%20%5B-118.12515525200001%2C%2034.093285893000015%2C%20-118.12515525200001%2C%2034.093285893000015%5D%2C%20%22geometry%22%3A%20%7B%22coordinates%22%3A%20%5B-118.12515525200001%2C%2034.093285893000015%5D%2C%20%22type%22%3A%20%22Point%22%7D%2C%20%22id%22%3A%20%2271%22%2C%20%22properties%22%3A%20%7B%22feed_key%22%3A%20%22d76560b3dfecce2d588023bf1d1c4c2d%22%2C%20%22name%22%3A%20%22Alhambra%20Schedule%22%2C%20%22stop_event_count%22%3A%2017%2C%20%22stop_id%22%3A%20%222619811%22%7D%2C%20%22type%22%3A%20%22Feature%22%7D%2C%20%7B%22bbox%22%3A%20%5B-118.12515525200001%2C%2034.093285893000015%2C%20-118.12515525200001%2C%2034.093285893000015%5D%2C%20%22geometry%22%3A%20%7B%22coordinates%22%3A%20%5B-118.12515525200001%2C%2034.093285893000015%5D%2C%20%22type%22%3A%20%22Point%22%7D%2C%20%22id%22%3A%20%2272%22%2C%20%22properties%22%3A%20%7B%22feed_key%22%3A%20%22d76560b3dfecce2d588023bf1d1c4c2d%22%2C%20%22name%22%3A%20%22Alhambra%20Schedule%22%2C%20%22stop_event_count%22%3A%2017%2C%20%22stop_id%22%3A%20%222619811%22%7D%2C%20%22type%22%3A%20%22Feature%22%7D%2C%20%7B%22bbox%22%3A%20%5B-118.12515525200001%2C%2034.093285893000015%2C%20-118.12515525200001%2C%2034.093285893000015%5D%2C%20%22geometry%22%3A%20%7B%22coordinates%22%3A%20%5B-118.12515525200001%2C%2034.093285893000015%5D%2C%20%22type%22%3A%20%22Point%22%7D%2C%20%22id%22%3A%20%2273%22%2C%20%22properties%22%3A%20%7B%22feed_key%22%3A%20%22d76560b3dfecce2d588023bf1d1c4c2d%22%2C%20%22name%22%3A%20%22Alhambra%20Schedule%22%2C%20%22stop_event_count%22%3A%2017%2C%20%22stop_id%22%3A%20%222619811%22%7D%2C%20%22type%22%3A%20%22Feature%22%7D%2C%20%7B%22bbox%22%3A%20%5B-118.12515525200001%2C%2034.093285893000015%2C%20-118.12515525200001%2C%2034.093285893000015%5D%2C%20%22geometry%22%3A%20%7B%22coordinates%22%3A%20%5B-118.12515525200001%2C%2034.093285893000015%5D%2C%20%22type%22%3A%20%22Point%22%7D%2C%20%22id%22%3A%20%2274%22%2C%20%22properties%22%3A%20%7B%22feed_key%22%3A%20%22d76560b3dfecce2d588023bf1d1c4c2d%22%2C%20%22name%22%3A%20%22Alhambra%20Schedule%22%2C%20%22stop_event_count%22%3A%2017%2C%20%22stop_id%22%3A%20%222619811%22%7D%2C%20%22type%22%3A%20%22Feature%22%7D%2C%20%7B%22bbox%22%3A%20%5B-118.12515525200001%2C%2034.093285893000015%2C%20-118.12515525200001%2C%2034.093285893000015%5D%2C%20%22geometry%22%3A%20%7B%22coordinates%22%3A%20%5B-118.12515525200001%2C%2034.093285893000015%5D%2C%20%22type%22%3A%20%22Point%22%7D%2C%20%22id%22%3A%20%2275%22%2C%20%22properties%22%3A%20%7B%22feed_key%22%3A%20%22d76560b3dfecce2d588023bf1d1c4c2d%22%2C%20%22name%22%3A%20%22Alhambra%20Schedule%22%2C%20%22stop_event_count%22%3A%2017%2C%20%22stop_id%22%3A%20%222619811%22%7D%2C%20%22type%22%3A%20%22Feature%22%7D%2C%20%7B%22bbox%22%3A%20%5B-118.12515525200001%2C%2034.093285893000015%2C%20-118.12515525200001%2C%2034.093285893000015%5D%2C%20%22geometry%22%3A%20%7B%22coordinates%22%3A%20%5B-118.12515525200001%2C%2034.093285893000015%5D%2C%20%22type%22%3A%20%22Point%22%7D%2C%20%22id%22%3A%20%2276%22%2C%20%22properties%22%3A%20%7B%22feed_key%22%3A%20%22d76560b3dfecce2d588023bf1d1c4c2d%22%2C%20%22name%22%3A%20%22Alhambra%20Schedule%22%2C%20%22stop_event_count%22%3A%2017%2C%20%22stop_id%22%3A%20%222619811%22%7D%2C%20%22type%22%3A%20%22Feature%22%7D%2C%20%7B%22bbox%22%3A%20%5B-118.12515525200001%2C%2034.093285893000015%2C%20-118.12515525200001%2C%2034.093285893000015%5D%2C%20%22geometry%22%3A%20%7B%22coordinates%22%3A%20%5B-118.12515525200001%2C%2034.093285893000015%5D%2C%20%22type%22%3A%20%22Point%22%7D%2C%20%22id%22%3A%20%2277%22%2C%20%22properties%22%3A%20%7B%22feed_key%22%3A%20%22d76560b3dfecce2d588023bf1d1c4c2d%22%2C%20%22name%22%3A%20%22Alhambra%20Schedule%22%2C%20%22stop_event_count%22%3A%2017%2C%20%22stop_id%22%3A%20%222619811%22%7D%2C%20%22type%22%3A%20%22Feature%22%7D%2C%20%7B%22bbox%22%3A%20%5B-118.12515525200001%2C%2034.093285893000015%2C%20-118.12515525200001%2C%2034.093285893000015%5D%2C%20%22geometry%22%3A%20%7B%22coordinates%22%3A%20%5B-118.12515525200001%2C%2034.093285893000015%5D%2C%20%22type%22%3A%20%22Point%22%7D%2C%20%22id%22%3A%20%2278%22%2C%20%22properties%22%3A%20%7B%22feed_key%22%3A%20%22d76560b3dfecce2d588023bf1d1c4c2d%22%2C%20%22name%22%3A%20%22Alhambra%20Schedule%22%2C%20%22stop_event_count%22%3A%2017%2C%20%22stop_id%22%3A%20%222619811%22%7D%2C%20%22type%22%3A%20%22Feature%22%7D%2C%20%7B%22bbox%22%3A%20%5B-118.12515525200001%2C%2034.093285893000015%2C%20-118.12515525200001%2C%2034.093285893000015%5D%2C%20%22geometry%22%3A%20%7B%22coordinates%22%3A%20%5B-118.12515525200001%2C%2034.093285893000015%5D%2C%20%22type%22%3A%20%22Point%22%7D%2C%20%22id%22%3A%20%2279%22%2C%20%22properties%22%3A%20%7B%22feed_key%22%3A%20%22d76560b3dfecce2d588023bf1d1c4c2d%22%2C%20%22name%22%3A%20%22Alhambra%20Schedule%22%2C%20%22stop_event_count%22%3A%2017%2C%20%22stop_id%22%3A%20%222619811%22%7D%2C%20%22type%22%3A%20%22Feature%22%7D%2C%20%7B%22bbox%22%3A%20%5B-118.12515525200001%2C%2034.093285893000015%2C%20-118.12515525200001%2C%2034.093285893000015%5D%2C%20%22geometry%22%3A%20%7B%22coordinates%22%3A%20%5B-118.12515525200001%2C%2034.093285893000015%5D%2C%20%22type%22%3A%20%22Point%22%7D%2C%20%22id%22%3A%20%2280%22%2C%20%22properties%22%3A%20%7B%22feed_key%22%3A%20%22d76560b3dfecce2d588023bf1d1c4c2d%22%2C%20%22name%22%3A%20%22Alhambra%20Schedule%22%2C%20%22stop_event_count%22%3A%2017%2C%20%22stop_id%22%3A%20%222619811%22%7D%2C%20%22type%22%3A%20%22Feature%22%7D%2C%20%7B%22bbox%22%3A%20%5B-118.12515525200001%2C%2034.093285893000015%2C%20-118.12515525200001%2C%2034.093285893000015%5D%2C%20%22geometry%22%3A%20%7B%22coordinates%22%3A%20%5B-118.12515525200001%2C%2034.093285893000015%5D%2C%20%22type%22%3A%20%22Point%22%7D%2C%20%22id%22%3A%20%2281%22%2C%20%22properties%22%3A%20%7B%22feed_key%22%3A%20%22d76560b3dfecce2d588023bf1d1c4c2d%22%2C%20%22name%22%3A%20%22Alhambra%20Schedule%22%2C%20%22stop_event_count%22%3A%2017%2C%20%22stop_id%22%3A%20%222619811%22%7D%2C%20%22type%22%3A%20%22Feature%22%7D%2C%20%7B%22bbox%22%3A%20%5B-118.12515525200001%2C%2034.093285893000015%2C%20-118.12515525200001%2C%2034.093285893000015%5D%2C%20%22geometry%22%3A%20%7B%22coordinates%22%3A%20%5B-118.12515525200001%2C%2034.093285893000015%5D%2C%20%22type%22%3A%20%22Point%22%7D%2C%20%22id%22%3A%20%2282%22%2C%20%22properties%22%3A%20%7B%22feed_key%22%3A%20%22d76560b3dfecce2d588023bf1d1c4c2d%22%2C%20%22name%22%3A%20%22Alhambra%20Schedule%22%2C%20%22stop_event_count%22%3A%2017%2C%20%22stop_id%22%3A%20%222619811%22%7D%2C%20%22type%22%3A%20%22Feature%22%7D%2C%20%7B%22bbox%22%3A%20%5B-118.12515525200001%2C%2034.093285893000015%2C%20-118.12515525200001%2C%2034.093285893000015%5D%2C%20%22geometry%22%3A%20%7B%22coordinates%22%3A%20%5B-118.12515525200001%2C%2034.093285893000015%5D%2C%20%22type%22%3A%20%22Point%22%7D%2C%20%22id%22%3A%20%2283%22%2C%20%22properties%22%3A%20%7B%22feed_key%22%3A%20%22d76560b3dfecce2d588023bf1d1c4c2d%22%2C%20%22name%22%3A%20%22Alhambra%20Schedule%22%2C%20%22stop_event_count%22%3A%2017%2C%20%22stop_id%22%3A%20%222619811%22%7D%2C%20%22type%22%3A%20%22Feature%22%7D%2C%20%7B%22bbox%22%3A%20%5B-118.12515525200001%2C%2034.093285893000015%2C%20-118.12515525200001%2C%2034.093285893000015%5D%2C%20%22geometry%22%3A%20%7B%22coordinates%22%3A%20%5B-118.12515525200001%2C%2034.093285893000015%5D%2C%20%22type%22%3A%20%22Point%22%7D%2C%20%22id%22%3A%20%2284%22%2C%20%22properties%22%3A%20%7B%22feed_key%22%3A%20%22d76560b3dfecce2d588023bf1d1c4c2d%22%2C%20%22name%22%3A%20%22Alhambra%20Schedule%22%2C%20%22stop_event_count%22%3A%2017%2C%20%22stop_id%22%3A%20%222619811%22%7D%2C%20%22type%22%3A%20%22Feature%22%7D%2C%20%7B%22bbox%22%3A%20%5B-118.12515525200001%2C%2034.093285893000015%2C%20-118.12515525200001%2C%2034.093285893000015%5D%2C%20%22geometry%22%3A%20%7B%22coordinates%22%3A%20%5B-118.12515525200001%2C%2034.093285893000015%5D%2C%20%22type%22%3A%20%22Point%22%7D%2C%20%22id%22%3A%20%2285%22%2C%20%22properties%22%3A%20%7B%22feed_key%22%3A%20%22d76560b3dfecce2d588023bf1d1c4c2d%22%2C%20%22name%22%3A%20%22Alhambra%20Schedule%22%2C%20%22stop_event_count%22%3A%2017%2C%20%22stop_id%22%3A%20%222619811%22%7D%2C%20%22type%22%3A%20%22Feature%22%7D%2C%20%7B%22bbox%22%3A%20%5B-118.12515525200001%2C%2034.093285893000015%2C%20-118.12515525200001%2C%2034.093285893000015%5D%2C%20%22geometry%22%3A%20%7B%22coordinates%22%3A%20%5B-118.12515525200001%2C%2034.093285893000015%5D%2C%20%22type%22%3A%20%22Point%22%7D%2C%20%22id%22%3A%20%2286%22%2C%20%22properties%22%3A%20%7B%22feed_key%22%3A%20%22d76560b3dfecce2d588023bf1d1c4c2d%22%2C%20%22name%22%3A%20%22Alhambra%20Schedule%22%2C%20%22stop_event_count%22%3A%2017%2C%20%22stop_id%22%3A%20%222619811%22%7D%2C%20%22type%22%3A%20%22Feature%22%7D%2C%20%7B%22bbox%22%3A%20%5B-118.12515525200001%2C%2034.093285893000015%2C%20-118.12515525200001%2C%2034.093285893000015%5D%2C%20%22geometry%22%3A%20%7B%22coordinates%22%3A%20%5B-118.12515525200001%2C%2034.093285893000015%5D%2C%20%22type%22%3A%20%22Point%22%7D%2C%20%22id%22%3A%20%2287%22%2C%20%22properties%22%3A%20%7B%22feed_key%22%3A%20%22d76560b3dfecce2d588023bf1d1c4c2d%22%2C%20%22name%22%3A%20%22Alhambra%20Schedule%22%2C%20%22stop_event_count%22%3A%2017%2C%20%22stop_id%22%3A%20%222619811%22%7D%2C%20%22type%22%3A%20%22Feature%22%7D%2C%20%7B%22bbox%22%3A%20%5B-118.12515525200001%2C%2034.093285893000015%2C%20-118.12515525200001%2C%2034.093285893000015%5D%2C%20%22geometry%22%3A%20%7B%22coordinates%22%3A%20%5B-118.12515525200001%2C%2034.093285893000015%5D%2C%20%22type%22%3A%20%22Point%22%7D%2C%20%22id%22%3A%20%2288%22%2C%20%22properties%22%3A%20%7B%22feed_key%22%3A%20%22d76560b3dfecce2d588023bf1d1c4c2d%22%2C%20%22name%22%3A%20%22Alhambra%20Schedule%22%2C%20%22stop_event_count%22%3A%2017%2C%20%22stop_id%22%3A%20%222619811%22%7D%2C%20%22type%22%3A%20%22Feature%22%7D%2C%20%7B%22bbox%22%3A%20%5B-118.12515525200001%2C%2034.093285893000015%2C%20-118.12515525200001%2C%2034.093285893000015%5D%2C%20%22geometry%22%3A%20%7B%22coordinates%22%3A%20%5B-118.12515525200001%2C%2034.093285893000015%5D%2C%20%22type%22%3A%20%22Point%22%7D%2C%20%22id%22%3A%20%2289%22%2C%20%22properties%22%3A%20%7B%22feed_key%22%3A%20%22d76560b3dfecce2d588023bf1d1c4c2d%22%2C%20%22name%22%3A%20%22Alhambra%20Schedule%22%2C%20%22stop_event_count%22%3A%2017%2C%20%22stop_id%22%3A%20%222619811%22%7D%2C%20%22type%22%3A%20%22Feature%22%7D%2C%20%7B%22bbox%22%3A%20%5B-118.12515525200001%2C%2034.093285893000015%2C%20-118.12515525200001%2C%2034.093285893000015%5D%2C%20%22geometry%22%3A%20%7B%22coordinates%22%3A%20%5B-118.12515525200001%2C%2034.093285893000015%5D%2C%20%22type%22%3A%20%22Point%22%7D%2C%20%22id%22%3A%20%2290%22%2C%20%22properties%22%3A%20%7B%22feed_key%22%3A%20%22d76560b3dfecce2d588023bf1d1c4c2d%22%2C%20%22name%22%3A%20%22Alhambra%20Schedule%22%2C%20%22stop_event_count%22%3A%2017%2C%20%22stop_id%22%3A%20%222619811%22%7D%2C%20%22type%22%3A%20%22Feature%22%7D%2C%20%7B%22bbox%22%3A%20%5B-118.12515525200001%2C%2034.093285893000015%2C%20-118.12515525200001%2C%2034.093285893000015%5D%2C%20%22geometry%22%3A%20%7B%22coordinates%22%3A%20%5B-118.12515525200001%2C%2034.093285893000015%5D%2C%20%22type%22%3A%20%22Point%22%7D%2C%20%22id%22%3A%20%2291%22%2C%20%22properties%22%3A%20%7B%22feed_key%22%3A%20%22d76560b3dfecce2d588023bf1d1c4c2d%22%2C%20%22name%22%3A%20%22Alhambra%20Schedule%22%2C%20%22stop_event_count%22%3A%2017%2C%20%22stop_id%22%3A%20%222619811%22%7D%2C%20%22type%22%3A%20%22Feature%22%7D%2C%20%7B%22bbox%22%3A%20%5B-118.12515525200001%2C%2034.093285893000015%2C%20-118.12515525200001%2C%2034.093285893000015%5D%2C%20%22geometry%22%3A%20%7B%22coordinates%22%3A%20%5B-118.12515525200001%2C%2034.093285893000015%5D%2C%20%22type%22%3A%20%22Point%22%7D%2C%20%22id%22%3A%20%2292%22%2C%20%22properties%22%3A%20%7B%22feed_key%22%3A%20%22d76560b3dfecce2d588023bf1d1c4c2d%22%2C%20%22name%22%3A%20%22Alhambra%20Schedule%22%2C%20%22stop_event_count%22%3A%2017%2C%20%22stop_id%22%3A%20%222619811%22%7D%2C%20%22type%22%3A%20%22Feature%22%7D%2C%20%7B%22bbox%22%3A%20%5B-118.12515525200001%2C%2034.093285893000015%2C%20-118.12515525200001%2C%2034.093285893000015%5D%2C%20%22geometry%22%3A%20%7B%22coordinates%22%3A%20%5B-118.12515525200001%2C%2034.093285893000015%5D%2C%20%22type%22%3A%20%22Point%22%7D%2C%20%22id%22%3A%20%2293%22%2C%20%22properties%22%3A%20%7B%22feed_key%22%3A%20%22d76560b3dfecce2d588023bf1d1c4c2d%22%2C%20%22name%22%3A%20%22Alhambra%20Schedule%22%2C%20%22stop_event_count%22%3A%2017%2C%20%22stop_id%22%3A%20%222619811%22%7D%2C%20%22type%22%3A%20%22Feature%22%7D%2C%20%7B%22bbox%22%3A%20%5B-118.12515525200001%2C%2034.093285893000015%2C%20-118.12515525200001%2C%2034.093285893000015%5D%2C%20%22geometry%22%3A%20%7B%22coordinates%22%3A%20%5B-118.12515525200001%2C%2034.093285893000015%5D%2C%20%22type%22%3A%20%22Point%22%7D%2C%20%22id%22%3A%20%2294%22%2C%20%22properties%22%3A%20%7B%22feed_key%22%3A%20%22d76560b3dfecce2d588023bf1d1c4c2d%22%2C%20%22name%22%3A%20%22Alhambra%20Schedule%22%2C%20%22stop_event_count%22%3A%2017%2C%20%22stop_id%22%3A%20%222619811%22%7D%2C%20%22type%22%3A%20%22Feature%22%7D%2C%20%7B%22bbox%22%3A%20%5B-118.12515525200001%2C%2034.093285893000015%2C%20-118.12515525200001%2C%2034.093285893000015%5D%2C%20%22geometry%22%3A%20%7B%22coordinates%22%3A%20%5B-118.12515525200001%2C%2034.093285893000015%5D%2C%20%22type%22%3A%20%22Point%22%7D%2C%20%22id%22%3A%20%2295%22%2C%20%22properties%22%3A%20%7B%22feed_key%22%3A%20%22d76560b3dfecce2d588023bf1d1c4c2d%22%2C%20%22name%22%3A%20%22Alhambra%20Schedule%22%2C%20%22stop_event_count%22%3A%2017%2C%20%22stop_id%22%3A%20%222619811%22%7D%2C%20%22type%22%3A%20%22Feature%22%7D%2C%20%7B%22bbox%22%3A%20%5B-118.12515525200001%2C%2034.093285893000015%2C%20-118.12515525200001%2C%2034.093285893000015%5D%2C%20%22geometry%22%3A%20%7B%22coordinates%22%3A%20%5B-118.12515525200001%2C%2034.093285893000015%5D%2C%20%22type%22%3A%20%22Point%22%7D%2C%20%22id%22%3A%20%2296%22%2C%20%22properties%22%3A%20%7B%22feed_key%22%3A%20%22d76560b3dfecce2d588023bf1d1c4c2d%22%2C%20%22name%22%3A%20%22Alhambra%20Schedule%22%2C%20%22stop_event_count%22%3A%2017%2C%20%22stop_id%22%3A%20%222619811%22%7D%2C%20%22type%22%3A%20%22Feature%22%7D%2C%20%7B%22bbox%22%3A%20%5B-118.12515525200001%2C%2034.093285893000015%2C%20-118.12515525200001%2C%2034.093285893000015%5D%2C%20%22geometry%22%3A%20%7B%22coordinates%22%3A%20%5B-118.12515525200001%2C%2034.093285893000015%5D%2C%20%22type%22%3A%20%22Point%22%7D%2C%20%22id%22%3A%20%2297%22%2C%20%22properties%22%3A%20%7B%22feed_key%22%3A%20%22d76560b3dfecce2d588023bf1d1c4c2d%22%2C%20%22name%22%3A%20%22Alhambra%20Schedule%22%2C%20%22stop_event_count%22%3A%2017%2C%20%22stop_id%22%3A%20%222619811%22%7D%2C%20%22type%22%3A%20%22Feature%22%7D%2C%20%7B%22bbox%22%3A%20%5B-118.12515525200001%2C%2034.093285893000015%2C%20-118.12515525200001%2C%2034.093285893000015%5D%2C%20%22geometry%22%3A%20%7B%22coordinates%22%3A%20%5B-118.12515525200001%2C%2034.093285893000015%5D%2C%20%22type%22%3A%20%22Point%22%7D%2C%20%22id%22%3A%20%2298%22%2C%20%22properties%22%3A%20%7B%22feed_key%22%3A%20%22d76560b3dfecce2d588023bf1d1c4c2d%22%2C%20%22name%22%3A%20%22Alhambra%20Schedule%22%2C%20%22stop_event_count%22%3A%2017%2C%20%22stop_id%22%3A%20%222619811%22%7D%2C%20%22type%22%3A%20%22Feature%22%7D%2C%20%7B%22bbox%22%3A%20%5B-118.12515525200001%2C%2034.093285893000015%2C%20-118.12515525200001%2C%2034.093285893000015%5D%2C%20%22geometry%22%3A%20%7B%22coordinates%22%3A%20%5B-118.12515525200001%2C%2034.093285893000015%5D%2C%20%22type%22%3A%20%22Point%22%7D%2C%20%22id%22%3A%20%2299%22%2C%20%22properties%22%3A%20%7B%22feed_key%22%3A%20%22d76560b3dfecce2d588023bf1d1c4c2d%22%2C%20%22name%22%3A%20%22Alhambra%20Schedule%22%2C%20%22stop_event_count%22%3A%2017%2C%20%22stop_id%22%3A%20%222619811%22%7D%2C%20%22type%22%3A%20%22Feature%22%7D%5D%2C%20%22type%22%3A%20%22FeatureCollection%22%7D%29%3B%0A%0A%20%20%20%20%20%20%20%20%0A%20%20%20%20%0A%20%20%20%20geo_json_484e56a8c0884ad2bcb251797f3041e7.bindTooltip%28%0A%20%20%20%20function%28layer%29%7B%0A%20%20%20%20let%20div%20%3D%20L.DomUtil.create%28%27div%27%29%3B%0A%20%20%20%20%0A%20%20%20%20let%20handleObject%20%3D%20feature%3D%3Etypeof%28feature%29%3D%3D%27object%27%20%3F%20JSON.stringify%28feature%29%20%3A%20feature%3B%0A%20%20%20%20let%20fields%20%3D%20%5B%22feed_key%22%2C%20%22stop_id%22%2C%20%22stop_event_count%22%2C%20%22name%22%5D%3B%0A%20%20%20%20let%20aliases%20%3D%20%5B%22feed_key%22%2C%20%22stop_id%22%2C%20%22stop_event_count%22%2C%20%22name%22%5D%3B%0A%20%20%20%20let%20table%20%3D%20%27%3Ctable%3E%27%20%2B%0A%20%20%20%20%20%20%20%20String%28%0A%20%20%20%20%20%20%20%20fields.map%28%0A%20%20%20%20%20%20%20%20%28v%2Ci%29%3D%3E%0A%20%20%20%20%20%20%20%20%60%3Ctr%3E%0A%20%20%20%20%20%20%20%20%20%20%20%20%3Cth%3E%24%7Baliases%5Bi%5D%7D%3C/th%3E%0A%20%20%20%20%20%20%20%20%20%20%20%20%0A%20%20%20%20%20%20%20%20%20%20%20%20%3Ctd%3E%24%7BhandleObject%28layer.feature.properties%5Bv%5D%29%7D%3C/td%3E%0A%20%20%20%20%20%20%20%20%3C/tr%3E%60%29.join%28%27%27%29%29%0A%20%20%20%20%2B%27%3C/table%3E%27%3B%0A%20%20%20%20div.innerHTML%3Dtable%3B%0A%20%20%20%20%0A%20%20%20%20return%20div%0A%20%20%20%20%7D%0A%20%20%20%20%2C%7B%22className%22%3A%20%22foliumtooltip%22%2C%20%22sticky%22%3A%20true%7D%29%3B%0A%20%20%20%20%20%20%20%20%20%20%20%20%20%20%20%20%20%20%20%20%20%0A%3C/script%3E onload=\"this.contentDocument.open();this.contentDocument.write(    decodeURIComponent(this.getAttribute('data-html')));this.contentDocument.close();\" allowfullscreen webkitallowfullscreen mozallowfullscreen></iframe></div></div>"
      ],
      "text/plain": [
       "<folium.folium.Map at 0x7f52b5de9e80>"
      ]
     },
     "execution_count": 42,
     "metadata": {},
     "output_type": "execute_result"
    }
   ],
   "source": [
    "#test of using explore on stops and coutns gdf\n",
    "map2 = stops_and_counts2229.head(100).explore()\n",
    "map2"
   ]
  },
  {
   "cell_type": "code",
   "execution_count": null,
   "id": "f2349ddd-8cb6-4452-95ab-8a0d1aca3b20",
   "metadata": {},
   "outputs": [],
   "source": [
    "# To add styleguide\n",
    "from shared_utils import styleguide\n",
    "from shared_utils import calitp_color_palette as cp"
   ]
  }
 ],
 "metadata": {
  "kernelspec": {
   "display_name": "Python 3 (ipykernel)",
   "language": "python",
   "name": "python3"
  },
  "language_info": {
   "codemirror_mode": {
    "name": "ipython",
    "version": 3
   },
   "file_extension": ".py",
   "mimetype": "text/x-python",
   "name": "python",
   "nbconvert_exporter": "python",
   "pygments_lexer": "ipython3",
   "version": "3.9.13"
  }
 },
 "nbformat": 4,
 "nbformat_minor": 5
}
