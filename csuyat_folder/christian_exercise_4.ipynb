{
 "cells": [
  {
   "cell_type": "markdown",
   "id": "8ccf5809-6ac9-4446-9258-cd1dea4ba3a4",
   "metadata": {},
   "source": [
    "## Exercise 4: Data Warehouse Querying and Basic Geospatial Operations\n",
    "\n",
    "Skills: \n",
    "* Query data warehouse table\n",
    "* Use dictionary to map values\n",
    "\n",
    "References: \n",
    "* https://docs.calitp.org/data-infra/analytics_new_analysts/05-spatial-analysis-basics.html\n",
    "* https://docs.calitp.org/data-infra/analytics_new_analysts/06-spatial-analysis-intro.html\n",
    "* https://docs.calitp.org/data-infra/analytics_new_analysts/07-spatial-analysis-intermediate.html\n",
    "* https://github.com/jorisvandenbossche/geopandas-tutorial"
   ]
  },
  {
   "cell_type": "code",
   "execution_count": 1,
   "id": "9305f4e1-446d-432f-bc0e-e69284fdce71",
   "metadata": {},
   "outputs": [
    {
     "name": "stderr",
     "output_type": "stream",
     "text": [
      "/opt/conda/lib/python3.9/site-packages/geopandas/_compat.py:124: UserWarning: The Shapely GEOS version (3.11.1-CAPI-1.17.1) is incompatible with the GEOS version PyGEOS was compiled with (3.10.1-CAPI-1.16.0). Conversions between both will be slow.\n",
      "  warnings.warn(\n",
      "/tmp/ipykernel_955/4198957771.py:1: DeprecationWarning: Shapely 2.0 is installed, but because PyGEOS is also installed, GeoPandas still uses PyGEOS by default. However, starting with version 0.14, the default will switch to Shapely. To force to use Shapely 2.0 now, you can either uninstall PyGEOS or set the environment variable USE_PYGEOS=0. You can do this before starting the Python process, or in your code before importing geopandas:\n",
      "\n",
      "import os\n",
      "os.environ['USE_PYGEOS'] = '0'\n",
      "import geopandas\n",
      "\n",
      "In the next release, GeoPandas will switch to using Shapely by default, even if PyGEOS is installed. If you only have PyGEOS installed to get speed-ups, this switch should be smooth. However, if you are using PyGEOS directly (calling PyGEOS functions on geometries from GeoPandas), this will then stop working and you are encouraged to migrate from PyGEOS to Shapely 2.0 (https://shapely.readthedocs.io/en/latest/migration_pygeos.html).\n",
      "  import geopandas as gpd\n",
      "/opt/conda/lib/python3.9/site-packages/google/auth/_default.py:78: UserWarning: Your application has authenticated using end user credentials from Google Cloud SDK without a quota project. You might receive a \"quota exceeded\" or \"API not enabled\" error. See the following page for troubleshooting: https://cloud.google.com/docs/authentication/adc-troubleshooting/user-creds. \n",
      "  warnings.warn(_CLOUD_SDK_CREDENTIALS_WARNING)\n"
     ]
    }
   ],
   "source": [
    "import geopandas as gpd\n",
    "import pandas as pd\n",
    "import os\n",
    "\n",
    "#os.environ[\"CALITP_BQ_MAX_BYTES\"] = str(100_000_000_000)\n",
    "pd.set_option(\"display.max_rows\", 20)\n",
    "\n",
    "from calitp_data_analysis.tables import tbls\n",
    "from calitp_data_analysis.sql import query_sql\n",
    "from siuba import *"
   ]
  },
  {
   "cell_type": "markdown",
   "id": "95d24d7b-17b2-481c-bdc5-d03a25facc11",
   "metadata": {},
   "source": [
    "## Query a table, turn it into a gdf\n",
    "\n",
    "You will query the warehouse table for 2 operators, Caltrain and Merced. A `feed_key` is a hash identifier, there's no real meaning to it, but it uniquely identifies a feed for that day.\n",
    "\n",
    "The `feed_key` values for those 2 operators for 6/1/2022 are provided. \n",
    "\n",
    "* Query `mart_gtfs.dim_stops`\n",
    "* Filter to the feed keys of interest\n",
    "* Select these columns: `feed_key`, `stop_id`, `stop_lat`, `stop_lon`, `stop_name`\n",
    "* Return as a dataframe using `collect()`\n",
    "* Turn the point data into geometry with `geopandas`: [docs](https://geopandas.org/en/stable/docs/reference/api/geopandas.points_from_xy.html)"
   ]
  },
  {
   "cell_type": "code",
   "execution_count": 4,
   "id": "a83cda9e-c642-4acf-8668-d5626dd7d948",
   "metadata": {},
   "outputs": [
    {
     "name": "stderr",
     "output_type": "stream",
     "text": [
      "/opt/conda/lib/python3.9/site-packages/sqlalchemy_bigquery/_types.py:101: SAWarning: Did not recognize type 'GEOGRAPHY' of column 'pt_geom'\n",
      "  sqlalchemy.util.warn(\n"
     ]
    },
    {
     "data": {
      "text/html": [
       "<div>\n",
       "<style scoped>\n",
       "    .dataframe tbody tr th:only-of-type {\n",
       "        vertical-align: middle;\n",
       "    }\n",
       "\n",
       "    .dataframe tbody tr th {\n",
       "        vertical-align: top;\n",
       "    }\n",
       "\n",
       "    .dataframe thead th {\n",
       "        text-align: right;\n",
       "    }\n",
       "</style>\n",
       "<table border=\"1\" class=\"dataframe\">\n",
       "  <thead>\n",
       "    <tr style=\"text-align: right;\">\n",
       "      <th></th>\n",
       "      <th>feed_key</th>\n",
       "      <th>stop_id</th>\n",
       "      <th>stop_lat</th>\n",
       "      <th>stop_lon</th>\n",
       "      <th>stop_name</th>\n",
       "    </tr>\n",
       "  </thead>\n",
       "  <tbody>\n",
       "    <tr>\n",
       "      <th>0</th>\n",
       "      <td>25c6505166c01099b2f6f2de173e20b9</td>\n",
       "      <td>22nd_street</td>\n",
       "      <td>37.756972</td>\n",
       "      <td>-122.392492</td>\n",
       "      <td>22nd Street</td>\n",
       "    </tr>\n",
       "    <tr>\n",
       "      <th>1</th>\n",
       "      <td>25c6505166c01099b2f6f2de173e20b9</td>\n",
       "      <td>2537740</td>\n",
       "      <td>37.438491</td>\n",
       "      <td>-122.156405</td>\n",
       "      <td>Stanford Caltrain Station</td>\n",
       "    </tr>\n",
       "    <tr>\n",
       "      <th>2</th>\n",
       "      <td>25c6505166c01099b2f6f2de173e20b9</td>\n",
       "      <td>2537744</td>\n",
       "      <td>37.438425</td>\n",
       "      <td>-122.156482</td>\n",
       "      <td>Stanford Caltrain Station</td>\n",
       "    </tr>\n",
       "    <tr>\n",
       "      <th>3</th>\n",
       "      <td>25c6505166c01099b2f6f2de173e20b9</td>\n",
       "      <td>70011</td>\n",
       "      <td>37.776390</td>\n",
       "      <td>-122.394992</td>\n",
       "      <td>San Francisco Caltrain Station</td>\n",
       "    </tr>\n",
       "    <tr>\n",
       "      <th>4</th>\n",
       "      <td>25c6505166c01099b2f6f2de173e20b9</td>\n",
       "      <td>70012</td>\n",
       "      <td>37.776348</td>\n",
       "      <td>-122.394935</td>\n",
       "      <td>San Francisco Caltrain Station</td>\n",
       "    </tr>\n",
       "  </tbody>\n",
       "</table>\n",
       "</div>"
      ],
      "text/plain": [
       "                           feed_key      stop_id   stop_lat    stop_lon  \\\n",
       "0  25c6505166c01099b2f6f2de173e20b9  22nd_street  37.756972 -122.392492   \n",
       "1  25c6505166c01099b2f6f2de173e20b9      2537740  37.438491 -122.156405   \n",
       "2  25c6505166c01099b2f6f2de173e20b9      2537744  37.438425 -122.156482   \n",
       "3  25c6505166c01099b2f6f2de173e20b9        70011  37.776390 -122.394992   \n",
       "4  25c6505166c01099b2f6f2de173e20b9        70012  37.776348 -122.394935   \n",
       "\n",
       "                        stop_name  \n",
       "0                     22nd Street  \n",
       "1       Stanford Caltrain Station  \n",
       "2       Stanford Caltrain Station  \n",
       "3  San Francisco Caltrain Station  \n",
       "4  San Francisco Caltrain Station  "
      ]
     },
     "execution_count": 4,
     "metadata": {},
     "output_type": "execute_result"
    }
   ],
   "source": [
    "#from 1mart_gtfs.dim_stops`, query the following columns, filtered by these specific `feed_id`s\n",
    "FEEDS = [\n",
    "    \"25c6505166c01099b2f6f2de173e20b9\", # Caltrain\n",
    "    \"52639f09eb535f75b33d2c6a654cb89e\", # Merced\n",
    "]\n",
    "\n",
    "stops = (\n",
    "    tbls.mart_gtfs.dim_stops()\n",
    "    >> filter(_.feed_key.isin(FEEDS))\n",
    "    >> select(_.feed_key, _.stop_id, \n",
    "             _.stop_lat, _.stop_lon, _.stop_name)\n",
    "    >> arrange(_.feed_key, _.stop_id, \n",
    "               _.stop_lat, _.stop_lon)\n",
    "    >> collect() \n",
    ")\n",
    "stops.head()"
   ]
  },
  {
   "cell_type": "markdown",
   "id": "50524d5f-f695-4d66-99e0-a43bbf14ec03",
   "metadata": {},
   "source": [
    "Turn the point data into geometry with geopandas"
   ]
  },
  {
   "cell_type": "code",
   "execution_count": 5,
   "id": "3f8075c7-7050-4591-853e-ae341c9c9bb9",
   "metadata": {},
   "outputs": [
    {
     "name": "stdout",
     "output_type": "stream",
     "text": [
      "<GeometryArray>\n",
      "[<POINT (-122.392 37.757)>, <POINT (-122.156 37.438)>,\n",
      " <POINT (-122.156 37.438)>, <POINT (-122.395 37.776)>,\n",
      " <POINT (-122.395 37.776)>, <POINT (-122.392 37.758)>,\n",
      " <POINT (-122.392 37.758)>,  <POINT (-122.402 37.71)>,\n",
      "  <POINT (-122.402 37.71)>, <POINT (-122.405 37.656)>,\n",
      " ...\n",
      " <POINT (-120.645 36.976)>, <POINT (-120.637 36.986)>,\n",
      " <POINT (-120.628 36.982)>, <POINT (-120.625 36.983)>,\n",
      " <POINT (-120.629 36.987)>, <POINT (-120.626 36.992)>,\n",
      " <POINT (-120.572 37.362)>, <POINT (-120.504 37.292)>,\n",
      " <POINT (-120.722 37.391)>, <POINT (-120.823 37.058)>]\n",
      "Length: 580, dtype: geometry\n"
     ]
    },
    {
     "data": {
      "text/plain": [
       "geopandas.array.GeometryArray"
      ]
     },
     "execution_count": 5,
     "metadata": {},
     "output_type": "execute_result"
    }
   ],
   "source": [
    "#got code ex from geopandas link\n",
    "#creates geometry array of sahpely point geometries\n",
    "geometry = gpd.points_from_xy(stops.stop_lon, stops.stop_lat, crs='EPSG:4326')\n",
    "print(geometry)\n",
    "type(geometry)"
   ]
  },
  {
   "cell_type": "markdown",
   "id": "8e38ba6d-0461-4910-8991-05283ecd4a2f",
   "metadata": {},
   "source": [
    "## Use a dictionary to map values\n",
    "\n",
    "* Create a new column called `operator` where `feed_key` is associated with its operator name.\n",
    "* First, write a function to do it.\n",
    "* Then, use a dictionary to do it (create new column called `agency`).\n",
    "* Double check that `operator` and `agency` show the same values. Use `assert` to check.\n",
    "    * `assert df.operator == df.agency`\n",
    "* Hint: https://docs.calitp.org/data-infra/analytics_new_analysts/02-data-analysis-intermediate.html"
   ]
  },
  {
   "cell_type": "code",
   "execution_count": 6,
   "id": "a2c55544-f770-4cdf-ab5f-f726703adf08",
   "metadata": {},
   "outputs": [
    {
     "data": {
      "text/html": [
       "<div>\n",
       "<style scoped>\n",
       "    .dataframe tbody tr th:only-of-type {\n",
       "        vertical-align: middle;\n",
       "    }\n",
       "\n",
       "    .dataframe tbody tr th {\n",
       "        vertical-align: top;\n",
       "    }\n",
       "\n",
       "    .dataframe thead th {\n",
       "        text-align: right;\n",
       "    }\n",
       "</style>\n",
       "<table border=\"1\" class=\"dataframe\">\n",
       "  <thead>\n",
       "    <tr style=\"text-align: right;\">\n",
       "      <th></th>\n",
       "      <th>feed_key</th>\n",
       "      <th>stop_id</th>\n",
       "      <th>stop_lat</th>\n",
       "      <th>stop_lon</th>\n",
       "      <th>stop_name</th>\n",
       "      <th>operator</th>\n",
       "    </tr>\n",
       "  </thead>\n",
       "  <tbody>\n",
       "    <tr>\n",
       "      <th>0</th>\n",
       "      <td>25c6505166c01099b2f6f2de173e20b9</td>\n",
       "      <td>22nd_street</td>\n",
       "      <td>37.756972</td>\n",
       "      <td>-122.392492</td>\n",
       "      <td>22nd Street</td>\n",
       "      <td>Caltrain</td>\n",
       "    </tr>\n",
       "    <tr>\n",
       "      <th>1</th>\n",
       "      <td>25c6505166c01099b2f6f2de173e20b9</td>\n",
       "      <td>2537740</td>\n",
       "      <td>37.438491</td>\n",
       "      <td>-122.156405</td>\n",
       "      <td>Stanford Caltrain Station</td>\n",
       "      <td>Caltrain</td>\n",
       "    </tr>\n",
       "    <tr>\n",
       "      <th>2</th>\n",
       "      <td>25c6505166c01099b2f6f2de173e20b9</td>\n",
       "      <td>2537744</td>\n",
       "      <td>37.438425</td>\n",
       "      <td>-122.156482</td>\n",
       "      <td>Stanford Caltrain Station</td>\n",
       "      <td>Caltrain</td>\n",
       "    </tr>\n",
       "    <tr>\n",
       "      <th>3</th>\n",
       "      <td>25c6505166c01099b2f6f2de173e20b9</td>\n",
       "      <td>70011</td>\n",
       "      <td>37.776390</td>\n",
       "      <td>-122.394992</td>\n",
       "      <td>San Francisco Caltrain Station</td>\n",
       "      <td>Caltrain</td>\n",
       "    </tr>\n",
       "    <tr>\n",
       "      <th>4</th>\n",
       "      <td>25c6505166c01099b2f6f2de173e20b9</td>\n",
       "      <td>70012</td>\n",
       "      <td>37.776348</td>\n",
       "      <td>-122.394935</td>\n",
       "      <td>San Francisco Caltrain Station</td>\n",
       "      <td>Caltrain</td>\n",
       "    </tr>\n",
       "  </tbody>\n",
       "</table>\n",
       "</div>"
      ],
      "text/plain": [
       "                           feed_key      stop_id   stop_lat    stop_lon  \\\n",
       "0  25c6505166c01099b2f6f2de173e20b9  22nd_street  37.756972 -122.392492   \n",
       "1  25c6505166c01099b2f6f2de173e20b9      2537740  37.438491 -122.156405   \n",
       "2  25c6505166c01099b2f6f2de173e20b9      2537744  37.438425 -122.156482   \n",
       "3  25c6505166c01099b2f6f2de173e20b9        70011  37.776390 -122.394992   \n",
       "4  25c6505166c01099b2f6f2de173e20b9        70012  37.776348 -122.394935   \n",
       "\n",
       "                        stop_name  operator  \n",
       "0                     22nd Street  Caltrain  \n",
       "1       Stanford Caltrain Station  Caltrain  \n",
       "2       Stanford Caltrain Station  Caltrain  \n",
       "3  San Francisco Caltrain Station  Caltrain  \n",
       "4  San Francisco Caltrain Station  Caltrain  "
      ]
     },
     "execution_count": 6,
     "metadata": {},
     "output_type": "execute_result"
    }
   ],
   "source": [
    "#COMPLETE\n",
    "# function to create a new col (see ex1)\n",
    "# define the function called `operator` that uses if..else to check the rows in `feed_key` col. \n",
    "# then on df `stops`, make a new column called `operator`, then fill the values in the new col by applying the operator function\n",
    "\n",
    "def operator(row):\n",
    "    if row.feed_key == '25c6505166c01099b2f6f2de173e20b9':\n",
    "        return 'Caltrain'\n",
    "    elif row.feed_key == '52639f09eb535f75b33d2c6a654cb89e':\n",
    "        return 'Merced'\n",
    "    else :\n",
    "        return 'other'\n",
    "\n",
    "stops['operator'] = stops.apply(operator,axis = 1)\n",
    "stops.head()\n"
   ]
  },
  {
   "cell_type": "code",
   "execution_count": 9,
   "id": "7b83b31c-3fde-4933-a3d1-f4e97be2cd4f",
   "metadata": {},
   "outputs": [
    {
     "data": {
      "text/html": [
       "<div>\n",
       "<style scoped>\n",
       "    .dataframe tbody tr th:only-of-type {\n",
       "        vertical-align: middle;\n",
       "    }\n",
       "\n",
       "    .dataframe tbody tr th {\n",
       "        vertical-align: top;\n",
       "    }\n",
       "\n",
       "    .dataframe thead th {\n",
       "        text-align: right;\n",
       "    }\n",
       "</style>\n",
       "<table border=\"1\" class=\"dataframe\">\n",
       "  <thead>\n",
       "    <tr style=\"text-align: right;\">\n",
       "      <th></th>\n",
       "      <th>feed_key</th>\n",
       "      <th>stop_id</th>\n",
       "      <th>stop_lat</th>\n",
       "      <th>stop_lon</th>\n",
       "      <th>stop_name</th>\n",
       "      <th>operator</th>\n",
       "      <th>agency</th>\n",
       "    </tr>\n",
       "  </thead>\n",
       "  <tbody>\n",
       "    <tr>\n",
       "      <th>0</th>\n",
       "      <td>25c6505166c01099b2f6f2de173e20b9</td>\n",
       "      <td>22nd_street</td>\n",
       "      <td>37.756972</td>\n",
       "      <td>-122.392492</td>\n",
       "      <td>22nd Street</td>\n",
       "      <td>Caltrain</td>\n",
       "      <td>Caltrain</td>\n",
       "    </tr>\n",
       "    <tr>\n",
       "      <th>1</th>\n",
       "      <td>25c6505166c01099b2f6f2de173e20b9</td>\n",
       "      <td>2537740</td>\n",
       "      <td>37.438491</td>\n",
       "      <td>-122.156405</td>\n",
       "      <td>Stanford Caltrain Station</td>\n",
       "      <td>Caltrain</td>\n",
       "      <td>Caltrain</td>\n",
       "    </tr>\n",
       "    <tr>\n",
       "      <th>2</th>\n",
       "      <td>25c6505166c01099b2f6f2de173e20b9</td>\n",
       "      <td>2537744</td>\n",
       "      <td>37.438425</td>\n",
       "      <td>-122.156482</td>\n",
       "      <td>Stanford Caltrain Station</td>\n",
       "      <td>Caltrain</td>\n",
       "      <td>Caltrain</td>\n",
       "    </tr>\n",
       "    <tr>\n",
       "      <th>3</th>\n",
       "      <td>25c6505166c01099b2f6f2de173e20b9</td>\n",
       "      <td>70011</td>\n",
       "      <td>37.776390</td>\n",
       "      <td>-122.394992</td>\n",
       "      <td>San Francisco Caltrain Station</td>\n",
       "      <td>Caltrain</td>\n",
       "      <td>Caltrain</td>\n",
       "    </tr>\n",
       "    <tr>\n",
       "      <th>4</th>\n",
       "      <td>25c6505166c01099b2f6f2de173e20b9</td>\n",
       "      <td>70012</td>\n",
       "      <td>37.776348</td>\n",
       "      <td>-122.394935</td>\n",
       "      <td>San Francisco Caltrain Station</td>\n",
       "      <td>Caltrain</td>\n",
       "      <td>Caltrain</td>\n",
       "    </tr>\n",
       "  </tbody>\n",
       "</table>\n",
       "</div>"
      ],
      "text/plain": [
       "                           feed_key      stop_id   stop_lat    stop_lon  \\\n",
       "0  25c6505166c01099b2f6f2de173e20b9  22nd_street  37.756972 -122.392492   \n",
       "1  25c6505166c01099b2f6f2de173e20b9      2537740  37.438491 -122.156405   \n",
       "2  25c6505166c01099b2f6f2de173e20b9      2537744  37.438425 -122.156482   \n",
       "3  25c6505166c01099b2f6f2de173e20b9        70011  37.776390 -122.394992   \n",
       "4  25c6505166c01099b2f6f2de173e20b9        70012  37.776348 -122.394935   \n",
       "\n",
       "                        stop_name  operator    agency  \n",
       "0                     22nd Street  Caltrain  Caltrain  \n",
       "1       Stanford Caltrain Station  Caltrain  Caltrain  \n",
       "2       Stanford Caltrain Station  Caltrain  Caltrain  \n",
       "3  San Francisco Caltrain Station  Caltrain  Caltrain  \n",
       "4  San Francisco Caltrain Station  Caltrain  Caltrain  "
      ]
     },
     "execution_count": 9,
     "metadata": {},
     "output_type": "execute_result"
    }
   ],
   "source": [
    "#COMPETE\n",
    "#created dictionary called `feed_op` to map the feed keys to operator\n",
    "#then used assign() to insert a new column, and map() to connect the dictionary to keed_key column\n",
    "# df = df.assign(mode_cat = df.Mode.map(mode_fill))\n",
    "feed_op = {\n",
    "    '25c6505166c01099b2f6f2de173e20b9': 'Caltrain',\n",
    "    '52639f09eb535f75b33d2c6a654cb89e': 'Merced',\n",
    "}\n",
    "\n",
    "stops_agency = stops.assign(agency = stops.feed_key.map(feed_op))\n",
    "stops_agency.head()\n",
    "\n"
   ]
  },
  {
   "cell_type": "code",
   "execution_count": 10,
   "id": "b821cb92-8384-4f4b-a50e-af728f1606f6",
   "metadata": {},
   "outputs": [
    {
     "data": {
      "text/plain": [
       "geopandas.geodataframe.GeoDataFrame"
      ]
     },
     "execution_count": 10,
     "metadata": {},
     "output_type": "execute_result"
    }
   ],
   "source": [
    "#createing a new dataframe `stops3` to be a geodataframe based on stops2\n",
    "stops_gdf = gpd.GeoDataFrame(stops_agency)\n",
    "type(stops_gdf)"
   ]
  },
  {
   "cell_type": "code",
   "execution_count": 11,
   "id": "5e22a726-21ad-4130-a631-8265aeb4d621",
   "metadata": {},
   "outputs": [],
   "source": [
    "# checking to see if operator and agency columns match using `asset` function\n",
    "# example code: assert df.operator == df.agency\n",
    "\n",
    "#not sure what going on...use () around the series.\n",
    "\n",
    "\n",
    "#have to install shared utils using: install_env:\n",
    "\t# cd ~/data-analyses/_shared_utils && make setup_env && cd ..\n",
    "\n",
    "assert (stops_agency.operator == stops_gdf.agency).all()"
   ]
  },
  {
   "cell_type": "markdown",
   "id": "43c9198e-9cff-4025-9535-fa899b7a2a2d",
   "metadata": {},
   "source": [
    "## Turn lat/lon into point geometry\n",
    "\n",
    "* There is a [function in shared_utils](https://github.com/cal-itp/data-analyses/blob/main/_shared_utils/shared_utils/geography_utils.py#L170-L192) that does it. Show the steps within the function (the long way), and also create the `geometry` column using `shared_utils`.\n",
    "* Use `geography_utils.create_point_geometry??` to see what goes into that function, and what that function looks like under the hood."
   ]
  },
  {
   "cell_type": "code",
   "execution_count": 12,
   "id": "b12cc9d3-d655-4473-a079-1d1c16320463",
   "metadata": {},
   "outputs": [
    {
     "name": "stderr",
     "output_type": "stream",
     "text": [
      "/tmp/ipykernel_955/4222133737.py:8: FutureWarning: You are adding a column named 'geometry' to a GeoDataFrame constructed without an active geometry column. Currently, this automatically sets the active geometry column to 'geometry' but in the future that will no longer happen. Instead, either provide geometry to the GeoDataFrame constructor (GeoDataFrame(... geometry=GeoSeries()) or use `set_geometry('geometry')` to explicitly set the active geometry column.\n",
      "  stops_gdf['geometry'] = geo2\n"
     ]
    },
    {
     "data": {
      "text/html": [
       "<div>\n",
       "<style scoped>\n",
       "    .dataframe tbody tr th:only-of-type {\n",
       "        vertical-align: middle;\n",
       "    }\n",
       "\n",
       "    .dataframe tbody tr th {\n",
       "        vertical-align: top;\n",
       "    }\n",
       "\n",
       "    .dataframe thead th {\n",
       "        text-align: right;\n",
       "    }\n",
       "</style>\n",
       "<table border=\"1\" class=\"dataframe\">\n",
       "  <thead>\n",
       "    <tr style=\"text-align: right;\">\n",
       "      <th></th>\n",
       "      <th>feed_key</th>\n",
       "      <th>stop_id</th>\n",
       "      <th>stop_lat</th>\n",
       "      <th>stop_lon</th>\n",
       "      <th>stop_name</th>\n",
       "      <th>operator</th>\n",
       "      <th>agency</th>\n",
       "      <th>geometry</th>\n",
       "    </tr>\n",
       "  </thead>\n",
       "  <tbody>\n",
       "    <tr>\n",
       "      <th>0</th>\n",
       "      <td>25c6505166c01099b2f6f2de173e20b9</td>\n",
       "      <td>22nd_street</td>\n",
       "      <td>37.756972</td>\n",
       "      <td>-122.392492</td>\n",
       "      <td>22nd Street</td>\n",
       "      <td>Caltrain</td>\n",
       "      <td>Caltrain</td>\n",
       "      <td>POINT (-122.39249 37.75697)</td>\n",
       "    </tr>\n",
       "    <tr>\n",
       "      <th>1</th>\n",
       "      <td>25c6505166c01099b2f6f2de173e20b9</td>\n",
       "      <td>2537740</td>\n",
       "      <td>37.438491</td>\n",
       "      <td>-122.156405</td>\n",
       "      <td>Stanford Caltrain Station</td>\n",
       "      <td>Caltrain</td>\n",
       "      <td>Caltrain</td>\n",
       "      <td>POINT (-122.15641 37.43849)</td>\n",
       "    </tr>\n",
       "    <tr>\n",
       "      <th>2</th>\n",
       "      <td>25c6505166c01099b2f6f2de173e20b9</td>\n",
       "      <td>2537744</td>\n",
       "      <td>37.438425</td>\n",
       "      <td>-122.156482</td>\n",
       "      <td>Stanford Caltrain Station</td>\n",
       "      <td>Caltrain</td>\n",
       "      <td>Caltrain</td>\n",
       "      <td>POINT (-122.15648 37.43842)</td>\n",
       "    </tr>\n",
       "    <tr>\n",
       "      <th>3</th>\n",
       "      <td>25c6505166c01099b2f6f2de173e20b9</td>\n",
       "      <td>70011</td>\n",
       "      <td>37.776390</td>\n",
       "      <td>-122.394992</td>\n",
       "      <td>San Francisco Caltrain Station</td>\n",
       "      <td>Caltrain</td>\n",
       "      <td>Caltrain</td>\n",
       "      <td>POINT (-122.39499 37.77639)</td>\n",
       "    </tr>\n",
       "    <tr>\n",
       "      <th>4</th>\n",
       "      <td>25c6505166c01099b2f6f2de173e20b9</td>\n",
       "      <td>70012</td>\n",
       "      <td>37.776348</td>\n",
       "      <td>-122.394935</td>\n",
       "      <td>San Francisco Caltrain Station</td>\n",
       "      <td>Caltrain</td>\n",
       "      <td>Caltrain</td>\n",
       "      <td>POINT (-122.39494 37.77635)</td>\n",
       "    </tr>\n",
       "  </tbody>\n",
       "</table>\n",
       "</div>"
      ],
      "text/plain": [
       "                           feed_key      stop_id   stop_lat    stop_lon  \\\n",
       "0  25c6505166c01099b2f6f2de173e20b9  22nd_street  37.756972 -122.392492   \n",
       "1  25c6505166c01099b2f6f2de173e20b9      2537740  37.438491 -122.156405   \n",
       "2  25c6505166c01099b2f6f2de173e20b9      2537744  37.438425 -122.156482   \n",
       "3  25c6505166c01099b2f6f2de173e20b9        70011  37.776390 -122.394992   \n",
       "4  25c6505166c01099b2f6f2de173e20b9        70012  37.776348 -122.394935   \n",
       "\n",
       "                        stop_name  operator    agency  \\\n",
       "0                     22nd Street  Caltrain  Caltrain   \n",
       "1       Stanford Caltrain Station  Caltrain  Caltrain   \n",
       "2       Stanford Caltrain Station  Caltrain  Caltrain   \n",
       "3  San Francisco Caltrain Station  Caltrain  Caltrain   \n",
       "4  San Francisco Caltrain Station  Caltrain  Caltrain   \n",
       "\n",
       "                      geometry  \n",
       "0  POINT (-122.39249 37.75697)  \n",
       "1  POINT (-122.15641 37.43849)  \n",
       "2  POINT (-122.15648 37.43842)  \n",
       "3  POINT (-122.39499 37.77639)  \n",
       "4  POINT (-122.39494 37.77635)  "
      ]
     },
     "execution_count": 12,
     "metadata": {},
     "output_type": "execute_result"
    }
   ],
   "source": [
    "# long way via function?\n",
    "# define function\n",
    "# reference code: geometry = gpd.points_from_xy(stops.stop_lon, stops.stop_lat, crs='EPSG:4326')\n",
    "# then create new column in df\n",
    "\n",
    "geo2 = gpd.points_from_xy(stops2.stop_lon, stops2.stop_lat, crs='EPSG:4326')\n",
    "\n",
    "stops_gdf['geometry'] = geo2\n",
    "stops_gdf.head()\n",
    "\n"
   ]
  },
  {
   "cell_type": "code",
   "execution_count": 13,
   "id": "0796e6e5-2335-4cdc-bcb2-91876f63b7ee",
   "metadata": {},
   "outputs": [
    {
     "data": {
      "text/plain": [
       "geopandas.geodataframe.GeoDataFrame"
      ]
     },
     "execution_count": 13,
     "metadata": {},
     "output_type": "execute_result"
    }
   ],
   "source": [
    "type(stops_gdf)"
   ]
  },
  {
   "cell_type": "code",
   "execution_count": 14,
   "id": "64e9f2a4-7eaf-4c17-9813-444702bfb3aa",
   "metadata": {},
   "outputs": [
    {
     "name": "stderr",
     "output_type": "stream",
     "text": [
      "/opt/conda/lib/python3.9/site-packages/google/auth/_default.py:78: UserWarning: Your application has authenticated using end user credentials from Google Cloud SDK without a quota project. You might receive a \"quota exceeded\" or \"API not enabled\" error. See the following page for troubleshooting: https://cloud.google.com/docs/authentication/adc-troubleshooting/user-creds. \n",
      "  warnings.warn(_CLOUD_SDK_CREDENTIALS_WARNING)\n",
      "/opt/conda/lib/python3.9/site-packages/google/auth/_default.py:78: UserWarning: Your application has authenticated using end user credentials from Google Cloud SDK without a quota project. You might receive a \"quota exceeded\" or \"API not enabled\" error. See the following page for troubleshooting: https://cloud.google.com/docs/authentication/adc-troubleshooting/user-creds. \n",
      "  warnings.warn(_CLOUD_SDK_CREDENTIALS_WARNING)\n"
     ]
    }
   ],
   "source": [
    "#see lines L122-147 in `geopgraphy_utils.py`. function called 'create_point_geometry`\n",
    "#how to call function from another python file!?\n",
    "#copied example from another code snipped but, maybe im missing something\n",
    "# have to install shared_utils first, see `Makefile` in data-analyses, use code: cd ~/data-analyses/_shared_utils && make setup_env && cd ..\n",
    "\n",
    "from shared_utils import geography_utils\n"
   ]
  },
  {
   "cell_type": "code",
   "execution_count": 15,
   "id": "6c6b09c6-1136-40ad-a1c2-f87efd759e74",
   "metadata": {},
   "outputs": [],
   "source": [
    "from shared_utils import geography_utils\n",
    "stops_ptg = geography_utils.create_point_geometry(\n",
    "    stops_gdf,\n",
    "    \"stop_lon\",\n",
    "    \"stop_lat\",\n",
    "    crs = \"EPSG:3310\"\n",
    ")"
   ]
  },
  {
   "cell_type": "code",
   "execution_count": 16,
   "id": "32acd438-9c85-4b82-b552-9762e0463ffa",
   "metadata": {},
   "outputs": [
    {
     "data": {
      "text/plain": [
       "geopandas.geodataframe.GeoDataFrame"
      ]
     },
     "execution_count": 16,
     "metadata": {},
     "output_type": "execute_result"
    }
   ],
   "source": [
    "type(stops_ptg)"
   ]
  },
  {
   "cell_type": "code",
   "execution_count": 17,
   "id": "ed6a03ce-e137-4925-ac33-4568316c292c",
   "metadata": {},
   "outputs": [
    {
     "data": {
      "text/plain": [
       "<AxesSubplot:>"
      ]
     },
     "execution_count": 17,
     "metadata": {},
     "output_type": "execute_result"
    },
    {
     "data": {
      "image/png": "[encoded data removed]",
      "text/plain": [
       "<Figure size 640x480 with 1 Axes>"
      ]
     },
     "metadata": {},
     "output_type": "display_data"
    }
   ],
   "source": [
    "#creates plot using `stops3` gdf\n",
    "stops_ptg.plot()"
   ]
  },
  {
   "cell_type": "code",
   "execution_count": 18,
   "id": "185ce5d0-a54b-4ab0-b075-c58a5e25de10",
   "metadata": {},
   "outputs": [
    {
     "data": {
      "text/plain": [
       "<AxesSubplot:>"
      ]
     },
     "execution_count": 18,
     "metadata": {},
     "output_type": "execute_result"
    },
    {
     "data": {
      "image/png": "[encoded data removed]",
      "text/plain": [
       "<Figure size 640x480 with 1 Axes>"
      ]
     },
     "metadata": {},
     "output_type": "display_data"
    }
   ],
   "source": [
    "stops_ptg.to_crs(\"EPSG:4326\").plot()"
   ]
  },
  {
   "cell_type": "markdown",
   "id": "8a21eac3-ac67-47d8-b4c8-694192fdd796",
   "metadata": {},
   "source": [
    "Basic stuff about a geodataframe.\n",
    "\n",
    "A gdf would have a coordinate reference system that converts the points or lines into a place on the spherical Earth. The most common CRS is called `WGS 84`, and its code is `EPSG:4326`. This is what you'd see when you use Google Maps to find lat/lon of a place.\n",
    "\n",
    "[Read](https://desktop.arcgis.com/en/arcmap/latest/map/projections/about-geographic-coordinate-systems.htm) about the `WGS 84` geographic coordinate system.\n",
    "\n",
    "[Read](https://desktop.arcgis.com/en/arcmap/latest/map/projections/about-projected-coordinate-systems.htm) about projected coordinate reference systems, which is essentially about flattening our spherical Earth into a 2D plane so we can measure distances and whatnot.\n",
    "\n",
    "* Is it a pandas dataframe or a geopandas geodataframe?: `type(gdf)`\n",
    "* Coordinate reference system: `gdf.crs`\n",
    "* gdfs must have a geometry column. Find the name of the column that is geometry: `gdf.geometry.name`\n",
    "* Project the coordinate reference system to something else: `gdf = gdf.to_crs(\"EPSG:2229\")` and check."
   ]
  },
  {
   "cell_type": "markdown",
   "id": "d242e5b6-90f9-44ac-bb9f-fd1139e795f2",
   "metadata": {},
   "source": [
    "* This GitHub repo has several `geopandas` tutorials that covers basic spatial concepts: https://github.com/jorisvandenbossche/geopandas-tutorial. \n",
    "* Skim through the notebooks to see some of the concepts demonstrated, although to actually run the notebooks, you can click on `launch binder` in the repo's README to do so."
   ]
  },
  {
   "cell_type": "markdown",
   "id": "5b9dc620-41f2-4d69-9d69-00e8d90276f9",
   "metadata": {},
   "source": [
    "## Spatial Join (which points fall into which polygon)\n",
    "\n",
    "This URL gives you CA county boundaries: https://gis.data.ca.gov/datasets/CALFIRE-Forestry::california-county-boundaries/explore?location=37.246136%2C-119.002032%2C6.12\n",
    "\n",
    "* Go to \"I want to use this\" > View API Resources > copy link for geojson\n",
    "* Read in the geojson with `geopandas` and make it a geodataframe: `gpd.read_file(LONG_URL_PATH)`\n",
    "* Double check that the coordinate reference system is the same for both gdfs using `gdf.crs`. If not, change it so they are the same.\n",
    "* Spatial join stops to counties: [docs](https://geopandas.org/en/stable/docs/reference/api/geopandas.sjoin.html)\n",
    "    * Play with inner join or left join, what's the difference? Which one do you want?\n",
    "    * Play with switching around the left_df and right_df, what's the right order?\n",
    "* By county: count number of stops and stops per sq_mi.\n",
    "    * Hint 1: Start with a CRS with units in feet or meters, then do a conversion to sq mi. [CRS in shared_utils](https://github.com/cal-itp/data-analyses/blob/main/_shared_utils/shared_utils/geography_utils.py)\n",
    "    * Hint 2: to find area, you can create a new column and calculate `gdf.geometry.area`. [geometry manipulations docs](https://geopandas.org/en/stable/docs/user_guide/geometric_manipulations.html)"
   ]
  },
  {
   "cell_type": "code",
   "execution_count": 19,
   "id": "b6d80669-9627-466b-ba4a-0e026b5a2a02",
   "metadata": {},
   "outputs": [
    {
     "name": "stdout",
     "output_type": "stream",
     "text": [
      "   OBJECTID COUNTY_NAME COUNTY_ABBREV  COUNTY_NUM COUNTY_CODE COUNTY_FIPS  \\\n",
      "0         1     Alameda           ALA           1          01         001   \n",
      "1         2      Alpine           ALP           2          02         003   \n",
      "2         3      Amador           AMA           3          03         005   \n",
      "3         4       Butte           BUT           4          04         007   \n",
      "4         5   Calaveras           CAL           5          05         009   \n",
      "\n",
      "  ISLAND   Shape__Area  Shape__Length                              GlobalID  \\\n",
      "0    NaN  3.402787e+09  308998.650766  e6f92268-d2dd-4cfb-8b79-5b4b2f07c559   \n",
      "1    NaN  3.146939e+09  274888.492411  870479b2-480a-494b-8352-ad60578839c1   \n",
      "2    NaN  2.562635e+09  361708.438013  4f45b3a6-be10-461c-8945-6b2aaa7119f6   \n",
      "3    NaN  7.339348e+09  526547.115238  44fba680-aecc-4e04-a499-29d69affbd4a   \n",
      "4    NaN  4.351069e+09  370637.578323  d11ef739-4a1e-414e-bfd1-e7dcd56cd61e   \n",
      "\n",
      "                                            geometry  \n",
      "0  POLYGON ((-122.27125 37.90503, -122.27024 37.9...  \n",
      "1  POLYGON ((-119.58667 38.71420, -119.58653 38.7...  \n",
      "2  POLYGON ((-120.07246 38.70276, -120.07249 38.6...  \n",
      "3  POLYGON ((-121.07661 39.59729, -121.07945 39.5...  \n",
      "4  POLYGON ((-120.01792 38.43586, -120.01788 38.4...  \n"
     ]
    }
   ],
   "source": [
    "#read in file\n",
    "#check df type for gdf\n",
    "\n",
    "CA_county = gpd.read_file('https://services1.arcgis.com/jUJYIo9tSA7EHvfZ/arcgis/rest/services/California_County_Boundaries/FeatureServer/0/query?outFields=*&where=1%3D1&f=geojson')\n",
    "type(CA_county)"
   ]
  },
  {
   "cell_type": "code",
   "execution_count": 20,
   "id": "8852486b-2ffb-4cf3-9ed0-c8ad18def433",
   "metadata": {},
   "outputs": [
    {
     "data": {
      "text/plain": [
       "<Geographic 2D CRS: EPSG:4326>\n",
       "Name: WGS 84\n",
       "Axis Info [ellipsoidal]:\n",
       "- Lat[north]: Geodetic latitude (degree)\n",
       "- Lon[east]: Geodetic longitude (degree)\n",
       "Area of Use:\n",
       "- name: World.\n",
       "- bounds: (-180.0, -90.0, 180.0, 90.0)\n",
       "Datum: World Geodetic System 1984 ensemble\n",
       "- Ellipsoid: WGS 84\n",
       "- Prime Meridian: Greenwich"
      ]
     },
     "execution_count": 20,
     "metadata": {},
     "output_type": "execute_result"
    }
   ],
   "source": [
    "CA_county.crs"
   ]
  },
  {
   "cell_type": "code",
   "execution_count": 24,
   "id": "fb212e88-b4ce-4b14-bb34-a6d689d6f99c",
   "metadata": {},
   "outputs": [
    {
     "data": {
      "text/plain": [
       "<Projected CRS: EPSG:2229>\n",
       "Name: NAD83 / California zone 5 (ftUS)\n",
       "Axis Info [cartesian]:\n",
       "- X[east]: Easting (US survey foot)\n",
       "- Y[north]: Northing (US survey foot)\n",
       "Area of Use:\n",
       "- name: United States (USA) - California - counties Kern; Los Angeles; San Bernardino; San Luis Obispo; Santa Barbara; Ventura.\n",
       "- bounds: (-121.42, 32.76, -114.12, 35.81)\n",
       "Coordinate Operation:\n",
       "- name: SPCS83 California zone 5 (US Survey feet)\n",
       "- method: Lambert Conic Conformal (2SP)\n",
       "Datum: North American Datum 1983\n",
       "- Ellipsoid: GRS 1980\n",
       "- Prime Meridian: Greenwich"
      ]
     },
     "execution_count": 24,
     "metadata": {},
     "output_type": "execute_result"
    }
   ],
   "source": [
    "#change CRS of a gdf. \n",
    "#gdf.geometry.to_crs('EPSG:2229')\n",
    "county2229 = CA_county.set_crs('EPSG:2229', allow_override=True)\n",
    "county2229.crs"
   ]
  },
  {
   "cell_type": "code",
   "execution_count": 25,
   "id": "fcc8732e-9d89-4d0e-b1ef-03e312712627",
   "metadata": {},
   "outputs": [
    {
     "data": {
      "text/plain": [
       "0     0.217411\n",
       "1     0.198471\n",
       "2     0.161961\n",
       "3     0.455899\n",
       "4     0.275908\n",
       "        ...   \n",
       "64    0.000059\n",
       "65    0.000174\n",
       "66    0.000041\n",
       "67    0.014070\n",
       "68    0.018707\n",
       "Length: 69, dtype: float64"
      ]
     },
     "execution_count": 25,
     "metadata": {},
     "output_type": "execute_result"
    }
   ],
   "source": [
    "#area of gdf, ensure CRS is not a decimal degrees. decimal degree isnt usable and cant create area\n",
    "\n",
    "county2229.geometry.area"
   ]
  },
  {
   "cell_type": "code",
   "execution_count": 39,
   "id": "e6cbf128-5669-4675-8c14-429721d53a0e",
   "metadata": {},
   "outputs": [
    {
     "data": {
      "text/html": [
       "<div>\n",
       "<style scoped>\n",
       "    .dataframe tbody tr th:only-of-type {\n",
       "        vertical-align: middle;\n",
       "    }\n",
       "\n",
       "    .dataframe tbody tr th {\n",
       "        vertical-align: top;\n",
       "    }\n",
       "\n",
       "    .dataframe thead th {\n",
       "        text-align: right;\n",
       "    }\n",
       "</style>\n",
       "<table border=\"1\" class=\"dataframe\">\n",
       "  <thead>\n",
       "    <tr style=\"text-align: right;\">\n",
       "      <th></th>\n",
       "      <th>OBJECTID</th>\n",
       "      <th>COUNTY_NAME</th>\n",
       "      <th>COUNTY_ABBREV</th>\n",
       "      <th>COUNTY_NUM</th>\n",
       "      <th>COUNTY_CODE</th>\n",
       "      <th>COUNTY_FIPS</th>\n",
       "      <th>ISLAND</th>\n",
       "      <th>Shape__Area</th>\n",
       "      <th>Shape__Length</th>\n",
       "      <th>GlobalID</th>\n",
       "      <th>geometry</th>\n",
       "    </tr>\n",
       "  </thead>\n",
       "  <tbody>\n",
       "    <tr>\n",
       "      <th>0</th>\n",
       "      <td>1</td>\n",
       "      <td>Alameda</td>\n",
       "      <td>ALA</td>\n",
       "      <td>1</td>\n",
       "      <td>01</td>\n",
       "      <td>001</td>\n",
       "      <td>NaN</td>\n",
       "      <td>3.402787e+09</td>\n",
       "      <td>308998.650766</td>\n",
       "      <td>e6f92268-d2dd-4cfb-8b79-5b4b2f07c559</td>\n",
       "      <td>POLYGON ((-122.271 37.905, -122.270 37.904, -1...</td>\n",
       "    </tr>\n",
       "    <tr>\n",
       "      <th>1</th>\n",
       "      <td>2</td>\n",
       "      <td>Alpine</td>\n",
       "      <td>ALP</td>\n",
       "      <td>2</td>\n",
       "      <td>02</td>\n",
       "      <td>003</td>\n",
       "      <td>NaN</td>\n",
       "      <td>3.146939e+09</td>\n",
       "      <td>274888.492411</td>\n",
       "      <td>870479b2-480a-494b-8352-ad60578839c1</td>\n",
       "      <td>POLYGON ((-119.587 38.714, -119.587 38.714, -1...</td>\n",
       "    </tr>\n",
       "    <tr>\n",
       "      <th>2</th>\n",
       "      <td>3</td>\n",
       "      <td>Amador</td>\n",
       "      <td>AMA</td>\n",
       "      <td>3</td>\n",
       "      <td>03</td>\n",
       "      <td>005</td>\n",
       "      <td>NaN</td>\n",
       "      <td>2.562635e+09</td>\n",
       "      <td>361708.438013</td>\n",
       "      <td>4f45b3a6-be10-461c-8945-6b2aaa7119f6</td>\n",
       "      <td>POLYGON ((-120.072 38.703, -120.072 38.685, -1...</td>\n",
       "    </tr>\n",
       "    <tr>\n",
       "      <th>3</th>\n",
       "      <td>4</td>\n",
       "      <td>Butte</td>\n",
       "      <td>BUT</td>\n",
       "      <td>4</td>\n",
       "      <td>04</td>\n",
       "      <td>007</td>\n",
       "      <td>NaN</td>\n",
       "      <td>7.339348e+09</td>\n",
       "      <td>526547.115238</td>\n",
       "      <td>44fba680-aecc-4e04-a499-29d69affbd4a</td>\n",
       "      <td>POLYGON ((-121.077 39.597, -121.079 39.585, -1...</td>\n",
       "    </tr>\n",
       "    <tr>\n",
       "      <th>4</th>\n",
       "      <td>5</td>\n",
       "      <td>Calaveras</td>\n",
       "      <td>CAL</td>\n",
       "      <td>5</td>\n",
       "      <td>05</td>\n",
       "      <td>009</td>\n",
       "      <td>NaN</td>\n",
       "      <td>4.351069e+09</td>\n",
       "      <td>370637.578323</td>\n",
       "      <td>d11ef739-4a1e-414e-bfd1-e7dcd56cd61e</td>\n",
       "      <td>POLYGON ((-120.018 38.436, -120.018 38.436, -1...</td>\n",
       "    </tr>\n",
       "  </tbody>\n",
       "</table>\n",
       "</div>"
      ],
      "text/plain": [
       "   OBJECTID COUNTY_NAME COUNTY_ABBREV  COUNTY_NUM COUNTY_CODE COUNTY_FIPS  \\\n",
       "0         1     Alameda           ALA           1          01         001   \n",
       "1         2      Alpine           ALP           2          02         003   \n",
       "2         3      Amador           AMA           3          03         005   \n",
       "3         4       Butte           BUT           4          04         007   \n",
       "4         5   Calaveras           CAL           5          05         009   \n",
       "\n",
       "  ISLAND   Shape__Area  Shape__Length                              GlobalID  \\\n",
       "0    NaN  3.402787e+09  308998.650766  e6f92268-d2dd-4cfb-8b79-5b4b2f07c559   \n",
       "1    NaN  3.146939e+09  274888.492411  870479b2-480a-494b-8352-ad60578839c1   \n",
       "2    NaN  2.562635e+09  361708.438013  4f45b3a6-be10-461c-8945-6b2aaa7119f6   \n",
       "3    NaN  7.339348e+09  526547.115238  44fba680-aecc-4e04-a499-29d69affbd4a   \n",
       "4    NaN  4.351069e+09  370637.578323  d11ef739-4a1e-414e-bfd1-e7dcd56cd61e   \n",
       "\n",
       "                                            geometry  \n",
       "0  POLYGON ((-122.271 37.905, -122.270 37.904, -1...  \n",
       "1  POLYGON ((-119.587 38.714, -119.587 38.714, -1...  \n",
       "2  POLYGON ((-120.072 38.703, -120.072 38.685, -1...  \n",
       "3  POLYGON ((-121.077 39.597, -121.079 39.585, -1...  \n",
       "4  POLYGON ((-120.018 38.436, -120.018 38.436, -1...  "
      ]
     },
     "execution_count": 39,
     "metadata": {},
     "output_type": "execute_result"
    }
   ],
   "source": [
    "county2229.head()"
   ]
  },
  {
   "cell_type": "code",
   "execution_count": 46,
   "id": "680c6f02-a552-45dd-b80e-b19a940dd973",
   "metadata": {},
   "outputs": [
    {
     "data": {
      "text/plain": [
       "0     0.217411\n",
       "1     0.198471\n",
       "2     0.161961\n",
       "3     0.455899\n",
       "4     0.275908\n",
       "        ...   \n",
       "64    0.000059\n",
       "65    0.000174\n",
       "66    0.000041\n",
       "67    0.014070\n",
       "68    0.018707\n",
       "Length: 69, dtype: float64"
      ]
     },
     "execution_count": 46,
     "metadata": {},
     "output_type": "execute_result"
    }
   ],
   "source": [
    "county2229.geometry.area"
   ]
  },
  {
   "cell_type": "code",
   "execution_count": 44,
   "id": "49b898e6-d998-4522-9c76-9c3353d2dc23",
   "metadata": {},
   "outputs": [
    {
     "data": {
      "text/plain": [
       "<Projected CRS: EPSG:2229>\n",
       "Name: NAD83 / California zone 5 (ftUS)\n",
       "Axis Info [cartesian]:\n",
       "- X[east]: Easting (US survey foot)\n",
       "- Y[north]: Northing (US survey foot)\n",
       "Area of Use:\n",
       "- name: United States (USA) - California - counties Kern; Los Angeles; San Bernardino; San Luis Obispo; Santa Barbara; Ventura.\n",
       "- bounds: (-121.42, 32.76, -114.12, 35.81)\n",
       "Coordinate Operation:\n",
       "- name: SPCS83 California zone 5 (US Survey feet)\n",
       "- method: Lambert Conic Conformal (2SP)\n",
       "Datum: North American Datum 1983\n",
       "- Ellipsoid: GRS 1980\n",
       "- Prime Meridian: Greenwich"
      ]
     },
     "execution_count": 44,
     "metadata": {},
     "output_type": "execute_result"
    }
   ],
   "source": [
    "stops2229 = stops_ptg.to_crs('EPSG:2229')\n",
    "stops2229.crs\n"
   ]
  },
  {
   "cell_type": "code",
   "execution_count": 45,
   "id": "92a0703d-0ac5-4e5f-8e05-f9ed375f4f6a",
   "metadata": {},
   "outputs": [
    {
     "data": {
      "text/html": [
       "<div>\n",
       "<style scoped>\n",
       "    .dataframe tbody tr th:only-of-type {\n",
       "        vertical-align: middle;\n",
       "    }\n",
       "\n",
       "    .dataframe tbody tr th {\n",
       "        vertical-align: top;\n",
       "    }\n",
       "\n",
       "    .dataframe thead th {\n",
       "        text-align: right;\n",
       "    }\n",
       "</style>\n",
       "<table border=\"1\" class=\"dataframe\">\n",
       "  <thead>\n",
       "    <tr style=\"text-align: right;\">\n",
       "      <th></th>\n",
       "      <th>feed_key</th>\n",
       "      <th>stop_id</th>\n",
       "      <th>stop_lat</th>\n",
       "      <th>stop_lon</th>\n",
       "      <th>stop_name</th>\n",
       "      <th>operator</th>\n",
       "      <th>agency</th>\n",
       "      <th>geometry</th>\n",
       "    </tr>\n",
       "  </thead>\n",
       "  <tbody>\n",
       "    <tr>\n",
       "      <th>0</th>\n",
       "      <td>25c6505166c01099b2f6f2de173e20b9</td>\n",
       "      <td>22nd_street</td>\n",
       "      <td>37.756972</td>\n",
       "      <td>-122.392492</td>\n",
       "      <td>22nd Street</td>\n",
       "      <td>Caltrain</td>\n",
       "      <td>Caltrain</td>\n",
       "      <td>POINT (5290484.166 3218221.779)</td>\n",
       "    </tr>\n",
       "    <tr>\n",
       "      <th>1</th>\n",
       "      <td>25c6505166c01099b2f6f2de173e20b9</td>\n",
       "      <td>2537740</td>\n",
       "      <td>37.438491</td>\n",
       "      <td>-122.156405</td>\n",
       "      <td>Stanford Caltrain Station</td>\n",
       "      <td>Caltrain</td>\n",
       "      <td>Caltrain</td>\n",
       "      <td>POINT (5353967.719 3099309.691)</td>\n",
       "    </tr>\n",
       "    <tr>\n",
       "      <th>2</th>\n",
       "      <td>25c6505166c01099b2f6f2de173e20b9</td>\n",
       "      <td>2537744</td>\n",
       "      <td>37.438425</td>\n",
       "      <td>-122.156482</td>\n",
       "      <td>Stanford Caltrain Station</td>\n",
       "      <td>Caltrain</td>\n",
       "      <td>Caltrain</td>\n",
       "      <td>POINT (5353944.533 3099286.476)</td>\n",
       "    </tr>\n",
       "    <tr>\n",
       "      <th>3</th>\n",
       "      <td>25c6505166c01099b2f6f2de173e20b9</td>\n",
       "      <td>70011</td>\n",
       "      <td>37.776390</td>\n",
       "      <td>-122.394992</td>\n",
       "      <td>San Francisco Caltrain Station</td>\n",
       "      <td>Caltrain</td>\n",
       "      <td>Caltrain</td>\n",
       "      <td>POINT (5290070.611 3225326.968)</td>\n",
       "    </tr>\n",
       "    <tr>\n",
       "      <th>4</th>\n",
       "      <td>25c6505166c01099b2f6f2de173e20b9</td>\n",
       "      <td>70012</td>\n",
       "      <td>37.776348</td>\n",
       "      <td>-122.394935</td>\n",
       "      <td>San Francisco Caltrain Station</td>\n",
       "      <td>Caltrain</td>\n",
       "      <td>Caltrain</td>\n",
       "      <td>POINT (5290086.422 3225310.947)</td>\n",
       "    </tr>\n",
       "  </tbody>\n",
       "</table>\n",
       "</div>"
      ],
      "text/plain": [
       "                           feed_key      stop_id   stop_lat    stop_lon  \\\n",
       "0  25c6505166c01099b2f6f2de173e20b9  22nd_street  37.756972 -122.392492   \n",
       "1  25c6505166c01099b2f6f2de173e20b9      2537740  37.438491 -122.156405   \n",
       "2  25c6505166c01099b2f6f2de173e20b9      2537744  37.438425 -122.156482   \n",
       "3  25c6505166c01099b2f6f2de173e20b9        70011  37.776390 -122.394992   \n",
       "4  25c6505166c01099b2f6f2de173e20b9        70012  37.776348 -122.394935   \n",
       "\n",
       "                        stop_name  operator    agency  \\\n",
       "0                     22nd Street  Caltrain  Caltrain   \n",
       "1       Stanford Caltrain Station  Caltrain  Caltrain   \n",
       "2       Stanford Caltrain Station  Caltrain  Caltrain   \n",
       "3  San Francisco Caltrain Station  Caltrain  Caltrain   \n",
       "4  San Francisco Caltrain Station  Caltrain  Caltrain   \n",
       "\n",
       "                          geometry  \n",
       "0  POINT (5290484.166 3218221.779)  \n",
       "1  POINT (5353967.719 3099309.691)  \n",
       "2  POINT (5353944.533 3099286.476)  \n",
       "3  POINT (5290070.611 3225326.968)  \n",
       "4  POINT (5290086.422 3225310.947)  "
      ]
     },
     "execution_count": 45,
     "metadata": {},
     "output_type": "execute_result"
    }
   ],
   "source": [
    "stops2229.head()"
   ]
  },
  {
   "cell_type": "code",
   "execution_count": 43,
   "id": "83944ae7-e7ab-41af-9f9f-0ef6dc07051a",
   "metadata": {},
   "outputs": [
    {
     "data": {
      "text/plain": [
       "0      0.0\n",
       "1      0.0\n",
       "2      0.0\n",
       "3      0.0\n",
       "4      0.0\n",
       "      ... \n",
       "575    0.0\n",
       "576    0.0\n",
       "577    0.0\n",
       "578    0.0\n",
       "579    0.0\n",
       "Length: 580, dtype: float64"
      ]
     },
     "execution_count": 43,
     "metadata": {},
     "output_type": "execute_result"
    }
   ],
   "source": [
    "stops2229.geometry.area"
   ]
  },
  {
   "cell_type": "code",
   "execution_count": 33,
   "id": "3f42a38d-74f0-4aeb-b486-f699c3c500e3",
   "metadata": {},
   "outputs": [
    {
     "name": "stdout",
     "output_type": "stream",
     "text": [
      "<class 'geopandas.geodataframe.GeoDataFrame'>\n",
      "(0, 19)\n",
      "Series([], Name: feed_key, dtype: int64)\n",
      "Series([], Name: OBJECTID, dtype: int64)\n"
     ]
    },
    {
     "data": {
      "text/html": [
       "<div>\n",
       "<style scoped>\n",
       "    .dataframe tbody tr th:only-of-type {\n",
       "        vertical-align: middle;\n",
       "    }\n",
       "\n",
       "    .dataframe tbody tr th {\n",
       "        vertical-align: top;\n",
       "    }\n",
       "\n",
       "    .dataframe thead th {\n",
       "        text-align: right;\n",
       "    }\n",
       "</style>\n",
       "<table border=\"1\" class=\"dataframe\">\n",
       "  <thead>\n",
       "    <tr style=\"text-align: right;\">\n",
       "      <th></th>\n",
       "      <th>OBJECTID</th>\n",
       "      <th>COUNTY_NAME</th>\n",
       "      <th>COUNTY_ABBREV</th>\n",
       "      <th>COUNTY_NUM</th>\n",
       "      <th>COUNTY_CODE</th>\n",
       "      <th>COUNTY_FIPS</th>\n",
       "      <th>ISLAND</th>\n",
       "      <th>Shape__Area</th>\n",
       "      <th>Shape__Length</th>\n",
       "      <th>GlobalID</th>\n",
       "      <th>geometry</th>\n",
       "      <th>index_right</th>\n",
       "      <th>feed_key</th>\n",
       "      <th>stop_id</th>\n",
       "      <th>stop_lat</th>\n",
       "      <th>stop_lon</th>\n",
       "      <th>stop_name</th>\n",
       "      <th>operator</th>\n",
       "      <th>agency</th>\n",
       "    </tr>\n",
       "  </thead>\n",
       "  <tbody>\n",
       "  </tbody>\n",
       "</table>\n",
       "</div>"
      ],
      "text/plain": [
       "Empty GeoDataFrame\n",
       "Columns: [OBJECTID, COUNTY_NAME, COUNTY_ABBREV, COUNTY_NUM, COUNTY_CODE, COUNTY_FIPS, ISLAND, Shape__Area, Shape__Length, GlobalID, geometry, index_right, feed_key, stop_id, stop_lat, stop_lon, stop_name, operator, agency]\n",
       "Index: []"
      ]
     },
     "execution_count": 33,
     "metadata": {},
     "output_type": "execute_result"
    }
   ],
   "source": [
    "# inner join\n",
    "geojoin_in = gpd.sjoin(county2229, stops2229, how='inner')\n",
    "\n",
    "print(type(geojoin_in))\n",
    "print(geojoin_in.shape)\n",
    "print(geojoin_in.feed_key.isna().value_counts())\n",
    "print(geojoin_in.OBJECTID.isna().value_counts())\n",
    "geojoin_in.head()"
   ]
  },
  {
   "cell_type": "code",
   "execution_count": 34,
   "id": "5be6949c-9e9b-4d9e-ba5b-ad6b6c0d7045",
   "metadata": {},
   "outputs": [
    {
     "name": "stdout",
     "output_type": "stream",
     "text": [
      "<class 'geopandas.geodataframe.GeoDataFrame'>\n",
      "(69, 19)\n",
      "True    69\n",
      "Name: feed_key, dtype: int64\n",
      "False    69\n",
      "Name: OBJECTID, dtype: int64\n"
     ]
    },
    {
     "data": {
      "text/html": [
       "<div>\n",
       "<style scoped>\n",
       "    .dataframe tbody tr th:only-of-type {\n",
       "        vertical-align: middle;\n",
       "    }\n",
       "\n",
       "    .dataframe tbody tr th {\n",
       "        vertical-align: top;\n",
       "    }\n",
       "\n",
       "    .dataframe thead th {\n",
       "        text-align: right;\n",
       "    }\n",
       "</style>\n",
       "<table border=\"1\" class=\"dataframe\">\n",
       "  <thead>\n",
       "    <tr style=\"text-align: right;\">\n",
       "      <th></th>\n",
       "      <th>OBJECTID</th>\n",
       "      <th>COUNTY_NAME</th>\n",
       "      <th>COUNTY_ABBREV</th>\n",
       "      <th>COUNTY_NUM</th>\n",
       "      <th>COUNTY_CODE</th>\n",
       "      <th>COUNTY_FIPS</th>\n",
       "      <th>ISLAND</th>\n",
       "      <th>Shape__Area</th>\n",
       "      <th>Shape__Length</th>\n",
       "      <th>GlobalID</th>\n",
       "      <th>geometry</th>\n",
       "      <th>index_right</th>\n",
       "      <th>feed_key</th>\n",
       "      <th>stop_id</th>\n",
       "      <th>stop_lat</th>\n",
       "      <th>stop_lon</th>\n",
       "      <th>stop_name</th>\n",
       "      <th>operator</th>\n",
       "      <th>agency</th>\n",
       "    </tr>\n",
       "  </thead>\n",
       "  <tbody>\n",
       "    <tr>\n",
       "      <th>0</th>\n",
       "      <td>1</td>\n",
       "      <td>Alameda</td>\n",
       "      <td>ALA</td>\n",
       "      <td>1</td>\n",
       "      <td>01</td>\n",
       "      <td>001</td>\n",
       "      <td>NaN</td>\n",
       "      <td>3.402787e+09</td>\n",
       "      <td>308998.650766</td>\n",
       "      <td>e6f92268-d2dd-4cfb-8b79-5b4b2f07c559</td>\n",
       "      <td>POLYGON ((-122.271 37.905, -122.270 37.904, -1...</td>\n",
       "      <td>NaN</td>\n",
       "      <td>NaN</td>\n",
       "      <td>NaN</td>\n",
       "      <td>NaN</td>\n",
       "      <td>NaN</td>\n",
       "      <td>NaN</td>\n",
       "      <td>NaN</td>\n",
       "      <td>NaN</td>\n",
       "    </tr>\n",
       "    <tr>\n",
       "      <th>1</th>\n",
       "      <td>2</td>\n",
       "      <td>Alpine</td>\n",
       "      <td>ALP</td>\n",
       "      <td>2</td>\n",
       "      <td>02</td>\n",
       "      <td>003</td>\n",
       "      <td>NaN</td>\n",
       "      <td>3.146939e+09</td>\n",
       "      <td>274888.492411</td>\n",
       "      <td>870479b2-480a-494b-8352-ad60578839c1</td>\n",
       "      <td>POLYGON ((-119.587 38.714, -119.587 38.714, -1...</td>\n",
       "      <td>NaN</td>\n",
       "      <td>NaN</td>\n",
       "      <td>NaN</td>\n",
       "      <td>NaN</td>\n",
       "      <td>NaN</td>\n",
       "      <td>NaN</td>\n",
       "      <td>NaN</td>\n",
       "      <td>NaN</td>\n",
       "    </tr>\n",
       "    <tr>\n",
       "      <th>2</th>\n",
       "      <td>3</td>\n",
       "      <td>Amador</td>\n",
       "      <td>AMA</td>\n",
       "      <td>3</td>\n",
       "      <td>03</td>\n",
       "      <td>005</td>\n",
       "      <td>NaN</td>\n",
       "      <td>2.562635e+09</td>\n",
       "      <td>361708.438013</td>\n",
       "      <td>4f45b3a6-be10-461c-8945-6b2aaa7119f6</td>\n",
       "      <td>POLYGON ((-120.072 38.703, -120.072 38.685, -1...</td>\n",
       "      <td>NaN</td>\n",
       "      <td>NaN</td>\n",
       "      <td>NaN</td>\n",
       "      <td>NaN</td>\n",
       "      <td>NaN</td>\n",
       "      <td>NaN</td>\n",
       "      <td>NaN</td>\n",
       "      <td>NaN</td>\n",
       "    </tr>\n",
       "    <tr>\n",
       "      <th>3</th>\n",
       "      <td>4</td>\n",
       "      <td>Butte</td>\n",
       "      <td>BUT</td>\n",
       "      <td>4</td>\n",
       "      <td>04</td>\n",
       "      <td>007</td>\n",
       "      <td>NaN</td>\n",
       "      <td>7.339348e+09</td>\n",
       "      <td>526547.115238</td>\n",
       "      <td>44fba680-aecc-4e04-a499-29d69affbd4a</td>\n",
       "      <td>POLYGON ((-121.077 39.597, -121.079 39.585, -1...</td>\n",
       "      <td>NaN</td>\n",
       "      <td>NaN</td>\n",
       "      <td>NaN</td>\n",
       "      <td>NaN</td>\n",
       "      <td>NaN</td>\n",
       "      <td>NaN</td>\n",
       "      <td>NaN</td>\n",
       "      <td>NaN</td>\n",
       "    </tr>\n",
       "    <tr>\n",
       "      <th>4</th>\n",
       "      <td>5</td>\n",
       "      <td>Calaveras</td>\n",
       "      <td>CAL</td>\n",
       "      <td>5</td>\n",
       "      <td>05</td>\n",
       "      <td>009</td>\n",
       "      <td>NaN</td>\n",
       "      <td>4.351069e+09</td>\n",
       "      <td>370637.578323</td>\n",
       "      <td>d11ef739-4a1e-414e-bfd1-e7dcd56cd61e</td>\n",
       "      <td>POLYGON ((-120.018 38.436, -120.018 38.436, -1...</td>\n",
       "      <td>NaN</td>\n",
       "      <td>NaN</td>\n",
       "      <td>NaN</td>\n",
       "      <td>NaN</td>\n",
       "      <td>NaN</td>\n",
       "      <td>NaN</td>\n",
       "      <td>NaN</td>\n",
       "      <td>NaN</td>\n",
       "    </tr>\n",
       "  </tbody>\n",
       "</table>\n",
       "</div>"
      ],
      "text/plain": [
       "   OBJECTID COUNTY_NAME COUNTY_ABBREV  COUNTY_NUM COUNTY_CODE COUNTY_FIPS  \\\n",
       "0         1     Alameda           ALA           1          01         001   \n",
       "1         2      Alpine           ALP           2          02         003   \n",
       "2         3      Amador           AMA           3          03         005   \n",
       "3         4       Butte           BUT           4          04         007   \n",
       "4         5   Calaveras           CAL           5          05         009   \n",
       "\n",
       "  ISLAND   Shape__Area  Shape__Length                              GlobalID  \\\n",
       "0    NaN  3.402787e+09  308998.650766  e6f92268-d2dd-4cfb-8b79-5b4b2f07c559   \n",
       "1    NaN  3.146939e+09  274888.492411  870479b2-480a-494b-8352-ad60578839c1   \n",
       "2    NaN  2.562635e+09  361708.438013  4f45b3a6-be10-461c-8945-6b2aaa7119f6   \n",
       "3    NaN  7.339348e+09  526547.115238  44fba680-aecc-4e04-a499-29d69affbd4a   \n",
       "4    NaN  4.351069e+09  370637.578323  d11ef739-4a1e-414e-bfd1-e7dcd56cd61e   \n",
       "\n",
       "                                            geometry  index_right feed_key  \\\n",
       "0  POLYGON ((-122.271 37.905, -122.270 37.904, -1...          NaN      NaN   \n",
       "1  POLYGON ((-119.587 38.714, -119.587 38.714, -1...          NaN      NaN   \n",
       "2  POLYGON ((-120.072 38.703, -120.072 38.685, -1...          NaN      NaN   \n",
       "3  POLYGON ((-121.077 39.597, -121.079 39.585, -1...          NaN      NaN   \n",
       "4  POLYGON ((-120.018 38.436, -120.018 38.436, -1...          NaN      NaN   \n",
       "\n",
       "  stop_id  stop_lat  stop_lon stop_name operator agency  \n",
       "0     NaN       NaN       NaN       NaN      NaN    NaN  \n",
       "1     NaN       NaN       NaN       NaN      NaN    NaN  \n",
       "2     NaN       NaN       NaN       NaN      NaN    NaN  \n",
       "3     NaN       NaN       NaN       NaN      NaN    NaN  \n",
       "4     NaN       NaN       NaN       NaN      NaN    NaN  "
      ]
     },
     "execution_count": 34,
     "metadata": {},
     "output_type": "execute_result"
    }
   ],
   "source": [
    "#Play with inner join or left join, what's the difference? Which one do you want?\n",
    "#LEFT join\n",
    "geojoin_lf = gpd.sjoin(county2229, stops2229, how='left')\n",
    "print(type(geojoin_lf))\n",
    "print(geojoin_lf.shape)\n",
    "print(geojoin_lf.feed_key.isna().value_counts())\n",
    "print(geojoin_lf.OBJECTID.isna().value_counts())\n",
    "geojoin_lf.head()"
   ]
  },
  {
   "cell_type": "markdown",
   "id": "bf89c03a-5dd6-4e12-9636-bfb5e6b36307",
   "metadata": {},
   "source": [
    "### Inner vs Left Join compare\n",
    "\n",
    "Inner join for `county2229` and `stops2229` returned nothing. Whereas, left join of `county2229` and `stops2229` actually had data.\n"
   ]
  },
  {
   "cell_type": "code",
   "execution_count": 35,
   "id": "4f27e6a0-8e1b-4d09-a86f-599fbdebbfa9",
   "metadata": {},
   "outputs": [
    {
     "name": "stdout",
     "output_type": "stream",
     "text": [
      "<class 'geopandas.geodataframe.GeoDataFrame'>\n",
      "(580, 19)\n",
      "False    580\n",
      "Name: feed_key, dtype: int64\n",
      "True    580\n",
      "Name: OBJECTID, dtype: int64\n"
     ]
    },
    {
     "data": {
      "text/html": [
       "<div>\n",
       "<style scoped>\n",
       "    .dataframe tbody tr th:only-of-type {\n",
       "        vertical-align: middle;\n",
       "    }\n",
       "\n",
       "    .dataframe tbody tr th {\n",
       "        vertical-align: top;\n",
       "    }\n",
       "\n",
       "    .dataframe thead th {\n",
       "        text-align: right;\n",
       "    }\n",
       "</style>\n",
       "<table border=\"1\" class=\"dataframe\">\n",
       "  <thead>\n",
       "    <tr style=\"text-align: right;\">\n",
       "      <th></th>\n",
       "      <th>feed_key</th>\n",
       "      <th>stop_id</th>\n",
       "      <th>stop_lat</th>\n",
       "      <th>stop_lon</th>\n",
       "      <th>stop_name</th>\n",
       "      <th>operator</th>\n",
       "      <th>agency</th>\n",
       "      <th>geometry</th>\n",
       "      <th>index_right</th>\n",
       "      <th>OBJECTID</th>\n",
       "      <th>COUNTY_NAME</th>\n",
       "      <th>COUNTY_ABBREV</th>\n",
       "      <th>COUNTY_NUM</th>\n",
       "      <th>COUNTY_CODE</th>\n",
       "      <th>COUNTY_FIPS</th>\n",
       "      <th>ISLAND</th>\n",
       "      <th>Shape__Area</th>\n",
       "      <th>Shape__Length</th>\n",
       "      <th>GlobalID</th>\n",
       "    </tr>\n",
       "  </thead>\n",
       "  <tbody>\n",
       "    <tr>\n",
       "      <th>0</th>\n",
       "      <td>25c6505166c01099b2f6f2de173e20b9</td>\n",
       "      <td>22nd_street</td>\n",
       "      <td>37.756972</td>\n",
       "      <td>-122.392492</td>\n",
       "      <td>22nd Street</td>\n",
       "      <td>Caltrain</td>\n",
       "      <td>Caltrain</td>\n",
       "      <td>POINT (-210476.178 -26180.127)</td>\n",
       "      <td>NaN</td>\n",
       "      <td>NaN</td>\n",
       "      <td>NaN</td>\n",
       "      <td>NaN</td>\n",
       "      <td>NaN</td>\n",
       "      <td>NaN</td>\n",
       "      <td>NaN</td>\n",
       "      <td>NaN</td>\n",
       "      <td>NaN</td>\n",
       "      <td>NaN</td>\n",
       "      <td>NaN</td>\n",
       "    </tr>\n",
       "    <tr>\n",
       "      <th>1</th>\n",
       "      <td>25c6505166c01099b2f6f2de173e20b9</td>\n",
       "      <td>2537740</td>\n",
       "      <td>37.438491</td>\n",
       "      <td>-122.156405</td>\n",
       "      <td>Stanford Caltrain Station</td>\n",
       "      <td>Caltrain</td>\n",
       "      <td>Caltrain</td>\n",
       "      <td>POINT (-190515.741 -62073.320)</td>\n",
       "      <td>NaN</td>\n",
       "      <td>NaN</td>\n",
       "      <td>NaN</td>\n",
       "      <td>NaN</td>\n",
       "      <td>NaN</td>\n",
       "      <td>NaN</td>\n",
       "      <td>NaN</td>\n",
       "      <td>NaN</td>\n",
       "      <td>NaN</td>\n",
       "      <td>NaN</td>\n",
       "      <td>NaN</td>\n",
       "    </tr>\n",
       "    <tr>\n",
       "      <th>2</th>\n",
       "      <td>25c6505166c01099b2f6f2de173e20b9</td>\n",
       "      <td>2537744</td>\n",
       "      <td>37.438425</td>\n",
       "      <td>-122.156482</td>\n",
       "      <td>Stanford Caltrain Station</td>\n",
       "      <td>Caltrain</td>\n",
       "      <td>Caltrain</td>\n",
       "      <td>POINT (-190522.657 -62080.530)</td>\n",
       "      <td>NaN</td>\n",
       "      <td>NaN</td>\n",
       "      <td>NaN</td>\n",
       "      <td>NaN</td>\n",
       "      <td>NaN</td>\n",
       "      <td>NaN</td>\n",
       "      <td>NaN</td>\n",
       "      <td>NaN</td>\n",
       "      <td>NaN</td>\n",
       "      <td>NaN</td>\n",
       "      <td>NaN</td>\n",
       "    </tr>\n",
       "    <tr>\n",
       "      <th>3</th>\n",
       "      <td>25c6505166c01099b2f6f2de173e20b9</td>\n",
       "      <td>70011</td>\n",
       "      <td>37.776390</td>\n",
       "      <td>-122.394992</td>\n",
       "      <td>San Francisco Caltrain Station</td>\n",
       "      <td>Caltrain</td>\n",
       "      <td>Caltrain</td>\n",
       "      <td>POINT (-210641.541 -24016.628)</td>\n",
       "      <td>NaN</td>\n",
       "      <td>NaN</td>\n",
       "      <td>NaN</td>\n",
       "      <td>NaN</td>\n",
       "      <td>NaN</td>\n",
       "      <td>NaN</td>\n",
       "      <td>NaN</td>\n",
       "      <td>NaN</td>\n",
       "      <td>NaN</td>\n",
       "      <td>NaN</td>\n",
       "      <td>NaN</td>\n",
       "    </tr>\n",
       "    <tr>\n",
       "      <th>4</th>\n",
       "      <td>25c6505166c01099b2f6f2de173e20b9</td>\n",
       "      <td>70012</td>\n",
       "      <td>37.776348</td>\n",
       "      <td>-122.394935</td>\n",
       "      <td>San Francisco Caltrain Station</td>\n",
       "      <td>Caltrain</td>\n",
       "      <td>Caltrain</td>\n",
       "      <td>POINT (-210636.647 -24021.422)</td>\n",
       "      <td>NaN</td>\n",
       "      <td>NaN</td>\n",
       "      <td>NaN</td>\n",
       "      <td>NaN</td>\n",
       "      <td>NaN</td>\n",
       "      <td>NaN</td>\n",
       "      <td>NaN</td>\n",
       "      <td>NaN</td>\n",
       "      <td>NaN</td>\n",
       "      <td>NaN</td>\n",
       "      <td>NaN</td>\n",
       "    </tr>\n",
       "  </tbody>\n",
       "</table>\n",
       "</div>"
      ],
      "text/plain": [
       "                           feed_key      stop_id   stop_lat    stop_lon  \\\n",
       "0  25c6505166c01099b2f6f2de173e20b9  22nd_street  37.756972 -122.392492   \n",
       "1  25c6505166c01099b2f6f2de173e20b9      2537740  37.438491 -122.156405   \n",
       "2  25c6505166c01099b2f6f2de173e20b9      2537744  37.438425 -122.156482   \n",
       "3  25c6505166c01099b2f6f2de173e20b9        70011  37.776390 -122.394992   \n",
       "4  25c6505166c01099b2f6f2de173e20b9        70012  37.776348 -122.394935   \n",
       "\n",
       "                        stop_name  operator    agency  \\\n",
       "0                     22nd Street  Caltrain  Caltrain   \n",
       "1       Stanford Caltrain Station  Caltrain  Caltrain   \n",
       "2       Stanford Caltrain Station  Caltrain  Caltrain   \n",
       "3  San Francisco Caltrain Station  Caltrain  Caltrain   \n",
       "4  San Francisco Caltrain Station  Caltrain  Caltrain   \n",
       "\n",
       "                         geometry  index_right  OBJECTID COUNTY_NAME  \\\n",
       "0  POINT (-210476.178 -26180.127)          NaN       NaN         NaN   \n",
       "1  POINT (-190515.741 -62073.320)          NaN       NaN         NaN   \n",
       "2  POINT (-190522.657 -62080.530)          NaN       NaN         NaN   \n",
       "3  POINT (-210641.541 -24016.628)          NaN       NaN         NaN   \n",
       "4  POINT (-210636.647 -24021.422)          NaN       NaN         NaN   \n",
       "\n",
       "  COUNTY_ABBREV  COUNTY_NUM COUNTY_CODE COUNTY_FIPS ISLAND  Shape__Area  \\\n",
       "0           NaN         NaN         NaN         NaN    NaN          NaN   \n",
       "1           NaN         NaN         NaN         NaN    NaN          NaN   \n",
       "2           NaN         NaN         NaN         NaN    NaN          NaN   \n",
       "3           NaN         NaN         NaN         NaN    NaN          NaN   \n",
       "4           NaN         NaN         NaN         NaN    NaN          NaN   \n",
       "\n",
       "   Shape__Length GlobalID  \n",
       "0            NaN      NaN  \n",
       "1            NaN      NaN  \n",
       "2            NaN      NaN  \n",
       "3            NaN      NaN  \n",
       "4            NaN      NaN  "
      ]
     },
     "execution_count": 35,
     "metadata": {},
     "output_type": "execute_result"
    }
   ],
   "source": [
    "#Play with switching around the left_df and right_df, what's the right order?\n",
    "# initial join geojoin = gpd.sjoin(stops2, CA_county, how='left')\n",
    "\n",
    "geojoin_stp_cnty = gpd.sjoin(stops2229, county2229, how='left')\n",
    "print(type(geojoin_stp_cnty))\n",
    "print(geojoin_stp_cnty.shape)\n",
    "print(geojoin_stp_cnty.feed_key.isna().value_counts())\n",
    "print(geojoin_stp_cnty.OBJECTID.isna().value_counts())\n",
    "geojoin_stp_cnty.head()"
   ]
  },
  {
   "cell_type": "markdown",
   "id": "4484b179-00a4-418c-bdb4-b2bc212fc626",
   "metadata": {},
   "source": [
    "### Swapping left/right gdf\n",
    "\n",
    "initial left join of `geojoin_lf` had 69 rows as opposed to to `geojoin_stp_cnty` where Stops are on the left joined in by counties on the right had 580 rows. Also, geometry changed from Polygon to point respectively. \n",
    "\n",
    "### What's the right order?\n",
    "I would think that `geojoin_stp_cnty` is the correct order to have, however i would want to change to geometry type to polygon\n",
    "\n",
    "\n"
   ]
  },
  {
   "cell_type": "markdown",
   "id": "be275eeb-85b3-4dfa-891f-bf6037c4aa96",
   "metadata": {},
   "source": [
    "### Next\n",
    "\n",
    "By county: count number of stops and stops per sq_mi.\n",
    "* Hint 1: Start with a CRS with units in feet or meters, then do a conversion to sq mi. CRS in shared_utils\n",
    "* Hint 2: to find area, you can create a new column and calculate `gdf.geometry.area`. geometry manipulations docs"
   ]
  },
  {
   "cell_type": "code",
   "execution_count": 37,
   "id": "259ad695-bddb-4d16-a610-536490c8da89",
   "metadata": {},
   "outputs": [
    {
     "data": {
      "text/html": [
       "<div>\n",
       "<style scoped>\n",
       "    .dataframe tbody tr th:only-of-type {\n",
       "        vertical-align: middle;\n",
       "    }\n",
       "\n",
       "    .dataframe tbody tr th {\n",
       "        vertical-align: top;\n",
       "    }\n",
       "\n",
       "    .dataframe thead th {\n",
       "        text-align: right;\n",
       "    }\n",
       "</style>\n",
       "<table border=\"1\" class=\"dataframe\">\n",
       "  <thead>\n",
       "    <tr style=\"text-align: right;\">\n",
       "      <th></th>\n",
       "      <th>COUNTY_NAME</th>\n",
       "      <th>stop_id</th>\n",
       "    </tr>\n",
       "  </thead>\n",
       "  <tbody>\n",
       "  </tbody>\n",
       "</table>\n",
       "</div>"
      ],
      "text/plain": [
       "Empty DataFrame\n",
       "Columns: [COUNTY_NAME, stop_id]\n",
       "Index: []"
      ]
     },
     "execution_count": 37,
     "metadata": {},
     "output_type": "execute_result"
    }
   ],
   "source": [
    "#took too long tying to remember the syntax before giving up and looking it up\n",
    "#syntax structure explained. 1.name of df 2.groupby function 3.column to groupby 4. column to keep. 5.count by\n",
    "\n",
    "# of stops per country\n",
    "stop_count = geojoin_stp_cnty.groupby('COUNTY_NAME')['stop_id'].count().reset_index()\n",
    "stop_count"
   ]
  },
  {
   "cell_type": "code",
   "execution_count": null,
   "id": "3619ce31-6686-43bf-832d-8dfa2773e803",
   "metadata": {},
   "outputs": [],
   "source": [
    "# stuck on getting stops per sq_mi\n",
    "\n",
    "# get sq mi first, \n",
    "#make a new col need to convert miles to square miles\n",
    "#then new col to divide... by....\n",
    "\n",
    "WGS84 = \"EPSG:4326\"\n",
    "CA_StatePlane = \"EPSG:2229\"  # units are in feet\n",
    "CA_NAD83Albers = \"EPSG:3310\"  # units are in meters\n",
    "\n",
    "SQ_MI_PER_SQ_M = 3.86 * 10**-7\n",
    "FEET_PER_MI = 5_280\n",
    "SQ_FT_PER_SQ_MI = 2.788 * 10**7\n"
   ]
  },
  {
   "cell_type": "code",
   "execution_count": null,
   "id": "c5198ea7-4c5d-4611-aa29-445e24f0ffc3",
   "metadata": {},
   "outputs": [],
   "source": [
    "#new gdf with new CRS that is in feet.\n",
    "geojoin_ft=geojoin.set_crs(CA_StatePlane, allow_override=True)\n",
    "\n",
    "geojoin_ft.crs\n"
   ]
  },
  {
   "cell_type": "code",
   "execution_count": null,
   "id": "a06b8573-eb17-4a03-a8de-97e377e0fd57",
   "metadata": {},
   "outputs": [],
   "source": [
    "geojoin.head()"
   ]
  },
  {
   "cell_type": "code",
   "execution_count": null,
   "id": "29d5d16c-5afa-4952-83b6-6a98f8562fb4",
   "metadata": {},
   "outputs": [],
   "source": [
    "geojoin_ft.geometry.area"
   ]
  },
  {
   "cell_type": "code",
   "execution_count": null,
   "id": "e9e8f120-ac93-4211-b81d-b2595afc285b",
   "metadata": {},
   "outputs": [],
   "source": []
  }
 ],
 "metadata": {
  "kernelspec": {
   "display_name": "Python 3 (ipykernel)",
   "language": "python",
   "name": "python3"
  },
  "language_info": {
   "codemirror_mode": {
    "name": "ipython",
    "version": 3
   },
   "file_extension": ".py",
   "mimetype": "text/x-python",
   "name": "python",
   "nbconvert_exporter": "python",
   "pygments_lexer": "ipython3",
   "version": "3.9.13"
  }
 },
 "nbformat": 4,
 "nbformat_minor": 5
}
