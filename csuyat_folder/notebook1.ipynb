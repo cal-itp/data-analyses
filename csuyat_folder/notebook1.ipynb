{
 "cells": [
  {
   "cell_type": "markdown",
   "id": "f811f213-1031-4026-a9f0-2f4bffdf8889",
   "metadata": {},
   "source": [
    "## I'm adding a new file!\n"
   ]
  },
  {
   "cell_type": "markdown",
   "id": "12484023-09a8-4263-91c9-a456b00c94d5",
   "metadata": {},
   "source": [
    "### Here's another header"
   ]
  },
  {
   "cell_type": "code",
   "execution_count": 2,
   "id": "d4b55bad-e4fd-4d11-a3c0-f3c3808f8191",
   "metadata": {},
   "outputs": [
    {
     "name": "stdout",
     "output_type": "stream",
     "text": [
      "Hi Christian!\n"
     ]
    }
   ],
   "source": [
    "print('Hi Christian!')"
   ]
  }
 ],
 "metadata": {
  "kernelspec": {
   "display_name": "Python 3 (ipykernel)",
   "language": "python",
   "name": "python3"
  },
  "language_info": {
   "codemirror_mode": {
    "name": "ipython",
    "version": 3
   },
   "file_extension": ".py",
   "mimetype": "text/x-python",
   "name": "python",
   "nbconvert_exporter": "python",
   "pygments_lexer": "ipython3",
   "version": "3.9.13"
  }
 },
 "nbformat": 4,
 "nbformat_minor": 5
}
