{
 "cells": [
  {
   "cell_type": "markdown",
   "id": "04af490c-5230-4b28-aeb4-d636f44a28ba",
   "metadata": {},
   "source": [
    "## Exercise 2: Merging and Deriving New Columns\n",
    "\n",
    "Skills: \n",
    "* Merge 2 dataframes\n",
    "* F-strings!\n",
    "* Markdown cells\n",
    "* Build on groupby/agg knowledge, derive new columns, exporting\n",
    "* Practice committing on GitHub\n",
    "\n",
    "References: \n",
    "* https://docs.calitp.org/data-infra/analytics_new_analysts/01-data-analysis-intro.html\n",
    "* https://docs.calitp.org/data-infra/analytics_tools/saving_code.html"
   ]
  },
  {
   "cell_type": "code",
   "execution_count": 1,
   "id": "940e12c5-6775-4aa1-b7df-c00ca89732af",
   "metadata": {},
   "outputs": [],
   "source": [
    "import pandas as pd"
   ]
  },
  {
   "cell_type": "markdown",
   "id": "f4487520-d005-4262-b19f-4433203b12df",
   "metadata": {},
   "source": [
    "Use of f-strings. [Read more on this](https://realpython.com/python-f-strings/#f-strings-a-new-and-improved-way-to-format-strings-in-python).\n",
    "\n",
    "Also, click on this Markdown cell and see how to do different formatting syntax within Markdown. [Reference this](https://www.datacamp.com/community/tutorials/markdown-in-jupyter-notebook).\n",
    "\n",
    "If you don't have access to Google Cloud Storage, change the path to pull from our truncated sample parquets stored in the repo.\n",
    "\n",
    "We use [relative paths](https://towardsthecloud.com/get-relative-path-python) rather than absolute paths. Since we are in the `starter_kit` directory, we just need to go one more level in to the `data` subfolder. To get one level outside of `starter_kit`, use `../` and you'll end up in `data-analyses`. \n",
    "\n",
    "```\n",
    "FOLDER = \"./data/\"\n",
    "FILE_NAME = \"exercise_2_3_ntd_metrics_2019.parquet\"\n",
    "df = pd.read_parquet(f\"{FOLDER}{FILE_NAME}\")\n",
    "\n",
    "```"
   ]
  },
  {
   "cell_type": "code",
   "execution_count": 2,
   "id": "287cd877-e8a9-4db8-846d-3ba384e7979a",
   "metadata": {},
   "outputs": [
    {
     "name": "stderr",
     "output_type": "stream",
     "text": [
      "/opt/conda/lib/python3.9/site-packages/google/auth/_default.py:78: UserWarning: Your application has authenticated using end user credentials from Google Cloud SDK without a quota project. You might receive a \"quota exceeded\" or \"API not enabled\" error. See the following page for troubleshooting: https://cloud.google.com/docs/authentication/adc-troubleshooting/user-creds. \n",
      "  warnings.warn(_CLOUD_SDK_CREDENTIALS_WARNING)\n"
     ]
    }
   ],
   "source": [
    "#example of f-strings, used to define df using the named variables for the read_csv command.\n",
    "\n",
    "GCS_FILE_PATH = \"gs://calitp-analytics-data/data-analyses/bus_service_increase/\"\n",
    "FILE_NAME = \"ntd_metrics_2019.csv\"\n",
    "\n",
    "df = pd.read_csv(f\"{GCS_FILE_PATH}{FILE_NAME}\")"
   ]
  },
  {
   "cell_type": "code",
   "execution_count": 3,
   "id": "2fa36e5f-7ccd-4af0-9edb-f6e0ae96d542",
   "metadata": {},
   "outputs": [],
   "source": [
    "#the FILE_NAME variable in this cell overrites the previous FILE_NAME in the previous cell, but keeps the iniial GCS_FILE_PATH variable\n",
    "\n",
    "FILE_NAME = \"ntd_vehicles_2019.csv\"\n",
    "df2 = pd.read_csv(f\"{GCS_FILE_PATH}{FILE_NAME}\")"
   ]
  },
  {
   "cell_type": "code",
   "execution_count": null,
   "id": "5cfc1e31-12d8-490e-9473-1dffe0710047",
   "metadata": {},
   "outputs": [],
   "source": [
    "#shows how many rows in the df\n",
    "len(df)"
   ]
  },
  {
   "cell_type": "code",
   "execution_count": null,
   "id": "3994dc75-80b3-4094-ad3f-d37c415587d4",
   "metadata": {},
   "outputs": [],
   "source": [
    "#count of unique values in the df\n",
    "df[\"NTD ID\"].nunique()"
   ]
  },
  {
   "cell_type": "code",
   "execution_count": null,
   "id": "e5b19028-cf65-4cd8-9bbb-e74076365374",
   "metadata": {},
   "outputs": [],
   "source": [
    "len(df2)\n",
    "df2[\"NTD ID\"].nunique()"
   ]
  },
  {
   "cell_type": "markdown",
   "id": "3aac90ed-cbf2-4ba8-bd2a-a603cb1c2b26",
   "metadata": {},
   "source": [
    "### To do:\n",
    "\n",
    "* Start with the `ntd_metrics_2019.csv` dataset.\n",
    "* Merge in the `ntd_vehicles_2019.csv` dataset from the same location within the GCS bucket, but only keep a couple of columns.\n",
    "* Print out what states there are using `value_counts`\n",
    "* Subset and only keep the following states: NY, CA, TX, ID, MS\n",
    "* Calculate some aggregate statistics grouping by states (the point of the exercise is to aggregate, less so on whether the stats make sense):\n",
    "    * Include: sum, mean, count (of operators), nunique (of city)\n",
    "    * Challenge: give a per capita measure, such as total service vehicles per 100,000 residents\n",
    "* Plot the per capita measure across the 5 states (some states are very populous and some are not...per capita hopefully normalizes pop differences)"
   ]
  },
  {
   "cell_type": "code",
   "execution_count": null,
   "id": "3d8ee58a-a478-4ca0-931d-513729dff275",
   "metadata": {},
   "outputs": [],
   "source": [
    "#prints list of cols. in the df\n",
    "list(df.columns)"
   ]
  },
  {
   "cell_type": "code",
   "execution_count": null,
   "id": "6f668dfe-406d-4786-96bd-ea5df4810119",
   "metadata": {},
   "outputs": [],
   "source": [
    "#returns counts of values, for a specific col in the df\n",
    "#in this case; returns count of values for the \"Agency\" col in the df\n",
    "\n",
    "df.Agency.value_counts()"
   ]
  },
  {
   "cell_type": "code",
   "execution_count": 5,
   "id": "44b1d105-c516-4a61-852e-32209eace2dc",
   "metadata": {},
   "outputs": [],
   "source": [
    "# COMPLETE MERGE 2 df\n",
    "\n",
    "# left inner join. got code example from Cal ITP docs\n",
    "# start with df, then merge in df2, using inner join, \n",
    "\n",
    "## for 'how', should it be 'inner' or 'left'??\n",
    "\n",
    "\n",
    "\n",
    "merge1 = pd.merge(df, df2, on = ['NTD ID', 'Agency', 'City','State', 'Legacy NTD ID'], how = 'inner')"
   ]
  },
  {
   "cell_type": "code",
   "execution_count": 6,
   "id": "b3f1abad-5f92-407f-b77c-43cc12d066cb",
   "metadata": {},
   "outputs": [],
   "source": [
    "keep_col = ['NTD ID', 'Agency', 'City','State', 'Legacy NTD ID','Mode', 'TOS', 'Primary UZA\\n Population', 'Total Service Vehicles']\n",
    "merge2 = merge1[keep_col]"
   ]
  },
  {
   "cell_type": "code",
   "execution_count": 7,
   "id": "1a513b13-3985-4408-a005-21300584f644",
   "metadata": {},
   "outputs": [
    {
     "data": {
      "text/html": [
       "<div>\n",
       "<style scoped>\n",
       "    .dataframe tbody tr th:only-of-type {\n",
       "        vertical-align: middle;\n",
       "    }\n",
       "\n",
       "    .dataframe tbody tr th {\n",
       "        vertical-align: top;\n",
       "    }\n",
       "\n",
       "    .dataframe thead th {\n",
       "        text-align: right;\n",
       "    }\n",
       "</style>\n",
       "<table border=\"1\" class=\"dataframe\">\n",
       "  <thead>\n",
       "    <tr style=\"text-align: right;\">\n",
       "      <th></th>\n",
       "      <th>NTD ID</th>\n",
       "      <th>Agency</th>\n",
       "      <th>City</th>\n",
       "      <th>State</th>\n",
       "      <th>Legacy NTD ID</th>\n",
       "      <th>Mode</th>\n",
       "      <th>TOS</th>\n",
       "      <th>Primary UZA\\n Population</th>\n",
       "      <th>Total Service Vehicles</th>\n",
       "    </tr>\n",
       "  </thead>\n",
       "  <tbody>\n",
       "    <tr>\n",
       "      <th>0</th>\n",
       "      <td>20008</td>\n",
       "      <td>MTA New York City Transit</td>\n",
       "      <td>New York</td>\n",
       "      <td>NY</td>\n",
       "      <td>2008</td>\n",
       "      <td>HR</td>\n",
       "      <td>DO</td>\n",
       "      <td>18,351,295</td>\n",
       "      <td>2,297</td>\n",
       "    </tr>\n",
       "    <tr>\n",
       "      <th>1</th>\n",
       "      <td>20008</td>\n",
       "      <td>MTA New York City Transit</td>\n",
       "      <td>New York</td>\n",
       "      <td>NY</td>\n",
       "      <td>2008</td>\n",
       "      <td>CB</td>\n",
       "      <td>DO</td>\n",
       "      <td>18,351,295</td>\n",
       "      <td>2,297</td>\n",
       "    </tr>\n",
       "    <tr>\n",
       "      <th>2</th>\n",
       "      <td>20008</td>\n",
       "      <td>MTA New York City Transit</td>\n",
       "      <td>New York</td>\n",
       "      <td>NY</td>\n",
       "      <td>2008</td>\n",
       "      <td>MB</td>\n",
       "      <td>DO</td>\n",
       "      <td>18,351,295</td>\n",
       "      <td>2,297</td>\n",
       "    </tr>\n",
       "    <tr>\n",
       "      <th>3</th>\n",
       "      <td>20008</td>\n",
       "      <td>MTA New York City Transit</td>\n",
       "      <td>New York</td>\n",
       "      <td>NY</td>\n",
       "      <td>2008</td>\n",
       "      <td>DR</td>\n",
       "      <td>PT</td>\n",
       "      <td>18,351,295</td>\n",
       "      <td>2,297</td>\n",
       "    </tr>\n",
       "    <tr>\n",
       "      <th>4</th>\n",
       "      <td>20008</td>\n",
       "      <td>MTA New York City Transit</td>\n",
       "      <td>New York</td>\n",
       "      <td>NY</td>\n",
       "      <td>2008</td>\n",
       "      <td>RB</td>\n",
       "      <td>DO</td>\n",
       "      <td>18,351,295</td>\n",
       "      <td>2,297</td>\n",
       "    </tr>\n",
       "    <tr>\n",
       "      <th>...</th>\n",
       "      <td>...</td>\n",
       "      <td>...</td>\n",
       "      <td>...</td>\n",
       "      <td>...</td>\n",
       "      <td>...</td>\n",
       "      <td>...</td>\n",
       "      <td>...</td>\n",
       "      <td>...</td>\n",
       "      <td>...</td>\n",
       "    </tr>\n",
       "    <tr>\n",
       "      <th>3647</th>\n",
       "      <td>2R02-20937</td>\n",
       "      <td>Sullivan County Transportation</td>\n",
       "      <td>Monticello</td>\n",
       "      <td>NY</td>\n",
       "      <td>2R02-042</td>\n",
       "      <td>MB</td>\n",
       "      <td>DO</td>\n",
       "      <td>0</td>\n",
       "      <td>0</td>\n",
       "    </tr>\n",
       "    <tr>\n",
       "      <th>3662</th>\n",
       "      <td>20213</td>\n",
       "      <td>City of Mechanicville</td>\n",
       "      <td>Mechanicville</td>\n",
       "      <td>NY</td>\n",
       "      <td>2213</td>\n",
       "      <td>MB</td>\n",
       "      <td>DO</td>\n",
       "      <td>594,962</td>\n",
       "      <td>0</td>\n",
       "    </tr>\n",
       "    <tr>\n",
       "      <th>3667</th>\n",
       "      <td>90269</td>\n",
       "      <td>Los Angeles County Dept. of Public Works - Ath...</td>\n",
       "      <td>Alhambra</td>\n",
       "      <td>CA</td>\n",
       "      <td>NaN</td>\n",
       "      <td>MB</td>\n",
       "      <td>PT</td>\n",
       "      <td>12,150,996</td>\n",
       "      <td>0</td>\n",
       "    </tr>\n",
       "    <tr>\n",
       "      <th>3676</th>\n",
       "      <td>9R02-91020</td>\n",
       "      <td>City of Needles, dba: Needles Area Transit</td>\n",
       "      <td>Needles</td>\n",
       "      <td>CA</td>\n",
       "      <td>9R02-063</td>\n",
       "      <td>MB</td>\n",
       "      <td>PT</td>\n",
       "      <td>0</td>\n",
       "      <td>0</td>\n",
       "    </tr>\n",
       "    <tr>\n",
       "      <th>3677</th>\n",
       "      <td>2R02-20964</td>\n",
       "      <td>Fulton County</td>\n",
       "      <td>Johnstown</td>\n",
       "      <td>NY</td>\n",
       "      <td>2R02-028</td>\n",
       "      <td>MB</td>\n",
       "      <td>PT</td>\n",
       "      <td>0</td>\n",
       "      <td>0</td>\n",
       "    </tr>\n",
       "  </tbody>\n",
       "</table>\n",
       "<p>788 rows × 9 columns</p>\n",
       "</div>"
      ],
      "text/plain": [
       "          NTD ID                                             Agency  \\\n",
       "0          20008                          MTA New York City Transit   \n",
       "1          20008                          MTA New York City Transit   \n",
       "2          20008                          MTA New York City Transit   \n",
       "3          20008                          MTA New York City Transit   \n",
       "4          20008                          MTA New York City Transit   \n",
       "...          ...                                                ...   \n",
       "3647  2R02-20937                     Sullivan County Transportation   \n",
       "3662       20213                              City of Mechanicville   \n",
       "3667       90269  Los Angeles County Dept. of Public Works - Ath...   \n",
       "3676  9R02-91020         City of Needles, dba: Needles Area Transit   \n",
       "3677  2R02-20964                                      Fulton County   \n",
       "\n",
       "               City State Legacy NTD ID Mode TOS Primary UZA\\n Population  \\\n",
       "0          New York    NY          2008   HR  DO              18,351,295    \n",
       "1          New York    NY          2008   CB  DO              18,351,295    \n",
       "2          New York    NY          2008   MB  DO              18,351,295    \n",
       "3          New York    NY          2008   DR  PT              18,351,295    \n",
       "4          New York    NY          2008   RB  DO              18,351,295    \n",
       "...             ...   ...           ...  ...  ..                      ...   \n",
       "3647     Monticello    NY      2R02-042   MB  DO                       0    \n",
       "3662  Mechanicville    NY          2213   MB  DO                 594,962    \n",
       "3667       Alhambra    CA           NaN   MB  PT              12,150,996    \n",
       "3676        Needles    CA      9R02-063   MB  PT                       0    \n",
       "3677      Johnstown    NY      2R02-028   MB  PT                       0    \n",
       "\n",
       "     Total Service Vehicles  \n",
       "0                     2,297  \n",
       "1                     2,297  \n",
       "2                     2,297  \n",
       "3                     2,297  \n",
       "4                     2,297  \n",
       "...                     ...  \n",
       "3647                      0  \n",
       "3662                      0  \n",
       "3667                      0  \n",
       "3676                      0  \n",
       "3677                      0  \n",
       "\n",
       "[788 rows x 9 columns]"
      ]
     },
     "execution_count": 7,
     "metadata": {},
     "output_type": "execute_result"
    }
   ],
   "source": [
    "#starting to filter down the merge2 df\n",
    "#filters the merge2 df. by the State col. by criteria listed in states_list\n",
    "#example syntax # df_vehicles[df_vehicles.State.isin(states_to_keep)]\n",
    "states_list = ['NY','CA', 'TX', 'ID', 'MS']\n",
    "merge2[merge2.State.isin(states_list)]"
   ]
  },
  {
   "cell_type": "code",
   "execution_count": 8,
   "id": "e007eafb-7218-4607-a97b-51301362f89a",
   "metadata": {},
   "outputs": [
    {
     "data": {
      "text/plain": [
       "CA    436\n",
       "TX    167\n",
       "NY    128\n",
       "MS     29\n",
       "ID     28\n",
       "Name: State, dtype: int64"
      ]
     },
     "execution_count": 8,
     "metadata": {},
     "output_type": "execute_result"
    }
   ],
   "source": [
    "#COMPLETE Value Counts by state\n",
    "#counts the number of times (aka frequency) each value in State col.\n",
    "#only keep rows that are in states_list\n",
    "#added value_counts() function at the end\n",
    "\n",
    "merge2[merge2.State.isin(states_list)].State.value_counts()\n"
   ]
  },
  {
   "cell_type": "code",
   "execution_count": 9,
   "id": "38145885-7c66-4d21-b8e3-ef996aa36f84",
   "metadata": {},
   "outputs": [
    {
     "data": {
      "text/plain": [
       "State\n",
       "CA    436\n",
       "TX    167\n",
       "NC    160\n",
       "WA    148\n",
       "FL    144\n",
       "Name: Agency, dtype: int64"
      ]
     },
     "execution_count": 9,
     "metadata": {},
     "output_type": "execute_result"
    }
   ],
   "source": [
    "# COMPLETE\n",
    "# Start of aggregate stats, grouped by states\n",
    "# df 'merge2' grouped by state, then by count of Agency, decending\n",
    "\n",
    "merge2.groupby('State').Agency.count().sort_values(ascending=False).head()"
   ]
  },
  {
   "cell_type": "code",
   "execution_count": 10,
   "id": "15d95261-c920-4ecb-a90a-ed97c5ea642f",
   "metadata": {},
   "outputs": [
    {
     "data": {
      "text/html": [
       "<div>\n",
       "<style scoped>\n",
       "    .dataframe tbody tr th:only-of-type {\n",
       "        vertical-align: middle;\n",
       "    }\n",
       "\n",
       "    .dataframe tbody tr th {\n",
       "        vertical-align: top;\n",
       "    }\n",
       "\n",
       "    .dataframe thead th {\n",
       "        text-align: right;\n",
       "    }\n",
       "</style>\n",
       "<table border=\"1\" class=\"dataframe\">\n",
       "  <thead>\n",
       "    <tr style=\"text-align: right;\">\n",
       "      <th></th>\n",
       "      <th>NTD ID</th>\n",
       "      <th>Agency</th>\n",
       "      <th>City</th>\n",
       "      <th>State</th>\n",
       "      <th>Legacy NTD ID</th>\n",
       "      <th>Mode</th>\n",
       "      <th>TOS</th>\n",
       "      <th>Primary UZA\\n Population</th>\n",
       "      <th>Total Service Vehicles</th>\n",
       "    </tr>\n",
       "  </thead>\n",
       "  <tbody>\n",
       "    <tr>\n",
       "      <th>count</th>\n",
       "      <td>3678</td>\n",
       "      <td>3678</td>\n",
       "      <td>3678</td>\n",
       "      <td>3678</td>\n",
       "      <td>3393</td>\n",
       "      <td>3678</td>\n",
       "      <td>3678</td>\n",
       "      <td>3678</td>\n",
       "      <td>3678</td>\n",
       "    </tr>\n",
       "    <tr>\n",
       "      <th>unique</th>\n",
       "      <td>2181</td>\n",
       "      <td>2167</td>\n",
       "      <td>1666</td>\n",
       "      <td>55</td>\n",
       "      <td>1966</td>\n",
       "      <td>18</td>\n",
       "      <td>2</td>\n",
       "      <td>444</td>\n",
       "      <td>118</td>\n",
       "    </tr>\n",
       "    <tr>\n",
       "      <th>top</th>\n",
       "      <td>10003</td>\n",
       "      <td>Massachusetts Bay Transportation Authority</td>\n",
       "      <td>Portland</td>\n",
       "      <td>CA</td>\n",
       "      <td>1003</td>\n",
       "      <td>DR</td>\n",
       "      <td>DO</td>\n",
       "      <td>0</td>\n",
       "      <td>0</td>\n",
       "    </tr>\n",
       "    <tr>\n",
       "      <th>freq</th>\n",
       "      <td>9</td>\n",
       "      <td>9</td>\n",
       "      <td>16</td>\n",
       "      <td>436</td>\n",
       "      <td>9</td>\n",
       "      <td>1879</td>\n",
       "      <td>2552</td>\n",
       "      <td>1686</td>\n",
       "      <td>1691</td>\n",
       "    </tr>\n",
       "  </tbody>\n",
       "</table>\n",
       "</div>"
      ],
      "text/plain": [
       "       NTD ID                                      Agency      City State  \\\n",
       "count    3678                                        3678      3678  3678   \n",
       "unique   2181                                        2167      1666    55   \n",
       "top     10003  Massachusetts Bay Transportation Authority  Portland    CA   \n",
       "freq        9                                           9        16   436   \n",
       "\n",
       "       Legacy NTD ID  Mode   TOS Primary UZA\\n Population  \\\n",
       "count           3393  3678  3678                     3678   \n",
       "unique          1966    18     2                      444   \n",
       "top             1003    DR    DO                       0    \n",
       "freq               9  1879  2552                     1686   \n",
       "\n",
       "       Total Service Vehicles  \n",
       "count                    3678  \n",
       "unique                    118  \n",
       "top                         0  \n",
       "freq                     1691  "
      ]
     },
     "execution_count": 10,
     "metadata": {},
     "output_type": "execute_result"
    }
   ],
   "source": [
    "# COMPLETE\n",
    "# describe function on entire DF\n",
    "\n",
    "merge2.describe()"
   ]
  },
  {
   "cell_type": "code",
   "execution_count": 11,
   "id": "ab93a258-1df8-4dba-8257-c6398cc06e92",
   "metadata": {},
   "outputs": [
    {
     "data": {
      "text/plain": [
       "City        Mode\n",
       "Alhambra    MB      10\n",
       "Visalia     DR       4\n",
       "Alhambra    DR       4\n",
       "Visalia     MB       4\n",
       "Sacramento  DR       4\n",
       "Name: Agency, dtype: int64"
      ]
     },
     "execution_count": 11,
     "metadata": {},
     "output_type": "execute_result"
    }
   ],
   "source": [
    "# COMPLETE\n",
    "# on df where State == CA, group by City, then count # of agencies. Sort by descending agencies\n",
    "#first part of the code (first \".\") defines the df and col. then functions afterwords?\n",
    "\n",
    "CA_modes = merge2[merge2.State=='CA'].groupby(['City', 'Mode']).Agency.count().sort_values(ascending=False).head()\n",
    "CA_modes"
   ]
  },
  {
   "cell_type": "code",
   "execution_count": 12,
   "id": "cb9a66a7-0d73-41b3-80cd-08a4bad8ac42",
   "metadata": {},
   "outputs": [
    {
     "data": {
      "text/html": [
       "<div>\n",
       "<style scoped>\n",
       "    .dataframe tbody tr th:only-of-type {\n",
       "        vertical-align: middle;\n",
       "    }\n",
       "\n",
       "    .dataframe tbody tr th {\n",
       "        vertical-align: top;\n",
       "    }\n",
       "\n",
       "    .dataframe thead th {\n",
       "        text-align: right;\n",
       "    }\n",
       "</style>\n",
       "<table border=\"1\" class=\"dataframe\">\n",
       "  <thead>\n",
       "    <tr style=\"text-align: right;\">\n",
       "      <th></th>\n",
       "      <th>count</th>\n",
       "      <th>nunique</th>\n",
       "      <th>min</th>\n",
       "    </tr>\n",
       "    <tr>\n",
       "      <th>State</th>\n",
       "      <th></th>\n",
       "      <th></th>\n",
       "      <th></th>\n",
       "    </tr>\n",
       "  </thead>\n",
       "  <tbody>\n",
       "    <tr>\n",
       "      <th>AK</th>\n",
       "      <td>34</td>\n",
       "      <td>2</td>\n",
       "      <td>DO</td>\n",
       "    </tr>\n",
       "    <tr>\n",
       "      <th>AL</th>\n",
       "      <td>49</td>\n",
       "      <td>2</td>\n",
       "      <td>DO</td>\n",
       "    </tr>\n",
       "    <tr>\n",
       "      <th>AR</th>\n",
       "      <td>26</td>\n",
       "      <td>2</td>\n",
       "      <td>DO</td>\n",
       "    </tr>\n",
       "    <tr>\n",
       "      <th>AS</th>\n",
       "      <td>2</td>\n",
       "      <td>1</td>\n",
       "      <td>DO</td>\n",
       "    </tr>\n",
       "    <tr>\n",
       "      <th>AZ</th>\n",
       "      <td>55</td>\n",
       "      <td>2</td>\n",
       "      <td>DO</td>\n",
       "    </tr>\n",
       "  </tbody>\n",
       "</table>\n",
       "</div>"
      ],
      "text/plain": [
       "       count  nunique min\n",
       "State                    \n",
       "AK        34        2  DO\n",
       "AL        49        2  DO\n",
       "AR        26        2  DO\n",
       "AS         2        1  DO\n",
       "AZ        55        2  DO"
      ]
     },
     "execution_count": 12,
     "metadata": {},
     "output_type": "execute_result"
    }
   ],
   "source": [
    "# COMPLETE\n",
    "# on df, group by state, then find count of, # of unique of, and min values of \"TOS\".\n",
    "\n",
    "merge2.groupby('State').TOS.agg(['count', 'nunique', 'min']).head()"
   ]
  },
  {
   "cell_type": "code",
   "execution_count": 13,
   "id": "7212dfc3-6790-4a3b-8554-7175e8425ad4",
   "metadata": {},
   "outputs": [
    {
     "data": {
      "text/plain": [
       "<AxesSubplot:xlabel='City'>"
      ]
     },
     "execution_count": 13,
     "metadata": {},
     "output_type": "execute_result"
    },
    {
     "data": {
      "image/png": "[encoded data removed]",
      "text/plain": [
       "<Figure size 640x480 with 1 Axes>"
      ]
     },
     "metadata": {},
     "output_type": "display_data"
    }
   ],
   "source": [
    "#COMPLETE\n",
    "#makeing a chart with matplotlib\n",
    "# uses CA modes tables to make a bar chart of the data\n",
    "\n",
    "import matplotlib as plt\n",
    "CA_modes.groupby('City').mean().plot(kind='bar')"
   ]
  },
  {
   "cell_type": "markdown",
   "id": "62261f84-c908-4285-9a8c-a0e95f425629",
   "metadata": {},
   "source": [
    "### Helpful Hints and Best Practices\n",
    "\n",
    "* Start with comprehensive approach in writing down all the lines of code to clean data. \n",
    "* Once the data cleaning process is done, work on refining the code and tidying it to see what steps can be chained together, what steps are done repeatedly (use a function!), etc.\n",
    "\n",
    "#### Chaining\n",
    "Similar to **piping** in R, where you can pipe multiple operations in 1 line of code with `>>`, you can do a similar method of chaining in Python. There is also a `df.pipe` function, but that's slightly different.\n",
    "\n",
    "Make use of parentheses to do this. Also, use `df.assign` (see below) so you don't run into the `SettingWithCopyWarning`, which may pop up if you decide to subset your data. \n",
    "\n",
    "#### Assign \n",
    "You can create new columns in place, and the warning that comes up is mostly harmless. But, `assign` also lets you chain more operations after. [More clarification.](https://pythonguides.com/add-a-column-to-a-dataframe-in-python-pandas/)\n",
    "```\n",
    "states_clean = (states_clean\n",
    "    # Assign is similar to R dplyr's mutate\n",
    "    .assign(\n",
    "        # Strip leading or trailing blanks (slightly different than replace)\n",
    "        # Decide if you want to replace all blanks or just leading/trailing\n",
    "        Agency = (states_clean.Agency.str.strip()\n",
    "                .str.replace('(', '').str.replace(')', '')\n",
    "        ),\n",
    "        # Do something similar for City as above\n",
    "        City = states_clean.City.str.strip(),\n",
    "        # Replace blanks with nothing\n",
    "        State = states_clean.State.str.replace(' ', '')\n",
    "    ).astype({\n",
    "        \"Population\": int, \n",
    "        \"Fare_Revenues\": int,\n",
    "    })\n",
    ")\n",
    "```\n",
    "\n",
    "Alternatively, try it with a loop:\n",
    "\n",
    "```\n",
    "for c in [\"Agency\", \"City\"]:\n",
    "    df[c] = (df[c].str.strip()\n",
    "            .str.replace('(', '')\n",
    "            .str.replace(')', '')\n",
    "            .astype(int)\n",
    "            )\n",
    "```\n",
    "\n",
    "#### Using `str.contains` with some special characters\n",
    "Use backslash `\\` to \"escape\". [StackOverflow explanation](https://stackoverflow.com/questions/48699907/error-unbalanced-parenthesis-while-checking-if-an-item-presents-in-a-pandas-d)\n",
    "`states_clean[states_clean.Fare_Revenues.str.contains(\"\\(\")]`\n",
    "\n",
    "\n",
    "#### Merging\n",
    "If your merge results produces a `col_x` and `col_y`, add more columns to your list of merge columns, with `on = [\"col1\", \"col2\"]`.\n",
    "\n",
    "#### Use `isin` to filter by multiple conditions\n",
    "\n",
    "```\n",
    "keep_me = [\"CA\", \"NY\", \"TX\"]\n",
    "df2 = df[df.State.isin(keep_me)]\n",
    "```"
   ]
  },
  {
   "cell_type": "code",
   "execution_count": null,
   "id": "2db26245-2188-41cd-bc31-4444f11162e2",
   "metadata": {},
   "outputs": [],
   "source": []
  }
 ],
 "metadata": {
  "kernelspec": {
   "display_name": "Python 3 (ipykernel)",
   "language": "python",
   "name": "python3"
  },
  "language_info": {
   "codemirror_mode": {
    "name": "ipython",
    "version": 3
   },
   "file_extension": ".py",
   "mimetype": "text/x-python",
   "name": "python",
   "nbconvert_exporter": "python",
   "pygments_lexer": "ipython3",
   "version": "3.9.13"
  }
 },
 "nbformat": 4,
 "nbformat_minor": 5
}
